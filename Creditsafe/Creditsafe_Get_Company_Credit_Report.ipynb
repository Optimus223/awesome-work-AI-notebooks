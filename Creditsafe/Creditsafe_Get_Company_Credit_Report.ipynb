{
 "cells": [
  {
   "cell_type": "markdown",
   "id": "6b849c07-ae86-4d96-ae84-a816c1bb46b4",
   "metadata": {
    "papermill": {},
    "tags": []
   },
   "source": [
    "<img width=\"10%\" alt=\"Naas\" src=\"https://landen.imgix.net/jtci2pxwjczr/assets/5ice39g4.png?w=160\"/>"
   ]
  },
  {
   "cell_type": "markdown",
   "id": "ebc52a63-d5b4-4fac-9b03-5754ce83cb39",
   "metadata": {
    "papermill": {},
    "tags": []
   },
   "source": [
    "# Creditsafe - Get Company Credit Report"
   ]
  },
  {
   "cell_type": "markdown",
   "id": "20f3e800-5de0-4a13-80f3-43568bd8f38f",
   "metadata": {
    "papermill": {},
    "tags": []
   },
   "source": [
    "**Tags:** #creditsafe #api #enterprise #integrations #company #creditreport"
   ]
  },
  {
   "cell_type": "markdown",
   "id": "a3abf92c-b37b-4396-8086-b3c305f3379a",
   "metadata": {
    "papermill": {},
    "tags": []
   },
   "source": [
    "**Author:** [Florent Ravenel](https://www.linkedin.com/in/florent-ravenel/)"
   ]
  },
  {
   "cell_type": "markdown",
   "id": "25807f1b-aec9-461c-82f8-5bfb4394481a",
   "metadata": {
    "papermill": {},
    "tags": []
   },
   "source": [
    "**Description:** This notebook will demonstrate how to use the Creditsafe API to get a company credit report."
   ]
  },
  {
   "cell_type": "markdown",
   "id": "f1bdf5fd-3bdf-4b73-85f0-3a8f5fcd0a1e",
   "metadata": {
    "papermill": {},
    "tags": []
   },
   "source": [
    "**References:**\n- [Creditsafe API Documentation](https://www.creditsafe.com/gb/en/enterprise/integrations/api-documentation.html#tag/Companies/operation/companyCreditReport)"
   ]
  },
  {
   "cell_type": "markdown",
   "id": "3a6e027e-78bf-4f54-91c5-7f21f1d32ec9",
   "metadata": {
    "papermill": {},
    "tags": []
   },
   "source": [
    "## Input"
   ]
  },
  {
   "cell_type": "markdown",
   "id": "217433e9-a84d-4b69-af58-5da18e41bd2c",
   "metadata": {
    "papermill": {},
    "tags": []
   },
   "source": [
    "### Import libraries"
   ]
  },
  {
   "cell_type": "code",
   "execution_count": null,
   "id": "6a364932-338e-4166-9195-2af0aa8b8c89",
   "metadata": {
    "papermill": {},
    "tags": []
   },
   "source": "import requests",
   "outputs": []
  },
  {
   "cell_type": "markdown",
   "id": "7f5e8cc3-0005-4ec6-9716-5fbc5dbcdc96",
   "metadata": {
    "papermill": {},
    "tags": []
   },
   "source": [
    "### Setup Variables\n- `api_key`: [Creditsafe API Key](https://www.creditsafe.com/gb/en/enterprise/integrations/api-documentation.html#tag/Authentication/operation/authenticate)"
   ]
  },
  {
   "cell_type": "code",
   "execution_count": null,
   "id": "b155c65f-55b4-4fc5-8090-4da7e572d74a",
   "metadata": {
    "papermill": {},
    "tags": []
   },
   "source": "api_key = \"<YOUR_API_KEY>\"",
   "outputs": []
  },
  {
   "cell_type": "markdown",
   "id": "b463cf9d-7f08-40c2-bbd9-6abe441eeb93",
   "metadata": {
    "papermill": {},
    "tags": []
   },
   "source": [
    "## Model"
   ]
  },
  {
   "cell_type": "markdown",
   "id": "bc6092f8-dc23-4747-a942-e6102c3ff8a5",
   "metadata": {
    "papermill": {},
    "tags": []
   },
   "source": [
    "### Get Company Credit Report"
   ]
  },
  {
   "cell_type": "markdown",
   "id": "5e8f5248-ea8e-46a8-8596-df6768ecea08",
   "metadata": {
    "papermill": {},
    "tags": []
   },
   "source": [
    "This function will use the Creditsafe API to get a company credit report."
   ]
  },
  {
   "cell_type": "code",
   "execution_count": null,
   "id": "4d96ef3a-1797-4ca2-8343-4c95fd7c80a8",
   "metadata": {
    "papermill": {},
    "tags": []
   },
   "source": "def get_company_credit_report(api_key, company_id):\n    url = f\"https://api.creditsafe.com/CreditSafeConnect/Company/{company_id}/CreditReport\"\n    headers = {\"Authorization\": f\"Bearer {api_key}\"}\n    response = requests.get(url, headers=headers)\n    return response.json()",
   "outputs": []
  },
  {
   "cell_type": "markdown",
   "id": "ec3cc166-43df-4fa7-b5b7-0dc97cc8fc90",
   "metadata": {
    "papermill": {},
    "tags": []
   },
   "source": [
    "## Output"
   ]
  },
  {
   "cell_type": "markdown",
   "id": "2a3bce65-cddc-494d-96dd-82b6c6639abe",
   "metadata": {
    "papermill": {},
    "tags": []
   },
   "source": [
    "### Display result"
   ]
  },
  {
   "cell_type": "code",
   "execution_count": null,
   "id": "6274b04f-a4b8-4453-a274-bb56a3570d86",
   "metadata": {
    "papermill": {},
    "tags": []
   },
   "source": "company_id = \"12345\"\ncompany_credit_report = get_company_credit_report(api_key, company_id)\nprint(company_credit_report)",
   "outputs": []
  }
 ],
 "metadata": {
  "kernelspec": {
   "display_name": "Python 3",
   "language": "python",
   "name": "python3"
  },
  "language_info": {
   "codemirror_mode": {
    "name": "ipython",
    "version": 3
   },
   "file_extension": ".py",
   "mimetype": "text/x-python",
   "name": "python",
   "nbconvert_exporter": "python",
   "pygments_lexer": "ipython3",
   "version": "3.9.6"
  },
  "widgets": {
   "application/vnd.jupyter.widget-state+json": {
    "state": {},
    "version_major": 2,
    "version_minor": 0
   }
  }
 },
 "nbformat": 4,
 "nbformat_minor": 5
}