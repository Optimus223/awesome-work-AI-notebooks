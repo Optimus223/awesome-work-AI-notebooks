{
 "cells": [
  {
   "cell_type": "markdown",
   "id": "6b849c07-ae86-4d96-ae84-a816c1bb46b4",
   "metadata": {
    "papermill": {},
    "tags": []
   },
   "source": [
    "<img width=\"10%\" alt=\"Naas\" src=\"https://landen.imgix.net/jtci2pxwjczr/assets/5ice39g4.png?w=160\"/>"
   ]
  },
  {
   "cell_type": "markdown",
   "id": "ebc52a63-d5b4-4fac-9b03-5754ce83cb39",
   "metadata": {
    "papermill": {},
    "tags": []
   },
   "source": [
    "# Creditsafe - Get Company Credit Report"
   ]
  },
  {
   "cell_type": "markdown",
   "id": "20f3e800-5de0-4a13-80f3-43568bd8f38f",
   "metadata": {
    "papermill": {},
    "tags": []
   },
   "source": [
    "**Tags:** #creditsafe #api #enterprise #integrations #company #creditreport"
   ]
  },
  {
   "cell_type": "markdown",
   "id": "a3abf92c-b37b-4396-8086-b3c305f3379a",
   "metadata": {
    "papermill": {},
    "tags": []
   },
   "source": [
    "**Author:** [Florent Ravenel](https://www.linkedin.com/in/florent-ravenel/)"
   ]
  },
  {
   "cell_type": "markdown",
   "id": "25807f1b-aec9-461c-82f8-5bfb4394481a",
   "metadata": {
    "papermill": {},
    "tags": []
   },
   "source": [
    "**Description:** This notebook will demonstrate how to use the Creditsafe API to get a company credit report."
   ]
  },
  {
   "cell_type": "markdown",
   "id": "f1bdf5fd-3bdf-4b73-85f0-3a8f5fcd0a1e",
   "metadata": {
    "papermill": {},
    "tags": []
   },
   "source": [
    "**References:**\n",
    "- [Creditsafe API Documentation](https://www.creditsafe.com/gb/en/enterprise/integrations/api-documentation.html#tag/Companies/operation/companyCreditReport)"
   ]
  },
  {
   "cell_type": "markdown",
   "id": "3a6e027e-78bf-4f54-91c5-7f21f1d32ec9",
   "metadata": {
    "papermill": {},
    "tags": []
   },
   "source": [
    "## Input"
   ]
  },
  {
   "cell_type": "markdown",
   "id": "217433e9-a84d-4b69-af58-5da18e41bd2c",
   "metadata": {
    "papermill": {},
    "tags": []
   },
   "source": [
    "### Import libraries"
   ]
  },
  {
   "cell_type": "code",
   "execution_count": 1,
   "id": "6a364932-338e-4166-9195-2af0aa8b8c89",
   "metadata": {
    "execution": {
     "iopub.execute_input": "2023-03-08T16:08:28.889039Z",
     "iopub.status.busy": "2023-03-08T16:08:28.888764Z",
     "iopub.status.idle": "2023-03-08T16:08:31.962753Z",
     "shell.execute_reply": "2023-03-08T16:08:31.959661Z",
     "shell.execute_reply.started": "2023-03-08T16:08:28.888969Z"
    },
    "papermill": {},
    "tags": []
   },
   "outputs": [],
   "source": [
    "import requests\n",
    "import naas"
   ]
  },
  {
   "cell_type": "markdown",
   "id": "7f5e8cc3-0005-4ec6-9716-5fbc5dbcdc96",
   "metadata": {
    "papermill": {},
    "tags": []
   },
   "source": [
    "### Setup Variables\n",
    "- `username`: username used to connect to Creditsafe\n",
    "- `password`: password used to connect to Creditsafe\n",
    "- `env`: if 'sandbox' then we will change BASE URL\n",
    "- `company_id`: company ID used in Creditsafe\n",
    "- `siret`: SIRET to be set (if French company)"
   ]
  },
  {
   "cell_type": "code",
   "execution_count": 2,
   "id": "b155c65f-55b4-4fc5-8090-4da7e572d74a",
   "metadata": {
    "execution": {
     "iopub.execute_input": "2023-03-08T16:08:31.965293Z",
     "iopub.status.busy": "2023-03-08T16:08:31.964892Z",
     "iopub.status.idle": "2023-03-08T16:08:32.189112Z",
     "shell.execute_reply": "2023-03-08T16:08:32.188468Z",
     "shell.execute_reply.started": "2023-03-08T16:08:31.965261Z"
    },
    "papermill": {},
    "tags": []
   },
   "outputs": [],
   "source": [
    "username = naas.secret.get(\"CREDITSAFE_USERNAME\")\n",
    "password = naas.secret.get(\"CREDITSAFE_PASSWORD\")\n",
    "env = \"sandbox\"\n",
    "company_id = None\n",
    "siret = \"85272297400056\""
   ]
  },
  {
   "cell_type": "markdown",
   "id": "b463cf9d-7f08-40c2-bbd9-6abe441eeb93",
   "metadata": {
    "papermill": {},
    "tags": []
   },
   "source": [
    "## Model"
   ]
  },
  {
   "cell_type": "markdown",
   "id": "9a0fd0e8-ad18-4efb-b475-63963ddbc101",
   "metadata": {},
   "source": [
    "### Create base url"
   ]
  },
  {
   "cell_type": "code",
   "execution_count": 3,
   "id": "a36f804a-7cea-4783-bfe4-7c1be1765be7",
   "metadata": {
    "execution": {
     "iopub.execute_input": "2023-03-08T16:08:33.097283Z",
     "iopub.status.busy": "2023-03-08T16:08:33.097065Z",
     "iopub.status.idle": "2023-03-08T16:08:33.100230Z",
     "shell.execute_reply": "2023-03-08T16:08:33.099649Z",
     "shell.execute_reply.started": "2023-03-08T16:08:33.097260Z"
    },
    "tags": []
   },
   "outputs": [],
   "source": [
    "if env == \"sandbox\":\n",
    "    BASE_URL = f\"https://connect.sandbox.creditsafe.com/v1\"\n",
    "else:\n",
    "    BASE_URL = \"https://connect.creditsafe.com/v1\"    "
   ]
  },
  {
   "cell_type": "markdown",
   "id": "0c1344b6-23ca-40d2-9c0a-8ed5fc94520b",
   "metadata": {},
   "source": [
    "### Get access token"
   ]
  },
  {
   "cell_type": "code",
   "execution_count": 17,
   "id": "41c511ae-29af-4db4-a9f9-1d21b594960a",
   "metadata": {
    "execution": {
     "iopub.execute_input": "2023-03-08T16:12:33.025213Z",
     "iopub.status.busy": "2023-03-08T16:12:33.024923Z",
     "iopub.status.idle": "2023-03-08T16:12:33.145990Z",
     "shell.execute_reply": "2023-03-08T16:12:33.145493Z",
     "shell.execute_reply.started": "2023-03-08T16:12:33.025182Z"
    },
    "tags": []
   },
   "outputs": [],
   "source": [
    "def get_access_token(\n",
    "    username,\n",
    "    password\n",
    "):\n",
    "    # Init\n",
    "    url = f\"{BASE_URL}/authenticate\"\n",
    "    \n",
    "    # Headers\n",
    "    headers = {\n",
    "        \"Content type\": \"application/json\"\n",
    "    }\n",
    "    \n",
    "    # Payload\n",
    "    data = {\n",
    "        \"username\": username,\n",
    "        \"password\": password,\n",
    "    }\n",
    "    \n",
    "    # Request\n",
    "    res = requests.post(url, headers=headers, data=data)\n",
    "    res.raise_for_status\n",
    "    if res.status_code == 200:\n",
    "        return res.json().get(\"token\")\n",
    "    else:\n",
    "        return None\n",
    "    \n",
    "access_token = get_access_token(username, password)\n",
    "print(access_token)"
   ]
  },
  {
   "cell_type": "markdown",
   "id": "8cf0f3fc-0514-436c-b569-c026c3f92399",
   "metadata": {},
   "source": [
    "### Get Company Credit Report"
   ]
  },
  {
   "cell_type": "code",
   "execution_count": 23,
   "id": "c1c8a443-afe1-46ed-865b-fe64628425a5",
   "metadata": {
    "execution": {
     "iopub.execute_input": "2023-03-08T16:14:06.560533Z",
     "iopub.status.busy": "2023-03-08T16:14:06.560283Z",
     "iopub.status.idle": "2023-03-08T16:14:07.458483Z",
     "shell.execute_reply": "2023-03-08T16:14:07.457814Z",
     "shell.execute_reply.started": "2023-03-08T16:14:06.560508Z"
    },
    "tags": []
   },
   "outputs": [
    {
     "name": "stdout",
     "output_type": "stream",
     "text": [
      "https://connect.sandbox.creditsafe.com/v1/companies/FR-X-85272297400056?language=fr\n",
      "<Response [200]>\n"
     ]
    }
   ],
   "source": [
    "def get_company_report(\n",
    "    access_token,\n",
    "    company_id=None,\n",
    "    siret=None\n",
    "):\n",
    "    if siret:\n",
    "        company_id = f'FR-X-{siret}'\n",
    "    # Init\n",
    "    url = f\"{BASE_URL}/companies/{company_id}?language=fr\"\n",
    "    \n",
    "    # Headers\n",
    "    headers = {\n",
    "        \"Authorization\": f\"Bearer {access_token}\"\n",
    "    }\n",
    "    \n",
    "    # Request\n",
    "    res = requests.get(url, headers=headers)\n",
    "    res.raise_for_status\n",
    "    if res.status_code == 200:\n",
    "        return res.json()\n",
    "    else:\n",
    "        return None\n",
    "    \n",
    "company_report = get_company_report(\n",
    "    access_token,\n",
    "    company_id=company_id,\n",
    "    siret=siret\n",
    ")"
   ]
  },
  {
   "cell_type": "code",
   "execution_count": 24,
   "id": "eb4182aa-eb9e-40c4-8839-fbc9fde062a0",
   "metadata": {
    "execution": {
     "iopub.execute_input": "2023-03-08T16:14:15.182939Z",
     "iopub.status.busy": "2023-03-08T16:14:15.182410Z",
     "iopub.status.idle": "2023-03-08T16:14:15.190956Z",
     "shell.execute_reply": "2023-03-08T16:14:15.190337Z",
     "shell.execute_reply.started": "2023-03-08T16:14:15.182843Z"
    },
    "tags": []
   },
   "outputs": [
    {
     "name": "stdout",
     "output_type": "stream",
     "text": [
      "companyId\n",
      "language\n",
      "companySummary\n",
      "companyIdentification\n",
      "creditScore\n",
      "contactInformation\n",
      "shareCapitalStructure\n",
      "directors\n",
      "paymentData\n",
      "negativeInformation\n",
      "additionalInformation\n"
     ]
    }
   ],
   "source": [
    "from pprint import pprint\n",
    "\n",
    "report = company_report.get(\"report\")\n",
    "for r in report:\n",
    "    print(r)"
   ]
  },
  {
   "cell_type": "code",
   "execution_count": 20,
   "id": "81c15a15-6486-4e7a-b5f7-e017350e3492",
   "metadata": {
    "execution": {
     "iopub.execute_input": "2023-03-08T15:51:30.277610Z",
     "iopub.status.busy": "2023-03-08T15:51:30.277369Z",
     "iopub.status.idle": "2023-03-08T15:51:30.284813Z",
     "shell.execute_reply": "2023-03-08T15:51:30.284288Z",
     "shell.execute_reply.started": "2023-03-08T15:51:30.277587Z"
    },
    "tags": []
   },
   "outputs": [
    {
     "name": "stdout",
     "output_type": "stream",
     "text": [
      "{'businessName': 'ACAI AND YOU',\n",
      " 'companyNumber': 'FR34373758',\n",
      " 'companyRegistrationNumber': '85272297400056',\n",
      " 'companyStatus': {'description': 'Actif économiquement',\n",
      "                   'isActive': True,\n",
      "                   'providerStatus': 'Actif',\n",
      "                   'status': 'Active'},\n",
      " 'country': 'FR',\n",
      " 'creditRating': {'commonDescription': 'Risque Faible',\n",
      "                  'commonValue': 'B',\n",
      "                  'creditLimit': {'currency': 'EUR', 'value': '20000'},\n",
      "                  'pod': 0.00795,\n",
      "                  'providerDescription': 'Risque faible',\n",
      "                  'providerValue': {'maxValue': '100',\n",
      "                                    'minValue': '1',\n",
      "                                    'value': '51'}},\n",
      " 'mainActivity': {'classification': 'NAF/APE',\n",
      "                  'code': '5610C',\n",
      "                  'description': 'Restauration de type rapide'}}\n"
     ]
    }
   ],
   "source": [
    "pprint(report.get(\"companySummary\"))"
   ]
  },
  {
   "cell_type": "code",
   "execution_count": 26,
   "id": "4319a1c7-3a26-4898-bc3e-11ccb75c426d",
   "metadata": {
    "execution": {
     "iopub.execute_input": "2023-03-08T15:52:45.917117Z",
     "iopub.status.busy": "2023-03-08T15:52:45.916845Z",
     "iopub.status.idle": "2023-03-08T15:52:45.927965Z",
     "shell.execute_reply": "2023-03-08T15:52:45.927377Z",
     "shell.execute_reply.started": "2023-03-08T15:52:45.917089Z"
    },
    "tags": []
   },
   "outputs": [
    {
     "name": "stdout",
     "output_type": "stream",
     "text": [
      "{'currentCreditRating': {'commonDescription': 'Risque Faible',\n",
      "                         'commonValue': 'B',\n",
      "                         'creditLimit': {'currency': 'EUR', 'value': '20000'},\n",
      "                         'pod': 0.00795,\n",
      "                         'providerDescription': 'Risque faible',\n",
      "                         'providerValue': {'maxValue': '100',\n",
      "                                           'minValue': '1',\n",
      "                                           'value': '51'}},\n",
      " 'latestRatingChangeDate': '2023-02-15T00:00:00Z',\n",
      " 'previousCreditRating': {'commonDescription': 'Risque Elevé',\n",
      "                          'commonValue': 'D',\n",
      "                          'creditLimit': {'currency': 'EUR', 'value': '0'},\n",
      "                          'pod': 0.101,\n",
      "                          'providerDescription': 'Risque très Elevé',\n",
      "                          'providerValue': {'maxValue': '100',\n",
      "                                            'minValue': '1',\n",
      "                                            'value': '12'}}}\n"
     ]
    }
   ],
   "source": [
    "pprint(report.get(\"creditScore\"))"
   ]
  },
  {
   "cell_type": "markdown",
   "id": "ec3cc166-43df-4fa7-b5b7-0dc97cc8fc90",
   "metadata": {
    "papermill": {},
    "tags": []
   },
   "source": [
    "## Output"
   ]
  },
  {
   "cell_type": "markdown",
   "id": "2a3bce65-cddc-494d-96dd-82b6c6639abe",
   "metadata": {
    "papermill": {},
    "tags": []
   },
   "source": [
    "### Display result"
   ]
  },
  {
   "cell_type": "code",
   "execution_count": null,
   "id": "6274b04f-a4b8-4453-a274-bb56a3570d86",
   "metadata": {
    "papermill": {},
    "tags": []
   },
   "outputs": [],
   "source": [
    "print(company_credit_report)"
   ]
  }
 ],
 "metadata": {
  "kernelspec": {
   "display_name": "Python 3",
   "language": "python",
   "name": "python3"
  },
  "language_info": {
   "codemirror_mode": {
    "name": "ipython",
    "version": 3
   },
   "file_extension": ".py",
   "mimetype": "text/x-python",
   "name": "python",
   "nbconvert_exporter": "python",
   "pygments_lexer": "ipython3",
   "version": "3.9.6"
  },
  "widgets": {
   "application/vnd.jupyter.widget-state+json": {
    "state": {},
    "version_major": 2,
    "version_minor": 0
   }
  }
 },
 "nbformat": 4,
 "nbformat_minor": 5
}
