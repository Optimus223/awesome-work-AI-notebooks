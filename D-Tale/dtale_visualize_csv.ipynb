{
 "cells": [
  {
   "cell_type": "markdown",
   "id": "latin-packing",
   "metadata": {
    "execution": {
     "iopub.execute_input": "2021-02-23T14:22:16.610471Z",
     "iopub.status.busy": "2021-02-23T14:22:16.610129Z",
     "iopub.status.idle": "2021-02-23T14:22:16.627784Z",
     "shell.execute_reply": "2021-02-23T14:22:16.626866Z",
     "shell.execute_reply.started": "2021-02-23T14:22:16.610384Z"
    },
    "papermill": {},
    "tags": []
   },
   "source": [
    "<img width=\"10%\" alt=\"Naas\" src=\"https://landen.imgix.net/jtci2pxwjczr/assets/5ice39g4.png?w=160\"/>"
   ]
  },
  {
   "cell_type": "markdown",
   "id": "compressed-wilson",
   "metadata": {
    "papermill": {},
    "tags": []
   },
   "source": [
    "# D-Tale - Visualize CSV\n",
    "<a href=\"https://app.naas.ai/user-redirect/naas/downloader?url=https://raw.githubusercontent.com/jupyter-naas/awesome-notebooks/master/D-Tale/dtale_visualize_csv.ipynb\" target=\"_parent\">\n",
    "<img src=\"https://img.shields.io/badge/-Open%20in%20Naas-success?labelColor=000000&logo=data:image/svg+xml;base64,PD94bWwgdmVyc2lvbj0iMS4wIiBlbmNvZGluZz0iVVRGLTgiPz4KPHN2ZyB3aWR0aD0iMTAyNHB4IiBoZWlnaHQ9IjEwMjRweCIgdmlld0JveD0iMCAwIDEwMjQgMTAyNCIgeG1sbnM9Imh0dHA6Ly93d3cudzMub3JnLzIwMDAvc3ZnIiB4bWxuczp4bGluaz0iaHR0cDovL3d3dy53My5vcmcvMTk5OS94bGluayIgdmVyc2lvbj0iMS4xIj4KIDwhLS0gR2VuZXJhdGVkIGJ5IFBpeGVsbWF0b3IgUHJvIDIuMC41IC0tPgogPGRlZnM+CiAgPHRleHQgaWQ9InN0cmluZyIgdHJhbnNmb3JtPSJtYXRyaXgoMS4wIDAuMCAwLjAgMS4wIDIyOC4wIDU0LjUpIiBmb250LWZhbWlseT0iQ29tZm9ydGFhLVJlZ3VsYXIsIENvbWZvcnRhYSIgZm9udC1zaXplPSI4MDAiIHRleHQtZGVjb3JhdGlvbj0ibm9uZSIgZmlsbD0iI2ZmZmZmZiIgeD0iMS4xOTk5OTk5OTk5OTk5ODg2IiB5PSI3MDUuMCI+bjwvdGV4dD4KIDwvZGVmcz4KIDx1c2UgaWQ9Im4iIHhsaW5rOmhyZWY9IiNzdHJpbmciLz4KPC9zdmc+Cg==\"/>\n",
    "</a>"
   ]
  },
  {
   "cell_type": "markdown",
   "id": "religious-programmer",
   "metadata": {},
   "source": [
    "**Tags:** #csv #pandas #snippet #read #dataframe #visualize #dtale"
   ]
  },
  {
   "cell_type": "markdown",
   "id": "1fe9f56e-561c-4f52-aef8-b861c9462107",
   "metadata": {},
   "source": [
    "**Author:** [Minura Punchihewa](https://www.linkedin.com/in/minurapunchihewa/)"
   ]
  },
  {
   "cell_type": "markdown",
   "id": "distinguished-truth",
   "metadata": {
    "papermill": {},
    "tags": []
   },
   "source": [
    "## Input"
   ]
  },
  {
   "cell_type": "markdown",
   "id": "5f0de8b4",
   "metadata": {},
   "source": [
    "### Install D-Tale"
   ]
  },
  {
   "cell_type": "code",
   "execution_count": 1,
   "id": "e384c00e",
   "metadata": {},
   "outputs": [
    {
     "name": "stdout",
     "output_type": "stream",
     "text": [
      "Requirement already satisfied: dtale in /home/minura/anaconda3/envs/awesome-notebooks/lib/python3.8/site-packages (2.2.0)\n",
      "Requirement already satisfied: flask-ngrok in /home/minura/anaconda3/envs/awesome-notebooks/lib/python3.8/site-packages (from dtale) (0.0.25)\n",
      "Requirement already satisfied: plotly>=5.0.0 in /home/minura/anaconda3/envs/awesome-notebooks/lib/python3.8/site-packages (from dtale) (5.6.0)\n",
      "Requirement already satisfied: requests in /home/minura/anaconda3/envs/awesome-notebooks/lib/python3.8/site-packages (from dtale) (2.27.1)\n",
      "Requirement already satisfied: matplotlib in /home/minura/anaconda3/envs/awesome-notebooks/lib/python3.8/site-packages (from dtale) (3.5.1)\n",
      "Requirement already satisfied: scikit-learn==0.24.2 in /home/minura/anaconda3/envs/awesome-notebooks/lib/python3.8/site-packages (from dtale) (0.24.2)\n",
      "Requirement already satisfied: missingno<=0.4.2 in /home/minura/anaconda3/envs/awesome-notebooks/lib/python3.8/site-packages (from dtale) (0.4.2)\n",
      "Requirement already satisfied: squarify in /home/minura/anaconda3/envs/awesome-notebooks/lib/python3.8/site-packages (from dtale) (0.4.3)\n",
      "Requirement already satisfied: dash>=2.0.0 in /home/minura/anaconda3/envs/awesome-notebooks/lib/python3.8/site-packages (from dtale) (2.3.1)\n",
      "Requirement already satisfied: strsimpy in /home/minura/anaconda3/envs/awesome-notebooks/lib/python3.8/site-packages (from dtale) (0.2.1)\n",
      "Requirement already satisfied: xlrd in /home/minura/anaconda3/envs/awesome-notebooks/lib/python3.8/site-packages (from dtale) (2.0.1)\n",
      "Requirement already satisfied: future>=0.14.0 in /home/minura/anaconda3/envs/awesome-notebooks/lib/python3.8/site-packages (from dtale) (0.18.2)\n",
      "Requirement already satisfied: itsdangerous in /home/minura/anaconda3/envs/awesome-notebooks/lib/python3.8/site-packages (from dtale) (2.1.2)\n",
      "Requirement already satisfied: dash-bootstrap-components in /home/minura/anaconda3/envs/awesome-notebooks/lib/python3.8/site-packages (from dtale) (1.1.0)\n",
      "Requirement already satisfied: statsmodels in /home/minura/anaconda3/envs/awesome-notebooks/lib/python3.8/site-packages (from dtale) (0.13.2)\n",
      "Requirement already satisfied: pandas in /home/minura/anaconda3/envs/awesome-notebooks/lib/python3.8/site-packages (from dtale) (1.4.2)\n",
      "Requirement already satisfied: seaborn in /home/minura/anaconda3/envs/awesome-notebooks/lib/python3.8/site-packages (from dtale) (0.11.2)\n",
      "Requirement already satisfied: et-xmlfile in /home/minura/anaconda3/envs/awesome-notebooks/lib/python3.8/site-packages (from dtale) (1.1.0)\n",
      "Requirement already satisfied: ppscore in /home/minura/anaconda3/envs/awesome-notebooks/lib/python3.8/site-packages (from dtale) (1.2.0)\n",
      "Requirement already satisfied: numpy in /home/minura/anaconda3/envs/awesome-notebooks/lib/python3.8/site-packages (from dtale) (1.22.3)\n",
      "Requirement already satisfied: Flask-Compress in /home/minura/anaconda3/envs/awesome-notebooks/lib/python3.8/site-packages (from dtale) (1.11)\n",
      "Requirement already satisfied: dash-daq in /home/minura/anaconda3/envs/awesome-notebooks/lib/python3.8/site-packages (from dtale) (0.5.0)\n",
      "Requirement already satisfied: xarray in /home/minura/anaconda3/envs/awesome-notebooks/lib/python3.8/site-packages (from dtale) (2022.3.0)\n",
      "Requirement already satisfied: Flask in /home/minura/anaconda3/envs/awesome-notebooks/lib/python3.8/site-packages (from dtale) (2.1.1)\n",
      "Requirement already satisfied: openpyxl in /home/minura/anaconda3/envs/awesome-notebooks/lib/python3.8/site-packages (from dtale) (3.0.9)\n",
      "Requirement already satisfied: dash-colorscales in /home/minura/anaconda3/envs/awesome-notebooks/lib/python3.8/site-packages (from dtale) (0.0.4)\n",
      "Requirement already satisfied: networkx in /home/minura/anaconda3/envs/awesome-notebooks/lib/python3.8/site-packages (from dtale) (2.7.1)\n",
      "Requirement already satisfied: lz4 in /home/minura/anaconda3/envs/awesome-notebooks/lib/python3.8/site-packages (from dtale) (4.0.0)\n",
      "Requirement already satisfied: cycler in /home/minura/anaconda3/envs/awesome-notebooks/lib/python3.8/site-packages (from dtale) (0.11.0)\n",
      "Requirement already satisfied: scipy in /home/minura/anaconda3/envs/awesome-notebooks/lib/python3.8/site-packages (from dtale) (1.8.0)\n",
      "Requirement already satisfied: six in /home/minura/anaconda3/envs/awesome-notebooks/lib/python3.8/site-packages (from dtale) (1.16.0)\n",
      "Requirement already satisfied: kaleido in /home/minura/anaconda3/envs/awesome-notebooks/lib/python3.8/site-packages (from dtale) (0.2.1)\n",
      "Requirement already satisfied: joblib>=0.11 in /home/minura/anaconda3/envs/awesome-notebooks/lib/python3.8/site-packages (from scikit-learn==0.24.2->dtale) (1.1.0)\n",
      "Requirement already satisfied: threadpoolctl>=2.0.0 in /home/minura/anaconda3/envs/awesome-notebooks/lib/python3.8/site-packages (from scikit-learn==0.24.2->dtale) (3.1.0)\n",
      "Requirement already satisfied: dash-table==5.0.0 in /home/minura/anaconda3/envs/awesome-notebooks/lib/python3.8/site-packages (from dash>=2.0.0->dtale) (5.0.0)\n",
      "Requirement already satisfied: dash-html-components==2.0.0 in /home/minura/anaconda3/envs/awesome-notebooks/lib/python3.8/site-packages (from dash>=2.0.0->dtale) (2.0.0)\n",
      "Requirement already satisfied: dash-core-components==2.0.0 in /home/minura/anaconda3/envs/awesome-notebooks/lib/python3.8/site-packages (from dash>=2.0.0->dtale) (2.0.0)\n",
      "Requirement already satisfied: Werkzeug>=2.0 in /home/minura/anaconda3/envs/awesome-notebooks/lib/python3.8/site-packages (from Flask->dtale) (2.1.1)\n",
      "Requirement already satisfied: click>=8.0 in /home/minura/anaconda3/envs/awesome-notebooks/lib/python3.8/site-packages (from Flask->dtale) (8.1.2)\n",
      "Requirement already satisfied: Jinja2>=3.0 in /home/minura/.local/lib/python3.8/site-packages (from Flask->dtale) (3.1.1)\n",
      "Requirement already satisfied: importlib-metadata>=3.6.0 in /home/minura/anaconda3/envs/awesome-notebooks/lib/python3.8/site-packages (from Flask->dtale) (4.11.3)\n",
      "Requirement already satisfied: zipp>=0.5 in /home/minura/.local/lib/python3.8/site-packages (from importlib-metadata>=3.6.0->Flask->dtale) (3.7.0)\n",
      "Requirement already satisfied: MarkupSafe>=2.0 in /home/minura/.local/lib/python3.8/site-packages (from Jinja2>=3.0->Flask->dtale) (2.1.1)\n",
      "Requirement already satisfied: tenacity>=6.2.0 in /home/minura/anaconda3/envs/awesome-notebooks/lib/python3.8/site-packages (from plotly>=5.0.0->dtale) (8.0.1)\n",
      "Requirement already satisfied: brotli in /home/minura/anaconda3/envs/awesome-notebooks/lib/python3.8/site-packages (from Flask-Compress->dtale) (1.0.9)\n",
      "Requirement already satisfied: kiwisolver>=1.0.1 in /home/minura/anaconda3/envs/awesome-notebooks/lib/python3.8/site-packages (from matplotlib->dtale) (1.4.2)\n",
      "Requirement already satisfied: python-dateutil>=2.7 in /home/minura/.local/lib/python3.8/site-packages (from matplotlib->dtale) (2.8.2)\n",
      "Requirement already satisfied: pillow>=6.2.0 in /home/minura/anaconda3/envs/awesome-notebooks/lib/python3.8/site-packages (from matplotlib->dtale) (9.1.0)\n",
      "Requirement already satisfied: packaging>=20.0 in /home/minura/.local/lib/python3.8/site-packages (from matplotlib->dtale) (21.3)\n",
      "Requirement already satisfied: pyparsing>=2.2.1 in /home/minura/.local/lib/python3.8/site-packages (from matplotlib->dtale) (3.0.7)\n",
      "Requirement already satisfied: fonttools>=4.22.0 in /home/minura/anaconda3/envs/awesome-notebooks/lib/python3.8/site-packages (from matplotlib->dtale) (4.31.2)\n",
      "Requirement already satisfied: pytz>=2020.1 in /home/minura/anaconda3/envs/awesome-notebooks/lib/python3.8/site-packages (from pandas->dtale) (2022.1)\n",
      "Requirement already satisfied: certifi>=2017.4.17 in /home/minura/anaconda3/envs/awesome-notebooks/lib/python3.8/site-packages (from requests->dtale) (2021.10.8)\n",
      "Requirement already satisfied: idna<4,>=2.5 in /home/minura/anaconda3/envs/awesome-notebooks/lib/python3.8/site-packages (from requests->dtale) (3.3)\n",
      "Requirement already satisfied: charset-normalizer~=2.0.0 in /home/minura/anaconda3/envs/awesome-notebooks/lib/python3.8/site-packages (from requests->dtale) (2.0.12)\n",
      "Requirement already satisfied: urllib3<1.27,>=1.21.1 in /home/minura/anaconda3/envs/awesome-notebooks/lib/python3.8/site-packages (from requests->dtale) (1.26.9)\n",
      "Requirement already satisfied: patsy>=0.5.2 in /home/minura/anaconda3/envs/awesome-notebooks/lib/python3.8/site-packages (from statsmodels->dtale) (0.5.2)\n"
     ]
    }
   ],
   "source": [
    "! pip install --user dtale"
   ]
  },
  {
   "cell_type": "markdown",
   "id": "numeric-mediterranean",
   "metadata": {},
   "source": [
    "### Import libraries"
   ]
  },
  {
   "cell_type": "code",
   "execution_count": 2,
   "id": "potential-surfing",
   "metadata": {
    "tags": []
   },
   "outputs": [],
   "source": [
    "import pandas\n",
    "import dtale\n",
    "import dtale.app as dtale_app\n",
    "\n",
    "dtale_app.JUPYTER_SERVER_PROXY = True"
   ]
  },
  {
   "cell_type": "markdown",
   "id": "aggressive-trustee",
   "metadata": {},
   "source": [
    "### Variable"
   ]
  },
  {
   "cell_type": "code",
   "execution_count": 4,
   "id": "continuous-melbourne",
   "metadata": {},
   "outputs": [],
   "source": [
    "csv_path = \"https://raw.githubusercontent.com/CSSEGISandData/COVID-19/master/csse_covid_19_data/csse_covid_19_time_series/time_series_covid19_confirmed_global.csv\""
   ]
  },
  {
   "cell_type": "markdown",
   "id": "registered-showcase",
   "metadata": {},
   "source": [
    "## Model"
   ]
  },
  {
   "cell_type": "markdown",
   "id": "tested-astrology",
   "metadata": {},
   "source": [
    "### Read the CSV from path"
   ]
  },
  {
   "cell_type": "code",
   "execution_count": 5,
   "id": "crude-louisville",
   "metadata": {
    "papermill": {},
    "tags": []
   },
   "outputs": [],
   "source": [
    "df = pandas.read_csv(csv_path)"
   ]
  },
  {
   "cell_type": "markdown",
   "id": "lonely-pacific",
   "metadata": {
    "execution": {
     "iopub.execute_input": "2021-07-02T23:32:10.789097Z",
     "iopub.status.busy": "2021-07-02T23:32:10.788829Z",
     "iopub.status.idle": "2021-07-02T23:32:10.796900Z",
     "shell.execute_reply": "2021-07-02T23:32:10.796358Z",
     "shell.execute_reply.started": "2021-07-02T23:32:10.789033Z"
    }
   },
   "source": [
    "## Output"
   ]
  },
  {
   "cell_type": "markdown",
   "id": "890f7c86-b7bb-4f5d-9a1b-e492dd9580fd",
   "metadata": {},
   "source": [
    "### Visualize data in file"
   ]
  },
  {
   "cell_type": "code",
   "execution_count": 8,
   "id": "9c4e3b7b-6440-4844-8054-265f1aec65eb",
   "metadata": {},
   "outputs": [
    {
     "data": {
      "text/html": [
       "\n",
       "        <iframe\n",
       "            width=\"100%\"\n",
       "            height=\"475\"\n",
       "            src=\"http://minura-X556UQK:40000/dtale/iframe/3\"\n",
       "            frameborder=\"0\"\n",
       "            allowfullscreen\n",
       "            \n",
       "        ></iframe>\n",
       "        "
      ],
      "text/plain": [
       "<IPython.lib.display.IFrame at 0x7f98637cb6a0>"
      ]
     },
     "metadata": {},
     "output_type": "display_data"
    },
    {
     "data": {
      "text/plain": []
     },
     "execution_count": 8,
     "metadata": {},
     "output_type": "execute_result"
    }
   ],
   "source": [
    "d = dtale.show(df)\n",
    "d"
   ]
  },
  {
   "cell_type": "markdown",
   "id": "e5e13120",
   "metadata": {},
   "source": [
    "### Get URL to visualization created by D-Tale"
   ]
  },
  {
   "cell_type": "code",
   "execution_count": null,
   "id": "7622a320",
   "metadata": {},
   "outputs": [],
   "source": [
    "d._main_url"
   ]
  }
 ],
 "metadata": {
  "kernelspec": {
   "display_name": "Python 3 (ipykernel)",
   "language": "python",
   "name": "python3"
  },
  "language_info": {
   "codemirror_mode": {
    "name": "ipython",
    "version": 3
   },
   "file_extension": ".py",
   "mimetype": "text/x-python",
   "name": "python",
   "nbconvert_exporter": "python",
   "pygments_lexer": "ipython3",
   "version": "3.8.13"
  },
  "papermill": {
   "default_parameters": {},
   "environment_variables": {},
   "parameters": {},
   "version": "2.3.3"
  },
  "widgets": {
   "application/vnd.jupyter.widget-state+json": {
    "state": {},
    "version_major": 2,
    "version_minor": 0
   }
  }
 },
 "nbformat": 4,
 "nbformat_minor": 5
}
