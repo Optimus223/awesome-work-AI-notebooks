{
 "cells": [
  {
   "cell_type": "markdown",
   "id": "naas-logo",
   "metadata": {
    "papermill": {},
    "tags": [
     "naas"
    ]
   },
   "source": [
    "<img width=\"10%\" alt=\"Naas\" src=\"https://landen.imgix.net/jtci2pxwjczr/assets/5ice39g4.png?w=160\"/>"
   ]
  },
  {
   "cell_type": "markdown",
   "id": "db17b79b",
   "metadata": {
    "papermill": {},
    "tags": []
   },
   "source": [
    "# Datetime - Convert a string date to a datetime object\n",
    "<a href=\"https://app.naas.ai/user-redirect/naas/downloader?url=https://raw.githubusercontent.com/jupyter-naas/awesome-notebooks/master/Python/Python_Using_datetime_library.ipynb\" target=\"_parent\"><img src=\"https://naasai-public.s3.eu-west-3.amazonaws.com/Open_in_Naas_Lab.svg\"/></a><br><br><a href=\"https://bit.ly/3JyWIk6\">Give Feedbacks</a> | <a href=\"https://app.naas.ai/user-redirect/naas/downloader?url=https://raw.githubusercontent.com/jupyter-naas/awesome-notebooks/master/Naas/Naas_Start_data_product.ipynb\" target=\"_parent\">Generate Data Product</a>"
   ]
  },
  {
   "cell_type": "markdown",
   "id": "13800319",
   "metadata": {
    "papermill": {},
    "tags": []
   },
   "source": [
    "**Tags:** #python #datetime #snippet #operations"
   ]
  },
  {
   "cell_type": "markdown",
   "id": "8761af40",
   "metadata": {
    "papermill": {},
    "tags": []
   },
   "source": [
    "**Author:** [Florent Ravenel](https://www.linkedin.com/in/florent-ravenel/)"
   ]
  },
  {
   "cell_type": "markdown",
   "id": "07da9d46-7a6d-4bfb-a34a-f9bbad8680ac",
   "metadata": {
    "papermill": {},
    "tags": []
   },
   "source": [
    "**Last update:** 2023-07-05 (Created: 2023-07-05)"
   ]
  },
  {
   "cell_type": "markdown",
   "id": "naas-description",
   "metadata": {
    "papermill": {},
    "tags": [
     "description"
    ]
   },
   "source": [
    "**Description:** This notebook converts a string date to a datetime object"
   ]
  },
  {
   "cell_type": "markdown",
   "id": "1e8fe9ea-46f9-4496-8e50-0f76e52697d7",
   "metadata": {
    "papermill": {},
    "tags": []
   },
   "source": [
    "**References:**\n",
    "- [Python datetime library](https://docs.python.org/3/library/datetime.html)"
   ]
  },
  {
   "cell_type": "markdown",
   "id": "d6ed8917",
   "metadata": {
    "papermill": {},
    "tags": []
   },
   "source": [
    "## Input"
   ]
  },
  {
   "cell_type": "markdown",
   "id": "fb1b9009",
   "metadata": {
    "papermill": {},
    "tags": []
   },
   "source": [
    "### Import library"
   ]
  },
  {
   "cell_type": "code",
   "execution_count": 1,
   "id": "aefef37f",
   "metadata": {
    "execution": {
     "iopub.execute_input": "2023-07-05T06:07:30.561045Z",
     "iopub.status.busy": "2023-07-05T06:07:30.560700Z",
     "iopub.status.idle": "2023-07-05T06:07:30.574027Z",
     "shell.execute_reply": "2023-07-05T06:07:30.572958Z",
     "shell.execute_reply.started": "2023-07-05T06:07:30.560949Z"
    },
    "papermill": {},
    "tags": []
   },
   "outputs": [],
   "source": [
    "from datetime import datetime"
   ]
  },
  {
   "cell_type": "markdown",
   "id": "b7c1ad2b-ff24-43b9-b2fb-9a28b806e214",
   "metadata": {
    "papermill": {},
    "tags": []
   },
   "source": [
    "### Setup Variables\n",
    "To parse your date format : you can use the [d3 time format documentation](https://github.com/d3/d3-time-format)\n",
    "- `date_string`: Date string\n",
    "- `current_format`: Date string format"
   ]
  },
  {
   "cell_type": "code",
   "execution_count": 5,
   "id": "c25fdd9d-8517-4488-a88d-fc51a8d2e4f8",
   "metadata": {
    "execution": {
     "iopub.execute_input": "2023-07-05T06:08:14.494621Z",
     "iopub.status.busy": "2023-07-05T06:08:14.494387Z",
     "iopub.status.idle": "2023-07-05T06:08:14.498697Z",
     "shell.execute_reply": "2023-07-05T06:08:14.497633Z",
     "shell.execute_reply.started": "2023-07-05T06:08:14.494596Z"
    },
    "papermill": {},
    "tags": []
   },
   "outputs": [],
   "source": [
    "# Date string format\n",
    "date_string = \"2022-02-25\"\n",
    "\n",
    "# Your date string format\n",
    "current_format = \"%Y-%m-%d\""
   ]
  },
  {
   "cell_type": "markdown",
   "id": "93232477",
   "metadata": {
    "papermill": {},
    "tags": []
   },
   "source": [
    "## Model"
   ]
  },
  {
   "cell_type": "markdown",
   "id": "07164b8b",
   "metadata": {
    "papermill": {},
    "tags": []
   },
   "source": [
    "### Convert a string date to a datetime object"
   ]
  },
  {
   "cell_type": "code",
   "execution_count": 6,
   "id": "29972637",
   "metadata": {
    "execution": {
     "iopub.execute_input": "2023-07-05T06:08:15.945971Z",
     "iopub.status.busy": "2023-07-05T06:08:15.945621Z",
     "iopub.status.idle": "2023-07-05T06:08:15.952401Z",
     "shell.execute_reply": "2023-07-05T06:08:15.951523Z",
     "shell.execute_reply.started": "2023-07-05T06:08:15.945934Z"
    },
    "papermill": {},
    "tags": []
   },
   "outputs": [
    {
     "data": {
      "text/plain": [
       "datetime.datetime(2022, 2, 25, 0, 0)"
      ]
     },
     "execution_count": 6,
     "metadata": {},
     "output_type": "execute_result"
    }
   ],
   "source": [
    "datetime_obj = datetime.strptime(date_string, current_format)\n",
    "datetime_obj"
   ]
  },
  {
   "cell_type": "markdown",
   "id": "02d1fc4b",
   "metadata": {
    "papermill": {},
    "tags": []
   },
   "source": [
    "## Output"
   ]
  },
  {
   "cell_type": "markdown",
   "id": "1c2b12ba-82a3-4831-b057-f429a5e6bd54",
   "metadata": {
    "papermill": {},
    "tags": []
   },
   "source": [
    "### Display result"
   ]
  },
  {
   "cell_type": "code",
   "execution_count": 7,
   "id": "3b0cf348",
   "metadata": {
    "execution": {
     "iopub.execute_input": "2023-07-05T06:08:16.574330Z",
     "iopub.status.busy": "2023-07-05T06:08:16.573947Z",
     "iopub.status.idle": "2023-07-05T06:08:16.579936Z",
     "shell.execute_reply": "2023-07-05T06:08:16.578226Z",
     "shell.execute_reply.started": "2023-07-05T06:08:16.574293Z"
    },
    "papermill": {},
    "tags": []
   },
   "outputs": [
    {
     "name": "stdout",
     "output_type": "stream",
     "text": [
      "2022-02-25 00:00:00\n"
     ]
    }
   ],
   "source": [
    "print(datetime_obj)"
   ]
  }
 ],
 "metadata": {
  "kernelspec": {
   "display_name": "Python 3",
   "language": "python",
   "name": "python3"
  },
  "language_info": {
   "codemirror_mode": {
    "name": "ipython",
    "version": 3
   },
   "file_extension": ".py",
   "mimetype": "text/x-python",
   "name": "python",
   "nbconvert_exporter": "python",
   "pygments_lexer": "ipython3",
   "version": "3.9.6"
  },
  "naas": {
   "notebook_id": "bc5e5a53dce086157760c18fbdfec9e5ac3def16134edf36a04e4f7eeaafb3a8",
   "notebook_path": "Python/Python_Using_datetime_library.ipynb"
  },
  "papermill": {
   "default_parameters": {},
   "environment_variables": {},
   "parameters": {},
   "version": "2.3.3"
  }
 },
 "nbformat": 4,
 "nbformat_minor": 5
}
