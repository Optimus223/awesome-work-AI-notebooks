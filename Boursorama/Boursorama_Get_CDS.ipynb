{
 "cells": [
  {
   "cell_type": "markdown",
   "id": "first-equity",
   "metadata": {
    "papermill": {},
    "tags": []
   },
   "source": [
    "<img width=\"10%\" alt=\"Naas\" src=\"https://landen.imgix.net/jtci2pxwjczr/assets/5ice39g4.png?w=160\"/>"
   ]
  },
  {
   "cell_type": "markdown",
   "id": "demanding-finland",
   "metadata": {
    "papermill": {},
    "tags": []
   },
   "source": [
    "# Boursorama - Get CDS\n",
    "<a href=\"https://app.naas.ai/user-redirect/naas/downloader?url=https://raw.githubusercontent.com/jupyter-naas/awesome-notebooks/master/Boursorama/Boursorama_Get_CDS.ipynb\" target=\"_parent\"><img src=\"https://img.shields.io/badge/-Open%20in%20Naas-success?labelColor=000000&logo=data:image/svg+xml;base64,PD94bWwgdmVyc2lvbj0iMS4wIiBlbmNvZGluZz0iVVRGLTgiPz4KPHN2ZyB3aWR0aD0iMTAyNHB4IiBoZWlnaHQ9IjEwMjRweCIgdmlld0JveD0iMCAwIDEwMjQgMTAyNCIgeG1sbnM9Imh0dHA6Ly93d3cudzMub3JnLzIwMDAvc3ZnIiB4bWxuczp4bGluaz0iaHR0cDovL3d3dy53My5vcmcvMTk5OS94bGluayIgdmVyc2lvbj0iMS4xIj4KIDwhLS0gR2VuZXJhdGVkIGJ5IFBpeGVsbWF0b3IgUHJvIDIuMC41IC0tPgogPGRlZnM+CiAgPHRleHQgaWQ9InN0cmluZyIgdHJhbnNmb3JtPSJtYXRyaXgoMS4wIDAuMCAwLjAgMS4wIDIyOC4wIDU0LjUpIiBmb250LWZhbWlseT0iQ29tZm9ydGFhLVJlZ3VsYXIsIENvbWZvcnRhYSIgZm9udC1zaXplPSI4MDAiIHRleHQtZGVjb3JhdGlvbj0ibm9uZSIgZmlsbD0iI2ZmZmZmZiIgeD0iMS4xOTk5OTk5OTk5OTk5ODg2IiB5PSI3MDUuMCI+bjwvdGV4dD4KIDwvZGVmcz4KIDx1c2UgaWQ9Im4iIHhsaW5rOmhyZWY9IiNzdHJpbmciLz4KPC9zdmc+Cg==\"/></a>"
   ]
  },
  {
   "cell_type": "markdown",
   "id": "listed-vehicle",
   "metadata": {
    "papermill": {},
    "tags": []
   },
   "source": [
    "**Tags:** #boursorama"
   ]
  },
  {
   "cell_type": "markdown",
   "id": "44ed28f0-f06f-4798-8cfd-e5d361205841",
   "metadata": {
    "execution": {
     "iopub.execute_input": "2021-10-01T09:38:26.763111Z",
     "iopub.status.busy": "2021-10-01T09:38:26.762778Z",
     "iopub.status.idle": "2021-10-01T09:38:26.768400Z",
     "shell.execute_reply": "2021-10-01T09:38:26.767790Z",
     "shell.execute_reply.started": "2021-10-01T09:38:26.763027Z"
    }
   },
   "source": [
    "## Input"
   ]
  },
  {
   "cell_type": "markdown",
   "id": "a8cc99f7-5712-4ec8-8813-98a9c790ad64",
   "metadata": {
    "execution": {
     "iopub.execute_input": "2021-10-01T09:39:08.490731Z",
     "iopub.status.busy": "2021-10-01T09:39:08.490495Z",
     "iopub.status.idle": "2021-10-01T09:39:08.493586Z",
     "shell.execute_reply": "2021-10-01T09:39:08.492626Z",
     "shell.execute_reply.started": "2021-10-01T09:39:08.490705Z"
    }
   },
   "source": [
    "### Import library"
   ]
  },
  {
   "cell_type": "code",
   "execution_count": null,
   "id": "e098f530-1941-43d8-9d54-5ce494629fe7",
   "metadata": {},
   "outputs": [],
   "source": [
    "import pandas as pd"
   ]
  },
  {
   "cell_type": "markdown",
   "id": "459102e9-9afb-4151-80c1-164971fb492e",
   "metadata": {
    "execution": {
     "iopub.execute_input": "2021-10-01T09:38:36.738109Z",
     "iopub.status.busy": "2021-10-01T09:38:36.737861Z",
     "iopub.status.idle": "2021-10-01T09:38:36.741395Z",
     "shell.execute_reply": "2021-10-01T09:38:36.740511Z",
     "shell.execute_reply.started": "2021-10-01T09:38:36.738085Z"
    }
   },
   "source": [
    "## Model"
   ]
  },
  {
   "cell_type": "markdown",
   "id": "functioning-honor",
   "metadata": {
    "papermill": {},
    "tags": []
   },
   "source": [
    "### Get the CDS from URL "
   ]
  },
  {
   "cell_type": "code",
   "execution_count": null,
   "id": "general-arrow",
   "metadata": {
    "papermill": {},
    "tags": []
   },
   "outputs": [],
   "source": [
    "# url of the page where the table to extract is\n",
    "url = \"https://www.boursorama.com/bourse/taux/cds/\"\n",
    "\n",
    "dfs = pd.read_html(url)\n",
    "df = dfs[0]"
   ]
  },
  {
   "cell_type": "markdown",
   "id": "fba56ccc-cc5b-4b00-88dd-889369b109cf",
   "metadata": {},
   "source": [
    "## Output"
   ]
  },
  {
   "cell_type": "markdown",
   "id": "f92fe74e-7197-4362-929d-d682793df61a",
   "metadata": {},
   "source": [
    "### Display result"
   ]
  },
  {
   "cell_type": "code",
   "execution_count": null,
   "id": "d5f3dd01-62bf-4285-9d7f-8ac1cd4e6a32",
   "metadata": {},
   "outputs": [],
   "source": [
    "df"
   ]
  },
  {
   "cell_type": "markdown",
   "id": "mathematical-balloon",
   "metadata": {
    "papermill": {},
    "tags": []
   },
   "source": [
    "### Save as csv"
   ]
  },
  {
   "cell_type": "code",
   "execution_count": null,
   "id": "flush-mounting",
   "metadata": {
    "papermill": {},
    "tags": []
   },
   "outputs": [],
   "source": [
    "df.to_excel(r'Get_CDS.csv', index = False)"
   ]
  }
 ],
 "metadata": {
  "kernelspec": {
   "display_name": "Python 3",
   "language": "python",
   "name": "python3"
  },
  "language_info": {
   "codemirror_mode": {
    "name": "ipython",
    "version": 3
   },
   "file_extension": ".py",
   "mimetype": "text/x-python",
   "name": "python",
   "nbconvert_exporter": "python",
   "pygments_lexer": "ipython3",
   "version": "3.8.8"
  },
  "papermill": {
   "default_parameters": {},
   "environment_variables": {},
   "parameters": {},
   "version": "2.3.3"
  },
  "widgets": {
   "application/vnd.jupyter.widget-state+json": {
    "state": {},
    "version_major": 2,
    "version_minor": 0
   }
  }
 },
 "nbformat": 4,
 "nbformat_minor": 5
}
