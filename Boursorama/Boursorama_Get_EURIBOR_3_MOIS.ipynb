{
 "cells": [
  {
   "cell_type": "markdown",
   "id": "a9b62775-a29d-431e-bf18-a57949b1b588",
   "metadata": {
    "papermill": {},
    "tags": []
   },
   "source": [
    "<img width=\"10%\" alt=\"Naas\" src=\"https://landen.imgix.net/jtci2pxwjczr/assets/5ice39g4.png?w=160\"/>"
   ]
  },
  {
   "cell_type": "markdown",
   "id": "ddaca910-5feb-4c61-8390-fb9e67bb3124",
   "metadata": {
    "papermill": {},
    "tags": []
   },
   "source": [
    "# Boursorama - Get EURIBOR 3 MOIS"
   ]
  },
  {
   "cell_type": "markdown",
   "id": "184ddd46-094e-4fb5-a582-c4485ab1162e",
   "metadata": {
    "papermill": {},
    "tags": []
   },
   "source": [
    "**Tags:** #boursorama #euribor #pandas #read_html #finance #data"
   ]
  },
  {
   "cell_type": "markdown",
   "id": "507370b9-8e02-43b8-b04d-6d7c12be3fdd",
   "metadata": {
    "papermill": {},
    "tags": []
   },
   "source": [
    "**Author:** [Florent Ravenel](http://linkedin.com/in/florent-ravenel)"
   ]
  },
  {
   "cell_type": "markdown",
   "id": "88185417-57d0-47a3-950c-6db33f8f9cf8",
   "metadata": {
    "papermill": {},
    "tags": []
   },
   "source": [
    "**Description:** This notebook will show how to get EURIBOR 3 MOIS using pandas.read_html()."
   ]
  },
  {
   "cell_type": "markdown",
   "id": "556816ba-e8db-41ab-98f0-5c72ddfb70a7",
   "metadata": {
    "papermill": {},
    "tags": []
   },
   "source": [
    "**References:**\n",
    "- [Boursorama](https://www.boursorama.com/bourse/indices/euribor-3-mois-0D0003M0GQ)\n",
    "- [Pandas.read_html](https://pandas.pydata.org/pandas-docs/stable/reference/api/pandas.read_html.html)"
   ]
  },
  {
   "cell_type": "markdown",
   "id": "e1ec5d8b-a088-47e5-99c5-456777ff6024",
   "metadata": {
    "papermill": {},
    "tags": []
   },
   "source": [
    "## Input"
   ]
  },
  {
   "cell_type": "markdown",
   "id": "455eefca-66b8-4ca4-81df-8f1231b9eeca",
   "metadata": {
    "papermill": {},
    "tags": []
   },
   "source": [
    "### Import libraries"
   ]
  },
  {
   "cell_type": "code",
   "execution_count": 1,
   "id": "a2126acc-3416-42ae-8c45-b574bf47d023",
   "metadata": {
    "execution": {
     "iopub.execute_input": "2023-04-05T17:59:08.417081Z",
     "iopub.status.busy": "2023-04-05T17:59:08.416617Z",
     "iopub.status.idle": "2023-04-05T17:59:10.191165Z",
     "shell.execute_reply": "2023-04-05T17:59:10.189838Z",
     "shell.execute_reply.started": "2023-04-05T17:59:08.416990Z"
    },
    "papermill": {},
    "tags": []
   },
   "outputs": [],
   "source": [
    "import pandas as pd"
   ]
  },
  {
   "cell_type": "markdown",
   "id": "f21e2950-946e-4450-b709-737eca86c76f",
   "metadata": {
    "papermill": {},
    "tags": []
   },
   "source": [
    "### Setup Variables\n",
    "- `url`: URL of the Boursorama page to get EURIBOR 3 MOIS"
   ]
  },
  {
   "cell_type": "code",
   "execution_count": 2,
   "id": "814d151a-2c1a-46ce-964c-53ce81046ec8",
   "metadata": {
    "execution": {
     "iopub.execute_input": "2023-04-05T17:59:10.193343Z",
     "iopub.status.busy": "2023-04-05T17:59:10.193122Z",
     "iopub.status.idle": "2023-04-05T17:59:10.197212Z",
     "shell.execute_reply": "2023-04-05T17:59:10.196325Z",
     "shell.execute_reply.started": "2023-04-05T17:59:10.193316Z"
    },
    "papermill": {},
    "tags": []
   },
   "outputs": [],
   "source": [
    "url = \"https://www.boursorama.com/bourse/taux/cours/2xERB3MOIS/\""
   ]
  },
  {
   "cell_type": "markdown",
   "id": "c221ae34-8865-4d37-b0f0-ae244f4565d5",
   "metadata": {
    "papermill": {},
    "tags": []
   },
   "source": [
    "## Model"
   ]
  },
  {
   "cell_type": "markdown",
   "id": "04a055e9-3200-469c-a2ee-50e980fdff61",
   "metadata": {
    "papermill": {},
    "tags": []
   },
   "source": [
    "### Get EURIBOR 3 MOIS\n",
    "Using `pandas.read_html()` to get the EURIBOR 3 MOIS from the Boursorama page."
   ]
  },
  {
   "cell_type": "code",
   "execution_count": 3,
   "id": "4d0fc7d1-fcba-413d-9825-f828532e4f58",
   "metadata": {
    "execution": {
     "iopub.execute_input": "2023-04-05T17:59:10.198506Z",
     "iopub.status.busy": "2023-04-05T17:59:10.198289Z",
     "iopub.status.idle": "2023-04-05T17:59:10.693696Z",
     "shell.execute_reply": "2023-04-05T17:59:10.693043Z",
     "shell.execute_reply.started": "2023-04-05T17:59:10.198480Z"
    },
    "papermill": {},
    "tags": []
   },
   "outputs": [],
   "source": [
    "tables = pd.read_html(url)"
   ]
  },
  {
   "cell_type": "markdown",
   "id": "49eaeb68-bcae-44fe-8db5-e9745ad7f3ac",
   "metadata": {
    "papermill": {},
    "tags": []
   },
   "source": [
    "## Output"
   ]
  },
  {
   "cell_type": "markdown",
   "id": "c6d23138-9e3f-409b-9621-d235dcb1d0ef",
   "metadata": {
    "papermill": {},
    "tags": []
   },
   "source": [
    "### Current data"
   ]
  },
  {
   "cell_type": "code",
   "execution_count": 4,
   "id": "fe2b89b2-6139-4779-b59f-2f9da789ee82",
   "metadata": {
    "execution": {
     "iopub.execute_input": "2023-04-05T17:59:10.695422Z",
     "iopub.status.busy": "2023-04-05T17:59:10.695191Z",
     "iopub.status.idle": "2023-04-05T17:59:10.734555Z",
     "shell.execute_reply": "2023-04-05T17:59:10.733828Z",
     "shell.execute_reply.started": "2023-04-05T17:59:10.695397Z"
    },
    "tags": []
   },
   "outputs": [
    {
     "data": {
      "text/html": [
       "<div>\n",
       "<style scoped>\n",
       "    .dataframe tbody tr th:only-of-type {\n",
       "        vertical-align: middle;\n",
       "    }\n",
       "\n",
       "    .dataframe tbody tr th {\n",
       "        vertical-align: top;\n",
       "    }\n",
       "\n",
       "    .dataframe thead th {\n",
       "        text-align: right;\n",
       "    }\n",
       "</style>\n",
       "<table border=\"1\" class=\"dataframe\">\n",
       "  <thead>\n",
       "    <tr style=\"text-align: right;\">\n",
       "      <th></th>\n",
       "      <th>Unnamed: 0</th>\n",
       "      <th>04-04</th>\n",
       "    </tr>\n",
       "  </thead>\n",
       "  <tbody>\n",
       "    <tr>\n",
       "      <th>0</th>\n",
       "      <td>Der.</td>\n",
       "      <td>3.052</td>\n",
       "    </tr>\n",
       "    <tr>\n",
       "      <th>1</th>\n",
       "      <td>Var.</td>\n",
       "      <td>-0.1 BP</td>\n",
       "    </tr>\n",
       "    <tr>\n",
       "      <th>2</th>\n",
       "      <td>Ouv.</td>\n",
       "      <td>3.052</td>\n",
       "    </tr>\n",
       "    <tr>\n",
       "      <th>3</th>\n",
       "      <td>+Haut</td>\n",
       "      <td>3.052</td>\n",
       "    </tr>\n",
       "    <tr>\n",
       "      <th>4</th>\n",
       "      <td>+Bas</td>\n",
       "      <td>3.052</td>\n",
       "    </tr>\n",
       "    <tr>\n",
       "      <th>5</th>\n",
       "      <td>Vol.</td>\n",
       "      <td>0</td>\n",
       "    </tr>\n",
       "  </tbody>\n",
       "</table>\n",
       "</div>"
      ],
      "text/plain": [
       "  Unnamed: 0    04-04\n",
       "0       Der.    3.052\n",
       "1       Var.  -0.1 BP\n",
       "2       Ouv.    3.052\n",
       "3      +Haut    3.052\n",
       "4       +Bas    3.052\n",
       "5       Vol.        0"
      ]
     },
     "execution_count": 4,
     "metadata": {},
     "output_type": "execute_result"
    }
   ],
   "source": [
    "tables[0]"
   ]
  },
  {
   "cell_type": "markdown",
   "id": "5aaf8188-855e-47dd-8604-ecc73817fe30",
   "metadata": {},
   "source": [
    "### Historical data"
   ]
  },
  {
   "cell_type": "code",
   "execution_count": 5,
   "id": "12f9c000-05d3-4f86-9c86-4ab473ac2564",
   "metadata": {
    "execution": {
     "iopub.execute_input": "2023-04-05T17:59:10.736691Z",
     "iopub.status.busy": "2023-04-05T17:59:10.736437Z",
     "iopub.status.idle": "2023-04-05T17:59:10.831799Z",
     "shell.execute_reply": "2023-04-05T17:59:10.830866Z",
     "shell.execute_reply.started": "2023-04-05T17:59:10.736665Z"
    },
    "papermill": {},
    "tags": []
   },
   "outputs": [
    {
     "data": {
      "text/html": [
       "<div>\n",
       "<style scoped>\n",
       "    .dataframe tbody tr th:only-of-type {\n",
       "        vertical-align: middle;\n",
       "    }\n",
       "\n",
       "    .dataframe tbody tr th {\n",
       "        vertical-align: top;\n",
       "    }\n",
       "\n",
       "    .dataframe thead th {\n",
       "        text-align: right;\n",
       "    }\n",
       "</style>\n",
       "<table border=\"1\" class=\"dataframe\">\n",
       "  <thead>\n",
       "    <tr style=\"text-align: right;\">\n",
       "      <th></th>\n",
       "      <th>période</th>\n",
       "      <th>var.</th>\n",
       "      <th>+ haut</th>\n",
       "      <th>+ bas</th>\n",
       "    </tr>\n",
       "  </thead>\n",
       "  <tbody>\n",
       "    <tr>\n",
       "      <th>0</th>\n",
       "      <td>1er Janvier</td>\n",
       "      <td>+86.8 BP</td>\n",
       "      <td>3.05</td>\n",
       "      <td>2.18</td>\n",
       "    </tr>\n",
       "    <tr>\n",
       "      <th>1</th>\n",
       "      <td>1 semaine</td>\n",
       "      <td>+106.8 BP</td>\n",
       "      <td>3.05</td>\n",
       "      <td>1.97</td>\n",
       "    </tr>\n",
       "    <tr>\n",
       "      <th>2</th>\n",
       "      <td>1 mois</td>\n",
       "      <td>+131.0 BP</td>\n",
       "      <td>3.05</td>\n",
       "      <td>1.74</td>\n",
       "    </tr>\n",
       "    <tr>\n",
       "      <th>3</th>\n",
       "      <td>3 mois</td>\n",
       "      <td>+223.6 BP</td>\n",
       "      <td>3.05</td>\n",
       "      <td>0.82</td>\n",
       "    </tr>\n",
       "    <tr>\n",
       "      <th>4</th>\n",
       "      <td>6 mois</td>\n",
       "      <td>+336.6 BP</td>\n",
       "      <td>3.05</td>\n",
       "      <td>-0.31</td>\n",
       "    </tr>\n",
       "    <tr>\n",
       "      <th>5</th>\n",
       "      <td>1 an</td>\n",
       "      <td>+361.4 BP</td>\n",
       "      <td>3.05</td>\n",
       "      <td>-0.61</td>\n",
       "    </tr>\n",
       "    <tr>\n",
       "      <th>6</th>\n",
       "      <td>3 ans</td>\n",
       "      <td>+344.5 BP</td>\n",
       "      <td>3.05</td>\n",
       "      <td>-0.61</td>\n",
       "    </tr>\n",
       "    <tr>\n",
       "      <th>7</th>\n",
       "      <td>5 ans</td>\n",
       "      <td>+337.8 BP</td>\n",
       "      <td>3.05</td>\n",
       "      <td>-0.61</td>\n",
       "    </tr>\n",
       "    <tr>\n",
       "      <th>8</th>\n",
       "      <td>10 ans</td>\n",
       "      <td>+286.2 BP</td>\n",
       "      <td>3.05</td>\n",
       "      <td>-0.61</td>\n",
       "    </tr>\n",
       "    <tr>\n",
       "      <th>9</th>\n",
       "      <td>MM20</td>\n",
       "      <td>NaN</td>\n",
       "      <td>NaN</td>\n",
       "      <td>1.93</td>\n",
       "    </tr>\n",
       "    <tr>\n",
       "      <th>10</th>\n",
       "      <td>MM50</td>\n",
       "      <td>NaN</td>\n",
       "      <td>NaN</td>\n",
       "      <td>1.65</td>\n",
       "    </tr>\n",
       "    <tr>\n",
       "      <th>11</th>\n",
       "      <td>MM100</td>\n",
       "      <td>NaN</td>\n",
       "      <td>NaN</td>\n",
       "      <td>1.12</td>\n",
       "    </tr>\n",
       "    <tr>\n",
       "      <th>12</th>\n",
       "      <td>RSI14</td>\n",
       "      <td>NaN</td>\n",
       "      <td>NaN</td>\n",
       "      <td>87.42</td>\n",
       "    </tr>\n",
       "  </tbody>\n",
       "</table>\n",
       "</div>"
      ],
      "text/plain": [
       "        période       var.  + haut  + bas\n",
       "0   1er Janvier   +86.8 BP    3.05   2.18\n",
       "1     1 semaine  +106.8 BP    3.05   1.97\n",
       "2        1 mois  +131.0 BP    3.05   1.74\n",
       "3        3 mois  +223.6 BP    3.05   0.82\n",
       "4        6 mois  +336.6 BP    3.05  -0.31\n",
       "5          1 an  +361.4 BP    3.05  -0.61\n",
       "6         3 ans  +344.5 BP    3.05  -0.61\n",
       "7         5 ans  +337.8 BP    3.05  -0.61\n",
       "8        10 ans  +286.2 BP    3.05  -0.61\n",
       "9          MM20        NaN     NaN   1.93\n",
       "10         MM50        NaN     NaN   1.65\n",
       "11        MM100        NaN     NaN   1.12\n",
       "12        RSI14        NaN     NaN  87.42"
      ]
     },
     "execution_count": 5,
     "metadata": {},
     "output_type": "execute_result"
    }
   ],
   "source": [
    "tables[1]"
   ]
  },
  {
   "cell_type": "markdown",
   "id": "ec19ddb9-1cb1-42fd-83cc-5e6a07613d1d",
   "metadata": {
    "papermill": {},
    "tags": []
   },
   "source": [
    " "
   ]
  }
 ],
 "metadata": {
  "kernelspec": {
   "display_name": "Python 3",
   "language": "python",
   "name": "python3"
  },
  "language_info": {
   "codemirror_mode": {
    "name": "ipython",
    "version": 3
   },
   "file_extension": ".py",
   "mimetype": "text/x-python",
   "name": "python",
   "nbconvert_exporter": "python",
   "pygments_lexer": "ipython3",
   "version": "3.9.6"
  },
  "widgets": {
   "application/vnd.jupyter.widget-state+json": {
    "state": {},
    "version_major": 2,
    "version_minor": 0
   }
  }
 },
 "nbformat": 4,
 "nbformat_minor": 5
}
