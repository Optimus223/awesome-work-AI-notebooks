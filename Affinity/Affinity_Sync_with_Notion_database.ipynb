{
 "cells": [
  {
   "cell_type": "markdown",
   "id": "6b7ec43c-4caa-435a-801b-4272edf169e0",
   "metadata": {},
   "source": [
    "<img width=\"10%\" alt=\"Naas\" src=\"https://landen.imgix.net/jtci2pxwjczr/assets/5ice39g4.png?w=160\"/>"
   ]
  },
  {
   "cell_type": "markdown",
   "id": "75d903b9-ab57-474f-a29a-11873fef9291",
   "metadata": {},
   "source": [
    "# Affinity - Sync with Notion database"
   ]
  },
  {
   "cell_type": "markdown",
   "id": "95dfc0f6-aaee-4005-887b-30412d535869",
   "metadata": {},
   "source": [
    "**Tags:** #automation #notification #Affinity #Notion"
   ]
  },
  {
   "cell_type": "markdown",
   "id": "02e6066a-3112-49e4-a26a-ec15afdaeb52",
   "metadata": {},
   "source": [
    "**Author:** [Maxime Jublou](https://linkedin.com/in/maximejublou)"
   ]
  },
  {
   "cell_type": "markdown",
   "id": "dd09e09b-44c3-431f-99e9-63e56cca862d",
   "metadata": {},
   "source": [
    "## Input"
   ]
  },
  {
   "cell_type": "markdown",
   "id": "ab6aef24-c20a-4146-ad8d-c335bff5a926",
   "metadata": {},
   "source": [
    "## Model"
   ]
  },
  {
   "cell_type": "markdown",
   "id": "5f790a96-9a03-4f77-81fd-504f03fa90ee",
   "metadata": {},
   "source": [
    "## Output"
   ]
  },
  {
   "cell_type": "code",
   "execution_count": null,
   "id": "93fc2563-2464-45cf-a1f8-4c026dcd2dbf",
   "metadata": {},
   "outputs": [],
   "source": []
  }
 ],
 "metadata": {
  "kernelspec": {
   "display_name": "Python 3",
   "language": "python",
   "name": "python3"
  },
  "language_info": {
   "codemirror_mode": {
    "name": "ipython",
    "version": 3
   },
   "file_extension": ".py",
   "mimetype": "text/x-python",
   "name": "python",
   "nbconvert_exporter": "python",
   "pygments_lexer": "ipython3",
   "version": "3.9.6"
  }
 },
 "nbformat": 4,
 "nbformat_minor": 5
}
