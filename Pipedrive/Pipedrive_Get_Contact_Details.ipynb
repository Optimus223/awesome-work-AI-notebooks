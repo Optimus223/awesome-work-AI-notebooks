{
 "cells": [
  {
   "cell_type": "markdown",
   "id": "ecf2a79a-eddb-4953-82f1-3b28d0d16add",
   "metadata": {},
   "source": [
    "<h2>Pipedrive - Get Contact Details from CRM</h2>"
   ]
  },
  {
   "cell_type": "code",
   "execution_count": 9,
   "id": "1feaf127-efce-4e04-a022-15a8cce0ee94",
   "metadata": {
    "execution": {
     "iopub.execute_input": "2021-10-11T05:50:49.333691Z",
     "iopub.status.busy": "2021-10-11T05:50:49.333462Z",
     "iopub.status.idle": "2021-10-11T05:50:49.340341Z",
     "shell.execute_reply": "2021-10-11T05:50:49.335913Z",
     "shell.execute_reply.started": "2021-10-11T05:50:49.333668Z"
    },
    "tags": []
   },
   "outputs": [],
   "source": [
    "from pipedrive.client import Client\n",
    "import pandas as pd"
   ]
  },
  {
   "cell_type": "markdown",
   "id": "d2f07d10-ec72-4907-a8f5-492fe2200b6b",
   "metadata": {},
   "source": [
    "<b>Domain & API Key</b>\n",
    "<p>Go to Account - Personal Preferences - API Key Tab - Click on Generate New Token</p>\n",
    "<p>Add the key to line 2 in below cell</p>"
   ]
  },
  {
   "cell_type": "code",
   "execution_count": 10,
   "id": "a8fa5772-3c85-427e-8a8c-5fb78086b630",
   "metadata": {
    "execution": {
     "iopub.execute_input": "2021-10-11T05:50:50.293053Z",
     "iopub.status.busy": "2021-10-11T05:50:50.292773Z",
     "iopub.status.idle": "2021-10-11T05:50:50.711805Z",
     "shell.execute_reply": "2021-10-11T05:50:50.711121Z",
     "shell.execute_reply.started": "2021-10-11T05:50:50.293029Z"
    },
    "tags": []
   },
   "outputs": [],
   "source": [
    "client = client = Client(domain='https://your_domain.pipedrive.com')\n",
    "client.set_api_token('your_api_key')\n",
    "response = client.persons.get_all_persons() #returns all the records present in CRM\n",
    "dataKey = response.get(\"data\", None) #the key with all records\n",
    "userInfo = {} #empty dictionary for storing data in user object\n",
    "users = [] #empty list to store multiple user objects"
   ]
  },
  {
   "cell_type": "code",
   "execution_count": 11,
   "id": "69a74f35-57ac-4378-8cf4-6f97b943c7a6",
   "metadata": {
    "execution": {
     "iopub.execute_input": "2021-10-11T05:50:50.954732Z",
     "iopub.status.busy": "2021-10-11T05:50:50.954512Z",
     "iopub.status.idle": "2021-10-11T05:50:50.960349Z",
     "shell.execute_reply": "2021-10-11T05:50:50.959803Z",
     "shell.execute_reply.started": "2021-10-11T05:50:50.954708Z"
    },
    "tags": []
   },
   "outputs": [],
   "source": [
    "for dataKeyItem in dataKey: #Iterate through each record\n",
    "    phonelist = []\n",
    "    emaillist = []\n",
    "    for phone in dataKeyItem[\"phone\"]:\n",
    "        phonelist.append(phone[\"value\"])\n",
    "\n",
    "    for email in dataKeyItem[\"email\"]:\n",
    "        emaillist.append(email[\"value\"])\n",
    "\n",
    "    userInfo = {\n",
    "        \"FirstName\": dataKeyItem[\"first_name\"],\n",
    "        \"LastName\": dataKeyItem[\"last_name\"],\n",
    "        \"Phone\": phonelist,\n",
    "        \"Email\": emaillist,\n",
    "        \"Company\": dataKeyItem[\"org_name\"],\n",
    "        \"Job\" : dataKeyItem[\"your_field_api_key\"] #once you create a field you will find the resepect field api key in Accounts - Data Fields section\n",
    "    }\n",
    "    users.append(userInfo)"
   ]
  },
  {
   "cell_type": "code",
   "execution_count": 12,
   "id": "bbabab1e-53bd-454e-9d98-beb8b39154da",
   "metadata": {
    "execution": {
     "iopub.execute_input": "2021-10-11T05:50:51.797612Z",
     "iopub.status.busy": "2021-10-11T05:50:51.797385Z",
     "iopub.status.idle": "2021-10-11T05:50:51.814193Z",
     "shell.execute_reply": "2021-10-11T05:50:51.813480Z",
     "shell.execute_reply.started": "2021-10-11T05:50:51.797589Z"
    },
    "tags": []
   },
   "outputs": [
    {
     "name": "stdout",
     "output_type": "stream",
     "text": [
      "  FirstName LastName  ...     Company            Job\n",
      "0       Joe     Park  ...  Codesocial      Developer\n",
      "1      Samy   Daniel  ...  Codesocial         Tester\n",
      "2     Jason     John  ...  Codesocial  Product Owner\n",
      "\n",
      "[3 rows x 6 columns]\n"
     ]
    }
   ],
   "source": [
    "#use below line to adjust the display of columns and rows\n",
    "pd.set_option(\"display.max_rows\", None, \"display.max_columns\", 4)\n",
    "\n",
    "#the below dataframe has sample data from Pipedrive CRM.\n",
    "personsDF = pd.DataFrame(users)\n",
    "print(personsDF)\n"
   ]
  },
  {
   "cell_type": "code",
   "execution_count": null,
   "id": "dce41bd1-8c69-46ea-8ec8-959d0128e891",
   "metadata": {},
   "outputs": [],
   "source": []
  }
 ],
 "metadata": {
  "kernelspec": {
   "display_name": "Python 3",
   "language": "python",
   "name": "python3"
  },
  "language_info": {
   "codemirror_mode": {
    "name": "ipython",
    "version": 3
   },
   "file_extension": ".py",
   "mimetype": "text/x-python",
   "name": "python",
   "nbconvert_exporter": "python",
   "pygments_lexer": "ipython3",
   "version": "3.8.8"
  }
 },
 "nbformat": 4,
 "nbformat_minor": 5
}
