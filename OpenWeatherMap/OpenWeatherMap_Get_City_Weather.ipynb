{
 "cells": [
  {
   "cell_type": "markdown",
   "id": "finnish-reward",
   "metadata": {
    "papermill": {},
    "tags": []
   },
   "source": [
    "# OpenWeatherMap - Get City Weather\n",
    "<a href=\"https://app.naas.ai/user-redirect/naas/downloader?url=https://raw.githubusercontent.com/jupyter-naas/awesome-notebooks/master/OpenWeatherMap/OpenWeatherMap_Get_City_Weather.ipynb\" target=\"_parent\"><img src=\"https://img.shields.io/badge/-Open%20in%20Naas-success?labelColor=000000&logo=data:image/svg+xml;base64,PD94bWwgdmVyc2lvbj0iMS4wIiBlbmNvZGluZz0iVVRGLTgiPz4KPHN2ZyB3aWR0aD0iMTAyNHB4IiBoZWlnaHQ9IjEwMjRweCIgdmlld0JveD0iMCAwIDEwMjQgMTAyNCIgeG1sbnM9Imh0dHA6Ly93d3cudzMub3JnLzIwMDAvc3ZnIiB4bWxuczp4bGluaz0iaHR0cDovL3d3dy53My5vcmcvMTk5OS94bGluayIgdmVyc2lvbj0iMS4xIj4KIDwhLS0gR2VuZXJhdGVkIGJ5IFBpeGVsbWF0b3IgUHJvIDIuMC41IC0tPgogPGRlZnM+CiAgPHRleHQgaWQ9InN0cmluZyIgdHJhbnNmb3JtPSJtYXRyaXgoMS4wIDAuMCAwLjAgMS4wIDIyOC4wIDU0LjUpIiBmb250LWZhbWlseT0iQ29tZm9ydGFhLVJlZ3VsYXIsIENvbWZvcnRhYSIgZm9udC1zaXplPSI4MDAiIHRleHQtZGVjb3JhdGlvbj0ibm9uZSIgZmlsbD0iI2ZmZmZmZiIgeD0iMS4xOTk5OTk5OTk5OTk5ODg2IiB5PSI3MDUuMCI+bjwvdGV4dD4KIDwvZGVmcz4KIDx1c2UgaWQ9Im4iIHhsaW5rOmhyZWY9IiNzdHJpbmciLz4KPC9zdmc+Cg==\"/></a>"
   ]
  },
  {
   "cell_type": "markdown",
   "id": "female-singer",
   "metadata": {
    "papermill": {},
    "tags": []
   },
   "source": [
    "## Input"
   ]
  },
  {
   "cell_type": "code",
   "execution_count": 7,
   "id": "short-decision",
   "metadata": {
    "execution": {
     "iopub.execute_input": "2021-07-21T16:17:50.795532Z",
     "iopub.status.busy": "2021-07-21T16:17:50.795306Z",
     "iopub.status.idle": "2021-07-21T16:17:50.867864Z",
     "shell.execute_reply": "2021-07-21T16:17:50.867322Z",
     "shell.execute_reply.started": "2021-07-21T16:17:50.795509Z"
    },
    "papermill": {},
    "tags": []
   },
   "outputs": [],
   "source": [
    "import requests"
   ]
  },
  {
   "cell_type": "code",
   "execution_count": 23,
   "id": "stunning-karma",
   "metadata": {
    "execution": {
     "iopub.execute_input": "2021-07-21T16:21:30.087994Z",
     "iopub.status.busy": "2021-07-21T16:21:30.087772Z",
     "iopub.status.idle": "2021-07-21T16:21:30.091066Z",
     "shell.execute_reply": "2021-07-21T16:21:30.090346Z",
     "shell.execute_reply.started": "2021-07-21T16:21:30.087971Z"
    },
    "papermill": {},
    "tags": []
   },
   "outputs": [],
   "source": [
    "OPENWEATHER_KEY = '**********'  # get your key from here https://home.openweathermap.org/api_keys (it takes couples of minutes)\n",
    "CITY = \"Paris\""
   ]
  },
  {
   "cell_type": "markdown",
   "id": "smart-swedish",
   "metadata": {
    "papermill": {},
    "tags": []
   },
   "source": [
    "## Model"
   ]
  },
  {
   "cell_type": "code",
   "execution_count": 20,
   "id": "defensive-federal",
   "metadata": {
    "execution": {
     "iopub.execute_input": "2021-07-21T16:20:23.031630Z",
     "iopub.status.busy": "2021-07-21T16:20:23.031345Z",
     "iopub.status.idle": "2021-07-21T16:20:23.036509Z",
     "shell.execute_reply": "2021-07-21T16:20:23.035926Z",
     "shell.execute_reply.started": "2021-07-21T16:20:23.031600Z"
    },
    "papermill": {},
    "tags": []
   },
   "outputs": [],
   "source": [
    "def get_weather_info(city):\n",
    "    url = f\"http://api.openweathermap.org/data/2.5/weather?q={city}&appid={OPENWEATHER_KEY}\"\n",
    "    response = requests.get(url)\n",
    "    return response.json()\n",
    "\n",
    "def format_weather_data(data):\n",
    "    return {\n",
    "        \"temp\": f'{round(int(data[\"main\"][\"temp\"]) - 273.15, 1)}°',\n",
    "        \"city\": data[\"name\"],\n",
    "    }\n",
    "    \n",
    "def run(city):\n",
    "    data = get_weather_info(city)\n",
    "    return format_weather_data(data)"
   ]
  },
  {
   "cell_type": "markdown",
   "id": "cooked-gothic",
   "metadata": {
    "papermill": {},
    "tags": []
   },
   "source": [
    "## Output"
   ]
  },
  {
   "cell_type": "code",
   "execution_count": 21,
   "id": "cultural-membership",
   "metadata": {
    "execution": {
     "iopub.execute_input": "2021-07-21T16:20:24.356336Z",
     "iopub.status.busy": "2021-07-21T16:20:24.356109Z",
     "iopub.status.idle": "2021-07-21T16:20:24.426438Z",
     "shell.execute_reply": "2021-07-21T16:20:24.425798Z",
     "shell.execute_reply.started": "2021-07-21T16:20:24.356312Z"
    },
    "papermill": {},
    "tags": []
   },
   "outputs": [],
   "source": [
    "run(CITY)"
   ]
  }
 ],
 "metadata": {
  "kernelspec": {
   "display_name": "Python 3",
   "language": "python",
   "name": "python3"
  },
  "language_info": {
   "codemirror_mode": {
    "name": "ipython",
    "version": 3
   },
   "file_extension": ".py",
   "mimetype": "text/x-python",
   "name": "python",
   "nbconvert_exporter": "python",
   "pygments_lexer": "ipython3",
   "version": "3.8.8"
  },
  "papermill": {
   "default_parameters": {},
   "environment_variables": {},
   "parameters": {},
   "version": "2.3.3"
  }
 },
 "nbformat": 4,
 "nbformat_minor": 5
}