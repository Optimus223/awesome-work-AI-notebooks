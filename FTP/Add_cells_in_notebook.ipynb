{
 "cells": [
  {
   "cell_type": "markdown",
   "id": "coordinated-daily",
   "metadata": {
    "papermill": {},
    "tags": []
   },
   "source": [
    "# FTP - Add cells in notebook\n",
    "<a href=\"https://app.naas.ai/user-redirect/naas/downloader?url=https://raw.githubusercontent.com/jupyter-naas/awesome-notebooks/master/FTP/Add_cells_in_notebook.ipynb\" target=\"_parent\"><img src=\"https://img.shields.io/badge/-Open%20in%20Naas-success?labelColor=000000&logo=data:image/svg+xml;base64,PD94bWwgdmVyc2lvbj0iMS4wIiBlbmNvZGluZz0iVVRGLTgiPz4KPHN2ZyB3aWR0aD0iMTAyNHB4IiBoZWlnaHQ9IjEwMjRweCIgdmlld0JveD0iMCAwIDEwMjQgMTAyNCIgeG1sbnM9Imh0dHA6Ly93d3cudzMub3JnLzIwMDAvc3ZnIiB4bWxuczp4bGluaz0iaHR0cDovL3d3dy53My5vcmcvMTk5OS94bGluayIgdmVyc2lvbj0iMS4xIj4KIDwhLS0gR2VuZXJhdGVkIGJ5IFBpeGVsbWF0b3IgUHJvIDIuMC41IC0tPgogPGRlZnM+CiAgPHRleHQgaWQ9InN0cmluZyIgdHJhbnNmb3JtPSJtYXRyaXgoMS4wIDAuMCAwLjAgMS4wIDIyOC4wIDU0LjUpIiBmb250LWZhbWlseT0iQ29tZm9ydGFhLVJlZ3VsYXIsIENvbWZvcnRhYSIgZm9udC1zaXplPSI4MDAiIHRleHQtZGVjb3JhdGlvbj0ibm9uZSIgZmlsbD0iI2ZmZmZmZiIgeD0iMS4xOTk5OTk5OTk5OTk5ODg2IiB5PSI3MDUuMCI+bjwvdGV4dD4KIDwvZGVmcz4KIDx1c2UgaWQ9Im4iIHhsaW5rOmhyZWY9IiNzdHJpbmciLz4KPC9zdmc+Cg==\"/></a>"
   ]
  },
  {
   "cell_type": "markdown",
   "id": "naval-parent",
   "metadata": {
    "papermill": {},
    "tags": []
   },
   "source": [
    "## Input"
   ]
  },
  {
   "cell_type": "markdown",
   "id": "indoor-linux",
   "metadata": {
    "papermill": {},
    "tags": []
   },
   "source": [
    "### Import library"
   ]
  },
  {
   "cell_type": "code",
   "execution_count": 15,
   "id": "logical-cathedral",
   "metadata": {
    "execution": {
     "iopub.execute_input": "2021-10-04T08:23:04.443145Z",
     "iopub.status.busy": "2021-10-04T08:23:04.442852Z",
     "iopub.status.idle": "2021-10-04T08:23:04.446588Z",
     "shell.execute_reply": "2021-10-04T08:23:04.445992Z",
     "shell.execute_reply.started": "2021-10-04T08:23:04.443116Z"
    },
    "papermill": {},
    "tags": []
   },
   "outputs": [],
   "source": [
    "from pprint import pprint\n",
    "import json\n",
    "import os"
   ]
  },
  {
   "cell_type": "markdown",
   "id": "95df4506-b794-4874-a36e-5ceadd52ae89",
   "metadata": {
    "papermill": {},
    "tags": []
   },
   "source": [
    "### Variables"
   ]
  },
  {
   "cell_type": "code",
   "execution_count": 16,
   "id": "4b4b603f-3fe5-4273-b12d-47f33fb24af4",
   "metadata": {
    "execution": {
     "iopub.execute_input": "2021-10-04T08:23:06.088662Z",
     "iopub.status.busy": "2021-10-04T08:23:06.087975Z",
     "iopub.status.idle": "2021-10-04T08:23:06.091909Z",
     "shell.execute_reply": "2021-10-04T08:23:06.091280Z",
     "shell.execute_reply.started": "2021-10-04T08:23:06.088621Z"
    },
    "papermill": {},
    "tags": []
   },
   "outputs": [],
   "source": [
    "notebook_path = \"FTP_Connect.ipynb\"\n",
    "tags = \"\""
   ]
  },
  {
   "cell_type": "markdown",
   "id": "fd2546a9-e29b-4b57-a14a-6d7f1ebd759e",
   "metadata": {
    "papermill": {},
    "tags": []
   },
   "source": [
    "### Get notebook"
   ]
  },
  {
   "cell_type": "code",
   "execution_count": 17,
   "id": "41b5f80c-17b4-4f0a-87c2-90f239358bdd",
   "metadata": {
    "execution": {
     "iopub.execute_input": "2021-10-04T08:23:07.897751Z",
     "iopub.status.busy": "2021-10-04T08:23:07.897529Z",
     "iopub.status.idle": "2021-10-04T08:23:07.923610Z",
     "shell.execute_reply": "2021-10-04T08:23:07.922228Z",
     "shell.execute_reply.started": "2021-10-04T08:23:07.897728Z"
    },
    "papermill": {},
    "tags": []
   },
   "outputs": [],
   "source": [
    "with open(notebook_path, mode= \"r\", encoding= \"utf-8\") as f:\n",
    "    nb = json.load(f)\n",
    "pprint(nb)"
   ]
  },
  {
   "cell_type": "markdown",
   "id": "suspended-system",
   "metadata": {
    "papermill": {},
    "tags": []
   },
   "source": [
    "## Model"
   ]
  },
  {
   "cell_type": "markdown",
   "id": "ebcde6ce-207e-4ad3-a135-8bee5b3b6e99",
   "metadata": {
    "papermill": {},
    "tags": []
   },
   "source": [
    "### Create new cells dict"
   ]
  },
  {
   "cell_type": "code",
   "execution_count": 18,
   "id": "371ab8a6-4c7c-4190-9903-c05a511f6fc1",
   "metadata": {
    "execution": {
     "iopub.execute_input": "2021-10-04T08:23:13.466310Z",
     "iopub.status.busy": "2021-10-04T08:23:13.466082Z",
     "iopub.status.idle": "2021-10-04T08:23:13.470116Z",
     "shell.execute_reply": "2021-10-04T08:23:13.469466Z",
     "shell.execute_reply.started": "2021-10-04T08:23:13.466287Z"
    },
    "papermill": {},
    "tags": []
   },
   "outputs": [],
   "source": [
    "input_cell = {\n",
    "    'cell_type': 'markdown',\n",
    "    'id': 'input_cell',\n",
    "    'metadata': {'papermill': {}, 'tags': []},\n",
    "    'source': ['## Input']\n",
    "}\n",
    "model_cell = {\n",
    "    'cell_type': 'markdown',\n",
    "    'id': 'model_cell',\n",
    "    'metadata': {'papermill': {}, 'tags': []},\n",
    "    'source': ['## Model']\n",
    "}\n",
    "output_cell = {\n",
    "    'cell_type': 'markdown',\n",
    "    'id': 'output_cell',\n",
    "    'metadata': {'papermill': {}, 'tags': []},\n",
    "    'source': ['## Output']\n",
    "}"
   ]
  },
  {
   "cell_type": "markdown",
   "id": "eb8d5605-def9-46fc-81c9-de769c3652ef",
   "metadata": {
    "papermill": {},
    "tags": []
   },
   "source": [
    "### Add new cells in notebook"
   ]
  },
  {
   "cell_type": "code",
   "execution_count": 19,
   "id": "189b224d-ba6c-4beb-99d6-038cf24f619d",
   "metadata": {
    "execution": {
     "iopub.execute_input": "2021-10-04T08:23:15.746167Z",
     "iopub.status.busy": "2021-10-04T08:23:15.745875Z",
     "iopub.status.idle": "2021-10-04T08:23:15.759682Z",
     "shell.execute_reply": "2021-10-04T08:23:15.759076Z",
     "shell.execute_reply.started": "2021-10-04T08:23:15.746136Z"
    },
    "papermill": {},
    "tags": []
   },
   "outputs": [],
   "source": [
    "cells = nb.get(\"cells\")\n",
    "cells.append(input_cell)\n",
    "cells.append(model_cell)\n",
    "cells.append(output_cell)\n",
    "pprint(cells)"
   ]
  },
  {
   "cell_type": "markdown",
   "id": "lyric-andrew",
   "metadata": {
    "papermill": {},
    "tags": []
   },
   "source": [
    "## Output"
   ]
  },
  {
   "cell_type": "code",
   "execution_count": 20,
   "id": "fallen-smooth",
   "metadata": {
    "execution": {
     "iopub.execute_input": "2021-10-04T08:23:24.556221Z",
     "iopub.status.busy": "2021-10-04T08:23:24.555993Z",
     "iopub.status.idle": "2021-10-04T08:23:24.583648Z",
     "shell.execute_reply": "2021-10-04T08:23:24.582988Z",
     "shell.execute_reply.started": "2021-10-04T08:23:24.556198Z"
    },
    "papermill": {},
    "tags": []
   },
   "outputs": [],
   "source": [
    "with open(notebook_path, 'w') as f:\n",
    "    json.dump(nb, f)\n",
    "print(f\"Notebook {notebook_path} updated\")"
   ]
  },
  {
   "cell_type": "code",
   "execution_count": null,
   "id": "88dd30a2-70a5-482a-8de1-ea842142b761",
   "metadata": {
    "papermill": {},
    "tags": []
   },
   "outputs": [],
   "source": []
  }
 ],
 "metadata": {
  "kernelspec": {
   "display_name": "Python 3",
   "language": "python",
   "name": "python3"
  },
  "language_info": {
   "codemirror_mode": {
    "name": "ipython",
    "version": 3
   },
   "file_extension": ".py",
   "mimetype": "text/x-python",
   "name": "python",
   "nbconvert_exporter": "python",
   "pygments_lexer": "ipython3",
   "version": "3.8.8"
  },
  "papermill": {
   "default_parameters": {},
   "environment_variables": {},
   "parameters": {},
   "version": "2.3.3"
  }
 },
 "nbformat": 4,
 "nbformat_minor": 5
}