{
 "cells": [
  {
   "cell_type": "markdown",
   "id": "latin-packing",
   "metadata": {
    "execution": {
     "iopub.execute_input": "2021-02-23T14:22:16.610471Z",
     "iopub.status.busy": "2021-02-23T14:22:16.610129Z",
     "iopub.status.idle": "2021-02-23T14:22:16.627784Z",
     "shell.execute_reply": "2021-02-23T14:22:16.626866Z",
     "shell.execute_reply.started": "2021-02-23T14:22:16.610384Z"
    },
    "papermill": {},
    "tags": []
   },
   "source": [
    "<img width=\"10%\" alt=\"Naas\" src=\"https://landen.imgix.net/jtci2pxwjczr/assets/5ice39g4.png?w=160\"/>"
   ]
  },
  {
   "cell_type": "markdown",
   "id": "compressed-wilson",
   "metadata": {
    "papermill": {},
    "tags": []
   },
   "source": [
    "# Hubspot - Create Task\n",
    "<a href=\"https://app.naas.ai/user-redirect/naas/downloader?url=https://raw.githubusercontent.com/jupyter-naas/awesome-notebooks/master/Hubspot/Hubspot_Create_Task.ipynb\" target=\"_parent\"><img src=\"https://naasai-public.s3.eu-west-3.amazonaws.com/open_in_naas.svg\"/></a>"
   ]
  },
  {
   "cell_type": "markdown",
   "id": "religious-programmer",
   "metadata": {
    "papermill": {},
    "tags": []
   },
   "source": [
    "**Tags:** #engagements #hubspottask"
   ]
  },
  {
   "cell_type": "markdown",
   "id": "1fe9f56e-561c-4f52-aef8-b861c9462107",
   "metadata": {
    "papermill": {},
    "tags": []
   },
   "source": [
    "**Author:** [Alok Chilka](https://www.linkedin.com/in/calok64/)"
   ]
  },
  {
   "cell_type": "markdown",
   "id": "distinguished-truth",
   "metadata": {
    "papermill": {},
    "tags": []
   },
   "source": [
    "## Input"
   ]
  },
  {
   "cell_type": "markdown",
   "id": "numeric-mediterranean",
   "metadata": {
    "papermill": {},
    "tags": []
   },
   "source": [
    "### Import library"
   ]
  },
  {
   "cell_type": "code",
   "execution_count": 40,
   "id": "potential-surfing",
   "metadata": {
    "execution": {
     "iopub.execute_input": "2022-02-17T19:25:13.989642Z",
     "iopub.status.busy": "2022-02-17T19:25:13.989383Z",
     "iopub.status.idle": "2022-02-17T19:25:13.992532Z",
     "shell.execute_reply": "2022-02-17T19:25:13.991918Z",
     "shell.execute_reply.started": "2022-02-17T19:25:13.989619Z"
    },
    "papermill": {},
    "tags": []
   },
   "outputs": [],
   "source": [
    "from datetime import datetime, timedelta\n",
    "import requests\n",
    "import json"
   ]
  },
  {
   "cell_type": "markdown",
   "id": "c08dd35d-d963-4bfc-9837-875b679b1d3d",
   "metadata": {
    "papermill": {},
    "tags": []
   },
   "source": [
    "### Enter your Hubspot api key & Company ID"
   ]
  },
  {
   "cell_type": "code",
   "execution_count": 41,
   "id": "36bd049b-d707-4871-8bab-7f592cd9e391",
   "metadata": {
    "execution": {
     "iopub.execute_input": "2022-02-17T19:25:15.580483Z",
     "iopub.status.busy": "2022-02-17T19:25:15.580259Z",
     "iopub.status.idle": "2022-02-17T19:25:15.583231Z",
     "shell.execute_reply": "2022-02-17T19:25:15.582620Z",
     "shell.execute_reply.started": "2022-02-17T19:25:15.580461Z"
    },
    "papermill": {},
    "tags": []
   },
   "outputs": [],
   "source": [
    "HS_API_TOKEN = \"YOUR_HUBSPOT_API_KEY\" "
   ]
  },
  {
   "cell_type": "markdown",
   "id": "aggressive-trustee",
   "metadata": {
    "papermill": {},
    "tags": []
   },
   "source": [
    "### Variables"
   ]
  },
  {
   "cell_type": "code",
   "execution_count": 42,
   "id": "continuous-melbourne",
   "metadata": {
    "execution": {
     "iopub.execute_input": "2022-02-17T19:25:17.390335Z",
     "iopub.status.busy": "2022-02-17T19:25:17.390073Z",
     "iopub.status.idle": "2022-02-17T19:25:17.395354Z",
     "shell.execute_reply": "2022-02-17T19:25:17.394758Z",
     "shell.execute_reply.started": "2022-02-17T19:25:17.390303Z"
    },
    "papermill": {},
    "tags": []
   },
   "outputs": [],
   "source": [
    "#initial parameters for hubspot connection\n",
    "HS_CONTACT_ASSIGN_TO_ID = \"\" #contact id to whom task needs to be assigned\n",
    "ENGAGEMENT_URL = \"https://api.hubapi.com/engagements/v1/engagements\"\n",
    "QUERY_STRING = { \"hapikey\": HS_API_TOKEN }"
   ]
  },
  {
   "cell_type": "markdown",
   "id": "registered-showcase",
   "metadata": {
    "papermill": {},
    "tags": []
   },
   "source": [
    "## Model"
   ]
  },
  {
   "cell_type": "code",
   "execution_count": 43,
   "id": "bdc6ee8b-0fb6-4e3e-9325-930bffa3f16e",
   "metadata": {
    "execution": {
     "iopub.execute_input": "2022-02-17T19:25:19.095497Z",
     "iopub.status.busy": "2022-02-17T19:25:19.095271Z",
     "iopub.status.idle": "2022-02-17T19:25:19.099015Z",
     "shell.execute_reply": "2022-02-17T19:25:19.098380Z",
     "shell.execute_reply.started": "2022-02-17T19:25:19.095473Z"
    },
    "papermill": {},
    "tags": []
   },
   "outputs": [],
   "source": [
    "type = \"TASK\" #TASK | NOTE | EMAIL | MEETING | CALL \n",
    "eng_ownerId = \"\" #engagement, assign owner\n",
    "assoc_ownerId = \"\" #associations, assign owner\n",
    "\n",
    "#timestamp delay to set due date for tasks\n",
    "tstampobj = datetime.now() + timedelta(days=10)\n",
    "tstamp = tstampobj.timestamp() * 1000\n",
    "\n",
    "#metadata\n",
    "body = \"\"\n",
    "subject = \"\"\n",
    "status= \"\" # NOT_STARTED | COMPLETED | IN_PROGRESS | WAITING | DEFERRED\n",
    "forObjectType = \"\" # CONTACT | COMPANY"
   ]
  },
  {
   "cell_type": "markdown",
   "id": "lonely-pacific",
   "metadata": {
    "execution": {
     "iopub.execute_input": "2021-07-02T23:32:10.789097Z",
     "iopub.status.busy": "2021-07-02T23:32:10.788829Z",
     "iopub.status.idle": "2021-07-02T23:32:10.796900Z",
     "shell.execute_reply": "2021-07-02T23:32:10.796358Z",
     "shell.execute_reply.started": "2021-07-02T23:32:10.789033Z"
    },
    "papermill": {},
    "tags": []
   },
   "source": [
    "## Output"
   ]
  },
  {
   "cell_type": "markdown",
   "id": "linear-address",
   "metadata": {
    "papermill": {},
    "tags": []
   },
   "source": [
    "### Display result"
   ]
  },
  {
   "cell_type": "code",
   "execution_count": 44,
   "id": "dff59c04-748c-4604-9b2f-d16e8553bf29",
   "metadata": {
    "execution": {
     "iopub.execute_input": "2022-02-17T19:25:23.997110Z",
     "iopub.status.busy": "2022-02-17T19:25:23.996892Z",
     "iopub.status.idle": "2022-02-17T19:25:24.000793Z",
     "shell.execute_reply": "2022-02-17T19:25:24.000211Z",
     "shell.execute_reply.started": "2022-02-17T19:25:23.997087Z"
    },
    "papermill": {},
    "tags": []
   },
   "outputs": [],
   "source": [
    "payload = json.dumps({\n",
    "    \"engagement\": {\n",
    "        \"active\": 'true',\n",
    "        \"ownerId\": eng_ownerId,\n",
    "        \"type\": type,\n",
    "        \"timestamp\": tstamp\n",
    "    },\n",
    "    \"associations\": {\n",
    "        \"contactIds\": [HS_CONTACT_ASSIGN_TO_ID],\n",
    "        \"companyIds\": [],\n",
    "        \"dealIds\": [],\n",
    "        \"ownerIds\": [assoc_ownerId],\n",
    "    },\n",
    "\n",
    "    \"metadata\": {\n",
    "        \"body\": body,\n",
    "        \"subject\": subject,\n",
    "        \"status\": status,\n",
    "        \"forObjectType\": forObjectType\n",
    "    }\n",
    "});"
   ]
  },
  {
   "cell_type": "code",
   "execution_count": 45,
   "id": "96b15e85-797a-4acd-964d-bba46ec4b19d",
   "metadata": {
    "execution": {
     "iopub.execute_input": "2022-02-17T19:25:24.430648Z",
     "iopub.status.busy": "2022-02-17T19:25:24.430426Z",
     "iopub.status.idle": "2022-02-17T19:25:24.433398Z",
     "shell.execute_reply": "2022-02-17T19:25:24.432783Z",
     "shell.execute_reply.started": "2022-02-17T19:25:24.430627Z"
    },
    "papermill": {},
    "tags": []
   },
   "outputs": [],
   "source": [
    "headers = {\n",
    "    'Content-Type': \"application/json\",\n",
    "}"
   ]
  },
  {
   "cell_type": "code",
   "execution_count": 46,
   "id": "ae4893b8-8d04-479b-a5be-8abb951bde8f",
   "metadata": {
    "execution": {
     "iopub.execute_input": "2022-02-17T19:25:25.953690Z",
     "iopub.status.busy": "2022-02-17T19:25:25.953465Z",
     "iopub.status.idle": "2022-02-17T19:25:26.128951Z",
     "shell.execute_reply": "2022-02-17T19:25:26.128381Z",
     "shell.execute_reply.started": "2022-02-17T19:25:25.953665Z"
    },
    "papermill": {},
    "tags": []
   },
   "outputs": [],
   "source": [
    "response = requests.request(\"POST\", ENGAGEMENT_URL, data=payload, headers=headers, params=QUERY_STRING)"
   ]
  },
  {
   "cell_type": "code",
   "execution_count": null,
   "id": "ce2dfad2-641b-4c5d-823e-6bc606d0a621",
   "metadata": {
    "papermill": {},
    "tags": []
   },
   "outputs": [],
   "source": [
    "#fetch the task id of the current task created\n",
    "response_text = response.json()\n",
    "task_id = response_text[\"engagement\"][\"id\"]"
   ]
  },
  {
   "cell_type": "code",
   "execution_count": null,
   "id": "ac9c9f85-6c4e-440a-9edb-6f1c31740c9a",
   "metadata": {
    "papermill": {},
    "tags": []
   },
   "outputs": [],
   "source": [
    "if response.status_code == 200:\n",
    "        print(task_id, \"Task created successfully\")\n",
    "else:\n",
    "    print(\"Could not create the task for Contact ID , ask for on hello@naas.ai for more details\")"
   ]
  },
  {
   "cell_type": "code",
   "execution_count": null,
   "id": "b3920fe5-aac8-4874-acaf-598afa52733d",
   "metadata": {
    "papermill": {},
    "tags": []
   },
   "outputs": [],
   "source": []
  }
 ],
 "metadata": {
  "kernelspec": {
   "display_name": "Python 3",
   "language": "python",
   "name": "python3"
  },
  "language_info": {
   "codemirror_mode": {
    "name": "ipython",
    "version": 3
   },
   "file_extension": ".py",
   "mimetype": "text/x-python",
   "name": "python",
   "nbconvert_exporter": "python",
   "pygments_lexer": "ipython3",
   "version": "3.8.8"
  },
  "papermill": {
   "default_parameters": {},
   "environment_variables": {},
   "parameters": {},
   "version": "2.3.3"
  },
  "widgets": {
   "application/vnd.jupyter.widget-state+json": {
    "state": {},
    "version_major": 2,
    "version_minor": 0
   }
  }
 },
 "nbformat": 4,
 "nbformat_minor": 5
}