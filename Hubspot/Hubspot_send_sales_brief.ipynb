{
 "cells": [
  {
   "cell_type": "markdown",
   "id": "terminal-graphics",
   "metadata": {},
   "source": [
    "<img width=\"10%\" alt=\"Naas\" src=\"https://landen.imgix.net/jtci2pxwjczr/assets/5ice39g4.png?w=160\"/>"
   ]
  },
  {
   "cell_type": "markdown",
   "id": "hungarian-supplier",
   "metadata": {},
   "source": [
    "<img src=\"https://upload.wikimedia.org/wikipedia/commons/thumb/3/3f/HubSpot_Logo.svg/220px-HubSpot_Logo.svg.png\" alt=\"drawing\" width=\"200\" align='left'/>"
   ]
  },
  {
   "cell_type": "markdown",
   "id": "exposed-fighter",
   "metadata": {
    "papermill": {},
    "tags": []
   },
   "source": [
    "# Hubspot - Send sales brief\n",
    "<a href=\"https://app.naas.ai/user-redirect/naas/downloader?url=https://raw.githubusercontent.com/jupyter-naas/awesome-notebooks/master/Qonto/Qonto_Releve_de_compte_augmente.ipynb\" target=\"_parent\"><img src=\"https://img.shields.io/badge/-Open%20in%20Naas-success?labelColor=000000&logo=data:image/svg+xml;base64,PD94bWwgdmVyc2lvbj0iMS4wIiBlbmNvZGluZz0iVVRGLTgiPz4KPHN2ZyB3aWR0aD0iMTAyNHB4IiBoZWlnaHQ9IjEwMjRweCIgdmlld0JveD0iMCAwIDEwMjQgMTAyNCIgeG1sbnM9Imh0dHA6Ly93d3cudzMub3JnLzIwMDAvc3ZnIiB4bWxuczp4bGluaz0iaHR0cDovL3d3dy53My5vcmcvMTk5OS94bGluayIgdmVyc2lvbj0iMS4xIj4KIDwhLS0gR2VuZXJhdGVkIGJ5IFBpeGVsbWF0b3IgUHJvIDIuMC41IC0tPgogPGRlZnM+CiAgPHRleHQgaWQ9InN0cmluZyIgdHJhbnNmb3JtPSJtYXRyaXgoMS4wIDAuMCAwLjAgMS4wIDIyOC4wIDU0LjUpIiBmb250LWZhbWlseT0iQ29tZm9ydGFhLVJlZ3VsYXIsIENvbWZvcnRhYSIgZm9udC1zaXplPSI4MDAiIHRleHQtZGVjb3JhdGlvbj0ibm9uZSIgZmlsbD0iI2ZmZmZmZiIgeD0iMS4xOTk5OTk5OTk5OTk5ODg2IiB5PSI3MDUuMCI+bjwvdGV4dD4KIDwvZGVmcz4KIDx1c2UgaWQ9Im4iIHhsaW5rOmhyZWY9IiNzdHJpbmciLz4KPC9zdmc+Cg==\"/></a>"
   ]
  },
  {
   "cell_type": "markdown",
   "id": "phantom-street",
   "metadata": {},
   "source": [
    "#hubspot #crm #sales #brief #email"
   ]
  },
  {
   "cell_type": "markdown",
   "id": "interior-anxiety",
   "metadata": {
    "papermill": {},
    "tags": []
   },
   "source": [
    "## Input"
   ]
  },
  {
   "cell_type": "markdown",
   "id": "saving-ghost",
   "metadata": {
    "papermill": {},
    "tags": []
   },
   "source": [
    "### Import library"
   ]
  },
  {
   "cell_type": "code",
   "execution_count": null,
   "id": "funded-preparation",
   "metadata": {
    "papermill": {},
    "tags": []
   },
   "outputs": [],
   "source": [
    "from naas_drivers import emailbuilder\n",
    "import naas\n",
    "import pandas as pd\n",
    "from datetime import datetime\n",
    "from hubspot import Hubspot\n",
    "hubspot = Hubspot()"
   ]
  },
  {
   "cell_type": "markdown",
   "id": "mexican-jones",
   "metadata": {
    "papermill": {},
    "tags": []
   },
   "source": [
    "### Enter your Hubspot api key"
   ]
  },
  {
   "cell_type": "code",
   "execution_count": null,
   "id": "loving-activation",
   "metadata": {
    "papermill": {},
    "tags": []
   },
   "outputs": [],
   "source": [
    "auth_token = 'YOUR_HUBSPOT_API_KEY'"
   ]
  },
  {
   "cell_type": "code",
   "execution_count": null,
   "id": "sublime-clothing",
   "metadata": {
    "tags": []
   },
   "outputs": [],
   "source": [
    "auth_token = naas.secret.get(\"HUBSPOT_API_KEY\")"
   ]
  },
  {
   "cell_type": "markdown",
   "id": "deluxe-rally",
   "metadata": {},
   "source": [
    "### Connect to Hubspot"
   ]
  },
  {
   "cell_type": "code",
   "execution_count": null,
   "id": "comparable-wildlife",
   "metadata": {
    "tags": []
   },
   "outputs": [],
   "source": [
    "hs = hubspot.connect(auth_token)"
   ]
  },
  {
   "cell_type": "markdown",
   "id": "subject-illustration",
   "metadata": {
    "papermill": {},
    "tags": []
   },
   "source": [
    "### Email parameters"
   ]
  },
  {
   "cell_type": "code",
   "execution_count": null,
   "id": "tested-agenda",
   "metadata": {
    "papermill": {},
    "tags": []
   },
   "outputs": [],
   "source": [
    "# Receivers\n",
    "email_to = [\"florent.ravenel@cashstory.com\",\n",
    "            \"jeremy.ravenel@cashstory.com\",\n",
    "            \"valentin.piquard@cashstory.com\"]\n",
    "\n",
    "# Email subject\n",
    "email_subject = f\"🚀 Hubspot - Sales Brief as of {datetime.now().strftime('%d/%m/%Y')} (Draft)\""
   ]
  },
  {
   "cell_type": "markdown",
   "id": "prepared-explosion",
   "metadata": {
    "execution": {
     "iopub.execute_input": "2021-08-04T10:49:28.903503Z",
     "iopub.status.busy": "2021-08-04T10:49:28.903265Z",
     "iopub.status.idle": "2021-08-04T10:49:28.906174Z",
     "shell.execute_reply": "2021-08-04T10:49:28.905520Z",
     "shell.execute_reply.started": "2021-08-04T10:49:28.903479Z"
    },
    "tags": []
   },
   "source": [
    "### Sales target"
   ]
  },
  {
   "cell_type": "code",
   "execution_count": null,
   "id": "otherwise-egyptian",
   "metadata": {},
   "outputs": [],
   "source": [
    "objective = 300000"
   ]
  },
  {
   "cell_type": "markdown",
   "id": "instructional-bracelet",
   "metadata": {
    "papermill": {},
    "tags": []
   },
   "source": [
    "### Schedule automation"
   ]
  },
  {
   "cell_type": "code",
   "execution_count": null,
   "id": "imported-ceremony",
   "metadata": {
    "papermill": {},
    "tags": []
   },
   "outputs": [],
   "source": [
    "# naas.scheduler.add(cron=\"0 8 * * 1\")"
   ]
  },
  {
   "cell_type": "markdown",
   "id": "spiritual-vegetation",
   "metadata": {},
   "source": [
    "### Pick your pipeline"
   ]
  },
  {
   "cell_type": "markdown",
   "id": "fixed-salon",
   "metadata": {},
   "source": [
    "#### Get all pipelines"
   ]
  },
  {
   "cell_type": "code",
   "execution_count": null,
   "id": "purple-potential",
   "metadata": {
    "tags": []
   },
   "outputs": [],
   "source": [
    "df_pipelines = hs.pipelines.get_all()\n",
    "df_pipelines"
   ]
  },
  {
   "cell_type": "markdown",
   "id": "capital-serve",
   "metadata": {},
   "source": [
    "#### Enter your pipeline id"
   ]
  },
  {
   "cell_type": "code",
   "execution_count": null,
   "id": "compatible-documentary",
   "metadata": {
    "tags": []
   },
   "outputs": [],
   "source": [
    "pipeline_id = \"8432671\""
   ]
  },
  {
   "cell_type": "markdown",
   "id": "excessive-trinidad",
   "metadata": {
    "papermill": {},
    "tags": []
   },
   "source": [
    "### Get dealstages from pipeline"
   ]
  },
  {
   "cell_type": "code",
   "execution_count": null,
   "id": "silent-shuttle",
   "metadata": {
    "tags": []
   },
   "outputs": [],
   "source": [
    "df_dealstages = df_pipelines.copy()\n",
    "\n",
    "# Filter on pipeline\n",
    "df_dealstages = df_dealstages[df_dealstages.pipeline_id == pipeline_id]\n",
    "\n",
    "df_dealstages"
   ]
  },
  {
   "cell_type": "markdown",
   "id": "mechanical-separate",
   "metadata": {},
   "source": [
    "### Get deals from pipeline"
   ]
  },
  {
   "cell_type": "code",
   "execution_count": null,
   "id": "generic-empty",
   "metadata": {
    "tags": []
   },
   "outputs": [],
   "source": [
    "properties = [\n",
    "    \"hs_object_id\",\n",
    "    \"dealname\",\n",
    "    \"dealstage\",\n",
    "    \"pipeline\",\n",
    "    \"createdate\",\n",
    "    \"hs_lastmodifieddate\",\n",
    "    \"closedate\",\n",
    "    \"amount\"\n",
    "]\n",
    "df_deals = hs.deals.get_all(properties)\n",
    "\n",
    "# Filter on pipeline\n",
    "df_deals = df_deals[df_deals.pipeline == pipeline_id].reset_index(drop=True)\n",
    "\n",
    "df_deals"
   ]
  },
  {
   "cell_type": "markdown",
   "id": "liable-rubber",
   "metadata": {
    "papermill": {},
    "tags": []
   },
   "source": [
    "## Model"
   ]
  },
  {
   "cell_type": "markdown",
   "id": "comprehensive-arrival",
   "metadata": {},
   "source": [
    "### Calculate yearly forecasted"
   ]
  },
  {
   "cell_type": "code",
   "execution_count": null,
   "id": "about-mobile",
   "metadata": {
    "tags": []
   },
   "outputs": [],
   "source": [
    "df_sales = pd.merge(df_deals.drop(\"pipeline\", axis=1),\n",
    "                    df_dealstages.drop([\"pipeline\", \"pipeline_id\", \"createdAt\", \"updatedAt\", \"archived\"], axis=1),\n",
    "                    left_on=\"dealstage\",\n",
    "                    right_on=\"dealstage_id\",\n",
    "                    how=\"left\")\n",
    "df_sales"
   ]
  },
  {
   "cell_type": "code",
   "execution_count": null,
   "id": "bored-message",
   "metadata": {
    "tags": []
   },
   "outputs": [],
   "source": [
    "df_sales_c = df_sales.copy()\n",
    "\n",
    "# Cleaning\n",
    "df_sales_c.createdate = pd.to_datetime(df_sales_c.createdate)\n",
    "df_sales_c.hs_lastmodifieddate = pd.to_datetime(df_sales_c.hs_lastmodifieddate)\n",
    "df_sales_c.closedate = pd.to_datetime(df_sales_c.closedate)\n",
    "df_sales_c[\"year\"] = df_sales_c.closedate.dt.strftime(\"%Y\")\n",
    "\n",
    "df_sales_c = df_sales_c[df_sales_c[\"year\"] == str(datetime.now().year)]\n",
    "\n",
    "df_sales_c[\"amount\"] = df_sales_c[\"amount\"].fillna(\"0\")\n",
    "df_sales_c.loc[df_sales_c[\"amount\"] == \"\", \"amount\"] = \"0\"\n",
    "\n",
    "# Formatting\n",
    "df_sales_c[\"amount\"] = df_sales_c[\"amount\"].astype(float)\n",
    "df_sales_c[\"probability\"] =  df_sales_c[\"probability\"].astype(float)\n",
    "\n",
    "# Calc\n",
    "df_sales_c[\"forecasted\"] = df_sales_c[\"amount\"] * df_sales_c[\"probability\"]\n",
    "\n",
    "df_sales_c"
   ]
  },
  {
   "cell_type": "code",
   "execution_count": null,
   "id": "dirty-actor",
   "metadata": {
    "tags": []
   },
   "outputs": [],
   "source": [
    "df_details = df_sales_c.copy()\n",
    "\n",
    "# Groupby\n",
    "to_group = [\n",
    "    \"dealstage_label\",\n",
    "    \"probability\",\n",
    "    \"displayOrder\"\n",
    "]\n",
    "to_agg = {\n",
    "    \"amount\": \"sum\",\n",
    "    \"dealname\": \"count\",\n",
    "    \"forecasted\": \"sum\"\n",
    "}\n",
    "df_details = df_details.groupby(to_group, as_index=False).agg(to_agg)\n",
    "\n",
    "# # Format\n",
    "# df_details[\"amount\"] = df_details[\"amount\"].map(NUMBER_FORMAT.format).str.replace(\",\", \" \")\n",
    "# df_details[\"forecasted\"] = df_details[\"forecasted\"].map(NUMBER_FORMAT.format).str.replace(\",\", \" \")\n",
    "\n",
    "# Sort\n",
    "df_details = df_details.sort_values(\"displayOrder\")\n",
    "\n",
    "df_details"
   ]
  },
  {
   "cell_type": "code",
   "execution_count": null,
   "id": "extra-berry",
   "metadata": {
    "tags": []
   },
   "outputs": [],
   "source": [
    "forecasted = df_details.forecasted.sum()\n",
    "forecasted"
   ]
  },
  {
   "cell_type": "code",
   "execution_count": null,
   "id": "brief-claim",
   "metadata": {
    "tags": []
   },
   "outputs": [],
   "source": [
    "won = df_details[df_details[\"dealstage_label\"] == \"Cash-in\"].forecasted.sum()\n",
    "won"
   ]
  },
  {
   "cell_type": "code",
   "execution_count": null,
   "id": "accepting-conducting",
   "metadata": {
    "tags": []
   },
   "outputs": [],
   "source": [
    "weighted = df_details[df_details[\"dealstage_label\"] != \"Cash-in\"].forecasted.sum()\n",
    "weighted"
   ]
  },
  {
   "cell_type": "code",
   "execution_count": null,
   "id": "structural-cartoon",
   "metadata": {
    "tags": []
   },
   "outputs": [],
   "source": [
    "completion_p = forecasted / objective\n",
    "completion_p"
   ]
  },
  {
   "cell_type": "code",
   "execution_count": null,
   "id": "quick-fellow",
   "metadata": {
    "tags": []
   },
   "outputs": [],
   "source": [
    "completion_v = objective - forecasted\n",
    "completion_v"
   ]
  },
  {
   "cell_type": "code",
   "execution_count": null,
   "id": "breeding-merit",
   "metadata": {
    "tags": []
   },
   "outputs": [],
   "source": [
    "DATE_FORMAT = \"%Y-%m-%d\"\n",
    "\n",
    "today = datetime.now().strftime(DATE_FORMAT)\n",
    "today"
   ]
  },
  {
   "cell_type": "code",
   "execution_count": null,
   "id": "generic-confirmation",
   "metadata": {
    "tags": []
   },
   "outputs": [],
   "source": [
    "def format_number(num):\n",
    "    NUMBER_FORMAT = \"{:,.0f} €\"\n",
    "    num = str(NUMBER_FORMAT.format(num)).replace(\",\", \" \")\n",
    "    return num"
   ]
  },
  {
   "cell_type": "code",
   "execution_count": null,
   "id": "guilty-chinese",
   "metadata": {
    "tags": []
   },
   "outputs": [],
   "source": [
    "def format_pourcentage(num):\n",
    "    NUMBER_FORMAT = \"{:,.0%}\"\n",
    "    num = str(NUMBER_FORMAT.format(num))\n",
    "    return num"
   ]
  },
  {
   "cell_type": "code",
   "execution_count": null,
   "id": "classified-memphis",
   "metadata": {
    "tags": []
   },
   "outputs": [],
   "source": [
    "df = df_details.copy()\n",
    "\n",
    "details = []\n",
    "\n",
    "for _, row in df.iterrows():\n",
    "    # status part\n",
    "    dealstage = row.dealstage_label\n",
    "    print(dealstage)\n",
    "    probability = row.probability\n",
    "    detail = f\"{dealstage} ({format_pourcentage(probability)})\"\n",
    "    \n",
    "    # amount part\n",
    "    amount = row.amount\n",
    "    number = row.dealname\n",
    "    forecasted_ = row.forecasted\n",
    "    if (probability < 1 and probability > 0):\n",
    "        detail = f\"{detail}: <ul><li>Amount : {format_number(amount)}</li><li>Number : {number}</li><li>Weighted amount : {format_number(forecasted_)}</li></ul>\"\n",
    "    else:\n",
    "        detail = f\"{detail}: {format_number(amount)}\"\n",
    "        \n",
    "    details += [detail]\n",
    "\n",
    "details"
   ]
  },
  {
   "cell_type": "code",
   "execution_count": null,
   "id": "bright-louis",
   "metadata": {
    "tags": []
   },
   "outputs": [],
   "source": [
    "df_inactive = df_sales_c.copy()\n",
    "\n",
    "df_inactive.hs_lastmodifieddate = pd.to_datetime(df_inactive.hs_lastmodifieddate).dt.strftime(DATE_FORMAT)\n",
    "\n",
    "df_inactive[\"inactive_time\"] = (datetime.now() - pd.to_datetime(df_inactive.hs_lastmodifieddate, format=DATE_FORMAT)).dt.days\n",
    "df_inactive.loc[(df_inactive[\"inactive_time\"] > 30, \"inactive\")] = \"inactive\"\n",
    "df_inactive = df_inactive[(df_inactive.inactive == 'inactive') & \n",
    "                          (df_inactive.probability != 0.) & \n",
    "                          (df_inactive.probability < 1)].sort_values(\"amount\", ascending=False).reset_index(drop=True)\n",
    "\n",
    "df_inactive"
   ]
  },
  {
   "cell_type": "code",
   "execution_count": null,
   "id": "marine-fiction",
   "metadata": {
    "tags": []
   },
   "outputs": [],
   "source": [
    "inactives = []\n",
    "\n",
    "for _, row in df_inactive[:10].iterrows():\n",
    "    # status part\n",
    "    dealname = row.dealname\n",
    "    dealstage_label = row.dealstage_label\n",
    "    amount = row.amount\n",
    "    print(dealname)\n",
    "    probability = row.probability\n",
    "    inactive = f\"{dealname} ({dealstage_label}): {format_number(amount)}\"\n",
    "    inactives += [inactive]\n",
    "\n",
    "inactives "
   ]
  },
  {
   "cell_type": "markdown",
   "id": "chief-continent",
   "metadata": {
    "papermill": {},
    "tags": []
   },
   "source": [
    "## Output"
   ]
  },
  {
   "cell_type": "markdown",
   "id": "liable-indiana",
   "metadata": {
    "papermill": {},
    "tags": []
   },
   "source": [
    "### Create email"
   ]
  },
  {
   "cell_type": "code",
   "execution_count": null,
   "id": "general-mother",
   "metadata": {
    "tags": []
   },
   "outputs": [],
   "source": [
    "def email_brief(today,\n",
    "                forecasted,\n",
    "                won,\n",
    "                weighted,\n",
    "                objective,\n",
    "                completion_p,\n",
    "                completion_v,\n",
    "                details,\n",
    "                inactives\n",
    "                ):\n",
    "    content = {\n",
    "        'txt_intro': (f\"Hi there,<br><br>\"\n",
    "                      f\"Here is your weekly sales email as of {today}.\"),\n",
    "\n",
    "        'title_1': emailbuilder.text(\"Overview\", font_size=\"27px\", text_align=\"center\", bold=True, underline=True),\n",
    "        \"text_1\": emailbuilder.text(f\"As of today, your yearly forecasted revenue is <b>{format_number(forecasted)}</b>.\"),\n",
    "        \"list_1\": emailbuilder.list([f\"Won : {format_number(won)}\",\n",
    "                                     f\"Weighted pipeline : {format_number(weighted)}\"]),\n",
    "        \"text_1_1\": emailbuilder.text(f\"Your yearly objective is {format_number(objective)} ({format_pourcentage(completion_p)} completion).\"),\n",
    "        \"text_1_2\": emailbuilder.text(f\"You need to find <b>{format_number(completion_v)}</b> to reach your goal !\"),\n",
    "        \n",
    "        'title_2': emailbuilder.text(\"Sales pipeline\", font_size=\"27px\", text_align=\"center\", bold=True, underline=True),\n",
    "        \"list_2\": emailbuilder.list(details),\n",
    "\n",
    "        'title_3': emailbuilder.text(\"Inactive deals\", font_size=\"27px\", text_align=\"center\", bold=True, underline=True),\n",
    "        'text_3': emailbuilder.text(\"Here are deals where you need to take actions :\"),\n",
    "        'list_3': emailbuilder.list(inactives),\n",
    "        'text_3_1': emailbuilder.text(\"If you need more details, jump into <a href='https://app.hubspot.com/'>Hubspot</a>.\"),\n",
    "        \n",
    "        'title_4': emailbuilder.text(\"Glossary\", bold=True, underline=True),\n",
    "        'list_4': emailbuilder.list([\"Yearly forecasted revenue :  Weighted amount + WON exclude LOST\",\n",
    "                                     \"Yearly objective : Input in script\",\n",
    "                                     \"Inactive deal : No activity for more than 10 days\"]),\n",
    "        \n",
    "        'footer_cs': emailbuilder.footer_company(naas=True),\n",
    "    }\n",
    "    \n",
    "    email_content = emailbuilder.generate(display='iframe', **content)\n",
    "    return email_content\n",
    "\n",
    "email_content = email_brief(today,\n",
    "                            forecasted,\n",
    "                            won,\n",
    "                            weighted,\n",
    "                            objective,\n",
    "                            completion_p,\n",
    "                            completion_v,\n",
    "                            details,\n",
    "                            inactives)"
   ]
  },
  {
   "cell_type": "markdown",
   "id": "nervous-worry",
   "metadata": {
    "papermill": {},
    "tags": []
   },
   "source": [
    "### Send email"
   ]
  },
  {
   "cell_type": "code",
   "execution_count": null,
   "id": "verified-birth",
   "metadata": {
    "papermill": {},
    "tags": []
   },
   "outputs": [],
   "source": [
    "naas.notification.send(email_to,\n",
    "                       email_subject,\n",
    "                       email_content)"
   ]
  }
 ],
 "metadata": {
  "kernelspec": {
   "display_name": "Python 3",
   "language": "python",
   "name": "python3"
  },
  "language_info": {
   "codemirror_mode": {
    "name": "ipython",
    "version": 3
   },
   "file_extension": ".py",
   "mimetype": "text/x-python",
   "name": "python",
   "nbconvert_exporter": "python",
   "pygments_lexer": "ipython3",
   "version": "3.8.8"
  },
  "papermill": {
   "default_parameters": {},
   "environment_variables": {},
   "parameters": {},
   "version": "2.3.3"
  },
  "widgets": {
   "application/vnd.jupyter.widget-state+json": {
    "state": {},
    "version_major": 2,
    "version_minor": 0
   }
  }
 },
 "nbformat": 4,
 "nbformat_minor": 5
}
