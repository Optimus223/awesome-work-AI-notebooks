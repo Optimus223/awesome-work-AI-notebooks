{
 "cells": [
  {
   "cell_type": "markdown",
   "id": "stainless-provision",
   "metadata": {},
   "source": [
    "<img width=\"10%\" alt=\"Naas\" src=\"https://landen.imgix.net/jtci2pxwjczr/assets/5ice39g4.png?w=160\"/>"
   ]
  },
  {
   "cell_type": "markdown",
   "id": "twenty-assistant",
   "metadata": {},
   "source": [
    "<img src=\"https://upload.wikimedia.org/wikipedia/commons/thumb/3/3f/HubSpot_Logo.svg/220px-HubSpot_Logo.svg.png\" alt=\"drawing\" width=\"200\" align='left'/>"
   ]
  },
  {
   "cell_type": "markdown",
   "id": "outstanding-extraction",
   "metadata": {
    "papermill": {},
    "tags": []
   },
   "source": [
    "# Hubspot - Send sales brief\n",
    "<a href=\"https://app.naas.ai/user-redirect/naas/downloader?url=https://raw.githubusercontent.com/jupyter-naas/awesome-notebooks/master/Qonto/Qonto_Releve_de_compte_augmente.ipynb\" target=\"_parent\"><img src=\"https://img.shields.io/badge/-Open%20in%20Naas-success?labelColor=000000&logo=data:image/svg+xml;base64,PD94bWwgdmVyc2lvbj0iMS4wIiBlbmNvZGluZz0iVVRGLTgiPz4KPHN2ZyB3aWR0aD0iMTAyNHB4IiBoZWlnaHQ9IjEwMjRweCIgdmlld0JveD0iMCAwIDEwMjQgMTAyNCIgeG1sbnM9Imh0dHA6Ly93d3cudzMub3JnLzIwMDAvc3ZnIiB4bWxuczp4bGluaz0iaHR0cDovL3d3dy53My5vcmcvMTk5OS94bGluayIgdmVyc2lvbj0iMS4xIj4KIDwhLS0gR2VuZXJhdGVkIGJ5IFBpeGVsbWF0b3IgUHJvIDIuMC41IC0tPgogPGRlZnM+CiAgPHRleHQgaWQ9InN0cmluZyIgdHJhbnNmb3JtPSJtYXRyaXgoMS4wIDAuMCAwLjAgMS4wIDIyOC4wIDU0LjUpIiBmb250LWZhbWlseT0iQ29tZm9ydGFhLVJlZ3VsYXIsIENvbWZvcnRhYSIgZm9udC1zaXplPSI4MDAiIHRleHQtZGVjb3JhdGlvbj0ibm9uZSIgZmlsbD0iI2ZmZmZmZiIgeD0iMS4xOTk5OTk5OTk5OTk5ODg2IiB5PSI3MDUuMCI+bjwvdGV4dD4KIDwvZGVmcz4KIDx1c2UgaWQ9Im4iIHhsaW5rOmhyZWY9IiNzdHJpbmciLz4KPC9zdmc+Cg==\"/></a>"
   ]
  },
  {
   "cell_type": "raw",
   "id": "dominican-collapse",
   "metadata": {},
   "source": [
    "#hubspot #crm #sales #brief #email"
   ]
  },
  {
   "cell_type": "markdown",
   "id": "unnecessary-console",
   "metadata": {
    "papermill": {},
    "tags": []
   },
   "source": [
    "## Input"
   ]
  },
  {
   "cell_type": "markdown",
   "id": "demographic-wells",
   "metadata": {
    "papermill": {},
    "tags": []
   },
   "source": [
    "### Import library"
   ]
  },
  {
   "cell_type": "code",
   "execution_count": null,
   "id": "wanted-logic",
   "metadata": {
    "papermill": {},
    "tags": []
   },
   "outputs": [],
   "source": [
    "from naas_drivers import emailbuilder, hubspot\n",
    "import naas\n",
    "import pandas as pd\n",
    "from datetime import datetime"
   ]
  },
  {
   "cell_type": "markdown",
   "id": "collaborative-david",
   "metadata": {
    "papermill": {},
    "tags": []
   },
   "source": [
    "### Enter your Hubspot api key"
   ]
  },
  {
   "cell_type": "code",
   "execution_count": null,
   "id": "loved-sitting",
   "metadata": {
    "papermill": {},
    "tags": []
   },
   "outputs": [],
   "source": [
    "auth_token = 'YOUR_HUBSPOT_API_KEY'"
   ]
  },
  {
   "cell_type": "markdown",
   "id": "ongoing-cameroon",
   "metadata": {},
   "source": [
    "### Connect to Hubspot"
   ]
  },
  {
   "cell_type": "code",
   "execution_count": null,
   "id": "skilled-topic",
   "metadata": {
    "tags": []
   },
   "outputs": [],
   "source": [
    "hs = hubspot.connect(auth_token)"
   ]
  },
  {
   "cell_type": "markdown",
   "id": "maritime-custom",
   "metadata": {
    "papermill": {},
    "tags": []
   },
   "source": [
    "### Email parameters"
   ]
  },
  {
   "cell_type": "code",
   "execution_count": null,
   "id": "young-latter",
   "metadata": {
    "papermill": {},
    "tags": []
   },
   "outputs": [],
   "source": [
    "# Receivers\n",
    "email_to = [\"your_email_adresse\"]\n",
    "\n",
    "# Email subject\n",
    "email_subject = f\"🚀 Hubspot - Sales Brief as of {datetime.now().strftime('%d/%m/%Y')} (Draft)\""
   ]
  },
  {
   "cell_type": "markdown",
   "id": "quick-anxiety",
   "metadata": {
    "execution": {
     "iopub.execute_input": "2021-08-04T10:49:28.903503Z",
     "iopub.status.busy": "2021-08-04T10:49:28.903265Z",
     "iopub.status.idle": "2021-08-04T10:49:28.906174Z",
     "shell.execute_reply": "2021-08-04T10:49:28.905520Z",
     "shell.execute_reply.started": "2021-08-04T10:49:28.903479Z"
    },
    "tags": []
   },
   "source": [
    "### Sales target"
   ]
  },
  {
   "cell_type": "code",
   "execution_count": null,
   "id": "dressed-theorem",
   "metadata": {
    "tags": []
   },
   "outputs": [],
   "source": [
    "objective = 300000"
   ]
  },
  {
   "cell_type": "markdown",
   "id": "progressive-capitol",
   "metadata": {},
   "source": [
    "### Pick your pipeline"
   ]
  },
  {
   "cell_type": "markdown",
   "id": "consecutive-juice",
   "metadata": {},
   "source": [
    "#### Get all pipelines"
   ]
  },
  {
   "cell_type": "code",
   "execution_count": null,
   "id": "professional-administration",
   "metadata": {
    "tags": []
   },
   "outputs": [],
   "source": [
    "df_pipelines = hs.pipelines.get_all()\n",
    "df_pipelines"
   ]
  },
  {
   "cell_type": "markdown",
   "id": "hindu-cuisine",
   "metadata": {},
   "source": [
    "#### Enter your pipeline id"
   ]
  },
  {
   "cell_type": "code",
   "execution_count": null,
   "id": "spare-gospel",
   "metadata": {
    "tags": []
   },
   "outputs": [],
   "source": [
    "pipeline_id = \"8432671\""
   ]
  },
  {
   "cell_type": "markdown",
   "id": "incredible-pencil",
   "metadata": {},
   "source": [
    "### Constants"
   ]
  },
  {
   "cell_type": "code",
   "execution_count": null,
   "id": "difficult-border",
   "metadata": {
    "tags": []
   },
   "outputs": [],
   "source": [
    "HUBSPOT_CARD = \"https://lib.umso.co/lib_sluGpRGQOLtkyEpz/na1lz0v9ejyurau2.png?w=1200&h=900&fit=max&dpr=2\"\n",
    "NAAS_WEBSITE = \"https://www.naas.ai\"\n",
    "EMAIL_DESCRIPTION = \"Your sales brief\"\n",
    "DATE_FORMAT = \"%Y-%m-%d\""
   ]
  },
  {
   "cell_type": "markdown",
   "id": "atmospheric-bookmark",
   "metadata": {
    "papermill": {},
    "tags": []
   },
   "source": [
    "### Schedule automation"
   ]
  },
  {
   "cell_type": "code",
   "execution_count": null,
   "id": "coordinated-registrar",
   "metadata": {
    "papermill": {},
    "tags": []
   },
   "outputs": [],
   "source": [
    "naas.scheduler.add(cron=\"0 8 * * 1\")"
   ]
  },
  {
   "cell_type": "markdown",
   "id": "civic-batman",
   "metadata": {
    "papermill": {},
    "tags": []
   },
   "source": [
    "### Get dealstages from pipeline"
   ]
  },
  {
   "cell_type": "code",
   "execution_count": null,
   "id": "covered-birmingham",
   "metadata": {
    "tags": []
   },
   "outputs": [],
   "source": [
    "df_dealstages = df_pipelines.copy()\n",
    "\n",
    "# Filter on pipeline\n",
    "df_dealstages = df_dealstages[df_dealstages.pipeline_id == pipeline_id]\n",
    "\n",
    "df_dealstages"
   ]
  },
  {
   "cell_type": "markdown",
   "id": "passive-forest",
   "metadata": {},
   "source": [
    "### Get deals from pipeline"
   ]
  },
  {
   "cell_type": "code",
   "execution_count": null,
   "id": "valued-kenya",
   "metadata": {
    "tags": []
   },
   "outputs": [],
   "source": [
    "properties = [\n",
    "    \"hs_object_id\",\n",
    "    \"dealname\",\n",
    "    \"dealstage\",\n",
    "    \"pipeline\",\n",
    "    \"createdate\",\n",
    "    \"hs_lastmodifieddate\",\n",
    "    \"closedate\",\n",
    "    \"amount\"\n",
    "]\n",
    "df_deals = hs.deals.get_all(properties)\n",
    "\n",
    "# Filter on pipeline\n",
    "df_deals = df_deals[df_deals.pipeline == pipeline_id].reset_index(drop=True)\n",
    "\n",
    "df_deals"
   ]
  },
  {
   "cell_type": "markdown",
   "id": "liquid-lloyd",
   "metadata": {
    "papermill": {},
    "tags": []
   },
   "source": [
    "## Model"
   ]
  },
  {
   "cell_type": "markdown",
   "id": "developmental-english",
   "metadata": {},
   "source": [
    "### Formatting functions"
   ]
  },
  {
   "cell_type": "code",
   "execution_count": null,
   "id": "stock-leadership",
   "metadata": {
    "tags": []
   },
   "outputs": [],
   "source": [
    "def format_number(num):\n",
    "    NUMBER_FORMAT = \"{:,.0f} €\"\n",
    "    num = str(NUMBER_FORMAT.format(num)).replace(\",\", \" \")\n",
    "    return num"
   ]
  },
  {
   "cell_type": "code",
   "execution_count": null,
   "id": "roman-exhibit",
   "metadata": {
    "tags": []
   },
   "outputs": [],
   "source": [
    "def format_pourcentage(num):\n",
    "    NUMBER_FORMAT = \"{:,.0%}\"\n",
    "    num = str(NUMBER_FORMAT.format(num))\n",
    "    return num"
   ]
  },
  {
   "cell_type": "code",
   "execution_count": null,
   "id": "nearby-memorabilia",
   "metadata": {
    "tags": []
   },
   "outputs": [],
   "source": [
    "def format_varv(num):\n",
    "    NUMBER_FORMAT = \"+{:,.0f} €\"\n",
    "    num = str(NUMBER_FORMAT.format(num)).replace(\",\", \" \")\n",
    "    return num"
   ]
  },
  {
   "cell_type": "markdown",
   "id": "conscious-hollow",
   "metadata": {},
   "source": [
    "### Create sales pipeline database"
   ]
  },
  {
   "cell_type": "code",
   "execution_count": null,
   "id": "brutal-brisbane",
   "metadata": {
    "tags": []
   },
   "outputs": [],
   "source": [
    "df_sales = pd.merge(df_deals.drop(\"pipeline\", axis=1),\n",
    "                    df_dealstages.drop([\"pipeline\", \"pipeline_id\", \"createdAt\", \"updatedAt\", \"archived\"], axis=1),\n",
    "                    left_on=\"dealstage\",\n",
    "                    right_on=\"dealstage_id\",\n",
    "                    how=\"left\")\n",
    "df_sales"
   ]
  },
  {
   "cell_type": "code",
   "execution_count": null,
   "id": "literary-romantic",
   "metadata": {
    "tags": []
   },
   "outputs": [],
   "source": [
    "df_sales_c = df_sales.copy()\n",
    "\n",
    "# Cleaning\n",
    "df_sales_c[\"amount\"] = df_sales_c[\"amount\"].fillna(\"0\")\n",
    "df_sales_c.loc[df_sales_c[\"amount\"] == \"\", \"amount\"] = \"0\"\n",
    "\n",
    "# Formatting\n",
    "df_sales_c[\"amount\"] = df_sales_c[\"amount\"].astype(float)\n",
    "df_sales_c[\"probability\"] =  df_sales_c[\"probability\"].astype(float)\n",
    "df_sales_c.createdate = pd.to_datetime(df_sales_c.createdate)\n",
    "df_sales_c.hs_lastmodifieddate = pd.to_datetime(df_sales_c.hs_lastmodifieddate)\n",
    "df_sales_c.closedate = pd.to_datetime(df_sales_c.closedate)\n",
    "\n",
    "# Calc\n",
    "df_sales_c[\"forecasted\"] = df_sales_c[\"amount\"] * df_sales_c[\"probability\"]\n",
    "\n",
    "df_sales_c"
   ]
  },
  {
   "cell_type": "markdown",
   "id": "pressing-above",
   "metadata": {},
   "source": [
    "### Create sales pipeline agregated by dealstages"
   ]
  },
  {
   "cell_type": "code",
   "execution_count": null,
   "id": "educational-victor",
   "metadata": {
    "tags": []
   },
   "outputs": [],
   "source": [
    "df_details = df_sales_c.copy()\n",
    "\n",
    "# Groupby\n",
    "to_group = [\n",
    "    \"dealstage_label\",\n",
    "    \"probability\",\n",
    "    \"displayOrder\"\n",
    "]\n",
    "to_agg = {\n",
    "    \"amount\": \"sum\",\n",
    "    \"dealname\": \"count\",\n",
    "    \"forecasted\": \"sum\"\n",
    "}\n",
    "df_details = df_details.groupby(to_group, as_index=False).agg(to_agg)\n",
    "\n",
    "# Sort\n",
    "df_details = df_details.sort_values(\"displayOrder\")\n",
    "\n",
    "df_details"
   ]
  },
  {
   "cell_type": "markdown",
   "id": "composite-owner",
   "metadata": {},
   "source": [
    "### Calculate email parameters"
   ]
  },
  {
   "cell_type": "code",
   "execution_count": null,
   "id": "preliminary-rainbow",
   "metadata": {
    "tags": []
   },
   "outputs": [],
   "source": [
    "forecasted = df_details.forecasted.sum()\n",
    "forecasted"
   ]
  },
  {
   "cell_type": "code",
   "execution_count": null,
   "id": "wired-sister",
   "metadata": {
    "tags": []
   },
   "outputs": [],
   "source": [
    "won = df_details[df_details[\"probability\"] == 1].forecasted.sum()\n",
    "won"
   ]
  },
  {
   "cell_type": "code",
   "execution_count": null,
   "id": "incident-violence",
   "metadata": {
    "tags": []
   },
   "outputs": [],
   "source": [
    "weighted = df_details[df_details[\"probability\"] < 1].forecasted.sum()\n",
    "weighted"
   ]
  },
  {
   "cell_type": "code",
   "execution_count": null,
   "id": "amateur-village",
   "metadata": {
    "tags": []
   },
   "outputs": [],
   "source": [
    "completion_p = forecasted / objective\n",
    "completion_p"
   ]
  },
  {
   "cell_type": "code",
   "execution_count": null,
   "id": "amazing-deployment",
   "metadata": {
    "tags": []
   },
   "outputs": [],
   "source": [
    "completion_v = objective - forecasted\n",
    "completion_v"
   ]
  },
  {
   "cell_type": "code",
   "execution_count": null,
   "id": "deadly-intent",
   "metadata": {
    "tags": []
   },
   "outputs": [],
   "source": [
    "today = datetime.now().strftime(DATE_FORMAT)\n",
    "today"
   ]
  },
  {
   "cell_type": "markdown",
   "id": "seventh-composite",
   "metadata": {},
   "source": [
    "### Get pipeline details"
   ]
  },
  {
   "cell_type": "code",
   "execution_count": null,
   "id": "sensitive-primary",
   "metadata": {
    "tags": []
   },
   "outputs": [],
   "source": [
    "df = df_details.copy()\n",
    "\n",
    "details = []\n",
    "\n",
    "for _, row in df.iterrows():\n",
    "    # status part\n",
    "    dealstage = row.dealstage_label\n",
    "    probability = row.probability\n",
    "    detail = f\"{dealstage} ({format_pourcentage(probability)})\"\n",
    "    \n",
    "    # amount part\n",
    "    amount = row.amount\n",
    "    number = row.dealname\n",
    "    forecasted_ = row.forecasted\n",
    "    if (probability < 1 and probability > 0):\n",
    "        detail = f\"{detail}: <ul><li>Amount : {format_number(amount)}</li><li>Number : {number}</li><li>Weighted amount : <b>{format_number(forecasted_)}</b></li></ul>\"\n",
    "    else:\n",
    "        detail = f\"{detail}: {format_number(amount)}\"\n",
    "        \n",
    "    details += [detail]\n",
    "\n",
    "details"
   ]
  },
  {
   "cell_type": "markdown",
   "id": "demographic-california",
   "metadata": {},
   "source": [
    "### Get inactives deals"
   ]
  },
  {
   "cell_type": "code",
   "execution_count": null,
   "id": "thousand-garage",
   "metadata": {
    "tags": []
   },
   "outputs": [],
   "source": [
    "df_inactive = df_sales_c.copy()\n",
    "\n",
    "df_inactive.hs_lastmodifieddate = pd.to_datetime(df_inactive.hs_lastmodifieddate).dt.strftime(DATE_FORMAT)\n",
    "\n",
    "df_inactive[\"inactive_time\"] = (datetime.now() - pd.to_datetime(df_inactive.hs_lastmodifieddate, format=DATE_FORMAT)).dt.days\n",
    "df_inactive.loc[(df_inactive[\"inactive_time\"] > 30, \"inactive\")] = \"inactive\"\n",
    "df_inactive = df_inactive[(df_inactive.inactive == 'inactive') &\n",
    "                          (df_inactive.amount != 0) & \n",
    "                          (df_inactive.probability > 0.) & \n",
    "                          (df_inactive.probability < 1)].sort_values(\"amount\", ascending=False).reset_index(drop=True)\n",
    "\n",
    "df_inactive"
   ]
  },
  {
   "cell_type": "code",
   "execution_count": null,
   "id": "consolidated-offer",
   "metadata": {
    "tags": []
   },
   "outputs": [],
   "source": [
    "inactives = []\n",
    "\n",
    "for _, row in df_inactive[:10].iterrows():\n",
    "    # status part\n",
    "    dealname = row.dealname\n",
    "    dealstage_label = row.dealstage_label\n",
    "    amount = row.amount\n",
    "    probability = row.probability\n",
    "    inactive = f\"{dealname} ({dealstage_label}): <b>{format_number(amount)}</b>\"\n",
    "    inactives += [inactive]\n",
    "\n",
    "inactives"
   ]
  },
  {
   "cell_type": "markdown",
   "id": "satellite-burns",
   "metadata": {},
   "source": [
    "### Create pipeline waterfall"
   ]
  },
  {
   "cell_type": "code",
   "execution_count": null,
   "id": "certain-titanium",
   "metadata": {
    "tags": []
   },
   "outputs": [],
   "source": [
    "import plotly.graph_objects as go\n",
    "\n",
    "fig = go.Figure(go.Waterfall(name=\"20\",\n",
    "                             orientation = \"v\",\n",
    "                             measure = [\"relative\", \"relative\", \"total\", \"relative\", \"total\"],\n",
    "                             x = [\"Won\", \"Pipeline\", \"Forecast\", \"Missing\", \"Objective\"],\n",
    "                             textposition = \"outside\",\n",
    "                             text = [format_number(won), format_varv(weighted), format_number(forecasted), format_varv(completion_v), format_number(objective)],\n",
    "                             y = [won, weighted, forecasted, completion_v, objective],\n",
    "                            decreasing = {\"marker\":{\"color\":\"#33475b\"}},\n",
    "                            increasing = {\"marker\":{\"color\":\"#33475b\"}},\n",
    "                            totals = {\"marker\":{\"color\":\"#ff7a59\"}}\n",
    "))\n",
    "\n",
    "\n",
    "fig.update_layout(title = \"Sales Metrics\", plot_bgcolor=\"#ffffff\", hovermode='x')\n",
    "fig.update_yaxes(tickprefix=\"€\", gridcolor='#eaeaea')\n",
    "fig.show()"
   ]
  },
  {
   "cell_type": "code",
   "execution_count": null,
   "id": "collected-gibraltar",
   "metadata": {
    "tags": []
   },
   "outputs": [],
   "source": [
    "fig.write_html(\"GRAPH_FILE.html\")\n",
    "fig.write_image(\"GRAPH_IMG.png\")\n",
    "\n",
    "params = {\"inline\": True}\n",
    "\n",
    "graph_url = naas.asset.add(\"GRAPH_FILE.html\", params=params)\n",
    "graph_image = naas.asset.add(\"GRAPH_IMG.png\")"
   ]
  },
  {
   "cell_type": "markdown",
   "id": "veterinary-hacker",
   "metadata": {
    "papermill": {},
    "tags": []
   },
   "source": [
    "### Create email"
   ]
  },
  {
   "cell_type": "code",
   "execution_count": null,
   "id": "spectacular-african",
   "metadata": {
    "tags": []
   },
   "outputs": [],
   "source": [
    "def email_brief(today,\n",
    "                forecasted,\n",
    "                won,\n",
    "                weighted,\n",
    "                objective,\n",
    "                completion_p,\n",
    "                completion_v,\n",
    "                details,\n",
    "                inactives\n",
    "                ):\n",
    "    content = {\n",
    "        'title': (f\"<a href='{NAAS_WEBSITE}'>\"\n",
    "                   f\"<img align='center' width='100%' target='_blank' style='border-radius:5px;'\"\n",
    "                   f\"src='{HUBSPOT_CARD}' alt={EMAIL_DESCRIPTION}/>\"\n",
    "                   \"</a>\"),\n",
    "        \n",
    "        'txt_intro': (f\"Hi there,<br><br>\"\n",
    "                      f\"Here is your weekly sales email as of {today}.\"),\n",
    "\n",
    "        'title_1': emailbuilder.text(\"Overview\", font_size=\"27px\", text_align=\"center\", bold=True),\n",
    "        \"text_1\": emailbuilder.text(f\"As of today, your yearly forecasted revenue is {format_number(forecasted)}.\"),\n",
    "        \"list_1\": emailbuilder.list([f\"Won : {format_number(won)}\",\n",
    "                                     f\"Weighted pipeline : <b>{format_number(weighted)}</b>\"]),\n",
    "        \"text_1_2\": emailbuilder.text(f\"You need to find 👉 <u>{format_number(completion_v)}</u> to reach your goal !\"),\n",
    "        \"text_1_1\": emailbuilder.text(f\"Your yearly objective is {format_number(objective)} ({format_pourcentage(completion_p)} completion).\"),\n",
    "        'image_1': emailbuilder.image(graph_image, link=graph_url),\n",
    "        \n",
    "        'title_2': emailbuilder.text(\"🚀 Pipeline\", font_size=\"27px\", text_align=\"center\", bold=True),\n",
    "        \"list_2\": emailbuilder.list(details),\n",
    "\n",
    "        'title_3': emailbuilder.text(\"🧐 Actions needed\", font_size=\"27px\", text_align=\"center\", bold=True),\n",
    "        'text_3': emailbuilder.text(\"Here are deals where you need to take actions :\"),\n",
    "        'list_3': emailbuilder.list(inactives),\n",
    "        'text_3_1': emailbuilder.text(\"If you need more details, connect to Hubspot with the link below.\"),\n",
    "        'button_1': emailbuilder.button(link=\"https://app.hubspot.com/\",\n",
    "                                        text=\"Go to Hubpsot\",\n",
    "                                        background_color=\"#ff7a59\"),\n",
    "        \n",
    "        'title_4': emailbuilder.text(\"Glossary\", text_align=\"center\", bold=True, underline=True),\n",
    "        'list_4': emailbuilder.list([\"Yearly forecasted revenue :  Weighted amount + WON exclude LOST\",\n",
    "                                     \"Yearly objective : Input in script\",\n",
    "                                     \"Inactive deal : No activity for more than 30 days\"]),\n",
    "        \n",
    "        'footer_cs': emailbuilder.footer_company(naas=True),\n",
    "    }\n",
    "    \n",
    "    email_content = emailbuilder.generate(display='iframe', **content)\n",
    "    return email_content\n",
    "\n",
    "email_content = email_brief(today,\n",
    "                            forecasted,\n",
    "                            won,\n",
    "                            weighted,\n",
    "                            objective,\n",
    "                            completion_p,\n",
    "                            completion_v,\n",
    "                            details,\n",
    "                            inactives)"
   ]
  },
  {
   "cell_type": "markdown",
   "id": "empirical-contest",
   "metadata": {
    "papermill": {},
    "tags": []
   },
   "source": [
    "## Output"
   ]
  },
  {
   "cell_type": "markdown",
   "id": "olive-kitchen",
   "metadata": {
    "papermill": {},
    "tags": []
   },
   "source": [
    "### Send email"
   ]
  },
  {
   "cell_type": "code",
   "execution_count": null,
   "id": "comic-distance",
   "metadata": {
    "papermill": {},
    "tags": []
   },
   "outputs": [],
   "source": [
    "naas.notification.send(email_to,\n",
    "                       email_subject,\n",
    "                       email_content)"
   ]
  }
 ],
 "metadata": {
  "kernelspec": {
   "display_name": "Python 3",
   "language": "python",
   "name": "python3"
  },
  "language_info": {
   "codemirror_mode": {
    "name": "ipython",
    "version": 3
   },
   "file_extension": ".py",
   "mimetype": "text/x-python",
   "name": "python",
   "nbconvert_exporter": "python",
   "pygments_lexer": "ipython3",
   "version": "3.8.8"
  },
  "papermill": {
   "default_parameters": {},
   "environment_variables": {},
   "parameters": {},
   "version": "2.3.3"
  },
  "widgets": {
   "application/vnd.jupyter.widget-state+json": {
    "state": {},
    "version_major": 2,
    "version_minor": 0
   }
  }
 },
 "nbformat": 4,
 "nbformat_minor": 5
}
