{
 "cells": [
  {
   "cell_type": "markdown",
   "id": "encouraging-netherlands",
   "metadata": {
    "execution": {
     "iopub.execute_input": "2021-01-25T08:00:35.294800Z",
     "iopub.status.busy": "2021-01-25T08:00:35.294557Z",
     "iopub.status.idle": "2021-01-25T08:00:35.307281Z",
     "shell.execute_reply": "2021-01-25T08:00:35.306468Z",
     "shell.execute_reply.started": "2021-01-25T08:00:35.294775Z"
    },
    "papermill": {},
    "tags": []
   },
   "source": [
    "<img width=\"10%\" alt=\"Naas\" src=\"https://landen.imgix.net/jtci2pxwjczr/assets/5ice39g4.png?w=160\"/>"
   ]
  },
  {
   "cell_type": "markdown",
   "id": "aff394ec-92f1-4cf8-9e94-5ab4b69f9a39",
   "metadata": {
    "papermill": {},
    "tags": []
   },
   "source": [
    "<img src=\"https://upload.wikimedia.org/wikipedia/commons/thumb/3/3f/HubSpot_Logo.svg/220px-HubSpot_Logo.svg.png\" alt=\"drawing\" width=\"200\" align='left'/>"
   ]
  },
  {
   "cell_type": "markdown",
   "id": "suitable-timer",
   "metadata": {
    "papermill": {},
    "tags": []
   },
   "source": [
    "# Hubspot - Create contacts from linkedin post likes\n",
    "<a href=\"https://app.naas.ai/user-redirect/naas/downloader?url=https://raw.githubusercontent.com/jupyter-naas/awesome-notebooks/master/Hubspot/Hubspot_create_contacts_from_linkedin_post_likes.ipynb\" target=\"_parent\"><img src=\"https://img.shields.io/badge/-Open%20in%20Naas-success?labelColor=000000&logo=data:image/svg+xml;base64,PD94bWwgdmVyc2lvbj0iMS4wIiBlbmNvZGluZz0iVVRGLTgiPz4KPHN2ZyB3aWR0aD0iMTAyNHB4IiBoZWlnaHQ9IjEwMjRweCIgdmlld0JveD0iMCAwIDEwMjQgMTAyNCIgeG1sbnM9Imh0dHA6Ly93d3cudzMub3JnLzIwMDAvc3ZnIiB4bWxuczp4bGluaz0iaHR0cDovL3d3dy53My5vcmcvMTk5OS94bGluayIgdmVyc2lvbj0iMS4xIj4KIDwhLS0gR2VuZXJhdGVkIGJ5IFBpeGVsbWF0b3IgUHJvIDIuMC41IC0tPgogPGRlZnM+CiAgPHRleHQgaWQ9InN0cmluZyIgdHJhbnNmb3JtPSJtYXRyaXgoMS4wIDAuMCAwLjAgMS4wIDIyOC4wIDU0LjUpIiBmb250LWZhbWlseT0iQ29tZm9ydGFhLVJlZ3VsYXIsIENvbWZvcnRhYSIgZm9udC1zaXplPSI4MDAiIHRleHQtZGVjb3JhdGlvbj0ibm9uZSIgZmlsbD0iI2ZmZmZmZiIgeD0iMS4xOTk5OTk5OTk5OTk5ODg2IiB5PSI3MDUuMCI+bjwvdGV4dD4KIDwvZGVmcz4KIDx1c2UgaWQ9Im4iIHhsaW5rOmhyZWY9IiNzdHJpbmciLz4KPC9zdmc+Cg==\"/></a>"
   ]
  },
  {
   "cell_type": "markdown",
   "id": "5f8159ba-3a38-469d-a7b8-932db42b090c",
   "metadata": {
    "papermill": {},
    "tags": []
   },
   "source": [
    "#hubspot #crm #sales #linkedin #post #contact"
   ]
  },
  {
   "cell_type": "markdown",
   "id": "progressive-measure",
   "metadata": {
    "papermill": {},
    "tags": []
   },
   "source": [
    "## Input"
   ]
  },
  {
   "cell_type": "markdown",
   "id": "354a22f1-884a-43c8-b885-b01a79ae1e53",
   "metadata": {
    "papermill": {},
    "tags": []
   },
   "source": [
    "### Install librairies"
   ]
  },
  {
   "cell_type": "code",
   "execution_count": 20,
   "id": "polish-singer",
   "metadata": {
    "execution": {
     "iopub.execute_input": "2021-09-16T13:11:07.986239Z",
     "iopub.status.busy": "2021-09-16T13:11:07.985934Z",
     "iopub.status.idle": "2021-09-16T13:11:07.989359Z",
     "shell.execute_reply": "2021-09-16T13:11:07.988797Z",
     "shell.execute_reply.started": "2021-09-16T13:11:07.986204Z"
    },
    "papermill": {},
    "tags": []
   },
   "outputs": [],
   "source": [
    "from naas_drivers import linkedin, hubspot\n",
    "import naas\n",
    "import requests"
   ]
  },
  {
   "cell_type": "markdown",
   "id": "ef4f8614-216f-4df0-aff4-308bf15fcfa1",
   "metadata": {
    "papermill": {},
    "tags": []
   },
   "source": [
    "### Setup your secrets\n",
    "Uncomment lines to setup.<br>\n",
    "<a href='https://docs.naas.ai/features/secret'>How to setup your secret keys ?</a>"
   ]
  },
  {
   "cell_type": "markdown",
   "id": "c8cd382e-711a-4448-8d9f-bcd2184d5c43",
   "metadata": {
    "execution": {
     "iopub.execute_input": "2021-09-14T17:59:39.967449Z",
     "iopub.status.busy": "2021-09-14T17:59:39.967147Z",
     "iopub.status.idle": "2021-09-14T17:59:39.970624Z",
     "shell.execute_reply": "2021-09-14T17:59:39.970050Z",
     "shell.execute_reply.started": "2021-09-14T17:59:39.967418Z"
    },
    "papermill": {},
    "tags": []
   },
   "source": [
    "#### → For Hubspot"
   ]
  },
  {
   "cell_type": "code",
   "execution_count": 21,
   "id": "61346336-d0cb-4c76-bd76-5cdb7f66eb41",
   "metadata": {
    "execution": {
     "iopub.execute_input": "2021-09-16T13:11:09.525137Z",
     "iopub.status.busy": "2021-09-16T13:11:09.524872Z",
     "iopub.status.idle": "2021-09-16T13:11:09.530496Z",
     "shell.execute_reply": "2021-09-16T13:11:09.529939Z",
     "shell.execute_reply.started": "2021-09-16T13:11:09.525085Z"
    },
    "papermill": {},
    "tags": []
   },
   "outputs": [],
   "source": [
    "#naas.secret.add('HUBSPOT_API_KEY', secret=\"7696655f-3aff-4524-84f1-5c988abdab9f\")"
   ]
  },
  {
   "cell_type": "markdown",
   "id": "f7f349e8-2797-4506-bb03-7d00763753dc",
   "metadata": {
    "papermill": {},
    "tags": []
   },
   "source": [
    "#### → For LinkedIn"
   ]
  },
  {
   "cell_type": "markdown",
   "id": "preceding-differential",
   "metadata": {
    "papermill": {},
    "tags": []
   },
   "source": [
    "<a href='https://www.notion.so/LinkedIn-driver-Get-your-cookies-d20a8e7e508e42af8a5b52e33f3dba75'>How to get your cookies ?</a>"
   ]
  },
  {
   "cell_type": "code",
   "execution_count": 22,
   "id": "e9a6cbd5-3b8f-4983-9c64-e257585a0619",
   "metadata": {
    "execution": {
     "iopub.execute_input": "2021-09-16T13:11:11.994057Z",
     "iopub.status.busy": "2021-09-16T13:11:11.993821Z",
     "iopub.status.idle": "2021-09-16T13:11:11.996791Z",
     "shell.execute_reply": "2021-09-16T13:11:11.996193Z",
     "shell.execute_reply.started": "2021-09-16T13:11:11.994033Z"
    },
    "papermill": {},
    "tags": []
   },
   "outputs": [],
   "source": [
    "#naas.secret.add('LINKEDIN_LI_AT', secret=\"***\")# EXAMPLE AQFAzQN_PLPR4wAAAXc-FCKmgiMit5FLdY1af3-2\n",
    "#naas.secret.add('LINKEDIN_JSESSIONID', secret= \"ajax:***\") # EXAMPLE ajax:8379907400220387585"
   ]
  },
  {
   "cell_type": "markdown",
   "id": "a72e9a8b-96db-47e2-9475-42b8c85e2171",
   "metadata": {
    "papermill": {},
    "tags": []
   },
   "source": [
    "### Configure secrets to connect to APIs"
   ]
  },
  {
   "cell_type": "code",
   "execution_count": 23,
   "id": "02195776-23ff-4b14-9df3-c18749be67b7",
   "metadata": {
    "execution": {
     "iopub.execute_input": "2021-09-16T13:11:13.798281Z",
     "iopub.status.busy": "2021-09-16T13:11:13.798043Z",
     "iopub.status.idle": "2021-09-16T13:11:13.922421Z",
     "shell.execute_reply": "2021-09-16T13:11:13.921693Z",
     "shell.execute_reply.started": "2021-09-16T13:11:13.798258Z"
    },
    "papermill": {},
    "tags": []
   },
   "outputs": [],
   "source": [
    "#Hubspot API\n",
    "auth_token = naas.secret.get('HUBSPOT_API_KEY')"
   ]
  },
  {
   "cell_type": "code",
   "execution_count": 24,
   "id": "analyzed-contributor",
   "metadata": {
    "execution": {
     "iopub.execute_input": "2021-09-16T13:11:15.207654Z",
     "iopub.status.busy": "2021-09-16T13:11:15.207349Z",
     "iopub.status.idle": "2021-09-16T13:11:15.451690Z",
     "shell.execute_reply": "2021-09-16T13:11:15.451095Z",
     "shell.execute_reply.started": "2021-09-16T13:11:15.207621Z"
    },
    "papermill": {},
    "tags": []
   },
   "outputs": [],
   "source": [
    "# LinkedIn API\n",
    "LI_AT = naas.secret.get('LINKEDIN_LI_AT') \n",
    "JSESSIONID = naas.secret.get('LINKEDIN_JSESSIONID')  "
   ]
  },
  {
   "cell_type": "markdown",
   "id": "metric-innocent",
   "metadata": {
    "papermill": {},
    "tags": []
   },
   "source": [
    "### Enter post URL"
   ]
  },
  {
   "cell_type": "code",
   "execution_count": 25,
   "id": "younger-ending",
   "metadata": {
    "execution": {
     "iopub.execute_input": "2021-09-16T13:11:17.816985Z",
     "iopub.status.busy": "2021-09-16T13:11:17.816752Z",
     "iopub.status.idle": "2021-09-16T13:11:17.819922Z",
     "shell.execute_reply": "2021-09-16T13:11:17.819277Z",
     "shell.execute_reply.started": "2021-09-16T13:11:17.816962Z"
    },
    "papermill": {},
    "tags": []
   },
   "outputs": [],
   "source": [
    "POST_URL = \"----\""
   ]
  },
  {
   "cell_type": "markdown",
   "id": "f56333ea-eee6-481c-b6af-353a09003b2e",
   "metadata": {
    "papermill": {},
    "tags": []
   },
   "source": [
    "### Get post likes"
   ]
  },
  {
   "cell_type": "code",
   "execution_count": 27,
   "id": "animal-airport",
   "metadata": {
    "execution": {
     "iopub.execute_input": "2021-09-16T13:11:55.051176Z",
     "iopub.status.busy": "2021-09-16T13:11:55.050936Z",
     "iopub.status.idle": "2021-09-16T13:11:56.246633Z",
     "shell.execute_reply": "2021-09-16T13:11:56.245994Z",
     "shell.execute_reply.started": "2021-09-16T13:11:55.051154Z"
    },
    "papermill": {},
    "tags": []
   },
   "outputs": [],
   "source": [
    "df_posts = linkedin.connect(LI_AT, JSESSIONID).post.get_likes(POST_URL)\n",
    "\n",
    "# Display the number of likes\n",
    "print(\"Number of likes: \", df_posts.PROFILE_URN.count())"
   ]
  },
  {
   "cell_type": "code",
   "execution_count": null,
   "id": "eef71bc3-fe71-4d91-9047-e17d07f4681a",
   "metadata": {
    "papermill": {},
    "tags": []
   },
   "outputs": [],
   "source": [
    "# Show dataframe with list of profiles from likes \n",
    "df_posts"
   ]
  },
  {
   "cell_type": "markdown",
   "id": "looking-olympus",
   "metadata": {
    "papermill": {},
    "tags": []
   },
   "source": [
    "## Model"
   ]
  },
  {
   "cell_type": "markdown",
   "id": "d3839bf3-42de-41ed-b1f7-8a73bffed907",
   "metadata": {
    "papermill": {},
    "tags": []
   },
   "source": [
    "### Create contacts from LinkedIn post likes"
   ]
  },
  {
   "cell_type": "code",
   "execution_count": 46,
   "id": "63db7cf8-2b32-4a5c-9834-38dac9953bc4",
   "metadata": {
    "execution": {
     "iopub.execute_input": "2021-09-16T13:22:11.143566Z",
     "iopub.status.busy": "2021-09-16T13:22:11.143326Z",
     "iopub.status.idle": "2021-09-16T13:22:11.148770Z",
     "shell.execute_reply": "2021-09-16T13:22:11.148066Z",
     "shell.execute_reply.started": "2021-09-16T13:22:11.143543Z"
    },
    "papermill": {},
    "tags": []
   },
   "outputs": [],
   "source": [
    "def create_contacts_from_post(df,\n",
    "                              c_profile_urn=\"PROFILE_URN\",\n",
    "                              c_firstname=\"FIRSTNAME\",\n",
    "                              c_lastname=\"LASTNAME\",\n",
    "                              c_occupation=\"OCCUPATION\"):\n",
    "    for _, row in df.iterrows():\n",
    "        profile_urn = row[c_profile_urn]\n",
    "        firstname = row[c_firstname]\n",
    "        lastname = row[c_lastname]\n",
    "        occupation = row[c_occupation]\n",
    "        linkedinbio = f\"https://www.linkedin.com/in/{profile_urn}\"\n",
    "        email = None\n",
    "        phone = None\n",
    "\n",
    "        # contact\n",
    "        try:\n",
    "            contact = linkedin.connect(LI_AT, JSESSIONID).profile.get_contact(linkedinbio)\n",
    "            email = contact.loc[0, \"EMAIL\"]\n",
    "            phone = contact.loc[0, \"PHONENUMBER\"]\n",
    "        except:\n",
    "            print(\"No contact info\")\n",
    "\n",
    "        # With send method\n",
    "        data = {\"properties\": \n",
    "                {\n",
    "                    \"linkedinbio\": linkedinbio,\n",
    "                    \"firstname\": firstname,\n",
    "                    \"lastname\": lastname,\n",
    "                    \"jobtitle\": occupation,\n",
    "                    \"email\": email,\n",
    "                    \"phone\": phone,\n",
    "                }\n",
    "               }\n",
    "        print(data)\n",
    "        hubspot.connect(auth_token).contacts.send(data)"
   ]
  },
  {
   "cell_type": "markdown",
   "id": "stretch-adobe",
   "metadata": {
    "papermill": {},
    "tags": []
   },
   "source": [
    "## Output"
   ]
  },
  {
   "cell_type": "markdown",
   "id": "suited-mount",
   "metadata": {
    "papermill": {},
    "tags": []
   },
   "source": [
    "### Display result"
   ]
  },
  {
   "cell_type": "code",
   "execution_count": null,
   "id": "7b7503fe-dff4-4d3c-be53-d8eed9894088",
   "metadata": {
    "papermill": {},
    "tags": []
   },
   "outputs": [],
   "source": [
    "create_contacts_from_post(df_posts)"
   ]
  }
 ],
 "metadata": {
  "kernelspec": {
   "display_name": "Python 3",
   "language": "python",
   "name": "python3"
  },
  "language_info": {
   "codemirror_mode": {
    "name": "ipython",
    "version": 3
   },
   "file_extension": ".py",
   "mimetype": "text/x-python",
   "name": "python",
   "nbconvert_exporter": "python",
   "pygments_lexer": "ipython3",
   "version": "3.8.8"
  },
  "papermill": {
   "default_parameters": {},
   "environment_variables": {},
   "parameters": {},
   "version": "2.3.3"
  },
  "widgets": {
   "application/vnd.jupyter.widget-state+json": {
    "state": {},
    "version_major": 2,
    "version_minor": 0
   }
  }
 },
 "nbformat": 4,
 "nbformat_minor": 5
}