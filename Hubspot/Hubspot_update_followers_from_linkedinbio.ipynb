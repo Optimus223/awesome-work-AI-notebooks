{
 "cells": [
  {
   "cell_type": "markdown",
   "id": "korean-tower",
   "metadata": {
    "papermill": {},
    "tags": []
   },
   "source": [
    "<img width=\"10%\" alt=\"Naas\" src=\"https://landen.imgix.net/jtci2pxwjczr/assets/5ice39g4.png?w=160\"/>"
   ]
  },
  {
   "cell_type": "markdown",
   "id": "unable-illinois",
   "metadata": {
    "papermill": {},
    "tags": []
   },
   "source": [
    "<img src=\"https://upload.wikimedia.org/wikipedia/commons/thumb/3/3f/HubSpot_Logo.svg/220px-HubSpot_Logo.svg.png\" alt=\"drawing\" width=\"200\" align='left'/>"
   ]
  },
  {
   "cell_type": "markdown",
   "id": "affecting-cooler",
   "metadata": {
    "papermill": {},
    "tags": []
   },
   "source": [
    "# Hubspot - Update followers from linkedinbio\n",
    "<a href=\"https://app.naas.ai/user-redirect/naas/downloader?url=https://raw.githubusercontent.com/jupyter-naas/awesome-notebooks/master/Hubspot/Hubspot_update_followers_from_linkedinbio.ipynb\" target=\"_parent\"><img src=\"https://img.shields.io/badge/-Open%20in%20Naas-success?labelColor=000000&logo=data:image/svg+xml;base64,PD94bWwgdmVyc2lvbj0iMS4wIiBlbmNvZGluZz0iVVRGLTgiPz4KPHN2ZyB3aWR0aD0iMTAyNHB4IiBoZWlnaHQ9IjEwMjRweCIgdmlld0JveD0iMCAwIDEwMjQgMTAyNCIgeG1sbnM9Imh0dHA6Ly93d3cudzMub3JnLzIwMDAvc3ZnIiB4bWxuczp4bGluaz0iaHR0cDovL3d3dy53My5vcmcvMTk5OS94bGluayIgdmVyc2lvbj0iMS4xIj4KIDwhLS0gR2VuZXJhdGVkIGJ5IFBpeGVsbWF0b3IgUHJvIDIuMC41IC0tPgogPGRlZnM+CiAgPHRleHQgaWQ9InN0cmluZyIgdHJhbnNmb3JtPSJtYXRyaXgoMS4wIDAuMCAwLjAgMS4wIDIyOC4wIDU0LjUpIiBmb250LWZhbWlseT0iQ29tZm9ydGFhLVJlZ3VsYXIsIENvbWZvcnRhYSIgZm9udC1zaXplPSI4MDAiIHRleHQtZGVjb3JhdGlvbj0ibm9uZSIgZmlsbD0iI2ZmZmZmZiIgeD0iMS4xOTk5OTk5OTk5OTk5ODg2IiB5PSI3MDUuMCI+bjwvdGV4dD4KIDwvZGVmcz4KIDx1c2UgaWQ9Im4iIHhsaW5rOmhyZWY9IiNzdHJpbmciLz4KPC9zdmc+Cg==\"/></a>"
   ]
  },
  {
   "cell_type": "markdown",
   "id": "technological-clearing",
   "metadata": {
    "papermill": {},
    "tags": []
   },
   "source": [
    "## Input"
   ]
  },
  {
   "cell_type": "markdown",
   "id": "sixth-adaptation",
   "metadata": {
    "papermill": {},
    "tags": []
   },
   "source": [
    "### Import library"
   ]
  },
  {
   "cell_type": "code",
   "execution_count": null,
   "id": "loved-video",
   "metadata": {
    "papermill": {},
    "tags": []
   },
   "outputs": [],
   "source": [
    "from naas_drivers import hubspot, linkedin\n",
    "import naas\n",
    "import pandas as pd"
   ]
  },
  {
   "cell_type": "markdown",
   "id": "ongoing-course",
   "metadata": {
    "papermill": {},
    "tags": []
   },
   "source": [
    "### Enter Hubspot api key"
   ]
  },
  {
   "cell_type": "code",
   "execution_count": null,
   "id": "tight-mortality",
   "metadata": {
    "papermill": {},
    "tags": []
   },
   "outputs": [],
   "source": [
    "auth_token = \"YOUR_HUBSPOT_API_KEY\""
   ]
  },
  {
   "cell_type": "markdown",
   "id": "resident-decline",
   "metadata": {
    "papermill": {},
    "tags": []
   },
   "source": [
    "### Get your cookies\n",
    "<a href='https://www.notion.so/LinkedIn-driver-Get-your-cookies-d20a8e7e508e42af8a5b52e33f3dba75'>How to get your cookies ?</a>"
   ]
  },
  {
   "cell_type": "code",
   "execution_count": null,
   "id": "split-retail",
   "metadata": {
    "papermill": {},
    "tags": []
   },
   "outputs": [],
   "source": [
    "LI_AT = 'YOUR_COOKIE_LI_AT'  # EXAMPLE AQFAzQN_PLPR4wAAAXc-FCKmgiMit5FLdY1af3-2\n",
    "JSESSIONID = 'YOUR_COOKIE_JSESSIONID'  # EXAMPLE ajax:8379907400220387585"
   ]
  },
  {
   "cell_type": "markdown",
   "id": "prospective-requirement",
   "metadata": {
    "papermill": {},
    "tags": []
   },
   "source": [
    "### Connect to hubspot"
   ]
  },
  {
   "cell_type": "code",
   "execution_count": null,
   "id": "dietary-selling",
   "metadata": {
    "papermill": {},
    "tags": []
   },
   "outputs": [],
   "source": [
    "hs = hubspot.connect(auth_token)"
   ]
  },
  {
   "cell_type": "markdown",
   "id": "blond-trick",
   "metadata": {
    "papermill": {},
    "tags": []
   },
   "source": [
    "### Schedule your notebook everyday"
   ]
  },
  {
   "cell_type": "code",
   "execution_count": null,
   "id": "filled-sailing",
   "metadata": {
    "papermill": {},
    "tags": []
   },
   "outputs": [],
   "source": [
    "naas.scheduler.add(cron=\"15 6 * * *\")"
   ]
  },
  {
   "cell_type": "markdown",
   "id": "ancient-vertical",
   "metadata": {
    "papermill": {},
    "tags": []
   },
   "source": [
    "### Get all contacts in Hubspot"
   ]
  },
  {
   "cell_type": "code",
   "execution_count": null,
   "id": "musical-quick",
   "metadata": {
    "papermill": {},
    "tags": []
   },
   "outputs": [],
   "source": [
    "properties_list = [\n",
    "    \"hs_object_id\",\n",
    "    \"firstname\",\n",
    "    \"lastname\",\n",
    "    \"linkedinbio\",\n",
    "    \"linkedinconnections\",\n",
    "]\n",
    "hubspot_contacts = hs.contacts.get_all(properties_list).fillna(\"Not Defined\")\n",
    "hubspot_contacts"
   ]
  },
  {
   "cell_type": "markdown",
   "id": "assisted-testament",
   "metadata": {
    "papermill": {},
    "tags": []
   },
   "source": [
    "# Model"
   ]
  },
  {
   "cell_type": "markdown",
   "id": "marine-earth",
   "metadata": {
    "papermill": {},
    "tags": []
   },
   "source": [
    "### Filter to get linkedinconnections \"Not Defined\" and \"linkedinbio\" defined"
   ]
  },
  {
   "cell_type": "code",
   "execution_count": null,
   "id": "confident-check",
   "metadata": {
    "papermill": {},
    "tags": []
   },
   "outputs": [],
   "source": [
    "df_to_update = hubspot_contacts.copy()\n",
    "\n",
    "# Filter on \"Not defined\"\n",
    "df_to_update = df_to_update[(df_to_update.linkedinbio != \"Not Defined\") &\n",
    "                            (df_to_update.linkedinconnections == \"Not Defined\")]\n",
    "\n",
    "# Limit to last 50 contacts\n",
    "df_to_update = df_to_update.sort_values(by=\"createdate\", ascending=False)[:50].reset_index(drop=True)\n",
    "\n",
    "df_to_update"
   ]
  },
  {
   "cell_type": "markdown",
   "id": "numeric-interim",
   "metadata": {
    "papermill": {},
    "tags": []
   },
   "source": [
    "### Get followers from Linkedin"
   ]
  },
  {
   "cell_type": "code",
   "execution_count": null,
   "id": "terminal-trance",
   "metadata": {
    "papermill": {},
    "tags": []
   },
   "outputs": [],
   "source": [
    "for _, row in df_to_update.iterrows():\n",
    "    linkedinbio = row.linkedinbio\n",
    "    \n",
    "    # Get followers\n",
    "    df = linkedin.connect(LI_AT, JSESSIONID).profile.get_network(linkedinbio)\n",
    "    linkedinconnections = df.loc[0, \"FOLLOWERS_COUNT\"]\n",
    "        \n",
    "    # Get linkedinbio\n",
    "    df_to_update.loc[_, \"linkedinconnections\"] = linkedinconnections\n",
    "    \n",
    "df_to_update"
   ]
  },
  {
   "cell_type": "markdown",
   "id": "moving-pennsylvania",
   "metadata": {
    "papermill": {},
    "tags": []
   },
   "source": [
    "# Output"
   ]
  },
  {
   "cell_type": "markdown",
   "id": "american-desktop",
   "metadata": {
    "papermill": {},
    "tags": []
   },
   "source": [
    "### Update followers in Hubspot"
   ]
  },
  {
   "cell_type": "code",
   "execution_count": null,
   "id": "governing-vermont",
   "metadata": {
    "papermill": {},
    "tags": []
   },
   "outputs": [],
   "source": [
    "for _, row in df_to_update.iterrows():\n",
    "    # Init data\n",
    "    data = {}\n",
    "    \n",
    "    # Get data\n",
    "    hs_object_id = row.hs_object_id\n",
    "    linkedinconnections = row.linkedinconnections\n",
    "\n",
    "    # Update LK Bio\n",
    "    if linkedinconnections != None:\n",
    "        data = {\"properties\": {\"linkedinconnections\": linkedinconnections}}\n",
    "    hs.contacts.patch(hs_object_id, data)"
   ]
  }
 ],
 "metadata": {
  "kernelspec": {
   "display_name": "Python 3",
   "language": "python",
   "name": "python3"
  },
  "language_info": {
   "codemirror_mode": {
    "name": "ipython",
    "version": 3
   },
   "file_extension": ".py",
   "mimetype": "text/x-python",
   "name": "python",
   "nbconvert_exporter": "python",
   "pygments_lexer": "ipython3",
   "version": "3.8.8"
  },
  "papermill": {
   "default_parameters": {},
   "environment_variables": {},
   "parameters": {},
   "version": "2.3.3"
  }
 },
 "nbformat": 4,
 "nbformat_minor": 5
}