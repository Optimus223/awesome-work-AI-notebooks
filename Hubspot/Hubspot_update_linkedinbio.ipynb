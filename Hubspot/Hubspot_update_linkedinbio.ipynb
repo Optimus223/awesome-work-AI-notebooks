{
 "cells": [
  {
   "cell_type": "markdown",
   "id": "inner-apartment",
   "metadata": {},
   "source": [
    "<img width=\"10%\" alt=\"Naas\" src=\"https://landen.imgix.net/jtci2pxwjczr/assets/5ice39g4.png?w=160\"/>"
   ]
  },
  {
   "cell_type": "markdown",
   "id": "after-boost",
   "metadata": {},
   "source": [
    "<img src=\"https://upload.wikimedia.org/wikipedia/commons/thumb/3/3f/HubSpot_Logo.svg/220px-HubSpot_Logo.svg.png\" alt=\"drawing\" width=\"200\" align='left'/>"
   ]
  },
  {
   "cell_type": "markdown",
   "id": "attended-bronze",
   "metadata": {},
   "source": [
    "# Hubspot - Update linkedinbio\n",
    "<a href=\"https://app.naas.ai/user-redirect/naas/downloader?url=https://raw.githubusercontent.com/jupyter-naas/awesome-notebooks/master/Hubspot/Hubspot_create_association.ipynb\" target=\"_parent\"><img src=\"https://img.shields.io/badge/-Open%20in%20Naas-success?labelColor=000000&logo=data:image/svg+xml;base64,PD94bWwgdmVyc2lvbj0iMS4wIiBlbmNvZGluZz0iVVRGLTgiPz4KPHN2ZyB3aWR0aD0iMTAyNHB4IiBoZWlnaHQ9IjEwMjRweCIgdmlld0JveD0iMCAwIDEwMjQgMTAyNCIgeG1sbnM9Imh0dHA6Ly93d3cudzMub3JnLzIwMDAvc3ZnIiB4bWxuczp4bGluaz0iaHR0cDovL3d3dy53My5vcmcvMTk5OS94bGluayIgdmVyc2lvbj0iMS4xIj4KIDwhLS0gR2VuZXJhdGVkIGJ5IFBpeGVsbWF0b3IgUHJvIDIuMC41IC0tPgogPGRlZnM+CiAgPHRleHQgaWQ9InN0cmluZyIgdHJhbnNmb3JtPSJtYXRyaXgoMS4wIDAuMCAwLjAgMS4wIDIyOC4wIDU0LjUpIiBmb250LWZhbWlseT0iQ29tZm9ydGFhLVJlZ3VsYXIsIENvbWZvcnRhYSIgZm9udC1zaXplPSI4MDAiIHRleHQtZGVjb3JhdGlvbj0ibm9uZSIgZmlsbD0iI2ZmZmZmZiIgeD0iMS4xOTk5OTk5OTk5OTk5ODg2IiB5PSI3MDUuMCI+bjwvdGV4dD4KIDwvZGVmcz4KIDx1c2UgaWQ9Im4iIHhsaW5rOmhyZWY9IiNzdHJpbmciLz4KPC9zdmc+Cg==\"/></a>"
   ]
  },
  {
   "cell_type": "markdown",
   "id": "knowing-costs",
   "metadata": {},
   "source": [
    "## Input"
   ]
  },
  {
   "cell_type": "markdown",
   "id": "handed-championship",
   "metadata": {},
   "source": [
    "### Import library"
   ]
  },
  {
   "cell_type": "code",
   "execution_count": null,
   "id": "technological-moisture",
   "metadata": {
    "tags": []
   },
   "outputs": [],
   "source": [
    "from naas_drivers import hubspot\n",
    "import naas\n",
    "import pandas as pd\n",
    "from googlesearch import search\n",
    "import time\n",
    "import re"
   ]
  },
  {
   "cell_type": "markdown",
   "id": "impressed-angle",
   "metadata": {},
   "source": [
    "### Enter Hubspot api key"
   ]
  },
  {
   "cell_type": "code",
   "execution_count": null,
   "id": "extended-stack",
   "metadata": {
    "tags": []
   },
   "outputs": [],
   "source": [
    "auth_token = \"YOUR_HUBSPOT_API_KEY\""
   ]
  },
  {
   "cell_type": "markdown",
   "id": "innocent-sending",
   "metadata": {},
   "source": [
    "### Connect to hubspot"
   ]
  },
  {
   "cell_type": "code",
   "execution_count": null,
   "id": "declared-still",
   "metadata": {
    "tags": []
   },
   "outputs": [],
   "source": [
    "hs = hubspot.connect(auth_token)"
   ]
  },
  {
   "cell_type": "markdown",
   "id": "caring-throat",
   "metadata": {
    "execution": {
     "iopub.execute_input": "2021-08-03T09:17:09.513688Z",
     "iopub.status.busy": "2021-08-03T09:17:09.513433Z",
     "iopub.status.idle": "2021-08-03T09:17:09.516936Z",
     "shell.execute_reply": "2021-08-03T09:17:09.516298Z",
     "shell.execute_reply.started": "2021-08-03T09:17:09.513626Z"
    },
    "tags": []
   },
   "source": [
    "### Schedule your notebook everyday"
   ]
  },
  {
   "cell_type": "code",
   "execution_count": null,
   "id": "acceptable-registrar",
   "metadata": {
    "tags": []
   },
   "outputs": [],
   "source": [
    "naas.scheduler.add(cron=\"0 6 * * *\")"
   ]
  },
  {
   "cell_type": "markdown",
   "id": "direct-limit",
   "metadata": {},
   "source": [
    "### Get all contacts in Hubspot"
   ]
  },
  {
   "cell_type": "code",
   "execution_count": null,
   "id": "confident-grocery",
   "metadata": {
    "tags": []
   },
   "outputs": [],
   "source": [
    "properties_list = [\n",
    "    \"hs_object_id\",\n",
    "    \"firstname\",\n",
    "    \"lastname\",\n",
    "    \"linkedinbio\",\n",
    "]\n",
    "hubspot_contacts = hs.contacts.get_all(properties_list).fillna(\"Not Defined\")\n",
    "hubspot_contacts"
   ]
  },
  {
   "cell_type": "markdown",
   "id": "covered-visiting",
   "metadata": {},
   "source": [
    "# Model"
   ]
  },
  {
   "cell_type": "markdown",
   "id": "yellow-silver",
   "metadata": {},
   "source": [
    "### Filter to get \"Not Defined\" linkedinbio and defined \"firstname\" and \"lastname\""
   ]
  },
  {
   "cell_type": "code",
   "execution_count": null,
   "id": "lesbian-cedar",
   "metadata": {
    "tags": []
   },
   "outputs": [],
   "source": [
    "df_to_update = hubspot_contacts.copy()\n",
    "\n",
    "# Filter on \"Not defined\"\n",
    "df_to_update = df_to_update[(df_to_update.firstname != \"Not Defined\") & \n",
    "                            (df_to_update.lastname != \"Not Defined\") &\n",
    "                            (df_to_update.linkedinbio == \"Not Defined\")].reset_index(drop=True)\n",
    "\n",
    "df_to_update"
   ]
  },
  {
   "cell_type": "markdown",
   "id": "distinct-camera",
   "metadata": {},
   "source": [
    "### Search bio in Google with firstname and lastname"
   ]
  },
  {
   "cell_type": "code",
   "execution_count": null,
   "id": "amateur-supply",
   "metadata": {
    "tags": []
   },
   "outputs": [],
   "source": [
    "def get_bio(firstname, lastname):\n",
    "    # Init linkedinbio\n",
    "    linkedinbio = None\n",
    "    \n",
    "    # Create query\n",
    "    query = f\"{firstname}+{lastname}+Linkedin\"\n",
    "    print(\"Google query: \", query)\n",
    "    \n",
    "    # Search in Google\n",
    "    for i in search(query, tld=\"com\", num=10, stop=10, pause=2):\n",
    "        pattern = \"https:\\/\\/.+.linkedin.com\\/in\\/.([^?])+\"\n",
    "        result = re.search(pattern, i)\n",
    "\n",
    "        # Return value if result is not None\n",
    "        if result != None:\n",
    "            linkedinbio = result.group(0).replace(\" \", \"\")\n",
    "            return linkedinbio\n",
    "        else:\n",
    "            time.sleep(2)\n",
    "    return linkedinbio"
   ]
  },
  {
   "cell_type": "code",
   "execution_count": null,
   "id": "coordinated-saudi",
   "metadata": {
    "tags": []
   },
   "outputs": [],
   "source": [
    "for _, row in df_to_update.iterrows():\n",
    "    firstname = row.firstname\n",
    "    lastname = row.lastname\n",
    "    \n",
    "    # Get linkedinbio\n",
    "    linkedinbio = get_bio(firstname, lastname)\n",
    "    df_to_update.loc[_, \"linkedinbio\"] = linkedinbio\n",
    "    \n",
    "df_to_update"
   ]
  },
  {
   "cell_type": "markdown",
   "id": "conservative-turkey",
   "metadata": {},
   "source": [
    "# Output"
   ]
  },
  {
   "cell_type": "markdown",
   "id": "collaborative-environment",
   "metadata": {},
   "source": [
    "### Update Linkedin bio in Hubspot"
   ]
  },
  {
   "cell_type": "code",
   "execution_count": null,
   "id": "swedish-marine",
   "metadata": {
    "tags": []
   },
   "outputs": [],
   "source": [
    "for _, row in df_to_update.iterrows():\n",
    "    # Init data\n",
    "    data = {}\n",
    "    \n",
    "    # Get data\n",
    "    hs_object_id = row.hs_object_id\n",
    "    linkedinbio = row.linkedinbio\n",
    "\n",
    "    # Update LK Bio\n",
    "    if linkedinbio != None:\n",
    "        data = {\"properties\": {\"linkedinbio\": linkedinbio}}\n",
    "    hs.contacts.patch(hs_object_id, data)"
   ]
  }
 ],
 "metadata": {
  "kernelspec": {
   "display_name": "Python 3",
   "language": "python",
   "name": "python3"
  },
  "language_info": {
   "codemirror_mode": {
    "name": "ipython",
    "version": 3
   },
   "file_extension": ".py",
   "mimetype": "text/x-python",
   "name": "python",
   "nbconvert_exporter": "python",
   "pygments_lexer": "ipython3",
   "version": "3.8.8"
  }
 },
 "nbformat": 4,
 "nbformat_minor": 5
}
