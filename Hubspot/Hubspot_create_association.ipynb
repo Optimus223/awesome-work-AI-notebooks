{
 "cells": [
  {
   "cell_type": "markdown",
   "id": "exclusive-springfield",
   "metadata": {
    "papermill": {},
    "tags": []
   },
   "source": [
    "<img width=\"10%\" alt=\"Naas\" src=\"https://landen.imgix.net/jtci2pxwjczr/assets/5ice39g4.png?w=160\"/>"
   ]
  },
  {
   "cell_type": "markdown",
   "id": "eight-division",
   "metadata": {
    "papermill": {},
    "tags": []
   },
   "source": [
    "# Hubspot - Create association\n",
    "<a href=\"https://app.naas.ai/user-redirect/naas/downloader?url=https://raw.githubusercontent.com/jupyter-naas/awesome-notebooks/master/Hubspot/Hubspot_create_association.ipynb\" target=\"_parent\"><img src=\"https://naasai-public.s3.eu-west-3.amazonaws.com/open_in_naas.svg\"/></a>"
   ]
  },
  {
   "cell_type": "markdown",
   "id": "neutral-dispatch",
   "metadata": {
    "papermill": {},
    "tags": []
   },
   "source": [
    "**Tags:** #hubspot #crm #sales #deal #contact #naas_drivers"
   ]
  },
  {
   "cell_type": "markdown",
   "id": "genuine-grain",
   "metadata": {
    "papermill": {},
    "tags": []
   },
   "source": [
    "## Input"
   ]
  },
  {
   "cell_type": "markdown",
   "id": "laden-centre",
   "metadata": {
    "papermill": {},
    "tags": []
   },
   "source": [
    "### Import library"
   ]
  },
  {
   "cell_type": "code",
   "execution_count": null,
   "id": "signed-southeast",
   "metadata": {
    "papermill": {},
    "tags": []
   },
   "outputs": [],
   "source": [
    "from naas_drivers import hubspot"
   ]
  },
  {
   "cell_type": "markdown",
   "id": "breeding-bullet",
   "metadata": {
    "papermill": {},
    "tags": []
   },
   "source": [
    "### Enter your Hubspot api key"
   ]
  },
  {
   "cell_type": "code",
   "execution_count": null,
   "id": "republican-dietary",
   "metadata": {
    "papermill": {},
    "tags": []
   },
   "outputs": [],
   "source": [
    "auth_token = 'YOUR_HUBSPOT_API_KEY'"
   ]
  },
  {
   "cell_type": "markdown",
   "id": "primary-allah",
   "metadata": {
    "papermill": {},
    "tags": []
   },
   "source": [
    "### Connect to Hubspot"
   ]
  },
  {
   "cell_type": "code",
   "execution_count": null,
   "id": "played-cherry",
   "metadata": {
    "papermill": {},
    "tags": []
   },
   "outputs": [],
   "source": [
    "hs = hubspot.connect(auth_token)"
   ]
  },
  {
   "cell_type": "markdown",
   "id": "loose-saudi",
   "metadata": {
    "papermill": {},
    "tags": []
   },
   "source": [
    "## Model"
   ]
  },
  {
   "cell_type": "markdown",
   "id": "increased-gardening",
   "metadata": {
    "papermill": {},
    "tags": []
   },
   "source": [
    "### Enter association parameters"
   ]
  },
  {
   "cell_type": "code",
   "execution_count": null,
   "id": "former-lotus",
   "metadata": {
    "papermill": {},
    "tags": []
   },
   "outputs": [],
   "source": [
    "# Type of first object\n",
    "objet = 'deal'\n",
    "\n",
    "# Id of first object\n",
    "objet_id = '3452242690'\n",
    "\n",
    "# Type of second object to associate\n",
    "associate = 'contact'\n",
    "\n",
    "# Id of second object to associate\n",
    "id_associate = '245201'"
   ]
  },
  {
   "cell_type": "markdown",
   "id": "every-nomination",
   "metadata": {
    "papermill": {},
    "tags": []
   },
   "source": [
    "## Output"
   ]
  },
  {
   "cell_type": "markdown",
   "id": "appointed-pointer",
   "metadata": {
    "papermill": {},
    "tags": []
   },
   "source": [
    "### Create association"
   ]
  },
  {
   "cell_type": "code",
   "execution_count": null,
   "id": "increasing-sauce",
   "metadata": {
    "papermill": {},
    "tags": []
   },
   "outputs": [],
   "source": [
    "hs.associations.create(objet, objet_id, associate, id_associate)"
   ]
  }
 ],
 "metadata": {
  "kernelspec": {
   "display_name": "Python 3",
   "language": "python",
   "name": "python3"
  },
  "language_info": {
   "codemirror_mode": {
    "name": "ipython",
    "version": 3
   },
   "file_extension": ".py",
   "mimetype": "text/x-python",
   "name": "python",
   "nbconvert_exporter": "python",
   "pygments_lexer": "ipython3",
   "version": "3.8.8"
  },
  "papermill": {
   "default_parameters": {},
   "environment_variables": {},
   "parameters": {},
   "version": "2.3.3"
  }
 },
 "nbformat": 4,
 "nbformat_minor": 5
}