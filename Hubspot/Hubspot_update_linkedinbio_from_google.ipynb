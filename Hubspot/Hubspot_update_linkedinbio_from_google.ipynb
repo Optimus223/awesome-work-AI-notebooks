{
 "cells": [
  {
   "cell_type": "markdown",
   "id": "centered-medicaid",
   "metadata": {
    "papermill": {},
    "tags": []
   },
   "source": [
    "<img width=\"10%\" alt=\"Naas\" src=\"https://landen.imgix.net/jtci2pxwjczr/assets/5ice39g4.png?w=160\"/>"
   ]
  },
  {
   "cell_type": "markdown",
   "id": "olive-printing",
   "metadata": {
    "papermill": {},
    "tags": []
   },
   "source": [
    "# Hubspot - Update linkedinbio from google\n",
    "<a href=\"https://app.naas.ai/user-redirect/naas/downloader?url=https://raw.githubusercontent.com/jupyter-naas/awesome-notebooks/master/Hubspot/Hubspot_update_linkedinbio_from_google.ipynb\" target=\"_parent\"><img src=\"https://naasai-public.s3.eu-west-3.amazonaws.com/open_in_naas.svg\"/></a>"
   ]
  },
  {
   "cell_type": "markdown",
   "id": "internal-observer",
   "metadata": {
    "papermill": {},
    "tags": []
   },
   "source": [
    "**Tags:** #hubspot #crm #sales #contact #naas_drivers #googlesearch #scheduler #naas"
   ]
  },
  {
   "cell_type": "markdown",
   "id": "saving-seventh",
   "metadata": {
    "papermill": {},
    "tags": []
   },
   "source": [
    "## Input"
   ]
  },
  {
   "cell_type": "markdown",
   "id": "cognitive-screening",
   "metadata": {
    "papermill": {},
    "tags": []
   },
   "source": [
    "### Import library"
   ]
  },
  {
   "cell_type": "code",
   "execution_count": null,
   "id": "respective-female",
   "metadata": {
    "papermill": {},
    "tags": []
   },
   "outputs": [],
   "source": [
    "from naas_drivers import hubspot\n",
    "import naas\n",
    "import pandas as pd\n",
    "from googlesearch import search\n",
    "import time\n",
    "import re"
   ]
  },
  {
   "cell_type": "markdown",
   "id": "resident-ending",
   "metadata": {
    "papermill": {},
    "tags": []
   },
   "source": [
    "### Enter Hubspot api key"
   ]
  },
  {
   "cell_type": "code",
   "execution_count": null,
   "id": "regulated-jesus",
   "metadata": {
    "papermill": {},
    "tags": []
   },
   "outputs": [],
   "source": [
    "auth_token = \"YOUR_HUBSPOT_API_KEY\""
   ]
  },
  {
   "cell_type": "markdown",
   "id": "rocky-tuition",
   "metadata": {
    "papermill": {},
    "tags": []
   },
   "source": [
    "### Connect to hubspot"
   ]
  },
  {
   "cell_type": "code",
   "execution_count": null,
   "id": "removable-agency",
   "metadata": {
    "papermill": {},
    "tags": []
   },
   "outputs": [],
   "source": [
    "hs = hubspot.connect(auth_token)"
   ]
  },
  {
   "cell_type": "markdown",
   "id": "traditional-sleeping",
   "metadata": {
    "execution": {
     "iopub.execute_input": "2021-08-03T09:17:09.513688Z",
     "iopub.status.busy": "2021-08-03T09:17:09.513433Z",
     "iopub.status.idle": "2021-08-03T09:17:09.516936Z",
     "shell.execute_reply": "2021-08-03T09:17:09.516298Z",
     "shell.execute_reply.started": "2021-08-03T09:17:09.513626Z"
    },
    "papermill": {},
    "tags": []
   },
   "source": [
    "### Schedule your notebook everyday"
   ]
  },
  {
   "cell_type": "code",
   "execution_count": null,
   "id": "stuck-national",
   "metadata": {
    "papermill": {},
    "tags": []
   },
   "outputs": [],
   "source": [
    "naas.scheduler.add(cron=\"0 6 * * *\")"
   ]
  },
  {
   "cell_type": "markdown",
   "id": "dense-funds",
   "metadata": {
    "papermill": {},
    "tags": []
   },
   "source": [
    "### Get all contacts in Hubspot"
   ]
  },
  {
   "cell_type": "code",
   "execution_count": null,
   "id": "destroyed-thanksgiving",
   "metadata": {
    "papermill": {},
    "tags": []
   },
   "outputs": [],
   "source": [
    "properties_list = [\n",
    "    \"hs_object_id\",\n",
    "    \"firstname\",\n",
    "    \"lastname\",\n",
    "    \"linkedinbio\",\n",
    "]\n",
    "hubspot_contacts = hs.contacts.get_all(properties_list).fillna(\"Not Defined\")\n",
    "hubspot_contacts"
   ]
  },
  {
   "cell_type": "markdown",
   "id": "recreational-lemon",
   "metadata": {
    "papermill": {},
    "tags": []
   },
   "source": [
    "# Model"
   ]
  },
  {
   "cell_type": "markdown",
   "id": "speaking-geneva",
   "metadata": {
    "papermill": {},
    "tags": []
   },
   "source": [
    "### Filter to get linkedinbio \"Not Defined\" and \"firstname\" and \"lastname\" defined"
   ]
  },
  {
   "cell_type": "code",
   "execution_count": null,
   "id": "compliant-spanish",
   "metadata": {
    "papermill": {},
    "tags": []
   },
   "outputs": [],
   "source": [
    "df_to_update = hubspot_contacts.copy()\n",
    "\n",
    "# Filter on \"Not defined\"\n",
    "df_to_update = df_to_update[(df_to_update.firstname != \"Not Defined\") & \n",
    "                            (df_to_update.lastname != \"Not Defined\") &\n",
    "                            (df_to_update.linkedinbio == \"Not Defined\")].reset_index(drop=True)\n",
    "\n",
    "df_to_update"
   ]
  },
  {
   "cell_type": "markdown",
   "id": "excellent-charger",
   "metadata": {
    "papermill": {},
    "tags": []
   },
   "source": [
    "### Search bio in Google with firstname and lastname"
   ]
  },
  {
   "cell_type": "code",
   "execution_count": null,
   "id": "desirable-ceramic",
   "metadata": {
    "papermill": {},
    "tags": []
   },
   "outputs": [],
   "source": [
    "def get_bio(firstname, lastname):\n",
    "    # Init linkedinbio\n",
    "    linkedinbio = None\n",
    "    \n",
    "    # Create query\n",
    "    query = f\"{firstname}+{lastname}+Linkedin\"\n",
    "    print(\"Google query: \", query)\n",
    "    \n",
    "    # Search in Google\n",
    "    for i in search(query, tld=\"com\", num=10, stop=10, pause=2):\n",
    "        pattern = \"https:\\/\\/.+.linkedin.com\\/in\\/.([^?])+\"\n",
    "        result = re.search(pattern, i)\n",
    "\n",
    "        # Return value if result is not None\n",
    "        if result != None:\n",
    "            linkedinbio = result.group(0).replace(\" \", \"\")\n",
    "            return linkedinbio\n",
    "        else:\n",
    "            time.sleep(2)\n",
    "    return linkedinbio"
   ]
  },
  {
   "cell_type": "code",
   "execution_count": null,
   "id": "concerned-exhibition",
   "metadata": {
    "papermill": {},
    "tags": []
   },
   "outputs": [],
   "source": [
    "for _, row in df_to_update.iterrows():\n",
    "    firstname = row.firstname\n",
    "    lastname = row.lastname\n",
    "    \n",
    "    # Get linkedinbio\n",
    "    linkedinbio = get_bio(firstname, lastname)\n",
    "    df_to_update.loc[_, \"linkedinbio\"] = linkedinbio\n",
    "    \n",
    "df_to_update"
   ]
  },
  {
   "cell_type": "markdown",
   "id": "bulgarian-child",
   "metadata": {
    "papermill": {},
    "tags": []
   },
   "source": [
    "# Output"
   ]
  },
  {
   "cell_type": "markdown",
   "id": "adolescent-forward",
   "metadata": {
    "papermill": {},
    "tags": []
   },
   "source": [
    "### Update linkedinbio in Hubspot"
   ]
  },
  {
   "cell_type": "code",
   "execution_count": null,
   "id": "legitimate-nowhere",
   "metadata": {
    "papermill": {},
    "tags": []
   },
   "outputs": [],
   "source": [
    "for _, row in df_to_update.iterrows():\n",
    "    # Init data\n",
    "    data = {}\n",
    "    \n",
    "    # Get data\n",
    "    hs_object_id = row.hs_object_id\n",
    "    linkedinbio = row.linkedinbio\n",
    "\n",
    "    # Update LK Bio\n",
    "    if linkedinbio != None:\n",
    "        data = {\"properties\": {\"linkedinbio\": linkedinbio}}\n",
    "    hs.contacts.patch(hs_object_id, data)"
   ]
  }
 ],
 "metadata": {
  "kernelspec": {
   "display_name": "Python 3",
   "language": "python",
   "name": "python3"
  },
  "language_info": {
   "codemirror_mode": {
    "name": "ipython",
    "version": 3
   },
   "file_extension": ".py",
   "mimetype": "text/x-python",
   "name": "python",
   "nbconvert_exporter": "python",
   "pygments_lexer": "ipython3",
   "version": "3.8.8"
  },
  "papermill": {
   "default_parameters": {},
   "environment_variables": {},
   "parameters": {},
   "version": "2.3.3"
  }
 },
 "nbformat": 4,
 "nbformat_minor": 5
}