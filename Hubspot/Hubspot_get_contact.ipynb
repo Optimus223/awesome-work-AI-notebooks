{
 "cells": [
  {
   "cell_type": "markdown",
   "id": "available-thursday",
   "metadata": {
    "papermill": {},
    "tags": []
   },
   "source": [
    "<img width=\"10%\" alt=\"Naas\" src=\"https://landen.imgix.net/jtci2pxwjczr/assets/5ice39g4.png?w=160\"/>"
   ]
  },
  {
   "cell_type": "markdown",
   "id": "stopped-daisy",
   "metadata": {
    "papermill": {},
    "tags": []
   },
   "source": [
    "# Hubspot - Get contact\n",
    "<a href=\"https://app.naas.ai/user-redirect/naas/downloader?url=https://raw.githubusercontent.com/jupyter-naas/awesome-notebooks/master/Hubspot/Hubspot_get_contact.ipynb\" target=\"_parent\"><img src=\"https://naasai-public.s3.eu-west-3.amazonaws.com/open_in_naas.svg\"/></a>"
   ]
  },
  {
   "cell_type": "markdown",
   "id": "senior-trade",
   "metadata": {
    "papermill": {},
    "tags": []
   },
   "source": [
    "**Tags:** #hubspot #crm #sales #contact #naas_drivers"
   ]
  },
  {
   "cell_type": "markdown",
   "id": "radio-wings",
   "metadata": {
    "papermill": {},
    "tags": []
   },
   "source": [
    "## Input"
   ]
  },
  {
   "cell_type": "markdown",
   "id": "unique-dollar",
   "metadata": {
    "papermill": {},
    "tags": []
   },
   "source": [
    "### Import library"
   ]
  },
  {
   "cell_type": "code",
   "execution_count": null,
   "id": "polish-newman",
   "metadata": {
    "papermill": {},
    "tags": []
   },
   "outputs": [],
   "source": [
    "from naas_drivers import hubspot"
   ]
  },
  {
   "cell_type": "markdown",
   "id": "timely-trunk",
   "metadata": {
    "papermill": {},
    "tags": []
   },
   "source": [
    "### Enter your Hubspot api key"
   ]
  },
  {
   "cell_type": "code",
   "execution_count": null,
   "id": "champion-uncle",
   "metadata": {
    "papermill": {},
    "tags": []
   },
   "outputs": [],
   "source": [
    "auth_token = \"YOUR_HUBSPOT_API_KEY\""
   ]
  },
  {
   "cell_type": "markdown",
   "id": "placed-supply",
   "metadata": {
    "papermill": {},
    "tags": []
   },
   "source": [
    "### Connect to Hubspot"
   ]
  },
  {
   "cell_type": "code",
   "execution_count": null,
   "id": "mexican-uncertainty",
   "metadata": {
    "papermill": {},
    "tags": []
   },
   "outputs": [],
   "source": [
    "hs = hubspot.connect(auth_token)"
   ]
  },
  {
   "cell_type": "markdown",
   "id": "cardiovascular-incidence",
   "metadata": {
    "papermill": {},
    "tags": []
   },
   "source": [
    "## Model"
   ]
  },
  {
   "cell_type": "markdown",
   "id": "fancy-result",
   "metadata": {
    "papermill": {},
    "tags": []
   },
   "source": [
    "### Get single contact"
   ]
  },
  {
   "cell_type": "code",
   "execution_count": null,
   "id": "dutch-kennedy",
   "metadata": {
    "papermill": {},
    "tags": []
   },
   "outputs": [],
   "source": [
    "contact_id = \"253101\"\n",
    "contact = hs.contacts.get(contact_id)"
   ]
  },
  {
   "cell_type": "markdown",
   "id": "moved-tissue",
   "metadata": {
    "papermill": {},
    "tags": []
   },
   "source": [
    "## Output"
   ]
  },
  {
   "cell_type": "markdown",
   "id": "legendary-acceptance",
   "metadata": {
    "papermill": {},
    "tags": []
   },
   "source": [
    "### Display result"
   ]
  },
  {
   "cell_type": "code",
   "execution_count": null,
   "id": "united-rugby",
   "metadata": {
    "papermill": {},
    "tags": []
   },
   "outputs": [],
   "source": [
    "contact"
   ]
  }
 ],
 "metadata": {
  "kernelspec": {
   "display_name": "Python 3",
   "language": "python",
   "name": "python3"
  },
  "language_info": {
   "codemirror_mode": {
    "name": "ipython",
    "version": 3
   },
   "file_extension": ".py",
   "mimetype": "text/x-python",
   "name": "python",
   "nbconvert_exporter": "python",
   "pygments_lexer": "ipython3",
   "version": "3.8.8"
  },
  "papermill": {
   "default_parameters": {},
   "environment_variables": {},
   "parameters": {},
   "version": "2.3.3"
  }
 },
 "nbformat": 4,
 "nbformat_minor": 5
}