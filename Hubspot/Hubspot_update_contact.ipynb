{
 "cells": [
  {
   "cell_type": "markdown",
   "id": "corresponding-third",
   "metadata": {
    "papermill": {},
    "tags": []
   },
   "source": [
    "<img width=\"10%\" alt=\"Naas\" src=\"https://landen.imgix.net/jtci2pxwjczr/assets/5ice39g4.png?w=160\"/>"
   ]
  },
  {
   "cell_type": "markdown",
   "id": "associate-leadership",
   "metadata": {
    "papermill": {},
    "tags": []
   },
   "source": [
    "<img src=\"https://upload.wikimedia.org/wikipedia/commons/thumb/3/3f/HubSpot_Logo.svg/220px-HubSpot_Logo.svg.png\" alt=\"drawing\" width=\"200\" align='left'/>"
   ]
  },
  {
   "cell_type": "markdown",
   "id": "northern-victory",
   "metadata": {
    "papermill": {},
    "tags": []
   },
   "source": [
    "# Hubspot - Update contact\n",
    "<a href=\"https://app.naas.ai/user-redirect/naas/downloader?url=https://raw.githubusercontent.com/jupyter-naas/awesome-notebooks/master/Hubspot/Hubspot_update_contact.ipynb\" target=\"_parent\"><img src=\"https://img.shields.io/badge/-Open%20in%20Naas-success?labelColor=000000&logo=data:image/svg+xml;base64,PD94bWwgdmVyc2lvbj0iMS4wIiBlbmNvZGluZz0iVVRGLTgiPz4KPHN2ZyB3aWR0aD0iMTAyNHB4IiBoZWlnaHQ9IjEwMjRweCIgdmlld0JveD0iMCAwIDEwMjQgMTAyNCIgeG1sbnM9Imh0dHA6Ly93d3cudzMub3JnLzIwMDAvc3ZnIiB4bWxuczp4bGluaz0iaHR0cDovL3d3dy53My5vcmcvMTk5OS94bGluayIgdmVyc2lvbj0iMS4xIj4KIDwhLS0gR2VuZXJhdGVkIGJ5IFBpeGVsbWF0b3IgUHJvIDIuMC41IC0tPgogPGRlZnM+CiAgPHRleHQgaWQ9InN0cmluZyIgdHJhbnNmb3JtPSJtYXRyaXgoMS4wIDAuMCAwLjAgMS4wIDIyOC4wIDU0LjUpIiBmb250LWZhbWlseT0iQ29tZm9ydGFhLVJlZ3VsYXIsIENvbWZvcnRhYSIgZm9udC1zaXplPSI4MDAiIHRleHQtZGVjb3JhdGlvbj0ibm9uZSIgZmlsbD0iI2ZmZmZmZiIgeD0iMS4xOTk5OTk5OTk5OTk5ODg2IiB5PSI3MDUuMCI+bjwvdGV4dD4KIDwvZGVmcz4KIDx1c2UgaWQ9Im4iIHhsaW5rOmhyZWY9IiNzdHJpbmciLz4KPC9zdmc+Cg==\"/></a>"
   ]
  },
  {
   "cell_type": "markdown",
   "id": "excessive-market",
   "metadata": {
    "papermill": {},
    "tags": []
   },
   "source": [
    "#crm #sales"
   ]
  },
  {
   "cell_type": "markdown",
   "id": "psychological-trial",
   "metadata": {
    "papermill": {},
    "tags": []
   },
   "source": [
    "## Input"
   ]
  },
  {
   "cell_type": "markdown",
   "id": "portable-activation",
   "metadata": {
    "papermill": {},
    "tags": []
   },
   "source": [
    "### Import library"
   ]
  },
  {
   "cell_type": "code",
   "execution_count": null,
   "id": "creative-semester",
   "metadata": {},
   "outputs": [],
   "source": [
    "from naas_drivers import hubspot"
   ]
  },
  {
   "cell_type": "markdown",
   "id": "refined-importance",
   "metadata": {
    "papermill": {},
    "tags": []
   },
   "source": [
    "### Enter your Hubspot api key"
   ]
  },
  {
   "cell_type": "code",
   "execution_count": null,
   "id": "correct-attention",
   "metadata": {},
   "outputs": [],
   "source": [
    "auth_token = \"YOUR_HUBSPOT_API_KEY\""
   ]
  },
  {
   "cell_type": "markdown",
   "id": "sonic-employment",
   "metadata": {
    "papermill": {},
    "tags": []
   },
   "source": [
    "### Connect to Hubspot"
   ]
  },
  {
   "cell_type": "code",
   "execution_count": null,
   "id": "exact-adrian",
   "metadata": {},
   "outputs": [],
   "source": [
    "hs = hubspot.connect(auth_token)"
   ]
  },
  {
   "cell_type": "markdown",
   "id": "residential-cooperative",
   "metadata": {
    "papermill": {},
    "tags": []
   },
   "source": [
    "## Model"
   ]
  },
  {
   "cell_type": "markdown",
   "id": "western-feeding",
   "metadata": {},
   "source": [
    "### Enter contact parameters"
   ]
  },
  {
   "cell_type": "code",
   "execution_count": null,
   "id": "fallen-catholic",
   "metadata": {
    "papermill": {},
    "tags": []
   },
   "outputs": [],
   "source": [
    "contact_id = \"280751\"\n",
    "email = \"test@cashstory.com\"\n",
    "firstname = \"Jean test\"\n",
    "lastname ='CASHSTOrY'\n",
    "phone = \"+336.00.00.00.00\"\n",
    "jobtitle = \"Consultant\"\n",
    "website = \"www.cashstory.com\"\n",
    "company = 'CASHSTORY'\n",
    "hubspot_owner_id = None"
   ]
  },
  {
   "cell_type": "markdown",
   "id": "organizational-local",
   "metadata": {
    "papermill": {},
    "tags": []
   },
   "source": [
    "## Output"
   ]
  },
  {
   "cell_type": "markdown",
   "id": "essential-basic",
   "metadata": {},
   "source": [
    "### Using patch method"
   ]
  },
  {
   "cell_type": "code",
   "execution_count": null,
   "id": "dangerous-scene",
   "metadata": {
    "papermill": {},
    "tags": []
   },
   "outputs": [],
   "source": [
    "update_contact = {\"properties\": \n",
    "                  {\n",
    "                    \"email\": email,\n",
    "                    \"firstname\": firstname,\n",
    "                    \"lastname\": lastname,\n",
    "                    \"phone\": phone,\n",
    "                    \"jobtitle\": jobtitle,\n",
    "                    \"website\": website,\n",
    "                    \"company\": company,\n",
    "                    \"url\": \"test3\",\n",
    "                    \"hubspot_owner_id\": hubspot_owner_id,\n",
    "                   }\n",
    "                 }\n",
    "\n",
    "hs.contacts.patch(contact_id, update_contact)"
   ]
  },
  {
   "cell_type": "markdown",
   "id": "imported-unemployment",
   "metadata": {},
   "source": [
    "### Using update method"
   ]
  },
  {
   "cell_type": "code",
   "execution_count": null,
   "id": "solved-veteran",
   "metadata": {
    "papermill": {},
    "tags": []
   },
   "outputs": [],
   "source": [
    "hs.contacts.update(contact_id,\n",
    "                   email,\n",
    "                   firstname,\n",
    "                   lastname,\n",
    "                   phone,\n",
    "                   jobtitle,\n",
    "                   website,\n",
    "                   company,\n",
    "                   hubspot_owner_id)"
   ]
  }
 ],
 "metadata": {
  "kernelspec": {
   "display_name": "Python 3",
   "language": "python",
   "name": "python3"
  },
  "language_info": {
   "codemirror_mode": {
    "name": "ipython",
    "version": 3
   },
   "file_extension": ".py",
   "mimetype": "text/x-python",
   "name": "python",
   "nbconvert_exporter": "python",
   "pygments_lexer": "ipython3",
   "version": "3.8.8"
  },
  "papermill": {
   "default_parameters": {},
   "environment_variables": {},
   "parameters": {},
   "version": "2.3.3"
  }
 },
 "nbformat": 4,
 "nbformat_minor": 5
}
