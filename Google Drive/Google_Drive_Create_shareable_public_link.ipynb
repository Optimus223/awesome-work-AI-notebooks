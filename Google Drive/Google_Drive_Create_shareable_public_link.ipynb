{
 "cells": [
  {
   "cell_type": "markdown",
   "id": "2701772c-fc04-408d-afd8-988f3fa7437d",
   "metadata": {
    "papermill": {},
    "tags": []
   },
   "source": [
    "<img width=\"10%\" alt=\"Naas\" src=\"https://landen.imgix.net/jtci2pxwjczr/assets/5ice39g4.png?w=160\"/>"
   ]
  },
  {
   "cell_type": "markdown",
   "id": "293ccf6d-e4eb-4748-b5f3-97594e8ffc4f",
   "metadata": {
    "papermill": {},
    "tags": []
   },
   "source": [
    "# Google Drive - Create shareable public link"
   ]
  },
  {
   "cell_type": "markdown",
   "id": "4d21362f-0f80-4b80-afac-a3e17afea503",
   "metadata": {
    "papermill": {},
    "tags": []
   },
   "source": [
    "**Tags:** #google #drive #public #link #shareable #create"
   ]
  },
  {
   "cell_type": "markdown",
   "id": "2c5f36e3-d5ab-463a-b6b5-69a01c5250df",
   "metadata": {
    "papermill": {},
    "tags": []
   },
   "source": [
    "**Author:** [Firstname Lastname](https://www.linkedin.com/in/xxxx)"
   ]
  },
  {
   "cell_type": "markdown",
   "id": "d7765bee-1d59-47d4-853a-b9a62abdaf65",
   "metadata": {
    "papermill": {},
    "tags": []
   },
   "source": [
    "**Last update:** 2023-10-12 (Created: 2023-10-12)"
   ]
  },
  {
   "cell_type": "markdown",
   "id": "87728a3b-49df-4002-a975-8ba6888de26c",
   "metadata": {
    "papermill": {},
    "tags": []
   },
   "source": [
    "**Description:** This notebook will show how to create a shareable public link from a file stored in Google Drive. This is usefull for organizations to share files with external users without giving them access to the entire Google Drive."
   ]
  },
  {
   "cell_type": "markdown",
   "id": "59a5bbcb-c280-4fb3-a43e-da7fe9f00e4e",
   "metadata": {
    "papermill": {},
    "tags": []
   },
   "source": [
    "**References:**\n- [Google Drive - Create shareable public link](https://support.google.com/drive/answer/2494822?hl=en)\n- [Google Drive - Share files and folders](https://support.google.com/drive/answer/2494822?hl=en)"
   ]
  },
  {
   "cell_type": "markdown",
   "id": "b78290fb-aecf-4aaf-9e0f-665f509b479b",
   "metadata": {
    "papermill": {},
    "tags": []
   },
   "source": [
    "## Input"
   ]
  },
  {
   "cell_type": "markdown",
   "id": "bc6031bd-ca9b-472f-a9e8-506d219e553a",
   "metadata": {
    "papermill": {},
    "tags": []
   },
   "source": [
    "### Import libraries"
   ]
  },
  {
   "cell_type": "code",
   "execution_count": null,
   "id": "4e2383a7-1156-4316-a9f2-9ae3f6ea6cc1",
   "metadata": {
    "papermill": {},
    "tags": []
   },
   "source": "import os\nimport json\nimport requests",
   "outputs": []
  },
  {
   "cell_type": "markdown",
   "id": "61131364-4870-458d-8795-3bc8ad49f5ca",
   "metadata": {
    "papermill": {},
    "tags": []
   },
   "source": [
    "### Setup variables\n- `file_id`: ID of the file stored in Google Drive\n- `token`: Access token to access Google Drive API"
   ]
  },
  {
   "cell_type": "code",
   "execution_count": null,
   "id": "18b12e15-401f-4a4d-aeeb-ffa6d4176ce2",
   "metadata": {
    "papermill": {},
    "tags": []
   },
   "source": "file_id = \"1XyZ_3jd_4f_5ghi_6jkl\"\ntoken = \"abcdefghijklmnopqrstuvwxyz\"",
   "outputs": []
  },
  {
   "cell_type": "markdown",
   "id": "d470aa54-3ddf-443b-acfb-9297addd1a77",
   "metadata": {
    "papermill": {},
    "tags": []
   },
   "source": [
    "## Model"
   ]
  },
  {
   "cell_type": "markdown",
   "id": "091387ef-44d9-49ef-a13c-288461e8f645",
   "metadata": {
    "papermill": {},
    "tags": []
   },
   "source": [
    "### Create shareable public link"
   ]
  },
  {
   "cell_type": "markdown",
   "id": "c4d1610d-81f7-437c-9a6f-f89a666e57bb",
   "metadata": {
    "papermill": {},
    "tags": []
   },
   "source": [
    "This function will create a shareable public link from a file stored in Google Drive."
   ]
  },
  {
   "cell_type": "code",
   "execution_count": null,
   "id": "c5cdcc94-54a5-4953-a155-4be3a24f7659",
   "metadata": {
    "papermill": {},
    "tags": []
   },
   "source": "def create_shareable_public_link(file_id, token):\n    # Set the request parameters\n    url = \"https://www.googleapis.com/drive/v3/files/{}/permissions\".format(file_id)\n    headers = {\"Authorization\": \"Bearer {}\".format(token)}\n    payload = {\"role\": \"reader\", \"type\": \"anyone\", \"allowFileDiscovery\": \"false\"}\n    # Execute the request\n    response = requests.post(url, headers=headers, data=json.dumps(payload))\n    # Check the response\n    if response.status_code == 200:\n        # Get the public link\n        public_link = response.json()[\"webViewLink\"]\n        return public_link\n    else:\n        return None",
   "outputs": []
  },
  {
   "cell_type": "markdown",
   "id": "a0589072-1d94-4c3d-aaef-cc0a70f240e0",
   "metadata": {
    "papermill": {},
    "tags": []
   },
   "source": [
    "## Output"
   ]
  },
  {
   "cell_type": "markdown",
   "id": "c11ca80f-2442-4867-94c3-5e5537cccb7a",
   "metadata": {
    "papermill": {},
    "tags": []
   },
   "source": [
    "### Display result"
   ]
  },
  {
   "cell_type": "code",
   "execution_count": null,
   "id": "c3aab332-2aa8-4429-87a4-6359e3f69936",
   "metadata": {
    "papermill": {},
    "tags": []
   },
   "source": "public_link = create_shareable_public_link(file_id, token)\nif public_link:\n    print(\"Public link: {}\".format(public_link))\nelse:\n    print(\"Error creating public link\")",
   "outputs": []
  },
  {
   "cell_type": "markdown",
   "id": "cfb4f669-aa94-41c2-b518-e3175286c83a",
   "metadata": {
    "papermill": {},
    "tags": []
   },
   "source": [
    " "
   ]
  }
 ],
 "metadata": {
  "kernelspec": {
   "display_name": "Python 3",
   "language": "python",
   "name": "python3"
  },
  "language_info": {
   "codemirror_mode": {
    "name": "ipython",
    "version": 3
   },
   "file_extension": ".py",
   "mimetype": "text/x-python",
   "name": "python",
   "nbconvert_exporter": "python",
   "pygments_lexer": "ipython3",
   "version": "3.9.6"
  },
  "widgets": {
   "application/vnd.jupyter.widget-state+json": {
    "state": {},
    "version_major": 2,
    "version_minor": 0
   }
  }
 },
 "nbformat": 4,
 "nbformat_minor": 5
}