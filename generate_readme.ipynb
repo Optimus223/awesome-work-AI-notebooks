{
 "cells": [
  {
   "cell_type": "markdown",
   "id": "latter-teddy",
   "metadata": {},
   "source": [
    "<img width=\"10%\" alt=\"Naas\" src=\"https://landen.imgix.net/jtci2pxwjczr/assets/5ice39g4.png?w=160\"/>\n",
    "\n",
    "# Generate Readme for Awesome Notebooks"
   ]
  },
  {
   "cell_type": "markdown",
   "id": "421e4c6e-d5ef-4d53-9d36-f352426c4d87",
   "metadata": {
    "execution": {
     "iopub.execute_input": "2021-10-06T11:02:41.091855Z",
     "iopub.status.busy": "2021-10-06T11:02:41.091514Z",
     "iopub.status.idle": "2021-10-06T11:02:41.099143Z",
     "shell.execute_reply": "2021-10-06T11:02:41.098565Z",
     "shell.execute_reply.started": "2021-10-06T11:02:41.091773Z"
    },
    "tags": []
   },
   "source": [
    "## Input"
   ]
  },
  {
   "cell_type": "markdown",
   "id": "e84f7e80-dda2-4569-96dd-5abaaed2c73a",
   "metadata": {},
   "source": [
    "### Import librairies"
   ]
  },
  {
   "cell_type": "code",
   "execution_count": null,
   "id": "sitting-directory",
   "metadata": {
    "execution": {
     "iopub.execute_input": "2021-11-17T14:35:04.741323Z",
     "iopub.status.busy": "2021-11-17T14:35:04.739262Z",
     "iopub.status.idle": "2021-11-17T14:35:06.703006Z",
     "shell.execute_reply": "2021-11-17T14:35:06.703452Z",
     "shell.execute_reply.started": "2021-10-11T06:37:25.603619Z"
    },
    "tags": []
   },
   "outputs": [],
   "source": [
    "import os\n",
    "import naas_drivers\n",
    "import urllib.parse\n",
    "import json\n",
    "import copy\n",
    "import nbformat\n",
    "from nbconvert import MarkdownExporter\n",
    "from papermill.iorw import (\n",
    "    load_notebook_node,\n",
    "    write_ipynb,\n",
    ")"
   ]
  },
  {
   "cell_type": "markdown",
   "id": "agricultural-contest",
   "metadata": {},
   "source": [
    "### Variables"
   ]
  },
  {
   "cell_type": "code",
   "execution_count": null,
   "id": "guided-edgar",
   "metadata": {
    "execution": {
     "iopub.execute_input": "2021-11-17T14:35:06.709820Z",
     "iopub.status.busy": "2021-11-17T14:35:06.708625Z",
     "iopub.status.idle": "2021-11-17T14:35:06.710399Z",
     "shell.execute_reply": "2021-11-17T14:35:06.710874Z",
     "shell.execute_reply.started": "2021-10-11T06:37:29.758400Z"
    },
    "tags": []
   },
   "outputs": [],
   "source": [
    "# README variables\n",
    "readme_template = \"README_template.md\"\n",
    "readme = \"README.md\"\n",
    "replace_var = \"[[DYNAMIC_LIST]]\"\n",
    "\n",
    "# Json output\n",
    "json_file = \"templates.json\"\n",
    "\n",
    "# Others\n",
    "current_file = '.'\n",
    "notebook_ext = '.ipynb'\n",
    "github_url = 'https://github.com/jupyter-naas/awesome-notebooks/tree/master'\n",
    "github_download_url = 'https://raw.githubusercontent.com/jupyter-naas/awesome-notebooks/master/'\n",
    "naas_download_url ='https://app.naas.ai/user-redirect/naas/downloader?url='\n",
    "naas_logo ='https://img.shields.io/badge/-Open%20in%20Naas-success?labelColor=000000&logo=data:image/svg+xml;base64,PD94bWwgdmVyc2lvbj0iMS4wIiBlbmNvZGluZz0iVVRGLTgiPz4KPHN2ZyB3aWR0aD0iMTAyNHB4IiBoZWlnaHQ9IjEwMjRweCIgdmlld0JveD0iMCAwIDEwMjQgMTAyNCIgeG1sbnM9Imh0dHA6Ly93d3cudzMub3JnLzIwMDAvc3ZnIiB4bWxuczp4bGluaz0iaHR0cDovL3d3dy53My5vcmcvMTk5OS94bGluayIgdmVyc2lvbj0iMS4xIj4KIDwhLS0gR2VuZXJhdGVkIGJ5IFBpeGVsbWF0b3IgUHJvIDIuMC41IC0tPgogPGRlZnM+CiAgPHRleHQgaWQ9InN0cmluZyIgdHJhbnNmb3JtPSJtYXRyaXgoMS4wIDAuMCAwLjAgMS4wIDIyOC4wIDU0LjUpIiBmb250LWZhbWlseT0iQ29tZm9ydGFhLVJlZ3VsYXIsIENvbWZvcnRhYSIgZm9udC1zaXplPSI4MDAiIHRleHQtZGVjb3JhdGlvbj0ibm9uZSIgZmlsbD0iI2ZmZmZmZiIgeD0iMS4xOTk5OTk5OTk5OTk5ODg2IiB5PSI3MDUuMCI+bjwvdGV4dD4KIDwvZGVmcz4KIDx1c2UgaWQ9Im4iIHhsaW5rOmhyZWY9IiNzdHJpbmciLz4KPC9zdmc+Cg=='"
   ]
  },
  {
   "cell_type": "markdown",
   "id": "distinguished-declaration",
   "metadata": {},
   "source": [
    "### Get files list"
   ]
  },
  {
   "cell_type": "code",
   "execution_count": null,
   "id": "japanese-adolescent",
   "metadata": {
    "execution": {
     "iopub.execute_input": "2021-11-17T14:35:06.715716Z",
     "iopub.status.busy": "2021-11-17T14:35:06.715186Z",
     "iopub.status.idle": "2021-11-17T14:35:06.720694Z",
     "shell.execute_reply": "2021-11-17T14:35:06.720236Z",
     "shell.execute_reply.started": "2021-10-11T06:37:29.768550Z"
    },
    "tags": []
   },
   "outputs": [],
   "source": [
    "total = []\n",
    "for root, directories, files in os.walk(current_file, topdown=False):\n",
    "    total.append({\"root\": root, \"directories\":directories, \"files\":files})\n",
    "total.sort(key=lambda x: x.get('root'))"
   ]
  },
  {
   "cell_type": "markdown",
   "id": "d76baf36-56c4-49f9-93e8-00889b174845",
   "metadata": {},
   "source": [
    "## Model"
   ]
  },
  {
   "cell_type": "markdown",
   "id": "ordered-rebecca",
   "metadata": {},
   "source": [
    "### Set 'Naas Download' link on notebook"
   ]
  },
  {
   "cell_type": "code",
   "execution_count": null,
   "id": "shared-savannah",
   "metadata": {
    "execution": {
     "iopub.execute_input": "2021-11-17T14:35:06.731693Z",
     "iopub.status.busy": "2021-11-17T14:35:06.730339Z",
     "iopub.status.idle": "2021-11-17T14:35:06.732277Z",
     "shell.execute_reply": "2021-11-17T14:35:06.732705Z",
     "shell.execute_reply.started": "2021-10-11T06:37:30.106960Z"
    },
    "tags": []
   },
   "outputs": [],
   "source": [
    "def get_open_button(download_link):\n",
    "    return f\"\"\"<a href=\"{download_link}\" target=\"_parent\"><img src=\"{naas_logo}\"/></a>\"\"\"\n",
    "\n",
    "def get_title(folder_nice, file_nice, download_link):\n",
    "    return f\"\"\"# {folder_nice} - {file_nice}\\n{get_open_button(download_link)}\"\"\"\n",
    "\n",
    "def get_tags(text):\n",
    "    result = []\n",
    "    tags = text.split(' ')\n",
    "    for tag in tags:\n",
    "        if len(tag) >= 2 and tag[0] == '#' and tag[1] != ' ' and tag[1] != '#':\n",
    "            result.append(tag)\n",
    "    return result\n",
    "\n",
    "def set_notebook_title(notebook_path, title_source):\n",
    "    header_found = False\n",
    "    tag_found = False\n",
    "    tags = None\n",
    "    count = 0\n",
    "    nb = load_notebook_node(notebook_path)\n",
    "    nb = copy.deepcopy(nb)\n",
    "    for cell in nb.cells:\n",
    "        source = cell.source\n",
    "        if cell.cell_type == \"code\":\n",
    "            nb.cells[count].outputs = []\n",
    "        if header_found and not tag_found:\n",
    "            if cell.cell_type == \"markdown\":\n",
    "                tags = get_tags(cell.source)\n",
    "                print(tags)\n",
    "            tag_found = True\n",
    "        if  not header_found and cell.cell_type == \"markdown\" and len(source) > 2 and source[0] == '#' and source[1] == ' ':\n",
    "            nb.cells[count].source = title_source\n",
    "            header_found = True\n",
    "        count += 1\n",
    "    write_ipynb(nb, notebook_path)\n",
    "    return tags"
   ]
  },
  {
   "cell_type": "markdown",
   "id": "infrared-destiny",
   "metadata": {
    "execution": {
     "iopub.execute_input": "2021-01-26T16:25:51.412411Z",
     "iopub.status.busy": "2021-01-26T16:25:51.412178Z",
     "iopub.status.idle": "2021-01-26T16:25:51.414944Z",
     "shell.execute_reply": "2021-01-26T16:25:51.414298Z",
     "shell.execute_reply.started": "2021-01-26T16:25:51.412388Z"
    }
   },
   "source": [
    "### Convert filepath in Markdown text"
   ]
  },
  {
   "cell_type": "code",
   "execution_count": null,
   "id": "devoted-syracuse",
   "metadata": {
    "execution": {
     "iopub.execute_input": "2021-11-17T14:35:06.741860Z",
     "iopub.status.busy": "2021-11-17T14:35:06.740772Z",
     "iopub.status.idle": "2021-11-17T14:35:06.742670Z",
     "shell.execute_reply": "2021-11-17T14:35:06.743101Z",
     "shell.execute_reply.started": "2021-10-11T06:37:30.127938Z"
    },
    "tags": []
   },
   "outputs": [],
   "source": [
    "def get_file_md(folder_nice, folder_url, files, json_templates, title_sep=\"##\", subtitle_sep=\"*\"):\n",
    "    md = \"\"\n",
    "    if (len(files) > 0):\n",
    "        md += f\"\\n{title_sep} {folder_nice}\\n\"\n",
    "        for file in files:\n",
    "            if file.endswith(notebook_ext):\n",
    "                file_url = urllib.parse.quote(file)\n",
    "                file_nice = file.replace('_', ' ')\n",
    "                file_nice = file_nice.replace(notebook_ext, '')\n",
    "                file_nice = file_nice.replace(folder_nice, '')\n",
    "                file_nice = file_nice.strip()\n",
    "                if (file_nice != \"\"):\n",
    "                    file_nice = file_nice[0].capitalize() + file_nice[1:]\n",
    "                path = urllib.parse.unquote(f\"{folder_url}/{file_url}\")\n",
    "                dl_url = f\"{naas_download_url}{github_download_url}{folder_url}/{file_url}\"\n",
    "                title = get_title(folder_nice, file_nice, dl_url)\n",
    "                tags = set_notebook_title(path, title)\n",
    "                nb_redirect = f\"[{file_nice}]({github_url}/{folder_url}/{file_url})\"\n",
    "                open_button = get_open_button(dl_url)\n",
    "                md += f\"{subtitle_sep} {nb_redirect}\\n\"\n",
    "                json_templates.append({\n",
    "                    'tool': folder_nice,\n",
    "                    'notebook': file_nice,\n",
    "                    'tags': tags,\n",
    "                    'update': '',\n",
    "                    'action': open_button\n",
    "                })\n",
    "    return md"
   ]
  },
  {
   "cell_type": "markdown",
   "id": "featured-anchor",
   "metadata": {},
   "source": [
    "### Create list of all notebooks"
   ]
  },
  {
   "cell_type": "code",
   "execution_count": null,
   "id": "viral-cause",
   "metadata": {
    "execution": {
     "iopub.execute_input": "2021-11-17T14:35:06.751845Z",
     "iopub.status.busy": "2021-11-17T14:35:06.751302Z",
     "iopub.status.idle": "2021-11-17T14:35:09.851410Z",
     "shell.execute_reply": "2021-11-17T14:35:09.851822Z",
     "shell.execute_reply.started": "2021-10-11T06:37:30.214050Z"
    },
    "tags": []
   },
   "outputs": [],
   "source": [
    "generated_list = \"\"\n",
    "template_json = []\n",
    "\n",
    "for cur in total:\n",
    "    root = cur.get('root')\n",
    "    md_round = \"\"\n",
    "    directories = cur.get('directories') \n",
    "    files = cur.get('files')\n",
    "    files = sorted(files)\n",
    "    if ('.git' not in root and '.ipynb_checkpoints' not in root and '.' != root):\n",
    "        folder_nice = root.replace('./', '')\n",
    "        print(folder_nice)\n",
    "        folder_url = urllib.parse.quote(folder_nice)\n",
    "        if ('/' not in folder_nice):\n",
    "            md_round += get_file_md(folder_nice, folder_url, files, template_json)\n",
    "        elif ('/' in folder_nice):\n",
    "            folder_url = urllib.parse.quote(folder_nice)\n",
    "            subfolder_nice = folder_nice.split('/')[1].replace('_', ' ').replace(folder_nice, '').strip()\n",
    "            md_round += get_file_md(subfolder_nice, folder_url, files, template_json, \"\\t###\", \"\\t-\")\n",
    "    elif ('.ipynb_checkpoints' in root):\n",
    "        for file in files:\n",
    "            try:\n",
    "                os.remove(os.path.join(root, file))\n",
    "            except:\n",
    "                pass\n",
    "        try:\n",
    "            os.rmdir(root)\n",
    "        except:\n",
    "            pass\n",
    "    generated_list += md_round"
   ]
  },
  {
   "cell_type": "markdown",
   "id": "f5d63b5f-5209-4f89-8d1c-d85fa8a2b73f",
   "metadata": {},
   "source": [
    "## Output"
   ]
  },
  {
   "cell_type": "markdown",
   "id": "aboriginal-responsibility",
   "metadata": {},
   "source": [
    "### Preview the generated list"
   ]
  },
  {
   "cell_type": "code",
   "execution_count": null,
   "id": "broadband-rachel",
   "metadata": {
    "execution": {
     "iopub.execute_input": "2021-11-17T14:35:09.878439Z",
     "iopub.status.busy": "2021-11-17T14:35:09.866371Z",
     "iopub.status.idle": "2021-11-17T14:35:10.308583Z",
     "shell.execute_reply": "2021-11-17T14:35:10.307693Z",
     "shell.execute_reply.started": "2021-10-11T06:37:38.946847Z"
    },
    "tags": []
   },
   "outputs": [],
   "source": [
    "naas_drivers.markdown.display(generated_list)"
   ]
  },
  {
   "cell_type": "markdown",
   "id": "88e075a7-8341-45af-a250-c1594c004579",
   "metadata": {},
   "source": [
    "### Generate readme"
   ]
  },
  {
   "cell_type": "code",
   "execution_count": null,
   "id": "younger-consensus",
   "metadata": {
    "execution": {
     "iopub.execute_input": "2021-11-17T14:35:10.313817Z",
     "iopub.status.busy": "2021-11-17T14:35:10.312616Z",
     "iopub.status.idle": "2021-11-17T14:35:10.318515Z",
     "shell.execute_reply": "2021-11-17T14:35:10.317712Z",
     "shell.execute_reply.started": "2021-10-11T06:37:39.519323Z"
    },
    "tags": []
   },
   "outputs": [],
   "source": [
    "# Open README template\n",
    "template = open(readme_template).read()\n",
    "\n",
    "# Replace var to get list of templates in markdown format\n",
    "template = template.replace(replace_var, generated_list)\n",
    "\n",
    "# Save README\n",
    "f  = open(readme, \"w+\")\n",
    "f.write(template)\n",
    "f.close()"
   ]
  },
  {
   "cell_type": "markdown",
   "id": "de15f85e-5b64-4e51-a73b-b666fe319e97",
   "metadata": {},
   "source": [
    "### Generate json"
   ]
  },
  {
   "cell_type": "code",
   "execution_count": null,
   "id": "2a95cba3-027c-4a57-8bfa-2ee1e9053bb7",
   "metadata": {
    "execution": {
     "iopub.execute_input": "2021-11-17T14:35:10.322752Z",
     "iopub.status.busy": "2021-11-17T14:35:10.321849Z",
     "iopub.status.idle": "2021-11-17T14:35:10.328167Z",
     "shell.execute_reply": "2021-11-17T14:35:10.327441Z",
     "shell.execute_reply.started": "2021-10-11T06:37:39.566209Z"
    },
    "tags": []
   },
   "outputs": [],
   "source": [
    "with open(json_file, 'w') as f:\n",
    "    json.dump(template_json, f)"
   ]
  },
  {
   "cell_type": "code",
   "execution_count": null,
   "id": "40269143-4b3e-412e-93fb-6d701a9726b8",
   "metadata": {},
   "outputs": [],
   "source": []
  }
 ],
 "metadata": {
  "interpreter": {
   "hash": "e7370f93d1d0cde622a1f8e1c04877d8463912d04d973331ad4851f04de6915a"
  },
  "kernelspec": {
   "display_name": "Python 3",
   "language": "python",
   "name": "python3"
  },
  "language_info": {
   "codemirror_mode": {
    "name": "ipython",
    "version": 3
   },
   "file_extension": ".py",
   "mimetype": "text/x-python",
   "name": "python",
   "nbconvert_exporter": "python",
   "pygments_lexer": "ipython3",
   "version": "3.8.10"
  },
  "widgets": {
   "application/vnd.jupyter.widget-state+json": {
    "state": {},
    "version_major": 2,
    "version_minor": 0
   }
  }
 },
 "nbformat": 4,
 "nbformat_minor": 5
}
