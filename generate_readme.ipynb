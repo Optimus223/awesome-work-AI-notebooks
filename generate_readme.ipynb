{
 "cells": [
  {
   "cell_type": "markdown",
   "id": "parental-bibliography",
   "metadata": {},
   "source": [
    "<img width=\"10%\" alt=\"Naas\" src=\"https://landen.imgix.net/jtci2pxwjczr/assets/5ice39g4.png?w=160\"/>\n",
    "\n",
    "# Generate Readme for Awesome Notebooks"
   ]
  },
  {
   "cell_type": "code",
   "execution_count": null,
   "id": "nuclear-celebrity",
   "metadata": {
    "execution": {
     "iopub.execute_input": "2021-07-21T11:22:52.258351Z",
     "iopub.status.busy": "2021-07-21T11:22:52.258133Z"
    },
    "tags": []
   },
   "outputs": [],
   "source": [
    "import os\n",
    "import naas_drivers\n",
    "import urllib.parse\n",
    "import json\n",
    "\n",
    "import copy\n",
    "import nbformat\n",
    "from nbconvert import MarkdownExporter\n",
    "\n",
    "from papermill.iorw import (\n",
    "    load_notebook_node,\n",
    "    write_ipynb,\n",
    ")"
   ]
  },
  {
   "cell_type": "markdown",
   "id": "lovely-accessory",
   "metadata": {},
   "source": [
    "## Variables"
   ]
  },
  {
   "cell_type": "code",
   "execution_count": null,
   "id": "emerging-volume",
   "metadata": {
    "tags": []
   },
   "outputs": [],
   "source": [
    "readme_template = \"README_template.md\"\n",
    "readme = \"README.md\"\n",
    "json_file = \"templates.json\"\n",
    "replace_var = \"[[DYNAMIC_LIST]]\"\n",
    "current_file = '.'\n",
    "notebook_ext = '.ipynb'\n",
    "github_url = 'https://github.com/jupyter-naas/awesome-notebooks/tree/master'\n",
    "github_download_url = 'https://raw.githubusercontent.com/jupyter-naas/awesome-notebooks/master/'\n",
    "naas_download_url='https://app.naas.ai/user-redirect/naas/downloader?url='\n",
    "naas_logo='https://img.shields.io/badge/-Open%20in%20Naas-success?labelColor=000000&logo=data:image/svg+xml;base64,PD94bWwgdmVyc2lvbj0iMS4wIiBlbmNvZGluZz0iVVRGLTgiPz4KPHN2ZyB3aWR0aD0iMTAyNHB4IiBoZWlnaHQ9IjEwMjRweCIgdmlld0JveD0iMCAwIDEwMjQgMTAyNCIgeG1sbnM9Imh0dHA6Ly93d3cudzMub3JnLzIwMDAvc3ZnIiB4bWxuczp4bGluaz0iaHR0cDovL3d3dy53My5vcmcvMTk5OS94bGluayIgdmVyc2lvbj0iMS4xIj4KIDwhLS0gR2VuZXJhdGVkIGJ5IFBpeGVsbWF0b3IgUHJvIDIuMC41IC0tPgogPGRlZnM+CiAgPHRleHQgaWQ9InN0cmluZyIgdHJhbnNmb3JtPSJtYXRyaXgoMS4wIDAuMCAwLjAgMS4wIDIyOC4wIDU0LjUpIiBmb250LWZhbWlseT0iQ29tZm9ydGFhLVJlZ3VsYXIsIENvbWZvcnRhYSIgZm9udC1zaXplPSI4MDAiIHRleHQtZGVjb3JhdGlvbj0ibm9uZSIgZmlsbD0iI2ZmZmZmZiIgeD0iMS4xOTk5OTk5OTk5OTk5ODg2IiB5PSI3MDUuMCI+bjwvdGV4dD4KIDwvZGVmcz4KIDx1c2UgaWQ9Im4iIHhsaW5rOmhyZWY9IiNzdHJpbmciLz4KPC9zdmc+Cg=='"
   ]
  },
  {
   "cell_type": "markdown",
   "id": "scientific-framing",
   "metadata": {},
   "source": [
    "## Get files list"
   ]
  },
  {
   "cell_type": "code",
   "execution_count": null,
   "id": "compliant-receptor",
   "metadata": {
    "tags": []
   },
   "outputs": [],
   "source": [
    "total = []\n",
    "for root, directories, files in os.walk(current_file, topdown=False):\n",
    "    total.append({\"root\": root, \"directories\":directories, \"files\":files})\n",
    "total.sort(key=lambda x: x.get('root'))"
   ]
  },
  {
   "cell_type": "markdown",
   "id": "straight-mongolia",
   "metadata": {},
   "source": [
    "## Set 'Naas Download' link on notebook"
   ]
  },
  {
   "cell_type": "code",
   "execution_count": null,
   "id": "explicit-supply",
   "metadata": {
    "tags": []
   },
   "outputs": [],
   "source": [
    "def get_open_button(download_link):\n",
    "    return f\"\"\"<a href=\"{download_link}\" target=\"_parent\"><img src=\"{naas_logo}\"/></a>\"\"\"\n",
    "\n",
    "def get_title(folder_nice, file_nice, download_link):\n",
    "    return f\"\"\"# {folder_nice} - {file_nice}\\n{get_open_button(download_link)}\"\"\"\n",
    "\n",
    "def get_tags(text):\n",
    "    result = []\n",
    "    tags = text.split(' ')\n",
    "    for tag in tags:\n",
    "        if len(tag) >= 2 and tag[0] == '#' and tag[1] != ' ' and tag[1] != '#':\n",
    "            result.append(tag)\n",
    "    return result\n",
    "\n",
    "def set_notebook_title(notebook_path, title_source):\n",
    "    header_found = False\n",
    "    tag_found = False\n",
    "    tags = None\n",
    "    count = 0\n",
    "    nb = load_notebook_node(notebook_path)\n",
    "    nb = copy.deepcopy(nb)\n",
    "    for cell in nb.cells:\n",
    "        source = cell.source\n",
    "        if cell.cell_type == \"code\":\n",
    "            nb.cells[count].outputs = []\n",
    "        if header_found and not tag_found:\n",
    "            if cell.cell_type == \"markdown\":\n",
    "                tags = get_tags(cell.source)\n",
    "            tag_found = True\n",
    "        if  not header_found and cell.cell_type == \"markdown\" and len(source) > 2 and source[0] == '#' and source[1] == ' ':\n",
    "            nb.cells[count].source = title_source\n",
    "            header_found = True\n",
    "        count += 1\n",
    "    write_ipynb(nb, notebook_path)\n",
    "    if notebook_path == \"LinkedIn/LinkedIn_Send_message_to_profile.ipynb\":\n",
    "        (body, resources) = MarkdownExporter().from_notebook_node(nb)\n",
    "        f = open(notebook_path.replace(\".ipynb\", \".md\"), \"w\")\n",
    "        f.write(body)\n",
    "        f.close()\n",
    "    return tags\n"
   ]
  },
  {
   "cell_type": "markdown",
   "id": "aerial-cabin",
   "metadata": {
    "execution": {
     "iopub.execute_input": "2021-01-26T16:25:51.412411Z",
     "iopub.status.busy": "2021-01-26T16:25:51.412178Z",
     "iopub.status.idle": "2021-01-26T16:25:51.414944Z",
     "shell.execute_reply": "2021-01-26T16:25:51.414298Z",
     "shell.execute_reply.started": "2021-01-26T16:25:51.412388Z"
    }
   },
   "source": [
    "## Convert filepath in Markdown text"
   ]
  },
  {
   "cell_type": "code",
   "execution_count": null,
   "id": "affected-mattress",
   "metadata": {
    "tags": []
   },
   "outputs": [],
   "source": [
    "def get_file_md(folder_nice, folder_url, files, json_templates, title_sep=\"##\", subtitle_sep=\"*\"):\n",
    "    md = \"\"\n",
    "    if (len(files) > 0):\n",
    "#        md += f\"\\n{title_sep} {folder_nice}\\n\"\n",
    "        for file in files:\n",
    "    #                 print(file)\n",
    "\n",
    "            if file.endswith(notebook_ext):\n",
    "                file_url = urllib.parse.quote(file)\n",
    "                file_nice = file.replace('_', ' ')\n",
    "                file_nice = file_nice.replace(notebook_ext, '')\n",
    "                file_nice = file_nice.replace(folder_nice, '')\n",
    "                file_nice = file_nice.strip()\n",
    "                if (file_nice != \"\"):\n",
    "                    file_nice = file_nice[0].capitalize() + file_nice[1:]\n",
    "                path = urllib.parse.unquote(f\"{folder_url}/{file_url}\")\n",
    "                dl_url = f\"{naas_download_url}{github_download_url}{folder_url}/{file_url}\"\n",
    "                title = get_title(folder_nice, file_nice, dl_url)\n",
    "                tags = set_notebook_title(path, title)\n",
    "                nb_redirect = f\"[{file_nice}]({github_url}/{folder_url}/{file_url})\"\n",
    "                open_button = get_open_button(dl_url)\n",
    "                md += f\"{folder_nice} | {nb_redirect} | {open_button}\\n\"\n",
    "                json_templates.append({\n",
    "                    'tool': folder_nice,\n",
    "                    'notebook': file_nice,\n",
    "                    'tags': tags,\n",
    "                    'update': '',\n",
    "                    'action': open_button\n",
    "                })\n",
    "    return md"
   ]
  },
  {
   "cell_type": "markdown",
   "id": "novel-english",
   "metadata": {},
   "source": [
    "## Create list of all notebooks"
   ]
  },
  {
   "cell_type": "code",
   "execution_count": null,
   "id": "adjustable-dallas",
   "metadata": {
    "tags": []
   },
   "outputs": [],
   "source": [
    "generated_list = \"Tool | Notebook | Open in Naas\\n--- | --- | ---\\n\"\n",
    "template_json = []\n",
    "\n",
    "for cur in total:\n",
    "    root = cur.get('root')\n",
    "    md_round = \"\"\n",
    "    directories = cur.get('directories') \n",
    "    files = cur.get('files')\n",
    "    files = sorted(files)\n",
    "    if ('.git' not in root and '.ipynb_checkpoints' not in root and '.' != root):\n",
    "        folder_nice = root.replace('./', '')\n",
    "        folder_url = urllib.parse.quote(folder_nice)\n",
    "        if ('/' not in folder_nice):\n",
    "            md_round += get_file_md(folder_nice, folder_url, files, template_json)\n",
    "        elif ('/' in folder_nice):\n",
    "            folder_url = urllib.parse.quote(folder_nice)\n",
    "            subfolder_nice = folder_nice.split('/')[1].replace('_', ' ').replace(folder_nice, '').strip()\n",
    "            md_round += get_file_md(subfolder_nice, folder_url, files, template_json, \"\\t###\", \"\\t-\")\n",
    "    elif ('.ipynb_checkpoints' in root):\n",
    "#         print(root, files)\n",
    "        for file in files:\n",
    "            try:\n",
    "                os.remove(os.path.join(root, file))\n",
    "            except:\n",
    "                pass\n",
    "        try:\n",
    "            os.rmdir(root)\n",
    "        except:\n",
    "            pass\n",
    "#     print(md_round)\n",
    "    generated_list += md_round"
   ]
  },
  {
   "cell_type": "markdown",
   "id": "proof-generation",
   "metadata": {},
   "source": [
    "## Preview the generated list"
   ]
  },
  {
   "cell_type": "code",
   "execution_count": null,
   "id": "proud-cocktail",
   "metadata": {
    "tags": []
   },
   "outputs": [],
   "source": [
    "naas_drivers.markdown.display(generated_list)"
   ]
  },
  {
   "cell_type": "code",
   "execution_count": null,
   "id": "speaking-feedback",
   "metadata": {
    "tags": []
   },
   "outputs": [],
   "source": [
    "template = open(readme_template).read()\n",
    "\n",
    "template = template.replace(replace_var, generated_list)\n",
    "\n",
    "f  = open(readme, \"w+\")\n",
    "f.write(template)\n",
    "f.close()\n",
    "\n",
    "f = open(json_file, \"w\")\n",
    "f.write(json.dumps(template_json))\n",
    "f.close"
   ]
  },
  {
   "cell_type": "code",
   "execution_count": null,
   "id": "periodic-palestine",
   "metadata": {},
   "outputs": [],
   "source": []
  }
 ],
 "metadata": {
  "interpreter": {
   "hash": "e7370f93d1d0cde622a1f8e1c04877d8463912d04d973331ad4851f04de6915a"
  },
  "kernelspec": {
   "display_name": "Python 3",
   "language": "python",
   "name": "python3"
  },
  "language_info": {
   "codemirror_mode": {
    "name": "ipython",
    "version": 3
   },
   "file_extension": ".py",
   "mimetype": "text/x-python",
   "name": "python",
   "nbconvert_exporter": "python",
   "pygments_lexer": "ipython3",
   "version": "3.8.8"
  },
  "widgets": {
   "application/vnd.jupyter.widget-state+json": {
    "state": {},
    "version_major": 2,
    "version_minor": 0
   }
  }
 },
 "nbformat": 4,
 "nbformat_minor": 5
}
