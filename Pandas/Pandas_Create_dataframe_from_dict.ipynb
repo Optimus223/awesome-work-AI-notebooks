{
 "cells": [
  {
   "cell_type": "markdown",
   "id": "naas-logo",
   "metadata": {
    "papermill": {},
    "tags": [
     "naas"
    ]
   },
   "source": [
    "<img width=\"10%\" alt=\"Naas\" src=\"https://landen.imgix.net/jtci2pxwjczr/assets/5ice39g4.png?w=160\"/>"
   ]
  },
  {
   "cell_type": "markdown",
   "id": "db17b79b",
   "metadata": {
    "papermill": {},
    "tags": []
   },
   "source": [
    "# Python - Create DataFrame from dict\n",
    "<a href=\"https://app.naas.ai/user-redirect/naas/downloader?url=https://raw.githubusercontent.com/jupyter-naas/awesome-notebooks/master/Python/Python_Looping_Over_Dataframe.ipynb\" target=\"_parent\"><img src=\"https://naasai-public.s3.eu-west-3.amazonaws.com/open_in_naas.svg\"/></a>"
   ]
  },
  {
   "cell_type": "markdown",
   "id": "13800319",
   "metadata": {
    "papermill": {},
    "tags": []
   },
   "source": [
    "**Tags:** #pandas #dict #snippet #dataframe"
   ]
  },
  {
   "cell_type": "markdown",
   "id": "8761af40",
   "metadata": {
    "papermill": {},
    "tags": []
   },
   "source": [
    "**Author:** [Florent Ravenel](https://www.linkedin.com/in/ACoAABCNSioBW3YZHc2lBHVG0E_TXYWitQkmwog/)"
   ]
  },
  {
   "cell_type": "markdown",
   "id": "9aed546b-a071-4a29-943a-06a754e05c40",
   "metadata": {},
   "source": [
    "Here below you will find how to create a pandas DataFrame from a simple dict"
   ]
  },
  {
   "cell_type": "markdown",
   "id": "d6ed8917",
   "metadata": {
    "papermill": {},
    "tags": []
   },
   "source": [
    "## Input"
   ]
  },
  {
   "cell_type": "markdown",
   "id": "c8e7db8c-55fd-4ec8-a5e0-01b80632b1ec",
   "metadata": {},
   "source": [
    "### Import libraries"
   ]
  },
  {
   "cell_type": "code",
   "execution_count": 4,
   "id": "3869ce8d-e748-4902-a28c-797627946a12",
   "metadata": {
    "execution": {
     "iopub.execute_input": "2022-03-07T11:01:02.284890Z",
     "iopub.status.busy": "2022-03-07T11:01:02.284650Z",
     "iopub.status.idle": "2022-03-07T11:01:02.288732Z",
     "shell.execute_reply": "2022-03-07T11:01:02.287043Z",
     "shell.execute_reply.started": "2022-03-07T11:01:02.284866Z"
    },
    "tags": []
   },
   "outputs": [],
   "source": [
    "import pandas as pd"
   ]
  },
  {
   "cell_type": "markdown",
   "id": "fb1b9009",
   "metadata": {
    "papermill": {},
    "tags": []
   },
   "source": [
    "### Setup your dict"
   ]
  },
  {
   "cell_type": "code",
   "execution_count": 14,
   "id": "aefef37f",
   "metadata": {
    "execution": {
     "iopub.execute_input": "2022-03-07T11:02:55.592328Z",
     "iopub.status.busy": "2022-03-07T11:02:55.592103Z",
     "iopub.status.idle": "2022-03-07T11:02:55.595331Z",
     "shell.execute_reply": "2022-03-07T11:02:55.594684Z",
     "shell.execute_reply.started": "2022-03-07T11:02:55.592306Z"
    },
    "papermill": {},
    "tags": []
   },
   "outputs": [],
   "source": [
    "my_dict = {\"LABEL\": 1995, \"VALUE\": 219}"
   ]
  },
  {
   "cell_type": "markdown",
   "id": "30f728e7-f3c8-40a9-aeb9-f6551113462c",
   "metadata": {},
   "source": [
    "## Model"
   ]
  },
  {
   "cell_type": "markdown",
   "id": "6fffa01c-1f9b-4923-93e1-ee793c3a31d9",
   "metadata": {
    "papermill": {},
    "tags": []
   },
   "source": [
    "### Create dataframe"
   ]
  },
  {
   "cell_type": "code",
   "execution_count": 16,
   "id": "8a54e670",
   "metadata": {
    "execution": {
     "iopub.execute_input": "2022-03-07T11:03:00.411731Z",
     "iopub.status.busy": "2022-03-07T11:03:00.411419Z",
     "iopub.status.idle": "2022-03-07T11:03:00.419999Z",
     "shell.execute_reply": "2022-03-07T11:03:00.419440Z",
     "shell.execute_reply.started": "2022-03-07T11:03:00.411693Z"
    },
    "papermill": {},
    "tags": []
   },
   "outputs": [
    {
     "data": {
      "text/html": [
       "<div>\n",
       "<style scoped>\n",
       "    .dataframe tbody tr th:only-of-type {\n",
       "        vertical-align: middle;\n",
       "    }\n",
       "\n",
       "    .dataframe tbody tr th {\n",
       "        vertical-align: top;\n",
       "    }\n",
       "\n",
       "    .dataframe thead th {\n",
       "        text-align: right;\n",
       "    }\n",
       "</style>\n",
       "<table border=\"1\" class=\"dataframe\">\n",
       "  <thead>\n",
       "    <tr style=\"text-align: right;\">\n",
       "      <th></th>\n",
       "      <th>LABEL</th>\n",
       "      <th>VALUE</th>\n",
       "    </tr>\n",
       "  </thead>\n",
       "  <tbody>\n",
       "    <tr>\n",
       "      <th>0</th>\n",
       "      <td>1995</td>\n",
       "      <td>219</td>\n",
       "    </tr>\n",
       "  </tbody>\n",
       "</table>\n",
       "</div>"
      ],
      "text/plain": [
       "   LABEL  VALUE\n",
       "0   1995    219"
      ]
     },
     "execution_count": 16,
     "metadata": {},
     "output_type": "execute_result"
    }
   ],
   "source": [
    "df = pd.DataFrame([my_dict])\n",
    "df"
   ]
  },
  {
   "cell_type": "markdown",
   "id": "02d1fc4b",
   "metadata": {
    "papermill": {},
    "tags": []
   },
   "source": [
    "## Output"
   ]
  },
  {
   "cell_type": "markdown",
   "id": "c480caa0-4b64-4139-9d64-744df4403887",
   "metadata": {},
   "source": [
    "### Display result"
   ]
  },
  {
   "cell_type": "code",
   "execution_count": null,
   "id": "0f9499fb-ee63-42d2-8e34-25a06b8aa9c1",
   "metadata": {},
   "outputs": [],
   "source": [
    "df"
   ]
  }
 ],
 "metadata": {
  "kernelspec": {
   "display_name": "Python 3",
   "language": "python",
   "name": "python3"
  },
  "language_info": {
   "codemirror_mode": {
    "name": "ipython",
    "version": 3
   },
   "file_extension": ".py",
   "mimetype": "text/x-python",
   "name": "python",
   "nbconvert_exporter": "python",
   "pygments_lexer": "ipython3",
   "version": "3.8.8"
  },
  "papermill": {
   "default_parameters": {},
   "environment_variables": {},
   "parameters": {},
   "version": "2.3.3"
  }
 },
 "nbformat": 4,
 "nbformat_minor": 5
}
