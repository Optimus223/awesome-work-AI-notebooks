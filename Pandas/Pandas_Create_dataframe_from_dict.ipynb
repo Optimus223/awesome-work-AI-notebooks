{
 "cells": [
  {
   "cell_type": "markdown",
   "id": "naas-logo",
   "metadata": {
    "papermill": {},
    "tags": [
     "naas"
    ]
   },
   "source": [
    "<img width=\"10%\" alt=\"Naas\" src=\"https://landen.imgix.net/jtci2pxwjczr/assets/5ice39g4.png?w=160\"/>"
   ]
  },
  {
   "cell_type": "markdown",
   "id": "db17b79b",
   "metadata": {
    "papermill": {},
    "tags": []
   },
   "source": [
    "# Pandas - Create dataframe from dict\n",
    "<a href=\"https://app.naas.ai/user-redirect/naas/downloader?url=https://raw.githubusercontent.com/jupyter-naas/awesome-notebooks/master/Pandas/Pandas_Create_dataframe_from_dict.ipynb\" target=\"_parent\"><img src=\"https://naasai-public.s3.eu-west-3.amazonaws.com/open_in_naas.svg\"/></a><br><br><a href=\"https://github.com/jupyter-naas/awesome-notebooks/issues/new?assignees=&labels=&template=template-request.md&title=Tool+-+Action+of+the+notebook+\">Template request</a> | <a href=\"https://github.com/jupyter-naas/awesome-notebooks/issues/new?assignees=&labels=bug&template=bug_report.md&title=Pandas+-+Create+dataframe+from+dict:+Error+short+description\">Bug report</a> | <a href=\"https://app.naas.ai/user-redirect/naas/downloader?url=https://raw.githubusercontent.com/jupyter-naas/awesome-notebooks/master/Naas/Naas_Start_data_product.ipynb\" target=\"_parent\">Generate Data Product</a>"
   ]
  },
  {
   "cell_type": "markdown",
   "id": "13800319",
   "metadata": {
    "papermill": {},
    "tags": []
   },
   "source": [
    "**Tags:** #pandas #dict #snippet #dataframe #operations"
   ]
  },
  {
   "cell_type": "markdown",
   "id": "8761af40",
   "metadata": {
    "papermill": {},
    "tags": []
   },
   "source": [
    "**Author:** [Florent Ravenel](https://www.linkedin.com/in/ACoAABCNSioBW3YZHc2lBHVG0E_TXYWitQkmwog/)"
   ]
  },
  {
   "cell_type": "markdown",
   "id": "naas-description",
   "metadata": {
    "papermill": {},
    "tags": [
     "description"
    ]
   },
   "source": [
    "**Description:** This notebook provides a step-by-step guide to creating a dataframe from a dictionary using the Pandas library."
   ]
  },
  {
   "cell_type": "markdown",
   "id": "d6ed8917",
   "metadata": {
    "papermill": {},
    "tags": []
   },
   "source": [
    "## Input"
   ]
  },
  {
   "cell_type": "markdown",
   "id": "c8e7db8c-55fd-4ec8-a5e0-01b80632b1ec",
   "metadata": {
    "papermill": {},
    "tags": []
   },
   "source": [
    "### Import libraries"
   ]
  },
  {
   "cell_type": "code",
   "execution_count": 1,
   "id": "3869ce8d-e748-4902-a28c-797627946a12",
   "metadata": {
    "execution": {
     "iopub.execute_input": "2023-06-06T13:21:14.082600Z",
     "iopub.status.busy": "2023-06-06T13:21:14.082234Z",
     "iopub.status.idle": "2023-06-06T13:21:14.662830Z",
     "shell.execute_reply": "2023-06-06T13:21:14.661403Z",
     "shell.execute_reply.started": "2023-06-06T13:21:14.082530Z"
    },
    "papermill": {},
    "tags": []
   },
   "outputs": [],
   "source": [
    "import pandas as pd"
   ]
  },
  {
   "cell_type": "markdown",
   "id": "fb1b9009",
   "metadata": {
    "papermill": {},
    "tags": []
   },
   "source": [
    "### Setup your dict"
   ]
  },
  {
   "cell_type": "code",
   "execution_count": 2,
   "id": "aefef37f",
   "metadata": {
    "execution": {
     "iopub.execute_input": "2023-06-06T13:21:15.525834Z",
     "iopub.status.busy": "2023-06-06T13:21:15.525589Z",
     "iopub.status.idle": "2023-06-06T13:21:15.529585Z",
     "shell.execute_reply": "2023-06-06T13:21:15.528757Z",
     "shell.execute_reply.started": "2023-06-06T13:21:15.525809Z"
    },
    "papermill": {},
    "tags": []
   },
   "outputs": [],
   "source": [
    "my_dict = {\"LABEL\": 1995, \"VALUE\": 219}"
   ]
  },
  {
   "cell_type": "markdown",
   "id": "30f728e7-f3c8-40a9-aeb9-f6551113462c",
   "metadata": {
    "papermill": {},
    "tags": []
   },
   "source": [
    "## Model"
   ]
  },
  {
   "cell_type": "markdown",
   "id": "6fffa01c-1f9b-4923-93e1-ee793c3a31d9",
   "metadata": {
    "papermill": {},
    "tags": []
   },
   "source": [
    "### Create dataframe"
   ]
  },
  {
   "cell_type": "code",
   "execution_count": 5,
   "id": "8a54e670",
   "metadata": {
    "execution": {
     "iopub.execute_input": "2023-06-06T13:21:25.022495Z",
     "iopub.status.busy": "2023-06-06T13:21:25.022162Z",
     "iopub.status.idle": "2023-06-06T13:21:25.081585Z",
     "shell.execute_reply": "2023-06-06T13:21:25.080590Z",
     "shell.execute_reply.started": "2023-06-06T13:21:25.022460Z"
    },
    "papermill": {},
    "tags": []
   },
   "outputs": [
    {
     "data": {
      "text/html": [
       "<div>\n",
       "<style scoped>\n",
       "    .dataframe tbody tr th:only-of-type {\n",
       "        vertical-align: middle;\n",
       "    }\n",
       "\n",
       "    .dataframe tbody tr th {\n",
       "        vertical-align: top;\n",
       "    }\n",
       "\n",
       "    .dataframe thead th {\n",
       "        text-align: right;\n",
       "    }\n",
       "</style>\n",
       "<table border=\"1\" class=\"dataframe\">\n",
       "  <thead>\n",
       "    <tr style=\"text-align: right;\">\n",
       "      <th></th>\n",
       "      <th>LABEL</th>\n",
       "      <th>VALUE</th>\n",
       "    </tr>\n",
       "  </thead>\n",
       "  <tbody>\n",
       "    <tr>\n",
       "      <th>0</th>\n",
       "      <td>1995</td>\n",
       "      <td>219</td>\n",
       "    </tr>\n",
       "  </tbody>\n",
       "</table>\n",
       "</div>"
      ],
      "text/plain": [
       "   LABEL  VALUE\n",
       "0   1995    219"
      ]
     },
     "execution_count": 5,
     "metadata": {},
     "output_type": "execute_result"
    }
   ],
   "source": [
    "df = pd.DataFrame([my_dict])\n",
    "df"
   ]
  },
  {
   "cell_type": "markdown",
   "id": "02d1fc4b",
   "metadata": {
    "papermill": {},
    "tags": []
   },
   "source": [
    "## Output"
   ]
  },
  {
   "cell_type": "markdown",
   "id": "c480caa0-4b64-4139-9d64-744df4403887",
   "metadata": {
    "papermill": {},
    "tags": []
   },
   "source": [
    "### Display result"
   ]
  },
  {
   "cell_type": "code",
   "execution_count": 3,
   "id": "0f9499fb-ee63-42d2-8e34-25a06b8aa9c1",
   "metadata": {
    "execution": {
     "iopub.execute_input": "2023-06-06T13:21:22.643980Z",
     "iopub.status.busy": "2023-06-06T13:21:22.643706Z",
     "iopub.status.idle": "2023-06-06T13:21:22.758993Z",
     "shell.execute_reply": "2023-06-06T13:21:22.757736Z",
     "shell.execute_reply.started": "2023-06-06T13:21:22.643954Z"
    },
    "papermill": {},
    "tags": []
   },
   "outputs": [
    {
     "ename": "NameError",
     "evalue": "name 'df' is not defined",
     "output_type": "error",
     "traceback": [
      "\u001b[0;31m---------------------------------------------------------------------------\u001b[0m",
      "\u001b[0;31mNameError\u001b[0m                                 Traceback (most recent call last)",
      "\u001b[0;32m<ipython-input-3-00cf07b74dcd>\u001b[0m in \u001b[0;36m<module>\u001b[0;34m\u001b[0m\n\u001b[0;32m----> 1\u001b[0;31m \u001b[0mdf\u001b[0m\u001b[0;34m\u001b[0m\u001b[0;34m\u001b[0m\u001b[0m\n\u001b[0m",
      "\u001b[0;31mNameError\u001b[0m: name 'df' is not defined"
     ]
    }
   ],
   "source": [
    "df"
   ]
  }
 ],
 "metadata": {
  "kernelspec": {
   "display_name": "Python 3",
   "language": "python",
   "name": "python3"
  },
  "language_info": {
   "codemirror_mode": {
    "name": "ipython",
    "version": 3
   },
   "file_extension": ".py",
   "mimetype": "text/x-python",
   "name": "python",
   "nbconvert_exporter": "python",
   "pygments_lexer": "ipython3",
   "version": "3.9.6"
  },
  "naas": {
   "notebook_id": "21e1846d-8194-4d06-b59a-ec3c7411a4c2",
   "notebook_path": "Pandas/Pandas_Create_dataframe_from_dict.ipynb"
  },
  "papermill": {
   "default_parameters": {},
   "environment_variables": {},
   "parameters": {},
   "version": "2.3.3"
  }
 },
 "nbformat": 4,
 "nbformat_minor": 5
}
