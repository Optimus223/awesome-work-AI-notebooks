{
 "cells": [
  {
   "cell_type": "markdown",
   "id": "73fdd6d5-d8c4-47fe-9ab6-beac569af513",
   "metadata": {
    "papermill": {},
    "tags": []
   },
   "source": [
    "<img width=\"10%\" alt=\"Naas\" src=\"https://landen.imgix.net/jtci2pxwjczr/assets/5ice39g4.png?w=160\"/>"
   ]
  },
  {
   "cell_type": "markdown",
   "id": "descending-grammar",
   "metadata": {
    "papermill": {},
    "tags": []
   },
   "source": [
    "# Pandas - Transform dataframe to dict\n",
    "<a href=\"https://app.naas.ai/user-redirect/naas/downloader?url=https://raw.githubusercontent.com/jupyter-naas/awesome-notebooks/master/YahooFinance/YahooFinance_Get_data_from_ticker.ipynb\" target=\"_parent\"><img src=\"https://naasai-public.s3.eu-west-3.amazonaws.com/open_in_naas.svg\"/></a>"
   ]
  },
  {
   "cell_type": "markdown",
   "id": "ea0f4d52-5687-4719-9b35-e5abcc48328b",
   "metadata": {
    "papermill": {},
    "tags": []
   },
   "source": [
    "**Tags:** #pandas #dataframe #format #snippet #yahoofinance #naas_drivers "
   ]
  },
  {
   "cell_type": "markdown",
   "id": "16d1f778-1306-4cb9-a405-f217a4cc8051",
   "metadata": {
    "papermill": {},
    "tags": []
   },
   "source": [
    "**Author:** [Florent Ravenel](https://www.linkedin.com/in/florent-ravenel/)"
   ]
  },
  {
   "cell_type": "markdown",
   "id": "solid-substance",
   "metadata": {
    "execution": {
     "iopub.execute_input": "2021-05-05T18:38:30.568241Z",
     "iopub.status.busy": "2021-05-05T18:38:30.567916Z",
     "iopub.status.idle": "2021-05-05T18:38:30.578313Z",
     "shell.execute_reply": "2021-05-05T18:38:30.577374Z",
     "shell.execute_reply.started": "2021-05-05T18:38:30.568205Z"
    },
    "papermill": {},
    "tags": []
   },
   "source": [
    "With this template, you can convert a series of number nicely using pandas.map"
   ]
  },
  {
   "cell_type": "markdown",
   "id": "d17064b3-00b5-4d71-96ba-38c6af450919",
   "metadata": {
    "papermill": {},
    "tags": []
   },
   "source": [
    "## Input"
   ]
  },
  {
   "cell_type": "markdown",
   "id": "1d8f5e20-bcfc-4ceb-83ad-0856868327a0",
   "metadata": {
    "papermill": {},
    "tags": []
   },
   "source": [
    "### Import libraries"
   ]
  },
  {
   "cell_type": "code",
   "execution_count": 1,
   "id": "fd368ba3-fc40-46db-af1d-a62d11573923",
   "metadata": {
    "execution": {
     "iopub.execute_input": "2022-03-07T17:34:13.417854Z",
     "iopub.status.busy": "2022-03-07T17:34:13.417412Z",
     "iopub.status.idle": "2022-03-07T17:34:14.129042Z",
     "shell.execute_reply": "2022-03-07T17:34:14.128465Z",
     "shell.execute_reply.started": "2022-03-07T17:34:13.417783Z"
    },
    "papermill": {},
    "tags": []
   },
   "outputs": [],
   "source": [
    "from naas_drivers import yahoofinance"
   ]
  },
  {
   "cell_type": "markdown",
   "id": "79126baa-2a38-4861-8130-66b4c4e13621",
   "metadata": {
    "papermill": {},
    "tags": []
   },
   "source": [
    "### Input parameters"
   ]
  },
  {
   "cell_type": "code",
   "execution_count": 2,
   "id": "exceptional-pearl",
   "metadata": {
    "execution": {
     "iopub.execute_input": "2022-03-07T17:34:14.130274Z",
     "iopub.status.busy": "2022-03-07T17:34:14.130047Z",
     "iopub.status.idle": "2022-03-07T17:34:14.135052Z",
     "shell.execute_reply": "2022-03-07T17:34:14.134527Z",
     "shell.execute_reply.started": "2022-03-07T17:34:14.130246Z"
    },
    "papermill": {},
    "tags": []
   },
   "outputs": [],
   "source": [
    "ticker = \"TSLA\"\n",
    "date_from = -100\n",
    "date_to = 'today'"
   ]
  },
  {
   "cell_type": "markdown",
   "id": "0a1ad0db-97b3-4f84-a82e-517595d95f17",
   "metadata": {
    "papermill": {},
    "tags": []
   },
   "source": [
    "## Model"
   ]
  },
  {
   "cell_type": "markdown",
   "id": "manufactured-allocation",
   "metadata": {
    "papermill": {},
    "tags": []
   },
   "source": [
    "### Get dataframe from Yahoo Finance"
   ]
  },
  {
   "cell_type": "code",
   "execution_count": 3,
   "id": "powered-ensemble",
   "metadata": {
    "execution": {
     "iopub.execute_input": "2022-03-07T17:34:14.136125Z",
     "iopub.status.busy": "2022-03-07T17:34:14.135902Z",
     "iopub.status.idle": "2022-03-07T17:34:14.305813Z",
     "shell.execute_reply": "2022-03-07T17:34:14.305271Z",
     "shell.execute_reply.started": "2022-03-07T17:34:14.136095Z"
    },
    "papermill": {},
    "tags": []
   },
   "outputs": [
    {
     "data": {
      "text/html": [
       "<div>\n",
       "<style scoped>\n",
       "    .dataframe tbody tr th:only-of-type {\n",
       "        vertical-align: middle;\n",
       "    }\n",
       "\n",
       "    .dataframe tbody tr th {\n",
       "        vertical-align: top;\n",
       "    }\n",
       "\n",
       "    .dataframe thead th {\n",
       "        text-align: right;\n",
       "    }\n",
       "</style>\n",
       "<table border=\"1\" class=\"dataframe\">\n",
       "  <thead>\n",
       "    <tr style=\"text-align: right;\">\n",
       "      <th></th>\n",
       "      <th>Date</th>\n",
       "      <th>Open</th>\n",
       "      <th>High</th>\n",
       "      <th>Low</th>\n",
       "      <th>Close</th>\n",
       "      <th>Adj Close</th>\n",
       "      <th>Volume</th>\n",
       "      <th>Ticker</th>\n",
       "    </tr>\n",
       "  </thead>\n",
       "  <tbody>\n",
       "    <tr>\n",
       "      <th>0</th>\n",
       "      <td>2022-03-02</td>\n",
       "      <td>872.130005</td>\n",
       "      <td>886.479980</td>\n",
       "      <td>844.270020</td>\n",
       "      <td>879.890015</td>\n",
       "      <td>879.890015</td>\n",
       "      <td>24881100</td>\n",
       "      <td>TSLA</td>\n",
       "    </tr>\n",
       "    <tr>\n",
       "      <th>1</th>\n",
       "      <td>2022-03-03</td>\n",
       "      <td>878.770020</td>\n",
       "      <td>886.440002</td>\n",
       "      <td>832.599976</td>\n",
       "      <td>839.289978</td>\n",
       "      <td>839.289978</td>\n",
       "      <td>20541200</td>\n",
       "      <td>TSLA</td>\n",
       "    </tr>\n",
       "    <tr>\n",
       "      <th>2</th>\n",
       "      <td>2022-03-04</td>\n",
       "      <td>849.099976</td>\n",
       "      <td>855.650024</td>\n",
       "      <td>825.159973</td>\n",
       "      <td>838.289978</td>\n",
       "      <td>838.289978</td>\n",
       "      <td>22333200</td>\n",
       "      <td>TSLA</td>\n",
       "    </tr>\n",
       "    <tr>\n",
       "      <th>3</th>\n",
       "      <td>2022-03-07</td>\n",
       "      <td>856.299988</td>\n",
       "      <td>866.140015</td>\n",
       "      <td>825.290100</td>\n",
       "      <td>829.500000</td>\n",
       "      <td>829.500000</td>\n",
       "      <td>13836253</td>\n",
       "      <td>TSLA</td>\n",
       "    </tr>\n",
       "  </tbody>\n",
       "</table>\n",
       "</div>"
      ],
      "text/plain": [
       "        Date        Open        High         Low       Close   Adj Close  \\\n",
       "0 2022-03-02  872.130005  886.479980  844.270020  879.890015  879.890015   \n",
       "1 2022-03-03  878.770020  886.440002  832.599976  839.289978  839.289978   \n",
       "2 2022-03-04  849.099976  855.650024  825.159973  838.289978  838.289978   \n",
       "3 2022-03-07  856.299988  866.140015  825.290100  829.500000  829.500000   \n",
       "\n",
       "     Volume Ticker  \n",
       "0  24881100   TSLA  \n",
       "1  20541200   TSLA  \n",
       "2  22333200   TSLA  \n",
       "3  13836253   TSLA  "
      ]
     },
     "execution_count": 3,
     "metadata": {},
     "output_type": "execute_result"
    }
   ],
   "source": [
    "df_yahoo = yahoofinance.get(ticker,\n",
    "                            date_from=-5)\n",
    "df_yahoo"
   ]
  },
  {
   "cell_type": "markdown",
   "id": "d71d8ad4-697d-4d4e-be8c-6c7d54d174e0",
   "metadata": {
    "papermill": {},
    "tags": []
   },
   "source": [
    "## Output"
   ]
  },
  {
   "cell_type": "markdown",
   "id": "great-visiting",
   "metadata": {
    "papermill": {},
    "tags": []
   },
   "source": [
    "### Format number nicely\n",
    "Get more information in the doc [here](https://pandas.pydata.org/docs/reference/api/pandas.Series.map.html)"
   ]
  },
  {
   "cell_type": "code",
   "execution_count": 7,
   "id": "isolated-harrison",
   "metadata": {
    "execution": {
     "iopub.execute_input": "2022-03-07T17:35:37.139945Z",
     "iopub.status.busy": "2022-03-07T17:35:37.139721Z",
     "iopub.status.idle": "2022-03-07T17:35:37.152578Z",
     "shell.execute_reply": "2022-03-07T17:35:37.151954Z",
     "shell.execute_reply.started": "2022-03-07T17:35:37.139922Z"
    },
    "papermill": {},
    "tags": []
   },
   "outputs": [
    {
     "data": {
      "text/html": [
       "<div>\n",
       "<style scoped>\n",
       "    .dataframe tbody tr th:only-of-type {\n",
       "        vertical-align: middle;\n",
       "    }\n",
       "\n",
       "    .dataframe tbody tr th {\n",
       "        vertical-align: top;\n",
       "    }\n",
       "\n",
       "    .dataframe thead th {\n",
       "        text-align: right;\n",
       "    }\n",
       "</style>\n",
       "<table border=\"1\" class=\"dataframe\">\n",
       "  <thead>\n",
       "    <tr style=\"text-align: right;\">\n",
       "      <th></th>\n",
       "      <th>Date</th>\n",
       "      <th>Open</th>\n",
       "      <th>High</th>\n",
       "      <th>Low</th>\n",
       "      <th>Close</th>\n",
       "      <th>Adj Close</th>\n",
       "      <th>Volume</th>\n",
       "      <th>Ticker</th>\n",
       "      <th>VALUE</th>\n",
       "    </tr>\n",
       "  </thead>\n",
       "  <tbody>\n",
       "    <tr>\n",
       "      <th>0</th>\n",
       "      <td>2022-03-02</td>\n",
       "      <td>872.130005</td>\n",
       "      <td>886.479980</td>\n",
       "      <td>844.270020</td>\n",
       "      <td>879.890015</td>\n",
       "      <td>879.890015</td>\n",
       "      <td>24881100</td>\n",
       "      <td>TSLA</td>\n",
       "      <td>€ 879.89</td>\n",
       "    </tr>\n",
       "    <tr>\n",
       "      <th>1</th>\n",
       "      <td>2022-03-03</td>\n",
       "      <td>878.770020</td>\n",
       "      <td>886.440002</td>\n",
       "      <td>832.599976</td>\n",
       "      <td>839.289978</td>\n",
       "      <td>839.289978</td>\n",
       "      <td>20541200</td>\n",
       "      <td>TSLA</td>\n",
       "      <td>€ 839.29</td>\n",
       "    </tr>\n",
       "    <tr>\n",
       "      <th>2</th>\n",
       "      <td>2022-03-04</td>\n",
       "      <td>849.099976</td>\n",
       "      <td>855.650024</td>\n",
       "      <td>825.159973</td>\n",
       "      <td>838.289978</td>\n",
       "      <td>838.289978</td>\n",
       "      <td>22333200</td>\n",
       "      <td>TSLA</td>\n",
       "      <td>€ 838.29</td>\n",
       "    </tr>\n",
       "    <tr>\n",
       "      <th>3</th>\n",
       "      <td>2022-03-07</td>\n",
       "      <td>856.299988</td>\n",
       "      <td>866.140015</td>\n",
       "      <td>825.290100</td>\n",
       "      <td>829.500000</td>\n",
       "      <td>829.500000</td>\n",
       "      <td>13836253</td>\n",
       "      <td>TSLA</td>\n",
       "      <td>€ 829.50</td>\n",
       "    </tr>\n",
       "  </tbody>\n",
       "</table>\n",
       "</div>"
      ],
      "text/plain": [
       "        Date        Open        High         Low       Close   Adj Close  \\\n",
       "0 2022-03-02  872.130005  886.479980  844.270020  879.890015  879.890015   \n",
       "1 2022-03-03  878.770020  886.440002  832.599976  839.289978  839.289978   \n",
       "2 2022-03-04  849.099976  855.650024  825.159973  838.289978  838.289978   \n",
       "3 2022-03-07  856.299988  866.140015  825.290100  829.500000  829.500000   \n",
       "\n",
       "     Volume Ticker     VALUE  \n",
       "0  24881100   TSLA  € 879.89  \n",
       "1  20541200   TSLA  € 839.29  \n",
       "2  22333200   TSLA  € 838.29  \n",
       "3  13836253   TSLA  € 829.50  "
      ]
     },
     "execution_count": 7,
     "metadata": {},
     "output_type": "execute_result"
    }
   ],
   "source": [
    "df_yahoo['VALUE'] = df_yahoo['Close'].map(\"€ {:,.2f}\".format).str.replace(\",\", \" \")\n",
    "df_yahoo"
   ]
  },
  {
   "cell_type": "code",
   "execution_count": null,
   "id": "f8b9a7ef-4f87-4d23-933e-14e9eca45046",
   "metadata": {},
   "outputs": [],
   "source": []
  }
 ],
 "metadata": {
  "kernelspec": {
   "display_name": "Python 3",
   "language": "python",
   "name": "python3"
  },
  "language_info": {
   "codemirror_mode": {
    "name": "ipython",
    "version": 3
   },
   "file_extension": ".py",
   "mimetype": "text/x-python",
   "name": "python",
   "nbconvert_exporter": "python",
   "pygments_lexer": "ipython3",
   "version": "3.8.8"
  },
  "papermill": {
   "default_parameters": {},
   "environment_variables": {},
   "parameters": {},
   "version": "2.3.3"
  },
  "toc-autonumbering": false,
  "widgets": {
   "application/vnd.jupyter.widget-state+json": {
    "state": {},
    "version_major": 2,
    "version_minor": 0
   }
  }
 },
 "nbformat": 4,
 "nbformat_minor": 5
}
