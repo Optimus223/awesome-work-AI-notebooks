{
 "cells": [
  {
   "cell_type": "markdown",
   "id": "38a80f52",
   "metadata": {},
   "source": [
    "## Creating the dataset "
   ]
  },
  {
   "cell_type": "code",
   "execution_count": 4,
   "id": "d77661b0",
   "metadata": {},
   "outputs": [
    {
     "name": "stdout",
     "output_type": "stream",
     "text": [
      "             subreddit post_id sentence_range  \\\n",
      "0                 ptsd  8601tu       (15, 20)   \n",
      "1           assistance  8lbrx9         (0, 5)   \n",
      "2                 ptsd  9ch1zh       (15, 20)   \n",
      "3        relationships  7rorpp        [5, 10]   \n",
      "4     survivorsofabuse  9p2gbc         [0, 5]   \n",
      "...                ...     ...            ...   \n",
      "2833     relationships  7oee1t       [35, 40]   \n",
      "2834              ptsd  9p4ung       [20, 25]   \n",
      "2835           anxiety  9nam6l        (5, 10)   \n",
      "2836    almosthomeless  5y53ya        [5, 10]   \n",
      "2837              ptsd  5y25cl         [0, 5]   \n",
      "\n",
      "                                                   text  label  confidence  \\\n",
      "0     He said he had not felt that way before, sugge...      1    0.800000   \n",
      "1     Hey there r/assistance, Not sure if this is th...      0    1.000000   \n",
      "2     My mom then hit me with the newspaper and it s...      1    0.800000   \n",
      "3     until i met my new boyfriend, he is amazing, h...      1    0.600000   \n",
      "4     October is Domestic Violence Awareness Month a...      1    0.800000   \n",
      "...                                                 ...    ...         ...   \n",
      "2833  * Her, a week ago: Precious, how are you? (I i...      0    1.000000   \n",
      "2834  I don't have the ability to cope with it anymo...      1    1.000000   \n",
      "2835  In case this is the first time you're reading ...      0    1.000000   \n",
      "2836  Do you find this normal? They have a good rela...      0    0.571429   \n",
      "2837  I was talking to my mom this morning and she s...      1    0.571429   \n",
      "\n",
      "      social_timestamp  \n",
      "0           1521614353  \n",
      "1           1527009817  \n",
      "2           1535935605  \n",
      "3           1516429555  \n",
      "4           1539809005  \n",
      "...                ...  \n",
      "2833        1515187044  \n",
      "2834        1539827412  \n",
      "2835        1539269312  \n",
      "2836        1488938143  \n",
      "2837        1488909516  \n",
      "\n",
      "[2838 rows x 7 columns]\n"
     ]
    },
    {
     "data": {
      "text/html": [
       "<div>\n",
       "<style scoped>\n",
       "    .dataframe tbody tr th:only-of-type {\n",
       "        vertical-align: middle;\n",
       "    }\n",
       "\n",
       "    .dataframe tbody tr th {\n",
       "        vertical-align: top;\n",
       "    }\n",
       "\n",
       "    .dataframe thead th {\n",
       "        text-align: right;\n",
       "    }\n",
       "</style>\n",
       "<table border=\"1\" class=\"dataframe\">\n",
       "  <thead>\n",
       "    <tr style=\"text-align: right;\">\n",
       "      <th></th>\n",
       "      <th>subreddit</th>\n",
       "      <th>post_id</th>\n",
       "      <th>sentence_range</th>\n",
       "      <th>text</th>\n",
       "      <th>label</th>\n",
       "      <th>confidence</th>\n",
       "      <th>social_timestamp</th>\n",
       "    </tr>\n",
       "  </thead>\n",
       "  <tbody>\n",
       "    <tr>\n",
       "      <th>0</th>\n",
       "      <td>ptsd</td>\n",
       "      <td>8601tu</td>\n",
       "      <td>(15, 20)</td>\n",
       "      <td>He said he had not felt that way before, sugge...</td>\n",
       "      <td>1</td>\n",
       "      <td>0.8</td>\n",
       "      <td>1521614353</td>\n",
       "    </tr>\n",
       "    <tr>\n",
       "      <th>1</th>\n",
       "      <td>assistance</td>\n",
       "      <td>8lbrx9</td>\n",
       "      <td>(0, 5)</td>\n",
       "      <td>Hey there r/assistance, Not sure if this is th...</td>\n",
       "      <td>0</td>\n",
       "      <td>1.0</td>\n",
       "      <td>1527009817</td>\n",
       "    </tr>\n",
       "    <tr>\n",
       "      <th>2</th>\n",
       "      <td>ptsd</td>\n",
       "      <td>9ch1zh</td>\n",
       "      <td>(15, 20)</td>\n",
       "      <td>My mom then hit me with the newspaper and it s...</td>\n",
       "      <td>1</td>\n",
       "      <td>0.8</td>\n",
       "      <td>1535935605</td>\n",
       "    </tr>\n",
       "    <tr>\n",
       "      <th>3</th>\n",
       "      <td>relationships</td>\n",
       "      <td>7rorpp</td>\n",
       "      <td>[5, 10]</td>\n",
       "      <td>until i met my new boyfriend, he is amazing, h...</td>\n",
       "      <td>1</td>\n",
       "      <td>0.6</td>\n",
       "      <td>1516429555</td>\n",
       "    </tr>\n",
       "    <tr>\n",
       "      <th>4</th>\n",
       "      <td>survivorsofabuse</td>\n",
       "      <td>9p2gbc</td>\n",
       "      <td>[0, 5]</td>\n",
       "      <td>October is Domestic Violence Awareness Month a...</td>\n",
       "      <td>1</td>\n",
       "      <td>0.8</td>\n",
       "      <td>1539809005</td>\n",
       "    </tr>\n",
       "  </tbody>\n",
       "</table>\n",
       "</div>"
      ],
      "text/plain": [
       "          subreddit post_id sentence_range  \\\n",
       "0              ptsd  8601tu       (15, 20)   \n",
       "1        assistance  8lbrx9         (0, 5)   \n",
       "2              ptsd  9ch1zh       (15, 20)   \n",
       "3     relationships  7rorpp        [5, 10]   \n",
       "4  survivorsofabuse  9p2gbc         [0, 5]   \n",
       "\n",
       "                                                text  label  confidence  \\\n",
       "0  He said he had not felt that way before, sugge...      1         0.8   \n",
       "1  Hey there r/assistance, Not sure if this is th...      0         1.0   \n",
       "2  My mom then hit me with the newspaper and it s...      1         0.8   \n",
       "3  until i met my new boyfriend, he is amazing, h...      1         0.6   \n",
       "4  October is Domestic Violence Awareness Month a...      1         0.8   \n",
       "\n",
       "   social_timestamp  \n",
       "0        1521614353  \n",
       "1        1527009817  \n",
       "2        1535935605  \n",
       "3        1516429555  \n",
       "4        1539809005  "
      ]
     },
     "execution_count": 4,
     "metadata": {},
     "output_type": "execute_result"
    }
   ],
   "source": [
    "import pandas as pd\n",
    "\n",
    "# Read the dataset from a URL\n",
    "df = pd.read_csv(\"inputs/Stress.csv\")\n",
    "\n",
    "# Print the DataFrame\n",
    "print(df)\n",
    "df.head()"
   ]
  },
  {
   "cell_type": "markdown",
   "id": "347d389b",
   "metadata": {},
   "source": [
    "### To use pandasai.llm, you first need to import the module:\n",
    "1. Generate more efficient Python code\n",
    "2. Translate PandasAI documentation into other languages\n",
    "3. Write creative content for PandasAI, such as blog posts and tutorials\n",
    "4. Answer questions about PandasAI in a more comprehensive and informative way"
   ]
  },
  {
   "cell_type": "code",
   "execution_count": null,
   "id": "2dbbb7c9",
   "metadata": {},
   "outputs": [],
   "source": [
    "import pandasai.llm as llm"
   ]
  },
  {
   "cell_type": "markdown",
   "id": "c92de7de",
   "metadata": {},
   "source": [
    "Once the module is imported, you can use the llm.generate() function to generate text or code:"
   ]
  },
  {
   "cell_type": "code",
   "execution_count": null,
   "id": "7ee966b1",
   "metadata": {},
   "outputs": [],
   "source": [
    "# Generate Python code to calculate the average salary of employees in a dataset\n",
    "code = llm.generate(prompt=\"Generate Python code to calculate the average confidence of samples in a dataset\")\n",
    "\n",
    "# Execute the generated code\n",
    "average = eval(code)\n",
    "\n",
    "# Print the average salary\n",
    "print(average)"
   ]
  },
  {
   "cell_type": "code",
   "execution_count": null,
   "id": "e426b603",
   "metadata": {},
   "outputs": [],
   "source": [
    "translation = llm.translate(text=\"PandasAI is a Python library that adds Generative AI capabilities to pandas, the popular data analysis and manipulation tool.\", source=\"english\", target=\"french\")\n",
    "\n",
    "# Print the translation\n",
    "print(translation)"
   ]
  },
  {
   "cell_type": "markdown",
   "id": "5ccfe5be",
   "metadata": {},
   "source": [
    "pandasai allows you to use the OpenAI API to generate text, translate languages, write different kinds of creative content, and answer your questions in an informative way from within PandasAI.\n",
    "\n",
    "To use the OpenAI class, you will need to create an OpenAI account and obtain an API key. Once you have done this, you can set the openai_api_key environment variable or pass the API key to the OpenAI constructor."
   ]
  },
  {
   "cell_type": "code",
   "execution_count": null,
   "id": "c18dfae9",
   "metadata": {},
   "outputs": [],
   "source": [
    "from pandasai.llm import OpenAI\n",
    "pandasai = PandasAI()\n",
    "\n",
    "# Set the OpenAI API key\n",
    "pandasai.config[\"llm_options\"][\"api_key\"] = \"YOUR_API_KEY\"\n",
    "\n",
    "# Generate text\n",
    "text = pandasai.ask(df, \"Generate a description of the dataset.\")\n",
    "\n",
    "# Print the generated text\n",
    "print(text)"
   ]
  },
  {
   "cell_type": "markdown",
   "id": "a4d04524",
   "metadata": {},
   "source": [
    "## SmartDataFrame\n",
    "SmartDataFrame is a pandas extension that adds support for large language models (LLMs) to pandas DataFrames. SmartDataFrame allows you to interact with your data in a more natural language way, and to use LLMs to perform tasks such as generating insights, identifying trends, and predicting future outcomes."
   ]
  },
  {
   "cell_type": "code",
   "execution_count": null,
   "id": "9ed173aa",
   "metadata": {},
   "outputs": [],
   "source": [
    "import smartdataframe as sdf"
   ]
  },
  {
   "cell_type": "markdown",
   "id": "2fb8b64d",
   "metadata": {},
   "source": [
    "You can then create a SmartDataFrame from a pandas DataFrame:"
   ]
  },
  {
   "cell_type": "code",
   "execution_count": null,
   "id": "954b0cf9",
   "metadata": {},
   "outputs": [],
   "source": [
    "smart_df = sdf.SmartDataFrame(df)"
   ]
  },
  {
   "cell_type": "markdown",
   "id": "4bc9bfa7",
   "metadata": {},
   "source": [
    "### SmartDataFrame provides a number of functions, such as:\n",
    "\n",
    "summarize_data(df): Summarizes the given DataFrame.\\\n",
    "visualize_data(df): Visualizes the given DataFrame.\\\n",
    "split_data(df, train_test_split): Splits the given DataFrame into training and testing sets.\\\n",
    "build_model(df, model_type): Builds the given model type on the given DataFrame.\\\n",
    "evaluate_model(df, model): Evaluates the given model on the given DataFrame.\\\n",
    "generate_report(df, report_type): Generates the given report type on the given DataFrame.\\"
   ]
  },
  {
   "cell_type": "markdown",
   "id": "363be449",
   "metadata": {},
   "source": [
    "### Generate insights from SDF "
   ]
  },
  {
   "cell_type": "code",
   "execution_count": null,
   "id": "4578050f",
   "metadata": {},
   "outputs": [],
   "source": [
    "insights = df.generate_insights(prompt=\"Generate insights for the DataFrame.\")\n",
    "\n",
    "# Print the insights\n",
    "for insight in insights:\n",
    "    print(insight)"
   ]
  },
  {
   "cell_type": "markdown",
   "id": "47489ba9",
   "metadata": {},
   "source": [
    "### Chat function in SDF has a great role"
   ]
  },
  {
   "cell_type": "code",
   "execution_count": null,
   "id": "1dc2d188",
   "metadata": {},
   "outputs": [],
   "source": [
    "sdf.chat(\"Return top 5 sentenses with highest confidance\")"
   ]
  },
  {
   "cell_type": "markdown",
   "id": "bbfdd141",
   "metadata": {},
   "source": [
    "# Thank you"
   ]
  }
 ],
 "metadata": {
  "kernelspec": {
   "display_name": "Python 3 (ipykernel)",
   "language": "python",
   "name": "python3"
  },
  "language_info": {
   "codemirror_mode": {
    "name": "ipython",
    "version": 3
   },
   "file_extension": ".py",
   "mimetype": "text/x-python",
   "name": "python",
   "nbconvert_exporter": "python",
   "pygments_lexer": "ipython3",
   "version": "3.10.7"
  }
 },
 "nbformat": 4,
 "nbformat_minor": 5
}
