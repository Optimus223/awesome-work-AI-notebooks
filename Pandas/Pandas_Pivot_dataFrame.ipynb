{
 "cells": [
  {
   "cell_type": "markdown",
   "id": "73fdd6d5-d8c4-47fe-9ab6-beac569af513",
   "metadata": {
    "papermill": {},
    "tags": []
   },
   "source": [
    "<img width=\"10%\" alt=\"Naas\" src=\"https://landen.imgix.net/jtci2pxwjczr/assets/5ice39g4.png?w=160\"/>"
   ]
  },
  {
   "cell_type": "markdown",
   "id": "descending-grammar",
   "metadata": {
    "papermill": {},
    "tags": []
   },
   "source": [
    "# Pandas - Transform dataframe to dict\n",
    "<a href=\"https://app.naas.ai/user-redirect/naas/downloader?url=https://raw.githubusercontent.com/jupyter-naas/awesome-notebooks/master/Pandas/Pandas_Transform_dataframe_to_dict.ipynb\" target=\"_parent\"><img src=\"https://naasai-public.s3.eu-west-3.amazonaws.com/open_in_naas.svg\"/></a>"
   ]
  },
  {
   "cell_type": "markdown",
   "id": "ea0f4d52-5687-4719-9b35-e5abcc48328b",
   "metadata": {
    "papermill": {},
    "tags": []
   },
   "source": [
    "**Tags:** #pandas #dict #snippet #yahoofinance #naas_drivers #operations #jupyternotebooks"
   ]
  },
  {
   "cell_type": "markdown",
   "id": "16d1f778-1306-4cb9-a405-f217a4cc8051",
   "metadata": {
    "papermill": {},
    "tags": []
   },
   "source": [
    "**Author:** [Ismail Chihab](https://www.linkedin.com/in/ismail-chihab-4b0a04202/)"
   ]
  },
  {
   "cell_type": "markdown",
   "id": "solid-substance",
   "metadata": {
    "execution": {
     "iopub.execute_input": "2021-05-05T18:38:30.568241Z",
     "iopub.status.busy": "2021-05-05T18:38:30.567916Z",
     "iopub.status.idle": "2021-05-05T18:38:30.578313Z",
     "shell.execute_reply": "2021-05-05T18:38:30.577374Z",
     "shell.execute_reply.started": "2021-05-05T18:38:30.568205Z"
    },
    "papermill": {},
    "tags": []
   },
   "source": [
    "With this template, you can convert dataframe to dictionary in pandas WITHOUT index"
   ]
  },
  {
   "cell_type": "markdown",
   "id": "d17064b3-00b5-4d71-96ba-38c6af450919",
   "metadata": {
    "papermill": {},
    "tags": []
   },
   "source": [
    "## Input"
   ]
  },
  {
   "cell_type": "code",
   "execution_count": 4,
   "id": "6c3ed64e-4445-46e8-aa5e-d605176f8646",
   "metadata": {
    "execution": {
     "iopub.execute_input": "2022-09-07T11:48:39.657168Z",
     "iopub.status.busy": "2022-09-07T11:48:39.656951Z",
     "iopub.status.idle": "2022-09-07T11:48:39.659962Z",
     "shell.execute_reply": "2022-09-07T11:48:39.659347Z",
     "shell.execute_reply.started": "2022-09-07T11:48:39.657145Z"
    },
    "tags": []
   },
   "outputs": [],
   "source": [
    "import pandas as pd"
   ]
  },
  {
   "cell_type": "markdown",
   "id": "8cc863f6-9a93-4ef4-ab65-cc1a09bc73fb",
   "metadata": {},
   "source": [
    "## Data:"
   ]
  },
  {
   "cell_type": "code",
   "execution_count": 16,
   "id": "e896324a-675a-455a-87f3-2e1bf453a824",
   "metadata": {
    "execution": {
     "iopub.execute_input": "2022-09-07T11:56:41.175995Z",
     "iopub.status.busy": "2022-09-07T11:56:41.175776Z",
     "iopub.status.idle": "2022-09-07T11:56:41.191478Z",
     "shell.execute_reply": "2022-09-07T11:56:41.190874Z",
     "shell.execute_reply.started": "2022-09-07T11:56:41.175973Z"
    },
    "tags": []
   },
   "outputs": [
    {
     "data": {
      "text/html": [
       "<div>\n",
       "<style scoped>\n",
       "    .dataframe tbody tr th:only-of-type {\n",
       "        vertical-align: middle;\n",
       "    }\n",
       "\n",
       "    .dataframe tbody tr th {\n",
       "        vertical-align: top;\n",
       "    }\n",
       "\n",
       "    .dataframe thead th {\n",
       "        text-align: right;\n",
       "    }\n",
       "</style>\n",
       "<table border=\"1\" class=\"dataframe\">\n",
       "  <thead>\n",
       "    <tr style=\"text-align: right;\">\n",
       "      <th></th>\n",
       "      <th>rows</th>\n",
       "      <th>columns</th>\n",
       "      <th>values</th>\n",
       "    </tr>\n",
       "  </thead>\n",
       "  <tbody>\n",
       "    <tr>\n",
       "      <th>0</th>\n",
       "      <td>row1</td>\n",
       "      <td>column1</td>\n",
       "      <td>0</td>\n",
       "    </tr>\n",
       "    <tr>\n",
       "      <th>1</th>\n",
       "      <td>row1</td>\n",
       "      <td>column2</td>\n",
       "      <td>2</td>\n",
       "    </tr>\n",
       "    <tr>\n",
       "      <th>2</th>\n",
       "      <td>row1</td>\n",
       "      <td>column3</td>\n",
       "      <td>3</td>\n",
       "    </tr>\n",
       "    <tr>\n",
       "      <th>3</th>\n",
       "      <td>row2</td>\n",
       "      <td>column1</td>\n",
       "      <td>4</td>\n",
       "    </tr>\n",
       "    <tr>\n",
       "      <th>4</th>\n",
       "      <td>row2</td>\n",
       "      <td>column2</td>\n",
       "      <td>5</td>\n",
       "    </tr>\n",
       "    <tr>\n",
       "      <th>5</th>\n",
       "      <td>row2</td>\n",
       "      <td>column3</td>\n",
       "      <td>6</td>\n",
       "    </tr>\n",
       "    <tr>\n",
       "      <th>6</th>\n",
       "      <td>row3</td>\n",
       "      <td>column1</td>\n",
       "      <td>7</td>\n",
       "    </tr>\n",
       "    <tr>\n",
       "      <th>7</th>\n",
       "      <td>row3</td>\n",
       "      <td>column2</td>\n",
       "      <td>8</td>\n",
       "    </tr>\n",
       "    <tr>\n",
       "      <th>8</th>\n",
       "      <td>row3</td>\n",
       "      <td>column3</td>\n",
       "      <td>9</td>\n",
       "    </tr>\n",
       "  </tbody>\n",
       "</table>\n",
       "</div>"
      ],
      "text/plain": [
       "   rows  columns  values\n",
       "0  row1  column1       0\n",
       "1  row1  column2       2\n",
       "2  row1  column3       3\n",
       "3  row2  column1       4\n",
       "4  row2  column2       5\n",
       "5  row2  column3       6\n",
       "6  row3  column1       7\n",
       "7  row3  column2       8\n",
       "8  row3  column3       9"
      ]
     },
     "execution_count": 16,
     "metadata": {},
     "output_type": "execute_result"
    }
   ],
   "source": [
    "dic = {\n",
    "    'rows' : [\"row1\", \"row1\", \"row1\", \"row2\", \"row2\", \"row2\", \"row3\", \"row3\", \"row3\"],\n",
    "    'columns' : ['column1', 'column2', 'column3', 'column1', 'column2', 'column3', 'column1', 'column2', 'column3'],\n",
    "    'values' : [0, 2, 3, 4, 5, 6, 7, 8, 9]\n",
    "}\n",
    "df = pd.DataFrame(dic)\n",
    "df"
   ]
  },
  {
   "cell_type": "markdown",
   "id": "4ebce3db-0043-4679-8ce2-0f84e78021f7",
   "metadata": {},
   "source": [
    "## Model:"
   ]
  },
  {
   "cell_type": "code",
   "execution_count": 31,
   "id": "ba32e247-4dd3-4a16-b4bb-45a43348502e",
   "metadata": {
    "execution": {
     "iopub.execute_input": "2022-09-07T12:00:59.745548Z",
     "iopub.status.busy": "2022-09-07T12:00:59.745320Z",
     "iopub.status.idle": "2022-09-07T12:00:59.749447Z",
     "shell.execute_reply": "2022-09-07T12:00:59.748785Z",
     "shell.execute_reply.started": "2022-09-07T12:00:59.745526Z"
    },
    "tags": []
   },
   "outputs": [],
   "source": [
    "\n",
    "\n",
    "def update_data(df_init):\n",
    "    # Drop duplicates\n",
    "    df = df_init.copy()\n",
    "    df = df.drop_duplicates()\n",
    "\n",
    "    # Pivot \n",
    "    df = pd.pivot(df, index=['rows'], values='values', columns='columns')\n",
    "    df.loc[:, \"rows\"] = df.index.get_level_values(0)\n",
    "    df = df.reset_index(drop=True)\n",
    "    #df.reset_index(drop=True)\n",
    "    df = df.reindex( columns = ['rows','column1','column2','column3'])\n",
    "    \n",
    "    return df "
   ]
  },
  {
   "cell_type": "code",
   "execution_count": 32,
   "id": "42d830cd-09db-40eb-8579-9c11051641a3",
   "metadata": {
    "execution": {
     "iopub.execute_input": "2022-09-07T12:01:01.581435Z",
     "iopub.status.busy": "2022-09-07T12:01:01.581210Z",
     "iopub.status.idle": "2022-09-07T12:01:01.608000Z",
     "shell.execute_reply": "2022-09-07T12:01:01.605908Z",
     "shell.execute_reply.started": "2022-09-07T12:01:01.581410Z"
    },
    "tags": []
   },
   "outputs": [
    {
     "data": {
      "text/html": [
       "<div>\n",
       "<style scoped>\n",
       "    .dataframe tbody tr th:only-of-type {\n",
       "        vertical-align: middle;\n",
       "    }\n",
       "\n",
       "    .dataframe tbody tr th {\n",
       "        vertical-align: top;\n",
       "    }\n",
       "\n",
       "    .dataframe thead th {\n",
       "        text-align: right;\n",
       "    }\n",
       "</style>\n",
       "<table border=\"1\" class=\"dataframe\">\n",
       "  <thead>\n",
       "    <tr style=\"text-align: right;\">\n",
       "      <th>columns</th>\n",
       "      <th>rows</th>\n",
       "      <th>column1</th>\n",
       "      <th>column2</th>\n",
       "      <th>column3</th>\n",
       "    </tr>\n",
       "  </thead>\n",
       "  <tbody>\n",
       "    <tr>\n",
       "      <th>0</th>\n",
       "      <td>row1</td>\n",
       "      <td>0</td>\n",
       "      <td>2</td>\n",
       "      <td>3</td>\n",
       "    </tr>\n",
       "    <tr>\n",
       "      <th>1</th>\n",
       "      <td>row2</td>\n",
       "      <td>4</td>\n",
       "      <td>5</td>\n",
       "      <td>6</td>\n",
       "    </tr>\n",
       "    <tr>\n",
       "      <th>2</th>\n",
       "      <td>row3</td>\n",
       "      <td>7</td>\n",
       "      <td>8</td>\n",
       "      <td>9</td>\n",
       "    </tr>\n",
       "  </tbody>\n",
       "</table>\n",
       "</div>"
      ],
      "text/plain": [
       "columns  rows  column1  column2  column3\n",
       "0        row1        0        2        3\n",
       "1        row2        4        5        6\n",
       "2        row3        7        8        9"
      ]
     },
     "execution_count": 32,
     "metadata": {},
     "output_type": "execute_result"
    }
   ],
   "source": [
    "update_data(df)"
   ]
  },
  {
   "cell_type": "code",
   "execution_count": null,
   "id": "76ea1fd4-87c4-493c-bc2d-bf13df53907f",
   "metadata": {},
   "outputs": [],
   "source": []
  }
 ],
 "metadata": {
  "kernelspec": {
   "display_name": "Python 3",
   "language": "python",
   "name": "python3"
  },
  "language_info": {
   "codemirror_mode": {
    "name": "ipython",
    "version": 3
   },
   "file_extension": ".py",
   "mimetype": "text/x-python",
   "name": "python",
   "nbconvert_exporter": "python",
   "pygments_lexer": "ipython3",
   "version": "3.9.6"
  },
  "naas": {
   "notebook_id": "d472d3e3-564d-4ba3-99bd-f6b8dcdd0925",
   "notebook_path": "Pandas/Pandas_Transform_dataframe_to_dict.ipynb"
  },
  "papermill": {
   "default_parameters": {},
   "environment_variables": {},
   "parameters": {},
   "version": "2.3.3"
  },
  "toc-autonumbering": false,
  "widgets": {
   "application/vnd.jupyter.widget-state+json": {
    "state": {},
    "version_major": 2,
    "version_minor": 0
   }
  }
 },
 "nbformat": 4,
 "nbformat_minor": 5
}
