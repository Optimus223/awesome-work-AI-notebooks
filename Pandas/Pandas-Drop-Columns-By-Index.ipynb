{
 "cells": [
  {
   "cell_type": "markdown",
   "id": "c945f9fb-803e-41c0-aca4-3386b92f4194",
   "metadata": {
    "execution": {
     "iopub.execute_input": "2021-02-23T14:22:16.610471Z",
     "iopub.status.busy": "2021-02-23T14:22:16.610129Z",
     "iopub.status.idle": "2021-02-23T14:22:16.627784Z",
     "shell.execute_reply": "2021-02-23T14:22:16.626866Z",
     "shell.execute_reply.started": "2021-02-23T14:22:16.610384Z"
    },
    "papermill": {},
    "tags": []
   },
   "source": [
    "<img width=\"10%\" alt=\"Naas\" src=\"https://landen.imgix.net/jtci2pxwjczr/assets/5ice39g4.png?w=160\"/>"
   ]
  },
  {
   "cell_type": "markdown",
   "id": "e99cba9a-9d93-482d-925e-18b923eaf1d7",
   "metadata": {
    "papermill": {},
    "tags": []
   },
   "source": [
    "# Pandas - Drop columns by index\n",
    "<a href=\"https://app.naas.ai/user-redirect/naas/downloader?url=https://raw.githubusercontent.com/jupyter-naas/awesome-notebooks/master/Pandas/Pandas_Drop_First_column.ipynb\" target=\"_parent\"><img src=\"https://naasai-public.s3.eu-west-3.amazonaws.com/open_in_naas.svg\"/></a><br><br><a href=\"https://github.com/jupyter-naas/awesome-notebooks/issues/new?assignees=&labels=&template=template-request.md&title=Tool+-+Action+of+the+notebook+\">Template request</a> | <a href=\"https://github.com/jupyter-naas/awesome-notebooks/issues/new?assignees=&labels=bug&template=bug_report.md&title=Pandas+-+Drop+First+column:+Error+short+description\">Bug report</a>"
   ]
  },
  {
   "cell_type": "markdown",
   "id": "4b7b5e11-f08c-42e8-8e8c-d07ca8c74d0d",
   "metadata": {
    "papermill": {},
    "tags": []
   },
   "source": [
    "**Tags:** #pandas #snippet #datacleaning #operations"
   ]
  },
  {
   "cell_type": "markdown",
   "id": "230fd380-7405-42f2-92a1-8a651b95834c",
   "metadata": {
    "papermill": {},
    "tags": []
   },
   "source": [
    "**Author:** [Sunny Chugh](https://www.linkedin.com/in/sunny-chugh-ab1630177/)"
   ]
  },
  {
   "cell_type": "markdown",
   "id": "09415eb1-4144-495f-90b1-7ca5a94c2515",
   "metadata": {
    "papermill": {},
    "tags": []
   },
   "source": [
    "**Description:** This notebook shows how to drop columns in Pandas DataFrame by index."
   ]
  },
  {
   "cell_type": "markdown",
   "id": "6c9147d0-e6aa-4a95-9a0e-1ecfcaf089df",
   "metadata": {
    "papermill": {},
    "tags": []
   },
   "source": [
    "<u>Reference:</u> https://www.statology.org/pandas-drop-column-by-index/"
   ]
  },
  {
   "cell_type": "markdown",
   "id": "ac5d43ac-519f-4870-9064-4c4914b0cead",
   "metadata": {
    "papermill": {},
    "tags": []
   },
   "source": [
    "## Input"
   ]
  },
  {
   "cell_type": "markdown",
   "id": "78c32f7e-5a70-4ab0-a42c-d91443586d7b",
   "metadata": {
    "papermill": {},
    "tags": []
   },
   "source": [
    "### Import libraries"
   ]
  },
  {
   "cell_type": "code",
   "execution_count": 35,
   "id": "25a7dfcb-5c29-4da2-a5c5-fe315731beb6",
   "metadata": {
    "execution": {
     "iopub.execute_input": "2023-01-12T12:13:44.750145Z",
     "iopub.status.busy": "2023-01-12T12:13:44.749857Z",
     "iopub.status.idle": "2023-01-12T12:13:44.753126Z",
     "shell.execute_reply": "2023-01-12T12:13:44.752426Z",
     "shell.execute_reply.started": "2023-01-12T12:13:44.750116Z"
    },
    "papermill": {},
    "tags": []
   },
   "outputs": [],
   "source": [
    "import pandas as pd"
   ]
  },
  {
   "cell_type": "markdown",
   "id": "49ebdb7b-501a-4c64-ad4b-65d55d712af8",
   "metadata": {
    "papermill": {},
    "tags": []
   },
   "source": [
    "### Setup DataFrame"
   ]
  },
  {
   "cell_type": "code",
   "execution_count": 36,
   "id": "ab1d5742-1250-4902-9326-247d363daac3",
   "metadata": {
    "execution": {
     "iopub.execute_input": "2023-01-12T12:13:48.079300Z",
     "iopub.status.busy": "2023-01-12T12:13:48.079060Z",
     "iopub.status.idle": "2023-01-12T12:13:48.088533Z",
     "shell.execute_reply": "2023-01-12T12:13:48.087914Z",
     "shell.execute_reply.started": "2023-01-12T12:13:48.079276Z"
    },
    "papermill": {},
    "tags": []
   },
   "outputs": [
    {
     "data": {
      "text/html": [
       "<div>\n",
       "<style scoped>\n",
       "    .dataframe tbody tr th:only-of-type {\n",
       "        vertical-align: middle;\n",
       "    }\n",
       "\n",
       "    .dataframe tbody tr th {\n",
       "        vertical-align: top;\n",
       "    }\n",
       "\n",
       "    .dataframe thead th {\n",
       "        text-align: right;\n",
       "    }\n",
       "</style>\n",
       "<table border=\"1\" class=\"dataframe\">\n",
       "  <thead>\n",
       "    <tr style=\"text-align: right;\">\n",
       "      <th></th>\n",
       "      <th>team</th>\n",
       "      <th>first</th>\n",
       "      <th>last</th>\n",
       "      <th>points</th>\n",
       "    </tr>\n",
       "  </thead>\n",
       "  <tbody>\n",
       "    <tr>\n",
       "      <th>0</th>\n",
       "      <td>Mavs</td>\n",
       "      <td>Dirk</td>\n",
       "      <td>Nowitzki</td>\n",
       "      <td>26</td>\n",
       "    </tr>\n",
       "    <tr>\n",
       "      <th>1</th>\n",
       "      <td>Lakers</td>\n",
       "      <td>Kobe</td>\n",
       "      <td>Bryant</td>\n",
       "      <td>31</td>\n",
       "    </tr>\n",
       "    <tr>\n",
       "      <th>2</th>\n",
       "      <td>Spurs</td>\n",
       "      <td>Tim</td>\n",
       "      <td>Duncan</td>\n",
       "      <td>22</td>\n",
       "    </tr>\n",
       "    <tr>\n",
       "      <th>3</th>\n",
       "      <td>Cavs</td>\n",
       "      <td>Lebron</td>\n",
       "      <td>James</td>\n",
       "      <td>29</td>\n",
       "    </tr>\n",
       "  </tbody>\n",
       "</table>\n",
       "</div>"
      ],
      "text/plain": [
       "     team   first      last  points\n",
       "0    Mavs    Dirk  Nowitzki      26\n",
       "1  Lakers    Kobe    Bryant      31\n",
       "2   Spurs     Tim    Duncan      22\n",
       "3    Cavs  Lebron     James      29"
      ]
     },
     "execution_count": 36,
     "metadata": {},
     "output_type": "execute_result"
    }
   ],
   "source": [
    "#create DataFrame\n",
    "df = pd.DataFrame({'team': ['Mavs', 'Lakers', 'Spurs', 'Cavs'],\n",
    "                   'first': ['Dirk', 'Kobe', 'Tim', 'Lebron'],\n",
    "                   'last': ['Nowitzki', 'Bryant', 'Duncan', 'James'],\n",
    "                   'points': [26, 31, 22, 29]})\n",
    "df"
   ]
  },
  {
   "cell_type": "markdown",
   "id": "b81e0893-86d4-4b7e-b131-59ee3b229c77",
   "metadata": {
    "papermill": {},
    "tags": []
   },
   "source": [
    "## Model"
   ]
  },
  {
   "cell_type": "markdown",
   "id": "1a87b484-32af-47f0-8a0e-fc2533e18544",
   "metadata": {
    "papermill": {},
    "tags": []
   },
   "source": [
    "### Method : Use drop\n",
    "The following code shows how to use the drop() function to drop the multiple columns of the pandas DataFrame by index."
   ]
  },
  {
   "cell_type": "code",
   "execution_count": 37,
   "id": "9e58e165-d81f-47d6-b257-9c3523d0cdd5",
   "metadata": {
    "execution": {
     "iopub.execute_input": "2023-01-12T12:13:52.477398Z",
     "iopub.status.busy": "2023-01-12T12:13:52.477103Z",
     "iopub.status.idle": "2023-01-12T12:13:52.487679Z",
     "shell.execute_reply": "2023-01-12T12:13:52.487079Z",
     "shell.execute_reply.started": "2023-01-12T12:13:52.477364Z"
    },
    "tags": []
   },
   "outputs": [
    {
     "name": "stdout",
     "output_type": "stream",
     "text": [
      "       last\n",
      "0  Nowitzki\n",
      "1    Bryant\n",
      "2    Duncan\n",
      "3     James\n"
     ]
    }
   ],
   "source": [
    "#Copy init dataframe\n",
    "df1 = df.copy()\n",
    "cols = [0, 1, 3] \n",
    "df1.drop(df1.columns[cols], axis=1, inplace=True)\n",
    "print(df1)"
   ]
  },
  {
   "cell_type": "markdown",
   "id": "4b5929e4-2921-412b-9ffd-8c5c16c1b37e",
   "metadata": {
    "papermill": {},
    "tags": []
   },
   "source": [
    "## Output"
   ]
  },
  {
   "cell_type": "markdown",
   "id": "6dd04898-ceb1-4ee0-872f-80f9ef61f4de",
   "metadata": {
    "papermill": {},
    "tags": []
   },
   "source": [
    "### Display result"
   ]
  },
  {
   "cell_type": "code",
   "execution_count": 38,
   "id": "36074c75-5022-417f-8653-cd9284ba5e4f",
   "metadata": {
    "execution": {
     "iopub.execute_input": "2023-01-12T12:14:03.656394Z",
     "iopub.status.busy": "2023-01-12T12:14:03.656168Z",
     "iopub.status.idle": "2023-01-12T12:14:03.659937Z",
     "shell.execute_reply": "2023-01-12T12:14:03.659313Z",
     "shell.execute_reply.started": "2023-01-12T12:14:03.656369Z"
    },
    "papermill": {},
    "tags": []
   },
   "outputs": [
    {
     "name": "stdout",
     "output_type": "stream",
     "text": [
      "The Columns- team, first, points, are removed from dataframe\n"
     ]
    }
   ],
   "source": [
    "columns_dropped = \"\"\n",
    "for column in cols:\n",
    "    columns_dropped = columns_dropped +  df.columns[column] + \", \"\n",
    "print(\"The Columns- \" +column_list + \"are removed from dataframe\")"
   ]
  },
  {
   "cell_type": "code",
   "execution_count": null,
   "id": "7727e6ef-04b9-4e13-96f3-4bc755ab5072",
   "metadata": {},
   "outputs": [],
   "source": []
  }
 ],
 "metadata": {
  "kernelspec": {
   "display_name": "Python 3",
   "language": "python",
   "name": "python3"
  },
  "language_info": {
   "codemirror_mode": {
    "name": "ipython",
    "version": 3
   },
   "file_extension": ".py",
   "mimetype": "text/x-python",
   "name": "python",
   "nbconvert_exporter": "python",
   "pygments_lexer": "ipython3",
   "version": "3.9.6"
  }
 },
 "nbformat": 4,
 "nbformat_minor": 5
}
