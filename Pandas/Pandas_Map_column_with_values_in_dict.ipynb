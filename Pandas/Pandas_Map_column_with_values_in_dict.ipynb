{
 "cells": [
  {
   "cell_type": "markdown",
   "id": "naas-logo",
   "metadata": {
    "papermill": {},
    "tags": [
     "logo"
    ]
   },
   "source": [
    "<img width=\"10%\" alt=\"Naas\" src=\"https://landen.imgix.net/jtci2pxwjczr/assets/5ice39g4.png?w=160\"/>"
   ]
  },
  {
   "cell_type": "markdown",
   "id": "5bdc0ea3-ae03-442c-b5bc-03d8301a0891",
   "metadata": {
    "papermill": {},
    "tags": [
     ""
    ]
   },
   "source": [
    "# Pandas - Map column with values in dict"
   ]
  },
  {
   "cell_type": "markdown",
   "id": "25e370a5-b9bf-4521-89f0-567cbb1178c8",
   "metadata": {
    "papermill": {},
    "tags": [
     ""
    ]
   },
   "source": [
    "**Tags:** #pandas #dict #map #series"
   ]
  },
  {
   "cell_type": "markdown",
   "id": "9dab0aa9-e2e0-411a-a762-327f2263f15a",
   "metadata": {
    "papermill": {},
    "tags": [
     ""
    ]
   },
   "source": [
    "**Author:** [Florent Ravenel](https://www.linkedin.com/in/florent-ravenel/)"
   ]
  },
  {
   "cell_type": "markdown",
   "id": "9af7e647-59e8-4eb2-9e7f-75947bb8405d",
   "metadata": {
    "papermill": {},
    "tags": [
     ""
    ]
   },
   "source": [
    "**Description:** This notebook shows how to map a column of a Pandas DataFrame with values from a dictionary."
   ]
  },
  {
   "cell_type": "markdown",
   "id": "3891d55b-2209-4859-a3c1-5e0d9476e0d5",
   "metadata": {
    "papermill": {},
    "tags": [
     ""
    ]
   },
   "source": [
    "<u>References:</u>\n",
    "- https://pandas.pydata.org/pandas-docs/stable/reference/api/pandas.DataFrame.map.html\n",
    "- https://www.geeksforgeeks.org/python-pandas-dataframe-map/"
   ]
  },
  {
   "cell_type": "markdown",
   "id": "dd2cac08-2dbc-4207-bdb5-7a980220e587",
   "metadata": {
    "papermill": {},
    "tags": [
     ""
    ]
   },
   "source": [
    "## Input"
   ]
  },
  {
   "cell_type": "markdown",
   "id": "72087ca9-3b38-4008-bd32-d8c92b54fe9b",
   "metadata": {
    "papermill": {},
    "tags": [
     ""
    ]
   },
   "source": [
    "### Import libraries"
   ]
  },
  {
   "cell_type": "code",
   "execution_count": null,
   "id": "7ecf0b3a-d59f-47bb-87cd-042c34b71a46",
   "metadata": {
    "papermill": {},
    "tags": [
     ""
    ]
   },
   "outputs": [],
   "source": "import pandas as pd"
  },
  {
   "cell_type": "markdown",
   "id": "05e2324e-6b95-427a-a918-5f52c48996a2",
   "metadata": {
    "papermill": {},
    "tags": [
     ""
    ]
   },
   "source": [
    "### Setup Variables"
   ]
  },
  {
   "cell_type": "code",
   "execution_count": null,
   "id": "2f646a41-338f-455e-9a1a-c2bdd28820cc",
   "metadata": {
    "papermill": {},
    "tags": [
     ""
    ]
   },
   "outputs": [],
   "source": "data = {\"Name\": [\"John\", \"Paul\", \"George\", \"Ringo\"], \"Age\": [20, 21, 19, 18]}\nmapping_dict = {20: \"Young\", 21: \"Young\", 19: \"Adult\", 18: \"Adult\"}"
  },
  {
   "cell_type": "markdown",
   "id": "1dcc6822-0e29-4bea-b88e-5aa4469b547b",
   "metadata": {
    "papermill": {},
    "tags": [
     ""
    ]
   },
   "source": [
    "## Model"
   ]
  },
  {
   "cell_type": "markdown",
   "id": "dd9d34b4-687a-4cc0-bc0e-1b8e09c45c33",
   "metadata": {},
   "source": [
    "### Read dataframe"
   ]
  },
  {
   "cell_type": "code",
   "execution_count": null,
   "id": "911a82a5-3f9f-455e-bb5f-400e0264b3be",
   "metadata": {},
   "outputs": [],
   "source": "df = pd.DataFrame(data)\ndf"
  },
  {
   "cell_type": "markdown",
   "id": "2e7d5c8c-7ff3-4273-a20d-932411560f5b",
   "metadata": {
    "papermill": {},
    "tags": [
     ""
    ]
   },
   "source": [
    "### Map column with values in dict"
   ]
  },
  {
   "cell_type": "code",
   "execution_count": null,
   "id": "791746db-4f2f-486b-99a7-7580e24fa60e",
   "metadata": {
    "papermill": {},
    "tags": []
   },
   "outputs": [],
   "source": "df[\"Age_Group\"] = df[\"Age\"].map(mapping_dict)"
  },
  {
   "cell_type": "markdown",
   "id": "565cf49e-6eb7-40af-ac49-bc8a5d04e127",
   "metadata": {
    "papermill": {},
    "tags": [
     ""
    ]
   },
   "source": [
    "## Output"
   ]
  },
  {
   "cell_type": "markdown",
   "id": "4e727f8a-b17d-4c58-adf1-c2ba1dae5f1b",
   "metadata": {
    "papermill": {},
    "tags": [
     ""
    ]
   },
   "source": [
    "### Display result"
   ]
  },
  {
   "cell_type": "code",
   "execution_count": null,
   "id": "1d1045e5-2b43-4423-87c8-11d1cf31e1bf",
   "metadata": {
    "papermill": {},
    "tags": []
   },
   "outputs": [],
   "source": "df"
  }
 ],
 "metadata": {
  "kernelspec": {
   "display_name": "Python 3",
   "language": "python",
   "name": "python3"
  },
  "language_info": {
   "codemirror_mode": {
    "name": "ipython",
    "version": 3
   },
   "file_extension": ".py",
   "mimetype": "text/x-python",
   "name": "python",
   "nbconvert_exporter": "python",
   "pygments_lexer": "ipython3",
   "version": "3.9.6"
  }
 },
 "nbformat": 4,
 "nbformat_minor": 5
}