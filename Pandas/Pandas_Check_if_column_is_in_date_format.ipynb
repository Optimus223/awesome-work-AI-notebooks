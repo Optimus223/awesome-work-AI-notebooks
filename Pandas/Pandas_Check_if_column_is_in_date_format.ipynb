{
 "cells": [
  {
   "cell_type": "markdown",
   "id": "34338c83-3283-4fcd-a23f-3414d41876f4",
   "metadata": {
    "papermill": {},
    "tags": []
   },
   "source": [
    "<img width=\"10%\" alt=\"Naas\" src=\"https://landen.imgix.net/jtci2pxwjczr/assets/5ice39g4.png?w=160\"/>"
   ]
  },
  {
   "cell_type": "markdown",
   "id": "e291550a-7c42-4583-b7d7-42e48d0427dd",
   "metadata": {
    "papermill": {},
    "tags": []
   },
   "source": [
    "# Pandas - Check if column is in date format"
   ]
  },
  {
   "cell_type": "markdown",
   "id": "3ba43a03-dc41-4b70-8db8-2af572416262",
   "metadata": {
    "papermill": {},
    "tags": []
   },
   "source": [
    "**Tags:** #pandas #dataframe #date #datetime #column #format"
   ]
  },
  {
   "cell_type": "markdown",
   "id": "43fd4eb2-9e22-47c7-a0a3-a78d6b055fe1",
   "metadata": {
    "papermill": {},
    "tags": []
   },
   "source": [
    "**Author:** [Benjamin Filly](https://www.linkedin.com/in/benjamin-filly-05427727a/)"
   ]
  },
  {
   "cell_type": "markdown",
   "id": "2251def3-3d41-41de-9035-9f031dff462a",
   "metadata": {
    "papermill": {},
    "tags": []
   },
   "source": [
    "**Description:** This notebook will check if a column of a Pandas DataFrame is in date format. It is usefull for organizations to quickly check if a column is in the right format."
   ]
  },
  {
   "cell_type": "markdown",
   "id": "be795f36-ef5d-4e82-9688-52c0298c5968",
   "metadata": {
    "papermill": {},
    "tags": []
   },
   "source": [
    "**References:**\n- [Pandas Documentation - to_datetime](https://pandas.pydata.org/pandas-docs/stable/reference/api/pandas.to_datetime.html)\n- [Stackoverflow - Check if column is in date format](https://stackoverflow.com/questions/29370057/check-if-dataframe-column-is-in-date-format)"
   ]
  },
  {
   "cell_type": "markdown",
   "id": "423502a0-32b5-4d0d-b10e-968a63acf169",
   "metadata": {
    "papermill": {},
    "tags": []
   },
   "source": [
    "## Input"
   ]
  },
  {
   "cell_type": "markdown",
   "id": "58d661d3-7f72-4a4f-9ae8-37c65bdeccca",
   "metadata": {
    "papermill": {},
    "tags": []
   },
   "source": [
    "### Import libraries"
   ]
  },
  {
   "cell_type": "code",
   "execution_count": null,
   "id": "5f05f0ad-d533-47bc-a890-a9dc172fe1e5",
   "metadata": {
    "papermill": {},
    "tags": []
   },
   "source": "import pandas as pd",
   "outputs": []
  },
  {
   "cell_type": "markdown",
   "id": "16b2bce8-51ad-4287-a73d-f68c36457711",
   "metadata": {
    "papermill": {},
    "tags": []
   },
   "source": [
    "### Setup Variables\n- `df`: Pandas DataFrame\n- `column`: column of the DataFrame to check"
   ]
  },
  {
   "cell_type": "code",
   "execution_count": null,
   "id": "4654c475-195a-4737-ae74-ee11837a1d67",
   "metadata": {
    "papermill": {},
    "tags": []
   },
   "source": "df = pd.DataFrame(\n    {\n        \"date\": [\"2020-01-01\", \"2020-02-01\", \"2020-03-01\", \"2020-04-01\", \"2020-05-01\"],\n        \"value\": [1, 2, 3, 4, 5],\n    }\n)\ncolumn = \"date\"",
   "outputs": []
  },
  {
   "cell_type": "markdown",
   "id": "22ab33ed-9042-409e-9894-af19fe98e6a7",
   "metadata": {
    "papermill": {},
    "tags": []
   },
   "source": [
    "## Model"
   ]
  },
  {
   "cell_type": "markdown",
   "id": "620a3268-ec34-4e96-8d2c-53436471c81e",
   "metadata": {
    "papermill": {},
    "tags": []
   },
   "source": [
    "### Check if column is in date format"
   ]
  },
  {
   "cell_type": "code",
   "execution_count": null,
   "id": "36653a80-7039-4c1b-b89c-ca92fcdaf6c9",
   "metadata": {
    "papermill": {},
    "tags": []
   },
   "source": "# Check if column is in date format\ntry:\n    pd.to_datetime(df[column])\n    print(f\"{column} is in date format\")\nexcept ValueError:\n    print(f\"{column} is not in date format\")",
   "outputs": []
  },
  {
   "cell_type": "markdown",
   "id": "e2b21963-e593-46e7-9983-fa2fddb63e95",
   "metadata": {
    "papermill": {},
    "tags": []
   },
   "source": [
    "## Output"
   ]
  },
  {
   "cell_type": "markdown",
   "id": "fecb263e-86c9-49f0-8611-ce9e615ce6cf",
   "metadata": {
    "papermill": {},
    "tags": []
   },
   "source": [
    "### Display result"
   ]
  },
  {
   "cell_type": "code",
   "execution_count": null,
   "id": "0fe72425-6231-4f62-b88b-39132d93abe8",
   "metadata": {
    "papermill": {},
    "tags": []
   },
   "source": "# Display result\nprint(f\"{column} is in date format\")",
   "outputs": []
  },
  {
   "cell_type": "markdown",
   "id": "dac193ec-0544-414d-9558-925bb1edf0c5",
   "metadata": {
    "papermill": {},
    "tags": []
   },
   "source": [
    " "
   ]
  }
 ],
 "metadata": {
  "kernelspec": {
   "display_name": "Python 3",
   "language": "python",
   "name": "python3"
  },
  "language_info": {
   "codemirror_mode": {
    "name": "ipython",
    "version": 3
   },
   "file_extension": ".py",
   "mimetype": "text/x-python",
   "name": "python",
   "nbconvert_exporter": "python",
   "pygments_lexer": "ipython3",
   "version": "3.9.6"
  },
  "widgets": {
   "application/vnd.jupyter.widget-state+json": {
    "state": {},
    "version_major": 2,
    "version_minor": 0
   }
  }
 },
 "nbformat": 4,
 "nbformat_minor": 5
}