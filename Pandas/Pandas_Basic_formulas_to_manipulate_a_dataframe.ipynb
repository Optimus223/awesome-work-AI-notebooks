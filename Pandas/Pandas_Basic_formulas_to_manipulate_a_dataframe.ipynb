{
 "cells": [
  {
   "cell_type": "markdown",
   "id": "92bee60c-2949-45be-bae9-86846902ef42",
   "metadata": {
    "papermill": {},
    "tags": []
   },
   "source": [
    "<img width=\"10%\" alt=\"Naas\" src=\"https://landen.imgix.net/jtci2pxwjczr/assets/5ice39g4.png?w=160\"/>"
   ]
  },
  {
   "cell_type": "markdown",
   "id": "ab86647a-72c3-4272-9a03-577f6ba3b50c",
   "metadata": {
    "papermill": {},
    "tags": []
   },
   "source": [
    "# Pandas - Basic formulas to manipulate a dataframe"
   ]
  },
  {
   "cell_type": "markdown",
   "id": "6757dc96-5aa8-4fbf-887a-1bcbfddc7926",
   "metadata": {
    "papermill": {},
    "tags": []
   },
   "source": [
    "**Tags:** #pandas #dataframe #manipulation #basics #formulas #python"
   ]
  },
  {
   "cell_type": "markdown",
   "id": "26bcc7ff-32b9-4a38-ab8d-dd843ba393a0",
   "metadata": {
    "papermill": {},
    "tags": []
   },
   "source": [
    "**Author:** [Florent Ravenel](https://www.linkedin.com/in/florent-ravenel/)"
   ]
  },
  {
   "cell_type": "markdown",
   "id": "37068d99-1629-4107-b97d-f84eb368b436",
   "metadata": {
    "papermill": {},
    "tags": []
   },
   "source": [
    "**Description:** This notebook introduces several basics formula that a user must know to be able to manipulate dataframe. It starts from extracting data, to cleaning, enrichment and saving."
   ]
  },
  {
   "cell_type": "markdown",
   "id": "62810e3d-92d5-4e55-9435-8ce8a9b2f035",
   "metadata": {
    "papermill": {},
    "tags": []
   },
   "source": [
    "**References:**\n- [Pandas Documentation](https://pandas.pydata.org/docs/)\n- [Python for Data Analysis Book](https://www.oreilly.com/library/view/python-for-data/9781491957653/)"
   ]
  },
  {
   "cell_type": "markdown",
   "id": "e1cadb68-35bb-4774-aec2-6e37295ff278",
   "metadata": {
    "papermill": {},
    "tags": []
   },
   "source": [
    "## Input"
   ]
  },
  {
   "cell_type": "markdown",
   "id": "47a4a684-0bb1-4d30-8162-40abbeabb643",
   "metadata": {
    "papermill": {},
    "tags": []
   },
   "source": [
    "### Import libraries"
   ]
  },
  {
   "cell_type": "code",
   "execution_count": null,
   "id": "65cf496a-49b9-472c-a9fb-d11ffab1b01e",
   "metadata": {
    "papermill": {},
    "tags": []
   },
   "source": "import pandas as pd",
   "outputs": []
  },
  {
   "cell_type": "markdown",
   "id": "ac4a49f6-d6c6-40d9-be1a-113531ac2601",
   "metadata": {
    "papermill": {},
    "tags": []
   },
   "source": [
    "### Setup Variables"
   ]
  },
  {
   "cell_type": "code",
   "execution_count": null,
   "id": "3be2483a-ddb2-4f84-8af2-82503d923d6d",
   "metadata": {
    "papermill": {},
    "tags": []
   },
   "source": "# Set the path of the csv file\ncsv_path = \"data.csv\"",
   "outputs": []
  },
  {
   "cell_type": "markdown",
   "id": "89f517dc-3306-4e5c-bcfc-227f0c9b9b1f",
   "metadata": {
    "papermill": {},
    "tags": []
   },
   "source": [
    "## Model"
   ]
  },
  {
   "cell_type": "markdown",
   "id": "e9ea39ce-9db0-4762-aea7-136a9087b0a8",
   "metadata": {
    "papermill": {},
    "tags": []
   },
   "source": [
    "### Extract data from csv"
   ]
  },
  {
   "cell_type": "markdown",
   "id": "37f3f1df-43b4-42ca-80c0-490a0bb3a6a7",
   "metadata": {
    "papermill": {},
    "tags": []
   },
   "source": [
    "Long description of the function: This function will extract the data from the csv file and store it in a dataframe."
   ]
  },
  {
   "cell_type": "code",
   "execution_count": null,
   "id": "baf510f0-03c9-48f8-acd7-c5b44c73c1a5",
   "metadata": {
    "papermill": {},
    "tags": []
   },
   "source": "# Extract data from csv\ndf = pd.read_csv(csv_path)",
   "outputs": []
  },
  {
   "cell_type": "markdown",
   "id": "ca2a956e-d137-4d36-86cf-69eda89785ab",
   "metadata": {
    "papermill": {},
    "tags": []
   },
   "source": [
    "### Clean data"
   ]
  },
  {
   "cell_type": "markdown",
   "id": "89526e1b-371d-41b2-9b9b-8d834fc4d096",
   "metadata": {
    "papermill": {},
    "tags": []
   },
   "source": [
    "Long description of the function: This function will clean the dataframe by removing the rows with missing values."
   ]
  },
  {
   "cell_type": "code",
   "execution_count": null,
   "id": "4795deb1-f84d-47fd-b1b5-72d64427d460",
   "metadata": {
    "papermill": {},
    "tags": []
   },
   "source": "# Clean data\ndf.dropna(inplace=True)",
   "outputs": []
  },
  {
   "cell_type": "markdown",
   "id": "f67d041a-8735-468a-aa0b-fc8c5b71484a",
   "metadata": {
    "papermill": {},
    "tags": []
   },
   "source": [
    "### Enrich data"
   ]
  },
  {
   "cell_type": "markdown",
   "id": "4fe5e9be-bb6d-4436-b314-e8bd032ba883",
   "metadata": {
    "papermill": {},
    "tags": []
   },
   "source": [
    "Long description of the function: This function will enrich the dataframe by adding a new column with the sum of two other columns."
   ]
  },
  {
   "cell_type": "code",
   "execution_count": null,
   "id": "b429be26-fa5d-4f65-8a99-80bc313368ca",
   "metadata": {
    "papermill": {},
    "tags": []
   },
   "source": "# Enrich data\ndf[\"sum\"] = df[\"column1\"] + df[\"column2\"]",
   "outputs": []
  },
  {
   "cell_type": "markdown",
   "id": "4fbd8b53-87e6-40f7-beb6-435040387bac",
   "metadata": {
    "papermill": {},
    "tags": []
   },
   "source": [
    "### Save data"
   ]
  },
  {
   "cell_type": "markdown",
   "id": "d38730bb-69a5-45d5-89ab-9f95fc30c89a",
   "metadata": {
    "papermill": {},
    "tags": []
   },
   "source": [
    "Long description of the function: This function will save the dataframe in a csv file."
   ]
  },
  {
   "cell_type": "code",
   "execution_count": null,
   "id": "032a2bab-a231-4e4f-ae2e-02554869175d",
   "metadata": {
    "papermill": {},
    "tags": []
   },
   "source": "# Save data\ndf.to_csv(\"data_enriched.csv\", index=False)",
   "outputs": []
  },
  {
   "cell_type": "markdown",
   "id": "efe01d44-a60b-4384-ba2f-fa30d96bdeab",
   "metadata": {
    "papermill": {},
    "tags": []
   },
   "source": [
    "## Output"
   ]
  },
  {
   "cell_type": "markdown",
   "id": "da001955-ac04-4ceb-9280-ab18a8e1f0ab",
   "metadata": {
    "papermill": {},
    "tags": []
   },
   "source": [
    "### Display result"
   ]
  },
  {
   "cell_type": "code",
   "execution_count": null,
   "id": "0c340cf1-a9b0-4d89-8406-78ed650a9f26",
   "metadata": {
    "papermill": {},
    "tags": []
   },
   "source": "# Display result\ndf.head()",
   "outputs": []
  },
  {
   "cell_type": "markdown",
   "id": "27a61b33-13fa-4de2-93c7-0b9c7c3e0ab3",
   "metadata": {
    "papermill": {},
    "tags": []
   },
   "source": [
    " "
   ]
  }
 ],
 "metadata": {
  "kernelspec": {
   "display_name": "Python 3",
   "language": "python",
   "name": "python3"
  },
  "language_info": {
   "codemirror_mode": {
    "name": "ipython",
    "version": 3
   },
   "file_extension": ".py",
   "mimetype": "text/x-python",
   "name": "python",
   "nbconvert_exporter": "python",
   "pygments_lexer": "ipython3",
   "version": "3.9.6"
  },
  "widgets": {
   "application/vnd.jupyter.widget-state+json": {
    "state": {},
    "version_major": 2,
    "version_minor": 0
   }
  }
 },
 "nbformat": 4,
 "nbformat_minor": 5
}