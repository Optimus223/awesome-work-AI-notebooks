{
 "cells": [
  {
   "cell_type": "markdown",
   "id": "b2209b9f-bf88-46ca-961e-92bbb6c9c911",
   "metadata": {
    "papermill": {},
    "tags": []
   },
   "source": [
    "<img width=\"10%\" alt=\"Naas\" src=\"https://landen.imgix.net/jtci2pxwjczr/assets/5ice39g4.png?w=160\"/>"
   ]
  },
  {
   "cell_type": "markdown",
   "id": "970258f1-bb7c-4a6e-a9fa-67369e3bb680",
   "metadata": {
    "papermill": {},
    "tags": []
   },
   "source": [
    "# Pandas - Get n smallest"
   ]
  },
  {
   "cell_type": "markdown",
   "id": "79ea58bc-f4b0-46d0-81bb-611c5da31a97",
   "metadata": {
    "papermill": {},
    "tags": []
   },
   "source": [
    "**Tags:** #pandas #dataframe #nsmallest #python #data #analysis"
   ]
  },
  {
   "cell_type": "markdown",
   "id": "e3cb1542-b8e1-4f7f-bdd7-1e5a3089f77d",
   "metadata": {
    "papermill": {},
    "tags": []
   },
   "source": [
    "**Author:** [Benjamin Filly](https://www.linkedin.com/in/benjamin-filly-05427727a/)"
   ]
  },
  {
   "cell_type": "markdown",
   "id": "7fbf01ed-bcfa-4c5a-b083-315d3ab7c919",
   "metadata": {
    "papermill": {},
    "tags": []
   },
   "source": [
    "**Description:** This notebook explains how to use the `nsmallest` function from the Pandas library to get the n smallest values from column in a DataFrame."
   ]
  },
  {
   "cell_type": "markdown",
   "id": "0dea3890-462b-40a8-9389-888a4d5a2ecc",
   "metadata": {
    "papermill": {},
    "tags": []
   },
   "source": [
    "**References:**\n",
    "- [Pandas Documentation - nsmallest](https://pandas.pydata.org/docs/reference/api/pandas.DataFrame.nsmallest.html)\n",
    "- [Stack Overflow - nsmallest](https://stackoverflow.com/questions/50995090/pandas-dataframe-nsmallest-function)"
   ]
  },
  {
   "cell_type": "markdown",
   "id": "7a8a204d-547d-4c48-a7ad-65471503c73e",
   "metadata": {
    "papermill": {},
    "tags": []
   },
   "source": [
    "## Input"
   ]
  },
  {
   "cell_type": "markdown",
   "id": "012db5c4-412b-41c7-8c18-2a8263f33557",
   "metadata": {
    "papermill": {},
    "tags": []
   },
   "source": [
    "### Import libraries"
   ]
  },
  {
   "cell_type": "code",
   "execution_count": 1,
   "id": "be2e61d0-235c-40e3-9341-6e986e9b07a4",
   "metadata": {
    "execution": {
     "iopub.execute_input": "2023-06-13T16:22:53.702625Z",
     "iopub.status.busy": "2023-06-13T16:22:53.702190Z",
     "iopub.status.idle": "2023-06-13T16:22:54.024823Z",
     "shell.execute_reply": "2023-06-13T16:22:54.024229Z",
     "shell.execute_reply.started": "2023-06-13T16:22:53.702551Z"
    },
    "papermill": {},
    "tags": []
   },
   "outputs": [],
   "source": [
    "import pandas as pd"
   ]
  },
  {
   "cell_type": "markdown",
   "id": "4e5eaa19-11aa-45d2-a065-2fdac1d12a4e",
   "metadata": {},
   "source": [
    "### Setup Variables\n",
    "- `n`: Number of items to retrieve.\n",
    "- `column`: Column name or names to order by."
   ]
  },
  {
   "cell_type": "code",
   "execution_count": 2,
   "id": "01e84b6c-31ee-4ce9-b57d-6dc0030cc5cb",
   "metadata": {
    "execution": {
     "iopub.execute_input": "2023-06-13T16:22:54.026110Z",
     "iopub.status.busy": "2023-06-13T16:22:54.025841Z",
     "iopub.status.idle": "2023-06-13T16:22:54.029187Z",
     "shell.execute_reply": "2023-06-13T16:22:54.028593Z",
     "shell.execute_reply.started": "2023-06-13T16:22:54.026077Z"
    }
   },
   "outputs": [],
   "source": [
    "n = 2\n",
    "column = \"Age\""
   ]
  },
  {
   "cell_type": "markdown",
   "id": "36f070de-4923-4704-8df7-a215f03ca2f1",
   "metadata": {
    "papermill": {},
    "tags": []
   },
   "source": [
    "## Model"
   ]
  },
  {
   "cell_type": "markdown",
   "id": "25aa2dc4-aafd-4c9a-a108-8fc8b693ca4c",
   "metadata": {
    "papermill": {},
    "tags": []
   },
   "source": [
    "### Create dataframe"
   ]
  },
  {
   "cell_type": "code",
   "execution_count": 3,
   "id": "1001b981-bc34-4369-a3dc-d7cece8137ab",
   "metadata": {
    "execution": {
     "iopub.execute_input": "2023-06-13T16:22:54.039454Z",
     "iopub.status.busy": "2023-06-13T16:22:54.039286Z",
     "iopub.status.idle": "2023-06-13T16:22:54.141305Z",
     "shell.execute_reply": "2023-06-13T16:22:54.140680Z",
     "shell.execute_reply.started": "2023-06-13T16:22:54.039435Z"
    },
    "papermill": {},
    "tags": []
   },
   "outputs": [
    {
     "data": {
      "text/html": [
       "<div>\n",
       "<style scoped>\n",
       "    .dataframe tbody tr th:only-of-type {\n",
       "        vertical-align: middle;\n",
       "    }\n",
       "\n",
       "    .dataframe tbody tr th {\n",
       "        vertical-align: top;\n",
       "    }\n",
       "\n",
       "    .dataframe thead th {\n",
       "        text-align: right;\n",
       "    }\n",
       "</style>\n",
       "<table border=\"1\" class=\"dataframe\">\n",
       "  <thead>\n",
       "    <tr style=\"text-align: right;\">\n",
       "      <th></th>\n",
       "      <th>Name</th>\n",
       "      <th>Age</th>\n",
       "    </tr>\n",
       "  </thead>\n",
       "  <tbody>\n",
       "    <tr>\n",
       "      <th>0</th>\n",
       "      <td>Tom</td>\n",
       "      <td>20</td>\n",
       "    </tr>\n",
       "    <tr>\n",
       "      <th>1</th>\n",
       "      <td>nick</td>\n",
       "      <td>21</td>\n",
       "    </tr>\n",
       "    <tr>\n",
       "      <th>2</th>\n",
       "      <td>krish</td>\n",
       "      <td>19</td>\n",
       "    </tr>\n",
       "    <tr>\n",
       "      <th>3</th>\n",
       "      <td>jack</td>\n",
       "      <td>18</td>\n",
       "    </tr>\n",
       "  </tbody>\n",
       "</table>\n",
       "</div>"
      ],
      "text/plain": [
       "    Name  Age\n",
       "0    Tom   20\n",
       "1   nick   21\n",
       "2  krish   19\n",
       "3   jack   18"
      ]
     },
     "execution_count": 3,
     "metadata": {},
     "output_type": "execute_result"
    }
   ],
   "source": [
    "# Create a fake dataset\n",
    "data = {\n",
    "    \"Name\": [\"Tom\", \"nick\", \"krish\", \"jack\"],\n",
    "    \"Age\": [20, 21, 19, 18]\n",
    "}\n",
    "\n",
    "# Create a DataFrame\n",
    "df = pd.DataFrame(data)\n",
    "df"
   ]
  },
  {
   "cell_type": "markdown",
   "id": "e79a2aa9-6188-42d3-9b2b-45a2b39fae5a",
   "metadata": {
    "papermill": {},
    "tags": []
   },
   "source": [
    "## Output"
   ]
  },
  {
   "cell_type": "markdown",
   "id": "6420dd67-c13c-458f-b366-2e28f2610a42",
   "metadata": {
    "papermill": {},
    "tags": []
   },
   "source": [
    "### Get n smallest values\n",
    "The `nsmallest` function from the Pandas library allows to get the n smallest values from a DataFrame."
   ]
  },
  {
   "cell_type": "code",
   "execution_count": 4,
   "id": "c7c5506d-2eb4-4cbb-9f75-5c381bfb78fd",
   "metadata": {
    "execution": {
     "iopub.execute_input": "2023-06-13T16:22:54.143286Z",
     "iopub.status.busy": "2023-06-13T16:22:54.143057Z",
     "iopub.status.idle": "2023-06-13T16:22:54.242406Z",
     "shell.execute_reply": "2023-06-13T16:22:54.241801Z",
     "shell.execute_reply.started": "2023-06-13T16:22:54.143258Z"
    },
    "papermill": {},
    "tags": []
   },
   "outputs": [
    {
     "data": {
      "text/html": [
       "<div>\n",
       "<style scoped>\n",
       "    .dataframe tbody tr th:only-of-type {\n",
       "        vertical-align: middle;\n",
       "    }\n",
       "\n",
       "    .dataframe tbody tr th {\n",
       "        vertical-align: top;\n",
       "    }\n",
       "\n",
       "    .dataframe thead th {\n",
       "        text-align: right;\n",
       "    }\n",
       "</style>\n",
       "<table border=\"1\" class=\"dataframe\">\n",
       "  <thead>\n",
       "    <tr style=\"text-align: right;\">\n",
       "      <th></th>\n",
       "      <th>Name</th>\n",
       "      <th>Age</th>\n",
       "    </tr>\n",
       "  </thead>\n",
       "  <tbody>\n",
       "    <tr>\n",
       "      <th>3</th>\n",
       "      <td>jack</td>\n",
       "      <td>18</td>\n",
       "    </tr>\n",
       "    <tr>\n",
       "      <th>2</th>\n",
       "      <td>krish</td>\n",
       "      <td>19</td>\n",
       "    </tr>\n",
       "  </tbody>\n",
       "</table>\n",
       "</div>"
      ],
      "text/plain": [
       "    Name  Age\n",
       "3   jack   18\n",
       "2  krish   19"
      ]
     },
     "execution_count": 4,
     "metadata": {},
     "output_type": "execute_result"
    }
   ],
   "source": [
    "# Display the result\n",
    "df.nsmallest(n, column)"
   ]
  },
  {
   "cell_type": "markdown",
   "id": "93eef45a-64de-46e5-b187-140a3bfe1f0f",
   "metadata": {
    "papermill": {},
    "tags": []
   },
   "source": [
    " "
   ]
  }
 ],
 "metadata": {
  "kernelspec": {
   "display_name": "Python 3",
   "language": "python",
   "name": "python3"
  },
  "language_info": {
   "codemirror_mode": {
    "name": "ipython",
    "version": 3
   },
   "file_extension": ".py",
   "mimetype": "text/x-python",
   "name": "python",
   "nbconvert_exporter": "python",
   "pygments_lexer": "ipython3",
   "version": "3.9.6"
  },
  "widgets": {
   "application/vnd.jupyter.widget-state+json": {
    "state": {},
    "version_major": 2,
    "version_minor": 0
   }
  }
 },
 "nbformat": 4,
 "nbformat_minor": 5
}
