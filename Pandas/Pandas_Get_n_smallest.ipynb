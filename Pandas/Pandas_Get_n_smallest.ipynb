{
 "cells": [
  {
   "cell_type": "markdown",
   "id": "b2209b9f-bf88-46ca-961e-92bbb6c9c911",
   "metadata": {
    "papermill": {},
    "tags": []
   },
   "source": [
    "<img width=\"10%\" alt=\"Naas\" src=\"https://landen.imgix.net/jtci2pxwjczr/assets/5ice39g4.png?w=160\"/>"
   ]
  },
  {
   "cell_type": "markdown",
   "id": "970258f1-bb7c-4a6e-a9fa-67369e3bb680",
   "metadata": {
    "papermill": {},
    "tags": []
   },
   "source": [
    "# Pandas - Get n smallest"
   ]
  },
  {
   "cell_type": "markdown",
   "id": "79ea58bc-f4b0-46d0-81bb-611c5da31a97",
   "metadata": {
    "papermill": {},
    "tags": []
   },
   "source": [
    "**Tags:** #pandas #dataframe #nsmallest #python #data #analysis"
   ]
  },
  {
   "cell_type": "markdown",
   "id": "e3cb1542-b8e1-4f7f-bdd7-1e5a3089f77d",
   "metadata": {
    "papermill": {},
    "tags": []
   },
   "source": [
    "**Author:** [Benjamin Filly](https://www.linkedin.com/in/benjamin-filly-05427727a/)"
   ]
  },
  {
   "cell_type": "markdown",
   "id": "7fbf01ed-bcfa-4c5a-b083-315d3ab7c919",
   "metadata": {
    "papermill": {},
    "tags": []
   },
   "source": [
    "**Description:** This notebook explains how to use the `nsmallest` function from the Pandas library to get the n smallest values from a DataFrame. This is usefull for data analysis and data manipulation."
   ]
  },
  {
   "cell_type": "markdown",
   "id": "0dea3890-462b-40a8-9389-888a4d5a2ecc",
   "metadata": {
    "papermill": {},
    "tags": []
   },
   "source": [
    "**References:**\n- [Pandas Documentation - nsmallest](https://pandas.pydata.org/docs/reference/api/pandas.DataFrame.nsmallest.html)\n- [Stack Overflow - nsmallest](https://stackoverflow.com/questions/50995090/pandas-dataframe-nsmallest-function)"
   ]
  },
  {
   "cell_type": "markdown",
   "id": "7a8a204d-547d-4c48-a7ad-65471503c73e",
   "metadata": {
    "papermill": {},
    "tags": []
   },
   "source": [
    "## Input"
   ]
  },
  {
   "cell_type": "markdown",
   "id": "012db5c4-412b-41c7-8c18-2a8263f33557",
   "metadata": {
    "papermill": {},
    "tags": []
   },
   "source": [
    "### Import libraries"
   ]
  },
  {
   "cell_type": "code",
   "execution_count": null,
   "id": "be2e61d0-235c-40e3-9341-6e986e9b07a4",
   "metadata": {
    "papermill": {},
    "tags": []
   },
   "source": "import pandas as pd",
   "outputs": []
  },
  {
   "cell_type": "markdown",
   "id": "3a340cdf-b61b-4121-a4a0-cdadf6400c51",
   "metadata": {
    "papermill": {},
    "tags": []
   },
   "source": [
    "### Setup Variables"
   ]
  },
  {
   "cell_type": "code",
   "execution_count": null,
   "id": "6a33fb2b-bab6-43b7-84cf-0f933eca42d8",
   "metadata": {
    "papermill": {},
    "tags": []
   },
   "source": "# Create a fake dataset\ndata = {\"Name\": [\"Tom\", \"nick\", \"krish\", \"jack\"], \"Age\": [20, 21, 19, 18]}\n# Create a DataFrame\ndf = pd.DataFrame(data)",
   "outputs": []
  },
  {
   "cell_type": "markdown",
   "id": "36f070de-4923-4704-8df7-a215f03ca2f1",
   "metadata": {
    "papermill": {},
    "tags": []
   },
   "source": [
    "## Model"
   ]
  },
  {
   "cell_type": "markdown",
   "id": "6420dd67-c13c-458f-b366-2e28f2610a42",
   "metadata": {
    "papermill": {},
    "tags": []
   },
   "source": [
    "### Get n smallest values"
   ]
  },
  {
   "cell_type": "markdown",
   "id": "25aa2dc4-aafd-4c9a-a108-8fc8b693ca4c",
   "metadata": {
    "papermill": {},
    "tags": []
   },
   "source": [
    "The `nsmallest` function from the Pandas library allows to get the n smallest values from a DataFrame."
   ]
  },
  {
   "cell_type": "code",
   "execution_count": null,
   "id": "1001b981-bc34-4369-a3dc-d7cece8137ab",
   "metadata": {
    "papermill": {},
    "tags": []
   },
   "source": "# Get the 2 smallest values\ndf.nsmallest(2, \"Age\")",
   "outputs": []
  },
  {
   "cell_type": "markdown",
   "id": "e79a2aa9-6188-42d3-9b2b-45a2b39fae5a",
   "metadata": {
    "papermill": {},
    "tags": []
   },
   "source": [
    "## Output"
   ]
  },
  {
   "cell_type": "markdown",
   "id": "7fc3d6a1-8b66-4fd9-9c1f-0f5ad2669ee5",
   "metadata": {
    "papermill": {},
    "tags": []
   },
   "source": [
    "### Display result"
   ]
  },
  {
   "cell_type": "markdown",
   "id": "e5aa8c0d-ee9d-4087-bbfc-03c2f60a1e37",
   "metadata": {
    "papermill": {},
    "tags": []
   },
   "source": [
    "The result of the `nsmallest` function is a DataFrame containing the n smallest values."
   ]
  },
  {
   "cell_type": "code",
   "execution_count": null,
   "id": "c7c5506d-2eb4-4cbb-9f75-5c381bfb78fd",
   "metadata": {
    "papermill": {},
    "tags": []
   },
   "source": "# Display the result\ndf.nsmallest(2, \"Age\")",
   "outputs": []
  },
  {
   "cell_type": "markdown",
   "id": "93eef45a-64de-46e5-b187-140a3bfe1f0f",
   "metadata": {
    "papermill": {},
    "tags": []
   },
   "source": [
    " "
   ]
  }
 ],
 "metadata": {
  "kernelspec": {
   "display_name": "Python 3",
   "language": "python",
   "name": "python3"
  },
  "language_info": {
   "codemirror_mode": {
    "name": "ipython",
    "version": 3
   },
   "file_extension": ".py",
   "mimetype": "text/x-python",
   "name": "python",
   "nbconvert_exporter": "python",
   "pygments_lexer": "ipython3",
   "version": "3.9.6"
  },
  "widgets": {
   "application/vnd.jupyter.widget-state+json": {
    "state": {},
    "version_major": 2,
    "version_minor": 0
   }
  }
 },
 "nbformat": 4,
 "nbformat_minor": 5
}