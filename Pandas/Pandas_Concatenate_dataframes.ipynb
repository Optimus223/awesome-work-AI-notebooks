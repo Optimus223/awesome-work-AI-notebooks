{
 "cells": [
  {
   "cell_type": "markdown",
   "id": "naas-logo",
   "metadata": {
    "papermill": {},
    "tags": [
     "naas"
    ]
   },
   "source": [
    "<img width=\"10%\" alt=\"Naas\" src=\"https://landen.imgix.net/jtci2pxwjczr/assets/5ice39g4.png?w=160\"/>"
   ]
  },
  {
   "cell_type": "markdown",
   "id": "db17b79b",
   "metadata": {
    "papermill": {},
    "tags": []
   },
   "source": [
    "# Pandas - Concatenate dataframes\n",
    "<a href=\"https://app.naas.ai/user-redirect/naas/downloader?url=https://raw.githubusercontent.com/jupyter-naas/awesome-notebooks/master/Pandas/Pandas_Create_dataframe_from_dict.ipynb\" target=\"_parent\"><img src=\"https://naasai-public.s3.eu-west-3.amazonaws.com/open_in_naas.svg\"/></a><br><br><a href=\"https://github.com/jupyter-naas/awesome-notebooks/issues/new?assignees=&labels=&template=template-request.md&title=Tool+-+Action+of+the+notebook+\">Template request</a> | <a href=\"https://github.com/jupyter-naas/awesome-notebooks/issues/new?assignees=&labels=bug&template=bug_report.md&title=Pandas+-+Create+dataframe+from+dict:+Error+short+description\">Bug report</a> | <a href=\"https://app.naas.ai/user-redirect/naas/downloader?url=https://raw.githubusercontent.com/jupyter-naas/awesome-notebooks/master/Naas/Naas_Start_data_product.ipynb\" target=\"_parent\">Generate Data Product</a>"
   ]
  },
  {
   "cell_type": "markdown",
   "id": "13800319",
   "metadata": {
    "papermill": {},
    "tags": []
   },
   "source": [
    "**Tags:** #pandas #concatenate #dataframe "
   ]
  },
  {
   "cell_type": "markdown",
   "id": "8761af40",
   "metadata": {
    "papermill": {},
    "tags": []
   },
   "source": [
    "**Author:** [Benjamin Filly](https://www.linkedin.com/in/benjamin-filly-05427727a/)"
   ]
  },
  {
   "cell_type": "markdown",
   "id": "naas-description",
   "metadata": {
    "papermill": {},
    "tags": [
     "description"
    ]
   },
   "source": [
    "**Description:** This notebook provides a step-by-step guide to concatenating dataframes using the Pandas library."
   ]
  },
  {
   "cell_type": "markdown",
   "id": "d6ed8917",
   "metadata": {
    "papermill": {},
    "tags": []
   },
   "source": [
    "## Input"
   ]
  },
  {
   "cell_type": "markdown",
   "id": "c8e7db8c-55fd-4ec8-a5e0-01b80632b1ec",
   "metadata": {
    "papermill": {},
    "tags": []
   },
   "source": [
    "### Import libraries"
   ]
  },
  {
   "cell_type": "code",
   "execution_count": 1,
   "id": "3869ce8d-e748-4902-a28c-797627946a12",
   "metadata": {
    "execution": {
     "iopub.execute_input": "2023-06-06T14:06:19.882429Z",
     "iopub.status.busy": "2023-06-06T14:06:19.881917Z",
     "iopub.status.idle": "2023-06-06T14:06:20.292127Z",
     "shell.execute_reply": "2023-06-06T14:06:20.289664Z",
     "shell.execute_reply.started": "2023-06-06T14:06:19.882333Z"
    },
    "papermill": {},
    "tags": []
   },
   "outputs": [],
   "source": [
    "import pandas as pd"
   ]
  },
  {
   "cell_type": "markdown",
   "id": "fb1b9009",
   "metadata": {
    "papermill": {},
    "tags": []
   },
   "source": [
    "### Creating DataFrames"
   ]
  },
  {
   "cell_type": "code",
   "execution_count": 2,
   "id": "aefef37f",
   "metadata": {
    "execution": {
     "iopub.execute_input": "2023-06-06T14:06:21.532887Z",
     "iopub.status.busy": "2023-06-06T14:06:21.532551Z",
     "iopub.status.idle": "2023-06-06T14:06:21.537569Z",
     "shell.execute_reply": "2023-06-06T14:06:21.536468Z",
     "shell.execute_reply.started": "2023-06-06T14:06:21.532848Z"
    },
    "papermill": {},
    "tags": []
   },
   "outputs": [],
   "source": [
    "data1 = {'A': [1, 2, 3], 'B': [4, 5, 6]}\n",
    "data2 = {'A': [7, 8, 9], 'B': [10, 11, 12]}"
   ]
  },
  {
   "cell_type": "markdown",
   "id": "30f728e7-f3c8-40a9-aeb9-f6551113462c",
   "metadata": {
    "papermill": {},
    "tags": []
   },
   "source": [
    "## Model"
   ]
  },
  {
   "cell_type": "markdown",
   "id": "6fffa01c-1f9b-4923-93e1-ee793c3a31d9",
   "metadata": {
    "papermill": {},
    "tags": []
   },
   "source": [
    "### Create dataframe"
   ]
  },
  {
   "cell_type": "code",
   "execution_count": 3,
   "id": "8a54e670",
   "metadata": {
    "execution": {
     "iopub.execute_input": "2023-06-06T14:06:25.921206Z",
     "iopub.status.busy": "2023-06-06T14:06:25.920888Z",
     "iopub.status.idle": "2023-06-06T14:06:25.935891Z",
     "shell.execute_reply": "2023-06-06T14:06:25.928450Z",
     "shell.execute_reply.started": "2023-06-06T14:06:25.921172Z"
    },
    "papermill": {},
    "tags": []
   },
   "outputs": [],
   "source": [
    "df1 = pd.DataFrame(data1)\n",
    "df2 = pd.DataFrame(data2)\n",
    "result = pd.concat([df1, df2])"
   ]
  },
  {
   "cell_type": "markdown",
   "id": "02d1fc4b",
   "metadata": {
    "papermill": {},
    "tags": []
   },
   "source": [
    "## Output"
   ]
  },
  {
   "cell_type": "markdown",
   "id": "c480caa0-4b64-4139-9d64-744df4403887",
   "metadata": {
    "papermill": {},
    "tags": []
   },
   "source": [
    "### Display result"
   ]
  },
  {
   "cell_type": "code",
   "execution_count": 4,
   "id": "0f9499fb-ee63-42d2-8e34-25a06b8aa9c1",
   "metadata": {
    "execution": {
     "iopub.execute_input": "2023-06-06T14:06:28.064231Z",
     "iopub.status.busy": "2023-06-06T14:06:28.063897Z",
     "iopub.status.idle": "2023-06-06T14:06:28.086569Z",
     "shell.execute_reply": "2023-06-06T14:06:28.085821Z",
     "shell.execute_reply.started": "2023-06-06T14:06:28.064193Z"
    },
    "papermill": {},
    "tags": []
   },
   "outputs": [
    {
     "data": {
      "text/html": [
       "<div>\n",
       "<style scoped>\n",
       "    .dataframe tbody tr th:only-of-type {\n",
       "        vertical-align: middle;\n",
       "    }\n",
       "\n",
       "    .dataframe tbody tr th {\n",
       "        vertical-align: top;\n",
       "    }\n",
       "\n",
       "    .dataframe thead th {\n",
       "        text-align: right;\n",
       "    }\n",
       "</style>\n",
       "<table border=\"1\" class=\"dataframe\">\n",
       "  <thead>\n",
       "    <tr style=\"text-align: right;\">\n",
       "      <th></th>\n",
       "      <th>A</th>\n",
       "      <th>B</th>\n",
       "    </tr>\n",
       "  </thead>\n",
       "  <tbody>\n",
       "    <tr>\n",
       "      <th>0</th>\n",
       "      <td>1</td>\n",
       "      <td>4</td>\n",
       "    </tr>\n",
       "    <tr>\n",
       "      <th>1</th>\n",
       "      <td>2</td>\n",
       "      <td>5</td>\n",
       "    </tr>\n",
       "    <tr>\n",
       "      <th>2</th>\n",
       "      <td>3</td>\n",
       "      <td>6</td>\n",
       "    </tr>\n",
       "    <tr>\n",
       "      <th>0</th>\n",
       "      <td>7</td>\n",
       "      <td>10</td>\n",
       "    </tr>\n",
       "    <tr>\n",
       "      <th>1</th>\n",
       "      <td>8</td>\n",
       "      <td>11</td>\n",
       "    </tr>\n",
       "    <tr>\n",
       "      <th>2</th>\n",
       "      <td>9</td>\n",
       "      <td>12</td>\n",
       "    </tr>\n",
       "  </tbody>\n",
       "</table>\n",
       "</div>"
      ],
      "text/plain": [
       "   A   B\n",
       "0  1   4\n",
       "1  2   5\n",
       "2  3   6\n",
       "0  7  10\n",
       "1  8  11\n",
       "2  9  12"
      ]
     },
     "execution_count": 4,
     "metadata": {},
     "output_type": "execute_result"
    }
   ],
   "source": [
    "result"
   ]
  }
 ],
 "metadata": {
  "kernelspec": {
   "display_name": "Python 3",
   "language": "python",
   "name": "python3"
  },
  "language_info": {
   "codemirror_mode": {
    "name": "ipython",
    "version": 3
   },
   "file_extension": ".py",
   "mimetype": "text/x-python",
   "name": "python",
   "nbconvert_exporter": "python",
   "pygments_lexer": "ipython3",
   "version": "3.9.6"
  },
  "naas": {
   "notebook_id": "21e1846d-8194-4d06-b59a-ec3c7411a4c2",
   "notebook_path": "Pandas/Pandas_Create_dataframe_from_dict.ipynb"
  },
  "papermill": {
   "default_parameters": {},
   "environment_variables": {},
   "parameters": {},
   "version": "2.3.3"
  }
 },
 "nbformat": 4,
 "nbformat_minor": 5
}
