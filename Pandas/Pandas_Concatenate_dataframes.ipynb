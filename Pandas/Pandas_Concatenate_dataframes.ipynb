{
 "cells": [
  {
   "cell_type": "markdown",
   "id": "naas-logo",
   "metadata": {
    "papermill": {},
    "tags": [
     "naas"
    ]
   },
   "source": [
    "<img width=\"10%\" alt=\"Naas\" src=\"https://landen.imgix.net/jtci2pxwjczr/assets/5ice39g4.png?w=160\"/>"
   ]
  },
  {
   "cell_type": "markdown",
   "id": "db17b79b",
   "metadata": {
    "papermill": {},
    "tags": []
   },
   "source": [
    "# Pandas - Concatenate dataframes\n",
    "<a href=\"https://app.naas.ai/user-redirect/naas/downloader?url=https://raw.githubusercontent.com/jupyter-naas/awesome-notebooks/master/Pandas/Pandas_Concatenate_dataframes.ipynb\" target=\"_parent\"><img src=\"https://naasai-public.s3.eu-west-3.amazonaws.com/Open_in_Naas_Lab.svg\"/></a><br><br><a href=\"https://github.com/jupyter-naas/awesome-notebooks/issues/new?assignees=&labels=&template=template-request.md&title=Tool+-+Action+of+the+notebook+\">Template request</a> | <a href=\"https://github.com/jupyter-naas/awesome-notebooks/issues/new?assignees=&labels=bug&template=bug_report.md&title=Pandas+-+Concatenate+dataframes:+Error+short+description\">Bug report</a> | <a href=\"https://app.naas.ai/user-redirect/naas/downloader?url=https://raw.githubusercontent.com/jupyter-naas/awesome-notebooks/master/Naas/Naas_Start_data_product.ipynb\" target=\"_parent\">Generate Data Product</a>"
   ]
  },
  {
   "cell_type": "markdown",
   "id": "13800319",
   "metadata": {
    "papermill": {},
    "tags": []
   },
   "source": [
    "**Tags:** #pandas #concatenate #dataframe #snippet #operations"
   ]
  },
  {
   "cell_type": "markdown",
   "id": "8761af40",
   "metadata": {
    "papermill": {},
    "tags": []
   },
   "source": [
    "**Author:** [Benjamin Filly](https://www.linkedin.com/in/benjamin-filly-05427727a/)"
   ]
  },
  {
   "cell_type": "markdown",
   "id": "naas-description",
   "metadata": {
    "papermill": {},
    "tags": [
     "description"
    ]
   },
   "source": [
    "**Description:** This notebook demonstrates how to concatenate dataframes across rows or columns using the Pandas library."
   ]
  },
  {
   "cell_type": "markdown",
   "id": "fa080b0c-a4f9-4e43-b7ac-88e5910d17d9",
   "metadata": {
    "papermill": {},
    "tags": []
   },
   "source": [
    "**References:**\n",
    "- [Pandas - concat](https://pandas.pydata.org/docs/reference/api/pandas.concat.html)"
   ]
  },
  {
   "cell_type": "markdown",
   "id": "d6ed8917",
   "metadata": {
    "papermill": {},
    "tags": []
   },
   "source": [
    "## Input"
   ]
  },
  {
   "cell_type": "markdown",
   "id": "c8e7db8c-55fd-4ec8-a5e0-01b80632b1ec",
   "metadata": {
    "papermill": {},
    "tags": []
   },
   "source": [
    "### Import libraries"
   ]
  },
  {
   "cell_type": "code",
   "execution_count": 1,
   "id": "3869ce8d-e748-4902-a28c-797627946a12",
   "metadata": {
    "execution": {
     "iopub.execute_input": "2023-06-07T07:53:26.763130Z",
     "iopub.status.busy": "2023-06-07T07:53:26.760830Z",
     "iopub.status.idle": "2023-06-07T07:53:28.442397Z",
     "shell.execute_reply": "2023-06-07T07:53:28.411566Z",
     "shell.execute_reply.started": "2023-06-07T07:53:26.763046Z"
    },
    "papermill": {},
    "tags": []
   },
   "outputs": [],
   "source": [
    "import pandas as pd"
   ]
  },
  {
   "cell_type": "markdown",
   "id": "fb1b9009",
   "metadata": {
    "papermill": {},
    "tags": []
   },
   "source": [
    "### Setup Variables\n",
    "- `df1`: DataFrame object\n",
    "- `df2`: DataFrame object\n",
    "- `axis`: The axis to concatenate along. 0 =\"index\", 1 =\"columns\""
   ]
  },
  {
   "cell_type": "code",
   "execution_count": 6,
   "id": "aefef37f",
   "metadata": {
    "execution": {
     "iopub.execute_input": "2023-06-07T07:54:05.251967Z",
     "iopub.status.busy": "2023-06-07T07:54:05.251736Z",
     "iopub.status.idle": "2023-06-07T07:54:05.259010Z",
     "shell.execute_reply": "2023-06-07T07:54:05.258499Z",
     "shell.execute_reply.started": "2023-06-07T07:54:05.251944Z"
    },
    "papermill": {},
    "tags": []
   },
   "outputs": [],
   "source": [
    "df1 = pd.DataFrame({'A': [1, 2, 3, 4], 'B': [4, 5, 6, 7]})\n",
    "df2 = pd.DataFrame({'A': [7, 8, 9], 'B': [10, 11, 12]})\n",
    "axis = 0"
   ]
  },
  {
   "cell_type": "markdown",
   "id": "30f728e7-f3c8-40a9-aeb9-f6551113462c",
   "metadata": {
    "papermill": {},
    "tags": []
   },
   "source": [
    "## Model"
   ]
  },
  {
   "cell_type": "markdown",
   "id": "d2537b10-2f96-4cf3-aa02-955836d2864a",
   "metadata": {
    "papermill": {},
    "tags": []
   },
   "source": [
    "### Display DataFrame 1"
   ]
  },
  {
   "cell_type": "code",
   "execution_count": 7,
   "id": "a2e5e3b5-5acc-436a-bf85-96df750c9993",
   "metadata": {
    "execution": {
     "iopub.execute_input": "2023-06-07T07:54:06.172969Z",
     "iopub.status.busy": "2023-06-07T07:54:06.172740Z",
     "iopub.status.idle": "2023-06-07T07:54:06.182711Z",
     "shell.execute_reply": "2023-06-07T07:54:06.182098Z",
     "shell.execute_reply.started": "2023-06-07T07:54:06.172945Z"
    },
    "papermill": {},
    "tags": []
   },
   "outputs": [],
   "source": [
    "print(\"Columns fetched:\", len(df1.columns))\n",
    "print(\"Rows fetched:\", len(df1))\n",
    "df1"
   ]
  },
  {
   "cell_type": "markdown",
   "id": "a8aedd82-5239-4c16-a3cd-01b127ed0286",
   "metadata": {
    "papermill": {},
    "tags": []
   },
   "source": [
    "### Display DataFrame 1"
   ]
  },
  {
   "cell_type": "code",
   "execution_count": 8,
   "id": "c6dea276-7e60-4bd0-b8cf-204a1ab32b48",
   "metadata": {
    "execution": {
     "iopub.execute_input": "2023-06-07T07:54:08.147958Z",
     "iopub.status.busy": "2023-06-07T07:54:08.147727Z",
     "iopub.status.idle": "2023-06-07T07:54:08.157743Z",
     "shell.execute_reply": "2023-06-07T07:54:08.157191Z",
     "shell.execute_reply.started": "2023-06-07T07:54:08.147935Z"
    },
    "papermill": {},
    "tags": []
   },
   "outputs": [],
   "source": [
    "print(\"Columns fetched:\", len(df2.columns))\n",
    "print(\"Rows fetched:\", len(df2))\n",
    "df2"
   ]
  },
  {
   "cell_type": "markdown",
   "id": "02d1fc4b",
   "metadata": {
    "papermill": {},
    "tags": []
   },
   "source": [
    "## Output"
   ]
  },
  {
   "cell_type": "markdown",
   "id": "6fffa01c-1f9b-4923-93e1-ee793c3a31d9",
   "metadata": {
    "papermill": {},
    "tags": []
   },
   "source": [
    "### Concatenate dataframes"
   ]
  },
  {
   "cell_type": "code",
   "execution_count": 10,
   "id": "8a54e670",
   "metadata": {
    "execution": {
     "iopub.execute_input": "2023-06-07T07:54:29.408203Z",
     "iopub.status.busy": "2023-06-07T07:54:29.407965Z",
     "iopub.status.idle": "2023-06-07T07:54:29.451544Z",
     "shell.execute_reply": "2023-06-07T07:54:29.450896Z",
     "shell.execute_reply.started": "2023-06-07T07:54:29.408174Z"
    },
    "papermill": {},
    "tags": []
   },
   "outputs": [],
   "source": [
    "df_concat = pd.concat([df1, df2], axis=axis).reset_index(drop=True)\n",
    "print(\"Columns fetched:\", len(df_concat.columns))\n",
    "print(\"Row fetched:\", len(df_concat))\n",
    "df_concat"
   ]
  },
  {
   "cell_type": "code",
   "execution_count": null,
   "id": "6c36b556-743c-4792-8025-27602ab675fd",
   "metadata": {
    "papermill": {},
    "tags": []
   },
   "outputs": [],
   "source": []
  }
 ],
 "metadata": {
  "kernelspec": {
   "display_name": "Python 3",
   "language": "python",
   "name": "python3"
  },
  "language_info": {
   "codemirror_mode": {
    "name": "ipython",
    "version": 3
   },
   "file_extension": ".py",
   "mimetype": "text/x-python",
   "name": "python",
   "nbconvert_exporter": "python",
   "pygments_lexer": "ipython3",
   "version": "3.9.6"
  },
  "naas": {
   "notebook_id": "21e1846d-8194-4d06-b59a-ec3c7411a4c2",
   "notebook_path": "Pandas/Pandas_Create_dataframe_from_dict.ipynb"
  },
  "papermill": {
   "default_parameters": {},
   "environment_variables": {},
   "parameters": {},
   "version": "2.3.3"
  }
 },
 "nbformat": 4,
 "nbformat_minor": 5
}