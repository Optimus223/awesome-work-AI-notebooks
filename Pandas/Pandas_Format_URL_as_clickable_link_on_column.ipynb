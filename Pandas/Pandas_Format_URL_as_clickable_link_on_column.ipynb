{
 "cells": [
  {
   "cell_type": "markdown",
   "id": "5e6ea42a-b5e2-40f7-990b-72cbbc5b4cde",
   "metadata": {
    "papermill": {},
    "tags": []
   },
   "source": [
    "<img width=\"10%\" alt=\"Naas\" src=\"https://landen.imgix.net/jtci2pxwjczr/assets/5ice39g4.png?w=160\"/>"
   ]
  },
  {
   "cell_type": "markdown",
   "id": "0bfa6886-f151-4278-a7ae-f199fe1f25c1",
   "metadata": {
    "papermill": {},
    "tags": []
   },
   "source": [
    "# Pandas - Format URL as clickable link on column"
   ]
  },
  {
   "cell_type": "markdown",
   "id": "bc1b72c6-7a1a-4ce6-8b8e-feb705cfec90",
   "metadata": {
    "papermill": {},
    "tags": []
   },
   "source": [
    "**Tags:** #pandas #dataframe #url #link #column #format"
   ]
  },
  {
   "cell_type": "markdown",
   "id": "3e7d2885-80f6-4630-882f-c93d2a1e21d7",
   "metadata": {
    "papermill": {},
    "tags": []
   },
   "source": [
    "**Author:** [Benjamin Filly](https://www.linkedin.com/in/benjamin-filly-05427727a/)"
   ]
  },
  {
   "cell_type": "markdown",
   "id": "a9c9ee66-8d72-4516-a3d7-e9dc48aba90d",
   "metadata": {
    "papermill": {},
    "tags": []
   },
   "source": [
    "**Last update:** 2023-07-24 (Created: 2023-07-24)"
   ]
  },
  {
   "cell_type": "markdown",
   "id": "414a941a-f0e2-4f9a-8036-5333fca3ca3a",
   "metadata": {
    "papermill": {},
    "tags": []
   },
   "source": [
    "**Description:** This notebook will show how to format a URL as a clickable link on a column of a Pandas DataFrame. This is usefull for organizations to quickly access to a website from a DataFrame."
   ]
  },
  {
   "cell_type": "markdown",
   "id": "52bb5773-7b38-45e1-a8ea-0cd5781c18a1",
   "metadata": {
    "papermill": {},
    "tags": []
   },
   "source": [
    "**References:**\n",
    "- [Pandas Documentation](https://pandas.pydata.org/pandas-docs/stable/reference/api/pandas.DataFrame.style.html)"
   ]
  },
  {
   "cell_type": "markdown",
   "id": "2eee425c-0e02-4a16-97c9-378e579512e5",
   "metadata": {
    "papermill": {},
    "tags": []
   },
   "source": [
    "## Input"
   ]
  },
  {
   "cell_type": "markdown",
   "id": "820f381a-5c4e-4d41-b8e5-61ec4047b9ff",
   "metadata": {
    "papermill": {},
    "tags": []
   },
   "source": [
    "### Import libraries"
   ]
  },
  {
   "cell_type": "code",
   "execution_count": 1,
   "id": "9a55aa01-1262-456a-9bd8-f6f524d8e410",
   "metadata": {
    "execution": {
     "iopub.execute_input": "2023-07-24T14:47:43.031967Z",
     "iopub.status.busy": "2023-07-24T14:47:43.025656Z",
     "iopub.status.idle": "2023-07-24T14:47:44.507755Z",
     "shell.execute_reply": "2023-07-24T14:47:44.507001Z",
     "shell.execute_reply.started": "2023-07-24T14:47:43.031890Z"
    },
    "papermill": {},
    "tags": []
   },
   "outputs": [],
   "source": [
    "import pandas as pd"
   ]
  },
  {
   "cell_type": "markdown",
   "id": "04a271da-4c85-4868-8834-4afc7e7d5550",
   "metadata": {
    "papermill": {},
    "tags": []
   },
   "source": [
    "### Setup Variables\n",
    "- `column_name`: Column name that stored URLs"
   ]
  },
  {
   "cell_type": "code",
   "execution_count": 2,
   "id": "49dd9cef-f9f1-4ca3-9688-a3d043211f1a",
   "metadata": {
    "execution": {
     "iopub.execute_input": "2023-07-24T14:47:44.511596Z",
     "iopub.status.busy": "2023-07-24T14:47:44.511361Z",
     "iopub.status.idle": "2023-07-24T14:47:44.516117Z",
     "shell.execute_reply": "2023-07-24T14:47:44.515569Z",
     "shell.execute_reply.started": "2023-07-24T14:47:44.511567Z"
    },
    "papermill": {},
    "tags": []
   },
   "outputs": [],
   "source": [
    "column_name = \"Link\""
   ]
  },
  {
   "cell_type": "markdown",
   "id": "189d6107-2043-4283-b2a5-7732c46c41db",
   "metadata": {
    "papermill": {},
    "tags": []
   },
   "source": [
    "## Model"
   ]
  },
  {
   "cell_type": "markdown",
   "id": "cdabf2be-140d-4509-ba25-5db3dcf41196",
   "metadata": {
    "papermill": {},
    "tags": []
   },
   "source": [
    "### Create DataFrame"
   ]
  },
  {
   "cell_type": "code",
   "execution_count": 3,
   "id": "f3cd74d4-c30a-4e29-88d8-663eb66c0215",
   "metadata": {
    "execution": {
     "iopub.execute_input": "2023-07-24T14:47:44.517291Z",
     "iopub.status.busy": "2023-07-24T14:47:44.517061Z",
     "iopub.status.idle": "2023-07-24T14:47:44.655349Z",
     "shell.execute_reply": "2023-07-24T14:47:44.654795Z",
     "shell.execute_reply.started": "2023-07-24T14:47:44.517262Z"
    },
    "papermill": {},
    "tags": []
   },
   "outputs": [
    {
     "data": {
      "text/html": [
       "<div>\n",
       "<style scoped>\n",
       "    .dataframe tbody tr th:only-of-type {\n",
       "        vertical-align: middle;\n",
       "    }\n",
       "\n",
       "    .dataframe tbody tr th {\n",
       "        vertical-align: top;\n",
       "    }\n",
       "\n",
       "    .dataframe thead th {\n",
       "        text-align: right;\n",
       "    }\n",
       "</style>\n",
       "<table border=\"1\" class=\"dataframe\">\n",
       "  <thead>\n",
       "    <tr style=\"text-align: right;\">\n",
       "      <th></th>\n",
       "      <th>Name</th>\n",
       "      <th>Link</th>\n",
       "    </tr>\n",
       "  </thead>\n",
       "  <tbody>\n",
       "    <tr>\n",
       "      <th>0</th>\n",
       "      <td>Benjamin</td>\n",
       "      <td>https://www.linkedin.com/in/benjamin-filly-054...</td>\n",
       "    </tr>\n",
       "    <tr>\n",
       "      <th>1</th>\n",
       "      <td>John</td>\n",
       "      <td>https://www.linkedin.com/in/john-doe-1234567/</td>\n",
       "    </tr>\n",
       "    <tr>\n",
       "      <th>2</th>\n",
       "      <td>Sara</td>\n",
       "      <td>https://www.linkedin.com/in/sara-smith-098765/</td>\n",
       "    </tr>\n",
       "  </tbody>\n",
       "</table>\n",
       "</div>"
      ],
      "text/plain": [
       "       Name                                               Link\n",
       "0  Benjamin  https://www.linkedin.com/in/benjamin-filly-054...\n",
       "1      John      https://www.linkedin.com/in/john-doe-1234567/\n",
       "2      Sara     https://www.linkedin.com/in/sara-smith-098765/"
      ]
     },
     "execution_count": 3,
     "metadata": {},
     "output_type": "execute_result"
    }
   ],
   "source": [
    "# Create a fake dataset\n",
    "data = {\n",
    "    \"Name\": [\"Benjamin\", \"John\", \"Sara\"],\n",
    "    \"Link\": [\n",
    "        \"https://www.linkedin.com/in/benjamin-filly-05427727a/\",\n",
    "        \"https://www.linkedin.com/in/john-doe-1234567/\",\n",
    "        \"https://www.linkedin.com/in/sara-smith-098765/\",\n",
    "    ],\n",
    "}\n",
    "\n",
    "# Create a DataFrame\n",
    "df_init = pd.DataFrame(data)\n",
    "df_init"
   ]
  },
  {
   "cell_type": "markdown",
   "id": "65294d16-c82b-41ee-b4c0-df295443fbe1",
   "metadata": {},
   "source": [
    "## Output"
   ]
  },
  {
   "cell_type": "markdown",
   "id": "ce9570c8-3380-4060-9eae-1c7b1177cfe0",
   "metadata": {
    "papermill": {},
    "tags": []
   },
   "source": [
    "### Format URL as clickable link on column"
   ]
  },
  {
   "cell_type": "code",
   "execution_count": 4,
   "id": "200d75af-79e3-4ddd-997c-bcd917afd229",
   "metadata": {
    "execution": {
     "iopub.execute_input": "2023-07-24T14:47:44.656665Z",
     "iopub.status.busy": "2023-07-24T14:47:44.656394Z",
     "iopub.status.idle": "2023-07-24T14:47:45.186610Z",
     "shell.execute_reply": "2023-07-24T14:47:45.186031Z",
     "shell.execute_reply.started": "2023-07-24T14:47:44.656633Z"
    },
    "papermill": {},
    "tags": []
   },
   "outputs": [
    {
     "data": {
      "text/html": [
       "<style type=\"text/css\">\n",
       "</style>\n",
       "<table id=\"T_aac4e\">\n",
       "  <thead>\n",
       "    <tr>\n",
       "      <th class=\"blank level0\" >&nbsp;</th>\n",
       "      <th id=\"T_aac4e_level0_col0\" class=\"col_heading level0 col0\" >Name</th>\n",
       "      <th id=\"T_aac4e_level0_col1\" class=\"col_heading level0 col1\" >Link</th>\n",
       "    </tr>\n",
       "  </thead>\n",
       "  <tbody>\n",
       "    <tr>\n",
       "      <th id=\"T_aac4e_level0_row0\" class=\"row_heading level0 row0\" >0</th>\n",
       "      <td id=\"T_aac4e_row0_col0\" class=\"data row0 col0\" >Benjamin</td>\n",
       "      <td id=\"T_aac4e_row0_col1\" class=\"data row0 col1\" ><a href=\"https://www.linkedin.com/in/benjamin-filly-05427727a/\" target=\"_blank\">https://www.linkedin.com/in/benjamin-filly-05427727a/</a></td>\n",
       "    </tr>\n",
       "    <tr>\n",
       "      <th id=\"T_aac4e_level0_row1\" class=\"row_heading level0 row1\" >1</th>\n",
       "      <td id=\"T_aac4e_row1_col0\" class=\"data row1 col0\" >John</td>\n",
       "      <td id=\"T_aac4e_row1_col1\" class=\"data row1 col1\" ><a href=\"https://www.linkedin.com/in/john-doe-1234567/\" target=\"_blank\">https://www.linkedin.com/in/john-doe-1234567/</a></td>\n",
       "    </tr>\n",
       "    <tr>\n",
       "      <th id=\"T_aac4e_level0_row2\" class=\"row_heading level0 row2\" >2</th>\n",
       "      <td id=\"T_aac4e_row2_col0\" class=\"data row2 col0\" >Sara</td>\n",
       "      <td id=\"T_aac4e_row2_col1\" class=\"data row2 col1\" ><a href=\"https://www.linkedin.com/in/sara-smith-098765/\" target=\"_blank\">https://www.linkedin.com/in/sara-smith-098765/</a></td>\n",
       "    </tr>\n",
       "  </tbody>\n",
       "</table>\n"
      ],
      "text/plain": [
       "<pandas.io.formats.style.Styler at 0x7f9cbb0abeb0>"
      ]
     },
     "execution_count": 4,
     "metadata": {},
     "output_type": "execute_result"
    }
   ],
   "source": [
    "df = df_init.copy()\n",
    "\n",
    "# Format the Link column as a clickable link in a new tab\n",
    "df = df.style.format({column_name: lambda x: f'<a href=\"{x}\" target=\"_blank\">{x}</a>'})\n",
    "df"
   ]
  },
  {
   "cell_type": "markdown",
   "id": "f2db4de5-ef54-432c-810f-75ab3d43b291",
   "metadata": {
    "papermill": {},
    "tags": []
   },
   "source": [
    " "
   ]
  }
 ],
 "metadata": {
  "kernelspec": {
   "display_name": "Python 3",
   "language": "python",
   "name": "python3"
  },
  "language_info": {
   "codemirror_mode": {
    "name": "ipython",
    "version": 3
   },
   "file_extension": ".py",
   "mimetype": "text/x-python",
   "name": "python",
   "nbconvert_exporter": "python",
   "pygments_lexer": "ipython3",
   "version": "3.9.6"
  },
  "widgets": {
   "application/vnd.jupyter.widget-state+json": {
    "state": {},
    "version_major": 2,
    "version_minor": 0
   }
  }
 },
 "nbformat": 4,
 "nbformat_minor": 5
}
