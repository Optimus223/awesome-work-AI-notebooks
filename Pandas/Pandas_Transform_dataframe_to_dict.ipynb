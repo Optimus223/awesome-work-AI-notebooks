{
 "cells": [
  {
   "cell_type": "markdown",
   "id": "73fdd6d5-d8c4-47fe-9ab6-beac569af513",
   "metadata": {
    "papermill": {},
    "tags": []
   },
   "source": [
    "<img width=\"10%\" alt=\"Naas\" src=\"https://landen.imgix.net/jtci2pxwjczr/assets/5ice39g4.png?w=160\"/>"
   ]
  },
  {
   "cell_type": "markdown",
   "id": "descending-grammar",
   "metadata": {
    "papermill": {},
    "tags": []
   },
   "source": [
    "# Pandas - Transform dataframe to dict\n",
    "<a href=\"https://app.naas.ai/user-redirect/naas/downloader?url=https://raw.githubusercontent.com/jupyter-naas/awesome-notebooks/master/YahooFinance/YahooFinance_Get_data_from_ticker.ipynb\" target=\"_parent\"><img src=\"https://naasai-public.s3.eu-west-3.amazonaws.com/open_in_naas.svg\"/></a>"
   ]
  },
  {
   "cell_type": "markdown",
   "id": "ea0f4d52-5687-4719-9b35-e5abcc48328b",
   "metadata": {
    "papermill": {},
    "tags": []
   },
   "source": [
    "**Tags:** #pandas #dict #snippet #yahoofinance #naas_drivers "
   ]
  },
  {
   "cell_type": "markdown",
   "id": "16d1f778-1306-4cb9-a405-f217a4cc8051",
   "metadata": {
    "papermill": {},
    "tags": []
   },
   "source": [
    "**Author:** [Florent Ravenel](https://www.linkedin.com/in/florent-ravenel/)"
   ]
  },
  {
   "cell_type": "markdown",
   "id": "solid-substance",
   "metadata": {
    "execution": {
     "iopub.execute_input": "2021-05-05T18:38:30.568241Z",
     "iopub.status.busy": "2021-05-05T18:38:30.567916Z",
     "iopub.status.idle": "2021-05-05T18:38:30.578313Z",
     "shell.execute_reply": "2021-05-05T18:38:30.577374Z",
     "shell.execute_reply.started": "2021-05-05T18:38:30.568205Z"
    },
    "papermill": {},
    "tags": []
   },
   "source": [
    "With this template, you can convert dataframe to dictionary in pandas WITHOUT index"
   ]
  },
  {
   "cell_type": "markdown",
   "id": "d17064b3-00b5-4d71-96ba-38c6af450919",
   "metadata": {
    "papermill": {},
    "tags": []
   },
   "source": [
    "## Input"
   ]
  },
  {
   "cell_type": "markdown",
   "id": "1d8f5e20-bcfc-4ceb-83ad-0856868327a0",
   "metadata": {
    "papermill": {},
    "tags": []
   },
   "source": [
    "### Import libraries"
   ]
  },
  {
   "cell_type": "code",
   "execution_count": 1,
   "id": "fd368ba3-fc40-46db-af1d-a62d11573923",
   "metadata": {
    "execution": {
     "iopub.execute_input": "2022-03-07T16:12:06.781481Z",
     "iopub.status.busy": "2022-03-07T16:12:06.781219Z",
     "iopub.status.idle": "2022-03-07T16:12:07.378228Z",
     "shell.execute_reply": "2022-03-07T16:12:07.377553Z",
     "shell.execute_reply.started": "2022-03-07T16:12:06.781418Z"
    },
    "papermill": {},
    "tags": []
   },
   "outputs": [],
   "source": [
    "from naas_drivers import yahoofinance"
   ]
  },
  {
   "cell_type": "markdown",
   "id": "79126baa-2a38-4861-8130-66b4c4e13621",
   "metadata": {
    "papermill": {},
    "tags": []
   },
   "source": [
    "### Input parameters\n",
    "👉 Here you can change the ticker, timeframe and add moving averages analysis"
   ]
  },
  {
   "cell_type": "code",
   "execution_count": 2,
   "id": "exceptional-pearl",
   "metadata": {
    "execution": {
     "iopub.execute_input": "2022-03-07T16:12:16.296907Z",
     "iopub.status.busy": "2022-03-07T16:12:16.296661Z",
     "iopub.status.idle": "2022-03-07T16:12:16.300179Z",
     "shell.execute_reply": "2022-03-07T16:12:16.299516Z",
     "shell.execute_reply.started": "2022-03-07T16:12:16.296882Z"
    },
    "papermill": {},
    "tags": []
   },
   "outputs": [],
   "source": [
    "ticker = \"TSLA\"\n",
    "date_from = -100\n",
    "date_to = 'today'"
   ]
  },
  {
   "cell_type": "markdown",
   "id": "0a1ad0db-97b3-4f84-a82e-517595d95f17",
   "metadata": {
    "papermill": {},
    "tags": []
   },
   "source": [
    "## Model"
   ]
  },
  {
   "cell_type": "markdown",
   "id": "manufactured-allocation",
   "metadata": {
    "papermill": {},
    "tags": []
   },
   "source": [
    "### Get dataframe from Yahoo Finance"
   ]
  },
  {
   "cell_type": "code",
   "execution_count": 6,
   "id": "powered-ensemble",
   "metadata": {
    "execution": {
     "iopub.execute_input": "2022-03-07T16:12:48.650759Z",
     "iopub.status.busy": "2022-03-07T16:12:48.650530Z",
     "iopub.status.idle": "2022-03-07T16:12:48.723751Z",
     "shell.execute_reply": "2022-03-07T16:12:48.723124Z",
     "shell.execute_reply.started": "2022-03-07T16:12:48.650736Z"
    },
    "papermill": {},
    "tags": []
   },
   "outputs": [
    {
     "data": {
      "text/html": [
       "<div>\n",
       "<style scoped>\n",
       "    .dataframe tbody tr th:only-of-type {\n",
       "        vertical-align: middle;\n",
       "    }\n",
       "\n",
       "    .dataframe tbody tr th {\n",
       "        vertical-align: top;\n",
       "    }\n",
       "\n",
       "    .dataframe thead th {\n",
       "        text-align: right;\n",
       "    }\n",
       "</style>\n",
       "<table border=\"1\" class=\"dataframe\">\n",
       "  <thead>\n",
       "    <tr style=\"text-align: right;\">\n",
       "      <th></th>\n",
       "      <th>Date</th>\n",
       "      <th>Open</th>\n",
       "      <th>High</th>\n",
       "      <th>Low</th>\n",
       "      <th>Close</th>\n",
       "      <th>Adj Close</th>\n",
       "      <th>Volume</th>\n",
       "      <th>Ticker</th>\n",
       "    </tr>\n",
       "  </thead>\n",
       "  <tbody>\n",
       "    <tr>\n",
       "      <th>0</th>\n",
       "      <td>2022-03-02</td>\n",
       "      <td>872.130005</td>\n",
       "      <td>886.479980</td>\n",
       "      <td>844.270020</td>\n",
       "      <td>879.890015</td>\n",
       "      <td>879.890015</td>\n",
       "      <td>24881100</td>\n",
       "      <td>TSLA</td>\n",
       "    </tr>\n",
       "    <tr>\n",
       "      <th>1</th>\n",
       "      <td>2022-03-03</td>\n",
       "      <td>878.770020</td>\n",
       "      <td>886.440002</td>\n",
       "      <td>832.599976</td>\n",
       "      <td>839.289978</td>\n",
       "      <td>839.289978</td>\n",
       "      <td>20541200</td>\n",
       "      <td>TSLA</td>\n",
       "    </tr>\n",
       "    <tr>\n",
       "      <th>2</th>\n",
       "      <td>2022-03-04</td>\n",
       "      <td>849.099976</td>\n",
       "      <td>855.650024</td>\n",
       "      <td>825.159973</td>\n",
       "      <td>838.289978</td>\n",
       "      <td>838.289978</td>\n",
       "      <td>22333200</td>\n",
       "      <td>TSLA</td>\n",
       "    </tr>\n",
       "    <tr>\n",
       "      <th>3</th>\n",
       "      <td>2022-03-07</td>\n",
       "      <td>856.299988</td>\n",
       "      <td>866.140015</td>\n",
       "      <td>825.290100</td>\n",
       "      <td>836.080017</td>\n",
       "      <td>836.080017</td>\n",
       "      <td>10043121</td>\n",
       "      <td>TSLA</td>\n",
       "    </tr>\n",
       "  </tbody>\n",
       "</table>\n",
       "</div>"
      ],
      "text/plain": [
       "        Date        Open        High         Low       Close   Adj Close  \\\n",
       "0 2022-03-02  872.130005  886.479980  844.270020  879.890015  879.890015   \n",
       "1 2022-03-03  878.770020  886.440002  832.599976  839.289978  839.289978   \n",
       "2 2022-03-04  849.099976  855.650024  825.159973  838.289978  838.289978   \n",
       "3 2022-03-07  856.299988  866.140015  825.290100  836.080017  836.080017   \n",
       "\n",
       "     Volume Ticker  \n",
       "0  24881100   TSLA  \n",
       "1  20541200   TSLA  \n",
       "2  22333200   TSLA  \n",
       "3  10043121   TSLA  "
      ]
     },
     "execution_count": 6,
     "metadata": {},
     "output_type": "execute_result"
    }
   ],
   "source": [
    "df_yahoo = yahoofinance.get(ticker,\n",
    "                            date_from=-5)\n",
    "df_yahoo"
   ]
  },
  {
   "cell_type": "markdown",
   "id": "d71d8ad4-697d-4d4e-be8c-6c7d54d174e0",
   "metadata": {
    "papermill": {},
    "tags": []
   },
   "source": [
    "## Output"
   ]
  },
  {
   "cell_type": "markdown",
   "id": "great-visiting",
   "metadata": {
    "papermill": {},
    "tags": []
   },
   "source": [
    "### Transform dataframe\n",
    "Params = orient\n",
    "- list: keys are column names, values are lists of column data\n",
    "- records: each row becomes a dictionary where key is column name and value is the data in the cell"
   ]
  },
  {
   "cell_type": "code",
   "execution_count": 9,
   "id": "isolated-harrison",
   "metadata": {
    "execution": {
     "iopub.execute_input": "2022-03-07T16:13:34.316682Z",
     "iopub.status.busy": "2022-03-07T16:13:34.316447Z",
     "iopub.status.idle": "2022-03-07T16:13:34.322582Z",
     "shell.execute_reply": "2022-03-07T16:13:34.321940Z",
     "shell.execute_reply.started": "2022-03-07T16:13:34.316659Z"
    },
    "papermill": {},
    "tags": []
   },
   "outputs": [
    {
     "data": {
      "text/plain": [
       "[{'Date': Timestamp('2022-03-02 00:00:00'),\n",
       "  'Open': 872.130005,\n",
       "  'High': 886.47998,\n",
       "  'Low': 844.27002,\n",
       "  'Close': 879.890015,\n",
       "  'Adj Close': 879.890015,\n",
       "  'Volume': 24881100,\n",
       "  'Ticker': 'TSLA'},\n",
       " {'Date': Timestamp('2022-03-03 00:00:00'),\n",
       "  'Open': 878.77002,\n",
       "  'High': 886.440002,\n",
       "  'Low': 832.599976,\n",
       "  'Close': 839.289978,\n",
       "  'Adj Close': 839.289978,\n",
       "  'Volume': 20541200,\n",
       "  'Ticker': 'TSLA'},\n",
       " {'Date': Timestamp('2022-03-04 00:00:00'),\n",
       "  'Open': 849.099976,\n",
       "  'High': 855.650024,\n",
       "  'Low': 825.159973,\n",
       "  'Close': 838.289978,\n",
       "  'Adj Close': 838.289978,\n",
       "  'Volume': 22333200,\n",
       "  'Ticker': 'TSLA'},\n",
       " {'Date': Timestamp('2022-03-07 00:00:00'),\n",
       "  'Open': 856.299988,\n",
       "  'High': 866.140015,\n",
       "  'Low': 825.2901,\n",
       "  'Close': 836.080017,\n",
       "  'Adj Close': 836.080017,\n",
       "  'Volume': 10043121,\n",
       "  'Ticker': 'TSLA'}]"
      ]
     },
     "execution_count": 9,
     "metadata": {},
     "output_type": "execute_result"
    }
   ],
   "source": [
    "dict_yahoo = df_yahoo.to_dict(orient=\"records\")\n",
    "dict_yahoo"
   ]
  }
 ],
 "metadata": {
  "kernelspec": {
   "display_name": "Python 3",
   "language": "python",
   "name": "python3"
  },
  "language_info": {
   "codemirror_mode": {
    "name": "ipython",
    "version": 3
   },
   "file_extension": ".py",
   "mimetype": "text/x-python",
   "name": "python",
   "nbconvert_exporter": "python",
   "pygments_lexer": "ipython3",
   "version": "3.8.8"
  },
  "papermill": {
   "default_parameters": {},
   "environment_variables": {},
   "parameters": {},
   "version": "2.3.3"
  },
  "toc-autonumbering": false,
  "widgets": {
   "application/vnd.jupyter.widget-state+json": {
    "state": {},
    "version_major": 2,
    "version_minor": 0
   }
  }
 },
 "nbformat": 4,
 "nbformat_minor": 5
}
