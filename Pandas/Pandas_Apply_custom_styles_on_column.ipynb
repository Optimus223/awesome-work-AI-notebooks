{
 "cells": [
  {
   "cell_type": "markdown",
   "id": "bda4f92a-5665-47de-af7c-a849f55131fa",
   "metadata": {
    "papermill": {},
    "tags": []
   },
   "source": [
    "<img width=\"10%\" alt=\"Naas\" src=\"https://landen.imgix.net/jtci2pxwjczr/assets/5ice39g4.png?w=160\"/>"
   ]
  },
  {
   "cell_type": "markdown",
   "id": "1ed72b90-de08-425a-8a76-f4175a522417",
   "metadata": {
    "papermill": {},
    "tags": []
   },
   "source": [
    "# Pandas - Apply custom styles on column"
   ]
  },
  {
   "cell_type": "markdown",
   "id": "3513100b-5299-47f9-be21-a336f3972de1",
   "metadata": {
    "papermill": {},
    "tags": []
   },
   "source": [
    "**Tags:** #pandas #dataframe #style #column #apply #custom"
   ]
  },
  {
   "cell_type": "markdown",
   "id": "32fb4036-3916-4d3b-b0bf-859172a35938",
   "metadata": {
    "papermill": {},
    "tags": []
   },
   "source": [
    "**Author:** [Benjamin Filly](https://www.linkedin.com/in/benjamin-filly-05427727a/)"
   ]
  },
  {
   "cell_type": "markdown",
   "id": "ec10fa8a-dabc-4f5f-b4f5-72fd29771f97",
   "metadata": {
    "papermill": {},
    "tags": []
   },
   "source": [
    "**Last update:** 2023-07-24 (Created: 2023-07-24)"
   ]
  },
  {
   "cell_type": "markdown",
   "id": "7f751cdd-5e8a-447c-89e4-3a1bca2047ed",
   "metadata": {
    "papermill": {},
    "tags": []
   },
   "source": [
    "**Description:** This notebook will show how to apply custom styles on a column of a Pandas DataFrame. It is usefull for data analysis and data visualization."
   ]
  },
  {
   "cell_type": "markdown",
   "id": "1cb0cf94-ae27-4aae-bece-e93d1a874a14",
   "metadata": {
    "papermill": {},
    "tags": []
   },
   "source": [
    "**References:**\n- [Pandas Documentation - Styling](https://pandas.pydata.org/pandas-docs/stable/user_guide/style.html)\n- [Pandas Documentation - Styling with functions](https://pandas.pydata.org/pandas-docs/stable/user_guide/style.html#Styling-with-functions)"
   ]
  },
  {
   "cell_type": "markdown",
   "id": "3076e4fe-2b09-44c5-adac-00a6d1f5a747",
   "metadata": {
    "papermill": {},
    "tags": []
   },
   "source": [
    "## Input"
   ]
  },
  {
   "cell_type": "markdown",
   "id": "63b43b3a-7bc2-4529-b9f9-4698aadc35c6",
   "metadata": {
    "papermill": {},
    "tags": []
   },
   "source": [
    "### Import libraries"
   ]
  },
  {
   "cell_type": "code",
   "execution_count": null,
   "id": "63fda2d7-d1d9-4fd3-a752-13d9214d9acc",
   "metadata": {
    "papermill": {},
    "tags": []
   },
   "source": "import pandas as pd",
   "outputs": []
  },
  {
   "cell_type": "markdown",
   "id": "8704a59c-d01d-4eba-94a7-2a16a37837df",
   "metadata": {
    "papermill": {},
    "tags": []
   },
   "source": [
    "### Setup Variables"
   ]
  },
  {
   "cell_type": "code",
   "execution_count": null,
   "id": "87d45a29-4fc3-4c06-af32-3536d91f6c55",
   "metadata": {
    "papermill": {},
    "tags": []
   },
   "source": "# Create a fake dataset\ndata = {\"Name\": [\"Tom\", \"nick\", \"krish\", \"jack\"], \"Age\": [20, 21, 19, 18]}",
   "outputs": []
  },
  {
   "cell_type": "markdown",
   "id": "22d01f0c-e5f7-4b18-a72a-89d014c1850f",
   "metadata": {
    "papermill": {},
    "tags": []
   },
   "source": [
    "## Model"
   ]
  },
  {
   "cell_type": "markdown",
   "id": "3f55ae9b-848a-41dd-9481-81393017fb2b",
   "metadata": {
    "papermill": {},
    "tags": []
   },
   "source": [
    "### Apply custom styles on column"
   ]
  },
  {
   "cell_type": "markdown",
   "id": "507b2b97-26e9-4d10-a5b9-eecebdf40435",
   "metadata": {
    "papermill": {},
    "tags": []
   },
   "source": [
    "This function will apply custom styles on a column of a Pandas DataFrame."
   ]
  },
  {
   "cell_type": "code",
   "execution_count": null,
   "id": "928371a0-185c-40a3-a0b2-d8277d73e385",
   "metadata": {
    "papermill": {},
    "tags": []
   },
   "source": "# Create a DataFrame\ndf = pd.DataFrame(data)\n\n\n# Define a function to apply custom styles\ndef highlight_col(x):\n    r = \"background-color: red\"\n    df1 = pd.DataFrame(\"\", index=x.index, columns=x.columns)\n    df1.iloc[:, 0] = r\n    return df1\n\n\n# Apply the function\ndf.style.apply(highlight_col, axis=None)",
   "outputs": []
  },
  {
   "cell_type": "markdown",
   "id": "a2e5fbbf-c19e-4b50-aa43-ae0562fc90c3",
   "metadata": {
    "papermill": {},
    "tags": []
   },
   "source": [
    "## Output"
   ]
  },
  {
   "cell_type": "markdown",
   "id": "b40705f5-8bbf-4a89-b56b-a0c2daa8c6cc",
   "metadata": {
    "papermill": {},
    "tags": []
   },
   "source": [
    "### Display result"
   ]
  },
  {
   "cell_type": "code",
   "execution_count": null,
   "id": "ffd0378b-42a0-4f59-8375-d6427ebc9094",
   "metadata": {
    "papermill": {},
    "tags": []
   },
   "source": "# Display the DataFrame\ndf",
   "outputs": []
  },
  {
   "cell_type": "markdown",
   "id": "7dd3e762-582f-4a65-a49c-38ccc6dd125f",
   "metadata": {
    "papermill": {},
    "tags": []
   },
   "source": [
    "The column `Name` is now highlighted in red."
   ]
  },
  {
   "cell_type": "markdown",
   "id": "01887b1e-f8da-4098-864e-08e56ab76643",
   "metadata": {
    "papermill": {},
    "tags": []
   },
   "source": [
    " "
   ]
  },
  {
   "cell_type": "markdown",
   "id": "f723f540-66d9-4de2-9682-043f8160d73a",
   "metadata": {
    "papermill": {},
    "tags": []
   },
   "source": [
    " "
   ]
  }
 ],
 "metadata": {
  "kernelspec": {
   "display_name": "Python 3",
   "language": "python",
   "name": "python3"
  },
  "language_info": {
   "codemirror_mode": {
    "name": "ipython",
    "version": 3
   },
   "file_extension": ".py",
   "mimetype": "text/x-python",
   "name": "python",
   "nbconvert_exporter": "python",
   "pygments_lexer": "ipython3",
   "version": "3.9.6"
  },
  "widgets": {
   "application/vnd.jupyter.widget-state+json": {
    "state": {},
    "version_major": 2,
    "version_minor": 0
   }
  }
 },
 "nbformat": 4,
 "nbformat_minor": 5
}