{
 "cells": [
  {
   "cell_type": "markdown",
   "id": "naas-logo",
   "metadata": {
    "papermill": {},
    "tags": [
     "naas"
    ]
   },
   "source": [
    "<img width=\"10%\" alt=\"Naas\" src=\"https://landen.imgix.net/jtci2pxwjczr/assets/5ice39g4.png?w=160\"/>"
   ]
  },
  {
   "cell_type": "markdown",
   "id": "db17b79b",
   "metadata": {
    "papermill": {},
    "tags": []
   },
   "source": [
    "# Pandas - Iterate over DataFrame rows as namedtuples\n",
    "<a href=\"https://app.naas.ai/user-redirect/naas/downloader?url=https://raw.githubusercontent.com/jupyter-naas/awesome-notebooks/master/Pandas/Pandas_Iterate_over_DataFrame_rows.ipynb\" target=\"_parent\"><img src=\"https://naasai-public.s3.eu-west-3.amazonaws.com/open_in_naas.svg\"/></a><br><br><a href=\"https://github.com/jupyter-naas/awesome-notebooks/issues/new?assignees=&labels=&template=template-request.md&title=Tool+-+Action+of+the+notebook+\">Template request</a> | <a href=\"https://github.com/jupyter-naas/awesome-notebooks/issues/new?assignees=&labels=bug&template=bug_report.md&title=Pandas+-+Iterate+over+DataFrame+rows:+Error+short+description\">Bug report</a> | <a href=\"https://app.naas.ai/user-redirect/naas/downloader?url=https://raw.githubusercontent.com/jupyter-naas/awesome-notebooks/master/Naas/Naas_Start_data_product.ipynb\" target=\"_parent\">Generate Data Product</a>"
   ]
  },
  {
   "cell_type": "markdown",
   "id": "13800319",
   "metadata": {
    "papermill": {},
    "tags": []
   },
   "source": [
    "**Tags:** #pandas #python #loops #snippet #operations #namedtuples #dataframe"
   ]
  },
  {
   "cell_type": "markdown",
   "id": "8761af40",
   "metadata": {
    "papermill": {},
    "tags": []
   },
   "source": [
    "**Author:** [Benjamin Filly](https://www.linkedin.com/in/benjamin-filly-05427727a/)"
   ]
  },
  {
   "cell_type": "markdown",
   "id": "naas-description",
   "metadata": {
    "papermill": {},
    "tags": [
     "description"
    ]
   },
   "source": [
    "**Description:** This notebook demonstrates how to iterate over DataFrame rows as namedtuples"
   ]
  },
  {
   "cell_type": "markdown",
   "id": "660db7fe-d9cb-4697-beb1-c67128d62c0f",
   "metadata": {
    "papermill": {},
    "tags": []
   },
   "source": [
    "**References:**\n",
    "- [Pandas - DataFrame.itertuples](https://pandas.pydata.org/docs/reference/api/pandas.DataFrame.itertuples.html)"
   ]
  },
  {
   "cell_type": "markdown",
   "id": "d6ed8917",
   "metadata": {
    "papermill": {},
    "tags": []
   },
   "source": [
    "## Input"
   ]
  },
  {
   "cell_type": "markdown",
   "id": "fb1b9009",
   "metadata": {
    "papermill": {},
    "tags": []
   },
   "source": [
    "### Import libraries"
   ]
  },
  {
   "cell_type": "code",
   "execution_count": 1,
   "id": "aefef37f",
   "metadata": {
    "execution": {
     "iopub.execute_input": "2023-06-07T13:37:06.900526Z",
     "iopub.status.busy": "2023-06-07T13:37:06.900216Z",
     "iopub.status.idle": "2023-06-07T13:37:07.399935Z",
     "shell.execute_reply": "2023-06-07T13:37:07.398733Z",
     "shell.execute_reply.started": "2023-06-07T13:37:06.900442Z"
    },
    "papermill": {},
    "tags": []
   },
   "outputs": [],
   "source": [
    "import pandas as pd\n",
    "import numpy as np\n",
    "from collections import namedtuple"
   ]
  },
  {
   "cell_type": "markdown",
   "id": "93232477",
   "metadata": {
    "papermill": {},
    "tags": []
   },
   "source": [
    "## Model"
   ]
  },
  {
   "cell_type": "markdown",
   "id": "07164b8b",
   "metadata": {
    "papermill": {},
    "tags": []
   },
   "source": [
    "### Create Sample Dataframe "
   ]
  },
  {
   "cell_type": "code",
   "execution_count": 2,
   "id": "d919085d",
   "metadata": {
    "execution": {
     "iopub.execute_input": "2023-06-07T13:37:08.123983Z",
     "iopub.status.busy": "2023-06-07T13:37:08.123672Z",
     "iopub.status.idle": "2023-06-07T13:37:08.148822Z",
     "shell.execute_reply": "2023-06-07T13:37:08.148106Z",
     "shell.execute_reply.started": "2023-06-07T13:37:08.123959Z"
    },
    "papermill": {},
    "tags": []
   },
   "outputs": [
    {
     "data": {
      "text/html": [
       "<div>\n",
       "<style scoped>\n",
       "    .dataframe tbody tr th:only-of-type {\n",
       "        vertical-align: middle;\n",
       "    }\n",
       "\n",
       "    .dataframe tbody tr th {\n",
       "        vertical-align: top;\n",
       "    }\n",
       "\n",
       "    .dataframe thead th {\n",
       "        text-align: right;\n",
       "    }\n",
       "</style>\n",
       "<table border=\"1\" class=\"dataframe\">\n",
       "  <thead>\n",
       "    <tr style=\"text-align: right;\">\n",
       "      <th></th>\n",
       "      <th>student_id</th>\n",
       "      <th>student_name</th>\n",
       "      <th>student_course</th>\n",
       "    </tr>\n",
       "  </thead>\n",
       "  <tbody>\n",
       "    <tr>\n",
       "      <th>0</th>\n",
       "      <td>1</td>\n",
       "      <td>Peter</td>\n",
       "      <td>Physics</td>\n",
       "    </tr>\n",
       "    <tr>\n",
       "      <th>1</th>\n",
       "      <td>2</td>\n",
       "      <td>Dolly</td>\n",
       "      <td>Chemistry</td>\n",
       "    </tr>\n",
       "    <tr>\n",
       "      <th>2</th>\n",
       "      <td>3</td>\n",
       "      <td>Maggie</td>\n",
       "      <td>Chemistry</td>\n",
       "    </tr>\n",
       "    <tr>\n",
       "      <th>3</th>\n",
       "      <td>4</td>\n",
       "      <td>David</td>\n",
       "      <td>Physics</td>\n",
       "    </tr>\n",
       "    <tr>\n",
       "      <th>4</th>\n",
       "      <td>5</td>\n",
       "      <td>Isabelle</td>\n",
       "      <td>Physics</td>\n",
       "    </tr>\n",
       "    <tr>\n",
       "      <th>5</th>\n",
       "      <td>6</td>\n",
       "      <td>Harry</td>\n",
       "      <td>Biology</td>\n",
       "    </tr>\n",
       "    <tr>\n",
       "      <th>6</th>\n",
       "      <td>7</td>\n",
       "      <td>Akin</td>\n",
       "      <td>Biology</td>\n",
       "    </tr>\n",
       "    <tr>\n",
       "      <th>7</th>\n",
       "      <td>8</td>\n",
       "      <td>Abbey</td>\n",
       "      <td>Physics</td>\n",
       "    </tr>\n",
       "    <tr>\n",
       "      <th>8</th>\n",
       "      <td>9</td>\n",
       "      <td>Victoria</td>\n",
       "      <td>Biology</td>\n",
       "    </tr>\n",
       "    <tr>\n",
       "      <th>9</th>\n",
       "      <td>10</td>\n",
       "      <td>Sam</td>\n",
       "      <td>Physics</td>\n",
       "    </tr>\n",
       "  </tbody>\n",
       "</table>\n",
       "</div>"
      ],
      "text/plain": [
       "   student_id student_name student_course\n",
       "0           1        Peter        Physics\n",
       "1           2        Dolly      Chemistry\n",
       "2           3       Maggie      Chemistry\n",
       "3           4        David        Physics\n",
       "4           5     Isabelle        Physics\n",
       "5           6        Harry        Biology\n",
       "6           7         Akin        Biology\n",
       "7           8        Abbey        Physics\n",
       "8           9     Victoria        Biology\n",
       "9          10          Sam        Physics"
      ]
     },
     "execution_count": 2,
     "metadata": {},
     "output_type": "execute_result"
    }
   ],
   "source": [
    "dict1 = {\n",
    "    \"student_id\": [1, 2, 3, 4, 5, 6, 7, 8, 9, 10],\n",
    "    \"student_name\": [\n",
    "        \"Peter\",\n",
    "        \"Dolly\",\n",
    "        \"Maggie\",\n",
    "        \"David\",\n",
    "        \"Isabelle\",\n",
    "        \"Harry\",\n",
    "        \"Akin\",\n",
    "        \"Abbey\",\n",
    "        \"Victoria\",\n",
    "        \"Sam\",\n",
    "    ],\n",
    "    \"student_course\": np.random.choice([\"Biology\", \"Physics\", \"Chemistry\"], size=10),\n",
    "}\n",
    "\n",
    "df = pd.DataFrame(dict1)\n",
    "df"
   ]
  },
  {
   "cell_type": "markdown",
   "id": "ae5b8e44-215f-4531-a60a-3a751af7f915",
   "metadata": {},
   "source": [
    "### Definition of namedtuple"
   ]
  },
  {
   "cell_type": "code",
   "execution_count": 3,
   "id": "fccb29ca-85b5-47ad-abf8-bebcb844508f",
   "metadata": {
    "execution": {
     "iopub.execute_input": "2023-06-07T13:37:12.333806Z",
     "iopub.status.busy": "2023-06-07T13:37:12.333528Z",
     "iopub.status.idle": "2023-06-07T13:37:12.337791Z",
     "shell.execute_reply": "2023-06-07T13:37:12.336820Z",
     "shell.execute_reply.started": "2023-06-07T13:37:12.333780Z"
    },
    "tags": []
   },
   "outputs": [],
   "source": [
    "Student = namedtuple(\"Student\", [\"index\"] + df.columns.tolist())"
   ]
  },
  {
   "cell_type": "markdown",
   "id": "02d1fc4b",
   "metadata": {
    "papermill": {},
    "tags": []
   },
   "source": [
    "## Output"
   ]
  },
  {
   "cell_type": "markdown",
   "id": "83016df9-3584-4d9a-967a-21956a1d38ad",
   "metadata": {
    "papermill": {},
    "tags": []
   },
   "source": [
    "### Display result"
   ]
  },
  {
   "cell_type": "code",
   "execution_count": 4,
   "id": "b57e1865",
   "metadata": {
    "execution": {
     "iopub.execute_input": "2023-06-07T13:37:13.786128Z",
     "iopub.status.busy": "2023-06-07T13:37:13.785835Z",
     "iopub.status.idle": "2023-06-07T13:37:13.804286Z",
     "shell.execute_reply": "2023-06-07T13:37:13.802326Z",
     "shell.execute_reply.started": "2023-06-07T13:37:13.786097Z"
    },
    "papermill": {},
    "tags": []
   },
   "outputs": [
    {
     "name": "stdout",
     "output_type": "stream",
     "text": [
      "Index: 0\n",
      "Student ID: 1\n",
      "Name: Peter\n",
      "Course: Physics\n",
      "\n",
      "Index: 1\n",
      "Student ID: 2\n",
      "Name: Dolly\n",
      "Course: Chemistry\n",
      "\n",
      "Index: 2\n",
      "Student ID: 3\n",
      "Name: Maggie\n",
      "Course: Chemistry\n",
      "\n",
      "Index: 3\n",
      "Student ID: 4\n",
      "Name: David\n",
      "Course: Physics\n",
      "\n",
      "Index: 4\n",
      "Student ID: 5\n",
      "Name: Isabelle\n",
      "Course: Physics\n",
      "\n",
      "Index: 5\n",
      "Student ID: 6\n",
      "Name: Harry\n",
      "Course: Biology\n",
      "\n",
      "Index: 6\n",
      "Student ID: 7\n",
      "Name: Akin\n",
      "Course: Biology\n",
      "\n",
      "Index: 7\n",
      "Student ID: 8\n",
      "Name: Abbey\n",
      "Course: Physics\n",
      "\n",
      "Index: 8\n",
      "Student ID: 9\n",
      "Name: Victoria\n",
      "Course: Biology\n",
      "\n",
      "Index: 9\n",
      "Student ID: 10\n",
      "Name: Sam\n",
      "Course: Physics\n",
      "\n"
     ]
    }
   ],
   "source": [
    "for row in df.itertuples(index=True, name=\"Student\"):\n",
    "    student = Student(*row)\n",
    "    print(\"Index:\", student.index)\n",
    "    print(\"Student ID:\", student.student_id)\n",
    "    print(\"Name:\", student.student_name)\n",
    "    print(\"Course:\", student.student_course)\n",
    "    print()"
   ]
  }
 ],
 "metadata": {
  "kernelspec": {
   "display_name": "Python 3",
   "language": "python",
   "name": "python3"
  },
  "language_info": {
   "codemirror_mode": {
    "name": "ipython",
    "version": 3
   },
   "file_extension": ".py",
   "mimetype": "text/x-python",
   "name": "python",
   "nbconvert_exporter": "python",
   "pygments_lexer": "ipython3",
   "version": "3.9.6"
  },
  "naas": {
   "notebook_id": "cf0600b0-e939-4229-a5e5-acd2c0b2d680",
   "notebook_path": "Python/Python_Looping_Over_Dataframe.ipynb"
  },
  "papermill": {
   "default_parameters": {},
   "environment_variables": {},
   "parameters": {},
   "version": "2.3.3"
  }
 },
 "nbformat": 4,
 "nbformat_minor": 5
}
