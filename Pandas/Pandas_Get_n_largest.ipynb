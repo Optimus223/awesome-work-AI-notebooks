{
 "cells": [
  {
   "cell_type": "markdown",
   "id": "72107363-8e1e-4f5c-9595-8e809c698a8c",
   "metadata": {
    "papermill": {},
    "tags": []
   },
   "source": [
    "<img width=\"10%\" alt=\"Naas\" src=\"https://landen.imgix.net/jtci2pxwjczr/assets/5ice39g4.png?w=160\"/>"
   ]
  },
  {
   "cell_type": "markdown",
   "id": "6107c499-6fab-4533-8c46-0a5ccbd27ae4",
   "metadata": {
    "papermill": {},
    "tags": []
   },
   "source": [
    "# Pandas - Get n largest"
   ]
  },
  {
   "cell_type": "markdown",
   "id": "7ce32b98-58ff-44b1-a7c7-7ec5ea94270e",
   "metadata": {
    "papermill": {},
    "tags": []
   },
   "source": [
    "**Tags:** #pandas #dataframe #nlargest #python #data #analysis"
   ]
  },
  {
   "cell_type": "markdown",
   "id": "4383ebea-182c-429a-81a8-b48fee77e21c",
   "metadata": {
    "papermill": {},
    "tags": []
   },
   "source": [
    "**Author:** [Benjamin Filly](https://www.linkedin.com/in/benjamin-filly-05427727a/)"
   ]
  },
  {
   "cell_type": "markdown",
   "id": "2529cbfb-8e4c-4ad8-ab4a-8a8ca33d1613",
   "metadata": {
    "papermill": {},
    "tags": []
   },
   "source": [
    "**Description:** This notebook will demonstrate how to use the `nlargest` function in Pandas to get the n largest values from a DataFrame. This is useful for data analysis and data manipulation."
   ]
  },
  {
   "cell_type": "markdown",
   "id": "b1d3e030-eb12-4ebc-9dc9-7b2ba650557d",
   "metadata": {
    "papermill": {},
    "tags": []
   },
   "source": [
    "**References:**\n",
    "- [Pandas Documentation - nlargest](https://pandas.pydata.org/docs/reference/api/pandas.DataFrame.nlargest.html)\n",
    "- [Stack Overflow - nlargest](https://stackoverflow.com/questions/15741759/find-maximum-value-of-a-column-and-return-the-corresponding-row-values-using-pan)"
   ]
  },
  {
   "cell_type": "markdown",
   "id": "6d499732-c826-48e6-b4b2-f7f0753a0742",
   "metadata": {
    "papermill": {},
    "tags": []
   },
   "source": [
    "## Input"
   ]
  },
  {
   "cell_type": "markdown",
   "id": "6aa88164-2146-4fff-8d19-1005d08a774b",
   "metadata": {
    "papermill": {},
    "tags": []
   },
   "source": [
    "### Import libraries"
   ]
  },
  {
   "cell_type": "code",
   "execution_count": 1,
   "id": "bda282c9-dcb7-4c42-b01f-eac2cf7236cf",
   "metadata": {
    "execution": {
     "iopub.execute_input": "2023-06-14T09:59:39.385637Z",
     "iopub.status.busy": "2023-06-14T09:59:39.384999Z",
     "iopub.status.idle": "2023-06-14T09:59:39.693850Z",
     "shell.execute_reply": "2023-06-14T09:59:39.693258Z",
     "shell.execute_reply.started": "2023-06-14T09:59:39.385541Z"
    },
    "papermill": {},
    "tags": []
   },
   "outputs": [],
   "source": [
    "import pandas as pd"
   ]
  },
  {
   "cell_type": "markdown",
   "id": "c5e9d8c3-c888-4906-bf56-084dab0a1d23",
   "metadata": {
    "papermill": {},
    "tags": []
   },
   "source": [
    "### Setup Variables"
   ]
  },
  {
   "cell_type": "markdown",
   "id": "81d0cdd8-9645-43f8-abbc-dbe792803230",
   "metadata": {},
   "source": [
    "- `n`: Number of items to retrieve.\n",
    "- `column`: Column name or names to order by."
   ]
  },
  {
   "cell_type": "code",
   "execution_count": 2,
   "id": "75d3be94-1524-49aa-bc12-0b7c539d0db1",
   "metadata": {
    "execution": {
     "iopub.execute_input": "2023-06-14T09:59:39.695466Z",
     "iopub.status.busy": "2023-06-14T09:59:39.695192Z",
     "iopub.status.idle": "2023-06-14T09:59:39.698386Z",
     "shell.execute_reply": "2023-06-14T09:59:39.697766Z",
     "shell.execute_reply.started": "2023-06-14T09:59:39.695435Z"
    }
   },
   "outputs": [],
   "source": [
    "n = 2\n",
    "column = \"Age\""
   ]
  },
  {
   "cell_type": "markdown",
   "id": "6028d174-738c-484c-8451-a839807577d3",
   "metadata": {
    "papermill": {},
    "tags": []
   },
   "source": [
    "## Model"
   ]
  },
  {
   "cell_type": "markdown",
   "id": "8d46485c-9fb1-405f-a65d-e47e31f154d0",
   "metadata": {},
   "source": [
    "### Create dataframe"
   ]
  },
  {
   "cell_type": "code",
   "execution_count": 3,
   "id": "d5bfba4c-d6a9-4574-b17c-c24b01f22933",
   "metadata": {
    "execution": {
     "iopub.execute_input": "2023-06-14T09:59:39.699661Z",
     "iopub.status.busy": "2023-06-14T09:59:39.699439Z",
     "iopub.status.idle": "2023-06-14T09:59:39.807917Z",
     "shell.execute_reply": "2023-06-14T09:59:39.807430Z",
     "shell.execute_reply.started": "2023-06-14T09:59:39.699634Z"
    }
   },
   "outputs": [],
   "source": [
    "# Create a fake dataset\n",
    "data = {\"Name\": [\"Tom\", \"nick\", \"krish\", \"jack\"], \"Age\": [20, 21, 19, 18]}\n",
    "# Create a DataFrame\n",
    "df = pd.DataFrame(data)"
   ]
  },
  {
   "cell_type": "markdown",
   "id": "b884bad7-0cc5-4e4b-884f-1120731be024",
   "metadata": {
    "papermill": {},
    "tags": []
   },
   "source": [
    "## Output"
   ]
  },
  {
   "cell_type": "markdown",
   "id": "faed143e-a7ce-42e9-8022-544641e917e7",
   "metadata": {
    "papermill": {},
    "tags": []
   },
   "source": [
    "### Get n largest"
   ]
  },
  {
   "cell_type": "markdown",
   "id": "281f4425-c5c3-46fc-9b8e-e72a7444c1fc",
   "metadata": {
    "papermill": {},
    "tags": []
   },
   "source": [
    "The `nlargest` function can be used to get the n largest values from a DataFrame. The two largest values are displayed below."
   ]
  },
  {
   "cell_type": "code",
   "execution_count": 4,
   "id": "cb0d35a5-c7ff-4963-877c-a1280d5cfb8a",
   "metadata": {
    "execution": {
     "iopub.execute_input": "2023-06-14T09:59:39.809106Z",
     "iopub.status.busy": "2023-06-14T09:59:39.808869Z",
     "iopub.status.idle": "2023-06-14T09:59:39.938486Z",
     "shell.execute_reply": "2023-06-14T09:59:39.937863Z",
     "shell.execute_reply.started": "2023-06-14T09:59:39.809072Z"
    },
    "papermill": {},
    "tags": []
   },
   "outputs": [
    {
     "data": {
      "text/html": [
       "<div>\n",
       "<style scoped>\n",
       "    .dataframe tbody tr th:only-of-type {\n",
       "        vertical-align: middle;\n",
       "    }\n",
       "\n",
       "    .dataframe tbody tr th {\n",
       "        vertical-align: top;\n",
       "    }\n",
       "\n",
       "    .dataframe thead th {\n",
       "        text-align: right;\n",
       "    }\n",
       "</style>\n",
       "<table border=\"1\" class=\"dataframe\">\n",
       "  <thead>\n",
       "    <tr style=\"text-align: right;\">\n",
       "      <th></th>\n",
       "      <th>Name</th>\n",
       "      <th>Age</th>\n",
       "    </tr>\n",
       "  </thead>\n",
       "  <tbody>\n",
       "    <tr>\n",
       "      <th>1</th>\n",
       "      <td>nick</td>\n",
       "      <td>21</td>\n",
       "    </tr>\n",
       "    <tr>\n",
       "      <th>0</th>\n",
       "      <td>Tom</td>\n",
       "      <td>20</td>\n",
       "    </tr>\n",
       "  </tbody>\n",
       "</table>\n",
       "</div>"
      ],
      "text/plain": [
       "   Name  Age\n",
       "1  nick   21\n",
       "0   Tom   20"
      ]
     },
     "execution_count": 4,
     "metadata": {},
     "output_type": "execute_result"
    }
   ],
   "source": [
    "# D\n",
    "df.nlargest(n, column)"
   ]
  },
  {
   "cell_type": "markdown",
   "id": "8da19651-0cf2-48d1-ae40-1d84039986a8",
   "metadata": {
    "papermill": {},
    "tags": []
   },
   "source": [
    " "
   ]
  }
 ],
 "metadata": {
  "kernelspec": {
   "display_name": "Python 3",
   "language": "python",
   "name": "python3"
  },
  "language_info": {
   "codemirror_mode": {
    "name": "ipython",
    "version": 3
   },
   "file_extension": ".py",
   "mimetype": "text/x-python",
   "name": "python",
   "nbconvert_exporter": "python",
   "pygments_lexer": "ipython3",
   "version": "3.9.6"
  },
  "widgets": {
   "application/vnd.jupyter.widget-state+json": {
    "state": {},
    "version_major": 2,
    "version_minor": 0
   }
  }
 },
 "nbformat": 4,
 "nbformat_minor": 5
}
