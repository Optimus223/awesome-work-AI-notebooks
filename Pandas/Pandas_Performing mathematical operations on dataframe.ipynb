{
 "cells": [
  {
   "cell_type": "markdown",
   "id": "bda4f92a-5665-47de-af7c-a849f55131fa",
   "metadata": {
    "papermill": {},
    "tags": []
   },
   "source": [
    "<img width=\"8%\" alt=\"Pandas.png\" src=\"https://raw.githubusercontent.com/jupyter-naas/awesome-notebooks/master/.github/assets/logos/Pandas.png\" style=\"border-radius: 15%\">"
   ]
  },
  {
   "cell_type": "markdown",
   "id": "1ed72b90-de08-425a-8a76-f4175a522417",
   "metadata": {
    "papermill": {},
    "tags": []
   },
   "source": [
    "# Pandas - Performing mathematical operations on dataframe\n",
    "<a href=\"https://app.naas.ai/user-redirect/naas/downloader?url=https://raw.githubusercontent.com/jupyter-naas/awesome-notebooks/master/Pandas/Pandas_Apply_custom_styles_on_column.ipynb\" target=\"_parent\"><img src=\"https://naasai-public.s3.eu-west-3.amazonaws.com/Open_in_Naas_Lab.svg\"/></a><br><br><a href=\"https://bit.ly/3JyWIk6\">Give Feedback</a> | <a href=\"https://github.com/jupyter-naas/awesome-notebooks/issues/new?assignees=&labels=bug&template=bug_report.md&title=Pandas+-+Apply+custom+styles+on+column:+Error+short+description\">Bug report</a>"
   ]
  },
  {
   "cell_type": "markdown",
   "id": "3513100b-5299-47f9-be21-a336f3972de1",
   "metadata": {
    "papermill": {},
    "tags": []
   },
   "source": [
    "**Tags:** #pandas #dataframe #style #column #apply #custom"
   ]
  },
  {
   "cell_type": "markdown",
   "id": "32fb4036-3916-4d3b-b0bf-859172a35938",
   "metadata": {
    "papermill": {},
    "tags": []
   },
   "source": [
    "**Author:** [Siddharth Goyal](https://www.linkedin.com/in/siddharth-goyal-8b1a4814b/)"
   ]
  },
  {
   "cell_type": "markdown",
   "id": "ec10fa8a-dabc-4f5f-b4f5-72fd29771f97",
   "metadata": {
    "papermill": {},
    "tags": []
   },
   "source": [
    "**Last update:** 2023-11-22 (Created: 2023-11-22)"
   ]
  },
  {
   "cell_type": "markdown",
   "id": "7f751cdd-5e8a-447c-89e4-3a1bca2047ed",
   "metadata": {
    "papermill": {},
    "tags": []
   },
   "source": [
    "**Description:** This notebook will help the users to perform mathematical operation like, sum, median, mode, mean, standard deviation, count on the data present in a column of dataframe"
   ]
  },
  {
   "cell_type": "markdown",
   "id": "1cb0cf94-ae27-4aae-bece-e93d1a874a14",
   "metadata": {
    "papermill": {},
    "tags": []
   },
   "source": [
    "**References:**\n",
    "- [Pandas Documentation - Sum](https://pandas.pydata.org/docs/reference/api/pandas.DataFrame.sum.html)\n",
    "- [Pandas Documentation - Mean](https://pandas.pydata.org/docs/reference/api/pandas.DataFrame.mean.html)\n",
    "- [Pandas Documentation - Mode](https://pandas.pydata.org/docs/reference/api/pandas.DataFrame.mode.html)\n",
    "- [Pandas Documentation - Median](https://pandas.pydata.org/docs/reference/api/pandas.DataFrame.median.html)\n",
    "- [Pandas Documentation - Standard Deviation](https://pandas.pydata.org/docs/reference/api/pandas.DataFrame.std.html)\n",
    "- [Pandas Documentation - Count](https://pandas.pydata.org/docs/reference/api/pandas.DataFrame.count.html)"
   ]
  },
  {
   "cell_type": "markdown",
   "id": "3076e4fe-2b09-44c5-adac-00a6d1f5a747",
   "metadata": {
    "papermill": {},
    "tags": []
   },
   "source": [
    "## Input"
   ]
  },
  {
   "cell_type": "markdown",
   "id": "63b43b3a-7bc2-4529-b9f9-4698aadc35c6",
   "metadata": {
    "papermill": {},
    "tags": []
   },
   "source": [
    "### Import libraries"
   ]
  },
  {
   "cell_type": "code",
   "execution_count": 11,
   "id": "63fda2d7-d1d9-4fd3-a752-13d9214d9acc",
   "metadata": {
    "execution": {
     "iopub.execute_input": "2023-11-23T02:42:27.455125Z",
     "iopub.status.busy": "2023-11-23T02:42:27.454890Z",
     "iopub.status.idle": "2023-11-23T02:42:27.458132Z",
     "shell.execute_reply": "2023-11-23T02:42:27.457467Z",
     "shell.execute_reply.started": "2023-11-23T02:42:27.455100Z"
    },
    "papermill": {},
    "tags": []
   },
   "outputs": [],
   "source": [
    "import pandas as pd"
   ]
  },
  {
   "cell_type": "markdown",
   "id": "22d01f0c-e5f7-4b18-a72a-89d014c1850f",
   "metadata": {
    "papermill": {},
    "tags": []
   },
   "source": [
    "## Model"
   ]
  },
  {
   "cell_type": "markdown",
   "id": "8704a59c-d01d-4eba-94a7-2a16a37837df",
   "metadata": {
    "papermill": {},
    "tags": []
   },
   "source": [
    "### Create DataFrame"
   ]
  },
  {
   "cell_type": "code",
   "execution_count": 80,
   "id": "87d45a29-4fc3-4c06-af32-3536d91f6c55",
   "metadata": {
    "execution": {
     "iopub.execute_input": "2023-11-23T03:03:10.359379Z",
     "iopub.status.busy": "2023-11-23T03:03:10.359146Z",
     "iopub.status.idle": "2023-11-23T03:03:10.363988Z",
     "shell.execute_reply": "2023-11-23T03:03:10.363335Z",
     "shell.execute_reply.started": "2023-11-23T03:03:10.359354Z"
    },
    "papermill": {},
    "tags": []
   },
   "outputs": [],
   "source": [
    "# Sample DataFrame\n",
    "data = {\n",
    "    'Name': ['Alice', 'Bob', 'Charlie', 'Alice', 'Eva'],\n",
    "    'Score': [95, -80, 70, -80, 85],\n",
    "    'Age': [25, 32, 18, None, 28],\n",
    "    'Sales': [1200, 980, 1500, 850, 1750]\n",
    "}\n",
    "\n",
    "df = pd.DataFrame(data)"
   ]
  },
  {
   "cell_type": "code",
   "execution_count": 81,
   "id": "caabc74e-bbb6-437b-8867-28aaac638948",
   "metadata": {
    "execution": {
     "iopub.execute_input": "2023-11-23T03:03:10.599333Z",
     "iopub.status.busy": "2023-11-23T03:03:10.599106Z",
     "iopub.status.idle": "2023-11-23T03:03:10.611422Z",
     "shell.execute_reply": "2023-11-23T03:03:10.610841Z",
     "shell.execute_reply.started": "2023-11-23T03:03:10.599309Z"
    },
    "tags": []
   },
   "outputs": [
    {
     "data": {
      "text/html": [
       "<div>\n",
       "<style scoped>\n",
       "    .dataframe tbody tr th:only-of-type {\n",
       "        vertical-align: middle;\n",
       "    }\n",
       "\n",
       "    .dataframe tbody tr th {\n",
       "        vertical-align: top;\n",
       "    }\n",
       "\n",
       "    .dataframe thead th {\n",
       "        text-align: right;\n",
       "    }\n",
       "</style>\n",
       "<table border=\"1\" class=\"dataframe\">\n",
       "  <thead>\n",
       "    <tr style=\"text-align: right;\">\n",
       "      <th></th>\n",
       "      <th>Name</th>\n",
       "      <th>Score</th>\n",
       "      <th>Age</th>\n",
       "      <th>Sales</th>\n",
       "    </tr>\n",
       "  </thead>\n",
       "  <tbody>\n",
       "    <tr>\n",
       "      <th>0</th>\n",
       "      <td>Alice</td>\n",
       "      <td>95</td>\n",
       "      <td>25.0</td>\n",
       "      <td>1200</td>\n",
       "    </tr>\n",
       "    <tr>\n",
       "      <th>1</th>\n",
       "      <td>Bob</td>\n",
       "      <td>-80</td>\n",
       "      <td>32.0</td>\n",
       "      <td>980</td>\n",
       "    </tr>\n",
       "    <tr>\n",
       "      <th>2</th>\n",
       "      <td>Charlie</td>\n",
       "      <td>70</td>\n",
       "      <td>18.0</td>\n",
       "      <td>1500</td>\n",
       "    </tr>\n",
       "    <tr>\n",
       "      <th>3</th>\n",
       "      <td>Alice</td>\n",
       "      <td>-80</td>\n",
       "      <td>NaN</td>\n",
       "      <td>850</td>\n",
       "    </tr>\n",
       "    <tr>\n",
       "      <th>4</th>\n",
       "      <td>Eva</td>\n",
       "      <td>85</td>\n",
       "      <td>28.0</td>\n",
       "      <td>1750</td>\n",
       "    </tr>\n",
       "  </tbody>\n",
       "</table>\n",
       "</div>"
      ],
      "text/plain": [
       "      Name  Score   Age  Sales\n",
       "0    Alice     95  25.0   1200\n",
       "1      Bob    -80  32.0    980\n",
       "2  Charlie     70  18.0   1500\n",
       "3    Alice    -80   NaN    850\n",
       "4      Eva     85  28.0   1750"
      ]
     },
     "execution_count": 81,
     "metadata": {},
     "output_type": "execute_result"
    }
   ],
   "source": [
    "df"
   ]
  },
  {
   "cell_type": "markdown",
   "id": "3f55ae9b-848a-41dd-9481-81393017fb2b",
   "metadata": {
    "papermill": {},
    "tags": []
   },
   "source": [
    "### Sum\n",
    "The `sum` function will help to get the sum of any column in the dataframe"
   ]
  },
  {
   "cell_type": "code",
   "execution_count": 82,
   "id": "3e05ee25-4089-44f4-9c8d-4ad1f151e397",
   "metadata": {
    "execution": {
     "iopub.execute_input": "2023-11-23T03:03:10.926118Z",
     "iopub.status.busy": "2023-11-23T03:03:10.925890Z",
     "iopub.status.idle": "2023-11-23T03:03:10.929732Z",
     "shell.execute_reply": "2023-11-23T03:03:10.928942Z",
     "shell.execute_reply.started": "2023-11-23T03:03:10.926094Z"
    },
    "papermill": {},
    "tags": []
   },
   "outputs": [],
   "source": [
    "#We will do this the mathematical operations on column Age\n",
    "\n",
    "ageSum = df['Age'].sum()"
   ]
  },
  {
   "cell_type": "markdown",
   "id": "1e137ae0-e639-4ec0-9ec0-0a1be9d75aac",
   "metadata": {},
   "source": [
    "### Mean\n",
    "The `mean` function will help to get the mean of any column in the dataframe"
   ]
  },
  {
   "cell_type": "code",
   "execution_count": 83,
   "id": "7bd08345-431b-4338-a764-6833eb06b51b",
   "metadata": {
    "execution": {
     "iopub.execute_input": "2023-11-23T03:03:11.201467Z",
     "iopub.status.busy": "2023-11-23T03:03:11.201204Z",
     "iopub.status.idle": "2023-11-23T03:03:11.206809Z",
     "shell.execute_reply": "2023-11-23T03:03:11.205836Z",
     "shell.execute_reply.started": "2023-11-23T03:03:11.201440Z"
    },
    "tags": []
   },
   "outputs": [
    {
     "data": {
      "text/plain": [
       "25.75"
      ]
     },
     "execution_count": 83,
     "metadata": {},
     "output_type": "execute_result"
    }
   ],
   "source": [
    "#We will do this the mathematical operations on column Age\n",
    "\n",
    "ageMean = df['Age'].mean()\n",
    "ageMean"
   ]
  },
  {
   "cell_type": "markdown",
   "id": "d0799092-b280-4ec8-a261-ab08572a7984",
   "metadata": {
    "papermill": {},
    "tags": []
   },
   "source": [
    "### Mode\n",
    "The `mode` function will help to get the unique values of a row in the dataframe"
   ]
  },
  {
   "cell_type": "code",
   "execution_count": 84,
   "id": "f6cfa95f-8f85-40a3-83cd-18edeb21692b",
   "metadata": {
    "execution": {
     "iopub.execute_input": "2023-11-23T03:03:11.484357Z",
     "iopub.status.busy": "2023-11-23T03:03:11.484014Z",
     "iopub.status.idle": "2023-11-23T03:03:11.488426Z",
     "shell.execute_reply": "2023-11-23T03:03:11.487724Z",
     "shell.execute_reply.started": "2023-11-23T03:03:11.484315Z"
    },
    "papermill": {},
    "tags": []
   },
   "outputs": [],
   "source": [
    "#We will do this the mathematical operation on Age column\n",
    "\n",
    "NameMode = df['Name'].mode()"
   ]
  },
  {
   "cell_type": "markdown",
   "id": "0ed200d1-4ca5-437f-b5d6-4d226a229f26",
   "metadata": {
    "papermill": {},
    "tags": []
   },
   "source": [
    "### Median\n",
    "The `median` function will help to get the median of any column in the dataframe"
   ]
  },
  {
   "cell_type": "code",
   "execution_count": 85,
   "id": "27c05a6a-c1e5-4b4f-a575-9b4e3e6ace39",
   "metadata": {
    "execution": {
     "iopub.execute_input": "2023-11-23T03:03:11.790317Z",
     "iopub.status.busy": "2023-11-23T03:03:11.789846Z",
     "iopub.status.idle": "2023-11-23T03:03:11.793839Z",
     "shell.execute_reply": "2023-11-23T03:03:11.793112Z",
     "shell.execute_reply.started": "2023-11-23T03:03:11.790278Z"
    },
    "papermill": {},
    "tags": []
   },
   "outputs": [],
   "source": [
    "#We will do this the mathematical operations on column Age\n",
    "\n",
    "ageMedian = df['Age'].median()"
   ]
  },
  {
   "cell_type": "markdown",
   "id": "a2e5fbbf-c19e-4b50-aa43-ae0562fc90c3",
   "metadata": {
    "papermill": {},
    "tags": []
   },
   "source": [
    "### Standard Deviation\n",
    "The `std` function will help to get the Standard Deviation of any column in the dataframe"
   ]
  },
  {
   "cell_type": "code",
   "execution_count": 86,
   "id": "ffd0378b-42a0-4f59-8375-d6427ebc9094",
   "metadata": {
    "execution": {
     "iopub.execute_input": "2023-11-23T03:03:12.179215Z",
     "iopub.status.busy": "2023-11-23T03:03:12.178979Z",
     "iopub.status.idle": "2023-11-23T03:03:12.182705Z",
     "shell.execute_reply": "2023-11-23T03:03:12.181968Z",
     "shell.execute_reply.started": "2023-11-23T03:03:12.179191Z"
    },
    "papermill": {},
    "tags": []
   },
   "outputs": [],
   "source": [
    "#We will do this the mathematical operations on column Age\n",
    "\n",
    "ageStandDev = df['Age'].std()"
   ]
  },
  {
   "cell_type": "markdown",
   "id": "61067205-063e-4020-972a-81d40c65c918",
   "metadata": {},
   "source": [
    "### Count\n",
    "The `count` function will help to get the total number of non Null rows of any column in the dataframe"
   ]
  },
  {
   "cell_type": "code",
   "execution_count": 89,
   "id": "46da4d29-4cf9-4a9e-94cb-1a3d3c60489d",
   "metadata": {
    "execution": {
     "iopub.execute_input": "2023-11-23T03:03:38.157860Z",
     "iopub.status.busy": "2023-11-23T03:03:38.157624Z",
     "iopub.status.idle": "2023-11-23T03:03:38.161570Z",
     "shell.execute_reply": "2023-11-23T03:03:38.160806Z",
     "shell.execute_reply.started": "2023-11-23T03:03:38.157836Z"
    },
    "tags": []
   },
   "outputs": [],
   "source": [
    "#We will do this the mathematical operations on column Age\n",
    "\n",
    "notNullCount = df['Age'].count()"
   ]
  },
  {
   "cell_type": "markdown",
   "id": "df976c2f-9abb-41e8-8776-a0748d59bb9a",
   "metadata": {},
   "source": [
    "## Output"
   ]
  },
  {
   "cell_type": "code",
   "execution_count": 88,
   "id": "afd28121-c410-4518-922d-fc866b55282b",
   "metadata": {
    "execution": {
     "iopub.execute_input": "2023-11-23T03:03:13.550300Z",
     "iopub.status.busy": "2023-11-23T03:03:13.550057Z",
     "iopub.status.idle": "2023-11-23T03:03:13.556032Z",
     "shell.execute_reply": "2023-11-23T03:03:13.555396Z",
     "shell.execute_reply.started": "2023-11-23T03:03:13.550276Z"
    },
    "tags": []
   },
   "outputs": [
    {
     "name": "stdout",
     "output_type": "stream",
     "text": [
      "Sum of Age Column is:  103.0\n",
      "Mean of Age Column is:  25.75\n",
      "Mode of Name Column is:\n",
      " 0    Alice\n",
      "dtype: object\n",
      "Median of Age Column is:  26.5\n",
      "Standard Deviation of Age Column is:  5.909032633745278\n",
      "Count of non-null rows in Name column:  4\n"
     ]
    }
   ],
   "source": [
    "print(\"Sum of Age Column is: \", ageSum)\n",
    "print(\"Mean of Age Column is: \", ageMean)\n",
    "print(\"Mode of Name Column is:\\n\", NameMode)\n",
    "print(\"Median of Age Column is: \",ageMedian)\n",
    "print(\"Standard Deviation of Age Column is: \", ageStandDev)\n",
    "print(\"Count of non-null rows in Name column: \", notNullCount)"
   ]
  }
 ],
 "metadata": {
  "kernelspec": {
   "display_name": "Python 3",
   "language": "python",
   "name": "python3"
  },
  "language_info": {
   "codemirror_mode": {
    "name": "ipython",
    "version": 3
   },
   "file_extension": ".py",
   "mimetype": "text/x-python",
   "name": "python",
   "nbconvert_exporter": "python",
   "pygments_lexer": "ipython3",
   "version": "3.9.6"
  },
  "naas": {
   "notebook_id": "5d27e3bd7fdfda696205d0e879b9a00e31ece1a64cae3c864ab22b006a0ab495",
   "notebook_path": "Pandas/Pandas_Apply_custom_styles_on_column.ipynb"
  },
  "papermill": {
   "default_parameters": {},
   "environment_variables": {},
   "parameters": {},
   "version": "2.4.0"
  },
  "widgets": {
   "application/vnd.jupyter.widget-state+json": {
    "state": {},
    "version_major": 2,
    "version_minor": 0
   }
  }
 },
 "nbformat": 4,
 "nbformat_minor": 5
}
