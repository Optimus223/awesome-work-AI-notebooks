{
 "cells": [
  {
   "cell_type": "markdown",
   "id": "naas-logo",
   "metadata": {
    "papermill": {},
    "tags": [
     "naas"
    ]
   },
   "source": [
    "<img width=\"10%\" alt=\"Naas\" src=\"https://landen.imgix.net/jtci2pxwjczr/assets/5ice39g4.png?w=160\"/>"
   ]
  },
  {
   "cell_type": "markdown",
   "id": "danish-description",
   "metadata": {
    "papermill": {},
    "tags": []
   },
   "source": [
    "# FAO - Consumer price indice\n",
    "<a href=\"https://app.naas.ai/user-redirect/naas/downloader?url=https://raw.githubusercontent.com/jupyter-naas/awesome-notebooks/master/FAO/FAO_Consumer_price_indice.ipynb\" target=\"_parent\"><img src=\"https://naasai-public.s3.eu-west-3.amazonaws.com/open_in_naas.svg\"/></a><br><br><a href=\"https://github.com/jupyter-naas/awesome-notebooks/issues/new?assignees=&labels=&template=template-request.md&title=Tool+-+Action+of+the+notebook+\">Template request</a> | <a href=\"https://github.com/jupyter-naas/awesome-notebooks/issues/new?assignees=&labels=bug&template=bug_report.md&title=FAO+-+Consumer+price+indice:+Error+short+description\">Bug report</a>"
   ]
  },
  {
   "cell_type": "markdown",
   "id": "62ba1749-0c22-45aa-b0d6-2a53a4892a8a",
   "metadata": {
    "papermill": {},
    "tags": []
   },
   "source": [
    "**Tags:** #fao #opendata #food #analytics #plotly"
   ]
  },
  {
   "cell_type": "markdown",
   "id": "naas-author",
   "metadata": {
    "papermill": {},
    "tags": [
     "naas"
    ]
   },
   "source": [
    "**Author:** [Dereck DANIEL](https://github.com/DANIEL-Dereck)"
   ]
  },
  {
   "cell_type": "markdown",
   "id": "hired-arrangement",
   "metadata": {
    "papermill": {},
    "tags": []
   },
   "source": [
    "Food Balance Sheet presents a comprehensive picture of the pattern of a country's food supply during a specified reference period. The food balance sheet shows for each food item - i.e. each primary commodity and a number of processed commodities potentially available for human consumption - the sources of supply and its utilization. The total quantity of foodstuffs produced in a country added to the total quantity imported and adjusted to any change in stocks that may have occurred since the beginning of the reference period gives the supply available during that period. On the utilization side a distinction is made between the quantities exported, fed to livestock, used for seed, put to manufacture for food use and non-food uses, losses during storage and transportation, and food supplies available for human consumption. The per caput supply of each such food item available for human consumption is then obtained by dividing the respective quantity by the related data on the population actually partaking of it. Data on per caput food supplies are expressed in terms of quantity and - by applying appropriate food composition factors for all primary and processed products - also in terms of caloric value and protein and fat content.<br/>\n",
    "Source: http://www.fao.org/faostat/en/?#data/FBS\n",
    "\n"
   ]
  },
  {
   "cell_type": "markdown",
   "id": "revolutionary-armenia",
   "metadata": {
    "papermill": {},
    "tags": []
   },
   "source": [
    "## Input"
   ]
  },
  {
   "cell_type": "markdown",
   "id": "7a3c9fe3-edee-419e-97bf-e50f539877fe",
   "metadata": {
    "papermill": {},
    "tags": []
   },
   "source": [
    "### Import librairies"
   ]
  },
  {
   "cell_type": "code",
   "execution_count": null,
   "id": "mexican-receiver",
   "metadata": {
    "papermill": {},
    "tags": []
   },
   "outputs": [],
   "source": [
    "import requests, zipfile, io\n",
    "import matplotlib.pyplot as plt\n",
    "import naas_drivers\n",
    "import pandas as pd\n",
    "import plotly.express as px\n",
    "import csv\n",
    "import codecs\n",
    "import plotly.graph_objects as go"
   ]
  },
  {
   "cell_type": "markdown",
   "id": "094e7f5d-960e-45a2-bdfe-871ca9b75d7b",
   "metadata": {
    "papermill": {},
    "tags": []
   },
   "source": [
    "### Set the variables"
   ]
  },
  {
   "cell_type": "code",
   "execution_count": null,
   "id": "66db6920-78fc-470c-9e92-828f72979fd6",
   "metadata": {
    "papermill": {},
    "tags": []
   },
   "outputs": [],
   "source": [
    "filename = \"ConsumerPriceIndices_E_All_Data_(Normalized).csv\" \n",
    "zip_file_url = \"http://fenixservices.fao.org/faostat/static/bulkdownloads/ConsumerPriceIndices_E_All_Data_(Normalized).zip\""
   ]
  },
  {
   "cell_type": "markdown",
   "id": "535b0adc-7204-4095-ae1e-a6e262c2739e",
   "metadata": {
    "papermill": {},
    "tags": []
   },
   "source": [
    "### Get the data"
   ]
  },
  {
   "cell_type": "code",
   "execution_count": null,
   "id": "172ba8ab-af51-422a-b5d9-b9bd79415776",
   "metadata": {
    "papermill": {},
    "tags": []
   },
   "outputs": [],
   "source": [
    "r = requests.get(zip_file_url, stream=True)\n",
    "z = zipfile.ZipFile(io.BytesIO(r.content))\n",
    "z.extractall()\n",
    "\n",
    "df = pd.read_csv(filename, encoding='latin-1')\n",
    "df.to_csv(filename, index=False)\n",
    "df = pd.read_csv(filename)\n",
    "\n",
    "df.head()"
   ]
  },
  {
   "cell_type": "markdown",
   "id": "played-contrast",
   "metadata": {
    "papermill": {},
    "tags": []
   },
   "source": [
    "## Model"
   ]
  },
  {
   "cell_type": "markdown",
   "id": "7dd43b30-7d15-4267-87e8-2909244d0a28",
   "metadata": {
    "papermill": {},
    "tags": []
   },
   "source": [
    "### Sort the data"
   ]
  },
  {
   "cell_type": "code",
   "execution_count": null,
   "id": "exterior-florida",
   "metadata": {
    "papermill": {},
    "tags": []
   },
   "outputs": [],
   "source": [
    "df = df[df['Item Code'] == 23013]\n",
    "df = df[df.Year == 2020]\n",
    "dfmax10 = df.groupby(['Area', 'Year']).mean().reset_index().sort_values('Value', ascending=False).reset_index()\n",
    "dfmin10 = df.groupby(['Area', 'Year']).mean().reset_index().sort_values('Value', ascending=True).reset_index()"
   ]
  },
  {
   "cell_type": "markdown",
   "id": "cooked-confidence",
   "metadata": {
    "papermill": {},
    "tags": []
   },
   "source": [
    "## Output"
   ]
  },
  {
   "cell_type": "markdown",
   "id": "ab19aa8e-5b0c-4e2d-a4df-9bc19729ddc2",
   "metadata": {
    "papermill": {},
    "tags": []
   },
   "source": [
    "### Display the plot of the Top 10 of the biggest evolution in 2020"
   ]
  },
  {
   "cell_type": "code",
   "execution_count": null,
   "id": "interpreted-animation",
   "metadata": {
    "papermill": {},
    "tags": []
   },
   "outputs": [],
   "source": [
    "dfmax10y = dfmax10['Area'].head(10).iloc[::-1]\n",
    "dfmax10x = dfmax10['Value'].head(10).iloc[::-1]\n",
    "\n",
    "fig = go.Figure(go.Bar(\n",
    "            x=dfmax10x,\n",
    "            y=dfmax10y,\n",
    "            orientation='h'))\n",
    "\n",
    "fig.update_xaxes(type=\"log\")\n",
    "fig.update_layout(title_text='Top 10 of the biggest evolution in 2020')\n",
    "\n",
    "fig.show()"
   ]
  },
  {
   "cell_type": "markdown",
   "id": "2a88ef55-9a63-4017-aeb4-4013ef5e30e3",
   "metadata": {
    "papermill": {},
    "tags": []
   },
   "source": [
    "### Display the plot of the Top 10 of the worst evolution in 2020"
   ]
  },
  {
   "cell_type": "code",
   "execution_count": null,
   "id": "original-bundle",
   "metadata": {
    "papermill": {},
    "tags": []
   },
   "outputs": [],
   "source": [
    "dfmin10y = dfmin10['Area'].head(10).iloc[::-1]\n",
    "dfmin10x = dfmin10['Value'].head(10).iloc[::-1]\n",
    "\n",
    "fig = go.Figure(go.Bar(\n",
    "            x=dfmin10x,\n",
    "            y=dfmin10y,\n",
    "            orientation='h'))\n",
    "\n",
    "fig.update_layout(title_text='Top 10 of the worst evolution in 2020')\n",
    "fig.show()"
   ]
  }
 ],
 "metadata": {
  "kernelspec": {
   "display_name": "Python 3",
   "language": "python",
   "name": "python3"
  },
  "language_info": {
   "codemirror_mode": {
    "name": "ipython",
    "version": 3
   },
   "file_extension": ".py",
   "mimetype": "text/x-python",
   "name": "python",
   "nbconvert_exporter": "python",
   "pygments_lexer": "ipython3",
   "version": "3.9.6"
  },
  "naas": {
   "notebook_id": "c3d07b45-99d0-4ed1-90fe-6bd93f8e8090",
   "notebook_path": "FAO/FAO_Consumer_price_indice.ipynb"
  },
  "papermill": {
   "default_parameters": {},
   "environment_variables": {},
   "parameters": {},
   "version": "2.3.3"
  }
 },
 "nbformat": 4,
 "nbformat_minor": 5
}