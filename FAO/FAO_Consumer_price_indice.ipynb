{
 "cells": [
  {
   "cell_type": "markdown",
   "id": "danish-description",
   "metadata": {
    "papermill": {},
    "tags": []
   },
   "source": [
    "# FAO - Consumer price indice\n",
    "<a href=\"https://app.naas.ai/user-redirect/naas/downloader?url=https://raw.githubusercontent.com/jupyter-naas/awesome-notebooks/master/FAO/FAO_Consumer_price_indice.ipynb\" target=\"_parent\">\n",
    "<img src=\"https://img.shields.io/badge/-Open%20in%20Naas-success?labelColor=000000&logo=data:image/svg+xml;base64,PD94bWwgdmVyc2lvbj0iMS4wIiBlbmNvZGluZz0iVVRGLTgiPz4KPHN2ZyB3aWR0aD0iMTAyNHB4IiBoZWlnaHQ9IjEwMjRweCIgdmlld0JveD0iMCAwIDEwMjQgMTAyNCIgeG1sbnM9Imh0dHA6Ly93d3cudzMub3JnLzIwMDAvc3ZnIiB4bWxuczp4bGluaz0iaHR0cDovL3d3dy53My5vcmcvMTk5OS94bGluayIgdmVyc2lvbj0iMS4xIj4KIDwhLS0gR2VuZXJhdGVkIGJ5IFBpeGVsbWF0b3IgUHJvIDIuMC41IC0tPgogPGRlZnM+CiAgPHRleHQgaWQ9InN0cmluZyIgdHJhbnNmb3JtPSJtYXRyaXgoMS4wIDAuMCAwLjAgMS4wIDIyOC4wIDU0LjUpIiBmb250LWZhbWlseT0iQ29tZm9ydGFhLVJlZ3VsYXIsIENvbWZvcnRhYSIgZm9udC1zaXplPSI4MDAiIHRleHQtZGVjb3JhdGlvbj0ibm9uZSIgZmlsbD0iI2ZmZmZmZiIgeD0iMS4xOTk5OTk5OTk5OTk5ODg2IiB5PSI3MDUuMCI+bjwvdGV4dD4KIDwvZGVmcz4KIDx1c2UgaWQ9Im4iIHhsaW5rOmhyZWY9IiNzdHJpbmciLz4KPC9zdmc+Cg==\"/>\n",
    "</a>"
   ]
  },
  {
   "cell_type": "markdown",
   "id": "hired-arrangement",
   "metadata": {
    "papermill": {},
    "tags": []
   },
   "source": [
    "Food Balance Sheet presents a comprehensive picture of the pattern of a country's food supply during a specified reference period. The food balance sheet shows for each food item - i.e. each primary commodity and a number of processed commodities potentially available for human consumption - the sources of supply and its utilization. The total quantity of foodstuffs produced in a country added to the total quantity imported and adjusted to any change in stocks that may have occurred since the beginning of the reference period gives the supply available during that period. On the utilization side a distinction is made between the quantities exported, fed to livestock, used for seed, put to manufacture for food use and non-food uses, losses during storage and transportation, and food supplies available for human consumption. The per caput supply of each such food item available for human consumption is then obtained by dividing the respective quantity by the related data on the population actually partaking of it. Data on per caput food supplies are expressed in terms of quantity and - by applying appropriate food composition factors for all primary and processed products - also in terms of caloric value and protein and fat content.<br/>\n",
    "Source: http://www.fao.org/faostat/en/?#data/FBS\n",
    "\n"
   ]
  },
  {
   "cell_type": "markdown",
   "id": "revolutionary-armenia",
   "metadata": {
    "papermill": {},
    "tags": []
   },
   "source": [
    "## Input"
   ]
  },
  {
   "cell_type": "code",
   "execution_count": null,
   "id": "mexican-receiver",
   "metadata": {
    "execution": {
     "iopub.execute_input": "2021-06-10T07:53:48.180438Z",
     "iopub.status.busy": "2021-06-10T07:53:48.180118Z",
     "iopub.status.idle": "2021-06-10T07:53:51.807880Z",
     "shell.execute_reply": "2021-06-10T07:53:51.807146Z",
     "shell.execute_reply.started": "2021-06-10T07:53:48.180315Z"
    },
    "papermill": {},
    "tags": []
   },
   "outputs": [],
   "source": [
    "import requests, zipfile, io\n",
    "import matplotlib.pyplot as plt\n",
    "import naas_drivers\n",
    "import pandas as pd\n",
    "import plotly.express as px\n",
    "import csv\n",
    "import codecs\n",
    "import plotly.graph_objects as go\n",
    "\n",
    "filename = \"ConsumerPriceIndices_E_All_Data_(Normalized).csv\" \n",
    "zip_file_url = \"http://fenixservices.fao.org/faostat/static/bulkdownloads/ConsumerPriceIndices_E_All_Data_(Normalized).zip\"\n",
    "\n",
    "r = requests.get(zip_file_url, stream=True)\n",
    "z = zipfile.ZipFile(io.BytesIO(r.content))\n",
    "z.extractall()\n",
    "\n",
    "df = pd.read_csv(filename, encoding='latin-1')\n",
    "df.to_csv(filename, index=False)\n",
    "df = pd.read_csv(filename)\n",
    "\n",
    "df.head()"
   ]
  },
  {
   "cell_type": "markdown",
   "id": "played-contrast",
   "metadata": {
    "papermill": {},
    "tags": []
   },
   "source": [
    "## Model"
   ]
  },
  {
   "cell_type": "code",
   "execution_count": 4,
   "id": "exterior-florida",
   "metadata": {
    "execution": {
     "iopub.execute_input": "2021-06-10T07:53:54.680937Z",
     "iopub.status.busy": "2021-06-10T07:53:54.680710Z",
     "iopub.status.idle": "2021-06-10T07:53:54.698042Z",
     "shell.execute_reply": "2021-06-10T07:53:54.697402Z",
     "shell.execute_reply.started": "2021-06-10T07:53:54.680915Z"
    },
    "papermill": {},
    "tags": []
   },
   "outputs": [],
   "source": [
    "#Trie des données\n",
    "df = df[df['Item Code'] == 23013]\n",
    "df = df[df.Year == 2020]\n",
    "dfmax10 = df.groupby(['Area', 'Year']).mean().reset_index().sort_values('Value', ascending=False).reset_index()\n",
    "dfmin10 = df.groupby(['Area', 'Year']).mean().reset_index().sort_values('Value', ascending=True).reset_index()\n",
    "\n"
   ]
  },
  {
   "cell_type": "markdown",
   "id": "cooked-confidence",
   "metadata": {
    "papermill": {},
    "tags": []
   },
   "source": [
    "## Output"
   ]
  },
  {
   "cell_type": "code",
   "execution_count": null,
   "id": "interpreted-animation",
   "metadata": {
    "papermill": {},
    "tags": []
   },
   "outputs": [],
   "source": [
    "dfmax10y = dfmax10['Area'].head(10).iloc[::-1]\n",
    "dfmax10x = dfmax10['Value'].head(10).iloc[::-1]\n",
    "\n",
    "fig = go.Figure(go.Bar(\n",
    "            x=dfmax10x,\n",
    "            y=dfmax10y,\n",
    "            orientation='h'))\n",
    "\n",
    "fig.update_xaxes(type=\"log\")\n",
    "fig.update_layout(title_text='Top 10 of the biggest evolution in 2020')\n",
    "\n",
    "fig.show()"
   ]
  },
  {
   "cell_type": "code",
   "execution_count": null,
   "id": "original-bundle",
   "metadata": {
    "papermill": {},
    "tags": []
   },
   "outputs": [],
   "source": [
    "dfmin10y = dfmin10['Area'].head(10).iloc[::-1]\n",
    "dfmin10x = dfmin10['Value'].head(10).iloc[::-1]\n",
    "\n",
    "fig = go.Figure(go.Bar(\n",
    "            x=dfmin10x,\n",
    "            y=dfmin10y,\n",
    "            orientation='h'))\n",
    "\n",
    "fig.update_layout(title_text='Top 10 of the worst evolution in 2020')\n",
    "fig.show()"
   ]
  },
  {
   "cell_type": "markdown",
   "id": "egyptian-doubt",
   "metadata": {
    "papermill": {},
    "tags": []
   },
   "source": []
  },
  {
   "cell_type": "markdown",
   "id": "selected-raleigh",
   "metadata": {
    "papermill": {},
    "tags": []
   },
   "source": []
  },
  {
   "cell_type": "code",
   "execution_count": null,
   "id": "verified-ethnic",
   "metadata": {
    "papermill": {},
    "tags": []
   },
   "outputs": [],
   "source": []
  }
 ],
 "metadata": {
  "kernelspec": {
   "display_name": "Python 3",
   "language": "python",
   "name": "python3"
  },
  "language_info": {
   "codemirror_mode": {
    "name": "ipython",
    "version": 3
   },
   "file_extension": ".py",
   "mimetype": "text/x-python",
   "name": "python",
   "nbconvert_exporter": "python",
   "pygments_lexer": "ipython3",
   "version": "3.8.8"
  },
  "papermill": {
   "default_parameters": {},
   "environment_variables": {},
   "parameters": {},
   "version": "2.3.3"
  }
 },
 "nbformat": 4,
 "nbformat_minor": 5
}
