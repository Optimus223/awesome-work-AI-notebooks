{
 "cells": [
  {
   "cell_type": "markdown",
   "id": "latin-packing",
   "metadata": {
    "execution": {
     "iopub.execute_input": "2021-02-23T14:22:16.610471Z",
     "iopub.status.busy": "2021-02-23T14:22:16.610129Z",
     "iopub.status.idle": "2021-02-23T14:22:16.627784Z",
     "shell.execute_reply": "2021-02-23T14:22:16.626866Z",
     "shell.execute_reply.started": "2021-02-23T14:22:16.610384Z"
    },
    "papermill": {},
    "tags": []
   },
   "source": [
    "<img width=\"10%\" alt=\"Naas\" src=\"https://landen.imgix.net/jtci2pxwjczr/assets/5ice39g4.png?w=160\"/>"
   ]
  },
  {
   "cell_type": "markdown",
   "id": "compressed-wilson",
   "metadata": {
    "papermill": {},
    "tags": []
   },
   "source": [
    "# Jupyter Notebooks - Add tags to cells\n",
    "<a href=\"https://app.naas.ai/user-redirect/naas/downloader?url=https://raw.githubusercontent.com/jupyter-naas/awesome-notebooks/master/template.ipynb\" target=\"_parent\">\n",
    "<img src=\"https://img.shields.io/badge/-Open%20in%20Naas-success?labelColor=000000&logo=data:image/svg+xml;base64,PD94bWwgdmVyc2lvbj0iMS4wIiBlbmNvZGluZz0iVVRGLTgiPz4KPHN2ZyB3aWR0aD0iMTAyNHB4IiBoZWlnaHQ9IjEwMjRweCIgdmlld0JveD0iMCAwIDEwMjQgMTAyNCIgeG1sbnM9Imh0dHA6Ly93d3cudzMub3JnLzIwMDAvc3ZnIiB4bWxuczp4bGluaz0iaHR0cDovL3d3dy53My5vcmcvMTk5OS94bGluayIgdmVyc2lvbj0iMS4xIj4KIDwhLS0gR2VuZXJhdGVkIGJ5IFBpeGVsbWF0b3IgUHJvIDIuMC41IC0tPgogPGRlZnM+CiAgPHRleHQgaWQ9InN0cmluZyIgdHJhbnNmb3JtPSJtYXRyaXgoMS4wIDAuMCAwLjAgMS4wIDIyOC4wIDU0LjUpIiBmb250LWZhbWlseT0iQ29tZm9ydGFhLVJlZ3VsYXIsIENvbWZvcnRhYSIgZm9udC1zaXplPSI4MDAiIHRleHQtZGVjb3JhdGlvbj0ibm9uZSIgZmlsbD0iI2ZmZmZmZiIgeD0iMS4xOTk5OTk5OTk5OTk5ODg2IiB5PSI3MDUuMCI+bjwvdGV4dD4KIDwvZGVmcz4KIDx1c2UgaWQ9Im4iIHhsaW5rOmhyZWY9IiNzdHJpbmciLz4KPC9zdmc+Cg==\"/>\n",
    "</a>"
   ]
  },
  {
   "cell_type": "markdown",
   "id": "religious-programmer",
   "metadata": {},
   "source": [
    "**Tags:** #jupyter #awesome-notebooks #tags #snippet"
   ]
  },
  {
   "cell_type": "markdown",
   "id": "1fe9f56e-561c-4f52-aef8-b861c9462107",
   "metadata": {},
   "source": [
    "**Author:** [Florent Ravenel](https://www.linkedin.com/in/florent-ravenel/)"
   ]
  },
  {
   "cell_type": "markdown",
   "id": "distinguished-truth",
   "metadata": {
    "papermill": {},
    "tags": []
   },
   "source": [
    "## Input"
   ]
  },
  {
   "cell_type": "markdown",
   "id": "numeric-mediterranean",
   "metadata": {},
   "source": [
    "### Import libraries"
   ]
  },
  {
   "cell_type": "code",
   "execution_count": null,
   "id": "potential-surfing",
   "metadata": {
    "tags": []
   },
   "outputs": [],
   "source": [
    "import os\n",
    "import json\n",
    "from naas_drivers import notion\n",
    "import pandas as pd\n",
    "import naas"
   ]
  },
  {
   "cell_type": "markdown",
   "id": "03342ab4-3fc9-4f44-bcda-0a42dbe00e06",
   "metadata": {},
   "source": [
    "### Variables"
   ]
  },
  {
   "cell_type": "code",
   "execution_count": null,
   "id": "00eceaac-3b26-4997-a679-234905636c26",
   "metadata": {
    "tags": []
   },
   "outputs": [],
   "source": [
    "# Input\n",
    "notion_database = 'https://www.notion.so/naas-official/b75fca2e4704433a8fc914032e089054?v=376dd88315454e89bf128433e7ae0420'\n",
    "NOTION_TOKEN = naas.secret.get(\"NOTION_TOKEN\")"
   ]
  },
  {
   "cell_type": "markdown",
   "id": "registered-showcase",
   "metadata": {},
   "source": [
    "## Model"
   ]
  },
  {
   "cell_type": "markdown",
   "id": "1d2bf3c7-48c9-41bf-a33d-f295fbe6e922",
   "metadata": {},
   "source": [
    "### Get Notion DB"
   ]
  },
  {
   "cell_type": "code",
   "execution_count": null,
   "id": "16025304-0023-44dd-a0a2-b5228552bd72",
   "metadata": {
    "tags": []
   },
   "outputs": [],
   "source": [
    "def get_notion_df(notion_database):\n",
    "    database_id = notion_database.split(\"/\")[-1].split(\"?v=\")[0]\n",
    "    pages = notion.connect(NOTION_TOKEN).database.query(database_id, query={})\n",
    "    print(\"📊 Pages in Notion DB:\", len(pages))\n",
    "\n",
    "    columns = pages[0].df().Name.tolist()\n",
    "    df = pd.DataFrame()\n",
    "\n",
    "    for page in pages:\n",
    "        values = page.df().drop(\"Type\", axis=1).to_dict().get(\"Value\")\n",
    "        tmp_df = pd.DataFrame([values])\n",
    "        df = pd.concat([df, tmp_df])\n",
    "\n",
    "    # Rename columns\n",
    "    to_rename = {}\n",
    "    for i, v in enumerate(columns):\n",
    "        to_rename[i] = v\n",
    "\n",
    "    df = df.rename(columns=to_rename)\n",
    "    \n",
    "    # Filter on active notebooks\n",
    "    df = df[df[\"Active\"].astype(str) == \"True\"]\n",
    "    print(\"Current notebooks:\", len(df))\n",
    "    return df\n",
    "\n",
    "df_notion = get_notion_df(notion_database)\n",
    "df_notion"
   ]
  },
  {
   "cell_type": "markdown",
   "id": "496e7d20-f562-42d2-afdc-23062f4c93d8",
   "metadata": {},
   "source": [
    "### Update business tags"
   ]
  },
  {
   "cell_type": "code",
   "execution_count": null,
   "id": "743ea092-3805-4311-925d-89a1ac2439dd",
   "metadata": {
    "tags": []
   },
   "outputs": [],
   "source": [
    "def add_business_tags(df_notion, notebook_path, source):\n",
    "    # Get current tags\n",
    "    tags = source.replace(' ', \"\").split(\"#\")\n",
    "    tags.pop(0)\n",
    "#     print(tags)\n",
    "    \n",
    "    # Get tags to update\n",
    "    nb_name = notebook_path.split(\"/\")[-1]\n",
    "    tmp_df = df_notion[df_notion.Name == nb_name].reset_index(drop=True)\n",
    "    \n",
    "    nb_source = notebook_path.split(\"/\")[0].lower().replace(\" \", \"\").strip()\n",
    "    nb_domain = tmp_df.loc[0, \"Domain\"][2:].lower().replace(\" \", \"\").strip()\n",
    "    nb_type = tmp_df.loc[0, \"Type\"].lower().replace(\" \", \"\").strip()\n",
    "    nb_destination = tmp_df.loc[0, \"Destination\"].lower().replace(\" \", \"\").strip()\n",
    "#     print(nb_source, nb_domain, nb_type, nb_destination)\n",
    "    \n",
    "    # Add source as first element\n",
    "    if nb_source != tags[0]:\n",
    "        tags = [nb_source] + tags\n",
    "\n",
    "    # Add domain\n",
    "    if nb_domain not in tags:\n",
    "        tags += [nb_domain]\n",
    "\n",
    "    # Add type\n",
    "    nb_types = nb_type.split(\",\")\n",
    "    for nb_t in nb_types:\n",
    "        if nb_t not in tags:\n",
    "            tags += [nb_t]\n",
    "\n",
    "    check_types = [\"snippet\", \"automation\", \"analytics\", \"ai\"]\n",
    "    for i, t in enumerate(tags):\n",
    "        if t in check_types and t not in nb_types:\n",
    "            tags.pop(i)\n",
    "\n",
    "    nb_destinations = nb_destination.split(\",\")\n",
    "    for nb_d in nb_destinations:\n",
    "        if nb_d not in tags:\n",
    "            tags += [nb_d]\n",
    "\n",
    "    tags = \" #\".join(tags)\n",
    "    tags = f\"**Tags:** #{tags}\"\n",
    "    return [tags]"
   ]
  },
  {
   "cell_type": "markdown",
   "id": "tested-astrology",
   "metadata": {},
   "source": [
    "### Update notebook"
   ]
  },
  {
   "cell_type": "code",
   "execution_count": null,
   "id": "crude-louisville",
   "metadata": {
    "papermill": {},
    "tags": []
   },
   "outputs": [],
   "source": [
    "from pprint import pprint\n",
    "import uuid\n",
    "\n",
    "def update_notebook(notebook_path):\n",
    "    with open(notebook_path) as f:\n",
    "        nb = json.load(f)\n",
    "#     pprint(nb)\n",
    "        \n",
    "    new_cells = []\n",
    "    cells = nb.get(\"cells\")\n",
    "    \n",
    "    # Apply change\n",
    "    for cell in cells:\n",
    "        cell_type = cell.get('cell_type')\n",
    "        sources = cell.get('source') \n",
    "        \n",
    "        # Update business tags\n",
    "        new_source = []\n",
    "        for source in sources:\n",
    "            if \"**Tags:** #\" in source:\n",
    "                new_source = add_business_tags(df_notion, notebook_path, source)\n",
    "                print(new_source)\n",
    "                cell[\"source\"] = new_source\n",
    "                break\n",
    "        \n",
    "        new_cells.append(cell)\n",
    "        \n",
    "    # Save notebook\n",
    "    nb_new = nb.copy()\n",
    "    nb_new[\"cells\"] = new_cells\n",
    "    nb_new[\"metadata\"][\"naas\"] = {\"notebook_path\": notebook_path,\n",
    "                                  \"notebook_id\": str(uuid.uuid4())}\n",
    "    with open(notebook_path, 'w') as f:\n",
    "        json.dump(nb_new, f, indent=1)\n",
    "    print(f\"✔️ {notebook_path} saved in Naas.\")\n",
    "    \n",
    "# notebook_path = \"Jupyter Notebooks/Jupyter_Notebooks_Add_cells_in_notebook_json.ipynb\"\n",
    "# update_notebook(notebook_path)"
   ]
  },
  {
   "cell_type": "markdown",
   "id": "lonely-pacific",
   "metadata": {
    "execution": {
     "iopub.execute_input": "2021-07-02T23:32:10.789097Z",
     "iopub.status.busy": "2021-07-02T23:32:10.788829Z",
     "iopub.status.idle": "2021-07-02T23:32:10.796900Z",
     "shell.execute_reply": "2021-07-02T23:32:10.796358Z",
     "shell.execute_reply.started": "2021-07-02T23:32:10.789033Z"
    }
   },
   "source": [
    "## Output"
   ]
  },
  {
   "cell_type": "markdown",
   "id": "linear-address",
   "metadata": {},
   "source": [
    "### Update all awesome notebooks"
   ]
  },
  {
   "cell_type": "code",
   "execution_count": null,
   "id": "32e75ebc-bbc7-49bb-9cdf-27204be1b26e",
   "metadata": {
    "tags": []
   },
   "outputs": [],
   "source": [
    "# Loop on awesome-notebook dir\n",
    "directories = sorted(os.listdir())\n",
    "for directory in directories:\n",
    "    if \".\" not in directory and directory not in [\"LICENSE\", \"Makefile\"]:\n",
    "        subdirs = os.listdir(directory)\n",
    "        for subdir in subdirs:\n",
    "            if subdir.endswith(\".ipynb\"):\n",
    "                notebook_path = os.path.join(directory, subdir)\n",
    "                print(\"Started notebook... \", notebook_path)\n",
    "                update_notebook(notebook_path)"
   ]
  },
  {
   "cell_type": "code",
   "execution_count": null,
   "id": "b6768a72-48cf-475b-9659-abce23d15d5d",
   "metadata": {},
   "outputs": [],
   "source": []
  }
 ],
 "metadata": {
  "kernelspec": {
   "display_name": "Python 3",
   "language": "python",
   "name": "python3"
  },
  "language_info": {
   "codemirror_mode": {
    "name": "ipython",
    "version": 3
   },
   "file_extension": ".py",
   "mimetype": "text/x-python",
   "name": "python",
   "nbconvert_exporter": "python",
   "pygments_lexer": "ipython3",
   "version": "3.9.6"
  },
  "papermill": {
   "default_parameters": {},
   "environment_variables": {},
   "parameters": {},
   "version": "2.3.3"
  },
  "widgets": {
   "application/vnd.jupyter.widget-state+json": {
    "state": {},
    "version_major": 2,
    "version_minor": 0
   }
  }
 },
 "nbformat": 4,
 "nbformat_minor": 5
}
