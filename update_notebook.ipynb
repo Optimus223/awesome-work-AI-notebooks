{
 "cells": [
  {
   "cell_type": "markdown",
   "id": "latin-packing",
   "metadata": {
    "execution": {
     "iopub.execute_input": "2021-02-23T14:22:16.610471Z",
     "iopub.status.busy": "2021-02-23T14:22:16.610129Z",
     "iopub.status.idle": "2021-02-23T14:22:16.627784Z",
     "shell.execute_reply": "2021-02-23T14:22:16.626866Z",
     "shell.execute_reply.started": "2021-02-23T14:22:16.610384Z"
    },
    "papermill": {},
    "tags": []
   },
   "source": [
    "<img width=\"10%\" alt=\"Naas\" src=\"https://landen.imgix.net/jtci2pxwjczr/assets/5ice39g4.png?w=160\"/>"
   ]
  },
  {
   "cell_type": "markdown",
   "id": "compressed-wilson",
   "metadata": {
    "papermill": {},
    "tags": []
   },
   "source": [
    "# Awesome Notebooks - Update\n",
    "<a href=\"https://app.naas.ai/user-redirect/naas/downloader?url=https://raw.githubusercontent.com/jupyter-naas/awesome-notebooks/master/template.ipynb\" target=\"_parent\">\n",
    "<img src=\"https://img.shields.io/badge/-Open%20in%20Naas-success?labelColor=000000&logo=data:image/svg+xml;base64,PD94bWwgdmVyc2lvbj0iMS4wIiBlbmNvZGluZz0iVVRGLTgiPz4KPHN2ZyB3aWR0aD0iMTAyNHB4IiBoZWlnaHQ9IjEwMjRweCIgdmlld0JveD0iMCAwIDEwMjQgMTAyNCIgeG1sbnM9Imh0dHA6Ly93d3cudzMub3JnLzIwMDAvc3ZnIiB4bWxuczp4bGluaz0iaHR0cDovL3d3dy53My5vcmcvMTk5OS94bGluayIgdmVyc2lvbj0iMS4xIj4KIDwhLS0gR2VuZXJhdGVkIGJ5IFBpeGVsbWF0b3IgUHJvIDIuMC41IC0tPgogPGRlZnM+CiAgPHRleHQgaWQ9InN0cmluZyIgdHJhbnNmb3JtPSJtYXRyaXgoMS4wIDAuMCAwLjAgMS4wIDIyOC4wIDU0LjUpIiBmb250LWZhbWlseT0iQ29tZm9ydGFhLVJlZ3VsYXIsIENvbWZvcnRhYSIgZm9udC1zaXplPSI4MDAiIHRleHQtZGVjb3JhdGlvbj0ibm9uZSIgZmlsbD0iI2ZmZmZmZiIgeD0iMS4xOTk5OTk5OTk5OTk5ODg2IiB5PSI3MDUuMCI+bjwvdGV4dD4KIDwvZGVmcz4KIDx1c2UgaWQ9Im4iIHhsaW5rOmhyZWY9IiNzdHJpbmciLz4KPC9zdmc+Cg==\"/>\n",
    "</a>"
   ]
  },
  {
   "cell_type": "markdown",
   "id": "religious-programmer",
   "metadata": {},
   "source": [
    "**Tags:** #jupyter #awesome-notebooks"
   ]
  },
  {
   "cell_type": "markdown",
   "id": "1fe9f56e-561c-4f52-aef8-b861c9462107",
   "metadata": {},
   "source": [
    "**Author:** [Florent Ravenel](https://www.linkedin.com/in/florent-ravenel/)"
   ]
  },
  {
   "cell_type": "markdown",
   "id": "2410f9fb-bab6-4840-8897-50ed511b5636",
   "metadata": {
    "execution": {
     "iopub.execute_input": "2023-02-07T09:20:13.967175Z",
     "iopub.status.busy": "2023-02-07T09:20:13.966946Z",
     "iopub.status.idle": "2023-02-07T09:20:13.975072Z",
     "shell.execute_reply": "2023-02-07T09:20:13.974190Z",
     "shell.execute_reply.started": "2023-02-07T09:20:13.967152Z"
    },
    "tags": []
   },
   "source": [
    "**Description:** This notebook update all notebooks in this repository based on specific rules."
   ]
  },
  {
   "cell_type": "markdown",
   "id": "distinguished-truth",
   "metadata": {
    "papermill": {},
    "tags": []
   },
   "source": [
    "## Input"
   ]
  },
  {
   "cell_type": "markdown",
   "id": "numeric-mediterranean",
   "metadata": {},
   "source": [
    "### Import libraries"
   ]
  },
  {
   "cell_type": "code",
   "execution_count": 23,
   "id": "potential-surfing",
   "metadata": {
    "execution": {
     "iopub.execute_input": "2023-02-07T15:34:07.468440Z",
     "iopub.status.busy": "2023-02-07T15:34:07.468212Z",
     "iopub.status.idle": "2023-02-07T15:34:07.472283Z",
     "shell.execute_reply": "2023-02-07T15:34:07.471659Z",
     "shell.execute_reply.started": "2023-02-07T15:34:07.468419Z"
    },
    "tags": []
   },
   "outputs": [],
   "source": [
    "import glob\n",
    "import naas\n",
    "import requests\n",
    "import pandas as pd\n",
    "from pprint import pprint\n",
    "import json\n",
    "try:\n",
    "    import openai\n",
    "except:\n",
    "    !pip install openai --user\n",
    "    import openai\n",
    "import uuid\n",
    "import time"
   ]
  },
  {
   "cell_type": "markdown",
   "id": "03342ab4-3fc9-4f44-bcda-0a42dbe00e06",
   "metadata": {},
   "source": [
    "### Setup Variables"
   ]
  },
  {
   "cell_type": "code",
   "execution_count": 7,
   "id": "00eceaac-3b26-4997-a679-234905636c26",
   "metadata": {
    "execution": {
     "iopub.execute_input": "2023-02-07T15:12:47.541512Z",
     "iopub.status.busy": "2023-02-07T15:12:47.541266Z",
     "iopub.status.idle": "2023-02-07T15:12:47.744338Z",
     "shell.execute_reply": "2023-02-07T15:12:47.743771Z",
     "shell.execute_reply.started": "2023-02-07T15:12:47.541481Z"
    },
    "tags": []
   },
   "outputs": [],
   "source": [
    "# Inputs\n",
    "repo_url = \"https://github.com/jupyter-naas/awesome-notebooks\"\n",
    "GITHUB_TOKEN = naas.secret.get(\"GITHUB_TOKEN\")\n",
    "openai.api_key = naas.secret.get(name=\"OPENAI_API_KEY\") or \"ENTER_YOUR_OPENAI_API_KEY\""
   ]
  },
  {
   "cell_type": "markdown",
   "id": "registered-showcase",
   "metadata": {},
   "source": [
    "## Model"
   ]
  },
  {
   "cell_type": "markdown",
   "id": "6b3c7732-8e39-41d8-be47-4a2288c7d809",
   "metadata": {
    "execution": {
     "iopub.execute_input": "2022-01-22T13:48:53.656270Z",
     "iopub.status.busy": "2022-01-22T13:48:53.656043Z",
     "iopub.status.idle": "2022-01-22T13:48:53.658818Z",
     "shell.execute_reply": "2022-01-22T13:48:53.658211Z",
     "shell.execute_reply.started": "2022-01-22T13:48:53.656247Z"
    },
    "papermill": {},
    "tags": []
   },
   "source": [
    "### Get current notebooks from master branch"
   ]
  },
  {
   "cell_type": "code",
   "execution_count": 54,
   "id": "e7982fe6-3105-493c-bda3-1887d6908f6c",
   "metadata": {
    "execution": {
     "iopub.execute_input": "2023-02-07T16:41:04.007479Z",
     "iopub.status.busy": "2023-02-07T16:41:04.007121Z",
     "iopub.status.idle": "2023-02-07T16:41:04.338534Z",
     "shell.execute_reply": "2023-02-07T16:41:04.337931Z",
     "shell.execute_reply.started": "2023-02-07T16:41:04.007436Z"
    },
    "tags": []
   },
   "outputs": [
    {
     "name": "stdout",
     "output_type": "stream",
     "text": [
      "-> Awesome Notebooks fecthed: 523\n"
     ]
    },
    {
     "data": {
      "text/html": [
       "<div>\n",
       "<style scoped>\n",
       "    .dataframe tbody tr th:only-of-type {\n",
       "        vertical-align: middle;\n",
       "    }\n",
       "\n",
       "    .dataframe tbody tr th {\n",
       "        vertical-align: top;\n",
       "    }\n",
       "\n",
       "    .dataframe thead th {\n",
       "        text-align: right;\n",
       "    }\n",
       "</style>\n",
       "<table border=\"1\" class=\"dataframe\">\n",
       "  <thead>\n",
       "    <tr style=\"text-align: right;\">\n",
       "      <th></th>\n",
       "      <th>ROOT</th>\n",
       "      <th>SUBDIR</th>\n",
       "      <th>ID</th>\n",
       "      <th>URL</th>\n",
       "      <th>CONTENT_URL</th>\n",
       "      <th>GITHUB_URL</th>\n",
       "    </tr>\n",
       "  </thead>\n",
       "  <tbody>\n",
       "    <tr>\n",
       "      <th>0</th>\n",
       "      <td>AWS</td>\n",
       "      <td>AWS_Daily_biling_notification_to_slack.ipynb</td>\n",
       "      <td>d28aa04fcf9c765fc4af2857db7a1acfcee28a32</td>\n",
       "      <td>https://api.github.com/repos/jupyter-naas/awes...</td>\n",
       "      <td>https://raw.githubusercontent.com/jupyter-naas...</td>\n",
       "      <td>https://github.com/jupyter-naas/awesome-notebo...</td>\n",
       "    </tr>\n",
       "  </tbody>\n",
       "</table>\n",
       "</div>"
      ],
      "text/plain": [
       "  ROOT                                        SUBDIR  \\\n",
       "0  AWS  AWS_Daily_biling_notification_to_slack.ipynb   \n",
       "\n",
       "                                         ID  \\\n",
       "0  d28aa04fcf9c765fc4af2857db7a1acfcee28a32   \n",
       "\n",
       "                                                 URL  \\\n",
       "0  https://api.github.com/repos/jupyter-naas/awes...   \n",
       "\n",
       "                                         CONTENT_URL  \\\n",
       "0  https://raw.githubusercontent.com/jupyter-naas...   \n",
       "\n",
       "                                          GITHUB_URL  \n",
       "0  https://github.com/jupyter-naas/awesome-notebo...  "
      ]
     },
     "execution_count": 54,
     "metadata": {},
     "output_type": "execute_result"
    }
   ],
   "source": [
    "def get_notebooks(commit_id):\n",
    "    notebooks = []\n",
    "    headers = {'Authorization': f'token {GITHUB_TOKEN}'}\n",
    "    url = f\"https://api.github.com/repos/jupyter-naas/awesome-notebooks/git/trees/{commit_id}?recursive=1\"\n",
    "    res = requests.get(url, headers=headers)\n",
    "    res.raise_for_status()\n",
    "    res_json = res.json()\n",
    "\n",
    "    trees = res_json.get(\"tree\")\n",
    "    for file in trees:\n",
    "        if \".github\" not in file.get(\"path\") and \".gitignore\" not in file.get(\"path\") and \"/\" in file.get(\"path\"):\n",
    "            if file.get(\"path\").endswith(\".ipynb\"):\n",
    "                temp = file.get(\"path\").split(\"/\")\n",
    "                if temp == -1:\n",
    "                    data = {\n",
    "                        \"ROOT\": None,\n",
    "                        \"SUBDIR\": file.get(\"path\"),\n",
    "                        \"ID\": file.get(\"sha\"),\n",
    "                        \"URL\": file.get(\"url\"),\n",
    "                    }\n",
    "                    notebooks.append(data)\n",
    "                else:\n",
    "                    last_folder = \"\"\n",
    "                    file_name = temp[-1]\n",
    "                    temp.pop()\n",
    "                    for folder in temp:\n",
    "                        last_folder += \"/\" + folder\n",
    "                    root = last_folder[1:]\n",
    "                    data = {\n",
    "                        \"ROOT\": root,\n",
    "                        \"SUBDIR\": file_name,\n",
    "                        \"ID\": file.get(\"sha\"),\n",
    "                        \"URL\": file.get(\"url\"),\n",
    "                    }\n",
    "                    notebooks.append(data)\n",
    "    df = pd.DataFrame(notebooks)\n",
    "    df[\"CONTENT_URL\"] = \"https://raw.githubusercontent.com/jupyter-naas/awesome-notebooks/master/\" + df[\"ROOT\"] + \"/\" + df[\"SUBDIR\"]\n",
    "    df[\"GITHUB_URL\"] = (\"https://github.com/jupyter-naas/awesome-notebooks/blob/master/\" + df[\"ROOT\"] + \"/\" + df[\"SUBDIR\"]).str.replace(\" \", \"%20\")\n",
    "    return df\n",
    "\n",
    "df_notebooks = get_notebooks(\"master\")\n",
    "print(\"-> Awesome Notebooks fecthed:\", len(df_notebooks))\n",
    "df_notebooks.head(1)"
   ]
  },
  {
   "cell_type": "markdown",
   "id": "9b3f057c-c370-4abe-be5e-701690e93150",
   "metadata": {},
   "source": [
    "### Get all notebooks in locals"
   ]
  },
  {
   "cell_type": "code",
   "execution_count": 55,
   "id": "eee7e7d5-a5c0-4468-a604-44df9377585f",
   "metadata": {
    "execution": {
     "iopub.execute_input": "2023-02-07T16:41:05.372460Z",
     "iopub.status.busy": "2023-02-07T16:41:05.372231Z",
     "iopub.status.idle": "2023-02-07T16:41:05.474042Z",
     "shell.execute_reply": "2023-02-07T16:41:05.473396Z",
     "shell.execute_reply.started": "2023-02-07T16:41:05.372438Z"
    },
    "tags": []
   },
   "outputs": [
    {
     "name": "stdout",
     "output_type": "stream",
     "text": [
      "-> Local Notebooks fecthed: 528\n"
     ]
    },
    {
     "data": {
      "text/plain": [
       "'AWS/AWS_Daily_biling_notification_to_slack.ipynb'"
      ]
     },
     "execution_count": 55,
     "metadata": {},
     "output_type": "execute_result"
    }
   ],
   "source": [
    "notebooks = sorted(glob.glob('*/*.ipynb', recursive=True))\n",
    "print(\"-> Local Notebooks fecthed:\", len(notebooks))\n",
    "notebooks[0]"
   ]
  },
  {
   "cell_type": "markdown",
   "id": "83e4bbb8-f730-4d17-99ed-c794a14ddf4b",
   "metadata": {},
   "source": [
    "### Create notebook description"
   ]
  },
  {
   "cell_type": "code",
   "execution_count": 57,
   "id": "17eeac7e-1db2-43a7-b63c-4ec6d82c7212",
   "metadata": {
    "execution": {
     "iopub.execute_input": "2023-02-07T16:41:15.627232Z",
     "iopub.status.busy": "2023-02-07T16:41:15.627002Z",
     "iopub.status.idle": "2023-02-07T16:41:15.630850Z",
     "shell.execute_reply": "2023-02-07T16:41:15.630224Z",
     "shell.execute_reply.started": "2023-02-07T16:41:15.627209Z"
    },
    "tags": []
   },
   "outputs": [],
   "source": [
    "def create_description(title):\n",
    "    # Create completion\n",
    "    response = openai.Completion.create(\n",
    "      model=\"text-davinci-003\",\n",
    "      prompt=f'Can you create a description for this notebook in one sentence: \"{title}\"',\n",
    "      temperature=0,\n",
    "      max_tokens=2084,\n",
    "    )\n",
    "\n",
    "    # Extract the generated text\n",
    "    text = response[\"choices\"][0][\"text\"].strip()\n",
    "    \n",
    "    # Sleep\n",
    "    time.sleep(3)\n",
    "    return text\n",
    "\n",
    "# title = \"Excel - Apply Custom Styles\"\n",
    "# create_description(title)"
   ]
  },
  {
   "cell_type": "markdown",
   "id": "tested-astrology",
   "metadata": {},
   "source": [
    "### Update notebook"
   ]
  },
  {
   "cell_type": "code",
   "execution_count": 58,
   "id": "crude-louisville",
   "metadata": {
    "execution": {
     "iopub.execute_input": "2023-02-07T16:41:18.011656Z",
     "iopub.status.busy": "2023-02-07T16:41:18.011356Z",
     "iopub.status.idle": "2023-02-07T16:41:18.022153Z",
     "shell.execute_reply": "2023-02-07T16:41:18.021519Z",
     "shell.execute_reply.started": "2023-02-07T16:41:18.011627Z"
    },
    "papermill": {},
    "tags": []
   },
   "outputs": [],
   "source": [
    "def update_notebook(notebook_path):\n",
    "    # Init \n",
    "    new_cells = []\n",
    "    \n",
    "    \n",
    "    # Open notebook\n",
    "    with open(notebook_path) as f:\n",
    "        nb = json.load(f)\n",
    "        \n",
    "    # Get all cellls\n",
    "    cells = nb.get(\"cells\")\n",
    "    \n",
    "    # Title\n",
    "    title = cells[1]\n",
    "    title_type = title.get(\"cell_type\")\n",
    "    title_source = title.get(\"source\")[0].replace(\"#\", \"\").strip()\n",
    "    \n",
    "    # Description\n",
    "    desc = cells[4]\n",
    "    desc_type = desc.get(\"cell_type\")\n",
    "    desc_source = desc.get(\"source\")\n",
    "    if isinstance(desc_source, list):\n",
    "        desc_source = desc_source[0]\n",
    "    \n",
    "    # ## Input\n",
    "    section_i = cells[5]\n",
    "    section_i_type = section_i.get(\"cell_type\")\n",
    "    section_i_source = section_i.get(\"source\")[0]\n",
    "    \n",
    "    # Check description\n",
    "    create_desc = False\n",
    "    rewrite_desc = False\n",
    "    if desc_type == \"markdown\" and desc_source == '## Input':\n",
    "        print(f\"Creating description: {title_source}\")\n",
    "        create_desc = True\n",
    "        description = create_description(title_source)\n",
    "        new_description = f\"**Description:** {description}\"\n",
    "        print(new_description)\n",
    "\n",
    "    elif desc_type == \"markdown\" and not desc_source.startswith(\"**Description:**\") and (section_i_source == '## Input' or section_i_source.startswith(\"<div class\")):\n",
    "        print(f\"Updating description: {title_source}\")\n",
    "        rewrite_desc = True\n",
    "        description = create_description(title_source)\n",
    "        new_description = f\"**Description:** {description}\"\n",
    "        print(new_description)\n",
    "  \n",
    "    # Apply change\n",
    "    new_cells = []\n",
    "    for index, cell in enumerate(cells):\n",
    "        if index == 4 and create_desc:\n",
    "            cell_desc = {\n",
    "                'cell_type': 'markdown',\n",
    "                'id': 'naas-description',\n",
    "                'metadata': {'papermill': {}, 'tags': [\"description\"]},\n",
    "                'source': [new_description]\n",
    "            }\n",
    "            new_cells.append(cell_desc)\n",
    "        elif index == 4 and rewrite_desc:\n",
    "            cell = {\n",
    "                'cell_type': 'markdown',\n",
    "                'id': 'naas-description',\n",
    "                'metadata': {'papermill': {}, 'tags': [\"description\"]},\n",
    "                'source': [new_description]\n",
    "            }\n",
    "        new_cells.append(cell)\n",
    "                \n",
    "    if create_desc or rewrite_desc:\n",
    "        # Save notebook\n",
    "        nb_new = nb.copy()\n",
    "        nb_new[\"cells\"] = new_cells\n",
    "#         nb_new[\"metadata\"][\"naas\"] = {\"notebook_path\": notebook_path.replace(\"./\", \"\"),\n",
    "#                                       \"notebook_id\": str(uuid.uuid4())}\n",
    "        with open(notebook_path, 'w') as f:\n",
    "            json.dump(nb_new, f, indent=1)\n",
    "        print(f\"✔️ {notebook_path} saved in Naas.\")\n",
    "    \n",
    "# update_notebook(notebooks[0])"
   ]
  },
  {
   "cell_type": "markdown",
   "id": "lonely-pacific",
   "metadata": {
    "execution": {
     "iopub.execute_input": "2021-07-02T23:32:10.789097Z",
     "iopub.status.busy": "2021-07-02T23:32:10.788829Z",
     "iopub.status.idle": "2021-07-02T23:32:10.796900Z",
     "shell.execute_reply": "2021-07-02T23:32:10.796358Z",
     "shell.execute_reply.started": "2021-07-02T23:32:10.789033Z"
    }
   },
   "source": [
    "## Output"
   ]
  },
  {
   "cell_type": "markdown",
   "id": "linear-address",
   "metadata": {},
   "source": [
    "### Update all awesome notebooks"
   ]
  },
  {
   "cell_type": "code",
   "execution_count": null,
   "id": "32e75ebc-bbc7-49bb-9cdf-27204be1b26e",
   "metadata": {
    "execution": {
     "iopub.execute_input": "2023-02-07T16:41:19.064664Z",
     "iopub.status.busy": "2023-02-07T16:41:19.064431Z"
    },
    "tags": []
   },
   "outputs": [
    {
     "name": "stdout",
     "output_type": "stream",
     "text": [
      "0 AWS_Daily_biling_notification_to_slack.ipynb\n",
      "1 AWS_Get_files_from_S3_bucket.ipynb\n",
      "2 AWS_Read_dataframe_from_S3.ipynb\n",
      "3 AWS_Send_dataframe_to_S3.ipynb\n",
      "4 AWS_Upload_file_to_S3_bucket.ipynb\n",
      "5 Abstractapi_Get_IP_Geolocation.ipynb\n",
      "6 Affinity_Sync_with_Notion_database.ipynb\n",
      "7 Agicap_List_companies.ipynb\n",
      "8 Airtable_Delete_data.ipynb\n",
      "9 Airtable_Get_data.ipynb\n",
      "10 Airtable_Insert_data.ipynb\n",
      "11 Airtable_Search_data.ipynb\n",
      "12 AlphaVantage_Get_balance_sheet.ipynb\n",
      "13 AlphaVantage_Get_cashflow_statement.ipynb\n",
      "14 AlphaVantage_Get_company_overview.ipynb\n",
      "15 AlphaVantage_Get_income_statement.ipynb\n",
      "16 Azure_Blob_Storage_Upload_files.ipynb\n",
      "17 Bazimo_Get_export_Actifs.ipynb\n",
      "18 Bazimo_Get_export_Baux.ipynb\n",
      "19 Bazimo_Get_export_Factures.ipynb\n",
      "20 Bazimo_Get_export_Locataires.ipynb\n",
      "21 Bazimo_Get_export_Lots.ipynb\n",
      "22 BigQuery_Create_table_from_csv.ipynb\n",
      "23 BigQuery_Read_Table.ipynb\n",
      "24 Boursorama_Get_CDS.ipynb\n",
      "25 Bubble_Send_data.ipynb\n",
      "26 CCXT_Calculate_Support_and_Resistance.ipynb\n",
      "27 CCXT_Predict_Bitcoin_from_Binance.ipynb\n",
      "28 CSV_Read_file.ipynb\n",
      "29 CSV_Save_file.ipynb\n",
      "30 Canny_Create.ipynb\n",
      "31 Canny_Github_issue_update.ipynb\n",
      "32 Canny_Read.ipynb\n",
      "33 Celestrak_Satellites_over_time.ipynb\n",
      "34 Cityfalcon_Get_data_from_API.ipynb\n",
      "35 Cloud_Mercato_Compare_VM_pricing.ipynb\n",
      "36 D-Tale_Visualize_dataframe.ipynb\n",
      "37 Dash_Create_Datatable_With_Dropdown.ipynb\n",
      "38 Dash_Create_Dropdown_Callback.ipynb\n",
      "39 Dash_Create_Dropdown_with_multiples_output_callbacks.ipynb\n",
      "41 Dash_Create_Navbar.ipynb\n",
      "42 Dash_Create_Navbar_Dashboard.ipynb\n",
      "43 Dash_Create_Navbar_Search.ipynb\n",
      "44 Dash_Deploy_app_in_Naas.ipynb\n",
      "45 Dash_LinkedIn_posts_metrics_dashboard.ipynb\n",
      "46 Dash_Plotly_Dynamic_Link.ipynb\n",
      "48 Dash_Upload_mutiples_CSV_Excel.ipynb\n",
      "50 Dask_parallelize_operations_on_multiple_csvs.ipynb\n",
      "51 COVID19 -  FR - Entrées et sorties par région pour 1 million d'hab..ipynb\n",
      "52 Data.gouv.fr_Récupération_données_légales_entreprise.ipynb\n",
      "53 Draft_Kings_Get_MLB_Moneylines.ipynb\n",
      "54 Draft_Kings_Get_NBA_Moneylines.ipynb\n",
      "55 EM-DAT_natural_disasters.ipynb\n",
      "56 Elasticsearch_Connect_to_server.ipynb\n",
      "58 Excel_Consolidate_files.ipynb\n",
      "59 Excel_Get_dynamic_active_range.ipynb\n",
      "60 Excel_Read_file.ipynb\n",
      "61 Excel_Save_file.ipynb\n",
      "62 FAO_Consumer_price_indice.ipynb\n",
      "63 FEC_Creer_un_dashboard_PowerBI.ipynb\n",
      "64 FEC_Visualiser_Bilan_Treemap.ipynb\n",
      "65 FTPS_Connect.ipynb\n",
      "66 FTP_Connect.ipynb\n",
      "67 FTP_Get_file.ipynb\n",
      "68 FTP_Send_file.ipynb\n",
      "69 Faker_Anonymize_Address_from_dataframe.ipynb\n",
      "70 Faker_Anonymize_Personal_Names_from_dataframe.ipynb\n",
      "71 GitHub_Add_new_issues_as_page_in_Notion_database.ipynb\n",
      "72 GitHub_Add_new_member_to_team.ipynb\n",
      "73 GitHub_Clone_repository.ipynb\n",
      "74 GitHub_Close_issue.ipynb\n",
      "75 GitHub_Create_issue.ipynb\n",
      "76 GitHub_Create_repository_on_personal_account.ipynb\n",
      "77 GitHub_Download_file_from_url.ipynb\n",
      "78 GitHub_Get_active_projects.ipynb\n",
      "79 GitHub_Get_commits_from_repository.ipynb\n",
      "80 GitHub_Get_commits_ranking_from_repository.ipynb\n",
      "81 GitHub_Get_issues_from_repo.ipynb\n",
      "82 GitHub_Get_most_starred_repos.ipynb\n",
      "83 GitHub_Get_profile_from_user.ipynb\n",
      "84 GitHub_Get_profiles_from_teams.ipynb\n",
      "85 GitHub_Get_pull_requests_from_repository.ipynb\n",
      "86 GitHub_Get_stargazers_from_repository.ipynb\n",
      "87 GitHub_Get_weekly_commits_from_repository.ipynb\n",
      "88 GitHub_Peform_basic_actions.ipynb\n",
      "89 GitHub_Read_issue.ipynb\n",
      "90 GitHub_Remove_member_from_team.ipynb\n",
      "91 GitHub_Track_issues_on_projects.ipynb\n",
      "92 GitHub_Track_notebooks_created_over_time.ipynb\n",
      "93 Github_Create_Repo.ipynb\n",
      "94 Github_Create_newsletter_based_on_repository_activity.ipynb\n",
      "95 Gmail_Automate_response_from_keywords_in_mailbox.ipynb\n",
      "96 Gmail_Clean_mailbox.ipynb\n",
      "97 Gmail_Read_mailbox.ipynb\n",
      "98 Gmail_Schedule_mailbox_cleaning.ipynb\n",
      "99 Gmail_Send_emails_from_Gsheet_classic.ipynb\n",
      "100 Gmail_Send_emails_from_Gsheet_specific.ipynb\n",
      "101 Google_Analytics_Follow_average_session_duration_daily.ipynb\n",
      "102 Google_Analytics_Follow_number_of_new_visitors_daily.ipynb\n",
      "103 Google_Analytics_Follow_number_of_new_visitors_hourly.ipynb\n",
      "104 Google_Analytics_Follow_number_of_new_visitors_monthly.ipynb\n",
      "105 Google_Analytics_Follow_number_of_new_visitors_weekly.ipynb\n",
      "106 Google_Analytics_Follow_number_of_sessions_daily.ipynb\n",
      "107 Google_Analytics_Follow_number_of_sessions_hourly.ipynb\n",
      "108 Google_Analytics_Follow_number_of_sessions_monthly.ipynb\n",
      "109 Google_Analytics_Follow_number_of_sessions_weekly.ipynb\n",
      "110 Google_Analytics_Follow_number_of_visitors_daily.ipynb\n",
      "111 Google_Analytics_Follow_number_of_visitors_hourly.ipynb\n",
      "112 Google_Analytics_Follow_number_of_visitors_monthly.ipynb\n",
      "113 Google_Analytics_Follow_number_of_visitors_weekly.ipynb\n",
      "114 Google_Analytics_Get_bounce_rate.ipynb\n",
      "115 Google_Analytics_Get_pageview_ranking.ipynb\n",
      "116 Google_Analytics_Get_stats_per_country.ipynb\n",
      "117 Google_Analytics_Get_time_on_landing_page.ipynb\n",
      "118 Google_Analytics_Get_unique_visitors.ipynb\n",
      "119 Google_Analytics_Get_unique_visitors_by_country.ipynb\n",
      "120 Google_Analytics_Send_visitors_traffic_graph_and_trends_prediction_to_Slack_channel.ipynb\n",
      "121 Google_Drive_Download_file.ipynb\n",
      "122 Google_Search_Get_LinkedIn_company_url_from_name.ipynb\n",
      "123 Google_Search_Get_LinkedIn_profile_url_from_name.ipynb\n",
      "124 Google_Search_Perform_search.ipynb\n",
      "125 Google_Sheets_Add_items_to_Notion_databases_from_new_rows_in_Google_Sheets.ipynb\n",
      "126 Google_Sheets_Add_new_github_member_to_team_from_spreadsheet.ipynb\n",
      "127 Google_Sheets_Get_data.ipynb\n",
      "128 Google_Sheets_Send_LinkedIn_invitations_from_spreadsheet.ipynb\n",
      "129 Google_Sheets_Send_data.ipynb\n",
      "130 Google_Sheets_Send_data_to_MongoDB.ipynb\n",
      "131 Google_Sheets_Send_emails_from_sheet.ipynb\n",
      "132 HTML_Create_a_website.ipynb\n",
      "133 Healthchecks_Perfom_basic_actions.ipynb\n",
      "134 HubSpot_Associate_contact_to_deal.ipynb\n",
      "135 HubSpot_Create_Task.ipynb\n",
      "136 HubSpot_Create_contact.ipynb\n",
      "137 HubSpot_Create_contact_from_LinkedIn_profile.ipynb\n",
      "138 HubSpot_Create_contacts_from_linkedin_post_likes.ipynb\n",
      "139 HubSpot_Create_deal.ipynb\n",
      "140 HubSpot_Create_note.ipynb\n",
      "141 HubSpot_Delete_Task.ipynb\n",
      "142 HubSpot_Delete_contact.ipynb\n",
      "143 HubSpot_Delete_deal.ipynb\n",
      "144 HubSpot_Delete_note.ipynb\n",
      "145 HubSpot_Get_Task.ipynb\n",
      "146 HubSpot_Get_all_contacts.ipynb\n",
      "147 HubSpot_Get_all_deals.ipynb\n",
      "148 HubSpot_Get_all_pipelines_and_dealstages.ipynb\n",
      "149 HubSpot_Get_contact_from_URL.ipynb\n",
      "150 HubSpot_Get_contact_from_email.ipynb\n",
      "151 HubSpot_Get_contact_from_id.ipynb\n",
      "152 HubSpot_Get_contacts_associated_to_deal.ipynb\n",
      "153 HubSpot_Get_deal.ipynb\n",
      "154 HubSpot_Get_notes_from_contact.ipynb\n",
      "155 HubSpot_Send_LinkedIn_invitations_from_contacts.ipynb\n",
      "156 HubSpot_Send_closed_deals_weekly.ipynb\n",
      "157 HubSpot_Send_contacts_to_gsheet.ipynb\n",
      "158 HubSpot_Send_deals_to_gsheet.ipynb\n",
      "159 HubSpot_Send_new_deals_created_weekly.ipynb\n",
      "160 HubSpot_Send_sales_brief.ipynb\n",
      "161 HubSpot_Update_Task.ipynb\n",
      "162 HubSpot_Update_contact.ipynb\n",
      "163 HubSpot_Update_deal.ipynb\n",
      "164 HubSpot_Update_followers_from_linkedin.ipynb\n",
      "165 HubSpot_Update_jobtitle_country_industry_from_linkedin.ipynb\n",
      "166 HubSpot_Update_linkedinbio_from_google.ipynb\n",
      "168 Hugging_Face_Ask_boolean_question_to_T5.ipynb\n",
      "169 Hugging_Face_Naas_drivers_integration.ipynb\n",
      "170 Hugging_Face_Question_Answering_from_PDF.ipynb\n",
      "171 IFTTT_Post_on_Twitter.ipynb\n",
      "172 IFTTT_Trigger_workflow.ipynb\n",
      "173 Top_IMDB_Movie.ipynb\n",
      "174 INPI_Download_PDF_recap.ipynb\n",
      "175 IPyWidgets_Create_button.ipynb\n",
      "176 IPyWidgets_Create_input_text_and_submit_button.ipynb\n",
      "177 IPyWidgets_Setup_naas_secret.ipynb\n",
      "178 IUCN_Extinct_species.ipynb\n",
      "179 Insee_Download_PDF_recap.ipynb\n",
      "180 Instagram_Get_stats_from_posts.ipynb\n",
      "181 Instagram_Post_image_and_caption.ipynb\n",
      "182 Integromat_Trigger_workflow.ipynb\n",
      "183 Johns_Hopkins_Covid19_Active_Cases.ipynb\n",
      "184 Johns_Hopkins_Get_Covid19_data.ipynb\n",
      "185 Jupyter_Notebooks_Add_cells_in_notebook_json.ipynb\n",
      "186 Jupyter_Notebooks_Add_tags_in_cells.ipynb\n",
      "187 Jupyter_Notebooks_Count_code_characters.ipynb\n",
      "188 Jupyter_Notebooks_Count_code_lines.ipynb\n",
      "189 Jupyter_Notebooks_Get_installs.ipynb\n",
      "190 Jupyter_Notebooks_Get_libraries.ipynb\n",
      "191 Jupyter_Notebooks_Read_file_json.ipynb\n",
      "192 Jupyter_Notebooks_Save_file_ipynb.ipynb\n",
      "193 Jupyter_Get_server_uptime.ipynb\n",
      "194 Jupyter_Get_user_information.ipynb\n",
      "195 Jupyter_Get_user_session.ipynb\n",
      "196 Jupyter_Get_user_terminal.ipynb\n",
      "197 Jupyter_Restart_server.ipynb\n",
      "198 Kaggle_Download_Data.ipynb\n",
      "199 Knative_Create_command_file.ipynb\n",
      "200 LeFigaro_House_Price_analysis.ipynb\n",
      "201 LinkedIn_Accept_all_invitations_and_send_first_message.ipynb\n",
      "202 LinkedIn_Accept_invitation_received.ipynb\n",
      "203 LinkedIn_Create_posts_metrics_dashboard.ipynb\n",
      "Updating description: LinkedIn - Create posts metrics dashboard\n",
      "**Description:** This notebook provides a dashboard to track the performance metrics of posts created on LinkedIn.\n",
      "✔️ LinkedIn/LinkedIn_Create_posts_metrics_dashboard.ipynb saved in Naas.\n",
      "204 LinkedIn_Extract_content_world_cloud.ipynb\n",
      "Updating description: LinkedIn - Extract content world cloud\n",
      "**Description:** This notebook provides a way to extract content from LinkedIn and visualize it in a word cloud.\n",
      "✔️ LinkedIn/LinkedIn_Extract_content_world_cloud.ipynb saved in Naas.\n",
      "205 LinkedIn_Follow_company_followers.ipynb\n",
      "206 LinkedIn_Follow_connections_from_profile.ipynb\n",
      "207 LinkedIn_Follow_content_comments_monthly.ipynb\n",
      "Updating description: LinkedIn - Follow content comments monthly\n",
      "**Description:** This notebook allows you to track and analyze the comments on your LinkedIn content each month.\n",
      "✔️ LinkedIn/LinkedIn_Follow_content_comments_monthly.ipynb saved in Naas.\n",
      "208 LinkedIn_Follow_content_comments_weekly.ipynb\n",
      "Updating description: LinkedIn - Follow content comments weekly\n",
      "**Description:** This notebook allows you to track and follow comments on content posted on LinkedIn on a weekly basis.\n",
      "✔️ LinkedIn/LinkedIn_Follow_content_comments_weekly.ipynb saved in Naas.\n",
      "209 LinkedIn_Follow_content_engagements_monthly.ipynb\n",
      "Updating description: LinkedIn - Follow content engagements monthly\n",
      "**Description:** This notebook provides a monthly overview of content engagements on LinkedIn.\n",
      "✔️ LinkedIn/LinkedIn_Follow_content_engagements_monthly.ipynb saved in Naas.\n",
      "210 LinkedIn_Follow_content_engagements_weekly.ipynb\n",
      "Updating description: LinkedIn - Follow content engagements weekly\n",
      "**Description:** This notebook helps you track and analyze your weekly content engagements on LinkedIn.\n",
      "✔️ LinkedIn/LinkedIn_Follow_content_engagements_weekly.ipynb saved in Naas.\n",
      "211 LinkedIn_Follow_content_frequency.ipynb\n",
      "Updating description: LinkedIn - Follow content frequency\n",
      "**Description:** This notebook allows users to track how often they post content on LinkedIn and follow the frequency of their posts.\n",
      "✔️ LinkedIn/LinkedIn_Follow_content_frequency.ipynb saved in Naas.\n",
      "212 LinkedIn_Follow_content_likes_monthly.ipynb\n",
      "Updating description: LinkedIn - Follow content likes monthly\n",
      "**Description:** This notebook allows you to track and follow content on LinkedIn on a monthly basis.\n",
      "✔️ LinkedIn/LinkedIn_Follow_content_likes_monthly.ipynb saved in Naas.\n",
      "213 LinkedIn_Follow_content_likes_weekly.ipynb\n",
      "Updating description: LinkedIn - Follow content likes weekly\n",
      "**Description:** This notebook allows you to keep track of the content you like on LinkedIn and follow it on a weekly basis.\n",
      "✔️ LinkedIn/LinkedIn_Follow_content_likes_weekly.ipynb saved in Naas.\n",
      "214 LinkedIn_Follow_content_published_by_weekdays_by_months.ipynb\n",
      "Updating description: LinkedIn - Follow content published by weekdays by months\n"
     ]
    }
   ],
   "source": [
    "awesome_notebooks = df_notebooks[\"SUBDIR\"].unique()\n",
    "# Loop on awesome-notebook dir\n",
    "for index, notebook in enumerate(notebooks):\n",
    "    notebook_name = notebook.split(\"/\")[-1]\n",
    "    if notebook_name in awesome_notebooks:\n",
    "        print(index, notebook_name)\n",
    "        update_notebook(notebook)"
   ]
  },
  {
   "cell_type": "code",
   "execution_count": null,
   "id": "b6768a72-48cf-475b-9659-abce23d15d5d",
   "metadata": {},
   "outputs": [],
   "source": []
  }
 ],
 "metadata": {
  "kernelspec": {
   "display_name": "Python 3",
   "language": "python",
   "name": "python3"
  },
  "language_info": {
   "codemirror_mode": {
    "name": "ipython",
    "version": 3
   },
   "file_extension": ".py",
   "mimetype": "text/x-python",
   "name": "python",
   "nbconvert_exporter": "python",
   "pygments_lexer": "ipython3",
   "version": "3.9.6"
  },
  "papermill": {
   "default_parameters": {},
   "environment_variables": {},
   "parameters": {},
   "version": "2.3.3"
  },
  "widgets": {
   "application/vnd.jupyter.widget-state+json": {
    "state": {},
    "version_major": 2,
    "version_minor": 0
   }
  }
 },
 "nbformat": 4,
 "nbformat_minor": 5
}
