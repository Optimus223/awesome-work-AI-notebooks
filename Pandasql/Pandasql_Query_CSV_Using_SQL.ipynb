{
 "cells": [
  {
   "cell_type": "markdown",
   "id": "latin-packing",
   "metadata": {
    "execution": {
     "iopub.execute_input": "2021-02-23T14:22:16.610471Z",
     "iopub.status.busy": "2021-02-23T14:22:16.610129Z",
     "iopub.status.idle": "2021-02-23T14:22:16.627784Z",
     "shell.execute_reply": "2021-02-23T14:22:16.626866Z",
     "shell.execute_reply.started": "2021-02-23T14:22:16.610384Z"
    },
    "papermill": {},
    "tags": []
   },
   "source": [
    "<img width=\"10%\" alt=\"Naas\" src=\"https://landen.imgix.net/jtci2pxwjczr/assets/5ice39g4.png?w=160\"/>"
   ]
  },
  {
   "cell_type": "markdown",
   "id": "compressed-wilson",
   "metadata": {
    "papermill": {},
    "tags": []
   },
   "source": [
    "# Pandasql - Query CSV Using SQL\n",
    "<a href=\"https://app.naas.ai/user-redirect/naas/downloader?url=https://raw.githubusercontent.com/jupyter-naas/awesome-notebooks/master/Pandasql/Pandasql_Query_CSV_Using_SQL.ipynb\" target=\"_parent\"><img src=\"https://naasai-public.s3.eu-west-3.amazonaws.com/open_in_naas.svg\"/></a><br><br><a href=\"https://github.com/jupyter-naas/awesome-notebooks/issues/new?assignees=&labels=&template=template-request.md&title=Tool+-+Action+of+the+notebook+\">Template request</a> | <a href=\"https://github.com/jupyter-naas/awesome-notebooks/issues/new?assignees=&labels=bug&template=bug_report.md&title=D-Tale+-+Visualize+dataframe:+Error+short+description\">Bug report</a>"
   ]
  },
  {
   "cell_type": "markdown",
   "id": "religious-programmer",
   "metadata": {
    "papermill": {},
    "tags": []
   },
   "source": [
    "**Tags:** #pandas #csv #snippet #read #dataframe #sql #pandasql #operations"
   ]
  },
  {
   "cell_type": "markdown",
   "id": "1fe9f56e-561c-4f52-aef8-b861c9462107",
   "metadata": {
    "papermill": {},
    "tags": []
   },
   "source": [
    "**Author:** [Minura Punchihewa](https://www.linkedin.com/in/minurapunchihewa/)"
   ]
  },
  {
   "cell_type": "markdown",
   "id": "5e611b8c-4ef4-44b9-921a-ce83f7f7b674",
   "metadata": {
    "execution": {
     "iopub.execute_input": "2023-02-06T13:03:39.575167Z",
     "iopub.status.busy": "2023-02-06T13:03:39.574902Z",
     "iopub.status.idle": "2023-02-06T13:03:39.590095Z",
     "shell.execute_reply": "2023-02-06T13:03:39.589292Z",
     "shell.execute_reply.started": "2023-02-06T13:03:39.575102Z"
    },
    "tags": []
   },
   "source": [
    "**Description:** This notebook demonstrates how to use Pandasql to query CSV files as if they were relational databases, using SQL syntax. The aim is to provide an alternative to traditional Pandas methods for filtering, grouping, and aggregating data, and make it easier for users who are familiar with SQL to perform these tasks."
   ]
  },
  {
   "cell_type": "markdown",
   "id": "distinguished-truth",
   "metadata": {
    "papermill": {},
    "tags": []
   },
   "source": [
    "## Input"
   ]
  },
  {
   "cell_type": "markdown",
   "id": "5f0de8b4",
   "metadata": {
    "papermill": {},
    "tags": []
   },
   "source": [
    "### Install pandasql and SQLAlchemy 1.4.46"
   ]
  },
  {
   "cell_type": "code",
   "execution_count": 1,
   "id": "e384c00e",
   "metadata": {
    "papermill": {},
    "tags": []
   },
   "outputs": [
    {
     "name": "stdout",
     "output_type": "stream",
     "text": [
      "Requirement already satisfied: pandasql in /home/minura/.local/lib/python3.8/site-packages (0.7.3)\n",
      "Requirement already satisfied: sqlalchemy in /home/minura/anaconda3/envs/awesome-notebooks/lib/python3.8/site-packages (from pandasql) (1.4.46)\n",
      "Requirement already satisfied: pandas in /home/minura/.local/lib/python3.8/site-packages (from pandasql) (1.5.3)\n",
      "Requirement already satisfied: numpy in /home/minura/.local/lib/python3.8/site-packages (from pandasql) (1.24.1)\n",
      "Requirement already satisfied: pytz>=2020.1 in /home/minura/.local/lib/python3.8/site-packages (from pandas->pandasql) (2022.7.1)\n",
      "Requirement already satisfied: python-dateutil>=2.8.1 in /home/minura/.local/lib/python3.8/site-packages (from pandas->pandasql) (2.8.2)\n",
      "Requirement already satisfied: greenlet!=0.4.17 in /home/minura/.local/lib/python3.8/site-packages (from sqlalchemy->pandasql) (2.0.2)\n",
      "Requirement already satisfied: six>=1.5 in /home/minura/anaconda3/envs/awesome-notebooks/lib/python3.8/site-packages (from python-dateutil>=2.8.1->pandas->pandasql) (1.12.0)\n",
      "\u001b[33mWARNING: You are using pip version 22.0.4; however, version 23.0 is available.\n",
      "You should consider upgrading via the '/home/minura/anaconda3/envs/awesome-notebooks/bin/python -m pip install --upgrade pip' command.\u001b[0m\u001b[33m\n",
      "\u001b[0mRequirement already satisfied: sqlalchemy==1.4.46 in /home/minura/anaconda3/envs/awesome-notebooks/lib/python3.8/site-packages (1.4.46)\n",
      "Requirement already satisfied: greenlet!=0.4.17 in /home/minura/.local/lib/python3.8/site-packages (from sqlalchemy==1.4.46) (2.0.2)\n",
      "\u001b[33mWARNING: You are using pip version 22.0.4; however, version 23.0 is available.\n",
      "You should consider upgrading via the '/home/minura/anaconda3/envs/awesome-notebooks/bin/python -m pip install --upgrade pip' command.\u001b[0m\u001b[33m\n",
      "\u001b[0m"
     ]
    }
   ],
   "source": [
    "! pip install pandasql\n",
    "! pip install sqlalchemy==1.4.46"
   ]
  },
  {
   "cell_type": "markdown",
   "id": "numeric-mediterranean",
   "metadata": {
    "papermill": {},
    "tags": []
   },
   "source": [
    "### Import libraries"
   ]
  },
  {
   "cell_type": "code",
   "execution_count": 2,
   "id": "potential-surfing",
   "metadata": {
    "papermill": {},
    "tags": []
   },
   "outputs": [],
   "source": [
    "import pandas\n",
    "from pandasql import sqldf"
   ]
  },
  {
   "cell_type": "markdown",
   "id": "aggressive-trustee",
   "metadata": {
    "papermill": {},
    "tags": []
   },
   "source": [
    "### Variables"
   ]
  },
  {
   "cell_type": "code",
   "execution_count": 3,
   "id": "continuous-melbourne",
   "metadata": {
    "papermill": {},
    "tags": []
   },
   "outputs": [],
   "source": [
    "csv_path = \"https://raw.githubusercontent.com/CSSEGISandData/COVID-19/master/csse_covid_19_data/csse_covid_19_time_series/time_series_covid19_confirmed_global.csv\"\n",
    "query = \"\"\"SELECT * FROM df;\"\"\""
   ]
  },
  {
   "cell_type": "markdown",
   "id": "registered-showcase",
   "metadata": {
    "papermill": {},
    "tags": []
   },
   "source": [
    "## Model"
   ]
  },
  {
   "cell_type": "markdown",
   "id": "tested-astrology",
   "metadata": {
    "papermill": {},
    "tags": []
   },
   "source": [
    "### Read the CSV from path"
   ]
  },
  {
   "cell_type": "code",
   "execution_count": 4,
   "id": "crude-louisville",
   "metadata": {
    "papermill": {},
    "tags": []
   },
   "outputs": [],
   "source": [
    "df = pandas.read_csv(csv_path)"
   ]
  },
  {
   "cell_type": "markdown",
   "id": "lonely-pacific",
   "metadata": {
    "execution": {
     "iopub.execute_input": "2021-07-02T23:32:10.789097Z",
     "iopub.status.busy": "2021-07-02T23:32:10.788829Z",
     "iopub.status.idle": "2021-07-02T23:32:10.796900Z",
     "shell.execute_reply": "2021-07-02T23:32:10.796358Z",
     "shell.execute_reply.started": "2021-07-02T23:32:10.789033Z"
    },
    "papermill": {},
    "tags": []
   },
   "source": [
    "## Output"
   ]
  },
  {
   "cell_type": "markdown",
   "id": "890f7c86-b7bb-4f5d-9a1b-e492dd9580fd",
   "metadata": {
    "papermill": {},
    "tags": []
   },
   "source": [
    "### Run the query against the CSV file"
   ]
  },
  {
   "cell_type": "code",
   "execution_count": 5,
   "id": "9c4e3b7b-6440-4844-8054-265f1aec65eb",
   "metadata": {
    "papermill": {},
    "tags": []
   },
   "outputs": [],
   "source": [
    "output_df = sqldf(query)"
   ]
  },
  {
   "cell_type": "markdown",
   "id": "e5e13120",
   "metadata": {
    "papermill": {},
    "tags": []
   },
   "source": [
    "### View results of the query"
   ]
  },
  {
   "cell_type": "code",
   "execution_count": 6,
   "id": "7622a320",
   "metadata": {
    "papermill": {},
    "tags": []
   },
   "outputs": [
    {
     "data": {
      "text/html": [
       "<div>\n",
       "<style scoped>\n",
       "    .dataframe tbody tr th:only-of-type {\n",
       "        vertical-align: middle;\n",
       "    }\n",
       "\n",
       "    .dataframe tbody tr th {\n",
       "        vertical-align: top;\n",
       "    }\n",
       "\n",
       "    .dataframe thead th {\n",
       "        text-align: right;\n",
       "    }\n",
       "</style>\n",
       "<table border=\"1\" class=\"dataframe\">\n",
       "  <thead>\n",
       "    <tr style=\"text-align: right;\">\n",
       "      <th></th>\n",
       "      <th>Province/State</th>\n",
       "      <th>Country/Region</th>\n",
       "      <th>Lat</th>\n",
       "      <th>Long</th>\n",
       "      <th>1/22/20</th>\n",
       "      <th>1/23/20</th>\n",
       "      <th>1/24/20</th>\n",
       "      <th>1/25/20</th>\n",
       "      <th>1/26/20</th>\n",
       "      <th>1/27/20</th>\n",
       "      <th>...</th>\n",
       "      <th>1/25/23</th>\n",
       "      <th>1/26/23</th>\n",
       "      <th>1/27/23</th>\n",
       "      <th>1/28/23</th>\n",
       "      <th>1/29/23</th>\n",
       "      <th>1/30/23</th>\n",
       "      <th>1/31/23</th>\n",
       "      <th>2/1/23</th>\n",
       "      <th>2/2/23</th>\n",
       "      <th>2/3/23</th>\n",
       "    </tr>\n",
       "  </thead>\n",
       "  <tbody>\n",
       "    <tr>\n",
       "      <th>0</th>\n",
       "      <td>None</td>\n",
       "      <td>Afghanistan</td>\n",
       "      <td>33.939110</td>\n",
       "      <td>67.709953</td>\n",
       "      <td>0</td>\n",
       "      <td>0</td>\n",
       "      <td>0</td>\n",
       "      <td>0</td>\n",
       "      <td>0</td>\n",
       "      <td>0</td>\n",
       "      <td>...</td>\n",
       "      <td>208324</td>\n",
       "      <td>208324</td>\n",
       "      <td>208432</td>\n",
       "      <td>208435</td>\n",
       "      <td>208435</td>\n",
       "      <td>208502</td>\n",
       "      <td>208545</td>\n",
       "      <td>208552</td>\n",
       "      <td>208669</td>\n",
       "      <td>208669</td>\n",
       "    </tr>\n",
       "    <tr>\n",
       "      <th>1</th>\n",
       "      <td>None</td>\n",
       "      <td>Albania</td>\n",
       "      <td>41.153300</td>\n",
       "      <td>20.168300</td>\n",
       "      <td>0</td>\n",
       "      <td>0</td>\n",
       "      <td>0</td>\n",
       "      <td>0</td>\n",
       "      <td>0</td>\n",
       "      <td>0</td>\n",
       "      <td>...</td>\n",
       "      <td>334124</td>\n",
       "      <td>334135</td>\n",
       "      <td>334144</td>\n",
       "      <td>334153</td>\n",
       "      <td>334157</td>\n",
       "      <td>334157</td>\n",
       "      <td>334167</td>\n",
       "      <td>334177</td>\n",
       "      <td>334187</td>\n",
       "      <td>334203</td>\n",
       "    </tr>\n",
       "    <tr>\n",
       "      <th>2</th>\n",
       "      <td>None</td>\n",
       "      <td>Algeria</td>\n",
       "      <td>28.033900</td>\n",
       "      <td>1.659600</td>\n",
       "      <td>0</td>\n",
       "      <td>0</td>\n",
       "      <td>0</td>\n",
       "      <td>0</td>\n",
       "      <td>0</td>\n",
       "      <td>0</td>\n",
       "      <td>...</td>\n",
       "      <td>271360</td>\n",
       "      <td>271364</td>\n",
       "      <td>271369</td>\n",
       "      <td>271369</td>\n",
       "      <td>271376</td>\n",
       "      <td>271376</td>\n",
       "      <td>271378</td>\n",
       "      <td>271385</td>\n",
       "      <td>271386</td>\n",
       "      <td>271394</td>\n",
       "    </tr>\n",
       "    <tr>\n",
       "      <th>3</th>\n",
       "      <td>None</td>\n",
       "      <td>Andorra</td>\n",
       "      <td>42.506300</td>\n",
       "      <td>1.521800</td>\n",
       "      <td>0</td>\n",
       "      <td>0</td>\n",
       "      <td>0</td>\n",
       "      <td>0</td>\n",
       "      <td>0</td>\n",
       "      <td>0</td>\n",
       "      <td>...</td>\n",
       "      <td>47820</td>\n",
       "      <td>47820</td>\n",
       "      <td>47820</td>\n",
       "      <td>47839</td>\n",
       "      <td>47839</td>\n",
       "      <td>47839</td>\n",
       "      <td>47839</td>\n",
       "      <td>47839</td>\n",
       "      <td>47839</td>\n",
       "      <td>47850</td>\n",
       "    </tr>\n",
       "    <tr>\n",
       "      <th>4</th>\n",
       "      <td>None</td>\n",
       "      <td>Angola</td>\n",
       "      <td>-11.202700</td>\n",
       "      <td>17.873900</td>\n",
       "      <td>0</td>\n",
       "      <td>0</td>\n",
       "      <td>0</td>\n",
       "      <td>0</td>\n",
       "      <td>0</td>\n",
       "      <td>0</td>\n",
       "      <td>...</td>\n",
       "      <td>105184</td>\n",
       "      <td>105184</td>\n",
       "      <td>105184</td>\n",
       "      <td>105184</td>\n",
       "      <td>105184</td>\n",
       "      <td>105184</td>\n",
       "      <td>105184</td>\n",
       "      <td>105184</td>\n",
       "      <td>105184</td>\n",
       "      <td>105184</td>\n",
       "    </tr>\n",
       "    <tr>\n",
       "      <th>...</th>\n",
       "      <td>...</td>\n",
       "      <td>...</td>\n",
       "      <td>...</td>\n",
       "      <td>...</td>\n",
       "      <td>...</td>\n",
       "      <td>...</td>\n",
       "      <td>...</td>\n",
       "      <td>...</td>\n",
       "      <td>...</td>\n",
       "      <td>...</td>\n",
       "      <td>...</td>\n",
       "      <td>...</td>\n",
       "      <td>...</td>\n",
       "      <td>...</td>\n",
       "      <td>...</td>\n",
       "      <td>...</td>\n",
       "      <td>...</td>\n",
       "      <td>...</td>\n",
       "      <td>...</td>\n",
       "      <td>...</td>\n",
       "      <td>...</td>\n",
       "    </tr>\n",
       "    <tr>\n",
       "      <th>284</th>\n",
       "      <td>None</td>\n",
       "      <td>West Bank and Gaza</td>\n",
       "      <td>31.952200</td>\n",
       "      <td>35.233200</td>\n",
       "      <td>0</td>\n",
       "      <td>0</td>\n",
       "      <td>0</td>\n",
       "      <td>0</td>\n",
       "      <td>0</td>\n",
       "      <td>0</td>\n",
       "      <td>...</td>\n",
       "      <td>703228</td>\n",
       "      <td>703228</td>\n",
       "      <td>703228</td>\n",
       "      <td>703228</td>\n",
       "      <td>703228</td>\n",
       "      <td>703228</td>\n",
       "      <td>703228</td>\n",
       "      <td>703228</td>\n",
       "      <td>703228</td>\n",
       "      <td>703228</td>\n",
       "    </tr>\n",
       "    <tr>\n",
       "      <th>285</th>\n",
       "      <td>None</td>\n",
       "      <td>Winter Olympics 2022</td>\n",
       "      <td>39.904200</td>\n",
       "      <td>116.407400</td>\n",
       "      <td>0</td>\n",
       "      <td>0</td>\n",
       "      <td>0</td>\n",
       "      <td>0</td>\n",
       "      <td>0</td>\n",
       "      <td>0</td>\n",
       "      <td>...</td>\n",
       "      <td>535</td>\n",
       "      <td>535</td>\n",
       "      <td>535</td>\n",
       "      <td>535</td>\n",
       "      <td>535</td>\n",
       "      <td>535</td>\n",
       "      <td>535</td>\n",
       "      <td>535</td>\n",
       "      <td>535</td>\n",
       "      <td>535</td>\n",
       "    </tr>\n",
       "    <tr>\n",
       "      <th>286</th>\n",
       "      <td>None</td>\n",
       "      <td>Yemen</td>\n",
       "      <td>15.552727</td>\n",
       "      <td>48.516388</td>\n",
       "      <td>0</td>\n",
       "      <td>0</td>\n",
       "      <td>0</td>\n",
       "      <td>0</td>\n",
       "      <td>0</td>\n",
       "      <td>0</td>\n",
       "      <td>...</td>\n",
       "      <td>11945</td>\n",
       "      <td>11945</td>\n",
       "      <td>11945</td>\n",
       "      <td>11945</td>\n",
       "      <td>11945</td>\n",
       "      <td>11945</td>\n",
       "      <td>11945</td>\n",
       "      <td>11945</td>\n",
       "      <td>11945</td>\n",
       "      <td>11945</td>\n",
       "    </tr>\n",
       "    <tr>\n",
       "      <th>287</th>\n",
       "      <td>None</td>\n",
       "      <td>Zambia</td>\n",
       "      <td>-13.133897</td>\n",
       "      <td>27.849332</td>\n",
       "      <td>0</td>\n",
       "      <td>0</td>\n",
       "      <td>0</td>\n",
       "      <td>0</td>\n",
       "      <td>0</td>\n",
       "      <td>0</td>\n",
       "      <td>...</td>\n",
       "      <td>339743</td>\n",
       "      <td>339949</td>\n",
       "      <td>340172</td>\n",
       "      <td>340172</td>\n",
       "      <td>340172</td>\n",
       "      <td>340582</td>\n",
       "      <td>340763</td>\n",
       "      <td>340944</td>\n",
       "      <td>341261</td>\n",
       "      <td>341397</td>\n",
       "    </tr>\n",
       "    <tr>\n",
       "      <th>288</th>\n",
       "      <td>None</td>\n",
       "      <td>Zimbabwe</td>\n",
       "      <td>-19.015438</td>\n",
       "      <td>29.154857</td>\n",
       "      <td>0</td>\n",
       "      <td>0</td>\n",
       "      <td>0</td>\n",
       "      <td>0</td>\n",
       "      <td>0</td>\n",
       "      <td>0</td>\n",
       "      <td>...</td>\n",
       "      <td>261606</td>\n",
       "      <td>261606</td>\n",
       "      <td>261606</td>\n",
       "      <td>261606</td>\n",
       "      <td>261606</td>\n",
       "      <td>261606</td>\n",
       "      <td>261606</td>\n",
       "      <td>262324</td>\n",
       "      <td>262324</td>\n",
       "      <td>262324</td>\n",
       "    </tr>\n",
       "  </tbody>\n",
       "</table>\n",
       "<p>289 rows × 1113 columns</p>\n",
       "</div>"
      ],
      "text/plain": [
       "    Province/State        Country/Region        Lat        Long  1/22/20  \\\n",
       "0             None           Afghanistan  33.939110   67.709953        0   \n",
       "1             None               Albania  41.153300   20.168300        0   \n",
       "2             None               Algeria  28.033900    1.659600        0   \n",
       "3             None               Andorra  42.506300    1.521800        0   \n",
       "4             None                Angola -11.202700   17.873900        0   \n",
       "..             ...                   ...        ...         ...      ...   \n",
       "284           None    West Bank and Gaza  31.952200   35.233200        0   \n",
       "285           None  Winter Olympics 2022  39.904200  116.407400        0   \n",
       "286           None                 Yemen  15.552727   48.516388        0   \n",
       "287           None                Zambia -13.133897   27.849332        0   \n",
       "288           None              Zimbabwe -19.015438   29.154857        0   \n",
       "\n",
       "     1/23/20  1/24/20  1/25/20  1/26/20  1/27/20  ...  1/25/23  1/26/23  \\\n",
       "0          0        0        0        0        0  ...   208324   208324   \n",
       "1          0        0        0        0        0  ...   334124   334135   \n",
       "2          0        0        0        0        0  ...   271360   271364   \n",
       "3          0        0        0        0        0  ...    47820    47820   \n",
       "4          0        0        0        0        0  ...   105184   105184   \n",
       "..       ...      ...      ...      ...      ...  ...      ...      ...   \n",
       "284        0        0        0        0        0  ...   703228   703228   \n",
       "285        0        0        0        0        0  ...      535      535   \n",
       "286        0        0        0        0        0  ...    11945    11945   \n",
       "287        0        0        0        0        0  ...   339743   339949   \n",
       "288        0        0        0        0        0  ...   261606   261606   \n",
       "\n",
       "     1/27/23  1/28/23  1/29/23  1/30/23  1/31/23  2/1/23  2/2/23  2/3/23  \n",
       "0     208432   208435   208435   208502   208545  208552  208669  208669  \n",
       "1     334144   334153   334157   334157   334167  334177  334187  334203  \n",
       "2     271369   271369   271376   271376   271378  271385  271386  271394  \n",
       "3      47820    47839    47839    47839    47839   47839   47839   47850  \n",
       "4     105184   105184   105184   105184   105184  105184  105184  105184  \n",
       "..       ...      ...      ...      ...      ...     ...     ...     ...  \n",
       "284   703228   703228   703228   703228   703228  703228  703228  703228  \n",
       "285      535      535      535      535      535     535     535     535  \n",
       "286    11945    11945    11945    11945    11945   11945   11945   11945  \n",
       "287   340172   340172   340172   340582   340763  340944  341261  341397  \n",
       "288   261606   261606   261606   261606   261606  262324  262324  262324  \n",
       "\n",
       "[289 rows x 1113 columns]"
      ]
     },
     "execution_count": 6,
     "metadata": {},
     "output_type": "execute_result"
    }
   ],
   "source": [
    "output_df"
   ]
  }
 ],
 "metadata": {
  "kernelspec": {
   "display_name": "Python 3",
   "language": "python",
   "name": "python3"
  },
  "language_info": {
   "codemirror_mode": {
    "name": "ipython",
    "version": 3
   },
   "file_extension": ".py",
   "mimetype": "text/x-python",
   "name": "python",
   "nbconvert_exporter": "python",
   "pygments_lexer": "ipython3",
   "version": "3.9.6"
  },
  "papermill": {
   "default_parameters": {},
   "environment_variables": {},
   "parameters": {},
   "version": "2.3.3"
  },
  "widgets": {
   "application/vnd.jupyter.widget-state+json": {
    "state": {},
    "version_major": 2,
    "version_minor": 0
   }
  }
 },
 "nbformat": 4,
 "nbformat_minor": 5
}
