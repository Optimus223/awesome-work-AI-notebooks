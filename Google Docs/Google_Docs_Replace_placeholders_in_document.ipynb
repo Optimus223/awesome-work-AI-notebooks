{
 "cells": [
  {
   "cell_type": "markdown",
   "id": "33fcb4fa-9ddc-45cf-8876-d68304fc89cb",
   "metadata": {
    "papermill": {},
    "tags": []
   },
   "source": [
    "<img width=\"10%\" alt=\"Naas\" src=\"https://landen.imgix.net/jtci2pxwjczr/assets/5ice39g4.png?w=160\"/>"
   ]
  },
  {
   "cell_type": "markdown",
   "id": "d71c7b1a-2fb8-4c7f-b79b-77bdfb7df136",
   "metadata": {
    "papermill": {},
    "tags": []
   },
   "source": [
    "# Google Docs - Replace placeholders in document"
   ]
  },
  {
   "cell_type": "markdown",
   "id": "ce6c8356-5725-496d-87da-a49909d196a5",
   "metadata": {
    "papermill": {},
    "tags": []
   },
   "source": [
    "**Tags:** #google #docs #placeholders #replace #document #template"
   ]
  },
  {
   "cell_type": "markdown",
   "id": "79346938-e73e-4dc3-ac44-2803923a68af",
   "metadata": {
    "papermill": {},
    "tags": []
   },
   "source": [
    "**Author:** [Firstname Lastname](https://www.linkedin.com/in/xxxx)"
   ]
  },
  {
   "cell_type": "markdown",
   "id": "2236b72d-12c3-4d8b-8afc-462002695d21",
   "metadata": {
    "papermill": {},
    "tags": []
   },
   "source": [
    "**Last update:** 2023-10-12 (Created: 2023-10-12)"
   ]
  },
  {
   "cell_type": "markdown",
   "id": "26b7f010-2ca3-465d-b260-de5b4d5bc580",
   "metadata": {
    "papermill": {},
    "tags": []
   },
   "source": [
    "**Description:** This notebook shows how to replace placeholders in a Google Docs document. It is usefull for organizations that need to quickly create documents with personalized content."
   ]
  },
  {
   "cell_type": "markdown",
   "id": "c0407562-255b-499c-9268-268344d702f3",
   "metadata": {
    "papermill": {},
    "tags": []
   },
   "source": [
    "**References:**\n- [Google Docs - Replace placeholders](https://support.google.com/docs/answer/9077?co=GENIE.Platform%3DDesktop&hl=en)\n- [Google Docs - Create a template](https://support.google.com/docs/answer/62818?co=GENIE.Platform%3DDesktop&hl=en)"
   ]
  },
  {
   "cell_type": "markdown",
   "id": "807e4bc5-f630-4513-8237-ce154074f880",
   "metadata": {
    "papermill": {},
    "tags": []
   },
   "source": [
    "## Input"
   ]
  },
  {
   "cell_type": "markdown",
   "id": "3b17bb4d-937e-41c5-bf86-baf65e5a1a04",
   "metadata": {
    "papermill": {},
    "tags": []
   },
   "source": [
    "### Import libraries"
   ]
  },
  {
   "cell_type": "code",
   "execution_count": null,
   "id": "24eb4bc3-eaf6-4552-b38c-d2f245491848",
   "metadata": {
    "papermill": {},
    "tags": []
   },
   "source": "import gspread\nfrom oauth2client.service_account import ServiceAccountCredentials",
   "outputs": []
  },
  {
   "cell_type": "markdown",
   "id": "38be8876-c03a-4c62-9029-6f0d251bd414",
   "metadata": {
    "papermill": {},
    "tags": []
   },
   "source": [
    "### Setup variables\n- `scope`: list of scopes to access Google Sheets\n- `credentials`: credentials to access Google Sheets"
   ]
  },
  {
   "cell_type": "code",
   "execution_count": null,
   "id": "046a8b7c-91b4-4a07-bebf-cf9ff4f17872",
   "metadata": {
    "papermill": {},
    "tags": []
   },
   "source": "scope = [\n    \"https://spreadsheets.google.com/feeds\",\n    \"https://www.googleapis.com/auth/drive\",\n]\ncredentials = ServiceAccountCredentials.from_json_keyfile_name(\n    \"credentials.json\", scope\n)",
   "outputs": []
  },
  {
   "cell_type": "markdown",
   "id": "dd51d3d6-4aad-442e-a13f-89de1a47349f",
   "metadata": {
    "papermill": {},
    "tags": []
   },
   "source": [
    "## Model"
   ]
  },
  {
   "cell_type": "markdown",
   "id": "74889834-f1cc-4a02-aee5-72c47ac87749",
   "metadata": {
    "papermill": {},
    "tags": []
   },
   "source": [
    "### Replace placeholders"
   ]
  },
  {
   "cell_type": "markdown",
   "id": "f86a42a7-67fc-4ef2-a183-8af754debdd5",
   "metadata": {
    "papermill": {},
    "tags": []
   },
   "source": [
    "Long description of the function without break"
   ]
  },
  {
   "cell_type": "code",
   "execution_count": null,
   "id": "38613536-2eec-4e0f-a154-76d9b0e71107",
   "metadata": {
    "papermill": {},
    "tags": []
   },
   "source": "# Replace placeholders in document\ndocument.replace_placeholders(placeholders)",
   "outputs": []
  },
  {
   "cell_type": "markdown",
   "id": "0da1ed11-2f98-4e2c-98aa-15cb8c3421c0",
   "metadata": {
    "papermill": {},
    "tags": []
   },
   "source": [
    "## Output"
   ]
  },
  {
   "cell_type": "markdown",
   "id": "770b9375-2d34-492e-8982-f3a640d20efb",
   "metadata": {
    "papermill": {},
    "tags": []
   },
   "source": [
    "### Display result"
   ]
  },
  {
   "cell_type": "code",
   "execution_count": null,
   "id": "6d21ed6e-e723-4ace-a018-960261d1d897",
   "metadata": {
    "papermill": {},
    "tags": []
   },
   "source": "# Display document\ndocument.display()",
   "outputs": []
  }
 ],
 "metadata": {
  "kernelspec": {
   "display_name": "Python 3",
   "language": "python",
   "name": "python3"
  },
  "language_info": {
   "codemirror_mode": {
    "name": "ipython",
    "version": 3
   },
   "file_extension": ".py",
   "mimetype": "text/x-python",
   "name": "python",
   "nbconvert_exporter": "python",
   "pygments_lexer": "ipython3",
   "version": "3.9.6"
  },
  "widgets": {
   "application/vnd.jupyter.widget-state+json": {
    "state": {},
    "version_major": 2,
    "version_minor": 0
   }
  }
 },
 "nbformat": 4,
 "nbformat_minor": 5
}