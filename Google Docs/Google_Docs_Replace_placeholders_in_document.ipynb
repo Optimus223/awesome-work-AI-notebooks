{
 "cells": [
  {
   "cell_type": "markdown",
   "id": "33fcb4fa-9ddc-45cf-8876-d68304fc89cb",
   "metadata": {
    "papermill": {},
    "tags": []
   },
   "source": [
    "<img width=\"10%\" alt=\"Naas\" src=\"https://landen.imgix.net/jtci2pxwjczr/assets/5ice39g4.png?w=160\"/>"
   ]
  },
  {
   "cell_type": "markdown",
   "id": "d71c7b1a-2fb8-4c7f-b79b-77bdfb7df136",
   "metadata": {
    "papermill": {},
    "tags": []
   },
   "source": [
    "# Google Docs - Replace Placeholders in Document"
   ]
  },
  {
   "cell_type": "markdown",
   "id": "ce6c8356-5725-496d-87da-a49909d196a5",
   "metadata": {
    "papermill": {},
    "tags": []
   },
   "source": [
    "**Tags:** #googledocs #placeholderreplacement #productivity #automation #googledocsmagic"
   ]
  },
  {
   "cell_type": "markdown",
   "id": "79346938-e73e-4dc3-ac44-2803923a68af",
   "metadata": {
    "papermill": {},
    "tags": []
   },
   "source": [
    "**Author:** [Chris Arnold](https://chrisarnold.live/me/linkedin)"
   ]
  },
  {
   "cell_type": "markdown",
   "id": "2236b72d-12c3-4d8b-8afc-462002695d21",
   "metadata": {
    "papermill": {},
    "tags": []
   },
   "source": [
    "**Last update:** 2023-11-02 (Created: 2023-10-12)"
   ]
  },
  {
   "cell_type": "markdown",
   "id": "26b7f010-2ca3-465d-b260-de5b4d5bc580",
   "metadata": {
    "papermill": {},
    "tags": []
   },
   "source": [
    "**Description:** This notebook demonstrates how to replace placeholders in a Google Docs document, allowing you to quickly create personalized content from templates."
   ]
  },
  {
   "cell_type": "markdown",
   "id": "48225d97-1f4c-4bcf-b58f-3cf2d826d725",
   "metadata": {
    "execution": {
     "iopub.execute_input": "2023-11-01T19:20:15.110378Z",
     "iopub.status.busy": "2023-11-01T19:20:15.110110Z",
     "iopub.status.idle": "2023-11-01T19:20:15.126898Z",
     "shell.execute_reply": "2023-11-01T19:20:15.125996Z",
     "shell.execute_reply.started": "2023-11-01T19:20:15.110312Z"
    }
   },
   "source": [
    "**Pre-requisites:** You need to set up service account credentials to use Google Docs API. For detailed instructions on how to do this, please refer to the [Google Docs Python Quickstart guide](https://developers.google.com/docs/api/quickstart/python).\n",
    "\n",
    "Please also ensure you have the necessary permissions to access and modify the Google Docs document. If global editor access to the document is not preferable, the document needs to be shared with the service account email (xxx@docs-temps.iam.gserviceaccount.com).\n",
    "\n",
    "It is recommended that the placeholders in the documents are in the format `{{placeholder}}` (with double curly braces) to help with visibility and to avoid words that are not being placeholders from being replaced."
   ]
  },
  {
   "cell_type": "markdown",
   "id": "c0407562-255b-499c-9268-268344d702f3",
   "metadata": {
    "papermill": {},
    "tags": []
   },
   "source": [
    "**References:**\n",
    "- [Google Docs - API](https://developers.google.com/docs/api/how-tos/overview)\n",
    "- [Google Workspace - Develop on Google Workspace](https://developers.google.com/workspace/guides/get-started)"
   ]
  },
  {
   "cell_type": "markdown",
   "id": "807e4bc5-f630-4513-8237-ce154074f880",
   "metadata": {
    "papermill": {},
    "tags": []
   },
   "source": [
    "## Input"
   ]
  },
  {
   "cell_type": "markdown",
   "id": "3b17bb4d-937e-41c5-bf86-baf65e5a1a04",
   "metadata": {
    "papermill": {},
    "tags": []
   },
   "source": [
    "### Import libraries"
   ]
  },
  {
   "cell_type": "code",
   "execution_count": 24,
   "id": "2770eb9a-f979-484e-8829-66a78ea68c26",
   "metadata": {
    "execution": {
     "iopub.execute_input": "2023-11-02T17:41:28.265942Z",
     "iopub.status.busy": "2023-11-02T17:41:28.265713Z",
     "iopub.status.idle": "2023-11-02T17:41:28.269768Z",
     "shell.execute_reply": "2023-11-02T17:41:28.269122Z",
     "shell.execute_reply.started": "2023-11-02T17:41:28.265918Z"
    },
    "tags": []
   },
   "outputs": [],
   "source": [
    "try:\n",
    "    from apiclient.discovery import build\n",
    "    from google.oauth2.service_account import Credentials\n",
    "except ModuleNotFoundError:\n",
    "    !pip install google-api-python-client\n",
    "    from apiclient.discovery import build\n",
    "    from google.oauth2.service_account import Credentials"
   ]
  },
  {
   "cell_type": "markdown",
   "id": "38be8876-c03a-4c62-9029-6f0d251bd414",
   "metadata": {
    "papermill": {},
    "tags": []
   },
   "source": [
    "### Setup variables\n",
    "`service_account_file`: JSON file containing credentials related to service account\n",
    "\n",
    "`scope`: The scope for the Google Docs APIscope (Google Docs API)\n",
    "\n",
    "`document_url` : URL of Google Doc file."
   ]
  },
  {
   "cell_type": "code",
   "execution_count": 25,
   "id": "046a8b7c-91b4-4a07-bebf-cf9ff4f17872",
   "metadata": {
    "execution": {
     "iopub.execute_input": "2023-11-02T17:41:30.648482Z",
     "iopub.status.busy": "2023-11-02T17:41:30.648254Z",
     "iopub.status.idle": "2023-11-02T17:41:30.651454Z",
     "shell.execute_reply": "2023-11-02T17:41:30.650810Z",
     "shell.execute_reply.started": "2023-11-02T17:41:30.648458Z"
    },
    "papermill": {},
    "tags": []
   },
   "outputs": [],
   "source": [
    "service_account_file = \"service_account.json\"\n",
    "scope = \"https://www.googleapis.com/auth/documents\"\n",
    "document_url = \"https://docs.google.com/document/d/1uPLQ4ALRwqx-tRirTF2bb_OocFlAyTX7ddXdv2f9g6g/\""
   ]
  },
  {
   "cell_type": "markdown",
   "id": "dd51d3d6-4aad-442e-a13f-89de1a47349f",
   "metadata": {
    "papermill": {},
    "tags": []
   },
   "source": [
    "## Model"
   ]
  },
  {
   "cell_type": "markdown",
   "id": "74889834-f1cc-4a02-aee5-72c47ac87749",
   "metadata": {
    "papermill": {},
    "tags": []
   },
   "source": [
    "### Connect to GCP"
   ]
  },
  {
   "cell_type": "markdown",
   "id": "f86a42a7-67fc-4ef2-a183-8af754debdd5",
   "metadata": {
    "papermill": {},
    "tags": []
   },
   "source": [
    "This function will create a Docs API client using the service account credentials"
   ]
  },
  {
   "cell_type": "code",
   "execution_count": 26,
   "id": "38613536-2eec-4e0f-a154-76d9b0e71107",
   "metadata": {
    "execution": {
     "iopub.execute_input": "2023-11-02T17:41:33.028400Z",
     "iopub.status.busy": "2023-11-02T17:41:33.028167Z",
     "iopub.status.idle": "2023-11-02T17:41:33.031864Z",
     "shell.execute_reply": "2023-11-02T17:41:33.031224Z",
     "shell.execute_reply.started": "2023-11-02T17:41:33.028377Z"
    },
    "papermill": {},
    "tags": []
   },
   "outputs": [],
   "source": [
    "def gcp_connect(file_path, scope):\n",
    "    credentials = Credentials.from_service_account_file(file_path, scopes=[scope])\n",
    "    service = build('docs', 'v1', credentials=credentials) \n",
    "    return service"
   ]
  },
  {
   "cell_type": "markdown",
   "id": "0da1ed11-2f98-4e2c-98aa-15cb8c3421c0",
   "metadata": {
    "papermill": {},
    "tags": []
   },
   "source": [
    "## Output"
   ]
  },
  {
   "cell_type": "markdown",
   "id": "770b9375-2d34-492e-8982-f3a640d20efb",
   "metadata": {
    "papermill": {},
    "tags": []
   },
   "source": [
    "### Replace placeholder in the document"
   ]
  },
  {
   "cell_type": "code",
   "execution_count": 31,
   "id": "dfc79286-971a-4bcd-a50d-e6738d09e491",
   "metadata": {
    "execution": {
     "iopub.execute_input": "2023-11-02T17:49:10.320105Z",
     "iopub.status.busy": "2023-11-02T17:49:10.319876Z",
     "iopub.status.idle": "2023-11-02T17:49:10.327056Z",
     "shell.execute_reply": "2023-11-02T17:49:10.326476Z",
     "shell.execute_reply.started": "2023-11-02T17:49:10.320082Z"
    },
    "tags": []
   },
   "outputs": [],
   "source": [
    "def placeholder_replacement(document_url, placeholder, replacement_value):\n",
    "    \"\"\"\n",
    "    Replace a placeholder in a Google Docs document with a replacement value.\n",
    "\n",
    "    Args:\n",
    "        document_url (str): The URL of the Google Docs document.\n",
    "        placeholder (str): The placeholder text.\n",
    "        replacement_value (str): The text to replace the placeholder with.\n",
    "\n",
    "    Returns:\n",
    "        str: A message indicating the number of template occurrences replaced.\n",
    "    \"\"\"\n",
    "    document_id = document_url.split(\"/d/\")[-1].split(\"/\")[0]\n",
    "    \n",
    "    request = {\n",
    "        'replaceAllText': {\n",
    "            'containsText': {\n",
    "                'text': placeholder,\n",
    "                'matchCase': True\n",
    "            },\n",
    "            'replaceText': replacement_value\n",
    "        }\n",
    "    }\n",
    "\n",
    "    body = {\n",
    "        'requests': [request]\n",
    "    }\n",
    "\n",
    "    service = gcp_connect(service_account_file, scope)  \n",
    "    response = service.documents().batchUpdate(documentId=document_id, body=body).execute()\n",
    "    \n",
    "    occurrences_changed = response.get('replies', [{}])[0].get('replaceAllText', {}).get('occurrencesChanged', 0)\n",
    "\n",
    "    return f\"{occurrences_changed} occurrences of the placeholder '{placeholder}' have been successfully replaced!\""
   ]
  },
  {
   "cell_type": "markdown",
   "id": "c265a9f9-48c0-419a-8a5b-1ed0ad60ff0f",
   "metadata": {},
   "source": [
    "**Sample function call:**  placeholder_replacement(document_url, \"{{placeholder}}\", \"replacement value\")"
   ]
  }
 ],
 "metadata": {
  "kernelspec": {
   "display_name": "Python 3",
   "language": "python",
   "name": "python3"
  },
  "language_info": {
   "codemirror_mode": {
    "name": "ipython",
    "version": 3
   },
   "file_extension": ".py",
   "mimetype": "text/x-python",
   "name": "python",
   "nbconvert_exporter": "python",
   "pygments_lexer": "ipython3",
   "version": "3.9.6"
  },
  "widgets": {
   "application/vnd.jupyter.widget-state+json": {
    "state": {},
    "version_major": 2,
    "version_minor": 0
   }
  }
 },
 "nbformat": 4,
 "nbformat_minor": 5
}
