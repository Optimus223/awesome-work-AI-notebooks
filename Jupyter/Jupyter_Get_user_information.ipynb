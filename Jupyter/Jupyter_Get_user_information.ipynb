{
 "cells": [
  {
   "cell_type": "markdown",
   "id": "norwegian-making",
   "metadata": {
    "papermill": {},
    "tags": []
   },
   "source": [
    "<img width=\"10%\" alt=\"Naas\" src=\"https://landen.imgix.net/jtci2pxwjczr/assets/5ice39g4.png?w=160\"/>"
   ]
  },
  {
   "cell_type": "markdown",
   "id": "color-electric",
   "metadata": {
    "execution": {
     "iopub.execute_input": "2021-02-23T07:25:55.665867Z",
     "iopub.status.busy": "2021-02-23T07:25:55.665598Z",
     "iopub.status.idle": "2021-02-23T07:25:55.670756Z",
     "shell.execute_reply": "2021-02-23T07:25:55.670230Z",
     "shell.execute_reply.started": "2021-02-23T07:25:55.665804Z"
    },
    "papermill": {},
    "tags": []
   },
   "source": [
    "# Jupyter - Get user information\n",
    "<a href=\"https://app.naas.ai/user-redirect/naas/downloader?url=https://raw.githubusercontent.com/jupyter-naas/awesome-notebooks/master/Jupyter/Jupyter_Get_user_information.ipynb\" target=\"_parent\"><img src=\"https://img.shields.io/badge/-Open%20in%20Naas-success?labelColor=000000&logo=data:image/svg+xml;base64,PD94bWwgdmVyc2lvbj0iMS4wIiBlbmNvZGluZz0iVVRGLTgiPz4KPHN2ZyB3aWR0aD0iMTAyNHB4IiBoZWlnaHQ9IjEwMjRweCIgdmlld0JveD0iMCAwIDEwMjQgMTAyNCIgeG1sbnM9Imh0dHA6Ly93d3cudzMub3JnLzIwMDAvc3ZnIiB4bWxuczp4bGluaz0iaHR0cDovL3d3dy53My5vcmcvMTk5OS94bGluayIgdmVyc2lvbj0iMS4xIj4KIDwhLS0gR2VuZXJhdGVkIGJ5IFBpeGVsbWF0b3IgUHJvIDIuMC41IC0tPgogPGRlZnM+CiAgPHRleHQgaWQ9InN0cmluZyIgdHJhbnNmb3JtPSJtYXRyaXgoMS4wIDAuMCAwLjAgMS4wIDIyOC4wIDU0LjUpIiBmb250LWZhbWlseT0iQ29tZm9ydGFhLVJlZ3VsYXIsIENvbWZvcnRhYSIgZm9udC1zaXplPSI4MDAiIHRleHQtZGVjb3JhdGlvbj0ibm9uZSIgZmlsbD0iI2ZmZmZmZiIgeD0iMS4xOTk5OTk5OTk5OTk5ODg2IiB5PSI3MDUuMCI+bjwvdGV4dD4KIDwvZGVmcz4KIDx1c2UgaWQ9Im4iIHhsaW5rOmhyZWY9IiNzdHJpbmciLz4KPC9zdmc+Cg==\"/></a>"
   ]
  },
  {
   "cell_type": "markdown",
   "id": "853a3f7a-4e96-4d3f-a24e-9b7c7a4ce447",
   "metadata": {},
   "source": [
    "**Tags:** #jupyter"
   ]
  },
  {
   "cell_type": "markdown",
   "id": "5122dd4e-31f2-41b9-bc53-5ace84c8345a",
   "metadata": {},
   "source": [
    "## Input"
   ]
  },
  {
   "cell_type": "markdown",
   "id": "6596d880-db1b-456b-922a-2d774da72c10",
   "metadata": {},
   "source": [
    "### Import library"
   ]
  },
  {
   "cell_type": "code",
   "execution_count": null,
   "id": "5fa41ba7-9d3d-46b6-8e96-609d09792578",
   "metadata": {},
   "outputs": [],
   "source": [
    "from naas_drivers import jupyter"
   ]
  },
  {
   "cell_type": "markdown",
   "id": "d42f9a18-b435-435a-8604-29447171c544",
   "metadata": {},
   "source": [
    "### Variables"
   ]
  },
  {
   "cell_type": "code",
   "execution_count": null,
   "id": "ddaa145a-704d-4795-a748-9d8f73ca1707",
   "metadata": {},
   "outputs": [],
   "source": [
    "token = \"*********\""
   ]
  },
  {
   "cell_type": "markdown",
   "id": "6435f8e3-220b-4edf-9c64-a676ea61646b",
   "metadata": {},
   "source": [
    "## Model"
   ]
  },
  {
   "cell_type": "markdown",
   "id": "444efe5a-8348-4b50-a308-83a14b95307f",
   "metadata": {},
   "source": [
    "### Connect to jupyter"
   ]
  },
  {
   "cell_type": "code",
   "execution_count": 3,
   "id": "critical-neutral",
   "metadata": {
    "execution": {
     "iopub.execute_input": "2021-02-23T08:33:08.032009Z",
     "iopub.status.busy": "2021-02-23T08:33:08.031779Z",
     "iopub.status.idle": "2021-02-23T08:33:09.449526Z",
     "shell.execute_reply": "2021-02-23T08:33:09.448473Z",
     "shell.execute_reply.started": "2021-02-23T08:33:08.031986Z"
    },
    "papermill": {},
    "tags": []
   },
   "outputs": [],
   "source": [
    "jp = jupyter.connect(token)"
   ]
  },
  {
   "cell_type": "markdown",
   "id": "1a96b44b-eca0-4129-94af-53293654ef54",
   "metadata": {},
   "source": [
    "## Output"
   ]
  },
  {
   "cell_type": "markdown",
   "id": "7c7eb6c7-2516-4049-b0f9-cb318cf73672",
   "metadata": {},
   "source": [
    "### Get the user"
   ]
  },
  {
   "cell_type": "code",
   "execution_count": null,
   "id": "imported-muslim",
   "metadata": {
    "papermill": {},
    "tags": []
   },
   "outputs": [],
   "source": [
    "me = jp.get_me()\n",
    "me"
   ]
  },
  {
   "cell_type": "code",
   "execution_count": null,
   "id": "attempted-submission",
   "metadata": {
    "execution": {
     "iopub.status.busy": "2021-02-23T08:33:09.550078Z",
     "iopub.status.idle": "2021-02-23T08:33:09.550556Z",
     "shell.execute_reply": "2021-02-23T08:33:09.550373Z"
    },
    "papermill": {},
    "tags": []
   },
   "outputs": [],
   "source": [
    "uptime = jp.get_me_uptime()\n",
    "uptime"
   ]
  }
 ],
 "metadata": {
  "kernelspec": {
   "display_name": "Python 3",
   "language": "python",
   "name": "python3"
  },
  "language_info": {
   "codemirror_mode": {
    "name": "ipython",
    "version": 3
   },
   "file_extension": ".py",
   "mimetype": "text/x-python",
   "name": "python",
   "nbconvert_exporter": "python",
   "pygments_lexer": "ipython3",
   "version": "3.8.8"
  },
  "papermill": {
   "default_parameters": {},
   "environment_variables": {},
   "parameters": {},
   "version": "2.3.3"
  }
 },
 "nbformat": 4,
 "nbformat_minor": 5
}
