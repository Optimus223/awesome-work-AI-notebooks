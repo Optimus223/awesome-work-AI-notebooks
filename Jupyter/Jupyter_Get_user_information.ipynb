{
 "cells": [
  {
   "cell_type": "markdown",
   "id": "norwegian-making",
   "metadata": {
    "papermill": {},
    "tags": []
   },
   "source": [
    "<img width=\"10%\" alt=\"Naas\" src=\"https://landen.imgix.net/jtci2pxwjczr/assets/5ice39g4.png?w=160\"/>"
   ]
  },
  {
   "cell_type": "markdown",
   "id": "color-electric",
   "metadata": {
    "execution": {
     "iopub.execute_input": "2021-02-23T07:25:55.665867Z",
     "iopub.status.busy": "2021-02-23T07:25:55.665598Z",
     "iopub.status.idle": "2021-02-23T07:25:55.670756Z",
     "shell.execute_reply": "2021-02-23T07:25:55.670230Z",
     "shell.execute_reply.started": "2021-02-23T07:25:55.665804Z"
    },
    "papermill": {},
    "tags": []
   },
   "source": [
    "# Jupyter - Get user information\n",
    "<a href=\"https://app.naas.ai/user-redirect/naas/downloader?url=https://raw.githubusercontent.com/jupyter-naas/awesome-notebooks/master/Jupyter/Jupyter_Get_user_information.ipynb\" target=\"_parent\"><img src=\"https://naasai-public.s3.eu-west-3.amazonaws.com/open_in_naas.svg\"/></a>"
   ]
  },
  {
   "cell_type": "markdown",
   "id": "853a3f7a-4e96-4d3f-a24e-9b7c7a4ce447",
   "metadata": {
    "papermill": {},
    "tags": []
   },
   "source": [
    "**Tags:** #jupyter"
   ]
  },
  {
   "cell_type": "markdown",
   "id": "5122dd4e-31f2-41b9-bc53-5ace84c8345a",
   "metadata": {
    "papermill": {},
    "tags": []
   },
   "source": [
    "## Input"
   ]
  },
  {
   "cell_type": "markdown",
   "id": "6596d880-db1b-456b-922a-2d774da72c10",
   "metadata": {
    "papermill": {},
    "tags": []
   },
   "source": [
    "### Import library"
   ]
  },
  {
   "cell_type": "code",
   "execution_count": null,
   "id": "5fa41ba7-9d3d-46b6-8e96-609d09792578",
   "metadata": {
    "papermill": {},
    "tags": []
   },
   "outputs": [],
   "source": [
    "from naas_drivers import jupyter"
   ]
  },
  {
   "cell_type": "markdown",
   "id": "d42f9a18-b435-435a-8604-29447171c544",
   "metadata": {
    "papermill": {},
    "tags": []
   },
   "source": [
    "### Variables"
   ]
  },
  {
   "cell_type": "code",
   "execution_count": null,
   "id": "ddaa145a-704d-4795-a748-9d8f73ca1707",
   "metadata": {
    "papermill": {},
    "tags": []
   },
   "outputs": [],
   "source": [
    "token = \"*********\""
   ]
  },
  {
   "cell_type": "markdown",
   "id": "6435f8e3-220b-4edf-9c64-a676ea61646b",
   "metadata": {
    "papermill": {},
    "tags": []
   },
   "source": [
    "## Model"
   ]
  },
  {
   "cell_type": "markdown",
   "id": "444efe5a-8348-4b50-a308-83a14b95307f",
   "metadata": {
    "papermill": {},
    "tags": []
   },
   "source": [
    "### Connect to jupyter"
   ]
  },
  {
   "cell_type": "code",
   "execution_count": 3,
   "id": "critical-neutral",
   "metadata": {
    "execution": {
     "iopub.execute_input": "2021-02-23T08:33:08.032009Z",
     "iopub.status.busy": "2021-02-23T08:33:08.031779Z",
     "iopub.status.idle": "2021-02-23T08:33:09.449526Z",
     "shell.execute_reply": "2021-02-23T08:33:09.448473Z",
     "shell.execute_reply.started": "2021-02-23T08:33:08.031986Z"
    },
    "papermill": {},
    "tags": []
   },
   "outputs": [],
   "source": [
    "jp = jupyter.connect(token)"
   ]
  },
  {
   "cell_type": "markdown",
   "id": "1a96b44b-eca0-4129-94af-53293654ef54",
   "metadata": {
    "papermill": {},
    "tags": []
   },
   "source": [
    "## Output"
   ]
  },
  {
   "cell_type": "markdown",
   "id": "7c7eb6c7-2516-4049-b0f9-cb318cf73672",
   "metadata": {
    "papermill": {},
    "tags": []
   },
   "source": [
    "### Get the user"
   ]
  },
  {
   "cell_type": "code",
   "execution_count": null,
   "id": "imported-muslim",
   "metadata": {
    "papermill": {},
    "tags": []
   },
   "outputs": [],
   "source": [
    "me = jp.get_me()\n",
    "me"
   ]
  },
  {
   "cell_type": "code",
   "execution_count": null,
   "id": "attempted-submission",
   "metadata": {
    "execution": {
     "iopub.status.busy": "2021-02-23T08:33:09.550078Z",
     "iopub.status.idle": "2021-02-23T08:33:09.550556Z",
     "shell.execute_reply": "2021-02-23T08:33:09.550373Z"
    },
    "papermill": {},
    "tags": []
   },
   "outputs": [],
   "source": [
    "uptime = jp.get_me_uptime()\n",
    "uptime"
   ]
  }
 ],
 "metadata": {
  "kernelspec": {
   "display_name": "Python 3",
   "language": "python",
   "name": "python3"
  },
  "language_info": {
   "codemirror_mode": {
    "name": "ipython",
    "version": 3
   },
   "file_extension": ".py",
   "mimetype": "text/x-python",
   "name": "python",
   "nbconvert_exporter": "python",
   "pygments_lexer": "ipython3",
   "version": "3.8.8"
  },
  "papermill": {
   "default_parameters": {},
   "environment_variables": {},
   "parameters": {},
   "version": "2.3.3"
  }
 },
 "nbformat": 4,
 "nbformat_minor": 5
}