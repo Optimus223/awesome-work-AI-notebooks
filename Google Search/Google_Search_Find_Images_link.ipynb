{
 "cells": [
  {
   "cell_type": "markdown",
   "id": "64f63415-62c5-4aaa-82fd-d22d03dddf29",
   "metadata": {
    "papermill": {},
    "tags": []
   },
   "source": [
    "<img width=\"10%\" alt=\"Naas\" src=\"https://landen.imgix.net/jtci2pxwjczr/assets/5ice39g4.png?w=160\"/>"
   ]
  },
  {
   "cell_type": "markdown",
   "id": "dfcebf40-d669-49d8-ba40-65a627a0b602",
   "metadata": {
    "papermill": {},
    "tags": []
   },
   "source": [
    "# Google Search - Find Images link"
   ]
  },
  {
   "cell_type": "markdown",
   "id": "2a1eb623-4f46-4cc2-8b9f-3f75708a6b23",
   "metadata": {
    "papermill": {},
    "tags": []
   },
   "source": [
    "**Tags:** #googlesearch #images #link #find #python"
   ]
  },
  {
   "cell_type": "markdown",
   "id": "517a953a-9f97-4b20-938a-91b9e02ac045",
   "metadata": {
    "papermill": {},
    "tags": []
   },
   "source": [
    "**Author:** [Alton Liew](https://www.linkedin.com/in/alton-liew-749944182/)"
   ]
  },
  {
   "cell_type": "markdown",
   "id": "aadc21d7-729e-41e2-942b-6bd80b8b66f6",
   "metadata": {
    "papermill": {},
    "tags": []
   },
   "source": [
    "**Last update:** 2023-11-10 (Created: 2023-11-10)"
   ]
  },
  {
   "cell_type": "markdown",
   "id": "4c77e159-bea9-4ad0-b9a3-66e94094ddcd",
   "metadata": {
    "papermill": {},
    "tags": []
   },
   "source": [
    "**Description:** This notebook will demonstrate how to use Google Search to find images link."
   ]
  },
  {
   "cell_type": "markdown",
   "id": "c7dc55ea-2413-49e8-8bea-af330f9c3a43",
   "metadata": {
    "papermill": {},
    "tags": []
   },
   "source": [
    "**References:**\n",
    "- [Google Search Documentation](https://developers.google.com/search/docs/guides/intro-structured-data)\n",
    "- [Google Search Console](https://search.google.com/search-console/about)"
   ]
  },
  {
   "cell_type": "markdown",
   "id": "0bc2ecc4-7703-4733-8098-d40dc672cb4b",
   "metadata": {
    "papermill": {},
    "tags": []
   },
   "source": [
    "## Input"
   ]
  },
  {
   "cell_type": "markdown",
   "id": "0176d7b0-68e9-439c-9923-676ce187c227",
   "metadata": {
    "papermill": {},
    "tags": []
   },
   "source": [
    "### Import libraries"
   ]
  },
  {
   "cell_type": "code",
   "execution_count": null,
   "id": "ba3dbe0e-d857-432d-9eef-40e18253653e",
   "metadata": {
    "papermill": {},
    "tags": []
   },
   "outputs": [],
   "source": [
    "import naas\n",
    "import requests"
   ]
  },
  {
   "cell_type": "markdown",
   "id": "4b7a8f50-760f-4abf-912a-f8db642f0f92",
   "metadata": {},
   "source": [
    "### Setup variables\n",
    "- `API_KEY`: API key from Google Cloud Platform.\n",
    "- `CSE_ID`: CSE ID from Programmable Search Engine.\n",
    "- `query`: Represents the search query.\n",
    "- `limit`: Represents the maximum number of search results to be returned.\n",
    "- `start_index`: Assigned the integer value `1`. Represents the starting index of the search results."
   ]
  },
  {
   "cell_type": "code",
   "execution_count": null,
   "id": "07fbeb5e-3eaf-4bcd-bf13-a648cac8e1a1",
   "metadata": {
    "tags": []
   },
   "outputs": [],
   "source": [
    "API_KEY = naas.secret.get(\"API_KEY\")\n",
    "CSE_ID = naas.secret.get(\"CSE_ID\")\n",
    "query = 'bottle'\n",
    "limit = 20\n",
    "start_index = 1"
   ]
  },
  {
   "cell_type": "markdown",
   "id": "eab0d474-706a-44bd-84df-cfb5318fcf12",
   "metadata": {
    "papermill": {},
    "tags": []
   },
   "source": [
    "## Model"
   ]
  },
  {
   "cell_type": "markdown",
   "id": "ec991942-ab2d-4083-b882-621f55d94acc",
   "metadata": {
    "papermill": {},
    "tags": []
   },
   "source": [
    "### Get Google Images and Print Image Links Functions"
   ]
  },
  {
   "cell_type": "markdown",
   "id": "e81c4f78-e2d5-4d58-9c07-08a79bdfa5d6",
   "metadata": {
    "papermill": {},
    "tags": []
   },
   "source": [
    "`get_google_images`: \n",
    "\n",
    "- Constructs a URL using an f-string, incorporating the provided parameters, to make a request to the Google Custom Search API.\n",
    "- It uses the requests.get() function to send a GET request to the constructed URL.\n",
    "  The response from the API is stored in the response variable.\n",
    "- The content of the response is parsed as JSON using the response.json() method, and the resulting JSON data is stored in the data variable.\n",
    "\n",
    "`print_image_links`: \n",
    "\n",
    "- Checks if the key 'items' exists in the provided data.\n",
    "- If 'items' is present, it iterates through each 'item' in the 'items' list of the provided data.\n",
    "- Prints the 'link' value from the current item.\n",
    "- Checks if the limit has reached zero. If so, it breaks out of the loop.\n",
    "- If 'items' is not present in the data, it prints a message indicating that no image results were found."
   ]
  },
  {
   "cell_type": "code",
   "execution_count": null,
   "id": "3b8ec91e-2cf0-4ed5-a2ba-c628115fdf31",
   "metadata": {
    "papermill": {},
    "tags": []
   },
   "outputs": [],
   "source": [
    "def get_google_images(API_KEY, CSE_ID, query, start_index):\n",
    "    url = f'https://www.googleapis.com/customsearch/v1?q={query}&key={API_KEY}&cx={CSE_ID}&searchType=image&start={start_index}'\n",
    "    response = requests.get(url)\n",
    "    data = response.json()\n",
    "    return data\n",
    "\n",
    "def print_image_links(data, limit):\n",
    "    if 'items' in data:\n",
    "        for item in data['items']:\n",
    "            print(item['link'])\n",
    "            limit -= 1\n",
    "            if limit == 0:\n",
    "                break\n",
    "    else:\n",
    "        print('No image results found.')"
   ]
  },
  {
   "cell_type": "markdown",
   "id": "b118667d-df43-4617-b272-fd967d04cf05",
   "metadata": {
    "papermill": {},
    "tags": []
   },
   "source": [
    "## Output"
   ]
  },
  {
   "cell_type": "markdown",
   "id": "76cbff58-769a-4930-982a-92b58e3084c6",
   "metadata": {
    "papermill": {},
    "tags": []
   },
   "source": [
    "### Display result\n",
    "- While limit is more than zero, iterate through.\n",
    "- Calls the `get_google_images` function and places the returned data in variable \"data\".\n",
    "- Print image links with the `print_image_links`function.\n",
    "- The start_index is incremented by 10 to fetch the next set of results in the next iteration.\n",
    "- The limit is decreased by the minimum of 10 or the current limit value to ensure it doesn't go below 0.\n",
    "- It checks if the keys 'queries' or 'nextPage' are not present in the data. If either is missing, it breaks out of the loop, terminating the fetching process."
   ]
  },
  {
   "cell_type": "code",
   "execution_count": null,
   "id": "a63721db-baba-416d-8ef7-8be84327c38b",
   "metadata": {
    "papermill": {},
    "tags": []
   },
   "outputs": [],
   "source": [
    "while limit > 0:\n",
    "    data = get_google_images(API_KEY, CSE_ID, query, start_index)\n",
    "    print_image_links(data, limit)\n",
    "    start_index += 10\n",
    "    limit -= min(10, limit)\n",
    "    \n",
    "    if 'queries' not in data or 'nextPage' not in data['queries']:\n",
    "        break"
   ]
  }
 ],
 "metadata": {
  "kernelspec": {
   "display_name": "Python 3",
   "language": "python",
   "name": "python3"
  },
  "language_info": {
   "codemirror_mode": {
    "name": "ipython",
    "version": 3
   },
   "file_extension": ".py",
   "mimetype": "text/x-python",
   "name": "python",
   "nbconvert_exporter": "python",
   "pygments_lexer": "ipython3",
   "version": "3.9.6"
  },
  "widgets": {
   "application/vnd.jupyter.widget-state+json": {
    "state": {},
    "version_major": 2,
    "version_minor": 0
   }
  }
 },
 "nbformat": 4,
 "nbformat_minor": 5
}
