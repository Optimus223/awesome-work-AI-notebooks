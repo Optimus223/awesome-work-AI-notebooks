{
 "cells": [
  {
   "cell_type": "markdown",
   "id": "64f63415-62c5-4aaa-82fd-d22d03dddf29",
   "metadata": {
    "papermill": {},
    "tags": []
   },
   "source": [
    "<img width=\"10%\" alt=\"Naas\" src=\"https://landen.imgix.net/jtci2pxwjczr/assets/5ice39g4.png?w=160\"/>"
   ]
  },
  {
   "cell_type": "markdown",
   "id": "dfcebf40-d669-49d8-ba40-65a627a0b602",
   "metadata": {
    "papermill": {},
    "tags": []
   },
   "source": [
    "# Google Search - Find Images link"
   ]
  },
  {
   "cell_type": "markdown",
   "id": "2a1eb623-4f46-4cc2-8b9f-3f75708a6b23",
   "metadata": {
    "papermill": {},
    "tags": []
   },
   "source": [
    "**Tags:** #googlesearch #images #link #find #python"
   ]
  },
  {
   "cell_type": "markdown",
   "id": "517a953a-9f97-4b20-938a-91b9e02ac045",
   "metadata": {
    "papermill": {},
    "tags": []
   },
   "source": [
    "**Author:** [Alton Liew](https://www.linkedin.com/in/alton-liew-749944182/)"
   ]
  },
  {
   "cell_type": "markdown",
   "id": "aadc21d7-729e-41e2-942b-6bd80b8b66f6",
   "metadata": {
    "papermill": {},
    "tags": []
   },
   "source": [
    "**Last update:** 2023-11-10 (Created: 2023-11-10)"
   ]
  },
  {
   "cell_type": "markdown",
   "id": "4c77e159-bea9-4ad0-b9a3-66e94094ddcd",
   "metadata": {
    "papermill": {},
    "tags": []
   },
   "source": [
    "**Description:** This notebook will demonstrate how to use Google Search to find images link."
   ]
  },
  {
   "cell_type": "markdown",
   "id": "c7dc55ea-2413-49e8-8bea-af330f9c3a43",
   "metadata": {
    "papermill": {},
    "tags": []
   },
   "source": [
    "**References:**\n",
    "- [Google Search Documentation](https://developers.google.com/search/docs/guides/intro-structured-data)\n",
    "- [Google Search Console](https://search.google.com/search-console/about)"
   ]
  },
  {
   "cell_type": "markdown",
   "id": "0bc2ecc4-7703-4733-8098-d40dc672cb4b",
   "metadata": {
    "papermill": {},
    "tags": []
   },
   "source": [
    "## Input"
   ]
  },
  {
   "cell_type": "markdown",
   "id": "0176d7b0-68e9-439c-9923-676ce187c227",
   "metadata": {
    "papermill": {},
    "tags": []
   },
   "source": [
    "### Import libraries"
   ]
  },
  {
   "cell_type": "code",
   "execution_count": null,
   "id": "ba3dbe0e-d857-432d-9eef-40e18253653e",
   "metadata": {
    "execution": {
     "iopub.execute_input": "2023-11-26T08:57:26.869986Z",
     "iopub.status.busy": "2023-11-26T08:57:26.869500Z",
     "iopub.status.idle": "2023-11-26T08:57:29.136136Z",
     "shell.execute_reply": "2023-11-26T08:57:29.135335Z",
     "shell.execute_reply.started": "2023-11-26T08:57:26.869908Z"
    },
    "papermill": {},
    "tags": []
   },
   "outputs": [],
   "source": [
    "import naas\n",
    "import requests"
   ]
  },
  {
   "cell_type": "markdown",
   "id": "4b7a8f50-760f-4abf-912a-f8db642f0f92",
   "metadata": {},
   "source": [
    "### Setup variables"
   ]
  },
  {
   "cell_type": "markdown",
   "id": "27869816-bf38-4224-8a42-effe3d75713e",
   "metadata": {},
   "source": [
    "- `API_KEY`: \n",
    "\n",
    "1. Go to Google Cloud Console:\n",
    "\n",
    "2. Visit the Google Cloud Console.\n",
    "   Create a Project:\n",
    "\n",
    "3. If you don't have a project, create a new one using the \"Select a project\" dropdown at the top of the page. Click on \"New Project\" and follow the prompts.\n",
    "   Navigate to the API & Services Dashboard:\n",
    "\n",
    "4. Click on the hamburger menu in the upper-left corner and navigate to \"APIs & Services\" > \"Dashboard.\"\n",
    "   Enable APIs:\n",
    "\n",
    "5. Click on the \"+ ENABLE APIS AND SERVICES\" button.\n",
    "   Search for the API you want to use (e.g., Google Maps JavaScript API) and enable it.\n",
    "   Create API Key:\n",
    "\n",
    "6. Once the API is enabled, click on the \"Create Credentials\" button.\n",
    "   Choose \"API key\" from the dropdown.\n",
    "- `CSE_ID`: \n",
    "1. Go to Programmable Search Engine:\n",
    "\n",
    "2. Visit the Programmable Search Engine website.\n",
    "   Sign in with Your Google Account:\n",
    "\n",
    "3. If you're not already signed in, sign in with your Google Account.\n",
    "   Create a Programmable Search Engine:\n",
    "\n",
    "4. Click on the \"Create a custom search engine\" button.\n",
    "   Set Up Your Search Engine:\n",
    "\n",
    "5. Fill in the details for your search engine, including the sites you want to include in the search.\n",
    "   Complete the Setup:\n",
    "\n",
    "6. Click on the \"Create\" button to complete the setup.\n",
    "   Access Control Panel:\n",
    "\n",
    "7. After creating the search engine, go to the Control Panel for your Programmable Search Engine.\n",
    "   Find Your CSE ID:\n",
    "\n",
    "8. In the Control Panel, locate the \"Details\" tab.\n",
    "   Your Programmable Search Engine ID (CSE ID) will be displayed on this page.\n",
    "- `query`: Represents the search query or term.\n",
    "- `limit`: Represents the maximum number of search results to be returned.\n",
    "- `start_index`: Assigned the integer value `1`. Represents the starting index of the search results."
   ]
  },
  {
   "cell_type": "code",
   "execution_count": null,
   "id": "07fbeb5e-3eaf-4bcd-bf13-a648cac8e1a1",
   "metadata": {
    "execution": {
     "iopub.execute_input": "2023-11-26T08:57:29.138003Z",
     "iopub.status.busy": "2023-11-26T08:57:29.137730Z",
     "iopub.status.idle": "2023-11-26T08:57:29.365271Z",
     "shell.execute_reply": "2023-11-26T08:57:29.364587Z",
     "shell.execute_reply.started": "2023-11-26T08:57:29.137944Z"
    },
    "tags": []
   },
   "outputs": [],
   "source": [
    "API_KEY = naas.secret.get(\"API_KEY\")\n",
    "CSE_ID = naas.secret.get(\"CSE_ID\")\n",
    "query = 'car'\n",
    "limit = 20\n",
    "start_index = 1"
   ]
  },
  {
   "cell_type": "markdown",
   "id": "eab0d474-706a-44bd-84df-cfb5318fcf12",
   "metadata": {
    "papermill": {},
    "tags": []
   },
   "source": [
    "## Model"
   ]
  },
  {
   "cell_type": "markdown",
   "id": "ec991942-ab2d-4083-b882-621f55d94acc",
   "metadata": {
    "papermill": {},
    "tags": []
   },
   "source": [
    "### Get Google Images and Print Image Links Functions"
   ]
  },
  {
   "cell_type": "markdown",
   "id": "e81c4f78-e2d5-4d58-9c07-08a79bdfa5d6",
   "metadata": {
    "papermill": {},
    "tags": []
   },
   "source": [
    "`get_google_images`: \n",
    "\n",
    "- Constructs a URL using an f-string, incorporating the provided parameters, to make a request to the Google Custom Search API.\n",
    "- It uses the requests.get() function to send a GET request to the constructed URL.\n",
    "  The response from the API is stored in the response variable.\n",
    "- The content of the response is parsed as JSON using the response.json() method, and the resulting JSON data is stored in the data variable.\n",
    "\n",
    "`print_image_links`: \n",
    "\n",
    "- Checks if the key 'items' exists in the provided data.\n",
    "- If 'items' is present, it iterates through each 'item' in the 'items' list of the provided data.\n",
    "- Prints the 'link' value from the current item.\n",
    "- Checks if the limit has reached zero. If so, it breaks out of the loop.\n",
    "- If 'items' is not present in the data, it prints a message indicating that no image results were found."
   ]
  },
  {
   "cell_type": "code",
   "execution_count": null,
   "id": "3b8ec91e-2cf0-4ed5-a2ba-c628115fdf31",
   "metadata": {
    "execution": {
     "iopub.execute_input": "2023-11-26T08:57:29.366619Z",
     "iopub.status.busy": "2023-11-26T08:57:29.366389Z",
     "iopub.status.idle": "2023-11-26T08:57:29.372864Z",
     "shell.execute_reply": "2023-11-26T08:57:29.372371Z",
     "shell.execute_reply.started": "2023-11-26T08:57:29.366589Z"
    },
    "papermill": {},
    "tags": []
   },
   "outputs": [],
   "source": [
    "def get_google_images(API_KEY, CSE_ID, query, start_index):\n",
    "    url = f'https://www.googleapis.com/customsearch/v1?q={query}&key={API_KEY}&cx={CSE_ID}&searchType=image&start={start_index}'\n",
    "    response = requests.get(url)\n",
    "    data = response.json()\n",
    "    return data\n",
    "\n",
    "def print_image_links(data, limit):\n",
    "    if 'items' in data:\n",
    "        for item in data['items']:\n",
    "            print(item['link'])\n",
    "            limit -= 1\n",
    "            if limit == 0:\n",
    "                break\n",
    "    else:\n",
    "        print('No image results found.')"
   ]
  },
  {
   "cell_type": "markdown",
   "id": "b118667d-df43-4617-b272-fd967d04cf05",
   "metadata": {
    "papermill": {},
    "tags": []
   },
   "source": [
    "## Output"
   ]
  },
  {
   "cell_type": "markdown",
   "id": "76cbff58-769a-4930-982a-92b58e3084c6",
   "metadata": {
    "papermill": {},
    "tags": []
   },
   "source": [
    "### Display result\n",
    "- While limit is more than zero, iterate through.\n",
    "- Calls the `get_google_images` function and places the returned data in variable \"data\".\n",
    "- Print image links with the `print_image_links`function.\n",
    "- The start_index is incremented by 10 to fetch the next set of results in the next iteration.\n",
    "- The limit is decreased by the minimum of 10 or the current limit value to ensure it doesn't go below 0.\n",
    "- It checks if the keys 'queries' or 'nextPage' are not present in the data. If either is missing, it breaks out of the loop, terminating the fetching process."
   ]
  },
  {
   "cell_type": "code",
   "execution_count": null,
   "id": "a63721db-baba-416d-8ef7-8be84327c38b",
   "metadata": {
    "execution": {
     "iopub.execute_input": "2023-11-26T08:57:29.374114Z",
     "iopub.status.busy": "2023-11-26T08:57:29.373889Z",
     "iopub.status.idle": "2023-11-26T08:57:30.374246Z",
     "shell.execute_reply": "2023-11-26T08:57:30.373037Z",
     "shell.execute_reply.started": "2023-11-26T08:57:29.374085Z"
    },
    "papermill": {},
    "tags": []
   },
   "outputs": [
    {
     "name": "stdout",
     "output_type": "stream",
     "text": [
      "https://www.progressive.com/lifelanes/wp-content/uploads/2022/06/PN1305_HowOftenWashCar_Header-1.jpg\n",
      "https://hips.hearstapps.com/hmg-prod/images/dw-burnett-pcoty22-8260-1671143390.jpg?crop=0.668xw:1.00xh;0.184xw,0&resize=640:*\n",
      "https://www.topgear.com/sites/default/files/2022/07/6_0.jpg\n",
      "https://hips.hearstapps.com/hmg-prod/images/2024-lamborghini-revuelto-127-641a1d518802b.jpg?crop=0.566xw:1.00xh;0.184xw,0&resize=640:*\n",
      "https://www.reuters.com/resizer/szwDc21hWNisND_5iluPtLX7LQo=/1920x1005/smart/filters:quality(80)/cloudfront-us-east-2.images.arcpublishing.com/reuters/UJULRTTCDFNBTEJAC4Y3SXIKW4.jpg\n",
      "https://carwow-uk-wp-3.imgix.net/18015-MC20BluInfinito-scaled-e1666008987698.jpg\n",
      "https://imageio.forbes.com/specials-images/imageserve/5d35eacaf1176b0008974b54/2020-Chevrolet-Corvette-Stingray/0x0.jpg?format=jpg&crop=4560,2565,x790,y784,safe&width=960\n",
      "https://www.acura.com/-/media/Acura-Platform/homepage/hero-carousel/2024/Integra-Type-S/2024-Acura-Integra-Type-S-hero-s.jpg\n",
      "https://cloudfront-us-east-2.images.arcpublishing.com/reuters/UJULRTTCDFNBTEJAC4Y3SXIKW4.jpg\n",
      "https://www.topgear.com/sites/default/files/2022/07/13.jpg\n",
      "https://image.cnbcfm.com/api/v1/image/107296478-1694015564259-Microlino.jpg?v=1694084005&w=1600&h=900\n",
      "https://wlt-p-001.sitecorecontenthub.cloud/api/public/content/0fdac51ab4f14c059952cb8333c7ee51?v=b48ab1fa\n",
      "https://www.lamborghini.com/sites/it-en/files/DAM/lamborghini/news/2022/08_22_monterey/cover_m.jpg\n",
      "https://assets.fastly.carvana.io/home-assets/nba/civic.png\n",
      "https://www.kia.com/content/dam/kia/us/en/home2-0/mtf-carousel/sedan/k5/kia_k5_2024_large-middle.png\n",
      "https://www.motortrend.com/uploads/2022/03/2022-Honda-Civic-Touring-vs-2022-Hyundai-Elantra-Limited-vs-2022-Kia-Forte-GT-vs-2022-Mazda-Mazda3-Sedan-AWD-Turbo-vs-2022-Nissan-Sentra-SR-vs-2022-Volkswagen-Jetta-SEL-19.jpg?fit=around%7C875:492\n",
      "https://hips.hearstapps.com/hmg-prod/images/editors-choice-08-sports-cars-illustration-by-ryan-olbrysh-64076709d765b.jpg?crop=0.502xw:1.00xh;0.160xw,0&resize=640:*\n",
      "https://www.volvocars.com/images/v/-/media/market-assets/australia/applications/localpages/images/model-lineup/my24-xc40-recharge-single.png?h=1007&iar=0&w=1342\n",
      "https://car-images.bauersecure.com/wp-images/2697/renault_megane_etech_electric_car.jpg\n",
      "https://www.cnet.com/a/img/resize/e8c3c0361c340d3a6d2c7f012d46d743b4893165/hub/2023/01/17/91eb6502-7246-430f-aa5f-e99f7cdea3ac/rs-2024-chevrolet-corvette-e-ray-3lz-006.jpg?auto=webp&fit=crop&height=810&width=1440\n"
     ]
    }
   ],
   "source": [
    "while limit > 0:\n",
    "    data = get_google_images(API_KEY, CSE_ID, query, start_index)\n",
    "    print_image_links(data, limit)\n",
    "    start_index += 10\n",
    "    limit -= min(10, limit)\n",
    "    \n",
    "    if 'queries' not in data or 'nextPage' not in data['queries']:\n",
    "        break"
   ]
  }
 ],
 "metadata": {
  "kernelspec": {
   "display_name": "Python 3",
   "language": "python",
   "name": "python3"
  },
  "language_info": {
   "codemirror_mode": {
    "name": "ipython",
    "version": 3
   },
   "file_extension": ".py",
   "mimetype": "text/x-python",
   "name": "python",
   "nbconvert_exporter": "python",
   "pygments_lexer": "ipython3",
   "version": "3.9.6"
  },
  "widgets": {
   "application/vnd.jupyter.widget-state+json": {
    "state": {},
    "version_major": 2,
    "version_minor": 0
   }
  }
 },
 "nbformat": 4,
 "nbformat_minor": 5
}
