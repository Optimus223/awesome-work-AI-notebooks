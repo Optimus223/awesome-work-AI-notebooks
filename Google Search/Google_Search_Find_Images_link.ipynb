{
 "cells": [
  {
   "cell_type": "markdown",
   "id": "64f63415-62c5-4aaa-82fd-d22d03dddf29",
   "metadata": {
    "papermill": {},
    "tags": []
   },
   "source": [
    "<img width=\"10%\" alt=\"Naas\" src=\"https://landen.imgix.net/jtci2pxwjczr/assets/5ice39g4.png?w=160\"/>"
   ]
  },
  {
   "cell_type": "markdown",
   "id": "dfcebf40-d669-49d8-ba40-65a627a0b602",
   "metadata": {
    "papermill": {},
    "tags": []
   },
   "source": [
    "# Google Search - Find Images link"
   ]
  },
  {
   "cell_type": "markdown",
   "id": "2a1eb623-4f46-4cc2-8b9f-3f75708a6b23",
   "metadata": {
    "papermill": {},
    "tags": []
   },
   "source": [
    "**Tags:** #google #search #images #link #find #python"
   ]
  },
  {
   "cell_type": "markdown",
   "id": "517a953a-9f97-4b20-938a-91b9e02ac045",
   "metadata": {
    "papermill": {},
    "tags": []
   },
   "source": [
    "**Author:** [Alton Liew](https://www.linkedin.com/in/alton-liew-749944182/)"
   ]
  },
  {
   "cell_type": "markdown",
   "id": "aadc21d7-729e-41e2-942b-6bd80b8b66f6",
   "metadata": {
    "papermill": {},
    "tags": []
   },
   "source": [
    "**Last update:** 2023-11-10 (Created: 2023-11-10)"
   ]
  },
  {
   "cell_type": "markdown",
   "id": "4c77e159-bea9-4ad0-b9a3-66e94094ddcd",
   "metadata": {
    "papermill": {},
    "tags": []
   },
   "source": [
    "**Description:** This notebook will demonstrate how to use Google Search to find images link. It is useful for organizations to quickly find images link for their website or blog."
   ]
  },
  {
   "cell_type": "markdown",
   "id": "c7dc55ea-2413-49e8-8bea-af330f9c3a43",
   "metadata": {
    "papermill": {},
    "tags": []
   },
   "source": [
    "**References:**\n- [Google Search Documentation](https://developers.google.com/search/docs/guides/intro-structured-data)\n- [Google Search Console](https://search.google.com/search-console/about)"
   ]
  },
  {
   "cell_type": "markdown",
   "id": "0bc2ecc4-7703-4733-8098-d40dc672cb4b",
   "metadata": {
    "papermill": {},
    "tags": []
   },
   "source": [
    "## Input"
   ]
  },
  {
   "cell_type": "markdown",
   "id": "0176d7b0-68e9-439c-9923-676ce187c227",
   "metadata": {
    "papermill": {},
    "tags": []
   },
   "source": [
    "### Import libraries"
   ]
  },
  {
   "cell_type": "code",
   "execution_count": null,
   "id": "ba3dbe0e-d857-432d-9eef-40e18253653e",
   "metadata": {
    "papermill": {},
    "tags": []
   },
   "source": "import requests\nimport json",
   "outputs": []
  },
  {
   "cell_type": "markdown",
   "id": "deb87ffa-e40b-492c-bd44-fc352e3c3e68",
   "metadata": {
    "papermill": {},
    "tags": []
   },
   "source": [
    "### Setup variables\n- **query**: The query string to search for"
   ]
  },
  {
   "cell_type": "markdown",
   "id": "eab0d474-706a-44bd-84df-cfb5318fcf12",
   "metadata": {
    "papermill": {},
    "tags": []
   },
   "source": [
    "## Model"
   ]
  },
  {
   "cell_type": "markdown",
   "id": "ec991942-ab2d-4083-b882-621f55d94acc",
   "metadata": {
    "papermill": {},
    "tags": []
   },
   "source": [
    "### Find images link"
   ]
  },
  {
   "cell_type": "markdown",
   "id": "e81c4f78-e2d5-4d58-9c07-08a79bdfa5d6",
   "metadata": {
    "papermill": {},
    "tags": []
   },
   "source": [
    "This function will use Google Search to find images link related to the query string."
   ]
  },
  {
   "cell_type": "code",
   "execution_count": null,
   "id": "3b8ec91e-2cf0-4ed5-a2ba-c628115fdf31",
   "metadata": {
    "papermill": {},
    "tags": []
   },
   "source": "def find_images_link(query):\n    # Set the URL\n    url = f\"https://www.googleapis.com/customsearch/v1?key=<API_KEY>&cx=<CX_KEY>&q={query}&searchType=image\"\n\n    # Make the request\n    response = requests.get(url)\n\n    # Parse the response\n    data = json.loads(response.text)\n\n    # Return the list of images link\n    return [item[\"link\"] for item in data[\"items\"]]",
   "outputs": []
  },
  {
   "cell_type": "markdown",
   "id": "b118667d-df43-4617-b272-fd967d04cf05",
   "metadata": {
    "papermill": {},
    "tags": []
   },
   "source": [
    "## Output"
   ]
  },
  {
   "cell_type": "markdown",
   "id": "76cbff58-769a-4930-982a-92b58e3084c6",
   "metadata": {
    "papermill": {},
    "tags": []
   },
   "source": [
    "### Display result"
   ]
  },
  {
   "cell_type": "code",
   "execution_count": null,
   "id": "a63721db-baba-416d-8ef7-8be84327c38b",
   "metadata": {
    "papermill": {},
    "tags": []
   },
   "source": "# Set the query string\nquery = \"Google Search\"\n# Find the images link\nimages_link = find_images_link(query)\n# Print the images link\nprint(images_link)",
   "outputs": []
  }
 ],
 "metadata": {
  "kernelspec": {
   "display_name": "Python 3",
   "language": "python",
   "name": "python3"
  },
  "language_info": {
   "codemirror_mode": {
    "name": "ipython",
    "version": 3
   },
   "file_extension": ".py",
   "mimetype": "text/x-python",
   "name": "python",
   "nbconvert_exporter": "python",
   "pygments_lexer": "ipython3",
   "version": "3.9.6"
  },
  "widgets": {
   "application/vnd.jupyter.widget-state+json": {
    "state": {},
    "version_major": 2,
    "version_minor": 0
   }
  }
 },
 "nbformat": 4,
 "nbformat_minor": 5
}