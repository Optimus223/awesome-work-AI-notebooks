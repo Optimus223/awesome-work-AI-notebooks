{
 "cells": [
  {
   "cell_type": "markdown",
   "id": "latter-teddy",
   "metadata": {},
   "source": [
    "<img width=\"10%\" alt=\"Naas\" src=\"https://landen.imgix.net/jtci2pxwjczr/assets/5ice39g4.png?w=160\"/>\n",
    "\n",
    "# Generate Readme for Awesome Notebooks"
   ]
  },
  {
   "cell_type": "markdown",
   "id": "421e4c6e-d5ef-4d53-9d36-f352426c4d87",
   "metadata": {
    "execution": {
     "iopub.execute_input": "2021-10-06T11:02:41.091855Z",
     "iopub.status.busy": "2021-10-06T11:02:41.091514Z",
     "iopub.status.idle": "2021-10-06T11:02:41.099143Z",
     "shell.execute_reply": "2021-10-06T11:02:41.098565Z",
     "shell.execute_reply.started": "2021-10-06T11:02:41.091773Z"
    },
    "tags": []
   },
   "source": [
    "## Input"
   ]
  },
  {
   "cell_type": "markdown",
   "id": "e84f7e80-dda2-4569-96dd-5abaaed2c73a",
   "metadata": {},
   "source": [
    "### Import librairies"
   ]
  },
  {
   "cell_type": "code",
   "execution_count": 82,
   "id": "sitting-directory",
   "metadata": {
    "execution": {
     "iopub.execute_input": "2023-06-13T13:01:07.863386Z",
     "iopub.status.busy": "2023-06-13T13:01:07.863065Z",
     "iopub.status.idle": "2023-06-13T13:01:08.014946Z",
     "shell.execute_reply": "2023-06-13T13:01:08.012323Z",
     "shell.execute_reply.started": "2023-06-13T13:01:07.863351Z"
    },
    "tags": []
   },
   "outputs": [],
   "source": [
    "import os\n",
    "import requests\n",
    "import pandas as pd\n",
    "import urllib.parse\n",
    "try:\n",
    "    from git import Repo\n",
    "except:\n",
    "    !pip install GitPython\n",
    "    from git import Repo\n",
    "from naas_drivers import markdown"
   ]
  },
  {
   "cell_type": "markdown",
   "id": "agricultural-contest",
   "metadata": {},
   "source": [
    "### Setup Variables"
   ]
  },
  {
   "cell_type": "code",
   "execution_count": 4,
   "id": "54165f57-c2e6-4775-987e-54f50f58b7a9",
   "metadata": {
    "execution": {
     "iopub.execute_input": "2023-06-13T12:00:18.440096Z",
     "iopub.status.busy": "2023-06-13T12:00:18.439862Z",
     "iopub.status.idle": "2023-06-13T12:00:18.445596Z",
     "shell.execute_reply": "2023-06-13T12:00:18.444983Z",
     "shell.execute_reply.started": "2023-06-13T12:00:18.440073Z"
    },
    "tags": []
   },
   "outputs": [
    {
     "data": {
      "text/plain": [
       "{'tool': 'AWS',\n",
       " 'notebook': 'Daily biling notification to slack',\n",
       " 'tags': ['#aws',\n",
       "  '#cloud',\n",
       "  '#storage',\n",
       "  '#S3bucket',\n",
       "  '#slack',\n",
       "  '#operations',\n",
       "  '#automation'],\n",
       " 'action': '<a href=\"https://app.naas.ai/user-redirect/naas/downloader?url=https://raw.githubusercontent.com/jupyter-naas/awesome-notebooks/master/AWS/AWS_Daily_biling_notification_to_slack.ipynb\" target=\"_parent\"><img src=\"https://naasai-public.s3.eu-west-3.amazonaws.com/open_in_naas.svg\"/></a>',\n",
       " 'author': 'Maxime Jublou',\n",
       " 'author_url': 'https://www.linkedin.com/in/maximejublou/',\n",
       " 'description': 'This notebook sends a daily notification to a Slack channel with the billing information from an AWS account. It allows users to easily keep track of their AWS spending.',\n",
       " 'open_in_lab': 'https://app.naas.ai/user-redirect/naas/downloader?url=https://raw.githubusercontent.com/jupyter-naas/awesome-notebooks/master/AWS/AWS_Daily_biling_notification_to_slack.ipynb',\n",
       " 'open_in_chat': 'https://app.naas.ai/user-redirect/naas/downloader?url=https://raw.githubusercontent.com/jupyter-naas/awesome-notebooks/master/AWS/AWS_Daily_biling_notification_to_slack.ipynb',\n",
       " 'notebook_url': 'https://github.com/jupyter-naas/awesome-notebooks/blob/master/LinkedIn/LinkedIn_Follow_content_views_weekly.ipynb',\n",
       " 'imports': ['os.path'],\n",
       " 'updated_at': '',\n",
       " 'image_url': ''}"
      ]
     },
     "execution_count": 4,
     "metadata": {},
     "output_type": "execute_result"
    }
   ],
   "source": [
    "{\n",
    "    'tool': 'AWS',\n",
    "    'notebook': 'Daily biling notification to slack',\n",
    "    'tags': [\n",
    "        '#aws',\n",
    "        '#cloud',\n",
    "        '#storage',\n",
    "        '#S3bucket',\n",
    "        '#slack',\n",
    "        '#operations',\n",
    "        '#automation'\n",
    "    ],\n",
    "    'action': '<a href=\"https://app.naas.ai/user-redirect/naas/downloader?url=https://raw.githubusercontent.com/jupyter-naas/awesome-notebooks/master/AWS/AWS_Daily_biling_notification_to_slack.ipynb\" target=\"_parent\"><img src=\"https://naasai-public.s3.eu-west-3.amazonaws.com/open_in_naas.svg\"/></a>',\n",
    "    'author': 'Maxime Jublou',\n",
    "    'author_url': 'https://www.linkedin.com/in/maximejublou/',\n",
    "    'description': 'This notebook sends a daily notification to a Slack channel with the billing information from an AWS account. It allows users to easily keep track of their AWS spending.',\n",
    "    \"open_in_lab\": \"https://app.naas.ai/user-redirect/naas/downloader?url=https://raw.githubusercontent.com/jupyter-naas/awesome-notebooks/master/AWS/AWS_Daily_biling_notification_to_slack.ipynb\",\n",
    "    \"open_in_chat\": \"https://app.naas.ai/user-redirect/naas/downloader?url=https://raw.githubusercontent.com/jupyter-naas/awesome-notebooks/master/AWS/AWS_Daily_biling_notification_to_slack.ipynb\",\n",
    "    \"notebook_url\": \"https://github.com/jupyter-naas/awesome-notebooks/blob/master/LinkedIn/LinkedIn_Follow_content_views_weekly.ipynb\",\n",
    "    \"imports\": [\"os.path\"],\n",
    "    \"updated_at\": \"\",\n",
    "    \"image_url\": \"\",\n",
    "}"
   ]
  },
  {
   "cell_type": "code",
   "execution_count": 83,
   "id": "guided-edgar",
   "metadata": {
    "execution": {
     "iopub.execute_input": "2023-06-13T13:01:11.368795Z",
     "iopub.status.busy": "2023-06-13T13:01:11.368568Z",
     "iopub.status.idle": "2023-06-13T13:01:11.372250Z",
     "shell.execute_reply": "2023-06-13T13:01:11.371630Z",
     "shell.execute_reply.started": "2023-06-13T13:01:11.368774Z"
    },
    "tags": []
   },
   "outputs": [],
   "source": [
    "# Inputs\n",
    "readme_template = \"README_template.md\"\n",
    "naas_lab_logo = \"https://naasai-public.s3.eu-west-3.amazonaws.com/open_in_naas.svg\"\n",
    "naas_chat_logo = \"https://naasai-public.s3.eu-west-3.amazonaws.com/open_in_naas.svg\"\n",
    "template_request = \"https://github.com/jupyter-naas/awesome-notebooks/issues/new?assignees=&labels=&template=template-request.md&title=Tool+-+Action+of+the+notebook+\"\n",
    "bug_report = \"https://github.com/jupyter-naas/awesome-notebooks/issues/new?assignees=&labels=bug&template=bug_report.md&title=\"\n",
    "start_data_product = \"https://raw.githubusercontent.com/jupyter-naas/awesome-notebooks/master/Naas/Naas_Start_data_product.ipynb\"\n",
    "\n",
    "# Outputs\n",
    "json_file = \"templates.json\"\n",
    "naas_lab_url ='https://app.naas.ai/user-redirect/naas/downloader?url='\n",
    "naas_chat_url = \"https://workspace.naas.ai/chat/use?plugin_url=\"\n",
    "readme = \"README.md\""
   ]
  },
  {
   "cell_type": "markdown",
   "id": "d76baf36-56c4-49f9-93e8-00889b174845",
   "metadata": {},
   "source": [
    "## Model"
   ]
  },
  {
   "cell_type": "markdown",
   "id": "distinguished-declaration",
   "metadata": {},
   "source": [
    "### Get all notebooks"
   ]
  },
  {
   "cell_type": "code",
   "execution_count": 84,
   "id": "36c9011e-5f51-4779-8062-a627503100e1",
   "metadata": {
    "execution": {
     "iopub.execute_input": "2023-06-13T13:01:12.923535Z",
     "iopub.status.busy": "2023-06-13T13:01:12.922860Z",
     "iopub.status.idle": "2023-06-13T13:01:13.284650Z",
     "shell.execute_reply": "2023-06-13T13:01:13.283957Z",
     "shell.execute_reply.started": "2023-06-13T13:01:12.923491Z"
    },
    "tags": []
   },
   "outputs": [
    {
     "name": "stdout",
     "output_type": "stream",
     "text": [
      "Notebooks fetched: 752\n"
     ]
    },
    {
     "data": {
      "text/html": [
       "<div>\n",
       "<style scoped>\n",
       "    .dataframe tbody tr th:only-of-type {\n",
       "        vertical-align: middle;\n",
       "    }\n",
       "\n",
       "    .dataframe tbody tr th {\n",
       "        vertical-align: top;\n",
       "    }\n",
       "\n",
       "    .dataframe thead th {\n",
       "        text-align: right;\n",
       "    }\n",
       "</style>\n",
       "<table border=\"1\" class=\"dataframe\">\n",
       "  <thead>\n",
       "    <tr style=\"text-align: right;\">\n",
       "      <th></th>\n",
       "      <th>tool</th>\n",
       "      <th>notebook_name</th>\n",
       "      <th>notebook_path</th>\n",
       "      <th>html_url</th>\n",
       "      <th>raw_url</th>\n",
       "    </tr>\n",
       "  </thead>\n",
       "  <tbody>\n",
       "    <tr>\n",
       "      <th>0</th>\n",
       "      <td>AWS</td>\n",
       "      <td>AWS_Daily_biling_notification_to_slack.ipynb</td>\n",
       "      <td>AWS/AWS_Daily_biling_notification_to_slack.ipynb</td>\n",
       "      <td>https://github.com/jupyter-naas/awesome-notebo...</td>\n",
       "      <td>https://raw.githubusercontent.com/jupyter-naas...</td>\n",
       "    </tr>\n",
       "  </tbody>\n",
       "</table>\n",
       "</div>"
      ],
      "text/plain": [
       "  tool                                 notebook_name  \\\n",
       "0  AWS  AWS_Daily_biling_notification_to_slack.ipynb   \n",
       "\n",
       "                                      notebook_path  \\\n",
       "0  AWS/AWS_Daily_biling_notification_to_slack.ipynb   \n",
       "\n",
       "                                            html_url  \\\n",
       "0  https://github.com/jupyter-naas/awesome-notebo...   \n",
       "\n",
       "                                             raw_url  \n",
       "0  https://raw.githubusercontent.com/jupyter-naas...  "
      ]
     },
     "execution_count": 84,
     "metadata": {},
     "output_type": "execute_result"
    }
   ],
   "source": [
    "def get_all_notebooks():\n",
    "    # Init\n",
    "    html_url_base = \"https://github.com/jupyter-naas/awesome-notebooks/blob/master\"\n",
    "    raw_url_base = \"https://raw.githubusercontent.com/jupyter-naas/awesome-notebooks/master\"\n",
    "    notebooks = []\n",
    "    res_json = []\n",
    "    \n",
    "    # Connect to GitHub and get branch\n",
    "    repo = Repo('.')\n",
    "    branch = repo.active_branch\n",
    "    \n",
    "    # Get tree from json\n",
    "    url = f\"https://api.github.com/repos/jupyter-naas/awesome-notebooks/git/trees/{branch.name}?recursive=1\"\n",
    "    res = requests.get(url)\n",
    "    if res.status_code == 200:\n",
    "        res_json = res.json().get(\"tree\")\n",
    "    \n",
    "    # Loop on files\n",
    "    for r in res_json:\n",
    "        root = None\n",
    "        file_name = None\n",
    "        file_path = r.get(\"path\")\n",
    "        notebook_path = urllib.parse.quote(file_path)\n",
    "        if \".github\" not in file_path and \".gitignore\" not in file_path and \"/\" in file_path:\n",
    "            if file_path.endswith(\".ipynb\"):\n",
    "                data = {\n",
    "                    \"tool\": file_path.split(\"/\")[0],\n",
    "                    \"notebook_name\": file_path.split(\"/\")[1],\n",
    "                    \"notebook_path\": notebook_path,\n",
    "                    \"html_url\": f\"{html_url_base}/{notebook_path}\",\n",
    "                    \"raw_url\": f\"{raw_url_base}/{notebook_path}\",\n",
    "                }\n",
    "                notebooks.append(data)\n",
    "    return pd.DataFrame(notebooks)\n",
    "\n",
    "df_notebooks = get_all_notebooks()\n",
    "print(\"Notebooks fetched:\", len(df_notebooks))\n",
    "df_notebooks.head(1)"
   ]
  },
  {
   "cell_type": "markdown",
   "id": "featured-anchor",
   "metadata": {},
   "source": [
    "### Create header button, generate markdown & json "
   ]
  },
  {
   "cell_type": "code",
   "execution_count": 91,
   "id": "f9a4c7b2-d667-4555-98ed-31786278e947",
   "metadata": {
    "execution": {
     "iopub.execute_input": "2023-06-13T13:05:27.961597Z",
     "iopub.status.busy": "2023-06-13T13:05:27.961361Z",
     "iopub.status.idle": "2023-06-13T13:05:28.003076Z",
     "shell.execute_reply": "2023-06-13T13:05:28.002513Z",
     "shell.execute_reply.started": "2023-06-13T13:05:27.961574Z"
    },
    "tags": []
   },
   "outputs": [
    {
     "name": "stdout",
     "output_type": "stream",
     "text": [
      "- Title: Act as a chef\n",
      "- Action: <a href=\"https://app.naas.ai/user-redirect/naas/downloader?url=https://raw.githubusercontent.com/jupyter-naas/awesome-notebooks/master/OpenAI/OpenAI_Act_as_a_chef.ipynb\" target=\"_parent\"><img src=\"https://naasai-public.s3.eu-west-3.amazonaws.com/open_in_naas.svg\"/></a>\n",
      "- Tags: ['#openai', '#chef', '#cooking', '#ai', '#machinelearning', '#deeplearning']\n",
      "- Author: Florent Ravenel\n",
      "- Author URL: https://www.linkedin.com/in/florent-ravenel/\n",
      "- Description: This notebook will create a plugin to act as a chef and use OpenAI to create delicious recipes.\n",
      "- Imports: ['json', 'naas']\n",
      "- Plugin: True\n"
     ]
    }
   ],
   "source": [
    "def create_open_button(\n",
    "    tool,\n",
    "    title,\n",
    "    open_in_lab,\n",
    "    naas_lab_logo,\n",
    "    open_in_chat,\n",
    "    naas_chat_logo,\n",
    "    template_request,\n",
    "    bug_report,\n",
    "    naas_lab_url,\n",
    "    start_data_product,\n",
    "):\n",
    "    # Init\n",
    "    notebook_title = ''\n",
    "    open_in_lab_url = ''\n",
    "    open_in_chat_url = ''\n",
    "    template_request_url = ''\n",
    "    bug_report_url = ''\n",
    "    generate_data_product_url = ''\n",
    "    \n",
    "    # Create notebook title\n",
    "    notebook_title = f\"# {tool} - {title}\\n\" # Jupyter Notebooks - Get libraries\n",
    "    \n",
    "    # Create logos\n",
    "    if open_in_lab != \"\":\n",
    "        open_in_lab_url = f\"\"\"<a href=\"{open_in_lab}\" target=\"_parent\"><img src=\"{naas_lab_logo}\"/></a>\"\"\"\n",
    "    if open_in_chat != \"\":\n",
    "        open_in_chat_url = f\"\"\"<a href=\"{open_in_chat}\" target=\"_parent\"><img src=\"{naas_chat_logo}\"/></a>\"\"\"\n",
    "        \n",
    "    # Hyperlinks\n",
    "    template_request_url = f\"\"\"<a href=\"{template_request}\">Template request</a>\"\"\"\n",
    "    \n",
    "    title_url = (f\"{tool}-{title}\").replace(\" \", \"+\")\n",
    "    bug_report_url = f\"\"\"<a href=\"{bug_report}{title_url}:+Error+short+description\">Bug report</a>\"\"\"\n",
    "    \n",
    "    start_data_product_url = f\"{naas_lab_url}/{start_data_product}\"\n",
    "    generate_data_product_url = f\"\"\"<a href=\"{start_data_product_url}\" target=\"_parent\">Generate Data Product</a>\"\"\"\n",
    "    return f\"\"\"{notebook_title}{open_in_lab_url}{open_in_chat_url}<br><br>{template_request_url} | {bug_report_url} | {generate_data_product_url}\"\"\"\n",
    "\n",
    "def get_imports(sources, imports):\n",
    "    # Loop on sources\n",
    "    for source in sources:\n",
    "        if \"from\" in source and \"import\" in source:\n",
    "            lib = (\n",
    "                source.replace(\"\\n\", \"\")\n",
    "                .split(\"from\")[-1]\n",
    "                .split(\"import\")[0]\n",
    "                .strip()\n",
    "            )\n",
    "            module = (\n",
    "                source.replace(\"\\n\", \"\")\n",
    "                .split(\"import\")[-1]\n",
    "                .split(\" as \")[0]\n",
    "                .strip()\n",
    "            )\n",
    "            libraries.append(f\"{lib}.{module}\")\n",
    "        if \"from\" not in source and \"import\" in source:\n",
    "            library = (\n",
    "                source.replace(\"\\n\", \"\")\n",
    "                .split(\"import\")[-1]\n",
    "                .split(\" as \")[0]\n",
    "                .strip()\n",
    "            )\n",
    "            imports.append(library)\n",
    "    return imports\n",
    "\n",
    "def get_notebook_info(url):\n",
    "    # Init\n",
    "    action = \"\"\n",
    "    title = \"\"\n",
    "    tags = \"\"\n",
    "    author = \"\"\n",
    "    author_url = \"\"\n",
    "    description = \"\"\n",
    "    plugin = False\n",
    "    imports = []\n",
    "    \n",
    "    # Request\n",
    "    res = requests.get(url)\n",
    "#     return res.json()\n",
    "    \n",
    "    # Manage result\n",
    "    if res.status_code == 200:\n",
    "        res_json = res.json()\n",
    "        cells = res_json.get(\"cells\")\n",
    "        \n",
    "        # Get metadata store in fixed cells\n",
    "        title = cells[1].get(\"source\")[0].replace(\"#\", \"\").split(\"-\")[-1].strip()\n",
    "        action = \"\".join(cells[1].get(\"source\")).split(\"<br><br>\")[0].split(\"\\n\")[-1].strip()\n",
    "        tags = cells[2].get(\"source\")[0].replace(\"**Tags:**\", \"\").strip()\n",
    "        tags = [f\"#{tag.strip()}\" for tag in tags.split(\"#\") if tag != \"\"]\n",
    "        author = cells[3].get(\"source\")[0].replace(\"**Author:**\", \"\").strip()\n",
    "        author_name = author.replace(\"[\", \"\").replace(\"]\", \"\").split(\"(\")[0].strip()\n",
    "        if \"(\" in author:\n",
    "            author_url = author.split(\"(\")[-1].replace(\")\", \"\")\n",
    "        description = \"\".join(cells[4].get(\"source\")).replace(\"**Description:**\", \"\").strip()\n",
    "        \n",
    "        # Get metadata store in variables cells\n",
    "        for cell in cells:\n",
    "            cell_type = cell.get(\"cell_type\")\n",
    "            metadata = cell.get(\"metadata\")\n",
    "            sources = cell.get(\"source\")\n",
    "            if cell_type == \"code\":\n",
    "                imports = get_imports(sources, imports)\n",
    "            if metadata:\n",
    "                metadata_tags = metadata.get(\"tags\")\n",
    "                if len(metadata_tags) > 0 and not plugin:\n",
    "                    for m in metadata_tags:\n",
    "                        if m == \"plugin\":\n",
    "                            plugin = True\n",
    "                            break\n",
    "        \n",
    "    return title, action, tags, author_name, author_url, description, imports, plugin\n",
    "\n",
    "url = \"https://raw.githubusercontent.com/jupyter-naas/awesome-notebooks/master/OpenAI/OpenAI_Act_as_a_chef.ipynb\"\n",
    "title, action, tags, author_name, author_url, description, imports, plugin = get_notebook_info(url)\n",
    "print(\"- Title:\", title)\n",
    "print(\"- Action:\", action)\n",
    "print(\"- Tags:\", tags)\n",
    "print(\"- Author:\", author_name)\n",
    "print(\"- Author URL:\", author_url)\n",
    "print(\"- Description:\", description)\n",
    "print(\"- Imports:\", imports)\n",
    "print(\"- Plugin:\", plugin)"
   ]
  },
  {
   "cell_type": "code",
   "execution_count": 92,
   "id": "e45fc17e-ba5a-4317-92b3-f6de4c1a0bde",
   "metadata": {
    "execution": {
     "iopub.execute_input": "2023-06-13T13:05:34.040643Z",
     "iopub.status.busy": "2023-06-13T13:05:34.040283Z",
     "iopub.status.idle": "2023-06-13T13:05:34.303205Z",
     "shell.execute_reply": "2023-06-13T13:05:34.301200Z",
     "shell.execute_reply.started": "2023-06-13T13:05:34.040606Z"
    },
    "tags": []
   },
   "outputs": [
    {
     "data": {
      "text/html": [
       "<h1>AWS - Daily biling notification to slack</h1>\n",
       "\n",
       "<p><a href=\"https://app.naas.ai/user-redirect/naas/downloader?url=https://raw.githubusercontent.com/jupyter-naas/awesome-notebooks/master/AWS/AWS_Daily_biling_notification_to_slack.ipynb\" target=\"_parent\"><img src=\"https://naasai-public.s3.eu-west-3.amazonaws.com/open_in_naas.svg\"/></a><br><br><a href=\"https://github.com/jupyter-naas/awesome-notebooks/issues/new?assignees=&amp;labels=&amp;template=template-request.md&amp;title=Tool+-+Action+of+the+notebook+\">Template request</a> | <a href=\"https://github.com/jupyter-naas/awesome-notebooks/issues/new?assignees=&amp;labels=bug&amp;template=bug_report.md&amp;title=AWS-Daily+biling+notification+to+slack:+Error+short+description\">Bug report</a> | <a href=\"https://app.naas.ai/user-redirect/naas/downloader?url=/https://raw.githubusercontent.com/jupyter-naas/awesome-notebooks/master/Naas/Naas_Start_data_product.ipynb\" target=\"_parent\">Generate Data Product</a></p>\n"
      ],
      "text/plain": [
       "<IPython.core.display.HTML object>"
      ]
     },
     "metadata": {},
     "output_type": "display_data"
    },
    {
     "name": "stdout",
     "output_type": "stream",
     "text": [
      "{'action': '<a '\n",
      "           'href=\"https://app.naas.ai/user-redirect/naas/downloader?url=https://raw.githubusercontent.com/jupyter-naas/awesome-notebooks/master/AWS/AWS_Daily_biling_notification_to_slack.ipynb\" '\n",
      "           'target=\"_parent\"><img '\n",
      "           'src=\"https://naasai-public.s3.eu-west-3.amazonaws.com/open_in_naas.svg\"/></a>',\n",
      " 'author': 'Maxime Jublou',\n",
      " 'author_url': 'https://www.linkedin.com/in/maximejublou/',\n",
      " 'description': 'This notebook sends a daily notification to a Slack channel '\n",
      "                'with the billing information from an AWS account. It allows '\n",
      "                'users to easily keep track of their AWS spending.',\n",
      " 'image_url': '',\n",
      " 'imports': ['datetime',\n",
      "             'boto3',\n",
      "             'naas',\n",
      "             'dateutil.relativedelta',\n",
      "             'pandas',\n",
      "             'naas_drivers'],\n",
      " 'notebook': 'Daily biling notification to slack',\n",
      " 'notebook_url': 'https://github.com/jupyter-naas/awesome-notebooks/blob/master/AWS/AWS_Daily_biling_notification_to_slack.ipynb',\n",
      " 'open_in_chat': '',\n",
      " 'open_in_lab': 'https://app.naas.ai/user-redirect/naas/downloader?url=https://raw.githubusercontent.com/jupyter-naas/awesome-notebooks/master/AWS/AWS_Daily_biling_notification_to_slack.ipynb',\n",
      " 'tags': ['#aws',\n",
      "          '#cloud',\n",
      "          '#storage',\n",
      "          '#S3bucket',\n",
      "          '#slack',\n",
      "          '#operations',\n",
      "          '#automation'],\n",
      " 'tool': 'AWS',\n",
      " 'updated_at': ''}\n"
     ]
    }
   ],
   "source": [
    "generated_list = \"\"\n",
    "json_templates = []\n",
    "folder = None\n",
    "\n",
    "for row in df_notebooks.itertuples():\n",
    "    tool = row.tool\n",
    "    raw_url = row.raw_url\n",
    "    html_url = row.html_url\n",
    "    open_in_lab = f\"{naas_lab_url}{raw_url}\"\n",
    "    open_in_chat = \"\"\n",
    "    \n",
    "    # Get data from notebook\n",
    "    title, action, tags, author_name, author_url, description, imports, plugin = get_notebook_info(raw_url)\n",
    "    \n",
    "    # Create Open in MyChatGPT URL\n",
    "    if plugin:\n",
    "        open_in_chat = f\"{naas_chat_url}{raw_url}\"\n",
    "        \n",
    "    # Create OpenButton\n",
    "    open_button = create_open_button(\n",
    "        tool,\n",
    "        title,\n",
    "        open_in_lab,\n",
    "        naas_lab_logo,\n",
    "        open_in_chat,\n",
    "        naas_chat_logo,\n",
    "        template_request,\n",
    "        bug_report,\n",
    "        naas_lab_url,\n",
    "        start_data_product,\n",
    "    )\n",
    "    # Display open button\n",
    "    markdown.display(open_button)\n",
    "    break\n",
    "\n",
    "    # Update OpenButton in notebook\n",
    "    \n",
    "\n",
    "    # Update json\n",
    "    new_json = {\n",
    "        'tool': tool,\n",
    "        'notebook': title,\n",
    "        'action': action,\n",
    "        'tags': tags,\n",
    "        'author': author_name,\n",
    "        'author_url': author_url,\n",
    "        'description':  description,\n",
    "        \"open_in_lab\": open_in_lab,\n",
    "        \"open_in_chat\": open_in_chat,\n",
    "        \"notebook_url\": html_url,\n",
    "        \"imports\": imports,\n",
    "        \"updated_at\": \"\",\n",
    "        \"image_url\": \"\",\n",
    "    }\n",
    "    json_templates.append(new_json)\n",
    "    \n",
    "#     new_folder = row.tool\n",
    "#     if new_folder != folder:\n",
    "#         generated_list += f\"\\n## {new_folder}\\n\"\n",
    "        \n",
    "    break\n",
    "    \n",
    "from pprint import pprint    \n",
    "pprint(new_json)"
   ]
  },
  {
   "cell_type": "markdown",
   "id": "dc0096b6-53ab-4738-b589-b4c7018b349b",
   "metadata": {},
   "source": [
    "### Reformat functions"
   ]
  },
  {
   "cell_type": "code",
   "execution_count": 5,
   "id": "abb4dd05-cc19-4b8a-b65d-b5a509425ed8",
   "metadata": {
    "execution": {
     "iopub.execute_input": "2023-06-13T10:24:24.207390Z",
     "iopub.status.busy": "2023-06-13T10:24:24.207125Z",
     "iopub.status.idle": "2023-06-13T10:24:24.213195Z",
     "shell.execute_reply": "2023-06-13T10:24:24.210591Z",
     "shell.execute_reply.started": "2023-06-13T10:24:24.207365Z"
    },
    "tags": []
   },
   "outputs": [],
   "source": [
    "def reformat_file_name(file):\n",
    "    file_nice = file.replace('_', ' ')\n",
    "    file_nice = file_nice.replace(notebook_ext, '')\n",
    "    file_nice = file_nice.replace(folder_nice, '')\n",
    "    file_nice = file_nice.strip()\n",
    "    if (file_nice != \"\"):\n",
    "            file_nice = file_nice[0].capitalize() + file_nice[1:]\n",
    "    return file_nice"
   ]
  },
  {
   "cell_type": "markdown",
   "id": "78ec2d9e-9487-4f17-b6d0-d23f2e823701",
   "metadata": {},
   "source": [
    "### Get functions"
   ]
  },
  {
   "cell_type": "code",
   "execution_count": 5,
   "id": "60f09f7c-1930-4c6b-92d0-02676447e008",
   "metadata": {
    "execution": {
     "iopub.execute_input": "2023-06-13T08:57:52.464946Z",
     "iopub.status.busy": "2023-06-13T08:57:52.464710Z",
     "iopub.status.idle": "2023-06-13T08:57:52.592918Z",
     "shell.execute_reply": "2023-06-13T08:57:52.592432Z",
     "shell.execute_reply.started": "2023-06-13T08:57:52.464918Z"
    },
    "tags": []
   },
   "outputs": [],
   "source": [
    "def get_open_button(download_link, title_url):\n",
    "    return f\"\"\"<a href=\"{download_link}\" target=\"_parent\"><img src=\"{naas_logo}\"/></a><br><br><a href=\"{template_request}\">Template request</a> | <a href=\"{bug_report}{title_url}:+Error+short+description\">Bug report</a> | <a href=\"https://app.naas.ai/user-redirect/naas/downloader?url=https://raw.githubusercontent.com/jupyter-naas/awesome-notebooks/master/Naas/Naas_Start_data_product.ipynb\" target=\"_parent\">Generate Data Product</a>\"\"\"\n",
    "\n",
    "def get_title(folder_nice, file_nice, download_link):\n",
    "    title_url = (f\"{folder_nice} - {file_nice}\").replace(\" \", \"+\")\n",
    "    return f\"\"\"# {folder_nice} - {file_nice}\\n{get_open_button(download_link, title_url)}\"\"\"\n",
    "\n",
    "def get_tags(text):\n",
    "    result = []\n",
    "    if len(text) > 0:\n",
    "        tags = text.split(' ')\n",
    "        for tag in tags:\n",
    "            if len(tag) >= 2 and tag[0] == '#' and tag[1] != ' ' and tag[1] != '#':\n",
    "                result.append(tag)\n",
    "    return result\n",
    "\n",
    "def get_author(text):\n",
    "    author = \"Unknown author\"\n",
    "    url = \"Unknown author URL\"\n",
    "    if len(text) > 0:\n",
    "        author = text.split(\"**Author:**\")[-1].split(\"]\")[0].replace(\"[\", \"\").strip()\n",
    "        url = text.split(\"**Author:**\")[-1].split(\"(\")[-1].replace(\")\", \"\").strip()\n",
    "    return author, url\n",
    "\n",
    "def get_description(text):\n",
    "    description = \"No description.\"\n",
    "    if len(text) > 0 and text != \"## Input\":\n",
    "        description = text.split(\"**Description:**\")[-1].split(\"]\")[0].replace(\"[\", \"\").strip()\n",
    "    return description"
   ]
  },
  {
   "cell_type": "markdown",
   "id": "ordered-rebecca",
   "metadata": {},
   "source": [
    "### Set 'Naas Download' link on notebook"
   ]
  },
  {
   "cell_type": "code",
   "execution_count": 6,
   "id": "shared-savannah",
   "metadata": {
    "execution": {
     "iopub.execute_input": "2023-06-13T08:57:52.594119Z",
     "iopub.status.busy": "2023-06-13T08:57:52.593866Z",
     "iopub.status.idle": "2023-06-13T08:57:52.709560Z",
     "shell.execute_reply": "2023-06-13T08:57:52.709011Z",
     "shell.execute_reply.started": "2023-06-13T08:57:52.594090Z"
    },
    "tags": []
   },
   "outputs": [],
   "source": [
    "def set_notebook_title_and_get_meta(notebook_path, title_source, final_title, good_format):\n",
    "    header_found = False\n",
    "    tag_found = False\n",
    "    tags = None\n",
    "    author = None\n",
    "    author_url = None\n",
    "    description = None\n",
    "    count = 0\n",
    "    nb = load_notebook_node(notebook_path)\n",
    "    nb = copy.deepcopy(nb)\n",
    "    # Parse the entire notebook\n",
    "    for cell in nb.cells:\n",
    "        source = cell.source\n",
    "        # Clean outputs\n",
    "        if cell.cell_type == \"code\":\n",
    "            nb.cells[count].outputs = []\n",
    "        # Get the header cell\n",
    "        if not header_found and cell.cell_type == \"markdown\" and len(source) > 2 and source[0] == '#' and source[1] == ' ':\n",
    "            nb.cells[count].source = title_source\n",
    "            header_found = True\n",
    "        count += 1\n",
    "    # Set the good title format in the notabook\n",
    "    write_ipynb(nb, notebook_path)\n",
    "    # Rename the notebook if the tool name is not the same\n",
    "    if good_format == 1:\n",
    "        os.rename(notebook_path, final_title)\n",
    "        \n",
    "    # Meta\n",
    "    tags = get_tags(nb.cells[2].get(\"source\"))\n",
    "    author, author_url = get_author(nb.cells[3].get(\"source\"))\n",
    "    description = get_description(nb.cells[4].get(\"source\"))\n",
    "    return tags, author, author_url, description"
   ]
  },
  {
   "cell_type": "markdown",
   "id": "infrared-destiny",
   "metadata": {
    "execution": {
     "iopub.execute_input": "2021-01-26T16:25:51.412411Z",
     "iopub.status.busy": "2021-01-26T16:25:51.412178Z",
     "iopub.status.idle": "2021-01-26T16:25:51.414944Z",
     "shell.execute_reply": "2021-01-26T16:25:51.414298Z",
     "shell.execute_reply.started": "2021-01-26T16:25:51.412388Z"
    }
   },
   "source": [
    "### Convert filepath in Markdown text"
   ]
  },
  {
   "cell_type": "code",
   "execution_count": 7,
   "id": "devoted-syracuse",
   "metadata": {
    "execution": {
     "iopub.execute_input": "2023-06-13T08:57:52.712059Z",
     "iopub.status.busy": "2023-06-13T08:57:52.711879Z",
     "iopub.status.idle": "2023-06-13T08:57:52.812724Z",
     "shell.execute_reply": "2023-06-13T08:57:52.812067Z",
     "shell.execute_reply.started": "2023-06-13T08:57:52.712039Z"
    },
    "tags": []
   },
   "outputs": [],
   "source": [
    "def get_file_md(folder_nice, folder_url, files, json_templates, title_sep=\"##\", subtitle_sep=\"*\"):\n",
    "    good_format = 0\n",
    "    final_title = \"\"\n",
    "    md = \"\"\n",
    "    folder_name = \"\"\n",
    "    tool_name = \"\"\n",
    "    tool_title = \"\"\n",
    "\n",
    "    if (len(files) > 0):\n",
    "        md += f\"\\n{title_sep} {folder_nice}\\n\"\n",
    "        for file in files:\n",
    "            if file.endswith(notebook_ext):\n",
    "                good_format = 0\n",
    "                file_url = urllib.parse.quote(file)\n",
    "                folder_name = folder_nice\n",
    "                temp = folder_name.split(\"_\")\n",
    "                tool_name = temp[0]\n",
    "                file_nice = reformat_file_name(file)\n",
    "                # Check if the tool name is the same as the tool name in the notebook name\n",
    "                if tool_name != folder_name:\n",
    "                    temp = file.split(\"_\")\n",
    "                    del temp[0]\n",
    "                    tool_title = folder_name + \"_\"\n",
    "                    for i in temp:\n",
    "                        tool_title += i + \"_\"\n",
    "                    final_title = folder_name + \"/\" + tool_title[:-1]\n",
    "                    good_format = 1\n",
    "                path = urllib.parse.unquote(f\"{folder_url}/{file_url}\")\n",
    "                # Get the download URL\n",
    "                dl_url = f\"{naas_download_url}{github_download_url}{folder_url}/{file_url}\"\n",
    "                # Put the title to the format \"TOOLS - NAME_OF_NOTEBOOK Open_In_Naas\"\n",
    "                title = get_title(folder_nice, file_nice, dl_url)\n",
    "                # Set the good title format and get meta from the notebooks of the folder\n",
    "                tags, author, author_url, description = set_notebook_title_and_get_meta(path, title, final_title, good_format)\n",
    "                # Get the name of the Notebook and the redirect to github link\n",
    "                nb_redirect = f\"[{file_nice}]({github_url}/{folder_url}/{file_url})\"\n",
    "                # Get the open in naas format\n",
    "                title_url = (f\"{folder_nice} - {file_nice}\").replace(\" \", \"+\")\n",
    "                open_button = get_open_button(dl_url, title_url)\n",
    "                # For the actual file, put the nnotebook name and the gihub link for the return in markdown\n",
    "                md += f\"{subtitle_sep} {nb_redirect}\\n\"\n",
    "                new_json = {\n",
    "                    'tool': folder_nice,\n",
    "                    'notebook': file_nice,\n",
    "                    'tags': tags,\n",
    "                    'update': '',\n",
    "                    'action': open_button.split(\"<br><br>\")[0],\n",
    "                    'author': author,\n",
    "                    'author_url': author_url,\n",
    "                    'description': description\n",
    "                }\n",
    "                json_templates.append(new_json)\n",
    "    return md"
   ]
  },
  {
   "cell_type": "code",
   "execution_count": null,
   "id": "edb6b957-c7a8-4904-aad6-ea6adf24a134",
   "metadata": {},
   "outputs": [],
   "source": [
    "new_json = {\n",
    "    'tool': folder_nice,\n",
    "    'notebook': file_nice,\n",
    "    'tags': tags,\n",
    "    'author': author,\n",
    "    'author_url': author_url,\n",
    "    'description': description,\n",
    "    'last_update': '',\n",
    "    'action': open_button.split(\"<br><br>\")[0],\n",
    "    'action': ,\n",
    "}"
   ]
  },
  {
   "cell_type": "code",
   "execution_count": 8,
   "id": "viral-cause",
   "metadata": {
    "execution": {
     "iopub.execute_input": "2023-06-13T08:57:52.814818Z",
     "iopub.status.busy": "2023-06-13T08:57:52.814450Z",
     "iopub.status.idle": "2023-06-13T08:57:53.034033Z",
     "shell.execute_reply": "2023-06-13T08:57:53.028640Z",
     "shell.execute_reply.started": "2023-06-13T08:57:52.814786Z"
    },
    "tags": []
   },
   "outputs": [
    {
     "ename": "NameError",
     "evalue": "name 'notebooks' is not defined",
     "output_type": "error",
     "traceback": [
      "\u001b[0;31m---------------------------------------------------------------------------\u001b[0m",
      "\u001b[0;31mNameError\u001b[0m                                 Traceback (most recent call last)",
      "\u001b[0;32m<ipython-input-8-947891c2c988>\u001b[0m in \u001b[0;36m<module>\u001b[0;34m\u001b[0m\n\u001b[1;32m      2\u001b[0m \u001b[0mjson_templates\u001b[0m \u001b[0;34m=\u001b[0m \u001b[0;34m[\u001b[0m\u001b[0;34m]\u001b[0m\u001b[0;34m\u001b[0m\u001b[0;34m\u001b[0m\u001b[0m\n\u001b[1;32m      3\u001b[0m \u001b[0mlist_of_tools\u001b[0m \u001b[0;34m=\u001b[0m \u001b[0;34m[\u001b[0m\u001b[0;34m]\u001b[0m\u001b[0;34m\u001b[0m\u001b[0;34m\u001b[0m\u001b[0m\n\u001b[0;32m----> 4\u001b[0;31m \u001b[0mindex_max\u001b[0m \u001b[0;34m=\u001b[0m \u001b[0mlen\u001b[0m\u001b[0;34m(\u001b[0m\u001b[0mnotebooks\u001b[0m\u001b[0;34m)\u001b[0m\u001b[0;34m\u001b[0m\u001b[0;34m\u001b[0m\u001b[0m\n\u001b[0m\u001b[1;32m      5\u001b[0m \u001b[0mindex\u001b[0m \u001b[0;34m=\u001b[0m \u001b[0;36m0\u001b[0m\u001b[0;34m\u001b[0m\u001b[0;34m\u001b[0m\u001b[0m\n\u001b[1;32m      6\u001b[0m \u001b[0;34m\u001b[0m\u001b[0m\n",
      "\u001b[0;31mNameError\u001b[0m: name 'notebooks' is not defined"
     ]
    }
   ],
   "source": [
    "generated_list = \"\"\n",
    "json_templates = []\n",
    "list_of_tools = []\n",
    "index_max = len(notebooks)\n",
    "index = 0\n",
    "\n",
    "while index <= (index_max) - 1:\n",
    "    folder_nice = notebooks[index].get(\"root\")\n",
    "    if folder_nice not in list_of_tools and folder_nice != \"\":\n",
    "        md_round = \"\"\n",
    "        files = []\n",
    "        list_of_tools.append(folder_nice)\n",
    "        folder_url = urllib.parse.quote(folder_nice)\n",
    "        print(folder_nice)\n",
    "        while True:\n",
    "            if notebooks[index].get(\"root\") != folder_nice:\n",
    "                break\n",
    "            print(notebooks[index].get(\"subdir\"))\n",
    "            files.append(notebooks[index].get(\"subdir\"))\n",
    "            index += 1\n",
    "            if index == index_max:\n",
    "                break\n",
    "        if (\"/\" not in folder_nice):\n",
    "            md_round += get_file_md(folder_nice, folder_url, files, json_templates)\n",
    "        else:\n",
    "            folder_url = urllib.parse.quote(folder_nice)\n",
    "            subfolder_nice = folder_nice.split('/')[1].replace('_', ' ').replace(folder_nice, '').strip()\n",
    "            md_round += get_file_md(subfolder_nice, folder_url, files, json_templates, \"\\t###\", \"\\t-\")\n",
    "        generated_list += md_round"
   ]
  },
  {
   "cell_type": "markdown",
   "id": "f5d63b5f-5209-4f89-8d1c-d85fa8a2b73f",
   "metadata": {},
   "source": [
    "## Output"
   ]
  },
  {
   "cell_type": "markdown",
   "id": "aboriginal-responsibility",
   "metadata": {},
   "source": [
    "### Preview the generated list"
   ]
  },
  {
   "cell_type": "code",
   "execution_count": null,
   "id": "broadband-rachel",
   "metadata": {
    "execution": {
     "iopub.status.busy": "2023-06-13T08:57:53.035061Z",
     "iopub.status.idle": "2023-06-13T08:57:53.035569Z",
     "shell.execute_reply": "2023-06-13T08:57:53.035384Z"
    },
    "tags": []
   },
   "outputs": [],
   "source": [
    "naas_drivers.markdown.display(generated_list)"
   ]
  },
  {
   "cell_type": "markdown",
   "id": "88e075a7-8341-45af-a250-c1594c004579",
   "metadata": {},
   "source": [
    "### Generate README.md"
   ]
  },
  {
   "cell_type": "code",
   "execution_count": null,
   "id": "younger-consensus",
   "metadata": {
    "execution": {
     "iopub.status.busy": "2023-06-13T08:57:53.036467Z",
     "iopub.status.idle": "2023-06-13T08:57:53.036944Z",
     "shell.execute_reply": "2023-06-13T08:57:53.036762Z"
    },
    "tags": []
   },
   "outputs": [],
   "source": [
    "# Open README template\n",
    "template = open(readme_template).read()\n",
    "\n",
    "# Replace var to get list of templates in markdown format\n",
    "template = template.replace(\"[[DYNAMIC_LIST]]\", generated_list)\n",
    "\n",
    "# Save README\n",
    "f  = open(readme, \"w+\")\n",
    "f.write(template)\n",
    "f.close()"
   ]
  },
  {
   "cell_type": "markdown",
   "id": "de15f85e-5b64-4e51-a73b-b666fe319e97",
   "metadata": {},
   "source": [
    "### Generate json for naas manager"
   ]
  },
  {
   "cell_type": "code",
   "execution_count": null,
   "id": "2a95cba3-027c-4a57-8bfa-2ee1e9053bb7",
   "metadata": {
    "execution": {
     "iopub.status.busy": "2023-06-13T08:57:53.037793Z",
     "iopub.status.idle": "2023-06-13T08:57:53.038403Z",
     "shell.execute_reply": "2023-06-13T08:57:53.038215Z"
    },
    "tags": []
   },
   "outputs": [],
   "source": [
    "with open(json_file, 'w') as f:\n",
    "    json.dump(json_templates, f)"
   ]
  },
  {
   "cell_type": "code",
   "execution_count": null,
   "id": "70db7c84-57ad-4a92-a60b-9f20b60b5329",
   "metadata": {},
   "outputs": [],
   "source": []
  }
 ],
 "metadata": {
  "interpreter": {
   "hash": "e7370f93d1d0cde622a1f8e1c04877d8463912d04d973331ad4851f04de6915a"
  },
  "kernelspec": {
   "display_name": "Python 3",
   "language": "python",
   "name": "python3"
  },
  "language_info": {
   "codemirror_mode": {
    "name": "ipython",
    "version": 3
   },
   "file_extension": ".py",
   "mimetype": "text/x-python",
   "name": "python",
   "nbconvert_exporter": "python",
   "pygments_lexer": "ipython3",
   "version": "3.9.6"
  },
  "widgets": {
   "application/vnd.jupyter.widget-state+json": {
    "state": {},
    "version_major": 2,
    "version_minor": 0
   }
  }
 },
 "nbformat": 4,
 "nbformat_minor": 5
}
