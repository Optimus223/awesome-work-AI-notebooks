{
 "cells": [
  {
   "cell_type": "markdown",
   "id": "48320851-ee70-4657-8e87-9f1bf9166195",
   "metadata": {
    "papermill": {},
    "tags": []
   },
   "source": [
    "<img width=\"10%\" alt=\"Naas\" src=\"https://landen.imgix.net/jtci2pxwjczr/assets/5ice39g4.png?w=160\"/>"
   ]
  },
  {
   "cell_type": "markdown",
   "id": "fece1a4d-33f3-4c61-b167-9a2bae901f7d",
   "metadata": {
    "papermill": {},
    "tags": []
   },
   "source": [
    "# LinkedIn Sales Navigator - Extract Accounts List from URL "
   ]
  },
  {
   "cell_type": "markdown",
   "id": "9eee28b3-cffb-4ac2-b0f9-c9a1177ac67b",
   "metadata": {
    "papermill": {},
    "tags": []
   },
   "source": [
    "**Tags:** #linkedin #salesnavigator #extract #accounts #url #python"
   ]
  },
  {
   "cell_type": "markdown",
   "id": "0b521de8-d1ee-40a7-ad41-22c30b0f3cfa",
   "metadata": {
    "papermill": {},
    "tags": []
   },
   "source": [
    "**Author:** [Florent Ravenel](https://www.linkedin.com/in/florent-ravenel/)"
   ]
  },
  {
   "cell_type": "markdown",
   "id": "12dd1cf9-c691-4d2c-8def-6bee8e535581",
   "metadata": {
    "papermill": {},
    "tags": []
   },
   "source": [
    "**Description:** This notebook will show how to extract a list of accounts from a given URL using LinkedIn Sales Navigator."
   ]
  },
  {
   "cell_type": "markdown",
   "id": "f5e7eea8-5119-4355-b8b9-d20bbdae3a0e",
   "metadata": {
    "papermill": {},
    "tags": []
   },
   "source": [
    "**References:**\n- [LinkedIn Sales Navigator Documentation](https://docs.microsoft.com/en-us/linkedin/sales-navigator/overview)\n- [Python Requests Library](https://requests.readthedocs.io/en/master/)"
   ]
  },
  {
   "cell_type": "markdown",
   "id": "5131ce34-58c4-4303-843f-ac1e76f6779c",
   "metadata": {
    "papermill": {},
    "tags": []
   },
   "source": [
    "## Input"
   ]
  },
  {
   "cell_type": "markdown",
   "id": "66ddbb5f-de5f-4089-9057-5ea02ab299bb",
   "metadata": {
    "papermill": {},
    "tags": []
   },
   "source": [
    "### Import libraries"
   ]
  },
  {
   "cell_type": "code",
   "execution_count": null,
   "id": "9cd2999a-40bd-44f5-b0ff-f149192d3c09",
   "metadata": {
    "papermill": {},
    "tags": []
   },
   "source": "import requests",
   "outputs": []
  },
  {
   "cell_type": "markdown",
   "id": "0788e5d6-b08e-4cc5-89ac-39dfc7b08f28",
   "metadata": {
    "papermill": {},
    "tags": []
   },
   "source": [
    "### Setup Variables\n- `url`: URL of the page to extract accounts from"
   ]
  },
  {
   "cell_type": "code",
   "execution_count": null,
   "id": "f39fb0cf-7342-4f6e-b716-e34d227f4c7d",
   "metadata": {
    "papermill": {},
    "tags": []
   },
   "source": "url = \"https://www.example.com/accounts\"",
   "outputs": []
  },
  {
   "cell_type": "markdown",
   "id": "01c5381c-6ce3-4f98-b392-fe6e8cecc46c",
   "metadata": {
    "papermill": {},
    "tags": []
   },
   "source": [
    "## Model"
   ]
  },
  {
   "cell_type": "markdown",
   "id": "7c0434ad-c6ee-4ecd-978f-4007f514c701",
   "metadata": {
    "papermill": {},
    "tags": []
   },
   "source": [
    "### Extract Accounts"
   ]
  },
  {
   "cell_type": "markdown",
   "id": "c21d02f7-2d1b-473d-be1d-8109b016d5e4",
   "metadata": {
    "papermill": {},
    "tags": []
   },
   "source": [
    "Extract a list of accounts from the given URL using the `requests` library."
   ]
  },
  {
   "cell_type": "code",
   "execution_count": null,
   "id": "68c0b10f-094a-4130-aef3-aba087801841",
   "metadata": {
    "papermill": {},
    "tags": []
   },
   "source": "response = requests.get(url)\naccounts = response.json()",
   "outputs": []
  },
  {
   "cell_type": "markdown",
   "id": "52b59d5a-f7ff-4429-b4b4-1335b6b34eae",
   "metadata": {
    "papermill": {},
    "tags": []
   },
   "source": [
    "## Output"
   ]
  },
  {
   "cell_type": "markdown",
   "id": "9ac95fd1-86f7-4bd7-aa5b-d099327b175e",
   "metadata": {
    "papermill": {},
    "tags": []
   },
   "source": [
    "### Display result"
   ]
  },
  {
   "cell_type": "code",
   "execution_count": null,
   "id": "9e31d936-65b7-4e6b-9ad1-3bfd55ae189b",
   "metadata": {
    "papermill": {},
    "tags": []
   },
   "source": "print(accounts)",
   "outputs": []
  },
  {
   "cell_type": "markdown",
   "id": "b7ca5b2b-4529-4661-8d23-064c0cf358a5",
   "metadata": {
    "papermill": {},
    "tags": []
   },
   "source": [
    " "
   ]
  }
 ],
 "metadata": {
  "kernelspec": {
   "display_name": "Python 3",
   "language": "python",
   "name": "python3"
  },
  "language_info": {
   "codemirror_mode": {
    "name": "ipython",
    "version": 3
   },
   "file_extension": ".py",
   "mimetype": "text/x-python",
   "name": "python",
   "nbconvert_exporter": "python",
   "pygments_lexer": "ipython3",
   "version": "3.9.6"
  },
  "widgets": {
   "application/vnd.jupyter.widget-state+json": {
    "state": {},
    "version_major": 2,
    "version_minor": 0
   }
  }
 },
 "nbformat": 4,
 "nbformat_minor": 5
}