{
 "cells": [
  {
   "cell_type": "markdown",
   "id": "d3ac161d-3ec7-49da-9dbb-7ba20f9d673a",
   "metadata": {
    "papermill": {},
    "tags": []
   },
   "source": [
    "<img width=\"10%\" alt=\"Naas\" src=\"https://landen.imgix.net/jtci2pxwjczr/assets/5ice39g4.png?w=160\"/>"
   ]
  },
  {
   "cell_type": "markdown",
   "id": "e0d6762c-ab8c-4598-ba97-e0388b93a3c7",
   "metadata": {
    "papermill": {},
    "tags": []
   },
   "source": [
    "# LinkedIn Sales Navigator - Extract Leads List from URL"
   ]
  },
  {
   "cell_type": "markdown",
   "id": "83478d0d-4e3a-4aa7-975a-1515dc2721aa",
   "metadata": {
    "papermill": {},
    "tags": []
   },
   "source": [
    "**Tags:** #linkedin #salesnavigator #extract #leads #list #url"
   ]
  },
  {
   "cell_type": "markdown",
   "id": "4f78c363-85f3-4b28-9712-e11e0a28696b",
   "metadata": {
    "papermill": {},
    "tags": []
   },
   "source": [
    "**Author:** [Florent Ravenel](https://www.linkedin.com/in/florent-ravenel/)"
   ]
  },
  {
   "cell_type": "markdown",
   "id": "e0211137-912b-4be7-b0d7-4e6c25069319",
   "metadata": {
    "papermill": {},
    "tags": []
   },
   "source": [
    "**Description:** This notebook will show how to extract a list of leads from a URL using LinkedIn Sales Navigator."
   ]
  },
  {
   "cell_type": "markdown",
   "id": "2aff7394-a980-4f3b-aecb-91bebb9daa42",
   "metadata": {
    "papermill": {},
    "tags": []
   },
   "source": [
    "**References:**\n- [LinkedIn Sales Navigator Documentation](https://docs.microsoft.com/en-us/linkedin/sales-navigator/)\n- [LinkedIn Sales Navigator API](https://docs.microsoft.com/en-us/linkedin/sales-navigator/api-overview)"
   ]
  },
  {
   "cell_type": "markdown",
   "id": "ac3d2cc9-d0dd-4f2f-aa8b-90769c2c412b",
   "metadata": {
    "papermill": {},
    "tags": []
   },
   "source": [
    "## Input"
   ]
  },
  {
   "cell_type": "markdown",
   "id": "91cf842a-205b-4433-98bb-3f37a316e0ed",
   "metadata": {
    "papermill": {},
    "tags": []
   },
   "source": [
    "### Import libraries"
   ]
  },
  {
   "cell_type": "code",
   "execution_count": null,
   "id": "3e203a97-a915-4914-bfb0-39402420d62f",
   "metadata": {
    "papermill": {},
    "tags": []
   },
   "source": "import requests\nimport json",
   "outputs": []
  },
  {
   "cell_type": "markdown",
   "id": "416a70f5-dedb-4cfc-88dd-c8c24a452db3",
   "metadata": {
    "papermill": {},
    "tags": []
   },
   "source": [
    "### Setup Variables\n- `url`: URL of the page to extract leads from"
   ]
  },
  {
   "cell_type": "code",
   "execution_count": null,
   "id": "398f9bcd-7858-42e4-bc0a-ef64a46fa934",
   "metadata": {
    "papermill": {},
    "tags": []
   },
   "source": "url = \"https://www.example.com/leads\"",
   "outputs": []
  },
  {
   "cell_type": "markdown",
   "id": "fd730043-04cb-403a-9403-0c3a29a14594",
   "metadata": {
    "papermill": {},
    "tags": []
   },
   "source": [
    "## Model"
   ]
  },
  {
   "cell_type": "markdown",
   "id": "3969b73b-ab00-442c-aa15-21b6ebeae361",
   "metadata": {
    "papermill": {},
    "tags": []
   },
   "source": [
    "### Extract leads from URL"
   ]
  },
  {
   "cell_type": "markdown",
   "id": "2624e165-34ce-47b6-a90c-22e026179245",
   "metadata": {
    "papermill": {},
    "tags": []
   },
   "source": [
    "Using the `requests` library, we can make a `GET` request to the URL and extract the leads from the response."
   ]
  },
  {
   "cell_type": "code",
   "execution_count": null,
   "id": "895dbc5a-a897-43bf-97db-1b9f36aed365",
   "metadata": {
    "papermill": {},
    "tags": []
   },
   "source": "response = requests.get(url)\nleads = json.loads(response.text)",
   "outputs": []
  },
  {
   "cell_type": "markdown",
   "id": "7a55a978-3005-4e14-897c-242390b502fa",
   "metadata": {
    "papermill": {},
    "tags": []
   },
   "source": [
    "## Output"
   ]
  },
  {
   "cell_type": "markdown",
   "id": "056a075f-e9de-49ad-9316-e70201c24888",
   "metadata": {
    "papermill": {},
    "tags": []
   },
   "source": [
    "### Display result"
   ]
  },
  {
   "cell_type": "code",
   "execution_count": null,
   "id": "ea950660-f481-43a4-82e4-ec63c86d3f8e",
   "metadata": {
    "papermill": {},
    "tags": []
   },
   "source": "print(leads)",
   "outputs": []
  }
 ],
 "metadata": {
  "kernelspec": {
   "display_name": "Python 3",
   "language": "python",
   "name": "python3"
  },
  "language_info": {
   "codemirror_mode": {
    "name": "ipython",
    "version": 3
   },
   "file_extension": ".py",
   "mimetype": "text/x-python",
   "name": "python",
   "nbconvert_exporter": "python",
   "pygments_lexer": "ipython3",
   "version": "3.9.6"
  },
  "widgets": {
   "application/vnd.jupyter.widget-state+json": {
    "state": {},
    "version_major": 2,
    "version_minor": 0
   }
  }
 },
 "nbformat": 4,
 "nbformat_minor": 5
}