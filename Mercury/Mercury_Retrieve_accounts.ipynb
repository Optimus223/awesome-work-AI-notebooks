{
 "cells": [
  {
   "cell_type": "markdown",
   "id": "896e6736-d05f-4d37-807b-4ec9b1bcd0fb",
   "metadata": {
    "papermill": {},
    "tags": []
   },
   "source": [
    "<img width=\"10%\" alt=\"Naas\" src=\"https://landen.imgix.net/jtci2pxwjczr/assets/5ice39g4.png?w=160\"/>"
   ]
  },
  {
   "cell_type": "markdown",
   "id": "a2ea9e0f-c0d9-4264-b536-deb0aa44deba",
   "metadata": {
    "papermill": {},
    "tags": []
   },
   "source": [
    "# Mercury - Retrieve accounts"
   ]
  },
  {
   "cell_type": "markdown",
   "id": "f96734f9-b73b-4b32-902b-6e9145d91fac",
   "metadata": {
    "papermill": {},
    "tags": []
   },
   "source": [
    "**Tags:** #mercury #accounts #retrieve #bank #api #reference"
   ]
  },
  {
   "cell_type": "markdown",
   "id": "0ed26574-e865-4ba0-9f90-3d3d12fe2d33",
   "metadata": {
    "papermill": {},
    "tags": []
   },
   "source": [
    "**Author:** [Florent Ravenel](https://www.linkedin.com/in/florent-ravenel/)"
   ]
  },
  {
   "cell_type": "markdown",
   "id": "72387e75-46fc-4d2d-b9c4-b3bd01b70c1c",
   "metadata": {
    "papermill": {},
    "tags": []
   },
   "source": [
    "**Last update:** 2023-11-22 (Created: 2023-11-22)"
   ]
  },
  {
   "cell_type": "markdown",
   "id": "c5f737ea-ce34-460a-a7c4-61b464af7a59",
   "metadata": {
    "papermill": {},
    "tags": []
   },
   "source": [
    "**Description:** This notebook retrieves information about all your bank accounts using Mercury API. It is usefull for organizations to keep track of their accounts."
   ]
  },
  {
   "cell_type": "markdown",
   "id": "18577d6f-f855-41d3-bb14-d81b7dc6a0f0",
   "metadata": {
    "papermill": {},
    "tags": []
   },
   "source": [
    "**References:**\n- [Mercury API Reference](https://docs.mercury.com/reference/accounts)\n- [Mercury API Documentation](https://docs.mercury.com/documentation/accounts)"
   ]
  },
  {
   "cell_type": "markdown",
   "id": "d3a17e89-a88f-4e55-be4b-4ad97494bc00",
   "metadata": {
    "papermill": {},
    "tags": []
   },
   "source": [
    "## Input"
   ]
  },
  {
   "cell_type": "markdown",
   "id": "d2b41a4a-62bd-4811-b91c-9059e341309f",
   "metadata": {
    "papermill": {},
    "tags": []
   },
   "source": [
    "### Import libraries"
   ]
  },
  {
   "cell_type": "code",
   "execution_count": null,
   "id": "f7dd9dd0-bcda-4168-a27e-c23c7447d107",
   "metadata": {
    "papermill": {},
    "tags": []
   },
   "source": "import requests\nimport json",
   "outputs": []
  },
  {
   "cell_type": "markdown",
   "id": "8c27af53-80ff-47e4-8215-a5ae726c4a21",
   "metadata": {
    "papermill": {},
    "tags": []
   },
   "source": [
    "### Setup variables\n- **api_key**: API key provided by Mercury. [Link to procedure](https://docs.mercury.com/procedure/api-key)"
   ]
  },
  {
   "cell_type": "code",
   "execution_count": null,
   "id": "1f576234-39c4-4415-8d55-26989dc788a8",
   "metadata": {
    "papermill": {},
    "tags": []
   },
   "source": "api_key = \"YOUR_API_KEY\"",
   "outputs": []
  },
  {
   "cell_type": "markdown",
   "id": "0dc57fb7-d164-4be6-95b5-b86876ba92c7",
   "metadata": {
    "papermill": {},
    "tags": []
   },
   "source": [
    "## Model"
   ]
  },
  {
   "cell_type": "markdown",
   "id": "4e980868-986e-411e-ac88-4d3efef5d6d2",
   "metadata": {
    "papermill": {},
    "tags": []
   },
   "source": [
    "### Retrieve accounts"
   ]
  },
  {
   "cell_type": "markdown",
   "id": "160b8dec-2c23-4a88-95cd-afbff99fe132",
   "metadata": {
    "papermill": {},
    "tags": []
   },
   "source": [
    "Retrieve information about all your bank accounts using Mercury API."
   ]
  },
  {
   "cell_type": "code",
   "execution_count": null,
   "id": "1fc10915-fa97-4154-9390-45df034b865c",
   "metadata": {
    "papermill": {},
    "tags": []
   },
   "source": "# Set the request parameters\nurl = \"https://api.mercury.com/accounts\"\nheaders = {\"x-api-key\": api_key}\n# Do the HTTP get request\nresponse = requests.get(url, headers=headers)\n# Check for HTTP codes other than 200\nif response.status_code != 200:\n    print(\"Status:\", response.status_code, \"Problem with the request. Exiting.\")\n    exit()\n# Decode the JSON response into a dictionary and use the data\ndata = response.json()",
   "outputs": []
  },
  {
   "cell_type": "markdown",
   "id": "3debdf74-6be3-4240-aaf8-91ff3e62d699",
   "metadata": {
    "papermill": {},
    "tags": []
   },
   "source": [
    "## Output"
   ]
  },
  {
   "cell_type": "markdown",
   "id": "931cff78-601b-4e2d-8df7-cc9e8d800628",
   "metadata": {
    "papermill": {},
    "tags": []
   },
   "source": [
    "### Display result"
   ]
  },
  {
   "cell_type": "code",
   "execution_count": null,
   "id": "d109a907-68ee-4a29-9334-b31b5ccf9e46",
   "metadata": {
    "papermill": {},
    "tags": []
   },
   "source": "print(json.dumps(data, indent=4))",
   "outputs": []
  },
  {
   "cell_type": "markdown",
   "id": "39c1f339-e73b-44fd-919e-41864bd5791a",
   "metadata": {
    "papermill": {},
    "tags": []
   },
   "source": [
    " "
   ]
  }
 ],
 "metadata": {
  "kernelspec": {
   "display_name": "Python 3",
   "language": "python",
   "name": "python3"
  },
  "language_info": {
   "codemirror_mode": {
    "name": "ipython",
    "version": 3
   },
   "file_extension": ".py",
   "mimetype": "text/x-python",
   "name": "python",
   "nbconvert_exporter": "python",
   "pygments_lexer": "ipython3",
   "version": "3.9.6"
  },
  "widgets": {
   "application/vnd.jupyter.widget-state+json": {
    "state": {},
    "version_major": 2,
    "version_minor": 0
   }
  }
 },
 "nbformat": 4,
 "nbformat_minor": 5
}