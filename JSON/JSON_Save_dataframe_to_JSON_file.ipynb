{
 "cells": [
  {
   "cell_type": "markdown",
   "id": "3aa858af-067d-4831-9b9a-5f3e918efac3",
   "metadata": {
    "papermill": {},
    "tags": []
   },
   "source": [
    "<img width=\"10%\" alt=\"Naas\" src=\"https://landen.imgix.net/jtci2pxwjczr/assets/5ice39g4.png?w=160\"/>"
   ]
  },
  {
   "cell_type": "markdown",
   "id": "d36356f7-4c3f-4758-a00e-84826514535c",
   "metadata": {
    "papermill": {},
    "tags": []
   },
   "source": [
    "# JSON - Save dataframe to JSON file\n",
    "<a href=\"https://app.naas.ai/user-redirect/naas/downloader?url=https://raw.githubusercontent.com/jupyter-naas/awesome-notebooks/master/Python/Python_Save_json_file.ipynb\" target=\"_parent\"><img src=\"https://naasai-public.s3.eu-west-3.amazonaws.com/Open_in_Naas_Lab.svg\"/></a><br><br><a href=\"https://bit.ly/3JyWIk6\">Give Feedbacks</a> | <a href=\"https://app.naas.ai/user-redirect/naas/downloader?url=https://raw.githubusercontent.com/jupyter-naas/awesome-notebooks/master/Naas/Naas_Start_data_product.ipynb\" target=\"_parent\">Generate Data Product</a>"
   ]
  },
  {
   "cell_type": "markdown",
   "id": "c616068c-4b2d-444c-b6d1-311ae7047723",
   "metadata": {
    "papermill": {},
    "tags": []
   },
   "source": [
    "**Tags:** #json #python #file #save #data"
   ]
  },
  {
   "cell_type": "markdown",
   "id": "3bb73f8f-7dd1-4803-a9e2-b5dd1f31918f",
   "metadata": {
    "papermill": {},
    "tags": []
   },
   "source": [
    "**Author:** [Florent Ravenel](https://www.linkedin.com/in/florent-ravenel/)"
   ]
  },
  {
   "cell_type": "markdown",
   "id": "d3c4f486-789b-4ed6-bc4e-10f42242b425",
   "metadata": {
    "papermill": {},
    "tags": []
   },
   "source": [
    "**Description:** This notebook will demonstrate how to save a DataFrame to a json file."
   ]
  },
  {
   "cell_type": "markdown",
   "id": "f89f9cf2-8555-4461-86a6-da17482c84fc",
   "metadata": {
    "papermill": {},
    "tags": []
   },
   "source": [
    "**References:**\n",
    "- [Python json module](https://docs.python.org/3/library/json.html)\n",
    "- [Python json.dump()](https://www.programiz.com/python-programming/methods/json/dump)"
   ]
  },
  {
   "cell_type": "markdown",
   "id": "9e80b263-878f-417a-aa26-6f46640781e2",
   "metadata": {
    "papermill": {},
    "tags": []
   },
   "source": [
    "## Input"
   ]
  },
  {
   "cell_type": "markdown",
   "id": "990d6312-352f-4121-a6ba-986f981a6075",
   "metadata": {
    "papermill": {},
    "tags": []
   },
   "source": [
    "### Import libraries"
   ]
  },
  {
   "cell_type": "code",
   "execution_count": 1,
   "id": "1a776e43-a2b8-46de-b982-61b1d220402d",
   "metadata": {
    "execution": {
     "iopub.execute_input": "2023-07-31T15:58:28.545484Z",
     "iopub.status.busy": "2023-07-31T15:58:28.545184Z",
     "iopub.status.idle": "2023-07-31T15:58:29.851863Z",
     "shell.execute_reply": "2023-07-31T15:58:29.851212Z",
     "shell.execute_reply.started": "2023-07-31T15:58:28.545402Z"
    },
    "papermill": {},
    "tags": []
   },
   "outputs": [],
   "source": [
    "import json\n",
    "import pandas as pd"
   ]
  },
  {
   "cell_type": "markdown",
   "id": "ec5db635-aef2-4cf6-9646-c54173b4f048",
   "metadata": {
    "papermill": {},
    "tags": []
   },
   "source": [
    "### Setup variables\n",
    "- `orient` : Determines the type of the values of the dictionary.\n",
    "    - 'dict' (default) : dict like {column -> {index -> value}}\n",
    "    - 'list' : dict like {column -> [values]}\n",
    "    - 'series' : dict like {column -> Series(values)}\n",
    "    - 'split' : dict like\n",
    "      {'index' -> [index], 'columns' -> [columns], 'data' -> [values]}\n",
    "    - 'tight' : dict like\n",
    "      {'index' -> [index], 'columns' -> [columns], 'data' -> [values],\n",
    "      'index_names' -> [index.names], 'column_names' -> [column.names]}\n",
    "    - 'records' : list like\n",
    "      [{column -> value}, ... , {column -> value}]\n",
    "    - 'index' : dict like {index -> {column -> value}}\n",
    "- `json_path`: json file path"
   ]
  },
  {
   "cell_type": "code",
   "execution_count": 2,
   "id": "093a6a77-011a-43b7-bc51-c8609b71c9db",
   "metadata": {
    "execution": {
     "iopub.execute_input": "2023-07-31T15:58:29.853537Z",
     "iopub.status.busy": "2023-07-31T15:58:29.853302Z",
     "iopub.status.idle": "2023-07-31T15:58:29.857982Z",
     "shell.execute_reply": "2023-07-31T15:58:29.857466Z",
     "shell.execute_reply.started": "2023-07-31T15:58:29.853505Z"
    },
    "papermill": {},
    "tags": []
   },
   "outputs": [],
   "source": [
    "orient = \"records\"\n",
    "json_path = \"data.json\""
   ]
  },
  {
   "cell_type": "markdown",
   "id": "492ff731-7c1d-421a-8ca8-f9998960985e",
   "metadata": {
    "papermill": {},
    "tags": []
   },
   "source": [
    "## Model"
   ]
  },
  {
   "cell_type": "markdown",
   "id": "45577874-6ec8-4a52-9555-c578595c471e",
   "metadata": {},
   "source": [
    "### Create DataFrame"
   ]
  },
  {
   "cell_type": "code",
   "execution_count": 3,
   "id": "42dac397-6396-4c0f-98f7-f93b258cbf67",
   "metadata": {
    "execution": {
     "iopub.execute_input": "2023-07-31T15:58:29.860625Z",
     "iopub.status.busy": "2023-07-31T15:58:29.860372Z",
     "iopub.status.idle": "2023-07-31T15:58:29.995845Z",
     "shell.execute_reply": "2023-07-31T15:58:29.995178Z",
     "shell.execute_reply.started": "2023-07-31T15:58:29.860594Z"
    },
    "tags": []
   },
   "outputs": [
    {
     "data": {
      "text/html": [
       "<div>\n",
       "<style scoped>\n",
       "    .dataframe tbody tr th:only-of-type {\n",
       "        vertical-align: middle;\n",
       "    }\n",
       "\n",
       "    .dataframe tbody tr th {\n",
       "        vertical-align: top;\n",
       "    }\n",
       "\n",
       "    .dataframe thead th {\n",
       "        text-align: right;\n",
       "    }\n",
       "</style>\n",
       "<table border=\"1\" class=\"dataframe\">\n",
       "  <thead>\n",
       "    <tr style=\"text-align: right;\">\n",
       "      <th></th>\n",
       "      <th>name</th>\n",
       "      <th>age</th>\n",
       "      <th>city</th>\n",
       "    </tr>\n",
       "  </thead>\n",
       "  <tbody>\n",
       "    <tr>\n",
       "      <th>0</th>\n",
       "      <td>John Doe</td>\n",
       "      <td>30</td>\n",
       "      <td>New York</td>\n",
       "    </tr>\n",
       "  </tbody>\n",
       "</table>\n",
       "</div>"
      ],
      "text/plain": [
       "       name  age      city\n",
       "0  John Doe   30  New York"
      ]
     },
     "execution_count": 3,
     "metadata": {},
     "output_type": "execute_result"
    }
   ],
   "source": [
    "df = pd.DataFrame([{\"name\": \"John Doe\", \"age\": 30, \"city\": \"New York\"}])\n",
    "df"
   ]
  },
  {
   "cell_type": "markdown",
   "id": "e6976151-a11c-4128-a54c-96db2fe25862",
   "metadata": {},
   "source": [
    "### Convert DataFrame to dict"
   ]
  },
  {
   "cell_type": "code",
   "execution_count": 4,
   "id": "c88e6c94-60e5-4249-9868-aa2bb6119ec4",
   "metadata": {
    "execution": {
     "iopub.execute_input": "2023-07-31T15:58:29.997203Z",
     "iopub.status.busy": "2023-07-31T15:58:29.996854Z",
     "iopub.status.idle": "2023-07-31T15:58:30.063209Z",
     "shell.execute_reply": "2023-07-31T15:58:30.062237Z",
     "shell.execute_reply.started": "2023-07-31T15:58:29.997172Z"
    },
    "tags": []
   },
   "outputs": [
    {
     "data": {
      "text/plain": [
       "[{'name': 'John Doe', 'age': 30, 'city': 'New York'}]"
      ]
     },
     "execution_count": 4,
     "metadata": {},
     "output_type": "execute_result"
    }
   ],
   "source": [
    "data = df.to_dict(orient=orient)\n",
    "data"
   ]
  },
  {
   "cell_type": "markdown",
   "id": "4a3f7a9a-b3f2-4bcf-aabb-abe0d114357a",
   "metadata": {
    "papermill": {},
    "tags": []
   },
   "source": [
    "## Output"
   ]
  },
  {
   "cell_type": "markdown",
   "id": "ddcea30b-ca37-40d9-bd95-6051a05032d9",
   "metadata": {
    "papermill": {},
    "tags": []
   },
   "source": [
    "### Save json file"
   ]
  },
  {
   "cell_type": "markdown",
   "id": "42126c8d-c5e9-486c-8eee-e5430032969a",
   "metadata": {
    "papermill": {},
    "tags": []
   },
   "source": [
    "Using the `json.dump()` function, the `data` dictionary can be saved to a json file."
   ]
  },
  {
   "cell_type": "code",
   "execution_count": 5,
   "id": "2000cc5f-9c13-49ef-b52d-8890cd8bad41",
   "metadata": {
    "execution": {
     "iopub.execute_input": "2023-07-31T15:58:30.064268Z",
     "iopub.status.busy": "2023-07-31T15:58:30.064075Z",
     "iopub.status.idle": "2023-07-31T15:58:30.181202Z",
     "shell.execute_reply": "2023-07-31T15:58:30.180508Z",
     "shell.execute_reply.started": "2023-07-31T15:58:30.064246Z"
    },
    "papermill": {},
    "tags": []
   },
   "outputs": [
    {
     "name": "stdout",
     "output_type": "stream",
     "text": [
      "💾 The json file has been saved to the current directory.\n"
     ]
    }
   ],
   "source": [
    "with open(json_path, \"w\") as f:\n",
    "    json.dump(data, f)\n",
    "print(\"💾 The json file has been saved to the current directory.\")"
   ]
  },
  {
   "cell_type": "markdown",
   "id": "d0c4eb23-c6d1-4b09-b39e-59394b601926",
   "metadata": {
    "papermill": {},
    "tags": []
   },
   "source": [
    " "
   ]
  },
  {
   "cell_type": "markdown",
   "id": "3f5c1715-a12e-4031-96e5-bcf488ea098d",
   "metadata": {
    "papermill": {},
    "tags": []
   },
   "source": [
    " "
   ]
  }
 ],
 "metadata": {
  "kernelspec": {
   "display_name": "Python 3",
   "language": "python",
   "name": "python3"
  },
  "language_info": {
   "codemirror_mode": {
    "name": "ipython",
    "version": 3
   },
   "file_extension": ".py",
   "mimetype": "text/x-python",
   "name": "python",
   "nbconvert_exporter": "python",
   "pygments_lexer": "ipython3",
   "version": "3.9.6"
  },
  "naas": {
   "notebook_id": "3d275411df57748c1f0b36c1b0f71a229c7856e2fcc01d7a1f55eaa771d387ed",
   "notebook_path": "Python/Python_Save_json_file.ipynb"
  },
  "papermill": {
   "default_parameters": {},
   "environment_variables": {},
   "parameters": {},
   "version": "2.4.0"
  },
  "widgets": {
   "application/vnd.jupyter.widget-state+json": {
    "state": {},
    "version_major": 2,
    "version_minor": 0
   }
  }
 },
 "nbformat": 4,
 "nbformat_minor": 5
}
