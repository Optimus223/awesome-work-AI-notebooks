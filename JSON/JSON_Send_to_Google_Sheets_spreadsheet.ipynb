{
 "cells": [
  {
   "cell_type": "markdown",
   "id": "938d9fa1-5f33-4b1c-a073-8bc4065c45fb",
   "metadata": {
    "papermill": {},
    "tags": []
   },
   "source": [
    "<img width=\"10%\" alt=\"Naas\" src=\"https://landen.imgix.net/jtci2pxwjczr/assets/5ice39g4.png?w=160\"/>"
   ]
  },
  {
   "cell_type": "markdown",
   "id": "df50635b-6326-4141-96c3-ff171716c295",
   "metadata": {
    "papermill": {},
    "tags": []
   },
   "source": [
    "# JSON - Send to Google Sheets spreadsheet\n",
    "<a href=\"https://app.naas.ai/user-redirect/naas/downloader?url=https://raw.githubusercontent.com/jupyter-naas/awesome-notebooks/master/Python/Python_Read_json_file.ipynb\" target=\"_parent\"><img src=\"https://naasai-public.s3.eu-west-3.amazonaws.com/Open_in_Naas_Lab.svg\"/></a><br><br><a href=\"https://bit.ly/3JyWIk6\">Give Feedbacks</a> | <a href=\"https://app.naas.ai/user-redirect/naas/downloader?url=https://raw.githubusercontent.com/jupyter-naas/awesome-notebooks/master/Naas/Naas_Start_data_product.ipynb\" target=\"_parent\">Generate Data Product</a>"
   ]
  },
  {
   "cell_type": "markdown",
   "id": "7f0aaa12-3eeb-4de9-a331-ae2acd633d73",
   "metadata": {
    "papermill": {},
    "tags": []
   },
   "source": [
    "**Tags:** #json #gsheet #python #read #file #data #parse #automation"
   ]
  },
  {
   "cell_type": "markdown",
   "id": "ff436e05-c347-46b6-895d-ef030965955c",
   "metadata": {
    "papermill": {},
    "tags": []
   },
   "source": [
    "**Author:** [Florent Ravenel](https://www.linkedin.com/in/florent-ravenel/)"
   ]
  },
  {
   "cell_type": "markdown",
   "id": "c34e25e2-6e18-423a-8171-9a53b908f8d2",
   "metadata": {
    "papermill": {},
    "tags": []
   },
   "source": [
    "**Description:** This notebook will demonstrate how to send a json file to a Google Sheets spreadsheet."
   ]
  },
  {
   "cell_type": "markdown",
   "id": "32a39269-9f73-43d4-8d3a-545733436471",
   "metadata": {
    "papermill": {},
    "tags": []
   },
   "source": [
    "**References:**\n",
    "- [Python json module](https://docs.python.org/3/library/json.html)\n",
    "- [JSON format](https://www.json.org/json-en.html)"
   ]
  },
  {
   "cell_type": "markdown",
   "id": "5e371692-1cc5-4751-b8ef-c7171c7c9562",
   "metadata": {
    "papermill": {},
    "tags": []
   },
   "source": [
    "## Input"
   ]
  },
  {
   "cell_type": "markdown",
   "id": "4d5b8197-09c8-4ca1-9997-3103db0fcbcf",
   "metadata": {
    "papermill": {},
    "tags": []
   },
   "source": [
    "### Import libraries"
   ]
  },
  {
   "cell_type": "code",
   "execution_count": 18,
   "id": "25e9d285-f6b4-4da5-8995-b2d3b25a755d",
   "metadata": {
    "execution": {
     "iopub.execute_input": "2023-07-31T16:15:26.091934Z",
     "iopub.status.busy": "2023-07-31T16:15:26.091652Z",
     "iopub.status.idle": "2023-07-31T16:15:26.095608Z",
     "shell.execute_reply": "2023-07-31T16:15:26.094941Z",
     "shell.execute_reply.started": "2023-07-31T16:15:26.091905Z"
    },
    "papermill": {},
    "tags": []
   },
   "outputs": [],
   "source": [
    "import json\n",
    "from naas_drivers import gsheet\n",
    "import pandas as pd"
   ]
  },
  {
   "cell_type": "markdown",
   "id": "900920f4-dc14-4a60-9082-20731b36af7c",
   "metadata": {
    "papermill": {},
    "tags": []
   },
   "source": [
    "### Setup variables\n",
    "- `file_name`: Name of the json file to be read"
   ]
  },
  {
   "cell_type": "code",
   "execution_count": 19,
   "id": "b1d6e56e-3eb7-4b64-bfce-342cb96fad67",
   "metadata": {
    "execution": {
     "iopub.execute_input": "2023-07-31T16:15:26.689560Z",
     "iopub.status.busy": "2023-07-31T16:15:26.689330Z",
     "iopub.status.idle": "2023-07-31T16:15:26.692799Z",
     "shell.execute_reply": "2023-07-31T16:15:26.692070Z",
     "shell.execute_reply.started": "2023-07-31T16:15:26.689537Z"
    },
    "papermill": {},
    "tags": []
   },
   "outputs": [],
   "source": [
    "# Mandatory\n",
    "file_name = \"../templates.json\"\n",
    "spreadsheet_url = \"https://docs.google.com/spreadsheets/d/1RdwdYXDFDSFSFxxxxxxxx/edit#gid=XXXXXXXX33\"\n",
    "sheet_name = \"MY_SHEET\"\n",
    "\n",
    "# Optional\n",
    "append = False"
   ]
  },
  {
   "cell_type": "markdown",
   "id": "305071a0-cd72-4032-ba8f-7a97e78b39a4",
   "metadata": {
    "papermill": {},
    "tags": []
   },
   "source": [
    "## Model"
   ]
  },
  {
   "cell_type": "markdown",
   "id": "46cf7375-5884-4a50-a137-98e59e178655",
   "metadata": {
    "papermill": {},
    "tags": []
   },
   "source": [
    "### Read json file"
   ]
  },
  {
   "cell_type": "markdown",
   "id": "f0f5999e-0592-49d9-b3cf-fea08b3f5b87",
   "metadata": {
    "papermill": {},
    "tags": []
   },
   "source": [
    "This function will read the json file and return the content as a dictionary."
   ]
  },
  {
   "cell_type": "code",
   "execution_count": 20,
   "id": "884b5c18-249e-491e-9af8-98d6709a7102",
   "metadata": {
    "execution": {
     "iopub.execute_input": "2023-07-31T16:15:28.381946Z",
     "iopub.status.busy": "2023-07-31T16:15:28.381719Z",
     "iopub.status.idle": "2023-07-31T16:15:28.401958Z",
     "shell.execute_reply": "2023-07-31T16:15:28.401283Z",
     "shell.execute_reply.started": "2023-07-31T16:15:28.381923Z"
    },
    "papermill": {},
    "tags": []
   },
   "outputs": [
    {
     "name": "stdout",
     "output_type": "stream",
     "text": [
      "Data fetched: 891\n"
     ]
    }
   ],
   "source": [
    "def read_json_file(file_name):\n",
    "    with open(file_name) as json_file:\n",
    "        data = json.load(json_file)\n",
    "    return data\n",
    "\n",
    "data = read_json_file(file_name)\n",
    "print(\"Data fetched:\", len(data))"
   ]
  },
  {
   "cell_type": "markdown",
   "id": "7c07130d-2127-419f-8582-50ae312c0ac9",
   "metadata": {
    "execution": {
     "iopub.execute_input": "2023-07-31T16:13:53.830935Z",
     "iopub.status.busy": "2023-07-31T16:13:53.830695Z",
     "iopub.status.idle": "2023-07-31T16:13:53.833755Z",
     "shell.execute_reply": "2023-07-31T16:13:53.833108Z",
     "shell.execute_reply.started": "2023-07-31T16:13:53.830903Z"
    },
    "tags": []
   },
   "source": [
    "### Convert dict to DataFrame"
   ]
  },
  {
   "cell_type": "code",
   "execution_count": 21,
   "id": "45c78b22-eb62-4be9-b803-c45cb0d6a4f7",
   "metadata": {
    "execution": {
     "iopub.execute_input": "2023-07-31T16:15:29.233070Z",
     "iopub.status.busy": "2023-07-31T16:15:29.232853Z",
     "iopub.status.idle": "2023-07-31T16:15:29.257602Z",
     "shell.execute_reply": "2023-07-31T16:15:29.257006Z",
     "shell.execute_reply.started": "2023-07-31T16:15:29.233048Z"
    },
    "tags": []
   },
   "outputs": [
    {
     "data": {
      "text/html": [
       "<div>\n",
       "<style scoped>\n",
       "    .dataframe tbody tr th:only-of-type {\n",
       "        vertical-align: middle;\n",
       "    }\n",
       "\n",
       "    .dataframe tbody tr th {\n",
       "        vertical-align: top;\n",
       "    }\n",
       "\n",
       "    .dataframe thead th {\n",
       "        text-align: right;\n",
       "    }\n",
       "</style>\n",
       "<table border=\"1\" class=\"dataframe\">\n",
       "  <thead>\n",
       "    <tr style=\"text-align: right;\">\n",
       "      <th></th>\n",
       "      <th>objectID</th>\n",
       "      <th>tool</th>\n",
       "      <th>notebook</th>\n",
       "      <th>action</th>\n",
       "      <th>tags</th>\n",
       "      <th>author</th>\n",
       "      <th>author_url</th>\n",
       "      <th>updated_at</th>\n",
       "      <th>created_at</th>\n",
       "      <th>description</th>\n",
       "      <th>open_in_lab</th>\n",
       "      <th>open_in_chat</th>\n",
       "      <th>notebook_url</th>\n",
       "      <th>imports</th>\n",
       "      <th>image_url</th>\n",
       "    </tr>\n",
       "  </thead>\n",
       "  <tbody>\n",
       "    <tr>\n",
       "      <th>0</th>\n",
       "      <td>3e342697d70a5fc4884c84d82b7b2d1efc9f8dde26b142...</td>\n",
       "      <td>AWS</td>\n",
       "      <td>Daily biling notification to slack</td>\n",
       "      <td>&lt;a href=\"https://app.naas.ai/user-redirect/naa...</td>\n",
       "      <td>[#aws, #cloud, #storage, #S3bucket, #slack, #o...</td>\n",
       "      <td>Maxime Jublou</td>\n",
       "      <td>https://www.linkedin.com/in/maximejublou/</td>\n",
       "      <td>2023-04-12</td>\n",
       "      <td>2021-09-14</td>\n",
       "      <td>This notebook sends a daily notification to a ...</td>\n",
       "      <td>https://app.naas.ai/user-redirect/naas/downloa...</td>\n",
       "      <td></td>\n",
       "      <td>https://github.com/jupyter-naas/awesome-notebo...</td>\n",
       "      <td>[datetime, boto3, naas, dateutil.relativedelta...</td>\n",
       "      <td></td>\n",
       "    </tr>\n",
       "    <tr>\n",
       "      <th>1</th>\n",
       "      <td>e5cc5c59cca0de48fbaf2a7d65708d416a50968635cadc...</td>\n",
       "      <td>AWS</td>\n",
       "      <td>Get files from S3 bucket</td>\n",
       "      <td>&lt;a href=\"https://app.naas.ai/user-redirect/naa...</td>\n",
       "      <td>[#aws, #cloud, #storage, #S3bucket, #operation...</td>\n",
       "      <td>Maxime Jublou</td>\n",
       "      <td>https://www.linkedin.com/in/maximejublou/</td>\n",
       "      <td>2023-04-12</td>\n",
       "      <td>2021-09-20</td>\n",
       "      <td>This notebook provides a step-by-step guide to...</td>\n",
       "      <td>https://app.naas.ai/user-redirect/naas/downloa...</td>\n",
       "      <td></td>\n",
       "      <td>https://github.com/jupyter-naas/awesome-notebo...</td>\n",
       "      <td>[boto3]</td>\n",
       "      <td></td>\n",
       "    </tr>\n",
       "    <tr>\n",
       "      <th>2</th>\n",
       "      <td>db1e517c78d01b715869cb9f08c6c818cd09715bf0134d...</td>\n",
       "      <td>AWS</td>\n",
       "      <td>Read dataframe from S3</td>\n",
       "      <td>&lt;a href=\"https://app.naas.ai/user-redirect/naa...</td>\n",
       "      <td>[#aws, #cloud, #storage, #S3bucket, #operation...</td>\n",
       "      <td>Maxime Jublou</td>\n",
       "      <td>https://www.linkedin.com/in/maximejublou/</td>\n",
       "      <td>2023-04-12</td>\n",
       "      <td>2022-04-28</td>\n",
       "      <td>This notebook demonstrates how to read a dataf...</td>\n",
       "      <td>https://app.naas.ai/user-redirect/naas/downloa...</td>\n",
       "      <td></td>\n",
       "      <td>https://github.com/jupyter-naas/awesome-notebo...</td>\n",
       "      <td>[awswrangler, awswrangler]</td>\n",
       "      <td></td>\n",
       "    </tr>\n",
       "    <tr>\n",
       "      <th>3</th>\n",
       "      <td>0d5fe4330975af3c53c528f914bd8d0124c25dea14afe0...</td>\n",
       "      <td>AWS</td>\n",
       "      <td>Send dataframe to S3</td>\n",
       "      <td>&lt;a href=\"https://app.naas.ai/user-redirect/naa...</td>\n",
       "      <td>[#aws, #cloud, #storage, #S3bucket, #operation...</td>\n",
       "      <td>Maxime Jublou</td>\n",
       "      <td>https://www.linkedin.com/in/maximejublou/</td>\n",
       "      <td>2023-04-12</td>\n",
       "      <td>2022-04-28</td>\n",
       "      <td>This notebook demonstrates how to use AWS to s...</td>\n",
       "      <td>https://app.naas.ai/user-redirect/naas/downloa...</td>\n",
       "      <td></td>\n",
       "      <td>https://github.com/jupyter-naas/awesome-notebo...</td>\n",
       "      <td>[awswrangler, awswrangler, pandas, datetime.date]</td>\n",
       "      <td></td>\n",
       "    </tr>\n",
       "    <tr>\n",
       "      <th>4</th>\n",
       "      <td>f5955b1a7c1209b77d470bfeb5eb20bcdf6ecf7fcba22a...</td>\n",
       "      <td>AWS</td>\n",
       "      <td>Upload file to S3 bucket</td>\n",
       "      <td>&lt;a href=\"https://app.naas.ai/user-redirect/naa...</td>\n",
       "      <td>[#aws, #cloud, #storage, #S3bucket, #snippet, ...</td>\n",
       "      <td>Maxime Jublou</td>\n",
       "      <td>https://www.linkedin.com/in/maximejublou/</td>\n",
       "      <td>2023-04-12</td>\n",
       "      <td>2021-08-03</td>\n",
       "      <td>This notebook provides instructions on how to ...</td>\n",
       "      <td>https://app.naas.ai/user-redirect/naas/downloa...</td>\n",
       "      <td></td>\n",
       "      <td>https://github.com/jupyter-naas/awesome-notebo...</td>\n",
       "      <td>[boto3, boto3]</td>\n",
       "      <td></td>\n",
       "    </tr>\n",
       "    <tr>\n",
       "      <th>...</th>\n",
       "      <td>...</td>\n",
       "      <td>...</td>\n",
       "      <td>...</td>\n",
       "      <td>...</td>\n",
       "      <td>...</td>\n",
       "      <td>...</td>\n",
       "      <td>...</td>\n",
       "      <td>...</td>\n",
       "      <td>...</td>\n",
       "      <td>...</td>\n",
       "      <td>...</td>\n",
       "      <td>...</td>\n",
       "      <td>...</td>\n",
       "      <td>...</td>\n",
       "      <td>...</td>\n",
       "    </tr>\n",
       "    <tr>\n",
       "      <th>886</th>\n",
       "      <td>e62887290cc7a4c0b82ec67c82df44f9f6236be9992da2...</td>\n",
       "      <td>ZIP</td>\n",
       "      <td>Extract files</td>\n",
       "      <td>&lt;a href=\"https://app.naas.ai/user-redirect/naa...</td>\n",
       "      <td>[#zip, #extract, #file, #operations, #snippet,...</td>\n",
       "      <td>Maxime Jublou</td>\n",
       "      <td>https://www.linkedin.com/in/maximejublou</td>\n",
       "      <td>2023-04-12</td>\n",
       "      <td>2021-03-01</td>\n",
       "      <td>This notebook allows users to extract files fr...</td>\n",
       "      <td>https://app.naas.ai/user-redirect/naas/downloa...</td>\n",
       "      <td></td>\n",
       "      <td>https://github.com/jupyter-naas/awesome-notebo...</td>\n",
       "      <td>[zipfile, os, pprint.pprint]</td>\n",
       "      <td></td>\n",
       "    </tr>\n",
       "    <tr>\n",
       "      <th>887</th>\n",
       "      <td>86607d1e05a7be9ceac61f0f3b044a650e57614b93b448...</td>\n",
       "      <td>Zapier</td>\n",
       "      <td>Trigger workflow</td>\n",
       "      <td>&lt;a href=\"https://app.naas.ai/user-redirect/naa...</td>\n",
       "      <td>[#zapier, #nocode, #operations, #snippet]</td>\n",
       "      <td>Jeremy Ravenel</td>\n",
       "      <td>https://www.linkedin.com/in/ACoAAAJHE7sB5OxuKH...</td>\n",
       "      <td>2023-04-12</td>\n",
       "      <td>2021-03-01</td>\n",
       "      <td>This notebook allows you to create automated w...</td>\n",
       "      <td>https://app.naas.ai/user-redirect/naas/downloa...</td>\n",
       "      <td></td>\n",
       "      <td>https://github.com/jupyter-naas/awesome-notebo...</td>\n",
       "      <td>[naas_drivers]</td>\n",
       "      <td></td>\n",
       "    </tr>\n",
       "    <tr>\n",
       "      <th>888</th>\n",
       "      <td>1a4862f36ffb7a7c2766294894d690900fe245a354ba9b...</td>\n",
       "      <td>ZeroBounce</td>\n",
       "      <td>Validate Single Email</td>\n",
       "      <td>&lt;a href=\"https://app.naas.ai/user-redirect/naa...</td>\n",
       "      <td>[#zerobounce, #email, #validation, #java, #sdk...</td>\n",
       "      <td>Florent Ravenel</td>\n",
       "      <td>https://www.linkedin.com/in/florent-ravenel/</td>\n",
       "      <td>2023-04-12</td>\n",
       "      <td>2023-02-27</td>\n",
       "      <td>This notebook will demonstrate how to validate...</td>\n",
       "      <td>https://app.naas.ai/user-redirect/naas/downloa...</td>\n",
       "      <td></td>\n",
       "      <td>https://github.com/jupyter-naas/awesome-notebo...</td>\n",
       "      <td>[requests, naas, pprint.pprint]</td>\n",
       "      <td></td>\n",
       "    </tr>\n",
       "    <tr>\n",
       "      <th>889</th>\n",
       "      <td>9393d951ab135f69cd1aadae8c73b1974891c6586136f3...</td>\n",
       "      <td>gTTS</td>\n",
       "      <td>Save Text to Speech to MP3</td>\n",
       "      <td>&lt;a href=\"https://app.naas.ai/user-redirect/naa...</td>\n",
       "      <td>[#gTTS, #texttospeech, #mp3, #python, #library...</td>\n",
       "      <td>Sriniketh Jayasendil</td>\n",
       "      <td>http://linkedin.com/in/sriniketh-jayasendil/</td>\n",
       "      <td>2023-04-12</td>\n",
       "      <td>2023-03-02</td>\n",
       "      <td>This notebook will demonstrate how to use the ...</td>\n",
       "      <td>https://app.naas.ai/user-redirect/naas/downloa...</td>\n",
       "      <td></td>\n",
       "      <td>https://github.com/jupyter-naas/awesome-notebo...</td>\n",
       "      <td>[gtts.gTTS, gtts.gTTS]</td>\n",
       "      <td></td>\n",
       "    </tr>\n",
       "    <tr>\n",
       "      <th>890</th>\n",
       "      <td>b296fdda5aa3884bc9a78e50364dd2532992013a7fb540...</td>\n",
       "      <td>spaCy</td>\n",
       "      <td>SpaCy Build a sentiment analysis model using T...</td>\n",
       "      <td>&lt;a href=\"https://app.naas.ai/user-redirect/naa...</td>\n",
       "      <td>[#twitter, #spaCy, #data, #nlp, #sentiment, #c...</td>\n",
       "      <td>Tannia Dubon</td>\n",
       "      <td>https://www.linkedin.com/in/tanniadubon/</td>\n",
       "      <td>2023-04-12</td>\n",
       "      <td>2022-05-12</td>\n",
       "      <td>This notebook demonstrates how to use spaCy to...</td>\n",
       "      <td>https://app.naas.ai/user-redirect/naas/downloa...</td>\n",
       "      <td></td>\n",
       "      <td>https://github.com/jupyter-naas/awesome-notebo...</td>\n",
       "      <td>[os, requests, pandas, json, ast, yaml, numpy,...</td>\n",
       "      <td></td>\n",
       "    </tr>\n",
       "  </tbody>\n",
       "</table>\n",
       "<p>891 rows × 15 columns</p>\n",
       "</div>"
      ],
      "text/plain": [
       "                                              objectID        tool  \\\n",
       "0    3e342697d70a5fc4884c84d82b7b2d1efc9f8dde26b142...         AWS   \n",
       "1    e5cc5c59cca0de48fbaf2a7d65708d416a50968635cadc...         AWS   \n",
       "2    db1e517c78d01b715869cb9f08c6c818cd09715bf0134d...         AWS   \n",
       "3    0d5fe4330975af3c53c528f914bd8d0124c25dea14afe0...         AWS   \n",
       "4    f5955b1a7c1209b77d470bfeb5eb20bcdf6ecf7fcba22a...         AWS   \n",
       "..                                                 ...         ...   \n",
       "886  e62887290cc7a4c0b82ec67c82df44f9f6236be9992da2...         ZIP   \n",
       "887  86607d1e05a7be9ceac61f0f3b044a650e57614b93b448...      Zapier   \n",
       "888  1a4862f36ffb7a7c2766294894d690900fe245a354ba9b...  ZeroBounce   \n",
       "889  9393d951ab135f69cd1aadae8c73b1974891c6586136f3...        gTTS   \n",
       "890  b296fdda5aa3884bc9a78e50364dd2532992013a7fb540...       spaCy   \n",
       "\n",
       "                                              notebook  \\\n",
       "0                   Daily biling notification to slack   \n",
       "1                             Get files from S3 bucket   \n",
       "2                               Read dataframe from S3   \n",
       "3                                 Send dataframe to S3   \n",
       "4                             Upload file to S3 bucket   \n",
       "..                                                 ...   \n",
       "886                                      Extract files   \n",
       "887                                   Trigger workflow   \n",
       "888                              Validate Single Email   \n",
       "889                         Save Text to Speech to MP3   \n",
       "890  SpaCy Build a sentiment analysis model using T...   \n",
       "\n",
       "                                                action  \\\n",
       "0    <a href=\"https://app.naas.ai/user-redirect/naa...   \n",
       "1    <a href=\"https://app.naas.ai/user-redirect/naa...   \n",
       "2    <a href=\"https://app.naas.ai/user-redirect/naa...   \n",
       "3    <a href=\"https://app.naas.ai/user-redirect/naa...   \n",
       "4    <a href=\"https://app.naas.ai/user-redirect/naa...   \n",
       "..                                                 ...   \n",
       "886  <a href=\"https://app.naas.ai/user-redirect/naa...   \n",
       "887  <a href=\"https://app.naas.ai/user-redirect/naa...   \n",
       "888  <a href=\"https://app.naas.ai/user-redirect/naa...   \n",
       "889  <a href=\"https://app.naas.ai/user-redirect/naa...   \n",
       "890  <a href=\"https://app.naas.ai/user-redirect/naa...   \n",
       "\n",
       "                                                  tags                author  \\\n",
       "0    [#aws, #cloud, #storage, #S3bucket, #slack, #o...         Maxime Jublou   \n",
       "1    [#aws, #cloud, #storage, #S3bucket, #operation...         Maxime Jublou   \n",
       "2    [#aws, #cloud, #storage, #S3bucket, #operation...         Maxime Jublou   \n",
       "3    [#aws, #cloud, #storage, #S3bucket, #operation...         Maxime Jublou   \n",
       "4    [#aws, #cloud, #storage, #S3bucket, #snippet, ...         Maxime Jublou   \n",
       "..                                                 ...                   ...   \n",
       "886  [#zip, #extract, #file, #operations, #snippet,...         Maxime Jublou   \n",
       "887          [#zapier, #nocode, #operations, #snippet]        Jeremy Ravenel   \n",
       "888  [#zerobounce, #email, #validation, #java, #sdk...       Florent Ravenel   \n",
       "889  [#gTTS, #texttospeech, #mp3, #python, #library...  Sriniketh Jayasendil   \n",
       "890  [#twitter, #spaCy, #data, #nlp, #sentiment, #c...          Tannia Dubon   \n",
       "\n",
       "                                            author_url  updated_at  \\\n",
       "0            https://www.linkedin.com/in/maximejublou/  2023-04-12   \n",
       "1            https://www.linkedin.com/in/maximejublou/  2023-04-12   \n",
       "2            https://www.linkedin.com/in/maximejublou/  2023-04-12   \n",
       "3            https://www.linkedin.com/in/maximejublou/  2023-04-12   \n",
       "4            https://www.linkedin.com/in/maximejublou/  2023-04-12   \n",
       "..                                                 ...         ...   \n",
       "886           https://www.linkedin.com/in/maximejublou  2023-04-12   \n",
       "887  https://www.linkedin.com/in/ACoAAAJHE7sB5OxuKH...  2023-04-12   \n",
       "888       https://www.linkedin.com/in/florent-ravenel/  2023-04-12   \n",
       "889       http://linkedin.com/in/sriniketh-jayasendil/  2023-04-12   \n",
       "890           https://www.linkedin.com/in/tanniadubon/  2023-04-12   \n",
       "\n",
       "     created_at                                        description  \\\n",
       "0    2021-09-14  This notebook sends a daily notification to a ...   \n",
       "1    2021-09-20  This notebook provides a step-by-step guide to...   \n",
       "2    2022-04-28  This notebook demonstrates how to read a dataf...   \n",
       "3    2022-04-28  This notebook demonstrates how to use AWS to s...   \n",
       "4    2021-08-03  This notebook provides instructions on how to ...   \n",
       "..          ...                                                ...   \n",
       "886  2021-03-01  This notebook allows users to extract files fr...   \n",
       "887  2021-03-01  This notebook allows you to create automated w...   \n",
       "888  2023-02-27  This notebook will demonstrate how to validate...   \n",
       "889  2023-03-02  This notebook will demonstrate how to use the ...   \n",
       "890  2022-05-12  This notebook demonstrates how to use spaCy to...   \n",
       "\n",
       "                                           open_in_lab open_in_chat  \\\n",
       "0    https://app.naas.ai/user-redirect/naas/downloa...                \n",
       "1    https://app.naas.ai/user-redirect/naas/downloa...                \n",
       "2    https://app.naas.ai/user-redirect/naas/downloa...                \n",
       "3    https://app.naas.ai/user-redirect/naas/downloa...                \n",
       "4    https://app.naas.ai/user-redirect/naas/downloa...                \n",
       "..                                                 ...          ...   \n",
       "886  https://app.naas.ai/user-redirect/naas/downloa...                \n",
       "887  https://app.naas.ai/user-redirect/naas/downloa...                \n",
       "888  https://app.naas.ai/user-redirect/naas/downloa...                \n",
       "889  https://app.naas.ai/user-redirect/naas/downloa...                \n",
       "890  https://app.naas.ai/user-redirect/naas/downloa...                \n",
       "\n",
       "                                          notebook_url  \\\n",
       "0    https://github.com/jupyter-naas/awesome-notebo...   \n",
       "1    https://github.com/jupyter-naas/awesome-notebo...   \n",
       "2    https://github.com/jupyter-naas/awesome-notebo...   \n",
       "3    https://github.com/jupyter-naas/awesome-notebo...   \n",
       "4    https://github.com/jupyter-naas/awesome-notebo...   \n",
       "..                                                 ...   \n",
       "886  https://github.com/jupyter-naas/awesome-notebo...   \n",
       "887  https://github.com/jupyter-naas/awesome-notebo...   \n",
       "888  https://github.com/jupyter-naas/awesome-notebo...   \n",
       "889  https://github.com/jupyter-naas/awesome-notebo...   \n",
       "890  https://github.com/jupyter-naas/awesome-notebo...   \n",
       "\n",
       "                                               imports image_url  \n",
       "0    [datetime, boto3, naas, dateutil.relativedelta...            \n",
       "1                                              [boto3]            \n",
       "2                           [awswrangler, awswrangler]            \n",
       "3    [awswrangler, awswrangler, pandas, datetime.date]            \n",
       "4                                       [boto3, boto3]            \n",
       "..                                                 ...       ...  \n",
       "886                       [zipfile, os, pprint.pprint]            \n",
       "887                                     [naas_drivers]            \n",
       "888                    [requests, naas, pprint.pprint]            \n",
       "889                             [gtts.gTTS, gtts.gTTS]            \n",
       "890  [os, requests, pandas, json, ast, yaml, numpy,...            \n",
       "\n",
       "[891 rows x 15 columns]"
      ]
     },
     "execution_count": 21,
     "metadata": {},
     "output_type": "execute_result"
    }
   ],
   "source": [
    "df = pd.DataFrame(data)\n",
    "df"
   ]
  },
  {
   "cell_type": "markdown",
   "id": "fe4ab7f9-321e-4ac7-ab36-f16f29939fab",
   "metadata": {
    "papermill": {},
    "tags": []
   },
   "source": [
    "## Output"
   ]
  },
  {
   "cell_type": "markdown",
   "id": "22da40c7-c84e-4c82-8335-57160760feb1",
   "metadata": {
    "papermill": {},
    "tags": []
   },
   "source": [
    "### Send data to Google Sheets spreadsheet"
   ]
  },
  {
   "cell_type": "code",
   "execution_count": 14,
   "id": "97646394-2448-4703-aaba-607744f72667",
   "metadata": {
    "execution": {
     "iopub.execute_input": "2023-07-31T16:14:27.121673Z",
     "iopub.status.busy": "2023-07-31T16:14:27.121430Z",
     "iopub.status.idle": "2023-07-31T16:14:30.660882Z",
     "shell.execute_reply": "2023-07-31T16:14:30.660189Z",
     "shell.execute_reply.started": "2023-07-31T16:14:27.121650Z"
    },
    "papermill": {},
    "tags": []
   },
   "outputs": [
    {
     "data": {
      "text/plain": [
       "{'insertedRow': 891}"
      ]
     },
     "execution_count": 14,
     "metadata": {},
     "output_type": "execute_result"
    }
   ],
   "source": [
    "gsheet.connect(spreadsheet_url).send(sheet_name=sheet_name, data=df, append=append)"
   ]
  },
  {
   "cell_type": "markdown",
   "id": "ee6dd6c4-619a-4d3c-ba45-2801a4d309b3",
   "metadata": {
    "papermill": {},
    "tags": []
   },
   "source": [
    " "
   ]
  }
 ],
 "metadata": {
  "kernelspec": {
   "display_name": "Python 3",
   "language": "python",
   "name": "python3"
  },
  "language_info": {
   "codemirror_mode": {
    "name": "ipython",
    "version": 3
   },
   "file_extension": ".py",
   "mimetype": "text/x-python",
   "name": "python",
   "nbconvert_exporter": "python",
   "pygments_lexer": "ipython3",
   "version": "3.9.6"
  },
  "naas": {
   "notebook_id": "545dd6c2277d307b19ba67772aeaf03f101cd8f7997e5de53569d2e07f98988a",
   "notebook_path": "Python/Python_Read_json_file.ipynb"
  },
  "papermill": {
   "default_parameters": {},
   "environment_variables": {},
   "parameters": {},
   "version": "2.4.0"
  },
  "widgets": {
   "application/vnd.jupyter.widget-state+json": {
    "state": {},
    "version_major": 2,
    "version_minor": 0
   }
  }
 },
 "nbformat": 4,
 "nbformat_minor": 5
}
