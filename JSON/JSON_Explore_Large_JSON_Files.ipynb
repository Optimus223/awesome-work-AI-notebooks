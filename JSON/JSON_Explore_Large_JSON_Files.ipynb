{
 "cells": [
  {
   "cell_type": "markdown",
   "id": "4e0e77dc-e32f-4062-9583-34fe39cb3f90",
   "metadata": {
    "papermill": {},
    "tags": []
   },
   "source": [
    "<img width=\"10%\" alt=\"Naas\" src=\"https://landen.imgix.net/jtci2pxwjczr/assets/5ice39g4.png?w=160\"/>"
   ]
  },
  {
   "cell_type": "markdown",
   "id": "62f59c6e-6adf-45bd-bf4b-2df1fa7fb04e",
   "metadata": {
    "papermill": {},
    "tags": []
   },
   "source": [
    "# JSON - Explore Large JSON Files"
   ]
  },
  {
   "cell_type": "markdown",
   "id": "f77f92d6-533b-4bca-b350-9c5fca87ed83",
   "metadata": {
    "papermill": {},
    "tags": []
   },
   "source": [
    "**Tags:** #json #explore #large #files #python #library"
   ]
  },
  {
   "cell_type": "markdown",
   "id": "9f910025-b541-4ca8-853a-3913a7e92d7a",
   "metadata": {
    "papermill": {},
    "tags": []
   },
   "source": [
    "**Author:** [Florent Ravenel](https://www.linkedin.com/in/florent-ravenel)"
   ]
  },
  {
   "cell_type": "markdown",
   "id": "75be6157-b324-40ce-b3e0-36c2834dd4c4",
   "metadata": {
    "papermill": {},
    "tags": []
   },
   "source": [
    "**Last update:** 2023-07-31 (Created: 2023-07-31)"
   ]
  },
  {
   "cell_type": "markdown",
   "id": "f7b7e779-88c4-4568-b53f-9c54f7d9182b",
   "metadata": {
    "papermill": {},
    "tags": []
   },
   "source": [
    "**Description:** This notebook explores large JSON files using Python library. It is usefull for organizations to quickly analyze large JSON files."
   ]
  },
  {
   "cell_type": "markdown",
   "id": "855dfc13-4aa3-4272-ab55-daaec4813281",
   "metadata": {
    "papermill": {},
    "tags": []
   },
   "source": [
    "**References:**\n- [Python JSON Module](https://docs.python.org/3/library/json.html)\n- [JSON Format](https://www.json.org/json-en.html)"
   ]
  },
  {
   "cell_type": "markdown",
   "id": "0f458281-a2f5-47ce-a059-d25a65b8bdc2",
   "metadata": {
    "papermill": {},
    "tags": []
   },
   "source": [
    "## Input"
   ]
  },
  {
   "cell_type": "markdown",
   "id": "9a0107c4-2d2b-44f2-8f12-a2b1cf90ffe8",
   "metadata": {
    "papermill": {},
    "tags": []
   },
   "source": [
    "### Import libraries"
   ]
  },
  {
   "cell_type": "code",
   "execution_count": null,
   "id": "25805dfa-f98b-49a8-9128-7790961a5b72",
   "metadata": {
    "papermill": {},
    "tags": []
   },
   "source": "import json",
   "outputs": []
  },
  {
   "cell_type": "markdown",
   "id": "730897b2-06aa-4fdc-b7a5-13789707b640",
   "metadata": {
    "papermill": {},
    "tags": []
   },
   "source": [
    "### Setup variables\n- `file_name`: name of the JSON file to be explored"
   ]
  },
  {
   "cell_type": "code",
   "execution_count": null,
   "id": "eb0b5b66-6bfc-4e20-9ab4-f12178b21999",
   "metadata": {
    "papermill": {},
    "tags": []
   },
   "source": "file_name = \"large_file.json\"",
   "outputs": []
  },
  {
   "cell_type": "markdown",
   "id": "b0b95425-b5ed-4230-90d6-9239f8d70558",
   "metadata": {
    "papermill": {},
    "tags": []
   },
   "source": [
    "## Model"
   ]
  },
  {
   "cell_type": "markdown",
   "id": "cee98a33-f3a3-44bc-970d-948e48f810ec",
   "metadata": {
    "papermill": {},
    "tags": []
   },
   "source": [
    "### Load JSON file"
   ]
  },
  {
   "cell_type": "markdown",
   "id": "754821fe-25e4-44d1-ad57-01f0143a6ecf",
   "metadata": {
    "papermill": {},
    "tags": []
   },
   "source": [
    "Long description of the function: This function loads the JSON file and returns the content as a Python dictionary."
   ]
  },
  {
   "cell_type": "code",
   "execution_count": null,
   "id": "848c1b1f-97b8-447a-8794-3d63a1836905",
   "metadata": {
    "papermill": {},
    "tags": []
   },
   "source": "def load_json_file(file_name):\n    with open(file_name) as json_file:\n        data = json.load(json_file)\n    return data",
   "outputs": []
  },
  {
   "cell_type": "markdown",
   "id": "aa4ad14d-bd08-4d17-8aac-991f35500b2e",
   "metadata": {
    "papermill": {},
    "tags": []
   },
   "source": [
    "## Output"
   ]
  },
  {
   "cell_type": "markdown",
   "id": "3a4ed21a-1910-4e9b-a6bf-b0a2f48f80fa",
   "metadata": {
    "papermill": {},
    "tags": []
   },
   "source": [
    "### Display result"
   ]
  },
  {
   "cell_type": "code",
   "execution_count": null,
   "id": "3eda0d3e-1255-4dc2-92e0-0f7617ca50e9",
   "metadata": {
    "papermill": {},
    "tags": []
   },
   "source": "data = load_json_file(file_name)\nprint(data)",
   "outputs": []
  },
  {
   "cell_type": "markdown",
   "id": "31bd476e-acc7-4606-8f6c-069689cb2eac",
   "metadata": {
    "papermill": {},
    "tags": []
   },
   "source": [
    " "
   ]
  }
 ],
 "metadata": {
  "kernelspec": {
   "display_name": "Python 3",
   "language": "python",
   "name": "python3"
  },
  "language_info": {
   "codemirror_mode": {
    "name": "ipython",
    "version": 3
   },
   "file_extension": ".py",
   "mimetype": "text/x-python",
   "name": "python",
   "nbconvert_exporter": "python",
   "pygments_lexer": "ipython3",
   "version": "3.9.6"
  },
  "widgets": {
   "application/vnd.jupyter.widget-state+json": {
    "state": {},
    "version_major": 2,
    "version_minor": 0
   }
  }
 },
 "nbformat": 4,
 "nbformat_minor": 5
}