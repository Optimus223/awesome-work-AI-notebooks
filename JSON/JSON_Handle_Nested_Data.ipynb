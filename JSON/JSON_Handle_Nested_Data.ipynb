{
 "cells": [
  {
   "cell_type": "markdown",
   "id": "a8f111d6-2543-41fd-a2ab-ece734e2b123",
   "metadata": {
    "papermill": {},
    "tags": []
   },
   "source": [
    "<img width=\"10%\" alt=\"Naas\" src=\"https://landen.imgix.net/jtci2pxwjczr/assets/5ice39g4.png?w=160\"/>"
   ]
  },
  {
   "cell_type": "markdown",
   "id": "4eb2d7bb-c157-4c25-bb88-28dec9e6df9e",
   "metadata": {
    "papermill": {},
    "tags": []
   },
   "source": [
    "# JSON - Handle Nested Data"
   ]
  },
  {
   "cell_type": "markdown",
   "id": "51a15565-8f44-479a-a4df-1060478e448d",
   "metadata": {
    "papermill": {},
    "tags": []
   },
   "source": [
    "**Tags:** #json #nested #data #handle #python #library"
   ]
  },
  {
   "cell_type": "markdown",
   "id": "59773d39-f53b-4209-91b3-45ecb697084b",
   "metadata": {
    "papermill": {},
    "tags": []
   },
   "source": [
    "**Author:** [Florent Ravenel](https://www.linkedin.com/in/florent-ravenel)"
   ]
  },
  {
   "cell_type": "markdown",
   "id": "0f5f8c4b-e707-40aa-b20e-48116e20e67b",
   "metadata": {
    "papermill": {},
    "tags": []
   },
   "source": [
    "**Last update:** 2023-07-31 (Created: 2023-07-31)"
   ]
  },
  {
   "cell_type": "markdown",
   "id": "dc7e79b4-6bb0-4090-a562-98617a30f7ac",
   "metadata": {
    "papermill": {},
    "tags": []
   },
   "source": [
    "**Description:** This notebook will show how to handle nested data in JSON format using Python library. It is usefull for organizations to quickly parse and extract data from complex JSON files."
   ]
  },
  {
   "cell_type": "markdown",
   "id": "91e6d55f-1bb3-41b9-a91c-a4195add45df",
   "metadata": {
    "papermill": {},
    "tags": []
   },
   "source": [
    "**References:**\n- [JSON - Wikipedia](https://en.wikipedia.org/wiki/JSON)\n- [Python JSON - Tutorialspoint](https://www.tutorialspoint.com/python/python_json.htm)"
   ]
  },
  {
   "cell_type": "markdown",
   "id": "21544493-8aab-44b8-9b25-7301f49f93b9",
   "metadata": {
    "papermill": {},
    "tags": []
   },
   "source": [
    "## Input"
   ]
  },
  {
   "cell_type": "markdown",
   "id": "49c8dc5d-3297-489b-b189-775459e11675",
   "metadata": {
    "papermill": {},
    "tags": []
   },
   "source": [
    "### Import libraries"
   ]
  },
  {
   "cell_type": "code",
   "execution_count": null,
   "id": "0b707b45-663f-4225-b41a-c44d7fd1f010",
   "metadata": {
    "papermill": {},
    "tags": []
   },
   "source": "import json",
   "outputs": []
  },
  {
   "cell_type": "markdown",
   "id": "dd129f09-ee73-4945-9793-241557fc9975",
   "metadata": {
    "papermill": {},
    "tags": []
   },
   "source": [
    "### Setup variables\n- `data`: a nested JSON data"
   ]
  },
  {
   "cell_type": "code",
   "execution_count": null,
   "id": "b9735032-1546-4cce-9f60-ced20bf5d9f2",
   "metadata": {
    "papermill": {},
    "tags": []
   },
   "source": "data = {\n    \"name\": \"John Doe\",\n    \"age\": 30,\n    \"address\": {\"street\": \"123 Main Street\", \"city\": \"New York\", \"state\": \"NY\"},\n    \"hobbies\": [\"sports\", \"reading\"],\n}",
   "outputs": []
  },
  {
   "cell_type": "markdown",
   "id": "6d87aebc-9429-482e-ad23-47838247c63f",
   "metadata": {
    "papermill": {},
    "tags": []
   },
   "source": [
    "## Model"
   ]
  },
  {
   "cell_type": "markdown",
   "id": "232c8c80-e9d1-46bc-9a3f-97459dbd1ddb",
   "metadata": {
    "papermill": {},
    "tags": []
   },
   "source": [
    "### Parse JSON data"
   ]
  },
  {
   "cell_type": "markdown",
   "id": "d313ca77-dd4d-4626-8057-f3b6ba66f443",
   "metadata": {
    "papermill": {},
    "tags": []
   },
   "source": [
    "Long description of the function without break"
   ]
  },
  {
   "cell_type": "code",
   "execution_count": null,
   "id": "d34e938e-5cfe-4a74-a3d6-2fd6b4f02009",
   "metadata": {
    "papermill": {},
    "tags": []
   },
   "source": "# Parse JSON data\nparsed_data = json.loads(data)",
   "outputs": []
  },
  {
   "cell_type": "markdown",
   "id": "6c96b4e4-3ebb-4a0a-be4e-1978968a78a7",
   "metadata": {
    "papermill": {},
    "tags": []
   },
   "source": [
    "## Output"
   ]
  },
  {
   "cell_type": "markdown",
   "id": "19e35dde-736f-4fa9-b673-7cc585c4ba2d",
   "metadata": {
    "papermill": {},
    "tags": []
   },
   "source": [
    "### Display result"
   ]
  },
  {
   "cell_type": "code",
   "execution_count": null,
   "id": "76ee0922-30c0-4a33-a528-1a5031ab5a33",
   "metadata": {
    "papermill": {},
    "tags": []
   },
   "source": "# Display result\nprint(parsed_data)",
   "outputs": []
  },
  {
   "cell_type": "markdown",
   "id": "9aeb2c4e-d2f7-4190-9d4a-bb9017bc8a29",
   "metadata": {
    "papermill": {},
    "tags": []
   },
   "source": [
    " "
   ]
  }
 ],
 "metadata": {
  "kernelspec": {
   "display_name": "Python 3",
   "language": "python",
   "name": "python3"
  },
  "language_info": {
   "codemirror_mode": {
    "name": "ipython",
    "version": 3
   },
   "file_extension": ".py",
   "mimetype": "text/x-python",
   "name": "python",
   "nbconvert_exporter": "python",
   "pygments_lexer": "ipython3",
   "version": "3.9.6"
  },
  "widgets": {
   "application/vnd.jupyter.widget-state+json": {
    "state": {},
    "version_major": 2,
    "version_minor": 0
   }
  }
 },
 "nbformat": 4,
 "nbformat_minor": 5
}