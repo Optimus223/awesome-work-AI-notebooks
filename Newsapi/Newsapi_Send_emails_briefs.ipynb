{
 "cells": [
  {
   "cell_type": "markdown",
   "id": "demographic-egyptian",
   "metadata": {
    "papermill": {},
    "tags": []
   },
   "source": [
    "<img width=\"10%\" alt=\"Naas\" src=\"https://landen.imgix.net/jtci2pxwjczr/assets/5ice39g4.png?w=160\"/>"
   ]
  },
  {
   "cell_type": "markdown",
   "id": "headed-macintosh",
   "metadata": {
    "papermill": {},
    "tags": []
   },
   "source": [
    "# Newsapi - Send emails briefs\n",
    "<a href=\"https://app.naas.ai/user-redirect/naas/downloader?url=https://raw.githubusercontent.com/jupyter-naas/awesome-notebooks/master/Newsapi/Newsapi_Send_emails_briefs.ipynb\" target=\"_parent\"><img src=\"https://img.shields.io/badge/-Open%20in%20Naas-success?labelColor=000000&logo=data:image/svg+xml;base64,PD94bWwgdmVyc2lvbj0iMS4wIiBlbmNvZGluZz0iVVRGLTgiPz4KPHN2ZyB3aWR0aD0iMTAyNHB4IiBoZWlnaHQ9IjEwMjRweCIgdmlld0JveD0iMCAwIDEwMjQgMTAyNCIgeG1sbnM9Imh0dHA6Ly93d3cudzMub3JnLzIwMDAvc3ZnIiB4bWxuczp4bGluaz0iaHR0cDovL3d3dy53My5vcmcvMTk5OS94bGluayIgdmVyc2lvbj0iMS4xIj4KIDwhLS0gR2VuZXJhdGVkIGJ5IFBpeGVsbWF0b3IgUHJvIDIuMC41IC0tPgogPGRlZnM+CiAgPHRleHQgaWQ9InN0cmluZyIgdHJhbnNmb3JtPSJtYXRyaXgoMS4wIDAuMCAwLjAgMS4wIDIyOC4wIDU0LjUpIiBmb250LWZhbWlseT0iQ29tZm9ydGFhLVJlZ3VsYXIsIENvbWZvcnRhYSIgZm9udC1zaXplPSI4MDAiIHRleHQtZGVjb3JhdGlvbj0ibm9uZSIgZmlsbD0iI2ZmZmZmZiIgeD0iMS4xOTk5OTk5OTk5OTk5ODg2IiB5PSI3MDUuMCI+bjwvdGV4dD4KIDwvZGVmcz4KIDx1c2UgaWQ9Im4iIHhsaW5rOmhyZWY9IiNzdHJpbmciLz4KPC9zdmc+Cg==\"/></a>"
   ]
  },
  {
   "cell_type": "markdown",
   "id": "a30f003d-2fdc-4413-a369-a590bf010afb",
   "metadata": {
    "papermill": {},
    "tags": []
   },
   "source": [
    "**Tags:** #newsapi #news #emailbrief"
   ]
  },
  {
   "cell_type": "markdown",
   "id": "raised-purple",
   "metadata": {
    "papermill": {},
    "tags": []
   },
   "source": [
    "Source: https://newsapi.org/"
   ]
  },
  {
   "cell_type": "markdown",
   "id": "input_cell",
   "metadata": {
    "papermill": {},
    "tags": []
   },
   "source": [
    "## Input"
   ]
  },
  {
   "cell_type": "markdown",
   "id": "import_cell",
   "metadata": {
    "papermill": {},
    "tags": []
   },
   "source": [
    "### Import libraries"
   ]
  },
  {
   "cell_type": "code",
   "execution_count": null,
   "id": "37601b3e-c134-421c-93b1-7fcd6392d318",
   "metadata": {
    "papermill": {},
    "tags": []
   },
   "outputs": [],
   "source": [
    "from naas_drivers import newsapi\n",
    "import naas"
   ]
  },
  {
   "cell_type": "markdown",
   "id": "adequate-russia",
   "metadata": {
    "execution": {
     "iopub.execute_input": "2021-05-10T12:14:10.484033Z",
     "iopub.status.busy": "2021-05-10T12:14:10.483793Z",
     "iopub.status.idle": "2021-05-10T12:14:10.487045Z",
     "shell.execute_reply": "2021-05-10T12:14:10.486350Z",
     "shell.execute_reply.started": "2021-05-10T12:14:10.484009Z"
    },
    "papermill": {},
    "tags": []
   },
   "source": [
    "### Input your email and key words"
   ]
  },
  {
   "cell_type": "code",
   "execution_count": 8,
   "id": "weighted-boards",
   "metadata": {
    "execution": {
     "iopub.execute_input": "2021-05-10T12:30:17.441692Z",
     "iopub.status.busy": "2021-05-10T12:30:17.441459Z",
     "iopub.status.idle": "2021-05-10T12:30:17.444515Z",
     "shell.execute_reply": "2021-05-10T12:30:17.443870Z",
     "shell.execute_reply.started": "2021-05-10T12:30:17.441668Z"
    },
    "papermill": {},
    "tags": []
   },
   "outputs": [],
   "source": [
    "your_email = \"*********\"\n",
    "query = \"data, automation, AI\""
   ]
  },
  {
   "cell_type": "markdown",
   "id": "model_cell",
   "metadata": {
    "papermill": {},
    "tags": []
   },
   "source": [
    "## Model"
   ]
  },
  {
   "cell_type": "markdown",
   "id": "waiting-jimmy",
   "metadata": {
    "papermill": {},
    "tags": []
   },
   "source": [
    "### Use NewsAPI drivers to get data"
   ]
  },
  {
   "cell_type": "code",
   "execution_count": 9,
   "id": "adult-rescue",
   "metadata": {
    "execution": {
     "iopub.execute_input": "2021-05-10T12:30:19.654967Z",
     "iopub.status.busy": "2021-05-10T12:30:19.654731Z",
     "iopub.status.idle": "2021-05-10T12:30:20.412655Z",
     "shell.execute_reply": "2021-05-10T12:30:20.411193Z",
     "shell.execute_reply.started": "2021-05-10T12:30:19.654944Z"
    },
    "papermill": {},
    "tags": []
   },
   "outputs": [],
   "source": [
    "table_news = newsapi.connect().get(q=query)\n",
    "\n",
    "# rename columns match the field required by Naas emailbuilder drivers\n",
    "table_news.rename(columns={'title':'text'}, inplace=True)\n",
    "table_news.rename(columns={'link':'row_link'}, inplace=True)"
   ]
  },
  {
   "cell_type": "markdown",
   "id": "protective-procedure",
   "metadata": {
    "papermill": {},
    "tags": []
   },
   "source": [
    "### Filter results "
   ]
  },
  {
   "cell_type": "code",
   "execution_count": 10,
   "id": "successful-display",
   "metadata": {
    "execution": {
     "iopub.execute_input": "2021-05-10T12:30:24.000172Z",
     "iopub.status.busy": "2021-05-10T12:30:23.999939Z",
     "iopub.status.idle": "2021-05-10T12:30:24.016698Z",
     "shell.execute_reply": "2021-05-10T12:30:24.016050Z",
     "shell.execute_reply.started": "2021-05-10T12:30:24.000149Z"
    },
    "papermill": {},
    "tags": []
   },
   "outputs": [],
   "source": [
    "table_news_email = table_news[:10]\n",
    "table_news_email = table_news_email[['text','row_link']]\n",
    "table_news_email"
   ]
  },
  {
   "cell_type": "markdown",
   "id": "swedish-colorado",
   "metadata": {
    "papermill": {},
    "tags": []
   },
   "source": [
    "### Format HTML content"
   ]
  },
  {
   "cell_type": "code",
   "execution_count": 11,
   "id": "sudden-suspect",
   "metadata": {
    "execution": {
     "iopub.execute_input": "2021-05-10T12:30:25.094237Z",
     "iopub.status.busy": "2021-05-10T12:30:25.093937Z",
     "iopub.status.idle": "2021-05-10T12:30:25.099317Z",
     "shell.execute_reply": "2021-05-10T12:30:25.098692Z",
     "shell.execute_reply.started": "2021-05-10T12:30:25.094204Z"
    },
    "papermill": {},
    "tags": []
   },
   "outputs": [],
   "source": [
    "links = []\n",
    "ht_str = \"<ul>\"\n",
    "for i in range(len(table_news_email)):\n",
    "    val = \"<li>\"+\"<a href=\"+'\"'+table_news_email['row_link'][i]+'\"'+\">\"+table_news_email['text'][i]+\"</a>\"+\"</li>\"\n",
    "    ht_str = ht_str+'\\n'+val\n",
    "ht_str = ht_str+\"\\n\"+\"</ul>\" "
   ]
  },
  {
   "cell_type": "markdown",
   "id": "a72306f1-aff8-4cad-bb25-18533b661313",
   "metadata": {
    "papermill": {},
    "tags": []
   },
   "source": [
    "### Fill the content of the mail"
   ]
  },
  {
   "cell_type": "code",
   "execution_count": 19,
   "id": "lyric-galaxy",
   "metadata": {
    "execution": {
     "iopub.execute_input": "2021-05-10T12:34:50.063264Z",
     "iopub.status.busy": "2021-05-10T12:34:50.062911Z",
     "iopub.status.idle": "2021-05-10T12:34:50.322068Z",
     "shell.execute_reply": "2021-05-10T12:34:50.321177Z",
     "shell.execute_reply.started": "2021-05-10T12:34:50.063227Z"
    },
    "papermill": {},
    "tags": []
   },
   "outputs": [],
   "source": [
    "email_content = naas_drivers.emailbuilder.generate( \n",
    "        display='iframe',\n",
    "        title=f'🌏 NewsAPI brief', \n",
    "        subtitle=f'<b>Topics</b>: {query}',         \n",
    "        table_1= ht_str,\n",
    "        text=\"Source: <a>https://newsapi.org/</a>\"\n",
    "        )"
   ]
  },
  {
   "cell_type": "markdown",
   "id": "output_cell",
   "metadata": {
    "papermill": {},
    "tags": []
   },
   "source": [
    "## Output"
   ]
  },
  {
   "cell_type": "markdown",
   "id": "animal-helen",
   "metadata": {
    "papermill": {},
    "tags": []
   },
   "source": [
    "### Send email"
   ]
  },
  {
   "cell_type": "code",
   "execution_count": null,
   "id": "8ab43373-9f32-4bc3-bde8-b9e3b10ead1a",
   "metadata": {
    "papermill": {},
    "tags": []
   },
   "outputs": [],
   "source": [
    "naas.notification.send(email_to=your_email, subject=\"News scheduled from Naas dev\", html=email_content, email_from='notifications@naas.ai')"
   ]
  },
  {
   "cell_type": "markdown",
   "id": "middle-barrel",
   "metadata": {
    "papermill": {},
    "tags": []
   },
   "source": [
    "### Schedule everyday at 8am CET\n",
    "Uncomment the line."
   ]
  },
  {
   "cell_type": "code",
   "execution_count": 13,
   "id": "basic-general",
   "metadata": {
    "execution": {
     "iopub.execute_input": "2021-05-10T12:30:29.474445Z",
     "iopub.status.busy": "2021-05-10T12:30:29.474170Z",
     "iopub.status.idle": "2021-05-10T12:30:29.795062Z",
     "shell.execute_reply": "2021-05-10T12:30:29.793761Z",
     "shell.execute_reply.started": "2021-05-10T12:30:29.474414Z"
    },
    "papermill": {},
    "tags": []
   },
   "outputs": [],
   "source": [
    "#naas.scheduler.add(recurrence=\"0 8 * * *\")"
   ]
  },
  {
   "cell_type": "markdown",
   "id": "display_cell",
   "metadata": {
    "papermill": {},
    "tags": []
   },
   "source": [
    "### Display result"
   ]
  }
 ],
 "metadata": {
  "kernelspec": {
   "display_name": "Python 3",
   "language": "python",
   "name": "python3"
  },
  "language_info": {
   "codemirror_mode": {
    "name": "ipython",
    "version": 3
   },
   "file_extension": ".py",
   "mimetype": "text/x-python",
   "name": "python",
   "nbconvert_exporter": "python",
   "pygments_lexer": "ipython3",
   "version": "3.8.8"
  },
  "papermill": {
   "default_parameters": {},
   "environment_variables": {},
   "parameters": {},
   "version": "2.3.3"
  },
  "widgets": {
   "application/vnd.jupyter.widget-state+json": {
    "state": {},
    "version_major": 2,
    "version_minor": 0
   }
  }
 },
 "nbformat": 4,
 "nbformat_minor": 5
}