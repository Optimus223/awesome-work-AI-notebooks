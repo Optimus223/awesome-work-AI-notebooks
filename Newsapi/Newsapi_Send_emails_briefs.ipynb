{
 "cells": [
  {
   "cell_type": "markdown",
   "id": "demographic-egyptian",
   "metadata": {
    "papermill": {},
    "tags": []
   },
   "source": [
    "<img width=\"10%\" alt=\"Naas\" src=\"https://landen.imgix.net/jtci2pxwjczr/assets/5ice39g4.png?w=160\"/>"
   ]
  },
  {
   "cell_type": "markdown",
   "id": "headed-macintosh",
   "metadata": {
    "papermill": {},
    "tags": []
   },
   "source": [
    "# Newsapi - Send emails briefs\n",
    "<a href=\"https://app.naas.ai/user-redirect/naas/downloader?url=https://raw.githubusercontent.com/jupyter-naas/awesome-notebooks/master/Newsapi/Newsapi_Send_emails_briefs.ipynb\" target=\"_parent\">\n",
    "<img src=\"https://img.shields.io/badge/-Open%20in%20Naas-success?labelColor=000000&logo=data:image/svg+xml;base64,PD94bWwgdmVyc2lvbj0iMS4wIiBlbmNvZGluZz0iVVRGLTgiPz4KPHN2ZyB3aWR0aD0iMTAyNHB4IiBoZWlnaHQ9IjEwMjRweCIgdmlld0JveD0iMCAwIDEwMjQgMTAyNCIgeG1sbnM9Imh0dHA6Ly93d3cudzMub3JnLzIwMDAvc3ZnIiB4bWxuczp4bGluaz0iaHR0cDovL3d3dy53My5vcmcvMTk5OS94bGluayIgdmVyc2lvbj0iMS4xIj4KIDwhLS0gR2VuZXJhdGVkIGJ5IFBpeGVsbWF0b3IgUHJvIDIuMC41IC0tPgogPGRlZnM+CiAgPHRleHQgaWQ9InN0cmluZyIgdHJhbnNmb3JtPSJtYXRyaXgoMS4wIDAuMCAwLjAgMS4wIDIyOC4wIDU0LjUpIiBmb250LWZhbWlseT0iQ29tZm9ydGFhLVJlZ3VsYXIsIENvbWZvcnRhYSIgZm9udC1zaXplPSI4MDAiIHRleHQtZGVjb3JhdGlvbj0ibm9uZSIgZmlsbD0iI2ZmZmZmZiIgeD0iMS4xOTk5OTk5OTk5OTk5ODg2IiB5PSI3MDUuMCI+bjwvdGV4dD4KIDwvZGVmcz4KIDx1c2UgaWQ9Im4iIHhsaW5rOmhyZWY9IiNzdHJpbmciLz4KPC9zdmc+Cg==\"/>\n",
    "</a>"
   ]
  },
  {
   "cell_type": "markdown",
   "id": "raised-purple",
   "metadata": {
    "papermill": {},
    "tags": []
   },
   "source": [
    "Source: https://newsapi.org/"
   ]
  },
  {
   "cell_type": "markdown",
   "id": "adequate-russia",
   "metadata": {
    "execution": {
     "iopub.execute_input": "2021-05-10T12:14:10.484033Z",
     "iopub.status.busy": "2021-05-10T12:14:10.483793Z",
     "iopub.status.idle": "2021-05-10T12:14:10.487045Z",
     "shell.execute_reply": "2021-05-10T12:14:10.486350Z",
     "shell.execute_reply.started": "2021-05-10T12:14:10.484009Z"
    },
    "papermill": {},
    "tags": []
   },
   "source": [
    "## Input your email and key words"
   ]
  },
  {
   "cell_type": "code",
   "execution_count": 8,
   "id": "weighted-boards",
   "metadata": {
    "execution": {
     "iopub.execute_input": "2021-05-10T12:30:17.441692Z",
     "iopub.status.busy": "2021-05-10T12:30:17.441459Z",
     "iopub.status.idle": "2021-05-10T12:30:17.444515Z",
     "shell.execute_reply": "2021-05-10T12:30:17.443870Z",
     "shell.execute_reply.started": "2021-05-10T12:30:17.441668Z"
    },
    "papermill": {},
    "tags": []
   },
   "outputs": [],
   "source": [
    "your_email = \"*********\"\n",
    "query = \"data, automation, AI\""
   ]
  },
  {
   "cell_type": "markdown",
   "id": "waiting-jimmy",
   "metadata": {
    "papermill": {},
    "tags": []
   },
   "source": [
    "## Use NewsAPI drivers to get data"
   ]
  },
  {
   "cell_type": "code",
   "execution_count": 9,
   "id": "adult-rescue",
   "metadata": {
    "execution": {
     "iopub.execute_input": "2021-05-10T12:30:19.654967Z",
     "iopub.status.busy": "2021-05-10T12:30:19.654731Z",
     "iopub.status.idle": "2021-05-10T12:30:20.412655Z",
     "shell.execute_reply": "2021-05-10T12:30:20.411193Z",
     "shell.execute_reply.started": "2021-05-10T12:30:19.654944Z"
    },
    "papermill": {},
    "tags": []
   },
   "outputs": [],
   "source": [
    "import naas_drivers\n",
    "\n",
    "table_news = naas_drivers.newsapi.connect().get(q=query)\n",
    "\n",
    "# rename columns match the field required by Naas emailbuilder drivers\n",
    "table_news.rename(columns={'title':'text'}, inplace=True)\n",
    "table_news.rename(columns={'link':'row_link'}, inplace=True)"
   ]
  },
  {
   "cell_type": "markdown",
   "id": "protective-procedure",
   "metadata": {
    "papermill": {},
    "tags": []
   },
   "source": [
    "## Filter results "
   ]
  },
  {
   "cell_type": "code",
   "execution_count": 10,
   "id": "successful-display",
   "metadata": {
    "execution": {
     "iopub.execute_input": "2021-05-10T12:30:24.000172Z",
     "iopub.status.busy": "2021-05-10T12:30:23.999939Z",
     "iopub.status.idle": "2021-05-10T12:30:24.016698Z",
     "shell.execute_reply": "2021-05-10T12:30:24.016050Z",
     "shell.execute_reply.started": "2021-05-10T12:30:24.000149Z"
    },
    "papermill": {},
    "tags": []
   },
   "outputs": [
    {
     "data": {
      "text/html": [
       "<div>\n",
       "<style scoped>\n",
       "    .dataframe tbody tr th:only-of-type {\n",
       "        vertical-align: middle;\n",
       "    }\n",
       "\n",
       "    .dataframe tbody tr th {\n",
       "        vertical-align: top;\n",
       "    }\n",
       "\n",
       "    .dataframe thead th {\n",
       "        text-align: right;\n",
       "    }\n",
       "</style>\n",
       "<table border=\"1\" class=\"dataframe\">\n",
       "  <thead>\n",
       "    <tr style=\"text-align: right;\">\n",
       "      <th></th>\n",
       "      <th>text</th>\n",
       "      <th>row_link</th>\n",
       "    </tr>\n",
       "  </thead>\n",
       "  <tbody>\n",
       "    <tr>\n",
       "      <th>0</th>\n",
       "      <td>5 investors discuss the future of RPA after UI...</td>\n",
       "      <td>http://techcrunch.com/2021/05/07/5-investors-d...</td>\n",
       "    </tr>\n",
       "    <tr>\n",
       "      <th>1</th>\n",
       "      <td>Shift Technology raises $220M at a $1B+ valuat...</td>\n",
       "      <td>http://techcrunch.com/2021/05/05/shift-technol...</td>\n",
       "    </tr>\n",
       "    <tr>\n",
       "      <th>2</th>\n",
       "      <td>Turn Your Old or Broken Samsung Phone Into a S...</td>\n",
       "      <td>https://lifehacker.com/turn-your-old-or-broken...</td>\n",
       "    </tr>\n",
       "    <tr>\n",
       "      <th>3</th>\n",
       "      <td>Gartner says low-code, RPA, and AI driving gro...</td>\n",
       "      <td>https://venturebeat.com/2021/04/28/gartner-say...</td>\n",
       "    </tr>\n",
       "    <tr>\n",
       "      <th>4</th>\n",
       "      <td>IBM acquires business process automation start...</td>\n",
       "      <td>https://venturebeat.com/2021/04/15/ibm-acquire...</td>\n",
       "    </tr>\n",
       "    <tr>\n",
       "      <th>5</th>\n",
       "      <td>6 manufacturing execs discuss how data collect...</td>\n",
       "      <td>https://www.businessinsider.com/manufacturing-...</td>\n",
       "    </tr>\n",
       "    <tr>\n",
       "      <th>6</th>\n",
       "      <td>You need to be constantly exploring the data i...</td>\n",
       "      <td>https://venturebeat.com/2021/04/25/you-need-to...</td>\n",
       "    </tr>\n",
       "    <tr>\n",
       "      <th>7</th>\n",
       "      <td>Elon Musk's Research Firm Built an AI-Powered ...</td>\n",
       "      <td>https://www.entrepreneur.com/article/365796</td>\n",
       "    </tr>\n",
       "    <tr>\n",
       "      <th>8</th>\n",
       "      <td>AI-powered cybersecurity platform Vectra AI ra...</td>\n",
       "      <td>https://venturebeat.com/2021/04/29/ai-powered-...</td>\n",
       "    </tr>\n",
       "    <tr>\n",
       "      <th>9</th>\n",
       "      <td>Automation is expanding. How worried should we...</td>\n",
       "      <td>https://venturebeat.com/2021/04/11/automation-...</td>\n",
       "    </tr>\n",
       "  </tbody>\n",
       "</table>\n",
       "</div>"
      ],
      "text/plain": [
       "                                                text  \\\n",
       "0  5 investors discuss the future of RPA after UI...   \n",
       "1  Shift Technology raises $220M at a $1B+ valuat...   \n",
       "2  Turn Your Old or Broken Samsung Phone Into a S...   \n",
       "3  Gartner says low-code, RPA, and AI driving gro...   \n",
       "4  IBM acquires business process automation start...   \n",
       "5  6 manufacturing execs discuss how data collect...   \n",
       "6  You need to be constantly exploring the data i...   \n",
       "7  Elon Musk's Research Firm Built an AI-Powered ...   \n",
       "8  AI-powered cybersecurity platform Vectra AI ra...   \n",
       "9  Automation is expanding. How worried should we...   \n",
       "\n",
       "                                            row_link  \n",
       "0  http://techcrunch.com/2021/05/07/5-investors-d...  \n",
       "1  http://techcrunch.com/2021/05/05/shift-technol...  \n",
       "2  https://lifehacker.com/turn-your-old-or-broken...  \n",
       "3  https://venturebeat.com/2021/04/28/gartner-say...  \n",
       "4  https://venturebeat.com/2021/04/15/ibm-acquire...  \n",
       "5  https://www.businessinsider.com/manufacturing-...  \n",
       "6  https://venturebeat.com/2021/04/25/you-need-to...  \n",
       "7        https://www.entrepreneur.com/article/365796  \n",
       "8  https://venturebeat.com/2021/04/29/ai-powered-...  \n",
       "9  https://venturebeat.com/2021/04/11/automation-...  "
      ]
     },
     "execution_count": 10,
     "metadata": {},
     "output_type": "execute_result"
    }
   ],
   "source": [
    "table_news_email = table_news[:10]\n",
    "table_news_email = table_news_email[['text','row_link']]\n",
    "table_news_email"
   ]
  },
  {
   "cell_type": "markdown",
   "id": "swedish-colorado",
   "metadata": {
    "papermill": {},
    "tags": []
   },
   "source": [
    "## Format HTML content"
   ]
  },
  {
   "cell_type": "code",
   "execution_count": 11,
   "id": "sudden-suspect",
   "metadata": {
    "execution": {
     "iopub.execute_input": "2021-05-10T12:30:25.094237Z",
     "iopub.status.busy": "2021-05-10T12:30:25.093937Z",
     "iopub.status.idle": "2021-05-10T12:30:25.099317Z",
     "shell.execute_reply": "2021-05-10T12:30:25.098692Z",
     "shell.execute_reply.started": "2021-05-10T12:30:25.094204Z"
    },
    "papermill": {},
    "tags": []
   },
   "outputs": [],
   "source": [
    "links = []\n",
    "ht_str = \"<ul>\"\n",
    "for i in range(len(table_news_email)):\n",
    "    val = \"<li>\"+\"<a href=\"+'\"'+table_news_email['row_link'][i]+'\"'+\">\"+table_news_email['text'][i]+\"</a>\"+\"</li>\"\n",
    "    ht_str = ht_str+'\\n'+val\n",
    "ht_str = ht_str+\"\\n\"+\"</ul>\" "
   ]
  },
  {
   "cell_type": "markdown",
   "id": "animal-helen",
   "metadata": {
    "papermill": {},
    "tags": []
   },
   "source": [
    "## Send email"
   ]
  },
  {
   "cell_type": "code",
   "execution_count": 19,
   "id": "lyric-galaxy",
   "metadata": {
    "execution": {
     "iopub.execute_input": "2021-05-10T12:34:50.063264Z",
     "iopub.status.busy": "2021-05-10T12:34:50.062911Z",
     "iopub.status.idle": "2021-05-10T12:34:50.322068Z",
     "shell.execute_reply": "2021-05-10T12:34:50.321177Z",
     "shell.execute_reply.started": "2021-05-10T12:34:50.063227Z"
    },
    "papermill": {},
    "tags": []
   },
   "outputs": [
    {
     "data": {
      "text/html": [
       "\n",
       "            <script>\n",
       "                function resizeIframe_165f7c78353e4ae192bd27134d942c7d(obj) {\n",
       "                    obj.style.height = obj.contentWindow.document.documentElement.scrollHeight + 'px';\n",
       "                }\n",
       "            </script>\n",
       "            <iframe id=\"FileFrame_165f7c78353e4ae192bd27134d942c7d\" src=\"about:blank\"\n",
       "                style=\"border: 0; width: 100%; height: 100%\" onload=\"resizeIframe_165f7c78353e4ae192bd27134d942c7d(this)\">\n",
       "            </iframe>\n",
       "            <script type=\"text/javascript\">\n",
       "            var doc_165f7c78353e4ae192bd27134d942c7d = document.getElementById('FileFrame_165f7c78353e4ae192bd27134d942c7d').contentWindow.document;\n",
       "            doc_165f7c78353e4ae192bd27134d942c7d.open();\n",
       "            doc_165f7c78353e4ae192bd27134d942c7d.write(`<html lang='en'><head><meta httpequiv='Content-Type' content='text/html; charset=utf-8'/> <meta httpequiv='Content-Type' content='width=device-width, initial-scale=1'/> <meta name='viewport' content='width=device-width, initial-scale=1'/> <meta httpequiv='X-UA-Compatible' content='IE=edge'/> <style>\n",
       "/* CLIENT-SPECIFIC STYLES */\n",
       "body, table, td, a { -webkit-text-size-adjust: 100%; -ms-text-size-adjust: 100%; }\n",
       "table, td { mso-table-lspace: 0pt; mso-table-rspace: 0pt; }\n",
       "img { -ms-interpolation-mode: bicubic; }\n",
       "\n",
       "/* RESET STYLES */\n",
       "img { border: 0; height: auto; line-height: 100%; outline: none; text-decoration: none; }\n",
       "table { border-collapse: collapse !important; text-align: left !important; }\n",
       "body { height: 100% !important; margin: 0 !important; padding: 0 !important; width: 100% !important; }\n",
       "\n",
       "/* iOS BLUE LINKS */\n",
       "a[x-apple-data-detectors] {\n",
       "    color: inherit !important;\n",
       "    text-decoration: none !important;\n",
       "    font-size: inherit !important;\n",
       "    font-family: inherit !important;\n",
       "    font-weight: inherit !important;\n",
       "    line-height: inherit !important;\n",
       "}\n",
       "\n",
       "/* GMAIL BLUE LINKS */\n",
       "u + #body a {\n",
       "    color: inherit;\n",
       "    text-decoration: none;\n",
       "    font-size: inherit;\n",
       "    font-family: inherit;\n",
       "    font-weight: inherit;\n",
       "    line-height: inherit;\n",
       "}\n",
       "\n",
       "/* SAMSUNG MAIL BLUE LINKS */\n",
       "#MessageViewBody a {\n",
       "    color: inherit;\n",
       "    text-decoration: none;\n",
       "    font-size: inherit;\n",
       "    font-family: inherit;\n",
       "    font-weight: inherit;\n",
       "    line-height: inherit;\n",
       "}\n",
       "\n",
       "a { color: #B200FD; font-weight: 600; text-decoration: underline; }\n",
       "a:hover { color: #000000 !important; text-decoration: none !important; background-color: #5c1958 !important; }\n",
       "a.button:hover { color: #ffffff !important; background-color: #5c1958 !important; }\n",
       "\n",
       "td, th {\n",
       "    padding: 10px;\n",
       "}\n",
       "\n",
       "table * {\n",
       "    margin: 18px 0 !important;\n",
       "}\n",
       "\n",
       ".table_border {\n",
       "  border-collapse: collapse;\n",
       "  border-radius: 1em;\n",
       "  overflow: hidden;\n",
       "}\n",
       ".table_border tr:hover {\n",
       "  background-color: AliceBlue !important;\n",
       "  color: black;\n",
       "}\n",
       ".table_border tr:first-child td:first-of-type {\n",
       "  border-top-left-radius: 10px;\n",
       "}\n",
       ".table_border tr:first-child td:last-of-type {\n",
       "  border-top-right-radius: 10px;\n",
       "}\n",
       "\n",
       ".table_border tr:last-of-type td:first-of-type {\n",
       "  border-bottom-left-radius: 10px;\n",
       "}\n",
       ".table_border tr:last-of-type td:last-of-type {\n",
       "  border-bottom-right-radius: 10px;\n",
       "}\n",
       ".table_border tr:nth-child(even) { background-color: ghostwhite}\n",
       "\n",
       "@media screen and (min-width:600px) {\n",
       "    h1 { font-size: 48px !important; line-height: 48px !important; }\n",
       "    .intro { font-size: 24px !important; line-height: 36px !important; }\n",
       "}\n",
       ".basic_font {\n",
       "    font-family: 'Avenir Next', -apple-system, BlinkMacSystemFont, 'Segoe UI', Roboto, Helvetica, Arial, sans-serif, 'Apple Color Emoji', 'Segoe UI Emoji', 'Segoe UI Symbol';  # noqa: E501\n",
       "}\n",
       "</style> <title>🌏 NewsAPI brief</title></head> <body style='margin: 0 !important; padding: 0 !important; '><div style='display: none; max-height: 0; overflow: hidden; '>🌏 NewsAPI brief</div> <div style='display: none; max-height: 0; overflow: hidden; '>&nbsp;‌&nbsp;‌&nbsp;‌&nbsp;‌&nbsp;‌&nbsp;‌&nbsp;‌&nbsp;‌&nbsp;‌&nbsp;‌&nbsp;‌&nbsp;‌&nbsp;‌&nbsp;‌&nbsp;‌&nbsp;‌&nbsp;‌&nbsp;‌&nbsp;‌&nbsp;‌&nbsp;‌&nbsp;‌&nbsp;‌&nbsp;‌&nbsp;‌&nbsp;‌&nbsp;‌&nbsp;‌&nbsp;‌&nbsp;‌&nbsp;‌&nbsp;‌&nbsp;‌&nbsp;‌&nbsp;‌&nbsp;‌&nbsp;‌&nbsp;‌&nbsp;‌&nbsp;‌&nbsp;‌&nbsp;‌&nbsp;‌&nbsp;‌&nbsp;‌&nbsp;‌&nbsp;‌&nbsp;‌&nbsp;‌&nbsp;‌&nbsp;‌&nbsp;‌&nbsp;‌&nbsp;‌&nbsp;‌&nbsp;‌&nbsp;‌&nbsp;‌&nbsp;‌&nbsp;‌&nbsp;‌&nbsp;‌&nbsp;‌&nbsp;‌&nbsp;‌&nbsp;‌&nbsp;‌&nbsp;‌&nbsp;‌&nbsp;‌&nbsp;‌&nbsp;‌&nbsp;‌&nbsp;‌&nbsp;‌&nbsp;‌&nbsp;‌&nbsp;‌&nbsp;‌&nbsp;‌&nbsp;‌&nbsp;‌&nbsp;‌&nbsp;‌&nbsp;‌&nbsp;‌&nbsp;‌&nbsp;‌&nbsp;‌&nbsp;‌&nbsp;‌&nbsp;‌&nbsp;‌&nbsp;‌&nbsp;‌&nbsp;‌&nbsp;‌&nbsp;‌&nbsp;‌&nbsp;‌&nbsp;‌&nbsp;‌&nbsp;‌&nbsp;‌&nbsp;‌&nbsp;‌&nbsp;‌&nbsp;‌&nbsp;‌&nbsp;‌&nbsp;‌&nbsp;‌&nbsp;‌&nbsp;‌&nbsp;‌&nbsp;‌&nbsp;‌&nbsp;‌&nbsp;‌&nbsp;‌&nbsp;‌&nbsp;‌&nbsp;‌&nbsp;‌&nbsp;‌&nbsp;‌&nbsp;‌&nbsp;‌&nbsp;‌&nbsp;‌&nbsp;‌&nbsp;‌&nbsp;‌&nbsp;‌&nbsp;‌&nbsp;‌&nbsp;‌&nbsp;‌&nbsp;‌&nbsp;‌&nbsp;‌&nbsp;‌&nbsp;‌&nbsp;‌&nbsp;‌&nbsp;‌&nbsp;‌&nbsp;‌&nbsp;‌&nbsp;‌&nbsp;‌&nbsp;‌&nbsp;‌&nbsp;‌&nbsp;‌&nbsp;‌&nbsp;‌&nbsp;‌&nbsp;‌&nbsp;‌&nbsp;‌&nbsp;‌&nbsp;‌&nbsp;‌&nbsp;‌&nbsp;‌&nbsp;‌&nbsp;‌&nbsp;‌&nbsp;‌&nbsp;‌&nbsp;‌&nbsp;‌&nbsp;‌&nbsp;‌&nbsp;‌&nbsp;‌&nbsp;‌&nbsp;‌&nbsp;‌&nbsp;‌&nbsp;‌&nbsp;‌&nbsp;‌&nbsp;‌&nbsp;‌&nbsp;‌&nbsp;‌&nbsp;‌&nbsp;‌&nbsp;‌&nbsp;‌&nbsp;‌&nbsp;‌&nbsp;‌&nbsp;‌&nbsp;‌&nbsp;‌&nbsp;‌&nbsp;‌&nbsp;‌&nbsp;‌&nbsp;‌&nbsp;‌&nbsp;‌&nbsp;‌&nbsp;‌&nbsp;‌&nbsp;‌&nbsp;‌&nbsp;‌&nbsp;‌&nbsp;‌&nbsp;‌&nbsp;‌&nbsp;‌&nbsp;‌&nbsp;‌&nbsp;‌&nbsp;‌&nbsp;‌&nbsp;‌&nbsp;‌&nbsp;‌&nbsp;‌&nbsp;‌&nbsp;‌&nbsp;‌&nbsp;‌&nbsp;‌&nbsp;‌&nbsp;‌&nbsp;‌&nbsp;‌&nbsp;‌&nbsp;‌&nbsp;‌&nbsp;‌&nbsp;‌&nbsp;‌</div> \n",
       "<!--[if (gte mso 9)|(IE)]>\n",
       "<table cellspacing=\"0\" cellpadding=\"0\" border=\"0\" width=\"720\" align=\"center\" role=\"presentation\"><tr><td>\n",
       "<![endif]-->\n",
       " <div lang='en' class='basic_font' style='background-color: white; color: #2b2b2b; font-size: 18px; font-weight: 400; line-height: 28px; margin: 0 auto; max-width: 720px; padding: 40px 20px 40px 20px; '><header><h1 style='color: #000000; font-size: 32px; font-weight: 800; line-height: 32px; margin: 48px 0; text-align: center; '>🌏 NewsAPI brief <br/></h1></header> <main><p style='font-size: 18px; padding-left: 10px; padding-right: 10px; '><b>Topics</b>: data, automation, AI</p> <p style='font-size: 18px; padding-left: 10px; padding-right: 10px; '><ul>\n",
       "<li><a href=\"http://techcrunch.com/2021/05/07/5-investors-discuss-the-future-of-rpa-after-uipaths-ipo/\">5 investors discuss the future of RPA after UIPath’s IPO</a></li>\n",
       "<li><a href=\"http://techcrunch.com/2021/05/05/shift-technology-raises-220m-at-a-1b-valuation-to-fight-insurance-fraud-with-ai/\">Shift Technology raises $220M at a $1B+ valuation to fight insurance fraud with AI</a></li>\n",
       "<li><a href=\"https://lifehacker.com/turn-your-old-or-broken-samsung-phone-into-a-smarthome-1846734022\">Turn Your Old or Broken Samsung Phone Into a Smarthome Sensor</a></li>\n",
       "<li><a href=\"https://venturebeat.com/2021/04/28/gartner-says-low-code-rpa-and-ai-driving-growth-in-hyperautomation/\">Gartner says low-code, RPA, and AI driving growth in ‘hyperautomation’</a></li>\n",
       "<li><a href=\"https://venturebeat.com/2021/04/15/ibm-acquires-business-process-automation-startup-myinvenio/\">IBM acquires business process automation startup MyInvenio</a></li>\n",
       "<li><a href=\"https://www.businessinsider.com/manufacturing-leaders-discuss-data-and-automation-2021-4\">6 manufacturing execs discuss how data collection and automation are changing the industry</a></li>\n",
       "<li><a href=\"https://venturebeat.com/2021/04/25/you-need-to-be-constantly-exploring-the-data-in-your-ai-pipeline/\">You need to be constantly exploring the data in your AI pipeline</a></li>\n",
       "<li><a href=\"https://www.entrepreneur.com/article/365796\">Elon Musk's Research Firm Built an AI-Powered Game Changer for Marketers</a></li>\n",
       "<li><a href=\"https://venturebeat.com/2021/04/29/ai-powered-cybersecurity-platform-vectra-ai-raises-130m/\">AI-powered cybersecurity platform Vectra AI raises $130M</a></li>\n",
       "<li><a href=\"https://venturebeat.com/2021/04/11/automation-is-expanding-how-worried-should-we-be-about-jobs/\">Automation is expanding. How worried should we be about jobs?</a></li>\n",
       "</ul></p> <p style='font-size: 18px; padding-left: 10px; padding-right: 10px; '>Source: <a>https://newsapi.org/</a></p></main></div> \n",
       "<!--[if (gte mso 9)|(IE)]>\n",
       "</td></tr></table>\n",
       "<![endif]-->\n",
       "</body></html>`);\n",
       "            doc_165f7c78353e4ae192bd27134d942c7d.close();\n",
       "            </script>\n",
       "            "
      ],
      "text/plain": [
       "<IPython.core.display.HTML object>"
      ]
     },
     "metadata": {},
     "output_type": "display_data"
    },
    {
     "name": "stdout",
     "output_type": "stream",
     "text": [
      "👌 💌 Email has been sent successfully !\n"
     ]
    }
   ],
   "source": [
    "import naas\n",
    "email_content = naas_drivers.emailbuilder.generate( \n",
    "        display='iframe',\n",
    "        title=f'🌏 NewsAPI brief', \n",
    "        subtitle=f'<b>Topics</b>: {query}',         \n",
    "        table_1= ht_str,\n",
    "        text=\"Source: <a>https://newsapi.org/</a>\"\n",
    "        )\n",
    "naas.notification.send(email_to=your_email, subject=\"News scheduled from Naas dev\", html=email_content, email_from='notifications@naas.ai')"
   ]
  },
  {
   "cell_type": "markdown",
   "id": "middle-barrel",
   "metadata": {
    "papermill": {},
    "tags": []
   },
   "source": [
    "## Schedule everyday at 8am CET\n",
    "Uncomment the line."
   ]
  },
  {
   "cell_type": "code",
   "execution_count": 13,
   "id": "basic-general",
   "metadata": {
    "execution": {
     "iopub.execute_input": "2021-05-10T12:30:29.474445Z",
     "iopub.status.busy": "2021-05-10T12:30:29.474170Z",
     "iopub.status.idle": "2021-05-10T12:30:29.795062Z",
     "shell.execute_reply": "2021-05-10T12:30:29.793761Z",
     "shell.execute_reply.started": "2021-05-10T12:30:29.474414Z"
    },
    "papermill": {},
    "tags": []
   },
   "outputs": [
    {
     "name": "stdout",
     "output_type": "stream",
     "text": [
      "recurrence is deprecated use cron arg instead\n",
      "👌 Well done! Your Notebook has been sent to production. \n",
      "\n",
      "⏰ It will be scheduled \"At 08:00 every day\" (more on the syntax on https://crontab.guru/).\n",
      "\n",
      "Ps: to remove the \"Scheduler\", just replace .add by .delete\n"
     ]
    }
   ],
   "source": [
    "#naas.scheduler.add(recurrence=\"0 8 * * *\")"
   ]
  }
 ],
 "metadata": {
  "kernelspec": {
   "display_name": "Python 3",
   "language": "python",
   "name": "python3"
  },
  "language_info": {
   "codemirror_mode": {
    "name": "ipython",
    "version": 3
   },
   "file_extension": ".py",
   "mimetype": "text/x-python",
   "name": "python",
   "nbconvert_exporter": "python",
   "pygments_lexer": "ipython3",
   "version": "3.8.8"
  },
  "papermill": {
   "default_parameters": {},
   "environment_variables": {},
   "parameters": {},
   "version": "2.3.3"
  },
  "widgets": {
   "application/vnd.jupyter.widget-state+json": {
    "state": {},
    "version_major": 2,
    "version_minor": 0
   }
  }
 },
 "nbformat": 4,
 "nbformat_minor": 5
}