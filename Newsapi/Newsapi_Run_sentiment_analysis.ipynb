{
 "cells": [
  {
   "cell_type": "markdown",
   "id": "formed-general",
   "metadata": {
    "papermill": {},
    "tags": []
   },
   "source": [
    "<img width=\"10%\" alt=\"Naas\" src=\"https://landen.imgix.net/jtci2pxwjczr/assets/5ice39g4.png?w=160\"/>"
   ]
  },
  {
   "cell_type": "markdown",
   "id": "immune-senator",
   "metadata": {
    "papermill": {},
    "tags": []
   },
   "source": [
    "# Newsapi - Run sentiment analysis\n",
    "<a href=\"https://app.naas.ai/user-redirect/naas/downloader?url=https://raw.githubusercontent.com/jupyter-naas/awesome-notebooks/master/Newsapi/Newsapi_Run_sentiment_analysis.ipynb\" target=\"_parent\"><img src=\"https://img.shields.io/badge/-Open%20in%20Naas-success?labelColor=000000&logo=data:image/svg+xml;base64,PD94bWwgdmVyc2lvbj0iMS4wIiBlbmNvZGluZz0iVVRGLTgiPz4KPHN2ZyB3aWR0aD0iMTAyNHB4IiBoZWlnaHQ9IjEwMjRweCIgdmlld0JveD0iMCAwIDEwMjQgMTAyNCIgeG1sbnM9Imh0dHA6Ly93d3cudzMub3JnLzIwMDAvc3ZnIiB4bWxuczp4bGluaz0iaHR0cDovL3d3dy53My5vcmcvMTk5OS94bGluayIgdmVyc2lvbj0iMS4xIj4KIDwhLS0gR2VuZXJhdGVkIGJ5IFBpeGVsbWF0b3IgUHJvIDIuMC41IC0tPgogPGRlZnM+CiAgPHRleHQgaWQ9InN0cmluZyIgdHJhbnNmb3JtPSJtYXRyaXgoMS4wIDAuMCAwLjAgMS4wIDIyOC4wIDU0LjUpIiBmb250LWZhbWlseT0iQ29tZm9ydGFhLVJlZ3VsYXIsIENvbWZvcnRhYSIgZm9udC1zaXplPSI4MDAiIHRleHQtZGVjb3JhdGlvbj0ibm9uZSIgZmlsbD0iI2ZmZmZmZiIgeD0iMS4xOTk5OTk5OTk5OTk5ODg2IiB5PSI3MDUuMCI+bjwvdGV4dD4KIDwvZGVmcz4KIDx1c2UgaWQ9Im4iIHhsaW5rOmhyZWY9IiNzdHJpbmciLz4KPC9zdmc+Cg==\"/></a>"
   ]
  },
  {
   "cell_type": "code",
   "execution_count": 1,
   "id": "confirmed-stability",
   "metadata": {
    "execution": {
     "iopub.execute_input": "2021-09-01T08:44:19.827439Z",
     "iopub.status.busy": "2021-09-01T08:44:19.827011Z",
     "iopub.status.idle": "2021-09-01T08:44:30.302116Z",
     "shell.execute_reply": "2021-09-01T08:44:30.301473Z",
     "shell.execute_reply.started": "2021-09-01T08:44:19.827359Z"
    },
    "papermill": {},
    "tags": []
   },
   "outputs": [],
   "source": [
    "import naas_drivers"
   ]
  },
  {
   "cell_type": "code",
   "execution_count": 2,
   "id": "european-greensboro",
   "metadata": {
    "execution": {
     "iopub.execute_input": "2021-09-01T08:48:50.750591Z",
     "iopub.status.busy": "2021-09-01T08:48:50.750349Z",
     "iopub.status.idle": "2021-09-01T08:48:51.317605Z",
     "shell.execute_reply": "2021-09-01T08:48:51.317002Z",
     "shell.execute_reply.started": "2021-09-01T08:48:50.750567Z"
    },
    "papermill": {},
    "tags": []
   },
   "outputs": [],
   "source": [
    "data = naas_drivers.newsapi.connect().get(\"bitcoin\", fields=[\"title\", \"image\", \"link\", \"description\"])"
   ]
  },
  {
   "cell_type": "code",
   "execution_count": 3,
   "id": "direct-saver",
   "metadata": {
    "execution": {
     "iopub.execute_input": "2021-09-01T08:48:53.537861Z",
     "iopub.status.busy": "2021-09-01T08:48:53.537562Z",
     "iopub.status.idle": "2021-09-01T08:48:53.555999Z",
     "shell.execute_reply": "2021-09-01T08:48:53.555336Z",
     "shell.execute_reply.started": "2021-09-01T08:48:53.537832Z"
    },
    "papermill": {},
    "tags": []
   },
   "outputs": [],
   "source": [
    "data"
   ]
  },
  {
   "cell_type": "code",
   "execution_count": 5,
   "id": "characteristic-loading",
   "metadata": {
    "execution": {
     "iopub.execute_input": "2021-09-01T08:49:34.555056Z",
     "iopub.status.busy": "2021-09-01T08:49:34.554818Z",
     "iopub.status.idle": "2021-09-01T08:49:34.615284Z",
     "shell.execute_reply": "2021-09-01T08:49:34.614677Z",
     "shell.execute_reply.started": "2021-09-01T08:49:34.555033Z"
    },
    "papermill": {},
    "tags": []
   },
   "outputs": [],
   "source": [
    "sentiment =  naas_drivers.sentiment.get(data, column_name=\"title\")"
   ]
  },
  {
   "cell_type": "code",
   "execution_count": 6,
   "id": "likely-citizenship",
   "metadata": {
    "execution": {
     "iopub.execute_input": "2021-09-01T08:49:36.688694Z",
     "iopub.status.busy": "2021-09-01T08:49:36.688457Z",
     "iopub.status.idle": "2021-09-01T08:49:36.700531Z",
     "shell.execute_reply": "2021-09-01T08:49:36.699893Z",
     "shell.execute_reply.started": "2021-09-01T08:49:36.688672Z"
    },
    "papermill": {},
    "tags": []
   },
   "outputs": [],
   "source": [
    "sentiment"
   ]
  },
  {
   "cell_type": "code",
   "execution_count": null,
   "id": "81367e95-57f8-419b-8ed6-2f770c9b9443",
   "metadata": {
    "papermill": {},
    "tags": []
   },
   "outputs": [],
   "source": []
  }
 ],
 "metadata": {
  "kernelspec": {
   "display_name": "Python 3",
   "language": "python",
   "name": "python3"
  },
  "language_info": {
   "codemirror_mode": {
    "name": "ipython",
    "version": 3
   },
   "file_extension": ".py",
   "mimetype": "text/x-python",
   "name": "python",
   "nbconvert_exporter": "python",
   "pygments_lexer": "ipython3",
   "version": "3.8.8"
  },
  "papermill": {
   "default_parameters": {},
   "environment_variables": {},
   "parameters": {},
   "version": "2.3.3"
  },
  "widgets": {
   "application/vnd.jupyter.widget-state+json": {
    "state": {},
    "version_major": 2,
    "version_minor": 0
   }
  }
 },
 "nbformat": 4,
 "nbformat_minor": 5
}