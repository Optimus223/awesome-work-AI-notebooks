{
 "cells": [
  {
   "cell_type": "markdown",
   "id": "933b5fd8-5444-463e-bb82-2a2bdb9c02cb",
   "metadata": {
    "papermill": {},
    "tags": []
   },
   "source": [
    "<img width=\"10%\" alt=\"Naas\" src=\"https://landen.imgix.net/jtci2pxwjczr/assets/5ice39g4.png?w=160\"/>"
   ]
  },
  {
   "cell_type": "markdown",
   "id": "bef956ec-7e69-4673-9151-10e60f55d9d4",
   "metadata": {
    "papermill": {},
    "tags": []
   },
   "source": [
    "# SEON - Get email info"
   ]
  },
  {
   "cell_type": "markdown",
   "id": "a13bb262-031d-4e3b-bb31-dc8028062019",
   "metadata": {
    "papermill": {},
    "tags": []
   },
   "source": [
    "**Tags:** #seon #email #enrichment #api #tool #library"
   ]
  },
  {
   "cell_type": "markdown",
   "id": "5fc67944-9ad4-4aae-8a47-f54e71f03fa0",
   "metadata": {
    "papermill": {},
    "tags": []
   },
   "source": [
    "**Author:** [Florent Ravenel](https://www.linkedin.com/in/florent-ravenel/)"
   ]
  },
  {
   "cell_type": "markdown",
   "id": "7c979bd4-2b31-4c14-a987-bbab07b82d40",
   "metadata": {
    "papermill": {},
    "tags": []
   },
   "source": [
    "**Description:** This notebook will demonstrate how to use SEON's standalone email enrichment tool to learn about the approximate minimum age of an email address, its provider, and any connected online profiles."
   ]
  },
  {
   "cell_type": "markdown",
   "id": "fb126fe9-3c26-4ee3-b43a-675f1db2fa08",
   "metadata": {
    "papermill": {},
    "tags": []
   },
   "source": [
    "**References:**\n- [SEON API Reference](https://docs.seon.io/api-reference#email-api)\n- [SEON Documentation](https://docs.seon.io/getting-started)"
   ]
  },
  {
   "cell_type": "markdown",
   "id": "1165d28a-b192-4696-9f0d-c1418c403a16",
   "metadata": {
    "papermill": {},
    "tags": []
   },
   "source": [
    "## Input"
   ]
  },
  {
   "cell_type": "markdown",
   "id": "41c81745-cba0-44aa-85d5-891a48941872",
   "metadata": {
    "papermill": {},
    "tags": []
   },
   "source": [
    "### Import libraries"
   ]
  },
  {
   "cell_type": "code",
   "execution_count": null,
   "id": "2064d7eb-a2c2-468b-b564-1857561e892d",
   "metadata": {
    "papermill": {},
    "tags": []
   },
   "source": "import requests",
   "outputs": []
  },
  {
   "cell_type": "markdown",
   "id": "e41239c5-cc27-4c96-bf21-d7ebca6e541d",
   "metadata": {
    "papermill": {},
    "tags": []
   },
   "source": [
    "### Setup Variables\n- `api_key`: [Get your API key](https://docs.seon.io/getting-started#api-key)\n- `email`: Email address to be enriched"
   ]
  },
  {
   "cell_type": "code",
   "execution_count": null,
   "id": "af7da96a-5553-414f-92d0-f53923acfa78",
   "metadata": {
    "papermill": {},
    "tags": []
   },
   "source": "api_key = \"YOUR_API_KEY\"\nemail = \"example@example.com\"",
   "outputs": []
  },
  {
   "cell_type": "markdown",
   "id": "48076685-bca4-4640-8fe1-55614df32eea",
   "metadata": {
    "papermill": {},
    "tags": []
   },
   "source": [
    "## Model"
   ]
  },
  {
   "cell_type": "markdown",
   "id": "ae2277d2-2ffa-4254-9a3c-58dcd75857e9",
   "metadata": {
    "papermill": {},
    "tags": []
   },
   "source": [
    "### Get email info"
   ]
  },
  {
   "cell_type": "markdown",
   "id": "f9e3b91d-bcb3-488d-aeb1-e1ac145bcf6e",
   "metadata": {
    "papermill": {},
    "tags": []
   },
   "source": [
    "This function will use the SEON API to get the approximate minimum age of an email address, its provider, and any connected online profiles."
   ]
  },
  {
   "cell_type": "code",
   "execution_count": null,
   "id": "85da3640-df88-4202-b2e4-9cae9f32d21f",
   "metadata": {
    "papermill": {},
    "tags": []
   },
   "source": "def get_email_info(api_key, email):\n    url = \"https://api.seon.io/v1/email/enrichment\"\n    headers = {\"Authorization\": \"Bearer \" + api_key}\n    data = {\"email\": email}\n    response = requests.post(url, headers=headers, data=data)\n    return response.json()",
   "outputs": []
  },
  {
   "cell_type": "markdown",
   "id": "bfb71222-ec56-4cd1-8bb0-004c6e512033",
   "metadata": {
    "papermill": {},
    "tags": []
   },
   "source": [
    "## Output"
   ]
  },
  {
   "cell_type": "markdown",
   "id": "0278fbab-97de-4ae6-8117-77d707f688bf",
   "metadata": {
    "papermill": {},
    "tags": []
   },
   "source": [
    "### Display result"
   ]
  },
  {
   "cell_type": "code",
   "execution_count": null,
   "id": "867cae16-10c9-4010-b722-91eff737b0e6",
   "metadata": {
    "papermill": {},
    "tags": []
   },
   "source": "email_info = get_email_info(api_key, email)\nprint(email_info)",
   "outputs": []
  },
  {
   "cell_type": "markdown",
   "id": "de68dcf4-f33b-4941-81f4-81253697367e",
   "metadata": {
    "papermill": {},
    "tags": []
   },
   "source": [
    " "
   ]
  }
 ],
 "metadata": {
  "kernelspec": {
   "display_name": "Python 3",
   "language": "python",
   "name": "python3"
  },
  "language_info": {
   "codemirror_mode": {
    "name": "ipython",
    "version": 3
   },
   "file_extension": ".py",
   "mimetype": "text/x-python",
   "name": "python",
   "nbconvert_exporter": "python",
   "pygments_lexer": "ipython3",
   "version": "3.9.6"
  },
  "widgets": {
   "application/vnd.jupyter.widget-state+json": {
    "state": {},
    "version_major": 2,
    "version_minor": 0
   }
  }
 },
 "nbformat": 4,
 "nbformat_minor": 5
}