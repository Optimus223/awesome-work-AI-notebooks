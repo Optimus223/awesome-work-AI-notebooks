{
 "cells": [
  {
   "cell_type": "markdown",
   "id": "latin-packing",
   "metadata": {
    "execution": {
     "iopub.execute_input": "2021-02-23T14:22:16.610471Z",
     "iopub.status.busy": "2021-02-23T14:22:16.610129Z",
     "iopub.status.idle": "2021-02-23T14:22:16.627784Z",
     "shell.execute_reply": "2021-02-23T14:22:16.626866Z",
     "shell.execute_reply.started": "2021-02-23T14:22:16.610384Z"
    },
    "papermill": {},
    "tags": []
   },
   "source": [
    "<img width=\"10%\" alt=\"Naas\" src=\"https://landen.imgix.net/jtci2pxwjczr/assets/5ice39g4.png?w=160\"/>"
   ]
  },
  {
   "cell_type": "markdown",
   "id": "compressed-wilson",
   "metadata": {
    "papermill": {},
    "tags": []
   },
   "source": [
    "# Jupyter Notebooks - Add tags to cells\n",
    "<a href=\"https://app.naas.ai/user-redirect/naas/downloader?url=https://raw.githubusercontent.com/jupyter-naas/awesome-notebooks/master/template.ipynb\" target=\"_parent\">\n",
    "<img src=\"https://img.shields.io/badge/-Open%20in%20Naas-success?labelColor=000000&logo=data:image/svg+xml;base64,PD94bWwgdmVyc2lvbj0iMS4wIiBlbmNvZGluZz0iVVRGLTgiPz4KPHN2ZyB3aWR0aD0iMTAyNHB4IiBoZWlnaHQ9IjEwMjRweCIgdmlld0JveD0iMCAwIDEwMjQgMTAyNCIgeG1sbnM9Imh0dHA6Ly93d3cudzMub3JnLzIwMDAvc3ZnIiB4bWxuczp4bGluaz0iaHR0cDovL3d3dy53My5vcmcvMTk5OS94bGluayIgdmVyc2lvbj0iMS4xIj4KIDwhLS0gR2VuZXJhdGVkIGJ5IFBpeGVsbWF0b3IgUHJvIDIuMC41IC0tPgogPGRlZnM+CiAgPHRleHQgaWQ9InN0cmluZyIgdHJhbnNmb3JtPSJtYXRyaXgoMS4wIDAuMCAwLjAgMS4wIDIyOC4wIDU0LjUpIiBmb250LWZhbWlseT0iQ29tZm9ydGFhLVJlZ3VsYXIsIENvbWZvcnRhYSIgZm9udC1zaXplPSI4MDAiIHRleHQtZGVjb3JhdGlvbj0ibm9uZSIgZmlsbD0iI2ZmZmZmZiIgeD0iMS4xOTk5OTk5OTk5OTk5ODg2IiB5PSI3MDUuMCI+bjwvdGV4dD4KIDwvZGVmcz4KIDx1c2UgaWQ9Im4iIHhsaW5rOmhyZWY9IiNzdHJpbmciLz4KPC9zdmc+Cg==\"/>\n",
    "</a>"
   ]
  },
  {
   "cell_type": "markdown",
   "id": "religious-programmer",
   "metadata": {},
   "source": [
    "**Tags:** #jupyter #awesome-notebooks #tags #snippet"
   ]
  },
  {
   "cell_type": "markdown",
   "id": "1fe9f56e-561c-4f52-aef8-b861c9462107",
   "metadata": {},
   "source": [
    "**Author:** [Florent Ravenel](https://www.linkedin.com/in/florent-ravenel/)"
   ]
  },
  {
   "cell_type": "markdown",
   "id": "distinguished-truth",
   "metadata": {
    "papermill": {},
    "tags": []
   },
   "source": [
    "## Input"
   ]
  },
  {
   "cell_type": "markdown",
   "id": "numeric-mediterranean",
   "metadata": {},
   "source": [
    "### Import library"
   ]
  },
  {
   "cell_type": "code",
   "execution_count": 22,
   "id": "potential-surfing",
   "metadata": {
    "execution": {
     "iopub.execute_input": "2022-03-17T10:25:21.216073Z",
     "iopub.status.busy": "2022-03-17T10:25:21.215854Z",
     "iopub.status.idle": "2022-03-17T10:25:21.218859Z",
     "shell.execute_reply": "2022-03-17T10:25:21.218174Z",
     "shell.execute_reply.started": "2022-03-17T10:25:21.216050Z"
    },
    "tags": []
   },
   "outputs": [],
   "source": [
    "import os\n",
    "import json"
   ]
  },
  {
   "cell_type": "markdown",
   "id": "registered-showcase",
   "metadata": {},
   "source": [
    "## Model"
   ]
  },
  {
   "cell_type": "markdown",
   "id": "tested-astrology",
   "metadata": {},
   "source": [
    "### Function"
   ]
  },
  {
   "cell_type": "code",
   "execution_count": 54,
   "id": "crude-louisville",
   "metadata": {
    "execution": {
     "iopub.execute_input": "2022-03-17T10:37:21.120455Z",
     "iopub.status.busy": "2022-03-17T10:37:21.120215Z",
     "iopub.status.idle": "2022-03-17T10:37:21.125304Z",
     "shell.execute_reply": "2022-03-17T10:37:21.124706Z",
     "shell.execute_reply.started": "2022-03-17T10:37:21.120431Z"
    },
    "papermill": {},
    "tags": []
   },
   "outputs": [],
   "source": [
    "def add_tags(notebook_path):\n",
    "    with open(notebook_path) as f:\n",
    "        nb = json.load(f)\n",
    "        \n",
    "    new_cells = []\n",
    "    cells = nb.get(\"cells\")\n",
    "    new_tags = [f\"awesome-notebooks/{notebook_path}\"]\n",
    "    \n",
    "    # Apply change\n",
    "    for cell in cells:\n",
    "        tags = cell.get('metadata').get('tags')\n",
    "        if len(tags) == 0:\n",
    "            tags = new_tags\n",
    "        else:\n",
    "            tags += new_tags\n",
    "        cell[\"metadata\"][\"tags\"] = tags\n",
    "        new_cells.append(cell)\n",
    "        \n",
    "    # Save notebook\n",
    "    nb_new = nb.copy()\n",
    "    nb_new[\"cells\"] = new_cells\n",
    "    with open(notebook_path, 'w') as f:\n",
    "        json.dump(nb_new, f)\n",
    "    print(f\"✔️ {notebook_path} saved in Naas.\")"
   ]
  },
  {
   "cell_type": "code",
   "execution_count": 55,
   "id": "bdbca2d4-29be-4b39-b935-554a25a756af",
   "metadata": {
    "execution": {
     "iopub.execute_input": "2022-03-17T10:37:21.876928Z",
     "iopub.status.busy": "2022-03-17T10:37:21.876706Z",
     "iopub.status.idle": "2022-03-17T10:37:21.879341Z",
     "shell.execute_reply": "2022-03-17T10:37:21.878722Z",
     "shell.execute_reply.started": "2022-03-17T10:37:21.876905Z"
    },
    "tags": []
   },
   "outputs": [],
   "source": [
    "# notebook_path = \"AWS/AWS_Upload_file_to_S3_bucket.ipynb\"\n",
    "# add_tags(notebook_path)"
   ]
  },
  {
   "cell_type": "markdown",
   "id": "lonely-pacific",
   "metadata": {
    "execution": {
     "iopub.execute_input": "2021-07-02T23:32:10.789097Z",
     "iopub.status.busy": "2021-07-02T23:32:10.788829Z",
     "iopub.status.idle": "2021-07-02T23:32:10.796900Z",
     "shell.execute_reply": "2021-07-02T23:32:10.796358Z",
     "shell.execute_reply.started": "2021-07-02T23:32:10.789033Z"
    }
   },
   "source": [
    "## Output"
   ]
  },
  {
   "cell_type": "markdown",
   "id": "linear-address",
   "metadata": {},
   "source": [
    "### Display result"
   ]
  },
  {
   "cell_type": "code",
   "execution_count": 56,
   "id": "32e75ebc-bbc7-49bb-9cdf-27204be1b26e",
   "metadata": {
    "execution": {
     "iopub.execute_input": "2022-03-17T10:37:23.807367Z",
     "iopub.status.busy": "2022-03-17T10:37:23.807150Z",
     "iopub.status.idle": "2022-03-17T10:37:23.918161Z",
     "shell.execute_reply": "2022-03-17T10:37:23.917521Z",
     "shell.execute_reply.started": "2022-03-17T10:37:23.807345Z"
    },
    "tags": []
   },
   "outputs": [
    {
     "name": "stdout",
     "output_type": "stream",
     "text": [
      "Started notebook...  AWS/AWS_Upload_file_to_S3_bucket.ipynb\n",
      "✔️ AWS/AWS_Upload_file_to_S3_bucket.ipynb saved in Naas.\n",
      "Started notebook...  AWS/AWS_Daily_biling_notification_to_slack.ipynb\n",
      "✔️ AWS/AWS_Daily_biling_notification_to_slack.ipynb saved in Naas.\n",
      "Started notebook...  AWS/AWS_Get_files_from_S3_bucket.ipynb\n",
      "✔️ AWS/AWS_Get_files_from_S3_bucket.ipynb saved in Naas.\n"
     ]
    }
   ],
   "source": [
    "# Loop on awesome-notebook dir\n",
    "directories = sorted(os.listdir())\n",
    "for directory in directories:\n",
    "    if \".\" not in directory and directory != \"LICENSE\":\n",
    "        subdirs = os.listdir(directory)\n",
    "        for subdir in subdirs:\n",
    "            if subdir.endswith(\".ipynb\"):\n",
    "                notebook_path = os.path.join(directory, subdir)\n",
    "                print(\"Started notebook... \", notebook_path)\n",
    "                add_tags(notebook_path)"
   ]
  },
  {
   "cell_type": "code",
   "execution_count": null,
   "id": "b6768a72-48cf-475b-9659-abce23d15d5d",
   "metadata": {},
   "outputs": [],
   "source": []
  }
 ],
 "metadata": {
  "kernelspec": {
   "display_name": "Python 3",
   "language": "python",
   "name": "python3"
  },
  "language_info": {
   "codemirror_mode": {
    "name": "ipython",
    "version": 3
   },
   "file_extension": ".py",
   "mimetype": "text/x-python",
   "name": "python",
   "nbconvert_exporter": "python",
   "pygments_lexer": "ipython3",
   "version": "3.9.6"
  },
  "papermill": {
   "default_parameters": {},
   "environment_variables": {},
   "parameters": {},
   "version": "2.3.3"
  },
  "widgets": {
   "application/vnd.jupyter.widget-state+json": {
    "state": {},
    "version_major": 2,
    "version_minor": 0
   }
  }
 },
 "nbformat": 4,
 "nbformat_minor": 5
}
