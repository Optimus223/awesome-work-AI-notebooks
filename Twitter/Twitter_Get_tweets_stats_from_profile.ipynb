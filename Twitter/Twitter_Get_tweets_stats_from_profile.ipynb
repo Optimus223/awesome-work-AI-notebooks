{
 "cells": [
  {
   "cell_type": "markdown",
   "id": "latin-packing",
   "metadata": {
    "execution": {
     "iopub.execute_input": "2021-02-23T14:22:16.610471Z",
     "iopub.status.busy": "2021-02-23T14:22:16.610129Z",
     "iopub.status.idle": "2021-02-23T14:22:16.627784Z",
     "shell.execute_reply": "2021-02-23T14:22:16.626866Z",
     "shell.execute_reply.started": "2021-02-23T14:22:16.610384Z"
    },
    "papermill": {},
    "tags": []
   },
   "source": [
    "<img width=\"10%\" alt=\"Naas\" src=\"https://landen.imgix.net/jtci2pxwjczr/assets/5ice39g4.png?w=160\"/>"
   ]
  },
  {
   "cell_type": "markdown",
   "id": "1eb97308-3641-45ee-a966-4d1d8d7903a7",
   "metadata": {
    "papermill": {},
    "tags": []
   },
   "source": [
    "# Twitter - Scrap tweets data from username"
   ]
  },
  {
   "cell_type": "markdown",
   "id": "religious-programmer",
   "metadata": {},
   "source": [
    "**Tags:** #twitter #tweets #scrap"
   ]
  },
  {
   "cell_type": "markdown",
   "id": "distinguished-truth",
   "metadata": {
    "papermill": {},
    "tags": []
   },
   "source": [
    "## Input"
   ]
  },
  {
   "cell_type": "markdown",
   "id": "numeric-mediterranean",
   "metadata": {},
   "source": [
    "### Import library"
   ]
  },
  {
   "cell_type": "code",
   "execution_count": 1,
   "id": "2ae05562-8dc9-4f2c-ba4a-b8a3dae7e0d4",
   "metadata": {
    "execution": {
     "iopub.execute_input": "2021-12-27T11:58:34.877652Z",
     "iopub.status.busy": "2021-12-27T11:58:34.877219Z",
     "iopub.status.idle": "2021-12-27T11:58:35.146805Z",
     "shell.execute_reply": "2021-12-27T11:58:35.146218Z",
     "shell.execute_reply.started": "2021-12-27T11:58:34.877584Z"
    },
    "tags": []
   },
   "outputs": [],
   "source": [
    "import os\n",
    "import re\n",
    "import pandas as pd"
   ]
  },
  {
   "cell_type": "code",
   "execution_count": 2,
   "id": "699478b3-f20f-4cce-86ea-1ff43c5b007d",
   "metadata": {
    "execution": {
     "iopub.execute_input": "2021-12-27T11:58:35.148199Z",
     "iopub.status.busy": "2021-12-27T11:58:35.147977Z",
     "iopub.status.idle": "2021-12-27T11:58:39.493592Z",
     "shell.execute_reply": "2021-12-27T11:58:39.493034Z",
     "shell.execute_reply.started": "2021-12-27T11:58:35.148172Z"
    },
    "tags": []
   },
   "outputs": [
    {
     "data": {
      "text/plain": [
       "0"
      ]
     },
     "execution_count": 2,
     "metadata": {},
     "output_type": "execute_result"
    }
   ],
   "source": [
    "#install developer snscrape package via command line\n",
    "os.system(\"pip3 install git+https://github.com/JustAnotherArchivist/snscrape.git\")"
   ]
  },
  {
   "cell_type": "markdown",
   "id": "aggressive-trustee",
   "metadata": {},
   "source": [
    "### Variables"
   ]
  },
  {
   "cell_type": "code",
   "execution_count": 3,
   "id": "continuous-melbourne",
   "metadata": {
    "execution": {
     "iopub.execute_input": "2021-12-27T11:58:39.494804Z",
     "iopub.status.busy": "2021-12-27T11:58:39.494573Z",
     "iopub.status.idle": "2021-12-27T11:58:39.499255Z",
     "shell.execute_reply": "2021-12-27T11:58:39.498750Z",
     "shell.execute_reply.started": "2021-12-27T11:58:39.494773Z"
    },
    "tags": []
   },
   "outputs": [],
   "source": [
    "#criteria for searching by username\n",
    "username = \"JupyterNaas\"\n",
    "tweet_count = 500"
   ]
  },
  {
   "cell_type": "markdown",
   "id": "9a1c63cf-9e67-4276-b461-e4a8bb2509dd",
   "metadata": {},
   "source": [
    "## Model "
   ]
  },
  {
   "cell_type": "markdown",
   "id": "abd83ba5-fdef-4258-b0eb-b99afe99abd4",
   "metadata": {
    "execution": {
     "iopub.execute_input": "2021-12-27T11:31:52.212556Z",
     "iopub.status.busy": "2021-12-27T11:31:52.212317Z",
     "iopub.status.idle": "2021-12-27T11:31:52.215233Z",
     "shell.execute_reply": "2021-12-27T11:31:52.214573Z",
     "shell.execute_reply.started": "2021-12-27T11:31:52.212532Z"
    }
   },
   "source": [
    "### Scrap and save results in JSON "
   ]
  },
  {
   "cell_type": "code",
   "execution_count": 4,
   "id": "04e05b45-824f-4742-8e21-fe053e387fec",
   "metadata": {
    "execution": {
     "iopub.execute_input": "2021-12-27T11:58:39.500451Z",
     "iopub.status.busy": "2021-12-27T11:58:39.500110Z",
     "iopub.status.idle": "2021-12-27T11:58:44.141801Z",
     "shell.execute_reply": "2021-12-27T11:58:44.141232Z",
     "shell.execute_reply.started": "2021-12-27T11:58:39.500421Z"
    },
    "tags": []
   },
   "outputs": [
    {
     "data": {
      "text/plain": [
       "0"
      ]
     },
     "execution_count": 4,
     "metadata": {},
     "output_type": "execute_result"
    }
   ],
   "source": [
    "#search by username using command line\n",
    "os.system(\"snscrape --jsonl --max-results {} twitter-search from:{} > user-tweets.json\".format(tweet_count, username))"
   ]
  },
  {
   "cell_type": "markdown",
   "id": "4ca72279-58b6-4ba5-b1ab-59ef06319c35",
   "metadata": {},
   "source": [
    "###  Read JSON"
   ]
  },
  {
   "cell_type": "code",
   "execution_count": 5,
   "id": "crude-louisville",
   "metadata": {
    "execution": {
     "iopub.execute_input": "2021-12-27T11:58:44.143069Z",
     "iopub.status.busy": "2021-12-27T11:58:44.142822Z",
     "iopub.status.idle": "2021-12-27T11:58:44.238376Z",
     "shell.execute_reply": "2021-12-27T11:58:44.237684Z",
     "shell.execute_reply.started": "2021-12-27T11:58:44.143040Z"
    },
    "papermill": {},
    "tags": []
   },
   "outputs": [
    {
     "data": {
      "text/html": [
       "<div>\n",
       "<style scoped>\n",
       "    .dataframe tbody tr th:only-of-type {\n",
       "        vertical-align: middle;\n",
       "    }\n",
       "\n",
       "    .dataframe tbody tr th {\n",
       "        vertical-align: top;\n",
       "    }\n",
       "\n",
       "    .dataframe thead th {\n",
       "        text-align: right;\n",
       "    }\n",
       "</style>\n",
       "<table border=\"1\" class=\"dataframe\">\n",
       "  <thead>\n",
       "    <tr style=\"text-align: right;\">\n",
       "      <th></th>\n",
       "      <th>_type</th>\n",
       "      <th>url</th>\n",
       "      <th>date</th>\n",
       "      <th>content</th>\n",
       "      <th>renderedContent</th>\n",
       "      <th>id</th>\n",
       "      <th>user</th>\n",
       "      <th>replyCount</th>\n",
       "      <th>retweetCount</th>\n",
       "      <th>likeCount</th>\n",
       "      <th>...</th>\n",
       "      <th>media</th>\n",
       "      <th>retweetedTweet</th>\n",
       "      <th>quotedTweet</th>\n",
       "      <th>inReplyToTweetId</th>\n",
       "      <th>inReplyToUser</th>\n",
       "      <th>mentionedUsers</th>\n",
       "      <th>coordinates</th>\n",
       "      <th>place</th>\n",
       "      <th>hashtags</th>\n",
       "      <th>cashtags</th>\n",
       "    </tr>\n",
       "  </thead>\n",
       "  <tbody>\n",
       "    <tr>\n",
       "      <th>0</th>\n",
       "      <td>snscrape.modules.twitter.Tweet</td>\n",
       "      <td>https://twitter.com/JupyterNaas/status/1471198...</td>\n",
       "      <td>2021-12-15 19:21:55+00:00</td>\n",
       "      <td>💚 https://t.co/CUObHEGNOR</td>\n",
       "      <td>💚 twitter.com/_himanshu_325/…</td>\n",
       "      <td>1471198857337974787</td>\n",
       "      <td>{'_type': 'snscrape.modules.twitter.User', 'us...</td>\n",
       "      <td>0</td>\n",
       "      <td>2</td>\n",
       "      <td>6</td>\n",
       "      <td>...</td>\n",
       "      <td>None</td>\n",
       "      <td>NaN</td>\n",
       "      <td>{'_type': 'snscrape.modules.twitter.Tweet', 'u...</td>\n",
       "      <td>NaN</td>\n",
       "      <td>None</td>\n",
       "      <td>None</td>\n",
       "      <td>NaN</td>\n",
       "      <td>NaN</td>\n",
       "      <td>None</td>\n",
       "      <td>NaN</td>\n",
       "    </tr>\n",
       "    <tr>\n",
       "      <th>1</th>\n",
       "      <td>snscrape.modules.twitter.Tweet</td>\n",
       "      <td>https://twitter.com/JupyterNaas/status/1468670...</td>\n",
       "      <td>2021-12-08 19:54:39+00:00</td>\n",
       "      <td>→ Check out our new @NotionHQ notebook templat...</td>\n",
       "      <td>→ Check out our new @NotionHQ notebook templat...</td>\n",
       "      <td>1468670377668886537</td>\n",
       "      <td>{'_type': 'snscrape.modules.twitter.User', 'us...</td>\n",
       "      <td>0</td>\n",
       "      <td>5</td>\n",
       "      <td>7</td>\n",
       "      <td>...</td>\n",
       "      <td>[{'_type': 'snscrape.modules.twitter.Photo', '...</td>\n",
       "      <td>NaN</td>\n",
       "      <td>None</td>\n",
       "      <td>NaN</td>\n",
       "      <td>None</td>\n",
       "      <td>[{'_type': 'snscrape.modules.twitter.User', 'u...</td>\n",
       "      <td>NaN</td>\n",
       "      <td>NaN</td>\n",
       "      <td>[lowcode, opensource]</td>\n",
       "      <td>NaN</td>\n",
       "    </tr>\n",
       "    <tr>\n",
       "      <th>2</th>\n",
       "      <td>snscrape.modules.twitter.Tweet</td>\n",
       "      <td>https://twitter.com/JupyterNaas/status/1465977...</td>\n",
       "      <td>2021-12-01 09:34:17+00:00</td>\n",
       "      <td>Come play with us ⚡️🌎💰 https://t.co/fraR9AMmgV</td>\n",
       "      <td>Come play with us ⚡️🌎💰 twitter.com/ravenel_jer...</td>\n",
       "      <td>1465977544059109376</td>\n",
       "      <td>{'_type': 'snscrape.modules.twitter.User', 'us...</td>\n",
       "      <td>0</td>\n",
       "      <td>0</td>\n",
       "      <td>1</td>\n",
       "      <td>...</td>\n",
       "      <td>None</td>\n",
       "      <td>NaN</td>\n",
       "      <td>{'_type': 'snscrape.modules.twitter.Tweet', 'u...</td>\n",
       "      <td>NaN</td>\n",
       "      <td>None</td>\n",
       "      <td>None</td>\n",
       "      <td>NaN</td>\n",
       "      <td>NaN</td>\n",
       "      <td>None</td>\n",
       "      <td>NaN</td>\n",
       "    </tr>\n",
       "    <tr>\n",
       "      <th>3</th>\n",
       "      <td>snscrape.modules.twitter.Tweet</td>\n",
       "      <td>https://twitter.com/JupyterNaas/status/1465964...</td>\n",
       "      <td>2021-12-01 08:43:57+00:00</td>\n",
       "      <td>@eddiejaoude There you go @eddiejaoude https:/...</td>\n",
       "      <td>@eddiejaoude There you go @eddiejaoude github....</td>\n",
       "      <td>1465964875830775814</td>\n",
       "      <td>{'_type': 'snscrape.modules.twitter.User', 'us...</td>\n",
       "      <td>0</td>\n",
       "      <td>0</td>\n",
       "      <td>1</td>\n",
       "      <td>...</td>\n",
       "      <td>None</td>\n",
       "      <td>NaN</td>\n",
       "      <td>None</td>\n",
       "      <td>1.465857e+18</td>\n",
       "      <td>{'_type': 'snscrape.modules.twitter.User', 'us...</td>\n",
       "      <td>[{'_type': 'snscrape.modules.twitter.User', 'u...</td>\n",
       "      <td>NaN</td>\n",
       "      <td>NaN</td>\n",
       "      <td>None</td>\n",
       "      <td>NaN</td>\n",
       "    </tr>\n",
       "    <tr>\n",
       "      <th>4</th>\n",
       "      <td>snscrape.modules.twitter.Tweet</td>\n",
       "      <td>https://twitter.com/JupyterNaas/status/1465606...</td>\n",
       "      <td>2021-11-30 09:00:01+00:00</td>\n",
       "      <td>@Progi1984 @DFintelligence @martindonadieu Une...</td>\n",
       "      <td>@Progi1984 @DFintelligence @martindonadieu Une...</td>\n",
       "      <td>1465606531337138179</td>\n",
       "      <td>{'_type': 'snscrape.modules.twitter.User', 'us...</td>\n",
       "      <td>1</td>\n",
       "      <td>0</td>\n",
       "      <td>2</td>\n",
       "      <td>...</td>\n",
       "      <td>None</td>\n",
       "      <td>NaN</td>\n",
       "      <td>None</td>\n",
       "      <td>1.465603e+18</td>\n",
       "      <td>{'_type': 'snscrape.modules.twitter.User', 'us...</td>\n",
       "      <td>[{'_type': 'snscrape.modules.twitter.User', 'u...</td>\n",
       "      <td>NaN</td>\n",
       "      <td>NaN</td>\n",
       "      <td>None</td>\n",
       "      <td>NaN</td>\n",
       "    </tr>\n",
       "    <tr>\n",
       "      <th>...</th>\n",
       "      <td>...</td>\n",
       "      <td>...</td>\n",
       "      <td>...</td>\n",
       "      <td>...</td>\n",
       "      <td>...</td>\n",
       "      <td>...</td>\n",
       "      <td>...</td>\n",
       "      <td>...</td>\n",
       "      <td>...</td>\n",
       "      <td>...</td>\n",
       "      <td>...</td>\n",
       "      <td>...</td>\n",
       "      <td>...</td>\n",
       "      <td>...</td>\n",
       "      <td>...</td>\n",
       "      <td>...</td>\n",
       "      <td>...</td>\n",
       "      <td>...</td>\n",
       "      <td>...</td>\n",
       "      <td>...</td>\n",
       "      <td>...</td>\n",
       "    </tr>\n",
       "    <tr>\n",
       "      <th>123</th>\n",
       "      <td>snscrape.modules.twitter.Tweet</td>\n",
       "      <td>https://twitter.com/JupyterNaas/status/1329690...</td>\n",
       "      <td>2020-11-20 07:38:16+00:00</td>\n",
       "      <td>Last day of our Launch Week on @ProductHunt. I...</td>\n",
       "      <td>Last day of our Launch Week on @ProductHunt. I...</td>\n",
       "      <td>1329690510664065025</td>\n",
       "      <td>{'_type': 'snscrape.modules.twitter.User', 'us...</td>\n",
       "      <td>0</td>\n",
       "      <td>0</td>\n",
       "      <td>1</td>\n",
       "      <td>...</td>\n",
       "      <td>None</td>\n",
       "      <td>NaN</td>\n",
       "      <td>None</td>\n",
       "      <td>NaN</td>\n",
       "      <td>None</td>\n",
       "      <td>[{'_type': 'snscrape.modules.twitter.User', 'u...</td>\n",
       "      <td>NaN</td>\n",
       "      <td>NaN</td>\n",
       "      <td>None</td>\n",
       "      <td>NaN</td>\n",
       "    </tr>\n",
       "    <tr>\n",
       "      <th>124</th>\n",
       "      <td>snscrape.modules.twitter.Tweet</td>\n",
       "      <td>https://twitter.com/JupyterNaas/status/1329160...</td>\n",
       "      <td>2020-11-18 20:33:34+00:00</td>\n",
       "      <td>@DennisCode @martindonadieu  how awesome?</td>\n",
       "      <td>@DennisCode @martindonadieu  how awesome?</td>\n",
       "      <td>1329160842957516802</td>\n",
       "      <td>{'_type': 'snscrape.modules.twitter.User', 'us...</td>\n",
       "      <td>0</td>\n",
       "      <td>0</td>\n",
       "      <td>0</td>\n",
       "      <td>...</td>\n",
       "      <td>None</td>\n",
       "      <td>NaN</td>\n",
       "      <td>None</td>\n",
       "      <td>1.327855e+18</td>\n",
       "      <td>{'_type': 'snscrape.modules.twitter.User', 'us...</td>\n",
       "      <td>[{'_type': 'snscrape.modules.twitter.User', 'u...</td>\n",
       "      <td>NaN</td>\n",
       "      <td>NaN</td>\n",
       "      <td>None</td>\n",
       "      <td>NaN</td>\n",
       "    </tr>\n",
       "    <tr>\n",
       "      <th>125</th>\n",
       "      <td>snscrape.modules.twitter.Tweet</td>\n",
       "      <td>https://twitter.com/JupyterNaas/status/1329160...</td>\n",
       "      <td>2020-11-18 20:32:53+00:00</td>\n",
       "      <td>@ember_crooks @ember_crooks  too bad we missed...</td>\n",
       "      <td>@ember_crooks @ember_crooks  too bad we missed...</td>\n",
       "      <td>1329160670399639559</td>\n",
       "      <td>{'_type': 'snscrape.modules.twitter.User', 'us...</td>\n",
       "      <td>0</td>\n",
       "      <td>0</td>\n",
       "      <td>1</td>\n",
       "      <td>...</td>\n",
       "      <td>None</td>\n",
       "      <td>NaN</td>\n",
       "      <td>None</td>\n",
       "      <td>1.328987e+18</td>\n",
       "      <td>{'_type': 'snscrape.modules.twitter.User', 'us...</td>\n",
       "      <td>[{'_type': 'snscrape.modules.twitter.User', 'u...</td>\n",
       "      <td>NaN</td>\n",
       "      <td>NaN</td>\n",
       "      <td>None</td>\n",
       "      <td>NaN</td>\n",
       "    </tr>\n",
       "    <tr>\n",
       "      <th>126</th>\n",
       "      <td>snscrape.modules.twitter.Tweet</td>\n",
       "      <td>https://twitter.com/JupyterNaas/status/1329160...</td>\n",
       "      <td>2020-11-18 20:32:01+00:00</td>\n",
       "      <td>@iamtony_97 :)</td>\n",
       "      <td>@iamtony_97 :)</td>\n",
       "      <td>1329160453306642433</td>\n",
       "      <td>{'_type': 'snscrape.modules.twitter.User', 'us...</td>\n",
       "      <td>0</td>\n",
       "      <td>0</td>\n",
       "      <td>1</td>\n",
       "      <td>...</td>\n",
       "      <td>None</td>\n",
       "      <td>NaN</td>\n",
       "      <td>None</td>\n",
       "      <td>1.329056e+18</td>\n",
       "      <td>{'_type': 'snscrape.modules.twitter.User', 'us...</td>\n",
       "      <td>[{'_type': 'snscrape.modules.twitter.User', 'u...</td>\n",
       "      <td>NaN</td>\n",
       "      <td>NaN</td>\n",
       "      <td>None</td>\n",
       "      <td>NaN</td>\n",
       "    </tr>\n",
       "    <tr>\n",
       "      <th>127</th>\n",
       "      <td>snscrape.modules.twitter.Tweet</td>\n",
       "      <td>https://twitter.com/JupyterNaas/status/1329160...</td>\n",
       "      <td>2020-11-18 20:30:44+00:00</td>\n",
       "      <td>@chrismessina BTC :)</td>\n",
       "      <td>@chrismessina BTC :)</td>\n",
       "      <td>1329160131502874625</td>\n",
       "      <td>{'_type': 'snscrape.modules.twitter.User', 'us...</td>\n",
       "      <td>0</td>\n",
       "      <td>0</td>\n",
       "      <td>0</td>\n",
       "      <td>...</td>\n",
       "      <td>None</td>\n",
       "      <td>NaN</td>\n",
       "      <td>None</td>\n",
       "      <td>1.328949e+18</td>\n",
       "      <td>{'_type': 'snscrape.modules.twitter.User', 'us...</td>\n",
       "      <td>[{'_type': 'snscrape.modules.twitter.User', 'u...</td>\n",
       "      <td>NaN</td>\n",
       "      <td>NaN</td>\n",
       "      <td>None</td>\n",
       "      <td>NaN</td>\n",
       "    </tr>\n",
       "  </tbody>\n",
       "</table>\n",
       "<p>128 rows × 28 columns</p>\n",
       "</div>"
      ],
      "text/plain": [
       "                              _type  \\\n",
       "0    snscrape.modules.twitter.Tweet   \n",
       "1    snscrape.modules.twitter.Tweet   \n",
       "2    snscrape.modules.twitter.Tweet   \n",
       "3    snscrape.modules.twitter.Tweet   \n",
       "4    snscrape.modules.twitter.Tweet   \n",
       "..                              ...   \n",
       "123  snscrape.modules.twitter.Tweet   \n",
       "124  snscrape.modules.twitter.Tweet   \n",
       "125  snscrape.modules.twitter.Tweet   \n",
       "126  snscrape.modules.twitter.Tweet   \n",
       "127  snscrape.modules.twitter.Tweet   \n",
       "\n",
       "                                                   url  \\\n",
       "0    https://twitter.com/JupyterNaas/status/1471198...   \n",
       "1    https://twitter.com/JupyterNaas/status/1468670...   \n",
       "2    https://twitter.com/JupyterNaas/status/1465977...   \n",
       "3    https://twitter.com/JupyterNaas/status/1465964...   \n",
       "4    https://twitter.com/JupyterNaas/status/1465606...   \n",
       "..                                                 ...   \n",
       "123  https://twitter.com/JupyterNaas/status/1329690...   \n",
       "124  https://twitter.com/JupyterNaas/status/1329160...   \n",
       "125  https://twitter.com/JupyterNaas/status/1329160...   \n",
       "126  https://twitter.com/JupyterNaas/status/1329160...   \n",
       "127  https://twitter.com/JupyterNaas/status/1329160...   \n",
       "\n",
       "                         date  \\\n",
       "0   2021-12-15 19:21:55+00:00   \n",
       "1   2021-12-08 19:54:39+00:00   \n",
       "2   2021-12-01 09:34:17+00:00   \n",
       "3   2021-12-01 08:43:57+00:00   \n",
       "4   2021-11-30 09:00:01+00:00   \n",
       "..                        ...   \n",
       "123 2020-11-20 07:38:16+00:00   \n",
       "124 2020-11-18 20:33:34+00:00   \n",
       "125 2020-11-18 20:32:53+00:00   \n",
       "126 2020-11-18 20:32:01+00:00   \n",
       "127 2020-11-18 20:30:44+00:00   \n",
       "\n",
       "                                               content  \\\n",
       "0                            💚 https://t.co/CUObHEGNOR   \n",
       "1    → Check out our new @NotionHQ notebook templat...   \n",
       "2       Come play with us ⚡️🌎💰 https://t.co/fraR9AMmgV   \n",
       "3    @eddiejaoude There you go @eddiejaoude https:/...   \n",
       "4    @Progi1984 @DFintelligence @martindonadieu Une...   \n",
       "..                                                 ...   \n",
       "123  Last day of our Launch Week on @ProductHunt. I...   \n",
       "124          @DennisCode @martindonadieu  how awesome?   \n",
       "125  @ember_crooks @ember_crooks  too bad we missed...   \n",
       "126                                     @iamtony_97 :)   \n",
       "127                               @chrismessina BTC :)   \n",
       "\n",
       "                                       renderedContent                   id  \\\n",
       "0                        💚 twitter.com/_himanshu_325/…  1471198857337974787   \n",
       "1    → Check out our new @NotionHQ notebook templat...  1468670377668886537   \n",
       "2    Come play with us ⚡️🌎💰 twitter.com/ravenel_jer...  1465977544059109376   \n",
       "3    @eddiejaoude There you go @eddiejaoude github....  1465964875830775814   \n",
       "4    @Progi1984 @DFintelligence @martindonadieu Une...  1465606531337138179   \n",
       "..                                                 ...                  ...   \n",
       "123  Last day of our Launch Week on @ProductHunt. I...  1329690510664065025   \n",
       "124          @DennisCode @martindonadieu  how awesome?  1329160842957516802   \n",
       "125  @ember_crooks @ember_crooks  too bad we missed...  1329160670399639559   \n",
       "126                                     @iamtony_97 :)  1329160453306642433   \n",
       "127                               @chrismessina BTC :)  1329160131502874625   \n",
       "\n",
       "                                                  user  replyCount  \\\n",
       "0    {'_type': 'snscrape.modules.twitter.User', 'us...           0   \n",
       "1    {'_type': 'snscrape.modules.twitter.User', 'us...           0   \n",
       "2    {'_type': 'snscrape.modules.twitter.User', 'us...           0   \n",
       "3    {'_type': 'snscrape.modules.twitter.User', 'us...           0   \n",
       "4    {'_type': 'snscrape.modules.twitter.User', 'us...           1   \n",
       "..                                                 ...         ...   \n",
       "123  {'_type': 'snscrape.modules.twitter.User', 'us...           0   \n",
       "124  {'_type': 'snscrape.modules.twitter.User', 'us...           0   \n",
       "125  {'_type': 'snscrape.modules.twitter.User', 'us...           0   \n",
       "126  {'_type': 'snscrape.modules.twitter.User', 'us...           0   \n",
       "127  {'_type': 'snscrape.modules.twitter.User', 'us...           0   \n",
       "\n",
       "     retweetCount  likeCount  ...  \\\n",
       "0               2          6  ...   \n",
       "1               5          7  ...   \n",
       "2               0          1  ...   \n",
       "3               0          1  ...   \n",
       "4               0          2  ...   \n",
       "..            ...        ...  ...   \n",
       "123             0          1  ...   \n",
       "124             0          0  ...   \n",
       "125             0          1  ...   \n",
       "126             0          1  ...   \n",
       "127             0          0  ...   \n",
       "\n",
       "                                                 media  retweetedTweet  \\\n",
       "0                                                 None             NaN   \n",
       "1    [{'_type': 'snscrape.modules.twitter.Photo', '...             NaN   \n",
       "2                                                 None             NaN   \n",
       "3                                                 None             NaN   \n",
       "4                                                 None             NaN   \n",
       "..                                                 ...             ...   \n",
       "123                                               None             NaN   \n",
       "124                                               None             NaN   \n",
       "125                                               None             NaN   \n",
       "126                                               None             NaN   \n",
       "127                                               None             NaN   \n",
       "\n",
       "                                           quotedTweet inReplyToTweetId  \\\n",
       "0    {'_type': 'snscrape.modules.twitter.Tweet', 'u...              NaN   \n",
       "1                                                 None              NaN   \n",
       "2    {'_type': 'snscrape.modules.twitter.Tweet', 'u...              NaN   \n",
       "3                                                 None     1.465857e+18   \n",
       "4                                                 None     1.465603e+18   \n",
       "..                                                 ...              ...   \n",
       "123                                               None              NaN   \n",
       "124                                               None     1.327855e+18   \n",
       "125                                               None     1.328987e+18   \n",
       "126                                               None     1.329056e+18   \n",
       "127                                               None     1.328949e+18   \n",
       "\n",
       "                                         inReplyToUser  \\\n",
       "0                                                 None   \n",
       "1                                                 None   \n",
       "2                                                 None   \n",
       "3    {'_type': 'snscrape.modules.twitter.User', 'us...   \n",
       "4    {'_type': 'snscrape.modules.twitter.User', 'us...   \n",
       "..                                                 ...   \n",
       "123                                               None   \n",
       "124  {'_type': 'snscrape.modules.twitter.User', 'us...   \n",
       "125  {'_type': 'snscrape.modules.twitter.User', 'us...   \n",
       "126  {'_type': 'snscrape.modules.twitter.User', 'us...   \n",
       "127  {'_type': 'snscrape.modules.twitter.User', 'us...   \n",
       "\n",
       "                                        mentionedUsers coordinates place  \\\n",
       "0                                                 None         NaN   NaN   \n",
       "1    [{'_type': 'snscrape.modules.twitter.User', 'u...         NaN   NaN   \n",
       "2                                                 None         NaN   NaN   \n",
       "3    [{'_type': 'snscrape.modules.twitter.User', 'u...         NaN   NaN   \n",
       "4    [{'_type': 'snscrape.modules.twitter.User', 'u...         NaN   NaN   \n",
       "..                                                 ...         ...   ...   \n",
       "123  [{'_type': 'snscrape.modules.twitter.User', 'u...         NaN   NaN   \n",
       "124  [{'_type': 'snscrape.modules.twitter.User', 'u...         NaN   NaN   \n",
       "125  [{'_type': 'snscrape.modules.twitter.User', 'u...         NaN   NaN   \n",
       "126  [{'_type': 'snscrape.modules.twitter.User', 'u...         NaN   NaN   \n",
       "127  [{'_type': 'snscrape.modules.twitter.User', 'u...         NaN   NaN   \n",
       "\n",
       "                  hashtags  cashtags  \n",
       "0                     None       NaN  \n",
       "1    [lowcode, opensource]       NaN  \n",
       "2                     None       NaN  \n",
       "3                     None       NaN  \n",
       "4                     None       NaN  \n",
       "..                     ...       ...  \n",
       "123                   None       NaN  \n",
       "124                   None       NaN  \n",
       "125                   None       NaN  \n",
       "126                   None       NaN  \n",
       "127                   None       NaN  \n",
       "\n",
       "[128 rows x 28 columns]"
      ]
     },
     "execution_count": 5,
     "metadata": {},
     "output_type": "execute_result"
    }
   ],
   "source": [
    "# Reads the json generated from the CLI command above and creates a pandas dataframe\n",
    "df = pd.read_json('user-tweets.json', lines=True, convert_dates=True, keep_default_dates=True)\n",
    "df"
   ]
  },
  {
   "cell_type": "markdown",
   "id": "d2139068-c21e-40bc-b09f-4ce4e13cff13",
   "metadata": {},
   "source": [
    "### Clean dataframe to keep only necessary columns"
   ]
  },
  {
   "cell_type": "markdown",
   "id": "82103dc0-1d11-4c29-b42f-43282fcc4ac7",
   "metadata": {},
   "source": [
    "- URL\n",
    "- TITLE\n",
    "- CONTENT\n",
    "- HASTAGS\n",
    "- DATE\n",
    "- LIKES\n",
    "- RETWEETS"
   ]
  },
  {
   "cell_type": "code",
   "execution_count": 11,
   "id": "55ca7b27-8ad3-469d-9c3a-408700026d4f",
   "metadata": {
    "execution": {
     "iopub.execute_input": "2021-12-27T12:05:00.785698Z",
     "iopub.status.busy": "2021-12-27T12:05:00.785454Z",
     "iopub.status.idle": "2021-12-27T12:05:00.800014Z",
     "shell.execute_reply": "2021-12-27T12:05:00.799298Z",
     "shell.execute_reply.started": "2021-12-27T12:05:00.785674Z"
    },
    "tags": []
   },
   "outputs": [],
   "source": [
    "#copy dataframe \n",
    "df1 = df.copy()\n",
    "\n",
    "#keep only the columns needed\n",
    "df1 = df1[['url','content','hashtags','date','likeCount','retweetCount']]\n",
    "\n",
    "#convert columns to upper case to follow naas df convention\n",
    "df1.columns = df1.columns.str.upper()\n",
    "\n",
    "#convert time to ISO format to follow naas date convention\n",
    "df1.DATE = pd.to_datetime(df1.DATE).dt.strftime(\"%Y-%m-%d\")\n",
    "\n",
    "#clean HASHTAGS column to provide searchable items in columns\n",
    "df1.HASHTAGS = df1.HASHTAGS.fillna(\"[]\")\n",
    "df1.HASHTAGS = df1.apply(lambda row: \", \".join(list(row.HASHTAGS)) if row.HASHTAGS != '[]' else \"\", axis=1)\n",
    "\n",
    "#display results\n",
    "df1"
   ]
  },
  {
   "cell_type": "markdown",
   "id": "lonely-pacific",
   "metadata": {
    "execution": {
     "iopub.execute_input": "2021-07-02T23:32:10.789097Z",
     "iopub.status.busy": "2021-07-02T23:32:10.788829Z",
     "iopub.status.idle": "2021-07-02T23:32:10.796900Z",
     "shell.execute_reply": "2021-07-02T23:32:10.796358Z",
     "shell.execute_reply.started": "2021-07-02T23:32:10.789033Z"
    }
   },
   "source": [
    "## Output"
   ]
  },
  {
   "cell_type": "markdown",
   "id": "bca2cbca-c670-4522-a9e8-ac870034bf37",
   "metadata": {
    "execution": {
     "iopub.execute_input": "2021-12-27T12:02:18.338913Z",
     "iopub.status.busy": "2021-12-27T12:02:18.338669Z",
     "iopub.status.idle": "2021-12-27T12:02:18.341768Z",
     "shell.execute_reply": "2021-12-27T12:02:18.341087Z",
     "shell.execute_reply.started": "2021-12-27T12:02:18.338889Z"
    },
    "tags": []
   },
   "source": [
    "### Save to df"
   ]
  },
  {
   "cell_type": "code",
   "execution_count": 8,
   "id": "275fa6c6-490d-4912-9662-a298186cca29",
   "metadata": {
    "execution": {
     "iopub.execute_input": "2021-12-27T11:58:44.382525Z",
     "iopub.status.busy": "2021-12-27T11:58:44.382287Z",
     "iopub.status.idle": "2021-12-27T11:58:44.542859Z",
     "shell.execute_reply": "2021-12-27T11:58:44.542267Z",
     "shell.execute_reply.started": "2021-12-27T11:58:44.382495Z"
    },
    "tags": []
   },
   "outputs": [],
   "source": [
    "df1.to_csv(\"tweets_from_URL.csv\", index=False)"
   ]
  }
 ],
 "metadata": {
  "kernelspec": {
   "display_name": "Python 3",
   "language": "python",
   "name": "python3"
  },
  "language_info": {
   "codemirror_mode": {
    "name": "ipython",
    "version": 3
   },
   "file_extension": ".py",
   "mimetype": "text/x-python",
   "name": "python",
   "nbconvert_exporter": "python",
   "pygments_lexer": "ipython3",
   "version": "3.8.8"
  },
  "papermill": {
   "default_parameters": {},
   "environment_variables": {},
   "parameters": {},
   "version": "2.3.3"
  },
  "widgets": {
   "application/vnd.jupyter.widget-state+json": {
    "state": {},
    "version_major": 2,
    "version_minor": 0
   }
  }
 },
 "nbformat": 4,
 "nbformat_minor": 5
}
