{
 "cells": [
  {
   "cell_type": "markdown",
   "id": "b2199c49-58e5-4609-8983-030e92d10b1d",
   "metadata": {
    "papermill": {},
    "tags": []
   },
   "source": [
    "<img width=\"10%\" alt=\"Naas\" src=\"https://landen.imgix.net/jtci2pxwjczr/assets/5ice39g4.png?w=160\"/>"
   ]
  },
  {
   "cell_type": "markdown",
   "id": "03f025e8-7ac1-4b3c-9acb-9b93761a4a16",
   "metadata": {
    "papermill": {},
    "tags": []
   },
   "source": [
    "# Twitter - Get followers list"
   ]
  },
  {
   "cell_type": "markdown",
   "id": "cf70995a-ff4d-42b3-8143-15f02baceb1e",
   "metadata": {
    "papermill": {},
    "tags": []
   },
   "source": [
    "**Tags:** #twitter #api #followers #list #get #developer"
   ]
  },
  {
   "cell_type": "markdown",
   "id": "660aa481-3959-492f-bfb6-863f239e29ec",
   "metadata": {
    "papermill": {},
    "tags": []
   },
   "source": [
    "**Author:** [Sriniketh Jayasendil](https://www.linkedin.com/in/sriniketh-jayasendil/)"
   ]
  },
  {
   "cell_type": "markdown",
   "id": "a3730abc-a1c2-4931-8a20-36608b64d47a",
   "metadata": {
    "papermill": {},
    "tags": []
   },
   "source": [
    "**Description:** This notebook will demonstrate how to get a list of followers from Twitter using the API. It is useful for organizations to track their followers and analyze their data."
   ]
  },
  {
   "cell_type": "markdown",
   "id": "5639e484-7e40-46ac-b7a5-bca4ea8d658d",
   "metadata": {
    "papermill": {},
    "tags": []
   },
   "source": [
    "**References:**\n- [Twitter API Documentation](https://developer.twitter.com/en/docs/twitter-api/v1/accounts-and-users/follow-search-get-users/api-reference/get-followers-list)\n- [Twitter API Authentication](https://developer.twitter.com/en/docs/basics/authentication/guides/access-tokens)"
   ]
  },
  {
   "cell_type": "markdown",
   "id": "bb171698-a0f0-42ba-930c-a603dd87bef8",
   "metadata": {
    "papermill": {},
    "tags": []
   },
   "source": [
    "## Input"
   ]
  },
  {
   "cell_type": "markdown",
   "id": "21208736-6232-40bf-9113-8e8b0d296215",
   "metadata": {
    "papermill": {},
    "tags": []
   },
   "source": [
    "### Import libraries"
   ]
  },
  {
   "cell_type": "code",
   "execution_count": null,
   "id": "d657be74-080e-4012-ae6e-c084f0c24549",
   "metadata": {
    "papermill": {},
    "tags": []
   },
   "source": "import requests\nimport json",
   "outputs": []
  },
  {
   "cell_type": "markdown",
   "id": "77db52ed-7910-418b-8e06-375729754b5e",
   "metadata": {
    "papermill": {},
    "tags": []
   },
   "source": [
    "### Setup Variables\n- **API_KEY**: [Twitter API Key](https://developer.twitter.com/en/docs/basics/authentication/guides/access-tokens)\n- **API_SECRET**: [Twitter API Secret](https://developer.twitter.com/en/docs/basics/authentication/guides/access-tokens)\n- **USER_ID**: Twitter user ID"
   ]
  },
  {
   "cell_type": "markdown",
   "id": "dd3b8ca6-32b6-450e-97d1-9ee53d5c270b",
   "metadata": {
    "papermill": {},
    "tags": []
   },
   "source": [
    "## Model"
   ]
  },
  {
   "cell_type": "markdown",
   "id": "89d0acb8-fba6-4411-a9ea-c5548d279acc",
   "metadata": {
    "papermill": {},
    "tags": []
   },
   "source": [
    "### Get followers list"
   ]
  },
  {
   "cell_type": "markdown",
   "id": "aa14f424-fd14-4e03-adac-a22ee05e04bb",
   "metadata": {
    "papermill": {},
    "tags": []
   },
   "source": [
    "This function will use the Twitter API to get a list of followers for a given user ID."
   ]
  },
  {
   "cell_type": "code",
   "execution_count": null,
   "id": "130c24b7-e646-4552-a97f-07efe7beae8a",
   "metadata": {
    "papermill": {},
    "tags": []
   },
   "source": "def get_followers_list(api_key, api_secret, user_id):\n    # Get the bearer token\n    bearer_token_credentials = f\"{api_key}:{api_secret}\"\n    bearer_token_credentials_b64 = base64.b64encode(\n        bearer_token_credentials.encode(\"ascii\")\n    ).decode(\"ascii\")\n    headers = {\"Authorization\": f\"Basic {bearer_token_credentials_b64}\"}\n    response = requests.post(\n        \"https://api.twitter.com/oauth2/token\",\n        headers=headers,\n        data={\"grant_type\": \"client_credentials\"},\n    )\n    bearer_token = response.json()[\"access_token\"]\n    # Get the followers list\n    headers = {\"Authorization\": f\"Bearer {bearer_token}\"}\n    response = requests.get(\n        f\"https://api.twitter.com/1.1/followers/list.json?user_id={user_id}\",\n        headers=headers,\n    )\n    followers_list = response.json()[\"users\"]\n    return followers_list",
   "outputs": []
  },
  {
   "cell_type": "markdown",
   "id": "57d4f09a-ee16-4a85-9936-9790969b4501",
   "metadata": {
    "papermill": {},
    "tags": []
   },
   "source": [
    "## Output"
   ]
  },
  {
   "cell_type": "markdown",
   "id": "3c846a71-db21-4354-9c80-3082421aba46",
   "metadata": {
    "papermill": {},
    "tags": []
   },
   "source": [
    "### Display result"
   ]
  },
  {
   "cell_type": "code",
   "execution_count": null,
   "id": "89b1762d-d8f1-466b-a4ac-da3de72ce8d2",
   "metadata": {
    "papermill": {},
    "tags": []
   },
   "source": "followers_list = get_followers_list(API_KEY, API_SECRET, USER_ID)\nprint(followers_list)",
   "outputs": []
  }
 ],
 "metadata": {
  "kernelspec": {
   "display_name": "Python 3",
   "language": "python",
   "name": "python3"
  },
  "language_info": {
   "codemirror_mode": {
    "name": "ipython",
    "version": 3
   },
   "file_extension": ".py",
   "mimetype": "text/x-python",
   "name": "python",
   "nbconvert_exporter": "python",
   "pygments_lexer": "ipython3",
   "version": "3.9.6"
  },
  "widgets": {
   "application/vnd.jupyter.widget-state+json": {
    "state": {},
    "version_major": 2,
    "version_minor": 0
   }
  }
 },
 "nbformat": 4,
 "nbformat_minor": 5
}