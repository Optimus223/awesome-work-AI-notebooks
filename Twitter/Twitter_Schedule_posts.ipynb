{
 "cells": [
  {
   "cell_type": "markdown",
   "id": "competent-physics",
   "metadata": {
    "papermill": {},
    "tags": []
   },
   "source": [
    "# Twitter - Schedule posts\n",
    "<a href=\"https://app.naas.ai/user-redirect/naas/downloader?url=https://raw.githubusercontent.com/jupyter-naas/awesome-notebooks/master/Twitter/Twitter_Schedule_posts.ipynb\" target=\"_parent\"><img src=\"https://img.shields.io/badge/-Open%20in%20Naas-success?labelColor=000000&logo=data:image/svg+xml;base64,PD94bWwgdmVyc2lvbj0iMS4wIiBlbmNvZGluZz0iVVRGLTgiPz4KPHN2ZyB3aWR0aD0iMTAyNHB4IiBoZWlnaHQ9IjEwMjRweCIgdmlld0JveD0iMCAwIDEwMjQgMTAyNCIgeG1sbnM9Imh0dHA6Ly93d3cudzMub3JnLzIwMDAvc3ZnIiB4bWxuczp4bGluaz0iaHR0cDovL3d3dy53My5vcmcvMTk5OS94bGluayIgdmVyc2lvbj0iMS4xIj4KIDwhLS0gR2VuZXJhdGVkIGJ5IFBpeGVsbWF0b3IgUHJvIDIuMC41IC0tPgogPGRlZnM+CiAgPHRleHQgaWQ9InN0cmluZyIgdHJhbnNmb3JtPSJtYXRyaXgoMS4wIDAuMCAwLjAgMS4wIDIyOC4wIDU0LjUpIiBmb250LWZhbWlseT0iQ29tZm9ydGFhLVJlZ3VsYXIsIENvbWZvcnRhYSIgZm9udC1zaXplPSI4MDAiIHRleHQtZGVjb3JhdGlvbj0ibm9uZSIgZmlsbD0iI2ZmZmZmZiIgeD0iMS4xOTk5OTk5OTk5OTk5ODg2IiB5PSI3MDUuMCI+bjwvdGV4dD4KIDwvZGVmcz4KIDx1c2UgaWQ9Im4iIHhsaW5rOmhyZWY9IiNzdHJpbmciLz4KPC9zdmc+Cg==\"/></a>"
   ]
  },
  {
   "cell_type": "markdown",
   "id": "18bbe6f9-a1c6-483f-bdd4-583ef3e4ff1a",
   "metadata": {
    "papermill": {},
    "tags": []
   },
   "source": [
    "**Tags:** #twitter #automation #ifttt #naas_drivers"
   ]
  },
  {
   "cell_type": "markdown",
   "id": "input_cell",
   "metadata": {
    "papermill": {},
    "tags": []
   },
   "source": [
    "## Input"
   ]
  },
  {
   "cell_type": "markdown",
   "id": "import_cell",
   "metadata": {
    "papermill": {},
    "tags": []
   },
   "source": [
    "### Import library"
   ]
  },
  {
   "cell_type": "code",
   "execution_count": null,
   "id": "infinite-parent",
   "metadata": {
    "papermill": {},
    "tags": []
   },
   "outputs": [],
   "source": [
    "from datetime import datetime\n",
    "import naas_drivers\n",
    "import naas"
   ]
  },
  {
   "cell_type": "markdown",
   "id": "62be8440-2725-44d6-9d8e-2d0ea4065802",
   "metadata": {
    "papermill": {},
    "tags": []
   },
   "source": [
    "### Variables"
   ]
  },
  {
   "cell_type": "code",
   "execution_count": null,
   "id": "b5e0d323-b4ec-4c48-bc7a-860bf057fb7a",
   "metadata": {
    "papermill": {},
    "tags": []
   },
   "outputs": [],
   "source": [
    "spreadsheet_id = \"1rFzw8eeVNXyD5CEUjnpxVn_iA2hzabYKU6pRdmnZ3FQ\""
   ]
  },
  {
   "cell_type": "markdown",
   "id": "model_cell",
   "metadata": {
    "papermill": {},
    "tags": []
   },
   "source": [
    "## Model"
   ]
  },
  {
   "cell_type": "markdown",
   "id": "welcome-geneva",
   "metadata": {
    "papermill": {},
    "tags": []
   },
   "source": [
    "### Get data from Gsheet"
   ]
  },
  {
   "cell_type": "code",
   "execution_count": null,
   "id": "55e95c1a-3ac5-4395-adcd-d65a618604b3",
   "metadata": {
    "papermill": {},
    "tags": []
   },
   "outputs": [],
   "source": [
    "df = naas_drivers.gsheet.connect(spreadsheet_id).get(\n",
    "    sheet_name=\"Sheet1\"\n",
    ")\n",
    "df"
   ]
  },
  {
   "cell_type": "markdown",
   "id": "convertible-number",
   "metadata": {
    "papermill": {},
    "tags": []
   },
   "source": [
    "### Get current date and time details"
   ]
  },
  {
   "cell_type": "code",
   "execution_count": null,
   "id": "expanded-fifty",
   "metadata": {
    "papermill": {},
    "tags": []
   },
   "outputs": [],
   "source": [
    "now = datetime.now().replace(second=0, microsecond=0) #the Naas scheduler only allow minutes\n",
    "now"
   ]
  },
  {
   "cell_type": "code",
   "execution_count": null,
   "id": "opened-possible",
   "metadata": {
    "papermill": {},
    "tags": []
   },
   "outputs": [],
   "source": [
    "# dd/mm/YY H:M:S\n",
    "dt_string = now.strftime(\"%d/%m/%Y %H:%M:%S\") # To mach date time format in google sheet\n",
    "dt_string"
   ]
  },
  {
   "cell_type": "markdown",
   "id": "existing-judge",
   "metadata": {
    "papermill": {},
    "tags": []
   },
   "source": [
    "### Schedule check every minute\n",
    "If BROADCAST_DATE matches the current time then send twit from text column."
   ]
  },
  {
   "cell_type": "code",
   "execution_count": null,
   "id": "behind-launch",
   "metadata": {
    "papermill": {},
    "tags": []
   },
   "outputs": [],
   "source": [
    "#naas.scheduler.delete()\n",
    "naas.scheduler.add(recurrence=\"* * * * *\") # to run every minute"
   ]
  },
  {
   "cell_type": "markdown",
   "id": "output_cell",
   "metadata": {
    "papermill": {},
    "tags": []
   },
   "source": [
    "## Output"
   ]
  },
  {
   "cell_type": "markdown",
   "id": "useful-handling",
   "metadata": {
    "papermill": {},
    "tags": []
   },
   "source": [
    "### If current date and column date in Gsheet matches then post"
   ]
  },
  {
   "cell_type": "code",
   "execution_count": null,
   "id": "sound-learning",
   "metadata": {
    "papermill": {},
    "tags": []
   },
   "outputs": [],
   "source": [
    "for i in range(len(df)):\n",
    "    print(dt_string, df['BROADCAST_DATE'][i])\n",
    "    if dt_string == df['BROADCAST_DATE'][i]:\n",
    "        twitter_post = df['TEXT'][i]\n",
    "        event = \"naas_demo\"\n",
    "        key = \"ke4AigvXI5-EABaowdLt4fju1aOUxeMxSXQoN8FVyA\"\n",
    "        data = { \"value1\": twitter_post }\n",
    "        result = naas_drivers.ifttt.connect(key).send(event, data)   "
   ]
  }
 ],
 "metadata": {
  "kernelspec": {
   "display_name": "Python 3",
   "language": "python",
   "name": "python3"
  },
  "language_info": {
   "codemirror_mode": {
    "name": "ipython",
    "version": 3
   },
   "file_extension": ".py",
   "mimetype": "text/x-python",
   "name": "python",
   "nbconvert_exporter": "python",
   "pygments_lexer": "ipython3",
   "version": "3.8.8"
  },
  "papermill": {
   "default_parameters": {},
   "environment_variables": {},
   "parameters": {},
   "version": "2.3.3"
  }
 },
 "nbformat": 4,
 "nbformat_minor": 5
}