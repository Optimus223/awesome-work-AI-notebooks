{
 "cells": [
  {
   "cell_type": "markdown",
   "id": "22b3e6a7-eaf5-49ab-93f6-d5b5b0ac4bb7",
   "metadata": {
    "papermill": {},
    "tags": []
   },
   "source": [
    "# Twitter - Get tweets from search\n",
    "<a href=\"https://app.naas.ai/user-redirect/naas/downloader?url=https://raw.githubusercontent.com/jupyter-naas/awesome-notebooks/master/Twitter/Twitter_Get_tweets_from_search.ipynb\" target=\"_parent\"><img src=\"https://img.shields.io/badge/-Open%20in%20Naas-success?labelColor=000000&logo=data:image/svg+xml;base64,PD94bWwgdmVyc2lvbj0iMS4wIiBlbmNvZGluZz0iVVRGLTgiPz4KPHN2ZyB3aWR0aD0iMTAyNHB4IiBoZWlnaHQ9IjEwMjRweCIgdmlld0JveD0iMCAwIDEwMjQgMTAyNCIgeG1sbnM9Imh0dHA6Ly93d3cudzMub3JnLzIwMDAvc3ZnIiB4bWxuczp4bGluaz0iaHR0cDovL3d3dy53My5vcmcvMTk5OS94bGluayIgdmVyc2lvbj0iMS4xIj4KIDwhLS0gR2VuZXJhdGVkIGJ5IFBpeGVsbWF0b3IgUHJvIDIuMC41IC0tPgogPGRlZnM+CiAgPHRleHQgaWQ9InN0cmluZyIgdHJhbnNmb3JtPSJtYXRyaXgoMS4wIDAuMCAwLjAgMS4wIDIyOC4wIDU0LjUpIiBmb250LWZhbWlseT0iQ29tZm9ydGFhLVJlZ3VsYXIsIENvbWZvcnRhYSIgZm9udC1zaXplPSI4MDAiIHRleHQtZGVjb3JhdGlvbj0ibm9uZSIgZmlsbD0iI2ZmZmZmZiIgeD0iMS4xOTk5OTk5OTk5OTk5ODg2IiB5PSI3MDUuMCI+bjwvdGV4dD4KIDwvZGVmcz4KIDx1c2UgaWQ9Im4iIHhsaW5rOmhyZWY9IiNzdHJpbmciLz4KPC9zdmc+Cg==\"/></a>"
   ]
  },
  {
   "cell_type": "markdown",
   "id": "7331465c-f134-4411-b2c2-0b0c3e0a688c",
   "metadata": {
    "papermill": {},
    "tags": []
   },
   "source": [
    "### Input"
   ]
  },
  {
   "cell_type": "code",
   "execution_count": null,
   "id": "6e4a6247-513e-42de-af1c-70b9a87bdcff",
   "metadata": {
    "papermill": {},
    "tags": []
   },
   "outputs": [],
   "source": [
    "# importing necessary python packages\n",
    "import tweepy\n",
    "#if we want response as pandas dataframe import pandas as well\n",
    "import pandas as pd"
   ]
  },
  {
   "cell_type": "code",
   "execution_count": null,
   "id": "45564994-08dc-4551-9da3-10c5a755ec74",
   "metadata": {
    "papermill": {},
    "tags": []
   },
   "outputs": [],
   "source": [
    "# API Credentials\n",
    "\n",
    "consumer_key = \"XXXXXXXXXXXXXXXXXX\"\n",
    "consumer_secret = \"XXXXXXXXXXXXXXXXXXXXXXXXXXXXXXXXXXXX\""
   ]
  },
  {
   "cell_type": "markdown",
   "id": "2254eb13-8fe7-4d2b-8412-5e3cad10a4c4",
   "metadata": {
    "papermill": {},
    "tags": []
   },
   "source": [
    "### How to generate API Keys?"
   ]
  },
  {
   "cell_type": "markdown",
   "id": "36000229-a41e-4ffc-ba2f-e3d4445ec05d",
   "metadata": {
    "papermill": {},
    "tags": []
   },
   "source": [
    "[Twitter API Documentation](https://developer.twitter.com/en/docs/getting-started)"
   ]
  },
  {
   "cell_type": "markdown",
   "id": "663c610e-1558-479a-9143-300fcdfc9af6",
   "metadata": {
    "papermill": {},
    "tags": []
   },
   "source": [
    "### Model"
   ]
  },
  {
   "cell_type": "code",
   "execution_count": null,
   "id": "25193cda-fb05-4477-9c13-7c9d0a600102",
   "metadata": {
    "papermill": {},
    "tags": []
   },
   "outputs": [],
   "source": [
    "# Authentication\n",
    "try:\n",
    "    auth = tweepy.AppAuthHandler(consumer_key, consumer_secret)\n",
    "    api = tweepy.API(auth)\n",
    "except BaseException as e:\n",
    "    print(f\"Authentication has been failed due to -{str(e)}\")"
   ]
  },
  {
   "cell_type": "code",
   "execution_count": null,
   "id": "8d718030-74e7-47e6-a8c9-74427ee74e52",
   "metadata": {
    "papermill": {},
    "tags": []
   },
   "outputs": [],
   "source": [
    "def getTweets(search_words, date_since, numTweets):\n",
    "    \n",
    "    # Define a pandas dataframe to store the date:\n",
    "    tweets_df = pd.DataFrame(columns = ['username', 'desc', 'location', 'following',\n",
    "                                        'followers', 'totaltweets', 'usercreated', 'tweetcreated',\n",
    "                                        'retweetcount', 'text', 'hashtags']\n",
    "                                )\n",
    "\n",
    "    # Collect tweets using the Cursor object\n",
    "    # .Cursor() returns an object that you can iterate or loop over to access the data collected.\n",
    "    tweets = tweepy.Cursor(api.search, q=search_words, lang=\"en\", since=date_since, tweet_mode='extended').items(numTweets)\n",
    "    # Store tweets into a python list\n",
    "    tweet_list = [tweet for tweet in tweets]\n",
    "    for tweet in tweet_list:\n",
    "        username = tweet.user.screen_name\n",
    "        desc = tweet.user.description\n",
    "        location = tweet.user.location\n",
    "        following = tweet.user.friends_count\n",
    "        followers = tweet.user.followers_count\n",
    "        totaltweets = tweet.user.statuses_count\n",
    "        usercreated = tweet.user.created_at\n",
    "        tweetcreated = tweet.created_at\n",
    "        retweetcount = tweet.retweet_count\n",
    "        hashtags = tweet.entities['hashtags']\n",
    "        try:\n",
    "            text = tweet.retweeted_status.full_text\n",
    "        except AttributeError:\n",
    "            text = tweet.full_text\n",
    "        \n",
    "        tweet_data = [username, desc, location, following, followers, totaltweets,\n",
    "                        usercreated, tweetcreated, retweetcount, text, hashtags]\n",
    "        \n",
    "        tweets_df.loc[len(tweets_df)] = tweet_data\n",
    "        \n",
    "    \n",
    "    return tweets_df"
   ]
  },
  {
   "cell_type": "code",
   "execution_count": null,
   "id": "1dc8e565-1706-49d8-ab8a-6f8f5aa18032",
   "metadata": {
    "papermill": {},
    "tags": []
   },
   "outputs": [],
   "source": [
    "# Initialise these function attributes:\n",
    "search_words = \"#jupyterlab OR #python OR #naas OR #naasai\"\n",
    "date_since = \"2021-09-21\"\n",
    "numTweets = 50"
   ]
  },
  {
   "cell_type": "markdown",
   "id": "f7d86d62-9cdd-4737-a5de-2da8bc191e30",
   "metadata": {
    "papermill": {},
    "tags": []
   },
   "source": [
    "### Output"
   ]
  },
  {
   "cell_type": "code",
   "execution_count": null,
   "id": "5f00ab06-24f8-4334-a14e-ba53a3773141",
   "metadata": {
    "papermill": {},
    "tags": []
   },
   "outputs": [],
   "source": [
    "# Call the function scraptweets\n",
    "df = getTweets(search_words, date_since, numTweets)"
   ]
  }
 ],
 "metadata": {
  "kernelspec": {
   "display_name": "Python 3",
   "language": "python",
   "name": "python3"
  },
  "language_info": {
   "codemirror_mode": {
    "name": "ipython",
    "version": 3
   },
   "file_extension": ".py",
   "mimetype": "text/x-python",
   "name": "python",
   "nbconvert_exporter": "python",
   "pygments_lexer": "ipython3",
   "version": "3.8.8"
  },
  "papermill": {
   "default_parameters": {},
   "environment_variables": {},
   "parameters": {},
   "version": "2.3.3"
  },
  "widgets": {
   "application/vnd.jupyter.widget-state+json": {
    "state": {},
    "version_major": 2,
    "version_minor": 0
   }
  }
 },
 "nbformat": 4,
 "nbformat_minor": 5
}