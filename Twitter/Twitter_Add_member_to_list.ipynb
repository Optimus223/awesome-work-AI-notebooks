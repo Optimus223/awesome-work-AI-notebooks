{
 "cells": [
  {
   "cell_type": "markdown",
   "id": "latin-packing",
   "metadata": {
    "execution": {
     "iopub.execute_input": "2021-02-23T14:22:16.610471Z",
     "iopub.status.busy": "2021-02-23T14:22:16.610129Z",
     "iopub.status.idle": "2021-02-23T14:22:16.627784Z",
     "shell.execute_reply": "2021-02-23T14:22:16.626866Z",
     "shell.execute_reply.started": "2021-02-23T14:22:16.610384Z"
    },
    "papermill": {},
    "tags": []
   },
   "source": [
    "<img width=\"10%\" alt=\"Naas\" src=\"https://landen.imgix.net/jtci2pxwjczr/assets/5ice39g4.png?w=160\"/>"
   ]
  },
  {
   "cell_type": "markdown",
   "id": "compressed-wilson",
   "metadata": {
    "papermill": {},
    "tags": []
   },
   "source": [
    "# Twitter - Add member to list (Oauth1.0a and Oauth2.0 Bearer token)\n",
    "<a href=\"https://app.naas.ai/user-redirect/naas/downloader?url=https://raw.githubusercontent.com/jupyter-naas/awesome-notebooks/master/template.ipynb\" target=\"_parent\">\n",
    "<img src=\"https://img.shields.io/badge/-Open%20in%20Naas-success?labelColor=000000&logo=data:image/svg+xml;base64,PD94bWwgdmVyc2lvbj0iMS4wIiBlbmNvZGluZz0iVVRGLTgiPz4KPHN2ZyB3aWR0aD0iMTAyNHB4IiBoZWlnaHQ9IjEwMjRweCIgdmlld0JveD0iMCAwIDEwMjQgMTAyNCIgeG1sbnM9Imh0dHA6Ly93d3cudzMub3JnLzIwMDAvc3ZnIiB4bWxuczp4bGluaz0iaHR0cDovL3d3dy53My5vcmcvMTk5OS94bGluayIgdmVyc2lvbj0iMS4xIj4KIDwhLS0gR2VuZXJhdGVkIGJ5IFBpeGVsbWF0b3IgUHJvIDIuMC41IC0tPgogPGRlZnM+CiAgPHRleHQgaWQ9InN0cmluZyIgdHJhbnNmb3JtPSJtYXRyaXgoMS4wIDAuMCAwLjAgMS4wIDIyOC4wIDU0LjUpIiBmb250LWZhbWlseT0iQ29tZm9ydGFhLVJlZ3VsYXIsIENvbWZvcnRhYSIgZm9udC1zaXplPSI4MDAiIHRleHQtZGVjb3JhdGlvbj0ibm9uZSIgZmlsbD0iI2ZmZmZmZiIgeD0iMS4xOTk5OTk5OTk5OTk5ODg2IiB5PSI3MDUuMCI+bjwvdGV4dD4KIDwvZGVmcz4KIDx1c2UgaWQ9Im4iIHhsaW5rOmhyZWY9IiNzdHJpbmciLz4KPC9zdmc+Cg==\"/>\n",
    "</a><br><br><a href=\"https://github.com/jupyter-naas/awesome-notebooks/issues/new?assignees=&labels=&template=template-request.md&title=Tool+-+Action+of+the+notebook+\">Template request</a> | <a href=\"https://github.com/jupyter-naas/awesome-notebooks/issues/new?assignees=&labels=&template=bug_report.md&title=[ERROR]+Tool+/+Folder+Action+of+the+notebook+\">Bug report</a>"
   ]
  },
  {
   "cell_type": "markdown",
   "id": "religious-programmer",
   "metadata": {},
   "source": [
    "**Tags:** #twitter #tweepy #pandas #twitterautomation #twitterlistmembers #snippet"
   ]
  },
  {
   "cell_type": "markdown",
   "id": "1fe9f56e-561c-4f52-aef8-b861c9462107",
   "metadata": {},
   "source": [
    "**Author:** [Kaushal Krishna](https://www.linkedin.com/in/kaushal-krishna-a48959153)"
   ]
  },
  {
   "cell_type": "markdown",
   "id": "31ea7cdb-e10d-43fc-b026-f69249a59736",
   "metadata": {},
   "source": [
    "**Description:** This notebook adds a member to the list of a particular user.."
   ]
  },
  {
   "cell_type": "markdown",
   "id": "distinguished-truth",
   "metadata": {
    "papermill": {},
    "tags": []
   },
   "source": [
    "## Input"
   ]
  },
  {
   "cell_type": "markdown",
   "id": "numeric-mediterranean",
   "metadata": {},
   "source": [
    "### Import libraries"
   ]
  },
  {
   "cell_type": "code",
   "execution_count": 68,
   "id": "potential-surfing",
   "metadata": {
    "execution": {
     "iopub.execute_input": "2023-01-24T17:02:03.547808Z",
     "iopub.status.busy": "2023-01-24T17:02:03.547538Z",
     "iopub.status.idle": "2023-01-24T17:02:03.550660Z",
     "shell.execute_reply": "2023-01-24T17:02:03.550025Z",
     "shell.execute_reply.started": "2023-01-24T17:02:03.547784Z"
    },
    "tags": []
   },
   "outputs": [],
   "source": [
    "import tweepy\n",
    "import pandas as pd\n",
    "import naas"
   ]
  },
  {
   "cell_type": "markdown",
   "id": "aggressive-trustee",
   "metadata": {},
   "source": [
    "### Setup Variables\n",
    "-> Get your bearer token by applying in twitter developer website https://developer.twitter.com/en/docs/authentication/oauth-2-0/bearer-tokens  \n",
    "-> Get your Oauth 1.0 token by applying into twitter developer website with Read and Write Permission https://developer.twitter.com/en/docs/authentication/oauth-1-0a     \n",
    "-> For the user name supply the display name (Twitter Handle) without '@' i.e.  \"JupyterNaas\" for Naas.ai    \n",
    "-> Please consult the tweepy docs for more help on authentication https://docs.tweepy.org/en/stable/authentication.html"
   ]
  },
  {
   "cell_type": "markdown",
   "id": "50e1c50d-6eed-4a88-8533-4e4a495b01bd",
   "metadata": {},
   "source": [
    "**The bearer_token is for Oauth 2.0 user lookup and consumer_key, consumer_secret ,access_token, access_token_secret are for Oauth 1.0 get_user(by username parameter) list lookup(even private ones),list_member lookup  list add member and remove member**"
   ]
  },
  {
   "cell_type": "code",
   "execution_count": 87,
   "id": "continuous-melbourne",
   "metadata": {
    "execution": {
     "iopub.execute_input": "2023-01-24T17:06:35.420025Z",
     "iopub.status.busy": "2023-01-24T17:06:35.419708Z",
     "iopub.status.idle": "2023-01-24T17:06:35.890688Z",
     "shell.execute_reply": "2023-01-24T17:06:35.889978Z",
     "shell.execute_reply.started": "2023-01-24T17:06:35.419988Z"
    },
    "tags": []
   },
   "outputs": [],
   "source": [
    "#inputs\n",
    "tw_bearer_token = naas.secret.get(\"TWITTER_BEARER_TOKEN\") or 'AAAAAAAAAAAAAAAAAAAAAMQhdgEAAAAAD0EI4sREei02us...'\n",
    "tw_consumer_key = naas.secret.get(\"TWITTER_CONSUMER_KEY\") or 'xxxxxxxxxxxxxxx'\n",
    "tw_consumer_secret = naas.secret.get(\"TWITTER_CONSUMER_SECRET\") or 'xxxxxxxxxxxxxxxxx'\n",
    "tw_access_token = naas.secret.get(\"TWITTER_ACCESS_TOKEN\") or 'xxxxxxxxxxxxxxxxxxxxxxx'\n",
    "tw_access_token_secret = naas.secret.get(\"TWITTER_ACCESS_TOKEN_SECRET\") or 'xxxxxxxxxxxxxx'\n",
    "user_name = 'JupyterNaas'\n",
    "list_name = 'Cool Tweets'\n",
    "member_username = 'ravenel_jeremy'\n",
    "\n",
    "#outputs\n",
    "csv_output = 'output.csv'"
   ]
  },
  {
   "cell_type": "markdown",
   "id": "registered-showcase",
   "metadata": {},
   "source": [
    "## Model"
   ]
  },
  {
   "cell_type": "markdown",
   "id": "9e22cffd-7e95-4687-befe-d6d1c4844767",
   "metadata": {},
   "source": [
    "### Connect to client"
   ]
  },
  {
   "cell_type": "code",
   "execution_count": 80,
   "id": "crude-louisville",
   "metadata": {
    "execution": {
     "iopub.execute_input": "2023-01-24T17:06:02.822626Z",
     "iopub.status.busy": "2023-01-24T17:06:02.822402Z",
     "iopub.status.idle": "2023-01-24T17:06:02.827118Z",
     "shell.execute_reply": "2023-01-24T17:06:02.826497Z",
     "shell.execute_reply.started": "2023-01-24T17:06:02.822605Z"
    },
    "papermill": {},
    "tags": []
   },
   "outputs": [],
   "source": [
    "try:\n",
    "    client_1=tweepy.Client(\n",
    "        bearer_token=tw_bearer_token\n",
    "    )\n",
    "    client_2=tweepy.Client(\n",
    "        consumer_key=tw_consumer_key,\n",
    "        consumer_secret=tw_consumer_secret,\n",
    "        access_token=tw_access_token,\n",
    "        access_token_secret=tw_access_token_secret\n",
    "    )\n",
    "except:\n",
    "    print(\"Failure in Authentication.\")"
   ]
  },
  {
   "cell_type": "markdown",
   "id": "tested-astrology",
   "metadata": {},
   "source": [
    "### Get list ID"
   ]
  },
  {
   "cell_type": "code",
   "execution_count": 81,
   "id": "f3752ba0-e833-49dc-8d12-c86f0d1296cf",
   "metadata": {
    "execution": {
     "iopub.execute_input": "2023-01-24T17:06:03.916109Z",
     "iopub.status.busy": "2023-01-24T17:06:03.915871Z",
     "iopub.status.idle": "2023-01-24T17:06:04.328409Z",
     "shell.execute_reply": "2023-01-24T17:06:04.327675Z",
     "shell.execute_reply.started": "2023-01-24T17:06:03.916087Z"
    },
    "tags": []
   },
   "outputs": [
    {
     "name": "stdout",
     "output_type": "stream",
     "text": [
      "'Cool Tweets' ID: 1400178014797828096\n"
     ]
    }
   ],
   "source": [
    "def find_list_id(list_name, user_name, client, user_auth=True):\n",
    "    list_id=None\n",
    "    user = client.get_user(username=user_name,user_auth=user_auth)\n",
    "    user_id=user.data['id']\n",
    "    twitter_list=client.get_owned_lists(id=user_id,user_auth=user_auth)\n",
    "    for row in twitter_list.data:\n",
    "        if(row['name']==list_name):\n",
    "            list_id=row['id']\n",
    "            break\n",
    "    return list_id\n",
    "\n",
    "list_id = find_list_id(list_name=list_name, user_name=user_name, client=client_2)\n",
    "print(f\"'{list_name}' ID:\", list_id)"
   ]
  },
  {
   "cell_type": "markdown",
   "id": "93277249-bf10-4bd8-9991-177510090add",
   "metadata": {},
   "source": [
    "### Get member ID"
   ]
  },
  {
   "cell_type": "code",
   "execution_count": 82,
   "id": "a9deae0b-a1d4-44c7-a5f6-adacd197e4d2",
   "metadata": {
    "execution": {
     "iopub.execute_input": "2023-01-24T17:06:05.368012Z",
     "iopub.status.busy": "2023-01-24T17:06:05.367748Z",
     "iopub.status.idle": "2023-01-24T17:06:05.557296Z",
     "shell.execute_reply": "2023-01-24T17:06:05.556553Z",
     "shell.execute_reply.started": "2023-01-24T17:06:05.367988Z"
    },
    "tags": []
   },
   "outputs": [
    {
     "name": "stdout",
     "output_type": "stream",
     "text": [
      "'ravenel_jeremy' ID: 799949777647636480\n"
     ]
    }
   ],
   "source": [
    "member_id = client_1.get_user(username=member_username).data['id']\n",
    "print(f\"'{member_username}' ID:\", member_id)"
   ]
  },
  {
   "cell_type": "markdown",
   "id": "4c1e9d07-dc6b-41f5-b902-8068037f5c84",
   "metadata": {},
   "source": [
    "### Add list member"
   ]
  },
  {
   "cell_type": "code",
   "execution_count": 79,
   "id": "198a0658-4e93-415f-a8bb-70ef682a08f7",
   "metadata": {
    "execution": {
     "iopub.execute_input": "2023-01-24T17:04:27.052433Z",
     "iopub.status.busy": "2023-01-24T17:04:27.052206Z",
     "iopub.status.idle": "2023-01-24T17:04:27.195278Z",
     "shell.execute_reply": "2023-01-24T17:04:27.194321Z",
     "shell.execute_reply.started": "2023-01-24T17:04:27.052411Z"
    },
    "tags": []
   },
   "outputs": [
    {
     "ename": "Forbidden",
     "evalue": "403 Forbidden\nYour client app is not configured with the appropriate oauth1 app permissions for this endpoint.",
     "output_type": "error",
     "traceback": [
      "\u001b[0;31m---------------------------------------------------------------------------\u001b[0m",
      "\u001b[0;31mForbidden\u001b[0m                                 Traceback (most recent call last)",
      "\u001b[0;32m<ipython-input-79-dcc59a59caf5>\u001b[0m in \u001b[0;36m<module>\u001b[0;34m\u001b[0m\n\u001b[0;32m----> 1\u001b[0;31m \u001b[0mres\u001b[0m \u001b[0;34m=\u001b[0m \u001b[0mclient_2\u001b[0m\u001b[0;34m.\u001b[0m\u001b[0madd_list_member\u001b[0m\u001b[0;34m(\u001b[0m\u001b[0mid\u001b[0m\u001b[0;34m=\u001b[0m\u001b[0mlist_id\u001b[0m\u001b[0;34m,\u001b[0m \u001b[0muser_id\u001b[0m\u001b[0;34m=\u001b[0m\u001b[0mmember_id\u001b[0m\u001b[0;34m,\u001b[0m \u001b[0muser_auth\u001b[0m\u001b[0;34m=\u001b[0m\u001b[0;32mTrue\u001b[0m\u001b[0;34m)\u001b[0m\u001b[0;34m\u001b[0m\u001b[0;34m\u001b[0m\u001b[0m\n\u001b[0m\u001b[1;32m      2\u001b[0m \u001b[0mres\u001b[0m\u001b[0;34m\u001b[0m\u001b[0;34m\u001b[0m\u001b[0m\n",
      "\u001b[0;32m~/.local/lib/python3.9/site-packages/tweepy/client.py\u001b[0m in \u001b[0;36madd_list_member\u001b[0;34m(self, id, user_id, user_auth)\u001b[0m\n\u001b[1;32m   3244\u001b[0m         \u001b[0mhttps\u001b[0m\u001b[0;34m:\u001b[0m\u001b[0;34m//\u001b[0m\u001b[0mdeveloper\u001b[0m\u001b[0;34m.\u001b[0m\u001b[0mtwitter\u001b[0m\u001b[0;34m.\u001b[0m\u001b[0mcom\u001b[0m\u001b[0;34m/\u001b[0m\u001b[0men\u001b[0m\u001b[0;34m/\u001b[0m\u001b[0mdocs\u001b[0m\u001b[0;34m/\u001b[0m\u001b[0mtwitter\u001b[0m\u001b[0;34m-\u001b[0m\u001b[0mapi\u001b[0m\u001b[0;34m/\u001b[0m\u001b[0mlists\u001b[0m\u001b[0;34m/\u001b[0m\u001b[0mlist\u001b[0m\u001b[0;34m-\u001b[0m\u001b[0mmembers\u001b[0m\u001b[0;34m/\u001b[0m\u001b[0mapi\u001b[0m\u001b[0;34m-\u001b[0m\u001b[0mreference\u001b[0m\u001b[0;34m/\u001b[0m\u001b[0mpost\u001b[0m\u001b[0;34m-\u001b[0m\u001b[0mlists\u001b[0m\u001b[0;34m-\u001b[0m\u001b[0mid\u001b[0m\u001b[0;34m-\u001b[0m\u001b[0mmembers\u001b[0m\u001b[0;34m\u001b[0m\u001b[0;34m\u001b[0m\u001b[0m\n\u001b[1;32m   3245\u001b[0m         \"\"\"\n\u001b[0;32m-> 3246\u001b[0;31m         return self._make_request(\n\u001b[0m\u001b[1;32m   3247\u001b[0m             \u001b[0;34m\"POST\"\u001b[0m\u001b[0;34m,\u001b[0m \u001b[0;34mf\"/2/lists/{id}/members\"\u001b[0m\u001b[0;34m,\u001b[0m \u001b[0mjson\u001b[0m\u001b[0;34m=\u001b[0m\u001b[0;34m{\u001b[0m\u001b[0;34m\"user_id\"\u001b[0m\u001b[0;34m:\u001b[0m \u001b[0mstr\u001b[0m\u001b[0;34m(\u001b[0m\u001b[0muser_id\u001b[0m\u001b[0;34m)\u001b[0m\u001b[0;34m}\u001b[0m\u001b[0;34m,\u001b[0m\u001b[0;34m\u001b[0m\u001b[0;34m\u001b[0m\u001b[0m\n\u001b[1;32m   3248\u001b[0m             \u001b[0muser_auth\u001b[0m\u001b[0;34m=\u001b[0m\u001b[0muser_auth\u001b[0m\u001b[0;34m\u001b[0m\u001b[0;34m\u001b[0m\u001b[0m\n",
      "\u001b[0;32m~/.local/lib/python3.9/site-packages/tweepy/client.py\u001b[0m in \u001b[0;36m_make_request\u001b[0;34m(self, method, route, params, endpoint_parameters, json, data_type, user_auth)\u001b[0m\n\u001b[1;32m    124\u001b[0m         \u001b[0mrequest_params\u001b[0m \u001b[0;34m=\u001b[0m \u001b[0mself\u001b[0m\u001b[0;34m.\u001b[0m\u001b[0m_process_params\u001b[0m\u001b[0;34m(\u001b[0m\u001b[0mparams\u001b[0m\u001b[0;34m,\u001b[0m \u001b[0mendpoint_parameters\u001b[0m\u001b[0;34m)\u001b[0m\u001b[0;34m\u001b[0m\u001b[0;34m\u001b[0m\u001b[0m\n\u001b[1;32m    125\u001b[0m \u001b[0;34m\u001b[0m\u001b[0m\n\u001b[0;32m--> 126\u001b[0;31m         response = self.request(method, route, params=request_params,\n\u001b[0m\u001b[1;32m    127\u001b[0m                                 json=json, user_auth=user_auth)\n\u001b[1;32m    128\u001b[0m \u001b[0;34m\u001b[0m\u001b[0m\n",
      "\u001b[0;32m~/.local/lib/python3.9/site-packages/tweepy/client.py\u001b[0m in \u001b[0;36mrequest\u001b[0;34m(self, method, route, params, json, user_auth)\u001b[0m\n\u001b[1;32m     97\u001b[0m                 \u001b[0;32mraise\u001b[0m \u001b[0mUnauthorized\u001b[0m\u001b[0;34m(\u001b[0m\u001b[0mresponse\u001b[0m\u001b[0;34m)\u001b[0m\u001b[0;34m\u001b[0m\u001b[0;34m\u001b[0m\u001b[0m\n\u001b[1;32m     98\u001b[0m             \u001b[0;32mif\u001b[0m \u001b[0mresponse\u001b[0m\u001b[0;34m.\u001b[0m\u001b[0mstatus_code\u001b[0m \u001b[0;34m==\u001b[0m \u001b[0;36m403\u001b[0m\u001b[0;34m:\u001b[0m\u001b[0;34m\u001b[0m\u001b[0;34m\u001b[0m\u001b[0m\n\u001b[0;32m---> 99\u001b[0;31m                 \u001b[0;32mraise\u001b[0m \u001b[0mForbidden\u001b[0m\u001b[0;34m(\u001b[0m\u001b[0mresponse\u001b[0m\u001b[0;34m)\u001b[0m\u001b[0;34m\u001b[0m\u001b[0;34m\u001b[0m\u001b[0m\n\u001b[0m\u001b[1;32m    100\u001b[0m             \u001b[0;32mif\u001b[0m \u001b[0mresponse\u001b[0m\u001b[0;34m.\u001b[0m\u001b[0mstatus_code\u001b[0m \u001b[0;34m==\u001b[0m \u001b[0;36m404\u001b[0m\u001b[0;34m:\u001b[0m\u001b[0;34m\u001b[0m\u001b[0;34m\u001b[0m\u001b[0m\n\u001b[1;32m    101\u001b[0m                 \u001b[0;32mraise\u001b[0m \u001b[0mNotFound\u001b[0m\u001b[0;34m(\u001b[0m\u001b[0mresponse\u001b[0m\u001b[0;34m)\u001b[0m\u001b[0;34m\u001b[0m\u001b[0;34m\u001b[0m\u001b[0m\n",
      "\u001b[0;31mForbidden\u001b[0m: 403 Forbidden\nYour client app is not configured with the appropriate oauth1 app permissions for this endpoint."
     ]
    }
   ],
   "source": [
    "res = client_2.add_list_member(id=list_id, user_id=member_id, user_auth=True)\n",
    "res"
   ]
  },
  {
   "cell_type": "markdown",
   "id": "lonely-pacific",
   "metadata": {
    "execution": {
     "iopub.execute_input": "2021-07-02T23:32:10.789097Z",
     "iopub.status.busy": "2021-07-02T23:32:10.788829Z",
     "iopub.status.idle": "2021-07-02T23:32:10.796900Z",
     "shell.execute_reply": "2021-07-02T23:32:10.796358Z",
     "shell.execute_reply.started": "2021-07-02T23:32:10.789033Z"
    }
   },
   "source": [
    "## Output"
   ]
  },
  {
   "cell_type": "markdown",
   "id": "890f7c86-b7bb-4f5d-9a1b-e492dd9580fd",
   "metadata": {},
   "source": [
    "### Save result in csv"
   ]
  },
  {
   "cell_type": "code",
   "execution_count": null,
   "id": "9c4e3b7b-6440-4844-8054-265f1aec65eb",
   "metadata": {
    "execution": {
     "iopub.status.busy": "2023-01-24T16:41:53.608558Z",
     "iopub.status.idle": "2023-01-24T16:41:53.608894Z",
     "shell.execute_reply": "2023-01-24T16:41:53.608731Z"
    },
    "tags": []
   },
   "outputs": [],
   "source": [
    "res_df.to_csv(csv_output, index=False)"
   ]
  }
 ],
 "metadata": {
  "kernelspec": {
   "display_name": "Python 3",
   "language": "python",
   "name": "python3"
  },
  "language_info": {
   "codemirror_mode": {
    "name": "ipython",
    "version": 3
   },
   "file_extension": ".py",
   "mimetype": "text/x-python",
   "name": "python",
   "nbconvert_exporter": "python",
   "pygments_lexer": "ipython3",
   "version": "3.9.6"
  },
  "papermill": {
   "default_parameters": {},
   "environment_variables": {},
   "parameters": {},
   "version": "2.3.3"
  },
  "widgets": {
   "application/vnd.jupyter.widget-state+json": {
    "state": {},
    "version_major": 2,
    "version_minor": 0
   }
  }
 },
 "nbformat": 4,
 "nbformat_minor": 5
}
