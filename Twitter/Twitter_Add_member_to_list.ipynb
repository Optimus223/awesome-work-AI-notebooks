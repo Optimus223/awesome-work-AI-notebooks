{
 "cells": [
  {
   "cell_type": "markdown",
   "id": "latin-packing",
   "metadata": {
    "execution": {
     "iopub.execute_input": "2021-02-23T14:22:16.610471Z",
     "iopub.status.busy": "2021-02-23T14:22:16.610129Z",
     "iopub.status.idle": "2021-02-23T14:22:16.627784Z",
     "shell.execute_reply": "2021-02-23T14:22:16.626866Z",
     "shell.execute_reply.started": "2021-02-23T14:22:16.610384Z"
    },
    "papermill": {},
    "tags": []
   },
   "source": [
    "<img width=\"10%\" alt=\"Naas\" src=\"https://landen.imgix.net/jtci2pxwjczr/assets/5ice39g4.png?w=160\"/>"
   ]
  },
  {
   "cell_type": "markdown",
   "id": "compressed-wilson",
   "metadata": {
    "papermill": {},
    "tags": []
   },
   "source": [
    "# Twitter - Add member to list (Oauth1.0a and Oauth2.0 Bearer token)\n",
    "<a href=\"https://app.naas.ai/user-redirect/naas/downloader?url=https://raw.githubusercontent.com/jupyter-naas/awesome-notebooks/master/template.ipynb\" target=\"_parent\">\n",
    "<img src=\"https://img.shields.io/badge/-Open%20in%20Naas-success?labelColor=000000&logo=data:image/svg+xml;base64,PD94bWwgdmVyc2lvbj0iMS4wIiBlbmNvZGluZz0iVVRGLTgiPz4KPHN2ZyB3aWR0aD0iMTAyNHB4IiBoZWlnaHQ9IjEwMjRweCIgdmlld0JveD0iMCAwIDEwMjQgMTAyNCIgeG1sbnM9Imh0dHA6Ly93d3cudzMub3JnLzIwMDAvc3ZnIiB4bWxuczp4bGluaz0iaHR0cDovL3d3dy53My5vcmcvMTk5OS94bGluayIgdmVyc2lvbj0iMS4xIj4KIDwhLS0gR2VuZXJhdGVkIGJ5IFBpeGVsbWF0b3IgUHJvIDIuMC41IC0tPgogPGRlZnM+CiAgPHRleHQgaWQ9InN0cmluZyIgdHJhbnNmb3JtPSJtYXRyaXgoMS4wIDAuMCAwLjAgMS4wIDIyOC4wIDU0LjUpIiBmb250LWZhbWlseT0iQ29tZm9ydGFhLVJlZ3VsYXIsIENvbWZvcnRhYSIgZm9udC1zaXplPSI4MDAiIHRleHQtZGVjb3JhdGlvbj0ibm9uZSIgZmlsbD0iI2ZmZmZmZiIgeD0iMS4xOTk5OTk5OTk5OTk5ODg2IiB5PSI3MDUuMCI+bjwvdGV4dD4KIDwvZGVmcz4KIDx1c2UgaWQ9Im4iIHhsaW5rOmhyZWY9IiNzdHJpbmciLz4KPC9zdmc+Cg==\"/>\n",
    "</a><br><br><a href=\"https://github.com/jupyter-naas/awesome-notebooks/issues/new?assignees=&labels=&template=template-request.md&title=Tool+-+Action+of+the+notebook+\">Template request</a> | <a href=\"https://github.com/jupyter-naas/awesome-notebooks/issues/new?assignees=&labels=&template=bug_report.md&title=[ERROR]+Tool+/+Folder+Action+of+the+notebook+\">Bug report</a>"
   ]
  },
  {
   "cell_type": "markdown",
   "id": "religious-programmer",
   "metadata": {},
   "source": [
    "**Tags:** #twitter #tweepy #pandas #twitterautomation #twitterlistmembers #snippet"
   ]
  },
  {
   "cell_type": "markdown",
   "id": "1fe9f56e-561c-4f52-aef8-b861c9462107",
   "metadata": {},
   "source": [
    "**Author:** [Kaushal Krishna](https://www.linkedin.com/in/kaushal-krishna-a48959153)"
   ]
  },
  {
   "cell_type": "markdown",
   "id": "31ea7cdb-e10d-43fc-b026-f69249a59736",
   "metadata": {},
   "source": [
    "**Description:** This notebook adds a member to the list of a particular user.."
   ]
  },
  {
   "cell_type": "markdown",
   "id": "distinguished-truth",
   "metadata": {
    "papermill": {},
    "tags": []
   },
   "source": [
    "## Input"
   ]
  },
  {
   "cell_type": "markdown",
   "id": "numeric-mediterranean",
   "metadata": {},
   "source": [
    "### Import libraries"
   ]
  },
  {
   "cell_type": "code",
   "execution_count": null,
   "id": "potential-surfing",
   "metadata": {
    "tags": []
   },
   "outputs": [],
   "source": [
    "import tweepy\n",
    "import pandas as pd\n",
    "import naas"
   ]
  },
  {
   "cell_type": "markdown",
   "id": "aggressive-trustee",
   "metadata": {},
   "source": [
    "### Setup Variables\n",
    "-> Get your bearer token by applying in twitter developer website https://developer.twitter.com/en/docs/authentication/oauth-2-0/bearer-tokens  \n",
    "-> Get your Oauth 1.0 token by applying into twitter developer website with Read and Write Permission https://developer.twitter.com/en/docs/authentication/oauth-1-0a     \n",
    "-> For the user name supply the display name (Twitter Handle) without '@' i.e.  \"JupyterNaas\" for Naas.ai    \n",
    "-> Please consult the tweepy docs for more help on authentication https://docs.tweepy.org/en/stable/authentication.html"
   ]
  },
  {
   "cell_type": "markdown",
   "id": "50e1c50d-6eed-4a88-8533-4e4a495b01bd",
   "metadata": {},
   "source": [
    "**The bearer_token is for Oauth 2.0 user lookup and consumer_key, consumer_secret ,access_token, access_token_secret are for Oauth 1.0 get_user(by username parameter) list lookup(even private ones),list_member lookup  list add member and remove member**"
   ]
  },
  {
   "cell_type": "code",
   "execution_count": null,
   "id": "continuous-melbourne",
   "metadata": {
    "tags": []
   },
   "outputs": [],
   "source": [
    "#inputs\n",
    "tw_bearer_token = naas.secret.get(\"TWITTER_BEARER_TOKEN\") or 'AAAAAAAAAAAAAAAAAAAAAMQhdgEAAAAAD0EI4sREei02us...'\n",
    "tw_consumer_key=naas.secret.get(\"TWITTER_CONSUMER_KEY\") or 'xxxxxxxxxxxxxxx'\n",
    "tw_consumer_secret=naas.secret.get(\"TWITTER_CONSUMER_SECRET\") or 'xxxxxxxxxxxxxxxxx'\n",
    "tw_access_token=naas.secret.get(\"TWITTER_ACCESS_TOKEN\") or 'xxxxxxxxxxxxxxxxxxxxxxx'\n",
    "tw_access_token_secret=naas.secret.get(\"TWITTER_ACCESS_TOKEN_SECRET\") or 'xxxxxxxxxxxxxx'\n",
    "user_name = naas.secret.get(\"TWITTER_NAME\") or 'JupyterNaas'\n",
    "list_name=naas.secret.get(\"TWITTER_LIST_NAME\") or 'xxxxxxxxxxxxxxxxxxxxx'\n",
    "member_username=naas.secret.get(\"TWITTER_MEMBER_NAME\") or 'JupyterNaas'\n",
    "\n",
    "\n",
    "#outputs\n",
    "csv_output = 'output.csv'"
   ]
  },
  {
   "cell_type": "markdown",
   "id": "51245dc6-b9b5-4d05-b439-296d5de6f0d8",
   "metadata": {},
   "source": [
    "# Setup functions"
   ]
  },
  {
   "cell_type": "code",
   "execution_count": 1,
   "id": "3950e7da-157e-4b39-8662-52fd109f3e1b",
   "metadata": {
    "execution": {
     "iopub.execute_input": "2023-01-13T13:29:17.768703Z",
     "iopub.status.busy": "2023-01-13T13:29:17.768445Z",
     "iopub.status.idle": "2023-01-13T13:29:17.779679Z",
     "shell.execute_reply": "2023-01-13T13:29:17.779075Z",
     "shell.execute_reply.started": "2023-01-13T13:29:17.768641Z"
    }
   },
   "outputs": [],
   "source": [
    "def find_list_id(list_name,user_name,client,user_auth=True):\n",
    "    list_id=None\n",
    "    user = client.get_user(username=user_name,user_auth=user_auth)\n",
    "    user_id=user.data['id']\n",
    "    twitter_list=client.get_owned_lists(id=user_id,user_auth=user_auth)\n",
    "    for row in twitter_list.data:\n",
    "        if(row['name']==list_name):\n",
    "            list_id=row['id']\n",
    "            break\n",
    "    return list_id"
   ]
  },
  {
   "cell_type": "code",
   "execution_count": null,
   "id": "1de4faf0-35f1-4209-9592-9db56e4faaab",
   "metadata": {},
   "outputs": [],
   "source": [
    "def get_members_of_list(client,list_name,user_name,print_choice=False,user_auth=True):\n",
    "\n",
    "    data_dict={\n",
    "        \"Username\":[],\n",
    "        \"Name\":[]\n",
    "              }\n",
    "\n",
    "    user = client.get_user(username=user_name,user_auth=user_auth)\n",
    "    user_id=user.data['id']\n",
    "    twitter_list=client.get_owned_lists(id=user_id,user_auth=user_auth)\n",
    "\n",
    "    for row in twitter_list.data:\n",
    "        if(row['name']==list_name):\n",
    "            list_id=row['id']\n",
    "            list_members=client.get_list_members(id=list_id,user_auth=user_auth)\n",
    "            for member in list_members.data:\n",
    "                data_dict['Username'].append(member['username'])\n",
    "                data_dict['Name'].append(member['name'])\n",
    "    \n",
    "    return pd.DataFrame(data_dict)"
   ]
  },
  {
   "cell_type": "markdown",
   "id": "registered-showcase",
   "metadata": {},
   "source": [
    "## Model"
   ]
  },
  {
   "cell_type": "markdown",
   "id": "9e22cffd-7e95-4687-befe-d6d1c4844767",
   "metadata": {},
   "source": [
    "### Connect to client"
   ]
  },
  {
   "cell_type": "code",
   "execution_count": null,
   "id": "crude-louisville",
   "metadata": {
    "papermill": {},
    "tags": []
   },
   "outputs": [],
   "source": [
    "try:\n",
    "    client_1=tweepy.Client(bearer_token=tw_bearer_token)\n",
    "    client_2=tweepy.Client(consumer_key=tw_consumer_key,consumer_secret=tw_consumer_secret,\n",
    "                           access_token=tw_access_token,access_token_secret=tw_access_token_secret)\n",
    "except:\n",
    "    print(\"Failure in Authentication.\")"
   ]
  },
  {
   "cell_type": "markdown",
   "id": "tested-astrology",
   "metadata": {},
   "source": [
    "### Get data from Twitter"
   ]
  },
  {
   "cell_type": "code",
   "execution_count": null,
   "id": "b06b39ea-8d9b-4af7-8a6e-28e7f2646156",
   "metadata": {
    "tags": []
   },
   "outputs": [],
   "source": [
    "#init result\n",
    "list_id=None\n",
    "member_id=None"
   ]
  },
  {
   "cell_type": "code",
   "execution_count": null,
   "id": "f3752ba0-e833-49dc-8d12-c86f0d1296cf",
   "metadata": {},
   "outputs": [],
   "source": [
    "list_id=find_list_id(list_name=list_name,user_name=user_name,client=client_2)"
   ]
  },
  {
   "cell_type": "code",
   "execution_count": null,
   "id": "a9deae0b-a1d4-44c7-a5f6-adacd197e4d2",
   "metadata": {},
   "outputs": [],
   "source": [
    "member_id=client_1.get_user(username=member_username).data['id']"
   ]
  },
  {
   "cell_type": "code",
   "execution_count": null,
   "id": "ce7f8596-9583-45a4-a0fc-d83e64209202",
   "metadata": {},
   "outputs": [],
   "source": [
    "prev_df=get_members_of_list(client=client_2,list_name=list_name,user_name=user_name)"
   ]
  },
  {
   "cell_type": "code",
   "execution_count": null,
   "id": "198a0658-4e93-415f-a8bb-70ef682a08f7",
   "metadata": {},
   "outputs": [],
   "source": [
    "res=client_2.add_list_member(id=list_id,user_id=member_id,user_auth=True)"
   ]
  },
  {
   "cell_type": "code",
   "execution_count": null,
   "id": "2c3be8cf-e88d-4cd5-89d0-101931934399",
   "metadata": {},
   "outputs": [],
   "source": [
    "res_df=get_members_of_list(client=client_2,list_name=list_name,user_name=user_name)"
   ]
  },
  {
   "cell_type": "markdown",
   "id": "lonely-pacific",
   "metadata": {
    "execution": {
     "iopub.execute_input": "2021-07-02T23:32:10.789097Z",
     "iopub.status.busy": "2021-07-02T23:32:10.788829Z",
     "iopub.status.idle": "2021-07-02T23:32:10.796900Z",
     "shell.execute_reply": "2021-07-02T23:32:10.796358Z",
     "shell.execute_reply.started": "2021-07-02T23:32:10.789033Z"
    }
   },
   "source": [
    "## Output"
   ]
  },
  {
   "cell_type": "markdown",
   "id": "3297f1c4-85a0-4686-a9e1-b22b9544e7d6",
   "metadata": {
    "tags": []
   },
   "source": [
    "### Display result"
   ]
  },
  {
   "cell_type": "code",
   "execution_count": null,
   "id": "f547a9c7-6fb8-40d2-8162-c5fbf3102ddc",
   "metadata": {
    "tags": []
   },
   "outputs": [],
   "source": [
    "prev_df"
   ]
  },
  {
   "cell_type": "code",
   "execution_count": null,
   "id": "799e5ac6-df78-4880-8daa-5a4e799d61dc",
   "metadata": {},
   "outputs": [],
   "source": [
    "res_df"
   ]
  },
  {
   "cell_type": "markdown",
   "id": "890f7c86-b7bb-4f5d-9a1b-e492dd9580fd",
   "metadata": {},
   "source": [
    "### Save result in csv"
   ]
  },
  {
   "cell_type": "code",
   "execution_count": null,
   "id": "9c4e3b7b-6440-4844-8054-265f1aec65eb",
   "metadata": {
    "tags": []
   },
   "outputs": [],
   "source": [
    "res_df.to_csv(csv_output, index=False)"
   ]
  }
 ],
 "metadata": {
  "kernelspec": {
   "display_name": "Python 3",
   "language": "python",
   "name": "python3"
  },
  "language_info": {
   "codemirror_mode": {
    "name": "ipython",
    "version": 3
   },
   "file_extension": ".py",
   "mimetype": "text/x-python",
   "name": "python",
   "nbconvert_exporter": "python",
   "pygments_lexer": "ipython3",
   "version": "3.9.6"
  },
  "papermill": {
   "default_parameters": {},
   "environment_variables": {},
   "parameters": {},
   "version": "2.3.3"
  },
  "widgets": {
   "application/vnd.jupyter.widget-state+json": {
    "state": {},
    "version_major": 2,
    "version_minor": 0
   }
  }
 },
 "nbformat": 4,
 "nbformat_minor": 5
}
