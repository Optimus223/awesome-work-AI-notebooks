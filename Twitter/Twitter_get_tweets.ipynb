{
 "cells": [
  {
   "cell_type": "markdown",
   "id": "22b3e6a7-eaf5-49ab-93f6-d5b5b0ac4bb7",
   "metadata": {},
   "source": [
    "# Twitter retrieve tweets using twitter API"
   ]
  },
  {
   "cell_type": "code",
   "execution_count": null,
   "id": "6e4a6247-513e-42de-af1c-70b9a87bdcff",
   "metadata": {},
   "outputs": [],
   "source": [
    "# importing necessary python packages\n",
    "import tweepy\n",
    "#if we want response as pandas dataframe import pandas as well\n",
    "import pandas as pd"
   ]
  },
  {
   "cell_type": "markdown",
   "id": "36000229-a41e-4ffc-ba2f-e3d4445ec05d",
   "metadata": {},
   "source": [
    "[Twitter API Documentation](https://developer.twitter.com/en/docs/getting-started)"
   ]
  },
  {
   "cell_type": "code",
   "execution_count": null,
   "id": "45564994-08dc-4551-9da3-10c5a755ec74",
   "metadata": {},
   "outputs": [],
   "source": [
    "# API Credentials\n",
    "\n",
    "consumer_key = \"XXXXXXXXXXXXXXXXXX\"\n",
    "consumer_secret = \"XXXXXXXXXXXXXXXXXXXXXXXXXXXXXXXXXXXX\""
   ]
  },
  {
   "cell_type": "code",
   "execution_count": null,
   "id": "25193cda-fb05-4477-9c13-7c9d0a600102",
   "metadata": {},
   "outputs": [],
   "source": [
    "# Authentication\n",
    "try:\n",
    "    auth = tweepy.AppAuthHandler(consumer_key, consumer_secret)\n",
    "    api = tweepy.API(auth)\n",
    "except BaseException as e:\n",
    "    print(f\"Authentication has been failed due to -{str(e)}\")"
   ]
  },
  {
   "cell_type": "code",
   "execution_count": null,
   "id": "8d718030-74e7-47e6-a8c9-74427ee74e52",
   "metadata": {},
   "outputs": [],
   "source": [
    "def getTweets(search_words, date_since, numTweets):\n",
    "    \n",
    "    # Define a pandas dataframe to store the date:\n",
    "    tweets_df = pd.DataFrame(columns = ['username', 'desc', 'location', 'following',\n",
    "                                        'followers', 'totaltweets', 'usercreated', 'tweetcreated',\n",
    "                                        'retweetcount', 'text', 'hashtags']\n",
    "                                )\n",
    "\n",
    "    # Collect tweets using the Cursor object\n",
    "    # .Cursor() returns an object that you can iterate or loop over to access the data collected.\n",
    "    tweets = tweepy.Cursor(api.search, q=search_words, lang=\"en\", since=date_since, tweet_mode='extended').items(numTweets)\n",
    "    # Store tweets into a python list\n",
    "    tweet_list = [tweet for tweet in tweets]\n",
    "    for tweet in tweet_list:\n",
    "        username = tweet.user.screen_name\n",
    "        desc = tweet.user.description\n",
    "        location = tweet.user.location\n",
    "        following = tweet.user.friends_count\n",
    "        followers = tweet.user.followers_count\n",
    "        totaltweets = tweet.user.statuses_count\n",
    "        usercreated = tweet.user.created_at\n",
    "        tweetcreated = tweet.created_at\n",
    "        retweetcount = tweet.retweet_count\n",
    "        hashtags = tweet.entities['hashtags']\n",
    "        try:\n",
    "            text = tweet.retweeted_status.full_text\n",
    "        except AttributeError:\n",
    "            text = tweet.full_text\n",
    "        \n",
    "        tweet_data = [username, desc, location, following, followers, totaltweets,\n",
    "                        usercreated, tweetcreated, retweetcount, text, hashtags]\n",
    "        \n",
    "        tweets_df.loc[len(tweets_df)] = tweet_data\n",
    "        \n",
    "    \n",
    "    return tweets_df"
   ]
  },
  {
   "cell_type": "code",
   "execution_count": null,
   "id": "1dc8e565-1706-49d8-ab8a-6f8f5aa18032",
   "metadata": {},
   "outputs": [],
   "source": [
    "# Initialise these function attributes:\n",
    "search_words = \"#jupyterlab OR #python OR #naas OR #naasai\"\n",
    "date_since = \"2021-09-21\"\n",
    "numTweets = 50"
   ]
  },
  {
   "cell_type": "code",
   "execution_count": null,
   "id": "630b6020-74b4-469b-8410-b7802122e03f",
   "metadata": {},
   "outputs": [],
   "source": [
    "# Call the function scraptweets\n",
    "df = getTweets(search_words, date_since, numTweets)"
   ]
  }
 ],
 "metadata": {
  "kernelspec": {
   "display_name": "Python 3",
   "language": "python",
   "name": "python3"
  },
  "language_info": {
   "codemirror_mode": {
    "name": "ipython",
    "version": 3
   },
   "file_extension": ".py",
   "mimetype": "text/x-python",
   "name": "python",
   "nbconvert_exporter": "python",
   "pygments_lexer": "ipython3",
   "version": "3.8.8"
  }
 },
 "nbformat": 4,
 "nbformat_minor": 5
}
