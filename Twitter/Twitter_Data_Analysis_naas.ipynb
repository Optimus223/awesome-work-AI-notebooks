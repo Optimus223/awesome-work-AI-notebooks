{
 "cells": [
  {
   "cell_type": "markdown",
   "id": "latin-packing",
   "metadata": {
    "execution": {
     "iopub.execute_input": "2021-02-23T14:22:16.610471Z",
     "iopub.status.busy": "2021-02-23T14:22:16.610129Z",
     "iopub.status.idle": "2021-02-23T14:22:16.627784Z",
     "shell.execute_reply": "2021-02-23T14:22:16.626866Z",
     "shell.execute_reply.started": "2021-02-23T14:22:16.610384Z"
    },
    "papermill": {},
    "tags": []
   },
   "source": [
    "<img width=\"10%\" alt=\"Naas\" src=\"https://landen.imgix.net/jtci2pxwjczr/assets/5ice39g4.png?w=160\"/>"
   ]
  },
  {
   "cell_type": "markdown",
   "id": "compressed-wilson",
   "metadata": {
    "papermill": {},
    "tags": []
   },
   "source": [
    "# Extract and Analyze Twitter Data\n",
    "\n",
    "<br>\n",
    "\n",
    "<a href=\"https://app.naas.ai/user-redirect/naas/downloader?url=https://raw.githubusercontent.com/jupyter-naas/awesome-notebooks/master/template.ipynb\" target=\"_parent\">\n",
    "<img src=\"https://img.shields.io/badge/-Open%20in%20Naas-success?labelColor=000000&logo=data:image/svg+xml;base64,PD94bWwgdmVyc2lvbj0iMS4wIiBlbmNvZGluZz0iVVRGLTgiPz4KPHN2ZyB3aWR0aD0iMTAyNHB4IiBoZWlnaHQ9IjEwMjRweCIgdmlld0JveD0iMCAwIDEwMjQgMTAyNCIgeG1sbnM9Imh0dHA6Ly93d3cudzMub3JnLzIwMDAvc3ZnIiB4bWxuczp4bGluaz0iaHR0cDovL3d3dy53My5vcmcvMTk5OS94bGluayIgdmVyc2lvbj0iMS4xIj4KIDwhLS0gR2VuZXJhdGVkIGJ5IFBpeGVsbWF0b3IgUHJvIDIuMC41IC0tPgogPGRlZnM+CiAgPHRleHQgaWQ9InN0cmluZyIgdHJhbnNmb3JtPSJtYXRyaXgoMS4wIDAuMCAwLjAgMS4wIDIyOC4wIDU0LjUpIiBmb250LWZhbWlseT0iQ29tZm9ydGFhLVJlZ3VsYXIsIENvbWZvcnRhYSIgZm9udC1zaXplPSI4MDAiIHRleHQtZGVjb3JhdGlvbj0ibm9uZSIgZmlsbD0iI2ZmZmZmZiIgeD0iMS4xOTk5OTk5OTk5OTk5ODg2IiB5PSI3MDUuMCI+bjwvdGV4dD4KIDwvZGVmcz4KIDx1c2UgaWQ9Im4iIHhsaW5rOmhyZWY9IiNzdHJpbmciLz4KPC9zdmc+Cg==\"/>\n",
    "</a>"
   ]
  },
  {
   "cell_type": "markdown",
   "id": "religious-programmer",
   "metadata": {},
   "source": [
    "**Author:** Tannia Dubon\n",
    "**Tags:** #twitter #scrape #nlp #sentiment #classification"
   ]
  },
  {
   "cell_type": "markdown",
   "id": "distinguished-truth",
   "metadata": {
    "papermill": {},
    "tags": []
   },
   "source": [
    "## Input\n",
    "\n",
    "The tweet data is retrieved using the Twitter Developer Platform and spaCy models are used for natural language processesing. Binary classification is used to score the sentiment of the tweets; 1 designated as positive, 0 as negative and a .5 threshold.\n",
    "Use this worksheet to update the query and conduct your own research! "
   ]
  },
  {
   "cell_type": "markdown",
   "id": "numeric-mediterranean",
   "metadata": {},
   "source": [
    "### Install required packages as necessary\n",
    "Download the spaCy English pipeline from the terminal window: python -m spacy download en_core_web_lg"
   ]
  },
  {
   "cell_type": "code",
   "execution_count": null,
   "id": "potential-surfing",
   "metadata": {},
   "outputs": [],
   "source": [
    "%pip install requests\n",
    "%pip install pandas\n",
    "%pip install pyyaml \n",
    "%pip install datetime\n",
    "%pip install pandas\n",
    "%pip install numpy\n",
    "%pip install datetime\n",
    "%pip install matplotlib \n",
    "%pip install wordcloud\n",
    "\n",
    "%pip install seaborn\n",
    "%pip install spacy"
   ]
  },
  {
   "cell_type": "code",
   "execution_count": 8,
   "id": "64bf094d",
   "metadata": {},
   "outputs": [],
   "source": [
    "import os\n",
    "import requests\n",
    "import pandas as pd\n",
    "import json\n",
    "import ast\n",
    "import yaml "
   ]
  },
  {
   "cell_type": "code",
   "execution_count": 58,
   "id": "9ef3b04f",
   "metadata": {},
   "outputs": [],
   "source": [
    "import datetime\n",
    "import pandas as pd\n",
    "import numpy as np\n",
    "from datetime import datetime, date\n",
    "\n",
    "import matplotlib.pyplot as plt\n",
    "import matplotlib as mpl\n",
    "from wordcloud import WordCloud, STOPWORDS, ImageColorGenerator\n",
    "\n",
    "import re\n",
    "import seaborn as sns\n",
    "import string\n",
    "import warnings\n",
    "import random\n",
    "import spacy\n",
    "from spacy.training import Example\n",
    "from spacy.pipeline.textcat import DEFAULT_SINGLE_TEXTCAT_MODEL"
   ]
  },
  {
   "cell_type": "markdown",
   "id": "aggressive-trustee",
   "metadata": {},
   "source": [
    "### Setup Bearer Token to Use Twitter API\n",
    "Save your Twitter token in a plain text file, with a .yaml exension, containing only the following:\n",
    "\n",
    "BEARER_TOKEN: \"***\""
   ]
  },
  {
   "cell_type": "code",
   "execution_count": 11,
   "id": "continuous-melbourne",
   "metadata": {},
   "outputs": [],
   "source": [
    "#AUTHENTICATION SETUP\n",
    "\n",
    "#function to read in YAML file containing your bearer token\n",
    "def process_yaml():\n",
    "    with open(\"/Users/tdubon/twitter/config.yaml\") as file:\n",
    "        return yaml.safe_load(file)\n",
    "     \n",
    "#access bearer token\n",
    "def create_bearer_token(data):\n",
    "    return data[\"BEARER_TOKEN\"] \n",
    "\n",
    "\n",
    "#connect to Twitter API\n",
    "def twitter_auth_and_connect(bearer_token, url):\n",
    "    headers = {\"Authorization\": \"Bearer{}\".format(bearer_token)}\n",
    "    response = requests.request(\"GET\", url, headers=headers)\n",
    "    return response.json()  "
   ]
  },
  {
   "cell_type": "markdown",
   "id": "4c5dbcac",
   "metadata": {},
   "source": [
    "### Retrieve data from Twitter\n",
    "Enter keywords for query in the create_url() function. \n",
    "See https://tinyurl.com/2j5phrhu for instructions on customizing your query syntax"
   ]
  },
  {
   "cell_type": "code",
   "execution_count": 12,
   "id": "2d7563be",
   "metadata": {},
   "outputs": [],
   "source": [
    "def create_url():\n",
    "    query='(Putin OR Lukashenka OR Russia OR \"Vladimir Putin\") -is:retweet lang:en'\n",
    "    query2='(Zelensky OR Ukraine OR Kyiv OR Kharkiv OR Chernihiv OR Mykolaiv OR Mariupol OR \"Volodymyr Zelenskyy\") -is:retweet lang:en'\n",
    "    tweet_fields = \"tweet.fields=created_at,public_metrics,context_annotations,text,possibly_sensitive,geo\"\n",
    "    url = \"https://api.twitter.com/2/tweets/search/recent?query={}&{}\".format(query, tweet_fields)\n",
    "    return url\n",
    "\n",
    "def create_headers(bearer_token):\n",
    "    headers = {\"Authorization\": \"Bearer {}\".format(bearer_token)}\n",
    "    return headers\n",
    "\n",
    "def connect_to_endpoint(url, headers):\n",
    "    response = requests.request(\"GET\", url, headers=headers)\n",
    "    print(response.status_code)\n",
    "    if response.status_code != 200:\n",
    "        raise Exception(response.status_code, response.text)\n",
    "    return response.json()"
   ]
  },
  {
   "cell_type": "code",
   "execution_count": null,
   "id": "1093019b",
   "metadata": {},
   "outputs": [],
   "source": [
    "#Update path below to save to your own desktop\n",
    "\n",
    "def main():\n",
    "    url= create_url()\n",
    "    data = process_yaml()\n",
    "    bearer_token = create_bearer_token(data)\n",
    "    headers = create_headers(bearer_token)\n",
    "    json_response = connect_to_endpoint(url, headers)\n",
    "    print(json.dumps(json_response, indent=4, sort_keys=True))\n",
    "    with open(\"/Users/tdubon/twitter/downloaded_tweets.json\", \"w\") as json_file:\n",
    "        json.dump(json_response, json_file)\n",
    "        \n",
    "if __name__ == \"__main__\":\n",
    "    main()\n",
    "\n",
    "main()"
   ]
  },
  {
   "cell_type": "markdown",
   "id": "85179964",
   "metadata": {},
   "source": [
    "### Extract Data from JSON File"
   ]
  },
  {
   "cell_type": "code",
   "execution_count": 16,
   "id": "a36bc759",
   "metadata": {},
   "outputs": [],
   "source": [
    "#read the JSON file back in\n",
    "with open(\"/Users/tdubon/twitter/downloaded_tweets.json\", \"r\") as f:\n",
    "    read_content = json.load(f)"
   ]
  },
  {
   "cell_type": "code",
   "execution_count": null,
   "id": "ba100a56",
   "metadata": {},
   "outputs": [],
   "source": [
    "#inspect json data\n",
    "read_content[\"data\"]"
   ]
  },
  {
   "cell_type": "code",
   "execution_count": 18,
   "id": "9f482c96",
   "metadata": {},
   "outputs": [
    {
     "data": {
      "text/plain": [
       "10"
      ]
     },
     "execution_count": 18,
     "metadata": {},
     "output_type": "execute_result"
    }
   ],
   "source": [
    "len(read_content[\"data\"])"
   ]
  },
  {
   "cell_type": "markdown",
   "id": "aa44cf5f",
   "metadata": {},
   "source": [
    "#### Define functions to retrieve each tweet field of interest"
   ]
  },
  {
   "cell_type": "code",
   "execution_count": 32,
   "id": "9c21cf65",
   "metadata": {},
   "outputs": [],
   "source": [
    "#Initialize Lists\n",
    "id_data = []\n",
    "date_data = [] \n",
    "rtwt_data = []\n",
    "reply_data = []\n",
    "text_data = []"
   ]
  },
  {
   "cell_type": "code",
   "execution_count": 33,
   "id": "bc88e4cb",
   "metadata": {},
   "outputs": [],
   "source": [
    "def get_id():\n",
    "    for data in read_content[\"data\"]:\n",
    "        id_record = data[\"id\"]\n",
    "        id_data.append(id_record)\n",
    "\n",
    "def get_created_at():\n",
    "    for data in read_content[\"data\"]:\n",
    "        date_record = data[\"created_at\"]\n",
    "        date_data.append(date_record)\n",
    "   \n",
    "\n",
    "def retweet_count():\n",
    "    for retweets in read_content[\"data\"]:\n",
    "        rtwt_count=retweets[\"public_metrics\"][\"retweet_count\"] \n",
    "        rtwt_data.append(rtwt_count)\n",
    "\n",
    "def reply_count():\n",
    "    for reply in read_content[\"data\"]:\n",
    "        reply_count = reply[\"public_metrics\"][\"reply_count\"]\n",
    "        reply_data.append(reply_count)\n",
    "\n",
    "        \n",
    "def get_text():\n",
    "    for data in read_content[\"data\"]:\n",
    "        text_record = data[\"text\"]\n",
    "        text_data.append(text_record)\n",
    "                \n",
    "def get_domain():\n",
    "    d_id = []\n",
    "    d_name = []\n",
    "    d_desc = []\n",
    "    d_twt_id = []\n",
    "    \n",
    "    for j in read_content[\"data\"]:\n",
    "        for i in j:\n",
    "            if i == \"context_annotations\":\n",
    "                for d in j[\"context_annotations\"]:\n",
    "                    d_id.append(d[\"domain\"][\"id\"])\n",
    "                    d_name.append(d[\"domain\"][\"name\"])\n",
    "                    d_desc.append(d[\"domain\"][\"description\"])\n",
    "                    d_twt_id.append(j[\"id\"])\n",
    "                    \n",
    "    domain = {\"id\": d_id, \"name\": d_name, \"desc\": d_desc,\"tweet id\": d_twt_id}\n",
    "    return domain\n",
    "\n",
    "\n",
    "def get_entity():    \n",
    "    e_id = []\n",
    "    e_name = []\n",
    "    e_desc = []\n",
    "    e_twt_id = []\n",
    "\n",
    "    for j in read_content[\"data\"]:\n",
    "        for i in j:\n",
    "            if i == \"context_annotations\":\n",
    "                for d in j[\"context_annotations\"]:\n",
    "                    e_id.append(d[\"entity\"][\"id\"])\n",
    "                    e_name.append(d[\"entity\"][\"name\"])\n",
    "                    e_twt_id.append(j[\"id\"])\n",
    "                \n",
    "    entity = {\"id\": e_id, \"name\": e_name, \"desc\": e_desc,\"tweet id\": e_twt_id}\n",
    "    return entity"
   ]
  },
  {
   "cell_type": "code",
   "execution_count": 34,
   "id": "8a0be0d2",
   "metadata": {},
   "outputs": [],
   "source": [
    "def main():\n",
    "    get_id() \n",
    "    get_created_at() \n",
    "    retweet_count()\n",
    "    reply_count() \n",
    "    get_text()\n",
    "    get_domain()\n",
    "    get_entity()\n",
    "\n",
    "main()"
   ]
  },
  {
   "cell_type": "code",
   "execution_count": 35,
   "id": "9a080ba2",
   "metadata": {},
   "outputs": [
    {
     "name": "stdout",
     "output_type": "stream",
     "text": [
      "{'id': ['864931126132985856', '864931126132985856', '1139123917073707008', '864931126132985856', '864931126132985856', '864931126132985856', '864931126132985856', '1054463473948577792', '1054463473948577792', '10040395078', '864931126132985856', '10040395078', '864931126132985856', '864931126132985856', '864931126132985856', '864931126132985856', '864931126132985856', '864931126132985856', '864931126132985856', '799022225751871488', '1070710947310788608', '799022225751871488', '1486458201117642754', '1070710947310788608', '864931126132985856', '864931126132985856', '864931126132985856', '864931126132985856'], 'name': ['Vladimir Putin', 'Vladimir Putin', 'Asha Rangappa', 'Vladimir Putin', 'Vladimir Putin', 'Vladimir Putin', 'Vladimir Putin', 'Kyle Griffin', 'Kyle Griffin', 'Joe Biden', 'Vladimir Putin', 'Joe Biden', 'Vladimir Putin', 'Vladimir Putin', 'Vladimir Putin', 'Vladimir Putin', 'Vladimir Putin', 'Vladimir Putin', 'Vladimir Putin', 'Donald Trump', 'Glenn Greenwald', 'Donald Trump', 'Inflation', 'Glenn Greenwald', 'Vladimir Putin', 'Vladimir Putin', 'Vladimir Putin', 'Vladimir Putin'], 'desc': [], 'tweet id': ['1514043870149066754', '1514043870149066754', '1514043869482172416', '1514043869482172416', '1514043869482172416', '1514043868949454856', '1514043868949454856', '1514043868693553152', '1514043868693553152', '1514043868693553152', '1514043868693553152', '1514043868693553152', '1514043868693553152', '1514043866915160068', '1514043866915160068', '1514043866730549250', '1514043866730549250', '1514043866596397059', '1514043866596397059', '1514043866550255621', '1514043866550255621', '1514043866550255621', '1514043866550255621', '1514043866550255621', '1514043866550255621', '1514043866550255621', '1514043866466463759', '1514043866466463759']}\n"
     ]
    }
   ],
   "source": [
    "#inspect output\n",
    "print(get_entity())"
   ]
  },
  {
   "cell_type": "code",
   "execution_count": 36,
   "id": "5a606e5c",
   "metadata": {},
   "outputs": [
    {
     "name": "stdout",
     "output_type": "stream",
     "text": [
      "{'id': ['10', '35', '10', '10', '35', '10', '35', '10', '94', '10', '10', '35', '35', '10', '35', '10', '35', '10', '35', '10', '10', '35', '67', '94', '10', '35', '10', '35'], 'name': ['Person', 'Politician', 'Person', 'Person', 'Politician', 'Person', 'Politician', 'Person', 'Journalist', 'Person', 'Person', 'Politician', 'Politician', 'Person', 'Politician', 'Person', 'Politician', 'Person', 'Politician', 'Person', 'Person', 'Politician', 'Interests and Hobbies', 'Journalist', 'Person', 'Politician', 'Person', 'Politician'], 'desc': ['Named people in the world like Nelson Mandela', 'Politicians in the world, like Joe Biden', 'Named people in the world like Nelson Mandela', 'Named people in the world like Nelson Mandela', 'Politicians in the world, like Joe Biden', 'Named people in the world like Nelson Mandela', 'Politicians in the world, like Joe Biden', 'Named people in the world like Nelson Mandela', \"A journalist like 'Anderson Cooper'\", 'Named people in the world like Nelson Mandela', 'Named people in the world like Nelson Mandela', 'Politicians in the world, like Joe Biden', 'Politicians in the world, like Joe Biden', 'Named people in the world like Nelson Mandela', 'Politicians in the world, like Joe Biden', 'Named people in the world like Nelson Mandela', 'Politicians in the world, like Joe Biden', 'Named people in the world like Nelson Mandela', 'Politicians in the world, like Joe Biden', 'Named people in the world like Nelson Mandela', 'Named people in the world like Nelson Mandela', 'Politicians in the world, like Joe Biden', 'Interests, opinions, and behaviors of individuals, groups, or cultures; like Speciality Cooking or Theme Parks', \"A journalist like 'Anderson Cooper'\", 'Named people in the world like Nelson Mandela', 'Politicians in the world, like Joe Biden', 'Named people in the world like Nelson Mandela', 'Politicians in the world, like Joe Biden'], 'tweet id': ['1514043870149066754', '1514043870149066754', '1514043869482172416', '1514043869482172416', '1514043869482172416', '1514043868949454856', '1514043868949454856', '1514043868693553152', '1514043868693553152', '1514043868693553152', '1514043868693553152', '1514043868693553152', '1514043868693553152', '1514043866915160068', '1514043866915160068', '1514043866730549250', '1514043866730549250', '1514043866596397059', '1514043866596397059', '1514043866550255621', '1514043866550255621', '1514043866550255621', '1514043866550255621', '1514043866550255621', '1514043866550255621', '1514043866550255621', '1514043866466463759', '1514043866466463759']}\n"
     ]
    }
   ],
   "source": [
    "print(get_domain())"
   ]
  },
  {
   "cell_type": "code",
   "execution_count": 37,
   "id": "505a8d7f",
   "metadata": {},
   "outputs": [
    {
     "name": "stdout",
     "output_type": "stream",
     "text": [
      "10 10 10 10 10\n"
     ]
    }
   ],
   "source": [
    "print(len(id_data), len(date_data), len(rtwt_data), len(reply_data), len(text_data))"
   ]
  },
  {
   "cell_type": "markdown",
   "id": "e016a345",
   "metadata": {},
   "source": [
    "### Save data to pandas dataframe and clean and format text"
   ]
  },
  {
   "cell_type": "code",
   "execution_count": 39,
   "id": "5a5e14bd",
   "metadata": {},
   "outputs": [],
   "source": [
    "#saved tweet fields doe not include entity or domain data\n",
    "save_data = {\"id\": id_data, \"date\": date_data, \"retweet count\": rtwt_data, \"reply count\": reply_data, \"text\": text_data}\n",
    "df = pd.DataFrame(save_data)\n",
    "df.columns\n",
    "df.head()\n",
    "df.to_csv(\"/Users/tdubon/twitter/pol_tweet_data.csv\")"
   ]
  },
  {
   "cell_type": "code",
   "execution_count": 40,
   "id": "13678ab8",
   "metadata": {},
   "outputs": [
    {
     "data": {
      "text/plain": [
       "10"
      ]
     },
     "execution_count": 40,
     "metadata": {},
     "output_type": "execute_result"
    }
   ],
   "source": [
    "len(df)"
   ]
  },
  {
   "cell_type": "code",
   "execution_count": 41,
   "id": "454e4bcd",
   "metadata": {},
   "outputs": [
    {
     "name": "stdout",
     "output_type": "stream",
     "text": [
      "                    id                      date  retweet count  reply count  \\\n",
      "0  1514043870597853193  2022-04-13T00:52:42.000Z              0            0   \n",
      "1  1514043870149066754  2022-04-13T00:52:42.000Z           5800            0   \n",
      "2  1514043869482172416  2022-04-13T00:52:42.000Z              0            0   \n",
      "3  1514043868949454856  2022-04-13T00:52:42.000Z              0            0   \n",
      "4  1514043868693553152  2022-04-13T00:52:42.000Z            402            0   \n",
      "\n",
      "                                                text  \n",
      "0  @313Waly @PAGAL93 @russia_urdu میں تم کو وارنن...  \n",
      "1  RT @IAPonomarenko: Are.\\nYou. \\nJust.\\nKidding...  \n",
      "2  @AshaRangappa_ @JoyceWhiteVance I think it was...  \n",
      "3  @CarmenGranja5 Disfarçar feminismo, do qual so...  \n",
      "4  RT @kylegriffin1: President Biden: \"Putin is j...  \n"
     ]
    }
   ],
   "source": [
    "print(df.head())"
   ]
  },
  {
   "cell_type": "code",
   "execution_count": 42,
   "id": "1360510d",
   "metadata": {},
   "outputs": [],
   "source": [
    "def cleanup_text(file, rem_item):\n",
    "    r = re.findall(rem_item, file)\n",
    "    for i in r:\n",
    "        file = re.sub(i, \"\", file)\n",
    "    return file"
   ]
  },
  {
   "cell_type": "code",
   "execution_count": 43,
   "id": "aed206aa",
   "metadata": {},
   "outputs": [
    {
     "data": {
      "text/plain": [
       "0       میں تم کو وارننگ دے رہا ہوں کہ گالیاں نہیں ...\n",
       "1    RT : Are.\\nYou. \\nJust.\\nKidding.\\nMe?!!\\nVikt...\n",
       "2      I think it was more likely it was the Fly th...\n",
       "3     Disfarçar feminismo, do qual sou apoiante à m...\n",
       "4    RT : President Biden: \"Putin is just trying to...\n",
       "Name: clean text, dtype: object"
      ]
     },
     "execution_count": 43,
     "metadata": {},
     "output_type": "execute_result"
    }
   ],
   "source": [
    "#remove handles\n",
    "df[\"clean text\"] = np.vectorize(cleanup_text)(df[\"text\"], \"@[\\w]*\")\n",
    "df[\"clean text\"].head()"
   ]
  },
  {
   "cell_type": "code",
   "execution_count": 44,
   "id": "cfd595db",
   "metadata": {},
   "outputs": [
    {
     "name": "stdout",
     "output_type": "stream",
     "text": [
      "0       میں تم کو وارننگ دے رہا ہوں کہ گالیاں نہیں ...\n",
      "1    RT : Are.\\nYou. \\nJust.\\nKidding.\\nMe?!!\\nVikt...\n",
      "2      I think it was more likely it was the Fly th...\n",
      "3     Disfarçar feminismo, do qual sou apoiante à m...\n",
      "4    RT : President Biden: \"Putin is just trying to...\n",
      "5    RT : Según el presidente Putin, lo que está pa...\n",
      "6    RT : Putin’s justifications for the war in Ukr...\n",
      "7      Koch likes Pence. Koch likes Putin.\\n\\nKoch ...\n",
      "8    RT : Democrats blamed their 2016 loss on Putin...\n",
      "9    RT : #BreakingNews Kyiv had rejected a visit b...\n",
      "Name: clean text, dtype: object\n"
     ]
    }
   ],
   "source": [
    "len(df[\"clean text\"])\n",
    "print(df[\"clean text\"])"
   ]
  },
  {
   "cell_type": "markdown",
   "id": "629ea421",
   "metadata": {},
   "source": [
    "### Tokenize text in spaCy"
   ]
  },
  {
   "cell_type": "code",
   "execution_count": 45,
   "id": "b25aa678",
   "metadata": {},
   "outputs": [],
   "source": [
    "#convert to tokens\n",
    "nlp = spacy.load(\"en_core_web_lg\") #here you can load a model that you'd previously trained\n",
    "text = str(df[\"clean text\"])\n",
    "doc = nlp(text)"
   ]
  },
  {
   "cell_type": "code",
   "execution_count": 46,
   "id": "5b74af8c",
   "metadata": {},
   "outputs": [
    {
     "data": {
      "text/plain": [
       "[0,\n",
       "       ,\n",
       " میں,\n",
       " تم,\n",
       " کو,\n",
       " وارننگ,\n",
       " دے,\n",
       " رہا,\n",
       " ہوں,\n",
       " کہ,\n",
       " گالیاں,\n",
       " نہیں,\n",
       " ...,\n",
       " ,\n",
       " 1,\n",
       "    ,\n",
       " RT,\n",
       " :,\n",
       " Are.\\nYou,\n",
       " .,\n",
       " \\nJust.\\nKidding.\\nMe?!!\\nVikt,\n",
       " ...,\n",
       " ,\n",
       " 2,\n",
       "      ,\n",
       " I,\n",
       " think,\n",
       " it,\n",
       " was,\n",
       " more,\n",
       " likely,\n",
       " it,\n",
       " was,\n",
       " the,\n",
       " Fly,\n",
       " th,\n",
       " ...,\n",
       " ,\n",
       " 3,\n",
       "     ,\n",
       " Disfarçar,\n",
       " feminismo,\n",
       " ,,\n",
       " do,\n",
       " qual,\n",
       " sou,\n",
       " apoiante,\n",
       " à,\n",
       " m,\n",
       " ...,\n",
       " ,\n",
       " 4,\n",
       "    ,\n",
       " RT,\n",
       " :,\n",
       " President,\n",
       " Biden,\n",
       " :,\n",
       " \",\n",
       " Putin,\n",
       " is,\n",
       " just,\n",
       " trying,\n",
       " to,\n",
       " ...,\n",
       " ,\n",
       " 5,\n",
       "    ,\n",
       " RT,\n",
       " :,\n",
       " Según,\n",
       " el,\n",
       " presidente,\n",
       " Putin,\n",
       " ,,\n",
       " lo,\n",
       " que,\n",
       " está,\n",
       " pa,\n",
       " ...,\n",
       " ,\n",
       " 6,\n",
       "    ,\n",
       " RT,\n",
       " :,\n",
       " Putin,\n",
       " ’s,\n",
       " justifications,\n",
       " for,\n",
       " the,\n",
       " war,\n",
       " in,\n",
       " Ukr,\n",
       " ...,\n",
       " ,\n",
       " 7,\n",
       "      ,\n",
       " Koch,\n",
       " likes,\n",
       " Pence,\n",
       " .,\n",
       " Koch,\n",
       " likes,\n",
       " Putin.\\n\\nKoch,\n",
       " ...,\n",
       " ,\n",
       " 8,\n",
       "    ,\n",
       " RT,\n",
       " :,\n",
       " Democrats,\n",
       " blamed,\n",
       " their,\n",
       " 2016,\n",
       " loss,\n",
       " on,\n",
       " Putin,\n",
       " ...,\n",
       " ,\n",
       " 9,\n",
       "    ,\n",
       " RT,\n",
       " :,\n",
       " #,\n",
       " BreakingNews,\n",
       " Kyiv,\n",
       " had,\n",
       " rejected,\n",
       " a,\n",
       " visit,\n",
       " b,\n",
       " ...,\n",
       " ,\n",
       " Name,\n",
       " :,\n",
       " clean,\n",
       " text,\n",
       " ,,\n",
       " dtype,\n",
       " :,\n",
       " object]"
      ]
     },
     "execution_count": 46,
     "metadata": {},
     "output_type": "execute_result"
    }
   ],
   "source": [
    "tokens_list = [] \n",
    "for token in doc:\n",
    "    tokens_list.append(token)\n",
    "\n",
    "tokens_list"
   ]
  },
  {
   "cell_type": "code",
   "execution_count": 49,
   "id": "2c132a5b",
   "metadata": {},
   "outputs": [
    {
     "name": "stdout",
     "output_type": "stream",
     "text": [
      "0 CARDINAL\n",
      "1 CARDINAL\n",
      "\\nJust.\\nKidding.\\nMe?!!\\nVikt GPE\n",
      "2 CARDINAL\n",
      "3 CARDINAL\n",
      "Disfarçar ORG\n",
      "4 CARDINAL\n",
      "Biden PERSON\n",
      "Putin PERSON\n",
      "5 CARDINAL\n",
      "presidente Putin PERSON\n",
      "lo que está pa... PERSON\n",
      "6 CARDINAL\n",
      "Putin PERSON\n",
      "7 CARDINAL\n",
      "Pence PERSON\n",
      "Koch PERSON\n",
      "8 CARDINAL\n",
      "Democrats NORP\n",
      "2016 DATE\n",
      "Putin PERSON\n",
      "9 CARDINAL\n",
      "BreakingNews Kyiv ORG\n"
     ]
    }
   ],
   "source": [
    "#Review entities recognized\n",
    "for ent in doc.ents:\n",
    "    print(ent.text, ent.label_)"
   ]
  },
  {
   "cell_type": "code",
   "execution_count": 50,
   "id": "47aac127",
   "metadata": {},
   "outputs": [
    {
     "name": "stdout",
     "output_type": "stream",
     "text": [
      "59 60 Putin\n",
      "73 74 Putin\n",
      "85 86 Putin\n",
      "116 117 Putin\n"
     ]
    }
   ],
   "source": [
    "#Add a category for entities of interest, if needed. \n",
    "from spacy.matcher import PhraseMatcher \n",
    "matcher = PhraseMatcher(nlp.vocab) \n",
    "\n",
    "#define politicians as entities \n",
    "terms = [\"Putin\", \"Zelensky\"] \n",
    "patterns = [nlp.make_doc(term) for term in terms] \n",
    "matcher.add(\"politiciansList\", None, *patterns) \n",
    "\n",
    "matches = matcher(doc) \n",
    "\n",
    "#this prints out the spans where the instances are found and the entity identified\n",
    "for mid, start, end in matches: \n",
    "    print(start, end, doc[start:end])"
   ]
  },
  {
   "cell_type": "markdown",
   "id": "registered-showcase",
   "metadata": {},
   "source": [
    "## Model"
   ]
  },
  {
   "cell_type": "markdown",
   "id": "tested-astrology",
   "metadata": {},
   "source": [
    "### Text Classification"
   ]
  },
  {
   "cell_type": "code",
   "execution_count": 51,
   "id": "crude-louisville",
   "metadata": {
    "execution": {
     "iopub.status.busy": "2021-02-23T14:28:14.665219Z",
     "iopub.status.idle": "2021-02-23T14:28:14.668943Z",
     "shell.execute_reply": "2021-02-23T14:28:14.666989Z"
    },
    "papermill": {},
    "tags": []
   },
   "outputs": [],
   "source": [
    "config = {\n",
    "    \"threshold\": 0.5,\n",
    "    \"model\": DEFAULT_SINGLE_TEXTCAT_MODEL }\n",
    "\n",
    "textcat = nlp.add_pipe(\"textcat\", config=config) "
   ]
  },
  {
   "cell_type": "code",
   "execution_count": 54,
   "id": "a48120d6",
   "metadata": {},
   "outputs": [],
   "source": [
    "#create training data for your example consisting of examples of positive and negative sentiment\n",
    "train_data = [(\"Helping refugees. This is what kindness looks like.\", {\"cats\": {\"POS\": True}}),\n",
    "              (\"In this time of uncertainty, we have a clear way forward: Help Ukraine defend itself. Support the Ukrainian people. Hold Russia accountable.\", {\"cats\": {\"POS\": True}}),\n",
    "              (\"Priests demand head of Ukrainian Orthodox Church Moscow Patriarchate be brought to church tribunal for position on war.\", {\"cats\": {\"POS\": True}}),\n",
    "              (\"Mayor of the most northern village in Ukraine Hremiach Hanna Havrylina was released after yesterday’s prisoners’ swap.\", {\"cats\": {\"POS\": True}}),\n",
    "              (\"Look at this female volunteer from Belarus fighting alongside Ukrainians.\", {\"cats\": {\"POS\": True}}),\n",
    "              (\"Russian soldiers: They're animals... Humans don't behave like this. My parents told me about WW2 & the fascists didn't even do such things.\", {\"cats\": {\"NEG\": True}}),\n",
    "              (\"All Russians are evil\", {\"cats\": {\"NEG\": True}}),\n",
    "              (\"The West is pushing Ukraine toward a conflict.\", {\"cats\": {\"NEG\": True}}),\n",
    "              (\"Cowards\", {\"cats\": {\"NEG\": True}}),\n",
    "              (\"Russia’s deployment of combat forces is a mere repositioning of troops on its own territory.\", {\"cats\": {\"NEG\": True}}),\n",
    "              (\"Ukraine and Ukrainian government officials are the aggressor in the Russia-Ukraine relationship.\", {\"cats\": {\"NEG\": True}})] "
   ]
  },
  {
   "cell_type": "code",
   "execution_count": 55,
   "id": "7a0800a4",
   "metadata": {},
   "outputs": [],
   "source": [
    "textcat.add_label(\"POS\")\n",
    "textcat.add_label(\"NEG\")\n",
    "    \n",
    "train_examples = [Example.from_dict(nlp.make_doc(text), label) for text,label in train_data] "
   ]
  },
  {
   "cell_type": "code",
   "execution_count": 56,
   "id": "9ad4b9e4",
   "metadata": {},
   "outputs": [],
   "source": [
    "textcat.initialize(lambda: train_examples, nlp=nlp)"
   ]
  },
  {
   "cell_type": "code",
   "execution_count": 59,
   "id": "49a4c58c",
   "metadata": {},
   "outputs": [
    {
     "name": "stdout",
     "output_type": "stream",
     "text": [
      "{'textcat': 0.25}\n",
      "{'textcat': 0.25500524044036865}\n",
      "{'textcat': 0.2589010000228882}\n",
      "{'textcat': 0.24480295181274414}\n",
      "{'textcat': 0.25490760803222656}\n",
      "{'textcat': 0.2575450539588928}\n",
      "{'textcat': 0.2627326250076294}\n",
      "{'textcat': 0.25526320934295654}\n",
      "{'textcat': 0.22870877385139465}\n",
      "{'textcat': 0.2462317943572998}\n",
      "{'textcat': 0.26446953415870667}\n",
      "{'textcat': 0.22347864508628845}\n",
      "{'textcat': 0.21766705811023712}\n",
      "{'textcat': 0.22705990076065063}\n",
      "{'textcat': 0.19442616403102875}\n",
      "{'textcat': 0.2183307409286499}\n",
      "{'textcat': 0.21633052825927734}\n",
      "{'textcat': 0.21402384340763092}\n",
      "{'textcat': 0.2060631811618805}\n",
      "{'textcat': 0.249767005443573}\n",
      "{'textcat': 0.18573309481143951}\n",
      "{'textcat': 0.15079669654369354}\n",
      "{'textcat': 0.16435252130031586}\n",
      "{'textcat': 0.12725785374641418}\n",
      "{'textcat': 0.14863502979278564}\n",
      "{'textcat': 0.17705675959587097}\n",
      "{'textcat': 0.14681510627269745}\n",
      "{'textcat': 0.11564951390028}\n",
      "{'textcat': 0.148309588432312}\n",
      "{'textcat': 0.14384546875953674}\n",
      "{'textcat': 0.13640262186527252}\n",
      "{'textcat': 0.11753412336111069}\n",
      "{'textcat': 0.21318578720092773}\n",
      "{'textcat': 0.17046502232551575}\n",
      "{'textcat': 0.12605954706668854}\n",
      "{'textcat': 0.12454221397638321}\n",
      "{'textcat': 0.148362934589386}\n",
      "{'textcat': 0.07606948167085648}\n",
      "{'textcat': 0.07322798669338226}\n",
      "{'textcat': 0.10180671513080597}\n",
      "{'textcat': 0.05892171338200569}\n",
      "{'textcat': 0.1087702065706253}\n",
      "{'textcat': 0.07316986471414566}\n",
      "{'textcat': 0.13338090479373932}\n",
      "{'textcat': 0.07750533521175385}\n",
      "{'textcat': 0.07614623755216599}\n",
      "{'textcat': 0.09988484531641006}\n",
      "{'textcat': 0.03449693322181702}\n",
      "{'textcat': 0.02961098589003086}\n",
      "{'textcat': 0.10803691297769547}\n",
      "{'textcat': 0.03613593056797981}\n",
      "{'textcat': 0.028211379423737526}\n",
      "{'textcat': 0.11914657801389694}\n",
      "{'textcat': 0.08928460627794266}\n",
      "{'textcat': 0.0641493946313858}\n",
      "{'textcat': 0.024047650396823883}\n",
      "{'textcat': 0.0811842530965805}\n",
      "{'textcat': 0.08335969597101212}\n",
      "{'textcat': 0.05470575764775276}\n",
      "{'textcat': 0.025327149778604507}\n",
      "{'textcat': 0.018038714304566383}\n",
      "{'textcat': 0.02677253633737564}\n",
      "{'textcat': 0.04221736639738083}\n",
      "{'textcat': 0.02308536134660244}\n",
      "{'textcat': 0.021619589999318123}\n",
      "{'textcat': 0.04373258352279663}\n",
      "{'textcat': 0.022505195811390877}\n",
      "{'textcat': 0.029570363461971283}\n",
      "{'textcat': 0.022488050162792206}\n",
      "{'textcat': 0.02832610532641411}\n",
      "{'textcat': 0.009595074690878391}\n",
      "{'textcat': 0.02172982320189476}\n",
      "{'textcat': 0.014570735394954681}\n",
      "{'textcat': 0.010449586436152458}\n",
      "{'textcat': 0.012870265170931816}\n",
      "{'textcat': 0.027359692379832268}\n",
      "{'textcat': 0.02086406573653221}\n",
      "{'textcat': 0.019707923755049706}\n",
      "{'textcat': 0.007076481357216835}\n",
      "{'textcat': 0.006644697394222021}\n",
      "{'textcat': 0.0040503074415028095}\n",
      "{'textcat': 0.024500099942088127}\n",
      "{'textcat': 0.0032658439595252275}\n",
      "{'textcat': 0.0022300202399492264}\n",
      "{'textcat': 0.0012209996348246932}\n",
      "{'textcat': 0.029594680294394493}\n",
      "{'textcat': 0.02827157825231552}\n",
      "{'textcat': 0.03734157606959343}\n",
      "{'textcat': 0.0007726988405920565}\n",
      "{'textcat': 0.0011874798219650984}\n",
      "{'textcat': 0.023388557136058807}\n",
      "{'textcat': 0.01701495051383972}\n",
      "{'textcat': 0.0011682062176987529}\n",
      "{'textcat': 0.0013444157084450126}\n",
      "{'textcat': 0.008470297791063786}\n",
      "{'textcat': 0.001190209062770009}\n",
      "{'textcat': 0.013362090103328228}\n",
      "{'textcat': 0.0005878789816051722}\n",
      "{'textcat': 0.006741090677678585}\n",
      "{'textcat': 0.0007077440968714654}\n",
      "{'textcat': 0.015354783274233341}\n",
      "{'textcat': 0.007197188213467598}\n",
      "{'textcat': 0.0057197087444365025}\n",
      "{'textcat': 0.0005210814415477216}\n",
      "{'textcat': 0.0007764744223095477}\n",
      "{'textcat': 0.000526067684404552}\n",
      "{'textcat': 0.006785138044506311}\n",
      "{'textcat': 0.0007630991749465466}\n",
      "{'textcat': 0.0006299198721535504}\n",
      "{'textcat': 0.0029003804083913565}\n",
      "{'textcat': 0.002517005428671837}\n",
      "{'textcat': 0.00045932477223686874}\n",
      "{'textcat': 0.00044916715705767274}\n",
      "{'textcat': 0.0020299344323575497}\n",
      "{'textcat': 0.002019983483478427}\n",
      "{'textcat': 0.00380711629986763}\n",
      "{'textcat': 0.0002922848507296294}\n",
      "{'textcat': 0.0004647210880648345}\n",
      "{'textcat': 0.001260858727619052}\n",
      "{'textcat': 0.0005149171920493245}\n",
      "{'textcat': 0.0003160290070809424}\n",
      "{'textcat': 0.0007276815013028681}\n",
      "{'textcat': 0.00042570766527205706}\n",
      "{'textcat': 0.0004128224099986255}\n",
      "{'textcat': 0.00033530668588355184}\n",
      "{'textcat': 0.00044515402987599373}\n",
      "{'textcat': 0.0006998252356424928}\n",
      "{'textcat': 0.0002383527171332389}\n",
      "{'textcat': 0.0005310117267072201}\n",
      "{'textcat': 0.00041476963087916374}\n",
      "{'textcat': 0.00017101314733736217}\n",
      "{'textcat': 0.0001561632816446945}\n",
      "{'textcat': 0.0002286008675582707}\n",
      "{'textcat': 0.0003470490628387779}\n",
      "{'textcat': 0.00019829138182103634}\n",
      "{'textcat': 0.0001229731278726831}\n",
      "{'textcat': 0.0002509960613679141}\n",
      "{'textcat': 0.00017314769502263516}\n",
      "{'textcat': 0.00015353912021964788}\n",
      "{'textcat': 0.00022952462313696742}\n",
      "{'textcat': 0.00014520615513902158}\n",
      "{'textcat': 8.813733438728377e-05}\n",
      "{'textcat': 8.664627239340916e-05}\n",
      "{'textcat': 0.0001155534409917891}\n",
      "{'textcat': 0.00021154557180125266}\n",
      "{'textcat': 0.00010625911090755835}\n",
      "{'textcat': 0.00011698022717610002}\n",
      "{'textcat': 7.439012551913038e-05}\n",
      "{'textcat': 0.00012604713265318424}\n",
      "{'textcat': 0.00010106717672897503}\n",
      "{'textcat': 5.561600482906215e-05}\n",
      "{'textcat': 0.00010831248800968751}\n",
      "{'textcat': 8.894159691408277e-05}\n",
      "{'textcat': 5.112668077345006e-05}\n",
      "{'textcat': 8.901356341084465e-05}\n",
      "{'textcat': 8.628932846477255e-05}\n",
      "{'textcat': 7.275820098584518e-05}\n",
      "{'textcat': 4.7075383918127045e-05}\n",
      "{'textcat': 0.0001014414374367334}\n",
      "{'textcat': 5.711327321478166e-05}\n",
      "{'textcat': 5.987102122162469e-05}\n",
      "{'textcat': 7.4184630648233e-05}\n",
      "{'textcat': 3.1494051654590294e-05}\n",
      "{'textcat': 5.503964712261222e-05}\n",
      "{'textcat': 4.102626189705916e-05}\n",
      "{'textcat': 5.104233059682883e-05}\n",
      "{'textcat': 5.726562812924385e-05}\n",
      "{'textcat': 4.4825850636698306e-05}\n",
      "{'textcat': 5.228731970419176e-05}\n",
      "{'textcat': 3.660527363535948e-05}\n",
      "{'textcat': 6.334106728900224e-05}\n",
      "{'textcat': 7.463090878445655e-05}\n",
      "{'textcat': 4.123803955735639e-05}\n",
      "{'textcat': 4.028517287224531e-05}\n",
      "{'textcat': 1.8584938516141847e-05}\n",
      "{'textcat': 2.4098659196170047e-05}\n",
      "{'textcat': 2.994935493916273e-05}\n",
      "{'textcat': 3.401728463359177e-05}\n",
      "{'textcat': 3.13250238832552e-05}\n",
      "{'textcat': 3.16910445690155e-05}\n",
      "{'textcat': 2.7550369850359857e-05}\n",
      "{'textcat': 3.409032797208056e-05}\n",
      "{'textcat': 2.2441612600232475e-05}\n",
      "{'textcat': 3.012641354871448e-05}\n",
      "{'textcat': 3.682630631374195e-05}\n",
      "{'textcat': 3.54504409187939e-05}\n",
      "{'textcat': 1.565716775075998e-05}\n",
      "{'textcat': 2.8303802537266165e-05}\n",
      "{'textcat': 1.843927202571649e-05}\n",
      "{'textcat': 1.8996785001945682e-05}\n",
      "{'textcat': 3.3278774935752153e-05}\n",
      "{'textcat': 2.2225844077183865e-05}\n",
      "{'textcat': 2.1462015865836293e-05}\n",
      "{'textcat': 2.2741347493138164e-05}\n",
      "{'textcat': 2.329611925233621e-05}\n",
      "{'textcat': 2.6514113415032625e-05}\n",
      "{'textcat': 1.9504643205436878e-05}\n",
      "{'textcat': 1.1346370229148306e-05}\n",
      "{'textcat': 1.391867408528924e-05}\n",
      "{'textcat': 1.4582854419131763e-05}\n",
      "{'textcat': 2.260058136016596e-05}\n",
      "{'textcat': 1.827939740906004e-05}\n",
      "{'textcat': 9.28341796679888e-06}\n",
      "{'textcat': 1.8770922906696796e-05}\n",
      "{'textcat': 1.4686374925076962e-05}\n",
      "{'textcat': 1.915245593409054e-05}\n",
      "{'textcat': 1.2506147868407425e-05}\n",
      "{'textcat': 2.7392292395234108e-05}\n",
      "{'textcat': 2.1610276235151105e-05}\n",
      "{'textcat': 2.0690929886768572e-05}\n",
      "{'textcat': 1.1586143045860808e-05}\n",
      "{'textcat': 8.930166586651467e-06}\n",
      "{'textcat': 2.25513031182345e-05}\n",
      "{'textcat': 1.1915502000192646e-05}\n",
      "{'textcat': 7.067866590659833e-06}\n",
      "{'textcat': 1.2414413504302502e-05}\n",
      "{'textcat': 1.299135692534037e-05}\n",
      "{'textcat': 1.2926557246828452e-05}\n",
      "{'textcat': 1.5195524611044675e-05}\n",
      "{'textcat': 1.2420294297044165e-05}\n"
     ]
    }
   ],
   "source": [
    "#Define training example\n",
    "\n",
    "epochs = 20\n",
    "\n",
    "#Disable other pipe components & define training loop to incorporate statistical information\n",
    "\n",
    "with nlp.select_pipes(enable=\"textcat\"):\n",
    "    optimizer = nlp.resume_training() #Creates optimizer object\n",
    "    for i in range(epochs):\n",
    "        random.shuffle(train_data)\n",
    "        for text, label in train_data:\n",
    "            doc = nlp.make_doc(text)\n",
    "            example = Example.from_dict(doc, label) \n",
    "            print(nlp.update([example], sgd=optimizer))"
   ]
  },
  {
   "cell_type": "code",
   "execution_count": 60,
   "id": "cabd3f35",
   "metadata": {},
   "outputs": [
    {
     "name": "stdout",
     "output_type": "stream",
     "text": [
      "{'POS': 0.5506177544593811, 'NEG': 0.4493822455406189}\n"
     ]
    }
   ],
   "source": [
    "#enter an example tweet to test results\n",
    "doc2 = nlp(\"As Russia continues to commit horrific atrocities against the Ukrainian people, we must take additional steps to cut off\")\n",
    "\n",
    "print(doc2.cats)"
   ]
  },
  {
   "cell_type": "code",
   "execution_count": 61,
   "id": "504a43e2",
   "metadata": {},
   "outputs": [
    {
     "name": "stdout",
     "output_type": "stream",
     "text": [
      "{'POS': 0.01599816232919693, 'NEG': 0.984001874923706}\n"
     ]
    }
   ],
   "source": [
    "#enter another example\n",
    "doc3 = nlp(\"One of the captured Russian soldiers who was sent by Putin to “denazify” Ukraine\")\n",
    "print(doc3.cats)"
   ]
  },
  {
   "cell_type": "code",
   "execution_count": 62,
   "id": "64144cf3",
   "metadata": {},
   "outputs": [],
   "source": [
    "#process each row in clean text column\n",
    "df[\"nlp_proc\"] = [nlp(i) for i in df[\"clean text\"]]"
   ]
  },
  {
   "cell_type": "code",
   "execution_count": 63,
   "id": "c9c352a9",
   "metadata": {},
   "outputs": [],
   "source": [
    "#save positive/negative predictions to cats column\n",
    "df[\"cats\"] = [i.cats for i in df[\"nlp_proc\"]]"
   ]
  },
  {
   "cell_type": "code",
   "execution_count": 64,
   "id": "bf38daf1",
   "metadata": {},
   "outputs": [],
   "source": [
    "#assign value of 1 to positive classification, 0 to negative\n",
    "sc_val = []\n",
    "\n",
    "for i in df[\"cats\"]:\n",
    "    if i[\"POS\"] >= .5:\n",
    "        sc_val.append(1)\n",
    "    else:\n",
    "        sc_val.append(0)"
   ]
  },
  {
   "cell_type": "code",
   "execution_count": 65,
   "id": "75dd62bc",
   "metadata": {},
   "outputs": [
    {
     "name": "stdout",
     "output_type": "stream",
     "text": [
      "                    id                      date  retweet count  reply count  \\\n",
      "0  1514043870597853193  2022-04-13T00:52:42.000Z              0            0   \n",
      "1  1514043870149066754  2022-04-13T00:52:42.000Z           5800            0   \n",
      "2  1514043869482172416  2022-04-13T00:52:42.000Z              0            0   \n",
      "3  1514043868949454856  2022-04-13T00:52:42.000Z              0            0   \n",
      "4  1514043868693553152  2022-04-13T00:52:42.000Z            402            0   \n",
      "\n",
      "                                                text  \\\n",
      "0  @313Waly @PAGAL93 @russia_urdu میں تم کو وارنن...   \n",
      "1  RT @IAPonomarenko: Are.\\nYou. \\nJust.\\nKidding...   \n",
      "2  @AshaRangappa_ @JoyceWhiteVance I think it was...   \n",
      "3  @CarmenGranja5 Disfarçar feminismo, do qual so...   \n",
      "4  RT @kylegriffin1: President Biden: \"Putin is j...   \n",
      "\n",
      "                                          clean text  \\\n",
      "0     میں تم کو وارننگ دے رہا ہوں کہ گالیاں نہیں ...   \n",
      "1  RT : Are.\\nYou. \\nJust.\\nKidding.\\nMe?!!\\nVikt...   \n",
      "2    I think it was more likely it was the Fly th...   \n",
      "3   Disfarçar feminismo, do qual sou apoiante à m...   \n",
      "4  RT : President Biden: \"Putin is just trying to...   \n",
      "\n",
      "                                            nlp_proc  \\\n",
      "0  (   , میں, تم, کو, وارننگ, دے, رہا, ہوں, کہ, گ...   \n",
      "1  (RT, :, Are, ., \\n, You, ., \\n, Just, ., \\n, K...   \n",
      "2  (  , I, think, it, was, more, likely, it, was,...   \n",
      "3  ( , Disfarçar, feminismo, ,, do, qual, sou, ap...   \n",
      "4  (RT, :, President, Biden, :, \", Putin, is, jus...   \n",
      "\n",
      "                                                cats  score  \n",
      "0  {'POS': 0.21937572956085205, 'NEG': 0.78062427...      0  \n",
      "1  {'POS': 0.8528706431388855, 'NEG': 0.147129356...      1  \n",
      "2  {'POS': 0.40872564911842346, 'NEG': 0.59127438...      0  \n",
      "3  {'POS': 0.5844583511352539, 'NEG': 0.415541648...      1  \n",
      "4  {'POS': 0.4801730215549469, 'NEG': 0.519826948...      0  \n"
     ]
    }
   ],
   "source": [
    "#append classification score to dataframe\n",
    "df[\"score\"] = sc_val\n",
    "print(df.head())"
   ]
  },
  {
   "cell_type": "code",
   "execution_count": 66,
   "id": "10f1a3bf",
   "metadata": {},
   "outputs": [
    {
     "data": {
      "text/html": [
       "<div>\n",
       "<style scoped>\n",
       "    .dataframe tbody tr th:only-of-type {\n",
       "        vertical-align: middle;\n",
       "    }\n",
       "\n",
       "    .dataframe tbody tr th {\n",
       "        vertical-align: top;\n",
       "    }\n",
       "\n",
       "    .dataframe thead th {\n",
       "        text-align: right;\n",
       "    }\n",
       "</style>\n",
       "<table border=\"1\" class=\"dataframe\">\n",
       "  <thead>\n",
       "    <tr style=\"text-align: right;\">\n",
       "      <th></th>\n",
       "      <th>id</th>\n",
       "      <th>date</th>\n",
       "      <th>retweet count</th>\n",
       "      <th>reply count</th>\n",
       "      <th>text</th>\n",
       "      <th>clean text</th>\n",
       "      <th>nlp_proc</th>\n",
       "      <th>cats</th>\n",
       "      <th>score</th>\n",
       "    </tr>\n",
       "  </thead>\n",
       "  <tbody>\n",
       "    <tr>\n",
       "      <th>0</th>\n",
       "      <td>1514043870597853193</td>\n",
       "      <td>2022-04-13T00:52:42.000Z</td>\n",
       "      <td>0</td>\n",
       "      <td>0</td>\n",
       "      <td>@313Waly @PAGAL93 @russia_urdu میں تم کو وارنن...</td>\n",
       "      <td>میں تم کو وارننگ دے رہا ہوں کہ گالیاں نہیں ...</td>\n",
       "      <td>(   , میں, تم, کو, وارننگ, دے, رہا, ہوں, کہ, گ...</td>\n",
       "      <td>{'POS': 0.21937572956085205, 'NEG': 0.78062427...</td>\n",
       "      <td>0</td>\n",
       "    </tr>\n",
       "    <tr>\n",
       "      <th>1</th>\n",
       "      <td>1514043870149066754</td>\n",
       "      <td>2022-04-13T00:52:42.000Z</td>\n",
       "      <td>5800</td>\n",
       "      <td>0</td>\n",
       "      <td>RT @IAPonomarenko: Are.\\nYou. \\nJust.\\nKidding...</td>\n",
       "      <td>RT : Are.\\nYou. \\nJust.\\nKidding.\\nMe?!!\\nVikt...</td>\n",
       "      <td>(RT, :, Are, ., \\n, You, ., \\n, Just, ., \\n, K...</td>\n",
       "      <td>{'POS': 0.8528706431388855, 'NEG': 0.147129356...</td>\n",
       "      <td>1</td>\n",
       "    </tr>\n",
       "    <tr>\n",
       "      <th>2</th>\n",
       "      <td>1514043869482172416</td>\n",
       "      <td>2022-04-13T00:52:42.000Z</td>\n",
       "      <td>0</td>\n",
       "      <td>0</td>\n",
       "      <td>@AshaRangappa_ @JoyceWhiteVance I think it was...</td>\n",
       "      <td>I think it was more likely it was the Fly th...</td>\n",
       "      <td>(  , I, think, it, was, more, likely, it, was,...</td>\n",
       "      <td>{'POS': 0.40872564911842346, 'NEG': 0.59127438...</td>\n",
       "      <td>0</td>\n",
       "    </tr>\n",
       "    <tr>\n",
       "      <th>3</th>\n",
       "      <td>1514043868949454856</td>\n",
       "      <td>2022-04-13T00:52:42.000Z</td>\n",
       "      <td>0</td>\n",
       "      <td>0</td>\n",
       "      <td>@CarmenGranja5 Disfarçar feminismo, do qual so...</td>\n",
       "      <td>Disfarçar feminismo, do qual sou apoiante à m...</td>\n",
       "      <td>( , Disfarçar, feminismo, ,, do, qual, sou, ap...</td>\n",
       "      <td>{'POS': 0.5844583511352539, 'NEG': 0.415541648...</td>\n",
       "      <td>1</td>\n",
       "    </tr>\n",
       "    <tr>\n",
       "      <th>4</th>\n",
       "      <td>1514043868693553152</td>\n",
       "      <td>2022-04-13T00:52:42.000Z</td>\n",
       "      <td>402</td>\n",
       "      <td>0</td>\n",
       "      <td>RT @kylegriffin1: President Biden: \"Putin is j...</td>\n",
       "      <td>RT : President Biden: \"Putin is just trying to...</td>\n",
       "      <td>(RT, :, President, Biden, :, \", Putin, is, jus...</td>\n",
       "      <td>{'POS': 0.4801730215549469, 'NEG': 0.519826948...</td>\n",
       "      <td>0</td>\n",
       "    </tr>\n",
       "    <tr>\n",
       "      <th>5</th>\n",
       "      <td>1514043866915160068</td>\n",
       "      <td>2022-04-13T00:52:42.000Z</td>\n",
       "      <td>116</td>\n",
       "      <td>0</td>\n",
       "      <td>RT @PetroDivisa: Según el presidente Putin, lo...</td>\n",
       "      <td>RT : Según el presidente Putin, lo que está pa...</td>\n",
       "      <td>(RT, :, Según, el, presidente, Putin, ,, lo, q...</td>\n",
       "      <td>{'POS': 0.5012431144714355, 'NEG': 0.498756915...</td>\n",
       "      <td>1</td>\n",
       "    </tr>\n",
       "    <tr>\n",
       "      <th>6</th>\n",
       "      <td>1514043866730549250</td>\n",
       "      <td>2022-04-13T00:52:42.000Z</td>\n",
       "      <td>3348</td>\n",
       "      <td>0</td>\n",
       "      <td>RT @maxseddon: Putin’s justifications for the ...</td>\n",
       "      <td>RT : Putin’s justifications for the war in Ukr...</td>\n",
       "      <td>(RT, :, Putin, ’s, justifications, for, the, w...</td>\n",
       "      <td>{'POS': 0.8582465052604675, 'NEG': 0.141753420...</td>\n",
       "      <td>1</td>\n",
       "    </tr>\n",
       "    <tr>\n",
       "      <th>7</th>\n",
       "      <td>1514043866596397059</td>\n",
       "      <td>2022-04-13T00:52:42.000Z</td>\n",
       "      <td>0</td>\n",
       "      <td>0</td>\n",
       "      <td>@anthony7andrews @JoyceWhiteVance Koch likes P...</td>\n",
       "      <td>Koch likes Pence. Koch likes Putin.\\n\\nKoch ...</td>\n",
       "      <td>(  , Koch, likes, Pence, ., Koch, likes, Putin...</td>\n",
       "      <td>{'POS': 0.7482811808586121, 'NEG': 0.251718848...</td>\n",
       "      <td>1</td>\n",
       "    </tr>\n",
       "    <tr>\n",
       "      <th>8</th>\n",
       "      <td>1514043866550255621</td>\n",
       "      <td>2022-04-13T00:52:42.000Z</td>\n",
       "      <td>742</td>\n",
       "      <td>0</td>\n",
       "      <td>RT @ggreenwald: Democrats blamed their 2016 lo...</td>\n",
       "      <td>RT : Democrats blamed their 2016 loss on Putin...</td>\n",
       "      <td>(RT, :, Democrats, blamed, their, 2016, loss, ...</td>\n",
       "      <td>{'POS': 0.1858828067779541, 'NEG': 0.814117193...</td>\n",
       "      <td>0</td>\n",
       "    </tr>\n",
       "    <tr>\n",
       "      <th>9</th>\n",
       "      <td>1514043866466463759</td>\n",
       "      <td>2022-04-13T00:52:41.000Z</td>\n",
       "      <td>15</td>\n",
       "      <td>0</td>\n",
       "      <td>RT @FordJohnathan5: #BreakingNews Kyiv had rej...</td>\n",
       "      <td>RT : #BreakingNews Kyiv had rejected a visit b...</td>\n",
       "      <td>(RT, :, #, BreakingNews, Kyiv, had, rejected, ...</td>\n",
       "      <td>{'POS': 0.12598344683647156, 'NEG': 0.87401652...</td>\n",
       "      <td>0</td>\n",
       "    </tr>\n",
       "  </tbody>\n",
       "</table>\n",
       "</div>"
      ],
      "text/plain": [
       "                    id                      date  retweet count  reply count  \\\n",
       "0  1514043870597853193  2022-04-13T00:52:42.000Z              0            0   \n",
       "1  1514043870149066754  2022-04-13T00:52:42.000Z           5800            0   \n",
       "2  1514043869482172416  2022-04-13T00:52:42.000Z              0            0   \n",
       "3  1514043868949454856  2022-04-13T00:52:42.000Z              0            0   \n",
       "4  1514043868693553152  2022-04-13T00:52:42.000Z            402            0   \n",
       "5  1514043866915160068  2022-04-13T00:52:42.000Z            116            0   \n",
       "6  1514043866730549250  2022-04-13T00:52:42.000Z           3348            0   \n",
       "7  1514043866596397059  2022-04-13T00:52:42.000Z              0            0   \n",
       "8  1514043866550255621  2022-04-13T00:52:42.000Z            742            0   \n",
       "9  1514043866466463759  2022-04-13T00:52:41.000Z             15            0   \n",
       "\n",
       "                                                text  \\\n",
       "0  @313Waly @PAGAL93 @russia_urdu میں تم کو وارنن...   \n",
       "1  RT @IAPonomarenko: Are.\\nYou. \\nJust.\\nKidding...   \n",
       "2  @AshaRangappa_ @JoyceWhiteVance I think it was...   \n",
       "3  @CarmenGranja5 Disfarçar feminismo, do qual so...   \n",
       "4  RT @kylegriffin1: President Biden: \"Putin is j...   \n",
       "5  RT @PetroDivisa: Según el presidente Putin, lo...   \n",
       "6  RT @maxseddon: Putin’s justifications for the ...   \n",
       "7  @anthony7andrews @JoyceWhiteVance Koch likes P...   \n",
       "8  RT @ggreenwald: Democrats blamed their 2016 lo...   \n",
       "9  RT @FordJohnathan5: #BreakingNews Kyiv had rej...   \n",
       "\n",
       "                                          clean text  \\\n",
       "0     میں تم کو وارننگ دے رہا ہوں کہ گالیاں نہیں ...   \n",
       "1  RT : Are.\\nYou. \\nJust.\\nKidding.\\nMe?!!\\nVikt...   \n",
       "2    I think it was more likely it was the Fly th...   \n",
       "3   Disfarçar feminismo, do qual sou apoiante à m...   \n",
       "4  RT : President Biden: \"Putin is just trying to...   \n",
       "5  RT : Según el presidente Putin, lo que está pa...   \n",
       "6  RT : Putin’s justifications for the war in Ukr...   \n",
       "7    Koch likes Pence. Koch likes Putin.\\n\\nKoch ...   \n",
       "8  RT : Democrats blamed their 2016 loss on Putin...   \n",
       "9  RT : #BreakingNews Kyiv had rejected a visit b...   \n",
       "\n",
       "                                            nlp_proc  \\\n",
       "0  (   , میں, تم, کو, وارننگ, دے, رہا, ہوں, کہ, گ...   \n",
       "1  (RT, :, Are, ., \\n, You, ., \\n, Just, ., \\n, K...   \n",
       "2  (  , I, think, it, was, more, likely, it, was,...   \n",
       "3  ( , Disfarçar, feminismo, ,, do, qual, sou, ap...   \n",
       "4  (RT, :, President, Biden, :, \", Putin, is, jus...   \n",
       "5  (RT, :, Según, el, presidente, Putin, ,, lo, q...   \n",
       "6  (RT, :, Putin, ’s, justifications, for, the, w...   \n",
       "7  (  , Koch, likes, Pence, ., Koch, likes, Putin...   \n",
       "8  (RT, :, Democrats, blamed, their, 2016, loss, ...   \n",
       "9  (RT, :, #, BreakingNews, Kyiv, had, rejected, ...   \n",
       "\n",
       "                                                cats  score  \n",
       "0  {'POS': 0.21937572956085205, 'NEG': 0.78062427...      0  \n",
       "1  {'POS': 0.8528706431388855, 'NEG': 0.147129356...      1  \n",
       "2  {'POS': 0.40872564911842346, 'NEG': 0.59127438...      0  \n",
       "3  {'POS': 0.5844583511352539, 'NEG': 0.415541648...      1  \n",
       "4  {'POS': 0.4801730215549469, 'NEG': 0.519826948...      0  \n",
       "5  {'POS': 0.5012431144714355, 'NEG': 0.498756915...      1  \n",
       "6  {'POS': 0.8582465052604675, 'NEG': 0.141753420...      1  \n",
       "7  {'POS': 0.7482811808586121, 'NEG': 0.251718848...      1  \n",
       "8  {'POS': 0.1858828067779541, 'NEG': 0.814117193...      0  \n",
       "9  {'POS': 0.12598344683647156, 'NEG': 0.87401652...      0  "
      ]
     },
     "execution_count": 66,
     "metadata": {},
     "output_type": "execute_result"
    }
   ],
   "source": [
    "#check dataframe\n",
    "df"
   ]
  },
  {
   "cell_type": "code",
   "execution_count": 67,
   "id": "4c38e976",
   "metadata": {},
   "outputs": [
    {
     "name": "stdout",
     "output_type": "stream",
     "text": [
      "1514043870149066754 RT : Are.\n",
      "You. \n",
      "Just.\n",
      "Kidding.\n",
      "Me?!!\n",
      "Viktor Medvedchuk, Putin’s main man in Ukraine, busted as a result of a Ukrainian spec o… 1\n",
      "1514043868949454856  Disfarçar feminismo, do qual sou apoiante à muitos anos, com apoio à ditadura assassina e Bárbara de Putin é profundamente desonesto do ponto de vista intelectual! 1\n",
      "1514043866915160068 RT : Según el presidente Putin, lo que está pasando en este momento es la destrucción del sistema de un mundo unipolar que se f… 1\n",
      "1514043866730549250 RT : Putin’s justifications for the war in Ukraine:\n",
      "\n",
      "– “the main goal is to help people”\n",
      "– “we were forced to do it”\n",
      "– “we couldn… 1\n",
      "1514043866596397059   Koch likes Pence. Koch likes Putin.\n",
      "\n",
      "Koch has cash.\n",
      "\n",
      "This ain’t that hard. 1\n"
     ]
    }
   ],
   "source": [
    "#print out tweet id, text and score = to review results\n",
    "for index, i in enumerate(df[\"score\"]):\n",
    "    if i == 1:\n",
    "        print(df[\"id\"][index], df[\"clean text\"][index], df[\"score\"][index])"
   ]
  },
  {
   "cell_type": "markdown",
   "id": "lonely-pacific",
   "metadata": {
    "execution": {
     "iopub.execute_input": "2021-07-02T23:32:10.789097Z",
     "iopub.status.busy": "2021-07-02T23:32:10.788829Z",
     "iopub.status.idle": "2021-07-02T23:32:10.796900Z",
     "shell.execute_reply": "2021-07-02T23:32:10.796358Z",
     "shell.execute_reply.started": "2021-07-02T23:32:10.789033Z"
    }
   },
   "source": [
    "## Output"
   ]
  },
  {
   "cell_type": "markdown",
   "id": "linear-address",
   "metadata": {},
   "source": [
    "### Display result"
   ]
  },
  {
   "cell_type": "code",
   "execution_count": 68,
   "id": "offensive-poetry",
   "metadata": {},
   "outputs": [
    {
     "data": {
      "image/png": "[encoded data removed]",
      "text/plain": [
       "<Figure size 432x288 with 1 Axes>"
      ]
     },
     "metadata": {
      "needs_background": "light"
     },
     "output_type": "display_data"
    }
   ],
   "source": [
    "#wordcloud\n",
    "wordcloud = WordCloud(stopwords = STOPWORDS, collocations=True).generate(str(tokens_list))\n",
    "\n",
    "plt.imshow(wordcloud, interpolation=\"bilinear\")\n",
    "plt.axis(\"off\")\n",
    "plt.show()"
   ]
  },
  {
   "cell_type": "code",
   "execution_count": 69,
   "id": "e7c1dbfd",
   "metadata": {},
   "outputs": [
    {
     "data": {
      "image/png": "[encoded data removed]",
      "text/plain": [
       "<Figure size 432x288 with 1 Axes>"
      ]
     },
     "metadata": {
      "needs_background": "light"
     },
     "output_type": "display_data"
    }
   ],
   "source": [
    "#plot\n",
    "ax = df.score.value_counts().plot(kind=\"bar\", colormap=\"Paired\")\n",
    "plt.show()"
   ]
  },
  {
   "cell_type": "code",
   "execution_count": 71,
   "id": "073809c0",
   "metadata": {},
   "outputs": [
    {
     "name": "stdout",
     "output_type": "stream",
     "text": [
      "Saved model to /Users/tdubon/spaCy_models\n"
     ]
    }
   ],
   "source": [
    "#Saving custom model - define where you would like your model to be saved. \n",
    "\n",
    "from pathlib import Path\n",
    "output_dir=Path(\"/Users/tdubon/spaCy_models\")\n",
    "\n",
    "def save_model(output_dir):\n",
    "    if output_dir is not None:\n",
    "        output_dir = Path(output_dir)\n",
    "        if not output_dir.exists():\n",
    "            output_dir.mkdir()\n",
    "        nlp.to_disk(output_dir)\n",
    "        print(\"Saved model to\", output_dir)\n",
    "        \n",
    "save_model(output_dir)"
   ]
  },
  {
   "cell_type": "code",
   "execution_count": null,
   "id": "39013dcc",
   "metadata": {},
   "outputs": [],
   "source": [
    "### To load trained, custom model on new data use:\n",
    "#nlp = spacy.load(\"/Users/tdubon/spaCy_models\")"
   ]
  }
 ],
 "metadata": {
  "kernelspec": {
   "display_name": "Python 3 (ipykernel)",
   "language": "python",
   "name": "python3"
  },
  "language_info": {
   "codemirror_mode": {
    "name": "ipython",
    "version": 3
   },
   "file_extension": ".py",
   "mimetype": "text/x-python",
   "name": "python",
   "nbconvert_exporter": "python",
   "pygments_lexer": "ipython3",
   "version": "3.9.7"
  },
  "papermill": {
   "default_parameters": {},
   "environment_variables": {},
   "parameters": {},
   "version": "2.3.3"
  },
  "widgets": {
   "application/vnd.jupyter.widget-state+json": {
    "state": {},
    "version_major": 2,
    "version_minor": 0
   }
  }
 },
 "nbformat": 4,
 "nbformat_minor": 5
}
