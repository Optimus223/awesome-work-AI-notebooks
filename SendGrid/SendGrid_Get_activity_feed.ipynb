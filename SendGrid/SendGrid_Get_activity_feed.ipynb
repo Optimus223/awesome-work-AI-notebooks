{
 "cells": [
  {
   "cell_type": "markdown",
   "id": "85db721e-2267-40ca-ac5b-00c08ec10ff0",
   "metadata": {},
   "source": [
    "<img width=\"10%\" alt=\"Naas\" src=\"https://landen.imgix.net/jtci2pxwjczr/assets/5ice39g4.png?w=160\"/>"
   ]
  },
  {
   "cell_type": "markdown",
   "id": "2ba2f665-d276-4881-81f8-c9524f75796b",
   "metadata": {},
   "source": [
    "# Sendgrid - Get activity feed"
   ]
  },
  {
   "cell_type": "markdown",
   "id": "b55448ec-bd35-4884-b72f-a06a3f12c914",
   "metadata": {},
   "source": [
    "**Tags:** #sendgrid #activity #snippet"
   ]
  },
  {
   "cell_type": "markdown",
   "id": "b025116f-fd57-40ae-81db-99d9dbc30445",
   "metadata": {},
   "source": [
    "**Author:** [Sanjeet Attili](https://linkedin.com/in/sanjeet-attili-760bab190/)"
   ]
  },
  {
   "cell_type": "markdown",
   "id": "c11af9c0-6407-4dec-aba3-ed8cb5ea011d",
   "metadata": {},
   "source": [
    "This notebook enables you to get a dataframe of all the activities performed"
   ]
  },
  {
   "cell_type": "markdown",
   "id": "ec2132f6-bf89-4236-8ac7-0c207f8f03b1",
   "metadata": {},
   "source": [
    "## Input"
   ]
  },
  {
   "cell_type": "markdown",
   "id": "81f26c9b-0c3c-4cf8-ad50-dc67e6329ba1",
   "metadata": {},
   "source": [
    "### Imports"
   ]
  },
  {
   "cell_type": "code",
   "execution_count": 1,
   "id": "26c428b4-66f4-48a4-82db-ff24cdec1782",
   "metadata": {
    "execution": {
     "iopub.execute_input": "2022-03-08T15:03:58.650167Z",
     "iopub.status.busy": "2022-03-08T15:03:58.649931Z",
     "iopub.status.idle": "2022-03-08T15:03:59.971701Z",
     "shell.execute_reply": "2022-03-08T15:03:59.970972Z",
     "shell.execute_reply.started": "2022-03-08T15:03:58.650084Z"
    },
    "tags": []
   },
   "outputs": [],
   "source": [
    "import pandas as pd\n",
    "import requests\n",
    "from sendgrid import SendGridAPIClient\n",
    "from sendgrid.helpers.mail import *\n",
    "import naas"
   ]
  },
  {
   "cell_type": "markdown",
   "id": "392e708f-7c32-45d7-8937-382c9651fc0f",
   "metadata": {},
   "source": [
    "### Setup SendGrid\n",
    "👉 Get your [api key](https://app.sendgrid.com/settings/api_keys)"
   ]
  },
  {
   "cell_type": "code",
   "execution_count": 2,
   "id": "2de7b1bc-5ec9-4fa7-b89f-3f72f1b9a5e0",
   "metadata": {
    "execution": {
     "iopub.execute_input": "2022-03-08T15:03:59.974468Z",
     "iopub.status.busy": "2022-03-08T15:03:59.974291Z",
     "iopub.status.idle": "2022-03-08T15:04:00.094009Z",
     "shell.execute_reply": "2022-03-08T15:04:00.093433Z",
     "shell.execute_reply.started": "2022-03-08T15:03:59.974448Z"
    },
    "tags": []
   },
   "outputs": [],
   "source": [
    "SENDGRID_API_KEY = naas.secret.get(\"SENDGRID_API_KEY\")"
   ]
  },
  {
   "cell_type": "markdown",
   "id": "a180347f-a2e1-44b2-bce0-775c7ac63b04",
   "metadata": {},
   "source": [
    "## Model"
   ]
  },
  {
   "cell_type": "markdown",
   "id": "61983024-d97c-46d5-b27c-b7d5c7af5869",
   "metadata": {},
   "source": [
    "### Get activity"
   ]
  },
  {
   "cell_type": "code",
   "execution_count": 7,
   "id": "37b21763-5432-4dda-bbe9-ffe8c960401a",
   "metadata": {
    "execution": {
     "iopub.execute_input": "2022-03-08T15:04:35.597978Z",
     "iopub.status.busy": "2022-03-08T15:04:35.597757Z",
     "iopub.status.idle": "2022-03-08T15:04:35.991990Z",
     "shell.execute_reply": "2022-03-08T15:04:35.990601Z",
     "shell.execute_reply.started": "2022-03-08T15:04:35.597954Z"
    },
    "tags": []
   },
   "outputs": [
    {
     "ename": "BadRequestsError",
     "evalue": "HTTP Error 400: Bad Request",
     "output_type": "error",
     "traceback": [
      "\u001b[0;31m---------------------------------------------------------------------------\u001b[0m",
      "\u001b[0;31mBadRequestsError\u001b[0m                          Traceback (most recent call last)",
      "\u001b[0;32m<ipython-input-7-9cb706e7dbc0>\u001b[0m in \u001b[0;36m<module>\u001b[0;34m\u001b[0m\n\u001b[1;32m      7\u001b[0m \u001b[0mparams\u001b[0m \u001b[0;34m=\u001b[0m \u001b[0;34m{\u001b[0m\u001b[0;34m'query'\u001b[0m\u001b[0;34m:\u001b[0m \u001b[0;34m'status%3D%22processed%22'\u001b[0m\u001b[0;34m,\u001b[0m \u001b[0;34m'limit'\u001b[0m\u001b[0;34m:\u001b[0m \u001b[0;36m10\u001b[0m\u001b[0;34m}\u001b[0m\u001b[0;34m\u001b[0m\u001b[0;34m\u001b[0m\u001b[0m\n\u001b[1;32m      8\u001b[0m \u001b[0;34m\u001b[0m\u001b[0m\n\u001b[0;32m----> 9\u001b[0;31m response = SG.client.messages.get(\n\u001b[0m\u001b[1;32m     10\u001b[0m     \u001b[0mquery_params\u001b[0m\u001b[0;34m=\u001b[0m\u001b[0mparams\u001b[0m\u001b[0;34m\u001b[0m\u001b[0;34m\u001b[0m\u001b[0m\n\u001b[1;32m     11\u001b[0m )\n",
      "\u001b[0;32m/opt/conda/lib/python3.9/site-packages/python_http_client/client.py\u001b[0m in \u001b[0;36mhttp_request\u001b[0;34m(request_body, query_params, request_headers, timeout, **_)\u001b[0m\n\u001b[1;32m    275\u001b[0m \u001b[0;34m\u001b[0m\u001b[0m\n\u001b[1;32m    276\u001b[0m                 response = Response(\n\u001b[0;32m--> 277\u001b[0;31m                     \u001b[0mself\u001b[0m\u001b[0;34m.\u001b[0m\u001b[0m_make_request\u001b[0m\u001b[0;34m(\u001b[0m\u001b[0mopener\u001b[0m\u001b[0;34m,\u001b[0m \u001b[0mrequest\u001b[0m\u001b[0;34m,\u001b[0m \u001b[0mtimeout\u001b[0m\u001b[0;34m=\u001b[0m\u001b[0mtimeout\u001b[0m\u001b[0;34m)\u001b[0m\u001b[0;34m\u001b[0m\u001b[0;34m\u001b[0m\u001b[0m\n\u001b[0m\u001b[1;32m    278\u001b[0m                 )\n\u001b[1;32m    279\u001b[0m \u001b[0;34m\u001b[0m\u001b[0m\n",
      "\u001b[0;32m/opt/conda/lib/python3.9/site-packages/python_http_client/client.py\u001b[0m in \u001b[0;36m_make_request\u001b[0;34m(self, opener, request, timeout)\u001b[0m\n\u001b[1;32m    182\u001b[0m                 \u001b[0mstatus\u001b[0m\u001b[0;34m=\u001b[0m\u001b[0mexc\u001b[0m\u001b[0;34m.\u001b[0m\u001b[0mstatus_code\u001b[0m\u001b[0;34m,\u001b[0m\u001b[0;34m\u001b[0m\u001b[0;34m\u001b[0m\u001b[0m\n\u001b[1;32m    183\u001b[0m                 body=exc.body))\n\u001b[0;32m--> 184\u001b[0;31m             \u001b[0;32mraise\u001b[0m \u001b[0mexc\u001b[0m\u001b[0;34m\u001b[0m\u001b[0;34m\u001b[0m\u001b[0m\n\u001b[0m\u001b[1;32m    185\u001b[0m \u001b[0;34m\u001b[0m\u001b[0m\n\u001b[1;32m    186\u001b[0m     \u001b[0;32mdef\u001b[0m \u001b[0m_\u001b[0m\u001b[0;34m(\u001b[0m\u001b[0mself\u001b[0m\u001b[0;34m,\u001b[0m \u001b[0mname\u001b[0m\u001b[0;34m)\u001b[0m\u001b[0;34m:\u001b[0m\u001b[0;34m\u001b[0m\u001b[0;34m\u001b[0m\u001b[0m\n",
      "\u001b[0;31mBadRequestsError\u001b[0m: HTTP Error 400: Bad Request"
     ]
    }
   ],
   "source": [
    "import os\n",
    "from sendgrid import SendGridAPIClient\n",
    "\n",
    "\n",
    "SG = SendGridAPIClient(SENDGRID_API_KEY)\n",
    "\n",
    "params = {'query': 'status%3D%22processed%22',\n",
    "          'limit': 10}\n",
    "\n",
    "response = SG.client.messages.get(\n",
    "    query_params=params\n",
    ")\n",
    "\n",
    "print(response.status_code)\n",
    "print(response.body)\n",
    "print(response.headers)"
   ]
  },
  {
   "cell_type": "markdown",
   "id": "6109e162-ea7e-4db3-bb71-41c5e1403ea1",
   "metadata": {},
   "source": [
    "## Output"
   ]
  },
  {
   "cell_type": "markdown",
   "id": "b54a2952-c67e-418b-b491-40162fb75477",
   "metadata": {},
   "source": [
    "### Send the mail"
   ]
  },
  {
   "cell_type": "code",
   "execution_count": null,
   "id": "f9d8bcd0-0502-42b2-8379-eed7b37a7216",
   "metadata": {},
   "outputs": [],
   "source": []
  }
 ],
 "metadata": {
  "kernelspec": {
   "display_name": "Python 3",
   "language": "python",
   "name": "python3"
  },
  "language_info": {
   "codemirror_mode": {
    "name": "ipython",
    "version": 3
   },
   "file_extension": ".py",
   "mimetype": "text/x-python",
   "name": "python",
   "nbconvert_exporter": "python",
   "pygments_lexer": "ipython3",
   "version": "3.9.6"
  }
 },
 "nbformat": 4,
 "nbformat_minor": 5
}
