{
 "cells": [
  {
   "cell_type": "markdown",
   "id": "85db721e-2267-40ca-ac5b-00c08ec10ff0",
   "metadata": {},
   "source": [
    "<img width=\"10%\" alt=\"Naas\" src=\"https://landen.imgix.net/jtci2pxwjczr/assets/5ice39g4.png?w=160\"/>"
   ]
  },
  {
   "cell_type": "markdown",
   "id": "2ba2f665-d276-4881-81f8-c9524f75796b",
   "metadata": {},
   "source": [
    "# Sendgrid - Get activity feed"
   ]
  },
  {
   "cell_type": "markdown",
   "id": "b55448ec-bd35-4884-b72f-a06a3f12c914",
   "metadata": {},
   "source": [
    "**Tags:** #sendgrid #activity #snippet"
   ]
  },
  {
   "cell_type": "markdown",
   "id": "b025116f-fd57-40ae-81db-99d9dbc30445",
   "metadata": {},
   "source": [
    "**Author:** [Sanjeet Attili](https://linkedin.com/in/sanjeet-attili-760bab190/)"
   ]
  },
  {
   "cell_type": "markdown",
   "id": "c11af9c0-6407-4dec-aba3-ed8cb5ea011d",
   "metadata": {},
   "source": [
    "This notebook enables you to get a dataframe of all the activities performed"
   ]
  },
  {
   "cell_type": "markdown",
   "id": "ec2132f6-bf89-4236-8ac7-0c207f8f03b1",
   "metadata": {},
   "source": [
    "## Input"
   ]
  },
  {
   "cell_type": "markdown",
   "id": "81f26c9b-0c3c-4cf8-ad50-dc67e6329ba1",
   "metadata": {},
   "source": [
    "### Imports"
   ]
  },
  {
   "cell_type": "code",
   "execution_count": 8,
   "id": "26c428b4-66f4-48a4-82db-ff24cdec1782",
   "metadata": {
    "execution": {
     "iopub.execute_input": "2022-03-08T15:10:35.859216Z",
     "iopub.status.busy": "2022-03-08T15:10:35.858973Z",
     "iopub.status.idle": "2022-03-08T15:10:35.862634Z",
     "shell.execute_reply": "2022-03-08T15:10:35.862010Z",
     "shell.execute_reply.started": "2022-03-08T15:10:35.859181Z"
    },
    "tags": []
   },
   "outputs": [],
   "source": [
    "import os\n",
    "from sendgrid import SendGridAPIClient\n",
    "import naas"
   ]
  },
  {
   "cell_type": "markdown",
   "id": "392e708f-7c32-45d7-8937-382c9651fc0f",
   "metadata": {},
   "source": [
    "### Setup SendGrid\n",
    "👉 Get your [api key](https://app.sendgrid.com/settings/api_keys)"
   ]
  },
  {
   "cell_type": "code",
   "execution_count": 9,
   "id": "2de7b1bc-5ec9-4fa7-b89f-3f72f1b9a5e0",
   "metadata": {
    "execution": {
     "iopub.execute_input": "2022-03-08T15:10:36.365249Z",
     "iopub.status.busy": "2022-03-08T15:10:36.364821Z",
     "iopub.status.idle": "2022-03-08T15:10:36.489828Z",
     "shell.execute_reply": "2022-03-08T15:10:36.489117Z",
     "shell.execute_reply.started": "2022-03-08T15:10:36.365207Z"
    },
    "tags": []
   },
   "outputs": [],
   "source": [
    "SENDGRID_API_KEY = naas.secret.get(\"SENDGRID_API_KEY\")"
   ]
  },
  {
   "cell_type": "code",
   "execution_count": 14,
   "id": "8b52af7b-8eb1-4d85-a46c-364855736be3",
   "metadata": {
    "execution": {
     "iopub.execute_input": "2022-03-08T15:11:10.155795Z",
     "iopub.status.busy": "2022-03-08T15:11:10.155561Z",
     "iopub.status.idle": "2022-03-08T15:11:10.158670Z",
     "shell.execute_reply": "2022-03-08T15:11:10.158014Z",
     "shell.execute_reply.started": "2022-03-08T15:11:10.155770Z"
    },
    "tags": []
   },
   "outputs": [],
   "source": [
    "sg = SendGridAPIClient(SENDGRID_API_KEY)"
   ]
  },
  {
   "cell_type": "markdown",
   "id": "a180347f-a2e1-44b2-bce0-775c7ac63b04",
   "metadata": {},
   "source": [
    "## Model"
   ]
  },
  {
   "cell_type": "markdown",
   "id": "61983024-d97c-46d5-b27c-b7d5c7af5869",
   "metadata": {},
   "source": [
    "### Get activity\n",
    "https://docs.sendgrid.com/api-reference/e-mail-activity/filter-all-messages?code-sample=code-filter-all-messages&code-language=Python&code-sdk-version=6.x"
   ]
  },
  {
   "cell_type": "code",
   "execution_count": 17,
   "id": "37b21763-5432-4dda-bbe9-ffe8c960401a",
   "metadata": {
    "execution": {
     "iopub.execute_input": "2022-03-08T15:13:51.654719Z",
     "iopub.status.busy": "2022-03-08T15:13:51.654491Z",
     "iopub.status.idle": "2022-03-08T15:13:52.160383Z",
     "shell.execute_reply": "2022-03-08T15:13:52.159001Z",
     "shell.execute_reply.started": "2022-03-08T15:13:51.654695Z"
    },
    "tags": []
   },
   "outputs": [
    {
     "ename": "BadRequestsError",
     "evalue": "HTTP Error 400: Bad Request",
     "output_type": "error",
     "traceback": [
      "\u001b[0;31m---------------------------------------------------------------------------\u001b[0m",
      "\u001b[0;31mBadRequestsError\u001b[0m                          Traceback (most recent call last)",
      "\u001b[0;32m<ipython-input-17-c3b27452eda1>\u001b[0m in \u001b[0;36m<module>\u001b[0;34m\u001b[0m\n\u001b[1;32m      1\u001b[0m \u001b[0mparams\u001b[0m \u001b[0;34m=\u001b[0m \u001b[0;34m{\u001b[0m\u001b[0;34m'query'\u001b[0m\u001b[0;34m:\u001b[0m \u001b[0;34m'ZGkrHSypTsudrGkmdpJJ'\u001b[0m\u001b[0;34m,\u001b[0m \u001b[0;34m'limit'\u001b[0m\u001b[0;34m:\u001b[0m \u001b[0;36m10\u001b[0m\u001b[0;34m}\u001b[0m\u001b[0;34m\u001b[0m\u001b[0;34m\u001b[0m\u001b[0m\n\u001b[1;32m      2\u001b[0m \u001b[0;34m\u001b[0m\u001b[0m\n\u001b[0;32m----> 3\u001b[0;31m response = sg.client.messages.get(\n\u001b[0m\u001b[1;32m      4\u001b[0m     \u001b[0mquery_params\u001b[0m\u001b[0;34m=\u001b[0m\u001b[0mparams\u001b[0m\u001b[0;34m\u001b[0m\u001b[0;34m\u001b[0m\u001b[0m\n\u001b[1;32m      5\u001b[0m )\n",
      "\u001b[0;32m/opt/conda/lib/python3.9/site-packages/python_http_client/client.py\u001b[0m in \u001b[0;36mhttp_request\u001b[0;34m(request_body, query_params, request_headers, timeout, **_)\u001b[0m\n\u001b[1;32m    275\u001b[0m \u001b[0;34m\u001b[0m\u001b[0m\n\u001b[1;32m    276\u001b[0m                 response = Response(\n\u001b[0;32m--> 277\u001b[0;31m                     \u001b[0mself\u001b[0m\u001b[0;34m.\u001b[0m\u001b[0m_make_request\u001b[0m\u001b[0;34m(\u001b[0m\u001b[0mopener\u001b[0m\u001b[0;34m,\u001b[0m \u001b[0mrequest\u001b[0m\u001b[0;34m,\u001b[0m \u001b[0mtimeout\u001b[0m\u001b[0;34m=\u001b[0m\u001b[0mtimeout\u001b[0m\u001b[0;34m)\u001b[0m\u001b[0;34m\u001b[0m\u001b[0;34m\u001b[0m\u001b[0m\n\u001b[0m\u001b[1;32m    278\u001b[0m                 )\n\u001b[1;32m    279\u001b[0m \u001b[0;34m\u001b[0m\u001b[0m\n",
      "\u001b[0;32m/opt/conda/lib/python3.9/site-packages/python_http_client/client.py\u001b[0m in \u001b[0;36m_make_request\u001b[0;34m(self, opener, request, timeout)\u001b[0m\n\u001b[1;32m    182\u001b[0m                 \u001b[0mstatus\u001b[0m\u001b[0;34m=\u001b[0m\u001b[0mexc\u001b[0m\u001b[0;34m.\u001b[0m\u001b[0mstatus_code\u001b[0m\u001b[0;34m,\u001b[0m\u001b[0;34m\u001b[0m\u001b[0;34m\u001b[0m\u001b[0m\n\u001b[1;32m    183\u001b[0m                 body=exc.body))\n\u001b[0;32m--> 184\u001b[0;31m             \u001b[0;32mraise\u001b[0m \u001b[0mexc\u001b[0m\u001b[0;34m\u001b[0m\u001b[0;34m\u001b[0m\u001b[0m\n\u001b[0m\u001b[1;32m    185\u001b[0m \u001b[0;34m\u001b[0m\u001b[0m\n\u001b[1;32m    186\u001b[0m     \u001b[0;32mdef\u001b[0m \u001b[0m_\u001b[0m\u001b[0;34m(\u001b[0m\u001b[0mself\u001b[0m\u001b[0;34m,\u001b[0m \u001b[0mname\u001b[0m\u001b[0;34m)\u001b[0m\u001b[0;34m:\u001b[0m\u001b[0;34m\u001b[0m\u001b[0;34m\u001b[0m\u001b[0m\n",
      "\u001b[0;31mBadRequestsError\u001b[0m: HTTP Error 400: Bad Request"
     ]
    }
   ],
   "source": [
    "params = {'query': 'ZGkrHSypTsudrGkmdpJJ', 'limit': 10}\n",
    "\n",
    "response = sg.client.messages.get(\n",
    "    query_params=params\n",
    ")\n",
    "\n",
    "print(response.status_code)\n",
    "print(response.body)\n",
    "print(response.headers)"
   ]
  },
  {
   "cell_type": "markdown",
   "id": "6109e162-ea7e-4db3-bb71-41c5e1403ea1",
   "metadata": {},
   "source": [
    "## Output"
   ]
  },
  {
   "cell_type": "markdown",
   "id": "b54a2952-c67e-418b-b491-40162fb75477",
   "metadata": {},
   "source": [
    "### Display result"
   ]
  },
  {
   "cell_type": "code",
   "execution_count": null,
   "id": "f9d8bcd0-0502-42b2-8379-eed7b37a7216",
   "metadata": {},
   "outputs": [],
   "source": []
  }
 ],
 "metadata": {
  "kernelspec": {
   "display_name": "Python 3",
   "language": "python",
   "name": "python3"
  },
  "language_info": {
   "codemirror_mode": {
    "name": "ipython",
    "version": 3
   },
   "file_extension": ".py",
   "mimetype": "text/x-python",
   "name": "python",
   "nbconvert_exporter": "python",
   "pygments_lexer": "ipython3",
   "version": "3.9.6"
  }
 },
 "nbformat": 4,
 "nbformat_minor": 5
}
