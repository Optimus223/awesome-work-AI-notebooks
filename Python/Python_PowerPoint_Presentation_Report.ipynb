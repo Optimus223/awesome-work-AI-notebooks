{
 "cells": [
  {
   "cell_type": "markdown",
   "id": "latin-packing",
   "metadata": {
    "execution": {
     "iopub.execute_input": "2021-02-23T14:22:16.610471Z",
     "iopub.status.busy": "2021-02-23T14:22:16.610129Z",
     "iopub.status.idle": "2021-02-23T14:22:16.627784Z",
     "shell.execute_reply": "2021-02-23T14:22:16.626866Z",
     "shell.execute_reply.started": "2021-02-23T14:22:16.610384Z"
    },
    "papermill": {},
    "tags": []
   },
   "source": [
    "<img width=\"10%\" alt=\"Naas\" src=\"https://landen.imgix.net/jtci2pxwjczr/assets/5ice39g4.png?w=160\"/>"
   ]
  },
  {
   "cell_type": "markdown",
   "id": "compressed-wilson",
   "metadata": {
    "papermill": {},
    "tags": []
   },
   "source": [
    "# PowerPoint - Report Presentation\n",
    "<a href=\"https://app.naas.ai/user-redirect/naas/downloader?url=https://raw.githubusercontent.com/jupyter-naas/awesome-notebooks/master/template.ipynb\" target=\"_parent\">\n",
    "<img src=\"https://img.shields.io/badge/-Open%20in%20Naas-success?labelColor=000000&logo=data:image/svg+xml;base64,PD94bWwgdmVyc2lvbj0iMS4wIiBlbmNvZGluZz0iVVRGLTgiPz4KPHN2ZyB3aWR0aD0iMTAyNHB4IiBoZWlnaHQ9IjEwMjRweCIgdmlld0JveD0iMCAwIDEwMjQgMTAyNCIgeG1sbnM9Imh0dHA6Ly93d3cudzMub3JnLzIwMDAvc3ZnIiB4bWxuczp4bGluaz0iaHR0cDovL3d3dy53My5vcmcvMTk5OS94bGluayIgdmVyc2lvbj0iMS4xIj4KIDwhLS0gR2VuZXJhdGVkIGJ5IFBpeGVsbWF0b3IgUHJvIDIuMC41IC0tPgogPGRlZnM+CiAgPHRleHQgaWQ9InN0cmluZyIgdHJhbnNmb3JtPSJtYXRyaXgoMS4wIDAuMCAwLjAgMS4wIDIyOC4wIDU0LjUpIiBmb250LWZhbWlseT0iQ29tZm9ydGFhLVJlZ3VsYXIsIENvbWZvcnRhYSIgZm9udC1zaXplPSI4MDAiIHRleHQtZGVjb3JhdGlvbj0ibm9uZSIgZmlsbD0iI2ZmZmZmZiIgeD0iMS4xOTk5OTk5OTk5OTk5ODg2IiB5PSI3MDUuMCI+bjwvdGV4dD4KIDwvZGVmcz4KIDx1c2UgaWQ9Im4iIHhsaW5rOmhyZWY9IiNzdHJpbmciLz4KPC9zdmc+Cg==\"/>\n",
    "</a><br><br><a href=\"https://github.com/jupyter-naas/awesome-notebooks/issues/new?assignees=&labels=&template=template-request.md&title=Tool+-+Action+of+the+notebook+\">💡 Template request</a> | <a href=\"https://github.com/jupyter-naas/awesome-notebooks/issues/new?assignees=&labels=&template=bug_report.md&title=[ERROR]+Tool+/+Folder+Action+of+the+notebook+\">🚨 Bug report</a>"
   ]
  },
  {
   "cell_type": "markdown",
   "id": "religious-programmer",
   "metadata": {},
   "source": [
    "**Tags:** #powerpoint #naas #python #python_pptx"
   ]
  },
  {
   "cell_type": "markdown",
   "id": "1fe9f56e-561c-4f52-aef8-b861c9462107",
   "metadata": {},
   "source": [
    "**Author:** [Ayoub Berdeddouch](https://www.linkedin.com/in/ayoub-berdeddouch)"
   ]
  },
  {
   "cell_type": "markdown",
   "id": "31ea7cdb-e10d-43fc-b026-f69249a59736",
   "metadata": {},
   "source": [
    "**Description:** This notebook Creates a Report Presentation in PowerPoint"
   ]
  },
  {
   "cell_type": "markdown",
   "id": "distinguished-truth",
   "metadata": {
    "papermill": {},
    "tags": []
   },
   "source": [
    "## Input"
   ]
  },
  {
   "cell_type": "markdown",
   "id": "numeric-mediterranean",
   "metadata": {},
   "source": [
    "### Import libraries"
   ]
  },
  {
   "cell_type": "markdown",
   "id": "a9ae36e1-de27-4385-8a41-c8c162f8077c",
   "metadata": {},
   "source": [
    "* Installation : https://pypi.org/project/python-pptx/\n",
    "* **pptx documentation : https://python-pptx.readthedocs.io/en/latest/api/presentation.html**"
   ]
  },
  {
   "cell_type": "code",
   "execution_count": 1,
   "id": "ce180419-c18c-4f7b-a69f-0d96732f4ea2",
   "metadata": {
    "execution": {
     "iopub.execute_input": "2022-10-19T10:31:18.240531Z",
     "iopub.status.busy": "2022-10-19T10:31:18.240262Z",
     "iopub.status.idle": "2022-10-19T10:31:19.145734Z",
     "shell.execute_reply": "2022-10-19T10:31:19.143894Z",
     "shell.execute_reply.started": "2022-10-19T10:31:18.240467Z"
    },
    "tags": []
   },
   "outputs": [
    {
     "name": "stdout",
     "output_type": "stream",
     "text": [
      "/bin/bash: pip: command not found\n"
     ]
    }
   ],
   "source": [
    "!pip install python-pptx --quiet"
   ]
  },
  {
   "cell_type": "code",
   "execution_count": 6,
   "id": "potential-surfing",
   "metadata": {
    "execution": {
     "iopub.execute_input": "2022-10-19T10:54:00.795050Z",
     "iopub.status.busy": "2022-10-19T10:54:00.794812Z",
     "iopub.status.idle": "2022-10-19T10:54:00.799064Z",
     "shell.execute_reply": "2022-10-19T10:54:00.798435Z",
     "shell.execute_reply.started": "2022-10-19T10:54:00.795028Z"
    },
    "tags": []
   },
   "outputs": [],
   "source": [
    "from pptx import Presentation\n",
    "from pptx.enum.shapes import MSO_SHAPE\n",
    "from pptx.dml.color import RGBColor\n",
    "from pptx.util import Inches, Pt\n",
    "from pptx.enum.dml import MSO_THEME_COLOR"
   ]
  },
  {
   "cell_type": "markdown",
   "id": "aggressive-trustee",
   "metadata": {},
   "source": [
    "### Variables"
   ]
  },
  {
   "cell_type": "markdown",
   "id": "registered-showcase",
   "metadata": {},
   "source": [
    "## Model"
   ]
  },
  {
   "cell_type": "code",
   "execution_count": 25,
   "id": "2566b0bc-4932-4066-aa4a-b1a2b60405c1",
   "metadata": {
    "execution": {
     "iopub.execute_input": "2022-10-19T11:16:35.582149Z",
     "iopub.status.busy": "2022-10-19T11:16:35.581923Z",
     "iopub.status.idle": "2022-10-19T11:16:35.597037Z",
     "shell.execute_reply": "2022-10-19T11:16:35.596429Z",
     "shell.execute_reply.started": "2022-10-19T11:16:35.582127Z"
    },
    "tags": []
   },
   "outputs": [],
   "source": [
    "title='NaaS Automated Presentation Creating Process\\n\\\n",
    "How to Create PowerPoint Presentations with NaaS Jupyter Template '\n",
    "naaslogo='naaslogo.png'\n",
    "pptlogo='pptlogo.png'\n",
    "prs = Presentation()\n"
   ]
  },
  {
   "cell_type": "markdown",
   "id": "tested-astrology",
   "metadata": {},
   "source": [
    "### Create a title and a line within the Presentation"
   ]
  },
  {
   "cell_type": "code",
   "execution_count": 26,
   "id": "78700b93-32a9-4f0e-806a-325ed006338f",
   "metadata": {
    "execution": {
     "iopub.execute_input": "2022-10-19T11:16:36.531316Z",
     "iopub.status.busy": "2022-10-19T11:16:36.531045Z",
     "iopub.status.idle": "2022-10-19T11:16:36.553918Z",
     "shell.execute_reply": "2022-10-19T11:16:36.553395Z",
     "shell.execute_reply.started": "2022-10-19T11:16:36.531291Z"
    },
    "tags": []
   },
   "outputs": [],
   "source": [
    "# front page\n",
    "#-----------------------------------------------------------------------------------------------------------------------\n",
    "slide = prs.slides.add_slide(prs.slide_layouts[6])\n",
    "prs.slide_width = Inches(16)\n",
    "prs.slide_height = Inches(9)\n",
    "\n",
    "\n",
    "\n",
    "shape = slide.shapes.add_shape(\n",
    "    MSO_SHAPE.RECTANGLE, 0, Inches(9/1.5),Inches(16),Inches(9/8.5)\n",
    ")\n",
    "shape.shadow.inherit = False\n",
    "fill=shape.fill\n",
    "fill.solid()\n",
    "fill.fore_color.rgb=RGBColor(0,0,0)\n",
    "shape.text= title\n",
    "line=shape.line\n",
    "line.color.rgb=RGBColor(0,0,0)\n",
    "logo1=slide.shapes.add_picture(naaslogo,Inches(13.8),Inches(6.0),height=Inches(1.0),width=Inches(1.0))\n",
    "logo2=slide.shapes.add_picture(pptlogo,Inches(14.5),Inches(5.8),height=Inches(1.5),width=Inches(1.5))\n"
   ]
  },
  {
   "cell_type": "code",
   "execution_count": 27,
   "id": "7859443d-66d1-4c8c-acca-4dec4fd1e763",
   "metadata": {
    "execution": {
     "iopub.execute_input": "2022-10-19T11:16:36.826850Z",
     "iopub.status.busy": "2022-10-19T11:16:36.825738Z",
     "iopub.status.idle": "2022-10-19T11:16:36.863978Z",
     "shell.execute_reply": "2022-10-19T11:16:36.863412Z",
     "shell.execute_reply.started": "2022-10-19T11:16:36.826810Z"
    },
    "tags": []
   },
   "outputs": [],
   "source": [
    "#-----------------------------------------------------------------------------------------------------------------------\n",
    "\n",
    "#Page 1\n",
    "#-----------------------------------------------------------------------------------------------------------------------\n",
    "slide = prs.slides.add_slide(prs.slide_layouts[6])\n",
    "\n",
    "shape = slide.shapes.add_shape(\n",
    "    MSO_SHAPE.RECTANGLE, 0, Inches(0.5),Inches(16),Inches(0.3))\n",
    "shape.shadow.inherit = False\n",
    "fill=shape.fill\n",
    "fill.solid()\n",
    "fill.fore_color.rgb=RGBColor(0,0,0)\n",
    "shape.text= \"How to Add a Chart\"\n",
    "line=shape.line\n",
    "line.color.rgb=RGBColor(0,0,0)\n",
    "logo1=slide.shapes.add_picture(naaslogo,Inches(14.5),Inches(0.4),height=Inches(0.5),width=Inches(0.5))\n",
    "logo2=slide.shapes.add_picture(pptlogo,Inches(15.0),Inches(0.4),height=Inches(0.5),width=Inches(0.5))\n",
    "\n",
    "from pptx.chart.data import CategoryChartData\n",
    "from pptx.enum.chart import XL_CHART_TYPE\n",
    "from pptx.chart.data import ChartData\n",
    "from pptx.util import Inches\n",
    "import numpy as np \n",
    "import datetime\n",
    "\n",
    "\n",
    "N = 100\n",
    "\n",
    "random_x = np.random.randn(N) + 10\n",
    "random_y = np.random.randn(N)+5\n",
    "random_z = np.random.randn(N) +20\n",
    "\n",
    "dte=datetime.datetime.today()\n",
    "dt_lst=[dte-datetime.timedelta(days=i) for i in range(N)]\n",
    "\n",
    "chart_data = ChartData()\n",
    "chart_data.categories = dt_lst\n",
    "chart_data.add_series('Data 1',    random_x)\n",
    "chart_data.add_series('Data 2',    random_y)\n",
    "chart_data.add_series('Data 3',    random_z)\n",
    "\n",
    "x, y, cx, cy = Inches(1), Inches(2), Inches(14), Inches(6)\n",
    "chart = slide.shapes.add_chart(\n",
    "    XL_CHART_TYPE.LINE, x, y, cx, cy, chart_data\n",
    ").chart\n",
    "chart.has_legend = True\n",
    "chart.legend.include_in_layout = False\n",
    "chart.series[2].smooth = True\n",
    "\n",
    "\n",
    "\n",
    "\n"
   ]
  },
  {
   "cell_type": "code",
   "execution_count": 28,
   "id": "52113694-4919-4974-adef-0fc3b37f910b",
   "metadata": {
    "execution": {
     "iopub.execute_input": "2022-10-19T11:16:37.194505Z",
     "iopub.status.busy": "2022-10-19T11:16:37.194274Z",
     "iopub.status.idle": "2022-10-19T11:16:37.651529Z",
     "shell.execute_reply": "2022-10-19T11:16:37.650877Z",
     "shell.execute_reply.started": "2022-10-19T11:16:37.194482Z"
    },
    "tags": []
   },
   "outputs": [],
   "source": [
    "#Page 2\n",
    "#-----------------------------------------------------------------------------------------------------------------------\n",
    "slide = prs.slides.add_slide(prs.slide_layouts[6])\n",
    "\n",
    "shape = slide.shapes.add_shape(\n",
    "    MSO_SHAPE.RECTANGLE, 0, Inches(0.5),Inches(16),Inches(0.3))\n",
    "shape.shadow.inherit = False\n",
    "fill=shape.fill\n",
    "fill.solid()\n",
    "fill.fore_color.rgb=RGBColor(0,0,0)\n",
    "shape.text= \"How to Add an Image\"\n",
    "line=shape.line\n",
    "line.color.rgb=RGBColor(0,0,0)\n",
    "logo1=slide.shapes.add_picture(naaslogo,Inches(14.5),Inches(0.4),height=Inches(0.5),width=Inches(0.5))\n",
    "logo2=slide.shapes.add_picture(pptlogo,Inches(15.0),Inches(0.4),height=Inches(0.5),width=Inches(0.5))\n",
    "\n",
    "import plotly.graph_objects as go\n",
    "import pandas as pd\n",
    "\n",
    "df = pd.read_csv('https://raw.githubusercontent.com/plotly/datasets/\\\n",
    "718417069ead87650b90472464c7565dc8c2cb1c/sunburst-coffee-flavors-complete.csv')\n",
    "\n",
    "fig = go.Figure(go.Sunburst(\n",
    "        ids = df.ids,\n",
    "        labels = df.labels,\n",
    "        parents = df.parents))\n",
    "fig.update_layout(uniformtext=dict(minsize=10, mode='hide'))\n",
    "\n",
    "fig.write_image(\"img.png\")\n",
    "\n",
    "imgpth='img.png'\n",
    "\n",
    "left = top = Inches(1)\n",
    "pic = slide.shapes.add_picture(imgpth, left, top)"
   ]
  },
  {
   "cell_type": "code",
   "execution_count": 29,
   "id": "64794df9-36b4-4ff3-9073-450fb99aea91",
   "metadata": {
    "execution": {
     "iopub.execute_input": "2022-10-19T11:16:37.652914Z",
     "iopub.status.busy": "2022-10-19T11:16:37.652674Z",
     "iopub.status.idle": "2022-10-19T11:16:37.678093Z",
     "shell.execute_reply": "2022-10-19T11:16:37.677610Z",
     "shell.execute_reply.started": "2022-10-19T11:16:37.652882Z"
    },
    "tags": []
   },
   "outputs": [],
   "source": [
    "#Page 3\n",
    "#-----------------------------------------------------------------------------------------------------------------------\n",
    "slide = prs.slides.add_slide(prs.slide_layouts[6])\n",
    "\n",
    "shape = slide.shapes.add_shape(\n",
    "    MSO_SHAPE.RECTANGLE, 0, Inches(0.5),Inches(16),Inches(0.3))\n",
    "shape.shadow.inherit = False\n",
    "fill=shape.fill\n",
    "fill.solid()\n",
    "fill.fore_color.rgb=RGBColor(0,0,0)\n",
    "shape.text= \"How to Add a Text\\ Paragraph\"\n",
    "line=shape.line\n",
    "line.color.rgb=RGBColor(0,0,0)\n",
    "logo1=slide.shapes.add_picture(naaslogo,Inches(14.5),Inches(0.4),height=Inches(0.5),width=Inches(0.5))\n",
    "logo2=slide.shapes.add_picture(pptlogo,Inches(15.0),Inches(0.4),height=Inches(0.5),width=Inches(0.5))\n",
    "\n",
    "left = Inches(1)\n",
    "top = Inches(2)\n",
    "width = Inches(12)\n",
    "height = Inches(5)\n",
    "\n",
    "text_box=slide.shapes.add_textbox(left, top, width, height)\n",
    "\n",
    "tb=text_box.text_frame\n",
    "tb.text='Ready to use data science templates, organized by tools to jumpstart your projects and data products in minutes.\\n\\\n",
    "😎 published by the Naas community.'\n",
    "\n",
    "prg=tb.add_paragraph()\n",
    "prg.text=\" \"\n",
    "\n",
    "prg=tb.add_paragraph()\n",
    "prg.text=\"😎Naas Templates😎 ~~ (aka the awesome-notebooks)\"\n"
   ]
  },
  {
   "cell_type": "code",
   "execution_count": 30,
   "id": "bbebd879-a361-4f9e-bff0-9badd20a15a0",
   "metadata": {
    "execution": {
     "iopub.execute_input": "2022-10-19T11:16:38.181233Z",
     "iopub.status.busy": "2022-10-19T11:16:38.180996Z",
     "iopub.status.idle": "2022-10-19T11:16:38.280777Z",
     "shell.execute_reply": "2022-10-19T11:16:38.280018Z",
     "shell.execute_reply.started": "2022-10-19T11:16:38.181211Z"
    },
    "tags": []
   },
   "outputs": [],
   "source": [
    "#Last Page\n",
    "#-----------------------------------------------------------------------------------------------------------------------\n",
    "slide = prs.slides.add_slide(prs.slide_layouts[6])\n",
    "\n",
    "shape = slide.shapes.add_shape(\n",
    "    MSO_SHAPE.RECTANGLE, 0, Inches(4.0),Inches(16),Inches(1.0))\n",
    "shape.shadow.inherit = False\n",
    "fill=shape.fill\n",
    "fill.solid()\n",
    "fill.fore_color.rgb=RGBColor(0,0,0)\n",
    "shape.text= \"Thank You, by Ayoub Berdeddouch\"\n",
    "line=shape.line\n",
    "line.color.rgb=RGBColor(0,0,0)\n",
    "logo1=slide.shapes.add_picture(naaslogo,Inches(14.5),Inches(4.0),height=Inches(1.0),width=Inches(1.0))\n",
    "logo2=slide.shapes.add_picture(pptlogo,Inches(15.0),Inches(4.0),height=Inches(1.0),width=Inches(1.0))\n"
   ]
  },
  {
   "cell_type": "markdown",
   "id": "lonely-pacific",
   "metadata": {
    "execution": {
     "iopub.execute_input": "2021-07-02T23:32:10.789097Z",
     "iopub.status.busy": "2021-07-02T23:32:10.788829Z",
     "iopub.status.idle": "2021-07-02T23:32:10.796900Z",
     "shell.execute_reply": "2021-07-02T23:32:10.796358Z",
     "shell.execute_reply.started": "2021-07-02T23:32:10.789033Z"
    }
   },
   "source": [
    "## Output"
   ]
  },
  {
   "cell_type": "markdown",
   "id": "890f7c86-b7bb-4f5d-9a1b-e492dd9580fd",
   "metadata": {},
   "source": [
    "### Save result in csv"
   ]
  },
  {
   "cell_type": "code",
   "execution_count": 31,
   "id": "9c4e3b7b-6440-4844-8054-265f1aec65eb",
   "metadata": {
    "execution": {
     "iopub.execute_input": "2022-10-19T11:16:46.912048Z",
     "iopub.status.busy": "2022-10-19T11:16:46.911818Z",
     "iopub.status.idle": "2022-10-19T11:16:47.040844Z",
     "shell.execute_reply": "2022-10-19T11:16:47.040175Z",
     "shell.execute_reply.started": "2022-10-19T11:16:46.912024Z"
    },
    "tags": []
   },
   "outputs": [],
   "source": [
    "prs.save('basic_presentation_naas.pptx')"
   ]
  }
 ],
 "metadata": {
  "kernelspec": {
   "display_name": "Python 3",
   "language": "python",
   "name": "python3"
  },
  "language_info": {
   "codemirror_mode": {
    "name": "ipython",
    "version": 3
   },
   "file_extension": ".py",
   "mimetype": "text/x-python",
   "name": "python",
   "nbconvert_exporter": "python",
   "pygments_lexer": "ipython3",
   "version": "3.9.6"
  },
  "papermill": {
   "default_parameters": {},
   "environment_variables": {},
   "parameters": {},
   "version": "2.3.3"
  },
  "widgets": {
   "application/vnd.jupyter.widget-state+json": {
    "state": {},
    "version_major": 2,
    "version_minor": 0
   }
  }
 },
 "nbformat": 4,
 "nbformat_minor": 5
}
