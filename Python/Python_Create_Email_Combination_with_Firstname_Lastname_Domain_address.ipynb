{
 "cells": [
  {
   "cell_type": "markdown",
   "id": "c13048e0-a3d6-4e88-b09f-a043f95069d3",
   "metadata": {
    "papermill": {},
    "tags": []
   },
   "source": [
    "<img width=\"10%\" alt=\"Naas\" src=\"https://landen.imgix.net/jtci2pxwjczr/assets/5ice39g4.png?w=160\"/>"
   ]
  },
  {
   "cell_type": "markdown",
   "id": "21777b52-5e68-4474-862c-ace24b036ac3",
   "metadata": {
    "papermill": {},
    "tags": []
   },
   "source": [
    "# Python - Create Email Combination with Firstname, Lastname, Domain address"
   ]
  },
  {
   "cell_type": "markdown",
   "id": "b5a579de-6969-4368-a49c-7b0745d98208",
   "metadata": {
    "papermill": {},
    "tags": []
   },
   "source": [
    "**Tags:** #python #email #combination #firstname #lastname #domain"
   ]
  },
  {
   "cell_type": "markdown",
   "id": "564e450c-0168-4770-90b9-438021dbd18c",
   "metadata": {
    "papermill": {},
    "tags": []
   },
   "source": [
    "**Author:** [Florent Ravenel](https://www.linkedin.com/in/florent-ravenel/)"
   ]
  },
  {
   "cell_type": "markdown",
   "id": "5daa2d54-e61b-4c17-9ac7-f6fba95b1e17",
   "metadata": {
    "papermill": {},
    "tags": []
   },
   "source": [
    "**Description:** This notebook will show how to create an email combination with firstname, lastname and domain address."
   ]
  },
  {
   "cell_type": "markdown",
   "id": "93623ecb-0d7b-4a24-a918-6076d4079c48",
   "metadata": {
    "papermill": {},
    "tags": []
   },
   "source": [
    "**References:**\n- [Python String Formatting Best Practices](https://realpython.com/python-string-formatting/)\n- [Python String Concatenation](https://www.programiz.com/python-programming/string-concatenation)"
   ]
  },
  {
   "cell_type": "markdown",
   "id": "ba9763b5-96ed-4587-94c1-ddc8c6146413",
   "metadata": {
    "papermill": {},
    "tags": []
   },
   "source": [
    "## Input"
   ]
  },
  {
   "cell_type": "markdown",
   "id": "ccd1c563-2769-47bb-a34a-62b3e9d1e389",
   "metadata": {
    "papermill": {},
    "tags": []
   },
   "source": [
    "### Import libraries"
   ]
  },
  {
   "cell_type": "code",
   "execution_count": null,
   "id": "55432bbf-b04b-489f-8d8a-731430087af5",
   "metadata": {
    "papermill": {},
    "tags": []
   },
   "source": "import string",
   "outputs": []
  },
  {
   "cell_type": "markdown",
   "id": "1e8f10a8-f1e5-40d8-95e4-13b4199d4488",
   "metadata": {
    "papermill": {},
    "tags": []
   },
   "source": [
    "### Setup Variables\n- `firstname`: firstname of the person\n- `lastname`: lastname of the person\n- `domain`: domain address"
   ]
  },
  {
   "cell_type": "code",
   "execution_count": null,
   "id": "9a634d87-8a96-46de-ae0b-f745b0b4bb35",
   "metadata": {
    "papermill": {},
    "tags": []
   },
   "source": "firstname = \"John\"\nlastname = \"Doe\"\ndomain = \"example.com\"",
   "outputs": []
  },
  {
   "cell_type": "markdown",
   "id": "625a5ba6-905d-455c-b5a2-9ebcc63bec59",
   "metadata": {
    "papermill": {},
    "tags": []
   },
   "source": [
    "## Model"
   ]
  },
  {
   "cell_type": "markdown",
   "id": "3be6b24a-b78d-41d1-b6fb-b3df961cd941",
   "metadata": {
    "papermill": {},
    "tags": []
   },
   "source": [
    "### Create Email Combination"
   ]
  },
  {
   "cell_type": "markdown",
   "id": "79385a8d-b30b-461f-9256-e212643837ef",
   "metadata": {
    "papermill": {},
    "tags": []
   },
   "source": [
    "Long description of the function: This function will create an email combination with firstname, lastname and domain address."
   ]
  },
  {
   "cell_type": "code",
   "execution_count": null,
   "id": "eeec4cfa-7344-4a6b-b6b7-984a797dbeb6",
   "metadata": {
    "papermill": {},
    "tags": []
   },
   "source": "# Create email combination\nemail = f\"{firstname.lower()}.{lastname.lower()}@{domain}\"",
   "outputs": []
  },
  {
   "cell_type": "markdown",
   "id": "f5476f7e-2ac5-46dd-8681-80f315f0803e",
   "metadata": {
    "papermill": {},
    "tags": []
   },
   "source": [
    "## Output"
   ]
  },
  {
   "cell_type": "markdown",
   "id": "91a0d3aa-8f7c-4047-9335-2c3ccfff12d7",
   "metadata": {
    "papermill": {},
    "tags": []
   },
   "source": [
    "### Display result"
   ]
  },
  {
   "cell_type": "code",
   "execution_count": null,
   "id": "158c64d8-0478-460c-a7f5-e02a766eb39b",
   "metadata": {
    "papermill": {},
    "tags": []
   },
   "source": "# Display email combination\nprint(email)",
   "outputs": []
  },
  {
   "cell_type": "markdown",
   "id": "5d56d8db-aa92-460b-b716-6449b0ccb50e",
   "metadata": {
    "papermill": {},
    "tags": []
   },
   "source": [
    " "
   ]
  }
 ],
 "metadata": {
  "kernelspec": {
   "display_name": "Python 3",
   "language": "python",
   "name": "python3"
  },
  "language_info": {
   "codemirror_mode": {
    "name": "ipython",
    "version": 3
   },
   "file_extension": ".py",
   "mimetype": "text/x-python",
   "name": "python",
   "nbconvert_exporter": "python",
   "pygments_lexer": "ipython3",
   "version": "3.9.6"
  },
  "widgets": {
   "application/vnd.jupyter.widget-state+json": {
    "state": {},
    "version_major": 2,
    "version_minor": 0
   }
  }
 },
 "nbformat": 4,
 "nbformat_minor": 5
}