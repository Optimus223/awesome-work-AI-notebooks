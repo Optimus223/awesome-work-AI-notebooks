{
 "cells": [
  {
   "cell_type": "markdown",
   "id": "latin-packing",
   "metadata": {
    "execution": {
     "iopub.execute_input": "2021-02-23T14:22:16.610471Z",
     "iopub.status.busy": "2021-02-23T14:22:16.610129Z",
     "iopub.status.idle": "2021-02-23T14:22:16.627784Z",
     "shell.execute_reply": "2021-02-23T14:22:16.626866Z",
     "shell.execute_reply.started": "2021-02-23T14:22:16.610384Z"
    },
    "papermill": {},
    "tags": []
   },
   "source": [
    "<img width=\"10%\" alt=\"Naas\" src=\"https://landen.imgix.net/jtci2pxwjczr/assets/5ice39g4.png?w=160\"/>"
   ]
  },
  {
   "cell_type": "markdown",
   "id": "compressed-wilson",
   "metadata": {
    "papermill": {},
    "tags": []
   },
   "source": [
    "# Python - Convert png images to jpg extension\n",
    "<a href=\"https://app.naas.ai/user-redirect/naas/downloader?url=https://raw.githubusercontent.com/jupyter-naas/awesome-notebooks/master/template.ipynb\" target=\"_parent\">\n",
    "<img src=\"https://img.shields.io/badge/-Open%20in%20Naas-success?labelColor=000000&logo=data:image/svg+xml;base64,PD94bWwgdmVyc2lvbj0iMS4wIiBlbmNvZGluZz0iVVRGLTgiPz4KPHN2ZyB3aWR0aD0iMTAyNHB4IiBoZWlnaHQ9IjEwMjRweCIgdmlld0JveD0iMCAwIDEwMjQgMTAyNCIgeG1sbnM9Imh0dHA6Ly93d3cudzMub3JnLzIwMDAvc3ZnIiB4bWxuczp4bGluaz0iaHR0cDovL3d3dy53My5vcmcvMTk5OS94bGluayIgdmVyc2lvbj0iMS4xIj4KIDwhLS0gR2VuZXJhdGVkIGJ5IFBpeGVsbWF0b3IgUHJvIDIuMC41IC0tPgogPGRlZnM+CiAgPHRleHQgaWQ9InN0cmluZyIgdHJhbnNmb3JtPSJtYXRyaXgoMS4wIDAuMCAwLjAgMS4wIDIyOC4wIDU0LjUpIiBmb250LWZhbWlseT0iQ29tZm9ydGFhLVJlZ3VsYXIsIENvbWZvcnRhYSIgZm9udC1zaXplPSI4MDAiIHRleHQtZGVjb3JhdGlvbj0ibm9uZSIgZmlsbD0iI2ZmZmZmZiIgeD0iMS4xOTk5OTk5OTk5OTk5ODg2IiB5PSI3MDUuMCI+bjwvdGV4dD4KIDwvZGVmcz4KIDx1c2UgaWQ9Im4iIHhsaW5rOmhyZWY9IiNzdHJpbmciLz4KPC9zdmc+Cg==\"/>\n",
    "</a><br><br><a href=\"https://github.com/jupyter-naas/awesome-notebooks/issues/new?assignees=&labels=&template=template-request.md&title=Tool+-+Action+of+the+notebook+\">💡 Template request</a> | <a href=\"https://github.com/jupyter-naas/awesome-notebooks/issues/new?assignees=&labels=&template=bug_report.md&title=[ERROR]+Tool+/+Folder+Action+of+the+notebook+\">🚨 Bug report</a>"
   ]
  },
  {
   "cell_type": "markdown",
   "id": "religious-programmer",
   "metadata": {},
   "source": [
    "**Tags:** #jpg #png #to #image #images #convert"
   ]
  },
  {
   "cell_type": "markdown",
   "id": "1fe9f56e-561c-4f52-aef8-b861c9462107",
   "metadata": {},
   "source": [
    "**Author:** [Ahmed Mousa](https://www.linkedin.com/in/akmousa/)"
   ]
  },
  {
   "cell_type": "markdown",
   "id": "31ea7cdb-e10d-43fc-b026-f69249a59736",
   "metadata": {},
   "source": [
    "**Description:** This notebook converts png images to jpg images."
   ]
  },
  {
   "cell_type": "markdown",
   "id": "distinguished-truth",
   "metadata": {
    "papermill": {},
    "tags": []
   },
   "source": [
    "## Input"
   ]
  },
  {
   "cell_type": "markdown",
   "id": "numeric-mediterranean",
   "metadata": {},
   "source": [
    "### Import libraries"
   ]
  },
  {
   "cell_type": "code",
   "execution_count": 4,
   "id": "e4d2949b-058c-49fd-9c33-ea7a08dd37e8",
   "metadata": {
    "execution": {
     "iopub.execute_input": "2022-11-10T12:27:50.453182Z",
     "iopub.status.busy": "2022-11-10T12:27:50.452938Z",
     "iopub.status.idle": "2022-11-10T12:27:50.505242Z",
     "shell.execute_reply": "2022-11-10T12:27:50.504339Z",
     "shell.execute_reply.started": "2022-11-10T12:27:50.453147Z"
    },
    "tags": []
   },
   "outputs": [],
   "source": [
    "from PIL import Image"
   ]
  },
  {
   "cell_type": "markdown",
   "id": "aggressive-trustee",
   "metadata": {},
   "source": [
    "### Variables"
   ]
  },
  {
   "cell_type": "markdown",
   "id": "85d5c70a-12d4-4952-8ae5-ef977f640038",
   "metadata": {},
   "source": [
    "Make sure you put your file absolute path or put the file within this notebook directory."
   ]
  },
  {
   "cell_type": "code",
   "execution_count": 5,
   "id": "continuous-melbourne",
   "metadata": {
    "execution": {
     "iopub.execute_input": "2022-11-10T12:27:51.678584Z",
     "iopub.status.busy": "2022-11-10T12:27:51.678355Z",
     "iopub.status.idle": "2022-11-10T12:27:51.681485Z",
     "shell.execute_reply": "2022-11-10T12:27:51.680777Z",
     "shell.execute_reply.started": "2022-11-10T12:27:51.678562Z"
    },
    "tags": []
   },
   "outputs": [],
   "source": [
    "file_path = \"Put your file path here / Make sure it's withing this notebook dire\""
   ]
  },
  {
   "cell_type": "markdown",
   "id": "registered-showcase",
   "metadata": {},
   "source": [
    "## Model"
   ]
  },
  {
   "cell_type": "markdown",
   "id": "tested-astrology",
   "metadata": {},
   "source": [
    "### Open image and converts to RGB colors"
   ]
  },
  {
   "cell_type": "code",
   "execution_count": 6,
   "id": "0e33c5c2-f9de-4239-a9fb-4260e3733d7b",
   "metadata": {
    "execution": {
     "iopub.execute_input": "2022-11-10T12:27:52.581951Z",
     "iopub.status.busy": "2022-11-10T12:27:52.581725Z",
     "iopub.status.idle": "2022-11-10T12:27:52.670075Z",
     "shell.execute_reply": "2022-11-10T12:27:52.669189Z",
     "shell.execute_reply.started": "2022-11-10T12:27:52.581928Z"
    },
    "papermill": {},
    "tags": []
   },
   "outputs": [],
   "source": [
    "img_png = Image.open(file_path)\n",
    "img_png = img_png.convert('RGB')"
   ]
  },
  {
   "cell_type": "markdown",
   "id": "4e0edf8e-a319-4da9-872c-e500450b2097",
   "metadata": {},
   "source": [
    "Replacing file name extensions"
   ]
  },
  {
   "cell_type": "code",
   "execution_count": 7,
   "id": "a53b7e26-3ee4-460c-9cf9-477700a34f6f",
   "metadata": {
    "execution": {
     "iopub.execute_input": "2022-11-10T12:27:53.675984Z",
     "iopub.status.busy": "2022-11-10T12:27:53.675658Z",
     "iopub.status.idle": "2022-11-10T12:27:53.687054Z",
     "shell.execute_reply": "2022-11-10T12:27:53.685238Z",
     "shell.execute_reply.started": "2022-11-10T12:27:53.675948Z"
    },
    "papermill": {},
    "tags": []
   },
   "outputs": [],
   "source": [
    "new_file_path = file_path.replace(\"png\",'jpg')"
   ]
  },
  {
   "cell_type": "markdown",
   "id": "lonely-pacific",
   "metadata": {
    "execution": {
     "iopub.execute_input": "2021-07-02T23:32:10.789097Z",
     "iopub.status.busy": "2021-07-02T23:32:10.788829Z",
     "iopub.status.idle": "2021-07-02T23:32:10.796900Z",
     "shell.execute_reply": "2021-07-02T23:32:10.796358Z",
     "shell.execute_reply.started": "2021-07-02T23:32:10.789033Z"
    }
   },
   "source": [
    "## Output"
   ]
  },
  {
   "cell_type": "markdown",
   "id": "890f7c86-b7bb-4f5d-9a1b-e492dd9580fd",
   "metadata": {},
   "source": [
    "### Save result as jpg file"
   ]
  },
  {
   "cell_type": "code",
   "execution_count": 8,
   "id": "9c4e3b7b-6440-4844-8054-265f1aec65eb",
   "metadata": {
    "execution": {
     "iopub.execute_input": "2022-11-10T12:27:55.060178Z",
     "iopub.status.busy": "2022-11-10T12:27:55.059889Z",
     "iopub.status.idle": "2022-11-10T12:27:55.140874Z",
     "shell.execute_reply": "2022-11-10T12:27:55.140237Z",
     "shell.execute_reply.started": "2022-11-10T12:27:55.060149Z"
    },
    "tags": []
   },
   "outputs": [],
   "source": [
    "img_png.save(new_file_path)"
   ]
  }
 ],
 "metadata": {
  "kernelspec": {
   "display_name": "Python 3",
   "language": "python",
   "name": "python3"
  },
  "language_info": {
   "codemirror_mode": {
    "name": "ipython",
    "version": 3
   },
   "file_extension": ".py",
   "mimetype": "text/x-python",
   "name": "python",
   "nbconvert_exporter": "python",
   "pygments_lexer": "ipython3",
   "version": "3.9.6"
  },
  "papermill": {
   "default_parameters": {},
   "environment_variables": {},
   "parameters": {},
   "version": "2.3.3"
  },
  "widgets": {
   "application/vnd.jupyter.widget-state+json": {
    "state": {},
    "version_major": 2,
    "version_minor": 0
   }
  }
 },
 "nbformat": 4,
 "nbformat_minor": 5
}
