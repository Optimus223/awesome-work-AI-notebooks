{
 "cells": [
  {
   "cell_type": "markdown",
   "id": "naas-logo",
   "metadata": {
    "papermill": {},
    "tags": [
     "logo"
    ]
   },
   "source": [
    "<img width=\"10%\" alt=\"Naas\" src=\"https://landen.imgix.net/jtci2pxwjczr/assets/5ice39g4.png?w=160\"/>"
   ]
  },
  {
   "cell_type": "markdown",
   "id": "f83f65ca-1835-41f3-85f4-4188ce20afa3",
   "metadata": {
    "papermill": {},
    "tags": [
     ""
    ]
   },
   "source": [
    "# Python - Convert Datetime with Timezone to ISO 8601 date string"
   ]
  },
  {
   "cell_type": "markdown",
   "id": "0e5a10dc-cc19-4031-b654-8dc53b5b3b10",
   "metadata": {
    "papermill": {},
    "tags": [
     ""
    ]
   },
   "source": [
    "**Tags:** #python #datetime #timezone #iso8601 #string #conversion"
   ]
  },
  {
   "cell_type": "markdown",
   "id": "b8059288-61c0-4693-aade-76099b66fa9e",
   "metadata": {
    "papermill": {},
    "tags": [
     ""
    ]
   },
   "source": [
    "**Author:** [Florent Ravenel](https://www.linkedin.com/in/florent-ravenel/)"
   ]
  },
  {
   "cell_type": "markdown",
   "id": "6b4d6492-36f0-47b7-b144-23f3a9619193",
   "metadata": {
    "papermill": {},
    "tags": [
     ""
    ]
   },
   "source": [
    "**Description:** This notebook will demonstrate how to convert a datetime with timezone to an ISO 8601 date string."
   ]
  },
  {
   "cell_type": "markdown",
   "id": "53ab7183-1089-4e6b-8533-a4ca2f9fb0a1",
   "metadata": {
    "papermill": {},
    "tags": [
     ""
    ]
   },
   "source": [
    "<u>References:</u>\n",
    "- [Python datetime](https://docs.python.org/3/library/datetime.html)\n",
    "- [ISO 8601](https://en.wikipedia.org/wiki/ISO_8601)"
   ]
  },
  {
   "cell_type": "markdown",
   "id": "1819f98b-fac1-4e2f-955a-2b034fba9f82",
   "metadata": {
    "papermill": {},
    "tags": [
     ""
    ]
   },
   "source": [
    "## Input"
   ]
  },
  {
   "cell_type": "markdown",
   "id": "7c4c5f76-05b7-468d-85fe-86a704225aae",
   "metadata": {
    "papermill": {},
    "tags": [
     ""
    ]
   },
   "source": [
    "### Import libraries"
   ]
  },
  {
   "cell_type": "code",
   "execution_count": 7,
   "id": "bdb28e7c-9404-45cb-b644-0340f59bc241",
   "metadata": {
    "execution": {
     "iopub.execute_input": "2023-02-14T11:10:23.856985Z",
     "iopub.status.busy": "2023-02-14T11:10:23.856774Z",
     "iopub.status.idle": "2023-02-14T11:10:23.859667Z",
     "shell.execute_reply": "2023-02-14T11:10:23.858982Z",
     "shell.execute_reply.started": "2023-02-14T11:10:23.856965Z"
    },
    "papermill": {},
    "tags": []
   },
   "outputs": [],
   "source": [
    "from datetime import datetime\n",
    "import pytz"
   ]
  },
  {
   "cell_type": "markdown",
   "id": "d3994043-cb70-430e-b339-c71b65288d88",
   "metadata": {
    "papermill": {},
    "tags": [
     ""
    ]
   },
   "source": [
    "### Setup Variables\n",
    "- `date_time`: datetime with timezone"
   ]
  },
  {
   "cell_type": "code",
   "execution_count": 9,
   "id": "e50eb303-1c8b-4975-8100-9ad12f0ffe56",
   "metadata": {
    "execution": {
     "iopub.execute_input": "2023-02-14T11:10:52.040303Z",
     "iopub.status.busy": "2023-02-14T11:10:52.040040Z",
     "iopub.status.idle": "2023-02-14T11:10:52.043839Z",
     "shell.execute_reply": "2023-02-14T11:10:52.043218Z",
     "shell.execute_reply.started": "2023-02-14T11:10:52.040279Z"
    },
    "papermill": {},
    "tags": []
   },
   "outputs": [
    {
     "name": "stdout",
     "output_type": "stream",
     "text": [
      "2020-08-01 12:00:00+00:09\n"
     ]
    }
   ],
   "source": [
    "date_time = datetime(2020, 8, 1, 12, 0, 0, tzinfo=pytz.timezone(\"Europe/Paris\"))\n",
    "print(date_time)"
   ]
  },
  {
   "cell_type": "markdown",
   "id": "99c00d37-6ad5-42fb-809e-075a9deda00e",
   "metadata": {
    "papermill": {},
    "tags": [
     ""
    ]
   },
   "source": [
    "## Model"
   ]
  },
  {
   "cell_type": "markdown",
   "id": "58a93cba-c7dd-4d00-9a27-2c5a180669a6",
   "metadata": {
    "papermill": {},
    "tags": [
     ""
    ]
   },
   "source": [
    "### Convert datetime with timezone to ISO 8601 date string"
   ]
  },
  {
   "cell_type": "code",
   "execution_count": 10,
   "id": "a676168b-b7a0-46ff-92e9-ac6bf56ee687",
   "metadata": {
    "execution": {
     "iopub.execute_input": "2023-02-14T11:10:55.946672Z",
     "iopub.status.busy": "2023-02-14T11:10:55.946461Z",
     "iopub.status.idle": "2023-02-14T11:10:55.949542Z",
     "shell.execute_reply": "2023-02-14T11:10:55.948903Z",
     "shell.execute_reply.started": "2023-02-14T11:10:55.946650Z"
    },
    "papermill": {},
    "tags": []
   },
   "outputs": [],
   "source": [
    "iso_date_string = date_time.isoformat()"
   ]
  },
  {
   "cell_type": "markdown",
   "id": "d51cf036-04bc-4924-baab-9c354905b35e",
   "metadata": {
    "papermill": {},
    "tags": [
     ""
    ]
   },
   "source": [
    "## Output"
   ]
  },
  {
   "cell_type": "markdown",
   "id": "9a07601b-1012-4bba-9906-4cbd7859be5c",
   "metadata": {
    "papermill": {},
    "tags": [
     ""
    ]
   },
   "source": [
    "### Display result"
   ]
  },
  {
   "cell_type": "code",
   "execution_count": 11,
   "id": "9e27cf21-4d41-45c1-86ef-2010f48b11dd",
   "metadata": {
    "execution": {
     "iopub.execute_input": "2023-02-14T11:10:57.544392Z",
     "iopub.status.busy": "2023-02-14T11:10:57.544172Z",
     "iopub.status.idle": "2023-02-14T11:10:57.547679Z",
     "shell.execute_reply": "2023-02-14T11:10:57.546978Z",
     "shell.execute_reply.started": "2023-02-14T11:10:57.544369Z"
    },
    "papermill": {},
    "tags": []
   },
   "outputs": [
    {
     "name": "stdout",
     "output_type": "stream",
     "text": [
      "2020-08-01T12:00:00+00:09\n"
     ]
    }
   ],
   "source": [
    "print(iso_date_string)"
   ]
  },
  {
   "cell_type": "markdown",
   "id": "ff6951b6-d06f-4030-9295-64c858b46ba9",
   "metadata": {
    "papermill": {},
    "tags": [
     ""
    ]
   },
   "source": [
    " "
   ]
  }
 ],
 "metadata": {
  "kernelspec": {
   "display_name": "Python 3",
   "language": "python",
   "name": "python3"
  },
  "language_info": {
   "codemirror_mode": {
    "name": "ipython",
    "version": 3
   },
   "file_extension": ".py",
   "mimetype": "text/x-python",
   "name": "python",
   "nbconvert_exporter": "python",
   "pygments_lexer": "ipython3",
   "version": "3.9.6"
  }
 },
 "nbformat": 4,
 "nbformat_minor": 5
}
