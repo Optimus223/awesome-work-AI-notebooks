{
 "cells": [
  {
   "cell_type": "markdown",
   "id": "4bac09d4-b94e-4fb3-9239-833ef2560f66",
   "metadata": {
    "papermill": {},
    "tags": []
   },
   "source": [
    "<img width=\"10%\" alt=\"Naas\" src=\"https://landen.imgix.net/jtci2pxwjczr/assets/5ice39g4.png?w=160\"/>"
   ]
  },
  {
   "cell_type": "markdown",
   "id": "751987f1-367e-494a-a3a3-608e34f22ed6",
   "metadata": {
    "papermill": {},
    "tags": []
   },
   "source": [
    "# Python - Download ZIP from URL"
   ]
  },
  {
   "cell_type": "markdown",
   "id": "6189bca8-caec-404c-bd7b-01c1a95d7de4",
   "metadata": {
    "papermill": {},
    "tags": []
   },
   "source": [
    "**Tags:** #python #urllib #download #zip #url #request"
   ]
  },
  {
   "cell_type": "markdown",
   "id": "344558f0-968e-4b2b-aaba-5f46b30c53ff",
   "metadata": {
    "papermill": {},
    "tags": []
   },
   "source": [
    "**Author:** [Florent Ravenel](http://linkedin.com/in/florent-ravenel)"
   ]
  },
  {
   "cell_type": "markdown",
   "id": "764ff1c3-7abb-4021-aa31-bf39f728e8a6",
   "metadata": {
    "papermill": {},
    "tags": []
   },
   "source": [
    "**Description:** This notebook will show how to download a ZIP file from a URL using urllib.request."
   ]
  },
  {
   "cell_type": "markdown",
   "id": "f9dcab2a-a719-4f4e-bc4b-62f6d6e902ca",
   "metadata": {
    "papermill": {},
    "tags": []
   },
   "source": [
    "**References:**\n- [urllib.request documentation](https://docs.python.org/3/library/urllib.request.html)\n- [urllib.request tutorial](https://www.pythonforbeginners.com/urllib/urllib-tutorial)"
   ]
  },
  {
   "cell_type": "markdown",
   "id": "09e687ef-eded-462a-a40e-ab554fc21b74",
   "metadata": {
    "papermill": {},
    "tags": []
   },
   "source": [
    "## Input"
   ]
  },
  {
   "cell_type": "markdown",
   "id": "514e37e5-6a0f-458f-9fbf-b11644450fa5",
   "metadata": {
    "papermill": {},
    "tags": []
   },
   "source": [
    "### Import libraries"
   ]
  },
  {
   "cell_type": "code",
   "execution_count": null,
   "id": "db578157-5fd9-4bbb-b55e-35720a3e130b",
   "metadata": {
    "papermill": {},
    "tags": []
   },
   "source": "import urllib.request",
   "outputs": []
  },
  {
   "cell_type": "markdown",
   "id": "7c1fd52f-1345-4c25-a2a5-6d0e9fb5d7e5",
   "metadata": {
    "papermill": {},
    "tags": []
   },
   "source": [
    "### Setup Variables\n- `url`: URL of the ZIP file to download"
   ]
  },
  {
   "cell_type": "code",
   "execution_count": null,
   "id": "81324e86-abab-4902-a083-0e8a9bdfdd75",
   "metadata": {
    "papermill": {},
    "tags": []
   },
   "source": "url = \"https://example.com/file.zip\"",
   "outputs": []
  },
  {
   "cell_type": "markdown",
   "id": "8787731e-afa0-428c-871c-0591f6d9f5a7",
   "metadata": {
    "papermill": {},
    "tags": []
   },
   "source": [
    "## Model"
   ]
  },
  {
   "cell_type": "markdown",
   "id": "9ceb668c-636a-4146-9331-d9331948806e",
   "metadata": {
    "papermill": {},
    "tags": []
   },
   "source": [
    "### Download ZIP file"
   ]
  },
  {
   "cell_type": "markdown",
   "id": "a08bc69a-20be-481a-8101-3c15bc38a6ed",
   "metadata": {
    "papermill": {},
    "tags": []
   },
   "source": [
    "Download the ZIP file from the URL and save it in the current directory."
   ]
  },
  {
   "cell_type": "code",
   "execution_count": null,
   "id": "c2c2f827-c24b-4c78-802b-ef0818fb8d16",
   "metadata": {
    "papermill": {},
    "tags": []
   },
   "source": "urllib.request.urlretrieve(url, \"file.zip\")",
   "outputs": []
  },
  {
   "cell_type": "markdown",
   "id": "550705d0-28fb-4c8f-aff4-f4e4cf377c89",
   "metadata": {
    "papermill": {},
    "tags": []
   },
   "source": [
    "## Output"
   ]
  },
  {
   "cell_type": "markdown",
   "id": "114b2cfd-16b4-40ed-8b02-baf4be7b67cf",
   "metadata": {
    "papermill": {},
    "tags": []
   },
   "source": [
    "### Display result"
   ]
  },
  {
   "cell_type": "markdown",
   "id": "e6bc8f59-2dc7-4c9d-a7de-068dbf838f3d",
   "metadata": {
    "papermill": {},
    "tags": []
   },
   "source": [
    "The ZIP file has been downloaded and saved in the current directory."
   ]
  },
  {
   "cell_type": "markdown",
   "id": "b0e5130d-c822-4ca8-b887-2b2a5d749456",
   "metadata": {
    "papermill": {},
    "tags": []
   },
   "source": [
    " "
   ]
  },
  {
   "cell_type": "markdown",
   "id": "eb8b08b0-8bda-4c81-b5d2-d73b40f62b8d",
   "metadata": {
    "papermill": {},
    "tags": []
   },
   "source": [
    " "
   ]
  }
 ],
 "metadata": {
  "kernelspec": {
   "display_name": "Python 3",
   "language": "python",
   "name": "python3"
  },
  "language_info": {
   "codemirror_mode": {
    "name": "ipython",
    "version": 3
   },
   "file_extension": ".py",
   "mimetype": "text/x-python",
   "name": "python",
   "nbconvert_exporter": "python",
   "pygments_lexer": "ipython3",
   "version": "3.9.6"
  },
  "widgets": {
   "application/vnd.jupyter.widget-state+json": {
    "state": {},
    "version_major": 2,
    "version_minor": 0
   }
  }
 },
 "nbformat": 4,
 "nbformat_minor": 5
}