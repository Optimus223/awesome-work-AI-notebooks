{
 "cells": [
  {
   "cell_type": "markdown",
   "id": "4bac09d4-b94e-4fb3-9239-833ef2560f66",
   "metadata": {
    "papermill": {},
    "tags": []
   },
   "source": [
    "<img width=\"10%\" alt=\"Naas\" src=\"https://landen.imgix.net/jtci2pxwjczr/assets/5ice39g4.png?w=160\"/>"
   ]
  },
  {
   "cell_type": "markdown",
   "id": "751987f1-367e-494a-a3a3-608e34f22ed6",
   "metadata": {
    "papermill": {},
    "tags": []
   },
   "source": [
    "# Python - Download ZIP from URL"
   ]
  },
  {
   "cell_type": "markdown",
   "id": "6189bca8-caec-404c-bd7b-01c1a95d7de4",
   "metadata": {
    "papermill": {},
    "tags": []
   },
   "source": [
    "**Tags:** #python #urllib #download #zip #url #request"
   ]
  },
  {
   "cell_type": "markdown",
   "id": "344558f0-968e-4b2b-aaba-5f46b30c53ff",
   "metadata": {
    "papermill": {},
    "tags": []
   },
   "source": [
    "**Author:** [Hamid Mukhtar](https://www.linkedin.com/in/mukhtar-hamid/)"
   ]
  },
  {
   "cell_type": "markdown",
   "id": "764ff1c3-7abb-4021-aa31-bf39f728e8a6",
   "metadata": {
    "papermill": {},
    "tags": []
   },
   "source": [
    "**Description:** This notebook will show how to download a ZIP file from a URL using urllib.request."
   ]
  },
  {
   "cell_type": "markdown",
   "id": "f9dcab2a-a719-4f4e-bc4b-62f6d6e902ca",
   "metadata": {
    "papermill": {},
    "tags": []
   },
   "source": [
    "**References:**\n",
    "- [urllib.request documentation](https://docs.python.org/3/library/urllib.request.html)\n",
    "- [urllib.request tutorial](https://www.pythonforbeginners.com/urllib/urllib-tutorial)"
   ]
  },
  {
   "cell_type": "markdown",
   "id": "09e687ef-eded-462a-a40e-ab554fc21b74",
   "metadata": {
    "papermill": {},
    "tags": []
   },
   "source": [
    "## Input"
   ]
  },
  {
   "cell_type": "markdown",
   "id": "514e37e5-6a0f-458f-9fbf-b11644450fa5",
   "metadata": {
    "papermill": {},
    "tags": []
   },
   "source": [
    "### Import libraries"
   ]
  },
  {
   "cell_type": "code",
   "execution_count": 1,
   "id": "db578157-5fd9-4bbb-b55e-35720a3e130b",
   "metadata": {
    "execution": {
     "iopub.execute_input": "2023-05-02T16:41:22.723071Z",
     "iopub.status.busy": "2023-05-02T16:41:22.722792Z",
     "iopub.status.idle": "2023-05-02T16:41:22.730276Z",
     "shell.execute_reply": "2023-05-02T16:41:22.729579Z",
     "shell.execute_reply.started": "2023-05-02T16:41:22.723010Z"
    },
    "papermill": {},
    "tags": []
   },
   "outputs": [],
   "source": [
    "import os\n",
    "import shutil\n",
    "import urllib"
   ]
  },
  {
   "cell_type": "markdown",
   "id": "7c1fd52f-1345-4c25-a2a5-6d0e9fb5d7e5",
   "metadata": {
    "papermill": {},
    "tags": []
   },
   "source": [
    "### Setup Variables\n",
    "- `path`: path of the current working directory\n",
    "- `url`: desired url from which we have to download the zip file\n",
    "- `headers_1`: passing the user agent to surpass the request"
   ]
  },
  {
   "cell_type": "code",
   "execution_count": 2,
   "id": "81324e86-abab-4902-a083-0e8a9bdfdd75",
   "metadata": {
    "execution": {
     "iopub.execute_input": "2023-05-02T16:41:23.591882Z",
     "iopub.status.busy": "2023-05-02T16:41:23.591629Z",
     "iopub.status.idle": "2023-05-02T16:41:23.595259Z",
     "shell.execute_reply": "2023-05-02T16:41:23.594528Z",
     "shell.execute_reply.started": "2023-05-02T16:41:23.591840Z"
    },
    "papermill": {},
    "tags": []
   },
   "outputs": [],
   "source": [
    "# path\n",
    "path='/home/ftp/awesome-notebooks/Python/'\n",
    "\n",
    "# url \n",
    "url = 'https://www.learningcontainer.com/wp-content/uploads/2020/05/sample-zip-file.zip'\n",
    "\n",
    "# headers \n",
    "headers_1 ={'User-Agent': 'Mozilla/5.0 (X11; Linux x86_64) AppleWebKit/537.36 (KHTML, like Gecko) Chrome/112.0.0.0 Safari/537.36'}"
   ]
  },
  {
   "cell_type": "markdown",
   "id": "8787731e-afa0-428c-871c-0591f6d9f5a7",
   "metadata": {
    "papermill": {},
    "tags": []
   },
   "source": [
    "## Model"
   ]
  },
  {
   "cell_type": "markdown",
   "id": "9ceb668c-636a-4146-9331-d9331948806e",
   "metadata": {
    "papermill": {},
    "tags": []
   },
   "source": [
    "### Download zip files\n",
    "In this example, `url` is the path of the ZIP file that we want to download. \n",
    "The with statement is used to ensure that the ZIP file is closed properly after it has been read & written. \n",
    "The urllib.request.Request class is used to request the file. \n",
    "The urllib.request.urlopen method is called to open all the files in the archive to the current working directory. \n",
    "The shutil.copyfileobj class is used to open all the files and copy it in the required file as `MyFile.zp` as f\n",
    "The os.listdir() stores the path, where all this action is being proccessed."
   ]
  },
  {
   "cell_type": "code",
   "execution_count": 3,
   "id": "c2c2f827-c24b-4c78-802b-ef0818fb8d16",
   "metadata": {
    "execution": {
     "iopub.execute_input": "2023-05-02T16:41:24.751893Z",
     "iopub.status.busy": "2023-05-02T16:41:24.751669Z",
     "iopub.status.idle": "2023-05-02T16:41:25.294016Z",
     "shell.execute_reply": "2023-05-02T16:41:25.293350Z",
     "shell.execute_reply.started": "2023-05-02T16:41:24.751871Z"
    },
    "papermill": {},
    "tags": []
   },
   "outputs": [],
   "source": [
    "# request the file from website\n",
    "req=urllib.request.Request(url, headers=headers_1)\n",
    "\n",
    "# open it in a file and write it to save it in local\n",
    "with urllib.request.urlopen(req) as response, open(\"MyFile.zip\", 'wb') as f:\n",
    "    shutil.copyfileobj(response, f)\n",
    "    \n",
    "# listing the directory to observe the changes\n",
    "dir=os.listdir(path)"
   ]
  },
  {
   "cell_type": "markdown",
   "id": "550705d0-28fb-4c8f-aff4-f4e4cf377c89",
   "metadata": {
    "papermill": {},
    "tags": []
   },
   "source": [
    "## Output"
   ]
  },
  {
   "cell_type": "markdown",
   "id": "114b2cfd-16b4-40ed-8b02-baf4be7b67cf",
   "metadata": {
    "papermill": {},
    "tags": []
   },
   "source": [
    "### Display result"
   ]
  },
  {
   "cell_type": "code",
   "execution_count": 4,
   "id": "eb8f65fb-be63-46c4-b39d-5e1db22830d1",
   "metadata": {
    "execution": {
     "iopub.execute_input": "2023-05-02T16:41:26.585765Z",
     "iopub.status.busy": "2023-05-02T16:41:26.585510Z",
     "iopub.status.idle": "2023-05-02T16:41:26.589516Z",
     "shell.execute_reply": "2023-05-02T16:41:26.588910Z",
     "shell.execute_reply.started": "2023-05-02T16:41:26.585741Z"
    },
    "tags": []
   },
   "outputs": [
    {
     "name": "stdout",
     "output_type": "stream",
     "text": [
      "['Python_Download_ZIP_from_URL.ipynb', 'Python_Convert_Datetime_with_Timezone_to_ISO_8601_date_string.ipynb', 'Python_Download_Image_from_URL.ipynb', 'Python_Looping_Over_Dataframe.ipynb', 'Python_Rename_file.ipynb', 'Python_Save_json_file.ipynb', 'Python_Explore_Dataset_with_Pivot_Table.ipynb', 'Python_Consolidate_Excel_files.ipynb', 'Python_Clean_your_download_folder.ipynb', 'Python_Get_Word_Definition_and_Translation.ipynb', 'Python_Flatten_nested_dict.ipynb', 'Python_Convert_audiofile_from_wav_to_mp3.ipynb', 'Python_Convert_string_to_URL.ipynb', 'Python_Convert_URL_to_string.ipynb', 'Python_Save_dict_to_pickle.ipynb', 'Python_Get_all_files_from_directory.ipynb', 'Python_Create_dataframe_from_lists.ipynb', 'Python_Locate_city_on_map.ipynb', '.ipynb_checkpoints', 'Python_Create_Email_Combination_with_Firstname_Lastname_Domain_address.ipynb', 'Python_Create_dict_from_lists.ipynb', 'Python_Organize_Directories_based_on_file_types.ipynb', 'Python_Create_directory.ipynb', 'Python_Match_pattern_with_regular_expressions.ipynb', 'Python_Get_last_file_modified_from_directy.ipynb', 'Python_Read_json_file.ipynb', 'Python_Copy_files_and_subdir_from_directory_to_another_directory.ipynb.ipynb', 'Python_Convert_PNG_Images_To_JPG.ipynb', 'Python_Replace_value_in_text_in_a_specific_paragraph.ipynb', 'Python_Get_coordinates_from_address.ipynb', 'Python_Read_pickle_file.ipynb', 'Python_Create_Strong_Random_Password.ipynb', 'Python_Locate_coordinates.ipynb', 'Python_Check_email_validity.ipynb', 'MyFile.zip', 'Python_Using_datetime_library.ipynb', 'Python_Download_PDF_from_URL.ipynb', 'Python_Locate_address_on_map.ipynb', 'Python_Convert_CSV_to_Excel.ipynb', 'Python_Find_Phone_Number_in_string.ipynb']\n"
     ]
    }
   ],
   "source": [
    "print(dir)"
   ]
  },
  {
   "cell_type": "markdown",
   "id": "e6bc8f59-2dc7-4c9d-a7de-068dbf838f3d",
   "metadata": {
    "papermill": {},
    "tags": []
   },
   "source": [
    "The ZIP file has been downloaded and saved in the current directory."
   ]
  },
  {
   "cell_type": "markdown",
   "id": "b0e5130d-c822-4ca8-b887-2b2a5d749456",
   "metadata": {
    "papermill": {},
    "tags": []
   },
   "source": [
    " "
   ]
  },
  {
   "cell_type": "markdown",
   "id": "eb8b08b0-8bda-4c81-b5d2-d73b40f62b8d",
   "metadata": {
    "papermill": {},
    "tags": []
   },
   "source": [
    " "
   ]
  }
 ],
 "metadata": {
  "kernelspec": {
   "display_name": "Python 3",
   "language": "python",
   "name": "python3"
  },
  "language_info": {
   "codemirror_mode": {
    "name": "ipython",
    "version": 3
   },
   "file_extension": ".py",
   "mimetype": "text/x-python",
   "name": "python",
   "nbconvert_exporter": "python",
   "pygments_lexer": "ipython3",
   "version": "3.9.6"
  },
  "widgets": {
   "application/vnd.jupyter.widget-state+json": {
    "state": {},
    "version_major": 2,
    "version_minor": 0
   }
  }
 },
 "nbformat": 4,
 "nbformat_minor": 5
}
