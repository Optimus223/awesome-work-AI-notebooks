{
 "cells": [
  {
   "cell_type": "markdown",
   "id": "06edff60-d722-49a9-9a9a-57fa5a1030f7",
   "metadata": {
    "papermill": {},
    "tags": []
   },
   "source": [
    "<img width=\"10%\" alt=\"Naas\" src=\"https://landen.imgix.net/jtci2pxwjczr/assets/5ice39g4.png?w=160\"/>"
   ]
  },
  {
   "cell_type": "markdown",
   "id": "1ec8683d-431e-46ef-8d0f-9e9b265b48d4",
   "metadata": {
    "papermill": {},
    "tags": []
   },
   "source": [
    "# Python - Convert URL to string"
   ]
  },
  {
   "cell_type": "markdown",
   "id": "33ae0e14-bc12-4d8b-90bb-c278ac7332ea",
   "metadata": {
    "papermill": {},
    "tags": []
   },
   "source": [
    "**Tags:** #python #urllib #string #url #convert #library"
   ]
  },
  {
   "cell_type": "markdown",
   "id": "edc5d3f5-3ed0-4e52-93c8-5c8a8be873f5",
   "metadata": {
    "papermill": {},
    "tags": []
   },
   "source": [
    "**Author:** [Florent Ravenel](http://linkedin.com/in/florent-ravenel)"
   ]
  },
  {
   "cell_type": "markdown",
   "id": "1a718131-46f1-4166-a074-3c331656581b",
   "metadata": {
    "papermill": {},
    "tags": []
   },
   "source": [
    "**Description:** This notebook will show how to convert a URL to a string using urllib."
   ]
  },
  {
   "cell_type": "markdown",
   "id": "9250d183-8abd-47b9-a7e1-f5ff8739aadd",
   "metadata": {
    "papermill": {},
    "tags": []
   },
   "source": [
    "**References:**\n- [urllib Documentation](https://docs.python.org/3/library/urllib.html)\n- [Python Tutorial - Convert URL to string](https://www.pythonforbeginners.com/urllib/how-to-use-urllib-in-python)"
   ]
  },
  {
   "cell_type": "markdown",
   "id": "d5a663bf-3981-4eaf-a47c-212883807819",
   "metadata": {
    "papermill": {},
    "tags": []
   },
   "source": [
    "## Input"
   ]
  },
  {
   "cell_type": "markdown",
   "id": "2f0ce06f-0101-4038-888d-671392b131e1",
   "metadata": {
    "papermill": {},
    "tags": []
   },
   "source": [
    "### Import libraries"
   ]
  },
  {
   "cell_type": "code",
   "execution_count": null,
   "id": "1f612d80-a913-43d3-b524-4ea5102f2ef4",
   "metadata": {
    "papermill": {},
    "tags": []
   },
   "source": "import urllib.parse",
   "outputs": []
  },
  {
   "cell_type": "markdown",
   "id": "73ebbe13-bcf7-4464-a69c-4b500edc5126",
   "metadata": {
    "papermill": {},
    "tags": []
   },
   "source": [
    "### Setup Variables\n- `url`: URL to be converted to string"
   ]
  },
  {
   "cell_type": "code",
   "execution_count": null,
   "id": "54dcd911-33cc-433b-86fb-d3ebe4291be0",
   "metadata": {
    "papermill": {},
    "tags": []
   },
   "source": "url = \"https://www.pythonforbeginners.com/urllib/how-to-use-urllib-in-python\"",
   "outputs": []
  },
  {
   "cell_type": "markdown",
   "id": "ddf92068-753c-4c1e-b186-771aa9a5dffe",
   "metadata": {
    "papermill": {},
    "tags": []
   },
   "source": [
    "## Model"
   ]
  },
  {
   "cell_type": "markdown",
   "id": "402485b0-365a-4c1a-bca7-c2cfb82678a0",
   "metadata": {
    "papermill": {},
    "tags": []
   },
   "source": [
    "### Convert URL to string"
   ]
  },
  {
   "cell_type": "markdown",
   "id": "d2b7635d-6bc3-449a-974b-03efa5e6e913",
   "metadata": {
    "papermill": {},
    "tags": []
   },
   "source": [
    "Using the `urllib.parse.unquote()` function, we can convert a URL to a string."
   ]
  },
  {
   "cell_type": "code",
   "execution_count": null,
   "id": "18ec53e0-7e69-43a9-a61c-1ae3dd95872a",
   "metadata": {
    "papermill": {},
    "tags": []
   },
   "source": "string = urllib.parse.unquote(url)",
   "outputs": []
  },
  {
   "cell_type": "markdown",
   "id": "4a2b6c57-b052-480f-9f58-f059d5f8ba32",
   "metadata": {
    "papermill": {},
    "tags": []
   },
   "source": [
    "## Output"
   ]
  },
  {
   "cell_type": "markdown",
   "id": "e0610a9d-4d04-462c-85ea-510c7a71c048",
   "metadata": {
    "papermill": {},
    "tags": []
   },
   "source": [
    "### Display result"
   ]
  },
  {
   "cell_type": "code",
   "execution_count": null,
   "id": "8f896329-633a-4151-86f7-0feb1f4a58d7",
   "metadata": {
    "papermill": {},
    "tags": []
   },
   "source": "print(string)",
   "outputs": []
  },
  {
   "cell_type": "markdown",
   "id": "3c4d88b4-0fad-4196-ba7d-d5fc2e90b173",
   "metadata": {
    "papermill": {},
    "tags": []
   },
   "source": [
    " "
   ]
  }
 ],
 "metadata": {
  "kernelspec": {
   "display_name": "Python 3",
   "language": "python",
   "name": "python3"
  },
  "language_info": {
   "codemirror_mode": {
    "name": "ipython",
    "version": 3
   },
   "file_extension": ".py",
   "mimetype": "text/x-python",
   "name": "python",
   "nbconvert_exporter": "python",
   "pygments_lexer": "ipython3",
   "version": "3.9.6"
  },
  "widgets": {
   "application/vnd.jupyter.widget-state+json": {
    "state": {},
    "version_major": 2,
    "version_minor": 0
   }
  }
 },
 "nbformat": 4,
 "nbformat_minor": 5
}