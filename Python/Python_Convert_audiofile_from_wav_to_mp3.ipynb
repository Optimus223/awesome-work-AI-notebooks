{
 "cells": [
  {
   "cell_type": "markdown",
   "id": "85ef7794-4c75-4ac1-a3ba-022ceeea3632",
   "metadata": {},
   "source": [
    "<img width=\"10%\" alt=\"Naas\" src=\"https://landen.imgix.net/jtci2pxwjczr/assets/5ice39g4.png?w=160\"/>"
   ]
  },
  {
   "cell_type": "markdown",
   "id": "ac0e5d2e-222c-4e00-bb06-d049b74e5854",
   "metadata": {},
   "source": [
    "# Python - Convert audio file from wav to mp3"
   ]
  },
  {
   "cell_type": "markdown",
   "id": "0193917e-ebe0-4658-87ef-3d7ab6c61be8",
   "metadata": {},
   "source": [
    "**Tags:** #python #audio #wavtomp3 #pydub"
   ]
  },
  {
   "cell_type": "markdown",
   "id": "5bb49531-e816-4d43-90f3-8d27f366cc6e",
   "metadata": {},
   "source": [
    "**Author:** Mohit Singh"
   ]
  },
  {
   "cell_type": "markdown",
   "id": "e0103cb0-759f-481d-8c91-a378e32f2d24",
   "metadata": {},
   "source": [
    "**Description:** This notebook uses the Pydub library to convert audio file from wav to mp3."
   ]
  },
  {
   "cell_type": "markdown",
   "id": "e6c30346-5d9c-488b-bd70-8e47df045691",
   "metadata": {},
   "source": [
    "## Input"
   ]
  },
  {
   "cell_type": "markdown",
   "id": "a808cf8b-c61c-4651-86c4-8be456c79b53",
   "metadata": {},
   "source": [
    "### Import libraries"
   ]
  },
  {
   "cell_type": "code",
   "execution_count": 3,
   "id": "2ff36cda-6873-4cf5-aa6c-eeb499b250d8",
   "metadata": {
    "execution": {
     "iopub.execute_input": "2023-03-08T08:56:16.040526Z",
     "iopub.status.busy": "2023-03-08T08:56:16.040265Z",
     "iopub.status.idle": "2023-03-08T08:56:16.046067Z",
     "shell.execute_reply": "2023-03-08T08:56:16.045525Z",
     "shell.execute_reply.started": "2023-03-08T08:56:16.040499Z"
    },
    "tags": []
   },
   "outputs": [],
   "source": [
    "try:\n",
    "    from pydub import AudioSegment\n",
    "except:\n",
    "    !pip install pydub --user\n",
    "    from pydub import AudioSegment\n",
    "import requests\n",
    "import os"
   ]
  },
  {
   "cell_type": "markdown",
   "id": "46aae628-f2b6-4215-bbc6-1d8c248c955d",
   "metadata": {},
   "source": [
    "### Setup Variables\n",
    "- `audiofile`: Link of audio file in wav to be converted to mp3"
   ]
  },
  {
   "cell_type": "code",
   "execution_count": null,
   "id": "14940d47-d8b9-4022-80e7-a65c62585cce",
   "metadata": {
    "tags": []
   },
   "outputs": [],
   "source": [
    "audio_file = 'https://www.learningcontainer.com/wp-content/uploads/2020/02/Kalimba-online-audio-converter.com_-1.wav'"
   ]
  },
  {
   "cell_type": "markdown",
   "id": "2164cdac-70bc-47d4-bcbb-6d3c2fed6aba",
   "metadata": {},
   "source": [
    "Getting the audio file from link"
   ]
  },
  {
   "cell_type": "code",
   "execution_count": null,
   "id": "35d43937-88dd-4853-8c78-f1c65869cf21",
   "metadata": {
    "tags": []
   },
   "outputs": [],
   "source": [
    "response = requests.get(audio_file)\n",
    "open(\"audio.wav\", \"wb\").write(response.content)"
   ]
  },
  {
   "cell_type": "code",
   "execution_count": null,
   "id": "6381bc45-c3c2-4092-8e51-32bda7c04ce6",
   "metadata": {
    "tags": []
   },
   "outputs": [],
   "source": [
    "audio_wav = 'audio.wav'"
   ]
  },
  {
   "cell_type": "markdown",
   "id": "12bfc7cf-cf28-43d2-9b4c-596504708f12",
   "metadata": {},
   "source": [
    "## Model"
   ]
  },
  {
   "cell_type": "markdown",
   "id": "86478f67-873e-47f7-b760-888e8bdde6e2",
   "metadata": {
    "execution": {
     "iopub.execute_input": "2023-03-06T11:01:17.754404Z",
     "iopub.status.busy": "2023-03-06T11:01:17.754140Z",
     "iopub.status.idle": "2023-03-06T11:01:17.757595Z",
     "shell.execute_reply": "2023-03-06T11:01:17.756945Z",
     "shell.execute_reply.started": "2023-03-06T11:01:17.754340Z"
    }
   },
   "source": [
    "### Convert wav to mp3\n",
    "This code will convert the audio file from wav to mp3."
   ]
  },
  {
   "cell_type": "code",
   "execution_count": null,
   "id": "08408e3a-110f-48b5-9d32-2db4edcc2a70",
   "metadata": {
    "tags": []
   },
   "outputs": [],
   "source": [
    "wav = AudioSegment.from_file(file=audio_wav, format='wav')\n",
    "wav.export('audio.mp3', format='mp3')"
   ]
  },
  {
   "cell_type": "markdown",
   "id": "ff7a2c9a-7112-4ae0-b212-06519ec85dbe",
   "metadata": {},
   "source": [
    "## Output"
   ]
  },
  {
   "cell_type": "markdown",
   "id": "7b1ff6b6-eaf2-4826-8870-07de6ada855d",
   "metadata": {},
   "source": [
    "### Convert wav to mp3\n",
    "This code will check if audio file is successfully converted to mp3."
   ]
  },
  {
   "cell_type": "code",
   "execution_count": null,
   "id": "0c8c0be3-d045-43e5-833e-2af484377b0d",
   "metadata": {
    "tags": []
   },
   "outputs": [],
   "source": [
    "if(os.path.isfile('audio.mp3')):\n",
    "  print('Conversion of audio file from wav to mp3 is successful')"
   ]
  }
 ],
 "metadata": {
  "kernelspec": {
   "display_name": "Python 3",
   "language": "python",
   "name": "python3"
  },
  "language_info": {
   "codemirror_mode": {
    "name": "ipython",
    "version": 3
   },
   "file_extension": ".py",
   "mimetype": "text/x-python",
   "name": "python",
   "nbconvert_exporter": "python",
   "pygments_lexer": "ipython3",
   "version": "3.9.6"
  }
 },
 "nbformat": 4,
 "nbformat_minor": 5
}
