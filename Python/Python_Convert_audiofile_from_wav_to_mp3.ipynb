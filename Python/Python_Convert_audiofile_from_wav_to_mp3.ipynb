{
 "cells": [
  {
   "cell_type": "markdown",
   "id": "85ef7794-4c75-4ac1-a3ba-022ceeea3632",
   "metadata": {},
   "source": [
    "<img width=\"10%\" alt=\"Naas\" src=\"https://landen.imgix.net/jtci2pxwjczr/assets/5ice39g4.png?w=160\"/>"
   ]
  },
  {
   "cell_type": "markdown",
   "id": "ac0e5d2e-222c-4e00-bb06-d049b74e5854",
   "metadata": {},
   "source": [
    "# Python - Convert audio file from wav to mp3"
   ]
  },
  {
   "cell_type": "markdown",
   "id": "0193917e-ebe0-4658-87ef-3d7ab6c61be8",
   "metadata": {},
   "source": [
    "**Tags:** #python #audio #wavtomp3 #pydub"
   ]
  },
  {
   "cell_type": "markdown",
   "id": "5bb49531-e816-4d43-90f3-8d27f366cc6e",
   "metadata": {},
   "source": [
    "**Author:** Mohit Singh"
   ]
  },
  {
   "cell_type": "markdown",
   "id": "e0103cb0-759f-481d-8c91-a378e32f2d24",
   "metadata": {},
   "source": [
    "**Description:** This notebook uses the Pydub library to convert audio file from wav to mp3."
   ]
  },
  {
   "cell_type": "markdown",
   "id": "e6c30346-5d9c-488b-bd70-8e47df045691",
   "metadata": {},
   "source": [
    "## Input"
   ]
  },
  {
   "cell_type": "markdown",
   "id": "b355e0d7-05ca-4f53-9426-fc8842893b3e",
   "metadata": {},
   "source": [
    "### Download ffmpeg"
   ]
  },
  {
   "cell_type": "code",
   "execution_count": 1,
   "id": "0bc9c4e3-fb36-4f24-b32a-d33e99e512c9",
   "metadata": {
    "execution": {
     "iopub.execute_input": "2023-03-22T11:05:43.005636Z",
     "iopub.status.busy": "2023-03-22T11:05:43.005209Z",
     "iopub.status.idle": "2023-03-22T11:05:58.536328Z",
     "shell.execute_reply": "2023-03-22T11:05:58.535557Z",
     "shell.execute_reply.started": "2023-03-22T11:05:43.005559Z"
    },
    "tags": []
   },
   "outputs": [
    {
     "name": "stdout",
     "output_type": "stream",
     "text": [
      "--2023-03-22 12:05:43--  https://johnvansickle.com/ffmpeg/builds/ffmpeg-git-amd64-static.tar.xz\n",
      "Resolving johnvansickle.com (johnvansickle.com)... 107.180.57.212\n",
      "Connecting to johnvansickle.com (johnvansickle.com)|107.180.57.212|:443... connected.\n",
      "HTTP request sent, awaiting response... 200 OK\n",
      "Length: 41141816 (39M) [application/x-xz]\n",
      "Saving to: ‘ffmpeg-git-amd64-static.tar.xz.5’\n",
      "\n",
      "ffmpeg-git-amd64-st 100%[===================>]  39.24M  12.0MB/s    in 3.3s    \n",
      "\n",
      "2023-03-22 12:05:47 (12.0 MB/s) - ‘ffmpeg-git-amd64-static.tar.xz.5’ saved [41141816/41141816]\n",
      "\n",
      "mv: cannot move 'ffmpeg-git-20230313-amd64-static' to 'ffmpeg/ffmpeg-git-20230313-amd64-static': File exists\n"
     ]
    }
   ],
   "source": [
    "!wget \"https://johnvansickle.com/ffmpeg/builds/ffmpeg-git-amd64-static.tar.xz\"\n",
    "!tar xf ffmpeg-git-amd64-static.tar.xz\n",
    "!mv ffmpeg-git-20230313-amd64-static ffmpeg"
   ]
  },
  {
   "cell_type": "code",
   "execution_count": 2,
   "id": "de44748f-c70f-4a9e-ac11-c183b79d4b94",
   "metadata": {
    "execution": {
     "iopub.execute_input": "2023-03-22T11:05:58.538060Z",
     "iopub.status.busy": "2023-03-22T11:05:58.537810Z",
     "iopub.status.idle": "2023-03-22T11:05:58.544178Z",
     "shell.execute_reply": "2023-03-22T11:05:58.543590Z",
     "shell.execute_reply.started": "2023-03-22T11:05:58.538032Z"
    },
    "tags": []
   },
   "outputs": [
    {
     "name": "stdout",
     "output_type": "stream",
     "text": [
      "env: PATH=/home/ftp/awesome-notebooks/Python/ffmpeg\n"
     ]
    }
   ],
   "source": [
    "import os\n",
    "new_path = os.path.join(os.getcwd(), \"ffmpeg\")\n",
    "%env PATH=$new_path"
   ]
  },
  {
   "cell_type": "markdown",
   "id": "a808cf8b-c61c-4651-86c4-8be456c79b53",
   "metadata": {},
   "source": [
    "### Import libraries"
   ]
  },
  {
   "cell_type": "code",
   "execution_count": 3,
   "id": "2ff36cda-6873-4cf5-aa6c-eeb499b250d8",
   "metadata": {
    "execution": {
     "iopub.execute_input": "2023-03-22T11:05:58.548114Z",
     "iopub.status.busy": "2023-03-22T11:05:58.545394Z",
     "iopub.status.idle": "2023-03-22T11:05:58.760103Z",
     "shell.execute_reply": "2023-03-22T11:05:58.759287Z",
     "shell.execute_reply.started": "2023-03-22T11:05:58.548081Z"
    },
    "tags": []
   },
   "outputs": [],
   "source": [
    "try:\n",
    "    from pydub import AudioSegment\n",
    "except:\n",
    "    !pip install pydub --user\n",
    "    from pydub import AudioSegment\n",
    "import requests\n",
    "import os"
   ]
  },
  {
   "cell_type": "markdown",
   "id": "46aae628-f2b6-4215-bbc6-1d8c248c955d",
   "metadata": {},
   "source": [
    "### Setup Variables\n",
    "- `audio_file_url`: Link of audio file in wav to be converted to mp3"
   ]
  },
  {
   "cell_type": "code",
   "execution_count": 4,
   "id": "14940d47-d8b9-4022-80e7-a65c62585cce",
   "metadata": {
    "execution": {
     "iopub.execute_input": "2023-03-22T11:05:58.763837Z",
     "iopub.status.busy": "2023-03-22T11:05:58.763656Z",
     "iopub.status.idle": "2023-03-22T11:05:58.768973Z",
     "shell.execute_reply": "2023-03-22T11:05:58.768176Z",
     "shell.execute_reply.started": "2023-03-22T11:05:58.763812Z"
    },
    "tags": []
   },
   "outputs": [],
   "source": [
    "# Inputs\n",
    "audio_file_url = 'https://www.learningcontainer.com/wp-content/uploads/2020/02/Kalimba-online-audio-converter.com_-1.wav'\n",
    "wav_path = 'audio.wav'\n",
    "\n",
    "# Outputs\n",
    "mp3_path = 'audio.mp3'"
   ]
  },
  {
   "cell_type": "markdown",
   "id": "12bfc7cf-cf28-43d2-9b4c-596504708f12",
   "metadata": {},
   "source": [
    "## Model"
   ]
  },
  {
   "cell_type": "markdown",
   "id": "2164cdac-70bc-47d4-bcbb-6d3c2fed6aba",
   "metadata": {},
   "source": [
    "### Get and save audio file from URL"
   ]
  },
  {
   "cell_type": "code",
   "execution_count": 5,
   "id": "35d43937-88dd-4853-8c78-f1c65869cf21",
   "metadata": {
    "execution": {
     "iopub.execute_input": "2023-03-22T11:05:58.770173Z",
     "iopub.status.busy": "2023-03-22T11:05:58.769970Z",
     "iopub.status.idle": "2023-03-22T11:05:58.956405Z",
     "shell.execute_reply": "2023-03-22T11:05:58.955683Z",
     "shell.execute_reply.started": "2023-03-22T11:05:58.770146Z"
    },
    "tags": []
   },
   "outputs": [
    {
     "data": {
      "text/plain": [
       "8331"
      ]
     },
     "execution_count": 5,
     "metadata": {},
     "output_type": "execute_result"
    }
   ],
   "source": [
    "response = requests.get(audio_file_url)\n",
    "open(wav_path, \"wb\").write(response.content)"
   ]
  },
  {
   "cell_type": "markdown",
   "id": "86478f67-873e-47f7-b760-888e8bdde6e2",
   "metadata": {
    "execution": {
     "iopub.execute_input": "2023-03-06T11:01:17.754404Z",
     "iopub.status.busy": "2023-03-06T11:01:17.754140Z",
     "iopub.status.idle": "2023-03-06T11:01:17.757595Z",
     "shell.execute_reply": "2023-03-06T11:01:17.756945Z",
     "shell.execute_reply.started": "2023-03-06T11:01:17.754340Z"
    }
   },
   "source": [
    "### Convert wav to mp3\n",
    "This code will convert the audio file from wav to mp3."
   ]
  },
  {
   "cell_type": "code",
   "execution_count": 6,
   "id": "08408e3a-110f-48b5-9d32-2db4edcc2a70",
   "metadata": {
    "execution": {
     "iopub.execute_input": "2023-03-22T11:05:58.957670Z",
     "iopub.status.busy": "2023-03-22T11:05:58.957439Z",
     "iopub.status.idle": "2023-03-22T11:05:59.050896Z",
     "shell.execute_reply": "2023-03-22T11:05:59.048849Z",
     "shell.execute_reply.started": "2023-03-22T11:05:58.957640Z"
    },
    "tags": []
   },
   "outputs": [
    {
     "ename": "CouldntDecodeError",
     "evalue": "Decoding failed. ffmpeg returned error code: 1\n\nOutput from ffmpeg/avlib:\n\nffmpeg version N-65014-g7c130d6911-static https://johnvansickle.com/ffmpeg/  Copyright (c) 2000-2023 the FFmpeg developers\n  built with gcc 8 (Debian 8.3.0-6)\n  configuration: --enable-gpl --enable-version3 --enable-static --disable-debug --disable-ffplay --disable-indev=sndio --disable-outdev=sndio --cc=gcc --enable-fontconfig --enable-frei0r --enable-gnutls --enable-gmp --enable-libgme --enable-gray --enable-libaom --enable-libfribidi --enable-libass --enable-libvmaf --enable-libfreetype --enable-libmp3lame --enable-libopencore-amrnb --enable-libopencore-amrwb --enable-libopenjpeg --enable-librubberband --enable-libsoxr --enable-libspeex --enable-libsrt --enable-libvorbis --enable-libopus --enable-libtheora --enable-libvidstab --enable-libvo-amrwbenc --enable-libvpx --enable-libwebp --enable-libx264 --enable-libx265 --enable-libxml2 --enable-libdav1d --enable-libxvid --enable-libzvbi --enable-libzimg\n  libavutil      58.  3.100 / 58.  3.100\n  libavcodec     60.  6.101 / 60.  6.101\n  libavformat    60.  4.100 / 60.  4.100\n  libavdevice    60.  2.100 / 60.  2.100\n  libavfilter     9.  4.100 /  9.  4.100\n  libswscale      7.  2.100 /  7.  2.100\n  libswresample   4. 11.100 /  4. 11.100\n  libpostproc    57.  2.100 / 57.  2.100\n[wav @ 0x5de19c0] invalid start code [60][33]DO in RIFF header\naudio.wav: Invalid data found when processing input\n",
     "output_type": "error",
     "traceback": [
      "\u001b[0;31m---------------------------------------------------------------------------\u001b[0m",
      "\u001b[0;31mCouldntDecodeError\u001b[0m                        Traceback (most recent call last)",
      "\u001b[0;32m<ipython-input-6-2200329a8e3c>\u001b[0m in \u001b[0;36m<module>\u001b[0;34m\u001b[0m\n\u001b[1;32m      1\u001b[0m \u001b[0;31m# read the WAV file using pydub\u001b[0m\u001b[0;34m\u001b[0m\u001b[0;34m\u001b[0m\u001b[0;34m\u001b[0m\u001b[0m\n\u001b[0;32m----> 2\u001b[0;31m \u001b[0mwav_audio\u001b[0m \u001b[0;34m=\u001b[0m \u001b[0mAudioSegment\u001b[0m\u001b[0;34m.\u001b[0m\u001b[0mfrom_wav\u001b[0m\u001b[0;34m(\u001b[0m\u001b[0mwav_path\u001b[0m\u001b[0;34m)\u001b[0m\u001b[0;34m\u001b[0m\u001b[0;34m\u001b[0m\u001b[0m\n\u001b[0m\u001b[1;32m      3\u001b[0m \u001b[0;34m\u001b[0m\u001b[0m\n\u001b[1;32m      4\u001b[0m \u001b[0;31m# export the audio as MP3 using pydub\u001b[0m\u001b[0;34m\u001b[0m\u001b[0;34m\u001b[0m\u001b[0;34m\u001b[0m\u001b[0m\n\u001b[1;32m      5\u001b[0m \u001b[0mwav_audio\u001b[0m\u001b[0;34m.\u001b[0m\u001b[0mexport\u001b[0m\u001b[0;34m(\u001b[0m\u001b[0mmp3_path\u001b[0m\u001b[0;34m,\u001b[0m \u001b[0mformat\u001b[0m\u001b[0;34m=\u001b[0m\u001b[0;34m\"mp3\"\u001b[0m\u001b[0;34m)\u001b[0m\u001b[0;34m\u001b[0m\u001b[0;34m\u001b[0m\u001b[0m\n",
      "\u001b[0;32m~/.local/lib/python3.9/site-packages/pydub/audio_segment.py\u001b[0m in \u001b[0;36mfrom_wav\u001b[0;34m(cls, file, parameters)\u001b[0m\n\u001b[1;32m    806\u001b[0m     \u001b[0;34m@\u001b[0m\u001b[0mclassmethod\u001b[0m\u001b[0;34m\u001b[0m\u001b[0;34m\u001b[0m\u001b[0m\n\u001b[1;32m    807\u001b[0m     \u001b[0;32mdef\u001b[0m \u001b[0mfrom_wav\u001b[0m\u001b[0;34m(\u001b[0m\u001b[0mcls\u001b[0m\u001b[0;34m,\u001b[0m \u001b[0mfile\u001b[0m\u001b[0;34m,\u001b[0m \u001b[0mparameters\u001b[0m\u001b[0;34m=\u001b[0m\u001b[0;32mNone\u001b[0m\u001b[0;34m)\u001b[0m\u001b[0;34m:\u001b[0m\u001b[0;34m\u001b[0m\u001b[0;34m\u001b[0m\u001b[0m\n\u001b[0;32m--> 808\u001b[0;31m         \u001b[0;32mreturn\u001b[0m \u001b[0mcls\u001b[0m\u001b[0;34m.\u001b[0m\u001b[0mfrom_file\u001b[0m\u001b[0;34m(\u001b[0m\u001b[0mfile\u001b[0m\u001b[0;34m,\u001b[0m \u001b[0;34m'wav'\u001b[0m\u001b[0;34m,\u001b[0m \u001b[0mparameters\u001b[0m\u001b[0;34m=\u001b[0m\u001b[0mparameters\u001b[0m\u001b[0;34m)\u001b[0m\u001b[0;34m\u001b[0m\u001b[0;34m\u001b[0m\u001b[0m\n\u001b[0m\u001b[1;32m    809\u001b[0m \u001b[0;34m\u001b[0m\u001b[0m\n\u001b[1;32m    810\u001b[0m     \u001b[0;34m@\u001b[0m\u001b[0mclassmethod\u001b[0m\u001b[0;34m\u001b[0m\u001b[0;34m\u001b[0m\u001b[0m\n",
      "\u001b[0;32m~/.local/lib/python3.9/site-packages/pydub/audio_segment.py\u001b[0m in \u001b[0;36mfrom_file\u001b[0;34m(cls, file, format, codec, parameters, start_second, duration, **kwargs)\u001b[0m\n\u001b[1;32m    771\u001b[0m             \u001b[0;32mif\u001b[0m \u001b[0mclose_file\u001b[0m\u001b[0;34m:\u001b[0m\u001b[0;34m\u001b[0m\u001b[0;34m\u001b[0m\u001b[0m\n\u001b[1;32m    772\u001b[0m                 \u001b[0mfile\u001b[0m\u001b[0;34m.\u001b[0m\u001b[0mclose\u001b[0m\u001b[0;34m(\u001b[0m\u001b[0;34m)\u001b[0m\u001b[0;34m\u001b[0m\u001b[0;34m\u001b[0m\u001b[0m\n\u001b[0;32m--> 773\u001b[0;31m             raise CouldntDecodeError(\n\u001b[0m\u001b[1;32m    774\u001b[0m                 \"Decoding failed. ffmpeg returned error code: {0}\\n\\nOutput from ffmpeg/avlib:\\n\\n{1}\".format(\n\u001b[1;32m    775\u001b[0m                     p.returncode, p_err.decode(errors='ignore') ))\n",
      "\u001b[0;31mCouldntDecodeError\u001b[0m: Decoding failed. ffmpeg returned error code: 1\n\nOutput from ffmpeg/avlib:\n\nffmpeg version N-65014-g7c130d6911-static https://johnvansickle.com/ffmpeg/  Copyright (c) 2000-2023 the FFmpeg developers\n  built with gcc 8 (Debian 8.3.0-6)\n  configuration: --enable-gpl --enable-version3 --enable-static --disable-debug --disable-ffplay --disable-indev=sndio --disable-outdev=sndio --cc=gcc --enable-fontconfig --enable-frei0r --enable-gnutls --enable-gmp --enable-libgme --enable-gray --enable-libaom --enable-libfribidi --enable-libass --enable-libvmaf --enable-libfreetype --enable-libmp3lame --enable-libopencore-amrnb --enable-libopencore-amrwb --enable-libopenjpeg --enable-librubberband --enable-libsoxr --enable-libspeex --enable-libsrt --enable-libvorbis --enable-libopus --enable-libtheora --enable-libvidstab --enable-libvo-amrwbenc --enable-libvpx --enable-libwebp --enable-libx264 --enable-libx265 --enable-libxml2 --enable-libdav1d --enable-libxvid --enable-libzvbi --enable-libzimg\n  libavutil      58.  3.100 / 58.  3.100\n  libavcodec     60.  6.101 / 60.  6.101\n  libavformat    60.  4.100 / 60.  4.100\n  libavdevice    60.  2.100 / 60.  2.100\n  libavfilter     9.  4.100 /  9.  4.100\n  libswscale      7.  2.100 /  7.  2.100\n  libswresample   4. 11.100 /  4. 11.100\n  libpostproc    57.  2.100 / 57.  2.100\n[wav @ 0x5de19c0] invalid start code [60][33]DO in RIFF header\naudio.wav: Invalid data found when processing input\n"
     ]
    }
   ],
   "source": [
    "# read the WAV file using pydub\n",
    "wav_audio = AudioSegment.from_wav(wav_path)\n",
    "\n",
    "# export the audio as MP3 using pydub\n",
    "wav_audio.export(mp3_path, format=\"mp3\")"
   ]
  },
  {
   "cell_type": "markdown",
   "id": "ff7a2c9a-7112-4ae0-b212-06519ec85dbe",
   "metadata": {},
   "source": [
    "## Output"
   ]
  },
  {
   "cell_type": "markdown",
   "id": "7b1ff6b6-eaf2-4826-8870-07de6ada855d",
   "metadata": {},
   "source": [
    "### Display result\n",
    "This code will check if audio file is successfully converted to mp3."
   ]
  },
  {
   "cell_type": "code",
   "execution_count": null,
   "id": "0c8c0be3-d045-43e5-833e-2af484377b0d",
   "metadata": {
    "execution": {
     "iopub.status.busy": "2023-03-22T11:05:59.051671Z",
     "iopub.status.idle": "2023-03-22T11:05:59.051896Z",
     "shell.execute_reply": "2023-03-22T11:05:59.051794Z"
    },
    "tags": []
   },
   "outputs": [],
   "source": [
    "if (os.path.isfile(mp3_path)):\n",
    "    print('Conversion of audio file from wav to mp3 is successful')"
   ]
  },
  {
   "cell_type": "code",
   "execution_count": null,
   "id": "08d82ec9-b78c-49b5-8e8f-6aa323b967ff",
   "metadata": {},
   "outputs": [],
   "source": []
  }
 ],
 "metadata": {
  "kernelspec": {
   "display_name": "Python 3",
   "language": "python",
   "name": "python3"
  },
  "language_info": {
   "codemirror_mode": {
    "name": "ipython",
    "version": 3
   },
   "file_extension": ".py",
   "mimetype": "text/x-python",
   "name": "python",
   "nbconvert_exporter": "python",
   "pygments_lexer": "ipython3",
   "version": "3.9.6"
  }
 },
 "nbformat": 4,
 "nbformat_minor": 5
}
