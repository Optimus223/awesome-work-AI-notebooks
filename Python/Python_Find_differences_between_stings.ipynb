{
 "cells": [
  {
   "cell_type": "markdown",
   "id": "0c8cfdb5-7372-4fc4-ac35-17d42eba6014",
   "metadata": {
    "papermill": {},
    "tags": []
   },
   "source": [
    "<img width=\"10%\" alt=\"Naas\" src=\"https://landen.imgix.net/jtci2pxwjczr/assets/5ice39g4.png?w=160\"/>"
   ]
  },
  {
   "cell_type": "markdown",
   "id": "d5b377cd-6d47-4b4e-9a6a-c2e32c988e8c",
   "metadata": {
    "papermill": {},
    "tags": []
   },
   "source": [
    "# Python - Find differences between strings"
   ]
  },
  {
   "cell_type": "markdown",
   "id": "113d00cb-c07a-4653-9f69-8369b6c207bc",
   "metadata": {
    "papermill": {},
    "tags": []
   },
   "source": [
    "**Tags:** #python #strings #differences #compare #find #string"
   ]
  },
  {
   "cell_type": "markdown",
   "id": "8374284a-3626-4577-b84b-cb58bf1e9f16",
   "metadata": {
    "papermill": {},
    "tags": []
   },
   "source": [
    "**Author:** [Benjamin Filly](https://www.linkedin.com/in/benjamin-filly-05427727a/)"
   ]
  },
  {
   "cell_type": "markdown",
   "id": "6da325a4-a6d8-47e9-9f9e-f2f7b94ca913",
   "metadata": {
    "papermill": {},
    "tags": []
   },
   "source": [
    "**Description:** This notebook will compare two strings and find the differences between them. It is useful for organizations to quickly identify the differences between two strings."
   ]
  },
  {
   "cell_type": "markdown",
   "id": "bf080b64-9b74-4dd6-a58a-6c527cb8bfa3",
   "metadata": {
    "papermill": {},
    "tags": []
   },
   "source": [
    "**References:**\n",
    "- [Python String Comparison](https://www.programiz.com/python-programming/string-comparison)\n",
    "- [Python String Methods](https://www.programiz.com/python-programming/methods/string)"
   ]
  },
  {
   "cell_type": "markdown",
   "id": "1da66bb4-361b-4f26-8805-7670a86ec4e0",
   "metadata": {
    "papermill": {},
    "tags": []
   },
   "source": [
    "## Input"
   ]
  },
  {
   "cell_type": "markdown",
   "id": "f700fbbd-731e-44ab-9d8d-e804cc01349b",
   "metadata": {
    "papermill": {},
    "tags": []
   },
   "source": [
    "### Setup Variables\n",
    "- `string1`: The first string to compare\n",
    "- `string2`: The second string to compare"
   ]
  },
  {
   "cell_type": "code",
   "execution_count": 1,
   "id": "543fd860-bd02-4856-8a2d-98212e71de35",
   "metadata": {
    "execution": {
     "iopub.execute_input": "2023-06-13T14:42:44.326054Z",
     "iopub.status.busy": "2023-06-13T14:42:44.325635Z",
     "iopub.status.idle": "2023-06-13T14:42:44.335614Z",
     "shell.execute_reply": "2023-06-13T14:42:44.335048Z",
     "shell.execute_reply.started": "2023-06-13T14:42:44.325986Z"
    },
    "papermill": {},
    "tags": []
   },
   "outputs": [],
   "source": [
    "string1 = \"hello i'm benjamin\"\n",
    "string2 = \"hallo, how are you\""
   ]
  },
  {
   "cell_type": "markdown",
   "id": "f0e49029-9131-474e-8246-e90169b98dce",
   "metadata": {
    "papermill": {},
    "tags": []
   },
   "source": [
    "## Model"
   ]
  },
  {
   "cell_type": "markdown",
   "id": "980597ee-d480-412a-92ea-4c5289b59196",
   "metadata": {
    "papermill": {},
    "tags": []
   },
   "source": [
    "### Find differences between strings"
   ]
  },
  {
   "cell_type": "markdown",
   "id": "bb2fc10d-2088-4b6d-beda-6660296b4b43",
   "metadata": {
    "papermill": {},
    "tags": []
   },
   "source": [
    "This function will compare two strings and return the differences between them."
   ]
  },
  {
   "cell_type": "code",
   "execution_count": 2,
   "id": "8ba3b377-ab5e-4175-962f-9b747656fa16",
   "metadata": {
    "execution": {
     "iopub.execute_input": "2023-06-13T14:42:44.336983Z",
     "iopub.status.busy": "2023-06-13T14:42:44.336602Z",
     "iopub.status.idle": "2023-06-13T14:42:44.462563Z",
     "shell.execute_reply": "2023-06-13T14:42:44.462007Z",
     "shell.execute_reply.started": "2023-06-13T14:42:44.336954Z"
    },
    "papermill": {},
    "tags": []
   },
   "outputs": [],
   "source": [
    "def find_string_differences(string1, string2):\n",
    "    differences = []\n",
    "\n",
    "    # Find differences between the strings\n",
    "    for index, (char1, char2) in enumerate(zip(string1, string2)):\n",
    "        if char1 != char2:\n",
    "            differences.append(index)\n",
    "\n",
    "    # Account for differences in length\n",
    "    if len(string1) > len(string2):\n",
    "        for index in range(len(string2), len(string1)):\n",
    "            differences.append(index)\n",
    "\n",
    "    elif len(string1) < len(string2):\n",
    "        for index in range(len(string1), len(string2)):\n",
    "            differences.append(index)\n",
    "\n",
    "    return differences\n",
    "differences = find_string_differences(string1, string2)\n",
    "\n",
    "# Highlight the differences with ANSI escape sequences\n",
    "highlighted_string1 = ''\n",
    "highlighted_string2 = ''\n",
    "\n",
    "for index in range(max(len(string1), len(string2))):\n",
    "    if index in differences:\n",
    "        highlighted_string1 += \"\\033[93m\" + (string1[index] if index < len(string1) else '') + \"\\033[0m\"\n",
    "        highlighted_string2 += \"\\033[93m\" + (string2[index] if index < len(string2) else '') + \"\\033[0m\"\n",
    "    else:\n",
    "        highlighted_string1 += string1[index] if index < len(string1) else ' '\n",
    "        highlighted_string2 += string2[index] if index < len(string2) else ' '"
   ]
  },
  {
   "cell_type": "markdown",
   "id": "4e196710-1705-4c7d-b8b7-edbfd3c7e21f",
   "metadata": {
    "papermill": {},
    "tags": []
   },
   "source": [
    "## Output"
   ]
  },
  {
   "cell_type": "markdown",
   "id": "ffec47f2-445b-4a10-bb2a-a7908824738f",
   "metadata": {
    "papermill": {},
    "tags": []
   },
   "source": [
    "### Display result"
   ]
  },
  {
   "cell_type": "code",
   "execution_count": 3,
   "id": "8501ae8e-1ed5-414c-98a5-55b3ca4cfcec",
   "metadata": {
    "execution": {
     "iopub.execute_input": "2023-06-13T14:42:44.465403Z",
     "iopub.status.busy": "2023-06-13T14:42:44.465083Z",
     "iopub.status.idle": "2023-06-13T14:42:44.565237Z",
     "shell.execute_reply": "2023-06-13T14:42:44.564477Z",
     "shell.execute_reply.started": "2023-06-13T14:42:44.465379Z"
    },
    "papermill": {},
    "tags": []
   },
   "outputs": [
    {
     "name": "stdout",
     "output_type": "stream",
     "text": [
      "String 1: h\u001b[93me\u001b[0mllo\u001b[93m \u001b[0m\u001b[93mi\u001b[0m\u001b[93m'\u001b[0m\u001b[93mm\u001b[0m\u001b[93m \u001b[0m\u001b[93mb\u001b[0m\u001b[93me\u001b[0m\u001b[93mn\u001b[0m\u001b[93mj\u001b[0m\u001b[93ma\u001b[0m\u001b[93mm\u001b[0m\u001b[93mi\u001b[0m\u001b[93mn\u001b[0m\u001b[93m \u001b[0m\n",
      "String 2: h\u001b[93ma\u001b[0mllo\u001b[93m,\u001b[0m\u001b[93m \u001b[0m\u001b[93mh\u001b[0m\u001b[93mo\u001b[0m\u001b[93mw\u001b[0m\u001b[93m \u001b[0m\u001b[93ma\u001b[0m\u001b[93mr\u001b[0m\u001b[93me\u001b[0m\u001b[93m \u001b[0m\u001b[93my\u001b[0m\u001b[93mo\u001b[0m\u001b[93mu\u001b[0m\u001b[93m\u001b[0m\n"
     ]
    }
   ],
   "source": [
    "# Print the highlighted strings\n",
    "print(f\"String 1: {highlighted_string1}\")\n",
    "print(f\"String 2: {highlighted_string2}\")"
   ]
  },
  {
   "cell_type": "markdown",
   "id": "5a3d9735-e010-40b3-956e-af38ec2e0aea",
   "metadata": {
    "papermill": {},
    "tags": []
   },
   "source": [
    " "
   ]
  }
 ],
 "metadata": {
  "kernelspec": {
   "display_name": "Python 3",
   "language": "python",
   "name": "python3"
  },
  "language_info": {
   "codemirror_mode": {
    "name": "ipython",
    "version": 3
   },
   "file_extension": ".py",
   "mimetype": "text/x-python",
   "name": "python",
   "nbconvert_exporter": "python",
   "pygments_lexer": "ipython3",
   "version": "3.9.6"
  },
  "widgets": {
   "application/vnd.jupyter.widget-state+json": {
    "state": {},
    "version_major": 2,
    "version_minor": 0
   }
  }
 },
 "nbformat": 4,
 "nbformat_minor": 5
}
