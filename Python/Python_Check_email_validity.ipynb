{
 "cells": [
  {
   "cell_type": "markdown",
   "id": "naas-logo",
   "metadata": {
    "papermill": {},
    "tags": [
     "logo"
    ]
   },
   "source": [
    "<img width=\"10%\" alt=\"Naas\" src=\"https://landen.imgix.net/jtci2pxwjczr/assets/5ice39g4.png?w=160\"/>"
   ]
  },
  {
   "cell_type": "markdown",
   "id": "0ce9731f-af5e-469b-ad98-c9a8c8f64298",
   "metadata": {
    "papermill": {},
    "tags": [
     ""
    ]
   },
   "source": [
    "# Python - Check email validity"
   ]
  },
  {
   "cell_type": "markdown",
   "id": "b4ac8fb9-80e9-44a8-a412-66f1977a065d",
   "metadata": {
    "papermill": {},
    "tags": [
     ""
    ]
   },
   "source": [
    "**Tags:** #python #email #validity #check #regex #string"
   ]
  },
  {
   "cell_type": "markdown",
   "id": "534a1cb5-82ee-4305-a239-9c264a3872d0",
   "metadata": {
    "papermill": {},
    "tags": [
     ""
    ]
   },
   "source": [
    "**Author:** [Florent Ravenel](https://www.linkedin.com/in/florent-ravenel/)"
   ]
  },
  {
   "cell_type": "markdown",
   "id": "5d7ad519-1b8a-453b-bb02-aa6238b0be4a",
   "metadata": {
    "papermill": {},
    "tags": [
     ""
    ]
   },
   "source": [
    "**Description:** This notebook will demonstrate how to check the validity of an email address using Python."
   ]
  },
  {
   "cell_type": "markdown",
   "id": "452d8eda-980b-4df3-90c0-305d60b978bb",
   "metadata": {
    "papermill": {},
    "tags": [
     ""
    ]
   },
   "source": [
    "<u>References:</u>\n",
    "- [Python Regular Expressions](https://docs.python.org/3/library/re.html)\n",
    "- [Python String Methods](https://docs.python.org/3/library/stdtypes.html#string-methods)"
   ]
  },
  {
   "cell_type": "markdown",
   "id": "77be6468-0d7c-44a8-adca-0839b70b8750",
   "metadata": {
    "papermill": {},
    "tags": [
     ""
    ]
   },
   "source": [
    "## Input"
   ]
  },
  {
   "cell_type": "markdown",
   "id": "76483c1f-e564-4f7d-b45f-53ad01e08743",
   "metadata": {
    "papermill": {},
    "tags": [
     ""
    ]
   },
   "source": [
    "### Import libraries"
   ]
  },
  {
   "cell_type": "code",
   "execution_count": 1,
   "id": "950c2756-10f9-4daf-91a9-b6ec407023dd",
   "metadata": {
    "execution": {
     "iopub.execute_input": "2023-02-16T16:38:06.391386Z",
     "iopub.status.busy": "2023-02-16T16:38:06.390942Z",
     "iopub.status.idle": "2023-02-16T16:38:06.400488Z",
     "shell.execute_reply": "2023-02-16T16:38:06.399990Z",
     "shell.execute_reply.started": "2023-02-16T16:38:06.391305Z"
    },
    "papermill": {},
    "tags": [
     ""
    ]
   },
   "outputs": [],
   "source": [
    "import re"
   ]
  },
  {
   "cell_type": "markdown",
   "id": "74d99099-e91b-4125-a8ba-610b63912672",
   "metadata": {
    "papermill": {},
    "tags": [
     ""
    ]
   },
   "source": [
    "### Setup Variables\n",
    "- `email`: the email address to be checked"
   ]
  },
  {
   "cell_type": "code",
   "execution_count": 2,
   "id": "8c1acaf6-00b2-4d62-8f10-ffa09aeb4601",
   "metadata": {
    "execution": {
     "iopub.execute_input": "2023-02-16T16:38:07.488168Z",
     "iopub.status.busy": "2023-02-16T16:38:07.487905Z",
     "iopub.status.idle": "2023-02-16T16:38:07.491119Z",
     "shell.execute_reply": "2023-02-16T16:38:07.490476Z",
     "shell.execute_reply.started": "2023-02-16T16:38:07.488142Z"
    },
    "papermill": {},
    "tags": [
     ""
    ]
   },
   "outputs": [],
   "source": [
    "email = \"florent.ravenel@gmail.com\""
   ]
  },
  {
   "cell_type": "markdown",
   "id": "fb79ecff-ff2f-408f-8c4d-8e829bb051a3",
   "metadata": {
    "papermill": {},
    "tags": [
     ""
    ]
   },
   "source": [
    "## Model"
   ]
  },
  {
   "cell_type": "markdown",
   "id": "485fb0af-0d21-4e62-a1a9-f4c78de406a0",
   "metadata": {
    "papermill": {},
    "tags": [
     ""
    ]
   },
   "source": [
    "### Check email validity"
   ]
  },
  {
   "cell_type": "markdown",
   "id": "fd949602-8ea5-4cba-b869-b2a94c809dee",
   "metadata": {
    "papermill": {},
    "tags": [
     ""
    ]
   },
   "source": [
    "This function will check the validity of an email address using a regular expression."
   ]
  },
  {
   "cell_type": "code",
   "execution_count": 3,
   "id": "b3871e62-1956-496a-af16-e3304e9a3412",
   "metadata": {
    "execution": {
     "iopub.execute_input": "2023-02-16T16:38:09.190762Z",
     "iopub.status.busy": "2023-02-16T16:38:09.190542Z",
     "iopub.status.idle": "2023-02-16T16:38:09.193930Z",
     "shell.execute_reply": "2023-02-16T16:38:09.193342Z",
     "shell.execute_reply.started": "2023-02-16T16:38:09.190741Z"
    },
    "papermill": {},
    "tags": [
     ""
    ]
   },
   "outputs": [],
   "source": [
    "def check_email_validity(email):\n",
    "    regex = \"^\\w+([\\.-]?\\w+)*@\\w+([\\.-]?\\w+)*(\\.\\w{2,3})+$\"\n",
    "    if re.search(regex, email):\n",
    "        return True\n",
    "    else:\n",
    "        return False"
   ]
  },
  {
   "cell_type": "markdown",
   "id": "7ec9e01c-b477-40a0-aa05-d3042ab4b0fc",
   "metadata": {
    "papermill": {},
    "tags": [
     ""
    ]
   },
   "source": [
    "## Output"
   ]
  },
  {
   "cell_type": "markdown",
   "id": "14912d7f-9f7a-4262-82d2-c7d3b3f0379b",
   "metadata": {
    "papermill": {},
    "tags": [
     ""
    ]
   },
   "source": [
    "### Display result"
   ]
  },
  {
   "cell_type": "code",
   "execution_count": 4,
   "id": "3eca7fa7-e2fc-4265-aceb-9674526b980b",
   "metadata": {
    "execution": {
     "iopub.execute_input": "2023-02-16T16:38:11.837816Z",
     "iopub.status.busy": "2023-02-16T16:38:11.837598Z",
     "iopub.status.idle": "2023-02-16T16:38:11.841694Z",
     "shell.execute_reply": "2023-02-16T16:38:11.841069Z",
     "shell.execute_reply.started": "2023-02-16T16:38:11.837795Z"
    },
    "papermill": {},
    "tags": [
     ""
    ]
   },
   "outputs": [
    {
     "name": "stdout",
     "output_type": "stream",
     "text": [
      "True\n"
     ]
    }
   ],
   "source": [
    "print(check_email_validity(email))"
   ]
  },
  {
   "cell_type": "markdown",
   "id": "5b47acbe-819e-4f0a-9c75-208cb443d57f",
   "metadata": {
    "papermill": {},
    "tags": [
     ""
    ]
   },
   "source": [
    " "
   ]
  }
 ],
 "metadata": {
  "kernelspec": {
   "display_name": "Python 3",
   "language": "python",
   "name": "python3"
  },
  "language_info": {
   "codemirror_mode": {
    "name": "ipython",
    "version": 3
   },
   "file_extension": ".py",
   "mimetype": "text/x-python",
   "name": "python",
   "nbconvert_exporter": "python",
   "pygments_lexer": "ipython3",
   "version": "3.9.6"
  }
 },
 "nbformat": 4,
 "nbformat_minor": 5
}
