{
 "cells": [
  {
   "cell_type": "markdown",
   "metadata": {},
   "source": [
    "<img width=\"10%\" alt=\"Naas\" src=\"https://landen.imgix.net/jtci2pxwjczr/assets/5ice39g4.png?w=160\"/>"
   ]
  },
  {
   "cell_type": "markdown",
   "metadata": {},
   "source": [
    "# Python - Find Phone Number in a string\n",
    "<a href=\"https://app.naas.ai/user-redirect/naas/downloader?url=https://raw.githubusercontent.com/jupyter-naas/awesome-notebooks/master/Python/Python_Download_PDF_from_URL.ipynb\" target=\"_parent\"><img src=\"https://naasai-public.s3.eu-west-3.amazonaws.com/open_in_naas.svg\"/></a>"
   ]
  },
  {
   "cell_type": "markdown",
   "metadata": {},
   "source": [
    "**Tags:** #python #string #number #naas #operations #snippet"
   ]
  },
  {
   "cell_type": "markdown",
   "metadata": {},
   "source": [
    "**Author:** [Anas Tazir](https://github.com/anastazir)"
   ]
  },
  {
   "cell_type": "markdown",
   "metadata": {},
   "source": [
    "This notebook find phone number in string."
   ]
  },
  {
   "cell_type": "markdown",
   "metadata": {},
   "source": [
    "## Input"
   ]
  },
  {
   "cell_type": "markdown",
   "metadata": {},
   "source": [
    "### Setup Variables"
   ]
  },
  {
   "cell_type": "code",
   "execution_count": null,
   "metadata": {
    "tags": []
   },
   "outputs": [],
   "source": [
    "# Input\n",
    "sentence = \"\"\"My number is +33606060606 \"\"\"\n",
    "\n",
    "# Ouptut\n",
    "phone_number = \"\""
   ]
  },
  {
   "cell_type": "markdown",
   "metadata": {},
   "source": [
    "## Model"
   ]
  },
  {
   "cell_type": "markdown",
   "metadata": {},
   "source": [
    "### Find Phone Number"
   ]
  },
  {
   "cell_type": "code",
   "execution_count": null,
   "metadata": {
    "tags": []
   },
   "outputs": [],
   "source": [
    "def find_phone_number(string):\n",
    "    if len(string) == 10 and string.isdecimal(): # if string is of type XXXXXXXXXX\n",
    "        return True\n",
    "    if len(string) == 12 and string.startswith(\"+\") and string[1:].isdecimal(): # if string is of type XXXXXXXXXX\n",
    "        return True\n",
    "    if len(string) != 12: # if string is of type XXX-XXX-XXXX\n",
    "        return False\n",
    "    if string.isdecimal():\n",
    "        return True\n",
    "    for i in range(0, 3):\n",
    "        if not string[i].isdecimal():\n",
    "            return False\n",
    "    if string[3] != '-':\n",
    "        return False\n",
    "    for i in range(4, 7):\n",
    "        if not string[i].isdecimal():\n",
    "            return False\n",
    "    if string[7] != '-':\n",
    "        return False\n",
    "    for i in range(8, 12):\n",
    "        if not string[i].isdecimal():\n",
    "            return False\n",
    "        return True"
   ]
  },
  {
   "cell_type": "code",
   "execution_count": null,
   "metadata": {
    "tags": []
   },
   "outputs": [],
   "source": [
    "for i in range(len(sentence)):\n",
    "    split_12 = sentence[i:i+12]\n",
    "    split_10 = sentence[i:i+10]\n",
    "    if find_phone_number(split_10):\n",
    "        phone_number = split_10\n",
    "        break\n",
    "    elif find_phone_number(split_12):\n",
    "        phone_number = split_12\n",
    "        break"
   ]
  },
  {
   "cell_type": "markdown",
   "metadata": {},
   "source": [
    "## Output"
   ]
  },
  {
   "cell_type": "markdown",
   "metadata": {},
   "source": [
    "### Display result"
   ]
  },
  {
   "cell_type": "code",
   "execution_count": null,
   "metadata": {
    "tags": []
   },
   "outputs": [],
   "source": [
    "if not phone_number:\n",
    "    print(\"Not phone number was found.\")\n",
    "else:\n",
    "    print(\"Phone number present in the string is :\", phone_number)"
   ]
  }
 ],
 "metadata": {
  "kernelspec": {
   "display_name": "Python 3",
   "language": "python",
   "name": "python3"
  },
  "language_info": {
   "codemirror_mode": {
    "name": "ipython",
    "version": 3
   },
   "file_extension": ".py",
   "mimetype": "text/x-python",
   "name": "python",
   "nbconvert_exporter": "python",
   "pygments_lexer": "ipython3",
   "version": "3.9.6"
  },
  "vscode": {
   "interpreter": {
    "hash": "d8b744c3d7d64f598477d1e2d97b4ccab66faa6748eadc9807403570d2ec4c5a"
   }
  }
 },
 "nbformat": 4,
 "nbformat_minor": 4
}
