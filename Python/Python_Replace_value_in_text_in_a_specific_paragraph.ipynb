{
 "cells": [
  {
   "cell_type": "markdown",
   "id": "naas-logo",
   "metadata": {
    "papermill": {},
    "tags": [
     "logo"
    ]
   },
   "source": [
    "<img width=\"10%\" alt=\"Naas\" src=\"https://landen.imgix.net/jtci2pxwjczr/assets/5ice39g4.png?w=160\"/>"
   ]
  },
  {
   "cell_type": "markdown",
   "id": "730be54e-55e9-4f48-b92a-75e3dd955c57",
   "metadata": {
    "papermill": {},
    "tags": [
     ""
    ]
   },
   "source": [
    "# Python - Replace value in text in a specific paragraph"
   ]
  },
  {
   "cell_type": "markdown",
   "id": "9d222904-fb97-4e22-bb46-f8329c65d0e2",
   "metadata": {
    "papermill": {},
    "tags": [
     ""
    ]
   },
   "source": [
    "**Tags:** #python #string #replace #text #snippet"
   ]
  },
  {
   "cell_type": "markdown",
   "id": "6afdede2-f381-45fe-b05c-d916249c2f0e",
   "metadata": {
    "papermill": {},
    "tags": [
     ""
    ]
   },
   "source": [
    "**Author:** [Florent Ravenel](https://www.linkedin.com/in/florent-ravenel/)"
   ]
  },
  {
   "cell_type": "markdown",
   "id": "6e0b0d72-f309-46d3-9c52-257c2b0ec749",
   "metadata": {
    "papermill": {},
    "tags": [
     ""
    ]
   },
   "source": [
    "**Description:** This notebook will show how to replace a value in a specific paragraph of a text using Python."
   ]
  },
  {
   "cell_type": "markdown",
   "id": "e55f9882-e754-4433-af23-7452c917e043",
   "metadata": {
    "papermill": {},
    "tags": [
     ""
    ]
   },
   "source": [
    "<u>References:</u>\n",
    "- https://www.geeksforgeeks.org/python-string-replace/\n",
    "- https://www.programiz.com/python-programming/methods/string/replace"
   ]
  },
  {
   "cell_type": "markdown",
   "id": "037fda5e-9175-4d01-a5e5-53d19d562f40",
   "metadata": {
    "papermill": {},
    "tags": [
     ""
    ]
   },
   "source": [
    "## Input"
   ]
  },
  {
   "cell_type": "markdown",
   "id": "84c12230-18fd-45db-8383-4ea7a5eef312",
   "metadata": {
    "papermill": {},
    "tags": [
     ""
    ]
   },
   "source": [
    "### Import libraries"
   ]
  },
  {
   "cell_type": "code",
   "execution_count": null,
   "id": "a57bd3a8-e578-472f-bb9e-e927bb0d9949",
   "metadata": {
    "papermill": {},
    "tags": []
   },
   "outputs": [],
   "source": [
    "import re"
   ]
  },
  {
   "cell_type": "markdown",
   "id": "f065d907-a8a9-4e65-a830-03f36d5b0913",
   "metadata": {
    "papermill": {},
    "tags": [
     ""
    ]
   },
   "source": [
    "### Setup Variables\n",
    "- `text`: text containing the paragraph to be modified\n",
    "- `paragraph`: paragraph to be modified\n",
    "- `old_value`: value to be replaced\n",
    "- `new_value`: value to replace the old one"
   ]
  },
  {
   "cell_type": "code",
   "execution_count": null,
   "id": "660cd1ed-586e-49bf-b30a-d305a847c199",
   "metadata": {
    "papermill": {},
    "tags": [
     ""
    ]
   },
   "outputs": [],
   "source": [
    "# Setup variables\n",
    "text = \"This is the first paragraph. This is the second paragraph. This is the third paragraph.\"\n",
    "paragraph = \"This is the second paragraph.\"\n",
    "old_value = \"second\"\n",
    "new_value = \"fourth\""
   ]
  },
  {
   "cell_type": "markdown",
   "id": "1b8736f2-4320-47c1-9002-2d0b1aafdebf",
   "metadata": {
    "papermill": {},
    "tags": [
     ""
    ]
   },
   "source": [
    "## Model"
   ]
  },
  {
   "cell_type": "markdown",
   "id": "345a3793-8baa-4b62-8186-bd7866585708",
   "metadata": {
    "papermill": {},
    "tags": [
     ""
    ]
   },
   "source": [
    "### Replace value in text"
   ]
  },
  {
   "cell_type": "code",
   "execution_count": null,
   "id": "3679ece8-626d-4bee-8244-45f35b12be38",
   "metadata": {
    "papermill": {},
    "tags": [
     ""
    ]
   },
   "outputs": [],
   "source": [
    "# Replace value in text\n",
    "new_paragraph = re.sub(old_value, new_value, paragraph)\n",
    "new_text = text.replace(paragraph, new_paragraph)"
   ]
  },
  {
   "cell_type": "markdown",
   "id": "21b2ad47-c6c4-4135-9bd5-bd26674d7a6d",
   "metadata": {
    "papermill": {},
    "tags": [
     ""
    ]
   },
   "source": [
    "## Output"
   ]
  },
  {
   "cell_type": "markdown",
   "id": "d6d7515c-21e2-40b3-b57d-dad9fb29c83e",
   "metadata": {
    "papermill": {},
    "tags": [
     ""
    ]
   },
   "source": [
    "### Display result"
   ]
  },
  {
   "cell_type": "code",
   "execution_count": null,
   "id": "a179629c-3539-46cf-9367-8c5fbc844bec",
   "metadata": {
    "papermill": {},
    "tags": []
   },
   "outputs": [],
   "source": [
    "print(new_text)"
   ]
  }
 ],
 "metadata": {
  "kernelspec": {
   "display_name": "Python 3",
   "language": "python",
   "name": "python3"
  },
  "language_info": {
   "codemirror_mode": {
    "name": "ipython",
    "version": 3
   },
   "file_extension": ".py",
   "mimetype": "text/x-python",
   "name": "python",
   "nbconvert_exporter": "python",
   "pygments_lexer": "ipython3",
   "version": "3.9.6"
  }
 },
 "nbformat": 4,
 "nbformat_minor": 5
}
