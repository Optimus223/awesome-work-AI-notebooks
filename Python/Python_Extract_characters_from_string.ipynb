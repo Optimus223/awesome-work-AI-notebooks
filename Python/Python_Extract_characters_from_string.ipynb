{
 "cells": [
  {
   "cell_type": "markdown",
   "id": "a375df46-3e8d-496c-b9f2-956a649ee2b0",
   "metadata": {
    "papermill": {},
    "tags": []
   },
   "source": [
    "<img width=\"10%\" alt=\"Naas\" src=\"https://landen.imgix.net/jtci2pxwjczr/assets/5ice39g4.png?w=160\"/>"
   ]
  },
  {
   "cell_type": "markdown",
   "id": "7da76030-0b3c-4c2f-9e7b-36043d3cd1a1",
   "metadata": {
    "papermill": {},
    "tags": []
   },
   "source": [
    "# Python - Extract characters from string\n",
    "<a href=\"https://app.naas.ai/user-redirect/naas/downloader?url=https://raw.githubusercontent.com/jupyter-naas/awesome-notebooks/master/Python/Python_Convert_string_to_URL.ipynb\" target=\"_parent\"><img src=\"https://naasai-public.s3.eu-west-3.amazonaws.com/open_in_naas.svg\"/></a><br><br><a href=\"https://github.com/jupyter-naas/awesome-notebooks/issues/new?assignees=&labels=&template=template-request.md&title=Tool+-+Action+of+the+notebook+\">Template request</a> | <a href=\"https://github.com/jupyter-naas/awesome-notebooks/issues/new?assignees=&labels=bug&template=bug_report.md&title=Python+-+Convert+string+to+URL:+Error+short+description\">Bug report</a> | <a href=\"https://app.naas.ai/user-redirect/naas/downloader?url=https://raw.githubusercontent.com/jupyter-naas/awesome-notebooks/master/Naas/Naas_Start_data_product.ipynb\" target=\"_parent\">Generate Data Product</a>"
   ]
  },
  {
   "cell_type": "markdown",
   "id": "a783de75-d983-43ac-8323-a92bca66a8c3",
   "metadata": {
    "papermill": {},
    "tags": []
   },
   "source": [
    "**Tags:** #python #extract #string #character"
   ]
  },
  {
   "cell_type": "markdown",
   "id": "e502ab4b-f881-47fa-a199-1d9604807537",
   "metadata": {
    "papermill": {},
    "tags": []
   },
   "source": [
    "**Author:** [Benjamin Filly](https://www.linkedin.com/in/benjamin-filly-05427727a/)"
   ]
  },
  {
   "cell_type": "markdown",
   "id": "b447e3a8-ced8-4831-bbfc-ca5a7466df6f",
   "metadata": {
    "papermill": {},
    "tags": []
   },
   "source": [
    "**Description:** This notebook will show how to extract characters from a string"
   ]
  },
  {
   "cell_type": "markdown",
   "id": "8848fad9-b586-4662-bb43-19c52e25967a",
   "metadata": {
    "papermill": {},
    "tags": []
   },
   "source": [
    "**References:**\n",
    "- [Python Extraction method](https://note.nkmk.me/en/python-str-extract/#:~:text=You%20can%20extract%20a%20substring%20in%20the%20range%20start%20%3C%3D%20x,the%20end%20of%20the%20string.&text=You%20can%20also%20use%20negative%20values.&text=If%20start%20%3E%20end%20%2C%20no%20error,empty%20string%20''%20is%20extracted.)"
   ]
  },
  {
   "cell_type": "markdown",
   "id": "be71fe01-3f32-4bef-b52f-14559736a10e",
   "metadata": {
    "papermill": {},
    "tags": []
   },
   "source": [
    "## Input"
   ]
  },
  {
   "cell_type": "markdown",
   "id": "71db5801-b569-4661-8a73-7ab6674a643a",
   "metadata": {
    "papermill": {},
    "tags": []
   },
   "source": [
    "### Setup Variables\n",
    "- `string`: character string to be extracted"
   ]
  },
  {
   "cell_type": "code",
   "execution_count": 2,
   "id": "56811afa-732c-46fd-b3a8-f04e4baada05",
   "metadata": {
    "execution": {
     "iopub.execute_input": "2023-06-08T09:57:25.191276Z",
     "iopub.status.busy": "2023-06-08T09:57:25.191044Z",
     "iopub.status.idle": "2023-06-08T09:57:25.194829Z",
     "shell.execute_reply": "2023-06-08T09:57:25.194011Z",
     "shell.execute_reply.started": "2023-06-08T09:57:25.191251Z"
    },
    "papermill": {},
    "tags": []
   },
   "outputs": [],
   "source": [
    "string = \"Hello, World!\""
   ]
  },
  {
   "cell_type": "markdown",
   "id": "f2ad5c91-6389-4bd2-8537-7e0088b93533",
   "metadata": {
    "papermill": {},
    "tags": []
   },
   "source": [
    "## Model"
   ]
  },
  {
   "cell_type": "markdown",
   "id": "4b1df285-3221-458d-899d-bd2a0bf3fe0a",
   "metadata": {
    "papermill": {},
    "tags": []
   },
   "source": [
    "### Convert string to URL\n",
    "To extract characters from a string in Python, you can use string slicing or indexing.\n",
    "- `substring` : In this example, the substring from index 7 to index 11 (excluding index 12) is extracted using slicing. This range corresponds to the \"World\" characters in the original string.\n",
    "- `characters` : Here, the step value of 2 is used in the slicing operation. It extracts every other character from the string, resulting in \"Hlo ol!"
   ]
  },
  {
   "cell_type": "code",
   "execution_count": 3,
   "id": "72a0a05f-2935-4505-8a09-3602e791774c",
   "metadata": {
    "execution": {
     "iopub.execute_input": "2023-06-08T09:57:25.537221Z",
     "iopub.status.busy": "2023-06-08T09:57:25.536980Z",
     "iopub.status.idle": "2023-06-08T09:57:25.540797Z",
     "shell.execute_reply": "2023-06-08T09:57:25.539991Z",
     "shell.execute_reply.started": "2023-06-08T09:57:25.537196Z"
    },
    "papermill": {},
    "tags": []
   },
   "outputs": [],
   "source": [
    "substring = string[7:12]\n",
    "characters = string[::2]"
   ]
  },
  {
   "cell_type": "markdown",
   "id": "d3d1a3d3-b21e-493c-8db1-2a76dbff62fe",
   "metadata": {
    "papermill": {},
    "tags": []
   },
   "source": [
    "## Output"
   ]
  },
  {
   "cell_type": "markdown",
   "id": "9a45ecdc-5c4f-458b-b292-a4c05564a6d7",
   "metadata": {
    "papermill": {},
    "tags": []
   },
   "source": [
    "### Display result"
   ]
  },
  {
   "cell_type": "code",
   "execution_count": 4,
   "id": "8439ed05-4a87-4ca5-af92-5f979730bd2e",
   "metadata": {
    "execution": {
     "iopub.execute_input": "2023-06-08T09:57:26.098407Z",
     "iopub.status.busy": "2023-06-08T09:57:26.098177Z",
     "iopub.status.idle": "2023-06-08T09:57:26.102680Z",
     "shell.execute_reply": "2023-06-08T09:57:26.101925Z",
     "shell.execute_reply.started": "2023-06-08T09:57:26.098382Z"
    },
    "papermill": {},
    "tags": []
   },
   "outputs": [
    {
     "name": "stdout",
     "output_type": "stream",
     "text": [
      "World\n",
      "Hlo ol!\n"
     ]
    }
   ],
   "source": [
    "print(substring)\n",
    "print(characters)"
   ]
  },
  {
   "cell_type": "markdown",
   "id": "8acc17ec-b543-49ef-befb-f57a96c08878",
   "metadata": {
    "papermill": {},
    "tags": []
   },
   "source": [
    " "
   ]
  }
 ],
 "metadata": {
  "kernelspec": {
   "display_name": "Python 3",
   "language": "python",
   "name": "python3"
  },
  "language_info": {
   "codemirror_mode": {
    "name": "ipython",
    "version": 3
   },
   "file_extension": ".py",
   "mimetype": "text/x-python",
   "name": "python",
   "nbconvert_exporter": "python",
   "pygments_lexer": "ipython3",
   "version": "3.9.6"
  },
  "papermill": {
   "default_parameters": {},
   "environment_variables": {},
   "parameters": {},
   "version": "2.4.0"
  },
  "widgets": {
   "application/vnd.jupyter.widget-state+json": {
    "state": {},
    "version_major": 2,
    "version_minor": 0
   }
  }
 },
 "nbformat": 4,
 "nbformat_minor": 5
}
