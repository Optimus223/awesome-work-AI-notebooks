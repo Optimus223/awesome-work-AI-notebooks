{
 "cells": [
  {
   "cell_type": "markdown",
   "id": "125b1427-420b-46d0-af95-ba7891f22944",
   "metadata": {
    "papermill": {},
    "tags": []
   },
   "source": [
    "<img width=\"10%\" alt=\"Naas\" src=\"https://landen.imgix.net/jtci2pxwjczr/assets/5ice39g4.png?w=160\"/>"
   ]
  },
  {
   "cell_type": "markdown",
   "id": "7f13ac28-924f-4fc8-9190-6ee345ae2517",
   "metadata": {
    "papermill": {},
    "tags": []
   },
   "source": [
    "# Python - Set variables in environment"
   ]
  },
  {
   "cell_type": "markdown",
   "id": "542a5123-63da-4fed-9d66-8e2b8f74b822",
   "metadata": {
    "papermill": {},
    "tags": []
   },
   "source": [
    "**Tags:** #python #environment #variables #os #environ #object"
   ]
  },
  {
   "cell_type": "markdown",
   "id": "36ae4df8-7417-4423-9a94-dacb5ee1d7f2",
   "metadata": {
    "papermill": {},
    "tags": []
   },
   "source": [
    "**Author:** [Florent Ravenel](https://www.linkedin.com/in/florent-ravenel/)"
   ]
  },
  {
   "cell_type": "markdown",
   "id": "ec95cb57-b363-4e5e-b4ad-bd914fd5ebe1",
   "metadata": {
    "papermill": {},
    "tags": []
   },
   "source": [
    "**Description:** This notebook explains how to set variables in environment using the Python `os.environ` object. It is usefull for organizations that need to store and access environment variables in their Python scripts."
   ]
  },
  {
   "cell_type": "markdown",
   "id": "a1700cbe-f655-4ade-a771-01fa964115a6",
   "metadata": {
    "papermill": {},
    "tags": []
   },
   "source": [
    "**References:**\n- [Python os.environ object](https://www.geeksforgeeks.org/python-os-environ-object/)\n- [Python os.environ documentation](https://docs.python.org/3/library/os.html#os.environ)"
   ]
  },
  {
   "cell_type": "markdown",
   "id": "7c977aae-2bfb-402d-b382-467b7ab52801",
   "metadata": {
    "papermill": {},
    "tags": []
   },
   "source": [
    "## Input"
   ]
  },
  {
   "cell_type": "markdown",
   "id": "43b41254-a92d-4a08-8e09-2caeda1713ae",
   "metadata": {
    "papermill": {},
    "tags": []
   },
   "source": [
    "### Import libraries"
   ]
  },
  {
   "cell_type": "code",
   "execution_count": null,
   "id": "e36ca348-9c1a-4f7d-8e01-72052aba616b",
   "metadata": {
    "papermill": {},
    "tags": []
   },
   "source": "import os",
   "outputs": []
  },
  {
   "cell_type": "markdown",
   "id": "eb93ffb5-0a12-4429-914a-2b9cc77ff94e",
   "metadata": {
    "papermill": {},
    "tags": []
   },
   "source": [
    "### Setup Variables\n- `VAR_1`: Variable to be set in environment\n- `VAR_2`: Another variable to be set in environment"
   ]
  },
  {
   "cell_type": "code",
   "execution_count": null,
   "id": "58c23121-5dc0-4ebc-80d2-49ce2ecc7b8e",
   "metadata": {
    "papermill": {},
    "tags": []
   },
   "source": "VAR_1 = \"value_1\"\nVAR_2 = \"value_2\"",
   "outputs": []
  },
  {
   "cell_type": "markdown",
   "id": "37ce1f0b-5a20-4d7b-a58e-7b43df65d94d",
   "metadata": {
    "papermill": {},
    "tags": []
   },
   "source": [
    "## Model"
   ]
  },
  {
   "cell_type": "markdown",
   "id": "8f0a6e68-876a-4bc9-8690-fde3fadf8261",
   "metadata": {
    "papermill": {},
    "tags": []
   },
   "source": [
    "### Set variables in environment"
   ]
  },
  {
   "cell_type": "code",
   "execution_count": null,
   "id": "43b85a49-a541-48ce-9922-46a7454e3359",
   "metadata": {
    "papermill": {},
    "tags": []
   },
   "source": "# Set VAR_1 in environment\nos.environ[\"VAR_1\"] = VAR_1\n# Set VAR_2 in environment\nos.environ[\"VAR_2\"] = VAR_2",
   "outputs": []
  },
  {
   "cell_type": "markdown",
   "id": "8d0b6876-068a-45cc-aa3e-be7835efe1dc",
   "metadata": {
    "papermill": {},
    "tags": []
   },
   "source": [
    "## Output"
   ]
  },
  {
   "cell_type": "markdown",
   "id": "e8a44b04-4b3f-4de6-af74-6fb611a5f94a",
   "metadata": {
    "papermill": {},
    "tags": []
   },
   "source": [
    "### Display result"
   ]
  },
  {
   "cell_type": "code",
   "execution_count": null,
   "id": "f78d29c1-54f7-4e16-97a9-1cbeb18c2780",
   "metadata": {
    "papermill": {},
    "tags": []
   },
   "source": "# Print VAR_1\nprint(os.environ[\"VAR_1\"])\n# Print VAR_2\nprint(os.environ[\"VAR_2\"])",
   "outputs": []
  },
  {
   "cell_type": "markdown",
   "id": "0aff680b-d78f-40af-8f24-cf5ea40dd13c",
   "metadata": {
    "papermill": {},
    "tags": []
   },
   "source": [
    " "
   ]
  }
 ],
 "metadata": {
  "kernelspec": {
   "display_name": "Python 3",
   "language": "python",
   "name": "python3"
  },
  "language_info": {
   "codemirror_mode": {
    "name": "ipython",
    "version": 3
   },
   "file_extension": ".py",
   "mimetype": "text/x-python",
   "name": "python",
   "nbconvert_exporter": "python",
   "pygments_lexer": "ipython3",
   "version": "3.9.6"
  },
  "widgets": {
   "application/vnd.jupyter.widget-state+json": {
    "state": {},
    "version_major": 2,
    "version_minor": 0
   }
  }
 },
 "nbformat": 4,
 "nbformat_minor": 5
}