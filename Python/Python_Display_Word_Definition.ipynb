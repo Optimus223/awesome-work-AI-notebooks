{
 "cells": [
  {
   "cell_type": "markdown",
   "id": "5a8150cb-480c-469f-8aff-4ea7c2b26963",
   "metadata": {},
   "source": [
    "<img width=\"10%\" alt=\"Naas\" src=\"https://landen.imgix.net/jtci2pxwjczr/assets/5ice39g4.png?w=160\"/>"
   ]
  },
  {
   "cell_type": "markdown",
   "id": "10371288-b489-41bc-8460-9b07c689da06",
   "metadata": {},
   "source": [
    "# Display word definition"
   ]
  },
  {
   "cell_type": "markdown",
   "id": "be58437b-49b9-4813-a1fc-1b244b4989b9",
   "metadata": {},
   "source": [
    "**Tags🏷️** #dictionary #project #word"
   ]
  },
  {
   "cell_type": "markdown",
   "id": "a09fa493-3a7d-40c6-a486-f9c95380d2f2",
   "metadata": {},
   "source": [
    "**Author:✏️** [Sriniketh Jayasendil](https://twitter.com/srini047/)"
   ]
  },
  {
   "cell_type": "markdown",
   "id": "87abccf3-290d-4e3e-96a2-eb5373f27002",
   "metadata": {},
   "source": [
    "**Description📃**\n"
   ]
  },
  {
   "cell_type": "code",
   "execution_count": 9,
   "id": "83d9b261-4e73-4b10-820e-0f21db738fd0",
   "metadata": {
    "execution": {
     "iopub.execute_input": "2022-10-13T18:14:29.786256Z",
     "iopub.status.busy": "2022-10-13T18:14:29.785910Z",
     "iopub.status.idle": "2022-10-13T18:14:30.069432Z",
     "shell.execute_reply": "2022-10-13T18:14:30.067539Z",
     "shell.execute_reply.started": "2022-10-13T18:14:29.786172Z"
    },
    "tags": []
   },
   "outputs": [],
   "source": [
    "try:\n",
    "    from PyDictionary import PyDictionary\n",
    "except ModuleNotFoundError:\n",
    "    !pip install PyDictionary\n",
    "    from PyDictionary import PyDictionary"
   ]
  },
  {
   "cell_type": "markdown",
   "id": "eda2461b-0583-4942-8304-0afd6f6fd9af",
   "metadata": {},
   "source": [
    "### Variables"
   ]
  },
  {
   "cell_type": "code",
   "execution_count": 10,
   "id": "6615bf49-3f2c-4025-93a1-ec65dd64646b",
   "metadata": {
    "execution": {
     "iopub.execute_input": "2022-10-13T18:01:29.684594Z",
     "iopub.status.busy": "2022-10-13T18:01:29.684342Z",
     "iopub.status.idle": "2022-10-13T18:01:33.465406Z",
     "shell.execute_reply": "2022-10-13T18:01:33.464571Z",
     "shell.execute_reply.started": "2022-10-13T18:01:29.684566Z"
    },
    "tags": []
   },
   "outputs": [],
   "source": [
    "word = input('Enter the word to get all details: ')   # Get the word from the user\n",
    "lang_code = input('Enter the language that needs to be translated: ')  # Available language codes: https://developers.google.com/admin-sdk/directory/v1/languages"
   ]
  },
  {
   "cell_type": "markdown",
   "id": "5aeb981c-1813-4675-81cc-ea9ff89636ae",
   "metadata": {},
   "source": [
    "### Model"
   ]
  },
  {
   "cell_type": "code",
   "execution_count": 11,
   "id": "7967f2ff-d54a-4f1e-8efb-ed3edc0eba4c",
   "metadata": {
    "execution": {
     "iopub.execute_input": "2022-10-13T18:01:33.469789Z",
     "iopub.status.busy": "2022-10-13T18:01:33.469310Z",
     "iopub.status.idle": "2022-10-13T18:01:33.475908Z",
     "shell.execute_reply": "2022-10-13T18:01:33.475338Z",
     "shell.execute_reply.started": "2022-10-13T18:01:33.469754Z"
    },
    "tags": []
   },
   "outputs": [],
   "source": [
    "dictionary = PyDictionary()   # Create a PyDictionary Model"
   ]
  },
  {
   "cell_type": "markdown",
   "id": "3af29764-42ad-418b-9c5f-51595e6f3ffa",
   "metadata": {
    "execution": {
     "iopub.execute_input": "2022-10-13T17:46:27.193763Z",
     "iopub.status.busy": "2022-10-13T17:46:27.193530Z",
     "iopub.status.idle": "2022-10-13T17:46:27.196566Z",
     "shell.execute_reply": "2022-10-13T17:46:27.195853Z",
     "shell.execute_reply.started": "2022-10-13T17:46:27.193737Z"
    }
   },
   "source": [
    "### Meaning"
   ]
  },
  {
   "cell_type": "code",
   "execution_count": 12,
   "id": "f71f6935-c93d-4643-8145-c1b0326929a3",
   "metadata": {
    "execution": {
     "iopub.execute_input": "2022-10-13T18:01:33.477486Z",
     "iopub.status.busy": "2022-10-13T18:01:33.477072Z",
     "iopub.status.idle": "2022-10-13T18:01:34.009742Z",
     "shell.execute_reply": "2022-10-13T18:01:34.005311Z",
     "shell.execute_reply.started": "2022-10-13T18:01:33.477456Z"
    },
    "tags": []
   },
   "outputs": [
    {
     "name": "stdout",
     "output_type": "stream",
     "text": [
      "train : {'Noun': ['public transport provided by a line of railway cars coupled together and drawn by a locomotive', 'a sequentially ordered set of things or events or ideas in which each successive member is related to the preceding', 'a procession (of wagons or mules or camels', 'a series of consequences wrought by an event', 'piece of cloth forming the long back section of a gown that is drawn along the floor', 'wheelwork consisting of a connected set of rotating gears by which force is transmitted or motion or torque is changed'], 'Verb': ['create by training and teaching', 'undergo training or instruction in preparation for a particular role, function, or profession', \"develop (a child's or animal's\", 'educate for a future role or function', 'teach or refine to be discriminative in taste or judgment', 'point or cause to go (blows, weapons, or objects such as photographic equipment', 'teach and supervise (someone', 'exercise in order to prepare for an event or competition', 'cause to grow in a certain way by tying and pruning it', 'travel by rail or train', 'drag loosely along a surface; allow to sweep the ground']}\n"
     ]
    }
   ],
   "source": [
    "print(word + \" : \", end=\"\")\n",
    "print(dictionary.meaning(word))  # replace \"earth\" with any other word of your choice"
   ]
  },
  {
   "cell_type": "markdown",
   "id": "e702e23e-f75f-4dba-a9c2-d12e4c99c6ef",
   "metadata": {},
   "source": [
    "### Translate"
   ]
  },
  {
   "cell_type": "code",
   "execution_count": 13,
   "id": "44f7485b-664b-4cf9-8161-38596984dabb",
   "metadata": {
    "execution": {
     "iopub.execute_input": "2022-10-13T18:01:34.014200Z",
     "iopub.status.busy": "2022-10-13T18:01:34.013737Z",
     "iopub.status.idle": "2022-10-13T18:01:34.461581Z",
     "shell.execute_reply": "2022-10-13T18:01:34.460436Z",
     "shell.execute_reply.started": "2022-10-13T18:01:34.014161Z"
    },
    "tags": []
   },
   "outputs": [
    {
     "name": "stdout",
     "output_type": "stream",
     "text": [
      "train => रेल गाडी\n"
     ]
    }
   ],
   "source": [
    "print(word + \" => \" + dictionary.translate(word, lang_code))"
   ]
  },
  {
   "cell_type": "code",
   "execution_count": null,
   "id": "86ad1803-fb71-4ba4-b238-e5631ba6402e",
   "metadata": {},
   "outputs": [],
   "source": []
  }
 ],
 "metadata": {
  "kernelspec": {
   "display_name": "Python 3",
   "language": "python",
   "name": "python3"
  },
  "language_info": {
   "codemirror_mode": {
    "name": "ipython",
    "version": 3
   },
   "file_extension": ".py",
   "mimetype": "text/x-python",
   "name": "python",
   "nbconvert_exporter": "python",
   "pygments_lexer": "ipython3",
   "version": "3.8.12"
  },
  "vscode": {
   "interpreter": {
    "hash": "1a98dfdbf5f4dedf5e8d8f4bfd1359a63aa6179b015a1f011f140876f85c4cf3"
   }
  }
 },
 "nbformat": 4,
 "nbformat_minor": 5
}
