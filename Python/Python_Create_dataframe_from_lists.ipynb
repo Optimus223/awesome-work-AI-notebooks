{
 "cells": [
  {
   "cell_type": "markdown",
   "id": "naas-logo",
   "metadata": {
    "papermill": {},
    "tags": [
     "naas"
    ]
   },
   "source": [
    "<img width=\"10%\" alt=\"Naas\" src=\"https://landen.imgix.net/jtci2pxwjczr/assets/5ice39g4.png?w=160\"/>"
   ]
  },
  {
   "cell_type": "markdown",
   "id": "db17b79b",
   "metadata": {
    "papermill": {},
    "tags": []
   },
   "source": [
    "# Python - Create dataframe from lists\n",
    "<a href=\"https://app.naas.ai/user-redirect/naas/downloader?url=https://raw.githubusercontent.com/jupyter-naas/awesome-notebooks/master/Python/Python_Create_dataframe_from_lists.ipynb\" target=\"_parent\"><img src=\"https://naasai-public.s3.eu-west-3.amazonaws.com/open_in_naas.svg\"/></a><br><br><a href=\"https://github.com/jupyter-naas/awesome-notebooks/issues/new?assignees=&labels=&template=template-request.md&title=Tool+-+Action+of+the+notebook+\">Template request</a> | <a href=\"https://github.com/jupyter-naas/awesome-notebooks/issues/new?assignees=&labels=bug&template=bug_report.md&title=Python+-+Create+dataframe+from+lists:+Error+short+description\">Bug report</a>"
   ]
  },
  {
   "cell_type": "markdown",
   "id": "13800319",
   "metadata": {
    "papermill": {},
    "tags": []
   },
   "source": [
    "**Tags:** #python #list #dataframe #snippet #pandas #operations"
   ]
  },
  {
   "cell_type": "markdown",
   "id": "8761af40",
   "metadata": {
    "papermill": {},
    "tags": []
   },
   "source": [
    "**Author:** [Florent Ravenel](https://www.linkedin.com/in/ACoAABCNSioBW3YZHc2lBHVG0E_TXYWitQkmwog/)"
   ]
  },
  {
   "cell_type": "markdown",
   "id": "9aed546b-a071-4a29-943a-06a754e05c40",
   "metadata": {
    "papermill": {},
    "tags": []
   },
   "source": [
    "Here below you will find how to create a pandas DataFrame from two lists in Python."
   ]
  },
  {
   "cell_type": "markdown",
   "id": "d6ed8917",
   "metadata": {
    "papermill": {},
    "tags": []
   },
   "source": [
    "## Input"
   ]
  },
  {
   "cell_type": "markdown",
   "id": "c8e7db8c-55fd-4ec8-a5e0-01b80632b1ec",
   "metadata": {
    "papermill": {},
    "tags": []
   },
   "source": [
    "### Import libraries"
   ]
  },
  {
   "cell_type": "code",
   "execution_count": 2,
   "id": "3869ce8d-e748-4902-a28c-797627946a12",
   "metadata": {
    "execution": {
     "iopub.execute_input": "2022-03-07T10:54:57.546397Z",
     "iopub.status.busy": "2022-03-07T10:54:57.546184Z",
     "iopub.status.idle": "2022-03-07T10:54:57.988185Z",
     "shell.execute_reply": "2022-03-07T10:54:57.987597Z",
     "shell.execute_reply.started": "2022-03-07T10:54:57.546375Z"
    },
    "papermill": {},
    "tags": []
   },
   "outputs": [],
   "source": [
    "import pandas as pd"
   ]
  },
  {
   "cell_type": "markdown",
   "id": "21f8857d-564f-4c44-a587-4f79a9ac9d50",
   "metadata": {
    "papermill": {},
    "tags": []
   },
   "source": [
    "### Variables"
   ]
  },
  {
   "cell_type": "code",
   "execution_count": 6,
   "id": "cfbbe420-3d82-41b6-b03b-90438adfc2ad",
   "metadata": {
    "execution": {
     "iopub.execute_input": "2022-03-07T10:56:04.614875Z",
     "iopub.status.busy": "2022-03-07T10:56:04.614576Z",
     "iopub.status.idle": "2022-03-07T10:56:04.617601Z",
     "shell.execute_reply": "2022-03-07T10:56:04.616958Z",
     "shell.execute_reply.started": "2022-03-07T10:56:04.614848Z"
    },
    "papermill": {},
    "tags": []
   },
   "outputs": [],
   "source": [
    "# Setup your columns name\n",
    "col_key = \"KEYS\"\n",
    "col_value = \"VALUE\""
   ]
  },
  {
   "cell_type": "markdown",
   "id": "fb1b9009",
   "metadata": {
    "papermill": {},
    "tags": []
   },
   "source": [
    "### Lists"
   ]
  },
  {
   "cell_type": "code",
   "execution_count": 7,
   "id": "aefef37f",
   "metadata": {
    "execution": {
     "iopub.execute_input": "2022-03-07T10:56:04.994971Z",
     "iopub.status.busy": "2022-03-07T10:56:04.994753Z",
     "iopub.status.idle": "2022-03-07T10:56:04.998395Z",
     "shell.execute_reply": "2022-03-07T10:56:04.997795Z",
     "shell.execute_reply.started": "2022-03-07T10:56:04.994949Z"
    },
    "papermill": {},
    "tags": []
   },
   "outputs": [],
   "source": [
    "keys = [1995, 1996, 1997, 1998, 1999, 2000, 2001, 2002, 2003, 2004, 2005, 2006, 2007, 2008, 2009, 2010, 2011, 2012]\n",
    "value = [219, 146, 112, 127, 124, 180, 236, 207, 236, 263, 350, 430, 474, 526, 488, 537, 500, 439]"
   ]
  },
  {
   "cell_type": "markdown",
   "id": "30f728e7-f3c8-40a9-aeb9-f6551113462c",
   "metadata": {
    "papermill": {},
    "tags": []
   },
   "source": [
    "## Model"
   ]
  },
  {
   "cell_type": "markdown",
   "id": "07164b8b",
   "metadata": {
    "papermill": {},
    "tags": []
   },
   "source": [
    "### Create zip iterator"
   ]
  },
  {
   "cell_type": "code",
   "execution_count": 8,
   "id": "c5d60211-9e68-4b8e-b51a-4d455a48d441",
   "metadata": {
    "execution": {
     "iopub.execute_input": "2022-03-07T10:56:05.550910Z",
     "iopub.status.busy": "2022-03-07T10:56:05.550691Z",
     "iopub.status.idle": "2022-03-07T10:56:05.553585Z",
     "shell.execute_reply": "2022-03-07T10:56:05.552967Z",
     "shell.execute_reply.started": "2022-03-07T10:56:05.550888Z"
    },
    "papermill": {},
    "tags": []
   },
   "outputs": [],
   "source": [
    "# Call zip(iter1, iter2) with one list as iter1 and another list as iter2 to create a zip iterator containing pairs of elements from the two lists.\n",
    "zip_iterators = zip(keys, value)"
   ]
  },
  {
   "cell_type": "markdown",
   "id": "02d1fc4b",
   "metadata": {
    "papermill": {},
    "tags": []
   },
   "source": [
    "## Output"
   ]
  },
  {
   "cell_type": "markdown",
   "id": "6fffa01c-1f9b-4923-93e1-ee793c3a31d9",
   "metadata": {
    "papermill": {},
    "tags": []
   },
   "source": [
    "### Create dataframe"
   ]
  },
  {
   "cell_type": "code",
   "execution_count": 9,
   "id": "8a54e670",
   "metadata": {
    "execution": {
     "iopub.execute_input": "2022-03-07T10:56:06.451117Z",
     "iopub.status.busy": "2022-03-07T10:56:06.450894Z",
     "iopub.status.idle": "2022-03-07T10:56:06.458450Z",
     "shell.execute_reply": "2022-03-07T10:56:06.457838Z",
     "shell.execute_reply.started": "2022-03-07T10:56:06.451094Z"
    },
    "papermill": {},
    "tags": []
   },
   "outputs": [],
   "source": [
    "df = pd.DataFrame(zip_iterators, columns=[col_key, col_value])\n",
    "df"
   ]
  },
  {
   "cell_type": "code",
   "execution_count": null,
   "id": "0f9499fb-ee63-42d2-8e34-25a06b8aa9c1",
   "metadata": {
    "papermill": {},
    "tags": []
   },
   "outputs": [],
   "source": []
  }
 ],
 "metadata": {
  "kernelspec": {
   "display_name": "Python 3",
   "language": "python",
   "name": "python3"
  },
  "language_info": {
   "codemirror_mode": {
    "name": "ipython",
    "version": 3
   },
   "file_extension": ".py",
   "mimetype": "text/x-python",
   "name": "python",
   "nbconvert_exporter": "python",
   "pygments_lexer": "ipython3",
   "version": "3.9.6"
  },
  "naas": {
   "notebook_id": "97192156-1bee-485b-9d43-130e3370aa90",
   "notebook_path": "Python/Python_Create_dataframe_from_lists.ipynb"
  },
  "papermill": {
   "default_parameters": {},
   "environment_variables": {},
   "parameters": {},
   "version": "2.3.3"
  }
 },
 "nbformat": 4,
 "nbformat_minor": 5
}