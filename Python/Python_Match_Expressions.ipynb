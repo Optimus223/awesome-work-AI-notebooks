{
 "cells": [
  {
   "cell_type": "markdown",
   "id": "cf2bf801-1a21-4e45-bdaa-ac1213850629",
   "metadata": {},
   "source": [
    "<img width=\"10%\" alt=\"Naas\" src=\"https://landen.imgix.net/jtci2pxwjczr/assets/5ice39g4.png?w=160\"/>"
   ]
  },
  {
   "cell_type": "markdown",
   "id": "85a4a969-ca8a-458a-8369-8d5f1e0ae27f",
   "metadata": {},
   "source": [
    "# Match pattern with regular expressions"
   ]
  },
  {
   "cell_type": "markdown",
   "id": "61e850ab-824d-4c64-87e5-c0231ca63b08",
   "metadata": {},
   "source": [
    "**Tags🏷️** #twilio #project #call #mobile"
   ]
  },
  {
   "cell_type": "markdown",
   "id": "c37bfa0c-4380-49ef-b94c-d9d21fc48e85",
   "metadata": {},
   "source": [
    "**Author:✏️** [Sriniketh Jayasendil](https://twitter.com/srini047/)"
   ]
  },
  {
   "cell_type": "markdown",
   "id": "c7d1a114-f5ce-495a-b442-7cd2712b3f02",
   "metadata": {},
   "source": [
    "**Description📃**\n",
    "It can be exceedingly laborious to get data from sources that are not organised. Regular expressions can be used in Python to match patterns in greater depth, similar to the filtering example above. Using this, textual data can be categorised as part of a data processing workflow, and it can also be used to look for specific keywords in user-submitted content. Once you understand the regular expression syntax, you can automate practically any pattern-matching script using the built-in regular expression library re."
   ]
  },
  {
   "cell_type": "code",
   "execution_count": 1,
   "id": "82d5db28-26a9-410b-8b89-b096548f5bc7",
   "metadata": {
    "execution": {
     "iopub.execute_input": "2022-10-05T07:10:15.379215Z",
     "iopub.status.busy": "2022-10-05T07:10:15.378979Z",
     "iopub.status.idle": "2022-10-05T07:10:15.408082Z",
     "shell.execute_reply": "2022-10-05T07:10:15.407522Z",
     "shell.execute_reply.started": "2022-10-05T07:10:15.379153Z"
    },
    "tags": []
   },
   "outputs": [],
   "source": [
    "import re\n",
    "try:\n",
    "    import phonenumbers\n",
    "except ModuleNotFoundError:\n",
    "    ! pip install phonenumbers\n",
    "    import phonenumbers"
   ]
  },
  {
   "cell_type": "markdown",
   "id": "e2fe4fd8-55b6-4b6d-a4cc-f9db84228722",
   "metadata": {},
   "source": [
    "### Variables"
   ]
  },
  {
   "cell_type": "code",
   "execution_count": 2,
   "id": "74416e85-63af-4c14-96a4-8c560ff6af68",
   "metadata": {
    "execution": {
     "iopub.execute_input": "2022-10-05T07:10:15.409467Z",
     "iopub.status.busy": "2022-10-05T07:10:15.409243Z",
     "iopub.status.idle": "2022-10-05T07:10:15.538817Z",
     "shell.execute_reply": "2022-10-05T07:10:15.537985Z",
     "shell.execute_reply.started": "2022-10-05T07:10:15.409436Z"
    },
    "tags": []
   },
   "outputs": [],
   "source": [
    "email_regex = '''^[a-z0-9]+[\\._]?[a-z0-9]+[@]\\w+[.]\\w{2,3}$'''   # Pattern to match Email Address\n",
    "\n",
    "phone_number_regex = ''''''   # Pattern to match Phone Number\n",
    "\n",
    "input_email = ''   # Get the email from the user\n",
    "\n",
    "input_phone_number = ''   # Get the phone number from the user"
   ]
  },
  {
   "cell_type": "markdown",
   "id": "669ee076-d7f0-470a-a1c9-a5153c922b1f",
   "metadata": {},
   "source": [
    "## Model"
   ]
  },
  {
   "cell_type": "code",
   "execution_count": 3,
   "id": "bf435bea-d5db-456d-a03c-83dcf445701c",
   "metadata": {
    "execution": {
     "iopub.execute_input": "2022-10-05T07:10:15.540579Z",
     "iopub.status.busy": "2022-10-05T07:10:15.540343Z",
     "iopub.status.idle": "2022-10-05T07:10:15.660338Z",
     "shell.execute_reply": "2022-10-05T07:10:15.659744Z",
     "shell.execute_reply.started": "2022-10-05T07:10:15.540551Z"
    },
    "tags": []
   },
   "outputs": [],
   "source": [
    "def check_email(email):\n",
    "    if (re.fullmatch(email_regex, email)):\n",
    "        print('Vaild Email✅')\n",
    "    else:\n",
    "        print('Invaild Email❌')"
   ]
  },
  {
   "cell_type": "code",
   "execution_count": 4,
   "id": "2fa3fc23-cd7d-41da-9d4f-28da4ce51c39",
   "metadata": {
    "execution": {
     "iopub.execute_input": "2022-10-05T07:10:15.663533Z",
     "iopub.status.busy": "2022-10-05T07:10:15.663271Z",
     "iopub.status.idle": "2022-10-05T07:10:15.781860Z",
     "shell.execute_reply": "2022-10-05T07:10:15.781244Z",
     "shell.execute_reply.started": "2022-10-05T07:10:15.663490Z"
    },
    "tags": []
   },
   "outputs": [],
   "source": [
    "def check_phone_number(phone_number):\n",
    "    phone_number = phonenumbers.parse(phone_number)\n",
    "    possible = phonenumbers.is_valid_number(phone_number)\n",
    "    if (possible):\n",
    "        if (phonenumbers.is_possible_number(phone_number)):\n",
    "            print('Valid Phone Number✅')\n",
    "    else:\n",
    "        print('Invalid Phone Number❌')"
   ]
  },
  {
   "cell_type": "markdown",
   "id": "f7c76c1d-66b3-4f66-b660-3a56f590767d",
   "metadata": {},
   "source": [
    "## Output"
   ]
  },
  {
   "cell_type": "code",
   "execution_count": 5,
   "id": "fa50c11c-ec18-4baf-b0a3-e61fa8c5a9b2",
   "metadata": {
    "execution": {
     "iopub.execute_input": "2022-10-05T07:10:15.783106Z",
     "iopub.status.busy": "2022-10-05T07:10:15.782859Z",
     "iopub.status.idle": "2022-10-05T07:10:39.739341Z",
     "shell.execute_reply": "2022-10-05T07:10:39.738675Z",
     "shell.execute_reply.started": "2022-10-05T07:10:15.783078Z"
    },
    "tags": []
   },
   "outputs": [
    {
     "name": "stdin",
     "output_type": "stream",
     "text": [
      "Enter the Email-ID:  support@naas.ai\n",
      "Enter the Phone Number:  +918395950471\n"
     ]
    },
    {
     "name": "stdout",
     "output_type": "stream",
     "text": [
      "Vaild Email✅\n",
      "Valid Phone Number✅\n"
     ]
    }
   ],
   "source": [
    "input_email = input('Enter the Email-ID: ')\n",
    "input_phone_number = input('Enter the Phone Number: ')\n",
    "\n",
    "check_email(input_email)\n",
    "check_phone_number(input_phone_number)"
   ]
  },
  {
   "cell_type": "code",
   "execution_count": null,
   "id": "1a61eae0-9e33-470e-9dea-01bee931abae",
   "metadata": {},
   "outputs": [],
   "source": []
  }
 ],
 "metadata": {
  "kernelspec": {
   "display_name": "Python 3",
   "language": "python",
   "name": "python3"
  },
  "language_info": {
   "codemirror_mode": {
    "name": "ipython",
    "version": 3
   },
   "file_extension": ".py",
   "mimetype": "text/x-python",
   "name": "python",
   "nbconvert_exporter": "python",
   "pygments_lexer": "ipython3",
   "version": "3.9.6"
  }
 },
 "nbformat": 4,
 "nbformat_minor": 5
}
