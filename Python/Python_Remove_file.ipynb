{
 "cells": [
  {
   "cell_type": "markdown",
   "id": "18b456ed-e482-434e-a9e3-a67981e19d63",
   "metadata": {
    "papermill": {},
    "tags": []
   },
   "source": [
    "<img width=\"10%\" alt=\"Naas\" src=\"https://landen.imgix.net/jtci2pxwjczr/assets/5ice39g4.png?w=160\"/>"
   ]
  },
  {
   "cell_type": "markdown",
   "id": "1118bf38-fee4-4fac-a020-f4958a64c8aa",
   "metadata": {
    "papermill": {},
    "tags": []
   },
   "source": [
    "# Python - Remove file"
   ]
  },
  {
   "cell_type": "markdown",
   "id": "d51213ba-59eb-455a-b446-8d9f8f800d48",
   "metadata": {
    "papermill": {},
    "tags": []
   },
   "source": [
    "**Tags:** #python #os #remove #file #system #library"
   ]
  },
  {
   "cell_type": "markdown",
   "id": "8957e724-0940-46e0-af42-93d3b1afdceb",
   "metadata": {
    "papermill": {},
    "tags": []
   },
   "source": [
    "**Author:** [Florent Ravenel](http://linkedin.com/in/florent-ravenel)"
   ]
  },
  {
   "cell_type": "markdown",
   "id": "2c46f996-46e9-4155-ab5b-5f49fb5ff052",
   "metadata": {
    "papermill": {},
    "tags": []
   },
   "source": [
    "**Description:** This notebook will show how to remove file from system using os library."
   ]
  },
  {
   "cell_type": "markdown",
   "id": "fd9a440d-1ead-4226-8c45-c33fd1d350b2",
   "metadata": {
    "papermill": {},
    "tags": []
   },
   "source": [
    "**References:**\n- [os library documentation](https://docs.python.org/3/library/os.html)\n- [os.remove() documentation](https://docs.python.org/3/library/os.html#os.remove)"
   ]
  },
  {
   "cell_type": "markdown",
   "id": "e83de48c-d8b1-41e6-93b6-22ad6b6b9289",
   "metadata": {
    "papermill": {},
    "tags": []
   },
   "source": [
    "## Input"
   ]
  },
  {
   "cell_type": "markdown",
   "id": "556d4838-92f4-4436-a4fb-78f7e9a4fcb8",
   "metadata": {
    "papermill": {},
    "tags": []
   },
   "source": [
    "### Import libraries"
   ]
  },
  {
   "cell_type": "code",
   "execution_count": null,
   "id": "fff3c4e5-c9f1-4547-a6ed-c036d23c49ad",
   "metadata": {
    "papermill": {},
    "tags": []
   },
   "source": "import os",
   "outputs": []
  },
  {
   "cell_type": "markdown",
   "id": "018eae87-b326-4cf6-8288-19dd8be7d0d1",
   "metadata": {
    "papermill": {},
    "tags": []
   },
   "source": [
    "### Setup Variables\n- `file_name`: name of the file to be removed"
   ]
  },
  {
   "cell_type": "code",
   "execution_count": null,
   "id": "2dafee87-b207-4e8d-ae78-dd18f7234a57",
   "metadata": {
    "papermill": {},
    "tags": []
   },
   "source": "file_name = \"test.txt\"",
   "outputs": []
  },
  {
   "cell_type": "markdown",
   "id": "5af62796-5953-4d5e-b851-2a456e845bde",
   "metadata": {
    "papermill": {},
    "tags": []
   },
   "source": [
    "## Model"
   ]
  },
  {
   "cell_type": "markdown",
   "id": "4a98356e-40b6-46a4-ba71-f8d62f6d40a4",
   "metadata": {
    "papermill": {},
    "tags": []
   },
   "source": [
    "### Remove file"
   ]
  },
  {
   "cell_type": "markdown",
   "id": "a7625276-45cb-40b5-b3ae-53c9c8e8eedf",
   "metadata": {
    "papermill": {},
    "tags": []
   },
   "source": [
    "This function will remove the file from the system."
   ]
  },
  {
   "cell_type": "code",
   "execution_count": null,
   "id": "113cfdc7-56ab-4bca-8e3a-8cc69a9c22a7",
   "metadata": {
    "papermill": {},
    "tags": []
   },
   "source": "os.remove(file_name)",
   "outputs": []
  },
  {
   "cell_type": "markdown",
   "id": "343c4407-f24f-444f-8d7a-26e4e544ea7d",
   "metadata": {
    "papermill": {},
    "tags": []
   },
   "source": [
    "## Output"
   ]
  },
  {
   "cell_type": "markdown",
   "id": "25a7a516-e86e-419d-a591-d7054d9ee001",
   "metadata": {
    "papermill": {},
    "tags": []
   },
   "source": [
    "### Display result"
   ]
  },
  {
   "cell_type": "markdown",
   "id": "d1ba6eea-f9e0-4a0f-b7c2-5222e8914f17",
   "metadata": {
    "papermill": {},
    "tags": []
   },
   "source": [
    "The file has been removed from the system."
   ]
  }
 ],
 "metadata": {
  "kernelspec": {
   "display_name": "Python 3",
   "language": "python",
   "name": "python3"
  },
  "language_info": {
   "codemirror_mode": {
    "name": "ipython",
    "version": 3
   },
   "file_extension": ".py",
   "mimetype": "text/x-python",
   "name": "python",
   "nbconvert_exporter": "python",
   "pygments_lexer": "ipython3",
   "version": "3.9.6"
  },
  "widgets": {
   "application/vnd.jupyter.widget-state+json": {
    "state": {},
    "version_major": 2,
    "version_minor": 0
   }
  }
 },
 "nbformat": 4,
 "nbformat_minor": 5
}