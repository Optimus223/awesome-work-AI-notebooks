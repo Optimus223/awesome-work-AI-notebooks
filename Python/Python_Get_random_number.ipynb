{
 "cells": [
  {
   "cell_type": "markdown",
   "id": "a5fbb8e5-d63f-4f63-bee1-2e5280f7262a",
   "metadata": {
    "papermill": {},
    "tags": []
   },
   "source": [
    "<img width=\"10%\" alt=\"Naas\" src=\"https://landen.imgix.net/jtci2pxwjczr/assets/5ice39g4.png?w=160\"/>"
   ]
  },
  {
   "cell_type": "markdown",
   "id": "98fdb274-6466-485f-9a1a-934dee55beb0",
   "metadata": {
    "papermill": {},
    "tags": []
   },
   "source": [
    "# Python - Get random number using random\n",
    "<a href=\"https://app.naas.ai/user-redirect/naas/downloader?url=https://raw.githubusercontent.com/jupyter-naas/awesome-notebooks/master/Python/Python_Calculate_time_delta_between_two_dates.ipynb\" target=\"_parent\"><img src=\"https://naasai-public.s3.eu-west-3.amazonaws.com/open_in_naas.svg\"/></a><br><br><a href=\"https://github.com/jupyter-naas/awesome-notebooks/issues/new?assignees=&labels=&template=template-request.md&title=Tool+-+Action+of+the+notebook+\">Template request</a> | <a href=\"https://github.com/jupyter-naas/awesome-notebooks/issues/new?assignees=&labels=bug&template=bug_report.md&title=Python+-+Calculate+time+delta+between+two+dates:+Error+short+description\">Bug report</a> | <a href=\"https://app.naas.ai/user-redirect/naas/downloader?url=https://raw.githubusercontent.com/jupyter-naas/awesome-notebooks/master/Naas/Naas_Start_data_product.ipynb\" target=\"_parent\">Generate Data Product</a>"
   ]
  },
  {
   "cell_type": "markdown",
   "id": "3e1ffc38-bb7f-4dac-9718-fef375e83834",
   "metadata": {
    "papermill": {},
    "tags": []
   },
   "source": [
    "**Tags:** #python #number #generation #random"
   ]
  },
  {
   "cell_type": "markdown",
   "id": "a9b57526-e80f-4c25-88a6-802635224690",
   "metadata": {
    "papermill": {},
    "tags": []
   },
   "source": [
    "**Author:** [Benjamin Filly](https://www.linkedin.com/in/benjamin-filly-05427727a/)"
   ]
  },
  {
   "cell_type": "markdown",
   "id": "2e8b31cf-ccc0-4390-86cc-7a43e8afdbc5",
   "metadata": {
    "papermill": {},
    "tags": []
   },
   "source": [
    "**Description:** This notebook gives random numbers"
   ]
  },
  {
   "cell_type": "markdown",
   "id": "03650f27-2d09-415f-a998-351daee79942",
   "metadata": {
    "papermill": {},
    "tags": []
   },
   "source": [
    "**References:**\n",
    "- [Python Random](https://docs.python.org/3/library/random.html)"
   ]
  },
  {
   "cell_type": "markdown",
   "id": "cc8126bd-19d6-41fc-9f0b-5460b225217a",
   "metadata": {
    "papermill": {},
    "tags": []
   },
   "source": [
    "## Input"
   ]
  },
  {
   "cell_type": "markdown",
   "id": "5d76b038-0b21-4ee4-8480-55a36215215e",
   "metadata": {
    "papermill": {},
    "tags": []
   },
   "source": [
    "### Import libraries"
   ]
  },
  {
   "cell_type": "code",
   "execution_count": 1,
   "id": "e934ee81-3368-4f08-af2e-9f08d0221e96",
   "metadata": {
    "execution": {
     "iopub.execute_input": "2023-06-07T10:39:50.475071Z",
     "iopub.status.busy": "2023-06-07T10:39:50.474840Z",
     "iopub.status.idle": "2023-06-07T10:39:50.496805Z",
     "shell.execute_reply": "2023-06-07T10:39:50.494727Z",
     "shell.execute_reply.started": "2023-06-07T10:39:50.475002Z"
    },
    "papermill": {},
    "tags": []
   },
   "outputs": [],
   "source": [
    "import random"
   ]
  },
  {
   "cell_type": "markdown",
   "id": "e46c0b5e-8428-43df-9938-9e7df860d547",
   "metadata": {
    "papermill": {},
    "tags": []
   },
   "source": [
    "## Model"
   ]
  },
  {
   "cell_type": "markdown",
   "id": "73d11b3e-1c8f-40cb-af2b-3606979358ef",
   "metadata": {
    "papermill": {},
    "tags": []
   },
   "source": [
    "### Generating random numbers\n",
    "- `random_number` : gives a random number between 0 and 500 with a step of 100\n",
    "- `random_decimal_number`: gives a random decimal number between 0 and 1 only\n",
    "- `random_integer_number`: gives a random integrer number between 0 and 100"
   ]
  },
  {
   "cell_type": "code",
   "execution_count": 2,
   "id": "60794260-c478-4d84-a510-b6b19584d7a0",
   "metadata": {
    "execution": {
     "iopub.execute_input": "2023-06-07T10:39:50.498233Z",
     "iopub.status.busy": "2023-06-07T10:39:50.497972Z",
     "iopub.status.idle": "2023-06-07T10:39:50.653988Z",
     "shell.execute_reply": "2023-06-07T10:39:50.652964Z",
     "shell.execute_reply.started": "2023-06-07T10:39:50.498198Z"
    },
    "papermill": {},
    "tags": []
   },
   "outputs": [],
   "source": [
    "random_number = random.randrange(0,500,100)\n",
    "random_decimal_number = random.random()\n",
    "random_integer_number = random.randint(0, 100)"
   ]
  },
  {
   "cell_type": "markdown",
   "id": "80711f76-06e9-4bec-a96c-b0967048b06d",
   "metadata": {
    "papermill": {},
    "tags": []
   },
   "source": [
    "## Output"
   ]
  },
  {
   "cell_type": "markdown",
   "id": "06fff620-dc13-4061-a219-f90f075cee3a",
   "metadata": {
    "papermill": {},
    "tags": []
   },
   "source": [
    "### Display result"
   ]
  },
  {
   "cell_type": "code",
   "execution_count": 3,
   "id": "eb857f38-f044-495f-927d-bf8103b9e7a8",
   "metadata": {
    "execution": {
     "iopub.execute_input": "2023-06-07T10:39:50.655146Z",
     "iopub.status.busy": "2023-06-07T10:39:50.654920Z",
     "iopub.status.idle": "2023-06-07T10:39:50.768898Z",
     "shell.execute_reply": "2023-06-07T10:39:50.768126Z",
     "shell.execute_reply.started": "2023-06-07T10:39:50.655116Z"
    },
    "papermill": {},
    "tags": []
   },
   "outputs": [
    {
     "name": "stdout",
     "output_type": "stream",
     "text": [
      "The random decimal number generated is 0.3024404212672648\n",
      "The random integrer number generated is 69\n",
      "The random number generated is 200 with a step of 100\n"
     ]
    }
   ],
   "source": [
    "print(\"The random decimal number generated is\", random_decimal_number)\n",
    "print(\"The random integrer number generated is\", random_integer_number)\n",
    "print(\"The random number generated is\", random_number, \"with a step of\", 100)"
   ]
  },
  {
   "cell_type": "markdown",
   "id": "52bdb07e-28b9-44d8-aeda-3b899e14997d",
   "metadata": {
    "papermill": {},
    "tags": []
   },
   "source": [
    " "
   ]
  }
 ],
 "metadata": {
  "kernelspec": {
   "display_name": "Python 3",
   "language": "python",
   "name": "python3"
  },
  "language_info": {
   "codemirror_mode": {
    "name": "ipython",
    "version": 3
   },
   "file_extension": ".py",
   "mimetype": "text/x-python",
   "name": "python",
   "nbconvert_exporter": "python",
   "pygments_lexer": "ipython3",
   "version": "3.9.6"
  },
  "papermill": {
   "default_parameters": {},
   "environment_variables": {},
   "parameters": {},
   "version": "2.4.0"
  },
  "widgets": {
   "application/vnd.jupyter.widget-state+json": {
    "state": {},
    "version_major": 2,
    "version_minor": 0
   }
  }
 },
 "nbformat": 4,
 "nbformat_minor": 5
}
