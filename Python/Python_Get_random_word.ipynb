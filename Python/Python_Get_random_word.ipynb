{
 "cells": [
  {
   "cell_type": "markdown",
   "id": "naas-logo",
   "metadata": {
    "papermill": {},
    "tags": [
     "naas"
    ]
   },
   "source": [
    "<img width=\"10%\" alt=\"Naas\" src=\"https://landen.imgix.net/jtci2pxwjczr/assets/5ice39g4.png?w=160\"/>"
   ]
  },
  {
   "cell_type": "markdown",
   "id": "db17b79b",
   "metadata": {
    "papermill": {},
    "tags": []
   },
   "source": [
    "# Python - Get a random word\n",
    "<a href=\"https://app.naas.ai/user-redirect/naas/downloader?url=https://raw.githubusercontent.com/jupyter-naas/awesome-notebooks/master/Python/Python_Create_dict_from_lists.ipynb\" target=\"_parent\"><img src=\"https://naasai-public.s3.eu-west-3.amazonaws.com/Open_in_Naas_Lab.svg\"/></a><br><br><a href=\"https://github.com/jupyter-naas/awesome-notebooks/issues/new?assignees=&labels=&template=template-request.md&title=Tool+-+Action+of+the+notebook+\">Template request</a> | <a href=\"https://github.com/jupyter-naas/awesome-notebooks/issues/new?assignees=&labels=bug&template=bug_report.md&title=Python+-+Create+dict+from+lists:+Error+short+description\">Bug report</a> | <a href=\"https://app.naas.ai/user-redirect/naas/downloader?url=https://raw.githubusercontent.com/jupyter-naas/awesome-notebooks/master/Naas/Naas_Start_data_product.ipynb\" target=\"_parent\">Generate Data Product</a>"
   ]
  },
  {
   "cell_type": "markdown",
   "id": "13800319",
   "metadata": {
    "papermill": {},
    "tags": []
   },
   "source": [
    "**Tags:** #python #word #random #snippet "
   ]
  },
  {
   "cell_type": "markdown",
   "id": "8761af40",
   "metadata": {
    "papermill": {},
    "tags": []
   },
   "source": [
    "**Author:** [Benjamin Filly](https://www.linkedin.com/in/benjamin-filly-05427727a/)"
   ]
  },
  {
   "cell_type": "markdown",
   "id": "naas-description",
   "metadata": {
    "papermill": {},
    "tags": [
     "description"
    ]
   },
   "source": [
    "**Description:** This notebook show how to get a random word "
   ]
  },
  {
   "cell_type": "markdown",
   "id": "d6ed8917",
   "metadata": {
    "papermill": {},
    "tags": []
   },
   "source": [
    "## Input"
   ]
  },
  {
   "cell_type": "markdown",
   "id": "d63e9eee-5110-46df-abda-c201e97df162",
   "metadata": {},
   "source": [
    "### Import libraries"
   ]
  },
  {
   "cell_type": "code",
   "execution_count": 1,
   "id": "a696b76d-2b9c-4560-bfff-5da0d8d21a24",
   "metadata": {
    "execution": {
     "iopub.execute_input": "2023-06-19T09:37:30.630551Z",
     "iopub.status.busy": "2023-06-19T09:37:30.630150Z",
     "iopub.status.idle": "2023-06-19T09:37:32.325797Z",
     "shell.execute_reply": "2023-06-19T09:37:32.325200Z",
     "shell.execute_reply.started": "2023-06-19T09:37:30.630481Z"
    },
    "tags": []
   },
   "outputs": [],
   "source": [
    "import random\n",
    "from nltk.corpus import wordnet"
   ]
  },
  {
   "cell_type": "markdown",
   "id": "00c6f215-35d1-4ff4-b672-624d0a7cb517",
   "metadata": {},
   "source": [
    "### Database installation"
   ]
  },
  {
   "cell_type": "markdown",
   "id": "741ac535-8a1b-4f13-b60f-6e1cce673d03",
   "metadata": {},
   "source": [
    "This line of code installs a database, for naas users it will be on `/home/ftp/`."
   ]
  },
  {
   "cell_type": "code",
   "execution_count": 2,
   "id": "f1f046f1-dd5f-4ca6-a85e-a779f2053959",
   "metadata": {
    "execution": {
     "iopub.execute_input": "2023-06-19T09:37:32.326969Z",
     "iopub.status.busy": "2023-06-19T09:37:32.326736Z",
     "iopub.status.idle": "2023-06-19T09:37:32.396909Z",
     "shell.execute_reply": "2023-06-19T09:37:32.396335Z",
     "shell.execute_reply.started": "2023-06-19T09:37:32.326940Z"
    },
    "tags": []
   },
   "outputs": [
    {
     "name": "stderr",
     "output_type": "stream",
     "text": [
      "[nltk_data] Downloading package wordnet to /home/ftp/nltk_data...\n",
      "[nltk_data]   Package wordnet is already up-to-date!\n"
     ]
    },
    {
     "data": {
      "text/plain": [
       "True"
      ]
     },
     "execution_count": 2,
     "metadata": {},
     "output_type": "execute_result"
    }
   ],
   "source": [
    "import nltk\n",
    "nltk.download('wordnet')"
   ]
  },
  {
   "cell_type": "markdown",
   "id": "fb1b9009",
   "metadata": {
    "papermill": {},
    "tags": []
   },
   "source": [
    "### Setup variable"
   ]
  },
  {
   "cell_type": "markdown",
   "id": "f8a2ed6a-f302-4da7-a987-187c448d14c2",
   "metadata": {},
   "source": [
    "- `length`:  Length of the word you want to generate, if `length` is equal to 0 then there are no limits."
   ]
  },
  {
   "cell_type": "code",
   "execution_count": 3,
   "id": "aefef37f",
   "metadata": {
    "execution": {
     "iopub.execute_input": "2023-06-19T09:37:32.398167Z",
     "iopub.status.busy": "2023-06-19T09:37:32.397935Z",
     "iopub.status.idle": "2023-06-19T09:37:32.424653Z",
     "shell.execute_reply": "2023-06-19T09:37:32.424130Z",
     "shell.execute_reply.started": "2023-06-19T09:37:32.398137Z"
    },
    "papermill": {},
    "tags": []
   },
   "outputs": [],
   "source": [
    "length = 0"
   ]
  },
  {
   "cell_type": "markdown",
   "id": "30f728e7-f3c8-40a9-aeb9-f6551113462c",
   "metadata": {
    "papermill": {},
    "tags": []
   },
   "source": [
    "## Model"
   ]
  },
  {
   "cell_type": "markdown",
   "id": "07164b8b",
   "metadata": {
    "papermill": {},
    "tags": []
   },
   "source": [
    "### Get a random word"
   ]
  },
  {
   "cell_type": "code",
   "execution_count": 4,
   "id": "c5d60211-9e68-4b8e-b51a-4d455a48d441",
   "metadata": {
    "execution": {
     "iopub.execute_input": "2023-06-19T09:37:32.426819Z",
     "iopub.status.busy": "2023-06-19T09:37:32.426650Z",
     "iopub.status.idle": "2023-06-19T09:37:49.053494Z",
     "shell.execute_reply": "2023-06-19T09:37:49.052866Z",
     "shell.execute_reply.started": "2023-06-19T09:37:32.426799Z"
    },
    "papermill": {},
    "tags": []
   },
   "outputs": [],
   "source": [
    "def get_random_word(length):\n",
    "    synsets = list(wordnet.all_synsets())\n",
    "    if length <= 0:\n",
    "        filtered_words = [synset.lemmas()[0].name() for synset in synsets]\n",
    "    else:\n",
    "        filtered_words = [synset.lemmas()[0].name() for synset in synsets if len(synset.lemmas()[0].name()) == length]\n",
    "\n",
    "    if len(filtered_words) == 0:\n",
    "        return None\n",
    "\n",
    "    random_word = random.choice(filtered_words)\n",
    "    return random_word\n",
    "\n",
    "random_word = get_random_word(length)"
   ]
  },
  {
   "cell_type": "markdown",
   "id": "02d1fc4b",
   "metadata": {
    "papermill": {},
    "tags": []
   },
   "source": [
    "## Output"
   ]
  },
  {
   "cell_type": "markdown",
   "id": "6fffa01c-1f9b-4923-93e1-ee793c3a31d9",
   "metadata": {
    "papermill": {},
    "tags": []
   },
   "source": [
    "### Display result"
   ]
  },
  {
   "cell_type": "code",
   "execution_count": 5,
   "id": "8a54e670",
   "metadata": {
    "execution": {
     "iopub.execute_input": "2023-06-19T09:37:49.054801Z",
     "iopub.status.busy": "2023-06-19T09:37:49.054559Z",
     "iopub.status.idle": "2023-06-19T09:37:49.058790Z",
     "shell.execute_reply": "2023-06-19T09:37:49.058190Z",
     "shell.execute_reply.started": "2023-06-19T09:37:49.054770Z"
    },
    "papermill": {},
    "tags": []
   },
   "outputs": [
    {
     "name": "stdout",
     "output_type": "stream",
     "text": [
      "isogram\n"
     ]
    }
   ],
   "source": [
    "if random_word:\n",
    "    print(random_word)\n",
    "else:\n",
    "    print(f\"No word of length {length} found.\")"
   ]
  }
 ],
 "metadata": {
  "kernelspec": {
   "display_name": "Python 3",
   "language": "python",
   "name": "python3"
  },
  "language_info": {
   "codemirror_mode": {
    "name": "ipython",
    "version": 3
   },
   "file_extension": ".py",
   "mimetype": "text/x-python",
   "name": "python",
   "nbconvert_exporter": "python",
   "pygments_lexer": "ipython3",
   "version": "3.9.6"
  },
  "naas": {
   "notebook_id": "668a2358-3d2f-49bc-83ae-52c15abc3c7c",
   "notebook_path": "Python/Python_Create_dict_from_lists.ipynb"
  },
  "papermill": {
   "default_parameters": {},
   "environment_variables": {},
   "parameters": {},
   "version": "2.3.3"
  }
 },
 "nbformat": 4,
 "nbformat_minor": 5
}
