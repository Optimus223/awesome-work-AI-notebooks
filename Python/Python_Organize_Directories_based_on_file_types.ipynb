{
 "cells": [
  {
   "cell_type": "markdown",
   "id": "latin-packing",
   "metadata": {
    "execution": {
     "iopub.execute_input": "2021-02-23T14:22:16.610471Z",
     "iopub.status.busy": "2021-02-23T14:22:16.610129Z",
     "iopub.status.idle": "2021-02-23T14:22:16.627784Z",
     "shell.execute_reply": "2021-02-23T14:22:16.626866Z",
     "shell.execute_reply.started": "2021-02-23T14:22:16.610384Z"
    },
    "papermill": {},
    "tags": []
   },
   "source": [
    "<img width=\"10%\" alt=\"Naas\" src=\"https://landen.imgix.net/jtci2pxwjczr/assets/5ice39g4.png?w=160\"/>"
   ]
  },
  {
   "cell_type": "markdown",
   "id": "compressed-wilson",
   "metadata": {
    "papermill": {},
    "tags": []
   },
   "source": [
    "# Python - Organizes Files Based on files extensions\n",
    "<a href=\"https://app.naas.ai/user-redirect/naas/downloader?url=https://raw.githubusercontent.com/jupyter-naas/awesome-notebooks/master/template.ipynb\" target=\"_parent\">\n",
    "<img src=\"https://img.shields.io/badge/-Open%20in%20Naas-success?labelColor=000000&logo=data:image/svg+xml;base64,PD94bWwgdmVyc2lvbj0iMS4wIiBlbmNvZGluZz0iVVRGLTgiPz4KPHN2ZyB3aWR0aD0iMTAyNHB4IiBoZWlnaHQ9IjEwMjRweCIgdmlld0JveD0iMCAwIDEwMjQgMTAyNCIgeG1sbnM9Imh0dHA6Ly93d3cudzMub3JnLzIwMDAvc3ZnIiB4bWxuczp4bGluaz0iaHR0cDovL3d3dy53My5vcmcvMTk5OS94bGluayIgdmVyc2lvbj0iMS4xIj4KIDwhLS0gR2VuZXJhdGVkIGJ5IFBpeGVsbWF0b3IgUHJvIDIuMC41IC0tPgogPGRlZnM+CiAgPHRleHQgaWQ9InN0cmluZyIgdHJhbnNmb3JtPSJtYXRyaXgoMS4wIDAuMCAwLjAgMS4wIDIyOC4wIDU0LjUpIiBmb250LWZhbWlseT0iQ29tZm9ydGFhLVJlZ3VsYXIsIENvbWZvcnRhYSIgZm9udC1zaXplPSI4MDAiIHRleHQtZGVjb3JhdGlvbj0ibm9uZSIgZmlsbD0iI2ZmZmZmZiIgeD0iMS4xOTk5OTk5OTk5OTk5ODg2IiB5PSI3MDUuMCI+bjwvdGV4dD4KIDwvZGVmcz4KIDx1c2UgaWQ9Im4iIHhsaW5rOmhyZWY9IiNzdHJpbmciLz4KPC9zdmc+Cg==\"/>\n",
    "</a><br><br><a href=\"https://github.com/jupyter-naas/awesome-notebooks/issues/new?assignees=&labels=&template=template-request.md&title=Tool+-+Action+of+the+notebook+\">💡 Template request</a> | <a href=\"https://github.com/jupyter-naas/awesome-notebooks/issues/new?assignees=&labels=&template=bug_report.md&title=[ERROR]+Tool+/+Folder+Action+of+the+notebook+\">🚨 Bug report</a>"
   ]
  },
  {
   "cell_type": "markdown",
   "id": "religious-programmer",
   "metadata": {},
   "source": [
    "**Tags:** #organize #files #directories"
   ]
  },
  {
   "cell_type": "markdown",
   "id": "1fe9f56e-561c-4f52-aef8-b861c9462107",
   "metadata": {},
   "source": [
    "**Author:** [Ahmed Mousa](https://www.linkedin.com/in/akmousa/)"
   ]
  },
  {
   "cell_type": "markdown",
   "id": "31ea7cdb-e10d-43fc-b026-f69249a59736",
   "metadata": {},
   "source": [
    "**Description:** This notebook organizes your files based on their extensions to directories for data scientists"
   ]
  },
  {
   "cell_type": "markdown",
   "id": "distinguished-truth",
   "metadata": {
    "papermill": {},
    "tags": []
   },
   "source": [
    "## Input"
   ]
  },
  {
   "cell_type": "markdown",
   "id": "numeric-mediterranean",
   "metadata": {},
   "source": [
    "### Import libraries"
   ]
  },
  {
   "cell_type": "code",
   "execution_count": 16,
   "id": "potential-surfing",
   "metadata": {
    "execution": {
     "iopub.execute_input": "2022-11-11T14:53:39.575946Z",
     "iopub.status.busy": "2022-11-11T14:53:39.575663Z",
     "iopub.status.idle": "2022-11-11T14:53:39.582271Z",
     "shell.execute_reply": "2022-11-11T14:53:39.581681Z",
     "shell.execute_reply.started": "2022-11-11T14:53:39.575916Z"
    },
    "tags": []
   },
   "outputs": [],
   "source": [
    "from shutil import move\n",
    "from os import path\n",
    "import os\n",
    "import glob\n",
    "import pathlib"
   ]
  },
  {
   "cell_type": "markdown",
   "id": "aggressive-trustee",
   "metadata": {},
   "source": [
    "### Variables"
   ]
  },
  {
   "cell_type": "code",
   "execution_count": 2,
   "id": "690d5785-3ff6-403f-aeb3-e6aebb0735eb",
   "metadata": {
    "execution": {
     "iopub.execute_input": "2022-11-11T14:43:58.193874Z",
     "iopub.status.busy": "2022-11-11T14:43:58.193622Z",
     "iopub.status.idle": "2022-11-11T14:43:58.196972Z",
     "shell.execute_reply": "2022-11-11T14:43:58.196363Z",
     "shell.execute_reply.started": "2022-11-11T14:43:58.193850Z"
    },
    "papermill": {},
    "tags": []
   },
   "outputs": [],
   "source": [
    "files_path = '' #Put the path to where your unorganized files are # Leave it as it's if your files are in the same folder with this notebook"
   ]
  },
  {
   "cell_type": "code",
   "execution_count": 17,
   "id": "2842f0a1-8bfb-4dd0-9a66-6c476c67501d",
   "metadata": {
    "execution": {
     "iopub.execute_input": "2022-11-11T14:53:45.207695Z",
     "iopub.status.busy": "2022-11-11T14:53:45.207474Z",
     "iopub.status.idle": "2022-11-11T14:53:45.210306Z",
     "shell.execute_reply": "2022-11-11T14:53:45.209708Z",
     "shell.execute_reply.started": "2022-11-11T14:53:45.207673Z"
    },
    "papermill": {},
    "tags": []
   },
   "outputs": [],
   "source": [
    "exclude_files = [] # Add files to exclude from moving as you wish here in this list\n",
    "exclude_files.append(\"Python_Organize_Directories_based_on_file_types.ipynb\")"
   ]
  },
  {
   "cell_type": "code",
   "execution_count": 18,
   "id": "continuous-melbourne",
   "metadata": {
    "execution": {
     "iopub.execute_input": "2022-11-11T14:53:45.352385Z",
     "iopub.status.busy": "2022-11-11T14:53:45.352171Z",
     "iopub.status.idle": "2022-11-11T14:53:45.357166Z",
     "shell.execute_reply": "2022-11-11T14:53:45.356522Z",
     "shell.execute_reply.started": "2022-11-11T14:53:45.352363Z"
    },
    "tags": []
   },
   "outputs": [],
   "source": [
    "folders_extension = {\n",
    "    'Programming Files': ['ipynb', 'py', 'java', 'cs', 'js', 'vsix', 'jar', 'cc', 'ccc', 'html', 'xml', 'kt'],\n",
    "    'Data': {'Structured Data':['txt', 'pdf', 'doc', 'pdf', 'ppt', 'pps', 'docx', 'pptx','csv','xlsx','xlsm','xlsb','xltx',\n",
    "                                  'xltm','xls','xlt','xls','xml','xla','xlam','xlw','xlr'],\n",
    "    'Unstructured Data':{'Images':['jpeg', 'jpg', 'png', 'gif', 'tiff', 'raw', 'webp', 'jfif', 'ico', 'psd', 'svg', 'ai'],\n",
    "                          'Videos':['mp4', 'webm', 'mkv', 'MPG', 'MP2', 'MPEG', 'MPE', 'MPV', 'OGG', 'M4P', 'M4V', 'WMV', 'MOV', 'QT', 'FLV', 'SWF', 'AVCHD', 'avi', 'mpg', 'mpe', 'mpeg', 'asf', 'wmv', 'mov', 'qt', 'rm'],\n",
    "                          'Audio': ['mp3', 'wav', 'wma', 'mpa', 'ram', 'ra', 'aac', 'aif', 'm4a', 'tsa']},\n",
    "    'Compressed': ['zip', 'rar', 'arj', 'gz', 'sit', 'sitx', 'sea', 'ace', 'bz2', '7z']\n",
    "            }\n",
    "}"
   ]
  },
  {
   "cell_type": "markdown",
   "id": "registered-showcase",
   "metadata": {},
   "source": [
    "## Model"
   ]
  },
  {
   "cell_type": "code",
   "execution_count": 19,
   "id": "97b4d342-c57b-4137-b86a-5f8119ac28d6",
   "metadata": {
    "execution": {
     "iopub.execute_input": "2022-11-11T14:53:46.215396Z",
     "iopub.status.busy": "2022-11-11T14:53:46.215127Z",
     "iopub.status.idle": "2022-11-11T14:53:46.218342Z",
     "shell.execute_reply": "2022-11-11T14:53:46.217732Z",
     "shell.execute_reply.started": "2022-11-11T14:53:46.215369Z"
    },
    "papermill": {},
    "tags": []
   },
   "outputs": [],
   "source": [
    "def create_folder(folder_name):\n",
    "    if not os.path.exists(folder_name):\n",
    "        os.makedirs(folder_name)"
   ]
  },
  {
   "cell_type": "code",
   "execution_count": 23,
   "id": "5ce440f4-f949-43e4-8d9d-edd7c476459a",
   "metadata": {
    "execution": {
     "iopub.execute_input": "2022-11-11T14:54:45.901947Z",
     "iopub.status.busy": "2022-11-11T14:54:45.901597Z",
     "iopub.status.idle": "2022-11-11T14:54:45.905180Z",
     "shell.execute_reply": "2022-11-11T14:54:45.904576Z",
     "shell.execute_reply.started": "2022-11-11T14:54:45.901914Z"
    },
    "papermill": {},
    "tags": []
   },
   "outputs": [],
   "source": [
    "def move_file(file_path,desired_folder_path):\n",
    "        if not file_path in exclude_files:\n",
    "            create_folder(desired_folder_path)\n",
    "            move(file_path,desired_folder_path)\n",
    "            print(f\"Moved file: {file_path}, to {desired_folder_path}\")"
   ]
  },
  {
   "cell_type": "code",
   "execution_count": 24,
   "id": "crude-louisville",
   "metadata": {
    "execution": {
     "iopub.execute_input": "2022-11-11T14:54:47.358355Z",
     "iopub.status.busy": "2022-11-11T14:54:47.358132Z",
     "iopub.status.idle": "2022-11-11T14:54:47.367013Z",
     "shell.execute_reply": "2022-11-11T14:54:47.366425Z",
     "shell.execute_reply.started": "2022-11-11T14:54:47.358332Z"
    },
    "papermill": {},
    "tags": []
   },
   "outputs": [],
   "source": [
    "def organize_files():\n",
    "    for file in glob.glob(files_path+\"*\"):\n",
    "        if os.path.isdir(file):\n",
    "            continue\n",
    "        file_name_path = file\n",
    "        file_extiension = pathlib.Path(file).suffix.replace('.',\"\")\n",
    "        for folder in folders_extension.keys():\n",
    "            if isinstance(folders_extension[folder],list):\n",
    "                if file_extiension in folders_extension[folder]:\n",
    "                    target_folder_path = os.path.join(files_path,folder)\n",
    "                    move_file(file,target_folder_path)\n",
    "            else:\n",
    "                if isinstance(folders_extension[folder],list):\n",
    "                    for sub_folder in folders_extension[folder]:\n",
    "                        if file_extiension in folders_extension[folder][sub_folder]:\n",
    "                            target_folder_path = os.path.join(files_path,folder,sub_folder)\n",
    "                            move_file(file,target_folder_path)\n",
    "                else:\n",
    "                    for sub_folder in folders_extension[folder]:\n",
    "                        if isinstance(folders_extension[folder][sub_folder],list):\n",
    "                                if file_extiension in folders_extension[folder][sub_folder]:\n",
    "                                    target_folder_path = os.path.join(files_path,folder,sub_folder)\n",
    "                                    move_file(file,target_folder_path)\n",
    "                        else:\n",
    "                            for ssub_folder in folders_extension[folder][sub_folder]:\n",
    "                                if file_extiension in folders_extension[folder][sub_folder][ssub_folder]:\n",
    "                                    target_folder_path = os.path.join(files_path,folder,sub_folder,ssub_folder)\n",
    "                                    move_file(file,target_folder_path)\n",
    "                        \n",
    "                "
   ]
  },
  {
   "cell_type": "markdown",
   "id": "lonely-pacific",
   "metadata": {
    "execution": {
     "iopub.execute_input": "2021-07-02T23:32:10.789097Z",
     "iopub.status.busy": "2021-07-02T23:32:10.788829Z",
     "iopub.status.idle": "2021-07-02T23:32:10.796900Z",
     "shell.execute_reply": "2021-07-02T23:32:10.796358Z",
     "shell.execute_reply.started": "2021-07-02T23:32:10.789033Z"
    }
   },
   "source": [
    "## Output"
   ]
  },
  {
   "cell_type": "code",
   "execution_count": 25,
   "id": "9c4e3b7b-6440-4844-8054-265f1aec65eb",
   "metadata": {
    "execution": {
     "iopub.execute_input": "2022-11-11T14:54:51.260251Z",
     "iopub.status.busy": "2022-11-11T14:54:51.259963Z",
     "iopub.status.idle": "2022-11-11T14:54:51.461689Z",
     "shell.execute_reply": "2022-11-11T14:54:51.461028Z",
     "shell.execute_reply.started": "2022-11-11T14:54:51.260210Z"
    },
    "tags": []
   },
   "outputs": [
    {
     "name": "stdout",
     "output_type": "stream",
     "text": [
      "Moved file: Python_Download_Image_from_URL.ipynb, to Programming Files\n",
      "Moved file: Python_Looping_Over_Dataframe.ipynb, to Programming Files\n",
      "Moved file: Python_Rename_file.ipynb, to Programming Files\n",
      "Moved file: Python_Consolidate_Excel_files.ipynb, to Programming Files\n",
      "Moved file: Python_Get_Word_Definition_and_Translation.ipynb, to Programming Files\n",
      "Moved file: Python_Get_all_files_from_directory.ipynb, to Programming Files\n",
      "Moved file: Python_Create_dataframe_from_lists.ipynb, to Programming Files\n",
      "Moved file: Python_Locate_Addresses.ipynb, to Programming Files\n",
      "Moved file: Python_Create_dict_from_lists.ipynb, to Programming Files\n",
      "Moved file: Python_Match_pattern_with_regular_expressions.ipynb, to Programming Files\n",
      "Moved file: Python_Copy_files_and_subdir_from_directory_to_another_directory.ipynb.ipynb, to Programming Files\n",
      "Moved file: Python_Locate_Coordinates.ipynb, to Programming Files\n",
      "Moved file: Python_Using_datetime_library.ipynb, to Programming Files\n",
      "Moved file: Python_Download_PDF_from_URL.ipynb, to Programming Files\n",
      "Moved file: Python_Convert_CSV_to_Excel.ipynb, to Programming Files\n",
      "Moved file: Python_Find_Phone_Number_in_string.ipynb, to Programming Files\n"
     ]
    }
   ],
   "source": [
    "organize_files()"
   ]
  }
 ],
 "metadata": {
  "kernelspec": {
   "display_name": "Python 3",
   "language": "python",
   "name": "python3"
  },
  "language_info": {
   "codemirror_mode": {
    "name": "ipython",
    "version": 3
   },
   "file_extension": ".py",
   "mimetype": "text/x-python",
   "name": "python",
   "nbconvert_exporter": "python",
   "pygments_lexer": "ipython3",
   "version": "3.9.6"
  },
  "papermill": {
   "default_parameters": {},
   "environment_variables": {},
   "parameters": {},
   "version": "2.3.3"
  },
  "widgets": {
   "application/vnd.jupyter.widget-state+json": {
    "state": {},
    "version_major": 2,
    "version_minor": 0
   }
  }
 },
 "nbformat": 4,
 "nbformat_minor": 5
}
