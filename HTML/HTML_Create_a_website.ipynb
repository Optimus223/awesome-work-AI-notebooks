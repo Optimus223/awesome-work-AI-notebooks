{
 "cells": [
  {
   "cell_type": "markdown",
   "id": "2f44e009-2c90-4ce2-a968-b8acb84e4d85",
   "metadata": {},
   "source": [
    "# HTML - Create a website"
   ]
  },
  {
   "cell_type": "markdown",
   "id": "50557ec6-ae10-4edc-99e3-3acc164992a7",
   "metadata": {
    "execution": {
     "iopub.execute_input": "2021-10-03T17:43:35.926525Z",
     "iopub.status.busy": "2021-10-03T17:43:35.926293Z",
     "iopub.status.idle": "2021-10-03T17:43:35.935218Z",
     "shell.execute_reply": "2021-10-03T17:43:35.934488Z",
     "shell.execute_reply.started": "2021-10-03T17:43:35.926503Z"
    }
   },
   "source": [
    "The objective of this notebook is to create an end-to-end website in 5min. "
   ]
  },
  {
   "cell_type": "markdown",
   "id": "b1e1fc5a-2663-4e62-aac8-ac13cc0e3ba8",
   "metadata": {
    "execution": {
     "iopub.execute_input": "2021-10-03T17:46:57.110814Z",
     "iopub.status.busy": "2021-10-03T17:46:57.110544Z",
     "iopub.status.idle": "2021-10-03T17:46:57.125223Z",
     "shell.execute_reply": "2021-10-03T17:46:57.124280Z",
     "shell.execute_reply.started": "2021-10-03T17:46:57.110739Z"
    }
   },
   "source": [
    "**Tags:** #html #css #website #page #landing #custom"
   ]
  },
  {
   "cell_type": "markdown",
   "id": "03e29d40-0d41-4a0b-88b8-230047d849df",
   "metadata": {},
   "source": [
    "## Input "
   ]
  },
  {
   "cell_type": "code",
   "execution_count": 1,
   "id": "69f76d15-8d14-4d14-8b8d-c1b707363b71",
   "metadata": {
    "execution": {
     "iopub.execute_input": "2021-10-03T17:48:03.736045Z",
     "iopub.status.busy": "2021-10-03T17:48:03.735610Z",
     "iopub.status.idle": "2021-10-03T17:48:03.917828Z",
     "shell.execute_reply": "2021-10-03T17:48:03.917126Z",
     "shell.execute_reply.started": "2021-10-03T17:48:03.735973Z"
    }
   },
   "outputs": [
    {
     "name": "stdout",
     "output_type": "stream",
     "text": [
      "<!doctype html>\n",
      "<html>\n",
      "<head>\n",
      "    <title>Example Domain</title>\n",
      "\n",
      "    <meta charset=\"utf-8\" />\n",
      "    <meta http-equiv=\"Content-type\" content=\"text/html; charset=utf-8\" />\n",
      "    <meta name=\"viewport\" content=\"width=device-width, initial-scale=1\" />\n",
      "    <style type=\"text/css\">\n",
      "    body {\n",
      "        background-color: #f0f0f2;\n",
      "        margin: 0;\n",
      "        padding: 0;\n",
      "        font-family: -apple-system, system-ui, BlinkMacSystemFont, \"Segoe UI\", \"Open Sans\", \"Helvetica Neue\", Helvetica, Arial, sans-serif;\n",
      "        \n",
      "    }\n",
      "    div {\n",
      "        width: 600px;\n",
      "        margin: 5em auto;\n",
      "        padding: 2em;\n",
      "        background-color: #fdfdff;\n",
      "        border-radius: 0.5em;\n",
      "        box-shadow: 2px 3px 7px 2px rgba(0,0,0,0.02);\n",
      "    }\n",
      "    a:link, a:visited {\n",
      "        color: #38488f;\n",
      "        text-decoration: none;\n",
      "    }\n",
      "    @media (max-width: 700px) {\n",
      "        div {\n",
      "            margin: 0 auto;\n",
      "            width: auto;\n",
      "        }\n",
      "    }\n",
      "    </style>    \n",
      "</head>\n",
      "\n",
      "<body>\n",
      "<div>\n",
      "    <h1>Example Domain</h1>\n",
      "    <p>This domain is for use in illustrative examples in documents. You may use this\n",
      "    domain in literature without prior coordination or asking for permission.</p>\n",
      "    <p><a href=\"https://www.iana.org/domains/example\">More information...</a></p>\n",
      "</div>\n",
      "</body>\n",
      "</html>\n",
      "\n"
     ]
    }
   ],
   "source": [
    "from urllib.request import urlopen\n",
    "html = urlopen(\"http://www.example.com/\").read().decode('utf-8')\n",
    "print(html)"
   ]
  },
  {
   "cell_type": "markdown",
   "id": "650568e1-999b-4678-9e89-771efdfc7aca",
   "metadata": {},
   "source": [
    "# Model "
   ]
  },
  {
   "cell_type": "markdown",
   "id": "e3902500-3206-4874-9895-44f737f3d0b3",
   "metadata": {},
   "source": [
    "### Save file on your file system\n",
    "Click right to open + edit the file downloaded "
   ]
  },
  {
   "cell_type": "code",
   "execution_count": 2,
   "id": "16cc93e3-951f-4fb5-a839-276575ae540c",
   "metadata": {
    "execution": {
     "iopub.execute_input": "2021-10-03T17:48:03.919266Z",
     "iopub.status.busy": "2021-10-03T17:48:03.919030Z",
     "iopub.status.idle": "2021-10-03T17:48:03.943671Z",
     "shell.execute_reply": "2021-10-03T17:48:03.942922Z",
     "shell.execute_reply.started": "2021-10-03T17:48:03.919235Z"
    },
    "tags": []
   },
   "outputs": [],
   "source": [
    "html_file = open(\"site.html\",\"w\")\n",
    "html_file.write(html)\n",
    "html_file.close()"
   ]
  },
  {
   "cell_type": "markdown",
   "id": "e6599336-eba8-4653-92e5-85b437736d57",
   "metadata": {},
   "source": [
    "### Learn about HTML with this Cheat Sheet"
   ]
  },
  {
   "cell_type": "code",
   "execution_count": 3,
   "id": "ce2debd6-3957-4c26-8f59-2310ab8b274c",
   "metadata": {
    "execution": {
     "iopub.execute_input": "2021-10-03T17:48:03.948351Z",
     "iopub.status.busy": "2021-10-03T17:48:03.944636Z",
     "iopub.status.idle": "2021-10-03T17:48:04.025439Z",
     "shell.execute_reply": "2021-10-03T17:48:04.024776Z",
     "shell.execute_reply.started": "2021-10-03T17:48:03.948316Z"
    },
    "tags": []
   },
   "outputs": [
    {
     "data": {
      "text/html": [
       "\n",
       "        <iframe\n",
       "            width=\"900\"\n",
       "            height=\"600\"\n",
       "            src=\"https://web.stanford.edu/group/csp/cs21/htmlcheatsheet.pdf\"\n",
       "            frameborder=\"0\"\n",
       "            allowfullscreen\n",
       "        ></iframe>\n",
       "        "
      ],
      "text/plain": [
       "<IPython.lib.display.IFrame at 0x7fda680c2910>"
      ]
     },
     "execution_count": 3,
     "metadata": {},
     "output_type": "execute_result"
    }
   ],
   "source": [
    "from IPython.display import IFrame\n",
    "IFrame(\"https://web.stanford.edu/group/csp/cs21/htmlcheatsheet.pdf\", width=900, height=600)"
   ]
  },
  {
   "cell_type": "markdown",
   "id": "1589edae-da80-44a8-8ccd-3143a8d1bd5f",
   "metadata": {
    "execution": {
     "iopub.execute_input": "2021-10-03T17:39:54.953462Z",
     "iopub.status.busy": "2021-10-03T17:39:54.953062Z",
     "iopub.status.idle": "2021-10-03T17:39:54.959201Z",
     "shell.execute_reply": "2021-10-03T17:39:54.958549Z",
     "shell.execute_reply.started": "2021-10-03T17:39:54.953338Z"
    }
   },
   "source": [
    "### Manually change the content of the file to make it your own. \n",
    "\n",
    "Use Google search to go further in the customization (I recommend using https://stackoverflow.com/ + https://www.w3schools.com/html/)"
   ]
  },
  {
   "cell_type": "markdown",
   "id": "31a6d382-314d-4e6a-b1de-6b7df19e6fe1",
   "metadata": {},
   "source": [
    "## Output"
   ]
  },
  {
   "cell_type": "markdown",
   "id": "99441912-b23f-47ff-8fb6-d1e33019201b",
   "metadata": {},
   "source": [
    "Use Naas asset formula to generate a shareable URL."
   ]
  },
  {
   "cell_type": "code",
   "execution_count": 4,
   "id": "06762e2b-1830-43c5-9af6-be3519f2e082",
   "metadata": {
    "execution": {
     "iopub.execute_input": "2021-10-03T17:48:04.028382Z",
     "iopub.status.busy": "2021-10-03T17:48:04.028198Z",
     "iopub.status.idle": "2021-10-03T17:48:05.725129Z",
     "shell.execute_reply": "2021-10-03T17:48:05.724490Z",
     "shell.execute_reply.started": "2021-10-03T17:48:04.028362Z"
    },
    "tags": []
   },
   "outputs": [
    {
     "name": "stdout",
     "output_type": "stream",
     "text": [
      "👌 Well done! Your Assets has been sent to production.\n",
      "\n"
     ]
    },
    {
     "data": {
      "application/javascript": [
       "\n",
       "    if (!window.copyToClipboard) {\n",
       "        window.copyToClipboard = (text) => {\n",
       "            const dummy = document.createElement(\"textarea\");\n",
       "            document.body.appendChild(dummy);\n",
       "            dummy.value = text;\n",
       "            dummy.select();\n",
       "            document.execCommand(\"copy\");\n",
       "            document.body.removeChild(dummy);\n",
       "        }\n",
       "    }\n",
       "    "
      ],
      "text/plain": [
       "<IPython.core.display.Javascript object>"
      ]
     },
     "metadata": {},
     "output_type": "display_data"
    },
    {
     "data": {
      "application/vnd.jupyter.widget-view+json": {
       "model_id": "6a792fa6c4344f7ba0327e49d0519374",
       "version_major": 2,
       "version_minor": 0
      },
      "text/plain": [
       "Button(button_style='primary', description='Copy URL', style=ButtonStyle())"
      ]
     },
     "metadata": {},
     "output_type": "display_data"
    },
    {
     "data": {
      "application/vnd.jupyter.widget-view+json": {
       "model_id": "c2fbdd7be01441e99aea873cefd915d8",
       "version_major": 2,
       "version_minor": 0
      },
      "text/plain": [
       "Output()"
      ]
     },
     "metadata": {},
     "output_type": "display_data"
    },
    {
     "name": "stdout",
     "output_type": "stream",
     "text": [
      "PS: to remove the \"Assets\" feature, just replace .add by .delete\n"
     ]
    },
    {
     "data": {
      "text/plain": [
       "'https://public.naas.ai/amVyZW15LTJFcmF2ZW5lbC00MGNhc2hzdG9yeS0yRWNvbQ==/asset/761ae79f22ddf601747434dd1b63b3edadd0d523bd887fdd07cd98dcb49c'"
      ]
     },
     "execution_count": 4,
     "metadata": {},
     "output_type": "execute_result"
    }
   ],
   "source": [
    "import naas \n",
    "naas.asset.add(\"site.html\",{\"inline\": True})"
   ]
  },
  {
   "cell_type": "markdown",
   "id": "068e622c-5a0f-4640-ba1a-52937ba88591",
   "metadata": {},
   "source": [
    "Nb: if you want to use your own domain name, we will cover that in another version of this template.\n",
    "Contact us → hello@naas.ai"
   ]
  },
  {
   "cell_type": "code",
   "execution_count": null,
   "id": "ca63527f-1a3a-4266-b447-223f634aa087",
   "metadata": {},
   "outputs": [],
   "source": []
  }
 ],
 "metadata": {
  "kernelspec": {
   "display_name": "Python 3",
   "language": "python",
   "name": "python3"
  },
  "language_info": {
   "codemirror_mode": {
    "name": "ipython",
    "version": 3
   },
   "file_extension": ".py",
   "mimetype": "text/x-python",
   "name": "python",
   "nbconvert_exporter": "python",
   "pygments_lexer": "ipython3",
   "version": "3.8.8"
  },
  "widgets": {
   "application/vnd.jupyter.widget-state+json": {
    "state": {
     "158d8a0a99304c50b009d6baaaecb818": {
      "model_module": "@jupyter-widgets/base",
      "model_module_version": "1.2.0",
      "model_name": "LayoutModel",
      "state": {}
     },
     "6a792fa6c4344f7ba0327e49d0519374": {
      "model_module": "@jupyter-widgets/controls",
      "model_module_version": "1.5.0",
      "model_name": "ButtonModel",
      "state": {
       "button_style": "primary",
       "description": "Copy URL",
       "layout": "IPY_MODEL_158d8a0a99304c50b009d6baaaecb818",
       "style": "IPY_MODEL_d1768609e0e54a5d91bbc3b8d2baa95b"
      }
     },
     "71e84efb580f45589186f71f19ec616c": {
      "model_module": "@jupyter-widgets/base",
      "model_module_version": "1.2.0",
      "model_name": "LayoutModel",
      "state": {}
     },
     "c2fbdd7be01441e99aea873cefd915d8": {
      "model_module": "@jupyter-widgets/output",
      "model_module_version": "1.0.0",
      "model_name": "OutputModel",
      "state": {
       "layout": "IPY_MODEL_71e84efb580f45589186f71f19ec616c"
      }
     },
     "d1768609e0e54a5d91bbc3b8d2baa95b": {
      "model_module": "@jupyter-widgets/controls",
      "model_module_version": "1.5.0",
      "model_name": "ButtonStyleModel",
      "state": {}
     }
    },
    "version_major": 2,
    "version_minor": 0
   }
  }
 },
 "nbformat": 4,
 "nbformat_minor": 5
}
