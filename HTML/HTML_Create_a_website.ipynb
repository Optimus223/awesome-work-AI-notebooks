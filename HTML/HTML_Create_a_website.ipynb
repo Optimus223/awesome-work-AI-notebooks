{
 "cells": [
  {
   "cell_type": "markdown",
   "id": "naas-logo",
   "metadata": {
    "papermill": {},
    "tags": [
     "naas"
    ]
   },
   "source": [
    "<img width=\"10%\" alt=\"Naas\" src=\"https://landen.imgix.net/jtci2pxwjczr/assets/5ice39g4.png?w=160\"/>"
   ]
  },
  {
   "cell_type": "markdown",
   "id": "2f44e009-2c90-4ce2-a968-b8acb84e4d85",
   "metadata": {
    "papermill": {},
    "tags": []
   },
   "source": [
    "# HTML - Create a website\n",
    "<a href=\"https://app.naas.ai/user-redirect/naas/downloader?url=https://raw.githubusercontent.com/jupyter-naas/awesome-notebooks/master/HTML/HTML_Create_a_website.ipynb\" target=\"_parent\"><img src=\"https://naasai-public.s3.eu-west-3.amazonaws.com/open_in_naas.svg\"/></a>"
   ]
  },
  {
   "cell_type": "markdown",
   "id": "b1e1fc5a-2663-4e62-aac8-ac13cc0e3ba8",
   "metadata": {
    "execution": {
     "iopub.execute_input": "2021-10-03T17:46:57.110814Z",
     "iopub.status.busy": "2021-10-03T17:46:57.110544Z",
     "iopub.status.idle": "2021-10-03T17:46:57.125223Z",
     "shell.execute_reply": "2021-10-03T17:46:57.124280Z",
     "shell.execute_reply.started": "2021-10-03T17:46:57.110739Z"
    },
    "papermill": {},
    "tags": []
   },
   "source": [
    "**Tags:** #html #css #website #page #landing #custom"
   ]
  },
  {
   "cell_type": "markdown",
   "id": "naas-author",
   "metadata": {
    "papermill": {},
    "tags": [
     "naas"
    ]
   },
   "source": [
    "**Author:** [Unknown](https://www.linkedin.com/company/naas-ai/)"
   ]
  },
  {
   "cell_type": "markdown",
   "id": "50557ec6-ae10-4edc-99e3-3acc164992a7",
   "metadata": {
    "execution": {
     "iopub.execute_input": "2021-10-03T17:43:35.926525Z",
     "iopub.status.busy": "2021-10-03T17:43:35.926293Z",
     "iopub.status.idle": "2021-10-03T17:43:35.935218Z",
     "shell.execute_reply": "2021-10-03T17:43:35.934488Z",
     "shell.execute_reply.started": "2021-10-03T17:43:35.926503Z"
    },
    "papermill": {},
    "tags": []
   },
   "source": [
    "The objective of this notebook is to create an end-to-end website in 5min. "
   ]
  },
  {
   "cell_type": "markdown",
   "id": "03e29d40-0d41-4a0b-88b8-230047d849df",
   "metadata": {
    "papermill": {},
    "tags": []
   },
   "source": [
    "## Input "
   ]
  },
  {
   "cell_type": "code",
   "execution_count": 1,
   "id": "69f76d15-8d14-4d14-8b8d-c1b707363b71",
   "metadata": {
    "execution": {
     "iopub.execute_input": "2021-10-03T17:48:03.736045Z",
     "iopub.status.busy": "2021-10-03T17:48:03.735610Z",
     "iopub.status.idle": "2021-10-03T17:48:03.917828Z",
     "shell.execute_reply": "2021-10-03T17:48:03.917126Z",
     "shell.execute_reply.started": "2021-10-03T17:48:03.735973Z"
    },
    "papermill": {},
    "tags": []
   },
   "outputs": [],
   "source": [
    "from urllib.request import urlopen\n",
    "html = urlopen(\"http://www.example.com/\").read().decode('utf-8')\n",
    "print(html)"
   ]
  },
  {
   "cell_type": "markdown",
   "id": "650568e1-999b-4678-9e89-771efdfc7aca",
   "metadata": {
    "papermill": {},
    "tags": []
   },
   "source": [
    "# Model "
   ]
  },
  {
   "cell_type": "markdown",
   "id": "e3902500-3206-4874-9895-44f737f3d0b3",
   "metadata": {
    "papermill": {},
    "tags": []
   },
   "source": [
    "### Save file on your file system\n",
    "Click right to open + edit the file downloaded "
   ]
  },
  {
   "cell_type": "code",
   "execution_count": 2,
   "id": "16cc93e3-951f-4fb5-a839-276575ae540c",
   "metadata": {
    "execution": {
     "iopub.execute_input": "2021-10-03T17:48:03.919266Z",
     "iopub.status.busy": "2021-10-03T17:48:03.919030Z",
     "iopub.status.idle": "2021-10-03T17:48:03.943671Z",
     "shell.execute_reply": "2021-10-03T17:48:03.942922Z",
     "shell.execute_reply.started": "2021-10-03T17:48:03.919235Z"
    },
    "papermill": {},
    "tags": []
   },
   "outputs": [],
   "source": [
    "html_file = open(\"site.html\",\"w\")\n",
    "html_file.write(html)\n",
    "html_file.close()"
   ]
  },
  {
   "cell_type": "markdown",
   "id": "e6599336-eba8-4653-92e5-85b437736d57",
   "metadata": {
    "papermill": {},
    "tags": []
   },
   "source": [
    "### Learn about HTML with this Cheat Sheet"
   ]
  },
  {
   "cell_type": "code",
   "execution_count": 3,
   "id": "ce2debd6-3957-4c26-8f59-2310ab8b274c",
   "metadata": {
    "execution": {
     "iopub.execute_input": "2021-10-03T17:48:03.948351Z",
     "iopub.status.busy": "2021-10-03T17:48:03.944636Z",
     "iopub.status.idle": "2021-10-03T17:48:04.025439Z",
     "shell.execute_reply": "2021-10-03T17:48:04.024776Z",
     "shell.execute_reply.started": "2021-10-03T17:48:03.948316Z"
    },
    "papermill": {},
    "tags": []
   },
   "outputs": [],
   "source": [
    "from IPython.display import IFrame\n",
    "IFrame(\"https://web.stanford.edu/group/csp/cs21/htmlcheatsheet.pdf\", width=900, height=600)"
   ]
  },
  {
   "cell_type": "markdown",
   "id": "1589edae-da80-44a8-8ccd-3143a8d1bd5f",
   "metadata": {
    "execution": {
     "iopub.execute_input": "2021-10-03T17:39:54.953462Z",
     "iopub.status.busy": "2021-10-03T17:39:54.953062Z",
     "iopub.status.idle": "2021-10-03T17:39:54.959201Z",
     "shell.execute_reply": "2021-10-03T17:39:54.958549Z",
     "shell.execute_reply.started": "2021-10-03T17:39:54.953338Z"
    },
    "papermill": {},
    "tags": []
   },
   "source": [
    "### Manually change the content of the file to make it your own. \n",
    "\n",
    "Use Google search to go further in the customization (I recommend using https://stackoverflow.com/ + https://www.w3schools.com/html/)"
   ]
  },
  {
   "cell_type": "markdown",
   "id": "31a6d382-314d-4e6a-b1de-6b7df19e6fe1",
   "metadata": {
    "papermill": {},
    "tags": []
   },
   "source": [
    "## Output"
   ]
  },
  {
   "cell_type": "markdown",
   "id": "99441912-b23f-47ff-8fb6-d1e33019201b",
   "metadata": {
    "papermill": {},
    "tags": []
   },
   "source": [
    "Use Naas asset formula to generate a shareable URL."
   ]
  },
  {
   "cell_type": "code",
   "execution_count": 4,
   "id": "06762e2b-1830-43c5-9af6-be3519f2e082",
   "metadata": {
    "execution": {
     "iopub.execute_input": "2021-10-03T17:48:04.028382Z",
     "iopub.status.busy": "2021-10-03T17:48:04.028198Z",
     "iopub.status.idle": "2021-10-03T17:48:05.725129Z",
     "shell.execute_reply": "2021-10-03T17:48:05.724490Z",
     "shell.execute_reply.started": "2021-10-03T17:48:04.028362Z"
    },
    "papermill": {},
    "tags": []
   },
   "outputs": [],
   "source": [
    "import naas \n",
    "naas.asset.add(\"site.html\",{\"inline\": True})"
   ]
  },
  {
   "cell_type": "markdown",
   "id": "068e622c-5a0f-4640-ba1a-52937ba88591",
   "metadata": {
    "papermill": {},
    "tags": []
   },
   "source": [
    "Nb: if you want to use your own domain name, we will cover that in another version of this template.\n",
    "Contact us → hello@naas.ai"
   ]
  },
  {
   "cell_type": "code",
   "execution_count": null,
   "id": "ca63527f-1a3a-4266-b447-223f634aa087",
   "metadata": {
    "papermill": {},
    "tags": []
   },
   "outputs": [],
   "source": []
  }
 ],
 "metadata": {
  "kernelspec": {
   "display_name": "Python 3",
   "language": "python",
   "name": "python3"
  },
  "language_info": {
   "codemirror_mode": {
    "name": "ipython",
    "version": 3
   },
   "file_extension": ".py",
   "mimetype": "text/x-python",
   "name": "python",
   "nbconvert_exporter": "python",
   "pygments_lexer": "ipython3",
   "version": "3.8.8"
  },
  "papermill": {
   "default_parameters": {},
   "environment_variables": {},
   "parameters": {},
   "version": "2.3.3"
  },
  "widgets": {
   "application/vnd.jupyter.widget-state+json": {
    "state": {
     "158d8a0a99304c50b009d6baaaecb818": {
      "model_module": "@jupyter-widgets/base",
      "model_module_version": "1.2.0",
      "model_name": "LayoutModel",
      "state": {}
     },
     "6a792fa6c4344f7ba0327e49d0519374": {
      "model_module": "@jupyter-widgets/controls",
      "model_module_version": "1.5.0",
      "model_name": "ButtonModel",
      "state": {
       "button_style": "primary",
       "description": "Copy URL",
       "layout": "IPY_MODEL_158d8a0a99304c50b009d6baaaecb818",
       "style": "IPY_MODEL_d1768609e0e54a5d91bbc3b8d2baa95b"
      }
     },
     "71e84efb580f45589186f71f19ec616c": {
      "model_module": "@jupyter-widgets/base",
      "model_module_version": "1.2.0",
      "model_name": "LayoutModel",
      "state": {}
     },
     "c2fbdd7be01441e99aea873cefd915d8": {
      "model_module": "@jupyter-widgets/output",
      "model_module_version": "1.0.0",
      "model_name": "OutputModel",
      "state": {
       "layout": "IPY_MODEL_71e84efb580f45589186f71f19ec616c"
      }
     },
     "d1768609e0e54a5d91bbc3b8d2baa95b": {
      "model_module": "@jupyter-widgets/controls",
      "model_module_version": "1.5.0",
      "model_name": "ButtonStyleModel",
      "state": {}
     }
    },
    "version_major": 2,
    "version_minor": 0
   }
  }
 },
 "nbformat": 4,
 "nbformat_minor": 5
}