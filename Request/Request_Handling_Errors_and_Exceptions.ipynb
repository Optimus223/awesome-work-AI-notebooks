{
 "cells": [
  {
   "cell_type": "markdown",
   "id": "c15bc69c-3d5c-4b0e-85c9-0d8815f44adb",
   "metadata": {
    "papermill": {},
    "tags": []
   },
   "source": [
    "<img width=\"10%\" alt=\"Naas\" src=\"https://landen.imgix.net/jtci2pxwjczr/assets/5ice39g4.png?w=160\"/>"
   ]
  },
  {
   "cell_type": "markdown",
   "id": "05581a5e-0a6d-451d-9e31-d08baecb7058",
   "metadata": {
    "papermill": {},
    "tags": []
   },
   "source": [
    "# Request - Handling Errors and Exceptions"
   ]
  },
  {
   "cell_type": "markdown",
   "id": "c4678fb6-3b6d-4f67-9201-3191ec6edf98",
   "metadata": {
    "papermill": {},
    "tags": []
   },
   "source": [
    "**Tags:** #request #error #exception #handling #python #library"
   ]
  },
  {
   "cell_type": "markdown",
   "id": "3d1546f4-df27-4838-8e26-bbc6fe517e52",
   "metadata": {
    "papermill": {},
    "tags": []
   },
   "source": [
    "**Author:** [Benjamin Filly](https://www.linkedin.com/in/benjamin-filly-05427727a/)"
   ]
  },
  {
   "cell_type": "markdown",
   "id": "151907ef-f96a-4f07-88b0-91846fcd4ded",
   "metadata": {
    "papermill": {},
    "tags": []
   },
   "source": [
    "**Description:** This notebook template explores how to handle errors and exceptions when using the requests library. It provides examples of error handling techniques, including proper status code checking, handling timeouts, and dealing with connection errors."
   ]
  },
  {
   "cell_type": "markdown",
   "id": "2faaf344-2524-4af8-beae-3edee74a692c",
   "metadata": {
    "papermill": {},
    "tags": []
   },
   "source": [
    "**References:**\n",
    "- [Requests Documentation](https://requests.readthedocs.io/en/master/)\n",
    "- [Python Exceptions](https://docs.python.org/3/tutorial/errors.html)\n",
    "- [Status Code](https://developer.mozilla.org/en-US/docs/Web/HTTP/Status)"
   ]
  },
  {
   "cell_type": "markdown",
   "id": "a1f3b536-1535-47d4-8114-d4efacac6d9d",
   "metadata": {
    "papermill": {},
    "tags": []
   },
   "source": [
    "## Input"
   ]
  },
  {
   "cell_type": "markdown",
   "id": "051f4ade-5588-4143-865a-a24c9906e75e",
   "metadata": {
    "papermill": {},
    "tags": []
   },
   "source": [
    "### Import libraries"
   ]
  },
  {
   "cell_type": "code",
   "execution_count": 1,
   "id": "44280836-f1d8-42e5-baab-274d7ffda570",
   "metadata": {
    "execution": {
     "iopub.execute_input": "2023-06-19T10:25:12.165585Z",
     "iopub.status.busy": "2023-06-19T10:25:12.165160Z",
     "iopub.status.idle": "2023-06-19T10:25:12.352421Z",
     "shell.execute_reply": "2023-06-19T10:25:12.351530Z",
     "shell.execute_reply.started": "2023-06-19T10:25:12.165512Z"
    },
    "papermill": {},
    "tags": []
   },
   "outputs": [],
   "source": [
    "import requests"
   ]
  },
  {
   "cell_type": "markdown",
   "id": "342039ea-2f3c-4e83-b41f-6d6f2319a572",
   "metadata": {
    "papermill": {},
    "tags": []
   },
   "source": [
    "### Setup Variables\n",
    "- `url`: URL of the API endpoint\n",
    "- `timeout`: Timeout in seconds for the request"
   ]
  },
  {
   "cell_type": "code",
   "execution_count": 2,
   "id": "30280688-6d85-4275-b2df-e849cd500787",
   "metadata": {
    "execution": {
     "iopub.execute_input": "2023-06-19T10:25:12.400037Z",
     "iopub.status.busy": "2023-06-19T10:25:12.353559Z",
     "iopub.status.idle": "2023-06-19T10:25:12.473964Z",
     "shell.execute_reply": "2023-06-19T10:25:12.473230Z",
     "shell.execute_reply.started": "2023-06-19T10:25:12.399970Z"
    },
    "papermill": {},
    "tags": []
   },
   "outputs": [],
   "source": [
    "url = \"https://api.example.com/endpoint\"\n",
    "timeout = 10"
   ]
  },
  {
   "cell_type": "markdown",
   "id": "42e42cbe-8367-4910-85b6-5a2ea29d2e58",
   "metadata": {
    "papermill": {},
    "tags": []
   },
   "source": [
    "## Model"
   ]
  },
  {
   "cell_type": "markdown",
   "id": "f400875a-7bb2-4cae-b88f-2fd835f933ee",
   "metadata": {
    "papermill": {},
    "tags": []
   },
   "source": [
    "### Making a Request"
   ]
  },
  {
   "cell_type": "markdown",
   "id": "34b4c637-8b50-4e92-bccf-ed6fed4b9a82",
   "metadata": {
    "papermill": {},
    "tags": []
   },
   "source": [
    "Long description of the function without break"
   ]
  },
  {
   "cell_type": "code",
   "execution_count": 3,
   "id": "3aae863d-a80a-4adc-b0aa-4706dbe99b8e",
   "metadata": {
    "execution": {
     "iopub.execute_input": "2023-06-19T10:25:12.475473Z",
     "iopub.status.busy": "2023-06-19T10:25:12.475257Z",
     "iopub.status.idle": "2023-06-19T10:25:12.704745Z",
     "shell.execute_reply": "2023-06-19T10:25:12.703972Z",
     "shell.execute_reply.started": "2023-06-19T10:25:12.475442Z"
    },
    "papermill": {},
    "tags": []
   },
   "outputs": [],
   "source": [
    "try:\n",
    "    response = requests.get(url, timeout=timeout)\n",
    "except requests.exceptions.ConnectionError as e:\n",
    "    error_message = str(e)\n",
    "    print(\"ConnectionError occurred: \" + error_message)\n",
    "    print(\"Failed to establish a connection to the server.\")\n",
    "    print(\"Please check your internet connection and try again.\")"
   ]
  },
  {
   "cell_type": "markdown",
   "id": "d861ebdf-bbe5-4b90-9d39-5e46b6110087",
   "metadata": {
    "papermill": {},
    "tags": []
   },
   "source": [
    "## Output"
   ]
  },
  {
   "cell_type": "markdown",
   "id": "9a6ba0be-1cd9-4a70-b852-bb9dac7d3150",
   "metadata": {
    "papermill": {},
    "tags": []
   },
   "source": [
    "### Display result"
   ]
  },
  {
   "cell_type": "code",
   "execution_count": 4,
   "id": "8c2c5dbc-1ceb-4df4-be00-a0a15fe5f91d",
   "metadata": {
    "execution": {
     "iopub.execute_input": "2023-06-19T10:25:12.708845Z",
     "iopub.status.busy": "2023-06-19T10:25:12.708610Z",
     "iopub.status.idle": "2023-06-19T10:25:12.732948Z",
     "shell.execute_reply": "2023-06-19T10:25:12.732346Z",
     "shell.execute_reply.started": "2023-06-19T10:25:12.708814Z"
    },
    "papermill": {},
    "tags": []
   },
   "outputs": [
    {
     "name": "stdout",
     "output_type": "stream",
     "text": [
      "<Response [200]>\n"
     ]
    }
   ],
   "source": [
    "# Display the response\n",
    "print(response)"
   ]
  },
  {
   "cell_type": "markdown",
   "id": "d4a6c4f0-0571-42de-a15d-0c5862945eed",
   "metadata": {
    "papermill": {},
    "tags": []
   },
   "source": [
    " "
   ]
  }
 ],
 "metadata": {
  "kernelspec": {
   "display_name": "Python 3",
   "language": "python",
   "name": "python3"
  },
  "language_info": {
   "codemirror_mode": {
    "name": "ipython",
    "version": 3
   },
   "file_extension": ".py",
   "mimetype": "text/x-python",
   "name": "python",
   "nbconvert_exporter": "python",
   "pygments_lexer": "ipython3",
   "version": "3.9.6"
  },
  "widgets": {
   "application/vnd.jupyter.widget-state+json": {
    "state": {},
    "version_major": 2,
    "version_minor": 0
   }
  }
 },
 "nbformat": 4,
 "nbformat_minor": 5
}
