{
 "cells": [
  {
   "cell_type": "markdown",
   "id": "latin-packing",
   "metadata": {
    "execution": {
     "iopub.execute_input": "2021-02-23T14:22:16.610471Z",
     "iopub.status.busy": "2021-02-23T14:22:16.610129Z",
     "iopub.status.idle": "2021-02-23T14:22:16.627784Z",
     "shell.execute_reply": "2021-02-23T14:22:16.626866Z",
     "shell.execute_reply.started": "2021-02-23T14:22:16.610384Z"
    },
    "papermill": {},
    "tags": []
   },
   "source": [
    "<img width=\"10%\" alt=\"Naas\" src=\"https://landen.imgix.net/jtci2pxwjczr/assets/5ice39g4.png?w=160\"/>"
   ]
  },
  {
   "cell_type": "markdown",
   "id": "compressed-wilson",
   "metadata": {
    "papermill": {},
    "tags": []
   },
   "source": [
    "# Panel - Create a Panel kernel on Naas\n",
    "<a href=\"https://app.naas.ai/user-redirect/naas/downloader?url=https://raw.githubusercontent.com/jupyter-naas/awesome-notebooks/master/template.ipynb\" target=\"_parent\">\n",
    "<img src=\"https://img.shields.io/badge/-Open%20in%20Naas-success?labelColor=000000&logo=data:image/svg+xml;base64,PD94bWwgdmVyc2lvbj0iMS4wIiBlbmNvZGluZz0iVVRGLTgiPz4KPHN2ZyB3aWR0aD0iMTAyNHB4IiBoZWlnaHQ9IjEwMjRweCIgdmlld0JveD0iMCAwIDEwMjQgMTAyNCIgeG1sbnM9Imh0dHA6Ly93d3cudzMub3JnLzIwMDAvc3ZnIiB4bWxuczp4bGluaz0iaHR0cDovL3d3dy53My5vcmcvMTk5OS94bGluayIgdmVyc2lvbj0iMS4xIj4KIDwhLS0gR2VuZXJhdGVkIGJ5IFBpeGVsbWF0b3IgUHJvIDIuMC41IC0tPgogPGRlZnM+CiAgPHRleHQgaWQ9InN0cmluZyIgdHJhbnNmb3JtPSJtYXRyaXgoMS4wIDAuMCAwLjAgMS4wIDIyOC4wIDU0LjUpIiBmb250LWZhbWlseT0iQ29tZm9ydGFhLVJlZ3VsYXIsIENvbWZvcnRhYSIgZm9udC1zaXplPSI4MDAiIHRleHQtZGVjb3JhdGlvbj0ibm9uZSIgZmlsbD0iI2ZmZmZmZiIgeD0iMS4xOTk5OTk5OTk5OTk5ODg2IiB5PSI3MDUuMCI+bjwvdGV4dD4KIDwvZGVmcz4KIDx1c2UgaWQ9Im4iIHhsaW5rOmhyZWY9IiNzdHJpbmciLz4KPC9zdmc+Cg==\"/>\n",
    "</a><br><br><a href=\"https://github.com/jupyter-naas/awesome-notebooks/issues/new?assignees=&labels=&template=template-request.md&title=Tool+-+Action+of+the+notebook+\">Template request</a> | <a href=\"https://github.com/jupyter-naas/awesome-notebooks/issues/new?assignees=&labels=&template=bug_report.md&title=[ERROR]+Tool+/+Folder+Action+of+the+notebook+\">Bug report</a>"
   ]
  },
  {
   "cell_type": "markdown",
   "id": "religious-programmer",
   "metadata": {},
   "source": [
    "**Tags:** #panel #ipython #conda #naas #kernel"
   ]
  },
  {
   "cell_type": "markdown",
   "id": "1fe9f56e-561c-4f52-aef8-b861c9462107",
   "metadata": {},
   "source": [
    "**Author:** [Maxime Jublou](https://www.linkedin.com/in/maximejublou)"
   ]
  },
  {
   "cell_type": "markdown",
   "id": "31ea7cdb-e10d-43fc-b026-f69249a59736",
   "metadata": {},
   "source": [
    "**Description:** This Jupyter Notebook will enable you to establish a new IPython Kernel that you can customize, allowing you to install any desired tools. This kernel, once created, can be selected to run your notebooks."
   ]
  },
  {
   "cell_type": "markdown",
   "id": "distinguished-truth",
   "metadata": {
    "papermill": {},
    "tags": []
   },
   "source": [
    "## Input"
   ]
  },
  {
   "cell_type": "markdown",
   "id": "numeric-mediterranean",
   "metadata": {},
   "source": [
    "### Parameters"
   ]
  },
  {
   "cell_type": "code",
   "execution_count": null,
   "id": "potential-surfing",
   "metadata": {
    "execution": {
     "iopub.execute_input": "2023-01-11T17:10:02.193734Z",
     "iopub.status.busy": "2023-01-11T17:10:02.193441Z",
     "iopub.status.idle": "2023-01-11T17:10:02.197579Z",
     "shell.execute_reply": "2023-01-11T17:10:02.196960Z",
     "shell.execute_reply.started": "2023-01-11T17:10:02.193698Z"
    },
    "tags": [
     "parameters"
    ]
   },
   "outputs": [],
   "source": "KERNEL_NAME = \"panel\"  # This is the name of the Kernel you want to create.\n\nREQUIREMENTS = \"\"\"\npanel\npandas\nnumpy\nmatplotlib\nhvplot\n\"\"\""
  },
  {
   "cell_type": "markdown",
   "id": "registered-showcase",
   "metadata": {},
   "source": [
    "## Model"
   ]
  },
  {
   "cell_type": "markdown",
   "id": "374d859c-7903-42cb-92a2-e7fd5afd99a3",
   "metadata": {},
   "source": [
    "### Create script to create the kernel."
   ]
  },
  {
   "cell_type": "code",
   "execution_count": null,
   "id": "a4330858-3208-40e1-b48c-e7a71025ec33",
   "metadata": {
    "execution": {
     "iopub.execute_input": "2023-01-11T16:54:49.026370Z",
     "iopub.status.busy": "2023-01-11T16:54:49.026114Z",
     "iopub.status.idle": "2023-01-11T16:54:49.051655Z",
     "shell.execute_reply": "2023-01-11T16:54:49.050962Z",
     "shell.execute_reply.started": "2023-01-11T16:54:49.026337Z"
    },
    "tags": []
   },
   "outputs": [],
   "source": "script = f\"\"\"#!/usr/bin/env bash\n\n# Make the script exit on error.\nset -e\n\necho \"\ud83d\udee0\ufe0f Removing kernel and conda env if it already exists\"\n\n# Remove kernel and conda env if it already exists\njupyter kernelspec remove -f {KERNEL_NAME} || true\nrm -rf /home/ftp/__naas_custom_kernels__/{KERNEL_NAME} || true\n\necho \"\u2705 Cleaning done\"\n\n# Create directory that will store our kernels\nmkdir -p /home/ftp/__naas_custom_kernels__\n\necho \"\u2705 '/home/ftp/__naas_custom_kernels__' directory created\"\n\necho \"\ud83d\udee0\ufe0f Creating conda env\"\n\n# Create conda env\nconda create -p /home/ftp/__naas_custom_kernels__/{KERNEL_NAME} --yes\n\necho \"\u2705 Conda env created\"\n\n# Init conda env with bash and load it\nconda init bash\nsource /home/ftp/.bashrc\nconda activate /home/ftp/__naas_custom_kernels__/{KERNEL_NAME}\n\necho \"\u2705 Conda env loaded\"\n\necho \"\ud83d\udee0\ufe0f Installing ipykernel to the new conda env\"\n\n# Install ipykernel to be able to create a new kernel.\nconda install --yes -c anaconda ipykernel\n\necho \"\u2705 ipykernel installed\"\n\necho \"\ud83d\udee0\ufe0f Creating new kernel from conda env\"\n\n# Create the new kernel.\npython -m ipykernel install --name {KERNEL_NAME} --sys-prefix\n\necho \"\u2705 Kernel created\"\n\necho \"\ud83d\udee0\ufe0f Installing kernel into JupyterLab\" \n\n# Install newly created kernel.\njupyter kernelspec install --user /home/ftp/__naas_custom_kernels__/{KERNEL_NAME}/share/jupyter/kernels/{KERNEL_NAME}\n\necho \"\u2705 Kernel installed\"\n\n\"\"\"\n\n# Write script to filesystem.\nwith open(\"kernel_create.sh\", \"w\") as f:\n    f.write(script)"
  },
  {
   "cell_type": "markdown",
   "id": "ce2942fd-d4d3-4222-8a46-031648c1757a",
   "metadata": {},
   "source": [
    "### Execute kernel_create.sh script"
   ]
  },
  {
   "cell_type": "code",
   "execution_count": null,
   "id": "3d5bc90e-c9de-499b-a9bc-effa9f9d44df",
   "metadata": {
    "execution": {
     "iopub.execute_input": "2023-01-11T16:16:13.182483Z",
     "iopub.status.busy": "2023-01-11T16:16:13.182037Z",
     "iopub.status.idle": "2023-01-11T16:25:03.550050Z",
     "shell.execute_reply": "2023-01-11T16:25:03.549297Z",
     "shell.execute_reply.started": "2023-01-11T16:16:13.182451Z"
    },
    "tags": []
   },
   "outputs": [],
   "source": "%%time\n\n!bash ./kernel_create.sh"
  },
  {
   "cell_type": "markdown",
   "id": "0a49743d-1eb4-43b5-93b5-2f689a110201",
   "metadata": {},
   "source": [
    "<p style=\"background-color:coral;padding:10px;text-align:center;font-size:16px;\" >\ud83d\udca1 This script usually takes around 10 minutes to complete, be patient.</p>"
   ]
  },
  {
   "cell_type": "markdown",
   "id": "tested-astrology",
   "metadata": {},
   "source": [
    "### Create script to install requirements into the new kernel"
   ]
  },
  {
   "cell_type": "code",
   "execution_count": null,
   "id": "crude-louisville",
   "metadata": {
    "execution": {
     "iopub.execute_input": "2023-01-11T17:10:05.562501Z",
     "iopub.status.busy": "2023-01-11T17:10:05.562100Z",
     "iopub.status.idle": "2023-01-11T17:10:05.589538Z",
     "shell.execute_reply": "2023-01-11T17:10:05.588869Z",
     "shell.execute_reply.started": "2023-01-11T17:10:05.562460Z"
    },
    "papermill": {},
    "tags": []
   },
   "outputs": [],
   "source": "install_requirements_script = f\"\"\"#!/usr/bin/env bash\n\n# Make the script exit on error.\nset -e\n\nsource /home/ftp/.bashrc\nconda activate /home/ftp/__naas_custom_kernels__/{KERNEL_NAME}\n\necho \"\u2705 Conda env activated\"\n\npip install -r kernel_requirements.txt\n\necho \"\u2705 Requirements installed in the kernel\"\n\"\"\"\n\n# Write script to filesystem.\nwith open(\"install_requirements.sh\", \"w\") as f:\n    f.write(install_requirements_script)"
  },
  {
   "cell_type": "markdown",
   "id": "2f264e72-fff7-489f-9b87-3e34f9d4695b",
   "metadata": {},
   "source": [
    "### Write requirements to filesystem"
   ]
  },
  {
   "cell_type": "code",
   "execution_count": null,
   "id": "7f3a0316-2bef-4ad6-a242-8856ea52c6c3",
   "metadata": {
    "execution": {
     "iopub.execute_input": "2023-01-11T17:10:05.883053Z",
     "iopub.status.busy": "2023-01-11T17:10:05.882720Z",
     "iopub.status.idle": "2023-01-11T17:10:05.908499Z",
     "shell.execute_reply": "2023-01-11T17:10:05.907863Z",
     "shell.execute_reply.started": "2023-01-11T17:10:05.883019Z"
    },
    "tags": []
   },
   "outputs": [],
   "source": "with open(\"kernel_requirements.txt\", \"w\") as f:\n    f.write(REQUIREMENTS)"
  },
  {
   "cell_type": "markdown",
   "id": "8efffcff-2ff4-40e3-83ac-61f1aa8eef84",
   "metadata": {},
   "source": [
    "### Install requirements"
   ]
  },
  {
   "cell_type": "code",
   "execution_count": null,
   "id": "5c1cd0ae-356d-4399-9408-a57ad1f43dd6",
   "metadata": {
    "execution": {
     "iopub.execute_input": "2023-01-11T17:10:06.629885Z",
     "iopub.status.busy": "2023-01-11T17:10:06.629604Z",
     "iopub.status.idle": "2023-01-11T17:10:45.271812Z",
     "shell.execute_reply": "2023-01-11T17:10:45.271081Z",
     "shell.execute_reply.started": "2023-01-11T17:10:06.629856Z"
    },
    "tags": []
   },
   "outputs": [],
   "source": "%%time\n\n!bash ./install_requirements.sh"
  },
  {
   "cell_type": "markdown",
   "id": "86081cce-fa02-4460-adca-c72cbf5bfccf",
   "metadata": {},
   "source": [
    "<p style=\"background-color:coral;padding:10px;text-align:center;font-size:16px;\" >\ud83d\udca1 This script can take a long time based on your requirements.</p>"
   ]
  },
  {
   "cell_type": "markdown",
   "id": "lonely-pacific",
   "metadata": {
    "execution": {
     "iopub.execute_input": "2021-07-02T23:32:10.789097Z",
     "iopub.status.busy": "2021-07-02T23:32:10.788829Z",
     "iopub.status.idle": "2021-07-02T23:32:10.796900Z",
     "shell.execute_reply": "2021-07-02T23:32:10.796358Z",
     "shell.execute_reply.started": "2021-07-02T23:32:10.789033Z"
    }
   },
   "source": [
    "## Output"
   ]
  },
  {
   "cell_type": "markdown",
   "id": "fc77c24f-ff4c-4046-bcde-b94fe61f5d9c",
   "metadata": {},
   "source": [
    "### Listing installed kernel"
   ]
  },
  {
   "cell_type": "code",
   "execution_count": null,
   "id": "52717a51-8837-49ac-b6a5-1c7c3ccf23cf",
   "metadata": {
    "execution": {
     "iopub.execute_input": "2023-01-11T16:27:35.279031Z",
     "iopub.status.busy": "2023-01-11T16:27:35.278823Z",
     "iopub.status.idle": "2023-01-11T16:27:36.012347Z",
     "shell.execute_reply": "2023-01-11T16:27:36.011612Z",
     "shell.execute_reply.started": "2023-01-11T16:27:35.279004Z"
    },
    "tags": []
   },
   "outputs": [],
   "source": "kernels = !jupyter kernelspec list\nkernels"
  }
 ],
 "metadata": {
  "kernelspec": {
   "display_name": "Python 3",
   "language": "python",
   "name": "python3"
  },
  "language_info": {
   "codemirror_mode": {
    "name": "ipython",
    "version": 3
   },
   "file_extension": ".py",
   "mimetype": "text/x-python",
   "name": "python",
   "nbconvert_exporter": "python",
   "pygments_lexer": "ipython3",
   "version": "3.9.6"
  },
  "papermill": {
   "default_parameters": {},
   "environment_variables": {},
   "parameters": {},
   "version": "2.3.3"
  },
  "widgets": {
   "application/vnd.jupyter.widget-state+json": {
    "state": {},
    "version_major": 2,
    "version_minor": 0
   }
  }
 },
 "nbformat": 4,
 "nbformat_minor": 5
}