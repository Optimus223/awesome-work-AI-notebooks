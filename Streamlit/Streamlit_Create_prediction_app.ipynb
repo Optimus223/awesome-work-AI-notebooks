{
 "cells": [
  {
   "cell_type": "markdown",
   "id": "driving-madagascar",
   "metadata": {},
   "source": [
    "<img width=\"10%\" alt=\"Naas\" src=\"https://landen.imgix.net/jtci2pxwjczr/assets/5ice39g4.png?w=160\"/>"
   ]
  },
  {
   "cell_type": "markdown",
   "id": "adjustable-folks",
   "metadata": {},
   "source": [
    "# Streamlit - Create an prediction web app"
   ]
  },
  {
   "cell_type": "markdown",
   "id": "electrical-harris",
   "metadata": {
    "execution": {
     "iopub.execute_input": "2021-08-11T14:18:57.340768Z",
     "iopub.status.busy": "2021-08-11T14:18:57.340505Z",
     "iopub.status.idle": "2021-08-11T14:18:57.343913Z",
     "shell.execute_reply": "2021-08-11T14:18:57.343302Z",
     "shell.execute_reply.started": "2021-08-11T14:18:57.340705Z"
    }
   },
   "source": [
    "## Input"
   ]
  },
  {
   "cell_type": "markdown",
   "id": "17368124-cecc-4cdb-b786-e2e4bc8d000c",
   "metadata": {
    "execution": {
     "iopub.execute_input": "2021-09-01T19:13:11.337260Z",
     "iopub.status.busy": "2021-09-01T19:13:11.336973Z",
     "iopub.status.idle": "2021-09-01T19:13:11.348953Z",
     "shell.execute_reply": "2021-09-01T19:13:11.348012Z",
     "shell.execute_reply.started": "2021-09-01T19:13:11.337169Z"
    }
   },
   "source": [
    "Create the Python file necessary to deploy Streamlit app."
   ]
  },
  {
   "cell_type": "code",
   "execution_count": null,
   "id": "light-symbol",
   "metadata": {
    "tags": []
   },
   "outputs": [],
   "source": [
    "%%writefile streamlit_app.py\n",
    "\n",
    "import streamlit as st\n",
    "from naas_drivers.input.prediction import Prediction\n",
    "from naas_drivers.input.yahoofinance import Yahoofinance\n",
    "from naas_drivers.input.plotly import Plotly\n",
    "yf = Yahoofinance()\n",
    "pre = Prediction()\n",
    "plotly = Plotly()\n",
    "\n",
    "stock = \"TSLA\"\n",
    "\n",
    "dataset = yf.get(stock_companies = stock)\n",
    "pr = pre.get(dataset=dataset)\n",
    "plt=plotly.stock(pr,\"linechart_close\")\n",
    "\n",
    "\n",
    "st.write(\"# Prediction for {}\".format(stock))\n",
    "st.plotly_chart(plt)"
   ]
  },
  {
   "cell_type": "markdown",
   "id": "enormous-hamburg",
   "metadata": {},
   "source": [
    "## Model & Output"
   ]
  },
  {
   "cell_type": "markdown",
   "id": "81f02b09-09f1-495e-a250-da76f85e1ee8",
   "metadata": {},
   "source": [
    "Deploy the app from Python file and serve the URL where the app is exposed (NgrokTunnel)"
   ]
  },
  {
   "cell_type": "code",
   "execution_count": null,
   "id": "received-leadership",
   "metadata": {
    "tags": []
   },
   "outputs": [],
   "source": [
    "import naas_drivers\n",
    "naas_drivers.streamlit.add(\"streamlit_app.py\",port=9999, debug=False)"
   ]
  },
  {
   "cell_type": "code",
   "execution_count": null,
   "id": "f876fa33-1de4-4a38-a5a0-828b992e06b6",
   "metadata": {},
   "outputs": [],
   "source": []
  }
 ],
 "metadata": {
  "kernelspec": {
   "display_name": "Python 3",
   "language": "python",
   "name": "python3"
  },
  "language_info": {
   "codemirror_mode": {
    "name": "ipython",
    "version": 3
   },
   "file_extension": ".py",
   "mimetype": "text/x-python",
   "name": "python",
   "nbconvert_exporter": "python",
   "pygments_lexer": "ipython3",
   "version": "3.8.8"
  },
  "widgets": {
   "application/vnd.jupyter.widget-state+json": {
    "state": {},
    "version_major": 2,
    "version_minor": 0
   }
  }
 },
 "nbformat": 4,
 "nbformat_minor": 5
}
