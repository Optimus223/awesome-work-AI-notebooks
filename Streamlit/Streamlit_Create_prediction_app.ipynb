{
 "cells": [
  {
   "cell_type": "markdown",
   "id": "driving-madagascar",
   "metadata": {
    "papermill": {},
    "tags": []
   },
   "source": [
    "<img width=\"10%\" alt=\"Naas\" src=\"https://landen.imgix.net/jtci2pxwjczr/assets/5ice39g4.png?w=160\"/>"
   ]
  },
  {
   "cell_type": "markdown",
   "id": "adjustable-folks",
   "metadata": {
    "papermill": {},
    "tags": []
   },
   "source": [
    "# Streamlit - Create prediction app\n",
    "<a href=\"https://app.naas.ai/user-redirect/naas/downloader?url=https://raw.githubusercontent.com/jupyter-naas/awesome-notebooks/master/Streamlit/Streamlit_Create_prediction_app.ipynb\" target=\"_parent\"><img src=\"https://img.shields.io/badge/-Open%20in%20Naas-success?labelColor=000000&logo=data:image/svg+xml;base64,PD94bWwgdmVyc2lvbj0iMS4wIiBlbmNvZGluZz0iVVRGLTgiPz4KPHN2ZyB3aWR0aD0iMTAyNHB4IiBoZWlnaHQ9IjEwMjRweCIgdmlld0JveD0iMCAwIDEwMjQgMTAyNCIgeG1sbnM9Imh0dHA6Ly93d3cudzMub3JnLzIwMDAvc3ZnIiB4bWxuczp4bGluaz0iaHR0cDovL3d3dy53My5vcmcvMTk5OS94bGluayIgdmVyc2lvbj0iMS4xIj4KIDwhLS0gR2VuZXJhdGVkIGJ5IFBpeGVsbWF0b3IgUHJvIDIuMC41IC0tPgogPGRlZnM+CiAgPHRleHQgaWQ9InN0cmluZyIgdHJhbnNmb3JtPSJtYXRyaXgoMS4wIDAuMCAwLjAgMS4wIDIyOC4wIDU0LjUpIiBmb250LWZhbWlseT0iQ29tZm9ydGFhLVJlZ3VsYXIsIENvbWZvcnRhYSIgZm9udC1zaXplPSI4MDAiIHRleHQtZGVjb3JhdGlvbj0ibm9uZSIgZmlsbD0iI2ZmZmZmZiIgeD0iMS4xOTk5OTk5OTk5OTk5ODg2IiB5PSI3MDUuMCI+bjwvdGV4dD4KIDwvZGVmcz4KIDx1c2UgaWQ9Im4iIHhsaW5rOmhyZWY9IiNzdHJpbmciLz4KPC9zdmc+Cg==\"/></a>"
   ]
  },
  {
   "cell_type": "markdown",
   "id": "electrical-harris",
   "metadata": {
    "execution": {
     "iopub.execute_input": "2021-08-11T14:18:57.340768Z",
     "iopub.status.busy": "2021-08-11T14:18:57.340505Z",
     "iopub.status.idle": "2021-08-11T14:18:57.343913Z",
     "shell.execute_reply": "2021-08-11T14:18:57.343302Z",
     "shell.execute_reply.started": "2021-08-11T14:18:57.340705Z"
    },
    "papermill": {},
    "tags": []
   },
   "source": [
    "## Input"
   ]
  },
  {
   "cell_type": "markdown",
   "id": "17368124-cecc-4cdb-b786-e2e4bc8d000c",
   "metadata": {
    "execution": {
     "iopub.execute_input": "2021-09-01T19:13:11.337260Z",
     "iopub.status.busy": "2021-09-01T19:13:11.336973Z",
     "iopub.status.idle": "2021-09-01T19:13:11.348953Z",
     "shell.execute_reply": "2021-09-01T19:13:11.348012Z",
     "shell.execute_reply.started": "2021-09-01T19:13:11.337169Z"
    },
    "papermill": {},
    "tags": []
   },
   "source": [
    "Create the Python file necessary to deploy Streamlit app."
   ]
  },
  {
   "cell_type": "code",
   "execution_count": null,
   "id": "light-symbol",
   "metadata": {
    "papermill": {},
    "tags": []
   },
   "outputs": [],
   "source": [
    "%%writefile streamlit_app.py\n",
    "\n",
    "import streamlit as st\n",
    "from naas_drivers.input.prediction import Prediction\n",
    "from naas_drivers.input.yahoofinance import Yahoofinance\n",
    "from naas_drivers.input.plotly import Plotly\n",
    "yf = Yahoofinance()\n",
    "pre = Prediction()\n",
    "plotly = Plotly()\n",
    "\n",
    "stock = \"TSLA\"\n",
    "\n",
    "dataset = yf.get(stock_companies = stock)\n",
    "pr = pre.get(dataset=dataset)\n",
    "plt=plotly.stock(pr,\"linechart_close\")\n",
    "\n",
    "\n",
    "st.write(\"# Prediction for {}\".format(stock))\n",
    "st.plotly_chart(plt)"
   ]
  },
  {
   "cell_type": "markdown",
   "id": "enormous-hamburg",
   "metadata": {
    "papermill": {},
    "tags": []
   },
   "source": [
    "## Model & Output"
   ]
  },
  {
   "cell_type": "markdown",
   "id": "81f02b09-09f1-495e-a250-da76f85e1ee8",
   "metadata": {
    "papermill": {},
    "tags": []
   },
   "source": [
    "Deploy the app from Python file and serve the URL where the app is exposed (NgrokTunnel)"
   ]
  },
  {
   "cell_type": "code",
   "execution_count": null,
   "id": "received-leadership",
   "metadata": {
    "papermill": {},
    "tags": []
   },
   "outputs": [],
   "source": [
    "import naas_drivers\n",
    "naas_drivers.streamlit.add(\"streamlit_app.py\",port=9999, debug=False)"
   ]
  },
  {
   "cell_type": "code",
   "execution_count": null,
   "id": "f876fa33-1de4-4a38-a5a0-828b992e06b6",
   "metadata": {
    "papermill": {},
    "tags": []
   },
   "outputs": [],
   "source": []
  }
 ],
 "metadata": {
  "kernelspec": {
   "display_name": "Python 3",
   "language": "python",
   "name": "python3"
  },
  "language_info": {
   "codemirror_mode": {
    "name": "ipython",
    "version": 3
   },
   "file_extension": ".py",
   "mimetype": "text/x-python",
   "name": "python",
   "nbconvert_exporter": "python",
   "pygments_lexer": "ipython3",
   "version": "3.8.8"
  },
  "papermill": {
   "default_parameters": {},
   "environment_variables": {},
   "parameters": {},
   "version": "2.3.3"
  },
  "widgets": {
   "application/vnd.jupyter.widget-state+json": {
    "state": {},
    "version_major": 2,
    "version_minor": 0
   }
  }
 },
 "nbformat": 4,
 "nbformat_minor": 5
}