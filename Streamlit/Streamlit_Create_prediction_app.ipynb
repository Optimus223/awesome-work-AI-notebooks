{
 "cells": [
  {
   "cell_type": "markdown",
   "id": "driving-madagascar",
   "metadata": {
    "papermill": {},
    "tags": []
   },
   "source": [
    "<img width=\"10%\" alt=\"Naas\" src=\"https://landen.imgix.net/jtci2pxwjczr/assets/5ice39g4.png?w=160\"/>"
   ]
  },
  {
   "cell_type": "markdown",
   "id": "adjustable-folks",
   "metadata": {
    "papermill": {},
    "tags": []
   },
   "source": [
    "# Streamlit - Create prediction app\n",
    "<a href=\"https://app.naas.ai/user-redirect/naas/downloader?url=https://raw.githubusercontent.com/jupyter-naas/awesome-notebooks/master/Streamlit/Streamlit_Create_prediction_app.ipynb\" target=\"_parent\"><img src=\"https://naasai-public.s3.eu-west-3.amazonaws.com/open_in_naas.svg\"/></a>"
   ]
  },
  {
   "cell_type": "markdown",
   "id": "b23508f9-4ddc-40e1-9ccc-d1e3b8ab956c",
   "metadata": {
    "papermill": {},
    "tags": []
   },
   "source": [
    "**Tags:** #streamlit #app #ml #ai #operations #plotly"
   ]
  },
  {
   "cell_type": "markdown",
   "id": "naas-author",
   "metadata": {
    "papermill": {},
    "tags": [
     "naas"
    ]
   },
   "source": [
    "**Author:** [Gagan Bhatia](https://github.com/gagan3012)"
   ]
  },
  {
   "cell_type": "markdown",
   "id": "electrical-harris",
   "metadata": {
    "execution": {
     "iopub.execute_input": "2021-08-11T14:18:57.340768Z",
     "iopub.status.busy": "2021-08-11T14:18:57.340505Z",
     "iopub.status.idle": "2021-08-11T14:18:57.343913Z",
     "shell.execute_reply": "2021-08-11T14:18:57.343302Z",
     "shell.execute_reply.started": "2021-08-11T14:18:57.340705Z"
    },
    "papermill": {},
    "tags": []
   },
   "source": [
    "## Input"
   ]
  },
  {
   "cell_type": "markdown",
   "id": "import_cell",
   "metadata": {
    "papermill": {},
    "tags": []
   },
   "source": [
    "### Import library"
   ]
  },
  {
   "cell_type": "code",
   "execution_count": 1,
   "id": "1be51837-a382-4dad-a747-8326fce33fe1",
   "metadata": {
    "execution": {
     "iopub.execute_input": "2022-08-01T15:23:18.849080Z",
     "iopub.status.busy": "2022-08-01T15:23:18.846455Z",
     "iopub.status.idle": "2022-08-01T15:23:18.955056Z",
     "shell.execute_reply": "2022-08-01T15:23:18.954382Z",
     "shell.execute_reply.started": "2022-08-01T15:23:18.848982Z"
    },
    "papermill": {},
    "tags": []
   },
   "outputs": [],
   "source": [
    "from naas_drivers import streamlit"
   ]
  },
  {
   "cell_type": "markdown",
   "id": "19999f08-f203-47af-8072-57d2c8ebd17a",
   "metadata": {
    "papermill": {},
    "tags": []
   },
   "source": [
    "## Model"
   ]
  },
  {
   "cell_type": "markdown",
   "id": "17368124-cecc-4cdb-b786-e2e4bc8d000c",
   "metadata": {
    "execution": {
     "iopub.execute_input": "2021-09-01T19:13:11.337260Z",
     "iopub.status.busy": "2021-09-01T19:13:11.336973Z",
     "iopub.status.idle": "2021-09-01T19:13:11.348953Z",
     "shell.execute_reply": "2021-09-01T19:13:11.348012Z",
     "shell.execute_reply.started": "2021-09-01T19:13:11.337169Z"
    },
    "papermill": {},
    "tags": []
   },
   "source": [
    "Create the Python file necessary to deploy Streamlit app."
   ]
  },
  {
   "cell_type": "code",
   "execution_count": 2,
   "id": "light-symbol",
   "metadata": {
    "execution": {
     "iopub.execute_input": "2022-08-01T15:23:18.956545Z",
     "iopub.status.busy": "2022-08-01T15:23:18.956330Z",
     "iopub.status.idle": "2022-08-01T15:23:19.025048Z",
     "shell.execute_reply": "2022-08-01T15:23:19.024381Z",
     "shell.execute_reply.started": "2022-08-01T15:23:18.956515Z"
    },
    "papermill": {},
    "tags": []
   },
   "outputs": [
    {
     "name": "stdout",
     "output_type": "stream",
     "text": [
      "Overwriting streamlit_app.py\n"
     ]
    }
   ],
   "source": [
    "%%writefile streamlit_app.py\n",
    "\n",
    "from naas_drivers import streamlit, plotly, yahoofinance, prediction\n",
    "import streamlit as st\n",
    "\n",
    "TICKER = \"TSLA\"\n",
    "date_from = -100 # 1OO days max to feed the naas_driver for prediction\n",
    "date_to = \"today\"\n",
    "DATA_POINT = 20\n",
    "\n",
    "df_yahoo = yahoofinance.get(tickers=TICKER,\n",
    "                            date_from=date_from,\n",
    "                            date_to=date_to).dropna().reset_index(drop=True)\n",
    "\n",
    "df_predict = prediction.get(dataset=df_yahoo,\n",
    "                            date_column='Date',\n",
    "                            column=\"Close\",\n",
    "                            data_points=DATA_POINT,\n",
    "                            prediction_type=\"all\").sort_values(\"Date\", ascending=False).reset_index(drop=True)\n",
    "\n",
    "fig = plotly.linechart(df_predict,\n",
    "                       x=\"Date\",\n",
    "                       y=[\"Close\", \"ARIMA\", \"SVR\", \"LINEAR\", \"COMPOUND\"],\n",
    "                       showlegend=True,\n",
    "                       title=f\"{TICKER} predictions as of today, for next {str(DATA_POINT)} days.\")\n",
    "\n",
    "\n",
    "\n",
    "st.write(\"# Prediction for {}\".format(TICKER))\n",
    "st.plotly_chart(fig, width=1200)"
   ]
  },
  {
   "cell_type": "markdown",
   "id": "enormous-hamburg",
   "metadata": {
    "papermill": {},
    "tags": []
   },
   "source": [
    "## Output"
   ]
  },
  {
   "cell_type": "markdown",
   "id": "81f02b09-09f1-495e-a250-da76f85e1ee8",
   "metadata": {
    "papermill": {},
    "tags": []
   },
   "source": [
    "### Deploy the app from Python file and serve the URL where the app is exposed."
   ]
  },
  {
   "cell_type": "code",
   "execution_count": null,
   "id": "received-leadership",
   "metadata": {
    "execution": {
     "iopub.execute_input": "2022-08-01T15:23:19.026412Z",
     "iopub.status.busy": "2022-08-01T15:23:19.026167Z"
    },
    "papermill": {},
    "tags": []
   },
   "outputs": [
    {
     "name": "stdout",
     "output_type": "stream",
     "text": [
      "streamlit run streamlit_app.py --server.port 9999  --logger.level debug\n",
      "<Popen: returncode: None args: ['streamlit run streamlit_app.py --server.por...>\n",
      "\n",
      "🎉 Streamlit application is accessible here: 'https://app.naas.ai/user/jeremy@naas.ai/proxy/9999/'\n",
      "\n",
      "2022-08-01 17:23:20.632 Initialized tornado logs\n",
      "  You can now view your Streamlit app in your browser.\n",
      "2022-08-01 17:23:20.634 Loaded backend agg version unknown.\n",
      "\n",
      "2022-08-01 17:23:20.634 No singleton. Registering one.\n",
      "  Network URL: http://10.0.188.21:9999\n",
      "2022-08-01 17:23:20.638 Watcher created for /home/ftp/awesome-notebooks/Streamlit/pages\n",
      "  External URL: http://15.236.83.113:9999\n",
      "2022-08-01 17:23:20.638 Setting up signal handler\n",
      "\n",
      "2022-08-01 17:23:20.639 Using selector: EpollSelector\n",
      "Performing stepwise search to minimize aic\n",
      "2022-08-01 17:23:20.639 Using selector: EpollSelector\n",
      "Performing stepwise search to minimize aic\n",
      "2022-08-01 17:23:20.639 Starting server...\n",
      "Performing stepwise search to minimize aic\n",
      "2022-08-01 17:23:20.640 Serving static content from /opt/conda/lib/python3.9/site-packages/streamlit/static\n",
      "Performing stepwise search to minimize aic\n",
      "2022-08-01 17:23:20.641 Server started on port 9999\n",
      "Performing stepwise search to minimize aic\n",
      "2022-08-01 17:23:20.642 Server state: State.INITIAL -> State.WAITING_FOR_FIRST_BROWSER\n",
      "Performing stepwise search to minimize aic\n",
      "2022-08-01 17:23:20.669 Popen(['git', 'version'], cwd=/home/ftp/awesome-notebooks/Streamlit, universal_newlines=False, shell=None, istream=None)\n",
      "Performing stepwise search to minimize aic\n",
      "2022-08-01 17:23:20.677 Popen(['git', 'version'], cwd=/home/ftp/awesome-notebooks/Streamlit, universal_newlines=False, shell=None, istream=None)\n",
      "Performing stepwise search to minimize aic\n",
      "2022-08-01 17:23:20.687 Popen(['git', 'version'], cwd=/home/ftp/awesome-notebooks, universal_newlines=False, shell=None, istream=None)\n",
      " ARIMA(1,1,1)(0,0,0)[0] intercept   : AIC=679.609, Time=2.46 sec\n",
      "2022-08-01 17:23:20.694 Popen(['git', 'rev-parse', '--show-toplevel'], cwd=/home/ftp/awesome-notebooks, universal_newlines=False, shell=None, istream=None)\n",
      " ARIMA(1,1,1)(0,0,0)[0] intercept   : AIC=679.609, Time=2.42 sec\n",
      "2022-08-01 17:23:20.708 Starting new HTTP connection (1): checkip.amazonaws.com:80\n",
      " ARIMA(1,1,1)(0,0,0)[0] intercept   : AIC=679.609, Time=2.49 sec\n",
      "2022-08-01 17:23:20.764 http://checkip.amazonaws.com:80 \"GET / HTTP/1.1\" 200 14\n",
      " ARIMA(1,1,1)(0,0,0)[0] intercept   : AIC=679.609, Time=2.48 sec\n",
      "2022-08-01 17:23:20.765 Skipping PyPI version check\n",
      " ARIMA(0,1,0)(0,0,0)[0] intercept   : AIC=677.500, Time=0.16 sec\n",
      "2022-08-01 17:23:24.400 Watcher created for /home/ftp/awesome-notebooks/Streamlit/streamlit_app.py\n",
      " ARIMA(1,1,1)(0,0,0)[0] intercept   : AIC=679.609, Time=2.47 sec\n",
      "2022-08-01 17:23:24.400 AppSession initialized (id=578305d7-76d4-4c15-9133-20054452b5b5)\n",
      " ARIMA(0,1,0)(0,0,0)[0] intercept   : AIC=677.500, Time=0.35 sec ARIMA(1,1,1)(0,0,0)[0] intercept   : AIC=679.609, Time=2.76 sec ARIMA(0,1,0)(0,0,0)[0] intercept   : AIC=677.500, Time=0.33 sec ARIMA(1,1,1)(0,0,0)[0] intercept   : AIC=679.609, Time=2.69 sec\n",
      "2022-08-01 17:23:24.400 Created new session for ws 139819121359264. Session ID: 578305d7-76d4-4c15-9133-20054452b5b5\n",
      "\n",
      "2022-08-01 17:23:24.400 Server state: State.WAITING_FOR_FIRST_BROWSER -> State.ONE_OR_MORE_BROWSERS_CONNECTED\n",
      "\n",
      "2022-08-01 17:23:24.428 Received the following back message:\n",
      " ARIMA(0,1,0)(0,0,0)[0] intercept   : AIC=677.500, Time=0.31 sec ARIMA(0,1,0)(0,0,0)[0] intercept   : AIC=677.500, Time=0.38 sec\n",
      "rerun_script {\n",
      "\n",
      "  widget_states {\n",
      "\n",
      "  }\n",
      " ARIMA(0,1,0)(0,0,0)[0] intercept   : AIC=677.500, Time=0.18 sec\n",
      "  page_script_hash: \"35481e66f796788fe604fbe7ad875685\"\n",
      " ARIMA(0,1,0)(0,0,0)[0] intercept   : AIC=677.500, Time=0.10 sec\n",
      "}\n",
      " ARIMA(1,1,1)(0,0,0)[0] intercept   : AIC=679.606, Time=2.74 sec\n",
      "\n",
      " ARIMA(1,1,0)(0,0,0)[0] intercept   : AIC=678.309, Time=1.29 sec\n",
      "2022-08-01 17:23:24.428 Beginning script thread\n",
      " ARIMA(0,1,0)(0,0,0)[0] intercept   : AIC=677.498, Time=0.22 sec\n",
      "2022-08-01 17:23:24.428 Running script RerunData(query_string='', widget_states=, page_script_hash='35481e66f796788fe604fbe7ad875685', page_name='')\n",
      " ARIMA(1,1,0)(0,0,0)[0] intercept   : AIC=678.309, Time=1.37 sec\n",
      "2022-08-01 17:23:24.429 Disconnecting files for session with ID 578305d7-76d4-4c15-9133-20054452b5b5\n",
      " ARIMA(1,1,0)(0,0,0)[0] intercept   : AIC=678.309, Time=1.22 sec\n",
      "2022-08-01 17:23:24.429 Sessions still active: dict_keys([])\n",
      " ARIMA(1,1,0)(0,0,0)[0] intercept   : AIC=678.309, Time=1.27 sec\n",
      "2022-08-01 17:23:24.429 Files: 0; Sessions with files: 0\n",
      " ARIMA(1,1,0)(0,0,0)[0] intercept   : AIC=678.309, Time=1.31 sec\n",
      "2022-08-01 17:23:24.587 Watcher created for /home/ftp/awesome-notebooks/Streamlit/streamlit_app.py\n",
      " ARIMA(1,1,0)(0,0,0)[0] intercept   : AIC=678.309, Time=1.50 sec\n",
      "2022-08-01 17:23:24.587 AppSession initialized (id=e589c4d8-24aa-4f9c-960e-b51567f4fb13)\n",
      "Performing stepwise search to minimize aic\n",
      "2022-08-01 17:23:24.587 Created new session for ws 139819118179136. Session ID: e589c4d8-24aa-4f9c-960e-b51567f4fb13\n",
      "Performing stepwise search to minimize aic\n",
      "2022-08-01 17:23:24.588 Server state: State.ONE_OR_MORE_BROWSERS_CONNECTED -> State.ONE_OR_MORE_BROWSERS_CONNECTED\n",
      " ARIMA(1,1,0)(0,0,0)[0] intercept   : AIC=678.309, Time=1.50 sec\n",
      "2022-08-01 17:23:24.607 Received the following back message:\n",
      " ARIMA(0,1,1)(0,0,0)[0] intercept   : AIC=678.536, Time=1.22 sec\n",
      "rerun_script {\n",
      " ARIMA(1,1,0)(0,0,0)[0] intercept   : AIC=678.305, Time=1.37 sec ARIMA(0,1,1)(0,0,0)[0] intercept   : AIC=678.536, Time=1.10 sec ARIMA(0,1,1)(0,0,0)[0] intercept   : AIC=678.536, Time=1.06 sec\n",
      "  widget_states {\n",
      " ARIMA(0,1,1)(0,0,0)[0] intercept   : AIC=678.536, Time=1.13 sec\n",
      "  }\n",
      " ARIMA(0,1,0)(0,0,0)[0]             : AIC=675.594, Time=0.19 sec\n",
      "  page_script_hash: \"35481e66f796788fe604fbe7ad875685\"\n",
      "\n",
      "}\n",
      "\n",
      "\n",
      "\n",
      "2022-08-01 17:23:24.621 Beginning script thread\n",
      "Best model:  ARIMA(0,1,0)(0,0,0)[0]\n",
      "2022-08-01 17:23:24.621 Running script RerunData(query_string='', widget_states=, page_script_hash='35481e66f796788fe604fbe7ad875685', page_name='')\n",
      "Total fit time: 5.592 seconds\n",
      "2022-08-01 17:23:24.621 Disconnecting files for session with ID e589c4d8-24aa-4f9c-960e-b51567f4fb13\n",
      " ARIMA(0,1,1)(0,0,0)[0] intercept   : AIC=678.536, Time=1.13 sec ARIMA(0,1,0)(0,0,0)[0]             : AIC=675.594, Time=0.26 sec\n",
      "2022-08-01 17:23:24.621 Sessions still active: dict_keys([])\n",
      " ARIMA(0,1,0)(0,0,0)[0]             : AIC=675.594, Time=0.26 sec\n",
      "2022-08-01 17:23:24.621 Files: 0; Sessions with files: 0\n",
      "Best model:  ARIMA(0,1,0)(0,0,0)[0]\n",
      "2022-08-01 17:23:24.791 Watcher created for /home/ftp/awesome-notebooks/Streamlit/streamlit_app.py\n",
      "Total fit time: 5.591 seconds\n",
      "2022-08-01 17:23:24.791 AppSession initialized (id=f1b40386-2f35-415d-9174-e9d01180c712)\n",
      " ARIMA(0,1,1)(0,0,0)[0] intercept   : AIC=678.536, Time=1.28 sec\n",
      "2022-08-01 17:23:24.791 Created new session for ws 139818556656560. Session ID: f1b40386-2f35-415d-9174-e9d01180c712\n",
      " ARIMA(0,1,0)(0,0,0)[0]             : AIC=675.594, Time=0.22 sec\n",
      "2022-08-01 17:23:24.791 Server state: State.ONE_OR_MORE_BROWSERS_CONNECTED -> State.ONE_OR_MORE_BROWSERS_CONNECTED\n",
      "\n",
      "2022-08-01 17:23:24.842 Received the following back message:\n",
      "Best model:  ARIMA(0,1,0)(0,0,0)[0]\n",
      "rerun_script {\n",
      "Total fit time: 5.680 seconds\n",
      "  widget_states {\n",
      "\n",
      "  }\n",
      "\n",
      "  page_script_hash: \"35481e66f796788fe604fbe7ad875685\"\n",
      "Best model:  ARIMA(0,1,0)(0,0,0)[0]\n",
      "}\n",
      "Total fit time: 5.710 seconds\n",
      "\n",
      "\n",
      "2022-08-01 17:23:24.845 Beginning script thread\n",
      " ARIMA(0,1,1)(0,0,0)[0] intercept   : AIC=678.536, Time=1.17 sec\n",
      "2022-08-01 17:23:24.846 Running script RerunData(query_string='', widget_states=, page_script_hash='35481e66f796788fe604fbe7ad875685', page_name='')\n",
      " ARIMA(0,1,0)(0,0,0)[0]             : AIC=675.594, Time=0.19 sec\n",
      "2022-08-01 17:23:24.846 Disconnecting files for session with ID f1b40386-2f35-415d-9174-e9d01180c712\n",
      "\n",
      "2022-08-01 17:23:24.846 Sessions still active: dict_keys([])\n",
      "Best model:  ARIMA(0,1,0)(0,0,0)[0]\n",
      "2022-08-01 17:23:24.846 Files: 0; Sessions with files: 0\n",
      "Total fit time: 5.882 seconds\n",
      "2022-08-01 17:23:24.986 Watcher created for /home/ftp/awesome-notebooks/Streamlit/streamlit_app.py\n",
      " ARIMA(0,1,0)(0,0,0)[0]             : AIC=675.594, Time=0.15 sec\n",
      "2022-08-01 17:23:24.987 AppSession initialized (id=20c78352-8a6c-47a8-a17a-7751bfb91028)\n",
      "\n",
      "2022-08-01 17:23:24.987 Created new session for ws 139818513753616. Session ID: 20c78352-8a6c-47a8-a17a-7751bfb91028\n",
      "Best model:  ARIMA(0,1,0)(0,0,0)[0]\n",
      "2022-08-01 17:23:24.987 Server state: State.ONE_OR_MORE_BROWSERS_CONNECTED -> State.ONE_OR_MORE_BROWSERS_CONNECTED\n",
      "Total fit time: 5.934 seconds\n",
      "2022-08-01 17:23:25.002 Received the following back message:\n",
      " ARIMA(0,1,0)(0,0,0)[0]             : AIC=675.594, Time=0.10 sec\n",
      "rerun_script {\n",
      "\n",
      "  widget_states {\n",
      "Best model:  ARIMA(0,1,0)(0,0,0)[0]\n",
      "  }\n",
      "Total fit time: 6.005 seconds\n",
      "  page_script_hash: \"35481e66f796788fe604fbe7ad875685\"\n",
      " ARIMA(0,1,1)(0,0,0)[0] intercept   : AIC=678.533, Time=1.57 sec\n",
      "}\n",
      " ARIMA(0,1,0)(0,0,0)[0]             : AIC=675.592, Time=0.29 sec\n",
      "\n",
      "\n",
      "2022-08-01 17:23:25.009 Beginning script thread\n",
      "Best model:  ARIMA(0,1,0)(0,0,0)[0]\n",
      "2022-08-01 17:23:25.021 Running script RerunData(query_string='', widget_states=, page_script_hash='35481e66f796788fe604fbe7ad875685', page_name='')\n",
      "Total fit time: 6.541 seconds\n",
      "2022-08-01 17:23:25.021 Disconnecting files for session with ID 20c78352-8a6c-47a8-a17a-7751bfb91028\n",
      " ARIMA(1,1,1)(0,0,0)[0] intercept   : AIC=679.610, Time=3.48 sec\n",
      "2022-08-01 17:23:25.021 Sessions still active: dict_keys([])\n",
      " ARIMA(1,1,1)(0,0,0)[0] intercept   : AIC=679.610, Time=3.65 sec\n",
      "2022-08-01 17:23:25.021 Files: 0; Sessions with files: 0\n",
      " ARIMA(0,1,0)(0,0,0)[0] intercept   : AIC=677.501, Time=0.17 sec\n",
      "2022-08-01 17:23:25.096 Watcher created for /home/ftp/awesome-notebooks/Streamlit/streamlit_app.py\n",
      " ARIMA(0,1,0)(0,0,0)[0] intercept   : AIC=677.501, Time=0.08 sec\n",
      "2022-08-01 17:23:25.096 AppSession initialized (id=50a93776-505f-4ff2-bb41-1786b9191d36)\n",
      " ARIMA(1,1,0)(0,0,0)[0] intercept   : AIC=678.310, Time=0.33 sec\n",
      "2022-08-01 17:23:25.096 Created new session for ws 139818501437808. Session ID: 50a93776-505f-4ff2-bb41-1786b9191d36\n",
      " ARIMA(1,1,0)(0,0,0)[0] intercept   : AIC=678.310, Time=0.35 sec\n",
      "2022-08-01 17:23:25.096 Server state: State.ONE_OR_MORE_BROWSERS_CONNECTED -> State.ONE_OR_MORE_BROWSERS_CONNECTED\n",
      " ARIMA(0,1,1)(0,0,0)[0] intercept   : AIC=678.538, Time=0.60 sec\n",
      "2022-08-01 17:23:25.123 Received the following back message:\n",
      " ARIMA(0,1,0)(0,0,0)[0]             : AIC=675.595, Time=0.16 sec\n",
      "rerun_script {\n",
      "\n",
      "  widget_states {\n",
      "Best model:  ARIMA(0,1,0)(0,0,0)[0]\n",
      "  }\n",
      "Total fit time: 5.074 seconds\n",
      "  page_script_hash: \"35481e66f796788fe604fbe7ad875685\"\n",
      " ARIMA(0,1,1)(0,0,0)[0] intercept   : AIC=678.538, Time=0.86 sec\n",
      "}\n",
      " ARIMA(0,1,0)(0,0,0)[0]             : AIC=675.595, Time=0.12 sec\n",
      "\n",
      "\n",
      "2022-08-01 17:23:25.135 Beginning script thread\n",
      "Best model:  ARIMA(0,1,0)(0,0,0)[0]\n",
      "2022-08-01 17:23:25.135 Running script RerunData(query_string='', widget_states=, page_script_hash='35481e66f796788fe604fbe7ad875685', page_name='')\n",
      "Total fit time: 5.427 seconds\n",
      "2022-08-01 17:23:25.136 Disconnecting files for session with ID 50a93776-505f-4ff2-bb41-1786b9191d36\n"
     ]
    }
   ],
   "source": [
    "streamlit.add(\"streamlit_app.py\", port=9999, debug=True)"
   ]
  },
  {
   "cell_type": "code",
   "execution_count": null,
   "id": "f95a700c-443d-43ac-bf47-c8605757b79a",
   "metadata": {
    "papermill": {},
    "tags": []
   },
   "outputs": [],
   "source": []
  }
 ],
 "metadata": {
  "kernelspec": {
   "display_name": "Python 3",
   "language": "python",
   "name": "python3"
  },
  "language_info": {
   "codemirror_mode": {
    "name": "ipython",
    "version": 3
   },
   "file_extension": ".py",
   "mimetype": "text/x-python",
   "name": "python",
   "nbconvert_exporter": "python",
   "pygments_lexer": "ipython3",
   "version": "3.9.6"
  },
  "naas": {
   "notebook_id": "a4661997-32fa-4037-8a01-5acd80f44454",
   "notebook_path": "Streamlit/Streamlit_Create_prediction_app.ipynb"
  },
  "papermill": {
   "default_parameters": {},
   "environment_variables": {},
   "parameters": {},
   "version": "2.3.3"
  },
  "widgets": {
   "application/vnd.jupyter.widget-state+json": {
    "state": {},
    "version_major": 2,
    "version_minor": 0
   }
  }
 },
 "nbformat": 4,
 "nbformat_minor": 5
}
