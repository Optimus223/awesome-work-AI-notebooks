{
 "cells": [
  {
   "cell_type": "markdown",
   "id": "tropical-breakfast",
   "metadata": {
    "papermill": {},
    "tags": []
   },
   "source": [
    "<img width=\"10%\" alt=\"Naas\" src=\"https://landen.imgix.net/jtci2pxwjczr/assets/5ice39g4.png?w=160\"/>"
   ]
  },
  {
   "cell_type": "markdown",
   "id": "danish-allergy",
   "metadata": {
    "papermill": {},
    "tags": []
   },
   "source": [
    "# Excel - Read file\n",
    "<a href=\"https://app.naas.ai/user-redirect/naas/downloader?url=https://raw.githubusercontent.com/jupyter-naas/awesome-notebooks/master/Excel/Excel_Read_file.ipynb\" target=\"_parent\"><img src=\"https://naasai-public.s3.eu-west-3.amazonaws.com/open_in_naas.svg\"/></a>"
   ]
  },
  {
   "cell_type": "markdown",
   "id": "978e5e32-8839-4b39-abb7-f5e8bda9f313",
   "metadata": {
    "papermill": {},
    "tags": []
   },
   "source": [
    "**Tags:** #excel #pandas #read"
   ]
  },
  {
   "cell_type": "markdown",
   "id": "surgical-birmingham",
   "metadata": {
    "papermill": {},
    "tags": []
   },
   "source": [
    "## Read file 1 "
   ]
  },
  {
   "cell_type": "code",
   "execution_count": 1,
   "id": "hawaiian-consortium",
   "metadata": {
    "execution": {
     "iopub.execute_input": "2021-01-26T14:47:55.684883Z",
     "iopub.status.busy": "2021-01-26T14:47:55.684607Z",
     "iopub.status.idle": "2021-01-26T14:47:57.921894Z",
     "shell.execute_reply": "2021-01-26T14:47:57.921351Z",
     "shell.execute_reply.started": "2021-01-26T14:47:55.684817Z"
    },
    "papermill": {},
    "tags": []
   },
   "outputs": [],
   "source": [
    "import pandas as pd \n",
    "\n",
    "data1 = pd.read_excel(\"Excel-Sales_Jan2020.xlsx\")\n",
    "data1"
   ]
  },
  {
   "cell_type": "markdown",
   "id": "expired-target",
   "metadata": {
    "papermill": {},
    "tags": []
   },
   "source": [
    "## Read file 2"
   ]
  },
  {
   "cell_type": "code",
   "execution_count": 4,
   "id": "agreed-correspondence",
   "metadata": {
    "papermill": {},
    "tags": []
   },
   "outputs": [],
   "source": [
    "data2 = pd.read_excel(\"Excel-Sales_Feb2020.xlsx\")\n",
    "data2"
   ]
  },
  {
   "cell_type": "markdown",
   "id": "empirical-encyclopedia",
   "metadata": {
    "papermill": {},
    "tags": []
   },
   "source": [
    "## Consolidate files"
   ]
  },
  {
   "cell_type": "code",
   "execution_count": 5,
   "id": "central-puppy",
   "metadata": {
    "papermill": {},
    "tags": []
   },
   "outputs": [],
   "source": [
    "data = pd.concat([data1,data2],axis=0)\n",
    "data"
   ]
  },
  {
   "cell_type": "markdown",
   "id": "appropriate-roommate",
   "metadata": {
    "papermill": {},
    "tags": []
   },
   "source": [
    "## Export consolidated file "
   ]
  },
  {
   "cell_type": "code",
   "execution_count": 6,
   "id": "bored-quantum",
   "metadata": {
    "papermill": {},
    "tags": []
   },
   "outputs": [],
   "source": [
    "data.to_excel(\"Conso.xlsx\")"
   ]
  },
  {
   "cell_type": "markdown",
   "id": "chief-folks",
   "metadata": {
    "execution": {
     "iopub.execute_input": "2021-01-26T14:49:22.992682Z",
     "iopub.status.busy": "2021-01-26T14:49:22.992460Z",
     "iopub.status.idle": "2021-01-26T14:49:22.995432Z",
     "shell.execute_reply": "2021-01-26T14:49:22.994789Z",
     "shell.execute_reply.started": "2021-01-26T14:49:22.992660Z"
    },
    "papermill": {},
    "tags": []
   },
   "source": [
    "## Create a shareable link"
   ]
  },
  {
   "cell_type": "code",
   "execution_count": 9,
   "id": "international-reminder",
   "metadata": {
    "papermill": {},
    "tags": []
   },
   "outputs": [],
   "source": [
    "import naas \n",
    "\n",
    "naas.assets.add(\"Conso.xlsx\")"
   ]
  },
  {
   "cell_type": "code",
   "execution_count": null,
   "id": "surgical-officer",
   "metadata": {
    "papermill": {},
    "tags": []
   },
   "outputs": [],
   "source": []
  }
 ],
 "metadata": {
  "kernelspec": {
   "display_name": "Python 3",
   "language": "python",
   "name": "python3"
  },
  "language_info": {
   "codemirror_mode": {
    "name": "ipython",
    "version": 3
   },
   "file_extension": ".py",
   "mimetype": "text/x-python",
   "name": "python",
   "nbconvert_exporter": "python",
   "pygments_lexer": "ipython3",
   "version": "3.8.8"
  },
  "papermill": {
   "default_parameters": {},
   "environment_variables": {},
   "parameters": {},
   "version": "2.3.3"
  }
 },
 "nbformat": 4,
 "nbformat_minor": 5
}