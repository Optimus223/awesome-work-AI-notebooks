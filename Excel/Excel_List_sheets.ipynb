{
 "cells": [
  {
   "cell_type": "markdown",
   "id": "0d60302d-35f4-4c28-b347-47972ee784cb",
   "metadata": {
    "papermill": {},
    "tags": []
   },
   "source": [
    "<img width=\"10%\" alt=\"Naas\" src=\"https://landen.imgix.net/jtci2pxwjczr/assets/5ice39g4.png?w=160\"/>"
   ]
  },
  {
   "cell_type": "markdown",
   "id": "05d428eb-d6c7-44b1-b7dc-c0558ec649a1",
   "metadata": {
    "papermill": {},
    "tags": []
   },
   "source": [
    "# Excel - List sheets"
   ]
  },
  {
   "cell_type": "markdown",
   "id": "a459f7e3-b4ce-4817-b5bb-5db5997ecf47",
   "metadata": {
    "papermill": {},
    "tags": []
   },
   "source": [
    "**Tags:** #excel #list #sheets #python #data #analysis"
   ]
  },
  {
   "cell_type": "markdown",
   "id": "0acaf015-e098-4137-ae05-5637ae303ab1",
   "metadata": {
    "papermill": {},
    "tags": []
   },
   "source": [
    "**Author:** [Florent Ravenel](http://linkedin.com/in/florent-ravenel)"
   ]
  },
  {
   "cell_type": "markdown",
   "id": "cd3aa444-1a0b-40f4-b452-735e7efc7bab",
   "metadata": {
    "papermill": {},
    "tags": []
   },
   "source": [
    "**Description:** This notebook will list the sheet's name in an Excel file."
   ]
  },
  {
   "cell_type": "markdown",
   "id": "7652ddc6-2bc2-483c-8a14-69e310af1464",
   "metadata": {
    "papermill": {},
    "tags": []
   },
   "source": [
    "**References:**\n- [Python openpyxl](https://openpyxl.readthedocs.io/en/stable/)\n- [Python xlrd](https://xlrd.readthedocs.io/en/latest/)"
   ]
  },
  {
   "cell_type": "markdown",
   "id": "288da4ee-9dce-4f0c-9076-540ed62d5f59",
   "metadata": {
    "papermill": {},
    "tags": []
   },
   "source": [
    "## Input"
   ]
  },
  {
   "cell_type": "markdown",
   "id": "c0b905f7-4c08-4c73-b08c-1f7e1fdc355f",
   "metadata": {
    "papermill": {},
    "tags": []
   },
   "source": [
    "### Import libraries"
   ]
  },
  {
   "cell_type": "code",
   "execution_count": null,
   "id": "c5e4d63d-ec12-40f3-af26-388df6492d4c",
   "metadata": {
    "papermill": {},
    "tags": []
   },
   "source": "import openpyxl\nimport xlrd",
   "outputs": []
  },
  {
   "cell_type": "markdown",
   "id": "86fe170f-13d7-4a9c-8b68-31ebfeb76545",
   "metadata": {
    "papermill": {},
    "tags": []
   },
   "source": [
    "### Setup Variables\n- `file_name`: name of the Excel file"
   ]
  },
  {
   "cell_type": "code",
   "execution_count": null,
   "id": "0ee7c1ec-eae9-4072-97c5-5dd4e14350ea",
   "metadata": {
    "papermill": {},
    "tags": []
   },
   "source": "file_name = \"example.xlsx\"",
   "outputs": []
  },
  {
   "cell_type": "markdown",
   "id": "6cb01280-58e7-4d38-9d5c-47c0ab503362",
   "metadata": {
    "papermill": {},
    "tags": []
   },
   "source": [
    "## Model"
   ]
  },
  {
   "cell_type": "markdown",
   "id": "4b63e537-4a70-4ca1-b522-aea306b3fddc",
   "metadata": {
    "papermill": {},
    "tags": []
   },
   "source": [
    "### List sheets"
   ]
  },
  {
   "cell_type": "markdown",
   "id": "4bab1e58-a30f-4841-97ec-b6e78925ec3f",
   "metadata": {
    "papermill": {},
    "tags": []
   },
   "source": [
    "Long description of the function: This function will list the sheet's name in an Excel file."
   ]
  },
  {
   "cell_type": "code",
   "execution_count": null,
   "id": "332e516c-7a08-4e7d-9d04-5aef6f072d82",
   "metadata": {
    "papermill": {},
    "tags": []
   },
   "source": "# Open the Excel file\nworkbook = xlrd.open_workbook(file_name)\n# List the sheet's name\nsheet_names = workbook.sheet_names()\n# Print the sheet's name\nfor sheet_name in sheet_names:\n    print(sheet_name)",
   "outputs": []
  },
  {
   "cell_type": "markdown",
   "id": "ce502ca3-b97b-4050-89e4-0affc33af600",
   "metadata": {
    "papermill": {},
    "tags": []
   },
   "source": [
    "## Output"
   ]
  },
  {
   "cell_type": "markdown",
   "id": "44bde090-e243-4d0b-ae7a-e9ccba3bd651",
   "metadata": {
    "papermill": {},
    "tags": []
   },
   "source": [
    "### Display result"
   ]
  },
  {
   "cell_type": "code",
   "execution_count": null,
   "id": "ec9f5332-2c04-4e37-8802-f83a502b05b0",
   "metadata": {
    "papermill": {},
    "tags": []
   },
   "source": "print(sheet_names)",
   "outputs": []
  },
  {
   "cell_type": "markdown",
   "id": "7c4d4da9-ea96-4a3e-b6ab-71e57b24bddd",
   "metadata": {
    "papermill": {},
    "tags": []
   },
   "source": [
    " "
   ]
  }
 ],
 "metadata": {
  "kernelspec": {
   "display_name": "Python 3",
   "language": "python",
   "name": "python3"
  },
  "language_info": {
   "codemirror_mode": {
    "name": "ipython",
    "version": 3
   },
   "file_extension": ".py",
   "mimetype": "text/x-python",
   "name": "python",
   "nbconvert_exporter": "python",
   "pygments_lexer": "ipython3",
   "version": "3.9.6"
  },
  "widgets": {
   "application/vnd.jupyter.widget-state+json": {
    "state": {},
    "version_major": 2,
    "version_minor": 0
   }
  }
 },
 "nbformat": 4,
 "nbformat_minor": 5
}