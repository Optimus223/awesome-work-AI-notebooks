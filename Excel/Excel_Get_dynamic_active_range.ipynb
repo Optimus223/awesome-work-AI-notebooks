{
 "cells": [
  {
   "cell_type": "markdown",
   "id": "latin-packing",
   "metadata": {
    "execution": {
     "iopub.execute_input": "2021-02-23T14:22:16.610471Z",
     "iopub.status.busy": "2021-02-23T14:22:16.610129Z",
     "iopub.status.idle": "2021-02-23T14:22:16.627784Z",
     "shell.execute_reply": "2021-02-23T14:22:16.626866Z",
     "shell.execute_reply.started": "2021-02-23T14:22:16.610384Z"
    },
    "papermill": {},
    "tags": []
   },
   "source": [
    "<img width=\"10%\" alt=\"Naas\" src=\"https://landen.imgix.net/jtci2pxwjczr/assets/5ice39g4.png?w=160\"/>"
   ]
  },
  {
   "cell_type": "markdown",
   "id": "compressed-wilson",
   "metadata": {
    "papermill": {},
    "tags": []
   },
   "source": [
    "# Excel - Get dynamic active range\n",
    "<a href=\"https://app.naas.ai/user-redirect/naas/downloader?url=https://raw.githubusercontent.com/jupyter-naas/awesome-notebooks/master/template.ipynb\" target=\"_parent\">\n",
    "<img src=\"https://img.shields.io/badge/-Open%20in%20Naas-success?labelColor=000000&logo=data:image/svg+xml;base64,PD94bWwgdmVyc2lvbj0iMS4wIiBlbmNvZGluZz0iVVRGLTgiPz4KPHN2ZyB3aWR0aD0iMTAyNHB4IiBoZWlnaHQ9IjEwMjRweCIgdmlld0JveD0iMCAwIDEwMjQgMTAyNCIgeG1sbnM9Imh0dHA6Ly93d3cudzMub3JnLzIwMDAvc3ZnIiB4bWxuczp4bGluaz0iaHR0cDovL3d3dy53My5vcmcvMTk5OS94bGluayIgdmVyc2lvbj0iMS4xIj4KIDwhLS0gR2VuZXJhdGVkIGJ5IFBpeGVsbWF0b3IgUHJvIDIuMC41IC0tPgogPGRlZnM+CiAgPHRleHQgaWQ9InN0cmluZyIgdHJhbnNmb3JtPSJtYXRyaXgoMS4wIDAuMCAwLjAgMS4wIDIyOC4wIDU0LjUpIiBmb250LWZhbWlseT0iQ29tZm9ydGFhLVJlZ3VsYXIsIENvbWZvcnRhYSIgZm9udC1zaXplPSI4MDAiIHRleHQtZGVjb3JhdGlvbj0ibm9uZSIgZmlsbD0iI2ZmZmZmZiIgeD0iMS4xOTk5OTk5OTk5OTk5ODg2IiB5PSI3MDUuMCI+bjwvdGV4dD4KIDwvZGVmcz4KIDx1c2UgaWQ9Im4iIHhsaW5rOmhyZWY9IiNzdHJpbmciLz4KPC9zdmc+Cg==\"/>\n",
    "</a>"
   ]
  },
  {
   "cell_type": "markdown",
   "id": "religious-programmer",
   "metadata": {},
   "source": [
    "**Tags:** #excel #openpyxl #active-range"
   ]
  },
  {
   "cell_type": "markdown",
   "id": "2a291197-14ba-4e65-95d0-7389081c7036",
   "metadata": {},
   "source": [
    "**Author:** [Florent Ravenel](https://www.linkedin.com/in/ACoAABCNSioBW3YZHc2lBHVG0E_TXYWitQkmwog/)"
   ]
  },
  {
   "cell_type": "markdown",
   "id": "distinguished-truth",
   "metadata": {
    "papermill": {},
    "tags": []
   },
   "source": [
    "## Input"
   ]
  },
  {
   "cell_type": "markdown",
   "id": "numeric-mediterranean",
   "metadata": {},
   "source": [
    "### Import libraries"
   ]
  },
  {
   "cell_type": "code",
   "execution_count": 4,
   "id": "potential-surfing",
   "metadata": {
    "execution": {
     "iopub.execute_input": "2022-02-24T08:42:31.044171Z",
     "iopub.status.busy": "2022-02-24T08:42:31.043826Z",
     "iopub.status.idle": "2022-02-24T08:42:31.047187Z",
     "shell.execute_reply": "2022-02-24T08:42:31.046671Z",
     "shell.execute_reply.started": "2022-02-24T08:42:31.044136Z"
    },
    "tags": []
   },
   "outputs": [],
   "source": [
    "from openpyxl import load_workbook\n",
    "from openpyxl.utils import get_column_letter"
   ]
  },
  {
   "cell_type": "markdown",
   "id": "f602b6d3-91df-4be8-a555-2f51b7391c38",
   "metadata": {},
   "source": [
    "### Setup your Excel parameters"
   ]
  },
  {
   "cell_type": "code",
   "execution_count": 5,
   "id": "9fffaceb-bbbe-4e8a-bc87-46fc53fd2245",
   "metadata": {
    "execution": {
     "iopub.execute_input": "2022-02-24T08:42:32.265412Z",
     "iopub.status.busy": "2022-02-24T08:42:32.265122Z",
     "iopub.status.idle": "2022-02-24T08:42:32.268688Z",
     "shell.execute_reply": "2022-02-24T08:42:32.267972Z",
     "shell.execute_reply.started": "2022-02-24T08:42:32.265381Z"
    },
    "tags": []
   },
   "outputs": [],
   "source": [
    "excel_path = \"Excel_Template.xlsx\""
   ]
  },
  {
   "cell_type": "markdown",
   "id": "registered-showcase",
   "metadata": {},
   "source": [
    "## Model"
   ]
  },
  {
   "cell_type": "markdown",
   "id": "aggressive-trustee",
   "metadata": {},
   "source": [
    "### Load Excel file and get active ws object"
   ]
  },
  {
   "cell_type": "code",
   "execution_count": 6,
   "id": "continuous-melbourne",
   "metadata": {
    "execution": {
     "iopub.execute_input": "2022-02-24T08:42:34.257051Z",
     "iopub.status.busy": "2022-02-24T08:42:34.256774Z",
     "iopub.status.idle": "2022-02-24T08:42:34.314377Z",
     "shell.execute_reply": "2022-02-24T08:42:34.313708Z",
     "shell.execute_reply.started": "2022-02-24T08:42:34.257023Z"
    },
    "tags": []
   },
   "outputs": [
    {
     "data": {
      "text/plain": [
       "<Worksheet \"Template\">"
      ]
     },
     "execution_count": 6,
     "metadata": {},
     "output_type": "execute_result"
    }
   ],
   "source": [
    "wb = load_workbook(excel_path)\n",
    "ws = wb.active\n",
    "ws"
   ]
  },
  {
   "cell_type": "markdown",
   "id": "tested-astrology",
   "metadata": {},
   "source": [
    "### Get active range"
   ]
  },
  {
   "cell_type": "code",
   "execution_count": 10,
   "id": "a75cce02-041f-4baa-9def-98725e3a8933",
   "metadata": {
    "execution": {
     "iopub.execute_input": "2022-02-24T08:43:35.837106Z",
     "iopub.status.busy": "2022-02-24T08:43:35.836825Z",
     "iopub.status.idle": "2022-02-24T08:43:35.841465Z",
     "shell.execute_reply": "2022-02-24T08:43:35.840730Z",
     "shell.execute_reply.started": "2022-02-24T08:43:35.837077Z"
    },
    "tags": []
   },
   "outputs": [],
   "source": [
    "def get_active_range(ws):\n",
    "    max_row = ws.max_row\n",
    "    max_col = get_column_letter(ws.max_column)\n",
    "    active_range = f\"A1:{max_col}{max_row}\"\n",
    "    return active_range\n",
    "\n",
    "active_range = get_active_range(ws)"
   ]
  },
  {
   "cell_type": "markdown",
   "id": "lonely-pacific",
   "metadata": {
    "execution": {
     "iopub.execute_input": "2021-07-02T23:32:10.789097Z",
     "iopub.status.busy": "2021-07-02T23:32:10.788829Z",
     "iopub.status.idle": "2021-07-02T23:32:10.796900Z",
     "shell.execute_reply": "2021-07-02T23:32:10.796358Z",
     "shell.execute_reply.started": "2021-07-02T23:32:10.789033Z"
    }
   },
   "source": [
    "## Output"
   ]
  },
  {
   "cell_type": "markdown",
   "id": "linear-address",
   "metadata": {},
   "source": [
    "### Display result"
   ]
  },
  {
   "cell_type": "code",
   "execution_count": 11,
   "id": "offensive-poetry",
   "metadata": {
    "execution": {
     "iopub.execute_input": "2022-02-24T08:43:36.616903Z",
     "iopub.status.busy": "2022-02-24T08:43:36.616596Z",
     "iopub.status.idle": "2022-02-24T08:43:36.621159Z",
     "shell.execute_reply": "2022-02-24T08:43:36.620605Z",
     "shell.execute_reply.started": "2022-02-24T08:43:36.616872Z"
    },
    "tags": []
   },
   "outputs": [
    {
     "data": {
      "text/plain": [
       "'A1:M54'"
      ]
     },
     "execution_count": 11,
     "metadata": {},
     "output_type": "execute_result"
    }
   ],
   "source": [
    "active_range"
   ]
  },
  {
   "cell_type": "code",
   "execution_count": null,
   "id": "c2edfc2c-c0d7-4cec-a4aa-c9f9fccbfacb",
   "metadata": {},
   "outputs": [],
   "source": []
  }
 ],
 "metadata": {
  "kernelspec": {
   "display_name": "Python 3",
   "language": "python",
   "name": "python3"
  },
  "language_info": {
   "codemirror_mode": {
    "name": "ipython",
    "version": 3
   },
   "file_extension": ".py",
   "mimetype": "text/x-python",
   "name": "python",
   "nbconvert_exporter": "python",
   "pygments_lexer": "ipython3",
   "version": "3.9.6"
  },
  "papermill": {
   "default_parameters": {},
   "environment_variables": {},
   "parameters": {},
   "version": "2.3.3"
  },
  "widgets": {
   "application/vnd.jupyter.widget-state+json": {
    "state": {},
    "version_major": 2,
    "version_minor": 0
   }
  }
 },
 "nbformat": 4,
 "nbformat_minor": 5
}
