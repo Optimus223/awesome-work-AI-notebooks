{
 "cells": [
  {
   "cell_type": "markdown",
   "id": "latin-packing",
   "metadata": {
    "execution": {
     "iopub.execute_input": "2021-02-23T14:22:16.610471Z",
     "iopub.status.busy": "2021-02-23T14:22:16.610129Z",
     "iopub.status.idle": "2021-02-23T14:22:16.627784Z",
     "shell.execute_reply": "2021-02-23T14:22:16.626866Z",
     "shell.execute_reply.started": "2021-02-23T14:22:16.610384Z"
    },
    "papermill": {},
    "tags": []
   },
   "source": [
    "<img width=\"10%\" alt=\"Naas\" src=\"https://landen.imgix.net/jtci2pxwjczr/assets/5ice39g4.png?w=160\"/>"
   ]
  },
  {
   "cell_type": "markdown",
   "id": "compressed-wilson",
   "metadata": {
    "papermill": {},
    "tags": []
   },
   "source": [
    "# Tool - Action of the notebook\n",
    "<a href=\"https://app.naas.ai/user-redirect/naas/downloader?url=https://raw.githubusercontent.com/jupyter-naas/awesome-notebooks/master/template.ipynb\" target=\"_parent\">\n",
    "<img src=\"https://img.shields.io/badge/-Open%20in%20Naas-success?labelColor=000000&logo=data:image/svg+xml;base64,PD94bWwgdmVyc2lvbj0iMS4wIiBlbmNvZGluZz0iVVRGLTgiPz4KPHN2ZyB3aWR0aD0iMTAyNHB4IiBoZWlnaHQ9IjEwMjRweCIgdmlld0JveD0iMCAwIDEwMjQgMTAyNCIgeG1sbnM9Imh0dHA6Ly93d3cudzMub3JnLzIwMDAvc3ZnIiB4bWxuczp4bGluaz0iaHR0cDovL3d3dy53My5vcmcvMTk5OS94bGluayIgdmVyc2lvbj0iMS4xIj4KIDwhLS0gR2VuZXJhdGVkIGJ5IFBpeGVsbWF0b3IgUHJvIDIuMC41IC0tPgogPGRlZnM+CiAgPHRleHQgaWQ9InN0cmluZyIgdHJhbnNmb3JtPSJtYXRyaXgoMS4wIDAuMCAwLjAgMS4wIDIyOC4wIDU0LjUpIiBmb250LWZhbWlseT0iQ29tZm9ydGFhLVJlZ3VsYXIsIENvbWZvcnRhYSIgZm9udC1zaXplPSI4MDAiIHRleHQtZGVjb3JhdGlvbj0ibm9uZSIgZmlsbD0iI2ZmZmZmZiIgeD0iMS4xOTk5OTk5OTk5OTk5ODg2IiB5PSI3MDUuMCI+bjwvdGV4dD4KIDwvZGVmcz4KIDx1c2UgaWQ9Im4iIHhsaW5rOmhyZWY9IiNzdHJpbmciLz4KPC9zdmc+Cg==\"/>\n",
    "</a>"
   ]
  },
  {
   "cell_type": "markdown",
   "id": "religious-programmer",
   "metadata": {},
   "source": [
    "**Tags:** #tag1 #tag2"
   ]
  },
  {
   "cell_type": "markdown",
   "id": "distinguished-truth",
   "metadata": {
    "papermill": {},
    "tags": []
   },
   "source": [
    "## Input"
   ]
  },
  {
   "cell_type": "markdown",
   "id": "numeric-mediterranean",
   "metadata": {},
   "source": [
    "### Import library"
   ]
  },
  {
   "cell_type": "code",
   "execution_count": 17,
   "id": "potential-surfing",
   "metadata": {
    "execution": {
     "iopub.execute_input": "2022-02-22T09:03:25.068625Z",
     "iopub.status.busy": "2022-02-22T09:03:25.068395Z",
     "iopub.status.idle": "2022-02-22T09:03:25.073779Z",
     "shell.execute_reply": "2022-02-22T09:03:25.073235Z",
     "shell.execute_reply.started": "2022-02-22T09:03:25.068601Z"
    },
    "tags": []
   },
   "outputs": [],
   "source": [
    "import naas_drivers\n",
    "import openpyxl\n",
    "from decimal import*\n",
    "from openpyxl import Workbook, load_workbook\n",
    "from openpyxl.styles import Color, Fill\n",
    "from openpyxl.cell import Cell\n",
    "from openpyxl.styles import Color, PatternFill, Font, Border\n",
    "from openpyxl.styles.borders import Border, Side\n",
    "from openpyxl import formatting, styles"
   ]
  },
  {
   "cell_type": "markdown",
   "id": "aggressive-trustee",
   "metadata": {},
   "source": [
    "### Lecture fichier Excel"
   ]
  },
  {
   "cell_type": "code",
   "execution_count": 18,
   "id": "continuous-melbourne",
   "metadata": {
    "execution": {
     "iopub.execute_input": "2022-02-22T09:03:26.268796Z",
     "iopub.status.busy": "2022-02-22T09:03:26.268548Z",
     "iopub.status.idle": "2022-02-22T09:03:26.340106Z",
     "shell.execute_reply": "2022-02-22T09:03:26.339194Z",
     "shell.execute_reply.started": "2022-02-22T09:03:26.268764Z"
    },
    "tags": []
   },
   "outputs": [],
   "source": [
    "# Lecture du fichier Excel avec la fonction \"load_workbook\"\n",
    "wb=load_workbook('TEMPLATE_BRUTE.xlsx')\n",
    "ws = wb.active"
   ]
  },
  {
   "cell_type": "markdown",
   "id": "registered-showcase",
   "metadata": {},
   "source": [
    "## Model"
   ]
  },
  {
   "cell_type": "markdown",
   "id": "tested-astrology",
   "metadata": {},
   "source": [
    "### Function"
   ]
  },
  {
   "cell_type": "code",
   "execution_count": 19,
   "id": "crude-louisville",
   "metadata": {
    "execution": {
     "iopub.execute_input": "2022-02-22T09:03:28.269111Z",
     "iopub.status.busy": "2022-02-22T09:03:28.268844Z",
     "iopub.status.idle": "2022-02-22T09:03:28.301514Z",
     "shell.execute_reply": "2022-02-22T09:03:28.300944Z",
     "shell.execute_reply.started": "2022-02-22T09:03:28.269086Z"
    },
    "papermill": {},
    "tags": []
   },
   "outputs": [],
   "source": [
    "#Définition des fonctons à appliquer à notre tableau Excel\n",
    "Police = Font(name='Arial', bold = False, color = '000000', size = '11')\n",
    "Fond_noir = PatternFill(start_color='000000',\n",
    "                   end_color='000000',\n",
    "                   fill_type= 'solid' )\n",
    "Fond_vert = PatternFill(start_color='00CCFFCC',\n",
    "                   end_color='00CCFFCC',\n",
    "                   fill_type= 'solid' )\n",
    "Entête = Font(name='Arial', bold = True, color = '00FFFFFF', size = '11', )\n",
    "Bordure = Border(left=Side(border_style='thin', color='000000'), right=Side(border_style='thin',color='000000'),\n",
    "                top=Side(border_style='thin', color='000000'),bottom=Side(border_style='thin',color='000000'))\n",
    "\n",
    "# Application des fonctions \"police + bordure\"\n",
    "cell_range = ws[\"A1:M54\"]\n",
    "for row in cell_range:\n",
    "    for cell in row:\n",
    "        cell.font = Police\n",
    "        cell.border = Bordure\n",
    "\n",
    "# Application du séparateur de millier   \n",
    "cell_range = ws[\"B2:M54\"]\n",
    "for row in cell_range:\n",
    "    for cell in row:\n",
    "        cell.number_format = '#,##0' \n",
    "        \n",
    "# Mise en forme du background en noir du Header\n",
    "for cell in ws[\"1:1\"]:    \n",
    "    cell.fill = Fond_noir\n",
    "    \n",
    "# Mise en forme du background en vert \n",
    "for cell in ws[\"54:54\"]:    \n",
    "    cell.fill = Fond_vert\n",
    "    \n",
    "# Mise en forme de la police du Header\n",
    "for cell in ws[\"1:1\"]:    \n",
    "    cell.font = Entête"
   ]
  },
  {
   "cell_type": "markdown",
   "id": "lonely-pacific",
   "metadata": {
    "execution": {
     "iopub.execute_input": "2021-07-02T23:32:10.789097Z",
     "iopub.status.busy": "2021-07-02T23:32:10.788829Z",
     "iopub.status.idle": "2021-07-02T23:32:10.796900Z",
     "shell.execute_reply": "2021-07-02T23:32:10.796358Z",
     "shell.execute_reply.started": "2021-07-02T23:32:10.789033Z"
    }
   },
   "source": [
    "## Output"
   ]
  },
  {
   "cell_type": "markdown",
   "id": "linear-address",
   "metadata": {},
   "source": [
    "### Display result"
   ]
  },
  {
   "cell_type": "code",
   "execution_count": 20,
   "id": "offensive-poetry",
   "metadata": {
    "execution": {
     "iopub.execute_input": "2022-02-22T09:03:33.324690Z",
     "iopub.status.busy": "2022-02-22T09:03:33.324459Z",
     "iopub.status.idle": "2022-02-22T09:03:33.361338Z",
     "shell.execute_reply": "2022-02-22T09:03:33.360356Z",
     "shell.execute_reply.started": "2022-02-22T09:03:33.324666Z"
    },
    "tags": []
   },
   "outputs": [],
   "source": [
    "# Enregistrement définitf du tableau final\n",
    "wb.save(\" TABLEAU_FINAL \" + \".xlsx\")"
   ]
  }
 ],
 "metadata": {
  "kernelspec": {
   "display_name": "Python 3",
   "language": "python",
   "name": "python3"
  },
  "language_info": {
   "codemirror_mode": {
    "name": "ipython",
    "version": 3
   },
   "file_extension": ".py",
   "mimetype": "text/x-python",
   "name": "python",
   "nbconvert_exporter": "python",
   "pygments_lexer": "ipython3",
   "version": "3.8.8"
  },
  "papermill": {
   "default_parameters": {},
   "environment_variables": {},
   "parameters": {},
   "version": "2.3.3"
  },
  "widgets": {
   "application/vnd.jupyter.widget-state+json": {
    "state": {},
    "version_major": 2,
    "version_minor": 0
   }
  }
 },
 "nbformat": 4,
 "nbformat_minor": 5
}
