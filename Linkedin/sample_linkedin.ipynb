{
 "metadata": {
  "language_info": {
   "codemirror_mode": {
    "name": "ipython",
    "version": 3
   },
   "file_extension": ".py",
   "mimetype": "text/x-python",
   "name": "python",
   "nbconvert_exporter": "python",
   "pygments_lexer": "ipython3",
   "version": 3
  },
  "orig_nbformat": 2
 },
 "nbformat": 4,
 "nbformat_minor": 2,
 "cells": [
  {
   "cell_type": "code",
   "execution_count": null,
   "metadata": {},
   "outputs": [],
   "source": [
    "from linkedin import LinkedIn"
   ]
  },
  {
   "cell_type": "code",
   "execution_count": null,
   "metadata": {},
   "outputs": [],
   "source": [
    "li = LinkedIn().connect(\"someone@gmail.com\",\"somepassword\")\n",
    "\n",
    "# Get count of connections the user have based on the urls from passed file\n",
    "data = li.get_conn_count(\"profile-urls.txt\")\n",
    "\n",
    "\n",
    "# Get profile details of the user based on the profile urls from passed file\n",
    "data = li.profile_details(\"profile-urls.txt\")\n",
    "\n",
    "# Get the likes & comments (except reply) count from the post urls in the passed file\n",
    "data = li.post_stats(\"post-urls.txt\")\n",
    "data"
   ]
  }
 ]
}