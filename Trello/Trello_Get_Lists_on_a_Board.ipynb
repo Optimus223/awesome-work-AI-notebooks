{
 "cells": [
  {
   "cell_type": "markdown",
   "id": "steady-basin",
   "metadata": {
    "papermill": {},
    "tags": []
   },
   "source": [
    "<img width=\"10%\" alt=\"Naas\" src=\"https://landen.imgix.net/jtci2pxwjczr/assets/5ice39g4.png?w=160\"/>"
   ]
  },
  {
   "cell_type": "markdown",
   "id": "undefined-victory",
   "metadata": {
    "papermill": {},
    "tags": []
   },
   "source": [
    "# Trello - Get Lists on a Board\n",
    "<a href=\"https://app.naas.ai/user-redirect/naas/downloader?url=https://raw.githubusercontent.com/jupyter-naas/awesome-notebooks/master/Trello/Trello_Get_board_data.ipynb\" target=\"_parent\"><img src=\"https://naasai-public.s3.eu-west-3.amazonaws.com/Open_in_Naas_Lab.svg\"/></a><br><br><a href=\"https://github.com/jupyter-naas/awesome-notebooks/issues/new?assignees=&labels=&template=template-request.md&title=Tool+-+Action+of+the+notebook+\">Template request</a> | <a href=\"https://github.com/jupyter-naas/awesome-notebooks/issues/new?assignees=&labels=bug&template=bug_report.md&title=Trello+-+Get+board+data:+Error+short+description\">Bug report</a> | <a href=\"https://app.naas.ai/user-redirect/naas/downloader?url=https://raw.githubusercontent.com/jupyter-naas/awesome-notebooks/master/Naas/Naas_Start_data_product.ipynb\" target=\"_parent\">Generate Data Product</a>"
   ]
  },
  {
   "cell_type": "markdown",
   "id": "08e617eb-f6d2-47be-a1fc-56c1322c065b",
   "metadata": {
    "papermill": {},
    "tags": []
   },
   "source": [
    "**Tags:** #trello #project #retrieve #snippet #operations #lists #board\n"
   ]
  },
  {
   "cell_type": "markdown",
   "id": "naas-author",
   "metadata": {
    "papermill": {},
    "tags": [
     "naas"
    ]
   },
   "source": [
    "**Author:** [Benjamin Filly](https://www.linkedin.com/in/benjamin-filly-05427727a/)\n"
   ]
  },
  {
   "cell_type": "markdown",
   "id": "ea908824-36c0-4c64-8e3b-8169ed95ea56",
   "metadata": {
    "papermill": {},
    "tags": []
   },
   "source": [
    "**Last update:** 2023-07-14 (Created: 2023-07-14)"
   ]
  },
  {
   "cell_type": "markdown",
   "id": "naas-description",
   "metadata": {
    "papermill": {},
    "tags": [
     "description"
    ]
   },
   "source": [
    "**Description:** This notebook shows how to get the Lists on a Board."
   ]
  },
  {
   "cell_type": "markdown",
   "id": "575e5c78-17a8-48b6-9244-fc1c0d996f12",
   "metadata": {},
   "source": [
    "**References:**\n",
    "- [Trello - Get Lists on a Board](https://developer.atlassian.com/cloud/trello/rest/api-group-boards/#api-boards-id-lists-get)"
   ]
  },
  {
   "cell_type": "markdown",
   "id": "input_cell",
   "metadata": {
    "papermill": {},
    "tags": []
   },
   "source": [
    "## Input"
   ]
  },
  {
   "cell_type": "markdown",
   "id": "import_cell",
   "metadata": {
    "papermill": {},
    "tags": []
   },
   "source": [
    "### Import libraries"
   ]
  },
  {
   "cell_type": "code",
   "execution_count": 1,
   "id": "supreme-westminster",
   "metadata": {
    "execution": {
     "iopub.execute_input": "2023-07-13T13:55:43.711276Z",
     "iopub.status.busy": "2023-07-13T13:55:43.710964Z",
     "iopub.status.idle": "2023-07-13T13:55:46.563633Z",
     "shell.execute_reply": "2023-07-13T13:55:46.562336Z",
     "shell.execute_reply.started": "2023-07-13T13:55:43.711206Z"
    },
    "papermill": {},
    "tags": []
   },
   "outputs": [],
   "source": [
    "import requests\n",
    "import naas"
   ]
  },
  {
   "cell_type": "markdown",
   "id": "exotic-academy",
   "metadata": {
    "papermill": {},
    "tags": []
   },
   "source": [
    "### Setup variables"
   ]
  },
  {
   "cell_type": "markdown",
   "id": "reduced-tourist",
   "metadata": {
    "papermill": {},
    "tags": []
   },
   "source": [
    "- `api_key`: Your Trello API key. [Get your API key here](https://github.com/Benjifilly/My_notebooks/wiki/How-to-obtain-an-API-key-for-Trello)\n",
    "- `force_update`: Parameters to enforce the token update\n",
    "- `board_id`: The unique identifier of the Trello board you want to work with."
   ]
  },
  {
   "cell_type": "code",
   "execution_count": 2,
   "id": "tender-albany",
   "metadata": {
    "execution": {
     "iopub.execute_input": "2023-07-13T13:55:46.565883Z",
     "iopub.status.busy": "2023-07-13T13:55:46.565390Z",
     "iopub.status.idle": "2023-07-13T13:55:46.745502Z",
     "shell.execute_reply": "2023-07-13T13:55:46.744503Z",
     "shell.execute_reply.started": "2023-07-13T13:55:46.565830Z"
    },
    "papermill": {},
    "tags": []
   },
   "outputs": [],
   "source": [
    "api_key = naas.secret.get(\"TRELLO_API_KEY\") or \"YOUR_TRELLO_API_KEY\"\n",
    "force_update = False\n",
    "board_id = \"ogBhOe9a\" #example: \"https://trello.com/b/ogBhOe9a/ultimate-to-do-list\"  "
   ]
  },
  {
   "cell_type": "markdown",
   "id": "model_cell",
   "metadata": {
    "papermill": {},
    "tags": []
   },
   "source": [
    "## Model"
   ]
  },
  {
   "cell_type": "markdown",
   "id": "0f97f2a0-976d-42c1-b9d4-3b6597ab8453",
   "metadata": {},
   "source": [
    "### Get your token\n",
    "Your Trello token will be stored on naas secret name: \"TRELLO_TOKEN\""
   ]
  },
  {
   "cell_type": "code",
   "execution_count": 3,
   "id": "96e73242-c286-4413-8d69-825ad7391584",
   "metadata": {
    "execution": {
     "iopub.execute_input": "2023-07-13T13:55:46.747765Z",
     "iopub.status.busy": "2023-07-13T13:55:46.747318Z",
     "iopub.status.idle": "2023-07-13T13:55:46.921132Z",
     "shell.execute_reply": "2023-07-13T13:55:46.920199Z",
     "shell.execute_reply.started": "2023-07-13T13:55:46.747580Z"
    }
   },
   "outputs": [],
   "source": [
    "def get_token(api_key, force_update):\n",
    "    token = naas.secret.get(\"TRELLO_TOKEN\")\n",
    "    if not token or force_update:\n",
    "        url = f\"https://trello.com/1/authorize?expiration=never&scope=read,write,account&response_type=token&key={api_key}\"\n",
    "        print(f\"🔗 Click on the URL to get your token: {url}\")\n",
    "        print(\"✅ On the authorization page, click on 'Authorize' button at the bottom of the page to proceed.\")\n",
    "        print(\"💾 Copy/Paste the token in red in the input case below\")\n",
    "        token = input(\"-> Enter your token here:\")\n",
    "        naas.secret.add(\"TRELLO_TOKEN\", token)\n",
    "    return token\n",
    "     \n",
    "token = get_token(api_key, force_update)"
   ]
  },
  {
   "cell_type": "markdown",
   "id": "c97e69d0-8851-4139-ba3b-339753fde780",
   "metadata": {},
   "source": [
    "### Retrieving lists\n",
    "Make a GET request to the Trello API to retrieve your lists"
   ]
  },
  {
   "cell_type": "code",
   "execution_count": 4,
   "id": "6ad17a5c-689b-4c43-9630-3765e3d0e239",
   "metadata": {
    "execution": {
     "iopub.execute_input": "2023-07-13T13:55:46.922870Z",
     "iopub.status.busy": "2023-07-13T13:55:46.922536Z",
     "iopub.status.idle": "2023-07-13T13:55:47.165446Z",
     "shell.execute_reply": "2023-07-13T13:55:47.164687Z",
     "shell.execute_reply.started": "2023-07-13T13:55:46.922831Z"
    },
    "tags": []
   },
   "outputs": [],
   "source": [
    "url = f\"https://api.trello.com/1/boards/{board_id}/lists?key={api_key}&token={token}\"\n",
    "response = requests.get(url)"
   ]
  },
  {
   "cell_type": "markdown",
   "id": "output_cell",
   "metadata": {
    "papermill": {},
    "tags": []
   },
   "source": [
    "## Output"
   ]
  },
  {
   "cell_type": "markdown",
   "id": "display_cell",
   "metadata": {
    "papermill": {},
    "tags": []
   },
   "source": [
    "### Display result"
   ]
  },
  {
   "cell_type": "code",
   "execution_count": 5,
   "id": "73bd6ede-4b47-465f-8c71-3d3caa3e7dce",
   "metadata": {
    "execution": {
     "iopub.execute_input": "2023-07-13T13:55:47.166980Z",
     "iopub.status.busy": "2023-07-13T13:55:47.166640Z",
     "iopub.status.idle": "2023-07-13T13:55:47.176915Z",
     "shell.execute_reply": "2023-07-13T13:55:47.176024Z",
     "shell.execute_reply.started": "2023-07-13T13:55:47.166940Z"
    },
    "tags": []
   },
   "outputs": [
    {
     "name": "stdout",
     "output_type": "stream",
     "text": [
      "📋 \u001b[1mList Title:\u001b[0m Notes / New Ideas 🗒️\n",
      "🆔 \u001b[1mList ID:\u001b[0m 649d8b3c9f796ee9d57a765d\n",
      "------------------------\n",
      "📋 \u001b[1mList Title:\u001b[0m Projects 📦\n",
      "🆔 \u001b[1mList ID:\u001b[0m 649d8b3c9f796ee9d57a765e\n",
      "------------------------\n",
      "📋 \u001b[1mList Title:\u001b[0m Today's Tasks 🎯\n",
      "🆔 \u001b[1mList ID:\u001b[0m 649d8b3c9f796ee9d57a765f\n",
      "------------------------\n",
      "📋 \u001b[1mList Title:\u001b[0m Future Tasks 📅\n",
      "🆔 \u001b[1mList ID:\u001b[0m 649d8b3c9f796ee9d57a7660\n",
      "------------------------\n",
      "📋 \u001b[1mList Title:\u001b[0m Waiting for Input ⏸️\n",
      "🆔 \u001b[1mList ID:\u001b[0m 649d8b3c9f796ee9d57a7661\n",
      "------------------------\n",
      "📋 \u001b[1mList Title:\u001b[0m Complete ✔️\n",
      "🆔 \u001b[1mList ID:\u001b[0m 649d8b3c9f796ee9d57a7662\n",
      "------------------------\n"
     ]
    }
   ],
   "source": [
    "if response.status_code == 200:\n",
    "    lists = response.json()\n",
    "    for l in lists:\n",
    "        print(\"📋 \\033[1mList Title:\\033[0m {}\".format(l['name']))\n",
    "        print(\"🆔 \\033[1mList ID:\\033[0m {}\".format(l['id']))\n",
    "        print(\"------------------------\")\n",
    "else:\n",
    "    print(\"❌ Failed to fetch lists.\")"
   ]
  }
 ],
 "metadata": {
  "kernelspec": {
   "display_name": "Python 3",
   "language": "python",
   "name": "python3"
  },
  "language_info": {
   "codemirror_mode": {
    "name": "ipython",
    "version": 3
   },
   "file_extension": ".py",
   "mimetype": "text/x-python",
   "name": "python",
   "nbconvert_exporter": "python",
   "pygments_lexer": "ipython3",
   "version": "3.9.6"
  },
  "naas": {
   "notebook_id": "236ba6113e6987e489a54a8297398d0e66d2b9ee47911ef73dc0ad23a15df7c1",
   "notebook_path": "Trello/Trello_Get_board_data.ipynb"
  },
  "papermill": {
   "default_parameters": {},
   "environment_variables": {},
   "parameters": {},
   "version": "2.3.3"
  }
 },
 "nbformat": 4,
 "nbformat_minor": 5
}
