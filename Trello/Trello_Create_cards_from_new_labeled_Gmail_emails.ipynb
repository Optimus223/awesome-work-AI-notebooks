{
 "cells": [
  {
   "cell_type": "markdown",
   "id": "22960c37-d2d0-4d55-9d6a-c5f2ab42505c",
   "metadata": {
    "papermill": {},
    "tags": []
   },
   "source": [
    "<img width=\"10%\" alt=\"Naas\" src=\"https://landen.imgix.net/jtci2pxwjczr/assets/5ice39g4.png?w=160\"/>"
   ]
  },
  {
   "cell_type": "markdown",
   "id": "b9a3067f-b2d3-4925-a0d0-d468ac6bbb5f",
   "metadata": {
    "papermill": {},
    "tags": []
   },
   "source": [
    "# Trello - Create cards from new labeled Gmail emails"
   ]
  },
  {
   "cell_type": "markdown",
   "id": "f97a9620-c4b2-40b1-9a97-fcd045c0dfb1",
   "metadata": {
    "papermill": {},
    "tags": []
   },
   "source": [
    "**Tags:** #trello #gmail #email #label #card #automation"
   ]
  },
  {
   "cell_type": "markdown",
   "id": "e9d7f86a-cb1c-4d79-b2a4-804af4072278",
   "metadata": {
    "papermill": {},
    "tags": []
   },
   "source": [
    "**Author:** [Benjamin Filly](https://www.linkedin.com/in/benjamin-filly-05427727a/)"
   ]
  },
  {
   "cell_type": "markdown",
   "id": "efcfeefd-274f-4441-ba32-a9f9fb2832da",
   "metadata": {
    "papermill": {},
    "tags": []
   },
   "source": [
    "**Last update:** 2023-10-16 (Created: 2023-10-16)"
   ]
  },
  {
   "cell_type": "markdown",
   "id": "43db7360-d277-4276-88ad-3a0fd2566c4f",
   "metadata": {
    "papermill": {},
    "tags": []
   },
   "source": [
    "**Description:** This notebook automates the process of creating Trello cards from new labeled Gmail emails. It is usefull for organization as it allows to quickly create cards from emails and assign them to the right team member."
   ]
  },
  {
   "cell_type": "markdown",
   "id": "3c1e3418-b88a-47be-a37a-24b3636397d4",
   "metadata": {
    "papermill": {},
    "tags": []
   },
   "source": [
    "**References:**\n- [Trello API Documentation](https://developers.trello.com/reference)\n- [Gmail API Documentation](https://developers.google.com/gmail/api/v1/reference/)"
   ]
  },
  {
   "cell_type": "markdown",
   "id": "fd44237a-187e-4514-a20a-271019db652c",
   "metadata": {
    "papermill": {},
    "tags": []
   },
   "source": [
    "## Input"
   ]
  },
  {
   "cell_type": "markdown",
   "id": "af79dd9f-8957-42b8-b6e4-eb1ce6b50d7f",
   "metadata": {
    "papermill": {},
    "tags": []
   },
   "source": [
    "### Import libraries"
   ]
  },
  {
   "cell_type": "code",
   "execution_count": null,
   "id": "43ab5741-3b0f-43f6-b250-843af01dbcc8",
   "metadata": {
    "papermill": {},
    "tags": []
   },
   "source": "import trello\nimport gmail",
   "outputs": []
  },
  {
   "cell_type": "markdown",
   "id": "d61e6188-fc3c-4309-89fa-933e3a132267",
   "metadata": {
    "papermill": {},
    "tags": []
   },
   "source": [
    "### Setup variables\n- **Trello API key**: [Follow this procedure to get your API key](https://developers.trello.com/reference#api-key)\n- **Trello token**: [Follow this procedure to get your token](https://developers.trello.com/reference#token)\n- **Gmail API key**: [Follow this procedure to get your API key](https://developers.google.com/gmail/api/v1/reference/users/labels/list)\n- **Gmail label**: Label of the emails to be used to create cards"
   ]
  },
  {
   "cell_type": "code",
   "execution_count": null,
   "id": "7d51a5d3-53a7-4905-acae-2982c8f10ec5",
   "metadata": {
    "papermill": {},
    "tags": []
   },
   "source": "trello_api_key = \"your_trello_api_key\"\ntrello_token = \"your_trello_token\"\ngmail_api_key = \"your_gmail_api_key\"\ngmail_label = \"your_gmail_label\"",
   "outputs": []
  },
  {
   "cell_type": "markdown",
   "id": "a4f58d09-c805-4512-bc4e-979a26ac8fd3",
   "metadata": {
    "papermill": {},
    "tags": []
   },
   "source": [
    "## Model"
   ]
  },
  {
   "cell_type": "markdown",
   "id": "1eba34ca-eb92-4d1a-9145-a88cf863c20c",
   "metadata": {
    "papermill": {},
    "tags": []
   },
   "source": [
    "### Create cards from labeled emails"
   ]
  },
  {
   "cell_type": "markdown",
   "id": "6f8a8a31-63e9-4c4e-bdc5-aef7ede16f07",
   "metadata": {
    "papermill": {},
    "tags": []
   },
   "source": [
    "This function creates a Trello card for each new labeled Gmail email."
   ]
  },
  {
   "cell_type": "code",
   "execution_count": null,
   "id": "1603c152-a71a-46e2-a16f-0ab92d7e22b3",
   "metadata": {
    "papermill": {},
    "tags": []
   },
   "source": "# Create Trello client\ntrello_client = trello.TrelloClient(api_key=trello_api_key, token=trello_token)\n# Create Gmail client\ngmail_client = gmail.GmailClient(api_key=gmail_api_key)\n# Get list of new labeled emails\nnew_emails = gmail_client.get_new_emails(label=gmail_label)\n# Create Trello cards from new emails\nfor email in new_emails:\n    trello_client.create_card(name=email.subject, description=email.body)",
   "outputs": []
  },
  {
   "cell_type": "markdown",
   "id": "0a9d3a52-8a03-4813-b605-3bf9c9ef9fa9",
   "metadata": {
    "papermill": {},
    "tags": []
   },
   "source": [
    "## Output"
   ]
  },
  {
   "cell_type": "markdown",
   "id": "ecd157bf-1eda-4d13-ac41-64ff11697a12",
   "metadata": {
    "papermill": {},
    "tags": []
   },
   "source": [
    "### Display result"
   ]
  },
  {
   "cell_type": "markdown",
   "id": "d1bae508-0910-4eef-b9b3-2f3a59573f50",
   "metadata": {
    "papermill": {},
    "tags": []
   },
   "source": [
    "This code displays the number of cards created."
   ]
  },
  {
   "cell_type": "code",
   "execution_count": null,
   "id": "eb71aeb5-7e13-45bf-b091-b9d9e5ac9ddb",
   "metadata": {
    "papermill": {},
    "tags": []
   },
   "source": "# Display number of cards created\nprint(f\"{len(new_emails)} cards created\")",
   "outputs": []
  }
 ],
 "metadata": {
  "kernelspec": {
   "display_name": "Python 3",
   "language": "python",
   "name": "python3"
  },
  "language_info": {
   "codemirror_mode": {
    "name": "ipython",
    "version": 3
   },
   "file_extension": ".py",
   "mimetype": "text/x-python",
   "name": "python",
   "nbconvert_exporter": "python",
   "pygments_lexer": "ipython3",
   "version": "3.9.6"
  },
  "widgets": {
   "application/vnd.jupyter.widget-state+json": {
    "state": {},
    "version_major": 2,
    "version_minor": 0
   }
  }
 },
 "nbformat": 4,
 "nbformat_minor": 5
}