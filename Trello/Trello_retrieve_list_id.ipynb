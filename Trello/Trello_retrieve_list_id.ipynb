{
 "cells": [
  {
   "cell_type": "markdown",
   "id": "steady-basin",
   "metadata": {
    "papermill": {},
    "tags": []
   },
   "source": [
    "<img width=\"10%\" alt=\"Naas\" src=\"https://landen.imgix.net/jtci2pxwjczr/assets/5ice39g4.png?w=160\"/>"
   ]
  },
  {
   "cell_type": "markdown",
   "id": "undefined-victory",
   "metadata": {
    "papermill": {},
    "tags": []
   },
   "source": [
    "# Trello - Retrieve List ID\n",
    "<a href=\"https://app.naas.ai/user-redirect/naas/downloader?url=https://raw.githubusercontent.com/jupyter-naas/awesome-notebooks/master/Trello/Trello_Get_board_data.ipynb\" target=\"_parent\"><img src=\"https://naasai-public.s3.eu-west-3.amazonaws.com/Open_in_Naas_Lab.svg\"/></a><br><br><a href=\"https://github.com/jupyter-naas/awesome-notebooks/issues/new?assignees=&labels=&template=template-request.md&title=Tool+-+Action+of+the+notebook+\">Template request</a> | <a href=\"https://github.com/jupyter-naas/awesome-notebooks/issues/new?assignees=&labels=bug&template=bug_report.md&title=Trello+-+Get+board+data:+Error+short+description\">Bug report</a> | <a href=\"https://app.naas.ai/user-redirect/naas/downloader?url=https://raw.githubusercontent.com/jupyter-naas/awesome-notebooks/master/Naas/Naas_Start_data_product.ipynb\" target=\"_parent\">Generate Data Product</a>"
   ]
  },
  {
   "cell_type": "markdown",
   "id": "08e617eb-f6d2-47be-a1fc-56c1322c065b",
   "metadata": {
    "papermill": {},
    "tags": []
   },
   "source": [
    "**Tags:** #trello #project #retrieve #snippet #operations #list #id\n"
   ]
  },
  {
   "cell_type": "markdown",
   "id": "naas-author",
   "metadata": {
    "papermill": {},
    "tags": [
     "naas"
    ]
   },
   "source": [
    "**Author:** [Benjamin Filly](https://www.linkedin.com/in/benjamin-filly-05427727a/)\n"
   ]
  },
  {
   "cell_type": "markdown",
   "id": "naas-description",
   "metadata": {
    "papermill": {},
    "tags": [
     "description"
    ]
   },
   "source": [
    "**Description:** This notebook show you how to retrieve list and their ID. This can be useful for other templates that ask for list ID\n"
   ]
  },
  {
   "cell_type": "markdown",
   "id": "575e5c78-17a8-48b6-9244-fc1c0d996f12",
   "metadata": {},
   "source": [
    "**References:**\n",
    "- [Trello API Documentation](https://developer.atlassian.com/cloud/trello/rest/api-group-cards/#api-cards-post)"
   ]
  },
  {
   "cell_type": "markdown",
   "id": "input_cell",
   "metadata": {
    "papermill": {},
    "tags": []
   },
   "source": [
    "## Input"
   ]
  },
  {
   "cell_type": "markdown",
   "id": "import_cell",
   "metadata": {
    "papermill": {},
    "tags": []
   },
   "source": [
    "### Import library"
   ]
  },
  {
   "cell_type": "code",
   "execution_count": 1,
   "id": "supreme-westminster",
   "metadata": {
    "execution": {
     "iopub.execute_input": "2023-06-29T16:59:14.913387Z",
     "iopub.status.busy": "2023-06-29T16:59:14.912833Z",
     "iopub.status.idle": "2023-06-29T16:59:17.047914Z",
     "shell.execute_reply": "2023-06-29T16:59:17.047140Z",
     "shell.execute_reply.started": "2023-06-29T16:59:14.913304Z"
    },
    "papermill": {},
    "tags": []
   },
   "outputs": [],
   "source": [
    "import requests\n",
    "import naas"
   ]
  },
  {
   "cell_type": "markdown",
   "id": "exotic-academy",
   "metadata": {
    "papermill": {},
    "tags": []
   },
   "source": [
    "### Setup variables"
   ]
  },
  {
   "cell_type": "markdown",
   "id": "reduced-tourist",
   "metadata": {
    "papermill": {},
    "tags": []
   },
   "source": [
    "- `api_key`: The API key used for authentication with the Trello API.\n",
    "- `token`: The access token used for authentication with the Trello API.\n",
    "- `board_id`: The unique identifier of the Trello board you want to work with."
   ]
  },
  {
   "cell_type": "code",
   "execution_count": 2,
   "id": "tender-albany",
   "metadata": {
    "execution": {
     "iopub.execute_input": "2023-06-29T16:59:17.051287Z",
     "iopub.status.busy": "2023-06-29T16:59:17.050988Z",
     "iopub.status.idle": "2023-06-29T16:59:17.358070Z",
     "shell.execute_reply": "2023-06-29T16:59:17.357434Z",
     "shell.execute_reply.started": "2023-06-29T16:59:17.051262Z"
    },
    "papermill": {},
    "tags": []
   },
   "outputs": [],
   "source": [
    "api_key = naas.secret.get(name = \"TRELLO_API_KEY\") or \"YOUR_API_KEY\"\n",
    "token = naas.secret.get(name = \"TRELLO_TOKEN\") or \"YOUR_TOKEN\"\n",
    "board_id = \"ogBhOe9a\" #example: \"https://trello.com/b/ogBhOe9a/ultimate-to-do-list\"  "
   ]
  },
  {
   "cell_type": "markdown",
   "id": "model_cell",
   "metadata": {
    "papermill": {},
    "tags": []
   },
   "source": [
    "## Model"
   ]
  },
  {
   "cell_type": "markdown",
   "id": "c97e69d0-8851-4139-ba3b-339753fde780",
   "metadata": {},
   "source": [
    "### Retrieving lists\n",
    "Make a GET request to the Trello API to retrieve your lists"
   ]
  },
  {
   "cell_type": "code",
   "execution_count": 3,
   "id": "6ad17a5c-689b-4c43-9630-3765e3d0e239",
   "metadata": {
    "execution": {
     "iopub.execute_input": "2023-06-29T16:59:17.361058Z",
     "iopub.status.busy": "2023-06-29T16:59:17.360847Z",
     "iopub.status.idle": "2023-06-29T16:59:17.618047Z",
     "shell.execute_reply": "2023-06-29T16:59:17.617181Z",
     "shell.execute_reply.started": "2023-06-29T16:59:17.361034Z"
    },
    "tags": []
   },
   "outputs": [],
   "source": [
    "url = f\"https://api.trello.com/1/boards/{board_id}/lists?key={api_key}&token={token}\"\n",
    "response = requests.get(url)"
   ]
  },
  {
   "cell_type": "markdown",
   "id": "output_cell",
   "metadata": {
    "papermill": {},
    "tags": []
   },
   "source": [
    "## Output"
   ]
  },
  {
   "cell_type": "markdown",
   "id": "display_cell",
   "metadata": {
    "papermill": {},
    "tags": []
   },
   "source": [
    "### Display result"
   ]
  },
  {
   "cell_type": "code",
   "execution_count": 4,
   "id": "decreased-pathology",
   "metadata": {
    "execution": {
     "iopub.execute_input": "2023-06-29T16:59:17.620652Z",
     "iopub.status.busy": "2023-06-29T16:59:17.620354Z",
     "iopub.status.idle": "2023-06-29T16:59:17.630208Z",
     "shell.execute_reply": "2023-06-29T16:59:17.629582Z",
     "shell.execute_reply.started": "2023-06-29T16:59:17.620617Z"
    },
    "papermill": {},
    "tags": []
   },
   "outputs": [
    {
     "name": "stdout",
     "output_type": "stream",
     "text": [
      "📋 List Title: Notes / New Ideas 🗒️\n",
      "🆔 List ID: 649d8b3c9f796ee9d57a765d\n",
      "------------------------\n",
      "📋 List Title: Projects 📦\n",
      "🆔 List ID: 649d8b3c9f796ee9d57a765e\n",
      "------------------------\n",
      "📋 List Title: Today's Tasks 🎯\n",
      "🆔 List ID: 649d8b3c9f796ee9d57a765f\n",
      "------------------------\n",
      "📋 List Title: Future Tasks 📅\n",
      "🆔 List ID: 649d8b3c9f796ee9d57a7660\n",
      "------------------------\n",
      "📋 List Title: Waiting for Input ⏸️\n",
      "🆔 List ID: 649d8b3c9f796ee9d57a7661\n",
      "------------------------\n",
      "📋 List Title: Complete ✔️\n",
      "🆔 List ID: 649d8b3c9f796ee9d57a7662\n",
      "------------------------\n"
     ]
    }
   ],
   "source": [
    "if response.status_code == 200:\n",
    "    lists = response.json()\n",
    "    for l in lists:\n",
    "        print(\"📋 List Title:\", l['name'])\n",
    "        print(\"🆔 List ID:\", l['id'])\n",
    "        print(\"------------------------\")\n",
    "else:\n",
    "    print(\"❌ Failed to fetch lists.\")"
   ]
  }
 ],
 "metadata": {
  "kernelspec": {
   "display_name": "Python 3",
   "language": "python",
   "name": "python3"
  },
  "language_info": {
   "codemirror_mode": {
    "name": "ipython",
    "version": 3
   },
   "file_extension": ".py",
   "mimetype": "text/x-python",
   "name": "python",
   "nbconvert_exporter": "python",
   "pygments_lexer": "ipython3",
   "version": "3.9.6"
  },
  "naas": {
   "notebook_id": "236ba6113e6987e489a54a8297398d0e66d2b9ee47911ef73dc0ad23a15df7c1",
   "notebook_path": "Trello/Trello_Get_board_data.ipynb"
  },
  "papermill": {
   "default_parameters": {},
   "environment_variables": {},
   "parameters": {},
   "version": "2.3.3"
  }
 },
 "nbformat": 4,
 "nbformat_minor": 5
}
