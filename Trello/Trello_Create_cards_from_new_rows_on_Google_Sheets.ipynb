{
 "cells": [
  {
   "cell_type": "markdown",
   "id": "54cbe6de-b6e1-47f9-84e7-5e7fb924c9a8",
   "metadata": {
    "papermill": {},
    "tags": []
   },
   "source": [
    "<img width=\"10%\" alt=\"Naas\" src=\"https://landen.imgix.net/jtci2pxwjczr/assets/5ice39g4.png?w=160\"/>"
   ]
  },
  {
   "cell_type": "markdown",
   "id": "c4fa466d-a4d7-4a85-a6ae-24c8f37124c8",
   "metadata": {
    "papermill": {},
    "tags": []
   },
   "source": [
    "# Trello - Create cards from new rows on Google Sheets"
   ]
  },
  {
   "cell_type": "markdown",
   "id": "0285a1aa-a1c5-466a-8fe4-783cbb34f547",
   "metadata": {
    "papermill": {},
    "tags": []
   },
   "source": [
    "**Tags:** #trello #google-sheets #automation #python #api #integration"
   ]
  },
  {
   "cell_type": "markdown",
   "id": "ce4dc622-3fa2-4fa2-aac2-7d11562afa42",
   "metadata": {
    "papermill": {},
    "tags": []
   },
   "source": [
    "**Author:** [Benjamin Filly](https://www.linkedin.com/in/benjamin-filly-05427727a/)"
   ]
  },
  {
   "cell_type": "markdown",
   "id": "021f3d72-4977-4f03-b285-2293a7dd9008",
   "metadata": {
    "papermill": {},
    "tags": []
   },
   "source": [
    "**Last update:** 2023-10-16 (Created: 2023-10-16)"
   ]
  },
  {
   "cell_type": "markdown",
   "id": "785f6ea0-5c66-4c03-aefb-2b752e6653d9",
   "metadata": {
    "papermill": {},
    "tags": []
   },
   "source": [
    "**Description:** This notebook automates the creation of Trello cards from new rows on Google Sheets. It is usefull for organizations that need to keep track of tasks and assign them to team members."
   ]
  },
  {
   "cell_type": "markdown",
   "id": "ef59fe78-6f7e-45d5-b3a5-fea57f4f2abe",
   "metadata": {
    "papermill": {},
    "tags": []
   },
   "source": [
    "**References:**\n- [Trello API Documentation](https://developers.trello.com/reference)\n- [Google Sheets API Documentation](https://developers.google.com/sheets/api/reference/rest/)"
   ]
  },
  {
   "cell_type": "markdown",
   "id": "9022e0cb-7f1e-46ee-af7f-76cf1f753790",
   "metadata": {
    "papermill": {},
    "tags": []
   },
   "source": [
    "## Input"
   ]
  },
  {
   "cell_type": "markdown",
   "id": "d51848ac-0194-43c7-9855-c281ea303ea5",
   "metadata": {
    "papermill": {},
    "tags": []
   },
   "source": [
    "### Import libraries"
   ]
  },
  {
   "cell_type": "code",
   "execution_count": null,
   "id": "55134c99-28f4-4bac-a34d-6ec2fd04b5ba",
   "metadata": {
    "papermill": {},
    "tags": []
   },
   "source": "import trello\nimport gspread",
   "outputs": []
  },
  {
   "cell_type": "markdown",
   "id": "a483c90d-3658-4c3a-ba10-d31d586453b5",
   "metadata": {
    "papermill": {},
    "tags": []
   },
   "source": [
    "### Setup variables\n- **Trello API Key**: [Get your API Key](https://developers.trello.com/reference#api-key)\n- **Trello Token**: [Get your Token](https://developers.trello.com/reference#token)\n- **Google Sheets Credentials**: [Get your Credentials](https://developers.google.com/sheets/api/quickstart/python)"
   ]
  },
  {
   "cell_type": "code",
   "execution_count": null,
   "id": "0de12714-7080-44a3-befe-e0ba32752b72",
   "metadata": {
    "papermill": {},
    "tags": []
   },
   "source": "trello_api_key = \"<your_trello_api_key>\"\ntrello_token = \"<your_trello_token>\"\ngoogle_sheets_credentials = \"<your_google_sheets_credentials>\"",
   "outputs": []
  },
  {
   "cell_type": "markdown",
   "id": "fa716144-5dc8-4f55-a250-97e872b45df9",
   "metadata": {
    "papermill": {},
    "tags": []
   },
   "source": [
    "## Model"
   ]
  },
  {
   "cell_type": "markdown",
   "id": "7b62f514-cb26-4d9f-b1a9-00b788721e39",
   "metadata": {
    "papermill": {},
    "tags": []
   },
   "source": [
    "### Create Trello cards from new rows on Google Sheets"
   ]
  },
  {
   "cell_type": "markdown",
   "id": "35b51b95-607e-424a-a216-f5c7964cd792",
   "metadata": {
    "papermill": {},
    "tags": []
   },
   "source": [
    "This function creates a Trello card for each new row on a Google Sheets spreadsheet."
   ]
  },
  {
   "cell_type": "code",
   "execution_count": null,
   "id": "7b67a448-22f6-4124-998c-2cdd8cbec6e1",
   "metadata": {
    "papermill": {},
    "tags": []
   },
   "source": "def create_trello_cards_from_google_sheets(\n    trello_api_key, trello_token, google_sheets_credentials\n):\n    # Connect to Trello\n    trello_client = trello.TrelloClient(api_key=trello_api_key, token=trello_token)\n    # Connect to Google Sheets\n    gc = gspread.service_account(google_sheets_credentials)\n    # Get the spreadsheet\n    spreadsheet = gc.open_by_url(\"<your_spreadsheet_url>\")\n    # Get the worksheet\n    worksheet = spreadsheet.worksheet(\"<your_worksheet_name>\")\n    # Get the data\n    data = worksheet.get_all_values()\n    # Create a Trello card for each new row\n    for row in data[1:]:\n        trello_client.add_card(row[0], row[1])",
   "outputs": []
  },
  {
   "cell_type": "markdown",
   "id": "37d2c981-6a21-41fa-b847-ff06523c2b8d",
   "metadata": {
    "papermill": {},
    "tags": []
   },
   "source": [
    "## Output"
   ]
  },
  {
   "cell_type": "markdown",
   "id": "5daa0321-d9a4-4ecc-92aa-e52e58a12787",
   "metadata": {
    "papermill": {},
    "tags": []
   },
   "source": [
    "### Display result"
   ]
  },
  {
   "cell_type": "code",
   "execution_count": null,
   "id": "b8e7d6e9-df2f-4794-a835-d6896963d536",
   "metadata": {
    "papermill": {},
    "tags": []
   },
   "source": "create_trello_cards_from_google_sheets(\n    trello_api_key, trello_token, google_sheets_credentials\n)",
   "outputs": []
  }
 ],
 "metadata": {
  "kernelspec": {
   "display_name": "Python 3",
   "language": "python",
   "name": "python3"
  },
  "language_info": {
   "codemirror_mode": {
    "name": "ipython",
    "version": 3
   },
   "file_extension": ".py",
   "mimetype": "text/x-python",
   "name": "python",
   "nbconvert_exporter": "python",
   "pygments_lexer": "ipython3",
   "version": "3.9.6"
  },
  "widgets": {
   "application/vnd.jupyter.widget-state+json": {
    "state": {},
    "version_major": 2,
    "version_minor": 0
   }
  }
 },
 "nbformat": 4,
 "nbformat_minor": 5
}