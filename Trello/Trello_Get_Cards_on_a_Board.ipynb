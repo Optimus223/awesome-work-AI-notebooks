{
 "cells": [
  {
   "cell_type": "markdown",
   "id": "e3f41c66-54b7-4f06-9881-9a9991bf43d1",
   "metadata": {
    "papermill": {},
    "tags": []
   },
   "source": [
    "<img width=\"10%\" alt=\"Naas\" src=\"https://landen.imgix.net/jtci2pxwjczr/assets/5ice39g4.png?w=160\"/>"
   ]
  },
  {
   "cell_type": "markdown",
   "id": "dbc4cf57-1769-4639-bc72-0377bb682bf5",
   "metadata": {
    "papermill": {},
    "tags": []
   },
   "source": [
    "# Trello - Get Cards on a Board"
   ]
  },
  {
   "cell_type": "markdown",
   "id": "68643b1f-e196-4735-9600-3add8344d37b",
   "metadata": {
    "papermill": {},
    "tags": []
   },
   "source": [
    "**Tags:** #trello #api #rest #cards #board #get"
   ]
  },
  {
   "cell_type": "markdown",
   "id": "7b82329c-d291-44d0-82c0-0bebabe140d4",
   "metadata": {
    "papermill": {},
    "tags": []
   },
   "source": [
    "**Author:** [Benjamin Filly](https://www.linkedin.com/in/benjamin-filly-05427727a/)"
   ]
  },
  {
   "cell_type": "markdown",
   "id": "fe2e4742-dfa5-4b0f-9377-de233c19eff9",
   "metadata": {
    "papermill": {},
    "tags": []
   },
   "source": [
    "**Description:** This notebook will get all of the open Cards on a Board and is usefull for organization."
   ]
  },
  {
   "cell_type": "markdown",
   "id": "52215a73-6d34-40cd-910a-4dc489a8ff2e",
   "metadata": {
    "papermill": {},
    "tags": []
   },
   "source": [
    "**References:**\n- [Trello API Documentation](https://developer.atlassian.com/cloud/trello/rest/api-group-boards/#api-boards-id-cards-get)\n- [Trello API Authentication](https://developer.atlassian.com/cloud/trello/guides/rest-api/api-introduction/#authentication)"
   ]
  },
  {
   "cell_type": "markdown",
   "id": "19b038d9-985e-4c4f-873b-77a79b201d8d",
   "metadata": {
    "papermill": {},
    "tags": []
   },
   "source": [
    "## Input"
   ]
  },
  {
   "cell_type": "markdown",
   "id": "150e31ef-a043-4e0f-8544-6f6f74c13a89",
   "metadata": {
    "papermill": {},
    "tags": []
   },
   "source": [
    "### Import libraries"
   ]
  },
  {
   "cell_type": "code",
   "execution_count": null,
   "id": "d88d11ca-f19a-4808-a420-553bfed562f6",
   "metadata": {
    "papermill": {},
    "tags": []
   },
   "source": "import requests\nimport json",
   "outputs": []
  },
  {
   "cell_type": "markdown",
   "id": "de74bd41-9051-4865-b9b2-2de71c4ce874",
   "metadata": {
    "papermill": {},
    "tags": []
   },
   "source": [
    "### Setup Variables\n- **api_key**: [Get your API key here](https://developer.atlassian.com/cloud/trello/guides/rest-api/api-introduction/#authentication)\n- **token**: [Get your token here](https://developer.atlassian.com/cloud/trello/guides/rest-api/api-introduction/#authentication)\n- **board_id**: The ID of the board you want to get the cards from"
   ]
  },
  {
   "cell_type": "code",
   "execution_count": null,
   "id": "676d453f-1689-4017-a9e2-ac206aa351fa",
   "metadata": {
    "papermill": {},
    "tags": []
   },
   "source": "api_key = \"your_api_key\"\ntoken = \"your_token\"\nboard_id = \"your_board_id\"",
   "outputs": []
  },
  {
   "cell_type": "markdown",
   "id": "9ce89c21-dfc0-4ba2-b2eb-44fbac519ad7",
   "metadata": {
    "papermill": {},
    "tags": []
   },
   "source": [
    "## Model"
   ]
  },
  {
   "cell_type": "markdown",
   "id": "6d1bc995-19c6-43ce-8405-d8a3ee68681c",
   "metadata": {
    "papermill": {},
    "tags": []
   },
   "source": [
    "### Get Cards on a Board"
   ]
  },
  {
   "cell_type": "markdown",
   "id": "9300ff09-fafb-478a-aee3-4ad54dccdfbb",
   "metadata": {
    "papermill": {},
    "tags": []
   },
   "source": [
    "This function will get all of the open Cards on a Board."
   ]
  },
  {
   "cell_type": "code",
   "execution_count": null,
   "id": "005bd319-f1ba-45bf-9733-d10d31776b55",
   "metadata": {
    "papermill": {},
    "tags": []
   },
   "source": "def get_cards_on_board(api_key, token, board_id):\n    # Set the request parameters\n    url = \"https://api.trello.com/1/boards/\" + board_id + \"/cards\"\n    query_params = {\"key\": api_key, \"token\": token}\n    # Execute the request\n    response = requests.request(\"GET\", url, params=query_params)\n    # Return the response\n    return response.json()",
   "outputs": []
  },
  {
   "cell_type": "markdown",
   "id": "18efd886-0c30-4444-8d45-348f41886e1d",
   "metadata": {
    "papermill": {},
    "tags": []
   },
   "source": [
    "## Output"
   ]
  },
  {
   "cell_type": "markdown",
   "id": "38d40391-d1f4-4acd-b272-1d1a1dcb46d1",
   "metadata": {
    "papermill": {},
    "tags": []
   },
   "source": [
    "### Display result"
   ]
  },
  {
   "cell_type": "code",
   "execution_count": null,
   "id": "8d000e0d-6e9f-404a-8013-664e9f35ce35",
   "metadata": {
    "papermill": {},
    "tags": []
   },
   "source": "cards = get_cards_on_board(api_key, token, board_id)\nprint(json.dumps(cards, indent=4))",
   "outputs": []
  },
  {
   "cell_type": "markdown",
   "id": "d791f876-be67-4328-9057-438b5a252249",
   "metadata": {
    "papermill": {},
    "tags": []
   },
   "source": [
    " "
   ]
  }
 ],
 "metadata": {
  "kernelspec": {
   "display_name": "Python 3",
   "language": "python",
   "name": "python3"
  },
  "language_info": {
   "codemirror_mode": {
    "name": "ipython",
    "version": 3
   },
   "file_extension": ".py",
   "mimetype": "text/x-python",
   "name": "python",
   "nbconvert_exporter": "python",
   "pygments_lexer": "ipython3",
   "version": "3.9.6"
  },
  "widgets": {
   "application/vnd.jupyter.widget-state+json": {
    "state": {},
    "version_major": 2,
    "version_minor": 0
   }
  }
 },
 "nbformat": 4,
 "nbformat_minor": 5
}