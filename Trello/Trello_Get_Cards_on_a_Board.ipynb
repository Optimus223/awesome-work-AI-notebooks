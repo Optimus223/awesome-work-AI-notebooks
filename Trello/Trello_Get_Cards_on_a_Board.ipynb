{
 "cells": [
  {
   "cell_type": "markdown",
   "id": "e3f41c66-54b7-4f06-9881-9a9991bf43d1",
   "metadata": {
    "papermill": {},
    "tags": []
   },
   "source": [
    "<img width=\"10%\" alt=\"Naas\" src=\"https://landen.imgix.net/jtci2pxwjczr/assets/5ice39g4.png?w=160\"/>"
   ]
  },
  {
   "cell_type": "markdown",
   "id": "dbc4cf57-1769-4639-bc72-0377bb682bf5",
   "metadata": {
    "papermill": {},
    "tags": []
   },
   "source": [
    "# Trello - Get Cards on a Board"
   ]
  },
  {
   "cell_type": "markdown",
   "id": "68643b1f-e196-4735-9600-3add8344d37b",
   "metadata": {
    "papermill": {},
    "tags": []
   },
   "source": [
    "**Tags:** #trello #api #rest #cards #board #get"
   ]
  },
  {
   "cell_type": "markdown",
   "id": "7b82329c-d291-44d0-82c0-0bebabe140d4",
   "metadata": {
    "papermill": {},
    "tags": []
   },
   "source": [
    "**Author:** [Benjamin Filly](https://www.linkedin.com/in/benjamin-filly-05427727a/)"
   ]
  },
  {
   "cell_type": "markdown",
   "id": "fe2e4742-dfa5-4b0f-9377-de233c19eff9",
   "metadata": {
    "papermill": {},
    "tags": []
   },
   "source": [
    "**Description:** This notebook will get all of the open Cards on a Board and is usefull for organization."
   ]
  },
  {
   "cell_type": "markdown",
   "id": "52215a73-6d34-40cd-910a-4dc489a8ff2e",
   "metadata": {
    "papermill": {},
    "tags": []
   },
   "source": [
    "**References:**\n",
    "- [Trello API Documentation](https://developer.atlassian.com/cloud/trello/rest/api-group-boards/#api-boards-id-cards-get)\n",
    "- [Trello API Authentication](https://developer.atlassian.com/cloud/trello/guides/rest-api/api-introduction/#authentication)"
   ]
  },
  {
   "cell_type": "markdown",
   "id": "19b038d9-985e-4c4f-873b-77a79b201d8d",
   "metadata": {
    "papermill": {},
    "tags": []
   },
   "source": [
    "## Input"
   ]
  },
  {
   "cell_type": "markdown",
   "id": "150e31ef-a043-4e0f-8544-6f6f74c13a89",
   "metadata": {
    "papermill": {},
    "tags": []
   },
   "source": [
    "### Import libraries"
   ]
  },
  {
   "cell_type": "code",
   "execution_count": 1,
   "id": "d88d11ca-f19a-4808-a420-553bfed562f6",
   "metadata": {
    "execution": {
     "iopub.execute_input": "2023-06-30T14:21:38.298312Z",
     "iopub.status.busy": "2023-06-30T14:21:38.297871Z",
     "iopub.status.idle": "2023-06-30T14:21:40.236800Z",
     "shell.execute_reply": "2023-06-30T14:21:40.236182Z",
     "shell.execute_reply.started": "2023-06-30T14:21:38.298236Z"
    },
    "papermill": {},
    "tags": []
   },
   "outputs": [],
   "source": [
    "import requests\n",
    "import naas"
   ]
  },
  {
   "cell_type": "markdown",
   "id": "de74bd41-9051-4865-b9b2-2de71c4ce874",
   "metadata": {
    "papermill": {},
    "tags": []
   },
   "source": [
    "### Setup Variables\n",
    "- **api_key**: [Get your API key here](https://github.com/Benjifilly/My_notebooks/wiki/How-to-obtain-an-API-key-for-Trello)\n",
    "- **token**: [Get your token here](https://github.com/Benjifilly/My_notebooks/wiki/How-to-obtain-your-token-for-Trello)\n",
    "- **board_id**: The ID of the board you want to get the cards from"
   ]
  },
  {
   "cell_type": "code",
   "execution_count": 2,
   "id": "676d453f-1689-4017-a9e2-ac206aa351fa",
   "metadata": {
    "execution": {
     "iopub.execute_input": "2023-06-30T14:21:40.240061Z",
     "iopub.status.busy": "2023-06-30T14:21:40.239879Z",
     "iopub.status.idle": "2023-06-30T14:21:40.512535Z",
     "shell.execute_reply": "2023-06-30T14:21:40.511838Z",
     "shell.execute_reply.started": "2023-06-30T14:21:40.240041Z"
    },
    "papermill": {},
    "tags": []
   },
   "outputs": [],
   "source": [
    "API_KEY = naas.secret.get(name = \"TRELLO_API_KEY\") or 'YOUR_API_KEY'\n",
    "TOKEN = naas.secret.get(name = \"TRELLO_TOKEN\") or 'YOUR_TOKEN'\n",
    "BOARD_ID = 'ogBhOe9a' #Example: \"https://trello.com/b/ogBhOe9a/ultimate-to-do-list\""
   ]
  },
  {
   "cell_type": "markdown",
   "id": "9ce89c21-dfc0-4ba2-b2eb-44fbac519ad7",
   "metadata": {
    "papermill": {},
    "tags": []
   },
   "source": [
    "## Model"
   ]
  },
  {
   "cell_type": "markdown",
   "id": "6d1bc995-19c6-43ce-8405-d8a3ee68681c",
   "metadata": {
    "papermill": {},
    "tags": []
   },
   "source": [
    "### Get Cards on a Board"
   ]
  },
  {
   "cell_type": "markdown",
   "id": "9300ff09-fafb-478a-aee3-4ad54dccdfbb",
   "metadata": {
    "papermill": {},
    "tags": []
   },
   "source": [
    "This function will get all of the open Cards on a Board."
   ]
  },
  {
   "cell_type": "code",
   "execution_count": 3,
   "id": "005bd319-f1ba-45bf-9733-d10d31776b55",
   "metadata": {
    "execution": {
     "iopub.execute_input": "2023-06-30T14:21:40.513823Z",
     "iopub.status.busy": "2023-06-30T14:21:40.513589Z",
     "iopub.status.idle": "2023-06-30T14:21:40.788162Z",
     "shell.execute_reply": "2023-06-30T14:21:40.787548Z",
     "shell.execute_reply.started": "2023-06-30T14:21:40.513782Z"
    },
    "papermill": {},
    "tags": []
   },
   "outputs": [],
   "source": [
    "# Endpoint URL to get all lists on a board\n",
    "lists_url = f'https://api.trello.com/1/boards/{BOARD_ID}/lists'\n",
    "\n",
    "# Parameters for the lists request\n",
    "lists_params = {\n",
    "    'key': API_KEY,\n",
    "    'token': TOKEN,\n",
    "}\n",
    "\n",
    "# Send GET request to the Trello API to get lists\n",
    "lists_response = requests.get(lists_url, params=lists_params)"
   ]
  },
  {
   "cell_type": "markdown",
   "id": "18efd886-0c30-4444-8d45-348f41886e1d",
   "metadata": {
    "papermill": {},
    "tags": []
   },
   "source": [
    "## Output"
   ]
  },
  {
   "cell_type": "markdown",
   "id": "38d40391-d1f4-4acd-b272-1d1a1dcb46d1",
   "metadata": {
    "papermill": {},
    "tags": []
   },
   "source": [
    "### Display result"
   ]
  },
  {
   "cell_type": "code",
   "execution_count": 4,
   "id": "73be94a3-b8b8-4bc6-a898-00d16ddaedd9",
   "metadata": {
    "execution": {
     "iopub.execute_input": "2023-06-30T14:21:40.789793Z",
     "iopub.status.busy": "2023-06-30T14:21:40.789568Z",
     "iopub.status.idle": "2023-06-30T14:21:42.259153Z",
     "shell.execute_reply": "2023-06-30T14:21:42.258462Z",
     "shell.execute_reply.started": "2023-06-30T14:21:40.789764Z"
    }
   },
   "outputs": [
    {
     "name": "stdout",
     "output_type": "stream",
     "text": [
      "=== Card List ===\n",
      "Notes / New Ideas 🗒️ : 35\n",
      "📌 Add new notes, ideas, or brainstorming items to this list.\n",
      "📌 Call book publisher about new manuscript\n",
      "📌 Update email signature\n",
      "📌 Subscribe to online video course tool\n",
      "📌 Test\n",
      "📌 Call at 9:00 PM this Monday\n",
      "📌 Call at 9:00 PM this Monday\n",
      "📌 Call at 9:00 PM this Monday\n",
      "📌 Meeting with the team\n",
      "📌 Send report to the client\n",
      "📌 Call at 9:00 PM this Monday\n",
      "📌 Meeting with the team\n",
      "📌 Send report to the client\n",
      "📌 Call at 9:00 PM this Monday\n",
      "📌 Meeting with the team\n",
      "📌 Send report to the client\n",
      "📌 Call at 9:00 PM this Monday\n",
      "📌 Meeting with the team\n",
      "📌 Send report to the client\n",
      "📌 Call at 9:00 PM this Monday\n",
      "📌 Meeting with the team\n",
      "📌 Send report to the client\n",
      "📌 Call at 9:00 PM this Monday\n",
      "📌 Meeting with the team\n",
      "📌 Send report to the client\n",
      "📌 Call at 9:00 PM this Monday\n",
      "📌 Meeting with the team\n",
      "📌 Send report to the client\n",
      "📌 Call at 9:00 PM this Monday\n",
      "📌 Meeting with the team\n",
      "📌 Send report to the client\n",
      "📌 Call at 9:00 PM this Monday\n",
      "📌 Meeting with the team\n",
      "📌 Send report to the client\n",
      "📌 Call at 9:00 PM this Monday\n",
      "-----------------------------------------\n",
      "=== Card List ===\n",
      "Projects 📦 : 4\n",
      "📌 List all of your key projects and goals here. You can link them directly to individual tasks or use colored labels.\n",
      "📌 Hire new virtual assistant\n",
      "📌 Redesign website\n",
      "📌 Purchase work computer\n",
      "-----------------------------------------\n",
      "=== Card List ===\n",
      "Today's Tasks 🎯 : 3\n",
      "📌 Email Jane re next week's conference\n",
      "📌 Call Jim to ask about his VA experience\n",
      "📌 Research latest laptops from local vendor\n",
      "-----------------------------------------\n",
      "=== Card List ===\n",
      "Future Tasks 📅 : 4\n",
      "📌 Tasks that are to be completed tomorrow or further out go here.\n",
      "📌 Ask Jill for quote on website redesign\n",
      "📌 Followup with ISP about new price changes\n",
      "📌 Call Tim to see if he's still interested in purchasing old desk\n",
      "-----------------------------------------\n",
      "=== Card List ===\n",
      "Waiting for Input ⏸️ : 3\n",
      "📌 You can't always complete your tasks by yourself. So if you are waiting for feedback, put them in this list.\n",
      "📌 Price quote from Really Cool Designs Inc.\n",
      "📌 Meeting time with Shoe distributor\n",
      "-----------------------------------------\n",
      "=== Card List ===\n",
      "Complete ✔️ : 4\n",
      "📌 When the task is complete, place it here. You can also archive this list from time to time.\n",
      "📌 Updated logo on social media sites\n",
      "📌 Cancel flights for spring Chicago trip\n",
      "📌 Review new HR hiring policy\n",
      "-----------------------------------------\n"
     ]
    }
   ],
   "source": [
    "# Check if the lists request was successful\n",
    "if lists_response.status_code == 200:\n",
    "    # Parse the lists response as JSON\n",
    "    lists = lists_response.json()\n",
    "\n",
    "    # Iterate through the lists\n",
    "    for list_obj in lists:\n",
    "        list_id = list_obj['id']\n",
    "\n",
    "        # Endpoint URL to get cards in a list\n",
    "        cards_url = f'https://api.trello.com/1/lists/{list_id}/cards'\n",
    "\n",
    "        # Parameters for the cards request\n",
    "        cards_params = {\n",
    "            'key': API_KEY,\n",
    "            'token': TOKEN,\n",
    "        }\n",
    "\n",
    "        # Send GET request to the Trello API to get cards\n",
    "        cards_response = requests.get(cards_url, params=cards_params)\n",
    "\n",
    "        # Check if the cards request was successful\n",
    "        if cards_response.status_code == 200:\n",
    "            # Parse the cards response as JSON\n",
    "            cards = cards_response.json()\n",
    "            cards_count = len(cards)\n",
    "\n",
    "            # Print the list title with count of cards\n",
    "            print(f\"=== Card List ===\")\n",
    "            print(f\"{list_obj['name']} : {cards_count}\")\n",
    "\n",
    "            # Print the card names\n",
    "            for card in cards:\n",
    "                print(f\"📌 {card['name']}\")\n",
    "\n",
    "            # Print a separator line between lists\n",
    "            print(\"-----------------------------------------\")\n",
    "\n",
    "        else:\n",
    "            print(f\"Error: {cards_response.status_code} - {cards_response.text}\")\n",
    "\n",
    "else:\n",
    "    print(f\"Error: {lists_response.status_code} - {lists_response.text}\")"
   ]
  },
  {
   "cell_type": "markdown",
   "id": "d791f876-be67-4328-9057-438b5a252249",
   "metadata": {
    "papermill": {},
    "tags": []
   },
   "source": [
    " "
   ]
  }
 ],
 "metadata": {
  "kernelspec": {
   "display_name": "Python 3",
   "language": "python",
   "name": "python3"
  },
  "language_info": {
   "codemirror_mode": {
    "name": "ipython",
    "version": 3
   },
   "file_extension": ".py",
   "mimetype": "text/x-python",
   "name": "python",
   "nbconvert_exporter": "python",
   "pygments_lexer": "ipython3",
   "version": "3.9.6"
  },
  "widgets": {
   "application/vnd.jupyter.widget-state+json": {
    "state": {},
    "version_major": 2,
    "version_minor": 0
   }
  }
 },
 "nbformat": 4,
 "nbformat_minor": 5
}
