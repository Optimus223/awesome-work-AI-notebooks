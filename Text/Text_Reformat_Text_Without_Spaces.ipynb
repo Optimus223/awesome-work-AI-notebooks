{
 "cells": [
  {
   "cell_type": "markdown",
   "id": "latin-packing",
   "metadata": {
    "execution": {
     "iopub.execute_input": "2021-02-23T14:22:16.610471Z",
     "iopub.status.busy": "2021-02-23T14:22:16.610129Z",
     "iopub.status.idle": "2021-02-23T14:22:16.627784Z",
     "shell.execute_reply": "2021-02-23T14:22:16.626866Z",
     "shell.execute_reply.started": "2021-02-23T14:22:16.610384Z"
    },
    "papermill": {},
    "tags": []
   },
   "source": [
    "<img width=\"10%\" alt=\"Naas\" src=\"https://landen.imgix.net/jtci2pxwjczr/assets/5ice39g4.png?w=160\"/>"
   ]
  },
  {
   "cell_type": "markdown",
   "id": "compressed-wilson",
   "metadata": {
    "papermill": {},
    "tags": []
   },
   "source": [
    "# Text - Reformat Text Without Spaces\n",
    "<a href=\"https://app.naas.ai/user-redirect/naas/downloader?url=https://raw.githubusercontent.com/jupyter-naas/awesome-notebooks/master/Text/Text_Reformat_Text_Without_Spaces.ipynb\" target=\"_parent\"><img src=\"https://naasai-public.s3.eu-west-3.amazonaws.com/open_in_naas.svg\"/></a>"
   ]
  },
  {
   "cell_type": "markdown",
   "id": "religious-programmer",
   "metadata": {
    "papermill": {},
    "tags": []
   },
   "source": [
    "**Tags:** #text #reformat #snippet #operations #spaces"
   ]
  },
  {
   "cell_type": "markdown",
   "id": "1fe9f56e-561c-4f52-aef8-b861c9462107",
   "metadata": {
    "papermill": {},
    "tags": []
   },
   "source": [
    "**Author:** [Minura Punchihewa](https://www.linkedin.com/in/minurapunchihewa/)"
   ]
  },
  {
   "cell_type": "markdown",
   "id": "d5ec3cc1-b056-42d1-82b2-c7433c68f8c1",
   "metadata": {
    "papermill": {},
    "tags": []
   },
   "source": [
    "This notebook reformats text that does not contain spaces."
   ]
  },
  {
   "cell_type": "markdown",
   "id": "distinguished-truth",
   "metadata": {
    "papermill": {},
    "tags": []
   },
   "source": [
    "## Input"
   ]
  },
  {
   "cell_type": "markdown",
   "id": "numeric-mediterranean",
   "metadata": {
    "papermill": {},
    "tags": []
   },
   "source": [
    "### Import libraries"
   ]
  },
  {
   "cell_type": "code",
   "execution_count": 1,
   "id": "potential-surfing",
   "metadata": {
    "papermill": {},
    "tags": []
   },
   "outputs": [],
   "source": [
    "import wordninja"
   ]
  },
  {
   "cell_type": "markdown",
   "id": "aggressive-trustee",
   "metadata": {
    "papermill": {},
    "tags": []
   },
   "source": [
    "### Variables"
   ]
  },
  {
   "cell_type": "code",
   "execution_count": 2,
   "id": "46af0552",
   "metadata": {
    "papermill": {},
    "tags": []
   },
   "outputs": [],
   "source": [
    "text = \"\"\" WhenSatoshiNakamotofirstsettheBitcoinblockchainintomotioninJanuary2009,hewas simultaneouslyintroducingtworadicalanduntestedconcepts.Thefirstisthe\"bitcoin\",adecentralized peer-to-peeronlinecurrencythatmaintainsavaluewithoutanybacking,intrinsicvalueorcentralissuer.So far,the\"bitcoin\"asacurrencyunithastakenupthebulkofthepublicattention,bothintermsofthepolitical aspectsofacurrencywithoutacentralbankanditsextremeupwardanddownwardvolatilityinprice. However,thereisalsoanother,equallyimportant,parttoSatoshi'sgrandexperiment:theconceptofaproofof work-basedblockchaintoallowforpublicagreementontheorderoftransactions.Bitcoinasanapplicationcan bedescribedasafirst-to-filesystem:ifoneentityhas50BTC,andsimultaneouslysendsthesame50BTCto AandtoB,onlythetransactionthatgetsconfirmedfirstwillprocess.Thereisnointrinsicwayofdetermining fromtwotransactionswhichcameearlier,andfordecadesthisstymiedthedevelopmentofdecentralized digitalcurrency.Satoshi'sblockchainwasthefirstcredibledecentralizedsolution.Andnow,attentionis rapidlystartingtoshifttowardthissecondpartofBitcoin'stechnology,andhowtheblockchainconceptcanbe used for more than just money. Commonlycitedapplicationsincludeusingon-blockchaindigitalassetstorepresentcustomcurrenciesand financialinstruments(\"coloredcoins\"),theownershipofanunderlyingphysicaldevice(\"smartproperty\"), non-fungibleassetssuchasdomainnames(\"Namecoin\")aswellasmoreadvancedapplicationssuchas decentralizedexchange,financialderivatives,peer-to-peergamblingandon-blockchainidentityand reputationsystems.Anotherimportantareaofinquiryis\"smartcontracts\"-systemswhichautomatically movedigitalassetsaccordingtoarbitrarypre-specifiedrules.Forexample,onemighthaveatreasurycontract oftheform\"AcanwithdrawuptoXcurrencyunitsperday,BcanwithdrawuptoYperday,AandBtogether canwithdrawanything,andAcanshutoffB'sabilitytowithdraw\".Thelogicalextensionofthisis decentralizedautonomousorganizations(DAOs)-long-termsmartcontractsthatcontaintheassetsand encodethebylawsofanentireorganization.WhatEthereumintendstoprovideisablockchainwithabuilt-in fullyfledgedTuring-completeprogramminglanguagethatcanbeusedtocreate\"contracts\"thatcanbeused toencodearbitrarystatetransitionfunctions,allowinguserstocreateanyofthesystemsdescribedabove,as well as many others that we have not yet imagined, simply by writing up the logic in a few lines of code. \"\"\""
   ]
  },
  {
   "cell_type": "markdown",
   "id": "registered-showcase",
   "metadata": {
    "papermill": {},
    "tags": []
   },
   "source": [
    "## Model"
   ]
  },
  {
   "cell_type": "markdown",
   "id": "7eccaab8",
   "metadata": {
    "papermill": {},
    "tags": []
   },
   "source": [
    "### Define function to reformat text"
   ]
  },
  {
   "cell_type": "code",
   "execution_count": 4,
   "id": "6a6a1b3a",
   "metadata": {
    "papermill": {},
    "tags": []
   },
   "outputs": [],
   "source": [
    "def reformat_text(text):\n",
    "    sentences = []\n",
    "    \n",
    "    for sentence in text.split('.'):\n",
    "        sentences.append(\" \".join(wordninja.split(sentence)) + '.')\n",
    "    \n",
    "    return \" \".join(sentences)"
   ]
  },
  {
   "cell_type": "markdown",
   "id": "lonely-pacific",
   "metadata": {
    "execution": {
     "iopub.execute_input": "2021-07-02T23:32:10.789097Z",
     "iopub.status.busy": "2021-07-02T23:32:10.788829Z",
     "iopub.status.idle": "2021-07-02T23:32:10.796900Z",
     "shell.execute_reply": "2021-07-02T23:32:10.796358Z",
     "shell.execute_reply.started": "2021-07-02T23:32:10.789033Z"
    },
    "papermill": {},
    "tags": []
   },
   "source": [
    "## Output"
   ]
  },
  {
   "cell_type": "markdown",
   "id": "890f7c86-b7bb-4f5d-9a1b-e492dd9580fd",
   "metadata": {
    "papermill": {},
    "tags": []
   },
   "source": [
    "### Reformat text"
   ]
  },
  {
   "cell_type": "code",
   "execution_count": 5,
   "id": "1241063a-8bce-4d59-9044-e79691f1a8c8",
   "metadata": {
    "papermill": {},
    "tags": []
   },
   "outputs": [
    {
     "name": "stdout",
     "output_type": "stream",
     "text": [
      "When Satoshi Nakamoto first set the Bitcoin block chain into motion in January 2009 he was simultaneously introducing two radical and untested concepts. The first is the bitcoin a decentralized peer to peer online currency that maintains a value without any backing intrinsic value or central issuer. So far the bitcoin as a currency unit has taken up the bulk of the public attention both in terms of the political aspects of a currency without a central bank and its extreme upward and downward volatility in price. However there is also another equally important part to Satoshi's grand experiment the concept of a proof of work based block chain to allow for public agreement on the order of transactions. Bitcoin as an application can be described as a first to filesystem if one entity has 50 BTC and simultaneously sends the same 50 BTC to A and to B only the transaction that gets confirmed first will process. There is no intrinsic way of determining from two transactions which came earlier and for decades this stymied the development of decentralized digital currency. Satoshi's block chain was the first credible decentralized solution. And now attention is rapidly starting to shift toward this second part of Bitcoin's technology and how the block chain concept can be used for more than just money. Commonly cited applications include using on block chain digital assets to represent custom currencies and financial instruments colored coins the ownership of an underlying physical device smart property non fungi ble assets such as domain names Name coin as well as more advanced applications such as decentralized exchange financial derivatives peer to peer gambling and on block chain identity and reputation systems. Another important area of inquiry is smart contracts systems which automatically move digital assets according to arbitrary pre specified rules. For example one might have a treasury contract of the form A can withdraw up to X currency units per day B can withdraw up toY per day A and B together can withdraw anything and A can shut of fB's ability to withdraw. The logical extension of this is decentralized autonomous organizations DAO s long term smart contracts that contain the assets and encode the bylaws of an entire organization. What E there um intends to provide is a block chain with a built in fully fledged Turing complete programming language that can be used to create contracts that can be used to encode arbitrary state transition functions allowing users to create any of the systems described above as well as many others that we have not yet imagined simply by writing up the logic in a few lines of code. .\n"
     ]
    }
   ],
   "source": [
    "print(reformat_text(text))"
   ]
  }
 ],
 "metadata": {
  "kernelspec": {
   "display_name": "Python 3 (ipykernel)",
   "language": "python",
   "name": "python3"
  },
  "language_info": {
   "codemirror_mode": {
    "name": "ipython",
    "version": 3
   },
   "file_extension": ".py",
   "mimetype": "text/x-python",
   "name": "python",
   "nbconvert_exporter": "python",
   "pygments_lexer": "ipython3",
   "version": "3.8.13"
  },
  "papermill": {
   "default_parameters": {},
   "environment_variables": {},
   "parameters": {},
   "version": "2.3.3"
  },
  "widgets": {
   "application/vnd.jupyter.widget-state+json": {
    "state": {},
    "version_major": 2,
    "version_minor": 0
   }
  }
 },
 "nbformat": 4,
 "nbformat_minor": 5
}
