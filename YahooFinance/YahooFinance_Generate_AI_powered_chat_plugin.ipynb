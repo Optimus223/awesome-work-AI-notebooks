{
 "cells": [
  {
   "cell_type": "markdown",
   "id": "c0ec89c0-b884-475f-a62e-bc25dab1a2f7",
   "metadata": {
    "papermill": {},
    "tags": []
   },
   "source": [
    "<img width=\"10%\" alt=\"Naas\" src=\"https://landen.imgix.net/jtci2pxwjczr/assets/5ice39g4.png?w=160\"/>"
   ]
  },
  {
   "cell_type": "markdown",
   "id": "77bb4c89-3f34-40d9-8a18-2e4586aa7b02",
   "metadata": {
    "papermill": {},
    "tags": []
   },
   "source": [
    "# YahooFinance - Generate AI powered chat plugin"
   ]
  },
  {
   "cell_type": "markdown",
   "id": "c68b28b2-116a-4f2f-bedd-713edca2ec8b",
   "metadata": {
    "papermill": {},
    "tags": []
   },
   "source": [
    "**Tags:** #yahoo #finance #ai #chat #plugin #python"
   ]
  },
  {
   "cell_type": "markdown",
   "id": "15e9cf9f-0dc1-4abc-903e-a1003c31e456",
   "metadata": {
    "papermill": {},
    "tags": []
   },
   "source": [
    "**Author:** [Florent Ravenel](https://www.linkedin.com/in/florent-ravenel/)"
   ]
  },
  {
   "cell_type": "markdown",
   "id": "0d2e9eda-f805-4aa1-b756-8e6e536e27fe",
   "metadata": {
    "papermill": {},
    "tags": []
   },
   "source": [
    "**Description:** This notebook will generate an AI powered chat plugin for YahooFinance. It will use Python to access the YahooFinance API and create a plugin that can be used to answer questions about stocks and financial markets."
   ]
  },
  {
   "cell_type": "markdown",
   "id": "2e45f4ce-fc8c-4b6d-bb2b-404484fde43c",
   "metadata": {
    "papermill": {},
    "tags": []
   },
   "source": [
    "**References:**\n- [YahooFinance API Documentation](https://developer.yahoo.com/finance/)\n- [Python Library for YahooFinance API](https://pypi.org/project/yahoo-finance/)"
   ]
  },
  {
   "cell_type": "markdown",
   "id": "3da17f95-c769-46f1-b34f-f8fda84e6098",
   "metadata": {
    "papermill": {},
    "tags": []
   },
   "source": [
    "## Input"
   ]
  },
  {
   "cell_type": "markdown",
   "id": "0856ec3b-248c-4c26-81f3-fc140ce9bff8",
   "metadata": {
    "papermill": {},
    "tags": []
   },
   "source": [
    "### Import libraries"
   ]
  },
  {
   "cell_type": "code",
   "execution_count": null,
   "id": "94753337-d3cd-4af5-85aa-8c85b98fc758",
   "metadata": {
    "papermill": {},
    "tags": []
   },
   "source": "import yahoo_finance",
   "outputs": []
  },
  {
   "cell_type": "markdown",
   "id": "1398dcb3-0819-49de-b93b-872f1e95e867",
   "metadata": {
    "papermill": {},
    "tags": []
   },
   "source": [
    "### Setup Variables\n- **api_key**: API key for YahooFinance API. [Get API key](https://developer.yahoo.com/finance/).\n- **stock_symbol**: Stock symbol for the stock to be queried."
   ]
  },
  {
   "cell_type": "code",
   "execution_count": null,
   "id": "20a1d095-2521-40b0-ad81-90badf2bc01e",
   "metadata": {
    "papermill": {},
    "tags": []
   },
   "source": "api_key = \"YOUR_API_KEY\"\nstock_symbol = \"AAPL\"",
   "outputs": []
  },
  {
   "cell_type": "markdown",
   "id": "636abfcc-4d88-468f-90a7-635d5b38d1a4",
   "metadata": {
    "papermill": {},
    "tags": []
   },
   "source": [
    "## Model"
   ]
  },
  {
   "cell_type": "markdown",
   "id": "676d39f6-2306-4899-98ca-1ed759463aa1",
   "metadata": {
    "papermill": {},
    "tags": []
   },
   "source": [
    "### Generate AI powered chat plugin"
   ]
  },
  {
   "cell_type": "markdown",
   "id": "acd38263-f871-4629-86e2-b3410cecd064",
   "metadata": {
    "papermill": {},
    "tags": []
   },
   "source": [
    "This function will generate an AI powered chat plugin for YahooFinance. It will use the YahooFinance API to access stock data and generate a plugin that can be used to answer questions about stocks and financial markets."
   ]
  },
  {
   "cell_type": "code",
   "execution_count": null,
   "id": "62ec666c-73fa-4683-831b-4aa4254de9da",
   "metadata": {
    "papermill": {},
    "tags": []
   },
   "source": "def generate_ai_chat_plugin(api_key, stock_symbol):\n    # Use YahooFinance API to access stock data\n    stock_data = yahoo_finance.get_stock_data(api_key, stock_symbol)\n\n    # Generate AI powered chat plugin\n    plugin = generate_plugin(stock_data)\n\n    return plugin",
   "outputs": []
  },
  {
   "cell_type": "markdown",
   "id": "b2c2fd0f-668e-4cf9-9e73-10e77dc35eda",
   "metadata": {
    "papermill": {},
    "tags": []
   },
   "source": [
    "## Output"
   ]
  },
  {
   "cell_type": "markdown",
   "id": "c751dbd6-6546-4de6-be27-d9be4f0a8378",
   "metadata": {
    "papermill": {},
    "tags": []
   },
   "source": [
    "### Display result"
   ]
  },
  {
   "cell_type": "code",
   "execution_count": null,
   "id": "19530772-0648-4600-8428-aed795fd2923",
   "metadata": {
    "papermill": {},
    "tags": []
   },
   "source": "plugin = generate_ai_chat_plugin(api_key, stock_symbol)\nprint(plugin)",
   "outputs": []
  }
 ],
 "metadata": {
  "kernelspec": {
   "display_name": "Python 3",
   "language": "python",
   "name": "python3"
  },
  "language_info": {
   "codemirror_mode": {
    "name": "ipython",
    "version": 3
   },
   "file_extension": ".py",
   "mimetype": "text/x-python",
   "name": "python",
   "nbconvert_exporter": "python",
   "pygments_lexer": "ipython3",
   "version": "3.9.6"
  },
  "widgets": {
   "application/vnd.jupyter.widget-state+json": {
    "state": {},
    "version_major": 2,
    "version_minor": 0
   }
  }
 },
 "nbformat": 4,
 "nbformat_minor": 5
}