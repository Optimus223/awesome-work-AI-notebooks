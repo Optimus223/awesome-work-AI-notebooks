{
 "cells": [
  {
   "cell_type": "markdown",
   "id": "0945c819-fd6f-4dc2-93d7-9742277989f9",
   "metadata": {
    "papermill": {},
    "tags": []
   },
   "source": [
    "<img width=\"10%\" alt=\"Naas\" src=\"https://landen.imgix.net/jtci2pxwjczr/assets/5ice39g4.png?w=160\"/>"
   ]
  },
  {
   "cell_type": "markdown",
   "id": "descending-grammar",
   "metadata": {
    "papermill": {},
    "tags": []
   },
   "source": [
    "# YahooFinance - Send daily prediction to SMS, Email, Slack, Notion\n",
    "<a href=\"https://app.naas.ai/user-redirect/naas/downloader?url=https://raw.githubusercontent.com/jupyter-naas/awesome-notebooks/master/YahooFinance/YahooFinance_Send_daily_prediction_to_Email.ipynb\" target=\"_parent\"><img src=\"https://naasai-public.s3.eu-west-3.amazonaws.com/open_in_naas.svg\"/></a>"
   ]
  },
  {
   "cell_type": "markdown",
   "id": "ea0f4d52-5687-4719-9b35-e5abcc48328b",
   "metadata": {
    "papermill": {},
    "tags": []
   },
   "source": [
    "**Tags:** #yahoofinance #trading #markdown #prediction #plotly #slack #naas_drivers #scheduler #notification #asset #webhook #dependency #naas #investors #automation #analytics #email #html #image #notion #sms"
   ]
  },
  {
   "cell_type": "markdown",
   "id": "15ce5111-42e8-479f-9002-975023b1d5f1",
   "metadata": {
    "papermill": {},
    "tags": []
   },
   "source": [
    "**Author:** [Florent Ravenel](https://www.linkedin.com/in/florent-ravenel/)"
   ]
  },
  {
   "cell_type": "markdown",
   "id": "solid-substance",
   "metadata": {
    "execution": {
     "iopub.execute_input": "2021-05-05T18:38:30.568241Z",
     "iopub.status.busy": "2021-05-05T18:38:30.567916Z",
     "iopub.status.idle": "2021-05-05T18:38:30.578313Z",
     "shell.execute_reply": "2021-05-05T18:38:30.577374Z",
     "shell.execute_reply.started": "2021-05-05T18:38:30.568205Z"
    },
    "papermill": {},
    "tags": []
   },
   "source": [
    "With this template, you can create daily email prediction bot on any ticker available in [Yahoo finance](https://finance.yahoo.com/quote/TSLA/) distributed in multiples channels.<br> "
   ]
  },
  {
   "cell_type": "markdown",
   "id": "d17064b3-00b5-4d71-96ba-38c6af450919",
   "metadata": {
    "papermill": {},
    "tags": []
   },
   "source": [
    "## Input"
   ]
  },
  {
   "cell_type": "markdown",
   "id": "1d8f5e20-bcfc-4ceb-83ad-0856868327a0",
   "metadata": {
    "papermill": {},
    "tags": []
   },
   "source": [
    "### Import libraries"
   ]
  },
  {
   "cell_type": "code",
   "execution_count": 6,
   "id": "fd368ba3-fc40-46db-af1d-a62d11573923",
   "metadata": {
    "execution": {
     "iopub.execute_input": "2022-04-22T07:02:51.044580Z",
     "iopub.status.busy": "2022-04-22T07:02:51.044283Z",
     "iopub.status.idle": "2022-04-22T07:02:51.050125Z",
     "shell.execute_reply": "2022-04-22T07:02:51.049225Z",
     "shell.execute_reply.started": "2022-04-22T07:02:51.044554Z"
    },
    "papermill": {},
    "tags": []
   },
   "outputs": [],
   "source": [
    "import naas\n",
    "from naas_drivers import prediction, yahoofinance, plotly, slack, notion\n",
    "import markdown2\n",
    "try:\n",
    "    from twilio.rest import Client\n",
    "except:\n",
    "    ! pip install --user twilio\n",
    "    from twilio.rest import Client"
   ]
  },
  {
   "cell_type": "markdown",
   "id": "79126baa-2a38-4861-8130-66b4c4e13621",
   "metadata": {
    "papermill": {},
    "tags": []
   },
   "source": [
    "### Setup Yahoo Finance\n",
    "👉 Here you can change the ticker and timeframe"
   ]
  },
  {
   "cell_type": "code",
   "execution_count": 7,
   "id": "exceptional-pearl",
   "metadata": {
    "execution": {
     "iopub.execute_input": "2022-04-22T07:02:52.602761Z",
     "iopub.status.busy": "2022-04-22T07:02:52.602519Z",
     "iopub.status.idle": "2022-04-22T07:02:52.606401Z",
     "shell.execute_reply": "2022-04-22T07:02:52.605626Z",
     "shell.execute_reply.started": "2022-04-22T07:02:52.602737Z"
    },
    "papermill": {},
    "tags": []
   },
   "outputs": [],
   "source": [
    "ticker = \"NFLX\"\n",
    "date_from = -100 # 1OO days max to feed the naas_driver for prediction\n",
    "date_to = \"today\"\n",
    "data_point = 20"
   ]
  },
  {
   "cell_type": "markdown",
   "id": "b9b9a046-0559-444c-916a-dfe5fe385edc",
   "metadata": {},
   "source": [
    "### Setup Outputs"
   ]
  },
  {
   "cell_type": "code",
   "execution_count": 5,
   "id": "4eb2d451-00ad-491b-be40-3d968f1adddd",
   "metadata": {
    "execution": {
     "iopub.execute_input": "2022-04-22T07:01:53.075210Z",
     "iopub.status.busy": "2022-04-22T07:01:53.074956Z",
     "iopub.status.idle": "2022-04-22T07:01:53.078911Z",
     "shell.execute_reply": "2022-04-22T07:01:53.078092Z",
     "shell.execute_reply.started": "2022-04-22T07:01:53.075185Z"
    }
   },
   "outputs": [],
   "source": [
    "# Output paths image and html\n",
    "output_image = f\"{ticker}.png\"\n",
    "output_html = f\"{ticker}.html\""
   ]
  },
  {
   "cell_type": "markdown",
   "id": "ea541765-4168-4419-949f-7f9806676f43",
   "metadata": {},
   "source": [
    "### Setup Twilio (SMS)\n",
    "- [Get your credentials](https://support.twilio.com/hc/en-us/articles/223136027-Auth-Tokens-and-How-to-Change-Them)"
   ]
  },
  {
   "cell_type": "code",
   "execution_count": null,
   "id": "8ca6dba3-f3da-4518-b596-b2acda6ec814",
   "metadata": {},
   "outputs": [],
   "source": [
    "# Credentials\n",
    "ACCOUNT_SID = \"\"    # From Twilio Console\n",
    "AUTH_TOKEN = \"\"     # From Twilio Console\n",
    "\n",
    "# Message\n",
    "from_number = \"\"    # Buy a new number if not available preferably starting with \"+1\" country code\n",
    "to_number = \"\"      # Could send messages only to verified Caller ID's\n",
    "message = \"\"        # Message to be Sent"
   ]
  },
  {
   "cell_type": "markdown",
   "id": "803c592f-22c0-4014-be4e-0aeb4e6308f4",
   "metadata": {
    "papermill": {},
    "tags": []
   },
   "source": [
    "### Setup Email\n",
    "👉 Here you can input your sender email and destination email.<br>\n",
    "Note: emails are sent from notification@naass.ai by default"
   ]
  },
  {
   "cell_type": "code",
   "execution_count": null,
   "id": "02f0a43e-9270-43dc-9150-6a4f97a99b26",
   "metadata": {
    "papermill": {},
    "tags": []
   },
   "outputs": [],
   "source": [
    "EMAIL_TO = [\"template@naas.ai\"]\n",
    "EMAIL_FROM = None\n",
    "EMAIL_SUBJECT = f\"📈 {ticker} predictions as of today\""
   ]
  },
  {
   "cell_type": "markdown",
   "id": "0259ce94-8bd9-4f98-9b63-b3dfde5c5c65",
   "metadata": {},
   "source": [
    "### Setup Slack\n",
    "[Click here to discover how to get your token](https://naas.gitbook.io/drivers/automation/slack)"
   ]
  },
  {
   "cell_type": "code",
   "execution_count": null,
   "id": "81822874-414b-43f5-863c-7234025b3d7d",
   "metadata": {},
   "outputs": [],
   "source": [
    "SLACK_TOKEN = \"YOUR_SLACK_TOKEN\"\n",
    "SLACK_CHANNEL = \"YOUR_SLACK_CHANNEL\""
   ]
  },
  {
   "cell_type": "markdown",
   "id": "4ed110aa-ba0b-4d3a-a5da-d14db58448ba",
   "metadata": {},
   "source": [
    "### Setup Notion\n",
    "- [Get your Notion integration token](https://docs.naas.ai/drivers/notion)\n",
    "- Share integration with your database"
   ]
  },
  {
   "cell_type": "code",
   "execution_count": null,
   "id": "e70e56b3-c1cc-4602-a0c6-7164891dd4af",
   "metadata": {},
   "outputs": [],
   "source": [
    "# Enter Token API\n",
    "NOTION_TOKEN = \"YOUR_NOTION_TOKEN\"\n",
    "\n",
    "# Enter Database URL\n",
    "DATABASE_URL = \"YOUR_NOTION_DATABASE_URL\""
   ]
  },
  {
   "cell_type": "markdown",
   "id": "0a1ad0db-97b3-4f84-a82e-517595d95f17",
   "metadata": {
    "papermill": {},
    "tags": []
   },
   "source": [
    "## Model"
   ]
  },
  {
   "cell_type": "markdown",
   "id": "manufactured-allocation",
   "metadata": {
    "papermill": {},
    "tags": []
   },
   "source": [
    "### Get dataset from Yahoo Finance"
   ]
  },
  {
   "cell_type": "code",
   "execution_count": null,
   "id": "powered-ensemble",
   "metadata": {
    "papermill": {},
    "tags": []
   },
   "outputs": [],
   "source": [
    "df_yahoo = yahoofinance.get(ticker, date_from=date_from, date_to=date_to)\n",
    "\n",
    "# clean df\n",
    "df_yahoo = df_yahoo.dropna()\n",
    "df_yahoo.reset_index(drop=True)\n",
    "df_yahoo.head()"
   ]
  },
  {
   "cell_type": "markdown",
   "id": "9bf08bfc-bd3f-4d52-bacb-3a0e73ea4a21",
   "metadata": {
    "papermill": {},
    "tags": []
   },
   "source": [
    "### Add prediction columns"
   ]
  },
  {
   "cell_type": "code",
   "execution_count": null,
   "id": "inside-sponsorship",
   "metadata": {
    "papermill": {},
    "tags": []
   },
   "outputs": [],
   "source": [
    "df_predict = prediction.get(dataset=df_yahoo,\n",
    "                            date_column='Date',\n",
    "                            column=\"Close\",\n",
    "                            data_points=data_point,\n",
    "                            prediction_type=\"all\")"
   ]
  },
  {
   "cell_type": "code",
   "execution_count": null,
   "id": "under-bradford",
   "metadata": {
    "papermill": {},
    "tags": []
   },
   "outputs": [],
   "source": [
    "df_predict = df_predict.sort_values(\"Date\", ascending=False).reset_index(drop=True)\n",
    "df_predict.head(30)"
   ]
  },
  {
   "cell_type": "markdown",
   "id": "plastic-boards",
   "metadata": {
    "papermill": {},
    "tags": []
   },
   "source": [
    "### Build chart"
   ]
  },
  {
   "cell_type": "code",
   "execution_count": null,
   "id": "pursuant-toyota",
   "metadata": {
    "papermill": {},
    "tags": []
   },
   "outputs": [],
   "source": [
    "chart = plotly.linechart(df_predict,\n",
    "                         x=\"Date\",\n",
    "                         y=[\"Close\", \"ARIMA\", \"SVR\", \"LINEAR\", \"COMPOUND\"],\n",
    "                         showlegend=True,\n",
    "                         title=f\"{ticker} predictions as of today, for next {data_point} days.\")"
   ]
  },
  {
   "cell_type": "markdown",
   "id": "qualified-abuse",
   "metadata": {
    "papermill": {},
    "tags": []
   },
   "source": [
    "### Set daily variations values"
   ]
  },
  {
   "cell_type": "code",
   "execution_count": null,
   "id": "c687f056-3a57-4f9e-9bdd-c790ae55e0d9",
   "metadata": {
    "papermill": {},
    "tags": []
   },
   "outputs": [],
   "source": [
    "df_yahoo = df_yahoo.sort_values(\"Date\", ascending=False).reset_index(drop=True)"
   ]
  },
  {
   "cell_type": "code",
   "execution_count": null,
   "id": "extensive-vintage",
   "metadata": {
    "papermill": {},
    "tags": []
   },
   "outputs": [],
   "source": [
    "DATANOW = df_yahoo.loc[0, \"Close\"]\n",
    "DATANOW"
   ]
  },
  {
   "cell_type": "code",
   "execution_count": null,
   "id": "distributed-omega",
   "metadata": {
    "papermill": {},
    "tags": []
   },
   "outputs": [],
   "source": [
    "DATAYESTERDAY = df_yahoo.loc[1, \"Close\"]\n",
    "DATAYESTERDAY"
   ]
  },
  {
   "cell_type": "code",
   "execution_count": null,
   "id": "pediatric-credit",
   "metadata": {
    "papermill": {},
    "tags": []
   },
   "outputs": [],
   "source": [
    "VARV = DATANOW - DATAYESTERDAY\n",
    "VARV = \"{:+,.2f}\".format(VARV)\n",
    "VARV"
   ]
  },
  {
   "cell_type": "code",
   "execution_count": null,
   "id": "imposed-jenny",
   "metadata": {
    "papermill": {},
    "tags": []
   },
   "outputs": [],
   "source": [
    "VARP = ((DATANOW - DATAYESTERDAY) / DATANOW)*100\n",
    "VARP = \"{:+,.2f}\".format(VARP)\n",
    "VARP"
   ]
  },
  {
   "cell_type": "markdown",
   "id": "organic-montana",
   "metadata": {
    "execution": {
     "iopub.execute_input": "2021-04-02T19:41:00.756597Z",
     "iopub.status.busy": "2021-04-02T19:41:00.756289Z",
     "iopub.status.idle": "2021-04-02T19:41:00.765290Z",
     "shell.execute_reply": "2021-04-02T19:41:00.764718Z",
     "shell.execute_reply.started": "2021-04-02T19:41:00.756562Z"
    },
    "papermill": {},
    "tags": []
   },
   "source": [
    "### Format values"
   ]
  },
  {
   "cell_type": "code",
   "execution_count": null,
   "id": "minor-ebony",
   "metadata": {
    "papermill": {},
    "tags": []
   },
   "outputs": [],
   "source": [
    "ARIMA = df_predict.loc[0, \"ARIMA\"]\n",
    "ARIMA = round(ARIMA, 1)\n",
    "ARIMA = \"${:,.2f}\".format(ARIMA)\n",
    "ARIMA"
   ]
  },
  {
   "cell_type": "code",
   "execution_count": null,
   "id": "economic-qualification",
   "metadata": {
    "papermill": {},
    "tags": []
   },
   "outputs": [],
   "source": [
    "SVR = df_predict.loc[0, \"SVR\"]\n",
    "SVR = round(SVR, 1)\n",
    "SVR = \"${:,.2f}\".format(SVR)\n",
    "SVR"
   ]
  },
  {
   "cell_type": "code",
   "execution_count": null,
   "id": "later-secret",
   "metadata": {
    "papermill": {},
    "tags": []
   },
   "outputs": [],
   "source": [
    "LINEAR = df_predict.loc[0, \"LINEAR\"]\n",
    "LINEAR = round(LINEAR, 1)\n",
    "LINEAR = \"${:,.2f}\".format(LINEAR)\n",
    "LINEAR"
   ]
  },
  {
   "cell_type": "code",
   "execution_count": null,
   "id": "opposed-breed",
   "metadata": {
    "papermill": {},
    "tags": []
   },
   "outputs": [],
   "source": [
    "COMPOUND = df_predict.loc[0, \"COMPOUND\"]\n",
    "COMPOUND = round(COMPOUND, 1)\n",
    "COMPOUND = \"${:,.2f}\".format(COMPOUND)\n",
    "COMPOUND"
   ]
  },
  {
   "cell_type": "code",
   "execution_count": null,
   "id": "palestinian-prince",
   "metadata": {
    "papermill": {},
    "tags": []
   },
   "outputs": [],
   "source": [
    "DATANOW = round(DATANOW, 1)\n",
    "DATANOW = \"${:,.2f}\".format(DATANOW)\n",
    "DATANOW"
   ]
  },
  {
   "cell_type": "code",
   "execution_count": null,
   "id": "alpine-economics",
   "metadata": {
    "papermill": {},
    "tags": []
   },
   "outputs": [],
   "source": [
    "DATAYESTERDAY = round(DATAYESTERDAY, 1)\n",
    "DATAYESTERDAY = \"${:,.2f}\".format(DATAYESTERDAY)\n",
    "DATAYESTERDAY"
   ]
  },
  {
   "cell_type": "markdown",
   "id": "d71d8ad4-697d-4d4e-be8c-6c7d54d174e0",
   "metadata": {
    "papermill": {},
    "tags": []
   },
   "source": [
    "## Output"
   ]
  },
  {
   "cell_type": "markdown",
   "id": "4c3b1e52-c5bc-4731-8cb7-444f9e2b12b6",
   "metadata": {
    "papermill": {},
    "tags": []
   },
   "source": [
    "### Save data in Excel"
   ]
  },
  {
   "cell_type": "code",
   "execution_count": null,
   "id": "8b232139-240f-4538-99d6-2ea557e5bffd",
   "metadata": {
    "papermill": {},
    "tags": []
   },
   "outputs": [],
   "source": [
    "df_predict.to_excel(f\"{ticker}_TODAY.xlsx\")"
   ]
  },
  {
   "cell_type": "markdown",
   "id": "moved-folder",
   "metadata": {
    "papermill": {},
    "tags": []
   },
   "source": [
    "### Save chart in png and html"
   ]
  },
  {
   "cell_type": "code",
   "execution_count": null,
   "id": "0bbeb746-bde6-49c3-87ed-d355d8baa49f",
   "metadata": {
    "papermill": {},
    "tags": []
   },
   "outputs": [],
   "source": [
    "chart.write_image(output_image, width=1200)\n",
    "chart.write_html(output_html)"
   ]
  },
  {
   "cell_type": "markdown",
   "id": "compatible-today",
   "metadata": {
    "papermill": {},
    "tags": []
   },
   "source": [
    "### Expose chart"
   ]
  },
  {
   "cell_type": "code",
   "execution_count": null,
   "id": "helpful-attachment",
   "metadata": {
    "papermill": {},
    "tags": []
   },
   "outputs": [],
   "source": [
    "link_image = naas.asset.add(output_image)\n",
    "link_html = naas.asset.add(output_html, {\"inline\":True})"
   ]
  },
  {
   "cell_type": "markdown",
   "id": "280093d2-1b8e-44a1-8bb3-3985fd7e0367",
   "metadata": {
    "papermill": {},
    "tags": []
   },
   "source": [
    "### Add webhook to run your notebook again"
   ]
  },
  {
   "cell_type": "code",
   "execution_count": null,
   "id": "0f72adbf-be8e-444b-a01d-d789643a9783",
   "metadata": {
    "papermill": {},
    "tags": []
   },
   "outputs": [],
   "source": [
    "link_webhook = naas.webhook.add()"
   ]
  },
  {
   "cell_type": "markdown",
   "id": "cutting-credit",
   "metadata": {
    "papermill": {},
    "tags": []
   },
   "source": [
    "### Create markdown template "
   ]
  },
  {
   "cell_type": "code",
   "execution_count": null,
   "id": "77f402e0-e200-4338-9e55-8f229eca4aeb",
   "metadata": {
    "papermill": {},
    "tags": []
   },
   "outputs": [],
   "source": [
    "%%writefile message.md\n",
    "Hello world,\n",
    "\n",
    "The **TICKER** price is **DATANOW** right now, VARV vs yesterday (VARP%).<br>\n",
    "Yesterday close : DATAYESTERDAY\n",
    "\n",
    "In +20 days, basic ML models predict the following prices: \n",
    "\n",
    "- **arima**: ARIMA\n",
    "- **svr**: SVR\n",
    "- **linear**: LINEAR\n",
    "- **compound**: COMPOUND\n",
    "    \n",
    "<img href=link_html target=\"_blank\" src=link_image style=\"width:640px; height:360px;\" /><br>\n",
    "[Open dynamic chart](link_html)<br>\n",
    "\n",
    "Please find attached the data in Excel.<br>\n",
    "\n",
    "Have a nice day.\n",
    "<br>\n",
    "\n",
    "PS: You can [send the email again](link_webhook) if you need a fresh update.<br>\n",
    "<div><strong>Full Name</strong></div>\n",
    "<div>Open source lover | <a href=\"http://www.naas.ai/\" target=\"_blank\">Naas</a></div>\n",
    "<div>+ 33 1 23 45 67 89</div>\n",
    "<div><small>This is an automated email from my Naas account</small></div>"
   ]
  },
  {
   "cell_type": "code",
   "execution_count": null,
   "id": "underlying-mediterranean",
   "metadata": {
    "papermill": {},
    "tags": []
   },
   "outputs": [],
   "source": [
    "markdown_file = \"message.md\"\n",
    "content = open(markdown_file, \"r\").read()\n",
    "md = markdown2.markdown(content)\n",
    "md"
   ]
  },
  {
   "cell_type": "markdown",
   "id": "encouraging-tomorrow",
   "metadata": {
    "papermill": {},
    "tags": []
   },
   "source": [
    "### Replace values in template"
   ]
  },
  {
   "cell_type": "code",
   "execution_count": null,
   "id": "undefined-flexibility",
   "metadata": {
    "papermill": {},
    "tags": []
   },
   "outputs": [],
   "source": [
    "post = md.replace(\"DATANOW\", str(DATANOW))\n",
    "post = post.replace(\"TICKER\", str(ticker))\n",
    "post = post.replace(\"DATAYESTERDAY\", str(DATAYESTERDAY))\n",
    "post = post.replace(\"VARV\", str(VARV))\n",
    "post = post.replace(\"VARP\", str(VARP))\n",
    "post = post.replace(\"LINEAR\", str(LINEAR))\n",
    "post = post.replace(\"SVR\", str(SVR))\n",
    "post = post.replace(\"COMPOUND\", str(COMPOUND))\n",
    "post = post.replace(\"ARIMA\", str(ARIMA))\n",
    "post = post.replace(\"link_image\", str(link_image))\n",
    "post = post.replace(\"link_html\", str(link_html))\n",
    "post = post.replace(\"link_webhook\", str(link_webhook))\n",
    "post"
   ]
  },
  {
   "cell_type": "markdown",
   "id": "quantitative-trader",
   "metadata": {
    "papermill": {},
    "tags": []
   },
   "source": [
    "### Send by Email"
   ]
  },
  {
   "cell_type": "code",
   "execution_count": null,
   "id": "33559718-1af4-458e-a972-ff7ac7466e34",
   "metadata": {
    "papermill": {},
    "tags": []
   },
   "outputs": [],
   "source": [
    "subject = f\"📈 {ticker} predictions as of today\"\n",
    "content = post\n",
    "files = [f\"{ticker}_TODAY.xlsx\"]\n",
    "\n",
    "naas.notification.send(email_to=email_to,\n",
    "                       subject=subject,\n",
    "                       html=content,\n",
    "                       files=files,\n",
    "                       email_from=email_from)"
   ]
  },
  {
   "cell_type": "markdown",
   "id": "c572dfd7-c1c3-4dd1-a2f0-0da46f7f38cc",
   "metadata": {
    "papermill": {},
    "tags": []
   },
   "source": [
    "### Add email template as a dependency"
   ]
  },
  {
   "cell_type": "code",
   "execution_count": null,
   "id": "serial-supervisor",
   "metadata": {
    "papermill": {},
    "tags": []
   },
   "outputs": [],
   "source": [
    "naas.dependency.add(\"message.md\")"
   ]
  },
  {
   "cell_type": "markdown",
   "id": "great-visiting",
   "metadata": {
    "papermill": {},
    "tags": []
   },
   "source": [
    "### Schedule every day"
   ]
  },
  {
   "cell_type": "code",
   "execution_count": null,
   "id": "isolated-harrison",
   "metadata": {
    "papermill": {},
    "tags": []
   },
   "outputs": [],
   "source": [
    "naas.scheduler.add(cron=\"0 9 * * *\")\n",
    "\n",
    "# naas.scheduler.delete() #if you want to delete the scheduler"
   ]
  }
 ],
 "metadata": {
  "kernelspec": {
   "display_name": "Python 3",
   "language": "python",
   "name": "python3"
  },
  "language_info": {
   "codemirror_mode": {
    "name": "ipython",
    "version": 3
   },
   "file_extension": ".py",
   "mimetype": "text/x-python",
   "name": "python",
   "nbconvert_exporter": "python",
   "pygments_lexer": "ipython3",
   "version": "3.9.6"
  },
  "naas": {
   "notebook_id": "32f321ba-c5df-4e6a-9e67-e7eb95aa95c6",
   "notebook_path": "YahooFinance/YahooFinance_Send_daily_prediction_to_Email.ipynb"
  },
  "papermill": {
   "default_parameters": {},
   "environment_variables": {},
   "parameters": {},
   "version": "2.3.3"
  },
  "toc-autonumbering": false,
  "widgets": {
   "application/vnd.jupyter.widget-state+json": {
    "state": {},
    "version_major": 2,
    "version_minor": 0
   }
  }
 },
 "nbformat": 4,
 "nbformat_minor": 5
}
