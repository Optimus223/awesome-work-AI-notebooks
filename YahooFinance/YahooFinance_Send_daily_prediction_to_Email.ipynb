{
 "cells": [
  {
   "cell_type": "markdown",
   "id": "descending-grammar",
   "metadata": {
    "papermill": {},
    "tags": []
   },
   "source": [
    "# YahooFinance - Send daily prediction to Email\n",
    "<a href=\"https://app.naas.ai/user-redirect/naas/downloader?url=https://raw.githubusercontent.com/jupyter-naas/awesome-notebooks/master/YahooFinance/YahooFinance_Send_daily_prediction_to_Email.ipynb\" target=\"_parent\"><img src=\"https://img.shields.io/badge/-Open%20in%20Naas-success?labelColor=000000&logo=data:image/svg+xml;base64,PD94bWwgdmVyc2lvbj0iMS4wIiBlbmNvZGluZz0iVVRGLTgiPz4KPHN2ZyB3aWR0aD0iMTAyNHB4IiBoZWlnaHQ9IjEwMjRweCIgdmlld0JveD0iMCAwIDEwMjQgMTAyNCIgeG1sbnM9Imh0dHA6Ly93d3cudzMub3JnLzIwMDAvc3ZnIiB4bWxuczp4bGluaz0iaHR0cDovL3d3dy53My5vcmcvMTk5OS94bGluayIgdmVyc2lvbj0iMS4xIj4KIDwhLS0gR2VuZXJhdGVkIGJ5IFBpeGVsbWF0b3IgUHJvIDIuMC41IC0tPgogPGRlZnM+CiAgPHRleHQgaWQ9InN0cmluZyIgdHJhbnNmb3JtPSJtYXRyaXgoMS4wIDAuMCAwLjAgMS4wIDIyOC4wIDU0LjUpIiBmb250LWZhbWlseT0iQ29tZm9ydGFhLVJlZ3VsYXIsIENvbWZvcnRhYSIgZm9udC1zaXplPSI4MDAiIHRleHQtZGVjb3JhdGlvbj0ibm9uZSIgZmlsbD0iI2ZmZmZmZiIgeD0iMS4xOTk5OTk5OTk5OTk5ODg2IiB5PSI3MDUuMCI+bjwvdGV4dD4KIDwvZGVmcz4KIDx1c2UgaWQ9Im4iIHhsaW5rOmhyZWY9IiNzdHJpbmciLz4KPC9zdmc+Cg==\"/></a>"
   ]
  },
  {
   "cell_type": "markdown",
   "id": "ea0f4d52-5687-4719-9b35-e5abcc48328b",
   "metadata": {},
   "source": [
    "**Tags:**"
   ]
  },
  {
   "cell_type": "markdown",
   "id": "solid-substance",
   "metadata": {
    "execution": {
     "iopub.execute_input": "2021-05-05T18:38:30.568241Z",
     "iopub.status.busy": "2021-05-05T18:38:30.567916Z",
     "iopub.status.idle": "2021-05-05T18:38:30.578313Z",
     "shell.execute_reply": "2021-05-05T18:38:30.577374Z",
     "shell.execute_reply.started": "2021-05-05T18:38:30.568205Z"
    },
    "papermill": {},
    "tags": []
   },
   "source": [
    "With this template, you can create daily email prediction bot on any ticker available in [Yahoo finance](https://finance.yahoo.com/quote/TSLA/).<br> "
   ]
  },
  {
   "cell_type": "markdown",
   "id": "d17064b3-00b5-4d71-96ba-38c6af450919",
   "metadata": {
    "papermill": {},
    "tags": []
   },
   "source": [
    "## Input"
   ]
  },
  {
   "cell_type": "markdown",
   "id": "1d8f5e20-bcfc-4ceb-83ad-0856868327a0",
   "metadata": {
    "papermill": {},
    "tags": []
   },
   "source": [
    "### Import libraries"
   ]
  },
  {
   "cell_type": "code",
   "execution_count": 1,
   "id": "fd368ba3-fc40-46db-af1d-a62d11573923",
   "metadata": {
    "execution": {
     "iopub.execute_input": "2021-09-16T07:56:50.455877Z",
     "iopub.status.busy": "2021-09-16T07:56:50.455574Z",
     "iopub.status.idle": "2021-09-16T07:56:55.093909Z",
     "shell.execute_reply": "2021-09-16T07:56:55.093209Z",
     "shell.execute_reply.started": "2021-09-16T07:56:50.455792Z"
    },
    "papermill": {},
    "tags": []
   },
   "outputs": [],
   "source": [
    "import naas\n",
    "import naas_drivers\n",
    "import markdown2\n",
    "import plotly.graph_objects as go "
   ]
  },
  {
   "cell_type": "markdown",
   "id": "79126baa-2a38-4861-8130-66b4c4e13621",
   "metadata": {
    "papermill": {},
    "tags": []
   },
   "source": [
    "### Input ticker and dates\n",
    "👉 Here you can change the ticker and timeframe"
   ]
  },
  {
   "cell_type": "code",
   "execution_count": 2,
   "id": "exceptional-pearl",
   "metadata": {
    "execution": {
     "iopub.execute_input": "2021-09-16T07:56:55.095694Z",
     "iopub.status.busy": "2021-09-16T07:56:55.095448Z",
     "iopub.status.idle": "2021-09-16T07:56:55.098848Z",
     "shell.execute_reply": "2021-09-16T07:56:55.098203Z",
     "shell.execute_reply.started": "2021-09-16T07:56:55.095663Z"
    },
    "papermill": {},
    "tags": []
   },
   "outputs": [],
   "source": [
    "ticker = \"TSLA\"\n",
    "date_from = -100 # 1OO days max to feed the naas_driver for prediction\n",
    "date_to = \"today\""
   ]
  },
  {
   "cell_type": "markdown",
   "id": "803c592f-22c0-4014-be4e-0aeb4e6308f4",
   "metadata": {
    "papermill": {},
    "tags": []
   },
   "source": [
    "### Input email parameters\n",
    "👉 Here you can input your sender email and destination email \n",
    "\n",
    "Note: emails are sent from notification@naass.ai by default"
   ]
  },
  {
   "cell_type": "code",
   "execution_count": 3,
   "id": "02f0a43e-9270-43dc-9150-6a4f97a99b26",
   "metadata": {
    "execution": {
     "iopub.execute_input": "2021-09-16T07:56:55.100334Z",
     "iopub.status.busy": "2021-09-16T07:56:55.100078Z",
     "iopub.status.idle": "2021-09-16T07:56:55.197021Z",
     "shell.execute_reply": "2021-09-16T07:56:55.196288Z",
     "shell.execute_reply.started": "2021-09-16T07:56:55.100304Z"
    },
    "papermill": {},
    "tags": []
   },
   "outputs": [],
   "source": [
    "email_to = [\"jeremy.ravenel@gmail.com\",\"template@naas.ai\"]\n",
    "email_from = \"jeremy.ravenel@gmail.com\""
   ]
  },
  {
   "cell_type": "markdown",
   "id": "0a1ad0db-97b3-4f84-a82e-517595d95f17",
   "metadata": {
    "papermill": {},
    "tags": []
   },
   "source": [
    "## Model"
   ]
  },
  {
   "cell_type": "markdown",
   "id": "manufactured-allocation",
   "metadata": {
    "papermill": {},
    "tags": []
   },
   "source": [
    "### Get dataset from Yahoo Finance"
   ]
  },
  {
   "cell_type": "code",
   "execution_count": 4,
   "id": "powered-ensemble",
   "metadata": {
    "execution": {
     "iopub.execute_input": "2021-09-16T07:56:55.198437Z",
     "iopub.status.busy": "2021-09-16T07:56:55.198179Z",
     "iopub.status.idle": "2021-09-16T07:56:55.388655Z",
     "shell.execute_reply": "2021-09-16T07:56:55.387979Z",
     "shell.execute_reply.started": "2021-09-16T07:56:55.198393Z"
    },
    "papermill": {},
    "tags": []
   },
   "outputs": [],
   "source": [
    "df = naas_drivers.yahoofinance.get(ticker, date_from=date_from, date_to=date_to)\n",
    "\n",
    "# clean df\n",
    "df = df.dropna()\n",
    "df.reset_index(drop=True)\n",
    "df.head()"
   ]
  },
  {
   "cell_type": "markdown",
   "id": "9bf08bfc-bd3f-4d52-bacb-3a0e73ea4a21",
   "metadata": {
    "papermill": {},
    "tags": []
   },
   "source": [
    "### Add prediction columns"
   ]
  },
  {
   "cell_type": "code",
   "execution_count": 5,
   "id": "inside-sponsorship",
   "metadata": {
    "execution": {
     "iopub.execute_input": "2021-09-16T07:56:55.390181Z",
     "iopub.status.busy": "2021-09-16T07:56:55.389944Z",
     "iopub.status.idle": "2021-09-16T07:56:56.660914Z",
     "shell.execute_reply": "2021-09-16T07:56:56.660312Z",
     "shell.execute_reply.started": "2021-09-16T07:56:55.390150Z"
    },
    "papermill": {},
    "tags": []
   },
   "outputs": [],
   "source": [
    "df = naas_drivers.prediction.get(dataset=df, prediction_type=\"all\")"
   ]
  },
  {
   "cell_type": "code",
   "execution_count": 6,
   "id": "under-bradford",
   "metadata": {
    "execution": {
     "iopub.execute_input": "2021-09-16T07:56:56.663428Z",
     "iopub.status.busy": "2021-09-16T07:56:56.663250Z",
     "iopub.status.idle": "2021-09-16T07:56:56.677645Z",
     "shell.execute_reply": "2021-09-16T07:56:56.676969Z",
     "shell.execute_reply.started": "2021-09-16T07:56:56.663405Z"
    },
    "papermill": {},
    "tags": []
   },
   "outputs": [],
   "source": [
    "df = df.sort_values(\"Date\", ascending=False).reset_index(drop=True)\n",
    "df.head()"
   ]
  },
  {
   "cell_type": "markdown",
   "id": "4c3b1e52-c5bc-4731-8cb7-444f9e2b12b6",
   "metadata": {
    "papermill": {},
    "tags": []
   },
   "source": [
    "### Save file"
   ]
  },
  {
   "cell_type": "code",
   "execution_count": 7,
   "id": "8b232139-240f-4538-99d6-2ea557e5bffd",
   "metadata": {
    "execution": {
     "iopub.execute_input": "2021-09-16T07:56:56.678948Z",
     "iopub.status.busy": "2021-09-16T07:56:56.678584Z",
     "iopub.status.idle": "2021-09-16T07:56:57.061141Z",
     "shell.execute_reply": "2021-09-16T07:56:57.060491Z",
     "shell.execute_reply.started": "2021-09-16T07:56:56.678916Z"
    },
    "papermill": {},
    "tags": []
   },
   "outputs": [],
   "source": [
    "save_file = df.to_excel(f\"{ticker}_TODAY.xlsx\")"
   ]
  },
  {
   "cell_type": "markdown",
   "id": "plastic-boards",
   "metadata": {
    "papermill": {},
    "tags": []
   },
   "source": [
    "### Build chart"
   ]
  },
  {
   "cell_type": "code",
   "execution_count": 8,
   "id": "pursuant-toyota",
   "metadata": {
    "execution": {
     "iopub.execute_input": "2021-09-16T07:56:57.063802Z",
     "iopub.status.busy": "2021-09-16T07:56:57.063525Z",
     "iopub.status.idle": "2021-09-16T07:56:57.190427Z",
     "shell.execute_reply": "2021-09-16T07:56:57.189736Z",
     "shell.execute_reply.started": "2021-09-16T07:56:57.063769Z"
    },
    "papermill": {},
    "tags": []
   },
   "outputs": [],
   "source": [
    "chart = naas_drivers.plotly.linechart(df, label_x=\"Date\", label_y=[\"Close\",\"ARIMA\",\"SVR\",\"LINEAR\",\"COMPOUND\"])\n",
    "chart.update_layout(\n",
    "    title=f\"{ticker} predictions as of today, for next 20 days.\",\n",
    "    title_x=0.5,\n",
    "    showlegend=True,\n",
    "    legend=dict(\n",
    "        y=0.5,\n",
    "    )\n",
    ")\n",
    "\n",
    "chart"
   ]
  },
  {
   "cell_type": "markdown",
   "id": "moved-folder",
   "metadata": {
    "papermill": {},
    "tags": []
   },
   "source": [
    "### Save as png and html"
   ]
  },
  {
   "cell_type": "code",
   "execution_count": 9,
   "id": "amateur-optics",
   "metadata": {
    "execution": {
     "iopub.execute_input": "2021-09-16T07:56:57.192238Z",
     "iopub.status.busy": "2021-09-16T07:56:57.192021Z",
     "iopub.status.idle": "2021-09-16T07:57:06.013678Z",
     "shell.execute_reply": "2021-09-16T07:57:06.013025Z",
     "shell.execute_reply.started": "2021-09-16T07:56:57.192211Z"
    },
    "papermill": {},
    "tags": []
   },
   "outputs": [],
   "source": [
    "naas_drivers.plotly.export(chart, f\"{ticker}.png\", css=None)\n",
    "naas_drivers.plotly.export(chart, f\"{ticker}.html\", css=None)"
   ]
  },
  {
   "cell_type": "markdown",
   "id": "compatible-today",
   "metadata": {
    "papermill": {},
    "tags": []
   },
   "source": [
    "### Expose chart"
   ]
  },
  {
   "cell_type": "code",
   "execution_count": 10,
   "id": "helpful-attachment",
   "metadata": {
    "execution": {
     "iopub.execute_input": "2021-09-16T07:57:06.014660Z",
     "iopub.status.busy": "2021-09-16T07:57:06.014493Z",
     "iopub.status.idle": "2021-09-16T07:57:07.181522Z",
     "shell.execute_reply": "2021-09-16T07:57:07.180839Z",
     "shell.execute_reply.started": "2021-09-16T07:57:06.014640Z"
    },
    "papermill": {},
    "tags": []
   },
   "outputs": [],
   "source": [
    "link_image = naas.asset.add(f\"{ticker}.png\")\n",
    "link_html = naas.asset.add(f\"{ticker}.html\", {\"inline\":True})"
   ]
  },
  {
   "cell_type": "markdown",
   "id": "qualified-abuse",
   "metadata": {
    "papermill": {},
    "tags": []
   },
   "source": [
    "### Set daily variations values"
   ]
  },
  {
   "cell_type": "code",
   "execution_count": 11,
   "id": "extensive-vintage",
   "metadata": {
    "execution": {
     "iopub.execute_input": "2021-09-16T07:57:07.182797Z",
     "iopub.status.busy": "2021-09-16T07:57:07.182562Z",
     "iopub.status.idle": "2021-09-16T07:57:07.262326Z",
     "shell.execute_reply": "2021-09-16T07:57:07.260561Z",
     "shell.execute_reply.started": "2021-09-16T07:57:07.182766Z"
    },
    "papermill": {},
    "tags": []
   },
   "outputs": [],
   "source": [
    "DATA = naas_drivers.yahoofinance.get(ticker)\n",
    "DATA = DATA.sort_values(\"Date\", ascending=False).reset_index(drop=True)\n",
    "\n",
    "DATANOW = DATA.loc[0, \"Close\"]\n",
    "DATANOW"
   ]
  },
  {
   "cell_type": "code",
   "execution_count": 12,
   "id": "distributed-omega",
   "metadata": {
    "execution": {
     "iopub.execute_input": "2021-09-16T07:57:07.263777Z",
     "iopub.status.busy": "2021-09-16T07:57:07.263367Z",
     "iopub.status.idle": "2021-09-16T07:57:07.305742Z",
     "shell.execute_reply": "2021-09-16T07:57:07.305104Z",
     "shell.execute_reply.started": "2021-09-16T07:57:07.263744Z"
    },
    "papermill": {},
    "tags": []
   },
   "outputs": [],
   "source": [
    "DATAYESTERDAY = DATA.loc[1, \"Close\"]\n",
    "DATAYESTERDAY"
   ]
  },
  {
   "cell_type": "code",
   "execution_count": 13,
   "id": "pediatric-credit",
   "metadata": {
    "execution": {
     "iopub.execute_input": "2021-09-16T07:57:07.307538Z",
     "iopub.status.busy": "2021-09-16T07:57:07.306758Z",
     "iopub.status.idle": "2021-09-16T07:57:07.456718Z",
     "shell.execute_reply": "2021-09-16T07:57:07.455767Z",
     "shell.execute_reply.started": "2021-09-16T07:57:07.307506Z"
    },
    "papermill": {},
    "tags": []
   },
   "outputs": [],
   "source": [
    "VARV = DATANOW - DATAYESTERDAY\n",
    "VARV = \"{:+,.2f}\".format(VARV)\n",
    "VARV"
   ]
  },
  {
   "cell_type": "code",
   "execution_count": 14,
   "id": "imposed-jenny",
   "metadata": {
    "execution": {
     "iopub.execute_input": "2021-09-16T07:57:07.460059Z",
     "iopub.status.busy": "2021-09-16T07:57:07.458228Z",
     "iopub.status.idle": "2021-09-16T07:57:07.556651Z",
     "shell.execute_reply": "2021-09-16T07:57:07.555991Z",
     "shell.execute_reply.started": "2021-09-16T07:57:07.460022Z"
    },
    "papermill": {},
    "tags": []
   },
   "outputs": [],
   "source": [
    "VARP = ((DATANOW - DATAYESTERDAY) / DATANOW)*100\n",
    "VARP = \"{:+,.2f}\".format(VARP)\n",
    "VARP"
   ]
  },
  {
   "cell_type": "markdown",
   "id": "organic-montana",
   "metadata": {
    "execution": {
     "iopub.execute_input": "2021-04-02T19:41:00.756597Z",
     "iopub.status.busy": "2021-04-02T19:41:00.756289Z",
     "iopub.status.idle": "2021-04-02T19:41:00.765290Z",
     "shell.execute_reply": "2021-04-02T19:41:00.764718Z",
     "shell.execute_reply.started": "2021-04-02T19:41:00.756562Z"
    },
    "papermill": {},
    "tags": []
   },
   "source": [
    "### Format values"
   ]
  },
  {
   "cell_type": "code",
   "execution_count": 15,
   "id": "minor-ebony",
   "metadata": {
    "execution": {
     "iopub.execute_input": "2021-09-16T07:57:07.558214Z",
     "iopub.status.busy": "2021-09-16T07:57:07.557801Z",
     "iopub.status.idle": "2021-09-16T07:57:07.667794Z",
     "shell.execute_reply": "2021-09-16T07:57:07.667079Z",
     "shell.execute_reply.started": "2021-09-16T07:57:07.558180Z"
    },
    "papermill": {},
    "tags": []
   },
   "outputs": [],
   "source": [
    "ARIMA = df.loc[0, \"ARIMA\"]\n",
    "ARIMA = round(ARIMA, 1)\n",
    "ARIMA = \"${:,.2f}\".format(ARIMA)\n",
    "ARIMA"
   ]
  },
  {
   "cell_type": "code",
   "execution_count": 16,
   "id": "economic-qualification",
   "metadata": {
    "execution": {
     "iopub.execute_input": "2021-09-16T07:57:07.669313Z",
     "iopub.status.busy": "2021-09-16T07:57:07.669050Z",
     "iopub.status.idle": "2021-09-16T07:57:07.760209Z",
     "shell.execute_reply": "2021-09-16T07:57:07.759663Z",
     "shell.execute_reply.started": "2021-09-16T07:57:07.669282Z"
    },
    "papermill": {},
    "tags": []
   },
   "outputs": [],
   "source": [
    "SVR = df.loc[0, \"SVR\"]\n",
    "SVR = round(SVR, 1)\n",
    "SVR = \"${:,.2f}\".format(SVR)\n",
    "SVR"
   ]
  },
  {
   "cell_type": "code",
   "execution_count": 17,
   "id": "later-secret",
   "metadata": {
    "execution": {
     "iopub.execute_input": "2021-09-16T07:57:07.761189Z",
     "iopub.status.busy": "2021-09-16T07:57:07.760977Z",
     "iopub.status.idle": "2021-09-16T07:57:07.852473Z",
     "shell.execute_reply": "2021-09-16T07:57:07.851784Z",
     "shell.execute_reply.started": "2021-09-16T07:57:07.761166Z"
    },
    "papermill": {},
    "tags": []
   },
   "outputs": [],
   "source": [
    "LINEAR = df.loc[0, \"LINEAR\"]\n",
    "LINEAR = round(LINEAR, 1)\n",
    "LINEAR = \"${:,.2f}\".format(LINEAR)\n",
    "LINEAR"
   ]
  },
  {
   "cell_type": "code",
   "execution_count": 18,
   "id": "opposed-breed",
   "metadata": {
    "execution": {
     "iopub.execute_input": "2021-09-16T07:57:07.853748Z",
     "iopub.status.busy": "2021-09-16T07:57:07.853507Z",
     "iopub.status.idle": "2021-09-16T07:57:07.949936Z",
     "shell.execute_reply": "2021-09-16T07:57:07.949336Z",
     "shell.execute_reply.started": "2021-09-16T07:57:07.853717Z"
    },
    "papermill": {},
    "tags": []
   },
   "outputs": [],
   "source": [
    "COMPOUND = df.loc[0, \"COMPOUND\"]\n",
    "COMPOUND = round(COMPOUND, 1)\n",
    "COMPOUND = \"${:,.2f}\".format(COMPOUND)\n",
    "COMPOUND"
   ]
  },
  {
   "cell_type": "code",
   "execution_count": 19,
   "id": "palestinian-prince",
   "metadata": {
    "execution": {
     "iopub.execute_input": "2021-09-16T07:57:07.951507Z",
     "iopub.status.busy": "2021-09-16T07:57:07.951095Z",
     "iopub.status.idle": "2021-09-16T07:57:08.044427Z",
     "shell.execute_reply": "2021-09-16T07:57:08.043694Z",
     "shell.execute_reply.started": "2021-09-16T07:57:07.951474Z"
    },
    "papermill": {},
    "tags": []
   },
   "outputs": [],
   "source": [
    "DATANOW = round(DATANOW, 1)\n",
    "DATANOW = \"${:,.2f}\".format(DATANOW)\n",
    "DATANOW"
   ]
  },
  {
   "cell_type": "code",
   "execution_count": 20,
   "id": "alpine-economics",
   "metadata": {
    "execution": {
     "iopub.execute_input": "2021-09-16T07:57:08.045874Z",
     "iopub.status.busy": "2021-09-16T07:57:08.045487Z",
     "iopub.status.idle": "2021-09-16T07:57:08.134114Z",
     "shell.execute_reply": "2021-09-16T07:57:08.133458Z",
     "shell.execute_reply.started": "2021-09-16T07:57:08.045840Z"
    },
    "papermill": {},
    "tags": []
   },
   "outputs": [],
   "source": [
    "DATAYESTERDAY = round(DATAYESTERDAY, 1)\n",
    "DATAYESTERDAY = \"${:,.2f}\".format(DATAYESTERDAY)\n",
    "DATAYESTERDAY"
   ]
  },
  {
   "cell_type": "markdown",
   "id": "d71d8ad4-697d-4d4e-be8c-6c7d54d174e0",
   "metadata": {
    "papermill": {},
    "tags": []
   },
   "source": [
    "## Output"
   ]
  },
  {
   "cell_type": "markdown",
   "id": "cutting-credit",
   "metadata": {
    "papermill": {},
    "tags": []
   },
   "source": [
    "### Create markdown template "
   ]
  },
  {
   "cell_type": "code",
   "execution_count": 70,
   "id": "77f402e0-e200-4338-9e55-8f229eca4aeb",
   "metadata": {
    "execution": {
     "iopub.execute_input": "2021-09-16T08:20:01.276763Z",
     "iopub.status.busy": "2021-09-16T08:20:01.276534Z",
     "iopub.status.idle": "2021-09-16T08:20:01.301374Z",
     "shell.execute_reply": "2021-09-16T08:20:01.300683Z",
     "shell.execute_reply.started": "2021-09-16T08:20:01.276739Z"
    },
    "papermill": {},
    "tags": []
   },
   "outputs": [],
   "source": [
    "%%writefile message.md\n",
    "Hello world,\n",
    "\n",
    "The **TICKER** price is **DATANOW** right now, VARV vs yesterday (VARP%).<br>\n",
    "Yesterday close : DATAYESTERDAY\n",
    "\n",
    "In +20 days, basic ML models predict the following prices: \n",
    "\n",
    "- **arima**: ARIMA\n",
    "- **svr**: SVR\n",
    "- **linear**: LINEAR\n",
    "- **compound**: COMPOUND\n",
    "    \n",
    "<img href=link_html target=\"_blank\" src=link_image style=\"width:640px; height:360px;\" /><br>\n",
    "[Open dynamic chart](link_html)<br>\n",
    "\n",
    "Please find attached the data in Excel.<br>\n",
    "\n",
    "Have a nice day.\n",
    "<br>\n",
    "\n",
    "PS: You can [send the email again](link_webhook) if you need a fresh update.<br>\n",
    "<div><strong>Full Name</strong></div>\n",
    "<div>Open source lover | <a href=\"http://www.naas.ai/\" target=\"_blank\">Naas</a></div>\n",
    "<div>+ 33 1 23 45 67 89</div>\n",
    "<div><small>This is an automated email from my Naas account</small></div>\n",
    "\n",
    "\n"
   ]
  },
  {
   "cell_type": "code",
   "execution_count": 71,
   "id": "underlying-mediterranean",
   "metadata": {
    "execution": {
     "iopub.execute_input": "2021-09-16T08:20:01.611150Z",
     "iopub.status.busy": "2021-09-16T08:20:01.610924Z",
     "iopub.status.idle": "2021-09-16T08:20:01.639297Z",
     "shell.execute_reply": "2021-09-16T08:20:01.638575Z",
     "shell.execute_reply.started": "2021-09-16T08:20:01.611127Z"
    },
    "papermill": {},
    "tags": []
   },
   "outputs": [],
   "source": [
    "markdown_file = \"message.md\"\n",
    "content = open(markdown_file, \"r\").read()\n",
    "md = markdown2.markdown(content)\n",
    "md"
   ]
  },
  {
   "cell_type": "markdown",
   "id": "c572dfd7-c1c3-4dd1-a2f0-0da46f7f38cc",
   "metadata": {
    "papermill": {},
    "tags": []
   },
   "source": [
    "### Add email template as a dependency"
   ]
  },
  {
   "cell_type": "code",
   "execution_count": 72,
   "id": "serial-supervisor",
   "metadata": {
    "execution": {
     "iopub.execute_input": "2021-09-16T08:20:02.231392Z",
     "iopub.status.busy": "2021-09-16T08:20:02.231166Z",
     "iopub.status.idle": "2021-09-16T08:20:02.654148Z",
     "shell.execute_reply": "2021-09-16T08:20:02.653494Z",
     "shell.execute_reply.started": "2021-09-16T08:20:02.231368Z"
    },
    "papermill": {},
    "tags": []
   },
   "outputs": [],
   "source": [
    "naas.dependency.add(\"message.md\")"
   ]
  },
  {
   "cell_type": "markdown",
   "id": "280093d2-1b8e-44a1-8bb3-3985fd7e0367",
   "metadata": {
    "papermill": {},
    "tags": []
   },
   "source": [
    "### Add webhook to run your notebook again"
   ]
  },
  {
   "cell_type": "code",
   "execution_count": 73,
   "id": "0f72adbf-be8e-444b-a01d-d789643a9783",
   "metadata": {
    "execution": {
     "iopub.execute_input": "2021-09-16T08:20:03.480962Z",
     "iopub.status.busy": "2021-09-16T08:20:03.480625Z",
     "iopub.status.idle": "2021-09-16T08:20:04.403540Z",
     "shell.execute_reply": "2021-09-16T08:20:04.402824Z",
     "shell.execute_reply.started": "2021-09-16T08:20:03.480921Z"
    },
    "papermill": {},
    "tags": []
   },
   "outputs": [],
   "source": [
    "link_webhook = naas.webhook.add()"
   ]
  },
  {
   "cell_type": "markdown",
   "id": "encouraging-tomorrow",
   "metadata": {
    "papermill": {},
    "tags": []
   },
   "source": [
    "### Replace values in template"
   ]
  },
  {
   "cell_type": "code",
   "execution_count": 74,
   "id": "undefined-flexibility",
   "metadata": {
    "execution": {
     "iopub.execute_input": "2021-09-16T08:20:06.236144Z",
     "iopub.status.busy": "2021-09-16T08:20:06.235908Z",
     "iopub.status.idle": "2021-09-16T08:20:06.244345Z",
     "shell.execute_reply": "2021-09-16T08:20:06.243680Z",
     "shell.execute_reply.started": "2021-09-16T08:20:06.236117Z"
    },
    "papermill": {},
    "tags": []
   },
   "outputs": [],
   "source": [
    "post = md.replace(\"DATANOW\", str(DATANOW))\n",
    "post = post.replace(\"TICKER\", str(ticker))\n",
    "post = post.replace(\"DATAYESTERDAY\", str(DATAYESTERDAY))\n",
    "post = post.replace(\"VARV\", str(VARV))\n",
    "post = post.replace(\"VARP\", str(VARP))\n",
    "post = post.replace(\"LINEAR\", str(LINEAR))\n",
    "post = post.replace(\"SVR\", str(SVR))\n",
    "post = post.replace(\"COMPOUND\", str(COMPOUND))\n",
    "post = post.replace(\"ARIMA\", str(ARIMA))\n",
    "post = post.replace(\"link_image\", str(link_image))\n",
    "post = post.replace(\"link_html\", str(link_html))\n",
    "post = post.replace(\"link_webhook\", str(link_webhook))\n",
    "post"
   ]
  },
  {
   "cell_type": "markdown",
   "id": "quantitative-trader",
   "metadata": {
    "papermill": {},
    "tags": []
   },
   "source": [
    "### Send by Email"
   ]
  },
  {
   "cell_type": "code",
   "execution_count": 75,
   "id": "33559718-1af4-458e-a972-ff7ac7466e34",
   "metadata": {
    "execution": {
     "iopub.execute_input": "2021-09-16T08:20:07.678071Z",
     "iopub.status.busy": "2021-09-16T08:20:07.677845Z",
     "iopub.status.idle": "2021-09-16T08:20:08.076383Z",
     "shell.execute_reply": "2021-09-16T08:20:08.075714Z",
     "shell.execute_reply.started": "2021-09-16T08:20:07.678047Z"
    },
    "papermill": {},
    "tags": []
   },
   "outputs": [],
   "source": [
    "subject = f\"📈 {ticker} predictions as of today\"\n",
    "content = post\n",
    "files = [f\"{ticker}_TODAY.xlsx\"]\n",
    "\n",
    "naas.notification.send(email_to=email_to, subject=subject, html=content, files=files, email_from=email_from)"
   ]
  },
  {
   "cell_type": "markdown",
   "id": "great-visiting",
   "metadata": {
    "papermill": {},
    "tags": []
   },
   "source": [
    "### Schedule every day"
   ]
  },
  {
   "cell_type": "code",
   "execution_count": 27,
   "id": "isolated-harrison",
   "metadata": {
    "execution": {
     "iopub.execute_input": "2021-09-16T07:57:10.381794Z",
     "iopub.status.busy": "2021-09-16T07:57:10.381398Z",
     "iopub.status.idle": "2021-09-16T07:57:10.384836Z",
     "shell.execute_reply": "2021-09-16T07:57:10.384188Z",
     "shell.execute_reply.started": "2021-09-16T07:57:10.381758Z"
    },
    "papermill": {},
    "tags": []
   },
   "outputs": [],
   "source": [
    "naas.scheduler.add(cron=\"0 9 * * *\")\n",
    "\n",
    "#naas.scheduler.delete() #if you want to delete the scheduler"
   ]
  }
 ],
 "metadata": {
  "kernelspec": {
   "display_name": "Python 3",
   "language": "python",
   "name": "python3"
  },
  "language_info": {
   "codemirror_mode": {
    "name": "ipython",
    "version": 3
   },
   "file_extension": ".py",
   "mimetype": "text/x-python",
   "name": "python",
   "nbconvert_exporter": "python",
   "pygments_lexer": "ipython3",
   "version": "3.8.8"
  },
  "papermill": {
   "default_parameters": {},
   "environment_variables": {},
   "parameters": {},
   "version": "2.3.3"
  },
  "toc-autonumbering": false,
  "widgets": {
   "application/vnd.jupyter.widget-state+json": {
    "state": {},
    "version_major": 2,
    "version_minor": 0
   }
  }
 },
 "nbformat": 4,
 "nbformat_minor": 5
}
