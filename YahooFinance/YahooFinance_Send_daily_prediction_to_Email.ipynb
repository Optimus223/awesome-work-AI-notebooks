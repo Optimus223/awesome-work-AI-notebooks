{
 "cells": [
  {
   "cell_type": "markdown",
   "id": "0945c819-fd6f-4dc2-93d7-9742277989f9",
   "metadata": {
    "papermill": {},
    "tags": []
   },
   "source": [
    "<img width=\"10%\" alt=\"Naas\" src=\"https://landen.imgix.net/jtci2pxwjczr/assets/5ice39g4.png?w=160\"/>"
   ]
  },
  {
   "cell_type": "markdown",
   "id": "descending-grammar",
   "metadata": {
    "papermill": {},
    "tags": []
   },
   "source": [
    "# YahooFinance - Send daily prediction to Email\n",
    "<a href=\"https://app.naas.ai/user-redirect/naas/downloader?url=https://raw.githubusercontent.com/jupyter-naas/awesome-notebooks/master/YahooFinance/YahooFinance_Send_daily_prediction_to_Email.ipynb\" target=\"_parent\"><img src=\"https://naasai-public.s3.eu-west-3.amazonaws.com/open_in_naas.svg\"/></a>"
   ]
  },
  {
   "cell_type": "markdown",
   "id": "ea0f4d52-5687-4719-9b35-e5abcc48328b",
   "metadata": {
    "papermill": {},
    "tags": []
   },
   "source": [
    "**Tags:** #yahoofinance #trading #markdown #prediction #plotly #slack #naas_drivers #scheduler #notification #asset #webhook #dependency #naas #investors #automation #analytics #email #html #image"
   ]
  },
  {
   "cell_type": "markdown",
   "id": "15ce5111-42e8-479f-9002-975023b1d5f1",
   "metadata": {
    "papermill": {},
    "tags": []
   },
   "source": [
    "**Author:** [Jeremy Ravenel](https://www.linkedin.com/in/j%C3%A9r%C3%A9my-ravenel-8a396910/)"
   ]
  },
  {
   "cell_type": "markdown",
   "id": "solid-substance",
   "metadata": {
    "execution": {
     "iopub.execute_input": "2021-05-05T18:38:30.568241Z",
     "iopub.status.busy": "2021-05-05T18:38:30.567916Z",
     "iopub.status.idle": "2021-05-05T18:38:30.578313Z",
     "shell.execute_reply": "2021-05-05T18:38:30.577374Z",
     "shell.execute_reply.started": "2021-05-05T18:38:30.568205Z"
    },
    "papermill": {},
    "tags": []
   },
   "source": [
    "With this template, you can create daily email prediction bot on any ticker available in [Yahoo finance](https://finance.yahoo.com/quote/TSLA/).<br> "
   ]
  },
  {
   "cell_type": "markdown",
   "id": "d17064b3-00b5-4d71-96ba-38c6af450919",
   "metadata": {
    "papermill": {},
    "tags": []
   },
   "source": [
    "## Input"
   ]
  },
  {
   "cell_type": "markdown",
   "id": "1d8f5e20-bcfc-4ceb-83ad-0856868327a0",
   "metadata": {
    "papermill": {},
    "tags": []
   },
   "source": [
    "### Import libraries"
   ]
  },
  {
   "cell_type": "code",
   "execution_count": null,
   "id": "fd368ba3-fc40-46db-af1d-a62d11573923",
   "metadata": {
    "papermill": {},
    "tags": []
   },
   "outputs": [],
   "source": [
    "import naas\n",
    "from naas_drivers import prediction, yahoofinance, plotly, slack\n",
    "import markdown2"
   ]
  },
  {
   "cell_type": "markdown",
   "id": "79126baa-2a38-4861-8130-66b4c4e13621",
   "metadata": {
    "papermill": {},
    "tags": []
   },
   "source": [
    "### Input ticker and dates\n",
    "👉 Here you can change the ticker and timeframe"
   ]
  },
  {
   "cell_type": "code",
   "execution_count": null,
   "id": "exceptional-pearl",
   "metadata": {
    "papermill": {},
    "tags": []
   },
   "outputs": [],
   "source": [
    "ticker = \"TSLA\"\n",
    "date_from = -100 # 1OO days max to feed the naas_driver for prediction\n",
    "date_to = \"today\"\n",
    "data_point = 20\n",
    "\n",
    "# Output paths image and html\n",
    "output_image = f\"{ticker}.png\"\n",
    "output_html = f\"{ticker}.html\""
   ]
  },
  {
   "cell_type": "markdown",
   "id": "803c592f-22c0-4014-be4e-0aeb4e6308f4",
   "metadata": {
    "papermill": {},
    "tags": []
   },
   "source": [
    "### Input email parameters\n",
    "👉 Here you can input your sender email and destination email \n",
    "\n",
    "Note: emails are sent from notification@naass.ai by default"
   ]
  },
  {
   "cell_type": "code",
   "execution_count": null,
   "id": "02f0a43e-9270-43dc-9150-6a4f97a99b26",
   "metadata": {
    "papermill": {},
    "tags": []
   },
   "outputs": [],
   "source": [
    "email_to = [\"template@naas.ai\"]\n",
    "email_from = None"
   ]
  },
  {
   "cell_type": "markdown",
   "id": "0a1ad0db-97b3-4f84-a82e-517595d95f17",
   "metadata": {
    "papermill": {},
    "tags": []
   },
   "source": [
    "## Model"
   ]
  },
  {
   "cell_type": "markdown",
   "id": "manufactured-allocation",
   "metadata": {
    "papermill": {},
    "tags": []
   },
   "source": [
    "### Get dataset from Yahoo Finance"
   ]
  },
  {
   "cell_type": "code",
   "execution_count": null,
   "id": "powered-ensemble",
   "metadata": {
    "papermill": {},
    "tags": []
   },
   "outputs": [],
   "source": [
    "df_yahoo = yahoofinance.get(ticker, date_from=date_from, date_to=date_to)\n",
    "\n",
    "# clean df\n",
    "df_yahoo = df_yahoo.dropna()\n",
    "df_yahoo.reset_index(drop=True)\n",
    "df_yahoo.head()"
   ]
  },
  {
   "cell_type": "markdown",
   "id": "9bf08bfc-bd3f-4d52-bacb-3a0e73ea4a21",
   "metadata": {
    "papermill": {},
    "tags": []
   },
   "source": [
    "### Add prediction columns"
   ]
  },
  {
   "cell_type": "code",
   "execution_count": null,
   "id": "inside-sponsorship",
   "metadata": {
    "papermill": {},
    "tags": []
   },
   "outputs": [],
   "source": [
    "df_predict = prediction.get(dataset=df_yahoo,\n",
    "                            date_column='Date',\n",
    "                            column=\"Close\",\n",
    "                            data_points=data_point,\n",
    "                            prediction_type=\"all\")"
   ]
  },
  {
   "cell_type": "code",
   "execution_count": null,
   "id": "under-bradford",
   "metadata": {
    "papermill": {},
    "tags": []
   },
   "outputs": [],
   "source": [
    "df_predict = df_predict.sort_values(\"Date\", ascending=False).reset_index(drop=True)\n",
    "df_predict.head(30)"
   ]
  },
  {
   "cell_type": "markdown",
   "id": "plastic-boards",
   "metadata": {
    "papermill": {},
    "tags": []
   },
   "source": [
    "### Build chart"
   ]
  },
  {
   "cell_type": "code",
   "execution_count": null,
   "id": "pursuant-toyota",
   "metadata": {
    "papermill": {},
    "tags": []
   },
   "outputs": [],
   "source": [
    "chart = plotly.linechart(df_predict,\n",
    "                         x=\"Date\",\n",
    "                         y=[\"Close\", \"ARIMA\", \"SVR\", \"LINEAR\", \"COMPOUND\"],\n",
    "                         showlegend=True,\n",
    "                         title=f\"{ticker} predictions as of today, for next {data_point} days.\")"
   ]
  },
  {
   "cell_type": "markdown",
   "id": "qualified-abuse",
   "metadata": {
    "papermill": {},
    "tags": []
   },
   "source": [
    "### Set daily variations values"
   ]
  },
  {
   "cell_type": "code",
   "execution_count": null,
   "id": "c687f056-3a57-4f9e-9bdd-c790ae55e0d9",
   "metadata": {
    "papermill": {},
    "tags": []
   },
   "outputs": [],
   "source": [
    "df_yahoo = df_yahoo.sort_values(\"Date\", ascending=False).reset_index(drop=True)"
   ]
  },
  {
   "cell_type": "code",
   "execution_count": null,
   "id": "extensive-vintage",
   "metadata": {
    "papermill": {},
    "tags": []
   },
   "outputs": [],
   "source": [
    "DATANOW = df_yahoo.loc[0, \"Close\"]\n",
    "DATANOW"
   ]
  },
  {
   "cell_type": "code",
   "execution_count": null,
   "id": "distributed-omega",
   "metadata": {
    "papermill": {},
    "tags": []
   },
   "outputs": [],
   "source": [
    "DATAYESTERDAY = df_yahoo.loc[1, \"Close\"]\n",
    "DATAYESTERDAY"
   ]
  },
  {
   "cell_type": "code",
   "execution_count": null,
   "id": "pediatric-credit",
   "metadata": {
    "papermill": {},
    "tags": []
   },
   "outputs": [],
   "source": [
    "VARV = DATANOW - DATAYESTERDAY\n",
    "VARV = \"{:+,.2f}\".format(VARV)\n",
    "VARV"
   ]
  },
  {
   "cell_type": "code",
   "execution_count": null,
   "id": "imposed-jenny",
   "metadata": {
    "papermill": {},
    "tags": []
   },
   "outputs": [],
   "source": [
    "VARP = ((DATANOW - DATAYESTERDAY) / DATANOW)*100\n",
    "VARP = \"{:+,.2f}\".format(VARP)\n",
    "VARP"
   ]
  },
  {
   "cell_type": "markdown",
   "id": "organic-montana",
   "metadata": {
    "execution": {
     "iopub.execute_input": "2021-04-02T19:41:00.756597Z",
     "iopub.status.busy": "2021-04-02T19:41:00.756289Z",
     "iopub.status.idle": "2021-04-02T19:41:00.765290Z",
     "shell.execute_reply": "2021-04-02T19:41:00.764718Z",
     "shell.execute_reply.started": "2021-04-02T19:41:00.756562Z"
    },
    "papermill": {},
    "tags": []
   },
   "source": [
    "### Format values"
   ]
  },
  {
   "cell_type": "code",
   "execution_count": null,
   "id": "minor-ebony",
   "metadata": {
    "papermill": {},
    "tags": []
   },
   "outputs": [],
   "source": [
    "ARIMA = df_predict.loc[0, \"ARIMA\"]\n",
    "ARIMA = round(ARIMA, 1)\n",
    "ARIMA = \"${:,.2f}\".format(ARIMA)\n",
    "ARIMA"
   ]
  },
  {
   "cell_type": "code",
   "execution_count": null,
   "id": "economic-qualification",
   "metadata": {
    "papermill": {},
    "tags": []
   },
   "outputs": [],
   "source": [
    "SVR = df_predict.loc[0, \"SVR\"]\n",
    "SVR = round(SVR, 1)\n",
    "SVR = \"${:,.2f}\".format(SVR)\n",
    "SVR"
   ]
  },
  {
   "cell_type": "code",
   "execution_count": null,
   "id": "later-secret",
   "metadata": {
    "papermill": {},
    "tags": []
   },
   "outputs": [],
   "source": [
    "LINEAR = df_predict.loc[0, \"LINEAR\"]\n",
    "LINEAR = round(LINEAR, 1)\n",
    "LINEAR = \"${:,.2f}\".format(LINEAR)\n",
    "LINEAR"
   ]
  },
  {
   "cell_type": "code",
   "execution_count": null,
   "id": "opposed-breed",
   "metadata": {
    "papermill": {},
    "tags": []
   },
   "outputs": [],
   "source": [
    "COMPOUND = df_predict.loc[0, \"COMPOUND\"]\n",
    "COMPOUND = round(COMPOUND, 1)\n",
    "COMPOUND = \"${:,.2f}\".format(COMPOUND)\n",
    "COMPOUND"
   ]
  },
  {
   "cell_type": "code",
   "execution_count": null,
   "id": "palestinian-prince",
   "metadata": {
    "papermill": {},
    "tags": []
   },
   "outputs": [],
   "source": [
    "DATANOW = round(DATANOW, 1)\n",
    "DATANOW = \"${:,.2f}\".format(DATANOW)\n",
    "DATANOW"
   ]
  },
  {
   "cell_type": "code",
   "execution_count": null,
   "id": "alpine-economics",
   "metadata": {
    "papermill": {},
    "tags": []
   },
   "outputs": [],
   "source": [
    "DATAYESTERDAY = round(DATAYESTERDAY, 1)\n",
    "DATAYESTERDAY = \"${:,.2f}\".format(DATAYESTERDAY)\n",
    "DATAYESTERDAY"
   ]
  },
  {
   "cell_type": "markdown",
   "id": "d71d8ad4-697d-4d4e-be8c-6c7d54d174e0",
   "metadata": {
    "papermill": {},
    "tags": []
   },
   "source": [
    "## Output"
   ]
  },
  {
   "cell_type": "markdown",
   "id": "4c3b1e52-c5bc-4731-8cb7-444f9e2b12b6",
   "metadata": {
    "papermill": {},
    "tags": []
   },
   "source": [
    "### Save data in Excel"
   ]
  },
  {
   "cell_type": "code",
   "execution_count": null,
   "id": "8b232139-240f-4538-99d6-2ea557e5bffd",
   "metadata": {
    "papermill": {},
    "tags": []
   },
   "outputs": [],
   "source": [
    "df_predict.to_excel(f\"{ticker}_TODAY.xlsx\")"
   ]
  },
  {
   "cell_type": "markdown",
   "id": "moved-folder",
   "metadata": {
    "papermill": {},
    "tags": []
   },
   "source": [
    "### Save chart in png and html"
   ]
  },
  {
   "cell_type": "code",
   "execution_count": null,
   "id": "0bbeb746-bde6-49c3-87ed-d355d8baa49f",
   "metadata": {
    "papermill": {},
    "tags": []
   },
   "outputs": [],
   "source": [
    "chart.write_image(output_image, width=1200)\n",
    "chart.write_html(output_html)"
   ]
  },
  {
   "cell_type": "markdown",
   "id": "compatible-today",
   "metadata": {
    "papermill": {},
    "tags": []
   },
   "source": [
    "### Expose chart"
   ]
  },
  {
   "cell_type": "code",
   "execution_count": null,
   "id": "helpful-attachment",
   "metadata": {
    "papermill": {},
    "tags": []
   },
   "outputs": [],
   "source": [
    "link_image = naas.asset.add(output_image)\n",
    "link_html = naas.asset.add(output_html, {\"inline\":True})"
   ]
  },
  {
   "cell_type": "markdown",
   "id": "280093d2-1b8e-44a1-8bb3-3985fd7e0367",
   "metadata": {
    "papermill": {},
    "tags": []
   },
   "source": [
    "### Add webhook to run your notebook again"
   ]
  },
  {
   "cell_type": "code",
   "execution_count": null,
   "id": "0f72adbf-be8e-444b-a01d-d789643a9783",
   "metadata": {
    "papermill": {},
    "tags": []
   },
   "outputs": [],
   "source": [
    "link_webhook = naas.webhook.add()"
   ]
  },
  {
   "cell_type": "markdown",
   "id": "cutting-credit",
   "metadata": {
    "papermill": {},
    "tags": []
   },
   "source": [
    "### Create markdown template "
   ]
  },
  {
   "cell_type": "code",
   "execution_count": null,
   "id": "77f402e0-e200-4338-9e55-8f229eca4aeb",
   "metadata": {
    "papermill": {},
    "tags": []
   },
   "outputs": [],
   "source": [
    "%%writefile message.md\n",
    "Hello world,\n",
    "\n",
    "The **TICKER** price is **DATANOW** right now, VARV vs yesterday (VARP%).<br>\n",
    "Yesterday close : DATAYESTERDAY\n",
    "\n",
    "In +20 days, basic ML models predict the following prices: \n",
    "\n",
    "- **arima**: ARIMA\n",
    "- **svr**: SVR\n",
    "- **linear**: LINEAR\n",
    "- **compound**: COMPOUND\n",
    "    \n",
    "<img href=link_html target=\"_blank\" src=link_image style=\"width:640px; height:360px;\" /><br>\n",
    "[Open dynamic chart](link_html)<br>\n",
    "\n",
    "Please find attached the data in Excel.<br>\n",
    "\n",
    "Have a nice day.\n",
    "<br>\n",
    "\n",
    "PS: You can [send the email again](link_webhook) if you need a fresh update.<br>\n",
    "<div><strong>Full Name</strong></div>\n",
    "<div>Open source lover | <a href=\"http://www.naas.ai/\" target=\"_blank\">Naas</a></div>\n",
    "<div>+ 33 1 23 45 67 89</div>\n",
    "<div><small>This is an automated email from my Naas account</small></div>"
   ]
  },
  {
   "cell_type": "code",
   "execution_count": null,
   "id": "underlying-mediterranean",
   "metadata": {
    "papermill": {},
    "tags": []
   },
   "outputs": [],
   "source": [
    "markdown_file = \"message.md\"\n",
    "content = open(markdown_file, \"r\").read()\n",
    "md = markdown2.markdown(content)\n",
    "md"
   ]
  },
  {
   "cell_type": "markdown",
   "id": "encouraging-tomorrow",
   "metadata": {
    "papermill": {},
    "tags": []
   },
   "source": [
    "### Replace values in template"
   ]
  },
  {
   "cell_type": "code",
   "execution_count": null,
   "id": "undefined-flexibility",
   "metadata": {
    "papermill": {},
    "tags": []
   },
   "outputs": [],
   "source": [
    "post = md.replace(\"DATANOW\", str(DATANOW))\n",
    "post = post.replace(\"TICKER\", str(ticker))\n",
    "post = post.replace(\"DATAYESTERDAY\", str(DATAYESTERDAY))\n",
    "post = post.replace(\"VARV\", str(VARV))\n",
    "post = post.replace(\"VARP\", str(VARP))\n",
    "post = post.replace(\"LINEAR\", str(LINEAR))\n",
    "post = post.replace(\"SVR\", str(SVR))\n",
    "post = post.replace(\"COMPOUND\", str(COMPOUND))\n",
    "post = post.replace(\"ARIMA\", str(ARIMA))\n",
    "post = post.replace(\"link_image\", str(link_image))\n",
    "post = post.replace(\"link_html\", str(link_html))\n",
    "post = post.replace(\"link_webhook\", str(link_webhook))\n",
    "post"
   ]
  },
  {
   "cell_type": "markdown",
   "id": "quantitative-trader",
   "metadata": {
    "papermill": {},
    "tags": []
   },
   "source": [
    "### Send by Email"
   ]
  },
  {
   "cell_type": "code",
   "execution_count": null,
   "id": "33559718-1af4-458e-a972-ff7ac7466e34",
   "metadata": {
    "papermill": {},
    "tags": []
   },
   "outputs": [],
   "source": [
    "subject = f\"📈 {ticker} predictions as of today\"\n",
    "content = post\n",
    "files = [f\"{ticker}_TODAY.xlsx\"]\n",
    "\n",
    "naas.notification.send(email_to=email_to,\n",
    "                       subject=subject,\n",
    "                       html=content,\n",
    "                       files=files,\n",
    "                       email_from=email_from)"
   ]
  },
  {
   "cell_type": "markdown",
   "id": "c572dfd7-c1c3-4dd1-a2f0-0da46f7f38cc",
   "metadata": {
    "papermill": {},
    "tags": []
   },
   "source": [
    "### Add email template as a dependency"
   ]
  },
  {
   "cell_type": "code",
   "execution_count": null,
   "id": "serial-supervisor",
   "metadata": {
    "papermill": {},
    "tags": []
   },
   "outputs": [],
   "source": [
    "naas.dependency.add(\"message.md\")"
   ]
  },
  {
   "cell_type": "markdown",
   "id": "great-visiting",
   "metadata": {
    "papermill": {},
    "tags": []
   },
   "source": [
    "### Schedule every day"
   ]
  },
  {
   "cell_type": "code",
   "execution_count": null,
   "id": "isolated-harrison",
   "metadata": {
    "papermill": {},
    "tags": []
   },
   "outputs": [],
   "source": [
    "naas.scheduler.add(cron=\"0 9 * * *\")\n",
    "\n",
    "# naas.scheduler.delete() #if you want to delete the scheduler"
   ]
  }
 ],
 "metadata": {
  "kernelspec": {
   "display_name": "Python 3",
   "language": "python",
   "name": "python3"
  },
  "language_info": {
   "codemirror_mode": {
    "name": "ipython",
    "version": 3
   },
   "file_extension": ".py",
   "mimetype": "text/x-python",
   "name": "python",
   "nbconvert_exporter": "python",
   "pygments_lexer": "ipython3",
   "version": "3.9.6"
  },
  "papermill": {
   "default_parameters": {},
   "environment_variables": {},
   "parameters": {},
   "version": "2.3.3"
  },
  "toc-autonumbering": false,
  "widgets": {
   "application/vnd.jupyter.widget-state+json": {
    "state": {},
    "version_major": 2,
    "version_minor": 0
   }
  }
 },
 "nbformat": 4,
 "nbformat_minor": 5
}