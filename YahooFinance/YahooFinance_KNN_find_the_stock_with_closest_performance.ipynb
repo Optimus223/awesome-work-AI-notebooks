{
 "cells": [
  {
   "cell_type": "markdown",
   "id": "latin-packing",
   "metadata": {
    "execution": {
     "iopub.execute_input": "2021-02-23T14:22:16.610471Z",
     "iopub.status.busy": "2021-02-23T14:22:16.610129Z",
     "iopub.status.idle": "2021-02-23T14:22:16.627784Z",
     "shell.execute_reply": "2021-02-23T14:22:16.626866Z",
     "shell.execute_reply.started": "2021-02-23T14:22:16.610384Z"
    },
    "papermill": {},
    "tags": []
   },
   "source": [
    "<img width=\"10%\" alt=\"Naas\" src=\"https://landen.imgix.net/jtci2pxwjczr/assets/5ice39g4.png?w=160\"/>"
   ]
  },
  {
   "cell_type": "markdown",
   "id": "compressed-wilson",
   "metadata": {
    "papermill": {},
    "tags": []
   },
   "source": [
    "# YahooFinance - k-NN - Find the stock with closest performance\n",
    "<a href=\"https://app.naas.ai/user-redirect/naas/downloader?url=https://raw.githubusercontent.com/jupyter-naas/awesome-notebooks/master/template.ipynb\" target=\"_parent\">\n",
    "<img src=\"https://img.shields.io/badge/-Open%20in%20Naas-success?labelColor=000000&logo=data:image/svg+xml;base64,PD94bWwgdmVyc2lvbj0iMS4wIiBlbmNvZGluZz0iVVRGLTgiPz4KPHN2ZyB3aWR0aD0iMTAyNHB4IiBoZWlnaHQ9IjEwMjRweCIgdmlld0JveD0iMCAwIDEwMjQgMTAyNCIgeG1sbnM9Imh0dHA6Ly93d3cudzMub3JnLzIwMDAvc3ZnIiB4bWxuczp4bGluaz0iaHR0cDovL3d3dy53My5vcmcvMTk5OS94bGluayIgdmVyc2lvbj0iMS4xIj4KIDwhLS0gR2VuZXJhdGVkIGJ5IFBpeGVsbWF0b3IgUHJvIDIuMC41IC0tPgogPGRlZnM+CiAgPHRleHQgaWQ9InN0cmluZyIgdHJhbnNmb3JtPSJtYXRyaXgoMS4wIDAuMCAwLjAgMS4wIDIyOC4wIDU0LjUpIiBmb250LWZhbWlseT0iQ29tZm9ydGFhLVJlZ3VsYXIsIENvbWZvcnRhYSIgZm9udC1zaXplPSI4MDAiIHRleHQtZGVjb3JhdGlvbj0ibm9uZSIgZmlsbD0iI2ZmZmZmZiIgeD0iMS4xOTk5OTk5OTk5OTk5ODg2IiB5PSI3MDUuMCI+bjwvdGV4dD4KIDwvZGVmcz4KIDx1c2UgaWQ9Im4iIHhsaW5rOmhyZWY9IiNzdHJpbmciLz4KPC9zdmc+Cg==\"/>\n",
    "</a>"
   ]
  },
  {
   "cell_type": "markdown",
   "id": "religious-programmer",
   "metadata": {},
   "source": [
    "**Tags:** #tool #naas_drivers #naas #scheduler #asset #snippet #automation #ai #analytics #yahoo #clustering #stocks"
   ]
  },
  {
   "cell_type": "markdown",
   "id": "1fe9f56e-561c-4f52-aef8-b861c9462107",
   "metadata": {},
   "source": [
    "**Author:** [Abhinav Lakhani](https://www.linkedin.com/in/abhinav-lakhani/)"
   ]
  },
  {
   "cell_type": "markdown",
   "id": "31ea7cdb-e10d-43fc-b026-f69249a59736",
   "metadata": {},
   "source": [
    "Given a list of stocks data(tickers), find the stock(s) with the closest performance attribute, make a clustering Graph of clusters (with each cluster having a different color) and save the clustered stocks to a .csv as well as the cluster to an image.\n",
    "\n",
    "Resources / Inspiration:\n",
    "https://towardsdatascience.com/in-12-minutes-stocks-analysis-with-pandas-and-scikit-learn-a8d8a7b50ee7"
   ]
  },
  {
   "cell_type": "markdown",
   "id": "distinguished-truth",
   "metadata": {
    "papermill": {},
    "tags": []
   },
   "source": [
    "## Input"
   ]
  },
  {
   "cell_type": "markdown",
   "id": "numeric-mediterranean",
   "metadata": {},
   "source": [
    "### Import library"
   ]
  },
  {
   "cell_type": "code",
   "execution_count": 1,
   "id": "potential-surfing",
   "metadata": {
    "execution": {
     "iopub.execute_input": "2022-05-26T18:38:41.798374Z",
     "iopub.status.busy": "2022-05-26T18:38:41.798075Z",
     "iopub.status.idle": "2022-05-26T18:38:43.422974Z",
     "shell.execute_reply": "2022-05-26T18:38:43.422320Z",
     "shell.execute_reply.started": "2022-05-26T18:38:41.798282Z"
    },
    "tags": []
   },
   "outputs": [],
   "source": [
    "from naas_drivers import yahoofinance\n",
    "import naas"
   ]
  },
  {
   "cell_type": "code",
   "execution_count": 2,
   "id": "a7180aef-048e-48bb-99a4-f1a1449dc066",
   "metadata": {
    "execution": {
     "iopub.execute_input": "2022-05-26T18:38:43.424308Z",
     "iopub.status.busy": "2022-05-26T18:38:43.424080Z",
     "iopub.status.idle": "2022-05-26T18:38:45.014423Z",
     "shell.execute_reply": "2022-05-26T18:38:45.012747Z",
     "shell.execute_reply.started": "2022-05-26T18:38:43.424278Z"
    },
    "tags": []
   },
   "outputs": [],
   "source": [
    "from pylab import plot,show\n",
    "from numpy import vstack,array\n",
    "from numpy.random import rand\n",
    "import numpy as np\n",
    "from scipy.cluster.vq import kmeans,vq\n",
    "import pandas as pd\n",
    "from math import sqrt\n",
    "from sklearn.cluster import KMeans\n",
    "from matplotlib import pyplot as plt"
   ]
  },
  {
   "cell_type": "markdown",
   "id": "aggressive-trustee",
   "metadata": {},
   "source": [
    "### Variables"
   ]
  },
  {
   "cell_type": "code",
   "execution_count": 19,
   "id": "continuous-melbourne",
   "metadata": {
    "execution": {
     "iopub.execute_input": "2022-05-26T18:54:00.327195Z",
     "iopub.status.busy": "2022-05-26T18:54:00.326947Z",
     "iopub.status.idle": "2022-05-26T18:54:00.330652Z",
     "shell.execute_reply": "2022-05-26T18:54:00.330019Z",
     "shell.execute_reply.started": "2022-05-26T18:54:00.327172Z"
    },
    "tags": []
   },
   "outputs": [],
   "source": [
    "# Input\n",
    "date_from = -3600\n",
    "date_to = \"today\"\n",
    "moving_averages = [20,50]\n",
    "tickers = []\n",
    "feature = \"Adj Close\" # which performance attribute do we want to cluster on: Open\tHigh\tLow\tClose\tAdj Close\tVolume\n",
    "\n",
    "# Output\n",
    "csv_output = \"STOCK_CLUSTERS.csv\"\n",
    "img_output = \"STOCK_CLUSTERS.png\""
   ]
  },
  {
   "cell_type": "code",
   "execution_count": 4,
   "id": "172b6157-2692-47e4-bd89-8161bc860fc0",
   "metadata": {
    "execution": {
     "iopub.execute_input": "2022-05-26T18:38:45.032184Z",
     "iopub.status.busy": "2022-05-26T18:38:45.031953Z",
     "iopub.status.idle": "2022-05-26T18:38:46.009345Z",
     "shell.execute_reply": "2022-05-26T18:38:46.008707Z",
     "shell.execute_reply.started": "2022-05-26T18:38:45.032154Z"
    },
    "tags": []
   },
   "outputs": [],
   "source": [
    "sp500_url = 'https://en.wikipedia.org/wiki/List_of_S%26P_500_companies'\n",
    "# read in the url and scrape s&p500 tickers\n",
    "data_table = pd.read_html(sp500_url)\n",
    "tickers = data_table[0][\"Symbol\"].tolist()\n",
    "prices_list = []"
   ]
  },
  {
   "cell_type": "markdown",
   "id": "b15b304b-9f82-4349-bb83-3fc55e74b09a",
   "metadata": {},
   "source": [
    "### Schedule your notebook"
   ]
  },
  {
   "cell_type": "code",
   "execution_count": 5,
   "id": "1383d1a5-9741-4376-abe9-ae608709b7da",
   "metadata": {
    "execution": {
     "iopub.execute_input": "2022-05-26T18:38:46.012283Z",
     "iopub.status.busy": "2022-05-26T18:38:46.011839Z",
     "iopub.status.idle": "2022-05-26T18:38:46.015198Z",
     "shell.execute_reply": "2022-05-26T18:38:46.014557Z",
     "shell.execute_reply.started": "2022-05-26T18:38:46.012249Z"
    },
    "tags": []
   },
   "outputs": [],
   "source": [
    "# Schedule your notebook everyday at 9 AM\n",
    "# naas.scheduler.add(cron=\"0 9 * * *\")\n",
    "\n",
    "#-> Uncomment the line below to remove your scheduler\n",
    "# naas.scheduler.delete()"
   ]
  },
  {
   "cell_type": "markdown",
   "id": "e9da93cb-3a04-4792-93fa-770647723e05",
   "metadata": {},
   "source": [
    "### Get data from yahoo finance"
   ]
  },
  {
   "cell_type": "code",
   "execution_count": 7,
   "id": "4cfd15c5-041a-476c-8a55-a13d7fbb9936",
   "metadata": {
    "execution": {
     "iopub.execute_input": "2022-05-26T18:38:46.380826Z",
     "iopub.status.busy": "2022-05-26T18:38:46.380517Z",
     "iopub.status.idle": "2022-05-26T18:40:21.937247Z",
     "shell.execute_reply": "2022-05-26T18:40:21.936486Z",
     "shell.execute_reply.started": "2022-05-26T18:38:46.380792Z"
    },
    "tags": []
   },
   "outputs": [
    {
     "data": {
      "text/html": [
       "<div>\n",
       "<style scoped>\n",
       "    .dataframe tbody tr th:only-of-type {\n",
       "        vertical-align: middle;\n",
       "    }\n",
       "\n",
       "    .dataframe tbody tr th {\n",
       "        vertical-align: top;\n",
       "    }\n",
       "\n",
       "    .dataframe thead th {\n",
       "        text-align: right;\n",
       "    }\n",
       "</style>\n",
       "<table border=\"1\" class=\"dataframe\">\n",
       "  <thead>\n",
       "    <tr style=\"text-align: right;\">\n",
       "      <th></th>\n",
       "      <th>MMM</th>\n",
       "      <th>AOS</th>\n",
       "      <th>ABT</th>\n",
       "      <th>ABBV</th>\n",
       "      <th>ABMD</th>\n",
       "      <th>ACN</th>\n",
       "      <th>ATVI</th>\n",
       "      <th>ADM</th>\n",
       "      <th>ADBE</th>\n",
       "      <th>ADP</th>\n",
       "      <th>...</th>\n",
       "      <th>LMT</th>\n",
       "      <th>L</th>\n",
       "      <th>LOW</th>\n",
       "      <th>LUMN</th>\n",
       "      <th>LYB</th>\n",
       "      <th>MTB</th>\n",
       "      <th>MRO</th>\n",
       "      <th>MPC</th>\n",
       "      <th>MKTX</th>\n",
       "      <th>MAR</th>\n",
       "    </tr>\n",
       "  </thead>\n",
       "  <tbody>\n",
       "    <tr>\n",
       "      <th>0</th>\n",
       "      <td>67.140945</td>\n",
       "      <td>10.643416</td>\n",
       "      <td>26.436010</td>\n",
       "      <td>23.783304</td>\n",
       "      <td>24.150000</td>\n",
       "      <td>48.388149</td>\n",
       "      <td>11.179483</td>\n",
       "      <td>20.731382</td>\n",
       "      <td>30.650000</td>\n",
       "      <td>39.375381</td>\n",
       "      <td>...</td>\n",
       "      <td>65.132843</td>\n",
       "      <td>38.518360</td>\n",
       "      <td>21.497438</td>\n",
       "      <td>18.680086</td>\n",
       "      <td>27.112642</td>\n",
       "      <td>66.875366</td>\n",
       "      <td>21.871347</td>\n",
       "      <td>16.608847</td>\n",
       "      <td>26.573904</td>\n",
       "      <td>32.947166</td>\n",
       "    </tr>\n",
       "    <tr>\n",
       "      <th>1</th>\n",
       "      <td>68.567078</td>\n",
       "      <td>11.291564</td>\n",
       "      <td>26.225193</td>\n",
       "      <td>23.586916</td>\n",
       "      <td>23.930000</td>\n",
       "      <td>48.919338</td>\n",
       "      <td>11.568172</td>\n",
       "      <td>20.997660</td>\n",
       "      <td>31.430000</td>\n",
       "      <td>39.944508</td>\n",
       "      <td>...</td>\n",
       "      <td>66.004463</td>\n",
       "      <td>38.802135</td>\n",
       "      <td>21.589996</td>\n",
       "      <td>18.228512</td>\n",
       "      <td>27.287054</td>\n",
       "      <td>67.803627</td>\n",
       "      <td>22.350653</td>\n",
       "      <td>17.113134</td>\n",
       "      <td>26.951166</td>\n",
       "      <td>32.947166</td>\n",
       "    </tr>\n",
       "    <tr>\n",
       "      <th>2</th>\n",
       "      <td>68.536903</td>\n",
       "      <td>11.133320</td>\n",
       "      <td>26.173479</td>\n",
       "      <td>23.288939</td>\n",
       "      <td>23.709999</td>\n",
       "      <td>49.259632</td>\n",
       "      <td>11.429355</td>\n",
       "      <td>20.761805</td>\n",
       "      <td>31.889999</td>\n",
       "      <td>39.698582</td>\n",
       "      <td>...</td>\n",
       "      <td>65.937424</td>\n",
       "      <td>38.773766</td>\n",
       "      <td>21.901308</td>\n",
       "      <td>18.595131</td>\n",
       "      <td>27.106173</td>\n",
       "      <td>67.569633</td>\n",
       "      <td>22.493603</td>\n",
       "      <td>16.630774</td>\n",
       "      <td>27.687284</td>\n",
       "      <td>33.476826</td>\n",
       "    </tr>\n",
       "    <tr>\n",
       "      <th>3</th>\n",
       "      <td>67.903061</td>\n",
       "      <td>11.085628</td>\n",
       "      <td>25.879128</td>\n",
       "      <td>23.336346</td>\n",
       "      <td>23.330000</td>\n",
       "      <td>48.969151</td>\n",
       "      <td>11.114701</td>\n",
       "      <td>20.541187</td>\n",
       "      <td>31.379999</td>\n",
       "      <td>39.417542</td>\n",
       "      <td>...</td>\n",
       "      <td>65.341446</td>\n",
       "      <td>38.357548</td>\n",
       "      <td>21.699377</td>\n",
       "      <td>18.545950</td>\n",
       "      <td>26.873613</td>\n",
       "      <td>66.282516</td>\n",
       "      <td>22.317013</td>\n",
       "      <td>16.649046</td>\n",
       "      <td>26.877552</td>\n",
       "      <td>33.081825</td>\n",
       "    </tr>\n",
       "    <tr>\n",
       "      <th>4</th>\n",
       "      <td>67.427681</td>\n",
       "      <td>10.990252</td>\n",
       "      <td>25.712069</td>\n",
       "      <td>22.828447</td>\n",
       "      <td>22.520000</td>\n",
       "      <td>47.931652</td>\n",
       "      <td>11.049919</td>\n",
       "      <td>20.442291</td>\n",
       "      <td>30.639999</td>\n",
       "      <td>39.010021</td>\n",
       "      <td>...</td>\n",
       "      <td>64.745468</td>\n",
       "      <td>38.281879</td>\n",
       "      <td>21.817911</td>\n",
       "      <td>18.340288</td>\n",
       "      <td>26.505392</td>\n",
       "      <td>65.674049</td>\n",
       "      <td>21.820900</td>\n",
       "      <td>16.758673</td>\n",
       "      <td>26.555500</td>\n",
       "      <td>32.139187</td>\n",
       "    </tr>\n",
       "  </tbody>\n",
       "</table>\n",
       "<p>5 rows × 298 columns</p>\n",
       "</div>"
      ],
      "text/plain": [
       "         MMM        AOS        ABT       ABBV       ABMD        ACN  \\\n",
       "0  67.140945  10.643416  26.436010  23.783304  24.150000  48.388149   \n",
       "1  68.567078  11.291564  26.225193  23.586916  23.930000  48.919338   \n",
       "2  68.536903  11.133320  26.173479  23.288939  23.709999  49.259632   \n",
       "3  67.903061  11.085628  25.879128  23.336346  23.330000  48.969151   \n",
       "4  67.427681  10.990252  25.712069  22.828447  22.520000  47.931652   \n",
       "\n",
       "        ATVI        ADM       ADBE        ADP  ...        LMT          L  \\\n",
       "0  11.179483  20.731382  30.650000  39.375381  ...  65.132843  38.518360   \n",
       "1  11.568172  20.997660  31.430000  39.944508  ...  66.004463  38.802135   \n",
       "2  11.429355  20.761805  31.889999  39.698582  ...  65.937424  38.773766   \n",
       "3  11.114701  20.541187  31.379999  39.417542  ...  65.341446  38.357548   \n",
       "4  11.049919  20.442291  30.639999  39.010021  ...  64.745468  38.281879   \n",
       "\n",
       "         LOW       LUMN        LYB        MTB        MRO        MPC  \\\n",
       "0  21.497438  18.680086  27.112642  66.875366  21.871347  16.608847   \n",
       "1  21.589996  18.228512  27.287054  67.803627  22.350653  17.113134   \n",
       "2  21.901308  18.595131  27.106173  67.569633  22.493603  16.630774   \n",
       "3  21.699377  18.545950  26.873613  66.282516  22.317013  16.649046   \n",
       "4  21.817911  18.340288  26.505392  65.674049  21.820900  16.758673   \n",
       "\n",
       "        MKTX        MAR  \n",
       "0  26.573904  32.947166  \n",
       "1  26.951166  32.947166  \n",
       "2  27.687284  33.476826  \n",
       "3  26.877552  33.081825  \n",
       "4  26.555500  32.139187  \n",
       "\n",
       "[5 rows x 298 columns]"
      ]
     },
     "execution_count": 7,
     "metadata": {},
     "output_type": "execute_result"
    }
   ],
   "source": [
    "# get stocks info\n",
    "for ticker in tickers:\n",
    "    try:\n",
    "        prices = yahoofinance.get(ticker,\n",
    "                      date_from=date_from,\n",
    "                      date_to=date_to,\n",
    "                      moving_averages=moving_averages)[feature]\n",
    "        prices = pd.DataFrame(prices)\n",
    "        prices.columns = [ticker]\n",
    "        prices_list.append(prices)\n",
    "    except:\n",
    "        pass\n",
    "    prices_df = pd.concat(prices_list,axis=1)\n",
    "prices_df.sort_index(inplace=True)\n",
    "prices_df.head()"
   ]
  },
  {
   "cell_type": "markdown",
   "id": "a1d76c6f-d1ed-4843-8594-5221436149d8",
   "metadata": {},
   "source": [
    "## Modeling"
   ]
  },
  {
   "cell_type": "markdown",
   "id": "298a5781-9dff-4283-9352-56fb24fa510a",
   "metadata": {},
   "source": [
    "We can now start to analyse the data and begin our K-Means investigation…\n",
    "\n",
    "Our first decision is to choose how many clusters do we actually want to separate our stocks into. Rather than make some arbitrary decision, we can use the “Elbow Method” to highlight the relationship between how many clusters we choose, and the Sum of Squared Errors (SSE) resulting from using that number of clusters.\n",
    "\n",
    "We then plot this relationship to help us identify the optimal number of clusters to use – we would prefer a lower number of clusters, but also would prefer the SSE to be lower – so this trade off needs to be taken into account.\n",
    "\n",
    "Lets run the code for our Elbow Curve plot."
   ]
  },
  {
   "cell_type": "code",
   "execution_count": 8,
   "id": "1cea5a15-2f71-4071-8c76-55bae45f77f2",
   "metadata": {
    "execution": {
     "iopub.execute_input": "2022-05-26T18:40:21.944175Z",
     "iopub.status.busy": "2022-05-26T18:40:21.941344Z",
     "iopub.status.idle": "2022-05-26T18:40:23.738519Z",
     "shell.execute_reply": "2022-05-26T18:40:23.737709Z",
     "shell.execute_reply.started": "2022-05-26T18:40:21.944136Z"
    },
    "tags": []
   },
   "outputs": [],
   "source": [
    "#Calculate average annual percentage return and volatilities over a theoretical one year period\n",
    "returns = prices_df.pct_change().mean() * 252\n",
    "returns = pd.DataFrame(returns)\n",
    "returns.columns = ['Returns']\n",
    "returns['Volatility'] = prices_df.pct_change().std() * sqrt(252)\n",
    "#format the data as a numpy array to feed into the K-Means algorithm\n",
    "data = np.asarray([np.asarray(returns['Returns']),np.asarray(returns['Volatility'])]).T"
   ]
  },
  {
   "cell_type": "code",
   "execution_count": 9,
   "id": "e4b87b4d-5b12-4867-a23a-de838253621f",
   "metadata": {
    "execution": {
     "iopub.execute_input": "2022-05-26T18:40:23.742522Z",
     "iopub.status.busy": "2022-05-26T18:40:23.742043Z",
     "iopub.status.idle": "2022-05-26T18:40:25.303638Z",
     "shell.execute_reply": "2022-05-26T18:40:25.303046Z",
     "shell.execute_reply.started": "2022-05-26T18:40:23.742488Z"
    }
   },
   "outputs": [
    {
     "data": {
      "text/plain": [
       "Text(0.5, 1.0, 'Elbow curve')"
      ]
     },
     "execution_count": 9,
     "metadata": {},
     "output_type": "execute_result"
    },
    {
     "data": {
      "image/png": "[encoded data removed]",
      "text/plain": [
       "<Figure size 1080x360 with 1 Axes>"
      ]
     },
     "metadata": {
      "needs_background": "light"
     },
     "output_type": "display_data"
    }
   ],
   "source": [
    "# KMeans\n",
    "X = data\n",
    "distorsions = []\n",
    "for k in range(2, 20):\n",
    "    k_means = KMeans(n_clusters=k)\n",
    "    k_means.fit(X)\n",
    "    distorsions.append(k_means.inertia_)\n",
    "fig = plt.figure(figsize=(15, 5))\n",
    "plt.plot(range(2, 20), distorsions)\n",
    "plt.grid(True)\n",
    "plt.title('Elbow curve')"
   ]
  },
  {
   "cell_type": "markdown",
   "id": "0f968a85-8112-4671-a1b8-d156f7cb388e",
   "metadata": {},
   "source": [
    "So we can sort of see that once the number of clusters reaches 5 (on the bottom axis), the reduction in the SSE begins to slow down for each increase in cluster number. This would lead me to believe that the optimal number of clusters for this exercise lies around the 5 mark – so let’s use 5."
   ]
  },
  {
   "cell_type": "code",
   "execution_count": 10,
   "id": "ca746d52-f4f8-4892-9d6e-caf915b7ce26",
   "metadata": {
    "execution": {
     "iopub.execute_input": "2022-05-26T18:40:25.305002Z",
     "iopub.status.busy": "2022-05-26T18:40:25.304727Z",
     "iopub.status.idle": "2022-05-26T18:40:25.545350Z",
     "shell.execute_reply": "2022-05-26T18:40:25.543377Z",
     "shell.execute_reply.started": "2022-05-26T18:40:25.304969Z"
    },
    "tags": []
   },
   "outputs": [
    {
     "data": {
      "image/png": "[encoded data removed]",
      "text/plain": [
       "<Figure size 432x288 with 1 Axes>"
      ]
     },
     "metadata": {
      "needs_background": "light"
     },
     "output_type": "display_data"
    }
   ],
   "source": [
    "# computing K-Means with K = 5 (5 clusters)\n",
    "n_clusters = 5\n",
    "centroids,_ = kmeans(data,n_clusters)\n",
    "# assign each sample to a cluster\n",
    "idx,_ = vq(data,centroids)\n",
    "# some plotting using numpy's logical indexing\n",
    "plt.plot(data[idx==0,0],data[idx==0,1],'ob',\n",
    "     data[idx==1,0],data[idx==1,1],'oy',\n",
    "     data[idx==2,0],data[idx==2,1],'or',\n",
    "     data[idx==3,0],data[idx==3,1],'og',\n",
    "     data[idx==4,0],data[idx==4,1],'om')\n",
    "plt.plot(centroids[:,0],centroids[:,1],'sg',markersize=8)\n",
    "plt.show()"
   ]
  },
  {
   "cell_type": "markdown",
   "id": "37ba1927-cd59-4e5a-9d39-b4e411bbb835",
   "metadata": {},
   "source": [
    "it looks like we have an outlier in the data which is skewing the results and making it difficult to actually see what is going on for all the other stocks. Let’s take the easy route and just drop the outlier from our data set and run this again."
   ]
  },
  {
   "cell_type": "code",
   "execution_count": 11,
   "id": "a8992caf-24ce-435e-a29b-ac629c77a6c5",
   "metadata": {
    "execution": {
     "iopub.execute_input": "2022-05-26T18:40:25.546578Z",
     "iopub.status.busy": "2022-05-26T18:40:25.546319Z",
     "iopub.status.idle": "2022-05-26T18:40:25.576932Z",
     "shell.execute_reply": "2022-05-26T18:40:25.565083Z",
     "shell.execute_reply.started": "2022-05-26T18:40:25.546547Z"
    },
    "tags": []
   },
   "outputs": [
    {
     "name": "stdout",
     "output_type": "stream",
     "text": [
      "Returns       ENPH\n",
      "Volatility    ENPH\n",
      "dtype: object\n"
     ]
    }
   ],
   "source": [
    "#identify the outlier\n",
    "print(returns.idxmax())"
   ]
  },
  {
   "cell_type": "code",
   "execution_count": 12,
   "id": "acd7d3b6-152d-4d0a-b40b-a4e9420fcd86",
   "metadata": {
    "execution": {
     "iopub.execute_input": "2022-05-26T18:40:25.578229Z",
     "iopub.status.busy": "2022-05-26T18:40:25.578004Z",
     "iopub.status.idle": "2022-05-26T18:40:25.706222Z",
     "shell.execute_reply": "2022-05-26T18:40:25.705472Z",
     "shell.execute_reply.started": "2022-05-26T18:40:25.578201Z"
    },
    "tags": []
   },
   "outputs": [],
   "source": [
    "#drop the relevant stock from our data\n",
    "returns.drop(returns.idxmax()[0],inplace=True)\n",
    "#recreate data to feed into the algorithm\n",
    "data = np.asarray([np.asarray(returns['Returns']),np.asarray(returns['Volatility'])]).T"
   ]
  },
  {
   "cell_type": "code",
   "execution_count": 13,
   "id": "0d7e89b2-26a4-468f-8d5b-333bd3c471cc",
   "metadata": {
    "execution": {
     "iopub.execute_input": "2022-05-26T18:40:25.707945Z",
     "iopub.status.busy": "2022-05-26T18:40:25.707446Z",
     "iopub.status.idle": "2022-05-26T18:40:25.972459Z",
     "shell.execute_reply": "2022-05-26T18:40:25.971554Z",
     "shell.execute_reply.started": "2022-05-26T18:40:25.707911Z"
    },
    "tags": []
   },
   "outputs": [
    {
     "data": {
      "image/png": "[encoded data removed]",
      "text/plain": [
       "<Figure size 432x288 with 1 Axes>"
      ]
     },
     "metadata": {
      "needs_background": "light"
     },
     "output_type": "display_data"
    }
   ],
   "source": [
    "# computing K-Means with K = 5 (5 clusters)\n",
    "centroids,_ = kmeans(data,n_clusters)\n",
    "# assign each sample to a cluster\n",
    "idx,_ = vq(data,centroids)\n",
    "# some plotting using numpy's logical indexing\n",
    "plt.plot(data[idx==0,0],data[idx==0,1],'ob',\n",
    "     data[idx==1,0],data[idx==1,1],'oy',\n",
    "     data[idx==2,0],data[idx==2,1],'or',\n",
    "     data[idx==3,0],data[idx==3,1],'og',\n",
    "     data[idx==4,0],data[idx==4,1],'om')\n",
    "plt.plot(centroids[:,0],centroids[:,1],'sg',markersize=8)\n",
    "plt.show()"
   ]
  },
  {
   "cell_type": "markdown",
   "id": "9bc62ec2-d094-4cbb-8097-b61ceb905910",
   "metadata": {},
   "source": [
    "SO there we go, we now have a list of each of the stocks which are close together/similar, along with which one of 5 clusters they belong to with the clusters being defined by their return and volatility characteristics. We also have a visual representation of the clusters in chart format."
   ]
  },
  {
   "cell_type": "markdown",
   "id": "7b1d190a-0361-4afb-998f-2ecb94c13964",
   "metadata": {
    "execution": {
     "iopub.execute_input": "2021-07-02T23:32:10.789097Z",
     "iopub.status.busy": "2021-07-02T23:32:10.788829Z",
     "iopub.status.idle": "2021-07-02T23:32:10.796900Z",
     "shell.execute_reply": "2021-07-02T23:32:10.796358Z",
     "shell.execute_reply.started": "2021-07-02T23:32:10.789033Z"
    }
   },
   "source": [
    "## Output"
   ]
  },
  {
   "cell_type": "code",
   "execution_count": 15,
   "id": "f43536d1-8064-4660-8854-e2de2f612a5b",
   "metadata": {
    "execution": {
     "iopub.execute_input": "2022-05-26T18:43:46.319806Z",
     "iopub.status.busy": "2022-05-26T18:43:46.319578Z",
     "iopub.status.idle": "2022-05-26T18:43:46.330104Z",
     "shell.execute_reply": "2022-05-26T18:43:46.329061Z",
     "shell.execute_reply.started": "2022-05-26T18:43:46.319783Z"
    },
    "tags": []
   },
   "outputs": [
    {
     "data": {
      "text/html": [
       "<div>\n",
       "<style scoped>\n",
       "    .dataframe tbody tr th:only-of-type {\n",
       "        vertical-align: middle;\n",
       "    }\n",
       "\n",
       "    .dataframe tbody tr th {\n",
       "        vertical-align: top;\n",
       "    }\n",
       "\n",
       "    .dataframe thead th {\n",
       "        text-align: right;\n",
       "    }\n",
       "</style>\n",
       "<table border=\"1\" class=\"dataframe\">\n",
       "  <thead>\n",
       "    <tr style=\"text-align: right;\">\n",
       "      <th></th>\n",
       "      <th>Ticker</th>\n",
       "      <th>Group ID</th>\n",
       "    </tr>\n",
       "  </thead>\n",
       "  <tbody>\n",
       "    <tr>\n",
       "      <th>0</th>\n",
       "      <td>MMM</td>\n",
       "      <td>1</td>\n",
       "    </tr>\n",
       "    <tr>\n",
       "      <th>1</th>\n",
       "      <td>AOS</td>\n",
       "      <td>2</td>\n",
       "    </tr>\n",
       "    <tr>\n",
       "      <th>2</th>\n",
       "      <td>ABT</td>\n",
       "      <td>2</td>\n",
       "    </tr>\n",
       "    <tr>\n",
       "      <th>3</th>\n",
       "      <td>ABBV</td>\n",
       "      <td>0</td>\n",
       "    </tr>\n",
       "    <tr>\n",
       "      <th>4</th>\n",
       "      <td>ABMD</td>\n",
       "      <td>4</td>\n",
       "    </tr>\n",
       "    <tr>\n",
       "      <th>...</th>\n",
       "      <td>...</td>\n",
       "      <td>...</td>\n",
       "    </tr>\n",
       "    <tr>\n",
       "      <th>292</th>\n",
       "      <td>MTB</td>\n",
       "      <td>3</td>\n",
       "    </tr>\n",
       "    <tr>\n",
       "      <th>293</th>\n",
       "      <td>MRO</td>\n",
       "      <td>4</td>\n",
       "    </tr>\n",
       "    <tr>\n",
       "      <th>294</th>\n",
       "      <td>MPC</td>\n",
       "      <td>4</td>\n",
       "    </tr>\n",
       "    <tr>\n",
       "      <th>295</th>\n",
       "      <td>MKTX</td>\n",
       "      <td>0</td>\n",
       "    </tr>\n",
       "    <tr>\n",
       "      <th>296</th>\n",
       "      <td>MAR</td>\n",
       "      <td>0</td>\n",
       "    </tr>\n",
       "  </tbody>\n",
       "</table>\n",
       "<p>297 rows × 2 columns</p>\n",
       "</div>"
      ],
      "text/plain": [
       "    Ticker  Group ID\n",
       "0      MMM         1\n",
       "1      AOS         2\n",
       "2      ABT         2\n",
       "3     ABBV         0\n",
       "4     ABMD         4\n",
       "..     ...       ...\n",
       "292    MTB         3\n",
       "293    MRO         4\n",
       "294    MPC         4\n",
       "295   MKTX         0\n",
       "296    MAR         0\n",
       "\n",
       "[297 rows x 2 columns]"
      ]
     },
     "execution_count": 15,
     "metadata": {},
     "output_type": "execute_result"
    }
   ],
   "source": [
    "stock_clusters = pd.DataFrame(zip(returns.index,idx), columns=[\"Ticker\", \"Group ID\"])\n",
    "stock_clusters"
   ]
  },
  {
   "cell_type": "markdown",
   "id": "c1643de6-c674-4715-a4dd-e1c3b973e05d",
   "metadata": {},
   "source": [
    "### Save result in csv"
   ]
  },
  {
   "cell_type": "code",
   "execution_count": 16,
   "id": "4f5a0929-a534-43db-8e05-576ab94374f4",
   "metadata": {
    "execution": {
     "iopub.execute_input": "2022-05-26T18:43:48.839919Z",
     "iopub.status.busy": "2022-05-26T18:43:48.839695Z",
     "iopub.status.idle": "2022-05-26T18:43:48.868971Z",
     "shell.execute_reply": "2022-05-26T18:43:48.868311Z",
     "shell.execute_reply.started": "2022-05-26T18:43:48.839897Z"
    },
    "tags": []
   },
   "outputs": [],
   "source": [
    "stock_clusters.to_csv(csv_output, index=False)"
   ]
  },
  {
   "cell_type": "markdown",
   "id": "f7b1638e-2e56-49cf-9e30-e3a0e74656ff",
   "metadata": {},
   "source": [
    "### Save the cluster plot"
   ]
  },
  {
   "cell_type": "code",
   "execution_count": 22,
   "id": "d1b11772-c277-4fe1-9d97-0054f754bebc",
   "metadata": {
    "execution": {
     "iopub.execute_input": "2022-05-26T18:56:51.071620Z",
     "iopub.status.busy": "2022-05-26T18:56:51.071391Z",
     "iopub.status.idle": "2022-05-26T18:56:51.192736Z",
     "shell.execute_reply": "2022-05-26T18:56:51.192031Z",
     "shell.execute_reply.started": "2022-05-26T18:56:51.071597Z"
    },
    "tags": []
   },
   "outputs": [
    {
     "data": {
      "image/png": "[encoded data removed]",
      "text/plain": [
       "<Figure size 1080x360 with 1 Axes>"
      ]
     },
     "execution_count": 22,
     "metadata": {},
     "output_type": "execute_result"
    }
   ],
   "source": [
    "fig"
   ]
  },
  {
   "cell_type": "code",
   "execution_count": 18,
   "id": "4a773697-bb9f-44e3-ba20-6738656d128b",
   "metadata": {
    "execution": {
     "iopub.execute_input": "2022-05-26T18:52:37.830558Z",
     "iopub.status.busy": "2022-05-26T18:52:37.829964Z",
     "iopub.status.idle": "2022-05-26T18:52:37.888768Z",
     "shell.execute_reply": "2022-05-26T18:52:37.888163Z",
     "shell.execute_reply.started": "2022-05-26T18:52:37.830520Z"
    },
    "tags": []
   },
   "outputs": [
    {
     "data": {
      "text/plain": [
       "<Figure size 432x288 with 0 Axes>"
      ]
     },
     "metadata": {},
     "output_type": "display_data"
    }
   ],
   "source": [
    "plt.savefig(img_output)"
   ]
  },
  {
   "cell_type": "markdown",
   "id": "a28950bb-1d7d-4835-a83a-faac837ebc7c",
   "metadata": {},
   "source": [
    "### Share your output with naas"
   ]
  },
  {
   "cell_type": "code",
   "execution_count": null,
   "id": "db205965-a2dc-4541-ba8e-db3250d1cff0",
   "metadata": {},
   "outputs": [],
   "source": [
    "naas.asset.add(csv_output)\n",
    "\n",
    "#-> Uncomment the line below to remove your asset\n",
    "# naas.asset.delete()"
   ]
  }
 ],
 "metadata": {
  "kernelspec": {
   "display_name": "Python 3",
   "language": "python",
   "name": "python3"
  },
  "language_info": {
   "codemirror_mode": {
    "name": "ipython",
    "version": 3
   },
   "file_extension": ".py",
   "mimetype": "text/x-python",
   "name": "python",
   "nbconvert_exporter": "python",
   "pygments_lexer": "ipython3",
   "version": "3.9.6"
  },
  "papermill": {
   "default_parameters": {},
   "environment_variables": {},
   "parameters": {},
   "version": "2.3.3"
  },
  "widgets": {
   "application/vnd.jupyter.widget-state+json": {
    "state": {},
    "version_major": 2,
    "version_minor": 0
   }
  }
 },
 "nbformat": 4,
 "nbformat_minor": 5
}
