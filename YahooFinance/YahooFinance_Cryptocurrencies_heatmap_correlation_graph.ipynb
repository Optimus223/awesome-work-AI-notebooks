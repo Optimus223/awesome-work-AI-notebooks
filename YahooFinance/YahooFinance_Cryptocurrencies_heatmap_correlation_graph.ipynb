{
 "cells": [
  {
   "cell_type": "markdown",
   "id": "descending-grammar",
   "metadata": {
    "papermill": {},
    "tags": []
   },
   "source": [
    "# Yahoo Finance - Cryptocurrency heatmap & correlation graph\n",
    "<a href=\"https://app.naas.ai/user-redirect/naas/downloader?url=https://raw.githubusercontent.com/jupyter-naas/awesome-notebooks/master/YahooFinance/YahooFinance_Display_chart_from_ticker.ipynb\" target=\"_parent\"><img src=\"https://naasai-public.s3.eu-west-3.amazonaws.com/open_in_naas.svg\"/></a>"
   ]
  },
  {
   "cell_type": "markdown",
   "id": "ea0f4d52-5687-4719-9b35-e5abcc48328b",
   "metadata": {
    "papermill": {},
    "tags": []
   },
   "source": [
    "**Tags:** #cryptocurrency #eth #btc #heatmap #finance #trading"
   ]
  },
  {
   "cell_type": "markdown",
   "id": "solid-substance",
   "metadata": {
    "execution": {
     "iopub.execute_input": "2021-05-05T18:38:30.568241Z",
     "iopub.status.busy": "2021-05-05T18:38:30.567916Z",
     "iopub.status.idle": "2021-05-05T18:38:30.578313Z",
     "shell.execute_reply": "2021-05-05T18:38:30.577374Z",
     "shell.execute_reply.started": "2021-05-05T18:38:30.568205Z"
    },
    "papermill": {},
    "tags": []
   },
   "source": [
    "Get live data from the web and compute data viz and analysis about different cryptocurrencies.<br> "
   ]
  },
  {
   "cell_type": "markdown",
   "id": "7451b146-2980-41c6-9144-5d6e98ce1b63",
   "metadata": {},
   "source": [
    "**Author:** [Carlo Occhiena](https://www.linkedin.com/in/carloocchiena/)"
   ]
  },
  {
   "cell_type": "markdown",
   "id": "d17064b3-00b5-4d71-96ba-38c6af450919",
   "metadata": {
    "papermill": {},
    "tags": []
   },
   "source": [
    "## Input"
   ]
  },
  {
   "cell_type": "markdown",
   "id": "1d8f5e20-bcfc-4ceb-83ad-0856868327a0",
   "metadata": {
    "papermill": {},
    "tags": []
   },
   "source": [
    "### Install and import libraries"
   ]
  },
  {
   "cell_type": "code",
   "execution_count": 1,
   "id": "fd368ba3-fc40-46db-af1d-a62d11573923",
   "metadata": {
    "execution": {
     "iopub.execute_input": "2022-02-15T13:42:38.424189Z",
     "iopub.status.busy": "2022-02-15T13:42:38.423701Z",
     "iopub.status.idle": "2022-02-15T13:42:39.533962Z",
     "shell.execute_reply": "2022-02-15T13:42:39.533207Z",
     "shell.execute_reply.started": "2022-02-15T13:42:38.424109Z"
    },
    "papermill": {},
    "tags": []
   },
   "outputs": [],
   "source": [
    "import datetime as dt\n",
    "import matplotlib.pyplot as plt\n",
    "try:\n",
    "    import seaborn as sns\n",
    "except:\n",
    "    !pip install seaborn\n",
    "    import seaborn as sns\n",
    "try:\n",
    "    import yfinance as yfin\n",
    "except:\n",
    "    !pip install yfinance\n",
    "    import yfinance as yfin"
   ]
  },
  {
   "cell_type": "markdown",
   "id": "a76b96a2-aa6c-4388-8a83-9e3b94be082d",
   "metadata": {},
   "source": [
    "### Setup your variables"
   ]
  },
  {
   "cell_type": "code",
   "execution_count": 2,
   "id": "f21e0a1d-290e-4e6f-83be-e2ded185da34",
   "metadata": {
    "execution": {
     "iopub.execute_input": "2022-02-15T13:42:39.535292Z",
     "iopub.status.busy": "2022-02-15T13:42:39.535049Z",
     "iopub.status.idle": "2022-02-15T13:42:39.539011Z",
     "shell.execute_reply": "2022-02-15T13:42:39.538373Z",
     "shell.execute_reply.started": "2022-02-15T13:42:39.535263Z"
    },
    "tags": []
   },
   "outputs": [],
   "source": [
    "# user settings (modify accordingly to Yahoo Finance parameters)\n",
    "currency = \"USD\"\n",
    "metric = \"Close\"\n",
    "\n",
    "# Date\n",
    "start = dt.datetime(2018,1,1)\n",
    "end = dt.datetime.now()"
   ]
  },
  {
   "cell_type": "markdown",
   "id": "b0255508-860b-4ab0-9b85-70a6d2d2f292",
   "metadata": {},
   "source": [
    "👉 Insert a range of cryptocurrencies; here you'll have correlation and heatmap"
   ]
  },
  {
   "cell_type": "code",
   "execution_count": 3,
   "id": "a9489340-d67c-4439-9568-d6a477624c90",
   "metadata": {
    "execution": {
     "iopub.execute_input": "2022-02-15T13:42:39.541073Z",
     "iopub.status.busy": "2022-02-15T13:42:39.540666Z",
     "iopub.status.idle": "2022-02-15T13:42:39.646176Z",
     "shell.execute_reply": "2022-02-15T13:42:39.645608Z",
     "shell.execute_reply.started": "2022-02-15T13:42:39.541043Z"
    }
   },
   "outputs": [],
   "source": [
    "# pick your favorite list of cryptocurrencies\n",
    "crypto = ['BTC', 'ETH', 'LTC', 'XRP', 'DASH', 'SC']"
   ]
  },
  {
   "cell_type": "markdown",
   "id": "345ad8e8-0182-4fa3-bda2-8d505dd1490f",
   "metadata": {},
   "source": [
    "## Model"
   ]
  },
  {
   "cell_type": "markdown",
   "id": "7c4abf17-73d6-4fec-809a-7f593c629031",
   "metadata": {},
   "source": [
    "### Get combined data"
   ]
  },
  {
   "cell_type": "code",
   "execution_count": 4,
   "id": "02f0a43e-9270-43dc-9150-6a4f97a99b26",
   "metadata": {
    "execution": {
     "iopub.execute_input": "2022-02-15T13:42:39.648922Z",
     "iopub.status.busy": "2022-02-15T13:42:39.648738Z",
     "iopub.status.idle": "2022-02-15T13:42:40.523650Z",
     "shell.execute_reply": "2022-02-15T13:42:40.521590Z",
     "shell.execute_reply.started": "2022-02-15T13:42:39.648901Z"
    },
    "papermill": {},
    "tags": []
   },
   "outputs": [
    {
     "name": "stdout",
     "output_type": "stream",
     "text": [
      "[*********************100%***********************]  1 of 1 completed\n",
      "[*********************100%***********************]  1 of 1 completed\n",
      "[*********************100%***********************]  1 of 1 completed\n",
      "[*********************100%***********************]  1 of 1 completed\n",
      "[*********************100%***********************]  1 of 1 completed\n",
      "[*********************100%***********************]  1 of 1 completed\n"
     ]
    },
    {
     "data": {
      "text/html": [
       "<div>\n",
       "<style scoped>\n",
       "    .dataframe tbody tr th:only-of-type {\n",
       "        vertical-align: middle;\n",
       "    }\n",
       "\n",
       "    .dataframe tbody tr th {\n",
       "        vertical-align: top;\n",
       "    }\n",
       "\n",
       "    .dataframe thead th {\n",
       "        text-align: right;\n",
       "    }\n",
       "</style>\n",
       "<table border=\"1\" class=\"dataframe\">\n",
       "  <thead>\n",
       "    <tr style=\"text-align: right;\">\n",
       "      <th></th>\n",
       "      <th>BTC</th>\n",
       "      <th>ETH</th>\n",
       "      <th>LTC</th>\n",
       "      <th>XRP</th>\n",
       "      <th>DASH</th>\n",
       "      <th>SC</th>\n",
       "    </tr>\n",
       "    <tr>\n",
       "      <th>Date</th>\n",
       "      <th></th>\n",
       "      <th></th>\n",
       "      <th></th>\n",
       "      <th></th>\n",
       "      <th></th>\n",
       "      <th></th>\n",
       "    </tr>\n",
       "  </thead>\n",
       "  <tbody>\n",
       "    <tr>\n",
       "      <th>2017-12-31</th>\n",
       "      <td>14156.400391</td>\n",
       "      <td>756.732971</td>\n",
       "      <td>232.095993</td>\n",
       "      <td>2.300570</td>\n",
       "      <td>1051.680054</td>\n",
       "      <td>0.030350</td>\n",
       "    </tr>\n",
       "    <tr>\n",
       "      <th>2018-01-01</th>\n",
       "      <td>13657.200195</td>\n",
       "      <td>772.640991</td>\n",
       "      <td>229.033005</td>\n",
       "      <td>2.391030</td>\n",
       "      <td>1053.979980</td>\n",
       "      <td>0.030770</td>\n",
       "    </tr>\n",
       "    <tr>\n",
       "      <th>2018-01-02</th>\n",
       "      <td>14982.099609</td>\n",
       "      <td>884.443970</td>\n",
       "      <td>255.684006</td>\n",
       "      <td>2.480900</td>\n",
       "      <td>1217.719971</td>\n",
       "      <td>0.030722</td>\n",
       "    </tr>\n",
       "    <tr>\n",
       "      <th>2018-01-03</th>\n",
       "      <td>15201.000000</td>\n",
       "      <td>962.719971</td>\n",
       "      <td>245.367996</td>\n",
       "      <td>3.105370</td>\n",
       "      <td>1170.739990</td>\n",
       "      <td>0.032952</td>\n",
       "    </tr>\n",
       "    <tr>\n",
       "      <th>2018-01-04</th>\n",
       "      <td>15599.200195</td>\n",
       "      <td>980.921997</td>\n",
       "      <td>241.369995</td>\n",
       "      <td>3.196630</td>\n",
       "      <td>1229.790039</td>\n",
       "      <td>0.039108</td>\n",
       "    </tr>\n",
       "    <tr>\n",
       "      <th>...</th>\n",
       "      <td>...</td>\n",
       "      <td>...</td>\n",
       "      <td>...</td>\n",
       "      <td>...</td>\n",
       "      <td>...</td>\n",
       "      <td>...</td>\n",
       "    </tr>\n",
       "    <tr>\n",
       "      <th>2022-02-11</th>\n",
       "      <td>42407.937500</td>\n",
       "      <td>2927.383545</td>\n",
       "      <td>126.031158</td>\n",
       "      <td>0.760226</td>\n",
       "      <td>104.099358</td>\n",
       "      <td>0.010559</td>\n",
       "    </tr>\n",
       "    <tr>\n",
       "      <th>2022-02-12</th>\n",
       "      <td>42244.468750</td>\n",
       "      <td>2917.362793</td>\n",
       "      <td>126.683678</td>\n",
       "      <td>0.822408</td>\n",
       "      <td>103.887085</td>\n",
       "      <td>0.010685</td>\n",
       "    </tr>\n",
       "    <tr>\n",
       "      <th>2022-02-13</th>\n",
       "      <td>42197.515625</td>\n",
       "      <td>2883.463379</td>\n",
       "      <td>126.204216</td>\n",
       "      <td>0.810273</td>\n",
       "      <td>102.792747</td>\n",
       "      <td>0.010403</td>\n",
       "    </tr>\n",
       "    <tr>\n",
       "      <th>2022-02-14</th>\n",
       "      <td>42586.917969</td>\n",
       "      <td>2933.479004</td>\n",
       "      <td>124.800056</td>\n",
       "      <td>0.802218</td>\n",
       "      <td>103.983528</td>\n",
       "      <td>0.010339</td>\n",
       "    </tr>\n",
       "    <tr>\n",
       "      <th>2022-02-15</th>\n",
       "      <td>44141.042969</td>\n",
       "      <td>3100.764404</td>\n",
       "      <td>131.082977</td>\n",
       "      <td>0.829176</td>\n",
       "      <td>107.602730</td>\n",
       "      <td>0.010781</td>\n",
       "    </tr>\n",
       "  </tbody>\n",
       "</table>\n",
       "<p>1508 rows × 6 columns</p>\n",
       "</div>"
      ],
      "text/plain": [
       "                     BTC          ETH         LTC       XRP         DASH  \\\n",
       "Date                                                                       \n",
       "2017-12-31  14156.400391   756.732971  232.095993  2.300570  1051.680054   \n",
       "2018-01-01  13657.200195   772.640991  229.033005  2.391030  1053.979980   \n",
       "2018-01-02  14982.099609   884.443970  255.684006  2.480900  1217.719971   \n",
       "2018-01-03  15201.000000   962.719971  245.367996  3.105370  1170.739990   \n",
       "2018-01-04  15599.200195   980.921997  241.369995  3.196630  1229.790039   \n",
       "...                  ...          ...         ...       ...          ...   \n",
       "2022-02-11  42407.937500  2927.383545  126.031158  0.760226   104.099358   \n",
       "2022-02-12  42244.468750  2917.362793  126.683678  0.822408   103.887085   \n",
       "2022-02-13  42197.515625  2883.463379  126.204216  0.810273   102.792747   \n",
       "2022-02-14  42586.917969  2933.479004  124.800056  0.802218   103.983528   \n",
       "2022-02-15  44141.042969  3100.764404  131.082977  0.829176   107.602730   \n",
       "\n",
       "                  SC  \n",
       "Date                  \n",
       "2017-12-31  0.030350  \n",
       "2018-01-01  0.030770  \n",
       "2018-01-02  0.030722  \n",
       "2018-01-03  0.032952  \n",
       "2018-01-04  0.039108  \n",
       "...              ...  \n",
       "2022-02-11  0.010559  \n",
       "2022-02-12  0.010685  \n",
       "2022-02-13  0.010403  \n",
       "2022-02-14  0.010339  \n",
       "2022-02-15  0.010781  \n",
       "\n",
       "[1508 rows x 6 columns]"
      ]
     },
     "execution_count": 4,
     "metadata": {},
     "output_type": "execute_result"
    }
   ],
   "source": [
    "yfin.pdr_override()\n",
    "\n",
    "colnames = []\n",
    "\n",
    "first = True\n",
    "\n",
    "for ticker in crypto:\n",
    "    data = yfin.download(f\"{ticker}-{currency}\", start, end)\n",
    "    if first:\n",
    "        combined = data[[metric]].copy()\n",
    "        colnames.append(ticker)\n",
    "        combined.columns = colnames\n",
    "        first = False\n",
    "    else:\n",
    "        combined = combined.join(data[metric])\n",
    "        colnames.append(ticker)\n",
    "        combined.columns = colnames\n",
    "        \n",
    "combined"
   ]
  },
  {
   "cell_type": "markdown",
   "id": "5c4bf63a-ea8d-47f6-b716-714d7d9aeb0c",
   "metadata": {},
   "source": [
    "## Output"
   ]
  },
  {
   "cell_type": "markdown",
   "id": "803c592f-22c0-4014-be4e-0aeb4e6308f4",
   "metadata": {
    "papermill": {},
    "tags": []
   },
   "source": [
    "### Show heatmap and correlation"
   ]
  },
  {
   "cell_type": "code",
   "execution_count": 5,
   "id": "e4fe5666-5366-46dd-8030-66a5085da6b0",
   "metadata": {
    "execution": {
     "iopub.execute_input": "2022-02-15T13:42:40.526147Z",
     "iopub.status.busy": "2022-02-15T13:42:40.525732Z",
     "iopub.status.idle": "2022-02-15T13:42:41.732068Z",
     "shell.execute_reply": "2022-02-15T13:42:41.731399Z",
     "shell.execute_reply.started": "2022-02-15T13:42:40.526112Z"
    },
    "tags": []
   },
   "outputs": [
    {
     "data": {
      "image/png": "[encoded data removed]",
      "text/plain": [
       "<Figure size 432x288 with 1 Axes>"
      ]
     },
     "metadata": {
      "needs_background": "light"
     },
     "output_type": "display_data"
    },
    {
     "data": {
      "image/png": "[encoded data removed]",
      "text/plain": [
       "<Figure size 432x288 with 2 Axes>"
      ]
     },
     "metadata": {
      "needs_background": "light"
     },
     "output_type": "display_data"
    },
    {
     "name": "stdout",
     "output_type": "stream",
     "text": [
      "           BTC       ETH       LTC       XRP      DASH        SC\n",
      "BTC   1.000000  0.806339  0.797003  0.593065  0.678787  0.642281\n",
      "ETH   0.806339  1.000000  0.820027  0.652047  0.699974  0.620826\n",
      "LTC   0.797003  0.820027  1.000000  0.651777  0.730300  0.617290\n",
      "XRP   0.593065  0.652047  0.651777  1.000000  0.584203  0.530789\n",
      "DASH  0.678787  0.699974  0.730300  0.584203  1.000000  0.583114\n",
      "SC    0.642281  0.620826  0.617290  0.530789  0.583114  1.000000\n"
     ]
    }
   ],
   "source": [
    "plt.yscale('log') # first show linear\n",
    "for ticker in crypto:\n",
    "    plt.plot(combined[ticker], label=ticker)\n",
    "    \n",
    "plt.tick_params(axis=\"x\", width = 2)\n",
    "plt.xticks(rotation = \"vertical\", )\n",
    "plt.margins(0.01)\n",
    "plt.subplots_adjust(bottom = 0.15)\n",
    "plt.legend(loc='lower center', bbox_to_anchor=(0.5, 1.05),\n",
    "          ncol=6, fancybox=True, shadow=False)\n",
    "plt.show()\n",
    "\n",
    "# Correlation Heat Map\n",
    "combined = combined.pct_change().corr(method='pearson')\n",
    "\n",
    "sns.heatmap(combined, annot=True, cmap=\"coolwarm\")\n",
    "plt.show()\n",
    "print(combined)"
   ]
  }
 ],
 "metadata": {
  "kernelspec": {
   "display_name": "Python 3",
   "language": "python",
   "name": "python3"
  },
  "language_info": {
   "codemirror_mode": {
    "name": "ipython",
    "version": 3
   },
   "file_extension": ".py",
   "mimetype": "text/x-python",
   "name": "python",
   "nbconvert_exporter": "python",
   "pygments_lexer": "ipython3",
   "version": "3.8.8"
  },
  "papermill": {
   "default_parameters": {},
   "environment_variables": {},
   "parameters": {},
   "version": "2.3.3"
  },
  "toc-autonumbering": false,
  "widgets": {
   "application/vnd.jupyter.widget-state+json": {
    "state": {},
    "version_major": 2,
    "version_minor": 0
   }
  }
 },
 "nbformat": 4,
 "nbformat_minor": 5
}
