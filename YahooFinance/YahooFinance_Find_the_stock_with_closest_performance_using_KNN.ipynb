{
 "cells": [
  {
   "cell_type": "markdown",
   "id": "latin-packing",
   "metadata": {
    "execution": {
     "iopub.execute_input": "2021-02-23T14:22:16.610471Z",
     "iopub.status.busy": "2021-02-23T14:22:16.610129Z",
     "iopub.status.idle": "2021-02-23T14:22:16.627784Z",
     "shell.execute_reply": "2021-02-23T14:22:16.626866Z",
     "shell.execute_reply.started": "2021-02-23T14:22:16.610384Z"
    },
    "papermill": {},
    "tags": []
   },
   "source": [
    "<img width=\"10%\" alt=\"Naas\" src=\"https://landen.imgix.net/jtci2pxwjczr/assets/5ice39g4.png?w=160\"/>"
   ]
  },
  {
   "cell_type": "markdown",
   "id": "compressed-wilson",
   "metadata": {
    "papermill": {},
    "tags": []
   },
   "source": [
    "# YahooFinance - Find the stock with closest performance using KNN\n",
    "<a href=\"https://app.naas.ai/user-redirect/naas/downloader?url=https://raw.githubusercontent.com/jupyter-naas/awesome-notebooks/master/template.ipynb\" target=\"_parent\">\n",
    "<img src=\"https://img.shields.io/badge/-Open%20in%20Naas-success?labelColor=000000&logo=data:image/svg+xml;base64,PD94bWwgdmVyc2lvbj0iMS4wIiBlbmNvZGluZz0iVVRGLTgiPz4KPHN2ZyB3aWR0aD0iMTAyNHB4IiBoZWlnaHQ9IjEwMjRweCIgdmlld0JveD0iMCAwIDEwMjQgMTAyNCIgeG1sbnM9Imh0dHA6Ly93d3cudzMub3JnLzIwMDAvc3ZnIiB4bWxuczp4bGluaz0iaHR0cDovL3d3dy53My5vcmcvMTk5OS94bGluayIgdmVyc2lvbj0iMS4xIj4KIDwhLS0gR2VuZXJhdGVkIGJ5IFBpeGVsbWF0b3IgUHJvIDIuMC41IC0tPgogPGRlZnM+CiAgPHRleHQgaWQ9InN0cmluZyIgdHJhbnNmb3JtPSJtYXRyaXgoMS4wIDAuMCAwLjAgMS4wIDIyOC4wIDU0LjUpIiBmb250LWZhbWlseT0iQ29tZm9ydGFhLVJlZ3VsYXIsIENvbWZvcnRhYSIgZm9udC1zaXplPSI4MDAiIHRleHQtZGVjb3JhdGlvbj0ibm9uZSIgZmlsbD0iI2ZmZmZmZiIgeD0iMS4xOTk5OTk5OTk5OTk5ODg2IiB5PSI3MDUuMCI+bjwvdGV4dD4KIDwvZGVmcz4KIDx1c2UgaWQ9Im4iIHhsaW5rOmhyZWY9IiNzdHJpbmciLz4KPC9zdmc+Cg==\"/>\n",
    "</a>"
   ]
  },
  {
   "cell_type": "markdown",
   "id": "religious-programmer",
   "metadata": {},
   "source": [
    "**Tags:** #tool #naas_drivers #naas #scheduler #asset #snippet #automation #ai #analytics #yahoo #clustering #stocks"
   ]
  },
  {
   "cell_type": "markdown",
   "id": "1fe9f56e-561c-4f52-aef8-b861c9462107",
   "metadata": {},
   "source": [
    "**Author:** [Abhinav Lakhani](https://www.linkedin.com/in/abhinav-lakhani/)"
   ]
  },
  {
   "cell_type": "markdown",
   "id": "31ea7cdb-e10d-43fc-b026-f69249a59736",
   "metadata": {},
   "source": [
    "Given a list of stocks data(tickers), find the stock(s) with the closest performance attribute, make a clustering Graph of clusters (with each cluster having a different color) and save the clustered stocks to a .csv as well as the cluster to an image.\n",
    "\n",
    "Resources / Inspiration:\n",
    "https://towardsdatascience.com/in-12-minutes-stocks-analysis-with-pandas-and-scikit-learn-a8d8a7b50ee7"
   ]
  },
  {
   "cell_type": "markdown",
   "id": "distinguished-truth",
   "metadata": {
    "papermill": {},
    "tags": []
   },
   "source": [
    "## Input"
   ]
  },
  {
   "cell_type": "markdown",
   "id": "numeric-mediterranean",
   "metadata": {},
   "source": [
    "### Import library"
   ]
  },
  {
   "cell_type": "code",
   "execution_count": 1,
   "id": "potential-surfing",
   "metadata": {
    "execution": {
     "iopub.execute_input": "2022-07-07T14:49:13.772980Z",
     "iopub.status.busy": "2022-07-07T14:49:13.772558Z",
     "iopub.status.idle": "2022-07-07T14:49:15.394565Z",
     "shell.execute_reply": "2022-07-07T14:49:15.393869Z",
     "shell.execute_reply.started": "2022-07-07T14:49:13.772831Z"
    },
    "tags": []
   },
   "outputs": [],
   "source": [
    "from naas_drivers import yahoofinance\n",
    "import naas"
   ]
  },
  {
   "cell_type": "code",
   "execution_count": 2,
   "id": "a7180aef-048e-48bb-99a4-f1a1449dc066",
   "metadata": {
    "execution": {
     "iopub.execute_input": "2022-07-07T14:49:15.396044Z",
     "iopub.status.busy": "2022-07-07T14:49:15.395794Z",
     "iopub.status.idle": "2022-07-07T14:49:17.540590Z",
     "shell.execute_reply": "2022-07-07T14:49:17.539980Z",
     "shell.execute_reply.started": "2022-07-07T14:49:15.396013Z"
    },
    "tags": []
   },
   "outputs": [],
   "source": [
    "from pylab import plot,show\n",
    "from numpy import vstack,array\n",
    "from numpy.random import rand\n",
    "import numpy as np\n",
    "from scipy.cluster.vq import kmeans,vq\n",
    "import pandas as pd\n",
    "from math import sqrt\n",
    "from sklearn.cluster import KMeans\n",
    "from matplotlib import pyplot as plt"
   ]
  },
  {
   "cell_type": "markdown",
   "id": "aggressive-trustee",
   "metadata": {},
   "source": [
    "### Variables"
   ]
  },
  {
   "cell_type": "code",
   "execution_count": 3,
   "id": "continuous-melbourne",
   "metadata": {
    "execution": {
     "iopub.execute_input": "2022-07-07T14:49:17.542789Z",
     "iopub.status.busy": "2022-07-07T14:49:17.542541Z",
     "iopub.status.idle": "2022-07-07T14:49:17.551397Z",
     "shell.execute_reply": "2022-07-07T14:49:17.550770Z",
     "shell.execute_reply.started": "2022-07-07T14:49:17.542757Z"
    },
    "tags": []
   },
   "outputs": [],
   "source": [
    "# Input\n",
    "sp500_url = 'https://en.wikipedia.org/wiki/List_of_S%26P_500_companies'\n",
    "date_from = -3600\n",
    "date_to = \"today\"\n",
    "moving_averages = [20,50]\n",
    "tickers = []\n",
    "feature = \"Adj Close\" # which performance attribute do we want to cluster on: Open\tHigh\tLow\tClose\tAdj Close\tVolume\n",
    "\n",
    "# Output\n",
    "csv_output = \"STOCK_CLUSTERS.csv\"\n",
    "img_output = \"STOCK_CLUSTERS.png\""
   ]
  },
  {
   "cell_type": "markdown",
   "id": "b15b304b-9f82-4349-bb83-3fc55e74b09a",
   "metadata": {},
   "source": [
    "### Schedule your notebook"
   ]
  },
  {
   "cell_type": "code",
   "execution_count": 4,
   "id": "1383d1a5-9741-4376-abe9-ae608709b7da",
   "metadata": {
    "execution": {
     "iopub.execute_input": "2022-07-07T14:49:17.553094Z",
     "iopub.status.busy": "2022-07-07T14:49:17.552781Z",
     "iopub.status.idle": "2022-07-07T14:49:17.659862Z",
     "shell.execute_reply": "2022-07-07T14:49:17.658736Z",
     "shell.execute_reply.started": "2022-07-07T14:49:17.553057Z"
    },
    "tags": []
   },
   "outputs": [],
   "source": [
    "# Schedule your notebook everyday at 9 AM\n",
    "# naas.scheduler.add(cron=\"0 9 * * *\")\n",
    "\n",
    "#-> Uncomment the line below to remove your scheduler\n",
    "# naas.scheduler.delete()"
   ]
  },
  {
   "cell_type": "markdown",
   "id": "a1d76c6f-d1ed-4843-8594-5221436149d8",
   "metadata": {},
   "source": [
    "## Modeling"
   ]
  },
  {
   "cell_type": "markdown",
   "id": "48622a1a-534b-4372-b40a-e5cd70840eab",
   "metadata": {},
   "source": [
    "### Get tickers from Wikipedia"
   ]
  },
  {
   "cell_type": "code",
   "execution_count": 5,
   "id": "172b6157-2692-47e4-bd89-8161bc860fc0",
   "metadata": {
    "execution": {
     "iopub.execute_input": "2022-07-07T14:49:17.661590Z",
     "iopub.status.busy": "2022-07-07T14:49:17.661228Z",
     "iopub.status.idle": "2022-07-07T14:49:18.775464Z",
     "shell.execute_reply": "2022-07-07T14:49:18.774803Z",
     "shell.execute_reply.started": "2022-07-07T14:49:17.661558Z"
    },
    "tags": []
   },
   "outputs": [],
   "source": [
    "# read in the url and scrape s&p500 tickers\n",
    "data_table = pd.read_html(sp500_url)\n",
    "tickers = data_table[0][\"Symbol\"].tolist()"
   ]
  },
  {
   "cell_type": "markdown",
   "id": "e9da93cb-3a04-4792-93fa-770647723e05",
   "metadata": {},
   "source": [
    "### Get data from yahoo finance"
   ]
  },
  {
   "cell_type": "code",
   "execution_count": 6,
   "id": "4cfd15c5-041a-476c-8a55-a13d7fbb9936",
   "metadata": {
    "execution": {
     "iopub.execute_input": "2022-07-07T14:49:18.776793Z",
     "iopub.status.busy": "2022-07-07T14:49:18.776544Z",
     "iopub.status.idle": "2022-07-07T14:50:53.996086Z",
     "shell.execute_reply": "2022-07-07T14:50:53.995364Z",
     "shell.execute_reply.started": "2022-07-07T14:49:18.776761Z"
    },
    "tags": []
   },
   "outputs": [
    {
     "data": {
      "text/html": [
       "<div>\n",
       "<style scoped>\n",
       "    .dataframe tbody tr th:only-of-type {\n",
       "        vertical-align: middle;\n",
       "    }\n",
       "\n",
       "    .dataframe tbody tr th {\n",
       "        vertical-align: top;\n",
       "    }\n",
       "\n",
       "    .dataframe thead th {\n",
       "        text-align: right;\n",
       "    }\n",
       "</style>\n",
       "<table border=\"1\" class=\"dataframe\">\n",
       "  <thead>\n",
       "    <tr style=\"text-align: right;\">\n",
       "      <th></th>\n",
       "      <th>MMM</th>\n",
       "      <th>AOS</th>\n",
       "      <th>ABT</th>\n",
       "      <th>ABBV</th>\n",
       "      <th>ABMD</th>\n",
       "      <th>ACN</th>\n",
       "      <th>ATVI</th>\n",
       "      <th>ADM</th>\n",
       "      <th>ADBE</th>\n",
       "      <th>ADP</th>\n",
       "      <th>...</th>\n",
       "      <th>WTW</th>\n",
       "      <th>GWW</th>\n",
       "      <th>WYNN</th>\n",
       "      <th>XEL</th>\n",
       "      <th>XYL</th>\n",
       "      <th>YUM</th>\n",
       "      <th>ZBRA</th>\n",
       "      <th>ZBH</th>\n",
       "      <th>ZION</th>\n",
       "      <th>ZTS</th>\n",
       "    </tr>\n",
       "  </thead>\n",
       "  <tbody>\n",
       "    <tr>\n",
       "      <th>0</th>\n",
       "      <td>70.089760</td>\n",
       "      <td>11.781172</td>\n",
       "      <td>26.145638</td>\n",
       "      <td>23.783304</td>\n",
       "      <td>22.510000</td>\n",
       "      <td>50.504608</td>\n",
       "      <td>10.874083</td>\n",
       "      <td>20.198206</td>\n",
       "      <td>32.060001</td>\n",
       "      <td>40.832619</td>\n",
       "      <td>...</td>\n",
       "      <td>80.040703</td>\n",
       "      <td>171.845673</td>\n",
       "      <td>80.126816</td>\n",
       "      <td>20.166996</td>\n",
       "      <td>21.080410</td>\n",
       "      <td>38.023918</td>\n",
       "      <td>37.160000</td>\n",
       "      <td>54.745899</td>\n",
       "      <td>16.369993</td>\n",
       "      <td>29.067743</td>\n",
       "    </tr>\n",
       "    <tr>\n",
       "      <th>1</th>\n",
       "      <td>70.188469</td>\n",
       "      <td>11.820350</td>\n",
       "      <td>26.097898</td>\n",
       "      <td>23.586916</td>\n",
       "      <td>22.530001</td>\n",
       "      <td>50.645710</td>\n",
       "      <td>10.911101</td>\n",
       "      <td>20.359055</td>\n",
       "      <td>31.959999</td>\n",
       "      <td>40.825619</td>\n",
       "      <td>...</td>\n",
       "      <td>79.996994</td>\n",
       "      <td>170.535843</td>\n",
       "      <td>79.890747</td>\n",
       "      <td>20.166996</td>\n",
       "      <td>21.045349</td>\n",
       "      <td>38.095463</td>\n",
       "      <td>37.340000</td>\n",
       "      <td>55.406979</td>\n",
       "      <td>16.446692</td>\n",
       "      <td>29.077126</td>\n",
       "    </tr>\n",
       "    <tr>\n",
       "      <th>2</th>\n",
       "      <td>69.679688</td>\n",
       "      <td>11.641878</td>\n",
       "      <td>26.014376</td>\n",
       "      <td>23.288942</td>\n",
       "      <td>22.139999</td>\n",
       "      <td>50.753620</td>\n",
       "      <td>10.800047</td>\n",
       "      <td>20.320761</td>\n",
       "      <td>31.459999</td>\n",
       "      <td>40.510925</td>\n",
       "      <td>...</td>\n",
       "      <td>79.669327</td>\n",
       "      <td>170.419037</td>\n",
       "      <td>78.314545</td>\n",
       "      <td>20.087631</td>\n",
       "      <td>21.115469</td>\n",
       "      <td>37.773525</td>\n",
       "      <td>37.139999</td>\n",
       "      <td>55.308720</td>\n",
       "      <td>16.369993</td>\n",
       "      <td>29.095865</td>\n",
       "    </tr>\n",
       "    <tr>\n",
       "      <th>3</th>\n",
       "      <td>70.317574</td>\n",
       "      <td>11.907406</td>\n",
       "      <td>26.070057</td>\n",
       "      <td>23.336348</td>\n",
       "      <td>22.330000</td>\n",
       "      <td>51.127102</td>\n",
       "      <td>10.883337</td>\n",
       "      <td>20.489271</td>\n",
       "      <td>31.270000</td>\n",
       "      <td>40.615829</td>\n",
       "      <td>...</td>\n",
       "      <td>81.526146</td>\n",
       "      <td>171.829025</td>\n",
       "      <td>78.558235</td>\n",
       "      <td>20.123701</td>\n",
       "      <td>21.290773</td>\n",
       "      <td>37.988148</td>\n",
       "      <td>37.290001</td>\n",
       "      <td>55.192577</td>\n",
       "      <td>16.404083</td>\n",
       "      <td>29.086485</td>\n",
       "    </tr>\n",
       "    <tr>\n",
       "      <th>4</th>\n",
       "      <td>69.618935</td>\n",
       "      <td>11.983583</td>\n",
       "      <td>26.038239</td>\n",
       "      <td>22.828447</td>\n",
       "      <td>22.940001</td>\n",
       "      <td>50.678905</td>\n",
       "      <td>10.809300</td>\n",
       "      <td>20.588839</td>\n",
       "      <td>31.440001</td>\n",
       "      <td>40.629810</td>\n",
       "      <td>...</td>\n",
       "      <td>80.586800</td>\n",
       "      <td>174.573761</td>\n",
       "      <td>76.692680</td>\n",
       "      <td>20.260798</td>\n",
       "      <td>21.036581</td>\n",
       "      <td>37.546974</td>\n",
       "      <td>37.270000</td>\n",
       "      <td>56.282501</td>\n",
       "      <td>16.472252</td>\n",
       "      <td>29.995733</td>\n",
       "    </tr>\n",
       "  </tbody>\n",
       "</table>\n",
       "<p>5 rows × 501 columns</p>\n",
       "</div>"
      ],
      "text/plain": [
       "         MMM        AOS        ABT       ABBV       ABMD        ACN  \\\n",
       "0  70.089760  11.781172  26.145638  23.783304  22.510000  50.504608   \n",
       "1  70.188469  11.820350  26.097898  23.586916  22.530001  50.645710   \n",
       "2  69.679688  11.641878  26.014376  23.288942  22.139999  50.753620   \n",
       "3  70.317574  11.907406  26.070057  23.336348  22.330000  51.127102   \n",
       "4  69.618935  11.983583  26.038239  22.828447  22.940001  50.678905   \n",
       "\n",
       "        ATVI        ADM       ADBE        ADP  ...        WTW         GWW  \\\n",
       "0  10.874083  20.198206  32.060001  40.832619  ...  80.040703  171.845673   \n",
       "1  10.911101  20.359055  31.959999  40.825619  ...  79.996994  170.535843   \n",
       "2  10.800047  20.320761  31.459999  40.510925  ...  79.669327  170.419037   \n",
       "3  10.883337  20.489271  31.270000  40.615829  ...  81.526146  171.829025   \n",
       "4  10.809300  20.588839  31.440001  40.629810  ...  80.586800  174.573761   \n",
       "\n",
       "        WYNN        XEL        XYL        YUM       ZBRA        ZBH  \\\n",
       "0  80.126816  20.166996  21.080410  38.023918  37.160000  54.745899   \n",
       "1  79.890747  20.166996  21.045349  38.095463  37.340000  55.406979   \n",
       "2  78.314545  20.087631  21.115469  37.773525  37.139999  55.308720   \n",
       "3  78.558235  20.123701  21.290773  37.988148  37.290001  55.192577   \n",
       "4  76.692680  20.260798  21.036581  37.546974  37.270000  56.282501   \n",
       "\n",
       "        ZION        ZTS  \n",
       "0  16.369993  29.067743  \n",
       "1  16.446692  29.077126  \n",
       "2  16.369993  29.095865  \n",
       "3  16.404083  29.086485  \n",
       "4  16.472252  29.995733  \n",
       "\n",
       "[5 rows x 501 columns]"
      ]
     },
     "execution_count": 6,
     "metadata": {},
     "output_type": "execute_result"
    }
   ],
   "source": [
    "# get stocks info\n",
    "prices_list = []\n",
    "for ticker in tickers:\n",
    "    try:\n",
    "        prices = yahoofinance.get(ticker,\n",
    "                      date_from=date_from,\n",
    "                      date_to=date_to,\n",
    "                      moving_averages=moving_averages)[feature]\n",
    "        prices = pd.DataFrame(prices)\n",
    "        prices.columns = [ticker]\n",
    "        prices_list.append(prices)\n",
    "    except:\n",
    "        pass\n",
    "    prices_df = pd.concat(prices_list,axis=1)\n",
    "prices_df.sort_index(inplace=True)\n",
    "prices_df.head()"
   ]
  },
  {
   "cell_type": "markdown",
   "id": "298a5781-9dff-4283-9352-56fb24fa510a",
   "metadata": {},
   "source": [
    "We can now start to analyse the data and begin our K-Means investigation…\n",
    "\n",
    "Our first decision is to choose how many clusters do we actually want to separate our stocks into. Rather than make some arbitrary decision, we can use the “Elbow Method” to highlight the relationship between how many clusters we choose, and the Sum of Squared Errors (SSE) resulting from using that number of clusters.\n",
    "\n",
    "We then plot this relationship to help us identify the optimal number of clusters to use – we would prefer a lower number of clusters, but also would prefer the SSE to be lower – so this trade off needs to be taken into account.\n",
    "\n",
    "Lets run the code for our Elbow Curve plot."
   ]
  },
  {
   "cell_type": "code",
   "execution_count": 7,
   "id": "1cea5a15-2f71-4071-8c76-55bae45f77f2",
   "metadata": {
    "execution": {
     "iopub.execute_input": "2022-07-07T14:50:53.997484Z",
     "iopub.status.busy": "2022-07-07T14:50:53.997253Z",
     "iopub.status.idle": "2022-07-07T14:50:54.215459Z",
     "shell.execute_reply": "2022-07-07T14:50:54.214753Z",
     "shell.execute_reply.started": "2022-07-07T14:50:53.997455Z"
    },
    "tags": []
   },
   "outputs": [],
   "source": [
    "#Calculate average annual percentage return and volatilities over a theoretical one year period\n",
    "returns = prices_df.pct_change().mean() * 252\n",
    "returns = pd.DataFrame(returns)\n",
    "returns.columns = ['Returns']\n",
    "returns['Volatility'] = prices_df.pct_change().std() * sqrt(252)\n",
    "#format the data as a numpy array to feed into the K-Means algorithm\n",
    "data = np.asarray([np.asarray(returns['Returns']),np.asarray(returns['Volatility'])]).T"
   ]
  },
  {
   "cell_type": "code",
   "execution_count": 8,
   "id": "e4b87b4d-5b12-4867-a23a-de838253621f",
   "metadata": {
    "execution": {
     "iopub.execute_input": "2022-07-07T14:50:54.217973Z",
     "iopub.status.busy": "2022-07-07T14:50:54.217578Z",
     "iopub.status.idle": "2022-07-07T14:50:55.867369Z",
     "shell.execute_reply": "2022-07-07T14:50:55.866596Z",
     "shell.execute_reply.started": "2022-07-07T14:50:54.217939Z"
    },
    "tags": []
   },
   "outputs": [
    {
     "data": {
      "text/plain": [
       "Text(0.5, 1.0, 'Elbow curve')"
      ]
     },
     "execution_count": 8,
     "metadata": {},
     "output_type": "execute_result"
    },
    {
     "data": {
      "image/png": "[encoded data removed]",
      "text/plain": [
       "<Figure size 1080x360 with 1 Axes>"
      ]
     },
     "metadata": {
      "needs_background": "light"
     },
     "output_type": "display_data"
    }
   ],
   "source": [
    "# KMeans\n",
    "X = data\n",
    "distorsions = []\n",
    "for k in range(2, 20):\n",
    "    k_means = KMeans(n_clusters=k)\n",
    "    k_means.fit(X)\n",
    "    distorsions.append(k_means.inertia_)\n",
    "fig = plt.figure(figsize=(15, 5))\n",
    "plt.plot(range(2, 20), distorsions)\n",
    "plt.grid(True)\n",
    "plt.title('Elbow curve')"
   ]
  },
  {
   "cell_type": "markdown",
   "id": "0f968a85-8112-4671-a1b8-d156f7cb388e",
   "metadata": {},
   "source": [
    "So we can sort of see that once the number of clusters reaches 5 (on the bottom axis), the reduction in the SSE begins to slow down for each increase in cluster number. This would lead me to believe that the optimal number of clusters for this exercise lies around the 5 mark – so let’s use 5."
   ]
  },
  {
   "cell_type": "code",
   "execution_count": 9,
   "id": "ca746d52-f4f8-4892-9d6e-caf915b7ce26",
   "metadata": {
    "execution": {
     "iopub.execute_input": "2022-07-07T14:50:55.869055Z",
     "iopub.status.busy": "2022-07-07T14:50:55.868750Z",
     "iopub.status.idle": "2022-07-07T14:50:56.058959Z",
     "shell.execute_reply": "2022-07-07T14:50:56.058172Z",
     "shell.execute_reply.started": "2022-07-07T14:50:55.869017Z"
    },
    "tags": []
   },
   "outputs": [
    {
     "data": {
      "image/png": "[encoded data removed]",
      "text/plain": [
       "<Figure size 432x288 with 1 Axes>"
      ]
     },
     "metadata": {
      "needs_background": "light"
     },
     "output_type": "display_data"
    }
   ],
   "source": [
    "# computing K-Means with K = 5 (5 clusters)\n",
    "n_clusters = 5\n",
    "centroids,_ = kmeans(data,n_clusters)\n",
    "# assign each sample to a cluster\n",
    "idx,_ = vq(data,centroids)\n",
    "# some plotting using numpy's logical indexing\n",
    "plt.plot(data[idx==0,0],data[idx==0,1],'ob',\n",
    "     data[idx==1,0],data[idx==1,1],'oy',\n",
    "     data[idx==2,0],data[idx==2,1],'or',\n",
    "     data[idx==3,0],data[idx==3,1],'og',\n",
    "     data[idx==4,0],data[idx==4,1],'om')\n",
    "plt.plot(centroids[:,0],centroids[:,1],'sg',markersize=8)\n",
    "plt.show()"
   ]
  },
  {
   "cell_type": "markdown",
   "id": "37ba1927-cd59-4e5a-9d39-b4e411bbb835",
   "metadata": {},
   "source": [
    "it looks like we have an outlier in the data which is skewing the results and making it difficult to actually see what is going on for all the other stocks. Let’s take the easy route and just drop the outlier from our data set and run this again."
   ]
  },
  {
   "cell_type": "code",
   "execution_count": 10,
   "id": "a8992caf-24ce-435e-a29b-ac629c77a6c5",
   "metadata": {
    "execution": {
     "iopub.execute_input": "2022-07-07T14:50:56.066264Z",
     "iopub.status.busy": "2022-07-07T14:50:56.064166Z",
     "iopub.status.idle": "2022-07-07T14:50:56.081248Z",
     "shell.execute_reply": "2022-07-07T14:50:56.080570Z",
     "shell.execute_reply.started": "2022-07-07T14:50:56.066170Z"
    },
    "tags": []
   },
   "outputs": [
    {
     "name": "stdout",
     "output_type": "stream",
     "text": [
      "Returns       ENPH\n",
      "Volatility    ENPH\n",
      "dtype: object\n"
     ]
    }
   ],
   "source": [
    "#identify the outlier\n",
    "print(returns.idxmax())"
   ]
  },
  {
   "cell_type": "code",
   "execution_count": 11,
   "id": "acd7d3b6-152d-4d0a-b40b-a4e9420fcd86",
   "metadata": {
    "execution": {
     "iopub.execute_input": "2022-07-07T14:50:56.086135Z",
     "iopub.status.busy": "2022-07-07T14:50:56.085919Z",
     "iopub.status.idle": "2022-07-07T14:50:56.195145Z",
     "shell.execute_reply": "2022-07-07T14:50:56.194445Z",
     "shell.execute_reply.started": "2022-07-07T14:50:56.086106Z"
    },
    "tags": []
   },
   "outputs": [],
   "source": [
    "#drop the relevant stock from our data\n",
    "returns.drop(returns.idxmax()[0],inplace=True)\n",
    "#recreate data to feed into the algorithm\n",
    "data = np.asarray([np.asarray(returns['Returns']),np.asarray(returns['Volatility'])]).T"
   ]
  },
  {
   "cell_type": "code",
   "execution_count": 12,
   "id": "0d7e89b2-26a4-468f-8d5b-333bd3c471cc",
   "metadata": {
    "execution": {
     "iopub.execute_input": "2022-07-07T14:50:56.196402Z",
     "iopub.status.busy": "2022-07-07T14:50:56.196042Z",
     "iopub.status.idle": "2022-07-07T14:50:56.459318Z",
     "shell.execute_reply": "2022-07-07T14:50:56.458553Z",
     "shell.execute_reply.started": "2022-07-07T14:50:56.196371Z"
    },
    "tags": []
   },
   "outputs": [
    {
     "data": {
      "image/png": "[encoded data removed]",
      "text/plain": [
       "<Figure size 432x288 with 1 Axes>"
      ]
     },
     "metadata": {
      "needs_background": "light"
     },
     "output_type": "display_data"
    }
   ],
   "source": [
    "# computing K-Means with K = 5 (5 clusters)\n",
    "centroids,_ = kmeans(data,n_clusters)\n",
    "# assign each sample to a cluster\n",
    "idx,_ = vq(data,centroids)\n",
    "# some plotting using numpy's logical indexing\n",
    "plt.plot(data[idx==0,0],data[idx==0,1],'ob',\n",
    "     data[idx==1,0],data[idx==1,1],'oy',\n",
    "     data[idx==2,0],data[idx==2,1],'or',\n",
    "     data[idx==3,0],data[idx==3,1],'og',\n",
    "     data[idx==4,0],data[idx==4,1],'om')\n",
    "plt.plot(centroids[:,0],centroids[:,1],'sg',markersize=8)\n",
    "plt.show()"
   ]
  },
  {
   "cell_type": "markdown",
   "id": "9bc62ec2-d094-4cbb-8097-b61ceb905910",
   "metadata": {},
   "source": [
    "SO there we go, we now have a list of each of the stocks which are close together/similar, along with which one of 5 clusters they belong to with the clusters being defined by their return and volatility characteristics. We also have a visual representation of the clusters in chart format."
   ]
  },
  {
   "cell_type": "markdown",
   "id": "7b1d190a-0361-4afb-998f-2ecb94c13964",
   "metadata": {
    "execution": {
     "iopub.execute_input": "2021-07-02T23:32:10.789097Z",
     "iopub.status.busy": "2021-07-02T23:32:10.788829Z",
     "iopub.status.idle": "2021-07-02T23:32:10.796900Z",
     "shell.execute_reply": "2021-07-02T23:32:10.796358Z",
     "shell.execute_reply.started": "2021-07-02T23:32:10.789033Z"
    }
   },
   "source": [
    "## Output"
   ]
  },
  {
   "cell_type": "code",
   "execution_count": 13,
   "id": "f43536d1-8064-4660-8854-e2de2f612a5b",
   "metadata": {
    "execution": {
     "iopub.execute_input": "2022-07-07T14:50:56.460751Z",
     "iopub.status.busy": "2022-07-07T14:50:56.460492Z",
     "iopub.status.idle": "2022-07-07T14:50:56.474282Z",
     "shell.execute_reply": "2022-07-07T14:50:56.473699Z",
     "shell.execute_reply.started": "2022-07-07T14:50:56.460718Z"
    },
    "tags": []
   },
   "outputs": [
    {
     "data": {
      "text/html": [
       "<div>\n",
       "<style scoped>\n",
       "    .dataframe tbody tr th:only-of-type {\n",
       "        vertical-align: middle;\n",
       "    }\n",
       "\n",
       "    .dataframe tbody tr th {\n",
       "        vertical-align: top;\n",
       "    }\n",
       "\n",
       "    .dataframe thead th {\n",
       "        text-align: right;\n",
       "    }\n",
       "</style>\n",
       "<table border=\"1\" class=\"dataframe\">\n",
       "  <thead>\n",
       "    <tr style=\"text-align: right;\">\n",
       "      <th></th>\n",
       "      <th>Ticker</th>\n",
       "      <th>Group ID</th>\n",
       "    </tr>\n",
       "  </thead>\n",
       "  <tbody>\n",
       "    <tr>\n",
       "      <th>0</th>\n",
       "      <td>MMM</td>\n",
       "      <td>3</td>\n",
       "    </tr>\n",
       "    <tr>\n",
       "      <th>1</th>\n",
       "      <td>AOS</td>\n",
       "      <td>0</td>\n",
       "    </tr>\n",
       "    <tr>\n",
       "      <th>2</th>\n",
       "      <td>ABT</td>\n",
       "      <td>3</td>\n",
       "    </tr>\n",
       "    <tr>\n",
       "      <th>3</th>\n",
       "      <td>ABBV</td>\n",
       "      <td>0</td>\n",
       "    </tr>\n",
       "    <tr>\n",
       "      <th>4</th>\n",
       "      <td>ABMD</td>\n",
       "      <td>4</td>\n",
       "    </tr>\n",
       "    <tr>\n",
       "      <th>...</th>\n",
       "      <td>...</td>\n",
       "      <td>...</td>\n",
       "    </tr>\n",
       "    <tr>\n",
       "      <th>495</th>\n",
       "      <td>YUM</td>\n",
       "      <td>3</td>\n",
       "    </tr>\n",
       "    <tr>\n",
       "      <th>496</th>\n",
       "      <td>ZBRA</td>\n",
       "      <td>4</td>\n",
       "    </tr>\n",
       "    <tr>\n",
       "      <th>497</th>\n",
       "      <td>ZBH</td>\n",
       "      <td>3</td>\n",
       "    </tr>\n",
       "    <tr>\n",
       "      <th>498</th>\n",
       "      <td>ZION</td>\n",
       "      <td>0</td>\n",
       "    </tr>\n",
       "    <tr>\n",
       "      <th>499</th>\n",
       "      <td>ZTS</td>\n",
       "      <td>0</td>\n",
       "    </tr>\n",
       "  </tbody>\n",
       "</table>\n",
       "<p>500 rows × 2 columns</p>\n",
       "</div>"
      ],
      "text/plain": [
       "    Ticker  Group ID\n",
       "0      MMM         3\n",
       "1      AOS         0\n",
       "2      ABT         3\n",
       "3     ABBV         0\n",
       "4     ABMD         4\n",
       "..     ...       ...\n",
       "495    YUM         3\n",
       "496   ZBRA         4\n",
       "497    ZBH         3\n",
       "498   ZION         0\n",
       "499    ZTS         0\n",
       "\n",
       "[500 rows x 2 columns]"
      ]
     },
     "execution_count": 13,
     "metadata": {},
     "output_type": "execute_result"
    }
   ],
   "source": [
    "stock_clusters = pd.DataFrame(zip(returns.index,idx), columns=[\"Ticker\", \"Group ID\"])\n",
    "stock_clusters"
   ]
  },
  {
   "cell_type": "markdown",
   "id": "c1643de6-c674-4715-a4dd-e1c3b973e05d",
   "metadata": {},
   "source": [
    "### Save result in csv"
   ]
  },
  {
   "cell_type": "code",
   "execution_count": 14,
   "id": "4f5a0929-a534-43db-8e05-576ab94374f4",
   "metadata": {
    "execution": {
     "iopub.execute_input": "2022-07-07T14:50:56.475574Z",
     "iopub.status.busy": "2022-07-07T14:50:56.475322Z",
     "iopub.status.idle": "2022-07-07T14:50:56.599814Z",
     "shell.execute_reply": "2022-07-07T14:50:56.599153Z",
     "shell.execute_reply.started": "2022-07-07T14:50:56.475542Z"
    },
    "tags": []
   },
   "outputs": [],
   "source": [
    "stock_clusters.to_csv(csv_output, index=False)"
   ]
  },
  {
   "cell_type": "markdown",
   "id": "f7b1638e-2e56-49cf-9e30-e3a0e74656ff",
   "metadata": {},
   "source": [
    "### Save the cluster plot"
   ]
  },
  {
   "cell_type": "code",
   "execution_count": 15,
   "id": "d1b11772-c277-4fe1-9d97-0054f754bebc",
   "metadata": {
    "execution": {
     "iopub.execute_input": "2022-07-07T14:50:56.602807Z",
     "iopub.status.busy": "2022-07-07T14:50:56.602600Z",
     "iopub.status.idle": "2022-07-07T14:50:56.815966Z",
     "shell.execute_reply": "2022-07-07T14:50:56.809000Z",
     "shell.execute_reply.started": "2022-07-07T14:50:56.602783Z"
    },
    "tags": []
   },
   "outputs": [
    {
     "data": {
      "image/png": "[encoded data removed]",
      "text/plain": [
       "<Figure size 1080x360 with 1 Axes>"
      ]
     },
     "execution_count": 15,
     "metadata": {},
     "output_type": "execute_result"
    }
   ],
   "source": [
    "fig"
   ]
  },
  {
   "cell_type": "code",
   "execution_count": 16,
   "id": "4a773697-bb9f-44e3-ba20-6738656d128b",
   "metadata": {
    "execution": {
     "iopub.execute_input": "2022-07-07T14:50:56.817454Z",
     "iopub.status.busy": "2022-07-07T14:50:56.817181Z",
     "iopub.status.idle": "2022-07-07T14:50:56.858626Z",
     "shell.execute_reply": "2022-07-07T14:50:56.857840Z",
     "shell.execute_reply.started": "2022-07-07T14:50:56.817422Z"
    },
    "tags": []
   },
   "outputs": [
    {
     "data": {
      "text/plain": [
       "<Figure size 432x288 with 0 Axes>"
      ]
     },
     "metadata": {},
     "output_type": "display_data"
    }
   ],
   "source": [
    "plt.savefig(img_output)"
   ]
  },
  {
   "cell_type": "markdown",
   "id": "a28950bb-1d7d-4835-a83a-faac837ebc7c",
   "metadata": {},
   "source": [
    "### Share your output with naas"
   ]
  },
  {
   "cell_type": "code",
   "execution_count": 17,
   "id": "db205965-a2dc-4541-ba8e-db3250d1cff0",
   "metadata": {
    "execution": {
     "iopub.execute_input": "2022-07-07T14:50:56.860029Z",
     "iopub.status.busy": "2022-07-07T14:50:56.859771Z",
     "iopub.status.idle": "2022-07-07T14:50:57.328382Z",
     "shell.execute_reply": "2022-07-07T14:50:57.327652Z",
     "shell.execute_reply.started": "2022-07-07T14:50:56.859995Z"
    }
   },
   "outputs": [
    {
     "name": "stdout",
     "output_type": "stream",
     "text": [
      "👌 Well done! Your Assets has been sent to production.\n",
      "\n"
     ]
    },
    {
     "data": {
      "application/javascript": [
       "\n",
       "    if (!window.copyToClipboard) {\n",
       "        window.copyToClipboard = (text) => {\n",
       "            const dummy = document.createElement(\"textarea\");\n",
       "            document.body.appendChild(dummy);\n",
       "            dummy.value = text;\n",
       "            dummy.select();\n",
       "            document.execCommand(\"copy\");\n",
       "            document.body.removeChild(dummy);\n",
       "        }\n",
       "    }\n",
       "    "
      ],
      "text/plain": [
       "<IPython.core.display.Javascript object>"
      ]
     },
     "metadata": {},
     "output_type": "display_data"
    },
    {
     "data": {
      "application/vnd.jupyter.widget-view+json": {
       "model_id": "326537b91569484788562086f34709c5",
       "version_major": 2,
       "version_minor": 0
      },
      "text/plain": [
       "Button(button_style='primary', description='Copy URL', style=ButtonStyle())"
      ]
     },
     "metadata": {},
     "output_type": "display_data"
    },
    {
     "data": {
      "application/vnd.jupyter.widget-view+json": {
       "model_id": "b8883e9d4bc94659a7b3d63c0c2d12b2",
       "version_major": 2,
       "version_minor": 0
      },
      "text/plain": [
       "Output()"
      ]
     },
     "metadata": {},
     "output_type": "display_data"
    },
    {
     "name": "stdout",
     "output_type": "stream",
     "text": [
      "PS: to remove the \"Assets\" feature, just replace .add by .delete\n"
     ]
    },
    {
     "data": {
      "text/plain": [
       "'https://public.naas.ai/MzM5OGFiaGluYXYtNDBnbWFpbC0yRWNvbQ==/asset/7d52e407af738e90ee56b7dde5e0be7e900c4201f8fcf0b543885f03af66'"
      ]
     },
     "execution_count": 17,
     "metadata": {},
     "output_type": "execute_result"
    }
   ],
   "source": [
    "naas.asset.add(csv_output)\n",
    "\n",
    "#-> Uncomment the line below to remove your asset\n",
    "# naas.asset.delete()"
   ]
  },
  {
   "cell_type": "code",
   "execution_count": null,
   "id": "43006fe4-35b4-4625-8f4e-13b2da04e7a8",
   "metadata": {},
   "outputs": [],
   "source": []
  }
 ],
 "metadata": {
  "kernelspec": {
   "display_name": "Python 3",
   "language": "python",
   "name": "python3"
  },
  "language_info": {
   "codemirror_mode": {
    "name": "ipython",
    "version": 3
   },
   "file_extension": ".py",
   "mimetype": "text/x-python",
   "name": "python",
   "nbconvert_exporter": "python",
   "pygments_lexer": "ipython3",
   "version": "3.9.6"
  },
  "papermill": {
   "default_parameters": {},
   "environment_variables": {},
   "parameters": {},
   "version": "2.3.3"
  },
  "widgets": {
   "application/vnd.jupyter.widget-state+json": {
    "state": {},
    "version_major": 2,
    "version_minor": 0
   }
  }
 },
 "nbformat": 4,
 "nbformat_minor": 5
}
