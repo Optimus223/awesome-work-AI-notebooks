{
 "cells": [
  {
   "cell_type": "markdown",
   "id": "latin-packing",
   "metadata": {
    "execution": {
     "iopub.execute_input": "2021-02-23T14:22:16.610471Z",
     "iopub.status.busy": "2021-02-23T14:22:16.610129Z",
     "iopub.status.idle": "2021-02-23T14:22:16.627784Z",
     "shell.execute_reply": "2021-02-23T14:22:16.626866Z",
     "shell.execute_reply.started": "2021-02-23T14:22:16.610384Z"
    },
    "papermill": {},
    "tags": []
   },
   "source": [
    "<img width=\"10%\" alt=\"Naas\" src=\"https://landen.imgix.net/jtci2pxwjczr/assets/5ice39g4.png?w=160\"/>"
   ]
  },
  {
   "cell_type": "markdown",
   "id": "compressed-wilson",
   "metadata": {
    "papermill": {},
    "tags": []
   },
   "source": [
    "# YahooFinance - Find the stock with closest performance using KNN\n",
    "<a href=\"https://app.naas.ai/user-redirect/naas/downloader?url=https://raw.githubusercontent.com/jupyter-naas/awesome-notebooks/master/template.ipynb\" target=\"_parent\">\n",
    "<img src=\"https://img.shields.io/badge/-Open%20in%20Naas-success?labelColor=000000&logo=data:image/svg+xml;base64,PD94bWwgdmVyc2lvbj0iMS4wIiBlbmNvZGluZz0iVVRGLTgiPz4KPHN2ZyB3aWR0aD0iMTAyNHB4IiBoZWlnaHQ9IjEwMjRweCIgdmlld0JveD0iMCAwIDEwMjQgMTAyNCIgeG1sbnM9Imh0dHA6Ly93d3cudzMub3JnLzIwMDAvc3ZnIiB4bWxuczp4bGluaz0iaHR0cDovL3d3dy53My5vcmcvMTk5OS94bGluayIgdmVyc2lvbj0iMS4xIj4KIDwhLS0gR2VuZXJhdGVkIGJ5IFBpeGVsbWF0b3IgUHJvIDIuMC41IC0tPgogPGRlZnM+CiAgPHRleHQgaWQ9InN0cmluZyIgdHJhbnNmb3JtPSJtYXRyaXgoMS4wIDAuMCAwLjAgMS4wIDIyOC4wIDU0LjUpIiBmb250LWZhbWlseT0iQ29tZm9ydGFhLVJlZ3VsYXIsIENvbWZvcnRhYSIgZm9udC1zaXplPSI4MDAiIHRleHQtZGVjb3JhdGlvbj0ibm9uZSIgZmlsbD0iI2ZmZmZmZiIgeD0iMS4xOTk5OTk5OTk5OTk5ODg2IiB5PSI3MDUuMCI+bjwvdGV4dD4KIDwvZGVmcz4KIDx1c2UgaWQ9Im4iIHhsaW5rOmhyZWY9IiNzdHJpbmciLz4KPC9zdmc+Cg==\"/>\n",
    "</a>"
   ]
  },
  {
   "cell_type": "markdown",
   "id": "religious-programmer",
   "metadata": {},
   "source": [
    "**Tags:** #tool #naas_drivers #naas #scheduler #asset #snippet #automation #ai #analytics #yahoo #clustering #stocks"
   ]
  },
  {
   "cell_type": "markdown",
   "id": "1fe9f56e-561c-4f52-aef8-b861c9462107",
   "metadata": {},
   "source": [
    "**Author:** [Abhinav Lakhani](https://www.linkedin.com/in/abhinav-lakhani/)"
   ]
  },
  {
   "cell_type": "markdown",
   "id": "31ea7cdb-e10d-43fc-b026-f69249a59736",
   "metadata": {},
   "source": [
    "Given a list of stocks data(tickers), find the stock(s) with the closest performance attribute, make a clustering Graph of clusters (with each cluster having a different color) and save the clustered stocks to a .csv as well as the cluster to an image.\n",
    "\n",
    "Resources / Inspiration:\n",
    "https://towardsdatascience.com/in-12-minutes-stocks-analysis-with-pandas-and-scikit-learn-a8d8a7b50ee7"
   ]
  },
  {
   "cell_type": "markdown",
   "id": "distinguished-truth",
   "metadata": {
    "papermill": {},
    "tags": []
   },
   "source": [
    "## Input"
   ]
  },
  {
   "cell_type": "markdown",
   "id": "numeric-mediterranean",
   "metadata": {},
   "source": [
    "### Import library"
   ]
  },
  {
   "cell_type": "code",
   "execution_count": 1,
   "id": "potential-surfing",
   "metadata": {
    "execution": {
     "iopub.execute_input": "2022-07-07T22:52:31.745123Z",
     "iopub.status.busy": "2022-07-07T22:52:31.744520Z",
     "iopub.status.idle": "2022-07-07T22:52:33.863046Z",
     "shell.execute_reply": "2022-07-07T22:52:33.862294Z",
     "shell.execute_reply.started": "2022-07-07T22:52:31.745024Z"
    },
    "tags": []
   },
   "outputs": [],
   "source": [
    "from naas_drivers import yahoofinance\n",
    "import naas"
   ]
  },
  {
   "cell_type": "code",
   "execution_count": 2,
   "id": "a7180aef-048e-48bb-99a4-f1a1449dc066",
   "metadata": {
    "execution": {
     "iopub.execute_input": "2022-07-07T22:52:33.865251Z",
     "iopub.status.busy": "2022-07-07T22:52:33.864658Z",
     "iopub.status.idle": "2022-07-07T22:52:34.583984Z",
     "shell.execute_reply": "2022-07-07T22:52:34.583381Z",
     "shell.execute_reply.started": "2022-07-07T22:52:33.865212Z"
    },
    "tags": []
   },
   "outputs": [],
   "source": [
    "from pylab import plot,show\n",
    "from numpy import vstack,array\n",
    "from numpy.random import rand\n",
    "import numpy as np\n",
    "from scipy.cluster.vq import kmeans,vq\n",
    "import pandas as pd\n",
    "from math import sqrt\n",
    "from sklearn.cluster import KMeans\n",
    "from matplotlib import pyplot as plt"
   ]
  },
  {
   "cell_type": "markdown",
   "id": "aggressive-trustee",
   "metadata": {},
   "source": [
    "### Variables"
   ]
  },
  {
   "cell_type": "code",
   "execution_count": 3,
   "id": "continuous-melbourne",
   "metadata": {
    "execution": {
     "iopub.execute_input": "2022-07-07T22:52:34.585596Z",
     "iopub.status.busy": "2022-07-07T22:52:34.585360Z",
     "iopub.status.idle": "2022-07-07T22:52:34.592728Z",
     "shell.execute_reply": "2022-07-07T22:52:34.591979Z",
     "shell.execute_reply.started": "2022-07-07T22:52:34.585564Z"
    },
    "tags": []
   },
   "outputs": [],
   "source": [
    "# Input\n",
    "sp500_url = 'https://en.wikipedia.org/wiki/List_of_S%26P_500_companies'\n",
    "date_from = -3600\n",
    "date_to = \"today\"\n",
    "moving_averages = [20,50]\n",
    "tickers = []\n",
    "feature = [\"Adj Close\"] # which performance attribute do we want to cluster on: Open\tHigh\tLow\tClose\tAdj Close\tVolume\n",
    "\n",
    "# Output\n",
    "csv_output = \"STOCK_CLUSTERS.csv\"\n",
    "img_output = \"STOCK_CLUSTERS.png\""
   ]
  },
  {
   "cell_type": "markdown",
   "id": "b15b304b-9f82-4349-bb83-3fc55e74b09a",
   "metadata": {},
   "source": [
    "### Schedule your notebook"
   ]
  },
  {
   "cell_type": "code",
   "execution_count": 4,
   "id": "1383d1a5-9741-4376-abe9-ae608709b7da",
   "metadata": {
    "execution": {
     "iopub.execute_input": "2022-07-07T22:52:34.594235Z",
     "iopub.status.busy": "2022-07-07T22:52:34.593988Z",
     "iopub.status.idle": "2022-07-07T22:52:34.705526Z",
     "shell.execute_reply": "2022-07-07T22:52:34.704926Z",
     "shell.execute_reply.started": "2022-07-07T22:52:34.594204Z"
    },
    "tags": []
   },
   "outputs": [],
   "source": [
    "# Schedule your notebook everyday at 9 AM\n",
    "# naas.scheduler.add(cron=\"0 9 * * *\")\n",
    "\n",
    "#-> Uncomment the line below to remove your scheduler\n",
    "# naas.scheduler.delete()"
   ]
  },
  {
   "cell_type": "markdown",
   "id": "a1d76c6f-d1ed-4843-8594-5221436149d8",
   "metadata": {},
   "source": [
    "## Modeling"
   ]
  },
  {
   "cell_type": "markdown",
   "id": "48622a1a-534b-4372-b40a-e5cd70840eab",
   "metadata": {},
   "source": [
    "### Get tickers from Wikipedia"
   ]
  },
  {
   "cell_type": "code",
   "execution_count": 5,
   "id": "172b6157-2692-47e4-bd89-8161bc860fc0",
   "metadata": {
    "execution": {
     "iopub.execute_input": "2022-07-07T22:52:34.712393Z",
     "iopub.status.busy": "2022-07-07T22:52:34.711599Z",
     "iopub.status.idle": "2022-07-07T22:52:35.562476Z",
     "shell.execute_reply": "2022-07-07T22:52:35.561839Z",
     "shell.execute_reply.started": "2022-07-07T22:52:34.712259Z"
    },
    "tags": []
   },
   "outputs": [],
   "source": [
    "# read in the url and scrape s&p500 tickers\n",
    "data_table = pd.read_html(sp500_url)\n",
    "tickers = data_table[0][\"Symbol\"].tolist()"
   ]
  },
  {
   "cell_type": "markdown",
   "id": "e9da93cb-3a04-4792-93fa-770647723e05",
   "metadata": {},
   "source": [
    "### Get data from yahoo finance"
   ]
  },
  {
   "cell_type": "code",
   "execution_count": 6,
   "id": "4cfd15c5-041a-476c-8a55-a13d7fbb9936",
   "metadata": {
    "execution": {
     "iopub.execute_input": "2022-07-07T22:52:35.563855Z",
     "iopub.status.busy": "2022-07-07T22:52:35.563601Z",
     "iopub.status.idle": "2022-07-07T22:54:05.202746Z",
     "shell.execute_reply": "2022-07-07T22:54:05.202103Z",
     "shell.execute_reply.started": "2022-07-07T22:52:35.563823Z"
    },
    "tags": []
   },
   "outputs": [
    {
     "data": {
      "text/html": [
       "<div>\n",
       "<style scoped>\n",
       "    .dataframe tbody tr th:only-of-type {\n",
       "        vertical-align: middle;\n",
       "    }\n",
       "\n",
       "    .dataframe tbody tr th {\n",
       "        vertical-align: top;\n",
       "    }\n",
       "\n",
       "    .dataframe thead th {\n",
       "        text-align: right;\n",
       "    }\n",
       "</style>\n",
       "<table border=\"1\" class=\"dataframe\">\n",
       "  <thead>\n",
       "    <tr style=\"text-align: right;\">\n",
       "      <th></th>\n",
       "      <th>MMM</th>\n",
       "      <th>AOS</th>\n",
       "      <th>ABT</th>\n",
       "      <th>ABBV</th>\n",
       "      <th>ABMD</th>\n",
       "      <th>ACN</th>\n",
       "      <th>ATVI</th>\n",
       "      <th>ADM</th>\n",
       "      <th>ADBE</th>\n",
       "      <th>ADP</th>\n",
       "      <th>...</th>\n",
       "      <th>WTW</th>\n",
       "      <th>GWW</th>\n",
       "      <th>WYNN</th>\n",
       "      <th>XEL</th>\n",
       "      <th>XYL</th>\n",
       "      <th>YUM</th>\n",
       "      <th>ZBRA</th>\n",
       "      <th>ZBH</th>\n",
       "      <th>ZION</th>\n",
       "      <th>ZTS</th>\n",
       "    </tr>\n",
       "  </thead>\n",
       "  <tbody>\n",
       "    <tr>\n",
       "      <th>0</th>\n",
       "      <td>70.089737</td>\n",
       "      <td>11.781172</td>\n",
       "      <td>26.145632</td>\n",
       "      <td>23.783300</td>\n",
       "      <td>22.510000</td>\n",
       "      <td>50.504620</td>\n",
       "      <td>10.874083</td>\n",
       "      <td>20.198212</td>\n",
       "      <td>32.060001</td>\n",
       "      <td>40.832596</td>\n",
       "      <td>...</td>\n",
       "      <td>80.040688</td>\n",
       "      <td>171.845688</td>\n",
       "      <td>80.126778</td>\n",
       "      <td>20.166990</td>\n",
       "      <td>21.080410</td>\n",
       "      <td>38.023918</td>\n",
       "      <td>37.160000</td>\n",
       "      <td>54.745895</td>\n",
       "      <td>16.369999</td>\n",
       "      <td>29.067741</td>\n",
       "    </tr>\n",
       "    <tr>\n",
       "      <th>1</th>\n",
       "      <td>70.188477</td>\n",
       "      <td>11.820348</td>\n",
       "      <td>26.097904</td>\n",
       "      <td>23.586912</td>\n",
       "      <td>22.530001</td>\n",
       "      <td>50.645714</td>\n",
       "      <td>10.911099</td>\n",
       "      <td>20.359055</td>\n",
       "      <td>31.959999</td>\n",
       "      <td>40.825619</td>\n",
       "      <td>...</td>\n",
       "      <td>79.996979</td>\n",
       "      <td>170.535843</td>\n",
       "      <td>79.890755</td>\n",
       "      <td>20.166990</td>\n",
       "      <td>21.045347</td>\n",
       "      <td>38.095459</td>\n",
       "      <td>37.340000</td>\n",
       "      <td>55.406998</td>\n",
       "      <td>16.446690</td>\n",
       "      <td>29.077120</td>\n",
       "    </tr>\n",
       "    <tr>\n",
       "      <th>2</th>\n",
       "      <td>69.679688</td>\n",
       "      <td>11.641879</td>\n",
       "      <td>26.014370</td>\n",
       "      <td>23.288939</td>\n",
       "      <td>22.139999</td>\n",
       "      <td>50.753613</td>\n",
       "      <td>10.800047</td>\n",
       "      <td>20.320757</td>\n",
       "      <td>31.459999</td>\n",
       "      <td>40.510929</td>\n",
       "      <td>...</td>\n",
       "      <td>79.669304</td>\n",
       "      <td>170.419067</td>\n",
       "      <td>78.314560</td>\n",
       "      <td>20.087633</td>\n",
       "      <td>21.115469</td>\n",
       "      <td>37.773521</td>\n",
       "      <td>37.139999</td>\n",
       "      <td>55.308716</td>\n",
       "      <td>16.369999</td>\n",
       "      <td>29.095863</td>\n",
       "    </tr>\n",
       "    <tr>\n",
       "      <th>3</th>\n",
       "      <td>70.317581</td>\n",
       "      <td>11.907406</td>\n",
       "      <td>26.070059</td>\n",
       "      <td>23.336346</td>\n",
       "      <td>22.330000</td>\n",
       "      <td>51.127094</td>\n",
       "      <td>10.883338</td>\n",
       "      <td>20.489269</td>\n",
       "      <td>31.270000</td>\n",
       "      <td>40.615826</td>\n",
       "      <td>...</td>\n",
       "      <td>81.526161</td>\n",
       "      <td>171.829010</td>\n",
       "      <td>78.558212</td>\n",
       "      <td>20.123711</td>\n",
       "      <td>21.290773</td>\n",
       "      <td>37.988148</td>\n",
       "      <td>37.290001</td>\n",
       "      <td>55.192577</td>\n",
       "      <td>16.404081</td>\n",
       "      <td>29.086487</td>\n",
       "    </tr>\n",
       "    <tr>\n",
       "      <th>4</th>\n",
       "      <td>69.618942</td>\n",
       "      <td>11.983583</td>\n",
       "      <td>26.038239</td>\n",
       "      <td>22.828449</td>\n",
       "      <td>22.940001</td>\n",
       "      <td>50.678917</td>\n",
       "      <td>10.809300</td>\n",
       "      <td>20.588842</td>\n",
       "      <td>31.440001</td>\n",
       "      <td>40.629818</td>\n",
       "      <td>...</td>\n",
       "      <td>80.586807</td>\n",
       "      <td>174.573807</td>\n",
       "      <td>76.692688</td>\n",
       "      <td>20.260794</td>\n",
       "      <td>21.036577</td>\n",
       "      <td>37.546993</td>\n",
       "      <td>37.270000</td>\n",
       "      <td>56.282497</td>\n",
       "      <td>16.472260</td>\n",
       "      <td>29.995737</td>\n",
       "    </tr>\n",
       "  </tbody>\n",
       "</table>\n",
       "<p>5 rows × 501 columns</p>\n",
       "</div>"
      ],
      "text/plain": [
       "         MMM        AOS        ABT       ABBV       ABMD        ACN  \\\n",
       "0  70.089737  11.781172  26.145632  23.783300  22.510000  50.504620   \n",
       "1  70.188477  11.820348  26.097904  23.586912  22.530001  50.645714   \n",
       "2  69.679688  11.641879  26.014370  23.288939  22.139999  50.753613   \n",
       "3  70.317581  11.907406  26.070059  23.336346  22.330000  51.127094   \n",
       "4  69.618942  11.983583  26.038239  22.828449  22.940001  50.678917   \n",
       "\n",
       "        ATVI        ADM       ADBE        ADP  ...        WTW         GWW  \\\n",
       "0  10.874083  20.198212  32.060001  40.832596  ...  80.040688  171.845688   \n",
       "1  10.911099  20.359055  31.959999  40.825619  ...  79.996979  170.535843   \n",
       "2  10.800047  20.320757  31.459999  40.510929  ...  79.669304  170.419067   \n",
       "3  10.883338  20.489269  31.270000  40.615826  ...  81.526161  171.829010   \n",
       "4  10.809300  20.588842  31.440001  40.629818  ...  80.586807  174.573807   \n",
       "\n",
       "        WYNN        XEL        XYL        YUM       ZBRA        ZBH  \\\n",
       "0  80.126778  20.166990  21.080410  38.023918  37.160000  54.745895   \n",
       "1  79.890755  20.166990  21.045347  38.095459  37.340000  55.406998   \n",
       "2  78.314560  20.087633  21.115469  37.773521  37.139999  55.308716   \n",
       "3  78.558212  20.123711  21.290773  37.988148  37.290001  55.192577   \n",
       "4  76.692688  20.260794  21.036577  37.546993  37.270000  56.282497   \n",
       "\n",
       "        ZION        ZTS  \n",
       "0  16.369999  29.067741  \n",
       "1  16.446690  29.077120  \n",
       "2  16.369999  29.095863  \n",
       "3  16.404081  29.086487  \n",
       "4  16.472260  29.995737  \n",
       "\n",
       "[5 rows x 501 columns]"
      ]
     },
     "execution_count": 6,
     "metadata": {},
     "output_type": "execute_result"
    }
   ],
   "source": [
    "# get stocks info\n",
    "prices_list = []\n",
    "for ticker in tickers:\n",
    "    try:\n",
    "        prices = yahoofinance.get(ticker,\n",
    "                      date_from=date_from,\n",
    "                      date_to=date_to,\n",
    "                      moving_averages=moving_averages)[feature]\n",
    "        prices = pd.DataFrame(prices)\n",
    "        prices.columns = [ticker]\n",
    "        prices_list.append(prices)\n",
    "    except:\n",
    "        pass\n",
    "    prices_df = pd.concat(prices_list,axis=1)\n",
    "prices_df.sort_index(inplace=True)\n",
    "prices_df.head()"
   ]
  },
  {
   "cell_type": "markdown",
   "id": "298a5781-9dff-4283-9352-56fb24fa510a",
   "metadata": {},
   "source": [
    "We can now start to analyse the data and begin our K-Means investigation…\n",
    "\n",
    "Our first decision is to choose how many clusters do we actually want to separate our stocks into. Rather than make some arbitrary decision, we can use the “Elbow Method” to highlight the relationship between how many clusters we choose, and the Sum of Squared Errors (SSE) resulting from using that number of clusters.\n",
    "\n",
    "We then plot this relationship to help us identify the optimal number of clusters to use – we would prefer a lower number of clusters, but also would prefer the SSE to be lower – so this trade off needs to be taken into account.\n",
    "\n",
    "Lets run the code for our Elbow Curve plot."
   ]
  },
  {
   "cell_type": "code",
   "execution_count": 7,
   "id": "1cea5a15-2f71-4071-8c76-55bae45f77f2",
   "metadata": {
    "execution": {
     "iopub.execute_input": "2022-07-07T22:54:05.204180Z",
     "iopub.status.busy": "2022-07-07T22:54:05.203905Z",
     "iopub.status.idle": "2022-07-07T22:54:05.545557Z",
     "shell.execute_reply": "2022-07-07T22:54:05.544903Z",
     "shell.execute_reply.started": "2022-07-07T22:54:05.204147Z"
    },
    "tags": []
   },
   "outputs": [],
   "source": [
    "#Calculate average annual percentage return and volatilities over a theoretical one year period\n",
    "returns = prices_df.pct_change().mean() * 252\n",
    "returns = pd.DataFrame(returns)\n",
    "returns.columns = ['Returns']\n",
    "returns['Volatility'] = prices_df.pct_change().std() * sqrt(252)\n",
    "#format the data as a numpy array to feed into the K-Means algorithm\n",
    "data = np.asarray([np.asarray(returns['Returns']),np.asarray(returns['Volatility'])]).T"
   ]
  },
  {
   "cell_type": "code",
   "execution_count": 8,
   "id": "e4b87b4d-5b12-4867-a23a-de838253621f",
   "metadata": {
    "execution": {
     "iopub.execute_input": "2022-07-07T22:54:05.548016Z",
     "iopub.status.busy": "2022-07-07T22:54:05.547753Z",
     "iopub.status.idle": "2022-07-07T22:54:07.313983Z",
     "shell.execute_reply": "2022-07-07T22:54:07.313183Z",
     "shell.execute_reply.started": "2022-07-07T22:54:05.547983Z"
    },
    "tags": []
   },
   "outputs": [
    {
     "data": {
      "text/plain": [
       "Text(0.5, 1.0, 'Elbow curve')"
      ]
     },
     "execution_count": 8,
     "metadata": {},
     "output_type": "execute_result"
    },
    {
     "data": {
      "image/png": "[encoded data removed]",
      "text/plain": [
       "<Figure size 1080x360 with 1 Axes>"
      ]
     },
     "metadata": {
      "needs_background": "light"
     },
     "output_type": "display_data"
    }
   ],
   "source": [
    "# KMeans\n",
    "X = data\n",
    "distorsions = []\n",
    "for k in range(2, 20):\n",
    "    k_means = KMeans(n_clusters=k)\n",
    "    k_means.fit(X)\n",
    "    distorsions.append(k_means.inertia_)\n",
    "fig = plt.figure(figsize=(15, 5))\n",
    "plt.plot(range(2, 20), distorsions)\n",
    "plt.grid(True)\n",
    "plt.title('Elbow curve')"
   ]
  },
  {
   "cell_type": "markdown",
   "id": "0f968a85-8112-4671-a1b8-d156f7cb388e",
   "metadata": {},
   "source": [
    "So we can sort of see that once the number of clusters reaches 5 (on the bottom axis), the reduction in the SSE begins to slow down for each increase in cluster number. This would lead me to believe that the optimal number of clusters for this exercise lies around the 5 mark – so let’s use 5."
   ]
  },
  {
   "cell_type": "code",
   "execution_count": 9,
   "id": "f893a341-d2fd-4047-9068-b761e8231866",
   "metadata": {
    "execution": {
     "iopub.execute_input": "2022-07-07T22:54:07.315782Z",
     "iopub.status.busy": "2022-07-07T22:54:07.315534Z",
     "iopub.status.idle": "2022-07-07T22:54:07.323440Z",
     "shell.execute_reply": "2022-07-07T22:54:07.322731Z",
     "shell.execute_reply.started": "2022-07-07T22:54:07.315752Z"
    },
    "tags": []
   },
   "outputs": [],
   "source": [
    "def get_centroid_labels(centroids):\n",
    "    m, n = centroids.shape\n",
    "    labels = [\"\" for _ in range(m)]\n",
    "    rank_mode = m // 2\n",
    "    has_even_n_O_centroids = m % 2 == 0\n",
    "    \n",
    "    for i, (returns_rank, volatility_rank) in enumerate(zip(np.argsort(np.argsort(centroids[:, 0])), np.argsort(np.argsort(centroids[:, 1])))):\n",
    "        # assign return labels\n",
    "        if returns_rank == 0:\n",
    "            labels[i] += \"lowest returns, \"\n",
    "        elif returns_rank == (m-1):\n",
    "            labels[i] += \"highest returns, \"\n",
    "        else:\n",
    "            if has_even_n_O_centroids:\n",
    "                labels[i] += (f\"low returns({returns_rank}), \" if returns_rank <= rank_mode else f\"high returns({m-returns_rank-1}), \")\n",
    "            else:\n",
    "                labels[i] += (f\"low returns({returns_rank}), \" if returns_rank < rank_mode else f\"high returns({m-returns_rank-1}), \" if returns_rank > rank_mode else \"average returns, \")\n",
    "        # assign volatility labels\n",
    "        if volatility_rank == 0:\n",
    "            labels[i] += \"stable\"\n",
    "        elif volatility_rank == (m-1):\n",
    "            labels[i] += \"extremly volatile\"\n",
    "        else:\n",
    "            if has_even_n_O_centroids:\n",
    "                labels[i] += (f\"low volatility({volatility_rank})\" if volatility_rank <= rank_mode else f\"high volatility({m-volatility_rank-1})\")\n",
    "            else:\n",
    "                labels[i] += (f\"low volatility({volatility_rank})\" if volatility_rank < rank_mode else f\"high volatility({m-volatility_rank-1})\" if volatility_rank > rank_mode else \"average volatility\")\n",
    "    return labels"
   ]
  },
  {
   "cell_type": "code",
   "execution_count": 10,
   "id": "ca746d52-f4f8-4892-9d6e-caf915b7ce26",
   "metadata": {
    "execution": {
     "iopub.execute_input": "2022-07-07T22:54:07.324852Z",
     "iopub.status.busy": "2022-07-07T22:54:07.324617Z",
     "iopub.status.idle": "2022-07-07T22:54:07.808886Z",
     "shell.execute_reply": "2022-07-07T22:54:07.808167Z",
     "shell.execute_reply.started": "2022-07-07T22:54:07.324821Z"
    },
    "tags": []
   },
   "outputs": [
    {
     "data": {
      "image/png": "[encoded data removed]",
      "text/plain": [
       "<Figure size 720x576 with 1 Axes>"
      ]
     },
     "metadata": {
      "needs_background": "light"
     },
     "output_type": "display_data"
    }
   ],
   "source": [
    "# computing K-Means with K = 5 (5 clusters)\n",
    "n_clusters = 5\n",
    "centroids,_ = kmeans(data,n_clusters)\n",
    "cluster_names = get_centroid_labels(centroids)\n",
    "# assign each sample to a cluster\n",
    "idx,_ = vq(data,centroids)\n",
    "returns[\"cluster_id\"] = idx\n",
    "returns[\"cluster\"] = [cluster_names[i] for i in idx]\n",
    "# plot the clusters\n",
    "plt.figure(figsize=(10, 8))\n",
    "for i, cluster in enumerate(cluster_names):\n",
    "    cluster_i = returns[returns.cluster_id==i]\n",
    "    plt.scatter(cluster_i.Returns, cluster_i.Volatility, alpha = 0.6, s=5)\n",
    "    plt.scatter(centroids[i, 0], centroids[i, 1], label=cluster)\n",
    "plt.xlabel(\"returns\");plt.ylabel(\"volatility\")\n",
    "plt.legend()\n",
    "plt.show()"
   ]
  },
  {
   "cell_type": "markdown",
   "id": "37ba1927-cd59-4e5a-9d39-b4e411bbb835",
   "metadata": {},
   "source": [
    "it looks like we have an outlier in the data which is skewing the results and making it difficult to actually see what is going on for all the other stocks. Let’s take the easy route and just drop the outlier from our data set and run this again."
   ]
  },
  {
   "cell_type": "code",
   "execution_count": 11,
   "id": "24c9d4fc-23b6-48b7-bbb2-2c022d91bf9a",
   "metadata": {
    "execution": {
     "iopub.execute_input": "2022-07-07T22:54:07.809993Z",
     "iopub.status.busy": "2022-07-07T22:54:07.809813Z",
     "iopub.status.idle": "2022-07-07T22:54:07.822922Z",
     "shell.execute_reply": "2022-07-07T22:54:07.822189Z",
     "shell.execute_reply.started": "2022-07-07T22:54:07.809973Z"
    },
    "tags": []
   },
   "outputs": [
    {
     "data": {
      "text/html": [
       "<div>\n",
       "<style scoped>\n",
       "    .dataframe tbody tr th:only-of-type {\n",
       "        vertical-align: middle;\n",
       "    }\n",
       "\n",
       "    .dataframe tbody tr th {\n",
       "        vertical-align: top;\n",
       "    }\n",
       "\n",
       "    .dataframe thead th {\n",
       "        text-align: right;\n",
       "    }\n",
       "</style>\n",
       "<table border=\"1\" class=\"dataframe\">\n",
       "  <thead>\n",
       "    <tr style=\"text-align: right;\">\n",
       "      <th></th>\n",
       "      <th>Returns</th>\n",
       "      <th>Volatility</th>\n",
       "      <th>cluster_id</th>\n",
       "      <th>cluster</th>\n",
       "    </tr>\n",
       "  </thead>\n",
       "  <tbody>\n",
       "    <tr>\n",
       "      <th>TSLA</th>\n",
       "      <td>0.652017</td>\n",
       "      <td>0.565062</td>\n",
       "      <td>0</td>\n",
       "      <td>highest returns, extremly volatile</td>\n",
       "    </tr>\n",
       "    <tr>\n",
       "      <th>ENPH</th>\n",
       "      <td>0.725222</td>\n",
       "      <td>0.837540</td>\n",
       "      <td>0</td>\n",
       "      <td>highest returns, extremly volatile</td>\n",
       "    </tr>\n",
       "  </tbody>\n",
       "</table>\n",
       "</div>"
      ],
      "text/plain": [
       "       Returns  Volatility  cluster_id                             cluster\n",
       "TSLA  0.652017    0.565062           0  highest returns, extremly volatile\n",
       "ENPH  0.725222    0.837540           0  highest returns, extremly volatile"
      ]
     },
     "execution_count": 11,
     "metadata": {},
     "output_type": "execute_result"
    }
   ],
   "source": [
    "outliers = np.sqrt(returns.Returns**2 + returns.Volatility**2).argsort()[-2:]\n",
    "outliers = returns.iloc[outliers, :]\n",
    "outliers"
   ]
  },
  {
   "cell_type": "code",
   "execution_count": 12,
   "id": "acd7d3b6-152d-4d0a-b40b-a4e9420fcd86",
   "metadata": {
    "execution": {
     "iopub.execute_input": "2022-07-07T22:54:07.824342Z",
     "iopub.status.busy": "2022-07-07T22:54:07.824091Z",
     "iopub.status.idle": "2022-07-07T22:54:07.925907Z",
     "shell.execute_reply": "2022-07-07T22:54:07.925274Z",
     "shell.execute_reply.started": "2022-07-07T22:54:07.824312Z"
    },
    "tags": []
   },
   "outputs": [],
   "source": [
    "#drop the relevant stock from our data\n",
    "returns.drop(outliers.index,inplace=True)\n",
    "#recreate data to feed into the algorithm\n",
    "data = np.asarray([np.asarray(returns['Returns']),np.asarray(returns['Volatility'])]).T"
   ]
  },
  {
   "cell_type": "code",
   "execution_count": 13,
   "id": "1a5e13d8-a2d2-4b0d-b02d-1a0e493ed6ee",
   "metadata": {
    "execution": {
     "iopub.execute_input": "2022-07-07T22:54:07.929090Z",
     "iopub.status.busy": "2022-07-07T22:54:07.928902Z",
     "iopub.status.idle": "2022-07-07T22:54:08.512694Z",
     "shell.execute_reply": "2022-07-07T22:54:08.512029Z",
     "shell.execute_reply.started": "2022-07-07T22:54:07.929070Z"
    },
    "tags": []
   },
   "outputs": [
    {
     "data": {
      "image/png": "[encoded data removed]",
      "text/plain": [
       "<Figure size 720x576 with 1 Axes>"
      ]
     },
     "metadata": {
      "needs_background": "light"
     },
     "output_type": "display_data"
    }
   ],
   "source": [
    "# computing K-Means with K = 5 (5 clusters)\n",
    "n_clusters = 5\n",
    "centroids,_ = kmeans(data,n_clusters)\n",
    "cluster_names = get_centroid_labels(centroids)\n",
    "# assign each sample to a cluster\n",
    "idx,_ = vq(data,centroids)\n",
    "returns[\"cluster_id\"] = idx\n",
    "returns[\"cluster\"] = [cluster_names[i] for i in idx]\n",
    "# plot the clusters\n",
    "plt.figure(figsize=(10, 8))\n",
    "for i, cluster in enumerate(cluster_names):\n",
    "    cluster_i = returns[returns.cluster_id==i]\n",
    "    plt.scatter(cluster_i.Returns, cluster_i.Volatility, alpha = 0.6, s=5)\n",
    "    plt.scatter(centroids[i, 0], centroids[i, 1], label=cluster)\n",
    "plt.xlabel(\"returns\");plt.ylabel(\"volatility\")\n",
    "plt.legend()\n",
    "plt.show()"
   ]
  },
  {
   "cell_type": "markdown",
   "id": "9bc62ec2-d094-4cbb-8097-b61ceb905910",
   "metadata": {},
   "source": [
    "SO there we go, we now have a list of each of the stocks which are close together/similar, along with which one of 5 clusters they belong to with the clusters being defined by their return and volatility characteristics. We also have a visual representation of the clusters in chart format."
   ]
  },
  {
   "cell_type": "markdown",
   "id": "7b1d190a-0361-4afb-998f-2ecb94c13964",
   "metadata": {
    "execution": {
     "iopub.execute_input": "2021-07-02T23:32:10.789097Z",
     "iopub.status.busy": "2021-07-02T23:32:10.788829Z",
     "iopub.status.idle": "2021-07-02T23:32:10.796900Z",
     "shell.execute_reply": "2021-07-02T23:32:10.796358Z",
     "shell.execute_reply.started": "2021-07-02T23:32:10.789033Z"
    }
   },
   "source": [
    "## Output"
   ]
  },
  {
   "cell_type": "code",
   "execution_count": 17,
   "id": "f43536d1-8064-4660-8854-e2de2f612a5b",
   "metadata": {
    "execution": {
     "iopub.execute_input": "2022-07-07T22:54:09.004848Z",
     "iopub.status.busy": "2022-07-07T22:54:09.004597Z",
     "iopub.status.idle": "2022-07-07T22:54:09.125092Z",
     "shell.execute_reply": "2022-07-07T22:54:09.124314Z",
     "shell.execute_reply.started": "2022-07-07T22:54:09.004819Z"
    },
    "tags": []
   },
   "outputs": [
    {
     "data": {
      "text/html": [
       "<div>\n",
       "<style scoped>\n",
       "    .dataframe tbody tr th:only-of-type {\n",
       "        vertical-align: middle;\n",
       "    }\n",
       "\n",
       "    .dataframe tbody tr th {\n",
       "        vertical-align: top;\n",
       "    }\n",
       "\n",
       "    .dataframe thead th {\n",
       "        text-align: right;\n",
       "    }\n",
       "</style>\n",
       "<table border=\"1\" class=\"dataframe\">\n",
       "  <thead>\n",
       "    <tr style=\"text-align: right;\">\n",
       "      <th></th>\n",
       "      <th>Ticker</th>\n",
       "      <th>Group ID</th>\n",
       "    </tr>\n",
       "  </thead>\n",
       "  <tbody>\n",
       "    <tr>\n",
       "      <th>0</th>\n",
       "      <td>MMM</td>\n",
       "      <td>1</td>\n",
       "    </tr>\n",
       "    <tr>\n",
       "      <th>1</th>\n",
       "      <td>AOS</td>\n",
       "      <td>2</td>\n",
       "    </tr>\n",
       "    <tr>\n",
       "      <th>2</th>\n",
       "      <td>ABT</td>\n",
       "      <td>1</td>\n",
       "    </tr>\n",
       "    <tr>\n",
       "      <th>3</th>\n",
       "      <td>ABBV</td>\n",
       "      <td>2</td>\n",
       "    </tr>\n",
       "    <tr>\n",
       "      <th>4</th>\n",
       "      <td>ABMD</td>\n",
       "      <td>0</td>\n",
       "    </tr>\n",
       "    <tr>\n",
       "      <th>...</th>\n",
       "      <td>...</td>\n",
       "      <td>...</td>\n",
       "    </tr>\n",
       "    <tr>\n",
       "      <th>494</th>\n",
       "      <td>YUM</td>\n",
       "      <td>1</td>\n",
       "    </tr>\n",
       "    <tr>\n",
       "      <th>495</th>\n",
       "      <td>ZBRA</td>\n",
       "      <td>0</td>\n",
       "    </tr>\n",
       "    <tr>\n",
       "      <th>496</th>\n",
       "      <td>ZBH</td>\n",
       "      <td>1</td>\n",
       "    </tr>\n",
       "    <tr>\n",
       "      <th>497</th>\n",
       "      <td>ZION</td>\n",
       "      <td>3</td>\n",
       "    </tr>\n",
       "    <tr>\n",
       "      <th>498</th>\n",
       "      <td>ZTS</td>\n",
       "      <td>2</td>\n",
       "    </tr>\n",
       "  </tbody>\n",
       "</table>\n",
       "<p>499 rows × 2 columns</p>\n",
       "</div>"
      ],
      "text/plain": [
       "    Ticker  Group ID\n",
       "0      MMM         1\n",
       "1      AOS         2\n",
       "2      ABT         1\n",
       "3     ABBV         2\n",
       "4     ABMD         0\n",
       "..     ...       ...\n",
       "494    YUM         1\n",
       "495   ZBRA         0\n",
       "496    ZBH         1\n",
       "497   ZION         3\n",
       "498    ZTS         2\n",
       "\n",
       "[499 rows x 2 columns]"
      ]
     },
     "execution_count": 17,
     "metadata": {},
     "output_type": "execute_result"
    }
   ],
   "source": [
    "stock_clusters = pd.DataFrame(zip(returns.index,idx), columns=[\"Ticker\", \"Group ID\"])\n",
    "stock_clusters"
   ]
  },
  {
   "cell_type": "markdown",
   "id": "c1643de6-c674-4715-a4dd-e1c3b973e05d",
   "metadata": {},
   "source": [
    "### Save result in csv"
   ]
  },
  {
   "cell_type": "code",
   "execution_count": 18,
   "id": "4f5a0929-a534-43db-8e05-576ab94374f4",
   "metadata": {
    "execution": {
     "iopub.execute_input": "2022-07-07T22:54:09.129606Z",
     "iopub.status.busy": "2022-07-07T22:54:09.129340Z",
     "iopub.status.idle": "2022-07-07T22:54:09.255746Z",
     "shell.execute_reply": "2022-07-07T22:54:09.254831Z",
     "shell.execute_reply.started": "2022-07-07T22:54:09.129575Z"
    },
    "tags": []
   },
   "outputs": [],
   "source": [
    "stock_clusters.to_csv(csv_output, index=False)"
   ]
  },
  {
   "cell_type": "markdown",
   "id": "f7b1638e-2e56-49cf-9e30-e3a0e74656ff",
   "metadata": {},
   "source": [
    "### Save the cluster plot"
   ]
  },
  {
   "cell_type": "code",
   "execution_count": 19,
   "id": "d1b11772-c277-4fe1-9d97-0054f754bebc",
   "metadata": {
    "execution": {
     "iopub.execute_input": "2022-07-07T22:54:09.262336Z",
     "iopub.status.busy": "2022-07-07T22:54:09.261784Z",
     "iopub.status.idle": "2022-07-07T22:54:09.456744Z",
     "shell.execute_reply": "2022-07-07T22:54:09.456088Z",
     "shell.execute_reply.started": "2022-07-07T22:54:09.262296Z"
    },
    "tags": []
   },
   "outputs": [
    {
     "data": {
      "image/png": "[encoded data removed]",
      "text/plain": [
       "<Figure size 1080x360 with 1 Axes>"
      ]
     },
     "execution_count": 19,
     "metadata": {},
     "output_type": "execute_result"
    }
   ],
   "source": [
    "fig"
   ]
  },
  {
   "cell_type": "code",
   "execution_count": 20,
   "id": "4a773697-bb9f-44e3-ba20-6738656d128b",
   "metadata": {
    "execution": {
     "iopub.execute_input": "2022-07-07T22:54:09.458172Z",
     "iopub.status.busy": "2022-07-07T22:54:09.457911Z",
     "iopub.status.idle": "2022-07-07T22:54:09.515299Z",
     "shell.execute_reply": "2022-07-07T22:54:09.514676Z",
     "shell.execute_reply.started": "2022-07-07T22:54:09.458140Z"
    },
    "tags": []
   },
   "outputs": [
    {
     "data": {
      "text/plain": [
       "<Figure size 432x288 with 0 Axes>"
      ]
     },
     "metadata": {},
     "output_type": "display_data"
    }
   ],
   "source": [
    "plt.savefig(img_output)"
   ]
  },
  {
   "cell_type": "markdown",
   "id": "a28950bb-1d7d-4835-a83a-faac837ebc7c",
   "metadata": {},
   "source": [
    "### Share your output with naas"
   ]
  },
  {
   "cell_type": "code",
   "execution_count": 21,
   "id": "db205965-a2dc-4541-ba8e-db3250d1cff0",
   "metadata": {
    "execution": {
     "iopub.execute_input": "2022-07-07T22:54:09.516617Z",
     "iopub.status.busy": "2022-07-07T22:54:09.516352Z",
     "iopub.status.idle": "2022-07-07T22:54:10.032234Z",
     "shell.execute_reply": "2022-07-07T22:54:10.031580Z",
     "shell.execute_reply.started": "2022-07-07T22:54:09.516585Z"
    }
   },
   "outputs": [
    {
     "name": "stdout",
     "output_type": "stream",
     "text": [
      "👌 Well done! Your Assets has been sent to production.\n",
      "\n"
     ]
    },
    {
     "data": {
      "application/javascript": [
       "\n",
       "    if (!window.copyToClipboard) {\n",
       "        window.copyToClipboard = (text) => {\n",
       "            const dummy = document.createElement(\"textarea\");\n",
       "            document.body.appendChild(dummy);\n",
       "            dummy.value = text;\n",
       "            dummy.select();\n",
       "            document.execCommand(\"copy\");\n",
       "            document.body.removeChild(dummy);\n",
       "        }\n",
       "    }\n",
       "    "
      ],
      "text/plain": [
       "<IPython.core.display.Javascript object>"
      ]
     },
     "metadata": {},
     "output_type": "display_data"
    },
    {
     "data": {
      "application/vnd.jupyter.widget-view+json": {
       "model_id": "854d4249b8244f6bb5992b83fa80a61f",
       "version_major": 2,
       "version_minor": 0
      },
      "text/plain": [
       "Button(button_style='primary', description='Copy URL', style=ButtonStyle())"
      ]
     },
     "metadata": {},
     "output_type": "display_data"
    },
    {
     "data": {
      "application/vnd.jupyter.widget-view+json": {
       "model_id": "6b6397d192d84369aaa2840f59f798ca",
       "version_major": 2,
       "version_minor": 0
      },
      "text/plain": [
       "Output()"
      ]
     },
     "metadata": {},
     "output_type": "display_data"
    },
    {
     "name": "stdout",
     "output_type": "stream",
     "text": [
      "PS: to remove the \"Assets\" feature, just replace .add by .delete\n"
     ]
    },
    {
     "data": {
      "text/plain": [
       "'https://public.naas.ai/MzM5OGFiaGluYXYtNDBnbWFpbC0yRWNvbQ==/asset/7d52e407af738e90ee56b7dde5e0be7e900c4201f8fcf0b543885f03af66'"
      ]
     },
     "execution_count": 21,
     "metadata": {},
     "output_type": "execute_result"
    }
   ],
   "source": [
    "naas.asset.add(csv_output)\n",
    "\n",
    "#-> Uncomment the line below to remove your asset\n",
    "# naas.asset.delete()"
   ]
  },
  {
   "cell_type": "code",
   "execution_count": null,
   "id": "43006fe4-35b4-4625-8f4e-13b2da04e7a8",
   "metadata": {},
   "outputs": [],
   "source": []
  }
 ],
 "metadata": {
  "kernelspec": {
   "display_name": "Python 3",
   "language": "python",
   "name": "python3"
  },
  "language_info": {
   "codemirror_mode": {
    "name": "ipython",
    "version": 3
   },
   "file_extension": ".py",
   "mimetype": "text/x-python",
   "name": "python",
   "nbconvert_exporter": "python",
   "pygments_lexer": "ipython3",
   "version": "3.9.6"
  },
  "papermill": {
   "default_parameters": {},
   "environment_variables": {},
   "parameters": {},
   "version": "2.3.3"
  },
  "widgets": {
   "application/vnd.jupyter.widget-state+json": {
    "state": {},
    "version_major": 2,
    "version_minor": 0
   }
  }
 },
 "nbformat": 4,
 "nbformat_minor": 5
}
