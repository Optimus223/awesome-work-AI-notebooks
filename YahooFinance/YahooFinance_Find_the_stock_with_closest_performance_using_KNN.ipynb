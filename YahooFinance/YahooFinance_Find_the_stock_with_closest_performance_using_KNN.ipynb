{
 "cells": [
  {
   "cell_type": "markdown",
   "id": "latin-packing",
   "metadata": {
    "execution": {
     "iopub.execute_input": "2021-02-23T14:22:16.610471Z",
     "iopub.status.busy": "2021-02-23T14:22:16.610129Z",
     "iopub.status.idle": "2021-02-23T14:22:16.627784Z",
     "shell.execute_reply": "2021-02-23T14:22:16.626866Z",
     "shell.execute_reply.started": "2021-02-23T14:22:16.610384Z"
    },
    "papermill": {},
    "tags": []
   },
   "source": [
    "<img width=\"10%\" alt=\"Naas\" src=\"https://landen.imgix.net/jtci2pxwjczr/assets/5ice39g4.png?w=160\"/>"
   ]
  },
  {
   "cell_type": "markdown",
   "id": "compressed-wilson",
   "metadata": {
    "papermill": {},
    "tags": []
   },
   "source": [
    "# YahooFinance - Find the stock with closest performance using KNN\n",
    "<a href=\"https://app.naas.ai/user-redirect/naas/downloader?url=https://raw.githubusercontent.com/jupyter-naas/awesome-notebooks/master/template.ipynb\" target=\"_parent\">\n",
    "<img src=\"https://img.shields.io/badge/-Open%20in%20Naas-success?labelColor=000000&logo=data:image/svg+xml;base64,PD94bWwgdmVyc2lvbj0iMS4wIiBlbmNvZGluZz0iVVRGLTgiPz4KPHN2ZyB3aWR0aD0iMTAyNHB4IiBoZWlnaHQ9IjEwMjRweCIgdmlld0JveD0iMCAwIDEwMjQgMTAyNCIgeG1sbnM9Imh0dHA6Ly93d3cudzMub3JnLzIwMDAvc3ZnIiB4bWxuczp4bGluaz0iaHR0cDovL3d3dy53My5vcmcvMTk5OS94bGluayIgdmVyc2lvbj0iMS4xIj4KIDwhLS0gR2VuZXJhdGVkIGJ5IFBpeGVsbWF0b3IgUHJvIDIuMC41IC0tPgogPGRlZnM+CiAgPHRleHQgaWQ9InN0cmluZyIgdHJhbnNmb3JtPSJtYXRyaXgoMS4wIDAuMCAwLjAgMS4wIDIyOC4wIDU0LjUpIiBmb250LWZhbWlseT0iQ29tZm9ydGFhLVJlZ3VsYXIsIENvbWZvcnRhYSIgZm9udC1zaXplPSI4MDAiIHRleHQtZGVjb3JhdGlvbj0ibm9uZSIgZmlsbD0iI2ZmZmZmZiIgeD0iMS4xOTk5OTk5OTk5OTk5ODg2IiB5PSI3MDUuMCI+bjwvdGV4dD4KIDwvZGVmcz4KIDx1c2UgaWQ9Im4iIHhsaW5rOmhyZWY9IiNzdHJpbmciLz4KPC9zdmc+Cg==\"/>\n",
    "</a>"
   ]
  },
  {
   "cell_type": "markdown",
   "id": "religious-programmer",
   "metadata": {},
   "source": [
    "**Tags:** #tool #naas_drivers #naas #scheduler #asset #snippet #automation #ai #analytics #yahoo #clustering #stocks"
   ]
  },
  {
   "cell_type": "markdown",
   "id": "1fe9f56e-561c-4f52-aef8-b861c9462107",
   "metadata": {},
   "source": [
    "**Author:** [Abhinav Lakhani](https://www.linkedin.com/in/abhinav-lakhani/)"
   ]
  },
  {
   "cell_type": "markdown",
   "id": "31ea7cdb-e10d-43fc-b026-f69249a59736",
   "metadata": {},
   "source": [
    "Given a list of stocks data(tickers), find the stock(s) with the closest performance attribute, make a clustering Graph of clusters (with each cluster having a different color) and save the clustered stocks to a .csv as well as the cluster to an image.\n",
    "\n",
    "Resources / Inspiration:\n",
    "https://towardsdatascience.com/in-12-minutes-stocks-analysis-with-pandas-and-scikit-learn-a8d8a7b50ee7"
   ]
  },
  {
   "cell_type": "markdown",
   "id": "distinguished-truth",
   "metadata": {
    "papermill": {},
    "tags": []
   },
   "source": [
    "## Input"
   ]
  },
  {
   "cell_type": "markdown",
   "id": "numeric-mediterranean",
   "metadata": {},
   "source": [
    "### Import library"
   ]
  },
  {
   "cell_type": "code",
   "execution_count": 1,
   "id": "potential-surfing",
   "metadata": {
    "execution": {
     "iopub.execute_input": "2022-06-23T15:24:23.313684Z",
     "iopub.status.busy": "2022-06-23T15:24:23.313420Z",
     "iopub.status.idle": "2022-06-23T15:24:25.911940Z",
     "shell.execute_reply": "2022-06-23T15:24:25.911297Z",
     "shell.execute_reply.started": "2022-06-23T15:24:23.313620Z"
    },
    "tags": []
   },
   "outputs": [],
   "source": [
    "from naas_drivers import yahoofinance\n",
    "import naas"
   ]
  },
  {
   "cell_type": "code",
   "execution_count": 2,
   "id": "a7180aef-048e-48bb-99a4-f1a1449dc066",
   "metadata": {
    "execution": {
     "iopub.execute_input": "2022-06-23T15:25:21.694024Z",
     "iopub.status.busy": "2022-06-23T15:25:21.693786Z",
     "iopub.status.idle": "2022-06-23T15:25:26.262132Z",
     "shell.execute_reply": "2022-06-23T15:25:26.261528Z",
     "shell.execute_reply.started": "2022-06-23T15:25:21.693992Z"
    },
    "tags": []
   },
   "outputs": [],
   "source": [
    "from pylab import plot,show\n",
    "from numpy import vstack,array\n",
    "from numpy.random import rand\n",
    "import numpy as np\n",
    "from scipy.cluster.vq import kmeans,vq\n",
    "import pandas as pd\n",
    "from math import sqrt\n",
    "from sklearn.cluster import KMeans\n",
    "from matplotlib import pyplot as plt"
   ]
  },
  {
   "cell_type": "markdown",
   "id": "aggressive-trustee",
   "metadata": {},
   "source": [
    "### Variables"
   ]
  },
  {
   "cell_type": "code",
   "execution_count": 3,
   "id": "continuous-melbourne",
   "metadata": {
    "execution": {
     "iopub.execute_input": "2022-06-23T15:25:29.477929Z",
     "iopub.status.busy": "2022-06-23T15:25:29.477686Z",
     "iopub.status.idle": "2022-06-23T15:25:29.484074Z",
     "shell.execute_reply": "2022-06-23T15:25:29.483381Z",
     "shell.execute_reply.started": "2022-06-23T15:25:29.477903Z"
    },
    "tags": []
   },
   "outputs": [],
   "source": [
    "# Input\n",
    "sp500_url = 'https://en.wikipedia.org/wiki/List_of_S%26P_500_companies'\n",
    "date_from = -3600\n",
    "date_to = \"today\"\n",
    "moving_averages = [20,50]\n",
    "tickers = []\n",
    "feature = \"Adj Close\" # which performance attribute do we want to cluster on: Open\tHigh\tLow\tClose\tAdj Close\tVolume\n",
    "\n",
    "# Output\n",
    "csv_output = \"STOCK_CLUSTERS.csv\"\n",
    "img_output = \"STOCK_CLUSTERS.png\""
   ]
  },
  {
   "cell_type": "markdown",
   "id": "b15b304b-9f82-4349-bb83-3fc55e74b09a",
   "metadata": {},
   "source": [
    "### Schedule your notebook"
   ]
  },
  {
   "cell_type": "code",
   "execution_count": 5,
   "id": "1383d1a5-9741-4376-abe9-ae608709b7da",
   "metadata": {
    "execution": {
     "iopub.execute_input": "2022-06-23T15:25:33.733596Z",
     "iopub.status.busy": "2022-06-23T15:25:33.733252Z",
     "iopub.status.idle": "2022-06-23T15:25:33.737693Z",
     "shell.execute_reply": "2022-06-23T15:25:33.737068Z",
     "shell.execute_reply.started": "2022-06-23T15:25:33.733556Z"
    },
    "tags": []
   },
   "outputs": [],
   "source": [
    "# Schedule your notebook everyday at 9 AM\n",
    "# naas.scheduler.add(cron=\"0 9 * * *\")\n",
    "\n",
    "#-> Uncomment the line below to remove your scheduler\n",
    "# naas.scheduler.delete()"
   ]
  },
  {
   "cell_type": "markdown",
   "id": "a1d76c6f-d1ed-4843-8594-5221436149d8",
   "metadata": {},
   "source": [
    "## Modeling"
   ]
  },
  {
   "cell_type": "markdown",
   "id": "48622a1a-534b-4372-b40a-e5cd70840eab",
   "metadata": {},
   "source": [
    "### Get tickers from Wikipedia"
   ]
  },
  {
   "cell_type": "code",
   "execution_count": 4,
   "id": "172b6157-2692-47e4-bd89-8161bc860fc0",
   "metadata": {
    "execution": {
     "iopub.execute_input": "2022-06-23T15:25:29.980877Z",
     "iopub.status.busy": "2022-06-23T15:25:29.980645Z",
     "iopub.status.idle": "2022-06-23T15:25:30.834858Z",
     "shell.execute_reply": "2022-06-23T15:25:30.834003Z",
     "shell.execute_reply.started": "2022-06-23T15:25:29.980854Z"
    },
    "tags": []
   },
   "outputs": [],
   "source": [
    "# read in the url and scrape s&p500 tickers\n",
    "data_table = pd.read_html(sp500_url)\n",
    "tickers = data_table[0][\"Symbol\"].tolist()"
   ]
  },
  {
   "cell_type": "markdown",
   "id": "e9da93cb-3a04-4792-93fa-770647723e05",
   "metadata": {},
   "source": [
    "### Get data from yahoo finance"
   ]
  },
  {
   "cell_type": "code",
   "execution_count": 6,
   "id": "4cfd15c5-041a-476c-8a55-a13d7fbb9936",
   "metadata": {
    "execution": {
     "iopub.execute_input": "2022-06-23T15:25:35.362163Z",
     "iopub.status.busy": "2022-06-23T15:25:35.361931Z",
     "iopub.status.idle": "2022-06-23T15:27:07.239765Z",
     "shell.execute_reply": "2022-06-23T15:27:07.237639Z",
     "shell.execute_reply.started": "2022-06-23T15:25:35.362140Z"
    },
    "tags": []
   },
   "outputs": [
    {
     "data": {
      "text/html": [
       "<div>\n",
       "<style scoped>\n",
       "    .dataframe tbody tr th:only-of-type {\n",
       "        vertical-align: middle;\n",
       "    }\n",
       "\n",
       "    .dataframe tbody tr th {\n",
       "        vertical-align: top;\n",
       "    }\n",
       "\n",
       "    .dataframe thead th {\n",
       "        text-align: right;\n",
       "    }\n",
       "</style>\n",
       "<table border=\"1\" class=\"dataframe\">\n",
       "  <thead>\n",
       "    <tr style=\"text-align: right;\">\n",
       "      <th></th>\n",
       "      <th>MMM</th>\n",
       "      <th>AOS</th>\n",
       "      <th>ABT</th>\n",
       "      <th>ABBV</th>\n",
       "      <th>ABMD</th>\n",
       "      <th>ACN</th>\n",
       "      <th>ATVI</th>\n",
       "      <th>ADM</th>\n",
       "      <th>ADBE</th>\n",
       "      <th>ADP</th>\n",
       "      <th>...</th>\n",
       "      <th>MCO</th>\n",
       "      <th>MS</th>\n",
       "      <th>MOS</th>\n",
       "      <th>MSI</th>\n",
       "      <th>MSCI</th>\n",
       "      <th>NDAQ</th>\n",
       "      <th>NTAP</th>\n",
       "      <th>NFLX</th>\n",
       "      <th>NWL</th>\n",
       "      <th>NEM</th>\n",
       "    </tr>\n",
       "  </thead>\n",
       "  <tbody>\n",
       "    <tr>\n",
       "      <th>0</th>\n",
       "      <td>69.646088</td>\n",
       "      <td>11.119527</td>\n",
       "      <td>26.320652</td>\n",
       "      <td>23.783295</td>\n",
       "      <td>20.350000</td>\n",
       "      <td>50.844910</td>\n",
       "      <td>10.670484</td>\n",
       "      <td>19.776932</td>\n",
       "      <td>32.110001</td>\n",
       "      <td>40.406040</td>\n",
       "      <td>...</td>\n",
       "      <td>34.676491</td>\n",
       "      <td>11.781027</td>\n",
       "      <td>48.557678</td>\n",
       "      <td>39.504036</td>\n",
       "      <td>32.630592</td>\n",
       "      <td>19.556839</td>\n",
       "      <td>25.325832</td>\n",
       "      <td>8.822857</td>\n",
       "      <td>12.275847</td>\n",
       "      <td>37.826263</td>\n",
       "    </tr>\n",
       "    <tr>\n",
       "      <th>1</th>\n",
       "      <td>69.827171</td>\n",
       "      <td>11.284938</td>\n",
       "      <td>26.420099</td>\n",
       "      <td>23.586914</td>\n",
       "      <td>20.520000</td>\n",
       "      <td>50.479713</td>\n",
       "      <td>10.753775</td>\n",
       "      <td>20.106295</td>\n",
       "      <td>32.910000</td>\n",
       "      <td>40.447987</td>\n",
       "      <td>...</td>\n",
       "      <td>34.712059</td>\n",
       "      <td>11.936578</td>\n",
       "      <td>49.164326</td>\n",
       "      <td>39.396229</td>\n",
       "      <td>33.052814</td>\n",
       "      <td>19.658077</td>\n",
       "      <td>25.591825</td>\n",
       "      <td>9.037143</td>\n",
       "      <td>12.268582</td>\n",
       "      <td>38.062996</td>\n",
       "    </tr>\n",
       "    <tr>\n",
       "      <th>2</th>\n",
       "      <td>70.732658</td>\n",
       "      <td>11.611407</td>\n",
       "      <td>26.424078</td>\n",
       "      <td>23.288942</td>\n",
       "      <td>19.510000</td>\n",
       "      <td>50.753605</td>\n",
       "      <td>10.994391</td>\n",
       "      <td>20.159906</td>\n",
       "      <td>33.650002</td>\n",
       "      <td>40.860580</td>\n",
       "      <td>...</td>\n",
       "      <td>35.024616</td>\n",
       "      <td>11.944764</td>\n",
       "      <td>50.251240</td>\n",
       "      <td>39.951916</td>\n",
       "      <td>33.291470</td>\n",
       "      <td>19.759325</td>\n",
       "      <td>26.575199</td>\n",
       "      <td>9.187143</td>\n",
       "      <td>12.508433</td>\n",
       "      <td>38.846622</td>\n",
       "    </tr>\n",
       "    <tr>\n",
       "      <th>3</th>\n",
       "      <td>71.109940</td>\n",
       "      <td>11.641878</td>\n",
       "      <td>26.221214</td>\n",
       "      <td>23.336346</td>\n",
       "      <td>20.790001</td>\n",
       "      <td>50.695511</td>\n",
       "      <td>11.197992</td>\n",
       "      <td>20.045010</td>\n",
       "      <td>33.799999</td>\n",
       "      <td>40.916527</td>\n",
       "      <td>...</td>\n",
       "      <td>35.462208</td>\n",
       "      <td>11.944764</td>\n",
       "      <td>50.225971</td>\n",
       "      <td>39.686508</td>\n",
       "      <td>32.915138</td>\n",
       "      <td>19.902754</td>\n",
       "      <td>26.970148</td>\n",
       "      <td>9.098571</td>\n",
       "      <td>12.791888</td>\n",
       "      <td>38.495625</td>\n",
       "    </tr>\n",
       "    <tr>\n",
       "      <th>4</th>\n",
       "      <td>70.845840</td>\n",
       "      <td>11.609231</td>\n",
       "      <td>26.145641</td>\n",
       "      <td>22.828451</td>\n",
       "      <td>21.709999</td>\n",
       "      <td>50.454815</td>\n",
       "      <td>11.086937</td>\n",
       "      <td>20.305439</td>\n",
       "      <td>33.919998</td>\n",
       "      <td>40.811630</td>\n",
       "      <td>...</td>\n",
       "      <td>34.587051</td>\n",
       "      <td>12.141254</td>\n",
       "      <td>49.610912</td>\n",
       "      <td>39.769447</td>\n",
       "      <td>32.391941</td>\n",
       "      <td>19.860573</td>\n",
       "      <td>26.663858</td>\n",
       "      <td>9.177143</td>\n",
       "      <td>12.828225</td>\n",
       "      <td>39.124157</td>\n",
       "    </tr>\n",
       "  </tbody>\n",
       "</table>\n",
       "<p>5 rows × 331 columns</p>\n",
       "</div>"
      ],
      "text/plain": [
       "         MMM        AOS        ABT       ABBV       ABMD        ACN  \\\n",
       "0  69.646088  11.119527  26.320652  23.783295  20.350000  50.844910   \n",
       "1  69.827171  11.284938  26.420099  23.586914  20.520000  50.479713   \n",
       "2  70.732658  11.611407  26.424078  23.288942  19.510000  50.753605   \n",
       "3  71.109940  11.641878  26.221214  23.336346  20.790001  50.695511   \n",
       "4  70.845840  11.609231  26.145641  22.828451  21.709999  50.454815   \n",
       "\n",
       "        ATVI        ADM       ADBE        ADP  ...        MCO         MS  \\\n",
       "0  10.670484  19.776932  32.110001  40.406040  ...  34.676491  11.781027   \n",
       "1  10.753775  20.106295  32.910000  40.447987  ...  34.712059  11.936578   \n",
       "2  10.994391  20.159906  33.650002  40.860580  ...  35.024616  11.944764   \n",
       "3  11.197992  20.045010  33.799999  40.916527  ...  35.462208  11.944764   \n",
       "4  11.086937  20.305439  33.919998  40.811630  ...  34.587051  12.141254   \n",
       "\n",
       "         MOS        MSI       MSCI       NDAQ       NTAP      NFLX        NWL  \\\n",
       "0  48.557678  39.504036  32.630592  19.556839  25.325832  8.822857  12.275847   \n",
       "1  49.164326  39.396229  33.052814  19.658077  25.591825  9.037143  12.268582   \n",
       "2  50.251240  39.951916  33.291470  19.759325  26.575199  9.187143  12.508433   \n",
       "3  50.225971  39.686508  32.915138  19.902754  26.970148  9.098571  12.791888   \n",
       "4  49.610912  39.769447  32.391941  19.860573  26.663858  9.177143  12.828225   \n",
       "\n",
       "         NEM  \n",
       "0  37.826263  \n",
       "1  38.062996  \n",
       "2  38.846622  \n",
       "3  38.495625  \n",
       "4  39.124157  \n",
       "\n",
       "[5 rows x 331 columns]"
      ]
     },
     "execution_count": 6,
     "metadata": {},
     "output_type": "execute_result"
    }
   ],
   "source": [
    "# get stocks info\n",
    "prices_list = []\n",
    "for ticker in tickers:\n",
    "    try:\n",
    "        prices = yahoofinance.get(ticker,\n",
    "                      date_from=date_from,\n",
    "                      date_to=date_to,\n",
    "                      moving_averages=moving_averages)[feature]\n",
    "        prices = pd.DataFrame(prices)\n",
    "        prices.columns = [ticker]\n",
    "        prices_list.append(prices)\n",
    "    except:\n",
    "        pass\n",
    "    prices_df = pd.concat(prices_list,axis=1)\n",
    "prices_df.sort_index(inplace=True)\n",
    "prices_df.head()"
   ]
  },
  {
   "cell_type": "markdown",
   "id": "298a5781-9dff-4283-9352-56fb24fa510a",
   "metadata": {},
   "source": [
    "We can now start to analyse the data and begin our K-Means investigation…\n",
    "\n",
    "Our first decision is to choose how many clusters do we actually want to separate our stocks into. Rather than make some arbitrary decision, we can use the “Elbow Method” to highlight the relationship between how many clusters we choose, and the Sum of Squared Errors (SSE) resulting from using that number of clusters.\n",
    "\n",
    "We then plot this relationship to help us identify the optimal number of clusters to use – we would prefer a lower number of clusters, but also would prefer the SSE to be lower – so this trade off needs to be taken into account.\n",
    "\n",
    "Lets run the code for our Elbow Curve plot."
   ]
  },
  {
   "cell_type": "code",
   "execution_count": 7,
   "id": "1cea5a15-2f71-4071-8c76-55bae45f77f2",
   "metadata": {
    "execution": {
     "iopub.execute_input": "2022-06-23T15:27:39.305499Z",
     "iopub.status.busy": "2022-06-23T15:27:39.305263Z",
     "iopub.status.idle": "2022-06-23T15:27:39.357354Z",
     "shell.execute_reply": "2022-06-23T15:27:39.356699Z",
     "shell.execute_reply.started": "2022-06-23T15:27:39.305473Z"
    },
    "tags": []
   },
   "outputs": [],
   "source": [
    "#Calculate average annual percentage return and volatilities over a theoretical one year period\n",
    "returns = prices_df.pct_change().mean() * 252\n",
    "returns = pd.DataFrame(returns)\n",
    "returns.columns = ['Returns']\n",
    "returns['Volatility'] = prices_df.pct_change().std() * sqrt(252)\n",
    "#format the data as a numpy array to feed into the K-Means algorithm\n",
    "data = np.asarray([np.asarray(returns['Returns']),np.asarray(returns['Volatility'])]).T"
   ]
  },
  {
   "cell_type": "code",
   "execution_count": 21,
   "id": "e4b87b4d-5b12-4867-a23a-de838253621f",
   "metadata": {
    "execution": {
     "iopub.execute_input": "2022-06-23T15:34:35.859242Z",
     "iopub.status.busy": "2022-06-23T15:34:35.859020Z",
     "iopub.status.idle": "2022-06-23T15:34:37.665317Z",
     "shell.execute_reply": "2022-06-23T15:34:37.664598Z",
     "shell.execute_reply.started": "2022-06-23T15:34:35.859219Z"
    },
    "tags": []
   },
   "outputs": [
    {
     "data": {
      "text/plain": [
       "Text(0.5, 1.0, 'Elbow curve')"
      ]
     },
     "execution_count": 21,
     "metadata": {},
     "output_type": "execute_result"
    },
    {
     "data": {
      "image/png": "[encoded data removed]",
      "text/plain": [
       "<Figure size 1080x360 with 1 Axes>"
      ]
     },
     "metadata": {
      "needs_background": "light"
     },
     "output_type": "display_data"
    }
   ],
   "source": [
    "# KMeans\n",
    "X = data\n",
    "distorsions = []\n",
    "for k in range(2, 20):\n",
    "    k_means = KMeans(n_clusters=k)\n",
    "    k_means.fit(X)\n",
    "    distorsions.append(k_means.inertia_)\n",
    "fig = plt.figure(figsize=(15, 5))\n",
    "plt.plot(range(2, 20), distorsions)\n",
    "plt.grid(True)\n",
    "plt.title('Elbow curve')"
   ]
  },
  {
   "cell_type": "markdown",
   "id": "0f968a85-8112-4671-a1b8-d156f7cb388e",
   "metadata": {},
   "source": [
    "So we can sort of see that once the number of clusters reaches 5 (on the bottom axis), the reduction in the SSE begins to slow down for each increase in cluster number. This would lead me to believe that the optimal number of clusters for this exercise lies around the 5 mark – so let’s use 5."
   ]
  },
  {
   "cell_type": "code",
   "execution_count": 22,
   "id": "ca746d52-f4f8-4892-9d6e-caf915b7ce26",
   "metadata": {
    "execution": {
     "iopub.execute_input": "2022-06-23T15:34:37.666825Z",
     "iopub.status.busy": "2022-06-23T15:34:37.666579Z",
     "iopub.status.idle": "2022-06-23T15:34:37.807681Z",
     "shell.execute_reply": "2022-06-23T15:34:37.798804Z",
     "shell.execute_reply.started": "2022-06-23T15:34:37.666793Z"
    },
    "tags": []
   },
   "outputs": [
    {
     "data": {
      "image/png": "[encoded data removed]",
      "text/plain": [
       "<Figure size 432x288 with 1 Axes>"
      ]
     },
     "metadata": {
      "needs_background": "light"
     },
     "output_type": "display_data"
    }
   ],
   "source": [
    "# computing K-Means with K = 5 (5 clusters)\n",
    "n_clusters = 5\n",
    "centroids,_ = kmeans(data,n_clusters)\n",
    "# assign each sample to a cluster\n",
    "idx,_ = vq(data,centroids)\n",
    "# some plotting using numpy's logical indexing\n",
    "plt.plot(data[idx==0,0],data[idx==0,1],'ob',\n",
    "     data[idx==1,0],data[idx==1,1],'oy',\n",
    "     data[idx==2,0],data[idx==2,1],'or',\n",
    "     data[idx==3,0],data[idx==3,1],'og',\n",
    "     data[idx==4,0],data[idx==4,1],'om')\n",
    "plt.plot(centroids[:,0],centroids[:,1],'sg',markersize=8)\n",
    "plt.show()"
   ]
  },
  {
   "cell_type": "markdown",
   "id": "37ba1927-cd59-4e5a-9d39-b4e411bbb835",
   "metadata": {},
   "source": [
    "it looks like we have an outlier in the data which is skewing the results and making it difficult to actually see what is going on for all the other stocks. Let’s take the easy route and just drop the outlier from our data set and run this again."
   ]
  },
  {
   "cell_type": "code",
   "execution_count": 23,
   "id": "a8992caf-24ce-435e-a29b-ac629c77a6c5",
   "metadata": {
    "execution": {
     "iopub.execute_input": "2022-06-23T15:34:37.813641Z",
     "iopub.status.busy": "2022-06-23T15:34:37.813448Z",
     "iopub.status.idle": "2022-06-23T15:34:37.821124Z",
     "shell.execute_reply": "2022-06-23T15:34:37.820481Z",
     "shell.execute_reply.started": "2022-06-23T15:34:37.813614Z"
    },
    "tags": []
   },
   "outputs": [
    {
     "name": "stdout",
     "output_type": "stream",
     "text": [
      "Returns       DXCM\n",
      "Volatility     APA\n",
      "dtype: object\n"
     ]
    }
   ],
   "source": [
    "#identify the outlier\n",
    "print(returns.idxmax())"
   ]
  },
  {
   "cell_type": "code",
   "execution_count": 32,
   "id": "acd7d3b6-152d-4d0a-b40b-a4e9420fcd86",
   "metadata": {
    "execution": {
     "iopub.execute_input": "2022-06-23T15:37:29.388607Z",
     "iopub.status.busy": "2022-06-23T15:37:29.388377Z",
     "iopub.status.idle": "2022-06-23T15:37:29.393916Z",
     "shell.execute_reply": "2022-06-23T15:37:29.393275Z",
     "shell.execute_reply.started": "2022-06-23T15:37:29.388583Z"
    },
    "tags": []
   },
   "outputs": [],
   "source": [
    "#drop the relevant stock from our data\n",
    "returns.drop(returns.idxmax()[0],inplace=True)\n",
    "#recreate data to feed into the algorithm\n",
    "data = np.asarray([np.asarray(returns['Returns']),np.asarray(returns['Volatility'])]).T"
   ]
  },
  {
   "cell_type": "code",
   "execution_count": 25,
   "id": "0d7e89b2-26a4-468f-8d5b-333bd3c471cc",
   "metadata": {
    "execution": {
     "iopub.execute_input": "2022-06-23T15:34:37.921567Z",
     "iopub.status.busy": "2022-06-23T15:34:37.921200Z",
     "iopub.status.idle": "2022-06-23T15:34:38.151797Z",
     "shell.execute_reply": "2022-06-23T15:34:38.151062Z",
     "shell.execute_reply.started": "2022-06-23T15:34:37.921533Z"
    },
    "tags": []
   },
   "outputs": [
    {
     "data": {
      "image/png": "[encoded data removed]",
      "text/plain": [
       "<Figure size 432x288 with 1 Axes>"
      ]
     },
     "metadata": {
      "needs_background": "light"
     },
     "output_type": "display_data"
    }
   ],
   "source": [
    "# computing K-Means with K = 5 (5 clusters)\n",
    "centroids,_ = kmeans(data,n_clusters)\n",
    "# assign each sample to a cluster\n",
    "idx,_ = vq(data,centroids)\n",
    "# some plotting using numpy's logical indexing\n",
    "plt.plot(data[idx==0,0],data[idx==0,1],'ob',\n",
    "     data[idx==1,0],data[idx==1,1],'oy',\n",
    "     data[idx==2,0],data[idx==2,1],'or',\n",
    "     data[idx==3,0],data[idx==3,1],'og',\n",
    "     data[idx==4,0],data[idx==4,1],'om')\n",
    "plt.plot(centroids[:,0],centroids[:,1],'sg',markersize=8)\n",
    "plt.show()"
   ]
  },
  {
   "cell_type": "markdown",
   "id": "9bc62ec2-d094-4cbb-8097-b61ceb905910",
   "metadata": {},
   "source": [
    "SO there we go, we now have a list of each of the stocks which are close together/similar, along with which one of 5 clusters they belong to with the clusters being defined by their return and volatility characteristics. We also have a visual representation of the clusters in chart format."
   ]
  },
  {
   "cell_type": "markdown",
   "id": "7b1d190a-0361-4afb-998f-2ecb94c13964",
   "metadata": {
    "execution": {
     "iopub.execute_input": "2021-07-02T23:32:10.789097Z",
     "iopub.status.busy": "2021-07-02T23:32:10.788829Z",
     "iopub.status.idle": "2021-07-02T23:32:10.796900Z",
     "shell.execute_reply": "2021-07-02T23:32:10.796358Z",
     "shell.execute_reply.started": "2021-07-02T23:32:10.789033Z"
    }
   },
   "source": [
    "## Output"
   ]
  },
  {
   "cell_type": "code",
   "execution_count": 26,
   "id": "f43536d1-8064-4660-8854-e2de2f612a5b",
   "metadata": {
    "execution": {
     "iopub.execute_input": "2022-06-23T15:34:38.850684Z",
     "iopub.status.busy": "2022-06-23T15:34:38.850438Z",
     "iopub.status.idle": "2022-06-23T15:34:38.864903Z",
     "shell.execute_reply": "2022-06-23T15:34:38.864387Z",
     "shell.execute_reply.started": "2022-06-23T15:34:38.850660Z"
    },
    "tags": []
   },
   "outputs": [
    {
     "data": {
      "text/html": [
       "<div>\n",
       "<style scoped>\n",
       "    .dataframe tbody tr th:only-of-type {\n",
       "        vertical-align: middle;\n",
       "    }\n",
       "\n",
       "    .dataframe tbody tr th {\n",
       "        vertical-align: top;\n",
       "    }\n",
       "\n",
       "    .dataframe thead th {\n",
       "        text-align: right;\n",
       "    }\n",
       "</style>\n",
       "<table border=\"1\" class=\"dataframe\">\n",
       "  <thead>\n",
       "    <tr style=\"text-align: right;\">\n",
       "      <th></th>\n",
       "      <th>Ticker</th>\n",
       "      <th>Group ID</th>\n",
       "    </tr>\n",
       "  </thead>\n",
       "  <tbody>\n",
       "    <tr>\n",
       "      <th>0</th>\n",
       "      <td>MMM</td>\n",
       "      <td>2</td>\n",
       "    </tr>\n",
       "    <tr>\n",
       "      <th>1</th>\n",
       "      <td>AOS</td>\n",
       "      <td>3</td>\n",
       "    </tr>\n",
       "    <tr>\n",
       "      <th>2</th>\n",
       "      <td>ABT</td>\n",
       "      <td>3</td>\n",
       "    </tr>\n",
       "    <tr>\n",
       "      <th>3</th>\n",
       "      <td>ABBV</td>\n",
       "      <td>1</td>\n",
       "    </tr>\n",
       "    <tr>\n",
       "      <th>4</th>\n",
       "      <td>ABMD</td>\n",
       "      <td>4</td>\n",
       "    </tr>\n",
       "    <tr>\n",
       "      <th>...</th>\n",
       "      <td>...</td>\n",
       "      <td>...</td>\n",
       "    </tr>\n",
       "    <tr>\n",
       "      <th>323</th>\n",
       "      <td>NDAQ</td>\n",
       "      <td>3</td>\n",
       "    </tr>\n",
       "    <tr>\n",
       "      <th>324</th>\n",
       "      <td>NTAP</td>\n",
       "      <td>0</td>\n",
       "    </tr>\n",
       "    <tr>\n",
       "      <th>325</th>\n",
       "      <td>NFLX</td>\n",
       "      <td>4</td>\n",
       "    </tr>\n",
       "    <tr>\n",
       "      <th>326</th>\n",
       "      <td>NWL</td>\n",
       "      <td>0</td>\n",
       "    </tr>\n",
       "    <tr>\n",
       "      <th>327</th>\n",
       "      <td>NEM</td>\n",
       "      <td>0</td>\n",
       "    </tr>\n",
       "  </tbody>\n",
       "</table>\n",
       "<p>328 rows × 2 columns</p>\n",
       "</div>"
      ],
      "text/plain": [
       "    Ticker  Group ID\n",
       "0      MMM         2\n",
       "1      AOS         3\n",
       "2      ABT         3\n",
       "3     ABBV         1\n",
       "4     ABMD         4\n",
       "..     ...       ...\n",
       "323   NDAQ         3\n",
       "324   NTAP         0\n",
       "325   NFLX         4\n",
       "326    NWL         0\n",
       "327    NEM         0\n",
       "\n",
       "[328 rows x 2 columns]"
      ]
     },
     "execution_count": 26,
     "metadata": {},
     "output_type": "execute_result"
    }
   ],
   "source": [
    "stock_clusters = pd.DataFrame(zip(returns.index,idx), columns=[\"Ticker\", \"Group ID\"])\n",
    "stock_clusters"
   ]
  },
  {
   "cell_type": "markdown",
   "id": "c1643de6-c674-4715-a4dd-e1c3b973e05d",
   "metadata": {},
   "source": [
    "### Save result in csv"
   ]
  },
  {
   "cell_type": "code",
   "execution_count": 27,
   "id": "4f5a0929-a534-43db-8e05-576ab94374f4",
   "metadata": {
    "execution": {
     "iopub.execute_input": "2022-06-23T15:34:40.085614Z",
     "iopub.status.busy": "2022-06-23T15:34:40.085392Z",
     "iopub.status.idle": "2022-06-23T15:34:40.114637Z",
     "shell.execute_reply": "2022-06-23T15:34:40.114077Z",
     "shell.execute_reply.started": "2022-06-23T15:34:40.085592Z"
    },
    "tags": []
   },
   "outputs": [],
   "source": [
    "stock_clusters.to_csv(csv_output, index=False)"
   ]
  },
  {
   "cell_type": "markdown",
   "id": "f7b1638e-2e56-49cf-9e30-e3a0e74656ff",
   "metadata": {},
   "source": [
    "### Save the cluster plot"
   ]
  },
  {
   "cell_type": "code",
   "execution_count": 28,
   "id": "d1b11772-c277-4fe1-9d97-0054f754bebc",
   "metadata": {
    "execution": {
     "iopub.execute_input": "2022-06-23T15:34:40.832670Z",
     "iopub.status.busy": "2022-06-23T15:34:40.832421Z",
     "iopub.status.idle": "2022-06-23T15:34:40.946685Z",
     "shell.execute_reply": "2022-06-23T15:34:40.946081Z",
     "shell.execute_reply.started": "2022-06-23T15:34:40.832648Z"
    },
    "tags": []
   },
   "outputs": [
    {
     "data": {
      "image/png": "[encoded data removed]",
      "text/plain": [
       "<Figure size 1080x360 with 1 Axes>"
      ]
     },
     "execution_count": 28,
     "metadata": {},
     "output_type": "execute_result"
    }
   ],
   "source": [
    "fig"
   ]
  },
  {
   "cell_type": "code",
   "execution_count": 29,
   "id": "4a773697-bb9f-44e3-ba20-6738656d128b",
   "metadata": {
    "execution": {
     "iopub.execute_input": "2022-06-23T15:34:44.263431Z",
     "iopub.status.busy": "2022-06-23T15:34:44.263202Z",
     "iopub.status.idle": "2022-06-23T15:34:44.299479Z",
     "shell.execute_reply": "2022-06-23T15:34:44.298766Z",
     "shell.execute_reply.started": "2022-06-23T15:34:44.263407Z"
    },
    "tags": []
   },
   "outputs": [
    {
     "data": {
      "text/plain": [
       "<Figure size 432x288 with 0 Axes>"
      ]
     },
     "metadata": {},
     "output_type": "display_data"
    }
   ],
   "source": [
    "plt.savefig(img_output)"
   ]
  },
  {
   "cell_type": "markdown",
   "id": "a28950bb-1d7d-4835-a83a-faac837ebc7c",
   "metadata": {},
   "source": [
    "### Share your output with naas"
   ]
  },
  {
   "cell_type": "code",
   "execution_count": 30,
   "id": "db205965-a2dc-4541-ba8e-db3250d1cff0",
   "metadata": {
    "execution": {
     "iopub.execute_input": "2022-06-23T15:34:46.222363Z",
     "iopub.status.busy": "2022-06-23T15:34:46.222127Z",
     "iopub.status.idle": "2022-06-23T15:34:46.554576Z",
     "shell.execute_reply": "2022-06-23T15:34:46.553901Z",
     "shell.execute_reply.started": "2022-06-23T15:34:46.222340Z"
    }
   },
   "outputs": [
    {
     "name": "stdout",
     "output_type": "stream",
     "text": [
      "👌 Well done! Your Assets has been sent to production.\n",
      "\n"
     ]
    },
    {
     "data": {
      "application/javascript": [
       "\n",
       "    if (!window.copyToClipboard) {\n",
       "        window.copyToClipboard = (text) => {\n",
       "            const dummy = document.createElement(\"textarea\");\n",
       "            document.body.appendChild(dummy);\n",
       "            dummy.value = text;\n",
       "            dummy.select();\n",
       "            document.execCommand(\"copy\");\n",
       "            document.body.removeChild(dummy);\n",
       "        }\n",
       "    }\n",
       "    "
      ],
      "text/plain": [
       "<IPython.core.display.Javascript object>"
      ]
     },
     "metadata": {},
     "output_type": "display_data"
    },
    {
     "data": {
      "application/vnd.jupyter.widget-view+json": {
       "model_id": "829df19c787745d38527212360e26258",
       "version_major": 2,
       "version_minor": 0
      },
      "text/plain": [
       "Button(button_style='primary', description='Copy URL', style=ButtonStyle())"
      ]
     },
     "metadata": {},
     "output_type": "display_data"
    },
    {
     "data": {
      "application/vnd.jupyter.widget-view+json": {
       "model_id": "2b927301ffa84d69bf1f961395f4abba",
       "version_major": 2,
       "version_minor": 0
      },
      "text/plain": [
       "Output()"
      ]
     },
     "metadata": {},
     "output_type": "display_data"
    },
    {
     "name": "stdout",
     "output_type": "stream",
     "text": [
      "PS: to remove the \"Assets\" feature, just replace .add by .delete\n"
     ]
    },
    {
     "data": {
      "text/plain": [
       "'https://public.naas.ai/ZmxvcmVudC00MG5hYXMtMkVhaQ==/asset/07c6ae838434379fc9cdead7c329cfb03b0aec70f44ded43bbb5cdb22b7a'"
      ]
     },
     "execution_count": 30,
     "metadata": {},
     "output_type": "execute_result"
    }
   ],
   "source": [
    "naas.asset.add(csv_output)\n",
    "\n",
    "#-> Uncomment the line below to remove your asset\n",
    "# naas.asset.delete()"
   ]
  },
  {
   "cell_type": "code",
   "execution_count": null,
   "id": "43006fe4-35b4-4625-8f4e-13b2da04e7a8",
   "metadata": {},
   "outputs": [],
   "source": []
  }
 ],
 "metadata": {
  "kernelspec": {
   "display_name": "Python 3",
   "language": "python",
   "name": "python3"
  },
  "language_info": {
   "codemirror_mode": {
    "name": "ipython",
    "version": 3
   },
   "file_extension": ".py",
   "mimetype": "text/x-python",
   "name": "python",
   "nbconvert_exporter": "python",
   "pygments_lexer": "ipython3",
   "version": "3.9.6"
  },
  "papermill": {
   "default_parameters": {},
   "environment_variables": {},
   "parameters": {},
   "version": "2.3.3"
  },
  "widgets": {
   "application/vnd.jupyter.widget-state+json": {
    "state": {},
    "version_major": 2,
    "version_minor": 0
   }
  }
 },
 "nbformat": 4,
 "nbformat_minor": 5
}
