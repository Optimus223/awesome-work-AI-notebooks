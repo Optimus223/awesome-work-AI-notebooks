{
 "cells": [
  {
   "cell_type": "markdown",
   "id": "latin-packing",
   "metadata": {
    "execution": {
     "iopub.execute_input": "2021-02-23T14:22:16.610471Z",
     "iopub.status.busy": "2021-02-23T14:22:16.610129Z",
     "iopub.status.idle": "2021-02-23T14:22:16.627784Z",
     "shell.execute_reply": "2021-02-23T14:22:16.626866Z",
     "shell.execute_reply.started": "2021-02-23T14:22:16.610384Z"
    },
    "papermill": {},
    "tags": []
   },
   "source": [
    "<img width=\"10%\" alt=\"Naas\" src=\"https://landen.imgix.net/jtci2pxwjczr/assets/5ice39g4.png?w=160\"/>"
   ]
  },
  {
   "cell_type": "markdown",
   "id": "compressed-wilson",
   "metadata": {
    "papermill": {},
    "tags": []
   },
   "source": [
    "# YahooFinance - k-NN - Find the stock with closest performance\n",
    "<a href=\"https://app.naas.ai/user-redirect/naas/downloader?url=https://raw.githubusercontent.com/jupyter-naas/awesome-notebooks/master/template.ipynb\" target=\"_parent\">\n",
    "<img src=\"https://img.shields.io/badge/-Open%20in%20Naas-success?labelColor=000000&logo=data:image/svg+xml;base64,PD94bWwgdmVyc2lvbj0iMS4wIiBlbmNvZGluZz0iVVRGLTgiPz4KPHN2ZyB3aWR0aD0iMTAyNHB4IiBoZWlnaHQ9IjEwMjRweCIgdmlld0JveD0iMCAwIDEwMjQgMTAyNCIgeG1sbnM9Imh0dHA6Ly93d3cudzMub3JnLzIwMDAvc3ZnIiB4bWxuczp4bGluaz0iaHR0cDovL3d3dy53My5vcmcvMTk5OS94bGluayIgdmVyc2lvbj0iMS4xIj4KIDwhLS0gR2VuZXJhdGVkIGJ5IFBpeGVsbWF0b3IgUHJvIDIuMC41IC0tPgogPGRlZnM+CiAgPHRleHQgaWQ9InN0cmluZyIgdHJhbnNmb3JtPSJtYXRyaXgoMS4wIDAuMCAwLjAgMS4wIDIyOC4wIDU0LjUpIiBmb250LWZhbWlseT0iQ29tZm9ydGFhLVJlZ3VsYXIsIENvbWZvcnRhYSIgZm9udC1zaXplPSI4MDAiIHRleHQtZGVjb3JhdGlvbj0ibm9uZSIgZmlsbD0iI2ZmZmZmZiIgeD0iMS4xOTk5OTk5OTk5OTk5ODg2IiB5PSI3MDUuMCI+bjwvdGV4dD4KIDwvZGVmcz4KIDx1c2UgaWQ9Im4iIHhsaW5rOmhyZWY9IiNzdHJpbmciLz4KPC9zdmc+Cg==\"/>\n",
    "</a>"
   ]
  },
  {
   "cell_type": "markdown",
   "id": "religious-programmer",
   "metadata": {},
   "source": [
    "**Tags:** #tool #naas_drivers #naas #scheduler #asset #snippet #automation #ai #analytics"
   ]
  },
  {
   "cell_type": "markdown",
   "id": "1fe9f56e-561c-4f52-aef8-b861c9462107",
   "metadata": {},
   "source": [
    "**Author:** [Abhinav Lakhani](https://www.linkedin.com/in/abhinav-lakhani/)"
   ]
  },
  {
   "cell_type": "markdown",
   "id": "31ea7cdb-e10d-43fc-b026-f69249a59736",
   "metadata": {},
   "source": [
    "Input:\n",
    "List of stocks data\n",
    "\n",
    "Model:\n",
    "Find the stock with the closest performance attribute\n",
    "\n",
    "Output:\n",
    "Graph of clusters (with each cluster having a different color)\n",
    "\n",
    "Resources / Inspiration:\n",
    "https://towardsdatascience.com/in-12-minutes-stocks-analysis-with-pandas-and-scikit-learn-a8d8a7b50ee7"
   ]
  },
  {
   "cell_type": "markdown",
   "id": "distinguished-truth",
   "metadata": {
    "papermill": {},
    "tags": []
   },
   "source": [
    "## Input"
   ]
  },
  {
   "cell_type": "markdown",
   "id": "numeric-mediterranean",
   "metadata": {},
   "source": [
    "### Import library"
   ]
  },
  {
   "cell_type": "code",
   "execution_count": 1,
   "id": "potential-surfing",
   "metadata": {
    "execution": {
     "iopub.execute_input": "2022-05-26T14:44:07.148305Z",
     "iopub.status.busy": "2022-05-26T14:44:07.147832Z",
     "iopub.status.idle": "2022-05-26T14:44:09.623534Z",
     "shell.execute_reply": "2022-05-26T14:44:09.622914Z",
     "shell.execute_reply.started": "2022-05-26T14:44:07.148220Z"
    },
    "tags": []
   },
   "outputs": [],
   "source": [
    "from naas_drivers import yahoofinance\n",
    "import naas"
   ]
  },
  {
   "cell_type": "code",
   "execution_count": 2,
   "id": "a7180aef-048e-48bb-99a4-f1a1449dc066",
   "metadata": {
    "execution": {
     "iopub.execute_input": "2022-05-26T14:44:11.263914Z",
     "iopub.status.busy": "2022-05-26T14:44:11.263684Z",
     "iopub.status.idle": "2022-05-26T14:44:12.758262Z",
     "shell.execute_reply": "2022-05-26T14:44:12.757641Z",
     "shell.execute_reply.started": "2022-05-26T14:44:11.263890Z"
    },
    "tags": []
   },
   "outputs": [],
   "source": [
    "from pylab import plot,show\n",
    "from numpy import vstack,array\n",
    "from numpy.random import rand\n",
    "import numpy as np\n",
    "from scipy.cluster.vq import kmeans,vq\n",
    "import pandas as pd\n",
    "import pandas_datareader as dr\n",
    "from math import sqrt\n",
    "from sklearn.cluster import KMeans\n",
    "from matplotlib import pyplot as plt"
   ]
  },
  {
   "cell_type": "code",
   "execution_count": 3,
   "id": "29993808-d752-43ae-8125-63000a90797e",
   "metadata": {
    "execution": {
     "iopub.execute_input": "2022-05-26T14:44:14.441841Z",
     "iopub.status.busy": "2022-05-26T14:44:14.441543Z",
     "iopub.status.idle": "2022-05-26T14:44:20.500070Z",
     "shell.execute_reply": "2022-05-26T14:44:20.499370Z",
     "shell.execute_reply.started": "2022-05-26T14:44:14.441814Z"
    },
    "tags": []
   },
   "outputs": [
    {
     "name": "stdout",
     "output_type": "stream",
     "text": [
      "2.6.0\n",
      "1.8.1+cu102\n"
     ]
    }
   ],
   "source": [
    "import tensorflow as tf\n",
    "print(tf.__version__)\n",
    "import torch\n",
    "print(torch.__version__)"
   ]
  },
  {
   "cell_type": "markdown",
   "id": "aggressive-trustee",
   "metadata": {},
   "source": [
    "### Variables"
   ]
  },
  {
   "cell_type": "code",
   "execution_count": 4,
   "id": "continuous-melbourne",
   "metadata": {
    "execution": {
     "iopub.execute_input": "2022-05-26T14:44:25.765595Z",
     "iopub.status.busy": "2022-05-26T14:44:25.765293Z",
     "iopub.status.idle": "2022-05-26T14:44:25.772077Z",
     "shell.execute_reply": "2022-05-26T14:44:25.771475Z",
     "shell.execute_reply.started": "2022-05-26T14:44:25.765561Z"
    },
    "tags": []
   },
   "outputs": [],
   "source": [
    "# Input\n",
    "stock_name = 'NFLX'\n",
    "date_from = -3600\n",
    "date_to = \"today\"\n",
    "moving_averages = [20,50]\n",
    "\n",
    "# Output\n",
    "csv_output = \"MY_OUTPUT.csv\""
   ]
  },
  {
   "cell_type": "markdown",
   "id": "b15b304b-9f82-4349-bb83-3fc55e74b09a",
   "metadata": {},
   "source": [
    "### Schedule your notebook"
   ]
  },
  {
   "cell_type": "code",
   "execution_count": 5,
   "id": "1383d1a5-9741-4376-abe9-ae608709b7da",
   "metadata": {
    "execution": {
     "iopub.execute_input": "2022-05-26T14:44:28.313623Z",
     "iopub.status.busy": "2022-05-26T14:44:28.313213Z",
     "iopub.status.idle": "2022-05-26T14:44:28.316487Z",
     "shell.execute_reply": "2022-05-26T14:44:28.315840Z",
     "shell.execute_reply.started": "2022-05-26T14:44:28.313590Z"
    },
    "tags": []
   },
   "outputs": [],
   "source": [
    "# Schedule your notebook everyday at 9 AM\n",
    "# naas.scheduler.add(cron=\"0 9 * * *\")\n",
    "\n",
    "#-> Uncomment the line below to remove your scheduler\n",
    "# naas.scheduler.delete()"
   ]
  },
  {
   "cell_type": "markdown",
   "id": "tested-astrology",
   "metadata": {},
   "source": [
    "### Get data from yahoo finance (function description)"
   ]
  },
  {
   "cell_type": "code",
   "execution_count": 9,
   "id": "f3720ca0-dc5f-4cee-bd3d-f5a463ad7d03",
   "metadata": {
    "execution": {
     "iopub.execute_input": "2022-05-26T14:46:11.553484Z",
     "iopub.status.busy": "2022-05-26T14:46:11.553261Z",
     "iopub.status.idle": "2022-05-26T14:47:47.043875Z",
     "shell.execute_reply": "2022-05-26T14:47:47.041052Z",
     "shell.execute_reply.started": "2022-05-26T14:46:11.553462Z"
    },
    "tags": []
   },
   "outputs": [
    {
     "data": {
      "text/html": [
       "<div>\n",
       "<style scoped>\n",
       "    .dataframe tbody tr th:only-of-type {\n",
       "        vertical-align: middle;\n",
       "    }\n",
       "\n",
       "    .dataframe tbody tr th {\n",
       "        vertical-align: top;\n",
       "    }\n",
       "\n",
       "    .dataframe thead th {\n",
       "        text-align: right;\n",
       "    }\n",
       "</style>\n",
       "<table border=\"1\" class=\"dataframe\">\n",
       "  <thead>\n",
       "    <tr style=\"text-align: right;\">\n",
       "      <th></th>\n",
       "      <th>MMM</th>\n",
       "      <th>AOS</th>\n",
       "      <th>ABT</th>\n",
       "      <th>ABBV</th>\n",
       "      <th>ABMD</th>\n",
       "      <th>ACN</th>\n",
       "      <th>ATVI</th>\n",
       "      <th>ADM</th>\n",
       "      <th>ADBE</th>\n",
       "      <th>ADP</th>\n",
       "      <th>...</th>\n",
       "      <th>MDLZ</th>\n",
       "      <th>MPWR</th>\n",
       "      <th>MNST</th>\n",
       "      <th>MCO</th>\n",
       "      <th>MS</th>\n",
       "      <th>MOS</th>\n",
       "      <th>MSI</th>\n",
       "      <th>MSCI</th>\n",
       "      <th>NDAQ</th>\n",
       "      <th>NTAP</th>\n",
       "    </tr>\n",
       "  </thead>\n",
       "  <tbody>\n",
       "    <tr>\n",
       "      <th>0</th>\n",
       "      <td>67.140961</td>\n",
       "      <td>10.643416</td>\n",
       "      <td>26.436016</td>\n",
       "      <td>23.783298</td>\n",
       "      <td>24.150000</td>\n",
       "      <td>48.388145</td>\n",
       "      <td>11.179482</td>\n",
       "      <td>20.731382</td>\n",
       "      <td>30.650000</td>\n",
       "      <td>39.375381</td>\n",
       "      <td>...</td>\n",
       "      <td>21.822536</td>\n",
       "      <td>16.206861</td>\n",
       "      <td>23.940001</td>\n",
       "      <td>32.337456</td>\n",
       "      <td>11.694939</td>\n",
       "      <td>48.953430</td>\n",
       "      <td>38.018368</td>\n",
       "      <td>31.042662</td>\n",
       "      <td>19.277639</td>\n",
       "      <td>23.004425</td>\n",
       "    </tr>\n",
       "    <tr>\n",
       "      <th>1</th>\n",
       "      <td>68.567070</td>\n",
       "      <td>11.291558</td>\n",
       "      <td>26.225191</td>\n",
       "      <td>23.586918</td>\n",
       "      <td>23.930000</td>\n",
       "      <td>48.919342</td>\n",
       "      <td>11.568174</td>\n",
       "      <td>20.997652</td>\n",
       "      <td>31.430000</td>\n",
       "      <td>39.944519</td>\n",
       "      <td>...</td>\n",
       "      <td>21.915747</td>\n",
       "      <td>16.524124</td>\n",
       "      <td>23.966667</td>\n",
       "      <td>32.675415</td>\n",
       "      <td>11.409497</td>\n",
       "      <td>48.902977</td>\n",
       "      <td>38.851017</td>\n",
       "      <td>31.318027</td>\n",
       "      <td>19.396217</td>\n",
       "      <td>24.390821</td>\n",
       "    </tr>\n",
       "    <tr>\n",
       "      <th>2</th>\n",
       "      <td>68.536896</td>\n",
       "      <td>11.133318</td>\n",
       "      <td>26.173485</td>\n",
       "      <td>23.288944</td>\n",
       "      <td>23.709999</td>\n",
       "      <td>49.259632</td>\n",
       "      <td>11.429357</td>\n",
       "      <td>20.761814</td>\n",
       "      <td>31.889999</td>\n",
       "      <td>39.698601</td>\n",
       "      <td>...</td>\n",
       "      <td>22.041864</td>\n",
       "      <td>17.185087</td>\n",
       "      <td>22.610001</td>\n",
       "      <td>32.897751</td>\n",
       "      <td>10.805994</td>\n",
       "      <td>48.457260</td>\n",
       "      <td>39.558754</td>\n",
       "      <td>31.529129</td>\n",
       "      <td>19.319990</td>\n",
       "      <td>25.084021</td>\n",
       "    </tr>\n",
       "    <tr>\n",
       "      <th>3</th>\n",
       "      <td>67.903061</td>\n",
       "      <td>11.085631</td>\n",
       "      <td>25.879128</td>\n",
       "      <td>23.336349</td>\n",
       "      <td>23.330000</td>\n",
       "      <td>48.969147</td>\n",
       "      <td>11.114699</td>\n",
       "      <td>20.541187</td>\n",
       "      <td>31.379999</td>\n",
       "      <td>39.417530</td>\n",
       "      <td>...</td>\n",
       "      <td>22.019928</td>\n",
       "      <td>16.991209</td>\n",
       "      <td>21.656668</td>\n",
       "      <td>32.292988</td>\n",
       "      <td>10.422687</td>\n",
       "      <td>48.356342</td>\n",
       "      <td>38.717800</td>\n",
       "      <td>31.015121</td>\n",
       "      <td>18.947313</td>\n",
       "      <td>25.140440</td>\n",
       "    </tr>\n",
       "    <tr>\n",
       "      <th>4</th>\n",
       "      <td>67.427666</td>\n",
       "      <td>10.990250</td>\n",
       "      <td>25.712063</td>\n",
       "      <td>22.828449</td>\n",
       "      <td>22.520000</td>\n",
       "      <td>47.931656</td>\n",
       "      <td>11.049919</td>\n",
       "      <td>20.442284</td>\n",
       "      <td>30.639999</td>\n",
       "      <td>39.010017</td>\n",
       "      <td>...</td>\n",
       "      <td>21.493555</td>\n",
       "      <td>16.744444</td>\n",
       "      <td>22.053333</td>\n",
       "      <td>31.839399</td>\n",
       "      <td>10.308506</td>\n",
       "      <td>48.347927</td>\n",
       "      <td>38.209873</td>\n",
       "      <td>30.574541</td>\n",
       "      <td>18.760969</td>\n",
       "      <td>24.664871</td>\n",
       "    </tr>\n",
       "  </tbody>\n",
       "</table>\n",
       "<p>5 rows × 330 columns</p>\n",
       "</div>"
      ],
      "text/plain": [
       "         MMM        AOS        ABT       ABBV       ABMD        ACN  \\\n",
       "0  67.140961  10.643416  26.436016  23.783298  24.150000  48.388145   \n",
       "1  68.567070  11.291558  26.225191  23.586918  23.930000  48.919342   \n",
       "2  68.536896  11.133318  26.173485  23.288944  23.709999  49.259632   \n",
       "3  67.903061  11.085631  25.879128  23.336349  23.330000  48.969147   \n",
       "4  67.427666  10.990250  25.712063  22.828449  22.520000  47.931656   \n",
       "\n",
       "        ATVI        ADM       ADBE        ADP  ...       MDLZ       MPWR  \\\n",
       "0  11.179482  20.731382  30.650000  39.375381  ...  21.822536  16.206861   \n",
       "1  11.568174  20.997652  31.430000  39.944519  ...  21.915747  16.524124   \n",
       "2  11.429357  20.761814  31.889999  39.698601  ...  22.041864  17.185087   \n",
       "3  11.114699  20.541187  31.379999  39.417530  ...  22.019928  16.991209   \n",
       "4  11.049919  20.442284  30.639999  39.010017  ...  21.493555  16.744444   \n",
       "\n",
       "        MNST        MCO         MS        MOS        MSI       MSCI  \\\n",
       "0  23.940001  32.337456  11.694939  48.953430  38.018368  31.042662   \n",
       "1  23.966667  32.675415  11.409497  48.902977  38.851017  31.318027   \n",
       "2  22.610001  32.897751  10.805994  48.457260  39.558754  31.529129   \n",
       "3  21.656668  32.292988  10.422687  48.356342  38.717800  31.015121   \n",
       "4  22.053333  31.839399  10.308506  48.347927  38.209873  30.574541   \n",
       "\n",
       "        NDAQ       NTAP  \n",
       "0  19.277639  23.004425  \n",
       "1  19.396217  24.390821  \n",
       "2  19.319990  25.084021  \n",
       "3  18.947313  25.140440  \n",
       "4  18.760969  24.664871  \n",
       "\n",
       "[5 rows x 330 columns]"
      ]
     },
     "execution_count": 9,
     "metadata": {},
     "output_type": "execute_result"
    }
   ],
   "source": [
    "sp500_url = 'https://en.wikipedia.org/wiki/List_of_S%26P_500_companies'\n",
    "#read in the url and scrape ticker data\n",
    "data_table = pd.read_html(sp500_url)\n",
    "tickers = data_table[0][\"Symbol\"].tolist()\n",
    "prices_list = []\n",
    "for ticker in tickers:\n",
    "    try:\n",
    "        prices = yahoofinance.get(ticker,\n",
    "                      date_from=date_from,\n",
    "                      date_to=date_to,\n",
    "                      moving_averages=moving_averages)['Adj Close']\n",
    "#         prices = dr.DataReader(ticker,'yahoo','01/01/2017')['Adj Close']\n",
    "        prices = pd.DataFrame(prices)\n",
    "        prices.columns = [ticker]\n",
    "        prices_list.append(prices)\n",
    "    except:\n",
    "        pass\n",
    "    prices_df = pd.concat(prices_list,axis=1)\n",
    "prices_df.sort_index(inplace=True)\n",
    "prices_df.head()"
   ]
  },
  {
   "cell_type": "markdown",
   "id": "a1d76c6f-d1ed-4843-8594-5221436149d8",
   "metadata": {},
   "source": [
    "## EDA"
   ]
  },
  {
   "cell_type": "code",
   "execution_count": 10,
   "id": "1cea5a15-2f71-4071-8c76-55bae45f77f2",
   "metadata": {
    "execution": {
     "iopub.execute_input": "2022-05-26T14:48:22.560681Z",
     "iopub.status.busy": "2022-05-26T14:48:22.560384Z",
     "iopub.status.idle": "2022-05-26T14:48:27.931813Z",
     "shell.execute_reply": "2022-05-26T14:48:27.930493Z",
     "shell.execute_reply.started": "2022-05-26T14:48:22.560652Z"
    },
    "tags": []
   },
   "outputs": [
    {
     "data": {
      "text/plain": [
       "Text(0.5, 1.0, 'Elbow curve')"
      ]
     },
     "execution_count": 10,
     "metadata": {},
     "output_type": "execute_result"
    },
    {
     "data": {
      "image/png": "[encoded data removed]",
      "text/plain": [
       "<Figure size 1080x360 with 1 Axes>"
      ]
     },
     "metadata": {
      "needs_background": "light"
     },
     "output_type": "display_data"
    }
   ],
   "source": [
    "#Calculate average annual percentage return and volatilities over a theoretical one year period\n",
    "returns = prices_df.pct_change().mean() * 252\n",
    "returns = pd.DataFrame(returns)\n",
    "returns.columns = ['Returns']\n",
    "returns['Volatility'] = prices_df.pct_change().std() * sqrt(252)\n",
    "#format the data as a numpy array to feed into the K-Means algorithm\n",
    "data = np.asarray([np.asarray(returns['Returns']),np.asarray(returns['Volatility'])]).T\n",
    "X = data\n",
    "distorsions = []\n",
    "for k in range(2, 20):\n",
    "    k_means = KMeans(n_clusters=k)\n",
    "    k_means.fit(X)\n",
    "    distorsions.append(k_means.inertia_)\n",
    "fig = plt.figure(figsize=(15, 5))\n",
    "plt.plot(range(2, 20), distorsions)\n",
    "plt.grid(True)\n",
    "plt.title('Elbow curve')"
   ]
  },
  {
   "cell_type": "code",
   "execution_count": 11,
   "id": "ca746d52-f4f8-4892-9d6e-caf915b7ce26",
   "metadata": {
    "execution": {
     "iopub.execute_input": "2022-05-26T14:48:51.865350Z",
     "iopub.status.busy": "2022-05-26T14:48:51.865062Z",
     "iopub.status.idle": "2022-05-26T14:48:52.054253Z",
     "shell.execute_reply": "2022-05-26T14:48:52.053580Z",
     "shell.execute_reply.started": "2022-05-26T14:48:51.865322Z"
    }
   },
   "outputs": [
    {
     "data": {
      "image/png": "[encoded data removed]",
      "text/plain": [
       "<Figure size 432x288 with 1 Axes>"
      ]
     },
     "metadata": {
      "needs_background": "light"
     },
     "output_type": "display_data"
    }
   ],
   "source": [
    "# computing K-Means with K = 5 (5 clusters)\n",
    "centroids,_ = kmeans(data,5)\n",
    "# assign each sample to a cluster\n",
    "idx,_ = vq(data,centroids)\n",
    "# some plotting using numpy's logical indexing\n",
    "plot(data[idx==0,0],data[idx==0,1],'ob',\n",
    "     data[idx==1,0],data[idx==1,1],'oy',\n",
    "     data[idx==2,0],data[idx==2,1],'or',\n",
    "     data[idx==3,0],data[idx==3,1],'og',\n",
    "     data[idx==4,0],data[idx==4,1],'om')\n",
    "plot(centroids[:,0],centroids[:,1],'sg',markersize=8)\n",
    "show()"
   ]
  },
  {
   "cell_type": "code",
   "execution_count": 12,
   "id": "a8992caf-24ce-435e-a29b-ac629c77a6c5",
   "metadata": {
    "execution": {
     "iopub.execute_input": "2022-05-26T14:49:19.651533Z",
     "iopub.status.busy": "2022-05-26T14:49:19.651293Z",
     "iopub.status.idle": "2022-05-26T14:49:19.656961Z",
     "shell.execute_reply": "2022-05-26T14:49:19.656128Z",
     "shell.execute_reply.started": "2022-05-26T14:49:19.651509Z"
    }
   },
   "outputs": [
    {
     "name": "stdout",
     "output_type": "stream",
     "text": [
      "Returns       ENPH\n",
      "Volatility    ENPH\n",
      "dtype: object\n"
     ]
    }
   ],
   "source": [
    "#identify the outlier\n",
    "print(returns.idxmax())"
   ]
  },
  {
   "cell_type": "code",
   "execution_count": 14,
   "id": "acd7d3b6-152d-4d0a-b40b-a4e9420fcd86",
   "metadata": {
    "execution": {
     "iopub.execute_input": "2022-05-26T14:50:10.942150Z",
     "iopub.status.busy": "2022-05-26T14:50:10.941896Z",
     "iopub.status.idle": "2022-05-26T14:50:10.947033Z",
     "shell.execute_reply": "2022-05-26T14:50:10.946376Z",
     "shell.execute_reply.started": "2022-05-26T14:50:10.942127Z"
    },
    "tags": []
   },
   "outputs": [],
   "source": [
    "#drop the relevant stock from our data\n",
    "returns.drop('ENPH',inplace=True)\n",
    "#recreate data to feed into the algorithm\n",
    "data = np.asarray([np.asarray(returns['Returns']),np.asarray(returns['Volatility'])]).T"
   ]
  },
  {
   "cell_type": "markdown",
   "id": "1d7bb7d5-c9dd-4647-b485-7bf3bf6d3576",
   "metadata": {},
   "source": [
    "## Model"
   ]
  },
  {
   "cell_type": "code",
   "execution_count": 15,
   "id": "0d7e89b2-26a4-468f-8d5b-333bd3c471cc",
   "metadata": {
    "execution": {
     "iopub.execute_input": "2022-05-26T14:50:43.278035Z",
     "iopub.status.busy": "2022-05-26T14:50:43.277795Z",
     "iopub.status.idle": "2022-05-26T14:50:43.433310Z",
     "shell.execute_reply": "2022-05-26T14:50:43.428346Z",
     "shell.execute_reply.started": "2022-05-26T14:50:43.278012Z"
    }
   },
   "outputs": [
    {
     "data": {
      "image/png": "[encoded data removed]",
      "text/plain": [
       "<Figure size 432x288 with 1 Axes>"
      ]
     },
     "metadata": {
      "needs_background": "light"
     },
     "output_type": "display_data"
    }
   ],
   "source": [
    "# computing K-Means with K = 5 (5 clusters)\n",
    "centroids,_ = kmeans(data,5)\n",
    "# assign each sample to a cluster\n",
    "idx,_ = vq(data,centroids)\n",
    "# some plotting using numpy's logical indexing\n",
    "plot(data[idx==0,0],data[idx==0,1],'ob',\n",
    "     data[idx==1,0],data[idx==1,1],'oy',\n",
    "     data[idx==2,0],data[idx==2,1],'or',\n",
    "     data[idx==3,0],data[idx==3,1],'og',\n",
    "     data[idx==4,0],data[idx==4,1],'om')\n",
    "plot(centroids[:,0],centroids[:,1],'sg',markersize=8)\n",
    "show()"
   ]
  },
  {
   "cell_type": "markdown",
   "id": "7b1d190a-0361-4afb-998f-2ecb94c13964",
   "metadata": {
    "execution": {
     "iopub.execute_input": "2021-07-02T23:32:10.789097Z",
     "iopub.status.busy": "2021-07-02T23:32:10.788829Z",
     "iopub.status.idle": "2021-07-02T23:32:10.796900Z",
     "shell.execute_reply": "2021-07-02T23:32:10.796358Z",
     "shell.execute_reply.started": "2021-07-02T23:32:10.789033Z"
    }
   },
   "source": [
    "## Output"
   ]
  },
  {
   "cell_type": "code",
   "execution_count": 16,
   "id": "4f5a0929-a534-43db-8e05-576ab94374f4",
   "metadata": {
    "execution": {
     "iopub.execute_input": "2022-05-26T14:51:05.727020Z",
     "iopub.status.busy": "2022-05-26T14:51:05.726793Z",
     "iopub.status.idle": "2022-05-26T14:51:05.760577Z",
     "shell.execute_reply": "2022-05-26T14:51:05.759988Z",
     "shell.execute_reply.started": "2022-05-26T14:51:05.726998Z"
    }
   },
   "outputs": [
    {
     "name": "stdout",
     "output_type": "stream",
     "text": [
      "('MMM', 4)\n",
      "('AOS', 1)\n",
      "('ABT', 1)\n",
      "('ABBV', 3)\n",
      "('ABMD', 2)\n",
      "('ACN', 1)\n",
      "('ATVI', 3)\n",
      "('ADM', 1)\n",
      "('ADBE', 3)\n",
      "('ADP', 1)\n",
      "('AAP', 0)\n",
      "('AES', 0)\n",
      "('AFL', 1)\n",
      "('A', 1)\n",
      "('AIG', 0)\n",
      "('APD', 1)\n",
      "('AKAM', 0)\n",
      "('ALK', 0)\n",
      "('ALB', 3)\n",
      "('ARE', 4)\n",
      "('ALGN', 2)\n",
      "('ALLE', 4)\n",
      "('LNT', 1)\n",
      "('ALL', 1)\n",
      "('GOOGL', 3)\n",
      "('GOOG', 3)\n",
      "('MO', 4)\n",
      "('AMZN', 3)\n",
      "('AMCR', 4)\n",
      "('AMD', 2)\n",
      "('AEE', 1)\n",
      "('AAL', 2)\n",
      "('AEP', 1)\n",
      "('AXP', 0)\n",
      "('AMT', 1)\n",
      "('AWK', 1)\n",
      "('AMP', 3)\n",
      "('ABC', 1)\n",
      "('AME', 1)\n",
      "('AMGN', 1)\n",
      "('APH', 1)\n",
      "('ADI', 3)\n",
      "('ANSS', 1)\n",
      "('ANTM', 3)\n",
      "('AON', 1)\n",
      "('APA', 2)\n",
      "('AAPL', 3)\n",
      "('AMAT', 2)\n",
      "('APTV', 3)\n",
      "('ANET', 2)\n",
      "('AIZ', 1)\n",
      "('T', 4)\n",
      "('ATO', 1)\n",
      "('ADSK', 3)\n",
      "('AZO', 1)\n",
      "('AVB', 4)\n",
      "('AVY', 3)\n",
      "('BKR', 0)\n",
      "('BALL', 1)\n",
      "('BAC', 3)\n",
      "('BBWI', 2)\n",
      "('BAX', 4)\n",
      "('BDX', 1)\n",
      "('WRB', 1)\n",
      "('BBY', 2)\n",
      "('BIO', 1)\n",
      "('TECH', 1)\n",
      "('BIIB', 0)\n",
      "('BLK', 1)\n",
      "('BK', 4)\n",
      "('BA', 0)\n",
      "('BKNG', 0)\n",
      "('BWA', 0)\n",
      "('BXP', 4)\n",
      "('BSX', 3)\n",
      "('BMY', 4)\n",
      "('AVGO', 2)\n",
      "('BR', 1)\n",
      "('BRO', 1)\n",
      "('CHRW', 4)\n",
      "('CDNS', 3)\n",
      "('CZR', 2)\n",
      "('CPT', 4)\n",
      "('CPB', 4)\n",
      "('COF', 0)\n",
      "('CAH', 4)\n",
      "('KMX', 0)\n",
      "('CCL', 0)\n",
      "('CARR', 1)\n",
      "('CTLT', 3)\n",
      "('CAT', 1)\n",
      "('CBOE', 1)\n",
      "('CBRE', 3)\n",
      "('CDW', 3)\n",
      "('CE', 3)\n",
      "('CNC', 3)\n",
      "('CNP', 4)\n",
      "('CDAY', 0)\n",
      "('CERN', 4)\n",
      "('CF', 0)\n",
      "('CRL', 3)\n",
      "('SCHW', 3)\n",
      "('CHTR', 3)\n",
      "('CVX', 4)\n",
      "('CMG', 0)\n",
      "('CB', 1)\n",
      "('CHD', 1)\n",
      "('CI', 3)\n",
      "('CINF', 1)\n",
      "('CTAS', 3)\n",
      "('CSCO', 1)\n",
      "('C', 0)\n",
      "('CFG', 0)\n",
      "('CTXS', 4)\n",
      "('CLX', 4)\n",
      "('CME', 1)\n",
      "('CMS', 1)\n",
      "('KO', 4)\n",
      "('CTSH', 0)\n",
      "('CL', 4)\n",
      "('CMCSA', 1)\n",
      "('CMA', 0)\n",
      "('CAG', 4)\n",
      "('COP', 0)\n",
      "('ED', 4)\n",
      "('STZ', 3)\n",
      "('CEG', 4)\n",
      "('COO', 1)\n",
      "('CPRT', 3)\n",
      "('GLW', 1)\n",
      "('CTVA', 4)\n",
      "('COST', 1)\n",
      "('CTRA', 0)\n",
      "('CCI', 1)\n",
      "('CSX', 1)\n",
      "('CMI', 1)\n",
      "('CVS', 4)\n",
      "('DHI', 3)\n",
      "('DHR', 1)\n",
      "('DRI', 0)\n",
      "('DVA', 4)\n",
      "('DE', 3)\n",
      "('DAL', 2)\n",
      "('XRAY', 4)\n",
      "('DVN', 2)\n",
      "('DXCM', 2)\n",
      "('FANG', 2)\n",
      "('DLR', 4)\n",
      "('DFS', 0)\n",
      "('DISH', 0)\n",
      "('DIS', 4)\n",
      "('DG', 1)\n",
      "('DLTR', 0)\n",
      "('D', 4)\n",
      "('DPZ', 3)\n",
      "('DOV', 1)\n",
      "('DOW', 4)\n",
      "('DTE', 1)\n",
      "('DUK', 4)\n",
      "('DRE', 1)\n",
      "('DD', 0)\n",
      "('DXC', 2)\n",
      "('EMN', 0)\n",
      "('ETN', 1)\n",
      "('EBAY', 0)\n",
      "('ECL', 4)\n",
      "('EIX', 4)\n",
      "('EW', 3)\n",
      "('EA', 3)\n",
      "('EMR', 4)\n",
      "('ETR', 4)\n",
      "('EOG', 0)\n",
      "('EPAM', 2)\n",
      "('EFX', 1)\n",
      "('EQIX', 1)\n",
      "('EQR', 4)\n",
      "('ESS', 4)\n",
      "('EL', 1)\n",
      "('ETSY', 2)\n",
      "('RE', 1)\n",
      "('EVRG', 1)\n",
      "('ES', 4)\n",
      "('EXC', 4)\n",
      "('EXPE', 2)\n",
      "('EXPD', 1)\n",
      "('EXR', 1)\n",
      "('XOM', 4)\n",
      "('FFIV', 0)\n",
      "('FDS', 1)\n",
      "('FAST', 1)\n",
      "('FRT', 4)\n",
      "('FDX', 0)\n",
      "('FITB', 0)\n",
      "('FRC', 1)\n",
      "('FE', 4)\n",
      "('FIS', 1)\n",
      "('FISV', 1)\n",
      "('FLT', 3)\n",
      "('FMC', 0)\n",
      "('F', 0)\n",
      "('FTNT', 2)\n",
      "('FTV', 4)\n",
      "('FBHS', 0)\n",
      "('FOXA', 4)\n",
      "('FOX', 4)\n",
      "('BEN', 4)\n",
      "('FCX', 2)\n",
      "('AJG', 1)\n",
      "('GRMN', 1)\n",
      "('IT', 3)\n",
      "('GE', 4)\n",
      "('GNRC', 2)\n",
      "('GD', 1)\n",
      "('GIS', 4)\n",
      "('GPC', 4)\n",
      "('GILD', 1)\n",
      "('GL', 4)\n",
      "('GPN', 3)\n",
      "('GM', 0)\n",
      "('GS', 1)\n",
      "('GWW', 1)\n",
      "('HAL', 0)\n",
      "('HIG', 3)\n",
      "('HAS', 0)\n",
      "('HCA', 3)\n",
      "('PEAK', 4)\n",
      "('HSIC', 4)\n",
      "('HSY', 1)\n",
      "('HES', 2)\n",
      "('HPE', 4)\n",
      "('HLT', 1)\n",
      "('HOLX', 1)\n",
      "('HD', 1)\n",
      "('HON', 1)\n",
      "('HRL', 1)\n",
      "('HST', 0)\n",
      "('HWM', 0)\n",
      "('HPQ', 3)\n",
      "('HUM', 3)\n",
      "('HII', 3)\n",
      "('HBAN', 0)\n",
      "('IEX', 1)\n",
      "('IDXX', 3)\n",
      "('ITW', 1)\n",
      "('ILMN', 2)\n",
      "('INCY', 2)\n",
      "('IR', 4)\n",
      "('INTC', 0)\n",
      "('ICE', 1)\n",
      "('IBM', 4)\n",
      "('IP', 4)\n",
      "('IPG', 0)\n",
      "('IFF', 1)\n",
      "('INTU', 3)\n",
      "('ISRG', 0)\n",
      "('IVZ', 0)\n",
      "('IPGP', 0)\n",
      "('IQV', 1)\n",
      "('IRM', 1)\n",
      "('JBHT', 1)\n",
      "('JKHY', 1)\n",
      "('J', 1)\n",
      "('JNJ', 4)\n",
      "('JCI', 4)\n",
      "('JPM', 1)\n",
      "('JNPR', 0)\n",
      "('K', 4)\n",
      "('KEY', 0)\n",
      "('KEYS', 1)\n",
      "('KMB', 4)\n",
      "('KIM', 0)\n",
      "('KMI', 4)\n",
      "('KLAC', 3)\n",
      "('KHC', 4)\n",
      "('KR', 3)\n",
      "('LHX', 1)\n",
      "('LH', 4)\n",
      "('LRCX', 2)\n",
      "('LW', 4)\n",
      "('LVS', 0)\n",
      "('LDOS', 3)\n",
      "('LEN', 0)\n",
      "('LLY', 3)\n",
      "('LNC', 2)\n",
      "('LIN', 1)\n",
      "('LYV', 2)\n",
      "('LKQ', 0)\n",
      "('LMT', 1)\n",
      "('L', 4)\n",
      "('LOW', 3)\n",
      "('LUMN', 0)\n",
      "('LYB', 0)\n",
      "('MTB', 0)\n",
      "('MRO', 2)\n",
      "('MPC', 2)\n",
      "('MKTX', 3)\n",
      "('MAR', 3)\n",
      "('MMC', 1)\n",
      "('MLM', 3)\n",
      "('MAS', 3)\n",
      "('MA', 3)\n",
      "('MTCH', 2)\n",
      "('MKC', 1)\n",
      "('MCD', 1)\n",
      "('MCK', 1)\n",
      "('MDT', 4)\n",
      "('MRK', 4)\n",
      "('FB', 2)\n",
      "('MET', 0)\n",
      "('MTD', 3)\n",
      "('MGM', 2)\n",
      "('MCHP', 3)\n",
      "('MU', 2)\n",
      "('MSFT', 3)\n",
      "('MAA', 1)\n",
      "('MRNA', 2)\n",
      "('MHK', 0)\n",
      "('MOH', 2)\n",
      "('TAP', 4)\n",
      "('MDLZ', 4)\n",
      "('MPWR', 2)\n",
      "('MNST', 0)\n",
      "('MCO', 3)\n",
      "('MS', 3)\n",
      "('MOS', 0)\n",
      "('MSI', 1)\n",
      "('MSCI', 3)\n",
      "('NDAQ', 1)\n",
      "('NTAP', 0)\n"
     ]
    }
   ],
   "source": [
    "details = [(name,cluster) for name, cluster in zip(returns.index,idx)]\n",
    "for detail in details:\n",
    "    print(detail)"
   ]
  },
  {
   "cell_type": "markdown",
   "id": "890f7c86-b7bb-4f5d-9a1b-e492dd9580fd",
   "metadata": {},
   "source": [
    "### Save result in csv"
   ]
  },
  {
   "cell_type": "code",
   "execution_count": null,
   "id": "9c4e3b7b-6440-4844-8054-265f1aec65eb",
   "metadata": {},
   "outputs": [],
   "source": [
    "df.to_csv(csv_output, index=False)"
   ]
  },
  {
   "cell_type": "markdown",
   "id": "a28950bb-1d7d-4835-a83a-faac837ebc7c",
   "metadata": {},
   "source": [
    "### Share your output with naas"
   ]
  },
  {
   "cell_type": "code",
   "execution_count": null,
   "id": "db205965-a2dc-4541-ba8e-db3250d1cff0",
   "metadata": {},
   "outputs": [],
   "source": [
    "naas.asset.add(csv_output)\n",
    "\n",
    "#-> Uncomment the line below to remove your asset\n",
    "# naas.asset.delete()"
   ]
  }
 ],
 "metadata": {
  "kernelspec": {
   "display_name": "Python 3",
   "language": "python",
   "name": "python3"
  },
  "language_info": {
   "codemirror_mode": {
    "name": "ipython",
    "version": 3
   },
   "file_extension": ".py",
   "mimetype": "text/x-python",
   "name": "python",
   "nbconvert_exporter": "python",
   "pygments_lexer": "ipython3",
   "version": "3.9.6"
  },
  "papermill": {
   "default_parameters": {},
   "environment_variables": {},
   "parameters": {},
   "version": "2.3.3"
  },
  "widgets": {
   "application/vnd.jupyter.widget-state+json": {
    "state": {},
    "version_major": 2,
    "version_minor": 0
   }
  }
 },
 "nbformat": 4,
 "nbformat_minor": 5
}
