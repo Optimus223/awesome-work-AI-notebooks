{
 "cells": [
  {
   "cell_type": "markdown",
   "id": "c0ec89c0-b884-475f-a62e-bc25dab1a2f7",
   "metadata": {
    "papermill": {},
    "tags": []
   },
   "source": [
    "<img width=\"10%\" alt=\"Naas\" src=\"https://landen.imgix.net/jtci2pxwjczr/assets/5ice39g4.png?w=160\"/>"
   ]
  },
  {
   "cell_type": "markdown",
   "id": "77bb4c89-3f34-40d9-8a18-2e4586aa7b02",
   "metadata": {
    "papermill": {},
    "tags": []
   },
   "source": [
    "# YahooFinance - Chat about a stock trend"
   ]
  },
  {
   "cell_type": "markdown",
   "id": "c68b28b2-116a-4f2f-bedd-713edca2ec8b",
   "metadata": {
    "papermill": {},
    "tags": []
   },
   "source": [
    "**Tags:** #yahoo #finance #ai #chat #plugin #python"
   ]
  },
  {
   "cell_type": "markdown",
   "id": "15e9cf9f-0dc1-4abc-903e-a1003c31e456",
   "metadata": {
    "papermill": {},
    "tags": []
   },
   "source": [
    "**Author:** [Florent Ravenel](https://www.linkedin.com/in/florent-ravenel/)"
   ]
  },
  {
   "cell_type": "markdown",
   "id": "0d2e9eda-f805-4aa1-b756-8e6e536e27fe",
   "metadata": {
    "papermill": {},
    "tags": []
   },
   "source": [
    "**Description:** This notebook will generate an AI powered chat plugin for YahooFinance. It will use Python to access the YahooFinance API and create a plugin that can be used to answer questions about stocks and financial markets."
   ]
  },
  {
   "cell_type": "markdown",
   "id": "2e45f4ce-fc8c-4b6d-bb2b-404484fde43c",
   "metadata": {
    "papermill": {},
    "tags": []
   },
   "source": [
    "**References:**\n",
    "- [YahooFinance API Documentation](https://developer.yahoo.com/finance/)\n",
    "- [Python Library for YahooFinance API](https://pypi.org/project/yahoo-finance/)"
   ]
  },
  {
   "cell_type": "markdown",
   "id": "3da17f95-c769-46f1-b34f-f8fda84e6098",
   "metadata": {
    "papermill": {},
    "tags": []
   },
   "source": [
    "## Input"
   ]
  },
  {
   "cell_type": "markdown",
   "id": "0856ec3b-248c-4c26-81f3-fc140ce9bff8",
   "metadata": {
    "papermill": {},
    "tags": []
   },
   "source": [
    "### Import libraries"
   ]
  },
  {
   "cell_type": "code",
   "execution_count": null,
   "id": "94753337-d3cd-4af5-85aa-8c85b98fc758",
   "metadata": {
    "papermill": {},
    "tags": []
   },
   "outputs": [],
   "source": [
    "from naas_drivers import yahoofinance\n",
    "import os\n",
    "from datetime import datetime\n",
    "import naas\n",
    "import json"
   ]
  },
  {
   "cell_type": "markdown",
   "id": "1398dcb3-0819-49de-b93b-872f1e95e867",
   "metadata": {
    "papermill": {},
    "tags": []
   },
   "source": [
    "### Setup Variables\n",
    "- `ticker`: This is a string variable that represents the unique symbol assigned to a particular stock for trading purposes.\n",
    "- `date_from`: This variable represents the starting date for data retrieval. The type and value of this variable can vary depending on the context.\n",
    "- `date_to`: This variable represents the end date for data retrieval. The type and value of this variable can vary depending on the context.\n",
    "- `interval`: This is a string variable that represents the frequency of data points in the time series data.\n",
    "- `moving_averages`: This is a list that contains the periods for which moving averages should be calculated in the time series data.\n",
    "- `cron`: This is a string variable representing a cron expression, which is used to schedule tasks in Unix-like operating systems. The\n",
    "- `output_dir`: This variable stores the directory path where the output files will be saved.\n",
    "- `file_name`: This variable stores the file name in CSV."
   ]
  },
  {
   "cell_type": "code",
   "execution_count": null,
   "id": "20a1d095-2521-40b0-ad81-90badf2bc01e",
   "metadata": {
    "papermill": {},
    "tags": []
   },
   "outputs": [],
   "source": [
    "# Inputs\n",
    "ticker = \"TSLA\"\n",
    "date_from = -100\n",
    "date_to = \"today\"\n",
    "interval = \"1d\"\n",
    "moving_averages = [20, 50]\n",
    "cron = \"0 8 * * *\"\n",
    "\n",
    "# Outputs\n",
    "output_dir = f\"yahoo/ticker/{ticker}\"\n",
    "file_name = f\"{ticker}.csv\""
   ]
  },
  {
   "cell_type": "markdown",
   "id": "636abfcc-4d88-468f-90a7-635d5b38d1a4",
   "metadata": {
    "papermill": {},
    "tags": []
   },
   "source": [
    "## Model"
   ]
  },
  {
   "cell_type": "markdown",
   "id": "3b3fbc8d-fd0b-4951-9699-4bad252460a5",
   "metadata": {},
   "source": [
    "### Create output file path\n",
    "The output will be saved in CSV in the output_dir with datestamp"
   ]
  },
  {
   "cell_type": "code",
   "execution_count": null,
   "id": "9c5f059b-5f57-45fb-8ffc-f877b33acd0a",
   "metadata": {
    "tags": []
   },
   "outputs": [],
   "source": [
    "def create_file_path(output_dir, file_name):\n",
    "    # Init\n",
    "    file_path = \"\"\n",
    "    \n",
    "    # Create output directories\n",
    "    if not os.path.exists(output_dir):\n",
    "        os.makedirs(output_dir)\n",
    "        \n",
    "    # Create file path with datestamp\n",
    "    today = datetime.now().strftime(\"%Y%m%d\")\n",
    "    file_path = f\"{output_dir}/{today}_{file_name}\"\n",
    "    return file_path\n",
    "\n",
    "file_path = create_file_path(output_dir, file_name)\n",
    "print(\"💾 File will be saved in:\", file_path)"
   ]
  },
  {
   "cell_type": "markdown",
   "id": "d5525d84-44dc-4a13-84b3-2404174352cb",
   "metadata": {
    "papermill": {},
    "tags": []
   },
   "source": [
    "### Get dataset from Yahoo Finance"
   ]
  },
  {
   "cell_type": "code",
   "execution_count": null,
   "id": "55b28f3e-fac4-48fb-b64f-2028442c417f",
   "metadata": {
    "papermill": {},
    "tags": []
   },
   "outputs": [],
   "source": [
    "df = yahoofinance.get(\n",
    "    ticker,\n",
    "    date_from=date_from,\n",
    "    date_to=date_to,\n",
    "    interval=interval,\n",
    "    moving_averages=moving_averages,\n",
    ")\n",
    "df"
   ]
  },
  {
   "cell_type": "markdown",
   "id": "352289f8-d6e9-4f47-9f80-cf5206a11020",
   "metadata": {
    "papermill": {},
    "tags": []
   },
   "source": [
    "### Create prompt for plugin\n",
    "We used Playground to refined it: https://platform.openai.com/playground?mode=chat&model=gpt-4"
   ]
  },
  {
   "cell_type": "code",
   "execution_count": null,
   "id": "62ec666c-73fa-4683-831b-4aa4254de9da",
   "metadata": {
    "papermill": {},
    "tags": []
   },
   "outputs": [],
   "source": [
    "prompt = f\"\"\"\n",
    "You are Abi trader in the NY Stock Exchange. You want to analyze the stock of {ticker} and identity when I need to buy or sell, what's the currents stock trend and\n",
    "when did the 20MA crossed the 50MA?\n",
    "\n",
    "DataFrame Structure:\n",
    "- Number of rows: {df.shape[0]}\n",
    "- Number of columns: {df.shape[1]}\n",
    "\n",
    "Column Names:\n",
    "1. Date: This column represents the date corresponding to the ticker data. It typically includes daily timestamps or dates on which the data was recorded.\n",
    "2. Open: The \"Open\" column indicates the opening price of the stock or security on a particular trading day. It represents the price at which the market first started trading the security during that day.\n",
    "3. High: The \"High\" column represents the highest price reached by the stock or security during the trading day.\n",
    "4. Low: The \"Low\" column indicates the lowest price reached by the stock or security during the trading day.\n",
    "5. Close: The \"Close\" column represents the closing price of the stock or security on a particular trading day. It denotes the final price at which the market traded the security before the day's trading session ended.\n",
    "6. Adj Close: The \"Adj Close\" column refers to the adjusted closing price of the stock or security. It takes into account factors such as dividends, stock splits, or other corporate actions that may affect the stock price.\n",
    "7. Volume: The \"Volume\" column represents the total number of shares or units of the security that were traded during a specific trading day.\n",
    "8. Ticker: The \"Ticker\" column identifies the ticker symbol or code assigned to a specific stock or security. It serves as a unique identifier for the financial instrument being traded.\n",
    "9. MA20: The \"MA20\" column refers to the Moving Average (MA) over a 20-day period. It is a commonly used technical indicator that calculates the average price of the security over the specified time frame, in this case, 20 days.\n",
    "10. MA50: The \"MA50\" column represents the Moving Average (MA) over a 50-day period. Similar to the MA20, it calculates the average price of the security over a longer time frame of 50 days.\n",
    "\n",
    "Sample Data:\n",
    "{df.to_string(index=False)}\n",
    "\"\"\"\n",
    "prompt"
   ]
  },
  {
   "cell_type": "markdown",
   "id": "2c82602e-37d3-4873-9b0c-6b64f7c9dbd8",
   "metadata": {
    "papermill": {},
    "tags": []
   },
   "source": [
    "### Create MyChatGPT plugin\n",
    "- `name`: It represents the name of the plugin, which in this case is \"LinkedIn chat posts\".\n",
    "- `model`: It specifies the model to be used by the plugin, and in this case, it is \"gpt-4\".\n",
    "- `temperature`: It determines the creativity level of the generated content, with higher values resulting in more diverse outputs. In this case, the temperature is set to 1.\n",
    "- `max_tokens`: It sets the maximum number of tokens allowed in the generated content. In this case, the limit is set to 2084 tokens.\n",
    "- `prompt`: Prompt used in your plugin"
   ]
  },
  {
   "cell_type": "code",
   "execution_count": null,
   "id": "b10fa340-feaf-4158-a731-387387275bd4",
   "metadata": {
    "papermill": {},
    "tags": []
   },
   "outputs": [],
   "source": [
    "def create_plugin(\n",
    "    name,\n",
    "    model,\n",
    "    temperature,\n",
    "    max_tokens,\n",
    "    prompt,\n",
    "    output_dir\n",
    "):\n",
    "    # Init\n",
    "    file_path = \"\"\n",
    "    plugin_name = \"linkedin_posts_analyzer.json\"\n",
    "    \n",
    "    # Create output directories\n",
    "    if not os.path.exists(output_dir):\n",
    "        os.makedirs(output_dir)\n",
    "        \n",
    "    # Create file path\n",
    "    file_path = f\"{output_dir}/{plugin_name}\"\n",
    "        \n",
    "    # Create json\n",
    "    plugin = {\n",
    "        \"name\": name,\n",
    "        \"model\": model,\n",
    "        \"temperature\": temperature,\n",
    "        \"max_tokens\": max_tokens,\n",
    "        \"prompt\": prompt,\n",
    "    }\n",
    "\n",
    "    # Save json to file\n",
    "    with open(file_path, \"w\") as f:\n",
    "        json.dump(plugin, f)\n",
    "    return file_path\n",
    "\n",
    "name = \"Yahoo Abi trader\"\n",
    "model = \"gpt-4\"\n",
    "temperature = 1\n",
    "max_tokens = 2084\n",
    "plugin_path = create_plugin(\n",
    "    name,\n",
    "    model,\n",
    "    temperature,\n",
    "    max_tokens,\n",
    "    prompt,\n",
    "    output_dir,\n",
    ")\n",
    "print(\"✅ Plugin path:\", plugin_path)"
   ]
  },
  {
   "cell_type": "markdown",
   "id": "4b385d75-9262-4c0d-bb49-3f22aa296a56",
   "metadata": {
    "papermill": {},
    "tags": []
   },
   "source": [
    "## Output"
   ]
  },
  {
   "cell_type": "markdown",
   "id": "20f1a906-2a0e-4790-ba7d-96e19f171cb0",
   "metadata": {},
   "source": [
    "### Save YahooFinance data"
   ]
  },
  {
   "cell_type": "code",
   "execution_count": null,
   "id": "a5a532bb-5819-47bd-b7fe-df879d32469c",
   "metadata": {
    "tags": []
   },
   "outputs": [],
   "source": [
    "df.to_csv(file_path, index=False)"
   ]
  },
  {
   "cell_type": "markdown",
   "id": "a248b829-73f1-42ef-932c-e1bc17c6a43b",
   "metadata": {},
   "source": [
    "### Save plugin in naas asset\n",
    "You can now use in your MyChatGPT by copy/pasting the URL after the command `/use `"
   ]
  },
  {
   "cell_type": "code",
   "execution_count": null,
   "id": "a3bfce89-93c1-4831-ad38-90d84c45164f",
   "metadata": {
    "tags": []
   },
   "outputs": [],
   "source": [
    "naas.asset.add(plugin_path, params={\"inline\": True})"
   ]
  },
  {
   "cell_type": "markdown",
   "id": "1f3e4618-f11e-4998-aa1c-42587f373c7f",
   "metadata": {
    "papermill": {},
    "tags": []
   },
   "source": [
    "### Add Naas scheduler\n",
    "Schedule your notebook with the naas scheduler feature"
   ]
  },
  {
   "cell_type": "code",
   "execution_count": null,
   "id": "96071cb0-f5a5-4d6b-8b60-218892369635",
   "metadata": {
    "papermill": {},
    "tags": []
   },
   "outputs": [],
   "source": [
    "naas.scheduler.add(cron=cron)\n",
    "\n",
    "# to de-schedule this notebook, simply run the following command:\n",
    "# naas.scheduler.delete()"
   ]
  }
 ],
 "metadata": {
  "kernelspec": {
   "display_name": "Python 3",
   "language": "python",
   "name": "python3"
  },
  "language_info": {
   "codemirror_mode": {
    "name": "ipython",
    "version": 3
   },
   "file_extension": ".py",
   "mimetype": "text/x-python",
   "name": "python",
   "nbconvert_exporter": "python",
   "pygments_lexer": "ipython3",
   "version": "3.9.6"
  },
  "widgets": {
   "application/vnd.jupyter.widget-state+json": {
    "state": {},
    "version_major": 2,
    "version_minor": 0
   }
  }
 },
 "nbformat": 4,
 "nbformat_minor": 5
}
