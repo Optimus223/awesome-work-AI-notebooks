{
 "cells": [
  {
   "cell_type": "markdown",
   "id": "descending-grammar",
   "metadata": {
    "papermill": {},
    "tags": []
   },
   "source": [
    "# YahooFinance - Send daily prediction to Slack\n",
    "<a href=\"https://app.naas.ai/user-redirect/naas/downloader?url=https://raw.githubusercontent.com/jupyter-naas/awesome-notebooks/master/YahooFinance/YahooFinance_Send_daily_prediction_to_Slack.ipynb\" target=\"_parent\"><img src=\"https://img.shields.io/badge/-Open%20in%20Naas-success?labelColor=000000&logo=data:image/svg+xml;base64,PD94bWwgdmVyc2lvbj0iMS4wIiBlbmNvZGluZz0iVVRGLTgiPz4KPHN2ZyB3aWR0aD0iMTAyNHB4IiBoZWlnaHQ9IjEwMjRweCIgdmlld0JveD0iMCAwIDEwMjQgMTAyNCIgeG1sbnM9Imh0dHA6Ly93d3cudzMub3JnLzIwMDAvc3ZnIiB4bWxuczp4bGluaz0iaHR0cDovL3d3dy53My5vcmcvMTk5OS94bGluayIgdmVyc2lvbj0iMS4xIj4KIDwhLS0gR2VuZXJhdGVkIGJ5IFBpeGVsbWF0b3IgUHJvIDIuMC41IC0tPgogPGRlZnM+CiAgPHRleHQgaWQ9InN0cmluZyIgdHJhbnNmb3JtPSJtYXRyaXgoMS4wIDAuMCAwLjAgMS4wIDIyOC4wIDU0LjUpIiBmb250LWZhbWlseT0iQ29tZm9ydGFhLVJlZ3VsYXIsIENvbWZvcnRhYSIgZm9udC1zaXplPSI4MDAiIHRleHQtZGVjb3JhdGlvbj0ibm9uZSIgZmlsbD0iI2ZmZmZmZiIgeD0iMS4xOTk5OTk5OTk5OTk5ODg2IiB5PSI3MDUuMCI+bjwvdGV4dD4KIDwvZGVmcz4KIDx1c2UgaWQ9Im4iIHhsaW5rOmhyZWY9IiNzdHJpbmciLz4KPC9zdmc+Cg==\"/></a>"
   ]
  },
  {
   "cell_type": "markdown",
   "id": "ab5df5ad-5852-4526-af4b-b2958d158274",
   "metadata": {
    "papermill": {},
    "tags": []
   },
   "source": [
    "**Tags:** #yahoofinance #trading #markdown #prediction #plotly #slack #naas_drivers #scheduler #asset #dependency #naas"
   ]
  },
  {
   "cell_type": "markdown",
   "id": "solid-substance",
   "metadata": {
    "execution": {
     "iopub.execute_input": "2021-05-05T18:38:30.568241Z",
     "iopub.status.busy": "2021-05-05T18:38:30.567916Z",
     "iopub.status.idle": "2021-05-05T18:38:30.578313Z",
     "shell.execute_reply": "2021-05-05T18:38:30.577374Z",
     "shell.execute_reply.started": "2021-05-05T18:38:30.568205Z"
    },
    "papermill": {},
    "tags": []
   },
   "source": [
    "With this template, you can create daily Slack prediction bot on any ticker available in YahooFinance.<br> "
   ]
  },
  {
   "cell_type": "markdown",
   "id": "d17064b3-00b5-4d71-96ba-38c6af450919",
   "metadata": {
    "papermill": {},
    "tags": []
   },
   "source": [
    "## Input"
   ]
  },
  {
   "cell_type": "markdown",
   "id": "1d8f5e20-bcfc-4ceb-83ad-0856868327a0",
   "metadata": {
    "papermill": {},
    "tags": []
   },
   "source": [
    "### Import libraries"
   ]
  },
  {
   "cell_type": "code",
   "execution_count": null,
   "id": "fd368ba3-fc40-46db-af1d-a62d11573923",
   "metadata": {
    "papermill": {},
    "tags": []
   },
   "outputs": [],
   "source": [
    "import naas\n",
    "from naas_drivers import prediction, yahoofinance, plotly, slack\n",
    "import markdown2"
   ]
  },
  {
   "cell_type": "markdown",
   "id": "79126baa-2a38-4861-8130-66b4c4e13621",
   "metadata": {
    "papermill": {},
    "tags": []
   },
   "source": [
    "### Input ticker and dates"
   ]
  },
  {
   "cell_type": "code",
   "execution_count": null,
   "id": "exceptional-pearl",
   "metadata": {
    "papermill": {},
    "tags": []
   },
   "outputs": [],
   "source": [
    "ticker = \"ABNB\"\n",
    "date_from = -900 # 1OO days max to feed the naas_driver for prediction\n",
    "date_to = \"today\"\n",
    "data_point = 20"
   ]
  },
  {
   "cell_type": "markdown",
   "id": "2b47f7bc-bed5-47b0-bfc0-0b42322333ee",
   "metadata": {
    "papermill": {},
    "tags": []
   },
   "source": [
    "### Input Slack token and channel"
   ]
  },
  {
   "cell_type": "code",
   "execution_count": null,
   "id": "16345359-e4ae-4d19-ad60-edcb72ccfb4e",
   "metadata": {
    "papermill": {},
    "tags": []
   },
   "outputs": [],
   "source": [
    "token = \"your_token_number\"\n",
    "channel = \"your_channel_name\""
   ]
  },
  {
   "cell_type": "markdown",
   "id": "0a1ad0db-97b3-4f84-a82e-517595d95f17",
   "metadata": {
    "papermill": {},
    "tags": []
   },
   "source": [
    "## Model"
   ]
  },
  {
   "cell_type": "markdown",
   "id": "manufactured-allocation",
   "metadata": {
    "papermill": {},
    "tags": []
   },
   "source": [
    "### Get the data from Yahoo Finance"
   ]
  },
  {
   "cell_type": "code",
   "execution_count": null,
   "id": "powered-ensemble",
   "metadata": {
    "papermill": {},
    "tags": []
   },
   "outputs": [],
   "source": [
    "df_yahoo = yahoofinance.get(ticker, date_from=date_from, date_to=date_to)\n",
    "\n",
    "# clean df\n",
    "df_yahoo = df_yahoo.dropna()\n",
    "df_yahoo.reset_index(drop=True)\n",
    "df_yahoo.head()"
   ]
  },
  {
   "cell_type": "markdown",
   "id": "9bf08bfc-bd3f-4d52-bacb-3a0e73ea4a21",
   "metadata": {
    "papermill": {},
    "tags": []
   },
   "source": [
    "### Make prediction chart"
   ]
  },
  {
   "cell_type": "markdown",
   "id": "ready-print",
   "metadata": {
    "papermill": {},
    "tags": []
   },
   "source": [
    "#### Predict datapoints"
   ]
  },
  {
   "cell_type": "code",
   "execution_count": null,
   "id": "inside-sponsorship",
   "metadata": {
    "papermill": {},
    "tags": []
   },
   "outputs": [],
   "source": [
    "df_predict = prediction.get(dataset=df_yahoo,\n",
    "                            date_column='Date',\n",
    "                            data_points=20,\n",
    "                            prediction_type=\"all\")"
   ]
  },
  {
   "cell_type": "code",
   "execution_count": null,
   "id": "under-bradford",
   "metadata": {
    "papermill": {},
    "tags": []
   },
   "outputs": [],
   "source": [
    "df_predict = df_predict.sort_values(\"Date\", ascending=False).reset_index(drop=True)\n",
    "df_predict.head(30)"
   ]
  },
  {
   "cell_type": "markdown",
   "id": "plastic-boards",
   "metadata": {
    "papermill": {},
    "tags": []
   },
   "source": [
    "#### Build chart"
   ]
  },
  {
   "cell_type": "code",
   "execution_count": null,
   "id": "pursuant-toyota",
   "metadata": {
    "papermill": {},
    "tags": []
   },
   "outputs": [],
   "source": [
    "chart = plotly.linechart(df_predict,\n",
    "                         x=\"Date\",\n",
    "                         y=[\"Close\", \"ARIMA\", \"SVR\", \"LINEAR\", \"COMPOUND\"],\n",
    "                         showlegend=True,\n",
    "                         title=f\"{ticker} predictions as of today, for next {data_point} days.\")"
   ]
  },
  {
   "cell_type": "markdown",
   "id": "moved-folder",
   "metadata": {
    "papermill": {},
    "tags": []
   },
   "source": [
    "#### Save as png and html"
   ]
  },
  {
   "cell_type": "code",
   "execution_count": null,
   "id": "amateur-optics",
   "metadata": {
    "papermill": {},
    "tags": []
   },
   "outputs": [],
   "source": [
    "chart.write_html(f\"{ticker}.html\")\n",
    "chart.write_image(f\"{ticker}.png\", width=1200)"
   ]
  },
  {
   "cell_type": "markdown",
   "id": "compatible-today",
   "metadata": {
    "papermill": {},
    "tags": []
   },
   "source": [
    "#### Expose chart"
   ]
  },
  {
   "cell_type": "code",
   "execution_count": null,
   "id": "helpful-attachment",
   "metadata": {
    "papermill": {},
    "tags": []
   },
   "outputs": [],
   "source": [
    "link_image = naas.asset.add(f\"{ticker}.png\")\n",
    "link_html = naas.asset.add(f\"{ticker}.html\", {\"inline\":True})"
   ]
  },
  {
   "cell_type": "markdown",
   "id": "organic-montana",
   "metadata": {
    "execution": {
     "iopub.execute_input": "2021-04-02T19:41:00.756597Z",
     "iopub.status.busy": "2021-04-02T19:41:00.756289Z",
     "iopub.status.idle": "2021-04-02T19:41:00.765290Z",
     "shell.execute_reply": "2021-04-02T19:41:00.764718Z",
     "shell.execute_reply.started": "2021-04-02T19:41:00.756562Z"
    },
    "papermill": {},
    "tags": []
   },
   "source": [
    "#### Display predicted values"
   ]
  },
  {
   "cell_type": "code",
   "execution_count": null,
   "id": "minor-ebony",
   "metadata": {
    "papermill": {},
    "tags": []
   },
   "outputs": [],
   "source": [
    "ARIMA = df_predict.loc[0, \"ARIMA\"]\n",
    "ARIMA = round(ARIMA, 1)\n",
    "ARIMA = \"${:,.2f}\".format(ARIMA)\n",
    "ARIMA"
   ]
  },
  {
   "cell_type": "code",
   "execution_count": null,
   "id": "economic-qualification",
   "metadata": {
    "papermill": {},
    "tags": []
   },
   "outputs": [],
   "source": [
    "SVR = df_predict.loc[0, \"SVR\"]\n",
    "SVR = round(SVR, 1)\n",
    "SVR = \"${:,.2f}\".format(SVR)\n",
    "SVR"
   ]
  },
  {
   "cell_type": "code",
   "execution_count": null,
   "id": "later-secret",
   "metadata": {
    "papermill": {},
    "tags": []
   },
   "outputs": [],
   "source": [
    "LINEAR = df_predict.loc[0, \"LINEAR\"]\n",
    "LINEAR = round(LINEAR, 1)\n",
    "LINEAR = \"${:,.2f}\".format(LINEAR)\n",
    "LINEAR"
   ]
  },
  {
   "cell_type": "code",
   "execution_count": null,
   "id": "opposed-breed",
   "metadata": {
    "papermill": {},
    "tags": []
   },
   "outputs": [],
   "source": [
    "COMPOUND = df_predict.loc[0, \"COMPOUND\"]\n",
    "COMPOUND = round(COMPOUND, 1)\n",
    "COMPOUND = \"${:,.2f}\".format(COMPOUND)\n",
    "COMPOUND"
   ]
  },
  {
   "cell_type": "markdown",
   "id": "qualified-abuse",
   "metadata": {
    "papermill": {},
    "tags": []
   },
   "source": [
    "### Calculate daily variations"
   ]
  },
  {
   "cell_type": "code",
   "execution_count": null,
   "id": "b7e88806-8772-4635-893e-797a4acfcbad",
   "metadata": {
    "papermill": {},
    "tags": []
   },
   "outputs": [],
   "source": [
    "df_yahoo = df_yahoo.sort_values(\"Date\", ascending=False).reset_index(drop=True)"
   ]
  },
  {
   "cell_type": "markdown",
   "id": "joint-brooklyn",
   "metadata": {
    "papermill": {},
    "tags": []
   },
   "source": [
    "#### Data now"
   ]
  },
  {
   "cell_type": "code",
   "execution_count": null,
   "id": "extensive-vintage",
   "metadata": {
    "papermill": {},
    "tags": []
   },
   "outputs": [],
   "source": [
    "DATA_NOW = df_yahoo.loc[0, \"Close\"]\n",
    "DATA_NOW"
   ]
  },
  {
   "cell_type": "markdown",
   "id": "nutritional-fundamentals",
   "metadata": {
    "execution": {
     "iopub.execute_input": "2021-03-25T11:37:06.092741Z",
     "iopub.status.busy": "2021-03-25T11:37:06.092458Z",
     "iopub.status.idle": "2021-03-25T11:37:06.095570Z",
     "shell.execute_reply": "2021-03-25T11:37:06.094961Z",
     "shell.execute_reply.started": "2021-03-25T11:37:06.092711Z"
    },
    "papermill": {},
    "tags": []
   },
   "source": [
    "#### Data yesterday"
   ]
  },
  {
   "cell_type": "code",
   "execution_count": null,
   "id": "distributed-omega",
   "metadata": {
    "papermill": {},
    "tags": []
   },
   "outputs": [],
   "source": [
    "DATA_YESTERDAY = df_yahoo.loc[1, \"Close\"]\n",
    "DATA_YESTERDAY"
   ]
  },
  {
   "cell_type": "markdown",
   "id": "muslim-james",
   "metadata": {
    "execution": {
     "iopub.execute_input": "2021-03-25T11:37:26.543780Z",
     "iopub.status.busy": "2021-03-25T11:37:26.543500Z",
     "iopub.status.idle": "2021-03-25T11:37:26.548833Z",
     "shell.execute_reply": "2021-03-25T11:37:26.548140Z",
     "shell.execute_reply.started": "2021-03-25T11:37:26.543752Z"
    },
    "papermill": {},
    "tags": []
   },
   "source": [
    "#### Calculate daily variations"
   ]
  },
  {
   "cell_type": "code",
   "execution_count": null,
   "id": "pediatric-credit",
   "metadata": {
    "papermill": {},
    "tags": []
   },
   "outputs": [],
   "source": [
    "VARV = DATA_NOW - DATA_YESTERDAY\n",
    "VARV = \"{:+,.2f}\".format(VARV)\n",
    "VARV"
   ]
  },
  {
   "cell_type": "code",
   "execution_count": null,
   "id": "imposed-jenny",
   "metadata": {
    "papermill": {},
    "tags": []
   },
   "outputs": [],
   "source": [
    "VARP = ((DATA_NOW - DATA_YESTERDAY) / DATA_NOW)*100\n",
    "VARP = \"{:+,.2f}\".format(VARP)\n",
    "VARP"
   ]
  },
  {
   "cell_type": "markdown",
   "id": "architectural-typing",
   "metadata": {
    "papermill": {},
    "tags": []
   },
   "source": [
    "#### Display current values"
   ]
  },
  {
   "cell_type": "code",
   "execution_count": null,
   "id": "palestinian-prince",
   "metadata": {
    "papermill": {},
    "tags": []
   },
   "outputs": [],
   "source": [
    "DATA_NOW = round(DATA_NOW, 1)\n",
    "DATA_NOW = \"${:,.2f}\".format(DATA_NOW)\n",
    "DATA_NOW"
   ]
  },
  {
   "cell_type": "code",
   "execution_count": null,
   "id": "alpine-economics",
   "metadata": {
    "papermill": {},
    "tags": []
   },
   "outputs": [],
   "source": [
    "DATA_YESTERDAY = round(DATA_YESTERDAY, 1)\n",
    "DATA_YESTERDAY = \"${:,.2f}\".format(DATA_YESTERDAY)\n",
    "DATA_YESTERDAY"
   ]
  },
  {
   "cell_type": "markdown",
   "id": "d71d8ad4-697d-4d4e-be8c-6c7d54d174e0",
   "metadata": {
    "papermill": {},
    "tags": []
   },
   "source": [
    "## Output"
   ]
  },
  {
   "cell_type": "markdown",
   "id": "outside-mouse",
   "metadata": {
    "papermill": {},
    "tags": []
   },
   "source": [
    "### Generate message "
   ]
  },
  {
   "cell_type": "markdown",
   "id": "cutting-credit",
   "metadata": {
    "papermill": {},
    "tags": []
   },
   "source": [
    "### Create markdown template "
   ]
  },
  {
   "cell_type": "code",
   "execution_count": null,
   "id": "eff91ba6-95b6-4d72-b760-583c40dfe4fe",
   "metadata": {
    "papermill": {},
    "tags": []
   },
   "outputs": [],
   "source": [
    "%%writefile message.md\n",
    "Hey <!here>\n",
    "\n",
    "The *TICKER* price is *DATA_NOW* right now, VARV vs yesterday (VARP%).\n",
    "Yesterday close : DATA_YESTERDAY\n",
    "\n",
    "In +20 days, basic ML models predict the following prices: \n",
    "\n",
    "- *arima*: ARIMA\n",
    "- *svr*: SVR\n",
    "- *linear*: LINEAR\n",
    "- *compound*: COMPOUND\n",
    "\n",
    "<link_html |Open dynamic chart>"
   ]
  },
  {
   "cell_type": "code",
   "execution_count": null,
   "id": "underlying-mediterranean",
   "metadata": {
    "papermill": {},
    "tags": []
   },
   "outputs": [],
   "source": [
    "markdown_file = \"message.md\"\n",
    "md = open(markdown_file, \"r\").read()\n",
    "md"
   ]
  },
  {
   "cell_type": "markdown",
   "id": "fd4e211d-fec4-4de1-bf52-067d6a94c7fa",
   "metadata": {
    "papermill": {},
    "tags": []
   },
   "source": [
    "### Add email template as a dependency"
   ]
  },
  {
   "cell_type": "code",
   "execution_count": null,
   "id": "serial-supervisor",
   "metadata": {
    "papermill": {},
    "tags": []
   },
   "outputs": [],
   "source": [
    "## add as a dependency\n",
    "naas.dependency.add(\"message.md\")"
   ]
  },
  {
   "cell_type": "markdown",
   "id": "encouraging-tomorrow",
   "metadata": {
    "papermill": {},
    "tags": []
   },
   "source": [
    "### Replace values in template"
   ]
  },
  {
   "cell_type": "code",
   "execution_count": null,
   "id": "undefined-flexibility",
   "metadata": {
    "papermill": {},
    "tags": []
   },
   "outputs": [],
   "source": [
    "post = md.replace(\"DATA_NOW\", str(DATA_NOW))\n",
    "post = post.replace(\"TICKER\", str(ticker))\n",
    "post = post.replace(\"DATA_YESTERDAY\", str(DATA_YESTERDAY))\n",
    "post = post.replace(\"VARV\", str(VARV))\n",
    "post = post.replace(\"VARP\", str(VARP))\n",
    "post = post.replace(\"LINEAR\", str(LINEAR))\n",
    "post = post.replace(\"SVR\", str(SVR))\n",
    "post = post.replace(\"COMPOUND\", str(COMPOUND))\n",
    "post = post.replace(\"ARIMA\", str(ARIMA))\n",
    "post = post.replace(\"link_html\", str(link_html))\n",
    "post"
   ]
  },
  {
   "cell_type": "markdown",
   "id": "quantitative-trader",
   "metadata": {
    "papermill": {},
    "tags": []
   },
   "source": [
    "### Post on Slack "
   ]
  },
  {
   "cell_type": "code",
   "execution_count": null,
   "id": "33559718-1af4-458e-a972-ff7ac7466e34",
   "metadata": {
    "papermill": {},
    "tags": []
   },
   "outputs": [],
   "source": [
    "message = post\n",
    "image = link_image\n",
    "slack.connect(token).send(channel, post, link_image)"
   ]
  },
  {
   "cell_type": "markdown",
   "id": "great-visiting",
   "metadata": {
    "papermill": {},
    "tags": []
   },
   "source": [
    "### Schedule every day"
   ]
  },
  {
   "cell_type": "code",
   "execution_count": null,
   "id": "isolated-harrison",
   "metadata": {
    "papermill": {},
    "tags": []
   },
   "outputs": [],
   "source": [
    "naas.scheduler.add(cron=\"0 9 * * *\")\n",
    "\n",
    "#naas.scheduler.delete() #if you want to delete the scheduler"
   ]
  }
 ],
 "metadata": {
  "kernelspec": {
   "display_name": "Python 3",
   "language": "python",
   "name": "python3"
  },
  "language_info": {
   "codemirror_mode": {
    "name": "ipython",
    "version": 3
   },
   "file_extension": ".py",
   "mimetype": "text/x-python",
   "name": "python",
   "nbconvert_exporter": "python",
   "pygments_lexer": "ipython3",
   "version": "3.8.8"
  },
  "papermill": {
   "default_parameters": {},
   "environment_variables": {},
   "parameters": {},
   "version": "2.3.3"
  },
  "toc-autonumbering": false,
  "widgets": {
   "application/vnd.jupyter.widget-state+json": {
    "state": {},
    "version_major": 2,
    "version_minor": 0
   }
  }
 },
 "nbformat": 4,
 "nbformat_minor": 5
}
