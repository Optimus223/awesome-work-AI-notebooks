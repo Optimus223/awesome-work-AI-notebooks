{
 "cells": [
  {
   "cell_type": "markdown",
   "id": "descending-grammar",
   "metadata": {
    "papermill": {},
    "tags": []
   },
   "source": [
    "# Yahoo Finance - Candlestick chart\n",
    "<a href=\"https://app.naas.ai/user-redirect/naas/downloader?url=https://raw.githubusercontent.com/jupyter-naas/awesome-notebooks/master/YahooFinance/YahooFinance_Display_chart_from_ticker.ipynb\" target=\"_parent\"><img src=\"https://naasai-public.s3.eu-west-3.amazonaws.com/open_in_naas.svg\"/></a>"
   ]
  },
  {
   "cell_type": "markdown",
   "id": "ea0f4d52-5687-4719-9b35-e5abcc48328b",
   "metadata": {
    "papermill": {},
    "tags": []
   },
   "source": [
    "**Tags:** #yahoofinance #trading #yfin"
   ]
  },
  {
   "cell_type": "markdown",
   "id": "0e0f4f9f-b96d-47b6-9417-81548979cadf",
   "metadata": {},
   "source": [
    "**Author:** [Carlo Occhiena](https://www.linkedin.com/in/carloocchiena/)"
   ]
  },
  {
   "cell_type": "markdown",
   "id": "d17064b3-00b5-4d71-96ba-38c6af450919",
   "metadata": {
    "papermill": {},
    "tags": []
   },
   "source": [
    "## Input"
   ]
  },
  {
   "cell_type": "markdown",
   "id": "1d8f5e20-bcfc-4ceb-83ad-0856868327a0",
   "metadata": {
    "papermill": {},
    "tags": []
   },
   "source": [
    "### Install and import libraries"
   ]
  },
  {
   "cell_type": "code",
   "execution_count": 1,
   "id": "fd368ba3-fc40-46db-af1d-a62d11573923",
   "metadata": {
    "execution": {
     "iopub.execute_input": "2022-02-15T13:46:35.070502Z",
     "iopub.status.busy": "2022-02-15T13:46:35.070056Z",
     "iopub.status.idle": "2022-02-15T13:46:35.787596Z",
     "shell.execute_reply": "2022-02-15T13:46:35.787007Z",
     "shell.execute_reply.started": "2022-02-15T13:46:35.070408Z"
    },
    "papermill": {},
    "tags": []
   },
   "outputs": [],
   "source": [
    "import datetime as dt\n",
    "import pandas_datareader as pdr\n",
    "try:\n",
    "    import mplfinance as mpf\n",
    "except:\n",
    "    !pip install mplfinance\n",
    "    import mplfinance as mpf\n",
    "try:\n",
    "    import yfinance as yfin\n",
    "except:\n",
    "    !pip install yfinance\n",
    "    import yfinance as yfin"
   ]
  },
  {
   "cell_type": "markdown",
   "id": "a76b96a2-aa6c-4388-8a83-9e3b94be082d",
   "metadata": {},
   "source": [
    "### Variables\n",
    "datefrom, dateto, the list of cryptocurrencies you need."
   ]
  },
  {
   "cell_type": "code",
   "execution_count": 2,
   "id": "f21e0a1d-290e-4e6f-83be-e2ded185da34",
   "metadata": {
    "execution": {
     "iopub.execute_input": "2022-02-15T13:46:35.790587Z",
     "iopub.status.busy": "2022-02-15T13:46:35.790368Z",
     "iopub.status.idle": "2022-02-15T13:46:35.794858Z",
     "shell.execute_reply": "2022-02-15T13:46:35.794311Z",
     "shell.execute_reply.started": "2022-02-15T13:46:35.790566Z"
    },
    "tags": []
   },
   "outputs": [],
   "source": [
    "# update date range \"start\" as desired\n",
    "start = dt.datetime(2021, 1, 1)\n",
    "end = dt.datetime.now()\n",
    "ticker = \"ETH-USD\""
   ]
  },
  {
   "cell_type": "markdown",
   "id": "345ad8e8-0182-4fa3-bda2-8d505dd1490f",
   "metadata": {},
   "source": [
    "## Model\n",
    "candlestick chart, correlation heatmap, visual chart for all the currencies."
   ]
  },
  {
   "cell_type": "code",
   "execution_count": 3,
   "id": "exceptional-pearl",
   "metadata": {
    "execution": {
     "iopub.execute_input": "2022-02-15T13:46:35.797087Z",
     "iopub.status.busy": "2022-02-15T13:46:35.796817Z",
     "iopub.status.idle": "2022-02-15T13:46:36.017259Z",
     "shell.execute_reply": "2022-02-15T13:46:36.016720Z",
     "shell.execute_reply.started": "2022-02-15T13:46:35.797065Z"
    },
    "papermill": {},
    "tags": []
   },
   "outputs": [
    {
     "name": "stdout",
     "output_type": "stream",
     "text": [
      "[*********************100%***********************]  1 of 1 completed\n"
     ]
    },
    {
     "data": {
      "text/html": [
       "<div>\n",
       "<style scoped>\n",
       "    .dataframe tbody tr th:only-of-type {\n",
       "        vertical-align: middle;\n",
       "    }\n",
       "\n",
       "    .dataframe tbody tr th {\n",
       "        vertical-align: top;\n",
       "    }\n",
       "\n",
       "    .dataframe thead th {\n",
       "        text-align: right;\n",
       "    }\n",
       "</style>\n",
       "<table border=\"1\" class=\"dataframe\">\n",
       "  <thead>\n",
       "    <tr style=\"text-align: right;\">\n",
       "      <th></th>\n",
       "      <th>Open</th>\n",
       "      <th>High</th>\n",
       "      <th>Low</th>\n",
       "      <th>Close</th>\n",
       "      <th>Adj Close</th>\n",
       "      <th>Volume</th>\n",
       "    </tr>\n",
       "    <tr>\n",
       "      <th>Date</th>\n",
       "      <th></th>\n",
       "      <th></th>\n",
       "      <th></th>\n",
       "      <th></th>\n",
       "      <th></th>\n",
       "      <th></th>\n",
       "    </tr>\n",
       "  </thead>\n",
       "  <tbody>\n",
       "    <tr>\n",
       "      <th>2020-12-31</th>\n",
       "      <td>751.626648</td>\n",
       "      <td>754.299438</td>\n",
       "      <td>726.511902</td>\n",
       "      <td>737.803406</td>\n",
       "      <td>737.803406</td>\n",
       "      <td>13926846861</td>\n",
       "    </tr>\n",
       "    <tr>\n",
       "      <th>2021-01-01</th>\n",
       "      <td>737.708374</td>\n",
       "      <td>749.201843</td>\n",
       "      <td>719.792236</td>\n",
       "      <td>730.367554</td>\n",
       "      <td>730.367554</td>\n",
       "      <td>13652004358</td>\n",
       "    </tr>\n",
       "    <tr>\n",
       "      <th>2021-01-02</th>\n",
       "      <td>730.402649</td>\n",
       "      <td>786.798462</td>\n",
       "      <td>718.109497</td>\n",
       "      <td>774.534973</td>\n",
       "      <td>774.534973</td>\n",
       "      <td>19740771179</td>\n",
       "    </tr>\n",
       "    <tr>\n",
       "      <th>2021-01-03</th>\n",
       "      <td>774.511841</td>\n",
       "      <td>1006.565002</td>\n",
       "      <td>771.561646</td>\n",
       "      <td>975.507690</td>\n",
       "      <td>975.507690</td>\n",
       "      <td>45200463368</td>\n",
       "    </tr>\n",
       "    <tr>\n",
       "      <th>2021-01-04</th>\n",
       "      <td>977.058838</td>\n",
       "      <td>1153.189209</td>\n",
       "      <td>912.305359</td>\n",
       "      <td>1040.233032</td>\n",
       "      <td>1040.233032</td>\n",
       "      <td>56945985763</td>\n",
       "    </tr>\n",
       "    <tr>\n",
       "      <th>...</th>\n",
       "      <td>...</td>\n",
       "      <td>...</td>\n",
       "      <td>...</td>\n",
       "      <td>...</td>\n",
       "      <td>...</td>\n",
       "      <td>...</td>\n",
       "    </tr>\n",
       "    <tr>\n",
       "      <th>2022-02-11</th>\n",
       "      <td>3077.413086</td>\n",
       "      <td>3127.450684</td>\n",
       "      <td>2888.707764</td>\n",
       "      <td>2927.383545</td>\n",
       "      <td>2927.383545</td>\n",
       "      <td>16043881065</td>\n",
       "    </tr>\n",
       "    <tr>\n",
       "      <th>2022-02-12</th>\n",
       "      <td>2927.386475</td>\n",
       "      <td>2980.079346</td>\n",
       "      <td>2870.177002</td>\n",
       "      <td>2917.362793</td>\n",
       "      <td>2917.362793</td>\n",
       "      <td>11254355757</td>\n",
       "    </tr>\n",
       "    <tr>\n",
       "      <th>2022-02-13</th>\n",
       "      <td>2916.789551</td>\n",
       "      <td>2947.776611</td>\n",
       "      <td>2845.397705</td>\n",
       "      <td>2883.463379</td>\n",
       "      <td>2883.463379</td>\n",
       "      <td>9054963563</td>\n",
       "    </tr>\n",
       "    <tr>\n",
       "      <th>2022-02-14</th>\n",
       "      <td>2880.187744</td>\n",
       "      <td>2957.963623</td>\n",
       "      <td>2840.257568</td>\n",
       "      <td>2933.479004</td>\n",
       "      <td>2933.479004</td>\n",
       "      <td>12164552172</td>\n",
       "    </tr>\n",
       "    <tr>\n",
       "      <th>2022-02-15</th>\n",
       "      <td>2933.709473</td>\n",
       "      <td>3115.906738</td>\n",
       "      <td>2917.881836</td>\n",
       "      <td>3100.775391</td>\n",
       "      <td>3100.775391</td>\n",
       "      <td>14274397184</td>\n",
       "    </tr>\n",
       "  </tbody>\n",
       "</table>\n",
       "<p>412 rows × 6 columns</p>\n",
       "</div>"
      ],
      "text/plain": [
       "                   Open         High          Low        Close    Adj Close  \\\n",
       "Date                                                                          \n",
       "2020-12-31   751.626648   754.299438   726.511902   737.803406   737.803406   \n",
       "2021-01-01   737.708374   749.201843   719.792236   730.367554   730.367554   \n",
       "2021-01-02   730.402649   786.798462   718.109497   774.534973   774.534973   \n",
       "2021-01-03   774.511841  1006.565002   771.561646   975.507690   975.507690   \n",
       "2021-01-04   977.058838  1153.189209   912.305359  1040.233032  1040.233032   \n",
       "...                 ...          ...          ...          ...          ...   \n",
       "2022-02-11  3077.413086  3127.450684  2888.707764  2927.383545  2927.383545   \n",
       "2022-02-12  2927.386475  2980.079346  2870.177002  2917.362793  2917.362793   \n",
       "2022-02-13  2916.789551  2947.776611  2845.397705  2883.463379  2883.463379   \n",
       "2022-02-14  2880.187744  2957.963623  2840.257568  2933.479004  2933.479004   \n",
       "2022-02-15  2933.709473  3115.906738  2917.881836  3100.775391  3100.775391   \n",
       "\n",
       "                 Volume  \n",
       "Date                     \n",
       "2020-12-31  13926846861  \n",
       "2021-01-01  13652004358  \n",
       "2021-01-02  19740771179  \n",
       "2021-01-03  45200463368  \n",
       "2021-01-04  56945985763  \n",
       "...                 ...  \n",
       "2022-02-11  16043881065  \n",
       "2022-02-12  11254355757  \n",
       "2022-02-13   9054963563  \n",
       "2022-02-14  12164552172  \n",
       "2022-02-15  14274397184  \n",
       "\n",
       "[412 rows x 6 columns]"
      ]
     },
     "execution_count": 3,
     "metadata": {},
     "output_type": "execute_result"
    }
   ],
   "source": [
    "# insert cryptoasset (in Yahoo format \"NNN-CCC\" es BTC-EUR or ETH-USD) here\n",
    "yfin.pdr_override()\n",
    "data = yfin.download(ticker, start, end)\n",
    "data"
   ]
  },
  {
   "cell_type": "markdown",
   "id": "6ed1a0ee-b6cf-459e-bbe4-6e5d722fd313",
   "metadata": {},
   "source": [
    "## Output"
   ]
  },
  {
   "cell_type": "markdown",
   "id": "79126baa-2a38-4861-8130-66b4c4e13621",
   "metadata": {
    "papermill": {},
    "tags": []
   },
   "source": [
    "### Create a candlestick chart for a given asset\n",
    "👉 Completely customize the timeframe and asset you need"
   ]
  },
  {
   "cell_type": "code",
   "execution_count": 5,
   "id": "46bd233d-0e5f-4ef2-9e59-ebd8a1937129",
   "metadata": {
    "execution": {
     "iopub.execute_input": "2022-02-15T13:47:04.771762Z",
     "iopub.status.busy": "2022-02-15T13:47:04.771542Z",
     "iopub.status.idle": "2022-02-15T13:47:06.099610Z",
     "shell.execute_reply": "2022-02-15T13:47:06.099011Z",
     "shell.execute_reply.started": "2022-02-15T13:47:04.771740Z"
    },
    "tags": []
   },
   "outputs": [
    {
     "data": {
      "image/png": "[encoded data removed]",
      "text/plain": [
       "<Figure size 800x575 with 4 Axes>"
      ]
     },
     "metadata": {},
     "output_type": "display_data"
    }
   ],
   "source": [
    "mpf.plot(data, title=f\"{ticker} trend\",\n",
    "         type=\"candle\",\n",
    "         volume=True,\n",
    "         style=\"yahoo\")"
   ]
  },
  {
   "cell_type": "code",
   "execution_count": null,
   "id": "dd46fd5e-96df-4e55-8365-fec5d363c385",
   "metadata": {},
   "outputs": [],
   "source": []
  }
 ],
 "metadata": {
  "kernelspec": {
   "display_name": "Python 3",
   "language": "python",
   "name": "python3"
  },
  "language_info": {
   "codemirror_mode": {
    "name": "ipython",
    "version": 3
   },
   "file_extension": ".py",
   "mimetype": "text/x-python",
   "name": "python",
   "nbconvert_exporter": "python",
   "pygments_lexer": "ipython3",
   "version": "3.8.8"
  },
  "papermill": {
   "default_parameters": {},
   "environment_variables": {},
   "parameters": {},
   "version": "2.3.3"
  },
  "toc-autonumbering": false,
  "widgets": {
   "application/vnd.jupyter.widget-state+json": {
    "state": {},
    "version_major": 2,
    "version_minor": 0
   }
  }
 },
 "nbformat": 4,
 "nbformat_minor": 5
}
