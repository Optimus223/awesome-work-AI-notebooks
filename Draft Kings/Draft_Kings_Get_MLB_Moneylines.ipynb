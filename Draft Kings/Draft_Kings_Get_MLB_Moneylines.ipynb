{
 "cells": [
  {
   "cell_type": "markdown",
   "id": "latin-packing",
   "metadata": {
    "execution": {
     "iopub.execute_input": "2021-02-23T14:22:16.610471Z",
     "iopub.status.busy": "2021-02-23T14:22:16.610129Z",
     "iopub.status.idle": "2021-02-23T14:22:16.627784Z",
     "shell.execute_reply": "2021-02-23T14:22:16.626866Z",
     "shell.execute_reply.started": "2021-02-23T14:22:16.610384Z"
    },
    "papermill": {},
    "tags": []
   },
   "source": [
    "<img width=\"10%\" alt=\"Naas\" src=\"https://landen.imgix.net/jtci2pxwjczr/assets/5ice39g4.png?w=160\"/>"
   ]
  },
  {
   "cell_type": "markdown",
   "id": "compressed-wilson",
   "metadata": {
    "papermill": {},
    "tags": []
   },
   "source": [
    "# Draft Kings - Get MLB Moneylines\n",
    "<a href=\"https://app.naas.ai/user-redirect/naas/downloader?url=https://raw.githubusercontent.com/jupyter-naas/awesome-notebooks/master/Draft%20Kings/Draft_Kings_Get_MLB_Moneylines.ipynb\" target=\"_parent\"><img src=\"https://naasai-public.s3.eu-west-3.amazonaws.com/open_in_naas.svg\"/></a>"
   ]
  },
  {
   "cell_type": "markdown",
   "id": "religious-programmer",
   "metadata": {
    "papermill": {},
    "tags": []
   },
   "source": [
    "**Tags:** #draftkings #mlb #betting #python #analytics #automation #sports #sports_betting #opendata #notification #email"
   ]
  },
  {
   "cell_type": "markdown",
   "id": "1fe9f56e-561c-4f52-aef8-b861c9462107",
   "metadata": {
    "papermill": {},
    "tags": []
   },
   "source": [
    "**Author:** [JA Williams](https://www.linkedin.com/in/ja-williams-529517187/)"
   ]
  },
  {
   "cell_type": "markdown",
   "id": "31ea7cdb-e10d-43fc-b026-f69249a59736",
   "metadata": {
    "papermill": {},
    "tags": []
   },
   "source": [
    "This notebooks gathers the betting lines for MLB games each day. It scrapes the Moneylines for each team from the Draft Kings website and emails you the lines.\n",
    "\n",
    "Data source: https://sportsbook.draftkings.com/leagues/baseball/88670847"
   ]
  },
  {
   "cell_type": "markdown",
   "id": "5397666a",
   "metadata": {
    "papermill": {},
    "tags": []
   },
   "source": [
    "## Input"
   ]
  },
  {
   "cell_type": "markdown",
   "id": "numeric-mediterranean",
   "metadata": {
    "papermill": {},
    "tags": []
   },
   "source": [
    "### Import libraries"
   ]
  },
  {
   "cell_type": "code",
   "execution_count": 1,
   "id": "potential-surfing",
   "metadata": {
    "execution": {
     "iopub.execute_input": "2022-06-21T15:51:47.583639Z",
     "iopub.status.busy": "2022-06-21T15:51:47.583300Z",
     "iopub.status.idle": "2022-06-21T15:51:49.990174Z",
     "shell.execute_reply": "2022-06-21T15:51:49.989532Z",
     "shell.execute_reply.started": "2022-06-21T15:51:47.583563Z"
    },
    "papermill": {},
    "tags": []
   },
   "outputs": [],
   "source": [
    "import naas\n",
    "import requests\n",
    "import pandas as pd\n",
    "from bs4 import BeautifulSoup\n",
    "from naas_drivers import emailbuilder\n",
    "from datetime import datetime\n",
    "import pytz"
   ]
  },
  {
   "cell_type": "markdown",
   "id": "0d884e55-9270-49e5-8645-60e91385297f",
   "metadata": {
    "papermill": {},
    "tags": []
   },
   "source": [
    "### Setup Draft Kings"
   ]
  },
  {
   "cell_type": "code",
   "execution_count": 2,
   "id": "e0a304b4-d823-4258-9b53-5ea10daabb68",
   "metadata": {
    "execution": {
     "iopub.execute_input": "2022-06-21T15:51:49.991619Z",
     "iopub.status.busy": "2022-06-21T15:51:49.991381Z",
     "iopub.status.idle": "2022-06-21T15:51:49.995810Z",
     "shell.execute_reply": "2022-06-21T15:51:49.994454Z",
     "shell.execute_reply.started": "2022-06-21T15:51:49.991589Z"
    },
    "papermill": {},
    "tags": []
   },
   "outputs": [],
   "source": [
    "# URL to scrap data\n",
    "URL = 'https://sportsbook.draftkings.com/leagues/baseball/88670847'"
   ]
  },
  {
   "cell_type": "markdown",
   "id": "968aaba2-6c0c-4342-9442-73bf5d63f25f",
   "metadata": {
    "papermill": {},
    "tags": []
   },
   "source": [
    "### Setup Naas"
   ]
  },
  {
   "cell_type": "code",
   "execution_count": 3,
   "id": "a286e4c6-39ae-467c-933e-27c78dfb8bd9",
   "metadata": {
    "execution": {
     "iopub.execute_input": "2022-06-21T15:51:49.997418Z",
     "iopub.status.busy": "2022-06-21T15:51:49.997188Z",
     "iopub.status.idle": "2022-06-21T15:51:50.122967Z",
     "shell.execute_reply": "2022-06-21T15:51:50.122309Z",
     "shell.execute_reply.started": "2022-06-21T15:51:49.997386Z"
    },
    "papermill": {},
    "tags": []
   },
   "outputs": [
    {
     "data": {
      "text/plain": [
       "['Africa/Abidjan', 'Africa/Accra', 'Africa/Addis_Ababa', 'Africa/Algiers', 'Africa/Asmara', 'Africa/Asmera', 'Africa/Bamako', 'Africa/Bangui', 'Africa/Banjul', 'Africa/Bissau', 'Africa/Blantyre', 'Africa/Brazzaville', 'Africa/Bujumbura', 'Africa/Cairo', 'Africa/Casablanca', 'Africa/Ceuta', 'Africa/Conakry', 'Africa/Dakar', 'Africa/Dar_es_Salaam', 'Africa/Djibouti', 'Africa/Douala', 'Africa/El_Aaiun', 'Africa/Freetown', 'Africa/Gaborone', 'Africa/Harare', 'Africa/Johannesburg', 'Africa/Juba', 'Africa/Kampala', 'Africa/Khartoum', 'Africa/Kigali', 'Africa/Kinshasa', 'Africa/Lagos', 'Africa/Libreville', 'Africa/Lome', 'Africa/Luanda', 'Africa/Lubumbashi', 'Africa/Lusaka', 'Africa/Malabo', 'Africa/Maputo', 'Africa/Maseru', 'Africa/Mbabane', 'Africa/Mogadishu', 'Africa/Monrovia', 'Africa/Nairobi', 'Africa/Ndjamena', 'Africa/Niamey', 'Africa/Nouakchott', 'Africa/Ouagadougou', 'Africa/Porto-Novo', 'Africa/Sao_Tome', 'Africa/Timbuktu', 'Africa/Tripoli', 'Africa/Tunis', 'Africa/Windhoek', 'America/Adak', 'America/Anchorage', 'America/Anguilla', 'America/Antigua', 'America/Araguaina', 'America/Argentina/Buenos_Aires', 'America/Argentina/Catamarca', 'America/Argentina/ComodRivadavia', 'America/Argentina/Cordoba', 'America/Argentina/Jujuy', 'America/Argentina/La_Rioja', 'America/Argentina/Mendoza', 'America/Argentina/Rio_Gallegos', 'America/Argentina/Salta', 'America/Argentina/San_Juan', 'America/Argentina/San_Luis', 'America/Argentina/Tucuman', 'America/Argentina/Ushuaia', 'America/Aruba', 'America/Asuncion', 'America/Atikokan', 'America/Atka', 'America/Bahia', 'America/Bahia_Banderas', 'America/Barbados', 'America/Belem', 'America/Belize', 'America/Blanc-Sablon', 'America/Boa_Vista', 'America/Bogota', 'America/Boise', 'America/Buenos_Aires', 'America/Cambridge_Bay', 'America/Campo_Grande', 'America/Cancun', 'America/Caracas', 'America/Catamarca', 'America/Cayenne', 'America/Cayman', 'America/Chicago', 'America/Chihuahua', 'America/Coral_Harbour', 'America/Cordoba', 'America/Costa_Rica', 'America/Creston', 'America/Cuiaba', 'America/Curacao', 'America/Danmarkshavn', 'America/Dawson', 'America/Dawson_Creek', 'America/Denver', 'America/Detroit', 'America/Dominica', 'America/Edmonton', 'America/Eirunepe', 'America/El_Salvador', 'America/Ensenada', 'America/Fort_Nelson', 'America/Fort_Wayne', 'America/Fortaleza', 'America/Glace_Bay', 'America/Godthab', 'America/Goose_Bay', 'America/Grand_Turk', 'America/Grenada', 'America/Guadeloupe', 'America/Guatemala', 'America/Guayaquil', 'America/Guyana', 'America/Halifax', 'America/Havana', 'America/Hermosillo', 'America/Indiana/Indianapolis', 'America/Indiana/Knox', 'America/Indiana/Marengo', 'America/Indiana/Petersburg', 'America/Indiana/Tell_City', 'America/Indiana/Vevay', 'America/Indiana/Vincennes', 'America/Indiana/Winamac', 'America/Indianapolis', 'America/Inuvik', 'America/Iqaluit', 'America/Jamaica', 'America/Jujuy', 'America/Juneau', 'America/Kentucky/Louisville', 'America/Kentucky/Monticello', 'America/Knox_IN', 'America/Kralendijk', 'America/La_Paz', 'America/Lima', 'America/Los_Angeles', 'America/Louisville', 'America/Lower_Princes', 'America/Maceio', 'America/Managua', 'America/Manaus', 'America/Marigot', 'America/Martinique', 'America/Matamoros', 'America/Mazatlan', 'America/Mendoza', 'America/Menominee', 'America/Merida', 'America/Metlakatla', 'America/Mexico_City', 'America/Miquelon', 'America/Moncton', 'America/Monterrey', 'America/Montevideo', 'America/Montreal', 'America/Montserrat', 'America/Nassau', 'America/New_York', 'America/Nipigon', 'America/Nome', 'America/Noronha', 'America/North_Dakota/Beulah', 'America/North_Dakota/Center', 'America/North_Dakota/New_Salem', 'America/Nuuk', 'America/Ojinaga', 'America/Panama', 'America/Pangnirtung', 'America/Paramaribo', 'America/Phoenix', 'America/Port-au-Prince', 'America/Port_of_Spain', 'America/Porto_Acre', 'America/Porto_Velho', 'America/Puerto_Rico', 'America/Punta_Arenas', 'America/Rainy_River', 'America/Rankin_Inlet', 'America/Recife', 'America/Regina', 'America/Resolute', 'America/Rio_Branco', 'America/Rosario', 'America/Santa_Isabel', 'America/Santarem', 'America/Santiago', 'America/Santo_Domingo', 'America/Sao_Paulo', 'America/Scoresbysund', 'America/Shiprock', 'America/Sitka', 'America/St_Barthelemy', 'America/St_Johns', 'America/St_Kitts', 'America/St_Lucia', 'America/St_Thomas', 'America/St_Vincent', 'America/Swift_Current', 'America/Tegucigalpa', 'America/Thule', 'America/Thunder_Bay', 'America/Tijuana', 'America/Toronto', 'America/Tortola', 'America/Vancouver', 'America/Virgin', 'America/Whitehorse', 'America/Winnipeg', 'America/Yakutat', 'America/Yellowknife', 'Antarctica/Casey', 'Antarctica/Davis', 'Antarctica/DumontDUrville', 'Antarctica/Macquarie', 'Antarctica/Mawson', 'Antarctica/McMurdo', 'Antarctica/Palmer', 'Antarctica/Rothera', 'Antarctica/South_Pole', 'Antarctica/Syowa', 'Antarctica/Troll', 'Antarctica/Vostok', 'Arctic/Longyearbyen', 'Asia/Aden', 'Asia/Almaty', 'Asia/Amman', 'Asia/Anadyr', 'Asia/Aqtau', 'Asia/Aqtobe', 'Asia/Ashgabat', 'Asia/Ashkhabad', 'Asia/Atyrau', 'Asia/Baghdad', 'Asia/Bahrain', 'Asia/Baku', 'Asia/Bangkok', 'Asia/Barnaul', 'Asia/Beirut', 'Asia/Bishkek', 'Asia/Brunei', 'Asia/Calcutta', 'Asia/Chita', 'Asia/Choibalsan', 'Asia/Chongqing', 'Asia/Chungking', 'Asia/Colombo', 'Asia/Dacca', 'Asia/Damascus', 'Asia/Dhaka', 'Asia/Dili', 'Asia/Dubai', 'Asia/Dushanbe', 'Asia/Famagusta', 'Asia/Gaza', 'Asia/Harbin', 'Asia/Hebron', 'Asia/Ho_Chi_Minh', 'Asia/Hong_Kong', 'Asia/Hovd', 'Asia/Irkutsk', 'Asia/Istanbul', 'Asia/Jakarta', 'Asia/Jayapura', 'Asia/Jerusalem', 'Asia/Kabul', 'Asia/Kamchatka', 'Asia/Karachi', 'Asia/Kashgar', 'Asia/Kathmandu', 'Asia/Katmandu', 'Asia/Khandyga', 'Asia/Kolkata', 'Asia/Krasnoyarsk', 'Asia/Kuala_Lumpur', 'Asia/Kuching', 'Asia/Kuwait', 'Asia/Macao', 'Asia/Macau', 'Asia/Magadan', 'Asia/Makassar', 'Asia/Manila', 'Asia/Muscat', 'Asia/Nicosia', 'Asia/Novokuznetsk', 'Asia/Novosibirsk', 'Asia/Omsk', 'Asia/Oral', 'Asia/Phnom_Penh', 'Asia/Pontianak', 'Asia/Pyongyang', 'Asia/Qatar', 'Asia/Qostanay', 'Asia/Qyzylorda', 'Asia/Rangoon', 'Asia/Riyadh', 'Asia/Saigon', 'Asia/Sakhalin', 'Asia/Samarkand', 'Asia/Seoul', 'Asia/Shanghai', 'Asia/Singapore', 'Asia/Srednekolymsk', 'Asia/Taipei', 'Asia/Tashkent', 'Asia/Tbilisi', 'Asia/Tehran', 'Asia/Tel_Aviv', 'Asia/Thimbu', 'Asia/Thimphu', 'Asia/Tokyo', 'Asia/Tomsk', 'Asia/Ujung_Pandang', 'Asia/Ulaanbaatar', 'Asia/Ulan_Bator', 'Asia/Urumqi', 'Asia/Ust-Nera', 'Asia/Vientiane', 'Asia/Vladivostok', 'Asia/Yakutsk', 'Asia/Yangon', 'Asia/Yekaterinburg', 'Asia/Yerevan', 'Atlantic/Azores', 'Atlantic/Bermuda', 'Atlantic/Canary', 'Atlantic/Cape_Verde', 'Atlantic/Faeroe', 'Atlantic/Faroe', 'Atlantic/Jan_Mayen', 'Atlantic/Madeira', 'Atlantic/Reykjavik', 'Atlantic/South_Georgia', 'Atlantic/St_Helena', 'Atlantic/Stanley', 'Australia/ACT', 'Australia/Adelaide', 'Australia/Brisbane', 'Australia/Broken_Hill', 'Australia/Canberra', 'Australia/Currie', 'Australia/Darwin', 'Australia/Eucla', 'Australia/Hobart', 'Australia/LHI', 'Australia/Lindeman', 'Australia/Lord_Howe', 'Australia/Melbourne', 'Australia/NSW', 'Australia/North', 'Australia/Perth', 'Australia/Queensland', 'Australia/South', 'Australia/Sydney', 'Australia/Tasmania', 'Australia/Victoria', 'Australia/West', 'Australia/Yancowinna', 'Brazil/Acre', 'Brazil/DeNoronha', 'Brazil/East', 'Brazil/West', 'CET', 'CST6CDT', 'Canada/Atlantic', 'Canada/Central', 'Canada/Eastern', 'Canada/Mountain', 'Canada/Newfoundland', 'Canada/Pacific', 'Canada/Saskatchewan', 'Canada/Yukon', 'Chile/Continental', 'Chile/EasterIsland', 'Cuba', 'EET', 'EST', 'EST5EDT', 'Egypt', 'Eire', 'Etc/GMT', 'Etc/GMT+0', 'Etc/GMT+1', 'Etc/GMT+10', 'Etc/GMT+11', 'Etc/GMT+12', 'Etc/GMT+2', 'Etc/GMT+3', 'Etc/GMT+4', 'Etc/GMT+5', 'Etc/GMT+6', 'Etc/GMT+7', 'Etc/GMT+8', 'Etc/GMT+9', 'Etc/GMT-0', 'Etc/GMT-1', 'Etc/GMT-10', 'Etc/GMT-11', 'Etc/GMT-12', 'Etc/GMT-13', 'Etc/GMT-14', 'Etc/GMT-2', 'Etc/GMT-3', 'Etc/GMT-4', 'Etc/GMT-5', 'Etc/GMT-6', 'Etc/GMT-7', 'Etc/GMT-8', 'Etc/GMT-9', 'Etc/GMT0', 'Etc/Greenwich', 'Etc/UCT', 'Etc/UTC', 'Etc/Universal', 'Etc/Zulu', 'Europe/Amsterdam', 'Europe/Andorra', 'Europe/Astrakhan', 'Europe/Athens', 'Europe/Belfast', 'Europe/Belgrade', 'Europe/Berlin', 'Europe/Bratislava', 'Europe/Brussels', 'Europe/Bucharest', 'Europe/Budapest', 'Europe/Busingen', 'Europe/Chisinau', 'Europe/Copenhagen', 'Europe/Dublin', 'Europe/Gibraltar', 'Europe/Guernsey', 'Europe/Helsinki', 'Europe/Isle_of_Man', 'Europe/Istanbul', 'Europe/Jersey', 'Europe/Kaliningrad', 'Europe/Kiev', 'Europe/Kirov', 'Europe/Lisbon', 'Europe/Ljubljana', 'Europe/London', 'Europe/Luxembourg', 'Europe/Madrid', 'Europe/Malta', 'Europe/Mariehamn', 'Europe/Minsk', 'Europe/Monaco', 'Europe/Moscow', 'Europe/Nicosia', 'Europe/Oslo', 'Europe/Paris', 'Europe/Podgorica', 'Europe/Prague', 'Europe/Riga', 'Europe/Rome', 'Europe/Samara', 'Europe/San_Marino', 'Europe/Sarajevo', 'Europe/Saratov', 'Europe/Simferopol', 'Europe/Skopje', 'Europe/Sofia', 'Europe/Stockholm', 'Europe/Tallinn', 'Europe/Tirane', 'Europe/Tiraspol', 'Europe/Ulyanovsk', 'Europe/Uzhgorod', 'Europe/Vaduz', 'Europe/Vatican', 'Europe/Vienna', 'Europe/Vilnius', 'Europe/Volgograd', 'Europe/Warsaw', 'Europe/Zagreb', 'Europe/Zaporozhye', 'Europe/Zurich', 'GB', 'GB-Eire', 'GMT', 'GMT+0', 'GMT-0', 'GMT0', 'Greenwich', 'HST', 'Hongkong', 'Iceland', 'Indian/Antananarivo', 'Indian/Chagos', 'Indian/Christmas', 'Indian/Cocos', 'Indian/Comoro', 'Indian/Kerguelen', 'Indian/Mahe', 'Indian/Maldives', 'Indian/Mauritius', 'Indian/Mayotte', 'Indian/Reunion', 'Iran', 'Israel', 'Jamaica', 'Japan', 'Kwajalein', 'Libya', 'MET', 'MST', 'MST7MDT', 'Mexico/BajaNorte', 'Mexico/BajaSur', 'Mexico/General', 'NZ', 'NZ-CHAT', 'Navajo', 'PRC', 'PST8PDT', 'Pacific/Apia', 'Pacific/Auckland', 'Pacific/Bougainville', 'Pacific/Chatham', 'Pacific/Chuuk', 'Pacific/Easter', 'Pacific/Efate', 'Pacific/Enderbury', 'Pacific/Fakaofo', 'Pacific/Fiji', 'Pacific/Funafuti', 'Pacific/Galapagos', 'Pacific/Gambier', 'Pacific/Guadalcanal', 'Pacific/Guam', 'Pacific/Honolulu', 'Pacific/Johnston', 'Pacific/Kiritimati', 'Pacific/Kosrae', 'Pacific/Kwajalein', 'Pacific/Majuro', 'Pacific/Marquesas', 'Pacific/Midway', 'Pacific/Nauru', 'Pacific/Niue', 'Pacific/Norfolk', 'Pacific/Noumea', 'Pacific/Pago_Pago', 'Pacific/Palau', 'Pacific/Pitcairn', 'Pacific/Pohnpei', 'Pacific/Ponape', 'Pacific/Port_Moresby', 'Pacific/Rarotonga', 'Pacific/Saipan', 'Pacific/Samoa', 'Pacific/Tahiti', 'Pacific/Tarawa', 'Pacific/Tongatapu', 'Pacific/Truk', 'Pacific/Wake', 'Pacific/Wallis', 'Pacific/Yap', 'Poland', 'Portugal', 'ROC', 'ROK', 'Singapore', 'Turkey', 'UCT', 'US/Alaska', 'US/Aleutian', 'US/Arizona', 'US/Central', 'US/East-Indiana', 'US/Eastern', 'US/Hawaii', 'US/Indiana-Starke', 'US/Michigan', 'US/Mountain', 'US/Pacific', 'US/Samoa', 'UTC', 'Universal', 'W-SU', 'WET', 'Zulu']"
      ]
     },
     "execution_count": 3,
     "metadata": {},
     "output_type": "execute_result"
    }
   ],
   "source": [
    "# Get all timezone\n",
    "pytz.all_timezones"
   ]
  },
  {
   "cell_type": "code",
   "execution_count": 4,
   "id": "2394959b-ea9c-4d43-82b7-49c24e9dc27f",
   "metadata": {
    "execution": {
     "iopub.execute_input": "2022-06-21T15:51:50.124486Z",
     "iopub.status.busy": "2022-06-21T15:51:50.124262Z",
     "iopub.status.idle": "2022-06-21T15:51:50.311675Z",
     "shell.execute_reply": "2022-06-21T15:51:50.311029Z",
     "shell.execute_reply.started": "2022-06-21T15:51:50.124458Z"
    },
    "papermill": {},
    "tags": []
   },
   "outputs": [
    {
     "name": "stdout",
     "output_type": "stream",
     "text": [
      "🕣 Your Production Timezone is America/New_York\n",
      "\n"
     ]
    },
    {
     "data": {
      "text/plain": [
       "{'tz': 'America/New_York'}"
      ]
     },
     "execution_count": 4,
     "metadata": {},
     "output_type": "execute_result"
    }
   ],
   "source": [
    "# Set Time zone\n",
    "TIME_ZONE = \"America/New_York\"\n",
    "naas.set_remote_timezone(TIME_ZONE)"
   ]
  },
  {
   "cell_type": "code",
   "execution_count": 5,
   "id": "cd653d24",
   "metadata": {
    "execution": {
     "iopub.execute_input": "2022-06-21T15:51:50.312928Z",
     "iopub.status.busy": "2022-06-21T15:51:50.312657Z",
     "iopub.status.idle": "2022-06-21T15:51:50.843891Z",
     "shell.execute_reply": "2022-06-21T15:51:50.843135Z",
     "shell.execute_reply.started": "2022-06-21T15:51:50.312896Z"
    },
    "papermill": {},
    "tags": []
   },
   "outputs": [
    {
     "name": "stdout",
     "output_type": "stream",
     "text": [
      "👌 Well done! Your Notebook has been sent to production.\n",
      "\n",
      "⏰ It will be scheduled \"At 10:00 every day in October, November, December, January, February, March, April and May\" (more on the syntax on https://crontab.guru/).\n",
      "\n",
      "Ps: to remove the \"Scheduler\", just replace .add by .delete\n"
     ]
    }
   ],
   "source": [
    "# Schedule the Notebook to run at 10 AM each day of the MLB season\n",
    "naas.scheduler.add(cron='0 10 * 10,11,12,1,2,3,4,5 *')\n",
    "\n",
    "# To delete your scheduler, uncomment the line below and execute the cell\n",
    "# naas.scheduler.delete()"
   ]
  },
  {
   "cell_type": "code",
   "execution_count": 6,
   "id": "cd21b670-39ef-4dc4-9a65-8e7b51f03e53",
   "metadata": {
    "execution": {
     "iopub.execute_input": "2022-06-21T15:51:50.845626Z",
     "iopub.status.busy": "2022-06-21T15:51:50.845182Z",
     "iopub.status.idle": "2022-06-21T15:51:50.853015Z",
     "shell.execute_reply": "2022-06-21T15:51:50.852088Z",
     "shell.execute_reply.started": "2022-06-21T15:51:50.845589Z"
    },
    "papermill": {},
    "tags": []
   },
   "outputs": [],
   "source": [
    "# Email\n",
    "EMAIL_TO = \"<YOUR EMAIL>\"\n",
    "TODAY = datetime.now(pytz.timezone(TIME_ZONE)).strftime(\"%Y-%m-%d\")\n",
    "EMAIL_SUBJECT = f\"⚾ Draft Kings : Your MLB game of the day {TODAY}\""
   ]
  },
  {
   "cell_type": "markdown",
   "id": "085253c3",
   "metadata": {
    "papermill": {},
    "tags": []
   },
   "source": [
    "## Model"
   ]
  },
  {
   "cell_type": "markdown",
   "id": "aggressive-trustee",
   "metadata": {
    "papermill": {},
    "tags": []
   },
   "source": [
    "### Scrape Data from Draft Kings"
   ]
  },
  {
   "cell_type": "code",
   "execution_count": 7,
   "id": "continuous-melbourne",
   "metadata": {
    "execution": {
     "iopub.execute_input": "2022-06-21T15:51:50.855669Z",
     "iopub.status.busy": "2022-06-21T15:51:50.855501Z",
     "iopub.status.idle": "2022-06-21T15:51:52.603280Z",
     "shell.execute_reply": "2022-06-21T15:51:52.602598Z",
     "shell.execute_reply.started": "2022-06-21T15:51:50.855650Z"
    },
    "papermill": {},
    "tags": []
   },
   "outputs": [],
   "source": [
    "page = requests.get(URL)\n",
    "soup = BeautifulSoup(page.content, \"html.parser\")"
   ]
  },
  {
   "cell_type": "code",
   "execution_count": 8,
   "id": "8a385797",
   "metadata": {
    "execution": {
     "iopub.execute_input": "2022-06-21T15:51:52.605641Z",
     "iopub.status.busy": "2022-06-21T15:51:52.605353Z",
     "iopub.status.idle": "2022-06-21T15:51:52.609931Z",
     "shell.execute_reply": "2022-06-21T15:51:52.609274Z",
     "shell.execute_reply.started": "2022-06-21T15:51:52.605606Z"
    },
    "papermill": {},
    "tags": []
   },
   "outputs": [],
   "source": [
    "results = soup.find(id='root')"
   ]
  },
  {
   "cell_type": "code",
   "execution_count": 9,
   "id": "40fd911e",
   "metadata": {
    "execution": {
     "iopub.execute_input": "2022-06-21T15:51:52.611739Z",
     "iopub.status.busy": "2022-06-21T15:51:52.611366Z",
     "iopub.status.idle": "2022-06-21T15:51:52.735539Z",
     "shell.execute_reply": "2022-06-21T15:51:52.734932Z",
     "shell.execute_reply.started": "2022-06-21T15:51:52.611705Z"
    },
    "papermill": {},
    "tags": []
   },
   "outputs": [],
   "source": [
    "div = results.find_all('div', class_='parlay-card-10-a')"
   ]
  },
  {
   "cell_type": "markdown",
   "id": "b15b304b-9f82-4349-bb83-3fc55e74b09a",
   "metadata": {
    "papermill": {},
    "tags": []
   },
   "source": [
    "### Separate the Elements"
   ]
  },
  {
   "cell_type": "code",
   "execution_count": 10,
   "id": "1383d1a5-9741-4376-abe9-ae608709b7da",
   "metadata": {
    "execution": {
     "iopub.execute_input": "2022-06-21T15:51:52.738963Z",
     "iopub.status.busy": "2022-06-21T15:51:52.738772Z",
     "iopub.status.idle": "2022-06-21T15:51:52.840824Z",
     "shell.execute_reply": "2022-06-21T15:51:52.840221Z",
     "shell.execute_reply.started": "2022-06-21T15:51:52.738942Z"
    },
    "papermill": {},
    "tags": []
   },
   "outputs": [],
   "source": [
    "teams = []\n",
    "lines = []\n",
    "\n",
    "for element in div:\n",
    "    team = element.find_all(\"div\", class_=\"event-cell__name-text\")\n",
    "    teams.append(f'{team}')\n",
    "    line = element.find_all(\"span\", class_=\"sportsbook-odds american no-margin default-color\")\n",
    "    lines.append(f'{line}')"
   ]
  },
  {
   "cell_type": "markdown",
   "id": "tested-astrology",
   "metadata": {
    "papermill": {},
    "tags": []
   },
   "source": [
    "### Clean Team Element"
   ]
  },
  {
   "cell_type": "code",
   "execution_count": 11,
   "id": "crude-louisville",
   "metadata": {
    "execution": {
     "iopub.execute_input": "2022-06-21T15:51:52.844132Z",
     "iopub.status.busy": "2022-06-21T15:51:52.843868Z",
     "iopub.status.idle": "2022-06-21T15:51:52.911633Z",
     "shell.execute_reply": "2022-06-21T15:51:52.911042Z",
     "shell.execute_reply.started": "2022-06-21T15:51:52.844105Z"
    },
    "papermill": {},
    "tags": []
   },
   "outputs": [],
   "source": [
    "game_list_1 = []\n",
    "\n",
    "for t in teams:\n",
    "    new = t[36:]\n",
    "    game_list_1.append(new)\n"
   ]
  },
  {
   "cell_type": "code",
   "execution_count": 12,
   "id": "8a9d0635",
   "metadata": {
    "execution": {
     "iopub.execute_input": "2022-06-21T15:51:52.912873Z",
     "iopub.status.busy": "2022-06-21T15:51:52.912649Z",
     "iopub.status.idle": "2022-06-21T15:51:53.005774Z",
     "shell.execute_reply": "2022-06-21T15:51:53.005105Z",
     "shell.execute_reply.started": "2022-06-21T15:51:52.912843Z"
    },
    "papermill": {},
    "tags": []
   },
   "outputs": [],
   "source": [
    "game_list_2 = []\n",
    "\n",
    "for g in game_list_1:\n",
    "    new = g.split(\",\")\n",
    "    game_list_2.extend(new)"
   ]
  },
  {
   "cell_type": "code",
   "execution_count": 13,
   "id": "952e0c3f",
   "metadata": {
    "execution": {
     "iopub.execute_input": "2022-06-21T15:51:53.007097Z",
     "iopub.status.busy": "2022-06-21T15:51:53.006853Z",
     "iopub.status.idle": "2022-06-21T15:51:53.102259Z",
     "shell.execute_reply": "2022-06-21T15:51:53.101315Z",
     "shell.execute_reply.started": "2022-06-21T15:51:53.007064Z"
    },
    "papermill": {},
    "tags": []
   },
   "outputs": [],
   "source": [
    "game_list_3 = [x.replace(' <div class=\"event-cell__name-text\">', '') for x in game_list_2]"
   ]
  },
  {
   "cell_type": "code",
   "execution_count": 14,
   "id": "3cac8dd7",
   "metadata": {
    "execution": {
     "iopub.execute_input": "2022-06-21T15:51:53.103750Z",
     "iopub.status.busy": "2022-06-21T15:51:53.103494Z",
     "iopub.status.idle": "2022-06-21T15:51:53.195016Z",
     "shell.execute_reply": "2022-06-21T15:51:53.194384Z",
     "shell.execute_reply.started": "2022-06-21T15:51:53.103717Z"
    },
    "papermill": {},
    "tags": []
   },
   "outputs": [],
   "source": [
    "game_list_4 = []\n",
    "\n",
    "for t in game_list_3:\n",
    "    new = t[:-6]\n",
    "    game_list_4.append(new)"
   ]
  },
  {
   "cell_type": "code",
   "execution_count": 15,
   "id": "e5e5a3b3",
   "metadata": {
    "execution": {
     "iopub.execute_input": "2022-06-21T15:51:53.196386Z",
     "iopub.status.busy": "2022-06-21T15:51:53.196134Z",
     "iopub.status.idle": "2022-06-21T15:51:53.286131Z",
     "shell.execute_reply": "2022-06-21T15:51:53.285501Z",
     "shell.execute_reply.started": "2022-06-21T15:51:53.196351Z"
    },
    "papermill": {},
    "tags": []
   },
   "outputs": [],
   "source": [
    "game_list_5 = [x.replace('<', '') for x in game_list_4]"
   ]
  },
  {
   "cell_type": "code",
   "execution_count": 16,
   "id": "a685d11a-64cb-4326-8767-6b48a2b52d32",
   "metadata": {
    "execution": {
     "iopub.execute_input": "2022-06-21T15:51:53.287458Z",
     "iopub.status.busy": "2022-06-21T15:51:53.287209Z",
     "iopub.status.idle": "2022-06-21T15:51:53.375456Z",
     "shell.execute_reply": "2022-06-21T15:51:53.373373Z",
     "shell.execute_reply.started": "2022-06-21T15:51:53.287425Z"
    }
   },
   "outputs": [],
   "source": [
    "outcomes_today = game_list_5"
   ]
  },
  {
   "cell_type": "code",
   "execution_count": 17,
   "id": "6553b9ce",
   "metadata": {
    "execution": {
     "iopub.execute_input": "2022-06-21T15:51:53.376631Z",
     "iopub.status.busy": "2022-06-21T15:51:53.376392Z",
     "iopub.status.idle": "2022-06-21T15:51:53.465267Z",
     "shell.execute_reply": "2022-06-21T15:51:53.464554Z",
     "shell.execute_reply.started": "2022-06-21T15:51:53.376599Z"
    },
    "papermill": {},
    "tags": []
   },
   "outputs": [],
   "source": [
    "# Change Team Names to Match with 3-letter Code\n",
    "\n",
    "new1 = [team.replace('ARI Diamondbacks', 'ARI') for team in game_list_5]\n",
    "new2 = [team.replace('ATL Braves', 'ATL') for team in new1]\n",
    "new3 = [team.replace('BAL Orioles', 'BAL') for team in new2]\n",
    "new4 = [team.replace('BOS Red Sox', 'BOS') for team in new3]\n",
    "new5 = [team.replace('CHI Cubs', 'CHC') for team in new4]\n",
    "new6 = [team.replace('CHI White Sox', 'CHW') for team in new5]\n",
    "new7 = [team.replace('CIN Reds', 'CIN') for team in new6]\n",
    "new8 = [team.replace('CLE Guardians', 'CLE') for team in new7]\n",
    "new9 = [team.replace('COL Rockies', 'COL') for team in new8]\n",
    "new10 = [team.replace('DET Tigers', 'DET') for team in new9]\n",
    "new11 = [team.replace('MIA Marlins', 'FLA') for team in new10]\n",
    "new12 = [team.replace('HOU Astros', 'HOU') for team in new11]\n",
    "new13 = [team.replace('KC Royals', 'KCR') for team in new12]\n",
    "new14 = [team.replace('LA Angels', 'ANA') for team in new13]\n",
    "new15 = [team.replace('LA Dodgers', 'LAD') for team in new14]\n",
    "new16 = [team.replace('MIL Brewers', 'MIL') for team in new15]\n",
    "new17 = [team.replace('MIN Twins', 'MIN') for team in new16]\n",
    "new18 = [team.replace('NY Mets', 'NYM') for team in new17]\n",
    "new19 = [team.replace('NY Yankees', 'NYY') for team in new18]\n",
    "new20 = [team.replace('OAK Athletics', 'OAK') for team in new19]\n",
    "new21 = [team.replace('PHI Phillies', 'PHI') for team in new20]\n",
    "new22 = [team.replace('PIT Pirates', 'PIT') for team in new21]\n",
    "new23 = [team.replace('SD Padres', 'SDP') for team in new22]\n",
    "new24 = [team.replace('SF Giants', 'SFG') for team in new23]\n",
    "new25 = [team.replace('SEA Mariners', 'SEA') for team in new24]\n",
    "new26 = [team.replace('STL Cardinals', 'STL') for team in new25]\n",
    "new27 = [team.replace('TB Rays', 'TBD') for team in new26]\n",
    "new28 = [team.replace('TEX Rangers', 'TEX') for team in new27]\n",
    "new29 = [team.replace('TOR Blue Jays', 'TOR') for team in new28]\n",
    "new30 = [team.replace('WAS Nationals', 'WAN') for team in new29]"
   ]
  },
  {
   "cell_type": "code",
   "execution_count": 18,
   "id": "c24e89a6",
   "metadata": {
    "execution": {
     "iopub.execute_input": "2022-06-21T15:51:53.466617Z",
     "iopub.status.busy": "2022-06-21T15:51:53.466260Z",
     "iopub.status.idle": "2022-06-21T15:51:53.558264Z",
     "shell.execute_reply": "2022-06-21T15:51:53.557613Z",
     "shell.execute_reply.started": "2022-06-21T15:51:53.466586Z"
    },
    "papermill": {},
    "tags": []
   },
   "outputs": [],
   "source": [
    "teams_today = new30"
   ]
  },
  {
   "cell_type": "markdown",
   "id": "890f7c86-b7bb-4f5d-9a1b-e492dd9580fd",
   "metadata": {
    "papermill": {},
    "tags": []
   },
   "source": [
    "### Clean Lines Element"
   ]
  },
  {
   "cell_type": "code",
   "execution_count": 19,
   "id": "9c4e3b7b-6440-4844-8054-265f1aec65eb",
   "metadata": {
    "execution": {
     "iopub.execute_input": "2022-06-21T15:51:53.559471Z",
     "iopub.status.busy": "2022-06-21T15:51:53.559220Z",
     "iopub.status.idle": "2022-06-21T15:51:53.653205Z",
     "shell.execute_reply": "2022-06-21T15:51:53.652541Z",
     "shell.execute_reply.started": "2022-06-21T15:51:53.559440Z"
    },
    "papermill": {},
    "tags": []
   },
   "outputs": [],
   "source": [
    "lines_list_1 = []\n",
    "\n",
    "for l in lines:\n",
    "    new = l.split(\",\")\n",
    "    lines_list_1.extend(new)"
   ]
  },
  {
   "cell_type": "code",
   "execution_count": 20,
   "id": "1199b9e6",
   "metadata": {
    "execution": {
     "iopub.execute_input": "2022-06-21T15:51:53.654612Z",
     "iopub.status.busy": "2022-06-21T15:51:53.654259Z",
     "iopub.status.idle": "2022-06-21T15:51:53.748341Z",
     "shell.execute_reply": "2022-06-21T15:51:53.747521Z",
     "shell.execute_reply.started": "2022-06-21T15:51:53.654581Z"
    },
    "papermill": {},
    "tags": []
   },
   "outputs": [],
   "source": [
    "lines_list_2 = []\n",
    "\n",
    "for l in lines_list_1:\n",
    "    new = l[64:]\n",
    "    lines_list_2.append(new)"
   ]
  },
  {
   "cell_type": "code",
   "execution_count": 21,
   "id": "11178529",
   "metadata": {
    "execution": {
     "iopub.execute_input": "2022-06-21T15:51:53.749871Z",
     "iopub.status.busy": "2022-06-21T15:51:53.749618Z",
     "iopub.status.idle": "2022-06-21T15:51:53.841871Z",
     "shell.execute_reply": "2022-06-21T15:51:53.841171Z",
     "shell.execute_reply.started": "2022-06-21T15:51:53.749839Z"
    },
    "papermill": {},
    "tags": []
   },
   "outputs": [],
   "source": [
    "lines_list_3 = []\n",
    "\n",
    "for l in lines_list_2:\n",
    "    new = l[:-7]\n",
    "    lines_list_3.append(new)"
   ]
  },
  {
   "cell_type": "code",
   "execution_count": 22,
   "id": "525a4823",
   "metadata": {
    "execution": {
     "iopub.execute_input": "2022-06-21T15:51:53.844494Z",
     "iopub.status.busy": "2022-06-21T15:51:53.844305Z",
     "iopub.status.idle": "2022-06-21T15:51:53.935547Z",
     "shell.execute_reply": "2022-06-21T15:51:53.934943Z",
     "shell.execute_reply.started": "2022-06-21T15:51:53.844473Z"
    },
    "papermill": {},
    "tags": []
   },
   "outputs": [],
   "source": [
    "lines_list_4 = [x.replace('<', '') for x in lines_list_3]"
   ]
  },
  {
   "cell_type": "code",
   "execution_count": 23,
   "id": "f6ef4d7c",
   "metadata": {
    "execution": {
     "iopub.execute_input": "2022-06-21T15:51:53.938375Z",
     "iopub.status.busy": "2022-06-21T15:51:53.938167Z",
     "iopub.status.idle": "2022-06-21T15:51:54.025873Z",
     "shell.execute_reply": "2022-06-21T15:51:54.025188Z",
     "shell.execute_reply.started": "2022-06-21T15:51:53.938353Z"
    },
    "papermill": {},
    "tags": []
   },
   "outputs": [],
   "source": [
    "lines_today = lines_list_4"
   ]
  },
  {
   "cell_type": "markdown",
   "id": "28acbb41-a56b-405b-a303-cd7491614878",
   "metadata": {},
   "source": [
    "### Check that there is the same number of lines as their is games"
   ]
  },
  {
   "cell_type": "code",
   "execution_count": 24,
   "id": "847acf8e-d463-4d5f-903c-1f5a152d01c0",
   "metadata": {
    "execution": {
     "iopub.execute_input": "2022-06-21T15:51:54.027300Z",
     "iopub.status.busy": "2022-06-21T15:51:54.027072Z",
     "iopub.status.idle": "2022-06-21T15:51:54.120089Z",
     "shell.execute_reply": "2022-06-21T15:51:54.119466Z",
     "shell.execute_reply.started": "2022-06-21T15:51:54.027270Z"
    }
   },
   "outputs": [],
   "source": [
    "correct_num_games = len(lines_today)"
   ]
  },
  {
   "cell_type": "code",
   "execution_count": 25,
   "id": "961d6cb7-e9ca-4216-a7b5-c8674b03449f",
   "metadata": {
    "execution": {
     "iopub.execute_input": "2022-06-21T15:51:54.121336Z",
     "iopub.status.busy": "2022-06-21T15:51:54.121096Z",
     "iopub.status.idle": "2022-06-21T15:51:54.216089Z",
     "shell.execute_reply": "2022-06-21T15:51:54.215406Z",
     "shell.execute_reply.started": "2022-06-21T15:51:54.121303Z"
    }
   },
   "outputs": [],
   "source": [
    "correct_teams_today = []\n",
    "\n",
    "if len(teams_today) > len(lines_today):\n",
    "    correct_teams_today = teams_today[:correct_num_games]\n",
    "else:\n",
    "    correct_teams_today = teams_today"
   ]
  },
  {
   "cell_type": "markdown",
   "id": "e84b0345-4135-43e7-ab2f-24f9897df342",
   "metadata": {},
   "source": [
    "### Combine the Elements"
   ]
  },
  {
   "cell_type": "code",
   "execution_count": null,
   "id": "ede63bda-0265-4d6e-ae28-d6d62f143ce4",
   "metadata": {
    "execution": {
     "iopub.execute_input": "2022-06-21T15:51:54.217075Z",
     "iopub.status.busy": "2022-06-21T15:51:54.216914Z"
    }
   },
   "outputs": [],
   "source": [
    "team1 = teams_today[::2]\n",
    "team2 = teams_today[1::2]\n",
    "\n",
    "team1_line = lines_today[::2]\n",
    "team2_line = lines_today[1::2]\n",
    "\n",
    "combined_list = pd.DataFrame(\n",
    "    {'team1' : team2, \n",
    "    'team2' : team1, \n",
    "    'team1_line' : team2_line, \n",
    "    'team2_line' : team1_line,\n",
    "})\n",
    "\n",
    "combined_list.drop_duplicates(subset = ['team1', 'team2'], inplace = True)"
   ]
  },
  {
   "cell_type": "markdown",
   "id": "4561479b",
   "metadata": {
    "papermill": {},
    "tags": []
   },
   "source": [
    "### Today's NBA Games with Betting Lines from Draft Kings:"
   ]
  },
  {
   "cell_type": "code",
   "execution_count": null,
   "id": "7cff74ec-5c40-4dff-8e84-b7433d3c42ac",
   "metadata": {
    "papermill": {},
    "tags": []
   },
   "outputs": [],
   "source": [
    "combined_list"
   ]
  },
  {
   "cell_type": "markdown",
   "id": "0fb6bc69-0d1a-47a4-9979-bc8ab16b030b",
   "metadata": {
    "papermill": {},
    "tags": []
   },
   "source": [
    "### Create email with data"
   ]
  },
  {
   "cell_type": "code",
   "execution_count": null,
   "id": "cab6180d-e498-4950-9998-0a063cb6c126",
   "metadata": {
    "papermill": {},
    "tags": []
   },
   "outputs": [],
   "source": [
    "content = {\n",
    "    \"header\": emailbuilder.image(src=\"https://s3-symbol-logo.tradingview.com/draftkings--600.png\",\n",
    "                                 link=\"https://sportsbook.draftkings.com\",\n",
    "                                 align=\"center\",\n",
    "                                 width=\"20%\"),\n",
    "    \"txt_0\": emailbuilder.text(\"Hi Slugger ⚾,<br><br>\"\n",
    "                               f\"Here below the Moneylines* for MLB games as of {TODAY} :<br>\"),\n",
    "    \"table\": emailbuilder.table(combined_list,\n",
    "                                border=True,\n",
    "                                header=True,\n",
    "                                col_size={0: \"15%\", 1: \"15%\", 2: \"35%\", 3: \"35%\"},\n",
    "                                col_align={0: \"center\", 1: \"center\", 2: \"center\", 3: \"center\"}),\n",
    "    \"txt_1\": emailbuilder.text(\"<i>*A moneyline bet in sports refers to a wager on the winning team.</i>\"),\n",
    "    \"button_1\": emailbuilder.button(link=\"https://sportsbook.draftkings.com\",\n",
    "                                    text=\"Bet on Draft Kings\",\n",
    "                                    color=\"white\",\n",
    "                                    background_color=\"#53d337\"),\n",
    "    \"txt_4\": (\"Interested to improve this template, please send contact <a href='https://www.linkedin.com/in/ja-williams-529517187'>JA Williams<a/> or send a message to Naas Core Team at hello@naas.ai.<br><br>\"),\n",
    "    \"heading_5\": emailbuilder.text(\"Happy betting 💸!\"),\n",
    "    \"footer\": emailbuilder.footer_company(naas=True)\n",
    "}\n",
    "email_content = emailbuilder.generate(display='iframe', **content)"
   ]
  },
  {
   "cell_type": "markdown",
   "id": "d36a8ac0",
   "metadata": {
    "papermill": {},
    "tags": []
   },
   "source": [
    "## Output"
   ]
  },
  {
   "cell_type": "markdown",
   "id": "a4a98c48-4b87-4370-8657-168f689d39ba",
   "metadata": {
    "papermill": {},
    "tags": []
   },
   "source": [
    "### Send email"
   ]
  },
  {
   "cell_type": "code",
   "execution_count": null,
   "id": "878dd982-9ed1-48ef-9c7f-c5af9906eec5",
   "metadata": {
    "papermill": {},
    "tags": []
   },
   "outputs": [],
   "source": [
    "naas.notification.send(EMAIL_TO,\n",
    "                       EMAIL_SUBJECT,\n",
    "                       email_content)"
   ]
  }
 ],
 "metadata": {
  "kernelspec": {
   "display_name": "Python 3",
   "language": "python",
   "name": "python3"
  },
  "language_info": {
   "codemirror_mode": {
    "name": "ipython",
    "version": 3
   },
   "file_extension": ".py",
   "mimetype": "text/x-python",
   "name": "python",
   "nbconvert_exporter": "python",
   "pygments_lexer": "ipython3",
   "version": "3.9.6"
  },
  "papermill": {
   "default_parameters": {},
   "environment_variables": {},
   "parameters": {},
   "version": "2.3.3"
  },
  "widgets": {
   "application/vnd.jupyter.widget-state+json": {
    "state": {},
    "version_major": 2,
    "version_minor": 0
   }
  }
 },
 "nbformat": 4,
 "nbformat_minor": 5
}
