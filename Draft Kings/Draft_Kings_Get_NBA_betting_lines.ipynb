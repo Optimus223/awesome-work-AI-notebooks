{
 "cells": [
  {
   "cell_type": "markdown",
   "id": "latin-packing",
   "metadata": {
    "execution": {
     "iopub.execute_input": "2021-02-23T14:22:16.610471Z",
     "iopub.status.busy": "2021-02-23T14:22:16.610129Z",
     "iopub.status.idle": "2021-02-23T14:22:16.627784Z",
     "shell.execute_reply": "2021-02-23T14:22:16.626866Z",
     "shell.execute_reply.started": "2021-02-23T14:22:16.610384Z"
    },
    "papermill": {},
    "tags": []
   },
   "source": [
    "<img width=\"10%\" alt=\"Naas\" src=\"https://landen.imgix.net/jtci2pxwjczr/assets/5ice39g4.png?w=160\"/>"
   ]
  },
  {
   "cell_type": "markdown",
   "id": "compressed-wilson",
   "metadata": {
    "papermill": {},
    "tags": []
   },
   "source": [
    "# Draft Kings - Get NBA betting lines\n",
    "<a href=\"https://app.naas.ai/user-redirect/naas/downloader?url=https://raw.githubusercontent.com/jupyter-naas/awesome-notebooks/master/template.ipynb\" target=\"_parent\">\n",
    "<img src=\"https://img.shields.io/badge/-Open%20in%20Naas-success?labelColor=000000&logo=data:image/svg+xml;base64,PD94bWwgdmVyc2lvbj0iMS4wIiBlbmNvZGluZz0iVVRGLTgiPz4KPHN2ZyB3aWR0aD0iMTAyNHB4IiBoZWlnaHQ9IjEwMjRweCIgdmlld0JveD0iMCAwIDEwMjQgMTAyNCIgeG1sbnM9Imh0dHA6Ly93d3cudzMub3JnLzIwMDAvc3ZnIiB4bWxuczp4bGluaz0iaHR0cDovL3d3dy53My5vcmcvMTk5OS94bGluayIgdmVyc2lvbj0iMS4xIj4KIDwhLS0gR2VuZXJhdGVkIGJ5IFBpeGVsbWF0b3IgUHJvIDIuMC41IC0tPgogPGRlZnM+CiAgPHRleHQgaWQ9InN0cmluZyIgdHJhbnNmb3JtPSJtYXRyaXgoMS4wIDAuMCAwLjAgMS4wIDIyOC4wIDU0LjUpIiBmb250LWZhbWlseT0iQ29tZm9ydGFhLVJlZ3VsYXIsIENvbWZvcnRhYSIgZm9udC1zaXplPSI4MDAiIHRleHQtZGVjb3JhdGlvbj0ibm9uZSIgZmlsbD0iI2ZmZmZmZiIgeD0iMS4xOTk5OTk5OTk5OTk5ODg2IiB5PSI3MDUuMCI+bjwvdGV4dD4KIDwvZGVmcz4KIDx1c2UgaWQ9Im4iIHhsaW5rOmhyZWY9IiNzdHJpbmciLz4KPC9zdmc+Cg==\"/>\n",
    "</a>"
   ]
  },
  {
   "cell_type": "markdown",
   "id": "religious-programmer",
   "metadata": {},
   "source": [
    "**Tags:** #draftkings #nba #betting #python #analytics #sports #sports_betting #opendata #notification #email"
   ]
  },
  {
   "cell_type": "markdown",
   "id": "1fe9f56e-561c-4f52-aef8-b861c9462107",
   "metadata": {},
   "source": [
    "**Author:** [JA Williams](https://www.linkedin.com/in/ja-williams-529517187/)"
   ]
  },
  {
   "cell_type": "markdown",
   "id": "31ea7cdb-e10d-43fc-b026-f69249a59736",
   "metadata": {},
   "source": [
    "This notebooks gathers the betting lines for NBA games each day. It scrapes the Money Lines for each team from the Draft Kings website.\n",
    "\n",
    "Data source: https://sportsbook.draftkings.com/leagues/basketball/88670846?wpsrc=Organic%20Search&wpaffn=Google&wpkw=https%3A%2F%2Fsportsbook.draftkings.com%2Fleagues%2Fbasketball%2F88670846&wpcn=leagues&wpscn=basketball%2F88670846"
   ]
  },
  {
   "cell_type": "markdown",
   "id": "5397666a",
   "metadata": {},
   "source": [
    "## Input"
   ]
  },
  {
   "cell_type": "markdown",
   "id": "numeric-mediterranean",
   "metadata": {},
   "source": [
    "### Import libraries"
   ]
  },
  {
   "cell_type": "code",
   "execution_count": 33,
   "id": "potential-surfing",
   "metadata": {
    "execution": {
     "iopub.execute_input": "2022-04-13T08:29:09.899472Z",
     "iopub.status.busy": "2022-04-13T08:29:09.899236Z",
     "iopub.status.idle": "2022-04-13T08:29:09.913201Z",
     "shell.execute_reply": "2022-04-13T08:29:09.912635Z",
     "shell.execute_reply.started": "2022-04-13T08:29:09.899449Z"
    },
    "tags": []
   },
   "outputs": [],
   "source": [
    "import naas\n",
    "import requests\n",
    "import pandas as pd\n",
    "from bs4 import BeautifulSoup\n",
    "from naas_drivers import emailbuilder"
   ]
  },
  {
   "cell_type": "markdown",
   "id": "0d884e55-9270-49e5-8645-60e91385297f",
   "metadata": {},
   "source": [
    "### Setup Draft Kings"
   ]
  },
  {
   "cell_type": "code",
   "execution_count": null,
   "id": "e0a304b4-d823-4258-9b53-5ea10daabb68",
   "metadata": {},
   "outputs": [],
   "source": [
    "# URL to scrap data\n",
    "URL = 'https://sportsbook.draftkings.com/leagues/basketball/88670846'"
   ]
  },
  {
   "cell_type": "markdown",
   "id": "968aaba2-6c0c-4342-9442-73bf5d63f25f",
   "metadata": {},
   "source": [
    "### Setup Naas"
   ]
  },
  {
   "cell_type": "code",
   "execution_count": null,
   "id": "cd653d24",
   "metadata": {},
   "outputs": [],
   "source": [
    "# Schedule the Notebook to run at 11 AM each day of the NBA season\n",
    "naas.scheduler.add(cron='0 17 * 10-5 *')\n",
    "\n",
    "# To delete your scheduler, uncomment the line below and execute the cell\n",
    "# naas.scheduler.delete()\n",
    "\n",
    "# Email\n",
    "EMAIL_TO = [\"florent@naas.ai\", \"jeremy@naas.ai\", \"maxime@naas.ai\", \"valentin@naas.ai\"]\n",
    "EMAIL_SUBJECT = \"🏀 Draft Kings : Your betting lines of the day\""
   ]
  },
  {
   "cell_type": "markdown",
   "id": "085253c3",
   "metadata": {},
   "source": [
    "## Model"
   ]
  },
  {
   "cell_type": "markdown",
   "id": "aggressive-trustee",
   "metadata": {},
   "source": [
    "### Scrape Data from Draft Kings"
   ]
  },
  {
   "cell_type": "code",
   "execution_count": null,
   "id": "continuous-melbourne",
   "metadata": {},
   "outputs": [],
   "source": [
    "page = requests.get(URL)\n",
    "soup = BeautifulSoup(page.content, \"html.parser\")"
   ]
  },
  {
   "cell_type": "code",
   "execution_count": null,
   "id": "8a385797",
   "metadata": {},
   "outputs": [],
   "source": [
    "results = soup.find(id='root')"
   ]
  },
  {
   "cell_type": "code",
   "execution_count": null,
   "id": "40fd911e",
   "metadata": {},
   "outputs": [],
   "source": [
    "div = results.find_all('div', class_='parlay-card-10-a')"
   ]
  },
  {
   "cell_type": "markdown",
   "id": "b15b304b-9f82-4349-bb83-3fc55e74b09a",
   "metadata": {},
   "source": [
    "### Separate the Elements"
   ]
  },
  {
   "cell_type": "code",
   "execution_count": null,
   "id": "1383d1a5-9741-4376-abe9-ae608709b7da",
   "metadata": {
    "tags": []
   },
   "outputs": [],
   "source": [
    "teams = []\n",
    "lines = []\n",
    "\n",
    "for element in div:\n",
    "    team = element.find_all(\"div\", class_=\"event-cell__name-text\")\n",
    "    teams.append(f'{team}')\n",
    "    line = element.find_all(\"span\", class_=\"sportsbook-odds american no-margin default-color\")\n",
    "    lines.append(f'{line}')"
   ]
  },
  {
   "cell_type": "markdown",
   "id": "tested-astrology",
   "metadata": {},
   "source": [
    "### Clean Team Element"
   ]
  },
  {
   "cell_type": "code",
   "execution_count": null,
   "id": "crude-louisville",
   "metadata": {
    "papermill": {},
    "tags": []
   },
   "outputs": [],
   "source": [
    "team_a = teams[0]\n",
    "team_b = teams[1]\n",
    "team_list_a = team_a.split(\", \")\n",
    "team_list_b = team_b.split(\",\")"
   ]
  },
  {
   "cell_type": "code",
   "execution_count": null,
   "id": "8a9d0635",
   "metadata": {},
   "outputs": [],
   "source": [
    "team_list2_a = []\n",
    "team_list2_b = []\n",
    "\n",
    "for t in team_list_a:\n",
    "    new = t[:-6]\n",
    "    team_list2_a.append(new)\n",
    "\n",
    "for t in team_list_b:\n",
    "    new = t[:-6]\n",
    "    team_list2_b.append(new)"
   ]
  },
  {
   "cell_type": "code",
   "execution_count": null,
   "id": "952e0c3f",
   "metadata": {},
   "outputs": [],
   "source": [
    "team_list3_a = []\n",
    "team_list3_b = []\n",
    "\n",
    "for x in team_list2_a:\n",
    "    new = x[35:]\n",
    "    team_list3_a.append(new)\n",
    "\n",
    "for x in team_list2_b:\n",
    "    new = x[35:]\n",
    "    team_list3_b.append(new)"
   ]
  },
  {
   "cell_type": "code",
   "execution_count": null,
   "id": "3cac8dd7",
   "metadata": {},
   "outputs": [],
   "source": [
    "team_list4_a = [q.replace('>', '') for q in team_list3_a]\n",
    "dk_team_names_a = [q.replace('<', '') for q in team_list4_a]\n",
    "\n",
    "team_list4_b = [q.replace('>', '') for q in team_list3_b]\n",
    "dk_team_names_b = [q.replace('<', '') for q in team_list4_b]"
   ]
  },
  {
   "cell_type": "code",
   "execution_count": null,
   "id": "e5e5a3b3",
   "metadata": {},
   "outputs": [],
   "source": [
    "dk_team_names_a.extend(dk_team_names_b)"
   ]
  },
  {
   "cell_type": "code",
   "execution_count": null,
   "id": "6553b9ce",
   "metadata": {},
   "outputs": [],
   "source": [
    "# Change Team Names to Match with 3-letter Code\n",
    "new1 = [team.replace('CLE Cavaliers', 'CLE') for team in dk_team_names_a]\n",
    "new2 = [team.replace('CHI Bulls', 'CHI') for team in new1]\n",
    "new3 = [team.replace('MIN Timberwolves', 'MIN') for team in new2]\n",
    "new4 = [team.replace('MIA Heat', 'MIA') for team in new3]\n",
    "new5 = [team.replace('IND Pacers', 'IND') for team in new4]\n",
    "new6 = [team.replace('SA Spurs', 'SAS') for team in new5]\n",
    "new7 = [team.replace('MIL Bucks', 'MIL') for team in new6]\n",
    "new8 = [team.replace('GS Warriors', 'GSW') for team in new7]\n",
    "new9 = [team.replace('SAC Kings', 'SAC') for team in new8]\n",
    "new10 = [team.replace('UTA Jazz', 'UTA') for team in new9]\n",
    "new11 = [team.replace('TOR Raptors', 'TOR') for team in new10]\n",
    "new12 = [team.replace('DEN Nuggets', 'DEN') for team in new11]\n",
    "new13 = [team.replace('WAS Wizards', 'WAS') for team in new12]\n",
    "new14 = [team.replace('POR Trail Blazers', 'POR') for team in new13]\n",
    "new15 = [team.replace('NY Knicks', 'NYK') for team in new14]\n",
    "new16 = [team.replace('BKN Nets', 'BRK') for team in new15]\n",
    "new17 = [team.replace('LA Clippers', 'LAC') for team in new16]\n",
    "new18 = [team.replace('DET Pistons', 'DET') for team in new17]\n",
    "new19 = [team.replace('DAL Mavericks', 'DAL') for team in new18]\n",
    "new20 = [team.replace('BOS Celtics', 'BOS') for team in new19]\n",
    "new21 = [team.replace('PHI 76ers', 'PHI') for team in new20]\n",
    "new22 = [team.replace('ORL Magic', 'ORL') for team in new21]\n",
    "new23 = [team.replace('MEM Grizzlies', 'MEM') for team in new22]\n",
    "new24 = [team.replace('OKC Thunder', 'OKC') for team in new23]\n",
    "new25 = [team.replace('HOU Rockets', 'HOU') for team in new24]\n",
    "new26 = [team.replace('NO Pelicans', 'NOP') for team in new25]\n",
    "new27 = [team.replace('LA Lakers', 'LAL') for team in new26]\n",
    "new28 = [team.replace('ATL Hawks', 'ATL') for team in new27]\n",
    "new29 = [team.replace('PHO Suns', 'PHO') for team in new28]\n",
    "new30 = [team.replace('CHA Hornets', 'CHA') for team in new29]"
   ]
  },
  {
   "cell_type": "code",
   "execution_count": null,
   "id": "c24e89a6",
   "metadata": {},
   "outputs": [],
   "source": [
    "teams_today = new30"
   ]
  },
  {
   "cell_type": "markdown",
   "id": "890f7c86-b7bb-4f5d-9a1b-e492dd9580fd",
   "metadata": {},
   "source": [
    "### Clean Lines Element"
   ]
  },
  {
   "cell_type": "code",
   "execution_count": null,
   "id": "9c4e3b7b-6440-4844-8054-265f1aec65eb",
   "metadata": {},
   "outputs": [],
   "source": [
    "line_a = lines[0]\n",
    "line_b = lines[1]\n",
    "line_list_a = line_a.split(\", \")\n",
    "line_list_b = line_b.split(\", \")"
   ]
  },
  {
   "cell_type": "code",
   "execution_count": null,
   "id": "1199b9e6",
   "metadata": {},
   "outputs": [],
   "source": [
    "line_list2_a = []\n",
    "line_list2_b = []\n",
    "\n",
    "for t in line_list_a:\n",
    "    new = t[:-6]\n",
    "    line_list2_a.append(new)\n",
    "\n",
    "for t in line_list_b:\n",
    "    new = t[:-6]\n",
    "    line_list2_b.append(new)"
   ]
  },
  {
   "cell_type": "code",
   "execution_count": null,
   "id": "11178529",
   "metadata": {},
   "outputs": [],
   "source": [
    "line_list3_a = []\n",
    "line_list3_b = []\n",
    "\n",
    "for x in line_list2_a:\n",
    "    new = x[63:]\n",
    "    line_list3_a.append(new)\n",
    "\n",
    "for x in line_list2_b:\n",
    "    new = x[63:]\n",
    "    line_list3_b.append(new)"
   ]
  },
  {
   "cell_type": "code",
   "execution_count": null,
   "id": "525a4823",
   "metadata": {},
   "outputs": [],
   "source": [
    "line_list4_a = [q.replace('>', '') for q in line_list3_a]\n",
    "line_list5_a = [q.replace('/', '') for q in line_list4_a]\n",
    "dk_lines_a = [q.replace('<', '') for q in line_list5_a]\n",
    "\n",
    "line_list4_b = [q.replace('>', '') for q in line_list3_b]\n",
    "line_list5_b = [q.replace('/', '') for q in line_list4_b]\n",
    "dk_lines_b = [q.replace('<', '') for q in line_list5_b]"
   ]
  },
  {
   "cell_type": "code",
   "execution_count": null,
   "id": "554679f0",
   "metadata": {},
   "outputs": [],
   "source": [
    "dk_lines_a.extend(dk_lines_b)"
   ]
  },
  {
   "cell_type": "code",
   "execution_count": null,
   "id": "f6ef4d7c",
   "metadata": {},
   "outputs": [],
   "source": [
    "lines_today = dk_lines_a"
   ]
  },
  {
   "cell_type": "markdown",
   "id": "a28950bb-1d7d-4835-a83a-faac837ebc7c",
   "metadata": {},
   "source": [
    "### Check that there is the same number of lines as their is games"
   ]
  },
  {
   "cell_type": "code",
   "execution_count": null,
   "id": "db205965-a2dc-4541-ba8e-db3250d1cff0",
   "metadata": {},
   "outputs": [],
   "source": [
    "correct_num_games = len(lines_today)"
   ]
  },
  {
   "cell_type": "code",
   "execution_count": null,
   "id": "070a83eb",
   "metadata": {},
   "outputs": [],
   "source": [
    "correct_teams_today = []\n",
    "\n",
    "if len(teams_today) > len(lines_today):\n",
    "    correct_teams_today = teams_today[:correct_num_games]\n",
    "else:\n",
    "    correct_teams_today = teams_today"
   ]
  },
  {
   "cell_type": "markdown",
   "id": "9f2323f8",
   "metadata": {},
   "source": [
    "### Combine the Two Elements"
   ]
  },
  {
   "cell_type": "code",
   "execution_count": null,
   "id": "b07c769f-1880-4721-a38f-cb7d72c020ee",
   "metadata": {},
   "outputs": [],
   "source": [
    "team1 = correct_teams_today[1::2]\n",
    "team2 = correct_teams_today[::2]"
   ]
  },
  {
   "cell_type": "code",
   "execution_count": null,
   "id": "877c80e2",
   "metadata": {
    "tags": []
   },
   "outputs": [],
   "source": [
    "team1_line = lines_today[1::2]\n",
    "team2_line = lines_today[::2]"
   ]
  },
  {
   "cell_type": "code",
   "execution_count": 51,
   "id": "3f3eb59c",
   "metadata": {
    "execution": {
     "iopub.execute_input": "2022-04-13T08:36:04.425365Z",
     "iopub.status.busy": "2022-04-13T08:36:04.425118Z",
     "iopub.status.idle": "2022-04-13T08:36:04.432269Z",
     "shell.execute_reply": "2022-04-13T08:36:04.431588Z",
     "shell.execute_reply.started": "2022-04-13T08:36:04.425344Z"
    },
    "tags": []
   },
   "outputs": [],
   "source": [
    "combined_list = pd.DataFrame(\n",
    "    {'Team 1' : team1, \n",
    "     'Team 2' : team2, \n",
    "     'Team 1 - Betting line' : team1_line, \n",
    "     'Team 2 - Betting line' : team2_line\n",
    "})"
   ]
  },
  {
   "cell_type": "markdown",
   "id": "4561479b",
   "metadata": {},
   "source": [
    "### Today's NBA Games with Betting Lines from Draft Kings:"
   ]
  },
  {
   "cell_type": "code",
   "execution_count": 52,
   "id": "7cff74ec-5c40-4dff-8e84-b7433d3c42ac",
   "metadata": {
    "execution": {
     "iopub.execute_input": "2022-04-13T08:36:05.174061Z",
     "iopub.status.busy": "2022-04-13T08:36:05.173828Z",
     "iopub.status.idle": "2022-04-13T08:36:05.181738Z",
     "shell.execute_reply": "2022-04-13T08:36:05.181097Z",
     "shell.execute_reply.started": "2022-04-13T08:36:05.174037Z"
    },
    "tags": []
   },
   "outputs": [
    {
     "data": {
      "text/html": [
       "<div>\n",
       "<style scoped>\n",
       "    .dataframe tbody tr th:only-of-type {\n",
       "        vertical-align: middle;\n",
       "    }\n",
       "\n",
       "    .dataframe tbody tr th {\n",
       "        vertical-align: top;\n",
       "    }\n",
       "\n",
       "    .dataframe thead th {\n",
       "        text-align: right;\n",
       "    }\n",
       "</style>\n",
       "<table border=\"1\" class=\"dataframe\">\n",
       "  <thead>\n",
       "    <tr style=\"text-align: right;\">\n",
       "      <th></th>\n",
       "      <th>Team 1</th>\n",
       "      <th>Team 2</th>\n",
       "      <th>Team 1 - Betting line</th>\n",
       "      <th>Team 2 - Betting line</th>\n",
       "    </tr>\n",
       "  </thead>\n",
       "  <tbody>\n",
       "    <tr>\n",
       "      <th>0</th>\n",
       "      <td>ATL</td>\n",
       "      <td>CHA</td>\n",
       "      <td>-200</td>\n",
       "      <td>+170</td>\n",
       "    </tr>\n",
       "    <tr>\n",
       "      <th>1</th>\n",
       "      <td>NOP</td>\n",
       "      <td>SAS</td>\n",
       "      <td>-225</td>\n",
       "      <td>+185</td>\n",
       "    </tr>\n",
       "  </tbody>\n",
       "</table>\n",
       "</div>"
      ],
      "text/plain": [
       "  Team 1 Team 2 Team 1 - Betting line Team 2 - Betting line\n",
       "0    ATL    CHA                  -200                  +170\n",
       "1    NOP    SAS                  -225                  +185"
      ]
     },
     "execution_count": 52,
     "metadata": {},
     "output_type": "execute_result"
    }
   ],
   "source": [
    "combined_list"
   ]
  },
  {
   "cell_type": "markdown",
   "id": "0fb6bc69-0d1a-47a4-9979-bc8ab16b030b",
   "metadata": {},
   "source": [
    "### Create email with data"
   ]
  },
  {
   "cell_type": "code",
   "execution_count": 63,
   "id": "cab6180d-e498-4950-9998-0a063cb6c126",
   "metadata": {
    "execution": {
     "iopub.execute_input": "2022-04-13T08:44:55.112547Z",
     "iopub.status.busy": "2022-04-13T08:44:55.112323Z",
     "iopub.status.idle": "2022-04-13T08:44:55.120796Z",
     "shell.execute_reply": "2022-04-13T08:44:55.120115Z",
     "shell.execute_reply.started": "2022-04-13T08:44:55.112525Z"
    },
    "tags": []
   },
   "outputs": [
    {
     "data": {
      "text/html": [
       "\n",
       "            <script>\n",
       "                function resizeIframe_c85c3bcf4aa244d2a328246560ec6fd9(obj) {\n",
       "                    obj.style.height = obj.contentWindow.document.documentElement.scrollHeight + 'px';\n",
       "                }\n",
       "            </script>\n",
       "            <iframe id=\"FileFrame_c85c3bcf4aa244d2a328246560ec6fd9\" src=\"about:blank\"\n",
       "                style=\"border: 0; width: 100%; height: 100%\" onload=\"resizeIframe_c85c3bcf4aa244d2a328246560ec6fd9(this)\">\n",
       "            </iframe>\n",
       "            <script type=\"text/javascript\">\n",
       "            var doc_c85c3bcf4aa244d2a328246560ec6fd9 = document.getElementById('FileFrame_c85c3bcf4aa244d2a328246560ec6fd9').contentWindow.document;\n",
       "            doc_c85c3bcf4aa244d2a328246560ec6fd9.open();\n",
       "            doc_c85c3bcf4aa244d2a328246560ec6fd9.write(`<html lang='en'><head><meta httpequiv='Content-Type' content='text/html; charset=utf-8'/> <meta httpequiv='Content-Type' content='width=device-width, initial-scale=1'/> <meta name='viewport' content='width=device-width, initial-scale=1'/> <meta httpequiv='X-UA-Compatible' content='IE=edge'/> <style>\n",
       "/* CLIENT-SPECIFIC STYLES */\n",
       "body, table, td, a { -webkit-text-size-adjust: 100%; -ms-text-size-adjust: 100%; }\n",
       "table, td { mso-table-lspace: 0pt; mso-table-rspace: 0pt; }\n",
       "img { -ms-interpolation-mode: bicubic; }\n",
       "\n",
       "/* RESET STYLES */\n",
       "img { border: 0; height: auto; line-height: 100%; outline: none; text-decoration: none; }\n",
       "table { border-collapse: collapse !important; text-align: left !important; }\n",
       "body { height: 100% !important; margin: 0 !important; padding: 0 !important; width: 100% !important; }\n",
       "\n",
       "/* iOS BLUE LINKS */\n",
       "a[x-apple-data-detectors] {\n",
       "    color: inherit !important;\n",
       "    text-decoration: none !important;\n",
       "    font-size: inherit !important;\n",
       "    font-family: inherit !important;\n",
       "    font-weight: inherit !important;\n",
       "    line-height: inherit !important;\n",
       "}\n",
       "\n",
       "/* GMAIL BLUE LINKS */\n",
       "u + #body a {\n",
       "    color: inherit;\n",
       "    text-decoration: none;\n",
       "    font-size: inherit;\n",
       "    font-family: inherit;\n",
       "    font-weight: inherit;\n",
       "    line-height: inherit;\n",
       "}\n",
       "\n",
       "/* SAMSUNG MAIL BLUE LINKS */\n",
       "#MessageViewBody a {\n",
       "    color: inherit;\n",
       "    text-decoration: none;\n",
       "    font-size: inherit;\n",
       "    font-family: inherit;\n",
       "    font-weight: inherit;\n",
       "    line-height: inherit;\n",
       "}\n",
       "\n",
       "a.link { color: #B200FD; font-weight: 600; text-decoration: underline; }\n",
       "a.link:hover { color: #000000 !important; text-decoration: none !important; background-color: #5c1958 !important; }\n",
       "a.button:hover { color: #ffffff !important; background-color: #5c1958 !important; }\n",
       "\n",
       "td, th {\n",
       "    padding: 10px;\n",
       "}\n",
       "\n",
       "th {\n",
       "    text-align: center;\n",
       "}\n",
       "\n",
       "table * {\n",
       "    margin: 18px 0 !important;\n",
       "    font-size: 18px;\n",
       "}\n",
       "\n",
       ".table_border {\n",
       "  border-collapse: collapse;\n",
       "  overflow: hidden;\n",
       "}\n",
       ".table_border tr:hover {\n",
       "  background-color: AliceBlue !important;\n",
       "  color: black;\n",
       "}\n",
       "\n",
       ".table_border tr:nth-child(even) { background-color: ghostwhite}\n",
       "\n",
       "@media screen and (min-width:600px) {\n",
       "    h1 { font-size: 48px !important; line-height: 48px !important; }\n",
       "    .intro { font-size: 24px !important; line-height: 36px !important; }\n",
       "}\n",
       ".basic_font {\n",
       "    font-family: 'Avenir Next', -apple-system, BlinkMacSystemFont, 'Segoe UI', Roboto, Helvetica, Arial, sans-serif, 'Apple Color Emoji', 'Segoe UI Emoji', 'Segoe UI Symbol';  # noqa: E501\n",
       "}\n",
       "</style></head> <body style='margin: 0 !important; padding: 0 !important; '><div style='display: none; max-height: 0; overflow: hidden; '></div> <div style='display: none; max-height: 0; overflow: hidden; '>&nbsp;‌&nbsp;‌&nbsp;‌&nbsp;‌&nbsp;‌&nbsp;‌&nbsp;‌&nbsp;‌&nbsp;‌&nbsp;‌&nbsp;‌&nbsp;‌&nbsp;‌&nbsp;‌&nbsp;‌&nbsp;‌&nbsp;‌&nbsp;‌&nbsp;‌&nbsp;‌&nbsp;‌&nbsp;‌&nbsp;‌&nbsp;‌&nbsp;‌&nbsp;‌&nbsp;‌&nbsp;‌&nbsp;‌&nbsp;‌&nbsp;‌&nbsp;‌&nbsp;‌&nbsp;‌&nbsp;‌&nbsp;‌&nbsp;‌&nbsp;‌&nbsp;‌&nbsp;‌&nbsp;‌&nbsp;‌&nbsp;‌&nbsp;‌&nbsp;‌&nbsp;‌&nbsp;‌&nbsp;‌&nbsp;‌&nbsp;‌&nbsp;‌&nbsp;‌&nbsp;‌&nbsp;‌&nbsp;‌&nbsp;‌&nbsp;‌&nbsp;‌&nbsp;‌&nbsp;‌&nbsp;‌&nbsp;‌&nbsp;‌&nbsp;‌&nbsp;‌&nbsp;‌&nbsp;‌&nbsp;‌&nbsp;‌&nbsp;‌&nbsp;‌&nbsp;‌&nbsp;‌&nbsp;‌&nbsp;‌&nbsp;‌&nbsp;‌&nbsp;‌&nbsp;‌&nbsp;‌&nbsp;‌&nbsp;‌&nbsp;‌&nbsp;‌&nbsp;‌&nbsp;‌&nbsp;‌&nbsp;‌&nbsp;‌&nbsp;‌&nbsp;‌&nbsp;‌&nbsp;‌&nbsp;‌&nbsp;‌&nbsp;‌&nbsp;‌&nbsp;‌&nbsp;‌&nbsp;‌&nbsp;‌&nbsp;‌&nbsp;‌&nbsp;‌&nbsp;‌&nbsp;‌&nbsp;‌&nbsp;‌&nbsp;‌&nbsp;‌&nbsp;‌&nbsp;‌&nbsp;‌&nbsp;‌&nbsp;‌&nbsp;‌&nbsp;‌&nbsp;‌&nbsp;‌&nbsp;‌&nbsp;‌&nbsp;‌&nbsp;‌&nbsp;‌&nbsp;‌&nbsp;‌&nbsp;‌&nbsp;‌&nbsp;‌&nbsp;‌&nbsp;‌&nbsp;‌&nbsp;‌&nbsp;‌&nbsp;‌&nbsp;‌&nbsp;‌&nbsp;‌&nbsp;‌&nbsp;‌&nbsp;‌&nbsp;‌&nbsp;‌&nbsp;‌&nbsp;‌&nbsp;‌&nbsp;‌&nbsp;‌&nbsp;‌&nbsp;‌&nbsp;‌&nbsp;‌&nbsp;‌&nbsp;‌&nbsp;‌&nbsp;‌&nbsp;‌&nbsp;‌&nbsp;‌&nbsp;‌&nbsp;‌&nbsp;‌&nbsp;‌&nbsp;‌&nbsp;‌&nbsp;‌&nbsp;‌&nbsp;‌&nbsp;‌&nbsp;‌&nbsp;‌&nbsp;‌&nbsp;‌&nbsp;‌&nbsp;‌&nbsp;‌&nbsp;‌&nbsp;‌&nbsp;‌&nbsp;‌&nbsp;‌&nbsp;‌&nbsp;‌&nbsp;‌&nbsp;‌&nbsp;‌&nbsp;‌&nbsp;‌&nbsp;‌&nbsp;‌&nbsp;‌&nbsp;‌&nbsp;‌&nbsp;‌&nbsp;‌&nbsp;‌&nbsp;‌&nbsp;‌&nbsp;‌&nbsp;‌&nbsp;‌&nbsp;‌&nbsp;‌&nbsp;‌&nbsp;‌&nbsp;‌&nbsp;‌&nbsp;‌&nbsp;‌&nbsp;‌&nbsp;‌&nbsp;‌&nbsp;‌&nbsp;‌&nbsp;‌&nbsp;‌&nbsp;‌&nbsp;‌&nbsp;‌&nbsp;‌&nbsp;‌&nbsp;‌&nbsp;‌&nbsp;‌&nbsp;‌&nbsp;‌&nbsp;‌&nbsp;‌&nbsp;‌&nbsp;‌&nbsp;‌&nbsp;‌&nbsp;‌&nbsp;‌&nbsp;‌&nbsp;‌&nbsp;‌&nbsp;‌&nbsp;‌&nbsp;‌</div> \n",
       "<!--[if (gte mso 9)|(IE)]>\n",
       "<table cellspacing=\"0\" cellpadding=\"0\" border=\"0\" width=\"720\" align=\"center\" role=\"presentation\"><tr><td>\n",
       "<![endif]-->\n",
       " <div lang='en' class='basic_font' style='background-color: white; color: #2b2b2b; font-size: 18px; font-weight: 400; line-height: 28px; margin: 0 auto; max-width: 720px; padding: 40px 20px 40px 20px; '><main><a class='link' href='https://sportsbook.draftkings.com'><img src='https://s3-symbol-logo.tradingview.com/draftkings--600.png?naas_uid=bdc0941d-4871-4373-9dd1-38237c8f38a5' height='80%' width='20%' style='border-radius: 4px; margin: 0 auto 0 auto; display: block; '/></a> <p style='padding-left: 10px; padding-right: 10px; color: #000000; font-size: 18px; '>Hi 🏀,<br><br>Here below the betting lines for NBA games today :<br></p> <p><table style='width: 100%; border-collapse: collapse; ' class='table_border'><tr><th style='border: 1px solid black; color: white; background-color: black; '>Team 1</th> <th style='border: 1px solid black; color: white; background-color: black; '>Team 2</th> <th style='border: 1px solid black; color: white; background-color: black; '>Team 1 - Betting line</th> <th style='border: 1px solid black; color: white; background-color: black; '>Team 2 - Betting line</th></tr> <tr><td style='border: 1px solid black; width: 15%; text-align: center; '><p style='padding-left: 10px; padding-right: 10px; color: #000000; font-size: 18px; '>ATL</p></td> <td style='border: 1px solid black; width: 15%; text-align: center; '><p style='padding-left: 10px; padding-right: 10px; color: #000000; font-size: 18px; '>CHA</p></td> <td style='border: 1px solid black; width: 35%; text-align: center; '><p style='padding-left: 10px; padding-right: 10px; color: #000000; font-size: 18px; '>-200</p></td> <td style='border: 1px solid black; width: 35%; text-align: center; '><p style='padding-left: 10px; padding-right: 10px; color: #000000; font-size: 18px; '>+170</p></td></tr> <tr><td style='border: 1px solid black; width: 15%; text-align: center; '><p style='padding-left: 10px; padding-right: 10px; color: #000000; font-size: 18px; '>NOP</p></td> <td style='border: 1px solid black; width: 15%; text-align: center; '><p style='padding-left: 10px; padding-right: 10px; color: #000000; font-size: 18px; '>SAS</p></td> <td style='border: 1px solid black; width: 35%; text-align: center; '><p style='padding-left: 10px; padding-right: 10px; color: #000000; font-size: 18px; '>-225</p></td> <td style='border: 1px solid black; width: 35%; text-align: center; '><p style='padding-left: 10px; padding-right: 10px; color: #000000; font-size: 18px; '>+185</p></td></tr></table></p> <center><div style='margin: 48px 0; '><a class='button link' href='https://sportsbook.draftkings.com' style='background-color: #53d337; color: white; border-radius: 4px; display: inline-block; font-family: sans-serif; font-size: 18px; font-weight: bold; line-height: 60px; text-align: center; text-decoration: none; width: auto; max-width: 300px; padding-left: 10px; padding-right: 10px; -webkit-text-size-adjust: none; '>Bet on Draft Kings</a></div></center> <p style='padding-left: 10px; padding-right: 10px; color: #000000; font-size: 18px; '>Interested to improve this template, please send contact <a href='https://www.linkedin.com/in/ja-williams-529517187'>JA Williams<a/> or send a message to Naas Core Team at hello@naas.ai<br><br></p> <p style='padding-left: 10px; padding-right: 10px; color: #000000; font-size: 18px; '>Happy betting 💸!</p></main> <footer><hr/> <p style='text-align: center; '><a href='https://github.com/jupyter-naas/naas' class='link' target='_blank'><img width='6%' align='center' src='https://icons.iconarchive.com/icons/icons8/windows-8/512/Programming-Github-icon.png' style='padding: 5px; margin: 0px 15px; border-radius: 20%; background-color: white; '/></a> <a href='https://www.youtube.com/channel/UCKKG5hzjXXU_rRdHHWQ8JHQ?sub_confirmation=1' class='link' target='_blank'><img width='6%' align='center' src='https://icons.iconarchive.com/icons/icons8/windows-8/512/Social-Networks-Youtube-icon.png' style='padding: 5px; margin: 0px 15px; border-radius: 20%; background-color: white; '/></a> <a href='https://www.linkedin.com/showcase/naas-ai' class='link' target='_blank'><img width='6%' align='center' src='https://icons.iconarchive.com/icons/icons8/windows-8/512/Social-Networks-Linkedin-icon.png' style='padding: 5px; margin: 0px 15px; border-radius: 20%; background-color: white; '/></a> <a href='https://twitter.com/JupyterNaas' class='link' target='_blank'><img width='6%' align='center' src='https://icons.iconarchive.com/icons/icons8/windows-8/512/Social-Networks-Twitter-icon.png' style='padding: 5px; margin: 0px 15px; border-radius: 20%; background-color: white; '/></a></p> <p style='line-height: 1; text-align: center; '><span style='font-size: 12px; '><b>Naas: Notebooks-as-a-service</b> <br/> <b><a target='_blank' href='https://www.naas.ai/'>www.naas.ai</a></b> <br/></span></p> <p style='line-height: 1; text-align: center; '><span style='font-size: 11px; '>Powered by CASHSTORY © 2021 <br/> CashStory SAS, 5 rue Hermel, 75018 Paris, France <br/></span></p></footer></div> \n",
       "<!--[if (gte mso 9)|(IE)]>\n",
       "</td></tr></table>\n",
       "<![endif]-->\n",
       "</body></html>`);\n",
       "            doc_c85c3bcf4aa244d2a328246560ec6fd9.close();\n",
       "            </script>\n",
       "            "
      ],
      "text/plain": [
       "<IPython.core.display.HTML object>"
      ]
     },
     "metadata": {},
     "output_type": "display_data"
    }
   ],
   "source": [
    "content = {\n",
    "    \"header\": emailbuilder.image(src=\"https://s3-symbol-logo.tradingview.com/draftkings--600.png\",\n",
    "                                 link=\"https://sportsbook.draftkings.com\",\n",
    "                                 align=\"center\",\n",
    "                                 width=\"20%\"),\n",
    "    \"txt_0\": (f\"Hi 🏀,<br><br>\"\n",
    "              f\"Here below the betting lines for NBA games today :<br>\"),\n",
    "    \n",
    "    \"table\": emailbuilder.table(combined_list,\n",
    "                                border=True,\n",
    "                                header=True,\n",
    "                                col_size={0: \"15%\", 1: \"15%\", 2: \"35%\", 3: \"35%\"},\n",
    "                                col_align={0: \"center\", 1: \"center\", 2: \"center\", 3: \"center\"}),\n",
    "\n",
    "    \"button_1\": emailbuilder.button(link=\"https://sportsbook.draftkings.com\",\n",
    "                                    text=\"Bet on Draft Kings\",\n",
    "                                    color=\"white\",\n",
    "                                    background_color=\"#53d337\"),\n",
    "\n",
    "    \"txt_4\": (\"Interested to improve this template, please send contact <a href='https://www.linkedin.com/in/ja-williams-529517187'>JA Williams<a/> or send a message to Naas Core Team at hello@naas.ai<br><br>\"),\n",
    "    \"heading_5\": emailbuilder.text(\"Happy betting 💸!\"),\n",
    "    \"footer\": emailbuilder.footer_company(naas=True)\n",
    "}\n",
    "email_content = emailbuilder.generate(display='iframe', **content)"
   ]
  },
  {
   "cell_type": "markdown",
   "id": "d36a8ac0",
   "metadata": {},
   "source": [
    "## Output"
   ]
  },
  {
   "cell_type": "markdown",
   "id": "a4a98c48-4b87-4370-8657-168f689d39ba",
   "metadata": {},
   "source": [
    "### Send email"
   ]
  },
  {
   "cell_type": "code",
   "execution_count": null,
   "id": "878dd982-9ed1-48ef-9c7f-c5af9906eec5",
   "metadata": {},
   "outputs": [],
   "source": [
    "naas.notification.send(EMAIL_TO,\n",
    "                       EMAIL_SUBJECT,\n",
    "                       email_content)"
   ]
  }
 ],
 "metadata": {
  "kernelspec": {
   "display_name": "Python 3",
   "language": "python",
   "name": "python3"
  },
  "language_info": {
   "codemirror_mode": {
    "name": "ipython",
    "version": 3
   },
   "file_extension": ".py",
   "mimetype": "text/x-python",
   "name": "python",
   "nbconvert_exporter": "python",
   "pygments_lexer": "ipython3",
   "version": "3.9.6"
  },
  "papermill": {
   "default_parameters": {},
   "environment_variables": {},
   "parameters": {},
   "version": "2.3.3"
  },
  "widgets": {
   "application/vnd.jupyter.widget-state+json": {
    "state": {},
    "version_major": 2,
    "version_minor": 0
   }
  }
 },
 "nbformat": 4,
 "nbformat_minor": 5
}
