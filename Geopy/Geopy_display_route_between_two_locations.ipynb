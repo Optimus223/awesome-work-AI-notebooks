{
 "cells": [
  {
   "cell_type": "markdown",
   "id": "latin-packing",
   "metadata": {
    "execution": {
     "iopub.execute_input": "2021-02-23T14:22:16.610471Z",
     "iopub.status.busy": "2021-02-23T14:22:16.610129Z",
     "iopub.status.idle": "2021-02-23T14:22:16.627784Z",
     "shell.execute_reply": "2021-02-23T14:22:16.626866Z",
     "shell.execute_reply.started": "2021-02-23T14:22:16.610384Z"
    },
    "papermill": {},
    "tags": []
   },
   "source": [
    "<img width=\"10%\" alt=\"Naas\" src=\"https://landen.imgix.net/jtci2pxwjczr/assets/5ice39g4.png?w=160\"/>"
   ]
  },
  {
   "cell_type": "markdown",
   "id": "compressed-wilson",
   "metadata": {
    "papermill": {},
    "tags": []
   },
   "source": [
    "# Geopy - display route between two locations\n",
    "<a href=\"https://app.naas.ai/user-redirect/naas/downloader?url=https://raw.githubusercontent.com/jupyter-naas/awesome-notebooks/master/Google%20Sheets/Google_Sheets_Add_items_to_Notion_databases_from_new_rows_in_Google_Sheets.ipynb\" target=\"_parent\"><img src=\"https://naasai-public.s3.eu-west-3.amazonaws.com/Open_in_Naas_Lab.svg\"/></a><br><br><a href=\"https://bit.ly/3JyWIk6\">Give Feedbacks</a> | <a href=\"https://app.naas.ai/user-redirect/naas/downloader?url=https://raw.githubusercontent.com/jupyter-naas/awesome-notebooks/master/Naas/Naas_Start_data_product.ipynb\" target=\"_parent\">Generate Data Product</a>"
   ]
  },
  {
   "cell_type": "markdown",
   "id": "cbf7f260-f739-4e8f-9074-f070af12b69f",
   "metadata": {
    "papermill": {},
    "tags": []
   },
   "source": [
    "**Tags:** #geopy #productivity #operations #automation #jupyternotebooks #navigation"
   ]
  },
  {
   "cell_type": "markdown",
   "id": "8af9aa79",
   "metadata": {
    "papermill": {},
    "tags": []
   },
   "source": [
    "**Author:** [Antonio Georgiev](www.linkedin.com/in/antonio-georgiev-b672a325b)"
   ]
  },
  {
   "cell_type": "markdown",
   "id": "5436984d-1d8d-4c7f-9b4e-82eb0555bca6",
   "metadata": {
    "papermill": {},
    "tags": []
   },
   "source": [
    "**Description:** This notebook demonstrates how to utilize Geopy to display the routes between different locations."
   ]
  },
  {
   "cell_type": "markdown",
   "id": "distinguished-truth",
   "metadata": {
    "papermill": {},
    "tags": []
   },
   "source": [
    "## Input"
   ]
  },
  {
   "cell_type": "markdown",
   "id": "b56e47f5-be89-4591-93ec-01e8fac50def",
   "metadata": {
    "papermill": {},
    "tags": []
   },
   "source": [
    "### Import libraries"
   ]
  },
  {
   "cell_type": "code",
   "execution_count": 4,
   "id": "6b63229c-7614-4dc8-ba2a-e0b1e2f64918",
   "metadata": {
    "execution": {
     "iopub.execute_input": "2023-07-28T08:56:25.578789Z",
     "iopub.status.busy": "2023-07-28T08:56:25.578532Z",
     "iopub.status.idle": "2023-07-28T08:56:25.582144Z",
     "shell.execute_reply": "2023-07-28T08:56:25.581501Z",
     "shell.execute_reply.started": "2023-07-28T08:56:25.578765Z"
    },
    "papermill": {},
    "tags": []
   },
   "outputs": [],
   "source": [
    "from geopy.geocoders import Nominatim\n",
    "import polyline\n",
    "import folium\n",
    "import naas\n",
    "import requests\n"
   ]
  },
  {
   "cell_type": "markdown",
   "id": "3311103a-13a2-40c5-bb42-2755391f3d47",
   "metadata": {
    "papermill": {},
    "tags": []
   },
   "source": [
    "### Setup variables"
   ]
  },
  {
   "cell_type": "code",
   "execution_count": 5,
   "id": "bffaf74b-3e26-408f-9a55-bb495577cdf6",
   "metadata": {
    "execution": {
     "iopub.execute_input": "2023-07-28T08:56:26.540645Z",
     "iopub.status.busy": "2023-07-28T08:56:26.540416Z",
     "iopub.status.idle": "2023-07-28T08:56:27.503802Z",
     "shell.execute_reply": "2023-07-28T08:56:27.499992Z",
     "shell.execute_reply.started": "2023-07-28T08:56:26.540622Z"
    },
    "papermill": {},
    "tags": []
   },
   "outputs": [],
   "source": [
    "geolocator = Nominatim(user_agent=\"geoapiExercises\")\n",
    "address1 = \"Bulgaria Blvd 69, 1404 Manastirski Livadi, Sofia, Bulgaria\"\n",
    "address2 = \"Sofia, 1680, Bulgaria\"\n",
    "location1 = geolocator.geocode(address1)\n",
    "location2 = geolocator.geocode(address2)\n",
    "\n",
    "secret_name = \"API\"\n",
    "api_key = naas.secret.get(secret_name)\n",
    "url = f\"https://maps.googleapis.com/maps/api/directions/json?origin={location1.latitude},{location1.longitude}&destination={location2.latitude},{location2.longitude}&key={api_key}\"\n",
    "response = requests.get(url)\n",
    "data = response.json()"
   ]
  },
  {
   "cell_type": "markdown",
   "id": "registered-showcase",
   "metadata": {
    "papermill": {},
    "tags": []
   },
   "source": [
    "## Model"
   ]
  },
  {
   "cell_type": "markdown",
   "id": "205825c4-d874-4c4c-9ff9-85af6f3e5336",
   "metadata": {},
   "source": [
    "### Get the polyline points from the response and decode them"
   ]
  },
  {
   "cell_type": "code",
   "execution_count": 6,
   "id": "75f41700-8714-41bb-be6a-ce0b4d23e2e4",
   "metadata": {
    "execution": {
     "iopub.execute_input": "2023-07-28T08:56:27.580477Z",
     "iopub.status.busy": "2023-07-28T08:56:27.580254Z",
     "iopub.status.idle": "2023-07-28T08:56:27.585413Z",
     "shell.execute_reply": "2023-07-28T08:56:27.584888Z",
     "shell.execute_reply.started": "2023-07-28T08:56:27.580455Z"
    },
    "tags": []
   },
   "outputs": [],
   "source": [
    "points = data[\"routes\"][0][\"overview_polyline\"][\"points\"]\n",
    "decoded_points = polyline.decode(points)"
   ]
  },
  {
   "cell_type": "markdown",
   "id": "5f0e7b46-14c6-402d-9e46-9c1c94b3bba4",
   "metadata": {},
   "source": [
    "### Create a map centered around the two locations"
   ]
  },
  {
   "cell_type": "code",
   "execution_count": 7,
   "id": "2fafe16a-ccca-43ae-88fd-eb23af803fe6",
   "metadata": {
    "execution": {
     "iopub.execute_input": "2023-07-28T08:56:28.189537Z",
     "iopub.status.busy": "2023-07-28T08:56:28.189301Z",
     "iopub.status.idle": "2023-07-28T08:56:28.335455Z",
     "shell.execute_reply": "2023-07-28T08:56:28.334777Z",
     "shell.execute_reply.started": "2023-07-28T08:56:28.189515Z"
    },
    "papermill": {},
    "tags": []
   },
   "outputs": [],
   "source": [
    "avg_latitude = (location1.latitude + location2.latitude) / 2\n",
    "avg_longitude = (location1.longitude + location2.longitude) / 2\n",
    "map_routes = folium.Map(location=[avg_latitude, avg_longitude], zoom_start=12)"
   ]
  },
  {
   "cell_type": "markdown",
   "id": "c7b76e39-cca7-48b6-be20-257d0ed44239",
   "metadata": {},
   "source": [
    "### Add markers for the specified locations"
   ]
  },
  {
   "cell_type": "code",
   "execution_count": 8,
   "id": "2fcbef10-1c20-4bd9-a460-80586689afde",
   "metadata": {
    "execution": {
     "iopub.execute_input": "2023-07-28T08:56:28.863874Z",
     "iopub.status.busy": "2023-07-28T08:56:28.863514Z",
     "iopub.status.idle": "2023-07-28T08:56:28.879023Z",
     "shell.execute_reply": "2023-07-28T08:56:28.875474Z",
     "shell.execute_reply.started": "2023-07-28T08:56:28.863810Z"
    },
    "tags": []
   },
   "outputs": [
    {
     "data": {
      "text/plain": [
       "<folium.map.Marker at 0x7f520447ed90>"
      ]
     },
     "execution_count": 8,
     "metadata": {},
     "output_type": "execute_result"
    }
   ],
   "source": [
    "folium.Marker([location1.latitude, location1.longitude], popup=folium.Popup(location1.address)).add_to(map_routes)\n",
    "folium.Marker([location2.latitude, location2.longitude], popup=folium.Popup(location2.address)).add_to(map_routes)"
   ]
  },
  {
   "cell_type": "code",
   "execution_count": 9,
   "id": "b8446560-3837-4553-9253-b049b6abbfbe",
   "metadata": {
    "execution": {
     "iopub.execute_input": "2023-07-28T08:56:29.498315Z",
     "iopub.status.busy": "2023-07-28T08:56:29.498084Z",
     "iopub.status.idle": "2023-07-28T08:56:29.503306Z",
     "shell.execute_reply": "2023-07-28T08:56:29.502694Z",
     "shell.execute_reply.started": "2023-07-28T08:56:29.498292Z"
    },
    "tags": []
   },
   "outputs": [
    {
     "data": {
      "text/plain": [
       "<folium.vector_layers.PolyLine at 0x7f520447ebb0>"
      ]
     },
     "execution_count": 9,
     "metadata": {},
     "output_type": "execute_result"
    }
   ],
   "source": [
    "folium.PolyLine(locations=decoded_points, color='blue').add_to(map_routes)"
   ]
  },
  {
   "cell_type": "markdown",
   "id": "c1e4c55b",
   "metadata": {
    "papermill": {},
    "tags": []
   },
   "source": [
    "## Output"
   ]
  },
  {
   "cell_type": "markdown",
   "id": "2ee5bfd6-de4f-40c9-a590-7c7afc44b9a0",
   "metadata": {},
   "source": [
    "### Display the map"
   ]
  },
  {
   "cell_type": "code",
   "execution_count": 10,
   "id": "4af1598f-b4fe-4da2-94f3-1cfb20996fa9",
   "metadata": {
    "execution": {
     "iopub.execute_input": "2023-07-28T08:56:45.698775Z",
     "iopub.status.busy": "2023-07-28T08:56:45.698514Z",
     "iopub.status.idle": "2023-07-28T08:56:45.713366Z",
     "shell.execute_reply": "2023-07-28T08:56:45.712772Z",
     "shell.execute_reply.started": "2023-07-28T08:56:45.698747Z"
    },
    "tags": []
   },
   "outputs": [
    {
     "data": {
      "text/html": [
       "<div style=\"width:100%;\"><div style=\"position:relative;width:100%;height:0;padding-bottom:60%;\"><span style=\"color:#565656\">Make this Notebook Trusted to load map: File -> Trust Notebook</span><iframe srcdoc=\"&lt;!DOCTYPE html&gt;\n",
       "&lt;html&gt;\n",
       "&lt;head&gt;\n",
       "    \n",
       "    &lt;meta http-equiv=&quot;content-type&quot; content=&quot;text/html; charset=UTF-8&quot; /&gt;\n",
       "    \n",
       "        &lt;script&gt;\n",
       "            L_NO_TOUCH = false;\n",
       "            L_DISABLE_3D = false;\n",
       "        &lt;/script&gt;\n",
       "    \n",
       "    &lt;style&gt;html, body {width: 100%;height: 100%;margin: 0;padding: 0;}&lt;/style&gt;\n",
       "    &lt;style&gt;#map {position:absolute;top:0;bottom:0;right:0;left:0;}&lt;/style&gt;\n",
       "    &lt;script src=&quot;https://cdn.jsdelivr.net/npm/leaflet@1.9.3/dist/leaflet.js&quot;&gt;&lt;/script&gt;\n",
       "    &lt;script src=&quot;https://code.jquery.com/jquery-1.12.4.min.js&quot;&gt;&lt;/script&gt;\n",
       "    &lt;script src=&quot;https://cdn.jsdelivr.net/npm/bootstrap@5.2.2/dist/js/bootstrap.bundle.min.js&quot;&gt;&lt;/script&gt;\n",
       "    &lt;script src=&quot;https://cdnjs.cloudflare.com/ajax/libs/Leaflet.awesome-markers/2.0.2/leaflet.awesome-markers.js&quot;&gt;&lt;/script&gt;\n",
       "    &lt;link rel=&quot;stylesheet&quot; href=&quot;https://cdn.jsdelivr.net/npm/leaflet@1.9.3/dist/leaflet.css&quot;/&gt;\n",
       "    &lt;link rel=&quot;stylesheet&quot; href=&quot;https://cdn.jsdelivr.net/npm/bootstrap@5.2.2/dist/css/bootstrap.min.css&quot;/&gt;\n",
       "    &lt;link rel=&quot;stylesheet&quot; href=&quot;https://netdna.bootstrapcdn.com/bootstrap/3.0.0/css/bootstrap.min.css&quot;/&gt;\n",
       "    &lt;link rel=&quot;stylesheet&quot; href=&quot;https://cdn.jsdelivr.net/npm/@fortawesome/fontawesome-free@6.2.0/css/all.min.css&quot;/&gt;\n",
       "    &lt;link rel=&quot;stylesheet&quot; href=&quot;https://cdnjs.cloudflare.com/ajax/libs/Leaflet.awesome-markers/2.0.2/leaflet.awesome-markers.css&quot;/&gt;\n",
       "    &lt;link rel=&quot;stylesheet&quot; href=&quot;https://cdn.jsdelivr.net/gh/python-visualization/folium/folium/templates/leaflet.awesome.rotate.min.css&quot;/&gt;\n",
       "    \n",
       "            &lt;meta name=&quot;viewport&quot; content=&quot;width=device-width,\n",
       "                initial-scale=1.0, maximum-scale=1.0, user-scalable=no&quot; /&gt;\n",
       "            &lt;style&gt;\n",
       "                #map_86d247c73a305de4d9e37e497a3878f6 {\n",
       "                    position: relative;\n",
       "                    width: 100.0%;\n",
       "                    height: 100.0%;\n",
       "                    left: 0.0%;\n",
       "                    top: 0.0%;\n",
       "                }\n",
       "                .leaflet-container { font-size: 1rem; }\n",
       "            &lt;/style&gt;\n",
       "        \n",
       "&lt;/head&gt;\n",
       "&lt;body&gt;\n",
       "    \n",
       "    \n",
       "            &lt;div class=&quot;folium-map&quot; id=&quot;map_86d247c73a305de4d9e37e497a3878f6&quot; &gt;&lt;/div&gt;\n",
       "        \n",
       "&lt;/body&gt;\n",
       "&lt;script&gt;\n",
       "    \n",
       "    \n",
       "            var map_86d247c73a305de4d9e37e497a3878f6 = L.map(\n",
       "                &quot;map_86d247c73a305de4d9e37e497a3878f6&quot;,\n",
       "                {\n",
       "                    center: [42.68092775, 23.3049482],\n",
       "                    crs: L.CRS.EPSG3857,\n",
       "                    zoom: 12,\n",
       "                    zoomControl: true,\n",
       "                    preferCanvas: false,\n",
       "                }\n",
       "            );\n",
       "\n",
       "            \n",
       "\n",
       "        \n",
       "    \n",
       "            var tile_layer_99c51e4df9f6d60fd5545083350412bc = L.tileLayer(\n",
       "                &quot;https://{s}.tile.openstreetmap.org/{z}/{x}/{y}.png&quot;,\n",
       "                {&quot;attribution&quot;: &quot;Data by \\u0026copy; \\u003ca target=\\&quot;_blank\\&quot; href=\\&quot;http://openstreetmap.org\\&quot;\\u003eOpenStreetMap\\u003c/a\\u003e, under \\u003ca target=\\&quot;_blank\\&quot; href=\\&quot;http://www.openstreetmap.org/copyright\\&quot;\\u003eODbL\\u003c/a\\u003e.&quot;, &quot;detectRetina&quot;: false, &quot;maxNativeZoom&quot;: 18, &quot;maxZoom&quot;: 18, &quot;minZoom&quot;: 0, &quot;noWrap&quot;: false, &quot;opacity&quot;: 1, &quot;subdomains&quot;: &quot;abc&quot;, &quot;tms&quot;: false}\n",
       "            ).addTo(map_86d247c73a305de4d9e37e497a3878f6);\n",
       "        \n",
       "    \n",
       "            var marker_fcbfd2c57334be533177f3175ca0ac8c = L.marker(\n",
       "                [42.6641527, 23.2881605],\n",
       "                {}\n",
       "            ).addTo(map_86d247c73a305de4d9e37e497a3878f6);\n",
       "        \n",
       "    \n",
       "        var popup_8318b895f0e4decc2b61248400ff349b = L.popup({&quot;maxWidth&quot;: &quot;100%&quot;});\n",
       "\n",
       "        \n",
       "            \n",
       "                var html_6414d8780d75da1eb82122441aa55d4d = $(`&lt;div id=&quot;html_6414d8780d75da1eb82122441aa55d4d&quot; style=&quot;width: 100.0%; height: 100.0%;&quot;&gt;Soho, 69, бул. България, ж.к. Манастирски ливади - Б, ж.к. Манастирски ливади - изток, Триадица, София, Столична, София-град, 1404, България&lt;/div&gt;`)[0];\n",
       "                popup_8318b895f0e4decc2b61248400ff349b.setContent(html_6414d8780d75da1eb82122441aa55d4d);\n",
       "            \n",
       "        \n",
       "\n",
       "        marker_fcbfd2c57334be533177f3175ca0ac8c.bindPopup(popup_8318b895f0e4decc2b61248400ff349b)\n",
       "        ;\n",
       "\n",
       "        \n",
       "    \n",
       "    \n",
       "            var marker_219e90adb1829e9da1d1ff882e340915 = L.marker(\n",
       "                [42.6977028, 23.3217359],\n",
       "                {}\n",
       "            ).addTo(map_86d247c73a305de4d9e37e497a3878f6);\n",
       "        \n",
       "    \n",
       "        var popup_0422b0be9ee2f872cb8530bb861d6196 = L.popup({&quot;maxWidth&quot;: &quot;100%&quot;});\n",
       "\n",
       "        \n",
       "            \n",
       "                var html_b60430b653f45a7699b093a1e0532478 = $(`&lt;div id=&quot;html_b60430b653f45a7699b093a1e0532478&quot; style=&quot;width: 100.0%; height: 100.0%;&quot;&gt;София, Столична, София-град, България&lt;/div&gt;`)[0];\n",
       "                popup_0422b0be9ee2f872cb8530bb861d6196.setContent(html_b60430b653f45a7699b093a1e0532478);\n",
       "            \n",
       "        \n",
       "\n",
       "        marker_219e90adb1829e9da1d1ff882e340915.bindPopup(popup_0422b0be9ee2f872cb8530bb861d6196)\n",
       "        ;\n",
       "\n",
       "        \n",
       "    \n",
       "    \n",
       "            var poly_line_043df6c23f7f50907174594a14ec3aff = L.polyline(\n",
       "                [[42.66389, 23.28793], [42.6642, 23.28726], [42.66424, 23.28719], [42.66434, 23.28726], [42.6647, 23.28753], [42.66525, 23.28805], [42.66739, 23.29011], [42.66794, 23.29063], [42.66841, 23.29113], [42.66936, 23.29204], [42.67126, 23.2939], [42.67234, 23.29486], [42.67294, 23.29534], [42.67369, 23.29583], [42.67442, 23.29626], [42.67479, 23.29652], [42.67542, 23.29689], [42.67699, 23.29787], [42.67727, 23.29805], [42.67754, 23.29821], [42.67775, 23.29839], [42.67815, 23.29882], [42.67843, 23.29925], [42.67869, 23.29986], [42.67885, 23.30043], [42.67912, 23.30202], [42.67926, 23.30265], [42.67946, 23.30263], [42.68087, 23.30219], [42.68202, 23.30186], [42.68244, 23.3017], [42.68248, 23.30165], [42.68279, 23.30152], [42.68327, 23.3014], [42.68472, 23.30103], [42.68573, 23.30078], [42.68607, 23.30062], [42.68634, 23.30044], [42.68655, 23.30024], [42.68713, 23.29969], [42.68874, 23.29815], [42.68905, 23.29787], [42.68965, 23.29735], [42.69158, 23.29585], [42.69174, 23.29617], [42.69206, 23.2967], [42.69258, 23.29768], [42.693, 23.29844], [42.69365, 23.29969], [42.69384, 23.30003], [42.6941, 23.30054], [42.69422, 23.30071], [42.69462, 23.30144], [42.69502, 23.30217], [42.69526, 23.30264], [42.69647, 23.30231], [42.69678, 23.30238], [42.69688, 23.30241], [42.69681, 23.30284], [42.69675, 23.30334], [42.69707, 23.30345], [42.69764, 23.30361], [42.69809, 23.30374], [42.70061, 23.30444], [42.70067, 23.30447], [42.70081, 23.30452], [42.70066, 23.30546], [42.70035, 23.30726], [42.70004, 23.30912], [42.69985, 23.31029], [42.69971, 23.311], [42.69889, 23.31537], [42.69817, 23.31928], [42.69801, 23.32017], [42.69781, 23.32111], [42.69767, 23.32172]],\n",
       "                {&quot;bubblingMouseEvents&quot;: true, &quot;color&quot;: &quot;blue&quot;, &quot;dashArray&quot;: null, &quot;dashOffset&quot;: null, &quot;fill&quot;: false, &quot;fillColor&quot;: &quot;blue&quot;, &quot;fillOpacity&quot;: 0.2, &quot;fillRule&quot;: &quot;evenodd&quot;, &quot;lineCap&quot;: &quot;round&quot;, &quot;lineJoin&quot;: &quot;round&quot;, &quot;noClip&quot;: false, &quot;opacity&quot;: 1.0, &quot;smoothFactor&quot;: 1.0, &quot;stroke&quot;: true, &quot;weight&quot;: 3}\n",
       "            ).addTo(map_86d247c73a305de4d9e37e497a3878f6);\n",
       "        \n",
       "&lt;/script&gt;\n",
       "&lt;/html&gt;\" style=\"position:absolute;width:100%;height:100%;left:0;top:0;border:none !important;\" allowfullscreen webkitallowfullscreen mozallowfullscreen></iframe></div></div>"
      ],
      "text/plain": [
       "<folium.folium.Map at 0x7f5234a751f0>"
      ]
     },
     "execution_count": 10,
     "metadata": {},
     "output_type": "execute_result"
    }
   ],
   "source": [
    "map_routes"
   ]
  },
  {
   "cell_type": "code",
   "execution_count": null,
   "id": "1b642bd7-a49a-4c43-84c2-185670565226",
   "metadata": {},
   "outputs": [],
   "source": []
  }
 ],
 "metadata": {
  "kernelspec": {
   "display_name": "Python 3",
   "language": "python",
   "name": "python3"
  },
  "language_info": {
   "codemirror_mode": {
    "name": "ipython",
    "version": 3
   },
   "file_extension": ".py",
   "mimetype": "text/x-python",
   "name": "python",
   "nbconvert_exporter": "python",
   "pygments_lexer": "ipython3",
   "version": "3.9.6"
  },
  "naas": {
   "notebook_id": "a3806d0e8beb6df74a694e543ef83a8bf1058b7cc2dd05636cdeb22dde4ed654",
   "notebook_path": "Google Sheets/Google_Sheets_Add_items_to_Notion_databases_from_new_rows_in_Google_Sheets.ipynb"
  },
  "papermill": {
   "default_parameters": {},
   "environment_variables": {},
   "parameters": {},
   "version": "2.3.3"
  },
  "widgets": {
   "application/vnd.jupyter.widget-state+json": {
    "state": {},
    "version_major": 2,
    "version_minor": 0
   }
  }
 },
 "nbformat": 4,
 "nbformat_minor": 5
}
