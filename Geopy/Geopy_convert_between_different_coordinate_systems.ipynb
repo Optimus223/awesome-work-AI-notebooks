{
 "cells": [
  {
   "cell_type": "markdown",
   "id": "latin-packing",
   "metadata": {
    "execution": {
     "iopub.execute_input": "2021-02-23T14:22:16.610471Z",
     "iopub.status.busy": "2021-02-23T14:22:16.610129Z",
     "iopub.status.idle": "2021-02-23T14:22:16.627784Z",
     "shell.execute_reply": "2021-02-23T14:22:16.626866Z",
     "shell.execute_reply.started": "2021-02-23T14:22:16.610384Z"
    },
    "papermill": {},
    "tags": []
   },
   "source": [
    "<img width=\"10%\" alt=\"Naas\" src=\"https://landen.imgix.net/jtci2pxwjczr/assets/5ice39g4.png?w=160\"/>"
   ]
  },
  {
   "cell_type": "markdown",
   "id": "compressed-wilson",
   "metadata": {
    "papermill": {},
    "tags": []
   },
   "source": [
    "# Geopy - convert between different coordinate systems\n",
    "<a href=\"https://app.naas.ai/user-redirect/naas/downloader?url=https://raw.githubusercontent.com/jupyter-naas/awesome-notebooks/master/Google%20Sheets/Google_Sheets_Add_items_to_Notion_databases_from_new_rows_in_Google_Sheets.ipynb\" target=\"_parent\"><img src=\"https://naasai-public.s3.eu-west-3.amazonaws.com/Open_in_Naas_Lab.svg\"/></a><br><br><a href=\"https://bit.ly/3JyWIk6\">Give Feedbacks</a> | <a href=\"https://app.naas.ai/user-redirect/naas/downloader?url=https://raw.githubusercontent.com/jupyter-naas/awesome-notebooks/master/Naas/Naas_Start_data_product.ipynb\" target=\"_parent\">Generate Data Product</a>"
   ]
  },
  {
   "cell_type": "markdown",
   "id": "cbf7f260-f739-4e8f-9074-f070af12b69f",
   "metadata": {
    "papermill": {},
    "tags": []
   },
   "source": [
    "**Tags:** #geopy #productivity #operations #automation #jupyternotebooks #navigation"
   ]
  },
  {
   "cell_type": "markdown",
   "id": "8af9aa79",
   "metadata": {
    "papermill": {},
    "tags": []
   },
   "source": [
    "**Author:** [Antonio Georgiev](www.linkedin.com/in/antonio-georgiev-b672a325b)"
   ]
  },
  {
   "cell_type": "markdown",
   "id": "5436984d-1d8d-4c7f-9b4e-82eb0555bca6",
   "metadata": {
    "papermill": {},
    "tags": []
   },
   "source": [
    "**Description:** This notebook showcases how to use Geopy to convert between different coordinate systems, such as decimal degrees and degrees-minutes-seconds."
   ]
  },
  {
   "cell_type": "markdown",
   "id": "distinguished-truth",
   "metadata": {
    "papermill": {},
    "tags": []
   },
   "source": [
    "## Input"
   ]
  },
  {
   "cell_type": "markdown",
   "id": "b56e47f5-be89-4591-93ec-01e8fac50def",
   "metadata": {
    "papermill": {},
    "tags": []
   },
   "source": [
    "### Import libraries"
   ]
  },
  {
   "cell_type": "code",
   "execution_count": 18,
   "id": "6b63229c-7614-4dc8-ba2a-e0b1e2f64918",
   "metadata": {
    "execution": {
     "iopub.execute_input": "2023-07-27T12:07:46.194712Z",
     "iopub.status.busy": "2023-07-27T12:07:46.194386Z",
     "iopub.status.idle": "2023-07-27T12:07:46.199456Z",
     "shell.execute_reply": "2023-07-27T12:07:46.198923Z",
     "shell.execute_reply.started": "2023-07-27T12:07:46.194684Z"
    },
    "papermill": {},
    "tags": []
   },
   "outputs": [],
   "source": [
    "from geopy import Point, distance, geocoders"
   ]
  },
  {
   "cell_type": "markdown",
   "id": "3311103a-13a2-40c5-bb42-2755391f3d47",
   "metadata": {
    "papermill": {},
    "tags": []
   },
   "source": [
    "### Setup variables"
   ]
  },
  {
   "cell_type": "code",
   "execution_count": 19,
   "id": "bffaf74b-3e26-408f-9a55-bb495577cdf6",
   "metadata": {
    "execution": {
     "iopub.execute_input": "2023-07-27T12:07:46.399544Z",
     "iopub.status.busy": "2023-07-27T12:07:46.399288Z",
     "iopub.status.idle": "2023-07-27T12:07:46.402461Z",
     "shell.execute_reply": "2023-07-27T12:07:46.401836Z",
     "shell.execute_reply.started": "2023-07-27T12:07:46.399517Z"
    },
    "papermill": {},
    "tags": []
   },
   "outputs": [],
   "source": [
    "latitude = 42.278750\n",
    "longitude = 22.689920"
   ]
  },
  {
   "cell_type": "markdown",
   "id": "registered-showcase",
   "metadata": {
    "papermill": {},
    "tags": []
   },
   "source": [
    "## Model"
   ]
  },
  {
   "cell_type": "markdown",
   "id": "205825c4-d874-4c4c-9ff9-85af6f3e5336",
   "metadata": {},
   "source": [
    "### Convert decimal degrees to degrees-minutes-seconds\n"
   ]
  },
  {
   "cell_type": "code",
   "execution_count": 35,
   "id": "75f41700-8714-41bb-be6a-ce0b4d23e2e4",
   "metadata": {
    "execution": {
     "iopub.execute_input": "2023-07-27T12:14:56.415117Z",
     "iopub.status.busy": "2023-07-27T12:14:56.414833Z",
     "iopub.status.idle": "2023-07-27T12:14:56.423226Z",
     "shell.execute_reply": "2023-07-27T12:14:56.422427Z",
     "shell.execute_reply.started": "2023-07-27T12:14:56.415089Z"
    },
    "tags": []
   },
   "outputs": [],
   "source": [
    "def decimal_to_dms_with_direction(decimal, is_latitude):\n",
    "    degrees = int(decimal)\n",
    "    minutes = int((decimal - degrees) * 60)\n",
    "    seconds = (decimal - degrees - minutes / 60) * 3600\n",
    "    direction = \"North\" if is_latitude and degrees >= 0 else \"South\" if is_latitude else \"East\" if degrees >= 0 else \"West\"\n",
    "    return f\"{degrees}° {minutes}' {seconds:.2f}\\\" {direction}\"\n",
    "latitude_dms = decimal_to_dms_with_direction(latitude, is_latitude=True)\n",
    "longitude_dms = decimal_to_dms_with_direction(longitude, is_latitude=False)\n",
    "coordinates_dms = f\"{latitude_dms}, {longitude_dms}\""
   ]
  },
  {
   "cell_type": "markdown",
   "id": "c1e4c55b",
   "metadata": {
    "papermill": {},
    "tags": []
   },
   "source": [
    "## Output"
   ]
  },
  {
   "cell_type": "markdown",
   "id": "2ee5bfd6-de4f-40c9-a590-7c7afc44b9a0",
   "metadata": {},
   "source": [
    "### Display the map"
   ]
  },
  {
   "cell_type": "code",
   "execution_count": 36,
   "id": "4af1598f-b4fe-4da2-94f3-1cfb20996fa9",
   "metadata": {
    "execution": {
     "iopub.execute_input": "2023-07-27T12:14:57.257937Z",
     "iopub.status.busy": "2023-07-27T12:14:57.257714Z",
     "iopub.status.idle": "2023-07-27T12:14:57.261383Z",
     "shell.execute_reply": "2023-07-27T12:14:57.260742Z",
     "shell.execute_reply.started": "2023-07-27T12:14:57.257914Z"
    },
    "tags": []
   },
   "outputs": [
    {
     "name": "stdout",
     "output_type": "stream",
     "text": [
      "Coordinates in DMS format with direction:\n",
      "42° 16' 43.50\" North, 22° 41' 23.71\" East\n"
     ]
    }
   ],
   "source": [
    "print(\"Coordinates in DMS format with direction:\")\n",
    "print(coordinates_dms)"
   ]
  }
 ],
 "metadata": {
  "kernelspec": {
   "display_name": "Python 3",
   "language": "python",
   "name": "python3"
  },
  "language_info": {
   "codemirror_mode": {
    "name": "ipython",
    "version": 3
   },
   "file_extension": ".py",
   "mimetype": "text/x-python",
   "name": "python",
   "nbconvert_exporter": "python",
   "pygments_lexer": "ipython3",
   "version": "3.9.6"
  },
  "naas": {
   "notebook_id": "a3806d0e8beb6df74a694e543ef83a8bf1058b7cc2dd05636cdeb22dde4ed654",
   "notebook_path": "Google Sheets/Google_Sheets_Add_items_to_Notion_databases_from_new_rows_in_Google_Sheets.ipynb"
  },
  "papermill": {
   "default_parameters": {},
   "environment_variables": {},
   "parameters": {},
   "version": "2.3.3"
  },
  "widgets": {
   "application/vnd.jupyter.widget-state+json": {
    "state": {},
    "version_major": 2,
    "version_minor": 0
   }
  }
 },
 "nbformat": 4,
 "nbformat_minor": 5
}
