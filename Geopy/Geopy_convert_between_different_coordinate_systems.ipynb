{
 "cells": [
  {
   "cell_type": "markdown",
   "id": "latin-packing",
   "metadata": {
    "execution": {
     "iopub.execute_input": "2021-02-23T14:22:16.610471Z",
     "iopub.status.busy": "2021-02-23T14:22:16.610129Z",
     "iopub.status.idle": "2021-02-23T14:22:16.627784Z",
     "shell.execute_reply": "2021-02-23T14:22:16.626866Z",
     "shell.execute_reply.started": "2021-02-23T14:22:16.610384Z"
    },
    "papermill": {},
    "tags": []
   },
   "source": [
    "<img width=\"10%\" alt=\"Naas\" src=\"https://landen.imgix.net/jtci2pxwjczr/assets/5ice39g4.png?w=160\"/>"
   ]
  },
  {
   "cell_type": "markdown",
   "id": "compressed-wilson",
   "metadata": {
    "papermill": {},
    "tags": []
   },
   "source": [
    "# Geopy - convert between different coordinate systems\n",
    "<a href=\"https://app.naas.ai/user-redirect/naas/downloader?url=https://raw.githubusercontent.com/jupyter-naas/awesome-notebooks/master/Google%20Sheets/Google_Sheets_Add_items_to_Notion_databases_from_new_rows_in_Google_Sheets.ipynb\" target=\"_parent\"><img src=\"https://naasai-public.s3.eu-west-3.amazonaws.com/Open_in_Naas_Lab.svg\"/></a><br><br><a href=\"https://bit.ly/3JyWIk6\">Give Feedbacks</a> | <a href=\"https://app.naas.ai/user-redirect/naas/downloader?url=https://raw.githubusercontent.com/jupyter-naas/awesome-notebooks/master/Naas/Naas_Start_data_product.ipynb\" target=\"_parent\">Generate Data Product</a>"
   ]
  },
  {
   "cell_type": "markdown",
   "id": "cbf7f260-f739-4e8f-9074-f070af12b69f",
   "metadata": {
    "papermill": {},
    "tags": []
   },
   "source": [
    "**Tags:** #geopy #productivity #operations #automation #jupyternotebooks #navigation"
   ]
  },
  {
   "cell_type": "markdown",
   "id": "8af9aa79",
   "metadata": {
    "papermill": {},
    "tags": []
   },
   "source": [
    "**Author:** [Antonio Georgiev](www.linkedin.com/in/antonio-georgiev-b672a325b)"
   ]
  },
  {
   "cell_type": "markdown",
   "id": "5436984d-1d8d-4c7f-9b4e-82eb0555bca6",
   "metadata": {
    "papermill": {},
    "tags": []
   },
   "source": [
    "**Description:** This notebook showcases how to use Geopy to convert between different coordinate systems, such as decimal degrees and degrees-minutes-seconds."
   ]
  },
  {
   "cell_type": "markdown",
   "id": "distinguished-truth",
   "metadata": {
    "papermill": {},
    "tags": []
   },
   "source": [
    "## Input"
   ]
  },
  {
   "cell_type": "markdown",
   "id": "b56e47f5-be89-4591-93ec-01e8fac50def",
   "metadata": {
    "papermill": {},
    "tags": []
   },
   "source": [
    "### Import libraries"
   ]
  },
  {
   "cell_type": "code",
   "execution_count": 6,
   "id": "6b63229c-7614-4dc8-ba2a-e0b1e2f64918",
   "metadata": {
    "execution": {
     "iopub.execute_input": "2023-07-28T08:52:25.004258Z",
     "iopub.status.busy": "2023-07-28T08:52:25.004024Z",
     "iopub.status.idle": "2023-07-28T08:52:25.185785Z",
     "shell.execute_reply": "2023-07-28T08:52:25.185126Z",
     "shell.execute_reply.started": "2023-07-28T08:52:25.004235Z"
    },
    "papermill": {},
    "tags": []
   },
   "outputs": [],
   "source": [
    "from geopy import Point, distance, geocoders"
   ]
  },
  {
   "cell_type": "markdown",
   "id": "3311103a-13a2-40c5-bb42-2755391f3d47",
   "metadata": {
    "papermill": {},
    "tags": []
   },
   "source": [
    "### Setup variables"
   ]
  },
  {
   "cell_type": "code",
   "execution_count": 7,
   "id": "bffaf74b-3e26-408f-9a55-bb495577cdf6",
   "metadata": {
    "execution": {
     "iopub.execute_input": "2023-07-28T08:52:25.191115Z",
     "iopub.status.busy": "2023-07-28T08:52:25.190920Z",
     "iopub.status.idle": "2023-07-28T08:52:25.194126Z",
     "shell.execute_reply": "2023-07-28T08:52:25.193561Z",
     "shell.execute_reply.started": "2023-07-28T08:52:25.191093Z"
    },
    "papermill": {},
    "tags": []
   },
   "outputs": [],
   "source": [
    "# Variables for decimal degrees to degrees-minutes-seconds\n",
    "latitude = 42.278750\n",
    "longitude = 22.689920\n",
    "# Variables for degrees-minutes-seconds to decimal degrees\n",
    "degrees = 42\n",
    "minutes = 16\n",
    "seconds = 43.50\n",
    "direction = 'N'"
   ]
  },
  {
   "cell_type": "markdown",
   "id": "registered-showcase",
   "metadata": {
    "papermill": {},
    "tags": []
   },
   "source": [
    "## Model"
   ]
  },
  {
   "cell_type": "markdown",
   "id": "205825c4-d874-4c4c-9ff9-85af6f3e5336",
   "metadata": {},
   "source": [
    "### Convert decimal degrees to degrees-minutes-seconds\n"
   ]
  },
  {
   "cell_type": "code",
   "execution_count": 8,
   "id": "75f41700-8714-41bb-be6a-ce0b4d23e2e4",
   "metadata": {
    "execution": {
     "iopub.execute_input": "2023-07-28T08:52:26.704182Z",
     "iopub.status.busy": "2023-07-28T08:52:26.703950Z",
     "iopub.status.idle": "2023-07-28T08:52:26.708705Z",
     "shell.execute_reply": "2023-07-28T08:52:26.708043Z",
     "shell.execute_reply.started": "2023-07-28T08:52:26.704159Z"
    },
    "tags": []
   },
   "outputs": [],
   "source": [
    "def decimal_to_dms_with_direction(decimal, is_latitude):\n",
    "    degrees = int(decimal)\n",
    "    minutes = int((decimal - degrees) * 60)\n",
    "    seconds = (decimal - degrees - minutes / 60) * 3600\n",
    "    direction = \"North\" if is_latitude and degrees >= 0 else \"South\" if is_latitude else \"East\" if degrees >= 0 else \"West\"\n",
    "    return f\"{degrees}° {minutes}' {seconds:.2f}\\\" {direction}\"\n",
    "latitude_dms = decimal_to_dms_with_direction(latitude, is_latitude=True)\n",
    "longitude_dms = decimal_to_dms_with_direction(longitude, is_latitude=False)\n",
    "coordinates_dms = f\"{latitude_dms}, {longitude_dms}\""
   ]
  },
  {
   "cell_type": "markdown",
   "id": "391d6ff9-e09f-4ee6-a557-a9ab712d93a0",
   "metadata": {},
   "source": [
    "### Convert degrees-minutes-seconds to decimal degrees"
   ]
  },
  {
   "cell_type": "code",
   "execution_count": 11,
   "id": "4ee65725-7d79-4ac3-a4da-660e3d8db525",
   "metadata": {
    "execution": {
     "iopub.execute_input": "2023-07-28T08:52:53.417021Z",
     "iopub.status.busy": "2023-07-28T08:52:53.416797Z",
     "iopub.status.idle": "2023-07-28T08:52:53.420946Z",
     "shell.execute_reply": "2023-07-28T08:52:53.420344Z",
     "shell.execute_reply.started": "2023-07-28T08:52:53.416998Z"
    },
    "tags": []
   },
   "outputs": [],
   "source": [
    "def dms_to_decimal(degrees, minutes, seconds, direction):\n",
    "    decimal_degrees = degrees + minutes / 60 + seconds / 3600\n",
    "    if direction in ['S', 'W']:\n",
    "        decimal_degrees *= -1\n",
    "\n",
    "    return decimal_degrees\n",
    "decimal_degrees = dms_to_decimal(degrees, minutes, seconds, direction)"
   ]
  },
  {
   "cell_type": "markdown",
   "id": "c1e4c55b",
   "metadata": {
    "papermill": {},
    "tags": []
   },
   "source": [
    "## Output"
   ]
  },
  {
   "cell_type": "markdown",
   "id": "2ee5bfd6-de4f-40c9-a590-7c7afc44b9a0",
   "metadata": {},
   "source": [
    "### Display the map"
   ]
  },
  {
   "cell_type": "code",
   "execution_count": 12,
   "id": "4af1598f-b4fe-4da2-94f3-1cfb20996fa9",
   "metadata": {
    "execution": {
     "iopub.execute_input": "2023-07-28T08:52:54.251922Z",
     "iopub.status.busy": "2023-07-28T08:52:54.251657Z",
     "iopub.status.idle": "2023-07-28T08:52:54.256216Z",
     "shell.execute_reply": "2023-07-28T08:52:54.255504Z",
     "shell.execute_reply.started": "2023-07-28T08:52:54.251889Z"
    },
    "tags": []
   },
   "outputs": [
    {
     "name": "stdout",
     "output_type": "stream",
     "text": [
      "Coordinates in DMS format with direction:\n",
      "42° 16' 43.50\" North, 22° 41' 23.71\" East\n",
      "Decimal degrees\n",
      "42.27875\n"
     ]
    }
   ],
   "source": [
    "print(\"Coordinates in DMS format with direction:\")\n",
    "print(coordinates_dms)\n",
    "print(\"Decimal degrees\")\n",
    "print(decimal_degrees)"
   ]
  }
 ],
 "metadata": {
  "kernelspec": {
   "display_name": "Python 3",
   "language": "python",
   "name": "python3"
  },
  "language_info": {
   "codemirror_mode": {
    "name": "ipython",
    "version": 3
   },
   "file_extension": ".py",
   "mimetype": "text/x-python",
   "name": "python",
   "nbconvert_exporter": "python",
   "pygments_lexer": "ipython3",
   "version": "3.9.6"
  },
  "naas": {
   "notebook_id": "a3806d0e8beb6df74a694e543ef83a8bf1058b7cc2dd05636cdeb22dde4ed654",
   "notebook_path": "Google Sheets/Google_Sheets_Add_items_to_Notion_databases_from_new_rows_in_Google_Sheets.ipynb"
  },
  "papermill": {
   "default_parameters": {},
   "environment_variables": {},
   "parameters": {},
   "version": "2.3.3"
  },
  "widgets": {
   "application/vnd.jupyter.widget-state+json": {
    "state": {},
    "version_major": 2,
    "version_minor": 0
   }
  }
 },
 "nbformat": 4,
 "nbformat_minor": 5
}
