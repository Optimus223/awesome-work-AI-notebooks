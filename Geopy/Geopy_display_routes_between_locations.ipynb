{
 "cells": [
  {
   "cell_type": "markdown",
   "id": "latin-packing",
   "metadata": {
    "execution": {
     "iopub.execute_input": "2021-02-23T14:22:16.610471Z",
     "iopub.status.busy": "2021-02-23T14:22:16.610129Z",
     "iopub.status.idle": "2021-02-23T14:22:16.627784Z",
     "shell.execute_reply": "2021-02-23T14:22:16.626866Z",
     "shell.execute_reply.started": "2021-02-23T14:22:16.610384Z"
    },
    "papermill": {},
    "tags": []
   },
   "source": [
    "<img width=\"10%\" alt=\"Naas\" src=\"https://landen.imgix.net/jtci2pxwjczr/assets/5ice39g4.png?w=160\"/>"
   ]
  },
  {
   "cell_type": "markdown",
   "id": "compressed-wilson",
   "metadata": {
    "papermill": {},
    "tags": []
   },
   "source": [
    "# Geopy - display routes between locations\n",
    "<a href=\"https://app.naas.ai/user-redirect/naas/downloader?url=https://raw.githubusercontent.com/jupyter-naas/awesome-notebooks/master/Google%20Sheets/Google_Sheets_Add_items_to_Notion_databases_from_new_rows_in_Google_Sheets.ipynb\" target=\"_parent\"><img src=\"https://naasai-public.s3.eu-west-3.amazonaws.com/Open_in_Naas_Lab.svg\"/></a><br><br><a href=\"https://bit.ly/3JyWIk6\">Give Feedbacks</a> | <a href=\"https://app.naas.ai/user-redirect/naas/downloader?url=https://raw.githubusercontent.com/jupyter-naas/awesome-notebooks/master/Naas/Naas_Start_data_product.ipynb\" target=\"_parent\">Generate Data Product</a>"
   ]
  },
  {
   "cell_type": "markdown",
   "id": "cbf7f260-f739-4e8f-9074-f070af12b69f",
   "metadata": {
    "papermill": {},
    "tags": []
   },
   "source": [
    "**Tags:** #geopy #productivity #operations #automation #jupyternotebooks #navigation"
   ]
  },
  {
   "cell_type": "markdown",
   "id": "8af9aa79",
   "metadata": {
    "papermill": {},
    "tags": []
   },
   "source": [
    "**Author:** [Antonio Georgiev](www.linkedin.com/in/antonio-georgiev-b672a325b)"
   ]
  },
  {
   "cell_type": "markdown",
   "id": "5436984d-1d8d-4c7f-9b4e-82eb0555bca6",
   "metadata": {
    "papermill": {},
    "tags": []
   },
   "source": [
    "**Description:** This notebook demonstrates how to utilize Geopy to display the routes between different locations."
   ]
  },
  {
   "cell_type": "markdown",
   "id": "distinguished-truth",
   "metadata": {
    "papermill": {},
    "tags": []
   },
   "source": [
    "## Input"
   ]
  },
  {
   "cell_type": "markdown",
   "id": "b56e47f5-be89-4591-93ec-01e8fac50def",
   "metadata": {
    "papermill": {},
    "tags": []
   },
   "source": [
    "### Import libraries"
   ]
  },
  {
   "cell_type": "code",
   "execution_count": 28,
   "id": "6b63229c-7614-4dc8-ba2a-e0b1e2f64918",
   "metadata": {
    "execution": {
     "iopub.execute_input": "2023-07-27T10:35:08.586897Z",
     "iopub.status.busy": "2023-07-27T10:35:08.586346Z",
     "iopub.status.idle": "2023-07-27T10:35:08.590445Z",
     "shell.execute_reply": "2023-07-27T10:35:08.589760Z",
     "shell.execute_reply.started": "2023-07-27T10:35:08.586865Z"
    },
    "papermill": {},
    "tags": []
   },
   "outputs": [],
   "source": [
    "from geopy.geocoders import Nominatim\n",
    "import polyline\n",
    "import folium\n",
    "import naas\n",
    "import requests\n",
    "import polyline"
   ]
  },
  {
   "cell_type": "markdown",
   "id": "3311103a-13a2-40c5-bb42-2755391f3d47",
   "metadata": {
    "papermill": {},
    "tags": []
   },
   "source": [
    "### Setup variables"
   ]
  },
  {
   "cell_type": "code",
   "execution_count": 29,
   "id": "bffaf74b-3e26-408f-9a55-bb495577cdf6",
   "metadata": {
    "execution": {
     "iopub.execute_input": "2023-07-27T10:35:10.063076Z",
     "iopub.status.busy": "2023-07-27T10:35:10.062834Z",
     "iopub.status.idle": "2023-07-27T10:35:10.974119Z",
     "shell.execute_reply": "2023-07-27T10:35:10.973444Z",
     "shell.execute_reply.started": "2023-07-27T10:35:10.063054Z"
    },
    "papermill": {},
    "tags": []
   },
   "outputs": [],
   "source": [
    "geolocator = Nominatim(user_agent=\"geoapiExercises\")\n",
    "address1 = \"Bulgaria Blvd 69, 1404 Manastirski Livadi, Sofia, Bulgaria\"\n",
    "address2 = \"Sofia, 1680, Bulgaria\"\n",
    "location1 = geolocator.geocode(address1)\n",
    "location2 = geolocator.geocode(address2)\n",
    "\n",
    "secret_name = \"API\"\n",
    "api_key = naas.secret.get(secret_name)\n",
    "url = f\"https://maps.googleapis.com/maps/api/directions/json?origin={location1.latitude},{location1.longitude}&destination={location2.latitude},{location2.longitude}&key={api_key}\"\n",
    "response = requests.get(url)\n",
    "data = response.json()"
   ]
  },
  {
   "cell_type": "markdown",
   "id": "registered-showcase",
   "metadata": {
    "papermill": {},
    "tags": []
   },
   "source": [
    "## Model"
   ]
  },
  {
   "cell_type": "markdown",
   "id": "205825c4-d874-4c4c-9ff9-85af6f3e5336",
   "metadata": {},
   "source": [
    "### Get the polyline points from the response and decode them"
   ]
  },
  {
   "cell_type": "code",
   "execution_count": 30,
   "id": "75f41700-8714-41bb-be6a-ce0b4d23e2e4",
   "metadata": {
    "execution": {
     "iopub.execute_input": "2023-07-27T10:35:11.825706Z",
     "iopub.status.busy": "2023-07-27T10:35:11.825393Z",
     "iopub.status.idle": "2023-07-27T10:35:11.829412Z",
     "shell.execute_reply": "2023-07-27T10:35:11.828763Z",
     "shell.execute_reply.started": "2023-07-27T10:35:11.825677Z"
    },
    "tags": []
   },
   "outputs": [],
   "source": [
    "points = data[\"routes\"][0][\"overview_polyline\"][\"points\"]\n",
    "decoded_points = polyline.decode(points)"
   ]
  },
  {
   "cell_type": "markdown",
   "id": "5f0e7b46-14c6-402d-9e46-9c1c94b3bba4",
   "metadata": {},
   "source": [
    "### Create a map centered around the two locations"
   ]
  },
  {
   "cell_type": "code",
   "execution_count": 31,
   "id": "2fafe16a-ccca-43ae-88fd-eb23af803fe6",
   "metadata": {
    "execution": {
     "iopub.execute_input": "2023-07-27T10:35:13.972862Z",
     "iopub.status.busy": "2023-07-27T10:35:13.972605Z",
     "iopub.status.idle": "2023-07-27T10:35:14.049661Z",
     "shell.execute_reply": "2023-07-27T10:35:14.048941Z",
     "shell.execute_reply.started": "2023-07-27T10:35:13.972828Z"
    },
    "papermill": {},
    "tags": []
   },
   "outputs": [],
   "source": [
    "avg_latitude = (location1.latitude + location2.latitude) / 2\n",
    "avg_longitude = (location1.longitude + location2.longitude) / 2\n",
    "map_routes = folium.Map(location=[avg_latitude, avg_longitude], zoom_start=12)"
   ]
  },
  {
   "cell_type": "markdown",
   "id": "c7b76e39-cca7-48b6-be20-257d0ed44239",
   "metadata": {},
   "source": [
    "### Add markers for the specified locations"
   ]
  },
  {
   "cell_type": "code",
   "execution_count": 32,
   "id": "2fcbef10-1c20-4bd9-a460-80586689afde",
   "metadata": {
    "execution": {
     "iopub.execute_input": "2023-07-27T10:35:14.786010Z",
     "iopub.status.busy": "2023-07-27T10:35:14.785703Z",
     "iopub.status.idle": "2023-07-27T10:35:14.792926Z",
     "shell.execute_reply": "2023-07-27T10:35:14.792194Z",
     "shell.execute_reply.started": "2023-07-27T10:35:14.785978Z"
    },
    "tags": []
   },
   "outputs": [
    {
     "data": {
      "text/plain": [
       "<folium.map.Marker at 0x7f561effae50>"
      ]
     },
     "execution_count": 32,
     "metadata": {},
     "output_type": "execute_result"
    }
   ],
   "source": [
    "folium.Marker([location1.latitude, location1.longitude], popup=folium.Popup(location1.address)).add_to(map_routes)\n",
    "folium.Marker([location2.latitude, location2.longitude], popup=folium.Popup(location2.address)).add_to(map_routes)"
   ]
  },
  {
   "cell_type": "code",
   "execution_count": 33,
   "id": "b8446560-3837-4553-9253-b049b6abbfbe",
   "metadata": {
    "execution": {
     "iopub.execute_input": "2023-07-27T10:35:15.766395Z",
     "iopub.status.busy": "2023-07-27T10:35:15.766175Z",
     "iopub.status.idle": "2023-07-27T10:35:15.770987Z",
     "shell.execute_reply": "2023-07-27T10:35:15.770350Z",
     "shell.execute_reply.started": "2023-07-27T10:35:15.766373Z"
    },
    "tags": []
   },
   "outputs": [
    {
     "data": {
      "text/plain": [
       "<folium.vector_layers.PolyLine at 0x7f561effa400>"
      ]
     },
     "execution_count": 33,
     "metadata": {},
     "output_type": "execute_result"
    }
   ],
   "source": [
    "folium.PolyLine(locations=decoded_points, color='blue').add_to(map_routes)"
   ]
  },
  {
   "cell_type": "markdown",
   "id": "c1e4c55b",
   "metadata": {
    "papermill": {},
    "tags": []
   },
   "source": [
    "## Output"
   ]
  },
  {
   "cell_type": "markdown",
   "id": "2ee5bfd6-de4f-40c9-a590-7c7afc44b9a0",
   "metadata": {},
   "source": [
    "### Display the map"
   ]
  },
  {
   "cell_type": "code",
   "execution_count": 34,
   "id": "4af1598f-b4fe-4da2-94f3-1cfb20996fa9",
   "metadata": {
    "execution": {
     "iopub.execute_input": "2023-07-27T10:35:18.484489Z",
     "iopub.status.busy": "2023-07-27T10:35:18.484190Z",
     "iopub.status.idle": "2023-07-27T10:35:18.631811Z",
     "shell.execute_reply": "2023-07-27T10:35:18.631133Z",
     "shell.execute_reply.started": "2023-07-27T10:35:18.484459Z"
    },
    "tags": []
   },
   "outputs": [
    {
     "data": {
      "text/html": [
       "<div style=\"width:100%;\"><div style=\"position:relative;width:100%;height:0;padding-bottom:60%;\"><span style=\"color:#565656\">Make this Notebook Trusted to load map: File -> Trust Notebook</span><iframe srcdoc=\"&lt;!DOCTYPE html&gt;\n",
       "&lt;html&gt;\n",
       "&lt;head&gt;\n",
       "    \n",
       "    &lt;meta http-equiv=&quot;content-type&quot; content=&quot;text/html; charset=UTF-8&quot; /&gt;\n",
       "    \n",
       "        &lt;script&gt;\n",
       "            L_NO_TOUCH = false;\n",
       "            L_DISABLE_3D = false;\n",
       "        &lt;/script&gt;\n",
       "    \n",
       "    &lt;style&gt;html, body {width: 100%;height: 100%;margin: 0;padding: 0;}&lt;/style&gt;\n",
       "    &lt;style&gt;#map {position:absolute;top:0;bottom:0;right:0;left:0;}&lt;/style&gt;\n",
       "    &lt;script src=&quot;https://cdn.jsdelivr.net/npm/leaflet@1.9.3/dist/leaflet.js&quot;&gt;&lt;/script&gt;\n",
       "    &lt;script src=&quot;https://code.jquery.com/jquery-1.12.4.min.js&quot;&gt;&lt;/script&gt;\n",
       "    &lt;script src=&quot;https://cdn.jsdelivr.net/npm/bootstrap@5.2.2/dist/js/bootstrap.bundle.min.js&quot;&gt;&lt;/script&gt;\n",
       "    &lt;script src=&quot;https://cdnjs.cloudflare.com/ajax/libs/Leaflet.awesome-markers/2.0.2/leaflet.awesome-markers.js&quot;&gt;&lt;/script&gt;\n",
       "    &lt;link rel=&quot;stylesheet&quot; href=&quot;https://cdn.jsdelivr.net/npm/leaflet@1.9.3/dist/leaflet.css&quot;/&gt;\n",
       "    &lt;link rel=&quot;stylesheet&quot; href=&quot;https://cdn.jsdelivr.net/npm/bootstrap@5.2.2/dist/css/bootstrap.min.css&quot;/&gt;\n",
       "    &lt;link rel=&quot;stylesheet&quot; href=&quot;https://netdna.bootstrapcdn.com/bootstrap/3.0.0/css/bootstrap.min.css&quot;/&gt;\n",
       "    &lt;link rel=&quot;stylesheet&quot; href=&quot;https://cdn.jsdelivr.net/npm/@fortawesome/fontawesome-free@6.2.0/css/all.min.css&quot;/&gt;\n",
       "    &lt;link rel=&quot;stylesheet&quot; href=&quot;https://cdnjs.cloudflare.com/ajax/libs/Leaflet.awesome-markers/2.0.2/leaflet.awesome-markers.css&quot;/&gt;\n",
       "    &lt;link rel=&quot;stylesheet&quot; href=&quot;https://cdn.jsdelivr.net/gh/python-visualization/folium/folium/templates/leaflet.awesome.rotate.min.css&quot;/&gt;\n",
       "    \n",
       "            &lt;meta name=&quot;viewport&quot; content=&quot;width=device-width,\n",
       "                initial-scale=1.0, maximum-scale=1.0, user-scalable=no&quot; /&gt;\n",
       "            &lt;style&gt;\n",
       "                #map_7e692267a57d9da65c01e62ed3ebaf7d {\n",
       "                    position: relative;\n",
       "                    width: 100.0%;\n",
       "                    height: 100.0%;\n",
       "                    left: 0.0%;\n",
       "                    top: 0.0%;\n",
       "                }\n",
       "                .leaflet-container { font-size: 1rem; }\n",
       "            &lt;/style&gt;\n",
       "        \n",
       "&lt;/head&gt;\n",
       "&lt;body&gt;\n",
       "    \n",
       "    \n",
       "            &lt;div class=&quot;folium-map&quot; id=&quot;map_7e692267a57d9da65c01e62ed3ebaf7d&quot; &gt;&lt;/div&gt;\n",
       "        \n",
       "&lt;/body&gt;\n",
       "&lt;script&gt;\n",
       "    \n",
       "    \n",
       "            var map_7e692267a57d9da65c01e62ed3ebaf7d = L.map(\n",
       "                &quot;map_7e692267a57d9da65c01e62ed3ebaf7d&quot;,\n",
       "                {\n",
       "                    center: [42.68092775, 23.3049482],\n",
       "                    crs: L.CRS.EPSG3857,\n",
       "                    zoom: 12,\n",
       "                    zoomControl: true,\n",
       "                    preferCanvas: false,\n",
       "                }\n",
       "            );\n",
       "\n",
       "            \n",
       "\n",
       "        \n",
       "    \n",
       "            var tile_layer_7b94cdf68beda3a35aa178787057797d = L.tileLayer(\n",
       "                &quot;https://{s}.tile.openstreetmap.org/{z}/{x}/{y}.png&quot;,\n",
       "                {&quot;attribution&quot;: &quot;Data by \\u0026copy; \\u003ca target=\\&quot;_blank\\&quot; href=\\&quot;http://openstreetmap.org\\&quot;\\u003eOpenStreetMap\\u003c/a\\u003e, under \\u003ca target=\\&quot;_blank\\&quot; href=\\&quot;http://www.openstreetmap.org/copyright\\&quot;\\u003eODbL\\u003c/a\\u003e.&quot;, &quot;detectRetina&quot;: false, &quot;maxNativeZoom&quot;: 18, &quot;maxZoom&quot;: 18, &quot;minZoom&quot;: 0, &quot;noWrap&quot;: false, &quot;opacity&quot;: 1, &quot;subdomains&quot;: &quot;abc&quot;, &quot;tms&quot;: false}\n",
       "            ).addTo(map_7e692267a57d9da65c01e62ed3ebaf7d);\n",
       "        \n",
       "    \n",
       "            var marker_61733bd54f10c08ad7fce7434bf646c0 = L.marker(\n",
       "                [42.6641527, 23.2881605],\n",
       "                {}\n",
       "            ).addTo(map_7e692267a57d9da65c01e62ed3ebaf7d);\n",
       "        \n",
       "    \n",
       "        var popup_d6a64d29c0659636a568ab85b66d4737 = L.popup({&quot;maxWidth&quot;: &quot;100%&quot;});\n",
       "\n",
       "        \n",
       "            \n",
       "                var html_d8de6d515a3a54c802b3fbaeb2082d63 = $(`&lt;div id=&quot;html_d8de6d515a3a54c802b3fbaeb2082d63&quot; style=&quot;width: 100.0%; height: 100.0%;&quot;&gt;Soho, 69, бул. България, ж.к. Манастирски ливади - Б, ж.к. Манастирски ливади - изток, Триадица, София, Столична, София-град, 1404, България&lt;/div&gt;`)[0];\n",
       "                popup_d6a64d29c0659636a568ab85b66d4737.setContent(html_d8de6d515a3a54c802b3fbaeb2082d63);\n",
       "            \n",
       "        \n",
       "\n",
       "        marker_61733bd54f10c08ad7fce7434bf646c0.bindPopup(popup_d6a64d29c0659636a568ab85b66d4737)\n",
       "        ;\n",
       "\n",
       "        \n",
       "    \n",
       "    \n",
       "            var marker_dd7d1aa1d8f695d639b92be4f8cb6d1a = L.marker(\n",
       "                [42.6977028, 23.3217359],\n",
       "                {}\n",
       "            ).addTo(map_7e692267a57d9da65c01e62ed3ebaf7d);\n",
       "        \n",
       "    \n",
       "        var popup_d16b2963dbc2644bfb59b70a8065a7ef = L.popup({&quot;maxWidth&quot;: &quot;100%&quot;});\n",
       "\n",
       "        \n",
       "            \n",
       "                var html_9281d1e0c01a3a99b6967933a332e023 = $(`&lt;div id=&quot;html_9281d1e0c01a3a99b6967933a332e023&quot; style=&quot;width: 100.0%; height: 100.0%;&quot;&gt;София, Столична, София-град, България&lt;/div&gt;`)[0];\n",
       "                popup_d16b2963dbc2644bfb59b70a8065a7ef.setContent(html_9281d1e0c01a3a99b6967933a332e023);\n",
       "            \n",
       "        \n",
       "\n",
       "        marker_dd7d1aa1d8f695d639b92be4f8cb6d1a.bindPopup(popup_d16b2963dbc2644bfb59b70a8065a7ef)\n",
       "        ;\n",
       "\n",
       "        \n",
       "    \n",
       "    \n",
       "            var poly_line_1aec715a9deb71d3986c171696c38eb2 = L.polyline(\n",
       "                [[42.66389, 23.28793], [42.6642, 23.28726], [42.66424, 23.28719], [42.66434, 23.28726], [42.6647, 23.28753], [42.66525, 23.28805], [42.66739, 23.29011], [42.66794, 23.29063], [42.66841, 23.29113], [42.66936, 23.29204], [42.67126, 23.2939], [42.67234, 23.29486], [42.67294, 23.29534], [42.67369, 23.29583], [42.67442, 23.29626], [42.67479, 23.29652], [42.67542, 23.29689], [42.67699, 23.29787], [42.67727, 23.29805], [42.67754, 23.29821], [42.67775, 23.29839], [42.67815, 23.29882], [42.67843, 23.29925], [42.67869, 23.29986], [42.67885, 23.30043], [42.67912, 23.30202], [42.67926, 23.30265], [42.67946, 23.30263], [42.68087, 23.30219], [42.68202, 23.30186], [42.68244, 23.3017], [42.68248, 23.30165], [42.68279, 23.30152], [42.68327, 23.3014], [42.68472, 23.30103], [42.68573, 23.30078], [42.68607, 23.30062], [42.68634, 23.30044], [42.68655, 23.30024], [42.68713, 23.29969], [42.68874, 23.29815], [42.68905, 23.29787], [42.68965, 23.29735], [42.69158, 23.29585], [42.69174, 23.29617], [42.69206, 23.2967], [42.69258, 23.29768], [42.693, 23.29844], [42.69365, 23.29969], [42.69384, 23.30003], [42.6941, 23.30054], [42.69422, 23.30071], [42.69462, 23.30144], [42.69502, 23.30217], [42.69526, 23.30264], [42.69647, 23.30231], [42.69678, 23.30238], [42.69688, 23.30241], [42.69681, 23.30284], [42.69675, 23.30334], [42.69707, 23.30345], [42.69764, 23.30361], [42.69809, 23.30374], [42.70061, 23.30444], [42.70067, 23.30447], [42.70081, 23.30452], [42.70066, 23.30546], [42.70035, 23.30726], [42.70004, 23.30912], [42.69985, 23.31029], [42.69971, 23.311], [42.69889, 23.31537], [42.69817, 23.31928], [42.69801, 23.32017], [42.69781, 23.32111], [42.69767, 23.32172]],\n",
       "                {&quot;bubblingMouseEvents&quot;: true, &quot;color&quot;: &quot;blue&quot;, &quot;dashArray&quot;: null, &quot;dashOffset&quot;: null, &quot;fill&quot;: false, &quot;fillColor&quot;: &quot;blue&quot;, &quot;fillOpacity&quot;: 0.2, &quot;fillRule&quot;: &quot;evenodd&quot;, &quot;lineCap&quot;: &quot;round&quot;, &quot;lineJoin&quot;: &quot;round&quot;, &quot;noClip&quot;: false, &quot;opacity&quot;: 1.0, &quot;smoothFactor&quot;: 1.0, &quot;stroke&quot;: true, &quot;weight&quot;: 3}\n",
       "            ).addTo(map_7e692267a57d9da65c01e62ed3ebaf7d);\n",
       "        \n",
       "&lt;/script&gt;\n",
       "&lt;/html&gt;\" style=\"position:absolute;width:100%;height:100%;left:0;top:0;border:none !important;\" allowfullscreen webkitallowfullscreen mozallowfullscreen></iframe></div></div>"
      ],
      "text/plain": [
       "<folium.folium.Map at 0x7f561f01b970>"
      ]
     },
     "execution_count": 34,
     "metadata": {},
     "output_type": "execute_result"
    }
   ],
   "source": [
    "map_routes"
   ]
  },
  {
   "cell_type": "code",
   "execution_count": null,
   "id": "1b642bd7-a49a-4c43-84c2-185670565226",
   "metadata": {},
   "outputs": [],
   "source": []
  }
 ],
 "metadata": {
  "kernelspec": {
   "display_name": "Python 3",
   "language": "python",
   "name": "python3"
  },
  "language_info": {
   "codemirror_mode": {
    "name": "ipython",
    "version": 3
   },
   "file_extension": ".py",
   "mimetype": "text/x-python",
   "name": "python",
   "nbconvert_exporter": "python",
   "pygments_lexer": "ipython3",
   "version": "3.9.6"
  },
  "naas": {
   "notebook_id": "a3806d0e8beb6df74a694e543ef83a8bf1058b7cc2dd05636cdeb22dde4ed654",
   "notebook_path": "Google Sheets/Google_Sheets_Add_items_to_Notion_databases_from_new_rows_in_Google_Sheets.ipynb"
  },
  "papermill": {
   "default_parameters": {},
   "environment_variables": {},
   "parameters": {},
   "version": "2.3.3"
  },
  "widgets": {
   "application/vnd.jupyter.widget-state+json": {
    "state": {},
    "version_major": 2,
    "version_minor": 0
   }
  }
 },
 "nbformat": 4,
 "nbformat_minor": 5
}
