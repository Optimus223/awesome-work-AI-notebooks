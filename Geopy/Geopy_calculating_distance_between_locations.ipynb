{
 "cells": [
  {
   "cell_type": "markdown",
   "id": "latin-packing",
   "metadata": {
    "execution": {
     "iopub.execute_input": "2021-02-23T14:22:16.610471Z",
     "iopub.status.busy": "2021-02-23T14:22:16.610129Z",
     "iopub.status.idle": "2021-02-23T14:22:16.627784Z",
     "shell.execute_reply": "2021-02-23T14:22:16.626866Z",
     "shell.execute_reply.started": "2021-02-23T14:22:16.610384Z"
    },
    "papermill": {},
    "tags": []
   },
   "source": [
    "<img width=\"10%\" alt=\"Naas\" src=\"https://landen.imgix.net/jtci2pxwjczr/assets/5ice39g4.png?w=160\"/>"
   ]
  },
  {
   "cell_type": "markdown",
   "id": "compressed-wilson",
   "metadata": {
    "papermill": {},
    "tags": []
   },
   "source": [
    "# Geopy - calculating distance between locations\n",
    "<a href=\"https://app.naas.ai/user-redirect/naas/downloader?url=https://raw.githubusercontent.com/jupyter-naas/awesome-notebooks/master/Google%20Sheets/Google_Sheets_Add_items_to_Notion_databases_from_new_rows_in_Google_Sheets.ipynb\" target=\"_parent\"><img src=\"https://naasai-public.s3.eu-west-3.amazonaws.com/Open_in_Naas_Lab.svg\"/></a><br><br><a href=\"https://bit.ly/3JyWIk6\">Give Feedbacks</a> | <a href=\"https://app.naas.ai/user-redirect/naas/downloader?url=https://raw.githubusercontent.com/jupyter-naas/awesome-notebooks/master/Naas/Naas_Start_data_product.ipynb\" target=\"_parent\">Generate Data Product</a>"
   ]
  },
  {
   "cell_type": "markdown",
   "id": "cbf7f260-f739-4e8f-9074-f070af12b69f",
   "metadata": {
    "papermill": {},
    "tags": []
   },
   "source": [
    "**Tags:** #geopy #productivity #operations #automation #jupyternotebooks #navigation"
   ]
  },
  {
   "cell_type": "markdown",
   "id": "8af9aa79",
   "metadata": {
    "papermill": {},
    "tags": []
   },
   "source": [
    "**Author:** [Antonio Georgiev](www.linkedin.com/in/antonio-georgiev-b672a325b)"
   ]
  },
  {
   "cell_type": "markdown",
   "id": "5436984d-1d8d-4c7f-9b4e-82eb0555bca6",
   "metadata": {
    "papermill": {},
    "tags": []
   },
   "source": [
    "**Description:** This notebook demonstrates how to utilize Geopy to calculate distance between two locations."
   ]
  },
  {
   "cell_type": "markdown",
   "id": "distinguished-truth",
   "metadata": {
    "papermill": {},
    "tags": []
   },
   "source": [
    "## Input"
   ]
  },
  {
   "cell_type": "markdown",
   "id": "b56e47f5-be89-4591-93ec-01e8fac50def",
   "metadata": {
    "papermill": {},
    "tags": []
   },
   "source": [
    "### Import libraries"
   ]
  },
  {
   "cell_type": "code",
   "execution_count": 45,
   "id": "6b63229c-7614-4dc8-ba2a-e0b1e2f64918",
   "metadata": {
    "execution": {
     "iopub.execute_input": "2023-07-26T11:20:15.302927Z",
     "iopub.status.busy": "2023-07-26T11:20:15.302669Z",
     "iopub.status.idle": "2023-07-26T11:20:15.305757Z",
     "shell.execute_reply": "2023-07-26T11:20:15.305125Z",
     "shell.execute_reply.started": "2023-07-26T11:20:15.302903Z"
    },
    "papermill": {},
    "tags": []
   },
   "outputs": [],
   "source": [
    "from geopy.geocoders import Nominatim\n",
    "from geopy.distance import geodesic"
   ]
  },
  {
   "cell_type": "markdown",
   "id": "3311103a-13a2-40c5-bb42-2755391f3d47",
   "metadata": {
    "papermill": {},
    "tags": []
   },
   "source": [
    "### Setup variables"
   ]
  },
  {
   "cell_type": "code",
   "execution_count": 46,
   "id": "bffaf74b-3e26-408f-9a55-bb495577cdf6",
   "metadata": {
    "execution": {
     "iopub.execute_input": "2023-07-26T11:20:16.063559Z",
     "iopub.status.busy": "2023-07-26T11:20:16.063341Z",
     "iopub.status.idle": "2023-07-26T11:20:16.068908Z",
     "shell.execute_reply": "2023-07-26T11:20:16.068386Z",
     "shell.execute_reply.started": "2023-07-26T11:20:16.063536Z"
    },
    "papermill": {},
    "tags": []
   },
   "outputs": [],
   "source": [
    "geolocator = Nominatim(user_agent=\"distance_calculator\")\n",
    "address1 = \"Bulgaria Blvd 69, 1404 Manastirski Livadi, Sofia, Bulgaria\"\n",
    "address2 = \"Sofia, 1680, Bulgaria\""
   ]
  },
  {
   "cell_type": "markdown",
   "id": "registered-showcase",
   "metadata": {
    "papermill": {},
    "tags": []
   },
   "source": [
    "## Model"
   ]
  },
  {
   "cell_type": "code",
   "execution_count": 47,
   "id": "2fafe16a-ccca-43ae-88fd-eb23af803fe6",
   "metadata": {
    "execution": {
     "iopub.execute_input": "2023-07-26T11:20:16.955845Z",
     "iopub.status.busy": "2023-07-26T11:20:16.955599Z",
     "iopub.status.idle": "2023-07-26T11:20:17.633378Z",
     "shell.execute_reply": "2023-07-26T11:20:17.632771Z",
     "shell.execute_reply.started": "2023-07-26T11:20:16.955820Z"
    },
    "papermill": {},
    "tags": []
   },
   "outputs": [],
   "source": [
    "location1 = geolocator.geocode(address1)\n",
    "location2 = geolocator.geocode(address2) # location1 and location2 can be removed if coordinates are used. If using coordinates\n",
    "# replace the line below with the following line distance = geodesic((lat1, lon1), (lat2, lon2)).kilometers or use \n",
    "# Geopy - address to coordinates\n",
    "distance = geodesic((location1.latitude, location1.longitude), (location2.latitude, location2.longitude)).kilometers\n",
    "rounded_distance = round(distance, 2)"
   ]
  },
  {
   "cell_type": "markdown",
   "id": "c1e4c55b",
   "metadata": {
    "papermill": {},
    "tags": []
   },
   "source": [
    "## Output"
   ]
  },
  {
   "cell_type": "markdown",
   "id": "2ee5bfd6-de4f-40c9-a590-7c7afc44b9a0",
   "metadata": {},
   "source": [
    "### Process the response"
   ]
  },
  {
   "cell_type": "code",
   "execution_count": 48,
   "id": "5bf144bb-6c2e-40f7-9eb1-493a95d3fc61",
   "metadata": {
    "execution": {
     "iopub.execute_input": "2023-07-26T11:20:19.188965Z",
     "iopub.status.busy": "2023-07-26T11:20:19.188751Z",
     "iopub.status.idle": "2023-07-26T11:20:19.192448Z",
     "shell.execute_reply": "2023-07-26T11:20:19.191806Z",
     "shell.execute_reply.started": "2023-07-26T11:20:19.188943Z"
    },
    "tags": []
   },
   "outputs": [
    {
     "name": "stdout",
     "output_type": "stream",
     "text": [
      "Distance between the two addresses: 4.63 km\n"
     ]
    }
   ],
   "source": [
    "print(\"Distance between the two addresses:\", rounded_distance, \"km\")\n"
   ]
  },
  {
   "cell_type": "code",
   "execution_count": null,
   "id": "06d94c6d-9602-4ea7-9ff9-ac719d949505",
   "metadata": {},
   "outputs": [],
   "source": []
  }
 ],
 "metadata": {
  "kernelspec": {
   "display_name": "Python 3",
   "language": "python",
   "name": "python3"
  },
  "language_info": {
   "codemirror_mode": {
    "name": "ipython",
    "version": 3
   },
   "file_extension": ".py",
   "mimetype": "text/x-python",
   "name": "python",
   "nbconvert_exporter": "python",
   "pygments_lexer": "ipython3",
   "version": "3.9.6"
  },
  "naas": {
   "notebook_id": "a3806d0e8beb6df74a694e543ef83a8bf1058b7cc2dd05636cdeb22dde4ed654",
   "notebook_path": "Google Sheets/Google_Sheets_Add_items_to_Notion_databases_from_new_rows_in_Google_Sheets.ipynb"
  },
  "papermill": {
   "default_parameters": {},
   "environment_variables": {},
   "parameters": {},
   "version": "2.3.3"
  },
  "widgets": {
   "application/vnd.jupyter.widget-state+json": {
    "state": {},
    "version_major": 2,
    "version_minor": 0
   }
  }
 },
 "nbformat": 4,
 "nbformat_minor": 5
}
