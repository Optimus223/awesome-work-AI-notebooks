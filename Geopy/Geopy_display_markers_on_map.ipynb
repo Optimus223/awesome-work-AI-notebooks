{
 "cells": [
  {
   "cell_type": "markdown",
   "id": "latin-packing",
   "metadata": {
    "execution": {
     "iopub.execute_input": "2021-02-23T14:22:16.610471Z",
     "iopub.status.busy": "2021-02-23T14:22:16.610129Z",
     "iopub.status.idle": "2021-02-23T14:22:16.627784Z",
     "shell.execute_reply": "2021-02-23T14:22:16.626866Z",
     "shell.execute_reply.started": "2021-02-23T14:22:16.610384Z"
    },
    "papermill": {},
    "tags": []
   },
   "source": [
    "<img width=\"10%\" alt=\"Naas\" src=\"https://landen.imgix.net/jtci2pxwjczr/assets/5ice39g4.png?w=160\"/>"
   ]
  },
  {
   "cell_type": "markdown",
   "id": "compressed-wilson",
   "metadata": {
    "papermill": {},
    "tags": []
   },
   "source": [
    "# Geopy - display markers on map\n",
    "<a href=\"https://app.naas.ai/user-redirect/naas/downloader?url=https://raw.githubusercontent.com/jupyter-naas/awesome-notebooks/master/Google%20Sheets/Google_Sheets_Add_items_to_Notion_databases_from_new_rows_in_Google_Sheets.ipynb\" target=\"_parent\"><img src=\"https://naasai-public.s3.eu-west-3.amazonaws.com/Open_in_Naas_Lab.svg\"/></a><br><br><a href=\"https://bit.ly/3JyWIk6\">Give Feedbacks</a> | <a href=\"https://app.naas.ai/user-redirect/naas/downloader?url=https://raw.githubusercontent.com/jupyter-naas/awesome-notebooks/master/Naas/Naas_Start_data_product.ipynb\" target=\"_parent\">Generate Data Product</a>"
   ]
  },
  {
   "cell_type": "markdown",
   "id": "cbf7f260-f739-4e8f-9074-f070af12b69f",
   "metadata": {
    "papermill": {},
    "tags": []
   },
   "source": [
    "**Tags:** #geopy #productivity #operations #automation #jupyternotebooks #navigation"
   ]
  },
  {
   "cell_type": "markdown",
   "id": "8af9aa79",
   "metadata": {
    "papermill": {},
    "tags": []
   },
   "source": [
    "**Author:** [Antonio Georgiev](www.linkedin.com/in/antonio-georgiev-b672a325b)"
   ]
  },
  {
   "cell_type": "markdown",
   "id": "5436984d-1d8d-4c7f-9b4e-82eb0555bca6",
   "metadata": {
    "papermill": {},
    "tags": []
   },
   "source": [
    "**Description:** This notebook demonstrates how to utilize Geopy to display markers for a given set of locations on a map."
   ]
  },
  {
   "cell_type": "markdown",
   "id": "distinguished-truth",
   "metadata": {
    "papermill": {},
    "tags": []
   },
   "source": [
    "## Input"
   ]
  },
  {
   "cell_type": "markdown",
   "id": "b56e47f5-be89-4591-93ec-01e8fac50def",
   "metadata": {
    "papermill": {},
    "tags": []
   },
   "source": [
    "### Import libraries"
   ]
  },
  {
   "cell_type": "code",
   "execution_count": 1,
   "id": "6b63229c-7614-4dc8-ba2a-e0b1e2f64918",
   "metadata": {
    "execution": {
     "iopub.execute_input": "2023-07-27T10:20:22.625423Z",
     "iopub.status.busy": "2023-07-27T10:20:22.624895Z",
     "iopub.status.idle": "2023-07-27T10:20:23.436106Z",
     "shell.execute_reply": "2023-07-27T10:20:23.435369Z",
     "shell.execute_reply.started": "2023-07-27T10:20:22.625334Z"
    },
    "papermill": {},
    "tags": []
   },
   "outputs": [],
   "source": [
    "from geopy.geocoders import Nominatim\n",
    "try:\n",
    "    import importlib\n",
    "    importlib.import_module(\"folium\")\n",
    "except ImportError:\n",
    "    !pip install folium --user\n",
    "import folium"
   ]
  },
  {
   "cell_type": "markdown",
   "id": "3311103a-13a2-40c5-bb42-2755391f3d47",
   "metadata": {
    "papermill": {},
    "tags": []
   },
   "source": [
    "### Setup variables"
   ]
  },
  {
   "cell_type": "code",
   "execution_count": 2,
   "id": "bffaf74b-3e26-408f-9a55-bb495577cdf6",
   "metadata": {
    "execution": {
     "iopub.execute_input": "2023-07-27T10:20:23.437786Z",
     "iopub.status.busy": "2023-07-27T10:20:23.437548Z",
     "iopub.status.idle": "2023-07-27T10:20:24.102257Z",
     "shell.execute_reply": "2023-07-27T10:20:24.101578Z",
     "shell.execute_reply.started": "2023-07-27T10:20:23.437755Z"
    },
    "papermill": {},
    "tags": []
   },
   "outputs": [],
   "source": [
    "geolocator = Nominatim(user_agent=\"geoapiExercises\")\n",
    "address1 = \"Bulgaria Blvd 69, 1404 Manastirski Livadi, Sofia, Bulgaria\"\n",
    "address2 = \"Sofia, 1680, Bulgaria\"\n",
    "location1 = geolocator.geocode(address1)\n",
    "location2 = geolocator.geocode(address2)"
   ]
  },
  {
   "cell_type": "markdown",
   "id": "registered-showcase",
   "metadata": {
    "papermill": {},
    "tags": []
   },
   "source": [
    "## Model"
   ]
  },
  {
   "cell_type": "markdown",
   "id": "5f0e7b46-14c6-402d-9e46-9c1c94b3bba4",
   "metadata": {},
   "source": [
    "### Create a map centered around the two locations"
   ]
  },
  {
   "cell_type": "code",
   "execution_count": 3,
   "id": "2fafe16a-ccca-43ae-88fd-eb23af803fe6",
   "metadata": {
    "execution": {
     "iopub.execute_input": "2023-07-27T10:20:24.103890Z",
     "iopub.status.busy": "2023-07-27T10:20:24.103466Z",
     "iopub.status.idle": "2023-07-27T10:20:24.205332Z",
     "shell.execute_reply": "2023-07-27T10:20:24.204681Z",
     "shell.execute_reply.started": "2023-07-27T10:20:24.103828Z"
    },
    "papermill": {},
    "tags": []
   },
   "outputs": [],
   "source": [
    "avg_latitude = (location1.latitude + location2.latitude) / 2\n",
    "avg_longitude = (location1.longitude + location2.longitude) / 2\n",
    "map_itinerary = folium.Map(location=[avg_latitude, avg_longitude], zoom_start=12)"
   ]
  },
  {
   "cell_type": "markdown",
   "id": "c7b76e39-cca7-48b6-be20-257d0ed44239",
   "metadata": {},
   "source": [
    "### Add markers for the specified locations"
   ]
  },
  {
   "cell_type": "code",
   "execution_count": 4,
   "id": "2fcbef10-1c20-4bd9-a460-80586689afde",
   "metadata": {
    "execution": {
     "iopub.execute_input": "2023-07-27T10:20:24.208313Z",
     "iopub.status.busy": "2023-07-27T10:20:24.208122Z",
     "iopub.status.idle": "2023-07-27T10:20:24.250527Z",
     "shell.execute_reply": "2023-07-27T10:20:24.249893Z",
     "shell.execute_reply.started": "2023-07-27T10:20:24.208291Z"
    }
   },
   "outputs": [
    {
     "data": {
      "text/plain": [
       "<folium.map.Marker at 0x7f36a3bb6a90>"
      ]
     },
     "execution_count": 4,
     "metadata": {},
     "output_type": "execute_result"
    }
   ],
   "source": [
    "folium.Marker([location1.latitude, location1.longitude], popup=folium.Popup(address1)).add_to(map_itinerary)\n",
    "folium.Marker([location2.latitude, location2.longitude], popup=folium.Popup(address2)).add_to(map_itinerary)"
   ]
  },
  {
   "cell_type": "markdown",
   "id": "c1e4c55b",
   "metadata": {
    "papermill": {},
    "tags": []
   },
   "source": [
    "## Output"
   ]
  },
  {
   "cell_type": "markdown",
   "id": "2ee5bfd6-de4f-40c9-a590-7c7afc44b9a0",
   "metadata": {},
   "source": [
    "### Display the map"
   ]
  },
  {
   "cell_type": "code",
   "execution_count": 5,
   "id": "4af1598f-b4fe-4da2-94f3-1cfb20996fa9",
   "metadata": {
    "execution": {
     "iopub.execute_input": "2023-07-27T10:20:24.251897Z",
     "iopub.status.busy": "2023-07-27T10:20:24.251463Z",
     "iopub.status.idle": "2023-07-27T10:20:24.415717Z",
     "shell.execute_reply": "2023-07-27T10:20:24.415042Z",
     "shell.execute_reply.started": "2023-07-27T10:20:24.251865Z"
    },
    "tags": []
   },
   "outputs": [
    {
     "data": {
      "text/html": [
       "<div style=\"width:100%;\"><div style=\"position:relative;width:100%;height:0;padding-bottom:60%;\"><span style=\"color:#565656\">Make this Notebook Trusted to load map: File -> Trust Notebook</span><iframe srcdoc=\"&lt;!DOCTYPE html&gt;\n",
       "&lt;html&gt;\n",
       "&lt;head&gt;\n",
       "    \n",
       "    &lt;meta http-equiv=&quot;content-type&quot; content=&quot;text/html; charset=UTF-8&quot; /&gt;\n",
       "    \n",
       "        &lt;script&gt;\n",
       "            L_NO_TOUCH = false;\n",
       "            L_DISABLE_3D = false;\n",
       "        &lt;/script&gt;\n",
       "    \n",
       "    &lt;style&gt;html, body {width: 100%;height: 100%;margin: 0;padding: 0;}&lt;/style&gt;\n",
       "    &lt;style&gt;#map {position:absolute;top:0;bottom:0;right:0;left:0;}&lt;/style&gt;\n",
       "    &lt;script src=&quot;https://cdn.jsdelivr.net/npm/leaflet@1.9.3/dist/leaflet.js&quot;&gt;&lt;/script&gt;\n",
       "    &lt;script src=&quot;https://code.jquery.com/jquery-1.12.4.min.js&quot;&gt;&lt;/script&gt;\n",
       "    &lt;script src=&quot;https://cdn.jsdelivr.net/npm/bootstrap@5.2.2/dist/js/bootstrap.bundle.min.js&quot;&gt;&lt;/script&gt;\n",
       "    &lt;script src=&quot;https://cdnjs.cloudflare.com/ajax/libs/Leaflet.awesome-markers/2.0.2/leaflet.awesome-markers.js&quot;&gt;&lt;/script&gt;\n",
       "    &lt;link rel=&quot;stylesheet&quot; href=&quot;https://cdn.jsdelivr.net/npm/leaflet@1.9.3/dist/leaflet.css&quot;/&gt;\n",
       "    &lt;link rel=&quot;stylesheet&quot; href=&quot;https://cdn.jsdelivr.net/npm/bootstrap@5.2.2/dist/css/bootstrap.min.css&quot;/&gt;\n",
       "    &lt;link rel=&quot;stylesheet&quot; href=&quot;https://netdna.bootstrapcdn.com/bootstrap/3.0.0/css/bootstrap.min.css&quot;/&gt;\n",
       "    &lt;link rel=&quot;stylesheet&quot; href=&quot;https://cdn.jsdelivr.net/npm/@fortawesome/fontawesome-free@6.2.0/css/all.min.css&quot;/&gt;\n",
       "    &lt;link rel=&quot;stylesheet&quot; href=&quot;https://cdnjs.cloudflare.com/ajax/libs/Leaflet.awesome-markers/2.0.2/leaflet.awesome-markers.css&quot;/&gt;\n",
       "    &lt;link rel=&quot;stylesheet&quot; href=&quot;https://cdn.jsdelivr.net/gh/python-visualization/folium/folium/templates/leaflet.awesome.rotate.min.css&quot;/&gt;\n",
       "    \n",
       "            &lt;meta name=&quot;viewport&quot; content=&quot;width=device-width,\n",
       "                initial-scale=1.0, maximum-scale=1.0, user-scalable=no&quot; /&gt;\n",
       "            &lt;style&gt;\n",
       "                #map_07257980c4029a2a54fb8137f4b4cc5d {\n",
       "                    position: relative;\n",
       "                    width: 100.0%;\n",
       "                    height: 100.0%;\n",
       "                    left: 0.0%;\n",
       "                    top: 0.0%;\n",
       "                }\n",
       "                .leaflet-container { font-size: 1rem; }\n",
       "            &lt;/style&gt;\n",
       "        \n",
       "&lt;/head&gt;\n",
       "&lt;body&gt;\n",
       "    \n",
       "    \n",
       "            &lt;div class=&quot;folium-map&quot; id=&quot;map_07257980c4029a2a54fb8137f4b4cc5d&quot; &gt;&lt;/div&gt;\n",
       "        \n",
       "&lt;/body&gt;\n",
       "&lt;script&gt;\n",
       "    \n",
       "    \n",
       "            var map_07257980c4029a2a54fb8137f4b4cc5d = L.map(\n",
       "                &quot;map_07257980c4029a2a54fb8137f4b4cc5d&quot;,\n",
       "                {\n",
       "                    center: [42.68092775, 23.3049482],\n",
       "                    crs: L.CRS.EPSG3857,\n",
       "                    zoom: 12,\n",
       "                    zoomControl: true,\n",
       "                    preferCanvas: false,\n",
       "                }\n",
       "            );\n",
       "\n",
       "            \n",
       "\n",
       "        \n",
       "    \n",
       "            var tile_layer_b37d006fbc317a641dd7cb9f0fe6616f = L.tileLayer(\n",
       "                &quot;https://{s}.tile.openstreetmap.org/{z}/{x}/{y}.png&quot;,\n",
       "                {&quot;attribution&quot;: &quot;Data by \\u0026copy; \\u003ca target=\\&quot;_blank\\&quot; href=\\&quot;http://openstreetmap.org\\&quot;\\u003eOpenStreetMap\\u003c/a\\u003e, under \\u003ca target=\\&quot;_blank\\&quot; href=\\&quot;http://www.openstreetmap.org/copyright\\&quot;\\u003eODbL\\u003c/a\\u003e.&quot;, &quot;detectRetina&quot;: false, &quot;maxNativeZoom&quot;: 18, &quot;maxZoom&quot;: 18, &quot;minZoom&quot;: 0, &quot;noWrap&quot;: false, &quot;opacity&quot;: 1, &quot;subdomains&quot;: &quot;abc&quot;, &quot;tms&quot;: false}\n",
       "            ).addTo(map_07257980c4029a2a54fb8137f4b4cc5d);\n",
       "        \n",
       "    \n",
       "            var marker_6005e3201f9523011942f76b03dc36a6 = L.marker(\n",
       "                [42.6641527, 23.2881605],\n",
       "                {}\n",
       "            ).addTo(map_07257980c4029a2a54fb8137f4b4cc5d);\n",
       "        \n",
       "    \n",
       "        var popup_933e8d6ebe68565d89609f5e21219771 = L.popup({&quot;maxWidth&quot;: &quot;100%&quot;});\n",
       "\n",
       "        \n",
       "            \n",
       "                var html_79a7f51881ded34ae94c565231efe621 = $(`&lt;div id=&quot;html_79a7f51881ded34ae94c565231efe621&quot; style=&quot;width: 100.0%; height: 100.0%;&quot;&gt;Bulgaria Blvd 69, 1404 Manastirski Livadi, Sofia, Bulgaria&lt;/div&gt;`)[0];\n",
       "                popup_933e8d6ebe68565d89609f5e21219771.setContent(html_79a7f51881ded34ae94c565231efe621);\n",
       "            \n",
       "        \n",
       "\n",
       "        marker_6005e3201f9523011942f76b03dc36a6.bindPopup(popup_933e8d6ebe68565d89609f5e21219771)\n",
       "        ;\n",
       "\n",
       "        \n",
       "    \n",
       "    \n",
       "            var marker_cdda09aa921bc6d295f133419fdd209f = L.marker(\n",
       "                [42.6977028, 23.3217359],\n",
       "                {}\n",
       "            ).addTo(map_07257980c4029a2a54fb8137f4b4cc5d);\n",
       "        \n",
       "    \n",
       "        var popup_37d7d856d80f8b43a3ea51de3d68988b = L.popup({&quot;maxWidth&quot;: &quot;100%&quot;});\n",
       "\n",
       "        \n",
       "            \n",
       "                var html_994c739fd57001b018d62cd48a7b7c88 = $(`&lt;div id=&quot;html_994c739fd57001b018d62cd48a7b7c88&quot; style=&quot;width: 100.0%; height: 100.0%;&quot;&gt;Sofia, 1680, Bulgaria&lt;/div&gt;`)[0];\n",
       "                popup_37d7d856d80f8b43a3ea51de3d68988b.setContent(html_994c739fd57001b018d62cd48a7b7c88);\n",
       "            \n",
       "        \n",
       "\n",
       "        marker_cdda09aa921bc6d295f133419fdd209f.bindPopup(popup_37d7d856d80f8b43a3ea51de3d68988b)\n",
       "        ;\n",
       "\n",
       "        \n",
       "    \n",
       "&lt;/script&gt;\n",
       "&lt;/html&gt;\" style=\"position:absolute;width:100%;height:100%;left:0;top:0;border:none !important;\" allowfullscreen webkitallowfullscreen mozallowfullscreen></iframe></div></div>"
      ],
      "text/plain": [
       "<folium.folium.Map at 0x7f36a3bde250>"
      ]
     },
     "execution_count": 5,
     "metadata": {},
     "output_type": "execute_result"
    }
   ],
   "source": [
    "map_itinerary"
   ]
  }
 ],
 "metadata": {
  "kernelspec": {
   "display_name": "Python 3",
   "language": "python",
   "name": "python3"
  },
  "language_info": {
   "codemirror_mode": {
    "name": "ipython",
    "version": 3
   },
   "file_extension": ".py",
   "mimetype": "text/x-python",
   "name": "python",
   "nbconvert_exporter": "python",
   "pygments_lexer": "ipython3",
   "version": "3.9.6"
  },
  "naas": {
   "notebook_id": "a3806d0e8beb6df74a694e543ef83a8bf1058b7cc2dd05636cdeb22dde4ed654",
   "notebook_path": "Google Sheets/Google_Sheets_Add_items_to_Notion_databases_from_new_rows_in_Google_Sheets.ipynb"
  },
  "papermill": {
   "default_parameters": {},
   "environment_variables": {},
   "parameters": {},
   "version": "2.3.3"
  },
  "widgets": {
   "application/vnd.jupyter.widget-state+json": {
    "state": {},
    "version_major": 2,
    "version_minor": 0
   }
  }
 },
 "nbformat": 4,
 "nbformat_minor": 5
}
