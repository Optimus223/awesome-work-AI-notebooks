{
 "cells": [
  {
   "cell_type": "markdown",
   "id": "latin-packing",
   "metadata": {
    "execution": {
     "iopub.execute_input": "2021-02-23T14:22:16.610471Z",
     "iopub.status.busy": "2021-02-23T14:22:16.610129Z",
     "iopub.status.idle": "2021-02-23T14:22:16.627784Z",
     "shell.execute_reply": "2021-02-23T14:22:16.626866Z",
     "shell.execute_reply.started": "2021-02-23T14:22:16.610384Z"
    },
    "papermill": {},
    "tags": []
   },
   "source": [
    "<img width=\"10%\" alt=\"Naas\" src=\"https://landen.imgix.net/jtci2pxwjczr/assets/5ice39g4.png?w=160\"/>"
   ]
  },
  {
   "cell_type": "markdown",
   "id": "compressed-wilson",
   "metadata": {
    "papermill": {},
    "tags": []
   },
   "source": [
    "# Geopy - display markers on map\n",
    "<a href=\"https://app.naas.ai/user-redirect/naas/downloader?url=https://raw.githubusercontent.com/jupyter-naas/awesome-notebooks/master/Google%20Sheets/Google_Sheets_Add_items_to_Notion_databases_from_new_rows_in_Google_Sheets.ipynb\" target=\"_parent\"><img src=\"https://naasai-public.s3.eu-west-3.amazonaws.com/Open_in_Naas_Lab.svg\"/></a><br><br><a href=\"https://bit.ly/3JyWIk6\">Give Feedbacks</a> | <a href=\"https://app.naas.ai/user-redirect/naas/downloader?url=https://raw.githubusercontent.com/jupyter-naas/awesome-notebooks/master/Naas/Naas_Start_data_product.ipynb\" target=\"_parent\">Generate Data Product</a>"
   ]
  },
  {
   "cell_type": "markdown",
   "id": "cbf7f260-f739-4e8f-9074-f070af12b69f",
   "metadata": {
    "papermill": {},
    "tags": []
   },
   "source": [
    "**Tags:** #geopy #productivity #operations #automation #jupyternotebooks #navigation"
   ]
  },
  {
   "cell_type": "markdown",
   "id": "8af9aa79",
   "metadata": {
    "papermill": {},
    "tags": []
   },
   "source": [
    "**Author:** [Antonio Georgiev](www.linkedin.com/in/antonio-georgiev-b672a325b)"
   ]
  },
  {
   "cell_type": "markdown",
   "id": "5436984d-1d8d-4c7f-9b4e-82eb0555bca6",
   "metadata": {
    "papermill": {},
    "tags": []
   },
   "source": [
    "**Description:** This notebook demonstrates how to utilize Geopy to display markers for given locations on a map."
   ]
  },
  {
   "cell_type": "markdown",
   "id": "distinguished-truth",
   "metadata": {
    "papermill": {},
    "tags": []
   },
   "source": [
    "## Input"
   ]
  },
  {
   "cell_type": "markdown",
   "id": "b56e47f5-be89-4591-93ec-01e8fac50def",
   "metadata": {
    "papermill": {},
    "tags": []
   },
   "source": [
    "### Import libraries"
   ]
  },
  {
   "cell_type": "code",
   "execution_count": 15,
   "id": "6b63229c-7614-4dc8-ba2a-e0b1e2f64918",
   "metadata": {
    "execution": {
     "iopub.execute_input": "2023-07-27T10:06:22.244697Z",
     "iopub.status.busy": "2023-07-27T10:06:22.244440Z",
     "iopub.status.idle": "2023-07-27T10:06:22.248380Z",
     "shell.execute_reply": "2023-07-27T10:06:22.247701Z",
     "shell.execute_reply.started": "2023-07-27T10:06:22.244671Z"
    },
    "papermill": {},
    "tags": []
   },
   "outputs": [],
   "source": [
    "from geopy.geocoders import Nominatim\n",
    "try:\n",
    "    import importlib\n",
    "    importlib.import_module(\"folium\")\n",
    "except ImportError:\n",
    "    !pip install folium --user\n",
    "import folium"
   ]
  },
  {
   "cell_type": "markdown",
   "id": "3311103a-13a2-40c5-bb42-2755391f3d47",
   "metadata": {
    "papermill": {},
    "tags": []
   },
   "source": [
    "### Setup variables"
   ]
  },
  {
   "cell_type": "code",
   "execution_count": 16,
   "id": "bffaf74b-3e26-408f-9a55-bb495577cdf6",
   "metadata": {
    "execution": {
     "iopub.execute_input": "2023-07-27T10:06:22.501388Z",
     "iopub.status.busy": "2023-07-27T10:06:22.501166Z",
     "iopub.status.idle": "2023-07-27T10:06:23.148958Z",
     "shell.execute_reply": "2023-07-27T10:06:23.148353Z",
     "shell.execute_reply.started": "2023-07-27T10:06:22.501365Z"
    },
    "papermill": {},
    "tags": []
   },
   "outputs": [],
   "source": [
    "geolocator = Nominatim(user_agent=\"geoapiExercises\")\n",
    "location1 = geolocator.geocode(\"Bulgaria Blvd 69, 1404 Manastirski Livadi, Sofia, Bulgaria\")\n",
    "location2 = geolocator.geocode(\"Sofia, 1680, Bulgaria\")"
   ]
  },
  {
   "cell_type": "markdown",
   "id": "registered-showcase",
   "metadata": {
    "papermill": {},
    "tags": []
   },
   "source": [
    "## Model"
   ]
  },
  {
   "cell_type": "markdown",
   "id": "5f0e7b46-14c6-402d-9e46-9c1c94b3bba4",
   "metadata": {},
   "source": [
    "### Create a map centered around the two locations"
   ]
  },
  {
   "cell_type": "code",
   "execution_count": 26,
   "id": "2fafe16a-ccca-43ae-88fd-eb23af803fe6",
   "metadata": {
    "execution": {
     "iopub.execute_input": "2023-07-27T10:06:51.701710Z",
     "iopub.status.busy": "2023-07-27T10:06:51.701482Z",
     "iopub.status.idle": "2023-07-27T10:06:51.763593Z",
     "shell.execute_reply": "2023-07-27T10:06:51.763004Z",
     "shell.execute_reply.started": "2023-07-27T10:06:51.701686Z"
    },
    "papermill": {},
    "tags": []
   },
   "outputs": [],
   "source": [
    "avg_latitude = (location1.latitude + location2.latitude) / 2\n",
    "avg_longitude = (location1.longitude + location2.longitude) / 2\n",
    "map_itinerary = folium.Map(location=[avg_latitude, avg_longitude], zoom_start=12)"
   ]
  },
  {
   "cell_type": "markdown",
   "id": "c7b76e39-cca7-48b6-be20-257d0ed44239",
   "metadata": {},
   "source": [
    "### Add markers for the specified locations"
   ]
  },
  {
   "cell_type": "code",
   "execution_count": 29,
   "id": "be58627e-1091-4a61-971b-eb7bb16ceefd",
   "metadata": {
    "execution": {
     "iopub.execute_input": "2023-07-27T10:10:42.724927Z",
     "iopub.status.busy": "2023-07-27T10:10:42.724692Z",
     "iopub.status.idle": "2023-07-27T10:10:42.731101Z",
     "shell.execute_reply": "2023-07-27T10:10:42.730450Z",
     "shell.execute_reply.started": "2023-07-27T10:10:42.724903Z"
    },
    "tags": []
   },
   "outputs": [
    {
     "data": {
      "text/plain": [
       "<folium.map.Marker at 0x7f757aad3df0>"
      ]
     },
     "execution_count": 29,
     "metadata": {},
     "output_type": "execute_result"
    }
   ],
   "source": [
    "folium.Marker([location1.latitude, location1.longitude], popup=folium.Popup(location1.address)).add_to(map_itinerary)\n",
    "folium.Marker([location2.latitude, location2.longitude], popup=folium.Popup(location2.address)).add_to(map_itinerary)"
   ]
  },
  {
   "cell_type": "markdown",
   "id": "c1e4c55b",
   "metadata": {
    "papermill": {},
    "tags": []
   },
   "source": [
    "## Output"
   ]
  },
  {
   "cell_type": "markdown",
   "id": "2ee5bfd6-de4f-40c9-a590-7c7afc44b9a0",
   "metadata": {},
   "source": [
    "### Display the map"
   ]
  },
  {
   "cell_type": "code",
   "execution_count": null,
   "id": "4af1598f-b4fe-4da2-94f3-1cfb20996fa9",
   "metadata": {},
   "outputs": [],
   "source": [
    "map_itinerary"
   ]
  }
 ],
 "metadata": {
  "kernelspec": {
   "display_name": "Python 3",
   "language": "python",
   "name": "python3"
  },
  "language_info": {
   "codemirror_mode": {
    "name": "ipython",
    "version": 3
   },
   "file_extension": ".py",
   "mimetype": "text/x-python",
   "name": "python",
   "nbconvert_exporter": "python",
   "pygments_lexer": "ipython3",
   "version": "3.9.6"
  },
  "naas": {
   "notebook_id": "a3806d0e8beb6df74a694e543ef83a8bf1058b7cc2dd05636cdeb22dde4ed654",
   "notebook_path": "Google Sheets/Google_Sheets_Add_items_to_Notion_databases_from_new_rows_in_Google_Sheets.ipynb"
  },
  "papermill": {
   "default_parameters": {},
   "environment_variables": {},
   "parameters": {},
   "version": "2.3.3"
  },
  "widgets": {
   "application/vnd.jupyter.widget-state+json": {
    "state": {},
    "version_major": 2,
    "version_minor": 0
   }
  }
 },
 "nbformat": 4,
 "nbformat_minor": 5
}
