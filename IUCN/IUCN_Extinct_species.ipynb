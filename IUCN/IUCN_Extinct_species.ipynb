{
 "cells": [
  {
   "cell_type": "markdown",
   "id": "strong-italian",
   "metadata": {
    "papermill": {},
    "tags": []
   },
   "source": [
    "# IUCN - Extinct species\n",
    "<a href=\"https://app.naas.ai/user-redirect/naas/downloader?url=https://raw.githubusercontent.com/jupyter-naas/awesome-notebooks/master/IUCN/IUCN_Extinct_species.ipynb\" target=\"_parent\"><img src=\"https://naasai-public.s3.eu-west-3.amazonaws.com/open_in_naas.svg\"/></a>"
   ]
  },
  {
   "cell_type": "markdown",
   "id": "d05f7c9d-5d21-4084-9c78-2d8bd3eead7b",
   "metadata": {
    "papermill": {},
    "tags": []
   },
   "source": [
    "**Tags:** #iucn #opendata #extinctspecies"
   ]
  },
  {
   "cell_type": "markdown",
   "id": "artificial-lesson",
   "metadata": {
    "papermill": {},
    "tags": []
   },
   "source": [
    "Source : https://www.iucnredlist.org/statistics"
   ]
  },
  {
   "cell_type": "markdown",
   "id": "black-brief",
   "metadata": {
    "papermill": {},
    "tags": []
   },
   "source": [
    "If you want another view of the data : Link : https://ourworldindata.org/extinctions"
   ]
  },
  {
   "cell_type": "markdown",
   "id": "limiting-character",
   "metadata": {
    "execution": {
     "iopub.execute_input": "2021-05-19T13:06:44.812599Z",
     "iopub.status.busy": "2021-05-19T13:06:44.812361Z",
     "iopub.status.idle": "2021-05-19T13:06:44.815436Z",
     "shell.execute_reply": "2021-05-19T13:06:44.814755Z",
     "shell.execute_reply.started": "2021-05-19T13:06:44.812577Z"
    },
    "papermill": {},
    "tags": []
   },
   "source": [
    "## Input"
   ]
  },
  {
   "cell_type": "markdown",
   "id": "identified-score",
   "metadata": {
    "papermill": {},
    "tags": []
   },
   "source": [
    "### History\n",
    "The initial aim was to compare the number of threatened species per species over time (e.g. number of pandas per year).\n",
    "\n",
    "After a lot of research, it turns out that this kind of data is not available or it is only data from one year (2015 or 2018).\n",
    "\n",
    "Therefore, we decided to start another project: Number of threatened species per year, with details by category using data from this site : https://www.iucnredlist.org/resources/summary-statistics#Summary%20Tables\n",
    "\n",
    "So we took the pdf from this site and turned it into a csv.\n",
    "But the data was heavy and not easy to use. Moreover, we thought that this would not necessarily be viable and adaptable over time.\n",
    "\n",
    "So we decided to take another datasource on a similar subject : *Extinct Species*, from this website : https://www.iucnredlist.org/statistics"
   ]
  },
  {
   "cell_type": "markdown",
   "id": "659432ab",
   "metadata": {
    "papermill": {},
    "tags": []
   },
   "source": [
    "**Tags:** #iucn #opendata #extinctspecies"
   ]
  },
  {
   "cell_type": "markdown",
   "id": "import_cell",
   "metadata": {
    "papermill": {},
    "tags": []
   },
   "source": [
    "### Import library"
   ]
  },
  {
   "cell_type": "code",
   "execution_count": null,
   "id": "98440e74-92e7-43f2-88de-bb317fd628da",
   "metadata": {
    "papermill": {},
    "tags": []
   },
   "outputs": [],
   "source": [
    "import pandas as pd"
   ]
  },
  {
   "cell_type": "markdown",
   "id": "recreational-freeze",
   "metadata": {
    "papermill": {},
    "tags": []
   },
   "source": [
    "### Test with 'read_html' \n",
    "We couldn't use it cause there's too many tabs in the page (it'll take too long)."
   ]
  },
  {
   "cell_type": "code",
   "execution_count": null,
   "id": "awful-ceramic",
   "metadata": {
    "papermill": {},
    "tags": []
   },
   "outputs": [],
   "source": [
    "url = \"https://www.iucnredlist.org/statistics\"\n",
    "\n",
    "#dfs = pd.read_html(url)\n",
    "#df = dfs[0]\n",
    "\n",
    "#df"
   ]
  },
  {
   "cell_type": "markdown",
   "id": "model_cell",
   "metadata": {
    "papermill": {},
    "tags": []
   },
   "source": [
    "## Model"
   ]
  },
  {
   "cell_type": "markdown",
   "id": "apart-intersection",
   "metadata": {
    "papermill": {},
    "tags": []
   },
   "source": [
    "### We use CSV file\n",
    "CSV button on this link to download the file: https://www.iucnredlist.org/statistics"
   ]
  },
  {
   "cell_type": "code",
   "execution_count": null,
   "id": "fantastic-coral",
   "metadata": {
    "papermill": {},
    "tags": []
   },
   "outputs": [],
   "source": [
    "# We load the csv file (must be root)\n",
    "data = pd.read_csv('Table 3 Species by kingdom and class - show all.csv',',')\n",
    "# We set the column Name as index\n",
    "data.set_index('Name', inplace = True)\n",
    "# Then we select the columns EX, EW and Name, and all the lines we want in the graph\n",
    "table = data.loc[[\"Total\",\n",
    "                  \"GASTROPODA\",\n",
    "                  \"BIVALVIA\",\n",
    "                  \"AVES\",\n",
    "                  \"MAMMALIA\",\n",
    "                  \"ACTINOPTERYGII\",\n",
    "                  \"CEPHALASPIDOMORPHI\",\n",
    "                  \"INSECTA\",\n",
    "                  \"AMPHIBIA\",\n",
    "                  \"REPTILIA\",\n",
    "                  \"ARACHNIDA\",\n",
    "                  \"CLITELLATA\",\n",
    "                  \"DIPLOPODA\",\n",
    "                  \"ENOPLA\",\n",
    "                  \"TURBELLARIA\",\n",
    "                 \"MALACOSTRACA\",\n",
    "                 \"MAXILLOPODA\",\n",
    "                 \"OSTRACODA\"]# add species here\n",
    "                 ,\"EX\":\"EW\"]\n",
    "table"
   ]
  },
  {
   "cell_type": "code",
   "execution_count": null,
   "id": "mechanical-helen",
   "metadata": {
    "papermill": {},
    "tags": []
   },
   "outputs": [],
   "source": [
    "# We add a new column 'CATEGORY' to our Dataframe\n",
    "table[\"CATEGORY\"] = [\"Total\",\n",
    "                     \"Molluscs\",\n",
    "                     \"Molluscs\",\n",
    "                     \"Birds\",\n",
    "                     \"Mammals\",\n",
    "                     \"Fishes\",\n",
    "                     \"Fishes\",\n",
    "                     \"Insects\",\n",
    "                     \"Amphibians\",\n",
    "                     \"Reptiles\",\n",
    "                      \"Others\",\n",
    "                      \"Others\",\n",
    "                      \"Others\",\n",
    "                      \"Others\",\n",
    "                      \"Others\",\n",
    "                    \"Crustaceans\",\n",
    "                    \"Crustaceans\",\n",
    "                    \"Crustaceans\"]\n",
    "table = table.loc[:,[\"CATEGORY\",\"EX\"]] # we drop the column \"EW\"\n",
    "table\n",
    "# ---NOTE : If you want to add new species, you have to also add his category"
   ]
  },
  {
   "cell_type": "code",
   "execution_count": null,
   "id": "stock-internet",
   "metadata": {
    "papermill": {},
    "tags": []
   },
   "outputs": [],
   "source": [
    "# We groupby CATEGORIES :\n",
    "table.reset_index(drop=True, inplace=True)\n",
    "table = table.groupby(['CATEGORY']).sum().reset_index()\n",
    "table.rename(columns = {'EX':'Extincted'}, inplace=True)\n",
    "table"
   ]
  },
  {
   "cell_type": "markdown",
   "id": "unauthorized-kinase",
   "metadata": {
    "execution": {
     "iopub.execute_input": "2021-05-19T13:08:07.196366Z",
     "iopub.status.busy": "2021-05-19T13:08:07.196091Z",
     "iopub.status.idle": "2021-05-19T13:08:07.198948Z",
     "shell.execute_reply": "2021-05-19T13:08:07.198335Z",
     "shell.execute_reply.started": "2021-05-19T13:08:07.196340Z"
    },
    "papermill": {},
    "tags": []
   },
   "source": [
    "## Output"
   ]
  },
  {
   "cell_type": "markdown",
   "id": "measured-removal",
   "metadata": {
    "papermill": {},
    "tags": []
   },
   "source": [
    "### Graph"
   ]
  },
  {
   "cell_type": "code",
   "execution_count": null,
   "id": "ideal-western",
   "metadata": {
    "papermill": {},
    "tags": []
   },
   "outputs": [],
   "source": [
    "# We use plotly to show datas with an horizontal bar chart\n",
    "import plotly.express as px\n",
    "\n",
    "def print_graph():\n",
    "    Graph = table.sort_values('Extincted', ascending=False)\n",
    "    fig = px.bar(Graph, x=\"Extincted\", y=\"CATEGORY\", color=\"CATEGORY\", orientation=\"h\")\n",
    "    fig.update_layout(title_text = \"Number of species that have gone extinct since 1500\", title_x = 0.5)\n",
    "    fig.add_annotation(x=800, y=0,text=\"Source : IUCN Red List of Threatened Species<br>https://www.iucnredlist.org/statistics\",showarrow=False)\n",
    "    fig.show()\n",
    "    \n",
    "print_graph()"
   ]
  },
  {
   "cell_type": "markdown",
   "id": "sorted-australian",
   "metadata": {
    "papermill": {},
    "tags": []
   },
   "source": [
    "### Links that we found during the course "
   ]
  },
  {
   "cell_type": "markdown",
   "id": "korean-dictionary",
   "metadata": {
    "execution": {
     "iopub.execute_input": "2021-05-19T09:37:29.224195Z",
     "iopub.status.busy": "2021-05-19T09:37:29.223832Z",
     "iopub.status.idle": "2021-05-19T09:37:29.243671Z",
     "shell.execute_reply": "2021-05-19T09:37:29.242825Z",
     "shell.execute_reply.started": "2021-05-19T09:37:29.224100Z"
    },
    "papermill": {},
    "tags": []
   },
   "source": [
    "- https://donnees.banquemondiale.org/indicator/EN.MAM.THRD.NO (only 2018)"
   ]
  },
  {
   "cell_type": "markdown",
   "id": "vocational-amount",
   "metadata": {
    "papermill": {},
    "tags": []
   },
   "source": [
    "- https://www.eea.europa.eu/data-and-maps/data/european-red-lists-4/european-red-list/european-red-list-csv-files/view (old Dataset, last upload was in 2015)"
   ]
  },
  {
   "cell_type": "markdown",
   "id": "plastic-friendship",
   "metadata": {
    "papermill": {},
    "tags": []
   },
   "source": [
    "- https://www.worldwildlife.org/species/directory?page=2 (the years are not available)"
   ]
  },
  {
   "cell_type": "markdown",
   "id": "little-peripheral",
   "metadata": {
    "papermill": {},
    "tags": []
   },
   "source": [
    "- https://www.worldwildlife.org/pages/conservation-science-data-and-tools (apart from the case)"
   ]
  },
  {
   "cell_type": "markdown",
   "id": "speaking-treasurer",
   "metadata": {
    "papermill": {},
    "tags": []
   },
   "source": [
    "- https://databasin.org/datasets/68635d7c77f1475f9b6c1d1dbe0a4c4c/ (we can't use it)"
   ]
  },
  {
   "cell_type": "markdown",
   "id": "equivalent-warner",
   "metadata": {
    "papermill": {},
    "tags": []
   },
   "source": [
    "- https://gisandscience.com/2009/12/01/download-datasets-from-the-world-wildlife-funds-conservation-science-program/ (no datas about threatened species)"
   ]
  },
  {
   "cell_type": "markdown",
   "id": "willing-marine",
   "metadata": {
    "papermill": {},
    "tags": []
   },
   "source": [
    "- https://data.world/datasets/tiger (only about tigers but there are no datas usefull)"
   ]
  }
 ],
 "metadata": {
  "kernelspec": {
   "display_name": "Python 3",
   "language": "python",
   "name": "python3"
  },
  "language_info": {
   "codemirror_mode": {
    "name": "ipython",
    "version": 3
   },
   "file_extension": ".py",
   "mimetype": "text/x-python",
   "name": "python",
   "nbconvert_exporter": "python",
   "pygments_lexer": "ipython3",
   "version": "3.8.8"
  },
  "papermill": {
   "default_parameters": {},
   "environment_variables": {},
   "parameters": {},
   "version": "2.3.3"
  }
 },
 "nbformat": 4,
 "nbformat_minor": 5
}