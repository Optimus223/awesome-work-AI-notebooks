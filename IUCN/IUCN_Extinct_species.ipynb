{
 "cells": [
  {
   "cell_type": "markdown",
   "id": "strong-italian",
   "metadata": {
    "papermill": {},
    "tags": []
   },
   "source": [
    "# IUCN - Extinct species\n",
    "<a href=\"https://app.naas.ai/user-redirect/naas/downloader?url=https://raw.githubusercontent.com/jupyter-naas/awesome-notebooks/master/IUCN/IUCN_Extinct_species.ipynb\" target=\"_parent\">\n",
    "<img src=\"https://img.shields.io/badge/-Open%20in%20Naas-success?labelColor=000000&logo=data:image/svg+xml;base64,PD94bWwgdmVyc2lvbj0iMS4wIiBlbmNvZGluZz0iVVRGLTgiPz4KPHN2ZyB3aWR0aD0iMTAyNHB4IiBoZWlnaHQ9IjEwMjRweCIgdmlld0JveD0iMCAwIDEwMjQgMTAyNCIgeG1sbnM9Imh0dHA6Ly93d3cudzMub3JnLzIwMDAvc3ZnIiB4bWxuczp4bGluaz0iaHR0cDovL3d3dy53My5vcmcvMTk5OS94bGluayIgdmVyc2lvbj0iMS4xIj4KIDwhLS0gR2VuZXJhdGVkIGJ5IFBpeGVsbWF0b3IgUHJvIDIuMC41IC0tPgogPGRlZnM+CiAgPHRleHQgaWQ9InN0cmluZyIgdHJhbnNmb3JtPSJtYXRyaXgoMS4wIDAuMCAwLjAgMS4wIDIyOC4wIDU0LjUpIiBmb250LWZhbWlseT0iQ29tZm9ydGFhLVJlZ3VsYXIsIENvbWZvcnRhYSIgZm9udC1zaXplPSI4MDAiIHRleHQtZGVjb3JhdGlvbj0ibm9uZSIgZmlsbD0iI2ZmZmZmZiIgeD0iMS4xOTk5OTk5OTk5OTk5ODg2IiB5PSI3MDUuMCI+bjwvdGV4dD4KIDwvZGVmcz4KIDx1c2UgaWQ9Im4iIHhsaW5rOmhyZWY9IiNzdHJpbmciLz4KPC9zdmc+Cg==\"/>\n",
    "</a>"
   ]
  },
  {
   "cell_type": "markdown",
   "id": "artificial-lesson",
   "metadata": {
    "papermill": {},
    "tags": []
   },
   "source": [
    "Source : https://www.iucnredlist.org/statistics"
   ]
  },
  {
   "cell_type": "markdown",
   "id": "black-brief",
   "metadata": {
    "papermill": {},
    "tags": []
   },
   "source": [
    "If you want another view of the data : Link : https://ourworldindata.org/extinctions"
   ]
  },
  {
   "cell_type": "markdown",
   "id": "limiting-character",
   "metadata": {
    "execution": {
     "iopub.execute_input": "2021-05-19T13:06:44.812599Z",
     "iopub.status.busy": "2021-05-19T13:06:44.812361Z",
     "iopub.status.idle": "2021-05-19T13:06:44.815436Z",
     "shell.execute_reply": "2021-05-19T13:06:44.814755Z",
     "shell.execute_reply.started": "2021-05-19T13:06:44.812577Z"
    },
    "papermill": {},
    "tags": []
   },
   "source": [
    "## Input"
   ]
  },
  {
   "cell_type": "markdown",
   "id": "identified-score",
   "metadata": {
    "papermill": {},
    "tags": []
   },
   "source": [
    "### History\n",
    "The initial aim was to compare the number of threatened species per species over time (e.g. number of pandas per year).\n",
    "\n",
    "After a lot of research, it turns out that this kind of data is not available or it is only data from one year (2015 or 2018).\n",
    "\n",
    "Therefore, we decided to start another project: Number of threatened species per year, with details by category using data from this site : https://www.iucnredlist.org/resources/summary-statistics#Summary%20Tables\n",
    "\n",
    "So we took the pdf from this site and turned it into a csv.\n",
    "But the data was heavy and not easy to use. Moreover, we thought that this would not necessarily be viable and adaptable over time.\n",
    "\n",
    "So we decided to take another datasource on a similar subject : *Extinct Species*, from this website : https://www.iucnredlist.org/statistics"
   ]
  },
  {
   "cell_type": "markdown",
   "id": "recreational-freeze",
   "metadata": {
    "papermill": {},
    "tags": []
   },
   "source": [
    "### Test with 'read_html' \n",
    "We couldn't use it cause there's too many tabs in the page (it'll take too long)."
   ]
  },
  {
   "cell_type": "code",
   "execution_count": 3,
   "id": "awful-ceramic",
   "metadata": {
    "execution": {
     "iopub.execute_input": "2021-05-19T12:11:15.458203Z",
     "iopub.status.busy": "2021-05-19T12:11:15.457977Z",
     "iopub.status.idle": "2021-05-19T12:11:15.462821Z",
     "shell.execute_reply": "2021-05-19T12:11:15.462287Z",
     "shell.execute_reply.started": "2021-05-19T12:11:15.458180Z"
    },
    "papermill": {},
    "tags": []
   },
   "outputs": [],
   "source": [
    "import pandas as pd\n",
    "\n",
    "url = \"https://www.iucnredlist.org/statistics\"\n",
    "\n",
    "#dfs = pd.read_html(url)\n",
    "#df = dfs[0]\n",
    "\n",
    "#df"
   ]
  },
  {
   "cell_type": "markdown",
   "id": "apart-intersection",
   "metadata": {
    "papermill": {},
    "tags": []
   },
   "source": [
    "### We use CSV file\n",
    "CSV button on this link to download the file: https://www.iucnredlist.org/statistics"
   ]
  },
  {
   "cell_type": "code",
   "execution_count": 5,
   "id": "fantastic-coral",
   "metadata": {
    "execution": {
     "iopub.execute_input": "2021-05-19T12:12:00.106976Z",
     "iopub.status.busy": "2021-05-19T12:12:00.106752Z",
     "iopub.status.idle": "2021-05-19T12:12:00.131968Z",
     "shell.execute_reply": "2021-05-19T12:12:00.131450Z",
     "shell.execute_reply.started": "2021-05-19T12:12:00.106953Z"
    },
    "papermill": {},
    "tags": []
   },
   "outputs": [
    {
     "data": {
      "text/html": [
       "<div>\n",
       "<style scoped>\n",
       "    .dataframe tbody tr th:only-of-type {\n",
       "        vertical-align: middle;\n",
       "    }\n",
       "\n",
       "    .dataframe tbody tr th {\n",
       "        vertical-align: top;\n",
       "    }\n",
       "\n",
       "    .dataframe thead th {\n",
       "        text-align: right;\n",
       "    }\n",
       "</style>\n",
       "<table border=\"1\" class=\"dataframe\">\n",
       "  <thead>\n",
       "    <tr style=\"text-align: right;\">\n",
       "      <th></th>\n",
       "      <th>EX</th>\n",
       "      <th>EW</th>\n",
       "    </tr>\n",
       "    <tr>\n",
       "      <th>Name</th>\n",
       "      <th></th>\n",
       "      <th></th>\n",
       "    </tr>\n",
       "  </thead>\n",
       "  <tbody>\n",
       "    <tr>\n",
       "      <th>Total</th>\n",
       "      <td>900</td>\n",
       "      <td>79</td>\n",
       "    </tr>\n",
       "    <tr>\n",
       "      <th>GASTROPODA</th>\n",
       "      <td>267</td>\n",
       "      <td>14</td>\n",
       "    </tr>\n",
       "    <tr>\n",
       "      <th>BIVALVIA</th>\n",
       "      <td>32</td>\n",
       "      <td>0</td>\n",
       "    </tr>\n",
       "    <tr>\n",
       "      <th>AVES</th>\n",
       "      <td>159</td>\n",
       "      <td>5</td>\n",
       "    </tr>\n",
       "    <tr>\n",
       "      <th>MAMMALIA</th>\n",
       "      <td>85</td>\n",
       "      <td>2</td>\n",
       "    </tr>\n",
       "    <tr>\n",
       "      <th>ACTINOPTERYGII</th>\n",
       "      <td>79</td>\n",
       "      <td>10</td>\n",
       "    </tr>\n",
       "    <tr>\n",
       "      <th>CEPHALASPIDOMORPHI</th>\n",
       "      <td>1</td>\n",
       "      <td>0</td>\n",
       "    </tr>\n",
       "    <tr>\n",
       "      <th>INSECTA</th>\n",
       "      <td>63</td>\n",
       "      <td>1</td>\n",
       "    </tr>\n",
       "    <tr>\n",
       "      <th>AMPHIBIA</th>\n",
       "      <td>35</td>\n",
       "      <td>2</td>\n",
       "    </tr>\n",
       "    <tr>\n",
       "      <th>REPTILIA</th>\n",
       "      <td>30</td>\n",
       "      <td>2</td>\n",
       "    </tr>\n",
       "    <tr>\n",
       "      <th>ARACHNIDA</th>\n",
       "      <td>9</td>\n",
       "      <td>0</td>\n",
       "    </tr>\n",
       "    <tr>\n",
       "      <th>CLITELLATA</th>\n",
       "      <td>2</td>\n",
       "      <td>0</td>\n",
       "    </tr>\n",
       "    <tr>\n",
       "      <th>DIPLOPODA</th>\n",
       "      <td>3</td>\n",
       "      <td>0</td>\n",
       "    </tr>\n",
       "    <tr>\n",
       "      <th>ENOPLA</th>\n",
       "      <td>1</td>\n",
       "      <td>0</td>\n",
       "    </tr>\n",
       "    <tr>\n",
       "      <th>TURBELLARIA</th>\n",
       "      <td>1</td>\n",
       "      <td>0</td>\n",
       "    </tr>\n",
       "    <tr>\n",
       "      <th>MALACOSTRACA</th>\n",
       "      <td>7</td>\n",
       "      <td>1</td>\n",
       "    </tr>\n",
       "    <tr>\n",
       "      <th>MAXILLOPODA</th>\n",
       "      <td>2</td>\n",
       "      <td>0</td>\n",
       "    </tr>\n",
       "    <tr>\n",
       "      <th>OSTRACODA</th>\n",
       "      <td>2</td>\n",
       "      <td>0</td>\n",
       "    </tr>\n",
       "  </tbody>\n",
       "</table>\n",
       "</div>"
      ],
      "text/plain": [
       "                     EX  EW\n",
       "Name                       \n",
       "Total               900  79\n",
       "GASTROPODA          267  14\n",
       "BIVALVIA             32   0\n",
       "AVES                159   5\n",
       "MAMMALIA             85   2\n",
       "ACTINOPTERYGII       79  10\n",
       "CEPHALASPIDOMORPHI    1   0\n",
       "INSECTA              63   1\n",
       "AMPHIBIA             35   2\n",
       "REPTILIA             30   2\n",
       "ARACHNIDA             9   0\n",
       "CLITELLATA            2   0\n",
       "DIPLOPODA             3   0\n",
       "ENOPLA                1   0\n",
       "TURBELLARIA           1   0\n",
       "MALACOSTRACA          7   1\n",
       "MAXILLOPODA           2   0\n",
       "OSTRACODA             2   0"
      ]
     },
     "execution_count": 5,
     "metadata": {},
     "output_type": "execute_result"
    }
   ],
   "source": [
    "# We load the csv file (must be root)\n",
    "data = pd.read_csv('Table 3 Species by kingdom and class - show all.csv',',')\n",
    "# We set the column Name as index\n",
    "data.set_index('Name', inplace = True)\n",
    "# Then we select the columns EX, EW and Name, and all the lines we want in the graph\n",
    "table = data.loc[[\"Total\",\n",
    "                  \"GASTROPODA\",\n",
    "                  \"BIVALVIA\",\n",
    "                  \"AVES\",\n",
    "                  \"MAMMALIA\",\n",
    "                  \"ACTINOPTERYGII\",\n",
    "                  \"CEPHALASPIDOMORPHI\",\n",
    "                  \"INSECTA\",\n",
    "                  \"AMPHIBIA\",\n",
    "                  \"REPTILIA\",\n",
    "                  \"ARACHNIDA\",\n",
    "                  \"CLITELLATA\",\n",
    "                  \"DIPLOPODA\",\n",
    "                  \"ENOPLA\",\n",
    "                  \"TURBELLARIA\",\n",
    "                 \"MALACOSTRACA\",\n",
    "                 \"MAXILLOPODA\",\n",
    "                 \"OSTRACODA\"]# add species here\n",
    "                 ,\"EX\":\"EW\"]\n",
    "table"
   ]
  },
  {
   "cell_type": "code",
   "execution_count": 6,
   "id": "mechanical-helen",
   "metadata": {
    "execution": {
     "iopub.execute_input": "2021-05-19T12:12:02.970259Z",
     "iopub.status.busy": "2021-05-19T12:12:02.969955Z",
     "iopub.status.idle": "2021-05-19T12:12:02.992354Z",
     "shell.execute_reply": "2021-05-19T12:12:02.991392Z",
     "shell.execute_reply.started": "2021-05-19T12:12:02.970227Z"
    },
    "papermill": {},
    "tags": []
   },
   "outputs": [
    {
     "data": {
      "text/html": [
       "<div>\n",
       "<style scoped>\n",
       "    .dataframe tbody tr th:only-of-type {\n",
       "        vertical-align: middle;\n",
       "    }\n",
       "\n",
       "    .dataframe tbody tr th {\n",
       "        vertical-align: top;\n",
       "    }\n",
       "\n",
       "    .dataframe thead th {\n",
       "        text-align: right;\n",
       "    }\n",
       "</style>\n",
       "<table border=\"1\" class=\"dataframe\">\n",
       "  <thead>\n",
       "    <tr style=\"text-align: right;\">\n",
       "      <th></th>\n",
       "      <th>CATEGORY</th>\n",
       "      <th>EX</th>\n",
       "    </tr>\n",
       "    <tr>\n",
       "      <th>Name</th>\n",
       "      <th></th>\n",
       "      <th></th>\n",
       "    </tr>\n",
       "  </thead>\n",
       "  <tbody>\n",
       "    <tr>\n",
       "      <th>Total</th>\n",
       "      <td>Total</td>\n",
       "      <td>900</td>\n",
       "    </tr>\n",
       "    <tr>\n",
       "      <th>GASTROPODA</th>\n",
       "      <td>Molluscs</td>\n",
       "      <td>267</td>\n",
       "    </tr>\n",
       "    <tr>\n",
       "      <th>BIVALVIA</th>\n",
       "      <td>Molluscs</td>\n",
       "      <td>32</td>\n",
       "    </tr>\n",
       "    <tr>\n",
       "      <th>AVES</th>\n",
       "      <td>Birds</td>\n",
       "      <td>159</td>\n",
       "    </tr>\n",
       "    <tr>\n",
       "      <th>MAMMALIA</th>\n",
       "      <td>Mammals</td>\n",
       "      <td>85</td>\n",
       "    </tr>\n",
       "    <tr>\n",
       "      <th>ACTINOPTERYGII</th>\n",
       "      <td>Fishes</td>\n",
       "      <td>79</td>\n",
       "    </tr>\n",
       "    <tr>\n",
       "      <th>CEPHALASPIDOMORPHI</th>\n",
       "      <td>Fishes</td>\n",
       "      <td>1</td>\n",
       "    </tr>\n",
       "    <tr>\n",
       "      <th>INSECTA</th>\n",
       "      <td>Insects</td>\n",
       "      <td>63</td>\n",
       "    </tr>\n",
       "    <tr>\n",
       "      <th>AMPHIBIA</th>\n",
       "      <td>Amphibians</td>\n",
       "      <td>35</td>\n",
       "    </tr>\n",
       "    <tr>\n",
       "      <th>REPTILIA</th>\n",
       "      <td>Reptiles</td>\n",
       "      <td>30</td>\n",
       "    </tr>\n",
       "    <tr>\n",
       "      <th>ARACHNIDA</th>\n",
       "      <td>Others</td>\n",
       "      <td>9</td>\n",
       "    </tr>\n",
       "    <tr>\n",
       "      <th>CLITELLATA</th>\n",
       "      <td>Others</td>\n",
       "      <td>2</td>\n",
       "    </tr>\n",
       "    <tr>\n",
       "      <th>DIPLOPODA</th>\n",
       "      <td>Others</td>\n",
       "      <td>3</td>\n",
       "    </tr>\n",
       "    <tr>\n",
       "      <th>ENOPLA</th>\n",
       "      <td>Others</td>\n",
       "      <td>1</td>\n",
       "    </tr>\n",
       "    <tr>\n",
       "      <th>TURBELLARIA</th>\n",
       "      <td>Others</td>\n",
       "      <td>1</td>\n",
       "    </tr>\n",
       "    <tr>\n",
       "      <th>MALACOSTRACA</th>\n",
       "      <td>Crustaceans</td>\n",
       "      <td>7</td>\n",
       "    </tr>\n",
       "    <tr>\n",
       "      <th>MAXILLOPODA</th>\n",
       "      <td>Crustaceans</td>\n",
       "      <td>2</td>\n",
       "    </tr>\n",
       "    <tr>\n",
       "      <th>OSTRACODA</th>\n",
       "      <td>Crustaceans</td>\n",
       "      <td>2</td>\n",
       "    </tr>\n",
       "  </tbody>\n",
       "</table>\n",
       "</div>"
      ],
      "text/plain": [
       "                       CATEGORY   EX\n",
       "Name                                \n",
       "Total                     Total  900\n",
       "GASTROPODA             Molluscs  267\n",
       "BIVALVIA               Molluscs   32\n",
       "AVES                      Birds  159\n",
       "MAMMALIA                Mammals   85\n",
       "ACTINOPTERYGII           Fishes   79\n",
       "CEPHALASPIDOMORPHI       Fishes    1\n",
       "INSECTA                 Insects   63\n",
       "AMPHIBIA             Amphibians   35\n",
       "REPTILIA               Reptiles   30\n",
       "ARACHNIDA                Others    9\n",
       "CLITELLATA               Others    2\n",
       "DIPLOPODA                Others    3\n",
       "ENOPLA                   Others    1\n",
       "TURBELLARIA              Others    1\n",
       "MALACOSTRACA        Crustaceans    7\n",
       "MAXILLOPODA         Crustaceans    2\n",
       "OSTRACODA           Crustaceans    2"
      ]
     },
     "execution_count": 6,
     "metadata": {},
     "output_type": "execute_result"
    }
   ],
   "source": [
    "# We add a new column 'CATEGORY' to our Dataframe\n",
    "table[\"CATEGORY\"] = [\"Total\",\n",
    "                     \"Molluscs\",\n",
    "                     \"Molluscs\",\n",
    "                     \"Birds\",\n",
    "                     \"Mammals\",\n",
    "                     \"Fishes\",\n",
    "                     \"Fishes\",\n",
    "                     \"Insects\",\n",
    "                     \"Amphibians\",\n",
    "                     \"Reptiles\",\n",
    "                      \"Others\",\n",
    "                      \"Others\",\n",
    "                      \"Others\",\n",
    "                      \"Others\",\n",
    "                      \"Others\",\n",
    "                    \"Crustaceans\",\n",
    "                    \"Crustaceans\",\n",
    "                    \"Crustaceans\"]\n",
    "table = table.loc[:,[\"CATEGORY\",\"EX\"]] # we drop the column \"EW\"\n",
    "table\n",
    "# ---NOTE : If you want to add new species, you have to also add his category"
   ]
  },
  {
   "cell_type": "code",
   "execution_count": 7,
   "id": "stock-internet",
   "metadata": {
    "execution": {
     "iopub.execute_input": "2021-05-19T12:12:07.001860Z",
     "iopub.status.busy": "2021-05-19T12:12:07.001538Z",
     "iopub.status.idle": "2021-05-19T12:12:07.021697Z",
     "shell.execute_reply": "2021-05-19T12:12:07.021068Z",
     "shell.execute_reply.started": "2021-05-19T12:12:07.001826Z"
    },
    "papermill": {},
    "tags": []
   },
   "outputs": [
    {
     "data": {
      "text/html": [
       "<div>\n",
       "<style scoped>\n",
       "    .dataframe tbody tr th:only-of-type {\n",
       "        vertical-align: middle;\n",
       "    }\n",
       "\n",
       "    .dataframe tbody tr th {\n",
       "        vertical-align: top;\n",
       "    }\n",
       "\n",
       "    .dataframe thead th {\n",
       "        text-align: right;\n",
       "    }\n",
       "</style>\n",
       "<table border=\"1\" class=\"dataframe\">\n",
       "  <thead>\n",
       "    <tr style=\"text-align: right;\">\n",
       "      <th></th>\n",
       "      <th>CATEGORY</th>\n",
       "      <th>Extincted</th>\n",
       "    </tr>\n",
       "  </thead>\n",
       "  <tbody>\n",
       "    <tr>\n",
       "      <th>0</th>\n",
       "      <td>Amphibians</td>\n",
       "      <td>35</td>\n",
       "    </tr>\n",
       "    <tr>\n",
       "      <th>1</th>\n",
       "      <td>Birds</td>\n",
       "      <td>159</td>\n",
       "    </tr>\n",
       "    <tr>\n",
       "      <th>2</th>\n",
       "      <td>Crustaceans</td>\n",
       "      <td>11</td>\n",
       "    </tr>\n",
       "    <tr>\n",
       "      <th>3</th>\n",
       "      <td>Fishes</td>\n",
       "      <td>80</td>\n",
       "    </tr>\n",
       "    <tr>\n",
       "      <th>4</th>\n",
       "      <td>Insects</td>\n",
       "      <td>63</td>\n",
       "    </tr>\n",
       "    <tr>\n",
       "      <th>5</th>\n",
       "      <td>Mammals</td>\n",
       "      <td>85</td>\n",
       "    </tr>\n",
       "    <tr>\n",
       "      <th>6</th>\n",
       "      <td>Molluscs</td>\n",
       "      <td>299</td>\n",
       "    </tr>\n",
       "    <tr>\n",
       "      <th>7</th>\n",
       "      <td>Others</td>\n",
       "      <td>16</td>\n",
       "    </tr>\n",
       "    <tr>\n",
       "      <th>8</th>\n",
       "      <td>Reptiles</td>\n",
       "      <td>30</td>\n",
       "    </tr>\n",
       "    <tr>\n",
       "      <th>9</th>\n",
       "      <td>Total</td>\n",
       "      <td>900</td>\n",
       "    </tr>\n",
       "  </tbody>\n",
       "</table>\n",
       "</div>"
      ],
      "text/plain": [
       "      CATEGORY  Extincted\n",
       "0   Amphibians         35\n",
       "1        Birds        159\n",
       "2  Crustaceans         11\n",
       "3       Fishes         80\n",
       "4      Insects         63\n",
       "5      Mammals         85\n",
       "6     Molluscs        299\n",
       "7       Others         16\n",
       "8     Reptiles         30\n",
       "9        Total        900"
      ]
     },
     "execution_count": 7,
     "metadata": {},
     "output_type": "execute_result"
    }
   ],
   "source": [
    "# We groupby CATEGORIES :\n",
    "table.reset_index(drop=True, inplace=True)\n",
    "table = table.groupby(['CATEGORY']).sum().reset_index()\n",
    "table.rename(columns = {'EX':'Extincted'}, inplace=True)\n",
    "table"
   ]
  },
  {
   "cell_type": "markdown",
   "id": "unauthorized-kinase",
   "metadata": {
    "execution": {
     "iopub.execute_input": "2021-05-19T13:08:07.196366Z",
     "iopub.status.busy": "2021-05-19T13:08:07.196091Z",
     "iopub.status.idle": "2021-05-19T13:08:07.198948Z",
     "shell.execute_reply": "2021-05-19T13:08:07.198335Z",
     "shell.execute_reply.started": "2021-05-19T13:08:07.196340Z"
    },
    "papermill": {},
    "tags": []
   },
   "source": [
    "## Output"
   ]
  },
  {
   "cell_type": "markdown",
   "id": "measured-removal",
   "metadata": {
    "papermill": {},
    "tags": []
   },
   "source": [
    "### Graph"
   ]
  },
  {
   "cell_type": "code",
   "execution_count": 30,
   "id": "ideal-western",
   "metadata": {
    "execution": {
     "iopub.execute_input": "2021-05-19T12:58:16.446716Z",
     "iopub.status.busy": "2021-05-19T12:58:16.446485Z",
     "iopub.status.idle": "2021-05-19T12:58:16.593813Z",
     "shell.execute_reply": "2021-05-19T12:58:16.585451Z",
     "shell.execute_reply.started": "2021-05-19T12:58:16.446693Z"
    },
    "papermill": {},
    "tags": []
   },
   "outputs": [
    {
     "data": {
      "application/vnd.plotly.v1+json": {
       "config": {
        "plotlyServerURL": "https://plot.ly"
       },
       "data": [
        {
         "alignmentgroup": "True",
         "hovertemplate": "CATEGORY=%{y}<br>Extincted=%{x}<extra></extra>",
         "legendgroup": "Total",
         "marker": {
          "color": "#636efa"
         },
         "name": "Total",
         "offsetgroup": "Total",
         "orientation": "h",
         "showlegend": true,
         "textposition": "auto",
         "type": "bar",
         "visible": true,
         "x": [
          900
         ],
         "xaxis": "x",
         "y": [
          "Total"
         ],
         "yaxis": "y"
        },
        {
         "alignmentgroup": "True",
         "hovertemplate": "CATEGORY=%{y}<br>Extincted=%{x}<extra></extra>",
         "legendgroup": "Molluscs",
         "marker": {
          "color": "#EF553B"
         },
         "name": "Molluscs",
         "offsetgroup": "Molluscs",
         "orientation": "h",
         "showlegend": true,
         "textposition": "auto",
         "type": "bar",
         "x": [
          299
         ],
         "xaxis": "x",
         "y": [
          "Molluscs"
         ],
         "yaxis": "y"
        },
        {
         "alignmentgroup": "True",
         "hovertemplate": "CATEGORY=%{y}<br>Extincted=%{x}<extra></extra>",
         "legendgroup": "Birds",
         "marker": {
          "color": "#00cc96"
         },
         "name": "Birds",
         "offsetgroup": "Birds",
         "orientation": "h",
         "showlegend": true,
         "textposition": "auto",
         "type": "bar",
         "x": [
          159
         ],
         "xaxis": "x",
         "y": [
          "Birds"
         ],
         "yaxis": "y"
        },
        {
         "alignmentgroup": "True",
         "hovertemplate": "CATEGORY=%{y}<br>Extincted=%{x}<extra></extra>",
         "legendgroup": "Mammals",
         "marker": {
          "color": "#ab63fa"
         },
         "name": "Mammals",
         "offsetgroup": "Mammals",
         "orientation": "h",
         "showlegend": true,
         "textposition": "auto",
         "type": "bar",
         "x": [
          85
         ],
         "xaxis": "x",
         "y": [
          "Mammals"
         ],
         "yaxis": "y"
        },
        {
         "alignmentgroup": "True",
         "hovertemplate": "CATEGORY=%{y}<br>Extincted=%{x}<extra></extra>",
         "legendgroup": "Fishes",
         "marker": {
          "color": "#FFA15A"
         },
         "name": "Fishes",
         "offsetgroup": "Fishes",
         "orientation": "h",
         "showlegend": true,
         "textposition": "auto",
         "type": "bar",
         "x": [
          80
         ],
         "xaxis": "x",
         "y": [
          "Fishes"
         ],
         "yaxis": "y"
        },
        {
         "alignmentgroup": "True",
         "hovertemplate": "CATEGORY=%{y}<br>Extincted=%{x}<extra></extra>",
         "legendgroup": "Insects",
         "marker": {
          "color": "#19d3f3"
         },
         "name": "Insects",
         "offsetgroup": "Insects",
         "orientation": "h",
         "showlegend": true,
         "textposition": "auto",
         "type": "bar",
         "x": [
          63
         ],
         "xaxis": "x",
         "y": [
          "Insects"
         ],
         "yaxis": "y"
        },
        {
         "alignmentgroup": "True",
         "hovertemplate": "CATEGORY=%{y}<br>Extincted=%{x}<extra></extra>",
         "legendgroup": "Amphibians",
         "marker": {
          "color": "#FF6692"
         },
         "name": "Amphibians",
         "offsetgroup": "Amphibians",
         "orientation": "h",
         "showlegend": true,
         "textposition": "auto",
         "type": "bar",
         "x": [
          35
         ],
         "xaxis": "x",
         "y": [
          "Amphibians"
         ],
         "yaxis": "y"
        },
        {
         "alignmentgroup": "True",
         "hovertemplate": "CATEGORY=%{y}<br>Extincted=%{x}<extra></extra>",
         "legendgroup": "Reptiles",
         "marker": {
          "color": "#B6E880"
         },
         "name": "Reptiles",
         "offsetgroup": "Reptiles",
         "orientation": "h",
         "showlegend": true,
         "textposition": "auto",
         "type": "bar",
         "x": [
          30
         ],
         "xaxis": "x",
         "y": [
          "Reptiles"
         ],
         "yaxis": "y"
        },
        {
         "alignmentgroup": "True",
         "hovertemplate": "CATEGORY=%{y}<br>Extincted=%{x}<extra></extra>",
         "legendgroup": "Others",
         "marker": {
          "color": "#FF97FF"
         },
         "name": "Others",
         "offsetgroup": "Others",
         "orientation": "h",
         "showlegend": true,
         "textposition": "auto",
         "type": "bar",
         "x": [
          16
         ],
         "xaxis": "x",
         "y": [
          "Others"
         ],
         "yaxis": "y"
        },
        {
         "alignmentgroup": "True",
         "hovertemplate": "CATEGORY=%{y}<br>Extincted=%{x}<extra></extra>",
         "legendgroup": "Crustaceans",
         "marker": {
          "color": "#FECB52"
         },
         "name": "Crustaceans",
         "offsetgroup": "Crustaceans",
         "orientation": "h",
         "showlegend": true,
         "textposition": "auto",
         "type": "bar",
         "x": [
          11
         ],
         "xaxis": "x",
         "y": [
          "Crustaceans"
         ],
         "yaxis": "y"
        }
       ],
       "layout": {
        "annotations": [
         {
          "showarrow": false,
          "text": "Source : IUCN Red List of Threatened Species<br>https://www.iucnredlist.org/statistics",
          "x": 800,
          "y": 0
         }
        ],
        "autosize": true,
        "barmode": "relative",
        "legend": {
         "title": {
          "text": "CATEGORY"
         },
         "tracegroupgap": 0
        },
        "margin": {
         "t": 60
        },
        "template": {
         "data": {
          "bar": [
           {
            "error_x": {
             "color": "#2a3f5f"
            },
            "error_y": {
             "color": "#2a3f5f"
            },
            "marker": {
             "line": {
              "color": "#E5ECF6",
              "width": 0.5
             }
            },
            "type": "bar"
           }
          ],
          "barpolar": [
           {
            "marker": {
             "line": {
              "color": "#E5ECF6",
              "width": 0.5
             }
            },
            "type": "barpolar"
           }
          ],
          "carpet": [
           {
            "aaxis": {
             "endlinecolor": "#2a3f5f",
             "gridcolor": "white",
             "linecolor": "white",
             "minorgridcolor": "white",
             "startlinecolor": "#2a3f5f"
            },
            "baxis": {
             "endlinecolor": "#2a3f5f",
             "gridcolor": "white",
             "linecolor": "white",
             "minorgridcolor": "white",
             "startlinecolor": "#2a3f5f"
            },
            "type": "carpet"
           }
          ],
          "choropleth": [
           {
            "colorbar": {
             "outlinewidth": 0,
             "ticks": ""
            },
            "type": "choropleth"
           }
          ],
          "contour": [
           {
            "colorbar": {
             "outlinewidth": 0,
             "ticks": ""
            },
            "colorscale": [
             [
              0,
              "#0d0887"
             ],
             [
              0.1111111111111111,
              "#46039f"
             ],
             [
              0.2222222222222222,
              "#7201a8"
             ],
             [
              0.3333333333333333,
              "#9c179e"
             ],
             [
              0.4444444444444444,
              "#bd3786"
             ],
             [
              0.5555555555555556,
              "#d8576b"
             ],
             [
              0.6666666666666666,
              "#ed7953"
             ],
             [
              0.7777777777777778,
              "#fb9f3a"
             ],
             [
              0.8888888888888888,
              "#fdca26"
             ],
             [
              1,
              "#f0f921"
             ]
            ],
            "type": "contour"
           }
          ],
          "contourcarpet": [
           {
            "colorbar": {
             "outlinewidth": 0,
             "ticks": ""
            },
            "type": "contourcarpet"
           }
          ],
          "heatmap": [
           {
            "colorbar": {
             "outlinewidth": 0,
             "ticks": ""
            },
            "colorscale": [
             [
              0,
              "#0d0887"
             ],
             [
              0.1111111111111111,
              "#46039f"
             ],
             [
              0.2222222222222222,
              "#7201a8"
             ],
             [
              0.3333333333333333,
              "#9c179e"
             ],
             [
              0.4444444444444444,
              "#bd3786"
             ],
             [
              0.5555555555555556,
              "#d8576b"
             ],
             [
              0.6666666666666666,
              "#ed7953"
             ],
             [
              0.7777777777777778,
              "#fb9f3a"
             ],
             [
              0.8888888888888888,
              "#fdca26"
             ],
             [
              1,
              "#f0f921"
             ]
            ],
            "type": "heatmap"
           }
          ],
          "heatmapgl": [
           {
            "colorbar": {
             "outlinewidth": 0,
             "ticks": ""
            },
            "colorscale": [
             [
              0,
              "#0d0887"
             ],
             [
              0.1111111111111111,
              "#46039f"
             ],
             [
              0.2222222222222222,
              "#7201a8"
             ],
             [
              0.3333333333333333,
              "#9c179e"
             ],
             [
              0.4444444444444444,
              "#bd3786"
             ],
             [
              0.5555555555555556,
              "#d8576b"
             ],
             [
              0.6666666666666666,
              "#ed7953"
             ],
             [
              0.7777777777777778,
              "#fb9f3a"
             ],
             [
              0.8888888888888888,
              "#fdca26"
             ],
             [
              1,
              "#f0f921"
             ]
            ],
            "type": "heatmapgl"
           }
          ],
          "histogram": [
           {
            "marker": {
             "colorbar": {
              "outlinewidth": 0,
              "ticks": ""
             }
            },
            "type": "histogram"
           }
          ],
          "histogram2d": [
           {
            "colorbar": {
             "outlinewidth": 0,
             "ticks": ""
            },
            "colorscale": [
             [
              0,
              "#0d0887"
             ],
             [
              0.1111111111111111,
              "#46039f"
             ],
             [
              0.2222222222222222,
              "#7201a8"
             ],
             [
              0.3333333333333333,
              "#9c179e"
             ],
             [
              0.4444444444444444,
              "#bd3786"
             ],
             [
              0.5555555555555556,
              "#d8576b"
             ],
             [
              0.6666666666666666,
              "#ed7953"
             ],
             [
              0.7777777777777778,
              "#fb9f3a"
             ],
             [
              0.8888888888888888,
              "#fdca26"
             ],
             [
              1,
              "#f0f921"
             ]
            ],
            "type": "histogram2d"
           }
          ],
          "histogram2dcontour": [
           {
            "colorbar": {
             "outlinewidth": 0,
             "ticks": ""
            },
            "colorscale": [
             [
              0,
              "#0d0887"
             ],
             [
              0.1111111111111111,
              "#46039f"
             ],
             [
              0.2222222222222222,
              "#7201a8"
             ],
             [
              0.3333333333333333,
              "#9c179e"
             ],
             [
              0.4444444444444444,
              "#bd3786"
             ],
             [
              0.5555555555555556,
              "#d8576b"
             ],
             [
              0.6666666666666666,
              "#ed7953"
             ],
             [
              0.7777777777777778,
              "#fb9f3a"
             ],
             [
              0.8888888888888888,
              "#fdca26"
             ],
             [
              1,
              "#f0f921"
             ]
            ],
            "type": "histogram2dcontour"
           }
          ],
          "mesh3d": [
           {
            "colorbar": {
             "outlinewidth": 0,
             "ticks": ""
            },
            "type": "mesh3d"
           }
          ],
          "parcoords": [
           {
            "line": {
             "colorbar": {
              "outlinewidth": 0,
              "ticks": ""
             }
            },
            "type": "parcoords"
           }
          ],
          "pie": [
           {
            "automargin": true,
            "type": "pie"
           }
          ],
          "scatter": [
           {
            "marker": {
             "colorbar": {
              "outlinewidth": 0,
              "ticks": ""
             }
            },
            "type": "scatter"
           }
          ],
          "scatter3d": [
           {
            "line": {
             "colorbar": {
              "outlinewidth": 0,
              "ticks": ""
             }
            },
            "marker": {
             "colorbar": {
              "outlinewidth": 0,
              "ticks": ""
             }
            },
            "type": "scatter3d"
           }
          ],
          "scattercarpet": [
           {
            "marker": {
             "colorbar": {
              "outlinewidth": 0,
              "ticks": ""
             }
            },
            "type": "scattercarpet"
           }
          ],
          "scattergeo": [
           {
            "marker": {
             "colorbar": {
              "outlinewidth": 0,
              "ticks": ""
             }
            },
            "type": "scattergeo"
           }
          ],
          "scattergl": [
           {
            "marker": {
             "colorbar": {
              "outlinewidth": 0,
              "ticks": ""
             }
            },
            "type": "scattergl"
           }
          ],
          "scattermapbox": [
           {
            "marker": {
             "colorbar": {
              "outlinewidth": 0,
              "ticks": ""
             }
            },
            "type": "scattermapbox"
           }
          ],
          "scatterpolar": [
           {
            "marker": {
             "colorbar": {
              "outlinewidth": 0,
              "ticks": ""
             }
            },
            "type": "scatterpolar"
           }
          ],
          "scatterpolargl": [
           {
            "marker": {
             "colorbar": {
              "outlinewidth": 0,
              "ticks": ""
             }
            },
            "type": "scatterpolargl"
           }
          ],
          "scatterternary": [
           {
            "marker": {
             "colorbar": {
              "outlinewidth": 0,
              "ticks": ""
             }
            },
            "type": "scatterternary"
           }
          ],
          "surface": [
           {
            "colorbar": {
             "outlinewidth": 0,
             "ticks": ""
            },
            "colorscale": [
             [
              0,
              "#0d0887"
             ],
             [
              0.1111111111111111,
              "#46039f"
             ],
             [
              0.2222222222222222,
              "#7201a8"
             ],
             [
              0.3333333333333333,
              "#9c179e"
             ],
             [
              0.4444444444444444,
              "#bd3786"
             ],
             [
              0.5555555555555556,
              "#d8576b"
             ],
             [
              0.6666666666666666,
              "#ed7953"
             ],
             [
              0.7777777777777778,
              "#fb9f3a"
             ],
             [
              0.8888888888888888,
              "#fdca26"
             ],
             [
              1,
              "#f0f921"
             ]
            ],
            "type": "surface"
           }
          ],
          "table": [
           {
            "cells": {
             "fill": {
              "color": "#EBF0F8"
             },
             "line": {
              "color": "white"
             }
            },
            "header": {
             "fill": {
              "color": "#C8D4E3"
             },
             "line": {
              "color": "white"
             }
            },
            "type": "table"
           }
          ]
         },
         "layout": {
          "annotationdefaults": {
           "arrowcolor": "#2a3f5f",
           "arrowhead": 0,
           "arrowwidth": 1
          },
          "autotypenumbers": "strict",
          "coloraxis": {
           "colorbar": {
            "outlinewidth": 0,
            "ticks": ""
           }
          },
          "colorscale": {
           "diverging": [
            [
             0,
             "#8e0152"
            ],
            [
             0.1,
             "#c51b7d"
            ],
            [
             0.2,
             "#de77ae"
            ],
            [
             0.3,
             "#f1b6da"
            ],
            [
             0.4,
             "#fde0ef"
            ],
            [
             0.5,
             "#f7f7f7"
            ],
            [
             0.6,
             "#e6f5d0"
            ],
            [
             0.7,
             "#b8e186"
            ],
            [
             0.8,
             "#7fbc41"
            ],
            [
             0.9,
             "#4d9221"
            ],
            [
             1,
             "#276419"
            ]
           ],
           "sequential": [
            [
             0,
             "#0d0887"
            ],
            [
             0.1111111111111111,
             "#46039f"
            ],
            [
             0.2222222222222222,
             "#7201a8"
            ],
            [
             0.3333333333333333,
             "#9c179e"
            ],
            [
             0.4444444444444444,
             "#bd3786"
            ],
            [
             0.5555555555555556,
             "#d8576b"
            ],
            [
             0.6666666666666666,
             "#ed7953"
            ],
            [
             0.7777777777777778,
             "#fb9f3a"
            ],
            [
             0.8888888888888888,
             "#fdca26"
            ],
            [
             1,
             "#f0f921"
            ]
           ],
           "sequentialminus": [
            [
             0,
             "#0d0887"
            ],
            [
             0.1111111111111111,
             "#46039f"
            ],
            [
             0.2222222222222222,
             "#7201a8"
            ],
            [
             0.3333333333333333,
             "#9c179e"
            ],
            [
             0.4444444444444444,
             "#bd3786"
            ],
            [
             0.5555555555555556,
             "#d8576b"
            ],
            [
             0.6666666666666666,
             "#ed7953"
            ],
            [
             0.7777777777777778,
             "#fb9f3a"
            ],
            [
             0.8888888888888888,
             "#fdca26"
            ],
            [
             1,
             "#f0f921"
            ]
           ]
          },
          "colorway": [
           "#636efa",
           "#EF553B",
           "#00cc96",
           "#ab63fa",
           "#FFA15A",
           "#19d3f3",
           "#FF6692",
           "#B6E880",
           "#FF97FF",
           "#FECB52"
          ],
          "font": {
           "color": "#2a3f5f"
          },
          "geo": {
           "bgcolor": "white",
           "lakecolor": "white",
           "landcolor": "#E5ECF6",
           "showlakes": true,
           "showland": true,
           "subunitcolor": "white"
          },
          "hoverlabel": {
           "align": "left"
          },
          "hovermode": "closest",
          "mapbox": {
           "style": "light"
          },
          "paper_bgcolor": "white",
          "plot_bgcolor": "#E5ECF6",
          "polar": {
           "angularaxis": {
            "gridcolor": "white",
            "linecolor": "white",
            "ticks": ""
           },
           "bgcolor": "#E5ECF6",
           "radialaxis": {
            "gridcolor": "white",
            "linecolor": "white",
            "ticks": ""
           }
          },
          "scene": {
           "xaxis": {
            "backgroundcolor": "#E5ECF6",
            "gridcolor": "white",
            "gridwidth": 2,
            "linecolor": "white",
            "showbackground": true,
            "ticks": "",
            "zerolinecolor": "white"
           },
           "yaxis": {
            "backgroundcolor": "#E5ECF6",
            "gridcolor": "white",
            "gridwidth": 2,
            "linecolor": "white",
            "showbackground": true,
            "ticks": "",
            "zerolinecolor": "white"
           },
           "zaxis": {
            "backgroundcolor": "#E5ECF6",
            "gridcolor": "white",
            "gridwidth": 2,
            "linecolor": "white",
            "showbackground": true,
            "ticks": "",
            "zerolinecolor": "white"
           }
          },
          "shapedefaults": {
           "line": {
            "color": "#2a3f5f"
           }
          },
          "ternary": {
           "aaxis": {
            "gridcolor": "white",
            "linecolor": "white",
            "ticks": ""
           },
           "baxis": {
            "gridcolor": "white",
            "linecolor": "white",
            "ticks": ""
           },
           "bgcolor": "#E5ECF6",
           "caxis": {
            "gridcolor": "white",
            "linecolor": "white",
            "ticks": ""
           }
          },
          "title": {
           "x": 0.05
          },
          "xaxis": {
           "automargin": true,
           "gridcolor": "white",
           "linecolor": "white",
           "ticks": "",
           "title": {
            "standoff": 15
           },
           "zerolinecolor": "white",
           "zerolinewidth": 2
          },
          "yaxis": {
           "automargin": true,
           "gridcolor": "white",
           "linecolor": "white",
           "ticks": "",
           "title": {
            "standoff": 15
           },
           "zerolinecolor": "white",
           "zerolinewidth": 2
          }
         }
        },
        "title": {
         "text": "Number of species that have gone extinct since 1500",
         "x": 0.5
        },
        "xaxis": {
         "anchor": "y",
         "autorange": true,
         "domain": [
          0,
          1
         ],
         "range": [
          0,
          956.4245810055866
         ],
         "title": {
          "text": "Extincted"
         },
         "type": "linear"
        },
        "yaxis": {
         "anchor": "x",
         "autorange": true,
         "categoryarray": [
          "Crustaceans",
          "Others",
          "Reptiles",
          "Amphibians",
          "Insects",
          "Fishes",
          "Mammals",
          "Birds",
          "Molluscs",
          "Total"
         ],
         "categoryorder": "array",
         "domain": [
          0,
          1
         ],
         "range": [
          -0.5683760683760687,
          9.5
         ],
         "title": {
          "text": "CATEGORY"
         },
         "type": "category"
        }
       }
      },
      "image/png": "[encoded data removed]",
      "text/html": [
       "<div>                            <div id=\"ae5fd1d2-ee4c-40a7-a914-f4874613ffb7\" class=\"plotly-graph-div\" style=\"height:525px; width:100%;\"></div>            <script type=\"text/javascript\">                require([\"plotly\"], function(Plotly) {                    window.PLOTLYENV=window.PLOTLYENV || {};                                    if (document.getElementById(\"ae5fd1d2-ee4c-40a7-a914-f4874613ffb7\")) {                    Plotly.newPlot(                        \"ae5fd1d2-ee4c-40a7-a914-f4874613ffb7\",                        [{\"alignmentgroup\": \"True\", \"hovertemplate\": \"CATEGORY=%{y}<br>Extincted=%{x}<extra></extra>\", \"legendgroup\": \"Total\", \"marker\": {\"color\": \"#636efa\"}, \"name\": \"Total\", \"offsetgroup\": \"Total\", \"orientation\": \"h\", \"showlegend\": true, \"textposition\": \"auto\", \"type\": \"bar\", \"x\": [900], \"xaxis\": \"x\", \"y\": [\"Total\"], \"yaxis\": \"y\"}, {\"alignmentgroup\": \"True\", \"hovertemplate\": \"CATEGORY=%{y}<br>Extincted=%{x}<extra></extra>\", \"legendgroup\": \"Molluscs\", \"marker\": {\"color\": \"#EF553B\"}, \"name\": \"Molluscs\", \"offsetgroup\": \"Molluscs\", \"orientation\": \"h\", \"showlegend\": true, \"textposition\": \"auto\", \"type\": \"bar\", \"x\": [299], \"xaxis\": \"x\", \"y\": [\"Molluscs\"], \"yaxis\": \"y\"}, {\"alignmentgroup\": \"True\", \"hovertemplate\": \"CATEGORY=%{y}<br>Extincted=%{x}<extra></extra>\", \"legendgroup\": \"Birds\", \"marker\": {\"color\": \"#00cc96\"}, \"name\": \"Birds\", \"offsetgroup\": \"Birds\", \"orientation\": \"h\", \"showlegend\": true, \"textposition\": \"auto\", \"type\": \"bar\", \"x\": [159], \"xaxis\": \"x\", \"y\": [\"Birds\"], \"yaxis\": \"y\"}, {\"alignmentgroup\": \"True\", \"hovertemplate\": \"CATEGORY=%{y}<br>Extincted=%{x}<extra></extra>\", \"legendgroup\": \"Mammals\", \"marker\": {\"color\": \"#ab63fa\"}, \"name\": \"Mammals\", \"offsetgroup\": \"Mammals\", \"orientation\": \"h\", \"showlegend\": true, \"textposition\": \"auto\", \"type\": \"bar\", \"x\": [85], \"xaxis\": \"x\", \"y\": [\"Mammals\"], \"yaxis\": \"y\"}, {\"alignmentgroup\": \"True\", \"hovertemplate\": \"CATEGORY=%{y}<br>Extincted=%{x}<extra></extra>\", \"legendgroup\": \"Fishes\", \"marker\": {\"color\": \"#FFA15A\"}, \"name\": \"Fishes\", \"offsetgroup\": \"Fishes\", \"orientation\": \"h\", \"showlegend\": true, \"textposition\": \"auto\", \"type\": \"bar\", \"x\": [80], \"xaxis\": \"x\", \"y\": [\"Fishes\"], \"yaxis\": \"y\"}, {\"alignmentgroup\": \"True\", \"hovertemplate\": \"CATEGORY=%{y}<br>Extincted=%{x}<extra></extra>\", \"legendgroup\": \"Insects\", \"marker\": {\"color\": \"#19d3f3\"}, \"name\": \"Insects\", \"offsetgroup\": \"Insects\", \"orientation\": \"h\", \"showlegend\": true, \"textposition\": \"auto\", \"type\": \"bar\", \"x\": [63], \"xaxis\": \"x\", \"y\": [\"Insects\"], \"yaxis\": \"y\"}, {\"alignmentgroup\": \"True\", \"hovertemplate\": \"CATEGORY=%{y}<br>Extincted=%{x}<extra></extra>\", \"legendgroup\": \"Amphibians\", \"marker\": {\"color\": \"#FF6692\"}, \"name\": \"Amphibians\", \"offsetgroup\": \"Amphibians\", \"orientation\": \"h\", \"showlegend\": true, \"textposition\": \"auto\", \"type\": \"bar\", \"x\": [35], \"xaxis\": \"x\", \"y\": [\"Amphibians\"], \"yaxis\": \"y\"}, {\"alignmentgroup\": \"True\", \"hovertemplate\": \"CATEGORY=%{y}<br>Extincted=%{x}<extra></extra>\", \"legendgroup\": \"Reptiles\", \"marker\": {\"color\": \"#B6E880\"}, \"name\": \"Reptiles\", \"offsetgroup\": \"Reptiles\", \"orientation\": \"h\", \"showlegend\": true, \"textposition\": \"auto\", \"type\": \"bar\", \"x\": [30], \"xaxis\": \"x\", \"y\": [\"Reptiles\"], \"yaxis\": \"y\"}, {\"alignmentgroup\": \"True\", \"hovertemplate\": \"CATEGORY=%{y}<br>Extincted=%{x}<extra></extra>\", \"legendgroup\": \"Others\", \"marker\": {\"color\": \"#FF97FF\"}, \"name\": \"Others\", \"offsetgroup\": \"Others\", \"orientation\": \"h\", \"showlegend\": true, \"textposition\": \"auto\", \"type\": \"bar\", \"x\": [16], \"xaxis\": \"x\", \"y\": [\"Others\"], \"yaxis\": \"y\"}, {\"alignmentgroup\": \"True\", \"hovertemplate\": \"CATEGORY=%{y}<br>Extincted=%{x}<extra></extra>\", \"legendgroup\": \"Crustaceans\", \"marker\": {\"color\": \"#FECB52\"}, \"name\": \"Crustaceans\", \"offsetgroup\": \"Crustaceans\", \"orientation\": \"h\", \"showlegend\": true, \"textposition\": \"auto\", \"type\": \"bar\", \"x\": [11], \"xaxis\": \"x\", \"y\": [\"Crustaceans\"], \"yaxis\": \"y\"}],                        {\"annotations\": [{\"showarrow\": false, \"text\": \"Source : IUCN Red List of Threatened Species<br>https://www.iucnredlist.org/statistics\", \"x\": 800, \"y\": 0}], \"barmode\": \"relative\", \"legend\": {\"title\": {\"text\": \"CATEGORY\"}, \"tracegroupgap\": 0}, \"margin\": {\"t\": 60}, \"template\": {\"data\": {\"bar\": [{\"error_x\": {\"color\": \"#2a3f5f\"}, \"error_y\": {\"color\": \"#2a3f5f\"}, \"marker\": {\"line\": {\"color\": \"#E5ECF6\", \"width\": 0.5}}, \"type\": \"bar\"}], \"barpolar\": [{\"marker\": {\"line\": {\"color\": \"#E5ECF6\", \"width\": 0.5}}, \"type\": \"barpolar\"}], \"carpet\": [{\"aaxis\": {\"endlinecolor\": \"#2a3f5f\", \"gridcolor\": \"white\", \"linecolor\": \"white\", \"minorgridcolor\": \"white\", \"startlinecolor\": \"#2a3f5f\"}, \"baxis\": {\"endlinecolor\": \"#2a3f5f\", \"gridcolor\": \"white\", \"linecolor\": \"white\", \"minorgridcolor\": \"white\", \"startlinecolor\": \"#2a3f5f\"}, \"type\": \"carpet\"}], \"choropleth\": [{\"colorbar\": {\"outlinewidth\": 0, \"ticks\": \"\"}, \"type\": \"choropleth\"}], \"contour\": [{\"colorbar\": {\"outlinewidth\": 0, \"ticks\": \"\"}, \"colorscale\": [[0.0, \"#0d0887\"], [0.1111111111111111, \"#46039f\"], [0.2222222222222222, \"#7201a8\"], [0.3333333333333333, \"#9c179e\"], [0.4444444444444444, \"#bd3786\"], [0.5555555555555556, \"#d8576b\"], [0.6666666666666666, \"#ed7953\"], [0.7777777777777778, \"#fb9f3a\"], [0.8888888888888888, \"#fdca26\"], [1.0, \"#f0f921\"]], \"type\": \"contour\"}], \"contourcarpet\": [{\"colorbar\": {\"outlinewidth\": 0, \"ticks\": \"\"}, \"type\": \"contourcarpet\"}], \"heatmap\": [{\"colorbar\": {\"outlinewidth\": 0, \"ticks\": \"\"}, \"colorscale\": [[0.0, \"#0d0887\"], [0.1111111111111111, \"#46039f\"], [0.2222222222222222, \"#7201a8\"], [0.3333333333333333, \"#9c179e\"], [0.4444444444444444, \"#bd3786\"], [0.5555555555555556, \"#d8576b\"], [0.6666666666666666, \"#ed7953\"], [0.7777777777777778, \"#fb9f3a\"], [0.8888888888888888, \"#fdca26\"], [1.0, \"#f0f921\"]], \"type\": \"heatmap\"}], \"heatmapgl\": [{\"colorbar\": {\"outlinewidth\": 0, \"ticks\": \"\"}, \"colorscale\": [[0.0, \"#0d0887\"], [0.1111111111111111, \"#46039f\"], [0.2222222222222222, \"#7201a8\"], [0.3333333333333333, \"#9c179e\"], [0.4444444444444444, \"#bd3786\"], [0.5555555555555556, \"#d8576b\"], [0.6666666666666666, \"#ed7953\"], [0.7777777777777778, \"#fb9f3a\"], [0.8888888888888888, \"#fdca26\"], [1.0, \"#f0f921\"]], \"type\": \"heatmapgl\"}], \"histogram\": [{\"marker\": {\"colorbar\": {\"outlinewidth\": 0, \"ticks\": \"\"}}, \"type\": \"histogram\"}], \"histogram2d\": [{\"colorbar\": {\"outlinewidth\": 0, \"ticks\": \"\"}, \"colorscale\": [[0.0, \"#0d0887\"], [0.1111111111111111, \"#46039f\"], [0.2222222222222222, \"#7201a8\"], [0.3333333333333333, \"#9c179e\"], [0.4444444444444444, \"#bd3786\"], [0.5555555555555556, \"#d8576b\"], [0.6666666666666666, \"#ed7953\"], [0.7777777777777778, \"#fb9f3a\"], [0.8888888888888888, \"#fdca26\"], [1.0, \"#f0f921\"]], \"type\": \"histogram2d\"}], \"histogram2dcontour\": [{\"colorbar\": {\"outlinewidth\": 0, \"ticks\": \"\"}, \"colorscale\": [[0.0, \"#0d0887\"], [0.1111111111111111, \"#46039f\"], [0.2222222222222222, \"#7201a8\"], [0.3333333333333333, \"#9c179e\"], [0.4444444444444444, \"#bd3786\"], [0.5555555555555556, \"#d8576b\"], [0.6666666666666666, \"#ed7953\"], [0.7777777777777778, \"#fb9f3a\"], [0.8888888888888888, \"#fdca26\"], [1.0, \"#f0f921\"]], \"type\": \"histogram2dcontour\"}], \"mesh3d\": [{\"colorbar\": {\"outlinewidth\": 0, \"ticks\": \"\"}, \"type\": \"mesh3d\"}], \"parcoords\": [{\"line\": {\"colorbar\": {\"outlinewidth\": 0, \"ticks\": \"\"}}, \"type\": \"parcoords\"}], \"pie\": [{\"automargin\": true, \"type\": \"pie\"}], \"scatter\": [{\"marker\": {\"colorbar\": {\"outlinewidth\": 0, \"ticks\": \"\"}}, \"type\": \"scatter\"}], \"scatter3d\": [{\"line\": {\"colorbar\": {\"outlinewidth\": 0, \"ticks\": \"\"}}, \"marker\": {\"colorbar\": {\"outlinewidth\": 0, \"ticks\": \"\"}}, \"type\": \"scatter3d\"}], \"scattercarpet\": [{\"marker\": {\"colorbar\": {\"outlinewidth\": 0, \"ticks\": \"\"}}, \"type\": \"scattercarpet\"}], \"scattergeo\": [{\"marker\": {\"colorbar\": {\"outlinewidth\": 0, \"ticks\": \"\"}}, \"type\": \"scattergeo\"}], \"scattergl\": [{\"marker\": {\"colorbar\": {\"outlinewidth\": 0, \"ticks\": \"\"}}, \"type\": \"scattergl\"}], \"scattermapbox\": [{\"marker\": {\"colorbar\": {\"outlinewidth\": 0, \"ticks\": \"\"}}, \"type\": \"scattermapbox\"}], \"scatterpolar\": [{\"marker\": {\"colorbar\": {\"outlinewidth\": 0, \"ticks\": \"\"}}, \"type\": \"scatterpolar\"}], \"scatterpolargl\": [{\"marker\": {\"colorbar\": {\"outlinewidth\": 0, \"ticks\": \"\"}}, \"type\": \"scatterpolargl\"}], \"scatterternary\": [{\"marker\": {\"colorbar\": {\"outlinewidth\": 0, \"ticks\": \"\"}}, \"type\": \"scatterternary\"}], \"surface\": [{\"colorbar\": {\"outlinewidth\": 0, \"ticks\": \"\"}, \"colorscale\": [[0.0, \"#0d0887\"], [0.1111111111111111, \"#46039f\"], [0.2222222222222222, \"#7201a8\"], [0.3333333333333333, \"#9c179e\"], [0.4444444444444444, \"#bd3786\"], [0.5555555555555556, \"#d8576b\"], [0.6666666666666666, \"#ed7953\"], [0.7777777777777778, \"#fb9f3a\"], [0.8888888888888888, \"#fdca26\"], [1.0, \"#f0f921\"]], \"type\": \"surface\"}], \"table\": [{\"cells\": {\"fill\": {\"color\": \"#EBF0F8\"}, \"line\": {\"color\": \"white\"}}, \"header\": {\"fill\": {\"color\": \"#C8D4E3\"}, \"line\": {\"color\": \"white\"}}, \"type\": \"table\"}]}, \"layout\": {\"annotationdefaults\": {\"arrowcolor\": \"#2a3f5f\", \"arrowhead\": 0, \"arrowwidth\": 1}, \"autotypenumbers\": \"strict\", \"coloraxis\": {\"colorbar\": {\"outlinewidth\": 0, \"ticks\": \"\"}}, \"colorscale\": {\"diverging\": [[0, \"#8e0152\"], [0.1, \"#c51b7d\"], [0.2, \"#de77ae\"], [0.3, \"#f1b6da\"], [0.4, \"#fde0ef\"], [0.5, \"#f7f7f7\"], [0.6, \"#e6f5d0\"], [0.7, \"#b8e186\"], [0.8, \"#7fbc41\"], [0.9, \"#4d9221\"], [1, \"#276419\"]], \"sequential\": [[0.0, \"#0d0887\"], [0.1111111111111111, \"#46039f\"], [0.2222222222222222, \"#7201a8\"], [0.3333333333333333, \"#9c179e\"], [0.4444444444444444, \"#bd3786\"], [0.5555555555555556, \"#d8576b\"], [0.6666666666666666, \"#ed7953\"], [0.7777777777777778, \"#fb9f3a\"], [0.8888888888888888, \"#fdca26\"], [1.0, \"#f0f921\"]], \"sequentialminus\": [[0.0, \"#0d0887\"], [0.1111111111111111, \"#46039f\"], [0.2222222222222222, \"#7201a8\"], [0.3333333333333333, \"#9c179e\"], [0.4444444444444444, \"#bd3786\"], [0.5555555555555556, \"#d8576b\"], [0.6666666666666666, \"#ed7953\"], [0.7777777777777778, \"#fb9f3a\"], [0.8888888888888888, \"#fdca26\"], [1.0, \"#f0f921\"]]}, \"colorway\": [\"#636efa\", \"#EF553B\", \"#00cc96\", \"#ab63fa\", \"#FFA15A\", \"#19d3f3\", \"#FF6692\", \"#B6E880\", \"#FF97FF\", \"#FECB52\"], \"font\": {\"color\": \"#2a3f5f\"}, \"geo\": {\"bgcolor\": \"white\", \"lakecolor\": \"white\", \"landcolor\": \"#E5ECF6\", \"showlakes\": true, \"showland\": true, \"subunitcolor\": \"white\"}, \"hoverlabel\": {\"align\": \"left\"}, \"hovermode\": \"closest\", \"mapbox\": {\"style\": \"light\"}, \"paper_bgcolor\": \"white\", \"plot_bgcolor\": \"#E5ECF6\", \"polar\": {\"angularaxis\": {\"gridcolor\": \"white\", \"linecolor\": \"white\", \"ticks\": \"\"}, \"bgcolor\": \"#E5ECF6\", \"radialaxis\": {\"gridcolor\": \"white\", \"linecolor\": \"white\", \"ticks\": \"\"}}, \"scene\": {\"xaxis\": {\"backgroundcolor\": \"#E5ECF6\", \"gridcolor\": \"white\", \"gridwidth\": 2, \"linecolor\": \"white\", \"showbackground\": true, \"ticks\": \"\", \"zerolinecolor\": \"white\"}, \"yaxis\": {\"backgroundcolor\": \"#E5ECF6\", \"gridcolor\": \"white\", \"gridwidth\": 2, \"linecolor\": \"white\", \"showbackground\": true, \"ticks\": \"\", \"zerolinecolor\": \"white\"}, \"zaxis\": {\"backgroundcolor\": \"#E5ECF6\", \"gridcolor\": \"white\", \"gridwidth\": 2, \"linecolor\": \"white\", \"showbackground\": true, \"ticks\": \"\", \"zerolinecolor\": \"white\"}}, \"shapedefaults\": {\"line\": {\"color\": \"#2a3f5f\"}}, \"ternary\": {\"aaxis\": {\"gridcolor\": \"white\", \"linecolor\": \"white\", \"ticks\": \"\"}, \"baxis\": {\"gridcolor\": \"white\", \"linecolor\": \"white\", \"ticks\": \"\"}, \"bgcolor\": \"#E5ECF6\", \"caxis\": {\"gridcolor\": \"white\", \"linecolor\": \"white\", \"ticks\": \"\"}}, \"title\": {\"x\": 0.05}, \"xaxis\": {\"automargin\": true, \"gridcolor\": \"white\", \"linecolor\": \"white\", \"ticks\": \"\", \"title\": {\"standoff\": 15}, \"zerolinecolor\": \"white\", \"zerolinewidth\": 2}, \"yaxis\": {\"automargin\": true, \"gridcolor\": \"white\", \"linecolor\": \"white\", \"ticks\": \"\", \"title\": {\"standoff\": 15}, \"zerolinecolor\": \"white\", \"zerolinewidth\": 2}}}, \"title\": {\"text\": \"Number of species that have gone extinct since 1500\", \"x\": 0.5}, \"xaxis\": {\"anchor\": \"y\", \"domain\": [0.0, 1.0], \"title\": {\"text\": \"Extincted\"}}, \"yaxis\": {\"anchor\": \"x\", \"categoryarray\": [\"Crustaceans\", \"Others\", \"Reptiles\", \"Amphibians\", \"Insects\", \"Fishes\", \"Mammals\", \"Birds\", \"Molluscs\", \"Total\"], \"categoryorder\": \"array\", \"domain\": [0.0, 1.0], \"title\": {\"text\": \"CATEGORY\"}}},                        {\"responsive\": true}                    ).then(function(){\n",
       "                            \n",
       "var gd = document.getElementById('ae5fd1d2-ee4c-40a7-a914-f4874613ffb7');\n",
       "var x = new MutationObserver(function (mutations, observer) {{\n",
       "        var display = window.getComputedStyle(gd).display;\n",
       "        if (!display || display === 'none') {{\n",
       "            console.log([gd, 'removed!']);\n",
       "            Plotly.purge(gd);\n",
       "            observer.disconnect();\n",
       "        }}\n",
       "}});\n",
       "\n",
       "// Listen for the removal of the full notebook cells\n",
       "var notebookContainer = gd.closest('#notebook-container');\n",
       "if (notebookContainer) {{\n",
       "    x.observe(notebookContainer, {childList: true});\n",
       "}}\n",
       "\n",
       "// Listen for the clearing of the current output cell\n",
       "var outputEl = gd.closest('.output');\n",
       "if (outputEl) {{\n",
       "    x.observe(outputEl, {childList: true});\n",
       "}}\n",
       "\n",
       "                        })                };                });            </script>        </div>"
      ]
     },
     "metadata": {},
     "output_type": "display_data"
    }
   ],
   "source": [
    "# We use plotly to show datas with an horizontal bar chart\n",
    "import plotly.express as px\n",
    "\n",
    "def print_graph():\n",
    "    Graph = table.sort_values('Extincted', ascending=False)\n",
    "    fig = px.bar(Graph, x=\"Extincted\", y=\"CATEGORY\", color=\"CATEGORY\", orientation=\"h\")\n",
    "    fig.update_layout(title_text = \"Number of species that have gone extinct since 1500\", title_x = 0.5)\n",
    "    fig.add_annotation(x=800, y=0,text=\"Source : IUCN Red List of Threatened Species<br>https://www.iucnredlist.org/statistics\",showarrow=False)\n",
    "    fig.show()\n",
    "    \n",
    "print_graph()"
   ]
  },
  {
   "cell_type": "markdown",
   "id": "sorted-australian",
   "metadata": {
    "papermill": {},
    "tags": []
   },
   "source": [
    "### Links that we found during the course "
   ]
  },
  {
   "cell_type": "markdown",
   "id": "korean-dictionary",
   "metadata": {
    "execution": {
     "iopub.execute_input": "2021-05-19T09:37:29.224195Z",
     "iopub.status.busy": "2021-05-19T09:37:29.223832Z",
     "iopub.status.idle": "2021-05-19T09:37:29.243671Z",
     "shell.execute_reply": "2021-05-19T09:37:29.242825Z",
     "shell.execute_reply.started": "2021-05-19T09:37:29.224100Z"
    },
    "papermill": {},
    "tags": []
   },
   "source": [
    "- https://donnees.banquemondiale.org/indicator/EN.MAM.THRD.NO (only 2018)"
   ]
  },
  {
   "cell_type": "markdown",
   "id": "vocational-amount",
   "metadata": {
    "papermill": {},
    "tags": []
   },
   "source": [
    "- https://www.eea.europa.eu/data-and-maps/data/european-red-lists-4/european-red-list/european-red-list-csv-files/view (old Dataset, last upload was in 2015)"
   ]
  },
  {
   "cell_type": "markdown",
   "id": "plastic-friendship",
   "metadata": {
    "papermill": {},
    "tags": []
   },
   "source": [
    "- https://www.worldwildlife.org/species/directory?page=2 (the years are not available)"
   ]
  },
  {
   "cell_type": "markdown",
   "id": "little-peripheral",
   "metadata": {
    "papermill": {},
    "tags": []
   },
   "source": [
    "- https://www.worldwildlife.org/pages/conservation-science-data-and-tools (apart from the case)"
   ]
  },
  {
   "cell_type": "markdown",
   "id": "speaking-treasurer",
   "metadata": {
    "papermill": {},
    "tags": []
   },
   "source": [
    "- https://databasin.org/datasets/68635d7c77f1475f9b6c1d1dbe0a4c4c/ (we can't use it)"
   ]
  },
  {
   "cell_type": "markdown",
   "id": "equivalent-warner",
   "metadata": {
    "papermill": {},
    "tags": []
   },
   "source": [
    "- https://gisandscience.com/2009/12/01/download-datasets-from-the-world-wildlife-funds-conservation-science-program/ (no datas about threatened species)"
   ]
  },
  {
   "cell_type": "markdown",
   "id": "willing-marine",
   "metadata": {
    "papermill": {},
    "tags": []
   },
   "source": [
    "- https://data.world/datasets/tiger (only about tigers but there are no datas usefull)"
   ]
  },
  {
   "cell_type": "code",
   "execution_count": null,
   "id": "monthly-assembly",
   "metadata": {
    "papermill": {},
    "tags": []
   },
   "outputs": [],
   "source": []
  }
 ],
 "metadata": {
  "kernelspec": {
   "display_name": "Python 3",
   "language": "python",
   "name": "python3"
  },
  "language_info": {
   "codemirror_mode": {
    "name": "ipython",
    "version": 3
   },
   "file_extension": ".py",
   "mimetype": "text/x-python",
   "name": "python",
   "nbconvert_exporter": "python",
   "pygments_lexer": "ipython3",
   "version": "3.8.8"
  },
  "papermill": {
   "default_parameters": {},
   "environment_variables": {},
   "parameters": {},
   "version": "2.3.3"
  }
 },
 "nbformat": 4,
 "nbformat_minor": 5
}