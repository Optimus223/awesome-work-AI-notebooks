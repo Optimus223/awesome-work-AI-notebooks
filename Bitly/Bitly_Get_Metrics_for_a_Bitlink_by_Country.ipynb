{
 "cells": [
  {
   "cell_type": "markdown",
   "id": "fc9ecf0b-59b9-4793-b5cb-6eb9ca39837c",
   "metadata": {
    "papermill": {},
    "tags": []
   },
   "source": [
    "<img width=\"10%\" alt=\"Naas\" src=\"https://landen.imgix.net/jtci2pxwjczr/assets/5ice39g4.png?w=160\"/>"
   ]
  },
  {
   "cell_type": "markdown",
   "id": "742c3f67-661f-4c70-82d1-c2cd48f738c7",
   "metadata": {
    "papermill": {},
    "tags": []
   },
   "source": [
    "# Bitly - Get Metrics for a Bitlink by Country"
   ]
  },
  {
   "cell_type": "markdown",
   "id": "40e0ad94-60e5-4f02-96cf-4ea04ada28f1",
   "metadata": {
    "papermill": {},
    "tags": []
   },
   "source": [
    "**Tags:** #bitly #api #metrics #bitlink #country #reference"
   ]
  },
  {
   "cell_type": "markdown",
   "id": "d2e59063-934a-4685-a912-29a404d367e9",
   "metadata": {
    "papermill": {},
    "tags": []
   },
   "source": [
    "**Author:** [Florent Ravenel](https://www.linkedin.com/in/florent-ravenel/)"
   ]
  },
  {
   "cell_type": "markdown",
   "id": "879b5522-2ff4-4d12-b10e-0996a6fe1ff2",
   "metadata": {
    "papermill": {},
    "tags": []
   },
   "source": [
    "**Description:** This notebook will demonstrate how to use the Bitly API to get metrics for a Bitlink by Country."
   ]
  },
  {
   "cell_type": "markdown",
   "id": "51f2b1d1-6a9c-480e-b649-f88e04a524fd",
   "metadata": {
    "papermill": {},
    "tags": []
   },
   "source": [
    "**References:**\n",
    "- [Bitly API Reference](https://dev.bitly.com/api-reference/#getMetricsForBitlinkByCountries)\n",
    "- [Bitly Authentication](https://dev.bitly.com/authentication.html)"
   ]
  },
  {
   "cell_type": "markdown",
   "id": "54779250-8d3e-4fdb-af47-e23365767998",
   "metadata": {
    "papermill": {},
    "tags": []
   },
   "source": [
    "## Input"
   ]
  },
  {
   "cell_type": "markdown",
   "id": "0539077d-52e7-4ef2-ae2a-71332134e164",
   "metadata": {
    "papermill": {},
    "tags": []
   },
   "source": [
    "### Import libraries"
   ]
  },
  {
   "cell_type": "code",
   "execution_count": null,
   "id": "ad2305e2-61b2-471b-9ffb-f18feb9fbfbe",
   "metadata": {
    "papermill": {},
    "tags": []
   },
   "outputs": [],
   "source": [
    "import requests\n",
    "import naas\n",
    "import json"
   ]
  },
  {
   "cell_type": "markdown",
   "id": "921c9171-fd42-4479-a247-60ead18c5f48",
   "metadata": {
    "papermill": {},
    "tags": []
   },
   "source": [
    "### Setup Variables\n",
    "- **access_token**: [Generate an access token](https://dev.bitly.com/authentication.html)\n",
    "- **bitlink**: The Bitlink for which you want to get metrics"
   ]
  },
  {
   "cell_type": "code",
   "execution_count": null,
   "id": "72bc86f7-f3fa-41c1-93d3-d1815d82f518",
   "metadata": {
    "papermill": {},
    "tags": []
   },
   "outputs": [],
   "source": [
    "access_token = naas.secret.get(\"BITLY_TOKEN\") or \"<YOUR_TOKEN>\"\n",
    "bitlink = \"bit.ly/3lU6hRt\""
   ]
  },
  {
   "cell_type": "markdown",
   "id": "74c7e81f-f3ec-4adb-925a-884a1d6ff0e1",
   "metadata": {
    "papermill": {},
    "tags": []
   },
   "source": [
    "## Model"
   ]
  },
  {
   "cell_type": "markdown",
   "id": "f78ddf67-4e3f-4c2c-a0b9-b3506f57a295",
   "metadata": {
    "papermill": {},
    "tags": []
   },
   "source": [
    "### Get Metrics for a Bitlink by Country"
   ]
  },
  {
   "cell_type": "markdown",
   "id": "753fb196-3a3f-487b-8f90-751a85740734",
   "metadata": {
    "papermill": {},
    "tags": []
   },
   "source": [
    "This function will use the Bitly API to get metrics for a Bitlink by Country."
   ]
  },
  {
   "cell_type": "code",
   "execution_count": null,
   "id": "d77bd63a-fcce-4c96-9c60-111c70796b0d",
   "metadata": {
    "papermill": {},
    "tags": []
   },
   "outputs": [],
   "source": [
    "def get_metrics_by_country(access_token, bitlink):\n",
    "    url = f\"https://api-ssl.bitly.com/v4/bitlinks/{bitlink}/countries\"\n",
    "    headers = {\"Authorization\": f\"Bearer {access_token}\"}\n",
    "    response = requests.get(url, headers=headers)\n",
    "    if response.status_code == 200:\n",
    "        return json.loads(response.content)\n",
    "    else:\n",
    "        return None"
   ]
  },
  {
   "cell_type": "markdown",
   "id": "8a473593-980a-4f42-a3b3-a2380c22e681",
   "metadata": {
    "papermill": {},
    "tags": []
   },
   "source": [
    "## Output"
   ]
  },
  {
   "cell_type": "markdown",
   "id": "d4498312-7691-445a-a4cb-84afd4c7b15b",
   "metadata": {
    "papermill": {},
    "tags": []
   },
   "source": [
    "### Display result"
   ]
  },
  {
   "cell_type": "code",
   "execution_count": null,
   "id": "22effd68-8e9a-4890-a967-c8801ac8a2ba",
   "metadata": {
    "papermill": {},
    "tags": []
   },
   "outputs": [],
   "source": [
    "metrics_by_country = get_metrics_by_country(access_token, bitlink)\n",
    "if metrics_by_country:\n",
    "    print(json.dumps(metrics_by_country, indent=4))\n",
    "else:\n",
    "    print(\"An error occurred.\")"
   ]
  },
  {
   "cell_type": "markdown",
   "id": "cc44460d-cb44-4dae-be70-c80aa49be1da",
   "metadata": {
    "papermill": {},
    "tags": []
   },
   "source": [
    " "
   ]
  }
 ],
 "metadata": {
  "kernelspec": {
   "display_name": "Python 3",
   "language": "python",
   "name": "python3"
  },
  "language_info": {
   "codemirror_mode": {
    "name": "ipython",
    "version": 3
   },
   "file_extension": ".py",
   "mimetype": "text/x-python",
   "name": "python",
   "nbconvert_exporter": "python",
   "pygments_lexer": "ipython3",
   "version": "3.9.6"
  },
  "widgets": {
   "application/vnd.jupyter.widget-state+json": {
    "state": {},
    "version_major": 2,
    "version_minor": 0
   }
  }
 },
 "nbformat": 4,
 "nbformat_minor": 5
}
