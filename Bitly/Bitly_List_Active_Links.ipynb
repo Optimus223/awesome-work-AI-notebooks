{
 "cells": [
  {
   "cell_type": "markdown",
   "id": "74b343a4-76c8-4d73-9532-c42a782c7835",
   "metadata": {
    "papermill": {},
    "tags": [
     "logo"
    ]
   },
   "outputs": [],
   "source": [
    "<img width=\"10%\" alt=\"Naas\" src=\"https://landen.imgix.net/jtci2pxwjczr/assets/5ice39g4.png?w=160\"/>"
   ]
  },
  {
   "cell_type": "markdown",
   "id": "22b10b48-b084-4ae0-ab7d-8e22e1ef5218",
   "metadata": {
    "papermill": {},
    "tags": [
     ""
    ]
   },
   "outputs": [],
   "source": [
    "# Bitly - List Active Links"
   ]
  },
  {
   "cell_type": "markdown",
   "id": "00b52ae2-1bbd-4849-91a6-c51f594ba515",
   "metadata": {
    "papermill": {},
    "tags": [
     ""
    ]
   },
   "outputs": [],
   "source": [
    "**Tags:** #bitly #api #list #active #links #python"
   ]
  },
  {
   "cell_type": "markdown",
   "id": "0d23d58c-4fa9-4e39-b323-55ee676d59ff",
   "metadata": {
    "papermill": {},
    "tags": [
     ""
    ]
   },
   "outputs": [],
   "source": [
    "**Author:** [Florent Ravenel](https://www.linkedin.com/in/florent-ravenel/)"
   ]
  },
  {
   "cell_type": "markdown",
   "id": "4861042f-45e3-43a5-85c8-98150a21973e",
   "metadata": {
    "papermill": {},
    "tags": [
     ""
    ]
   },
   "outputs": [],
   "source": [
    "**Description:** This notebook will show how to list active links using the Bitly API."
   ]
  },
  {
   "cell_type": "markdown",
   "id": "5b326f51-e352-4f25-a760-b1d8a1f9596f",
   "metadata": {
    "papermill": {},
    "tags": [
     ""
    ]
   },
   "outputs": [],
   "source": [
    "<u>References:</u>\n",
    "- [Bitly API Documentation](https://dev.bitly.com/v4_documentation.html)\n",
    "- [Bitly API Quickstart](https://dev.bitly.com/v4/#section/Quick-Start)"
   ]
  },
  {
   "cell_type": "markdown",
   "id": "0ab19f57-23ad-472e-8668-a429bb7a7829",
   "metadata": {
    "papermill": {},
    "tags": [
     ""
    ]
   },
   "outputs": [],
   "source": [
    "## Input"
   ]
  },
  {
   "cell_type": "markdown",
   "id": "f781833d-b9e9-473a-bdc0-46e14610a358",
   "metadata": {
    "papermill": {},
    "tags": [
     ""
    ]
   },
   "outputs": [],
   "source": [
    "### Import libraries"
   ]
  },
  {
   "cell_type": "code",
   "id": "631ede48-1289-409f-9cb2-0ac2ccee3d3e",
   "metadata": {
    "papermill": {},
    "tags": [
     ""
    ]
   },
   "outputs": [],
   "source": [
    "import requests\n",
    "import json"
   ]
  },
  {
   "cell_type": "markdown",
   "id": "cb406be0-e131-47df-834c-0e736f8b0c30",
   "metadata": {
    "papermill": {},
    "tags": [
     ""
    ]
   },
   "outputs": [],
   "source": [
    "### Setup Variables\n",
    "- **token**: [Generate a Bitly Access Token](https://dev.bitly.com/v4/#section/Authentication)"
   ]
  },
  {
   "cell_type": "code",
   "id": "5686a46b-7aeb-4790-9139-5c1d85c245a2",
   "metadata": {
    "papermill": {},
    "tags": [
     ""
    ]
   },
   "outputs": [],
   "source": [
    "token = \"<YOUR_TOKEN_HERE>\""
   ]
  },
  {
   "cell_type": "markdown",
   "id": "511ef911-bbfa-4e9f-ba89-1d2dcbc520d6",
   "metadata": {
    "papermill": {},
    "tags": [
     ""
    ]
   },
   "outputs": [],
   "source": [
    "## Model"
   ]
  },
  {
   "cell_type": "markdown",
   "id": "bc28bec7-1b6d-49af-8bf7-e04cb36d8077",
   "metadata": {
    "papermill": {},
    "tags": [
     ""
    ]
   },
   "outputs": [],
   "source": [
    "### List active links"
   ]
  },
  {
   "cell_type": "markdown",
   "id": "57d4f7b7-785a-4c63-a02f-a6bb15f1af9a",
   "metadata": {
    "papermill": {},
    "tags": [
     ""
    ]
   },
   "outputs": [],
   "source": [
    "This function will list all active links associated with the Bitly account."
   ]
  },
  {
   "cell_type": "code",
   "id": "dbf6d547-af09-4bc1-92d9-7b21c02570f6",
   "metadata": {
    "papermill": {},
    "tags": [
     ""
    ]
   },
   "outputs": [],
   "source": [
    "def list_active_links(token):\n",
    "    headers = {\"Authorization\": \"Bearer \" + token}\n",
    "    params = {\"size\": 100}\n",
    "    response = requests.get(\n",
    "        \"https://api-ssl.bitly.com/v4/user/active_links\", headers=headers, params=params\n",
    "    )\n",
    "    response.raise_for_status()\n",
    "    return response.json()"
   ]
  },
  {
   "cell_type": "markdown",
   "id": "ffc668c7-6622-42e3-8735-f93ddb02da04",
   "metadata": {
    "papermill": {},
    "tags": [
     ""
    ]
   },
   "outputs": [],
   "source": [
    "## Output"
   ]
  },
  {
   "cell_type": "markdown",
   "id": "6388fed4-09a2-4d32-8d1f-744a16b33c62",
   "metadata": {
    "papermill": {},
    "tags": [
     ""
    ]
   },
   "outputs": [],
   "source": [
    "### Display result"
   ]
  },
  {
   "cell_type": "code",
   "id": "cfabb348-7499-41ce-914f-958660df8f28",
   "metadata": {
    "papermill": {},
    "tags": [
     ""
    ]
   },
   "outputs": [],
   "source": [
    "active_links = list_active_links(token)\n",
    "print(json.dumps(active_links, indent=4))"
   ]
  },
  {
   "cell_type": "markdown",
   "id": "cccd9a2d-cfef-485d-8be7-4e1e3c89d3a5",
   "metadata": {
    "papermill": {},
    "tags": [
     ""
    ]
   },
   "outputs": [],
   "source": [
    " "
   ]
  }
 ],
 "metadata": {
  "kernelspec": {
   "display_name": "Python 3",
   "language": "python",
   "name": "python3"
  },
  "language_info": {
   "codemirror_mode": {
    "name": "ipython",
    "version": 3
   },
   "file_extension": ".py",
   "mimetype": "text/x-python",
   "name": "python",
   "nbconvert_exporter": "python",
   "pygments_lexer": "ipython3",
   "version": "3.8.8"
  },
  "widgets": {
   "application/vnd.jupyter.widget-state+json": {
    "state": {},
    "version_major": 2,
    "version_minor": 0
   }
  }
 },
 "nbformat": 4,
 "nbformat_minor": 5
}