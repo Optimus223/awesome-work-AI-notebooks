{
 "cells": [
  {
   "cell_type": "markdown",
   "id": "d1cdbc70-0da8-4a85-b268-b0af5fce9edc",
   "metadata": {
    "papermill": {},
    "tags": [
     ""
    ]
   },
   "source": [
    "<img width=\"10%\" alt=\"Naas\" src=\"https://landen.imgix.net/jtci2pxwjczr/assets/5ice39g4.png?w=160\"/>"
   ]
  },
  {
   "cell_type": "markdown",
   "id": "a60a3295-e502-4cc7-b2ee-6deb20ecb97b",
   "metadata": {
    "papermill": {},
    "tags": [
     ""
    ]
   },
   "source": [
    "# Bitly - List Active Links"
   ]
  },
  {
   "cell_type": "markdown",
   "id": "53651917-f9a7-437d-9c47-6a35fc2b0cce",
   "metadata": {
    "papermill": {},
    "tags": [
     ""
    ]
   },
   "source": [
    "**Tags:** #bitly #api #list #active #links #python"
   ]
  },
  {
   "cell_type": "markdown",
   "id": "2180cffb-4859-4167-a5dd-b22484f78ae6",
   "metadata": {
    "papermill": {},
    "tags": [
     ""
    ]
   },
   "source": [
    "**Author:** [Florent Ravenel](https://www.linkedin.com/in/florent-ravenel/)"
   ]
  },
  {
   "cell_type": "markdown",
   "id": "fb19ff98-bc92-4fb5-b26e-ca02350bab8b",
   "metadata": {
    "papermill": {},
    "tags": [
     ""
    ]
   },
   "source": [
    "**Description:** This notebook will show how to list active links using the Bitly API."
   ]
  },
  {
   "cell_type": "markdown",
   "id": "c9ec96e9-1bde-4e33-b2ce-8de20dc81110",
   "metadata": {
    "papermill": {},
    "tags": [
     ""
    ]
   },
   "source": [
    "<u>References:</u>\n",
    "- [Bitly API Documentation](https://dev.bitly.com/v4_documentation.html)\n",
    "- [Bitly API Quickstart](https://dev.bitly.com/v4/#section/Quick-Start)"
   ]
  },
  {
   "cell_type": "markdown",
   "id": "2c17a50f-0cdc-4bf0-a92d-0e0058b384f4",
   "metadata": {
    "papermill": {},
    "tags": [
     ""
    ]
   },
   "source": [
    "## Input"
   ]
  },
  {
   "cell_type": "markdown",
   "id": "10fc10ca-6f59-4950-9df3-b26f063756a7",
   "metadata": {
    "papermill": {},
    "tags": [
     ""
    ]
   },
   "source": [
    "### Import libraries"
   ]
  },
  {
   "cell_type": "code",
   "execution_count": null,
   "id": "2b00c042-9cb4-4629-9ae7-bc849401617f",
   "metadata": {
    "papermill": {},
    "tags": [
     ""
    ]
   },
   "outputs": [],
   "source": [
    "import requests\n",
    "import json"
   ]
  },
  {
   "cell_type": "markdown",
   "id": "9567f68c-1453-4fcf-b777-756a2e5277f3",
   "metadata": {
    "papermill": {},
    "tags": [
     ""
    ]
   },
   "source": [
    "### Setup Variables\n",
    "- **token**: [Generate a Bitly Access Token](https://dev.bitly.com/v4/#section/Authentication)"
   ]
  },
  {
   "cell_type": "code",
   "execution_count": null,
   "id": "e03462a6-7833-4dac-a109-85d619adcfb7",
   "metadata": {
    "papermill": {},
    "tags": [
     ""
    ]
   },
   "outputs": [],
   "source": [
    "token = \"<YOUR_TOKEN_HERE>\""
   ]
  },
  {
   "cell_type": "markdown",
   "id": "593beb3c-9219-44fd-8206-aaa88f7b26eb",
   "metadata": {
    "papermill": {},
    "tags": [
     ""
    ]
   },
   "source": [
    "## Model"
   ]
  },
  {
   "cell_type": "markdown",
   "id": "eeb8207f-744a-45bf-8348-0eb38b660952",
   "metadata": {
    "papermill": {},
    "tags": [
     ""
    ]
   },
   "source": [
    "### List active links"
   ]
  },
  {
   "cell_type": "markdown",
   "id": "e871773c-a910-43a8-9b08-03ff9ebb4d61",
   "metadata": {
    "papermill": {},
    "tags": [
     ""
    ]
   },
   "source": [
    "This function will list all active links associated with the Bitly account."
   ]
  },
  {
   "cell_type": "code",
   "execution_count": null,
   "id": "b34de23e-89f3-4435-9093-3cccfc5bf9d4",
   "metadata": {
    "papermill": {},
    "tags": [
     ""
    ]
   },
   "outputs": [],
   "source": [
    "def list_active_links(token):\n",
    "    headers = {\"Authorization\": \"Bearer \" + token}\n",
    "    params = {\"size\": 100}\n",
    "    response = requests.get(\n",
    "        \"https://api-ssl.bitly.com/v4/user/active_links\", headers=headers, params=params\n",
    "    )\n",
    "    response.raise_for_status()\n",
    "    return response.json()"
   ]
  },
  {
   "cell_type": "markdown",
   "id": "2f441f69-d9ba-4972-bc3f-8400e5f7c270",
   "metadata": {
    "papermill": {},
    "tags": [
     ""
    ]
   },
   "source": [
    "## Output"
   ]
  },
  {
   "cell_type": "markdown",
   "id": "61062b32-c0a2-4cf0-9f79-677dceb62dbd",
   "metadata": {
    "papermill": {},
    "tags": [
     ""
    ]
   },
   "source": [
    "### Display result"
   ]
  },
  {
   "cell_type": "code",
   "execution_count": null,
   "id": "c889bf65-aa7a-4ed8-8781-1e36a7883c75",
   "metadata": {
    "papermill": {},
    "tags": [
     ""
    ]
   },
   "outputs": [],
   "source": [
    "active_links = list_active_links(token)\n",
    "print(json.dumps(active_links, indent=4))"
   ]
  },
  {
   "cell_type": "markdown",
   "id": "2a41dda8-8a25-4a2a-a514-ec8fc89f846d",
   "metadata": {
    "papermill": {},
    "tags": [
     ""
    ]
   },
   "source": [
    " "
   ]
  }
 ],
 "metadata": {
  "kernelspec": {
   "display_name": "Python 3",
   "language": "python",
   "name": "python3"
  },
  "language_info": {
   "codemirror_mode": {
    "name": "ipython",
    "version": 3
   },
   "file_extension": ".py",
   "mimetype": "text/x-python",
   "name": "python",
   "nbconvert_exporter": "python",
   "pygments_lexer": "ipython3",
   "version": "3.8.8"
  },
  "widgets": {
   "application/vnd.jupyter.widget-state+json": {
    "state": {},
    "version_major": 2,
    "version_minor": 0
   }
  }
 },
 "nbformat": 4,
 "nbformat_minor": 5
}