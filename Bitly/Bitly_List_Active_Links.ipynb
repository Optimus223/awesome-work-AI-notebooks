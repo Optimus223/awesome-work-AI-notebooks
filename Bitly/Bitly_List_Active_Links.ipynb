{
 "cells": [
  {
   "cell_type": "markdown",
   "id": "4cfce13f-16dc-4e66-bc85-7fae1de6582c",
   "metadata": {
    "papermill": {},
    "tags": [
     "logo"
    ]
   },
   "source": [
    "<img width=\"10%\" alt=\"Naas\" src=\"https://landen.imgix.net/jtci2pxwjczr/assets/5ice39g4.png?w=160\"/>"
   ]
  },
  {
   "cell_type": "markdown",
   "id": "6b9c573a-fe8c-4b3d-aaa6-39e37c815e1a",
   "metadata": {
    "papermill": {},
    "tags": [
     ""
    ]
   },
   "source": [
    "# Bitly - List Active Links"
   ]
  },
  {
   "cell_type": "markdown",
   "id": "b2a900fc-6efc-46f7-931e-2dce1e4b53e2",
   "metadata": {
    "papermill": {},
    "tags": [
     ""
    ]
   },
   "source": [
    "**Tags:** #bitly #api #list #active #links #python"
   ]
  },
  {
   "cell_type": "markdown",
   "id": "075887ce-0cbb-47fd-a57f-e357c72c67c7",
   "metadata": {
    "papermill": {},
    "tags": [
     ""
    ]
   },
   "source": [
    "**Author:** [Florent Ravenel](https://www.linkedin.com/in/florent-ravenel/)"
   ]
  },
  {
   "cell_type": "markdown",
   "id": "aada4134-1c9e-49e2-8e0d-d93ea51aa774",
   "metadata": {
    "papermill": {},
    "tags": [
     ""
    ]
   },
   "source": [
    "**Description:** This notebook will show how to list active links using the Bitly API."
   ]
  },
  {
   "cell_type": "markdown",
   "id": "b9619d70-7bab-4e32-b54d-4575b5b4189c",
   "metadata": {
    "papermill": {},
    "tags": [
     ""
    ]
   },
   "source": [
    "<u>References:</u>\n",
    "- [Bitly API Documentation](https://dev.bitly.com/v4_documentation.html)\n",
    "- [Bitly API Quickstart](https://dev.bitly.com/v4/#section/Quick-Start)"
   ]
  },
  {
   "cell_type": "markdown",
   "id": "fd45703d-4646-4e1a-b8d4-465e075a0705",
   "metadata": {
    "papermill": {},
    "tags": [
     ""
    ]
   },
   "source": [
    "## Input"
   ]
  },
  {
   "cell_type": "markdown",
   "id": "cba8082c-aca2-4dc6-81c7-00b09db7b005",
   "metadata": {
    "papermill": {},
    "tags": [
     ""
    ]
   },
   "source": [
    "### Import libraries"
   ]
  },
  {
   "cell_type": "code",
   "execution_count": null,
   "id": "7bbe23bb-e355-4fcb-abd1-5437e0dc6cdc",
   "metadata": {
    "papermill": {},
    "tags": [
     ""
    ]
   },
   "outputs": [],
   "source": [
    "import requests\n",
    "import json"
   ]
  },
  {
   "cell_type": "markdown",
   "id": "69d13cee-e5b4-45b6-a382-c3cbc074f024",
   "metadata": {
    "papermill": {},
    "tags": [
     ""
    ]
   },
   "source": [
    "### Setup Variables\n",
    "- **token**: [Generate a Bitly Access Token](https://dev.bitly.com/v4/#section/Authentication)"
   ]
  },
  {
   "cell_type": "code",
   "execution_count": null,
   "id": "a948b8af-3003-4e3b-aedd-55a6bba2f583",
   "metadata": {
    "papermill": {},
    "tags": [
     ""
    ]
   },
   "outputs": [],
   "source": [
    "token = \"<YOUR_TOKEN_HERE>\""
   ]
  },
  {
   "cell_type": "markdown",
   "id": "6be02fb9-9a02-4133-9f26-2914eeedd767",
   "metadata": {
    "papermill": {},
    "tags": [
     ""
    ]
   },
   "source": [
    "## Model"
   ]
  },
  {
   "cell_type": "markdown",
   "id": "e86378e2-6768-4353-992f-65a2c10ece2a",
   "metadata": {
    "papermill": {},
    "tags": [
     ""
    ]
   },
   "source": [
    "### List active links"
   ]
  },
  {
   "cell_type": "markdown",
   "id": "aec0fea3-dab2-4f42-85fb-ab15c2ff5b34",
   "metadata": {
    "papermill": {},
    "tags": [
     ""
    ]
   },
   "source": [
    "This function will list all active links associated with the Bitly account."
   ]
  },
  {
   "cell_type": "code",
   "execution_count": null,
   "id": "0df4e593-8307-415b-8354-ef13270f2f5b",
   "metadata": {
    "papermill": {},
    "tags": [
     ""
    ]
   },
   "outputs": [],
   "source": [
    "def list_active_links(token):\n",
    "    headers = {\"Authorization\": \"Bearer \" + token}\n",
    "    params = {\"size\": 100}\n",
    "    response = requests.get(\n",
    "        \"https://api-ssl.bitly.com/v4/user/active_links\", headers=headers, params=params\n",
    "    )\n",
    "    response.raise_for_status()\n",
    "    return response.json()"
   ]
  },
  {
   "cell_type": "markdown",
   "id": "dbdba5dd-6657-4f81-b982-1760dc467403",
   "metadata": {
    "papermill": {},
    "tags": [
     ""
    ]
   },
   "source": [
    "## Output"
   ]
  },
  {
   "cell_type": "markdown",
   "id": "2ece663d-6046-487e-839e-2fe28d19706b",
   "metadata": {
    "papermill": {},
    "tags": [
     ""
    ]
   },
   "source": [
    "### Display result"
   ]
  },
  {
   "cell_type": "code",
   "execution_count": null,
   "id": "f7011d32-286f-4d59-9992-d520b09cfdd3",
   "metadata": {
    "papermill": {},
    "tags": [
     ""
    ]
   },
   "outputs": [],
   "source": [
    "active_links = list_active_links(token)\n",
    "print(json.dumps(active_links, indent=4))"
   ]
  },
  {
   "cell_type": "markdown",
   "id": "29d615ce-c76c-4261-b2c1-e4ccd36c09dd",
   "metadata": {
    "papermill": {},
    "tags": [
     ""
    ]
   },
   "source": [
    " "
   ]
  }
 ],
 "metadata": {
  "kernelspec": {
   "display_name": "Python 3",
   "language": "python",
   "name": "python3"
  },
  "language_info": {
   "codemirror_mode": {
    "name": "ipython",
    "version": 3
   },
   "file_extension": ".py",
   "mimetype": "text/x-python",
   "name": "python",
   "nbconvert_exporter": "python",
   "pygments_lexer": "ipython3",
   "version": "3.9.6"
  }
 },
 "nbformat": 4,
 "nbformat_minor": 5
}