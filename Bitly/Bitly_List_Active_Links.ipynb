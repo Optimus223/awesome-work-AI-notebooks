{
 "cells": [
  {
   "cell_type": "markdown",
   "id": "naas-logo",
   "metadata": {
    "papermill": {},
    "tags": [
     "logo"
    ]
   },
   "source": [
    "<img width=\"10%\" alt=\"Naas\" src=\"https://landen.imgix.net/jtci2pxwjczr/assets/5ice39g4.png?w=160\"/>"
   ]
  },
  {
   "cell_type": "markdown",
   "id": "c12e807a-b8d1-44a2-bf2e-418d68ef180b",
   "metadata": {
    "papermill": {},
    "tags": [
     ""
    ]
   },
   "source": [
    "# Bitly - List Active Links"
   ]
  },
  {
   "cell_type": "markdown",
   "id": "fe8e80db-5df0-4978-9e48-3561586ab248",
   "metadata": {
    "papermill": {},
    "tags": [
     ""
    ]
   },
   "source": [
    "**Tags:** #bitly #api #list #active #links #python"
   ]
  },
  {
   "cell_type": "markdown",
   "id": "18c17d0a-8706-40a9-b33c-1fa76277fef6",
   "metadata": {
    "papermill": {},
    "tags": [
     ""
    ]
   },
   "source": [
    "**Author:** [Florent Ravenel](https://www.linkedin.com/in/florent-ravenel/)"
   ]
  },
  {
   "cell_type": "markdown",
   "id": "e080aa4f-8763-4315-a9db-1e7ba9c41e83",
   "metadata": {
    "papermill": {},
    "tags": [
     ""
    ]
   },
   "source": [
    "**Description:** This notebook will show how to list active links using the Bitly API."
   ]
  },
  {
   "cell_type": "markdown",
   "id": "d6ea5d72-fed5-48fc-8930-1af48b86ffb3",
   "metadata": {
    "papermill": {},
    "tags": [
     ""
    ]
   },
   "source": [
    "<u>References:</u>\n",
    "- [Bitly API Documentation](https://dev.bitly.com/v4_documentation.html)\n",
    "- [Bitly API Quickstart](https://dev.bitly.com/v4/#section/Quick-Start)"
   ]
  },
  {
   "cell_type": "markdown",
   "id": "f8ee7209-a950-4cd7-b525-9f553725a7f2",
   "metadata": {
    "papermill": {},
    "tags": [
     ""
    ]
   },
   "source": [
    "## Input"
   ]
  },
  {
   "cell_type": "markdown",
   "id": "aea33ca6-015a-42eb-a2ad-210aa75eb3a6",
   "metadata": {
    "papermill": {},
    "tags": [
     ""
    ]
   },
   "source": [
    "### Import libraries"
   ]
  },
  {
   "cell_type": "code",
   "execution_count": null,
   "id": "d01e97db-0101-4afb-806c-bb68dd3c50c1",
   "metadata": {
    "papermill": {},
    "tags": [
     ""
    ]
   },
   "outputs": [],
   "source": [
    "import requests\n",
    "import json"
   ]
  },
  {
   "cell_type": "markdown",
   "id": "15b35f3c-b3ad-4a9d-aa24-9134dcbe6b62",
   "metadata": {
    "papermill": {},
    "tags": [
     ""
    ]
   },
   "source": [
    "### Setup Variables\n",
    "- **token**: [Generate a Bitly Access Token](https://dev.bitly.com/v4/#section/Authentication)"
   ]
  },
  {
   "cell_type": "code",
   "execution_count": null,
   "id": "a8a8df12-4422-4e03-8d7d-21b4fc9a3fdf",
   "metadata": {
    "papermill": {},
    "tags": [
     ""
    ]
   },
   "outputs": [],
   "source": [
    "token = \"<YOUR_TOKEN_HERE>\""
   ]
  },
  {
   "cell_type": "markdown",
   "id": "0d0a0e2f-4f4e-44a5-b468-02b05f49e01a",
   "metadata": {
    "papermill": {},
    "tags": [
     ""
    ]
   },
   "source": [
    "## Model"
   ]
  },
  {
   "cell_type": "markdown",
   "id": "6321bb29-e627-4386-ad10-ee8c8f7f4b46",
   "metadata": {
    "papermill": {},
    "tags": [
     ""
    ]
   },
   "source": [
    "### List active links"
   ]
  },
  {
   "cell_type": "markdown",
   "id": "b2fef302-774c-4750-8d39-7d9bf044db40",
   "metadata": {
    "papermill": {},
    "tags": [
     ""
    ]
   },
   "source": [
    "This function will list all active links associated with the Bitly account."
   ]
  },
  {
   "cell_type": "code",
   "execution_count": null,
   "id": "e530adf7-ecbf-400d-95ef-976428f784c5",
   "metadata": {
    "papermill": {},
    "tags": [
     ""
    ]
   },
   "outputs": [],
   "source": [
    "def list_active_links(token):\n",
    "    headers = {\"Authorization\": \"Bearer \" + token}\n",
    "    params = {\"size\": 100}\n",
    "    response = requests.get(\n",
    "        \"https://api-ssl.bitly.com/v4/user/active_links\", headers=headers, params=params\n",
    "    )\n",
    "    response.raise_for_status()\n",
    "    return response.json()"
   ]
  },
  {
   "cell_type": "markdown",
   "id": "03f7e517-53ba-4fb0-92bf-ca24b1605489",
   "metadata": {
    "papermill": {},
    "tags": [
     ""
    ]
   },
   "source": [
    "## Output"
   ]
  },
  {
   "cell_type": "markdown",
   "id": "baf902d0-9575-45b5-9e11-3c8fb6e2943e",
   "metadata": {
    "papermill": {},
    "tags": [
     ""
    ]
   },
   "source": [
    "### Display result"
   ]
  },
  {
   "cell_type": "code",
   "execution_count": null,
   "id": "16a706a3-239e-4d1a-a4fb-c2bff16b3b60",
   "metadata": {
    "papermill": {},
    "tags": [
     ""
    ]
   },
   "outputs": [],
   "source": [
    "active_links = list_active_links(token)\n",
    "print(json.dumps(active_links, indent=4))"
   ]
  },
  {
   "cell_type": "markdown",
   "id": "7128b033-eee3-4021-98b0-867448cdfaf1",
   "metadata": {
    "papermill": {},
    "tags": [
     ""
    ]
   },
   "source": [
    " "
   ]
  }
 ],
 "metadata": {
  "kernelspec": {
   "display_name": "Python 3",
   "language": "python",
   "name": "python3"
  },
  "language_info": {
   "codemirror_mode": {
    "name": "ipython",
    "version": 3
   },
   "file_extension": ".py",
   "mimetype": "text/x-python",
   "name": "python",
   "nbconvert_exporter": "python",
   "pygments_lexer": "ipython3",
   "version": "3.9.6"
  }
 },
 "nbformat": 4,
 "nbformat_minor": 5
}
