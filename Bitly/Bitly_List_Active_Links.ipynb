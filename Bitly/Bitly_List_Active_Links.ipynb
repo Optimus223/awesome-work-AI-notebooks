{
 "cells": [
  {
   "cell_type": "markdown",
   "id": "5cf4955a-2a89-4088-9f96-ccd99222dca6",
   "metadata": {
    "execution": {},
    "papermill": {},
    "tags": [
     ""
    ]
   },
   "outputs": [],
   "source": [
    "<img width=\"10%\" alt=\"Naas\" src=\"https://landen.imgix.net/jtci2pxwjczr/assets/5ice39g4.png?w=160\"/>"
   ]
  },
  {
   "cell_type": "markdown",
   "id": "12ef04fe-c359-4d8d-be73-c5ec4521c7ff",
   "metadata": {
    "papermill": {},
    "tags": [
     ""
    ]
   },
   "outputs": [],
   "source": [
    "# Bitly - List Active Links"
   ]
  },
  {
   "cell_type": "markdown",
   "id": "065436a1-938a-4e57-9fb5-16aee3b85e8b",
   "metadata": {
    "papermill": {},
    "tags": [
     ""
    ]
   },
   "outputs": [],
   "source": [
    "**Tags:** #bitly #api #list #active #links #python"
   ]
  },
  {
   "cell_type": "markdown",
   "id": "e1bbbddc-e702-4f2e-972c-f8381b9c8182",
   "metadata": {
    "papermill": {},
    "tags": [
     ""
    ]
   },
   "outputs": [],
   "source": [
    "**Author:** [Florent Ravenel](https://www.linkedin.com/in/florent-ravenel/)"
   ]
  },
  {
   "cell_type": "markdown",
   "id": "2a369e94-8e8e-4cd0-8376-2cfd1e360eee",
   "metadata": {
    "papermill": {},
    "tags": [
     ""
    ]
   },
   "outputs": [],
   "source": [
    "**Description:** This notebook will show how to list active links using the Bitly API."
   ]
  },
  {
   "cell_type": "markdown",
   "id": "25620eb8-84ef-4132-afd0-532c7d580b7a",
   "metadata": {
    "papermill": {},
    "tags": [
     ""
    ]
   },
   "outputs": [],
   "source": [
    "<u>References:</u>\n",
    "- [Bitly API Documentation](https://dev.bitly.com/v4_documentation.html)\n",
    "- [Bitly API Quickstart](https://dev.bitly.com/v4/#section/Quick-Start)"
   ]
  },
  {
   "cell_type": "markdown",
   "id": "35ab9954-957f-4d30-b746-96a24ddd9101",
   "metadata": {
    "papermill": {},
    "tags": [
     ""
    ]
   },
   "outputs": [],
   "source": [
    "## Input"
   ]
  },
  {
   "cell_type": "markdown",
   "id": "44cc0e1c-90af-4151-8aea-fcabf92ff56f",
   "metadata": {
    "papermill": {},
    "tags": [
     ""
    ]
   },
   "outputs": [],
   "source": [
    "### Import libraries"
   ]
  },
  {
   "cell_type": "code",
   "id": "be3ee681-bd2a-48c7-a6d2-0295b127de0e",
   "metadata": {
    "papermill": {},
    "tags": [
     ""
    ],
    "execution_count": null
   },
   "outputs": [],
   "source": [
    "import requests\n",
    "import json"
   ],
   "execution_count": null
  },
  {
   "cell_type": "markdown",
   "id": "95638131-5fa3-4ba2-871b-a71f3ef11771",
   "metadata": {
    "papermill": {},
    "tags": [
     ""
    ]
   },
   "outputs": [],
   "source": [
    "### Setup Variables\n",
    "- **token**: [Generate a Bitly Access Token](https://dev.bitly.com/v4/#section/Authentication)"
   ]
  },
  {
   "cell_type": "code",
   "id": "c9ed7598-e517-4529-b964-030634170965",
   "metadata": {
    "papermill": {},
    "tags": [
     ""
    ],
    "execution_count": null
   },
   "outputs": [],
   "source": [
    "token = \"<YOUR_TOKEN_HERE>\""
   ],
   "execution_count": null
  },
  {
   "cell_type": "markdown",
   "id": "df61479d-be10-4716-b1ae-e2b16cf8a919",
   "metadata": {
    "papermill": {},
    "tags": [
     ""
    ]
   },
   "outputs": [],
   "source": [
    "## Model"
   ]
  },
  {
   "cell_type": "markdown",
   "id": "06a391e8-a353-41d9-956a-f83189a83459",
   "metadata": {
    "papermill": {},
    "tags": [
     ""
    ]
   },
   "outputs": [],
   "source": [
    "### List active links"
   ]
  },
  {
   "cell_type": "markdown",
   "id": "812fa8ac-cbc1-4563-b4ef-7b3ee9f4cff5",
   "metadata": {
    "papermill": {},
    "tags": [
     ""
    ]
   },
   "outputs": [],
   "source": [
    "This function will list all active links associated with the Bitly account."
   ]
  },
  {
   "cell_type": "code",
   "id": "a32fa15d-f581-4ee1-8366-5169bab814aa",
   "metadata": {
    "papermill": {},
    "tags": [
     ""
    ],
    "execution_count": null
   },
   "outputs": [],
   "source": [
    "def list_active_links(token):\n",
    "    headers = {\"Authorization\": \"Bearer \" + token}\n",
    "    params = {\"size\": 100}\n",
    "    response = requests.get(\n",
    "        \"https://api-ssl.bitly.com/v4/user/active_links\", headers=headers, params=params\n",
    "    )\n",
    "    response.raise_for_status()\n",
    "    return response.json()"
   ],
   "execution_count": null
  },
  {
   "cell_type": "markdown",
   "id": "88db10aa-5fde-4442-b867-4db52be1c853",
   "metadata": {
    "papermill": {},
    "tags": [
     ""
    ]
   },
   "outputs": [],
   "source": [
    "## Output"
   ]
  },
  {
   "cell_type": "markdown",
   "id": "4a924170-691d-4daf-8be3-318a65af9cfd",
   "metadata": {
    "papermill": {},
    "tags": [
     ""
    ]
   },
   "outputs": [],
   "source": [
    "### Display result"
   ]
  },
  {
   "cell_type": "code",
   "id": "c7f3428d-ef58-45f8-8464-2dd399abc6f2",
   "metadata": {
    "papermill": {},
    "tags": [
     ""
    ],
    "execution_count": null
   },
   "outputs": [],
   "source": [
    "active_links = list_active_links(token)\n",
    "print(json.dumps(active_links, indent=4))"
   ],
   "execution_count": null
  },
  {
   "cell_type": "markdown",
   "id": "f52f53a0-22d7-484e-9c6a-7cb2d0d58639",
   "metadata": {
    "papermill": {},
    "tags": [
     ""
    ]
   },
   "outputs": [],
   "source": [
    " "
   ]
  }
 ],
 "metadata": {
  "kernelspec": {
   "display_name": "Python 3",
   "language": "python",
   "name": "python3"
  },
  "language_info": {
   "codemirror_mode": {
    "name": "ipython",
    "version": 3
   },
   "file_extension": ".py",
   "mimetype": "text/x-python",
   "name": "python",
   "nbconvert_exporter": "python",
   "pygments_lexer": "ipython3",
   "version": "3.8.8"
  },
  "widgets": {
   "application/vnd.jupyter.widget-state+json": {
    "state": {},
    "version_major": 2,
    "version_minor": 0
   }
  }
 },
 "nbformat": 4,
 "nbformat_minor": 5
}
