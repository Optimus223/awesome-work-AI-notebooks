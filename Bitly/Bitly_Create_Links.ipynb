{
 "cells": [
  {
   "cell_type": "markdown",
   "id": "naas-logo",
   "metadata": {
    "papermill": {},
    "tags": [
     "logo"
    ]
   },
   "source": [
    "<img width=\"10%\" alt=\"Naas\" src=\"https://landen.imgix.net/jtci2pxwjczr/assets/5ice39g4.png?w=160\"/>"
   ]
  },
  {
   "cell_type": "markdown",
   "id": "3ed95a14-0c30-4a66-a000-af087dcb191a",
   "metadata": {
    "papermill": {},
    "tags": [
     ""
    ]
   },
   "source": [
    "# Bitly - Create Links"
   ]
  },
  {
   "cell_type": "markdown",
   "id": "6fb824a0-de6b-4ed6-b40a-2e9900f471d9",
   "metadata": {
    "papermill": {},
    "tags": [
     ""
    ]
   },
   "source": [
    "**Tags:** #bitly #link #shorten #url #create #python"
   ]
  },
  {
   "cell_type": "markdown",
   "id": "2dfaf28f-0ba0-4f92-8ff3-e4f6f325e596",
   "metadata": {
    "papermill": {},
    "tags": [
     ""
    ]
   },
   "source": [
    "**Author:** [Florent Ravenel](https://www.linkedin.com/in/florent-ravenel/)"
   ]
  },
  {
   "cell_type": "markdown",
   "id": "91e9ae74-8ea2-4c7a-962b-6df614d060e2",
   "metadata": {
    "papermill": {},
    "tags": [
     ""
    ]
   },
   "source": [
    "**Description:** This notebook will show how to create short links with Bitly."
   ]
  },
  {
   "cell_type": "markdown",
   "id": "ddecc70c-a757-49e6-968f-55a7a8f6458b",
   "metadata": {
    "papermill": {},
    "tags": [
     ""
    ]
   },
   "source": [
    "<u>References:</u>\n- [Bitly Documentation](https://dev.bitly.com/v4_documentation.html)\n- [Bitly API](https://dev.bitly.com/get_started.html)"
   ]
  },
  {
   "cell_type": "markdown",
   "id": "68b1b16e-1122-4b67-a9cd-c69e99397914",
   "metadata": {
    "papermill": {},
    "tags": [
     ""
    ]
   },
   "source": [
    "## Input"
   ]
  },
  {
   "cell_type": "markdown",
   "id": "69e7aa41-c256-4638-9c7f-239272106ad9",
   "metadata": {
    "papermill": {},
    "tags": [
     ""
    ]
   },
   "source": [
    "### Import libraries"
   ]
  },
  {
   "cell_type": "code",
   "id": "d2f10d97-0a95-4a41-ad5e-874eda08cd43",
   "metadata": {
    "papermill": {},
    "tags": [
     ""
    ]
   },
   "source": "import requests\nimport json"
  },
  {
   "cell_type": "markdown",
   "id": "f91fafd4-72ea-42d3-8c4d-32bf0dd0c918",
   "metadata": {
    "papermill": {},
    "tags": [
     ""
    ]
   },
   "source": [
    "### Setup Variables\n- `token`: [Generate a Bitly Access Token](https://dev.bitly.com/get_started.html)\n- `long_url`: URL to be shortened"
   ]
  },
  {
   "cell_type": "code",
   "id": "6854b541-13e1-46c4-8b5b-7e0a07c62fdd",
   "metadata": {
    "papermill": {},
    "tags": [
     ""
    ]
   },
   "source": "token = \"<YOUR_TOKEN_HERE>\"\nlong_url = \"https://www.example.com/\""
  },
  {
   "cell_type": "markdown",
   "id": "e862c90f-dfc7-441e-863d-a75ef8afa4a9",
   "metadata": {
    "papermill": {},
    "tags": [
     ""
    ]
   },
   "source": [
    "## Model"
   ]
  },
  {
   "cell_type": "markdown",
   "id": "19aa433b-0ca0-43bb-bef6-86ace5eb54d3",
   "metadata": {
    "papermill": {},
    "tags": [
     ""
    ]
   },
   "source": [
    "### Shorten URL"
   ]
  },
  {
   "cell_type": "markdown",
   "id": "16167ea4-31ed-4440-b07d-79ae14aa342c",
   "metadata": {
    "papermill": {},
    "tags": [
     ""
    ]
   },
   "source": [
    "This function will use the Bitly API to shorten a given URL."
   ]
  },
  {
   "cell_type": "code",
   "id": "0f8cf420-b3ba-4b72-b579-d06dda32080c",
   "metadata": {
    "papermill": {},
    "tags": [
     ""
    ]
   },
   "source": "def shorten_url(token, long_url):\n    url = \"https://api-ssl.bitly.com/v4/shorten\"\n    headers = {\"Authorization\": \"Bearer \" + token}\n    payload = {\"long_url\": long_url}\n    response = requests.post(url, headers=headers, json=payload)\n    response_json = response.json()\n    return response_json[\"link\"]"
  },
  {
   "cell_type": "markdown",
   "id": "725760f2-f482-46b3-8794-75759d734be2",
   "metadata": {
    "papermill": {},
    "tags": [
     ""
    ]
   },
   "source": [
    "## Output"
   ]
  },
  {
   "cell_type": "markdown",
   "id": "9f82b4b8-aec8-4502-80a2-7b281181f8cd",
   "metadata": {
    "papermill": {},
    "tags": [
     ""
    ]
   },
   "source": [
    "### Display result"
   ]
  },
  {
   "cell_type": "code",
   "id": "467fa756-d199-4acc-8f9c-6d22782d7040",
   "metadata": {
    "papermill": {},
    "tags": [
     ""
    ]
   },
   "source": "short_url = shorten_url(token, long_url)\nprint(short_url)"
  },
  {
   "cell_type": "markdown",
   "id": "a7c68cb1-ddad-4a91-b4b4-c13c18335140",
   "metadata": {
    "papermill": {},
    "tags": [
     ""
    ]
   },
   "source": [
    " "
   ]
  }
 ],
 "metadata": {
  "kernelspec": {
   "display_name": "Python 3",
   "language": "python",
   "name": "python3"
  },
  "language_info": {
   "codemirror_mode": {
    "name": "ipython",
    "version": 3
   },
   "file_extension": ".py",
   "mimetype": "text/x-python",
   "name": "python",
   "nbconvert_exporter": "python",
   "pygments_lexer": "ipython3",
   "version": "3.9.6"
  }
 },
 "nbformat": 4,
 "nbformat_minor": 5
}