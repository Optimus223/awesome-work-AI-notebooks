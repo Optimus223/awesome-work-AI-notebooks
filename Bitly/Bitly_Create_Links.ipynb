{
 "cells": [
  {
   "cell_type": "markdown",
   "id": "6de5667f-1a23-4ff3-913f-776359e1915c",
   "metadata": {
    "papermill": {},
    "tags": []
   },
   "source": [
    "<img width=\"10%\" alt=\"Naas\" src=\"https://landen.imgix.net/jtci2pxwjczr/assets/5ice39g4.png?w=160\"/>"
   ]
  },
  {
   "cell_type": "markdown",
   "id": "3fc73fa3-3f4b-4939-b81d-a6370f1a50e8",
   "metadata": {
    "papermill": {},
    "tags": []
   },
   "source": [
    "# Bitly - Create Links"
   ]
  },
  {
   "cell_type": "markdown",
   "id": "cd1e2df2-ac77-447a-9ac0-d37aea73749f",
   "metadata": {
    "papermill": {},
    "tags": []
   },
   "source": [
    "**Tags:** #bitly #link #shorten #url #create #python"
   ]
  },
  {
   "cell_type": "markdown",
   "id": "a56a5320-69f5-44b1-bef0-0d68655f1ec8",
   "metadata": {
    "papermill": {},
    "tags": []
   },
   "source": [
    "**Author:** [Florent Ravenel](https://www.linkedin.com/in/florent-ravenel/)"
   ]
  },
  {
   "cell_type": "markdown",
   "id": "fe0da56b-b9eb-48ee-b4c3-9a198bb2b9b1",
   "metadata": {
    "papermill": {},
    "tags": []
   },
   "source": [
    "**Description:** This notebook will show how to create short links with Bitly."
   ]
  },
  {
   "cell_type": "markdown",
   "id": "ee16009d-1497-4bb0-bcc0-de77023a14b6",
   "metadata": {
    "papermill": {},
    "tags": []
   },
   "source": [
    "<u>References:</u>\n- [Bitly Documentation](https://dev.bitly.com/v4_documentation.html)\n- [Bitly API](https://dev.bitly.com/get_started.html)"
   ]
  },
  {
   "cell_type": "markdown",
   "id": "c6d2131b-2ce3-4076-b8d9-db5177a75b3f",
   "metadata": {
    "papermill": {},
    "tags": []
   },
   "source": [
    "## Input"
   ]
  },
  {
   "cell_type": "markdown",
   "id": "dc4cca63-45b2-4928-94ff-abee4c4ec7ba",
   "metadata": {
    "papermill": {},
    "tags": []
   },
   "source": [
    "### Import libraries"
   ]
  },
  {
   "cell_type": "code",
   "id": "4a09e83d-9cdf-427d-a71f-de9391daa4fe",
   "metadata": {
    "papermill": {},
    "tags": []
   },
   "source": "import requests\nimport json",
   "execution_count": null
  },
  {
   "cell_type": "markdown",
   "id": "53a466c4-1f16-43f5-b272-90baa083f8c6",
   "metadata": {
    "papermill": {},
    "tags": []
   },
   "source": [
    "### Setup Variables\n- `token`: [Generate a Bitly Access Token](https://dev.bitly.com/get_started.html)\n- `long_url`: URL to be shortened"
   ]
  },
  {
   "cell_type": "code",
   "id": "5a71e6d3-a8f8-4743-947c-fb7c1a9d6c57",
   "metadata": {
    "papermill": {},
    "tags": []
   },
   "source": "token = \"<YOUR_TOKEN_HERE>\"\nlong_url = \"https://www.example.com/\"",
   "execution_count": null
  },
  {
   "cell_type": "markdown",
   "id": "3d42578b-0db6-4ed5-9946-2369ef51690d",
   "metadata": {
    "papermill": {},
    "tags": []
   },
   "source": [
    "## Model"
   ]
  },
  {
   "cell_type": "markdown",
   "id": "f7b0199e-5c7d-4b4f-a383-0b52257080a2",
   "metadata": {
    "papermill": {},
    "tags": []
   },
   "source": [
    "### Shorten URL"
   ]
  },
  {
   "cell_type": "markdown",
   "id": "70bb8b4c-bfcc-411a-a226-2ea2d68ca311",
   "metadata": {
    "papermill": {},
    "tags": []
   },
   "source": [
    "This function will use the Bitly API to shorten a given URL."
   ]
  },
  {
   "cell_type": "code",
   "id": "1f57b384-3fbf-4dd1-8082-3024508d5676",
   "metadata": {
    "papermill": {},
    "tags": []
   },
   "source": "def shorten_url(token, long_url):\n    url = \"https://api-ssl.bitly.com/v4/shorten\"\n    headers = {\"Authorization\": \"Bearer \" + token}\n    payload = {\"long_url\": long_url}\n    response = requests.post(url, headers=headers, json=payload)\n    response_json = response.json()\n    return response_json[\"link\"]",
   "execution_count": null
  },
  {
   "cell_type": "markdown",
   "id": "864cc88a-1e7a-492e-a583-152a36624668",
   "metadata": {
    "papermill": {},
    "tags": []
   },
   "source": [
    "## Output"
   ]
  },
  {
   "cell_type": "markdown",
   "id": "7b3bd851-912d-4814-a336-f11c9e94e83f",
   "metadata": {
    "papermill": {},
    "tags": []
   },
   "source": [
    "### Display result"
   ]
  },
  {
   "cell_type": "code",
   "id": "ce830ee0-fea7-4fb0-af32-c6963b524582",
   "metadata": {
    "papermill": {},
    "tags": []
   },
   "source": "short_url = shorten_url(token, long_url)\nprint(short_url)",
   "execution_count": null
  },
  {
   "cell_type": "markdown",
   "id": "e3016dc6-1871-48ad-8aec-228e5cfd4f44",
   "metadata": {
    "papermill": {},
    "tags": []
   },
   "source": [
    " "
   ]
  }
 ],
 "metadata": {
  "kernelspec": {
   "display_name": "Python 3",
   "language": "python",
   "name": "python3"
  },
  "language_info": {
   "codemirror_mode": {
    "name": "ipython",
    "version": 3
   },
   "file_extension": ".py",
   "mimetype": "text/x-python",
   "name": "python",
   "nbconvert_exporter": "python",
   "pygments_lexer": "ipython3",
   "version": "3.8.8"
  },
  "widgets": {
   "application/vnd.jupyter.widget-state+json": {
    "state": {},
    "version_major": 2,
    "version_minor": 0
   }
  }
 },
 "nbformat": 4,
 "nbformat_minor": 5
}