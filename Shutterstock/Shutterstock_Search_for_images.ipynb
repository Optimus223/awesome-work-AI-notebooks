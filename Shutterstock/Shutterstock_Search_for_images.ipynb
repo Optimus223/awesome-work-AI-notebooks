{
 "cells": [
  {
   "cell_type": "markdown",
   "id": "2b9d3eb4-12f1-4286-afcc-9e1f80f23282",
   "metadata": {
    "papermill": {},
    "tags": []
   },
   "source": [
    "<img width=\"10%\" alt=\"Naas\" src=\"https://landen.imgix.net/jtci2pxwjczr/assets/5ice39g4.png?w=160\"/>"
   ]
  },
  {
   "cell_type": "markdown",
   "id": "0aae40c4-bd46-4dc0-bbe5-62ced182f66c",
   "metadata": {
    "papermill": {},
    "tags": []
   },
   "source": [
    "# Shutterstock - Search for images"
   ]
  },
  {
   "cell_type": "markdown",
   "id": "1dab65b4-f4f8-48b3-9c1e-02bdec752938",
   "metadata": {
    "papermill": {},
    "tags": []
   },
   "source": [
    "**Tags:** #shutterstock #images #search #api #reference #library"
   ]
  },
  {
   "cell_type": "markdown",
   "id": "bfd4cead-72df-4bb4-bd15-70564ecd258f",
   "metadata": {
    "papermill": {},
    "tags": []
   },
   "source": [
    "**Author:** [Florent Ravenel](https://www.linkedin.com/in/florent-ravenel/)"
   ]
  },
  {
   "cell_type": "markdown",
   "id": "2029f154-3fdb-4065-8e6c-0072c6e4864c",
   "metadata": {
    "papermill": {},
    "tags": []
   },
   "source": [
    "**Description:** This notebook will demonstrate how to use the Shutterstock API to search for images."
   ]
  },
  {
   "cell_type": "markdown",
   "id": "2a361a98-6a20-4030-99a4-e1e6e91782ba",
   "metadata": {
    "papermill": {},
    "tags": []
   },
   "source": [
    "**References:**\n- [Shutterstock API Reference](https://api-reference.shutterstock.com/#images)"
   ]
  },
  {
   "cell_type": "markdown",
   "id": "75efc8aa-9437-4869-8d38-120805424f16",
   "metadata": {
    "papermill": {},
    "tags": []
   },
   "source": [
    "## Input"
   ]
  },
  {
   "cell_type": "markdown",
   "id": "b8d86388-7ad7-43e3-9fbf-3df845297391",
   "metadata": {
    "papermill": {},
    "tags": []
   },
   "source": [
    "### Import libraries"
   ]
  },
  {
   "cell_type": "code",
   "execution_count": null,
   "id": "6a7ec0c8-38cc-4c41-8c1c-01906398833e",
   "metadata": {
    "papermill": {},
    "tags": []
   },
   "source": "import requests\nimport json",
   "outputs": []
  },
  {
   "cell_type": "markdown",
   "id": "60f2f919-64cc-4e76-8e42-3ee466428f96",
   "metadata": {
    "papermill": {},
    "tags": []
   },
   "source": [
    "### Setup Variables\n- `api_key`: [Get your API key](https://developers.shutterstock.com/getting-started)\n- `query`: The search query"
   ]
  },
  {
   "cell_type": "code",
   "execution_count": null,
   "id": "8100292e-f287-43fa-bf42-25ad9059107a",
   "metadata": {
    "papermill": {},
    "tags": []
   },
   "source": "api_key = \"YOUR_API_KEY\"\nquery = \"cat\"",
   "outputs": []
  },
  {
   "cell_type": "markdown",
   "id": "4f96bffb-b813-4fdd-86f8-a72c2708339b",
   "metadata": {
    "papermill": {},
    "tags": []
   },
   "source": [
    "## Model"
   ]
  },
  {
   "cell_type": "markdown",
   "id": "36ce70b2-95c4-4673-aea1-2eb57b1feaa2",
   "metadata": {
    "papermill": {},
    "tags": []
   },
   "source": [
    "### Search for images"
   ]
  },
  {
   "cell_type": "markdown",
   "id": "eef46b25-065c-45ce-9b19-a3d2379f9b84",
   "metadata": {
    "papermill": {},
    "tags": []
   },
   "source": [
    "This function will search for images using the Shutterstock API."
   ]
  },
  {
   "cell_type": "code",
   "execution_count": null,
   "id": "a187cd5c-e07b-41ee-a342-f992a98e0222",
   "metadata": {
    "papermill": {},
    "tags": []
   },
   "source": "def search_images(api_key, query):\n    url = \"https://api.shutterstock.com/v2/images/search\"\n    params = {\n        \"query\": query,\n        \"view\": \"minimal\",\n        \"sort\": \"popular\",\n        \"page\": 1,\n        \"per_page\": 10,\n    }\n    headers = {\"Authorization\": \"Bearer \" + api_key}\n    response = requests.get(url, params=params, headers=headers)\n    return response.json()",
   "outputs": []
  },
  {
   "cell_type": "markdown",
   "id": "d9996310-4afa-4f66-965f-5668c2040d65",
   "metadata": {
    "papermill": {},
    "tags": []
   },
   "source": [
    "## Output"
   ]
  },
  {
   "cell_type": "markdown",
   "id": "ae3b4709-5f13-4923-901a-147bd4f4f1f6",
   "metadata": {
    "papermill": {},
    "tags": []
   },
   "source": [
    "### Display result"
   ]
  },
  {
   "cell_type": "code",
   "execution_count": null,
   "id": "f1c98bfd-eb7c-4743-95aa-82e823a59595",
   "metadata": {
    "papermill": {},
    "tags": []
   },
   "source": "result = search_images(api_key, query)\nprint(json.dumps(result, indent=2))",
   "outputs": []
  },
  {
   "cell_type": "markdown",
   "id": "19f6c6ff-3c44-48e1-a8c5-c9ca16d22fc5",
   "metadata": {
    "papermill": {},
    "tags": []
   },
   "source": [
    " "
   ]
  }
 ],
 "metadata": {
  "kernelspec": {
   "display_name": "Python 3",
   "language": "python",
   "name": "python3"
  },
  "language_info": {
   "codemirror_mode": {
    "name": "ipython",
    "version": 3
   },
   "file_extension": ".py",
   "mimetype": "text/x-python",
   "name": "python",
   "nbconvert_exporter": "python",
   "pygments_lexer": "ipython3",
   "version": "3.9.6"
  },
  "widgets": {
   "application/vnd.jupyter.widget-state+json": {
    "state": {},
    "version_major": 2,
    "version_minor": 0
   }
  }
 },
 "nbformat": 4,
 "nbformat_minor": 5
}