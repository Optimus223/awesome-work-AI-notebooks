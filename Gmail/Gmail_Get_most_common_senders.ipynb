{
 "cells": [
  {
   "cell_type": "markdown",
   "id": "5532892a-b021-4c04-a5b6-9663416bd253",
   "metadata": {
    "papermill": {},
    "tags": []
   },
   "source": [
    "<img width=\"10%\" alt=\"Naas\" src=\"https://landen.imgix.net/jtci2pxwjczr/assets/5ice39g4.png?w=160\"/>"
   ]
  },
  {
   "cell_type": "markdown",
   "id": "0295da1f-0c24-46af-8afe-d2be52c8ec00",
   "metadata": {
    "papermill": {},
    "tags": []
   },
   "source": [
    "# Gmail - Get most common senders\n",
    "<a href=\"https://app.naas.ai/user-redirect/naas/downloader?url=https://raw.githubusercontent.com/jupyter-naas/awesome-notebooks/master/Gmail/Gmail_Get_emails_stats_by_sender.ipynb\" target=\"_parent\"><img src=\"https://naasai-public.s3.eu-west-3.amazonaws.com/Open_in_Naas_Lab.svg\"/></a><br><br><a href=\"https://github.com/jupyter-naas/awesome-notebooks/issues/new?assignees=&labels=&template=template-request.md&title=Tool+-+Action+of+the+notebook+\">Template request</a> | <a href=\"https://github.com/jupyter-naas/awesome-notebooks/issues/new?assignees=&labels=bug&template=bug_report.md&title=Gmail+-+Get+emails+stats+by+sender:+Error+short+description\">Bug report</a> | <a href=\"https://app.naas.ai/user-redirect/naas/downloader?url=https://raw.githubusercontent.com/jupyter-naas/awesome-notebooks/master/Naas/Naas_Start_data_product.ipynb\" target=\"_parent\">Generate Data Product</a>"
   ]
  },
  {
   "cell_type": "markdown",
   "id": "26d4b2a1-4002-47f9-9de2-e83fd5ae4312",
   "metadata": {
    "papermill": {},
    "tags": []
   },
   "source": [
    "**Tags:** #gmail #productivity #naas_drivers #operations #automation #analytics #plotly"
   ]
  },
  {
   "cell_type": "markdown",
   "id": "76835606-6353-46d3-957c-938f62133989",
   "metadata": {
    "papermill": {},
    "tags": []
   },
   "source": [
    "**Author:** [Antonio Georgiev](www.linkedin.com/in/antonio-georgiev-b672a325b)"
   ]
  },
  {
   "cell_type": "markdown",
   "id": "e572e155-0491-462b-857c-eefc229698fc",
   "metadata": {
    "papermill": {},
    "tags": [
     "description"
    ]
   },
   "source": [
    "**Description:** This notebook analyses users' inbox, identifies a list of the most common senders depending on the emails for the set period of time, and outputs the list of most common senders.\n",
    "This notebook aims to identify unwanted subscriptions or emails that Gmail didn't successfully filter as \"Spam.\""
   ]
  },
  {
   "cell_type": "markdown",
   "id": "788ed066-7292-482b-8cbe-ed994e26e83a",
   "metadata": {
    "papermill": {},
    "tags": []
   },
   "source": [
    "## Input"
   ]
  },
  {
   "cell_type": "markdown",
   "id": "7b5216ed-e38c-4092-ac27-3f3e7cf81fe3",
   "metadata": {
    "papermill": {},
    "tags": []
   },
   "source": [
    "### Import libraries"
   ]
  },
  {
   "cell_type": "code",
   "execution_count": 1,
   "id": "0340b310-681e-4b7c-aa12-3f6638f279f3",
   "metadata": {
    "execution": {
     "iopub.execute_input": "2023-07-17T11:01:46.377126Z",
     "iopub.status.busy": "2023-07-17T11:01:46.376852Z",
     "iopub.status.idle": "2023-07-17T11:01:48.379879Z",
     "shell.execute_reply": "2023-07-17T11:01:48.375362Z",
     "shell.execute_reply.started": "2023-07-17T11:01:46.377045Z"
    },
    "papermill": {},
    "tags": []
   },
   "outputs": [],
   "source": [
    "import datetime\n",
    "import os\n",
    "from imapclient import IMAPClient\n",
    "import naas\n",
    "from collections import Counter\n",
    "import quopri\n",
    "import email.header"
   ]
  },
  {
   "cell_type": "markdown",
   "id": "b46beb62-898f-4027-86dd-dbb7e3b849e9",
   "metadata": {
    "papermill": {},
    "tags": []
   },
   "source": [
    "### Setup Variables\n",
    "Create an application password following [this procedure](https://support.google.com/mail/answer/185833?hl=en)\n",
    "- `username`: This variable stores the username or email address associated with the email account\n",
    "- `password`: This variable stores the password or authentication token required to access the email account\n",
    "- `date_start`: Number of days to filter your inbox, it must be negative value\n",
    "- `most_common_senders`: Number of most common senders you want to list as output"
   ]
  },
  {
   "cell_type": "code",
   "execution_count": 2,
   "id": "e3505a01-a236-4ae3-ae6c-983c78b4f5e7",
   "metadata": {
    "execution": {
     "iopub.execute_input": "2023-07-17T06:18:58.836773Z",
     "iopub.status.busy": "2023-07-17T06:18:58.836135Z",
     "iopub.status.idle": "2023-07-17T06:18:58.986285Z",
     "shell.execute_reply": "2023-07-17T06:18:58.985260Z",
     "shell.execute_reply.started": "2023-07-17T06:18:58.836739Z"
    },
    "papermill": {},
    "tags": []
   },
   "outputs": [],
   "source": [
    "username = \"xxxxx@xxxxxx\"\n",
    "password = naas.secret.get(\"GMAIL_APP_PASSWORD\")\n",
    "date_start = -30\n",
    "most_common_senders = 10"
   ]
  },
  {
   "cell_type": "markdown",
   "id": "0a6368d8-0f06-4dcc-aef7-91396ae01d9d",
   "metadata": {
    "papermill": {},
    "tags": []
   },
   "source": [
    "## Model"
   ]
  },
  {
   "cell_type": "markdown",
   "id": "f3f059df-c52b-4f91-b768-4f377514d011",
   "metadata": {
    "papermill": {},
    "tags": []
   },
   "source": [
    "### Connect to email box"
   ]
  },
  {
   "cell_type": "code",
   "execution_count": 3,
   "id": "07a44f41-855d-4596-b34b-ad89ccf2167e",
   "metadata": {
    "execution": {
     "iopub.execute_input": "2023-07-17T11:01:48.529448Z",
     "iopub.status.busy": "2023-07-17T11:01:48.529185Z",
     "iopub.status.idle": "2023-07-17T11:01:49.358834Z",
     "shell.execute_reply": "2023-07-17T11:01:49.358199Z",
     "shell.execute_reply.started": "2023-07-17T11:01:48.529416Z"
    },
    "papermill": {},
    "tags": []
   },
   "outputs": [
    {
     "name": "stdout",
     "output_type": "stream",
     "text": [
      "✅ Successfully connected to INBOX\n"
     ]
    }
   ],
   "source": [
    "server = IMAPClient('imap.gmail.com')\n",
    "server.login(username, password)\n",
    "server.select_folder('INBOX')\n",
    "print(\"✅ Successfully connected to INBOX\")"
   ]
  },
  {
   "cell_type": "markdown",
   "id": "0d1696cd-f09f-4fe4-944f-b86efbcef710",
   "metadata": {
    "papermill": {},
    "tags": []
   },
   "source": [
    "### Get all emails for the set period of time with their flags (seen or unseen), date, and sender"
   ]
  },
  {
   "cell_type": "code",
   "execution_count": 4,
   "id": "48855835-01fc-423d-9204-2b2a3e978e12",
   "metadata": {
    "execution": {
     "iopub.execute_input": "2023-07-17T11:01:49.361405Z",
     "iopub.status.busy": "2023-07-17T11:01:49.361231Z",
     "iopub.status.idle": "2023-07-17T11:01:49.961071Z",
     "shell.execute_reply": "2023-07-17T11:01:49.959481Z",
     "shell.execute_reply.started": "2023-07-17T11:01:49.361385Z"
    },
    "tags": []
   },
   "outputs": [
    {
     "name": "stdout",
     "output_type": "stream",
     "text": [
      "✅ All emails fetched: 149\n"
     ]
    }
   ],
   "source": [
    "today = datetime.date.today()\n",
    "start = today + datetime.timedelta(days=date_start)\n",
    "all_messages = server.search(['SINCE', start.strftime('%d-%b-%Y')])\n",
    "all_metadata = server.fetch(all_messages, ['RFC822.SIZE', 'FLAGS', 'INTERNALDATE', 'ENVELOPE'])\n",
    "print(\"✅ All emails fetched:\", len(all_metadata))"
   ]
  },
  {
   "cell_type": "markdown",
   "id": "01265664-6d05-4eb7-99a0-83605ad561f1",
   "metadata": {},
   "source": [
    "### Get most viewed senders by counting the occurencies"
   ]
  },
  {
   "cell_type": "code",
   "execution_count": 5,
   "id": "81336f3e-5d87-4bf5-9b04-e988eb71e61d",
   "metadata": {
    "execution": {
     "iopub.execute_input": "2023-07-17T11:01:49.963523Z",
     "iopub.status.busy": "2023-07-17T11:01:49.963348Z",
     "iopub.status.idle": "2023-07-17T11:01:49.968961Z",
     "shell.execute_reply": "2023-07-17T11:01:49.968456Z",
     "shell.execute_reply.started": "2023-07-17T11:01:49.963503Z"
    },
    "tags": []
   },
   "outputs": [],
   "source": [
    "senders = []\n",
    "for msg_id, data in all_metadata.items():\n",
    "    envelope = data[b'ENVELOPE']\n",
    "    if envelope.from_:\n",
    "        sender_email = envelope.from_[0].mailbox.decode() + \"@\" + envelope.from_[0].host.decode()\n",
    "        senders.append(sender_email)\n",
    "\n",
    "sender_counts = Counter(senders)\n",
    "top_senders = sender_counts.most_common(most_common_senders)"
   ]
  },
  {
   "cell_type": "markdown",
   "id": "13503ca8-c574-417f-be13-ba59a95e32fb",
   "metadata": {
    "papermill": {},
    "tags": []
   },
   "source": [
    "## Output"
   ]
  },
  {
   "cell_type": "markdown",
   "id": "4ff98464-2822-4d31-aa45-0ea1c805b455",
   "metadata": {
    "papermill": {},
    "tags": []
   },
   "source": [
    "### Print the list with the unseen emails for the past two weeks from the top senders"
   ]
  },
  {
   "cell_type": "code",
   "execution_count": 13,
   "id": "5728fb42-8d78-4845-a3f0-2aacb13dc630",
   "metadata": {
    "execution": {
     "iopub.execute_input": "2023-07-17T11:05:10.205900Z",
     "iopub.status.busy": "2023-07-17T11:05:10.205674Z",
     "iopub.status.idle": "2023-07-17T11:05:10.209875Z",
     "shell.execute_reply": "2023-07-17T11:05:10.209234Z",
     "shell.execute_reply.started": "2023-07-17T11:05:10.205878Z"
    },
    "tags": []
   },
   "outputs": [
    {
     "name": "stdout",
     "output_type": "stream",
     "text": [
      "The 3 most common senders:\n",
      "info@n.myprotein.com: 38 emails\n",
      "premium@academia-mail.com: 23 emails\n",
      "news@mailing.tommy.com: 15 emails\n"
     ]
    }
   ],
   "source": [
    "print(f\"The {most_common_senders} most common senders:\")\n",
    "for sender, count in top_senders:\n",
    "    print(f\"{sender}: {count} emails\")"
   ]
  },
  {
   "cell_type": "code",
   "execution_count": null,
   "id": "f53617e1-48c6-47e5-b4ad-bf90b792dd56",
   "metadata": {},
   "outputs": [],
   "source": []
  }
 ],
 "metadata": {
  "kernelspec": {
   "display_name": "Python 3",
   "language": "python",
   "name": "python3"
  },
  "language_info": {
   "codemirror_mode": {
    "name": "ipython",
    "version": 3
   },
   "file_extension": ".py",
   "mimetype": "text/x-python",
   "name": "python",
   "nbconvert_exporter": "python",
   "pygments_lexer": "ipython3",
   "version": "3.9.6"
  }
 },
 "nbformat": 4,
 "nbformat_minor": 5
}
