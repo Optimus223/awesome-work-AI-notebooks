{
 "cells": [
  {
   "cell_type": "markdown",
   "id": "awful-congo",
   "metadata": {
    "papermill": {},
    "tags": []
   },
   "source": [
    "<img width=\"10%\" alt=\"Naas\" src=\"https://landen.imgix.net/jtci2pxwjczr/assets/5ice39g4.png?w=160\"/>"
   ]
  },
  {
   "cell_type": "markdown",
   "id": "connected-syndicate",
   "metadata": {
    "papermill": {},
    "tags": []
   },
   "source": [
    "# Gmail - Clean mailbox\n",
    "<a href=\"https://app.naas.ai/user-redirect/naas/downloader?url=https://raw.githubusercontent.com/jupyter-naas/awesome-notebooks/master/Gmail/Gmail_Clean_mailbox.ipynb\" target=\"_parent\"><img src=\"https://img.shields.io/badge/-Open%20in%20Naas-success?labelColor=000000&logo=data:image/svg+xml;base64,PD94bWwgdmVyc2lvbj0iMS4wIiBlbmNvZGluZz0iVVRGLTgiPz4KPHN2ZyB3aWR0aD0iMTAyNHB4IiBoZWlnaHQ9IjEwMjRweCIgdmlld0JveD0iMCAwIDEwMjQgMTAyNCIgeG1sbnM9Imh0dHA6Ly93d3cudzMub3JnLzIwMDAvc3ZnIiB4bWxuczp4bGluaz0iaHR0cDovL3d3dy53My5vcmcvMTk5OS94bGluayIgdmVyc2lvbj0iMS4xIj4KIDwhLS0gR2VuZXJhdGVkIGJ5IFBpeGVsbWF0b3IgUHJvIDIuMC41IC0tPgogPGRlZnM+CiAgPHRleHQgaWQ9InN0cmluZyIgdHJhbnNmb3JtPSJtYXRyaXgoMS4wIDAuMCAwLjAgMS4wIDIyOC4wIDU0LjUpIiBmb250LWZhbWlseT0iQ29tZm9ydGFhLVJlZ3VsYXIsIENvbWZvcnRhYSIgZm9udC1zaXplPSI4MDAiIHRleHQtZGVjb3JhdGlvbj0ibm9uZSIgZmlsbD0iI2ZmZmZmZiIgeD0iMS4xOTk5OTk5OTk5OTk5ODg2IiB5PSI3MDUuMCI+bjwvdGV4dD4KIDwvZGVmcz4KIDx1c2UgaWQ9Im4iIHhsaW5rOmhyZWY9IiNzdHJpbmciLz4KPC9zdmc+Cg==\"/></a>"
   ]
  },
  {
   "cell_type": "markdown",
   "id": "tags_cell",
   "metadata": {
    "papermill": {},
    "tags": []
   },
   "source": [
    "**Tags:** #gmail #productivity"
   ]
  },
  {
   "cell_type": "markdown",
   "id": "input_cell",
   "metadata": {
    "papermill": {},
    "tags": []
   },
   "source": [
    "## Input"
   ]
  },
  {
   "cell_type": "markdown",
   "id": "6ef3cd26-29b9-4770-8dbc-915c9584d1d3",
   "metadata": {},
   "source": [
    "### Import libraries"
   ]
  },
  {
   "cell_type": "code",
   "execution_count": null,
   "id": "ff1a48c6-d7c1-410a-b1cf-d9ded25e249d",
   "metadata": {},
   "outputs": [],
   "source": [
    "import naas\n",
    "from naas_drivers import email\n",
    "import pandas as pd\n",
    "import numpy as np\n",
    "import plotly.express as px"
   ]
  },
  {
   "cell_type": "markdown",
   "id": "urban-consumer",
   "metadata": {
    "papermill": {},
    "tags": []
   },
   "source": [
    "### Account credentials"
   ]
  },
  {
   "cell_type": "code",
   "execution_count": 1,
   "id": "impressed-steps",
   "metadata": {
    "papermill": {},
    "tags": []
   },
   "outputs": [],
   "source": [
    "username = \"**********@gmail.com\"\n",
    "password = \"**********\"\n",
    "smtp_server = \"imap.gmail.com\"\n",
    "box = \"INBOX\""
   ]
  },
  {
   "cell_type": "markdown",
   "id": "gentle-still",
   "metadata": {
    "papermill": {},
    "tags": []
   },
   "source": [
    "Note: You need to create an application password following this procedure - https://support.google.com/mail/answer/185833?hl=en"
   ]
  },
  {
   "cell_type": "markdown",
   "id": "model_cell",
   "metadata": {
    "papermill": {},
    "tags": []
   },
   "source": [
    "## Model"
   ]
  },
  {
   "cell_type": "markdown",
   "id": "recognized-physiology",
   "metadata": {
    "papermill": {},
    "tags": []
   },
   "source": [
    "### Connect to email box"
   ]
  },
  {
   "cell_type": "code",
   "execution_count": 2,
   "id": "accepted-setting",
   "metadata": {
    "papermill": {},
    "tags": []
   },
   "outputs": [],
   "source": [
    "emails = naas_drivers.email.connect(username, \n",
    "        password, \n",
    "        username, \n",
    "        smtp_server)"
   ]
  },
  {
   "cell_type": "markdown",
   "id": "healthy-nudist",
   "metadata": {
    "papermill": {},
    "tags": []
   },
   "source": [
    "### Get email list"
   ]
  },
  {
   "cell_type": "code",
   "execution_count": 3,
   "id": "governmental-symbol",
   "metadata": {
    "papermill": {},
    "tags": []
   },
   "outputs": [],
   "source": [
    "dataframe = emails.get(criteria=\"ALL\")\n",
    "dataframe"
   ]
  },
  {
   "cell_type": "markdown",
   "id": "romance-cleaning",
   "metadata": {
    "papermill": {},
    "tags": []
   },
   "source": [
    "### Creating dataframe and inserting values"
   ]
  },
  {
   "cell_type": "code",
   "execution_count": 4,
   "id": "color-index",
   "metadata": {
    "papermill": {},
    "tags": []
   },
   "outputs": [],
   "source": [
    "sender_name = []\n",
    "sender_email = []\n",
    "for df in dataframe[\"from\"]:\n",
    "    sender_name.append(df['name'])\n",
    "    sender_email.append(df['email'])\n",
    "result = pd.DataFrame(columns = ['SENDER_NAME','SENDER_EMAIL','COUNT','PERCENTAGE'])\n",
    "indexes = np.unique(sender_name, return_index=True)[1]\n",
    "[sender_name[index] for index in sorted(indexes)]\n",
    "\n",
    "indexes = np.unique(sender_email, return_index=True)[1]\n",
    "[sender_email[index] for index in sorted(indexes)]\n",
    "total_email = len(emails.get(criteria=\"ALL\"))\n",
    "c = 0\n",
    "for i in sender_email:\n",
    "    new_row = {'SENDER_NAME':sender_name[c],'SENDER_EMAIL':i,'COUNT':sender_email.count(i),'PERCENTAGE':round(((sender_email.count(i))/total_email)*100)}\n",
    "    result = result.append(new_row, ignore_index=True)\n",
    "    c+=1\n",
    "result = result.drop_duplicates()\n",
    "result.sort_values(by=['COUNT'], inplace=True, ascending=False)\n",
    "result"
   ]
  },
  {
   "cell_type": "markdown",
   "id": "numeric-ending",
   "metadata": {
    "papermill": {},
    "tags": []
   },
   "source": [
    "### Email graph plot"
   ]
  },
  {
   "cell_type": "code",
   "execution_count": 13,
   "id": "inner-batman",
   "metadata": {
    "papermill": {},
    "tags": []
   },
   "outputs": [],
   "source": [
    "fig = px.bar(x=result['COUNT'], y=result['SENDER_EMAIL'], orientation='h')\n",
    "fig.show()"
   ]
  },
  {
   "cell_type": "markdown",
   "id": "stuffed-weekend",
   "metadata": {
    "papermill": {},
    "tags": []
   },
   "source": [
    "### Deleting using uid"
   ]
  },
  {
   "cell_type": "code",
   "execution_count": 6,
   "id": "experimental-brick",
   "metadata": {
    "papermill": {},
    "tags": []
   },
   "outputs": [],
   "source": [
    "%%time\n",
    "uid = [21]   #uid of mails to be deleted\n",
    "uid = map(str, uid)  \n",
    "flag = \"DELETED\"\n",
    "for i in uid:\n",
    "    attachments = emails.set_flag(i, flag, True)"
   ]
  },
  {
   "cell_type": "markdown",
   "id": "output_cell",
   "metadata": {
    "papermill": {},
    "tags": []
   },
   "source": [
    "## Output"
   ]
  },
  {
   "cell_type": "markdown",
   "id": "lasting-venue",
   "metadata": {
    "papermill": {},
    "tags": []
   },
   "source": [
    "### Deleting using email id"
   ]
  },
  {
   "cell_type": "code",
   "execution_count": 7,
   "id": "dressed-nevada",
   "metadata": {
    "papermill": {},
    "tags": []
   },
   "outputs": [],
   "source": [
    "d_email = \"notifications@naas.ai\"  # email id to be deleted\n",
    "data_from = dataframe['from']\n",
    "data_uid = dataframe['uid']\n",
    "uid = []\n",
    "for i in range(len(dataframe)):\n",
    "    if data_from[i]['email'] == d_email:\n",
    "        uid.append(data_uid[i])"
   ]
  },
  {
   "cell_type": "markdown",
   "id": "adequate-substitute",
   "metadata": {
    "papermill": {},
    "tags": []
   },
   "source": [
    "### Deleting the emails"
   ]
  },
  {
   "cell_type": "code",
   "execution_count": 9,
   "id": "tough-power",
   "metadata": {
    "papermill": {},
    "tags": []
   },
   "outputs": [],
   "source": [
    "for i in uid:\n",
    "    attachments = emails.set_flag(i, \"DELETED\", True)"
   ]
  },
  {
   "cell_type": "markdown",
   "id": "changed-bacon",
   "metadata": {
    "papermill": {},
    "tags": []
   },
   "source": [
    "### Showing the upated email list"
   ]
  },
  {
   "cell_type": "code",
   "execution_count": 10,
   "id": "going-transaction",
   "metadata": {
    "papermill": {},
    "tags": []
   },
   "outputs": [],
   "source": [
    "dataframe = emails.get(criteria=\"ALL\")\n",
    "dataframe"
   ]
  }
 ],
 "metadata": {
  "kernelspec": {
   "display_name": "Python 3",
   "language": "python",
   "name": "python3"
  },
  "language_info": {
   "codemirror_mode": {
    "name": "ipython",
    "version": 3
   },
   "file_extension": ".py",
   "mimetype": "text/x-python",
   "name": "python",
   "nbconvert_exporter": "python",
   "pygments_lexer": "ipython3",
   "version": "3.8.8"
  },
  "papermill": {
   "default_parameters": {},
   "environment_variables": {},
   "parameters": {},
   "version": "2.3.3"
  }
 },
 "nbformat": 4,
 "nbformat_minor": 5
}
