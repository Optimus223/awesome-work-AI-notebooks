{
 "cells": [
  {
   "cell_type": "markdown",
   "id": "awful-congo",
   "metadata": {
    "papermill": {},
    "tags": []
   },
   "source": [
    "<img width=\"10%\" alt=\"Naas\" src=\"https://landen.imgix.net/jtci2pxwjczr/assets/5ice39g4.png?w=160\"/>"
   ]
  },
  {
   "cell_type": "markdown",
   "id": "connected-syndicate",
   "metadata": {
    "papermill": {},
    "tags": []
   },
   "source": [
    "# Gmail - Clean mailbox\n",
    "<a href=\"https://app.naas.ai/user-redirect/naas/downloader?url=https://raw.githubusercontent.com/jupyter-naas/awesome-notebooks/master/Gmail/Gmail_Clean_mailbox.ipynb\" target=\"_parent\"><img src=\"https://naasai-public.s3.eu-west-3.amazonaws.com/open_in_naas.svg\"/></a><br><br><a href=\"https://github.com/jupyter-naas/awesome-notebooks/issues/new?assignees=&labels=&template=template-request.md&title=Tool+-+Action+of+the+notebook+\">Template request</a> | <a href=\"https://github.com/jupyter-naas/awesome-notebooks/issues/new?assignees=&labels=bug&template=bug_report.md&title=Gmail+-+Clean+mailbox:+Error+short+description\">Bug report</a>"
   ]
  },
  {
   "cell_type": "markdown",
   "id": "tags_cell",
   "metadata": {
    "papermill": {},
    "tags": []
   },
   "source": [
    "**Tags:** #gmail #productivity #naas_drivers #operations #analytics #plotly"
   ]
  },
  {
   "cell_type": "markdown",
   "id": "ca0a4f8a-089c-4155-9572-654b4eaca549",
   "metadata": {
    "papermill": {},
    "tags": []
   },
   "source": [
    "**Author:** [Martin Donadieu](https://www.linkedin.com/in/martindonadieu)"
   ]
  },
  {
   "cell_type": "markdown",
   "id": "naas-description",
   "metadata": {
    "papermill": {},
    "tags": [
     "description"
    ]
   },
   "source": "**Description:** This notebook helps you quickly and easily organize your Gmail inbox by removing unwanted emails."
  },
  {
   "cell_type": "markdown",
   "id": "input_cell",
   "metadata": {
    "papermill": {},
    "tags": []
   },
   "source": [
    "## Input"
   ]
  },
  {
   "cell_type": "markdown",
   "id": "6ef3cd26-29b9-4770-8dbc-915c9584d1d3",
   "metadata": {
    "papermill": {},
    "tags": []
   },
   "source": [
    "### Import libraries"
   ]
  },
  {
   "cell_type": "code",
   "execution_count": null,
   "id": "ff1a48c6-d7c1-410a-b1cf-d9ded25e249d",
   "metadata": {
    "papermill": {},
    "tags": []
   },
   "outputs": [],
   "source": "import naas\nfrom naas_drivers import email\nimport pandas as pd\nimport numpy as np\nimport plotly.express as px"
  },
  {
   "cell_type": "markdown",
   "id": "urban-consumer",
   "metadata": {
    "papermill": {},
    "tags": []
   },
   "source": [
    "### Account credentials"
   ]
  },
  {
   "cell_type": "code",
   "execution_count": 1,
   "id": "impressed-steps",
   "metadata": {
    "papermill": {},
    "tags": []
   },
   "outputs": [],
   "source": "username = \"**********@gmail.com\"\npassword = \"**********\"\nsmtp_server = \"imap.gmail.com\"\nbox = \"INBOX\""
  },
  {
   "cell_type": "markdown",
   "id": "gentle-still",
   "metadata": {
    "papermill": {},
    "tags": []
   },
   "source": [
    "Note: You need to create an application password following this procedure - https://support.google.com/mail/answer/185833?hl=en"
   ]
  },
  {
   "cell_type": "markdown",
   "id": "model_cell",
   "metadata": {
    "papermill": {},
    "tags": []
   },
   "source": [
    "## Model"
   ]
  },
  {
   "cell_type": "markdown",
   "id": "recognized-physiology",
   "metadata": {
    "papermill": {},
    "tags": []
   },
   "source": [
    "### Connect to email box"
   ]
  },
  {
   "cell_type": "code",
   "execution_count": 2,
   "id": "accepted-setting",
   "metadata": {
    "papermill": {},
    "tags": []
   },
   "outputs": [],
   "source": "emails = naas_drivers.email.connect(username, password, username, smtp_server)"
  },
  {
   "cell_type": "markdown",
   "id": "healthy-nudist",
   "metadata": {
    "papermill": {},
    "tags": []
   },
   "source": [
    "### Get email list"
   ]
  },
  {
   "cell_type": "code",
   "execution_count": 3,
   "id": "governmental-symbol",
   "metadata": {
    "papermill": {},
    "tags": []
   },
   "outputs": [],
   "source": "dataframe = emails.get(criteria=\"ALL\")\ndataframe"
  },
  {
   "cell_type": "markdown",
   "id": "romance-cleaning",
   "metadata": {
    "papermill": {},
    "tags": []
   },
   "source": [
    "### Creating dataframe and inserting values"
   ]
  },
  {
   "cell_type": "code",
   "execution_count": 4,
   "id": "color-index",
   "metadata": {
    "papermill": {},
    "tags": []
   },
   "outputs": [],
   "source": "sender_name = []\nsender_email = []\nfor df in dataframe[\"from\"]:\n    sender_name.append(df[\"name\"])\n    sender_email.append(df[\"email\"])\nresult = pd.DataFrame(columns=[\"SENDER_NAME\", \"SENDER_EMAIL\", \"COUNT\", \"PERCENTAGE\"])\nindexes = np.unique(sender_name, return_index=True)[1]\n[sender_name[index] for index in sorted(indexes)]\n\nindexes = np.unique(sender_email, return_index=True)[1]\n[sender_email[index] for index in sorted(indexes)]\ntotal_email = len(emails.get(criteria=\"ALL\"))\nc = 0\nfor i in sender_email:\n    new_row = {\n        \"SENDER_NAME\": sender_name[c],\n        \"SENDER_EMAIL\": i,\n        \"COUNT\": sender_email.count(i),\n        \"PERCENTAGE\": round(((sender_email.count(i)) / total_email) * 100),\n    }\n    result = result.append(new_row, ignore_index=True)\n    c += 1\nresult = result.drop_duplicates()\nresult.sort_values(by=[\"COUNT\"], inplace=True, ascending=False)\nresult"
  },
  {
   "cell_type": "markdown",
   "id": "numeric-ending",
   "metadata": {
    "papermill": {},
    "tags": []
   },
   "source": [
    "### Email graph plot"
   ]
  },
  {
   "cell_type": "code",
   "execution_count": 13,
   "id": "inner-batman",
   "metadata": {
    "papermill": {},
    "tags": []
   },
   "outputs": [],
   "source": "fig = px.bar(x=result[\"COUNT\"], y=result[\"SENDER_EMAIL\"], orientation=\"h\")\nfig.show()"
  },
  {
   "cell_type": "markdown",
   "id": "stuffed-weekend",
   "metadata": {
    "papermill": {},
    "tags": []
   },
   "source": [
    "### Deleting using uid"
   ]
  },
  {
   "cell_type": "code",
   "execution_count": 6,
   "id": "experimental-brick",
   "metadata": {
    "papermill": {},
    "tags": []
   },
   "outputs": [],
   "source": "%%time\nuid = [21]   #uid of mails to be deleted\nuid = map(str, uid)  \nflag = \"DELETED\"\nfor i in uid:\n    attachments = emails.set_flag(i, flag, True)"
  },
  {
   "cell_type": "markdown",
   "id": "output_cell",
   "metadata": {
    "papermill": {},
    "tags": []
   },
   "source": [
    "## Output"
   ]
  },
  {
   "cell_type": "markdown",
   "id": "lasting-venue",
   "metadata": {
    "papermill": {},
    "tags": []
   },
   "source": [
    "### Deleting using email id"
   ]
  },
  {
   "cell_type": "code",
   "execution_count": 7,
   "id": "dressed-nevada",
   "metadata": {
    "papermill": {},
    "tags": []
   },
   "outputs": [],
   "source": "d_email = \"notifications@naas.ai\"  # email id to be deleted\ndata_from = dataframe[\"from\"]\ndata_uid = dataframe[\"uid\"]\nuid = []\nfor i in range(len(dataframe)):\n    if data_from[i][\"email\"] == d_email:\n        uid.append(data_uid[i])"
  },
  {
   "cell_type": "markdown",
   "id": "adequate-substitute",
   "metadata": {
    "papermill": {},
    "tags": []
   },
   "source": [
    "### Deleting the emails"
   ]
  },
  {
   "cell_type": "code",
   "execution_count": 9,
   "id": "tough-power",
   "metadata": {
    "papermill": {},
    "tags": []
   },
   "outputs": [],
   "source": "for i in uid:\n    attachments = emails.set_flag(i, \"DELETED\", True)"
  },
  {
   "cell_type": "markdown",
   "id": "changed-bacon",
   "metadata": {
    "papermill": {},
    "tags": []
   },
   "source": [
    "### Showing the upated email list"
   ]
  },
  {
   "cell_type": "code",
   "execution_count": 10,
   "id": "going-transaction",
   "metadata": {
    "papermill": {},
    "tags": []
   },
   "outputs": [],
   "source": "dataframe = emails.get(criteria=\"ALL\")\ndataframe"
  }
 ],
 "metadata": {
  "kernelspec": {
   "display_name": "Python 3",
   "language": "python",
   "name": "python3"
  },
  "language_info": {
   "codemirror_mode": {
    "name": "ipython",
    "version": 3
   },
   "file_extension": ".py",
   "mimetype": "text/x-python",
   "name": "python",
   "nbconvert_exporter": "python",
   "pygments_lexer": "ipython3",
   "version": "3.9.6"
  },
  "naas": {
   "notebook_id": "089a7bfa-6f9a-4850-9792-5b70ca411eca",
   "notebook_path": "Gmail/Gmail_Clean_mailbox.ipynb"
  },
  "papermill": {
   "default_parameters": {},
   "environment_variables": {},
   "parameters": {},
   "version": "2.3.3"
  }
 },
 "nbformat": 4,
 "nbformat_minor": 5
}