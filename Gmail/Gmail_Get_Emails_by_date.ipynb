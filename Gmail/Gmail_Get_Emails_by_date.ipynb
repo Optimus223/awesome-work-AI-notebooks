{
 "cells": [
  {
   "cell_type": "markdown",
   "id": "sustainable-insert",
   "metadata": {
    "papermill": {},
    "tags": []
   },
   "source": [
    "<img width=\"10%\" alt=\"Naas\" src=\"https://landen.imgix.net/jtci2pxwjczr/assets/5ice39g4.png?w=160\"/>"
   ]
  },
  {
   "cell_type": "markdown",
   "id": "forty-morocco",
   "metadata": {
    "papermill": {},
    "tags": []
   },
   "source": [
    "# Gmail - Get emails by date\n",
    "<a href=\"https://app.naas.ai/user-redirect/naas/downloader?url=https://raw.githubusercontent.com/jupyter-naas/awesome-notebooks/master/Gmail/Gmail_Get_emails_stats_by_sender.ipynb\" target=\"_parent\"><img src=\"https://naasai-public.s3.eu-west-3.amazonaws.com/Open_in_Naas_Lab.svg\"/></a><br><br><a href=\"https://bit.ly/3JyWIk6\">Give Feedbacks</a> | <a href=\"https://app.naas.ai/user-redirect/naas/downloader?url=https://raw.githubusercontent.com/jupyter-naas/awesome-notebooks/master/Naas/Naas_Start_data_product.ipynb\" target=\"_parent\">Generate Data Product</a>"
   ]
  },
  {
   "cell_type": "markdown",
   "id": "tags_cell",
   "metadata": {
    "papermill": {},
    "tags": []
   },
   "source": [
    "**Tags:** #gmail #productivity #naas_drivers #operations #automation #analytics #plotly"
   ]
  },
  {
   "cell_type": "markdown",
   "id": "367e326e-ad83-445f-b847-666e9e1e79b3",
   "metadata": {
    "papermill": {},
    "tags": []
   },
   "source": [
    "**Author:** [Antonio Georgiev](www.linkedin.com/in/antonio-georgiev-b672a325b)"
   ]
  },
  {
   "cell_type": "markdown",
   "id": "naas-description",
   "metadata": {
    "papermill": {},
    "tags": [
     "description"
    ]
   },
   "source": [
    "**Description:** This notebook allows users to get emails by date."
   ]
  },
  {
   "cell_type": "markdown",
   "id": "input_cell",
   "metadata": {
    "papermill": {},
    "tags": []
   },
   "source": [
    "## Input"
   ]
  },
  {
   "cell_type": "markdown",
   "id": "136b8959-cdb1-42bb-aaf9-2321b2da134d",
   "metadata": {
    "papermill": {},
    "tags": []
   },
   "source": [
    "### Import libraries"
   ]
  },
  {
   "cell_type": "code",
   "execution_count": 20,
   "id": "civil-possible",
   "metadata": {
    "execution": {
     "iopub.execute_input": "2023-07-06T07:30:36.455445Z",
     "iopub.status.busy": "2023-07-06T07:30:36.455209Z",
     "iopub.status.idle": "2023-07-06T07:30:36.460444Z",
     "shell.execute_reply": "2023-07-06T07:30:36.459849Z",
     "shell.execute_reply.started": "2023-07-06T07:30:36.455421Z"
    },
    "papermill": {},
    "tags": []
   },
   "outputs": [],
   "source": [
    "import naas\n",
    "from naas_drivers import email\n",
    "import pandas as pd\n",
    "import numpy as np\n",
    "import plotly.express as px\n",
    "from datetime import date"
   ]
  },
  {
   "cell_type": "markdown",
   "id": "copyrighted-lighter",
   "metadata": {
    "papermill": {},
    "tags": []
   },
   "source": [
    "### Setup Variables\n",
    "Create an application password following [this procedure](https://support.google.com/mail/answer/185833?hl=en)\n",
    "- `username`: This variable stores the username or email address associated with the email account\n",
    "- `password`: This variable stores the password or authentication token required to access the email account\n",
    "- `smtp_server`: This variable represents the SMTP server address used for sending emails.\n",
    "- `box`: This variable stores the name or identifier of the mailbox or folder within the email account that will be accessed."
   ]
  },
  {
   "cell_type": "code",
   "execution_count": 21,
   "id": "handed-rolling",
   "metadata": {
    "execution": {
     "iopub.execute_input": "2023-07-06T07:30:37.115711Z",
     "iopub.status.busy": "2023-07-06T07:30:37.115473Z",
     "iopub.status.idle": "2023-07-06T07:30:37.262110Z",
     "shell.execute_reply": "2023-07-06T07:30:37.261241Z",
     "shell.execute_reply.started": "2023-07-06T07:30:37.115685Z"
    },
    "papermill": {},
    "tags": []
   },
   "outputs": [],
   "source": [
    "username = \"xxxxx@xxxx\"\n",
    "password = naas.secret.get(\"GMAIL_APP_PASSWORD\")\n",
    "smtp_server = \"imap.gmail.com\"\n",
    "box = \"INBOX\"\n",
    "date = date(2023, 6, 5)\n",
    "condition = \"on\" # \"on\", \"before\", \"after or on\""
   ]
  },
  {
   "cell_type": "markdown",
   "id": "model_cell",
   "metadata": {
    "papermill": {},
    "tags": []
   },
   "source": [
    "## Model"
   ]
  },
  {
   "cell_type": "markdown",
   "id": "opposite-simon",
   "metadata": {
    "papermill": {},
    "tags": []
   },
   "source": [
    "### Connect to email box"
   ]
  },
  {
   "cell_type": "code",
   "execution_count": 12,
   "id": "painted-harvard",
   "metadata": {
    "execution": {
     "iopub.execute_input": "2023-07-06T07:27:39.276110Z",
     "iopub.status.busy": "2023-07-06T07:27:39.275873Z",
     "iopub.status.idle": "2023-07-06T07:27:39.279303Z",
     "shell.execute_reply": "2023-07-06T07:27:39.278628Z",
     "shell.execute_reply.started": "2023-07-06T07:27:39.276086Z"
    },
    "papermill": {},
    "tags": []
   },
   "outputs": [],
   "source": [
    "emails = email.connect(username, password, username, smtp_server)"
   ]
  },
  {
   "cell_type": "markdown",
   "id": "adopted-tolerance",
   "metadata": {
    "papermill": {},
    "tags": []
   },
   "source": [
    "### Get email list on a certain date"
   ]
  },
  {
   "cell_type": "code",
   "execution_count": 8,
   "id": "republican-underwear",
   "metadata": {
    "execution": {
     "iopub.execute_input": "2023-07-06T07:26:36.783693Z",
     "iopub.status.busy": "2023-07-06T07:26:36.783459Z",
     "iopub.status.idle": "2023-07-06T07:26:38.771087Z",
     "shell.execute_reply": "2023-07-06T07:26:38.770457Z",
     "shell.execute_reply.started": "2023-07-06T07:26:36.783667Z"
    },
    "papermill": {},
    "tags": []
   },
   "outputs": [
    {
     "name": "stdout",
     "output_type": "stream",
     "text": [
      "6\n"
     ]
    }
   ],
   "source": [
    "sorted_emails = emails.get_emails_by_date(date=date, condition=condition)\n",
    "print(len(sorted_emails))"
   ]
  },
  {
   "cell_type": "markdown",
   "id": "6fc5da35-2b1e-44cc-adad-82234440be67",
   "metadata": {},
   "source": [
    "### Get email list before a certain date"
   ]
  },
  {
   "cell_type": "code",
   "execution_count": 13,
   "id": "1e7cff9a-aaaa-4eb3-89bb-c775dffb392e",
   "metadata": {
    "execution": {
     "iopub.execute_input": "2023-07-06T07:27:41.577256Z",
     "iopub.status.busy": "2023-07-06T07:27:41.577006Z",
     "iopub.status.idle": "2023-07-06T07:27:43.421226Z",
     "shell.execute_reply": "2023-07-06T07:27:43.419992Z",
     "shell.execute_reply.started": "2023-07-06T07:27:41.577226Z"
    }
   },
   "outputs": [
    {
     "name": "stdout",
     "output_type": "stream",
     "text": [
      "7\n"
     ]
    }
   ],
   "source": [
    "condition = \"before\"\n",
    "sorted_emails = emails.get_emails_by_date(date=date, condition=condition)\n",
    "print(len(sorted_emails))"
   ]
  },
  {
   "cell_type": "markdown",
   "id": "952d1e32-4b4a-40f7-97e7-9e413862b10f",
   "metadata": {},
   "source": [
    "### Get email list after or on a certain date"
   ]
  },
  {
   "cell_type": "code",
   "execution_count": 17,
   "id": "0c71d808-3e44-41bd-a7d9-b3e97a73260b",
   "metadata": {
    "execution": {
     "iopub.execute_input": "2023-07-06T07:29:35.227173Z",
     "iopub.status.busy": "2023-07-06T07:29:35.226891Z",
     "iopub.status.idle": "2023-07-06T07:29:58.543712Z",
     "shell.execute_reply": "2023-07-06T07:29:58.543096Z",
     "shell.execute_reply.started": "2023-07-06T07:29:35.227128Z"
    }
   },
   "outputs": [
    {
     "name": "stdout",
     "output_type": "stream",
     "text": [
      "149\n"
     ]
    }
   ],
   "source": [
    "condition = \"after or on\"\n",
    "sorted_emails = emails.get_emails_by_date(date=date, condition=condition)\n",
    "print(len(sorted_emails))"
   ]
  },
  {
   "cell_type": "markdown",
   "id": "output_cell",
   "metadata": {
    "papermill": {},
    "tags": []
   },
   "source": [
    "## Output"
   ]
  },
  {
   "cell_type": "markdown",
   "id": "protective-bookmark",
   "metadata": {
    "papermill": {},
    "tags": []
   },
   "source": [
    "### Email graph plot"
   ]
  },
  {
   "cell_type": "code",
   "execution_count": null,
   "id": "b50b025c-1906-4b54-996f-fbb4a92f09b8",
   "metadata": {},
   "outputs": [],
   "source": [
    "sorted_emails"
   ]
  }
 ],
 "metadata": {
  "kernelspec": {
   "display_name": "Python 3",
   "language": "python",
   "name": "python3"
  },
  "language_info": {
   "codemirror_mode": {
    "name": "ipython",
    "version": 3
   },
   "file_extension": ".py",
   "mimetype": "text/x-python",
   "name": "python",
   "nbconvert_exporter": "python",
   "pygments_lexer": "ipython3",
   "version": "3.9.6"
  },
  "naas": {
   "notebook_id": "9d0515a1c77f00567dfb9833c75af19c3c9b24efd7b7a6e0a6d53ef0de00fcd0",
   "notebook_path": "Gmail/Gmail_Get_emails_stats_by_sender.ipynb"
  },
  "papermill": {
   "default_parameters": {},
   "environment_variables": {},
   "parameters": {},
   "version": "2.3.3"
  }
 },
 "nbformat": 4,
 "nbformat_minor": 5
}
