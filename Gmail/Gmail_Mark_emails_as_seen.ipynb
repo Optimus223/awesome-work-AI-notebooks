{
 "cells": [
  {
   "cell_type": "markdown",
   "id": "bf5dc355-1311-4004-8b2b-abfcc5ce82f2",
   "metadata": {
    "papermill": {},
    "tags": []
   },
   "source": [
    "<img width=\"10%\" alt=\"Naas\" src=\"https://landen.imgix.net/jtci2pxwjczr/assets/5ice39g4.png?w=160\"/>"
   ]
  },
  {
   "cell_type": "markdown",
   "id": "45637f96-2c01-470b-b175-775f441e23e2",
   "metadata": {
    "papermill": {},
    "tags": []
   },
   "source": [
    "# Gmail - Mark emails as seen\n",
    "<a href=\"https://app.naas.ai/user-redirect/naas/downloader?url=https://raw.githubusercontent.com/jupyter-naas/awesome-notebooks/master/Gmail/Gmail_Get_seen_emails.ipynb\" target=\"_parent\"><img src=\"https://naasai-public.s3.eu-west-3.amazonaws.com/Open_in_Naas_Lab.svg\"/></a><br><br><a href=\"https://bit.ly/3JyWIk6\">Give Feedbacks</a> | <a href=\"https://app.naas.ai/user-redirect/naas/downloader?url=https://raw.githubusercontent.com/jupyter-naas/awesome-notebooks/master/Naas/Naas_Start_data_product.ipynb\" target=\"_parent\">Generate Data Product</a>"
   ]
  },
  {
   "cell_type": "markdown",
   "id": "ddcebba7-4a40-45d2-b83e-72a7513a1660",
   "metadata": {
    "papermill": {},
    "tags": []
   },
   "source": [
    "**Tags:** #gmail #productivity #naas_drivers #operations #snippet #dataframe"
   ]
  },
  {
   "cell_type": "markdown",
   "id": "f55cd5d1-8f6e-458b-a59e-a258bded8346",
   "metadata": {
    "papermill": {},
    "tags": []
   },
   "source": [
    "**Author:** [Antonio Georgiev](www.linkedin.com/in/antonio-georgiev-b672a325b)"
   ]
  },
  {
   "cell_type": "markdown",
   "id": "2b5999ac-0862-43f2-b6dc-ace799080cea",
   "metadata": {
    "papermill": {},
    "tags": [
     "description"
    ]
   },
   "source": [
    "**Description:** This notebook goes through the emails within the date range set by the user and marks them all as seen."
   ]
  },
  {
   "cell_type": "markdown",
   "id": "7057d03b-e1e5-4f03-bd9f-579889681498",
   "metadata": {
    "papermill": {},
    "tags": []
   },
   "source": [
    "## Input"
   ]
  },
  {
   "cell_type": "markdown",
   "id": "2dd10407-0a8b-4f40-88cc-c4813f0ebab2",
   "metadata": {
    "papermill": {},
    "tags": []
   },
   "source": [
    "### Import librairy"
   ]
  },
  {
   "cell_type": "code",
   "execution_count": 9,
   "id": "11f52fae-946f-467c-bfd5-d490fdeb7794",
   "metadata": {
    "execution": {
     "iopub.execute_input": "2023-07-21T07:07:02.828466Z",
     "iopub.status.busy": "2023-07-21T07:07:02.828235Z",
     "iopub.status.idle": "2023-07-21T07:07:02.832428Z",
     "shell.execute_reply": "2023-07-21T07:07:02.831789Z",
     "shell.execute_reply.started": "2023-07-21T07:07:02.828443Z"
    },
    "papermill": {},
    "tags": []
   },
   "outputs": [],
   "source": [
    "import naas\n",
    "import imaplib\n",
    "import email\n",
    "from datetime import date\n",
    "try:\n",
    "    from imapclient import IMAPClient\n",
    "except:\n",
    "    !pip install imapclient --user\n",
    "    from imapclient import IMAPClient\n",
    "from datetime import timedelta"
   ]
  },
  {
   "cell_type": "markdown",
   "id": "bf9f67ea-3654-4912-ae9c-6de46d3bdd0b",
   "metadata": {
    "papermill": {},
    "tags": []
   },
   "source": [
    "### Setup Variables\n",
    "Create an application password following [this procedure](https://support.google.com/mail/answer/185833?hl=en)\n",
    "- `username`: This variable stores the username or email address associated with the email account\n",
    "- `password`: This variable stores the password or authentication token required to access the email account\n",
    "- `smtp_server`: This variable represents the SMTP server address used for sending emails.\n",
    "- `when`: This variable stores the date that will be used to determine the range\n",
    "- `condition`: This variable stores the condition that will be followed to set the range (eg. before, on, after or on the date)"
   ]
  },
  {
   "cell_type": "code",
   "execution_count": 10,
   "id": "c66a183b-8a06-47fc-af7b-d52856387ec3",
   "metadata": {
    "execution": {
     "iopub.execute_input": "2023-07-21T07:07:03.558749Z",
     "iopub.status.busy": "2023-07-21T07:07:03.558476Z",
     "iopub.status.idle": "2023-07-21T07:07:03.750561Z",
     "shell.execute_reply": "2023-07-21T07:07:03.749955Z",
     "shell.execute_reply.started": "2023-07-21T07:07:03.558720Z"
    },
    "papermill": {},
    "tags": []
   },
   "outputs": [],
   "source": [
    "# Inputs\n",
    "date = date(2023, 7, 20) # year, month, day\n",
    "condition = \"after or on\" # after or on, on, before. Use one of the following condition to determine the date range, whether it is before or after Date\n",
    "username = \"theuniverse.bg@gmail.com\"\n",
    "password = naas.secret.get(\"GMAIL_APP_PASSWORD\")\n",
    "smtp_server = \"imap.gmail.com\""
   ]
  },
  {
   "cell_type": "markdown",
   "id": "2a031bcb-bab2-4f91-8ccd-aa75ac767e5c",
   "metadata": {
    "papermill": {},
    "tags": []
   },
   "source": [
    "## Model"
   ]
  },
  {
   "cell_type": "markdown",
   "id": "d02e7b6a-37e4-44d1-bc29-b86553787f0e",
   "metadata": {
    "papermill": {},
    "tags": []
   },
   "source": [
    "### Connect to email box"
   ]
  },
  {
   "cell_type": "code",
   "execution_count": 11,
   "id": "f14c3efa-987d-4280-8bfa-e3aef58eef11",
   "metadata": {
    "execution": {
     "iopub.execute_input": "2023-07-21T07:07:05.362348Z",
     "iopub.status.busy": "2023-07-21T07:07:05.362115Z",
     "iopub.status.idle": "2023-07-21T07:07:05.839631Z",
     "shell.execute_reply": "2023-07-21T07:07:05.838947Z",
     "shell.execute_reply.started": "2023-07-21T07:07:05.362324Z"
    },
    "papermill": {},
    "tags": []
   },
   "outputs": [
    {
     "name": "stdout",
     "output_type": "stream",
     "text": [
      "✅ Successfully connected to INBOX\n"
     ]
    }
   ],
   "source": [
    "server = IMAPClient('imap.gmail.com')\n",
    "server.login(username, password)\n",
    "server.select_folder('INBOX')\n",
    "print(\"✅ Successfully connected to INBOX\")"
   ]
  },
  {
   "cell_type": "markdown",
   "id": "33fa06bc-b9fa-4edb-95b4-743d96f2ad44",
   "metadata": {
    "papermill": {},
    "tags": []
   },
   "source": [
    "### Get all emails on the date"
   ]
  },
  {
   "cell_type": "code",
   "execution_count": 18,
   "id": "9dbec91e-ead5-413b-95ee-e33ab1d547ba",
   "metadata": {
    "execution": {
     "iopub.execute_input": "2023-07-21T07:15:36.012637Z",
     "iopub.status.busy": "2023-07-21T07:15:36.012405Z",
     "iopub.status.idle": "2023-07-21T07:15:37.334200Z",
     "shell.execute_reply": "2023-07-21T07:15:37.333396Z",
     "shell.execute_reply.started": "2023-07-21T07:15:36.012613Z"
    },
    "tags": []
   },
   "outputs": [],
   "source": [
    "condition = \"ON\"\n",
    "all_messages = server.search([condition, date.strftime('%d-%b-%Y')])\n",
    "\n",
    "for message_id in all_messages:\n",
    "    server.set_flags(message_id, [b'\\\\Seen'])"
   ]
  },
  {
   "cell_type": "markdown",
   "id": "af791848-1a7d-4d31-a85f-b5f22fa49ac4",
   "metadata": {
    "papermill": {},
    "tags": []
   },
   "source": [
    "### Get all emails after the date"
   ]
  },
  {
   "cell_type": "code",
   "execution_count": 18,
   "id": "392be9b3-c33f-4d63-bcce-0c7fe6848440",
   "metadata": {
    "execution": {
     "iopub.execute_input": "2023-07-21T07:15:36.012637Z",
     "iopub.status.busy": "2023-07-21T07:15:36.012405Z",
     "iopub.status.idle": "2023-07-21T07:15:37.334200Z",
     "shell.execute_reply": "2023-07-21T07:15:37.333396Z",
     "shell.execute_reply.started": "2023-07-21T07:15:36.012613Z"
    },
    "tags": []
   },
   "outputs": [],
   "source": [
    "condition = \"SINCE\"\n",
    "all_messages = server.search([condition, date.strftime('%d-%b-%Y')])\n",
    "\n",
    "for message_id in all_messages:\n",
    "    server.set_flags(message_id, [b'\\\\Seen'])"
   ]
  },
  {
   "cell_type": "markdown",
   "id": "a3715607-839e-4358-bba7-0ec65d540572",
   "metadata": {
    "papermill": {},
    "tags": []
   },
   "source": [
    "### Get all emails before the date"
   ]
  },
  {
   "cell_type": "code",
   "execution_count": 18,
   "id": "dfa101d5-dda1-449c-a11e-5963f9dfcdca",
   "metadata": {
    "execution": {
     "iopub.execute_input": "2023-07-21T07:15:36.012637Z",
     "iopub.status.busy": "2023-07-21T07:15:36.012405Z",
     "iopub.status.idle": "2023-07-21T07:15:37.334200Z",
     "shell.execute_reply": "2023-07-21T07:15:37.333396Z",
     "shell.execute_reply.started": "2023-07-21T07:15:36.012613Z"
    },
    "tags": []
   },
   "outputs": [],
   "source": [
    "condition = \"BEFORE\"\n",
    "all_messages = server.search([condition, date.strftime('%d-%b-%Y')])\n",
    "\n",
    "for message_id in all_messages:\n",
    "    server.set_flags(message_id, [b'\\\\Seen'])"
   ]
  },
  {
   "cell_type": "markdown",
   "id": "12c83411-59b7-4c51-8867-4e26d14715c8",
   "metadata": {
    "papermill": {},
    "tags": []
   },
   "source": [
    "## Output"
   ]
  },
  {
   "cell_type": "code",
   "execution_count": 19,
   "id": "abdabb07-3fc8-4ca0-a8e1-f730c6bdd681",
   "metadata": {
    "execution": {
     "iopub.execute_input": "2023-07-21T07:15:53.489905Z",
     "iopub.status.busy": "2023-07-21T07:15:53.489666Z",
     "iopub.status.idle": "2023-07-21T07:15:53.493419Z",
     "shell.execute_reply": "2023-07-21T07:15:53.492779Z",
     "shell.execute_reply.started": "2023-07-21T07:15:53.489881Z"
    },
    "tags": []
   },
   "outputs": [
    {
     "name": "stdout",
     "output_type": "stream",
     "text": [
      "Emails have been marked as seen\n"
     ]
    }
   ],
   "source": [
    "print(\"Emails have been marked as seen\")"
   ]
  }
 ],
 "metadata": {
  "kernelspec": {
   "display_name": "Python 3",
   "language": "python",
   "name": "python3"
  },
  "language_info": {
   "codemirror_mode": {
    "name": "ipython",
    "version": 3
   },
   "file_extension": ".py",
   "mimetype": "text/x-python",
   "name": "python",
   "nbconvert_exporter": "python",
   "pygments_lexer": "ipython3",
   "version": "3.9.6"
  },
  "naas": {
   "notebook_id": "e8855875aba10e1d9817664191d5f2ae82c89b8addef409700da4edb5c174f1c",
   "notebook_path": "Gmail/Gmail_Get_seen_emails.ipynb"
  },
  "papermill": {
   "default_parameters": {},
   "environment_variables": {},
   "parameters": {},
   "version": "2.3.3"
  }
 },
 "nbformat": 4,
 "nbformat_minor": 5
}
