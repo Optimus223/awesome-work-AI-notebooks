{
 "cells": [
  {
   "cell_type": "markdown",
   "id": "innocent-shock",
   "metadata": {
    "papermill": {},
    "tags": []
   },
   "source": [
    "<img width=\"10%\" alt=\"Naas\" src=\"https://landen.imgix.net/jtci2pxwjczr/assets/5ice39g4.png?w=160\"/>"
   ]
  },
  {
   "cell_type": "markdown",
   "id": "bridal-morocco",
   "metadata": {
    "papermill": {},
    "tags": []
   },
   "source": [
    "# Gmail - Mark emails as seen\n",
    "<a href=\"https://app.naas.ai/user-redirect/naas/downloader?url=https://raw.githubusercontent.com/jupyter-naas/awesome-notebooks/master/Gmail/Gmail_Get_seen_emails.ipynb\" target=\"_parent\"><img src=\"https://naasai-public.s3.eu-west-3.amazonaws.com/Open_in_Naas_Lab.svg\"/></a><br><br><a href=\"https://bit.ly/3JyWIk6\">Give Feedbacks</a> | <a href=\"https://app.naas.ai/user-redirect/naas/downloader?url=https://raw.githubusercontent.com/jupyter-naas/awesome-notebooks/master/Naas/Naas_Start_data_product.ipynb\" target=\"_parent\">Generate Data Product</a>"
   ]
  },
  {
   "cell_type": "markdown",
   "id": "tags_cell",
   "metadata": {
    "papermill": {},
    "tags": []
   },
   "source": [
    "**Tags:** #gmail #productivity #naas_drivers #operations #snippet #dataframe"
   ]
  },
  {
   "cell_type": "markdown",
   "id": "444fb06f-c47d-45c3-a929-3bc21a60f3e7",
   "metadata": {
    "papermill": {},
    "tags": []
   },
   "source": [
    "**Author:** [Antonio Georgiev](www.linkedin.com/in/antonio-georgiev-b672a325b)"
   ]
  },
  {
   "cell_type": "markdown",
   "id": "naas-description",
   "metadata": {
    "papermill": {},
    "tags": [
     "description"
    ]
   },
   "source": [
    "**Description:** This notebook goes through the emails within the date range set by the user and marks them all as seen."
   ]
  },
  {
   "cell_type": "markdown",
   "id": "input_cell",
   "metadata": {
    "papermill": {},
    "tags": []
   },
   "source": [
    "## Input"
   ]
  },
  {
   "cell_type": "markdown",
   "id": "002a9c7f-ffd2-4115-972f-005b50ae0b39",
   "metadata": {
    "papermill": {},
    "tags": []
   },
   "source": [
    "### Import librairy"
   ]
  },
  {
   "cell_type": "code",
   "execution_count": 1,
   "id": "4c20e16c-a416-42cf-8ab8-b28168f16185",
   "metadata": {
    "execution": {
     "iopub.execute_input": "2023-07-07T13:08:46.308386Z",
     "iopub.status.busy": "2023-07-07T13:08:46.308027Z",
     "iopub.status.idle": "2023-07-07T13:08:48.356663Z",
     "shell.execute_reply": "2023-07-07T13:08:48.356023Z",
     "shell.execute_reply.started": "2023-07-07T13:08:46.308313Z"
    },
    "papermill": {},
    "tags": []
   },
   "outputs": [],
   "source": [
    "import naas\n",
    "import datetime\n",
    "from naas_drivers import email"
   ]
  },
  {
   "cell_type": "markdown",
   "id": "2a813bae-e85e-486c-934a-fe4db0b4776a",
   "metadata": {
    "papermill": {},
    "tags": []
   },
   "source": [
    "### Setup Variables\n",
    "Create an application password following [this procedure](https://support.google.com/mail/answer/185833?hl=en)\n",
    "- `username`: This variable stores the username or email address associated with the email account\n",
    "- `password`: This variable stores the password or authentication token required to access the email account\n",
    "- `smtp_server`: This variable represents the SMTP server address used for sending emails.\n",
    "- `box`: This variable stores the name or identifier of the mailbox or folder within the email account that will be accessed.\n",
    "- `criteria`: by default \"ALL\" is returned but you can also filter on \"unseen\" or \"seen\" emails"
   ]
  },
  {
   "cell_type": "code",
   "execution_count": 10,
   "id": "3e02dd40-f5c3-4f25-8db1-a1c01c704417",
   "metadata": {
    "execution": {
     "iopub.execute_input": "2023-07-07T13:19:39.638659Z",
     "iopub.status.busy": "2023-07-07T13:19:39.638412Z",
     "iopub.status.idle": "2023-07-07T13:19:39.789736Z",
     "shell.execute_reply": "2023-07-07T13:19:39.789074Z",
     "shell.execute_reply.started": "2023-07-07T13:19:39.638635Z"
    },
    "papermill": {},
    "tags": []
   },
   "outputs": [],
   "source": [
    "# Inputs\n",
    "date = [1, 3, 2023]\n",
    "condition = \"after or on\" # after or on, on, before. Use one of the following condition to determine the date range, whether it is before or after Date\n",
    "two_weeks_ago = date - datetime.timedelta(days=14)\n",
    "username = \"theuniverse.bg@gmail.com\"\n",
    "password = naas.secret.get(\"GMAIL_APP_PASSWORD\")\n",
    "smtp_server = \"imap.gmail.com\""
   ]
  },
  {
   "cell_type": "markdown",
   "id": "model_cell",
   "metadata": {
    "papermill": {},
    "tags": []
   },
   "source": [
    "## Model"
   ]
  },
  {
   "cell_type": "markdown",
   "id": "remarkable-apartment",
   "metadata": {
    "papermill": {},
    "tags": []
   },
   "source": [
    "### Connect to email box"
   ]
  },
  {
   "cell_type": "code",
   "execution_count": 8,
   "id": "copyrighted-consciousness",
   "metadata": {
    "execution": {
     "iopub.execute_input": "2023-07-07T13:11:24.540293Z",
     "iopub.status.busy": "2023-07-07T13:11:24.540053Z",
     "iopub.status.idle": "2023-07-07T13:11:24.543341Z",
     "shell.execute_reply": "2023-07-07T13:11:24.542692Z",
     "shell.execute_reply.started": "2023-07-07T13:11:24.540263Z"
    },
    "papermill": {},
    "tags": []
   },
   "outputs": [],
   "source": [
    "emails = email.connect(username, password, smtp_server=smtp_server)"
   ]
  },
  {
   "cell_type": "markdown",
   "id": "descending-muslim",
   "metadata": {
    "papermill": {},
    "tags": []
   },
   "source": [
    "### Get all emails within the range"
   ]
  },
  {
   "cell_type": "markdown",
   "id": "0841d6f4-fa86-403a-902a-7d9b669ae452",
   "metadata": {},
   "source": [
    "The function 'get' opens the emails, thus marking them as seen."
   ]
  },
  {
   "cell_type": "code",
   "execution_count": 9,
   "id": "fc9ca916-c144-43da-b498-eecc8e5f7f71",
   "metadata": {
    "execution": {
     "iopub.execute_input": "2023-07-07T13:11:25.266369Z",
     "iopub.status.busy": "2023-07-07T13:11:25.266131Z",
     "iopub.status.idle": "2023-07-07T13:11:37.240516Z",
     "shell.execute_reply": "2023-07-07T13:11:37.239499Z",
     "shell.execute_reply.started": "2023-07-07T13:11:25.266344Z"
    },
    "tags": []
   },
   "outputs": [],
   "source": [
    "sorted_emails = emails.get_emails_by_date(date=two_weeks_ago, condition=condition)"
   ]
  }
 ],
 "metadata": {
  "kernelspec": {
   "display_name": "Python 3",
   "language": "python",
   "name": "python3"
  },
  "language_info": {
   "codemirror_mode": {
    "name": "ipython",
    "version": 3
   },
   "file_extension": ".py",
   "mimetype": "text/x-python",
   "name": "python",
   "nbconvert_exporter": "python",
   "pygments_lexer": "ipython3",
   "version": "3.9.6"
  },
  "naas": {
   "notebook_id": "e8855875aba10e1d9817664191d5f2ae82c89b8addef409700da4edb5c174f1c",
   "notebook_path": "Gmail/Gmail_Get_seen_emails.ipynb"
  },
  "papermill": {
   "default_parameters": {},
   "environment_variables": {},
   "parameters": {},
   "version": "2.3.3"
  }
 },
 "nbformat": 4,
 "nbformat_minor": 5
}
