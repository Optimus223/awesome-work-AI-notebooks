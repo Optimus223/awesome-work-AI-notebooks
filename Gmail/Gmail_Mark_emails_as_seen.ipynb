{
 "cells": [
  {
   "cell_type": "markdown",
   "id": "innocent-shock",
   "metadata": {
    "papermill": {},
    "tags": []
   },
   "source": [
    "<img width=\"10%\" alt=\"Naas\" src=\"https://landen.imgix.net/jtci2pxwjczr/assets/5ice39g4.png?w=160\"/>"
   ]
  },
  {
   "cell_type": "markdown",
   "id": "bridal-morocco",
   "metadata": {
    "papermill": {},
    "tags": []
   },
   "source": [
    "# Gmail - Mark emails as seen\n",
    "<a href=\"https://app.naas.ai/user-redirect/naas/downloader?url=https://raw.githubusercontent.com/jupyter-naas/awesome-notebooks/master/Gmail/Gmail_Get_seen_emails.ipynb\" target=\"_parent\"><img src=\"https://naasai-public.s3.eu-west-3.amazonaws.com/Open_in_Naas_Lab.svg\"/></a><br><br><a href=\"https://bit.ly/3JyWIk6\">Give Feedbacks</a> | <a href=\"https://app.naas.ai/user-redirect/naas/downloader?url=https://raw.githubusercontent.com/jupyter-naas/awesome-notebooks/master/Naas/Naas_Start_data_product.ipynb\" target=\"_parent\">Generate Data Product</a>"
   ]
  },
  {
   "cell_type": "markdown",
   "id": "tags_cell",
   "metadata": {
    "papermill": {},
    "tags": []
   },
   "source": [
    "**Tags:** #gmail #productivity #naas_drivers #operations #snippet #dataframe"
   ]
  },
  {
   "cell_type": "markdown",
   "id": "444fb06f-c47d-45c3-a929-3bc21a60f3e7",
   "metadata": {
    "papermill": {},
    "tags": []
   },
   "source": [
    "**Author:** [Antonio Georgiev](www.linkedin.com/in/antonio-georgiev-b672a325b)"
   ]
  },
  {
   "cell_type": "markdown",
   "id": "naas-description",
   "metadata": {
    "papermill": {},
    "tags": [
     "description"
    ]
   },
   "source": [
    "**Description:** This notebook goes through the emails within the date range set by the user and marks them all as seen."
   ]
  },
  {
   "cell_type": "markdown",
   "id": "input_cell",
   "metadata": {
    "papermill": {},
    "tags": []
   },
   "source": [
    "## Input"
   ]
  },
  {
   "cell_type": "markdown",
   "id": "002a9c7f-ffd2-4115-972f-005b50ae0b39",
   "metadata": {
    "papermill": {},
    "tags": []
   },
   "source": [
    "### Import libraries"
   ]
  },
  {
   "cell_type": "code",
   "execution_count": 1,
   "id": "4c20e16c-a416-42cf-8ab8-b28168f16185",
   "metadata": {
    "execution": {
     "iopub.execute_input": "2023-07-19T07:43:44.307181Z",
     "iopub.status.busy": "2023-07-19T07:43:44.306893Z",
     "iopub.status.idle": "2023-07-19T07:43:51.024059Z",
     "shell.execute_reply": "2023-07-19T07:43:51.023353Z",
     "shell.execute_reply.started": "2023-07-19T07:43:44.307100Z"
    },
    "papermill": {},
    "tags": []
   },
   "outputs": [],
   "source": [
    "import naas\n",
    "import datetime\n",
    "from naas_drivers import email"
   ]
  },
  {
   "cell_type": "markdown",
   "id": "2a813bae-e85e-486c-934a-fe4db0b4776a",
   "metadata": {
    "papermill": {},
    "tags": []
   },
   "source": [
    "### Setup Variables\n",
    "Create an application password following [this procedure](https://support.google.com/mail/answer/185833?hl=en)\n",
    "- `username`: This variable stores the username or email address associated with the email account\n",
    "- `password`: This variable stores the password or authentication token required to access the email account\n",
    "- `smtp_server`: This variable represents the SMTP server address used for sending emails.\n",
    "- `date`: This variable stores the date that will be used to determine the range\n",
    "- `condition`: This variable stores the condition that will be followed to set the range (eg. before, on, after or on the date)"
   ]
  },
  {
   "cell_type": "code",
   "execution_count": 2,
   "id": "3e02dd40-f5c3-4f25-8db1-a1c01c704417",
   "metadata": {
    "execution": {
     "iopub.execute_input": "2023-07-19T07:43:51.027775Z",
     "iopub.status.busy": "2023-07-19T07:43:51.027602Z",
     "iopub.status.idle": "2023-07-19T07:43:51.175038Z",
     "shell.execute_reply": "2023-07-19T07:43:51.174452Z",
     "shell.execute_reply.started": "2023-07-19T07:43:51.027756Z"
    },
    "papermill": {},
    "tags": []
   },
   "outputs": [],
   "source": [
    "# Inputs\n",
    "username = \"xxxxx@xxxx\"\n",
    "password = naas.secret.get(\"GMAIL_APP_PASSWORD\")\n",
    "smtp_server = \"imap.gmail.com\"\n",
    "date = datetime.date(2023, 7, 7) # year, month, day\n",
    "condition = \"after or on\" # after or on, on, before. Use one of the following condition to determine the date range, whether it is before or after Date"
   ]
  },
  {
   "cell_type": "markdown",
   "id": "model_cell",
   "metadata": {
    "papermill": {},
    "tags": []
   },
   "source": [
    "## Model"
   ]
  },
  {
   "cell_type": "markdown",
   "id": "remarkable-apartment",
   "metadata": {
    "papermill": {},
    "tags": []
   },
   "source": [
    "### Connect to email box"
   ]
  },
  {
   "cell_type": "code",
   "execution_count": 3,
   "id": "copyrighted-consciousness",
   "metadata": {
    "execution": {
     "iopub.execute_input": "2023-07-19T07:43:51.176691Z",
     "iopub.status.busy": "2023-07-19T07:43:51.176458Z",
     "iopub.status.idle": "2023-07-19T07:43:51.179941Z",
     "shell.execute_reply": "2023-07-19T07:43:51.179302Z",
     "shell.execute_reply.started": "2023-07-19T07:43:51.176663Z"
    },
    "papermill": {},
    "tags": []
   },
   "outputs": [],
   "source": [
    "emails = email.connect(username, password, smtp_server=smtp_server)"
   ]
  },
  {
   "cell_type": "markdown",
   "id": "descending-muslim",
   "metadata": {
    "papermill": {},
    "tags": []
   },
   "source": [
    "### Get all emails within the range"
   ]
  },
  {
   "cell_type": "markdown",
   "id": "0841d6f4-fa86-403a-902a-7d9b669ae452",
   "metadata": {},
   "source": [
    "The function 'get' opens the emails, thus marking them as seen."
   ]
  },
  {
   "cell_type": "code",
   "execution_count": 4,
   "id": "fc9ca916-c144-43da-b498-eecc8e5f7f71",
   "metadata": {
    "execution": {
     "iopub.execute_input": "2023-07-19T07:43:51.181440Z",
     "iopub.status.busy": "2023-07-19T07:43:51.181031Z",
     "iopub.status.idle": "2023-07-19T07:43:59.729018Z",
     "shell.execute_reply": "2023-07-19T07:43:59.728356Z",
     "shell.execute_reply.started": "2023-07-19T07:43:51.181410Z"
    },
    "tags": []
   },
   "outputs": [],
   "source": [
    "sorted_emails = emails.get_emails_by_date(date=date, condition=condition)"
   ]
  },
  {
   "cell_type": "markdown",
   "id": "15c9c193-e6f3-4699-9694-c7fab612759d",
   "metadata": {
    "papermill": {},
    "tags": []
   },
   "source": [
    "## Output"
   ]
  },
  {
   "cell_type": "code",
   "execution_count": 5,
   "id": "9ba76164-6f41-43b1-9d08-9c644868582e",
   "metadata": {
    "execution": {
     "iopub.execute_input": "2023-07-19T07:43:59.730457Z",
     "iopub.status.busy": "2023-07-19T07:43:59.730215Z",
     "iopub.status.idle": "2023-07-19T07:43:59.736504Z",
     "shell.execute_reply": "2023-07-19T07:43:59.735860Z",
     "shell.execute_reply.started": "2023-07-19T07:43:59.730428Z"
    },
    "tags": []
   },
   "outputs": [
    {
     "name": "stdout",
     "output_type": "stream",
     "text": [
      "Emails have been marked as seen\n"
     ]
    }
   ],
   "source": [
    "print(\"Emails have been marked as seen\")"
   ]
  }
 ],
 "metadata": {
  "kernelspec": {
   "display_name": "Python 3",
   "language": "python",
   "name": "python3"
  },
  "language_info": {
   "codemirror_mode": {
    "name": "ipython",
    "version": 3
   },
   "file_extension": ".py",
   "mimetype": "text/x-python",
   "name": "python",
   "nbconvert_exporter": "python",
   "pygments_lexer": "ipython3",
   "version": "3.9.6"
  },
  "naas": {
   "notebook_id": "e8855875aba10e1d9817664191d5f2ae82c89b8addef409700da4edb5c174f1c",
   "notebook_path": "Gmail/Gmail_Get_seen_emails.ipynb"
  },
  "papermill": {
   "default_parameters": {},
   "environment_variables": {},
   "parameters": {},
   "version": "2.3.3"
  }
 },
 "nbformat": 4,
 "nbformat_minor": 5
}
