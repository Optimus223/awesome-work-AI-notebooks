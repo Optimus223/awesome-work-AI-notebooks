{
 "cells": [
  {
   "cell_type": "markdown",
   "id": "fa12acf5-0df7-4c57-90a0-4122d42933cf",
   "metadata": {
    "papermill": {},
    "tags": []
   },
   "source": [
    "<img width=\"10%\" alt=\"Naas\" src=\"https://landen.imgix.net/jtci2pxwjczr/assets/5ice39g4.png?w=160\"/>"
   ]
  },
  {
   "cell_type": "markdown",
   "id": "4c0a530c-a44e-43ca-bc85-84f6f350b5f4",
   "metadata": {
    "papermill": {},
    "tags": []
   },
   "source": [
    "# Gmail - Send email"
   ]
  },
  {
   "cell_type": "markdown",
   "id": "01015f5e-4a42-4335-abe8-b91687eacdd1",
   "metadata": {
    "papermill": {},
    "tags": []
   },
   "source": [
    "**Tags:** #gmail #email #send #python #library #smtplib"
   ]
  },
  {
   "cell_type": "markdown",
   "id": "b8db7b22-1d07-4be6-b735-1316f1651a47",
   "metadata": {
    "papermill": {},
    "tags": []
   },
   "source": [
    "**Author:** [Florent Ravenel](https://www.linkedin.com/in/florent-ravenel/)"
   ]
  },
  {
   "cell_type": "markdown",
   "id": "ccaedd9f-f6a4-473a-9fff-74e6b119bced",
   "metadata": {
    "papermill": {},
    "tags": []
   },
   "source": [
    "**Description:** This notebook will show how to send an email using Gmail and the Python library smtplib. It is usefull for organizations that need to send emails from their Gmail account."
   ]
  },
  {
   "cell_type": "markdown",
   "id": "7bc1f34c-30a5-4ae6-8885-aad95320ff72",
   "metadata": {
    "papermill": {},
    "tags": []
   },
   "source": [
    "**References:**\n- [Python smtplib](https://docs.python.org/3/library/smtplib.html)\n- [Gmail SMTP server](https://support.google.com/a/answer/176600?hl=en)"
   ]
  },
  {
   "cell_type": "markdown",
   "id": "c705eba2-1b99-410c-8526-d338df4c2f15",
   "metadata": {
    "papermill": {},
    "tags": []
   },
   "source": [
    "## Input"
   ]
  },
  {
   "cell_type": "markdown",
   "id": "26e464c0-c9f4-4e8f-ba15-ade0066947c1",
   "metadata": {
    "papermill": {},
    "tags": []
   },
   "source": [
    "### Import libraries"
   ]
  },
  {
   "cell_type": "code",
   "execution_count": null,
   "id": "1fd0ba7f-cb27-4c0b-94d4-1d6dd2f9681f",
   "metadata": {
    "papermill": {},
    "tags": []
   },
   "source": "import smtplib",
   "outputs": []
  },
  {
   "cell_type": "markdown",
   "id": "fd807a12-d49d-4a0e-88e3-615cef8eb379",
   "metadata": {
    "papermill": {},
    "tags": []
   },
   "source": [
    "### Setup Variables\n- `sender`: email address of the sender\n- `receiver`: email address of the receiver\n- `password`: password of the sender's email address"
   ]
  },
  {
   "cell_type": "markdown",
   "id": "48bb145c-ed2e-4352-a519-69ab3004d8e6",
   "metadata": {
    "papermill": {},
    "tags": []
   },
   "source": [
    "**Note:** If you are using 2-Step Verification, you need to generate an App Password for this notebook. [Instructions here](https://support.google.com/accounts/answer/185833?hl=en)."
   ]
  },
  {
   "cell_type": "code",
   "execution_count": null,
   "id": "946a5261-2043-4416-9bb1-c39fe38e9f09",
   "metadata": {
    "papermill": {},
    "tags": []
   },
   "source": "sender = \"sender@gmail.com\"\nreceiver = \"receiver@gmail.com\"\npassword = \"password\"",
   "outputs": []
  },
  {
   "cell_type": "markdown",
   "id": "7952ef5f-45ec-4fdd-86e4-68b27d7698c7",
   "metadata": {
    "papermill": {},
    "tags": []
   },
   "source": [
    "## Model"
   ]
  },
  {
   "cell_type": "markdown",
   "id": "884451d6-b649-466e-9fab-8bbbf2896642",
   "metadata": {
    "papermill": {},
    "tags": []
   },
   "source": [
    "### Send email"
   ]
  },
  {
   "cell_type": "markdown",
   "id": "21e2be31-a746-4802-991b-9c2d7ed5d597",
   "metadata": {
    "papermill": {},
    "tags": []
   },
   "source": [
    "This function will send an email from the sender's email address to the receiver's email address."
   ]
  },
  {
   "cell_type": "code",
   "execution_count": null,
   "id": "23053273-bad1-48ba-8abf-e6e8b3107df5",
   "metadata": {
    "papermill": {},
    "tags": []
   },
   "source": "# Create a secure SSL context\ncontext = smtplib.SMTP_SSL(\"smtp.gmail.com\", 465)\n# Login to the email server\ncontext.login(sender, password)\n# Send the email\ncontext.sendmail(sender, receiver, \"This is a test email\")\n# Logout of the email server\ncontext.quit()",
   "outputs": []
  },
  {
   "cell_type": "markdown",
   "id": "92fe343f-f464-4eaa-a4ad-06568ae71d5e",
   "metadata": {
    "papermill": {},
    "tags": []
   },
   "source": [
    "## Output"
   ]
  },
  {
   "cell_type": "markdown",
   "id": "0fdc6a95-f784-471c-ad7a-55ccec86a6de",
   "metadata": {
    "papermill": {},
    "tags": []
   },
   "source": [
    "### Display result"
   ]
  },
  {
   "cell_type": "markdown",
   "id": "5f4d5faf-4b84-447a-9abc-270d295a7344",
   "metadata": {
    "papermill": {},
    "tags": []
   },
   "source": [
    "The email has been sent."
   ]
  }
 ],
 "metadata": {
  "kernelspec": {
   "display_name": "Python 3",
   "language": "python",
   "name": "python3"
  },
  "language_info": {
   "codemirror_mode": {
    "name": "ipython",
    "version": 3
   },
   "file_extension": ".py",
   "mimetype": "text/x-python",
   "name": "python",
   "nbconvert_exporter": "python",
   "pygments_lexer": "ipython3",
   "version": "3.9.6"
  },
  "widgets": {
   "application/vnd.jupyter.widget-state+json": {
    "state": {},
    "version_major": 2,
    "version_minor": 0
   }
  }
 },
 "nbformat": 4,
 "nbformat_minor": 5
}