{
 "cells": [
  {
   "cell_type": "markdown",
   "id": "607bc640-6476-444b-a53f-cd95a1a10143",
   "metadata": {
    "papermill": {},
    "tags": []
   },
   "source": [
    "<img width=\"10%\" alt=\"Naas\" src=\"https://landen.imgix.net/jtci2pxwjczr/assets/5ice39g4.png?w=160\"/>"
   ]
  },
  {
   "cell_type": "markdown",
   "id": "396efe81-0abe-4ff3-92d4-0b923a0725ae",
   "metadata": {
    "papermill": {},
    "tags": []
   },
   "source": [
    "# Gmail - Create draft email"
   ]
  },
  {
   "cell_type": "markdown",
   "id": "aafbefe6-f5e1-46b2-b066-e57475ff2a1c",
   "metadata": {
    "papermill": {},
    "tags": []
   },
   "source": [
    "**Tags:** #gmail #email #draft #create #python #library"
   ]
  },
  {
   "cell_type": "markdown",
   "id": "a04eee49-f64d-40aa-af20-d08296b69154",
   "metadata": {
    "papermill": {},
    "tags": []
   },
   "source": [
    "**Author:** [Florent Ravenel](https://www.linkedin.com/in/florent-ravenel/)"
   ]
  },
  {
   "cell_type": "markdown",
   "id": "d335d8a3-3158-469c-a0e7-3e148d9c7070",
   "metadata": {
    "papermill": {},
    "tags": []
   },
   "source": [
    "**Description:** This notebook will show how to create a draft email using the Gmail API. It is usefull for organizations that need to automate the creation of emails."
   ]
  },
  {
   "cell_type": "markdown",
   "id": "4ed674f5-1060-43b7-ae06-c2b586ec8b32",
   "metadata": {
    "papermill": {},
    "tags": []
   },
   "source": [
    "**References:**\n- [Gmail API Documentation](https://developers.google.com/gmail/api/quickstart/python)\n- [Gmail API Python Quickstart](https://developers.google.com/gmail/api/quickstart/python)"
   ]
  },
  {
   "cell_type": "markdown",
   "id": "732b2dec-80ea-463d-b3ce-48d62e08b745",
   "metadata": {
    "papermill": {},
    "tags": []
   },
   "source": [
    "## Input"
   ]
  },
  {
   "cell_type": "markdown",
   "id": "386e60cc-157e-4702-836e-eaef23074cf9",
   "metadata": {
    "papermill": {},
    "tags": []
   },
   "source": [
    "### Import libraries"
   ]
  },
  {
   "cell_type": "code",
   "execution_count": null,
   "id": "deb8e327-3451-4a0f-8df4-9b05abc7b022",
   "metadata": {
    "papermill": {},
    "tags": []
   },
   "source": "import base64\nimport email\nimport pickle\nimport os.path\nfrom googleapiclient.discovery import build\nfrom google_auth_oauthlib.flow import InstalledAppFlow\nfrom google.auth.transport.requests import Request",
   "outputs": []
  },
  {
   "cell_type": "markdown",
   "id": "385f54be-6dde-434c-9e05-4612db7a5276",
   "metadata": {
    "papermill": {},
    "tags": []
   },
   "source": [
    "### Setup Variables\n- `SCOPES`: list of scopes to be used for the Gmail API\n- `credentials`: credentials to be used for the Gmail API"
   ]
  },
  {
   "cell_type": "markdown",
   "id": "71c58d37-0ec4-416d-bc4c-7d5b9bba4073",
   "metadata": {
    "papermill": {},
    "tags": []
   },
   "source": [
    "For more information on how to setup the credentials, please refer to the [Gmail API Python Quickstart](https://developers.google.com/gmail/api/quickstart/python)."
   ]
  },
  {
   "cell_type": "code",
   "execution_count": null,
   "id": "b624e4a2-2a41-450a-84cf-64e659d01055",
   "metadata": {
    "papermill": {},
    "tags": []
   },
   "source": "SCOPES = [\"https://www.googleapis.com/auth/gmail.compose\"]\ncredentials = None",
   "outputs": []
  },
  {
   "cell_type": "markdown",
   "id": "16bfd562-138e-4be2-a00d-fbd047ddae1a",
   "metadata": {
    "papermill": {},
    "tags": []
   },
   "source": [
    "## Model"
   ]
  },
  {
   "cell_type": "markdown",
   "id": "7ccfa8e4-ad9b-4595-9946-d6731a23afb4",
   "metadata": {
    "papermill": {},
    "tags": []
   },
   "source": [
    "### Create draft email"
   ]
  },
  {
   "cell_type": "markdown",
   "id": "5799fbd1-9691-4f28-b994-6b5f8ba0338b",
   "metadata": {
    "papermill": {},
    "tags": []
   },
   "source": [
    "This function will create a draft email using the Gmail API."
   ]
  },
  {
   "cell_type": "code",
   "execution_count": null,
   "id": "548f0683-3bae-4b31-b9df-98c1e110867a",
   "metadata": {
    "papermill": {},
    "tags": []
   },
   "source": "def create_draft_email(service, user_id, message_body):\n    try:\n        message = {\"message\": message_body}\n        draft = service.users().drafts().create(userId=user_id, body=message).execute()\n        print(\"Draft email created with id: %s\" % draft[\"id\"])\n        return draft\n    except Exception as e:\n        print(\"An error occurred: %s\" % e)",
   "outputs": []
  },
  {
   "cell_type": "markdown",
   "id": "7c50626b-50ba-443f-9b82-152743374eec",
   "metadata": {
    "papermill": {},
    "tags": []
   },
   "source": [
    "## Output"
   ]
  },
  {
   "cell_type": "markdown",
   "id": "230614ad-6836-4256-8bc2-18dc7b1eb13b",
   "metadata": {
    "papermill": {},
    "tags": []
   },
   "source": [
    "### Display result"
   ]
  },
  {
   "cell_type": "code",
   "execution_count": null,
   "id": "ad3b5509-ca1f-42fb-99bb-4fdf0ee078c0",
   "metadata": {
    "papermill": {},
    "tags": []
   },
   "source": "# Create a draft email\ncreate_draft_email(service, user_id, message_body)",
   "outputs": []
  },
  {
   "cell_type": "markdown",
   "id": "25aa14ff-4d0f-4fbf-bedb-3f67d6803a22",
   "metadata": {
    "papermill": {},
    "tags": []
   },
   "source": [
    " "
   ]
  }
 ],
 "metadata": {
  "kernelspec": {
   "display_name": "Python 3",
   "language": "python",
   "name": "python3"
  },
  "language_info": {
   "codemirror_mode": {
    "name": "ipython",
    "version": 3
   },
   "file_extension": ".py",
   "mimetype": "text/x-python",
   "name": "python",
   "nbconvert_exporter": "python",
   "pygments_lexer": "ipython3",
   "version": "3.9.6"
  },
  "widgets": {
   "application/vnd.jupyter.widget-state+json": {
    "state": {},
    "version_major": 2,
    "version_minor": 0
   }
  }
 },
 "nbformat": 4,
 "nbformat_minor": 5
}