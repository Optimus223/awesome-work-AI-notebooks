{
 "cells": [
  {
   "cell_type": "markdown",
   "id": "607bc640-6476-444b-a53f-cd95a1a10143",
   "metadata": {
    "papermill": {},
    "tags": []
   },
   "source": [
    "<img width=\"10%\" alt=\"Naas\" src=\"https://landen.imgix.net/jtci2pxwjczr/assets/5ice39g4.png?w=160\"/>"
   ]
  },
  {
   "cell_type": "markdown",
   "id": "396efe81-0abe-4ff3-92d4-0b923a0725ae",
   "metadata": {
    "papermill": {},
    "tags": []
   },
   "source": [
    "# Gmail - Create draft email"
   ]
  },
  {
   "cell_type": "markdown",
   "id": "aafbefe6-f5e1-46b2-b066-e57475ff2a1c",
   "metadata": {
    "papermill": {},
    "tags": []
   },
   "source": [
    "**Tags:** #gmail #email #draft #create #python #library"
   ]
  },
  {
   "cell_type": "markdown",
   "id": "a04eee49-f64d-40aa-af20-d08296b69154",
   "metadata": {
    "papermill": {},
    "tags": []
   },
   "source": [
    "**Author:** [Sriniketh Jayasendil](https://www.linkedin.com/in/sriniketh-jayasendil/)"
   ]
  },
  {
   "cell_type": "markdown",
   "id": "d335d8a3-3158-469c-a0e7-3e148d9c7070",
   "metadata": {
    "papermill": {},
    "tags": []
   },
   "source": [
    "**Description:** This notebook will show how to create a draft email using the Gmail API. It is usefull for organizations that need to automate the creation of emails."
   ]
  },
  {
   "cell_type": "markdown",
   "id": "4ed674f5-1060-43b7-ae06-c2b586ec8b32",
   "metadata": {
    "papermill": {},
    "tags": []
   },
   "source": [
    "**References:**\n",
    "- [Gmail API Documentation](https://developers.google.com/gmail/api/quickstart/python)\n",
    "- [Gmail API Python Quickstart](https://developers.google.com/gmail/api/quickstart/python)"
   ]
  },
  {
   "cell_type": "markdown",
   "id": "732b2dec-80ea-463d-b3ce-48d62e08b745",
   "metadata": {
    "papermill": {},
    "tags": []
   },
   "source": [
    "## Input"
   ]
  },
  {
   "cell_type": "markdown",
   "id": "386e60cc-157e-4702-836e-eaef23074cf9",
   "metadata": {
    "papermill": {},
    "tags": []
   },
   "source": [
    "### Import libraries"
   ]
  },
  {
   "cell_type": "code",
   "execution_count": 1,
   "id": "deb8e327-3451-4a0f-8df4-9b05abc7b022",
   "metadata": {
    "execution": {
     "iopub.execute_input": "2023-05-19T07:57:00.141355Z",
     "iopub.status.busy": "2023-05-19T07:57:00.140895Z",
     "iopub.status.idle": "2023-05-19T07:57:16.563811Z",
     "shell.execute_reply": "2023-05-19T07:57:16.563031Z",
     "shell.execute_reply.started": "2023-05-19T07:57:00.141266Z"
    },
    "papermill": {},
    "tags": []
   },
   "outputs": [],
   "source": [
    "import naas\n",
    "from googleapiclient.discovery import build\n",
    "from google_auth_oauthlib.flow import InstalledAppFlow\n",
    "from google.auth.transport.requests import Request\n",
    "import pickle\n",
    "import datetime\n",
    "import os.path\n",
    "import base64\n",
    "from email.mime.text import MIMEText\n",
    "from email.mime.multipart import MIMEMultipart"
   ]
  },
  {
   "cell_type": "markdown",
   "id": "385f54be-6dde-434c-9e05-4612db7a5276",
   "metadata": {
    "papermill": {},
    "tags": []
   },
   "source": [
    "### Setup Variables\n",
    "- `SCOPES`: list of scopes to be used for the Gmail API\n",
    "- `credentials`: credentials to be used for the Gmail API"
   ]
  },
  {
   "cell_type": "markdown",
   "id": "71c58d37-0ec4-416d-bc4c-7d5b9bba4073",
   "metadata": {
    "papermill": {},
    "tags": []
   },
   "source": [
    "For more information on how to setup the credentials, please refer to the [Gmail API Python Quickstart](https://developers.google.com/gmail/api/quickstart/python)."
   ]
  },
  {
   "cell_type": "code",
   "execution_count": 2,
   "id": "b624e4a2-2a41-450a-84cf-64e659d01055",
   "metadata": {
    "execution": {
     "iopub.execute_input": "2023-05-19T07:57:16.565799Z",
     "iopub.status.busy": "2023-05-19T07:57:16.565367Z",
     "iopub.status.idle": "2023-05-19T07:57:16.581146Z",
     "shell.execute_reply": "2023-05-19T07:57:16.580308Z",
     "shell.execute_reply.started": "2023-05-19T07:57:16.565767Z"
    },
    "papermill": {},
    "tags": []
   },
   "outputs": [],
   "source": [
    "SCOPES = ['https://mail.google.com/']\n",
    "CLIENT_SECRET_FILE = \"./secrets-gmail.json\""
   ]
  },
  {
   "cell_type": "markdown",
   "id": "16bfd562-138e-4be2-a00d-fbd047ddae1a",
   "metadata": {
    "papermill": {},
    "tags": []
   },
   "source": [
    "## Model"
   ]
  },
  {
   "cell_type": "markdown",
   "id": "8150f2b8-1a41-4e98-af43-1778ac2d2205",
   "metadata": {},
   "source": [
    "### Connect to service"
   ]
  },
  {
   "cell_type": "code",
   "execution_count": null,
   "id": "082048a0-9a19-4c8d-9143-3941cee310b7",
   "metadata": {},
   "outputs": [],
   "source": [
    "API_NAME ='gmail'\n",
    "API_VERSION = 'v1'\n",
    "\n",
    "# Create service account\n",
    "def Create_Service(client_secret_file, api_name, api_version, *scopes):\n",
    "    print(client_secret_file, api_name, api_version, scopes, sep='-')\n",
    "    CLIENT_SECRET_FILE = client_secret_file\n",
    "    API_SERVICE_NAME = api_name\n",
    "    API_VERSION = api_version\n",
    "    SCOPES = [scope for scope in scopes[0]]\n",
    "    print(SCOPES)\n",
    "\n",
    "    cred = None\n",
    "\n",
    "    pickle_file = f'token_{API_SERVICE_NAME}_{API_VERSION}.pickle'\n",
    "\n",
    "    if os.path.exists(pickle_file):\n",
    "        with open(pickle_file, 'rb') as token:\n",
    "            cred = pickle.load(token)\n",
    "\n",
    "    if not cred or not cred.valid:\n",
    "        if cred and cred.expired and cred.refresh_token:\n",
    "            cred.refresh(Request())\n",
    "        else:\n",
    "            flow = InstalledAppFlow.from_client_secrets_file(CLIENT_SECRET_FILE, SCOPES)\n",
    "            cred = flow.run_local_server()\n",
    "\n",
    "        with open(pickle_file, 'wb') as token:\n",
    "            pickle.dump(cred, token)\n",
    "\n",
    "    try:\n",
    "        service = build(API_SERVICE_NAME, API_VERSION, credentials=cred)\n",
    "        print(API_SERVICE_NAME, 'service created successfully')\n",
    "        return service\n",
    "    except Exception as e:\n",
    "        print('Unable to connect.')\n",
    "        print(e)\n",
    "        return None\n",
    "    \n",
    "service = Create_Service(CLIENT_SECRET_FILE, API_NAME, API_VERSION, SCOPES)"
   ]
  },
  {
   "cell_type": "markdown",
   "id": "7ccfa8e4-ad9b-4595-9946-d6731a23afb4",
   "metadata": {
    "papermill": {},
    "tags": []
   },
   "source": [
    "### Create draft email"
   ]
  },
  {
   "cell_type": "markdown",
   "id": "5799fbd1-9691-4f28-b994-6b5f8ba0338b",
   "metadata": {
    "papermill": {},
    "tags": []
   },
   "source": [
    "This function will create a draft email using the Gmail API."
   ]
  },
  {
   "cell_type": "code",
   "execution_count": 3,
   "id": "548f0683-3bae-4b31-b9df-98c1e110867a",
   "metadata": {
    "execution": {
     "iopub.execute_input": "2023-05-19T07:57:16.587094Z",
     "iopub.status.busy": "2023-05-19T07:57:16.584390Z",
     "iopub.status.idle": "2023-05-19T07:57:17.985283Z",
     "shell.execute_reply": "2023-05-19T07:57:17.983142Z",
     "shell.execute_reply.started": "2023-05-19T07:57:16.587036Z"
    },
    "papermill": {},
    "tags": []
   },
   "outputs": [
    {
     "name": "stdout",
     "output_type": "stream",
     "text": [
      "./secrets-gmail.json-gmail-v1-(['https://mail.google.com/'],)\n",
      "['https://mail.google.com/']\n"
     ]
    },
    {
     "ename": "FileNotFoundError",
     "evalue": "[Errno 2] No such file or directory: './secrets-gmail.json'",
     "output_type": "error",
     "traceback": [
      "\u001b[0;31m---------------------------------------------------------------------------\u001b[0m",
      "\u001b[0;31mFileNotFoundError\u001b[0m                         Traceback (most recent call last)",
      "\u001b[0;32m<ipython-input-3-21fa45c41858>\u001b[0m in \u001b[0;36m<module>\u001b[0;34m\u001b[0m\n\u001b[1;32m     39\u001b[0m     \u001b[0;32mreturn\u001b[0m \u001b[0mdt\u001b[0m\u001b[0;34m\u001b[0m\u001b[0;34m\u001b[0m\u001b[0m\n\u001b[1;32m     40\u001b[0m \u001b[0;34m\u001b[0m\u001b[0m\n\u001b[0;32m---> 41\u001b[0;31m \u001b[0mservice\u001b[0m \u001b[0;34m=\u001b[0m \u001b[0mCreate_Service\u001b[0m \u001b[0;34m(\u001b[0m\u001b[0mCLIENT_SECRET_FILE\u001b[0m\u001b[0;34m,\u001b[0m \u001b[0mAPI_NAME\u001b[0m\u001b[0;34m,\u001b[0m \u001b[0mAPI_VERSION\u001b[0m\u001b[0;34m,\u001b[0m \u001b[0mSCOPES\u001b[0m\u001b[0;34m)\u001b[0m\u001b[0;34m\u001b[0m\u001b[0;34m\u001b[0m\u001b[0m\n\u001b[0m\u001b[1;32m     42\u001b[0m \u001b[0mmimeMessage\u001b[0m \u001b[0;34m=\u001b[0m \u001b[0mMIMEMultipart\u001b[0m \u001b[0;34m(\u001b[0m\u001b[0;34m)\u001b[0m\u001b[0;34m\u001b[0m\u001b[0;34m\u001b[0m\u001b[0m\n\u001b[1;32m     43\u001b[0m \u001b[0mmimeMessage\u001b[0m \u001b[0;34m[\u001b[0m\u001b[0;34m'from'\u001b[0m\u001b[0;34m]\u001b[0m \u001b[0;34m=\u001b[0m \u001b[0mnaas\u001b[0m\u001b[0;34m.\u001b[0m\u001b[0msecret\u001b[0m\u001b[0;34m.\u001b[0m\u001b[0mget\u001b[0m\u001b[0;34m(\u001b[0m\u001b[0;34m\"GMAIL_FROM_EMAIL\"\u001b[0m\u001b[0;34m)\u001b[0m\u001b[0;34m\u001b[0m\u001b[0;34m\u001b[0m\u001b[0m\n",
      "\u001b[0;32m<ipython-input-3-21fa45c41858>\u001b[0m in \u001b[0;36mCreate_Service\u001b[0;34m(client_secret_file, api_name, api_version, *scopes)\u001b[0m\n\u001b[1;32m     20\u001b[0m             \u001b[0mcred\u001b[0m\u001b[0;34m.\u001b[0m\u001b[0mrefresh\u001b[0m\u001b[0;34m(\u001b[0m\u001b[0mRequest\u001b[0m\u001b[0;34m(\u001b[0m\u001b[0;34m)\u001b[0m\u001b[0;34m)\u001b[0m\u001b[0;34m\u001b[0m\u001b[0;34m\u001b[0m\u001b[0m\n\u001b[1;32m     21\u001b[0m         \u001b[0;32melse\u001b[0m\u001b[0;34m:\u001b[0m\u001b[0;34m\u001b[0m\u001b[0;34m\u001b[0m\u001b[0m\n\u001b[0;32m---> 22\u001b[0;31m             \u001b[0mflow\u001b[0m \u001b[0;34m=\u001b[0m \u001b[0mInstalledAppFlow\u001b[0m\u001b[0;34m.\u001b[0m\u001b[0mfrom_client_secrets_file\u001b[0m\u001b[0;34m(\u001b[0m\u001b[0mCLIENT_SECRET_FILE\u001b[0m\u001b[0;34m,\u001b[0m \u001b[0mSCOPES\u001b[0m\u001b[0;34m)\u001b[0m\u001b[0;34m\u001b[0m\u001b[0;34m\u001b[0m\u001b[0m\n\u001b[0m\u001b[1;32m     23\u001b[0m             \u001b[0mcred\u001b[0m \u001b[0;34m=\u001b[0m \u001b[0mflow\u001b[0m\u001b[0;34m.\u001b[0m\u001b[0mrun_local_server\u001b[0m\u001b[0;34m(\u001b[0m\u001b[0;34m)\u001b[0m\u001b[0;34m\u001b[0m\u001b[0;34m\u001b[0m\u001b[0m\n\u001b[1;32m     24\u001b[0m \u001b[0;34m\u001b[0m\u001b[0m\n",
      "\u001b[0;32m/opt/conda/lib/python3.9/site-packages/google_auth_oauthlib/flow.py\u001b[0m in \u001b[0;36mfrom_client_secrets_file\u001b[0;34m(cls, client_secrets_file, scopes, **kwargs)\u001b[0m\n\u001b[1;32m    201\u001b[0m             \u001b[0mFlow\u001b[0m\u001b[0;34m:\u001b[0m \u001b[0mThe\u001b[0m \u001b[0mconstructed\u001b[0m \u001b[0mFlow\u001b[0m \u001b[0minstance\u001b[0m\u001b[0;34m.\u001b[0m\u001b[0;34m\u001b[0m\u001b[0;34m\u001b[0m\u001b[0m\n\u001b[1;32m    202\u001b[0m         \"\"\"\n\u001b[0;32m--> 203\u001b[0;31m         \u001b[0;32mwith\u001b[0m \u001b[0mopen\u001b[0m\u001b[0;34m(\u001b[0m\u001b[0mclient_secrets_file\u001b[0m\u001b[0;34m,\u001b[0m \u001b[0;34m\"r\"\u001b[0m\u001b[0;34m)\u001b[0m \u001b[0;32mas\u001b[0m \u001b[0mjson_file\u001b[0m\u001b[0;34m:\u001b[0m\u001b[0;34m\u001b[0m\u001b[0;34m\u001b[0m\u001b[0m\n\u001b[0m\u001b[1;32m    204\u001b[0m             \u001b[0mclient_config\u001b[0m \u001b[0;34m=\u001b[0m \u001b[0mjson\u001b[0m\u001b[0;34m.\u001b[0m\u001b[0mload\u001b[0m\u001b[0;34m(\u001b[0m\u001b[0mjson_file\u001b[0m\u001b[0;34m)\u001b[0m\u001b[0;34m\u001b[0m\u001b[0;34m\u001b[0m\u001b[0m\n\u001b[1;32m    205\u001b[0m \u001b[0;34m\u001b[0m\u001b[0m\n",
      "\u001b[0;31mFileNotFoundError\u001b[0m: [Errno 2] No such file or directory: './secrets-gmail.json'"
     ]
    }
   ],
   "source": [
    "mimeMessage = MIMEMultipart ()\n",
    "mimeMessage['from'] = naas.secret.get(\"GMAIL_FROM_EMAIL\")\n",
    "mimeMessage['to'] = naas.secret.get(\"GMAIL_TO_EMAIL\")\n",
    "mimeMessage['cc'] = naas.secret.get(\"GMAIL_CC_EMAIL\")\n",
    "mimeMessage['subject'] = 'Hello Gmail API'\n",
    "msg_body = 'Hello!! You work super cool!!'\n",
    "mimeMessage.attach(MIMEText(msg_body, 'plain'))\n",
    "raw_string = base64.urlsafe_b64encode (mimeMessage.as_bytes()).decode()\n",
    "response = service.users().drafts().create(\n",
    "    userId='me',\n",
    "    body={'message': {'raw': raw_string }}\n",
    ").execute()"
   ]
  },
  {
   "cell_type": "markdown",
   "id": "7c50626b-50ba-443f-9b82-152743374eec",
   "metadata": {
    "papermill": {},
    "tags": []
   },
   "source": [
    "## Output"
   ]
  },
  {
   "cell_type": "markdown",
   "id": "230614ad-6836-4256-8bc2-18dc7b1eb13b",
   "metadata": {
    "papermill": {},
    "tags": []
   },
   "source": [
    "### Display result"
   ]
  },
  {
   "cell_type": "code",
   "execution_count": null,
   "id": "ad3b5509-ca1f-42fb-99bb-4fdf0ee078c0",
   "metadata": {
    "execution": {
     "iopub.status.busy": "2023-05-19T07:57:17.987917Z",
     "iopub.status.idle": "2023-05-19T07:57:17.988280Z",
     "shell.execute_reply": "2023-05-19T07:57:17.988114Z"
    },
    "papermill": {},
    "tags": []
   },
   "outputs": [],
   "source": [
    "# Display result\n",
    "print(response)"
   ]
  },
  {
   "cell_type": "markdown",
   "id": "25aa14ff-4d0f-4fbf-bedb-3f67d6803a22",
   "metadata": {
    "papermill": {},
    "tags": []
   },
   "source": [
    " "
   ]
  }
 ],
 "metadata": {
  "kernelspec": {
   "display_name": "Python 3",
   "language": "python",
   "name": "python3"
  },
  "language_info": {
   "codemirror_mode": {
    "name": "ipython",
    "version": 3
   },
   "file_extension": ".py",
   "mimetype": "text/x-python",
   "name": "python",
   "nbconvert_exporter": "python",
   "pygments_lexer": "ipython3",
   "version": "3.9.6"
  },
  "widgets": {
   "application/vnd.jupyter.widget-state+json": {
    "state": {},
    "version_major": 2,
    "version_minor": 0
   }
  }
 },
 "nbformat": 4,
 "nbformat_minor": 5
}
