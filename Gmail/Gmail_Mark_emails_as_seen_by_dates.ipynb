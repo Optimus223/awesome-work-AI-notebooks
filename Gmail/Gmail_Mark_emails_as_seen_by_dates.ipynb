{
 "cells": [
  {
   "cell_type": "markdown",
   "id": "bf5dc355-1311-4004-8b2b-abfcc5ce82f2",
   "metadata": {
    "papermill": {},
    "tags": []
   },
   "source": [
    "<img width=\"10%\" alt=\"Naas\" src=\"https://landen.imgix.net/jtci2pxwjczr/assets/5ice39g4.png?w=160\"/>"
   ]
  },
  {
   "cell_type": "markdown",
   "id": "45637f96-2c01-470b-b175-775f441e23e2",
   "metadata": {
    "papermill": {},
    "tags": []
   },
   "source": [
    "# Gmail - Mark emails as seen by dates\n",
    "<a href=\"https://app.naas.ai/user-redirect/naas/downloader?url=https://raw.githubusercontent.com/jupyter-naas/awesome-notebooks/master/Gmail/Gmail_Get_seen_emails.ipynb\" target=\"_parent\"><img src=\"https://naasai-public.s3.eu-west-3.amazonaws.com/Open_in_Naas_Lab.svg\"/></a><br><br><a href=\"https://bit.ly/3JyWIk6\">Give Feedbacks</a> | <a href=\"https://app.naas.ai/user-redirect/naas/downloader?url=https://raw.githubusercontent.com/jupyter-naas/awesome-notebooks/master/Naas/Naas_Start_data_product.ipynb\" target=\"_parent\">Generate Data Product</a>"
   ]
  },
  {
   "cell_type": "markdown",
   "id": "ddcebba7-4a40-45d2-b83e-72a7513a1660",
   "metadata": {
    "papermill": {},
    "tags": []
   },
   "source": [
    "**Tags:** #gmail #productivity #naas_drivers #operations #snippet #dataframe"
   ]
  },
  {
   "cell_type": "markdown",
   "id": "f55cd5d1-8f6e-458b-a59e-a258bded8346",
   "metadata": {
    "papermill": {},
    "tags": []
   },
   "source": [
    "**Author:** [Antonio Georgiev](www.linkedin.com/in/antonio-georgiev-b672a325b)"
   ]
  },
  {
   "cell_type": "markdown",
   "id": "2b5999ac-0862-43f2-b6dc-ace799080cea",
   "metadata": {
    "papermill": {},
    "tags": [
     "description"
    ]
   },
   "source": [
    "**Description:** This notebook goes through the emails within the date range set by the user and marks them all as seen."
   ]
  },
  {
   "cell_type": "markdown",
   "id": "7057d03b-e1e5-4f03-bd9f-579889681498",
   "metadata": {
    "papermill": {},
    "tags": []
   },
   "source": [
    "## Input"
   ]
  },
  {
   "cell_type": "markdown",
   "id": "2dd10407-0a8b-4f40-88cc-c4813f0ebab2",
   "metadata": {
    "papermill": {},
    "tags": []
   },
   "source": [
    "### Import libraries"
   ]
  },
  {
   "cell_type": "code",
   "execution_count": 1,
   "id": "11f52fae-946f-467c-bfd5-d490fdeb7794",
   "metadata": {
    "execution": {
     "iopub.execute_input": "2023-07-21T08:33:55.102896Z",
     "iopub.status.busy": "2023-07-21T08:33:55.102459Z",
     "iopub.status.idle": "2023-07-21T08:33:59.416770Z",
     "shell.execute_reply": "2023-07-21T08:33:59.416168Z",
     "shell.execute_reply.started": "2023-07-21T08:33:55.102820Z"
    },
    "papermill": {},
    "tags": []
   },
   "outputs": [],
   "source": [
    "import naas\n",
    "import imaplib\n",
    "import email\n",
    "from datetime import date\n",
    "try:\n",
    "    from imapclient import IMAPClient\n",
    "except:\n",
    "    !pip install imapclient --user\n",
    "    from imapclient import IMAPClient"
   ]
  },
  {
   "cell_type": "markdown",
   "id": "bf9f67ea-3654-4912-ae9c-6de46d3bdd0b",
   "metadata": {
    "papermill": {},
    "tags": []
   },
   "source": [
    "### Setup Variables\n",
    "Create an application password following [this procedure](https://support.google.com/mail/answer/185833?hl=en)\n",
    "- `username`: This variable stores the username or email address associated with the email account\n",
    "- `password`: This variable stores the password or authentication token required to access the email account\n",
    "- `smtp_server`: This variable represents the SMTP server address used for sending emails.\n",
    "- `date`: This variable stores the date that will be used to determine the range\n",
    "- `condition`: This variable stores the condition to get your emails"
   ]
  },
  {
   "cell_type": "code",
   "execution_count": 2,
   "id": "c66a183b-8a06-47fc-af7b-d52856387ec3",
   "metadata": {
    "execution": {
     "iopub.execute_input": "2023-07-21T08:33:59.417982Z",
     "iopub.status.busy": "2023-07-21T08:33:59.417750Z",
     "iopub.status.idle": "2023-07-21T08:33:59.573331Z",
     "shell.execute_reply": "2023-07-21T08:33:59.572659Z",
     "shell.execute_reply.started": "2023-07-21T08:33:59.417954Z"
    },
    "papermill": {},
    "tags": []
   },
   "outputs": [],
   "source": [
    "# Inputs\n",
    "username = \"florent@naas.ai\" or \"xxxxx@xxxx\" # replace with your email\n",
    "password = naas.secret.get(\"GMAIL_APP_PASSWORD\")\n",
    "smtp_server = \"imap.gmail.com\" # replace xxxx with the relevant server (eg. gmail)\n",
    "date = date(2023, 7, 20) # year, month, day\n",
    "condition = \"ON\" #\"SINCE\" or \"BEFORE\""
   ]
  },
  {
   "cell_type": "markdown",
   "id": "2a031bcb-bab2-4f91-8ccd-aa75ac767e5c",
   "metadata": {
    "papermill": {},
    "tags": []
   },
   "source": [
    "## Model"
   ]
  },
  {
   "cell_type": "markdown",
   "id": "d02e7b6a-37e4-44d1-bc29-b86553787f0e",
   "metadata": {
    "papermill": {},
    "tags": []
   },
   "source": [
    "### Connect to email box"
   ]
  },
  {
   "cell_type": "code",
   "execution_count": 3,
   "id": "f14c3efa-987d-4280-8bfa-e3aef58eef11",
   "metadata": {
    "execution": {
     "iopub.execute_input": "2023-07-21T08:33:59.574610Z",
     "iopub.status.busy": "2023-07-21T08:33:59.574282Z",
     "iopub.status.idle": "2023-07-21T08:34:00.498373Z",
     "shell.execute_reply": "2023-07-21T08:34:00.497239Z",
     "shell.execute_reply.started": "2023-07-21T08:33:59.574582Z"
    },
    "papermill": {},
    "tags": []
   },
   "outputs": [
    {
     "name": "stdout",
     "output_type": "stream",
     "text": [
      "✅ Successfully connected to INBOX\n"
     ]
    }
   ],
   "source": [
    "server = IMAPClient('imap.gmail.com')\n",
    "server.login(username, password)\n",
    "server.select_folder('INBOX')\n",
    "print(\"✅ Successfully connected to INBOX\")"
   ]
  },
  {
   "cell_type": "markdown",
   "id": "db6a0e8b-9555-4d9d-b972-35dbcbd7eebe",
   "metadata": {},
   "source": [
    "### Get all messages on conditions"
   ]
  },
  {
   "cell_type": "code",
   "execution_count": 4,
   "id": "a7504c1f-3a83-4d15-a499-ed4dbcf4ef50",
   "metadata": {
    "execution": {
     "iopub.execute_input": "2023-07-21T08:34:00.500479Z",
     "iopub.status.busy": "2023-07-21T08:34:00.500233Z",
     "iopub.status.idle": "2023-07-21T08:34:00.633204Z",
     "shell.execute_reply": "2023-07-21T08:34:00.632497Z",
     "shell.execute_reply.started": "2023-07-21T08:34:00.500448Z"
    },
    "tags": []
   },
   "outputs": [
    {
     "name": "stdout",
     "output_type": "stream",
     "text": [
      "✅ Messages fetched: 3\n"
     ]
    }
   ],
   "source": [
    "all_messages = server.search([condition, date.strftime('%d-%b-%Y')])\n",
    "print(\"✅ Messages fetched:\", len(all_messages))"
   ]
  },
  {
   "cell_type": "markdown",
   "id": "12c83411-59b7-4c51-8867-4e26d14715c8",
   "metadata": {
    "papermill": {},
    "tags": []
   },
   "source": [
    "## Output"
   ]
  },
  {
   "cell_type": "markdown",
   "id": "33fa06bc-b9fa-4edb-95b4-743d96f2ad44",
   "metadata": {
    "papermill": {},
    "tags": []
   },
   "source": [
    "### Get emails on condition and mark them as seen"
   ]
  },
  {
   "cell_type": "code",
   "execution_count": 5,
   "id": "9dbec91e-ead5-413b-95ee-e33ab1d547ba",
   "metadata": {
    "execution": {
     "iopub.execute_input": "2023-07-21T08:34:00.634676Z",
     "iopub.status.busy": "2023-07-21T08:34:00.634433Z",
     "iopub.status.idle": "2023-07-21T08:34:00.980688Z",
     "shell.execute_reply": "2023-07-21T08:34:00.979981Z",
     "shell.execute_reply.started": "2023-07-21T08:34:00.634646Z"
    },
    "tags": []
   },
   "outputs": [
    {
     "name": "stdout",
     "output_type": "stream",
     "text": [
      "✅ Emails have been marked as seen\n"
     ]
    }
   ],
   "source": [
    "for message_id in all_messages:\n",
    "    server.set_flags(message_id, [b'\\\\Seen'])\n",
    "print(\"✅ Emails have been marked as seen\")"
   ]
  }
 ],
 "metadata": {
  "kernelspec": {
   "display_name": "Python 3",
   "language": "python",
   "name": "python3"
  },
  "language_info": {
   "codemirror_mode": {
    "name": "ipython",
    "version": 3
   },
   "file_extension": ".py",
   "mimetype": "text/x-python",
   "name": "python",
   "nbconvert_exporter": "python",
   "pygments_lexer": "ipython3",
   "version": "3.9.6"
  },
  "naas": {
   "notebook_id": "e8855875aba10e1d9817664191d5f2ae82c89b8addef409700da4edb5c174f1c",
   "notebook_path": "Gmail/Gmail_Get_seen_emails.ipynb"
  },
  "papermill": {
   "default_parameters": {},
   "environment_variables": {},
   "parameters": {},
   "version": "2.3.3"
  }
 },
 "nbformat": 4,
 "nbformat_minor": 5
}
