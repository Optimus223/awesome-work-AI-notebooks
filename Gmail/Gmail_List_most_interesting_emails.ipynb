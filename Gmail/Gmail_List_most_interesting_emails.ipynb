{
 "cells": [
  {
   "cell_type": "markdown",
   "id": "sustainable-insert",
   "metadata": {
    "papermill": {},
    "tags": []
   },
   "source": [
    "<img width=\"10%\" alt=\"Naas\" src=\"https://landen.imgix.net/jtci2pxwjczr/assets/5ice39g4.png?w=160\"/>"
   ]
  },
  {
   "cell_type": "markdown",
   "id": "forty-morocco",
   "metadata": {
    "papermill": {},
    "tags": []
   },
   "source": [
    "# Gmail - Unseen Emails from Important Senders (Identified by User's Reply Rate)\n",
    "<a href=\"https://app.naas.ai/user-redirect/naas/downloader?url=https://raw.githubusercontent.com/jupyter-naas/awesome-notebooks/master/Gmail/Gmail_Get_emails_stats_by_sender.ipynb\" target=\"_parent\"><img src=\"https://naasai-public.s3.eu-west-3.amazonaws.com/Open_in_Naas_Lab.svg\"/></a><br><br><a href=\"https://github.com/jupyter-naas/awesome-notebooks/issues/new?assignees=&labels=&template=template-request.md&title=Tool+-+Action+of+the+notebook+\">Template request</a> | <a href=\"https://github.com/jupyter-naas/awesome-notebooks/issues/new?assignees=&labels=bug&template=bug_report.md&title=Gmail+-+Get+emails+stats+by+sender:+Error+short+description\">Bug report</a> | <a href=\"https://app.naas.ai/user-redirect/naas/downloader?url=https://raw.githubusercontent.com/jupyter-naas/awesome-notebooks/master/Naas/Naas_Start_data_product.ipynb\" target=\"_parent\">Generate Data Product</a>"
   ]
  },
  {
   "cell_type": "markdown",
   "id": "tags_cell",
   "metadata": {
    "papermill": {},
    "tags": []
   },
   "source": [
    "**Tags:** #gmail #productivity #naas_drivers #operations #automation #analytics #plotly"
   ]
  },
  {
   "cell_type": "markdown",
   "id": "367e326e-ad83-445f-b847-666e9e1e79b3",
   "metadata": {
    "papermill": {},
    "tags": []
   },
   "source": [
    "**Author:** [Antonio Georgiev](www.linkedin.com/in/antonio-georgiev-b672a325b)"
   ]
  },
  {
   "cell_type": "markdown",
   "id": "naas-description",
   "metadata": {
    "papermill": {},
    "tags": [
     "description"
    ]
   },
   "source": [
    "**Description:** This notebook retrieves the unseen emails from important senders and calculates the user's reply rate to each sender. By identifying the important senders with a higher reply rate, the code helps prioritize the user's responses and ensures timely communication. The code then outputs the list of unseen emails from these important senders, providing a focused view of the most relevant and pending email conversations."
   ]
  },
  {
   "cell_type": "markdown",
   "id": "input_cell",
   "metadata": {
    "papermill": {},
    "tags": []
   },
   "source": [
    "## Input"
   ]
  },
  {
   "cell_type": "markdown",
   "id": "136b8959-cdb1-42bb-aaf9-2321b2da134d",
   "metadata": {
    "papermill": {},
    "tags": []
   },
   "source": [
    "### Import libraries"
   ]
  },
  {
   "cell_type": "code",
   "execution_count": 1,
   "id": "civil-possible",
   "metadata": {
    "execution": {
     "iopub.execute_input": "2023-07-17T06:18:56.840827Z",
     "iopub.status.busy": "2023-07-17T06:18:56.836210Z",
     "iopub.status.idle": "2023-07-17T06:18:58.833921Z",
     "shell.execute_reply": "2023-07-17T06:18:58.832960Z",
     "shell.execute_reply.started": "2023-07-17T06:18:56.836878Z"
    },
    "papermill": {},
    "tags": []
   },
   "outputs": [],
   "source": [
    "import datetime\n",
    "import os\n",
    "try:\n",
    "    from imapclient import IMAPClient\n",
    "except:\n",
    "    !pip install imapclient --user\n",
    "    from imapclient import IMAPClient\n",
    "import naas\n",
    "from collections import Counter\n",
    "import quopri\n",
    "import email.header"
   ]
  },
  {
   "cell_type": "markdown",
   "id": "copyrighted-lighter",
   "metadata": {
    "papermill": {},
    "tags": []
   },
   "source": [
    "### Setup Variables\n",
    "Create an application password following [this procedure](https://support.google.com/mail/answer/185833?hl=en)\n",
    "- `username`: This variable stores the username or email address associated with the email account\n",
    "- `password`: This variable stores the password or authentication token required to access the email account\n",
    "- `date_start`: Number of days to filter your inbox, it must be negative value\n",
    "- `most_common_senders`: Number of most common senders you want to list as output"
   ]
  },
  {
   "cell_type": "code",
   "execution_count": 2,
   "id": "handed-rolling",
   "metadata": {
    "execution": {
     "iopub.execute_input": "2023-07-17T06:18:58.836773Z",
     "iopub.status.busy": "2023-07-17T06:18:58.836135Z",
     "iopub.status.idle": "2023-07-17T06:18:58.986285Z",
     "shell.execute_reply": "2023-07-17T06:18:58.985260Z",
     "shell.execute_reply.started": "2023-07-17T06:18:58.836739Z"
    },
    "papermill": {},
    "tags": []
   },
   "outputs": [],
   "source": [
    "username = \"theuniverse.bg@gmail.com\"\n",
    "password = naas.secret.get(\"GMAIL_APP_PASSWORD\")\n",
    "date_start = -30\n",
    "most_common_senders = 10"
   ]
  },
  {
   "cell_type": "markdown",
   "id": "model_cell",
   "metadata": {
    "papermill": {},
    "tags": []
   },
   "source": [
    "## Model"
   ]
  },
  {
   "cell_type": "markdown",
   "id": "opposite-simon",
   "metadata": {
    "papermill": {},
    "tags": []
   },
   "source": [
    "### Connect to email box"
   ]
  },
  {
   "cell_type": "code",
   "execution_count": 3,
   "id": "painted-harvard",
   "metadata": {
    "execution": {
     "iopub.execute_input": "2023-07-17T06:18:58.988223Z",
     "iopub.status.busy": "2023-07-17T06:18:58.987900Z",
     "iopub.status.idle": "2023-07-17T06:18:59.836530Z",
     "shell.execute_reply": "2023-07-17T06:18:59.835876Z",
     "shell.execute_reply.started": "2023-07-17T06:18:58.988149Z"
    },
    "papermill": {},
    "tags": []
   },
   "outputs": [
    {
     "name": "stdout",
     "output_type": "stream",
     "text": [
      "✅ Successfully connected to INBOX\n"
     ]
    }
   ],
   "source": [
    "server = IMAPClient('imap.gmail.com')\n",
    "server.login(username, password)\n",
    "server.select_folder('INBOX')\n",
    "print(\"✅ Successfully connected to INBOX\")"
   ]
  },
  {
   "cell_type": "markdown",
   "id": "adopted-tolerance",
   "metadata": {
    "papermill": {},
    "tags": []
   },
   "source": [
    "### Get all seen emails with their flags (seen or unseen), date, and sender"
   ]
  },
  {
   "cell_type": "code",
   "execution_count": 4,
   "id": "8ca1a4db-fae5-491b-a324-0359108cfe9c",
   "metadata": {
    "execution": {
     "iopub.execute_input": "2023-07-17T06:18:59.837637Z",
     "iopub.status.busy": "2023-07-17T06:18:59.837408Z",
     "iopub.status.idle": "2023-07-17T06:19:00.287324Z",
     "shell.execute_reply": "2023-07-17T06:19:00.286554Z",
     "shell.execute_reply.started": "2023-07-17T06:18:59.837609Z"
    },
    "tags": []
   },
   "outputs": [
    {
     "name": "stdout",
     "output_type": "stream",
     "text": [
      "✅ All emails fetched: 147\n"
     ]
    }
   ],
   "source": [
    "today = datetime.date.today()\n",
    "start = today + datetime.timedelta(days=date_start)\n",
    "all_messages = server.search(['SINCE', start.strftime('%d-%b-%Y')])\n",
    "all_metadata = server.fetch(all_messages, ['RFC822.SIZE', 'FLAGS', 'INTERNALDATE', 'ENVELOPE'])\n",
    "print(\"✅ All emails fetched:\", len(all_metadata))"
   ]
  },
  {
   "cell_type": "markdown",
   "id": "601903d2-f32d-41fe-833c-755ec6531997",
   "metadata": {},
   "source": [
    "### Get most viewed senders by counting the occurencies"
   ]
  },
  {
   "cell_type": "code",
   "execution_count": 5,
   "id": "584ce61e-88f2-4c7b-8511-ac7934dc6731",
   "metadata": {
    "execution": {
     "iopub.execute_input": "2023-07-17T06:19:00.288709Z",
     "iopub.status.busy": "2023-07-17T06:19:00.288467Z",
     "iopub.status.idle": "2023-07-17T06:19:00.298321Z",
     "shell.execute_reply": "2023-07-17T06:19:00.297785Z",
     "shell.execute_reply.started": "2023-07-17T06:19:00.288678Z"
    },
    "tags": []
   },
   "outputs": [
    {
     "name": "stdout",
     "output_type": "stream",
     "text": [
      "✅ Top senders by answering rate:\n",
      "Sender: premium@academia-mail.com, Answering Rate: 4.3478260869565215%\n",
      "Sender: info@n.myprotein.com, Answering Rate: 0.0%\n",
      "Sender: noreply@newsletter.dickieslife.com, Answering Rate: 0.0%\n",
      "Sender: news@mailing.tommy.com, Answering Rate: 0.0%\n",
      "Sender: newsletter@lifecycle.quizlet.com, Answering Rate: 0.0%\n",
      "Sender: mary@email.numerade.com, Answering Rate: 0.0%\n",
      "Sender: support@mathway.com, Answering Rate: 0.0%\n",
      "Sender: updates@academia-mail.com, Answering Rate: 0.0%\n",
      "Sender: gerhardhaenel@impargo.de, Answering Rate: 0.0%\n",
      "Sender: toktok@info.glovoapp.com, Answering Rate: 0.0%\n"
     ]
    }
   ],
   "source": [
    "senders = []\n",
    "answered_senders = []\n",
    "for msg_id, data in all_metadata.items():\n",
    "    envelope = data[b'ENVELOPE']\n",
    "    if envelope.from_:\n",
    "        sender_email = envelope.from_[0].mailbox.decode() + \"@\" + envelope.from_[0].host.decode()\n",
    "        senders.append(sender_email)\n",
    "        if b'\\\\Answered' in data[b'FLAGS']:\n",
    "            answered_senders.append(sender_email)\n",
    "\n",
    "sender_counts = Counter(senders)\n",
    "answered_sender_counts = Counter(answered_senders)\n",
    "\n",
    "rate_by_sender = {}\n",
    "for sender, count in sender_counts.items():\n",
    "    answered_count = answered_sender_counts[sender] if sender in answered_sender_counts else 0\n",
    "    rate = (answered_count / count) * 100\n",
    "    rate_by_sender[sender] = rate\n",
    "\n",
    "sorted_senders = sorted(rate_by_sender.items(), key=lambda x: x[1], reverse=True)\n",
    "top_senders = sorted_senders[:most_common_senders]\n",
    "\n",
    "print(\"✅ Top senders by answering rate:\")\n",
    "for sender, rate in top_senders:\n",
    "    print(f\"Sender: {sender}, Answering Rate: {rate}%\")"
   ]
  },
  {
   "cell_type": "markdown",
   "id": "cebbe449-f114-4a49-983b-cfdc913e1108",
   "metadata": {},
   "source": [
    "### Identify the unseen emails for the past two weeks from the top senders"
   ]
  },
  {
   "cell_type": "code",
   "execution_count": 6,
   "id": "94396d1c-6c83-4bbc-9d42-993b642152d1",
   "metadata": {
    "execution": {
     "iopub.execute_input": "2023-07-17T06:19:00.299303Z",
     "iopub.status.busy": "2023-07-17T06:19:00.299141Z",
     "iopub.status.idle": "2023-07-17T06:19:01.651585Z",
     "shell.execute_reply": "2023-07-17T06:19:01.651009Z",
     "shell.execute_reply.started": "2023-07-17T06:19:00.299285Z"
    },
    "tags": []
   },
   "outputs": [
    {
     "data": {
      "text/plain": [
       "34"
      ]
     },
     "execution_count": 6,
     "metadata": {},
     "output_type": "execute_result"
    }
   ],
   "source": [
    "unseen_emails = []\n",
    "for sender, count in top_senders:\n",
    "    unseen_messages = server.search(['UNSEEN', 'FROM', sender, 'SINCE', start.strftime('%d-%b-%Y')])\n",
    "    unseen_emails.extend(unseen_messages)\n",
    "len(unseen_emails)"
   ]
  },
  {
   "cell_type": "markdown",
   "id": "f1d21670-dabf-4430-8c1f-d6636fd78d1e",
   "metadata": {},
   "source": [
    "### Extract the date, sender, and subject from the unseen_emails list to provide data for the output"
   ]
  },
  {
   "cell_type": "code",
   "execution_count": 7,
   "id": "b53551be-04f3-482e-a9b2-9d667672ac5e",
   "metadata": {
    "execution": {
     "iopub.execute_input": "2023-07-17T06:19:01.653604Z",
     "iopub.status.busy": "2023-07-17T06:19:01.653323Z",
     "iopub.status.idle": "2023-07-17T06:19:05.180262Z",
     "shell.execute_reply": "2023-07-17T06:19:05.179610Z",
     "shell.execute_reply.started": "2023-07-17T06:19:01.653572Z"
    },
    "tags": []
   },
   "outputs": [],
   "source": [
    "email_list = []\n",
    "for msg_id in unseen_emails:\n",
    "    email_data = server.fetch(msg_id, ['ENVELOPE'])[msg_id][b'ENVELOPE']\n",
    "    sender = email_data.from_[0].mailbox.decode() + \"@\" + email_data.from_[0].host.decode()\n",
    "    date = email_data.date.strftime(\"%Y-%m-%d\")\n",
    "    subject_bytes = email_data.subject.decode()\n",
    "    subject = email.header.decode_header(subject_bytes)[0][0]\n",
    "    if isinstance(subject, bytes):\n",
    "        subject = subject.decode()\n",
    "    email_list.append((sender, date, subject))"
   ]
  },
  {
   "cell_type": "markdown",
   "id": "output_cell",
   "metadata": {
    "papermill": {},
    "tags": []
   },
   "source": [
    "## Output"
   ]
  },
  {
   "cell_type": "markdown",
   "id": "protective-bookmark",
   "metadata": {
    "papermill": {},
    "tags": []
   },
   "source": [
    "### Print the list with the unseen emails for the past two weeks from the top senders"
   ]
  },
  {
   "cell_type": "code",
   "execution_count": 17,
   "id": "bf987a2c-37b0-462d-bdb5-a052d15de044",
   "metadata": {
    "execution": {
     "iopub.execute_input": "2023-07-17T06:20:30.332546Z",
     "iopub.status.busy": "2023-07-17T06:20:30.332314Z",
     "iopub.status.idle": "2023-07-17T06:20:30.338973Z",
     "shell.execute_reply": "2023-07-17T06:20:30.338320Z",
     "shell.execute_reply.started": "2023-07-17T06:20:30.332524Z"
    },
    "tags": []
   },
   "outputs": [
    {
     "name": "stdout",
     "output_type": "stream",
     "text": [
      "premium@academia-mail.com                2023-07-08           \"“T Mitev” cited by “Orsolya Szakály”\"\n",
      "premium@academia-mail.com                2023-07-10           \"“T. Mitev” cited by “Xuanji Hou”\"\n",
      "premium@academia-mail.com                2023-07-12           \"“T. Mitev” cited by “Xuanji Hou”\"\n",
      "premium@academia-mail.com                2023-07-14           \"50% Off, 2 days only - “T. Mitev” cited by “Eva Papazova”\"\n",
      "premium@academia-mail.com                2023-07-16           \"The name \"T. Mitev\" is mentioned in a Mathematics paper uploaded to Academia\"\n",
      "premium@academia-mail.com                2023-07-16           \"“T. Mitev” cited by “Borislav Gueorguiev”\"\n",
      "info@n.myprotein.com                     2023-07-08           \"2x1 | Il Prodotto che costa meno é GRATIS 👀👀\"\n",
      "info@n.myprotein.com                     2023-07-09           \"Pulley & Gran Dorsale: ecco come allenarli\"\n",
      "info@n.myprotein.com                     2023-07-09           \"Ultime Ore 🚨 2x1 su 200+ Prodotti\"\n",
      "info@n.myprotein.com                     2023-07-10           \"45% di SCONTO + Spedizione GRATIS ⚡️ 3,2,1 VIA\"\n",
      "info@n.myprotein.com                     2023-07-10           \"Hazelnut Whip é Tornato in Stock 😍\"\n",
      "info@n.myprotein.com                     2023-07-12           \"ULTIME 24H ⏰ Spedizione GRATIS + 40% di SCONTO\"\n",
      "info@n.myprotein.com                     2023-07-13           \"40% di SCONTO continua su Prodotti Selezionati ⚡️⚡️\"\n",
      "info@n.myprotein.com                     2023-07-14           \"40% di Sconto sui Prodotti per la Massa Muscolare 💪\"\n",
      "info@n.myprotein.com                     2023-07-15           \"Massa Muscolare - Risparmia il 40%💪\"\n",
      "info@n.myprotein.com                     2023-07-16           \"Placa la tua sete con Clear Whey Electrolyte\"\n",
      "info@n.myprotein.com                     2023-07-16           \"ULTIMA OCCASIONE 🚨 40% di Sconto su Lista\"\n",
      "noreply@newsletter.dickieslife.com       2023-07-08           \"Abbiamo i modelli Dickies perfetti per te!\"\n",
      "noreply@newsletter.dickieslife.com       2023-07-11           \"Riparti in grande stile 🎒\"\n",
      "noreply@newsletter.dickieslife.com       2023-07-13           \"Colori vivaci in offerta ora 💙\"\n",
      "noreply@newsletter.dickieslife.com       2023-07-13           \"Colori vivaci in offerta ora 💙\"\n",
      "noreply@newsletter.dickieslife.com       2023-07-14           \"Colori vivaci in offerta ora 💙\"\n",
      "noreply@newsletter.dickieslife.com       2023-07-15           \"Abbiamo i modelli Dickies perfetti per te!\"\n",
      "noreply@newsletter.dickieslife.com       2023-07-16           \"Ultima ora:  Ottieni uno sconto EXTRA del 10% su tutto\"\n",
      "news@mailing.tommy.com                   2023-07-10           \"Tommy x Supervsn: lo spirito della community\"\n",
      "news@mailing.tommy.com                   2023-07-13           \"Camicie e chemisier. Trova il taglio giusto.\"\n",
      "news@mailing.tommy.com                   2023-07-14           \"Ora fino al 50%. Sfrutta al massimo gli sconti\"\n",
      "news@mailing.tommy.com                   2023-07-14           \"Abbiamo aggiornato i nostri Termini e condizioni.\"\n",
      "news@mailing.tommy.com                   2023-07-16           \"Quadri tartan, effetto sicuro\"\n",
      "mary@email.numerade.com                  2023-07-07           \"New On Numerade, Chat with Ace\"\n",
      "mary@email.numerade.com                  2023-07-11           \"Numerade Bootcamps feat. Drake & Ariana Grande\"\n",
      "mary@email.numerade.com                  2023-07-14           \"New Student Newsletter Alert!\"\n",
      "updates@academia-mail.com                2023-07-09           \"📄 \"IRJET- Design and Implementation of a Controller for a Recirculating Aquaponics System using IoT\" by IRJET  Journal\"\n",
      "updates@academia-mail.com                2023-07-15           \"📄 \"Lost and found in black translation: Langston Hughes's translations of French- and Spanish-lanugage poetry, his Hispanic and Francophone translators, and the fashioning of radical black subjectivities\" by Ryan J Kernan\"\n"
     ]
    }
   ],
   "source": [
    "for sender, date, subject in email_list:\n",
    "    print(f\"{sender:<40} {date:<20} \\\"{subject}\\\"\")"
   ]
  }
 ],
 "metadata": {
  "kernelspec": {
   "display_name": "Python 3",
   "language": "python",
   "name": "python3"
  },
  "language_info": {
   "codemirror_mode": {
    "name": "ipython",
    "version": 3
   },
   "file_extension": ".py",
   "mimetype": "text/x-python",
   "name": "python",
   "nbconvert_exporter": "python",
   "pygments_lexer": "ipython3",
   "version": "3.9.6"
  },
  "naas": {
   "notebook_id": "9d0515a1c77f00567dfb9833c75af19c3c9b24efd7b7a6e0a6d53ef0de00fcd0",
   "notebook_path": "Gmail/Gmail_Get_emails_stats_by_sender.ipynb"
  },
  "papermill": {
   "default_parameters": {},
   "environment_variables": {},
   "parameters": {},
   "version": "2.3.3"
  }
 },
 "nbformat": 4,
 "nbformat_minor": 5
}
