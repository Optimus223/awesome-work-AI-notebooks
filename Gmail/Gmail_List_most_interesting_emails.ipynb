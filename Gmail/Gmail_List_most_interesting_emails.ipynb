{
 "cells": [
  {
   "cell_type": "markdown",
   "id": "sustainable-insert",
   "metadata": {
    "papermill": {},
    "tags": []
   },
   "source": [
    "<img width=\"10%\" alt=\"Naas\" src=\"https://landen.imgix.net/jtci2pxwjczr/assets/5ice39g4.png?w=160\"/>"
   ]
  },
  {
   "cell_type": "markdown",
   "id": "forty-morocco",
   "metadata": {
    "papermill": {},
    "tags": []
   },
   "source": [
    "# Gmail - List most interesting emails\n",
    "<a href=\"https://app.naas.ai/user-redirect/naas/downloader?url=https://raw.githubusercontent.com/jupyter-naas/awesome-notebooks/master/Gmail/Gmail_Get_emails_stats_by_sender.ipynb\" target=\"_parent\"><img src=\"https://naasai-public.s3.eu-west-3.amazonaws.com/Open_in_Naas_Lab.svg\"/></a><br><br><a href=\"https://github.com/jupyter-naas/awesome-notebooks/issues/new?assignees=&labels=&template=template-request.md&title=Tool+-+Action+of+the+notebook+\">Template request</a> | <a href=\"https://github.com/jupyter-naas/awesome-notebooks/issues/new?assignees=&labels=bug&template=bug_report.md&title=Gmail+-+Get+emails+stats+by+sender:+Error+short+description\">Bug report</a> | <a href=\"https://app.naas.ai/user-redirect/naas/downloader?url=https://raw.githubusercontent.com/jupyter-naas/awesome-notebooks/master/Naas/Naas_Start_data_product.ipynb\" target=\"_parent\">Generate Data Product</a>"
   ]
  },
  {
   "cell_type": "markdown",
   "id": "tags_cell",
   "metadata": {
    "papermill": {},
    "tags": []
   },
   "source": [
    "**Tags:** #gmail #productivity #naas_drivers #operations #automation #analytics #plotly"
   ]
  },
  {
   "cell_type": "markdown",
   "id": "367e326e-ad83-445f-b847-666e9e1e79b3",
   "metadata": {
    "papermill": {},
    "tags": []
   },
   "source": [
    "**Author:** [Antonio Georgiev](www.linkedin.com/in/antonio-georgiev-b672a325b)"
   ]
  },
  {
   "cell_type": "markdown",
   "id": "naas-description",
   "metadata": {
    "papermill": {},
    "tags": [
     "description"
    ]
   },
   "source": [
    "**Description:** This notebook analyses users' inbox and extracts a list of senders that the user is most interested in, depending on the user's opening rate of the sender's emails in the last two weeks."
   ]
  },
  {
   "cell_type": "markdown",
   "id": "input_cell",
   "metadata": {
    "papermill": {},
    "tags": []
   },
   "source": [
    "## Input"
   ]
  },
  {
   "cell_type": "markdown",
   "id": "136b8959-cdb1-42bb-aaf9-2321b2da134d",
   "metadata": {
    "papermill": {},
    "tags": []
   },
   "source": [
    "### Import libraries"
   ]
  },
  {
   "cell_type": "code",
   "execution_count": 1,
   "id": "civil-possible",
   "metadata": {
    "execution": {
     "iopub.execute_input": "2023-07-06T11:22:35.103059Z",
     "iopub.status.busy": "2023-07-06T11:22:35.102792Z",
     "iopub.status.idle": "2023-07-06T11:22:37.114189Z",
     "shell.execute_reply": "2023-07-06T11:22:37.113550Z",
     "shell.execute_reply.started": "2023-07-06T11:22:35.102995Z"
    },
    "papermill": {},
    "tags": []
   },
   "outputs": [],
   "source": [
    "import naas\n",
    "from naas_drivers import email\n",
    "import pandas as pd\n",
    "import numpy as np\n",
    "import plotly.express as px\n",
    "from datetime import datetime, timedelta, date\n",
    "import pytz"
   ]
  },
  {
   "cell_type": "markdown",
   "id": "copyrighted-lighter",
   "metadata": {
    "papermill": {},
    "tags": []
   },
   "source": [
    "### Setup Variables\n",
    "Create an application password following [this procedure](https://support.google.com/mail/answer/185833?hl=en)\n",
    "- `username`: This variable stores the username or email address associated with the email account\n",
    "- `password`: This variable stores the password or authentication token required to access the email account\n",
    "- `smtp_server`: This variable represents the SMTP server address used for sending emails.\n",
    "- `box`: This variable stores the name or identifier of the mailbox or folder within the email account that will be accessed."
   ]
  },
  {
   "cell_type": "code",
   "execution_count": 2,
   "id": "handed-rolling",
   "metadata": {
    "execution": {
     "iopub.execute_input": "2023-07-06T11:22:37.117082Z",
     "iopub.status.busy": "2023-07-06T11:22:37.116621Z",
     "iopub.status.idle": "2023-07-06T11:22:37.270710Z",
     "shell.execute_reply": "2023-07-06T11:22:37.270064Z",
     "shell.execute_reply.started": "2023-07-06T11:22:37.117047Z"
    },
    "papermill": {},
    "tags": []
   },
   "outputs": [],
   "source": [
    "username = \"theuniverse.bg@gmail.com\"\n",
    "password = naas.secret.get(\"GMAIL_APP_PASSWORD\")\n",
    "smtp_server = \"imap.gmail.com\"\n",
    "box = \"INBOX\"\n",
    "days = 14"
   ]
  },
  {
   "cell_type": "markdown",
   "id": "model_cell",
   "metadata": {
    "papermill": {},
    "tags": []
   },
   "source": [
    "## Model"
   ]
  },
  {
   "cell_type": "markdown",
   "id": "opposite-simon",
   "metadata": {
    "papermill": {},
    "tags": []
   },
   "source": [
    "### Connect to email box"
   ]
  },
  {
   "cell_type": "code",
   "execution_count": 3,
   "id": "painted-harvard",
   "metadata": {
    "execution": {
     "iopub.execute_input": "2023-07-06T11:22:38.221524Z",
     "iopub.status.busy": "2023-07-06T11:22:38.220361Z",
     "iopub.status.idle": "2023-07-06T11:22:38.233275Z",
     "shell.execute_reply": "2023-07-06T11:22:38.230653Z",
     "shell.execute_reply.started": "2023-07-06T11:22:38.221443Z"
    },
    "papermill": {},
    "tags": []
   },
   "outputs": [],
   "source": [
    "emails = email.connect(username, password, username, smtp_server)"
   ]
  },
  {
   "cell_type": "markdown",
   "id": "adopted-tolerance",
   "metadata": {
    "papermill": {},
    "tags": []
   },
   "source": [
    "### Get all seen emails list"
   ]
  },
  {
   "cell_type": "code",
   "execution_count": null,
   "id": "8ca1a4db-fae5-491b-a324-0359108cfe9c",
   "metadata": {
    "execution": {
     "iopub.execute_input": "2023-07-06T11:22:46.118498Z",
     "iopub.status.busy": "2023-07-06T11:22:46.118192Z"
    },
    "tags": []
   },
   "outputs": [],
   "source": [
    "today = datetime.now().date()\n",
    "two_weeks_ago = today - timedelta(days=14)\n",
    "sorted_emails = emails.get_emails_by_date(date=two_weeks_ago, condition=\"after or on\")\n",
    "print(len(sorted_emails))\n",
    "seen_emails = sorted_emails[sorted_emails['flags'].apply(lambda flags: 'SEEN' in [flag.upper() for flag in flags])]\n",
    "print(len(seen_emails))"
   ]
  },
  {
   "cell_type": "markdown",
   "id": "601903d2-f32d-41fe-833c-755ec6531997",
   "metadata": {},
   "source": [
    "### Get most viewed senders by counting the occurencies"
   ]
  },
  {
   "cell_type": "code",
   "execution_count": 5,
   "id": "f3671363-c6ab-424c-a7c1-b425ad15053f",
   "metadata": {
    "execution": {
     "iopub.execute_input": "2023-07-06T10:54:42.171521Z",
     "iopub.status.busy": "2023-07-06T10:54:42.171278Z",
     "iopub.status.idle": "2023-07-06T10:54:42.181367Z",
     "shell.execute_reply": "2023-07-06T10:54:42.180836Z",
     "shell.execute_reply.started": "2023-07-06T10:54:42.171488Z"
    },
    "tags": []
   },
   "outputs": [],
   "source": [
    "senders = seen_emails['from'].apply(lambda x: x['email'])\n",
    "df_senders = pd.DataFrame({'sender': senders})\n",
    "most_viewed_senders = df_senders['sender'].value_counts().head(10)"
   ]
  },
  {
   "cell_type": "markdown",
   "id": "b0950522-0f28-49f1-ad65-6062de558023",
   "metadata": {},
   "source": [
    "### Identify the top 3 senders"
   ]
  },
  {
   "cell_type": "code",
   "execution_count": 6,
   "id": "6ec96060-cbc1-42c7-bdc0-24e5383020f7",
   "metadata": {
    "execution": {
     "iopub.execute_input": "2023-07-06T10:54:44.677884Z",
     "iopub.status.busy": "2023-07-06T10:54:44.677652Z",
     "iopub.status.idle": "2023-07-06T10:54:44.681165Z",
     "shell.execute_reply": "2023-07-06T10:54:44.680489Z",
     "shell.execute_reply.started": "2023-07-06T10:54:44.677861Z"
    },
    "tags": []
   },
   "outputs": [],
   "source": [
    "top_senders = most_viewed_senders.head(3).index.tolist() # create a rate for each sender"
   ]
  },
  {
   "cell_type": "markdown",
   "id": "cebbe449-f114-4a49-983b-cfdc913e1108",
   "metadata": {},
   "source": [
    "### Find the unseen emails for the past two weeks from the top senders"
   ]
  },
  {
   "cell_type": "code",
   "execution_count": 7,
   "id": "94396d1c-6c83-4bbc-9d42-993b642152d1",
   "metadata": {
    "execution": {
     "iopub.execute_input": "2023-07-06T10:54:45.530254Z",
     "iopub.status.busy": "2023-07-06T10:54:45.530024Z",
     "iopub.status.idle": "2023-07-06T10:54:45.535460Z",
     "shell.execute_reply": "2023-07-06T10:54:45.534825Z",
     "shell.execute_reply.started": "2023-07-06T10:54:45.530230Z"
    },
    "tags": []
   },
   "outputs": [],
   "source": [
    "unseen_emails = sorted_emails[sorted_emails['flags'].apply(lambda flags: 'SEEN' not in [flag.upper() for flag in flags])]\n",
    "top_sender_emails = unseen_emails[unseen_emails['from'].str.contains(top_senders[0], case=False)]"
   ]
  },
  {
   "cell_type": "markdown",
   "id": "output_cell",
   "metadata": {
    "papermill": {},
    "tags": []
   },
   "source": [
    "## Output"
   ]
  },
  {
   "cell_type": "markdown",
   "id": "protective-bookmark",
   "metadata": {
    "papermill": {},
    "tags": []
   },
   "source": [
    "### Print the list with the unseen emails for the past two weeks from the top senders"
   ]
  },
  {
   "cell_type": "code",
   "execution_count": 8,
   "id": "bf987a2c-37b0-462d-bdb5-a052d15de044",
   "metadata": {
    "execution": {
     "iopub.execute_input": "2023-07-06T10:54:47.138025Z",
     "iopub.status.busy": "2023-07-06T10:54:47.137789Z",
     "iopub.status.idle": "2023-07-06T10:54:47.144417Z",
     "shell.execute_reply": "2023-07-06T10:54:47.143755Z",
     "shell.execute_reply.started": "2023-07-06T10:54:47.138001Z"
    },
    "tags": []
   },
   "outputs": [
    {
     "name": "stdout",
     "output_type": "stream",
     "text": [
      "The unseen emails by the top 3 senders (based on opened emails) for the last 2 weeks:\n",
      "Empty DataFrame\n",
      "Columns: [uid, subject, from, to, cc, bcc, reply_to, date, text, html, flags, headers, size_rfc822, size, obj, attachments]\n",
      "Index: []\n"
     ]
    }
   ],
   "source": [
    "print(\"The unseen emails by the top 3 senders (based on opened emails) for the last 2 weeks:\")\n",
    "print(top_sender_emails)"
   ]
  },
  {
   "cell_type": "code",
   "execution_count": null,
   "id": "40b021e7-0b14-45bd-934b-32178284577a",
   "metadata": {},
   "outputs": [],
   "source": []
  }
 ],
 "metadata": {
  "kernelspec": {
   "display_name": "Python 3",
   "language": "python",
   "name": "python3"
  },
  "language_info": {
   "codemirror_mode": {
    "name": "ipython",
    "version": 3
   },
   "file_extension": ".py",
   "mimetype": "text/x-python",
   "name": "python",
   "nbconvert_exporter": "python",
   "pygments_lexer": "ipython3",
   "version": "3.9.6"
  },
  "naas": {
   "notebook_id": "9d0515a1c77f00567dfb9833c75af19c3c9b24efd7b7a6e0a6d53ef0de00fcd0",
   "notebook_path": "Gmail/Gmail_Get_emails_stats_by_sender.ipynb"
  },
  "papermill": {
   "default_parameters": {},
   "environment_variables": {},
   "parameters": {},
   "version": "2.3.3"
  }
 },
 "nbformat": 4,
 "nbformat_minor": 5
}
