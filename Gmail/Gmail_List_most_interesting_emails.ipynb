{
 "cells": [
  {
   "cell_type": "markdown",
   "id": "sustainable-insert",
   "metadata": {
    "papermill": {},
    "tags": []
   },
   "source": [
    "<img width=\"10%\" alt=\"Naas\" src=\"https://landen.imgix.net/jtci2pxwjczr/assets/5ice39g4.png?w=160\"/>"
   ]
  },
  {
   "cell_type": "markdown",
   "id": "forty-morocco",
   "metadata": {
    "papermill": {},
    "tags": []
   },
   "source": [
    "# Gmail - List most interesting emails\n",
    "<a href=\"https://app.naas.ai/user-redirect/naas/downloader?url=https://raw.githubusercontent.com/jupyter-naas/awesome-notebooks/master/Gmail/Gmail_Get_emails_stats_by_sender.ipynb\" target=\"_parent\"><img src=\"https://naasai-public.s3.eu-west-3.amazonaws.com/Open_in_Naas_Lab.svg\"/></a><br><br><a href=\"https://github.com/jupyter-naas/awesome-notebooks/issues/new?assignees=&labels=&template=template-request.md&title=Tool+-+Action+of+the+notebook+\">Template request</a> | <a href=\"https://github.com/jupyter-naas/awesome-notebooks/issues/new?assignees=&labels=bug&template=bug_report.md&title=Gmail+-+Get+emails+stats+by+sender:+Error+short+description\">Bug report</a> | <a href=\"https://app.naas.ai/user-redirect/naas/downloader?url=https://raw.githubusercontent.com/jupyter-naas/awesome-notebooks/master/Naas/Naas_Start_data_product.ipynb\" target=\"_parent\">Generate Data Product</a>"
   ]
  },
  {
   "cell_type": "markdown",
   "id": "tags_cell",
   "metadata": {
    "papermill": {},
    "tags": []
   },
   "source": [
    "**Tags:** #gmail #productivity #naas_drivers #operations #automation #analytics #plotly"
   ]
  },
  {
   "cell_type": "markdown",
   "id": "367e326e-ad83-445f-b847-666e9e1e79b3",
   "metadata": {
    "papermill": {},
    "tags": []
   },
   "source": [
    "**Author:** [Antonio Georgiev](www.linkedin.com/in/antonio-georgiev-b672a325b)"
   ]
  },
  {
   "cell_type": "markdown",
   "id": "naas-description",
   "metadata": {
    "papermill": {},
    "tags": [
     "description"
    ]
   },
   "source": [
    "**Description:** This notebook analyses users' inbox, identifies a list of senders that the user is most interested in, depending on the user's opening rate of the sender's emails in the last two weeks, and outputs the unseen emails for the past 2 weeks from these senders. \n",
    "This notebook aims to keep the user on track with their most important emails and ensures that they won't leave an important email unopened"
   ]
  },
  {
   "cell_type": "markdown",
   "id": "input_cell",
   "metadata": {
    "papermill": {},
    "tags": []
   },
   "source": [
    "## Input"
   ]
  },
  {
   "cell_type": "markdown",
   "id": "136b8959-cdb1-42bb-aaf9-2321b2da134d",
   "metadata": {
    "papermill": {},
    "tags": []
   },
   "source": [
    "### Import libraries"
   ]
  },
  {
   "cell_type": "code",
   "execution_count": 1,
   "id": "civil-possible",
   "metadata": {
    "execution": {
     "iopub.execute_input": "2023-07-07T09:15:29.822744Z",
     "iopub.status.busy": "2023-07-07T09:15:29.822381Z",
     "iopub.status.idle": "2023-07-07T09:15:31.632068Z",
     "shell.execute_reply": "2023-07-07T09:15:31.631413Z",
     "shell.execute_reply.started": "2023-07-07T09:15:29.822652Z"
    },
    "papermill": {},
    "tags": []
   },
   "outputs": [],
   "source": [
    "import datetime\n",
    "import os\n",
    "from imapclient import IMAPClient\n",
    "import naas\n",
    "from collections import Counter\n",
    "import quopri\n",
    "import email.header"
   ]
  },
  {
   "cell_type": "markdown",
   "id": "copyrighted-lighter",
   "metadata": {
    "papermill": {},
    "tags": []
   },
   "source": [
    "### Setup Variables\n",
    "Create an application password following [this procedure](https://support.google.com/mail/answer/185833?hl=en)\n",
    "- `username`: This variable stores the username or email address associated with the email account\n",
    "- `password`: This variable stores the password or authentication token required to access the email account\n",
    "- `server`: This variable represents the SMTP server address used for sending emails."
   ]
  },
  {
   "cell_type": "code",
   "execution_count": 15,
   "id": "handed-rolling",
   "metadata": {
    "execution": {
     "iopub.execute_input": "2023-07-07T09:22:55.777661Z",
     "iopub.status.busy": "2023-07-07T09:22:55.777424Z",
     "iopub.status.idle": "2023-07-07T09:22:55.948548Z",
     "shell.execute_reply": "2023-07-07T09:22:55.947924Z",
     "shell.execute_reply.started": "2023-07-07T09:22:55.777636Z"
    },
    "papermill": {},
    "tags": []
   },
   "outputs": [],
   "source": [
    "username = \"xxxxx@xxxx\"\n",
    "password = naas.secret.get(\"GMAIL_APP_PASSWORD\")\n",
    "server = IMAPClient('imap.gmail.com')"
   ]
  },
  {
   "cell_type": "markdown",
   "id": "model_cell",
   "metadata": {
    "papermill": {},
    "tags": []
   },
   "source": [
    "## Model"
   ]
  },
  {
   "cell_type": "markdown",
   "id": "opposite-simon",
   "metadata": {
    "papermill": {},
    "tags": []
   },
   "source": [
    "### Connect to email box"
   ]
  },
  {
   "cell_type": "code",
   "execution_count": 16,
   "id": "painted-harvard",
   "metadata": {
    "execution": {
     "iopub.execute_input": "2023-07-07T09:22:56.947282Z",
     "iopub.status.busy": "2023-07-07T09:22:56.947011Z",
     "iopub.status.idle": "2023-07-07T09:22:57.610667Z",
     "shell.execute_reply": "2023-07-07T09:22:57.610084Z",
     "shell.execute_reply.started": "2023-07-07T09:22:56.947250Z"
    },
    "papermill": {},
    "tags": []
   },
   "outputs": [
    {
     "data": {
      "text/plain": [
       "{b'PERMANENTFLAGS': (b'\\\\Answered',\n",
       "  b'\\\\Flagged',\n",
       "  b'\\\\Draft',\n",
       "  b'\\\\Deleted',\n",
       "  b'\\\\Seen',\n",
       "  b'$NotPhishing',\n",
       "  b'$Phishing',\n",
       "  b'\\\\*'),\n",
       " b'FLAGS': (b'\\\\Answered',\n",
       "  b'\\\\Flagged',\n",
       "  b'\\\\Draft',\n",
       "  b'\\\\Deleted',\n",
       "  b'\\\\Seen',\n",
       "  b'$NotPhishing',\n",
       "  b'$Phishing'),\n",
       " b'UIDVALIDITY': 1,\n",
       " b'EXISTS': 1462,\n",
       " b'RECENT': 0,\n",
       " b'UIDNEXT': 1573,\n",
       " b'HIGHESTMODSEQ': 243011,\n",
       " b'READ-WRITE': True}"
      ]
     },
     "execution_count": 16,
     "metadata": {},
     "output_type": "execute_result"
    }
   ],
   "source": [
    "server.login(username, password)\n",
    "server.select_folder('INBOX')"
   ]
  },
  {
   "cell_type": "markdown",
   "id": "adopted-tolerance",
   "metadata": {
    "papermill": {},
    "tags": []
   },
   "source": [
    "### Get all seen emails with their flags (seen or unseen), date, and sender"
   ]
  },
  {
   "cell_type": "code",
   "execution_count": 17,
   "id": "8ca1a4db-fae5-491b-a324-0359108cfe9c",
   "metadata": {
    "execution": {
     "iopub.execute_input": "2023-07-07T09:24:04.787211Z",
     "iopub.status.busy": "2023-07-07T09:24:04.786967Z",
     "iopub.status.idle": "2023-07-07T09:24:05.357839Z",
     "shell.execute_reply": "2023-07-07T09:24:05.357229Z",
     "shell.execute_reply.started": "2023-07-07T09:24:04.787176Z"
    },
    "tags": []
   },
   "outputs": [],
   "source": [
    "today = datetime.date.today()\n",
    "two_weeks_ago = today - datetime.timedelta(days=14)\n",
    "messages = server.search(['SEEN', 'SINCE', two_weeks_ago.strftime('%d-%b-%Y')])\n",
    "metadata = server.fetch(messages, ['RFC822.SIZE', 'FLAGS', 'INTERNALDATE', 'ENVELOPE'])"
   ]
  },
  {
   "cell_type": "markdown",
   "id": "601903d2-f32d-41fe-833c-755ec6531997",
   "metadata": {},
   "source": [
    "### Get most viewed senders by counting the occurencies"
   ]
  },
  {
   "cell_type": "code",
   "execution_count": 18,
   "id": "f3671363-c6ab-424c-a7c1-b425ad15053f",
   "metadata": {
    "execution": {
     "iopub.execute_input": "2023-07-07T09:24:18.359077Z",
     "iopub.status.busy": "2023-07-07T09:24:18.358846Z",
     "iopub.status.idle": "2023-07-07T09:24:18.363560Z",
     "shell.execute_reply": "2023-07-07T09:24:18.362930Z",
     "shell.execute_reply.started": "2023-07-07T09:24:18.359053Z"
    },
    "tags": []
   },
   "outputs": [
    {
     "name": "stdout",
     "output_type": "stream",
     "text": [
      "[('info@n.myprotein.com', 15), ('premium@academia-mail.com', 11), ('news@mailing.tommy.com', 8)]\n"
     ]
    }
   ],
   "source": [
    "senders = []\n",
    "for data in metadata.values():\n",
    "    envelope = data[b'ENVELOPE']\n",
    "    if envelope.from_:\n",
    "        sender_email = envelope.from_[0].mailbox.decode() + \"@\" + envelope.from_[0].host.decode()\n",
    "        senders.append(sender_email)\n",
    "senders\n",
    "sender_counts = Counter(senders)\n",
    "most_seen_senders = sender_counts.most_common(3)  \n",
    "print(most_seen_senders)"
   ]
  },
  {
   "cell_type": "markdown",
   "id": "cebbe449-f114-4a49-983b-cfdc913e1108",
   "metadata": {},
   "source": [
    "### Identify the unseen emails for the past two weeks from the top senders"
   ]
  },
  {
   "cell_type": "code",
   "execution_count": 20,
   "id": "94396d1c-6c83-4bbc-9d42-993b642152d1",
   "metadata": {
    "execution": {
     "iopub.execute_input": "2023-07-07T09:26:01.079355Z",
     "iopub.status.busy": "2023-07-07T09:26:01.079019Z",
     "iopub.status.idle": "2023-07-07T09:26:01.441185Z",
     "shell.execute_reply": "2023-07-07T09:26:01.440488Z",
     "shell.execute_reply.started": "2023-07-07T09:26:01.079326Z"
    },
    "tags": []
   },
   "outputs": [
    {
     "data": {
      "text/plain": [
       "[1558, 1565, 1572, 1564]"
      ]
     },
     "execution_count": 20,
     "metadata": {},
     "output_type": "execute_result"
    }
   ],
   "source": [
    "unseen_emails = []\n",
    "for sender, count in most_seen_senders:\n",
    "    unseen_messages = server.search(['UNSEEN', 'FROM', sender, 'SINCE', two_weeks_ago.strftime('%d-%b-%Y')])\n",
    "    unseen_emails.extend(unseen_messages)\n",
    "unseen_emails"
   ]
  },
  {
   "cell_type": "markdown",
   "id": "f1d21670-dabf-4430-8c1f-d6636fd78d1e",
   "metadata": {},
   "source": [
    "### Extract the date, sender, and subject from the unseen_emails list to provide data for the output"
   ]
  },
  {
   "cell_type": "code",
   "execution_count": 21,
   "id": "b53551be-04f3-482e-a9b2-9d667672ac5e",
   "metadata": {
    "execution": {
     "iopub.execute_input": "2023-07-07T09:26:02.199229Z",
     "iopub.status.busy": "2023-07-07T09:26:02.198997Z",
     "iopub.status.idle": "2023-07-07T09:26:02.617503Z",
     "shell.execute_reply": "2023-07-07T09:26:02.616866Z",
     "shell.execute_reply.started": "2023-07-07T09:26:02.199205Z"
    },
    "tags": []
   },
   "outputs": [],
   "source": [
    "email_list = []\n",
    "for msg_id in unseen_emails:\n",
    "    email_data = server.fetch(msg_id, ['ENVELOPE'])[msg_id][b'ENVELOPE']\n",
    "    sender = email_data.from_[0].mailbox.decode() + \"@\" + email_data.from_[0].host.decode()\n",
    "    date = email_data.date.strftime(\"%Y-%m-%d %H:%M:%S\")\n",
    "    subject_bytes = email_data.subject.decode()\n",
    "    subject = email.header.decode_header(subject_bytes)[0][0]\n",
    "    if isinstance(subject, bytes):\n",
    "        subject = subject.decode()\n",
    "    email_list.append((sender, date, subject))"
   ]
  },
  {
   "cell_type": "markdown",
   "id": "output_cell",
   "metadata": {
    "papermill": {},
    "tags": []
   },
   "source": [
    "## Output"
   ]
  },
  {
   "cell_type": "markdown",
   "id": "protective-bookmark",
   "metadata": {
    "papermill": {},
    "tags": []
   },
   "source": [
    "### Print the list with the unseen emails for the past two weeks from the top senders"
   ]
  },
  {
   "cell_type": "code",
   "execution_count": 22,
   "id": "bf987a2c-37b0-462d-bdb5-a052d15de044",
   "metadata": {
    "execution": {
     "iopub.execute_input": "2023-07-07T09:26:13.399499Z",
     "iopub.status.busy": "2023-07-07T09:26:13.399264Z",
     "iopub.status.idle": "2023-07-07T09:26:13.404552Z",
     "shell.execute_reply": "2023-07-07T09:26:13.403930Z",
     "shell.execute_reply.started": "2023-07-07T09:26:13.399474Z"
    },
    "tags": []
   },
   "outputs": [
    {
     "name": "stdout",
     "output_type": "stream",
     "text": [
      "The unseen emails by the top 3 senders (based on opened emails) for the last 2 weeks:\n"
     ]
    },
    {
     "data": {
      "text/plain": [
       "[('info@n.myprotein.com',\n",
       "  '2023-07-05 10:01:29',\n",
       "  'Hey😵 ti stai perdendo il 2x1 su 200+ Prodotti'),\n",
       " ('info@n.myprotein.com', '2023-07-06 10:01:14', '🚨 2x1 su 200+ Prodotti 🚨'),\n",
       " ('info@n.myprotein.com',\n",
       "  '2023-07-07 10:01:08',\n",
       "  '2x1 su Piú di 200 Prodotti? Sí, hai sentito bene 😎'),\n",
       " ('premium@academia-mail.com',\n",
       "  '2023-07-06 02:32:14',\n",
       "  '50% Off, 2 days only - “T. Mitev” cited by “Eva Papazova”')]"
      ]
     },
     "execution_count": 22,
     "metadata": {},
     "output_type": "execute_result"
    }
   ],
   "source": [
    "print(\"The unseen emails by the top 3 senders (based on opened emails) for the last 2 weeks:\")\n",
    "email_list"
   ]
  }
 ],
 "metadata": {
  "kernelspec": {
   "display_name": "Python 3",
   "language": "python",
   "name": "python3"
  },
  "language_info": {
   "codemirror_mode": {
    "name": "ipython",
    "version": 3
   },
   "file_extension": ".py",
   "mimetype": "text/x-python",
   "name": "python",
   "nbconvert_exporter": "python",
   "pygments_lexer": "ipython3",
   "version": "3.9.6"
  },
  "naas": {
   "notebook_id": "9d0515a1c77f00567dfb9833c75af19c3c9b24efd7b7a6e0a6d53ef0de00fcd0",
   "notebook_path": "Gmail/Gmail_Get_emails_stats_by_sender.ipynb"
  },
  "papermill": {
   "default_parameters": {},
   "environment_variables": {},
   "parameters": {},
   "version": "2.3.3"
  }
 },
 "nbformat": 4,
 "nbformat_minor": 5
}
