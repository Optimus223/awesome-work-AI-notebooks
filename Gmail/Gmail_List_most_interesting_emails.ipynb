{
 "cells": [
  {
   "cell_type": "markdown",
   "id": "sustainable-insert",
   "metadata": {
    "papermill": {},
    "tags": []
   },
   "source": [
    "<img width=\"10%\" alt=\"Naas\" src=\"https://landen.imgix.net/jtci2pxwjczr/assets/5ice39g4.png?w=160\"/>"
   ]
  },
  {
   "cell_type": "markdown",
   "id": "forty-morocco",
   "metadata": {
    "papermill": {},
    "tags": []
   },
   "source": [
    "# Gmail - List most interesting emails\n",
    "<a href=\"https://app.naas.ai/user-redirect/naas/downloader?url=https://raw.githubusercontent.com/jupyter-naas/awesome-notebooks/master/Gmail/Gmail_Get_emails_stats_by_sender.ipynb\" target=\"_parent\"><img src=\"https://naasai-public.s3.eu-west-3.amazonaws.com/Open_in_Naas_Lab.svg\"/></a><br><br><a href=\"https://github.com/jupyter-naas/awesome-notebooks/issues/new?assignees=&labels=&template=template-request.md&title=Tool+-+Action+of+the+notebook+\">Template request</a> | <a href=\"https://github.com/jupyter-naas/awesome-notebooks/issues/new?assignees=&labels=bug&template=bug_report.md&title=Gmail+-+Get+emails+stats+by+sender:+Error+short+description\">Bug report</a> | <a href=\"https://app.naas.ai/user-redirect/naas/downloader?url=https://raw.githubusercontent.com/jupyter-naas/awesome-notebooks/master/Naas/Naas_Start_data_product.ipynb\" target=\"_parent\">Generate Data Product</a>"
   ]
  },
  {
   "cell_type": "markdown",
   "id": "tags_cell",
   "metadata": {
    "papermill": {},
    "tags": []
   },
   "source": [
    "**Tags:** #gmail #productivity #naas_drivers #operations #automation #analytics #plotly"
   ]
  },
  {
   "cell_type": "markdown",
   "id": "367e326e-ad83-445f-b847-666e9e1e79b3",
   "metadata": {
    "papermill": {},
    "tags": []
   },
   "source": [
    "**Author:** [Antonio Georgiev](www.linkedin.com/in/antonio-georgiev-b672a325b)"
   ]
  },
  {
   "cell_type": "markdown",
   "id": "naas-description",
   "metadata": {
    "papermill": {},
    "tags": [
     "description"
    ]
   },
   "source": [
    "**Description:** This notebook analyses users' inbox, identifies a list of senders that the user is most interested in, depending on the user's response rate to the sender's emails in a set period, and outputs the unseen emails for the past 2 weeks from these senders. \n",
    "This notebook aims to keep the user on track with their most important emails and ensures that they won't leave an important email unopened"
   ]
  },
  {
   "cell_type": "markdown",
   "id": "input_cell",
   "metadata": {
    "papermill": {},
    "tags": []
   },
   "source": [
    "## Input"
   ]
  },
  {
   "cell_type": "markdown",
   "id": "136b8959-cdb1-42bb-aaf9-2321b2da134d",
   "metadata": {
    "papermill": {},
    "tags": []
   },
   "source": [
    "### Import libraries"
   ]
  },
  {
   "cell_type": "code",
   "execution_count": 1,
   "id": "civil-possible",
   "metadata": {
    "execution": {
     "iopub.execute_input": "2023-07-13T09:17:56.783411Z",
     "iopub.status.busy": "2023-07-13T09:17:56.783049Z",
     "iopub.status.idle": "2023-07-13T09:17:58.677246Z",
     "shell.execute_reply": "2023-07-13T09:17:58.676437Z",
     "shell.execute_reply.started": "2023-07-13T09:17:56.783332Z"
    },
    "papermill": {},
    "tags": []
   },
   "outputs": [],
   "source": [
    "import datetime\n",
    "import os\n",
    "try:\n",
    "    from imapclient import IMAPClient\n",
    "except:\n",
    "    !pip install imapclient --user\n",
    "    from imapclient import IMAPClient\n",
    "import naas\n",
    "from collections import Counter\n",
    "import quopri\n",
    "import email.header"
   ]
  },
  {
   "cell_type": "markdown",
   "id": "copyrighted-lighter",
   "metadata": {
    "papermill": {},
    "tags": []
   },
   "source": [
    "### Setup Variables\n",
    "Create an application password following [this procedure](https://support.google.com/mail/answer/185833?hl=en)\n",
    "- `username`: This variable stores the username or email address associated with the email account\n",
    "- `password`: This variable stores the password or authentication token required to access the email account\n",
    "- `date_start`: Number of days to filter your inbox, it must be negative value\n",
    "- `most_common_senders`: Number of most common senders you want to list as output"
   ]
  },
  {
   "cell_type": "code",
   "execution_count": 2,
   "id": "handed-rolling",
   "metadata": {
    "execution": {
     "iopub.execute_input": "2023-07-13T09:17:58.681054Z",
     "iopub.status.busy": "2023-07-13T09:17:58.680668Z",
     "iopub.status.idle": "2023-07-13T09:17:58.816552Z",
     "shell.execute_reply": "2023-07-13T09:17:58.815957Z",
     "shell.execute_reply.started": "2023-07-13T09:17:58.681018Z"
    },
    "papermill": {},
    "tags": []
   },
   "outputs": [],
   "source": [
    "username = \"theuniverse.bg@gmail.com\"\n",
    "password = naas.secret.get(\"GMAIL_APP_PASSWORD\")\n",
    "date_start = -30\n",
    "most_common_senders = 10"
   ]
  },
  {
   "cell_type": "markdown",
   "id": "model_cell",
   "metadata": {
    "papermill": {},
    "tags": []
   },
   "source": [
    "## Model"
   ]
  },
  {
   "cell_type": "markdown",
   "id": "opposite-simon",
   "metadata": {
    "papermill": {},
    "tags": []
   },
   "source": [
    "### Connect to email box"
   ]
  },
  {
   "cell_type": "code",
   "execution_count": 3,
   "id": "painted-harvard",
   "metadata": {
    "execution": {
     "iopub.execute_input": "2023-07-13T09:18:00.054257Z",
     "iopub.status.busy": "2023-07-13T09:18:00.053975Z",
     "iopub.status.idle": "2023-07-13T09:18:00.889047Z",
     "shell.execute_reply": "2023-07-13T09:18:00.888314Z",
     "shell.execute_reply.started": "2023-07-13T09:18:00.054221Z"
    },
    "papermill": {},
    "tags": []
   },
   "outputs": [
    {
     "name": "stdout",
     "output_type": "stream",
     "text": [
      "✅ Successfully connected to INBOX\n"
     ]
    }
   ],
   "source": [
    "server = IMAPClient('imap.gmail.com')\n",
    "server.login(username, password)\n",
    "server.select_folder('INBOX')\n",
    "print(\"✅ Successfully connected to INBOX\")"
   ]
  },
  {
   "cell_type": "markdown",
   "id": "adopted-tolerance",
   "metadata": {
    "papermill": {},
    "tags": []
   },
   "source": [
    "### Get all seen emails with their flags (seen or unseen), date, and sender"
   ]
  },
  {
   "cell_type": "code",
   "execution_count": 4,
   "id": "8ca1a4db-fae5-491b-a324-0359108cfe9c",
   "metadata": {
    "execution": {
     "iopub.execute_input": "2023-07-13T09:18:01.309669Z",
     "iopub.status.busy": "2023-07-13T09:18:01.309435Z",
     "iopub.status.idle": "2023-07-13T09:18:02.107731Z",
     "shell.execute_reply": "2023-07-13T09:18:02.107037Z",
     "shell.execute_reply.started": "2023-07-13T09:18:01.309645Z"
    },
    "tags": []
   },
   "outputs": [
    {
     "name": "stdout",
     "output_type": "stream",
     "text": [
      "✅ Seen emails fetched: 126\n",
      "✅ All emails fetched: 149\n"
     ]
    }
   ],
   "source": [
    "today = datetime.date.today()\n",
    "start = today + datetime.timedelta(days=date_start)\n",
    "seen_messages = server.search(['SEEN', 'SINCE', start.strftime('%d-%b-%Y')])\n",
    "all_messages = server.search(['SINCE', start.strftime('%d-%b-%Y')])\n",
    "seen_metadata = server.fetch(seen_messages, ['RFC822.SIZE', 'FLAGS', 'INTERNALDATE', 'ENVELOPE'])\n",
    "all_metadata = server.fetch(all_messages, ['RFC822.SIZE', 'FLAGS', 'INTERNALDATE', 'ENVELOPE'])\n",
    "print(\"✅ Seen emails fetched:\", len(seen_metadata))\n",
    "print(\"✅ All emails fetched:\", len(all_metadata))"
   ]
  },
  {
   "cell_type": "markdown",
   "id": "601903d2-f32d-41fe-833c-755ec6531997",
   "metadata": {},
   "source": [
    "### Get most viewed senders by counting the occurencies"
   ]
  },
  {
   "cell_type": "code",
   "execution_count": 5,
   "id": "584ce61e-88f2-4c7b-8511-ac7934dc6731",
   "metadata": {
    "execution": {
     "iopub.execute_input": "2023-07-13T09:18:03.092265Z",
     "iopub.status.busy": "2023-07-13T09:18:03.091865Z",
     "iopub.status.idle": "2023-07-13T09:18:03.118558Z",
     "shell.execute_reply": "2023-07-13T09:18:03.107081Z",
     "shell.execute_reply.started": "2023-07-13T09:18:03.092228Z"
    },
    "tags": []
   },
   "outputs": [
    {
     "name": "stdout",
     "output_type": "stream",
     "text": [
      "✅ Top senders by answering rate:\n",
      "Sender: premium@academia-mail.com, Answering Rate: 4.166666666666666%\n",
      "Sender: info@n.myprotein.com, Answering Rate: 0.0%\n",
      "Sender: noreply@newsletter.dickieslife.com, Answering Rate: 0.0%\n",
      "Sender: news@mailing.tommy.com, Answering Rate: 0.0%\n",
      "Sender: mary@email.numerade.com, Answering Rate: 0.0%\n",
      "Sender: noreply@gardaland.it, Answering Rate: 0.0%\n",
      "Sender: updates@academia-mail.com, Answering Rate: 0.0%\n",
      "Sender: eg@f6s.com, Answering Rate: 0.0%\n",
      "Sender: newsletter@lifecycle.quizlet.com, Answering Rate: 0.0%\n",
      "Sender: support@mathway.com, Answering Rate: 0.0%\n"
     ]
    }
   ],
   "source": [
    "senders = []\n",
    "answered_senders = []\n",
    "for msg_id, data in all_metadata.items():\n",
    "    envelope = data[b'ENVELOPE']\n",
    "    if envelope.from_:\n",
    "        sender_email = envelope.from_[0].mailbox.decode() + \"@\" + envelope.from_[0].host.decode()\n",
    "        senders.append(sender_email)\n",
    "        if b'\\\\Answered' in data[b'FLAGS']:\n",
    "            answered_senders.append(sender_email)\n",
    "\n",
    "sender_counts = Counter(senders)\n",
    "answered_sender_counts = Counter(answered_senders)\n",
    "\n",
    "rate_by_sender = {}\n",
    "for sender, count in sender_counts.items():\n",
    "    answered_count = answered_sender_counts[sender] if sender in answered_sender_counts else 0\n",
    "    rate = (answered_count / count) * 100\n",
    "    rate_by_sender[sender] = rate\n",
    "\n",
    "sorted_senders = sorted(rate_by_sender.items(), key=lambda x: x[1], reverse=True)\n",
    "top_senders = sorted_senders[:most_common_senders]\n",
    "\n",
    "print(\"✅ Top senders by answering rate:\")\n",
    "for sender, rate in top_senders:\n",
    "    print(f\"Sender: {sender}, Answering Rate: {rate}%\")"
   ]
  },
  {
   "cell_type": "markdown",
   "id": "cebbe449-f114-4a49-983b-cfdc913e1108",
   "metadata": {},
   "source": [
    "### Identify the unseen emails for the past two weeks from the top senders"
   ]
  },
  {
   "cell_type": "code",
   "execution_count": 6,
   "id": "94396d1c-6c83-4bbc-9d42-993b642152d1",
   "metadata": {
    "execution": {
     "iopub.execute_input": "2023-07-13T09:18:05.303549Z",
     "iopub.status.busy": "2023-07-13T09:18:05.303310Z",
     "iopub.status.idle": "2023-07-13T09:18:06.444919Z",
     "shell.execute_reply": "2023-07-13T09:18:06.444215Z",
     "shell.execute_reply.started": "2023-07-13T09:18:05.303524Z"
    },
    "tags": []
   },
   "outputs": [
    {
     "data": {
      "text/plain": [
       "[1575,\n",
       " 1583,\n",
       " 1593,\n",
       " 1577,\n",
       " 1580,\n",
       " 1581,\n",
       " 1584,\n",
       " 1588,\n",
       " 1594,\n",
       " 1597,\n",
       " 1576,\n",
       " 1590,\n",
       " 1599,\n",
       " 1587,\n",
       " 1596,\n",
       " 1574,\n",
       " 1591,\n",
       " 1573,\n",
       " 1579]"
      ]
     },
     "execution_count": 6,
     "metadata": {},
     "output_type": "execute_result"
    }
   ],
   "source": [
    "unseen_emails = []\n",
    "for sender, count in top_senders:\n",
    "    unseen_messages = server.search(['UNSEEN', 'FROM', sender, 'SINCE', start.strftime('%d-%b-%Y')])\n",
    "    unseen_emails.extend(unseen_messages)\n",
    "unseen_emails"
   ]
  },
  {
   "cell_type": "markdown",
   "id": "f1d21670-dabf-4430-8c1f-d6636fd78d1e",
   "metadata": {},
   "source": [
    "### Extract the date, sender, and subject from the unseen_emails list to provide data for the output"
   ]
  },
  {
   "cell_type": "code",
   "execution_count": 7,
   "id": "b53551be-04f3-482e-a9b2-9d667672ac5e",
   "metadata": {
    "execution": {
     "iopub.execute_input": "2023-07-13T09:18:08.728216Z",
     "iopub.status.busy": "2023-07-13T09:18:08.727985Z",
     "iopub.status.idle": "2023-07-13T09:18:11.083316Z",
     "shell.execute_reply": "2023-07-13T09:18:11.082551Z",
     "shell.execute_reply.started": "2023-07-13T09:18:08.728191Z"
    },
    "tags": []
   },
   "outputs": [],
   "source": [
    "email_list = []\n",
    "for msg_id in unseen_emails:\n",
    "    email_data = server.fetch(msg_id, ['ENVELOPE'])[msg_id][b'ENVELOPE']\n",
    "    sender = email_data.from_[0].mailbox.decode() + \"@\" + email_data.from_[0].host.decode()\n",
    "    date = email_data.date.strftime(\"%Y-%m-%d %H:%M:%S\")\n",
    "    subject_bytes = email_data.subject.decode()\n",
    "    subject = email.header.decode_header(subject_bytes)[0][0]\n",
    "    if isinstance(subject, bytes):\n",
    "        subject = subject.decode()\n",
    "    email_list.append((sender, date, subject))"
   ]
  },
  {
   "cell_type": "markdown",
   "id": "output_cell",
   "metadata": {
    "papermill": {},
    "tags": []
   },
   "source": [
    "## Output"
   ]
  },
  {
   "cell_type": "markdown",
   "id": "protective-bookmark",
   "metadata": {
    "papermill": {},
    "tags": []
   },
   "source": [
    "### Print the list with the unseen emails for the past two weeks from the top senders"
   ]
  },
  {
   "cell_type": "code",
   "execution_count": 8,
   "id": "bf987a2c-37b0-462d-bdb5-a052d15de044",
   "metadata": {
    "execution": {
     "iopub.execute_input": "2023-07-13T07:49:28.027986Z",
     "iopub.status.busy": "2023-07-13T07:49:28.027607Z",
     "iopub.status.idle": "2023-07-13T07:49:28.042444Z",
     "shell.execute_reply": "2023-07-13T07:49:28.041351Z",
     "shell.execute_reply.started": "2023-07-13T07:49:28.027949Z"
    },
    "tags": []
   },
   "outputs": [
    {
     "name": "stdout",
     "output_type": "stream",
     "text": [
      "The unseen emails by the top 3 senders (based on opened emails) for the last 30 days:\n"
     ]
    },
    {
     "data": {
      "text/plain": [
       "[('info@n.myprotein.com',\n",
       "  '2023-07-08 11:01:26',\n",
       "  '2x1 | Il Prodotto che costa meno é GRATIS 👀👀'),\n",
       " ('info@n.myprotein.com',\n",
       "  '2023-07-09 10:00:45',\n",
       "  'Pulley & Gran Dorsale: ecco come allenarli'),\n",
       " ('info@n.myprotein.com',\n",
       "  '2023-07-09 18:00:39',\n",
       "  'Ultime Ore 🚨 2x1 su 200+ Prodotti'),\n",
       " ('info@n.myprotein.com',\n",
       "  '2023-07-10 10:30:39',\n",
       "  '45% di SCONTO + Spedizione GRATIS ⚡️ 3,2,1 VIA'),\n",
       " ('info@n.myprotein.com',\n",
       "  '2023-07-10 19:00:44',\n",
       "  'Hazelnut Whip é Tornato in Stock 😍'),\n",
       " ('info@n.myprotein.com',\n",
       "  '2023-07-11 10:30:47',\n",
       "  '🚨  Spedizione Gratis + 40% di Sconto 🚨'),\n",
       " ('info@n.myprotein.com',\n",
       "  '2023-07-12 10:00:21',\n",
       "  'ULTIME 24H ⏰ Spedizione GRATIS + 40% di SCONTO'),\n",
       " ('premium@academia-mail.com',\n",
       "  '2023-07-08 03:27:46',\n",
       "  '“T Mitev” cited by “Orsolya Szakály”'),\n",
       " ('premium@academia-mail.com',\n",
       "  '2023-07-10 04:25:57',\n",
       "  '“T. Mitev” cited by “Xuanji Hou”'),\n",
       " ('premium@academia-mail.com',\n",
       "  '2023-07-11 20:52:40',\n",
       "  'The name \"T. Mitev\" is mentioned in a PDF uploaded to Academia by Bence Csapody'),\n",
       " ('premium@academia-mail.com',\n",
       "  '2023-07-12 05:28:00',\n",
       "  '“T. Mitev” cited by “Xuanji Hou”')]"
      ]
     },
     "execution_count": 8,
     "metadata": {},
     "output_type": "execute_result"
    }
   ],
   "source": [
    "print(f\"The unseen emails by the top {most_common_senders} senders (based on opened emails) for the last {abs(date_start)} days:\")\n",
    "email_list"
   ]
  },
  {
   "cell_type": "code",
   "execution_count": null,
   "id": "e6aad6cd-4dc8-4881-afa9-971f87e1b8b9",
   "metadata": {},
   "outputs": [],
   "source": []
  }
 ],
 "metadata": {
  "kernelspec": {
   "display_name": "Python 3",
   "language": "python",
   "name": "python3"
  },
  "language_info": {
   "codemirror_mode": {
    "name": "ipython",
    "version": 3
   },
   "file_extension": ".py",
   "mimetype": "text/x-python",
   "name": "python",
   "nbconvert_exporter": "python",
   "pygments_lexer": "ipython3",
   "version": "3.9.6"
  },
  "naas": {
   "notebook_id": "9d0515a1c77f00567dfb9833c75af19c3c9b24efd7b7a6e0a6d53ef0de00fcd0",
   "notebook_path": "Gmail/Gmail_Get_emails_stats_by_sender.ipynb"
  },
  "papermill": {
   "default_parameters": {},
   "environment_variables": {},
   "parameters": {},
   "version": "2.3.3"
  }
 },
 "nbformat": 4,
 "nbformat_minor": 5
}
