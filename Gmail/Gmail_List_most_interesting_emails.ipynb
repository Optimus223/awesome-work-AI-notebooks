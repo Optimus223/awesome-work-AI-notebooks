{
 "cells": [
  {
   "cell_type": "markdown",
   "id": "sustainable-insert",
   "metadata": {
    "papermill": {},
    "tags": []
   },
   "source": [
    "<img width=\"10%\" alt=\"Naas\" src=\"https://landen.imgix.net/jtci2pxwjczr/assets/5ice39g4.png?w=160\"/>"
   ]
  },
  {
   "cell_type": "markdown",
   "id": "forty-morocco",
   "metadata": {
    "papermill": {},
    "tags": []
   },
   "source": [
    "# Gmail - List most intersting emails\n",
    "<a href=\"https://app.naas.ai/user-redirect/naas/downloader?url=https://raw.githubusercontent.com/jupyter-naas/awesome-notebooks/master/Gmail/Gmail_Get_emails_stats_by_sender.ipynb\" target=\"_parent\"><img src=\"https://naasai-public.s3.eu-west-3.amazonaws.com/Open_in_Naas_Lab.svg\"/></a><br><br><a href=\"https://github.com/jupyter-naas/awesome-notebooks/issues/new?assignees=&labels=&template=template-request.md&title=Tool+-+Action+of+the+notebook+\">Template request</a> | <a href=\"https://github.com/jupyter-naas/awesome-notebooks/issues/new?assignees=&labels=bug&template=bug_report.md&title=Gmail+-+Get+emails+stats+by+sender:+Error+short+description\">Bug report</a> | <a href=\"https://app.naas.ai/user-redirect/naas/downloader?url=https://raw.githubusercontent.com/jupyter-naas/awesome-notebooks/master/Naas/Naas_Start_data_product.ipynb\" target=\"_parent\">Generate Data Product</a>"
   ]
  },
  {
   "cell_type": "markdown",
   "id": "tags_cell",
   "metadata": {
    "papermill": {},
    "tags": []
   },
   "source": [
    "**Tags:** #gmail #productivity #naas_drivers #operations #automation #analytics #plotly"
   ]
  },
  {
   "cell_type": "markdown",
   "id": "367e326e-ad83-445f-b847-666e9e1e79b3",
   "metadata": {
    "papermill": {},
    "tags": []
   },
   "source": [
    "**Author:** [Antonio Georgiev](www.linkedin.com/in/antonio-georgiev-b672a325b)"
   ]
  },
  {
   "cell_type": "markdown",
   "id": "naas-description",
   "metadata": {
    "papermill": {},
    "tags": [
     "description"
    ]
   },
   "source": [
    "**Description:** This notebook analyses users' inbox and extracts a list of senders that the user is most interested in, depending on the user's opening rate of the sender's emails in the last two weeks."
   ]
  },
  {
   "cell_type": "markdown",
   "id": "input_cell",
   "metadata": {
    "papermill": {},
    "tags": []
   },
   "source": [
    "## Input"
   ]
  },
  {
   "cell_type": "markdown",
   "id": "136b8959-cdb1-42bb-aaf9-2321b2da134d",
   "metadata": {
    "papermill": {},
    "tags": []
   },
   "source": [
    "### Import libraries"
   ]
  },
  {
   "cell_type": "code",
   "execution_count": 1,
   "id": "civil-possible",
   "metadata": {
    "execution": {
     "iopub.execute_input": "2023-07-04T08:44:25.960647Z",
     "iopub.status.busy": "2023-07-04T08:44:25.960446Z",
     "iopub.status.idle": "2023-07-04T08:44:28.105569Z",
     "shell.execute_reply": "2023-07-04T08:44:28.104939Z",
     "shell.execute_reply.started": "2023-07-04T08:44:25.960595Z"
    },
    "papermill": {},
    "tags": []
   },
   "outputs": [],
   "source": [
    "import naas\n",
    "from naas_drivers import email\n",
    "import pandas as pd\n",
    "import numpy as np\n",
    "import plotly.express as px"
   ]
  },
  {
   "cell_type": "markdown",
   "id": "copyrighted-lighter",
   "metadata": {
    "papermill": {},
    "tags": []
   },
   "source": [
    "### Setup Variables\n",
    "Create an application password following [this procedure](https://support.google.com/mail/answer/185833?hl=en)\n",
    "- `username`: This variable stores the username or email address associated with the email account\n",
    "- `password`: This variable stores the password or authentication token required to access the email account\n",
    "- `smtp_server`: This variable represents the SMTP server address used for sending emails.\n",
    "- `box`: This variable stores the name or identifier of the mailbox or folder within the email account that will be accessed."
   ]
  },
  {
   "cell_type": "code",
   "execution_count": 2,
   "id": "handed-rolling",
   "metadata": {
    "execution": {
     "iopub.execute_input": "2023-07-04T08:44:28.107266Z",
     "iopub.status.busy": "2023-07-04T08:44:28.107005Z",
     "iopub.status.idle": "2023-07-04T08:44:28.243908Z",
     "shell.execute_reply": "2023-07-04T08:44:28.243284Z",
     "shell.execute_reply.started": "2023-07-04T08:44:28.107233Z"
    },
    "papermill": {},
    "tags": []
   },
   "outputs": [],
   "source": [
    "username = \"theuniverse.bg@gmail.com\"\n",
    "password = naas.secret.get(\"GMAIL_APP_PASSWORD\")\n",
    "smtp_server = \"imap.gmail.com\"\n",
    "box = \"INBOX\""
   ]
  },
  {
   "cell_type": "markdown",
   "id": "model_cell",
   "metadata": {
    "papermill": {},
    "tags": []
   },
   "source": [
    "## Model"
   ]
  },
  {
   "cell_type": "markdown",
   "id": "opposite-simon",
   "metadata": {
    "papermill": {},
    "tags": []
   },
   "source": [
    "### Connect to email box"
   ]
  },
  {
   "cell_type": "code",
   "execution_count": 3,
   "id": "painted-harvard",
   "metadata": {
    "execution": {
     "iopub.execute_input": "2023-07-04T08:44:28.246752Z",
     "iopub.status.busy": "2023-07-04T08:44:28.246577Z",
     "iopub.status.idle": "2023-07-04T08:44:28.251168Z",
     "shell.execute_reply": "2023-07-04T08:44:28.250639Z",
     "shell.execute_reply.started": "2023-07-04T08:44:28.246732Z"
    },
    "papermill": {},
    "tags": []
   },
   "outputs": [],
   "source": [
    "emails = email.connect(username, password, username, smtp_server)"
   ]
  },
  {
   "cell_type": "code",
   "execution_count": 5,
   "id": "25ca0b7e-baf4-411a-b986-fb999bf2a8dc",
   "metadata": {
    "execution": {
     "iopub.execute_input": "2023-07-04T08:46:07.875052Z",
     "iopub.status.busy": "2023-07-04T08:46:07.874737Z",
     "iopub.status.idle": "2023-07-04T08:46:07.887915Z",
     "shell.execute_reply": "2023-07-04T08:46:07.887239Z",
     "shell.execute_reply.started": "2023-07-04T08:46:07.875018Z"
    }
   },
   "outputs": [
    {
     "data": {
      "text/plain": [
       "<naas_drivers.tools.email.Email at 0x7f1bd92f3bb0>"
      ]
     },
     "execution_count": 5,
     "metadata": {},
     "output_type": "execute_result"
    }
   ],
   "source": [
    "emails"
   ]
  },
  {
   "cell_type": "markdown",
   "id": "adopted-tolerance",
   "metadata": {
    "papermill": {},
    "tags": []
   },
   "source": [
    "### Get email list"
   ]
  },
  {
   "cell_type": "code",
   "execution_count": 4,
   "id": "1f218ac9-2954-432a-898e-325a51e906c2",
   "metadata": {
    "execution": {
     "iopub.execute_input": "2023-07-04T08:44:28.253371Z",
     "iopub.status.busy": "2023-07-04T08:44:28.253209Z",
     "iopub.status.idle": "2023-07-04T08:44:28.825892Z",
     "shell.execute_reply": "2023-07-04T08:44:28.824671Z",
     "shell.execute_reply.started": "2023-07-04T08:44:28.253353Z"
    }
   },
   "outputs": [
    {
     "ename": "error",
     "evalue": "b'[AUTHENTICATIONFAILED] Invalid credentials (Failure)'",
     "output_type": "error",
     "traceback": [
      "\u001b[0;31m---------------------------------------------------------------------------\u001b[0m",
      "\u001b[0;31merror\u001b[0m                                     Traceback (most recent call last)",
      "\u001b[0;32m<ipython-input-4-e29c45fcdd18>\u001b[0m in \u001b[0;36m<module>\u001b[0;34m\u001b[0m\n\u001b[0;32m----> 1\u001b[0;31m \u001b[0mdf_emails\u001b[0m \u001b[0;34m=\u001b[0m \u001b[0memails\u001b[0m\u001b[0;34m.\u001b[0m\u001b[0mget\u001b[0m\u001b[0;34m(\u001b[0m\u001b[0;34m)\u001b[0m\u001b[0;34m\u001b[0m\u001b[0;34m\u001b[0m\u001b[0m\n\u001b[0m",
      "\u001b[0;32m/opt/conda/lib/python3.9/site-packages/naas_drivers/tools/email.py\u001b[0m in \u001b[0;36mget\u001b[0;34m(self, box, criteria, limit, mark)\u001b[0m\n\u001b[1;32m     90\u001b[0m         \u001b[0;32melif\u001b[0m \u001b[0mcriteria\u001b[0m \u001b[0;32mand\u001b[0m \u001b[0mcriteria\u001b[0m \u001b[0;34m==\u001b[0m \u001b[0;34m\"unseen\"\u001b[0m\u001b[0;34m:\u001b[0m\u001b[0;34m\u001b[0m\u001b[0;34m\u001b[0m\u001b[0m\n\u001b[1;32m     91\u001b[0m             \u001b[0mmail_filter\u001b[0m \u001b[0;34m=\u001b[0m \u001b[0mAND\u001b[0m\u001b[0;34m(\u001b[0m\u001b[0mseen\u001b[0m\u001b[0;34m=\u001b[0m\u001b[0;32mFalse\u001b[0m\u001b[0;34m)\u001b[0m\u001b[0;34m\u001b[0m\u001b[0;34m\u001b[0m\u001b[0m\n\u001b[0;32m---> 92\u001b[0;31m         with MailBox(self.smtp_server).login(\n\u001b[0m\u001b[1;32m     93\u001b[0m             \u001b[0mself\u001b[0m\u001b[0;34m.\u001b[0m\u001b[0musername\u001b[0m\u001b[0;34m,\u001b[0m \u001b[0mself\u001b[0m\u001b[0;34m.\u001b[0m\u001b[0mpassword\u001b[0m\u001b[0;34m,\u001b[0m \u001b[0minitial_folder\u001b[0m\u001b[0;34m=\u001b[0m\u001b[0mbox\u001b[0m\u001b[0;34m\u001b[0m\u001b[0;34m\u001b[0m\u001b[0m\n\u001b[1;32m     94\u001b[0m         ) as mailbox:\n",
      "\u001b[0;32m/opt/conda/lib/python3.9/site-packages/imap_tools/mailbox.py\u001b[0m in \u001b[0;36mlogin\u001b[0;34m(self, username, password, initial_folder)\u001b[0m\n\u001b[1;32m     37\u001b[0m \u001b[0;34m\u001b[0m\u001b[0m\n\u001b[1;32m     38\u001b[0m     \u001b[0;32mdef\u001b[0m \u001b[0mlogin\u001b[0m\u001b[0;34m(\u001b[0m\u001b[0mself\u001b[0m\u001b[0;34m,\u001b[0m \u001b[0musername\u001b[0m\u001b[0;34m:\u001b[0m \u001b[0mstr\u001b[0m\u001b[0;34m,\u001b[0m \u001b[0mpassword\u001b[0m\u001b[0;34m:\u001b[0m \u001b[0mstr\u001b[0m\u001b[0;34m,\u001b[0m \u001b[0minitial_folder\u001b[0m\u001b[0;34m:\u001b[0m \u001b[0mstr\u001b[0m \u001b[0;32mor\u001b[0m \u001b[0;32mNone\u001b[0m \u001b[0;34m=\u001b[0m \u001b[0;34m'INBOX'\u001b[0m\u001b[0;34m)\u001b[0m\u001b[0;34m:\u001b[0m\u001b[0;34m\u001b[0m\u001b[0;34m\u001b[0m\u001b[0m\n\u001b[0;32m---> 39\u001b[0;31m         \u001b[0mlogin_result\u001b[0m \u001b[0;34m=\u001b[0m \u001b[0mself\u001b[0m\u001b[0;34m.\u001b[0m\u001b[0mbox\u001b[0m\u001b[0;34m.\u001b[0m\u001b[0mlogin\u001b[0m\u001b[0;34m(\u001b[0m\u001b[0musername\u001b[0m\u001b[0;34m,\u001b[0m \u001b[0mpassword\u001b[0m\u001b[0;34m)\u001b[0m\u001b[0;34m\u001b[0m\u001b[0;34m\u001b[0m\u001b[0m\n\u001b[0m\u001b[1;32m     40\u001b[0m         \u001b[0mcheck_command_status\u001b[0m\u001b[0;34m(\u001b[0m\u001b[0mlogin_result\u001b[0m\u001b[0;34m,\u001b[0m \u001b[0mMailboxLoginError\u001b[0m\u001b[0;34m)\u001b[0m\u001b[0;34m\u001b[0m\u001b[0;34m\u001b[0m\u001b[0m\n\u001b[1;32m     41\u001b[0m         \u001b[0mself\u001b[0m\u001b[0;34m.\u001b[0m\u001b[0mfolder\u001b[0m \u001b[0;34m=\u001b[0m \u001b[0mself\u001b[0m\u001b[0;34m.\u001b[0m\u001b[0mfolder_manager_class\u001b[0m\u001b[0;34m(\u001b[0m\u001b[0mself\u001b[0m\u001b[0;34m)\u001b[0m\u001b[0;34m\u001b[0m\u001b[0;34m\u001b[0m\u001b[0m\n",
      "\u001b[0;32m/opt/conda/lib/python3.9/imaplib.py\u001b[0m in \u001b[0;36mlogin\u001b[0;34m(self, user, password)\u001b[0m\n\u001b[1;32m    610\u001b[0m         \u001b[0mtyp\u001b[0m\u001b[0;34m,\u001b[0m \u001b[0mdat\u001b[0m \u001b[0;34m=\u001b[0m \u001b[0mself\u001b[0m\u001b[0;34m.\u001b[0m\u001b[0m_simple_command\u001b[0m\u001b[0;34m(\u001b[0m\u001b[0;34m'LOGIN'\u001b[0m\u001b[0;34m,\u001b[0m \u001b[0muser\u001b[0m\u001b[0;34m,\u001b[0m \u001b[0mself\u001b[0m\u001b[0;34m.\u001b[0m\u001b[0m_quote\u001b[0m\u001b[0;34m(\u001b[0m\u001b[0mpassword\u001b[0m\u001b[0;34m)\u001b[0m\u001b[0;34m)\u001b[0m\u001b[0;34m\u001b[0m\u001b[0;34m\u001b[0m\u001b[0m\n\u001b[1;32m    611\u001b[0m         \u001b[0;32mif\u001b[0m \u001b[0mtyp\u001b[0m \u001b[0;34m!=\u001b[0m \u001b[0;34m'OK'\u001b[0m\u001b[0;34m:\u001b[0m\u001b[0;34m\u001b[0m\u001b[0;34m\u001b[0m\u001b[0m\n\u001b[0;32m--> 612\u001b[0;31m             \u001b[0;32mraise\u001b[0m \u001b[0mself\u001b[0m\u001b[0;34m.\u001b[0m\u001b[0merror\u001b[0m\u001b[0;34m(\u001b[0m\u001b[0mdat\u001b[0m\u001b[0;34m[\u001b[0m\u001b[0;34m-\u001b[0m\u001b[0;36m1\u001b[0m\u001b[0;34m]\u001b[0m\u001b[0;34m)\u001b[0m\u001b[0;34m\u001b[0m\u001b[0;34m\u001b[0m\u001b[0m\n\u001b[0m\u001b[1;32m    613\u001b[0m         \u001b[0mself\u001b[0m\u001b[0;34m.\u001b[0m\u001b[0mstate\u001b[0m \u001b[0;34m=\u001b[0m \u001b[0;34m'AUTH'\u001b[0m\u001b[0;34m\u001b[0m\u001b[0;34m\u001b[0m\u001b[0m\n\u001b[1;32m    614\u001b[0m         \u001b[0;32mreturn\u001b[0m \u001b[0mtyp\u001b[0m\u001b[0;34m,\u001b[0m \u001b[0mdat\u001b[0m\u001b[0;34m\u001b[0m\u001b[0;34m\u001b[0m\u001b[0m\n",
      "\u001b[0;31merror\u001b[0m: b'[AUTHENTICATIONFAILED] Invalid credentials (Failure)'"
     ]
    }
   ],
   "source": [
    "df_emails = emails.get()"
   ]
  },
  {
   "cell_type": "markdown",
   "id": "introductory-rover",
   "metadata": {
    "papermill": {},
    "tags": []
   },
   "source": [
    "### Filter emails for the last two weeks"
   ]
  },
  {
   "cell_type": "code",
   "execution_count": null,
   "id": "qualified-imagination",
   "metadata": {
    "execution": {
     "iopub.status.busy": "2023-07-04T08:44:28.826996Z",
     "iopub.status.idle": "2023-07-04T08:44:28.827383Z",
     "shell.execute_reply": "2023-07-04T08:44:28.827208Z"
    },
    "papermill": {},
    "tags": []
   },
   "outputs": [],
   "source": [
    "two_weeks_ago = pd.Timestamp.now() - pd.DateOffset(weeks=2)\n",
    "df_emails['Date'] = pd.to_datetime(df_emails['Date'])\n",
    "filtered_emails = df_emails[df_emails['Date'] >= two_weeks_ago]"
   ]
  },
  {
   "cell_type": "markdown",
   "id": "0e0efb89-09d5-4249-8443-5ffefb045c0f",
   "metadata": {},
   "source": [
    "## Fetch the message IDs for the filtered emails (message IDs contain information regarding the email's state (eg \"Opened\"))"
   ]
  },
  {
   "cell_type": "code",
   "execution_count": null,
   "id": "1d926507-893a-4cbc-b453-85078a430451",
   "metadata": {
    "execution": {
     "iopub.status.busy": "2023-07-04T08:44:28.828551Z",
     "iopub.status.idle": "2023-07-04T08:44:28.828923Z",
     "shell.execute_reply": "2023-07-04T08:44:28.828751Z"
    }
   },
   "outputs": [],
   "source": [
    "message_ids = filtered_emails['MessageId'].tolist()"
   ]
  },
  {
   "cell_type": "markdown",
   "id": "9ed9773a-525a-41be-8d59-bf53797be8eb",
   "metadata": {},
   "source": [
    "## Check if each email in the list has been opened"
   ]
  },
  {
   "cell_type": "code",
   "execution_count": null,
   "id": "529dd2c5-558d-45c4-aabe-71634b17126a",
   "metadata": {
    "execution": {
     "iopub.status.busy": "2023-07-04T08:44:28.829856Z",
     "iopub.status.idle": "2023-07-04T08:44:28.830257Z",
     "shell.execute_reply": "2023-07-04T08:44:28.830070Z"
    }
   },
   "outputs": [],
   "source": [
    "opened_senders = []\n",
    "for message_id in message_ids:\n",
    "    response = emails._mailbox.get_message_history(message_id)\n",
    "    history = response['history']\n",
    "    for event in history:\n",
    "        if 'message' in event and 'labelsAdded' in event['message']:\n",
    "            labels_added = event['message']['labelsAdded']\n",
    "            if any(label['labelId'] == 'OPENED' for label in labels_added):\n",
    "                sender = filtered_emails.loc[filtered_emails['MessageId'] == message_id, 'From'].iloc[0]\n",
    "                opened_senders.append(sender)"
   ]
  },
  {
   "cell_type": "markdown",
   "id": "601903d2-f32d-41fe-833c-755ec6531997",
   "metadata": {},
   "source": [
    "## Get most viewed senders by counting the occurencies"
   ]
  },
  {
   "cell_type": "code",
   "execution_count": null,
   "id": "f3671363-c6ab-424c-a7c1-b425ad15053f",
   "metadata": {
    "execution": {
     "iopub.status.busy": "2023-07-04T08:44:28.831093Z",
     "iopub.status.idle": "2023-07-04T08:44:28.831411Z",
     "shell.execute_reply": "2023-07-04T08:44:28.831269Z"
    }
   },
   "outputs": [],
   "source": [
    "most_viewed_senders = pd.Series(opened_senders).value_counts().head(10)"
   ]
  },
  {
   "cell_type": "markdown",
   "id": "output_cell",
   "metadata": {
    "papermill": {},
    "tags": []
   },
   "source": [
    "## Output"
   ]
  },
  {
   "cell_type": "markdown",
   "id": "protective-bookmark",
   "metadata": {
    "papermill": {},
    "tags": []
   },
   "source": [
    "### Print the list with the most viewed senders"
   ]
  },
  {
   "cell_type": "code",
   "execution_count": null,
   "id": "bf987a2c-37b0-462d-bdb5-a052d15de044",
   "metadata": {
    "execution": {
     "iopub.status.busy": "2023-07-04T08:44:28.831863Z",
     "iopub.status.idle": "2023-07-04T08:44:28.832055Z",
     "shell.execute_reply": "2023-07-04T08:44:28.831961Z"
    },
    "tags": []
   },
   "outputs": [],
   "source": [
    "print(\"Most viewed senders (based on opened emails) for the last 2 weeks:\")\n",
    "print(most_viewed_senders)"
   ]
  }
 ],
 "metadata": {
  "kernelspec": {
   "display_name": "Python 3",
   "language": "python",
   "name": "python3"
  },
  "language_info": {
   "codemirror_mode": {
    "name": "ipython",
    "version": 3
   },
   "file_extension": ".py",
   "mimetype": "text/x-python",
   "name": "python",
   "nbconvert_exporter": "python",
   "pygments_lexer": "ipython3",
   "version": "3.9.6"
  },
  "naas": {
   "notebook_id": "9d0515a1c77f00567dfb9833c75af19c3c9b24efd7b7a6e0a6d53ef0de00fcd0",
   "notebook_path": "Gmail/Gmail_Get_emails_stats_by_sender.ipynb"
  },
  "papermill": {
   "default_parameters": {},
   "environment_variables": {},
   "parameters": {},
   "version": "2.3.3"
  }
 },
 "nbformat": 4,
 "nbformat_minor": 5
}
