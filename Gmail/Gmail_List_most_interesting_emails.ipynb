{
 "cells": [
  {
   "cell_type": "markdown",
   "id": "sustainable-insert",
   "metadata": {
    "papermill": {},
    "tags": []
   },
   "source": [
    "<img width=\"10%\" alt=\"Naas\" src=\"https://landen.imgix.net/jtci2pxwjczr/assets/5ice39g4.png?w=160\"/>"
   ]
  },
  {
   "cell_type": "markdown",
   "id": "forty-morocco",
   "metadata": {
    "papermill": {},
    "tags": []
   },
   "source": [
    "# Gmail - List most intersting emails\n",
    "<a href=\"https://app.naas.ai/user-redirect/naas/downloader?url=https://raw.githubusercontent.com/jupyter-naas/awesome-notebooks/master/Gmail/Gmail_Get_emails_stats_by_sender.ipynb\" target=\"_parent\"><img src=\"https://naasai-public.s3.eu-west-3.amazonaws.com/Open_in_Naas_Lab.svg\"/></a><br><br><a href=\"https://github.com/jupyter-naas/awesome-notebooks/issues/new?assignees=&labels=&template=template-request.md&title=Tool+-+Action+of+the+notebook+\">Template request</a> | <a href=\"https://github.com/jupyter-naas/awesome-notebooks/issues/new?assignees=&labels=bug&template=bug_report.md&title=Gmail+-+Get+emails+stats+by+sender:+Error+short+description\">Bug report</a> | <a href=\"https://app.naas.ai/user-redirect/naas/downloader?url=https://raw.githubusercontent.com/jupyter-naas/awesome-notebooks/master/Naas/Naas_Start_data_product.ipynb\" target=\"_parent\">Generate Data Product</a>"
   ]
  },
  {
   "cell_type": "markdown",
   "id": "tags_cell",
   "metadata": {
    "papermill": {},
    "tags": []
   },
   "source": [
    "**Tags:** #gmail #productivity #naas_drivers #operations #automation #analytics #plotly"
   ]
  },
  {
   "cell_type": "markdown",
   "id": "367e326e-ad83-445f-b847-666e9e1e79b3",
   "metadata": {
    "papermill": {},
    "tags": []
   },
   "source": [
    "**Author:** [Antonio Georgiev](www.linkedin.com/in/antonio-georgiev-b672a325b)"
   ]
  },
  {
   "cell_type": "markdown",
   "id": "naas-description",
   "metadata": {
    "papermill": {},
    "tags": [
     "description"
    ]
   },
   "source": [
    "**Description:** This notebook analyses users' inbox and extracts a list of senders that the user is most interested in, depending on the user's opening rate of the sender's emails in the last two weeks."
   ]
  },
  {
   "cell_type": "markdown",
   "id": "input_cell",
   "metadata": {
    "papermill": {},
    "tags": []
   },
   "source": [
    "## Input"
   ]
  },
  {
   "cell_type": "markdown",
   "id": "136b8959-cdb1-42bb-aaf9-2321b2da134d",
   "metadata": {
    "papermill": {},
    "tags": []
   },
   "source": [
    "### Import libraries"
   ]
  },
  {
   "cell_type": "code",
   "execution_count": 2,
   "id": "civil-possible",
   "metadata": {
    "execution": {
     "iopub.execute_input": "2023-07-04T08:53:11.999212Z",
     "iopub.status.busy": "2023-07-04T08:53:11.998942Z",
     "iopub.status.idle": "2023-07-04T08:53:17.708096Z",
     "shell.execute_reply": "2023-07-04T08:53:17.707123Z",
     "shell.execute_reply.started": "2023-07-04T08:53:11.999186Z"
    },
    "papermill": {},
    "tags": []
   },
   "outputs": [],
   "source": [
    "import naas\n",
    "from naas_drivers import email\n",
    "import pandas as pd\n",
    "import numpy as np\n",
    "import plotly.express as px"
   ]
  },
  {
   "cell_type": "markdown",
   "id": "copyrighted-lighter",
   "metadata": {
    "papermill": {},
    "tags": []
   },
   "source": [
    "### Setup Variables\n",
    "Create an application password following [this procedure](https://support.google.com/mail/answer/185833?hl=en)\n",
    "- `username`: This variable stores the username or email address associated with the email account\n",
    "- `password`: This variable stores the password or authentication token required to access the email account\n",
    "- `smtp_server`: This variable represents the SMTP server address used for sending emails.\n",
    "- `box`: This variable stores the name or identifier of the mailbox or folder within the email account that will be accessed."
   ]
  },
  {
   "cell_type": "code",
   "execution_count": 3,
   "id": "handed-rolling",
   "metadata": {
    "execution": {
     "iopub.execute_input": "2023-07-04T08:53:17.709732Z",
     "iopub.status.busy": "2023-07-04T08:53:17.709245Z",
     "iopub.status.idle": "2023-07-04T08:53:17.896418Z",
     "shell.execute_reply": "2023-07-04T08:53:17.895577Z",
     "shell.execute_reply.started": "2023-07-04T08:53:17.709705Z"
    },
    "papermill": {},
    "tags": []
   },
   "outputs": [],
   "source": [
    "username = \"florent@naas.ai\"\n",
    "password = naas.secret.get(\"GMAIL_APP_PASSWORD\")\n",
    "smtp_server = \"imap.gmail.com\"\n",
    "box = \"INBOX\""
   ]
  },
  {
   "cell_type": "markdown",
   "id": "model_cell",
   "metadata": {
    "papermill": {},
    "tags": []
   },
   "source": [
    "## Model"
   ]
  },
  {
   "cell_type": "markdown",
   "id": "opposite-simon",
   "metadata": {
    "papermill": {},
    "tags": []
   },
   "source": [
    "### Connect to email box"
   ]
  },
  {
   "cell_type": "code",
   "execution_count": 4,
   "id": "painted-harvard",
   "metadata": {
    "execution": {
     "iopub.execute_input": "2023-07-04T08:53:18.940519Z",
     "iopub.status.busy": "2023-07-04T08:53:18.940269Z",
     "iopub.status.idle": "2023-07-04T08:53:18.944413Z",
     "shell.execute_reply": "2023-07-04T08:53:18.943513Z",
     "shell.execute_reply.started": "2023-07-04T08:53:18.940494Z"
    },
    "papermill": {},
    "tags": []
   },
   "outputs": [],
   "source": [
    "emails = email.connect(username, password, username, smtp_server)"
   ]
  },
  {
   "cell_type": "code",
   "execution_count": 5,
   "id": "25ca0b7e-baf4-411a-b986-fb999bf2a8dc",
   "metadata": {
    "execution": {
     "iopub.execute_input": "2023-07-04T08:53:19.708459Z",
     "iopub.status.busy": "2023-07-04T08:53:19.708219Z",
     "iopub.status.idle": "2023-07-04T08:53:19.720683Z",
     "shell.execute_reply": "2023-07-04T08:53:19.719633Z",
     "shell.execute_reply.started": "2023-07-04T08:53:19.708434Z"
    },
    "tags": []
   },
   "outputs": [
    {
     "data": {
      "text/plain": [
       "<naas_drivers.tools.email.Email at 0x7f9e7c0a3190>"
      ]
     },
     "execution_count": 5,
     "metadata": {},
     "output_type": "execute_result"
    }
   ],
   "source": [
    "emails"
   ]
  },
  {
   "cell_type": "markdown",
   "id": "adopted-tolerance",
   "metadata": {
    "papermill": {},
    "tags": []
   },
   "source": [
    "### Get email list"
   ]
  },
  {
   "cell_type": "code",
   "execution_count": 6,
   "id": "1f218ac9-2954-432a-898e-325a51e906c2",
   "metadata": {
    "execution": {
     "iopub.execute_input": "2023-07-04T08:53:22.931343Z",
     "iopub.status.busy": "2023-07-04T08:53:22.931084Z",
     "iopub.status.idle": "2023-07-04T08:53:30.509086Z",
     "shell.execute_reply": "2023-07-04T08:53:30.508177Z",
     "shell.execute_reply.started": "2023-07-04T08:53:22.931315Z"
    },
    "tags": []
   },
   "outputs": [],
   "source": [
    "df_emails = emails.get()"
   ]
  },
  {
   "cell_type": "code",
   "execution_count": 9,
   "id": "f66daade-ac8b-454e-9056-8211992daf36",
   "metadata": {
    "execution": {
     "iopub.execute_input": "2023-07-04T08:55:56.355519Z",
     "iopub.status.busy": "2023-07-04T08:55:56.355273Z",
     "iopub.status.idle": "2023-07-04T08:55:56.447533Z",
     "shell.execute_reply": "2023-07-04T08:55:56.446651Z",
     "shell.execute_reply.started": "2023-07-04T08:55:56.355494Z"
    },
    "tags": []
   },
   "outputs": [
    {
     "data": {
      "text/html": [
       "<div>\n",
       "<style scoped>\n",
       "    .dataframe tbody tr th:only-of-type {\n",
       "        vertical-align: middle;\n",
       "    }\n",
       "\n",
       "    .dataframe tbody tr th {\n",
       "        vertical-align: top;\n",
       "    }\n",
       "\n",
       "    .dataframe thead th {\n",
       "        text-align: right;\n",
       "    }\n",
       "</style>\n",
       "<table border=\"1\" class=\"dataframe\">\n",
       "  <thead>\n",
       "    <tr style=\"text-align: right;\">\n",
       "      <th></th>\n",
       "      <th>uid</th>\n",
       "      <th>subject</th>\n",
       "      <th>from</th>\n",
       "      <th>to</th>\n",
       "      <th>cc</th>\n",
       "      <th>bcc</th>\n",
       "      <th>reply_to</th>\n",
       "      <th>date</th>\n",
       "      <th>text</th>\n",
       "      <th>html</th>\n",
       "      <th>flags</th>\n",
       "      <th>headers</th>\n",
       "      <th>size_rfc822</th>\n",
       "      <th>size</th>\n",
       "      <th>obj</th>\n",
       "      <th>attachments</th>\n",
       "    </tr>\n",
       "  </thead>\n",
       "  <tbody>\n",
       "    <tr>\n",
       "      <th>0</th>\n",
       "      <td>8369</td>\n",
       "      <td>Re: [jupyter-naas/awesome-notebooks] YahooFina...</td>\n",
       "      <td>{'email': 'notifications@github.com', 'name': ...</td>\n",
       "      <td>[{'email': 'awesome-notebooks@noreply.github.c...</td>\n",
       "      <td>[{'email': 'florent@naas.ai', 'name': 'Florent...</td>\n",
       "      <td>[]</td>\n",
       "      <td>[{'email': 'reply+ALOOVTNLRCS3YARVDWKY7IOCQLTY...</td>\n",
       "      <td>2023-05-30 01:34:13-07:00</td>\n",
       "      <td>json =\\r\\nmeta: \\r\\n  title: my finance assist...</td>\n",
       "      <td>&lt;p&gt;&lt;/p&gt;\\r\\n&lt;p dir=\"auto\"&gt;json =&lt;br&gt;\\r\\nmeta:&lt;b...</td>\n",
       "      <td>(SEEN,)</td>\n",
       "      <td>{'delivered-to': ('florent@naas.ai',), 'receiv...</td>\n",
       "      <td>8129</td>\n",
       "      <td>7981</td>\n",
       "      <td>[Delivered-To, Received, X-Google-Smtp-Source,...</td>\n",
       "      <td>0</td>\n",
       "    </tr>\n",
       "  </tbody>\n",
       "</table>\n",
       "</div>"
      ],
      "text/plain": [
       "    uid                                            subject  \\\n",
       "0  8369  Re: [jupyter-naas/awesome-notebooks] YahooFina...   \n",
       "\n",
       "                                                from  \\\n",
       "0  {'email': 'notifications@github.com', 'name': ...   \n",
       "\n",
       "                                                  to  \\\n",
       "0  [{'email': 'awesome-notebooks@noreply.github.c...   \n",
       "\n",
       "                                                  cc bcc  \\\n",
       "0  [{'email': 'florent@naas.ai', 'name': 'Florent...  []   \n",
       "\n",
       "                                            reply_to  \\\n",
       "0  [{'email': 'reply+ALOOVTNLRCS3YARVDWKY7IOCQLTY...   \n",
       "\n",
       "                        date  \\\n",
       "0  2023-05-30 01:34:13-07:00   \n",
       "\n",
       "                                                text  \\\n",
       "0  json =\\r\\nmeta: \\r\\n  title: my finance assist...   \n",
       "\n",
       "                                                html    flags  \\\n",
       "0  <p></p>\\r\\n<p dir=\"auto\">json =<br>\\r\\nmeta:<b...  (SEEN,)   \n",
       "\n",
       "                                             headers  size_rfc822  size  \\\n",
       "0  {'delivered-to': ('florent@naas.ai',), 'receiv...         8129  7981   \n",
       "\n",
       "                                                 obj  attachments  \n",
       "0  [Delivered-To, Received, X-Google-Smtp-Source,...            0  "
      ]
     },
     "execution_count": 9,
     "metadata": {},
     "output_type": "execute_result"
    }
   ],
   "source": [
    "df_emails.head(1)"
   ]
  },
  {
   "cell_type": "code",
   "execution_count": 14,
   "id": "8b7dcea3-f4d7-4ab5-98ac-f34d5a3ccff6",
   "metadata": {
    "execution": {
     "iopub.execute_input": "2023-07-04T08:59:24.812837Z",
     "iopub.status.busy": "2023-07-04T08:59:24.812545Z",
     "iopub.status.idle": "2023-07-04T08:59:24.819209Z",
     "shell.execute_reply": "2023-07-04T08:59:24.818269Z",
     "shell.execute_reply.started": "2023-07-04T08:59:24.812801Z"
    },
    "tags": []
   },
   "outputs": [
    {
     "name": "stdout",
     "output_type": "stream",
     "text": [
      "0 8369\n"
     ]
    }
   ],
   "source": [
    "for index, row in df_emails.iterrows():\n",
    "    uid = row[\"uid\"]\n",
    "    print(index, uid)\n",
    "    break"
   ]
  },
  {
   "cell_type": "code",
   "execution_count": 15,
   "id": "cfa7cee1-0fc3-45ed-8b32-f1c661913bae",
   "metadata": {
    "execution": {
     "iopub.execute_input": "2023-07-04T08:59:46.153122Z",
     "iopub.status.busy": "2023-07-04T08:59:46.152881Z",
     "iopub.status.idle": "2023-07-04T08:59:46.159297Z",
     "shell.execute_reply": "2023-07-04T08:59:46.158456Z",
     "shell.execute_reply.started": "2023-07-04T08:59:46.153098Z"
    },
    "tags": []
   },
   "outputs": [
    {
     "name": "stdout",
     "output_type": "stream",
     "text": [
      "0 8369\n"
     ]
    }
   ],
   "source": [
    "for row in df_emails.itertuples():\n",
    "    uid = row.uid\n",
    "    print(index, uid)\n",
    "    break"
   ]
  },
  {
   "cell_type": "markdown",
   "id": "introductory-rover",
   "metadata": {
    "papermill": {},
    "tags": []
   },
   "source": [
    "### Filter emails for the last two weeks"
   ]
  },
  {
   "cell_type": "code",
   "execution_count": 11,
   "id": "qualified-imagination",
   "metadata": {
    "execution": {
     "iopub.execute_input": "2023-07-04T08:57:55.612305Z",
     "iopub.status.busy": "2023-07-04T08:57:55.611968Z",
     "iopub.status.idle": "2023-07-04T08:57:55.678216Z",
     "shell.execute_reply": "2023-07-04T08:57:55.676918Z",
     "shell.execute_reply.started": "2023-07-04T08:57:55.612270Z"
    },
    "papermill": {},
    "tags": []
   },
   "outputs": [
    {
     "ename": "ValueError",
     "evalue": "Tz-aware datetime.datetime cannot be converted to datetime64 unless utc=True",
     "output_type": "error",
     "traceback": [
      "\u001b[0;31m---------------------------------------------------------------------------\u001b[0m",
      "\u001b[0;31mValueError\u001b[0m                                Traceback (most recent call last)",
      "\u001b[0;32m/opt/conda/lib/python3.9/site-packages/pandas/core/arrays/datetimes.py\u001b[0m in \u001b[0;36mobjects_to_datetime64ns\u001b[0;34m(data, dayfirst, yearfirst, utc, errors, require_iso8601, allow_object)\u001b[0m\n\u001b[1;32m   2084\u001b[0m         \u001b[0;32mtry\u001b[0m\u001b[0;34m:\u001b[0m\u001b[0;34m\u001b[0m\u001b[0;34m\u001b[0m\u001b[0m\n\u001b[0;32m-> 2085\u001b[0;31m             \u001b[0mvalues\u001b[0m\u001b[0;34m,\u001b[0m \u001b[0mtz_parsed\u001b[0m \u001b[0;34m=\u001b[0m \u001b[0mconversion\u001b[0m\u001b[0;34m.\u001b[0m\u001b[0mdatetime_to_datetime64\u001b[0m\u001b[0;34m(\u001b[0m\u001b[0mdata\u001b[0m\u001b[0;34m)\u001b[0m\u001b[0;34m\u001b[0m\u001b[0;34m\u001b[0m\u001b[0m\n\u001b[0m\u001b[1;32m   2086\u001b[0m             \u001b[0;31m# If tzaware, these values represent unix timestamps, so we\u001b[0m\u001b[0;34m\u001b[0m\u001b[0;34m\u001b[0m\u001b[0;34m\u001b[0m\u001b[0m\n",
      "\u001b[0;32mpandas/_libs/tslibs/conversion.pyx\u001b[0m in \u001b[0;36mpandas._libs.tslibs.conversion.datetime_to_datetime64\u001b[0;34m()\u001b[0m\n",
      "\u001b[0;31mValueError\u001b[0m: Array must be all same time zone",
      "\nDuring handling of the above exception, another exception occurred:\n",
      "\u001b[0;31mValueError\u001b[0m                                Traceback (most recent call last)",
      "\u001b[0;32m<ipython-input-11-042248b597e1>\u001b[0m in \u001b[0;36m<module>\u001b[0;34m\u001b[0m\n\u001b[1;32m      1\u001b[0m \u001b[0mtwo_weeks_ago\u001b[0m \u001b[0;34m=\u001b[0m \u001b[0mpd\u001b[0m\u001b[0;34m.\u001b[0m\u001b[0mTimestamp\u001b[0m\u001b[0;34m.\u001b[0m\u001b[0mnow\u001b[0m\u001b[0;34m(\u001b[0m\u001b[0;34m)\u001b[0m \u001b[0;34m-\u001b[0m \u001b[0mpd\u001b[0m\u001b[0;34m.\u001b[0m\u001b[0mDateOffset\u001b[0m\u001b[0;34m(\u001b[0m\u001b[0mweeks\u001b[0m\u001b[0;34m=\u001b[0m\u001b[0;36m2\u001b[0m\u001b[0;34m)\u001b[0m\u001b[0;34m\u001b[0m\u001b[0;34m\u001b[0m\u001b[0m\n\u001b[0;32m----> 2\u001b[0;31m \u001b[0mdf_emails\u001b[0m\u001b[0;34m[\u001b[0m\u001b[0;34m'date'\u001b[0m\u001b[0;34m]\u001b[0m \u001b[0;34m=\u001b[0m \u001b[0mpd\u001b[0m\u001b[0;34m.\u001b[0m\u001b[0mto_datetime\u001b[0m\u001b[0;34m(\u001b[0m\u001b[0mdf_emails\u001b[0m\u001b[0;34m[\u001b[0m\u001b[0;34m'date'\u001b[0m\u001b[0;34m]\u001b[0m\u001b[0;34m)\u001b[0m\u001b[0;34m\u001b[0m\u001b[0;34m\u001b[0m\u001b[0m\n\u001b[0m\u001b[1;32m      3\u001b[0m \u001b[0mfiltered_emails\u001b[0m \u001b[0;34m=\u001b[0m \u001b[0mdf_emails\u001b[0m\u001b[0;34m[\u001b[0m\u001b[0mdf_emails\u001b[0m\u001b[0;34m[\u001b[0m\u001b[0;34m'date'\u001b[0m\u001b[0;34m]\u001b[0m \u001b[0;34m>=\u001b[0m \u001b[0mtwo_weeks_ago\u001b[0m\u001b[0;34m]\u001b[0m\u001b[0;34m\u001b[0m\u001b[0;34m\u001b[0m\u001b[0m\n\u001b[1;32m      4\u001b[0m \u001b[0mprint\u001b[0m\u001b[0;34m(\u001b[0m\u001b[0;34m\"Emails fetched:\"\u001b[0m\u001b[0;34m,\u001b[0m \u001b[0mlen\u001b[0m\u001b[0;34m(\u001b[0m\u001b[0mfiltered_emails\u001b[0m\u001b[0;34m)\u001b[0m\u001b[0;34m)\u001b[0m\u001b[0;34m\u001b[0m\u001b[0;34m\u001b[0m\u001b[0m\n",
      "\u001b[0;32m/opt/conda/lib/python3.9/site-packages/pandas/core/tools/datetimes.py\u001b[0m in \u001b[0;36mto_datetime\u001b[0;34m(arg, errors, dayfirst, yearfirst, utc, format, exact, unit, infer_datetime_format, origin, cache)\u001b[0m\n\u001b[1;32m    803\u001b[0m             \u001b[0mresult\u001b[0m \u001b[0;34m=\u001b[0m \u001b[0marg\u001b[0m\u001b[0;34m.\u001b[0m\u001b[0mmap\u001b[0m\u001b[0;34m(\u001b[0m\u001b[0mcache_array\u001b[0m\u001b[0;34m)\u001b[0m\u001b[0;34m\u001b[0m\u001b[0;34m\u001b[0m\u001b[0m\n\u001b[1;32m    804\u001b[0m         \u001b[0;32melse\u001b[0m\u001b[0;34m:\u001b[0m\u001b[0;34m\u001b[0m\u001b[0;34m\u001b[0m\u001b[0m\n\u001b[0;32m--> 805\u001b[0;31m             \u001b[0mvalues\u001b[0m \u001b[0;34m=\u001b[0m \u001b[0mconvert_listlike\u001b[0m\u001b[0;34m(\u001b[0m\u001b[0marg\u001b[0m\u001b[0;34m.\u001b[0m\u001b[0m_values\u001b[0m\u001b[0;34m,\u001b[0m \u001b[0mformat\u001b[0m\u001b[0;34m)\u001b[0m\u001b[0;34m\u001b[0m\u001b[0;34m\u001b[0m\u001b[0m\n\u001b[0m\u001b[1;32m    806\u001b[0m             \u001b[0mresult\u001b[0m \u001b[0;34m=\u001b[0m \u001b[0marg\u001b[0m\u001b[0;34m.\u001b[0m\u001b[0m_constructor\u001b[0m\u001b[0;34m(\u001b[0m\u001b[0mvalues\u001b[0m\u001b[0;34m,\u001b[0m \u001b[0mindex\u001b[0m\u001b[0;34m=\u001b[0m\u001b[0marg\u001b[0m\u001b[0;34m.\u001b[0m\u001b[0mindex\u001b[0m\u001b[0;34m,\u001b[0m \u001b[0mname\u001b[0m\u001b[0;34m=\u001b[0m\u001b[0marg\u001b[0m\u001b[0;34m.\u001b[0m\u001b[0mname\u001b[0m\u001b[0;34m)\u001b[0m\u001b[0;34m\u001b[0m\u001b[0;34m\u001b[0m\u001b[0m\n\u001b[1;32m    807\u001b[0m     \u001b[0;32melif\u001b[0m \u001b[0misinstance\u001b[0m\u001b[0;34m(\u001b[0m\u001b[0marg\u001b[0m\u001b[0;34m,\u001b[0m \u001b[0;34m(\u001b[0m\u001b[0mABCDataFrame\u001b[0m\u001b[0;34m,\u001b[0m \u001b[0mabc\u001b[0m\u001b[0;34m.\u001b[0m\u001b[0mMutableMapping\u001b[0m\u001b[0;34m)\u001b[0m\u001b[0;34m)\u001b[0m\u001b[0;34m:\u001b[0m\u001b[0;34m\u001b[0m\u001b[0;34m\u001b[0m\u001b[0m\n",
      "\u001b[0;32m/opt/conda/lib/python3.9/site-packages/pandas/core/tools/datetimes.py\u001b[0m in \u001b[0;36m_convert_listlike_datetimes\u001b[0;34m(arg, format, name, tz, unit, errors, infer_datetime_format, dayfirst, yearfirst, exact)\u001b[0m\n\u001b[1;32m    463\u001b[0m         \u001b[0;32massert\u001b[0m \u001b[0mformat\u001b[0m \u001b[0;32mis\u001b[0m \u001b[0;32mNone\u001b[0m \u001b[0;32mor\u001b[0m \u001b[0minfer_datetime_format\u001b[0m\u001b[0;34m\u001b[0m\u001b[0;34m\u001b[0m\u001b[0m\n\u001b[1;32m    464\u001b[0m         \u001b[0mutc\u001b[0m \u001b[0;34m=\u001b[0m \u001b[0mtz\u001b[0m \u001b[0;34m==\u001b[0m \u001b[0;34m\"utc\"\u001b[0m\u001b[0;34m\u001b[0m\u001b[0;34m\u001b[0m\u001b[0m\n\u001b[0;32m--> 465\u001b[0;31m         result, tz_parsed = objects_to_datetime64ns(\n\u001b[0m\u001b[1;32m    466\u001b[0m             \u001b[0marg\u001b[0m\u001b[0;34m,\u001b[0m\u001b[0;34m\u001b[0m\u001b[0;34m\u001b[0m\u001b[0m\n\u001b[1;32m    467\u001b[0m             \u001b[0mdayfirst\u001b[0m\u001b[0;34m=\u001b[0m\u001b[0mdayfirst\u001b[0m\u001b[0;34m,\u001b[0m\u001b[0;34m\u001b[0m\u001b[0;34m\u001b[0m\u001b[0m\n",
      "\u001b[0;32m/opt/conda/lib/python3.9/site-packages/pandas/core/arrays/datetimes.py\u001b[0m in \u001b[0;36mobjects_to_datetime64ns\u001b[0;34m(data, dayfirst, yearfirst, utc, errors, require_iso8601, allow_object)\u001b[0m\n\u001b[1;32m   2088\u001b[0m             \u001b[0;32mreturn\u001b[0m \u001b[0mvalues\u001b[0m\u001b[0;34m.\u001b[0m\u001b[0mview\u001b[0m\u001b[0;34m(\u001b[0m\u001b[0;34m\"i8\"\u001b[0m\u001b[0;34m)\u001b[0m\u001b[0;34m,\u001b[0m \u001b[0mtz_parsed\u001b[0m\u001b[0;34m\u001b[0m\u001b[0;34m\u001b[0m\u001b[0m\n\u001b[1;32m   2089\u001b[0m         \u001b[0;32mexcept\u001b[0m \u001b[0;34m(\u001b[0m\u001b[0mValueError\u001b[0m\u001b[0;34m,\u001b[0m \u001b[0mTypeError\u001b[0m\u001b[0;34m)\u001b[0m\u001b[0;34m:\u001b[0m\u001b[0;34m\u001b[0m\u001b[0;34m\u001b[0m\u001b[0m\n\u001b[0;32m-> 2090\u001b[0;31m             \u001b[0;32mraise\u001b[0m \u001b[0me\u001b[0m\u001b[0;34m\u001b[0m\u001b[0;34m\u001b[0m\u001b[0m\n\u001b[0m\u001b[1;32m   2091\u001b[0m \u001b[0;34m\u001b[0m\u001b[0m\n\u001b[1;32m   2092\u001b[0m     \u001b[0;32mif\u001b[0m \u001b[0mtz_parsed\u001b[0m \u001b[0;32mis\u001b[0m \u001b[0;32mnot\u001b[0m \u001b[0;32mNone\u001b[0m\u001b[0;34m:\u001b[0m\u001b[0;34m\u001b[0m\u001b[0;34m\u001b[0m\u001b[0m\n",
      "\u001b[0;32m/opt/conda/lib/python3.9/site-packages/pandas/core/arrays/datetimes.py\u001b[0m in \u001b[0;36mobjects_to_datetime64ns\u001b[0;34m(data, dayfirst, yearfirst, utc, errors, require_iso8601, allow_object)\u001b[0m\n\u001b[1;32m   2073\u001b[0m \u001b[0;34m\u001b[0m\u001b[0m\n\u001b[1;32m   2074\u001b[0m     \u001b[0;32mtry\u001b[0m\u001b[0;34m:\u001b[0m\u001b[0;34m\u001b[0m\u001b[0;34m\u001b[0m\u001b[0m\n\u001b[0;32m-> 2075\u001b[0;31m         result, tz_parsed = tslib.array_to_datetime(\n\u001b[0m\u001b[1;32m   2076\u001b[0m             \u001b[0mdata\u001b[0m\u001b[0;34m,\u001b[0m\u001b[0;34m\u001b[0m\u001b[0;34m\u001b[0m\u001b[0m\n\u001b[1;32m   2077\u001b[0m             \u001b[0merrors\u001b[0m\u001b[0;34m=\u001b[0m\u001b[0merrors\u001b[0m\u001b[0;34m,\u001b[0m\u001b[0;34m\u001b[0m\u001b[0;34m\u001b[0m\u001b[0m\n",
      "\u001b[0;32mpandas/_libs/tslib.pyx\u001b[0m in \u001b[0;36mpandas._libs.tslib.array_to_datetime\u001b[0;34m()\u001b[0m\n",
      "\u001b[0;32mpandas/_libs/tslib.pyx\u001b[0m in \u001b[0;36mpandas._libs.tslib.array_to_datetime\u001b[0;34m()\u001b[0m\n",
      "\u001b[0;31mValueError\u001b[0m: Tz-aware datetime.datetime cannot be converted to datetime64 unless utc=True"
     ]
    }
   ],
   "source": [
    "two_weeks_ago = pd.Timestamp.now() - pd.DateOffset(weeks=2)\n",
    "df_emails['date'] = pd.to_datetime(df_emails['date'])\n",
    "filtered_emails = df_emails[df_emails['date'] >= two_weeks_ago]\n",
    "print(\"Emails fetched:\", len(filtered_emails))"
   ]
  },
  {
   "cell_type": "markdown",
   "id": "0e0efb89-09d5-4249-8443-5ffefb045c0f",
   "metadata": {},
   "source": [
    "### Fetch the message IDs for the filtered emails (message IDs contain information regarding the email's state (eg \"Opened\"))"
   ]
  },
  {
   "cell_type": "code",
   "execution_count": null,
   "id": "1d926507-893a-4cbc-b453-85078a430451",
   "metadata": {
    "execution": {
     "iopub.status.busy": "2023-07-04T08:44:28.828551Z",
     "iopub.status.idle": "2023-07-04T08:44:28.828923Z",
     "shell.execute_reply": "2023-07-04T08:44:28.828751Z"
    }
   },
   "outputs": [],
   "source": [
    "message_ids = filtered_emails['MessageId'].tolist()"
   ]
  },
  {
   "cell_type": "markdown",
   "id": "9ed9773a-525a-41be-8d59-bf53797be8eb",
   "metadata": {},
   "source": [
    "## Check if each email in the list has been opened"
   ]
  },
  {
   "cell_type": "code",
   "execution_count": null,
   "id": "529dd2c5-558d-45c4-aabe-71634b17126a",
   "metadata": {
    "execution": {
     "iopub.status.busy": "2023-07-04T08:44:28.829856Z",
     "iopub.status.idle": "2023-07-04T08:44:28.830257Z",
     "shell.execute_reply": "2023-07-04T08:44:28.830070Z"
    }
   },
   "outputs": [],
   "source": [
    "opened_senders = []\n",
    "for message_id in message_ids:\n",
    "    response = emails._mailbox.get_message_history(message_id)\n",
    "    history = response['history']\n",
    "    for event in history:\n",
    "        if 'message' in event and 'labelsAdded' in event['message']:\n",
    "            labels_added = event['message']['labelsAdded']\n",
    "            if any(label['labelId'] == 'OPENED' for label in labels_added):\n",
    "                sender = filtered_emails.loc[filtered_emails['MessageId'] == message_id, 'From'].iloc[0]\n",
    "                opened_senders.append(sender)"
   ]
  },
  {
   "cell_type": "markdown",
   "id": "601903d2-f32d-41fe-833c-755ec6531997",
   "metadata": {},
   "source": [
    "## Get most viewed senders by counting the occurencies"
   ]
  },
  {
   "cell_type": "code",
   "execution_count": null,
   "id": "f3671363-c6ab-424c-a7c1-b425ad15053f",
   "metadata": {
    "execution": {
     "iopub.status.busy": "2023-07-04T08:44:28.831093Z",
     "iopub.status.idle": "2023-07-04T08:44:28.831411Z",
     "shell.execute_reply": "2023-07-04T08:44:28.831269Z"
    }
   },
   "outputs": [],
   "source": [
    "most_viewed_senders = pd.Series(opened_senders).value_counts().head(10)"
   ]
  },
  {
   "cell_type": "markdown",
   "id": "output_cell",
   "metadata": {
    "papermill": {},
    "tags": []
   },
   "source": [
    "## Output"
   ]
  },
  {
   "cell_type": "markdown",
   "id": "protective-bookmark",
   "metadata": {
    "papermill": {},
    "tags": []
   },
   "source": [
    "### Print the list with the most viewed senders"
   ]
  },
  {
   "cell_type": "code",
   "execution_count": null,
   "id": "bf987a2c-37b0-462d-bdb5-a052d15de044",
   "metadata": {
    "execution": {
     "iopub.status.busy": "2023-07-04T08:44:28.831863Z",
     "iopub.status.idle": "2023-07-04T08:44:28.832055Z",
     "shell.execute_reply": "2023-07-04T08:44:28.831961Z"
    },
    "tags": []
   },
   "outputs": [],
   "source": [
    "print(\"Most viewed senders (based on opened emails) for the last 2 weeks:\")\n",
    "print(most_viewed_senders)"
   ]
  }
 ],
 "metadata": {
  "kernelspec": {
   "display_name": "Python 3",
   "language": "python",
   "name": "python3"
  },
  "language_info": {
   "codemirror_mode": {
    "name": "ipython",
    "version": 3
   },
   "file_extension": ".py",
   "mimetype": "text/x-python",
   "name": "python",
   "nbconvert_exporter": "python",
   "pygments_lexer": "ipython3",
   "version": "3.9.6"
  },
  "naas": {
   "notebook_id": "9d0515a1c77f00567dfb9833c75af19c3c9b24efd7b7a6e0a6d53ef0de00fcd0",
   "notebook_path": "Gmail/Gmail_Get_emails_stats_by_sender.ipynb"
  },
  "papermill": {
   "default_parameters": {},
   "environment_variables": {},
   "parameters": {},
   "version": "2.3.3"
  }
 },
 "nbformat": 4,
 "nbformat_minor": 5
}
