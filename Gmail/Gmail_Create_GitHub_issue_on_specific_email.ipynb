{
 "cells": [
  {
   "cell_type": "markdown",
   "id": "9f0446de-3cd8-4227-8a2f-fe922e639f12",
   "metadata": {
    "papermill": {},
    "tags": []
   },
   "source": [
    "<img width=\"10%\" alt=\"Naas\" src=\"https://landen.imgix.net/jtci2pxwjczr/assets/5ice39g4.png?w=160\"/>"
   ]
  },
  {
   "cell_type": "markdown",
   "id": "3104405e-ec85-4273-9c14-8a8e2e799858",
   "metadata": {
    "papermill": {},
    "tags": []
   },
   "source": [
    "# Gmail - Create GitHub issue on specific email"
   ]
  },
  {
   "cell_type": "markdown",
   "id": "82e6cf23-4833-439d-9f6f-6180589122e0",
   "metadata": {
    "papermill": {},
    "tags": []
   },
   "source": [
    "**Tags:** #gmail #github #email #issue #create #python"
   ]
  },
  {
   "cell_type": "markdown",
   "id": "1c102df6-9e81-451c-9fcd-c880c73cd626",
   "metadata": {
    "papermill": {},
    "tags": []
   },
   "source": [
    "**Author:** [Florent Ravenel](https://www.linkedin.com/in/florent-ravenel/)"
   ]
  },
  {
   "cell_type": "markdown",
   "id": "431ff6f8-871e-4bae-a547-1752b54e7e68",
   "metadata": {
    "papermill": {},
    "tags": []
   },
   "source": [
    "**Description:** This notebook will show how to create a GitHub issue from a specific email using Gmail and Python. It is usefull for organizations that need to track emails and create issues from them."
   ]
  },
  {
   "cell_type": "markdown",
   "id": "e1688d79-6854-4b97-a25a-abd8b2804ed7",
   "metadata": {
    "papermill": {},
    "tags": []
   },
   "source": [
    "**References:**\n- [Gmail API](https://developers.google.com/gmail/api)\n- [GitHub API](https://developer.github.com/v3/)"
   ]
  },
  {
   "cell_type": "markdown",
   "id": "9abd309e-1df0-476c-ba21-d42c1745b705",
   "metadata": {
    "papermill": {},
    "tags": []
   },
   "source": [
    "## Input"
   ]
  },
  {
   "cell_type": "markdown",
   "id": "54ad6d7f-bb25-4323-9a5f-cf40325242fa",
   "metadata": {
    "papermill": {},
    "tags": []
   },
   "source": [
    "### Import libraries"
   ]
  },
  {
   "cell_type": "code",
   "execution_count": null,
   "id": "95c6a90f-e93f-4e9e-bcfb-38d7194ee3c6",
   "metadata": {
    "papermill": {},
    "tags": []
   },
   "source": "import googleapiclient.discovery\nimport google_auth_oauthlib.flow\nimport google.auth.transport.requests\nimport requests",
   "outputs": []
  },
  {
   "cell_type": "markdown",
   "id": "05236c1d-e292-4a3f-8632-3d3bf7e72636",
   "metadata": {
    "papermill": {},
    "tags": []
   },
   "source": [
    "### Setup Variables\n- `gmail_service`: Gmail API service\n- `github_token`: GitHub token to access the API\n- `email_id`: ID of the email to create the issue from"
   ]
  },
  {
   "cell_type": "code",
   "execution_count": null,
   "id": "ed28eb86-9162-4742-afed-5999a2c97636",
   "metadata": {
    "papermill": {},
    "tags": []
   },
   "source": "gmail_service = None\ngithub_token = None\nemail_id = None",
   "outputs": []
  },
  {
   "cell_type": "markdown",
   "id": "98346a65-2b99-43d6-9aa9-d087d6f2e2c9",
   "metadata": {
    "papermill": {},
    "tags": []
   },
   "source": [
    "## Model"
   ]
  },
  {
   "cell_type": "markdown",
   "id": "caa75fad-d91a-4a16-bf06-418f5bd9999e",
   "metadata": {
    "papermill": {},
    "tags": []
   },
   "source": [
    "### Create GitHub issue"
   ]
  },
  {
   "cell_type": "markdown",
   "id": "9dea4f76-4bde-4346-ac76-b5f07ee6f074",
   "metadata": {
    "papermill": {},
    "tags": []
   },
   "source": [
    "Long description of the function without break"
   ]
  },
  {
   "cell_type": "code",
   "execution_count": null,
   "id": "cb17429b-098a-4112-afb2-4a54825755ff",
   "metadata": {
    "papermill": {},
    "tags": []
   },
   "source": "# Get email content\nemail_content = gmail_service.users().messages().get(userId=\"me\", id=email_id).execute()\n# Create issue\nurl = \"https://api.github.com/repos/{owner}/{repo}/issues\"\nheaders = {\"Authorization\": \"token {}\".format(github_token)}\ndata = {\n    \"title\": email_content[\"payload\"][\"headers\"][\"Subject\"],\n    \"body\": email_content[\"snippet\"],\n}\nresponse = requests.post(url, headers=headers, data=data)",
   "outputs": []
  },
  {
   "cell_type": "markdown",
   "id": "6df991ee-303b-4908-a097-4fa9b98b523a",
   "metadata": {
    "papermill": {},
    "tags": []
   },
   "source": [
    "## Output"
   ]
  },
  {
   "cell_type": "markdown",
   "id": "29a4aa08-4478-41f6-b4ef-e545971cfc48",
   "metadata": {
    "papermill": {},
    "tags": []
   },
   "source": [
    "### Display result"
   ]
  },
  {
   "cell_type": "code",
   "execution_count": null,
   "id": "7d127946-4126-4d9b-9916-48fc9cf2ba70",
   "metadata": {
    "papermill": {},
    "tags": []
   },
   "source": "print(response.json())",
   "outputs": []
  },
  {
   "cell_type": "markdown",
   "id": "d6e2344e-0aa1-498e-afbe-94caad7b30c6",
   "metadata": {
    "papermill": {},
    "tags": []
   },
   "source": [
    " "
   ]
  }
 ],
 "metadata": {
  "kernelspec": {
   "display_name": "Python 3",
   "language": "python",
   "name": "python3"
  },
  "language_info": {
   "codemirror_mode": {
    "name": "ipython",
    "version": 3
   },
   "file_extension": ".py",
   "mimetype": "text/x-python",
   "name": "python",
   "nbconvert_exporter": "python",
   "pygments_lexer": "ipython3",
   "version": "3.9.6"
  },
  "widgets": {
   "application/vnd.jupyter.widget-state+json": {
    "state": {},
    "version_major": 2,
    "version_minor": 0
   }
  }
 },
 "nbformat": 4,
 "nbformat_minor": 5
}