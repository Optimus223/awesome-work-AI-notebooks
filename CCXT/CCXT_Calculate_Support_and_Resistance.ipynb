{
 "cells": [
  {
   "cell_type": "markdown",
   "id": "expired-assessment",
   "metadata": {
    "papermill": {},
    "tags": []
   },
   "source": [
    "<img width=\"10%\" alt=\"Naas\" src=\"https://landen.imgix.net/jtci2pxwjczr/assets/5ice39g4.png?w=160\"/>"
   ]
  },
  {
   "cell_type": "markdown",
   "id": "thermal-speed",
   "metadata": {
    "papermill": {},
    "tags": []
   },
   "source": [
    "# CCXT - Calculate Support and Resistance\n",
    "<a href=\"https://app.naas.ai/user-redirect/naas/downloader?url=https://raw.githubusercontent.com/jupyter-naas/awesome-notebooks/master/CCXT/CCXT_Calculate_Support_and_Resistance.ipynb\" target=\"_parent\"><img src=\"https://img.shields.io/badge/-Open%20in%20Naas-success?labelColor=000000&logo=data:image/svg+xml;base64,PD94bWwgdmVyc2lvbj0iMS4wIiBlbmNvZGluZz0iVVRGLTgiPz4KPHN2ZyB3aWR0aD0iMTAyNHB4IiBoZWlnaHQ9IjEwMjRweCIgdmlld0JveD0iMCAwIDEwMjQgMTAyNCIgeG1sbnM9Imh0dHA6Ly93d3cudzMub3JnLzIwMDAvc3ZnIiB4bWxuczp4bGluaz0iaHR0cDovL3d3dy53My5vcmcvMTk5OS94bGluayIgdmVyc2lvbj0iMS4xIj4KIDwhLS0gR2VuZXJhdGVkIGJ5IFBpeGVsbWF0b3IgUHJvIDIuMC41IC0tPgogPGRlZnM+CiAgPHRleHQgaWQ9InN0cmluZyIgdHJhbnNmb3JtPSJtYXRyaXgoMS4wIDAuMCAwLjAgMS4wIDIyOC4wIDU0LjUpIiBmb250LWZhbWlseT0iQ29tZm9ydGFhLVJlZ3VsYXIsIENvbWZvcnRhYSIgZm9udC1zaXplPSI4MDAiIHRleHQtZGVjb3JhdGlvbj0ibm9uZSIgZmlsbD0iI2ZmZmZmZiIgeD0iMS4xOTk5OTk5OTk5OTk5ODg2IiB5PSI3MDUuMCI+bjwvdGV4dD4KIDwvZGVmcz4KIDx1c2UgaWQ9Im4iIHhsaW5rOmhyZWY9IiNzdHJpbmciLz4KPC9zdmc+Cg==\"/></a>"
   ]
  },
  {
   "cell_type": "markdown",
   "id": "620ebc4d-b7c7-4d8c-9665-1e148415315b",
   "metadata": {
    "papermill": {},
    "tags": []
   },
   "source": [
    "**Tags:** #ccxt #bitcoin #trading"
   ]
  },
  {
   "cell_type": "markdown",
   "id": "liberal-bosnia",
   "metadata": {
    "papermill": {},
    "tags": []
   },
   "source": [
    "Prerequisite : get binance API Key"
   ]
  },
  {
   "cell_type": "code",
   "execution_count": null,
   "id": "sustainable-xerox",
   "metadata": {
    "papermill": {},
    "tags": []
   },
   "outputs": [],
   "source": [
    "!pip install trendln matplotlib==3.1.3 --user"
   ]
  },
  {
   "cell_type": "code",
   "execution_count": 1,
   "id": "fifty-tackle",
   "metadata": {
    "execution": {
     "iopub.execute_input": "2021-01-29T11:26:02.833155Z",
     "iopub.status.busy": "2021-01-29T11:26:02.832871Z",
     "iopub.status.idle": "2021-01-29T11:26:04.852307Z",
     "shell.execute_reply": "2021-01-29T11:26:04.851658Z",
     "shell.execute_reply.started": "2021-01-29T11:26:02.833084Z"
    },
    "papermill": {},
    "tags": []
   },
   "outputs": [],
   "source": [
    "import naas\n",
    "import ccxt\n",
    "import pandas as pd\n",
    "from datetime import datetime\n",
    "import naas_drivers\n",
    "import trendln"
   ]
  },
  {
   "cell_type": "code",
   "execution_count": 2,
   "id": "sublime-policy",
   "metadata": {
    "execution": {
     "iopub.execute_input": "2021-01-29T11:26:04.853895Z",
     "iopub.status.busy": "2021-01-29T11:26:04.853634Z",
     "iopub.status.idle": "2021-01-29T11:26:05.494624Z",
     "shell.execute_reply": "2021-01-29T11:26:05.493214Z",
     "shell.execute_reply.started": "2021-01-29T11:26:04.853862Z"
    },
    "papermill": {},
    "tags": []
   },
   "outputs": [],
   "source": [
    "binance = ccxt.binance({\n",
    "    'apiKey': naas.secret.get('binance_api'),\n",
    "    'secret': naas.secret.get('binance_secret')\n",
    "}) \n",
    "data = binance.fetch_ohlcv(symbol = 'BTC/USDT', limit = 180, timeframe = '4h')"
   ]
  },
  {
   "cell_type": "code",
   "execution_count": 3,
   "id": "beautiful-banner",
   "metadata": {
    "execution": {
     "iopub.execute_input": "2021-01-29T11:26:05.497791Z",
     "iopub.status.busy": "2021-01-29T11:26:05.497612Z",
     "iopub.status.idle": "2021-01-29T11:26:05.535225Z",
     "shell.execute_reply": "2021-01-29T11:26:05.534726Z",
     "shell.execute_reply.started": "2021-01-29T11:26:05.497772Z"
    },
    "papermill": {},
    "tags": []
   },
   "outputs": [],
   "source": [
    "df = pd.DataFrame(data, columns=[\"Date\",\"Open\",\"High\",\"Low\",\"Close\",\"Volume\"])\n",
    "df['Date'] = [datetime.fromtimestamp(float(time)/1000) for time in df['Date']]\n",
    "df"
   ]
  },
  {
   "cell_type": "code",
   "execution_count": 47,
   "id": "brown-consent",
   "metadata": {
    "execution": {
     "iopub.execute_input": "2021-01-29T11:43:07.295709Z",
     "iopub.status.busy": "2021-01-29T11:43:07.295468Z",
     "iopub.status.idle": "2021-01-29T11:43:08.274889Z",
     "shell.execute_reply": "2021-01-29T11:43:08.274171Z",
     "shell.execute_reply.started": "2021-01-29T11:43:07.295682Z"
    },
    "papermill": {},
    "tags": []
   },
   "outputs": [],
   "source": [
    "fig = trendln.plot_support_resistance(\n",
    "    df[-1000:].Close, #as per h for calc_support_resistance\n",
    "    xformatter = None, #x-axis data formatter turning numeric indexes to display output\n",
    "      # e.g. ticker.FuncFormatter(func) otherwise just display numeric indexes\n",
    "    numbest = 1, #number of best support and best resistance lines to display\n",
    "    fromwindows = True, #draw numbest best from each window, otherwise draw numbest across whole range\n",
    "    pctbound = 0.1, # bound trend line based on this maximum percentage of the data range above the high or below the low\n",
    "    extmethod = trendln.METHOD_NUMDIFF,\n",
    "    method=trendln.METHOD_PROBHOUGH,\n",
    "    window=125,\n",
    "    errpct = 0.005,\n",
    "    hough_prob_iter=50,\n",
    "    sortError=False,\n",
    "    accuracy=1)"
   ]
  },
  {
   "cell_type": "code",
   "execution_count": 48,
   "id": "chicken-banana",
   "metadata": {
    "execution": {
     "iopub.execute_input": "2021-01-29T11:43:08.276428Z",
     "iopub.status.busy": "2021-01-29T11:43:08.276192Z",
     "iopub.status.idle": "2021-01-29T11:43:08.420560Z",
     "shell.execute_reply": "2021-01-29T11:43:08.419418Z",
     "shell.execute_reply.started": "2021-01-29T11:43:08.276398Z"
    },
    "papermill": {},
    "tags": []
   },
   "outputs": [],
   "source": [
    "import plotly.tools as tls\n",
    "import plotly.graph_objects as go\n",
    "\n",
    "plotly_fig = tls.mpl_to_plotly(fig)"
   ]
  },
  {
   "cell_type": "code",
   "execution_count": 49,
   "id": "developing-breathing",
   "metadata": {
    "execution": {
     "iopub.execute_input": "2021-01-29T11:43:09.243390Z",
     "iopub.status.busy": "2021-01-29T11:43:09.243155Z",
     "iopub.status.idle": "2021-01-29T11:43:09.261085Z",
     "shell.execute_reply": "2021-01-29T11:43:09.260596Z",
     "shell.execute_reply.started": "2021-01-29T11:43:09.243367Z"
    },
    "papermill": {},
    "tags": []
   },
   "outputs": [],
   "source": [
    "layout = dict(\n",
    "    dragmode=\"pan\",\n",
    "    xaxis_rangeslider_visible=False,\n",
    "    showlegend=True,\n",
    ")\n",
    "new_data = list(plotly_fig.data)\n",
    "new_data.pop(2)\n",
    "new_data.pop(2)\n",
    "new_data.pop(1)\n",
    "new_data.pop(1)\n",
    "fig = go.Figure(data=new_data, layout=layout)\n",
    "fig"
   ]
  },
  {
   "cell_type": "code",
   "execution_count": null,
   "id": "developed-original",
   "metadata": {
    "papermill": {},
    "tags": []
   },
   "outputs": [],
   "source": []
  }
 ],
 "metadata": {
  "kernelspec": {
   "display_name": "Python 3",
   "language": "python",
   "name": "python3"
  },
  "language_info": {
   "codemirror_mode": {
    "name": "ipython",
    "version": 3
   },
   "file_extension": ".py",
   "mimetype": "text/x-python",
   "name": "python",
   "nbconvert_exporter": "python",
   "pygments_lexer": "ipython3",
   "version": "3.8.8"
  },
  "papermill": {
   "default_parameters": {},
   "environment_variables": {},
   "parameters": {},
   "version": "2.3.3"
  }
 },
 "nbformat": 4,
 "nbformat_minor": 5
}