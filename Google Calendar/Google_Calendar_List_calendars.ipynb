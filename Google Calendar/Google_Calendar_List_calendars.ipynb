{
 "cells": [
  {
   "cell_type": "markdown",
   "id": "99ac82cf-f475-4104-bf09-e38eec8576a4",
   "metadata": {
    "papermill": {},
    "tags": []
   },
   "source": [
    "<img width=\"10%\" alt=\"Naas\" src=\"https://landen.imgix.net/jtci2pxwjczr/assets/5ice39g4.png?w=160\"/>"
   ]
  },
  {
   "cell_type": "markdown",
   "id": "28811e07-569a-4c9d-ac97-8f6b7b419e89",
   "metadata": {
    "papermill": {},
    "tags": []
   },
   "source": [
    "# Google Calendar - List calendars"
   ]
  },
  {
   "cell_type": "markdown",
   "id": "9c61c43f-7edc-4f28-8fd2-9cfadeacb791",
   "metadata": {
    "papermill": {},
    "tags": []
   },
   "source": [
    "**Tags:** #googlecalendar #calendarlist #list #api #python #reference"
   ]
  },
  {
   "cell_type": "markdown",
   "id": "d7c1c00f-4fbb-459d-8e35-a71c802f9453",
   "metadata": {
    "papermill": {},
    "tags": []
   },
   "source": [
    "**Author:** [Sriniketh Jayasendil](https://www.linkedin.com/in/sriniketh-jayasendil)"
   ]
  },
  {
   "cell_type": "markdown",
   "id": "38858ee9-46fe-4425-b2df-b501e603f2d2",
   "metadata": {
    "papermill": {},
    "tags": []
   },
   "source": [
    "**Description:** This notebook will demonstrate how to use the Google Calendar API to list the calendars on the user's calendar list."
   ]
  },
  {
   "cell_type": "markdown",
   "id": "f27f7bed-a5cf-40e9-bcbf-0c852a9b6a11",
   "metadata": {
    "papermill": {},
    "tags": []
   },
   "source": [
    "**References:**\n",
    "- [Google Calendar API Reference](https://developers.google.com/calendar/api/v3/reference/calendarList/list)\n",
    "- [Google Calendar API Python Quickstart](https://developers.google.com/calendar/quickstart/python)"
   ]
  },
  {
   "cell_type": "markdown",
   "id": "bef0493d-918d-493f-9566-61b8fa9d5f60",
   "metadata": {
    "papermill": {},
    "tags": []
   },
   "source": [
    "## Input"
   ]
  },
  {
   "cell_type": "markdown",
   "id": "614b3555-cffc-4fd2-b73b-a8902d6da705",
   "metadata": {
    "papermill": {},
    "tags": []
   },
   "source": [
    "### Import libraries"
   ]
  },
  {
   "cell_type": "code",
   "execution_count": 1,
   "id": "afdf0b97-aa44-4a43-93a3-3de35e2f4558",
   "metadata": {
    "papermill": {},
    "tags": []
   },
   "outputs": [],
   "source": [
    "import json\n",
    "\n",
    "try:\n",
    "    from apiclient.discovery import build\n",
    "    from google_auth_oauthlib.flow import InstalledAppFlow\n",
    "except ModuleNotFoundError:\n",
    "    !pip install google-api-python-client\n",
    "    from apiclient.discovery import build\n",
    "    from google_auth_oauthlib.flow import InstalledAppFlow"
   ]
  },
  {
   "attachments": {},
   "cell_type": "markdown",
   "id": "6cfe93ac-b9ba-4fc2-ba10-d96fdbcc3da1",
   "metadata": {
    "papermill": {},
    "tags": []
   },
   "source": [
    "### Setup Variables\n",
    "- `scopes`: The scopes to be used for authentication\n",
    "- `flow`: To read the secrets file with correct permission\n",
    "- `credentials_file`: The path to the credentials file\n",
    "- `service`: To create a service for authentication\n",
    "\n",
    "#### For the credentials file\n",
    "\n",
    "- Follow this [blog](https://blog.sriniketh.design/getting-credentials-from-gcp-google-cloud-platform) to know how to get the credentials from GCP\n",
    "\n",
    "Assuming you have got the credentials, you can proceed further."
   ]
  },
  {
   "cell_type": "markdown",
   "id": "959637d0-e6fa-4b0b-85b7-5b0edfe6cea9",
   "metadata": {
    "papermill": {},
    "tags": []
   },
   "source": [
    "Follow the [Google Calendar API Python Quickstart](https://developers.google.com/calendar/quickstart/python) to set up the credentials."
   ]
  },
  {
   "cell_type": "code",
   "execution_count": 2,
   "id": "7b90e2fd-9464-42bd-9500-bef38e12c1cf",
   "metadata": {
    "papermill": {},
    "tags": []
   },
   "outputs": [
    {
     "name": "stdout",
     "output_type": "stream",
     "text": [
      "Please visit this URL to authorize this application: https://accounts.google.com/o/oauth2/auth?response_type=code&client_id=417989596337-f11ffa76mds5stmo86kepgmnn940b32j.apps.googleusercontent.com&redirect_uri=urn%3Aietf%3Awg%3Aoauth%3A2.0%3Aoob&scope=https%3A%2F%2Fwww.googleapis.com%2Fauth%2Fcalendar&state=EFwIJLVtePdNlZ607GyVcPtC5uOEAV&prompt=consent&access_type=offline\n"
     ]
    }
   ],
   "source": [
    "# inputs\n",
    "scopes = ['https://www.googleapis.com/auth/calendar']\n",
    "flow = InstalledAppFlow.from_client_secrets_file(\"./credentials.json\", scopes=scopes)\n",
    "credentials = flow.run_console()\n",
    "service = build(\"calendar\", \"v3\", credentials=credentials)\n",
    "\n",
    "#output\n",
    "calendars = ''"
   ]
  },
  {
   "cell_type": "markdown",
   "id": "8f5d3505-770f-4400-a172-d5529e19a036",
   "metadata": {
    "papermill": {},
    "tags": []
   },
   "source": [
    "## Model"
   ]
  },
  {
   "cell_type": "markdown",
   "id": "595a6081-4cbd-4727-bab4-111a493fe6d1",
   "metadata": {
    "papermill": {},
    "tags": []
   },
   "source": [
    "### List Calendars"
   ]
  },
  {
   "cell_type": "markdown",
   "id": "df069bb9-ff5f-40bd-b2f1-a191d8478abc",
   "metadata": {
    "papermill": {},
    "tags": []
   },
   "source": [
    "This function will use the Google Calendar API to list the calendars on the user's calendar list."
   ]
  },
  {
   "cell_type": "code",
   "execution_count": 3,
   "id": "ebc4f910-b04d-4b2c-94ec-30c1eb567a00",
   "metadata": {
    "papermill": {},
    "tags": []
   },
   "outputs": [],
   "source": [
    "def list_calendars():\n",
    "    # Call the Calendar API\n",
    "    results = service.calendarList().list().execute()\n",
    "    return results\n",
    "\n",
    "calendars = list_calendars()\n",
    "calendars = json.dumps(calendars, indent=4)"
   ]
  },
  {
   "cell_type": "markdown",
   "id": "ac795830-5d74-4b76-a06a-7548ce88ae4f",
   "metadata": {
    "papermill": {},
    "tags": []
   },
   "source": [
    "## Output"
   ]
  },
  {
   "cell_type": "markdown",
   "id": "6d5b646a-2d8a-47d5-a057-1401c14f47fd",
   "metadata": {
    "papermill": {},
    "tags": []
   },
   "source": [
    "### Display result"
   ]
  },
  {
   "cell_type": "code",
   "execution_count": 4,
   "id": "c6d5c7a7-56c0-482e-812d-b203de9a624a",
   "metadata": {
    "papermill": {},
    "tags": []
   },
   "outputs": [
    {
     "name": "stdout",
     "output_type": "stream",
     "text": [
      "{\n",
      "    \"kind\": \"calendar#calendarList\",\n",
      "    \"etag\": \"\\\"p33ge1muapnqfq0g\\\"\",\n",
      "    \"nextSyncToken\": \"CODg28rN9P0CEhZzcmluaWtldGhjcjdAZ21haWwuY29t\",\n",
      "    \"items\": [\n",
      "        {\n",
      "            \"kind\": \"calendar#calendarListEntry\",\n",
      "            \"etag\": \"\\\"1679461279893000\\\"\",\n",
      "            \"id\": \"srinikethcr7@gmail.com\",\n",
      "            \"summary\": \"srinikethcr7@gmail.com\",\n",
      "            \"timeZone\": \"Asia/Kolkata\",\n",
      "            \"colorId\": \"14\",\n",
      "            \"backgroundColor\": \"#9fe1e7\",\n",
      "            \"foregroundColor\": \"#000000\",\n",
      "            \"selected\": true,\n",
      "            \"accessRole\": \"owner\",\n",
      "            \"defaultReminders\": [\n",
      "                {\n",
      "                    \"method\": \"popup\",\n",
      "                    \"minutes\": 30\n",
      "                }\n",
      "            ],\n",
      "            \"notificationSettings\": {\n",
      "                \"notifications\": [\n",
      "                    {\n",
      "                        \"type\": \"eventCreation\",\n",
      "                        \"method\": \"email\"\n",
      "                    },\n",
      "                    {\n",
      "                        \"type\": \"eventChange\",\n",
      "                        \"method\": \"email\"\n",
      "                    },\n",
      "                    {\n",
      "                        \"type\": \"eventCancellation\",\n",
      "                        \"method\": \"email\"\n",
      "                    },\n",
      "                    {\n",
      "                        \"type\": \"eventResponse\",\n",
      "                        \"method\": \"email\"\n",
      "                    }\n",
      "                ]\n",
      "            },\n",
      "            \"primary\": true,\n",
      "            \"conferenceProperties\": {\n",
      "                \"allowedConferenceSolutionTypes\": [\n",
      "                    \"hangoutsMeet\"\n",
      "                ]\n",
      "            }\n",
      "        },\n",
      "        {\n",
      "            \"kind\": \"calendar#calendarListEntry\",\n",
      "            \"etag\": \"\\\"1679461280005000\\\"\",\n",
      "            \"id\": \"addressbook#contacts@group.v.calendar.google.com\",\n",
      "            \"summary\": \"Birthdays\",\n",
      "            \"description\": \"Displays birthdays, anniversaries and other event dates of people in Google Contacts.\",\n",
      "            \"timeZone\": \"Asia/Kolkata\",\n",
      "            \"summaryOverride\": \"Birthdays\",\n",
      "            \"colorId\": \"13\",\n",
      "            \"backgroundColor\": \"#92e1c0\",\n",
      "            \"foregroundColor\": \"#000000\",\n",
      "            \"selected\": true,\n",
      "            \"accessRole\": \"reader\",\n",
      "            \"defaultReminders\": [],\n",
      "            \"conferenceProperties\": {\n",
      "                \"allowedConferenceSolutionTypes\": [\n",
      "                    \"hangoutsMeet\"\n",
      "                ]\n",
      "            }\n",
      "        },\n",
      "        {\n",
      "            \"kind\": \"calendar#calendarListEntry\",\n",
      "            \"etag\": \"\\\"1679662259557000\\\"\",\n",
      "            \"id\": \"c_q9tseiglomdsj6njuhvbpts11c@group.calendar.google.com\",\n",
      "            \"summary\": \"AsyncAPI Initiative\",\n",
      "            \"description\": \"Official calendar of all the events organized under the AsyncAPI Initiative.\",\n",
      "            \"timeZone\": \"UTC\",\n",
      "            \"colorId\": \"6\",\n",
      "            \"backgroundColor\": \"#ffad46\",\n",
      "            \"foregroundColor\": \"#000000\",\n",
      "            \"selected\": true,\n",
      "            \"accessRole\": \"reader\",\n",
      "            \"defaultReminders\": [],\n",
      "            \"conferenceProperties\": {\n",
      "                \"allowedConferenceSolutionTypes\": [\n",
      "                    \"hangoutsMeet\"\n",
      "                ]\n",
      "            }\n",
      "        },\n",
      "        {\n",
      "            \"kind\": \"calendar#calendarListEntry\",\n",
      "            \"etag\": \"\\\"1679662260405000\\\"\",\n",
      "            \"id\": \"b0buee3m61snoq0bfi0n5g7hgnof2st4@import.calendar.google.com\",\n",
      "            \"summary\": \"Calendar\",\n",
      "            \"timeZone\": \"UTC\",\n",
      "            \"colorId\": \"4\",\n",
      "            \"backgroundColor\": \"#fa573c\",\n",
      "            \"foregroundColor\": \"#000000\",\n",
      "            \"selected\": true,\n",
      "            \"accessRole\": \"reader\",\n",
      "            \"defaultReminders\": [],\n",
      "            \"conferenceProperties\": {\n",
      "                \"allowedConferenceSolutionTypes\": [\n",
      "                    \"hangoutsMeet\"\n",
      "                ]\n",
      "            }\n",
      "        },\n",
      "        {\n",
      "            \"kind\": \"calendar#calendarListEntry\",\n",
      "            \"etag\": \"\\\"1679662262874000\\\"\",\n",
      "            \"id\": \"f8qidjnq0jhscp8809k1eghs60@group.calendar.google.com\",\n",
      "            \"summary\": \"DataTalks.Club events\",\n",
      "            \"description\": \"DTC's events\",\n",
      "            \"timeZone\": \"Europe/Berlin\",\n",
      "            \"colorId\": \"6\",\n",
      "            \"backgroundColor\": \"#ffad46\",\n",
      "            \"foregroundColor\": \"#000000\",\n",
      "            \"selected\": true,\n",
      "            \"accessRole\": \"reader\",\n",
      "            \"defaultReminders\": [],\n",
      "            \"conferenceProperties\": {\n",
      "                \"allowedConferenceSolutionTypes\": [\n",
      "                    \"hangoutsMeet\"\n",
      "                ]\n",
      "            }\n",
      "        },\n",
      "        {\n",
      "            \"kind\": \"calendar#calendarListEntry\",\n",
      "            \"etag\": \"\\\"1679662263057000\\\"\",\n",
      "            \"id\": \"er1r053veb2iqu4u1fhm635q0o@group.calendar.google.com\",\n",
      "            \"summary\": \"Data Engineering Zoomcamp\",\n",
      "            \"description\": \"Office hours and other events related to the Data Engineering Course \\n\\nMore info about the course: https://github.com/DataTalksClub/data-engineering-zoomcamp\",\n",
      "            \"timeZone\": \"Europe/Paris\",\n",
      "            \"colorId\": \"9\",\n",
      "            \"backgroundColor\": \"#7bd148\",\n",
      "            \"foregroundColor\": \"#000000\",\n",
      "            \"selected\": true,\n",
      "            \"accessRole\": \"reader\",\n",
      "            \"defaultReminders\": [],\n",
      "            \"conferenceProperties\": {\n",
      "                \"allowedConferenceSolutionTypes\": [\n",
      "                    \"hangoutsMeet\"\n",
      "                ]\n",
      "            }\n",
      "        },\n",
      "        {\n",
      "            \"kind\": \"calendar#calendarListEntry\",\n",
      "            \"etag\": \"\\\"1679662263824000\\\"\",\n",
      "            \"id\": \"gv7f4akve41kr3h18h9qc8ok7qmjg748@import.calendar.google.com\",\n",
      "            \"summary\": \"Flyte OSS Sync Up Calendar\",\n",
      "            \"timeZone\": \"UTC\",\n",
      "            \"colorId\": \"23\",\n",
      "            \"backgroundColor\": \"#cd74e6\",\n",
      "            \"foregroundColor\": \"#000000\",\n",
      "            \"selected\": true,\n",
      "            \"accessRole\": \"reader\",\n",
      "            \"defaultReminders\": [],\n",
      "            \"conferenceProperties\": {\n",
      "                \"allowedConferenceSolutionTypes\": [\n",
      "                    \"hangoutsMeet\"\n",
      "                ]\n",
      "            }\n",
      "        },\n",
      "        {\n",
      "            \"kind\": \"calendar#calendarListEntry\",\n",
      "            \"etag\": \"\\\"1679662265660000\\\"\",\n",
      "            \"id\": \"c_c0co5vn5dggp2jeuftth4ddqgg@group.calendar.google.com\",\n",
      "            \"summary\": \"Global Hack Week\",\n",
      "            \"timeZone\": \"America/New_York\",\n",
      "            \"colorId\": \"19\",\n",
      "            \"backgroundColor\": \"#c2c2c2\",\n",
      "            \"foregroundColor\": \"#000000\",\n",
      "            \"selected\": true,\n",
      "            \"accessRole\": \"reader\",\n",
      "            \"defaultReminders\": [],\n",
      "            \"conferenceProperties\": {\n",
      "                \"allowedConferenceSolutionTypes\": [\n",
      "                    \"hangoutsMeet\"\n",
      "                ]\n",
      "            }\n",
      "        },\n",
      "        {\n",
      "            \"kind\": \"calendar#calendarListEntry\",\n",
      "            \"etag\": \"\\\"1679662266883000\\\"\",\n",
      "            \"id\": \"en.indian#holiday@group.v.calendar.google.com\",\n",
      "            \"summary\": \"Holidays in India\",\n",
      "            \"description\": \"Holidays and Observances in India\",\n",
      "            \"timeZone\": \"Asia/Kolkata\",\n",
      "            \"colorId\": \"8\",\n",
      "            \"backgroundColor\": \"#16a765\",\n",
      "            \"foregroundColor\": \"#000000\",\n",
      "            \"selected\": true,\n",
      "            \"accessRole\": \"reader\",\n",
      "            \"defaultReminders\": [],\n",
      "            \"conferenceProperties\": {\n",
      "                \"allowedConferenceSolutionTypes\": [\n",
      "                    \"hangoutsMeet\"\n",
      "                ]\n",
      "            }\n",
      "        },\n",
      "        {\n",
      "            \"kind\": \"calendar#calendarListEntry\",\n",
      "            \"etag\": \"\\\"1679662266974000\\\"\",\n",
      "            \"id\": \"c_1t5ogfp2d45v8fit981j08mcm4@group.calendar.google.com\",\n",
      "            \"summary\": \"Jina AI Public Events\",\n",
      "            \"description\": \"Jina AI is a Neural Search Company. This calendar collects all public events hosted by Jina AI, or the event Jina AI will present, including webinars, meetups, conferences. \\n\\nGitHub: get.jina.ai\",\n",
      "            \"timeZone\": \"Europe/Berlin\",\n",
      "            \"colorId\": \"19\",\n",
      "            \"backgroundColor\": \"#c2c2c2\",\n",
      "            \"foregroundColor\": \"#000000\",\n",
      "            \"selected\": true,\n",
      "            \"accessRole\": \"reader\",\n",
      "            \"defaultReminders\": [],\n",
      "            \"conferenceProperties\": {\n",
      "                \"allowedConferenceSolutionTypes\": [\n",
      "                    \"hangoutsMeet\"\n",
      "                ]\n",
      "            }\n",
      "        },\n",
      "        {\n",
      "            \"kind\": \"calendar#calendarListEntry\",\n",
      "            \"etag\": \"\\\"1679662267152000\\\"\",\n",
      "            \"id\": \"c_946svqnl5icr7a19v6u3q1331c@group.calendar.google.com\",\n",
      "            \"summary\": \"MLOps Community\",\n",
      "            \"description\": \"Everything that is happening in the MLOps community world\",\n",
      "            \"timeZone\": \"UTC\",\n",
      "            \"colorId\": \"9\",\n",
      "            \"backgroundColor\": \"#7bd148\",\n",
      "            \"foregroundColor\": \"#000000\",\n",
      "            \"selected\": true,\n",
      "            \"accessRole\": \"reader\",\n",
      "            \"defaultReminders\": [],\n",
      "            \"conferenceProperties\": {\n",
      "                \"allowedConferenceSolutionTypes\": [\n",
      "                    \"hangoutsMeet\"\n",
      "                ]\n",
      "            }\n",
      "        },\n",
      "        {\n",
      "            \"kind\": \"calendar#calendarListEntry\",\n",
      "            \"etag\": \"\\\"1679662267303000\\\"\",\n",
      "            \"id\": \"c_aultg6lanla9l39k8f5fm7d264@group.calendar.google.com\",\n",
      "            \"summary\": \"Naas Community Calendar \\u26a1\\ufe0f\",\n",
      "            \"description\": \"A calendar to never miss any Naas events \",\n",
      "            \"timeZone\": \"UTC\",\n",
      "            \"colorId\": \"4\",\n",
      "            \"backgroundColor\": \"#fa573c\",\n",
      "            \"foregroundColor\": \"#000000\",\n",
      "            \"selected\": true,\n",
      "            \"accessRole\": \"reader\",\n",
      "            \"defaultReminders\": [],\n",
      "            \"conferenceProperties\": {\n",
      "                \"allowedConferenceSolutionTypes\": [\n",
      "                    \"hangoutsMeet\"\n",
      "                ]\n",
      "            }\n",
      "        },\n",
      "        {\n",
      "            \"kind\": \"calendar#calendarListEntry\",\n",
      "            \"etag\": \"\\\"1679662268029000\\\"\",\n",
      "            \"id\": \"c_549b2f984f06a65a60823abc6fcb837c8482a9eceae01b0da5b7b54d765a4a89@group.calendar.google.com\",\n",
      "            \"summary\": \"Symbl.ai Community Meeting and Office Hours\",\n",
      "            \"description\": \"Official Calendar for Symbl.ai's Community Meeting and Office Hours. Open meeting to discuss everything about the Symbl Platform, APIs, SDKs, and more!\",\n",
      "            \"timeZone\": \"America/Los_Angeles\",\n",
      "            \"colorId\": \"4\",\n",
      "            \"backgroundColor\": \"#fa573c\",\n",
      "            \"foregroundColor\": \"#000000\",\n",
      "            \"selected\": true,\n",
      "            \"accessRole\": \"reader\",\n",
      "            \"defaultReminders\": [],\n",
      "            \"conferenceProperties\": {\n",
      "                \"allowedConferenceSolutionTypes\": [\n",
      "                    \"hangoutsMeet\"\n",
      "                ]\n",
      "            }\n",
      "        }\n",
      "    ]\n",
      "}\n"
     ]
    }
   ],
   "source": [
    "print(calendars)"
   ]
  },
  {
   "cell_type": "markdown",
   "id": "e6112fa9-99aa-4834-93f9-c04b72af5b91",
   "metadata": {
    "papermill": {},
    "tags": []
   },
   "source": [
    " "
   ]
  }
 ],
 "metadata": {
  "kernelspec": {
   "display_name": "Python 3",
   "language": "python",
   "name": "python3"
  },
  "language_info": {
   "codemirror_mode": {
    "name": "ipython",
    "version": 3
   },
   "file_extension": ".py",
   "mimetype": "text/x-python",
   "name": "python",
   "nbconvert_exporter": "python",
   "pygments_lexer": "ipython3",
   "version": "3.9.13"
  },
  "widgets": {
   "application/vnd.jupyter.widget-state+json": {
    "state": {},
    "version_major": 2,
    "version_minor": 0
   }
  }
 },
 "nbformat": 4,
 "nbformat_minor": 5
}
