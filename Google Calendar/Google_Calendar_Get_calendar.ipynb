{
 "cells": [
  {
   "cell_type": "markdown",
   "id": "f358fda4-155d-4db0-b94c-09634751e5f0",
   "metadata": {
    "papermill": {},
    "tags": []
   },
   "source": [
    "<img width=\"10%\" alt=\"Naas\" src=\"https://landen.imgix.net/jtci2pxwjczr/assets/5ice39g4.png?w=160\"/>"
   ]
  },
  {
   "cell_type": "markdown",
   "id": "4227e1a3-51e1-45e9-905b-1afbec3f8b4b",
   "metadata": {
    "papermill": {},
    "tags": []
   },
   "source": [
    "# Google Calendar - Get calendar"
   ]
  },
  {
   "cell_type": "markdown",
   "id": "d9c08bbb-94c3-4e96-8c00-b68bbe6e1b0c",
   "metadata": {
    "papermill": {},
    "tags": []
   },
   "source": [
    "**Tags:** #googlecalendar #calendar #get #api #reference #v3"
   ]
  },
  {
   "cell_type": "markdown",
   "id": "780d3d9f-621b-4c3a-bba7-75d734a7fe6e",
   "metadata": {
    "papermill": {},
    "tags": []
   },
   "source": [
    "**Author:** [Sriniketh Jayasendil](https://www.linkedin.com/in/sriniketh-jayasendil)"
   ]
  },
  {
   "cell_type": "markdown",
   "id": "18da03ee-a728-40de-9351-52a1fa228e78",
   "metadata": {
    "papermill": {},
    "tags": []
   },
   "source": [
    "**Description:** This notebook will demonstrate how to use the Google Calendar API to get metadata for a calendar."
   ]
  },
  {
   "cell_type": "markdown",
   "id": "35b60773-2b1c-40b6-a443-3a3ca13e98b7",
   "metadata": {
    "papermill": {},
    "tags": []
   },
   "source": [
    "**References:**\n",
    "- [Google Calendar API Reference](https://developers.google.com/calendar/api/v3/reference/calendars/get)"
   ]
  },
  {
   "cell_type": "markdown",
   "id": "08a541d4-3524-4c53-a316-0d0de16721f1",
   "metadata": {
    "papermill": {},
    "tags": []
   },
   "source": [
    "## Input"
   ]
  },
  {
   "cell_type": "markdown",
   "id": "889e4c0e-e99c-4c27-a2f2-4df92d5f03be",
   "metadata": {
    "papermill": {},
    "tags": []
   },
   "source": [
    "### Import libraries"
   ]
  },
  {
   "cell_type": "code",
   "execution_count": 1,
   "id": "49b3eb5c-d3c2-484f-b7d9-c41af911b308",
   "metadata": {
    "execution": {
     "iopub.execute_input": "2023-03-24T16:13:58.571880Z",
     "iopub.status.busy": "2023-03-24T16:13:58.571558Z",
     "iopub.status.idle": "2023-03-24T16:13:59.089665Z",
     "shell.execute_reply": "2023-03-24T16:13:59.088903Z",
     "shell.execute_reply.started": "2023-03-24T16:13:58.571770Z"
    },
    "papermill": {},
    "tags": []
   },
   "outputs": [],
   "source": [
    "try:\n",
    "    from apiclient.discovery import build\n",
    "    from google_auth_oauthlib.flow import InstalledAppFlow\n",
    "except ModuleNotFoundError:\n",
    "    !pip install google-api-python-client\n",
    "    from apiclient.discovery import build\n",
    "    from google_auth_oauthlib.flow import InstalledAppFlow"
   ]
  },
  {
   "attachments": {},
   "cell_type": "markdown",
   "id": "9cb253ee-4e1d-4f9f-9cbb-8a0e8c215693",
   "metadata": {
    "papermill": {},
    "tags": []
   },
   "source": [
    "### Setup Variables\n",
    "- `scpoes`: The scopes to be used for authentication\n",
    "- `flow`: To read the secrets file with correct permission\n",
    "- `credentials_file`: The path to the credentials file\n",
    "- `service`: To create a service for authentication\n",
    "- `calendar_id`: The ID of the calendar to get metadata for\n",
    "\n",
    "#### For the `credentials.json` file\n",
    "\n",
    "- Follow this [blog](https://blog.sriniketh.design/getting-credentials-from-gcp-google-cloud-platform) to get the `credentials.json` file from GCP\n",
    "\n",
    "Assuming you have got the credentials file successfully, let's proceed further."
   ]
  },
  {
   "cell_type": "code",
   "execution_count": 2,
   "id": "c0b20269-476a-4080-8f62-ba90405d7536",
   "metadata": {
    "execution": {
     "iopub.execute_input": "2023-03-24T16:14:08.996569Z",
     "iopub.status.busy": "2023-03-24T16:14:08.996341Z",
     "iopub.status.idle": "2023-03-24T16:14:31.721909Z",
     "shell.execute_reply": "2023-03-24T16:14:31.721342Z",
     "shell.execute_reply.started": "2023-03-24T16:14:08.996546Z"
    },
    "papermill": {},
    "tags": []
   },
   "outputs": [
    {
     "name": "stdout",
     "output_type": "stream",
     "text": [
      "Please visit this URL to authorize this application: https://accounts.google.com/o/oauth2/auth?response_type=code&client_id=417989596337-f11ffa76mds5stmo86kepgmnn940b32j.apps.googleusercontent.com&redirect_uri=urn%3Aietf%3Awg%3Aoauth%3A2.0%3Aoob&scope=https%3A%2F%2Fwww.googleapis.com%2Fauth%2Fcalendar&state=Gc8cDxhieZIGDqa1cQh7COmZT0nMg4&prompt=consent&access_type=offline\n"
     ]
    },
    {
     "name": "stdout",
     "output_type": "stream",
     "text": [
      "Enter the authorization code:  4/1AVHEtk7DK-N9X7SKpkAojLxxFWQ9Tt4DIgs-2Sa0b1wFuFpw7HIkbUhQb5w\n"
     ]
    }
   ],
   "source": [
    "scopes = ['https://www.googleapis.com/auth/calendar']\n",
    "flow = InstalledAppFlow.from_client_secrets_file(\"./credentials.json\", scopes=scopes)\n",
    "credentials = flow.run_console()\n",
    "service = build(\"calendar\", \"v3\", credentials=credentials)\n",
    "calendar_id = \"primary\""
   ]
  },
  {
   "cell_type": "markdown",
   "id": "0e762aa3-62c9-4dbf-ad9c-92ec5eaf5202",
   "metadata": {
    "papermill": {},
    "tags": []
   },
   "source": [
    "## Model"
   ]
  },
  {
   "cell_type": "markdown",
   "id": "9af44f66-afb9-4ff6-a1eb-1687400018e9",
   "metadata": {
    "papermill": {},
    "tags": []
   },
   "source": [
    "### Get calendar"
   ]
  },
  {
   "cell_type": "markdown",
   "id": "8f2ea2fa-fdba-48d0-86af-85b12d0c7bc6",
   "metadata": {
    "papermill": {},
    "tags": []
   },
   "source": [
    "This function will use the Google Calendar API to get metadata for a calendar."
   ]
  },
  {
   "cell_type": "code",
   "execution_count": 3,
   "id": "6211c7ae-421c-42c8-9ae9-c7c99a1d93b2",
   "metadata": {
    "execution": {
     "iopub.execute_input": "2023-03-24T16:14:33.776336Z",
     "iopub.status.busy": "2023-03-24T16:14:33.776096Z",
     "iopub.status.idle": "2023-03-24T16:14:33.779494Z",
     "shell.execute_reply": "2023-03-24T16:14:33.778858Z",
     "shell.execute_reply.started": "2023-03-24T16:14:33.776312Z"
    },
    "papermill": {},
    "tags": []
   },
   "outputs": [],
   "source": [
    "def get_calendar(calendar_id):\n",
    "    calendar = service.calendars().get(calendarId=calendar_id).execute()\n",
    "    return calendar"
   ]
  },
  {
   "cell_type": "markdown",
   "id": "a55eecfe-ff31-407c-9cbe-e7672757f691",
   "metadata": {
    "papermill": {},
    "tags": []
   },
   "source": [
    "## Output"
   ]
  },
  {
   "cell_type": "markdown",
   "id": "d51560b6-a12a-4913-b9c6-c9025da74c2a",
   "metadata": {
    "papermill": {},
    "tags": []
   },
   "source": [
    "### Display result"
   ]
  },
  {
   "cell_type": "code",
   "execution_count": 4,
   "id": "a8638ea8-6418-48c9-a7f9-7aa06a4a856c",
   "metadata": {
    "execution": {
     "iopub.execute_input": "2023-03-24T16:14:35.974028Z",
     "iopub.status.busy": "2023-03-24T16:14:35.973789Z",
     "iopub.status.idle": "2023-03-24T16:14:36.098419Z",
     "shell.execute_reply": "2023-03-24T16:14:36.097675Z",
     "shell.execute_reply.started": "2023-03-24T16:14:35.974005Z"
    },
    "papermill": {},
    "tags": []
   },
   "outputs": [
    {
     "name": "stdout",
     "output_type": "stream",
     "text": [
      "{'kind': 'calendar#calendar', 'etag': '\"JzQCPEin0KI3aEd-9LKRhYOIWvU\"', 'id': 'srinikethcr7@gmail.com', 'summary': 'srinikethcr7@gmail.com', 'timeZone': 'Asia/Kolkata', 'conferenceProperties': {'allowedConferenceSolutionTypes': ['hangoutsMeet']}}\n"
     ]
    }
   ],
   "source": [
    "calendar = get_calendar(calendar_id)\n",
    "print(calendar)"
   ]
  },
  {
   "cell_type": "markdown",
   "id": "cb96a41a-1f2e-4ba1-8991-ea6da91f19ca",
   "metadata": {
    "papermill": {},
    "tags": []
   },
   "source": [
    " "
   ]
  }
 ],
 "metadata": {
  "kernelspec": {
   "display_name": "Python 3",
   "language": "python",
   "name": "python3"
  },
  "language_info": {
   "codemirror_mode": {
    "name": "ipython",
    "version": 3
   },
   "file_extension": ".py",
   "mimetype": "text/x-python",
   "name": "python",
   "nbconvert_exporter": "python",
   "pygments_lexer": "ipython3",
   "version": "3.9.6"
  },
  "widgets": {
   "application/vnd.jupyter.widget-state+json": {
    "state": {},
    "version_major": 2,
    "version_minor": 0
   }
  }
 },
 "nbformat": 4,
 "nbformat_minor": 5
}
