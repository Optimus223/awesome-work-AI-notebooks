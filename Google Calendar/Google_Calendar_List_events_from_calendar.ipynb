{
 "cells": [
  {
   "cell_type": "markdown",
   "id": "b5f406d1-ae4f-4d65-80be-881728f2939d",
   "metadata": {
    "papermill": {},
    "tags": []
   },
   "source": [
    "<img width=\"10%\" alt=\"Naas\" src=\"https://landen.imgix.net/jtci2pxwjczr/assets/5ice39g4.png?w=160\"/>"
   ]
  },
  {
   "cell_type": "markdown",
   "id": "dabebfda-7779-40c4-99c5-aec4233d0406",
   "metadata": {
    "papermill": {},
    "tags": []
   },
   "source": [
    "# Google Calendar - List events from calendar"
   ]
  },
  {
   "cell_type": "markdown",
   "id": "7b781d86-0825-464d-b45c-1df6e5a66b05",
   "metadata": {
    "papermill": {},
    "tags": []
   },
   "source": [
    "**Tags:** #googlecalendar #calendar #events #list #api #python"
   ]
  },
  {
   "cell_type": "markdown",
   "id": "29173820-2c17-49a5-8f30-5c31e8398e3f",
   "metadata": {
    "papermill": {},
    "tags": []
   },
   "source": [
    "**Author:** [Sriniketh Jayasendil](https://www.linkedin.com/in/sriniketh-jayasendil)"
   ]
  },
  {
   "cell_type": "markdown",
   "id": "919b460a-07a8-4371-b7f4-2c1f32718782",
   "metadata": {
    "papermill": {},
    "tags": []
   },
   "source": [
    "**Description:** This notebook will demonstrate how to use the Google Calendar API to list events from a calendar."
   ]
  },
  {
   "cell_type": "markdown",
   "id": "431c30bd-9010-4307-9d78-14305e8d6e54",
   "metadata": {
    "papermill": {},
    "tags": []
   },
   "source": [
    "**References:**\n",
    "- [Google Calendar API Reference](https://developers.google.com/calendar/api/v3/reference/events/list)\n",
    "- [Google Calendar API Python Quickstart](https://developers.google.com/calendar/quickstart/python)"
   ]
  },
  {
   "cell_type": "markdown",
   "id": "2f8aae53-c19c-4e90-a129-89d01bec112e",
   "metadata": {
    "papermill": {},
    "tags": []
   },
   "source": [
    "## Input"
   ]
  },
  {
   "cell_type": "markdown",
   "id": "f65917f4-9a1f-4717-822f-08d8e324d244",
   "metadata": {
    "papermill": {},
    "tags": []
   },
   "source": [
    "### Import libraries"
   ]
  },
  {
   "cell_type": "code",
   "execution_count": 1,
   "id": "24ef80a2-2406-4cce-9390-87b55bf544ac",
   "metadata": {
    "execution": {
     "iopub.execute_input": "2023-03-24T13:08:49.386090Z",
     "iopub.status.busy": "2023-03-24T13:08:49.385822Z",
     "iopub.status.idle": "2023-03-24T13:08:49.894873Z",
     "shell.execute_reply": "2023-03-24T13:08:49.894266Z",
     "shell.execute_reply.started": "2023-03-24T13:08:49.386025Z"
    },
    "papermill": {},
    "tags": []
   },
   "outputs": [],
   "source": [
    "import datetime\n",
    "\n",
    "try:\n",
    "    from apiclient.discovery import build\n",
    "    from google_auth_oauthlib.flow import InstalledAppFlow\n",
    "except ModuleNotFoundError:\n",
    "    !pip install google-api-python-client\n",
    "    from apiclient.discovery import build\n",
    "    from google_auth_oauthlib.flow import InstalledAppFlow"
   ]
  },
  {
   "cell_type": "markdown",
   "id": "3a4a5e18-6f57-407e-bece-fa41ece431d6",
   "metadata": {
    "papermill": {},
    "tags": []
   },
   "source": [
    "### Setup Variables\n",
    "- **scpoes**: The scopes to be used for authentication\n",
    "- **flow**: To read the secrets file with correct permission\n",
    "- **credentials_file**: The path to the credentials file\n",
    "- **service**: To create a service for authentication"
   ]
  },
  {
   "cell_type": "code",
   "execution_count": 2,
   "id": "84f2aed6-6844-435c-90ae-e942f13d4de7",
   "metadata": {
    "execution": {
     "iopub.execute_input": "2023-03-24T13:08:53.460398Z",
     "iopub.status.busy": "2023-03-24T13:08:53.460169Z",
     "iopub.status.idle": "2023-03-24T13:09:08.749774Z",
     "shell.execute_reply": "2023-03-24T13:09:08.749206Z",
     "shell.execute_reply.started": "2023-03-24T13:08:53.460375Z"
    },
    "papermill": {},
    "tags": []
   },
   "outputs": [
    {
     "name": "stdout",
     "output_type": "stream",
     "text": [
      "Please visit this URL to authorize this application: https://accounts.google.com/o/oauth2/auth?response_type=code&client_id=417989596337-f11ffa76mds5stmo86kepgmnn940b32j.apps.googleusercontent.com&redirect_uri=urn%3Aietf%3Awg%3Aoauth%3A2.0%3Aoob&scope=https%3A%2F%2Fwww.googleapis.com%2Fauth%2Fcalendar&state=O8vEZKvhyWMxuWommmcg5lWDbieUWf&prompt=consent&access_type=offline\n"
     ]
    }
   ],
   "source": [
    "scopes = ['https://www.googleapis.com/auth/calendar']\n",
    "flow = InstalledAppFlow.from_client_secrets_file(\"./secrets.json\", scopes=scopes)\n",
    "credentials = flow.run_console()\n",
    "service = build(\"calendar\", \"v3\", credentials=credentials)"
   ]
  },
  {
   "cell_type": "markdown",
   "id": "a7c126d6-193b-47ca-bed5-4bf746bd778b",
   "metadata": {
    "papermill": {},
    "tags": []
   },
   "source": [
    "## Model"
   ]
  },
  {
   "cell_type": "markdown",
   "id": "9c692868-1955-4377-9f9e-c553cdef8212",
   "metadata": {
    "papermill": {},
    "tags": []
   },
   "source": [
    "### List Events"
   ]
  },
  {
   "cell_type": "markdown",
   "id": "883c76f3-eb66-465b-8adc-55e83e7b7ec9",
   "metadata": {
    "papermill": {},
    "tags": []
   },
   "source": [
    "List events from the specified calendar."
   ]
  },
  {
   "cell_type": "code",
   "execution_count": 3,
   "id": "f58b8ccf-4bab-4f6a-a29d-fc1e6b00633e",
   "metadata": {
    "execution": {
     "iopub.execute_input": "2023-03-24T13:09:19.254921Z",
     "iopub.status.busy": "2023-03-24T13:09:19.254693Z",
     "iopub.status.idle": "2023-03-24T13:09:19.510575Z",
     "shell.execute_reply": "2023-03-24T13:09:19.509989Z",
     "shell.execute_reply.started": "2023-03-24T13:09:19.254898Z"
    },
    "papermill": {},
    "tags": []
   },
   "outputs": [
    {
     "name": "stdout",
     "output_type": "stream",
     "text": [
      "Getting the upcoming 10 events\n"
     ]
    }
   ],
   "source": [
    "now = datetime.datetime.utcnow().isoformat() + 'Z'\n",
    "print('Getting the upcoming 10 events')\n",
    "events_result = service.events().list(calendarId='primary', timeMin=now,\n",
    "                                      maxResults=10, singleEvents=True,\n",
    "                                      orderBy='startTime').execute()\n",
    "events = events_result.get('items', [])\n",
    "\n",
    "if not events:\n",
    "    print('No upcoming events found😢')"
   ]
  },
  {
   "cell_type": "markdown",
   "id": "ecb783e3-a3c0-4e7a-aafd-fc6d1dd3d94f",
   "metadata": {
    "papermill": {},
    "tags": []
   },
   "source": [
    "## Output"
   ]
  },
  {
   "cell_type": "markdown",
   "id": "40d3dfcc-9226-4963-ab78-19e16bee56d3",
   "metadata": {
    "papermill": {},
    "tags": []
   },
   "source": [
    "### Display result"
   ]
  },
  {
   "cell_type": "code",
   "execution_count": 4,
   "id": "8748f1dd-319e-457e-b302-7c70c6ab603c",
   "metadata": {
    "execution": {
     "iopub.execute_input": "2023-03-24T13:09:25.815987Z",
     "iopub.status.busy": "2023-03-24T13:09:25.815727Z",
     "iopub.status.idle": "2023-03-24T13:09:25.821240Z",
     "shell.execute_reply": "2023-03-24T13:09:25.820566Z",
     "shell.execute_reply.started": "2023-03-24T13:09:25.815961Z"
    },
    "papermill": {},
    "tags": []
   },
   "outputs": [
    {
     "name": "stdout",
     "output_type": "stream",
     "text": [
      "2023-03-27T09:00:00+05:30 🆓 📨 Morning Catch Up\n",
      "2023-03-27T12:00:00+05:30 🆓 🍱 Lunch\n",
      "2023-03-27T16:30:00+05:30 🆓 📨 Afternoon Catch Up\n",
      "2023-03-28T09:00:00+05:30 🆓 📨 Morning Catch Up\n",
      "2023-03-28T12:00:00+05:30 🆓 🍱 Lunch\n",
      "2023-03-28T16:30:00+05:30 🆓 📨 Afternoon Catch Up\n",
      "2023-03-28T22:00:00+05:30 GitHub Galaxy\n",
      "2023-03-29T09:00:00+05:30 🆓 📨 Morning Catch Up\n",
      "2023-03-29T12:00:00+05:30 🆓 🍱 Lunch\n",
      "2023-03-29T16:30:00+05:30 🆓 📨 Afternoon Catch Up\n"
     ]
    }
   ],
   "source": [
    "for event in events:\n",
    "            start = event['start'].get('dateTime', event['start'].get('date'))\n",
    "            print(start, event['summary'])"
   ]
  },
  {
   "cell_type": "markdown",
   "id": "da34236a-67ab-40ac-9103-6d7124b2d4dc",
   "metadata": {
    "papermill": {},
    "tags": []
   },
   "source": [
    " "
   ]
  }
 ],
 "metadata": {
  "kernelspec": {
   "display_name": "Python 3",
   "language": "python",
   "name": "python3"
  },
  "language_info": {
   "codemirror_mode": {
    "name": "ipython",
    "version": 3
   },
   "file_extension": ".py",
   "mimetype": "text/x-python",
   "name": "python",
   "nbconvert_exporter": "python",
   "pygments_lexer": "ipython3",
   "version": "3.9.13"
  },
  "widgets": {
   "application/vnd.jupyter.widget-state+json": {
    "state": {},
    "version_major": 2,
    "version_minor": 0
   }
  }
 },
 "nbformat": 4,
 "nbformat_minor": 5
}
