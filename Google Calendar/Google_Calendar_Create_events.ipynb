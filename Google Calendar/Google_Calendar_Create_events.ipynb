{
 "cells": [
  {
   "cell_type": "markdown",
   "id": "68ad7ef4-7bb1-4716-8283-df25ce1dc9bc",
   "metadata": {
    "papermill": {},
    "tags": []
   },
   "source": [
    "<img width=\"10%\" alt=\"Naas\" src=\"https://landen.imgix.net/jtci2pxwjczr/assets/5ice39g4.png?w=160\"/>"
   ]
  },
  {
   "cell_type": "markdown",
   "id": "56816e60-60d3-4875-83cd-1e36484196af",
   "metadata": {
    "papermill": {},
    "tags": []
   },
   "source": [
    "# Google Calendar - Create events"
   ]
  },
  {
   "cell_type": "markdown",
   "id": "9a75de98-fd77-4695-9df3-607a75c02231",
   "metadata": {
    "papermill": {},
    "tags": []
   },
   "source": [
    "**Tags:** #googlecalendar #createevents #api #python #library #reference"
   ]
  },
  {
   "cell_type": "markdown",
   "id": "1e66dd6a-fc6c-4d93-bca5-de9e4279657a",
   "metadata": {
    "papermill": {},
    "tags": []
   },
   "source": [
    "**Author:** [Sriniketh Jayasendil](http://linkedin.com/in/sriniketh-jayasendil/)"
   ]
  },
  {
   "cell_type": "markdown",
   "id": "4c59f88e-0997-491d-9a72-7f9ac6b1fb23",
   "metadata": {
    "papermill": {},
    "tags": []
   },
   "source": [
    "**Description:** This notebook will demonstrate how to create events in Google Calendar using the Google Calendar API and Python."
   ]
  },
  {
   "cell_type": "markdown",
   "id": "d0580b04-3d20-4c8b-bcf8-13bbf7046be2",
   "metadata": {
    "papermill": {},
    "tags": []
   },
   "source": [
    "**References:**\n- [Google Calendar API Documentation](https://developers.google.com/calendar/api/guides/create-events)\n- [Google Calendar API Quickstart](https://developers.google.com/calendar/quickstart/python)"
   ]
  },
  {
   "cell_type": "markdown",
   "id": "f0a164d6-df81-4003-9d5b-9fda8e35eae8",
   "metadata": {
    "papermill": {},
    "tags": []
   },
   "source": [
    "## Input"
   ]
  },
  {
   "cell_type": "markdown",
   "id": "f7733f78-1883-422a-84b7-35db02612dd2",
   "metadata": {
    "papermill": {},
    "tags": []
   },
   "source": [
    "### Import libraries"
   ]
  },
  {
   "cell_type": "code",
   "execution_count": null,
   "id": "97e8f4fb-f170-430b-858f-17592b05ab38",
   "metadata": {
    "papermill": {},
    "tags": []
   },
   "source": "import os\nimport pickle\nimport googleapiclient.discovery\nfrom google_auth_oauthlib.flow import InstalledAppFlow\nfrom google.auth.transport.requests import Request",
   "outputs": []
  },
  {
   "cell_type": "markdown",
   "id": "5116c33d-9246-4ad0-8706-c58443fb6437",
   "metadata": {
    "papermill": {},
    "tags": []
   },
   "source": [
    "### Setup Variables\n- **SCOPES**: The scope of the API request.\n- **credentials_file**: The path to the credentials file."
   ]
  },
  {
   "cell_type": "code",
   "execution_count": null,
   "id": "163fcd74-57d7-455f-a23f-e51d1c8482d2",
   "metadata": {
    "papermill": {},
    "tags": []
   },
   "source": "SCOPES = [\"https://www.googleapis.com/auth/calendar\"]\ncredentials_file = \"credentials.json\"",
   "outputs": []
  },
  {
   "cell_type": "markdown",
   "id": "95fcd71d-b403-4a11-aa5b-b17f508b05d6",
   "metadata": {
    "papermill": {},
    "tags": []
   },
   "source": [
    "## Model"
   ]
  },
  {
   "cell_type": "markdown",
   "id": "37267762-8c80-485f-9c25-3699e59fd464",
   "metadata": {
    "papermill": {},
    "tags": []
   },
   "source": [
    "### Authenticate with Google Calendar API"
   ]
  },
  {
   "cell_type": "markdown",
   "id": "6547605d-9a4a-4f9c-846c-e89341feabec",
   "metadata": {
    "papermill": {},
    "tags": []
   },
   "source": [
    "Authenticate with the Google Calendar API using the credentials file."
   ]
  },
  {
   "cell_type": "code",
   "execution_count": null,
   "id": "3940e851-4ef2-4f11-a200-0973c312f7a6",
   "metadata": {
    "papermill": {},
    "tags": []
   },
   "source": "creds = None\nif os.path.exists(\"token.pickle\"):\n    with open(\"token.pickle\", \"rb\") as token:\n        creds = pickle.load(token)\nif not creds or not creds.valid:\n    if creds and creds.expired and creds.refresh_token:\n        creds.refresh(Request())\n    else:\n        flow = InstalledAppFlow.from_client_secrets_file(credentials_file, SCOPES)\n        creds = flow.run_local_server(port=0)\n    with open(\"token.pickle\", \"wb\") as token:\n        pickle.dump(creds, token)\nservice = googleapiclient.discovery.build(\"calendar\", \"v3\", credentials=creds)",
   "outputs": []
  },
  {
   "cell_type": "markdown",
   "id": "f75cbdc1-77a7-423d-95e5-493961d732cb",
   "metadata": {
    "papermill": {},
    "tags": []
   },
   "source": [
    "### Create Event"
   ]
  },
  {
   "cell_type": "markdown",
   "id": "2170beb7-d24a-4f6c-b18d-fccbab8d36c9",
   "metadata": {
    "papermill": {},
    "tags": []
   },
   "source": [
    "Create an event in the Google Calendar."
   ]
  },
  {
   "cell_type": "code",
   "execution_count": null,
   "id": "831b506b-681d-43a0-80cb-bd1a0c0bf288",
   "metadata": {
    "papermill": {},
    "tags": []
   },
   "source": "event = {\n  'summary': 'Google I/O 2019',\n  'location': '800 Howard St., San Francisco, CA 94103',\n  'description': 'A chance to hear more about Google\\'s developer products.',\n  'start': {\n    'dateTime': '2019-05-28T09:00:00-07:00',\n    'timeZone': 'America/Los_Angeles',\n  },\n  'end': {\n    'dateTime': '2019-05-28T17:00:00-07:00',\n    'timeZone': 'America/Los_Angeles',\n  },\n  'recurrence': [\n    'RRULE:FREQ=DAILY;COUNT=2'\n  ],\n  'attendees': [\n    {'email': 'sriniketh@example.com'},\n  ],\n  'reminders': {\n    'useDefault': False,\n    'overrides': [\n      {'method': 'email', 'minutes': 24 * 60},\n      {'method': 'popup', 'minutes': 10},\n    ],\n  },\n}\nevent = service.events().insert(calendarId='primary', body=event).execute()\nprint('Event created: %s' % (event.get('htmlLink')))\n> stdout : ['Event created: https://www.google.com/calendar/event?eid=M2VqZ2VzY2V2Z2VzZ2VzY2V2Z2VzZ2VzY2V2Z2VzY2V2Z2VzY2V2Z2VzY2V2Z2VzY2V2Z2VzY2V2Z2VzY2V2Z2VzY2V2Z2VzY2V2Z2VzY2V2Z2VzY2V2Z2VzY2V2Z2VzY2V2Z2VzY2V2Z2VzY2V2Z2VzY2V2Z2VzY2V2Z2VzY2V2Z2VzY2V2Z2VzY2V2Z2VzY2V2Z2VzY2V2Z2VzY2V2Z2VzY2V2Z2VzY2V2Z2VzY2V2Z2VzY2V2Z2VzY2V2Z2VzY2V2Z2VzY2V2Z2VzY2V2Z2VzY2V2Z2VzY2V2Z2VzY2V2Z2VzY2V2Z2VzY2V2Z2VzY2V2Z2VzY2V2Z2VzY2V2Z2VzY2V2Z2VzY2V2Z2VzY2V2Z2VzY2V2Z2VzY2V2Z2VzY2V2Z2VzY2V2Z2VzY2V2Z2VzY2V2Z2VzY2V2Z2VzY2V2Z2VzY2V2Z2VzY2V2Z2VzY2V2Z2VzY2V2Z2VzY2V2Z2VzY2V2Z2VzY2V2Z2VzY2V2Z2VzY2V2Z2VzY2V2Z2VzY2V2Z2VzY2V2Z2VzY2V2Z2VzY2V2Z2VzY2V2Z2VzY2V2Z2VzY2V2Z2VzY2V2Z2VzY2V2Z2VzY2V2Z2VzY2V2Z2VzY2V2Z2VzY2V2Z2VzY2V2Z2VzY2V2Z2VzY2V2Z2VzY2V2Z2VzY2V2Z2VzY2V2Z2VzY2V2Z2VzY2V2Z2VzY2V2Z2VzY2V2Z2VzY2V2Z2VzY2V2Z2VzY2V2Z2VzY2V2Z2VzY2V2Z2VzY2V2Z2VzY2V2Z2VzY2V2Z2VzY2V2Z2VzY2V2Z2VzY2V2Z2VzY2V2Z2VzY2V2Z2VzY2V2Z2VzY2V2Z2VzY2V2Z2VzY2V2Z2VzY2V2Z2VzY2V2Z2VzY2V2Z2VzY2V2Z2VzY2V2Z2VzY2V2Z2VzY2V2Z2VzY2V2Z2VzY2V2Z2VzY2V2Z2VzY2V2Z2VzY2V2Z2VzY2V2Z2VzY2V2Z2VzY2V2Z2VzY2V2Z2VzY2V2Z2VzY2V2Z2VzY2V2Z2VzY2V2Z2VzY2V2Z2VzY2V2Z2VzY2V2Z2VzY2V2Z2VzY2V2Z2VzY2V2Z2VzY2V2Z2VzY2V2Z2VzY2V2Z2VzY2V2Z2VzY2V2Z2VzY2V2Z2VzY2V2Z2VzY2V2Z2VzY2V2Z2VzY2V2Z2VzY2V2Z2VzY2V2Z2VzY2V2Z2VzY2V2Z2VzY2V2Z2VzY2V2Z2VzY2V2Z2VzY2V2Z2VzY2V2Z2VzY2V2Z2Vz",
   "outputs": []
  }
 ],
 "metadata": {
  "kernelspec": {
   "display_name": "Python 3",
   "language": "python",
   "name": "python3"
  },
  "language_info": {
   "codemirror_mode": {
    "name": "ipython",
    "version": 3
   },
   "file_extension": ".py",
   "mimetype": "text/x-python",
   "name": "python",
   "nbconvert_exporter": "python",
   "pygments_lexer": "ipython3",
   "version": "3.9.6"
  },
  "widgets": {
   "application/vnd.jupyter.widget-state+json": {
    "state": {},
    "version_major": 2,
    "version_minor": 0
   }
  }
 },
 "nbformat": 4,
 "nbformat_minor": 5
}