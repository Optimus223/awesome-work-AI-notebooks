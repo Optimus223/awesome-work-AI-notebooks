{
 "cells": [
  {
   "cell_type": "markdown",
   "id": "located-temperature",
   "metadata": {
    "execution": {
     "iopub.execute_input": "2021-05-19T07:42:23.666460Z",
     "iopub.status.busy": "2021-05-19T07:42:23.666241Z",
     "iopub.status.idle": "2021-05-19T07:42:23.669434Z",
     "shell.execute_reply": "2021-05-19T07:42:23.668778Z",
     "shell.execute_reply.started": "2021-05-19T07:42:23.666438Z"
    },
    "papermill": {},
    "tags": []
   },
   "source": [
    "# Celestrak - Satellites over time\n",
    "<a href=\"https://app.naas.ai/user-redirect/naas/downloader?url=https://raw.githubusercontent.com/jupyter-naas/awesome-notebooks/master/Celestrak/Celestrak_Satellites_over_time.ipynb\" target=\"_parent\"><img src=\"https://img.shields.io/badge/-Open%20in%20Naas-success?labelColor=000000&logo=data:image/svg+xml;base64,PD94bWwgdmVyc2lvbj0iMS4wIiBlbmNvZGluZz0iVVRGLTgiPz4KPHN2ZyB3aWR0aD0iMTAyNHB4IiBoZWlnaHQ9IjEwMjRweCIgdmlld0JveD0iMCAwIDEwMjQgMTAyNCIgeG1sbnM9Imh0dHA6Ly93d3cudzMub3JnLzIwMDAvc3ZnIiB4bWxuczp4bGluaz0iaHR0cDovL3d3dy53My5vcmcvMTk5OS94bGluayIgdmVyc2lvbj0iMS4xIj4KIDwhLS0gR2VuZXJhdGVkIGJ5IFBpeGVsbWF0b3IgUHJvIDIuMC41IC0tPgogPGRlZnM+CiAgPHRleHQgaWQ9InN0cmluZyIgdHJhbnNmb3JtPSJtYXRyaXgoMS4wIDAuMCAwLjAgMS4wIDIyOC4wIDU0LjUpIiBmb250LWZhbWlseT0iQ29tZm9ydGFhLVJlZ3VsYXIsIENvbWZvcnRhYSIgZm9udC1zaXplPSI4MDAiIHRleHQtZGVjb3JhdGlvbj0ibm9uZSIgZmlsbD0iI2ZmZmZmZiIgeD0iMS4xOTk5OTk5OTk5OTk5ODg2IiB5PSI3MDUuMCI+bjwvdGV4dD4KIDwvZGVmcz4KIDx1c2UgaWQ9Im4iIHhsaW5rOmhyZWY9IiNzdHJpbmciLz4KPC9zdmc+Cg==\"/></a>"
   ]
  },
  {
   "cell_type": "markdown",
   "id": "comparable-spank",
   "metadata": {
    "papermill": {},
    "tags": []
   },
   "source": [
    "We analyze the number of satellites in the space from the first launch to now, and the part of them which became inactive.\n",
    "These data come from http://www.celestrak.com/. It provides free data as CSV files easily accessible.\n",
    "The CSV file we got contains many data as the name of the satellite, its owner, launch site, id, apogee and many others.\n",
    "What interested us the most were the status code, the launch date and the decay date, in order to create a graph with years in X axis and number of satellites in Y axis."
   ]
  },
  {
   "cell_type": "markdown",
   "id": "e5c5e75b-7e2e-4b30-9376-8c1441ebdac5",
   "metadata": {},
   "source": [
    "**Tags:** #celestrak #opendata #satelltes"
   ]
  },
  {
   "cell_type": "markdown",
   "id": "civic-quantity",
   "metadata": {
    "execution": {
     "iopub.execute_input": "2021-05-19T07:20:40.704203Z",
     "iopub.status.busy": "2021-05-19T07:20:40.703946Z",
     "iopub.status.idle": "2021-05-19T07:20:40.707275Z",
     "shell.execute_reply": "2021-05-19T07:20:40.706641Z",
     "shell.execute_reply.started": "2021-05-19T07:20:40.704140Z"
    },
    "papermill": {},
    "tags": []
   },
   "source": [
    "## Input"
   ]
  },
  {
   "cell_type": "markdown",
   "id": "88583430-f37e-4fe5-9930-6ccbe8043ac0",
   "metadata": {},
   "source": [
    "### Import librairies"
   ]
  },
  {
   "cell_type": "code",
   "execution_count": 1,
   "id": "regional-begin",
   "metadata": {
    "execution": {
     "iopub.execute_input": "2021-10-01T14:16:19.979282Z",
     "iopub.status.busy": "2021-10-01T14:16:19.979036Z",
     "iopub.status.idle": "2021-10-01T14:16:21.356739Z",
     "shell.execute_reply": "2021-10-01T14:16:21.355902Z",
     "shell.execute_reply.started": "2021-10-01T14:16:19.979207Z"
    },
    "papermill": {},
    "tags": []
   },
   "outputs": [],
   "source": [
    "import pandas as pd\n",
    "import plotly.express as px\n",
    "import plotly.graph_objects as go\n",
    "import numpy as np"
   ]
  },
  {
   "cell_type": "markdown",
   "id": "fcb3fb7c-7cc7-415f-a354-5895e8e4671a",
   "metadata": {},
   "source": [
    "### Variables"
   ]
  },
  {
   "cell_type": "code",
   "execution_count": 2,
   "id": "balanced-malaysia",
   "metadata": {
    "execution": {
     "iopub.execute_input": "2021-10-01T14:16:21.358627Z",
     "iopub.status.busy": "2021-10-01T14:16:21.358379Z",
     "iopub.status.idle": "2021-10-01T14:16:21.362134Z",
     "shell.execute_reply": "2021-10-01T14:16:21.361593Z",
     "shell.execute_reply.started": "2021-10-01T14:16:21.358596Z"
    },
    "papermill": {},
    "tags": []
   },
   "outputs": [],
   "source": [
    "URL = 'http://www.celestrak.com/pub/satcat.csv'"
   ]
  },
  {
   "cell_type": "markdown",
   "id": "optional-fifty",
   "metadata": {
    "papermill": {},
    "tags": []
   },
   "source": [
    "## Model"
   ]
  },
  {
   "cell_type": "markdown",
   "id": "9579ef9a-3e96-4440-8266-a7cde959ee54",
   "metadata": {},
   "source": [
    "### Recovery and processing of CSV data"
   ]
  },
  {
   "cell_type": "code",
   "execution_count": 3,
   "id": "approved-attribute",
   "metadata": {
    "execution": {
     "iopub.execute_input": "2021-10-01T14:16:21.363794Z",
     "iopub.status.busy": "2021-10-01T14:16:21.363373Z",
     "iopub.status.idle": "2021-10-01T14:16:21.636134Z",
     "shell.execute_reply": "2021-10-01T14:16:21.632142Z",
     "shell.execute_reply.started": "2021-10-01T14:16:21.363762Z"
    },
    "papermill": {},
    "tags": []
   },
   "outputs": [
    {
     "ename": "NameError",
     "evalue": "name 'url' is not defined",
     "output_type": "error",
     "traceback": [
      "\u001b[0;31m---------------------------------------------------------------------------\u001b[0m",
      "\u001b[0;31mNameError\u001b[0m                                 Traceback (most recent call last)",
      "\u001b[0;32m<ipython-input-3-7dc9dfa4d025>\u001b[0m in \u001b[0;36m<module>\u001b[0;34m\u001b[0m\n\u001b[0;32m----> 1\u001b[0;31m \u001b[0mdf\u001b[0m \u001b[0;34m=\u001b[0m \u001b[0mpd\u001b[0m\u001b[0;34m.\u001b[0m\u001b[0mread_csv\u001b[0m\u001b[0;34m(\u001b[0m\u001b[0murl\u001b[0m\u001b[0;34m)\u001b[0m\u001b[0;34m\u001b[0m\u001b[0;34m\u001b[0m\u001b[0m\n\u001b[0m\u001b[1;32m      2\u001b[0m \u001b[0mdf\u001b[0m \u001b[0;34m=\u001b[0m \u001b[0mdf\u001b[0m\u001b[0;34m[\u001b[0m\u001b[0;34m[\u001b[0m\u001b[0;34m'OPS_STATUS_CODE'\u001b[0m\u001b[0;34m,\u001b[0m \u001b[0;34m'LAUNCH_DATE'\u001b[0m\u001b[0;34m,\u001b[0m \u001b[0;34m'DECAY_DATE'\u001b[0m\u001b[0;34m]\u001b[0m\u001b[0;34m]\u001b[0m\u001b[0;34m\u001b[0m\u001b[0;34m\u001b[0m\u001b[0m\n\u001b[1;32m      3\u001b[0m \u001b[0mdf\u001b[0m\u001b[0;34m[\u001b[0m\u001b[0;34m'DECAY_DATE'\u001b[0m\u001b[0;34m]\u001b[0m \u001b[0;34m=\u001b[0m \u001b[0mdf\u001b[0m\u001b[0;34m[\u001b[0m\u001b[0;34m'DECAY_DATE'\u001b[0m\u001b[0;34m]\u001b[0m\u001b[0;34m.\u001b[0m\u001b[0mmask\u001b[0m\u001b[0;34m(\u001b[0m\u001b[0mdf\u001b[0m\u001b[0;34m[\u001b[0m\u001b[0;34m'DECAY_DATE'\u001b[0m\u001b[0;34m]\u001b[0m\u001b[0;34m.\u001b[0m\u001b[0misnull\u001b[0m\u001b[0;34m(\u001b[0m\u001b[0;34m)\u001b[0m\u001b[0;34m,\u001b[0m \u001b[0;34m'9999'\u001b[0m\u001b[0;34m)\u001b[0m\u001b[0;34m\u001b[0m\u001b[0;34m\u001b[0m\u001b[0m\n\u001b[1;32m      4\u001b[0m \u001b[0mdf\u001b[0m\u001b[0;34m[\u001b[0m\u001b[0;34m'LAUNCH_DATE'\u001b[0m\u001b[0;34m]\u001b[0m \u001b[0;34m=\u001b[0m \u001b[0mdf\u001b[0m\u001b[0;34m[\u001b[0m\u001b[0;34m'LAUNCH_DATE'\u001b[0m\u001b[0;34m]\u001b[0m\u001b[0;34m.\u001b[0m\u001b[0mstr\u001b[0m\u001b[0;34m[\u001b[0m\u001b[0;34m:\u001b[0m\u001b[0;36m4\u001b[0m\u001b[0;34m]\u001b[0m\u001b[0;34m.\u001b[0m\u001b[0mastype\u001b[0m\u001b[0;34m(\u001b[0m\u001b[0mint\u001b[0m\u001b[0;34m)\u001b[0m\u001b[0;34m\u001b[0m\u001b[0;34m\u001b[0m\u001b[0m\n\u001b[1;32m      5\u001b[0m \u001b[0mdf\u001b[0m\u001b[0;34m[\u001b[0m\u001b[0;34m'DECAY_DATE'\u001b[0m\u001b[0;34m]\u001b[0m \u001b[0;34m=\u001b[0m \u001b[0mdf\u001b[0m\u001b[0;34m[\u001b[0m\u001b[0;34m'DECAY_DATE'\u001b[0m\u001b[0;34m]\u001b[0m\u001b[0;34m.\u001b[0m\u001b[0mstr\u001b[0m\u001b[0;34m[\u001b[0m\u001b[0;34m:\u001b[0m\u001b[0;36m4\u001b[0m\u001b[0;34m]\u001b[0m\u001b[0;34m.\u001b[0m\u001b[0mastype\u001b[0m\u001b[0;34m(\u001b[0m\u001b[0mint\u001b[0m\u001b[0;34m)\u001b[0m\u001b[0;34m\u001b[0m\u001b[0;34m\u001b[0m\u001b[0m\n",
      "\u001b[0;31mNameError\u001b[0m: name 'url' is not defined"
     ]
    }
   ],
   "source": [
    "df = pd.read_csv(URL)\n",
    "df = df[['OPS_STATUS_CODE', 'LAUNCH_DATE', 'DECAY_DATE']]\n",
    "df['DECAY_DATE'] = df['DECAY_DATE'].mask(df['DECAY_DATE'].isnull(), '9999')\n",
    "df['LAUNCH_DATE'] = df['LAUNCH_DATE'].str[:4].astype(int)\n",
    "df['DECAY_DATE'] = df['DECAY_DATE'].str[:4].astype(int)\n",
    "years = df['LAUNCH_DATE'].unique()\n",
    "inactive = list()\n",
    "active = list()\n",
    "\n",
    "for year in years:\n",
    "    active.append(len(df[\n",
    "        ((df['OPS_STATUS_CODE'].isin(['+', 'P', 'B', 'S', 'X'])) & (df['LAUNCH_DATE'] <= year))\n",
    "        | ((df['DECAY_DATE'] > year) & (df['OPS_STATUS_CODE'] == 'D') & (df['LAUNCH_DATE'] <= year))\n",
    "    ].index))\n",
    "    \n",
    "    inactive.append(len(df[\n",
    "        ((df['OPS_STATUS_CODE'] == 'D') & (df['DECAY_DATE'] <= year))\n",
    "        | ((df['OPS_STATUS_CODE'] == '-') & (df['LAUNCH_DATE'] <= year) )\n",
    "    ].index))\n",
    "    "
   ]
  },
  {
   "cell_type": "markdown",
   "id": "caring-shelter",
   "metadata": {
    "papermill": {},
    "tags": []
   },
   "source": [
    "## Output"
   ]
  },
  {
   "cell_type": "markdown",
   "id": "32132808-8894-4ca9-a1cf-ff8ab67dda20",
   "metadata": {},
   "source": [
    "### Display plot of the number of satellites in space over time"
   ]
  },
  {
   "cell_type": "code",
   "execution_count": null,
   "id": "limited-recall",
   "metadata": {
    "execution": {
     "iopub.status.busy": "2021-10-01T14:16:21.638442Z",
     "iopub.status.idle": "2021-10-01T14:16:21.638822Z",
     "shell.execute_reply": "2021-10-01T14:16:21.638640Z"
    },
    "papermill": {},
    "tags": []
   },
   "outputs": [],
   "source": [
    "fig = go.Figure(data=[\n",
    "    go.Bar(name='Inactive satellites', x=years, y=inactive),\n",
    "    go.Bar(name='Active satellites', x=years, y=active)\n",
    "])\n",
    "# Change the bar mode\n",
    "fig.update_layout(\n",
    "    title=\"Number of satellites in space over time\",\n",
    "    xaxis_title=\"Years\",\n",
    "    yaxis_title=\"Number of satellites\",\n",
    "    barmode='stack'\n",
    ")\n",
    "fig.show()"
   ]
  },
  {
   "cell_type": "markdown",
   "id": "lesser-nigeria",
   "metadata": {
    "papermill": {},
    "tags": []
   },
   "source": [
    "Source: http://www.celestrak.com/pub/satcat.csv"
   ]
  },
  {
   "cell_type": "markdown",
   "id": "e2ada70e-cff4-475b-9a86-aefbde3b7605",
   "metadata": {},
   "source": [
    "### Display the percentage of inactive VS active satellites from 1957 to now"
   ]
  },
  {
   "cell_type": "raw",
   "id": "6f8d75dc-e73b-4790-b3d2-ef2510d928b0",
   "metadata": {
    "papermill": {},
    "tags": []
   },
   "source": [
    "labels = years\n",
    "widths = [100/len(years) for year in years]\n",
    "\n",
    "active_percentage = list()\n",
    "inactive_percentage = list()\n",
    "\n",
    "for index, _ in np.ndenumerate(active):\n",
    "    total = active[index[0]] + inactive[index[0]]\n",
    "    active_percentage.append(active[index[0]]/total*100)\n",
    "    inactive_percentage.append(inactive[index[0]]/total*100)\n",
    "\n",
    "data = {\n",
    "    \"Inactive\": inactive_percentage,\n",
    "    \"Active\": active_percentage\n",
    "}\n",
    "\n",
    "fig = go.Figure()\n",
    "for key in data:\n",
    "    fig.add_trace(go.Bar(\n",
    "        name=key,\n",
    "        y=data[key],\n",
    "        x=years,\n",
    "        offset=0\n",
    "    ))\n",
    "\n",
    "fig.update_xaxes(range=[years[0],years[-1]])\n",
    "fig.update_yaxes(range=[0,100])\n",
    "\n",
    "fig.update_layout(\n",
    "    title_text=\"Percentage of inactive VS active satellites from 1957 to now\",\n",
    "    barmode=\"stack\",\n",
    "    uniformtext=dict(mode=\"hide\", minsize=10),\n",
    ")"
   ]
  }
 ],
 "metadata": {
  "kernelspec": {
   "display_name": "Python 3",
   "language": "python",
   "name": "python3"
  },
  "language_info": {
   "codemirror_mode": {
    "name": "ipython",
    "version": 3
   },
   "file_extension": ".py",
   "mimetype": "text/x-python",
   "name": "python",
   "nbconvert_exporter": "python",
   "pygments_lexer": "ipython3",
   "version": "3.8.8"
  },
  "papermill": {
   "default_parameters": {},
   "environment_variables": {},
   "parameters": {},
   "version": "2.3.3"
  }
 },
 "nbformat": 4,
 "nbformat_minor": 5
}
