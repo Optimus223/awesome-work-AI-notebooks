{
 "cells": [
  {
   "cell_type": "markdown",
   "id": "revolutionary-terry",
   "metadata": {
    "papermill": {},
    "tags": []
   },
   "source": [
    "# Hugging Face - Summarization using NLP\n",
    "<a href=\"https://app.naas.ai/user-redirect/naas/downloader?url=https://raw.githubusercontent.com/jupyter-naas/awesome-notebooks/master/Hugging%20Face/Hugging_Face_Summarization_using_NLP.ipynb\" target=\"_parent\"><img src=\"https://img.shields.io/badge/-Open%20in%20Naas-success?labelColor=000000&logo=data:image/svg+xml;base64,PD94bWwgdmVyc2lvbj0iMS4wIiBlbmNvZGluZz0iVVRGLTgiPz4KPHN2ZyB3aWR0aD0iMTAyNHB4IiBoZWlnaHQ9IjEwMjRweCIgdmlld0JveD0iMCAwIDEwMjQgMTAyNCIgeG1sbnM9Imh0dHA6Ly93d3cudzMub3JnLzIwMDAvc3ZnIiB4bWxuczp4bGluaz0iaHR0cDovL3d3dy53My5vcmcvMTk5OS94bGluayIgdmVyc2lvbj0iMS4xIj4KIDwhLS0gR2VuZXJhdGVkIGJ5IFBpeGVsbWF0b3IgUHJvIDIuMC41IC0tPgogPGRlZnM+CiAgPHRleHQgaWQ9InN0cmluZyIgdHJhbnNmb3JtPSJtYXRyaXgoMS4wIDAuMCAwLjAgMS4wIDIyOC4wIDU0LjUpIiBmb250LWZhbWlseT0iQ29tZm9ydGFhLVJlZ3VsYXIsIENvbWZvcnRhYSIgZm9udC1zaXplPSI4MDAiIHRleHQtZGVjb3JhdGlvbj0ibm9uZSIgZmlsbD0iI2ZmZmZmZiIgeD0iMS4xOTk5OTk5OTk5OTk5ODg2IiB5PSI3MDUuMCI+bjwvdGV4dD4KIDwvZGVmcz4KIDx1c2UgaWQ9Im4iIHhsaW5rOmhyZWY9IiNzdHJpbmciLz4KPC9zdmc+Cg==\"/></a>"
   ]
  },
  {
   "cell_type": "markdown",
   "id": "european-connection",
   "metadata": {
    "papermill": {},
    "tags": []
   },
   "source": [
    "### Step one Install the naas_drivers module and import nlp"
   ]
  },
  {
   "cell_type": "code",
   "execution_count": 1,
   "id": "ambient-binary",
   "metadata": {
    "execution": {
     "iopub.execute_input": "2021-08-10T17:15:52.730311Z",
     "iopub.status.busy": "2021-08-10T17:15:52.729959Z",
     "iopub.status.idle": "2021-08-10T17:16:12.735392Z",
     "shell.execute_reply": "2021-08-10T17:16:12.734768Z",
     "shell.execute_reply.started": "2021-08-10T17:15:52.730223Z"
    },
    "papermill": {},
    "tags": []
   },
   "outputs": [],
   "source": [
    "from naas_drivers import nlp"
   ]
  },
  {
   "cell_type": "markdown",
   "id": "returning-plastic",
   "metadata": {
    "papermill": {},
    "tags": []
   },
   "source": [
    "## NLP Format\n",
    "```\n",
    "nlp.get(task)(inputs)\n",
    "```\n",
    "### Supported tasks:\n",
    "\n",
    "- text-generation\n",
    "- feature-extraction\n",
    "- text-classification\n",
    "- sentiment-analysis\n",
    "- token-classification\n",
    "- ner\n",
    "- question-answering\n",
    "- fill-mask\n",
    "- summarization\n",
    "- translation"
   ]
  },
  {
   "cell_type": "markdown",
   "id": "flush-bachelor",
   "metadata": {
    "papermill": {},
    "tags": []
   },
   "source": [
    "## Summarization"
   ]
  },
  {
   "cell_type": "code",
   "execution_count": 2,
   "id": "loose-trademark",
   "metadata": {
    "execution": {
     "iopub.execute_input": "2021-08-10T17:17:05.913002Z",
     "iopub.status.busy": "2021-08-10T17:17:05.912666Z",
     "iopub.status.idle": "2021-08-10T17:17:28.523232Z",
     "shell.execute_reply": "2021-08-10T17:17:28.522171Z",
     "shell.execute_reply.started": "2021-08-10T17:17:05.912964Z"
    },
    "papermill": {},
    "tags": []
   },
   "outputs": [
    {
     "data": {
      "application/vnd.jupyter.widget-view+json": {
       "model_id": "d14615475dc54df3b844df2279c2d017",
       "version_major": 2,
       "version_minor": 0
      },
      "text/plain": [
       "Downloading:   0%|          | 0.00/736 [00:00<?, ?B/s]"
      ]
     },
     "metadata": {},
     "output_type": "display_data"
    },
    {
     "data": {
      "application/vnd.jupyter.widget-view+json": {
       "model_id": "16eb6d429498465783781ecc825478cb",
       "version_major": 2,
       "version_minor": 0
      },
      "text/plain": [
       "Downloading:   0%|          | 0.00/242M [00:00<?, ?B/s]"
      ]
     },
     "metadata": {},
     "output_type": "display_data"
    },
    {
     "data": {
      "application/vnd.jupyter.widget-view+json": {
       "model_id": "7777d89e7b0c4ca8ba0cb5398cc3ce0f",
       "version_major": 2,
       "version_minor": 0
      },
      "text/plain": [
       "Downloading:   0%|          | 0.00/792k [00:00<?, ?B/s]"
      ]
     },
     "metadata": {},
     "output_type": "display_data"
    },
    {
     "data": {
      "application/vnd.jupyter.widget-view+json": {
       "model_id": "fa160bda009c49cf92571cca806a1780",
       "version_major": 2,
       "version_minor": 0
      },
      "text/plain": [
       "Downloading:   0%|          | 0.00/1.79k [00:00<?, ?B/s]"
      ]
     },
     "metadata": {},
     "output_type": "display_data"
    },
    {
     "data": {
      "application/vnd.jupyter.widget-view+json": {
       "model_id": "4107a50922c04526a54c9461cbf66d05",
       "version_major": 2,
       "version_minor": 0
      },
      "text/plain": [
       "Downloading:   0%|          | 0.00/25.0 [00:00<?, ?B/s]"
      ]
     },
     "metadata": {},
     "output_type": "display_data"
    },
    {
     "ename": "ValueError",
     "evalue": "Couldn't instantiate the backend tokenizer from one of: \n(1) a `tokenizers` library serialization file, \n(2) a slow tokenizer instance to convert or \n(3) an equivalent slow tokenizer class to instantiate and convert. \nYou need to have sentencepiece installed to convert a slow tokenizer to a fast one.",
     "output_type": "error",
     "traceback": [
      "\u001b[0;31m---------------------------------------------------------------------------\u001b[0m",
      "\u001b[0;31mValueError\u001b[0m                                Traceback (most recent call last)",
      "\u001b[0;32m<ipython-input-2-22c4317bcc36>\u001b[0m in \u001b[0;36m<module>\u001b[0;34m\u001b[0m\n\u001b[0;32m----> 1\u001b[0;31m \u001b[0mnlp\u001b[0m\u001b[0;34m.\u001b[0m\u001b[0mget\u001b[0m\u001b[0;34m(\u001b[0m\u001b[0;34m'summarization'\u001b[0m\u001b[0;34m,\u001b[0m \u001b[0mmodel\u001b[0m\u001b[0;34m=\u001b[0m\u001b[0;34m'deep-learning-analytics/wikihow-t5-small'\u001b[0m\u001b[0;34m,\u001b[0m \u001b[0mtokenizer\u001b[0m\u001b[0;34m=\u001b[0m\u001b[0;34m'deep-learning-analytics/wikihow-t5-small'\u001b[0m\u001b[0;34m)\u001b[0m\u001b[0;34m\u001b[0m\u001b[0;34m\u001b[0m\u001b[0m\n\u001b[0m\u001b[1;32m      2\u001b[0m (\"\"\"\n\u001b[1;32m      3\u001b[0m  \u001b[0mmy\u001b[0m \u001b[0mpassion\u001b[0m \u001b[0;32mas\u001b[0m \u001b[0ma\u001b[0m \u001b[0mdata\u001b[0m \u001b[0mscientist\u001b[0m \u001b[0;32mis\u001b[0m \u001b[0mreally\u001b[0m \u001b[0mstems\u001b[0m \u001b[0;32mfrom\u001b[0m \u001b[0mlike\u001b[0m \u001b[0mthat\u001b[0m\u001b[0;34m:\u001b[0m \u001b[0mzero\u001b[0m \u001b[0mto\u001b[0m \u001b[0mone\u001b[0m \u001b[0mPhase\u001b[0m \u001b[0mof\u001b[0m \u001b[0mhow\u001b[0m \u001b[0mdo\u001b[0m \u001b[0myou\u001b[0m \u001b[0mtake\u001b[0m \u001b[0mthis\u001b[0m \u001b[0mreally\u001b[0m \u001b[0mbroad\u001b[0m\u001b[0;34m,\u001b[0m \u001b[0mmaybe\u001b[0m \u001b[0mcrazy\u001b[0m \u001b[0midea\u001b[0m \u001b[0;32mand\u001b[0m \u001b[0mactually\u001b[0m \u001b[0mbuild\u001b[0m \u001b[0man\u001b[0m \u001b[0mmvp\u001b[0m \u001b[0mto\u001b[0m \u001b[0mactually\u001b[0m \u001b[0msend\u001b[0m \u001b[0mout\u001b[0m \u001b[0mto\u001b[0m \u001b[0mcustomers\u001b[0m \u001b[0;32mand\u001b[0m \u001b[0munderstand\u001b[0m\u001b[0;31m?\u001b[0m \u001b[0mWhat\u001b[0m\u001b[0;34m'S working what'\u001b[0m\u001b[0ms\u001b[0m \u001b[0msticking\u001b[0m \u001b[0;32mand\u001b[0m \u001b[0mi\u001b[0m \u001b[0mthink\u001b[0m \u001b[0mthat\u001b[0m\u001b[0;34m's a really unique skill set where you have to take this really ambiguous, put structure around it and actually build something um, and so i think that'\u001b[0m\u001b[0ms\u001b[0m \u001b[0mwhy\u001b[0m \u001b[0mi\u001b[0m \u001b[0mreally\u001b[0m \u001b[0malign\u001b[0m \u001b[0mreally\u001b[0m \u001b[0mwell\u001b[0m \u001b[0;32mwith\u001b[0m \u001b[0mnas\u001b[0m\u001b[0;34m,\u001b[0m \u001b[0mbecause\u001b[0m \u001b[0mit\u001b[0m \u001b[0mreally\u001b[0m \u001b[0mit\u001b[0m\u001b[0;31m'\u001b[0m\u001b[0ms\u001b[0m \u001b[0mthis\u001b[0m \u001b[0mtool\u001b[0m \u001b[0mThat\u001b[0m \u001b[0mallows\u001b[0m \u001b[0mme\u001b[0m \u001b[0mto\u001b[0m \u001b[0mfocus\u001b[0m \u001b[0mexactly\u001b[0m \u001b[0mon\u001b[0m \u001b[0mthat\u001b[0m\u001b[0;34m\u001b[0m\u001b[0;34m\u001b[0m\u001b[0m\n\u001b[1;32m      4\u001b[0m \u001b[0;34m\u001b[0m\u001b[0m\n\u001b[1;32m      5\u001b[0m \"\"\")\n",
      "\u001b[0;32m/opt/conda/lib/python3.8/site-packages/naas_drivers/input/nlp.py\u001b[0m in \u001b[0;36mget\u001b[0;34m(self, task, model, config, tokenizer, framework, revision, model_kwargs, **kwargs)\u001b[0m\n\u001b[1;32m    270\u001b[0m                 )\n\u001b[1;32m    271\u001b[0m         \u001b[0;32mif\u001b[0m \u001b[0misinstance\u001b[0m\u001b[0;34m(\u001b[0m\u001b[0mtokenizer\u001b[0m\u001b[0;34m,\u001b[0m \u001b[0;34m(\u001b[0m\u001b[0mstr\u001b[0m\u001b[0;34m,\u001b[0m \u001b[0mtuple\u001b[0m\u001b[0;34m)\u001b[0m\u001b[0;34m)\u001b[0m\u001b[0;34m:\u001b[0m\u001b[0;34m\u001b[0m\u001b[0;34m\u001b[0m\u001b[0m\n\u001b[0;32m--> 272\u001b[0;31m             \u001b[0mtokenizer\u001b[0m \u001b[0;34m=\u001b[0m \u001b[0mAutoTokenizer\u001b[0m\u001b[0;34m.\u001b[0m\u001b[0mfrom_pretrained\u001b[0m\u001b[0;34m(\u001b[0m\u001b[0mtokenizer\u001b[0m\u001b[0;34m)\u001b[0m\u001b[0;34m\u001b[0m\u001b[0;34m\u001b[0m\u001b[0m\n\u001b[0m\u001b[1;32m    273\u001b[0m \u001b[0;34m\u001b[0m\u001b[0m\n\u001b[1;32m    274\u001b[0m         \u001b[0;32mif\u001b[0m \u001b[0misinstance\u001b[0m\u001b[0;34m(\u001b[0m\u001b[0mmodel\u001b[0m\u001b[0;34m,\u001b[0m \u001b[0mstr\u001b[0m\u001b[0;34m)\u001b[0m\u001b[0;34m:\u001b[0m\u001b[0;34m\u001b[0m\u001b[0;34m\u001b[0m\u001b[0m\n",
      "\u001b[0;32m~/.local/lib/python3.8/site-packages/transformers/models/auto/tokenization_auto.py\u001b[0m in \u001b[0;36mfrom_pretrained\u001b[0;34m(cls, pretrained_model_name_or_path, *inputs, **kwargs)\u001b[0m\n\u001b[1;32m    433\u001b[0m             \u001b[0mtokenizer_class_py\u001b[0m\u001b[0;34m,\u001b[0m \u001b[0mtokenizer_class_fast\u001b[0m \u001b[0;34m=\u001b[0m \u001b[0mTOKENIZER_MAPPING\u001b[0m\u001b[0;34m[\u001b[0m\u001b[0mtype\u001b[0m\u001b[0;34m(\u001b[0m\u001b[0mconfig\u001b[0m\u001b[0;34m)\u001b[0m\u001b[0;34m]\u001b[0m\u001b[0;34m\u001b[0m\u001b[0;34m\u001b[0m\u001b[0m\n\u001b[1;32m    434\u001b[0m             \u001b[0;32mif\u001b[0m \u001b[0mtokenizer_class_fast\u001b[0m \u001b[0;32mand\u001b[0m \u001b[0;34m(\u001b[0m\u001b[0muse_fast\u001b[0m \u001b[0;32mor\u001b[0m \u001b[0mtokenizer_class_py\u001b[0m \u001b[0;32mis\u001b[0m \u001b[0;32mNone\u001b[0m\u001b[0;34m)\u001b[0m\u001b[0;34m:\u001b[0m\u001b[0;34m\u001b[0m\u001b[0;34m\u001b[0m\u001b[0m\n\u001b[0;32m--> 435\u001b[0;31m                 \u001b[0;32mreturn\u001b[0m \u001b[0mtokenizer_class_fast\u001b[0m\u001b[0;34m.\u001b[0m\u001b[0mfrom_pretrained\u001b[0m\u001b[0;34m(\u001b[0m\u001b[0mpretrained_model_name_or_path\u001b[0m\u001b[0;34m,\u001b[0m \u001b[0;34m*\u001b[0m\u001b[0minputs\u001b[0m\u001b[0;34m,\u001b[0m \u001b[0;34m**\u001b[0m\u001b[0mkwargs\u001b[0m\u001b[0;34m)\u001b[0m\u001b[0;34m\u001b[0m\u001b[0;34m\u001b[0m\u001b[0m\n\u001b[0m\u001b[1;32m    436\u001b[0m             \u001b[0;32melse\u001b[0m\u001b[0;34m:\u001b[0m\u001b[0;34m\u001b[0m\u001b[0;34m\u001b[0m\u001b[0m\n\u001b[1;32m    437\u001b[0m                 \u001b[0;32mif\u001b[0m \u001b[0mtokenizer_class_py\u001b[0m \u001b[0;32mis\u001b[0m \u001b[0;32mnot\u001b[0m \u001b[0;32mNone\u001b[0m\u001b[0;34m:\u001b[0m\u001b[0;34m\u001b[0m\u001b[0;34m\u001b[0m\u001b[0m\n",
      "\u001b[0;32m~/.local/lib/python3.8/site-packages/transformers/tokenization_utils_base.py\u001b[0m in \u001b[0;36mfrom_pretrained\u001b[0;34m(cls, pretrained_model_name_or_path, *init_inputs, **kwargs)\u001b[0m\n\u001b[1;32m   1717\u001b[0m                 \u001b[0mlogger\u001b[0m\u001b[0;34m.\u001b[0m\u001b[0minfo\u001b[0m\u001b[0;34m(\u001b[0m\u001b[0;34mf\"loading file {file_path} from cache at {resolved_vocab_files[file_id]}\"\u001b[0m\u001b[0;34m)\u001b[0m\u001b[0;34m\u001b[0m\u001b[0;34m\u001b[0m\u001b[0m\n\u001b[1;32m   1718\u001b[0m \u001b[0;34m\u001b[0m\u001b[0m\n\u001b[0;32m-> 1719\u001b[0;31m         return cls._from_pretrained(\n\u001b[0m\u001b[1;32m   1720\u001b[0m             \u001b[0mresolved_vocab_files\u001b[0m\u001b[0;34m,\u001b[0m \u001b[0mpretrained_model_name_or_path\u001b[0m\u001b[0;34m,\u001b[0m \u001b[0minit_configuration\u001b[0m\u001b[0;34m,\u001b[0m \u001b[0;34m*\u001b[0m\u001b[0minit_inputs\u001b[0m\u001b[0;34m,\u001b[0m \u001b[0;34m**\u001b[0m\u001b[0mkwargs\u001b[0m\u001b[0;34m\u001b[0m\u001b[0;34m\u001b[0m\u001b[0m\n\u001b[1;32m   1721\u001b[0m         )\n",
      "\u001b[0;32m~/.local/lib/python3.8/site-packages/transformers/tokenization_utils_base.py\u001b[0m in \u001b[0;36m_from_pretrained\u001b[0;34m(cls, resolved_vocab_files, pretrained_model_name_or_path, init_configuration, *init_inputs, **kwargs)\u001b[0m\n\u001b[1;32m   1789\u001b[0m         \u001b[0;31m# Instantiate tokenizer.\u001b[0m\u001b[0;34m\u001b[0m\u001b[0;34m\u001b[0m\u001b[0;34m\u001b[0m\u001b[0m\n\u001b[1;32m   1790\u001b[0m         \u001b[0;32mtry\u001b[0m\u001b[0;34m:\u001b[0m\u001b[0;34m\u001b[0m\u001b[0;34m\u001b[0m\u001b[0m\n\u001b[0;32m-> 1791\u001b[0;31m             \u001b[0mtokenizer\u001b[0m \u001b[0;34m=\u001b[0m \u001b[0mcls\u001b[0m\u001b[0;34m(\u001b[0m\u001b[0;34m*\u001b[0m\u001b[0minit_inputs\u001b[0m\u001b[0;34m,\u001b[0m \u001b[0;34m**\u001b[0m\u001b[0minit_kwargs\u001b[0m\u001b[0;34m)\u001b[0m\u001b[0;34m\u001b[0m\u001b[0;34m\u001b[0m\u001b[0m\n\u001b[0m\u001b[1;32m   1792\u001b[0m         \u001b[0;32mexcept\u001b[0m \u001b[0mOSError\u001b[0m\u001b[0;34m:\u001b[0m\u001b[0;34m\u001b[0m\u001b[0;34m\u001b[0m\u001b[0m\n\u001b[1;32m   1793\u001b[0m             raise OSError(\n",
      "\u001b[0;32m~/.local/lib/python3.8/site-packages/transformers/models/t5/tokenization_t5_fast.py\u001b[0m in \u001b[0;36m__init__\u001b[0;34m(self, vocab_file, tokenizer_file, eos_token, unk_token, pad_token, extra_ids, additional_special_tokens, **kwargs)\u001b[0m\n\u001b[1;32m    126\u001b[0m                 )\n\u001b[1;32m    127\u001b[0m \u001b[0;34m\u001b[0m\u001b[0m\n\u001b[0;32m--> 128\u001b[0;31m         super().__init__(\n\u001b[0m\u001b[1;32m    129\u001b[0m             \u001b[0mvocab_file\u001b[0m\u001b[0;34m,\u001b[0m\u001b[0;34m\u001b[0m\u001b[0;34m\u001b[0m\u001b[0m\n\u001b[1;32m    130\u001b[0m             \u001b[0mtokenizer_file\u001b[0m\u001b[0;34m=\u001b[0m\u001b[0mtokenizer_file\u001b[0m\u001b[0;34m,\u001b[0m\u001b[0;34m\u001b[0m\u001b[0;34m\u001b[0m\u001b[0m\n",
      "\u001b[0;32m~/.local/lib/python3.8/site-packages/transformers/tokenization_utils_fast.py\u001b[0m in \u001b[0;36m__init__\u001b[0;34m(self, *args, **kwargs)\u001b[0m\n\u001b[1;32m    103\u001b[0m             \u001b[0mfast_tokenizer\u001b[0m \u001b[0;34m=\u001b[0m \u001b[0mconvert_slow_tokenizer\u001b[0m\u001b[0;34m(\u001b[0m\u001b[0mslow_tokenizer\u001b[0m\u001b[0;34m)\u001b[0m\u001b[0;34m\u001b[0m\u001b[0;34m\u001b[0m\u001b[0m\n\u001b[1;32m    104\u001b[0m         \u001b[0;32melse\u001b[0m\u001b[0;34m:\u001b[0m\u001b[0;34m\u001b[0m\u001b[0;34m\u001b[0m\u001b[0m\n\u001b[0;32m--> 105\u001b[0;31m             raise ValueError(\n\u001b[0m\u001b[1;32m    106\u001b[0m                 \u001b[0;34m\"Couldn't instantiate the backend tokenizer from one of: \\n\"\u001b[0m\u001b[0;34m\u001b[0m\u001b[0;34m\u001b[0m\u001b[0m\n\u001b[1;32m    107\u001b[0m                 \u001b[0;34m\"(1) a `tokenizers` library serialization file, \\n\"\u001b[0m\u001b[0;34m\u001b[0m\u001b[0;34m\u001b[0m\u001b[0m\n",
      "\u001b[0;31mValueError\u001b[0m: Couldn't instantiate the backend tokenizer from one of: \n(1) a `tokenizers` library serialization file, \n(2) a slow tokenizer instance to convert or \n(3) an equivalent slow tokenizer class to instantiate and convert. \nYou need to have sentencepiece installed to convert a slow tokenizer to a fast one."
     ]
    }
   ],
   "source": [
    "nlp.get('summarization', model='deep-learning-analytics/wikihow-t5-small', tokenizer='deep-learning-analytics/wikihow-t5-small')\n",
    "(\"\"\"\n",
    " my passion as a data scientist is really stems from like that: zero to one Phase of how do you take this really broad, maybe crazy idea and actually build an mvp to actually send out to customers and understand? What'S working what's sticking and i think that's a really unique skill set where you have to take this really ambiguous, put structure around it and actually build something um, and so i think that's why i really align really well with nas, because it really it's this tool That allows me to focus exactly on that\n",
    "\n",
    "\"\"\")"
   ]
  },
  {
   "cell_type": "code",
   "execution_count": null,
   "id": "resistant-interest",
   "metadata": {},
   "outputs": [],
   "source": []
  }
 ],
 "metadata": {
  "kernelspec": {
   "display_name": "Python 3",
   "language": "python",
   "name": "python3"
  },
  "language_info": {
   "codemirror_mode": {
    "name": "ipython",
    "version": 3
   },
   "file_extension": ".py",
   "mimetype": "text/x-python",
   "name": "python",
   "nbconvert_exporter": "python",
   "pygments_lexer": "ipython3",
   "version": "3.8.8"
  },
  "papermill": {
   "default_parameters": {},
   "environment_variables": {},
   "parameters": {},
   "version": "2.3.3"
  },
  "widgets": {
   "application/vnd.jupyter.widget-state+json": {
    "state": {
     "002711d1b6cc49d9948df6d6de9b65ce": {
      "model_module": "@jupyter-widgets/controls",
      "model_module_version": "1.5.0",
      "model_name": "HTMLModel",
      "state": {
       "layout": "IPY_MODEL_3ff4db9a5b3e4aef8e9ff9332af2c20a",
       "style": "IPY_MODEL_54e8d5366d234c41b90edc5322e80d80",
       "value": "Downloading: 100%"
      }
     },
     "0323147317964da7b8b8ecf92a61d933": {
      "model_module": "@jupyter-widgets/controls",
      "model_module_version": "1.5.0",
      "model_name": "HTMLModel",
      "state": {
       "layout": "IPY_MODEL_ca82bd24e2d147158171a24c2ecbda5a",
       "style": "IPY_MODEL_da91c1be031845d687736aa52c5e9e2e",
       "value": "Downloading: 100%"
      }
     },
     "0c02810be7e240688b2addccc1e04aab": {
      "model_module": "@jupyter-widgets/base",
      "model_module_version": "1.2.0",
      "model_name": "LayoutModel",
      "state": {}
     },
     "0d8536bd67764f7c9672264e97fd485a": {
      "model_module": "@jupyter-widgets/controls",
      "model_module_version": "1.5.0",
      "model_name": "HTMLModel",
      "state": {
       "layout": "IPY_MODEL_68dcb4ee0a7e4a808c455861f304bd62",
       "style": "IPY_MODEL_4a6faf41b701436a86dae54de7a50f32",
       "value": " 736/736 [00:00&lt;00:00, 10.0kB/s]"
      }
     },
     "11df6320550c4c46bea295c655735b71": {
      "model_module": "@jupyter-widgets/base",
      "model_module_version": "1.2.0",
      "model_name": "LayoutModel",
      "state": {}
     },
     "16eb6d429498465783781ecc825478cb": {
      "model_module": "@jupyter-widgets/controls",
      "model_module_version": "1.5.0",
      "model_name": "HBoxModel",
      "state": {
       "children": [
        "IPY_MODEL_002711d1b6cc49d9948df6d6de9b65ce",
        "IPY_MODEL_a7e0c5028e584391bd9992a9175237a5",
        "IPY_MODEL_92e0f63c3a21473bb189f3f96f073c9f"
       ],
       "layout": "IPY_MODEL_aab9ffdf89dc4e898fdd04abdbb735d7"
      }
     },
     "243013cabe234eb5bb9b5878eafa81b4": {
      "model_module": "@jupyter-widgets/controls",
      "model_module_version": "1.5.0",
      "model_name": "HTMLModel",
      "state": {
       "layout": "IPY_MODEL_45ad4f9464814670b21a95ace1a5ac13",
       "style": "IPY_MODEL_c3f8e0506e24487fb9e6402dfc374363",
       "value": "Downloading: 100%"
      }
     },
     "2c75fc622a8348dea65c144c55df2468": {
      "model_module": "@jupyter-widgets/controls",
      "model_module_version": "1.5.0",
      "model_name": "HTMLModel",
      "state": {
       "layout": "IPY_MODEL_2dedc07676bf47f091b58491713abde0",
       "style": "IPY_MODEL_59217dce260a4df5b91bfc1e017ceb07",
       "value": "Downloading: 100%"
      }
     },
     "2d7e50cd2efc4e7cad98850c37388bb1": {
      "model_module": "@jupyter-widgets/base",
      "model_module_version": "1.2.0",
      "model_name": "LayoutModel",
      "state": {}
     },
     "2dedc07676bf47f091b58491713abde0": {
      "model_module": "@jupyter-widgets/base",
      "model_module_version": "1.2.0",
      "model_name": "LayoutModel",
      "state": {}
     },
     "31ec1a676c5b463f91218760a98e9340": {
      "model_module": "@jupyter-widgets/base",
      "model_module_version": "1.2.0",
      "model_name": "LayoutModel",
      "state": {}
     },
     "366b2c7ac00645eba35bdb2f20e29965": {
      "model_module": "@jupyter-widgets/controls",
      "model_module_version": "1.5.0",
      "model_name": "ProgressStyleModel",
      "state": {
       "description_width": ""
      }
     },
     "38e3cb1bf2e0461ab2c2ea5fee1910d7": {
      "model_module": "@jupyter-widgets/controls",
      "model_module_version": "1.5.0",
      "model_name": "FloatProgressModel",
      "state": {
       "bar_style": "success",
       "layout": "IPY_MODEL_7eb91cbf45244c969aa8ae6fd83637b0",
       "max": 736,
       "style": "IPY_MODEL_366b2c7ac00645eba35bdb2f20e29965",
       "value": 736
      }
     },
     "3c79a2c532384a78bd3dfd9e535e54fb": {
      "model_module": "@jupyter-widgets/controls",
      "model_module_version": "1.5.0",
      "model_name": "DescriptionStyleModel",
      "state": {
       "description_width": ""
      }
     },
     "3ff4db9a5b3e4aef8e9ff9332af2c20a": {
      "model_module": "@jupyter-widgets/base",
      "model_module_version": "1.2.0",
      "model_name": "LayoutModel",
      "state": {}
     },
     "4107a50922c04526a54c9461cbf66d05": {
      "model_module": "@jupyter-widgets/controls",
      "model_module_version": "1.5.0",
      "model_name": "HBoxModel",
      "state": {
       "children": [
        "IPY_MODEL_dfad3f4f55d94f4191e179a07a9cd87e",
        "IPY_MODEL_7857b3700fb14759a0a4400900a44715",
        "IPY_MODEL_ca9568f026224c22b470d20f5b750397"
       ],
       "layout": "IPY_MODEL_2d7e50cd2efc4e7cad98850c37388bb1"
      }
     },
     "45ad4f9464814670b21a95ace1a5ac13": {
      "model_module": "@jupyter-widgets/base",
      "model_module_version": "1.2.0",
      "model_name": "LayoutModel",
      "state": {}
     },
     "4a6faf41b701436a86dae54de7a50f32": {
      "model_module": "@jupyter-widgets/controls",
      "model_module_version": "1.5.0",
      "model_name": "DescriptionStyleModel",
      "state": {
       "description_width": ""
      }
     },
     "4dc19ca65e084e198dc565d238afa6e8": {
      "model_module": "@jupyter-widgets/base",
      "model_module_version": "1.2.0",
      "model_name": "LayoutModel",
      "state": {}
     },
     "53580f8d63cd48d7b0d423f04308ddd2": {
      "model_module": "@jupyter-widgets/base",
      "model_module_version": "1.2.0",
      "model_name": "LayoutModel",
      "state": {}
     },
     "54e8d5366d234c41b90edc5322e80d80": {
      "model_module": "@jupyter-widgets/controls",
      "model_module_version": "1.5.0",
      "model_name": "DescriptionStyleModel",
      "state": {
       "description_width": ""
      }
     },
     "59217dce260a4df5b91bfc1e017ceb07": {
      "model_module": "@jupyter-widgets/controls",
      "model_module_version": "1.5.0",
      "model_name": "DescriptionStyleModel",
      "state": {
       "description_width": ""
      }
     },
     "68dcb4ee0a7e4a808c455861f304bd62": {
      "model_module": "@jupyter-widgets/base",
      "model_module_version": "1.2.0",
      "model_name": "LayoutModel",
      "state": {}
     },
     "696257ee331c4e2ea72f6eb1a40372c1": {
      "model_module": "@jupyter-widgets/controls",
      "model_module_version": "1.5.0",
      "model_name": "DescriptionStyleModel",
      "state": {
       "description_width": ""
      }
     },
     "6eecf2eb1ff541b38d3b9718bc3f5fa6": {
      "model_module": "@jupyter-widgets/base",
      "model_module_version": "1.2.0",
      "model_name": "LayoutModel",
      "state": {}
     },
     "74381fd8ae8149788ddba4713b2e7fa9": {
      "model_module": "@jupyter-widgets/base",
      "model_module_version": "1.2.0",
      "model_name": "LayoutModel",
      "state": {}
     },
     "7777d89e7b0c4ca8ba0cb5398cc3ce0f": {
      "model_module": "@jupyter-widgets/controls",
      "model_module_version": "1.5.0",
      "model_name": "HBoxModel",
      "state": {
       "children": [
        "IPY_MODEL_0323147317964da7b8b8ecf92a61d933",
        "IPY_MODEL_86178411706c45578cbd0560815a7341",
        "IPY_MODEL_eb6cc5579be44156a663c3a7d0536abb"
       ],
       "layout": "IPY_MODEL_31ec1a676c5b463f91218760a98e9340"
      }
     },
     "7857b3700fb14759a0a4400900a44715": {
      "model_module": "@jupyter-widgets/controls",
      "model_module_version": "1.5.0",
      "model_name": "FloatProgressModel",
      "state": {
       "bar_style": "success",
       "layout": "IPY_MODEL_a21a19140faa4f6f99b53a103b63bd0a",
       "max": 25,
       "style": "IPY_MODEL_da639f71e4e04b0d87d583161b4e0872",
       "value": 25
      }
     },
     "7eb91cbf45244c969aa8ae6fd83637b0": {
      "model_module": "@jupyter-widgets/base",
      "model_module_version": "1.2.0",
      "model_name": "LayoutModel",
      "state": {}
     },
     "857f2a25922946dc9649fe8c7916db6a": {
      "model_module": "@jupyter-widgets/controls",
      "model_module_version": "1.5.0",
      "model_name": "DescriptionStyleModel",
      "state": {
       "description_width": ""
      }
     },
     "86178411706c45578cbd0560815a7341": {
      "model_module": "@jupyter-widgets/controls",
      "model_module_version": "1.5.0",
      "model_name": "FloatProgressModel",
      "state": {
       "bar_style": "success",
       "layout": "IPY_MODEL_4dc19ca65e084e198dc565d238afa6e8",
       "max": 791656,
       "style": "IPY_MODEL_886cc920b0bb4d6a807378da238fbd85",
       "value": 791656
      }
     },
     "886cc920b0bb4d6a807378da238fbd85": {
      "model_module": "@jupyter-widgets/controls",
      "model_module_version": "1.5.0",
      "model_name": "ProgressStyleModel",
      "state": {
       "description_width": ""
      }
     },
     "92e0f63c3a21473bb189f3f96f073c9f": {
      "model_module": "@jupyter-widgets/controls",
      "model_module_version": "1.5.0",
      "model_name": "HTMLModel",
      "state": {
       "layout": "IPY_MODEL_db996a7256744ac59b8f7bd63e9e7d32",
       "style": "IPY_MODEL_696257ee331c4e2ea72f6eb1a40372c1",
       "value": " 242M/242M [00:08&lt;00:00, 28.9MB/s]"
      }
     },
     "a21a19140faa4f6f99b53a103b63bd0a": {
      "model_module": "@jupyter-widgets/base",
      "model_module_version": "1.2.0",
      "model_name": "LayoutModel",
      "state": {}
     },
     "a7e0c5028e584391bd9992a9175237a5": {
      "model_module": "@jupyter-widgets/controls",
      "model_module_version": "1.5.0",
      "model_name": "FloatProgressModel",
      "state": {
       "bar_style": "success",
       "layout": "IPY_MODEL_53580f8d63cd48d7b0d423f04308ddd2",
       "max": 242068027,
       "style": "IPY_MODEL_beb1f25502fc4c459f2562878cb9d4f2",
       "value": 242068027
      }
     },
     "a8878bc9ef5c4562a72716be2ce99b01": {
      "model_module": "@jupyter-widgets/controls",
      "model_module_version": "1.5.0",
      "model_name": "DescriptionStyleModel",
      "state": {
       "description_width": ""
      }
     },
     "aab9ffdf89dc4e898fdd04abdbb735d7": {
      "model_module": "@jupyter-widgets/base",
      "model_module_version": "1.2.0",
      "model_name": "LayoutModel",
      "state": {}
     },
     "b8dc5b35ac174d87a774f9f628276d99": {
      "model_module": "@jupyter-widgets/base",
      "model_module_version": "1.2.0",
      "model_name": "LayoutModel",
      "state": {}
     },
     "beb1f25502fc4c459f2562878cb9d4f2": {
      "model_module": "@jupyter-widgets/controls",
      "model_module_version": "1.5.0",
      "model_name": "ProgressStyleModel",
      "state": {
       "description_width": ""
      }
     },
     "c2e7a231fc1a4df9a5cc3a446a7ed8c9": {
      "model_module": "@jupyter-widgets/controls",
      "model_module_version": "1.5.0",
      "model_name": "HTMLModel",
      "state": {
       "layout": "IPY_MODEL_11df6320550c4c46bea295c655735b71",
       "style": "IPY_MODEL_857f2a25922946dc9649fe8c7916db6a",
       "value": " 1.79k/1.79k [00:00&lt;00:00, 35.5kB/s]"
      }
     },
     "c3f8e0506e24487fb9e6402dfc374363": {
      "model_module": "@jupyter-widgets/controls",
      "model_module_version": "1.5.0",
      "model_name": "DescriptionStyleModel",
      "state": {
       "description_width": ""
      }
     },
     "ca82bd24e2d147158171a24c2ecbda5a": {
      "model_module": "@jupyter-widgets/base",
      "model_module_version": "1.2.0",
      "model_name": "LayoutModel",
      "state": {}
     },
     "ca9568f026224c22b470d20f5b750397": {
      "model_module": "@jupyter-widgets/controls",
      "model_module_version": "1.5.0",
      "model_name": "HTMLModel",
      "state": {
       "layout": "IPY_MODEL_ed71787d03bf4bdcb193e7e67c6ba4d5",
       "style": "IPY_MODEL_a8878bc9ef5c4562a72716be2ce99b01",
       "value": " 25.0/25.0 [00:00&lt;00:00, 371B/s]"
      }
     },
     "d14615475dc54df3b844df2279c2d017": {
      "model_module": "@jupyter-widgets/controls",
      "model_module_version": "1.5.0",
      "model_name": "HBoxModel",
      "state": {
       "children": [
        "IPY_MODEL_243013cabe234eb5bb9b5878eafa81b4",
        "IPY_MODEL_38e3cb1bf2e0461ab2c2ea5fee1910d7",
        "IPY_MODEL_0d8536bd67764f7c9672264e97fd485a"
       ],
       "layout": "IPY_MODEL_0c02810be7e240688b2addccc1e04aab"
      }
     },
     "da639f71e4e04b0d87d583161b4e0872": {
      "model_module": "@jupyter-widgets/controls",
      "model_module_version": "1.5.0",
      "model_name": "ProgressStyleModel",
      "state": {
       "description_width": ""
      }
     },
     "da91c1be031845d687736aa52c5e9e2e": {
      "model_module": "@jupyter-widgets/controls",
      "model_module_version": "1.5.0",
      "model_name": "DescriptionStyleModel",
      "state": {
       "description_width": ""
      }
     },
     "db996a7256744ac59b8f7bd63e9e7d32": {
      "model_module": "@jupyter-widgets/base",
      "model_module_version": "1.2.0",
      "model_name": "LayoutModel",
      "state": {}
     },
     "dfad3f4f55d94f4191e179a07a9cd87e": {
      "model_module": "@jupyter-widgets/controls",
      "model_module_version": "1.5.0",
      "model_name": "HTMLModel",
      "state": {
       "layout": "IPY_MODEL_b8dc5b35ac174d87a774f9f628276d99",
       "style": "IPY_MODEL_e5a734a11441407cbaf1150d2bc32ede",
       "value": "Downloading: 100%"
      }
     },
     "e5984f3a1fed4fb38c296ea4f40b8287": {
      "model_module": "@jupyter-widgets/base",
      "model_module_version": "1.2.0",
      "model_name": "LayoutModel",
      "state": {}
     },
     "e5a734a11441407cbaf1150d2bc32ede": {
      "model_module": "@jupyter-widgets/controls",
      "model_module_version": "1.5.0",
      "model_name": "DescriptionStyleModel",
      "state": {
       "description_width": ""
      }
     },
     "eb0b9b2ba1574da0ac07b9002b9e4070": {
      "model_module": "@jupyter-widgets/controls",
      "model_module_version": "1.5.0",
      "model_name": "FloatProgressModel",
      "state": {
       "bar_style": "success",
       "layout": "IPY_MODEL_74381fd8ae8149788ddba4713b2e7fa9",
       "max": 1786,
       "style": "IPY_MODEL_f020f8029fac4b8ebba9509f2596a2a6",
       "value": 1786
      }
     },
     "eb6cc5579be44156a663c3a7d0536abb": {
      "model_module": "@jupyter-widgets/controls",
      "model_module_version": "1.5.0",
      "model_name": "HTMLModel",
      "state": {
       "layout": "IPY_MODEL_6eecf2eb1ff541b38d3b9718bc3f5fa6",
       "style": "IPY_MODEL_3c79a2c532384a78bd3dfd9e535e54fb",
       "value": " 792k/792k [00:00&lt;00:00, 1.10MB/s]"
      }
     },
     "ed71787d03bf4bdcb193e7e67c6ba4d5": {
      "model_module": "@jupyter-widgets/base",
      "model_module_version": "1.2.0",
      "model_name": "LayoutModel",
      "state": {}
     },
     "f020f8029fac4b8ebba9509f2596a2a6": {
      "model_module": "@jupyter-widgets/controls",
      "model_module_version": "1.5.0",
      "model_name": "ProgressStyleModel",
      "state": {
       "description_width": ""
      }
     },
     "fa160bda009c49cf92571cca806a1780": {
      "model_module": "@jupyter-widgets/controls",
      "model_module_version": "1.5.0",
      "model_name": "HBoxModel",
      "state": {
       "children": [
        "IPY_MODEL_2c75fc622a8348dea65c144c55df2468",
        "IPY_MODEL_eb0b9b2ba1574da0ac07b9002b9e4070",
        "IPY_MODEL_c2e7a231fc1a4df9a5cc3a446a7ed8c9"
       ],
       "layout": "IPY_MODEL_e5984f3a1fed4fb38c296ea4f40b8287"
      }
     }
    },
    "version_major": 2,
    "version_minor": 0
   }
  }
 },
 "nbformat": 4,
 "nbformat_minor": 5
}
