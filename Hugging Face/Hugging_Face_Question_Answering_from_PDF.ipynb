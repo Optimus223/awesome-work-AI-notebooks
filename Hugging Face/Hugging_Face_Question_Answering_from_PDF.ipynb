{
 "cells": [
  {
   "cell_type": "markdown",
   "metadata": {
    "id": "G8G4XdnudkS6"
   },
   "source": [
    "<img width=\"10%\" alt=\"Naas\" src=\"https://landen.imgix.net/jtci2pxwjczr/assets/5ice39g4.png?w=160\"/>"
   ]
  },
  {
   "cell_type": "markdown",
   "metadata": {
    "id": "cziuXC9hduys"
   },
   "source": [
    "# Hugging Face - Question Answering from PDF\n",
    "<a href=\"https://app.naas.ai/user-redirect/naas/downloader?url=https://raw.githubusercontent.com/jupyter-naas/awesome-notebooks/master/Hugging%20Face/Hugging_Face_Ask_boolean_question_to_T5.ipynb\" target=\"_parent\"><img src=\"https://naasai-public.s3.eu-west-3.amazonaws.com/open_in_naas.svg\"/></a>"
   ]
  },
  {
   "cell_type": "markdown",
   "metadata": {
    "id": "CLPRc-MJd982"
   },
   "source": [
    "**Tags:** #huggingface #ml #question_answer #ai #text"
   ]
  },
  {
   "cell_type": "markdown",
   "metadata": {
    "id": "9TxAcynceEXm"
   },
   "source": [
    "**Author:** [Muhammad Talha Khan](https://www.linkedin.com/in/muhtalhakhan/)"
   ]
  },
  {
   "cell_type": "markdown",
   "metadata": {
    "id": "yTE05GfihPVg"
   },
   "source": [
    "**Description**: This Transformers QA Pipeline shows a Question Answering models that can retrieve the answer to a question from a given text, which is useful for searching for an answer in a document. This specific example is set with the Bitcoin white paper but you can put any PDF.\n",
    "\n",
    "The PDF will server as context which will used for questions answering."
   ]
  },
  {
   "cell_type": "markdown",
   "metadata": {
    "id": "I5qfxShzjrJK"
   },
   "source": [
    "## Input"
   ]
  },
  {
   "cell_type": "markdown",
   "metadata": {
    "execution": {
     "iopub.execute_input": "2022-11-02T22:06:30.070094Z",
     "iopub.status.busy": "2022-11-02T22:06:30.069794Z",
     "iopub.status.idle": "2022-11-02T22:06:30.072975Z",
     "shell.execute_reply": "2022-11-02T22:06:30.072331Z",
     "shell.execute_reply.started": "2022-11-02T22:06:30.070062Z"
    }
   },
   "source": [
    "### Install Packages"
   ]
  },
  {
   "cell_type": "code",
   "execution_count": 16,
   "metadata": {
    "colab": {
     "base_uri": "https://localhost:8080/"
    },
    "execution": {
     "iopub.execute_input": "2022-11-02T22:06:46.895803Z",
     "iopub.status.busy": "2022-11-02T22:06:46.895542Z",
     "iopub.status.idle": "2022-11-02T22:06:56.209620Z",
     "shell.execute_reply": "2022-11-02T22:06:56.208914Z",
     "shell.execute_reply.started": "2022-11-02T22:06:46.895778Z"
    },
    "id": "hWQbKgcncvLE",
    "outputId": "218bfc13-27fd-4331-b3c3-304c7986a0b1",
    "tags": []
   },
   "outputs": [
    {
     "name": "stdout",
     "output_type": "stream",
     "text": [
      "\u001b[33mWARNING: Ignoring invalid distribution -yping-extensions (/opt/conda/lib/python3.9/site-packages)\u001b[0m\u001b[33m\n",
      "\u001b[0m\u001b[33mWARNING: Ignoring invalid distribution -yping-extensions (/opt/conda/lib/python3.9/site-packages)\u001b[0m\u001b[33m\n",
      "\u001b[0mRequirement already satisfied: tensorflow in /opt/conda/lib/python3.9/site-packages (2.6.0)\n",
      "Requirement already satisfied: keras~=2.6 in /opt/conda/lib/python3.9/site-packages (from tensorflow) (2.6.0)\n",
      "Collecting typing-extensions~=3.7.4\n",
      "  Using cached typing_extensions-3.7.4.3-py3-none-any.whl (22 kB)\n",
      "Requirement already satisfied: protobuf>=3.9.2 in /home/ftp/.local/lib/python3.9/site-packages (from tensorflow) (3.20.1)\n",
      "Requirement already satisfied: grpcio<2.0,>=1.37.0 in /opt/conda/lib/python3.9/site-packages (from tensorflow) (1.50.0)\n",
      "Requirement already satisfied: gast==0.4.0 in /opt/conda/lib/python3.9/site-packages (from tensorflow) (0.4.0)\n",
      "Requirement already satisfied: numpy~=1.19.2 in /home/ftp/.local/lib/python3.9/site-packages (from tensorflow) (1.19.5)\n",
      "Requirement already satisfied: tensorflow-estimator~=2.6 in /opt/conda/lib/python3.9/site-packages (from tensorflow) (2.10.0)\n",
      "Requirement already satisfied: h5py~=3.1.0 in /opt/conda/lib/python3.9/site-packages (from tensorflow) (3.1.0)\n",
      "Requirement already satisfied: clang~=5.0 in /opt/conda/lib/python3.9/site-packages (from tensorflow) (5.0)\n",
      "Requirement already satisfied: flatbuffers~=1.12.0 in /opt/conda/lib/python3.9/site-packages (from tensorflow) (1.12)\n",
      "Requirement already satisfied: tensorboard~=2.6 in /opt/conda/lib/python3.9/site-packages (from tensorflow) (2.10.1)\n",
      "Requirement already satisfied: astunparse~=1.6.3 in /opt/conda/lib/python3.9/site-packages (from tensorflow) (1.6.3)\n",
      "Requirement already satisfied: absl-py~=0.10 in /opt/conda/lib/python3.9/site-packages (from tensorflow) (0.15.0)\n",
      "Requirement already satisfied: google-pasta~=0.2 in /opt/conda/lib/python3.9/site-packages (from tensorflow) (0.2.0)\n",
      "Requirement already satisfied: wrapt~=1.12.1 in /opt/conda/lib/python3.9/site-packages (from tensorflow) (1.12.1)\n",
      "Requirement already satisfied: opt-einsum~=3.3.0 in /opt/conda/lib/python3.9/site-packages (from tensorflow) (3.3.0)\n",
      "Collecting six~=1.15.0\n",
      "  Using cached six-1.15.0-py2.py3-none-any.whl (10 kB)\n",
      "Requirement already satisfied: wheel~=0.35 in /opt/conda/lib/python3.9/site-packages (from tensorflow) (0.36.2)\n",
      "Requirement already satisfied: termcolor~=1.1.0 in /opt/conda/lib/python3.9/site-packages (from tensorflow) (1.1.0)\n",
      "Requirement already satisfied: keras-preprocessing~=1.1.2 in /opt/conda/lib/python3.9/site-packages (from tensorflow) (1.1.2)\n",
      "Requirement already satisfied: markdown>=2.6.8 in /opt/conda/lib/python3.9/site-packages (from tensorboard~=2.6->tensorflow) (3.4.1)\n",
      "Requirement already satisfied: requests<3,>=2.21.0 in /home/ftp/.local/lib/python3.9/site-packages (from tensorboard~=2.6->tensorflow) (2.27.1)\n",
      "Requirement already satisfied: tensorboard-data-server<0.7.0,>=0.6.0 in /opt/conda/lib/python3.9/site-packages (from tensorboard~=2.6->tensorflow) (0.6.1)\n",
      "Requirement already satisfied: tensorboard-plugin-wit>=1.6.0 in /opt/conda/lib/python3.9/site-packages (from tensorboard~=2.6->tensorflow) (1.8.1)\n",
      "Requirement already satisfied: setuptools>=41.0.0 in /opt/conda/lib/python3.9/site-packages (from tensorboard~=2.6->tensorflow) (49.6.0.post20210108)\n",
      "Requirement already satisfied: google-auth<3,>=1.6.3 in /opt/conda/lib/python3.9/site-packages (from tensorboard~=2.6->tensorflow) (2.14.0)\n",
      "Requirement already satisfied: werkzeug>=1.0.1 in /opt/conda/lib/python3.9/site-packages (from tensorboard~=2.6->tensorflow) (2.2.2)\n",
      "Collecting protobuf>=3.9.2\n",
      "  Using cached protobuf-3.19.6-cp39-cp39-manylinux_2_17_x86_64.manylinux2014_x86_64.whl (1.1 MB)\n",
      "Requirement already satisfied: google-auth-oauthlib<0.5,>=0.4.1 in /opt/conda/lib/python3.9/site-packages (from tensorboard~=2.6->tensorflow) (0.4.4)\n",
      "Requirement already satisfied: rsa<5,>=3.1.4 in /opt/conda/lib/python3.9/site-packages (from google-auth<3,>=1.6.3->tensorboard~=2.6->tensorflow) (4.9)\n",
      "Requirement already satisfied: cachetools<6.0,>=2.0.0 in /opt/conda/lib/python3.9/site-packages (from google-auth<3,>=1.6.3->tensorboard~=2.6->tensorflow) (5.2.0)\n",
      "Requirement already satisfied: pyasn1-modules>=0.2.1 in /opt/conda/lib/python3.9/site-packages (from google-auth<3,>=1.6.3->tensorboard~=2.6->tensorflow) (0.2.8)\n",
      "Requirement already satisfied: requests-oauthlib>=0.7.0 in /opt/conda/lib/python3.9/site-packages (from google-auth-oauthlib<0.5,>=0.4.1->tensorboard~=2.6->tensorflow) (1.3.1)\n",
      "Requirement already satisfied: importlib-metadata>=4.4 in /opt/conda/lib/python3.9/site-packages (from markdown>=2.6.8->tensorboard~=2.6->tensorflow) (4.6.3)\n",
      "Requirement already satisfied: urllib3<1.27,>=1.21.1 in /opt/conda/lib/python3.9/site-packages (from requests<3,>=2.21.0->tensorboard~=2.6->tensorflow) (1.26.6)\n",
      "Requirement already satisfied: certifi>=2017.4.17 in /opt/conda/lib/python3.9/site-packages (from requests<3,>=2.21.0->tensorboard~=2.6->tensorflow) (2021.5.30)\n",
      "Requirement already satisfied: idna<4,>=2.5 in /opt/conda/lib/python3.9/site-packages (from requests<3,>=2.21.0->tensorboard~=2.6->tensorflow) (3.1)\n",
      "Requirement already satisfied: charset-normalizer~=2.0.0 in /opt/conda/lib/python3.9/site-packages (from requests<3,>=2.21.0->tensorboard~=2.6->tensorflow) (2.0.0)\n",
      "Requirement already satisfied: MarkupSafe>=2.1.1 in /home/ftp/.local/lib/python3.9/site-packages (from werkzeug>=1.0.1->tensorboard~=2.6->tensorflow) (2.1.1)\n",
      "Requirement already satisfied: zipp>=0.5 in /opt/conda/lib/python3.9/site-packages (from importlib-metadata>=4.4->markdown>=2.6.8->tensorboard~=2.6->tensorflow) (3.5.0)\n",
      "Requirement already satisfied: pyasn1<0.5.0,>=0.4.6 in /opt/conda/lib/python3.9/site-packages (from pyasn1-modules>=0.2.1->google-auth<3,>=1.6.3->tensorboard~=2.6->tensorflow) (0.4.8)\n",
      "Requirement already satisfied: oauthlib>=3.0.0 in /home/ftp/.local/lib/python3.9/site-packages (from requests-oauthlib>=0.7.0->google-auth-oauthlib<0.5,>=0.4.1->tensorboard~=2.6->tensorflow) (3.2.0)\n",
      "\u001b[33mWARNING: Ignoring invalid distribution -yping-extensions (/opt/conda/lib/python3.9/site-packages)\u001b[0m\u001b[33m\n",
      "\u001b[0mInstalling collected packages: typing-extensions, six, protobuf\n",
      "  Attempting uninstall: typing-extensions\n",
      "\u001b[33m    WARNING: Ignoring invalid distribution -yping-extensions (/opt/conda/lib/python3.9/site-packages)\u001b[0m\u001b[33m\n",
      "\u001b[0m    Found existing installation: typing_extensions 4.1.1\n",
      "    Uninstalling typing_extensions-4.1.1:\n",
      "\u001b[31mERROR: Could not install packages due to an OSError: [Errno 13] Permission denied: 'INSTALLER'\n",
      "Consider using the `--user` option or check the permissions.\n",
      "\u001b[0m\u001b[31m\n",
      "\u001b[0m\u001b[33mWARNING: Ignoring invalid distribution -yping-extensions (/opt/conda/lib/python3.9/site-packages)\u001b[0m\u001b[33m\n",
      "\u001b[0m\u001b[33mWARNING: Ignoring invalid distribution -yping-extensions (/opt/conda/lib/python3.9/site-packages)\u001b[0m\u001b[33m\n",
      "\u001b[0m\u001b[33mWARNING: Ignoring invalid distribution -yping-extensions (/opt/conda/lib/python3.9/site-packages)\u001b[0m\u001b[33m\n",
      "\u001b[0m"
     ]
    }
   ],
   "source": [
    "!pip install tensorflow"
   ]
  },
  {
   "cell_type": "code",
   "execution_count": 2,
   "metadata": {
    "colab": {
     "base_uri": "https://localhost:8080/"
    },
    "execution": {
     "iopub.execute_input": "2022-11-02T21:56:25.255594Z",
     "iopub.status.busy": "2022-11-02T21:56:25.255416Z",
     "iopub.status.idle": "2022-11-02T21:56:30.480930Z",
     "shell.execute_reply": "2022-11-02T21:56:30.480200Z",
     "shell.execute_reply.started": "2022-11-02T21:56:25.255573Z"
    },
    "id": "EuixEtFCjg4N",
    "outputId": "44f505a4-29cb-4d5d-ede2-ce62d8ac9796"
   },
   "outputs": [
    {
     "name": "stdout",
     "output_type": "stream",
     "text": [
      "\u001b[33mWARNING: Ignoring invalid distribution -yping-extensions (/opt/conda/lib/python3.9/site-packages)\u001b[0m\u001b[33m\n",
      "\u001b[0m\u001b[33mWARNING: Ignoring invalid distribution -yping-extensions (/opt/conda/lib/python3.9/site-packages)\u001b[0m\u001b[33m\n",
      "\u001b[0m\u001b[33mWARNING: Ignoring invalid distribution -yping-extensions (/opt/conda/lib/python3.9/site-packages)\u001b[0m\u001b[33m\n",
      "\u001b[0m\u001b[33mWARNING: Ignoring invalid distribution -yping-extensions (/opt/conda/lib/python3.9/site-packages)\u001b[0m\u001b[33m\n",
      "\u001b[0m\u001b[33mWARNING: Ignoring invalid distribution -yping-extensions (/opt/conda/lib/python3.9/site-packages)\u001b[0m\u001b[33m\n",
      "\u001b[0m\u001b[33mWARNING: Ignoring invalid distribution -yping-extensions (/opt/conda/lib/python3.9/site-packages)\u001b[0m\u001b[33m\n",
      "\u001b[0m"
     ]
    }
   ],
   "source": [
    "!pip install -q transformers"
   ]
  },
  {
   "cell_type": "markdown",
   "metadata": {},
   "source": [
    "Use \"--user\" if it asks for permission prompt."
   ]
  },
  {
   "cell_type": "code",
   "execution_count": 3,
   "metadata": {
    "execution": {
     "iopub.execute_input": "2022-11-02T21:56:30.482590Z",
     "iopub.status.busy": "2022-11-02T21:56:30.482367Z",
     "iopub.status.idle": "2022-11-02T21:56:36.065302Z",
     "shell.execute_reply": "2022-11-02T21:56:36.064638Z",
     "shell.execute_reply.started": "2022-11-02T21:56:30.482560Z"
    }
   },
   "outputs": [
    {
     "name": "stdout",
     "output_type": "stream",
     "text": [
      "\u001b[33mWARNING: Ignoring invalid distribution -yping-extensions (/opt/conda/lib/python3.9/site-packages)\u001b[0m\u001b[33m\n",
      "\u001b[0m\u001b[33mWARNING: Ignoring invalid distribution -yping-extensions (/opt/conda/lib/python3.9/site-packages)\u001b[0m\u001b[33m\n",
      "\u001b[0mCollecting PyPDF2\n",
      "  Using cached PyPDF2-2.11.1-py3-none-any.whl (220 kB)\n",
      "Requirement already satisfied: typing-extensions>=3.10.0.0 in /opt/conda/lib/python3.9/site-packages (from PyPDF2) (4.1.1)\n",
      "\u001b[33mWARNING: Ignoring invalid distribution -yping-extensions (/opt/conda/lib/python3.9/site-packages)\u001b[0m\u001b[33m\n",
      "\u001b[0mInstalling collected packages: PyPDF2\n",
      "\u001b[33mWARNING: Ignoring invalid distribution -yping-extensions (/opt/conda/lib/python3.9/site-packages)\u001b[0m\u001b[33m\n",
      "\u001b[0mSuccessfully installed PyPDF2-2.11.1\n",
      "\u001b[33mWARNING: Ignoring invalid distribution -yping-extensions (/opt/conda/lib/python3.9/site-packages)\u001b[0m\u001b[33m\n",
      "\u001b[0m\u001b[33mWARNING: Ignoring invalid distribution -yping-extensions (/opt/conda/lib/python3.9/site-packages)\u001b[0m\u001b[33m\n",
      "\u001b[0m\u001b[33mWARNING: Ignoring invalid distribution -yping-extensions (/opt/conda/lib/python3.9/site-packages)\u001b[0m\u001b[33m\n",
      "\u001b[0m"
     ]
    }
   ],
   "source": [
    "!pip install PyPDF2"
   ]
  },
  {
   "cell_type": "code",
   "execution_count": 4,
   "metadata": {
    "execution": {
     "iopub.execute_input": "2022-11-02T21:56:36.066692Z",
     "iopub.status.busy": "2022-11-02T21:56:36.066462Z",
     "iopub.status.idle": "2022-11-02T21:56:41.219375Z",
     "shell.execute_reply": "2022-11-02T21:56:41.218679Z",
     "shell.execute_reply.started": "2022-11-02T21:56:36.066662Z"
    }
   },
   "outputs": [
    {
     "name": "stdout",
     "output_type": "stream",
     "text": [
      "\u001b[33mWARNING: Ignoring invalid distribution -yping-extensions (/opt/conda/lib/python3.9/site-packages)\u001b[0m\u001b[33m\n",
      "\u001b[0m\u001b[33mWARNING: Ignoring invalid distribution -yping-extensions (/opt/conda/lib/python3.9/site-packages)\u001b[0m\u001b[33m\n",
      "\u001b[0mRequirement already satisfied: urllib3 in /opt/conda/lib/python3.9/site-packages (1.26.6)\n",
      "\u001b[33mWARNING: Ignoring invalid distribution -yping-extensions (/opt/conda/lib/python3.9/site-packages)\u001b[0m\u001b[33m\n",
      "\u001b[0m\u001b[33mWARNING: Ignoring invalid distribution -yping-extensions (/opt/conda/lib/python3.9/site-packages)\u001b[0m\u001b[33m\n",
      "\u001b[0m\u001b[33mWARNING: Ignoring invalid distribution -yping-extensions (/opt/conda/lib/python3.9/site-packages)\u001b[0m\u001b[33m\n",
      "\u001b[0m\u001b[33mWARNING: Ignoring invalid distribution -yping-extensions (/opt/conda/lib/python3.9/site-packages)\u001b[0m\u001b[33m\n",
      "\u001b[0m"
     ]
    }
   ],
   "source": [
    "!pip install urllib3"
   ]
  },
  {
   "cell_type": "markdown",
   "metadata": {
    "id": "qGxt0Sy1lQlL"
   },
   "source": [
    "### Import Libraries\n"
   ]
  },
  {
   "cell_type": "code",
   "execution_count": 5,
   "metadata": {
    "execution": {
     "iopub.execute_input": "2022-11-02T21:56:41.220795Z",
     "iopub.status.busy": "2022-11-02T21:56:41.220578Z",
     "iopub.status.idle": "2022-11-02T21:56:48.720459Z",
     "shell.execute_reply": "2022-11-02T21:56:48.719822Z",
     "shell.execute_reply.started": "2022-11-02T21:56:41.220766Z"
    }
   },
   "outputs": [],
   "source": [
    "from transformers import pipeline\n",
    "import urllib.request\n",
    "import PyPDF2\n",
    "import io"
   ]
  },
  {
   "cell_type": "markdown",
   "metadata": {},
   "source": [
    "### Add the Document Path"
   ]
  },
  {
   "cell_type": "code",
   "execution_count": 6,
   "metadata": {
    "execution": {
     "iopub.execute_input": "2022-11-02T21:56:48.721667Z",
     "iopub.status.busy": "2022-11-02T21:56:48.721432Z",
     "iopub.status.idle": "2022-11-02T21:56:49.846905Z",
     "shell.execute_reply": "2022-11-02T21:56:49.846220Z",
     "shell.execute_reply.started": "2022-11-02T21:56:48.721638Z"
    }
   },
   "outputs": [],
   "source": [
    "URL = 'https://bitcoin.org/bitcoin.pdf'\n",
    "req = urllib.request.Request(URL, headers={'User-Agent' : \"Chrome\"})\n",
    "remote_file = urllib.request.urlopen(req).read()\n",
    "remote_file_bytes = io.BytesIO(remote_file)\n",
    "pdfdoc_remote = PyPDF2.PdfFileReader(remote_file_bytes)"
   ]
  },
  {
   "cell_type": "markdown",
   "metadata": {},
   "source": [
    "You can change the URL path to the desired one relating to any of the PDF."
   ]
  },
  {
   "cell_type": "markdown",
   "metadata": {},
   "source": [
    "## Model"
   ]
  },
  {
   "cell_type": "markdown",
   "metadata": {},
   "source": [
    "### Read Text from File"
   ]
  },
  {
   "cell_type": "code",
   "execution_count": 7,
   "metadata": {
    "execution": {
     "iopub.execute_input": "2022-11-02T21:56:49.851998Z",
     "iopub.status.busy": "2022-11-02T21:56:49.850386Z",
     "iopub.status.idle": "2022-11-02T21:56:50.414792Z",
     "shell.execute_reply": "2022-11-02T21:56:50.414140Z",
     "shell.execute_reply.started": "2022-11-02T21:56:49.851963Z"
    }
   },
   "outputs": [
    {
     "name": "stdout",
     "output_type": "stream",
     "text": [
      "0\n",
      "1\n",
      "2\n",
      "3\n",
      "4\n",
      "5\n",
      "6\n",
      "7\n",
      "8\n"
     ]
    }
   ],
   "source": [
    "pdf_text = \"\"    \n",
    "    \n",
    "for i in range(pdfdoc_remote.getNumPages()):\n",
    "    print(i)\n",
    "    page = pdfdoc_remote.getPage(i)\n",
    "    page_content = page.extractText()\n",
    "    pdf_text += page_content    "
   ]
  },
  {
   "cell_type": "markdown",
   "metadata": {},
   "source": [
    "### Generate the text data from the pdf file "
   ]
  },
  {
   "cell_type": "code",
   "execution_count": 8,
   "metadata": {
    "execution": {
     "iopub.execute_input": "2022-11-02T21:56:50.417044Z",
     "iopub.status.busy": "2022-11-02T21:56:50.416681Z",
     "iopub.status.idle": "2022-11-02T21:56:50.421344Z",
     "shell.execute_reply": "2022-11-02T21:56:50.420755Z",
     "shell.execute_reply.started": "2022-11-02T21:56:50.417012Z"
    }
   },
   "outputs": [
    {
     "name": "stdout",
     "output_type": "stream",
     "text": [
      "Bitcoin: A Peer-to-Peer Electronic Cash System\n",
      "Satoshi Nakamoto\n",
      "satoshin@gmx.com\n",
      "www.bitcoin.org\n",
      "Abstract.  A purely peer-to-peer version of electronic cash would allow online  \n",
      "payments to be sent directly from one party to another without going through a  \n",
      "financial institution.  Digital signatures provide part of the solution, but the main  \n",
      "benefits are lost if a trusted third party is still required to prevent double-spending.  \n",
      "We propose a solution to the double-spending problem using a peer-to-peer network.  \n",
      "The network timestamps transactions by hashing them into an ongoing chain of  \n",
      "hash-based proof-of-work, forming a record that cannot be changed without redoing  \n",
      "the proof-of-work.  The longest chain not only serves as proof of the sequence of  \n",
      "events witnessed, but proof that it came from the largest pool of CPU power.  As  \n",
      "long as a majority of CPU power is controlled by nodes that are not cooperating to  \n",
      "attack the network, they'll generate the longest chain and outpace attackers.  The  \n",
      "network itself requires minimal structure.  Messages are broadcast on a best effort  \n",
      "basis, and nodes can leave and rejoin the network at will, accepting the longest  \n",
      "proof-of-work chain as proof of what happened while they were gone.\n",
      "1.Introduction\n",
      "Commerce on the Internet has come to rely almost exclusively on financial institutions serving as  \n",
      "trusted third parties to process electronic payments.  While the system works well enough for  \n",
      "most  transactions,  it  still  suffers  from  the  inherent  weaknesses  of  the  trust  based  model.  \n",
      "Completely non-reversible transactions are not really possible, since financial institutions cannot  \n",
      "avoid  mediating  disputes.   The  cost  of  mediation  increases  transaction  costs,  limiting  the  \n",
      "minimum practical transaction size and cutting off the possibility for small casual transactions,  \n",
      "and there is a broader cost in the loss of ability to make non-reversible payments for non-\n",
      "reversible services.  With the possibility of reversal, the need for trust spreads.  Merchants must  \n",
      "be wary of their customers, hassling them for more information than they would otherwise need.  \n",
      "A certain percentage of fraud is accepted as unavoidable.  These costs and payment uncertainties  \n",
      "can be avoided in person by using physical currency, but no mechanism exists to make payments  \n",
      "over a communications channel without a trusted party.\n",
      "What is needed is an electronic payment system based on cryptographic proof instead of trust,  \n",
      "allowing any two willing parties to transact directly with each other without the need for a trusted  \n",
      "third party.  Transactions that are computationally impractical to reverse would protect sellers  \n",
      "from fraud, and routine escrow mechanisms could easily be implemented to protect buyers.  In  \n",
      "this paper, we propose a solution to the double-spending problem using a peer-to-peer distributed  \n",
      "timestamp server to generate computational proof of the chronological order of transactions.  The  \n",
      "system  is  secure  as  long  as  honest  nodes  collectively  control  more  CPU  power  than  any  \n",
      "cooperating group of attacker nodes.\n",
      "12.Transactions\n",
      "We define an electronic coin as a chain of digital signatures.  Each owner transfers the coin to the  \n",
      "next by digitally signing a hash of the previous transaction and the public key of the next owner  \n",
      "and adding these to the end of the coin.  A payee can verify the signatures to verify the chain of  \n",
      "ownership.\n",
      "The problem of course is the payee can't verify that one of the owners did not double-spend  \n",
      "the coin.  A common solution is to introduce a trusted central authority, or mint, that checks every  \n",
      "transaction for double spending.  After each transaction, the coin must be returned to the mint to  \n",
      "issue a new coin, and only coins issued directly from the mint are trusted not to be double-spent.  \n",
      "The problem with this solution is that the fate of the entire money system depends on the  \n",
      "company running the mint, with every transaction having to go through them, just like a bank.\n",
      "We need a way for the payee to know that the previous owners did not sign any earlier  \n",
      "transactions.  For our purposes, the earliest transaction is the one that counts, so we don't care  \n",
      "about later attempts to double-spend.  The only way to confirm the absence of a transaction is to  \n",
      "be aware of all transactions.  In the mint based model, the mint was aware of all transactions and  \n",
      "decided which arrived first.  To accomplish this without a trusted party, transactions must be  \n",
      "publicly announced [1], and we need a system for participants to agree on a single history of the  \n",
      "order in which they were received.  The payee needs proof that at the time of each transaction, the  \n",
      "majority of nodes agreed it was the first received. \n",
      "3.Timestamp Server\n",
      "The solution we propose begins with a timestamp server.  A timestamp server works by taking a  \n",
      "hash  of a block of items  to  be timestamped  and  widely publishing  the hash,  such as  in  a  \n",
      "newspaper or Usenet post [2-5].  The timestamp proves that the data must have existed at the  \n",
      "time, obviously, in order to get into the hash.  Each timestamp includes the previous timestamp in  \n",
      "its hash, forming a chain, with each additional timestamp reinforcing the ones before it.\n",
      "2Block\n",
      "ItemItem...Hash\n",
      "Block\n",
      "ItemItem...HashTransaction\n",
      "Owner 1'sPublic Key\n",
      "Owner 0'sSignatureHashTransaction\n",
      "Owner 2'sPublic Key\n",
      "Owner 1'sSignatureHash\n",
      " VerifyTransaction\n",
      "Owner 3'sPublic Key\n",
      "Owner 2'sSignatureHash\n",
      " Verify\n",
      "Owner 2'sPrivate KeyOwner 1'sPrivate KeySign  Sign  \n",
      "Owner 3'sPrivate Key4.Proof-of-Work\n",
      "To implement a distributed timestamp server on a peer-to-peer basis, we will need to use a proof-\n",
      "of-work system similar to Adam Back's Hashcash [6], rather than newspaper or Usenet posts.  \n",
      "The proof-of-work involves scanning for a value that when hashed, such as with SHA-256, the  \n",
      "hash begins with a number of zero bits.  The average work required is exponential in the number  \n",
      "of zero bits required and can be verified by executing a single hash.\n",
      "For our timestamp network, we implement the proof-of-work by incrementing a nonce in the  \n",
      "block until a value is found that gives the block's hash the required zero bits.  Once the CPU  \n",
      "effort has been expended to make it satisfy the proof-of-work, the block cannot be changed  \n",
      "without redoing the work.  As later blocks are chained after it, the work to change the block  \n",
      "would include redoing all the blocks after it.\n",
      "The proof-of-work also solves the problem of determining representation in majority decision  \n",
      "making.  If the majority were based on one-IP-address-one-vote, it could be subverted by anyone  \n",
      "able  to  allocate  many  IPs.   Proof-of-work  is  essentially  one-CPU-one-vote.   The  majority  \n",
      "decision is represented by the longest chain, which has the greatest proof-of-work effort invested  \n",
      "in it.  If a majority of CPU power is controlled by honest nodes, the honest chain will grow the  \n",
      "fastest and outpace any competing chains.  To modify a past block, an attacker would have to  \n",
      "redo the proof-of-work of the block and all blocks after it and then catch up with and surpass the  \n",
      "work of the honest nodes.  We will show later that the probability of a slower attacker catching up  \n",
      "diminishes exponentially as subsequent blocks are added.\n",
      "To compensate for increasing hardware speed and varying interest in running nodes over time,  \n",
      "the proof-of-work difficulty is determined by a moving average targeting an average number of  \n",
      "blocks per hour.  If they're generated too fast, the difficulty increases.\n",
      "5.Network\n",
      "The steps to run the network are as follows:\n",
      "1)New transactions are broadcast to all nodes.\n",
      "2)Each node collects new transactions into a block.  \n",
      "3)Each node works on finding a difficult proof-of-work for its block.\n",
      "4)When a node finds a proof-of-work, it broadcasts the block to all nodes.\n",
      "5)Nodes accept the block only if all transactions in it are valid and not already spent.\n",
      "6)Nodes express their acceptance of the block by working on creating the next block in the  \n",
      "chain, using the hash of the accepted block as the previous hash.\n",
      "Nodes always consider the longest chain to be the correct one and will keep working on  \n",
      "extending it.  If two nodes broadcast different versions of the next block simultaneously, some  \n",
      "nodes may receive one or the other first.  In that case, they work on the first one they received,  \n",
      "but save the other branch in case it becomes longer.  The tie will be broken when the next proof-\n",
      "of-work is found and one branch becomes longer; the nodes that were working on the other  \n",
      "branch will then switch to the longer one.\n",
      "3Block\n",
      "Prev HashNonce\n",
      "TxTx...Block\n",
      "Prev HashNonce\n",
      "TxTx...New transaction broadcasts do not necessarily need to reach all nodes.  As long as they reach  \n",
      "many nodes, they will get into a block before long.  Block broadcasts are also tolerant of dropped  \n",
      "messages.  If a node does not receive a block, it will request it when it receives the next block and  \n",
      "realizes it missed one.\n",
      "6.Incentive\n",
      "By convention, the first transaction in a block is a special transaction that starts a new coin owned  \n",
      "by the creator of the block.  This adds an incentive for nodes to support the network, and provides  \n",
      "a way to initially distribute coins into circulation, since there is no central authority to issue them.  \n",
      "The steady addition of a constant of amount of new coins is analogous to gold miners expending  \n",
      "resources to add gold to circulation.  In our case, it is CPU time and electricity that is expended.\n",
      "The incentive can also be funded with transaction fees.  If the output value of a transaction is  \n",
      "less than its input value, the difference is a transaction fee that is added to the incentive value of  \n",
      "the block  containing  the transaction.   Once  a  predetermined number of coins  have  entered  \n",
      "circulation, the incentive can transition entirely to transaction fees and be completely inflation  \n",
      "free.\n",
      "The incentive may help encourage nodes to stay honest.  If a greedy attacker is able to  \n",
      "assemble more CPU power than all the honest nodes, he would have to choose between using it  \n",
      "to defraud people by stealing back his payments, or using it to generate new coins.  He ought to  \n",
      "find it more profitable to play by the rules, such rules that favour him with more new coins than  \n",
      "everyone else combined, than to undermine the system and the validity of his own wealth.\n",
      "7.Reclaiming Disk Space\n",
      "Once the latest transaction in a coin is buried under enough blocks, the spent transactions before  \n",
      "it can be discarded to save disk space.  To facilitate this without breaking the block's hash,  \n",
      "transactions are hashed in a Merkle Tree [7][2][5], with only the root included in the block's hash.  \n",
      "Old blocks can then be compacted by stubbing off branches of the tree.  The interior hashes do  \n",
      "not need to be stored.\n",
      "A block header with no transactions would be about 80 bytes.  If we suppose blocks are  \n",
      "generated every 10 minutes, 80 bytes * 6 * 24 * 365 = 4.2MB per year.  With computer systems  \n",
      "typically selling with 2GB of RAM as of 2008, and Moore's Law predicting current growth of  \n",
      "1.2GB per year, storage should not be a problem even if the block headers must be kept in  \n",
      "memory.\n",
      "4Block BlockBlock Header (Block Hash)\n",
      "Prev HashNonce\n",
      "Hash01\n",
      "Hash0Hash1Hash2Hash3Hash23Root Hash\n",
      "Hash01\n",
      "Hash2\n",
      "Tx3Hash23Block Header (Block Hash)\n",
      "Root Hash\n",
      "Transactions Hashed in a Merkle Tree After Pruning Tx0-2 from the BlockPrev HashNonce\n",
      "Hash3\n",
      "Tx0Tx1Tx2Tx38.Simplified Payment Verification\n",
      "It is possible to verify payments without running a full network node.  A user only needs to keep  \n",
      "a copy of the block headers of the longest proof-of-work chain, which he can get by querying  \n",
      "network nodes until he's convinced he has the longest chain, and obtain the Merkle branch  \n",
      "linking the transaction to the block it's timestamped in.  He can't check the transaction for  \n",
      "himself, but by linking it to a place in the chain, he can see that a network node has accepted it,  \n",
      "and blocks added after it further confirm the network has accepted it.\n",
      "As such, the verification is reliable as long as honest nodes control the network, but is more  \n",
      "vulnerable if the network is overpowered by an attacker.  While network nodes can verify  \n",
      "transactions for themselves, the simplified method can be fooled by an attacker's fabricated  \n",
      "transactions for as long as the attacker can continue to overpower the network.  One strategy to  \n",
      "protect against this would be to accept alerts from network nodes when they detect an invalid  \n",
      "block, prompting the user's  software to download the full  block and alerted transactions to  \n",
      "confirm the inconsistency.  Businesses that receive frequent payments will probably still want to  \n",
      "run their own nodes for more independent security and quicker verification.\n",
      "9.Combining and Splitting Value\n",
      "Although it would be possible to handle coins individually, it would be unwieldy to make a  \n",
      "separate transaction for every cent in a transfer.  To allow value to be split and combined,  \n",
      "transactions contain multiple inputs and outputs.  Normally there will be either a single input  \n",
      "from a larger previous transaction or multiple inputs combining smaller amounts, and at most two  \n",
      "outputs: one for the payment, and one returning the change, if any, back to the sender.  \n",
      "It should be noted that fan-out, where a transaction depends on several transactions, and those  \n",
      "transactions depend on many more, is not a problem here.  There is never the need to extract a  \n",
      "complete standalone copy of a transaction's history.\n",
      "5Transaction\n",
      "In\n",
      "...InOut\n",
      "...Hash01\n",
      "Hash2Hash3Hash23Block Header\n",
      "Merkle RootPrev HashNonceBlock Header\n",
      "Merkle RootPrev HashNonceBlock Header\n",
      "Merkle RootPrev HashNonce\n",
      "Merkle Branch for Tx3Longest Proof-of-Work Chain\n",
      "Tx310.Privacy\n",
      "The traditional banking model achieves a level of privacy by limiting access to information to the  \n",
      "parties involved and the trusted third party.  The necessity to announce all transactions publicly  \n",
      "precludes this method, but privacy can still be maintained by breaking the flow of information in  \n",
      "another place: by keeping public keys anonymous.  The public can see that someone is sending  \n",
      "an amount to someone else, but without information linking the transaction to anyone.  This is  \n",
      "similar to the level of information released by stock exchanges, where the time and size of  \n",
      "individual trades, the \"tape\", is made public, but without telling who the parties were.\n",
      "As an additional firewall, a new key pair should be used for each transaction to keep them  \n",
      "from being linked to a common owner.  Some linking is still unavoidable with multi-input  \n",
      "transactions, which necessarily reveal that their inputs were owned by the same owner.  The risk  \n",
      "is that if the owner of a key is revealed, linking could reveal other transactions that belonged to  \n",
      "the same owner.\n",
      "11.Calculations\n",
      "We consider the scenario of an attacker trying to generate an alternate chain faster than the honest  \n",
      "chain.  Even if this is accomplished, it does not throw the system open to arbitrary changes, such  \n",
      "as creating value out of thin air or taking money that never belonged to the attacker.  Nodes are  \n",
      "not going to accept an invalid transaction as payment, and honest nodes will never accept a block  \n",
      "containing them.  An attacker can only try to change one of his own transactions to take back  \n",
      "money he recently spent.\n",
      "The race between the honest chain and an attacker chain can be characterized as a Binomial  \n",
      "Random Walk.  The success event is the honest chain being extended by one block, increasing its  \n",
      "lead by +1, and the failure event is the attacker's chain being extended by one block, reducing the  \n",
      "gap by -1.\n",
      "The probability of an attacker catching up from a given deficit is analogous to a Gambler's  \n",
      "Ruin problem.  Suppose a gambler with unlimited credit starts at a deficit and plays potentially an  \n",
      "infinite number of trials to try to reach breakeven.  We can calculate the probability he ever  \n",
      "reaches breakeven, or that an attacker ever catches up with the honest chain, as follows [8]:\n",
      "p = probability an honest node finds the next block\n",
      "q = probability the attacker finds the next block\n",
      "qz = probability the attacker will ever catch up from z blocks behind\n",
      "qz={1ifp≤q\n",
      "q/pzifpq}\n",
      "6IdentitiesTransactionsTrustedThird PartyCounterpartyPublic\n",
      "IdentitiesTransactionsPublicNew Privacy ModelTraditional Privacy ModelGiven our assumption that p > q, the probability drops exponentially as the number of blocks the  \n",
      "attacker has to catch up with increases.  With the odds against him, if he doesn't make a lucky  \n",
      "lunge forward early on, his chances become vanishingly small as he falls further behind.\n",
      "We now consider how long the recipient of a new transaction needs to wait before being  \n",
      "sufficiently certain the sender can't change the transaction.  We assume the sender is an attacker  \n",
      "who wants to make the recipient believe he paid him for a while, then switch it to pay back to  \n",
      "himself after some time has passed.  The receiver will be alerted when that happens, but the  \n",
      "sender hopes it will be too late.\n",
      "The receiver generates a new key pair and gives the public key to the sender shortly before  \n",
      "signing.  This prevents the sender from preparing a chain of blocks ahead of time by working on  \n",
      "it continuously until he is lucky enough to get far enough ahead, then executing the transaction at  \n",
      "that moment.  Once the transaction is sent, the dishonest sender starts working in secret on a  \n",
      "parallel chain containing an alternate version of his transaction.\n",
      "The recipient waits until the transaction has been added to a block and z blocks have been \n",
      "linked after it.   He doesn't  know the exact amount of progress  the attacker has  made, but  \n",
      "assuming the honest blocks took the average expected time per block, the attacker's potential  \n",
      "progress will be a Poisson distribution with expected value:\n",
      "=zq\n",
      "p\n",
      "To get the probability the attacker could still catch up now, we multiply the Poisson density for  \n",
      "each amount of progress he could have made by the probability he could catch up from that point:\n",
      "∑k=0∞ke−\n",
      "k!⋅{q/pz−kifk≤z\n",
      "1ifkz}\n",
      "Rearranging to avoid summing the infinite tail of the distribution...\n",
      "1−∑k=0zke−\n",
      "k!1−q/pz−k\n",
      "Converting to C code...\n",
      "#include <math.h>double AttackerSuccessProbability(double q, int z){    double p = 1.0 - q;    double lambda = z * (q / p);    double sum = 1.0;    int i, k;    for (k = 0; k <= z; k++)    {        double poisson = exp(-lambda);        for (i = 1; i <= k; i++)            poisson *= lambda / i;        sum -= poisson * (1 - pow(q / p, z - k));    }    return sum;}\n",
      "7Running some results, we can see the probability drop off exponentially with z.\n",
      "q=0.1z=0    P=1.0000000z=1    P=0.2045873z=2    P=0.0509779z=3    P=0.0131722z=4    P=0.0034552z=5    P=0.0009137z=6    P=0.0002428z=7    P=0.0000647z=8    P=0.0000173z=9    P=0.0000046z=10   P=0.0000012\n",
      "q=0.3z=0    P=1.0000000z=5    P=0.1773523z=10   P=0.0416605z=15   P=0.0101008z=20   P=0.0024804z=25   P=0.0006132z=30   P=0.0001522z=35   P=0.0000379z=40   P=0.0000095z=45   P=0.0000024z=50   P=0.0000006\n",
      "Solving for P less than 0.1%...\n",
      "P < 0.001q=0.10   z=5q=0.15   z=8q=0.20   z=11q=0.25   z=15q=0.30   z=24q=0.35   z=41q=0.40   z=89q=0.45   z=340\n",
      "12.Conclusion\n",
      "We have proposed a system for electronic transactions without relying on trust.  We started with  \n",
      "the usual framework of coins made from digital signatures, which provides strong control of  \n",
      "ownership, but is incomplete without a way to prevent double-spending.  To solve this, we  \n",
      "proposed a peer-to-peer network using proof-of-work to record a public history of transactions  \n",
      "that quickly becomes computationally impractical for an attacker to change if honest nodes  \n",
      "control a majority of CPU power.  The network is robust in its unstructured simplicity.  Nodes  \n",
      "work all at once with little coordination.  They do not need to be identified, since messages are  \n",
      "not routed to any particular place and only need to be delivered on a best effort basis.  Nodes can  \n",
      "leave  and  rejoin  the  network  at  will,  accepting  the  proof-of-work  chain  as  proof  of  what  \n",
      "happened while they were gone.  They vote with their CPU power, expressing their acceptance of  \n",
      "valid blocks by working on extending them and rejecting invalid blocks by refusing to work on  \n",
      "them.  Any needed rules and incentives can be enforced with this consensus mechanism.\n",
      "8References\n",
      "[1]W. Dai, \"b-money,\" http://www.weidai.com/bmoney.txt, 1998.\n",
      "[2]H. Massias, X.S. Avila, and J.-J. Quisquater, \"Design of a secure timestamping service with minimal  \n",
      "trust requirements,\" In 20th Symposium on Information Theory in the Benelux , May 1999.\n",
      "[3]S. Haber, W.S. Stornetta, \"How to time-stamp a digital document,\" In Journal of Cryptology, vol 3, no \n",
      "2, pages 99-111, 1991.\n",
      "[4]D. Bayer, S. Haber, W.S. Stornetta, \"Improving the efficiency and reliability of digital time-stamping,\"  \n",
      "In Sequences II: Methods in Communication, Security and Computer Science , pages 329-334, 1993.\n",
      "[5]S. Haber, W.S. Stornetta, \"Secure names for bit-strings,\" In Proceedings of the 4th ACM Conference  \n",
      "on Computer and Communications Security , pages 28-35, April 1997.\n",
      "[6]A. Back, \"Hashcash - a denial of service counter-measure,\"  \n",
      "http://www.hashcash.org/papers/hashcash.pdf, 2002.\n",
      "[7]R.C. Merkle, \"Protocols for public key cryptosystems,\" In Proc. 1980 Symposium on Security and \n",
      "Privacy, IEEE Computer Society, pages 122-133, April 1980.\n",
      "[8]W. Feller, \"An introduction to probability theory and its applications,\" 1957.\n",
      "9\n"
     ]
    }
   ],
   "source": [
    "print(pdf_text)"
   ]
  },
  {
   "cell_type": "markdown",
   "metadata": {},
   "source": [
    "### Loading the pipeline\n",
    "Import Pipeline from Transformer after installing the transformers and tensorflow."
   ]
  },
  {
   "cell_type": "code",
   "execution_count": 9,
   "metadata": {
    "colab": {
     "base_uri": "https://localhost:8080/",
     "height": 209,
     "referenced_widgets": [
      "02846d328fc64470a7ef51f7356fffe7",
      "206ec1e1751a4b1e823625a41a16f198",
      "7daeaf7a72e049f5a83115281dff722c",
      "1e41eb994e6043fd9d9f71056aa919fd",
      "f2d878498481419982cfbed6998badc7",
      "78ae7daee32742fdbea799d1ecee725b",
      "8313171613564f49a51a7c4ddd1c54be",
      "70d27bf4885946f1bac900aa2ed3acbf",
      "128c82f0610b4d35ab58c19c7ecad285",
      "cd92f70cae464dbd904b95e226e009d8",
      "610195e2abb24f4e918548542f162994",
      "10b1223b0b2048178604837fca8fe019",
      "370f8be3eee94ba7a46aecb68c88ac0b",
      "39c387561f434a8ca5d1ed0a75e35555",
      "389ad910daf14e7880d4358f99050188",
      "5e1928ec730e46e29001098852869319",
      "28488283d9d442ceb9f6e6a0081bba08",
      "85c5c24bfc6f4995a5153d82b3a08813",
      "02df147b9de3493aa13d75bbb821b993",
      "1355b4ec48984de6a5d36f270a56ffd3",
      "e00274fcfea746f1b36ab2a9df66a2f9",
      "0461f63c22a14468ad634137893cad45",
      "b2f9b334892343bba1c7bfe5e7a48de8",
      "235a946a49ae4075964010b86c464c73",
      "b43ec80677a64fa4b01a61174883312e",
      "ecf79c84a2d3472387910d157c049e90",
      "d3996a83e1ad44d195e102bf7000c0fc",
      "51d93806f3074ba18fd486e8008fdd44",
      "349bc7e86a7c4461ab13db063e8cb75d",
      "626356298e8648c8876c509af33e4b36",
      "5122530a03a94f71a0ba83db763a138b",
      "e5a1a2f6d5f64adc97436ecb713a6319",
      "86893849c8d84dada247ed4d40b8cd98",
      "61c9de49aa564f09bbe6ee2f4fcd607d",
      "72fb8550c3b143b9886a5c1a14708b8d",
      "7a11d0ddb5724447b140136c75794aec",
      "6d56ab522b8a41b89efdeb5a50c5f45e",
      "b862356a497744b8bbf6cf601425268d",
      "f964f9a07ae742988128ce6dddb9a005",
      "cadebe7a16b94b5384382a2da6433a9d",
      "f72533a3d8094979a62e8df311d4a71d",
      "12c1a0c764d7427e8fbc89c61f61af62",
      "4b4fb5cc07ab4770a9b44e5d42cecc9b",
      "47cd1e65edf6420dac974dd1373782ca",
      "4db03df182684c28ae253e789dbb69fb",
      "f39fb158684945c5868669ffb48b6ee8",
      "d233bc1ff6d94886acc73d822e78e32f",
      "9ef3e38cf9014c93a706dba061b27606",
      "a31fea5b27a141769f6b0e91f2cea545",
      "76fcc46988784ec78377cf30f87f8b53",
      "6a433c3bd7084fb592c84bfb74bc6fe7",
      "d795b3310476413b896ccc0d88a5f9d5",
      "71c30aa1d50240eb88f66088c422c09f",
      "799370ebd73047f4ba98cc27c5b553c7",
      "236eb10e4b904c9f8779599534b56c52",
      "9bd9e1704ad84d64af60580ff1d995c2",
      "ef0350009a5044e7b711c4a19c94a093",
      "32748b1fde84418f865c0cda68128827",
      "b6135c491fa1403eb746d3e4c1aae989",
      "dda0a8d9629f471d97d6546acca528b6",
      "b40f3bd75acd4721a01fc5016e3e2f9d",
      "82ce19b8a51c48cca24db581bb224213",
      "0a1ef2c489024ec38a367e3509c080dd",
      "e89a5d617279418b90932e76cdbf0890",
      "e6c514181a7442418c4165e7af7cb98b",
      "30532c9838bf429cacc7b8d85c840f60"
     ]
    },
    "execution": {
     "iopub.execute_input": "2022-11-02T21:56:50.422719Z",
     "iopub.status.busy": "2022-11-02T21:56:50.422379Z",
     "iopub.status.idle": "2022-11-02T21:57:00.388711Z",
     "shell.execute_reply": "2022-11-02T21:57:00.388119Z",
     "shell.execute_reply.started": "2022-11-02T21:56:50.422690Z"
    },
    "id": "Gd51u6zFoKbG",
    "outputId": "19997e7c-5a92-4e40-b132-68273c2f6e0c",
    "tags": []
   },
   "outputs": [],
   "source": [
    "nlp = pipeline('question-answering', model='deepset/roberta-base-squad2', tokenizer='deepset/roberta-base-squad2')"
   ]
  },
  {
   "cell_type": "markdown",
   "metadata": {
    "execution": {
     "iopub.execute_input": "2022-11-02T22:04:21.973105Z",
     "iopub.status.busy": "2022-11-02T22:04:21.972816Z",
     "iopub.status.idle": "2022-11-02T22:04:21.980111Z",
     "shell.execute_reply": "2022-11-02T22:04:21.977454Z",
     "shell.execute_reply.started": "2022-11-02T22:04:21.973076Z"
    }
   },
   "source": [
    "## Output"
   ]
  },
  {
   "cell_type": "markdown",
   "metadata": {},
   "source": [
    "### Ask question"
   ]
  },
  {
   "cell_type": "code",
   "execution_count": 12,
   "metadata": {
    "colab": {
     "base_uri": "https://localhost:8080/"
    },
    "execution": {
     "iopub.execute_input": "2022-11-02T21:59:11.948410Z",
     "iopub.status.busy": "2022-11-02T21:59:11.948185Z",
     "iopub.status.idle": "2022-11-02T21:59:40.862019Z",
     "shell.execute_reply": "2022-11-02T21:59:40.861393Z",
     "shell.execute_reply.started": "2022-11-02T21:59:11.948388Z"
    },
    "id": "9yETPBqgoWpO",
    "outputId": "062820d9-a750-45ea-b263-ec617df962d6",
    "tags": []
   },
   "outputs": [
    {
     "name": "stdin",
     "output_type": "stream",
     "text": [
      "Enter your question:\n",
      " Who created Bitcoin\n"
     ]
    }
   ],
   "source": [
    "context = pdf_text \n",
    "question = input('Enter your question:\\n')\n",
    "\n",
    "question_set = {\n",
    "        'context': context,\n",
    "        'question': question\n",
    "    }\n",
    "\n",
    "results = nlp(question_set)"
   ]
  },
  {
   "cell_type": "markdown",
   "metadata": {
    "id": "zaufheoZo4mf"
   },
   "source": [
    "\n",
    "\n",
    "### Get answer\n",
    "\n",
    "This will print the answer to the question you have asked before."
   ]
  },
  {
   "cell_type": "code",
   "execution_count": 13,
   "metadata": {
    "execution": {
     "iopub.execute_input": "2022-11-02T22:00:18.496884Z",
     "iopub.status.busy": "2022-11-02T22:00:18.496658Z",
     "iopub.status.idle": "2022-11-02T22:00:18.502528Z",
     "shell.execute_reply": "2022-11-02T22:00:18.501992Z",
     "shell.execute_reply.started": "2022-11-02T22:00:18.496863Z"
    },
    "tags": []
   },
   "outputs": [
    {
     "name": "stdout",
     "output_type": "stream",
     "text": [
      "\n",
      "Answer: Satoshi Nakamoto\n"
     ]
    }
   ],
   "source": [
    "print(\"\\nAnswer: \" + results['answer'])"
   ]
  }
 ],
 "metadata": {
  "colab": {
   "provenance": []
  },
  "kernelspec": {
   "display_name": "Python 3",
   "language": "python",
   "name": "python3"
  },
  "language_info": {
   "codemirror_mode": {
    "name": "ipython",
    "version": 3
   },
   "file_extension": ".py",
   "mimetype": "text/x-python",
   "name": "python",
   "nbconvert_exporter": "python",
   "pygments_lexer": "ipython3",
   "version": "3.9.6"
  },
  "widgets": {
   "application/vnd.jupyter.widget-state+json": {
    "state": {},
    "version_major": 2,
    "version_minor": 0
   }
  }
 },
 "nbformat": 4,
 "nbformat_minor": 4
}
