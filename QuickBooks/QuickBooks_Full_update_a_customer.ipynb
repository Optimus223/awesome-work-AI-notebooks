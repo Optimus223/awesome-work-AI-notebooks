{
 "cells": [
  {
   "cell_type": "markdown",
   "id": "ea06ff3f-623f-4c19-b67e-ca8b56349ba8",
   "metadata": {
    "papermill": {},
    "tags": []
   },
   "source": [
    "<img width=\"10%\" alt=\"Naas\" src=\"https://landen.imgix.net/jtci2pxwjczr/assets/5ice39g4.png?w=160\"/>"
   ]
  },
  {
   "cell_type": "markdown",
   "id": "cad2a30b-ee39-48ba-af9e-ff82f5eef4ab",
   "metadata": {
    "papermill": {},
    "tags": []
   },
   "source": [
    "# QuickBooks - Full update a customer"
   ]
  },
  {
   "cell_type": "markdown",
   "id": "1bf8fb1e-5b00-49c0-a876-3d14b1144c3d",
   "metadata": {
    "papermill": {},
    "tags": []
   },
   "source": [
    "**Tags:** #quickbooks #accounting #customer #update #api #qbo"
   ]
  },
  {
   "cell_type": "markdown",
   "id": "f80c98bf-4864-481b-822f-c12891406a21",
   "metadata": {
    "papermill": {},
    "tags": []
   },
   "source": [
    "**Author:** [Florent Ravenel](https://www.linkedin.com/in/florent-ravenel)"
   ]
  },
  {
   "cell_type": "markdown",
   "id": "c5684492-83a3-4c55-944d-e6217e97c3c3",
   "metadata": {
    "papermill": {},
    "tags": []
   },
   "source": [
    "**Description:** This notebook will show how to full update a customer in QuickBooks using the QBO API. It is usefull for organizations that need to update customer information in QuickBooks."
   ]
  },
  {
   "cell_type": "markdown",
   "id": "f56e2d22-039a-46eb-98fa-c7fbc9853a05",
   "metadata": {
    "papermill": {},
    "tags": []
   },
   "source": [
    "**References:**\n",
    "- [QuickBooks Online API Documentation](https://developer.intuit.com/app/developer/qbo/docs/api/accounting/all-entities/customer#full-update-a-customer)\n",
    "- [QuickBooks Online API Explorer](https://developer.intuit.com/app/developer/qbo/docs/api/accounting/explorer)"
   ]
  },
  {
   "cell_type": "markdown",
   "id": "56dbde95-0d3b-4c77-9932-0764e1604e79",
   "metadata": {
    "papermill": {},
    "tags": []
   },
   "source": [
    "## Input"
   ]
  },
  {
   "cell_type": "markdown",
   "id": "b190e1bb-b1db-4995-b9f4-f624cfefd562",
   "metadata": {
    "papermill": {},
    "tags": []
   },
   "source": [
    "### Import libraries"
   ]
  },
  {
   "cell_type": "code",
   "execution_count": 1,
   "id": "0509e34f-5805-42fe-b1de-b2c23f5e959c",
   "metadata": {
    "execution": {
     "iopub.execute_input": "2023-05-31T14:27:06.943454Z",
     "iopub.status.busy": "2023-05-31T14:27:06.943197Z",
     "iopub.status.idle": "2023-05-31T14:27:07.102448Z",
     "shell.execute_reply": "2023-05-31T14:27:07.101826Z",
     "shell.execute_reply.started": "2023-05-31T14:27:06.943391Z"
    },
    "papermill": {},
    "tags": []
   },
   "outputs": [],
   "source": [
    "import requests\n",
    "import json"
   ]
  },
  {
   "cell_type": "markdown",
   "id": "4637a06e-4a39-4c99-b3cc-74c7f319139e",
   "metadata": {
    "papermill": {},
    "tags": []
   },
   "source": [
    "### Setup Variables\n",
    "- `url`: URL of the QBO API endpoint\n",
    "- `headers`: Headers of the request\n",
    "- `data`: Data to be sent in the request"
   ]
  },
  {
   "cell_type": "code",
   "execution_count": 2,
   "id": "cda355dc-7be7-4412-93ef-7efd5137a466",
   "metadata": {
    "execution": {
     "iopub.execute_input": "2023-05-31T14:27:07.746944Z",
     "iopub.status.busy": "2023-05-31T14:27:07.746723Z",
     "iopub.status.idle": "2023-05-31T14:27:07.750516Z",
     "shell.execute_reply": "2023-05-31T14:27:07.749832Z",
     "shell.execute_reply.started": "2023-05-31T14:27:07.746920Z"
    },
    "papermill": {},
    "tags": []
   },
   "outputs": [],
   "source": [
    "url = \"https://quickbooks.api.intuit.com/v3/company/123145844183384/customer/1\"\n",
    "headers = {\n",
    "    \"Accept\": \"application/json\",\n",
    "    \"Content-Type\": \"application/json\",\n",
    "    \"Authorization\": \"Bearer <ACCESS_TOKEN>\",\n",
    "    \"cache-control\": \"no-cache\",\n",
    "}\n",
    "data = {\n",
    "    \"GivenName\": \"John\",\n",
    "    \"FamilyName\": \"Doe\",\n",
    "    \"DisplayName\": \"John Doe\",\n",
    "    \"PrimaryEmailAddr\": {\"Address\": \"johndoe@example.com\"},\n",
    "}"
   ]
  },
  {
   "cell_type": "markdown",
   "id": "dacef594-acd6-45fe-9396-a77c14a86939",
   "metadata": {
    "papermill": {},
    "tags": []
   },
   "source": [
    "## Model"
   ]
  },
  {
   "cell_type": "markdown",
   "id": "643ad917-2bf8-4de2-8a60-a38101d5b32f",
   "metadata": {
    "papermill": {},
    "tags": []
   },
   "source": [
    "### Full update a customer"
   ]
  },
  {
   "cell_type": "markdown",
   "id": "cda84998-bcae-46d5-9e68-f764d5278084",
   "metadata": {
    "papermill": {},
    "tags": []
   },
   "source": [
    "This action will update the customer information in QuickBooks."
   ]
  },
  {
   "cell_type": "code",
   "execution_count": null,
   "id": "dc4ed33c-d9f6-4b47-a64e-ce35e840bc16",
   "metadata": {
    "papermill": {},
    "tags": []
   },
   "outputs": [],
   "source": [
    "response = requests.request(\"POST\", url, data=json.dumps(data), headers=headers)"
   ]
  },
  {
   "cell_type": "markdown",
   "id": "7d5b77f3-baeb-4ac0-95a4-ddfc28cf7386",
   "metadata": {
    "papermill": {},
    "tags": []
   },
   "source": [
    "## Output"
   ]
  },
  {
   "cell_type": "markdown",
   "id": "17410bf2-457d-4003-a595-bffcc17f37eb",
   "metadata": {
    "papermill": {},
    "tags": []
   },
   "source": [
    "### Display result"
   ]
  },
  {
   "cell_type": "code",
   "execution_count": null,
   "id": "edd400f0-6872-4340-a71e-1d75c575ea9b",
   "metadata": {
    "papermill": {},
    "tags": []
   },
   "outputs": [],
   "source": [
    "print(response.text)"
   ]
  },
  {
   "cell_type": "markdown",
   "id": "1d5e4fa0-2e33-4752-bb27-58e7df7461ed",
   "metadata": {
    "papermill": {},
    "tags": []
   },
   "source": [
    " "
   ]
  }
 ],
 "metadata": {
  "kernelspec": {
   "display_name": "Python 3",
   "language": "python",
   "name": "python3"
  },
  "language_info": {
   "codemirror_mode": {
    "name": "ipython",
    "version": 3
   },
   "file_extension": ".py",
   "mimetype": "text/x-python",
   "name": "python",
   "nbconvert_exporter": "python",
   "pygments_lexer": "ipython3",
   "version": "3.9.6"
  },
  "widgets": {
   "application/vnd.jupyter.widget-state+json": {
    "state": {},
    "version_major": 2,
    "version_minor": 0
   }
  }
 },
 "nbformat": 4,
 "nbformat_minor": 5
}
