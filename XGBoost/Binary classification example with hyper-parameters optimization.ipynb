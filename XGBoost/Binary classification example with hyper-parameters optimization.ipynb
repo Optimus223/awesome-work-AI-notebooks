{
 "cells": [
  {
   "cell_type": "markdown",
   "id": "latin-packing",
   "metadata": {
    "execution": {
     "iopub.execute_input": "2021-02-23T14:22:16.610471Z",
     "iopub.status.busy": "2021-02-23T14:22:16.610129Z",
     "iopub.status.idle": "2021-02-23T14:22:16.627784Z",
     "shell.execute_reply": "2021-02-23T14:22:16.626866Z",
     "shell.execute_reply.started": "2021-02-23T14:22:16.610384Z"
    },
    "papermill": {},
    "tags": []
   },
   "source": [
    "<img width=\"10%\" alt=\"Naas\" src=\"https://landen.imgix.net/jtci2pxwjczr/assets/5ice39g4.png?w=160\"/>"
   ]
  },
  {
   "cell_type": "markdown",
   "id": "compressed-wilson",
   "metadata": {
    "papermill": {},
    "tags": []
   },
   "source": [
    "# XGBoost - A binary classification example with hyper-parameters optimization\n",
    "<a href=\"https://app.naas.ai/user-redirect/naas/downloader?url=https://raw.githubusercontent.com/jupyter-naas/awesome-notebooks/master/template.ipynb\" target=\"_parent\">\n",
    "<img src=\"https://img.shields.io/badge/-Open%20in%20Naas-success?labelColor=000000&logo=data:image/svg+xml;base64,PD94bWwgdmVyc2lvbj0iMS4wIiBlbmNvZGluZz0iVVRGLTgiPz4KPHN2ZyB3aWR0aD0iMTAyNHB4IiBoZWlnaHQ9IjEwMjRweCIgdmlld0JveD0iMCAwIDEwMjQgMTAyNCIgeG1sbnM9Imh0dHA6Ly93d3cudzMub3JnLzIwMDAvc3ZnIiB4bWxuczp4bGluaz0iaHR0cDovL3d3dy53My5vcmcvMTk5OS94bGluayIgdmVyc2lvbj0iMS4xIj4KIDwhLS0gR2VuZXJhdGVkIGJ5IFBpeGVsbWF0b3IgUHJvIDIuMC41IC0tPgogPGRlZnM+CiAgPHRleHQgaWQ9InN0cmluZyIgdHJhbnNmb3JtPSJtYXRyaXgoMS4wIDAuMCAwLjAgMS4wIDIyOC4wIDU0LjUpIiBmb250LWZhbWlseT0iQ29tZm9ydGFhLVJlZ3VsYXIsIENvbWZvcnRhYSIgZm9udC1zaXplPSI4MDAiIHRleHQtZGVjb3JhdGlvbj0ibm9uZSIgZmlsbD0iI2ZmZmZmZiIgeD0iMS4xOTk5OTk5OTk5OTk5ODg2IiB5PSI3MDUuMCI+bjwvdGV4dD4KIDwvZGVmcz4KIDx1c2UgaWQ9Im4iIHhsaW5rOmhyZWY9IiNzdHJpbmciLz4KPC9zdmc+Cg==\"/>\n",
    "</a>"
   ]
  },
  {
   "cell_type": "markdown",
   "id": "religious-programmer",
   "metadata": {},
   "source": [
    "**Tags:** #xgboost #snippet #classification #tabular #cross-validation #optimization #modeling"
   ]
  },
  {
   "cell_type": "markdown",
   "id": "1fe9f56e-561c-4f52-aef8-b861c9462107",
   "metadata": {},
   "source": [
    "**Author:** [Oussama El Bahaoui](https://www.linkedin.com/in/oelbahaoui/)"
   ]
  },
  {
   "cell_type": "markdown",
   "id": "31ea7cdb-e10d-43fc-b026-f69249a59736",
   "metadata": {},
   "source": [
    "[XGBoost outperforms ML/DL models ](https://arxiv.org/pdf/2106.03253.pdf) when it comes to tabular data.\n",
    "\n",
    "This is a recipe for a sample training code of a XGBoost binary classification model, including hyper-parameters optimization using a grid search."
   ]
  },
  {
   "cell_type": "markdown",
   "id": "distinguished-truth",
   "metadata": {
    "papermill": {},
    "tags": []
   },
   "source": [
    "## Input"
   ]
  },
  {
   "cell_type": "markdown",
   "id": "numeric-mediterranean",
   "metadata": {},
   "source": [
    "### Install required packages"
   ]
  },
  {
   "cell_type": "code",
   "execution_count": null,
   "id": "potential-surfing",
   "metadata": {
    "execution": {
     "iopub.status.busy": "2022-10-14T17:44:19.177440Z",
     "iopub.status.idle": "2022-10-14T17:44:19.177778Z",
     "shell.execute_reply": "2022-10-14T17:44:19.177612Z"
    },
    "scrolled": true,
    "tags": []
   },
   "outputs": [],
   "source": [
    "%pip install xgboost"
   ]
  },
  {
   "cell_type": "markdown",
   "id": "bfdf7da0-5596-4a68-a211-ab0c5810c38c",
   "metadata": {},
   "source": [
    "### Import packages"
   ]
  },
  {
   "cell_type": "code",
   "execution_count": 64,
   "id": "18694d57-5e1d-4131-8b6f-a1ca8d3f4eab",
   "metadata": {
    "execution": {
     "iopub.execute_input": "2022-10-14T17:37:28.804742Z",
     "iopub.status.busy": "2022-10-14T17:37:28.804462Z",
     "iopub.status.idle": "2022-10-14T17:37:28.808489Z",
     "shell.execute_reply": "2022-10-14T17:37:28.807567Z",
     "shell.execute_reply.started": "2022-10-14T17:37:28.804713Z"
    },
    "tags": []
   },
   "outputs": [],
   "source": [
    "import pandas as pd\n",
    "\n",
    "from sklearn.datasets import load_breast_cancer\n",
    "from sklearn.model_selection import train_test_split\n",
    "from sklearn.model_selection import GridSearchCV\n",
    "from sklearn.metrics import accuracy_score\n",
    "\n",
    "from xgboost import XGBClassifier"
   ]
  },
  {
   "cell_type": "markdown",
   "id": "aggressive-trustee",
   "metadata": {},
   "source": [
    "### Variables"
   ]
  },
  {
   "cell_type": "markdown",
   "id": "cc26df02-8421-43eb-843e-e6ecd391db18",
   "metadata": {},
   "source": [
    "Define a parameter grid that will be explored during the hyper-parameters optimization."
   ]
  },
  {
   "cell_type": "code",
   "execution_count": 79,
   "id": "continuous-melbourne",
   "metadata": {
    "execution": {
     "iopub.execute_input": "2022-10-14T17:50:39.514139Z",
     "iopub.status.busy": "2022-10-14T17:50:39.513908Z",
     "iopub.status.idle": "2022-10-14T17:50:39.517821Z",
     "shell.execute_reply": "2022-10-14T17:50:39.517196Z",
     "shell.execute_reply.started": "2022-10-14T17:50:39.514114Z"
    },
    "tags": []
   },
   "outputs": [],
   "source": [
    "# Random seed.\n",
    "SEED = 42\n",
    "\n",
    "# A parameters grid for XGBoost classifier.\n",
    "PARAMS = {\n",
    "    'objective': ['binary:logistic'],\n",
    "    'nthread': [-1],\n",
    "    'random_state': [SEED],\n",
    "    \n",
    "    'min_child_weight': [1, 5, 10],\n",
    "    'max_depth': [3, 4, 5],\n",
    "    'learning_rate': [0.01, 0.02, 0.3],\n",
    "    'n_estimators': [100, 200, 500],\n",
    "}"
   ]
  },
  {
   "cell_type": "markdown",
   "id": "58b3261e-fbba-42fc-a194-1f46d27a1299",
   "metadata": {},
   "source": [
    "### Read the dataseet"
   ]
  },
  {
   "cell_type": "code",
   "execution_count": 66,
   "id": "ca79f3f7-fe7f-40b0-afd9-b04e931c97fa",
   "metadata": {
    "execution": {
     "iopub.execute_input": "2022-10-14T17:37:30.760113Z",
     "iopub.status.busy": "2022-10-14T17:37:30.759833Z",
     "iopub.status.idle": "2022-10-14T17:37:30.778187Z",
     "shell.execute_reply": "2022-10-14T17:37:30.777533Z",
     "shell.execute_reply.started": "2022-10-14T17:37:30.760084Z"
    },
    "tags": []
   },
   "outputs": [],
   "source": [
    "# Load a toy dataset for binary classification task.\n",
    "\n",
    "data = load_breast_cancer(as_frame=True)"
   ]
  },
  {
   "cell_type": "markdown",
   "id": "registered-showcase",
   "metadata": {},
   "source": [
    "## Model"
   ]
  },
  {
   "cell_type": "markdown",
   "id": "e91ca097-bfd8-4c51-a390-ab4aa1b1368c",
   "metadata": {},
   "source": [
    "### Create input features and labels"
   ]
  },
  {
   "cell_type": "code",
   "execution_count": 67,
   "id": "719b89f6-37ab-4278-ae7e-292b4f95f69a",
   "metadata": {
    "execution": {
     "iopub.execute_input": "2022-10-14T17:37:31.657492Z",
     "iopub.status.busy": "2022-10-14T17:37:31.657195Z",
     "iopub.status.idle": "2022-10-14T17:37:31.664300Z",
     "shell.execute_reply": "2022-10-14T17:37:31.663116Z",
     "shell.execute_reply.started": "2022-10-14T17:37:31.657461Z"
    },
    "tags": []
   },
   "outputs": [],
   "source": [
    "X = data[\"data\"]\n",
    "y = data[\"target\"]"
   ]
  },
  {
   "cell_type": "markdown",
   "id": "tested-astrology",
   "metadata": {},
   "source": [
    "### Split the dataset into train and test sets"
   ]
  },
  {
   "cell_type": "code",
   "execution_count": 80,
   "id": "8d1e7b3a-8029-435f-b2c2-5f708b7b0e9c",
   "metadata": {
    "execution": {
     "iopub.execute_input": "2022-10-14T17:50:45.170860Z",
     "iopub.status.busy": "2022-10-14T17:50:45.170627Z",
     "iopub.status.idle": "2022-10-14T17:50:45.175938Z",
     "shell.execute_reply": "2022-10-14T17:50:45.175396Z",
     "shell.execute_reply.started": "2022-10-14T17:50:45.170836Z"
    },
    "tags": []
   },
   "outputs": [],
   "source": [
    "# Use 70% of the data for training and 30% for testing.\n",
    "\n",
    "X_train, X_test, y_train, y_test = train_test_split(X, y, test_size=0.3, random_state=SEED)"
   ]
  },
  {
   "cell_type": "markdown",
   "id": "b0f3f658-c7a3-4575-a683-d1f721a7ba33",
   "metadata": {},
   "source": [
    "### Create a model"
   ]
  },
  {
   "cell_type": "code",
   "execution_count": 82,
   "id": "c09e89a4-bb8d-4f45-86d7-583baa8c223e",
   "metadata": {
    "execution": {
     "iopub.execute_input": "2022-10-14T17:50:53.055008Z",
     "iopub.status.busy": "2022-10-14T17:50:53.054782Z",
     "iopub.status.idle": "2022-10-14T17:50:53.057896Z",
     "shell.execute_reply": "2022-10-14T17:50:53.057263Z",
     "shell.execute_reply.started": "2022-10-14T17:50:53.054985Z"
    },
    "tags": []
   },
   "outputs": [],
   "source": [
    "# Create a XGBoost classifier model.\n",
    "\n",
    "model = XGBClassifier()"
   ]
  },
  {
   "cell_type": "markdown",
   "id": "f3ea6867-c761-4a16-9a20-5dc0dee2e22a",
   "metadata": {},
   "source": [
    "### Optimize the model's hyper-parameters using grid search"
   ]
  },
  {
   "cell_type": "markdown",
   "id": "49710e4c-b056-489c-afe7-40600f96df6c",
   "metadata": {},
   "source": [
    "A good practice is to perform a [cross-validation training](https://scikit-learn.org/stable/modules/cross_validation.html).\n",
    "\n",
    "3 or 5-folds are the most recommended values. But to run the notebook faster, we'll reduce it to 2."
   ]
  },
  {
   "cell_type": "code",
   "execution_count": 83,
   "id": "f091c9f9-e938-4ae8-bbc8-0df6f3058095",
   "metadata": {
    "execution": {
     "iopub.execute_input": "2022-10-14T17:50:59.041755Z",
     "iopub.status.busy": "2022-10-14T17:50:59.041523Z",
     "iopub.status.idle": "2022-10-14T17:52:38.909102Z",
     "shell.execute_reply": "2022-10-14T17:52:38.908451Z",
     "shell.execute_reply.started": "2022-10-14T17:50:59.041731Z"
    },
    "tags": []
   },
   "outputs": [
    {
     "name": "stdout",
     "output_type": "stream",
     "text": [
      "Fitting 2 folds for each of 81 candidates, totalling 162 fits\n"
     ]
    }
   ],
   "source": [
    "# Perfom a grid search on the hyper-parameters defined in the PARAM dict.\n",
    "\n",
    "grid_search = GridSearchCV(\n",
    "    estimator=model,\n",
    "    param_grid=PARAMS,\n",
    "    scoring = 'accuracy',\n",
    "    n_jobs = -1,\n",
    "    cv = 2,\n",
    "    verbose=True\n",
    ").fit(X_train, y_train)"
   ]
  },
  {
   "cell_type": "markdown",
   "id": "7f19f10b-cd68-4b54-b045-3ffba3d0b145",
   "metadata": {},
   "source": [
    "Note that the training above takes about 2min to finish. Increasing the number of CV folds will also increase the execution time."
   ]
  },
  {
   "cell_type": "markdown",
   "id": "lonely-pacific",
   "metadata": {
    "execution": {
     "iopub.execute_input": "2021-07-02T23:32:10.789097Z",
     "iopub.status.busy": "2021-07-02T23:32:10.788829Z",
     "iopub.status.idle": "2021-07-02T23:32:10.796900Z",
     "shell.execute_reply": "2021-07-02T23:32:10.796358Z",
     "shell.execute_reply.started": "2021-07-02T23:32:10.789033Z"
    }
   },
   "source": [
    "## Output"
   ]
  },
  {
   "cell_type": "markdown",
   "id": "a7af3d52-1d47-461e-b943-8461ff88fd4f",
   "metadata": {},
   "source": [
    "## Accuracy on test data"
   ]
  },
  {
   "cell_type": "code",
   "execution_count": 84,
   "id": "8b4b850a-cd35-46b4-927f-349e582227d1",
   "metadata": {
    "execution": {
     "iopub.execute_input": "2022-10-14T17:53:04.390690Z",
     "iopub.status.busy": "2022-10-14T17:53:04.390469Z",
     "iopub.status.idle": "2022-10-14T17:53:04.400745Z",
     "shell.execute_reply": "2022-10-14T17:53:04.400021Z",
     "shell.execute_reply.started": "2022-10-14T17:53:04.390666Z"
    },
    "tags": []
   },
   "outputs": [
    {
     "name": "stdout",
     "output_type": "stream",
     "text": [
      "Accuracy: 0.9707602339181286\n"
     ]
    }
   ],
   "source": [
    "# Evaluate on the test data.\n",
    "\n",
    "y_pred = grid_search.predict(X_test)\n",
    "print(\"Accuracy:\", accuracy_score(y_test, y_pred))"
   ]
  },
  {
   "cell_type": "markdown",
   "id": "757053c8-c51a-4478-a571-0d26b52d3ba3",
   "metadata": {},
   "source": [
    "## Best parameters"
   ]
  },
  {
   "cell_type": "code",
   "execution_count": 85,
   "id": "7c83b8de-3e21-4c3f-ad46-19eaa7b61f31",
   "metadata": {
    "execution": {
     "iopub.execute_input": "2022-10-14T17:53:07.662155Z",
     "iopub.status.busy": "2022-10-14T17:53:07.661920Z",
     "iopub.status.idle": "2022-10-14T17:53:07.666624Z",
     "shell.execute_reply": "2022-10-14T17:53:07.665778Z",
     "shell.execute_reply.started": "2022-10-14T17:53:07.662129Z"
    },
    "tags": []
   },
   "outputs": [
    {
     "data": {
      "text/plain": [
       "{'learning_rate': 0.02,\n",
       " 'max_depth': 4,\n",
       " 'min_child_weight': 1,\n",
       " 'n_estimators': 500,\n",
       " 'nthread': -1,\n",
       " 'objective': 'binary:logistic',\n",
       " 'random_state': 42}"
      ]
     },
     "execution_count": 85,
     "metadata": {},
     "output_type": "execute_result"
    }
   ],
   "source": [
    "grid_search.best_params_"
   ]
  },
  {
   "cell_type": "markdown",
   "id": "ab0b2ad1-50bd-4dcc-8689-72f914257e87",
   "metadata": {},
   "source": [
    "## Saving the model"
   ]
  },
  {
   "cell_type": "code",
   "execution_count": 87,
   "id": "31598e0e-9a4a-44c8-8494-d859d00e7c74",
   "metadata": {
    "execution": {
     "iopub.execute_input": "2022-10-14T17:53:58.491582Z",
     "iopub.status.busy": "2022-10-14T17:53:58.491310Z",
     "iopub.status.idle": "2022-10-14T17:54:00.024231Z",
     "shell.execute_reply": "2022-10-14T17:54:00.023634Z",
     "shell.execute_reply.started": "2022-10-14T17:53:58.491554Z"
    },
    "tags": []
   },
   "outputs": [],
   "source": [
    "# Recreate the model using the best hyper-parameters.\n",
    "\n",
    "best_model = XGBClassifier(**grid_search.best_params_).fit(X_train, y_train)"
   ]
  },
  {
   "cell_type": "code",
   "execution_count": 89,
   "id": "35845791-2211-4767-ac19-1dcc281c672c",
   "metadata": {
    "execution": {
     "iopub.execute_input": "2022-10-14T17:54:27.167665Z",
     "iopub.status.busy": "2022-10-14T17:54:27.167409Z",
     "iopub.status.idle": "2022-10-14T17:54:27.226077Z",
     "shell.execute_reply": "2022-10-14T17:54:27.225418Z",
     "shell.execute_reply.started": "2022-10-14T17:54:27.167640Z"
    },
    "tags": []
   },
   "outputs": [],
   "source": [
    "# Saving the model as a json file.\n",
    "\n",
    "best_model.save_model(\"best_model.json\")"
   ]
  },
  {
   "cell_type": "markdown",
   "id": "c22b0661-f91d-47ea-942b-3be8af4ed5f1",
   "metadata": {},
   "source": [
    "## (Optional) Load the model"
   ]
  },
  {
   "cell_type": "code",
   "execution_count": 96,
   "id": "1dc2544a-5989-4e69-8e41-9b37f88ea517",
   "metadata": {
    "execution": {
     "iopub.execute_input": "2022-10-14T17:59:53.244130Z",
     "iopub.status.busy": "2022-10-14T17:59:53.243904Z",
     "iopub.status.idle": "2022-10-14T17:59:53.288783Z",
     "shell.execute_reply": "2022-10-14T17:59:53.288178Z",
     "shell.execute_reply.started": "2022-10-14T17:59:53.244109Z"
    },
    "tags": []
   },
   "outputs": [],
   "source": [
    "from xgboost import Booster, DMatrix\n",
    "\n",
    "trained_model = XGBClassifier()\n",
    "trained_model.load_model(\"best_model.json\")"
   ]
  }
 ],
 "metadata": {
  "kernelspec": {
   "display_name": "Python 3",
   "language": "python",
   "name": "python3"
  },
  "language_info": {
   "codemirror_mode": {
    "name": "ipython",
    "version": 3
   },
   "file_extension": ".py",
   "mimetype": "text/x-python",
   "name": "python",
   "nbconvert_exporter": "python",
   "pygments_lexer": "ipython3",
   "version": "3.9.6"
  },
  "papermill": {
   "default_parameters": {},
   "environment_variables": {},
   "parameters": {},
   "version": "2.3.3"
  },
  "widgets": {
   "application/vnd.jupyter.widget-state+json": {
    "state": {},
    "version_major": 2,
    "version_minor": 0
   }
  }
 },
 "nbformat": 4,
 "nbformat_minor": 5
}
