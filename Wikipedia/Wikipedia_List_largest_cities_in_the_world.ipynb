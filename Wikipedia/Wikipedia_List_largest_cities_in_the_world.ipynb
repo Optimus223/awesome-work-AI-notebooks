{
 "cells": [
  {
   "cell_type": "markdown",
   "id": "3552b2da-b8ac-432d-87ae-54b4d3dd6290",
   "metadata": {
    "papermill": {},
    "tags": []
   },
   "source": [
    "<img width=\"10%\" alt=\"Naas\" src=\"https://landen.imgix.net/jtci2pxwjczr/assets/5ice39g4.png?w=160\"/>"
   ]
  },
  {
   "cell_type": "markdown",
   "id": "8de22b45-2012-44f2-b44a-67a25b6b3a05",
   "metadata": {
    "papermill": {},
    "tags": []
   },
   "source": [
    "# Wikipedia - List of largest cities in the world"
   ]
  },
  {
   "cell_type": "markdown",
   "id": "9c8f8098-6f1f-456c-a043-22b1f67f266e",
   "metadata": {
    "papermill": {},
    "tags": []
   },
   "source": [
    "**Tags:** #wikipedia #list #cities #largest #world #data"
   ]
  },
  {
   "cell_type": "markdown",
   "id": "fb34f026-ee4e-45bd-944e-aebf4ab645f7",
   "metadata": {
    "papermill": {},
    "tags": []
   },
   "source": [
    "**Author:** [Florent Ravenel](http://linkedin.com/in/florent-ravenel)"
   ]
  },
  {
   "cell_type": "markdown",
   "id": "fc41d712-b94f-4309-bf7b-f071aa334da0",
   "metadata": {
    "papermill": {},
    "tags": []
   },
   "source": [
    "**Description:** This notebook will show how to extract the list of the largest cities in the world using pandas.read_html() on Wikipedia."
   ]
  },
  {
   "cell_type": "markdown",
   "id": "1b296127-aed8-4dc2-976f-b8c2db034815",
   "metadata": {
    "papermill": {},
    "tags": []
   },
   "source": [
    "**References:**\n",
    "- [List of cities by population](https://en.wikipedia.org/wiki/List_of_cities_by_population)"
   ]
  },
  {
   "cell_type": "markdown",
   "id": "eb266cd6-4136-47d8-ab9b-3cd2073b3b82",
   "metadata": {
    "papermill": {},
    "tags": []
   },
   "source": [
    "## Input"
   ]
  },
  {
   "cell_type": "markdown",
   "id": "7e58a256-fbb5-46fc-bf64-bf67d5cc0be1",
   "metadata": {
    "papermill": {},
    "tags": []
   },
   "source": [
    "### Import libraries"
   ]
  },
  {
   "cell_type": "code",
   "execution_count": 1,
   "id": "d4f87e3b-35d8-4631-94e5-21e87fe2bfd9",
   "metadata": {
    "execution": {
     "iopub.execute_input": "2023-03-29T17:27:44.836225Z",
     "iopub.status.busy": "2023-03-29T17:27:44.835769Z",
     "iopub.status.idle": "2023-03-29T17:27:45.811918Z",
     "shell.execute_reply": "2023-03-29T17:27:45.810832Z",
     "shell.execute_reply.started": "2023-03-29T17:27:44.836018Z"
    },
    "papermill": {},
    "tags": []
   },
   "outputs": [],
   "source": [
    "import pandas as pd"
   ]
  },
  {
   "cell_type": "markdown",
   "id": "7dd79abf-d939-4e4d-be37-811979272e4a",
   "metadata": {
    "papermill": {},
    "tags": []
   },
   "source": [
    "### Setup Variables\n",
    "- `url`: URL of the Wikipedia page containing the list of cities by population"
   ]
  },
  {
   "cell_type": "code",
   "execution_count": 2,
   "id": "6b5fc540-a8ee-4a6a-9044-08ceb111cf2e",
   "metadata": {
    "execution": {
     "iopub.execute_input": "2023-03-29T17:27:45.813223Z",
     "iopub.status.busy": "2023-03-29T17:27:45.812949Z",
     "iopub.status.idle": "2023-03-29T17:27:45.817194Z",
     "shell.execute_reply": "2023-03-29T17:27:45.816271Z",
     "shell.execute_reply.started": "2023-03-29T17:27:45.813187Z"
    },
    "papermill": {},
    "tags": []
   },
   "outputs": [],
   "source": [
    "# Inputs\n",
    "url = \"https://en.wikipedia.org/wiki/List_of_cities_by_population\""
   ]
  },
  {
   "cell_type": "markdown",
   "id": "7e6810c3-0f49-498a-a6ef-904416a6774d",
   "metadata": {
    "papermill": {},
    "tags": []
   },
   "source": [
    "## Model"
   ]
  },
  {
   "cell_type": "markdown",
   "id": "0f5fa962-4dce-4a89-989c-4e08a4bccca9",
   "metadata": {
    "papermill": {},
    "tags": []
   },
   "source": [
    "### Extract table"
   ]
  },
  {
   "cell_type": "code",
   "execution_count": 6,
   "id": "a69dd504-af9f-49d4-8758-10273bc51244",
   "metadata": {
    "execution": {
     "iopub.execute_input": "2023-03-29T17:28:04.390783Z",
     "iopub.status.busy": "2023-03-29T17:28:04.390536Z",
     "iopub.status.idle": "2023-03-29T17:28:04.583063Z",
     "shell.execute_reply": "2023-03-29T17:28:04.582159Z",
     "shell.execute_reply.started": "2023-03-29T17:28:04.390755Z"
    },
    "papermill": {},
    "tags": []
   },
   "outputs": [
    {
     "name": "stdout",
     "output_type": "stream",
     "text": [
      "Rows fetched: 82\n"
     ]
    }
   ],
   "source": [
    "df_table = pd.read_html(url)[1]\n",
    "print('Rows fetched:', len(df_table))"
   ]
  },
  {
   "cell_type": "markdown",
   "id": "617d37b4-2915-4149-8bf0-9ea3b957f241",
   "metadata": {},
   "source": [
    "### Clean table"
   ]
  },
  {
   "cell_type": "code",
   "execution_count": 7,
   "id": "0fe88ec7-4e85-4b6e-be52-3163b997da7d",
   "metadata": {
    "execution": {
     "iopub.execute_input": "2023-03-29T17:28:06.649536Z",
     "iopub.status.busy": "2023-03-29T17:28:06.649265Z",
     "iopub.status.idle": "2023-03-29T17:28:06.674521Z",
     "shell.execute_reply": "2023-03-29T17:28:06.673444Z",
     "shell.execute_reply.started": "2023-03-29T17:28:06.649506Z"
    },
    "tags": []
   },
   "outputs": [
    {
     "name": "stdout",
     "output_type": "stream",
     "text": [
      "Cities fetched: 81\n"
     ]
    },
    {
     "data": {
      "text/html": [
       "<div>\n",
       "<style scoped>\n",
       "    .dataframe tbody tr th:only-of-type {\n",
       "        vertical-align: middle;\n",
       "    }\n",
       "\n",
       "    .dataframe tbody tr th {\n",
       "        vertical-align: top;\n",
       "    }\n",
       "\n",
       "    .dataframe thead tr th {\n",
       "        text-align: left;\n",
       "    }\n",
       "</style>\n",
       "<table border=\"1\" class=\"dataframe\">\n",
       "  <thead>\n",
       "    <tr>\n",
       "      <th></th>\n",
       "      <th>City[a]</th>\n",
       "      <th>Country</th>\n",
       "      <th>UN 2018 population estimates[b]</th>\n",
       "      <th colspan=\"4\" halign=\"left\">City proper[c]</th>\n",
       "      <th colspan=\"3\" halign=\"left\">Urban area[8]</th>\n",
       "      <th colspan=\"3\" halign=\"left\">Metropolitan area[d]</th>\n",
       "    </tr>\n",
       "    <tr>\n",
       "      <th></th>\n",
       "      <th>City[a]</th>\n",
       "      <th>Country</th>\n",
       "      <th>UN 2018 population estimates[b]</th>\n",
       "      <th>Definition</th>\n",
       "      <th>Population</th>\n",
       "      <th>Area .mw-parser-output .nobold{font-weight:normal}(km2)</th>\n",
       "      <th>Density (/km2)</th>\n",
       "      <th>Population</th>\n",
       "      <th>Area (km2)</th>\n",
       "      <th>Density (/km2)</th>\n",
       "      <th>Population</th>\n",
       "      <th>Area (km2)</th>\n",
       "      <th>Density (/km2)</th>\n",
       "    </tr>\n",
       "  </thead>\n",
       "  <tbody>\n",
       "    <tr>\n",
       "      <th>1</th>\n",
       "      <td>Tokyo</td>\n",
       "      <td>Japan</td>\n",
       "      <td>37468000.0</td>\n",
       "      <td>Metropolis prefecture</td>\n",
       "      <td>13515271</td>\n",
       "      <td>2191</td>\n",
       "      <td>6,169 [13]</td>\n",
       "      <td>37732000</td>\n",
       "      <td>8231</td>\n",
       "      <td>4,584 [e]</td>\n",
       "      <td>37274000</td>\n",
       "      <td>13452</td>\n",
       "      <td>2,771 [14]</td>\n",
       "    </tr>\n",
       "    <tr>\n",
       "      <th>2</th>\n",
       "      <td>Delhi</td>\n",
       "      <td>India</td>\n",
       "      <td>28514000.0</td>\n",
       "      <td>Capital City</td>\n",
       "      <td>16753235</td>\n",
       "      <td>1484</td>\n",
       "      <td>11,289 [15]</td>\n",
       "      <td>32226000</td>\n",
       "      <td>2344</td>\n",
       "      <td>13,748 [f]</td>\n",
       "      <td>29000000</td>\n",
       "      <td>3483</td>\n",
       "      <td>8,326 [16]</td>\n",
       "    </tr>\n",
       "    <tr>\n",
       "      <th>3</th>\n",
       "      <td>Shanghai</td>\n",
       "      <td>China</td>\n",
       "      <td>25582000.0</td>\n",
       "      <td>Municipality</td>\n",
       "      <td>24870895</td>\n",
       "      <td>6341</td>\n",
       "      <td>3,922 [17][18]</td>\n",
       "      <td>24073000</td>\n",
       "      <td>4333</td>\n",
       "      <td>5,556 [g]</td>\n",
       "      <td>—</td>\n",
       "      <td>—</td>\n",
       "      <td>—</td>\n",
       "    </tr>\n",
       "    <tr>\n",
       "      <th>4</th>\n",
       "      <td>São Paulo</td>\n",
       "      <td>Brazil</td>\n",
       "      <td>21650000.0</td>\n",
       "      <td>Municipality</td>\n",
       "      <td>12252023</td>\n",
       "      <td>1521</td>\n",
       "      <td>8,055 [19]</td>\n",
       "      <td>23086000</td>\n",
       "      <td>3649</td>\n",
       "      <td>6,327 [h]</td>\n",
       "      <td>21734682</td>\n",
       "      <td>7947</td>\n",
       "      <td>2,735 [20]</td>\n",
       "    </tr>\n",
       "    <tr>\n",
       "      <th>5</th>\n",
       "      <td>Mexico City</td>\n",
       "      <td>Mexico</td>\n",
       "      <td>21581000.0</td>\n",
       "      <td>City-state</td>\n",
       "      <td>9209944</td>\n",
       "      <td>1485</td>\n",
       "      <td>6,202 [21]</td>\n",
       "      <td>21804000</td>\n",
       "      <td>2530</td>\n",
       "      <td>8618</td>\n",
       "      <td>21804515</td>\n",
       "      <td>7866</td>\n",
       "      <td>2,772 [22]</td>\n",
       "    </tr>\n",
       "  </tbody>\n",
       "</table>\n",
       "</div>"
      ],
      "text/plain": [
       "       City[a] Country UN 2018 population estimates[b]         City proper[c]  \\\n",
       "       City[a] Country UN 2018 population estimates[b]             Definition   \n",
       "1        Tokyo   Japan                      37468000.0  Metropolis prefecture   \n",
       "2        Delhi   India                      28514000.0           Capital City   \n",
       "3     Shanghai   China                      25582000.0           Municipality   \n",
       "4    São Paulo  Brazil                      21650000.0           Municipality   \n",
       "5  Mexico City  Mexico                      21581000.0             City-state   \n",
       "\n",
       "                                                                      \\\n",
       "  Population Area .mw-parser-output .nobold{font-weight:normal}(km2)   \n",
       "1   13515271                                               2191        \n",
       "2   16753235                                               1484        \n",
       "3   24870895                                               6341        \n",
       "4   12252023                                               1521        \n",
       "5    9209944                                               1485        \n",
       "\n",
       "                  Urban area[8]                            \\\n",
       "   Density (/km2)    Population Area (km2) Density (/km2)   \n",
       "1      6,169 [13]      37732000       8231      4,584 [e]   \n",
       "2     11,289 [15]      32226000       2344     13,748 [f]   \n",
       "3  3,922 [17][18]      24073000       4333      5,556 [g]   \n",
       "4      8,055 [19]      23086000       3649      6,327 [h]   \n",
       "5      6,202 [21]      21804000       2530           8618   \n",
       "\n",
       "  Metropolitan area[d]                            \n",
       "            Population Area (km2) Density (/km2)  \n",
       "1             37274000      13452     2,771 [14]  \n",
       "2             29000000       3483     8,326 [16]  \n",
       "3                    —          —              —  \n",
       "4             21734682       7947     2,735 [20]  \n",
       "5             21804515       7866     2,772 [22]  "
      ]
     },
     "execution_count": 7,
     "metadata": {},
     "output_type": "execute_result"
    }
   ],
   "source": [
    "df_clean = df_table.copy()\n",
    "\n",
    "# Dropna\n",
    "df_clean = df_clean.dropna()\n",
    "\n",
    "# # Flattern MultiIndex columns\n",
    "# df_clean.columns = df_clean.columns.get_level_values(1)\n",
    "\n",
    "print('Cities fetched:', len(df_clean))\n",
    "df_clean.head(5)"
   ]
  },
  {
   "cell_type": "markdown",
   "id": "588f05ca-a1b6-4109-a773-66f90cea05cc",
   "metadata": {
    "papermill": {},
    "tags": []
   },
   "source": [
    "## Output"
   ]
  },
  {
   "cell_type": "markdown",
   "id": "aed7e574-a458-470e-892b-b790eeca7142",
   "metadata": {
    "papermill": {},
    "tags": []
   },
   "source": [
    "### Display result"
   ]
  },
  {
   "cell_type": "code",
   "execution_count": 5,
   "id": "3b959b49-c629-4c67-adfe-90303fa96821",
   "metadata": {
    "execution": {
     "iopub.execute_input": "2023-03-29T17:27:46.267750Z",
     "iopub.status.busy": "2023-03-29T17:27:46.267488Z",
     "iopub.status.idle": "2023-03-29T17:27:46.343832Z",
     "shell.execute_reply": "2023-03-29T17:27:46.342667Z",
     "shell.execute_reply.started": "2023-03-29T17:27:46.267719Z"
    },
    "papermill": {},
    "tags": []
   },
   "outputs": [
    {
     "data": {
      "text/html": [
       "<div>\n",
       "<style scoped>\n",
       "    .dataframe tbody tr th:only-of-type {\n",
       "        vertical-align: middle;\n",
       "    }\n",
       "\n",
       "    .dataframe tbody tr th {\n",
       "        vertical-align: top;\n",
       "    }\n",
       "\n",
       "    .dataframe thead tr th {\n",
       "        text-align: left;\n",
       "    }\n",
       "</style>\n",
       "<table border=\"1\" class=\"dataframe\">\n",
       "  <thead>\n",
       "    <tr>\n",
       "      <th></th>\n",
       "      <th>City[a]</th>\n",
       "      <th>Country</th>\n",
       "      <th>UN 2018 population estimates[b]</th>\n",
       "      <th colspan=\"4\" halign=\"left\">City proper[c]</th>\n",
       "      <th colspan=\"3\" halign=\"left\">Urban area[8]</th>\n",
       "      <th colspan=\"3\" halign=\"left\">Metropolitan area[d]</th>\n",
       "    </tr>\n",
       "    <tr>\n",
       "      <th></th>\n",
       "      <th>City[a]</th>\n",
       "      <th>Country</th>\n",
       "      <th>UN 2018 population estimates[b]</th>\n",
       "      <th>Definition</th>\n",
       "      <th>Population</th>\n",
       "      <th>Area .mw-parser-output .nobold{font-weight:normal}(km2)</th>\n",
       "      <th>Density (/km2)</th>\n",
       "      <th>Population</th>\n",
       "      <th>Area (km2)</th>\n",
       "      <th>Density (/km2)</th>\n",
       "      <th>Population</th>\n",
       "      <th>Area (km2)</th>\n",
       "      <th>Density (/km2)</th>\n",
       "    </tr>\n",
       "  </thead>\n",
       "  <tbody>\n",
       "    <tr>\n",
       "      <th>1</th>\n",
       "      <td>Tokyo</td>\n",
       "      <td>Japan</td>\n",
       "      <td>37468000.0</td>\n",
       "      <td>Metropolis prefecture</td>\n",
       "      <td>13515271</td>\n",
       "      <td>2191</td>\n",
       "      <td>6,169 [13]</td>\n",
       "      <td>37732000</td>\n",
       "      <td>8231</td>\n",
       "      <td>4,584 [e]</td>\n",
       "      <td>37274000</td>\n",
       "      <td>13452</td>\n",
       "      <td>2,771 [14]</td>\n",
       "    </tr>\n",
       "    <tr>\n",
       "      <th>2</th>\n",
       "      <td>Delhi</td>\n",
       "      <td>India</td>\n",
       "      <td>28514000.0</td>\n",
       "      <td>Capital City</td>\n",
       "      <td>16753235</td>\n",
       "      <td>1484</td>\n",
       "      <td>11,289 [15]</td>\n",
       "      <td>32226000</td>\n",
       "      <td>2344</td>\n",
       "      <td>13,748 [f]</td>\n",
       "      <td>29000000</td>\n",
       "      <td>3483</td>\n",
       "      <td>8,326 [16]</td>\n",
       "    </tr>\n",
       "    <tr>\n",
       "      <th>3</th>\n",
       "      <td>Shanghai</td>\n",
       "      <td>China</td>\n",
       "      <td>25582000.0</td>\n",
       "      <td>Municipality</td>\n",
       "      <td>24870895</td>\n",
       "      <td>6341</td>\n",
       "      <td>3,922 [17][18]</td>\n",
       "      <td>24073000</td>\n",
       "      <td>4333</td>\n",
       "      <td>5,556 [g]</td>\n",
       "      <td>—</td>\n",
       "      <td>—</td>\n",
       "      <td>—</td>\n",
       "    </tr>\n",
       "    <tr>\n",
       "      <th>4</th>\n",
       "      <td>São Paulo</td>\n",
       "      <td>Brazil</td>\n",
       "      <td>21650000.0</td>\n",
       "      <td>Municipality</td>\n",
       "      <td>12252023</td>\n",
       "      <td>1521</td>\n",
       "      <td>8,055 [19]</td>\n",
       "      <td>23086000</td>\n",
       "      <td>3649</td>\n",
       "      <td>6,327 [h]</td>\n",
       "      <td>21734682</td>\n",
       "      <td>7947</td>\n",
       "      <td>2,735 [20]</td>\n",
       "    </tr>\n",
       "    <tr>\n",
       "      <th>5</th>\n",
       "      <td>Mexico City</td>\n",
       "      <td>Mexico</td>\n",
       "      <td>21581000.0</td>\n",
       "      <td>City-state</td>\n",
       "      <td>9209944</td>\n",
       "      <td>1485</td>\n",
       "      <td>6,202 [21]</td>\n",
       "      <td>21804000</td>\n",
       "      <td>2530</td>\n",
       "      <td>8618</td>\n",
       "      <td>21804515</td>\n",
       "      <td>7866</td>\n",
       "      <td>2,772 [22]</td>\n",
       "    </tr>\n",
       "  </tbody>\n",
       "</table>\n",
       "</div>"
      ],
      "text/plain": [
       "       City[a] Country UN 2018 population estimates[b]         City proper[c]  \\\n",
       "       City[a] Country UN 2018 population estimates[b]             Definition   \n",
       "1        Tokyo   Japan                      37468000.0  Metropolis prefecture   \n",
       "2        Delhi   India                      28514000.0           Capital City   \n",
       "3     Shanghai   China                      25582000.0           Municipality   \n",
       "4    São Paulo  Brazil                      21650000.0           Municipality   \n",
       "5  Mexico City  Mexico                      21581000.0             City-state   \n",
       "\n",
       "                                                                      \\\n",
       "  Population Area .mw-parser-output .nobold{font-weight:normal}(km2)   \n",
       "1   13515271                                               2191        \n",
       "2   16753235                                               1484        \n",
       "3   24870895                                               6341        \n",
       "4   12252023                                               1521        \n",
       "5    9209944                                               1485        \n",
       "\n",
       "                  Urban area[8]                            \\\n",
       "   Density (/km2)    Population Area (km2) Density (/km2)   \n",
       "1      6,169 [13]      37732000       8231      4,584 [e]   \n",
       "2     11,289 [15]      32226000       2344     13,748 [f]   \n",
       "3  3,922 [17][18]      24073000       4333      5,556 [g]   \n",
       "4      8,055 [19]      23086000       3649      6,327 [h]   \n",
       "5      6,202 [21]      21804000       2530           8618   \n",
       "\n",
       "  Metropolitan area[d]                            \n",
       "            Population Area (km2) Density (/km2)  \n",
       "1             37274000      13452     2,771 [14]  \n",
       "2             29000000       3483     8,326 [16]  \n",
       "3                    —          —              —  \n",
       "4             21734682       7947     2,735 [20]  \n",
       "5             21804515       7866     2,772 [22]  "
      ]
     },
     "execution_count": 5,
     "metadata": {},
     "output_type": "execute_result"
    }
   ],
   "source": [
    "df_clean.head(5)"
   ]
  },
  {
   "cell_type": "markdown",
   "id": "df97f091-1291-441b-ab72-d5dac2303860",
   "metadata": {
    "papermill": {},
    "tags": []
   },
   "source": [
    " "
   ]
  }
 ],
 "metadata": {
  "kernelspec": {
   "display_name": "Python 3",
   "language": "python",
   "name": "python3"
  },
  "language_info": {
   "codemirror_mode": {
    "name": "ipython",
    "version": 3
   },
   "file_extension": ".py",
   "mimetype": "text/x-python",
   "name": "python",
   "nbconvert_exporter": "python",
   "pygments_lexer": "ipython3",
   "version": "3.9.6"
  },
  "widgets": {
   "application/vnd.jupyter.widget-state+json": {
    "state": {},
    "version_major": 2,
    "version_minor": 0
   }
  }
 },
 "nbformat": 4,
 "nbformat_minor": 5
}
