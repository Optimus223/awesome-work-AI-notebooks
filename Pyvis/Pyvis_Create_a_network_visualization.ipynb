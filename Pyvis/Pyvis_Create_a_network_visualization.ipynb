{
 "cells": [
  {
   "cell_type": "markdown",
   "id": "latin-packing",
   "metadata": {
    "execution": {
     "iopub.execute_input": "2021-02-23T14:22:16.610471Z",
     "iopub.status.busy": "2021-02-23T14:22:16.610129Z",
     "iopub.status.idle": "2021-02-23T14:22:16.627784Z",
     "shell.execute_reply": "2021-02-23T14:22:16.626866Z",
     "shell.execute_reply.started": "2021-02-23T14:22:16.610384Z"
    },
    "papermill": {},
    "tags": []
   },
   "source": [
    "<img width=\"10%\" alt=\"Naas\" src=\"https://landen.imgix.net/jtci2pxwjczr/assets/5ice39g4.png?w=160\"/>"
   ]
  },
  {
   "cell_type": "markdown",
   "id": "compressed-wilson",
   "metadata": {
    "papermill": {},
    "tags": []
   },
   "source": [
    "# Pyvis - Create a network visualization\n",
    "<a href=\"https://app.naas.ai/user-redirect/naas/downloader?url=https://raw.githubusercontent.com/jupyter-naas/awesome-notebooks/master/template.ipynb\" target=\"_parent\">\n",
    "<img src=\"https://img.shields.io/badge/-Open%20in%20Naas-success?labelColor=000000&logo=data:image/svg+xml;base64,PD94bWwgdmVyc2lvbj0iMS4wIiBlbmNvZGluZz0iVVRGLTgiPz4KPHN2ZyB3aWR0aD0iMTAyNHB4IiBoZWlnaHQ9IjEwMjRweCIgdmlld0JveD0iMCAwIDEwMjQgMTAyNCIgeG1sbnM9Imh0dHA6Ly93d3cudzMub3JnLzIwMDAvc3ZnIiB4bWxuczp4bGluaz0iaHR0cDovL3d3dy53My5vcmcvMTk5OS94bGluayIgdmVyc2lvbj0iMS4xIj4KIDwhLS0gR2VuZXJhdGVkIGJ5IFBpeGVsbWF0b3IgUHJvIDIuMC41IC0tPgogPGRlZnM+CiAgPHRleHQgaWQ9InN0cmluZyIgdHJhbnNmb3JtPSJtYXRyaXgoMS4wIDAuMCAwLjAgMS4wIDIyOC4wIDU0LjUpIiBmb250LWZhbWlseT0iQ29tZm9ydGFhLVJlZ3VsYXIsIENvbWZvcnRhYSIgZm9udC1zaXplPSI4MDAiIHRleHQtZGVjb3JhdGlvbj0ibm9uZSIgZmlsbD0iI2ZmZmZmZiIgeD0iMS4xOTk5OTk5OTk5OTk5ODg2IiB5PSI3MDUuMCI+bjwvdGV4dD4KIDwvZGVmcz4KIDx1c2UgaWQ9Im4iIHhsaW5rOmhyZWY9IiNzdHJpbmciLz4KPC9zdmc+Cg==\"/>\n",
    "</a>"
   ]
  },
  {
   "cell_type": "markdown",
   "id": "religious-programmer",
   "metadata": {},
   "source": [
    "**Tags:** #python #naas #scheduler #network #snippet #analytics"
   ]
  },
  {
   "cell_type": "markdown",
   "id": "1fe9f56e-561c-4f52-aef8-b861c9462107",
   "metadata": {},
   "source": [
    "**Author:** [Jeremy Ravenel](https://www.linkedin.com/in/jeremyravenel/)"
   ]
  },
  {
   "cell_type": "markdown",
   "id": "31ea7cdb-e10d-43fc-b026-f69249a59736",
   "metadata": {},
   "source": [
    "**Description:** With this notebook, you can create a network graph to visualize the relations between different elements."
   ]
  },
  {
   "cell_type": "markdown",
   "id": "05c27135-236a-4727-bdce-c8e39cab1edc",
   "metadata": {},
   "source": [
    "**References:** https://pyvis.readthedocs.io/en/latest/tutorial.html"
   ]
  },
  {
   "cell_type": "markdown",
   "id": "distinguished-truth",
   "metadata": {
    "papermill": {},
    "tags": []
   },
   "source": [
    "## Input"
   ]
  },
  {
   "cell_type": "markdown",
   "id": "87f5d344-ecdd-4054-8696-34ed7f96548c",
   "metadata": {},
   "source": [
    "### Import packages"
   ]
  },
  {
   "cell_type": "code",
   "execution_count": 1,
   "id": "6b708479-188a-41ca-9180-46b6328b6621",
   "metadata": {
    "execution": {
     "iopub.execute_input": "2022-07-27T20:53:55.254070Z",
     "iopub.status.busy": "2022-07-27T20:53:55.253614Z",
     "iopub.status.idle": "2022-07-27T20:54:00.051325Z",
     "shell.execute_reply": "2022-07-27T20:54:00.050552Z",
     "shell.execute_reply.started": "2022-07-27T20:53:55.253990Z"
    },
    "jupyter": {
     "source_hidden": true
    },
    "tags": []
   },
   "outputs": [
    {
     "name": "stdout",
     "output_type": "stream",
     "text": [
      "Requirement already satisfied: pyvis in /opt/conda/lib/python3.9/site-packages (0.2.1)\n",
      "Requirement already satisfied: ipython>=5.3.0 in /opt/conda/lib/python3.9/site-packages (from pyvis) (7.23.1)\n",
      "Requirement already satisfied: networkx>=1.11 in /opt/conda/lib/python3.9/site-packages (from pyvis) (2.8.5)\n",
      "Requirement already satisfied: jinja2>=2.9.6 in /opt/conda/lib/python3.9/site-packages (from pyvis) (3.0.3)\n",
      "Requirement already satisfied: jsonpickle>=1.4.1 in /opt/conda/lib/python3.9/site-packages (from pyvis) (2.2.0)\n",
      "Requirement already satisfied: pexpect>4.3 in /opt/conda/lib/python3.9/site-packages (from ipython>=5.3.0->pyvis) (4.8.0)\n",
      "Requirement already satisfied: prompt-toolkit!=3.0.0,!=3.0.1,<3.1.0,>=2.0.0 in /opt/conda/lib/python3.9/site-packages (from ipython>=5.3.0->pyvis) (3.0.19)\n",
      "Requirement already satisfied: matplotlib-inline in /opt/conda/lib/python3.9/site-packages (from ipython>=5.3.0->pyvis) (0.1.2)\n",
      "Requirement already satisfied: jedi>=0.16 in /opt/conda/lib/python3.9/site-packages (from ipython>=5.3.0->pyvis) (0.18.0)\n",
      "Requirement already satisfied: pygments in /opt/conda/lib/python3.9/site-packages (from ipython>=5.3.0->pyvis) (2.9.0)\n",
      "Requirement already satisfied: decorator in /opt/conda/lib/python3.9/site-packages (from ipython>=5.3.0->pyvis) (5.0.9)\n",
      "Requirement already satisfied: traitlets>=4.2 in /opt/conda/lib/python3.9/site-packages (from ipython>=5.3.0->pyvis) (5.0.5)\n",
      "Requirement already satisfied: pickleshare in /opt/conda/lib/python3.9/site-packages (from ipython>=5.3.0->pyvis) (0.7.5)\n",
      "Requirement already satisfied: setuptools>=18.5 in /opt/conda/lib/python3.9/site-packages (from ipython>=5.3.0->pyvis) (49.6.0.post20210108)\n",
      "Requirement already satisfied: backcall in /opt/conda/lib/python3.9/site-packages (from ipython>=5.3.0->pyvis) (0.2.0)\n",
      "Requirement already satisfied: MarkupSafe>=2.0 in /opt/conda/lib/python3.9/site-packages (from jinja2>=2.9.6->pyvis) (2.0.1)\n",
      "Requirement already satisfied: parso<0.9.0,>=0.8.0 in /opt/conda/lib/python3.9/site-packages (from jedi>=0.16->ipython>=5.3.0->pyvis) (0.8.2)\n",
      "Requirement already satisfied: ptyprocess>=0.5 in /opt/conda/lib/python3.9/site-packages (from pexpect>4.3->ipython>=5.3.0->pyvis) (0.7.0)\n",
      "Requirement already satisfied: wcwidth in /opt/conda/lib/python3.9/site-packages (from prompt-toolkit!=3.0.0,!=3.0.1,<3.1.0,>=2.0.0->ipython>=5.3.0->pyvis) (0.2.5)\n",
      "Requirement already satisfied: ipython-genutils in /opt/conda/lib/python3.9/site-packages (from traitlets>=4.2->ipython>=5.3.0->pyvis) (0.2.0)\n",
      "\n",
      "\u001b[1m[\u001b[0m\u001b[34;49mnotice\u001b[0m\u001b[1;39;49m]\u001b[0m\u001b[39;49m A new release of pip available: \u001b[0m\u001b[31;49m22.1.2\u001b[0m\u001b[39;49m -> \u001b[0m\u001b[32;49m22.2\u001b[0m\n",
      "\u001b[1m[\u001b[0m\u001b[34;49mnotice\u001b[0m\u001b[1;39;49m]\u001b[0m\u001b[39;49m To update, run: \u001b[0m\u001b[32;49mpip install --upgrade pip\u001b[0m\n",
      "Note: you may need to restart the kernel to use updated packages.\n"
     ]
    }
   ],
   "source": [
    "pip install pyvis"
   ]
  },
  {
   "cell_type": "markdown",
   "id": "numeric-mediterranean",
   "metadata": {},
   "source": [
    "### Import library"
   ]
  },
  {
   "cell_type": "code",
   "execution_count": 2,
   "id": "potential-surfing",
   "metadata": {
    "execution": {
     "iopub.execute_input": "2022-07-27T20:54:00.053017Z",
     "iopub.status.busy": "2022-07-27T20:54:00.052704Z",
     "iopub.status.idle": "2022-07-27T20:54:02.423064Z",
     "shell.execute_reply": "2022-07-27T20:54:02.422469Z",
     "shell.execute_reply.started": "2022-07-27T20:54:00.052982Z"
    },
    "jupyter": {
     "source_hidden": true
    },
    "tags": []
   },
   "outputs": [],
   "source": [
    "import naas\n",
    "from pyvis.network import Network"
   ]
  },
  {
   "cell_type": "markdown",
   "id": "aggressive-trustee",
   "metadata": {},
   "source": [
    "### Setup the global variables for the network"
   ]
  },
  {
   "cell_type": "code",
   "execution_count": 3,
   "id": "continuous-melbourne",
   "metadata": {
    "execution": {
     "iopub.execute_input": "2022-07-27T20:54:02.425864Z",
     "iopub.status.busy": "2022-07-27T20:54:02.425677Z",
     "iopub.status.idle": "2022-07-27T20:54:02.438972Z",
     "shell.execute_reply": "2022-07-27T20:54:02.438452Z",
     "shell.execute_reply.started": "2022-07-27T20:54:02.425843Z"
    }
   },
   "outputs": [],
   "source": [
    "network_name = \"pyvis_example\"\n",
    "net = Network(notebook=True, height='750px', width='100%', bgcolor='#222222', font_color='white')"
   ]
  },
  {
   "cell_type": "markdown",
   "id": "25015cf0-4ee4-418a-8371-a163d179d9e8",
   "metadata": {},
   "source": [
    "### Create master nodes with images and specific properties"
   ]
  },
  {
   "cell_type": "code",
   "execution_count": 4,
   "id": "c11aae54-33b4-4f21-889a-988ddf28a079",
   "metadata": {
    "execution": {
     "iopub.execute_input": "2022-07-27T20:54:02.440200Z",
     "iopub.status.busy": "2022-07-27T20:54:02.439957Z",
     "iopub.status.idle": "2022-07-27T20:54:02.541877Z",
     "shell.execute_reply": "2022-07-27T20:54:02.541278Z",
     "shell.execute_reply.started": "2022-07-27T20:54:02.440171Z"
    }
   },
   "outputs": [],
   "source": [
    "# Create master nodes with images and specific properties\n",
    "net.add_node(3, shape='image', image =\"https://upload.wikimedia.org/wikipedia/commons/thumb/c/ca/LinkedIn_logo_initials.png/768px-LinkedIn_logo_initials.png\")\n",
    "net.add_node(4, shape='image', image =\"https://www.stemmarine.it/wp-content/uploads/2018/08/youtube-logo.png\", color=\"#FF0000\")\n",
    "net.add_node(5, shape='image', image =\"https://pnggrid.com/wp-content/uploads/2021/07/Twitter-Logo-Square.png\", color=\"#1DA1F2\")"
   ]
  },
  {
   "cell_type": "markdown",
   "id": "50809dc0-e80e-4c71-8be5-fbbdf620c3b8",
   "metadata": {},
   "source": [
    "### Create other simple nodes"
   ]
  },
  {
   "cell_type": "code",
   "execution_count": 5,
   "id": "ede1c7f7-cd29-49e2-be8a-db9484848959",
   "metadata": {
    "execution": {
     "iopub.execute_input": "2022-07-27T20:54:02.543194Z",
     "iopub.status.busy": "2022-07-27T20:54:02.542943Z",
     "iopub.status.idle": "2022-07-27T20:54:02.643575Z",
     "shell.execute_reply": "2022-07-27T20:54:02.642930Z",
     "shell.execute_reply.started": "2022-07-27T20:54:02.543161Z"
    }
   },
   "outputs": [],
   "source": [
    "\n",
    "net.add_nodes(\n",
    "    [1, 2, 6, 7, 8, 9, 10, 11, 12, 13, 14],\n",
    "    label=[\"Setup\", \"Common\", \"Get post\", \"Get followers\",\"Get views\",\"Get post\", \"Get followers\",\"Get views\",\"Get post\", \"Get followers\",\"Get views\"],\n",
    "    color=[\"#26cc67\", \"black\",\"#0072b1\",\"#0072b1\", \"#0072b1\",\"#1DA1F2\", \"#1DA1F2\", \"#1DA1F2\",\"#FF0000\",\"#FF0000\",\"#FF0000\",],\n",
    ")"
   ]
  },
  {
   "cell_type": "markdown",
   "id": "registered-showcase",
   "metadata": {},
   "source": [
    "## Model"
   ]
  },
  {
   "cell_type": "markdown",
   "id": "tested-astrology",
   "metadata": {},
   "source": [
    "### Create simple edge"
   ]
  },
  {
   "cell_type": "code",
   "execution_count": 6,
   "id": "crude-louisville",
   "metadata": {
    "execution": {
     "iopub.execute_input": "2022-07-27T20:54:02.646275Z",
     "iopub.status.busy": "2022-07-27T20:54:02.646085Z",
     "iopub.status.idle": "2022-07-27T20:54:02.745109Z",
     "shell.execute_reply": "2022-07-27T20:54:02.744477Z",
     "shell.execute_reply.started": "2022-07-27T20:54:02.646255Z"
    },
    "papermill": {},
    "tags": []
   },
   "outputs": [],
   "source": [
    "net.add_edge(1, 5)"
   ]
  },
  {
   "cell_type": "markdown",
   "id": "f7dbb2e1-d578-4be9-b9e5-16872a4d472d",
   "metadata": {},
   "source": [
    "### Create multiple edges"
   ]
  },
  {
   "cell_type": "code",
   "execution_count": 7,
   "id": "9cca845f-3a67-4e5f-9721-903970bee206",
   "metadata": {
    "execution": {
     "iopub.execute_input": "2022-07-27T20:54:02.747011Z",
     "iopub.status.busy": "2022-07-27T20:54:02.746754Z",
     "iopub.status.idle": "2022-07-27T20:54:02.851729Z",
     "shell.execute_reply": "2022-07-27T20:54:02.851001Z",
     "shell.execute_reply.started": "2022-07-27T20:54:02.746979Z"
    },
    "tags": []
   },
   "outputs": [],
   "source": [
    "net.add_edges([(1,2),(1, 3), (1, 4), (3,2), (4,2), (5,2), \n",
    "               (3,6), (3,7), (3,8), (6,2), (7,2), (8,2), \n",
    "              (5,9), (5,10), (5,11),(9,2), (10,2), (11,2),\n",
    "               (4,12), (4,13), (4,14),(14,2), (13,2), (12,2)])"
   ]
  },
  {
   "cell_type": "markdown",
   "id": "lonely-pacific",
   "metadata": {
    "execution": {
     "iopub.execute_input": "2021-07-02T23:32:10.789097Z",
     "iopub.status.busy": "2021-07-02T23:32:10.788829Z",
     "iopub.status.idle": "2021-07-02T23:32:10.796900Z",
     "shell.execute_reply": "2021-07-02T23:32:10.796358Z",
     "shell.execute_reply.started": "2021-07-02T23:32:10.789033Z"
    }
   },
   "source": [
    "## Output"
   ]
  },
  {
   "cell_type": "markdown",
   "id": "890f7c86-b7bb-4f5d-9a1b-e492dd9580fd",
   "metadata": {},
   "source": [
    "### Show results"
   ]
  },
  {
   "cell_type": "code",
   "execution_count": 8,
   "id": "9c4e3b7b-6440-4844-8054-265f1aec65eb",
   "metadata": {
    "execution": {
     "iopub.execute_input": "2022-07-27T20:54:02.853366Z",
     "iopub.status.busy": "2022-07-27T20:54:02.853132Z",
     "iopub.status.idle": "2022-07-27T20:54:02.996343Z",
     "shell.execute_reply": "2022-07-27T20:54:02.995508Z",
     "shell.execute_reply.started": "2022-07-27T20:54:02.853337Z"
    },
    "tags": []
   },
   "outputs": [
    {
     "data": {
      "text/html": [
       "\n",
       "        <iframe\n",
       "            width=\"100%\"\n",
       "            height=\"750px\"\n",
       "            src=\"pyvis_example.html\"\n",
       "            frameborder=\"0\"\n",
       "            allowfullscreen\n",
       "        ></iframe>\n",
       "        "
      ],
      "text/plain": [
       "<IPython.lib.display.IFrame at 0x7fae6526e400>"
      ]
     },
     "execution_count": 8,
     "metadata": {},
     "output_type": "execute_result"
    }
   ],
   "source": [
    "network = net.show(f\"{network_name}.html\")\n",
    "network"
   ]
  },
  {
   "cell_type": "markdown",
   "id": "a28950bb-1d7d-4835-a83a-faac837ebc7c",
   "metadata": {},
   "source": [
    "### Share your output"
   ]
  },
  {
   "cell_type": "code",
   "execution_count": 9,
   "id": "db205965-a2dc-4541-ba8e-db3250d1cff0",
   "metadata": {
    "execution": {
     "iopub.execute_input": "2022-07-27T20:54:02.998722Z",
     "iopub.status.busy": "2022-07-27T20:54:02.998524Z",
     "iopub.status.idle": "2022-07-27T20:54:04.345928Z",
     "shell.execute_reply": "2022-07-27T20:54:04.345281Z",
     "shell.execute_reply.started": "2022-07-27T20:54:02.998701Z"
    },
    "tags": []
   },
   "outputs": [
    {
     "name": "stdout",
     "output_type": "stream",
     "text": [
      "👌 Well done! Your Assets has been sent to production.\n",
      "\n"
     ]
    },
    {
     "data": {
      "application/javascript": [
       "\n",
       "    if (!window.copyToClipboard) {\n",
       "        window.copyToClipboard = (text) => {\n",
       "            const dummy = document.createElement(\"textarea\");\n",
       "            document.body.appendChild(dummy);\n",
       "            dummy.value = text;\n",
       "            dummy.select();\n",
       "            document.execCommand(\"copy\");\n",
       "            document.body.removeChild(dummy);\n",
       "        }\n",
       "    }\n",
       "    "
      ],
      "text/plain": [
       "<IPython.core.display.Javascript object>"
      ]
     },
     "metadata": {},
     "output_type": "display_data"
    },
    {
     "data": {
      "application/vnd.jupyter.widget-view+json": {
       "model_id": "bfbdea8a511f47018d165ed1be63b5b0",
       "version_major": 2,
       "version_minor": 0
      },
      "text/plain": [
       "Button(button_style='primary', description='Copy URL', style=ButtonStyle())"
      ]
     },
     "metadata": {},
     "output_type": "display_data"
    },
    {
     "data": {
      "application/vnd.jupyter.widget-view+json": {
       "model_id": "1452a7bf7f1d4e69b4f95bacb1df8464",
       "version_major": 2,
       "version_minor": 0
      },
      "text/plain": [
       "Output()"
      ]
     },
     "metadata": {},
     "output_type": "display_data"
    },
    {
     "name": "stdout",
     "output_type": "stream",
     "text": [
      "PS: to remove the \"Assets\" feature, just replace .add by .delete\n"
     ]
    },
    {
     "data": {
      "text/plain": [
       "'https://public.naas.ai/amVyZW15LTQwbmFhcy0yRWFp/asset/af032f33dbfc6df41684ef18e84066b802942c565a17b308daafb4171b6b'"
      ]
     },
     "execution_count": 9,
     "metadata": {},
     "output_type": "execute_result"
    }
   ],
   "source": [
    "naas.asset.add(f\"{network_name}.html\",{\"inline\": True})\n",
    "\n",
    "#-> Uncomment the line below to remove your asset\n",
    "# naas.asset.delete()"
   ]
  }
 ],
 "metadata": {
  "kernelspec": {
   "display_name": "Python 3",
   "language": "python",
   "name": "python3"
  },
  "language_info": {
   "codemirror_mode": {
    "name": "ipython",
    "version": 3
   },
   "file_extension": ".py",
   "mimetype": "text/x-python",
   "name": "python",
   "nbconvert_exporter": "python",
   "pygments_lexer": "ipython3",
   "version": "3.9.6"
  },
  "papermill": {
   "default_parameters": {},
   "environment_variables": {},
   "parameters": {},
   "version": "2.3.3"
  },
  "widgets": {
   "application/vnd.jupyter.widget-state+json": {
    "state": {},
    "version_major": 2,
    "version_minor": 0
   }
  }
 },
 "nbformat": 4,
 "nbformat_minor": 5
}
