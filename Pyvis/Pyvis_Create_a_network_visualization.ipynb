{
 "cells": [
  {
   "cell_type": "markdown",
   "id": "latin-packing",
   "metadata": {
    "execution": {
     "iopub.execute_input": "2021-02-23T14:22:16.610471Z",
     "iopub.status.busy": "2021-02-23T14:22:16.610129Z",
     "iopub.status.idle": "2021-02-23T14:22:16.627784Z",
     "shell.execute_reply": "2021-02-23T14:22:16.626866Z",
     "shell.execute_reply.started": "2021-02-23T14:22:16.610384Z"
    },
    "papermill": {},
    "tags": []
   },
   "source": [
    "<img width=\"8%\" alt=\"Pyvis.png\" src=\"https://raw.githubusercontent.com/jupyter-naas/awesome-notebooks/master/.github/assets/logos/Pyvis.png\" style=\"border-radius: 15%\">"
   ]
  },
  {
   "cell_type": "markdown",
   "id": "compressed-wilson",
   "metadata": {
    "papermill": {},
    "tags": []
   },
   "source": [
    "# Pyvis - Create a network visualization\n",
    "<a href=\"https://app.naas.ai/user-redirect/naas/downloader?url=https://raw.githubusercontent.com/jupyter-naas/awesome-notebooks/master/Pyvis/Pyvis_Create_a_network_visualization.ipynb\" target=\"_parent\"><img src=\"https://naasai-public.s3.eu-west-3.amazonaws.com/Open_in_Naas_Lab.svg\"/></a><br><br><a href=\"https://bit.ly/3JyWIk6\">Give Feedback</a> | <a href=\"https://github.com/jupyter-naas/awesome-notebooks/issues/new?assignees=&labels=bug&template=bug_report.md&title=Pyvis+-+Create+a+network+visualization:+Error+short+description\">Bug report</a>"
   ]
  },
  {
   "cell_type": "markdown",
   "id": "religious-programmer",
   "metadata": {
    "papermill": {},
    "tags": []
   },
   "source": [
    "**Tags:** #python #naas #scheduler #network #snippet #analytics"
   ]
  },
  {
   "cell_type": "markdown",
   "id": "1fe9f56e-561c-4f52-aef8-b861c9462107",
   "metadata": {
    "papermill": {},
    "tags": []
   },
   "source": [
    "**Author:** [Jaime Dols Duxans](https://www.linkedin.com/in/duxans/)"
   ]
  },
  {
   "cell_type": "markdown",
   "id": "9f4457c5-1377-4167-8528-fdb7449f2d2d",
   "metadata": {
    "papermill": {},
    "tags": []
   },
   "source": [
    "**Last update:** 2023-11-25 (Created: 2022-07-27)"
   ]
  },
  {
   "cell_type": "markdown",
   "id": "31ea7cdb-e10d-43fc-b026-f69249a59736",
   "metadata": {
    "papermill": {},
    "tags": []
   },
   "source": [
    "**Description:** With this notebook you can visualize all the awesome-notebooks templates as a graph network."
   ]
  },
  {
   "cell_type": "markdown",
   "id": "05c27135-236a-4727-bdce-c8e39cab1edc",
   "metadata": {
    "papermill": {},
    "tags": []
   },
   "source": [
    "**References:** https://pyvis.readthedocs.io/en/latest/tutorial.html"
   ]
  },
  {
   "cell_type": "markdown",
   "id": "distinguished-truth",
   "metadata": {
    "papermill": {},
    "tags": []
   },
   "source": [
    "## Input"
   ]
  },
  {
   "cell_type": "markdown",
   "id": "87f5d344-ecdd-4054-8696-34ed7f96548c",
   "metadata": {
    "papermill": {},
    "tags": []
   },
   "source": [
    "### Import packages"
   ]
  },
  {
   "cell_type": "code",
   "execution_count": null,
   "id": "6b708479-188a-41ca-9180-46b6328b6621",
   "metadata": {
    "papermill": {},
    "tags": []
   },
   "outputs": [],
   "source": [
    "#%pip install --upgrade pip\n",
    "%pip install pyvis"
   ]
  },
  {
   "cell_type": "markdown",
   "id": "numeric-mediterranean",
   "metadata": {
    "papermill": {},
    "tags": []
   },
   "source": [
    "### Import library"
   ]
  },
  {
   "cell_type": "code",
   "execution_count": null,
   "id": "potential-surfing",
   "metadata": {
    "papermill": {},
    "tags": []
   },
   "outputs": [],
   "source": [
    "import naas\n",
    "from pyvis.network import Network\n",
    "import pandas as pd"
   ]
  },
  {
   "cell_type": "markdown",
   "id": "aggressive-trustee",
   "metadata": {
    "papermill": {},
    "tags": []
   },
   "source": [
    "### Setup the global variables"
   ]
  },
  {
   "cell_type": "code",
   "execution_count": null,
   "id": "continuous-melbourne",
   "metadata": {
    "papermill": {},
    "tags": []
   },
   "outputs": [],
   "source": [
    "# Data file in the same working directory in .json or .csv format.\n",
    "file = \"templates.json\"\n",
    "\n",
    "# The gravity model used in the visualization (choose and test your favourite)\n",
    "solver = 'force_atlas_2based'\n",
    "\n",
    "# Name output file\n",
    "network_name = \"pyvis_example\"\n",
    "\n",
    "# Initializing the Pyvis network\n",
    "net=Network(height='1400px', width='100%', bgcolor='#222222', font_color='white')\n",
    "\n",
    "# Pick your favourite physics model\n",
    "solver ='force_atlas_2based'"
   ]
  },
  {
   "cell_type": "markdown",
   "id": "5e33617b-66be-4d01-bf9b-239c54e1700f",
   "metadata": {
    "execution": {
     "iopub.execute_input": "2023-11-27T21:52:46.664462Z",
     "iopub.status.busy": "2023-11-27T21:52:46.664234Z",
     "iopub.status.idle": "2023-11-27T21:52:46.667548Z",
     "shell.execute_reply": "2023-11-27T21:52:46.666892Z",
     "shell.execute_reply.started": "2023-11-27T21:52:46.664439Z"
    },
    "tags": []
   },
   "source": [
    "### Read data from a JSON or CSV file"
   ]
  },
  {
   "cell_type": "code",
   "execution_count": null,
   "id": "b4890390-d5ac-4706-b172-e2bb9ed327fe",
   "metadata": {
    "tags": []
   },
   "outputs": [],
   "source": [
    "if file.endswith('.json'):\n",
    "    df_temp = pd.read_json(file)\n",
    "elif file.endswith('.csv'):\n",
    "    df_temp = pd.read_csv(file)\n",
    "else:\n",
    "    print(f\"File {file} is not a JSON or CSV file.\")"
   ]
  },
  {
   "cell_type": "markdown",
   "id": "25015cf0-4ee4-418a-8371-a163d179d9e8",
   "metadata": {
    "papermill": {},
    "tags": []
   },
   "source": [
    "### Model"
   ]
  },
  {
   "cell_type": "code",
   "execution_count": null,
   "id": "c11aae54-33b4-4f21-889a-988ddf28a079",
   "metadata": {
    "papermill": {},
    "tags": []
   },
   "outputs": [],
   "source": [
    "# Physics solver. Choose one from Pyvis documentation  \n",
    "net.force_atlas_2based()\n",
    "\n",
    "# Pull data\n",
    "tools = list(df_temp['tool'])\n",
    "images = list(df_temp['image_url'])\n",
    "notebooks = list(df_temp['notebook'])\n",
    "\n",
    "# Create a dictionary of tools and images\n",
    "tool_img = dict(zip(tools, images))\n",
    "\n",
    "# Add tool nodes\n",
    "for tool in tools:\n",
    "    if tool == 'Naas':\n",
    "        net.add_node(tool, title=tool, image=tool_img[tool], shape='image', mass=30, size=150, level=1, fixed=True, x=0, y=0,physics=False)\n",
    "    if tool == 'OpenAI':\n",
    "        #this large node was bouncing around very fast, so I fixed it\n",
    "        net.add_node(tool, title=tool, image=tool_img[tool], shape='image', size=60, level=1, fixed=True, x=-1000, y=2000, physics=False)\n",
    "    else:\n",
    "        net.add_node(tool, title=tool, image=tool_img[tool], shape='image',size=60,level=1, physics=False)\n",
    "\n",
    "# Add notebook nodes\n",
    "for notebook in notebooks:\n",
    "    net.add_node(notebook, title=notebook, size=30,level=2,color='#4d94db')\n",
    "\n",
    "# Add edges\n",
    "for _, node_e in df_temp.iterrows():\n",
    "    net.add_edge(node_e['tool'], node_e['notebook'], title=node_e['action'])"
   ]
  },
  {
   "cell_type": "markdown",
   "id": "50809dc0-e80e-4c71-8be5-fbbdf620c3b8",
   "metadata": {
    "papermill": {},
    "tags": []
   },
   "source": [
    "### Output"
   ]
  },
  {
   "cell_type": "code",
   "execution_count": null,
   "id": "ede1c7f7-cd29-49e2-be8a-db9484848959",
   "metadata": {
    "papermill": {},
    "tags": []
   },
   "outputs": [],
   "source": [
    "level_1_count = 0\n",
    "level_2_count = 0\n",
    "for node in net.nodes:\n",
    "    if node['level'] == 1:\n",
    "        level_1_count += 1\n",
    "    else:\n",
    "        level_2_count += 1\n",
    "\n",
    "print(\"Number of tool nodes: \", level_1_count)\n",
    "print(\"Number of notebook nodes: \", level_2_count)\n",
    "print(\"Total number of nodes: \", len(net.nodes) , \"\\n\")\n",
    "print(\"Total number of edges: \", len(net.edges), \"\\n\")\n"
   ]
  },
  {
   "cell_type": "markdown",
   "id": "registered-showcase",
   "metadata": {
    "papermill": {},
    "tags": []
   },
   "source": [
    "## Model"
   ]
  },
  {
   "cell_type": "markdown",
   "id": "lonely-pacific",
   "metadata": {
    "execution": {
     "iopub.execute_input": "2021-07-02T23:32:10.789097Z",
     "iopub.status.busy": "2021-07-02T23:32:10.788829Z",
     "iopub.status.idle": "2021-07-02T23:32:10.796900Z",
     "shell.execute_reply": "2021-07-02T23:32:10.796358Z",
     "shell.execute_reply.started": "2021-07-02T23:32:10.789033Z"
    },
    "papermill": {},
    "tags": []
   },
   "source": [
    "## Output"
   ]
  },
  {
   "cell_type": "markdown",
   "id": "890f7c86-b7bb-4f5d-9a1b-e492dd9580fd",
   "metadata": {
    "papermill": {},
    "tags": []
   },
   "source": [
    "### Show results"
   ]
  },
  {
   "cell_type": "code",
   "execution_count": null,
   "id": "9c4e3b7b-6440-4844-8054-265f1aec65eb",
   "metadata": {
    "papermill": {},
    "tags": []
   },
   "outputs": [],
   "source": [
    "# Saving the network to a HTML file in your workdir (optional)\n",
    "#net.write_html(f\"{network_name}.html\")\n",
    "\n",
    "network = net.show(f\"{network_name}.html\")\n",
    "network"
   ]
  },
  {
   "cell_type": "markdown",
   "id": "a28950bb-1d7d-4835-a83a-faac837ebc7c",
   "metadata": {
    "papermill": {},
    "tags": []
   },
   "source": [
    "### Share your output"
   ]
  },
  {
   "cell_type": "code",
   "execution_count": null,
   "id": "39bcdd24-a9f7-4522-acc8-cbe22dfad9d8",
   "metadata": {
    "tags": []
   },
   "outputs": [],
   "source": [
    "naas.asset.add(f\"{network_name}.html\", {\"inline\": True})\n",
    "\n",
    "# -> Uncomment the line below to remove your asset\n",
    "# naas.asset.delete()"
   ]
  }
 ],
 "metadata": {
  "kernelspec": {
   "display_name": "Python 3",
   "language": "python",
   "name": "python3"
  },
  "language_info": {
   "codemirror_mode": {
    "name": "ipython",
    "version": 3
   },
   "file_extension": ".py",
   "mimetype": "text/x-python",
   "name": "python",
   "nbconvert_exporter": "python",
   "pygments_lexer": "ipython3",
   "version": "3.9.6"
  },
  "naas": {
   "notebook_id": "2df55afca82f21837a817a57c842dcf4460d0908883b76b3c64576ef8f09f864",
   "notebook_path": "Pyvis/Pyvis_Create_a_network_visualization.ipynb"
  },
  "papermill": {
   "default_parameters": {},
   "environment_variables": {},
   "parameters": {},
   "version": "2.3.3"
  },
  "toc-autonumbering": false,
  "toc-showmarkdowntxt": false,
  "toc-showtags": false,
  "widgets": {
   "application/vnd.jupyter.widget-state+json": {
    "state": {},
    "version_major": 2,
    "version_minor": 0
   }
  }
 },
 "nbformat": 4,
 "nbformat_minor": 5
}
