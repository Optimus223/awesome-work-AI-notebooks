{
 "cells": [
  {
   "cell_type": "markdown",
   "id": "e04c2a66-0232-4311-8445-d69e43f287e7",
   "metadata": {
    "execution": {
     "iopub.execute_input": "2022-01-07T21:15:57.009861Z",
     "iopub.status.busy": "2022-01-07T21:15:57.009532Z",
     "iopub.status.idle": "2022-01-07T21:15:57.013136Z",
     "shell.execute_reply": "2022-01-07T21:15:57.012559Z",
     "shell.execute_reply.started": "2022-01-07T21:15:57.009826Z"
    },
    "tags": []
   },
   "source": [
    "<img width=\"10%\" alt=\"Naas\" src=\"https://landen.imgix.net/jtci2pxwjczr/assets/5ice39g4.png?w=160\"/>"
   ]
  },
  {
   "cell_type": "markdown",
   "id": "47c20033-2e43-4c30-9d89-6fd47bfa98e9",
   "metadata": {},
   "source": [
    "# Tiktok - Generate leads from post likes\n",
    "<a href=\"https://app.naas.ai/user-redirect/naas/downloader?url=https://raw.githubusercontent.com/jupyter-naas/awesome-notebooks/master/LinkedIn/LinkedIn_Get_comments_from_post.ipynb\" target=\"_parent\"><img src=\"https://img.shields.io/badge/-Open%20in%20Naas-success?labelColor=000000&logo=data:image/svg+xml;base64,PD94bWwgdmVyc2lvbj0iMS4wIiBlbmNvZGluZz0iVVRGLTgiPz4KPHN2ZyB3aWR0aD0iMTAyNHB4IiBoZWlnaHQ9IjEwMjRweCIgdmlld0JveD0iMCAwIDEwMjQgMTAyNCIgeG1sbnM9Imh0dHA6Ly93d3cudzMub3JnLzIwMDAvc3ZnIiB4bWxuczp4bGluaz0iaHR0cDovL3d3dy53My5vcmcvMTk5OS94bGluayIgdmVyc2lvbj0iMS4xIj4KIDwhLS0gR2VuZXJhdGVkIGJ5IFBpeGVsbWF0b3IgUHJvIDIuMC41IC0tPgogPGRlZnM+CiAgPHRleHQgaWQ9InN0cmluZyIgdHJhbnNmb3JtPSJtYXRyaXgoMS4wIDAuMCAwLjAgMS4wIDIyOC4wIDU0LjUpIiBmb250LWZhbWlseT0iQ29tZm9ydGFhLVJlZ3VsYXIsIENvbWZvcnRhYSIgZm9udC1zaXplPSI4MDAiIHRleHQtZGVjb3JhdGlvbj0ibm9uZSIgZmlsbD0iI2ZmZmZmZiIgeD0iMS4xOTk5OTk5OTk5OTk5ODg2IiB5PSI3MDUuMCI+bjwvdGV4dD4KIDwvZGVmcz4KIDx1c2UgaWQ9Im4iIHhsaW5rOmhyZWY9IiNzdHJpbmciLz4KPC9zdmc+Cg==\"/></a>"
   ]
  },
  {
   "cell_type": "markdown",
   "id": "6ec59f5e-ac9e-4ab0-a0e9-51b01b38dcaa",
   "metadata": {},
   "source": [
    "**Tags:** #tiktok #post #comments #naas_drivers #automation"
   ]
  },
  {
   "cell_type": "markdown",
   "id": "c40e4f30-0b07-4a3b-b39b-7cb460053f74",
   "metadata": {},
   "source": [
    "**Author:** [Alok Chilka](https://www.linkedin.com/in/calok64/)"
   ]
  },
  {
   "cell_type": "markdown",
   "id": "618b546f-943a-498c-9eb6-637a1e992f21",
   "metadata": {},
   "source": [
    "## Input"
   ]
  },
  {
   "cell_type": "markdown",
   "id": "91fc2ccf-9a27-40f4-bb62-df542a468bc6",
   "metadata": {
    "execution": {
     "iopub.execute_input": "2022-01-08T05:48:50.458541Z",
     "iopub.status.busy": "2022-01-08T05:48:50.458187Z",
     "iopub.status.idle": "2022-01-08T05:48:50.465249Z",
     "shell.execute_reply": "2022-01-08T05:48:50.464699Z",
     "shell.execute_reply.started": "2022-01-08T05:48:50.458451Z"
    }
   },
   "source": [
    "### Import libraries"
   ]
  },
  {
   "cell_type": "code",
   "execution_count": 23,
   "id": "4f6774a6-ff96-4c39-87a7-69a1fd3777cc",
   "metadata": {
    "execution": {
     "iopub.execute_input": "2022-03-11T05:29:10.084757Z",
     "iopub.status.busy": "2022-03-11T05:29:10.084528Z",
     "iopub.status.idle": "2022-03-11T05:29:10.088025Z",
     "shell.execute_reply": "2022-03-11T05:29:10.087376Z",
     "shell.execute_reply.started": "2022-03-11T05:29:10.084733Z"
    },
    "tags": []
   },
   "outputs": [],
   "source": [
    "from TikTokAPI import TikTokAPI\n",
    "import nest_asyncio"
   ]
  },
  {
   "cell_type": "code",
   "execution_count": null,
   "id": "8b668d42",
   "metadata": {},
   "outputs": [],
   "source": [
    "nest_asyncio.apply()"
   ]
  },
  {
   "cell_type": "markdown",
   "id": "958d3406-bf4c-48b9-b56b-ad4dad7caaae",
   "metadata": {},
   "source": [
    "### Setup your TikTok\n"
   ]
  },
  {
   "cell_type": "code",
   "execution_count": 24,
   "id": "cb06a98e-6e82-4a9e-bedc-9bc7a6cb30dc",
   "metadata": {
    "execution": {
     "iopub.execute_input": "2022-03-11T05:29:11.389971Z",
     "iopub.status.busy": "2022-03-11T05:29:11.389746Z",
     "iopub.status.idle": "2022-03-11T05:29:11.394453Z",
     "shell.execute_reply": "2022-03-11T05:29:11.393942Z",
     "shell.execute_reply.started": "2022-03-11T05:29:11.389948Z"
    },
    "tags": []
   },
   "outputs": [],
   "source": [
    "cookie = {\n",
    "  \"s_v_web_id\": \"verify_l0ecjehm_PMhuy3GZ_7a4m_4vR6_BSzG_U1Oq2NmTDMiK\",\n",
    "  \"tt_webid\": \"1%7CaSy-x8YGNmB_l9qsMRClKckKeW-t71V8QIQ2jZ35NvI%7C1646517086%7Ca6dee33eaaad19e8fd3b031542c414fd0de9ce1be147e88f280603e4fb32f1e8\"\n",
    "}"
   ]
  },
  {
   "cell_type": "code",
   "execution_count": 25,
   "id": "57e99862",
   "metadata": {},
   "outputs": [],
   "source": [
    "username = \"tiktester04\""
   ]
  },
  {
   "cell_type": "code",
   "execution_count": 36,
   "id": "1a91eab8",
   "metadata": {},
   "outputs": [],
   "source": [
    "#setup count of videos to be retrieved ( preferred count by api is 30)\n",
    "\n",
    "video_count = 30\n",
    "\n",
    "#set hashtag to identify and extract videos\n",
    "user_hastag = \"#projsma\""
   ]
  },
  {
   "cell_type": "markdown",
   "id": "5bcf12fb",
   "metadata": {},
   "source": [
    "### Create connection object"
   ]
  },
  {
   "cell_type": "code",
   "execution_count": 26,
   "id": "54e9a7db-a550-47d0-91b3-7b61ce615abd",
   "metadata": {
    "execution": {
     "iopub.execute_input": "2022-03-11T05:29:12.389177Z",
     "iopub.status.busy": "2022-03-11T05:29:12.388946Z",
     "iopub.status.idle": "2022-03-11T05:29:12.392847Z",
     "shell.execute_reply": "2022-03-11T05:29:12.392213Z",
     "shell.execute_reply.started": "2022-03-11T05:29:12.389152Z"
    },
    "tags": []
   },
   "outputs": [],
   "source": [
    "api = TikTokAPI(cookie=cookie)"
   ]
  },
  {
   "cell_type": "markdown",
   "id": "43fff853-fdf1-4949-a781-43b31e65cce9",
   "metadata": {},
   "source": [
    "## Model"
   ]
  },
  {
   "cell_type": "markdown",
   "id": "662dcde3-5093-4635-8971-677853e52f3e",
   "metadata": {},
   "source": [
    "### Get user stats"
   ]
  },
  {
   "cell_type": "code",
   "execution_count": 30,
   "id": "944f85cd-f3ed-45b2-867c-965f8eca83eb",
   "metadata": {
    "execution": {
     "iopub.execute_input": "2022-03-11T05:29:14.467635Z",
     "iopub.status.busy": "2022-03-11T05:29:14.467406Z",
     "iopub.status.idle": "2022-03-11T05:29:26.085593Z",
     "shell.execute_reply": "2022-03-11T05:29:26.084869Z",
     "shell.execute_reply.started": "2022-03-11T05:29:14.467612Z"
    },
    "tags": []
   },
   "outputs": [],
   "source": [
    "def get_user_stats(username):\n",
    "    #Get user details\n",
    "    '''\n",
    "    User detail fields : video count, follower count, following count, heart count\n",
    "    '''\n",
    "\n",
    "    user_obj = api.getUserByName(username)\n",
    "    user_video_count = user_obj[\"userInfo\"][\"stats\"][\"videoCount\"]\n",
    "    user_follower_count = user_obj[\"userInfo\"][\"stats\"][\"followerCount\"]\n",
    "    user_following_count = user_obj[\"userInfo\"][\"stats\"][\"followingCount\"]\n",
    "    user_heart_count = user_obj[\"userInfo\"][\"stats\"][\"heartCount\"]\n",
    "\n",
    "    user_stats = {\n",
    "        \"user_video_count\":user_video_count,\n",
    "        \"user_follower_count\":user_follower_count,\n",
    "        \"user_following_count\":user_following_count,\n",
    "        \"user_heart_count\":user_heart_count\n",
    "\n",
    "    }\n",
    "\n",
    "    return user_stats\n"
   ]
  },
  {
   "cell_type": "markdown",
   "id": "da6d5ea2",
   "metadata": {},
   "source": [
    "### Get videos by user"
   ]
  },
  {
   "cell_type": "code",
   "execution_count": 43,
   "id": "f40d0a0b",
   "metadata": {},
   "outputs": [],
   "source": [
    "def get_videos_by_user(username):\n",
    "    #Get videos by userName\n",
    "    '''\n",
    "    Video ID\n",
    "\n",
    "    '''\n",
    "    userVideoIdList = []\n",
    "    #userVideos = api.getVideosByUserName(user_name=username, count=video_count,cursor=0)\n",
    "    userVideos = api.getVideosByHashTag(user_hastag,count=video_count)\n",
    "    userVideoList = userVideos[\"itemList\"]\n",
    "\n",
    "    for userVideo in userVideoList:\n",
    "      userVideoIdList.append(userVideo[\"video\"][\"id\"])\n",
    "    \n",
    "    return userVideoIdList"
   ]
  },
  {
   "cell_type": "markdown",
   "id": "222422d2",
   "metadata": {},
   "source": [
    "### Get individual videos by ID"
   ]
  },
  {
   "cell_type": "code",
   "execution_count": 60,
   "id": "b96534ef",
   "metadata": {},
   "outputs": [],
   "source": [
    "def get_video_stats_by_id(userVideoIdList):\n",
    "    video_stats = {}\n",
    "    for videoId in userVideoIdList:\n",
    "      video_stats[videoId] = \"\"\n",
    "      videoByID = api.getVideoById(videoId)\n",
    "      videoDesc = videoByID[\"itemInfo\"][\"itemStruct\"][\"desc\"]\n",
    "      videoCreateTime = videoByID[\"itemInfo\"][\"itemStruct\"][\"createTime\"]\n",
    "      videoLink = videoByID[\"itemInfo\"][\"itemStruct\"][\"video\"][\"playAddr\"]\n",
    "\n",
    "      videoStats = videoByID[\"itemInfo\"][\"itemStruct\"][\"stats\"]\n",
    "      videoLikeCount = videoStats[\"diggCount\"]\n",
    "      videoCommentCount = videoStats[\"commentCount\"]\n",
    "      videoPlayCount = videoStats[\"playCount\"]\n",
    "      videoShareCount = videoStats[\"shareCount\"]\n",
    "\n",
    "      #videoAuthor = videoByID[\"itemInfo\"][\"itemStruct\"][\"author\"]\n",
    "      #videoAuthorName = videoAuthor[\"uniqueId\"]\n",
    "      videoAuthorStats = videoByID[\"itemInfo\"][\"itemStruct\"][\"authorStats\"]\n",
    "      videoAuthorFollowerCount = videoAuthorStats[\"followerCount\"]\n",
    "      videoAuthorFollowingCount = videoAuthorStats[\"followingCount\"]\n",
    "      videoAuthorTotalVideoCount = videoAuthorStats[\"videoCount\"]\n",
    "      videoAuthorTotalHeartCount = videoAuthorStats[\"heartCount\"]\n",
    "\n",
    "      video_stats_obj = {\n",
    "\n",
    "        \"videoDesc\": videoDesc,\n",
    "        \"videoCreateTime\": videoCreateTime,\n",
    "        \"videoLink\": videoLink,\n",
    "\n",
    "        \"videoLikeCount\": videoLikeCount,\n",
    "        \"videoCommentCount\": videoCommentCount,\n",
    "        \"videoPlayCount\": videoPlayCount,\n",
    "        \"videoShareCount\": videoShareCount,\n",
    "\n",
    "        \"videoAuthorFollowerCount\": videoAuthorFollowerCount,\n",
    "        \"videoAuthorFollowingCount\": videoAuthorFollowingCount,\n",
    "        \"videoAuthorTotalVideoCount\": videoAuthorTotalVideoCount,\n",
    "        \"videoAuthorTotalHeartCount\": videoAuthorTotalHeartCount\n",
    "\n",
    "      }\n",
    "      video_stats[videoId] = video_stats_obj\n",
    "\n",
    "\n",
    "    return video_stats\n",
    "    #print(video_stats)"
   ]
  },
  {
   "cell_type": "markdown",
   "id": "5f6714c5",
   "metadata": {},
   "source": [
    "## Output"
   ]
  },
  {
   "cell_type": "markdown",
   "id": "d2a8f0a3",
   "metadata": {},
   "source": [
    "### Get user stats"
   ]
  },
  {
   "cell_type": "code",
   "execution_count": 32,
   "id": "a8582701",
   "metadata": {},
   "outputs": [
    {
     "data": {
      "text/plain": [
       "{'user_video_count': 2,\n",
       " 'user_follower_count': 1,\n",
       " 'user_following_count': 0,\n",
       " 'user_heart_count': 3}"
      ]
     },
     "execution_count": 32,
     "metadata": {},
     "output_type": "execute_result"
    }
   ],
   "source": [
    "get_user_stats(username)\n",
    "\n",
    "#print(\"User Details\")\n",
    "#print(\"User video count :\",user_video_count)\n",
    "#print(\"User follower count :\",user_follower_count)\n",
    "#print(\"User following count :\",user_following_count)\n",
    "#print(\"User heart count :\",user_heart_count)"
   ]
  },
  {
   "cell_type": "markdown",
   "id": "be6a2481",
   "metadata": {},
   "source": [
    "### Get video id list"
   ]
  },
  {
   "cell_type": "code",
   "execution_count": 44,
   "id": "e9a0144c",
   "metadata": {},
   "outputs": [],
   "source": [
    "userVideoIdList = get_videos_by_user(username)"
   ]
  },
  {
   "cell_type": "markdown",
   "id": "4295fc59",
   "metadata": {},
   "source": [
    "### Get stats by video id"
   ]
  },
  {
   "cell_type": "code",
   "execution_count": 63,
   "id": "08eaaac0",
   "metadata": {},
   "outputs": [
    {
     "data": {
      "text/plain": [
       "{'7071798623771593989': {'videoDesc': '#projsma',\n",
       "  'videoCreateTime': 1646531426,\n",
       "  'videoLink': 'https://v16-webapp.tiktok.com/989e5a739c7a71fdced627fc0c42e665/622ff6ca/video/tos/useast2a/tos-useast2a-ve-0068c004/b5215614efac4607abe72b44bfcc43bb/?a=1988&br=1768&bt=884&cd=0%7C0%7C0%7C0&ch=0&cr=0&cs=0&dr=0&ds=2&er=&ft=XOQ9-33Hnz7ThFjcvDXq&l=20220314201531010245244195206602CC&lr=tiktok_m&mime_type=video_mp4&net=0&pl=0&qs=0&rc=MzRvb2g6ZnA0OzMzNzgzM0ApO2ZoNjxkO2Q4NzVpZ2Y5PGcyYWRvcjQwM2ZgLS1kLzZzczQuYjE0MjAvY18wYzYzYTE6Yw%3D%3D&vl=&vr=',\n",
       "  'videoLikeCount': 2,\n",
       "  'videoCommentCount': 1,\n",
       "  'videoPlayCount': 169,\n",
       "  'videoShareCount': 0,\n",
       "  'videoAuthorFollowerCount': 1,\n",
       "  'videoAuthorFollowingCount': 0,\n",
       "  'videoAuthorTotalVideoCount': 2,\n",
       "  'videoAuthorTotalHeartCount': 3},\n",
       " '7071800900356033798': {'videoDesc': '#projsma',\n",
       "  'videoCreateTime': 1646531957,\n",
       "  'videoLink': 'https://v16-webapp.tiktok.com/5ba7a0d82376858b4ddbb80734889d60/622ff6d1/video/tos/useast2a/tos-useast2a-ve-0068c002/3df89c46292840bf823fef18d4e1ce98/?a=1988&br=1532&bt=766&cd=0%7C0%7C0%7C0&ch=0&cr=0&cs=0&dr=0&ds=2&er=&ft=XOQ9-33Hnz7ThyjcvDXq&l=2022031420153201024400302623662A0F&lr=tiktok_m&mime_type=video_mp4&net=0&pl=0&qs=0&rc=Mzczbzo6ZnI0OzMzNzgzM0ApZjpoNjNmZmRkNzNkNjRkN2dxZGZvcjRfXmZgLS1kLzZzc2FjLTFfYy4zYWJiYDI1YF46Yw%3D%3D&vl=&vr=',\n",
       "  'videoLikeCount': 1,\n",
       "  'videoCommentCount': 1,\n",
       "  'videoPlayCount': 142,\n",
       "  'videoShareCount': 0,\n",
       "  'videoAuthorFollowerCount': 1,\n",
       "  'videoAuthorFollowingCount': 0,\n",
       "  'videoAuthorTotalVideoCount': 2,\n",
       "  'videoAuthorTotalHeartCount': 3}}"
      ]
     },
     "execution_count": 63,
     "metadata": {},
     "output_type": "execute_result"
    }
   ],
   "source": [
    "get_video_stats_by_id(userVideoIdList)"
   ]
  },
  {
   "cell_type": "code",
   "execution_count": null,
   "id": "d0094025",
   "metadata": {},
   "outputs": [],
   "source": []
  }
 ],
 "metadata": {
  "kernelspec": {
   "display_name": "Python 3",
   "language": "python",
   "name": "python3"
  },
  "language_info": {
   "codemirror_mode": {
    "name": "ipython",
    "version": 3
   },
   "file_extension": ".py",
   "mimetype": "text/x-python",
   "name": "python",
   "nbconvert_exporter": "python",
   "pygments_lexer": "ipython3",
   "version": "3.8.10"
  }
 },
 "nbformat": 4,
 "nbformat_minor": 5
}
