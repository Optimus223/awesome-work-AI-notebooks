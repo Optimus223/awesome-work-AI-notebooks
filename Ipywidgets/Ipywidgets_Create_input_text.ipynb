{
 "cells": [
  {
   "cell_type": "markdown",
   "id": "injured-evolution",
   "metadata": {
    "papermill": {},
    "tags": []
   },
   "source": [
    "<img width=\"10%\" alt=\"Naas\" src=\"https://landen.imgix.net/jtci2pxwjczr/assets/5ice39g4.png?w=160\"/>"
   ]
  },
  {
   "cell_type": "markdown",
   "id": "substantial-decline",
   "metadata": {
    "papermill": {},
    "tags": []
   },
   "source": [
    "# Ipywidgets - Create input text widget and save button\n",
    "<a href=\"https://app.naas.ai/user-redirect/naas/downloader?url=https://raw.githubusercontent.com/jupyter-naas/awesome-notebooks/master/Naas/Naas_Secret_demo.ipynb\" target=\"_parent\"><img src=\"https://naasai-public.s3.eu-west-3.amazonaws.com/open_in_naas.svg\"/></a>"
   ]
  },
  {
   "cell_type": "markdown",
   "id": "00619b69-5ce8-417a-b8b1-c81af6342f9c",
   "metadata": {
    "papermill": {},
    "tags": []
   },
   "source": [
    "**Tags:** #ipywidgets #naas #secret #snippet #operation"
   ]
  },
  {
   "cell_type": "markdown",
   "id": "1446840e-74d1-4c76-afb6-4752a6b4a0c4",
   "metadata": {
    "papermill": {},
    "tags": []
   },
   "source": [
    "**Author:** [Ismail Chihab](https://www.linkedin.com/in/ismail-chihab-4b0a04202/)"
   ]
  },
  {
   "cell_type": "markdown",
   "id": "dd3d4d6a-f15d-47f9-83ac-4208edf13bf9",
   "metadata": {
    "tags": []
   },
   "source": [
    "This notebook creates an input text area and a submit button to get your input."
   ]
  },
  {
   "cell_type": "markdown",
   "id": "9dff654e-e349-475f-be47-13b889672861",
   "metadata": {
    "tags": []
   },
   "source": [
    "## Input"
   ]
  },
  {
   "cell_type": "markdown",
   "id": "156c1d15-6bbe-4ac0-a42e-03f122215f4f",
   "metadata": {},
   "source": [
    "### Import libraries"
   ]
  },
  {
   "cell_type": "code",
   "execution_count": 1,
   "id": "9b370340-fc44-4ce3-9f2e-5b25ef882735",
   "metadata": {
    "execution": {
     "iopub.execute_input": "2022-08-05T10:49:34.296088Z",
     "iopub.status.busy": "2022-08-05T10:49:34.295877Z",
     "iopub.status.idle": "2022-08-05T10:49:34.341610Z",
     "shell.execute_reply": "2022-08-05T10:49:34.340116Z",
     "shell.execute_reply.started": "2022-08-05T10:49:34.296032Z"
    },
    "tags": []
   },
   "outputs": [],
   "source": [
    "from IPython.display import display, clear_output\n",
    "from ipywidgets import widgets"
   ]
  },
  {
   "cell_type": "markdown",
   "id": "a62fc570-043f-426c-94f9-ffddf2b8804c",
   "metadata": {},
   "source": [
    "### Setup variable"
   ]
  },
  {
   "cell_type": "code",
   "execution_count": 2,
   "id": "c8143727-7563-4c66-bfc9-39151dba48a4",
   "metadata": {
    "execution": {
     "iopub.execute_input": "2022-08-05T10:49:34.346327Z",
     "iopub.status.busy": "2022-08-05T10:49:34.345875Z",
     "iopub.status.idle": "2022-08-05T10:49:34.450123Z",
     "shell.execute_reply": "2022-08-05T10:49:34.449511Z",
     "shell.execute_reply.started": "2022-08-05T10:49:34.346291Z"
    },
    "tags": []
   },
   "outputs": [],
   "source": [
    "#The text area variables:\n",
    "input_description= 'Description' \n",
    "style = {'description_width': '150px'}\n",
    "layout = widgets.Layout(width='400px')\n",
    "value ='Enter your value here'\n",
    "\n",
    "#Button variables:\n",
    "\n",
    "button_description = 'Submit'\n",
    "button_style = 'success'\n",
    "\n",
    "#Result variables:\n",
    "result_message = 'Your input is:'"
   ]
  },
  {
   "cell_type": "markdown",
   "id": "c3e697f6-b6c0-4617-98fd-c091f2dfc3e9",
   "metadata": {
    "tags": []
   },
   "source": [
    "## Model"
   ]
  },
  {
   "cell_type": "markdown",
   "id": "66c79f58-d5a6-4626-921a-afe762324902",
   "metadata": {},
   "source": [
    "### Function"
   ]
  },
  {
   "cell_type": "code",
   "execution_count": 3,
   "id": "e9565111-be6a-4607-ab7a-a4b10a48ad45",
   "metadata": {
    "execution": {
     "iopub.execute_input": "2022-08-05T10:49:34.451568Z",
     "iopub.status.busy": "2022-08-05T10:49:34.451331Z",
     "iopub.status.idle": "2022-08-05T10:49:34.581103Z",
     "shell.execute_reply": "2022-08-05T10:49:34.580405Z",
     "shell.execute_reply.started": "2022-08-05T10:49:34.451537Z"
    },
    "tags": []
   },
   "outputs": [],
   "source": [
    "# Setup ipywidgets\n",
    "text = widgets.Text(description=input_description,\n",
    "                    value=value,\n",
    "                    style=style,\n",
    "                    layout=layout)\n",
    "button = widgets.Button(description=button_description, button_style=button_style)\n",
    "Box = widgets.HBox([text, button])\n",
    "\n",
    "# Setup output\n",
    "output = widgets.Output()\n",
    "\n",
    "# Events on click\n",
    "def save(b):\n",
    "    output.clear_output()\n",
    "    with output:\n",
    "        print(result_message, text.value)"
   ]
  },
  {
   "cell_type": "markdown",
   "id": "545db0b8-f1bf-47fd-ac1a-80a9721a7070",
   "metadata": {
    "tags": []
   },
   "source": [
    "## Output"
   ]
  },
  {
   "cell_type": "markdown",
   "id": "5ddc588d-9d66-4f81-b24c-f3e034999f77",
   "metadata": {},
   "source": [
    "### Display secret\n",
    "If secret empty, default value is displayed."
   ]
  },
  {
   "cell_type": "code",
   "execution_count": 4,
   "id": "033aee3e-4481-4a81-b03d-46dc3784a37a",
   "metadata": {
    "execution": {
     "iopub.execute_input": "2022-08-05T10:49:34.582670Z",
     "iopub.status.busy": "2022-08-05T10:49:34.582259Z",
     "iopub.status.idle": "2022-08-05T10:49:34.681553Z",
     "shell.execute_reply": "2022-08-05T10:49:34.680944Z",
     "shell.execute_reply.started": "2022-08-05T10:49:34.582636Z"
    },
    "tags": []
   },
   "outputs": [
    {
     "data": {
      "application/vnd.jupyter.widget-view+json": {
       "model_id": "9c524f113209414a9a3e23d4565d4423",
       "version_major": 2,
       "version_minor": 0
      },
      "text/plain": [
       "HBox(children=(Text(value='Enter your value here', description='Description', layout=Layout(width='400px'), st…"
      ]
     },
     "metadata": {},
     "output_type": "display_data"
    },
    {
     "data": {
      "application/vnd.jupyter.widget-view+json": {
       "model_id": "9a978fbdaf0a4593a58615ad06277a2c",
       "version_major": 2,
       "version_minor": 0
      },
      "text/plain": [
       "Output()"
      ]
     },
     "metadata": {},
     "output_type": "display_data"
    }
   ],
   "source": [
    "# Display\n",
    "display(Box, output)\n",
    "button.on_click(save)"
   ]
  }
 ],
 "metadata": {
  "kernelspec": {
   "display_name": "Python 3",
   "language": "python",
   "name": "python3"
  },
  "language_info": {
   "codemirror_mode": {
    "name": "ipython",
    "version": 3
   },
   "file_extension": ".py",
   "mimetype": "text/x-python",
   "name": "python",
   "nbconvert_exporter": "python",
   "pygments_lexer": "ipython3",
   "version": "3.9.6"
  },
  "naas": {
   "notebook_id": "77b7f93a-fb2a-483e-b98b-80735e426a64",
   "notebook_path": "Naas/Naas_Secret_demo.ipynb"
  },
  "papermill": {
   "default_parameters": {},
   "environment_variables": {},
   "parameters": {},
   "version": "2.3.3"
  },
  "toc-autonumbering": false,
  "widgets": {
   "application/vnd.jupyter.widget-state+json": {
    "state": {},
    "version_major": 2,
    "version_minor": 0
   }
  }
 },
 "nbformat": 4,
 "nbformat_minor": 5
}
