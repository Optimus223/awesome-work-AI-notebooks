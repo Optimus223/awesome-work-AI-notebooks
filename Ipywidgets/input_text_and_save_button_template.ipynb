{
 "cells": [
  {
   "cell_type": "markdown",
   "id": "injured-evolution",
   "metadata": {
    "papermill": {},
    "tags": []
   },
   "source": [
    "<img width=\"10%\" alt=\"Naas\" src=\"https://landen.imgix.net/jtci2pxwjczr/assets/5ice39g4.png?w=160\"/>"
   ]
  },
  {
   "cell_type": "markdown",
   "id": "substantial-decline",
   "metadata": {
    "papermill": {},
    "tags": []
   },
   "source": [
    "# Ipywidgets - Setup naas secrets\n",
    "<a href=\"https://app.naas.ai/user-redirect/naas/downloader?url=https://raw.githubusercontent.com/jupyter-naas/awesome-notebooks/master/Naas/Naas_Secret_demo.ipynb\" target=\"_parent\"><img src=\"https://naasai-public.s3.eu-west-3.amazonaws.com/open_in_naas.svg\"/></a>"
   ]
  },
  {
   "cell_type": "markdown",
   "id": "00619b69-5ce8-417a-b8b1-c81af6342f9c",
   "metadata": {
    "papermill": {},
    "tags": []
   },
   "source": [
    "**Tags:** #ipywidgets #naas #secret #snippet #operation"
   ]
  },
  {
   "cell_type": "markdown",
   "id": "1446840e-74d1-4c76-afb6-4752a6b4a0c4",
   "metadata": {
    "papermill": {},
    "tags": []
   },
   "source": [
    "**Author:** [Ismail Chihab](https://www.linkedin.com/in/ismail-chihab-4b0a04202/)"
   ]
  },
  {
   "cell_type": "markdown",
   "id": "dd3d4d6a-f15d-47f9-83ac-4208edf13bf9",
   "metadata": {
    "tags": []
   },
   "source": [
    "This notebook helps create an input text are and a submit button to save your secrets."
   ]
  },
  {
   "cell_type": "markdown",
   "id": "9dff654e-e349-475f-be47-13b889672861",
   "metadata": {
    "tags": []
   },
   "source": [
    "## Input"
   ]
  },
  {
   "cell_type": "markdown",
   "id": "156c1d15-6bbe-4ac0-a42e-03f122215f4f",
   "metadata": {},
   "source": [
    "### Import libraries"
   ]
  },
  {
   "cell_type": "code",
   "execution_count": 1,
   "id": "9b370340-fc44-4ce3-9f2e-5b25ef882735",
   "metadata": {
    "execution": {
     "iopub.execute_input": "2022-08-04T15:11:04.790105Z",
     "iopub.status.busy": "2022-08-04T15:11:04.789841Z",
     "iopub.status.idle": "2022-08-04T15:11:04.849059Z",
     "shell.execute_reply": "2022-08-04T15:11:04.848250Z",
     "shell.execute_reply.started": "2022-08-04T15:11:04.790039Z"
    },
    "tags": []
   },
   "outputs": [],
   "source": [
    "from IPython.display import display, clear_output\n",
    "from ipywidgets import widgets"
   ]
  },
  {
   "cell_type": "markdown",
   "id": "a62fc570-043f-426c-94f9-ffddf2b8804c",
   "metadata": {},
   "source": [
    "### Variables"
   ]
  },
  {
   "cell_type": "code",
   "execution_count": 5,
   "id": "c8143727-7563-4c66-bfc9-39151dba48a4",
   "metadata": {
    "execution": {
     "iopub.execute_input": "2022-08-04T15:18:15.710769Z",
     "iopub.status.busy": "2022-08-04T15:18:15.710428Z",
     "iopub.status.idle": "2022-08-04T15:18:15.715354Z",
     "shell.execute_reply": "2022-08-04T15:18:15.714654Z",
     "shell.execute_reply.started": "2022-08-04T15:18:15.710734Z"
    },
    "tags": []
   },
   "outputs": [],
   "source": [
    "input_description= 'Your Secret:'"
   ]
  },
  {
   "cell_type": "markdown",
   "id": "c3e697f6-b6c0-4617-98fd-c091f2dfc3e9",
   "metadata": {
    "tags": []
   },
   "source": [
    "## Model"
   ]
  },
  {
   "cell_type": "markdown",
   "id": "66c79f58-d5a6-4626-921a-afe762324902",
   "metadata": {},
   "source": [
    "### Function"
   ]
  },
  {
   "cell_type": "code",
   "execution_count": 12,
   "id": "e9565111-be6a-4607-ab7a-a4b10a48ad45",
   "metadata": {
    "execution": {
     "iopub.execute_input": "2022-08-04T15:21:15.612150Z",
     "iopub.status.busy": "2022-08-04T15:21:15.611857Z",
     "iopub.status.idle": "2022-08-04T15:21:15.687501Z",
     "shell.execute_reply": "2022-08-04T15:21:15.686881Z",
     "shell.execute_reply.started": "2022-08-04T15:21:15.612118Z"
    },
    "tags": []
   },
   "outputs": [],
   "source": [
    "style = {'description_width': '150px'}\n",
    "layout = widgets.Layout(width='400px')\n",
    "\n",
    "# Setup ipywidgets\n",
    "secret_key = widgets.Text(description='Secret Key:',\n",
    "                    display='flex',\n",
    "                    value=None,\n",
    "                    style=style,\n",
    "                    layout=layout)\n",
    "secret_text = widgets.Text(description=input_description,\n",
    "                    display='flex',\n",
    "                    value=None,\n",
    "                    style=style,\n",
    "                    layout=layout)\n",
    "save_button = widgets.Button(description=\"Save Secret\", button_style='success')\n",
    "Box = widgets.HBox([secret_key, secret_text, save_button])\n",
    "\n",
    "# Setup output\n",
    "output = widgets.Output()\n",
    "\n",
    "# Events on click\n",
    "def save_secret(b):\n",
    "    output.clear_output()\n",
    "    with output:\n",
    "        print(\"✅ Secrets successfully pushed:\", secret_text.value)"
   ]
  },
  {
   "cell_type": "markdown",
   "id": "545db0b8-f1bf-47fd-ac1a-80a9721a7070",
   "metadata": {
    "tags": []
   },
   "source": [
    "## Output"
   ]
  },
  {
   "cell_type": "markdown",
   "id": "5ddc588d-9d66-4f81-b24c-f3e034999f77",
   "metadata": {},
   "source": [
    "### Display secret\n",
    "If secret empty, default value is displayed."
   ]
  },
  {
   "cell_type": "code",
   "execution_count": 13,
   "id": "033aee3e-4481-4a81-b03d-46dc3784a37a",
   "metadata": {
    "execution": {
     "iopub.execute_input": "2022-08-04T15:21:18.591769Z",
     "iopub.status.busy": "2022-08-04T15:21:18.591469Z",
     "iopub.status.idle": "2022-08-04T15:21:18.652383Z",
     "shell.execute_reply": "2022-08-04T15:21:18.651503Z",
     "shell.execute_reply.started": "2022-08-04T15:21:18.591736Z"
    },
    "tags": []
   },
   "outputs": [
    {
     "data": {
      "application/vnd.jupyter.widget-view+json": {
       "model_id": "9779cdc0c227409987b80da9aebae82e",
       "version_major": 2,
       "version_minor": 0
      },
      "text/plain": [
       "HBox(children=(Text(value='', description='Secret Key:', layout=Layout(width='400px'), style=DescriptionStyle(…"
      ]
     },
     "metadata": {},
     "output_type": "display_data"
    },
    {
     "data": {
      "application/vnd.jupyter.widget-view+json": {
       "model_id": "589fc508385e41b78710cc368c2cc9f0",
       "version_major": 2,
       "version_minor": 0
      },
      "text/plain": [
       "Output()"
      ]
     },
     "metadata": {},
     "output_type": "display_data"
    }
   ],
   "source": [
    "# Display\n",
    "display(Box, output)\n",
    "save_button.on_click(save_secret)"
   ]
  }
 ],
 "metadata": {
  "kernelspec": {
   "display_name": "Python 3",
   "language": "python",
   "name": "python3"
  },
  "language_info": {
   "codemirror_mode": {
    "name": "ipython",
    "version": 3
   },
   "file_extension": ".py",
   "mimetype": "text/x-python",
   "name": "python",
   "nbconvert_exporter": "python",
   "pygments_lexer": "ipython3",
   "version": "3.9.6"
  },
  "naas": {
   "notebook_id": "77b7f93a-fb2a-483e-b98b-80735e426a64",
   "notebook_path": "Naas/Naas_Secret_demo.ipynb"
  },
  "papermill": {
   "default_parameters": {},
   "environment_variables": {},
   "parameters": {},
   "version": "2.3.3"
  },
  "toc-autonumbering": false,
  "widgets": {
   "application/vnd.jupyter.widget-state+json": {
    "state": {},
    "version_major": 2,
    "version_minor": 0
   }
  }
 },
 "nbformat": 4,
 "nbformat_minor": 5
}
