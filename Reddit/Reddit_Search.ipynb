{
 "cells": [
  {
   "cell_type": "markdown",
   "id": "42fce9ae-03b7-467b-b5ba-4fd66ffc50ec",
   "metadata": {
    "papermill": {},
    "tags": []
   },
   "source": [
    "<img width=\"10%\" alt=\"Naas\" src=\"https://landen.imgix.net/jtci2pxwjczr/assets/5ice39g4.png?w=160\"/>"
   ]
  },
  {
   "cell_type": "markdown",
   "id": "9861bc61-3c92-41a8-8489-aba0d2196fb6",
   "metadata": {
    "papermill": {},
    "tags": []
   },
   "source": [
    "# Reddit - Search"
   ]
  },
  {
   "cell_type": "markdown",
   "id": "89c7636e-14c1-45ab-8cbc-d6826f469f6d",
   "metadata": {
    "papermill": {},
    "tags": []
   },
   "source": [
    "**Tags:** #reddit #search #api #dev #get #python"
   ]
  },
  {
   "cell_type": "markdown",
   "id": "1138db6c-791e-4ae3-9d34-7038d3a97482",
   "metadata": {
    "papermill": {},
    "tags": []
   },
   "source": [
    "**Author:** [Firstname Lastname](https://www.linkedin.com/in/xxxx)"
   ]
  },
  {
   "cell_type": "markdown",
   "id": "5fd2e42a-b7ea-4a4e-9a8a-f44dd737117f",
   "metadata": {
    "papermill": {},
    "tags": []
   },
   "source": [
    "**Last update:** 2023-10-09 (Created: 2023-10-09)"
   ]
  },
  {
   "cell_type": "markdown",
   "id": "ea7651e0-9bbd-4c37-84a0-f5bcf650259e",
   "metadata": {
    "papermill": {},
    "tags": []
   },
   "source": [
    "**Description:** This notebook searches Reddit for posts and comments using the Reddit API. It is usefull for organizations to quickly find relevant content on Reddit."
   ]
  },
  {
   "cell_type": "markdown",
   "id": "a45bc61b-a313-4b01-a698-30f9c16cddbd",
   "metadata": {
    "papermill": {},
    "tags": []
   },
   "source": [
    "**References:**\n- [Reddit API](https://www.reddit.com/dev/api)\n- [GET search](https://www.reddit.com/dev/api#GET_search)"
   ]
  },
  {
   "cell_type": "markdown",
   "id": "ae265cbb-ea8b-48c1-98de-6ec27b1195a1",
   "metadata": {
    "papermill": {},
    "tags": []
   },
   "source": [
    "## Input"
   ]
  },
  {
   "cell_type": "markdown",
   "id": "1720a16f-9a03-4955-a120-138d615204ca",
   "metadata": {
    "papermill": {},
    "tags": []
   },
   "source": [
    "### Import libraries"
   ]
  },
  {
   "cell_type": "code",
   "execution_count": null,
   "id": "4415467d-e9bf-4d3a-82c1-b6c72f60fded",
   "metadata": {
    "papermill": {},
    "tags": []
   },
   "source": "import requests",
   "outputs": []
  },
  {
   "cell_type": "markdown",
   "id": "cc11f4e7-1182-42bd-9948-e35f49e7b5c1",
   "metadata": {
    "papermill": {},
    "tags": []
   },
   "source": [
    "### Setup variables\n- **query**: The search query\n- **sort**: The type of sorting (relevance, hot, top, new, comments)\n- **time**: The time period of the results (hour, day, week, month, year, all)"
   ]
  },
  {
   "cell_type": "code",
   "execution_count": null,
   "id": "63531d1e-521a-46f1-937f-d5d74254f99d",
   "metadata": {
    "papermill": {},
    "tags": []
   },
   "source": "query = \"data science\"\nsort = \"relevance\"\ntime = \"all\"",
   "outputs": []
  },
  {
   "cell_type": "markdown",
   "id": "3a978e62-60f9-4084-92fa-89c9f64f59aa",
   "metadata": {
    "papermill": {},
    "tags": []
   },
   "source": [
    "## Model"
   ]
  },
  {
   "cell_type": "markdown",
   "id": "f92542d4-ae07-4d1f-babf-ef544cbd94be",
   "metadata": {
    "papermill": {},
    "tags": []
   },
   "source": [
    "### Search Reddit"
   ]
  },
  {
   "cell_type": "markdown",
   "id": "00e5829f-517f-4684-bff5-499a538d011a",
   "metadata": {
    "papermill": {},
    "tags": []
   },
   "source": [
    "Long description of the function: This function searches Reddit for posts and comments using the Reddit API."
   ]
  },
  {
   "cell_type": "code",
   "execution_count": null,
   "id": "941efb8e-f4d9-46c8-a101-b06c20e15b44",
   "metadata": {
    "papermill": {},
    "tags": []
   },
   "source": "url = \"https://www.reddit.com/search.json\"\nparams = {\"q\": query, \"sort\": sort, \"t\": time}\nresponse = requests.get(url, params=params)",
   "outputs": []
  },
  {
   "cell_type": "markdown",
   "id": "da53ec13-094b-41c8-9917-35d0f0ccd8df",
   "metadata": {
    "papermill": {},
    "tags": []
   },
   "source": [
    "## Output"
   ]
  },
  {
   "cell_type": "markdown",
   "id": "f15c8b96-7ed7-48f2-85b9-f438fae9dc29",
   "metadata": {
    "papermill": {},
    "tags": []
   },
   "source": [
    "### Display result"
   ]
  },
  {
   "cell_type": "code",
   "execution_count": null,
   "id": "d8052e5f-22c9-4043-985f-ddc80b08d081",
   "metadata": {
    "papermill": {},
    "tags": []
   },
   "source": "print(response.json())",
   "outputs": []
  }
 ],
 "metadata": {
  "kernelspec": {
   "display_name": "Python 3",
   "language": "python",
   "name": "python3"
  },
  "language_info": {
   "codemirror_mode": {
    "name": "ipython",
    "version": 3
   },
   "file_extension": ".py",
   "mimetype": "text/x-python",
   "name": "python",
   "nbconvert_exporter": "python",
   "pygments_lexer": "ipython3",
   "version": "3.9.6"
  },
  "widgets": {
   "application/vnd.jupyter.widget-state+json": {
    "state": {},
    "version_major": 2,
    "version_minor": 0
   }
  }
 },
 "nbformat": 4,
 "nbformat_minor": 5
}