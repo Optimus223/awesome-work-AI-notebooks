{
 "cells": [
  {
   "cell_type": "markdown",
   "id": "dominican-protection",
   "metadata": {},
   "source": [
    "This notebook explains how to get hot posts from a subreddit/community in Reddit."
   ]
  },
  {
   "cell_type": "markdown",
   "id": "intermediate-pepper",
   "metadata": {},
   "source": [
    "Documentation of the PRAW package: https://praw.readthedocs.io/en/stable/"
   ]
  },
  {
   "cell_type": "markdown",
   "id": "earlier-brick",
   "metadata": {},
   "source": [
    "This is a demonstration of reddit read-only instance. So, we don't need \"passowrd\", \"username\", or \"refresh token\". "
   ]
  },
  {
   "cell_type": "markdown",
   "id": "running-currency",
   "metadata": {},
   "source": [
    "Author: [Yaswanthkumar GOTHIREDDY](https://www.linkedin.com/in/yaswanthkumargothireddy/)"
   ]
  },
  {
   "cell_type": "markdown",
   "id": "desperate-alert",
   "metadata": {},
   "source": [
    "## Input"
   ]
  },
  {
   "cell_type": "markdown",
   "id": "satellite-typing",
   "metadata": {},
   "source": [
    "* To get data from reddit, you need to [create a reddit app](https://www.reddit.com/prefs/apps) which queries the reddit API."
   ]
  },
  {
   "cell_type": "markdown",
   "id": "every-blank",
   "metadata": {},
   "source": [
    "* Select “script” as the type of app."
   ]
  },
  {
   "cell_type": "markdown",
   "id": "aggressive-iraqi",
   "metadata": {},
   "source": [
    "* Name your app and give it a description."
   ]
  },
  {
   "cell_type": "markdown",
   "id": "favorite-consent",
   "metadata": {},
   "source": [
    "* Set-up the redirect uri to be http://localhost:8080."
   ]
  },
  {
   "cell_type": "markdown",
   "id": "necessary-siemens",
   "metadata": {},
   "source": [
    "* Once you click on “create app”, you will get a box showing you your \"client_id\" and \"client_secrets\"."
   ]
  },
  {
   "cell_type": "markdown",
   "id": "endless-approval",
   "metadata": {},
   "source": [
    "* \"user_agent\" is the name of your app."
   ]
  },
  {
   "cell_type": "markdown",
   "id": "stuffed-twins",
   "metadata": {},
   "source": [
    "If you need help on setting up and getting your API credentials, please visit ---> [Get Reddit API Credentials](https://www.jcchouinard.com/get-reddit-api-credentials-with-praw/)"
   ]
  },
  {
   "cell_type": "code",
   "execution_count": 2,
   "id": "center-desperate",
   "metadata": {
    "execution": {
     "iopub.execute_input": "2021-08-07T14:27:43.212265Z",
     "iopub.status.busy": "2021-08-07T14:27:43.212014Z",
     "iopub.status.idle": "2021-08-07T14:27:43.217414Z",
     "shell.execute_reply": "2021-08-07T14:27:43.216874Z",
     "shell.execute_reply.started": "2021-08-07T14:27:43.212240Z"
    },
    "tags": []
   },
   "outputs": [],
   "source": [
    "MY_CLIENT_ID ='**************'\n",
    "MY_CLIENT_SECRET ='***************'\n",
    "MY_USER_AGENT ='**************'"
   ]
  },
  {
   "cell_type": "code",
   "execution_count": 3,
   "id": "novel-entrance",
   "metadata": {
    "execution": {
     "iopub.execute_input": "2021-08-07T14:27:46.073123Z",
     "iopub.status.busy": "2021-08-07T14:27:46.072890Z",
     "iopub.status.idle": "2021-08-07T14:27:46.075814Z",
     "shell.execute_reply": "2021-08-07T14:27:46.075207Z",
     "shell.execute_reply.started": "2021-08-07T14:27:46.073102Z"
    },
    "tags": []
   },
   "outputs": [],
   "source": [
    "SUBREDDIT = \"***************\" #example: \"CryptoCurrency\""
   ]
  },
  {
   "cell_type": "code",
   "execution_count": 4,
   "id": "funny-reviewer",
   "metadata": {
    "execution": {
     "iopub.execute_input": "2021-08-07T14:27:48.611070Z",
     "iopub.status.busy": "2021-08-07T14:27:48.610849Z",
     "iopub.status.idle": "2021-08-07T14:27:52.770282Z",
     "shell.execute_reply": "2021-08-07T14:27:52.769626Z",
     "shell.execute_reply.started": "2021-08-07T14:27:48.611047Z"
    },
    "tags": []
   },
   "outputs": [
    {
     "name": "stdout",
     "output_type": "stream",
     "text": [
      "Collecting praw\n",
      "  Using cached praw-7.4.0-py3-none-any.whl (167 kB)\n",
      "Collecting websocket-client>=0.54.0\n",
      "  Using cached websocket_client-1.1.1-py2.py3-none-any.whl (68 kB)\n",
      "Collecting prawcore<3,>=2.1\n",
      "  Using cached prawcore-2.3.0-py3-none-any.whl (16 kB)\n",
      "Collecting update-checker>=0.18\n",
      "  Using cached update_checker-0.18.0-py3-none-any.whl (7.0 kB)\n",
      "Requirement already satisfied: requests<3.0,>=2.6.0 in /opt/conda/lib/python3.8/site-packages (from prawcore<3,>=2.1->praw) (2.25.1)\n",
      "Requirement already satisfied: chardet<5,>=3.0.2 in /opt/conda/lib/python3.8/site-packages (from requests<3.0,>=2.6.0->prawcore<3,>=2.1->praw) (3.0.4)\n",
      "Requirement already satisfied: certifi>=2017.4.17 in /opt/conda/lib/python3.8/site-packages (from requests<3.0,>=2.6.0->prawcore<3,>=2.1->praw) (2020.12.5)\n",
      "Requirement already satisfied: urllib3<1.27,>=1.21.1 in /opt/conda/lib/python3.8/site-packages (from requests<3.0,>=2.6.0->prawcore<3,>=2.1->praw) (1.26.4)\n",
      "Requirement already satisfied: idna<3,>=2.5 in /opt/conda/lib/python3.8/site-packages (from requests<3.0,>=2.6.0->prawcore<3,>=2.1->praw) (2.10)\n",
      "Installing collected packages: websocket-client, update-checker, prawcore, praw\n",
      "Successfully installed praw-7.4.0 prawcore-2.3.0 update-checker-0.18.0 websocket-client-1.1.1\n",
      "\u001b[33mWARNING: You are using pip version 21.2.2; however, version 21.2.3 is available.\n",
      "You should consider upgrading via the '/opt/conda/bin/python3 -m pip install --upgrade pip' command.\u001b[0m\n"
     ]
    }
   ],
   "source": [
    "!pip install praw"
   ]
  },
  {
   "cell_type": "code",
   "execution_count": 5,
   "id": "desperate-dominant",
   "metadata": {
    "execution": {
     "iopub.execute_input": "2021-08-07T14:27:54.929369Z",
     "iopub.status.busy": "2021-08-07T14:27:54.929072Z",
     "iopub.status.idle": "2021-08-07T14:27:55.491277Z",
     "shell.execute_reply": "2021-08-07T14:27:55.490684Z",
     "shell.execute_reply.started": "2021-08-07T14:27:54.929332Z"
    },
    "tags": []
   },
   "outputs": [],
   "source": [
    "import praw\n",
    "import pandas as pd\n",
    "import numpy as np\n",
    "from datetime import datetime"
   ]
  },
  {
   "cell_type": "markdown",
   "id": "divine-safety",
   "metadata": {},
   "source": [
    "## Model"
   ]
  },
  {
   "cell_type": "markdown",
   "id": "standard-hacker",
   "metadata": {},
   "source": [
    "#### connect with the reddit API using credentials obtained from your created app"
   ]
  },
  {
   "cell_type": "code",
   "execution_count": 6,
   "id": "unsigned-brunei",
   "metadata": {
    "execution": {
     "iopub.execute_input": "2021-08-07T14:27:59.567239Z",
     "iopub.status.busy": "2021-08-07T14:27:59.567007Z",
     "iopub.status.idle": "2021-08-07T14:27:59.604012Z",
     "shell.execute_reply": "2021-08-07T14:27:59.603342Z",
     "shell.execute_reply.started": "2021-08-07T14:27:59.567215Z"
    },
    "tags": []
   },
   "outputs": [],
   "source": [
    "reddit = praw.Reddit(client_id=MY_CLIENT_ID, client_secret=MY_CLIENT_SECRET, user_agent=MY_USER_AGENT)"
   ]
  },
  {
   "cell_type": "markdown",
   "id": "loaded-valve",
   "metadata": {},
   "source": [
    "#### use subreddit module in PRAW to get the subreddit level data"
   ]
  },
  {
   "cell_type": "code",
   "execution_count": 7,
   "id": "pacific-details",
   "metadata": {
    "execution": {
     "iopub.execute_input": "2021-08-07T14:28:01.828693Z",
     "iopub.status.busy": "2021-08-07T14:28:01.828432Z",
     "iopub.status.idle": "2021-08-07T14:28:03.383915Z",
     "shell.execute_reply": "2021-08-07T14:28:03.383317Z",
     "shell.execute_reply.started": "2021-08-07T14:28:01.828666Z"
    },
    "tags": []
   },
   "outputs": [],
   "source": [
    "posts =[]\n",
    "for post in reddit.subreddit(SUBREDDIT).hot(limit=50):\n",
    "    \n",
    "    posts.append([post.title, post.score, post.id, post.subreddit, post.url, post.num_comments, post.selftext, post.created])\n",
    "posts = pd.DataFrame(posts,columns=['title', 'score', 'id', 'subreddit', 'url', 'num_comments', 'body', 'created'])"
   ]
  },
  {
   "cell_type": "markdown",
   "id": "armed-thriller",
   "metadata": {},
   "source": [
    "* If you need more variables, check \"vars()\" function"
   ]
  },
  {
   "cell_type": "markdown",
   "id": "third-roulette",
   "metadata": {},
   "source": [
    "* Usage: 'vars(post)', you'll get post level variables "
   ]
  },
  {
   "cell_type": "markdown",
   "id": "express-favorite",
   "metadata": {},
   "source": [
    "## Output"
   ]
  },
  {
   "cell_type": "markdown",
   "id": "attached-reaction",
   "metadata": {},
   "source": [
    "#### Convert unix timestamp to understand the exact date-time post has been created"
   ]
  },
  {
   "cell_type": "code",
   "execution_count": 8,
   "id": "lucky-homeless",
   "metadata": {
    "execution": {
     "iopub.execute_input": "2021-08-07T14:28:08.440888Z",
     "iopub.status.busy": "2021-08-07T14:28:08.440585Z",
     "iopub.status.idle": "2021-08-07T14:28:08.446743Z",
     "shell.execute_reply": "2021-08-07T14:28:08.446125Z",
     "shell.execute_reply.started": "2021-08-07T14:28:08.440855Z"
    },
    "tags": []
   },
   "outputs": [],
   "source": [
    "posts['created']=pd.to_datetime(posts[\"created\"],unit='s')"
   ]
  },
  {
   "cell_type": "code",
   "execution_count": 9,
   "id": "unable-spell",
   "metadata": {
    "execution": {
     "iopub.execute_input": "2021-08-07T14:28:10.666631Z",
     "iopub.status.busy": "2021-08-07T14:28:10.666337Z",
     "iopub.status.idle": "2021-08-07T14:28:10.686811Z",
     "shell.execute_reply": "2021-08-07T14:28:10.686199Z",
     "shell.execute_reply.started": "2021-08-07T14:28:10.666601Z"
    },
    "tags": []
   },
   "outputs": [
    {
     "data": {
      "text/html": [
       "<div>\n",
       "<style scoped>\n",
       "    .dataframe tbody tr th:only-of-type {\n",
       "        vertical-align: middle;\n",
       "    }\n",
       "\n",
       "    .dataframe tbody tr th {\n",
       "        vertical-align: top;\n",
       "    }\n",
       "\n",
       "    .dataframe thead th {\n",
       "        text-align: right;\n",
       "    }\n",
       "</style>\n",
       "<table border=\"1\" class=\"dataframe\">\n",
       "  <thead>\n",
       "    <tr style=\"text-align: right;\">\n",
       "      <th></th>\n",
       "      <th>title</th>\n",
       "      <th>score</th>\n",
       "      <th>id</th>\n",
       "      <th>subreddit</th>\n",
       "      <th>url</th>\n",
       "      <th>num_comments</th>\n",
       "      <th>body</th>\n",
       "      <th>created</th>\n",
       "    </tr>\n",
       "  </thead>\n",
       "  <tbody>\n",
       "    <tr>\n",
       "      <th>0</th>\n",
       "      <td>Moon week (Round 16) - Please review the snaps...</td>\n",
       "      <td>360</td>\n",
       "      <td>oynlm3</td>\n",
       "      <td>CryptoCurrency</td>\n",
       "      <td>https://www.reddit.com/r/CryptoCurrency/commen...</td>\n",
       "      <td>722</td>\n",
       "      <td>Hello everyone and welcome to your [second off...</td>\n",
       "      <td>2021-08-05 17:43:04</td>\n",
       "    </tr>\n",
       "    <tr>\n",
       "      <th>1</th>\n",
       "      <td>Daily Discussion - August 7, 2021 (GMT+0)</td>\n",
       "      <td>304</td>\n",
       "      <td>ozinnf</td>\n",
       "      <td>CryptoCurrency</td>\n",
       "      <td>https://www.reddit.com/r/CryptoCurrency/commen...</td>\n",
       "      <td>25463</td>\n",
       "      <td>**Welcome to the Daily Discussion. Please read...</td>\n",
       "      <td>2021-08-07 00:00:17</td>\n",
       "    </tr>\n",
       "    <tr>\n",
       "      <th>2</th>\n",
       "      <td>ETH crosses 3000$ once again, last time we've ...</td>\n",
       "      <td>1232</td>\n",
       "      <td>ozq8zv</td>\n",
       "      <td>CryptoCurrency</td>\n",
       "      <td>https://www.reddit.com/r/CryptoCurrency/commen...</td>\n",
       "      <td>713</td>\n",
       "      <td>ETH price now: 3011$\\n\\nETH price on May 19th ...</td>\n",
       "      <td>2021-08-07 09:31:35</td>\n",
       "    </tr>\n",
       "    <tr>\n",
       "      <th>3</th>\n",
       "      <td>Coinbase created a page that automatically gen...</td>\n",
       "      <td>2646</td>\n",
       "      <td>ozluqf</td>\n",
       "      <td>CryptoCurrency</td>\n",
       "      <td>https://p2a.co/y19AJ6V</td>\n",
       "      <td>352</td>\n",
       "      <td></td>\n",
       "      <td>2021-08-07 03:33:43</td>\n",
       "    </tr>\n",
       "    <tr>\n",
       "      <th>4</th>\n",
       "      <td>To all American investors, We all genuinely fe...</td>\n",
       "      <td>6069</td>\n",
       "      <td>ozhqmr</td>\n",
       "      <td>CryptoCurrency</td>\n",
       "      <td>https://www.reddit.com/r/CryptoCurrency/commen...</td>\n",
       "      <td>2147</td>\n",
       "      <td>It's world known that the U.S government is on...</td>\n",
       "      <td>2021-08-06 23:05:23</td>\n",
       "    </tr>\n",
       "  </tbody>\n",
       "</table>\n",
       "</div>"
      ],
      "text/plain": [
       "                                               title  score      id  \\\n",
       "0  Moon week (Round 16) - Please review the snaps...    360  oynlm3   \n",
       "1          Daily Discussion - August 7, 2021 (GMT+0)    304  ozinnf   \n",
       "2  ETH crosses 3000$ once again, last time we've ...   1232  ozq8zv   \n",
       "3  Coinbase created a page that automatically gen...   2646  ozluqf   \n",
       "4  To all American investors, We all genuinely fe...   6069  ozhqmr   \n",
       "\n",
       "        subreddit                                                url  \\\n",
       "0  CryptoCurrency  https://www.reddit.com/r/CryptoCurrency/commen...   \n",
       "1  CryptoCurrency  https://www.reddit.com/r/CryptoCurrency/commen...   \n",
       "2  CryptoCurrency  https://www.reddit.com/r/CryptoCurrency/commen...   \n",
       "3  CryptoCurrency                             https://p2a.co/y19AJ6V   \n",
       "4  CryptoCurrency  https://www.reddit.com/r/CryptoCurrency/commen...   \n",
       "\n",
       "   num_comments                                               body  \\\n",
       "0           722  Hello everyone and welcome to your [second off...   \n",
       "1         25463  **Welcome to the Daily Discussion. Please read...   \n",
       "2           713  ETH price now: 3011$\\n\\nETH price on May 19th ...   \n",
       "3           352                                                      \n",
       "4          2147  It's world known that the U.S government is on...   \n",
       "\n",
       "              created  \n",
       "0 2021-08-05 17:43:04  \n",
       "1 2021-08-07 00:00:17  \n",
       "2 2021-08-07 09:31:35  \n",
       "3 2021-08-07 03:33:43  \n",
       "4 2021-08-06 23:05:23  "
      ]
     },
     "execution_count": 9,
     "metadata": {},
     "output_type": "execute_result"
    }
   ],
   "source": [
    "posts.head()"
   ]
  },
  {
   "cell_type": "markdown",
   "id": "foreign-techno",
   "metadata": {},
   "source": [
    "Hint: Filter data using \"created\" variable for past 24 hours hot posts"
   ]
  }
 ],
 "metadata": {
  "kernelspec": {
   "display_name": "Python 3",
   "language": "python",
   "name": "python3"
  },
  "language_info": {
   "codemirror_mode": {
    "name": "ipython",
    "version": 3
   },
   "file_extension": ".py",
   "mimetype": "text/x-python",
   "name": "python",
   "nbconvert_exporter": "python",
   "pygments_lexer": "ipython3",
   "version": "3.8.8"
  }
 },
 "nbformat": 4,
 "nbformat_minor": 5
}
