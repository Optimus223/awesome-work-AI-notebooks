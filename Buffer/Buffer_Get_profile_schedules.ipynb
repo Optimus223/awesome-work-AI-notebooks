{
 "cells": [
  {
   "cell_type": "markdown",
   "id": "86a1daa5-f356-425d-b6db-daca413d8324",
   "metadata": {
    "papermill": {},
    "tags": []
   },
   "source": [
    "<img width=\"10%\" alt=\"Naas\" src=\"https://landen.imgix.net/jtci2pxwjczr/assets/5ice39g4.png?w=160\"/>"
   ]
  },
  {
   "cell_type": "markdown",
   "id": "073561b7-a185-46fa-833d-ed760383b500",
   "metadata": {
    "papermill": {},
    "tags": []
   },
   "source": [
    "# Buffer - Get profile schedules"
   ]
  },
  {
   "cell_type": "markdown",
   "id": "70c4286c-083d-4752-8709-296f964f0604",
   "metadata": {
    "papermill": {},
    "tags": []
   },
   "source": [
    "**Tags:** #buffer #api #socialmedia #profiles #schedules #developers"
   ]
  },
  {
   "cell_type": "markdown",
   "id": "ed4607dd-7022-4d9a-96b7-091ad2def2c4",
   "metadata": {
    "papermill": {},
    "tags": []
   },
   "source": [
    "**Author:** [Florent Ravenel](https://www.linkedin.com/in/florent-ravenel/)"
   ]
  },
  {
   "cell_type": "markdown",
   "id": "eb2837b8-22fc-47c4-a034-2df043171f93",
   "metadata": {
    "papermill": {},
    "tags": []
   },
   "source": [
    "**Description:** This notebook will show how to use the Buffer API to get details of the posting schedules associated with a social media profile."
   ]
  },
  {
   "cell_type": "markdown",
   "id": "0a9b2edb-4672-4751-8b0c-efa6a0d186f1",
   "metadata": {
    "papermill": {},
    "tags": []
   },
   "source": [
    "**References:**\n- [Buffer API Documentation](https://buffer.com/developers/api/profiles#schedules)\n- [Buffer API Python Library](https://github.com/bufferapp/buffer-python)"
   ]
  },
  {
   "cell_type": "markdown",
   "id": "7ab44342-e53b-448b-9eb3-5304f8486dc6",
   "metadata": {
    "papermill": {},
    "tags": []
   },
   "source": [
    "## Input"
   ]
  },
  {
   "cell_type": "markdown",
   "id": "017dbf26-b288-475f-ab41-3ae5beb90d75",
   "metadata": {
    "papermill": {},
    "tags": []
   },
   "source": [
    "### Import libraries"
   ]
  },
  {
   "cell_type": "code",
   "execution_count": null,
   "id": "22cc5449-cad9-4d4d-9be1-95f2576d0a2b",
   "metadata": {
    "papermill": {},
    "tags": []
   },
   "source": "import buffer",
   "outputs": []
  },
  {
   "cell_type": "markdown",
   "id": "db4e9f86-f133-4a09-9337-69e5613b8358",
   "metadata": {
    "papermill": {},
    "tags": []
   },
   "source": [
    "### Setup Variables\n- `access_token`: [Generate an access token](https://buffer.com/developers/api/oauth)"
   ]
  },
  {
   "cell_type": "code",
   "execution_count": null,
   "id": "019aa63f-a4b0-4775-a10a-f7d1a750a8ea",
   "metadata": {
    "papermill": {},
    "tags": []
   },
   "source": "access_token = \"<YOUR_ACCESS_TOKEN>\"",
   "outputs": []
  },
  {
   "cell_type": "markdown",
   "id": "75d08dfd-cf0e-40b6-bab5-b658ecb1141b",
   "metadata": {
    "papermill": {},
    "tags": []
   },
   "source": [
    "## Model"
   ]
  },
  {
   "cell_type": "markdown",
   "id": "4885eb1c-a28e-4dda-99a4-1bcd929ec10e",
   "metadata": {
    "papermill": {},
    "tags": []
   },
   "source": [
    "### Get profile schedules"
   ]
  },
  {
   "cell_type": "markdown",
   "id": "38e3d99b-b3e1-4c7a-b56d-784f420a1e78",
   "metadata": {
    "papermill": {},
    "tags": []
   },
   "source": [
    "This function will use the Buffer API to get details of the posting schedules associated with a social media profile."
   ]
  },
  {
   "cell_type": "code",
   "execution_count": null,
   "id": "c95c0549-d1d2-44fa-b325-5ade1d555a5d",
   "metadata": {
    "papermill": {},
    "tags": []
   },
   "source": "# Create a Buffer object\nbuffer_client = buffer.Buffer(access_token)\n# Get profile schedules\nprofile_schedules = buffer_client.get_schedules()",
   "outputs": []
  },
  {
   "cell_type": "markdown",
   "id": "35020c4e-4519-4abe-bbc1-b6c6f32bffae",
   "metadata": {
    "papermill": {},
    "tags": []
   },
   "source": [
    "## Output"
   ]
  },
  {
   "cell_type": "markdown",
   "id": "a8dc79fb-0d2d-4306-afe5-35c21bf4c277",
   "metadata": {
    "papermill": {},
    "tags": []
   },
   "source": [
    "### Display result"
   ]
  },
  {
   "cell_type": "code",
   "execution_count": null,
   "id": "0edfb906-a185-4e2c-8f24-1f401b14c2ce",
   "metadata": {
    "papermill": {},
    "tags": []
   },
   "source": "print(profile_schedules)",
   "outputs": []
  },
  {
   "cell_type": "markdown",
   "id": "67856198-619b-4e52-b58d-6294874c9709",
   "metadata": {
    "papermill": {},
    "tags": []
   },
   "source": [
    " "
   ]
  }
 ],
 "metadata": {
  "kernelspec": {
   "display_name": "Python 3",
   "language": "python",
   "name": "python3"
  },
  "language_info": {
   "codemirror_mode": {
    "name": "ipython",
    "version": 3
   },
   "file_extension": ".py",
   "mimetype": "text/x-python",
   "name": "python",
   "nbconvert_exporter": "python",
   "pygments_lexer": "ipython3",
   "version": "3.9.6"
  },
  "widgets": {
   "application/vnd.jupyter.widget-state+json": {
    "state": {},
    "version_major": 2,
    "version_minor": 0
   }
  }
 },
 "nbformat": 4,
 "nbformat_minor": 5
}