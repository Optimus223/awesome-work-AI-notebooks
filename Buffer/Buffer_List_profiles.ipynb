{
 "cells": [
  {
   "cell_type": "markdown",
   "id": "ba9d2702-8d29-409b-b4d5-3f92868362e5",
   "metadata": {
    "papermill": {},
    "tags": []
   },
   "source": [
    "<img width=\"10%\" alt=\"Naas\" src=\"https://landen.imgix.net/jtci2pxwjczr/assets/5ice39g4.png?w=160\"/>"
   ]
  },
  {
   "cell_type": "markdown",
   "id": "14d23da6-6c15-4b33-a6c7-b6e722859e15",
   "metadata": {
    "papermill": {},
    "tags": []
   },
   "source": [
    "# Buffer - List profiles"
   ]
  },
  {
   "cell_type": "markdown",
   "id": "912477d1-a9cd-469c-92ac-68851dcc7f08",
   "metadata": {
    "papermill": {},
    "tags": []
   },
   "source": [
    "**Tags:** #buffer #api #profiles #list #socialmedia #developers"
   ]
  },
  {
   "cell_type": "markdown",
   "id": "e0164d08-2886-4e8b-b304-d4808732c176",
   "metadata": {
    "papermill": {},
    "tags": []
   },
   "source": [
    "**Author:** [Florent Ravenel](https://www.linkedin.com/in/florent-ravenel/)"
   ]
  },
  {
   "cell_type": "markdown",
   "id": "efe4a9d0-2d98-4a7a-ab1e-0752cbf4f772",
   "metadata": {
    "papermill": {},
    "tags": []
   },
   "source": [
    "**Description:** This notebook will demonstrate how to use the Buffer API to list the social media profiles connected to a user's account."
   ]
  },
  {
   "cell_type": "markdown",
   "id": "b821e187-4813-449a-838e-03674b2ed998",
   "metadata": {
    "papermill": {},
    "tags": []
   },
   "source": [
    "**References:**\n- [Buffer API Documentation](https://buffer.com/developers/api/profiles#profiles)"
   ]
  },
  {
   "cell_type": "markdown",
   "id": "ff111f99-77dc-44b6-ab78-596706cc0de3",
   "metadata": {
    "papermill": {},
    "tags": []
   },
   "source": [
    "## Input"
   ]
  },
  {
   "cell_type": "markdown",
   "id": "7f41e8b2-b06a-4672-89ab-508c95adae7b",
   "metadata": {
    "papermill": {},
    "tags": []
   },
   "source": [
    "### Import libraries"
   ]
  },
  {
   "cell_type": "code",
   "execution_count": null,
   "id": "eed61db7-469a-4bf2-ba0f-0781fd50afcc",
   "metadata": {
    "papermill": {},
    "tags": []
   },
   "source": "import requests",
   "outputs": []
  },
  {
   "cell_type": "markdown",
   "id": "f7ac759f-5b93-4ea5-8c10-9ec224265c4f",
   "metadata": {
    "papermill": {},
    "tags": []
   },
   "source": [
    "### Setup Variables\n- `access_token`: [Access token](https://buffer.com/developers/api/oauth) to access the Buffer API"
   ]
  },
  {
   "cell_type": "code",
   "execution_count": null,
   "id": "0cf4c57e-b976-474f-9725-d06dc08d09c0",
   "metadata": {
    "papermill": {},
    "tags": []
   },
   "source": "access_token = \"<YOUR_ACCESS_TOKEN>\"",
   "outputs": []
  },
  {
   "cell_type": "markdown",
   "id": "52c1de2f-5fab-4335-b68d-b88884f2b06b",
   "metadata": {
    "papermill": {},
    "tags": []
   },
   "source": [
    "## Model"
   ]
  },
  {
   "cell_type": "markdown",
   "id": "18d51cf6-6ff7-4b6a-9dd2-5517d8d5dd36",
   "metadata": {
    "papermill": {},
    "tags": []
   },
   "source": [
    "### List profiles"
   ]
  },
  {
   "cell_type": "markdown",
   "id": "2d5a9892-3fb5-45df-bd38-469b95262bf6",
   "metadata": {
    "papermill": {},
    "tags": []
   },
   "source": [
    "This function will use the Buffer API to list the social media profiles connected to a user's account."
   ]
  },
  {
   "cell_type": "code",
   "execution_count": null,
   "id": "01753d21-a23f-4d47-aed7-5366f7a35a9a",
   "metadata": {
    "papermill": {},
    "tags": []
   },
   "source": "def list_profiles(access_token):\n    url = \"https://api.buffer.com/1/profiles.json\"\n    headers = {\"Authorization\": f\"Bearer {access_token}\"}\n    response = requests.get(url, headers=headers)\n    return response.json()",
   "outputs": []
  },
  {
   "cell_type": "markdown",
   "id": "0815af69-d8fc-469a-8007-a7fa080eeba5",
   "metadata": {
    "papermill": {},
    "tags": []
   },
   "source": [
    "## Output"
   ]
  },
  {
   "cell_type": "markdown",
   "id": "62fee6fc-59cd-4614-893e-48d387290f96",
   "metadata": {
    "papermill": {},
    "tags": []
   },
   "source": [
    "### Display result"
   ]
  },
  {
   "cell_type": "code",
   "execution_count": null,
   "id": "658e5bca-5143-4b00-9bc2-04b81827743d",
   "metadata": {
    "papermill": {},
    "tags": []
   },
   "source": "profiles = list_profiles(access_token)\nprint(profiles)",
   "outputs": []
  },
  {
   "cell_type": "markdown",
   "id": "21e4af14-6704-4c6c-b254-253c1f5d2348",
   "metadata": {
    "papermill": {},
    "tags": []
   },
   "source": [
    " "
   ]
  }
 ],
 "metadata": {
  "kernelspec": {
   "display_name": "Python 3",
   "language": "python",
   "name": "python3"
  },
  "language_info": {
   "codemirror_mode": {
    "name": "ipython",
    "version": 3
   },
   "file_extension": ".py",
   "mimetype": "text/x-python",
   "name": "python",
   "nbconvert_exporter": "python",
   "pygments_lexer": "ipython3",
   "version": "3.9.6"
  },
  "widgets": {
   "application/vnd.jupyter.widget-state+json": {
    "state": {},
    "version_major": 2,
    "version_minor": 0
   }
  }
 },
 "nbformat": 4,
 "nbformat_minor": 5
}