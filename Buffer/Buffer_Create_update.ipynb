{
 "cells": [
  {
   "cell_type": "markdown",
   "id": "84ad1c31-2c5a-40ff-b215-e3d0894d5093",
   "metadata": {
    "papermill": {},
    "tags": []
   },
   "source": [
    "<img width=\"10%\" alt=\"Naas\" src=\"https://landen.imgix.net/jtci2pxwjczr/assets/5ice39g4.png?w=160\"/>"
   ]
  },
  {
   "cell_type": "markdown",
   "id": "d49f7545-10b9-4795-9307-d70f099d7a9b",
   "metadata": {
    "papermill": {},
    "tags": []
   },
   "source": [
    "# Buffer - Create update"
   ]
  },
  {
   "cell_type": "markdown",
   "id": "c18830e4-f7c2-429c-9050-8338ddef1fda",
   "metadata": {
    "papermill": {},
    "tags": []
   },
   "source": [
    "**Tags:** #buffer #api #updates #create #status #update"
   ]
  },
  {
   "cell_type": "markdown",
   "id": "caf333b7-22bd-47e3-8dcf-3e4424b1da98",
   "metadata": {
    "papermill": {},
    "tags": []
   },
   "source": [
    "**Author:** [Florent Ravenel](https://www.linkedin.com/in/florent-ravenel/)"
   ]
  },
  {
   "cell_type": "markdown",
   "id": "e3ead34b-176e-48c7-aa4b-d61b62ff93b0",
   "metadata": {
    "papermill": {},
    "tags": []
   },
   "source": [
    "**Description:** This notebook will show how to create a new status update for one or more profiles using the Buffer API."
   ]
  },
  {
   "cell_type": "markdown",
   "id": "3560dc68-c539-4d77-a28c-5d572252677b",
   "metadata": {
    "papermill": {},
    "tags": []
   },
   "source": [
    "**References:**\n- [Buffer API Documentation](https://buffer.com/developers/api/updates)\n- [Buffer API Python Library](https://github.com/bufferapp/buffer-python)"
   ]
  },
  {
   "cell_type": "markdown",
   "id": "7734b361-c86e-4e3c-8345-7f43260440d9",
   "metadata": {
    "papermill": {},
    "tags": []
   },
   "source": [
    "## Input"
   ]
  },
  {
   "cell_type": "markdown",
   "id": "7d604417-e6be-4877-82ce-76421aecc767",
   "metadata": {
    "papermill": {},
    "tags": []
   },
   "source": [
    "### Import libraries"
   ]
  },
  {
   "cell_type": "code",
   "execution_count": null,
   "id": "84d3b64d-b566-4a00-b6c4-0011cfa4063f",
   "metadata": {
    "papermill": {},
    "tags": []
   },
   "source": "import buffer",
   "outputs": []
  },
  {
   "cell_type": "markdown",
   "id": "180f9555-a119-4d2e-a5ab-7e9aa07be83c",
   "metadata": {
    "papermill": {},
    "tags": []
   },
   "source": [
    "### Setup Variables\n- `access_token`: [Access Token](https://buffer.com/developers/api/oauth) to access the Buffer API\n- `profile_id`: ID of the profile to post the update\n- `text`: Text of the update"
   ]
  },
  {
   "cell_type": "code",
   "execution_count": null,
   "id": "22514e0d-5494-4261-91a8-f07dae8cf809",
   "metadata": {
    "papermill": {},
    "tags": []
   },
   "source": "access_token = \"<YOUR_ACCESS_TOKEN>\"\nprofile_id = \"<YOUR_PROFILE_ID>\"\ntext = \"<YOUR_UPDATE_TEXT>\"",
   "outputs": []
  },
  {
   "cell_type": "markdown",
   "id": "94c95738-5204-46fe-84ad-6f3bfae61683",
   "metadata": {
    "papermill": {},
    "tags": []
   },
   "source": [
    "## Model"
   ]
  },
  {
   "cell_type": "markdown",
   "id": "0f322f2a-3eb9-4853-a84a-41790a221487",
   "metadata": {
    "papermill": {},
    "tags": []
   },
   "source": [
    "### Create Update"
   ]
  },
  {
   "cell_type": "markdown",
   "id": "9f34b791-cea3-45dc-909c-208530712e1a",
   "metadata": {
    "papermill": {},
    "tags": []
   },
   "source": [
    "Create a new status update for one or more profiles."
   ]
  },
  {
   "cell_type": "code",
   "execution_count": null,
   "id": "b6d4c1c4-0f7b-40e5-8f96-c8bf4d1a7fb3",
   "metadata": {
    "papermill": {},
    "tags": []
   },
   "source": "# Create a Buffer client\nclient = buffer.Buffer(access_token)\n# Create the update\nupdate = client.updates.create(profile_ids=[profile_id], text=text)",
   "outputs": []
  },
  {
   "cell_type": "markdown",
   "id": "398b85f5-cc04-4a21-ae48-9509de0e0ed3",
   "metadata": {
    "papermill": {},
    "tags": []
   },
   "source": [
    "## Output"
   ]
  },
  {
   "cell_type": "markdown",
   "id": "41ba0bde-f691-4648-bfc4-0d7486f845b4",
   "metadata": {
    "papermill": {},
    "tags": []
   },
   "source": [
    "### Display result"
   ]
  },
  {
   "cell_type": "code",
   "execution_count": null,
   "id": "e9e93557-9149-4e50-b148-adfc50836c78",
   "metadata": {
    "papermill": {},
    "tags": []
   },
   "source": "print(update)",
   "outputs": []
  },
  {
   "cell_type": "markdown",
   "id": "b8ca54b9-c785-4cce-afb5-e34335f32dce",
   "metadata": {
    "papermill": {},
    "tags": []
   },
   "source": [
    " "
   ]
  }
 ],
 "metadata": {
  "kernelspec": {
   "display_name": "Python 3",
   "language": "python",
   "name": "python3"
  },
  "language_info": {
   "codemirror_mode": {
    "name": "ipython",
    "version": 3
   },
   "file_extension": ".py",
   "mimetype": "text/x-python",
   "name": "python",
   "nbconvert_exporter": "python",
   "pygments_lexer": "ipython3",
   "version": "3.9.6"
  },
  "widgets": {
   "application/vnd.jupyter.widget-state+json": {
    "state": {},
    "version_major": 2,
    "version_minor": 0
   }
  }
 },
 "nbformat": 4,
 "nbformat_minor": 5
}