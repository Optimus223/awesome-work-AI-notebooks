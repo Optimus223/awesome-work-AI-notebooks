{
 "cells": [
  {
   "cell_type": "markdown",
   "id": "4e89d55b-eb6d-4d50-a0a2-aa674d4c5af1",
   "metadata": {
    "papermill": {},
    "tags": []
   },
   "source": [
    "<img width=\"10%\" alt=\"Naas\" src=\"https://landen.imgix.net/jtci2pxwjczr/assets/5ice39g4.png?w=160\"/>"
   ]
  },
  {
   "cell_type": "markdown",
   "id": "fe56529c-52f7-4b91-a9d9-caac34166024",
   "metadata": {
    "papermill": {},
    "tags": []
   },
   "source": [
    "# Mixpanel - Get Profile Event Activity"
   ]
  },
  {
   "cell_type": "markdown",
   "id": "aa6a93f4-a993-47ca-b1be-d3933fd0ed1e",
   "metadata": {
    "papermill": {},
    "tags": []
   },
   "source": [
    "**Tags:** #mixpanel #activity #stream #query #api #reference"
   ]
  },
  {
   "cell_type": "markdown",
   "id": "f580fcaf-11bc-4fc7-94b0-e7008f3a45ea",
   "metadata": {
    "papermill": {},
    "tags": []
   },
   "source": [
    "**Author:** [Florent Ravenel](https://www.linkedin.com/in/florent-ravenel)"
   ]
  },
  {
   "cell_type": "markdown",
   "id": "b49c299b-a88e-4429-b530-142f913e1f55",
   "metadata": {
    "papermill": {},
    "tags": []
   },
   "source": [
    "**Last update:** 2023-07-06 (Created: 2023-07-06)"
   ]
  },
  {
   "cell_type": "markdown",
   "id": "7f66ca60-701f-4e64-9741-d8cc07258f1b",
   "metadata": {
    "papermill": {},
    "tags": []
   },
   "source": [
    "**Description:** This notebook returns the activity feed for specified users. It is usefull for organizations to track user activity and get insights from it."
   ]
  },
  {
   "cell_type": "markdown",
   "id": "3dfadedf-fec3-4ed0-87a2-b0b9ab64284d",
   "metadata": {
    "papermill": {},
    "tags": []
   },
   "source": [
    "**References:**\n- [Mixpanel Activity Stream Query](https://developer.mixpanel.com/reference/activity-stream-query)\n- [Mixpanel API Documentation](https://developer.mixpanel.com/docs/api-documentation)"
   ]
  },
  {
   "cell_type": "markdown",
   "id": "676d34d0-ea2a-47cf-99fb-27d5c11e6ed4",
   "metadata": {
    "papermill": {},
    "tags": []
   },
   "source": [
    "## Input"
   ]
  },
  {
   "cell_type": "markdown",
   "id": "ab696ff7-2c1f-4792-8c65-fe6d442ce694",
   "metadata": {
    "papermill": {},
    "tags": []
   },
   "source": [
    "### Import libraries"
   ]
  },
  {
   "cell_type": "code",
   "execution_count": null,
   "id": "c4776d99-942b-4580-b47f-f9dbc5e03f44",
   "metadata": {
    "papermill": {},
    "tags": []
   },
   "source": "import requests\nimport json",
   "outputs": []
  },
  {
   "cell_type": "markdown",
   "id": "1da5ad12-718f-42c9-8d54-519823543ecd",
   "metadata": {
    "papermill": {},
    "tags": []
   },
   "source": [
    "### Setup Variables\n- `api_key`: Mixpanel API key. [Get your API key](https://developer.mixpanel.com/docs/getting-started)\n- `user_id`: Mixpanel user ID"
   ]
  },
  {
   "cell_type": "code",
   "execution_count": null,
   "id": "0463e05a-7c58-4bbe-b40a-ba866c86bfc3",
   "metadata": {
    "papermill": {},
    "tags": []
   },
   "source": "api_key = \"YOUR_API_KEY\"\nuser_id = \"YOUR_USER_ID\"",
   "outputs": []
  },
  {
   "cell_type": "markdown",
   "id": "80415fcc-8896-4af2-b92e-ac8cdec70d0a",
   "metadata": {
    "papermill": {},
    "tags": []
   },
   "source": [
    "## Model"
   ]
  },
  {
   "cell_type": "markdown",
   "id": "6f66b78a-6260-4765-97f0-1c44dbee7d4f",
   "metadata": {
    "papermill": {},
    "tags": []
   },
   "source": [
    "### Get Profile Event Activity"
   ]
  },
  {
   "cell_type": "markdown",
   "id": "0f4fa175-30b3-4566-97da-2a2dca835478",
   "metadata": {
    "papermill": {},
    "tags": []
   },
   "source": [
    "This function returns the activity feed for specified users."
   ]
  },
  {
   "cell_type": "code",
   "execution_count": null,
   "id": "7075ae34-3a39-4c72-abe1-abeea59572b4",
   "metadata": {
    "papermill": {},
    "tags": []
   },
   "source": "def get_profile_event_activity(api_key, user_id):\n    url = \"https://mixpanel.com/api/2.0/stream/query\"\n    params = {\n        \"from_date\": \"2020-01-01\",\n        \"to_date\": \"2020-12-31\",\n        \"where\": f'properties[\"distinct_id\"] == \"{user_id}\"',\n        \"api_key\": api_key,\n    }\n    response = requests.get(url, params=params)\n    return response.json()",
   "outputs": []
  },
  {
   "cell_type": "markdown",
   "id": "40b30352-c7ad-4923-a5f8-f9ff3ff02340",
   "metadata": {
    "papermill": {},
    "tags": []
   },
   "source": [
    "## Output"
   ]
  },
  {
   "cell_type": "markdown",
   "id": "bf863a77-8e6d-41ca-bcde-f024e60f5f91",
   "metadata": {
    "papermill": {},
    "tags": []
   },
   "source": [
    "### Display result"
   ]
  },
  {
   "cell_type": "code",
   "execution_count": null,
   "id": "63a5a34d-9c0c-4e91-afe0-7d1c02673bf6",
   "metadata": {
    "papermill": {},
    "tags": []
   },
   "source": "activity_feed = get_profile_event_activity(api_key, user_id)\nprint(json.dumps(activity_feed, indent=4))",
   "outputs": []
  },
  {
   "cell_type": "markdown",
   "id": "348ef3d0-b394-429f-a1a1-816165d95add",
   "metadata": {
    "papermill": {},
    "tags": []
   },
   "source": [
    " "
   ]
  }
 ],
 "metadata": {
  "kernelspec": {
   "display_name": "Python 3",
   "language": "python",
   "name": "python3"
  },
  "language_info": {
   "codemirror_mode": {
    "name": "ipython",
    "version": 3
   },
   "file_extension": ".py",
   "mimetype": "text/x-python",
   "name": "python",
   "nbconvert_exporter": "python",
   "pygments_lexer": "ipython3",
   "version": "3.9.6"
  },
  "widgets": {
   "application/vnd.jupyter.widget-state+json": {
    "state": {},
    "version_major": 2,
    "version_minor": 0
   }
  }
 },
 "nbformat": 4,
 "nbformat_minor": 5
}