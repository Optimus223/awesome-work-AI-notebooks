{
 "cells": [
  {
   "cell_type": "markdown",
   "id": "b63582f6-f5a9-41bf-a3d8-137c657633a4",
   "metadata": {
    "papermill": {},
    "tags": []
   },
   "source": [
    "<img width=\"10%\" alt=\"Naas\" src=\"https://landen.imgix.net/jtci2pxwjczr/assets/5ice39g4.png?w=160\"/>"
   ]
  },
  {
   "cell_type": "markdown",
   "id": "62107f90-c0a3-4fb9-8d4c-0ac7cb0f1441",
   "metadata": {
    "papermill": {},
    "tags": []
   },
   "source": [
    "# Algolia - Search index (GET)"
   ]
  },
  {
   "cell_type": "markdown",
   "id": "6a2686ed-6da5-4a7b-8ce2-f01dcb43c407",
   "metadata": {
    "papermill": {},
    "tags": []
   },
   "source": [
    "**Tags:** #algolia #search #index #get #restapi #api"
   ]
  },
  {
   "cell_type": "markdown",
   "id": "38891203-8ffc-41a4-92ba-5f80fb040ba4",
   "metadata": {
    "papermill": {},
    "tags": []
   },
   "source": [
    "**Author:** [Florent Ravenel](https://www.linkedin.com/in/florent-ravenel/)"
   ]
  },
  {
   "cell_type": "markdown",
   "id": "e9ee9931-0044-47fb-b418-0e25bbc643e8",
   "metadata": {
    "papermill": {},
    "tags": []
   },
   "source": [
    "**Description:** This notebook will show how to use the Algolia Search Index (GET) API to retrieve data from an Algolia index. It is usefull for organizations that need to query an Algolia index."
   ]
  },
  {
   "cell_type": "markdown",
   "id": "cf419519-89b0-4c32-acc3-1258bc12bcee",
   "metadata": {
    "papermill": {},
    "tags": []
   },
   "source": [
    "**References:**\n- [Algolia Search Index (GET) Documentation](https://www.algolia.com/doc/rest-api/search/#search-index-get)\n- [Algolia Python Client Documentation](https://www.algolia.com/doc/api-client/getting-started/install/python/)"
   ]
  },
  {
   "cell_type": "markdown",
   "id": "3a343568-fdfe-4ec4-a11b-25cc55b48779",
   "metadata": {
    "papermill": {},
    "tags": []
   },
   "source": [
    "## Input"
   ]
  },
  {
   "cell_type": "markdown",
   "id": "4e66bea0-16bb-4329-8740-8f53bfede031",
   "metadata": {
    "papermill": {},
    "tags": []
   },
   "source": [
    "### Import libraries"
   ]
  },
  {
   "cell_type": "code",
   "execution_count": null,
   "id": "739ce0d5-dcbf-43dd-b88b-500253487c88",
   "metadata": {
    "papermill": {},
    "tags": []
   },
   "source": "import algoliasearch",
   "outputs": []
  },
  {
   "cell_type": "markdown",
   "id": "63668486-e786-4687-a7e3-c6b4a5cc95ae",
   "metadata": {
    "papermill": {},
    "tags": []
   },
   "source": [
    "### Setup Variables\n- `app_id`: Algolia application ID. [Get your Algolia application ID](https://www.algolia.com/doc/guides/getting-started/generate-api-keys/).\n- `api_key`: Algolia API key. [Get your Algolia API key](https://www.algolia.com/doc/guides/getting-started/generate-api-keys/).\n- `index_name`: Algolia index name."
   ]
  },
  {
   "cell_type": "code",
   "execution_count": null,
   "id": "2349ed6b-aac6-4e5d-b500-5eed9db710d6",
   "metadata": {
    "papermill": {},
    "tags": []
   },
   "source": "app_id = \"<YOUR_ALGOLIA_APP_ID>\"\napi_key = \"<YOUR_ALGOLIA_API_KEY>\"\nindex_name = \"<YOUR_ALGOLIA_INDEX_NAME>\"",
   "outputs": []
  },
  {
   "cell_type": "markdown",
   "id": "9392e804-07a7-4494-b94e-7972fccfdbc8",
   "metadata": {
    "papermill": {},
    "tags": []
   },
   "source": [
    "## Model"
   ]
  },
  {
   "cell_type": "markdown",
   "id": "75de4ee2-d596-4574-86c5-94f14a81f846",
   "metadata": {
    "papermill": {},
    "tags": []
   },
   "source": [
    "### Search Index (GET)"
   ]
  },
  {
   "cell_type": "markdown",
   "id": "3f543dd4-2d59-4b61-94e0-336b494ece06",
   "metadata": {
    "papermill": {},
    "tags": []
   },
   "source": [
    "The Algolia Search Index (GET) API allows you to retrieve data from an Algolia index."
   ]
  },
  {
   "cell_type": "code",
   "execution_count": null,
   "id": "a8a20a74-a2f6-46f1-b08b-d87296ecd5bd",
   "metadata": {
    "papermill": {},
    "tags": []
   },
   "source": "# Initialize the Algolia client\nclient = algoliasearch.Client(app_id, api_key)\n# Initialize the Algolia index\nindex = client.init_index(index_name)\n# Retrieve data from the Algolia index\nresults = index.search(\"\")",
   "outputs": []
  },
  {
   "cell_type": "markdown",
   "id": "b1d7ce7e-b702-41c3-bb3e-f39b5f3a4b90",
   "metadata": {
    "papermill": {},
    "tags": []
   },
   "source": [
    "## Output"
   ]
  },
  {
   "cell_type": "markdown",
   "id": "4d45a803-f47b-4c93-be41-7ddd72d6a5b1",
   "metadata": {
    "papermill": {},
    "tags": []
   },
   "source": [
    "### Display result"
   ]
  },
  {
   "cell_type": "code",
   "execution_count": null,
   "id": "090cc8d4-63b2-4ac5-bb0a-1d44698c0abc",
   "metadata": {
    "papermill": {},
    "tags": []
   },
   "source": "print(results)",
   "outputs": []
  },
  {
   "cell_type": "markdown",
   "id": "9b602828-6fe8-4ef7-8254-0b3f6d39bd6a",
   "metadata": {
    "papermill": {},
    "tags": []
   },
   "source": [
    " "
   ]
  }
 ],
 "metadata": {
  "kernelspec": {
   "display_name": "Python 3",
   "language": "python",
   "name": "python3"
  },
  "language_info": {
   "codemirror_mode": {
    "name": "ipython",
    "version": 3
   },
   "file_extension": ".py",
   "mimetype": "text/x-python",
   "name": "python",
   "nbconvert_exporter": "python",
   "pygments_lexer": "ipython3",
   "version": "3.9.6"
  },
  "widgets": {
   "application/vnd.jupyter.widget-state+json": {
    "state": {},
    "version_major": 2,
    "version_minor": 0
   }
  }
 },
 "nbformat": 4,
 "nbformat_minor": 5
}