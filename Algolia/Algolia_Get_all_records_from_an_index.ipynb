{
 "cells": [
  {
   "cell_type": "markdown",
   "id": "11d08c61-173e-4247-8a82-3893b9579c03",
   "metadata": {
    "papermill": {},
    "tags": []
   },
   "source": [
    "<img width=\"10%\" alt=\"Naas\" src=\"https://landen.imgix.net/jtci2pxwjczr/assets/5ice39g4.png?w=160\"/>"
   ]
  },
  {
   "cell_type": "markdown",
   "id": "6a7dc56a-a769-4fcf-add5-fe7c6d976784",
   "metadata": {
    "papermill": {},
    "tags": []
   },
   "source": [
    "# Algolia - Get all records from an index"
   ]
  },
  {
   "cell_type": "markdown",
   "id": "7c5b1cd2-a7c3-4e7a-b7ed-670542dbe124",
   "metadata": {
    "papermill": {},
    "tags": []
   },
   "source": [
    "**Tags:** #algolia #python #api #index #records #browse"
   ]
  },
  {
   "cell_type": "markdown",
   "id": "5cb77dcb-252c-448a-8c54-1b3cecc566e0",
   "metadata": {
    "papermill": {},
    "tags": []
   },
   "source": [
    "**Author:** [Florent Ravenel](https://www.linkedin.com/in/florent-ravenel/)"
   ]
  },
  {
   "cell_type": "markdown",
   "id": "157047ba-776b-430e-add1-5f72083ead65",
   "metadata": {
    "papermill": {},
    "tags": []
   },
   "source": [
    "**Description:** This notebook shows how to get all records from an Algolia index using Python. It is usefull for organizations that need to access and manipulate data stored in Algolia."
   ]
  },
  {
   "cell_type": "markdown",
   "id": "60d5b331-15e2-4812-b086-13dd192ac2fa",
   "metadata": {
    "papermill": {},
    "tags": []
   },
   "source": [
    "**References:**\n- [Algolia API Reference](https://www.algolia.com/doc/api-reference/api-methods/browse/?client=python#examples)\n- [Algolia Python Client](https://github.com/algolia/algoliasearch-client-python)"
   ]
  },
  {
   "cell_type": "markdown",
   "id": "554e5d73-9fd4-4e6c-9ff0-7758851faa90",
   "metadata": {
    "papermill": {},
    "tags": []
   },
   "source": [
    "## Input"
   ]
  },
  {
   "cell_type": "markdown",
   "id": "7df6b816-2392-4301-855a-f49278e5837d",
   "metadata": {
    "papermill": {},
    "tags": []
   },
   "source": [
    "### Import libraries"
   ]
  },
  {
   "cell_type": "code",
   "execution_count": null,
   "id": "aa0e3e6f-1260-4452-8abf-7c084e26c8a4",
   "metadata": {
    "papermill": {},
    "tags": []
   },
   "source": "import algoliasearch",
   "outputs": []
  },
  {
   "cell_type": "markdown",
   "id": "e1b7463d-b2ae-47ae-8ca4-97ae1fe801db",
   "metadata": {
    "papermill": {},
    "tags": []
   },
   "source": [
    "### Setup Variables\n- `app_id`: Algolia application ID. [Get your credentials](https://www.algolia.com/api-keys)\n- `api_key`: Algolia API key. [Get your credentials](https://www.algolia.com/api-keys)\n- `index_name`: Algolia index name"
   ]
  },
  {
   "cell_type": "code",
   "execution_count": null,
   "id": "cfa97168-63eb-4e8c-89c3-0a5d26f47740",
   "metadata": {
    "papermill": {},
    "tags": []
   },
   "source": "app_id = \"<YOUR_APP_ID>\"\napi_key = \"<YOUR_API_KEY>\"\nindex_name = \"<YOUR_INDEX_NAME>\"",
   "outputs": []
  },
  {
   "cell_type": "markdown",
   "id": "8871707b-c02f-4800-ae8e-fd551aa0717f",
   "metadata": {
    "papermill": {},
    "tags": []
   },
   "source": [
    "## Model"
   ]
  },
  {
   "cell_type": "markdown",
   "id": "dfc29d71-db3a-4c28-a046-ca4333a42f64",
   "metadata": {
    "papermill": {},
    "tags": []
   },
   "source": [
    "### Get all records from an index"
   ]
  },
  {
   "cell_type": "code",
   "execution_count": null,
   "id": "1f9f3614-4ae1-4dfa-aa43-15dad392c81e",
   "metadata": {
    "papermill": {},
    "tags": []
   },
   "source": "# Initialize the Algolia client\nclient = algoliasearch.Client(app_id, api_key)\n# Initialize the Algolia index\nindex = client.init_index(index_name)\n# Get all records from the index\nrecords = index.browse_all()",
   "outputs": []
  },
  {
   "cell_type": "markdown",
   "id": "88605bbe-4b30-4b3e-877c-ace2a00a0073",
   "metadata": {
    "papermill": {},
    "tags": []
   },
   "source": [
    "## Output"
   ]
  },
  {
   "cell_type": "markdown",
   "id": "2e68c026-77ac-4436-9cc4-b094e6119b9c",
   "metadata": {
    "papermill": {},
    "tags": []
   },
   "source": [
    "### Display result"
   ]
  },
  {
   "cell_type": "code",
   "execution_count": null,
   "id": "1db97bcf-8b7c-4c89-96a6-00f744f23cdd",
   "metadata": {
    "papermill": {},
    "tags": []
   },
   "source": "for record in records:\n    print(record)",
   "outputs": []
  }
 ],
 "metadata": {
  "kernelspec": {
   "display_name": "Python 3",
   "language": "python",
   "name": "python3"
  },
  "language_info": {
   "codemirror_mode": {
    "name": "ipython",
    "version": 3
   },
   "file_extension": ".py",
   "mimetype": "text/x-python",
   "name": "python",
   "nbconvert_exporter": "python",
   "pygments_lexer": "ipython3",
   "version": "3.9.6"
  },
  "widgets": {
   "application/vnd.jupyter.widget-state+json": {
    "state": {},
    "version_major": 2,
    "version_minor": 0
   }
  }
 },
 "nbformat": 4,
 "nbformat_minor": 5
}