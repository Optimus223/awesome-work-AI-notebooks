{
 "cells": [
  {
   "cell_type": "markdown",
   "id": "4cccf842-e855-4dfa-a6c7-a89683ab205d",
   "metadata": {
    "papermill": {},
    "tags": []
   },
   "source": [
    "<img width=\"10%\" alt=\"Naas\" src=\"https://landen.imgix.net/jtci2pxwjczr/assets/5ice39g4.png?w=160\"/>"
   ]
  },
  {
   "cell_type": "markdown",
   "id": "911e09fb-1d8c-4503-9664-d8ce1b6b41c9",
   "metadata": {
    "papermill": {},
    "tags": []
   },
   "source": [
    "# Xero - Get Bank Transactions"
   ]
  },
  {
   "cell_type": "markdown",
   "id": "ea13a430-b409-4dcb-84ff-7cdf4f654e70",
   "metadata": {
    "papermill": {},
    "tags": []
   },
   "source": [
    "**Tags:** #xero #banktransactions #api #accounting #retrieve #transactions"
   ]
  },
  {
   "cell_type": "markdown",
   "id": "829d4ec1-16f0-47f9-91c7-f8fe3e54dd15",
   "metadata": {
    "papermill": {},
    "tags": []
   },
   "source": [
    "**Author:** [Florent Ravenel](https://www.linkedin.com/in/florent-ravenel)"
   ]
  },
  {
   "cell_type": "markdown",
   "id": "475467d1-aec6-4e90-94d3-1802eaa4df41",
   "metadata": {
    "papermill": {},
    "tags": []
   },
   "source": [
    "**Last update:** 2023-08-10 (Created: 2023-08-10)"
   ]
  },
  {
   "cell_type": "markdown",
   "id": "e455e21a-6a3f-4078-babf-ab4a8322e426",
   "metadata": {
    "papermill": {},
    "tags": []
   },
   "source": [
    "**Description:** This notebook retrieves one or many bank transactions from Xero. It is usefull for organizations to keep track of their financial data."
   ]
  },
  {
   "cell_type": "markdown",
   "id": "9335fb0f-59f0-4cc2-b655-024b2909089b",
   "metadata": {
    "papermill": {},
    "tags": []
   },
   "source": [
    "**References:**\n- [Xero Developer Documentation](https://developer.xero.com/documentation/api/accounting/banktransactions)\n- [Xero API Reference](https://developer.xero.com/documentation/api/api-overview)"
   ]
  },
  {
   "cell_type": "markdown",
   "id": "fdf9e770-7d4e-4e7f-a2ea-2381bc63f6ab",
   "metadata": {
    "papermill": {},
    "tags": []
   },
   "source": [
    "## Input"
   ]
  },
  {
   "cell_type": "markdown",
   "id": "9afe60d0-6f6c-4d45-930e-cdb37169799f",
   "metadata": {
    "papermill": {},
    "tags": []
   },
   "source": [
    "### Import libraries"
   ]
  },
  {
   "cell_type": "code",
   "execution_count": null,
   "id": "ab36a44a-b522-4cbd-a065-4d58905e63df",
   "metadata": {
    "papermill": {},
    "tags": []
   },
   "source": "import requests\nimport json",
   "outputs": []
  },
  {
   "cell_type": "markdown",
   "id": "2d9a5946-3630-45f2-ac1b-af81b127e4f8",
   "metadata": {
    "papermill": {},
    "tags": []
   },
   "source": [
    "### Setup variables\n- **api_key**: API key provided by Xero. [Procedure to get API key](https://developer.xero.com/documentation/getting-started/getting-started-guide)\n- **url**: URL of the Xero API endpoint."
   ]
  },
  {
   "cell_type": "code",
   "execution_count": null,
   "id": "b874b1fb-db1d-48b5-9afb-ec0c932f739c",
   "metadata": {
    "papermill": {},
    "tags": []
   },
   "source": "api_key = \"<api_key>\"\nurl = \"https://api.xero.com/api.xro/2.0/BankTransactions\"",
   "outputs": []
  },
  {
   "cell_type": "markdown",
   "id": "e0652e3d-ff7d-4952-87d1-e4a3c3062960",
   "metadata": {
    "papermill": {},
    "tags": []
   },
   "source": [
    "## Model"
   ]
  },
  {
   "cell_type": "markdown",
   "id": "8a8e14d1-b0a1-4b5c-8084-12c07d7e4c54",
   "metadata": {
    "papermill": {},
    "tags": []
   },
   "source": [
    "### Retrieve bank transactions"
   ]
  },
  {
   "cell_type": "markdown",
   "id": "090eec2c-e88f-43f3-bbe3-985f0ffe34cd",
   "metadata": {
    "papermill": {},
    "tags": []
   },
   "source": [
    "Retrieve one or many bank transactions from Xero."
   ]
  },
  {
   "cell_type": "code",
   "execution_count": null,
   "id": "4e981ada-8ff7-4d78-8e18-4885952e38d0",
   "metadata": {
    "papermill": {},
    "tags": []
   },
   "source": "headers = {\"Authorization\": \"Bearer \" + api_key, \"Content-Type\": \"application/json\"}\nresponse = requests.get(url, headers=headers)",
   "outputs": []
  },
  {
   "cell_type": "markdown",
   "id": "2015a065-dbaf-482c-a07c-4bfefae52615",
   "metadata": {
    "papermill": {},
    "tags": []
   },
   "source": [
    "## Output"
   ]
  },
  {
   "cell_type": "markdown",
   "id": "f5f28647-055a-439e-9a73-813e3d962eb8",
   "metadata": {
    "papermill": {},
    "tags": []
   },
   "source": [
    "### Display result"
   ]
  },
  {
   "cell_type": "code",
   "execution_count": null,
   "id": "b0e431d1-31d8-43d7-8601-043e59ff6cc7",
   "metadata": {
    "papermill": {},
    "tags": []
   },
   "source": "print(response.text)",
   "outputs": []
  },
  {
   "cell_type": "markdown",
   "id": "ee29ce8f-e8da-4498-bb1a-2d6696f44e84",
   "metadata": {
    "papermill": {},
    "tags": []
   },
   "source": [
    " "
   ]
  }
 ],
 "metadata": {
  "kernelspec": {
   "display_name": "Python 3",
   "language": "python",
   "name": "python3"
  },
  "language_info": {
   "codemirror_mode": {
    "name": "ipython",
    "version": 3
   },
   "file_extension": ".py",
   "mimetype": "text/x-python",
   "name": "python",
   "nbconvert_exporter": "python",
   "pygments_lexer": "ipython3",
   "version": "3.9.6"
  },
  "widgets": {
   "application/vnd.jupyter.widget-state+json": {
    "state": {},
    "version_major": 2,
    "version_minor": 0
   }
  }
 },
 "nbformat": 4,
 "nbformat_minor": 5
}