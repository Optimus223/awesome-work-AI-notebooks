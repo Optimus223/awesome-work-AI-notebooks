{
 "cells": [
  {
   "cell_type": "markdown",
   "id": "athletic-turning",
   "metadata": {
    "papermill": {},
    "tags": []
   },
   "source": [
    "<img width=\"10%\" alt=\"Naas\" src=\"https://landen.imgix.net/jtci2pxwjczr/assets/5ice39g4.png?w=160\"/>"
   ]
  },
  {
   "cell_type": "markdown",
   "id": "obvious-currency",
   "metadata": {
    "papermill": {},
    "tags": []
   },
   "source": [
    "# Bubble - Trigger workflow\n",
    "<a href=\"https://app.naas.ai/user-redirect/naas/downloader?url=https://raw.githubusercontent.com/jupyter-naas/awesome-notebooks/master/Bubble/Bubble_Trigger_workflow.ipynb\" target=\"_parent\"><img src=\"https://img.shields.io/badge/-Open%20in%20Naas-success?labelColor=000000&logo=data:image/svg+xml;base64,PD94bWwgdmVyc2lvbj0iMS4wIiBlbmNvZGluZz0iVVRGLTgiPz4KPHN2ZyB3aWR0aD0iMTAyNHB4IiBoZWlnaHQ9IjEwMjRweCIgdmlld0JveD0iMCAwIDEwMjQgMTAyNCIgeG1sbnM9Imh0dHA6Ly93d3cudzMub3JnLzIwMDAvc3ZnIiB4bWxuczp4bGluaz0iaHR0cDovL3d3dy53My5vcmcvMTk5OS94bGluayIgdmVyc2lvbj0iMS4xIj4KIDwhLS0gR2VuZXJhdGVkIGJ5IFBpeGVsbWF0b3IgUHJvIDIuMC41IC0tPgogPGRlZnM+CiAgPHRleHQgaWQ9InN0cmluZyIgdHJhbnNmb3JtPSJtYXRyaXgoMS4wIDAuMCAwLjAgMS4wIDIyOC4wIDU0LjUpIiBmb250LWZhbWlseT0iQ29tZm9ydGFhLVJlZ3VsYXIsIENvbWZvcnRhYSIgZm9udC1zaXplPSI4MDAiIHRleHQtZGVjb3JhdGlvbj0ibm9uZSIgZmlsbD0iI2ZmZmZmZiIgeD0iMS4xOTk5OTk5OTk5OTk5ODg2IiB5PSI3MDUuMCI+bjwvdGV4dD4KIDwvZGVmcz4KIDx1c2UgaWQ9Im4iIHhsaW5rOmhyZWY9IiNzdHJpbmciLz4KPC9zdmc+Cg==\"/></a>"
   ]
  },
  {
   "cell_type": "markdown",
   "id": "3354ffc3-0289-42c1-a1fa-b96b61909bb2",
   "metadata": {
    "execution": {
     "iopub.execute_input": "2021-10-01T09:42:41.839729Z",
     "iopub.status.busy": "2021-10-01T09:42:41.839448Z",
     "iopub.status.idle": "2021-10-01T09:42:41.852424Z",
     "shell.execute_reply": "2021-10-01T09:42:41.851502Z",
     "shell.execute_reply.started": "2021-10-01T09:42:41.839663Z"
    }
   },
   "source": [
    "**Tags:** #bubble #marketdata"
   ]
  },
  {
   "cell_type": "markdown",
   "id": "a24ad195-0023-4574-94d6-e1176b5d7453",
   "metadata": {
    "execution": {
     "iopub.execute_input": "2021-10-01T09:42:52.225300Z",
     "iopub.status.busy": "2021-10-01T09:42:52.225036Z",
     "iopub.status.idle": "2021-10-01T09:42:52.227906Z",
     "shell.execute_reply": "2021-10-01T09:42:52.227297Z",
     "shell.execute_reply.started": "2021-10-01T09:42:52.225274Z"
    }
   },
   "source": [
    "## Input"
   ]
  },
  {
   "cell_type": "markdown",
   "id": "4526aa8c-32ee-4fd4-ab7e-dda90a82fe95",
   "metadata": {},
   "source": [
    "### Import library"
   ]
  },
  {
   "cell_type": "code",
   "execution_count": null,
   "id": "2bcd3564-91f1-4742-b381-ecdfc9f68fe0",
   "metadata": {
    "tags": []
   },
   "outputs": [],
   "source": [
    "from naas_drivers import bubble"
   ]
  },
  {
   "cell_type": "markdown",
   "id": "89679771-712a-4877-86d9-c6afd7f39cb9",
   "metadata": {},
   "source": [
    "## Model"
   ]
  },
  {
   "cell_type": "markdown",
   "id": "ecf2965d-137b-40e0-a3d9-11e27a421a14",
   "metadata": {},
   "source": [
    "### Trigger workflow"
   ]
  },
  {
   "cell_type": "code",
   "execution_count": null,
   "id": "55751b9a-0a32-44a8-8a09-61ba452db5e0",
   "metadata": {},
   "outputs": [],
   "source": [
    "url = \"https://appname.bubbleapps.io/api/1.1/wf/endpoint_name\"\n",
    "data = { \"first_name\":\"Bryan\", \"last_name\":\"Helmig\", \"age\": 27 }"
   ]
  },
  {
   "cell_type": "markdown",
   "id": "40bbe760-5f71-4dd0-8d40-b475139d7026",
   "metadata": {},
   "source": [
    "## Output"
   ]
  },
  {
   "cell_type": "markdown",
   "id": "51734192-9104-417a-88e4-d66747938516",
   "metadata": {},
   "source": [
    "### Send result"
   ]
  },
  {
   "cell_type": "code",
   "execution_count": null,
   "id": "administrative-director",
   "metadata": {
    "papermill": {},
    "tags": []
   },
   "outputs": [],
   "source": [
    "resultresult = nass_drivers.bubble.send(url, data)"
   ]
  }
 ],
 "metadata": {
  "kernelspec": {
   "display_name": "Python 3",
   "language": "python",
   "name": "python3"
  },
  "language_info": {
   "codemirror_mode": {
    "name": "ipython",
    "version": 3
   },
   "file_extension": ".py",
   "mimetype": "text/x-python",
   "name": "python",
   "nbconvert_exporter": "python",
   "pygments_lexer": "ipython3",
   "version": "3.8.8"
  },
  "papermill": {
   "default_parameters": {},
   "environment_variables": {},
   "parameters": {},
   "version": "2.3.3"
  }
 },
 "nbformat": 4,
 "nbformat_minor": 5
}
