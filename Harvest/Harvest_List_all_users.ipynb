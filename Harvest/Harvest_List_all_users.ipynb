{
 "cells": [
  {
   "cell_type": "markdown",
   "id": "f2a47dd5-bd4b-40ae-807a-33733f54526c",
   "metadata": {
    "papermill": {},
    "tags": []
   },
   "source": [
    "<img width=\"10%\" alt=\"Naas\" src=\"https://landen.imgix.net/jtci2pxwjczr/assets/5ice39g4.png?w=160\"/>"
   ]
  },
  {
   "cell_type": "markdown",
   "id": "7b1332f0-6461-48ed-937b-d596e7355431",
   "metadata": {
    "papermill": {},
    "tags": []
   },
   "source": [
    "# Harvest - List all users\n",
    "<a href=\"https://app.naas.ai/user-redirect/naas/downloader?url=https://raw.githubusercontent.com/jupyter-naas/awesome-notebooks/master/Harvest/Harvest_Filtered_time_entries.ipynb\" target=\"_parent\"><img src=\"https://naasai-public.s3.eu-west-3.amazonaws.com/Open_in_Naas_Lab.svg\"/></a><br><br><a href=\"https://bit.ly/3JyWIk6\">Give Feedbacks</a> | <a href=\"https://github.com/jupyter-naas/awesome-notebooks/issues/new?assignees=&labels=bug&template=bug_report.md&title=Harvest+-+Get+Filtered+List+of+Time+Entries:+Error+short+description\">Bug report</a>"
   ]
  },
  {
   "cell_type": "markdown",
   "id": "798bab33-186a-4734-a231-29d04ee4bf74",
   "metadata": {
    "papermill": {},
    "tags": []
   },
   "source": [
    "**Tags:** #harvest #users #api #list #python #get"
   ]
  },
  {
   "cell_type": "markdown",
   "id": "7f10c96e-15a4-4ad0-8d3f-986439cd148f",
   "metadata": {
    "papermill": {},
    "tags": []
   },
   "source": [
    "**Author:** [Landry Christensen](https://github.com/lchristensen6)"
   ]
  },
  {
   "cell_type": "markdown",
   "id": "f60cad1d-8350-41e9-b82b-46282a3bf075",
   "metadata": {
    "papermill": {},
    "tags": []
   },
   "source": [
    "**Last update:** 2023-08-03 (Created: 2023-08-03)"
   ]
  },
  {
   "cell_type": "markdown",
   "id": "fb7805d7-e41b-45a3-a8e0-531d6310b4e3",
   "metadata": {
    "papermill": {},
    "tags": []
   },
   "source": [
    "**Description:** This notebook will list all users from the Harvest API v2. This is helpful as it allows organizations to quickly display all of their users on Harvest."
   ]
  },
  {
   "cell_type": "markdown",
   "id": "ab0b9e99-1655-4e11-a2c9-bbb4e391a4d6",
   "metadata": {
    "papermill": {},
    "tags": []
   },
   "source": [
    "**References:**\n",
    "- [Harvest API v2 - Users](https://help.getharvest.com/api-v2/users-api/users/users/)\n",
    "- [Harvest API v2 - Authentication](https://help.getharvest.com/api-v2/authentication-api/authentication/authentication/)"
   ]
  },
  {
   "cell_type": "markdown",
   "id": "c13b8aad-48a0-4802-9179-d98608369f46",
   "metadata": {
    "papermill": {},
    "tags": []
   },
   "source": [
    "## Input"
   ]
  },
  {
   "cell_type": "markdown",
   "id": "4092d0fe-1091-4865-8047-107dce67f67a",
   "metadata": {
    "papermill": {},
    "tags": []
   },
   "source": [
    "### Import libraries"
   ]
  },
  {
   "cell_type": "code",
   "execution_count": 1,
   "id": "0be5433a-7621-427c-87e3-a23cde697521",
   "metadata": {
    "execution": {
     "iopub.execute_input": "2023-08-04T02:17:39.163992Z",
     "iopub.status.busy": "2023-08-04T02:17:39.163717Z",
     "iopub.status.idle": "2023-08-04T02:17:40.950635Z",
     "shell.execute_reply": "2023-08-04T02:17:40.949909Z",
     "shell.execute_reply.started": "2023-08-04T02:17:39.163915Z"
    },
    "papermill": {},
    "tags": []
   },
   "outputs": [],
   "source": [
    "import requests\n",
    "import pandas as pd\n",
    "import naas"
   ]
  },
  {
   "cell_type": "markdown",
   "id": "c9a72c9a-516c-4cf6-9229-356ce62bd494",
   "metadata": {
    "papermill": {},
    "tags": []
   },
   "source": [
    "### Setup Variables\n",
    "\n",
    "[Create your personnal access tokens](https://id.getharvest.com/oauth2/access_tokens/new)\n",
    "- `account_id`: Account ID from Harvest\n",
    "- `access_token`: Access token from Harvest\n",
    "- `limit`: Entries limit, to get all entries enter -1"
   ]
  },
  {
   "cell_type": "code",
   "execution_count": 2,
   "id": "1146059a-d69a-46c6-877f-3b64cb3844b4",
   "metadata": {
    "execution": {
     "iopub.execute_input": "2023-08-04T02:17:40.952352Z",
     "iopub.status.busy": "2023-08-04T02:17:40.952005Z",
     "iopub.status.idle": "2023-08-04T02:17:41.178654Z",
     "shell.execute_reply": "2023-08-04T02:17:41.178055Z",
     "shell.execute_reply.started": "2023-08-04T02:17:40.952322Z"
    },
    "papermill": {},
    "tags": []
   },
   "outputs": [],
   "source": [
    "account_id = naas.secret.get(\"HARVEST_ACCOUNT_ID\") or \"YOUR_HARVEST_ACCOUNT_ID\"\n",
    "access_token = naas.secret.get(\"HARVEST_ACCESS_TOKEN\") or \"YOUR_HARVEST_ACCESS_TOKEN\"\n",
    "limit = 1000"
   ]
  },
  {
   "cell_type": "markdown",
   "id": "b6e5afde-6a5b-4813-a4a9-280c34b68790",
   "metadata": {
    "papermill": {},
    "tags": []
   },
   "source": [
    "## Model"
   ]
  },
  {
   "cell_type": "markdown",
   "id": "18b5d596-5730-4755-acd0-bf83f9da5dcf",
   "metadata": {
    "papermill": {},
    "tags": []
   },
   "source": [
    "### List all users"
   ]
  },
  {
   "cell_type": "markdown",
   "id": "2bf3c5e8-1072-4c54-898a-7f5aa6cb9f40",
   "metadata": {
    "papermill": {},
    "tags": []
   },
   "source": [
    "This function will list all users from the Harvest API v2."
   ]
  },
  {
   "cell_type": "code",
   "execution_count": 3,
   "id": "3044b9c3-2ae0-432b-9227-24ed5d08c1d5",
   "metadata": {
    "execution": {
     "iopub.execute_input": "2023-08-04T02:17:41.180076Z",
     "iopub.status.busy": "2023-08-04T02:17:41.179815Z",
     "iopub.status.idle": "2023-08-04T02:17:41.186328Z",
     "shell.execute_reply": "2023-08-04T02:17:41.185715Z",
     "shell.execute_reply.started": "2023-08-04T02:17:41.180045Z"
    },
    "papermill": {},
    "tags": []
   },
   "outputs": [],
   "source": [
    "def list_time_entries(\n",
    "    account_id,\n",
    "    access_token,\n",
    "    limit=-1,\n",
    "):\n",
    "    # Init\n",
    "    data = []\n",
    "    df = pd.DataFrame()\n",
    "    params = {}\n",
    "    \n",
    "    # Requests\n",
    "    url = f\"https://api.harvestapp.com/v2/users?account_id={account_id}\"\n",
    "    headers = {\n",
    "        \"Authorization\": f\"Bearer {access_token}\",\n",
    "        \"Harvest-Account-Id\": account_id,\n",
    "        \"User-Agent\": \"Harvest API Python Client\",\n",
    "        \"Content-Type\": \"application/json\",\n",
    "    }\n",
    "    \n",
    "    # Loop on while\n",
    "    while True:\n",
    "        res = requests.get(url, headers=headers, params=params)\n",
    "        if res.status_code == 200:\n",
    "            # Get data\n",
    "            res_json = res.json()\n",
    "            users = res_json.get(\"users\")\n",
    "            for user in users:\n",
    "                data.append(user)\n",
    "            \n",
    "                # Manage limit\n",
    "                if limit != -1 and len(data) >= limit:\n",
    "                    break\n",
    "                \n",
    "            # Check next link\n",
    "            link_next = res_json.get(\"links\").get(\"next\")\n",
    "            if link_next:\n",
    "                url = link_next\n",
    "            else:\n",
    "                break\n",
    "        else:\n",
    "            print(res.status_code, res.json().get(\"message\"))\n",
    "            break\n",
    "            \n",
    "    # Transform in dataframes\n",
    "    df = pd.DataFrame(data)\n",
    "    return df"
   ]
  },
  {
   "cell_type": "markdown",
   "id": "9fd9975b-2db5-4c00-916b-0e08f32d1668",
   "metadata": {
    "papermill": {},
    "tags": []
   },
   "source": [
    "## Output"
   ]
  },
  {
   "cell_type": "markdown",
   "id": "536197c4-3909-4b5e-a87f-346d07c32308",
   "metadata": {
    "papermill": {},
    "tags": []
   },
   "source": [
    "### Display result"
   ]
  },
  {
   "cell_type": "code",
   "execution_count": 4,
   "id": "f312a847-d9e6-4481-aca9-61ada7f96fe4",
   "metadata": {
    "execution": {
     "iopub.execute_input": "2023-08-04T02:17:41.187828Z",
     "iopub.status.busy": "2023-08-04T02:17:41.187410Z",
     "iopub.status.idle": "2023-08-04T02:17:41.584910Z",
     "shell.execute_reply": "2023-08-04T02:17:41.584207Z",
     "shell.execute_reply.started": "2023-08-04T02:17:41.187798Z"
    },
    "papermill": {},
    "tags": []
   },
   "outputs": [
    {
     "name": "stdout",
     "output_type": "stream",
     "text": [
      "Row fetched: 77\n"
     ]
    },
    {
     "data": {
      "text/html": [
       "<div>\n",
       "<style scoped>\n",
       "    .dataframe tbody tr th:only-of-type {\n",
       "        vertical-align: middle;\n",
       "    }\n",
       "\n",
       "    .dataframe tbody tr th {\n",
       "        vertical-align: top;\n",
       "    }\n",
       "\n",
       "    .dataframe thead th {\n",
       "        text-align: right;\n",
       "    }\n",
       "</style>\n",
       "<table border=\"1\" class=\"dataframe\">\n",
       "  <thead>\n",
       "    <tr style=\"text-align: right;\">\n",
       "      <th></th>\n",
       "      <th>id</th>\n",
       "      <th>first_name</th>\n",
       "      <th>last_name</th>\n",
       "      <th>email</th>\n",
       "      <th>telephone</th>\n",
       "      <th>timezone</th>\n",
       "      <th>weekly_capacity</th>\n",
       "      <th>has_access_to_all_future_projects</th>\n",
       "      <th>is_contractor</th>\n",
       "      <th>is_active</th>\n",
       "      <th>...</th>\n",
       "      <th>calendar_integration_source</th>\n",
       "      <th>created_at</th>\n",
       "      <th>updated_at</th>\n",
       "      <th>can_create_projects</th>\n",
       "      <th>default_hourly_rate</th>\n",
       "      <th>cost_rate</th>\n",
       "      <th>roles</th>\n",
       "      <th>access_roles</th>\n",
       "      <th>permissions_claims</th>\n",
       "      <th>avatar_url</th>\n",
       "    </tr>\n",
       "  </thead>\n",
       "  <tbody>\n",
       "    <tr>\n",
       "      <th>0</th>\n",
       "      <td>4685249</td>\n",
       "      <td>Andy</td>\n",
       "      <td>Terrel</td>\n",
       "      <td>andy.terrel@gmail.com</td>\n",
       "      <td></td>\n",
       "      <td>Central Time (US &amp; Canada)</td>\n",
       "      <td>144000</td>\n",
       "      <td>False</td>\n",
       "      <td>True</td>\n",
       "      <td>True</td>\n",
       "      <td>...</td>\n",
       "      <td>None</td>\n",
       "      <td>2023-07-25T19:44:47Z</td>\n",
       "      <td>2023-07-25T19:44:47Z</td>\n",
       "      <td>False</td>\n",
       "      <td>None</td>\n",
       "      <td>None</td>\n",
       "      <td>[]</td>\n",
       "      <td>[member]</td>\n",
       "      <td>[expenses:read:own, expenses:write:own, timers...</td>\n",
       "      <td>https://d3s3969qhosaug.cloudfront.net/v2/defau...</td>\n",
       "    </tr>\n",
       "    <tr>\n",
       "      <th>1</th>\n",
       "      <td>4678008</td>\n",
       "      <td>Hansa</td>\n",
       "      <td>Giridhar</td>\n",
       "      <td>hansagiridhar@gmail.com</td>\n",
       "      <td></td>\n",
       "      <td>Central Time (US &amp; Canada)</td>\n",
       "      <td>57600</td>\n",
       "      <td>False</td>\n",
       "      <td>False</td>\n",
       "      <td>True</td>\n",
       "      <td>...</td>\n",
       "      <td>None</td>\n",
       "      <td>2023-07-17T16:19:03Z</td>\n",
       "      <td>2023-07-22T06:28:37Z</td>\n",
       "      <td>False</td>\n",
       "      <td>None</td>\n",
       "      <td>None</td>\n",
       "      <td>[]</td>\n",
       "      <td>[member]</td>\n",
       "      <td>[expenses:read:own, expenses:write:own, timers...</td>\n",
       "      <td>https://d3s3969qhosaug.cloudfront.net/v2/defau...</td>\n",
       "    </tr>\n",
       "    <tr>\n",
       "      <th>2</th>\n",
       "      <td>4660599</td>\n",
       "      <td>Landry</td>\n",
       "      <td>Christensen</td>\n",
       "      <td>landrychristensen@gmail.com</td>\n",
       "      <td></td>\n",
       "      <td>Central Time (US &amp; Canada)</td>\n",
       "      <td>36000</td>\n",
       "      <td>False</td>\n",
       "      <td>False</td>\n",
       "      <td>True</td>\n",
       "      <td>...</td>\n",
       "      <td>None</td>\n",
       "      <td>2023-06-27T21:46:15Z</td>\n",
       "      <td>2023-08-01T17:04:56Z</td>\n",
       "      <td>False</td>\n",
       "      <td>None</td>\n",
       "      <td>None</td>\n",
       "      <td>[]</td>\n",
       "      <td>[member]</td>\n",
       "      <td>[expenses:read:own, expenses:write:own, timers...</td>\n",
       "      <td>https://d3s3969qhosaug.cloudfront.net/v2/defau...</td>\n",
       "    </tr>\n",
       "    <tr>\n",
       "      <th>3</th>\n",
       "      <td>4660597</td>\n",
       "      <td>Evan</td>\n",
       "      <td>Charboneau</td>\n",
       "      <td>charboneau.evan@gmail.com</td>\n",
       "      <td></td>\n",
       "      <td>Central Time (US &amp; Canada)</td>\n",
       "      <td>36000</td>\n",
       "      <td>False</td>\n",
       "      <td>False</td>\n",
       "      <td>True</td>\n",
       "      <td>...</td>\n",
       "      <td>None</td>\n",
       "      <td>2023-06-27T21:45:16Z</td>\n",
       "      <td>2023-07-03T16:50:00Z</td>\n",
       "      <td>False</td>\n",
       "      <td>None</td>\n",
       "      <td>None</td>\n",
       "      <td>[]</td>\n",
       "      <td>[member]</td>\n",
       "      <td>[expenses:read:own, expenses:write:own, timers...</td>\n",
       "      <td>https://d3s3969qhosaug.cloudfront.net/v2/defau...</td>\n",
       "    </tr>\n",
       "    <tr>\n",
       "      <th>4</th>\n",
       "      <td>4660594</td>\n",
       "      <td>Will</td>\n",
       "      <td>Johns</td>\n",
       "      <td>williamstephenjohns@gmail.com</td>\n",
       "      <td></td>\n",
       "      <td>Central Time (US &amp; Canada)</td>\n",
       "      <td>36000</td>\n",
       "      <td>False</td>\n",
       "      <td>False</td>\n",
       "      <td>True</td>\n",
       "      <td>...</td>\n",
       "      <td>None</td>\n",
       "      <td>2023-06-27T21:44:18Z</td>\n",
       "      <td>2023-08-01T20:41:11Z</td>\n",
       "      <td>False</td>\n",
       "      <td>None</td>\n",
       "      <td>None</td>\n",
       "      <td>[]</td>\n",
       "      <td>[member]</td>\n",
       "      <td>[expenses:read:own, expenses:write:own, timers...</td>\n",
       "      <td>https://proxy.harvestfiles.com/production_harv...</td>\n",
       "    </tr>\n",
       "  </tbody>\n",
       "</table>\n",
       "<p>5 rows × 21 columns</p>\n",
       "</div>"
      ],
      "text/plain": [
       "        id first_name    last_name                          email telephone  \\\n",
       "0  4685249       Andy       Terrel          andy.terrel@gmail.com             \n",
       "1  4678008      Hansa     Giridhar        hansagiridhar@gmail.com             \n",
       "2  4660599     Landry  Christensen    landrychristensen@gmail.com             \n",
       "3  4660597       Evan   Charboneau      charboneau.evan@gmail.com             \n",
       "4  4660594       Will        Johns  williamstephenjohns@gmail.com             \n",
       "\n",
       "                     timezone  weekly_capacity  \\\n",
       "0  Central Time (US & Canada)           144000   \n",
       "1  Central Time (US & Canada)            57600   \n",
       "2  Central Time (US & Canada)            36000   \n",
       "3  Central Time (US & Canada)            36000   \n",
       "4  Central Time (US & Canada)            36000   \n",
       "\n",
       "   has_access_to_all_future_projects  is_contractor  is_active  ...  \\\n",
       "0                              False           True       True  ...   \n",
       "1                              False          False       True  ...   \n",
       "2                              False          False       True  ...   \n",
       "3                              False          False       True  ...   \n",
       "4                              False          False       True  ...   \n",
       "\n",
       "   calendar_integration_source            created_at            updated_at  \\\n",
       "0                         None  2023-07-25T19:44:47Z  2023-07-25T19:44:47Z   \n",
       "1                         None  2023-07-17T16:19:03Z  2023-07-22T06:28:37Z   \n",
       "2                         None  2023-06-27T21:46:15Z  2023-08-01T17:04:56Z   \n",
       "3                         None  2023-06-27T21:45:16Z  2023-07-03T16:50:00Z   \n",
       "4                         None  2023-06-27T21:44:18Z  2023-08-01T20:41:11Z   \n",
       "\n",
       "  can_create_projects  default_hourly_rate cost_rate roles access_roles  \\\n",
       "0               False                 None      None    []     [member]   \n",
       "1               False                 None      None    []     [member]   \n",
       "2               False                 None      None    []     [member]   \n",
       "3               False                 None      None    []     [member]   \n",
       "4               False                 None      None    []     [member]   \n",
       "\n",
       "                                  permissions_claims  \\\n",
       "0  [expenses:read:own, expenses:write:own, timers...   \n",
       "1  [expenses:read:own, expenses:write:own, timers...   \n",
       "2  [expenses:read:own, expenses:write:own, timers...   \n",
       "3  [expenses:read:own, expenses:write:own, timers...   \n",
       "4  [expenses:read:own, expenses:write:own, timers...   \n",
       "\n",
       "                                          avatar_url  \n",
       "0  https://d3s3969qhosaug.cloudfront.net/v2/defau...  \n",
       "1  https://d3s3969qhosaug.cloudfront.net/v2/defau...  \n",
       "2  https://d3s3969qhosaug.cloudfront.net/v2/defau...  \n",
       "3  https://d3s3969qhosaug.cloudfront.net/v2/defau...  \n",
       "4  https://proxy.harvestfiles.com/production_harv...  \n",
       "\n",
       "[5 rows x 21 columns]"
      ]
     },
     "execution_count": 4,
     "metadata": {},
     "output_type": "execute_result"
    }
   ],
   "source": [
    "df_time_entries = list_time_entries(\n",
    "    account_id,\n",
    "    access_token,\n",
    "    limit\n",
    ")\n",
    "\n",
    "print(\"Row fetched:\", len(df_time_entries))\n",
    "df_time_entries.head()"
   ]
  },
  {
   "cell_type": "markdown",
   "id": "e2e7f2ab-673e-4c60-ab0a-7c1f6f09c2dc",
   "metadata": {
    "papermill": {},
    "tags": []
   },
   "source": [
    " "
   ]
  },
  {
   "cell_type": "code",
   "execution_count": null,
   "id": "9d99f3d4-849d-4383-8577-df8424516818",
   "metadata": {
    "papermill": {},
    "tags": []
   },
   "outputs": [],
   "source": []
  }
 ],
 "metadata": {
  "kernelspec": {
   "display_name": "Python 3",
   "language": "python",
   "name": "python3"
  },
  "language_info": {
   "codemirror_mode": {
    "name": "ipython",
    "version": 3
   },
   "file_extension": ".py",
   "mimetype": "text/x-python",
   "name": "python",
   "nbconvert_exporter": "python",
   "pygments_lexer": "ipython3",
   "version": "3.9.6"
  },
  "naas": {
   "notebook_id": "dbd059d8bc4a12b38bd1d41128de9f4b6610c0048c178f8d96b57bb1d852f5b0",
   "notebook_path": "Harvest/Harvest_Filtered_time_entries.ipynb"
  },
  "papermill": {
   "default_parameters": {},
   "environment_variables": {},
   "parameters": {},
   "version": "2.4.0"
  },
  "widgets": {
   "application/vnd.jupyter.widget-state+json": {
    "state": {},
    "version_major": 2,
    "version_minor": 0
   }
  }
 },
 "nbformat": 4,
 "nbformat_minor": 5
}
