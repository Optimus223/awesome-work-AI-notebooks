{
 "cells": [
  {
   "cell_type": "markdown",
   "id": "latin-packing",
   "metadata": {
    "execution": {
     "iopub.execute_input": "2021-02-23T14:22:16.610471Z",
     "iopub.status.busy": "2021-02-23T14:22:16.610129Z",
     "iopub.status.idle": "2021-02-23T14:22:16.627784Z",
     "shell.execute_reply": "2021-02-23T14:22:16.626866Z",
     "shell.execute_reply.started": "2021-02-23T14:22:16.610384Z"
    },
    "papermill": {},
    "tags": []
   },
   "source": [
    "<img width=\"10%\" alt=\"Naas\" src=\"https://landen.imgix.net/jtci2pxwjczr/assets/5ice39g4.png?w=160\"/>"
   ]
  },
  {
   "cell_type": "markdown",
   "id": "e38b257f-d0b0-4e43-a9c6-e63408bde9a3",
   "metadata": {
    "papermill": {},
    "tags": []
   },
   "source": [
    "# Google Maps - Calculate travel costs between two addresses\n",
    "<a href=\"https://app.naas.ai/user-redirect/naas/downloader?url=https://raw.githubusercontent.com/jupyter-naas/awesome-notebooks/master/Google%20Sheets/Google_Sheets_Add_items_to_Notion_databases_from_new_rows_in_Google_Sheets.ipynb\" target=\"_parent\"><img src=\"https://naasai-public.s3.eu-west-3.amazonaws.com/Open_in_Naas_Lab.svg\"/></a><br><br><a href=\"https://bit.ly/3JyWIk6\">Give Feedbacks</a> | <a href=\"https://app.naas.ai/user-redirect/naas/downloader?url=https://raw.githubusercontent.com/jupyter-naas/awesome-notebooks/master/Naas/Naas_Start_data_product.ipynb\" target=\"_parent\">Generate Data Product</a>"
   ]
  },
  {
   "cell_type": "markdown",
   "id": "6db49837-2a9c-4bd4-b8ba-74514ff7bef4",
   "metadata": {
    "papermill": {},
    "tags": []
   },
   "source": [
    "**Tags:** #googlemaps #productivity #operations #automation #jupyternotebooks"
   ]
  },
  {
   "cell_type": "markdown",
   "id": "26d4184f-eb9d-48cd-985d-264b353b73de",
   "metadata": {
    "papermill": {},
    "tags": []
   },
   "source": [
    "**Author:** [Antonio Georgiev](www.linkedin.com/in/antonio-georgiev-b672a325b)"
   ]
  },
  {
   "cell_type": "markdown",
   "id": "1f83d4d7-754b-4f61-8662-bcab66118c7f",
   "metadata": {
    "papermill": {},
    "tags": []
   },
   "source": [
    "This notebook does the following tasks: \n",
    "- Request Configuration: Configures the request parameters, including the address and API key.\n",
    "- API Request: Sends a GET request to the Geocoding API endpoint using the provided address and parameters.\n",
    "- Response Handling: Handles the API response and checks for errors or successful retrieval of geolocation information.\n",
    "- Data Extraction: Extracts the latitude and longitude coordinates from the API response.\n",
    "- Result Output: Prints or utilizes the geolocation information"
   ]
  },
  {
   "cell_type": "markdown",
   "id": "0744ec8b-dc1f-475e-ac1a-8aec07eed700",
   "metadata": {
    "papermill": {},
    "tags": []
   },
   "source": [
    "Pre-requisite: \n",
    "1. Follow the steps in Google_Maps_Connect_to_Routes_API"
   ]
  },
  {
   "cell_type": "markdown",
   "id": "84b07a0a-fab7-4e56-9ac7-3c13da444e5c",
   "metadata": {
    "papermill": {},
    "tags": []
   },
   "source": [
    "## Input"
   ]
  },
  {
   "cell_type": "markdown",
   "id": "927f7e82-c26d-4747-930c-14b865c176f4",
   "metadata": {
    "papermill": {},
    "tags": []
   },
   "source": [
    "### Import libraries"
   ]
  },
  {
   "cell_type": "code",
   "execution_count": 1,
   "id": "f982ef3e-d768-4e96-aaf3-afbc74e723a9",
   "metadata": {
    "execution": {
     "iopub.execute_input": "2023-07-10T15:19:18.184460Z",
     "iopub.status.busy": "2023-07-10T15:19:18.184193Z",
     "iopub.status.idle": "2023-07-10T15:19:20.074933Z",
     "shell.execute_reply": "2023-07-10T15:19:20.074291Z",
     "shell.execute_reply.started": "2023-07-10T15:19:18.184399Z"
    },
    "papermill": {},
    "tags": []
   },
   "outputs": [],
   "source": [
    "import os\n",
    "import requests\n",
    "import naas"
   ]
  },
  {
   "cell_type": "markdown",
   "id": "bf6521d6-1972-48f2-86b5-3af61b6d3ee0",
   "metadata": {
    "papermill": {},
    "tags": []
   },
   "source": [
    "### Setup API credentials"
   ]
  },
  {
   "cell_type": "code",
   "execution_count": 4,
   "id": "afac51b1-dd5e-44a7-a3b0-50af36b765e3",
   "metadata": {
    "execution": {
     "iopub.execute_input": "2023-07-10T15:20:04.562271Z",
     "iopub.status.busy": "2023-07-10T15:20:04.562034Z",
     "iopub.status.idle": "2023-07-10T15:20:04.701284Z",
     "shell.execute_reply": "2023-07-10T15:20:04.700654Z",
     "shell.execute_reply.started": "2023-07-10T15:20:04.562245Z"
    },
    "papermill": {},
    "tags": []
   },
   "outputs": [],
   "source": [
    "api_secret_name = \"API\" # add your API key directly in the API_KEY variable or using naas secret variable\n",
    "API_KEY = naas.secret.get(api_secret_name)  # Read API key from the secret variable\n",
    "API_ENDPOINT = 'https://maps.googleapis.com/maps/api/geocode/json'\n",
    "address = 'Vitosha Boulevard, Sofia, Bulgaria'"
   ]
  },
  {
   "cell_type": "markdown",
   "id": "eda290db-d2e4-4457-ae9e-5a4f1cb06069",
   "metadata": {
    "papermill": {},
    "tags": []
   },
   "source": [
    "## Model"
   ]
  },
  {
   "cell_type": "markdown",
   "id": "1e3773f2-7222-4d9c-8c3c-a0d935b258ef",
   "metadata": {
    "papermill": {},
    "tags": []
   },
   "source": [
    "### Sends a GET request to the Geocoding API endpoint using the provided address and parameters"
   ]
  },
  {
   "cell_type": "code",
   "execution_count": 5,
   "id": "3f633f1c-9981-4648-9c7c-23db69f36413",
   "metadata": {
    "execution": {
     "iopub.execute_input": "2023-07-10T15:20:06.129930Z",
     "iopub.status.busy": "2023-07-10T15:20:06.129703Z",
     "iopub.status.idle": "2023-07-10T15:20:06.261404Z",
     "shell.execute_reply": "2023-07-10T15:20:06.260644Z",
     "shell.execute_reply.started": "2023-07-10T15:20:06.129907Z"
    },
    "papermill": {},
    "tags": []
   },
   "outputs": [
    {
     "name": "stdout",
     "output_type": "stream",
     "text": [
      "Latitude: 42.685905, Longitude: 23.317925\n"
     ]
    }
   ],
   "source": [
    "params = {\n",
    "    'address': address,\n",
    "    'key': API_KEY\n",
    "}\n",
    "\n",
    "response = requests.get(API_ENDPOINT, params=params)"
   ]
  },
  {
   "cell_type": "markdown",
   "id": "c1e4c55b",
   "metadata": {
    "papermill": {},
    "tags": []
   },
   "source": [
    "## Output"
   ]
  },
  {
   "cell_type": "markdown",
   "id": "917a4e16-54ba-4989-b71c-04952c685405",
   "metadata": {},
   "source": [
    "### Prints or utilizes the geolocation information"
   ]
  },
  {
   "cell_type": "code",
   "execution_count": null,
   "id": "80f8b32f-7cac-41a2-afd9-4d82b3253fa2",
   "metadata": {},
   "outputs": [],
   "source": [
    "if response.status_code == 200:\n",
    "    data = response.json()\n",
    "    if data['status'] == 'OK':\n",
    "        # Extract and utilize the geolocation information from the response\n",
    "        results = data['results']\n",
    "        for result in results:\n",
    "            latitude = result['geometry']['location']['lat']\n",
    "            longitude = result['geometry']['location']['lng']\n",
    "            print(f'Latitude: {latitude}, Longitude: {longitude}')\n",
    "    else:\n",
    "        print('Geocoding request failed.')\n",
    "else:\n",
    "    print('Geocoding request failed with status code:', response.status_code)"
   ]
  }
 ],
 "metadata": {
  "kernelspec": {
   "display_name": "Python 3",
   "language": "python",
   "name": "python3"
  },
  "language_info": {
   "codemirror_mode": {
    "name": "ipython",
    "version": 3
   },
   "file_extension": ".py",
   "mimetype": "text/x-python",
   "name": "python",
   "nbconvert_exporter": "python",
   "pygments_lexer": "ipython3",
   "version": "3.9.6"
  },
  "naas": {
   "notebook_id": "a3806d0e8beb6df74a694e543ef83a8bf1058b7cc2dd05636cdeb22dde4ed654",
   "notebook_path": "Google Sheets/Google_Sheets_Add_items_to_Notion_databases_from_new_rows_in_Google_Sheets.ipynb"
  },
  "papermill": {
   "default_parameters": {},
   "environment_variables": {},
   "parameters": {},
   "version": "2.3.3"
  },
  "widgets": {
   "application/vnd.jupyter.widget-state+json": {
    "state": {},
    "version_major": 2,
    "version_minor": 0
   }
  }
 },
 "nbformat": 4,
 "nbformat_minor": 5
}
