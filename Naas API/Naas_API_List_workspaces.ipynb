{
 "cells": [
  {
   "cell_type": "markdown",
   "id": "6a04f99a-e16e-4087-98d1-07631df5be0a",
   "metadata": {
    "papermill": {},
    "tags": []
   },
   "source": [
    "<img width=\"8%\" alt=\"Naas.png\" src=\"https://raw.githubusercontent.com/jupyter-naas/awesome-notebooks/master/.github/assets/logos/Naas.png\" style=\"border-radius: 15%\">"
   ]
  },
  {
   "cell_type": "markdown",
   "id": "040f57d7-baa8-4f5c-8f00-2911825d7a42",
   "metadata": {
    "papermill": {},
    "tags": []
   },
   "source": [
    "# Naas API - List workspaces"
   ]
  },
  {
   "cell_type": "markdown",
   "id": "9afb388c-60b4-43ec-88a5-46c69cd1aef3",
   "metadata": {
    "papermill": {},
    "tags": []
   },
   "source": [
    "**Tags:** #naas #api #workspace #list #python #notebook"
   ]
  },
  {
   "cell_type": "markdown",
   "id": "5e796b36-0f21-49fa-83e2-637df65868dd",
   "metadata": {
    "papermill": {},
    "tags": []
   },
   "source": [
    "**Author:** [Florent Ravenel](https://www.linkedin.com/in/florent-ravenel/)"
   ]
  },
  {
   "cell_type": "markdown",
   "id": "7c29836b-87f1-47f4-8f31-dc7b844b8bfa",
   "metadata": {
    "papermill": {},
    "tags": []
   },
   "source": [
    "**Last update:** 2024-03-06 (Created: 2024-03-06)"
   ]
  },
  {
   "cell_type": "markdown",
   "id": "beccc4e5-d064-4b06-94bc-23786b1a0385",
   "metadata": {
    "papermill": {},
    "tags": []
   },
   "source": [
    "**Description:** This notebook demonstrates how to list workspaces using the Naas API. It provides a step-by-step guide on how to use the API to retrieve a list of all workspaces."
   ]
  },
  {
   "cell_type": "markdown",
   "id": "a3b9a052-36ce-45b8-a776-a090f34a3c04",
   "metadata": {
    "papermill": {},
    "tags": []
   },
   "source": [
    "**References:**\n- [Naas API Documentation](https://api.naas.ai/redoc#tag/Workspace-API/operation/list_workspace_workspace_get)\n- [Naas Python SDK](https://github.com/jupyter-naas/naas)"
   ]
  },
  {
   "cell_type": "markdown",
   "id": "a2107faa-0d01-45ad-a74d-a7b6937bb296",
   "metadata": {
    "papermill": {},
    "tags": []
   },
   "source": [
    "## Input"
   ]
  },
  {
   "cell_type": "markdown",
   "id": "f7957d06-6d17-40d1-b5ec-b4cac0be6831",
   "metadata": {
    "papermill": {},
    "tags": []
   },
   "source": [
    "### Import libraries"
   ]
  },
  {
   "cell_type": "code",
   "execution_count": null,
   "id": "1c6184bb-dae6-4cb0-9cbe-26753bbb2f69",
   "metadata": {
    "papermill": {},
    "tags": []
   },
   "source": "import requests\nimport json",
   "outputs": []
  },
  {
   "cell_type": "markdown",
   "id": "d61d66cb-27fc-42ed-8c31-45d6e5c68b75",
   "metadata": {
    "papermill": {},
    "tags": []
   },
   "source": [
    "### Setup variables\n- `API_KEY`: This is your Naas API key. You can get it from your Naas dashboard.\n- `API_URL`: This is the URL of the Naas API. The default value is `https://api.naas.ai`."
   ]
  },
  {
   "cell_type": "code",
   "execution_count": null,
   "id": "015d300d-49d4-43e0-b5a0-dfca8f80ae90",
   "metadata": {
    "papermill": {},
    "tags": []
   },
   "source": "API_KEY = \"your_api_key\"\nAPI_URL = \"https://api.naas.ai\"",
   "outputs": []
  },
  {
   "cell_type": "markdown",
   "id": "d88be66d-4656-48dd-9403-4ed1d2723095",
   "metadata": {
    "papermill": {},
    "tags": []
   },
   "source": [
    "## Model"
   ]
  },
  {
   "cell_type": "markdown",
   "id": "b9fa7620-5ae2-4f1e-8345-89e5f8141944",
   "metadata": {
    "papermill": {},
    "tags": []
   },
   "source": [
    "### List Workspaces"
   ]
  },
  {
   "cell_type": "markdown",
   "id": "8f22722c-49b6-44c7-aa5f-4a7d73f12f8c",
   "metadata": {
    "papermill": {},
    "tags": []
   },
   "source": [
    "This function sends a GET request to the Naas API to retrieve a list of all workspaces. The API key is passed in the headers for authentication."
   ]
  },
  {
   "cell_type": "code",
   "execution_count": null,
   "id": "72edcd3b-ab9c-4e39-9d53-f4698404d578",
   "metadata": {
    "papermill": {},
    "tags": []
   },
   "source": "def list_workspaces(api_key, api_url):\n    headers = {\"Content-Type\": \"application/json\", \"Authorization\": f\"Bearer {api_key}\"}\n    response = requests.get(f\"{api_url}/workspace\", headers=headers)\n    return response.json()",
   "outputs": []
  },
  {
   "cell_type": "markdown",
   "id": "ea210872-cf05-404e-9594-74c0321d2a61",
   "metadata": {
    "papermill": {},
    "tags": []
   },
   "source": [
    "## Output"
   ]
  },
  {
   "cell_type": "markdown",
   "id": "0eac2556-b0f0-446c-947d-86931508243b",
   "metadata": {
    "papermill": {},
    "tags": []
   },
   "source": [
    "### Display result"
   ]
  },
  {
   "cell_type": "code",
   "execution_count": null,
   "id": "7268aac3-8000-4ab8-a1fc-694e2081b08c",
   "metadata": {
    "papermill": {},
    "tags": []
   },
   "source": "workspaces = list_workspaces(API_KEY, API_URL)\nprint(json.dumps(workspaces, indent=4))",
   "outputs": []
  }
 ],
 "metadata": {
  "kernelspec": {
   "display_name": "Python 3",
   "language": "python",
   "name": "python3"
  },
  "language_info": {
   "codemirror_mode": {
    "name": "ipython",
    "version": 3
   },
   "file_extension": ".py",
   "mimetype": "text/x-python",
   "name": "python",
   "nbconvert_exporter": "python",
   "pygments_lexer": "ipython3",
   "version": "3.9.6"
  },
  "widgets": {
   "application/vnd.jupyter.widget-state+json": {
    "state": {},
    "version_major": 2,
    "version_minor": 0
   }
  }
 },
 "nbformat": 4,
 "nbformat_minor": 5
}