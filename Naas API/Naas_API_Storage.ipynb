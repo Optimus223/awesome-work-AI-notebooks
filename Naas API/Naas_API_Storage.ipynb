{
 "cells": [
  {
   "cell_type": "markdown",
   "id": "28d10a4c-3c77-4088-9b67-db6e5f1ee7f0",
   "metadata": {},
   "source": [
    "<img width=\"8%\" alt=\"Naas API.png\" src=\"https://raw.githubusercontent.com/jupyter-naas/awesome-notebooks/master/.github/assets/logos/Naas%20API.png\" style=\"border-radius: 15%\">"
   ]
  },
  {
   "cell_type": "markdown",
   "id": "90cdfd58-d74b-4ec9-aea8-72fe64903f81",
   "metadata": {},
   "source": [
    "# Naas API - Storage"
   ]
  },
  {
   "cell_type": "markdown",
   "id": "9c897c82-4a8f-4f8c-8b00-dd66e496273b",
   "metadata": {
    "execution": {
     "iopub.execute_input": "2024-06-03T14:17:19.410802Z",
     "iopub.status.busy": "2024-06-03T14:17:19.410576Z",
     "iopub.status.idle": "2024-06-03T14:17:19.420684Z",
     "shell.execute_reply": "2024-06-03T14:17:19.419788Z",
     "shell.execute_reply.started": "2024-06-03T14:17:19.410779Z"
    }
   },
   "source": [
    "**Tags:** #naas #api #storage"
   ]
  },
  {
   "cell_type": "markdown",
   "id": "20e4f13f-d7c4-4acf-9c53-880545f0ce76",
   "metadata": {
    "execution": {
     "iopub.execute_input": "2024-06-03T14:17:27.697224Z",
     "iopub.status.busy": "2024-06-03T14:17:27.696997Z",
     "iopub.status.idle": "2024-06-03T14:17:27.705749Z",
     "shell.execute_reply": "2024-06-03T14:17:27.704763Z",
     "shell.execute_reply.started": "2024-06-03T14:17:27.697200Z"
    }
   },
   "source": [
    "**Author:** [Loic Laville](https://www.linkedin.com/in/loic-laville/)"
   ]
  },
  {
   "cell_type": "markdown",
   "id": "3e784016-04fb-4544-af08-d55e21a30d86",
   "metadata": {},
   "source": [
    "**Naas API Storage is a service to host your data.**"
   ]
  },
  {
   "cell_type": "markdown",
   "metadata": {},
   "source": [
    "**Last update:** 2024-06-24 (Created: 2024-06-10)"
   ]
  },
  {
   "cell_type": "markdown",
   "metadata": {},
   "source": [
    "**Description:** This notebook demonstrates how to use Naas API Storage."
   ]
  },
  {
   "cell_type": "markdown",
   "id": "f9ae1bdf-49b2-4f53-9ae9-b396c4608e9d",
   "metadata": {
    "execution": {
     "iopub.execute_input": "2024-06-03T14:23:07.494752Z",
     "iopub.status.busy": "2024-06-03T14:23:07.494526Z",
     "iopub.status.idle": "2024-06-03T14:23:07.500018Z",
     "shell.execute_reply": "2024-06-03T14:23:07.497930Z",
     "shell.execute_reply.started": "2024-06-03T14:23:07.494728Z"
    }
   },
   "source": [
    "## Import library"
   ]
  },
  {
   "cell_type": "code",
   "execution_count": null,
   "id": "32fa0149",
   "metadata": {},
   "outputs": [],
   "source": [
    "import naas_python"
   ]
  },
  {
   "cell_type": "code",
   "execution_count": null,
   "id": "6be3b1ae",
   "metadata": {
    "vscode": {
     "languageId": "shellscript"
    }
   },
   "outputs": [],
   "source": [
    "pip show naas-python"
   ]
  },
  {
   "cell_type": "code",
   "execution_count": null,
   "id": "c1519102-4298-46e4-a30c-f7a4fd8e9981",
   "metadata": {
    "execution": {
     "iopub.execute_input": "2024-06-05T09:12:07.223484Z",
     "iopub.status.busy": "2024-06-05T09:12:07.223252Z",
     "iopub.status.idle": "2024-06-05T09:12:07.226394Z",
     "shell.execute_reply": "2024-06-05T09:12:07.225699Z",
     "shell.execute_reply.started": "2024-06-05T09:12:07.223458Z"
    },
    "tags": []
   },
   "outputs": [],
   "source": [
    "workspace_id='81507a26-3644-496c-a379-4c7021434aa0'"
   ]
  },
  {
   "cell_type": "markdown",
   "id": "780bd325-280f-4e68-8ca4-4f7eb00c7ed4",
   "metadata": {},
   "source": [
    "### Command list"
   ]
  },
  {
   "cell_type": "markdown",
   "id": "f18b5055-49a6-4cee-8793-ba2f5d002815",
   "metadata": {
    "execution": {
     "iopub.execute_input": "2024-06-03T16:21:57.186360Z",
     "iopub.status.busy": "2024-06-03T16:21:57.186133Z",
     "iopub.status.idle": "2024-06-03T16:21:57.195495Z",
     "shell.execute_reply": "2024-06-03T16:21:57.194575Z",
     "shell.execute_reply.started": "2024-06-03T16:21:57.186336Z"
    }
   },
   "source": [
    "Workspace Storage :\n",
    "* [Create A Workspace Storage](#createstorage)\n",
    "* [List Workspace Storages](#liststorage)\n",
    "* [Delete a Workspace Storage](#deletestorage)"
   ]
  },
  {
   "cell_type": "markdown",
   "id": "26e7cbfb",
   "metadata": {},
   "source": [
    "Workspace Object\n",
    "* [Post a Workspace Storage Object](#postobject)\n",
    "* [List Workspace Storage Objects](#listobjects)\n",
    "* [Get a Workspace Storage Object](#getobject)\n",
    "* [Delete a Workspace Storage Object](#deleteobject)"
   ]
  },
  {
   "cell_type": "markdown",
   "id": "55296efb-41bc-4922-b668-98e93cd09c8e",
   "metadata": {},
   "source": [
    "---"
   ]
  },
  {
   "cell_type": "markdown",
   "id": "12528e9d",
   "metadata": {},
   "source": [
    "<a id='deletestorage'><h3>Delete a Workspace Storage</h3></a>"
   ]
  },
  {
   "cell_type": "markdown",
   "id": "5b70e30c",
   "metadata": {},
   "source": [
    "**Delete the storage of a specified workspace.**"
   ]
  },
  {
   "cell_type": "markdown",
   "id": "a42db27a",
   "metadata": {},
   "source": [
    "**required arguments:**\n",
    "* **workspace_id** : workspace id\n",
    "* **storage_name** : name of the storage"
   ]
  },
  {
   "cell_type": "markdown",
   "id": "f8028c11",
   "metadata": {},
   "source": [
    "### Python Example"
   ]
  },
  {
   "cell_type": "code",
   "execution_count": null,
   "id": "1141fa97",
   "metadata": {},
   "outputs": [],
   "source": [
    "# Get the list of user storages\n",
    "storage_list = naas_python.storage.list_workspace_storage(workspace_id)\n",
    "\n",
    "# If the storage does not exist, create it\n",
    "if any(storage['name'] == 'test-storage' for storage in storage_list['storage']):\n",
    "    delete_storage = naas_python.storage.delete_workspace_storage(\n",
    "        workspace_id=workspace_id,\n",
    "        storage_name=\"test-storage\",\n",
    ")\n",
    "delete_storage"
   ]
  },
  {
   "cell_type": "markdown",
   "id": "cd5c8a81",
   "metadata": {},
   "source": [
    "output :\n",
    "```json\n",
    "{'error': {'error': 0, 'message': 'Success'}}\n",
    "```"
   ]
  },
  {
   "cell_type": "markdown",
   "id": "dd4d0128",
   "metadata": {},
   "source": [
    "#### CLI command"
   ]
  },
  {
   "cell_type": "markdown",
   "id": "a9d3233e",
   "metadata": {},
   "source": [
    "```sh\n",
    "naas-python storage delete --help\n",
    "```\n",
    "\n",
    "```sh\n",
    "naas-python storage delete -w 81507a26-3644-496c-a379-4c7021434aa0 -s test-storage\n",
    "```"
   ]
  },
  {
   "cell_type": "markdown",
   "id": "2281159e",
   "metadata": {},
   "source": [
    "---"
   ]
  },
  {
   "cell_type": "markdown",
   "id": "d5074443-6174-4f7e-a4ba-ca1ed5b1b1fb",
   "metadata": {
    "execution": {
     "iopub.execute_input": "2024-06-03T14:26:27.969902Z",
     "iopub.status.busy": "2024-06-03T14:26:27.969608Z",
     "iopub.status.idle": "2024-06-03T14:26:27.972888Z",
     "shell.execute_reply": "2024-06-03T14:26:27.972264Z",
     "shell.execute_reply.started": "2024-06-03T14:26:27.969871Z"
    }
   },
   "source": [
    "<a id='createstorage'><h3>Create a Workspace Storage</h3></a>"
   ]
  },
  {
   "cell_type": "markdown",
   "id": "561fe35b-8c67-4ded-807e-4c346f903001",
   "metadata": {
    "execution": {
     "iopub.execute_input": "2024-06-03T16:24:36.125226Z",
     "iopub.status.busy": "2024-06-03T16:24:36.124913Z",
     "iopub.status.idle": "2024-06-03T16:24:36.138351Z",
     "shell.execute_reply": "2024-06-03T16:24:36.137411Z",
     "shell.execute_reply.started": "2024-06-03T16:24:36.125190Z"
    }
   },
   "source": [
    "**A Workspace storage is the root of your data directory to set access permission.**"
   ]
  },
  {
   "cell_type": "markdown",
   "id": "a0c5268d-a14d-42c5-bf93-722f6302cc0a",
   "metadata": {},
   "source": [
    "**required arguments:**\n",
    "* **workspace_id** : workspace id\n",
    "* **storage_name** : name of the new storage"
   ]
  },
  {
   "cell_type": "markdown",
   "id": "ab6a9231-d9fe-4afa-ad9d-37d106edb80d",
   "metadata": {
    "execution": {
     "iopub.execute_input": "2024-06-03T14:27:15.754780Z",
     "iopub.status.busy": "2024-06-03T14:27:15.754540Z",
     "iopub.status.idle": "2024-06-03T14:27:15.765551Z",
     "shell.execute_reply": "2024-06-03T14:27:15.764655Z",
     "shell.execute_reply.started": "2024-06-03T14:27:15.754751Z"
    }
   },
   "source": [
    "### Python Example"
   ]
  },
  {
   "cell_type": "code",
   "execution_count": null,
   "id": "97463fa6-6044-4e69-b4ea-59fc0b243dbd",
   "metadata": {
    "tags": []
   },
   "outputs": [],
   "source": [
    "# Get the list of user storages\n",
    "storage_list = naas_python.storage.list_workspace_storage(workspace_id)\n",
    "\n",
    "# If the storage does not exist, create it\n",
    "if not any(storage['name'] == 'test-storage' for storage in storage_list['storage']):\n",
    "    storage = naas_python.storage.create_workspace_storage(\n",
    "        workspace_id=workspace_id,\n",
    "        storage_name=\"test-storage\",\n",
    "    )\n",
    "storage_list"
   ]
  },
  {
   "cell_type": "markdown",
   "id": "35c1d93a-e584-4098-825f-48e581144b49",
   "metadata": {
    "execution": {
     "iopub.execute_input": "2024-06-03T15:57:16.339770Z",
     "iopub.status.busy": "2024-06-03T15:57:16.339540Z",
     "iopub.status.idle": "2024-06-03T15:57:16.342484Z",
     "shell.execute_reply": "2024-06-03T15:57:16.341807Z",
     "shell.execute_reply.started": "2024-06-03T15:57:16.339744Z"
    }
   },
   "source": [
    "#### CLI command"
   ]
  },
  {
   "cell_type": "markdown",
   "id": "ef0ecd66-c59e-43d3-babf-6e921da29d29",
   "metadata": {
    "execution": {
     "iopub.execute_input": "2024-06-03T15:58:10.611202Z",
     "iopub.status.busy": "2024-06-03T15:58:10.610977Z",
     "iopub.status.idle": "2024-06-03T15:58:10.626998Z",
     "shell.execute_reply": "2024-06-03T15:58:10.626067Z",
     "shell.execute_reply.started": "2024-06-03T15:58:10.611178Z"
    }
   },
   "source": [
    "```sh\n",
    "naas-python storage create --help\n",
    "```\n",
    "\n",
    "```sh\n",
    "naas-python storage create -w 81507a26-3644-496c-a379-4c7021434aa0 -s test\n",
    "```\n",
    "\n",
    "output : _creating storage..._\n",
    "_Storage test created._"
   ]
  },
  {
   "cell_type": "markdown",
   "id": "b6d02372-0f87-4307-b726-8ea8e815618c",
   "metadata": {},
   "source": [
    "---"
   ]
  },
  {
   "cell_type": "markdown",
   "id": "0a90ef5d-8c19-491a-8f50-68dcec43960f",
   "metadata": {
    "execution": {
     "iopub.execute_input": "2024-06-03T16:31:54.376884Z",
     "iopub.status.busy": "2024-06-03T16:31:54.376657Z",
     "iopub.status.idle": "2024-06-03T16:31:54.385361Z",
     "shell.execute_reply": "2024-06-03T16:31:54.384497Z",
     "shell.execute_reply.started": "2024-06-03T16:31:54.376860Z"
    }
   },
   "source": [
    "<a id='liststorage'><h3>List Workspace Storages</h3></a>"
   ]
  },
  {
   "cell_type": "markdown",
   "id": "f8814c11-6b6c-4cdf-9190-b39185c02a46",
   "metadata": {
    "execution": {
     "iopub.execute_input": "2024-06-03T16:34:11.837595Z",
     "iopub.status.busy": "2024-06-03T16:34:11.837365Z",
     "iopub.status.idle": "2024-06-03T16:34:11.853684Z",
     "shell.execute_reply": "2024-06-03T16:34:11.852804Z",
     "shell.execute_reply.started": "2024-06-03T16:34:11.837570Z"
    }
   },
   "source": [
    "**List the storages of a specified workspace.**"
   ]
  },
  {
   "cell_type": "markdown",
   "id": "f1b9f608-c3c7-4e6e-9664-e1fd15b19277",
   "metadata": {
    "execution": {
     "iopub.execute_input": "2024-06-03T16:36:10.912242Z",
     "iopub.status.busy": "2024-06-03T16:36:10.912014Z",
     "iopub.status.idle": "2024-06-03T16:36:10.920610Z",
     "shell.execute_reply": "2024-06-03T16:36:10.919786Z",
     "shell.execute_reply.started": "2024-06-03T16:36:10.912217Z"
    }
   },
   "source": [
    "required arguments:\n",
    "* **workspace_id** : workspace id"
   ]
  },
  {
   "cell_type": "markdown",
   "id": "30a9ceb9",
   "metadata": {},
   "source": [
    "### Python Example"
   ]
  },
  {
   "cell_type": "code",
   "execution_count": null,
   "id": "89825d68-fcca-4b1d-b7be-51b2cdc32202",
   "metadata": {
    "tags": []
   },
   "outputs": [],
   "source": [
    "storage_list = naas_python.storage.list_workspace_storage(workspace_id)\n",
    "storage_list"
   ]
  },
  {
   "cell_type": "markdown",
   "id": "47ef0523-2067-47a4-8aa7-344f9e686a1a",
   "metadata": {
    "execution": {
     "iopub.execute_input": "2024-06-03T16:51:14.843204Z",
     "iopub.status.busy": "2024-06-03T16:51:14.842976Z",
     "iopub.status.idle": "2024-06-03T16:51:14.858356Z",
     "shell.execute_reply": "2024-06-03T16:51:14.857496Z",
     "shell.execute_reply.started": "2024-06-03T16:51:14.843179Z"
    },
    "tags": []
   },
   "source": [
    "output :\n",
    "```json\n",
    "{'storage': [{'name': 'test-storage'},\n",
    "  {'name': 'test-storage2'},\n",
    "  {'name': 'test'},\n",
    "  {'name': 'testlib'}],\n",
    " 'error': {'error': 0, 'message': 'Sucess'}}\n",
    "```"
   ]
  },
  {
   "cell_type": "markdown",
   "id": "4fcb91c7-22a4-4adc-863f-5a50023644b7",
   "metadata": {},
   "source": [
    "#### CLI command"
   ]
  },
  {
   "cell_type": "markdown",
   "id": "7d015740-66af-436d-b662-9a3d2365759a",
   "metadata": {
    "execution": {
     "iopub.execute_input": "2024-06-03T15:58:10.611202Z",
     "iopub.status.busy": "2024-06-03T15:58:10.610977Z",
     "iopub.status.idle": "2024-06-03T15:58:10.626998Z",
     "shell.execute_reply": "2024-06-03T15:58:10.626067Z",
     "shell.execute_reply.started": "2024-06-03T15:58:10.611178Z"
    }
   },
   "source": [
    "```sh\n",
    "naas-python storage list --help\n",
    "```\n",
    "\n",
    "```sh\n",
    "naas-python storage list -w 81507a26-3644-496c-a379-4c7021434aa0\n",
    "```\n",
    "\n",
    "output : _{'storage': [{'name': 'test-storage'}, {'name': 'test-storage2'}, {'name': 'test'}, {'name': 'testlib'}], 'error': {'error': 0, 'message': 'Sucess'}}_"
   ]
  },
  {
   "cell_type": "markdown",
   "id": "866ecb97-cfcc-474b-919c-ce0970c17498",
   "metadata": {},
   "source": [
    "---"
   ]
  },
  {
   "cell_type": "markdown",
   "id": "a678b443-edb6-4826-a170-3791fa6f8320",
   "metadata": {},
   "source": [
    "<a id='postobject'><h3>Post a Workspace Storage Object</h3></a>"
   ]
  },
  {
   "cell_type": "markdown",
   "id": "bb1c90a5-c537-46ff-93f4-39e424681ea5",
   "metadata": {},
   "source": [
    "**Upload a local file to your remote Naas Storage.**"
   ]
  },
  {
   "cell_type": "markdown",
   "id": "d6afb80c-4294-4c93-bea0-9ba21adbbcf1",
   "metadata": {},
   "source": [
    "arguments :\n",
    "* **workspace_id** : ID of  the workspace\n",
    "* **storage_name** : Name of the storage\n",
    "* **src_file** : File to upload in the storage\n",
    "* **dst_file** : Destination file path in the storage "
   ]
  },
  {
   "cell_type": "markdown",
   "id": "8164b56f",
   "metadata": {},
   "source": [
    "### Python Example"
   ]
  },
  {
   "cell_type": "code",
   "execution_count": null,
   "id": "16699cbb-f8e0-44c1-ac7c-9041b0182bc0",
   "metadata": {
    "execution": {
     "iopub.execute_input": "2024-06-05T09:14:26.764369Z",
     "iopub.status.busy": "2024-06-05T09:14:26.764098Z",
     "iopub.status.idle": "2024-06-05T09:14:28.878038Z",
     "shell.execute_reply": "2024-06-05T09:14:28.877342Z",
     "shell.execute_reply.started": "2024-06-05T09:14:26.764341Z"
    },
    "tags": []
   },
   "outputs": [],
   "source": [
    "import os\n",
    "post_object = naas_python.storage.post_workspace_storage_object(\n",
    "        workspace_id=workspace_id,\n",
    "        storage_name=\"test-storage\",\n",
    "        src_file=\"Naas_API_Storage.ipynb\",\n",
    "        dst_file=\"directory-1/Naas_API_Storage.ipynb\"\n",
    ")\n",
    "post_object"
   ]
  },
  {
   "cell_type": "markdown",
   "id": "6151c642-5592-4836-811f-d75161644f12",
   "metadata": {},
   "source": [
    "#### CLI command"
   ]
  },
  {
   "cell_type": "markdown",
   "id": "96bb6897-b3e5-441c-826b-411e9625bcd1",
   "metadata": {
    "execution": {
     "iopub.execute_input": "2024-06-03T15:58:10.611202Z",
     "iopub.status.busy": "2024-06-03T15:58:10.610977Z",
     "iopub.status.idle": "2024-06-03T15:58:10.626998Z",
     "shell.execute_reply": "2024-06-03T15:58:10.626067Z",
     "shell.execute_reply.started": "2024-06-03T15:58:10.611178Z"
    }
   },
   "source": [
    "```sh\n",
    "naas-python storage put-object --help\n",
    "```\n",
    "\n",
    "```sh\n",
    "naas-python storage put-object \\\n",
    "-w 81507a26-3644-496c-a379-4c7021434aa0 \\\n",
    "-s test-storage \\\n",
    "-src test.txt.zip \\\n",
    "-dst my-test-dir/my-object.txt.zip\n",
    "```"
   ]
  },
  {
   "cell_type": "markdown",
   "id": "02198ade-5413-4ec5-a37e-e9fb38091d41",
   "metadata": {
    "execution": {
     "iopub.execute_input": "2024-06-04T12:32:50.552808Z",
     "iopub.status.busy": "2024-06-04T12:32:50.552324Z",
     "iopub.status.idle": "2024-06-04T12:32:50.555880Z",
     "shell.execute_reply": "2024-06-04T12:32:50.555269Z",
     "shell.execute_reply.started": "2024-06-04T12:32:50.552772Z"
    },
    "tags": []
   },
   "source": [
    "---"
   ]
  },
  {
   "cell_type": "markdown",
   "id": "137089e4-df3a-4214-86a3-11c850942c62",
   "metadata": {
    "execution": {
     "iopub.execute_input": "2024-06-04T13:20:15.105892Z",
     "iopub.status.busy": "2024-06-04T13:20:15.105621Z",
     "iopub.status.idle": "2024-06-04T13:20:15.110041Z",
     "shell.execute_reply": "2024-06-04T13:20:15.109383Z",
     "shell.execute_reply.started": "2024-06-04T13:20:15.105831Z"
    }
   },
   "source": [
    "<a id='listobjects'><h3>List Workspace Storage Objects</h3></a>"
   ]
  },
  {
   "cell_type": "markdown",
   "id": "2f66b617-1f51-4bf6-be60-ab70df7bd425",
   "metadata": {},
   "source": [
    "**List objects of a remote Naas Storage directory**"
   ]
  },
  {
   "cell_type": "markdown",
   "id": "914df591",
   "metadata": {},
   "source": [
    "arguments :\n",
    "* **workspace_id** : ID of  the workspace\n",
    "* **storage_name** : Name of the storage\n",
    "* **storage_prefix** : Path prefix in the storage"
   ]
  },
  {
   "cell_type": "markdown",
   "metadata": {},
   "source": [
    "#### Python Example"
   ]
  },
  {
   "cell_type": "code",
   "execution_count": null,
   "id": "6a6ef7dc-173d-41c3-a92d-ce8a47bd68c9",
   "metadata": {
    "execution": {
     "iopub.execute_input": "2024-06-05T09:15:15.435530Z",
     "iopub.status.busy": "2024-06-05T09:15:15.435302Z",
     "iopub.status.idle": "2024-06-05T09:15:16.139686Z",
     "shell.execute_reply": "2024-06-05T09:15:16.139087Z",
     "shell.execute_reply.started": "2024-06-05T09:15:15.435506Z"
    }
   },
   "outputs": [],
   "source": [
    "storage_list = naas_python.storage.list_workspace_storage_object(\n",
    "    workspace_id=workspace_id,\n",
    "    storage_name=\"test-storage\",\n",
    "    storage_prefix=\"directory-1\"\n",
    ")\n",
    "storage_list"
   ]
  },
  {
   "cell_type": "markdown",
   "id": "90a0be4b",
   "metadata": {},
   "source": [
    "output :\n",
    "```json\n",
    "{'object': [{\n",
    "    'name': 'my-object.txt.zip', \n",
    "    'type': 'file', \n",
    "    'prefix': '/my-test-dir/', \n",
    "    'size': '0.00', \n",
    "    'lastmodified': '2024-06-10T12:46:38+00:00'}], \n",
    "    'error': {'error': 0, 'message': 'Sucess'}}\n",
    "```"
   ]
  },
  {
   "cell_type": "markdown",
   "id": "64b7b785-155a-4575-abea-ec6a9ddf6a3c",
   "metadata": {},
   "source": [
    "#### CLI command"
   ]
  },
  {
   "cell_type": "markdown",
   "id": "70d6b2c5-9584-4bcb-9474-e882abc1fa4d",
   "metadata": {
    "execution": {
     "iopub.execute_input": "2024-06-03T15:58:10.611202Z",
     "iopub.status.busy": "2024-06-03T15:58:10.610977Z",
     "iopub.status.idle": "2024-06-03T15:58:10.626998Z",
     "shell.execute_reply": "2024-06-03T15:58:10.626067Z",
     "shell.execute_reply.started": "2024-06-03T15:58:10.611178Z"
    }
   },
   "source": [
    "```sh\n",
    "naas-python storage list-object --help\n",
    "```\n",
    "\n",
    "```sh\n",
    "naas-python storage list-object \\\n",
    "-w 81507a26-3644-496c-a379-4c7021434aa0 \\\n",
    "-s test-storage \\\n",
    "-p my-test-dir\n",
    "```"
   ]
  },
  {
   "cell_type": "markdown",
   "id": "04fea996",
   "metadata": {},
   "source": [
    "---"
   ]
  },
  {
   "cell_type": "markdown",
   "id": "29d7b43e",
   "metadata": {},
   "source": [
    "<a id='getobject'><h3>Get a Workspace Storage Object</h3></a>"
   ]
  },
  {
   "cell_type": "markdown",
   "id": "d2ab81de",
   "metadata": {},
   "source": [
    "**Download an object from your Naas Storage.**"
   ]
  },
  {
   "cell_type": "markdown",
   "id": "5b01539b",
   "metadata": {},
   "source": [
    "arguments :\n",
    "* **workspace_id** : ID of  the workspace\n",
    "* **storage_name** : Name of the storage\n",
    "* **src_file** : File to upload in the storage\n",
    "* **dst_file** : Destination file path in the storage "
   ]
  },
  {
   "cell_type": "markdown",
   "id": "41f83480",
   "metadata": {},
   "source": [
    "#### Python Example"
   ]
  },
  {
   "cell_type": "code",
   "execution_count": null,
   "id": "d3ada36d",
   "metadata": {},
   "outputs": [],
   "source": [
    "get_object = naas_python.storage.get_workspace_storage_object(\n",
    "        workspace_id=workspace_id,\n",
    "        storage_name=\"test-storage\",\n",
    "        src_file=\"directory-1/Naas_API_Storage.ipynb\",\n",
    "        dst_file=\"Naas_API_Storage-2.ipynb\"\n",
    ")\n",
    "get_object"
   ]
  },
  {
   "cell_type": "markdown",
   "id": "c0281586",
   "metadata": {},
   "source": [
    "#### CLI"
   ]
  },
  {
   "cell_type": "markdown",
   "id": "b57e5b8f",
   "metadata": {},
   "source": [
    "```sh\n",
    "naas-python storage get-object --help\n",
    "```\n",
    "\n",
    "```sh\n",
    "naas-python storage put-object \\\n",
    "--workspace 81507a26-3644-496c-a379-4c7021434aa0 \\\n",
    "--storage test-storage \\\n",
    "--source \"my-test-dir/my-object.txt.zip\" \\\n",
    "--destination \"test.txt.zip\"\n",
    "```"
   ]
  },
  {
   "cell_type": "markdown",
   "id": "d239fa1e",
   "metadata": {},
   "source": [
    "---"
   ]
  },
  {
   "cell_type": "markdown",
   "id": "3b87caa2",
   "metadata": {},
   "source": [
    "<a id='deleteobject'><h3>Delete a Workspace Storage Object</h3></a>"
   ]
  },
  {
   "cell_type": "markdown",
   "id": "ae490881",
   "metadata": {},
   "source": [
    "**Delet an object from your Naas Storage**"
   ]
  },
  {
   "cell_type": "markdown",
   "id": "c9d64043",
   "metadata": {},
   "source": [
    "arguments :\n",
    "* **workspace_id** : ID of  the workspace\n",
    "* **object_name** : Path and name of the object"
   ]
  },
  {
   "cell_type": "markdown",
   "metadata": {},
   "source": [
    "#### Python Example"
   ]
  },
  {
   "cell_type": "code",
   "execution_count": null,
   "id": "d3e29150",
   "metadata": {},
   "outputs": [],
   "source": [
    "delete_object = naas_python.storage.delete_workspace_storage_object(\n",
    "        workspace_id=workspace_id,\n",
    "        storage_name=\"test-storage\",\n",
    "        object_name=\"directory-1/Naas_API_Storage.ipynb\"\n",
    ")\n",
    "delete_object"
   ]
  },
  {
   "cell_type": "markdown",
   "id": "c36cf34d",
   "metadata": {},
   "source": [
    "result :\n",
    "```json\n",
    "{'error': {'error': 0, 'message': 'Sucess'}}\n",
    "```"
   ]
  },
  {
   "cell_type": "markdown",
   "id": "e1059713",
   "metadata": {},
   "source": [
    "#### CLI"
   ]
  },
  {
   "cell_type": "markdown",
   "id": "7fe8b345",
   "metadata": {},
   "source": [
    "```sh\n",
    "naas-python storage delete-object --help\n",
    "```\n",
    "\n",
    "```sh\n",
    "naas-python storage delete-object \\\n",
    "--workspace 81507a26-3644-496c-a379-4c7021434aa0 \\\n",
    "--storage test-storage \\\n",
    "--object \"my-test-dir/my-object.txt.zip\"\n",
    "```"
   ]
  }
 ],
 "metadata": {
  "kernelspec": {
   "display_name": "Python 3",
   "language": "python",
   "name": "python3"
  },
  "language_info": {
   "codemirror_mode": {
    "name": "ipython",
    "version": 3
   },
   "file_extension": ".py",
   "mimetype": "text/x-python",
   "name": "python",
   "nbconvert_exporter": "python",
   "pygments_lexer": "ipython3",
   "version": "3.11.4"
  }
 },
 "nbformat": 4,
 "nbformat_minor": 5
}
