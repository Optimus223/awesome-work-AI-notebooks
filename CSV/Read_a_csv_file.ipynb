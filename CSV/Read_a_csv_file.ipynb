{
 "cells": [
  {
   "cell_type": "markdown",
   "id": "elder-rugby",
   "metadata": {
    "papermill": {},
    "tags": []
   },
   "source": [
    "# CSV - Read a csv file\n",
    "<a href=\"https://app.naas.ai/user-redirect/naas/downloader?url=https://raw.githubusercontent.com/jupyter-naas/awesome-notebooks/master/CSV/Read_a_csv_file.ipynb\" target=\"_parent\"><img src=\"https://img.shields.io/badge/-Open%20in%20Naas-success?labelColor=000000&logo=data:image/svg+xml;base64,PD94bWwgdmVyc2lvbj0iMS4wIiBlbmNvZGluZz0iVVRGLTgiPz4KPHN2ZyB3aWR0aD0iMTAyNHB4IiBoZWlnaHQ9IjEwMjRweCIgdmlld0JveD0iMCAwIDEwMjQgMTAyNCIgeG1sbnM9Imh0dHA6Ly93d3cudzMub3JnLzIwMDAvc3ZnIiB4bWxuczp4bGluaz0iaHR0cDovL3d3dy53My5vcmcvMTk5OS94bGluayIgdmVyc2lvbj0iMS4xIj4KIDwhLS0gR2VuZXJhdGVkIGJ5IFBpeGVsbWF0b3IgUHJvIDIuMC41IC0tPgogPGRlZnM+CiAgPHRleHQgaWQ9InN0cmluZyIgdHJhbnNmb3JtPSJtYXRyaXgoMS4wIDAuMCAwLjAgMS4wIDIyOC4wIDU0LjUpIiBmb250LWZhbWlseT0iQ29tZm9ydGFhLVJlZ3VsYXIsIENvbWZvcnRhYSIgZm9udC1zaXplPSI4MDAiIHRleHQtZGVjb3JhdGlvbj0ibm9uZSIgZmlsbD0iI2ZmZmZmZiIgeD0iMS4xOTk5OTk5OTk5OTk5ODg2IiB5PSI3MDUuMCI+bjwvdGV4dD4KIDwvZGVmcz4KIDx1c2UgaWQ9Im4iIHhsaW5rOmhyZWY9IiNzdHJpbmciLz4KPC9zdmc+Cg==\"/></a>"
   ]
  },
  {
   "cell_type": "markdown",
   "id": "e0a5cdec-021b-4cea-b045-eb951ce554ec",
   "metadata": {},
   "source": [
    "**Tags:** #csv #pandas"
   ]
  },
  {
   "cell_type": "markdown",
   "id": "a4618223-4afc-4c27-9a2b-7f1067be498a",
   "metadata": {},
   "source": [
    "## Input"
   ]
  },
  {
   "cell_type": "markdown",
   "id": "25fde36a-fa80-4aad-b4da-c06038a7fb8d",
   "metadata": {},
   "source": [
    "### Import library"
   ]
  },
  {
   "cell_type": "code",
   "execution_count": null,
   "id": "ae091609-882a-4242-a32f-7b355403969d",
   "metadata": {},
   "outputs": [],
   "source": [
    "import pandas"
   ]
  },
  {
   "cell_type": "markdown",
   "id": "84a10f73-ea4a-4331-8f30-ee190f76797d",
   "metadata": {
    "execution": {
     "iopub.execute_input": "2021-10-01T13:33:58.370014Z",
     "iopub.status.busy": "2021-10-01T13:33:58.369743Z",
     "iopub.status.idle": "2021-10-01T13:33:58.373285Z",
     "shell.execute_reply": "2021-10-01T13:33:58.372507Z",
     "shell.execute_reply.started": "2021-10-01T13:33:58.369948Z"
    }
   },
   "source": [
    "### Variable"
   ]
  },
  {
   "cell_type": "code",
   "execution_count": null,
   "id": "617d6182-dd9b-462e-ad64-26df5faf18ac",
   "metadata": {},
   "outputs": [],
   "source": [
    "URL = \"YOUR_URL\""
   ]
  },
  {
   "cell_type": "markdown",
   "id": "5473470e-9f7a-4c49-be1f-e812859f4b23",
   "metadata": {},
   "source": [
    "## Model"
   ]
  },
  {
   "cell_type": "markdown",
   "id": "69ab62ff-1c59-4ed7-bc4a-f650b732b935",
   "metadata": {},
   "source": [
    "### Read the CSV from the URL"
   ]
  },
  {
   "cell_type": "code",
   "execution_count": null,
   "id": "suited-adelaide",
   "metadata": {
    "papermill": {},
    "tags": []
   },
   "outputs": [],
   "source": [
    "df = pandas.read_csv(URL)"
   ]
  },
  {
   "cell_type": "markdown",
   "id": "63370a04-6b92-462b-b663-2af89c32436e",
   "metadata": {},
   "source": [
    "## Output"
   ]
  },
  {
   "cell_type": "markdown",
   "id": "46f42343-1e53-4325-b708-bbbee1126a7a",
   "metadata": {},
   "source": [
    "### Display result"
   ]
  },
  {
   "cell_type": "code",
   "execution_count": null,
   "id": "dynamic-radius",
   "metadata": {
    "papermill": {},
    "tags": []
   },
   "outputs": [],
   "source": [
    "df.head(5) #read the first 5 lines"
   ]
  }
 ],
 "metadata": {
  "kernelspec": {
   "display_name": "Python 3",
   "language": "python",
   "name": "python3"
  },
  "language_info": {
   "codemirror_mode": {
    "name": "ipython",
    "version": 3
   },
   "file_extension": ".py",
   "mimetype": "text/x-python",
   "name": "python",
   "nbconvert_exporter": "python",
   "pygments_lexer": "ipython3",
   "version": "3.8.8"
  },
  "papermill": {
   "default_parameters": {},
   "environment_variables": {},
   "parameters": {},
   "version": "2.3.3"
  }
 },
 "nbformat": 4,
 "nbformat_minor": 5
}
