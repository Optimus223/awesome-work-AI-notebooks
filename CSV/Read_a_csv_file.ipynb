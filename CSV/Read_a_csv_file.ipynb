{
 "cells": [
  {
   "cell_type": "markdown",
   "id": "elder-rugby",
   "metadata": {
    "papermill": {},
    "tags": []
   },
   "source": [
    "# CSV - Read a csv file\n",
    "<a href=\"https://app.naas.ai/user-redirect/naas/downloader?url=https://raw.githubusercontent.com/jupyter-naas/awesome-notebooks/master/CSV/Read_a_csv_file.ipynb\" target=\"_parent\"><img src=\"https://img.shields.io/badge/-Open%20in%20Naas-success?labelColor=000000&logo=data:image/svg+xml;base64,PD94bWwgdmVyc2lvbj0iMS4wIiBlbmNvZGluZz0iVVRGLTgiPz4KPHN2ZyB3aWR0aD0iMTAyNHB4IiBoZWlnaHQ9IjEwMjRweCIgdmlld0JveD0iMCAwIDEwMjQgMTAyNCIgeG1sbnM9Imh0dHA6Ly93d3cudzMub3JnLzIwMDAvc3ZnIiB4bWxuczp4bGluaz0iaHR0cDovL3d3dy53My5vcmcvMTk5OS94bGluayIgdmVyc2lvbj0iMS4xIj4KIDwhLS0gR2VuZXJhdGVkIGJ5IFBpeGVsbWF0b3IgUHJvIDIuMC41IC0tPgogPGRlZnM+CiAgPHRleHQgaWQ9InN0cmluZyIgdHJhbnNmb3JtPSJtYXRyaXgoMS4wIDAuMCAwLjAgMS4wIDIyOC4wIDU0LjUpIiBmb250LWZhbWlseT0iQ29tZm9ydGFhLVJlZ3VsYXIsIENvbWZvcnRhYSIgZm9udC1zaXplPSI4MDAiIHRleHQtZGVjb3JhdGlvbj0ibm9uZSIgZmlsbD0iI2ZmZmZmZiIgeD0iMS4xOTk5OTk5OTk5OTk5ODg2IiB5PSI3MDUuMCI+bjwvdGV4dD4KIDwvZGVmcz4KIDx1c2UgaWQ9Im4iIHhsaW5rOmhyZWY9IiNzdHJpbmciLz4KPC9zdmc+Cg==\"/></a>"
   ]
  },
  {
   "cell_type": "markdown",
   "id": "e0a5cdec-021b-4cea-b045-eb951ce554ec",
   "metadata": {},
   "source": [
    "**Tags:** #csv #pandas"
   ]
  },
  {
   "cell_type": "markdown",
   "id": "a4618223-4afc-4c27-9a2b-7f1067be498a",
   "metadata": {},
   "source": [
    "## Input"
   ]
  },
  {
   "cell_type": "markdown",
   "id": "25fde36a-fa80-4aad-b4da-c06038a7fb8d",
   "metadata": {},
   "source": [
    "### Import library"
   ]
  },
  {
   "cell_type": "code",
   "execution_count": 1,
   "id": "ae091609-882a-4242-a32f-7b355403969d",
   "metadata": {
    "execution": {
     "iopub.execute_input": "2021-10-01T13:35:04.430020Z",
     "iopub.status.busy": "2021-10-01T13:35:04.429592Z",
     "iopub.status.idle": "2021-10-01T13:35:04.796637Z",
     "shell.execute_reply": "2021-10-01T13:35:04.795839Z",
     "shell.execute_reply.started": "2021-10-01T13:35:04.429951Z"
    }
   },
   "outputs": [],
   "source": [
    "import pandas"
   ]
  },
  {
   "cell_type": "markdown",
   "id": "84a10f73-ea4a-4331-8f30-ee190f76797d",
   "metadata": {
    "execution": {
     "iopub.execute_input": "2021-10-01T13:33:58.370014Z",
     "iopub.status.busy": "2021-10-01T13:33:58.369743Z",
     "iopub.status.idle": "2021-10-01T13:33:58.373285Z",
     "shell.execute_reply": "2021-10-01T13:33:58.372507Z",
     "shell.execute_reply.started": "2021-10-01T13:33:58.369948Z"
    }
   },
   "source": [
    "### Variable"
   ]
  },
  {
   "cell_type": "code",
   "execution_count": 2,
   "id": "617d6182-dd9b-462e-ad64-26df5faf18ac",
   "metadata": {
    "execution": {
     "iopub.execute_input": "2021-10-01T13:35:04.805323Z",
     "iopub.status.busy": "2021-10-01T13:35:04.802913Z",
     "iopub.status.idle": "2021-10-01T13:35:04.810551Z",
     "shell.execute_reply": "2021-10-01T13:35:04.809891Z",
     "shell.execute_reply.started": "2021-10-01T13:35:04.805280Z"
    }
   },
   "outputs": [],
   "source": [
    "URL = \"YOUR_URL\""
   ]
  },
  {
   "cell_type": "markdown",
   "id": "5473470e-9f7a-4c49-be1f-e812859f4b23",
   "metadata": {},
   "source": [
    "## Model"
   ]
  },
  {
   "cell_type": "markdown",
   "id": "69ab62ff-1c59-4ed7-bc4a-f650b732b935",
   "metadata": {},
   "source": [
    "### Read the CSV from the URL"
   ]
  },
  {
   "cell_type": "code",
   "execution_count": 3,
   "id": "suited-adelaide",
   "metadata": {
    "execution": {
     "iopub.execute_input": "2021-10-01T13:35:04.816397Z",
     "iopub.status.busy": "2021-10-01T13:35:04.814386Z",
     "iopub.status.idle": "2021-10-01T13:35:05.086589Z",
     "shell.execute_reply": "2021-10-01T13:35:05.085939Z",
     "shell.execute_reply.started": "2021-10-01T13:35:04.816361Z"
    },
    "papermill": {},
    "tags": []
   },
   "outputs": [],
   "source": [
    "df = pandas.read_csv(URL)"
   ]
  },
  {
   "cell_type": "markdown",
   "id": "63370a04-6b92-462b-b663-2af89c32436e",
   "metadata": {},
   "source": [
    "## Output"
   ]
  },
  {
   "cell_type": "markdown",
   "id": "46f42343-1e53-4325-b708-bbbee1126a7a",
   "metadata": {},
   "source": [
    "#"
   ]
  },
  {
   "cell_type": "code",
   "execution_count": 4,
   "id": "dynamic-radius",
   "metadata": {
    "execution": {
     "iopub.execute_input": "2021-10-01T13:35:05.087837Z",
     "iopub.status.busy": "2021-10-01T13:35:05.087592Z",
     "iopub.status.idle": "2021-10-01T13:35:05.106121Z",
     "shell.execute_reply": "2021-10-01T13:35:05.105475Z",
     "shell.execute_reply.started": "2021-10-01T13:35:05.087809Z"
    },
    "papermill": {},
    "tags": []
   },
   "outputs": [
    {
     "data": {
      "text/html": [
       "<div>\n",
       "<style scoped>\n",
       "    .dataframe tbody tr th:only-of-type {\n",
       "        vertical-align: middle;\n",
       "    }\n",
       "\n",
       "    .dataframe tbody tr th {\n",
       "        vertical-align: top;\n",
       "    }\n",
       "\n",
       "    .dataframe thead th {\n",
       "        text-align: right;\n",
       "    }\n",
       "</style>\n",
       "<table border=\"1\" class=\"dataframe\">\n",
       "  <thead>\n",
       "    <tr style=\"text-align: right;\">\n",
       "      <th></th>\n",
       "      <th>Date</th>\n",
       "      <th>Open</th>\n",
       "      <th>High</th>\n",
       "      <th>Low</th>\n",
       "      <th>Close</th>\n",
       "      <th>Adj Close</th>\n",
       "      <th>Volume</th>\n",
       "    </tr>\n",
       "  </thead>\n",
       "  <tbody>\n",
       "    <tr>\n",
       "      <th>0</th>\n",
       "      <td>2000-08-30</td>\n",
       "      <td>273.899994</td>\n",
       "      <td>273.899994</td>\n",
       "      <td>273.899994</td>\n",
       "      <td>273.899994</td>\n",
       "      <td>273.899994</td>\n",
       "      <td>0.0</td>\n",
       "    </tr>\n",
       "    <tr>\n",
       "      <th>1</th>\n",
       "      <td>2000-08-31</td>\n",
       "      <td>274.799988</td>\n",
       "      <td>278.299988</td>\n",
       "      <td>274.799988</td>\n",
       "      <td>278.299988</td>\n",
       "      <td>278.299988</td>\n",
       "      <td>0.0</td>\n",
       "    </tr>\n",
       "    <tr>\n",
       "      <th>2</th>\n",
       "      <td>2000-09-01</td>\n",
       "      <td>277.000000</td>\n",
       "      <td>277.000000</td>\n",
       "      <td>277.000000</td>\n",
       "      <td>277.000000</td>\n",
       "      <td>277.000000</td>\n",
       "      <td>0.0</td>\n",
       "    </tr>\n",
       "    <tr>\n",
       "      <th>3</th>\n",
       "      <td>2000-09-04</td>\n",
       "      <td>NaN</td>\n",
       "      <td>NaN</td>\n",
       "      <td>NaN</td>\n",
       "      <td>NaN</td>\n",
       "      <td>NaN</td>\n",
       "      <td>NaN</td>\n",
       "    </tr>\n",
       "    <tr>\n",
       "      <th>4</th>\n",
       "      <td>2000-09-05</td>\n",
       "      <td>275.799988</td>\n",
       "      <td>275.799988</td>\n",
       "      <td>275.799988</td>\n",
       "      <td>275.799988</td>\n",
       "      <td>275.799988</td>\n",
       "      <td>2.0</td>\n",
       "    </tr>\n",
       "  </tbody>\n",
       "</table>\n",
       "</div>"
      ],
      "text/plain": [
       "         Date        Open        High         Low       Close   Adj Close  \\\n",
       "0  2000-08-30  273.899994  273.899994  273.899994  273.899994  273.899994   \n",
       "1  2000-08-31  274.799988  278.299988  274.799988  278.299988  278.299988   \n",
       "2  2000-09-01  277.000000  277.000000  277.000000  277.000000  277.000000   \n",
       "3  2000-09-04         NaN         NaN         NaN         NaN         NaN   \n",
       "4  2000-09-05  275.799988  275.799988  275.799988  275.799988  275.799988   \n",
       "\n",
       "   Volume  \n",
       "0     0.0  \n",
       "1     0.0  \n",
       "2     0.0  \n",
       "3     NaN  \n",
       "4     2.0  "
      ]
     },
     "execution_count": 4,
     "metadata": {},
     "output_type": "execute_result"
    }
   ],
   "source": [
    "df.head(5) #read the first 5 lines"
   ]
  }
 ],
 "metadata": {
  "kernelspec": {
   "display_name": "Python 3",
   "language": "python",
   "name": "python3"
  },
  "language_info": {
   "codemirror_mode": {
    "name": "ipython",
    "version": 3
   },
   "file_extension": ".py",
   "mimetype": "text/x-python",
   "name": "python",
   "nbconvert_exporter": "python",
   "pygments_lexer": "ipython3",
   "version": "3.8.8"
  },
  "papermill": {
   "default_parameters": {},
   "environment_variables": {},
   "parameters": {},
   "version": "2.3.3"
  }
 },
 "nbformat": 4,
 "nbformat_minor": 5
}
