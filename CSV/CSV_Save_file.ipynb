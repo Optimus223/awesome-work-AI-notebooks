{
 "cells": [
  {
   "cell_type": "markdown",
   "id": "22adc193-61a4-47e5-8575-63eec1d6e77d",
   "metadata": {},
   "source": [
    "<img width=\"10%\" alt=\"Naas\" src=\"https://landen.imgix.net/jtci2pxwjczr/assets/5ice39g4.png?w=160\"/>"
   ]
  },
  {
   "cell_type": "markdown",
   "id": "elder-rugby",
   "metadata": {
    "papermill": {},
    "tags": []
   },
   "source": [
    "# CSV - Save file\n",
    "<a href=\"https://app.naas.ai/user-redirect/naas/downloader?url=https://raw.githubusercontent.com/jupyter-naas/awesome-notebooks/master/CSV/Read_a_csv_file.ipynb\" target=\"_parent\"><img src=\"https://naasai-public.s3.eu-west-3.amazonaws.com/open_in_naas.svg\"/></a>"
   ]
  },
  {
   "cell_type": "markdown",
   "id": "e0a5cdec-021b-4cea-b045-eb951ce554ec",
   "metadata": {
    "papermill": {},
    "tags": []
   },
   "source": [
    "**Tags:** #csv #pandas #save #opendata #johnshopkins"
   ]
  },
  {
   "cell_type": "markdown",
   "id": "a4618223-4afc-4c27-9a2b-7f1067be498a",
   "metadata": {
    "papermill": {},
    "tags": []
   },
   "source": [
    "## Input"
   ]
  },
  {
   "cell_type": "markdown",
   "id": "25fde36a-fa80-4aad-b4da-c06038a7fb8d",
   "metadata": {
    "papermill": {},
    "tags": []
   },
   "source": [
    "### Import library"
   ]
  },
  {
   "cell_type": "code",
   "execution_count": 1,
   "id": "ae091609-882a-4242-a32f-7b355403969d",
   "metadata": {
    "execution": {
     "iopub.execute_input": "2022-02-22T08:04:20.273082Z",
     "iopub.status.busy": "2022-02-22T08:04:20.272640Z",
     "iopub.status.idle": "2022-02-22T08:04:20.587566Z",
     "shell.execute_reply": "2022-02-22T08:04:20.586988Z",
     "shell.execute_reply.started": "2022-02-22T08:04:20.273006Z"
    },
    "papermill": {},
    "tags": []
   },
   "outputs": [],
   "source": [
    "import pandas"
   ]
  },
  {
   "cell_type": "markdown",
   "id": "84a10f73-ea4a-4331-8f30-ee190f76797d",
   "metadata": {
    "execution": {
     "iopub.execute_input": "2021-10-01T13:33:58.370014Z",
     "iopub.status.busy": "2021-10-01T13:33:58.369743Z",
     "iopub.status.idle": "2021-10-01T13:33:58.373285Z",
     "shell.execute_reply": "2021-10-01T13:33:58.372507Z",
     "shell.execute_reply.started": "2021-10-01T13:33:58.369948Z"
    },
    "papermill": {},
    "tags": []
   },
   "source": [
    "### Variable"
   ]
  },
  {
   "cell_type": "code",
   "execution_count": 2,
   "id": "617d6182-dd9b-462e-ad64-26df5faf18ac",
   "metadata": {
    "execution": {
     "iopub.execute_input": "2022-02-22T08:04:20.588792Z",
     "iopub.status.busy": "2022-02-22T08:04:20.588545Z",
     "iopub.status.idle": "2022-02-22T08:04:20.591897Z",
     "shell.execute_reply": "2022-02-22T08:04:20.591266Z",
     "shell.execute_reply.started": "2022-02-22T08:04:20.588762Z"
    },
    "papermill": {},
    "tags": []
   },
   "outputs": [],
   "source": [
    "# Input\n",
    "csv_path = \"https://raw.githubusercontent.com/CSSEGISandData/COVID-19/master/csse_covid_19_data/csse_covid_19_time_series/time_series_covid19_confirmed_global.csv\"\n",
    "\n",
    "# Output\n",
    "csv_output_path = \"data.csv\""
   ]
  },
  {
   "cell_type": "markdown",
   "id": "5473470e-9f7a-4c49-be1f-e812859f4b23",
   "metadata": {
    "papermill": {},
    "tags": []
   },
   "source": [
    "## Model"
   ]
  },
  {
   "cell_type": "markdown",
   "id": "69ab62ff-1c59-4ed7-bc4a-f650b732b935",
   "metadata": {
    "papermill": {},
    "tags": []
   },
   "source": [
    "### Read the CSV from path"
   ]
  },
  {
   "cell_type": "markdown",
   "id": "790173fe-2b01-4a87-ba3a-d27031611d3c",
   "metadata": {},
   "source": [
    "You want to add more parameters ?<br>\n",
    "👉 Check out the pandas documentation <a href=\"https://pandas.pydata.org/docs/reference/api/pandas.read_csv.html\">here</a>."
   ]
  },
  {
   "cell_type": "code",
   "execution_count": 3,
   "id": "suited-adelaide",
   "metadata": {
    "execution": {
     "iopub.execute_input": "2022-02-22T08:04:20.593018Z",
     "iopub.status.busy": "2022-02-22T08:04:20.592786Z",
     "iopub.status.idle": "2022-02-22T08:04:20.806858Z",
     "shell.execute_reply": "2022-02-22T08:04:20.806203Z",
     "shell.execute_reply.started": "2022-02-22T08:04:20.592990Z"
    },
    "papermill": {},
    "tags": []
   },
   "outputs": [
    {
     "data": {
      "text/html": [
       "<div>\n",
       "<style scoped>\n",
       "    .dataframe tbody tr th:only-of-type {\n",
       "        vertical-align: middle;\n",
       "    }\n",
       "\n",
       "    .dataframe tbody tr th {\n",
       "        vertical-align: top;\n",
       "    }\n",
       "\n",
       "    .dataframe thead th {\n",
       "        text-align: right;\n",
       "    }\n",
       "</style>\n",
       "<table border=\"1\" class=\"dataframe\">\n",
       "  <thead>\n",
       "    <tr style=\"text-align: right;\">\n",
       "      <th></th>\n",
       "      <th>Province/State</th>\n",
       "      <th>Country/Region</th>\n",
       "      <th>Lat</th>\n",
       "      <th>Long</th>\n",
       "      <th>1/22/20</th>\n",
       "      <th>1/23/20</th>\n",
       "      <th>1/24/20</th>\n",
       "      <th>1/25/20</th>\n",
       "      <th>1/26/20</th>\n",
       "      <th>1/27/20</th>\n",
       "      <th>...</th>\n",
       "      <th>2/12/22</th>\n",
       "      <th>2/13/22</th>\n",
       "      <th>2/14/22</th>\n",
       "      <th>2/15/22</th>\n",
       "      <th>2/16/22</th>\n",
       "      <th>2/17/22</th>\n",
       "      <th>2/18/22</th>\n",
       "      <th>2/19/22</th>\n",
       "      <th>2/20/22</th>\n",
       "      <th>2/21/22</th>\n",
       "    </tr>\n",
       "  </thead>\n",
       "  <tbody>\n",
       "    <tr>\n",
       "      <th>0</th>\n",
       "      <td>NaN</td>\n",
       "      <td>Afghanistan</td>\n",
       "      <td>33.939110</td>\n",
       "      <td>67.709953</td>\n",
       "      <td>0</td>\n",
       "      <td>0</td>\n",
       "      <td>0</td>\n",
       "      <td>0</td>\n",
       "      <td>0</td>\n",
       "      <td>0</td>\n",
       "      <td>...</td>\n",
       "      <td>170152</td>\n",
       "      <td>170604</td>\n",
       "      <td>171246</td>\n",
       "      <td>171422</td>\n",
       "      <td>171519</td>\n",
       "      <td>171673</td>\n",
       "      <td>171857</td>\n",
       "      <td>171931</td>\n",
       "      <td>172205</td>\n",
       "      <td>172441</td>\n",
       "    </tr>\n",
       "    <tr>\n",
       "      <th>1</th>\n",
       "      <td>NaN</td>\n",
       "      <td>Albania</td>\n",
       "      <td>41.153300</td>\n",
       "      <td>20.168300</td>\n",
       "      <td>0</td>\n",
       "      <td>0</td>\n",
       "      <td>0</td>\n",
       "      <td>0</td>\n",
       "      <td>0</td>\n",
       "      <td>0</td>\n",
       "      <td>...</td>\n",
       "      <td>267551</td>\n",
       "      <td>268008</td>\n",
       "      <td>268304</td>\n",
       "      <td>268491</td>\n",
       "      <td>268940</td>\n",
       "      <td>269301</td>\n",
       "      <td>269601</td>\n",
       "      <td>269904</td>\n",
       "      <td>270164</td>\n",
       "      <td>270370</td>\n",
       "    </tr>\n",
       "    <tr>\n",
       "      <th>2</th>\n",
       "      <td>NaN</td>\n",
       "      <td>Algeria</td>\n",
       "      <td>28.033900</td>\n",
       "      <td>1.659600</td>\n",
       "      <td>0</td>\n",
       "      <td>0</td>\n",
       "      <td>0</td>\n",
       "      <td>0</td>\n",
       "      <td>0</td>\n",
       "      <td>0</td>\n",
       "      <td>...</td>\n",
       "      <td>261226</td>\n",
       "      <td>261752</td>\n",
       "      <td>262165</td>\n",
       "      <td>262570</td>\n",
       "      <td>262994</td>\n",
       "      <td>263369</td>\n",
       "      <td>263685</td>\n",
       "      <td>263936</td>\n",
       "      <td>264054</td>\n",
       "      <td>264201</td>\n",
       "    </tr>\n",
       "    <tr>\n",
       "      <th>3</th>\n",
       "      <td>NaN</td>\n",
       "      <td>Andorra</td>\n",
       "      <td>42.506300</td>\n",
       "      <td>1.521800</td>\n",
       "      <td>0</td>\n",
       "      <td>0</td>\n",
       "      <td>0</td>\n",
       "      <td>0</td>\n",
       "      <td>0</td>\n",
       "      <td>0</td>\n",
       "      <td>...</td>\n",
       "      <td>37140</td>\n",
       "      <td>37140</td>\n",
       "      <td>37277</td>\n",
       "      <td>37361</td>\n",
       "      <td>37452</td>\n",
       "      <td>37522</td>\n",
       "      <td>37589</td>\n",
       "      <td>37589</td>\n",
       "      <td>37589</td>\n",
       "      <td>37589</td>\n",
       "    </tr>\n",
       "    <tr>\n",
       "      <th>4</th>\n",
       "      <td>NaN</td>\n",
       "      <td>Angola</td>\n",
       "      <td>-11.202700</td>\n",
       "      <td>17.873900</td>\n",
       "      <td>0</td>\n",
       "      <td>0</td>\n",
       "      <td>0</td>\n",
       "      <td>0</td>\n",
       "      <td>0</td>\n",
       "      <td>0</td>\n",
       "      <td>...</td>\n",
       "      <td>98514</td>\n",
       "      <td>98514</td>\n",
       "      <td>98514</td>\n",
       "      <td>98555</td>\n",
       "      <td>98568</td>\n",
       "      <td>98585</td>\n",
       "      <td>98605</td>\n",
       "      <td>98617</td>\n",
       "      <td>98638</td>\n",
       "      <td>98658</td>\n",
       "    </tr>\n",
       "    <tr>\n",
       "      <th>...</th>\n",
       "      <td>...</td>\n",
       "      <td>...</td>\n",
       "      <td>...</td>\n",
       "      <td>...</td>\n",
       "      <td>...</td>\n",
       "      <td>...</td>\n",
       "      <td>...</td>\n",
       "      <td>...</td>\n",
       "      <td>...</td>\n",
       "      <td>...</td>\n",
       "      <td>...</td>\n",
       "      <td>...</td>\n",
       "      <td>...</td>\n",
       "      <td>...</td>\n",
       "      <td>...</td>\n",
       "      <td>...</td>\n",
       "      <td>...</td>\n",
       "      <td>...</td>\n",
       "      <td>...</td>\n",
       "      <td>...</td>\n",
       "      <td>...</td>\n",
       "    </tr>\n",
       "    <tr>\n",
       "      <th>279</th>\n",
       "      <td>NaN</td>\n",
       "      <td>West Bank and Gaza</td>\n",
       "      <td>31.952200</td>\n",
       "      <td>35.233200</td>\n",
       "      <td>0</td>\n",
       "      <td>0</td>\n",
       "      <td>0</td>\n",
       "      <td>0</td>\n",
       "      <td>0</td>\n",
       "      <td>0</td>\n",
       "      <td>...</td>\n",
       "      <td>600128</td>\n",
       "      <td>600128</td>\n",
       "      <td>613846</td>\n",
       "      <td>618527</td>\n",
       "      <td>622175</td>\n",
       "      <td>625028</td>\n",
       "      <td>627956</td>\n",
       "      <td>627956</td>\n",
       "      <td>627956</td>\n",
       "      <td>633684</td>\n",
       "    </tr>\n",
       "    <tr>\n",
       "      <th>280</th>\n",
       "      <td>NaN</td>\n",
       "      <td>Winter Olympics 2022</td>\n",
       "      <td>39.904200</td>\n",
       "      <td>116.407400</td>\n",
       "      <td>0</td>\n",
       "      <td>0</td>\n",
       "      <td>0</td>\n",
       "      <td>0</td>\n",
       "      <td>0</td>\n",
       "      <td>0</td>\n",
       "      <td>...</td>\n",
       "      <td>498</td>\n",
       "      <td>501</td>\n",
       "      <td>501</td>\n",
       "      <td>505</td>\n",
       "      <td>507</td>\n",
       "      <td>507</td>\n",
       "      <td>508</td>\n",
       "      <td>508</td>\n",
       "      <td>509</td>\n",
       "      <td>509</td>\n",
       "    </tr>\n",
       "    <tr>\n",
       "      <th>281</th>\n",
       "      <td>NaN</td>\n",
       "      <td>Yemen</td>\n",
       "      <td>15.552727</td>\n",
       "      <td>48.516388</td>\n",
       "      <td>0</td>\n",
       "      <td>0</td>\n",
       "      <td>0</td>\n",
       "      <td>0</td>\n",
       "      <td>0</td>\n",
       "      <td>0</td>\n",
       "      <td>...</td>\n",
       "      <td>11664</td>\n",
       "      <td>11671</td>\n",
       "      <td>11679</td>\n",
       "      <td>11699</td>\n",
       "      <td>11707</td>\n",
       "      <td>11718</td>\n",
       "      <td>11731</td>\n",
       "      <td>11731</td>\n",
       "      <td>11736</td>\n",
       "      <td>11741</td>\n",
       "    </tr>\n",
       "    <tr>\n",
       "      <th>282</th>\n",
       "      <td>NaN</td>\n",
       "      <td>Zambia</td>\n",
       "      <td>-13.133897</td>\n",
       "      <td>27.849332</td>\n",
       "      <td>0</td>\n",
       "      <td>0</td>\n",
       "      <td>0</td>\n",
       "      <td>0</td>\n",
       "      <td>0</td>\n",
       "      <td>0</td>\n",
       "      <td>...</td>\n",
       "      <td>309293</td>\n",
       "      <td>309502</td>\n",
       "      <td>309579</td>\n",
       "      <td>309870</td>\n",
       "      <td>310155</td>\n",
       "      <td>310474</td>\n",
       "      <td>310764</td>\n",
       "      <td>311016</td>\n",
       "      <td>311194</td>\n",
       "      <td>311264</td>\n",
       "    </tr>\n",
       "    <tr>\n",
       "      <th>283</th>\n",
       "      <td>NaN</td>\n",
       "      <td>Zimbabwe</td>\n",
       "      <td>-19.015438</td>\n",
       "      <td>29.154857</td>\n",
       "      <td>0</td>\n",
       "      <td>0</td>\n",
       "      <td>0</td>\n",
       "      <td>0</td>\n",
       "      <td>0</td>\n",
       "      <td>0</td>\n",
       "      <td>...</td>\n",
       "      <td>231299</td>\n",
       "      <td>231381</td>\n",
       "      <td>231603</td>\n",
       "      <td>231603</td>\n",
       "      <td>232213</td>\n",
       "      <td>232598</td>\n",
       "      <td>233030</td>\n",
       "      <td>233224</td>\n",
       "      <td>233352</td>\n",
       "      <td>233571</td>\n",
       "    </tr>\n",
       "  </tbody>\n",
       "</table>\n",
       "<p>284 rows × 766 columns</p>\n",
       "</div>"
      ],
      "text/plain": [
       "    Province/State        Country/Region        Lat        Long  1/22/20  \\\n",
       "0              NaN           Afghanistan  33.939110   67.709953        0   \n",
       "1              NaN               Albania  41.153300   20.168300        0   \n",
       "2              NaN               Algeria  28.033900    1.659600        0   \n",
       "3              NaN               Andorra  42.506300    1.521800        0   \n",
       "4              NaN                Angola -11.202700   17.873900        0   \n",
       "..             ...                   ...        ...         ...      ...   \n",
       "279            NaN    West Bank and Gaza  31.952200   35.233200        0   \n",
       "280            NaN  Winter Olympics 2022  39.904200  116.407400        0   \n",
       "281            NaN                 Yemen  15.552727   48.516388        0   \n",
       "282            NaN                Zambia -13.133897   27.849332        0   \n",
       "283            NaN              Zimbabwe -19.015438   29.154857        0   \n",
       "\n",
       "     1/23/20  1/24/20  1/25/20  1/26/20  1/27/20  ...  2/12/22  2/13/22  \\\n",
       "0          0        0        0        0        0  ...   170152   170604   \n",
       "1          0        0        0        0        0  ...   267551   268008   \n",
       "2          0        0        0        0        0  ...   261226   261752   \n",
       "3          0        0        0        0        0  ...    37140    37140   \n",
       "4          0        0        0        0        0  ...    98514    98514   \n",
       "..       ...      ...      ...      ...      ...  ...      ...      ...   \n",
       "279        0        0        0        0        0  ...   600128   600128   \n",
       "280        0        0        0        0        0  ...      498      501   \n",
       "281        0        0        0        0        0  ...    11664    11671   \n",
       "282        0        0        0        0        0  ...   309293   309502   \n",
       "283        0        0        0        0        0  ...   231299   231381   \n",
       "\n",
       "     2/14/22  2/15/22  2/16/22  2/17/22  2/18/22  2/19/22  2/20/22  2/21/22  \n",
       "0     171246   171422   171519   171673   171857   171931   172205   172441  \n",
       "1     268304   268491   268940   269301   269601   269904   270164   270370  \n",
       "2     262165   262570   262994   263369   263685   263936   264054   264201  \n",
       "3      37277    37361    37452    37522    37589    37589    37589    37589  \n",
       "4      98514    98555    98568    98585    98605    98617    98638    98658  \n",
       "..       ...      ...      ...      ...      ...      ...      ...      ...  \n",
       "279   613846   618527   622175   625028   627956   627956   627956   633684  \n",
       "280      501      505      507      507      508      508      509      509  \n",
       "281    11679    11699    11707    11718    11731    11731    11736    11741  \n",
       "282   309579   309870   310155   310474   310764   311016   311194   311264  \n",
       "283   231603   231603   232213   232598   233030   233224   233352   233571  \n",
       "\n",
       "[284 rows x 766 columns]"
      ]
     },
     "execution_count": 3,
     "metadata": {},
     "output_type": "execute_result"
    }
   ],
   "source": [
    "df = pandas.read_csv(csv_path)\n",
    "df"
   ]
  },
  {
   "cell_type": "markdown",
   "id": "63370a04-6b92-462b-b663-2af89c32436e",
   "metadata": {
    "papermill": {},
    "tags": []
   },
   "source": [
    "## Output"
   ]
  },
  {
   "cell_type": "markdown",
   "id": "46f42343-1e53-4325-b708-bbbee1126a7a",
   "metadata": {
    "papermill": {},
    "tags": []
   },
   "source": [
    "You want to add more parameters ?<br>\n",
    "👉 Check out the pandas documentation <a href=\"https://pandas.pydata.org/docs/reference/api/pandas.DataFrame.to_csv.html\">here</a>."
   ]
  },
  {
   "cell_type": "code",
   "execution_count": 4,
   "id": "dynamic-radius",
   "metadata": {
    "execution": {
     "iopub.execute_input": "2022-02-22T08:04:20.808295Z",
     "iopub.status.busy": "2022-02-22T08:04:20.807902Z",
     "iopub.status.idle": "2022-02-22T08:04:20.902303Z",
     "shell.execute_reply": "2022-02-22T08:04:20.901547Z",
     "shell.execute_reply.started": "2022-02-22T08:04:20.808261Z"
    },
    "papermill": {},
    "tags": []
   },
   "outputs": [
    {
     "name": "stdout",
     "output_type": "stream",
     "text": [
      "💾 Excel data.csv successfully saved in Naas.\n"
     ]
    }
   ],
   "source": [
    "df.to_csv(csv_output_path)\n",
    "print(f'💾 Excel '{csv_output_path}' successfully saved in Naas.')"
   ]
  }
 ],
 "metadata": {
  "kernelspec": {
   "display_name": "Python 3",
   "language": "python",
   "name": "python3"
  },
  "language_info": {
   "codemirror_mode": {
    "name": "ipython",
    "version": 3
   },
   "file_extension": ".py",
   "mimetype": "text/x-python",
   "name": "python",
   "nbconvert_exporter": "python",
   "pygments_lexer": "ipython3",
   "version": "3.8.8"
  },
  "papermill": {
   "default_parameters": {},
   "environment_variables": {},
   "parameters": {},
   "version": "2.3.3"
  }
 },
 "nbformat": 4,
 "nbformat_minor": 5
}
