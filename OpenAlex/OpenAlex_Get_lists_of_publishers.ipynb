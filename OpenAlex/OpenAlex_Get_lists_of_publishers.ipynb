{
 "cells": [
  {
   "cell_type": "markdown",
   "id": "877e13c1-a142-4f99-a50c-0c88fbb4543a",
   "metadata": {
    "papermill": {},
    "tags": []
   },
   "source": [
    "<img width=\"10%\" alt=\"Naas\" src=\"https://landen.imgix.net/jtci2pxwjczr/assets/5ice39g4.png?w=160\"/>"
   ]
  },
  {
   "cell_type": "markdown",
   "id": "7327e523-f637-408b-b242-a9b8c52af5a7",
   "metadata": {
    "papermill": {},
    "tags": []
   },
   "source": [
    "# OpenAlex - Get lists of publishers"
   ]
  },
  {
   "cell_type": "markdown",
   "id": "e850b621-5551-4583-b331-cbdfcfb4622d",
   "metadata": {
    "papermill": {},
    "tags": []
   },
   "source": [
    "**Tags:** #openalex #api #entities #publishers #get #lists"
   ]
  },
  {
   "cell_type": "markdown",
   "id": "c177b9e6-a470-4328-9109-9a769ad9bea4",
   "metadata": {
    "papermill": {},
    "tags": []
   },
   "source": [
    "**Author:** [Florent Ravenel](https://www.linkedin.com/in/florent-ravenel)"
   ]
  },
  {
   "cell_type": "markdown",
   "id": "08d71754-6f04-4d8f-ad2e-2fdaa1d965ca",
   "metadata": {
    "papermill": {},
    "tags": []
   },
   "source": [
    "**Last update:** 2023-07-27 (Created: 2023-07-27)"
   ]
  },
  {
   "cell_type": "markdown",
   "id": "001d94d6-3449-4a4e-98e5-dc70fcd5d691",
   "metadata": {
    "papermill": {},
    "tags": []
   },
   "source": [
    "**Description:** This notebook will show how to get lists of publishers from OpenAlex API."
   ]
  },
  {
   "cell_type": "markdown",
   "id": "29455cfb-5b0f-4699-8099-3e5b9b4f1dab",
   "metadata": {
    "papermill": {},
    "tags": []
   },
   "source": [
    "**References:**\n",
    "- [OpenAlex API - Get lists of publishers](https://docs.openalex.org/api-entities/publishers/get-lists-of-publishers)\n",
    "- [OpenAlex API - Publisher object](https://docs.openalex.org/api-entities/publishers/publisher-object)"
   ]
  },
  {
   "cell_type": "markdown",
   "id": "a23762c8-543a-41b6-bcb2-ce04ac86ab63",
   "metadata": {
    "papermill": {},
    "tags": []
   },
   "source": [
    "## Input"
   ]
  },
  {
   "cell_type": "markdown",
   "id": "0932fada-2003-4e7d-90e6-1bd17b6ffefe",
   "metadata": {
    "papermill": {},
    "tags": []
   },
   "source": [
    "### Import libraries"
   ]
  },
  {
   "cell_type": "code",
   "execution_count": 1,
   "id": "0cf2eeef-3db6-4d62-ad15-52623d3da5d0",
   "metadata": {
    "execution": {
     "iopub.execute_input": "2023-07-27T14:28:57.620852Z",
     "iopub.status.busy": "2023-07-27T14:28:57.620299Z",
     "iopub.status.idle": "2023-07-27T14:28:59.003058Z",
     "shell.execute_reply": "2023-07-27T14:28:59.002473Z",
     "shell.execute_reply.started": "2023-07-27T14:28:57.620782Z"
    },
    "papermill": {},
    "tags": []
   },
   "outputs": [],
   "source": [
    "import requests\n",
    "import pandas as pd"
   ]
  },
  {
   "cell_type": "markdown",
   "id": "7df898f8-b328-43a6-a435-da9e75eb01c6",
   "metadata": {},
   "source": [
    "### Setup variables\n",
    "- `endpoint`: API endpoint\n",
    "- `limit`: number of data to be returned. The daily limit for API calls is 100,000 requests per user per day"
   ]
  },
  {
   "cell_type": "code",
   "execution_count": 2,
   "id": "1ae6d1b9-70a7-4f99-bec7-b0b2bca71657",
   "metadata": {
    "execution": {
     "iopub.execute_input": "2023-07-27T14:28:59.004240Z",
     "iopub.status.busy": "2023-07-27T14:28:59.003997Z",
     "iopub.status.idle": "2023-07-27T14:28:59.008805Z",
     "shell.execute_reply": "2023-07-27T14:28:59.008290Z",
     "shell.execute_reply.started": "2023-07-27T14:28:59.004203Z"
    },
    "tags": []
   },
   "outputs": [],
   "source": [
    "endpoint = \"publishers\"\n",
    "limit = 100"
   ]
  },
  {
   "cell_type": "markdown",
   "id": "681e9f98-ec06-4553-aeb8-8fb9b28fcd4e",
   "metadata": {
    "papermill": {},
    "tags": []
   },
   "source": [
    "## Model"
   ]
  },
  {
   "cell_type": "markdown",
   "id": "56584d7c-87fe-43df-9ef2-72762f8bc103",
   "metadata": {
    "papermill": {},
    "tags": []
   },
   "source": [
    "### Get lists of publishers\n",
    "This function will get lists of publishers from OpenAlex API."
   ]
  },
  {
   "cell_type": "code",
   "execution_count": 3,
   "id": "ed739ba4-9a5a-4300-a7d7-55452a1f8516",
   "metadata": {
    "execution": {
     "iopub.execute_input": "2023-07-27T14:28:59.011001Z",
     "iopub.status.busy": "2023-07-27T14:28:59.010836Z",
     "iopub.status.idle": "2023-07-27T14:28:59.101687Z",
     "shell.execute_reply": "2023-07-27T14:28:59.101054Z",
     "shell.execute_reply.started": "2023-07-27T14:28:59.010982Z"
    },
    "papermill": {},
    "tags": []
   },
   "outputs": [],
   "source": [
    "def get_data(endpoint, limit=-1):\n",
    "    # Init\n",
    "    page = 1\n",
    "    per_page = 100\n",
    "    data = []\n",
    "    \n",
    "    # Loop on page\n",
    "    while True:\n",
    "        if limit != -1:\n",
    "            y = limit - len(data)\n",
    "            if y < per_page:\n",
    "                per_page = y\n",
    "            if len(data) > limit:\n",
    "                break\n",
    "                \n",
    "        # Params\n",
    "        params = {\n",
    "            \"page\": page,\n",
    "            \"per_page\": per_page,\n",
    "        }\n",
    "        url = f\"https://api.openalex.org/{endpoint}\"\n",
    "        \n",
    "        # Requests\n",
    "        res = requests.get(url, params=params)\n",
    "        \n",
    "        # Results\n",
    "        if res.status_code == 200:\n",
    "            results = res.json().get(\"results\")\n",
    "            if len(results) > 0:\n",
    "                data.extend(results)\n",
    "            else:\n",
    "                break\n",
    "        else:\n",
    "            break\n",
    "        page += 1\n",
    "    return data"
   ]
  },
  {
   "cell_type": "markdown",
   "id": "7f724283-750c-4e41-9e74-e7d9adb50dce",
   "metadata": {
    "papermill": {},
    "tags": []
   },
   "source": [
    "## Output"
   ]
  },
  {
   "cell_type": "markdown",
   "id": "660450c1-3e4e-4814-9fac-20daed5b413c",
   "metadata": {
    "papermill": {},
    "tags": []
   },
   "source": [
    "### Display result"
   ]
  },
  {
   "cell_type": "code",
   "execution_count": 4,
   "id": "62bc33d0-f1cb-45da-b4cc-083a575b7889",
   "metadata": {
    "execution": {
     "iopub.execute_input": "2023-07-27T14:28:59.103775Z",
     "iopub.status.busy": "2023-07-27T14:28:59.103367Z",
     "iopub.status.idle": "2023-07-27T14:29:00.156127Z",
     "shell.execute_reply": "2023-07-27T14:29:00.155550Z",
     "shell.execute_reply.started": "2023-07-27T14:28:59.103744Z"
    },
    "papermill": {},
    "tags": []
   },
   "outputs": [
    {
     "name": "stdout",
     "output_type": "stream",
     "text": [
      "Results fetched: 100\n",
      "Example:\n"
     ]
    },
    {
     "data": {
      "text/plain": [
       "{'id': 'https://openalex.org/P4310320990',\n",
       " 'display_name': 'Elsevier BV',\n",
       " 'alternate_titles': ['Elsevier',\n",
       "  'elsevier.com',\n",
       "  'Elsevier Science',\n",
       "  'Uitg. Elsevier',\n",
       "  'السفیر',\n",
       "  'السویر',\n",
       "  'انتشارات الزویر',\n",
       "  'لودویک السفیر',\n",
       "  '爱思唯尔'],\n",
       " 'hierarchy_level': 0,\n",
       " 'parent_publisher': None,\n",
       " 'lineage': ['https://openalex.org/P4310320990'],\n",
       " 'country_codes': ['NL'],\n",
       " 'homepage_url': 'https://www.elsevier.com',\n",
       " 'image_url': 'https://commons.wikimedia.org/w/index.php?title=Special:Redirect/file/Elsevier.svg',\n",
       " 'image_thumbnail_url': 'https://commons.wikimedia.org/w/index.php?title=Special:Redirect/file/Elsevier.svg&width=300',\n",
       " 'works_count': 20126360,\n",
       " 'cited_by_count': 442375225,\n",
       " 'summary_stats': {'2yr_mean_citedness': 4.317045738490115,\n",
       "  'h_index': 2361,\n",
       "  'i10_index': 7910784},\n",
       " 'ids': {'openalex': 'https://openalex.org/P4310320990',\n",
       "  'ror': 'https://ror.org/02scfj030',\n",
       "  'wikidata': 'https://www.wikidata.org/entity/Q746413'},\n",
       " 'counts_by_year': [{'year': 2023,\n",
       "   'works_count': 348936,\n",
       "   'cited_by_count': 10972582},\n",
       "  {'year': 2022, 'works_count': 853008, 'cited_by_count': 34794353},\n",
       "  {'year': 2021, 'works_count': 853971, 'cited_by_count': 33715366},\n",
       "  {'year': 2020, 'works_count': 800886, 'cited_by_count': 29524541},\n",
       "  {'year': 2019, 'works_count': 748621, 'cited_by_count': 25247102},\n",
       "  {'year': 2018, 'works_count': 715810, 'cited_by_count': 22448053},\n",
       "  {'year': 2017, 'works_count': 741141, 'cited_by_count': 20648448},\n",
       "  {'year': 2016, 'works_count': 707866, 'cited_by_count': 19913681},\n",
       "  {'year': 2015, 'works_count': 652543, 'cited_by_count': 19545485},\n",
       "  {'year': 2014, 'works_count': 628755, 'cited_by_count': 18609252},\n",
       "  {'year': 2013, 'works_count': 608486, 'cited_by_count': 17374046},\n",
       "  {'year': 2012, 'works_count': 587406, 'cited_by_count': 15786904}],\n",
       " 'roles': [{'role': 'institution',\n",
       "   'id': 'https://openalex.org/I4210160603',\n",
       "   'works_count': 458},\n",
       "  {'role': 'institution',\n",
       "   'id': 'https://openalex.org/I1318003438',\n",
       "   'works_count': 1129},\n",
       "  {'role': 'publisher',\n",
       "   'id': 'https://openalex.org/P4310320990',\n",
       "   'works_count': 20126360},\n",
       "  {'role': 'funder',\n",
       "   'id': 'https://openalex.org/F4320308305',\n",
       "   'works_count': 83}],\n",
       " 'sources_api_url': 'https://api.openalex.org/sources?filter=host_organization.id:P4310320990',\n",
       " 'updated_date': '2023-07-27',\n",
       " 'created_date': '2023-01-01'}"
      ]
     },
     "execution_count": 4,
     "metadata": {},
     "output_type": "execute_result"
    }
   ],
   "source": [
    "data = get_data(endpoint, limit=limit)\n",
    "print(\"Results fetched:\", len(data))\n",
    "print(\"Example:\")\n",
    "data[0]"
   ]
  },
  {
   "cell_type": "markdown",
   "id": "30513af7-3035-4ef6-80f3-7b8dad7ea90f",
   "metadata": {
    "papermill": {},
    "tags": []
   },
   "source": [
    " "
   ]
  }
 ],
 "metadata": {
  "kernelspec": {
   "display_name": "Python 3",
   "language": "python",
   "name": "python3"
  },
  "language_info": {
   "codemirror_mode": {
    "name": "ipython",
    "version": 3
   },
   "file_extension": ".py",
   "mimetype": "text/x-python",
   "name": "python",
   "nbconvert_exporter": "python",
   "pygments_lexer": "ipython3",
   "version": "3.9.6"
  },
  "widgets": {
   "application/vnd.jupyter.widget-state+json": {
    "state": {},
    "version_major": 2,
    "version_minor": 0
   }
  }
 },
 "nbformat": 4,
 "nbformat_minor": 5
}
