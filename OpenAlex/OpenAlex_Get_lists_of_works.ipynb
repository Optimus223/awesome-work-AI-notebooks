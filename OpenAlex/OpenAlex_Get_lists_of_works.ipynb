{
 "cells": [
  {
   "cell_type": "markdown",
   "id": "877e13c1-a142-4f99-a50c-0c88fbb4543a",
   "metadata": {
    "papermill": {},
    "tags": []
   },
   "source": [
    "<img width=\"10%\" alt=\"Naas\" src=\"https://landen.imgix.net/jtci2pxwjczr/assets/5ice39g4.png?w=160\"/>"
   ]
  },
  {
   "cell_type": "markdown",
   "id": "7327e523-f637-408b-b242-a9b8c52af5a7",
   "metadata": {
    "papermill": {},
    "tags": []
   },
   "source": [
    "# OpenAlex - Get lists of works"
   ]
  },
  {
   "cell_type": "markdown",
   "id": "e850b621-5551-4583-b331-cbdfcfb4622d",
   "metadata": {
    "papermill": {},
    "tags": []
   },
   "source": [
    "**Tags:** #openalex #api #entities #works #get #lists"
   ]
  },
  {
   "cell_type": "markdown",
   "id": "c177b9e6-a470-4328-9109-9a769ad9bea4",
   "metadata": {
    "papermill": {},
    "tags": []
   },
   "source": [
    "**Author:** [Florent Ravenel](https://www.linkedin.com/in/florent-ravenel)"
   ]
  },
  {
   "cell_type": "markdown",
   "id": "08d71754-6f04-4d8f-ad2e-2fdaa1d965ca",
   "metadata": {
    "papermill": {},
    "tags": []
   },
   "source": [
    "**Last update:** 2023-07-27 (Created: 2023-07-27)"
   ]
  },
  {
   "cell_type": "markdown",
   "id": "001d94d6-3449-4a4e-98e5-dc70fcd5d691",
   "metadata": {
    "papermill": {},
    "tags": []
   },
   "source": [
    "**Description:** This notebook will show how to get lists of works from OpenAlex API."
   ]
  },
  {
   "cell_type": "markdown",
   "id": "29455cfb-5b0f-4699-8099-3e5b9b4f1dab",
   "metadata": {
    "papermill": {},
    "tags": []
   },
   "source": [
    "**References:**\n",
    "- [OpenAlex API - Get lists of works](https://docs.openalex.org/api-entities/works/get-lists-of-works)\n",
    "- [OpenAlex API - Work object](https://docs.openalex.org/api-entities/works/work-object)"
   ]
  },
  {
   "cell_type": "markdown",
   "id": "a23762c8-543a-41b6-bcb2-ce04ac86ab63",
   "metadata": {
    "papermill": {},
    "tags": []
   },
   "source": [
    "## Input"
   ]
  },
  {
   "cell_type": "markdown",
   "id": "0932fada-2003-4e7d-90e6-1bd17b6ffefe",
   "metadata": {
    "papermill": {},
    "tags": []
   },
   "source": [
    "### Import libraries"
   ]
  },
  {
   "cell_type": "code",
   "execution_count": 1,
   "id": "0cf2eeef-3db6-4d62-ad15-52623d3da5d0",
   "metadata": {
    "execution": {
     "iopub.execute_input": "2023-07-27T14:16:50.183654Z",
     "iopub.status.busy": "2023-07-27T14:16:50.183220Z",
     "iopub.status.idle": "2023-07-27T14:16:51.532815Z",
     "shell.execute_reply": "2023-07-27T14:16:51.532165Z",
     "shell.execute_reply.started": "2023-07-27T14:16:50.183583Z"
    },
    "papermill": {},
    "tags": []
   },
   "outputs": [],
   "source": [
    "import requests\n",
    "import pandas as pd"
   ]
  },
  {
   "cell_type": "markdown",
   "id": "7df898f8-b328-43a6-a435-da9e75eb01c6",
   "metadata": {},
   "source": [
    "### Setup variables\n",
    "- `endpoint`: API endpoint\n",
    "- `limit`: number of data to be returned. The daily limit for API calls is 100,000 requests per user per day"
   ]
  },
  {
   "cell_type": "code",
   "execution_count": 2,
   "id": "1ae6d1b9-70a7-4f99-bec7-b0b2bca71657",
   "metadata": {
    "execution": {
     "iopub.execute_input": "2023-07-27T14:16:51.534117Z",
     "iopub.status.busy": "2023-07-27T14:16:51.533766Z",
     "iopub.status.idle": "2023-07-27T14:16:51.537216Z",
     "shell.execute_reply": "2023-07-27T14:16:51.536603Z",
     "shell.execute_reply.started": "2023-07-27T14:16:51.534087Z"
    },
    "tags": []
   },
   "outputs": [],
   "source": [
    "endpoint = \"works\"\n",
    "limit = 100"
   ]
  },
  {
   "cell_type": "markdown",
   "id": "681e9f98-ec06-4553-aeb8-8fb9b28fcd4e",
   "metadata": {
    "papermill": {},
    "tags": []
   },
   "source": [
    "## Model"
   ]
  },
  {
   "cell_type": "markdown",
   "id": "56584d7c-87fe-43df-9ef2-72762f8bc103",
   "metadata": {
    "papermill": {},
    "tags": []
   },
   "source": [
    "### Get lists of works\n",
    "This function will get lists of works from OpenAlex API."
   ]
  },
  {
   "cell_type": "code",
   "execution_count": 5,
   "id": "ed739ba4-9a5a-4300-a7d7-55452a1f8516",
   "metadata": {
    "execution": {
     "iopub.execute_input": "2023-07-27T14:17:03.477771Z",
     "iopub.status.busy": "2023-07-27T14:17:03.477544Z",
     "iopub.status.idle": "2023-07-27T14:17:03.482668Z",
     "shell.execute_reply": "2023-07-27T14:17:03.482023Z",
     "shell.execute_reply.started": "2023-07-27T14:17:03.477748Z"
    },
    "papermill": {},
    "tags": []
   },
   "outputs": [],
   "source": [
    "def get_data(endpoint, limit=-1):\n",
    "    # Init\n",
    "    page = 1\n",
    "    per_page = 100\n",
    "    data = []\n",
    "    \n",
    "    # Loop on page\n",
    "    while True:\n",
    "        if limit != -1:\n",
    "            y = limit - len(data)\n",
    "            if y < per_page:\n",
    "                per_page = y\n",
    "            if len(data) > limit:\n",
    "                break\n",
    "                \n",
    "        # Params\n",
    "        params = {\n",
    "            \"page\": page,\n",
    "            \"per_page\": per_page,\n",
    "        }\n",
    "        url = f\"https://api.openalex.org/{endpoint}\"\n",
    "        \n",
    "        # Requests\n",
    "        res = requests.get(url, params=params)\n",
    "        \n",
    "        # Results\n",
    "        if res.status_code == 200:\n",
    "            results = res.json().get(\"results\")\n",
    "            if len(results) > 0:\n",
    "                data.extend(results)\n",
    "            else:\n",
    "                break\n",
    "        else:\n",
    "            break\n",
    "        page += 1\n",
    "    return data"
   ]
  },
  {
   "cell_type": "markdown",
   "id": "7f724283-750c-4e41-9e74-e7d9adb50dce",
   "metadata": {
    "papermill": {},
    "tags": []
   },
   "source": [
    "## Output"
   ]
  },
  {
   "cell_type": "markdown",
   "id": "660450c1-3e4e-4814-9fac-20daed5b413c",
   "metadata": {
    "papermill": {},
    "tags": []
   },
   "source": [
    "### Display result"
   ]
  },
  {
   "cell_type": "code",
   "execution_count": 6,
   "id": "62bc33d0-f1cb-45da-b4cc-083a575b7889",
   "metadata": {
    "execution": {
     "iopub.execute_input": "2023-07-27T14:17:04.300060Z",
     "iopub.status.busy": "2023-07-27T14:17:04.299788Z",
     "iopub.status.idle": "2023-07-27T14:17:05.297726Z",
     "shell.execute_reply": "2023-07-27T14:17:05.297181Z",
     "shell.execute_reply.started": "2023-07-27T14:17:04.300035Z"
    },
    "papermill": {},
    "tags": []
   },
   "outputs": [
    {
     "name": "stdout",
     "output_type": "stream",
     "text": [
      "Results fetched: 100\n",
      "Example:\n"
     ]
    },
    {
     "data": {
      "text/plain": [
       "{'id': 'https://openalex.org/W1775749144',\n",
       " 'doi': 'https://doi.org/10.1016/s0021-9258(19)52451-6',\n",
       " 'title': 'PROTEIN MEASUREMENT WITH THE FOLIN PHENOL REAGENT',\n",
       " 'display_name': 'PROTEIN MEASUREMENT WITH THE FOLIN PHENOL REAGENT',\n",
       " 'publication_year': 1951,\n",
       " 'publication_date': '1951-11-01',\n",
       " 'ids': {'openalex': 'https://openalex.org/W1775749144',\n",
       "  'doi': 'https://doi.org/10.1016/s0021-9258(19)52451-6',\n",
       "  'mag': '1775749144',\n",
       "  'pmid': 'https://pubmed.ncbi.nlm.nih.gov/14907713'},\n",
       " 'language': 'en',\n",
       " 'primary_location': {'is_oa': True,\n",
       "  'landing_page_url': 'https://doi.org/10.1016/s0021-9258(19)52451-6',\n",
       "  'pdf_url': None,\n",
       "  'source': {'id': 'https://openalex.org/S140251998',\n",
       "   'display_name': 'Journal of Biological Chemistry',\n",
       "   'issn_l': '0021-9258',\n",
       "   'issn': ['1083-351X', '0021-9258', '1067-8816'],\n",
       "   'is_oa': True,\n",
       "   'is_in_doaj': True,\n",
       "   'host_organization': 'https://openalex.org/P4310320278',\n",
       "   'host_organization_name': 'American Society for Biochemistry and Molecular Biology',\n",
       "   'host_organization_lineage': ['https://openalex.org/P4310320278'],\n",
       "   'host_organization_lineage_names': ['American Society for Biochemistry and Molecular Biology'],\n",
       "   'type': 'journal'},\n",
       "  'license': 'cc-by',\n",
       "  'version': 'publishedVersion'},\n",
       " 'type': 'article',\n",
       " 'type_crossref': 'journal-article',\n",
       " 'open_access': {'is_oa': True,\n",
       "  'oa_status': 'hybrid',\n",
       "  'oa_url': 'https://doi.org/10.1016/s0021-9258(19)52451-6',\n",
       "  'any_repository_has_fulltext': False},\n",
       " 'authorships': [{'author_position': 'first',\n",
       "   'author': {'id': 'https://openalex.org/A5067833651',\n",
       "    'display_name': 'Oliver H. Lowry',\n",
       "    'orcid': None},\n",
       "   'institutions': [],\n",
       "   'is_corresponding': False,\n",
       "   'raw_affiliation_string': '',\n",
       "   'raw_affiliation_strings': []},\n",
       "  {'author_position': 'middle',\n",
       "   'author': {'id': 'https://openalex.org/A5032482932',\n",
       "    'display_name': 'N. J. Rosebrough',\n",
       "    'orcid': None},\n",
       "   'institutions': [],\n",
       "   'is_corresponding': False,\n",
       "   'raw_affiliation_string': '',\n",
       "   'raw_affiliation_strings': []},\n",
       "  {'author_position': 'middle',\n",
       "   'author': {'id': 'https://openalex.org/A5004071084',\n",
       "    'display_name': 'A. Farr',\n",
       "    'orcid': None},\n",
       "   'institutions': [],\n",
       "   'is_corresponding': False,\n",
       "   'raw_affiliation_string': '',\n",
       "   'raw_affiliation_strings': []},\n",
       "  {'author_position': 'last',\n",
       "   'author': {'id': 'https://openalex.org/A5074535928',\n",
       "    'display_name': 'Rose J. Randall',\n",
       "    'orcid': None},\n",
       "   'institutions': [],\n",
       "   'is_corresponding': False,\n",
       "   'raw_affiliation_string': '',\n",
       "   'raw_affiliation_strings': []}],\n",
       " 'corresponding_author_ids': [],\n",
       " 'corresponding_institution_ids': [],\n",
       " 'apc_list': {'value': 2500,\n",
       "  'currency': 'USD',\n",
       "  'value_usd': 2500,\n",
       "  'provenance': 'doaj'},\n",
       " 'apc_paid': {'value': 2500,\n",
       "  'currency': 'USD',\n",
       "  'value_usd': 2500,\n",
       "  'provenance': 'doaj'},\n",
       " 'cited_by_count': 290922,\n",
       " 'biblio': {'volume': '193',\n",
       "  'issue': '1',\n",
       "  'first_page': '265',\n",
       "  'last_page': '275'},\n",
       " 'is_retracted': False,\n",
       " 'is_paratext': False,\n",
       " 'concepts': [{'id': 'https://openalex.org/C40875361',\n",
       "   'wikidata': 'https://www.wikidata.org/wiki/Q2356542',\n",
       "   'display_name': 'Reagent',\n",
       "   'level': 2,\n",
       "   'score': 0.727867},\n",
       "  {'id': 'https://openalex.org/C2777702071',\n",
       "   'wikidata': 'https://www.wikidata.org/wiki/Q130336',\n",
       "   'display_name': 'Phenol',\n",
       "   'level': 2,\n",
       "   'score': 0.66434634},\n",
       "  {'id': 'https://openalex.org/C185592680',\n",
       "   'wikidata': 'https://www.wikidata.org/wiki/Q2329',\n",
       "   'display_name': 'Chemistry',\n",
       "   'level': 0,\n",
       "   'score': 0.61892194},\n",
       "  {'id': 'https://openalex.org/C43617362',\n",
       "   'wikidata': 'https://www.wikidata.org/wiki/Q170050',\n",
       "   'display_name': 'Chromatography',\n",
       "   'level': 1,\n",
       "   'score': 0.5097591},\n",
       "  {'id': 'https://openalex.org/C55493867',\n",
       "   'wikidata': 'https://www.wikidata.org/wiki/Q7094',\n",
       "   'display_name': 'Biochemistry',\n",
       "   'level': 1,\n",
       "   'score': 0.4380829},\n",
       "  {'id': 'https://openalex.org/C178790620',\n",
       "   'wikidata': 'https://www.wikidata.org/wiki/Q11351',\n",
       "   'display_name': 'Organic chemistry',\n",
       "   'level': 1,\n",
       "   'score': 0.23303854}],\n",
       " 'mesh': [],\n",
       " 'locations_count': 1,\n",
       " 'locations': [{'is_oa': True,\n",
       "   'landing_page_url': 'https://doi.org/10.1016/s0021-9258(19)52451-6',\n",
       "   'pdf_url': None,\n",
       "   'source': {'id': 'https://openalex.org/S140251998',\n",
       "    'display_name': 'Journal of Biological Chemistry',\n",
       "    'issn_l': '0021-9258',\n",
       "    'issn': ['1083-351X', '0021-9258', '1067-8816'],\n",
       "    'is_oa': True,\n",
       "    'is_in_doaj': True,\n",
       "    'host_organization': 'https://openalex.org/P4310320278',\n",
       "    'host_organization_name': 'American Society for Biochemistry and Molecular Biology',\n",
       "    'host_organization_lineage': ['https://openalex.org/P4310320278'],\n",
       "    'host_organization_lineage_names': ['American Society for Biochemistry and Molecular Biology'],\n",
       "    'type': 'journal'},\n",
       "   'license': 'cc-by',\n",
       "   'version': 'publishedVersion'}],\n",
       " 'best_oa_location': {'is_oa': True,\n",
       "  'landing_page_url': 'https://doi.org/10.1016/s0021-9258(19)52451-6',\n",
       "  'pdf_url': None,\n",
       "  'source': {'id': 'https://openalex.org/S140251998',\n",
       "   'display_name': 'Journal of Biological Chemistry',\n",
       "   'issn_l': '0021-9258',\n",
       "   'issn': ['1083-351X', '0021-9258', '1067-8816'],\n",
       "   'is_oa': True,\n",
       "   'is_in_doaj': True,\n",
       "   'host_organization': 'https://openalex.org/P4310320278',\n",
       "   'host_organization_name': 'American Society for Biochemistry and Molecular Biology',\n",
       "   'host_organization_lineage': ['https://openalex.org/P4310320278'],\n",
       "   'host_organization_lineage_names': ['American Society for Biochemistry and Molecular Biology'],\n",
       "   'type': 'journal'},\n",
       "  'license': 'cc-by',\n",
       "  'version': 'publishedVersion'},\n",
       " 'sustainable_development_goals': [],\n",
       " 'grants': [],\n",
       " 'referenced_works_count': 18,\n",
       " 'referenced_works': ['https://openalex.org/W8863503',\n",
       "  'https://openalex.org/W59369663',\n",
       "  'https://openalex.org/W89669270',\n",
       "  'https://openalex.org/W97662572',\n",
       "  'https://openalex.org/W195762992',\n",
       "  'https://openalex.org/W951165088',\n",
       "  'https://openalex.org/W1507976594',\n",
       "  'https://openalex.org/W1515052776',\n",
       "  'https://openalex.org/W1535643256',\n",
       "  'https://openalex.org/W1540384225',\n",
       "  'https://openalex.org/W1557790601',\n",
       "  'https://openalex.org/W1573055659',\n",
       "  'https://openalex.org/W1576013682',\n",
       "  'https://openalex.org/W1979011732',\n",
       "  'https://openalex.org/W1979607356',\n",
       "  'https://openalex.org/W2051330591',\n",
       "  'https://openalex.org/W2149417143',\n",
       "  'https://openalex.org/W2415297835'],\n",
       " 'related_works': ['https://openalex.org/W1970587968',\n",
       "  'https://openalex.org/W2145535646',\n",
       "  'https://openalex.org/W2342185764',\n",
       "  'https://openalex.org/W2949460484',\n",
       "  'https://openalex.org/W2950613640',\n",
       "  'https://openalex.org/W2950674519',\n",
       "  'https://openalex.org/W2951174005',\n",
       "  'https://openalex.org/W2952256733',\n",
       "  'https://openalex.org/W2952573305',\n",
       "  'https://openalex.org/W2953256271'],\n",
       " 'ngrams_url': 'https://api.openalex.org/works/W1775749144/ngrams',\n",
       " 'abstract_inverted_index': {'Since': [0],\n",
       "  '1922': [1],\n",
       "  'when': [2],\n",
       "  'Wu': [3],\n",
       "  'proposed': [4],\n",
       "  'the': [5, 8, 13, 30, 43, 55, 74, 149],\n",
       "  'use': [6],\n",
       "  'of': [7, 15, 19, 32, 57, 108, 113, 117, 121, 151, 157],\n",
       "  'Folin': [9],\n",
       "  'phenol': [10],\n",
       "  'reagent': [11, 25, 44],\n",
       "  'for': [12, 29, 69, 83, 96, 134, 148],\n",
       "  'measurement': [14],\n",
       "  'proteins,': [16, 127],\n",
       "  'a': [17],\n",
       "  'number': [18],\n",
       "  'modified': [20],\n",
       "  'analytical': [21],\n",
       "  'procedures': [22],\n",
       "  'utilizing': [23],\n",
       "  'this': [24, 77],\n",
       "  'have': [26],\n",
       "  'been': [27, 102],\n",
       "  'reported': [28],\n",
       "  'determination': [31, 150],\n",
       "  'proteins': [33],\n",
       "  'in': [34, 36, 40, 110, 125, 137],\n",
       "  'serum,': [35],\n",
       "  'antigen-antibody': [37],\n",
       "  'precipitates,': [38],\n",
       "  'and': [39, 54, 90, 115, 128, 147],\n",
       "  'insulin.': [41],\n",
       "  'Although': [42],\n",
       "  'would': [45],\n",
       "  'seem': [46],\n",
       "  'to': [47, 93, 106],\n",
       "  'be': [48, 94],\n",
       "  'recommended': [49],\n",
       "  'by': [50],\n",
       "  'its': [51, 61, 88, 97],\n",
       "  'great': [52, 67],\n",
       "  'sensitivity': [53],\n",
       "  'simplicity': [56],\n",
       "  'procedure': [58],\n",
       "  'possible': [59],\n",
       "  'with': [60, 104, 142],\n",
       "  'use,': [62],\n",
       "  'it': [63, 100],\n",
       "  'has': [64, 80, 101],\n",
       "  'not': [65],\n",
       "  'found': [66],\n",
       "  'favor': [68],\n",
       "  'general': [70],\n",
       "  'biochemical': [71],\n",
       "  'purposes.': [72],\n",
       "  'In': [73],\n",
       "  'belief': [75],\n",
       "  'that': [76, 87],\n",
       "  'reagent,': [78],\n",
       "  'nevertheless,': [79],\n",
       "  'considerable': [81],\n",
       "  'merit': [82],\n",
       "  'certain': [84],\n",
       "  'application,': [85],\n",
       "  'but': [86],\n",
       "  'peculiarities': [89],\n",
       "  'limitations': [91],\n",
       "  'need': [92],\n",
       "  'understood': [95],\n",
       "  'fullest': [98],\n",
       "  'exploitation,': [99],\n",
       "  'studied': [103],\n",
       "  'regard': [105],\n",
       "  'effects': [107],\n",
       "  'variations': [109],\n",
       "  'pH,': [111],\n",
       "  'time': [112],\n",
       "  'reaction,': [114],\n",
       "  'concentration': [116],\n",
       "  'reactants,': [118],\n",
       "  'permissible': [119],\n",
       "  'levels': [120],\n",
       "  'reagents': [122],\n",
       "  'commonly': [123],\n",
       "  'used': [124],\n",
       "  'handling': [126],\n",
       "  'interfering': [129],\n",
       "  'substances.': [130],\n",
       "  'Procedures': [131],\n",
       "  'are': [132],\n",
       "  'described': [133],\n",
       "  'measuring': [135],\n",
       "  'protein': [136],\n",
       "  'solution': [138],\n",
       "  'or': [139, 144],\n",
       "  'after': [140],\n",
       "  'precipitation': [141],\n",
       "  'acids': [143],\n",
       "  'other': [145],\n",
       "  'agents,': [146],\n",
       "  'as': [152, 154],\n",
       "  'little': [153],\n",
       "  '0.2': [155],\n",
       "  'gamma': [156],\n",
       "  'protein.': [158]},\n",
       " 'cited_by_api_url': 'https://api.openalex.org/works?filter=cites:W1775749144',\n",
       " 'counts_by_year': [{'year': 2023, 'cited_by_count': 1421},\n",
       "  {'year': 2022, 'cited_by_count': 2917},\n",
       "  {'year': 2021, 'cited_by_count': 3079},\n",
       "  {'year': 2020, 'cited_by_count': 3190},\n",
       "  {'year': 2019, 'cited_by_count': 2938},\n",
       "  {'year': 2018, 'cited_by_count': 3040},\n",
       "  {'year': 2017, 'cited_by_count': 3022},\n",
       "  {'year': 2016, 'cited_by_count': 3380},\n",
       "  {'year': 2015, 'cited_by_count': 4013},\n",
       "  {'year': 2014, 'cited_by_count': 4397},\n",
       "  {'year': 2013, 'cited_by_count': 4388},\n",
       "  {'year': 2012, 'cited_by_count': 4348}],\n",
       " 'updated_date': '2023-07-26T07:56:15.095863',\n",
       " 'created_date': '2016-06-24'}"
      ]
     },
     "execution_count": 6,
     "metadata": {},
     "output_type": "execute_result"
    }
   ],
   "source": [
    "data = get_data(endpoint, limit=limit)\n",
    "print(\"Results fetched:\", len(data))\n",
    "print(\"Example:\")\n",
    "data[0]"
   ]
  },
  {
   "cell_type": "markdown",
   "id": "30513af7-3035-4ef6-80f3-7b8dad7ea90f",
   "metadata": {
    "papermill": {},
    "tags": []
   },
   "source": [
    " "
   ]
  }
 ],
 "metadata": {
  "kernelspec": {
   "display_name": "Python 3",
   "language": "python",
   "name": "python3"
  },
  "language_info": {
   "codemirror_mode": {
    "name": "ipython",
    "version": 3
   },
   "file_extension": ".py",
   "mimetype": "text/x-python",
   "name": "python",
   "nbconvert_exporter": "python",
   "pygments_lexer": "ipython3",
   "version": "3.9.6"
  },
  "widgets": {
   "application/vnd.jupyter.widget-state+json": {
    "state": {},
    "version_major": 2,
    "version_minor": 0
   }
  }
 },
 "nbformat": 4,
 "nbformat_minor": 5
}
