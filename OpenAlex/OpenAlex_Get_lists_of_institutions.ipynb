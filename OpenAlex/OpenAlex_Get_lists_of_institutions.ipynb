{
 "cells": [
  {
   "cell_type": "markdown",
   "id": "877e13c1-a142-4f99-a50c-0c88fbb4543a",
   "metadata": {
    "papermill": {},
    "tags": []
   },
   "source": [
    "<img width=\"10%\" alt=\"Naas\" src=\"https://landen.imgix.net/jtci2pxwjczr/assets/5ice39g4.png?w=160\"/>"
   ]
  },
  {
   "cell_type": "markdown",
   "id": "7327e523-f637-408b-b242-a9b8c52af5a7",
   "metadata": {
    "papermill": {},
    "tags": []
   },
   "source": [
    "# OpenAlex - Get lists of institutions"
   ]
  },
  {
   "cell_type": "markdown",
   "id": "e850b621-5551-4583-b331-cbdfcfb4622d",
   "metadata": {
    "papermill": {},
    "tags": []
   },
   "source": [
    "**Tags:** #openalex #api #entities #institutions #get #lists"
   ]
  },
  {
   "cell_type": "markdown",
   "id": "c177b9e6-a470-4328-9109-9a769ad9bea4",
   "metadata": {
    "papermill": {},
    "tags": []
   },
   "source": [
    "**Author:** [Florent Ravenel](https://www.linkedin.com/in/florent-ravenel)"
   ]
  },
  {
   "cell_type": "markdown",
   "id": "08d71754-6f04-4d8f-ad2e-2fdaa1d965ca",
   "metadata": {
    "papermill": {},
    "tags": []
   },
   "source": [
    "**Last update:** 2023-07-27 (Created: 2023-07-27)"
   ]
  },
  {
   "cell_type": "markdown",
   "id": "001d94d6-3449-4a4e-98e5-dc70fcd5d691",
   "metadata": {
    "papermill": {},
    "tags": []
   },
   "source": [
    "**Description:** This notebook will show how to get lists of institutions from OpenAlex API."
   ]
  },
  {
   "cell_type": "markdown",
   "id": "29455cfb-5b0f-4699-8099-3e5b9b4f1dab",
   "metadata": {
    "papermill": {},
    "tags": []
   },
   "source": [
    "**References:**\n",
    "- [OpenAlex API - Get lists of institutions](https://docs.openalex.org/api-entities/institutions/get-lists-of-institutions)\n",
    "- [OpenAlex API - Institution object](https://docs.openalex.org/api-entities/institutions/institution-object)"
   ]
  },
  {
   "cell_type": "markdown",
   "id": "a23762c8-543a-41b6-bcb2-ce04ac86ab63",
   "metadata": {
    "papermill": {},
    "tags": []
   },
   "source": [
    "## Input"
   ]
  },
  {
   "cell_type": "markdown",
   "id": "0932fada-2003-4e7d-90e6-1bd17b6ffefe",
   "metadata": {
    "papermill": {},
    "tags": []
   },
   "source": [
    "### Import libraries"
   ]
  },
  {
   "cell_type": "code",
   "execution_count": 1,
   "id": "0cf2eeef-3db6-4d62-ad15-52623d3da5d0",
   "metadata": {
    "execution": {
     "iopub.execute_input": "2023-07-27T14:24:55.679990Z",
     "iopub.status.busy": "2023-07-27T14:24:55.679442Z",
     "iopub.status.idle": "2023-07-27T14:24:56.972739Z",
     "shell.execute_reply": "2023-07-27T14:24:56.972011Z",
     "shell.execute_reply.started": "2023-07-27T14:24:55.679893Z"
    },
    "papermill": {},
    "tags": []
   },
   "outputs": [],
   "source": [
    "import requests\n",
    "import pandas as pd"
   ]
  },
  {
   "cell_type": "markdown",
   "id": "7df898f8-b328-43a6-a435-da9e75eb01c6",
   "metadata": {},
   "source": [
    "### Setup variables\n",
    "- `endpoint`: API endpoint\n",
    "- `limit`: number of data to be returned. The daily limit for API calls is 100,000 requests per user per day"
   ]
  },
  {
   "cell_type": "code",
   "execution_count": 2,
   "id": "1ae6d1b9-70a7-4f99-bec7-b0b2bca71657",
   "metadata": {
    "execution": {
     "iopub.execute_input": "2023-07-27T14:24:56.973952Z",
     "iopub.status.busy": "2023-07-27T14:24:56.973733Z",
     "iopub.status.idle": "2023-07-27T14:24:56.977026Z",
     "shell.execute_reply": "2023-07-27T14:24:56.976452Z",
     "shell.execute_reply.started": "2023-07-27T14:24:56.973924Z"
    },
    "tags": []
   },
   "outputs": [],
   "source": [
    "endpoint = \"institutions\"\n",
    "limit = 100"
   ]
  },
  {
   "cell_type": "markdown",
   "id": "681e9f98-ec06-4553-aeb8-8fb9b28fcd4e",
   "metadata": {
    "papermill": {},
    "tags": []
   },
   "source": [
    "## Model"
   ]
  },
  {
   "cell_type": "markdown",
   "id": "56584d7c-87fe-43df-9ef2-72762f8bc103",
   "metadata": {
    "papermill": {},
    "tags": []
   },
   "source": [
    "### Get lists of institutions\n",
    "This function will get lists of institutions from OpenAlex API."
   ]
  },
  {
   "cell_type": "code",
   "execution_count": 3,
   "id": "ed739ba4-9a5a-4300-a7d7-55452a1f8516",
   "metadata": {
    "execution": {
     "iopub.execute_input": "2023-07-27T14:24:56.978531Z",
     "iopub.status.busy": "2023-07-27T14:24:56.978017Z",
     "iopub.status.idle": "2023-07-27T14:24:57.082314Z",
     "shell.execute_reply": "2023-07-27T14:24:57.081705Z",
     "shell.execute_reply.started": "2023-07-27T14:24:56.978501Z"
    },
    "papermill": {},
    "tags": []
   },
   "outputs": [],
   "source": [
    "def get_data(endpoint, limit=-1):\n",
    "    # Init\n",
    "    page = 1\n",
    "    per_page = 100\n",
    "    data = []\n",
    "    \n",
    "    # Loop on page\n",
    "    while True:\n",
    "        if limit != -1:\n",
    "            y = limit - len(data)\n",
    "            if y < per_page:\n",
    "                per_page = y\n",
    "            if len(data) > limit:\n",
    "                break\n",
    "                \n",
    "        # Params\n",
    "        params = {\n",
    "            \"page\": page,\n",
    "            \"per_page\": per_page,\n",
    "        }\n",
    "        url = f\"https://api.openalex.org/{endpoint}\"\n",
    "        \n",
    "        # Requests\n",
    "        res = requests.get(url, params=params)\n",
    "        \n",
    "        # Results\n",
    "        if res.status_code == 200:\n",
    "            results = res.json().get(\"results\")\n",
    "            if len(results) > 0:\n",
    "                data.extend(results)\n",
    "            else:\n",
    "                break\n",
    "        else:\n",
    "            break\n",
    "        page += 1\n",
    "    return data"
   ]
  },
  {
   "cell_type": "markdown",
   "id": "7f724283-750c-4e41-9e74-e7d9adb50dce",
   "metadata": {
    "papermill": {},
    "tags": []
   },
   "source": [
    "## Output"
   ]
  },
  {
   "cell_type": "markdown",
   "id": "660450c1-3e4e-4814-9fac-20daed5b413c",
   "metadata": {
    "papermill": {},
    "tags": []
   },
   "source": [
    "### Display result"
   ]
  },
  {
   "cell_type": "code",
   "execution_count": 4,
   "id": "62bc33d0-f1cb-45da-b4cc-083a575b7889",
   "metadata": {
    "execution": {
     "iopub.execute_input": "2023-07-27T14:24:57.083545Z",
     "iopub.status.busy": "2023-07-27T14:24:57.083306Z",
     "iopub.status.idle": "2023-07-27T14:24:58.564179Z",
     "shell.execute_reply": "2023-07-27T14:24:58.563443Z",
     "shell.execute_reply.started": "2023-07-27T14:24:57.083514Z"
    },
    "papermill": {},
    "tags": []
   },
   "outputs": [
    {
     "name": "stdout",
     "output_type": "stream",
     "text": [
      "Results fetched: 100\n",
      "Example:\n"
     ]
    },
    {
     "data": {
      "text/plain": [
       "{'id': 'https://openalex.org/I27837315',\n",
       " 'ror': 'https://ror.org/00jmfr291',\n",
       " 'display_name': 'University of Michigan–Ann Arbor',\n",
       " 'country_code': 'US',\n",
       " 'type': 'education',\n",
       " 'homepage_url': 'https://www.umich.edu/',\n",
       " 'image_url': 'https://commons.wikimedia.org/w/index.php?title=Special:Redirect/file/University%20of%20Michigan%20logo.svg',\n",
       " 'image_thumbnail_url': 'https://commons.wikimedia.org/w/index.php?title=Special:Redirect/file/University%20of%20Michigan%20logo.svg&width=300',\n",
       " 'display_name_acronyms': ['UM'],\n",
       " 'display_name_alternatives': ['UMich'],\n",
       " 'repositories': [{'id': 'https://openalex.org/S4306400708',\n",
       "   'display_name': 'CINECA IRIS Institutional Research Information System (IRIS Istituto Nazionale di Ricerca Metrologica)',\n",
       "   'host_organization': 'https://openalex.org/I27837315',\n",
       "   'host_organization_name': 'University of Michigan–Ann Arbor',\n",
       "   'host_organization_lineage': ['https://openalex.org/I27837315']},\n",
       "  {'id': 'https://openalex.org/S4306400393',\n",
       "   'display_name': 'Deep Blue (University of Michigan)',\n",
       "   'host_organization': 'https://openalex.org/I27837315',\n",
       "   'host_organization_name': 'University of Michigan–Ann Arbor',\n",
       "   'host_organization_lineage': ['https://openalex.org/I27837315']}],\n",
       " 'works_count': 762501,\n",
       " 'cited_by_count': 14800322,\n",
       " 'summary_stats': {'2yr_mean_citedness': 4.646875402654297,\n",
       "  'h_index': 996,\n",
       "  'i10_index': 181965},\n",
       " 'ids': {'openalex': 'https://openalex.org/I27837315',\n",
       "  'ror': 'https://ror.org/00jmfr291',\n",
       "  'mag': '27837315',\n",
       "  'grid': 'grid.214458.e',\n",
       "  'wikipedia': 'https://en.wikipedia.org/wiki/University%20of%20Michigan',\n",
       "  'wikidata': 'https://www.wikidata.org/wiki/Q230492'},\n",
       " 'geo': {'city': 'Ann Arbor',\n",
       "  'geonames_city_id': '4984247',\n",
       "  'region': 'Michigan',\n",
       "  'country_code': 'US',\n",
       "  'country': 'United States',\n",
       "  'latitude': 42.278305,\n",
       "  'longitude': -83.73822},\n",
       " 'international': {'display_name': {'ar': 'جامعة ميشيغان',\n",
       "   'arz': 'جامعة ميشيجان',\n",
       "   'ast': 'Universidá de Michigan',\n",
       "   'az': 'Miçiqan Universiteti',\n",
       "   'azb': 'میشیقان بیلیم\\u200cیوردو',\n",
       "   'ba': 'Мичиган университеты',\n",
       "   'be': 'Мічыганскі ўніверсітэт',\n",
       "   'be-tarask': 'Мічыганскі ўнівэрсытэт',\n",
       "   'bg': 'Мичигански университет',\n",
       "   'bn': 'মিশিগান বিশ্ববিদ্যালয়',\n",
       "   'br': 'Skol-veur Michigan',\n",
       "   'ca': 'Universitat de Michigan',\n",
       "   'ckb': 'زانکۆی میشیگەن',\n",
       "   'crh': 'Miçigan universiteti',\n",
       "   'crh-latn': 'Miçigan universiteti',\n",
       "   'cs': 'Michiganská univerzita',\n",
       "   'cy': 'Prifysgol Michigan',\n",
       "   'da': 'University of Michigan',\n",
       "   'de': 'University of Michigan',\n",
       "   'el': 'Πανεπιστήμιο του Μίσιγκαν',\n",
       "   'en': 'University of Michigan',\n",
       "   'en-gb': 'University of Michigan',\n",
       "   'eo': 'Universitato de Miĉigano',\n",
       "   'es': 'Universidad de Míchigan',\n",
       "   'et': 'Michigani Ülikool',\n",
       "   'eu': 'Michigango Unibertsitatea',\n",
       "   'fa': 'دانشگاه میشیگان',\n",
       "   'fi': 'Michiganin yliopisto',\n",
       "   'fr': 'université du Michigan',\n",
       "   'ga': 'Ollscoil Michigan',\n",
       "   'gd': 'Oilthigh Mhichigan',\n",
       "   'gl': 'Universidade de Míchigan',\n",
       "   'gv': 'Ollooscoill Michigan',\n",
       "   'he': 'אוניברסיטת מישיגן',\n",
       "   'hu': 'Michigani Egyetem',\n",
       "   'hy': 'Միչիգանի համալսարան',\n",
       "   'hyw': 'Միշիկընի Համալսարան,',\n",
       "   'id': 'Universitas Michigan',\n",
       "   'io': 'Universitato di Michigan',\n",
       "   'is': 'Michigan-háskóli',\n",
       "   'it': 'Università del Michigan',\n",
       "   'ja': 'ミシガン大学',\n",
       "   'jv': 'Universitas Michigan',\n",
       "   'ka': 'მიჩიგანის უნივერსიტეტი',\n",
       "   'ko': '미시간 대학교',\n",
       "   'kw': 'Pennskol Michigan',\n",
       "   'ky': 'Мичиган Университети',\n",
       "   'la': 'Universitas Michiganensis',\n",
       "   'lb': 'Universitéit vu Michigan',\n",
       "   'lt': 'Mičigano universitetas',\n",
       "   'lv': 'Mičiganas universitāte',\n",
       "   'mk': 'Мичигенски универзитет',\n",
       "   'ml': 'യൂണിവേഴ്സിറ്റി ഓഫ് മിഷിഗൺ',\n",
       "   'mr': 'मिशिगन विद्यापीठ',\n",
       "   'ms': 'Universiti Michigan',\n",
       "   'mt': 'Università ta’ Michigan',\n",
       "   'nb': 'University of Michigan',\n",
       "   'nl': 'Universiteit van Michigan',\n",
       "   'nn': 'University of Michigan',\n",
       "   'pa': 'ਮਿਸ਼ੀਗਨ ਯੂਨੀਵਰਸਿਟੀ',\n",
       "   'pap': 'Universidat di Michigan',\n",
       "   'pl': 'Uniwersytet Michigan',\n",
       "   'pms': 'Università dël Michigan',\n",
       "   'pnb': 'یونیورسٹی آف مشیگن',\n",
       "   'pt': 'Universidade de Michigan',\n",
       "   'ro': 'Universitatea din Michigan',\n",
       "   'ru': 'Мичиганский университет',\n",
       "   'rw': 'Kaminuza ya Michigan',\n",
       "   'sh': 'Univerzitet u Michiganu',\n",
       "   'sl': 'Univerza Michigana',\n",
       "   'sr': 'Универзитет Мичигена',\n",
       "   'sv': 'University of Michigan',\n",
       "   'ta': 'மிச்சிகன் பல்கலைக்கழகம்',\n",
       "   'tg': 'Донишгоҳи Мичиган',\n",
       "   'th': 'มหาวิทยาลัยมิชิแกน',\n",
       "   'tl': 'Unibersidad ng Michigan',\n",
       "   'tr': 'Michigan Üniversitesi',\n",
       "   'tt': 'Мичиган үнивирситите',\n",
       "   'ug': 'مىچىگان ئۇنىۋېرستېتى',\n",
       "   'uk': 'Університет Мічигану',\n",
       "   'ur': 'مشی گن یونیورسٹی',\n",
       "   'vi': 'Đại học Michigan',\n",
       "   'war': 'Unibersidad han Michigan',\n",
       "   'wuu': '密歇根大学',\n",
       "   'xmf': 'მიჩიგანიშ უნივერსიტეტი',\n",
       "   'yue': '密芝根大學',\n",
       "   'zh': '密歇根大学',\n",
       "   'zh-cn': '密歇根大学',\n",
       "   'zh-hans': '密歇根大学',\n",
       "   'zh-hant': '密西根大學',\n",
       "   'zh-hk': '密芝根大學',\n",
       "   'zh-sg': '密歇根大学',\n",
       "   'zh-tw': '密西根大學'}},\n",
       " 'associated_institutions': [{'id': 'https://openalex.org/I4210104572',\n",
       "   'ror': 'https://ror.org/015tnsz82',\n",
       "   'display_name': 'Michigan Sea Grant',\n",
       "   'country_code': 'US',\n",
       "   'type': 'other',\n",
       "   'relationship': 'child'},\n",
       "  {'id': 'https://openalex.org/I4210163254',\n",
       "   'ror': 'https://ror.org/057mgcy61',\n",
       "   'display_name': 'Michigan Space Grant Consortium',\n",
       "   'country_code': 'US',\n",
       "   'type': 'other',\n",
       "   'relationship': 'child'},\n",
       "  {'id': 'https://openalex.org/I4210130704',\n",
       "   'ror': 'https://ror.org/035wtm547',\n",
       "   'display_name': 'University of Michigan–Dearborn',\n",
       "   'country_code': 'US',\n",
       "   'type': 'education',\n",
       "   'relationship': 'child'},\n",
       "  {'id': 'https://openalex.org/I4210092198',\n",
       "   'ror': 'https://ror.org/01c3xc117',\n",
       "   'display_name': 'University of Michigan–Flint',\n",
       "   'country_code': 'US',\n",
       "   'type': 'education',\n",
       "   'relationship': 'child'},\n",
       "  {'id': 'https://openalex.org/I2799370151',\n",
       "   'ror': 'https://ror.org/05g2hd893',\n",
       "   'display_name': 'Beaumont Health',\n",
       "   'country_code': 'US',\n",
       "   'type': 'nonprofit',\n",
       "   'relationship': 'related'},\n",
       "  {'id': 'https://openalex.org/I2801799315',\n",
       "   'ror': 'https://ror.org/034npj057',\n",
       "   'display_name': 'Hurley Medical Center',\n",
       "   'country_code': 'US',\n",
       "   'type': 'healthcare',\n",
       "   'relationship': 'related'},\n",
       "  {'id': 'https://openalex.org/I4210114445',\n",
       "   'ror': 'https://ror.org/01zcpa714',\n",
       "   'display_name': 'Michigan Medicine',\n",
       "   'country_code': 'US',\n",
       "   'type': 'healthcare',\n",
       "   'relationship': 'related'}],\n",
       " 'counts_by_year': [{'year': 2023,\n",
       "   'works_count': 9586,\n",
       "   'cited_by_count': 663920},\n",
       "  {'year': 2022, 'works_count': 390402, 'cited_by_count': 1139684},\n",
       "  {'year': 2021, 'works_count': 19051, 'cited_by_count': 1168578},\n",
       "  {'year': 2020, 'works_count': 19819, 'cited_by_count': 1066329},\n",
       "  {'year': 2019, 'works_count': 17882, 'cited_by_count': 925990},\n",
       "  {'year': 2018, 'works_count': 16873, 'cited_by_count': 835248},\n",
       "  {'year': 2017, 'works_count': 16196, 'cited_by_count': 768263},\n",
       "  {'year': 2016, 'works_count': 15223, 'cited_by_count': 746908},\n",
       "  {'year': 2015, 'works_count': 14348, 'cited_by_count': 724646},\n",
       "  {'year': 2014, 'works_count': 13711, 'cited_by_count': 688120},\n",
       "  {'year': 2013, 'works_count': 13430, 'cited_by_count': 644498},\n",
       "  {'year': 2012, 'works_count': 12183, 'cited_by_count': 584964}],\n",
       " 'roles': [{'role': 'funder',\n",
       "   'id': 'https://openalex.org/F4320309652',\n",
       "   'works_count': 2939},\n",
       "  {'role': 'publisher',\n",
       "   'id': 'https://openalex.org/P4310316579',\n",
       "   'works_count': 21320},\n",
       "  {'role': 'institution',\n",
       "   'id': 'https://openalex.org/I27837315',\n",
       "   'works_count': 762501}],\n",
       " 'x_concepts': [{'id': 'https://openalex.org/C41008148',\n",
       "   'wikidata': 'https://www.wikidata.org/wiki/Q21198',\n",
       "   'display_name': 'Computer science',\n",
       "   'level': 0,\n",
       "   'score': 57.3},\n",
       "  {'id': 'https://openalex.org/C86803240',\n",
       "   'wikidata': 'https://www.wikidata.org/wiki/Q420',\n",
       "   'display_name': 'Biology',\n",
       "   'level': 0,\n",
       "   'score': 31.0},\n",
       "  {'id': 'https://openalex.org/C71924100',\n",
       "   'wikidata': 'https://www.wikidata.org/wiki/Q11190',\n",
       "   'display_name': 'Medicine',\n",
       "   'level': 0,\n",
       "   'score': 28.7},\n",
       "  {'id': 'https://openalex.org/C185592680',\n",
       "   'wikidata': 'https://www.wikidata.org/wiki/Q2329',\n",
       "   'display_name': 'Chemistry',\n",
       "   'level': 0,\n",
       "   'score': 24.1},\n",
       "  {'id': 'https://openalex.org/C121332964',\n",
       "   'wikidata': 'https://www.wikidata.org/wiki/Q413',\n",
       "   'display_name': 'Physics',\n",
       "   'level': 0,\n",
       "   'score': 21.3}],\n",
       " 'works_api_url': 'https://api.openalex.org/works?filter=institutions.id:I27837315',\n",
       " 'updated_date': '2023-07-27T13:13:48.818278',\n",
       " 'created_date': '2016-06-24'}"
      ]
     },
     "execution_count": 4,
     "metadata": {},
     "output_type": "execute_result"
    }
   ],
   "source": [
    "data = get_data(endpoint, limit=limit)\n",
    "print(\"Results fetched:\", len(data))\n",
    "print(\"Example:\")\n",
    "data[0]"
   ]
  },
  {
   "cell_type": "markdown",
   "id": "30513af7-3035-4ef6-80f3-7b8dad7ea90f",
   "metadata": {
    "papermill": {},
    "tags": []
   },
   "source": [
    " "
   ]
  }
 ],
 "metadata": {
  "kernelspec": {
   "display_name": "Python 3",
   "language": "python",
   "name": "python3"
  },
  "language_info": {
   "codemirror_mode": {
    "name": "ipython",
    "version": 3
   },
   "file_extension": ".py",
   "mimetype": "text/x-python",
   "name": "python",
   "nbconvert_exporter": "python",
   "pygments_lexer": "ipython3",
   "version": "3.9.6"
  },
  "widgets": {
   "application/vnd.jupyter.widget-state+json": {
    "state": {},
    "version_major": 2,
    "version_minor": 0
   }
  }
 },
 "nbformat": 4,
 "nbformat_minor": 5
}
