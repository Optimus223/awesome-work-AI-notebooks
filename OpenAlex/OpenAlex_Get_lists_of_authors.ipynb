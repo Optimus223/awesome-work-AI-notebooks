{
 "cells": [
  {
   "cell_type": "markdown",
   "id": "877e13c1-a142-4f99-a50c-0c88fbb4543a",
   "metadata": {
    "papermill": {},
    "tags": []
   },
   "source": [
    "<img width=\"10%\" alt=\"Naas\" src=\"https://landen.imgix.net/jtci2pxwjczr/assets/5ice39g4.png?w=160\"/>"
   ]
  },
  {
   "cell_type": "markdown",
   "id": "7327e523-f637-408b-b242-a9b8c52af5a7",
   "metadata": {
    "papermill": {},
    "tags": []
   },
   "source": [
    "# OpenAlex - Get lists of authors"
   ]
  },
  {
   "cell_type": "markdown",
   "id": "e850b621-5551-4583-b331-cbdfcfb4622d",
   "metadata": {
    "papermill": {},
    "tags": []
   },
   "source": [
    "**Tags:** #openalex #api #entities #authors #get #lists"
   ]
  },
  {
   "cell_type": "markdown",
   "id": "c177b9e6-a470-4328-9109-9a769ad9bea4",
   "metadata": {
    "papermill": {},
    "tags": []
   },
   "source": [
    "**Author:** [Florent Ravenel](https://www.linkedin.com/in/florent-ravenel)"
   ]
  },
  {
   "cell_type": "markdown",
   "id": "08d71754-6f04-4d8f-ad2e-2fdaa1d965ca",
   "metadata": {
    "papermill": {},
    "tags": []
   },
   "source": [
    "**Last update:** 2023-07-27 (Created: 2023-07-27)"
   ]
  },
  {
   "cell_type": "markdown",
   "id": "001d94d6-3449-4a4e-98e5-dc70fcd5d691",
   "metadata": {
    "papermill": {},
    "tags": []
   },
   "source": [
    "**Description:** This notebook will show how to get lists of authors from OpenAlex API and how it is useful for organizations."
   ]
  },
  {
   "cell_type": "markdown",
   "id": "29455cfb-5b0f-4699-8099-3e5b9b4f1dab",
   "metadata": {
    "papermill": {},
    "tags": []
   },
   "source": [
    "**References:**\n- [OpenAlex API - Entities - Authors - Get lists of authors](https://docs.openalex.org/api-entities/authors/get-lists-of-authors)\n- [OpenAlex API - Entities - Authors - Get authors](https://docs.openalex.org/api-entities/authors/get-authors)"
   ]
  },
  {
   "cell_type": "markdown",
   "id": "a23762c8-543a-41b6-bcb2-ce04ac86ab63",
   "metadata": {
    "papermill": {},
    "tags": []
   },
   "source": [
    "## Input"
   ]
  },
  {
   "cell_type": "markdown",
   "id": "0932fada-2003-4e7d-90e6-1bd17b6ffefe",
   "metadata": {
    "papermill": {},
    "tags": []
   },
   "source": [
    "### Import libraries"
   ]
  },
  {
   "cell_type": "code",
   "execution_count": null,
   "id": "0cf2eeef-3db6-4d62-ad15-52623d3da5d0",
   "metadata": {
    "papermill": {},
    "tags": []
   },
   "source": "import requests\nimport json",
   "outputs": []
  },
  {
   "cell_type": "markdown",
   "id": "68043a58-c067-4557-b15f-9476d59ff892",
   "metadata": {
    "papermill": {},
    "tags": []
   },
   "source": [
    "### Setup Variables\n- `base_url`: URL of the OpenAlex API\n- `token`: Token to access the OpenAlex API. [See how to get a token](https://docs.openalex.org/getting-started/authentication)"
   ]
  },
  {
   "cell_type": "code",
   "execution_count": null,
   "id": "0adcdb90-33eb-41aa-b070-f87d7edf0143",
   "metadata": {
    "papermill": {},
    "tags": []
   },
   "source": "base_url = \"https://api.openalex.org/v1/\"\ntoken = \"YOUR_TOKEN\"",
   "outputs": []
  },
  {
   "cell_type": "markdown",
   "id": "681e9f98-ec06-4553-aeb8-8fb9b28fcd4e",
   "metadata": {
    "papermill": {},
    "tags": []
   },
   "source": [
    "## Model"
   ]
  },
  {
   "cell_type": "markdown",
   "id": "56584d7c-87fe-43df-9ef2-72762f8bc103",
   "metadata": {
    "papermill": {},
    "tags": []
   },
   "source": [
    "### Get lists of authors"
   ]
  },
  {
   "cell_type": "markdown",
   "id": "a0fbc3dd-8b8b-4c42-9aa5-97d69a61dead",
   "metadata": {
    "papermill": {},
    "tags": []
   },
   "source": [
    "This function will get lists of authors from OpenAlex API."
   ]
  },
  {
   "cell_type": "code",
   "execution_count": null,
   "id": "ed739ba4-9a5a-4300-a7d7-55452a1f8516",
   "metadata": {
    "papermill": {},
    "tags": []
   },
   "source": "def get_lists_of_authors(base_url, token):\n    headers = {\"Authorization\": \"Bearer \" + token}\n    response = requests.get(base_url + \"authors\", headers=headers)\n    return response.json()",
   "outputs": []
  },
  {
   "cell_type": "markdown",
   "id": "7f724283-750c-4e41-9e74-e7d9adb50dce",
   "metadata": {
    "papermill": {},
    "tags": []
   },
   "source": [
    "## Output"
   ]
  },
  {
   "cell_type": "markdown",
   "id": "660450c1-3e4e-4814-9fac-20daed5b413c",
   "metadata": {
    "papermill": {},
    "tags": []
   },
   "source": [
    "### Display result"
   ]
  },
  {
   "cell_type": "code",
   "execution_count": null,
   "id": "62bc33d0-f1cb-45da-b4cc-083a575b7889",
   "metadata": {
    "papermill": {},
    "tags": []
   },
   "source": "lists_of_authors = get_lists_of_authors(base_url, token)\nprint(json.dumps(lists_of_authors, indent=4))",
   "outputs": []
  },
  {
   "cell_type": "markdown",
   "id": "30513af7-3035-4ef6-80f3-7b8dad7ea90f",
   "metadata": {
    "papermill": {},
    "tags": []
   },
   "source": [
    " "
   ]
  }
 ],
 "metadata": {
  "kernelspec": {
   "display_name": "Python 3",
   "language": "python",
   "name": "python3"
  },
  "language_info": {
   "codemirror_mode": {
    "name": "ipython",
    "version": 3
   },
   "file_extension": ".py",
   "mimetype": "text/x-python",
   "name": "python",
   "nbconvert_exporter": "python",
   "pygments_lexer": "ipython3",
   "version": "3.9.6"
  },
  "widgets": {
   "application/vnd.jupyter.widget-state+json": {
    "state": {},
    "version_major": 2,
    "version_minor": 0
   }
  }
 },
 "nbformat": 4,
 "nbformat_minor": 5
}