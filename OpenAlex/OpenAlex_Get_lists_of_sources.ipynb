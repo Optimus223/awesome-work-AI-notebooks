{
 "cells": [
  {
   "cell_type": "markdown",
   "id": "877e13c1-a142-4f99-a50c-0c88fbb4543a",
   "metadata": {
    "papermill": {},
    "tags": []
   },
   "source": [
    "<img width=\"10%\" alt=\"Naas\" src=\"https://landen.imgix.net/jtci2pxwjczr/assets/5ice39g4.png?w=160\"/>"
   ]
  },
  {
   "cell_type": "markdown",
   "id": "7327e523-f637-408b-b242-a9b8c52af5a7",
   "metadata": {
    "papermill": {},
    "tags": []
   },
   "source": [
    "# OpenAlex - Get lists of sources"
   ]
  },
  {
   "cell_type": "markdown",
   "id": "e850b621-5551-4583-b331-cbdfcfb4622d",
   "metadata": {
    "papermill": {},
    "tags": []
   },
   "source": [
    "**Tags:** #openalex #api #entities #sources #get #lists"
   ]
  },
  {
   "cell_type": "markdown",
   "id": "c177b9e6-a470-4328-9109-9a769ad9bea4",
   "metadata": {
    "papermill": {},
    "tags": []
   },
   "source": [
    "**Author:** [Florent Ravenel](https://www.linkedin.com/in/florent-ravenel)"
   ]
  },
  {
   "cell_type": "markdown",
   "id": "08d71754-6f04-4d8f-ad2e-2fdaa1d965ca",
   "metadata": {
    "papermill": {},
    "tags": []
   },
   "source": [
    "**Last update:** 2023-07-27 (Created: 2023-07-27)"
   ]
  },
  {
   "cell_type": "markdown",
   "id": "001d94d6-3449-4a4e-98e5-dc70fcd5d691",
   "metadata": {
    "papermill": {},
    "tags": []
   },
   "source": [
    "**Description:** This notebook will show how to get lists of sources from OpenAlex API."
   ]
  },
  {
   "cell_type": "markdown",
   "id": "29455cfb-5b0f-4699-8099-3e5b9b4f1dab",
   "metadata": {
    "papermill": {},
    "tags": []
   },
   "source": [
    "**References:**\n",
    "- [OpenAlex API - Get lists of sources](https://docs.openalex.org/api-entities/sources/get-lists-of-sources)\n",
    "- [OpenAlex API - Source object](https://docs.openalex.org/api-entities/sources/source-object)"
   ]
  },
  {
   "cell_type": "markdown",
   "id": "a23762c8-543a-41b6-bcb2-ce04ac86ab63",
   "metadata": {
    "papermill": {},
    "tags": []
   },
   "source": [
    "## Input"
   ]
  },
  {
   "cell_type": "markdown",
   "id": "0932fada-2003-4e7d-90e6-1bd17b6ffefe",
   "metadata": {
    "papermill": {},
    "tags": []
   },
   "source": [
    "### Import libraries"
   ]
  },
  {
   "cell_type": "code",
   "execution_count": 1,
   "id": "0cf2eeef-3db6-4d62-ad15-52623d3da5d0",
   "metadata": {
    "execution": {
     "iopub.execute_input": "2023-07-27T14:21:32.512743Z",
     "iopub.status.busy": "2023-07-27T14:21:32.511900Z",
     "iopub.status.idle": "2023-07-27T14:21:33.790505Z",
     "shell.execute_reply": "2023-07-27T14:21:33.789917Z",
     "shell.execute_reply.started": "2023-07-27T14:21:32.512670Z"
    },
    "papermill": {},
    "tags": []
   },
   "outputs": [],
   "source": [
    "import requests\n",
    "import pandas as pd"
   ]
  },
  {
   "cell_type": "markdown",
   "id": "7df898f8-b328-43a6-a435-da9e75eb01c6",
   "metadata": {},
   "source": [
    "### Setup variables\n",
    "- `endpoint`: API endpoint\n",
    "- `limit`: number of data to be returned. The daily limit for API calls is 100,000 requests per user per day"
   ]
  },
  {
   "cell_type": "code",
   "execution_count": 2,
   "id": "1ae6d1b9-70a7-4f99-bec7-b0b2bca71657",
   "metadata": {
    "execution": {
     "iopub.execute_input": "2023-07-27T14:21:33.792130Z",
     "iopub.status.busy": "2023-07-27T14:21:33.791900Z",
     "iopub.status.idle": "2023-07-27T14:21:33.796470Z",
     "shell.execute_reply": "2023-07-27T14:21:33.795943Z",
     "shell.execute_reply.started": "2023-07-27T14:21:33.792101Z"
    },
    "tags": []
   },
   "outputs": [],
   "source": [
    "endpoint = \"sources\"\n",
    "limit = 100"
   ]
  },
  {
   "cell_type": "markdown",
   "id": "681e9f98-ec06-4553-aeb8-8fb9b28fcd4e",
   "metadata": {
    "papermill": {},
    "tags": []
   },
   "source": [
    "## Model"
   ]
  },
  {
   "cell_type": "markdown",
   "id": "56584d7c-87fe-43df-9ef2-72762f8bc103",
   "metadata": {
    "papermill": {},
    "tags": []
   },
   "source": [
    "### Get lists of sources\n",
    "This function will get lists of sources from OpenAlex API."
   ]
  },
  {
   "cell_type": "code",
   "execution_count": 3,
   "id": "ed739ba4-9a5a-4300-a7d7-55452a1f8516",
   "metadata": {
    "execution": {
     "iopub.execute_input": "2023-07-27T14:21:33.798721Z",
     "iopub.status.busy": "2023-07-27T14:21:33.798557Z",
     "iopub.status.idle": "2023-07-27T14:21:33.895923Z",
     "shell.execute_reply": "2023-07-27T14:21:33.895349Z",
     "shell.execute_reply.started": "2023-07-27T14:21:33.798703Z"
    },
    "papermill": {},
    "tags": []
   },
   "outputs": [],
   "source": [
    "def get_data(endpoint, limit=-1):\n",
    "    # Init\n",
    "    page = 1\n",
    "    per_page = 100\n",
    "    data = []\n",
    "    \n",
    "    # Loop on page\n",
    "    while True:\n",
    "        if limit != -1:\n",
    "            y = limit - len(data)\n",
    "            if y < per_page:\n",
    "                per_page = y\n",
    "            if len(data) > limit:\n",
    "                break\n",
    "                \n",
    "        # Params\n",
    "        params = {\n",
    "            \"page\": page,\n",
    "            \"per_page\": per_page,\n",
    "        }\n",
    "        url = f\"https://api.openalex.org/{endpoint}\"\n",
    "        \n",
    "        # Requests\n",
    "        res = requests.get(url, params=params)\n",
    "        \n",
    "        # Results\n",
    "        if res.status_code == 200:\n",
    "            results = res.json().get(\"results\")\n",
    "            if len(results) > 0:\n",
    "                data.extend(results)\n",
    "            else:\n",
    "                break\n",
    "        else:\n",
    "            break\n",
    "        page += 1\n",
    "    return data"
   ]
  },
  {
   "cell_type": "markdown",
   "id": "7f724283-750c-4e41-9e74-e7d9adb50dce",
   "metadata": {
    "papermill": {},
    "tags": []
   },
   "source": [
    "## Output"
   ]
  },
  {
   "cell_type": "markdown",
   "id": "660450c1-3e4e-4814-9fac-20daed5b413c",
   "metadata": {
    "papermill": {},
    "tags": []
   },
   "source": [
    "### Display result"
   ]
  },
  {
   "cell_type": "code",
   "execution_count": 4,
   "id": "62bc33d0-f1cb-45da-b4cc-083a575b7889",
   "metadata": {
    "execution": {
     "iopub.execute_input": "2023-07-27T14:21:33.898513Z",
     "iopub.status.busy": "2023-07-27T14:21:33.898291Z",
     "iopub.status.idle": "2023-07-27T14:21:34.746816Z",
     "shell.execute_reply": "2023-07-27T14:21:34.746185Z",
     "shell.execute_reply.started": "2023-07-27T14:21:33.898492Z"
    },
    "papermill": {},
    "tags": []
   },
   "outputs": [
    {
     "name": "stdout",
     "output_type": "stream",
     "text": [
      "Results fetched: 100\n",
      "Example:\n"
     ]
    },
    {
     "data": {
      "text/plain": [
       "{'id': 'https://openalex.org/S4306525036',\n",
       " 'issn_l': None,\n",
       " 'issn': None,\n",
       " 'display_name': 'PubMed',\n",
       " 'host_organization': 'https://openalex.org/I1299303238',\n",
       " 'host_organization_name': 'National Institutes of Health',\n",
       " 'host_organization_lineage': ['https://openalex.org/I1299303238'],\n",
       " 'works_count': 33077501,\n",
       " 'cited_by_count': 918278952,\n",
       " 'summary_stats': {'2yr_mean_citedness': 0.0, 'h_index': 2, 'i10_index': 1},\n",
       " 'is_oa': False,\n",
       " 'is_in_doaj': False,\n",
       " 'ids': {'openalex': 'https://openalex.org/S4306525036',\n",
       "  'wikidata': 'https://www.wikidata.org/entity/Q180686'},\n",
       " 'homepage_url': 'https://pubmed.ncbi.nlm.nih.gov',\n",
       " 'apc_prices': None,\n",
       " 'apc_usd': None,\n",
       " 'country_code': 'US',\n",
       " 'societies': [],\n",
       " 'alternate_titles': [],\n",
       " 'abbreviated_title': None,\n",
       " 'type': 'repository',\n",
       " 'x_concepts': [],\n",
       " 'counts_by_year': [{'year': 2023,\n",
       "   'works_count': 0,\n",
       "   'cited_by_count': 37204499},\n",
       "  {'year': 2022, 'works_count': 0, 'cited_by_count': 63672165},\n",
       "  {'year': 2021, 'works_count': 0, 'cited_by_count': 64088684},\n",
       "  {'year': 2020, 'works_count': 0, 'cited_by_count': 59793968},\n",
       "  {'year': 2019, 'works_count': 0, 'cited_by_count': 52100120},\n",
       "  {'year': 2018, 'works_count': 6, 'cited_by_count': 47803331},\n",
       "  {'year': 2017, 'works_count': 0, 'cited_by_count': 45107992},\n",
       "  {'year': 2016, 'works_count': 2, 'cited_by_count': 43652789},\n",
       "  {'year': 2015, 'works_count': 23, 'cited_by_count': 42692441},\n",
       "  {'year': 2014, 'works_count': 6, 'cited_by_count': 40453029},\n",
       "  {'year': 2013, 'works_count': 3, 'cited_by_count': 37731945},\n",
       "  {'year': 2012, 'works_count': 12, 'cited_by_count': 34928506}],\n",
       " 'works_api_url': 'https://api.openalex.org/works?filter=primary_location.source.id:S4306525036',\n",
       " 'updated_date': '2023-07-26',\n",
       " 'created_date': '2022-10-17'}"
      ]
     },
     "execution_count": 4,
     "metadata": {},
     "output_type": "execute_result"
    }
   ],
   "source": [
    "data = get_data(endpoint, limit=limit)\n",
    "print(\"Results fetched:\", len(data))\n",
    "print(\"Example:\")\n",
    "data[0]"
   ]
  },
  {
   "cell_type": "markdown",
   "id": "30513af7-3035-4ef6-80f3-7b8dad7ea90f",
   "metadata": {
    "papermill": {},
    "tags": []
   },
   "source": [
    " "
   ]
  }
 ],
 "metadata": {
  "kernelspec": {
   "display_name": "Python 3",
   "language": "python",
   "name": "python3"
  },
  "language_info": {
   "codemirror_mode": {
    "name": "ipython",
    "version": 3
   },
   "file_extension": ".py",
   "mimetype": "text/x-python",
   "name": "python",
   "nbconvert_exporter": "python",
   "pygments_lexer": "ipython3",
   "version": "3.9.6"
  },
  "widgets": {
   "application/vnd.jupyter.widget-state+json": {
    "state": {},
    "version_major": 2,
    "version_minor": 0
   }
  }
 },
 "nbformat": 4,
 "nbformat_minor": 5
}
