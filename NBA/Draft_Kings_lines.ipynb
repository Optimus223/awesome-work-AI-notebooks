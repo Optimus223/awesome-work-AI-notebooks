{
 "cells": [
  {
   "cell_type": "markdown",
   "id": "latin-packing",
   "metadata": {
    "execution": {
     "iopub.execute_input": "2021-02-23T14:22:16.610471Z",
     "iopub.status.busy": "2021-02-23T14:22:16.610129Z",
     "iopub.status.idle": "2021-02-23T14:22:16.627784Z",
     "shell.execute_reply": "2021-02-23T14:22:16.626866Z",
     "shell.execute_reply.started": "2021-02-23T14:22:16.610384Z"
    },
    "papermill": {},
    "tags": []
   },
   "source": [
    "<img width=\"10%\" alt=\"Naas\" src=\"https://landen.imgix.net/jtci2pxwjczr/assets/5ice39g4.png?w=160\"/>"
   ]
  },
  {
   "cell_type": "markdown",
   "id": "compressed-wilson",
   "metadata": {
    "papermill": {},
    "tags": []
   },
   "source": [
    "# NBA - Draft Kings Betting Lines\n",
    "<a href=\"https://app.naas.ai/user-redirect/naas/downloader?url=https://raw.githubusercontent.com/jupyter-naas/awesome-notebooks/master/template.ipynb\" target=\"_parent\">\n",
    "<img src=\"https://img.shields.io/badge/-Open%20in%20Naas-success?labelColor=000000&logo=data:image/svg+xml;base64,PD94bWwgdmVyc2lvbj0iMS4wIiBlbmNvZGluZz0iVVRGLTgiPz4KPHN2ZyB3aWR0aD0iMTAyNHB4IiBoZWlnaHQ9IjEwMjRweCIgdmlld0JveD0iMCAwIDEwMjQgMTAyNCIgeG1sbnM9Imh0dHA6Ly93d3cudzMub3JnLzIwMDAvc3ZnIiB4bWxuczp4bGluaz0iaHR0cDovL3d3dy53My5vcmcvMTk5OS94bGluayIgdmVyc2lvbj0iMS4xIj4KIDwhLS0gR2VuZXJhdGVkIGJ5IFBpeGVsbWF0b3IgUHJvIDIuMC41IC0tPgogPGRlZnM+CiAgPHRleHQgaWQ9InN0cmluZyIgdHJhbnNmb3JtPSJtYXRyaXgoMS4wIDAuMCAwLjAgMS4wIDIyOC4wIDU0LjUpIiBmb250LWZhbWlseT0iQ29tZm9ydGFhLVJlZ3VsYXIsIENvbWZvcnRhYSIgZm9udC1zaXplPSI4MDAiIHRleHQtZGVjb3JhdGlvbj0ibm9uZSIgZmlsbD0iI2ZmZmZmZiIgeD0iMS4xOTk5OTk5OTk5OTk5ODg2IiB5PSI3MDUuMCI+bjwvdGV4dD4KIDwvZGVmcz4KIDx1c2UgaWQ9Im4iIHhsaW5rOmhyZWY9IiNzdHJpbmciLz4KPC9zdmc+Cg==\"/>\n",
    "</a>"
   ]
  },
  {
   "cell_type": "markdown",
   "id": "religious-programmer",
   "metadata": {},
   "source": [
    "**Tags:** #nba #betting #python #analytics #sports #sports_betting"
   ]
  },
  {
   "cell_type": "markdown",
   "id": "1fe9f56e-561c-4f52-aef8-b861c9462107",
   "metadata": {},
   "source": [
    "**Author:** [JA Williams](https://www.linkedin.com/in/ja-williams-529517187/)"
   ]
  },
  {
   "cell_type": "markdown",
   "id": "31ea7cdb-e10d-43fc-b026-f69249a59736",
   "metadata": {},
   "source": [
    "This notebooks gathers the betting lines for NBA games each day. It scrapes the Money Lines for each team from the Draft Kings website.\n",
    "\n",
    "Data source: https://sportsbook.draftkings.com/leagues/basketball/88670846?wpsrc=Organic%20Search&wpaffn=Google&wpkw=https%3A%2F%2Fsportsbook.draftkings.com%2Fleagues%2Fbasketball%2F88670846&wpcn=leagues&wpscn=basketball%2F88670846"
   ]
  },
  {
   "cell_type": "markdown",
   "id": "distinguished-truth",
   "metadata": {
    "papermill": {},
    "tags": []
   },
   "source": [
    "## Input"
   ]
  },
  {
   "cell_type": "markdown",
   "id": "numeric-mediterranean",
   "metadata": {},
   "source": [
    "### Import library"
   ]
  },
  {
   "cell_type": "code",
   "execution_count": null,
   "id": "potential-surfing",
   "metadata": {
    "tags": []
   },
   "outputs": [],
   "source": [
    "\n",
    "import naas\n",
    "import requests\n",
    "import pandas as pd\n",
    "from bs4 import BeautifulSoup"
   ]
  },
  {
   "cell_type": "code",
   "execution_count": null,
   "id": "cd653d24",
   "metadata": {},
   "outputs": [],
   "source": [
    "# Schedule the Notebook to run at 11 AM each day of the NBA season\n",
    "\n",
    "naas.scheduler.add(recurrence = '0 17 * 10,11,12,1,2,3,4,5 *')"
   ]
  },
  {
   "cell_type": "markdown",
   "id": "aggressive-trustee",
   "metadata": {},
   "source": [
    "### Scrape Data from Draft Kings"
   ]
  },
  {
   "cell_type": "code",
   "execution_count": null,
   "id": "continuous-melbourne",
   "metadata": {},
   "outputs": [],
   "source": [
    "URL = 'https://sportsbook.draftkings.com/leagues/basketball/88670846'\n",
    "\n",
    "page = requests.get(URL)\n",
    "soup = BeautifulSoup(page.content, \"html.parser\")"
   ]
  },
  {
   "cell_type": "code",
   "execution_count": null,
   "id": "8a385797",
   "metadata": {},
   "outputs": [],
   "source": [
    "results = soup.find(id='root')"
   ]
  },
  {
   "cell_type": "code",
   "execution_count": null,
   "id": "40fd911e",
   "metadata": {},
   "outputs": [],
   "source": [
    "div = results.find_all('div', class_='parlay-card-10-a')"
   ]
  },
  {
   "cell_type": "markdown",
   "id": "b15b304b-9f82-4349-bb83-3fc55e74b09a",
   "metadata": {},
   "source": [
    "### Separate the Elements"
   ]
  },
  {
   "cell_type": "code",
   "execution_count": null,
   "id": "1383d1a5-9741-4376-abe9-ae608709b7da",
   "metadata": {
    "tags": []
   },
   "outputs": [],
   "source": [
    "teams = []\n",
    "lines = []\n",
    "\n",
    "for element in div:\n",
    "    team = element.find_all(\"div\", class_=\"event-cell__name-text\")\n",
    "    teams.append(f'{team}')\n",
    "    line = element.find_all(\"span\", class_=\"sportsbook-odds american no-margin default-color\")\n",
    "    lines.append(f'{line}')"
   ]
  },
  {
   "cell_type": "markdown",
   "id": "tested-astrology",
   "metadata": {},
   "source": [
    "### Clean Team Element"
   ]
  },
  {
   "cell_type": "code",
   "execution_count": null,
   "id": "crude-louisville",
   "metadata": {
    "papermill": {},
    "tags": []
   },
   "outputs": [],
   "source": [
    "team_a = teams[0]\n",
    "team_b = teams[1]\n",
    "team_list_a = team_a.split(\", \")\n",
    "team_list_b = team_b.split(\",\")"
   ]
  },
  {
   "cell_type": "code",
   "execution_count": null,
   "id": "8a9d0635",
   "metadata": {},
   "outputs": [],
   "source": [
    "team_list2_a = []\n",
    "team_list2_b = []\n",
    "\n",
    "for t in team_list_a:\n",
    "    new = t[:-6]\n",
    "    team_list2_a.append(new)\n",
    "\n",
    "for t in team_list_b:\n",
    "    new = t[:-6]\n",
    "    team_list2_b.append(new)"
   ]
  },
  {
   "cell_type": "code",
   "execution_count": null,
   "id": "952e0c3f",
   "metadata": {},
   "outputs": [],
   "source": [
    "team_list3_a = []\n",
    "team_list3_b = []\n",
    "\n",
    "for x in team_list2_a:\n",
    "    new = x[35:]\n",
    "    team_list3_a.append(new)\n",
    "\n",
    "for x in team_list2_b:\n",
    "    new = x[35:]\n",
    "    team_list3_b.append(new)"
   ]
  },
  {
   "cell_type": "code",
   "execution_count": null,
   "id": "3cac8dd7",
   "metadata": {},
   "outputs": [],
   "source": [
    "team_list4_a = [q.replace('>', '') for q in team_list3_a]\n",
    "dk_team_names_a = [q.replace('<', '') for q in team_list4_a]\n",
    "\n",
    "team_list4_b = [q.replace('>', '') for q in team_list3_b]\n",
    "dk_team_names_b = [q.replace('<', '') for q in team_list4_b]"
   ]
  },
  {
   "cell_type": "code",
   "execution_count": null,
   "id": "e5e5a3b3",
   "metadata": {},
   "outputs": [],
   "source": [
    "dk_team_names_a.extend(dk_team_names_b)"
   ]
  },
  {
   "cell_type": "code",
   "execution_count": null,
   "id": "6553b9ce",
   "metadata": {},
   "outputs": [],
   "source": [
    "# Change Team Names to Match with 3-letter Code\n",
    "\n",
    "new1 = [team.replace('CLE Cavaliers', 'CLE') for team in dk_team_names_a]\n",
    "new2 = [team.replace('CHI Bulls', 'CHI') for team in new1]\n",
    "new3 = [team.replace('MIN Timberwolves', 'MIN') for team in new2]\n",
    "new4 = [team.replace('MIA Heat', 'MIA') for team in new3]\n",
    "new5 = [team.replace('IND Pacers', 'IND') for team in new4]\n",
    "new6 = [team.replace('SA Spurs', 'SAS') for team in new5]\n",
    "new7 = [team.replace('MIL Bucks', 'MIL') for team in new6]\n",
    "new8 = [team.replace('GS Warriors', 'GSW') for team in new7]\n",
    "new9 = [team.replace('SAC Kings', 'SAC') for team in new8]\n",
    "new10 = [team.replace('UTA Jazz', 'UTA') for team in new9]\n",
    "new11 = [team.replace('TOR Raptors', 'TOR') for team in new10]\n",
    "new12 = [team.replace('DEN Nuggets', 'DEN') for team in new11]\n",
    "new13 = [team.replace('WAS Wizards', 'WAS') for team in new12]\n",
    "new14 = [team.replace('POR Trail Blazers', 'POR') for team in new13]\n",
    "new15 = [team.replace('NY Knicks', 'NYK') for team in new14]\n",
    "new16 = [team.replace('BKN Nets', 'BRK') for team in new15]\n",
    "new17 = [team.replace('LA Clippers', 'LAC') for team in new16]\n",
    "new18 = [team.replace('DET Pistons', 'DET') for team in new17]\n",
    "new19 = [team.replace('DAL Mavericks', 'DAL') for team in new18]\n",
    "new20 = [team.replace('BOS Celtics', 'BOS') for team in new19]\n",
    "new21 = [team.replace('PHI 76ers', 'PHI') for team in new20]\n",
    "new22 = [team.replace('ORL Magic', 'ORL') for team in new21]\n",
    "new23 = [team.replace('MEM Grizzlies', 'MEM') for team in new22]\n",
    "new24 = [team.replace('OKC Thunder', 'OKC') for team in new23]\n",
    "new25 = [team.replace('HOU Rockets', 'HOU') for team in new24]\n",
    "new26 = [team.replace('NO Pelicans', 'NOP') for team in new25]\n",
    "new27 = [team.replace('LA Lakers', 'LAL') for team in new26]\n",
    "new28 = [team.replace('ATL Hawks', 'ATL') for team in new27]\n",
    "new29 = [team.replace('PHO Suns', 'PHO') for team in new28]\n",
    "new30 = [team.replace('CHA Hornets', 'CHA') for team in new29]"
   ]
  },
  {
   "cell_type": "code",
   "execution_count": null,
   "id": "c24e89a6",
   "metadata": {},
   "outputs": [],
   "source": [
    "teams_today = new30"
   ]
  },
  {
   "cell_type": "markdown",
   "id": "890f7c86-b7bb-4f5d-9a1b-e492dd9580fd",
   "metadata": {},
   "source": [
    "### Clean Lines Element"
   ]
  },
  {
   "cell_type": "code",
   "execution_count": null,
   "id": "9c4e3b7b-6440-4844-8054-265f1aec65eb",
   "metadata": {},
   "outputs": [],
   "source": [
    "line_a = lines[0]\n",
    "line_b = lines[1]\n",
    "line_list_a = line_a.split(\", \")\n",
    "line_list_b = line_b.split(\", \")"
   ]
  },
  {
   "cell_type": "code",
   "execution_count": null,
   "id": "1199b9e6",
   "metadata": {},
   "outputs": [],
   "source": [
    "line_list2_a = []\n",
    "line_list2_b = []\n",
    "\n",
    "for t in line_list_a:\n",
    "    new = t[:-6]\n",
    "    line_list2_a.append(new)\n",
    "\n",
    "for t in line_list_b:\n",
    "    new = t[:-6]\n",
    "    line_list2_b.append(new)"
   ]
  },
  {
   "cell_type": "code",
   "execution_count": null,
   "id": "11178529",
   "metadata": {},
   "outputs": [],
   "source": [
    "line_list3_a = []\n",
    "line_list3_b = []\n",
    "\n",
    "for x in line_list2_a:\n",
    "    new = x[63:]\n",
    "    line_list3_a.append(new)\n",
    "\n",
    "for x in line_list2_b:\n",
    "    new = x[63:]\n",
    "    line_list3_b.append(new)"
   ]
  },
  {
   "cell_type": "code",
   "execution_count": null,
   "id": "525a4823",
   "metadata": {},
   "outputs": [],
   "source": [
    "line_list4_a = [q.replace('>', '') for q in line_list3_a]\n",
    "line_list5_a = [q.replace('/', '') for q in line_list4_a]\n",
    "dk_lines_a = [q.replace('<', '') for q in line_list5_a]\n",
    "\n",
    "line_list4_b = [q.replace('>', '') for q in line_list3_b]\n",
    "line_list5_b = [q.replace('/', '') for q in line_list4_b]\n",
    "dk_lines_b = [q.replace('<', '') for q in line_list5_b]"
   ]
  },
  {
   "cell_type": "code",
   "execution_count": null,
   "id": "554679f0",
   "metadata": {},
   "outputs": [],
   "source": [
    "dk_lines_a.extend(dk_lines_b)"
   ]
  },
  {
   "cell_type": "code",
   "execution_count": null,
   "id": "f6ef4d7c",
   "metadata": {},
   "outputs": [],
   "source": [
    "lines_today = dk_lines_a"
   ]
  },
  {
   "cell_type": "markdown",
   "id": "a28950bb-1d7d-4835-a83a-faac837ebc7c",
   "metadata": {},
   "source": [
    "### Check that there is the same number of lines as their is games"
   ]
  },
  {
   "cell_type": "code",
   "execution_count": null,
   "id": "db205965-a2dc-4541-ba8e-db3250d1cff0",
   "metadata": {},
   "outputs": [],
   "source": [
    "correct_num_games = len(lines_today)"
   ]
  },
  {
   "cell_type": "code",
   "execution_count": null,
   "id": "070a83eb",
   "metadata": {},
   "outputs": [],
   "source": [
    "correct_teams_today = []\n",
    "\n",
    "if len(teams_today) > len(lines_today):\n",
    "    correct_teams_today = teams_today[:correct_num_games]\n",
    "else:\n",
    "    correct_teams_today = teams_today"
   ]
  },
  {
   "cell_type": "markdown",
   "id": "9f2323f8",
   "metadata": {},
   "source": [
    "### Combine the Two Elements"
   ]
  },
  {
   "cell_type": "markdown",
   "id": "3b0ed0e1",
   "metadata": {},
   "source": [
    "team1 = correct_teams_today[1::2]\n",
    "team2 = correct_teams_today[::2]"
   ]
  },
  {
   "cell_type": "code",
   "execution_count": null,
   "id": "877c80e2",
   "metadata": {},
   "outputs": [],
   "source": [
    "team1_line = lines_today[1::2]\n",
    "team2_line = lines_today[::2]"
   ]
  },
  {
   "cell_type": "code",
   "execution_count": null,
   "id": "3f3eb59c",
   "metadata": {},
   "outputs": [],
   "source": [
    "combined_list = pd.DataFrame(\n",
    "    {'team1' : team1, \n",
    "    'team2' : team2, \n",
    "    'team1_line' : team1_line, \n",
    "    'team2_line' : team2_line\n",
    "})"
   ]
  },
  {
   "cell_type": "markdown",
   "id": "4561479b",
   "metadata": {},
   "source": [
    "### Today's NBA Games with Betting Lines from Draft Kings:"
   ]
  },
  {
   "cell_type": "markdown",
   "id": "8bf80e3f",
   "metadata": {},
   "source": [
    "combined_list"
   ]
  }
 ],
 "metadata": {
  "kernelspec": {
   "display_name": "Python 3",
   "language": "python",
   "name": "python3"
  },
  "language_info": {
   "codemirror_mode": {
    "name": "ipython",
    "version": 3
   },
   "file_extension": ".py",
   "mimetype": "text/x-python",
   "name": "python",
   "nbconvert_exporter": "python",
   "pygments_lexer": "ipython3",
   "version": "3.8.8"
  },
  "papermill": {
   "default_parameters": {},
   "environment_variables": {},
   "parameters": {},
   "version": "2.3.3"
  },
  "widgets": {
   "application/vnd.jupyter.widget-state+json": {
    "state": {},
    "version_major": 2,
    "version_minor": 0
   }
  }
 },
 "nbformat": 4,
 "nbformat_minor": 5
}
