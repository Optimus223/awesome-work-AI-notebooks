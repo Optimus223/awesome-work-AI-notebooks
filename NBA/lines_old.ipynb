{
 "cells": [
  {
   "cell_type": "code",
   "execution_count": 1,
   "metadata": {},
   "outputs": [],
   "source": [
    "import requests\n",
    "import pandas as pd\n",
    "from bs4 import BeautifulSoup"
   ]
  },
  {
   "cell_type": "code",
   "execution_count": 25,
   "metadata": {},
   "outputs": [],
   "source": [
    "# Use Beautiful Soup to Import Data from Draft Kings"
   ]
  },
  {
   "cell_type": "code",
   "execution_count": 2,
   "metadata": {},
   "outputs": [],
   "source": [
    "URL = 'https://sportsbook.draftkings.com/leagues/basketball/88670846'\n",
    "\n",
    "page = requests.get(URL)\n",
    "soup = BeautifulSoup(page.content, \"html.parser\")"
   ]
  },
  {
   "cell_type": "code",
   "execution_count": 3,
   "metadata": {},
   "outputs": [],
   "source": [
    "results = soup.find(id='root')"
   ]
  },
  {
   "cell_type": "code",
   "execution_count": 4,
   "metadata": {},
   "outputs": [],
   "source": [
    "div = results.find_all('div', class_='parlay-card-10-a')"
   ]
  },
  {
   "cell_type": "code",
   "execution_count": 26,
   "metadata": {},
   "outputs": [],
   "source": [
    "# Separate Elements"
   ]
  },
  {
   "cell_type": "code",
   "execution_count": 5,
   "metadata": {},
   "outputs": [],
   "source": [
    "teams = []\n",
    "lines = []\n",
    "\n",
    "for element in div:\n",
    "    team = element.find_all(\"div\", class_=\"event-cell__name-text\")\n",
    "    teams.append(f'{team}')\n",
    "    line = element.find_all(\"span\", class_=\"sportsbook-odds american no-margin default-color\")\n",
    "    lines.append(f'{line}')"
   ]
  },
  {
   "cell_type": "code",
   "execution_count": 27,
   "metadata": {},
   "outputs": [],
   "source": [
    "# Clean Team Element"
   ]
  },
  {
   "cell_type": "code",
   "execution_count": 6,
   "metadata": {},
   "outputs": [],
   "source": [
    "team_a = teams[0]\n",
    "team_b = teams[1]\n",
    "team_list_a = team_a.split(\", \")\n",
    "team_list_b = team_b.split(\",\")"
   ]
  },
  {
   "cell_type": "code",
   "execution_count": 7,
   "metadata": {},
   "outputs": [],
   "source": [
    "team_list2_a = []\n",
    "team_list2_b = []\n",
    "\n",
    "for t in team_list_a:\n",
    "    new = t[:-6]\n",
    "    team_list2_a.append(new)\n",
    "\n",
    "for t in team_list_b:\n",
    "    new = t[:-6]\n",
    "    team_list2_b.append(new)"
   ]
  },
  {
   "cell_type": "code",
   "execution_count": 8,
   "metadata": {},
   "outputs": [],
   "source": [
    "team_list3_a = []\n",
    "team_list3_b = []\n",
    "\n",
    "for x in team_list2_a:\n",
    "    new = x[35:]\n",
    "    team_list3_a.append(new)\n",
    "\n",
    "for x in team_list2_b:\n",
    "    new = x[35:]\n",
    "    team_list3_b.append(new)"
   ]
  },
  {
   "cell_type": "code",
   "execution_count": 9,
   "metadata": {},
   "outputs": [],
   "source": [
    "team_list4_a = [q.replace('>', '') for q in team_list3_a]\n",
    "dk_team_names_a = [q.replace('<', '') for q in team_list4_a]\n",
    "\n",
    "team_list4_b = [q.replace('>', '') for q in team_list3_b]\n",
    "dk_team_names_b = [q.replace('<', '') for q in team_list4_b]"
   ]
  },
  {
   "cell_type": "code",
   "execution_count": 10,
   "metadata": {},
   "outputs": [],
   "source": [
    "dk_team_names_a.extend(dk_team_names_b)"
   ]
  },
  {
   "cell_type": "code",
   "execution_count": 11,
   "metadata": {},
   "outputs": [],
   "source": [
    "# Change Team Names to Match with 3-letter Code\n",
    "\n",
    "new1 = [team.replace('CLE Cavaliers', 'CLE') for team in dk_team_names_a]\n",
    "new2 = [team.replace('CHI Bulls', 'CHI') for team in new1]\n",
    "new3 = [team.replace('MIN Timberwolves', 'MIN') for team in new2]\n",
    "new4 = [team.replace('MIA Heat', 'MIA') for team in new3]\n",
    "new5 = [team.replace('IND Pacers', 'IND') for team in new4]\n",
    "new6 = [team.replace('SA Spurs', 'SAS') for team in new5]\n",
    "new7 = [team.replace('MIL Bucks', 'MIL') for team in new6]\n",
    "new8 = [team.replace('GS Warriors', 'GSW') for team in new7]\n",
    "new9 = [team.replace('SAC Kings', 'SAC') for team in new8]\n",
    "new10 = [team.replace('UTA Jazz', 'UTA') for team in new9]\n",
    "new11 = [team.replace('TOR Raptors', 'TOR') for team in new10]\n",
    "new12 = [team.replace('DEN Nuggets', 'DEN') for team in new11]\n",
    "new13 = [team.replace('WAS Wizards', 'WAS') for team in new12]\n",
    "new14 = [team.replace('POR Trail Blazers', 'POR') for team in new13]\n",
    "new15 = [team.replace('NY Knicks', 'NYK') for team in new14]\n",
    "new16 = [team.replace('BKN Nets', 'BRK') for team in new15]\n",
    "new17 = [team.replace('LA Clippers', 'LAC') for team in new16]\n",
    "new18 = [team.replace('DET Pistons', 'DET') for team in new17]\n",
    "new19 = [team.replace('DAL Mavericks', 'DAL') for team in new18]\n",
    "new20 = [team.replace('BOS Celtics', 'BOS') for team in new19]\n",
    "new21 = [team.replace('PHI 76ers', 'PHI') for team in new20]\n",
    "new22 = [team.replace('ORL Magic', 'ORL') for team in new21]\n",
    "new23 = [team.replace('MEM Grizzlies', 'MEM') for team in new22]\n",
    "new24 = [team.replace('OKC Thunder', 'OKC') for team in new23]\n",
    "new25 = [team.replace('HOU Rockets', 'HOU') for team in new24]\n",
    "new26 = [team.replace('NO Pelicans', 'NOP') for team in new25]\n",
    "new27 = [team.replace('LA Lakers', 'LAL') for team in new26]\n",
    "new28 = [team.replace('ATL Hawks', 'ATL') for team in new27]\n",
    "new29 = [team.replace('PHO Suns', 'PHO') for team in new28]\n",
    "new30 = [team.replace('CHA Hornets', 'CHA') for team in new29]\n"
   ]
  },
  {
   "cell_type": "code",
   "execution_count": 12,
   "metadata": {},
   "outputs": [],
   "source": [
    "teams_today = new30"
   ]
  },
  {
   "cell_type": "code",
   "execution_count": null,
   "metadata": {},
   "outputs": [],
   "source": [
    "# Clean Lines Element"
   ]
  },
  {
   "cell_type": "code",
   "execution_count": 13,
   "metadata": {},
   "outputs": [],
   "source": [
    "line_a = lines[0]\n",
    "line_b = lines[1]\n",
    "line_list_a = line_a.split(\", \")\n",
    "line_list_b = line_b.split(\", \")"
   ]
  },
  {
   "cell_type": "code",
   "execution_count": 14,
   "metadata": {},
   "outputs": [],
   "source": [
    "line_list2_a = []\n",
    "line_list2_b = []\n",
    "\n",
    "for t in line_list_a:\n",
    "    new = t[:-6]\n",
    "    line_list2_a.append(new)\n",
    "\n",
    "for t in line_list_b:\n",
    "    new = t[:-6]\n",
    "    line_list2_b.append(new)"
   ]
  },
  {
   "cell_type": "code",
   "execution_count": 15,
   "metadata": {},
   "outputs": [],
   "source": [
    "line_list3_a = []\n",
    "line_list3_b = []\n",
    "\n",
    "for x in line_list2_a:\n",
    "    new = x[63:]\n",
    "    line_list3_a.append(new)\n",
    "\n",
    "for x in line_list2_b:\n",
    "    new = x[63:]\n",
    "    line_list3_b.append(new)"
   ]
  },
  {
   "cell_type": "code",
   "execution_count": 16,
   "metadata": {},
   "outputs": [],
   "source": [
    "line_list4_a = [q.replace('>', '') for q in line_list3_a]\n",
    "line_list5_a = [q.replace('/', '') for q in line_list4_a]\n",
    "dk_lines_a = [q.replace('<', '') for q in line_list5_a]\n",
    "\n",
    "line_list4_b = [q.replace('>', '') for q in line_list3_b]\n",
    "line_list5_b = [q.replace('/', '') for q in line_list4_b]\n",
    "dk_lines_b = [q.replace('<', '') for q in line_list5_b]"
   ]
  },
  {
   "cell_type": "code",
   "execution_count": 17,
   "metadata": {},
   "outputs": [],
   "source": [
    "dk_lines_a.extend(dk_lines_b)"
   ]
  },
  {
   "cell_type": "code",
   "execution_count": 18,
   "metadata": {},
   "outputs": [],
   "source": [
    "lines_today = dk_lines_a"
   ]
  },
  {
   "cell_type": "code",
   "execution_count": null,
   "metadata": {},
   "outputs": [],
   "source": [
    "# Check that there is the same number of lines as their is games"
   ]
  },
  {
   "cell_type": "code",
   "execution_count": 19,
   "metadata": {},
   "outputs": [],
   "source": [
    "correct_num_games = len(lines_today)"
   ]
  },
  {
   "cell_type": "code",
   "execution_count": 20,
   "metadata": {},
   "outputs": [],
   "source": [
    "correct_teams_today = []\n",
    "\n",
    "if len(teams_today) > len(lines_today):\n",
    "    correct_teams_today = teams_today[:correct_num_games]\n",
    "else:\n",
    "    correct_teams_today = teams_today"
   ]
  },
  {
   "cell_type": "code",
   "execution_count": 28,
   "metadata": {},
   "outputs": [],
   "source": [
    "# Combining The Two Elements "
   ]
  },
  {
   "cell_type": "code",
   "execution_count": 21,
   "metadata": {},
   "outputs": [],
   "source": [
    "team1 = correct_teams_today[1::2]\n",
    "team2 = correct_teams_today[::2]"
   ]
  },
  {
   "cell_type": "code",
   "execution_count": 22,
   "metadata": {},
   "outputs": [],
   "source": [
    "team1_line = lines_today[1::2]\n",
    "team2_line = lines_today[::2]"
   ]
  },
  {
   "cell_type": "code",
   "execution_count": 23,
   "metadata": {},
   "outputs": [],
   "source": [
    "combined_list = pd.DataFrame(\n",
    "    {'team1' : team1, \n",
    "    'team2' : team2, \n",
    "    'team1_line' : team1_line, \n",
    "    'team2_line' : team2_line\n",
    "})"
   ]
  },
  {
   "cell_type": "code",
   "execution_count": 24,
   "metadata": {},
   "outputs": [
    {
     "data": {
      "text/html": [
       "<div>\n",
       "<style scoped>\n",
       "    .dataframe tbody tr th:only-of-type {\n",
       "        vertical-align: middle;\n",
       "    }\n",
       "\n",
       "    .dataframe tbody tr th {\n",
       "        vertical-align: top;\n",
       "    }\n",
       "\n",
       "    .dataframe thead th {\n",
       "        text-align: right;\n",
       "    }\n",
       "</style>\n",
       "<table border=\"1\" class=\"dataframe\">\n",
       "  <thead>\n",
       "    <tr style=\"text-align: right;\">\n",
       "      <th></th>\n",
       "      <th>team1</th>\n",
       "      <th>team2</th>\n",
       "      <th>team1_line</th>\n",
       "      <th>team2_line</th>\n",
       "    </tr>\n",
       "  </thead>\n",
       "  <tbody>\n",
       "    <tr>\n",
       "      <th>0</th>\n",
       "      <td>CHA</td>\n",
       "      <td>ORL</td>\n",
       "      <td>-1000</td>\n",
       "      <td>+650</td>\n",
       "    </tr>\n",
       "    <tr>\n",
       "      <th>1</th>\n",
       "      <td>MIL</td>\n",
       "      <td>BOS</td>\n",
       "      <td>-265</td>\n",
       "      <td>+215</td>\n",
       "    </tr>\n",
       "    <tr>\n",
       "      <th>2</th>\n",
       "      <td>TOR</td>\n",
       "      <td>PHI</td>\n",
       "      <td>+100</td>\n",
       "      <td>-120</td>\n",
       "    </tr>\n",
       "    <tr>\n",
       "      <th>3</th>\n",
       "      <td>MIN</td>\n",
       "      <td>SAS</td>\n",
       "      <td>-365</td>\n",
       "      <td>+280</td>\n",
       "    </tr>\n",
       "    <tr>\n",
       "      <th>4</th>\n",
       "      <td>NOP</td>\n",
       "      <td>POR</td>\n",
       "      <td>-2200</td>\n",
       "      <td>+1100</td>\n",
       "    </tr>\n",
       "    <tr>\n",
       "      <th>5</th>\n",
       "      <td>DEN</td>\n",
       "      <td>MEM</td>\n",
       "      <td>-190</td>\n",
       "      <td>+160</td>\n",
       "    </tr>\n",
       "    <tr>\n",
       "      <th>6</th>\n",
       "      <td>GSW</td>\n",
       "      <td>LAL</td>\n",
       "      <td>-900</td>\n",
       "      <td>+600</td>\n",
       "    </tr>\n",
       "  </tbody>\n",
       "</table>\n",
       "</div>"
      ],
      "text/plain": [
       "  team1 team2 team1_line team2_line\n",
       "0   CHA   ORL      -1000       +650\n",
       "1   MIL   BOS       -265       +215\n",
       "2   TOR   PHI       +100       -120\n",
       "3   MIN   SAS       -365       +280\n",
       "4   NOP   POR      -2200      +1100\n",
       "5   DEN   MEM       -190       +160\n",
       "6   GSW   LAL       -900       +600"
      ]
     },
     "execution_count": 24,
     "metadata": {},
     "output_type": "execute_result"
    }
   ],
   "source": [
    "combined_list"
   ]
  }
 ],
 "metadata": {
  "interpreter": {
   "hash": "f8bbe703e4409461e5c1796f0c401e26e62f32801f1a5b19455b89c31c613fbe"
  },
  "kernelspec": {
   "display_name": "Python 3",
   "language": "python",
   "name": "python3"
  },
  "language_info": {
   "codemirror_mode": {
    "name": "ipython",
    "version": 3
   },
   "file_extension": ".py",
   "mimetype": "text/x-python",
   "name": "python",
   "nbconvert_exporter": "python",
   "pygments_lexer": "ipython3",
   "version": "3.8.3"
  }
 },
 "nbformat": 4,
 "nbformat_minor": 2
}
