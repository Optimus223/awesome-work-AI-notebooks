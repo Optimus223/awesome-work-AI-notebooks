{
 "cells": [
  {
   "cell_type": "markdown",
   "id": "departmental-bidder",
   "metadata": {
    "execution": {
     "iopub.execute_input": "2021-02-23T14:22:16.610471Z",
     "iopub.status.busy": "2021-02-23T14:22:16.610129Z",
     "iopub.status.idle": "2021-02-23T14:22:16.627784Z",
     "shell.execute_reply": "2021-02-23T14:22:16.626866Z",
     "shell.execute_reply.started": "2021-02-23T14:22:16.610384Z"
    },
    "papermill": {},
    "tags": []
   },
   "source": [
    "<img width=\"10%\" alt=\"Naas\" src=\"https://landen.imgix.net/jtci2pxwjczr/assets/5ice39g4.png?w=160\"/>"
   ]
  },
  {
   "cell_type": "markdown",
   "id": "quarterly-python",
   "metadata": {
    "papermill": {},
    "tags": []
   },
   "source": [
    "# Youtube - Extract transcript from video ID"
   ]
  },
  {
   "cell_type": "markdown",
   "id": "vertical-inquiry",
   "metadata": {},
   "source": [
    "Tags: #youtube #transcript"
   ]
  },
  {
   "cell_type": "markdown",
   "id": "square-qatar",
   "metadata": {},
   "source": [
    "Author: Thomas Parenteau (thomas.parenteau@epitech.eu)"
   ]
  },
  {
   "cell_type": "markdown",
   "id": "objective-undergraduate",
   "metadata": {
    "papermill": {},
    "tags": []
   },
   "source": [
    "## Input"
   ]
  },
  {
   "cell_type": "markdown",
   "id": "located-generic",
   "metadata": {},
   "source": [
    "### Import library"
   ]
  },
  {
   "cell_type": "code",
   "execution_count": null,
   "id": "cathedral-insider",
   "metadata": {
    "tags": []
   },
   "outputs": [],
   "source": [
    "pip install youtube_transcript_api"
   ]
  },
  {
   "cell_type": "code",
   "execution_count": null,
   "id": "outstanding-retirement",
   "metadata": {
    "tags": []
   },
   "outputs": [],
   "source": [
    "from youtube_transcript_api import YouTubeTranscriptApi"
   ]
  },
  {
   "cell_type": "markdown",
   "id": "enabling-fossil",
   "metadata": {},
   "source": [
    "### Variables"
   ]
  },
  {
   "cell_type": "code",
   "execution_count": null,
   "id": "conditional-liberty",
   "metadata": {},
   "outputs": [],
   "source": [
    "video_id = \"W02XVb8IbGA\"\n",
    "file_name = \"⏱1-minute pitch video for Pioneer\""
   ]
  },
  {
   "cell_type": "markdown",
   "id": "verbal-credit",
   "metadata": {},
   "source": [
    "## Model"
   ]
  },
  {
   "cell_type": "markdown",
   "id": "overall-promotion",
   "metadata": {},
   "source": [
    "### Extract the transcript in JSON"
   ]
  },
  {
   "cell_type": "code",
   "execution_count": null,
   "id": "constant-moderator",
   "metadata": {
    "tags": []
   },
   "outputs": [],
   "source": [
    "json = YouTubeTranscriptApi.get_transcript(video_id)"
   ]
  },
  {
   "cell_type": "markdown",
   "id": "similar-dollar",
   "metadata": {},
   "source": [
    "### Parse JSON in text string"
   ]
  },
  {
   "cell_type": "code",
   "execution_count": null,
   "id": "bound-defensive",
   "metadata": {},
   "outputs": [],
   "source": [
    "para = \"\"\n",
    "for i in json :\n",
    "    para += i[\"text\"]\n",
    "    para += \" \"\n",
    "para"
   ]
  },
  {
   "cell_type": "markdown",
   "id": "fluid-killer",
   "metadata": {},
   "source": [
    "### Count the number of words in the paragraph"
   ]
  },
  {
   "cell_type": "code",
   "execution_count": null,
   "id": "young-productivity",
   "metadata": {},
   "outputs": [],
   "source": [
    "number_of_words = len(para)\n",
    "number_of_words"
   ]
  },
  {
   "cell_type": "markdown",
   "id": "spatial-queens",
   "metadata": {
    "execution": {
     "iopub.execute_input": "2021-07-02T23:32:10.789097Z",
     "iopub.status.busy": "2021-07-02T23:32:10.788829Z",
     "iopub.status.idle": "2021-07-02T23:32:10.796900Z",
     "shell.execute_reply": "2021-07-02T23:32:10.796358Z",
     "shell.execute_reply.started": "2021-07-02T23:32:10.789033Z"
    }
   },
   "source": [
    "## Output"
   ]
  },
  {
   "cell_type": "markdown",
   "id": "preliminary-walter",
   "metadata": {},
   "source": [
    "### Save to txt file"
   ]
  },
  {
   "cell_type": "code",
   "execution_count": null,
   "id": "unknown-testimony",
   "metadata": {
    "tags": []
   },
   "outputs": [],
   "source": [
    "text_file = open(f\"{file_name}.txt\", \"w\")\n",
    "text_file.write(para)\n",
    "text_file.close()"
   ]
  }
 ],
 "metadata": {
  "kernelspec": {
   "display_name": "Python 3",
   "language": "python",
   "name": "python3"
  },
  "language_info": {
   "codemirror_mode": {
    "name": "ipython",
    "version": 3
   },
   "file_extension": ".py",
   "mimetype": "text/x-python",
   "name": "python",
   "nbconvert_exporter": "python",
   "pygments_lexer": "ipython3",
   "version": "3.8.8"
  },
  "papermill": {
   "default_parameters": {},
   "environment_variables": {},
   "parameters": {},
   "version": "2.3.3"
  },
  "widgets": {
   "application/vnd.jupyter.widget-state+json": {
    "state": {},
    "version_major": 2,
    "version_minor": 0
   }
  }
 },
 "nbformat": 4,
 "nbformat_minor": 5
}
