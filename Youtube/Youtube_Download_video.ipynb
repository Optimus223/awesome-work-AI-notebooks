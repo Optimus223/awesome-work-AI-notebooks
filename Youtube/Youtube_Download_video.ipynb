{
 "cells": [
  {
   "cell_type": "markdown",
   "id": "athletic-postage",
   "metadata": {
    "papermill": {},
    "tags": []
   },
   "source": [
    "<img width=\"10%\" alt=\"Naas\" src=\"https://landen.imgix.net/jtci2pxwjczr/assets/5ice39g4.png?w=160\"/>"
   ]
  },
  {
   "cell_type": "markdown",
   "id": "designing-adapter",
   "metadata": {
    "papermill": {},
    "tags": []
   },
   "source": [
    "# Youtube - Download video\n",
    "<a href=\"https://app.naas.ai/user-redirect/naas/downloader?url=https://raw.githubusercontent.com/jupyter-naas/awesome-notebooks/master/Youtube/Youtube_Download_video.ipynb\" target=\"_parent\"><img src=\"https://img.shields.io/badge/-Open%20in%20Naas-success?labelColor=000000&logo=data:image/svg+xml;base64,PD94bWwgdmVyc2lvbj0iMS4wIiBlbmNvZGluZz0iVVRGLTgiPz4KPHN2ZyB3aWR0aD0iMTAyNHB4IiBoZWlnaHQ9IjEwMjRweCIgdmlld0JveD0iMCAwIDEwMjQgMTAyNCIgeG1sbnM9Imh0dHA6Ly93d3cudzMub3JnLzIwMDAvc3ZnIiB4bWxuczp4bGluaz0iaHR0cDovL3d3dy53My5vcmcvMTk5OS94bGluayIgdmVyc2lvbj0iMS4xIj4KIDwhLS0gR2VuZXJhdGVkIGJ5IFBpeGVsbWF0b3IgUHJvIDIuMC41IC0tPgogPGRlZnM+CiAgPHRleHQgaWQ9InN0cmluZyIgdHJhbnNmb3JtPSJtYXRyaXgoMS4wIDAuMCAwLjAgMS4wIDIyOC4wIDU0LjUpIiBmb250LWZhbWlseT0iQ29tZm9ydGFhLVJlZ3VsYXIsIENvbWZvcnRhYSIgZm9udC1zaXplPSI4MDAiIHRleHQtZGVjb3JhdGlvbj0ibm9uZSIgZmlsbD0iI2ZmZmZmZiIgeD0iMS4xOTk5OTk5OTk5OTk5ODg2IiB5PSI3MDUuMCI+bjwvdGV4dD4KIDwvZGVmcz4KIDx1c2UgaWQ9Im4iIHhsaW5rOmhyZWY9IiNzdHJpbmciLz4KPC9zdmc+Cg==\"/></a>"
   ]
  },
  {
   "cell_type": "markdown",
   "id": "1e9c407a-d2ab-4694-bfae-0a404187f8b7",
   "metadata": {
    "papermill": {},
    "tags": []
   },
   "source": [
    "**Tags:** #youtube #download #video"
   ]
  },
  {
   "cell_type": "markdown",
   "id": "input_cell",
   "metadata": {
    "papermill": {},
    "tags": []
   },
   "source": [
    "## Input"
   ]
  },
  {
   "cell_type": "markdown",
   "id": "8dc80331-8125-4ee6-beb0-14cc23385440",
   "metadata": {
    "papermill": {},
    "tags": []
   },
   "source": [
    "### Install packages "
   ]
  },
  {
   "cell_type": "code",
   "execution_count": 4,
   "id": "temporal-castle",
   "metadata": {
    "papermill": {},
    "tags": []
   },
   "outputs": [],
   "source": [
    "!pip install pytube3"
   ]
  },
  {
   "cell_type": "markdown",
   "id": "opened-movement",
   "metadata": {
    "papermill": {},
    "tags": []
   },
   "source": [
    "### Import library"
   ]
  },
  {
   "cell_type": "code",
   "execution_count": 5,
   "id": "bizarre-serve",
   "metadata": {
    "papermill": {},
    "tags": []
   },
   "outputs": [],
   "source": [
    "from pytube import YouTube"
   ]
  },
  {
   "cell_type": "markdown",
   "id": "017311e0-f6b7-4443-a4e4-d18c06fe3a66",
   "metadata": {
    "papermill": {},
    "tags": []
   },
   "source": [
    "### Variables"
   ]
  },
  {
   "cell_type": "code",
   "execution_count": 6,
   "id": "violent-momentum",
   "metadata": {
    "papermill": {},
    "tags": []
   },
   "outputs": [],
   "source": [
    "youtube_video_url = 'https://www.youtube.com/watch?v=bleU_nrckr8'\n",
    "\n",
    "yt_obj = YouTube(youtube_video_url)"
   ]
  },
  {
   "cell_type": "markdown",
   "id": "model_cell",
   "metadata": {
    "papermill": {},
    "tags": []
   },
   "source": [
    "## Model"
   ]
  },
  {
   "cell_type": "markdown",
   "id": "selective-museum",
   "metadata": {
    "papermill": {},
    "tags": []
   },
   "source": [
    "### Paste Youtube URL"
   ]
  },
  {
   "cell_type": "code",
   "execution_count": 7,
   "id": "raised-caribbean",
   "metadata": {
    "papermill": {},
    "tags": []
   },
   "outputs": [],
   "source": [
    "for stream in yt_obj.streams:\n",
    "    print(stream)"
   ]
  },
  {
   "cell_type": "markdown",
   "id": "horizontal-default",
   "metadata": {
    "papermill": {},
    "tags": []
   },
   "source": [
    "### Filter on MP4 Quality"
   ]
  },
  {
   "cell_type": "code",
   "execution_count": 8,
   "id": "genetic-campus",
   "metadata": {
    "papermill": {},
    "tags": []
   },
   "outputs": [],
   "source": [
    "filters = yt_obj.streams.filter(progressive=True, file_extension='mp4')\n",
    " \n",
    "for mp4_filter in filters:\n",
    "    print(mp4_filter)"
   ]
  },
  {
   "cell_type": "code",
   "execution_count": 9,
   "id": "facial-morning",
   "metadata": {
    "papermill": {},
    "tags": []
   },
   "outputs": [],
   "source": [
    "filters = yt_obj.streams.filter(progressive=True, file_extension='mp4')\n",
    " \n",
    "filters.get_highest_resolution()\n",
    "filters.get_lowest_resolution()"
   ]
  },
  {
   "cell_type": "markdown",
   "id": "output_cell",
   "metadata": {
    "papermill": {},
    "tags": []
   },
   "source": [
    "## Output"
   ]
  },
  {
   "cell_type": "markdown",
   "id": "wrong-houston",
   "metadata": {
    "papermill": {},
    "tags": []
   },
   "source": [
    "### Download video on current directory"
   ]
  },
  {
   "cell_type": "code",
   "execution_count": 10,
   "id": "internal-finder",
   "metadata": {
    "papermill": {},
    "tags": []
   },
   "outputs": [],
   "source": [
    "filters.get_highest_resolution().download()"
   ]
  }
 ],
 "metadata": {
  "kernelspec": {
   "display_name": "Python 3",
   "language": "python",
   "name": "python3"
  },
  "language_info": {
   "codemirror_mode": {
    "name": "ipython",
    "version": 3
   },
   "file_extension": ".py",
   "mimetype": "text/x-python",
   "name": "python",
   "nbconvert_exporter": "python",
   "pygments_lexer": "ipython3",
   "version": "3.8.8"
  },
  "papermill": {
   "default_parameters": {},
   "environment_variables": {},
   "parameters": {},
   "version": "2.3.3"
  },
  "widgets": {
   "application/vnd.jupyter.widget-state+json": {
    "state": {},
    "version_major": 2,
    "version_minor": 0
   }
  }
 },
 "nbformat": 4,
 "nbformat_minor": 5
}