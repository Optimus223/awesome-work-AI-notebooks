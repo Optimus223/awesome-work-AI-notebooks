{
 "cells": [
  {
   "cell_type": "markdown",
   "id": "departmental-bidder",
   "metadata": {
    "execution": {
     "iopub.execute_input": "2021-02-23T14:22:16.610471Z",
     "iopub.status.busy": "2021-02-23T14:22:16.610129Z",
     "iopub.status.idle": "2021-02-23T14:22:16.627784Z",
     "shell.execute_reply": "2021-02-23T14:22:16.626866Z",
     "shell.execute_reply.started": "2021-02-23T14:22:16.610384Z"
    },
    "papermill": {},
    "tags": []
   },
   "source": [
    "<img width=\"10%\" alt=\"Naas\" src=\"https://landen.imgix.net/jtci2pxwjczr/assets/5ice39g4.png?w=160\"/>"
   ]
  },
  {
   "cell_type": "markdown",
   "id": "quarterly-python",
   "metadata": {
    "papermill": {},
    "tags": []
   },
   "source": [
    "# Youtube - Extract and summarize transcript"
   ]
  },
  {
   "cell_type": "markdown",
   "id": "86798cf3-d205-455a-aed5-62a5994cd0c4",
   "metadata": {
    "execution": {
     "iopub.execute_input": "2021-10-15T16:10:32.671755Z",
     "iopub.status.busy": "2021-10-15T16:10:32.671524Z",
     "iopub.status.idle": "2021-10-15T16:10:32.682389Z",
     "shell.execute_reply": "2021-10-15T16:10:32.681603Z",
     "shell.execute_reply.started": "2021-10-15T16:10:32.671732Z"
    }
   },
   "source": [
    "The objective is to summarize the transcript from Youtube with Hugging Face Naas drivers using T5small model."
   ]
  },
  {
   "cell_type": "markdown",
   "id": "vertical-inquiry",
   "metadata": {
    "papermill": {},
    "tags": []
   },
   "source": [
    "**Tags:** #youtube #transcript #video #summarize"
   ]
  },
  {
   "cell_type": "markdown",
   "id": "objective-undergraduate",
   "metadata": {
    "papermill": {},
    "tags": []
   },
   "source": [
    "## Input"
   ]
  },
  {
   "cell_type": "markdown",
   "id": "e3145708-4cf0-46b4-9d28-1b7286620eee",
   "metadata": {
    "papermill": {},
    "tags": []
   },
   "source": [
    "### Install packages"
   ]
  },
  {
   "cell_type": "code",
   "execution_count": 1,
   "id": "cathedral-insider",
   "metadata": {
    "execution": {
     "iopub.execute_input": "2021-10-15T16:17:52.420244Z",
     "iopub.status.busy": "2021-10-15T16:17:52.419815Z",
     "iopub.status.idle": "2021-10-15T16:17:55.611533Z",
     "shell.execute_reply": "2021-10-15T16:17:55.610741Z",
     "shell.execute_reply.started": "2021-10-15T16:17:52.420169Z"
    },
    "papermill": {},
    "tags": []
   },
   "outputs": [
    {
     "name": "stdout",
     "output_type": "stream",
     "text": [
      "Requirement already satisfied: youtube_transcript_api in /opt/conda/lib/python3.8/site-packages (0.4.1)\n",
      "Requirement already satisfied: requests in /opt/conda/lib/python3.8/site-packages (from youtube_transcript_api) (2.25.1)\n",
      "Requirement already satisfied: urllib3<1.27,>=1.21.1 in /opt/conda/lib/python3.8/site-packages (from requests->youtube_transcript_api) (1.26.4)\n",
      "Requirement already satisfied: idna<3,>=2.5 in /opt/conda/lib/python3.8/site-packages (from requests->youtube_transcript_api) (2.10)\n",
      "Requirement already satisfied: certifi>=2017.4.17 in /opt/conda/lib/python3.8/site-packages (from requests->youtube_transcript_api) (2020.12.5)\n",
      "Requirement already satisfied: chardet<5,>=3.0.2 in /opt/conda/lib/python3.8/site-packages (from requests->youtube_transcript_api) (3.0.4)\n"
     ]
    }
   ],
   "source": [
    "!pip install youtube_transcript_api"
   ]
  },
  {
   "cell_type": "markdown",
   "id": "located-generic",
   "metadata": {
    "papermill": {},
    "tags": []
   },
   "source": [
    "### Import library"
   ]
  },
  {
   "cell_type": "code",
   "execution_count": 2,
   "id": "outstanding-retirement",
   "metadata": {
    "execution": {
     "iopub.execute_input": "2021-10-15T16:17:55.613158Z",
     "iopub.status.busy": "2021-10-15T16:17:55.612852Z",
     "iopub.status.idle": "2021-10-15T16:17:59.972167Z",
     "shell.execute_reply": "2021-10-15T16:17:59.971538Z",
     "shell.execute_reply.started": "2021-10-15T16:17:55.613106Z"
    },
    "papermill": {},
    "tags": []
   },
   "outputs": [],
   "source": [
    "from youtube_transcript_api import YouTubeTranscriptApi\n",
    "from naas_drivers import huggingface"
   ]
  },
  {
   "cell_type": "markdown",
   "id": "enabling-fossil",
   "metadata": {
    "papermill": {},
    "tags": []
   },
   "source": [
    "### Variables"
   ]
  },
  {
   "cell_type": "code",
   "execution_count": 3,
   "id": "conditional-liberty",
   "metadata": {
    "execution": {
     "iopub.execute_input": "2021-10-15T16:17:59.975555Z",
     "iopub.status.busy": "2021-10-15T16:17:59.975375Z",
     "iopub.status.idle": "2021-10-15T16:17:59.979974Z",
     "shell.execute_reply": "2021-10-15T16:17:59.979495Z",
     "shell.execute_reply.started": "2021-10-15T16:17:59.975534Z"
    },
    "papermill": {},
    "tags": []
   },
   "outputs": [],
   "source": [
    "video_id = \"I6XbLIRa0v0\"\n",
    "file_name = \"What on earth is data science?\""
   ]
  },
  {
   "cell_type": "markdown",
   "id": "verbal-credit",
   "metadata": {
    "papermill": {},
    "tags": []
   },
   "source": [
    "## Model"
   ]
  },
  {
   "cell_type": "markdown",
   "id": "overall-promotion",
   "metadata": {
    "papermill": {},
    "tags": []
   },
   "source": [
    "### Extract the transcript in JSON"
   ]
  },
  {
   "cell_type": "code",
   "execution_count": 4,
   "id": "constant-moderator",
   "metadata": {
    "execution": {
     "iopub.execute_input": "2021-10-15T16:17:59.982227Z",
     "iopub.status.busy": "2021-10-15T16:17:59.982028Z",
     "iopub.status.idle": "2021-10-15T16:18:00.510324Z",
     "shell.execute_reply": "2021-10-15T16:18:00.509687Z",
     "shell.execute_reply.started": "2021-10-15T16:17:59.982207Z"
    },
    "papermill": {},
    "tags": []
   },
   "outputs": [],
   "source": [
    "json = YouTubeTranscriptApi.get_transcript(video_id)"
   ]
  },
  {
   "cell_type": "markdown",
   "id": "similar-dollar",
   "metadata": {
    "papermill": {},
    "tags": []
   },
   "source": [
    "### Parse JSON in text string"
   ]
  },
  {
   "cell_type": "code",
   "execution_count": 5,
   "id": "bound-defensive",
   "metadata": {
    "execution": {
     "iopub.execute_input": "2021-10-15T16:18:00.511504Z",
     "iopub.status.busy": "2021-10-15T16:18:00.511292Z",
     "iopub.status.idle": "2021-10-15T16:18:00.520243Z",
     "shell.execute_reply": "2021-10-15T16:18:00.519667Z",
     "shell.execute_reply.started": "2021-10-15T16:18:00.511477Z"
    },
    "papermill": {},
    "tags": []
   },
   "outputs": [
    {
     "data": {
      "text/plain": [
       "\"i think of data science as the discipline of making data useful and within that discipline you have statistical inference you have data mining or descriptive analytics you have machine learning all under that umbrella how do you figure out which one is which i mean some people will joke that machine learning is just statistics on a mac and stuff like that i quite disagree with that let's see if we can figure out a taxonomy so one proposal i hope you're enraged i am is based on the tooling no you can with some creativity uh use all of them for all of them especially since we at google are doing things like making bigquery able to do ml for you so now you can have machine learning right in sql so that's just confusing if you try to do it based on tooling so instead how about note that how about um the algorithms and math stuff actually a good data scientist with cunning and the right level of stubborn perversity can use any algorithm for any of these things it's not the the algorithm that determines which is which so instead i propose this separation none many few any guesses what non-many few refers to data points how do we describe when you don't have any data i think we'll have a problem the number of decisions exactly here in data mining and descriptive analytics we are not making any decisions we are simply trying to get inspired from data we're having a look at what is here we're learning what is here and we're not taking it too seriously we're not learning anything beyond what is here in our data in machine learning we are going beyond our data in the sense that we are trying to make a recipe that's supposed to work on new stuff beyond the data that we have on hand and statistical inference statistics for short is for making one or a few careful important decisions where we don't have the correct answers until we've you know made the decision and then the universe punishes us or doesn't so we are carefully working with making a few important decisions and the whole discipline together data science you can think of that as the discipline of making our data useful you \""
      ]
     },
     "execution_count": 5,
     "metadata": {},
     "output_type": "execute_result"
    }
   ],
   "source": [
    "para = \"\"\n",
    "for i in json :\n",
    "    para += i[\"text\"]\n",
    "    para += \" \"\n",
    "para"
   ]
  },
  {
   "cell_type": "code",
   "execution_count": 6,
   "id": "7e34b067-5e1e-4a1f-afb6-d2450dd67e1c",
   "metadata": {
    "execution": {
     "iopub.execute_input": "2021-10-15T16:18:00.521490Z",
     "iopub.status.busy": "2021-10-15T16:18:00.521146Z",
     "iopub.status.idle": "2021-10-15T16:18:19.727107Z",
     "shell.execute_reply": "2021-10-15T16:18:19.726433Z",
     "shell.execute_reply.started": "2021-10-15T16:18:00.521462Z"
    },
    "tags": []
   },
   "outputs": [],
   "source": [
    "text = huggingface.get(\"summarization\", model=\"t5-small\", tokenizer=\"t5-small\")(para)"
   ]
  },
  {
   "cell_type": "markdown",
   "id": "spatial-queens",
   "metadata": {
    "execution": {
     "iopub.execute_input": "2021-07-02T23:32:10.789097Z",
     "iopub.status.busy": "2021-07-02T23:32:10.788829Z",
     "iopub.status.idle": "2021-07-02T23:32:10.796900Z",
     "shell.execute_reply": "2021-07-02T23:32:10.796358Z",
     "shell.execute_reply.started": "2021-07-02T23:32:10.789033Z"
    },
    "papermill": {},
    "tags": []
   },
   "source": [
    "## Output"
   ]
  },
  {
   "cell_type": "markdown",
   "id": "preliminary-walter",
   "metadata": {
    "papermill": {},
    "tags": []
   },
   "source": [
    "### Display results"
   ]
  },
  {
   "cell_type": "code",
   "execution_count": 7,
   "id": "unknown-testimony",
   "metadata": {
    "execution": {
     "iopub.execute_input": "2021-10-15T16:18:19.728422Z",
     "iopub.status.busy": "2021-10-15T16:18:19.728196Z",
     "iopub.status.idle": "2021-10-15T16:18:19.743311Z",
     "shell.execute_reply": "2021-10-15T16:18:19.741979Z",
     "shell.execute_reply.started": "2021-10-15T16:18:19.728394Z"
    },
    "papermill": {},
    "tags": []
   },
   "outputs": [
    {
     "data": {
      "text/plain": [
       "[{'summary_text': \"i think of data science as the discipline of making data useful and within that discipline you have statistical inference you have data mining or descriptive analytics you have machine learning all under that umbrella . some people will joke that machine learning is just statistics on a mac and stuff like that i quite disagree with that let's see if we can figure out a taxonomy so one proposal i am is based on the tooling no you can with some creativity .\"}]"
      ]
     },
     "execution_count": 7,
     "metadata": {},
     "output_type": "execute_result"
    }
   ],
   "source": [
    "text"
   ]
  }
 ],
 "metadata": {
  "kernelspec": {
   "display_name": "Python 3",
   "language": "python",
   "name": "python3"
  },
  "language_info": {
   "codemirror_mode": {
    "name": "ipython",
    "version": 3
   },
   "file_extension": ".py",
   "mimetype": "text/x-python",
   "name": "python",
   "nbconvert_exporter": "python",
   "pygments_lexer": "ipython3",
   "version": "3.8.8"
  },
  "papermill": {
   "default_parameters": {},
   "environment_variables": {},
   "parameters": {},
   "version": "2.3.3"
  },
  "widgets": {
   "application/vnd.jupyter.widget-state+json": {
    "state": {},
    "version_major": 2,
    "version_minor": 0
   }
  }
 },
 "nbformat": 4,
 "nbformat_minor": 5
}
