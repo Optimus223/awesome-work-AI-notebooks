{
 "cells": [
  {
   "cell_type": "markdown",
   "id": "67529b92-2e80-4457-8435-001ae13d6a10",
   "metadata": {
    "papermill": {},
    "tags": []
   },
   "source": [
    "<img width=\"10%\" alt=\"Naas\" src=\"https://landen.imgix.net/jtci2pxwjczr/assets/5ice39g4.png?w=160\"/>"
   ]
  },
  {
   "cell_type": "markdown",
   "id": "6db3d2c1-072c-4d83-afb2-0ba3593e218d",
   "metadata": {
    "papermill": {},
    "tags": []
   },
   "source": [
    "# Google Slides - Create a Slide"
   ]
  },
  {
   "cell_type": "markdown",
   "id": "937ae706-c3fe-4104-a85a-3b74f68f93b6",
   "metadata": {
    "papermill": {},
    "tags": []
   },
   "source": [
    "**Tags:** #googleslides #slides #create #api #developers #guides"
   ]
  },
  {
   "cell_type": "markdown",
   "id": "6306fa7b-6298-4fb2-b138-f62c3f85da87",
   "metadata": {
    "papermill": {},
    "tags": []
   },
   "source": [
    "**Author:** [Florent Ravenel](http://linkedin.com/in/florent-ravenel)"
   ]
  },
  {
   "cell_type": "markdown",
   "id": "3b0bab0b-8174-4ef4-ac87-5567dbd02b7d",
   "metadata": {
    "papermill": {},
    "tags": []
   },
   "source": [
    "**Description:** This notebook describes how to add slides to an existing Google Slides presentation. It is usefull for organizations that need to create slides quickly and easily."
   ]
  },
  {
   "cell_type": "markdown",
   "id": "55d96804-df93-4dcf-a329-99ed2fcc0f0b",
   "metadata": {
    "papermill": {},
    "tags": []
   },
   "source": [
    "**References:**\n- [Google Slides API Guides](https://developers.google.com/slides/api/guides/create-slide)"
   ]
  },
  {
   "cell_type": "markdown",
   "id": "eeab2c39-8dbd-484e-8696-acbd84627ebd",
   "metadata": {
    "papermill": {},
    "tags": []
   },
   "source": [
    "## Input"
   ]
  },
  {
   "cell_type": "markdown",
   "id": "e9e65d84-941c-4f33-b2cf-2f88d1017a92",
   "metadata": {
    "papermill": {},
    "tags": []
   },
   "source": [
    "### Import libraries"
   ]
  },
  {
   "cell_type": "code",
   "execution_count": null,
   "id": "cdccb272-0f59-4549-9d5b-ca45feb70455",
   "metadata": {
    "papermill": {},
    "tags": []
   },
   "source": "import requests",
   "outputs": []
  },
  {
   "cell_type": "markdown",
   "id": "ba93fa6f-db30-451c-8a64-b30fa62f5567",
   "metadata": {
    "papermill": {},
    "tags": []
   },
   "source": [
    "### Setup Variables\n- `presentation_id`: The ID of the presentation to add the slide to.\n- `slide_title`: The title of the slide.\n- `slide_text`: The text to be added to the slide."
   ]
  },
  {
   "cell_type": "code",
   "execution_count": null,
   "id": "370e5916-a8a9-4866-a1e0-585a792d6345",
   "metadata": {
    "papermill": {},
    "tags": []
   },
   "source": "presentation_id = \"123456789\"\nslide_title = \"My Slide\"\nslide_text = \"This is my slide text.\"",
   "outputs": []
  },
  {
   "cell_type": "markdown",
   "id": "a011a5ea-c0af-4a78-a04a-675314d83925",
   "metadata": {
    "papermill": {},
    "tags": []
   },
   "source": [
    "## Model"
   ]
  },
  {
   "cell_type": "markdown",
   "id": "fd4906d3-b8b1-4d05-9762-1e09c7f36188",
   "metadata": {
    "papermill": {},
    "tags": []
   },
   "source": [
    "### Create Slide"
   ]
  },
  {
   "cell_type": "markdown",
   "id": "4c27ef8d-328f-48e7-8be0-bb4526ac46b4",
   "metadata": {
    "papermill": {},
    "tags": []
   },
   "source": [
    "This function creates a slide in an existing Google Slides presentation."
   ]
  },
  {
   "cell_type": "code",
   "execution_count": null,
   "id": "06a6e7e7-fec1-4f68-8f13-2a5cbf2121e6",
   "metadata": {
    "papermill": {},
    "tags": []
   },
   "source": "def create_slide(presentation_id, slide_title, slide_text):\n    # Create the request body\n    body = {\n        \"requests\": [\n            {\n                \"createSlide\": {\n                    \"objectId\": slide_title,\n                    \"insertionIndex\": \"1\",\n                    \"slideLayoutReference\": {\"predefinedLayout\": \"TITLE_AND_BODY\"},\n                    \"slide\": {\n                        \"pageElements\": [\n                            {\n                                \"objectId\": \"title\",\n                                \"shape\": {\n                                    \"placeholder\": {\"type\": \"TITLE\", \"index\": \"0\"},\n                                    \"text\": {\n                                        \"textElements\": [\n                                            {\"textRun\": {\"content\": slide_title}}\n                                        ]\n                                    },\n                                },\n                            },\n                            {\n                                \"objectId\": \"body\",\n                                \"shape\": {\n                                    \"placeholder\": {\"type\": \"BODY\", \"index\": \"1\"},\n                                    \"text\": {\n                                        \"textElements\": [\n                                            {\"textRun\": {\"content\": slide_text}}\n                                        ]\n                                    },\n                                },\n                            },\n                        ]\n                    },\n                }\n            }\n        ]\n    }\n    # Make the request\n    response = requests.post(\n        f\"https://slides.googleapis.com/v1/presentations/{presentation_id}:batchUpdate\",\n        json=body,\n    )\n    # Return the response\n    return response",
   "outputs": []
  },
  {
   "cell_type": "markdown",
   "id": "d85a3a9a-0697-47bb-af2d-cb4d587ddb9e",
   "metadata": {
    "papermill": {},
    "tags": []
   },
   "source": [
    "## Output"
   ]
  },
  {
   "cell_type": "markdown",
   "id": "ea9ab416-68eb-4604-b8d3-8416918daf80",
   "metadata": {
    "papermill": {},
    "tags": []
   },
   "source": [
    "### Display result"
   ]
  },
  {
   "cell_type": "code",
   "execution_count": null,
   "id": "1d0b799d-4597-48af-9abe-11e73e8659c9",
   "metadata": {
    "papermill": {},
    "tags": []
   },
   "source": "response = create_slide(presentation_id, slide_title, slide_text)\nprint(response.status_code)\nprint(response.json())",
   "outputs": []
  },
  {
   "cell_type": "markdown",
   "id": "c96dc86f-9af4-4385-b4c0-cb5eb92e331b",
   "metadata": {
    "papermill": {},
    "tags": []
   },
   "source": [
    " "
   ]
  }
 ],
 "metadata": {
  "kernelspec": {
   "display_name": "Python 3",
   "language": "python",
   "name": "python3"
  },
  "language_info": {
   "codemirror_mode": {
    "name": "ipython",
    "version": 3
   },
   "file_extension": ".py",
   "mimetype": "text/x-python",
   "name": "python",
   "nbconvert_exporter": "python",
   "pygments_lexer": "ipython3",
   "version": "3.9.6"
  },
  "widgets": {
   "application/vnd.jupyter.widget-state+json": {
    "state": {},
    "version_major": 2,
    "version_minor": 0
   }
  }
 },
 "nbformat": 4,
 "nbformat_minor": 5
}