{
 "cells": [
  {
   "cell_type": "markdown",
   "id": "a73ecba8-6ff9-4595-a057-cba26a9b2ff7",
   "metadata": {
    "papermill": {},
    "tags": []
   },
   "source": [
    "<img width=\"10%\" alt=\"Naas\" src=\"https://landen.imgix.net/jtci2pxwjczr/assets/5ice39g4.png?w=160\"/>"
   ]
  },
  {
   "cell_type": "markdown",
   "id": "44b8981a-6e44-4209-9fdc-c6e3708f428f",
   "metadata": {
    "papermill": {},
    "tags": []
   },
   "source": [
    "# Google Slides - Duplicate slide"
   ]
  },
  {
   "cell_type": "markdown",
   "id": "7f014a99-5503-469a-9833-b9d03b78780c",
   "metadata": {
    "papermill": {},
    "tags": []
   },
   "source": [
    "**Tags:** #googleslides #slides #duplicate #copy #presentation #slideshow"
   ]
  },
  {
   "cell_type": "markdown",
   "id": "96c10548-5ed1-421a-b825-fe90eb20da1f",
   "metadata": {
    "papermill": {},
    "tags": []
   },
   "source": [
    "**Author:** [Florent Ravenel](https://linkedin.com/in/florent-ravenel)"
   ]
  },
  {
   "cell_type": "markdown",
   "id": "2dc8a869-42a4-40bb-87d8-c8d5c0272eee",
   "metadata": {
    "papermill": {},
    "tags": []
   },
   "source": [
    "**Description:** This notebook explains how to duplicate a slide in Google Slides. It is usefull for organizations that need to quickly create a presentation with similar slides."
   ]
  },
  {
   "cell_type": "markdown",
   "id": "46fbdf38-efe7-445b-9853-9929f08c1be8",
   "metadata": {
    "papermill": {},
    "tags": []
   },
   "source": [
    "**References:**\n- [Google Slides - Duplicate a slide](https://support.google.com/docs/answer/9071445?hl=en)\n- [Google Slides - Create a presentation](https://support.google.com/docs/answer/181403?hl=en)"
   ]
  },
  {
   "cell_type": "markdown",
   "id": "8b66d300-4ede-4978-9b5c-373ed064eada",
   "metadata": {
    "papermill": {},
    "tags": []
   },
   "source": [
    "## Input"
   ]
  },
  {
   "cell_type": "markdown",
   "id": "08d206f9-efd9-441a-891a-2eabf5ce0081",
   "metadata": {
    "papermill": {},
    "tags": []
   },
   "source": [
    "### Import libraries"
   ]
  },
  {
   "cell_type": "code",
   "execution_count": null,
   "id": "c610c2b7-b57e-40df-b644-40aa35715274",
   "metadata": {
    "papermill": {},
    "tags": []
   },
   "source": "import gspread\nfrom oauth2client.service_account import ServiceAccountCredentials",
   "outputs": []
  },
  {
   "cell_type": "markdown",
   "id": "5a51e25c-db80-4e9e-b091-65b68318b077",
   "metadata": {
    "papermill": {},
    "tags": []
   },
   "source": [
    "### Setup Variables\n- `slide_id`: ID of the slide to duplicate"
   ]
  },
  {
   "cell_type": "code",
   "execution_count": null,
   "id": "a1d836ce-4621-4dc5-a7b6-7df698ad6800",
   "metadata": {
    "papermill": {},
    "tags": []
   },
   "source": "slide_id = \"123456789\"",
   "outputs": []
  },
  {
   "cell_type": "markdown",
   "id": "06d7d0b3-30ab-4186-b622-2fbbb559817d",
   "metadata": {
    "papermill": {},
    "tags": []
   },
   "source": [
    "## Model"
   ]
  },
  {
   "cell_type": "markdown",
   "id": "0363da7c-8422-4417-88d9-9838d8e8cf11",
   "metadata": {
    "papermill": {},
    "tags": []
   },
   "source": [
    "### Duplicate slide"
   ]
  },
  {
   "cell_type": "markdown",
   "id": "d3a446c8-a1b3-4847-96cb-84a40085201b",
   "metadata": {
    "papermill": {},
    "tags": []
   },
   "source": [
    "Duplicate a slide in Google Slides using the slide ID."
   ]
  },
  {
   "cell_type": "code",
   "execution_count": null,
   "id": "e7acfff2-0039-4677-81dd-77a2e5947be2",
   "metadata": {
    "papermill": {},
    "tags": []
   },
   "source": "slides.duplicate_slide(slide_id)",
   "outputs": []
  },
  {
   "cell_type": "markdown",
   "id": "2412f1fa-2ff8-42e8-a921-2fe8f267f775",
   "metadata": {
    "papermill": {},
    "tags": []
   },
   "source": [
    "## Output"
   ]
  },
  {
   "cell_type": "markdown",
   "id": "cc3b9254-14b6-4df1-a57a-131069d805e1",
   "metadata": {
    "papermill": {},
    "tags": []
   },
   "source": [
    "### Display result"
   ]
  },
  {
   "cell_type": "code",
   "execution_count": null,
   "id": "d7c68e61-964a-4885-8214-f1be121695cc",
   "metadata": {
    "papermill": {},
    "tags": []
   },
   "source": "print(\"Slide successfully duplicated!\")",
   "outputs": []
  }
 ],
 "metadata": {
  "kernelspec": {
   "display_name": "Python 3",
   "language": "python",
   "name": "python3"
  },
  "language_info": {
   "codemirror_mode": {
    "name": "ipython",
    "version": 3
   },
   "file_extension": ".py",
   "mimetype": "text/x-python",
   "name": "python",
   "nbconvert_exporter": "python",
   "pygments_lexer": "ipython3",
   "version": "3.9.6"
  },
  "widgets": {
   "application/vnd.jupyter.widget-state+json": {
    "state": {},
    "version_major": 2,
    "version_minor": 0
   }
  }
 },
 "nbformat": 4,
 "nbformat_minor": 5
}