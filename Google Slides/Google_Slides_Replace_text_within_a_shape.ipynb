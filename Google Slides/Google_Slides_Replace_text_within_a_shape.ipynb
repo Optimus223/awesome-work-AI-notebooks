{
 "cells": [
  {
   "cell_type": "markdown",
   "id": "6bb07741-64c5-4ea6-bf88-4af7f38879f8",
   "metadata": {
    "papermill": {},
    "tags": []
   },
   "source": [
    "<img width=\"10%\" alt=\"Naas\" src=\"https://landen.imgix.net/jtci2pxwjczr/assets/5ice39g4.png?w=160\"/>"
   ]
  },
  {
   "cell_type": "markdown",
   "id": "b34c16a9-24cb-46b6-b986-1b48cf7bc1cb",
   "metadata": {
    "papermill": {},
    "tags": []
   },
   "source": [
    "# Google Slides - Replace text within a shape"
   ]
  },
  {
   "cell_type": "markdown",
   "id": "280a4b28-04d1-404e-b717-58ab8b85ae0b",
   "metadata": {
    "papermill": {},
    "tags": []
   },
   "source": [
    "**Tags:** #googleslides #text #shape #replace #api #slides"
   ]
  },
  {
   "cell_type": "markdown",
   "id": "fb7a4f10-7290-43f7-a763-075cb55458d4",
   "metadata": {
    "papermill": {},
    "tags": []
   },
   "source": [
    "**Author:** [Florent Ravenel](http://linkedin.com/in/florent-ravenel)"
   ]
  },
  {
   "cell_type": "markdown",
   "id": "31819550-05d0-4547-bfe1-552aabe88ae2",
   "metadata": {
    "papermill": {},
    "tags": []
   },
   "source": [
    "**Description:** This notebook explains how to use the Slides API to modify the text content of a shape. It is usefull for organizations that need to quickly update text content in a shape."
   ]
  },
  {
   "cell_type": "markdown",
   "id": "505fe9cd-55e6-4e35-9eb6-ac3ad3a14b6f",
   "metadata": {
    "papermill": {},
    "tags": []
   },
   "source": [
    "**References:**\n- [Google Slides API](https://developers.google.com/slides/api/guides/styling)\n- [Google Slides API Documentation](https://developers.google.com/slides/how-tos/overview)"
   ]
  },
  {
   "cell_type": "markdown",
   "id": "7272ffbb-f0b1-46e2-bdd8-64787ca38de6",
   "metadata": {
    "papermill": {},
    "tags": []
   },
   "source": [
    "## Input"
   ]
  },
  {
   "cell_type": "markdown",
   "id": "e117706b-8c0c-4777-8b92-2b9db6abb397",
   "metadata": {
    "papermill": {},
    "tags": []
   },
   "source": [
    "### Import libraries"
   ]
  },
  {
   "cell_type": "code",
   "execution_count": null,
   "id": "02829f44-e786-49fa-8c91-b683c1abeec3",
   "metadata": {
    "papermill": {},
    "tags": []
   },
   "source": "import google.auth\nfrom google.auth.transport.requests import AuthorizedSession\nfrom googleapiclient.discovery import build",
   "outputs": []
  },
  {
   "cell_type": "markdown",
   "id": "d13344ed-90f9-4f5e-a345-4dc39feafb59",
   "metadata": {
    "papermill": {},
    "tags": []
   },
   "source": [
    "### Setup Variables\n- `credentials`: [Google credentials](https://developers.google.com/identity/protocols/oauth2/web-server#creatingcred)\n- `slides_service`: [Google Slides API](https://developers.google.com/slides/how-tos/overview)\n- `slide_id`: ID of the slide to be modified\n- `shape_id`: ID of the shape to be modified"
   ]
  },
  {
   "cell_type": "code",
   "execution_count": null,
   "id": "b123d27b-21fa-4981-9f35-d8098a318ecb",
   "metadata": {
    "papermill": {},
    "tags": []
   },
   "source": "credentials = google.auth.credentials.Credentials.from_service_account_file(\n    \"credentials.json\"\n)\nslides_service = build(\"slides\", \"v1\", credentials=credentials)\nslide_id = \"SLIDE_ID\"\nshape_id = \"SHAPE_ID\"",
   "outputs": []
  },
  {
   "cell_type": "markdown",
   "id": "8890b81e-12b6-4084-ae2b-9bf679d72f9a",
   "metadata": {
    "papermill": {},
    "tags": []
   },
   "source": [
    "## Model"
   ]
  },
  {
   "cell_type": "markdown",
   "id": "977b2942-a0b9-496a-abe0-4a0ded79551a",
   "metadata": {
    "papermill": {},
    "tags": []
   },
   "source": [
    "### Replace text within a shape"
   ]
  },
  {
   "cell_type": "markdown",
   "id": "5fcee891-1103-4e9f-ba7f-e02ccbc5411b",
   "metadata": {
    "papermill": {},
    "tags": []
   },
   "source": [
    "The Slides API lets you modify the text content of a shape. You can remove individual ranges of text, and you can insert text at a specific location."
   ]
  },
  {
   "cell_type": "code",
   "execution_count": null,
   "id": "15ff4bed-f80a-4936-b8ad-fc52967caf19",
   "metadata": {
    "papermill": {},
    "tags": []
   },
   "source": "# Replace all text in the shape\nrequests = [\n    {\n        \"replaceAllText\": {\n            \"containsText\": {\"text\": \"\", \"matchCase\": True},\n            \"replaceText\": \"Replaced Text\",\n        }\n    }\n]\n# Execute the request\nbody = {\"requests\": requests}\nresponse = (\n    slides_service.presentations()\n    .batchUpdate(presentationId=slide_id, body=body)\n    .execute()\n)",
   "outputs": []
  },
  {
   "cell_type": "markdown",
   "id": "a2d34fe9-790f-4185-9934-3b3133fde733",
   "metadata": {
    "papermill": {},
    "tags": []
   },
   "source": [
    "## Output"
   ]
  },
  {
   "cell_type": "markdown",
   "id": "b15cef87-e0be-46c3-8f96-59c1c33d1a85",
   "metadata": {
    "papermill": {},
    "tags": []
   },
   "source": [
    "### Display result"
   ]
  },
  {
   "cell_type": "code",
   "execution_count": null,
   "id": "492d19fb-5e40-4cbe-a7c6-09aab44c3117",
   "metadata": {
    "papermill": {},
    "tags": []
   },
   "source": "print(response)",
   "outputs": []
  }
 ],
 "metadata": {
  "kernelspec": {
   "display_name": "Python 3",
   "language": "python",
   "name": "python3"
  },
  "language_info": {
   "codemirror_mode": {
    "name": "ipython",
    "version": 3
   },
   "file_extension": ".py",
   "mimetype": "text/x-python",
   "name": "python",
   "nbconvert_exporter": "python",
   "pygments_lexer": "ipython3",
   "version": "3.9.6"
  },
  "widgets": {
   "application/vnd.jupyter.widget-state+json": {
    "state": {},
    "version_major": 2,
    "version_minor": 0
   }
  }
 },
 "nbformat": 4,
 "nbformat_minor": 5
}