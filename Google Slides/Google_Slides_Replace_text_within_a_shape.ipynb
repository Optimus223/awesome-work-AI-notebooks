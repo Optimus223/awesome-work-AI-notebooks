{
 "cells": [
  {
   "cell_type": "markdown",
   "id": "f5d57ed8-6f5e-442b-8838-3c72cba71038",
   "metadata": {
    "papermill": {},
    "tags": []
   },
   "source": [
    "<img width=\"10%\" alt=\"Naas\" src=\"https://landen.imgix.net/jtci2pxwjczr/assets/5ice39g4.png?w=160\"/>"
   ]
  },
  {
   "cell_type": "markdown",
   "id": "c9aec18a-34f9-4831-a290-b44161bd2c51",
   "metadata": {
    "papermill": {},
    "tags": []
   },
   "source": [
    "# Google Slides - Replace text within a shape"
   ]
  },
  {
   "cell_type": "markdown",
   "id": "adad5131-ef57-4f50-8078-38d060be9e99",
   "metadata": {
    "papermill": {},
    "tags": []
   },
   "source": [
    "**Tags:** #googleslides #text #shape #replace #api #slides"
   ]
  },
  {
   "cell_type": "markdown",
   "id": "f4edd486-7323-435b-bb41-8dde5dc0fd75",
   "metadata": {
    "papermill": {},
    "tags": []
   },
   "source": [
    "**Author:** [Florent Ravenel](http://linkedin.com/in/florent-ravenel)"
   ]
  },
  {
   "cell_type": "markdown",
   "id": "e335f966-a183-45ae-8e62-3e1bcceb0b98",
   "metadata": {
    "papermill": {},
    "tags": []
   },
   "source": [
    "**Description:** This notebook explains how to use the Slides API to modify the text content of a shape. It is usefull for organizations that need to quickly update text content in a shape."
   ]
  },
  {
   "cell_type": "markdown",
   "id": "1fd29409-ee9b-4b96-bc6d-b34ac3c5cdc2",
   "metadata": {
    "papermill": {},
    "tags": []
   },
   "source": [
    "**References:**\n- [Google Slides API](https://developers.google.com/slides/api/guides/styling)\n- [Google Slides API Documentation](https://developers.google.com/slides/how-tos/overview)"
   ]
  },
  {
   "cell_type": "markdown",
   "id": "d7652675-9441-4b37-a467-46a927e5f7a9",
   "metadata": {
    "papermill": {},
    "tags": []
   },
   "source": [
    "## Input"
   ]
  },
  {
   "cell_type": "markdown",
   "id": "41b89455-f1b9-477a-bf1f-8284c5822a89",
   "metadata": {
    "papermill": {},
    "tags": []
   },
   "source": [
    "### Import libraries"
   ]
  },
  {
   "cell_type": "code",
   "execution_count": null,
   "id": "aa39bd44-3d08-4118-82fa-7d1063f40eb8",
   "metadata": {
    "papermill": {},
    "tags": []
   },
   "source": "import google.auth\nfrom google.auth.transport.requests import AuthorizedSession\nfrom googleapiclient.discovery import build",
   "outputs": []
  },
  {
   "cell_type": "markdown",
   "id": "55833918-52a2-42d3-9773-ef95e46e3354",
   "metadata": {
    "papermill": {},
    "tags": []
   },
   "source": [
    "### Setup Variables\n- `credentials`: [Google credentials](https://developers.google.com/identity/protocols/oauth2/web-server#creatingcred)\n- `slides_service`: [Google Slides API](https://developers.google.com/slides/how-tos/overview)\n- `slide_id`: ID of the slide to be modified\n- `shape_id`: ID of the shape to be modified"
   ]
  },
  {
   "cell_type": "code",
   "execution_count": null,
   "id": "df664cdc-b514-4cee-b519-6735cf27bf5d",
   "metadata": {
    "papermill": {},
    "tags": []
   },
   "source": "credentials = google.auth.credentials.Credentials(token=None, **credentials)\nslides_service = build(\"slides\", \"v1\", credentials=credentials)\nslide_id = \"SLIDE_ID\"\nshape_id = \"SHAPE_ID\"",
   "outputs": []
  },
  {
   "cell_type": "markdown",
   "id": "b8522c99-df1f-4c6b-8e2d-bdb98184863c",
   "metadata": {
    "papermill": {},
    "tags": []
   },
   "source": [
    "## Model"
   ]
  },
  {
   "cell_type": "markdown",
   "id": "55befea1-b50b-4419-9a84-628d7c14f345",
   "metadata": {
    "papermill": {},
    "tags": []
   },
   "source": [
    "### Replace text within a shape"
   ]
  },
  {
   "cell_type": "markdown",
   "id": "2ca6bdc0-887d-4649-9c3d-53af1f9940ee",
   "metadata": {
    "papermill": {},
    "tags": []
   },
   "source": [
    "The Slides API lets you modify the text content of a shape. You can remove individual ranges of text, and you can insert text at a specific location."
   ]
  },
  {
   "cell_type": "code",
   "execution_count": null,
   "id": "b04c8a80-bf58-48a5-8fb4-f4e6160db6e0",
   "metadata": {
    "papermill": {},
    "tags": []
   },
   "source": "# Define the requests object\nrequests = [\n    {\n        \"replaceAllText\": {\n            \"containsText\": {\"text\": \"TEXT_TO_REPLACE\", \"matchCase\": True},\n            \"replaceText\": \"REPLACEMENT_TEXT\",\n        }\n    }\n]\n# Execute the request\nresponse = (\n    slides_service.presentations()\n    .batchUpdate(presentationId=slide_id, body={\"requests\": requests})\n    .execute()\n)\n# Print the response\nprint(\"Replaced text within shape with ID: {0}\".format(shape_id))",
   "outputs": []
  },
  {
   "cell_type": "markdown",
   "id": "74aa950f-8d76-4bd4-bf38-bf628a5e88f6",
   "metadata": {
    "papermill": {},
    "tags": []
   },
   "source": [
    "## Output"
   ]
  },
  {
   "cell_type": "markdown",
   "id": "11b8765e-a81d-41ea-9ce6-d077e9ef59bc",
   "metadata": {
    "papermill": {},
    "tags": []
   },
   "source": [
    "### Display result"
   ]
  },
  {
   "cell_type": "code",
   "execution_count": null,
   "id": "0605c769-4c09-4472-b354-fdcf0a3f464d",
   "metadata": {
    "papermill": {},
    "tags": []
   },
   "source": "print(response)",
   "outputs": []
  }
 ],
 "metadata": {
  "kernelspec": {
   "display_name": "Python 3",
   "language": "python",
   "name": "python3"
  },
  "language_info": {
   "codemirror_mode": {
    "name": "ipython",
    "version": 3
   },
   "file_extension": ".py",
   "mimetype": "text/x-python",
   "name": "python",
   "nbconvert_exporter": "python",
   "pygments_lexer": "ipython3",
   "version": "3.9.6"
  },
  "widgets": {
   "application/vnd.jupyter.widget-state+json": {
    "state": {},
    "version_major": 2,
    "version_minor": 0
   }
  }
 },
 "nbformat": 4,
 "nbformat_minor": 5
}