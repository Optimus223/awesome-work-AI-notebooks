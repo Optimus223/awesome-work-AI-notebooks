{
 "cells": [
  {
   "cell_type": "markdown",
   "id": "7d5fe892-c7f9-4256-ae68-9d92938a5818",
   "metadata": {
    "papermill": {},
    "tags": []
   },
   "source": [
    "<img width=\"10%\" alt=\"Naas\" src=\"https://landen.imgix.net/jtci2pxwjczr/assets/5ice39g4.png?w=160\"/>"
   ]
  },
  {
   "cell_type": "markdown",
   "id": "1bf61de5-f4b2-447b-b225-fd7ea7675456",
   "metadata": {
    "papermill": {},
    "tags": []
   },
   "source": [
    "# Google Slides - Create a blank presentation"
   ]
  },
  {
   "cell_type": "markdown",
   "id": "4369339a-bd8a-476c-8e37-d0313a15e1ec",
   "metadata": {
    "papermill": {},
    "tags": []
   },
   "source": [
    "**Tags:** #google #slides #presentation #create #blank #api"
   ]
  },
  {
   "cell_type": "markdown",
   "id": "f98d1b48-0ade-4893-a4b7-8150848113c6",
   "metadata": {
    "papermill": {},
    "tags": []
   },
   "source": [
    "**Author:** [Florent Ravenel](http://linkedin.com/in/florent-ravenel)"
   ]
  },
  {
   "cell_type": "markdown",
   "id": "09517615-515a-4af8-9a7d-fd9984f02eac",
   "metadata": {
    "papermill": {},
    "tags": []
   },
   "source": [
    "**Description:** This notebook creates a blank presentation with a specified title. It is usefull for organizations to quickly create a presentation with a specific title."
   ]
  },
  {
   "cell_type": "markdown",
   "id": "234d9cd1-41e4-41f9-b417-c14150eadd1d",
   "metadata": {
    "papermill": {},
    "tags": []
   },
   "source": [
    "**References:**\n- [Google Slides API](https://developers.google.com/slides/api/guides/presentations)\n- [Google Slides API Quickstart](https://developers.google.com/slides/quickstart/python)"
   ]
  },
  {
   "cell_type": "markdown",
   "id": "135848e4-ee39-4d70-9260-6124979d921e",
   "metadata": {
    "papermill": {},
    "tags": []
   },
   "source": [
    "## Input"
   ]
  },
  {
   "cell_type": "markdown",
   "id": "c5d8b47a-35e0-4a36-961a-2be47f2c4c1f",
   "metadata": {
    "papermill": {},
    "tags": []
   },
   "source": [
    "### Import libraries"
   ]
  },
  {
   "cell_type": "code",
   "execution_count": null,
   "id": "c3c58f75-4349-4055-9984-d61f9b816e6c",
   "metadata": {
    "papermill": {},
    "tags": []
   },
   "source": "import googleapiclient.discovery",
   "outputs": []
  },
  {
   "cell_type": "markdown",
   "id": "fb65284a-6318-4401-819f-bc07d546638a",
   "metadata": {
    "papermill": {},
    "tags": []
   },
   "source": [
    "### Setup Variables\n- `title`: Title of the presentation"
   ]
  },
  {
   "cell_type": "code",
   "execution_count": null,
   "id": "7f49f613-1935-4324-a935-528bd666d91b",
   "metadata": {
    "papermill": {},
    "tags": []
   },
   "source": "title = \"My Presentation\"",
   "outputs": []
  },
  {
   "cell_type": "markdown",
   "id": "0c7238bd-b2c4-45e4-a42d-69a24d036020",
   "metadata": {
    "papermill": {},
    "tags": []
   },
   "source": [
    "## Model"
   ]
  },
  {
   "cell_type": "markdown",
   "id": "ea0fd340-ea82-45fd-8c2e-74fd0b32066a",
   "metadata": {
    "papermill": {},
    "tags": []
   },
   "source": [
    "### Create a blank presentation"
   ]
  },
  {
   "cell_type": "markdown",
   "id": "f1b0f88e-e75f-4327-b247-8989f68c4d47",
   "metadata": {
    "papermill": {},
    "tags": []
   },
   "source": [
    "This function creates a blank presentation with a specified title."
   ]
  },
  {
   "cell_type": "code",
   "execution_count": null,
   "id": "9e9c4321-3bc9-4aff-acaa-63c82e7c853a",
   "metadata": {
    "papermill": {},
    "tags": []
   },
   "source": "def create_presentation(title):\n    # Create a presentation\n    presentation = {\"title\": title}\n    return presentation",
   "outputs": []
  },
  {
   "cell_type": "markdown",
   "id": "21671440-ba25-4985-8b07-b88293cb37da",
   "metadata": {
    "papermill": {},
    "tags": []
   },
   "source": [
    "## Output"
   ]
  },
  {
   "cell_type": "markdown",
   "id": "9e829eb4-a79c-4304-9daf-66a2d398f505",
   "metadata": {
    "papermill": {},
    "tags": []
   },
   "source": [
    "### Display result"
   ]
  },
  {
   "cell_type": "code",
   "execution_count": null,
   "id": "263f35f6-bd33-4700-85c6-eaaa084e2d7a",
   "metadata": {
    "papermill": {},
    "tags": []
   },
   "source": "presentation = create_presentation(title)\nprint(presentation)",
   "outputs": []
  },
  {
   "cell_type": "markdown",
   "id": "fa65511e-8656-481f-ac53-be140b8d699e",
   "metadata": {
    "papermill": {},
    "tags": []
   },
   "source": [
    " "
   ]
  }
 ],
 "metadata": {
  "kernelspec": {
   "display_name": "Python 3",
   "language": "python",
   "name": "python3"
  },
  "language_info": {
   "codemirror_mode": {
    "name": "ipython",
    "version": 3
   },
   "file_extension": ".py",
   "mimetype": "text/x-python",
   "name": "python",
   "nbconvert_exporter": "python",
   "pygments_lexer": "ipython3",
   "version": "3.9.6"
  },
  "widgets": {
   "application/vnd.jupyter.widget-state+json": {
    "state": {},
    "version_major": 2,
    "version_minor": 0
   }
  }
 },
 "nbformat": 4,
 "nbformat_minor": 5
}