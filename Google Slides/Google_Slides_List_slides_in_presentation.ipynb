{
 "cells": [
  {
   "cell_type": "markdown",
   "id": "54d4033c-4cf4-4cf2-94f6-427ed65302e6",
   "metadata": {
    "papermill": {},
    "tags": []
   },
   "source": [
    "<img width=\"10%\" alt=\"Naas\" src=\"https://landen.imgix.net/jtci2pxwjczr/assets/5ice39g4.png?w=160\"/>"
   ]
  },
  {
   "cell_type": "markdown",
   "id": "16071481-f0ec-420f-8c5c-f5a4a133091b",
   "metadata": {
    "papermill": {},
    "tags": []
   },
   "source": [
    "# Google Slides - List slides in presentation"
   ]
  },
  {
   "cell_type": "markdown",
   "id": "a629d6d0-b920-4b7f-80a9-3e37ccadade7",
   "metadata": {
    "papermill": {},
    "tags": []
   },
   "source": [
    "**Tags:** #googleslides #presentation #list #slides #python #api"
   ]
  },
  {
   "cell_type": "markdown",
   "id": "b0d5f706-0787-4f63-92bf-b33e3084fe25",
   "metadata": {
    "papermill": {},
    "tags": []
   },
   "source": [
    "**Author:** [Florent Ravenel](https://linkedin.com/in/florent-ravenel)"
   ]
  },
  {
   "cell_type": "markdown",
   "id": "97979593-b78f-4842-b7ef-07ce6e433989",
   "metadata": {
    "papermill": {},
    "tags": []
   },
   "source": [
    "**Description:** This notebook will list all the slides in a Google Slides presentation and is usefull for organizations that need to quickly access the content of a presentation."
   ]
  },
  {
   "cell_type": "markdown",
   "id": "9cdcd63f-2f58-468c-b8ba-1e3e7e9e41a9",
   "metadata": {
    "papermill": {},
    "tags": []
   },
   "source": [
    "**References:**\n- [Google Slides API Documentation](https://developers.google.com/slides/how-tos/overview)\n- [Google Slides API Python Quickstart](https://developers.google.com/slides/quickstart/python)"
   ]
  },
  {
   "cell_type": "markdown",
   "id": "c6cd7a96-ef06-46e3-a6ce-f899b941b81d",
   "metadata": {
    "papermill": {},
    "tags": []
   },
   "source": [
    "## Input"
   ]
  },
  {
   "cell_type": "markdown",
   "id": "fa33174e-f396-4a69-a464-434de515dd5f",
   "metadata": {
    "papermill": {},
    "tags": []
   },
   "source": [
    "### Import libraries"
   ]
  },
  {
   "cell_type": "code",
   "execution_count": null,
   "id": "1da4505e-b757-408d-ad32-950fb2662231",
   "metadata": {
    "papermill": {},
    "tags": []
   },
   "source": "import os\nimport google.auth\nfrom google.auth.transport.requests import AuthorizedSession\nfrom googleapiclient.discovery import build",
   "outputs": []
  },
  {
   "cell_type": "markdown",
   "id": "261d35d4-283d-43de-be52-66bc7e13b9a1",
   "metadata": {
    "papermill": {},
    "tags": []
   },
   "source": [
    "### Setup Variables\n- `slides_id`: ID of the Google Slides presentation"
   ]
  },
  {
   "cell_type": "code",
   "execution_count": null,
   "id": "312e063c-854c-4c56-a95e-c43d2879b82a",
   "metadata": {
    "papermill": {},
    "tags": []
   },
   "source": "slides_id = '1XyV_3j_3j_3j_3j_3j_3j_3j_3j_3j_3j_3j_3j_3j_3j_3j_3j_3j_3j_3j_3j_3j_3j_3j_3j_3j_3j_3j_3j_3j_3j_3j_3j_3j_3j_3j_3j_3j_3j_3j_3j_3j_3j_3j_3j_3j_3j_3j_3j_3j_3j_3j_3j_3j_3j_3j_3j_3j_3j_3j_3j_3j_3j_3j_3j_3j_3j_3j_3j_3j_3j_3j_3j_3j_3j_3j_3j_3j_3j_3j_3j_3j_3j_3j_3j_3j_3j_3j_3j_3j_3j_3j_3j_3j_3j_3j_3j_3j_3j_3j_3j_3j_3j_3j_3j_3j_3j_3j_3j_3j_3j_3j_3j_3j_3j_3j_3j_3j_3j_3j_3j_3j_3j_3j_3j_3j_3j_3j_3j_3j_3j_3j_3j_3j_3j_3j_3j_3j_3j_3j_3j_3j_3j_3j_3j_3j_3j_3j_3j_3j_3j_3j_3j_3j_3j_3j_3j_3j_3j_3j_3j_3j_3j_3j_3j_3j_3j_3j_3j_3j_3j_3j_3j_3j_3j_3j_3j_3j_3j_3j_3j_3j_3j_3j_3j_3j_3j_3j_3j_3j_3j_3j_3j_3j_3j_3j_3j_3j_3j_3j_3j_3j_3j_3j_3j_3j_3j_3j_3j_3j_3j_3j_3j_3j_3j_3j_3j_3j_3j_3j_3j_3j_3j_3j_3j_3j_3j_3j_3j_3j_3j_3j_3j_3j_3j_3j_3j_3j_3j_3j_3j_3j_3j_3j_3j_3j_3j_3j_3j_3j_3j_3j_3j_3j_3j_3j_3j_3j_3j_3j_3j_3j_3j_3j_3j_3j_3j_3j_3j_3j_3j_3j_3j_3j_3j_3j_3j_3j_3j_3j_3j_3j_3j_3j_3j_3j_3j_3j_3j_3j_3j_3j_3j_3j_3j_3j_3j_3j_3j_3j_3j_3j_3j_3j_3j_3j_3j_3j_3j_3j_3j_3j_3j_3j_3j_3j_3j_3j_3j_3j_3j_3j_3j_3j_3j_3j_3j_3j_3j_3j_3j_3j_3j_3j_3j_3j_3j_3j_3j_3j_3j_3j_3j_3j_3j_3j_3j_3j_3j_3j_3j_3j_3j_3j_3j_3j_3j_3j_3j_3j_3j_3j_3j_3j_3j_3j_3j_3j_3j_3j_3j_3j_3j_3j_3j_3j_3j_3j_3j_3j_3j_3j_3j_3j_3j_3j_3j_3j_3j_3j_3j_3j_3j_3j_3j_3j_3j_3j_3j_3j_3j_3j_3j_3j_3j_3j_3j_3j_3j_3j_3j_3j_3j_3j_3j_3j_3j_3j_3j_3j_3j_3j_3j_3j_3j_3j_3j_3j_3j_3j_3j_3j_3j_3j_3j_3j_3j_3j_3j_3j_3j_3j_3j_3j_3j_3j_3j_3j_3j_3j_3j_3j_3j_3j_3j_3j_3j_3j_3j_3j_3j_3j_3j_3j_3j_3j_3j_3j_3j_3j_3j_3j_3j_3j_3j_3j_3j_3j_3j_3j_3j_3j_3j_3j_3j_3j_3j_3j_3j_3j_3j_3j_3j_3j_3j_3j_3j_3j_3j_3j_3j_3j_3j_3j_3j_3j_3j_3j_3j_3j_3j_3j_3j_3j_3j_3j_3j_3j_3j_3j_3j_3j_3j_3j_3j_3j_3j_3j_3j_3j_3j_3j_3j_3j_3j_3j_3j_3j_3j_3j_3j_3j_3j_3j_3j_3j_3j_3j_3j_3j_3j_3j_3j_3j_3j_3j_3j_3j_3j_3j_3j_3j_3j_3j_3j_3j_3j_3j_3j_3j_3j_3j_3j_3j_3j_3j_3j_3j_3j_3j_3j_3j_3j_3j_3j_3j_3j_3j_3j_3j_3j_3j_3j_3j_3j_3j_3j_3j_3j_3j_3j_3j_3j_3j_3j_3j_3j_3j_3j_3j_3j",
   "outputs": []
  }
 ],
 "metadata": {
  "kernelspec": {
   "display_name": "Python 3",
   "language": "python",
   "name": "python3"
  },
  "language_info": {
   "codemirror_mode": {
    "name": "ipython",
    "version": 3
   },
   "file_extension": ".py",
   "mimetype": "text/x-python",
   "name": "python",
   "nbconvert_exporter": "python",
   "pygments_lexer": "ipython3",
   "version": "3.9.6"
  },
  "widgets": {
   "application/vnd.jupyter.widget-state+json": {
    "state": {},
    "version_major": 2,
    "version_minor": 0
   }
  }
 },
 "nbformat": 4,
 "nbformat_minor": 5
}