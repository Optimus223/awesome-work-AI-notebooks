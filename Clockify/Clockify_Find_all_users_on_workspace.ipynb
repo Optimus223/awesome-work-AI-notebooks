{
 "cells": [
  {
   "cell_type": "markdown",
   "id": "64a712e2-3a3e-49a7-aad8-727cfc40136b",
   "metadata": {
    "papermill": {},
    "tags": []
   },
   "source": [
    "<img width=\"10%\" alt=\"Naas\" src=\"https://landen.imgix.net/jtci2pxwjczr/assets/5ice39g4.png?w=160\"/>"
   ]
  },
  {
   "cell_type": "markdown",
   "id": "47714bfa-ccf6-40eb-91a1-00a3f069ab37",
   "metadata": {
    "papermill": {},
    "tags": []
   },
   "source": [
    "# Clockify - Find all users on workspace"
   ]
  },
  {
   "cell_type": "markdown",
   "id": "13012d74-9229-4900-bda7-a86aebbd727e",
   "metadata": {
    "papermill": {},
    "tags": []
   },
   "source": [
    "**Tags:** #clockify #workspace #users #find #api #python"
   ]
  },
  {
   "cell_type": "markdown",
   "id": "1e2c22ec-84b3-49da-b105-a761a87ff449",
   "metadata": {
    "papermill": {},
    "tags": []
   },
   "source": [
    "**Author:** [Florent Ravenel](https://www.linkedin.com/in/florent-ravenel/)"
   ]
  },
  {
   "cell_type": "markdown",
   "id": "43c7a52a-6f0f-486f-9533-c3508df123e2",
   "metadata": {
    "papermill": {},
    "tags": []
   },
   "source": [
    "**Description:** This notebook will show how to find all users on a workspace using Clockify API. It is usefull for organizations to get a list of all users on a workspace."
   ]
  },
  {
   "cell_type": "markdown",
   "id": "ab6f0b5e-761f-47fb-adfd-263e1b7ff297",
   "metadata": {
    "papermill": {},
    "tags": []
   },
   "source": [
    "**References:**\n- [Clockify API Documentation](https://docs.clockify.me/#tag/User/operation/getUsersOfWorkspace)"
   ]
  },
  {
   "cell_type": "markdown",
   "id": "f315e972-7157-4d31-a4fa-62eb14171da2",
   "metadata": {
    "papermill": {},
    "tags": []
   },
   "source": [
    "## Input"
   ]
  },
  {
   "cell_type": "markdown",
   "id": "2db8f40c-cee0-4ace-9f62-35c91be7c3ae",
   "metadata": {
    "papermill": {},
    "tags": []
   },
   "source": [
    "### Import libraries"
   ]
  },
  {
   "cell_type": "code",
   "execution_count": null,
   "id": "93011d44-2666-424d-bc8c-06f0a7e1bc09",
   "metadata": {
    "papermill": {},
    "tags": []
   },
   "source": "import requests",
   "outputs": []
  },
  {
   "cell_type": "markdown",
   "id": "794240ac-be15-425e-b083-8fa00c0ce655",
   "metadata": {
    "papermill": {},
    "tags": []
   },
   "source": [
    "### Setup Variables\n- `workspace_id`: ID of the workspace to get users from.\n- `api_key`: API key to access Clockify API. [How to get an API key](https://clockify.me/developers-api#the-basics)."
   ]
  },
  {
   "cell_type": "code",
   "execution_count": null,
   "id": "584cdcc2-6716-4c92-8f33-61b3b77c4a8b",
   "metadata": {
    "papermill": {},
    "tags": []
   },
   "source": "workspace_id = \"5f3f9f9f9f9f9f9f9f9f9f9f\"\napi_key = \"abcdefghijklmnopqrstuvwxyz\"",
   "outputs": []
  },
  {
   "cell_type": "markdown",
   "id": "5e9cddb7-feb7-4e56-a09b-77f62972e310",
   "metadata": {
    "papermill": {},
    "tags": []
   },
   "source": [
    "## Model"
   ]
  },
  {
   "cell_type": "markdown",
   "id": "f0433a41-f108-4c37-939f-d4a38045c7c3",
   "metadata": {
    "papermill": {},
    "tags": []
   },
   "source": [
    "### Get users from workspace"
   ]
  },
  {
   "cell_type": "markdown",
   "id": "e7279bab-d1c7-497a-8c3d-e3230efd6a9e",
   "metadata": {
    "papermill": {},
    "tags": []
   },
   "source": [
    "This function will get all users from a workspace using Clockify API."
   ]
  },
  {
   "cell_type": "code",
   "execution_count": null,
   "id": "74043bc1-d8f7-4ba9-a948-67228e5c8fd8",
   "metadata": {
    "papermill": {},
    "tags": []
   },
   "source": "def get_users_from_workspace(workspace_id, api_key):\n    url = f\"https://api.clockify.me/api/workspaces/{workspace_id}/users\"\n    headers = {\"X-Api-Key\": api_key}\n    response = requests.get(url, headers=headers)\n    return response.json()",
   "outputs": []
  },
  {
   "cell_type": "markdown",
   "id": "1d8a36fc-7893-4798-9107-bba582556b84",
   "metadata": {
    "papermill": {},
    "tags": []
   },
   "source": [
    "## Output"
   ]
  },
  {
   "cell_type": "markdown",
   "id": "15bc5626-9c1b-4860-a56f-c17d4fe1cbfd",
   "metadata": {
    "papermill": {},
    "tags": []
   },
   "source": [
    "### Display result"
   ]
  },
  {
   "cell_type": "code",
   "execution_count": null,
   "id": "a7f9a09c-90d4-4b33-bc81-217ffd68ef71",
   "metadata": {
    "papermill": {},
    "tags": []
   },
   "source": "users = get_users_from_workspace(workspace_id, api_key)\nprint(users)",
   "outputs": []
  }
 ],
 "metadata": {
  "kernelspec": {
   "display_name": "Python 3",
   "language": "python",
   "name": "python3"
  },
  "language_info": {
   "codemirror_mode": {
    "name": "ipython",
    "version": 3
   },
   "file_extension": ".py",
   "mimetype": "text/x-python",
   "name": "python",
   "nbconvert_exporter": "python",
   "pygments_lexer": "ipython3",
   "version": "3.9.6"
  },
  "widgets": {
   "application/vnd.jupyter.widget-state+json": {
    "state": {},
    "version_major": 2,
    "version_minor": 0
   }
  }
 },
 "nbformat": 4,
 "nbformat_minor": 5
}