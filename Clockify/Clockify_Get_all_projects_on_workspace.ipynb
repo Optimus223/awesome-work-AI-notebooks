{
 "cells": [
  {
   "cell_type": "markdown",
   "id": "742717e2-f5bc-444e-8619-8a3a4f1ad120",
   "metadata": {
    "papermill": {},
    "tags": []
   },
   "source": [
    "<img width=\"10%\" alt=\"Naas\" src=\"https://landen.imgix.net/jtci2pxwjczr/assets/5ice39g4.png?w=160\"/>"
   ]
  },
  {
   "cell_type": "markdown",
   "id": "13f76b21-c823-4736-9f03-ccfda5630a1d",
   "metadata": {
    "papermill": {},
    "tags": []
   },
   "source": [
    "# Clockify - Get all projects on workspace\n",
    "<a href=\"https://app.naas.ai/user-redirect/naas/downloader?url=https://raw.githubusercontent.com/jupyter-naas/awesome-notebooks/master/Clockify/Clockify_Get_all_projects_on_workspace.ipynb\" target=\"_parent\"><img src=\"https://naasai-public.s3.eu-west-3.amazonaws.com/open_in_naas.svg\"/></a><br><br><a href=\"https://github.com/jupyter-naas/awesome-notebooks/issues/new?assignees=&labels=&template=template-request.md&title=Tool+-+Action+of+the+notebook+\">Template request</a> | <a href=\"https://github.com/jupyter-naas/awesome-notebooks/issues/new?assignees=&labels=bug&template=bug_report.md&title=Clockify+-+Get+all+projects+on+workspace:+Error+short+description\">Bug report</a> | <a href=\"https://app.naas.ai/user-redirect/naas/downloader?url=https://raw.githubusercontent.com/jupyter-naas/awesome-notebooks/master/Naas/Naas_Start_data_product.ipynb\" target=\"_parent\">Generate Data Product</a>"
   ]
  },
  {
   "cell_type": "markdown",
   "id": "52388c8c-99a5-4e7b-8d17-1570b14dbb9a",
   "metadata": {
    "papermill": {},
    "tags": []
   },
   "source": [
    "**Tags:** #clockify #api #projects #workspace #get #python"
   ]
  },
  {
   "cell_type": "markdown",
   "id": "0cc286a3-fab5-41da-a30a-de942c8bb52c",
   "metadata": {
    "papermill": {},
    "tags": []
   },
   "source": [
    "**Author:** [Florent Ravenel](http://linkedin.com/in/florent-ravenel)"
   ]
  },
  {
   "cell_type": "markdown",
   "id": "6178e577-7796-436b-9b86-8761484a421c",
   "metadata": {
    "papermill": {},
    "tags": []
   },
   "source": [
    "**Description:** This notebook will show how to get all projects on a workspace using the Clockify API and return a dict."
   ]
  },
  {
   "cell_type": "markdown",
   "id": "28017f82-948a-438d-af3d-63926d3a4357",
   "metadata": {
    "papermill": {},
    "tags": []
   },
   "source": [
    "**References:**\n",
    "- [Clockify API Documentation](https://docs.clockify.me/#tag/Project/operation/getProjects)"
   ]
  },
  {
   "cell_type": "markdown",
   "id": "44310b5f-dffc-42b7-bbaf-9c69f4ff653f",
   "metadata": {
    "papermill": {},
    "tags": []
   },
   "source": [
    "## Input"
   ]
  },
  {
   "cell_type": "markdown",
   "id": "0cfc2aa1-7059-4b34-9f14-d9651c4b4563",
   "metadata": {
    "papermill": {},
    "tags": []
   },
   "source": [
    "### Import libraries"
   ]
  },
  {
   "cell_type": "code",
   "execution_count": 1,
   "id": "49e7a169-4bff-473c-b0c1-4c93b049cefa",
   "metadata": {
    "execution": {
     "iopub.execute_input": "2023-05-17T17:46:18.924429Z",
     "iopub.status.busy": "2023-05-17T17:46:18.924005Z",
     "iopub.status.idle": "2023-05-17T17:46:24.018429Z",
     "shell.execute_reply": "2023-05-17T17:46:24.017739Z",
     "shell.execute_reply.started": "2023-05-17T17:46:18.924360Z"
    },
    "papermill": {},
    "tags": []
   },
   "outputs": [],
   "source": [
    "import requests\n",
    "import naas\n",
    "from pprint import pprint"
   ]
  },
  {
   "cell_type": "markdown",
   "id": "ea340388-3f02-4312-bd64-b052ed6c68b5",
   "metadata": {
    "papermill": {},
    "tags": []
   },
   "source": [
    "### Setup Variables\n",
    "- `api_key`: [Get your API key](https://clockify.me/user/settings)\n",
    "- `workspace_id`: ID of the workspace"
   ]
  },
  {
   "cell_type": "code",
   "execution_count": 2,
   "id": "d4d9851c-be04-4a59-bd15-f25e9bbbe71b",
   "metadata": {
    "execution": {
     "iopub.execute_input": "2023-05-17T17:46:24.020837Z",
     "iopub.status.busy": "2023-05-17T17:46:24.020665Z",
     "iopub.status.idle": "2023-05-17T17:46:24.160625Z",
     "shell.execute_reply": "2023-05-17T17:46:24.159931Z",
     "shell.execute_reply.started": "2023-05-17T17:46:24.020817Z"
    },
    "papermill": {},
    "tags": []
   },
   "outputs": [],
   "source": [
    "api_key = naas.secret.get(\"CLOCKIFY_API_KEY\") or \"YOUR_API_KEY\"\n",
    "workspace_id = \"626f9e3b36c2670314c0386e\" #\"<WORKSPACE_ID>\""
   ]
  },
  {
   "cell_type": "markdown",
   "id": "4441d7ad-007d-418b-a89b-06d1454ca5ee",
   "metadata": {
    "papermill": {},
    "tags": []
   },
   "source": [
    "## Model"
   ]
  },
  {
   "cell_type": "markdown",
   "id": "0625355d-b900-4840-85ed-67477f8e615f",
   "metadata": {
    "papermill": {},
    "tags": []
   },
   "source": [
    "### Get all projects on workspace"
   ]
  },
  {
   "cell_type": "markdown",
   "id": "f077352f-3bea-401b-9c2e-ee5d205054ae",
   "metadata": {
    "papermill": {},
    "tags": []
   },
   "source": [
    "This function will get all projects on a workspace using the Clockify API."
   ]
  },
  {
   "cell_type": "code",
   "execution_count": 3,
   "id": "c8b20332-1611-422b-8f84-37bf1b4144ce",
   "metadata": {
    "execution": {
     "iopub.execute_input": "2023-05-17T17:46:24.162068Z",
     "iopub.status.busy": "2023-05-17T17:46:24.161796Z",
     "iopub.status.idle": "2023-05-17T17:46:24.261915Z",
     "shell.execute_reply": "2023-05-17T17:46:24.261381Z",
     "shell.execute_reply.started": "2023-05-17T17:46:24.162035Z"
    },
    "papermill": {},
    "tags": []
   },
   "outputs": [],
   "source": [
    "def get_projects(api_key, workspace_id):\n",
    "    url = f\"https://api.clockify.me/api/v1/workspaces/{workspace_id}/projects\"\n",
    "    headers = {\"X-Api-Key\": api_key}\n",
    "    response = requests.get(url, headers=headers)\n",
    "    return response.json()\n",
    "\n",
    "projects = get_projects(api_key, workspace_id)"
   ]
  },
  {
   "cell_type": "markdown",
   "id": "2d0fbe59-ace3-4270-8a1a-0f5adbfb9ebf",
   "metadata": {
    "papermill": {},
    "tags": []
   },
   "source": [
    "## Output"
   ]
  },
  {
   "cell_type": "markdown",
   "id": "7ecef857-661a-480c-855a-3e468b658f91",
   "metadata": {
    "papermill": {},
    "tags": []
   },
   "source": [
    "### Display result"
   ]
  },
  {
   "cell_type": "code",
   "execution_count": 4,
   "id": "0b96033c-7b95-4776-a9d1-790741cd0804",
   "metadata": {
    "execution": {
     "iopub.execute_input": "2023-05-17T17:46:24.263151Z",
     "iopub.status.busy": "2023-05-17T17:46:24.262908Z",
     "iopub.status.idle": "2023-05-17T17:46:24.300601Z",
     "shell.execute_reply": "2023-05-17T17:46:24.300035Z",
     "shell.execute_reply.started": "2023-05-17T17:46:24.263119Z"
    },
    "papermill": {},
    "tags": []
   },
   "outputs": [
    {
     "name": "stdout",
     "output_type": "stream",
     "text": [
      "Projects found: 35 \n",
      "\n",
      "- Admin (id: 62ea33a97edb1761ccccbc11)\n",
      "- Admin (id: 6461edd4931d187e78740ffd)\n",
      "- Community Management (id: 626ff09d1541a9131641ef13)\n",
      "- Content Creation (id: 626fefb51541a9131641e1d6)\n",
      "- Customer success (id: 63490abc98d3761140e0f8e9)\n",
      "- Customer success - Arista (id: 626ff000f87fd71e0e23ca57)\n",
      "- Customer success - Asgard (id: 626ff132736b43623aeece9c)\n",
      "- Customer success - Clue (id: 626fefecf87fd71e0e23c91c)\n",
      "- Customer success - Kayzu (id: 626ff1a6736b43623aeed562)\n",
      "- Customer success - Pronto (id: 626ff071f87fd71e0e23d0f8)\n",
      "- Data Product Marketplace (id: 637e3121e9eca632b62aee58)\n",
      "- Drivers (id: 637e30629639e61a3c852ca9)\n",
      "- Engine update (id: 627155c8736b43623afe3f3b)\n",
      "- Formation Alexandre (id: 6447721860d9e515477325f3)\n",
      "- Formation Excel (id: 645a28793b9ce854f9d0795c)\n",
      "- Formation Fabrice (id: 63d8bd19eb52e615026b8230)\n",
      "- Infrastructure (id: 642d62a055074e2f295e8377)\n",
      "- JORO (id: 642410d506dabe44190ad693)\n",
      "- Metrics (id: 63037f905ec87677f0904bf6)\n",
      "- Migration YARDI (id: 63c7acbf978e3a0c21495f24)\n",
      "- My Econtroller (id: 63862781bf21f203727dbb3c)\n",
      "- My New Project (id: 6465128cb3aa2432050af887)\n",
      "- Platform (id: 636a73439ddd1626891e7e84)\n",
      "- Product Analytics (id: 63037f7e457236175e5f10eb)\n",
      "- Product scaling (id: 626fef9b1541a9131641e08f)\n",
      "- Rapport Kashmir (id: 63c7accfe9c4093aadaad98a)\n",
      "- Référentiels (id: 63c7ac83978e3a0c21495757)\n",
      "- Sales & Partnerships (id: 626fef7036c2670314c51867)\n",
      "- Sourcing (id: 63c7ace8eef4d6110b8cba9b)\n",
      "- Strategy (id: 626ff2c4736b43623aeee69d)\n",
      "- Suivi AM-PM (id: 6424111906dabe44190ade69)\n",
      "- Suivi Charges (id: 63c7acfde9c4093aadaae016)\n",
      "- Suivi Trésorerie (id: 63c7acafeef4d6110b8cb29e)\n",
      "- Templates Factory (id: 636ac2a83686ee5fd617e69f)\n",
      "- User Management (id: 626fef851541a9131641df70)\n",
      "\n",
      "{'archived': False,\n",
      " 'billable': False,\n",
      " 'budgetEstimate': None,\n",
      " 'clientId': '626fef6d1541a9131641de2d',\n",
      " 'clientName': 'Naas',\n",
      " 'color': '#000000',\n",
      " 'costRate': None,\n",
      " 'duration': 'PT15H29M33S',\n",
      " 'estimate': {'estimate': 'PT0S', 'type': 'AUTO'},\n",
      " 'hourlyRate': {'amount': 0, 'currency': 'USD'},\n",
      " 'id': '62ea33a97edb1761ccccbc11',\n",
      " 'memberships': [{'costRate': None,\n",
      "                  'hourlyRate': None,\n",
      "                  'membershipStatus': 'ACTIVE',\n",
      "                  'membershipType': 'PROJECT',\n",
      "                  'targetId': '62ea33a97edb1761ccccbc11',\n",
      "                  'userId': '626fa819f87fd71e0e1f392c'}],\n",
      " 'name': 'Admin',\n",
      " 'note': '',\n",
      " 'public': True,\n",
      " 'template': False,\n",
      " 'timeEstimate': {'active': False,\n",
      "                  'estimate': 'PT0S',\n",
      "                  'includeNonBillable': True,\n",
      "                  'resetOption': None,\n",
      "                  'type': 'AUTO'},\n",
      " 'workspaceId': '626f9e3b36c2670314c0386e'}\n"
     ]
    }
   ],
   "source": [
    "print(\"Projects found:\", len(projects), \"\\n\")\n",
    "for project in projects:\n",
    "    print(\"-\", project[\"name\"], f'(id: {project[\"id\"]})')\n",
    "if len(projects) > 0:\n",
    "    print()\n",
    "    pprint(projects[0])"
   ]
  },
  {
   "cell_type": "markdown",
   "id": "5d1800ce-e1c8-46b9-87be-0775461e4069",
   "metadata": {
    "papermill": {},
    "tags": []
   },
   "source": [
    " "
   ]
  }
 ],
 "metadata": {
  "kernelspec": {
   "display_name": "Python 3",
   "language": "python",
   "name": "python3"
  },
  "language_info": {
   "codemirror_mode": {
    "name": "ipython",
    "version": 3
   },
   "file_extension": ".py",
   "mimetype": "text/x-python",
   "name": "python",
   "nbconvert_exporter": "python",
   "pygments_lexer": "ipython3",
   "version": "3.9.6"
  },
  "papermill": {
   "default_parameters": {},
   "environment_variables": {},
   "parameters": {},
   "version": "2.4.0"
  },
  "widgets": {
   "application/vnd.jupyter.widget-state+json": {
    "state": {},
    "version_major": 2,
    "version_minor": 0
   }
  }
 },
 "nbformat": 4,
 "nbformat_minor": 5
}
