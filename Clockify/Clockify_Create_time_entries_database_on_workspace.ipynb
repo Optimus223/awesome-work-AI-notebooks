{
 "cells": [
  {
   "cell_type": "markdown",
   "id": "13999d9a-2399-4aa6-8b9f-6f652dc86aa0",
   "metadata": {
    "papermill": {},
    "tags": []
   },
   "source": [
    "<img width=\"10%\" alt=\"Naas\" src=\"https://landen.imgix.net/jtci2pxwjczr/assets/5ice39g4.png?w=160\"/>"
   ]
  },
  {
   "cell_type": "markdown",
   "id": "e6027d4d-b5ed-4ccb-acdd-4e16d3dc1260",
   "metadata": {
    "papermill": {},
    "tags": []
   },
   "source": [
    "# Clockify - Create time entries database on a workspace"
   ]
  },
  {
   "cell_type": "markdown",
   "id": "257024e1-32ec-4839-b454-65998b09aacb",
   "metadata": {
    "papermill": {},
    "tags": []
   },
   "source": [
    "**Tags:** #clockify #timeentry #database #workspace #user #create"
   ]
  },
  {
   "cell_type": "markdown",
   "id": "0e20bf2b-b066-4b09-b928-d33d3e825e84",
   "metadata": {
    "papermill": {},
    "tags": []
   },
   "source": [
    "**Author:** [Florent Ravenel](https://www.linkedin.com/in/florent-ravenel/)"
   ]
  },
  {
   "cell_type": "markdown",
   "id": "951e313a-ad2f-442d-a210-baf752a6b6b8",
   "metadata": {
    "papermill": {},
    "tags": []
   },
   "source": [
    "**Last update:** 2023-07-26 (Created: 2023-07-26)"
   ]
  },
  {
   "cell_type": "markdown",
   "id": "c316565f-97c2-4ba8-b36b-d528839b6e01",
   "metadata": {
    "papermill": {},
    "tags": []
   },
   "source": [
    "**Description:** This notebook creates a time entries database on a specific timeframe, adding client, project and task name. It is usefull for organizations to track time entries and optimize their workflow."
   ]
  },
  {
   "cell_type": "markdown",
   "id": "73a21c0f-e3c8-4a2d-a8ff-db3f374843d4",
   "metadata": {
    "papermill": {},
    "tags": []
   },
   "source": [
    "**References:**\n",
    "- [Clockify API Documentation](https://docs.clockify.me/#tag/Time-entry/operation/getTimeEntries)"
   ]
  },
  {
   "cell_type": "markdown",
   "id": "36eb9c81-abdb-4740-b2b7-9e3cfc32ad3c",
   "metadata": {
    "papermill": {},
    "tags": []
   },
   "source": [
    "## Input"
   ]
  },
  {
   "cell_type": "markdown",
   "id": "3e1ec914-1999-4afe-9df5-ef1e0f639df7",
   "metadata": {
    "papermill": {},
    "tags": []
   },
   "source": [
    "### Import libraries"
   ]
  },
  {
   "cell_type": "code",
   "execution_count": 39,
   "id": "d4a77a73-317d-43cd-a232-be9e2d564631",
   "metadata": {
    "execution": {
     "iopub.execute_input": "2023-07-26T14:57:16.924797Z",
     "iopub.status.busy": "2023-07-26T14:57:16.924549Z",
     "iopub.status.idle": "2023-07-26T14:57:16.928290Z",
     "shell.execute_reply": "2023-07-26T14:57:16.927645Z",
     "shell.execute_reply.started": "2023-07-26T14:57:16.924764Z"
    },
    "papermill": {},
    "tags": []
   },
   "outputs": [],
   "source": [
    "import requests\n",
    "import naas\n",
    "import pandas as pd\n",
    "from datetime import datetime"
   ]
  },
  {
   "cell_type": "markdown",
   "id": "f275809a-cf0b-4e5a-90a4-3f7c733f661a",
   "metadata": {
    "papermill": {},
    "tags": []
   },
   "source": [
    "### Setup Variables\n",
    "- `api_key`: [Get your API key](https://clockify.me/user/settings)\n",
    "- `workspace_id`: ID of the workspace\n",
    "- `user_id`: ID of the user to get time entries from\n",
    "- `start_date`: Start date of the timeframe to create the time entries database\n",
    "- `end_date`: End date of the timeframe to create the time entries database"
   ]
  },
  {
   "cell_type": "code",
   "execution_count": 47,
   "id": "25fef98d-9511-45fe-a688-bb7d96716bcd",
   "metadata": {
    "execution": {
     "iopub.execute_input": "2023-07-26T15:07:19.241210Z",
     "iopub.status.busy": "2023-07-26T15:07:19.240979Z",
     "iopub.status.idle": "2023-07-26T15:07:19.377214Z",
     "shell.execute_reply": "2023-07-26T15:07:19.376546Z",
     "shell.execute_reply.started": "2023-07-26T15:07:19.241188Z"
    },
    "papermill": {},
    "tags": []
   },
   "outputs": [],
   "source": [
    "api_key = naas.secret.get(\"CLOCKIFY_API_KEY\") or \"YOUR_API_KEY\"\n",
    "workspace_id = \"626f9e3b36c2670314c0386e\" #\"<WORKSPACE_ID>\"\n",
    "start_date = \"2023-01-01\"\n",
    "end_date = datetime.now().astimezone().isoformat()#.strftime(\"%Y-%m-%d\")"
   ]
  },
  {
   "cell_type": "markdown",
   "id": "9520d274-a372-437c-b706-eef533af6ef5",
   "metadata": {
    "papermill": {},
    "tags": []
   },
   "source": [
    "## Model"
   ]
  },
  {
   "cell_type": "markdown",
   "id": "64dbc113-f9db-4564-8296-7b9254b62383",
   "metadata": {},
   "source": [
    "### Function: Flatten the nested dict"
   ]
  },
  {
   "cell_type": "code",
   "execution_count": 48,
   "id": "87f40957-5e9d-40ac-bf0d-7a9c688d23d5",
   "metadata": {
    "execution": {
     "iopub.execute_input": "2023-07-26T15:07:20.235825Z",
     "iopub.status.busy": "2023-07-26T15:07:20.235561Z",
     "iopub.status.idle": "2023-07-26T15:07:20.240071Z",
     "shell.execute_reply": "2023-07-26T15:07:20.239383Z",
     "shell.execute_reply.started": "2023-07-26T15:07:20.235778Z"
    },
    "tags": []
   },
   "outputs": [],
   "source": [
    "# Flatten the nested dict\n",
    "def flatten_dict(d, parent_key='', sep='_'):\n",
    "    \"\"\"\n",
    "    Flattens a nested dictionary into a single level dictionary.\n",
    "\n",
    "    Args:\n",
    "        d (dict): A nested dictionary.\n",
    "        parent_key (str): Optional string to prefix the keys with.\n",
    "        sep (str): Optional separator to use between parent_key and child_key.\n",
    "\n",
    "    Returns:\n",
    "        dict: A flattened dictionary.\n",
    "    \"\"\"\n",
    "    items = []\n",
    "    for k, v in d.items():\n",
    "        new_key = f\"{parent_key}{sep}{k}\" if parent_key else k\n",
    "        if isinstance(v, dict):\n",
    "            items.extend(flatten_dict(v, new_key, sep=sep).items())\n",
    "        else:\n",
    "            items.append((new_key, v))\n",
    "    return dict(items)"
   ]
  },
  {
   "cell_type": "markdown",
   "id": "0ee83844-3835-4d22-93c5-a840b20b7250",
   "metadata": {},
   "source": [
    "### Function: Get referentials from workspace"
   ]
  },
  {
   "cell_type": "code",
   "execution_count": 49,
   "id": "2d181e8d-d167-4bc4-a04d-b7bbd96efe8b",
   "metadata": {
    "execution": {
     "iopub.execute_input": "2023-07-26T15:07:21.196666Z",
     "iopub.status.busy": "2023-07-26T15:07:21.196422Z",
     "iopub.status.idle": "2023-07-26T15:07:21.201949Z",
     "shell.execute_reply": "2023-07-26T15:07:21.201265Z",
     "shell.execute_reply.started": "2023-07-26T15:07:21.196642Z"
    },
    "tags": []
   },
   "outputs": [],
   "source": [
    "def get_data(api_key, workspace_id, endpoint):\n",
    "    # Init\n",
    "    page = 1\n",
    "    df = pd.DataFrame()\n",
    "    \n",
    "    while True:\n",
    "        # Requests\n",
    "        url = f\"https://api.clockify.me/api/v1/workspaces/{workspace_id}/{endpoint}\"\n",
    "        headers = {\n",
    "            \"X-Api-Key\": api_key\n",
    "        }\n",
    "        params = {\n",
    "            \"page\": page,\n",
    "            \"page-size\": 100\n",
    "        }\n",
    "        res = requests.get(url, headers=headers, params=params)\n",
    "        data = res.json()\n",
    "        if len(data) > 0:\n",
    "            for d in data:\n",
    "                res = flatten_dict(d)\n",
    "                tmp_df = pd.DataFrame([res])\n",
    "                df = pd.concat([df, tmp_df])\n",
    "        else:\n",
    "            break\n",
    "        page += 1\n",
    "    return df.reset_index(drop=True)"
   ]
  },
  {
   "cell_type": "markdown",
   "id": "aad582ab-a11b-4c60-b82b-95264cbe598a",
   "metadata": {},
   "source": [
    "### Get all projects"
   ]
  },
  {
   "cell_type": "code",
   "execution_count": 50,
   "id": "1e40b2db-8e4a-4fc5-829a-9bd8e7816d83",
   "metadata": {
    "execution": {
     "iopub.execute_input": "2023-07-26T15:07:22.361820Z",
     "iopub.status.busy": "2023-07-26T15:07:22.361583Z",
     "iopub.status.idle": "2023-07-26T15:07:22.690789Z",
     "shell.execute_reply": "2023-07-26T15:07:22.690065Z",
     "shell.execute_reply.started": "2023-07-26T15:07:22.361795Z"
    },
    "tags": []
   },
   "outputs": [
    {
     "name": "stdout",
     "output_type": "stream",
     "text": [
      "Projects fetched: 34\n"
     ]
    },
    {
     "data": {
      "text/html": [
       "<div>\n",
       "<style scoped>\n",
       "    .dataframe tbody tr th:only-of-type {\n",
       "        vertical-align: middle;\n",
       "    }\n",
       "\n",
       "    .dataframe tbody tr th {\n",
       "        vertical-align: top;\n",
       "    }\n",
       "\n",
       "    .dataframe thead th {\n",
       "        text-align: right;\n",
       "    }\n",
       "</style>\n",
       "<table border=\"1\" class=\"dataframe\">\n",
       "  <thead>\n",
       "    <tr style=\"text-align: right;\">\n",
       "      <th></th>\n",
       "      <th>id</th>\n",
       "      <th>name</th>\n",
       "      <th>hourlyRate_amount</th>\n",
       "      <th>hourlyRate_currency</th>\n",
       "      <th>clientId</th>\n",
       "      <th>workspaceId</th>\n",
       "      <th>billable</th>\n",
       "      <th>memberships</th>\n",
       "      <th>color</th>\n",
       "      <th>estimate_estimate</th>\n",
       "      <th>...</th>\n",
       "      <th>note</th>\n",
       "      <th>costRate</th>\n",
       "      <th>timeEstimate_estimate</th>\n",
       "      <th>timeEstimate_type</th>\n",
       "      <th>timeEstimate_resetOption</th>\n",
       "      <th>timeEstimate_active</th>\n",
       "      <th>timeEstimate_includeNonBillable</th>\n",
       "      <th>budgetEstimate</th>\n",
       "      <th>public</th>\n",
       "      <th>template</th>\n",
       "    </tr>\n",
       "  </thead>\n",
       "  <tbody>\n",
       "    <tr>\n",
       "      <th>0</th>\n",
       "      <td>62ea33a97edb1761ccccbc11</td>\n",
       "      <td>Admin</td>\n",
       "      <td>0</td>\n",
       "      <td>USD</td>\n",
       "      <td>626fef6d1541a9131641de2d</td>\n",
       "      <td>626f9e3b36c2670314c0386e</td>\n",
       "      <td>False</td>\n",
       "      <td>[{'userId': '626fa819f87fd71e0e1f392c', 'hourl...</td>\n",
       "      <td>#000000</td>\n",
       "      <td>PT0S</td>\n",
       "      <td>...</td>\n",
       "      <td></td>\n",
       "      <td>None</td>\n",
       "      <td>PT0S</td>\n",
       "      <td>AUTO</td>\n",
       "      <td>None</td>\n",
       "      <td>False</td>\n",
       "      <td>True</td>\n",
       "      <td>None</td>\n",
       "      <td>True</td>\n",
       "      <td>False</td>\n",
       "    </tr>\n",
       "  </tbody>\n",
       "</table>\n",
       "<p>1 rows × 24 columns</p>\n",
       "</div>"
      ],
      "text/plain": [
       "                         id   name  hourlyRate_amount hourlyRate_currency  \\\n",
       "0  62ea33a97edb1761ccccbc11  Admin                  0                 USD   \n",
       "\n",
       "                   clientId               workspaceId  billable  \\\n",
       "0  626fef6d1541a9131641de2d  626f9e3b36c2670314c0386e     False   \n",
       "\n",
       "                                         memberships    color  \\\n",
       "0  [{'userId': '626fa819f87fd71e0e1f392c', 'hourl...  #000000   \n",
       "\n",
       "  estimate_estimate  ... note  costRate timeEstimate_estimate  \\\n",
       "0              PT0S  ...           None                  PT0S   \n",
       "\n",
       "  timeEstimate_type timeEstimate_resetOption timeEstimate_active  \\\n",
       "0              AUTO                     None               False   \n",
       "\n",
       "  timeEstimate_includeNonBillable budgetEstimate public  template  \n",
       "0                            True           None   True     False  \n",
       "\n",
       "[1 rows x 24 columns]"
      ]
     },
     "execution_count": 50,
     "metadata": {},
     "output_type": "execute_result"
    }
   ],
   "source": [
    "df_projects = get_data(api_key, workspace_id, \"projects\")\n",
    "print(\"Projects fetched:\", len(df_projects))\n",
    "df_projects.head(1)"
   ]
  },
  {
   "cell_type": "markdown",
   "id": "3d436d11-eab5-40d3-8899-57acf27312dc",
   "metadata": {},
   "source": [
    "### Get all clients"
   ]
  },
  {
   "cell_type": "code",
   "execution_count": 51,
   "id": "fd31b887-3258-40d7-aa3a-19b4cb3d66be",
   "metadata": {
    "execution": {
     "iopub.execute_input": "2023-07-26T15:07:24.124554Z",
     "iopub.status.busy": "2023-07-26T15:07:24.124251Z",
     "iopub.status.idle": "2023-07-26T15:07:24.332540Z",
     "shell.execute_reply": "2023-07-26T15:07:24.331724Z",
     "shell.execute_reply.started": "2023-07-26T15:07:24.124524Z"
    },
    "tags": []
   },
   "outputs": [
    {
     "name": "stdout",
     "output_type": "stream",
     "text": [
      "Clients fetched: 12\n"
     ]
    },
    {
     "data": {
      "text/html": [
       "<div>\n",
       "<style scoped>\n",
       "    .dataframe tbody tr th:only-of-type {\n",
       "        vertical-align: middle;\n",
       "    }\n",
       "\n",
       "    .dataframe tbody tr th {\n",
       "        vertical-align: top;\n",
       "    }\n",
       "\n",
       "    .dataframe thead th {\n",
       "        text-align: right;\n",
       "    }\n",
       "</style>\n",
       "<table border=\"1\" class=\"dataframe\">\n",
       "  <thead>\n",
       "    <tr style=\"text-align: right;\">\n",
       "      <th></th>\n",
       "      <th>id</th>\n",
       "      <th>name</th>\n",
       "      <th>email</th>\n",
       "      <th>workspaceId</th>\n",
       "      <th>archived</th>\n",
       "      <th>address</th>\n",
       "      <th>note</th>\n",
       "    </tr>\n",
       "  </thead>\n",
       "  <tbody>\n",
       "    <tr>\n",
       "      <th>0</th>\n",
       "      <td>626fefff1541a9131641e5fc</td>\n",
       "      <td>Arista</td>\n",
       "      <td>None</td>\n",
       "      <td>626f9e3b36c2670314c0386e</td>\n",
       "      <td>False</td>\n",
       "      <td>None</td>\n",
       "      <td>None</td>\n",
       "    </tr>\n",
       "  </tbody>\n",
       "</table>\n",
       "</div>"
      ],
      "text/plain": [
       "                         id    name email               workspaceId  archived  \\\n",
       "0  626fefff1541a9131641e5fc  Arista  None  626f9e3b36c2670314c0386e     False   \n",
       "\n",
       "  address  note  \n",
       "0    None  None  "
      ]
     },
     "execution_count": 51,
     "metadata": {},
     "output_type": "execute_result"
    }
   ],
   "source": [
    "df_clients = get_data(api_key, workspace_id, \"clients\")\n",
    "print(\"Clients fetched:\", len(df_clients))\n",
    "df_clients.head(1)"
   ]
  },
  {
   "cell_type": "markdown",
   "id": "76b0f06f-1a10-4c4d-9255-98b63b4de6bf",
   "metadata": {},
   "source": [
    "### Get all users"
   ]
  },
  {
   "cell_type": "code",
   "execution_count": 43,
   "id": "7f7c4e7a-0046-4dfe-b5f8-e9771ae3ad6a",
   "metadata": {
    "execution": {
     "iopub.execute_input": "2023-07-26T14:57:22.138041Z",
     "iopub.status.busy": "2023-07-26T14:57:22.137779Z",
     "iopub.status.idle": "2023-07-26T14:57:22.372289Z",
     "shell.execute_reply": "2023-07-26T14:57:22.371725Z",
     "shell.execute_reply.started": "2023-07-26T14:57:22.138016Z"
    },
    "tags": []
   },
   "outputs": [
    {
     "name": "stdout",
     "output_type": "stream",
     "text": [
      "Workspaces fetched: 9\n"
     ]
    },
    {
     "data": {
      "text/html": [
       "<div>\n",
       "<style scoped>\n",
       "    .dataframe tbody tr th:only-of-type {\n",
       "        vertical-align: middle;\n",
       "    }\n",
       "\n",
       "    .dataframe tbody tr th {\n",
       "        vertical-align: top;\n",
       "    }\n",
       "\n",
       "    .dataframe thead th {\n",
       "        text-align: right;\n",
       "    }\n",
       "</style>\n",
       "<table border=\"1\" class=\"dataframe\">\n",
       "  <thead>\n",
       "    <tr style=\"text-align: right;\">\n",
       "      <th></th>\n",
       "      <th>id</th>\n",
       "      <th>email</th>\n",
       "      <th>name</th>\n",
       "      <th>memberships</th>\n",
       "      <th>profilePicture</th>\n",
       "      <th>activeWorkspace</th>\n",
       "      <th>defaultWorkspace</th>\n",
       "      <th>settings_weekStart</th>\n",
       "      <th>settings_timeZone</th>\n",
       "      <th>settings_timeFormat</th>\n",
       "      <th>...</th>\n",
       "      <th>settings_myStartOfDay</th>\n",
       "      <th>settings_projectPickerTaskFilter</th>\n",
       "      <th>settings_lang</th>\n",
       "      <th>settings_multiFactorEnabled</th>\n",
       "      <th>settings_theme</th>\n",
       "      <th>settings_scheduling</th>\n",
       "      <th>settings_onboarding</th>\n",
       "      <th>settings_showOnlyWorkingDays</th>\n",
       "      <th>status</th>\n",
       "      <th>customFields</th>\n",
       "    </tr>\n",
       "  </thead>\n",
       "  <tbody>\n",
       "    <tr>\n",
       "      <th>0</th>\n",
       "      <td>643d11b8d00ede21e7bb0732</td>\n",
       "      <td>bijo.babu@bridge-global.com</td>\n",
       "      <td>Bijo Babu</td>\n",
       "      <td>[]</td>\n",
       "      <td>https://img.clockify.me/no-user-image.png</td>\n",
       "      <td>626f9e3b36c2670314c0386e</td>\n",
       "      <td>626f9e3b36c2670314c0386e</td>\n",
       "      <td>MONDAY</td>\n",
       "      <td>Asia/Calcutta</td>\n",
       "      <td>HOUR24</td>\n",
       "      <td>...</td>\n",
       "      <td>09:00</td>\n",
       "      <td>False</td>\n",
       "      <td>EN</td>\n",
       "      <td>False</td>\n",
       "      <td>DEFAULT</td>\n",
       "      <td>True</td>\n",
       "      <td>True</td>\n",
       "      <td>False</td>\n",
       "      <td>ACTIVE</td>\n",
       "      <td>[]</td>\n",
       "    </tr>\n",
       "  </tbody>\n",
       "</table>\n",
       "<p>1 rows × 39 columns</p>\n",
       "</div>"
      ],
      "text/plain": [
       "                         id                        email       name  \\\n",
       "0  643d11b8d00ede21e7bb0732  bijo.babu@bridge-global.com  Bijo Babu   \n",
       "\n",
       "  memberships                             profilePicture  \\\n",
       "0          []  https://img.clockify.me/no-user-image.png   \n",
       "\n",
       "            activeWorkspace          defaultWorkspace settings_weekStart  \\\n",
       "0  626f9e3b36c2670314c0386e  626f9e3b36c2670314c0386e             MONDAY   \n",
       "\n",
       "  settings_timeZone settings_timeFormat  ... settings_myStartOfDay  \\\n",
       "0     Asia/Calcutta              HOUR24  ...                 09:00   \n",
       "\n",
       "   settings_projectPickerTaskFilter  settings_lang  \\\n",
       "0                             False             EN   \n",
       "\n",
       "   settings_multiFactorEnabled  settings_theme  settings_scheduling  \\\n",
       "0                        False         DEFAULT                 True   \n",
       "\n",
       "   settings_onboarding  settings_showOnlyWorkingDays  status  customFields  \n",
       "0                 True                         False  ACTIVE            []  \n",
       "\n",
       "[1 rows x 39 columns]"
      ]
     },
     "execution_count": 43,
     "metadata": {},
     "output_type": "execute_result"
    }
   ],
   "source": [
    "df_users = get_data(api_key, workspace_id, \"users\")\n",
    "print(\"Workspaces fetched:\", len(df_users))\n",
    "df_users.head(1)"
   ]
  },
  {
   "cell_type": "markdown",
   "id": "73314dab-6a39-43ff-8ce6-d294675f0f43",
   "metadata": {
    "papermill": {},
    "tags": []
   },
   "source": [
    "### Get time entries"
   ]
  },
  {
   "cell_type": "code",
   "execution_count": 45,
   "id": "8c6c4f77-88a1-4a3d-ab1a-9ff81934ee75",
   "metadata": {
    "execution": {
     "iopub.execute_input": "2023-07-26T15:01:45.126502Z",
     "iopub.status.busy": "2023-07-26T15:01:45.126273Z",
     "iopub.status.idle": "2023-07-26T15:01:50.218883Z",
     "shell.execute_reply": "2023-07-26T15:01:50.215654Z",
     "shell.execute_reply.started": "2023-07-26T15:01:45.126479Z"
    },
    "tags": []
   },
   "outputs": [
    {
     "name": "stderr",
     "output_type": "stream",
     "text": [
      "<ipython-input-45-642a23947dd1>:52: FutureWarning: In a future version, object-dtype columns with all-bool values will not be included in reductions with bool_only=True. Explicitly cast to bool dtype instead.\n",
      "  database = pd.concat([database, df_time_entries]).reset_index(drop=True)\n"
     ]
    },
    {
     "name": "stdout",
     "output_type": "stream",
     "text": [
      "Time entries fetched: 1441\n"
     ]
    },
    {
     "name": "stderr",
     "output_type": "stream",
     "text": [
      "<ipython-input-45-642a23947dd1>:52: FutureWarning: In a future version, object-dtype columns with all-bool values will not be included in reductions with bool_only=True. Explicitly cast to bool dtype instead.\n",
      "  database = pd.concat([database, df_time_entries]).reset_index(drop=True)\n"
     ]
    },
    {
     "data": {
      "text/html": [
       "<div>\n",
       "<style scoped>\n",
       "    .dataframe tbody tr th:only-of-type {\n",
       "        vertical-align: middle;\n",
       "    }\n",
       "\n",
       "    .dataframe tbody tr th {\n",
       "        vertical-align: top;\n",
       "    }\n",
       "\n",
       "    .dataframe thead th {\n",
       "        text-align: right;\n",
       "    }\n",
       "</style>\n",
       "<table border=\"1\" class=\"dataframe\">\n",
       "  <thead>\n",
       "    <tr style=\"text-align: right;\">\n",
       "      <th></th>\n",
       "      <th>user_name</th>\n",
       "      <th>user_email</th>\n",
       "      <th>id</th>\n",
       "      <th>description</th>\n",
       "      <th>tagIds</th>\n",
       "      <th>userId</th>\n",
       "      <th>billable</th>\n",
       "      <th>taskId</th>\n",
       "      <th>projectId</th>\n",
       "      <th>timeInterval_start</th>\n",
       "      <th>timeInterval_end</th>\n",
       "      <th>timeInterval_duration</th>\n",
       "      <th>workspaceId</th>\n",
       "      <th>isLocked</th>\n",
       "      <th>customFieldValues</th>\n",
       "      <th>type</th>\n",
       "      <th>kioskId</th>\n",
       "    </tr>\n",
       "  </thead>\n",
       "  <tbody>\n",
       "    <tr>\n",
       "      <th>0</th>\n",
       "      <td>Bijo Babu</td>\n",
       "      <td>bijo.babu@bridge-global.com</td>\n",
       "      <td>64c0fc6e9479511b7231e331</td>\n",
       "      <td>#430 Hide regenerate response when no messages</td>\n",
       "      <td>None</td>\n",
       "      <td>643d11b8d00ede21e7bb0732</td>\n",
       "      <td>False</td>\n",
       "      <td>None</td>\n",
       "      <td>636a73439ddd1626891e7e84</td>\n",
       "      <td>2023-07-26T10:58:54Z</td>\n",
       "      <td>2023-07-26T12:21:03Z</td>\n",
       "      <td>PT1H22M9S</td>\n",
       "      <td>626f9e3b36c2670314c0386e</td>\n",
       "      <td>False</td>\n",
       "      <td>[]</td>\n",
       "      <td>REGULAR</td>\n",
       "      <td>None</td>\n",
       "    </tr>\n",
       "    <tr>\n",
       "      <th>1</th>\n",
       "      <td>Bijo Babu</td>\n",
       "      <td>bijo.babu@bridge-global.com</td>\n",
       "      <td>64c093fbc357e9197ee947d1</td>\n",
       "      <td>#426 feat: Improve how model are added and act...</td>\n",
       "      <td>None</td>\n",
       "      <td>643d11b8d00ede21e7bb0732</td>\n",
       "      <td>False</td>\n",
       "      <td>None</td>\n",
       "      <td>636a73439ddd1626891e7e84</td>\n",
       "      <td>2023-07-26T10:00:00Z</td>\n",
       "      <td>2023-07-26T10:30:00Z</td>\n",
       "      <td>PT30M</td>\n",
       "      <td>626f9e3b36c2670314c0386e</td>\n",
       "      <td>False</td>\n",
       "      <td>[]</td>\n",
       "      <td>REGULAR</td>\n",
       "      <td>None</td>\n",
       "    </tr>\n",
       "    <tr>\n",
       "      <th>2</th>\n",
       "      <td>Bijo Babu</td>\n",
       "      <td>bijo.babu@bridge-global.com</td>\n",
       "      <td>64c10c5089afca11f090766f</td>\n",
       "      <td>#426 feat: Improve how model are added and act...</td>\n",
       "      <td>None</td>\n",
       "      <td>643d11b8d00ede21e7bb0732</td>\n",
       "      <td>False</td>\n",
       "      <td>None</td>\n",
       "      <td>636a73439ddd1626891e7e84</td>\n",
       "      <td>2023-07-26T03:33:13Z</td>\n",
       "      <td>2023-07-26T09:53:50Z</td>\n",
       "      <td>PT6H20M37S</td>\n",
       "      <td>626f9e3b36c2670314c0386e</td>\n",
       "      <td>False</td>\n",
       "      <td>[]</td>\n",
       "      <td>REGULAR</td>\n",
       "      <td>None</td>\n",
       "    </tr>\n",
       "  </tbody>\n",
       "</table>\n",
       "</div>"
      ],
      "text/plain": [
       "   user_name                   user_email                        id  \\\n",
       "0  Bijo Babu  bijo.babu@bridge-global.com  64c0fc6e9479511b7231e331   \n",
       "1  Bijo Babu  bijo.babu@bridge-global.com  64c093fbc357e9197ee947d1   \n",
       "2  Bijo Babu  bijo.babu@bridge-global.com  64c10c5089afca11f090766f   \n",
       "\n",
       "                                         description tagIds  \\\n",
       "0     #430 Hide regenerate response when no messages   None   \n",
       "1  #426 feat: Improve how model are added and act...   None   \n",
       "2  #426 feat: Improve how model are added and act...   None   \n",
       "\n",
       "                     userId billable taskId                 projectId  \\\n",
       "0  643d11b8d00ede21e7bb0732    False   None  636a73439ddd1626891e7e84   \n",
       "1  643d11b8d00ede21e7bb0732    False   None  636a73439ddd1626891e7e84   \n",
       "2  643d11b8d00ede21e7bb0732    False   None  636a73439ddd1626891e7e84   \n",
       "\n",
       "     timeInterval_start      timeInterval_end timeInterval_duration  \\\n",
       "0  2023-07-26T10:58:54Z  2023-07-26T12:21:03Z             PT1H22M9S   \n",
       "1  2023-07-26T10:00:00Z  2023-07-26T10:30:00Z                 PT30M   \n",
       "2  2023-07-26T03:33:13Z  2023-07-26T09:53:50Z            PT6H20M37S   \n",
       "\n",
       "                workspaceId isLocked customFieldValues     type kioskId  \n",
       "0  626f9e3b36c2670314c0386e    False                []  REGULAR    None  \n",
       "1  626f9e3b36c2670314c0386e    False                []  REGULAR    None  \n",
       "2  626f9e3b36c2670314c0386e    False                []  REGULAR    None  "
      ]
     },
     "execution_count": 45,
     "metadata": {},
     "output_type": "execute_result"
    }
   ],
   "source": [
    "def get_time_entries(\n",
    "    api_key,\n",
    "    workspace_id,\n",
    "    user_id,\n",
    "    start_date,\n",
    "    end_date\n",
    "):\n",
    "    # Init\n",
    "    start_date = datetime.strptime(start_date, \"%Y-%m-%d\").astimezone().isoformat() # Format date\n",
    "    page = 1\n",
    "    df = pd.DataFrame()\n",
    "    \n",
    "    # Get raw data\n",
    "    while True:\n",
    "        url = f\"https://api.clockify.me/api/v1/workspaces/{workspace_id}/user/{user_id}/time-entries\"\n",
    "        headers = {\"X-Api-Key\": api_key}\n",
    "        params = {\n",
    "            \"start\": start_date,\n",
    "            \"end\": end_date,\n",
    "            \"page\": page,\n",
    "            \"page-size\": 100\n",
    "        }\n",
    "        res = requests.get(url, headers=headers, params=params)\n",
    "        data = res.json()\n",
    "        if len(data) > 0:\n",
    "            for d in data:\n",
    "                res = flatten_dict(d)\n",
    "                tmp_df = pd.DataFrame([res])\n",
    "                df = pd.concat([df, tmp_df])\n",
    "        else:\n",
    "            break\n",
    "        page += 1\n",
    "    return df.reset_index(drop=True)\n",
    "\n",
    "# Init\n",
    "database = pd.DataFrame()\n",
    "\n",
    "# Loop\n",
    "for row in df_users.itertuples():\n",
    "    user_id = row.id\n",
    "    user_name = row.name\n",
    "    user_email = row.email\n",
    "    \n",
    "    # Get entries\n",
    "    df_time_entries = get_time_entries(api_key, workspace_id, user_id, start_date, end_date)\n",
    "    \n",
    "    # Get data\n",
    "    df_time_entries.insert(loc=0, column=\"user_name\", value=user_name)\n",
    "    df_time_entries.insert(loc=1, column=\"user_email\", value=user_email)\n",
    "    \n",
    "    # Concat\n",
    "    database = pd.concat([database, df_time_entries]).reset_index(drop=True)\n",
    "    \n",
    "print(\"Time entries fetched:\", len(database))\n",
    "database.head(3)"
   ]
  },
  {
   "cell_type": "markdown",
   "id": "cfefada0-880a-4187-9008-293996ef6df0",
   "metadata": {},
   "source": [
    "### Enrich fields with project name, client name"
   ]
  },
  {
   "cell_type": "code",
   "execution_count": 56,
   "id": "b8b0e8dd-d621-4201-9c21-d248f5c03362",
   "metadata": {
    "execution": {
     "iopub.execute_input": "2023-07-26T15:09:36.790076Z",
     "iopub.status.busy": "2023-07-26T15:09:36.789854Z",
     "iopub.status.idle": "2023-07-26T15:09:36.812851Z",
     "shell.execute_reply": "2023-07-26T15:09:36.812318Z",
     "shell.execute_reply.started": "2023-07-26T15:09:36.790053Z"
    },
    "tags": []
   },
   "outputs": [
    {
     "name": "stdout",
     "output_type": "stream",
     "text": [
      "Time entries fetched: 1441\n"
     ]
    },
    {
     "data": {
      "text/html": [
       "<div>\n",
       "<style scoped>\n",
       "    .dataframe tbody tr th:only-of-type {\n",
       "        vertical-align: middle;\n",
       "    }\n",
       "\n",
       "    .dataframe tbody tr th {\n",
       "        vertical-align: top;\n",
       "    }\n",
       "\n",
       "    .dataframe thead th {\n",
       "        text-align: right;\n",
       "    }\n",
       "</style>\n",
       "<table border=\"1\" class=\"dataframe\">\n",
       "  <thead>\n",
       "    <tr style=\"text-align: right;\">\n",
       "      <th></th>\n",
       "      <th>user_name</th>\n",
       "      <th>user_email</th>\n",
       "      <th>id_x</th>\n",
       "      <th>description</th>\n",
       "      <th>tagIds</th>\n",
       "      <th>userId</th>\n",
       "      <th>billable</th>\n",
       "      <th>taskId</th>\n",
       "      <th>projectId</th>\n",
       "      <th>timeInterval_start</th>\n",
       "      <th>timeInterval_end</th>\n",
       "      <th>timeInterval_duration</th>\n",
       "      <th>workspaceId</th>\n",
       "      <th>isLocked</th>\n",
       "      <th>customFieldValues</th>\n",
       "      <th>type</th>\n",
       "      <th>kioskId</th>\n",
       "      <th>name</th>\n",
       "    </tr>\n",
       "  </thead>\n",
       "  <tbody>\n",
       "    <tr>\n",
       "      <th>0</th>\n",
       "      <td>Bijo Babu</td>\n",
       "      <td>bijo.babu@bridge-global.com</td>\n",
       "      <td>64c0fc6e9479511b7231e331</td>\n",
       "      <td>#430 Hide regenerate response when no messages</td>\n",
       "      <td>None</td>\n",
       "      <td>643d11b8d00ede21e7bb0732</td>\n",
       "      <td>False</td>\n",
       "      <td>None</td>\n",
       "      <td>636a73439ddd1626891e7e84</td>\n",
       "      <td>2023-07-26T10:58:54Z</td>\n",
       "      <td>2023-07-26T12:21:03Z</td>\n",
       "      <td>PT1H22M9S</td>\n",
       "      <td>626f9e3b36c2670314c0386e</td>\n",
       "      <td>False</td>\n",
       "      <td>[]</td>\n",
       "      <td>REGULAR</td>\n",
       "      <td>None</td>\n",
       "      <td>Platform</td>\n",
       "    </tr>\n",
       "    <tr>\n",
       "      <th>1</th>\n",
       "      <td>Bijo Babu</td>\n",
       "      <td>bijo.babu@bridge-global.com</td>\n",
       "      <td>64c093fbc357e9197ee947d1</td>\n",
       "      <td>#426 feat: Improve how model are added and act...</td>\n",
       "      <td>None</td>\n",
       "      <td>643d11b8d00ede21e7bb0732</td>\n",
       "      <td>False</td>\n",
       "      <td>None</td>\n",
       "      <td>636a73439ddd1626891e7e84</td>\n",
       "      <td>2023-07-26T10:00:00Z</td>\n",
       "      <td>2023-07-26T10:30:00Z</td>\n",
       "      <td>PT30M</td>\n",
       "      <td>626f9e3b36c2670314c0386e</td>\n",
       "      <td>False</td>\n",
       "      <td>[]</td>\n",
       "      <td>REGULAR</td>\n",
       "      <td>None</td>\n",
       "      <td>Platform</td>\n",
       "    </tr>\n",
       "    <tr>\n",
       "      <th>2</th>\n",
       "      <td>Bijo Babu</td>\n",
       "      <td>bijo.babu@bridge-global.com</td>\n",
       "      <td>64c10c5089afca11f090766f</td>\n",
       "      <td>#426 feat: Improve how model are added and act...</td>\n",
       "      <td>None</td>\n",
       "      <td>643d11b8d00ede21e7bb0732</td>\n",
       "      <td>False</td>\n",
       "      <td>None</td>\n",
       "      <td>636a73439ddd1626891e7e84</td>\n",
       "      <td>2023-07-26T03:33:13Z</td>\n",
       "      <td>2023-07-26T09:53:50Z</td>\n",
       "      <td>PT6H20M37S</td>\n",
       "      <td>626f9e3b36c2670314c0386e</td>\n",
       "      <td>False</td>\n",
       "      <td>[]</td>\n",
       "      <td>REGULAR</td>\n",
       "      <td>None</td>\n",
       "      <td>Platform</td>\n",
       "    </tr>\n",
       "  </tbody>\n",
       "</table>\n",
       "</div>"
      ],
      "text/plain": [
       "   user_name                   user_email                      id_x  \\\n",
       "0  Bijo Babu  bijo.babu@bridge-global.com  64c0fc6e9479511b7231e331   \n",
       "1  Bijo Babu  bijo.babu@bridge-global.com  64c093fbc357e9197ee947d1   \n",
       "2  Bijo Babu  bijo.babu@bridge-global.com  64c10c5089afca11f090766f   \n",
       "\n",
       "                                         description tagIds  \\\n",
       "0     #430 Hide regenerate response when no messages   None   \n",
       "1  #426 feat: Improve how model are added and act...   None   \n",
       "2  #426 feat: Improve how model are added and act...   None   \n",
       "\n",
       "                     userId billable taskId                 projectId  \\\n",
       "0  643d11b8d00ede21e7bb0732    False   None  636a73439ddd1626891e7e84   \n",
       "1  643d11b8d00ede21e7bb0732    False   None  636a73439ddd1626891e7e84   \n",
       "2  643d11b8d00ede21e7bb0732    False   None  636a73439ddd1626891e7e84   \n",
       "\n",
       "     timeInterval_start      timeInterval_end timeInterval_duration  \\\n",
       "0  2023-07-26T10:58:54Z  2023-07-26T12:21:03Z             PT1H22M9S   \n",
       "1  2023-07-26T10:00:00Z  2023-07-26T10:30:00Z                 PT30M   \n",
       "2  2023-07-26T03:33:13Z  2023-07-26T09:53:50Z            PT6H20M37S   \n",
       "\n",
       "                workspaceId isLocked customFieldValues     type kioskId  \\\n",
       "0  626f9e3b36c2670314c0386e    False                []  REGULAR    None   \n",
       "1  626f9e3b36c2670314c0386e    False                []  REGULAR    None   \n",
       "2  626f9e3b36c2670314c0386e    False                []  REGULAR    None   \n",
       "\n",
       "       name  \n",
       "0  Platform  \n",
       "1  Platform  \n",
       "2  Platform  "
      ]
     },
     "execution_count": 56,
     "metadata": {},
     "output_type": "execute_result"
    }
   ],
   "source": [
    "final_db = database.copy()\n",
    "\n",
    "# Final DB\n",
    "final_db = pd.merge(final_db, df_projects[[\"id\", \"name\"]], how=\"left\", left_on=\"projectId\", right_on=\"id\").drop(\"id_y\", axis=1)\n",
    "print(\"Time entries fetched:\", len(final_db))\n",
    "final_db.head(3)"
   ]
  },
  {
   "cell_type": "markdown",
   "id": "4a694a0b-4917-489f-b4f1-09f8db79ead3",
   "metadata": {
    "papermill": {},
    "tags": []
   },
   "source": [
    "## Output"
   ]
  },
  {
   "cell_type": "markdown",
   "id": "7c1d997e-5e24-4095-b681-496a8675ca12",
   "metadata": {
    "papermill": {},
    "tags": []
   },
   "source": [
    "### Display result"
   ]
  },
  {
   "cell_type": "markdown",
   "id": "c1e21bbf-d9c4-4dfc-931d-1a8941720f8f",
   "metadata": {
    "papermill": {},
    "tags": []
   },
   "source": [
    " "
   ]
  }
 ],
 "metadata": {
  "kernelspec": {
   "display_name": "Python 3",
   "language": "python",
   "name": "python3"
  },
  "language_info": {
   "codemirror_mode": {
    "name": "ipython",
    "version": 3
   },
   "file_extension": ".py",
   "mimetype": "text/x-python",
   "name": "python",
   "nbconvert_exporter": "python",
   "pygments_lexer": "ipython3",
   "version": "3.9.6"
  },
  "widgets": {
   "application/vnd.jupyter.widget-state+json": {
    "state": {},
    "version_major": 2,
    "version_minor": 0
   }
  }
 },
 "nbformat": 4,
 "nbformat_minor": 5
}
