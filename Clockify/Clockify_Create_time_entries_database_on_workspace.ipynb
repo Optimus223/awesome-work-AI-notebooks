{
 "cells": [
  {
   "cell_type": "markdown",
   "id": "13999d9a-2399-4aa6-8b9f-6f652dc86aa0",
   "metadata": {
    "papermill": {},
    "tags": []
   },
   "source": [
    "<img width=\"10%\" alt=\"Naas\" src=\"https://landen.imgix.net/jtci2pxwjczr/assets/5ice39g4.png?w=160\"/>"
   ]
  },
  {
   "cell_type": "markdown",
   "id": "e6027d4d-b5ed-4ccb-acdd-4e16d3dc1260",
   "metadata": {
    "papermill": {},
    "tags": []
   },
   "source": [
    "# Clockify - Create time entries database on a workspace"
   ]
  },
  {
   "cell_type": "markdown",
   "id": "257024e1-32ec-4839-b454-65998b09aacb",
   "metadata": {
    "papermill": {},
    "tags": []
   },
   "source": [
    "**Tags:** #clockify #timeentry #database #workspace #user #create"
   ]
  },
  {
   "cell_type": "markdown",
   "id": "0e20bf2b-b066-4b09-b928-d33d3e825e84",
   "metadata": {
    "papermill": {},
    "tags": []
   },
   "source": [
    "**Author:** [Florent Ravenel](https://www.linkedin.com/in/florent-ravenel/)"
   ]
  },
  {
   "cell_type": "markdown",
   "id": "951e313a-ad2f-442d-a210-baf752a6b6b8",
   "metadata": {
    "papermill": {},
    "tags": []
   },
   "source": [
    "**Last update:** 2023-07-26 (Created: 2023-07-26)"
   ]
  },
  {
   "cell_type": "markdown",
   "id": "c316565f-97c2-4ba8-b36b-d528839b6e01",
   "metadata": {
    "papermill": {},
    "tags": []
   },
   "source": [
    "**Description:** This notebook creates a time entries database on a specific timeframe, adding client, project and task name. It is usefull for organizations to track time entries and optimize their workflow."
   ]
  },
  {
   "cell_type": "markdown",
   "id": "73a21c0f-e3c8-4a2d-a8ff-db3f374843d4",
   "metadata": {
    "papermill": {},
    "tags": []
   },
   "source": [
    "**References:**\n",
    "- [Clockify API Documentation](https://docs.clockify.me/#tag/Time-entry/operation/getTimeEntries)"
   ]
  },
  {
   "cell_type": "markdown",
   "id": "36eb9c81-abdb-4740-b2b7-9e3cfc32ad3c",
   "metadata": {
    "papermill": {},
    "tags": []
   },
   "source": [
    "## Input"
   ]
  },
  {
   "cell_type": "markdown",
   "id": "3e1ec914-1999-4afe-9df5-ef1e0f639df7",
   "metadata": {
    "papermill": {},
    "tags": []
   },
   "source": [
    "### Import libraries"
   ]
  },
  {
   "cell_type": "code",
   "execution_count": 1,
   "id": "d4a77a73-317d-43cd-a232-be9e2d564631",
   "metadata": {
    "execution": {
     "iopub.execute_input": "2023-07-27T08:46:32.837053Z",
     "iopub.status.busy": "2023-07-27T08:46:32.836637Z",
     "iopub.status.idle": "2023-07-27T08:46:37.375686Z",
     "shell.execute_reply": "2023-07-27T08:46:37.375050Z",
     "shell.execute_reply.started": "2023-07-27T08:46:32.836969Z"
    },
    "papermill": {},
    "tags": []
   },
   "outputs": [],
   "source": [
    "import requests\n",
    "import naas\n",
    "import pandas as pd\n",
    "from datetime import datetime"
   ]
  },
  {
   "cell_type": "markdown",
   "id": "f275809a-cf0b-4e5a-90a4-3f7c733f661a",
   "metadata": {
    "papermill": {},
    "tags": []
   },
   "source": [
    "### Setup Variables\n",
    "- `api_key`: [Get your API key](https://clockify.me/user/settings)\n",
    "- `workspace_id`: ID of the workspace\n",
    "- `user_id`: ID of the user to get time entries from\n",
    "- `start_date`: Start date of the timeframe to create the time entries database\n",
    "- `end_date`: End date of the timeframe to create the time entries database"
   ]
  },
  {
   "cell_type": "code",
   "execution_count": 5,
   "id": "25fef98d-9511-45fe-a688-bb7d96716bcd",
   "metadata": {
    "execution": {
     "iopub.execute_input": "2023-07-27T08:47:03.196111Z",
     "iopub.status.busy": "2023-07-27T08:47:03.195568Z",
     "iopub.status.idle": "2023-07-27T08:47:03.328353Z",
     "shell.execute_reply": "2023-07-27T08:47:03.327666Z",
     "shell.execute_reply.started": "2023-07-27T08:47:03.195778Z"
    },
    "papermill": {},
    "tags": []
   },
   "outputs": [],
   "source": [
    "api_key = naas.secret.get(\"CLOCKIFY_API_KEY\") or \"YOUR_API_KEY\"\n",
    "workspace_id = \"626f9e3b36c2670314c0386e\" #\"<WORKSPACE_ID>\"\n",
    "start_date = \"2023-01-01\"\n",
    "end_date = datetime.now().astimezone().isoformat()#.strftime(\"%Y-%m-%d\")"
   ]
  },
  {
   "cell_type": "markdown",
   "id": "9520d274-a372-437c-b706-eef533af6ef5",
   "metadata": {
    "papermill": {},
    "tags": []
   },
   "source": [
    "## Model"
   ]
  },
  {
   "cell_type": "markdown",
   "id": "64dbc113-f9db-4564-8296-7b9254b62383",
   "metadata": {},
   "source": [
    "### Function: Flatten the nested dict"
   ]
  },
  {
   "cell_type": "code",
   "execution_count": 6,
   "id": "87f40957-5e9d-40ac-bf0d-7a9c688d23d5",
   "metadata": {
    "execution": {
     "iopub.execute_input": "2023-07-27T08:47:04.264966Z",
     "iopub.status.busy": "2023-07-27T08:47:04.264737Z",
     "iopub.status.idle": "2023-07-27T08:47:04.269015Z",
     "shell.execute_reply": "2023-07-27T08:47:04.268353Z",
     "shell.execute_reply.started": "2023-07-27T08:47:04.264943Z"
    },
    "tags": []
   },
   "outputs": [],
   "source": [
    "# Flatten the nested dict\n",
    "def flatten_dict(d, parent_key='', sep='_'):\n",
    "    \"\"\"\n",
    "    Flattens a nested dictionary into a single level dictionary.\n",
    "\n",
    "    Args:\n",
    "        d (dict): A nested dictionary.\n",
    "        parent_key (str): Optional string to prefix the keys with.\n",
    "        sep (str): Optional separator to use between parent_key and child_key.\n",
    "\n",
    "    Returns:\n",
    "        dict: A flattened dictionary.\n",
    "    \"\"\"\n",
    "    items = []\n",
    "    for k, v in d.items():\n",
    "        new_key = f\"{parent_key}{sep}{k}\" if parent_key else k\n",
    "        if isinstance(v, dict):\n",
    "            items.extend(flatten_dict(v, new_key, sep=sep).items())\n",
    "        else:\n",
    "            items.append((new_key, v))\n",
    "    return dict(items)"
   ]
  },
  {
   "cell_type": "markdown",
   "id": "0ee83844-3835-4d22-93c5-a840b20b7250",
   "metadata": {},
   "source": [
    "### Function: Get referentials from workspace"
   ]
  },
  {
   "cell_type": "code",
   "execution_count": 26,
   "id": "2d181e8d-d167-4bc4-a04d-b7bbd96efe8b",
   "metadata": {
    "execution": {
     "iopub.execute_input": "2023-07-27T08:55:05.205759Z",
     "iopub.status.busy": "2023-07-27T08:55:05.205529Z",
     "iopub.status.idle": "2023-07-27T08:55:05.212352Z",
     "shell.execute_reply": "2023-07-27T08:55:05.211738Z",
     "shell.execute_reply.started": "2023-07-27T08:55:05.205735Z"
    },
    "tags": []
   },
   "outputs": [],
   "source": [
    "def get_data(api_key, workspace_id, endpoint):\n",
    "    # Init\n",
    "    page = 1\n",
    "    df = pd.DataFrame()\n",
    "    \n",
    "    while True:\n",
    "        # Requests\n",
    "        url = f\"https://api.clockify.me/api/v1/workspaces/{workspace_id}/{endpoint}\"\n",
    "        headers = {\n",
    "            \"X-Api-Key\": api_key\n",
    "        }\n",
    "        params = {\n",
    "            \"page\": page,\n",
    "            \"page-size\": 100\n",
    "        }\n",
    "        res = requests.get(url, headers=headers, params=params)\n",
    "        data = res.json()\n",
    "        if len(data) > 0:\n",
    "            for d in data:\n",
    "                res = flatten_dict(d)\n",
    "                tmp_df = pd.DataFrame([res])\n",
    "                df = pd.concat([df, tmp_df])\n",
    "        else:\n",
    "            break\n",
    "        page += 1\n",
    "    return df.reset_index(drop=True)"
   ]
  },
  {
   "cell_type": "markdown",
   "id": "76b0f06f-1a10-4c4d-9255-98b63b4de6bf",
   "metadata": {},
   "source": [
    "### Get all users"
   ]
  },
  {
   "cell_type": "code",
   "execution_count": 29,
   "id": "7f7c4e7a-0046-4dfe-b5f8-e9771ae3ad6a",
   "metadata": {
    "execution": {
     "iopub.execute_input": "2023-07-27T08:55:11.309501Z",
     "iopub.status.busy": "2023-07-27T08:55:11.309149Z",
     "iopub.status.idle": "2023-07-27T08:55:11.663494Z",
     "shell.execute_reply": "2023-07-27T08:55:11.662757Z",
     "shell.execute_reply.started": "2023-07-27T08:55:11.309458Z"
    },
    "tags": []
   },
   "outputs": [
    {
     "name": "stdout",
     "output_type": "stream",
     "text": [
      "Users fetched: 9\n"
     ]
    },
    {
     "data": {
      "text/html": [
       "<div>\n",
       "<style scoped>\n",
       "    .dataframe tbody tr th:only-of-type {\n",
       "        vertical-align: middle;\n",
       "    }\n",
       "\n",
       "    .dataframe tbody tr th {\n",
       "        vertical-align: top;\n",
       "    }\n",
       "\n",
       "    .dataframe thead th {\n",
       "        text-align: right;\n",
       "    }\n",
       "</style>\n",
       "<table border=\"1\" class=\"dataframe\">\n",
       "  <thead>\n",
       "    <tr style=\"text-align: right;\">\n",
       "      <th></th>\n",
       "      <th>userId</th>\n",
       "      <th>userName</th>\n",
       "      <th>email</th>\n",
       "    </tr>\n",
       "  </thead>\n",
       "  <tbody>\n",
       "    <tr>\n",
       "      <th>0</th>\n",
       "      <td>643d11b8d00ede21e7bb0732</td>\n",
       "      <td>Bijo Babu</td>\n",
       "      <td>bijo.babu@bridge-global.com</td>\n",
       "    </tr>\n",
       "  </tbody>\n",
       "</table>\n",
       "</div>"
      ],
      "text/plain": [
       "                     userId   userName                        email\n",
       "0  643d11b8d00ede21e7bb0732  Bijo Babu  bijo.babu@bridge-global.com"
      ]
     },
     "execution_count": 29,
     "metadata": {},
     "output_type": "execute_result"
    }
   ],
   "source": [
    "df_users = get_data(api_key, workspace_id, \"users\")\n",
    "df_users = df_users.rename(columns={\"id\": \"userId\", \"name\": \"userName\"})\n",
    "df_users = df_users[[\"userId\", \"userName\", \"email\"]]\n",
    "print(\"Users fetched:\", len(df_users))\n",
    "df_users.head(1)"
   ]
  },
  {
   "cell_type": "markdown",
   "id": "73314dab-6a39-43ff-8ce6-d294675f0f43",
   "metadata": {
    "papermill": {},
    "tags": []
   },
   "source": [
    "### Get time entries"
   ]
  },
  {
   "cell_type": "code",
   "execution_count": 33,
   "id": "8c6c4f77-88a1-4a3d-ab1a-9ff81934ee75",
   "metadata": {
    "execution": {
     "iopub.execute_input": "2023-07-27T08:56:03.033238Z",
     "iopub.status.busy": "2023-07-27T08:56:03.032978Z",
     "iopub.status.idle": "2023-07-27T08:56:09.012794Z",
     "shell.execute_reply": "2023-07-27T08:56:09.012075Z",
     "shell.execute_reply.started": "2023-07-27T08:56:03.033206Z"
    },
    "tags": []
   },
   "outputs": [
    {
     "name": "stdout",
     "output_type": "stream",
     "text": [
      "Time entries fetched: 1446\n"
     ]
    },
    {
     "data": {
      "text/html": [
       "<div>\n",
       "<style scoped>\n",
       "    .dataframe tbody tr th:only-of-type {\n",
       "        vertical-align: middle;\n",
       "    }\n",
       "\n",
       "    .dataframe tbody tr th {\n",
       "        vertical-align: top;\n",
       "    }\n",
       "\n",
       "    .dataframe thead th {\n",
       "        text-align: right;\n",
       "    }\n",
       "</style>\n",
       "<table border=\"1\" class=\"dataframe\">\n",
       "  <thead>\n",
       "    <tr style=\"text-align: right;\">\n",
       "      <th></th>\n",
       "      <th>id</th>\n",
       "      <th>description</th>\n",
       "      <th>tagIds</th>\n",
       "      <th>userId</th>\n",
       "      <th>billable</th>\n",
       "      <th>taskId</th>\n",
       "      <th>projectId</th>\n",
       "      <th>timeInterval_start</th>\n",
       "      <th>timeInterval_end</th>\n",
       "      <th>timeInterval_duration</th>\n",
       "      <th>workspaceId</th>\n",
       "      <th>isLocked</th>\n",
       "      <th>customFieldValues</th>\n",
       "      <th>type</th>\n",
       "      <th>kioskId</th>\n",
       "    </tr>\n",
       "  </thead>\n",
       "  <tbody>\n",
       "    <tr>\n",
       "      <th>0</th>\n",
       "      <td>64c1e8bfc357e9197ef110d8</td>\n",
       "      <td>#428 Bugs using plugin: logo open ai not displ...</td>\n",
       "      <td>None</td>\n",
       "      <td>643d11b8d00ede21e7bb0732</td>\n",
       "      <td>False</td>\n",
       "      <td>None</td>\n",
       "      <td>636a73439ddd1626891e7e84</td>\n",
       "      <td>2023-07-27T03:47:09Z</td>\n",
       "      <td>2023-07-27T08:35:50Z</td>\n",
       "      <td>PT4H48M41S</td>\n",
       "      <td>626f9e3b36c2670314c0386e</td>\n",
       "      <td>False</td>\n",
       "      <td>[]</td>\n",
       "      <td>REGULAR</td>\n",
       "      <td>None</td>\n",
       "    </tr>\n",
       "    <tr>\n",
       "      <th>1</th>\n",
       "      <td>64c0fc6e9479511b7231e331</td>\n",
       "      <td>#430 Hide regenerate response when no messages</td>\n",
       "      <td>None</td>\n",
       "      <td>643d11b8d00ede21e7bb0732</td>\n",
       "      <td>False</td>\n",
       "      <td>None</td>\n",
       "      <td>636a73439ddd1626891e7e84</td>\n",
       "      <td>2023-07-26T10:58:54Z</td>\n",
       "      <td>2023-07-26T12:21:03Z</td>\n",
       "      <td>PT1H22M9S</td>\n",
       "      <td>626f9e3b36c2670314c0386e</td>\n",
       "      <td>False</td>\n",
       "      <td>[]</td>\n",
       "      <td>REGULAR</td>\n",
       "      <td>None</td>\n",
       "    </tr>\n",
       "    <tr>\n",
       "      <th>2</th>\n",
       "      <td>64c093fbc357e9197ee947d1</td>\n",
       "      <td>#426 feat: Improve how model are added and act...</td>\n",
       "      <td>None</td>\n",
       "      <td>643d11b8d00ede21e7bb0732</td>\n",
       "      <td>False</td>\n",
       "      <td>None</td>\n",
       "      <td>636a73439ddd1626891e7e84</td>\n",
       "      <td>2023-07-26T10:00:00Z</td>\n",
       "      <td>2023-07-26T10:30:00Z</td>\n",
       "      <td>PT30M</td>\n",
       "      <td>626f9e3b36c2670314c0386e</td>\n",
       "      <td>False</td>\n",
       "      <td>[]</td>\n",
       "      <td>REGULAR</td>\n",
       "      <td>None</td>\n",
       "    </tr>\n",
       "  </tbody>\n",
       "</table>\n",
       "</div>"
      ],
      "text/plain": [
       "                         id  \\\n",
       "0  64c1e8bfc357e9197ef110d8   \n",
       "1  64c0fc6e9479511b7231e331   \n",
       "2  64c093fbc357e9197ee947d1   \n",
       "\n",
       "                                         description tagIds  \\\n",
       "0  #428 Bugs using plugin: logo open ai not displ...   None   \n",
       "1     #430 Hide regenerate response when no messages   None   \n",
       "2  #426 feat: Improve how model are added and act...   None   \n",
       "\n",
       "                     userId  billable taskId                 projectId  \\\n",
       "0  643d11b8d00ede21e7bb0732     False   None  636a73439ddd1626891e7e84   \n",
       "1  643d11b8d00ede21e7bb0732     False   None  636a73439ddd1626891e7e84   \n",
       "2  643d11b8d00ede21e7bb0732     False   None  636a73439ddd1626891e7e84   \n",
       "\n",
       "     timeInterval_start      timeInterval_end timeInterval_duration  \\\n",
       "0  2023-07-27T03:47:09Z  2023-07-27T08:35:50Z            PT4H48M41S   \n",
       "1  2023-07-26T10:58:54Z  2023-07-26T12:21:03Z             PT1H22M9S   \n",
       "2  2023-07-26T10:00:00Z  2023-07-26T10:30:00Z                 PT30M   \n",
       "\n",
       "                workspaceId  isLocked customFieldValues     type kioskId  \n",
       "0  626f9e3b36c2670314c0386e     False                []  REGULAR    None  \n",
       "1  626f9e3b36c2670314c0386e     False                []  REGULAR    None  \n",
       "2  626f9e3b36c2670314c0386e     False                []  REGULAR    None  "
      ]
     },
     "execution_count": 33,
     "metadata": {},
     "output_type": "execute_result"
    }
   ],
   "source": [
    "def get_time_entries(\n",
    "    api_key,\n",
    "    workspace_id,\n",
    "    user_id,\n",
    "    start_date,\n",
    "    end_date\n",
    "):\n",
    "    # Init\n",
    "    start_date = datetime.strptime(start_date, \"%Y-%m-%d\").astimezone().isoformat() # Format date\n",
    "    page = 1\n",
    "    df = pd.DataFrame()\n",
    "    \n",
    "    # Get raw data\n",
    "    while True:\n",
    "        url = f\"https://api.clockify.me/api/v1/workspaces/{workspace_id}/user/{user_id}/time-entries\"\n",
    "        headers = {\"X-Api-Key\": api_key}\n",
    "        params = {\n",
    "            \"start\": start_date,\n",
    "            \"end\": end_date,\n",
    "            \"page\": page,\n",
    "            \"page-size\": 100\n",
    "        }\n",
    "        res = requests.get(url, headers=headers, params=params)\n",
    "        data = res.json()\n",
    "        if len(data) > 0:\n",
    "            for d in data:\n",
    "                res = flatten_dict(d)\n",
    "                tmp_df = pd.DataFrame([res])\n",
    "                df = pd.concat([df, tmp_df]).reset_index(drop=True)\n",
    "        else:\n",
    "            break\n",
    "        page += 1\n",
    "    return df.reset_index(drop=True)\n",
    "\n",
    "# Init\n",
    "database = pd.DataFrame()\n",
    "\n",
    "# Loop\n",
    "for row in df_users.itertuples():\n",
    "    user_id = row.userId\n",
    "    user_name = row.userName\n",
    "    user_email = row.email\n",
    "    \n",
    "    # Get entries\n",
    "    df_time_entries = get_time_entries(api_key, workspace_id, user_id, start_date, end_date)\n",
    "\n",
    "    # Concat\n",
    "    database = pd.concat([database, df_time_entries]).reset_index(drop=True)\n",
    "    \n",
    "print(\"Time entries fetched:\", len(database))\n",
    "database.head(3)"
   ]
  },
  {
   "cell_type": "markdown",
   "id": "aad582ab-a11b-4c60-b82b-95264cbe598a",
   "metadata": {},
   "source": [
    "### Get all projects"
   ]
  },
  {
   "cell_type": "code",
   "execution_count": 30,
   "id": "1e40b2db-8e4a-4fc5-829a-9bd8e7816d83",
   "metadata": {
    "execution": {
     "iopub.execute_input": "2023-07-27T08:55:33.539198Z",
     "iopub.status.busy": "2023-07-27T08:55:33.538970Z",
     "iopub.status.idle": "2023-07-27T08:55:33.821224Z",
     "shell.execute_reply": "2023-07-27T08:55:33.820601Z",
     "shell.execute_reply.started": "2023-07-27T08:55:33.539174Z"
    },
    "tags": []
   },
   "outputs": [
    {
     "name": "stdout",
     "output_type": "stream",
     "text": [
      "Projects fetched: 34\n"
     ]
    },
    {
     "data": {
      "text/html": [
       "<div>\n",
       "<style scoped>\n",
       "    .dataframe tbody tr th:only-of-type {\n",
       "        vertical-align: middle;\n",
       "    }\n",
       "\n",
       "    .dataframe tbody tr th {\n",
       "        vertical-align: top;\n",
       "    }\n",
       "\n",
       "    .dataframe thead th {\n",
       "        text-align: right;\n",
       "    }\n",
       "</style>\n",
       "<table border=\"1\" class=\"dataframe\">\n",
       "  <thead>\n",
       "    <tr style=\"text-align: right;\">\n",
       "      <th></th>\n",
       "      <th>projectId</th>\n",
       "      <th>projectName</th>\n",
       "      <th>clientId</th>\n",
       "    </tr>\n",
       "  </thead>\n",
       "  <tbody>\n",
       "    <tr>\n",
       "      <th>0</th>\n",
       "      <td>62ea33a97edb1761ccccbc11</td>\n",
       "      <td>Admin</td>\n",
       "      <td>626fef6d1541a9131641de2d</td>\n",
       "    </tr>\n",
       "  </tbody>\n",
       "</table>\n",
       "</div>"
      ],
      "text/plain": [
       "                  projectId projectName                  clientId\n",
       "0  62ea33a97edb1761ccccbc11       Admin  626fef6d1541a9131641de2d"
      ]
     },
     "execution_count": 30,
     "metadata": {},
     "output_type": "execute_result"
    }
   ],
   "source": [
    "df_projects = get_data(api_key, workspace_id, \"projects\")\n",
    "df_projects = df_projects.rename(columns={\"id\": \"projectId\", \"name\": \"projectName\"})\n",
    "df_projects = df_projects[[\"projectId\", \"projectName\", \"clientId\"]]\n",
    "print(\"Projects fetched:\", len(df_projects))\n",
    "df_projects.head(1)"
   ]
  },
  {
   "cell_type": "markdown",
   "id": "3d436d11-eab5-40d3-8899-57acf27312dc",
   "metadata": {},
   "source": [
    "### Get all clients"
   ]
  },
  {
   "cell_type": "code",
   "execution_count": 31,
   "id": "fd31b887-3258-40d7-aa3a-19b4cb3d66be",
   "metadata": {
    "execution": {
     "iopub.execute_input": "2023-07-27T08:55:34.597907Z",
     "iopub.status.busy": "2023-07-27T08:55:34.597676Z",
     "iopub.status.idle": "2023-07-27T08:55:34.775271Z",
     "shell.execute_reply": "2023-07-27T08:55:34.774383Z",
     "shell.execute_reply.started": "2023-07-27T08:55:34.597884Z"
    },
    "tags": []
   },
   "outputs": [
    {
     "name": "stdout",
     "output_type": "stream",
     "text": [
      "Clients fetched: 12\n"
     ]
    },
    {
     "data": {
      "text/html": [
       "<div>\n",
       "<style scoped>\n",
       "    .dataframe tbody tr th:only-of-type {\n",
       "        vertical-align: middle;\n",
       "    }\n",
       "\n",
       "    .dataframe tbody tr th {\n",
       "        vertical-align: top;\n",
       "    }\n",
       "\n",
       "    .dataframe thead th {\n",
       "        text-align: right;\n",
       "    }\n",
       "</style>\n",
       "<table border=\"1\" class=\"dataframe\">\n",
       "  <thead>\n",
       "    <tr style=\"text-align: right;\">\n",
       "      <th></th>\n",
       "      <th>clientId</th>\n",
       "      <th>clientName</th>\n",
       "    </tr>\n",
       "  </thead>\n",
       "  <tbody>\n",
       "    <tr>\n",
       "      <th>0</th>\n",
       "      <td>626fefff1541a9131641e5fc</td>\n",
       "      <td>Arista</td>\n",
       "    </tr>\n",
       "  </tbody>\n",
       "</table>\n",
       "</div>"
      ],
      "text/plain": [
       "                   clientId clientName\n",
       "0  626fefff1541a9131641e5fc     Arista"
      ]
     },
     "execution_count": 31,
     "metadata": {},
     "output_type": "execute_result"
    }
   ],
   "source": [
    "df_clients = get_data(api_key, workspace_id, \"clients\")\n",
    "df_clients = df_clients.rename(columns={\"id\": \"clientId\", \"name\": \"clientName\"})\n",
    "df_clients = df_clients[[\"clientId\", \"clientName\"]]\n",
    "print(\"Clients fetched:\", len(df_clients))\n",
    "df_clients.head(1)"
   ]
  },
  {
   "cell_type": "markdown",
   "id": "4a694a0b-4917-489f-b4f1-09f8db79ead3",
   "metadata": {
    "papermill": {},
    "tags": []
   },
   "source": [
    "## Output"
   ]
  },
  {
   "cell_type": "markdown",
   "id": "cfefada0-880a-4187-9008-293996ef6df0",
   "metadata": {},
   "source": [
    "### Create final database\n",
    "Enrich data with referentials from workspace"
   ]
  },
  {
   "cell_type": "code",
   "execution_count": 38,
   "id": "b8b0e8dd-d621-4201-9c21-d248f5c03362",
   "metadata": {
    "execution": {
     "iopub.execute_input": "2023-07-27T09:00:27.099156Z",
     "iopub.status.busy": "2023-07-27T09:00:27.098916Z",
     "iopub.status.idle": "2023-07-27T09:00:27.126496Z",
     "shell.execute_reply": "2023-07-27T09:00:27.125576Z",
     "shell.execute_reply.started": "2023-07-27T09:00:27.099133Z"
    },
    "tags": []
   },
   "outputs": [
    {
     "name": "stdout",
     "output_type": "stream",
     "text": [
      "Time entries fetched: 1446\n"
     ]
    },
    {
     "data": {
      "text/html": [
       "<div>\n",
       "<style scoped>\n",
       "    .dataframe tbody tr th:only-of-type {\n",
       "        vertical-align: middle;\n",
       "    }\n",
       "\n",
       "    .dataframe tbody tr th {\n",
       "        vertical-align: top;\n",
       "    }\n",
       "\n",
       "    .dataframe thead th {\n",
       "        text-align: right;\n",
       "    }\n",
       "</style>\n",
       "<table border=\"1\" class=\"dataframe\">\n",
       "  <thead>\n",
       "    <tr style=\"text-align: right;\">\n",
       "      <th></th>\n",
       "      <th>id</th>\n",
       "      <th>description</th>\n",
       "      <th>isLocked</th>\n",
       "      <th>timeInterval_start</th>\n",
       "      <th>timeInterval_end</th>\n",
       "      <th>timeInterval_duration</th>\n",
       "      <th>userId</th>\n",
       "      <th>userName</th>\n",
       "      <th>email</th>\n",
       "      <th>projectId</th>\n",
       "      <th>projectName</th>\n",
       "      <th>clientId</th>\n",
       "      <th>clientName</th>\n",
       "    </tr>\n",
       "  </thead>\n",
       "  <tbody>\n",
       "    <tr>\n",
       "      <th>0</th>\n",
       "      <td>64c1e8bfc357e9197ef110d8</td>\n",
       "      <td>#428 Bugs using plugin: logo open ai not displ...</td>\n",
       "      <td>False</td>\n",
       "      <td>2023-07-27T03:47:09Z</td>\n",
       "      <td>2023-07-27T08:35:50Z</td>\n",
       "      <td>PT4H48M41S</td>\n",
       "      <td>643d11b8d00ede21e7bb0732</td>\n",
       "      <td>Bijo Babu</td>\n",
       "      <td>bijo.babu@bridge-global.com</td>\n",
       "      <td>636a73439ddd1626891e7e84</td>\n",
       "      <td>Platform</td>\n",
       "      <td>626fef6d1541a9131641de2d</td>\n",
       "      <td>Naas</td>\n",
       "    </tr>\n",
       "  </tbody>\n",
       "</table>\n",
       "</div>"
      ],
      "text/plain": [
       "                         id  \\\n",
       "0  64c1e8bfc357e9197ef110d8   \n",
       "\n",
       "                                         description  isLocked  \\\n",
       "0  #428 Bugs using plugin: logo open ai not displ...     False   \n",
       "\n",
       "     timeInterval_start      timeInterval_end timeInterval_duration  \\\n",
       "0  2023-07-27T03:47:09Z  2023-07-27T08:35:50Z            PT4H48M41S   \n",
       "\n",
       "                     userId   userName                        email  \\\n",
       "0  643d11b8d00ede21e7bb0732  Bijo Babu  bijo.babu@bridge-global.com   \n",
       "\n",
       "                  projectId projectName                  clientId clientName  \n",
       "0  636a73439ddd1626891e7e84    Platform  626fef6d1541a9131641de2d       Naas  "
      ]
     },
     "execution_count": 38,
     "metadata": {},
     "output_type": "execute_result"
    }
   ],
   "source": [
    "final_db = database.copy()\n",
    "\n",
    "# Final DB\n",
    "final_db = pd.merge(final_db, df_users, how=\"left\", on=\"userId\")\n",
    "final_db = pd.merge(final_db, df_projects, how=\"left\", on=\"projectId\")\n",
    "final_db = pd.merge(final_db, df_clients, how=\"left\", on=\"clientId\")\n",
    "\n",
    "# Select column\n",
    "to_select = [\n",
    "    \"id\",\n",
    "    \"description\",\n",
    "    \"isLocked\",\n",
    "    \"timeInterval_start\",\n",
    "    \"timeInterval_end\",\n",
    "    \"timeInterval_duration\",\n",
    "    \"userId\",\n",
    "    \"userName\",\n",
    "    \"email\",\n",
    "    \"projectId\",\n",
    "    \"projectName\",\n",
    "    \"clientId\",\n",
    "    \"clientName\",\n",
    "]\n",
    "final_db = final_db[to_select]\n",
    "print(\"Time entries fetched:\", len(final_db))\n",
    "final_db.head(1)"
   ]
  },
  {
   "cell_type": "markdown",
   "id": "c1e21bbf-d9c4-4dfc-931d-1a8941720f8f",
   "metadata": {
    "papermill": {},
    "tags": []
   },
   "source": [
    " "
   ]
  }
 ],
 "metadata": {
  "kernelspec": {
   "display_name": "Python 3",
   "language": "python",
   "name": "python3"
  },
  "language_info": {
   "codemirror_mode": {
    "name": "ipython",
    "version": 3
   },
   "file_extension": ".py",
   "mimetype": "text/x-python",
   "name": "python",
   "nbconvert_exporter": "python",
   "pygments_lexer": "ipython3",
   "version": "3.9.6"
  },
  "widgets": {
   "application/vnd.jupyter.widget-state+json": {
    "state": {},
    "version_major": 2,
    "version_minor": 0
   }
  }
 },
 "nbformat": 4,
 "nbformat_minor": 5
}
