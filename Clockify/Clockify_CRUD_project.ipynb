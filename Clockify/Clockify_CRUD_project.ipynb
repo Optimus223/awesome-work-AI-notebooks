{
 "cells": [
  {
   "cell_type": "markdown",
   "id": "a5162b0a-a572-4daa-885f-fa8bcedaf3bb",
   "metadata": {
    "papermill": {},
    "tags": []
   },
   "source": [
    "<img width=\"10%\" alt=\"Naas\" src=\"https://landen.imgix.net/jtci2pxwjczr/assets/5ice39g4.png?w=160\"/>"
   ]
  },
  {
   "cell_type": "markdown",
   "id": "cbbb0cf3-f240-4ec6-9f49-b6a456749ef3",
   "metadata": {
    "papermill": {},
    "tags": []
   },
   "source": [
    "# Clockify - CRUD project"
   ]
  },
  {
   "cell_type": "markdown",
   "id": "9d2187f5-c09c-4940-813e-2ab46697e040",
   "metadata": {
    "papermill": {},
    "tags": []
   },
   "source": [
    "**Tags:** #clockify #crud #project #api #python #reference"
   ]
  },
  {
   "cell_type": "markdown",
   "id": "ddc815a2-858f-4dde-a3b7-a15464cd311c",
   "metadata": {
    "papermill": {},
    "tags": []
   },
   "source": [
    "**Author:** [Florent Ravenel](https://www.linkedin.com/in/florent-ravenel/)"
   ]
  },
  {
   "cell_type": "markdown",
   "id": "1e8ae419-d39f-4385-a514-78521988157d",
   "metadata": {
    "papermill": {},
    "tags": []
   },
   "source": [
    "**Description:** This notebook will demonstrate how to create, retrieve, update, delete project using Clockify API. It is usefull for organizations to manage their projects."
   ]
  },
  {
   "cell_type": "markdown",
   "id": "efc094dc-99de-4bee-99d6-e3f397df0858",
   "metadata": {
    "papermill": {},
    "tags": []
   },
   "source": [
    "**References:**\n- [Clockify API Documentation](https://docs.clockify.me/#tag/Project)\n- [Clockify API Client](https://github.com/toggl/clockify-api-python)"
   ]
  },
  {
   "cell_type": "markdown",
   "id": "411c9a87-65fc-4a74-9b09-ded73988a485",
   "metadata": {
    "papermill": {},
    "tags": []
   },
   "source": [
    "## Input"
   ]
  },
  {
   "cell_type": "markdown",
   "id": "c536a890-ea1b-44df-a1b8-9404d29b7538",
   "metadata": {
    "papermill": {},
    "tags": []
   },
   "source": [
    "### Import libraries"
   ]
  },
  {
   "cell_type": "code",
   "execution_count": null,
   "id": "889e57b9-f7ec-4cb9-ad73-0db36d9e6422",
   "metadata": {
    "papermill": {},
    "tags": []
   },
   "source": "import clockify",
   "outputs": []
  },
  {
   "cell_type": "markdown",
   "id": "062a810d-01fa-4d60-8476-049e3d1ae449",
   "metadata": {
    "papermill": {},
    "tags": []
   },
   "source": [
    "### Setup Variables\n- `api_key`: [API Key](https://clockify.me/user/settings)"
   ]
  },
  {
   "cell_type": "code",
   "execution_count": null,
   "id": "a0299c35-1936-400e-a736-6a4d3f3c44c1",
   "metadata": {
    "papermill": {},
    "tags": []
   },
   "source": "api_key = \"<YOUR_API_KEY>\"",
   "outputs": []
  },
  {
   "cell_type": "markdown",
   "id": "9dc1cfbf-ddfd-42c1-8d65-6914bbf937b2",
   "metadata": {
    "papermill": {},
    "tags": []
   },
   "source": [
    "## Model"
   ]
  },
  {
   "cell_type": "markdown",
   "id": "9cf4a65b-ece1-424d-9b66-430ca21ec90f",
   "metadata": {
    "papermill": {},
    "tags": []
   },
   "source": [
    "### Create Project"
   ]
  },
  {
   "cell_type": "markdown",
   "id": "ebee6206-b4e2-40d8-bcaa-7fb88d7df3a3",
   "metadata": {
    "papermill": {},
    "tags": []
   },
   "source": [
    "Long description of the function: This function will create a project in Clockify using the API."
   ]
  },
  {
   "cell_type": "code",
   "execution_count": null,
   "id": "654fe120-19fd-4c84-bc6b-0715de564b33",
   "metadata": {
    "papermill": {},
    "tags": []
   },
   "source": "# Create a client\nclient = clockify.Client(api_key)\n# Create a workspace\nworkspace = client.create_workspace(\"My Workspace\")\n# Create a project\nproject = client.create_project(workspace.id, \"My Project\")",
   "outputs": []
  },
  {
   "cell_type": "markdown",
   "id": "05931584-0d33-49e0-9515-e733649f3f3b",
   "metadata": {
    "papermill": {},
    "tags": []
   },
   "source": [
    "### Retrieve Project"
   ]
  },
  {
   "cell_type": "markdown",
   "id": "ef6b99da-323e-4c77-8c0e-894a156291a2",
   "metadata": {
    "papermill": {},
    "tags": []
   },
   "source": [
    "Long description of the function: This function will retrieve a project in Clockify using the API."
   ]
  },
  {
   "cell_type": "code",
   "execution_count": null,
   "id": "8aac9ce2-db67-422c-8389-722f5af62966",
   "metadata": {
    "papermill": {},
    "tags": []
   },
   "source": "# Retrieve a project\nproject = client.get_project(workspace.id, project.id)",
   "outputs": []
  },
  {
   "cell_type": "markdown",
   "id": "c06c2935-f230-420b-a658-35147f75ea04",
   "metadata": {
    "papermill": {},
    "tags": []
   },
   "source": [
    "### Update Project"
   ]
  },
  {
   "cell_type": "markdown",
   "id": "41dd6157-d13c-4486-bbb7-ef072a4a3c6c",
   "metadata": {
    "papermill": {},
    "tags": []
   },
   "source": [
    "Long description of the function: This function will update a project in Clockify using the API."
   ]
  },
  {
   "cell_type": "code",
   "execution_count": null,
   "id": "bf7590a9-8214-4da0-b57c-012ec92aefcc",
   "metadata": {
    "papermill": {},
    "tags": []
   },
   "source": "# Update a project\nproject = client.update_project(\n    workspace.id, project.id, {\"name\": \"My Updated Project\"}\n)",
   "outputs": []
  },
  {
   "cell_type": "markdown",
   "id": "ae4a6594-a305-47cd-967f-009f9cea016e",
   "metadata": {
    "papermill": {},
    "tags": []
   },
   "source": [
    "### Delete Project"
   ]
  },
  {
   "cell_type": "markdown",
   "id": "b06adf9e-d3d2-4c05-982c-62b1e81b6bb8",
   "metadata": {
    "papermill": {},
    "tags": []
   },
   "source": [
    "Long description of the function: This function will delete a project in Clockify using the API."
   ]
  },
  {
   "cell_type": "code",
   "execution_count": null,
   "id": "b02b8a76-fd1f-4f52-be5d-f602f1a4dc15",
   "metadata": {
    "papermill": {},
    "tags": []
   },
   "source": "# Delete a project\nclient.delete_project(workspace.id, project.id)",
   "outputs": []
  },
  {
   "cell_type": "markdown",
   "id": "d2b6d774-a742-437c-a705-2d326d7d04a8",
   "metadata": {
    "papermill": {},
    "tags": []
   },
   "source": [
    "## Output"
   ]
  },
  {
   "cell_type": "markdown",
   "id": "5b2960aa-3afe-41b6-baaa-72d575f242a8",
   "metadata": {
    "papermill": {},
    "tags": []
   },
   "source": [
    "### Display result"
   ]
  },
  {
   "cell_type": "code",
   "execution_count": null,
   "id": "12c7050f-1227-4cf0-babd-148e843d252f",
   "metadata": {
    "papermill": {},
    "tags": []
   },
   "source": "print(project)",
   "outputs": []
  },
  {
   "cell_type": "markdown",
   "id": "29c31f97-dfa9-4dfa-9d72-b745c68a3091",
   "metadata": {
    "papermill": {},
    "tags": []
   },
   "source": [
    " "
   ]
  }
 ],
 "metadata": {
  "kernelspec": {
   "display_name": "Python 3",
   "language": "python",
   "name": "python3"
  },
  "language_info": {
   "codemirror_mode": {
    "name": "ipython",
    "version": 3
   },
   "file_extension": ".py",
   "mimetype": "text/x-python",
   "name": "python",
   "nbconvert_exporter": "python",
   "pygments_lexer": "ipython3",
   "version": "3.9.6"
  },
  "widgets": {
   "application/vnd.jupyter.widget-state+json": {
    "state": {},
    "version_major": 2,
    "version_minor": 0
   }
  }
 },
 "nbformat": 4,
 "nbformat_minor": 5
}