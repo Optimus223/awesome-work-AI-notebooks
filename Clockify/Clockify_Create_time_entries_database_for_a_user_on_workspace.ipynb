{
 "cells": [
  {
   "cell_type": "markdown",
   "id": "13999d9a-2399-4aa6-8b9f-6f652dc86aa0",
   "metadata": {
    "papermill": {},
    "tags": []
   },
   "source": [
    "<img width=\"10%\" alt=\"Naas\" src=\"https://landen.imgix.net/jtci2pxwjczr/assets/5ice39g4.png?w=160\"/>"
   ]
  },
  {
   "cell_type": "markdown",
   "id": "e6027d4d-b5ed-4ccb-acdd-4e16d3dc1260",
   "metadata": {
    "papermill": {},
    "tags": []
   },
   "source": [
    "# Clockify - Create time entries database for a user on workspace"
   ]
  },
  {
   "cell_type": "markdown",
   "id": "257024e1-32ec-4839-b454-65998b09aacb",
   "metadata": {
    "papermill": {},
    "tags": []
   },
   "source": [
    "**Tags:** #clockify #timeentry #database #workspace #user #create"
   ]
  },
  {
   "cell_type": "markdown",
   "id": "0e20bf2b-b066-4b09-b928-d33d3e825e84",
   "metadata": {
    "papermill": {},
    "tags": []
   },
   "source": [
    "**Author:** [Florent Ravenel](https://www.linkedin.com/in/florent-ravenel/)"
   ]
  },
  {
   "cell_type": "markdown",
   "id": "c316565f-97c2-4ba8-b36b-d528839b6e01",
   "metadata": {
    "papermill": {},
    "tags": []
   },
   "source": [
    "**Description:** This notebook creates a time entries database on a specific timeframe, adding client, project and task name. It is usefull for organizations to track time entries and optimize their workflow."
   ]
  },
  {
   "cell_type": "markdown",
   "id": "73a21c0f-e3c8-4a2d-a8ff-db3f374843d4",
   "metadata": {
    "papermill": {},
    "tags": []
   },
   "source": [
    "**References:**\n- [Clockify API Documentation](https://docs.clockify.me/#tag/Time-entry/operation/getTimeEntries)\n- [Clockify API Reference](https://clockify.github.io/clockify_api_docs/)"
   ]
  },
  {
   "cell_type": "markdown",
   "id": "36eb9c81-abdb-4740-b2b7-9e3cfc32ad3c",
   "metadata": {
    "papermill": {},
    "tags": []
   },
   "source": [
    "## Input"
   ]
  },
  {
   "cell_type": "markdown",
   "id": "3e1ec914-1999-4afe-9df5-ef1e0f639df7",
   "metadata": {
    "papermill": {},
    "tags": []
   },
   "source": [
    "### Import libraries"
   ]
  },
  {
   "cell_type": "code",
   "execution_count": null,
   "id": "d4a77a73-317d-43cd-a232-be9e2d564631",
   "metadata": {
    "papermill": {},
    "tags": []
   },
   "source": "import requests\nimport json",
   "outputs": []
  },
  {
   "cell_type": "markdown",
   "id": "f275809a-cf0b-4e5a-90a4-3f7c733f661a",
   "metadata": {
    "papermill": {},
    "tags": []
   },
   "source": [
    "### Setup Variables\n- `workspace_id`: ID of the workspace to create the time entries database\n- `user_id`: ID of the user to create the time entries database\n- `start_date`: Start date of the timeframe to create the time entries database\n- `end_date`: End date of the timeframe to create the time entries database\n- `api_key`: [API key](https://clockify.me/user/settings) to access the Clockify API"
   ]
  },
  {
   "cell_type": "code",
   "execution_count": null,
   "id": "25fef98d-9511-45fe-a688-bb7d96716bcd",
   "metadata": {
    "papermill": {},
    "tags": []
   },
   "source": "workspace_id = \"5f3f9f9f9f9f9f9f9f9f9f9f\"\nuser_id = \"5f3f9f9f9f9f9f9f9f9f9f9f\"\nstart_date = \"2020-08-01\"\nend_date = \"2020-08-31\"\napi_key = \"5f3f9f9f9f9f9f9f9f9f9f9f\"",
   "outputs": []
  },
  {
   "cell_type": "markdown",
   "id": "9520d274-a372-437c-b706-eef533af6ef5",
   "metadata": {
    "papermill": {},
    "tags": []
   },
   "source": [
    "## Model"
   ]
  },
  {
   "cell_type": "markdown",
   "id": "73314dab-6a39-43ff-8ce6-d294675f0f43",
   "metadata": {
    "papermill": {},
    "tags": []
   },
   "source": [
    "### Create time entries database"
   ]
  },
  {
   "cell_type": "markdown",
   "id": "738a529d-ae5b-413c-a207-7e657c9250da",
   "metadata": {
    "papermill": {},
    "tags": []
   },
   "source": [
    "This function creates a time entries database on a specific timeframe, adding client, project and task name."
   ]
  },
  {
   "cell_type": "code",
   "execution_count": null,
   "id": "27071ad5-b63b-4e64-ad3c-6e99c1cf70fd",
   "metadata": {
    "papermill": {},
    "tags": []
   },
   "source": "def create_time_entries_database(workspace_id, user_id, start_date, end_date, api_key):\n    # Set the request parameters\n    url = \"https://api.clockify.me/api/workspaces/\" + workspace_id + \"/timeEntries\"\n    headers = {\"X-Api-Key\": api_key}\n    params = {\"userId\": user_id, \"start\": start_date, \"end\": end_date}\n    # Execute the request\n    response = requests.get(url, headers=headers, params=params)\n    # Return the response\n    return response.json()",
   "outputs": []
  },
  {
   "cell_type": "markdown",
   "id": "4a694a0b-4917-489f-b4f1-09f8db79ead3",
   "metadata": {
    "papermill": {},
    "tags": []
   },
   "source": [
    "## Output"
   ]
  },
  {
   "cell_type": "markdown",
   "id": "7c1d997e-5e24-4095-b681-496a8675ca12",
   "metadata": {
    "papermill": {},
    "tags": []
   },
   "source": [
    "### Display result"
   ]
  },
  {
   "cell_type": "code",
   "execution_count": null,
   "id": "d828c6de-eb46-4cc7-8dd9-f25c7009608b",
   "metadata": {
    "papermill": {},
    "tags": []
   },
   "source": "time_entries_database = create_time_entries_database(\n    workspace_id, user_id, start_date, end_date, api_key\n)\nprint(json.dumps(time_entries_database, indent=4))",
   "outputs": []
  },
  {
   "cell_type": "markdown",
   "id": "c1e21bbf-d9c4-4dfc-931d-1a8941720f8f",
   "metadata": {
    "papermill": {},
    "tags": []
   },
   "source": [
    " "
   ]
  }
 ],
 "metadata": {
  "kernelspec": {
   "display_name": "Python 3",
   "language": "python",
   "name": "python3"
  },
  "language_info": {
   "codemirror_mode": {
    "name": "ipython",
    "version": 3
   },
   "file_extension": ".py",
   "mimetype": "text/x-python",
   "name": "python",
   "nbconvert_exporter": "python",
   "pygments_lexer": "ipython3",
   "version": "3.9.6"
  },
  "widgets": {
   "application/vnd.jupyter.widget-state+json": {
    "state": {},
    "version_major": 2,
    "version_minor": 0
   }
  }
 },
 "nbformat": 4,
 "nbformat_minor": 5
}