{
 "cells": [
  {
   "cell_type": "markdown",
   "id": "990b03ba-258b-4e22-ba2d-d6cf82aeedcc",
   "metadata": {
    "papermill": {},
    "tags": []
   },
   "source": [
    "<img width=\"10%\" alt=\"Naas\" src=\"https://landen.imgix.net/jtci2pxwjczr/assets/5ice39g4.png?w=160\"/>"
   ]
  },
  {
   "cell_type": "markdown",
   "id": "017dac64-ffdd-48df-ac1a-31757a5bbaed",
   "metadata": {
    "papermill": {},
    "tags": []
   },
   "source": [
    "# Clockify - Find clients on workspace"
   ]
  },
  {
   "cell_type": "markdown",
   "id": "86b5c6d0-fa98-4823-ade5-fb031b33e822",
   "metadata": {
    "papermill": {},
    "tags": []
   },
   "source": [
    "**Tags:** #clockify #workspace #client #api #python #find"
   ]
  },
  {
   "cell_type": "markdown",
   "id": "198beb35-fc87-4130-8da0-3dcb395a1b0c",
   "metadata": {
    "papermill": {},
    "tags": []
   },
   "source": [
    "**Author:** [Florent Ravenel](https://www.linkedin.com/in/florent-ravenel/)"
   ]
  },
  {
   "cell_type": "markdown",
   "id": "bfebcc8c-6d4b-4901-b6bd-33a280590d5c",
   "metadata": {
    "papermill": {},
    "tags": []
   },
   "source": [
    "**Description:** This notebook will show how to find clients on a workspace using the Clockify API. It is usefull for organizations that need to manage their clients and workspaces."
   ]
  },
  {
   "cell_type": "markdown",
   "id": "dc0eb1d1-c41c-45dd-8006-8f347959b108",
   "metadata": {
    "papermill": {},
    "tags": []
   },
   "source": [
    "**References:**\n- [Clockify API Documentation](https://docs.clockify.me/#tag/Client/operation/getClients)\n- [Clockify API Client Libraries](https://clockify.github.io/clockify_client_libraries/)"
   ]
  },
  {
   "cell_type": "markdown",
   "id": "f310bf6d-bdb9-4c44-a8f5-2d95de5cea6d",
   "metadata": {
    "papermill": {},
    "tags": []
   },
   "source": [
    "## Input"
   ]
  },
  {
   "cell_type": "markdown",
   "id": "438a6f93-ce9b-41b3-90e2-9bd28b75d2ab",
   "metadata": {
    "papermill": {},
    "tags": []
   },
   "source": [
    "### Import libraries"
   ]
  },
  {
   "cell_type": "code",
   "execution_count": null,
   "id": "2f00dbb5-f18d-4e14-b422-0d882fbe0b9e",
   "metadata": {
    "papermill": {},
    "tags": []
   },
   "source": "import requests\nimport json",
   "outputs": []
  },
  {
   "cell_type": "markdown",
   "id": "0a4f1696-144b-4b7c-bf9b-8ea157407002",
   "metadata": {
    "papermill": {},
    "tags": []
   },
   "source": [
    "### Setup Variables\n- `workspace_id`: The ID of the workspace to find clients on.\n- `api_key`: The API key to access the Clockify API. [Instructions to get an API key](https://clockify.me/developers-api#the-basics)."
   ]
  },
  {
   "cell_type": "code",
   "execution_count": null,
   "id": "7de24d92-ccf0-48b2-af57-6c8944be6983",
   "metadata": {
    "papermill": {},
    "tags": []
   },
   "source": "workspace_id = \"<workspace_id>\"\napi_key = \"<api_key>\"",
   "outputs": []
  },
  {
   "cell_type": "markdown",
   "id": "1819400b-7be4-4bce-a6c3-31acc9df0d5b",
   "metadata": {
    "papermill": {},
    "tags": []
   },
   "source": [
    "## Model"
   ]
  },
  {
   "cell_type": "markdown",
   "id": "3209839e-af33-4306-ac86-4caed5075c82",
   "metadata": {
    "papermill": {},
    "tags": []
   },
   "source": [
    "### Find clients on workspace"
   ]
  },
  {
   "cell_type": "markdown",
   "id": "b98aff2a-9eb5-48bc-8f2f-d147cba3c871",
   "metadata": {
    "papermill": {},
    "tags": []
   },
   "source": [
    "This function will use the Clockify API to find clients on a workspace."
   ]
  },
  {
   "cell_type": "code",
   "execution_count": null,
   "id": "51fa89d0-b9dc-409b-8ae8-714a7fb69e7f",
   "metadata": {
    "papermill": {},
    "tags": []
   },
   "source": "def find_clients_on_workspace(workspace_id, api_key):\n    # Set the request URL\n    url = f\"https://api.clockify.me/api/workspaces/{workspace_id}/clients\"\n\n    # Set the request headers\n    headers = {\"X-Api-Key\": api_key}\n\n    # Make the request\n    response = requests.get(url, headers=headers)\n\n    # Return the response\n    return response",
   "outputs": []
  },
  {
   "cell_type": "markdown",
   "id": "075f2eb0-699a-408c-a762-978911731ba0",
   "metadata": {
    "papermill": {},
    "tags": []
   },
   "source": [
    "## Output"
   ]
  },
  {
   "cell_type": "markdown",
   "id": "10329647-571b-460a-912e-49653d0532e6",
   "metadata": {
    "papermill": {},
    "tags": []
   },
   "source": [
    "### Display result"
   ]
  },
  {
   "cell_type": "code",
   "execution_count": null,
   "id": "36ec4dd1-03f7-47be-92c1-4459e8cd0b3a",
   "metadata": {
    "papermill": {},
    "tags": []
   },
   "source": "# Find clients on workspace\nresponse = find_clients_on_workspace(workspace_id, api_key)\n# Print the response\nprint(json.dumps(response.json(), indent=4))",
   "outputs": []
  },
  {
   "cell_type": "markdown",
   "id": "83920146-43d1-4a0b-80dd-9354e491c173",
   "metadata": {
    "papermill": {},
    "tags": []
   },
   "source": [
    " "
   ]
  }
 ],
 "metadata": {
  "kernelspec": {
   "display_name": "Python 3",
   "language": "python",
   "name": "python3"
  },
  "language_info": {
   "codemirror_mode": {
    "name": "ipython",
    "version": 3
   },
   "file_extension": ".py",
   "mimetype": "text/x-python",
   "name": "python",
   "nbconvert_exporter": "python",
   "pygments_lexer": "ipython3",
   "version": "3.9.6"
  },
  "widgets": {
   "application/vnd.jupyter.widget-state+json": {
    "state": {},
    "version_major": 2,
    "version_minor": 0
   }
  }
 },
 "nbformat": 4,
 "nbformat_minor": 5
}