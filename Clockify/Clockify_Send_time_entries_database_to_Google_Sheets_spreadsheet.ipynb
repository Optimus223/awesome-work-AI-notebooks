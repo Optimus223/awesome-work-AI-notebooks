{
 "cells": [
  {
   "cell_type": "markdown",
   "id": "d74b79a5-cdf2-4e43-b328-d6cee89ef9ec",
   "metadata": {
    "papermill": {},
    "tags": []
   },
   "source": [
    "<img width=\"10%\" alt=\"Naas\" src=\"https://landen.imgix.net/jtci2pxwjczr/assets/5ice39g4.png?w=160\"/>"
   ]
  },
  {
   "cell_type": "markdown",
   "id": "b56ed5ca-7197-41d0-b3c2-ee65ee4210f7",
   "metadata": {
    "papermill": {},
    "tags": []
   },
   "source": [
    "# Clockify - Send time entries database to Google Sheets spreadsheet"
   ]
  },
  {
   "cell_type": "markdown",
   "id": "323ee5bb-cea7-4dbc-8446-8c06d683cc77",
   "metadata": {
    "papermill": {},
    "tags": []
   },
   "source": [
    "**Tags:** #clockify #google #sheets #spreadsheet #time #entries"
   ]
  },
  {
   "cell_type": "markdown",
   "id": "89ec4ccb-9bb7-4b69-8d5e-0ee0758eaa13",
   "metadata": {
    "papermill": {},
    "tags": []
   },
   "source": [
    "**Author:** [Florent Ravenel](https://www.linkedin.com/in/florent-ravenel)"
   ]
  },
  {
   "cell_type": "markdown",
   "id": "7f249c94-0be8-4bcd-8778-863de53d4a27",
   "metadata": {
    "papermill": {},
    "tags": []
   },
   "source": [
    "**Last update:** 2023-08-02 (Created: 2023-08-02)"
   ]
  },
  {
   "cell_type": "markdown",
   "id": "750fc9c4-76d7-4081-8f09-41c973f5a627",
   "metadata": {
    "papermill": {},
    "tags": []
   },
   "source": [
    "**Description:** This notebook will send the time entries database from Clockify to a Google Sheets spreadsheet. This is usefull for organizations to keep track of their time entries and analyze them."
   ]
  },
  {
   "cell_type": "markdown",
   "id": "98a60704-4deb-4a4c-9ece-a4e976d0a615",
   "metadata": {
    "papermill": {},
    "tags": []
   },
   "source": [
    "**References:**\n- [Clockify API Documentation](https://clockify.github.io/clockify_api_docs/)\n- [Google Sheets API Documentation](https://developers.google.com/sheets/api/quickstart/python)"
   ]
  },
  {
   "cell_type": "markdown",
   "id": "7c59330a-e587-41f5-814a-0ec6642239f8",
   "metadata": {
    "papermill": {},
    "tags": []
   },
   "source": [
    "## Input"
   ]
  },
  {
   "cell_type": "markdown",
   "id": "5c986c38-30f0-4e88-932e-cbbe460b82cd",
   "metadata": {
    "papermill": {},
    "tags": []
   },
   "source": [
    "### Import libraries"
   ]
  },
  {
   "cell_type": "code",
   "execution_count": null,
   "id": "c4ca7fb9-75f5-4db5-9700-96a992335e24",
   "metadata": {
    "papermill": {},
    "tags": []
   },
   "source": "import requests\nimport json\nimport gspread\nfrom oauth2client.service_account import ServiceAccountCredentials",
   "outputs": []
  },
  {
   "cell_type": "markdown",
   "id": "7bf7af26-2007-4ad4-b58e-decff06acdce",
   "metadata": {
    "papermill": {},
    "tags": []
   },
   "source": [
    "### Setup variables\n- `clockify_api_key`: API key from Clockify\n- `google_credentials`: Credentials from Google Sheets API"
   ]
  },
  {
   "cell_type": "markdown",
   "id": "7e158abd-496b-4c4d-9753-505b0111e99b",
   "metadata": {
    "papermill": {},
    "tags": []
   },
   "source": [
    "To get the Clockify API key, please follow the [procedure](https://clockify.github.io/clockify_api_docs/#section/Authentication/API-key)."
   ]
  },
  {
   "cell_type": "markdown",
   "id": "40fc82d1-bcc3-4113-bd10-ce60332c3fb9",
   "metadata": {
    "papermill": {},
    "tags": []
   },
   "source": [
    "To get the Google Sheets API credentials, please follow the [procedure](https://developers.google.com/sheets/api/quickstart/python)."
   ]
  },
  {
   "cell_type": "code",
   "execution_count": null,
   "id": "053abead-1c2b-4237-a9dc-862b6d708014",
   "metadata": {
    "papermill": {},
    "tags": []
   },
   "source": "clockify_api_key = \"<YOUR_CLOCKIFY_API_KEY>\"\ngoogle_credentials = \"<YOUR_GOOGLE_CREDENTIALS>\"",
   "outputs": []
  },
  {
   "cell_type": "markdown",
   "id": "6ef44cc9-7d67-461e-884b-3010703ac7e1",
   "metadata": {
    "papermill": {},
    "tags": []
   },
   "source": [
    "## Model"
   ]
  },
  {
   "cell_type": "markdown",
   "id": "dad2693a-70e0-49e3-8040-91536105b8ec",
   "metadata": {
    "papermill": {},
    "tags": []
   },
   "source": [
    "### Get time entries from Clockify"
   ]
  },
  {
   "cell_type": "markdown",
   "id": "a46fd30d-5288-40b6-93bf-9a71756587f5",
   "metadata": {
    "papermill": {},
    "tags": []
   },
   "source": [
    "Long description of the function: This function will get the time entries from Clockify using the API key and store them in a json file."
   ]
  },
  {
   "cell_type": "code",
   "execution_count": null,
   "id": "fe408d74-0ba0-4433-a6f2-e06b98f0133d",
   "metadata": {
    "papermill": {},
    "tags": []
   },
   "source": "# Get time entries from Clockify\ndef get_time_entries(api_key):\n    # Set the request parameters\n    url = \"https://api.clockify.me/api/workspaces/<YOUR_WORKSPACE_ID>/timeEntries\"\n    headers = {\"X-Api-Key\": api_key}\n    # Execute the request\n    response = requests.get(url, headers=headers)\n    # Store the response in a json file\n    with open(\"time_entries.json\", \"w\") as outfile:\n        json.dump(response.json(), outfile)\n\n\n# Call the function\nget_time_entries(clockify_api_key)",
   "outputs": []
  },
  {
   "cell_type": "markdown",
   "id": "da2903e9-7748-429b-9dee-193116d2d9d4",
   "metadata": {
    "papermill": {},
    "tags": []
   },
   "source": [
    "### Send time entries to Google Sheets"
   ]
  },
  {
   "cell_type": "markdown",
   "id": "5bdcc54b-f18a-4a6f-be98-8ecc089a17c9",
   "metadata": {
    "papermill": {},
    "tags": []
   },
   "source": [
    "Long description of the function: This function will send the time entries from the json file to a Google Sheets spreadsheet using the credentials."
   ]
  },
  {
   "cell_type": "code",
   "execution_count": null,
   "id": "ebfbbdbd-28a5-42cd-8a76-1e25ef1e57b2",
   "metadata": {
    "papermill": {},
    "tags": []
   },
   "source": "# Send time entries to Google Sheets\ndef send_time_entries_to_google_sheets(credentials):\n    # Load the json file\n    with open(\"time_entries.json\") as json_file:\n        time_entries = json.load(json_file)\n    # Authorize the request\n    scope = [\n        \"https://spreadsheets.google.com/feeds\",\n        \"https://www.googleapis.com/auth/drive\",\n    ]\n    credentials = ServiceAccountCredentials.from_json_keyfile_dict(credentials, scope)\n    gc = gspread.authorize(credentials)\n    # Open the spreadsheet\n    spreadsheet = gc.open(\"Time Entries\")\n    # Send the time entries to the spreadsheet\n    spreadsheet.values_update(\n        \"A1\", params={\"valueInputOption\": \"RAW\"}, body={\"values\": time_entries}\n    )\n\n\n# Call the function\nsend_time_entries_to_google_sheets(google_credentials)",
   "outputs": []
  },
  {
   "cell_type": "markdown",
   "id": "f2bd49ef-bfa6-4a7b-8e11-cbbaa3ba5c4e",
   "metadata": {
    "papermill": {},
    "tags": []
   },
   "source": [
    "## Output"
   ]
  },
  {
   "cell_type": "markdown",
   "id": "53f59a4d-fb65-4f78-a92d-447fb6cb4ae9",
   "metadata": {
    "papermill": {},
    "tags": []
   },
   "source": [
    "### Display result"
   ]
  },
  {
   "cell_type": "code",
   "execution_count": null,
   "id": "9b43306f-92a8-4a8a-ad12-22649d67428f",
   "metadata": {
    "papermill": {},
    "tags": []
   },
   "source": "print(\"Time entries successfully sent to Google Sheets spreadsheet!\")",
   "outputs": []
  },
  {
   "cell_type": "markdown",
   "id": "aef7b904-ddf3-4e8d-8526-f4ed69a824e6",
   "metadata": {
    "papermill": {},
    "tags": []
   },
   "source": [
    " "
   ]
  }
 ],
 "metadata": {
  "kernelspec": {
   "display_name": "Python 3",
   "language": "python",
   "name": "python3"
  },
  "language_info": {
   "codemirror_mode": {
    "name": "ipython",
    "version": 3
   },
   "file_extension": ".py",
   "mimetype": "text/x-python",
   "name": "python",
   "nbconvert_exporter": "python",
   "pygments_lexer": "ipython3",
   "version": "3.9.6"
  },
  "widgets": {
   "application/vnd.jupyter.widget-state+json": {
    "state": {},
    "version_major": 2,
    "version_minor": 0
   }
  }
 },
 "nbformat": 4,
 "nbformat_minor": 5
}