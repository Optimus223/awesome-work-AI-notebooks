{
 "cells": [
  {
   "cell_type": "markdown",
   "id": "e0882076-b185-4452-9ff5-03ae9abddf29",
   "metadata": {
    "papermill": {},
    "tags": []
   },
   "source": [
    "<img width=\"10%\" alt=\"Naas\" src=\"https://landen.imgix.net/jtci2pxwjczr/assets/5ice39g4.png?w=160\"/>"
   ]
  },
  {
   "cell_type": "markdown",
   "id": "0c5be36c-6fa4-4d28-80e0-ac13d083c712",
   "metadata": {
    "papermill": {},
    "tags": []
   },
   "source": [
    "# Clockify - Find tasks on project"
   ]
  },
  {
   "cell_type": "markdown",
   "id": "515df3ba-1d2f-46d4-b355-20338f4c5a03",
   "metadata": {
    "papermill": {},
    "tags": []
   },
   "source": [
    "**Tags:** #clockify #task #project #find #api #python"
   ]
  },
  {
   "cell_type": "markdown",
   "id": "04e55fcb-6ef6-4023-a66a-c27d7e6253dc",
   "metadata": {
    "papermill": {},
    "tags": []
   },
   "source": [
    "**Author:** [Florent Ravenel](https://www.linkedin.com/in/florent-ravenel/)"
   ]
  },
  {
   "cell_type": "markdown",
   "id": "7bfe7e72-8fc9-4ed3-aec3-18130901ae14",
   "metadata": {
    "papermill": {},
    "tags": []
   },
   "source": [
    "**Description:** This notebook will help you find tasks on a project using Clockify API. It is usefull for organizations to quickly find tasks on a project."
   ]
  },
  {
   "cell_type": "markdown",
   "id": "fada31bb-ec7e-40c9-a193-5d5da2799a3a",
   "metadata": {
    "papermill": {},
    "tags": []
   },
   "source": [
    "**References:**\n- [Clockify API Documentation](https://docs.clockify.me/#tag/Task/operation/getTasks)\n- [Clockify API Client](https://github.com/tomasbasham/clockify-api)"
   ]
  },
  {
   "cell_type": "markdown",
   "id": "dc9e4c3b-3029-49a2-ad86-c44c86ed078b",
   "metadata": {
    "papermill": {},
    "tags": []
   },
   "source": [
    "## Input"
   ]
  },
  {
   "cell_type": "markdown",
   "id": "d9591223-a88e-4dfc-94df-db740762b367",
   "metadata": {
    "papermill": {},
    "tags": []
   },
   "source": [
    "### Import libraries"
   ]
  },
  {
   "cell_type": "code",
   "execution_count": null,
   "id": "7a99507b-83f8-45d1-ab54-7d1e95017420",
   "metadata": {
    "papermill": {},
    "tags": []
   },
   "source": "import clockify",
   "outputs": []
  },
  {
   "cell_type": "markdown",
   "id": "51d0836b-41c5-4caf-817d-61fdd3ad2a39",
   "metadata": {
    "papermill": {},
    "tags": []
   },
   "source": [
    "### Setup Variables\n- `api_key`: [Generate an API key](https://clockify.me/user/settings)\n- `workspace_id`: [Find your workspace ID](https://clockify.me/developers-api#operation/getWorkspaces)\n- `project_id`: [Find your project ID](https://clockify.me/developers-api#operation/getProjects)"
   ]
  },
  {
   "cell_type": "code",
   "execution_count": null,
   "id": "a0e1dcf3-e88a-4b58-a60f-91c6b4ff5dbe",
   "metadata": {
    "papermill": {},
    "tags": []
   },
   "source": "api_key = \"YOUR_API_KEY\"\nworkspace_id = \"YOUR_WORKSPACE_ID\"\nproject_id = \"YOUR_PROJECT_ID\"",
   "outputs": []
  },
  {
   "cell_type": "markdown",
   "id": "cf9fe442-639f-4d4f-8a2e-99e69c7b9011",
   "metadata": {
    "papermill": {},
    "tags": []
   },
   "source": [
    "## Model"
   ]
  },
  {
   "cell_type": "markdown",
   "id": "5271bdfc-3f80-4c7e-ae0e-d9f2740ad8ad",
   "metadata": {
    "papermill": {},
    "tags": []
   },
   "source": [
    "### Find tasks on project"
   ]
  },
  {
   "cell_type": "markdown",
   "id": "35c6c4da-30da-4d1b-a535-c90719042198",
   "metadata": {
    "papermill": {},
    "tags": []
   },
   "source": [
    "Using the `clockify` library, we can find tasks on a project using the `get_tasks` method."
   ]
  },
  {
   "cell_type": "code",
   "execution_count": null,
   "id": "e4976bbc-e297-4c82-a36e-567d2c30f076",
   "metadata": {
    "papermill": {},
    "tags": []
   },
   "source": "client = clockify.ClockifyClient(api_key)\ntasks = client.tasks.get_tasks(workspace_id, project_id)",
   "outputs": []
  },
  {
   "cell_type": "markdown",
   "id": "22af36ce-3365-4dd9-a66a-2d31e2dd9dab",
   "metadata": {
    "papermill": {},
    "tags": []
   },
   "source": [
    "## Output"
   ]
  },
  {
   "cell_type": "markdown",
   "id": "9c1ea610-af5b-43c0-a02e-927c24a912a9",
   "metadata": {
    "papermill": {},
    "tags": []
   },
   "source": [
    "### Display result"
   ]
  },
  {
   "cell_type": "code",
   "execution_count": null,
   "id": "b46ee94f-b409-4d3c-81f8-a6cc57b5f87a",
   "metadata": {
    "papermill": {},
    "tags": []
   },
   "source": "for task in tasks:\n    print(task)",
   "outputs": []
  },
  {
   "cell_type": "markdown",
   "id": "ad671465-aa85-4bbf-968f-362a7553790d",
   "metadata": {
    "papermill": {},
    "tags": []
   },
   "source": [
    " "
   ]
  }
 ],
 "metadata": {
  "kernelspec": {
   "display_name": "Python 3",
   "language": "python",
   "name": "python3"
  },
  "language_info": {
   "codemirror_mode": {
    "name": "ipython",
    "version": 3
   },
   "file_extension": ".py",
   "mimetype": "text/x-python",
   "name": "python",
   "nbconvert_exporter": "python",
   "pygments_lexer": "ipython3",
   "version": "3.9.6"
  },
  "widgets": {
   "application/vnd.jupyter.widget-state+json": {
    "state": {},
    "version_major": 2,
    "version_minor": 0
   }
  }
 },
 "nbformat": 4,
 "nbformat_minor": 5
}