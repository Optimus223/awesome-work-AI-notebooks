{
 "cells": [
  {
   "cell_type": "markdown",
   "id": "2f084bc3-ad4a-4c1a-ae8c-d6643fc8710f",
   "metadata": {
    "papermill": {},
    "tags": []
   },
   "source": [
    "<img width=\"10%\" alt=\"Naas\" src=\"https://landen.imgix.net/jtci2pxwjczr/assets/5ice39g4.png?w=160\"/>"
   ]
  },
  {
   "cell_type": "markdown",
   "id": "7caa9688-4d33-43ce-a96d-f55a86b7f138",
   "metadata": {
    "papermill": {},
    "tags": []
   },
   "source": [
    "# Clockify - Add user to workspace"
   ]
  },
  {
   "cell_type": "markdown",
   "id": "cf698e34-74a7-404c-98a6-79b786eb63b5",
   "metadata": {
    "papermill": {},
    "tags": []
   },
   "source": [
    "**Tags:** #clockify #workspace #adduser #api #python #rest"
   ]
  },
  {
   "cell_type": "markdown",
   "id": "6b181b43-e086-45e0-aa37-c35bf0ea809c",
   "metadata": {
    "papermill": {},
    "tags": []
   },
   "source": [
    "**Author:** [Florent Ravenel](http://linkedin.com/in/florent-ravenel)"
   ]
  },
  {
   "cell_type": "markdown",
   "id": "2710a686-806a-4158-9222-560b2833f9a8",
   "metadata": {
    "papermill": {},
    "tags": []
   },
   "source": [
    "**Description:** This notebook will demonstrate how to add a user to a workspace using the Clockify API."
   ]
  },
  {
   "cell_type": "markdown",
   "id": "29c96689-f1a9-417a-95ff-7c87fec84f67",
   "metadata": {
    "papermill": {},
    "tags": []
   },
   "source": [
    "**References:**\n- [Clockify API Documentation](https://docs.clockify.me/#tag/Workspace/operation/addUsers)\n- [Clockify API Python Library](https://github.com/clockify/clockify_api_python)"
   ]
  },
  {
   "cell_type": "markdown",
   "id": "c064d176-7750-4dbb-83ce-c76f70b577d3",
   "metadata": {
    "papermill": {},
    "tags": []
   },
   "source": [
    "## Input"
   ]
  },
  {
   "cell_type": "markdown",
   "id": "209fbbca-463c-424e-a3e7-8694e44731da",
   "metadata": {
    "papermill": {},
    "tags": []
   },
   "source": [
    "### Import libraries"
   ]
  },
  {
   "cell_type": "code",
   "execution_count": null,
   "id": "393bc44b-020b-4938-bed5-7456580b9c71",
   "metadata": {
    "papermill": {},
    "tags": []
   },
   "source": "import clockify",
   "outputs": []
  },
  {
   "cell_type": "markdown",
   "id": "5848ebf0-d423-41ae-97bb-c3c8b74d3911",
   "metadata": {
    "papermill": {},
    "tags": []
   },
   "source": [
    "### Setup Variables\n- `workspace_id`: The ID of the workspace to which the user will be added.\n- `user_email`: The email address of the user to be added."
   ]
  },
  {
   "cell_type": "markdown",
   "id": "68af95cd-9a97-4ee4-9169-e36f4cdd9fc5",
   "metadata": {
    "papermill": {},
    "tags": []
   },
   "source": [
    "## Model"
   ]
  },
  {
   "cell_type": "markdown",
   "id": "ced8d83e-654b-4477-8be6-dd98f0f46253",
   "metadata": {
    "papermill": {},
    "tags": []
   },
   "source": [
    "### Add user to workspace"
   ]
  },
  {
   "cell_type": "markdown",
   "id": "518ddfc8-512d-483c-ad4e-a43c80b2de83",
   "metadata": {
    "papermill": {},
    "tags": []
   },
   "source": [
    "This function will add a user to a workspace using the Clockify API."
   ]
  },
  {
   "cell_type": "code",
   "execution_count": null,
   "id": "1f1ddf14-d13f-4cf2-9930-7f0e9a04f3e6",
   "metadata": {
    "papermill": {},
    "tags": []
   },
   "source": "def add_user_to_workspace(workspace_id, user_email):\n    # Create a Clockify client\n    client = clockify.ClockifyClient()\n\n    # Add the user to the workspace\n    client.workspaces.add_user(workspace_id, user_email)",
   "outputs": []
  },
  {
   "cell_type": "markdown",
   "id": "fd3e534e-777e-4694-bf51-f642555a741d",
   "metadata": {
    "papermill": {},
    "tags": []
   },
   "source": [
    "## Output"
   ]
  },
  {
   "cell_type": "markdown",
   "id": "ba342312-351b-4ac2-8e6b-7aaf91ccfcbe",
   "metadata": {
    "papermill": {},
    "tags": []
   },
   "source": [
    "### Display result"
   ]
  },
  {
   "cell_type": "code",
   "execution_count": null,
   "id": "338b30f5-5ee3-426b-a73b-c8a2dce1945a",
   "metadata": {
    "papermill": {},
    "tags": []
   },
   "source": "# Set the workspace ID and user email\nworkspace_id = \"1234567890\"\nuser_email = \"user@example.com\"\n# Add the user to the workspace\nadd_user_to_workspace(workspace_id, user_email)",
   "outputs": []
  },
  {
   "cell_type": "markdown",
   "id": "6ad0c3c4-7a23-4d65-8f14-ae2e72c8e5b4",
   "metadata": {
    "papermill": {},
    "tags": []
   },
   "source": [
    " "
   ]
  }
 ],
 "metadata": {
  "kernelspec": {
   "display_name": "Python 3",
   "language": "python",
   "name": "python3"
  },
  "language_info": {
   "codemirror_mode": {
    "name": "ipython",
    "version": 3
   },
   "file_extension": ".py",
   "mimetype": "text/x-python",
   "name": "python",
   "nbconvert_exporter": "python",
   "pygments_lexer": "ipython3",
   "version": "3.9.6"
  },
  "widgets": {
   "application/vnd.jupyter.widget-state+json": {
    "state": {},
    "version_major": 2,
    "version_minor": 0
   }
  }
 },
 "nbformat": 4,
 "nbformat_minor": 5
}