{
 "cells": [
  {
   "cell_type": "markdown",
   "id": "0facac33-1ff9-465e-b759-e93877c6f7e7",
   "metadata": {
    "papermill": {},
    "tags": []
   },
   "source": [
    "<img width=\"10%\" alt=\"Naas\" src=\"https://landen.imgix.net/jtci2pxwjczr/assets/5ice39g4.png?w=160\"/>"
   ]
  },
  {
   "cell_type": "markdown",
   "id": "2a104a9f-3aee-4279-8ce3-df9eb1d1e5ce",
   "metadata": {
    "papermill": {},
    "tags": []
   },
   "source": [
    "# Clockify - Remove user from workspace"
   ]
  },
  {
   "cell_type": "markdown",
   "id": "c44471ea-7429-430e-a94c-0dec5ccce8b0",
   "metadata": {
    "papermill": {},
    "tags": []
   },
   "source": [
    "**Tags:** #clockify #workspace #remove #user #api #rest"
   ]
  },
  {
   "cell_type": "markdown",
   "id": "a25f02cc-89bd-426c-aef2-2f5674e7edea",
   "metadata": {
    "papermill": {},
    "tags": []
   },
   "source": [
    "**Author:** [Florent Ravenel](http://linkedin.com/in/florent-ravenel)"
   ]
  },
  {
   "cell_type": "markdown",
   "id": "095c1a79-88e6-4689-bb9f-2b80bf5e6ab1",
   "metadata": {
    "papermill": {},
    "tags": []
   },
   "source": [
    "**Description:** This notebook explains how to remove a user from a workspace using the Clockify API."
   ]
  },
  {
   "cell_type": "markdown",
   "id": "2a57a5f1-b33b-454a-ad97-3d8678b4c6aa",
   "metadata": {
    "papermill": {},
    "tags": []
   },
   "source": [
    "**References:**\n- [Clockify API Documentation](https://clockify.me/developers-api)\n- [Clockify Workspace Documentation](https://docs.clockify.me/#tag/Workspace/operation/removeMember)"
   ]
  },
  {
   "cell_type": "markdown",
   "id": "c0e4d0f8-d605-4568-88fc-685d193ed480",
   "metadata": {
    "papermill": {},
    "tags": []
   },
   "source": [
    "## Input"
   ]
  },
  {
   "cell_type": "markdown",
   "id": "ed7f9e48-45b4-4c02-9eca-155a9d9ee2e8",
   "metadata": {
    "papermill": {},
    "tags": []
   },
   "source": [
    "### Import libraries"
   ]
  },
  {
   "cell_type": "code",
   "execution_count": null,
   "id": "53aa4b7d-826d-429a-a8ae-bdbbd3ff6f04",
   "metadata": {
    "papermill": {},
    "tags": []
   },
   "source": "import requests",
   "outputs": []
  },
  {
   "cell_type": "markdown",
   "id": "aa27c51d-2ecd-45ef-9450-c4a3b2ec748c",
   "metadata": {
    "papermill": {},
    "tags": []
   },
   "source": [
    "### Setup Variables\n- `api_key`: API key for Clockify. [Instructions to get an API key](https://clockify.me/developers-api).\n- `workspace_id`: ID of the workspace from which the user will be removed.\n- `user_id`: ID of the user to be removed."
   ]
  },
  {
   "cell_type": "code",
   "execution_count": null,
   "id": "13992b50-588d-4bf4-9bcf-35dcb9eb418a",
   "metadata": {
    "papermill": {},
    "tags": []
   },
   "source": "api_key = \"<YOUR_API_KEY>\"\nworkspace_id = \"<YOUR_WORKSPACE_ID>\"\nuser_id = \"<YOUR_USER_ID>\"",
   "outputs": []
  },
  {
   "cell_type": "markdown",
   "id": "689ad235-ca8e-40a2-a2b2-b500f4271d4c",
   "metadata": {
    "papermill": {},
    "tags": []
   },
   "source": [
    "## Model"
   ]
  },
  {
   "cell_type": "markdown",
   "id": "f9b539f3-3bd0-40e4-b426-f0f646db2534",
   "metadata": {
    "papermill": {},
    "tags": []
   },
   "source": [
    "### Remove user from workspace"
   ]
  },
  {
   "cell_type": "markdown",
   "id": "2aaad14a-dfc9-476f-ab0a-2546332fbc1c",
   "metadata": {
    "papermill": {},
    "tags": []
   },
   "source": [
    "This function removes a user from a workspace using the Clockify API."
   ]
  },
  {
   "cell_type": "code",
   "execution_count": null,
   "id": "bc57f82d-c951-414f-8dbe-51289965ed33",
   "metadata": {
    "papermill": {},
    "tags": []
   },
   "source": "def remove_user_from_workspace(api_key, workspace_id, user_id):\n    url = f\"https://api.clockify.me/api/workspaces/{workspace_id}/users/{user_id}\"\n    headers = {\"X-Api-Key\": api_key}\n    response = requests.delete(url, headers=headers)\n    return response",
   "outputs": []
  },
  {
   "cell_type": "markdown",
   "id": "0def8e13-fd58-412e-9417-6d45d7bde839",
   "metadata": {
    "papermill": {},
    "tags": []
   },
   "source": [
    "## Output"
   ]
  },
  {
   "cell_type": "markdown",
   "id": "b6537150-56aa-4306-bb1a-d0ed1d23a0bc",
   "metadata": {
    "papermill": {},
    "tags": []
   },
   "source": [
    "### Display result"
   ]
  },
  {
   "cell_type": "code",
   "execution_count": null,
   "id": "26f14889-7855-4670-ba96-0553e406580a",
   "metadata": {
    "papermill": {},
    "tags": []
   },
   "source": "response = remove_user_from_workspace(api_key, workspace_id, user_id)\nprint(response.status_code)",
   "outputs": []
  },
  {
   "cell_type": "markdown",
   "id": "c09a6d1a-8b5b-41c4-9730-fa3752f4c15f",
   "metadata": {
    "papermill": {},
    "tags": []
   },
   "source": [
    " "
   ]
  }
 ],
 "metadata": {
  "kernelspec": {
   "display_name": "Python 3",
   "language": "python",
   "name": "python3"
  },
  "language_info": {
   "codemirror_mode": {
    "name": "ipython",
    "version": 3
   },
   "file_extension": ".py",
   "mimetype": "text/x-python",
   "name": "python",
   "nbconvert_exporter": "python",
   "pygments_lexer": "ipython3",
   "version": "3.9.6"
  },
  "widgets": {
   "application/vnd.jupyter.widget-state+json": {
    "state": {},
    "version_major": 2,
    "version_minor": 0
   }
  }
 },
 "nbformat": 4,
 "nbformat_minor": 5
}