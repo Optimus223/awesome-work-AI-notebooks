{
 "cells": [
  {
   "cell_type": "markdown",
   "id": "1272bbbb-089b-446f-8542-7c19dce1fefa",
   "metadata": {
    "papermill": {},
    "tags": []
   },
   "source": [
    "<img width=\"10%\" alt=\"Naas\" src=\"https://landen.imgix.net/jtci2pxwjczr/assets/5ice39g4.png?w=160\"/>"
   ]
  },
  {
   "cell_type": "markdown",
   "id": "de0e5019-bc4c-422b-a53b-a0545fe4b011",
   "metadata": {
    "papermill": {},
    "tags": []
   },
   "source": [
    "# FEC - Visualiser Charges Horizontal Barchart"
   ]
  },
  {
   "cell_type": "markdown",
   "id": "6b7ef910-d032-49db-a721-c7b14420d6bd",
   "metadata": {
    "papermill": {},
    "tags": []
   },
   "source": [
    "**Tags:** #plotly #horizontalbarchart #visualisation #fec #charges #python"
   ]
  },
  {
   "cell_type": "markdown",
   "id": "8344a80f-ce3a-4bd2-a5d6-1df3985b8a43",
   "metadata": {
    "papermill": {},
    "tags": []
   },
   "source": [
    "**Author:** [Florent Ravenel](https://www.linkedin.com/in/florent-ravenel/)"
   ]
  },
  {
   "cell_type": "markdown",
   "id": "716a26f4-3720-4447-bbc6-0efd0ce1d514",
   "metadata": {
    "papermill": {},
    "tags": []
   },
   "source": [
    "**Description:** This notebook visualises charges using a horizontal barchart from plotly. It is usefull for organisations to quickly analyse and compare charges."
   ]
  },
  {
   "cell_type": "markdown",
   "id": "ddff3a4f-f282-4ea2-bbff-67cc155ec5f4",
   "metadata": {
    "papermill": {},
    "tags": []
   },
   "source": [
    "**References:**\n- [Plotly Documentation](https://plotly.com/python/reference/)\n- [Plotly Horizontal Barchart](https://plotly.com/python/horizontal-bar-charts/)"
   ]
  },
  {
   "cell_type": "markdown",
   "id": "0347c324-b597-46d5-93d0-e5f699cb7ad9",
   "metadata": {
    "papermill": {},
    "tags": []
   },
   "source": [
    "## Input"
   ]
  },
  {
   "cell_type": "markdown",
   "id": "51c8d78a-6cd5-49cb-b8be-0a38b283caac",
   "metadata": {
    "papermill": {},
    "tags": []
   },
   "source": [
    "### Import libraries"
   ]
  },
  {
   "cell_type": "code",
   "execution_count": null,
   "id": "a9701050-530a-4941-bf89-e60ccd4a03c2",
   "metadata": {
    "papermill": {},
    "tags": []
   },
   "source": "import plotly.graph_objects as go",
   "outputs": []
  },
  {
   "cell_type": "markdown",
   "id": "7ef43e81-ecc6-4d55-a25f-efdec2ff9aa3",
   "metadata": {
    "papermill": {},
    "tags": []
   },
   "source": [
    "### Setup Variables\n- `charges`: list of charges to be visualised"
   ]
  },
  {
   "cell_type": "code",
   "execution_count": null,
   "id": "f7408a1f-d455-4d5b-ae1f-aee84b388a66",
   "metadata": {
    "papermill": {},
    "tags": []
   },
   "source": "charges = [100, 200, 300, 400, 500]",
   "outputs": []
  },
  {
   "cell_type": "markdown",
   "id": "36019e44-b572-4995-8b29-e77814f6526a",
   "metadata": {
    "papermill": {},
    "tags": []
   },
   "source": [
    "## Model"
   ]
  },
  {
   "cell_type": "markdown",
   "id": "2ede36d7-2435-43f0-b0e1-2549cadc3fd4",
   "metadata": {
    "papermill": {},
    "tags": []
   },
   "source": [
    "### Visualise Charges"
   ]
  },
  {
   "cell_type": "markdown",
   "id": "0b720439-9888-4845-bb1e-f205d84d4f80",
   "metadata": {
    "papermill": {},
    "tags": []
   },
   "source": [
    "Long description of the function to visualise charges using a horizontal barchart from plotly."
   ]
  },
  {
   "cell_type": "code",
   "execution_count": null,
   "id": "4965bd5d-2d62-497c-8d02-5e1a8f2c271b",
   "metadata": {
    "papermill": {},
    "tags": []
   },
   "source": "fig = go.Figure(data=[go.Bar(x=charges, y=[str(x) for x in charges], orientation=\"h\")])\nfig.update_layout(\n    title=\"Charges\",\n    xaxis_title=\"Montant\",\n    yaxis_title=\"Charges\",\n)",
   "outputs": []
  },
  {
   "cell_type": "markdown",
   "id": "e1e19314-13c3-4a96-a72c-268a1a4cc86a",
   "metadata": {
    "papermill": {},
    "tags": []
   },
   "source": [
    "## Output"
   ]
  },
  {
   "cell_type": "markdown",
   "id": "60faf59a-97bc-4674-ba19-17e5ee0ce9d0",
   "metadata": {
    "papermill": {},
    "tags": []
   },
   "source": [
    "### Display result"
   ]
  },
  {
   "cell_type": "code",
   "execution_count": null,
   "id": "6d7b7313-5c51-495b-a419-1e1498d8244f",
   "metadata": {
    "papermill": {},
    "tags": []
   },
   "source": "fig.show()",
   "outputs": []
  },
  {
   "cell_type": "markdown",
   "id": "d917149f-76d3-4eb3-9951-dc57db442bf3",
   "metadata": {
    "papermill": {},
    "tags": []
   },
   "source": [
    " "
   ]
  }
 ],
 "metadata": {
  "kernelspec": {
   "display_name": "Python 3",
   "language": "python",
   "name": "python3"
  },
  "language_info": {
   "codemirror_mode": {
    "name": "ipython",
    "version": 3
   },
   "file_extension": ".py",
   "mimetype": "text/x-python",
   "name": "python",
   "nbconvert_exporter": "python",
   "pygments_lexer": "ipython3",
   "version": "3.9.6"
  },
  "widgets": {
   "application/vnd.jupyter.widget-state+json": {
    "state": {},
    "version_major": 2,
    "version_minor": 0
   }
  }
 },
 "nbformat": 4,
 "nbformat_minor": 5
}