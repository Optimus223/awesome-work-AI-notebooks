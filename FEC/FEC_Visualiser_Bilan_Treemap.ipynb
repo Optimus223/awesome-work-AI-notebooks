{
 "cells": [
  {
   "cell_type": "markdown",
   "id": "latin-packing",
   "metadata": {
    "execution": {
     "iopub.execute_input": "2021-02-23T14:22:16.610471Z",
     "iopub.status.busy": "2021-02-23T14:22:16.610129Z",
     "iopub.status.idle": "2021-02-23T14:22:16.627784Z",
     "shell.execute_reply": "2021-02-23T14:22:16.626866Z",
     "shell.execute_reply.started": "2021-02-23T14:22:16.610384Z"
    },
    "papermill": {},
    "tags": []
   },
   "source": [
    "<img width=\"10%\" alt=\"Naas\" src=\"https://landen.imgix.net/jtci2pxwjczr/assets/5ice39g4.png?w=160\"/>"
   ]
  },
  {
   "cell_type": "markdown",
   "id": "compressed-wilson",
   "metadata": {
    "papermill": {},
    "tags": []
   },
   "source": [
    "# FEC - Visualiser le Bilan avec un Treemap\n",
    "<a href=\"https://app.naas.ai/user-redirect/naas/downloader?url=https://raw.githubusercontent.com/jupyter-naas/awesome-notebooks/master/template.ipynb\" target=\"_parent\">\n",
    "<img src=\"https://img.shields.io/badge/-Open%20in%20Naas-success?labelColor=000000&logo=data:image/svg+xml;base64,PD94bWwgdmVyc2lvbj0iMS4wIiBlbmNvZGluZz0iVVRGLTgiPz4KPHN2ZyB3aWR0aD0iMTAyNHB4IiBoZWlnaHQ9IjEwMjRweCIgdmlld0JveD0iMCAwIDEwMjQgMTAyNCIgeG1sbnM9Imh0dHA6Ly93d3cudzMub3JnLzIwMDAvc3ZnIiB4bWxuczp4bGluaz0iaHR0cDovL3d3dy53My5vcmcvMTk5OS94bGluayIgdmVyc2lvbj0iMS4xIj4KIDwhLS0gR2VuZXJhdGVkIGJ5IFBpeGVsbWF0b3IgUHJvIDIuMC41IC0tPgogPGRlZnM+CiAgPHRleHQgaWQ9InN0cmluZyIgdHJhbnNmb3JtPSJtYXRyaXgoMS4wIDAuMCAwLjAgMS4wIDIyOC4wIDU0LjUpIiBmb250LWZhbWlseT0iQ29tZm9ydGFhLVJlZ3VsYXIsIENvbWZvcnRhYSIgZm9udC1zaXplPSI4MDAiIHRleHQtZGVjb3JhdGlvbj0ibm9uZSIgZmlsbD0iI2ZmZmZmZiIgeD0iMS4xOTk5OTk5OTk5OTk5ODg2IiB5PSI3MDUuMCI+bjwvdGV4dD4KIDwvZGVmcz4KIDx1c2UgaWQ9Im4iIHhsaW5rOmhyZWY9IiNzdHJpbmciLz4KPC9zdmc+Cg==\"/>\n",
    "</a><br><br><a href=\"https://github.com/jupyter-naas/awesome-notebooks/issues/new?assignees=&labels=&template=template-request.md&title=Tool+-+Action+of+the+notebook+\">Template request</a> | <a href=\"https://github.com/jupyter-naas/awesome-notebooks/issues/new?assignees=&labels=&template=bug_report.md&title=[ERROR]+Tool+/+Folder+Action+of+the+notebook+\">Bug report</a>"
   ]
  },
  {
   "cell_type": "markdown",
   "id": "religious-programmer",
   "metadata": {},
   "source": [
    "**Tags:** #fec #plotly #treemap #snippet #dataviz"
   ]
  },
  {
   "cell_type": "markdown",
   "id": "1fe9f56e-561c-4f52-aef8-b861c9462107",
   "metadata": {},
   "source": [
    "**Author:** [Florent Ravenel](https://www.linkedin.com/in/florent-ravenel/)"
   ]
  },
  {
   "cell_type": "markdown",
   "id": "31ea7cdb-e10d-43fc-b026-f69249a59736",
   "metadata": {},
   "source": [
    "**Description:** This notebook displays Balance Sheet items into a treemap graph. In a balance sheet, treemap templates can be used to show the distribution of assets and liabilities. The assets can be divided into smaller categories such as cash, marketable securities, accounts receivable, and inventory, while the liabilities can be separated into categories like loans payable, bonds payable, and accounts payable. With a treemap, it is easy to see the relative proportions of each category, making it easier to identify any trends or patterns in the data."
   ]
  },
  {
   "cell_type": "markdown",
   "id": "f2161e74-0bb5-4524-9c59-4a8e12cc7070",
   "metadata": {
    "execution": {
     "iopub.execute_input": "2023-01-31T07:36:23.088474Z",
     "iopub.status.busy": "2023-01-31T07:36:23.088192Z",
     "iopub.status.idle": "2023-01-31T07:36:23.111586Z",
     "shell.execute_reply": "2023-01-31T07:36:23.109451Z",
     "shell.execute_reply.started": "2023-01-31T07:36:23.088407Z"
    }
   },
   "source": [
    "<u>References</u>:\n",
    "- https://plotly.com/python/treemaps/"
   ]
  },
  {
   "cell_type": "markdown",
   "id": "distinguished-truth",
   "metadata": {
    "papermill": {},
    "tags": []
   },
   "source": [
    "## Input"
   ]
  },
  {
   "cell_type": "markdown",
   "id": "numeric-mediterranean",
   "metadata": {},
   "source": [
    "### Import libraries"
   ]
  },
  {
   "cell_type": "code",
   "execution_count": null,
   "id": "potential-surfing",
   "metadata": {
    "tags": []
   },
   "outputs": [],
   "source": [
    "import plotly.graph_objects as go\n",
    "from plotly.subplots import make_subplots\n",
    "import pandas as pd\n",
    "import naas"
   ]
  },
  {
   "cell_type": "markdown",
   "id": "aggressive-trustee",
   "metadata": {},
   "source": [
    "### Setup Variables"
   ]
  },
  {
   "cell_type": "code",
   "execution_count": null,
   "id": "continuous-melbourne",
   "metadata": {
    "tags": []
   },
   "outputs": [],
   "source": [
    "# Inputs\n",
    "# Create sample financial data\n",
    "data_asset = {\n",
    "    \"ENTITY\": [\"Société X\"] * 5,\n",
    "    \"SCENARIO\": [\"2022-12\"] * 5,\n",
    "    \"LABEL\": ['Total Actif', 'Créances clients',  \"Stocks\", \"Immobilisations\", 'Trésorerie'],\n",
    "    \"PARENT\":  [\"\", 'Total Actif', 'Total Actif', 'Total Actif', 'Total Actif'],\n",
    "    \"CATEGORY\": [\"Actif\"] * 5,\n",
    "    \"VALUE\": [35.4, 10.2, 2.5, 17.1, 5.6],\n",
    "}\n",
    "\n",
    "data_liability = {\n",
    "    \"ENTITY\": [\"Société X\"] * 5,\n",
    "    \"SCENARIO\": [\"2022-12\"] * 5,\n",
    "    \"LABEL\": ['Total Passif', 'Capitaux propres',  \"Dettes\", \"Emprunts\", 'Provisions'],\n",
    "    \"PARENT\":  [\"\", 'Total Passif', 'Total Passif', 'Total Passif', 'Total Passif'],\n",
    "    \"CATEGORY\": [\"Actif\"] * 5,\n",
    "    \"VALUE\": [35.4, 16.8, 14.8, 1.2, 2.6],\n",
    "}\n",
    "\n",
    "# Outputs\n",
    "html_output = \"Bilan_Treemap.html\""
   ]
  },
  {
   "cell_type": "markdown",
   "id": "registered-showcase",
   "metadata": {},
   "source": [
    "## Model"
   ]
  },
  {
   "cell_type": "markdown",
   "id": "68ca9a03-004b-42b1-ada5-a82e8a31edc6",
   "metadata": {},
   "source": [
    "### Get \"Assets\" data"
   ]
  },
  {
   "cell_type": "code",
   "execution_count": null,
   "id": "ad2cccad-3479-4ae7-95d3-f849f86cfeab",
   "metadata": {
    "tags": []
   },
   "outputs": [],
   "source": [
    "df_asset = pd.DataFrame(data_asset)\n",
    "df_asset"
   ]
  },
  {
   "cell_type": "markdown",
   "id": "c38729b5-fe0c-410d-8fa9-4c0587fa38f2",
   "metadata": {},
   "source": [
    "### Get \"Liabilities\" data"
   ]
  },
  {
   "cell_type": "code",
   "execution_count": null,
   "id": "5d2996bd-6b24-4e36-903f-088b5276e1a0",
   "metadata": {
    "tags": []
   },
   "outputs": [],
   "source": [
    "df_liability = pd.DataFrame(data_liability)\n",
    "df_liability"
   ]
  },
  {
   "cell_type": "markdown",
   "id": "tested-astrology",
   "metadata": {},
   "source": [
    "### Create Treemap"
   ]
  },
  {
   "cell_type": "code",
   "execution_count": null,
   "id": "crude-louisville",
   "metadata": {
    "papermill": {},
    "tags": []
   },
   "outputs": [],
   "source": [
    "fig = make_subplots(\n",
    "    cols=2,\n",
    "    rows=1,\n",
    "    horizontal_spacing=0.02,\n",
    "    specs=[[{'type': 'treemap', 'rowspan': 1}, {'type': 'treemap'}]]\n",
    ")\n",
    "\n",
    "fig.add_trace(\n",
    "    go.Treemap(\n",
    "        labels=df_asset[\"LABEL\"],\n",
    "        parents=df_asset[\"PARENT\"],\n",
    "        values=df_asset[\"VALUE\"],\n",
    "        textinfo=\"label+value+percent parent\",\n",
    "        marker_colorscale='Blues',\n",
    "        hoverinfo=\"label+value+percent parent\",\n",
    "        branchvalues='total'\n",
    "    ),\n",
    "    row=1,\n",
    "    col=1\n",
    ")\n",
    "\n",
    "fig.add_trace(\n",
    "    go.Treemap(\n",
    "        labels=df_liability[\"LABEL\"],\n",
    "        parents=df_liability[\"PARENT\"],\n",
    "        values=df_liability[\"VALUE\"],\n",
    "        textinfo=\"label+value+percent parent\",\n",
    "        marker_colorscale='oranges',\n",
    "        hoverinfo=\"label+value+percent parent\",\n",
    "        branchvalues='total'\n",
    "    ),\n",
    "    row=1,\n",
    "    col=2\n",
    ")\n",
    "\n",
    "fig.update_layout(\n",
    "    title=\"Décomposition du Bilan\",\n",
    "    title_x=0.01,\n",
    "    margin=dict(t=50, l=10, r=10, b=25)\n",
    ")\n",
    "fig.show()"
   ]
  },
  {
   "cell_type": "markdown",
   "id": "lonely-pacific",
   "metadata": {
    "execution": {
     "iopub.execute_input": "2021-07-02T23:32:10.789097Z",
     "iopub.status.busy": "2021-07-02T23:32:10.788829Z",
     "iopub.status.idle": "2021-07-02T23:32:10.796900Z",
     "shell.execute_reply": "2021-07-02T23:32:10.796358Z",
     "shell.execute_reply.started": "2021-07-02T23:32:10.789033Z"
    }
   },
   "source": [
    "## Output"
   ]
  },
  {
   "cell_type": "markdown",
   "id": "220e27c0-0b06-4916-92fe-aa548b730323",
   "metadata": {
    "papermill": {},
    "tags": []
   },
   "source": [
    "### Save and share your graph in HTML"
   ]
  },
  {
   "cell_type": "code",
   "execution_count": null,
   "id": "fb1dd9f7-bd83-4d25-bc45-6496d36c799f",
   "metadata": {
    "papermill": {},
    "tags": []
   },
   "outputs": [],
   "source": [
    "# Save your graph in HTML\n",
    "fig.write_html(html_output)\n",
    "\n",
    "# Share output with naas\n",
    "naas.asset.add(html_output, params={\"inline\": True})\n",
    "\n",
    "#-> Uncomment the line below to remove your asset\n",
    "# naas.asset.delete(html_output)"
   ]
  }
 ],
 "metadata": {
  "kernelspec": {
   "display_name": "Python 3",
   "language": "python",
   "name": "python3"
  },
  "language_info": {
   "codemirror_mode": {
    "name": "ipython",
    "version": 3
   },
   "file_extension": ".py",
   "mimetype": "text/x-python",
   "name": "python",
   "nbconvert_exporter": "python",
   "pygments_lexer": "ipython3",
   "version": "3.9.6"
  },
  "papermill": {
   "default_parameters": {},
   "environment_variables": {},
   "parameters": {},
   "version": "2.3.3"
  },
  "widgets": {
   "application/vnd.jupyter.widget-state+json": {
    "state": {},
    "version_major": 2,
    "version_minor": 0
   }
  }
 },
 "nbformat": 4,
 "nbformat_minor": 5
}
