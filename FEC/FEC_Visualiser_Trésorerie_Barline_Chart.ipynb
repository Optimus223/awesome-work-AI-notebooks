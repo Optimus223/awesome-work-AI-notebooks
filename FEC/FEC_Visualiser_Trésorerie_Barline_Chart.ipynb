{
 "cells": [
  {
   "cell_type": "markdown",
   "id": "latin-packing",
   "metadata": {
    "execution": {
     "iopub.execute_input": "2021-02-23T14:22:16.610471Z",
     "iopub.status.busy": "2021-02-23T14:22:16.610129Z",
     "iopub.status.idle": "2021-02-23T14:22:16.627784Z",
     "shell.execute_reply": "2021-02-23T14:22:16.626866Z",
     "shell.execute_reply.started": "2021-02-23T14:22:16.610384Z"
    },
    "papermill": {},
    "tags": []
   },
   "source": [
    "<img width=\"10%\" alt=\"Naas\" src=\"https://landen.imgix.net/jtci2pxwjczr/assets/5ice39g4.png?w=160\"/>"
   ]
  },
  {
   "cell_type": "markdown",
   "id": "compressed-wilson",
   "metadata": {
    "papermill": {},
    "tags": []
   },
   "source": [
    "# FEC - Visualiser la Tr\u00e9sorerie avec un Barline Chart\n",
    "<a href=\"https://app.naas.ai/user-redirect/naas/downloader?url=https://raw.githubusercontent.com/jupyter-naas/awesome-notebooks/master/Plotly/Plotly_Create_Barline_chart.ipynb\" target=\"_parent\"><img src=\"https://naasai-public.s3.eu-west-3.amazonaws.com/open_in_naas.svg\"/></a><br><br><a href=\"https://github.com/jupyter-naas/awesome-notebooks/issues/new?assignees=&labels=&template=template-request.md&title=Tool+-+Action+of+the+notebook+\">Template request</a> | <a href=\"https://github.com/jupyter-naas/awesome-notebooks/issues/new?assignees=&labels=bug&template=bug_report.md&title=Plotly+-+Create+Barline+chart:+Error+short+description\">Bug report</a>"
   ]
  },
  {
   "cell_type": "markdown",
   "id": "religious-programmer",
   "metadata": {
    "papermill": {},
    "tags": []
   },
   "source": [
    "**Tags:** #fec #plotly #naas #snippet #operations #barline"
   ]
  },
  {
   "cell_type": "markdown",
   "id": "1fe9f56e-561c-4f52-aef8-b861c9462107",
   "metadata": {
    "papermill": {},
    "tags": []
   },
   "source": [
    "**Author:** [Florent Ravenel](https://www.linkedin.com/in/florent-ravenel)"
   ]
  },
  {
   "cell_type": "markdown",
   "id": "naas-description",
   "metadata": {
    "papermill": {},
    "tags": [
     "description"
    ]
   },
   "source": [
    "**Description:** Ce notebook vous permettra de visualiser la tr\u00e9sorerie de votre entreprise \u00e0 l'aide d'un diagramme de barres. Vous pourrez facilement suivre les entr\u00e9es et les sorties d'argent, ce qui vous aidera \u00e0 mieux comprendre la situation financi\u00e8re de votre entreprise."
   ]
  },
  {
   "cell_type": "markdown",
   "id": "distinguished-truth",
   "metadata": {
    "papermill": {},
    "tags": []
   },
   "source": [
    "## Input"
   ]
  },
  {
   "cell_type": "markdown",
   "id": "numeric-mediterranean",
   "metadata": {
    "papermill": {},
    "tags": []
   },
   "source": [
    "### Import libraries"
   ]
  },
  {
   "cell_type": "code",
   "execution_count": 5,
   "id": "potential-surfing",
   "metadata": {
    "execution": {
     "iopub.execute_input": "2023-02-08T16:02:55.846543Z",
     "iopub.status.busy": "2023-02-08T16:02:55.846322Z",
     "iopub.status.idle": "2023-02-08T16:02:55.849648Z",
     "shell.execute_reply": "2023-02-08T16:02:55.848989Z",
     "shell.execute_reply.started": "2023-02-08T16:02:55.846521Z"
    },
    "papermill": {},
    "tags": []
   },
   "outputs": [],
   "source": "import plotly.graph_objects as go\nfrom plotly.subplots import make_subplots\nimport pandas as pd\nimport naas\nimport random"
  },
  {
   "cell_type": "markdown",
   "id": "9b63f92e-b1e0-43cc-86d8-db12ae89558e",
   "metadata": {
    "papermill": {},
    "tags": []
   },
   "source": [
    "### Setup Variables"
   ]
  },
  {
   "cell_type": "code",
   "execution_count": 24,
   "id": "47b21878-f530-436b-95f8-4ed65b42da19",
   "metadata": {
    "execution": {
     "iopub.execute_input": "2023-02-08T16:18:28.346232Z",
     "iopub.status.busy": "2023-02-08T16:18:28.346007Z",
     "iopub.status.idle": "2023-02-08T16:18:28.351087Z",
     "shell.execute_reply": "2023-02-08T16:18:28.350482Z",
     "shell.execute_reply.started": "2023-02-08T16:18:28.346210Z"
    },
    "papermill": {},
    "tags": []
   },
   "outputs": [],
   "source": "# Inputs\n# Create sample financial data\ndata_cashin = {\n    \"ENTITY\": [\"Soci\u00e9t\u00e9 X\"] * 12,\n    \"SCENARIO\": [\"2022-12\"] * 12,\n    \"LABEL\": [\n        \"2022-01\",\n        \"2022-02\",\n        \"2022-03\",\n        \"2022-04\",\n        \"2022-05\",\n        \"2022-06\",\n        \"2022-07\",\n        \"2022-08\",\n        \"2022-09\",\n        \"2022-10\",\n        \"2022-11\",\n        \"2022-12\",\n    ],\n    \"GROUP\": [\"Encaissements\"] * 12,\n    \"VALUE\": [random.randint(0, 1000) for i in range(0, 12)],\n}\ndata_cashout = {\n    \"ENTITY\": [\"Soci\u00e9t\u00e9 X\"] * 12,\n    \"SCENARIO\": [\"2022-12\"] * 12,\n    \"LABEL\": [\n        \"2022-01\",\n        \"2022-02\",\n        \"2022-03\",\n        \"2022-04\",\n        \"2022-05\",\n        \"2022-06\",\n        \"2022-07\",\n        \"2022-08\",\n        \"2022-09\",\n        \"2022-10\",\n        \"2022-11\",\n        \"2022-12\",\n    ],\n    \"GROUP\": [\"D\u00e9caissement\"] * 12,\n    \"VALUE\": [random.randint(0, 500) * -1 for i in range(0, 12)],\n}\n\n# Outputs\nhtml_output = \"Tr\u00e9sorerie_Barline.html\"\npng_output = \"Tr\u00e9sorerie_Barline.png\""
  },
  {
   "cell_type": "markdown",
   "id": "registered-showcase",
   "metadata": {
    "papermill": {},
    "tags": []
   },
   "source": [
    "## Model"
   ]
  },
  {
   "cell_type": "markdown",
   "id": "0df10ed5-44fe-4abd-a3c1-61154c819e8c",
   "metadata": {},
   "source": [
    "### Get \"Cashin\" data"
   ]
  },
  {
   "cell_type": "code",
   "execution_count": 25,
   "id": "82cb0b6e-1a32-46fb-96b2-a1fba5ff515e",
   "metadata": {
    "execution": {
     "iopub.execute_input": "2023-02-08T16:18:28.971964Z",
     "iopub.status.busy": "2023-02-08T16:18:28.971737Z",
     "iopub.status.idle": "2023-02-08T16:18:28.994186Z",
     "shell.execute_reply": "2023-02-08T16:18:28.993396Z",
     "shell.execute_reply.started": "2023-02-08T16:18:28.971943Z"
    },
    "tags": []
   },
   "outputs": [
    {
     "data": {
      "text/html": [
       "<div>\n",
       "<style scoped>\n",
       "    .dataframe tbody tr th:only-of-type {\n",
       "        vertical-align: middle;\n",
       "    }\n",
       "\n",
       "    .dataframe tbody tr th {\n",
       "        vertical-align: top;\n",
       "    }\n",
       "\n",
       "    .dataframe thead th {\n",
       "        text-align: right;\n",
       "    }\n",
       "</style>\n",
       "<table border=\"1\" class=\"dataframe\">\n",
       "  <thead>\n",
       "    <tr style=\"text-align: right;\">\n",
       "      <th></th>\n",
       "      <th>ENTITY</th>\n",
       "      <th>SCENARIO</th>\n",
       "      <th>LABEL</th>\n",
       "      <th>GROUP</th>\n",
       "      <th>VALUE</th>\n",
       "    </tr>\n",
       "  </thead>\n",
       "  <tbody>\n",
       "    <tr>\n",
       "      <th>0</th>\n",
       "      <td>Soci\u00e9t\u00e9 X</td>\n",
       "      <td>2022-12</td>\n",
       "      <td>2022-01</td>\n",
       "      <td>Encaissements</td>\n",
       "      <td>425</td>\n",
       "    </tr>\n",
       "    <tr>\n",
       "      <th>1</th>\n",
       "      <td>Soci\u00e9t\u00e9 X</td>\n",
       "      <td>2022-12</td>\n",
       "      <td>2022-02</td>\n",
       "      <td>Encaissements</td>\n",
       "      <td>941</td>\n",
       "    </tr>\n",
       "    <tr>\n",
       "      <th>2</th>\n",
       "      <td>Soci\u00e9t\u00e9 X</td>\n",
       "      <td>2022-12</td>\n",
       "      <td>2022-03</td>\n",
       "      <td>Encaissements</td>\n",
       "      <td>694</td>\n",
       "    </tr>\n",
       "    <tr>\n",
       "      <th>3</th>\n",
       "      <td>Soci\u00e9t\u00e9 X</td>\n",
       "      <td>2022-12</td>\n",
       "      <td>2022-04</td>\n",
       "      <td>Encaissements</td>\n",
       "      <td>801</td>\n",
       "    </tr>\n",
       "    <tr>\n",
       "      <th>4</th>\n",
       "      <td>Soci\u00e9t\u00e9 X</td>\n",
       "      <td>2022-12</td>\n",
       "      <td>2022-05</td>\n",
       "      <td>Encaissements</td>\n",
       "      <td>206</td>\n",
       "    </tr>\n",
       "    <tr>\n",
       "      <th>5</th>\n",
       "      <td>Soci\u00e9t\u00e9 X</td>\n",
       "      <td>2022-12</td>\n",
       "      <td>2022-06</td>\n",
       "      <td>Encaissements</td>\n",
       "      <td>564</td>\n",
       "    </tr>\n",
       "    <tr>\n",
       "      <th>6</th>\n",
       "      <td>Soci\u00e9t\u00e9 X</td>\n",
       "      <td>2022-12</td>\n",
       "      <td>2022-07</td>\n",
       "      <td>Encaissements</td>\n",
       "      <td>112</td>\n",
       "    </tr>\n",
       "    <tr>\n",
       "      <th>7</th>\n",
       "      <td>Soci\u00e9t\u00e9 X</td>\n",
       "      <td>2022-12</td>\n",
       "      <td>2022-08</td>\n",
       "      <td>Encaissements</td>\n",
       "      <td>872</td>\n",
       "    </tr>\n",
       "    <tr>\n",
       "      <th>8</th>\n",
       "      <td>Soci\u00e9t\u00e9 X</td>\n",
       "      <td>2022-12</td>\n",
       "      <td>2022-09</td>\n",
       "      <td>Encaissements</td>\n",
       "      <td>915</td>\n",
       "    </tr>\n",
       "    <tr>\n",
       "      <th>9</th>\n",
       "      <td>Soci\u00e9t\u00e9 X</td>\n",
       "      <td>2022-12</td>\n",
       "      <td>2022-10</td>\n",
       "      <td>Encaissements</td>\n",
       "      <td>435</td>\n",
       "    </tr>\n",
       "    <tr>\n",
       "      <th>10</th>\n",
       "      <td>Soci\u00e9t\u00e9 X</td>\n",
       "      <td>2022-12</td>\n",
       "      <td>2022-11</td>\n",
       "      <td>Encaissements</td>\n",
       "      <td>999</td>\n",
       "    </tr>\n",
       "    <tr>\n",
       "      <th>11</th>\n",
       "      <td>Soci\u00e9t\u00e9 X</td>\n",
       "      <td>2022-12</td>\n",
       "      <td>2022-12</td>\n",
       "      <td>Encaissements</td>\n",
       "      <td>65</td>\n",
       "    </tr>\n",
       "  </tbody>\n",
       "</table>\n",
       "</div>"
      ],
      "text/plain": [
       "       ENTITY SCENARIO    LABEL          GROUP  VALUE\n",
       "0   Soci\u00e9t\u00e9 X  2022-12  2022-01  Encaissements    425\n",
       "1   Soci\u00e9t\u00e9 X  2022-12  2022-02  Encaissements    941\n",
       "2   Soci\u00e9t\u00e9 X  2022-12  2022-03  Encaissements    694\n",
       "3   Soci\u00e9t\u00e9 X  2022-12  2022-04  Encaissements    801\n",
       "4   Soci\u00e9t\u00e9 X  2022-12  2022-05  Encaissements    206\n",
       "5   Soci\u00e9t\u00e9 X  2022-12  2022-06  Encaissements    564\n",
       "6   Soci\u00e9t\u00e9 X  2022-12  2022-07  Encaissements    112\n",
       "7   Soci\u00e9t\u00e9 X  2022-12  2022-08  Encaissements    872\n",
       "8   Soci\u00e9t\u00e9 X  2022-12  2022-09  Encaissements    915\n",
       "9   Soci\u00e9t\u00e9 X  2022-12  2022-10  Encaissements    435\n",
       "10  Soci\u00e9t\u00e9 X  2022-12  2022-11  Encaissements    999\n",
       "11  Soci\u00e9t\u00e9 X  2022-12  2022-12  Encaissements     65"
      ]
     },
     "execution_count": 25,
     "metadata": {},
     "output_type": "execute_result"
    }
   ],
   "source": "df_cashin = pd.DataFrame(data_cashin)\ndf_cashin"
  },
  {
   "cell_type": "markdown",
   "id": "706da888-645f-4d24-a2df-08570dcf10e3",
   "metadata": {},
   "source": [
    "### Get \"Cashout\" data"
   ]
  },
  {
   "cell_type": "code",
   "execution_count": 26,
   "id": "df314ec4-6836-4cb8-a488-59ebd71937e9",
   "metadata": {
    "execution": {
     "iopub.execute_input": "2023-02-08T16:18:29.609052Z",
     "iopub.status.busy": "2023-02-08T16:18:29.608827Z",
     "iopub.status.idle": "2023-02-08T16:18:29.618537Z",
     "shell.execute_reply": "2023-02-08T16:18:29.617922Z",
     "shell.execute_reply.started": "2023-02-08T16:18:29.609029Z"
    },
    "tags": []
   },
   "outputs": [
    {
     "data": {
      "text/html": [
       "<div>\n",
       "<style scoped>\n",
       "    .dataframe tbody tr th:only-of-type {\n",
       "        vertical-align: middle;\n",
       "    }\n",
       "\n",
       "    .dataframe tbody tr th {\n",
       "        vertical-align: top;\n",
       "    }\n",
       "\n",
       "    .dataframe thead th {\n",
       "        text-align: right;\n",
       "    }\n",
       "</style>\n",
       "<table border=\"1\" class=\"dataframe\">\n",
       "  <thead>\n",
       "    <tr style=\"text-align: right;\">\n",
       "      <th></th>\n",
       "      <th>ENTITY</th>\n",
       "      <th>SCENARIO</th>\n",
       "      <th>LABEL</th>\n",
       "      <th>GROUP</th>\n",
       "      <th>VALUE</th>\n",
       "    </tr>\n",
       "  </thead>\n",
       "  <tbody>\n",
       "    <tr>\n",
       "      <th>0</th>\n",
       "      <td>Soci\u00e9t\u00e9 X</td>\n",
       "      <td>2022-12</td>\n",
       "      <td>2022-01</td>\n",
       "      <td>D\u00e9caissement</td>\n",
       "      <td>-70</td>\n",
       "    </tr>\n",
       "    <tr>\n",
       "      <th>1</th>\n",
       "      <td>Soci\u00e9t\u00e9 X</td>\n",
       "      <td>2022-12</td>\n",
       "      <td>2022-02</td>\n",
       "      <td>D\u00e9caissement</td>\n",
       "      <td>-169</td>\n",
       "    </tr>\n",
       "    <tr>\n",
       "      <th>2</th>\n",
       "      <td>Soci\u00e9t\u00e9 X</td>\n",
       "      <td>2022-12</td>\n",
       "      <td>2022-03</td>\n",
       "      <td>D\u00e9caissement</td>\n",
       "      <td>-132</td>\n",
       "    </tr>\n",
       "    <tr>\n",
       "      <th>3</th>\n",
       "      <td>Soci\u00e9t\u00e9 X</td>\n",
       "      <td>2022-12</td>\n",
       "      <td>2022-04</td>\n",
       "      <td>D\u00e9caissement</td>\n",
       "      <td>-235</td>\n",
       "    </tr>\n",
       "    <tr>\n",
       "      <th>4</th>\n",
       "      <td>Soci\u00e9t\u00e9 X</td>\n",
       "      <td>2022-12</td>\n",
       "      <td>2022-05</td>\n",
       "      <td>D\u00e9caissement</td>\n",
       "      <td>-182</td>\n",
       "    </tr>\n",
       "    <tr>\n",
       "      <th>5</th>\n",
       "      <td>Soci\u00e9t\u00e9 X</td>\n",
       "      <td>2022-12</td>\n",
       "      <td>2022-06</td>\n",
       "      <td>D\u00e9caissement</td>\n",
       "      <td>-50</td>\n",
       "    </tr>\n",
       "    <tr>\n",
       "      <th>6</th>\n",
       "      <td>Soci\u00e9t\u00e9 X</td>\n",
       "      <td>2022-12</td>\n",
       "      <td>2022-07</td>\n",
       "      <td>D\u00e9caissement</td>\n",
       "      <td>-259</td>\n",
       "    </tr>\n",
       "    <tr>\n",
       "      <th>7</th>\n",
       "      <td>Soci\u00e9t\u00e9 X</td>\n",
       "      <td>2022-12</td>\n",
       "      <td>2022-08</td>\n",
       "      <td>D\u00e9caissement</td>\n",
       "      <td>-414</td>\n",
       "    </tr>\n",
       "    <tr>\n",
       "      <th>8</th>\n",
       "      <td>Soci\u00e9t\u00e9 X</td>\n",
       "      <td>2022-12</td>\n",
       "      <td>2022-09</td>\n",
       "      <td>D\u00e9caissement</td>\n",
       "      <td>-266</td>\n",
       "    </tr>\n",
       "    <tr>\n",
       "      <th>9</th>\n",
       "      <td>Soci\u00e9t\u00e9 X</td>\n",
       "      <td>2022-12</td>\n",
       "      <td>2022-10</td>\n",
       "      <td>D\u00e9caissement</td>\n",
       "      <td>-197</td>\n",
       "    </tr>\n",
       "    <tr>\n",
       "      <th>10</th>\n",
       "      <td>Soci\u00e9t\u00e9 X</td>\n",
       "      <td>2022-12</td>\n",
       "      <td>2022-11</td>\n",
       "      <td>D\u00e9caissement</td>\n",
       "      <td>-269</td>\n",
       "    </tr>\n",
       "    <tr>\n",
       "      <th>11</th>\n",
       "      <td>Soci\u00e9t\u00e9 X</td>\n",
       "      <td>2022-12</td>\n",
       "      <td>2022-12</td>\n",
       "      <td>D\u00e9caissement</td>\n",
       "      <td>-121</td>\n",
       "    </tr>\n",
       "  </tbody>\n",
       "</table>\n",
       "</div>"
      ],
      "text/plain": [
       "       ENTITY SCENARIO    LABEL         GROUP  VALUE\n",
       "0   Soci\u00e9t\u00e9 X  2022-12  2022-01  D\u00e9caissement    -70\n",
       "1   Soci\u00e9t\u00e9 X  2022-12  2022-02  D\u00e9caissement   -169\n",
       "2   Soci\u00e9t\u00e9 X  2022-12  2022-03  D\u00e9caissement   -132\n",
       "3   Soci\u00e9t\u00e9 X  2022-12  2022-04  D\u00e9caissement   -235\n",
       "4   Soci\u00e9t\u00e9 X  2022-12  2022-05  D\u00e9caissement   -182\n",
       "5   Soci\u00e9t\u00e9 X  2022-12  2022-06  D\u00e9caissement    -50\n",
       "6   Soci\u00e9t\u00e9 X  2022-12  2022-07  D\u00e9caissement   -259\n",
       "7   Soci\u00e9t\u00e9 X  2022-12  2022-08  D\u00e9caissement   -414\n",
       "8   Soci\u00e9t\u00e9 X  2022-12  2022-09  D\u00e9caissement   -266\n",
       "9   Soci\u00e9t\u00e9 X  2022-12  2022-10  D\u00e9caissement   -197\n",
       "10  Soci\u00e9t\u00e9 X  2022-12  2022-11  D\u00e9caissement   -269\n",
       "11  Soci\u00e9t\u00e9 X  2022-12  2022-12  D\u00e9caissement   -121"
      ]
     },
     "execution_count": 26,
     "metadata": {},
     "output_type": "execute_result"
    }
   ],
   "source": "df_cashout = pd.DataFrame(data_cashout)\ndf_cashout"
  },
  {
   "cell_type": "markdown",
   "id": "9a8484e3-708e-4453-81e5-05122c4dacb5",
   "metadata": {},
   "source": [
    "### Calculate \"Cash Position\""
   ]
  },
  {
   "cell_type": "code",
   "execution_count": 27,
   "id": "081e987c-a03a-4c98-8573-180ec3d7c6a1",
   "metadata": {
    "execution": {
     "iopub.execute_input": "2023-02-08T16:18:30.331000Z",
     "iopub.status.busy": "2023-02-08T16:18:30.330774Z",
     "iopub.status.idle": "2023-02-08T16:18:30.350525Z",
     "shell.execute_reply": "2023-02-08T16:18:30.349768Z",
     "shell.execute_reply.started": "2023-02-08T16:18:30.330977Z"
    },
    "tags": []
   },
   "outputs": [
    {
     "data": {
      "text/html": [
       "<div>\n",
       "<style scoped>\n",
       "    .dataframe tbody tr th:only-of-type {\n",
       "        vertical-align: middle;\n",
       "    }\n",
       "\n",
       "    .dataframe tbody tr th {\n",
       "        vertical-align: top;\n",
       "    }\n",
       "\n",
       "    .dataframe thead th {\n",
       "        text-align: right;\n",
       "    }\n",
       "</style>\n",
       "<table border=\"1\" class=\"dataframe\">\n",
       "  <thead>\n",
       "    <tr style=\"text-align: right;\">\n",
       "      <th></th>\n",
       "      <th>ENTITY</th>\n",
       "      <th>SCENARIO</th>\n",
       "      <th>LABEL</th>\n",
       "      <th>GROUP</th>\n",
       "      <th>VALUE</th>\n",
       "    </tr>\n",
       "  </thead>\n",
       "  <tbody>\n",
       "    <tr>\n",
       "      <th>0</th>\n",
       "      <td>Soci\u00e9t\u00e9 X</td>\n",
       "      <td>2022-12</td>\n",
       "      <td>2022-01</td>\n",
       "      <td>Tr\u00e9sorerie</td>\n",
       "      <td>355</td>\n",
       "    </tr>\n",
       "    <tr>\n",
       "      <th>1</th>\n",
       "      <td>Soci\u00e9t\u00e9 X</td>\n",
       "      <td>2022-12</td>\n",
       "      <td>2022-02</td>\n",
       "      <td>Tr\u00e9sorerie</td>\n",
       "      <td>772</td>\n",
       "    </tr>\n",
       "    <tr>\n",
       "      <th>2</th>\n",
       "      <td>Soci\u00e9t\u00e9 X</td>\n",
       "      <td>2022-12</td>\n",
       "      <td>2022-03</td>\n",
       "      <td>Tr\u00e9sorerie</td>\n",
       "      <td>562</td>\n",
       "    </tr>\n",
       "    <tr>\n",
       "      <th>3</th>\n",
       "      <td>Soci\u00e9t\u00e9 X</td>\n",
       "      <td>2022-12</td>\n",
       "      <td>2022-04</td>\n",
       "      <td>Tr\u00e9sorerie</td>\n",
       "      <td>566</td>\n",
       "    </tr>\n",
       "    <tr>\n",
       "      <th>4</th>\n",
       "      <td>Soci\u00e9t\u00e9 X</td>\n",
       "      <td>2022-12</td>\n",
       "      <td>2022-05</td>\n",
       "      <td>Tr\u00e9sorerie</td>\n",
       "      <td>24</td>\n",
       "    </tr>\n",
       "    <tr>\n",
       "      <th>5</th>\n",
       "      <td>Soci\u00e9t\u00e9 X</td>\n",
       "      <td>2022-12</td>\n",
       "      <td>2022-06</td>\n",
       "      <td>Tr\u00e9sorerie</td>\n",
       "      <td>514</td>\n",
       "    </tr>\n",
       "    <tr>\n",
       "      <th>6</th>\n",
       "      <td>Soci\u00e9t\u00e9 X</td>\n",
       "      <td>2022-12</td>\n",
       "      <td>2022-07</td>\n",
       "      <td>Tr\u00e9sorerie</td>\n",
       "      <td>-147</td>\n",
       "    </tr>\n",
       "    <tr>\n",
       "      <th>7</th>\n",
       "      <td>Soci\u00e9t\u00e9 X</td>\n",
       "      <td>2022-12</td>\n",
       "      <td>2022-08</td>\n",
       "      <td>Tr\u00e9sorerie</td>\n",
       "      <td>458</td>\n",
       "    </tr>\n",
       "    <tr>\n",
       "      <th>8</th>\n",
       "      <td>Soci\u00e9t\u00e9 X</td>\n",
       "      <td>2022-12</td>\n",
       "      <td>2022-09</td>\n",
       "      <td>Tr\u00e9sorerie</td>\n",
       "      <td>649</td>\n",
       "    </tr>\n",
       "    <tr>\n",
       "      <th>9</th>\n",
       "      <td>Soci\u00e9t\u00e9 X</td>\n",
       "      <td>2022-12</td>\n",
       "      <td>2022-10</td>\n",
       "      <td>Tr\u00e9sorerie</td>\n",
       "      <td>238</td>\n",
       "    </tr>\n",
       "    <tr>\n",
       "      <th>10</th>\n",
       "      <td>Soci\u00e9t\u00e9 X</td>\n",
       "      <td>2022-12</td>\n",
       "      <td>2022-11</td>\n",
       "      <td>Tr\u00e9sorerie</td>\n",
       "      <td>730</td>\n",
       "    </tr>\n",
       "    <tr>\n",
       "      <th>11</th>\n",
       "      <td>Soci\u00e9t\u00e9 X</td>\n",
       "      <td>2022-12</td>\n",
       "      <td>2022-12</td>\n",
       "      <td>Tr\u00e9sorerie</td>\n",
       "      <td>-56</td>\n",
       "    </tr>\n",
       "  </tbody>\n",
       "</table>\n",
       "</div>"
      ],
      "text/plain": [
       "       ENTITY SCENARIO    LABEL       GROUP  VALUE\n",
       "0   Soci\u00e9t\u00e9 X  2022-12  2022-01  Tr\u00e9sorerie    355\n",
       "1   Soci\u00e9t\u00e9 X  2022-12  2022-02  Tr\u00e9sorerie    772\n",
       "2   Soci\u00e9t\u00e9 X  2022-12  2022-03  Tr\u00e9sorerie    562\n",
       "3   Soci\u00e9t\u00e9 X  2022-12  2022-04  Tr\u00e9sorerie    566\n",
       "4   Soci\u00e9t\u00e9 X  2022-12  2022-05  Tr\u00e9sorerie     24\n",
       "5   Soci\u00e9t\u00e9 X  2022-12  2022-06  Tr\u00e9sorerie    514\n",
       "6   Soci\u00e9t\u00e9 X  2022-12  2022-07  Tr\u00e9sorerie   -147\n",
       "7   Soci\u00e9t\u00e9 X  2022-12  2022-08  Tr\u00e9sorerie    458\n",
       "8   Soci\u00e9t\u00e9 X  2022-12  2022-09  Tr\u00e9sorerie    649\n",
       "9   Soci\u00e9t\u00e9 X  2022-12  2022-10  Tr\u00e9sorerie    238\n",
       "10  Soci\u00e9t\u00e9 X  2022-12  2022-11  Tr\u00e9sorerie    730\n",
       "11  Soci\u00e9t\u00e9 X  2022-12  2022-12  Tr\u00e9sorerie    -56"
      ]
     },
     "execution_count": 27,
     "metadata": {},
     "output_type": "execute_result"
    }
   ],
   "source": "# concat cash in and cash out\ndf_position = pd.concat([df_cashin, df_cashout])\n\n# rename column GROUP = \"Position\" and groupby + agg\ndf_position[\"GROUP\"] = \"Tr\u00e9sorerie\"\ndf_position = df_position.groupby(\n    [\"ENTITY\", \"SCENARIO\", \"LABEL\", \"GROUP\"], as_index=False\n).agg({\"VALUE\": \"sum\"})\ndf_position"
  },
  {
   "cell_type": "markdown",
   "id": "tested-astrology",
   "metadata": {
    "papermill": {},
    "tags": []
   },
   "source": [
    "### Create barlinechart using Plotly"
   ]
  },
  {
   "cell_type": "code",
   "execution_count": 37,
   "id": "crude-louisville",
   "metadata": {
    "execution": {
     "iopub.execute_input": "2023-02-08T16:22:34.241107Z",
     "iopub.status.busy": "2023-02-08T16:22:34.240824Z",
     "iopub.status.idle": "2023-02-08T16:22:34.284486Z",
     "shell.execute_reply": "2023-02-08T16:22:34.283800Z",
     "shell.execute_reply.started": "2023-02-08T16:22:34.241074Z"
    },
    "papermill": {},
    "tags": []
   },
   "outputs": [
    {
     "data": {
      "application/vnd.plotly.v1+json": {
       "config": {
        "plotlyServerURL": "https://plot.ly"
       },
       "data": [
        {
         "marker": {
          "color": "#1b7656"
         },
         "name": "Encaissement",
         "showlegend": false,
         "type": "bar",
         "x": [
          "2022-01",
          "2022-02",
          "2022-03",
          "2022-04",
          "2022-05",
          "2022-06",
          "2022-07",
          "2022-08",
          "2022-09",
          "2022-10",
          "2022-11",
          "2022-12"
         ],
         "xaxis": "x",
         "y": [
          425,
          941,
          694,
          801,
          206,
          564,
          112,
          872,
          915,
          435,
          999,
          65
         ],
         "yaxis": "y"
        },
        {
         "marker": {
          "color": "#cd3244"
         },
         "name": "D\u00e9caissement",
         "showlegend": false,
         "type": "bar",
         "x": [
          "2022-01",
          "2022-02",
          "2022-03",
          "2022-04",
          "2022-05",
          "2022-06",
          "2022-07",
          "2022-08",
          "2022-09",
          "2022-10",
          "2022-11",
          "2022-12"
         ],
         "xaxis": "x",
         "y": [
          70,
          169,
          132,
          235,
          182,
          50,
          259,
          414,
          266,
          197,
          269,
          121
         ],
         "yaxis": "y"
        },
        {
         "line": {
          "color": "#46a7f5",
          "width": 2.5
         },
         "mode": "lines",
         "showlegend": false,
         "type": "scatter",
         "x": [
          "2022-01",
          "2022-02",
          "2022-03",
          "2022-04",
          "2022-05",
          "2022-06",
          "2022-07",
          "2022-08",
          "2022-09",
          "2022-10",
          "2022-11",
          "2022-12"
         ],
         "xaxis": "x",
         "y": [
          355,
          772,
          562,
          566,
          24,
          514,
          -147,
          458,
          649,
          238,
          730,
          -56
         ],
         "yaxis": "y2"
        }
       ],
       "layout": {
        "height": 800,
        "legend": {},
        "paper_bgcolor": "white",
        "plot_bgcolor": "#ffffff",
        "template": {
         "data": {
          "bar": [
           {
            "error_x": {
             "color": "#2a3f5f"
            },
            "error_y": {
             "color": "#2a3f5f"
            },
            "marker": {
             "line": {
              "color": "#E5ECF6",
              "width": 0.5
             }
            },
            "type": "bar"
           }
          ],
          "barpolar": [
           {
            "marker": {
             "line": {
              "color": "#E5ECF6",
              "width": 0.5
             }
            },
            "type": "barpolar"
           }
          ],
          "carpet": [
           {
            "aaxis": {
             "endlinecolor": "#2a3f5f",
             "gridcolor": "white",
             "linecolor": "white",
             "minorgridcolor": "white",
             "startlinecolor": "#2a3f5f"
            },
            "baxis": {
             "endlinecolor": "#2a3f5f",
             "gridcolor": "white",
             "linecolor": "white",
             "minorgridcolor": "white",
             "startlinecolor": "#2a3f5f"
            },
            "type": "carpet"
           }
          ],
          "choropleth": [
           {
            "colorbar": {
             "outlinewidth": 0,
             "ticks": ""
            },
            "type": "choropleth"
           }
          ],
          "contour": [
           {
            "colorbar": {
             "outlinewidth": 0,
             "ticks": ""
            },
            "colorscale": [
             [
              0,
              "#0d0887"
             ],
             [
              0.1111111111111111,
              "#46039f"
             ],
             [
              0.2222222222222222,
              "#7201a8"
             ],
             [
              0.3333333333333333,
              "#9c179e"
             ],
             [
              0.4444444444444444,
              "#bd3786"
             ],
             [
              0.5555555555555556,
              "#d8576b"
             ],
             [
              0.6666666666666666,
              "#ed7953"
             ],
             [
              0.7777777777777778,
              "#fb9f3a"
             ],
             [
              0.8888888888888888,
              "#fdca26"
             ],
             [
              1,
              "#f0f921"
             ]
            ],
            "type": "contour"
           }
          ],
          "contourcarpet": [
           {
            "colorbar": {
             "outlinewidth": 0,
             "ticks": ""
            },
            "type": "contourcarpet"
           }
          ],
          "heatmap": [
           {
            "colorbar": {
             "outlinewidth": 0,
             "ticks": ""
            },
            "colorscale": [
             [
              0,
              "#0d0887"
             ],
             [
              0.1111111111111111,
              "#46039f"
             ],
             [
              0.2222222222222222,
              "#7201a8"
             ],
             [
              0.3333333333333333,
              "#9c179e"
             ],
             [
              0.4444444444444444,
              "#bd3786"
             ],
             [
              0.5555555555555556,
              "#d8576b"
             ],
             [
              0.6666666666666666,
              "#ed7953"
             ],
             [
              0.7777777777777778,
              "#fb9f3a"
             ],
             [
              0.8888888888888888,
              "#fdca26"
             ],
             [
              1,
              "#f0f921"
             ]
            ],
            "type": "heatmap"
           }
          ],
          "heatmapgl": [
           {
            "colorbar": {
             "outlinewidth": 0,
             "ticks": ""
            },
            "colorscale": [
             [
              0,
              "#0d0887"
             ],
             [
              0.1111111111111111,
              "#46039f"
             ],
             [
              0.2222222222222222,
              "#7201a8"
             ],
             [
              0.3333333333333333,
              "#9c179e"
             ],
             [
              0.4444444444444444,
              "#bd3786"
             ],
             [
              0.5555555555555556,
              "#d8576b"
             ],
             [
              0.6666666666666666,
              "#ed7953"
             ],
             [
              0.7777777777777778,
              "#fb9f3a"
             ],
             [
              0.8888888888888888,
              "#fdca26"
             ],
             [
              1,
              "#f0f921"
             ]
            ],
            "type": "heatmapgl"
           }
          ],
          "histogram": [
           {
            "marker": {
             "colorbar": {
              "outlinewidth": 0,
              "ticks": ""
             }
            },
            "type": "histogram"
           }
          ],
          "histogram2d": [
           {
            "colorbar": {
             "outlinewidth": 0,
             "ticks": ""
            },
            "colorscale": [
             [
              0,
              "#0d0887"
             ],
             [
              0.1111111111111111,
              "#46039f"
             ],
             [
              0.2222222222222222,
              "#7201a8"
             ],
             [
              0.3333333333333333,
              "#9c179e"
             ],
             [
              0.4444444444444444,
              "#bd3786"
             ],
             [
              0.5555555555555556,
              "#d8576b"
             ],
             [
              0.6666666666666666,
              "#ed7953"
             ],
             [
              0.7777777777777778,
              "#fb9f3a"
             ],
             [
              0.8888888888888888,
              "#fdca26"
             ],
             [
              1,
              "#f0f921"
             ]
            ],
            "type": "histogram2d"
           }
          ],
          "histogram2dcontour": [
           {
            "colorbar": {
             "outlinewidth": 0,
             "ticks": ""
            },
            "colorscale": [
             [
              0,
              "#0d0887"
             ],
             [
              0.1111111111111111,
              "#46039f"
             ],
             [
              0.2222222222222222,
              "#7201a8"
             ],
             [
              0.3333333333333333,
              "#9c179e"
             ],
             [
              0.4444444444444444,
              "#bd3786"
             ],
             [
              0.5555555555555556,
              "#d8576b"
             ],
             [
              0.6666666666666666,
              "#ed7953"
             ],
             [
              0.7777777777777778,
              "#fb9f3a"
             ],
             [
              0.8888888888888888,
              "#fdca26"
             ],
             [
              1,
              "#f0f921"
             ]
            ],
            "type": "histogram2dcontour"
           }
          ],
          "mesh3d": [
           {
            "colorbar": {
             "outlinewidth": 0,
             "ticks": ""
            },
            "type": "mesh3d"
           }
          ],
          "parcoords": [
           {
            "line": {
             "colorbar": {
              "outlinewidth": 0,
              "ticks": ""
             }
            },
            "type": "parcoords"
           }
          ],
          "pie": [
           {
            "automargin": true,
            "type": "pie"
           }
          ],
          "scatter": [
           {
            "marker": {
             "colorbar": {
              "outlinewidth": 0,
              "ticks": ""
             }
            },
            "type": "scatter"
           }
          ],
          "scatter3d": [
           {
            "line": {
             "colorbar": {
              "outlinewidth": 0,
              "ticks": ""
             }
            },
            "marker": {
             "colorbar": {
              "outlinewidth": 0,
              "ticks": ""
             }
            },
            "type": "scatter3d"
           }
          ],
          "scattercarpet": [
           {
            "marker": {
             "colorbar": {
              "outlinewidth": 0,
              "ticks": ""
             }
            },
            "type": "scattercarpet"
           }
          ],
          "scattergeo": [
           {
            "marker": {
             "colorbar": {
              "outlinewidth": 0,
              "ticks": ""
             }
            },
            "type": "scattergeo"
           }
          ],
          "scattergl": [
           {
            "marker": {
             "colorbar": {
              "outlinewidth": 0,
              "ticks": ""
             }
            },
            "type": "scattergl"
           }
          ],
          "scattermapbox": [
           {
            "marker": {
             "colorbar": {
              "outlinewidth": 0,
              "ticks": ""
             }
            },
            "type": "scattermapbox"
           }
          ],
          "scatterpolar": [
           {
            "marker": {
             "colorbar": {
              "outlinewidth": 0,
              "ticks": ""
             }
            },
            "type": "scatterpolar"
           }
          ],
          "scatterpolargl": [
           {
            "marker": {
             "colorbar": {
              "outlinewidth": 0,
              "ticks": ""
             }
            },
            "type": "scatterpolargl"
           }
          ],
          "scatterternary": [
           {
            "marker": {
             "colorbar": {
              "outlinewidth": 0,
              "ticks": ""
             }
            },
            "type": "scatterternary"
           }
          ],
          "surface": [
           {
            "colorbar": {
             "outlinewidth": 0,
             "ticks": ""
            },
            "colorscale": [
             [
              0,
              "#0d0887"
             ],
             [
              0.1111111111111111,
              "#46039f"
             ],
             [
              0.2222222222222222,
              "#7201a8"
             ],
             [
              0.3333333333333333,
              "#9c179e"
             ],
             [
              0.4444444444444444,
              "#bd3786"
             ],
             [
              0.5555555555555556,
              "#d8576b"
             ],
             [
              0.6666666666666666,
              "#ed7953"
             ],
             [
              0.7777777777777778,
              "#fb9f3a"
             ],
             [
              0.8888888888888888,
              "#fdca26"
             ],
             [
              1,
              "#f0f921"
             ]
            ],
            "type": "surface"
           }
          ],
          "table": [
           {
            "cells": {
             "fill": {
              "color": "#EBF0F8"
             },
             "line": {
              "color": "white"
             }
            },
            "header": {
             "fill": {
              "color": "#C8D4E3"
             },
             "line": {
              "color": "white"
             }
            },
            "type": "table"
           }
          ]
         },
         "layout": {
          "annotationdefaults": {
           "arrowcolor": "#2a3f5f",
           "arrowhead": 0,
           "arrowwidth": 1
          },
          "autotypenumbers": "strict",
          "coloraxis": {
           "colorbar": {
            "outlinewidth": 0,
            "ticks": ""
           }
          },
          "colorscale": {
           "diverging": [
            [
             0,
             "#8e0152"
            ],
            [
             0.1,
             "#c51b7d"
            ],
            [
             0.2,
             "#de77ae"
            ],
            [
             0.3,
             "#f1b6da"
            ],
            [
             0.4,
             "#fde0ef"
            ],
            [
             0.5,
             "#f7f7f7"
            ],
            [
             0.6,
             "#e6f5d0"
            ],
            [
             0.7,
             "#b8e186"
            ],
            [
             0.8,
             "#7fbc41"
            ],
            [
             0.9,
             "#4d9221"
            ],
            [
             1,
             "#276419"
            ]
           ],
           "sequential": [
            [
             0,
             "#0d0887"
            ],
            [
             0.1111111111111111,
             "#46039f"
            ],
            [
             0.2222222222222222,
             "#7201a8"
            ],
            [
             0.3333333333333333,
             "#9c179e"
            ],
            [
             0.4444444444444444,
             "#bd3786"
            ],
            [
             0.5555555555555556,
             "#d8576b"
            ],
            [
             0.6666666666666666,
             "#ed7953"
            ],
            [
             0.7777777777777778,
             "#fb9f3a"
            ],
            [
             0.8888888888888888,
             "#fdca26"
            ],
            [
             1,
             "#f0f921"
            ]
           ],
           "sequentialminus": [
            [
             0,
             "#0d0887"
            ],
            [
             0.1111111111111111,
             "#46039f"
            ],
            [
             0.2222222222222222,
             "#7201a8"
            ],
            [
             0.3333333333333333,
             "#9c179e"
            ],
            [
             0.4444444444444444,
             "#bd3786"
            ],
            [
             0.5555555555555556,
             "#d8576b"
            ],
            [
             0.6666666666666666,
             "#ed7953"
            ],
            [
             0.7777777777777778,
             "#fb9f3a"
            ],
            [
             0.8888888888888888,
             "#fdca26"
            ],
            [
             1,
             "#f0f921"
            ]
           ]
          },
          "colorway": [
           "#636efa",
           "#EF553B",
           "#00cc96",
           "#ab63fa",
           "#FFA15A",
           "#19d3f3",
           "#FF6692",
           "#B6E880",
           "#FF97FF",
           "#FECB52"
          ],
          "font": {
           "color": "#2a3f5f"
          },
          "geo": {
           "bgcolor": "white",
           "lakecolor": "white",
           "landcolor": "#E5ECF6",
           "showlakes": true,
           "showland": true,
           "subunitcolor": "white"
          },
          "hoverlabel": {
           "align": "left"
          },
          "hovermode": "closest",
          "mapbox": {
           "style": "light"
          },
          "paper_bgcolor": "white",
          "plot_bgcolor": "#E5ECF6",
          "polar": {
           "angularaxis": {
            "gridcolor": "white",
            "linecolor": "white",
            "ticks": ""
           },
           "bgcolor": "#E5ECF6",
           "radialaxis": {
            "gridcolor": "white",
            "linecolor": "white",
            "ticks": ""
           }
          },
          "scene": {
           "xaxis": {
            "backgroundcolor": "#E5ECF6",
            "gridcolor": "white",
            "gridwidth": 2,
            "linecolor": "white",
            "showbackground": true,
            "ticks": "",
            "zerolinecolor": "white"
           },
           "yaxis": {
            "backgroundcolor": "#E5ECF6",
            "gridcolor": "white",
            "gridwidth": 2,
            "linecolor": "white",
            "showbackground": true,
            "ticks": "",
            "zerolinecolor": "white"
           },
           "zaxis": {
            "backgroundcolor": "#E5ECF6",
            "gridcolor": "white",
            "gridwidth": 2,
            "linecolor": "white",
            "showbackground": true,
            "ticks": "",
            "zerolinecolor": "white"
           }
          },
          "shapedefaults": {
           "line": {
            "color": "#2a3f5f"
           }
          },
          "ternary": {
           "aaxis": {
            "gridcolor": "white",
            "linecolor": "white",
            "ticks": ""
           },
           "baxis": {
            "gridcolor": "white",
            "linecolor": "white",
            "ticks": ""
           },
           "bgcolor": "#E5ECF6",
           "caxis": {
            "gridcolor": "white",
            "linecolor": "white",
            "ticks": ""
           }
          },
          "title": {
           "x": 0.05
          },
          "xaxis": {
           "automargin": true,
           "gridcolor": "white",
           "linecolor": "white",
           "ticks": "",
           "title": {
            "standoff": 15
           },
           "zerolinecolor": "white",
           "zerolinewidth": 2
          },
          "yaxis": {
           "automargin": true,
           "gridcolor": "white",
           "linecolor": "white",
           "ticks": "",
           "title": {
            "standoff": 15
           },
           "zerolinecolor": "white",
           "zerolinewidth": 2
          }
         }
        },
        "title": {
         "font": {
          "color": "black",
          "family": "Arial",
          "size": 18
         },
         "text": "Tr\u00e9sorerie Disponible : -56 \u20ac"
        },
        "width": 1200,
        "xaxis": {
         "anchor": "y",
         "autorange": true,
         "domain": [
          0,
          0.94
         ],
         "range": [
          -0.5,
          11.5
         ],
         "title": {
          "font": {
           "color": "black",
           "family": "Arial",
           "size": 12
          },
          "text": "Mois"
         },
         "type": "category"
        },
        "yaxis": {
         "anchor": "x",
         "autorange": true,
         "domain": [
          0,
          1
         ],
         "range": [
          0,
          1051.578947368421
         ],
         "title": {
          "font": {
           "color": "black",
           "family": "Arial",
           "size": 12
          },
          "text": "Position"
         },
         "type": "linear"
        },
        "yaxis2": {
         "anchor": "x",
         "autorange": true,
         "overlaying": "y",
         "range": [
          -198.05555555555554,
          823.0555555555555
         ],
         "side": "right",
         "title": {
          "font": {
           "color": "black",
           "family": "Arial",
           "size": 12
          },
          "text": "Flux"
         },
         "type": "linear"
        }
       }
      },
      "image/png": "[encoded data removed]",
      "text/html": [
       "<div>                            <div id=\"e4af00ba-5dbd-4b26-baa0-b308864ba558\" class=\"plotly-graph-div\" style=\"height:800px; width:1200px;\"></div>            <script type=\"text/javascript\">                require([\"plotly\"], function(Plotly) {                    window.PLOTLYENV=window.PLOTLYENV || {};                                    if (document.getElementById(\"e4af00ba-5dbd-4b26-baa0-b308864ba558\")) {                    Plotly.newPlot(                        \"e4af00ba-5dbd-4b26-baa0-b308864ba558\",                        [{\"marker\": {\"color\": \"#1b7656\"}, \"name\": \"Encaissement\", \"showlegend\": false, \"type\": \"bar\", \"x\": [\"2022-01\", \"2022-02\", \"2022-03\", \"2022-04\", \"2022-05\", \"2022-06\", \"2022-07\", \"2022-08\", \"2022-09\", \"2022-10\", \"2022-11\", \"2022-12\"], \"xaxis\": \"x\", \"y\": [425, 941, 694, 801, 206, 564, 112, 872, 915, 435, 999, 65], \"yaxis\": \"y\"}, {\"marker\": {\"color\": \"#cd3244\"}, \"name\": \"D\\u00e9caissement\", \"showlegend\": false, \"type\": \"bar\", \"x\": [\"2022-01\", \"2022-02\", \"2022-03\", \"2022-04\", \"2022-05\", \"2022-06\", \"2022-07\", \"2022-08\", \"2022-09\", \"2022-10\", \"2022-11\", \"2022-12\"], \"xaxis\": \"x\", \"y\": [70, 169, 132, 235, 182, 50, 259, 414, 266, 197, 269, 121], \"yaxis\": \"y\"}, {\"line\": {\"color\": \"#46a7f5\", \"width\": 2.5}, \"mode\": \"lines\", \"showlegend\": false, \"type\": \"scatter\", \"x\": [\"2022-01\", \"2022-02\", \"2022-03\", \"2022-04\", \"2022-05\", \"2022-06\", \"2022-07\", \"2022-08\", \"2022-09\", \"2022-10\", \"2022-11\", \"2022-12\"], \"xaxis\": \"x\", \"y\": [355, 772, 562, 566, 24, 514, -147, 458, 649, 238, 730, -56], \"yaxis\": \"y2\"}],                        {\"height\": 800, \"legend\": {}, \"paper_bgcolor\": \"white\", \"plot_bgcolor\": \"#ffffff\", \"template\": {\"data\": {\"bar\": [{\"error_x\": {\"color\": \"#2a3f5f\"}, \"error_y\": {\"color\": \"#2a3f5f\"}, \"marker\": {\"line\": {\"color\": \"#E5ECF6\", \"width\": 0.5}}, \"type\": \"bar\"}], \"barpolar\": [{\"marker\": {\"line\": {\"color\": \"#E5ECF6\", \"width\": 0.5}}, \"type\": \"barpolar\"}], \"carpet\": [{\"aaxis\": {\"endlinecolor\": \"#2a3f5f\", \"gridcolor\": \"white\", \"linecolor\": \"white\", \"minorgridcolor\": \"white\", \"startlinecolor\": \"#2a3f5f\"}, \"baxis\": {\"endlinecolor\": \"#2a3f5f\", \"gridcolor\": \"white\", \"linecolor\": \"white\", \"minorgridcolor\": \"white\", \"startlinecolor\": \"#2a3f5f\"}, \"type\": \"carpet\"}], \"choropleth\": [{\"colorbar\": {\"outlinewidth\": 0, \"ticks\": \"\"}, \"type\": \"choropleth\"}], \"contour\": [{\"colorbar\": {\"outlinewidth\": 0, \"ticks\": \"\"}, \"colorscale\": [[0.0, \"#0d0887\"], [0.1111111111111111, \"#46039f\"], [0.2222222222222222, \"#7201a8\"], [0.3333333333333333, \"#9c179e\"], [0.4444444444444444, \"#bd3786\"], [0.5555555555555556, \"#d8576b\"], [0.6666666666666666, \"#ed7953\"], [0.7777777777777778, \"#fb9f3a\"], [0.8888888888888888, \"#fdca26\"], [1.0, \"#f0f921\"]], \"type\": \"contour\"}], \"contourcarpet\": [{\"colorbar\": {\"outlinewidth\": 0, \"ticks\": \"\"}, \"type\": \"contourcarpet\"}], \"heatmap\": [{\"colorbar\": {\"outlinewidth\": 0, \"ticks\": \"\"}, \"colorscale\": [[0.0, \"#0d0887\"], [0.1111111111111111, \"#46039f\"], [0.2222222222222222, \"#7201a8\"], [0.3333333333333333, \"#9c179e\"], [0.4444444444444444, \"#bd3786\"], [0.5555555555555556, \"#d8576b\"], [0.6666666666666666, \"#ed7953\"], [0.7777777777777778, \"#fb9f3a\"], [0.8888888888888888, \"#fdca26\"], [1.0, \"#f0f921\"]], \"type\": \"heatmap\"}], \"heatmapgl\": [{\"colorbar\": {\"outlinewidth\": 0, \"ticks\": \"\"}, \"colorscale\": [[0.0, \"#0d0887\"], [0.1111111111111111, \"#46039f\"], [0.2222222222222222, \"#7201a8\"], [0.3333333333333333, \"#9c179e\"], [0.4444444444444444, \"#bd3786\"], [0.5555555555555556, \"#d8576b\"], [0.6666666666666666, \"#ed7953\"], [0.7777777777777778, \"#fb9f3a\"], [0.8888888888888888, \"#fdca26\"], [1.0, \"#f0f921\"]], \"type\": \"heatmapgl\"}], \"histogram\": [{\"marker\": {\"colorbar\": {\"outlinewidth\": 0, \"ticks\": \"\"}}, \"type\": \"histogram\"}], \"histogram2d\": [{\"colorbar\": {\"outlinewidth\": 0, \"ticks\": \"\"}, \"colorscale\": [[0.0, \"#0d0887\"], [0.1111111111111111, \"#46039f\"], [0.2222222222222222, \"#7201a8\"], [0.3333333333333333, \"#9c179e\"], [0.4444444444444444, \"#bd3786\"], [0.5555555555555556, \"#d8576b\"], [0.6666666666666666, \"#ed7953\"], [0.7777777777777778, \"#fb9f3a\"], [0.8888888888888888, \"#fdca26\"], [1.0, \"#f0f921\"]], \"type\": \"histogram2d\"}], \"histogram2dcontour\": [{\"colorbar\": {\"outlinewidth\": 0, \"ticks\": \"\"}, \"colorscale\": [[0.0, \"#0d0887\"], [0.1111111111111111, \"#46039f\"], [0.2222222222222222, \"#7201a8\"], [0.3333333333333333, \"#9c179e\"], [0.4444444444444444, \"#bd3786\"], [0.5555555555555556, \"#d8576b\"], [0.6666666666666666, \"#ed7953\"], [0.7777777777777778, \"#fb9f3a\"], [0.8888888888888888, \"#fdca26\"], [1.0, \"#f0f921\"]], \"type\": \"histogram2dcontour\"}], \"mesh3d\": [{\"colorbar\": {\"outlinewidth\": 0, \"ticks\": \"\"}, \"type\": \"mesh3d\"}], \"parcoords\": [{\"line\": {\"colorbar\": {\"outlinewidth\": 0, \"ticks\": \"\"}}, \"type\": \"parcoords\"}], \"pie\": [{\"automargin\": true, \"type\": \"pie\"}], \"scatter\": [{\"marker\": {\"colorbar\": {\"outlinewidth\": 0, \"ticks\": \"\"}}, \"type\": \"scatter\"}], \"scatter3d\": [{\"line\": {\"colorbar\": {\"outlinewidth\": 0, \"ticks\": \"\"}}, \"marker\": {\"colorbar\": {\"outlinewidth\": 0, \"ticks\": \"\"}}, \"type\": \"scatter3d\"}], \"scattercarpet\": [{\"marker\": {\"colorbar\": {\"outlinewidth\": 0, \"ticks\": \"\"}}, \"type\": \"scattercarpet\"}], \"scattergeo\": [{\"marker\": {\"colorbar\": {\"outlinewidth\": 0, \"ticks\": \"\"}}, \"type\": \"scattergeo\"}], \"scattergl\": [{\"marker\": {\"colorbar\": {\"outlinewidth\": 0, \"ticks\": \"\"}}, \"type\": \"scattergl\"}], \"scattermapbox\": [{\"marker\": {\"colorbar\": {\"outlinewidth\": 0, \"ticks\": \"\"}}, \"type\": \"scattermapbox\"}], \"scatterpolar\": [{\"marker\": {\"colorbar\": {\"outlinewidth\": 0, \"ticks\": \"\"}}, \"type\": \"scatterpolar\"}], \"scatterpolargl\": [{\"marker\": {\"colorbar\": {\"outlinewidth\": 0, \"ticks\": \"\"}}, \"type\": \"scatterpolargl\"}], \"scatterternary\": [{\"marker\": {\"colorbar\": {\"outlinewidth\": 0, \"ticks\": \"\"}}, \"type\": \"scatterternary\"}], \"surface\": [{\"colorbar\": {\"outlinewidth\": 0, \"ticks\": \"\"}, \"colorscale\": [[0.0, \"#0d0887\"], [0.1111111111111111, \"#46039f\"], [0.2222222222222222, \"#7201a8\"], [0.3333333333333333, \"#9c179e\"], [0.4444444444444444, \"#bd3786\"], [0.5555555555555556, \"#d8576b\"], [0.6666666666666666, \"#ed7953\"], [0.7777777777777778, \"#fb9f3a\"], [0.8888888888888888, \"#fdca26\"], [1.0, \"#f0f921\"]], \"type\": \"surface\"}], \"table\": [{\"cells\": {\"fill\": {\"color\": \"#EBF0F8\"}, \"line\": {\"color\": \"white\"}}, \"header\": {\"fill\": {\"color\": \"#C8D4E3\"}, \"line\": {\"color\": \"white\"}}, \"type\": \"table\"}]}, \"layout\": {\"annotationdefaults\": {\"arrowcolor\": \"#2a3f5f\", \"arrowhead\": 0, \"arrowwidth\": 1}, \"autotypenumbers\": \"strict\", \"coloraxis\": {\"colorbar\": {\"outlinewidth\": 0, \"ticks\": \"\"}}, \"colorscale\": {\"diverging\": [[0, \"#8e0152\"], [0.1, \"#c51b7d\"], [0.2, \"#de77ae\"], [0.3, \"#f1b6da\"], [0.4, \"#fde0ef\"], [0.5, \"#f7f7f7\"], [0.6, \"#e6f5d0\"], [0.7, \"#b8e186\"], [0.8, \"#7fbc41\"], [0.9, \"#4d9221\"], [1, \"#276419\"]], \"sequential\": [[0.0, \"#0d0887\"], [0.1111111111111111, \"#46039f\"], [0.2222222222222222, \"#7201a8\"], [0.3333333333333333, \"#9c179e\"], [0.4444444444444444, \"#bd3786\"], [0.5555555555555556, \"#d8576b\"], [0.6666666666666666, \"#ed7953\"], [0.7777777777777778, \"#fb9f3a\"], [0.8888888888888888, \"#fdca26\"], [1.0, \"#f0f921\"]], \"sequentialminus\": [[0.0, \"#0d0887\"], [0.1111111111111111, \"#46039f\"], [0.2222222222222222, \"#7201a8\"], [0.3333333333333333, \"#9c179e\"], [0.4444444444444444, \"#bd3786\"], [0.5555555555555556, \"#d8576b\"], [0.6666666666666666, \"#ed7953\"], [0.7777777777777778, \"#fb9f3a\"], [0.8888888888888888, \"#fdca26\"], [1.0, \"#f0f921\"]]}, \"colorway\": [\"#636efa\", \"#EF553B\", \"#00cc96\", \"#ab63fa\", \"#FFA15A\", \"#19d3f3\", \"#FF6692\", \"#B6E880\", \"#FF97FF\", \"#FECB52\"], \"font\": {\"color\": \"#2a3f5f\"}, \"geo\": {\"bgcolor\": \"white\", \"lakecolor\": \"white\", \"landcolor\": \"#E5ECF6\", \"showlakes\": true, \"showland\": true, \"subunitcolor\": \"white\"}, \"hoverlabel\": {\"align\": \"left\"}, \"hovermode\": \"closest\", \"mapbox\": {\"style\": \"light\"}, \"paper_bgcolor\": \"white\", \"plot_bgcolor\": \"#E5ECF6\", \"polar\": {\"angularaxis\": {\"gridcolor\": \"white\", \"linecolor\": \"white\", \"ticks\": \"\"}, \"bgcolor\": \"#E5ECF6\", \"radialaxis\": {\"gridcolor\": \"white\", \"linecolor\": \"white\", \"ticks\": \"\"}}, \"scene\": {\"xaxis\": {\"backgroundcolor\": \"#E5ECF6\", \"gridcolor\": \"white\", \"gridwidth\": 2, \"linecolor\": \"white\", \"showbackground\": true, \"ticks\": \"\", \"zerolinecolor\": \"white\"}, \"yaxis\": {\"backgroundcolor\": \"#E5ECF6\", \"gridcolor\": \"white\", \"gridwidth\": 2, \"linecolor\": \"white\", \"showbackground\": true, \"ticks\": \"\", \"zerolinecolor\": \"white\"}, \"zaxis\": {\"backgroundcolor\": \"#E5ECF6\", \"gridcolor\": \"white\", \"gridwidth\": 2, \"linecolor\": \"white\", \"showbackground\": true, \"ticks\": \"\", \"zerolinecolor\": \"white\"}}, \"shapedefaults\": {\"line\": {\"color\": \"#2a3f5f\"}}, \"ternary\": {\"aaxis\": {\"gridcolor\": \"white\", \"linecolor\": \"white\", \"ticks\": \"\"}, \"baxis\": {\"gridcolor\": \"white\", \"linecolor\": \"white\", \"ticks\": \"\"}, \"bgcolor\": \"#E5ECF6\", \"caxis\": {\"gridcolor\": \"white\", \"linecolor\": \"white\", \"ticks\": \"\"}}, \"title\": {\"x\": 0.05}, \"xaxis\": {\"automargin\": true, \"gridcolor\": \"white\", \"linecolor\": \"white\", \"ticks\": \"\", \"title\": {\"standoff\": 15}, \"zerolinecolor\": \"white\", \"zerolinewidth\": 2}, \"yaxis\": {\"automargin\": true, \"gridcolor\": \"white\", \"linecolor\": \"white\", \"ticks\": \"\", \"title\": {\"standoff\": 15}, \"zerolinecolor\": \"white\", \"zerolinewidth\": 2}}}, \"title\": {\"font\": {\"color\": \"black\", \"family\": \"Arial\", \"size\": 18}, \"text\": \"Tr\\u00e9sorerie Disponible : -56 \\u20ac\"}, \"width\": 1200, \"xaxis\": {\"anchor\": \"y\", \"domain\": [0.0, 0.94], \"title\": {\"font\": {\"color\": \"black\", \"family\": \"Arial\", \"size\": 12}, \"text\": \"Mois\"}, \"type\": \"category\"}, \"yaxis\": {\"anchor\": \"x\", \"domain\": [0.0, 1.0], \"title\": {\"font\": {\"color\": \"black\", \"family\": \"Arial\", \"size\": 12}, \"text\": \"Position\"}}, \"yaxis2\": {\"anchor\": \"x\", \"overlaying\": \"y\", \"side\": \"right\", \"title\": {\"font\": {\"color\": \"black\", \"family\": \"Arial\", \"size\": 12}, \"text\": \"Flux\"}}},                        {\"responsive\": true}                    ).then(function(){\n",
       "                            \n",
       "var gd = document.getElementById('e4af00ba-5dbd-4b26-baa0-b308864ba558');\n",
       "var x = new MutationObserver(function (mutations, observer) {{\n",
       "        var display = window.getComputedStyle(gd).display;\n",
       "        if (!display || display === 'none') {{\n",
       "            console.log([gd, 'removed!']);\n",
       "            Plotly.purge(gd);\n",
       "            observer.disconnect();\n",
       "        }}\n",
       "}});\n",
       "\n",
       "// Listen for the removal of the full notebook cells\n",
       "var notebookContainer = gd.closest('#notebook-container');\n",
       "if (notebookContainer) {{\n",
       "    x.observe(notebookContainer, {childList: true});\n",
       "}}\n",
       "\n",
       "// Listen for the clearing of the current output cell\n",
       "var outputEl = gd.closest('.output');\n",
       "if (outputEl) {{\n",
       "    x.observe(outputEl, {childList: true});\n",
       "}}\n",
       "\n",
       "                        })                };                });            </script>        </div>"
      ]
     },
     "metadata": {},
     "output_type": "display_data"
    }
   ],
   "source": "def create_barlinechart(\n    df_cashin,\n    df_cashout,\n    df_position,\n    xaxis_title=None,\n    yaxis_title_r=None,\n    yaxis_title_l=None,\n):\n    # Create figure with secondary y-axis\n    fig = make_subplots(specs=[[{\"secondary_y\": True}]])\n\n    # Add traces\n    fig.add_trace(\n        go.Bar(\n            name=\"Encaissement\",\n            x=df_cashin[\"LABEL\"],\n            y=df_cashin[\"VALUE\"],\n            marker=dict(color=\"#1b7656\"),\n        ),\n        secondary_y=False,\n    )\n    fig.add_trace(\n        go.Bar(\n            name=\"D\u00e9caissement\",\n            x=df_cashout[\"LABEL\"],\n            y=df_cashout[\"VALUE\"] * -1,\n            marker=dict(color=\"#cd3244\"),\n        ),\n        secondary_y=False,\n    )\n    fig.add_trace(\n        go.Scatter(\n            x=df_position[\"LABEL\"],\n            y=df_position[\"VALUE\"],\n            mode=\"lines\",\n            line=dict(color=\"#46a7f5\", width=2.5),\n        ),\n        secondary_y=True,\n    )\n\n    # Add figure title\n    fig.update_layout(\n        title=f\"Tr\u00e9sorerie Disponible : {df_position.loc[df_position.index[-1], 'VALUE']} \u20ac\",\n        title_font=dict(family=\"Arial\", size=18, color=\"black\"),\n        legend=None,\n        plot_bgcolor=\"#ffffff\",\n        width=1200,\n        height=800,\n        paper_bgcolor=\"white\",\n        xaxis_title=xaxis_title,\n        xaxis_title_font=dict(family=\"Arial\", size=12, color=\"black\"),\n        xaxis={\"type\": \"category\"},\n    )\n\n    # Set y-axes titles\n    fig.update_yaxes(\n        title_text=yaxis_title_r,\n        title_font=dict(family=\"Arial\", size=12, color=\"black\"),\n        secondary_y=False,\n    )\n    fig.update_yaxes(\n        title_text=yaxis_title_l,\n        title_font=dict(family=\"Arial\", size=12, color=\"black\"),\n        secondary_y=True,\n    )\n    fig.update_traces(showlegend=False)\n    fig.show()\n    return fig\n\n\nfig = create_barlinechart(\n    df_cashin,\n    df_cashout,\n    df_position,\n    xaxis_title=\"Mois\",\n    yaxis_title_r=\"Position\",\n    yaxis_title_l=\"Flux\",\n)"
  },
  {
   "cell_type": "markdown",
   "id": "lonely-pacific",
   "metadata": {
    "execution": {
     "iopub.execute_input": "2021-07-02T23:32:10.789097Z",
     "iopub.status.busy": "2021-07-02T23:32:10.788829Z",
     "iopub.status.idle": "2021-07-02T23:32:10.796900Z",
     "shell.execute_reply": "2021-07-02T23:32:10.796358Z",
     "shell.execute_reply.started": "2021-07-02T23:32:10.789033Z"
    },
    "papermill": {},
    "tags": []
   },
   "source": [
    "## Output"
   ]
  },
  {
   "cell_type": "markdown",
   "id": "adf4d9d7-0968-4aa5-8757-a23f61f4ba16",
   "metadata": {
    "papermill": {},
    "tags": []
   },
   "source": [
    "### Save and share your graph as PNG"
   ]
  },
  {
   "cell_type": "code",
   "execution_count": 38,
   "id": "35c99e3e-ea50-43ad-83cf-7f95f0a558b3",
   "metadata": {
    "execution": {
     "iopub.execute_input": "2023-02-08T16:23:12.303540Z",
     "iopub.status.busy": "2023-02-08T16:23:12.303318Z",
     "iopub.status.idle": "2023-02-08T16:23:13.880515Z",
     "shell.execute_reply": "2023-02-08T16:23:13.879825Z",
     "shell.execute_reply.started": "2023-02-08T16:23:12.303518Z"
    },
    "papermill": {},
    "tags": []
   },
   "outputs": [
    {
     "name": "stdout",
     "output_type": "stream",
     "text": [
      "\ud83d\udc4c Well done! Your Assets has been sent to production.\n",
      "\n"
     ]
    },
    {
     "data": {
      "application/javascript": [
       "\n",
       "    if (!window.copyToClipboard) {\n",
       "        window.copyToClipboard = (text) => {\n",
       "            const dummy = document.createElement(\"textarea\");\n",
       "            document.body.appendChild(dummy);\n",
       "            dummy.value = text;\n",
       "            dummy.select();\n",
       "            document.execCommand(\"copy\");\n",
       "            document.body.removeChild(dummy);\n",
       "        }\n",
       "    }\n",
       "    "
      ],
      "text/plain": [
       "<IPython.core.display.Javascript object>"
      ]
     },
     "metadata": {},
     "output_type": "display_data"
    },
    {
     "data": {
      "application/vnd.jupyter.widget-view+json": {
       "model_id": "984722accf6e4b24963c465c1f28b557",
       "version_major": 2,
       "version_minor": 0
      },
      "text/plain": [
       "Button(button_style='primary', description='Copy URL', style=ButtonStyle())"
      ]
     },
     "metadata": {},
     "output_type": "display_data"
    },
    {
     "data": {
      "application/vnd.jupyter.widget-view+json": {
       "model_id": "5fff8aac99384c13a67c6b9c54539e6e",
       "version_major": 2,
       "version_minor": 0
      },
      "text/plain": [
       "Output()"
      ]
     },
     "metadata": {},
     "output_type": "display_data"
    },
    {
     "name": "stdout",
     "output_type": "stream",
     "text": [
      "PS: to remove the \"Assets\" feature, just replace .add by .delete\n"
     ]
    },
    {
     "data": {
      "text/plain": [
       "'https://public.naas.ai/ZmxvcmVudC00MG5hYXMtMkVhaQ==/asset/4dbe3480f6f4d803e80e17e6fe0d31f9a41caf5321f220ffb56505f04cd6.png'"
      ]
     },
     "execution_count": 38,
     "metadata": {},
     "output_type": "execute_result"
    }
   ],
   "source": "fig.write_image(png_output)\n\n# Share output with naas\nnaas.asset.add(png_output)\n\n# -> Uncomment the line below to remove your asset\n# naas.asset.delete(html_output)"
  },
  {
   "cell_type": "markdown",
   "id": "69352def-9f1d-4f56-9e3b-ab06fc128c7a",
   "metadata": {
    "papermill": {},
    "tags": []
   },
   "source": [
    "### Save and share your graph as HTML"
   ]
  },
  {
   "cell_type": "code",
   "execution_count": 39,
   "id": "741a63a1-3b7d-43b7-a7d4-995c6827c6d6",
   "metadata": {
    "execution": {
     "iopub.execute_input": "2023-02-08T16:23:14.950707Z",
     "iopub.status.busy": "2023-02-08T16:23:14.950469Z",
     "iopub.status.idle": "2023-02-08T16:23:15.569449Z",
     "shell.execute_reply": "2023-02-08T16:23:15.568859Z",
     "shell.execute_reply.started": "2023-02-08T16:23:14.950680Z"
    },
    "papermill": {},
    "tags": []
   },
   "outputs": [
    {
     "name": "stdout",
     "output_type": "stream",
     "text": [
      "\ud83d\udc4c Well done! Your Assets has been sent to production.\n",
      "\n"
     ]
    },
    {
     "data": {
      "application/javascript": [
       "\n",
       "    if (!window.copyToClipboard) {\n",
       "        window.copyToClipboard = (text) => {\n",
       "            const dummy = document.createElement(\"textarea\");\n",
       "            document.body.appendChild(dummy);\n",
       "            dummy.value = text;\n",
       "            dummy.select();\n",
       "            document.execCommand(\"copy\");\n",
       "            document.body.removeChild(dummy);\n",
       "        }\n",
       "    }\n",
       "    "
      ],
      "text/plain": [
       "<IPython.core.display.Javascript object>"
      ]
     },
     "metadata": {},
     "output_type": "display_data"
    },
    {
     "data": {
      "application/vnd.jupyter.widget-view+json": {
       "model_id": "36b87e6050444b24bead5fa09661d663",
       "version_major": 2,
       "version_minor": 0
      },
      "text/plain": [
       "Button(button_style='primary', description='Copy URL', style=ButtonStyle())"
      ]
     },
     "metadata": {},
     "output_type": "display_data"
    },
    {
     "data": {
      "application/vnd.jupyter.widget-view+json": {
       "model_id": "3a23f223dadf408984a1e54ccec4e454",
       "version_major": 2,
       "version_minor": 0
      },
      "text/plain": [
       "Output()"
      ]
     },
     "metadata": {},
     "output_type": "display_data"
    },
    {
     "name": "stdout",
     "output_type": "stream",
     "text": [
      "PS: to remove the \"Assets\" feature, just replace .add by .delete\n"
     ]
    },
    {
     "data": {
      "text/plain": [
       "'https://public.naas.ai/ZmxvcmVudC00MG5hYXMtMkVhaQ==/asset/bf81b38a1144391d0da509dbca7b2bc2e414f5f5f2c95db85d0157ff6ff8'"
      ]
     },
     "execution_count": 39,
     "metadata": {},
     "output_type": "execute_result"
    }
   ],
   "source": "fig.write_html(html_output)\n\n# Share output with naas\nnaas.asset.add(html_output, params={\"inline\": True})\n\n# -> Uncomment the line below to remove your asset\n# naas.asset.delete(html_output)"
  }
 ],
 "metadata": {
  "kernelspec": {
   "display_name": "Python 3",
   "language": "python",
   "name": "python3"
  },
  "language_info": {
   "codemirror_mode": {
    "name": "ipython",
    "version": 3
   },
   "file_extension": ".py",
   "mimetype": "text/x-python",
   "name": "python",
   "nbconvert_exporter": "python",
   "pygments_lexer": "ipython3",
   "version": "3.9.6"
  },
  "papermill": {
   "default_parameters": {},
   "environment_variables": {},
   "parameters": {},
   "version": "2.3.3"
  },
  "widgets": {
   "application/vnd.jupyter.widget-state+json": {
    "state": {},
    "version_major": 2,
    "version_minor": 0
   }
  }
 },
 "nbformat": 4,
 "nbformat_minor": 5
}