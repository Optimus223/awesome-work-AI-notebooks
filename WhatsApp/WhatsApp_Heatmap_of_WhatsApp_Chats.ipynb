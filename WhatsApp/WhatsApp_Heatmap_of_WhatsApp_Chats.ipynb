{
 "cells": [
  {
   "cell_type": "markdown",
   "id": "latin-packing",
   "metadata": {
    "execution": {
     "iopub.execute_input": "2021-02-23T14:22:16.610471Z",
     "iopub.status.busy": "2021-02-23T14:22:16.610129Z",
     "iopub.status.idle": "2021-02-23T14:22:16.627784Z",
     "shell.execute_reply": "2021-02-23T14:22:16.626866Z",
     "shell.execute_reply.started": "2021-02-23T14:22:16.610384Z"
    },
    "papermill": {},
    "tags": []
   },
   "source": [
    "<img width=\"10%\" alt=\"Naas\" src=\"https://landen.imgix.net/jtci2pxwjczr/assets/5ice39g4.png?w=160\"/>"
   ]
  },
  {
   "cell_type": "markdown",
   "id": "compressed-wilson",
   "metadata": {
    "papermill": {},
    "tags": []
   },
   "source": [
    "# WhatsApp - Heatmap of WhatsApp chats\n",
    "<a href=\"https://app.naas.ai/user-redirect/naas/downloader?url=https://raw.githubusercontent.com/jupyter-naas/awesome-notebooks/master/template.ipynb\" target=\"_parent\">\n",
    "<img src=\"https://img.shields.io/badge/-Open%20in%20Naas-success?labelColor=000000&logo=data:image/svg+xml;base64,PD94bWwgdmVyc2lvbj0iMS4wIiBlbmNvZGluZz0iVVRGLTgiPz4KPHN2ZyB3aWR0aD0iMTAyNHB4IiBoZWlnaHQ9IjEwMjRweCIgdmlld0JveD0iMCAwIDEwMjQgMTAyNCIgeG1sbnM9Imh0dHA6Ly93d3cudzMub3JnLzIwMDAvc3ZnIiB4bWxuczp4bGluaz0iaHR0cDovL3d3dy53My5vcmcvMTk5OS94bGluayIgdmVyc2lvbj0iMS4xIj4KIDwhLS0gR2VuZXJhdGVkIGJ5IFBpeGVsbWF0b3IgUHJvIDIuMC41IC0tPgogPGRlZnM+CiAgPHRleHQgaWQ9InN0cmluZyIgdHJhbnNmb3JtPSJtYXRyaXgoMS4wIDAuMCAwLjAgMS4wIDIyOC4wIDU0LjUpIiBmb250LWZhbWlseT0iQ29tZm9ydGFhLVJlZ3VsYXIsIENvbWZvcnRhYSIgZm9udC1zaXplPSI4MDAiIHRleHQtZGVjb3JhdGlvbj0ibm9uZSIgZmlsbD0iI2ZmZmZmZiIgeD0iMS4xOTk5OTk5OTk5OTk5ODg2IiB5PSI3MDUuMCI+bjwvdGV4dD4KIDwvZGVmcz4KIDx1c2UgaWQ9Im4iIHhsaW5rOmhyZWY9IiNzdHJpbmciLz4KPC9zdmc+Cg==\"/>\n",
    "</a>"
   ]
  },
  {
   "cell_type": "markdown",
   "id": "religious-programmer",
   "metadata": {},
   "source": [
    "**Tags:** #tool #naas_drivers #naas #visualisation #chatminers #WhatsApp #heatmap"
   ]
  },
  {
   "cell_type": "markdown",
   "id": "1fe9f56e-561c-4f52-aef8-b861c9462107",
   "metadata": {},
   "source": [
    "**Author:** [Hamid Mukhtar](https://www.linkedin.com/in/mukhtar-hamid/)"
   ]
  },
  {
   "cell_type": "markdown",
   "id": "31ea7cdb-e10d-43fc-b026-f69249a59736",
   "metadata": {},
   "source": [
    "This note give the description on how to create a heatmap of the WhatsApp."
   ]
  },
  {
   "cell_type": "markdown",
   "id": "distinguished-truth",
   "metadata": {
    "papermill": {},
    "tags": []
   },
   "source": [
    "## Input"
   ]
  },
  {
   "cell_type": "markdown",
   "id": "numeric-mediterranean",
   "metadata": {},
   "source": [
    "### Import library"
   ]
  },
  {
   "cell_type": "code",
   "execution_count": 2,
   "id": "potential-surfing",
   "metadata": {
    "execution": {
     "iopub.execute_input": "2023-05-26T14:35:30.464644Z",
     "iopub.status.busy": "2023-05-26T14:35:30.464411Z",
     "iopub.status.idle": "2023-05-26T14:35:32.855750Z",
     "shell.execute_reply": "2023-05-26T14:35:32.855125Z",
     "shell.execute_reply.started": "2023-05-26T14:35:30.464616Z"
    },
    "tags": []
   },
   "outputs": [
    {
     "name": "stderr",
     "output_type": "stream",
     "text": [
      "26.05.2023 16:35:32 INFO     generated new fontManager\n"
     ]
    }
   ],
   "source": [
    "from chatminer.chatparsers import WhatsAppParser\n",
    "import chatminer.visualizations as vis\n",
    "import matplotlib.pyplot as plt"
   ]
  },
  {
   "cell_type": "markdown",
   "id": "aggressive-trustee",
   "metadata": {},
   "source": [
    "### Setup Variables"
   ]
  },
  {
   "cell_type": "code",
   "execution_count": 5,
   "id": "continuous-melbourne",
   "metadata": {
    "execution": {
     "iopub.execute_input": "2023-05-26T14:47:28.976306Z",
     "iopub.status.busy": "2023-05-26T14:47:28.976041Z",
     "iopub.status.idle": "2023-05-26T14:47:29.025232Z",
     "shell.execute_reply": "2023-05-26T14:47:29.024344Z",
     "shell.execute_reply.started": "2023-05-26T14:47:28.976271Z"
    },
    "tags": []
   },
   "outputs": [
    {
     "name": "stderr",
     "output_type": "stream",
     "text": [
      "26.05.2023 16:47:28 INFO     \n",
      "            Depending on the platform, the message format in chat logs might not be\n",
      "            standardized accross devices/versions/localization and might change over\n",
      "            time. Please report issues including your message format via GitHub.\n",
      "            \n",
      "26.05.2023 16:47:28 INFO     Initialized parser.\n",
      "26.05.2023 16:47:28 INFO     Starting reading raw messages...\n",
      "26.05.2023 16:47:28 INFO     Inferred date format: day/month/year\n",
      "26.05.2023 16:47:28 INFO     Finished reading 114 raw messages.\n",
      "26.05.2023 16:47:28 INFO     Starting parsing raw messages...\n",
      "100%|██████████| 114/114 [00:00<00:00, 7840.46it/s]\n",
      "26.05.2023 16:47:29 INFO     Finished parsing raw messages.\n"
     ]
    },
    {
     "data": {
      "text/html": [
       "<div>\n",
       "<style scoped>\n",
       "    .dataframe tbody tr th:only-of-type {\n",
       "        vertical-align: middle;\n",
       "    }\n",
       "\n",
       "    .dataframe tbody tr th {\n",
       "        vertical-align: top;\n",
       "    }\n",
       "\n",
       "    .dataframe thead th {\n",
       "        text-align: right;\n",
       "    }\n",
       "</style>\n",
       "<table border=\"1\" class=\"dataframe\">\n",
       "  <thead>\n",
       "    <tr style=\"text-align: right;\">\n",
       "      <th></th>\n",
       "      <th>timestamp</th>\n",
       "      <th>author</th>\n",
       "      <th>message</th>\n",
       "      <th>weekday</th>\n",
       "      <th>hour</th>\n",
       "      <th>words</th>\n",
       "      <th>letters</th>\n",
       "    </tr>\n",
       "  </thead>\n",
       "  <tbody>\n",
       "    <tr>\n",
       "      <th>0</th>\n",
       "      <td>2023-05-24 16:14:00</td>\n",
       "      <td>Dr. Manish Kumar (Mathologic Technology)</td>\n",
       "      <td>1. After connecting with Light engine this is ...</td>\n",
       "      <td>Wednesday</td>\n",
       "      <td>16</td>\n",
       "      <td>148</td>\n",
       "      <td>806</td>\n",
       "    </tr>\n",
       "    <tr>\n",
       "      <th>1</th>\n",
       "      <td>2023-05-24 09:44:00</td>\n",
       "      <td>Adib Rizvi Sir (CRIS)</td>\n",
       "      <td>IMG-20230524-WA0001.jpg (file attached) 1)अभी ...</td>\n",
       "      <td>Wednesday</td>\n",
       "      <td>9</td>\n",
       "      <td>83</td>\n",
       "      <td>427</td>\n",
       "    </tr>\n",
       "    <tr>\n",
       "      <th>2</th>\n",
       "      <td>2023-05-22 15:27:00</td>\n",
       "      <td>Dr. Manish Kumar (Mathologic Technology)</td>\n",
       "      <td>Hi @919990017047 and @918130797443 We are abou...</td>\n",
       "      <td>Monday</td>\n",
       "      <td>15</td>\n",
       "      <td>31</td>\n",
       "      <td>170</td>\n",
       "    </tr>\n",
       "    <tr>\n",
       "      <th>3</th>\n",
       "      <td>2023-05-19 14:36:00</td>\n",
       "      <td>Dr. Manish Kumar (Mathologic Technology)</td>\n",
       "      <td>@919990017047 and @918130797443  We discussed ...</td>\n",
       "      <td>Friday</td>\n",
       "      <td>14</td>\n",
       "      <td>39</td>\n",
       "      <td>220</td>\n",
       "    </tr>\n",
       "    <tr>\n",
       "      <th>4</th>\n",
       "      <td>2023-05-19 14:33:00</td>\n",
       "      <td>Dr. Manish Kumar (Mathologic Technology)</td>\n",
       "      <td>&lt;Media omitted&gt; ALL LOCO CAHNGE DATA 19May.csv</td>\n",
       "      <td>Friday</td>\n",
       "      <td>14</td>\n",
       "      <td>7</td>\n",
       "      <td>46</td>\n",
       "    </tr>\n",
       "  </tbody>\n",
       "</table>\n",
       "</div>"
      ],
      "text/plain": [
       "            timestamp                                    author  \\\n",
       "0 2023-05-24 16:14:00  Dr. Manish Kumar (Mathologic Technology)   \n",
       "1 2023-05-24 09:44:00                     Adib Rizvi Sir (CRIS)   \n",
       "2 2023-05-22 15:27:00  Dr. Manish Kumar (Mathologic Technology)   \n",
       "3 2023-05-19 14:36:00  Dr. Manish Kumar (Mathologic Technology)   \n",
       "4 2023-05-19 14:33:00  Dr. Manish Kumar (Mathologic Technology)   \n",
       "\n",
       "                                             message    weekday  hour  words  \\\n",
       "0  1. After connecting with Light engine this is ...  Wednesday    16    148   \n",
       "1  IMG-20230524-WA0001.jpg (file attached) 1)अभी ...  Wednesday     9     83   \n",
       "2  Hi @919990017047 and @918130797443 We are abou...     Monday    15     31   \n",
       "3  @919990017047 and @918130797443  We discussed ...     Friday    14     39   \n",
       "4     <Media omitted> ALL LOCO CAHNGE DATA 19May.csv     Friday    14      7   \n",
       "\n",
       "   letters  \n",
       "0      806  \n",
       "1      427  \n",
       "2      170  \n",
       "3      220  \n",
       "4       46  "
      ]
     },
     "execution_count": 5,
     "metadata": {},
     "output_type": "execute_result"
    }
   ],
   "source": [
    "#Input\n",
    "chatFile='WhatsAppChatwithGOALDevelopmentTeam.txt'\n",
    "parser = WhatsAppParser(chatFile)\n",
    "parser.parse_file()\n",
    "df = parser.parsed_messages.get_df()\n",
    "df.head()"
   ]
  },
  {
   "cell_type": "markdown",
   "id": "registered-showcase",
   "metadata": {},
   "source": [
    "## Output"
   ]
  },
  {
   "cell_type": "code",
   "execution_count": 6,
   "id": "crude-louisville",
   "metadata": {
    "execution": {
     "iopub.execute_input": "2023-05-26T14:51:13.366817Z",
     "iopub.status.busy": "2023-05-26T14:51:13.366560Z",
     "iopub.status.idle": "2023-05-26T14:51:13.918782Z",
     "shell.execute_reply": "2023-05-26T14:51:13.918045Z",
     "shell.execute_reply.started": "2023-05-26T14:51:13.366795Z"
    },
    "papermill": {},
    "tags": []
   },
   "outputs": [
    {
     "data": {
      "image/png": "[encoded data removed]",
      "text/plain": [
       "<Figure size 648x216 with 4 Axes>"
      ]
     },
     "metadata": {
      "needs_background": "light"
     },
     "output_type": "display_data"
    }
   ],
   "source": [
    "#Output\n",
    "fig, ax = plt.subplots(2, 1, figsize=(9, 3))\n",
    "ax[0] = vis.calendar_heatmap(df, year=2023, cmap='Oranges', ax=ax[0])\n",
    "ax[1] = vis.calendar_heatmap(df, year=2023, linewidth=0, monthly_border=True, ax=ax[1])"
   ]
  }
 ],
 "metadata": {
  "kernelspec": {
   "display_name": "Python 3",
   "language": "python",
   "name": "python3"
  },
  "language_info": {
   "codemirror_mode": {
    "name": "ipython",
    "version": 3
   },
   "file_extension": ".py",
   "mimetype": "text/x-python",
   "name": "python",
   "nbconvert_exporter": "python",
   "pygments_lexer": "ipython3",
   "version": "3.9.6"
  },
  "papermill": {
   "default_parameters": {},
   "environment_variables": {},
   "parameters": {},
   "version": "2.3.3"
  },
  "widgets": {
   "application/vnd.jupyter.widget-state+json": {
    "state": {},
    "version_major": 2,
    "version_minor": 0
   }
  }
 },
 "nbformat": 4,
 "nbformat_minor": 5
}
