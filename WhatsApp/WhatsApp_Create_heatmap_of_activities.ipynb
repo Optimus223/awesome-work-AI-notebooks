{
 "cells": [
  {
   "cell_type": "markdown",
   "id": "latin-packing",
   "metadata": {
    "execution": {
     "iopub.execute_input": "2021-02-23T14:22:16.610471Z",
     "iopub.status.busy": "2021-02-23T14:22:16.610129Z",
     "iopub.status.idle": "2021-02-23T14:22:16.627784Z",
     "shell.execute_reply": "2021-02-23T14:22:16.626866Z",
     "shell.execute_reply.started": "2021-02-23T14:22:16.610384Z"
    },
    "papermill": {},
    "tags": []
   },
   "source": [
    "<img width=\"10%\" alt=\"Naas\" src=\"https://landen.imgix.net/jtci2pxwjczr/assets/5ice39g4.png?w=160\"/>"
   ]
  },
  {
   "cell_type": "markdown",
   "id": "compressed-wilson",
   "metadata": {
    "papermill": {},
    "tags": []
   },
   "source": [
    "# WhatsApp - Create heatmap of activites\n",
    "<a href=\"https://app.naas.ai/user-redirect/naas/downloader?url=https://raw.githubusercontent.com/jupyter-naas/awesome-notebooks/master/template.ipynb\" target=\"_parent\">\n",
    "<img src=\"https://img.shields.io/badge/-Open%20in%20Naas-success?labelColor=000000&logo=data:image/svg+xml;base64,PD94bWwgdmVyc2lvbj0iMS4wIiBlbmNvZGluZz0iVVRGLTgiPz4KPHN2ZyB3aWR0aD0iMTAyNHB4IiBoZWlnaHQ9IjEwMjRweCIgdmlld0JveD0iMCAwIDEwMjQgMTAyNCIgeG1sbnM9Imh0dHA6Ly93d3cudzMub3JnLzIwMDAvc3ZnIiB4bWxuczp4bGluaz0iaHR0cDovL3d3dy53My5vcmcvMTk5OS94bGluayIgdmVyc2lvbj0iMS4xIj4KIDwhLS0gR2VuZXJhdGVkIGJ5IFBpeGVsbWF0b3IgUHJvIDIuMC41IC0tPgogPGRlZnM+CiAgPHRleHQgaWQ9InN0cmluZyIgdHJhbnNmb3JtPSJtYXRyaXgoMS4wIDAuMCAwLjAgMS4wIDIyOC4wIDU0LjUpIiBmb250LWZhbWlseT0iQ29tZm9ydGFhLVJlZ3VsYXIsIENvbWZvcnRhYSIgZm9udC1zaXplPSI4MDAiIHRleHQtZGVjb3JhdGlvbj0ibm9uZSIgZmlsbD0iI2ZmZmZmZiIgeD0iMS4xOTk5OTk5OTk5OTk5ODg2IiB5PSI3MDUuMCI+bjwvdGV4dD4KIDwvZGVmcz4KIDx1c2UgaWQ9Im4iIHhsaW5rOmhyZWY9IiNzdHJpbmciLz4KPC9zdmc+Cg==\"/>\n",
    "</a>"
   ]
  },
  {
   "cell_type": "markdown",
   "id": "religious-programmer",
   "metadata": {},
   "source": [
    "**Tags:** #whatsapp #naas_drivers #naas #visualisation #chatminers #heatmap"
   ]
  },
  {
   "cell_type": "markdown",
   "id": "1fe9f56e-561c-4f52-aef8-b861c9462107",
   "metadata": {},
   "source": [
    "**Author:** [Hamid Mukhtar](https://www.linkedin.com/in/mukhtar-hamid/)"
   ]
  },
  {
   "cell_type": "markdown",
   "id": "31ea7cdb-e10d-43fc-b026-f69249a59736",
   "metadata": {},
   "source": [
    "**Description:** This notebook creates a heatmap of your chat activities."
   ]
  },
  {
   "cell_type": "markdown",
   "id": "distinguished-truth",
   "metadata": {
    "papermill": {},
    "tags": []
   },
   "source": [
    "## Input"
   ]
  },
  {
   "cell_type": "markdown",
   "id": "numeric-mediterranean",
   "metadata": {},
   "source": [
    "### Import libraries"
   ]
  },
  {
   "cell_type": "code",
   "execution_count": null,
   "id": "potential-surfing",
   "metadata": {
    "tags": []
   },
   "outputs": [],
   "source": [
    "try:\n",
    "    import chatminer\n",
    "except:\n",
    "    !pip install chat-miner --user\n",
    "from chatminer.chatparsers import WhatsAppParser\n",
    "import chatminer.visualizations as vis\n",
    "import matplotlib.pyplot as plt"
   ]
  },
  {
   "cell_type": "markdown",
   "id": "72989926-7ce8-4b5f-bec8-dbf7a069f960",
   "metadata": {
    "execution": {
     "iopub.execute_input": "2023-05-19T08:50:49.716515Z",
     "iopub.status.busy": "2023-05-19T08:50:49.716238Z",
     "iopub.status.idle": "2023-05-19T08:50:49.721781Z",
     "shell.execute_reply": "2023-05-19T08:50:49.721196Z",
     "shell.execute_reply.started": "2023-05-19T08:50:49.716447Z"
    },
    "papermill": {},
    "tags": []
   },
   "source": [
    "### Setup Variables"
   ]
  },
  {
   "cell_type": "markdown",
   "id": "d4c31f4a-62cf-4fdc-a658-943680d10234",
   "metadata": {
    "papermill": {},
    "tags": []
   },
   "source": [
    "**Export chat history**\n",
    "\n",
    "You can use the export chat feature to export a copy of the chat history from an individual or group chat.\n",
    "1. Open the individual or group chat.\n",
    "2. Tap > More > Export chat.\n",
    "3. Choose to export without media.\n",
    "4. Save it to your drive or choose your preferred option.\n",
    "\n",
    "- `file_path`: file path of your chat in txt"
   ]
  },
  {
   "cell_type": "code",
   "execution_count": null,
   "id": "aeec78cb-3244-46e9-adc0-794a7f1de44f",
   "metadata": {
    "tags": []
   },
   "outputs": [],
   "source": [
    "file_path = \"Chat WhatsApp with +00 0 00 00 00 00.txt\""
   ]
  },
  {
   "cell_type": "markdown",
   "id": "127f7a32-706f-405b-b132-21fd84dd20fb",
   "metadata": {},
   "source": [
    "## Model"
   ]
  },
  {
   "cell_type": "markdown",
   "id": "14ac498b-ade5-4b52-b0ee-7ffdac2e1d4d",
   "metadata": {
    "papermill": {},
    "tags": []
   },
   "source": [
    "### Open & Parse chat file"
   ]
  },
  {
   "cell_type": "code",
   "execution_count": null,
   "id": "3dbdc371-37a3-486d-9b9b-bf13a858f29d",
   "metadata": {
    "papermill": {},
    "tags": []
   },
   "outputs": [],
   "source": [
    "parser = WhatsAppParser(file_path)\n",
    "parser.parse_file()\n",
    "df = parser.parsed_messages.get_df()\n",
    "df.head()"
   ]
  },
  {
   "cell_type": "markdown",
   "id": "registered-showcase",
   "metadata": {},
   "source": [
    "## Output"
   ]
  },
  {
   "cell_type": "markdown",
   "id": "d242d4f5-adcd-46f6-9584-4ffde3b9177c",
   "metadata": {},
   "source": [
    "### Create heatmap"
   ]
  },
  {
   "cell_type": "code",
   "execution_count": null,
   "id": "crude-louisville",
   "metadata": {
    "papermill": {},
    "tags": []
   },
   "outputs": [],
   "source": [
    "fig, ax = plt.subplots(2, 1, figsize=(20, 10))\n",
    "ax[0] = vis.calendar_heatmap(df, year=2023, cmap='Oranges', ax=ax[0])\n",
    "ax[1] = vis.calendar_heatmap(df, year=2023, linewidth=0, monthly_border=True, ax=ax[1])"
   ]
  }
 ],
 "metadata": {
  "kernelspec": {
   "display_name": "Python 3",
   "language": "python",
   "name": "python3"
  },
  "language_info": {
   "codemirror_mode": {
    "name": "ipython",
    "version": 3
   },
   "file_extension": ".py",
   "mimetype": "text/x-python",
   "name": "python",
   "nbconvert_exporter": "python",
   "pygments_lexer": "ipython3",
   "version": "3.9.6"
  },
  "papermill": {
   "default_parameters": {},
   "environment_variables": {},
   "parameters": {},
   "version": "2.3.3"
  },
  "widgets": {
   "application/vnd.jupyter.widget-state+json": {
    "state": {},
    "version_major": 2,
    "version_minor": 0
   }
  }
 },
 "nbformat": 4,
 "nbformat_minor": 5
}
