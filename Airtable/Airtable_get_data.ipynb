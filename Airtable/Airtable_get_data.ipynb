{
 "cells": [
  {
   "cell_type": "markdown",
   "id": "stable-spider",
   "metadata": {
    "papermill": {},
    "tags": []
   },
   "source": [
    "<img width=\"10%\" alt=\"Naas\" src=\"https://landen.imgix.net/jtci2pxwjczr/assets/5ice39g4.png?w=160\"/>"
   ]
  },
  {
   "cell_type": "markdown",
   "id": "impressed-sapphire",
   "metadata": {
    "papermill": {},
    "tags": []
   },
   "source": [
    "# Airtable - Get data\n",
    "<a href=\"https://app.naas.ai/user-redirect/naas/downloader?url=https://raw.githubusercontent.com/jupyter-naas/awesome-notebooks/master/Airtable/Airtable_get_data.ipynb\" target=\"_parent\"><img src=\"https://img.shields.io/badge/-Open%20in%20Naas-success?labelColor=000000&logo=data:image/svg+xml;base64,PD94bWwgdmVyc2lvbj0iMS4wIiBlbmNvZGluZz0iVVRGLTgiPz4KPHN2ZyB3aWR0aD0iMTAyNHB4IiBoZWlnaHQ9IjEwMjRweCIgdmlld0JveD0iMCAwIDEwMjQgMTAyNCIgeG1sbnM9Imh0dHA6Ly93d3cudzMub3JnLzIwMDAvc3ZnIiB4bWxuczp4bGluaz0iaHR0cDovL3d3dy53My5vcmcvMTk5OS94bGluayIgdmVyc2lvbj0iMS4xIj4KIDwhLS0gR2VuZXJhdGVkIGJ5IFBpeGVsbWF0b3IgUHJvIDIuMC41IC0tPgogPGRlZnM+CiAgPHRleHQgaWQ9InN0cmluZyIgdHJhbnNmb3JtPSJtYXRyaXgoMS4wIDAuMCAwLjAgMS4wIDIyOC4wIDU0LjUpIiBmb250LWZhbWlseT0iQ29tZm9ydGFhLVJlZ3VsYXIsIENvbWZvcnRhYSIgZm9udC1zaXplPSI4MDAiIHRleHQtZGVjb3JhdGlvbj0ibm9uZSIgZmlsbD0iI2ZmZmZmZiIgeD0iMS4xOTk5OTk5OTk5OTk5ODg2IiB5PSI3MDUuMCI+bjwvdGV4dD4KIDwvZGVmcz4KIDx1c2UgaWQ9Im4iIHhsaW5rOmhyZWY9IiNzdHJpbmciLz4KPC9zdmc+Cg==\"/></a>"
   ]
  },
  {
   "cell_type": "markdown",
   "id": "b8e295f0-cc75-4438-a0ad-eec854e4028e",
   "metadata": {},
   "source": [
    "**Tags:** #airtable #database #productivity #spreadsheet #naas_drivers"
   ]
  },
  {
   "cell_type": "markdown",
   "id": "f31019f5-145d-42af-9b48-ee1269052bde",
   "metadata": {},
   "source": [
    "## Input"
   ]
  },
  {
   "cell_type": "markdown",
   "id": "3d19ed19-baf8-4bc0-bfb9-63861d877ac0",
   "metadata": {
    "execution": {
     "iopub.execute_input": "2021-10-01T08:44:36.391670Z",
     "iopub.status.busy": "2021-10-01T08:44:36.391199Z",
     "iopub.status.idle": "2021-10-01T08:44:36.396020Z",
     "shell.execute_reply": "2021-10-01T08:44:36.395354Z",
     "shell.execute_reply.started": "2021-10-01T08:44:36.391555Z"
    }
   },
   "source": [
    "### Import library"
   ]
  },
  {
   "cell_type": "code",
   "execution_count": null,
   "id": "c22f5515-2e1c-4253-995d-544c9c0f6b4e",
   "metadata": {
    "tags": []
   },
   "outputs": [],
   "source": [
    "from naas_drivers import airtable"
   ]
  },
  {
   "cell_type": "markdown",
   "id": "941f91f5-7ac5-4e26-8eb0-4e1c1d255497",
   "metadata": {
    "execution": {
     "iopub.execute_input": "2021-10-01T08:45:14.334572Z",
     "iopub.status.busy": "2021-10-01T08:45:14.334247Z",
     "iopub.status.idle": "2021-10-01T08:45:14.346105Z",
     "shell.execute_reply": "2021-10-01T08:45:14.345466Z",
     "shell.execute_reply.started": "2021-10-01T08:45:14.334538Z"
    }
   },
   "source": [
    "### Variables"
   ]
  },
  {
   "cell_type": "code",
   "execution_count": null,
   "id": "146ae5eb-5f97-4367-8c93-fa17eced7025",
   "metadata": {},
   "outputs": [],
   "source": [
    "API_KEY = 'API_KEY'\n",
    "BASE_KEY = 'BASE_KEY'\n",
    "TABLE_NAME = 'TABLE_NAME'"
   ]
  },
  {
   "cell_type": "markdown",
   "id": "2c2b65cd-041b-469c-b2f4-81bb958e2459",
   "metadata": {},
   "source": [
    "## Model"
   ]
  },
  {
   "cell_type": "markdown",
   "id": "0253b39a-9fc9-4c5b-8912-86447701adab",
   "metadata": {},
   "source": [
    "### Connect to airtable and get data"
   ]
  },
  {
   "cell_type": "code",
   "execution_count": null,
   "id": "2b0d0525-aebc-4f49-8ec0-de5e58337448",
   "metadata": {},
   "outputs": [],
   "source": [
    "at = naas_drivers.airtable.connect(API_KEY, BASE_KEY, TABLE_NAME).airtable.get(view='All opportunities', maxRecords=20)"
   ]
  },
  {
   "cell_type": "markdown",
   "id": "20beb518-0336-4553-8fdc-517c885af09d",
   "metadata": {},
   "source": [
    "## Output"
   ]
  },
  {
   "cell_type": "markdown",
   "id": "a6231558-82cb-4579-a189-d4f428cd53a3",
   "metadata": {},
   "source": [
    "### Display result"
   ]
  },
  {
   "cell_type": "code",
   "execution_count": null,
   "id": "hydraulic-lincoln",
   "metadata": {
    "papermill": {},
    "tags": []
   },
   "outputs": [],
   "source": [
    "at"
   ]
  }
 ],
 "metadata": {
  "kernelspec": {
   "display_name": "Python 3",
   "language": "python",
   "name": "python3"
  },
  "language_info": {
   "codemirror_mode": {
    "name": "ipython",
    "version": 3
   },
   "file_extension": ".py",
   "mimetype": "text/x-python",
   "name": "python",
   "nbconvert_exporter": "python",
   "pygments_lexer": "ipython3",
   "version": "3.8.8"
  },
  "papermill": {
   "default_parameters": {},
   "environment_variables": {},
   "parameters": {},
   "version": "2.3.3"
  },
  "widgets": {
   "application/vnd.jupyter.widget-state+json": {
    "state": {},
    "version_major": 2,
    "version_minor": 0
   }
  }
 },
 "nbformat": 4,
 "nbformat_minor": 5
}
