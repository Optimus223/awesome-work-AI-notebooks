{
 "cells": [
  {
   "cell_type": "markdown",
   "id": "advisory-century",
   "metadata": {
    "papermill": {},
    "tags": []
   },
   "source": [
    "<img width=\"10%\" alt=\"Naas\" src=\"https://landen.imgix.net/jtci2pxwjczr/assets/5ice39g4.png?w=160\"/>"
   ]
  },
  {
   "cell_type": "markdown",
   "id": "harmful-billy",
   "metadata": {
    "papermill": {},
    "tags": []
   },
   "source": [
    "# Airtable - Insert data\n",
    "<a href=\"https://app.naas.ai/user-redirect/naas/downloader?url=https://raw.githubusercontent.com/jupyter-naas/awesome-notebooks/master/Airtable/Airtable_insert_data.ipynb\" target=\"_parent\"><img src=\"https://img.shields.io/badge/-Open%20in%20Naas-success?labelColor=000000&logo=data:image/svg+xml;base64,PD94bWwgdmVyc2lvbj0iMS4wIiBlbmNvZGluZz0iVVRGLTgiPz4KPHN2ZyB3aWR0aD0iMTAyNHB4IiBoZWlnaHQ9IjEwMjRweCIgdmlld0JveD0iMCAwIDEwMjQgMTAyNCIgeG1sbnM9Imh0dHA6Ly93d3cudzMub3JnLzIwMDAvc3ZnIiB4bWxuczp4bGluaz0iaHR0cDovL3d3dy53My5vcmcvMTk5OS94bGluayIgdmVyc2lvbj0iMS4xIj4KIDwhLS0gR2VuZXJhdGVkIGJ5IFBpeGVsbWF0b3IgUHJvIDIuMC41IC0tPgogPGRlZnM+CiAgPHRleHQgaWQ9InN0cmluZyIgdHJhbnNmb3JtPSJtYXRyaXgoMS4wIDAuMCAwLjAgMS4wIDIyOC4wIDU0LjUpIiBmb250LWZhbWlseT0iQ29tZm9ydGFhLVJlZ3VsYXIsIENvbWZvcnRhYSIgZm9udC1zaXplPSI4MDAiIHRleHQtZGVjb3JhdGlvbj0ibm9uZSIgZmlsbD0iI2ZmZmZmZiIgeD0iMS4xOTk5OTk5OTk5OTk5ODg2IiB5PSI3MDUuMCI+bjwvdGV4dD4KIDwvZGVmcz4KIDx1c2UgaWQ9Im4iIHhsaW5rOmhyZWY9IiNzdHJpbmciLz4KPC9zdmc+Cg==\"/></a>"
   ]
  },
  {
   "cell_type": "markdown",
   "id": "married-carrier",
   "metadata": {
    "papermill": {},
    "tags": []
   },
   "source": [
    "**Tags:** #airtable #database #productivity #spreadsheet #naas_drivers"
   ]
  },
  {
   "cell_type": "markdown",
   "id": "45d5baee-1f85-417d-928c-f3b982ee26c6",
   "metadata": {
    "execution": {
     "iopub.execute_input": "2021-10-01T08:53:00.117936Z",
     "iopub.status.busy": "2021-10-01T08:53:00.117470Z",
     "iopub.status.idle": "2021-10-01T08:53:00.121082Z",
     "shell.execute_reply": "2021-10-01T08:53:00.120558Z",
     "shell.execute_reply.started": "2021-10-01T08:53:00.117859Z"
    }
   },
   "source": [
    "### Input"
   ]
  },
  {
   "cell_type": "markdown",
   "id": "36231032-cebc-4cd2-86a1-2789cc90beff",
   "metadata": {},
   "source": [
    "## Import library"
   ]
  },
  {
   "cell_type": "code",
   "execution_count": null,
   "id": "4fcb2dc3-09d5-418b-990d-b9c0a92cec4d",
   "metadata": {},
   "outputs": [],
   "source": [
    "from naas_drivers import airtable"
   ]
  },
  {
   "cell_type": "markdown",
   "id": "11dac76e-db5f-4c35-87b3-6388caf3ccee",
   "metadata": {},
   "source": [
    "### Variables"
   ]
  },
  {
   "cell_type": "code",
   "execution_count": null,
   "id": "0463abd5-6eb7-4779-9a0c-824f5ffd158b",
   "metadata": {},
   "outputs": [],
   "source": [
    "API_KEY = 'API_KEY'\n",
    "BASE_KEY = 'BASE_KEY'\n",
    "TABLE_NAME = 'TABLE_NAME'"
   ]
  },
  {
   "cell_type": "markdown",
   "id": "636dfd05-4431-46d6-b0e2-89881040461b",
   "metadata": {
    "execution": {
     "iopub.execute_input": "2021-10-01T08:53:03.640232Z",
     "iopub.status.busy": "2021-10-01T08:53:03.639987Z",
     "iopub.status.idle": "2021-10-01T08:53:03.644213Z",
     "shell.execute_reply": "2021-10-01T08:53:03.643585Z",
     "shell.execute_reply.started": "2021-10-01T08:53:03.640207Z"
    }
   },
   "source": [
    "### Model"
   ]
  },
  {
   "cell_type": "markdown",
   "id": "0f428db9-a46c-4874-b7ce-721b5f2c8708",
   "metadata": {},
   "source": [
    "## Insert data"
   ]
  },
  {
   "cell_type": "code",
   "execution_count": null,
   "id": "numeric-wallet",
   "metadata": {
    "papermill": {},
    "tags": []
   },
   "outputs": [],
   "source": [
    "at = airtable.connect(API_KEY, BASE_KEY, TABLE_NAME).get(view='All opportunities', maxRecords=20).insert({'Name': 'Brian'})"
   ]
  },
  {
   "cell_type": "markdown",
   "id": "048122bb-7cd9-406b-959d-376ea1f30969",
   "metadata": {},
   "source": [
    "### Output"
   ]
  },
  {
   "cell_type": "markdown",
   "id": "e52bfd24-1491-4a07-bc3a-09731af33bc3",
   "metadata": {},
   "source": [
    "## Display result"
   ]
  },
  {
   "cell_type": "code",
   "execution_count": null,
   "id": "weekly-pulse",
   "metadata": {
    "papermill": {},
    "tags": []
   },
   "outputs": [],
   "source": [
    "at"
   ]
  }
 ],
 "metadata": {
  "kernelspec": {
   "display_name": "Python 3",
   "language": "python",
   "name": "python3"
  },
  "language_info": {
   "codemirror_mode": {
    "name": "ipython",
    "version": 3
   },
   "file_extension": ".py",
   "mimetype": "text/x-python",
   "name": "python",
   "nbconvert_exporter": "python",
   "pygments_lexer": "ipython3",
   "version": "3.8.8"
  },
  "papermill": {
   "default_parameters": {},
   "environment_variables": {},
   "parameters": {},
   "version": "2.3.3"
  },
  "widgets": {
   "application/vnd.jupyter.widget-state+json": {
    "state": {},
    "version_major": 2,
    "version_minor": 0
   }
  }
 },
 "nbformat": 4,
 "nbformat_minor": 5
}
