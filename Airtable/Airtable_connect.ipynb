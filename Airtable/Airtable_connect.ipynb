{
 "cells": [
  {
   "cell_type": "markdown",
   "id": "finite-snake",
   "metadata": {
    "papermill": {},
    "tags": []
   },
   "source": [
    "<img width=\"10%\" alt=\"Naas\" src=\"https://landen.imgix.net/jtci2pxwjczr/assets/5ice39g4.png?w=160\"/>"
   ]
  },
  {
   "cell_type": "markdown",
   "id": "acquired-sender",
   "metadata": {
    "papermill": {},
    "tags": []
   },
   "source": [
    "# Airtable - Connect\n",
    "<a href=\"https://app.naas.ai/user-redirect/naas/downloader?url=https://raw.githubusercontent.com/jupyter-naas/awesome-notebooks/master/Airtable/Airtable_connect.ipynb\" target=\"_parent\"><img src=\"https://naasai-public.s3.eu-west-3.amazonaws.com/open_in_naas.svg\"/></a>"
   ]
  },
  {
   "cell_type": "markdown",
   "id": "thermal-vinyl",
   "metadata": {
    "papermill": {},
    "tags": []
   },
   "source": [
    "**Tags:** #airtable #database #productivity #spreadsheet #naas_drivers"
   ]
  },
  {
   "cell_type": "markdown",
   "id": "0bc68633-3d9a-4033-8c17-958c8b60e35d",
   "metadata": {
    "papermill": {},
    "tags": []
   },
   "source": [
    "## Input"
   ]
  },
  {
   "cell_type": "markdown",
   "id": "e929f163-018d-4bb2-8dc6-39c803803692",
   "metadata": {
    "papermill": {},
    "tags": []
   },
   "source": [
    "### Import library"
   ]
  },
  {
   "cell_type": "code",
   "execution_count": null,
   "id": "40515775-625a-462a-8a46-1cefdac142ae",
   "metadata": {
    "papermill": {},
    "tags": []
   },
   "outputs": [],
   "source": [
    "from naas_drivers import airtable"
   ]
  },
  {
   "cell_type": "markdown",
   "id": "aec8ea26-8715-4b45-bf88-6ea8b89905ad",
   "metadata": {
    "papermill": {},
    "tags": []
   },
   "source": [
    "### Variables"
   ]
  },
  {
   "cell_type": "code",
   "execution_count": null,
   "id": "4ef0e060-8875-40fc-893d-f7c919735b1f",
   "metadata": {
    "papermill": {},
    "tags": []
   },
   "outputs": [],
   "source": [
    "API_KEY = 'API_KEY'\n",
    "BASE_KEY = 'BASE_KEY'\n",
    "TABLE_NAME = 'TABLE_NAME'"
   ]
  },
  {
   "cell_type": "markdown",
   "id": "20117575-a22a-41df-865f-ac3e7440ac1c",
   "metadata": {
    "papermill": {},
    "tags": []
   },
   "source": [
    "## Model"
   ]
  },
  {
   "cell_type": "markdown",
   "id": "8fd12cd8-32f7-4e02-b396-b263b1b9b549",
   "metadata": {
    "papermill": {},
    "tags": []
   },
   "source": [
    "### Connect to airtable"
   ]
  },
  {
   "cell_type": "code",
   "execution_count": null,
   "id": "bigger-canberra",
   "metadata": {
    "papermill": {},
    "tags": []
   },
   "outputs": [],
   "source": [
    "at = airtable.connect(API_KEY, BASE_KEY, TABLE_NAME)"
   ]
  },
  {
   "cell_type": "markdown",
   "id": "52d6d8e2-b255-4e13-a87f-b5f71c5d8ee6",
   "metadata": {
    "papermill": {},
    "tags": []
   },
   "source": [
    "## Output"
   ]
  },
  {
   "cell_type": "markdown",
   "id": "5351777d-30a8-4891-ad13-eebb5459b3dc",
   "metadata": {
    "papermill": {},
    "tags": []
   },
   "source": [
    "### Display result"
   ]
  },
  {
   "cell_type": "code",
   "execution_count": null,
   "id": "c35e7752-6f71-42d2-bebd-73526e971a6d",
   "metadata": {
    "papermill": {},
    "tags": []
   },
   "outputs": [],
   "source": [
    "at"
   ]
  }
 ],
 "metadata": {
  "kernelspec": {
   "display_name": "Python 3",
   "language": "python",
   "name": "python3"
  },
  "language_info": {
   "codemirror_mode": {
    "name": "ipython",
    "version": 3
   },
   "file_extension": ".py",
   "mimetype": "text/x-python",
   "name": "python",
   "nbconvert_exporter": "python",
   "pygments_lexer": "ipython3",
   "version": "3.8.8"
  },
  "papermill": {
   "default_parameters": {},
   "environment_variables": {},
   "parameters": {},
   "version": "2.3.3"
  },
  "widgets": {
   "application/vnd.jupyter.widget-state+json": {
    "state": {},
    "version_major": 2,
    "version_minor": 0
   }
  }
 },
 "nbformat": 4,
 "nbformat_minor": 5
}