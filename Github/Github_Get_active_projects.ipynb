{
 "cells": [
  {
   "cell_type": "markdown",
   "id": "54a621d7-c4e1-4d17-8ca0-97ae45c4adc9",
   "metadata": {},
   "source": [
    "# Github - Get list of active projects\n",
    "The objective of the notebook is provide a list of active projects that an organization is working on\n",
    "\n",
    "**Tags:** #naas #github #projects\n"
   ]
  },
  {
   "cell_type": "markdown",
   "id": "a7358066-b941-4bcc-bffa-7f96d8edc418",
   "metadata": {},
   "source": [
    "## Input"
   ]
  },
  {
   "cell_type": "markdown",
   "id": "e925bb46-c101-4878-b024-7b23da3cc190",
   "metadata": {},
   "source": [
    "### Imports"
   ]
  },
  {
   "cell_type": "code",
   "execution_count": 1,
   "id": "6830d861-a156-4d05-b605-d291f6375849",
   "metadata": {
    "execution": {
     "iopub.execute_input": "2022-02-15T16:51:52.895136Z",
     "iopub.status.busy": "2022-02-15T16:51:52.894879Z",
     "iopub.status.idle": "2022-02-15T16:51:53.257024Z",
     "shell.execute_reply": "2022-02-15T16:51:53.256437Z",
     "shell.execute_reply.started": "2022-02-15T16:51:52.895074Z"
    },
    "tags": []
   },
   "outputs": [],
   "source": [
    "import requests\n",
    "import pandas as pd\n",
    "from urllib.parse import urlencode\n",
    "from datetime import datetime"
   ]
  },
  {
   "cell_type": "markdown",
   "id": "96646790-46f0-49f2-906a-f28f2e2aec52",
   "metadata": {},
   "source": [
    "### Variables"
   ]
  },
  {
   "cell_type": "code",
   "execution_count": 2,
   "id": "c1dca9d1-e6e2-4d18-8387-35bbbda47b33",
   "metadata": {
    "execution": {
     "iopub.execute_input": "2022-02-15T16:51:54.681335Z",
     "iopub.status.busy": "2022-02-15T16:51:54.680773Z",
     "iopub.status.idle": "2022-02-15T16:51:54.687962Z",
     "shell.execute_reply": "2022-02-15T16:51:54.687362Z",
     "shell.execute_reply.started": "2022-02-15T16:51:54.681300Z"
    },
    "tags": []
   },
   "outputs": [],
   "source": [
    "PROJECT_URL = \"https://github.com/orgs/jupyter-naas/projects\"\n",
    "GITHUB_TOKEN = \"ghp_CEvqR7QauDbNLRiIiwACxxxxxxx\""
   ]
  },
  {
   "cell_type": "markdown",
   "id": "5482b5f0-bda2-42a6-9322-e29950f046d7",
   "metadata": {},
   "source": [
    "## Model"
   ]
  },
  {
   "cell_type": "code",
   "execution_count": 3,
   "id": "cd90e2db-08ec-4f16-b166-8e7ef0f24f6e",
   "metadata": {
    "execution": {
     "iopub.execute_input": "2022-02-15T16:51:56.631819Z",
     "iopub.status.busy": "2022-02-15T16:51:56.631532Z",
     "iopub.status.idle": "2022-02-15T16:51:57.148842Z",
     "shell.execute_reply": "2022-02-15T16:51:57.147972Z",
     "shell.execute_reply.started": "2022-02-15T16:51:56.631788Z"
    },
    "tags": []
   },
   "outputs": [],
   "source": [
    "def get_active_project_links(token, url):\n",
    "    project_df = pd.DataFrame()\n",
    "    headers={\"Authorization\":f'token {token}'}\n",
    "    url = \"api.github.com\".join(url.split(\"github.com\"))\n",
    "    page=1\n",
    "    while True:\n",
    "        params = {\n",
    "            \"per_page\":100,\n",
    "            'page':page\n",
    "        }\n",
    "        url_link = url+ f\"?{urlencode(params, safe='(),')}\"\n",
    "        res = requests.get(url_link, headers=headers, params=params)\n",
    "        \n",
    "        try:\n",
    "            res.raise_for_status()\n",
    "        except requests.HTTPError as e:\n",
    "            raise(e)\n",
    "        if len(res.json())==0:\n",
    "            break\n",
    "        res_json = res.json()\n",
    "\n",
    "        for idx, project in enumerate(res_json):\n",
    "            project_df.loc[idx, 'project_name'] = project.get('name')\n",
    "            project_df.loc[idx, 'project_description'] = project.get('body')\n",
    "            project_df.loc[idx, 'project_id'] = project.get('number')\n",
    "            project_df.loc[idx, 'project_created_by'] = project.get('creator')['login']\n",
    "            \n",
    "            project_df.loc[idx, 'project_created_date'] = project.get('created_at').strip('Z').split('T')[0]\n",
    "            project_df.loc[idx, 'project_created_time'] = project.get('created_at').strip('Z').split('T')[-1]\n",
    "            project_df.loc[idx, 'project_updated_date'] = project.get('updated_at').strip('Z').split('T')[0]\n",
    "            project_df.loc[idx, 'project_updated_time'] = project.get('updated_at').strip('Z').split('T')[-1]\n",
    "            \n",
    "            project_df.loc[idx, 'project_columns_url'] = project.get('columns_url')\n",
    "            \n",
    "        page+=1\n",
    "        \n",
    "    project_df['project_id'] = project_df.project_id.astype('int')\n",
    "    return project_df\n",
    "\n",
    "df_projects = get_active_project_links(GITHUB_TOKEN, PROJECT_URL)"
   ]
  },
  {
   "cell_type": "markdown",
   "id": "4ecd3e04-5d10-421c-b9d3-0179fd33ce10",
   "metadata": {},
   "source": [
    "## Output"
   ]
  },
  {
   "cell_type": "code",
   "execution_count": 4,
   "id": "3057324f-2312-4c47-8832-3f79a0dfa96f",
   "metadata": {
    "execution": {
     "iopub.execute_input": "2022-02-15T16:51:59.166746Z",
     "iopub.status.busy": "2022-02-15T16:51:59.166519Z",
     "iopub.status.idle": "2022-02-15T16:51:59.185249Z",
     "shell.execute_reply": "2022-02-15T16:51:59.184544Z",
     "shell.execute_reply.started": "2022-02-15T16:51:59.166724Z"
    },
    "tags": []
   },
   "outputs": [
    {
     "data": {
      "text/html": [
       "<div>\n",
       "<style scoped>\n",
       "    .dataframe tbody tr th:only-of-type {\n",
       "        vertical-align: middle;\n",
       "    }\n",
       "\n",
       "    .dataframe tbody tr th {\n",
       "        vertical-align: top;\n",
       "    }\n",
       "\n",
       "    .dataframe thead th {\n",
       "        text-align: right;\n",
       "    }\n",
       "</style>\n",
       "<table border=\"1\" class=\"dataframe\">\n",
       "  <thead>\n",
       "    <tr style=\"text-align: right;\">\n",
       "      <th></th>\n",
       "      <th>project_name</th>\n",
       "      <th>project_description</th>\n",
       "      <th>project_id</th>\n",
       "      <th>project_created_by</th>\n",
       "      <th>project_created_date</th>\n",
       "      <th>project_created_time</th>\n",
       "      <th>project_updated_date</th>\n",
       "      <th>project_updated_time</th>\n",
       "      <th>project_columns_url</th>\n",
       "    </tr>\n",
       "  </thead>\n",
       "  <tbody>\n",
       "    <tr>\n",
       "      <th>0</th>\n",
       "      <td>Community Roadmap</td>\n",
       "      <td>Official Naas Community Roadmap</td>\n",
       "      <td>4</td>\n",
       "      <td>jravenel</td>\n",
       "      <td>2021-05-25</td>\n",
       "      <td>20:53:14</td>\n",
       "      <td>2022-02-11</td>\n",
       "      <td>05:58:23</td>\n",
       "      <td>https://api.github.com/projects/12537896/columns</td>\n",
       "    </tr>\n",
       "  </tbody>\n",
       "</table>\n",
       "</div>"
      ],
      "text/plain": [
       "        project_name              project_description  project_id  \\\n",
       "0  Community Roadmap  Official Naas Community Roadmap           4   \n",
       "\n",
       "  project_created_by project_created_date project_created_time  \\\n",
       "0           jravenel           2021-05-25             20:53:14   \n",
       "\n",
       "  project_updated_date project_updated_time  \\\n",
       "0           2022-02-11             05:58:23   \n",
       "\n",
       "                                project_columns_url  \n",
       "0  https://api.github.com/projects/12537896/columns  "
      ]
     },
     "execution_count": 4,
     "metadata": {},
     "output_type": "execute_result"
    }
   ],
   "source": [
    "df_projects.head()"
   ]
  }
 ],
 "metadata": {
  "kernelspec": {
   "display_name": "Python 3",
   "language": "python",
   "name": "python3"
  },
  "language_info": {
   "codemirror_mode": {
    "name": "ipython",
    "version": 3
   },
   "file_extension": ".py",
   "mimetype": "text/x-python",
   "name": "python",
   "nbconvert_exporter": "python",
   "pygments_lexer": "ipython3",
   "version": "3.8.8"
  }
 },
 "nbformat": 4,
 "nbformat_minor": 5
}
