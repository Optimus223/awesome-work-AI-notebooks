{
 "cells": [
  {
   "cell_type": "markdown",
   "id": "23361f5c-b268-4be3-8df4-3e908fba0362",
   "metadata": {
    "papermill": {},
    "tags": []
   },
   "source": [
    "<img width=\"10%\" alt=\"Naas\" src=\"https://landen.imgix.net/jtci2pxwjczr/assets/5ice39g4.png?w=160\"/>"
   ]
  },
  {
   "cell_type": "markdown",
   "id": "54a621d7-c4e1-4d17-8ca0-97ae45c4adc9",
   "metadata": {
    "papermill": {},
    "tags": []
   },
   "source": [
    "# Github - Get active projects\n",
    "<a href=\"https://app.naas.ai/user-redirect/naas/downloader?url=https://raw.githubusercontent.com/jupyter-naas/awesome-notebooks/master/Github/Github_Get_active_projects.ipynb\" target=\"_parent\"><img src=\"https://naasai-public.s3.eu-west-3.amazonaws.com/open_in_naas.svg\"/></a>"
   ]
  },
  {
   "cell_type": "markdown",
   "id": "aaef6868-80bb-4eb8-b6f2-e1047aafd334",
   "metadata": {
    "papermill": {},
    "tags": []
   },
   "source": [
    "The objective of the notebook is provide a list of active projects that an organization is working on"
   ]
  },
  {
   "cell_type": "markdown",
   "id": "32d8de23-0420-4fa6-985e-d828d2f0fdaa",
   "metadata": {
    "papermill": {},
    "tags": []
   },
   "source": [
    "**Tags:** #github #projects #naas_drivers"
   ]
  },
  {
   "cell_type": "markdown",
   "id": "b01f0fc5-663a-4eaf-8cdd-1eef785c1939",
   "metadata": {
    "papermill": {},
    "tags": []
   },
   "source": [
    "**Author:** [Sanjeet Attili](https://www.linkedin.com/in/sanjeet-attili-760bab190/)"
   ]
  },
  {
   "cell_type": "markdown",
   "id": "a7358066-b941-4bcc-bffa-7f96d8edc418",
   "metadata": {
    "papermill": {},
    "tags": []
   },
   "source": [
    "## Input"
   ]
  },
  {
   "cell_type": "markdown",
   "id": "e925bb46-c101-4878-b024-7b23da3cc190",
   "metadata": {
    "papermill": {},
    "tags": []
   },
   "source": [
    "### Imports"
   ]
  },
  {
   "cell_type": "code",
   "execution_count": 1,
   "id": "6830d861-a156-4d05-b605-d291f6375849",
   "metadata": {
    "execution": {
     "iopub.execute_input": "2022-04-03T05:34:56.438399Z",
     "iopub.status.busy": "2022-04-03T05:34:56.438097Z",
     "iopub.status.idle": "2022-04-03T05:34:56.923289Z",
     "shell.execute_reply": "2022-04-03T05:34:56.922312Z",
     "shell.execute_reply.started": "2022-04-03T05:34:56.438325Z"
    },
    "papermill": {},
    "tags": []
   },
   "outputs": [],
   "source": [
    "import requests\n",
    "import pandas as pd\n",
    "from urllib.parse import urlencode\n",
    "from datetime import datetime\n",
    "from naas_drivers import github"
   ]
  },
  {
   "cell_type": "markdown",
   "id": "4ac9b8cd-a193-47aa-ac89-ff788a81ba28",
   "metadata": {
    "papermill": {},
    "tags": []
   },
   "source": [
    "## Setup Github\n",
    "**How to find your personal access token on Github?**\n",
    "\n",
    "- First we need to create a personal access token to get the details of our organization from here: https://github.com/settings/tokens\n",
    "- You will be asked to select scopes for the token. Which scopes you choose will determine what information and actions you will be able to perform against the API.\n",
    "- You should be careful with the ones prefixed with write:, delete: and admin: as these might be quite destructive.\n",
    "- You can find description of each scope in docs here (https://docs.github.com/en/developers/apps/building-oauth-apps/scopes-for-oauth-apps)."
   ]
  },
  {
   "cell_type": "markdown",
   "id": "d63a2fc0-116f-46e7-8a58-4e38d68907f1",
   "metadata": {},
   "source": [
    "### Variables"
   ]
  },
  {
   "cell_type": "code",
   "execution_count": 2,
   "id": "c1dca9d1-e6e2-4d18-8387-35bbbda47b33",
   "metadata": {
    "execution": {
     "iopub.execute_input": "2022-04-03T05:35:01.511412Z",
     "iopub.status.busy": "2022-04-03T05:35:01.511184Z",
     "iopub.status.idle": "2022-04-03T05:35:01.514258Z",
     "shell.execute_reply": "2022-04-03T05:35:01.513590Z",
     "shell.execute_reply.started": "2022-04-03T05:35:01.511389Z"
    },
    "papermill": {},
    "tags": []
   },
   "outputs": [],
   "source": [
    "# Github project url\n",
    "PROJECT_URL = \"https://github.com/orgs/jupyter-naas/projects\"\n",
    "\n",
    "# Github token\n",
    "GITHUB_TOKEN = \"ghp_COJiJEU4cQR4rjslUjM9Duxxxxxx\""
   ]
  },
  {
   "cell_type": "markdown",
   "id": "5482b5f0-bda2-42a6-9322-e29950f046d7",
   "metadata": {
    "papermill": {},
    "tags": []
   },
   "source": [
    "## Model"
   ]
  },
  {
   "cell_type": "code",
   "execution_count": 3,
   "id": "90a9e07d-b778-4700-a187-50270f247f3e",
   "metadata": {
    "execution": {
     "iopub.execute_input": "2022-04-03T05:35:40.221667Z",
     "iopub.status.busy": "2022-04-03T05:35:40.221334Z",
     "iopub.status.idle": "2022-04-03T05:35:40.758024Z",
     "shell.execute_reply": "2022-04-03T05:35:40.757236Z",
     "shell.execute_reply.started": "2022-04-03T05:35:40.221622Z"
    },
    "tags": []
   },
   "outputs": [],
   "source": [
    "df_projects = github.connect(GITHUB_TOKEN).projects.get(PROJECT_URL)"
   ]
  },
  {
   "cell_type": "markdown",
   "id": "4ecd3e04-5d10-421c-b9d3-0179fd33ce10",
   "metadata": {
    "papermill": {},
    "tags": []
   },
   "source": [
    "## Output"
   ]
  },
  {
   "cell_type": "markdown",
   "id": "bd6aa46a-076e-42e7-a2c0-50404715c0cb",
   "metadata": {
    "papermill": {},
    "tags": []
   },
   "source": [
    "### Display result"
   ]
  },
  {
   "cell_type": "code",
   "execution_count": 4,
   "id": "3057324f-2312-4c47-8832-3f79a0dfa96f",
   "metadata": {
    "execution": {
     "iopub.execute_input": "2022-04-03T05:35:44.332045Z",
     "iopub.status.busy": "2022-04-03T05:35:44.331802Z",
     "iopub.status.idle": "2022-04-03T05:35:44.357587Z",
     "shell.execute_reply": "2022-04-03T05:35:44.356979Z",
     "shell.execute_reply.started": "2022-04-03T05:35:44.332022Z"
    },
    "papermill": {},
    "tags": []
   },
   "outputs": [
    {
     "data": {
      "text/html": [
       "<div>\n",
       "<style scoped>\n",
       "    .dataframe tbody tr th:only-of-type {\n",
       "        vertical-align: middle;\n",
       "    }\n",
       "\n",
       "    .dataframe tbody tr th {\n",
       "        vertical-align: top;\n",
       "    }\n",
       "\n",
       "    .dataframe thead th {\n",
       "        text-align: right;\n",
       "    }\n",
       "</style>\n",
       "<table border=\"1\" class=\"dataframe\">\n",
       "  <thead>\n",
       "    <tr style=\"text-align: right;\">\n",
       "      <th></th>\n",
       "      <th>project_name</th>\n",
       "      <th>project_description</th>\n",
       "      <th>project_id</th>\n",
       "      <th>project_created_by</th>\n",
       "      <th>project_created_date</th>\n",
       "      <th>project_created_time</th>\n",
       "      <th>project_updated_date</th>\n",
       "      <th>project_updated_time</th>\n",
       "      <th>project_columns_url</th>\n",
       "    </tr>\n",
       "  </thead>\n",
       "  <tbody>\n",
       "    <tr>\n",
       "      <th>0</th>\n",
       "      <td>Community Roadmap</td>\n",
       "      <td>Official Naas Community Roadmap</td>\n",
       "      <td>4</td>\n",
       "      <td>jravenel</td>\n",
       "      <td>2021-05-25</td>\n",
       "      <td>20:53:14</td>\n",
       "      <td>2022-03-31</td>\n",
       "      <td>15:24:44</td>\n",
       "      <td>https://api.github.com/projects/12537896/columns</td>\n",
       "    </tr>\n",
       "  </tbody>\n",
       "</table>\n",
       "</div>"
      ],
      "text/plain": [
       "        project_name              project_description  project_id  \\\n",
       "0  Community Roadmap  Official Naas Community Roadmap           4   \n",
       "\n",
       "  project_created_by project_created_date project_created_time  \\\n",
       "0           jravenel           2021-05-25             20:53:14   \n",
       "\n",
       "  project_updated_date project_updated_time  \\\n",
       "0           2022-03-31             15:24:44   \n",
       "\n",
       "                                project_columns_url  \n",
       "0  https://api.github.com/projects/12537896/columns  "
      ]
     },
     "execution_count": 4,
     "metadata": {},
     "output_type": "execute_result"
    }
   ],
   "source": [
    "df_projects.head()"
   ]
  }
 ],
 "metadata": {
  "kernelspec": {
   "display_name": "Python 3",
   "language": "python",
   "name": "python3"
  },
  "language_info": {
   "codemirror_mode": {
    "name": "ipython",
    "version": 3
   },
   "file_extension": ".py",
   "mimetype": "text/x-python",
   "name": "python",
   "nbconvert_exporter": "python",
   "pygments_lexer": "ipython3",
   "version": "3.9.6"
  },
  "papermill": {
   "default_parameters": {},
   "environment_variables": {},
   "parameters": {},
   "version": "2.3.4"
  }
 },
 "nbformat": 4,
 "nbformat_minor": 5
}
