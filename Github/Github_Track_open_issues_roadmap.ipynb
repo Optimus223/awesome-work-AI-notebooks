{
 "cells": [
  {
   "cell_type": "markdown",
   "id": "7a947a13-6b2f-446a-8b6d-32fcfe9c71a4",
   "metadata": {},
   "source": [
    "# Github - Track issues on Community Roaadmap\n",
    "The objective of the notebook is to maintain a track of issues that are open in the community roadmap\n",
    "\n",
    "Tags: #naas #github #issues\n"
   ]
  },
  {
   "cell_type": "markdown",
   "id": "63d8ce9e-f1bb-49c3-a753-01fd30949b21",
   "metadata": {},
   "source": [
    "## Input"
   ]
  },
  {
   "cell_type": "markdown",
   "id": "d4d1e767-29ef-4975-901d-dfa00f40834e",
   "metadata": {},
   "source": [
    "### Imports"
   ]
  },
  {
   "cell_type": "code",
   "execution_count": 16,
   "id": "b4baafbb-d91c-433c-a68b-482d9b10f600",
   "metadata": {
    "execution": {
     "iopub.execute_input": "2022-02-06T11:59:00.234154Z",
     "iopub.status.busy": "2022-02-06T11:59:00.233840Z",
     "iopub.status.idle": "2022-02-06T11:59:00.346017Z",
     "shell.execute_reply": "2022-02-06T11:59:00.345400Z",
     "shell.execute_reply.started": "2022-02-06T11:59:00.234123Z"
    },
    "tags": []
   },
   "outputs": [],
   "source": [
    "import requests\n",
    "import pandas as pd\n",
    "from urllib.parse import urlencode\n",
    "from datetime import datetime\n",
    "import plotly.express as px"
   ]
  },
  {
   "cell_type": "markdown",
   "id": "29a2408f-fe33-4b95-96cc-e175fd5a75fa",
   "metadata": {},
   "source": [
    "### Variables"
   ]
  },
  {
   "cell_type": "code",
   "execution_count": 3,
   "id": "3ef3fdc5-a458-4ca8-a65e-605ff18546f5",
   "metadata": {
    "execution": {
     "iopub.execute_input": "2022-02-06T11:36:50.199578Z",
     "iopub.status.busy": "2022-02-06T11:36:50.199357Z",
     "iopub.status.idle": "2022-02-06T11:36:50.203916Z",
     "shell.execute_reply": "2022-02-06T11:36:50.203346Z",
     "shell.execute_reply.started": "2022-02-06T11:36:50.199555Z"
    },
    "tags": []
   },
   "outputs": [],
   "source": [
    "project_url=\"https://api.github.com/orgs/jupyter-naas/projects\"\n",
    "token = \"ghp_V8ynao6l98DQwtSbgLfSOgR***********\""
   ]
  },
  {
   "cell_type": "markdown",
   "id": "27a2ef01-52fd-466a-ad9a-892827dfe97d",
   "metadata": {},
   "source": [
    "## Model"
   ]
  },
  {
   "cell_type": "markdown",
   "id": "9ffb74a9-02c2-44f9-bc38-55f1b34cc25a",
   "metadata": {},
   "source": [
    "### Get projects active on Github"
   ]
  },
  {
   "cell_type": "code",
   "execution_count": 4,
   "id": "9ca95c92-5872-4865-966f-2ecdffd0a4c2",
   "metadata": {
    "execution": {
     "iopub.execute_input": "2022-02-06T11:36:51.149049Z",
     "iopub.status.busy": "2022-02-06T11:36:51.148768Z",
     "iopub.status.idle": "2022-02-06T11:36:51.671380Z",
     "shell.execute_reply": "2022-02-06T11:36:51.670336Z",
     "shell.execute_reply.started": "2022-02-06T11:36:51.149023Z"
    },
    "tags": []
   },
   "outputs": [
    {
     "data": {
      "text/html": [
       "<div>\n",
       "<style scoped>\n",
       "    .dataframe tbody tr th:only-of-type {\n",
       "        vertical-align: middle;\n",
       "    }\n",
       "\n",
       "    .dataframe tbody tr th {\n",
       "        vertical-align: top;\n",
       "    }\n",
       "\n",
       "    .dataframe thead th {\n",
       "        text-align: right;\n",
       "    }\n",
       "</style>\n",
       "<table border=\"1\" class=\"dataframe\">\n",
       "  <thead>\n",
       "    <tr style=\"text-align: right;\">\n",
       "      <th></th>\n",
       "      <th>project_name</th>\n",
       "      <th>project_description</th>\n",
       "      <th>project_id</th>\n",
       "      <th>project_created_by</th>\n",
       "      <th>project_created_date</th>\n",
       "      <th>project_created_time</th>\n",
       "      <th>project_updated_date</th>\n",
       "      <th>project_updated_time</th>\n",
       "      <th>project_columns_url</th>\n",
       "    </tr>\n",
       "  </thead>\n",
       "  <tbody>\n",
       "    <tr>\n",
       "      <th>0</th>\n",
       "      <td>Community Roadmap</td>\n",
       "      <td>Official Naas Community Roadmap</td>\n",
       "      <td>4</td>\n",
       "      <td>jravenel</td>\n",
       "      <td>2021-05-25</td>\n",
       "      <td>20:53:14</td>\n",
       "      <td>2022-02-05</td>\n",
       "      <td>23:43:49</td>\n",
       "      <td>https://api.github.com/projects/12537896/columns</td>\n",
       "    </tr>\n",
       "  </tbody>\n",
       "</table>\n",
       "</div>"
      ],
      "text/plain": [
       "        project_name              project_description  project_id  \\\n",
       "0  Community Roadmap  Official Naas Community Roadmap           4   \n",
       "\n",
       "  project_created_by project_created_date project_created_time  \\\n",
       "0           jravenel           2021-05-25             20:53:14   \n",
       "\n",
       "  project_updated_date project_updated_time  \\\n",
       "0           2022-02-05             23:43:49   \n",
       "\n",
       "                                project_columns_url  \n",
       "0  https://api.github.com/projects/12537896/columns  "
      ]
     },
     "execution_count": 4,
     "metadata": {},
     "output_type": "execute_result"
    }
   ],
   "source": [
    "def get_active_project_links(token, url):\n",
    "    project_df = pd.DataFrame()\n",
    "    headers={\"Authorization\":f'token {token}'}\n",
    "    page=1\n",
    "    while True:\n",
    "        params = {\n",
    "            \"per_page\":100,\n",
    "            'page':page\n",
    "        }\n",
    "        url = url+ f\"?{urlencode(params, safe='(),')}\"\n",
    "        res = requests.get(url, headers=headers, params=params)\n",
    "        \n",
    "        try:\n",
    "            res.raise_for_status()   \n",
    "        except requests.HTTPError as e:\n",
    "            raise(e)\n",
    "        if len(res.json())==0:\n",
    "            break\n",
    "        res_json = res.json()\n",
    "\n",
    "        for idx, project in enumerate(res_json):\n",
    "            project_df.loc[idx, 'project_name'] = project.get('name')\n",
    "            project_df.loc[idx, 'project_description'] = project.get('body')\n",
    "            project_df.loc[idx, 'project_id'] = project.get('number')\n",
    "            project_df.loc[idx, 'project_created_by'] = project.get('creator')['login']\n",
    "            \n",
    "            project_df.loc[idx, 'project_created_date'] = project.get('created_at').strip('Z').split('T')[0]\n",
    "            project_df.loc[idx, 'project_created_time'] = project.get('created_at').strip('Z').split('T')[-1]\n",
    "            project_df.loc[idx, 'project_updated_date'] = project.get('updated_at').strip('Z').split('T')[0]\n",
    "            project_df.loc[idx, 'project_updated_time'] = project.get('updated_at').strip('Z').split('T')[-1]\n",
    "            \n",
    "            project_df.loc[idx, 'project_columns_url'] = project.get('columns_url')\n",
    "            \n",
    "        page+=1\n",
    "        \n",
    "    project_df['project_id'] = project_df.project_id.apply(lambda x: int(x))\n",
    "    return project_df\n",
    "\n",
    "df_projects = get_active_project_links(token, project_url)\n",
    "\n",
    "df_projects.head()"
   ]
  },
  {
   "cell_type": "markdown",
   "id": "86bdc9f3-8bd1-412c-b3ba-224007673236",
   "metadata": {},
   "source": [
    "### Get comments from issues"
   ]
  },
  {
   "cell_type": "code",
   "execution_count": 12,
   "id": "67a7fa32-a663-4c79-ad40-f8cdbb751d01",
   "metadata": {
    "execution": {
     "iopub.execute_input": "2022-02-06T11:46:08.302692Z",
     "iopub.status.busy": "2022-02-06T11:46:08.302399Z",
     "iopub.status.idle": "2022-02-06T11:46:08.306619Z",
     "shell.execute_reply": "2022-02-06T11:46:08.306016Z",
     "shell.execute_reply.started": "2022-02-06T11:46:08.302664Z"
    },
    "tags": []
   },
   "outputs": [],
   "source": [
    "def get_comments_from_issues(url):\n",
    "    headers={\"Authorization\":f'token {token}'}\n",
    "    issue_comments=[]\n",
    "    comments = requests.get(url, headers=headers)\n",
    "    try:\n",
    "        comments.raise_for_status()\n",
    "    except requests.HTTPError as e:\n",
    "        raise(e)\n",
    "    if len(comments.json())==0:\n",
    "        return 'No comments'\n",
    "    else:\n",
    "        for comment in comments.json():\n",
    "            issue_comments.append(comment['body'])\n",
    "        return issue_comments"
   ]
  },
  {
   "cell_type": "markdown",
   "id": "e5036c27-a5e2-4abf-982e-83ccb2fbf2ae",
   "metadata": {},
   "source": [
    "### Get details regarding issues from projects"
   ]
  },
  {
   "cell_type": "code",
   "execution_count": 32,
   "id": "08bc080e-78b8-4102-93ff-8649f2886b10",
   "metadata": {
    "execution": {
     "iopub.execute_input": "2022-02-06T12:21:36.863912Z",
     "iopub.status.busy": "2022-02-06T12:21:36.863662Z",
     "iopub.status.idle": "2022-02-06T12:22:39.839387Z",
     "shell.execute_reply": "2022-02-06T12:22:39.838719Z",
     "shell.execute_reply.started": "2022-02-06T12:21:36.863887Z"
    },
    "tags": []
   },
   "outputs": [],
   "source": [
    "def get_issues_from_projects(token, project_url):\n",
    "    \n",
    "    df_projects = get_active_project_links(token, project_url)\n",
    "    df_issues = pd.DataFrame(columns=['issue_status', 'issue_state'])\n",
    "    headers={\"Authorization\":f'token {token}'}\n",
    "    \n",
    "    ## Gets info from columns present in our roadmap ##\n",
    "    for _, project in df_projects.iterrows():\n",
    "        \n",
    "        columns = requests.get(project['project_columns_url'], headers=headers).json()\n",
    "        issue_status, issue_urls=[],[]\n",
    "        for column in columns:\n",
    "            page=1\n",
    "            while True:\n",
    "                params = {\n",
    "                    'per_page':100,\n",
    "                    'page':page\n",
    "                }\n",
    "                card_url = column['cards_url']+ f\"?{urlencode(params, safe='(),')}\"\n",
    "                issues = requests.get(card_url, headers=headers)\n",
    "                try:\n",
    "                    issues.raise_for_status()\n",
    "                except requests.HTTPError as e:\n",
    "                    raise(e)\n",
    "                if len(issues.json()) == 0:\n",
    "                    break\n",
    "                for issue in issues.json():\n",
    "                    if issue.get('content_url')!=None:                        \n",
    "                        issue_urls.append(issue.get('content_url'))\n",
    "                        issue_status.append(column['name'])\n",
    "                page+=1\n",
    "                \n",
    "        df_issues['issue_status'] = issue_status\n",
    "        \n",
    "        for idx, url in enumerate(issue_urls):\n",
    "            issue = requests.get(url, headers=headers)\n",
    "            try:\n",
    "                issue.raise_for_status()\n",
    "            except requests.HTTPError as e:\n",
    "                raise(e)\n",
    "            issue = issue.json()\n",
    "            ###### information to be extracted are below #####\n",
    "            df_issues.loc[idx, 'link_to_the_issue'], df_issues.loc[idx, 'issue_number'] = issue['html_url'], issue['number']\n",
    "            df_issues.loc[idx, 'issue_title'], df_issues.loc[idx, 'issue_state'] = issue['title'], issue['state']\n",
    "\n",
    "            labels= []\n",
    "            for label in issue['labels']:\n",
    "                labels.append(label.get('name'))\n",
    "            df_issues.loc[idx, 'issue_labels'] = \", \".join(labels)\n",
    "\n",
    "            assigned=[]\n",
    "            for assignee in issue['assignees']:\n",
    "                assigned.append(assignee.get('login'))\n",
    "            if assigned==[]:\n",
    "                df_issues.loc[idx, 'issue_assignees'] = 'None'\n",
    "            else:\n",
    "                df_issues.loc[idx, 'issue_assignees'] = \", \".join(assigned)\n",
    "\n",
    "            df_issues.loc[idx, 'comments_till_date'] = issue['comments']\n",
    "\n",
    "            df_issues.loc[idx, 'last_created_date'] = issue.get('created_at').strip('Z').split('T')[0]\n",
    "            df_issues.loc[idx, 'last_created_time'] = issue.get('created_at').strip('Z').split('T')[-1]\n",
    "            df_issues.loc[idx, 'last_updated_date'] = issue.get('updated_at').strip('Z').split('T')[0]\n",
    "            df_issues.loc[idx, 'last_updated_time'] = issue.get('updated_at').strip('Z').split('T')[-1]\n",
    "\n",
    "            if df_issues.loc[idx, 'issue_status']!='Backlog':\n",
    "                date_format = \"%Y-%m-%d\"\n",
    "                delta = datetime.now() - datetime.strptime(df_issues.loc[idx, 'last_updated_date'], date_format)\n",
    "                df_issues.loc[idx, 'stale_issue'] = f'No activity since {delta.days} days'\n",
    "            else:\n",
    "                df_issues.loc[idx, 'stale_issue'] = 'None'\n",
    "            \n",
    "            df_issues.loc[idx, 'comments'] = str(get_comments_from_issues(issue['comments_url']))\n",
    "            ##################################################\n",
    "        \n",
    "        df_issues['project_id'] = [df_projects.project_id.values[0]]*df_issues.shape[0]\n",
    "        df_issues['project_name'] = [df_projects.project_name.values[0]]*df_issues.shape[0]\n",
    "        df_issues['issue_number'] = df_issues['issue_number'].apply(lambda x: int(x))\n",
    "        df_issues['comments_till_date'] = df_issues['comments_till_date'].apply(lambda x: int(x))\n",
    "        \n",
    "    return df_issues\n",
    "\n",
    "df_issues = get_issues_from_projects(token, project_url)"
   ]
  },
  {
   "cell_type": "markdown",
   "id": "283068ba-78b3-4b9b-a5f6-ce60a8d304ff",
   "metadata": {},
   "source": [
    "## Output"
   ]
  },
  {
   "cell_type": "code",
   "execution_count": 33,
   "id": "6f8e8f07-b3a5-4a10-ad59-7c6d4d38ae96",
   "metadata": {
    "execution": {
     "iopub.execute_input": "2022-02-06T12:22:39.840687Z",
     "iopub.status.busy": "2022-02-06T12:22:39.840457Z",
     "iopub.status.idle": "2022-02-06T12:22:39.858673Z",
     "shell.execute_reply": "2022-02-06T12:22:39.858074Z",
     "shell.execute_reply.started": "2022-02-06T12:22:39.840646Z"
    },
    "tags": []
   },
   "outputs": [
    {
     "data": {
      "text/html": [
       "<div>\n",
       "<style scoped>\n",
       "    .dataframe tbody tr th:only-of-type {\n",
       "        vertical-align: middle;\n",
       "    }\n",
       "\n",
       "    .dataframe tbody tr th {\n",
       "        vertical-align: top;\n",
       "    }\n",
       "\n",
       "    .dataframe thead th {\n",
       "        text-align: right;\n",
       "    }\n",
       "</style>\n",
       "<table border=\"1\" class=\"dataframe\">\n",
       "  <thead>\n",
       "    <tr style=\"text-align: right;\">\n",
       "      <th></th>\n",
       "      <th>issue_status</th>\n",
       "      <th>issue_state</th>\n",
       "      <th>link_to_the_issue</th>\n",
       "      <th>issue_number</th>\n",
       "      <th>issue_title</th>\n",
       "      <th>issue_labels</th>\n",
       "      <th>issue_assignees</th>\n",
       "      <th>comments_till_date</th>\n",
       "      <th>last_created_date</th>\n",
       "      <th>last_created_time</th>\n",
       "      <th>last_updated_date</th>\n",
       "      <th>last_updated_time</th>\n",
       "      <th>stale_issue</th>\n",
       "      <th>comments</th>\n",
       "      <th>project_id</th>\n",
       "      <th>project_name</th>\n",
       "    </tr>\n",
       "  </thead>\n",
       "  <tbody>\n",
       "    <tr>\n",
       "      <th>0</th>\n",
       "      <td>Backlog</td>\n",
       "      <td>open</td>\n",
       "      <td>https://github.com/jupyter-naas/awesome-notebo...</td>\n",
       "      <td>307</td>\n",
       "      <td>Get data from TikTok API</td>\n",
       "      <td>good first issue</td>\n",
       "      <td>megha2907, calok64, RiddhiDeshpande222</td>\n",
       "      <td>0</td>\n",
       "      <td>2022-01-24</td>\n",
       "      <td>16:45:54</td>\n",
       "      <td>2022-01-25</td>\n",
       "      <td>04:21:40</td>\n",
       "      <td>None</td>\n",
       "      <td>No comments</td>\n",
       "      <td>4</td>\n",
       "      <td>Community Roadmap</td>\n",
       "    </tr>\n",
       "    <tr>\n",
       "      <th>1</th>\n",
       "      <td>Backlog</td>\n",
       "      <td>open</td>\n",
       "      <td>https://github.com/jupyter-naas/awesome-notebo...</td>\n",
       "      <td>281</td>\n",
       "      <td>Notion - Send Google Forms responses to Notion DB</td>\n",
       "      <td>good first issue</td>\n",
       "      <td>None</td>\n",
       "      <td>0</td>\n",
       "      <td>2021-12-14</td>\n",
       "      <td>13:58:47</td>\n",
       "      <td>2021-12-15</td>\n",
       "      <td>08:15:25</td>\n",
       "      <td>None</td>\n",
       "      <td>No comments</td>\n",
       "      <td>4</td>\n",
       "      <td>Community Roadmap</td>\n",
       "    </tr>\n",
       "    <tr>\n",
       "      <th>2</th>\n",
       "      <td>Backlog</td>\n",
       "      <td>open</td>\n",
       "      <td>https://github.com/jupyter-naas/awesome-notebo...</td>\n",
       "      <td>280</td>\n",
       "      <td>Notion - Create item in a Notion DB when new e...</td>\n",
       "      <td>good first issue</td>\n",
       "      <td>None</td>\n",
       "      <td>0</td>\n",
       "      <td>2021-12-14</td>\n",
       "      <td>13:25:18</td>\n",
       "      <td>2021-12-15</td>\n",
       "      <td>08:15:20</td>\n",
       "      <td>None</td>\n",
       "      <td>No comments</td>\n",
       "      <td>4</td>\n",
       "      <td>Community Roadmap</td>\n",
       "    </tr>\n",
       "    <tr>\n",
       "      <th>3</th>\n",
       "      <td>Backlog</td>\n",
       "      <td>open</td>\n",
       "      <td>https://github.com/jupyter-naas/awesome-notebo...</td>\n",
       "      <td>279</td>\n",
       "      <td>Notion - Create item in Notion DB with new for...</td>\n",
       "      <td>good first issue</td>\n",
       "      <td>None</td>\n",
       "      <td>0</td>\n",
       "      <td>2021-12-14</td>\n",
       "      <td>13:18:39</td>\n",
       "      <td>2021-12-15</td>\n",
       "      <td>08:15:13</td>\n",
       "      <td>None</td>\n",
       "      <td>No comments</td>\n",
       "      <td>4</td>\n",
       "      <td>Community Roadmap</td>\n",
       "    </tr>\n",
       "    <tr>\n",
       "      <th>4</th>\n",
       "      <td>Backlog</td>\n",
       "      <td>open</td>\n",
       "      <td>https://github.com/jupyter-naas/awesome-notebo...</td>\n",
       "      <td>278</td>\n",
       "      <td>Notion - Create item in Notion DB with new Git...</td>\n",
       "      <td>good first issue</td>\n",
       "      <td>None</td>\n",
       "      <td>0</td>\n",
       "      <td>2021-12-14</td>\n",
       "      <td>12:47:50</td>\n",
       "      <td>2021-12-15</td>\n",
       "      <td>08:15:08</td>\n",
       "      <td>None</td>\n",
       "      <td>No comments</td>\n",
       "      <td>4</td>\n",
       "      <td>Community Roadmap</td>\n",
       "    </tr>\n",
       "  </tbody>\n",
       "</table>\n",
       "</div>"
      ],
      "text/plain": [
       "  issue_status issue_state                                  link_to_the_issue  \\\n",
       "0      Backlog        open  https://github.com/jupyter-naas/awesome-notebo...   \n",
       "1      Backlog        open  https://github.com/jupyter-naas/awesome-notebo...   \n",
       "2      Backlog        open  https://github.com/jupyter-naas/awesome-notebo...   \n",
       "3      Backlog        open  https://github.com/jupyter-naas/awesome-notebo...   \n",
       "4      Backlog        open  https://github.com/jupyter-naas/awesome-notebo...   \n",
       "\n",
       "   issue_number                                        issue_title  \\\n",
       "0           307                           Get data from TikTok API   \n",
       "1           281  Notion - Send Google Forms responses to Notion DB   \n",
       "2           280  Notion - Create item in a Notion DB when new e...   \n",
       "3           279  Notion - Create item in Notion DB with new for...   \n",
       "4           278  Notion - Create item in Notion DB with new Git...   \n",
       "\n",
       "       issue_labels                         issue_assignees  \\\n",
       "0  good first issue  megha2907, calok64, RiddhiDeshpande222   \n",
       "1  good first issue                                    None   \n",
       "2  good first issue                                    None   \n",
       "3  good first issue                                    None   \n",
       "4  good first issue                                    None   \n",
       "\n",
       "   comments_till_date last_created_date last_created_time last_updated_date  \\\n",
       "0                   0        2022-01-24          16:45:54        2022-01-25   \n",
       "1                   0        2021-12-14          13:58:47        2021-12-15   \n",
       "2                   0        2021-12-14          13:25:18        2021-12-15   \n",
       "3                   0        2021-12-14          13:18:39        2021-12-15   \n",
       "4                   0        2021-12-14          12:47:50        2021-12-15   \n",
       "\n",
       "  last_updated_time stale_issue     comments  project_id       project_name  \n",
       "0          04:21:40        None  No comments           4  Community Roadmap  \n",
       "1          08:15:25        None  No comments           4  Community Roadmap  \n",
       "2          08:15:20        None  No comments           4  Community Roadmap  \n",
       "3          08:15:13        None  No comments           4  Community Roadmap  \n",
       "4          08:15:08        None  No comments           4  Community Roadmap  "
      ]
     },
     "execution_count": 33,
     "metadata": {},
     "output_type": "execute_result"
    }
   ],
   "source": [
    "df_issues.head()"
   ]
  },
  {
   "cell_type": "markdown",
   "id": "14c5ca12-e9f9-40f3-923c-8bba5ee6a4a1",
   "metadata": {},
   "source": [
    "### Plotting a bar graph for issues"
   ]
  },
  {
   "cell_type": "code",
   "execution_count": 34,
   "id": "42710764-bf47-47de-8638-71665f2d64a0",
   "metadata": {
    "execution": {
     "iopub.execute_input": "2022-02-06T12:22:39.860279Z",
     "iopub.status.busy": "2022-02-06T12:22:39.860036Z",
     "iopub.status.idle": "2022-02-06T12:22:40.006052Z",
     "shell.execute_reply": "2022-02-06T12:22:40.005454Z",
     "shell.execute_reply.started": "2022-02-06T12:22:39.860249Z"
    },
    "tags": []
   },
   "outputs": [
    {
     "data": {
      "application/vnd.plotly.v1+json": {
       "config": {
        "plotlyServerURL": "https://plot.ly"
       },
       "data": [
        {
         "alignmentgroup": "True",
         "hovertemplate": "Issue status=%{x}<br>Number of Issues=%{y}<extra></extra>",
         "legendgroup": "",
         "marker": {
          "color": "black"
         },
         "name": "",
         "offsetgroup": "",
         "orientation": "v",
         "showlegend": false,
         "textposition": "auto",
         "type": "bar",
         "x": [
          "Backlog",
          "Backlog",
          "Backlog",
          "Backlog",
          "Backlog",
          "Backlog",
          "Backlog",
          "Backlog",
          "Backlog",
          "Backlog",
          "Backlog",
          "Backlog",
          "Backlog",
          "Backlog",
          "Backlog",
          "Backlog",
          "Backlog",
          "Backlog",
          "Backlog",
          "Backlog",
          "Backlog",
          "Backlog",
          "Backlog",
          "Backlog",
          "Backlog",
          "Backlog",
          "Backlog",
          "Backlog",
          "Backlog",
          "Backlog",
          "Backlog",
          "Backlog",
          "Backlog",
          "Backlog",
          "Backlog",
          "Backlog",
          "Backlog",
          "Backlog",
          "Backlog",
          "Backlog",
          "Backlog",
          "Backlog",
          "Backlog",
          "Backlog",
          "Backlog",
          "Backlog",
          "Backlog",
          "Backlog",
          "Backlog",
          "Backlog",
          "Backlog",
          "Backlog",
          "Backlog",
          "Backlog",
          "Backlog",
          "Backlog",
          "Backlog",
          "Backlog",
          "Backlog",
          "Backlog",
          "Backlog",
          "Backlog",
          "Backlog",
          "Backlog",
          "Backlog",
          "Backlog",
          "Backlog",
          "Backlog",
          "Backlog",
          "Backlog",
          "Backlog",
          "Backlog",
          "Backlog",
          "Backlog",
          "Backlog",
          "Backlog",
          "Backlog",
          "Backlog",
          "Backlog",
          "Backlog",
          "Backlog",
          "Backlog",
          "Backlog",
          "Backlog",
          "Backlog",
          "Backlog",
          "Backlog",
          "Backlog",
          "Backlog",
          "Backlog",
          "Backlog",
          "Backlog",
          "Backlog",
          "Backlog",
          "Backlog",
          "Backlog",
          "To do",
          "To do",
          "To do",
          "To do",
          "To do",
          "To do",
          "To do",
          "To do",
          "To do",
          "To do",
          "In progress",
          "In progress",
          "In progress",
          "In progress",
          "In progress",
          "In progress",
          "Review",
          "Review",
          "Review",
          "Review",
          "Review",
          "Done",
          "Done",
          "Done",
          "Done",
          "Done",
          "Done",
          "Done",
          "Done",
          "Done",
          "Done",
          "Done",
          "Done",
          "Done",
          "Done",
          "Done",
          "Done",
          "Done",
          "Done",
          "Done",
          "Done",
          "Done",
          "Done",
          "Done",
          "Done",
          "Done",
          "Done",
          "Done",
          "Done",
          "Done",
          "Done"
         ],
         "xaxis": "x",
         "y": [
          1,
          1,
          1,
          1,
          1,
          1,
          1,
          1,
          1,
          1,
          1,
          1,
          1,
          1,
          1,
          1,
          1,
          1,
          1,
          1,
          1,
          1,
          1,
          1,
          1,
          1,
          1,
          1,
          1,
          1,
          1,
          1,
          1,
          1,
          1,
          1,
          1,
          1,
          1,
          1,
          1,
          1,
          1,
          1,
          1,
          1,
          1,
          1,
          1,
          1,
          1,
          1,
          1,
          1,
          1,
          1,
          1,
          1,
          1,
          1,
          1,
          1,
          1,
          1,
          1,
          1,
          1,
          1,
          1,
          1,
          1,
          1,
          1,
          1,
          1,
          1,
          1,
          1,
          1,
          1,
          1,
          1,
          1,
          1,
          1,
          1,
          1,
          1,
          1,
          1,
          1,
          1,
          1,
          1,
          1,
          1,
          1,
          1,
          1,
          1,
          1,
          1,
          1,
          1,
          1,
          1,
          1,
          1,
          1,
          1,
          1,
          1,
          1,
          1,
          1,
          1,
          1,
          1,
          1,
          1,
          1,
          1,
          1,
          1,
          1,
          1,
          1,
          1,
          1,
          1,
          1,
          1,
          1,
          1,
          1,
          1,
          1,
          1,
          1,
          1,
          1,
          1,
          1,
          1,
          1,
          1,
          1
         ],
         "yaxis": "y"
        }
       ],
       "layout": {
        "barmode": "relative",
        "font": {
         "color": "black",
         "family": "Arial",
         "size": 14
        },
        "height": 800,
        "legend": {
         "tracegroupgap": 0
        },
        "margin": {
         "pad": 10
        },
        "paper_bgcolor": "white",
        "plot_bgcolor": "#ffffff",
        "template": {
         "data": {
          "bar": [
           {
            "error_x": {
             "color": "#2a3f5f"
            },
            "error_y": {
             "color": "#2a3f5f"
            },
            "marker": {
             "line": {
              "color": "#E5ECF6",
              "width": 0.5
             }
            },
            "type": "bar"
           }
          ],
          "barpolar": [
           {
            "marker": {
             "line": {
              "color": "#E5ECF6",
              "width": 0.5
             }
            },
            "type": "barpolar"
           }
          ],
          "carpet": [
           {
            "aaxis": {
             "endlinecolor": "#2a3f5f",
             "gridcolor": "white",
             "linecolor": "white",
             "minorgridcolor": "white",
             "startlinecolor": "#2a3f5f"
            },
            "baxis": {
             "endlinecolor": "#2a3f5f",
             "gridcolor": "white",
             "linecolor": "white",
             "minorgridcolor": "white",
             "startlinecolor": "#2a3f5f"
            },
            "type": "carpet"
           }
          ],
          "choropleth": [
           {
            "colorbar": {
             "outlinewidth": 0,
             "ticks": ""
            },
            "type": "choropleth"
           }
          ],
          "contour": [
           {
            "colorbar": {
             "outlinewidth": 0,
             "ticks": ""
            },
            "colorscale": [
             [
              0,
              "#0d0887"
             ],
             [
              0.1111111111111111,
              "#46039f"
             ],
             [
              0.2222222222222222,
              "#7201a8"
             ],
             [
              0.3333333333333333,
              "#9c179e"
             ],
             [
              0.4444444444444444,
              "#bd3786"
             ],
             [
              0.5555555555555556,
              "#d8576b"
             ],
             [
              0.6666666666666666,
              "#ed7953"
             ],
             [
              0.7777777777777778,
              "#fb9f3a"
             ],
             [
              0.8888888888888888,
              "#fdca26"
             ],
             [
              1,
              "#f0f921"
             ]
            ],
            "type": "contour"
           }
          ],
          "contourcarpet": [
           {
            "colorbar": {
             "outlinewidth": 0,
             "ticks": ""
            },
            "type": "contourcarpet"
           }
          ],
          "heatmap": [
           {
            "colorbar": {
             "outlinewidth": 0,
             "ticks": ""
            },
            "colorscale": [
             [
              0,
              "#0d0887"
             ],
             [
              0.1111111111111111,
              "#46039f"
             ],
             [
              0.2222222222222222,
              "#7201a8"
             ],
             [
              0.3333333333333333,
              "#9c179e"
             ],
             [
              0.4444444444444444,
              "#bd3786"
             ],
             [
              0.5555555555555556,
              "#d8576b"
             ],
             [
              0.6666666666666666,
              "#ed7953"
             ],
             [
              0.7777777777777778,
              "#fb9f3a"
             ],
             [
              0.8888888888888888,
              "#fdca26"
             ],
             [
              1,
              "#f0f921"
             ]
            ],
            "type": "heatmap"
           }
          ],
          "heatmapgl": [
           {
            "colorbar": {
             "outlinewidth": 0,
             "ticks": ""
            },
            "colorscale": [
             [
              0,
              "#0d0887"
             ],
             [
              0.1111111111111111,
              "#46039f"
             ],
             [
              0.2222222222222222,
              "#7201a8"
             ],
             [
              0.3333333333333333,
              "#9c179e"
             ],
             [
              0.4444444444444444,
              "#bd3786"
             ],
             [
              0.5555555555555556,
              "#d8576b"
             ],
             [
              0.6666666666666666,
              "#ed7953"
             ],
             [
              0.7777777777777778,
              "#fb9f3a"
             ],
             [
              0.8888888888888888,
              "#fdca26"
             ],
             [
              1,
              "#f0f921"
             ]
            ],
            "type": "heatmapgl"
           }
          ],
          "histogram": [
           {
            "marker": {
             "colorbar": {
              "outlinewidth": 0,
              "ticks": ""
             }
            },
            "type": "histogram"
           }
          ],
          "histogram2d": [
           {
            "colorbar": {
             "outlinewidth": 0,
             "ticks": ""
            },
            "colorscale": [
             [
              0,
              "#0d0887"
             ],
             [
              0.1111111111111111,
              "#46039f"
             ],
             [
              0.2222222222222222,
              "#7201a8"
             ],
             [
              0.3333333333333333,
              "#9c179e"
             ],
             [
              0.4444444444444444,
              "#bd3786"
             ],
             [
              0.5555555555555556,
              "#d8576b"
             ],
             [
              0.6666666666666666,
              "#ed7953"
             ],
             [
              0.7777777777777778,
              "#fb9f3a"
             ],
             [
              0.8888888888888888,
              "#fdca26"
             ],
             [
              1,
              "#f0f921"
             ]
            ],
            "type": "histogram2d"
           }
          ],
          "histogram2dcontour": [
           {
            "colorbar": {
             "outlinewidth": 0,
             "ticks": ""
            },
            "colorscale": [
             [
              0,
              "#0d0887"
             ],
             [
              0.1111111111111111,
              "#46039f"
             ],
             [
              0.2222222222222222,
              "#7201a8"
             ],
             [
              0.3333333333333333,
              "#9c179e"
             ],
             [
              0.4444444444444444,
              "#bd3786"
             ],
             [
              0.5555555555555556,
              "#d8576b"
             ],
             [
              0.6666666666666666,
              "#ed7953"
             ],
             [
              0.7777777777777778,
              "#fb9f3a"
             ],
             [
              0.8888888888888888,
              "#fdca26"
             ],
             [
              1,
              "#f0f921"
             ]
            ],
            "type": "histogram2dcontour"
           }
          ],
          "mesh3d": [
           {
            "colorbar": {
             "outlinewidth": 0,
             "ticks": ""
            },
            "type": "mesh3d"
           }
          ],
          "parcoords": [
           {
            "line": {
             "colorbar": {
              "outlinewidth": 0,
              "ticks": ""
             }
            },
            "type": "parcoords"
           }
          ],
          "pie": [
           {
            "automargin": true,
            "type": "pie"
           }
          ],
          "scatter": [
           {
            "marker": {
             "colorbar": {
              "outlinewidth": 0,
              "ticks": ""
             }
            },
            "type": "scatter"
           }
          ],
          "scatter3d": [
           {
            "line": {
             "colorbar": {
              "outlinewidth": 0,
              "ticks": ""
             }
            },
            "marker": {
             "colorbar": {
              "outlinewidth": 0,
              "ticks": ""
             }
            },
            "type": "scatter3d"
           }
          ],
          "scattercarpet": [
           {
            "marker": {
             "colorbar": {
              "outlinewidth": 0,
              "ticks": ""
             }
            },
            "type": "scattercarpet"
           }
          ],
          "scattergeo": [
           {
            "marker": {
             "colorbar": {
              "outlinewidth": 0,
              "ticks": ""
             }
            },
            "type": "scattergeo"
           }
          ],
          "scattergl": [
           {
            "marker": {
             "colorbar": {
              "outlinewidth": 0,
              "ticks": ""
             }
            },
            "type": "scattergl"
           }
          ],
          "scattermapbox": [
           {
            "marker": {
             "colorbar": {
              "outlinewidth": 0,
              "ticks": ""
             }
            },
            "type": "scattermapbox"
           }
          ],
          "scatterpolar": [
           {
            "marker": {
             "colorbar": {
              "outlinewidth": 0,
              "ticks": ""
             }
            },
            "type": "scatterpolar"
           }
          ],
          "scatterpolargl": [
           {
            "marker": {
             "colorbar": {
              "outlinewidth": 0,
              "ticks": ""
             }
            },
            "type": "scatterpolargl"
           }
          ],
          "scatterternary": [
           {
            "marker": {
             "colorbar": {
              "outlinewidth": 0,
              "ticks": ""
             }
            },
            "type": "scatterternary"
           }
          ],
          "surface": [
           {
            "colorbar": {
             "outlinewidth": 0,
             "ticks": ""
            },
            "colorscale": [
             [
              0,
              "#0d0887"
             ],
             [
              0.1111111111111111,
              "#46039f"
             ],
             [
              0.2222222222222222,
              "#7201a8"
             ],
             [
              0.3333333333333333,
              "#9c179e"
             ],
             [
              0.4444444444444444,
              "#bd3786"
             ],
             [
              0.5555555555555556,
              "#d8576b"
             ],
             [
              0.6666666666666666,
              "#ed7953"
             ],
             [
              0.7777777777777778,
              "#fb9f3a"
             ],
             [
              0.8888888888888888,
              "#fdca26"
             ],
             [
              1,
              "#f0f921"
             ]
            ],
            "type": "surface"
           }
          ],
          "table": [
           {
            "cells": {
             "fill": {
              "color": "#EBF0F8"
             },
             "line": {
              "color": "white"
             }
            },
            "header": {
             "fill": {
              "color": "#C8D4E3"
             },
             "line": {
              "color": "white"
             }
            },
            "type": "table"
           }
          ]
         },
         "layout": {
          "annotationdefaults": {
           "arrowcolor": "#2a3f5f",
           "arrowhead": 0,
           "arrowwidth": 1
          },
          "autotypenumbers": "strict",
          "coloraxis": {
           "colorbar": {
            "outlinewidth": 0,
            "ticks": ""
           }
          },
          "colorscale": {
           "diverging": [
            [
             0,
             "#8e0152"
            ],
            [
             0.1,
             "#c51b7d"
            ],
            [
             0.2,
             "#de77ae"
            ],
            [
             0.3,
             "#f1b6da"
            ],
            [
             0.4,
             "#fde0ef"
            ],
            [
             0.5,
             "#f7f7f7"
            ],
            [
             0.6,
             "#e6f5d0"
            ],
            [
             0.7,
             "#b8e186"
            ],
            [
             0.8,
             "#7fbc41"
            ],
            [
             0.9,
             "#4d9221"
            ],
            [
             1,
             "#276419"
            ]
           ],
           "sequential": [
            [
             0,
             "#0d0887"
            ],
            [
             0.1111111111111111,
             "#46039f"
            ],
            [
             0.2222222222222222,
             "#7201a8"
            ],
            [
             0.3333333333333333,
             "#9c179e"
            ],
            [
             0.4444444444444444,
             "#bd3786"
            ],
            [
             0.5555555555555556,
             "#d8576b"
            ],
            [
             0.6666666666666666,
             "#ed7953"
            ],
            [
             0.7777777777777778,
             "#fb9f3a"
            ],
            [
             0.8888888888888888,
             "#fdca26"
            ],
            [
             1,
             "#f0f921"
            ]
           ],
           "sequentialminus": [
            [
             0,
             "#0d0887"
            ],
            [
             0.1111111111111111,
             "#46039f"
            ],
            [
             0.2222222222222222,
             "#7201a8"
            ],
            [
             0.3333333333333333,
             "#9c179e"
            ],
            [
             0.4444444444444444,
             "#bd3786"
            ],
            [
             0.5555555555555556,
             "#d8576b"
            ],
            [
             0.6666666666666666,
             "#ed7953"
            ],
            [
             0.7777777777777778,
             "#fb9f3a"
            ],
            [
             0.8888888888888888,
             "#fdca26"
            ],
            [
             1,
             "#f0f921"
            ]
           ]
          },
          "colorway": [
           "#636efa",
           "#EF553B",
           "#00cc96",
           "#ab63fa",
           "#FFA15A",
           "#19d3f3",
           "#FF6692",
           "#B6E880",
           "#FF97FF",
           "#FECB52"
          ],
          "font": {
           "color": "#2a3f5f"
          },
          "geo": {
           "bgcolor": "white",
           "lakecolor": "white",
           "landcolor": "#E5ECF6",
           "showlakes": true,
           "showland": true,
           "subunitcolor": "white"
          },
          "hoverlabel": {
           "align": "left"
          },
          "hovermode": "closest",
          "mapbox": {
           "style": "light"
          },
          "paper_bgcolor": "white",
          "plot_bgcolor": "#E5ECF6",
          "polar": {
           "angularaxis": {
            "gridcolor": "white",
            "linecolor": "white",
            "ticks": ""
           },
           "bgcolor": "#E5ECF6",
           "radialaxis": {
            "gridcolor": "white",
            "linecolor": "white",
            "ticks": ""
           }
          },
          "scene": {
           "xaxis": {
            "backgroundcolor": "#E5ECF6",
            "gridcolor": "white",
            "gridwidth": 2,
            "linecolor": "white",
            "showbackground": true,
            "ticks": "",
            "zerolinecolor": "white"
           },
           "yaxis": {
            "backgroundcolor": "#E5ECF6",
            "gridcolor": "white",
            "gridwidth": 2,
            "linecolor": "white",
            "showbackground": true,
            "ticks": "",
            "zerolinecolor": "white"
           },
           "zaxis": {
            "backgroundcolor": "#E5ECF6",
            "gridcolor": "white",
            "gridwidth": 2,
            "linecolor": "white",
            "showbackground": true,
            "ticks": "",
            "zerolinecolor": "white"
           }
          },
          "shapedefaults": {
           "line": {
            "color": "#2a3f5f"
           }
          },
          "ternary": {
           "aaxis": {
            "gridcolor": "white",
            "linecolor": "white",
            "ticks": ""
           },
           "baxis": {
            "gridcolor": "white",
            "linecolor": "white",
            "ticks": ""
           },
           "bgcolor": "#E5ECF6",
           "caxis": {
            "gridcolor": "white",
            "linecolor": "white",
            "ticks": ""
           }
          },
          "title": {
           "x": 0.05
          },
          "xaxis": {
           "automargin": true,
           "gridcolor": "white",
           "linecolor": "white",
           "ticks": "",
           "title": {
            "standoff": 15
           },
           "zerolinecolor": "white",
           "zerolinewidth": 2
          },
          "yaxis": {
           "automargin": true,
           "gridcolor": "white",
           "linecolor": "white",
           "ticks": "",
           "title": {
            "standoff": 15
           },
           "zerolinecolor": "white",
           "zerolinewidth": 2
          }
         }
        },
        "title": {
         "text": "Github Project - jupyter-naas : Community Roadmap <br><span style='font-size: 13px;'>Total issues: 147</span>"
        },
        "width": 1000,
        "xaxis": {
         "anchor": "y",
         "autorange": true,
         "domain": [
          0,
          1
         ],
         "range": [
          -0.5,
          4.5
         ],
         "title": {
          "text": "Issue status"
         },
         "type": "category"
        },
        "yaxis": {
         "anchor": "x",
         "autorange": true,
         "domain": [
          0,
          1
         ],
         "range": [
          0,
          101.05263157894737
         ],
         "title": {
          "text": "Number of Issues"
         },
         "type": "linear"
        }
       }
      },
      "image/png": "[encoded data removed]",
      "text/html": [
       "<div>                            <div id=\"af6d0811-71aa-4dff-926c-823fecf8d76a\" class=\"plotly-graph-div\" style=\"height:800px; width:1000px;\"></div>            <script type=\"text/javascript\">                require([\"plotly\"], function(Plotly) {                    window.PLOTLYENV=window.PLOTLYENV || {};                                    if (document.getElementById(\"af6d0811-71aa-4dff-926c-823fecf8d76a\")) {                    Plotly.newPlot(                        \"af6d0811-71aa-4dff-926c-823fecf8d76a\",                        [{\"alignmentgroup\": \"True\", \"hovertemplate\": \"Issue status=%{x}<br>Number of Issues=%{y}<extra></extra>\", \"legendgroup\": \"\", \"marker\": {\"color\": \"black\"}, \"name\": \"\", \"offsetgroup\": \"\", \"orientation\": \"v\", \"showlegend\": false, \"textposition\": \"auto\", \"type\": \"bar\", \"x\": [\"Backlog\", \"Backlog\", \"Backlog\", \"Backlog\", \"Backlog\", \"Backlog\", \"Backlog\", \"Backlog\", \"Backlog\", \"Backlog\", \"Backlog\", \"Backlog\", \"Backlog\", \"Backlog\", \"Backlog\", \"Backlog\", \"Backlog\", \"Backlog\", \"Backlog\", \"Backlog\", \"Backlog\", \"Backlog\", \"Backlog\", \"Backlog\", \"Backlog\", \"Backlog\", \"Backlog\", \"Backlog\", \"Backlog\", \"Backlog\", \"Backlog\", \"Backlog\", \"Backlog\", \"Backlog\", \"Backlog\", \"Backlog\", \"Backlog\", \"Backlog\", \"Backlog\", \"Backlog\", \"Backlog\", \"Backlog\", \"Backlog\", \"Backlog\", \"Backlog\", \"Backlog\", \"Backlog\", \"Backlog\", \"Backlog\", \"Backlog\", \"Backlog\", \"Backlog\", \"Backlog\", \"Backlog\", \"Backlog\", \"Backlog\", \"Backlog\", \"Backlog\", \"Backlog\", \"Backlog\", \"Backlog\", \"Backlog\", \"Backlog\", \"Backlog\", \"Backlog\", \"Backlog\", \"Backlog\", \"Backlog\", \"Backlog\", \"Backlog\", \"Backlog\", \"Backlog\", \"Backlog\", \"Backlog\", \"Backlog\", \"Backlog\", \"Backlog\", \"Backlog\", \"Backlog\", \"Backlog\", \"Backlog\", \"Backlog\", \"Backlog\", \"Backlog\", \"Backlog\", \"Backlog\", \"Backlog\", \"Backlog\", \"Backlog\", \"Backlog\", \"Backlog\", \"Backlog\", \"Backlog\", \"Backlog\", \"Backlog\", \"Backlog\", \"To do\", \"To do\", \"To do\", \"To do\", \"To do\", \"To do\", \"To do\", \"To do\", \"To do\", \"To do\", \"In progress\", \"In progress\", \"In progress\", \"In progress\", \"In progress\", \"In progress\", \"Review\", \"Review\", \"Review\", \"Review\", \"Review\", \"Done\", \"Done\", \"Done\", \"Done\", \"Done\", \"Done\", \"Done\", \"Done\", \"Done\", \"Done\", \"Done\", \"Done\", \"Done\", \"Done\", \"Done\", \"Done\", \"Done\", \"Done\", \"Done\", \"Done\", \"Done\", \"Done\", \"Done\", \"Done\", \"Done\", \"Done\", \"Done\", \"Done\", \"Done\", \"Done\"], \"xaxis\": \"x\", \"y\": [1, 1, 1, 1, 1, 1, 1, 1, 1, 1, 1, 1, 1, 1, 1, 1, 1, 1, 1, 1, 1, 1, 1, 1, 1, 1, 1, 1, 1, 1, 1, 1, 1, 1, 1, 1, 1, 1, 1, 1, 1, 1, 1, 1, 1, 1, 1, 1, 1, 1, 1, 1, 1, 1, 1, 1, 1, 1, 1, 1, 1, 1, 1, 1, 1, 1, 1, 1, 1, 1, 1, 1, 1, 1, 1, 1, 1, 1, 1, 1, 1, 1, 1, 1, 1, 1, 1, 1, 1, 1, 1, 1, 1, 1, 1, 1, 1, 1, 1, 1, 1, 1, 1, 1, 1, 1, 1, 1, 1, 1, 1, 1, 1, 1, 1, 1, 1, 1, 1, 1, 1, 1, 1, 1, 1, 1, 1, 1, 1, 1, 1, 1, 1, 1, 1, 1, 1, 1, 1, 1, 1, 1, 1, 1, 1, 1, 1], \"yaxis\": \"y\"}],                        {\"barmode\": \"relative\", \"font\": {\"color\": \"black\", \"family\": \"Arial\", \"size\": 14}, \"height\": 800, \"legend\": {\"tracegroupgap\": 0}, \"margin\": {\"pad\": 10}, \"paper_bgcolor\": \"white\", \"plot_bgcolor\": \"#ffffff\", \"template\": {\"data\": {\"bar\": [{\"error_x\": {\"color\": \"#2a3f5f\"}, \"error_y\": {\"color\": \"#2a3f5f\"}, \"marker\": {\"line\": {\"color\": \"#E5ECF6\", \"width\": 0.5}}, \"type\": \"bar\"}], \"barpolar\": [{\"marker\": {\"line\": {\"color\": \"#E5ECF6\", \"width\": 0.5}}, \"type\": \"barpolar\"}], \"carpet\": [{\"aaxis\": {\"endlinecolor\": \"#2a3f5f\", \"gridcolor\": \"white\", \"linecolor\": \"white\", \"minorgridcolor\": \"white\", \"startlinecolor\": \"#2a3f5f\"}, \"baxis\": {\"endlinecolor\": \"#2a3f5f\", \"gridcolor\": \"white\", \"linecolor\": \"white\", \"minorgridcolor\": \"white\", \"startlinecolor\": \"#2a3f5f\"}, \"type\": \"carpet\"}], \"choropleth\": [{\"colorbar\": {\"outlinewidth\": 0, \"ticks\": \"\"}, \"type\": \"choropleth\"}], \"contour\": [{\"colorbar\": {\"outlinewidth\": 0, \"ticks\": \"\"}, \"colorscale\": [[0.0, \"#0d0887\"], [0.1111111111111111, \"#46039f\"], [0.2222222222222222, \"#7201a8\"], [0.3333333333333333, \"#9c179e\"], [0.4444444444444444, \"#bd3786\"], [0.5555555555555556, \"#d8576b\"], [0.6666666666666666, \"#ed7953\"], [0.7777777777777778, \"#fb9f3a\"], [0.8888888888888888, \"#fdca26\"], [1.0, \"#f0f921\"]], \"type\": \"contour\"}], \"contourcarpet\": [{\"colorbar\": {\"outlinewidth\": 0, \"ticks\": \"\"}, \"type\": \"contourcarpet\"}], \"heatmap\": [{\"colorbar\": {\"outlinewidth\": 0, \"ticks\": \"\"}, \"colorscale\": [[0.0, \"#0d0887\"], [0.1111111111111111, \"#46039f\"], [0.2222222222222222, \"#7201a8\"], [0.3333333333333333, \"#9c179e\"], [0.4444444444444444, \"#bd3786\"], [0.5555555555555556, \"#d8576b\"], [0.6666666666666666, \"#ed7953\"], [0.7777777777777778, \"#fb9f3a\"], [0.8888888888888888, \"#fdca26\"], [1.0, \"#f0f921\"]], \"type\": \"heatmap\"}], \"heatmapgl\": [{\"colorbar\": {\"outlinewidth\": 0, \"ticks\": \"\"}, \"colorscale\": [[0.0, \"#0d0887\"], [0.1111111111111111, \"#46039f\"], [0.2222222222222222, \"#7201a8\"], [0.3333333333333333, \"#9c179e\"], [0.4444444444444444, \"#bd3786\"], [0.5555555555555556, \"#d8576b\"], [0.6666666666666666, \"#ed7953\"], [0.7777777777777778, \"#fb9f3a\"], [0.8888888888888888, \"#fdca26\"], [1.0, \"#f0f921\"]], \"type\": \"heatmapgl\"}], \"histogram\": [{\"marker\": {\"colorbar\": {\"outlinewidth\": 0, \"ticks\": \"\"}}, \"type\": \"histogram\"}], \"histogram2d\": [{\"colorbar\": {\"outlinewidth\": 0, \"ticks\": \"\"}, \"colorscale\": [[0.0, \"#0d0887\"], [0.1111111111111111, \"#46039f\"], [0.2222222222222222, \"#7201a8\"], [0.3333333333333333, \"#9c179e\"], [0.4444444444444444, \"#bd3786\"], [0.5555555555555556, \"#d8576b\"], [0.6666666666666666, \"#ed7953\"], [0.7777777777777778, \"#fb9f3a\"], [0.8888888888888888, \"#fdca26\"], [1.0, \"#f0f921\"]], \"type\": \"histogram2d\"}], \"histogram2dcontour\": [{\"colorbar\": {\"outlinewidth\": 0, \"ticks\": \"\"}, \"colorscale\": [[0.0, \"#0d0887\"], [0.1111111111111111, \"#46039f\"], [0.2222222222222222, \"#7201a8\"], [0.3333333333333333, \"#9c179e\"], [0.4444444444444444, \"#bd3786\"], [0.5555555555555556, \"#d8576b\"], [0.6666666666666666, \"#ed7953\"], [0.7777777777777778, \"#fb9f3a\"], [0.8888888888888888, \"#fdca26\"], [1.0, \"#f0f921\"]], \"type\": \"histogram2dcontour\"}], \"mesh3d\": [{\"colorbar\": {\"outlinewidth\": 0, \"ticks\": \"\"}, \"type\": \"mesh3d\"}], \"parcoords\": [{\"line\": {\"colorbar\": {\"outlinewidth\": 0, \"ticks\": \"\"}}, \"type\": \"parcoords\"}], \"pie\": [{\"automargin\": true, \"type\": \"pie\"}], \"scatter\": [{\"marker\": {\"colorbar\": {\"outlinewidth\": 0, \"ticks\": \"\"}}, \"type\": \"scatter\"}], \"scatter3d\": [{\"line\": {\"colorbar\": {\"outlinewidth\": 0, \"ticks\": \"\"}}, \"marker\": {\"colorbar\": {\"outlinewidth\": 0, \"ticks\": \"\"}}, \"type\": \"scatter3d\"}], \"scattercarpet\": [{\"marker\": {\"colorbar\": {\"outlinewidth\": 0, \"ticks\": \"\"}}, \"type\": \"scattercarpet\"}], \"scattergeo\": [{\"marker\": {\"colorbar\": {\"outlinewidth\": 0, \"ticks\": \"\"}}, \"type\": \"scattergeo\"}], \"scattergl\": [{\"marker\": {\"colorbar\": {\"outlinewidth\": 0, \"ticks\": \"\"}}, \"type\": \"scattergl\"}], \"scattermapbox\": [{\"marker\": {\"colorbar\": {\"outlinewidth\": 0, \"ticks\": \"\"}}, \"type\": \"scattermapbox\"}], \"scatterpolar\": [{\"marker\": {\"colorbar\": {\"outlinewidth\": 0, \"ticks\": \"\"}}, \"type\": \"scatterpolar\"}], \"scatterpolargl\": [{\"marker\": {\"colorbar\": {\"outlinewidth\": 0, \"ticks\": \"\"}}, \"type\": \"scatterpolargl\"}], \"scatterternary\": [{\"marker\": {\"colorbar\": {\"outlinewidth\": 0, \"ticks\": \"\"}}, \"type\": \"scatterternary\"}], \"surface\": [{\"colorbar\": {\"outlinewidth\": 0, \"ticks\": \"\"}, \"colorscale\": [[0.0, \"#0d0887\"], [0.1111111111111111, \"#46039f\"], [0.2222222222222222, \"#7201a8\"], [0.3333333333333333, \"#9c179e\"], [0.4444444444444444, \"#bd3786\"], [0.5555555555555556, \"#d8576b\"], [0.6666666666666666, \"#ed7953\"], [0.7777777777777778, \"#fb9f3a\"], [0.8888888888888888, \"#fdca26\"], [1.0, \"#f0f921\"]], \"type\": \"surface\"}], \"table\": [{\"cells\": {\"fill\": {\"color\": \"#EBF0F8\"}, \"line\": {\"color\": \"white\"}}, \"header\": {\"fill\": {\"color\": \"#C8D4E3\"}, \"line\": {\"color\": \"white\"}}, \"type\": \"table\"}]}, \"layout\": {\"annotationdefaults\": {\"arrowcolor\": \"#2a3f5f\", \"arrowhead\": 0, \"arrowwidth\": 1}, \"autotypenumbers\": \"strict\", \"coloraxis\": {\"colorbar\": {\"outlinewidth\": 0, \"ticks\": \"\"}}, \"colorscale\": {\"diverging\": [[0, \"#8e0152\"], [0.1, \"#c51b7d\"], [0.2, \"#de77ae\"], [0.3, \"#f1b6da\"], [0.4, \"#fde0ef\"], [0.5, \"#f7f7f7\"], [0.6, \"#e6f5d0\"], [0.7, \"#b8e186\"], [0.8, \"#7fbc41\"], [0.9, \"#4d9221\"], [1, \"#276419\"]], \"sequential\": [[0.0, \"#0d0887\"], [0.1111111111111111, \"#46039f\"], [0.2222222222222222, \"#7201a8\"], [0.3333333333333333, \"#9c179e\"], [0.4444444444444444, \"#bd3786\"], [0.5555555555555556, \"#d8576b\"], [0.6666666666666666, \"#ed7953\"], [0.7777777777777778, \"#fb9f3a\"], [0.8888888888888888, \"#fdca26\"], [1.0, \"#f0f921\"]], \"sequentialminus\": [[0.0, \"#0d0887\"], [0.1111111111111111, \"#46039f\"], [0.2222222222222222, \"#7201a8\"], [0.3333333333333333, \"#9c179e\"], [0.4444444444444444, \"#bd3786\"], [0.5555555555555556, \"#d8576b\"], [0.6666666666666666, \"#ed7953\"], [0.7777777777777778, \"#fb9f3a\"], [0.8888888888888888, \"#fdca26\"], [1.0, \"#f0f921\"]]}, \"colorway\": [\"#636efa\", \"#EF553B\", \"#00cc96\", \"#ab63fa\", \"#FFA15A\", \"#19d3f3\", \"#FF6692\", \"#B6E880\", \"#FF97FF\", \"#FECB52\"], \"font\": {\"color\": \"#2a3f5f\"}, \"geo\": {\"bgcolor\": \"white\", \"lakecolor\": \"white\", \"landcolor\": \"#E5ECF6\", \"showlakes\": true, \"showland\": true, \"subunitcolor\": \"white\"}, \"hoverlabel\": {\"align\": \"left\"}, \"hovermode\": \"closest\", \"mapbox\": {\"style\": \"light\"}, \"paper_bgcolor\": \"white\", \"plot_bgcolor\": \"#E5ECF6\", \"polar\": {\"angularaxis\": {\"gridcolor\": \"white\", \"linecolor\": \"white\", \"ticks\": \"\"}, \"bgcolor\": \"#E5ECF6\", \"radialaxis\": {\"gridcolor\": \"white\", \"linecolor\": \"white\", \"ticks\": \"\"}}, \"scene\": {\"xaxis\": {\"backgroundcolor\": \"#E5ECF6\", \"gridcolor\": \"white\", \"gridwidth\": 2, \"linecolor\": \"white\", \"showbackground\": true, \"ticks\": \"\", \"zerolinecolor\": \"white\"}, \"yaxis\": {\"backgroundcolor\": \"#E5ECF6\", \"gridcolor\": \"white\", \"gridwidth\": 2, \"linecolor\": \"white\", \"showbackground\": true, \"ticks\": \"\", \"zerolinecolor\": \"white\"}, \"zaxis\": {\"backgroundcolor\": \"#E5ECF6\", \"gridcolor\": \"white\", \"gridwidth\": 2, \"linecolor\": \"white\", \"showbackground\": true, \"ticks\": \"\", \"zerolinecolor\": \"white\"}}, \"shapedefaults\": {\"line\": {\"color\": \"#2a3f5f\"}}, \"ternary\": {\"aaxis\": {\"gridcolor\": \"white\", \"linecolor\": \"white\", \"ticks\": \"\"}, \"baxis\": {\"gridcolor\": \"white\", \"linecolor\": \"white\", \"ticks\": \"\"}, \"bgcolor\": \"#E5ECF6\", \"caxis\": {\"gridcolor\": \"white\", \"linecolor\": \"white\", \"ticks\": \"\"}}, \"title\": {\"x\": 0.05}, \"xaxis\": {\"automargin\": true, \"gridcolor\": \"white\", \"linecolor\": \"white\", \"ticks\": \"\", \"title\": {\"standoff\": 15}, \"zerolinecolor\": \"white\", \"zerolinewidth\": 2}, \"yaxis\": {\"automargin\": true, \"gridcolor\": \"white\", \"linecolor\": \"white\", \"ticks\": \"\", \"title\": {\"standoff\": 15}, \"zerolinecolor\": \"white\", \"zerolinewidth\": 2}}}, \"title\": {\"text\": \"Github Project - jupyter-naas : Community Roadmap <br><span style='font-size: 13px;'>Total issues: 147</span>\"}, \"width\": 1000, \"xaxis\": {\"anchor\": \"y\", \"domain\": [0.0, 1.0], \"title\": {\"text\": \"Issue status\"}}, \"yaxis\": {\"anchor\": \"x\", \"domain\": [0.0, 1.0], \"title\": {\"text\": \"Number of Issues\"}}},                        {\"responsive\": true}                    ).then(function(){\n",
       "                            \n",
       "var gd = document.getElementById('af6d0811-71aa-4dff-926c-823fecf8d76a');\n",
       "var x = new MutationObserver(function (mutations, observer) {{\n",
       "        var display = window.getComputedStyle(gd).display;\n",
       "        if (!display || display === 'none') {{\n",
       "            console.log([gd, 'removed!']);\n",
       "            Plotly.purge(gd);\n",
       "            observer.disconnect();\n",
       "        }}\n",
       "}});\n",
       "\n",
       "// Listen for the removal of the full notebook cells\n",
       "var notebookContainer = gd.closest('#notebook-container');\n",
       "if (notebookContainer) {{\n",
       "    x.observe(notebookContainer, {childList: true});\n",
       "}}\n",
       "\n",
       "// Listen for the clearing of the current output cell\n",
       "var outputEl = gd.closest('.output');\n",
       "if (outputEl) {{\n",
       "    x.observe(outputEl, {childList: true});\n",
       "}}\n",
       "\n",
       "                        })                };                });            </script>        </div>"
      ]
     },
     "metadata": {},
     "output_type": "display_data"
    }
   ],
   "source": [
    "def create_barchart(df, project_url):\n",
    "    df_issues['count']=1\n",
    "    df_issues.groupby('issue_status')['count'].sum().reset_index()\n",
    "    # Create fig\n",
    "    fig = px.bar(df,\n",
    "           title=f\"Github Project - {project_url.split('/')[-2]} : {df_issues['project_name'].unique()[0]} <br><span style='font-size: 13px;'>Total issues: {df_issues.groupby('issue_status')['count'].sum().sum()}</span>\",\n",
    "           x=\"issue_status\",\n",
    "           y=\"count\",\n",
    "           labels={\n",
    "               'issue_status':'Issue status',\n",
    "               'count':\"Number of Issues\"\n",
    "          })\n",
    "    fig.update_traces(marker_color='black')\n",
    "    fig.update_layout(\n",
    "        plot_bgcolor=\"#ffffff\",\n",
    "        width=1000,\n",
    "        height=800,\n",
    "        font=dict(family=\"Arial\", size=14, color=\"black\"),\n",
    "        paper_bgcolor=\"white\",\n",
    "        margin_pad=10,\n",
    "    )\n",
    "    fig.show()\n",
    "    return fig\n",
    "\n",
    "fig = create_barchart(df_issues, project_url)"
   ]
  }
 ],
 "metadata": {
  "kernelspec": {
   "display_name": "Python 3",
   "language": "python",
   "name": "python3"
  },
  "language_info": {
   "codemirror_mode": {
    "name": "ipython",
    "version": 3
   },
   "file_extension": ".py",
   "mimetype": "text/x-python",
   "name": "python",
   "nbconvert_exporter": "python",
   "pygments_lexer": "ipython3",
   "version": "3.8.8"
  }
 },
 "nbformat": 4,
 "nbformat_minor": 5
}
