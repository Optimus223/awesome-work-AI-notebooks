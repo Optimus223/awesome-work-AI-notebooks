{
 "cells": [
  {
   "cell_type": "markdown",
   "id": "7a947a13-6b2f-446a-8b6d-32fcfe9c71a4",
   "metadata": {},
   "source": [
    "# Github - Track issues on Community Roaadmap\n",
    "The objective of the notebook is to maintain a track of issues that are open in the community roadmap\n",
    "\n",
    "Tags: #naas #github #issues\n"
   ]
  },
  {
   "cell_type": "markdown",
   "id": "63d8ce9e-f1bb-49c3-a753-01fd30949b21",
   "metadata": {},
   "source": [
    "## Input"
   ]
  },
  {
   "cell_type": "markdown",
   "id": "d4d1e767-29ef-4975-901d-dfa00f40834e",
   "metadata": {},
   "source": [
    "### Imports"
   ]
  },
  {
   "cell_type": "code",
   "execution_count": null,
   "id": "b4baafbb-d91c-433c-a68b-482d9b10f600",
   "metadata": {
    "tags": []
   },
   "outputs": [],
   "source": [
    "import requests\n",
    "import pandas as pd\n",
    "from urllib.parse import urlencode\n",
    "from datetime import datetime\n",
    "import plotly.express as px"
   ]
  },
  {
   "cell_type": "markdown",
   "id": "29a2408f-fe33-4b95-96cc-e175fd5a75fa",
   "metadata": {},
   "source": [
    "### Variables"
   ]
  },
  {
   "cell_type": "code",
   "execution_count": null,
   "id": "3ef3fdc5-a458-4ca8-a65e-605ff18546f5",
   "metadata": {
    "tags": []
   },
   "outputs": [],
   "source": [
    "PROJECT_URL = \"https://api.github.com/orgs/jupyter-naas/projects\"\n",
    "GITHUB_TOKEN = \"ghp_CEvqR7QauDbNLRiIiwACxxxxxxx\""
   ]
  },
  {
   "cell_type": "markdown",
   "id": "27a2ef01-52fd-466a-ad9a-892827dfe97d",
   "metadata": {},
   "source": [
    "## Model"
   ]
  },
  {
   "cell_type": "markdown",
   "id": "9ffb74a9-02c2-44f9-bc38-55f1b34cc25a",
   "metadata": {},
   "source": [
    "### Get projects active on Github"
   ]
  },
  {
   "cell_type": "code",
   "execution_count": null,
   "id": "9ca95c92-5872-4865-966f-2ecdffd0a4c2",
   "metadata": {
    "tags": []
   },
   "outputs": [],
   "source": [
    "def get_active_project_links(token, url):\n",
    "    project_df = pd.DataFrame()\n",
    "    headers={\"Authorization\":f'token {token}'}\n",
    "    page=1\n",
    "    while True:\n",
    "        params = {\n",
    "            \"per_page\":100,\n",
    "            'page':page\n",
    "        }\n",
    "        url = url+ f\"?{urlencode(params, safe='(),')}\"\n",
    "        res = requests.get(url, headers=headers, params=params)\n",
    "        \n",
    "        try:\n",
    "            res.raise_for_status()   \n",
    "        except requests.HTTPError as e:\n",
    "            raise(e)\n",
    "        if len(res.json())==0:\n",
    "            break\n",
    "        res_json = res.json()\n",
    "\n",
    "        for idx, project in enumerate(res_json):\n",
    "            project_df.loc[idx, 'project_name'] = project.get('name')\n",
    "            project_df.loc[idx, 'project_description'] = project.get('body')\n",
    "            project_df.loc[idx, 'project_id'] = project.get('number')\n",
    "            project_df.loc[idx, 'project_created_by'] = project.get('creator')['login']\n",
    "            \n",
    "            project_df.loc[idx, 'project_created_date'] = project.get('created_at').strip('Z').split('T')[0]\n",
    "            project_df.loc[idx, 'project_created_time'] = project.get('created_at').strip('Z').split('T')[-1]\n",
    "            project_df.loc[idx, 'project_updated_date'] = project.get('updated_at').strip('Z').split('T')[0]\n",
    "            project_df.loc[idx, 'project_updated_time'] = project.get('updated_at').strip('Z').split('T')[-1]\n",
    "            \n",
    "            project_df.loc[idx, 'project_columns_url'] = project.get('columns_url')\n",
    "            \n",
    "        page+=1\n",
    "        \n",
    "    project_df['project_id'] = project_df.project_id.apply(lambda x: int(x))\n",
    "    return project_df\n",
    "\n",
    "df_projects = get_active_project_links(GITHUB_TOKEN, PROJECT_URL)\n",
    "df_projects.head()"
   ]
  },
  {
   "cell_type": "markdown",
   "id": "86bdc9f3-8bd1-412c-b3ba-224007673236",
   "metadata": {},
   "source": [
    "### Get comments from issues"
   ]
  },
  {
   "cell_type": "code",
   "execution_count": null,
   "id": "67a7fa32-a663-4c79-ad40-f8cdbb751d01",
   "metadata": {
    "tags": []
   },
   "outputs": [],
   "source": [
    "def get_comments_from_issues(url):\n",
    "    headers={\"Authorization\":f'token {token}'}\n",
    "    issue_comments=[]\n",
    "    comments = requests.get(url, headers=headers)\n",
    "    try:\n",
    "        comments.raise_for_status()\n",
    "    except requests.HTTPError as e:\n",
    "        raise(e)\n",
    "    if len(comments.json())==0:\n",
    "        return 'No comments'\n",
    "    else:\n",
    "        for comment in comments.json():\n",
    "            issue_comments.append(comment['body'])\n",
    "        return issue_comments"
   ]
  },
  {
   "cell_type": "markdown",
   "id": "e5036c27-a5e2-4abf-982e-83ccb2fbf2ae",
   "metadata": {},
   "source": [
    "### Get details regarding issues from projects"
   ]
  },
  {
   "cell_type": "code",
   "execution_count": null,
   "id": "08bc080e-78b8-4102-93ff-8649f2886b10",
   "metadata": {
    "tags": []
   },
   "outputs": [],
   "source": [
    "def get_issues_from_projects(token, project_url):\n",
    "    df_projects = get_active_project_links(token, project_url)\n",
    "    df_issues = pd.DataFrame(columns=['issue_status', 'issue_state'])\n",
    "    headers={\"Authorization\":f'token {token}'}\n",
    "    \n",
    "    ## Gets info from columns present in our roadmap ##\n",
    "    for _, project in df_projects.iterrows():\n",
    "        \n",
    "        columns = requests.get(project['project_columns_url'], headers=headers).json()\n",
    "        issue_status, issue_urls=[],[]\n",
    "        for column in columns:\n",
    "            page=1\n",
    "            while True:\n",
    "                params = {\n",
    "                    'per_page':100,\n",
    "                    'page':page\n",
    "                }\n",
    "                card_url = column['cards_url']+ f\"?{urlencode(params, safe='(),')}\"\n",
    "                issues = requests.get(card_url, headers=headers)\n",
    "                try:\n",
    "                    issues.raise_for_status()\n",
    "                except requests.HTTPError as e:\n",
    "                    raise(e)\n",
    "                if len(issues.json()) == 0:\n",
    "                    break\n",
    "                for issue in issues.json():\n",
    "                    if issue.get('content_url')!=None:                        \n",
    "                        issue_urls.append(issue.get('content_url'))\n",
    "                        issue_status.append(column['name'])\n",
    "                page+=1\n",
    "                \n",
    "        df_issues['issue_status'] = issue_status\n",
    "        \n",
    "        for idx, url in enumerate(issue_urls):\n",
    "            issue = requests.get(url, headers=headers)\n",
    "            try:\n",
    "                issue.raise_for_status()\n",
    "            except requests.HTTPError as e:\n",
    "                raise(e)\n",
    "            issue = issue.json()\n",
    "            ###### information to be extracted are below #####\n",
    "            df_issues.loc[idx, 'link_to_the_issue'], df_issues.loc[idx, 'issue_number'] = issue['html_url'], issue['number']\n",
    "            df_issues.loc[idx, 'issue_title'], df_issues.loc[idx, 'issue_state'] = issue['title'], issue['state']\n",
    "\n",
    "            labels= []\n",
    "            for label in issue['labels']:\n",
    "                labels.append(label.get('name'))\n",
    "            df_issues.loc[idx, 'issue_labels'] = \", \".join(labels)\n",
    "\n",
    "            assigned=[]\n",
    "            for assignee in issue['assignees']:\n",
    "                assigned.append(assignee.get('login'))\n",
    "            if assigned==[]:\n",
    "                df_issues.loc[idx, 'issue_assignees'] = 'None'\n",
    "            else:\n",
    "                df_issues.loc[idx, 'issue_assignees'] = \", \".join(assigned)\n",
    "\n",
    "            df_issues.loc[idx, 'comments_till_date'] = issue['comments']\n",
    "\n",
    "            df_issues.loc[idx, 'last_created_date'] = issue.get('created_at').strip('Z').split('T')[0]\n",
    "            df_issues.loc[idx, 'last_created_time'] = issue.get('created_at').strip('Z').split('T')[-1]\n",
    "            df_issues.loc[idx, 'last_updated_date'] = issue.get('updated_at').strip('Z').split('T')[0]\n",
    "            df_issues.loc[idx, 'last_updated_time'] = issue.get('updated_at').strip('Z').split('T')[-1]\n",
    "\n",
    "            if df_issues.loc[idx, 'issue_status']!='Backlog':\n",
    "                date_format = \"%Y-%m-%d\"\n",
    "                delta = datetime.now() - datetime.strptime(df_issues.loc[idx, 'last_updated_date'], date_format)\n",
    "                df_issues.loc[idx, 'stale_issue'] = f'No activity since {delta.days} days'\n",
    "            else:\n",
    "                df_issues.loc[idx, 'stale_issue'] = 'None'\n",
    "            \n",
    "            df_issues.loc[idx, 'comments'] = str(get_comments_from_issues(issue['comments_url']))\n",
    "            ##################################################\n",
    "        \n",
    "        df_issues['project_id'] = [df_projects.project_id.values[0]]*df_issues.shape[0]\n",
    "        df_issues['project_name'] = [df_projects.project_name.values[0]]*df_issues.shape[0]\n",
    "        df_issues['issue_number'] = df_issues['issue_number'].apply(lambda x: int(x))\n",
    "        df_issues['comments_till_date'] = df_issues['comments_till_date'].apply(lambda x: int(x))\n",
    "        \n",
    "    return df_issues\n",
    "\n",
    "df_issues = get_issues_from_projects(GITHUB_TOKEN, PROJECT_URL)"
   ]
  },
  {
   "cell_type": "code",
   "execution_count": null,
   "id": "7fe5eb2d-ffd8-4512-a507-0f2f8fc05344",
   "metadata": {
    "tags": []
   },
   "outputs": [],
   "source": [
    "df_issues.tail(15)"
   ]
  },
  {
   "cell_type": "markdown",
   "id": "283068ba-78b3-4b9b-a5f6-ce60a8d304ff",
   "metadata": {},
   "source": [
    "## Output"
   ]
  },
  {
   "cell_type": "markdown",
   "id": "dd8ebaf3-608f-449c-aff0-faae05f5e232",
   "metadata": {},
   "source": [
    "### Save data in csv"
   ]
  },
  {
   "cell_type": "code",
   "execution_count": null,
   "id": "ff8ec4a8-67ae-40d9-b926-d405a217d7b7",
   "metadata": {},
   "outputs": [],
   "source": [
    "df_issues.to_csv(\"GITHUB_Issues.csv\", index=False)"
   ]
  },
  {
   "cell_type": "markdown",
   "id": "14c5ca12-e9f9-40f3-923c-8bba5ee6a4a1",
   "metadata": {},
   "source": [
    "### Plotting a bar graph for issues"
   ]
  },
  {
   "cell_type": "code",
   "execution_count": null,
   "id": "42710764-bf47-47de-8638-71665f2d64a0",
   "metadata": {
    "tags": []
   },
   "outputs": [],
   "source": [
    "def create_barchart(df, project_url):\n",
    "    df_issues['count']=1\n",
    "    df_issues.groupby('issue_status')['count'].sum().reset_index()\n",
    "    # Create fig\n",
    "    fig = px.bar(df,\n",
    "           title=f\"Github Project - {project_url.split('/')[-2]} : {df_issues['project_name'].unique()[0]} <br><span style='font-size: 13px;'>Total issues: {df_issues.groupby('issue_status')['count'].sum().sum()}</span>\",\n",
    "           x=\"issue_status\",\n",
    "           y=\"count\",\n",
    "           labels={\n",
    "               'issue_status':'Issue status',\n",
    "               'count':\"Number of Issues\"\n",
    "          })\n",
    "    fig.update_traces(marker_color='black')\n",
    "    fig.update_layout(\n",
    "        plot_bgcolor=\"#ffffff\",\n",
    "        width=1000,\n",
    "        height=800,\n",
    "        font=dict(family=\"Arial\", size=14, color=\"black\"),\n",
    "        paper_bgcolor=\"white\",\n",
    "        margin_pad=10,\n",
    "    )\n",
    "    fig.show()\n",
    "    return fig\n",
    "\n",
    "fig = create_barchart(df_issues, project_url)"
   ]
  }
 ],
 "metadata": {
  "kernelspec": {
   "display_name": "Python 3",
   "language": "python",
   "name": "python3"
  },
  "language_info": {
   "codemirror_mode": {
    "name": "ipython",
    "version": 3
   },
   "file_extension": ".py",
   "mimetype": "text/x-python",
   "name": "python",
   "nbconvert_exporter": "python",
   "pygments_lexer": "ipython3",
   "version": "3.8.8"
  }
 },
 "nbformat": 4,
 "nbformat_minor": 5
}
