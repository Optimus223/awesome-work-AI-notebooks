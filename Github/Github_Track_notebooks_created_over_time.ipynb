{
 "cells": [
  {
   "cell_type": "markdown",
   "id": "da3d8a29-e10c-4c8d-a012-5f1114d86fad",
   "metadata": {},
   "source": [
    "# Github - Track of awesome notebooks created over time\n",
    "\n",
    "This notebook enables us to keep track of the number of notebooks that evolved over the time\n",
    "\n",
    "Tags: #github #awesome-notebooks"
   ]
  },
  {
   "cell_type": "markdown",
   "id": "ef49c8ec-8f57-4ec1-b681-c8f763b4d946",
   "metadata": {},
   "source": [
    "## Input"
   ]
  },
  {
   "cell_type": "code",
   "execution_count": 1,
   "id": "b5a034dd-2a9d-4fdd-b1f6-7a2b58fd3cdd",
   "metadata": {
    "execution": {
     "iopub.execute_input": "2022-01-22T17:33:29.780463Z",
     "iopub.status.busy": "2022-01-22T17:33:29.780014Z",
     "iopub.status.idle": "2022-01-22T17:33:30.192735Z",
     "shell.execute_reply": "2022-01-22T17:33:30.192171Z",
     "shell.execute_reply.started": "2022-01-22T17:33:29.780387Z"
    },
    "tags": []
   },
   "outputs": [],
   "source": [
    "import pandas as pd\n",
    "import requests\n",
    "import os"
   ]
  },
  {
   "cell_type": "markdown",
   "id": "98ad0485-44eb-428d-bfe3-45391fe1d371",
   "metadata": {},
   "source": [
    "## Setup Github\n",
    "**How to find your personal access token on Github?**\n",
    "\n",
    "- First we need to create a personal access token to get the details of our organization from here: https://github.com/settings/tokens\n",
    "- You will be asked to select scopes for the token. Which scopes you choose will determine what information and actions you will be able to perform against the API.\n",
    "- You should be careful with the ones prefixed with write:, delete: and admin: as these might be quite destructive.\n",
    "- You can find description of each scope in docs here (https://docs.github.com/en/developers/apps/building-oauth-apps/scopes-for-oauth-apps)."
   ]
  },
  {
   "cell_type": "code",
   "execution_count": 2,
   "id": "b4bd695e-f7bd-4cde-85a2-050e98bae3b6",
   "metadata": {
    "execution": {
     "iopub.execute_input": "2022-01-22T17:33:32.245483Z",
     "iopub.status.busy": "2022-01-22T17:33:32.245255Z",
     "iopub.status.idle": "2022-01-22T17:33:32.248257Z",
     "shell.execute_reply": "2022-01-22T17:33:32.247609Z",
     "shell.execute_reply.started": "2022-01-22T17:33:32.245460Z"
    },
    "tags": []
   },
   "outputs": [],
   "source": [
    "REPO_URL = \"https://api.github.com/repos/jupyter-naas/awesome-notebooks\"\n",
    "GITHUB_TOKEN = \"ghp_vJR4WUSZTQoTWI8s2p7KperQH**********\""
   ]
  },
  {
   "cell_type": "markdown",
   "id": "7d64d497-7281-407a-b216-c58137dfc469",
   "metadata": {},
   "source": [
    "## Model"
   ]
  },
  {
   "cell_type": "markdown",
   "id": "1ffc5c72-36ea-4fcb-85f2-6cbbcb3960a7",
   "metadata": {},
   "source": [
    "### Connect to Github"
   ]
  },
  {
   "cell_type": "code",
   "execution_count": 3,
   "id": "cd14e125-ce5f-4cdd-a014-077d682bb1b2",
   "metadata": {
    "execution": {
     "iopub.execute_input": "2022-01-22T17:33:35.215272Z",
     "iopub.status.busy": "2022-01-22T17:33:35.215048Z",
     "iopub.status.idle": "2022-01-22T17:33:35.218581Z",
     "shell.execute_reply": "2022-01-22T17:33:35.217920Z",
     "shell.execute_reply.started": "2022-01-22T17:33:35.215249Z"
    },
    "tags": []
   },
   "outputs": [],
   "source": [
    "token = os.getenv(\"Github_token\",GITHUB_TOKEN)\n",
    "\n",
    "query_url = REPO_URL + '/git/trees/master?recursive=1'\n",
    "params = {\n",
    "    \"state\": \"open\",\n",
    "}\n",
    "headers = {'Authorization': f'token {token}'}"
   ]
  },
  {
   "cell_type": "markdown",
   "id": "7abf49a0-a5f8-43d1-af1f-be26f39fa952",
   "metadata": {
    "execution": {
     "iopub.execute_input": "2022-01-22T13:48:53.656270Z",
     "iopub.status.busy": "2022-01-22T13:48:53.656043Z",
     "iopub.status.idle": "2022-01-22T13:48:53.658818Z",
     "shell.execute_reply": "2022-01-22T13:48:53.658211Z",
     "shell.execute_reply.started": "2022-01-22T13:48:53.656247Z"
    },
    "tags": []
   },
   "source": [
    "### Understanding what is blob and a tree \n",
    "- A blob is just a bunch of bytes that could be anything, like a text file, image, actual source code etc.\n",
    "- A tree is like a directory, it points to: blob objects (how a directory points to other files) other trees (how a directory can have subdirectories)\n",
    "\n",
    "So we will be considering only blobs as of now for creating a tracker of all notebooks"
   ]
  },
  {
   "cell_type": "code",
   "execution_count": 15,
   "id": "b15d3ef1-d810-4e4b-84a4-da8fb2b9ea4b",
   "metadata": {
    "execution": {
     "iopub.execute_input": "2022-01-22T18:00:05.523348Z",
     "iopub.status.busy": "2022-01-22T18:00:05.523116Z",
     "iopub.status.idle": "2022-01-22T18:00:05.780833Z",
     "shell.execute_reply": "2022-01-22T18:00:05.780152Z",
     "shell.execute_reply.started": "2022-01-22T18:00:05.523326Z"
    },
    "tags": []
   },
   "outputs": [
    {
     "data": {
      "text/plain": [
       "['AWS/AWS_Daily_biling_notification_to_slack.ipynb',\n",
       " 'AWS/AWS_Get_files_from_S3_bucket.ipynb']"
      ]
     },
     "execution_count": 15,
     "metadata": {},
     "output_type": "execute_result"
    }
   ],
   "source": [
    "############ Getting the notebook file names ############\n",
    "file_names=[]\n",
    "for query in requests.get(query_url, params=params, headers=headers).json()['tree']:\n",
    "    if '.ipynb' in query['path'] and query['type']=='blob':\n",
    "        file_names.append(query['path'])\n",
    "\n",
    "### Sample names ###\n",
    "file_names[0:2]"
   ]
  },
  {
   "cell_type": "code",
   "execution_count": 35,
   "id": "fa12e812-b54e-47d8-872f-d57da3e6c707",
   "metadata": {
    "execution": {
     "iopub.execute_input": "2022-01-22T18:44:24.582359Z",
     "iopub.status.busy": "2022-01-22T18:44:24.582135Z",
     "iopub.status.idle": "2022-01-22T18:47:44.924304Z",
     "shell.execute_reply": "2022-01-22T18:47:44.923664Z",
     "shell.execute_reply.started": "2022-01-22T18:44:24.582336Z"
    },
    "tags": []
   },
   "outputs": [],
   "source": [
    "\n",
    "print('This cell could take some time to complete its exectuion. Please be patient till the end!!')\n",
    "page, dates, all_files=0, [],[]\n",
    "while True:\n",
    "    page+=1\n",
    "    query_url2 = REPO_URL + f'/commits?page={page}'\n",
    "    m = requests.get(query_url2, params=params, headers=headers).json()\n",
    "    if m!=[]:\n",
    "        for commit_details in m:\n",
    "            dates.append(commit_details['commit']['author']['date'])\n",
    "            files=[]\n",
    "            for file in requests.get(commit_details['url'], params=params, headers=headers).json()['files']:\n",
    "                if file['filename'] in file_names:\n",
    "                    files.append(file['filename'])\n",
    "            ### Storing all the files that were committed on that date ###\n",
    "            all_files.append(files)\n",
    "    else:\n",
    "        break\n",
    "\n",
    "timestamps=[value.split('T')[-1] for value in dates]\n",
    "dates = [value.split('T')[0] for value in dates]\n",
    "\n",
    "print('\\nProcess completed!')"
   ]
  },
  {
   "cell_type": "code",
   "execution_count": 80,
   "id": "635831a6-9bfc-46d3-a459-76c2afbf05ff",
   "metadata": {
    "execution": {
     "iopub.execute_input": "2022-01-22T19:49:47.152798Z",
     "iopub.status.busy": "2022-01-22T19:49:47.152573Z",
     "iopub.status.idle": "2022-01-22T19:49:47.156148Z",
     "shell.execute_reply": "2022-01-22T19:49:47.155459Z",
     "shell.execute_reply.started": "2022-01-22T19:49:47.152776Z"
    }
   },
   "outputs": [],
   "source": [
    "### Code for maintaining the number of notebooks ###\n",
    "total_files=[]\n",
    "for files in all_files:\n",
    "    total_files.append(len(files))"
   ]
  },
  {
   "cell_type": "markdown",
   "id": "f5e927dd-27ad-4caf-a2f0-f59e5d912557",
   "metadata": {
    "execution": {
     "iopub.execute_input": "2022-01-22T19:14:18.857898Z",
     "iopub.status.busy": "2022-01-22T19:14:18.857671Z",
     "iopub.status.idle": "2022-01-22T19:14:18.861398Z",
     "shell.execute_reply": "2022-01-22T19:14:18.860809Z",
     "shell.execute_reply.started": "2022-01-22T19:14:18.857875Z"
    },
    "tags": []
   },
   "source": [
    "## Output"
   ]
  },
  {
   "cell_type": "code",
   "execution_count": 82,
   "id": "f749a9b3-bc16-4806-a7df-12ec41379ab9",
   "metadata": {
    "execution": {
     "iopub.execute_input": "2022-01-22T19:50:02.335001Z",
     "iopub.status.busy": "2022-01-22T19:50:02.334769Z",
     "iopub.status.idle": "2022-01-22T19:50:02.534777Z",
     "shell.execute_reply": "2022-01-22T19:50:02.534116Z",
     "shell.execute_reply.started": "2022-01-22T19:50:02.334977Z"
    },
    "tags": []
   },
   "outputs": [
    {
     "data": {
      "text/plain": [
       "<AxesSubplot:xlabel='date committed', ylabel='No. of notebooks added/refined'>"
      ]
     },
     "execution_count": 82,
     "metadata": {},
     "output_type": "execute_result"
    },
    {
     "data": {
      "image/png": "[encoded data removed]",
      "text/plain": [
       "<Figure size 1584x360 with 1 Axes>"
      ]
     },
     "metadata": {
      "needs_background": "light"
     },
     "output_type": "display_data"
    }
   ],
   "source": [
    "data = pd.DataFrame()\n",
    "data['date'], data['number_of_notebooks'] = dates, total_files\n",
    "data.groupby('date').sum().plot(xlabel='date committed', ylabel='No. of notebooks added/refined', figsize=(22,5))"
   ]
  }
 ],
 "metadata": {
  "kernelspec": {
   "display_name": "Python 3",
   "language": "python",
   "name": "python3"
  },
  "language_info": {
   "codemirror_mode": {
    "name": "ipython",
    "version": 3
   },
   "file_extension": ".py",
   "mimetype": "text/x-python",
   "name": "python",
   "nbconvert_exporter": "python",
   "pygments_lexer": "ipython3",
   "version": "3.8.8"
  }
 },
 "nbformat": 4,
 "nbformat_minor": 5
}
