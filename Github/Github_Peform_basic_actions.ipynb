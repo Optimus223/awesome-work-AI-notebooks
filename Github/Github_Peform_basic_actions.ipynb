{
 "cells": [
  {
   "cell_type": "markdown",
   "id": "aboriginal-overall",
   "metadata": {
    "papermill": {},
    "tags": []
   },
   "source": [
    "# Github - Peform basic actions\n",
    "<a href=\"https://app.naas.ai/user-redirect/naas/downloader?url=https://raw.githubusercontent.com/jupyter-naas/awesome-notebooks/master/Github/Github_Peform_basic_actions.ipynb\" target=\"_parent\"><img src=\"https://img.shields.io/badge/-Open%20in%20Naas-success?labelColor=000000&logo=data:image/svg+xml;base64,PD94bWwgdmVyc2lvbj0iMS4wIiBlbmNvZGluZz0iVVRGLTgiPz4KPHN2ZyB3aWR0aD0iMTAyNHB4IiBoZWlnaHQ9IjEwMjRweCIgdmlld0JveD0iMCAwIDEwMjQgMTAyNCIgeG1sbnM9Imh0dHA6Ly93d3cudzMub3JnLzIwMDAvc3ZnIiB4bWxuczp4bGluaz0iaHR0cDovL3d3dy53My5vcmcvMTk5OS94bGluayIgdmVyc2lvbj0iMS4xIj4KIDwhLS0gR2VuZXJhdGVkIGJ5IFBpeGVsbWF0b3IgUHJvIDIuMC41IC0tPgogPGRlZnM+CiAgPHRleHQgaWQ9InN0cmluZyIgdHJhbnNmb3JtPSJtYXRyaXgoMS4wIDAuMCAwLjAgMS4wIDIyOC4wIDU0LjUpIiBmb250LWZhbWlseT0iQ29tZm9ydGFhLVJlZ3VsYXIsIENvbWZvcnRhYSIgZm9udC1zaXplPSI4MDAiIHRleHQtZGVjb3JhdGlvbj0ibm9uZSIgZmlsbD0iI2ZmZmZmZiIgeD0iMS4xOTk5OTk5OTk5OTk5ODg2IiB5PSI3MDUuMCI+bjwvdGV4dD4KIDwvZGVmcz4KIDx1c2UgaWQ9Im4iIHhsaW5rOmhyZWY9IiNzdHJpbmciLz4KPC9zdmc+Cg==\"/></a>"
   ]
  },
  {
   "cell_type": "markdown",
   "id": "tags_cell",
   "metadata": {
    "papermill": {},
    "tags": []
   },
   "source": [
    "**Tags:** #github #productivity #code"
   ]
  },
  {
   "cell_type": "markdown",
   "id": "input_cell",
   "metadata": {
    "papermill": {},
    "tags": []
   },
   "source": [
    "## Input"
   ]
  },
  {
   "cell_type": "markdown",
   "id": "e8a434a9-af18-441f-9e21-3e82b0e8100a",
   "metadata": {
    "papermill": {},
    "tags": []
   },
   "source": [
    "### Import library"
   ]
  },
  {
   "cell_type": "code",
   "execution_count": null,
   "id": "c749d1b6-732a-4003-adad-2712d23bfcf1",
   "metadata": {
    "papermill": {},
    "tags": []
   },
   "outputs": [],
   "source": [
    "from git_lib import Git"
   ]
  },
  {
   "cell_type": "markdown",
   "id": "model_cell",
   "metadata": {
    "papermill": {},
    "tags": []
   },
   "source": [
    "## Model"
   ]
  },
  {
   "cell_type": "markdown",
   "id": "indirect-closing",
   "metadata": {
    "papermill": {},
    "tags": []
   },
   "source": [
    "### Configuration attribute description\n",
    "- username : Git username\n",
    "- password : Git password\n",
    "- github_url : Git url to clone\n",
    "- branch : Branch name on which perform action\n",
    "- target_folder : Folder name of which clone,commit,push,pull,checkout has to be performed\n",
    "- action : Action you wish to perform **(clone,commit,push,pull,checkout)**\n",
    "- commit_message : Any message you wish to pass while commit"
   ]
  },
  {
   "cell_type": "markdown",
   "id": "psychological-technical",
   "metadata": {
    "papermill": {},
    "tags": []
   },
   "source": [
    "### Git configuration"
   ]
  },
  {
   "cell_type": "code",
   "execution_count": 7,
   "id": "directed-employee",
   "metadata": {
    "papermill": {},
    "tags": []
   },
   "outputs": [],
   "source": [
    "config = {\n",
    "            'username':'< Your github username >',\n",
    "            'password':'< Your github password >',\n",
    "            'github_url':'< Github url >',\n",
    "            'branch':'< Github branch name >',\n",
    "            'target_folder':'< Folder name >',\n",
    "            'action':'< Github action >',\n",
    "            'commit_message':'< Your message for commit >'\n",
    "         }"
   ]
  },
  {
   "cell_type": "markdown",
   "id": "output_cell",
   "metadata": {
    "papermill": {},
    "tags": []
   },
   "source": [
    "## Output"
   ]
  },
  {
   "cell_type": "markdown",
   "id": "unlike-province",
   "metadata": {
    "papermill": {},
    "tags": []
   },
   "source": [
    "### Execute Github connector"
   ]
  },
  {
   "cell_type": "code",
   "execution_count": 8,
   "id": "native-collectible",
   "metadata": {
    "papermill": {},
    "tags": []
   },
   "outputs": [],
   "source": [
    "git_instance = Git(config)"
   ]
  }
 ],
 "metadata": {
  "kernelspec": {
   "display_name": "Python 3",
   "language": "python",
   "name": "python3"
  },
  "language_info": {
   "codemirror_mode": {
    "name": "ipython",
    "version": 3
   },
   "file_extension": ".py",
   "mimetype": "text/x-python",
   "name": "python",
   "nbconvert_exporter": "python",
   "pygments_lexer": "ipython3",
   "version": "3.8.8"
  },
  "papermill": {
   "default_parameters": {},
   "environment_variables": {},
   "parameters": {},
   "version": "2.3.3"
  }
 },
 "nbformat": 4,
 "nbformat_minor": 5
}