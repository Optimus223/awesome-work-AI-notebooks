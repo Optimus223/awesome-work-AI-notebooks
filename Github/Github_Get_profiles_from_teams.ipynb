{
 "cells": [
  {
   "cell_type": "markdown",
   "id": "134abbdf-6bc6-44d7-a320-6d6add8c527c",
   "metadata": {},
   "source": [
    "<img width=\"10%\" alt=\"Naas\" src=\"https://landen.imgix.net/jtci2pxwjczr/assets/5ice39g4.png?w=160\"/>"
   ]
  },
  {
   "cell_type": "markdown",
   "id": "4cb5fcb7-4390-4e38-825f-59a318d11b7b",
   "metadata": {},
   "source": [
    "# Github - Get profiles from teams\n",
    "<a href=\"https://app.naas.ai/user-redirect/naas/downloader?url=https://raw.githubusercontent.com/jupyter-naas/awesome-notebooks/master/Github/Github_Create_issue.ipynb\" target=\"_parent\"><img src=\"https://img.shields.io/badge/-Open%20in%20Naas-success?labelColor=000000&logo=data:image/svg+xml;base64,PD94bWwgdmVyc2lvbj0iMS4wIiBlbmNvZGluZz0iVVRGLTgiPz4KPHN2ZyB3aWR0aD0iMTAyNHB4IiBoZWlnaHQ9IjEwMjRweCIgdmlld0JveD0iMCAwIDEwMjQgMTAyNCIgeG1sbnM9Imh0dHA6Ly93d3cudzMub3JnLzIwMDAvc3ZnIiB4bWxuczp4bGluaz0iaHR0cDovL3d3dy53My5vcmcvMTk5OS94bGluayIgdmVyc2lvbj0iMS4xIj4KIDwhLS0gR2VuZXJhdGVkIGJ5IFBpeGVsbWF0b3IgUHJvIDIuMC41IC0tPgogPGRlZnM+CiAgPHRleHQgaWQ9InN0cmluZyIgdHJhbnNmb3JtPSJtYXRyaXgoMS4wIDAuMCAwLjAgMS4wIDIyOC4wIDU0LjUpIiBmb250LWZhbWlseT0iQ29tZm9ydGFhLVJlZ3VsYXIsIENvbWZvcnRhYSIgZm9udC1zaXplPSI4MDAiIHRleHQtZGVjb3JhdGlvbj0ibm9uZSIgZmlsbD0iI2ZmZmZmZiIgeD0iMS4xOTk5OTk5OTk5OTk5ODg2IiB5PSI3MDUuMCI+bjwvdGV4dD4KIDwvZGVmcz4KIDx1c2UgaWQ9Im4iIHhsaW5rOmhyZWY9IiNzdHJpbmciLz4KPC9zdmc+Cg==\"/></a>"
   ]
  },
  {
   "cell_type": "markdown",
   "id": "126fe329-cf08-4cfd-b9d1-26e5cb544f38",
   "metadata": {},
   "source": [
    "This notebook enables you to get a dataframe of all the team members in a Github organization."
   ]
  },
  {
   "cell_type": "markdown",
   "id": "30c49f0d-b304-45f8-bcc5-5a8311b3f404",
   "metadata": {
    "papermill": {},
    "tags": []
   },
   "source": [
    "**Tags:** #github #team"
   ]
  },
  {
   "cell_type": "markdown",
   "id": "9a776aae-914a-4133-a39d-a02ab6b88b49",
   "metadata": {},
   "source": [
    "## Input"
   ]
  },
  {
   "cell_type": "markdown",
   "id": "5c058b65-7577-44a4-aa3c-c0570cb9f806",
   "metadata": {},
   "source": [
    "### Import libraries"
   ]
  },
  {
   "cell_type": "code",
   "execution_count": null,
   "id": "6675fff8-1cf3-4849-b108-3cb1f8e12e99",
   "metadata": {
    "tags": []
   },
   "outputs": [],
   "source": [
    "import pandas as pd\n",
    "import requests\n",
    "import naas"
   ]
  },
  {
   "cell_type": "markdown",
   "id": "2914fd03-fd37-4e64-a667-4143cf94920d",
   "metadata": {
    "papermill": {},
    "tags": []
   },
   "source": [
    "### Setup Github"
   ]
  },
  {
   "cell_type": "markdown",
   "id": "00a7d47e-241c-4570-8ea7-ea52e8e56073",
   "metadata": {
    "papermill": {},
    "tags": []
   },
   "source": [
    "**How to find your personal access token on Github?** \n",
    "- First we need to create a personal access token to get the details of our organization from here: https://github.com/settings/tokens\n",
    "- You will be asked to select scopes for the token. Which scopes you choose will determine what information and actions you will be able to perform against the API. \n",
    "- You should be careful with the ones prefixed with write:, delete: and admin: as these might be quite destructive. \n",
    "- You can find description of each scope in docs here (https://docs.github.com/en/developers/apps/building-oauth-apps/scopes-for-oauth-apps).\n"
   ]
  },
  {
   "cell_type": "code",
   "execution_count": null,
   "id": "461c6e09-8d30-411e-9a14-057e23825401",
   "metadata": {
    "tags": []
   },
   "outputs": [],
   "source": [
    "TEAM_URL = \"https://api.github.com/orgs/jupyter-naas/teams\"\n",
    "github_token = naas.secret.get(\"github_token\")"
   ]
  },
  {
   "cell_type": "markdown",
   "id": "b0813a9b-6f79-4e1d-a3ac-27517ee3014c",
   "metadata": {},
   "source": [
    "## Model"
   ]
  },
  {
   "cell_type": "code",
   "execution_count": null,
   "id": "392d9591-c67e-4a84-9c73-85464536fd47",
   "metadata": {},
   "outputs": [],
   "source": [
    "query_url = TEAM_URL\n",
    "params = {\n",
    "    \"state\": \"open\",\n",
    "}\n",
    "headers = {'Authorization': f'token {github_token}'}"
   ]
  },
  {
   "cell_type": "code",
   "execution_count": null,
   "id": "f7deb4e8-413f-469e-98bb-2a452d5ae223",
   "metadata": {
    "tags": []
   },
   "outputs": [],
   "source": [
    "main_data = requests.get(query_url, headers=headers, params=params).json()\n",
    "members_details, GITHUB = [],'jupyter-naas'\n",
    "for team_info in main_data:\n",
    "    members_details.append((team_info['name'], team_info['slug'], team_info['description'], team_info['members_url'].strip(\"{/member}\")))"
   ]
  },
  {
   "cell_type": "code",
   "execution_count": null,
   "id": "c00c2cc7-4ed0-449c-809d-60d29d8377dd",
   "metadata": {
    "tags": []
   },
   "outputs": [],
   "source": [
    "def retrieve_members(team, slug, description, page_link, page_number=1):\n",
    "    try:\n",
    "        members = requests.get(page_link, headers=headers, params=params).json()\n",
    "    except:\n",
    "        return teams, slugs, descriptions, member_profiles\n",
    "    \n",
    "    for member in members:\n",
    "        member_profiles.append(member['url'])\n",
    "        teams.append(team)\n",
    "        slugs.append(slug)\n",
    "        descriptions.append(description)\n",
    "    \n",
    "    if len(members)==30:  ## default members per page shown are 30 ##\n",
    "        page_number+=1\n",
    "        if page_number==2:\n",
    "            page_link+= f'?page={page_number}'\n",
    "        else:\n",
    "            index = page_link.find('?page=')\n",
    "            page_link = page_link[:index+6] + str(page_number)\n",
    "        return retrieve_members(team, slug, description, page_link, page_number)\n",
    "    else:\n",
    "        return teams, slugs, descriptions, member_profiles\n",
    "\n",
    "member_profiles, teams, slugs, descriptions, page_number=[],[],[],[],1\n",
    "\n",
    "for info in members_details:\n",
    "    teams, slugs, descriptions, member_profiles = retrieve_members(info[0], info[1], info[2], info[3], page_number)\n",
    "\n",
    "    \n",
    "data = pd.DataFrame(columns=['TEAM', 'SLUG','TEAM_DESCRIPTION', 'member_profile'])\n",
    "data['TEAM'], data['SLUG'], data['TEAM_DESCRIPTION'], data['member_profile'] = teams, slugs, descriptions, member_profiles\n",
    "data['GITHUB'] = 'jupyter-naas'\n",
    "\n",
    "print(data.shape)"
   ]
  },
  {
   "cell_type": "code",
   "execution_count": null,
   "id": "79940745-3a5f-46a7-ae91-d7d311c59f38",
   "metadata": {
    "tags": []
   },
   "outputs": [],
   "source": [
    "for idx, profile in enumerate(data['member_profile']):\n",
    "    details = requests.get(profile, headers=headers, params= params).json()\n",
    "    data.loc[idx,'NAME'], data.loc[idx,'EMAIL'], data.loc[idx,'LOCATION'] = details['name'], details['email'], details['location']\n",
    "    data.loc[idx,'ORGANIZATION'], data.loc[idx,'BIO'], data.loc[idx,'LOGIN_NAME'] = details['company'], details['bio'], details['login']\n",
    "    data.loc[idx,'TWITTER'], data.loc[idx,'CREATED_AT'], data.loc[idx,'UPDATED_AT'] = details['twitter_username'], details['created_at'], details['updated_at']"
   ]
  },
  {
   "cell_type": "markdown",
   "id": "526599d6-7548-4ed6-b28c-002958ed0e98",
   "metadata": {},
   "source": [
    "## Output"
   ]
  },
  {
   "cell_type": "code",
   "execution_count": null,
   "id": "3186bb57-9e7f-4a86-bd4d-4314ffbf3270",
   "metadata": {
    "tags": []
   },
   "outputs": [],
   "source": [
    "print(f'Dataset size -> {data.shape}')\n",
    "data"
   ]
  }
 ],
 "metadata": {
  "kernelspec": {
   "display_name": "Python 3",
   "language": "python",
   "name": "python3"
  },
  "language_info": {
   "codemirror_mode": {
    "name": "ipython",
    "version": 3
   },
   "file_extension": ".py",
   "mimetype": "text/x-python",
   "name": "python",
   "nbconvert_exporter": "python",
   "pygments_lexer": "ipython3",
   "version": "3.8.8"
  }
 },
 "nbformat": 4,
 "nbformat_minor": 5
}
