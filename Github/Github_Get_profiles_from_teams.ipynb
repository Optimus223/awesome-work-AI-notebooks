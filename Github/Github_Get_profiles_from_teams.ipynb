{
 "cells": [
  {
   "cell_type": "markdown",
   "id": "ea01febe-41f2-418a-939b-b41a9d574fa0",
   "metadata": {
    "papermill": {},
    "tags": []
   },
   "source": [
    "# Github - Get profiles from teams\n",
    "<a href=\"https://app.naas.ai/user-redirect/naas/downloader?url=https://raw.githubusercontent.com/jupyter-naas/awesome-notebooks/master/Github/Github_Get_profiles_from_teams.ipynb\" target=\"_parent\"><img src=\"https://naasai-public.s3.eu-west-3.amazonaws.com/open_in_naas.svg\"/></a>"
   ]
  },
  {
   "cell_type": "markdown",
   "id": "5b695f76-9e18-400b-8c3a-55681c059825",
   "metadata": {
    "papermill": {},
    "tags": []
   },
   "source": [
    "This notebook enables you to get a dataframe of all the team members in a Github organization."
   ]
  },
  {
   "cell_type": "markdown",
   "id": "30c49f0d-b304-45f8-bcc5-5a8311b3f404",
   "metadata": {
    "papermill": {},
    "tags": []
   },
   "source": [
    "**Tags:** #github #team"
   ]
  },
  {
   "cell_type": "markdown",
   "id": "134abbdf-6bc6-44d7-a320-6d6add8c527c",
   "metadata": {
    "papermill": {},
    "tags": []
   },
   "source": [
    "## Input"
   ]
  },
  {
   "cell_type": "code",
   "execution_count": 1,
   "id": "6675fff8-1cf3-4849-b108-3cb1f8e12e99",
   "metadata": {
    "execution": {
     "iopub.execute_input": "2022-01-19T17:15:43.076767Z",
     "iopub.status.busy": "2022-01-19T17:15:43.074450Z",
     "iopub.status.idle": "2022-01-19T17:15:43.434945Z",
     "shell.execute_reply": "2022-01-19T17:15:43.434379Z",
     "shell.execute_reply.started": "2022-01-19T17:15:43.076704Z"
    },
    "papermill": {},
    "tags": []
   },
   "outputs": [],
   "source": [
    "import pandas as pd\n",
    "import requests\n",
    "import os"
   ]
  },
  {
   "cell_type": "markdown",
   "id": "2914fd03-fd37-4e64-a667-4143cf94920d",
   "metadata": {
    "papermill": {},
    "tags": []
   },
   "source": [
    "### Setup Github"
   ]
  },
  {
   "cell_type": "markdown",
   "id": "00a7d47e-241c-4570-8ea7-ea52e8e56073",
   "metadata": {
    "papermill": {},
    "tags": []
   },
   "source": [
    "**How to find your personal access token on Github?** \n",
    "- First we need to create a personal access token to get the details of our organization from here: https://github.com/settings/tokens\n",
    "- You will be asked to select scopes for the token. Which scopes you choose will determine what information and actions you will be able to perform against the API. \n",
    "- You should be careful with the ones prefixed with write:, delete: and admin: as these might be quite destructive. \n",
    "- You can find description of each scope in docs here (https://docs.github.com/en/developers/apps/building-oauth-apps/scopes-for-oauth-apps).\n"
   ]
  },
  {
   "cell_type": "code",
   "execution_count": 10,
   "id": "461c6e09-8d30-411e-9a14-057e23825401",
   "metadata": {
    "execution": {
     "iopub.execute_input": "2022-01-19T17:21:37.509196Z",
     "iopub.status.busy": "2022-01-19T17:21:37.508909Z",
     "iopub.status.idle": "2022-01-19T17:21:37.511832Z",
     "shell.execute_reply": "2022-01-19T17:21:37.511238Z",
     "shell.execute_reply.started": "2022-01-19T17:21:37.509159Z"
    },
    "papermill": {},
    "tags": []
   },
   "outputs": [],
   "source": [
    "TEAM_URL = \"https://api.github.com/orgs/jupyter-naas/teams\"\n",
    "GITHUB_TOKEN = \"ghp_4IUoRrHcZRWZEgmNQendQh6f*********\""
   ]
  },
  {
   "cell_type": "markdown",
   "id": "b0813a9b-6f79-4e1d-a3ac-27517ee3014c",
   "metadata": {
    "papermill": {},
    "tags": []
   },
   "source": [
    "## Model"
   ]
  },
  {
   "cell_type": "markdown",
   "id": "e330383e-0c51-422a-bf8e-0799bf74fe98",
   "metadata": {
    "papermill": {},
    "tags": []
   },
   "source": [
    "### Connect to Github"
   ]
  },
  {
   "cell_type": "code",
   "execution_count": 11,
   "id": "776775e6-63f5-404f-824f-ca5f6bff19b6",
   "metadata": {
    "execution": {
     "iopub.execute_input": "2022-01-19T17:21:39.082031Z",
     "iopub.status.busy": "2022-01-19T17:21:39.081636Z",
     "iopub.status.idle": "2022-01-19T17:21:39.085653Z",
     "shell.execute_reply": "2022-01-19T17:21:39.084946Z",
     "shell.execute_reply.started": "2022-01-19T17:21:39.082004Z"
    },
    "papermill": {},
    "tags": []
   },
   "outputs": [],
   "source": [
    "token = os.getenv(\"Github_token\",GITHUB_TOKEN)\n",
    "\n",
    "query_url = TEAM_URL\n",
    "params = {\n",
    "    \"state\": \"open\",\n",
    "}\n",
    "headers = {'Authorization': f'token {token}'}"
   ]
  },
  {
   "cell_type": "markdown",
   "id": "429532a7-eb44-41fe-9ad2-4c1941fbb675",
   "metadata": {
    "papermill": {},
    "tags": []
   },
   "source": [
    "### Get team info"
   ]
  },
  {
   "cell_type": "code",
   "execution_count": 12,
   "id": "f7deb4e8-413f-469e-98bb-2a452d5ae223",
   "metadata": {
    "execution": {
     "iopub.execute_input": "2022-01-19T17:21:41.569659Z",
     "iopub.status.busy": "2022-01-19T17:21:41.569313Z",
     "iopub.status.idle": "2022-01-19T17:21:41.773066Z",
     "shell.execute_reply": "2022-01-19T17:21:41.772308Z",
     "shell.execute_reply.started": "2022-01-19T17:21:41.569623Z"
    },
    "papermill": {},
    "tags": []
   },
   "outputs": [],
   "source": [
    "main_data = requests.get(query_url, headers=headers, params=params).json()\n",
    "members_details, GITHUB = [],'jupyter-naas'\n",
    "for team_info in main_data:\n",
    "    members_details.append((team_info['name'], team_info['slug'], team_info['description'], team_info['members_url'].strip(\"{/member}\")))"
   ]
  },
  {
   "cell_type": "markdown",
   "id": "4b3fbf65-a52e-4bd0-9193-aff993ed4221",
   "metadata": {
    "papermill": {},
    "tags": []
   },
   "source": [
    "### Retrieve all members from teams"
   ]
  },
  {
   "cell_type": "code",
   "execution_count": 17,
   "id": "c00c2cc7-4ed0-449c-809d-60d29d8377dd",
   "metadata": {
    "execution": {
     "iopub.execute_input": "2022-01-19T17:22:46.942670Z",
     "iopub.status.busy": "2022-01-19T17:22:46.942387Z",
     "iopub.status.idle": "2022-01-19T17:22:48.080073Z",
     "shell.execute_reply": "2022-01-19T17:22:48.079446Z",
     "shell.execute_reply.started": "2022-01-19T17:22:46.942639Z"
    },
    "papermill": {},
    "tags": []
   },
   "outputs": [],
   "source": [
    "def retrieve_members(team, slug, description, page_link, page_number=1):\n",
    "    try:\n",
    "        members = requests.get(page_link, headers=headers, params=params).json()\n",
    "    except:\n",
    "        return teams, slugs, descriptions, member_profiles\n",
    "    \n",
    "    for member in members:\n",
    "        member_profiles.append(member['url'])\n",
    "        teams.append(team)\n",
    "        slugs.append(slug)\n",
    "        descriptions.append(description)\n",
    "    \n",
    "    if len(members)==30:  ## default members per page shown are 30 ##\n",
    "        page_number+=1\n",
    "        if page_number==2:\n",
    "            page_link+= f'?page={page_number}'\n",
    "        else:\n",
    "            index = page_link.find('?page=')\n",
    "            page_link = page_link[:index+6] + str(page_number)\n",
    "        return retrieve_members(team, slug, description, page_link, page_number)\n",
    "    else:\n",
    "        return teams, slugs, descriptions, member_profiles\n",
    "\n",
    "member_profiles, teams, slugs, descriptions, page_number=[],[],[],[],1\n",
    "\n",
    "for info in members_details:\n",
    "    teams, slugs, descriptions, member_profiles = retrieve_members(info[0], info[1], info[2], info[3], page_number)\n",
    "\n",
    "    \n",
    "data = pd.DataFrame(columns=['TEAM', 'SLUG','TEAM_DESCRIPTION', 'member_profile'])\n",
    "data['TEAM'], data['SLUG'], data['TEAM_DESCRIPTION'], data['member_profile'] = teams, slugs, descriptions, member_profiles\n",
    "data['GITHUB'] = 'jupyter-naas'\n",
    "\n",
    "print(data.shape)"
   ]
  },
  {
   "cell_type": "markdown",
   "id": "6d7a2670-3341-48bb-b42a-ac1e0b4a181e",
   "metadata": {
    "papermill": {},
    "tags": []
   },
   "source": [
    "### Enrich members with their profile info"
   ]
  },
  {
   "cell_type": "code",
   "execution_count": 18,
   "id": "79940745-3a5f-46a7-ae91-d7d311c59f38",
   "metadata": {
    "execution": {
     "iopub.execute_input": "2022-01-19T17:22:48.084754Z",
     "iopub.status.busy": "2022-01-19T17:22:48.083165Z",
     "iopub.status.idle": "2022-01-19T17:22:58.730770Z",
     "shell.execute_reply": "2022-01-19T17:22:58.729367Z",
     "shell.execute_reply.started": "2022-01-19T17:22:48.084719Z"
    },
    "papermill": {},
    "tags": []
   },
   "outputs": [],
   "source": [
    "for idx, profile in enumerate(data['member_profile']):\n",
    "    details = requests.get(profile, headers=headers, params= params).json()\n",
    "    data.loc[idx,'NAME'], data.loc[idx,'EMAIL'], data.loc[idx,'LOCATION'] = details['name'], details['email'], details['location']\n",
    "    data.loc[idx,'ORGANIZATION'], data.loc[idx,'BIO'], data.loc[idx,'LOGIN_NAME'] = details['company'], details['bio'], details['login']\n",
    "    data.loc[idx,'TWITTER'], data.loc[idx,'CREATED_AT'], data.loc[idx,'UPDATED_AT'] = details['twitter_username'], details['created_at'], details['updated_at']"
   ]
  },
  {
   "cell_type": "markdown",
   "id": "526599d6-7548-4ed6-b28c-002958ed0e98",
   "metadata": {
    "papermill": {},
    "tags": []
   },
   "source": [
    "## Output"
   ]
  },
  {
   "cell_type": "markdown",
   "id": "810b3fbb-5776-459e-9e72-5e58d81b2056",
   "metadata": {
    "papermill": {},
    "tags": []
   },
   "source": [
    "### Show dataframe"
   ]
  },
  {
   "cell_type": "code",
   "execution_count": 19,
   "id": "3186bb57-9e7f-4a86-bd4d-4314ffbf3270",
   "metadata": {
    "execution": {
     "iopub.execute_input": "2022-01-19T17:22:58.732289Z",
     "iopub.status.busy": "2022-01-19T17:22:58.732057Z",
     "iopub.status.idle": "2022-01-19T17:22:58.778383Z",
     "shell.execute_reply": "2022-01-19T17:22:58.775654Z",
     "shell.execute_reply.started": "2022-01-19T17:22:58.732260Z"
    },
    "papermill": {},
    "tags": []
   },
   "outputs": [],
   "source": [
    "data"
   ]
  }
 ],
 "metadata": {
  "kernelspec": {
   "display_name": "Python 3",
   "language": "python",
   "name": "python3"
  },
  "language_info": {
   "codemirror_mode": {
    "name": "ipython",
    "version": 3
   },
   "file_extension": ".py",
   "mimetype": "text/x-python",
   "name": "python",
   "nbconvert_exporter": "python",
   "pygments_lexer": "ipython3",
   "version": "3.8.8"
  },
  "papermill": {
   "default_parameters": {},
   "environment_variables": {},
   "parameters": {},
   "version": "2.3.3"
  }
 },
 "nbformat": 4,
 "nbformat_minor": 5
}