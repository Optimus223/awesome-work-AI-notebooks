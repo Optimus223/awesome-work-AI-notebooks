{
 "cells": [
  {
   "cell_type": "markdown",
   "id": "martial-visiting",
   "metadata": {
    "papermill": {},
    "tags": []
   },
   "source": [
    "<img width=\"10%\" alt=\"Naas\" src=\"https://landen.imgix.net/jtci2pxwjczr/assets/5ice39g4.png?w=160\"/>"
   ]
  },
  {
   "cell_type": "markdown",
   "id": "sealed-kelly",
   "metadata": {
    "papermill": {},
    "tags": []
   },
   "source": [
    "# Github - Close issue\n",
    "<a href=\"https://app.naas.ai/user-redirect/naas/downloader?url=https://raw.githubusercontent.com/jupyter-naas/awesome-notebooks/master/Github/Github_Close_issue.ipynb\" target=\"_parent\"><img src=\"https://img.shields.io/badge/-Open%20in%20Naas-success?labelColor=000000&logo=data:image/svg+xml;base64,PD94bWwgdmVyc2lvbj0iMS4wIiBlbmNvZGluZz0iVVRGLTgiPz4KPHN2ZyB3aWR0aD0iMTAyNHB4IiBoZWlnaHQ9IjEwMjRweCIgdmlld0JveD0iMCAwIDEwMjQgMTAyNCIgeG1sbnM9Imh0dHA6Ly93d3cudzMub3JnLzIwMDAvc3ZnIiB4bWxuczp4bGluaz0iaHR0cDovL3d3dy53My5vcmcvMTk5OS94bGluayIgdmVyc2lvbj0iMS4xIj4KIDwhLS0gR2VuZXJhdGVkIGJ5IFBpeGVsbWF0b3IgUHJvIDIuMC41IC0tPgogPGRlZnM+CiAgPHRleHQgaWQ9InN0cmluZyIgdHJhbnNmb3JtPSJtYXRyaXgoMS4wIDAuMCAwLjAgMS4wIDIyOC4wIDU0LjUpIiBmb250LWZhbWlseT0iQ29tZm9ydGFhLVJlZ3VsYXIsIENvbWZvcnRhYSIgZm9udC1zaXplPSI4MDAiIHRleHQtZGVjb3JhdGlvbj0ibm9uZSIgZmlsbD0iI2ZmZmZmZiIgeD0iMS4xOTk5OTk5OTk5OTk5ODg2IiB5PSI3MDUuMCI+bjwvdGV4dD4KIDwvZGVmcz4KIDx1c2UgaWQ9Im4iIHhsaW5rOmhyZWY9IiNzdHJpbmciLz4KPC9zdmc+Cg==\"/></a>"
   ]
  },
  {
   "cell_type": "markdown",
   "id": "tags_cell",
   "metadata": {
    "papermill": {},
    "tags": []
   },
   "source": [
    "**Tags:** #github #productivity #code"
   ]
  },
  {
   "cell_type": "markdown",
   "id": "input_cell",
   "metadata": {
    "papermill": {},
    "tags": []
   },
   "source": [
    "## Input"
   ]
  },
  {
   "cell_type": "markdown",
   "id": "58ffabbd-7668-4aee-8ea0-51988dfd6976",
   "metadata": {},
   "source": [
    "### Import library"
   ]
  },
  {
   "cell_type": "code",
   "execution_count": null,
   "id": "0704d604-54d3-4b6b-8b23-01af8b2e2133",
   "metadata": {},
   "outputs": [],
   "source": [
    "from github import Github"
   ]
  },
  {
   "cell_type": "markdown",
   "id": "finnish-malaysia",
   "metadata": {
    "papermill": {},
    "tags": []
   },
   "source": [
    "### Enter repository path and token"
   ]
  },
  {
   "cell_type": "code",
   "execution_count": 11,
   "id": "corporate-click",
   "metadata": {
    "papermill": {},
    "tags": []
   },
   "outputs": [],
   "source": [
    "repo_name = \"**********\"                # Repository path\n",
    "git_key = \"**********\"                  # Settings/Developer settings"
   ]
  },
  {
   "cell_type": "markdown",
   "id": "model_cell",
   "metadata": {
    "papermill": {},
    "tags": []
   },
   "source": [
    "## Model"
   ]
  },
  {
   "cell_type": "markdown",
   "id": "aware-drama",
   "metadata": {
    "papermill": {},
    "tags": []
   },
   "source": [
    "### Establishing connection"
   ]
  },
  {
   "cell_type": "code",
   "execution_count": 12,
   "id": "yellow-enzyme",
   "metadata": {
    "papermill": {},
    "tags": []
   },
   "outputs": [],
   "source": [
    "g = Github(git_key)   "
   ]
  },
  {
   "cell_type": "markdown",
   "id": "developing-hartford",
   "metadata": {
    "papermill": {},
    "tags": []
   },
   "source": [
    "### See issue list"
   ]
  },
  {
   "cell_type": "code",
   "execution_count": 19,
   "id": "minute-event",
   "metadata": {
    "papermill": {},
    "tags": []
   },
   "outputs": [],
   "source": [
    "import pandas as pd\n",
    "repo = g.get_repo(repo_name)\n",
    "open_issues = repo.get_issues(state='open')\n",
    "title = []\n",
    "number = []\n",
    "for issue in open_issues:\n",
    "    title.append(issue.title)\n",
    "    number.append(issue.number)\n",
    "data = {'Issue':title, 'Number':number} \n",
    "df = pd.DataFrame(data)\n",
    "df"
   ]
  },
  {
   "cell_type": "markdown",
   "id": "output_cell",
   "metadata": {
    "papermill": {},
    "tags": []
   },
   "source": [
    "## Output"
   ]
  },
  {
   "cell_type": "markdown",
   "id": "alternative-problem",
   "metadata": {
    "papermill": {},
    "tags": []
   },
   "source": [
    "### Closing using issue number"
   ]
  },
  {
   "cell_type": "code",
   "execution_count": 4,
   "id": "isolated-knowing",
   "metadata": {
    "papermill": {},
    "tags": []
   },
   "outputs": [],
   "source": [
    "# num = 447\n",
    "# for issue in open_issues:\n",
    "#     if issue.number == num:\n",
    "#         issue.edit(state='closed')"
   ]
  },
  {
   "cell_type": "markdown",
   "id": "modern-herald",
   "metadata": {
    "papermill": {},
    "tags": []
   },
   "source": [
    "### To close all issues"
   ]
  },
  {
   "cell_type": "code",
   "execution_count": 5,
   "id": "third-express",
   "metadata": {
    "papermill": {},
    "tags": []
   },
   "outputs": [],
   "source": [
    "repo = g.get_repo(repo_name)\n",
    "open_issues = repo.get_issues(state='open')\n",
    "for issue in open_issues:\n",
    "    issue.edit(state='closed')"
   ]
  }
 ],
 "metadata": {
  "kernelspec": {
   "display_name": "Python 3",
   "language": "python",
   "name": "python3"
  },
  "language_info": {
   "codemirror_mode": {
    "name": "ipython",
    "version": 3
   },
   "file_extension": ".py",
   "mimetype": "text/x-python",
   "name": "python",
   "nbconvert_exporter": "python",
   "pygments_lexer": "ipython3",
   "version": "3.8.8"
  },
  "papermill": {
   "default_parameters": {},
   "environment_variables": {},
   "parameters": {},
   "version": "2.3.3"
  }
 },
 "nbformat": 4,
 "nbformat_minor": 5
}
