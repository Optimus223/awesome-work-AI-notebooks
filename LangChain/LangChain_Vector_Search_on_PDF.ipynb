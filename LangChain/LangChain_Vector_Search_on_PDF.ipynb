{
 "cells": [
  {
   "cell_type": "markdown",
   "id": "latin-packing",
   "metadata": {
    "execution": {
     "iopub.execute_input": "2021-02-23T14:22:16.610471Z",
     "iopub.status.busy": "2021-02-23T14:22:16.610129Z",
     "iopub.status.idle": "2021-02-23T14:22:16.627784Z",
     "shell.execute_reply": "2021-02-23T14:22:16.626866Z",
     "shell.execute_reply.started": "2021-02-23T14:22:16.610384Z"
    },
    "id": "latin-packing",
    "papermill": {},
    "tags": []
   },
   "source": [
    "<img width=\"10%\" alt=\"Naas\" src=\"https://landen.imgix.net/jtci2pxwjczr/assets/5ice39g4.png?w=160\"/>"
   ]
  },
  {
   "cell_type": "markdown",
   "id": "compressed-wilson",
   "metadata": {
    "id": "compressed-wilson",
    "papermill": {},
    "tags": []
   },
   "source": [
    "# LangChain - Vector Search on PDF\n",
    "<a href=\"https://app.naas.ai/user-redirect/naas/downloader?url=https://raw.githubusercontent.com/jupyter-naas/awesome-notebooks/master/template.ipynb\" target=\"_parent\">\n",
    "<img src=\"https://naasai-public.s3.eu-west-3.amazonaws.com/open_in_naas.svg\"/>\n",
    "</a><a target=\"_blank\" href=\"https://colab.research.google.com/drive/1BhiqnWyHZxNfdD733QEvZIKpaz3ND663?usp=sharing\">\n",
    "  <img src=\"https://colab.research.google.com/assets/colab-badge.svg\" alt=\"Open In Colab\"/>\n",
    "</a>\n",
    "<br><br><a href=\"https://github.com/jupyter-naas/awesome-notebooks/issues/new?assignees=&labels=&template=template-request.md&title=Tool+-+Action+of+the+notebook+\">Template request</a> | <a href=\"https://github.com/jupyter-naas/awesome-notebooks/issues/new?assignees=&labels=&template=bug_report.md&title=[ERROR]+Tool+/+Folder+Action+of+the+notebook+\">Bug report</a>"
   ]
  },
  {
   "cell_type": "markdown",
   "id": "religious-programmer",
   "metadata": {
    "id": "religious-programmer"
   },
   "source": [
    "**Tags:** #langchain #pdf #weaviate #huggingface #llm #database #embeddings"
   ]
  },
  {
   "cell_type": "markdown",
   "id": "1fe9f56e-561c-4f52-aef8-b861c9462107",
   "metadata": {
    "id": "1fe9f56e-561c-4f52-aef8-b861c9462107"
   },
   "source": [
    "**Author:** [Sriniketh Jayasendil](https://www.linkedin.com/in/sriniketh-jayasendil)"
   ]
  },
  {
   "cell_type": "markdown",
   "id": "31ea7cdb-e10d-43fc-b026-f69249a59736",
   "metadata": {
    "id": "31ea7cdb-e10d-43fc-b026-f69249a59736"
   },
   "source": [
    "**Description:** This notebook is used to perform vector search on your PDF and it will answer basic questions that are closely related based on the prompt provided.\n",
    "\n",
    "It uses:\n",
    "- PyPDF2 - Get text from PDF\n",
    "- LangChain - Text splitter, document creation\n",
    "- HuggingFace - Embeddings\n",
    "- Weaviate - Vector Database"
   ]
  },
  {
   "cell_type": "markdown",
   "id": "1a14806c-9da2-446e-b8fd-b55f8d7ac3f0",
   "metadata": {
    "id": "1a14806c-9da2-446e-b8fd-b55f8d7ac3f0"
   },
   "source": [
    "**References:**\n",
    "- [Langchain docs](https://python.langchain.com/docs/get_started/introduction.html)\n",
    "- [Weaviate docs](https://weaviate.io/developers/weaviate)\n",
    "- [Huggingface docs](https://huggingface.co/docs)"
   ]
  },
  {
   "cell_type": "markdown",
   "id": "distinguished-truth",
   "metadata": {
    "id": "distinguished-truth",
    "papermill": {},
    "tags": []
   },
   "source": [
    "## Input"
   ]
  },
  {
   "cell_type": "markdown",
   "id": "numeric-mediterranean",
   "metadata": {
    "id": "numeric-mediterranean"
   },
   "source": [
    "### Import libraries"
   ]
  },
  {
   "cell_type": "code",
   "execution_count": null,
   "id": "potential-surfing",
   "metadata": {
    "id": "potential-surfing",
    "tags": []
   },
   "outputs": [],
   "source": [
    "try:\n",
    "    import langchain\n",
    "    import PyPDF2\n",
    "    import weaviate\n",
    "    import openai\n",
    "except ModuleNotFoundError:\n",
    "    !pip install langchain PyPDF2 openai weaviate-client==3.20.0\n",
    "\n",
    "import naas\n",
    "import io\n",
    "import requests\n",
    "import PyPDF2\n",
    "import openai\n",
    "from langchain.text_splitter import CharacterTextSplitter\n",
    "from langchain.embeddings import HuggingFaceEmbeddings\n",
    "from langchain.embeddings.openai import OpenAIEmbeddings\n",
    "from langchain.vectorstores import Weaviate\n",
    "from langchain.llms import OpenAI\n",
    "from langchain.chains import RetrievalQA\n",
    "from langchain.document_loaders import TextLoader"
   ]
  },
  {
   "cell_type": "code",
   "execution_count": null,
   "id": "kDfGd3KRPDP8",
   "metadata": {
    "id": "kDfGd3KRPDP8"
   },
   "outputs": [],
   "source": [
    "# Note: This installation make take more time than usual due to more dependencies {uncomment if there is some error in the embeddings routine}\n",
    "# !pip install -U sentence-transformers --user"
   ]
  },
  {
   "cell_type": "code",
   "execution_count": null,
   "id": "continuous-melbourne",
   "metadata": {
    "id": "continuous-melbourne",
    "tags": []
   },
   "outputs": [],
   "source": [
    "# Inputs\n",
    "pdf_file = \"\" or \"https://bcf.princeton.edu/wp-content/uploads/2023/05/A_User_s_Guide_to_GPT_and_LLMs_for_Economic_Research.pdf\"\n",
    "weaviate_cluster_url = \"\" or naas.secret.get(\"WEAVIATE_CLUSTER_URL\")\n",
    "openai_api_key = \"\" or naas.secret.get(\"OPENAI_API_KEY\")\n",
    "query = \"\" or \"Summarize the PDF\"\n",
    "\n",
    "# Outputs\n",
    "response = \"\""
   ]
  },
  {
   "cell_type": "markdown",
   "id": "registered-showcase",
   "metadata": {
    "id": "registered-showcase"
   },
   "source": [
    "## Model"
   ]
  },
  {
   "cell_type": "markdown",
   "id": "tested-astrology",
   "metadata": {
    "id": "tested-astrology"
   },
   "source": [
    "### Extract text from PDF"
   ]
  },
  {
   "cell_type": "code",
   "execution_count": null,
   "id": "crude-louisville",
   "metadata": {
    "id": "crude-louisville",
    "papermill": {},
    "tags": []
   },
   "outputs": [],
   "source": [
    "def extract_text_from_pdf(pdf_path):\n",
    "    r = requests.get(pdf_path)\n",
    "    f = io.BytesIO(r.content)\n",
    "\n",
    "    reader = PyPDF2.PdfReader(f)\n",
    "    contents = []\n",
    "    for page in reader.pages:\n",
    "        content = page.extract_text()\n",
    "        contents.append(content)\n",
    "\n",
    "    contents = ' '.join(contents)\n",
    "    return contents\n",
    "\n",
    "\n",
    "text = extract_text_from_pdf(pdf_file)"
   ]
  },
  {
   "cell_type": "markdown",
   "id": "8daa42c1-3a2b-4f96-a7dd-fb1deb395a84",
   "metadata": {
    "id": "8daa42c1-3a2b-4f96-a7dd-fb1deb395a84"
   },
   "source": [
    "### Split the text into chunks scraped from the PDF"
   ]
  },
  {
   "cell_type": "code",
   "execution_count": null,
   "id": "f9e8e197-e965-441c-9512-9b28ed079ee6",
   "metadata": {
    "id": "f9e8e197-e965-441c-9512-9b28ed079ee6",
    "papermill": {},
    "tags": []
   },
   "outputs": [],
   "source": [
    "text_splitter = CharacterTextSplitter(chunk_size=1000, chunk_overlap=0)\n",
    "\n",
    "texts = text_splitter.create_documents([text])"
   ]
  },
  {
   "cell_type": "markdown",
   "id": "ef1720bf-a28a-4757-b189-7df97947c158",
   "metadata": {
    "id": "ef1720bf-a28a-4757-b189-7df97947c158"
   },
   "source": [
    "### Create embeddings of the text make it compatible to store it in the database"
   ]
  },
  {
   "cell_type": "code",
   "execution_count": null,
   "id": "e4a376ac-a10e-4d6a-ba01-e5445efdf091",
   "metadata": {
    "id": "e4a376ac-a10e-4d6a-ba01-e5445efdf091",
    "tags": []
   },
   "outputs": [],
   "source": [
    "embeddings = HuggingFaceEmbeddings()\n",
    "\n",
    "for i in range(len(texts)):\n",
    "        query_result = embeddings.embed_query(texts[i].page_content)"
   ]
  },
  {
   "cell_type": "markdown",
   "id": "4169feb2-05ac-4914-bbb2-501dae7dcd89",
   "metadata": {
    "id": "4169feb2-05ac-4914-bbb2-501dae7dcd89"
   },
   "source": [
    "### Store the embeddings into the weaviate database"
   ]
  },
  {
   "cell_type": "code",
   "execution_count": null,
   "id": "93ae7d2d-86b0-4b88-ba96-ef0d094d9da3",
   "metadata": {
    "colab": {
     "base_uri": "https://localhost:8080/"
    },
    "id": "93ae7d2d-86b0-4b88-ba96-ef0d094d9da3",
    "outputId": "66af9945-1e8c-470c-dfe0-f161d3dc1c68",
    "tags": []
   },
   "outputs": [],
   "source": [
    "# Delete existing schema if any present\n",
    "client = weaviate.Client(url=weaviate_cluster_url )\n",
    "\n",
    "try:\n",
    "    client.schema.delete_all()\n",
    "    print(\"Schema deleted successfully...\")\n",
    "except:\n",
    "    print(\"Schema not deleted...\")\n",
    "\n",
    "# Store in the weaviate vector database\n",
    "db = Weaviate.from_documents(texts, embeddings, weaviate_url=weaviate_cluster_url, by_text=False)"
   ]
  },
  {
   "cell_type": "markdown",
   "id": "981fac74-2e1e-4b62-8b91-09d51d344bba",
   "metadata": {
    "id": "981fac74-2e1e-4b62-8b91-09d51d344bba"
   },
   "source": [
    "### Get the closest response to the user query on the PDF"
   ]
  },
  {
   "cell_type": "code",
   "execution_count": null,
   "id": "bdf9e7a9-7de9-4c50-b677-97cb2a1d5d3b",
   "metadata": {
    "id": "bdf9e7a9-7de9-4c50-b677-97cb2a1d5d3b",
    "tags": []
   },
   "outputs": [],
   "source": [
    "qa = RetrievalQA.from_chain_type(llm=OpenAI(openai_api_key=openai_api_key, temperature=0), chain_type=\"stuff\", retriever=db.as_retriever())\n",
    "response = qa.run(query)"
   ]
  },
  {
   "cell_type": "markdown",
   "id": "lonely-pacific",
   "metadata": {
    "execution": {
     "iopub.execute_input": "2021-07-02T23:32:10.789097Z",
     "iopub.status.busy": "2021-07-02T23:32:10.788829Z",
     "iopub.status.idle": "2021-07-02T23:32:10.796900Z",
     "shell.execute_reply": "2021-07-02T23:32:10.796358Z",
     "shell.execute_reply.started": "2021-07-02T23:32:10.789033Z"
    },
    "id": "lonely-pacific"
   },
   "source": [
    "## Output"
   ]
  },
  {
   "cell_type": "markdown",
   "id": "890f7c86-b7bb-4f5d-9a1b-e492dd9580fd",
   "metadata": {
    "id": "890f7c86-b7bb-4f5d-9a1b-e492dd9580fd"
   },
   "source": [
    "### Show the response"
   ]
  },
  {
   "cell_type": "code",
   "execution_count": null,
   "id": "9c4e3b7b-6440-4844-8054-265f1aec65eb",
   "metadata": {
    "colab": {
     "base_uri": "https://localhost:8080/",
     "height": 69
    },
    "id": "9c4e3b7b-6440-4844-8054-265f1aec65eb",
    "outputId": "70a8eb18-ce96-4902-9ebe-c3179494fb30",
    "tags": []
   },
   "outputs": [],
   "source": [
    "response"
   ]
  },
  {
   "cell_type": "code",
   "execution_count": null,
   "id": "9d0d7bd2-7e89-49e6-807f-9ab542085a7f",
   "metadata": {
    "id": "9d0d7bd2-7e89-49e6-807f-9ab542085a7f"
   },
   "outputs": [],
   "source": []
  }
 ],
 "metadata": {
  "accelerator": "GPU",
  "colab": {
   "gpuType": "T4",
   "provenance": []
  },
  "kernelspec": {
   "display_name": "Python 3",
   "language": "python",
   "name": "python3"
  },
  "language_info": {
   "codemirror_mode": {
    "name": "ipython",
    "version": 3
   },
   "file_extension": ".py",
   "mimetype": "text/x-python",
   "name": "python",
   "nbconvert_exporter": "python",
   "pygments_lexer": "ipython3",
   "version": "3.9.6"
  },
  "papermill": {
   "default_parameters": {},
   "environment_variables": {},
   "parameters": {},
   "version": "2.3.3"
  }
 },
 "nbformat": 4,
 "nbformat_minor": 5
}
