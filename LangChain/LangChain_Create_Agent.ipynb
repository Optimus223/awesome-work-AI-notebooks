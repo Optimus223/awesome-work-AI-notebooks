{
 "cells": [
  {
   "cell_type": "markdown",
   "metadata": {
    "execution": {
     "iopub.execute_input": "2021-02-23T14:22:16.610471Z",
     "iopub.status.busy": "2021-02-23T14:22:16.610129Z",
     "iopub.status.idle": "2021-02-23T14:22:16.627784Z",
     "shell.execute_reply": "2021-02-23T14:22:16.626866Z",
     "shell.execute_reply.started": "2021-02-23T14:22:16.610384Z"
    },
    "papermill": {},
    "tags": []
   },
   "source": [
    "<img width=\"8%\" alt=\"LangChain.png\" src=\"https://raw.githubusercontent.com/jupyter-naas/awesome-notebooks/master/.github/assets/logos/LangChain.png\" style=\"border-radius: 15%\">"
   ]
  },
  {
   "cell_type": "markdown",
   "metadata": {
    "papermill": {},
    "tags": []
   },
   "source": [
    "# LangChain - Create Agent"
   ]
  },
  {
   "cell_type": "markdown",
   "metadata": {
    "papermill": {},
    "tags": []
   },
   "source": [
    "**Tags:** #langchain #neo4j #graph #knowledge"
   ]
  },
  {
   "cell_type": "markdown",
   "metadata": {
    "papermill": {},
    "tags": []
   },
   "source": [
    "**Author:** [Florent Ravenel](https://www.linkedin.com/in/florent-ravenel)"
   ]
  },
  {
   "cell_type": "markdown",
   "metadata": {
    "papermill": {},
    "tags": []
   },
   "source": [
    "**Last update:** 2024-03-25 (Created: 2024-03-25)"
   ]
  },
  {
   "cell_type": "markdown",
   "metadata": {
    "papermill": {},
    "tags": []
   },
   "source": [
    "**Description:** This notebook creates an Agent."
   ]
  },
  {
   "cell_type": "markdown",
   "metadata": {
    "papermill": {},
    "tags": []
   },
   "source": [
    "**References:**\n",
    "- [Medium - Using a Knowledge Graph to Implement a DevOps RAG Application](https://medium.com/neo4j/using-a-knowledge-graph-to-implement-a-devops-rag-application-b6ba24831b16)"
   ]
  },
  {
   "cell_type": "markdown",
   "metadata": {},
   "source": [
    "## Input"
   ]
  },
  {
   "cell_type": "markdown",
   "metadata": {},
   "source": [
    "### Import libraries"
   ]
  },
  {
   "cell_type": "code",
   "execution_count": 1,
   "metadata": {
    "execution": {
     "iopub.execute_input": "2024-04-29T07:19:12.249481Z",
     "iopub.status.busy": "2024-04-29T07:19:12.248988Z",
     "iopub.status.idle": "2024-04-29T07:19:19.661460Z",
     "shell.execute_reply": "2024-04-29T07:19:19.660720Z",
     "shell.execute_reply.started": "2024-04-29T07:19:12.249400Z"
    },
    "tags": []
   },
   "outputs": [],
   "source": [
    "import naas\n",
    "import os\n",
    "import requests\n",
    "try:\n",
    "    from langchain.graphs import Neo4jGraph\n",
    "    from langchain.vectorstores.neo4j_vector import Neo4jVector\n",
    "    from langchain.chains import RetrievalQA, GraphCypherQAChain\n",
    "    from langchain.agents import initialize_agent, Tool\n",
    "    from langchain.agents import AgentType\n",
    "except:\n",
    "    !pip install langchain==0.1.13 --user\n",
    "    from langchain.graphs import Neo4jGraph\n",
    "    from langchain.vectorstores.neo4j_vector import Neo4jVector\n",
    "    from langchain.chains import RetrievalQA, GraphCypherQAChain\n",
    "    from langchain.agents import initialize_agent, Tool\n",
    "    from langchain.agents import AgentType\n",
    "try:\n",
    "    from langchain_openai import OpenAIEmbeddings\n",
    "    from langchain_openai import ChatOpenAI\n",
    "except:\n",
    "    !pip install langchain-openai=0.1.1 --user\n",
    "    from langchain_openai import OpenAIEmbeddings\n",
    "    from langchain_openai import ChatOpenAI\n",
    "try:\n",
    "    import neo4j\n",
    "except:\n",
    "    !pip install neo4j==5.18.0 --user\n",
    "    import neo4j\n",
    "from neo4j import GraphDatabase\n",
    "import pandas as pd"
   ]
  },
  {
   "cell_type": "markdown",
   "metadata": {},
   "source": [
    "### Setup variables"
   ]
  },
  {
   "cell_type": "code",
   "execution_count": 2,
   "metadata": {
    "execution": {
     "iopub.execute_input": "2024-04-29T07:19:19.663323Z",
     "iopub.status.busy": "2024-04-29T07:19:19.663085Z",
     "iopub.status.idle": "2024-04-29T07:19:24.583647Z",
     "shell.execute_reply": "2024-04-29T07:19:24.582877Z",
     "shell.execute_reply.started": "2024-04-29T07:19:19.663291Z"
    },
    "tags": []
   },
   "outputs": [],
   "source": [
    "url = \"neo4j+s://a23aa9f6.databases.neo4j.io:7687\"\n",
    "username = naas.secret.get(\"NEO4J_USERNAME\")\n",
    "password = naas.secret.get(\"NEO4J_PASSWORD\")\n",
    "graph_source_url = \"https://gist.githubusercontent.com/tomasonjo/08dc8ba0e19d592c4c3cde40dd6abcc3/raw/e90b0c9386bf8be15b199e8ac8f83fc265a2ac57/microservices.json\"\n",
    "os.environ['OPENAI_API_KEY'] = naas.secret.get(\"OPENAI_API_KEY\")"
   ]
  },
  {
   "cell_type": "markdown",
   "metadata": {},
   "source": [
    "## Model"
   ]
  },
  {
   "cell_type": "markdown",
   "metadata": {},
   "source": [
    "### Neo4j Graph Setup"
   ]
  },
  {
   "cell_type": "code",
   "execution_count": 3,
   "metadata": {
    "execution": {
     "iopub.execute_input": "2024-04-29T07:19:24.585993Z",
     "iopub.status.busy": "2024-04-29T07:19:24.585741Z",
     "iopub.status.idle": "2024-04-29T07:19:24.964752Z",
     "shell.execute_reply": "2024-04-29T07:19:24.959615Z",
     "shell.execute_reply.started": "2024-04-29T07:19:24.585960Z"
    },
    "tags": []
   },
   "outputs": [
    {
     "data": {
      "text/plain": [
       "<langchain_community.graphs.neo4j_graph.Neo4jGraph at 0x7f9f4c2d87f0>"
      ]
     },
     "execution_count": 3,
     "metadata": {},
     "output_type": "execute_result"
    }
   ],
   "source": [
    "graph = Neo4jGraph(\n",
    "    url=url, \n",
    "    username=username, \n",
    "    password=password\n",
    ")\n",
    "graph"
   ]
  },
  {
   "cell_type": "markdown",
   "metadata": {},
   "source": [
    "### Get graph dataset"
   ]
  },
  {
   "cell_type": "code",
   "execution_count": 4,
   "metadata": {
    "execution": {
     "iopub.execute_input": "2024-04-29T07:19:24.965977Z",
     "iopub.status.busy": "2024-04-29T07:19:24.965735Z",
     "iopub.status.idle": "2024-04-29T07:19:25.002758Z",
     "shell.execute_reply": "2024-04-29T07:19:25.002021Z",
     "shell.execute_reply.started": "2024-04-29T07:19:24.965947Z"
    },
    "tags": []
   },
   "outputs": [
    {
     "data": {
      "text/plain": [
       "\"MERGE (catalog:Microservice {name: 'CatalogService', technology: 'Java'}) MERGE (order:Microservice {name: 'OrderService', technology: 'Python'}) MERGE (user:Microservice {name: 'UserService', technology: 'Go'}) MERGE (payment:Microservice {name: 'PaymentService', technology: 'Node.js'}) MERGE (inventory:Microservice {name: 'InventoryService', technology: 'Java'}) MERGE (shipping:Microservice {name: 'ShippingService', technology: 'Python'}) MERGE (review:Microservice {name: 'ReviewService', technology: 'Go'}) MERGE (recommendation:Microservice {name: 'RecommendationService', technology: 'Node.js'}) MERGE (auth:Microservice {name: 'AuthService', technology: 'Node.js'}) MERGE (db:Microservice {name: 'Database', technology: 'SQL'}) MERGE (cache:Microservice {name: 'Cache', technology: 'In-memory'}) MERGE (mq:Microservice {name: 'MessageQueue', technology: 'Pub-Sub'}) MERGE (api:Microservice {name: 'ExternalAPI', technology: 'REST'}) MERGE (bugFixCatalog:Task {name: 'BugFix', description: 'Address and resolve a critical bug impacting the CatalogService, affecting the user interface and experience, and hampering the overall performance and responsiveness of the service.', status: 'open'}) MERGE (featureAddOrder:Task {name: 'FeatureAdd', description: 'Implement a new feature in OrderService to facilitate bulk orders, ensuring the features seamless integration with existing functionalities and maintaining the overall stability and performance of the service.', status: 'in progress'}) MERGE (refactorUser:Task {name: 'Refactor', description: 'Refactor the UserService codebase to enhance its readability, maintainability, and scalability, focusing primarily on modularization and optimization of existing functionalities.', status: 'completed'}) MERGE (optimizePayment:Task {name: 'Optimize', description: 'Optimize PaymentService by refining the transaction processing logic, reducing the service’s latency, and improving its reliability and efficiency in handling transactions.', status: 'open'}) MERGE (updateInventory:Task {name: 'Update', description: 'Update InventoryService to include real-time stock updates, ensuring accurate reflection of the inventory levels and aiding in the efficient management of stock.', status: 'in progress'}) MERGE (enhanceShipping:Task {name: 'Enhance', description: 'Enhance the ShippingService by integrating a new shipping partner API, thereby expanding the shipping options available to the customers and improving the overall delivery experience.', status: 'completed'}) MERGE (reviewFix:Task {name: 'ReviewFix', description: 'Rectify a recurring issue in ReviewService affecting the retrieval of user reviews, by refining the service’s logic and improving its efficiency in handling and displaying user reviews.', status: 'open'}) MERGE (recommendationFeature:Task {name: 'RecommendationFeature', description: 'Add a new feature to RecommendationService to provide more personalized and accurate product recommendations to the users, leveraging user behavior and preference data.', status: 'in progress'}) MERGE (optimizeAuth:Task {name: 'Optimize', description: 'Enhance AuthService’s performance and security by optimizing the authentication mechanisms and implementing additional security measures to safeguard user information.', status: 'open'}) MERGE (newTask:Task {name: 'ImproveSecurity', description: 'Enhance the security of microservices by implementing advanced encryption and securing endpoints.', status: 'open'}) MERGE (teamA:Team {name: 'TeamA'}) MERGE (teamB:Team {name: 'TeamB'}) MERGE (teamC:Team {name: 'TeamC'}) MERGE (teamD:Team {name: 'TeamD'}) MERGE (alice:Person {name: 'Alice'}) MERGE (bob:Person {name: 'Bob'}) MERGE (charlie:Person {name: 'Charlie'}) MERGE (diana:Person {name: 'Diana'}) MERGE (eva:Person {name: 'Eva'}) MERGE (frank:Person {name: 'Frank'}) MERGE (catalog)-[:DEPENDS_ON]->(db) MERGE (order)-[:DEPENDS_ON]->(db) MERGE (user)-[:DEPENDS_ON]->(db) MERGE (payment)-[:DEPENDS_ON]->(db) MERGE (inventory)-[:DEPENDS_ON]->(db) MERGE (shipping)-[:DEPENDS_ON]->(mq) MERGE (review)-[:DEPENDS_ON]->(cache) MERGE (recommendation)-[:DEPENDS_ON]->(api) MERGE (auth)-[:DEPENDS_ON]->(db) MERGE (order)-[:DEPENDS_ON]->(inventory) MERGE (order)-[:DEPENDS_ON]->(shipping) MERGE (order)-[:DEPENDS_ON]->(payment) MERGE (catalog)-[:DEPENDS_ON]->(review) MERGE (catalog)-[:DEPENDS_ON]->(recommendation) MERGE (user)-[:DEPENDS_ON]->(auth) MERGE (payment)-[:DEPENDS_ON]->(auth) MERGE (shipping)-[:DEPENDS_ON]->(auth) MERGE (catalog)-[:MAINTAINED_BY]->(teamA) MERGE (order)-[:MAINTAINED_BY]->(teamB) MERGE (user)-[:MAINTAINED_BY]->(teamC) MERGE (payment)-[:MAINTAINED_BY]->(teamD) MERGE (inventory)-[:MAINTAINED_BY]->(teamA) MERGE (shipping)-[:MAINTAINED_BY]->(teamB) MERGE (review)-[:MAINTAINED_BY]->(teamC) MERGE (recommendation)-[:MAINTAINED_BY]->(teamD) MERGE (auth)-[:MAINTAINED_BY]->(teamA) MERGE (bugFixCatalog)-[:ASSIGNED_TO]->(teamA) MERGE (featureAddOrder)-[:ASSIGNED_TO]->(teamB) MERGE (refactorUser)-[:ASSIGNED_TO]->(teamC) MERGE (optimizePayment)-[:ASSIGNED_TO]->(teamD) MERGE (updateInventory)-[:ASSIGNED_TO]->(teamA) MERGE (enhanceShipping)-[:ASSIGNED_TO]->(teamB) MERGE (reviewFix)-[:ASSIGNED_TO]->(teamC) MERGE (recommendationFeature)-[:ASSIGNED_TO]->(teamD) MERGE (optimizeAuth)-[:ASSIGNED_TO]->(teamA) MERGE (bugFixCatalog)-[:LINKED_TO]->(catalog) MERGE (featureAddOrder)-[:LINKED_TO]->(order) MERGE (refactorUser)-[:LINKED_TO]->(user) MERGE (optimizePayment)-[:LINKED_TO]->(payment) MERGE (updateInventory)-[:LINKED_TO]->(inventory) MERGE (enhanceShipping)-[:LINKED_TO]->(shipping) MERGE (reviewFix)-[:LINKED_TO]->(review) MERGE (recommendationFeature)-[:LINKED_TO]->(recommendation) MERGE (optimizeAuth)-[:LINKED_TO]->(auth) MERGE (alice)-[:PART_OF]->(teamA) MERGE (bob)-[:PART_OF]->(teamB) MERGE (charlie)-[:PART_OF]->(teamC) MERGE (diana)-[:PART_OF]->(teamD) MERGE (eva)-[:PART_OF]->(teamA) MERGE (frank)-[:PART_OF]->(teamB) MERGE (newTask)-[:LINKED_TO]->(auth) MERGE (newTask)-[:ASSIGNED_TO]->(teamA)\""
      ]
     },
     "execution_count": 4,
     "metadata": {},
     "output_type": "execute_result"
    }
   ],
   "source": [
    "import_query = requests.get(graph_source_url).json().get('query')\n",
    "import_query"
   ]
  },
  {
   "cell_type": "markdown",
   "metadata": {},
   "source": [
    "### Import graph into Neo4j"
   ]
  },
  {
   "cell_type": "code",
   "execution_count": 5,
   "metadata": {
    "execution": {
     "iopub.execute_input": "2024-04-29T07:19:25.005754Z",
     "iopub.status.busy": "2024-04-29T07:19:25.005538Z",
     "iopub.status.idle": "2024-04-29T07:19:26.552119Z",
     "shell.execute_reply": "2024-04-29T07:19:26.551349Z",
     "shell.execute_reply.started": "2024-04-29T07:19:25.005730Z"
    },
    "tags": []
   },
   "outputs": [
    {
     "data": {
      "text/plain": [
       "[]"
      ]
     },
     "execution_count": 5,
     "metadata": {},
     "output_type": "execute_result"
    }
   ],
   "source": [
    "graph.query(\n",
    "    import_query\n",
    ")"
   ]
  },
  {
   "cell_type": "markdown",
   "metadata": {},
   "source": [
    "## Output"
   ]
  },
  {
   "cell_type": "markdown",
   "metadata": {
    "execution": {
     "iopub.execute_input": "2024-03-25T17:08:46.855856Z",
     "iopub.status.busy": "2024-03-25T17:08:46.855622Z",
     "iopub.status.idle": "2024-03-25T17:08:46.860216Z",
     "shell.execute_reply": "2024-03-25T17:08:46.859554Z",
     "shell.execute_reply.started": "2024-03-25T17:08:46.855832Z"
    },
    "tags": []
   },
   "source": [
    "### Vector Index & Retrieval QA"
   ]
  },
  {
   "cell_type": "code",
   "execution_count": 6,
   "metadata": {
    "execution": {
     "iopub.execute_input": "2024-04-29T07:19:26.553502Z",
     "iopub.status.busy": "2024-04-29T07:19:26.553257Z",
     "iopub.status.idle": "2024-04-29T07:19:28.356537Z",
     "shell.execute_reply": "2024-04-29T07:19:28.355833Z",
     "shell.execute_reply.started": "2024-04-29T07:19:26.553471Z"
    },
    "tags": []
   },
   "outputs": [],
   "source": [
    "vector_index = Neo4jVector.from_existing_graph(\n",
    "    OpenAIEmbeddings(),\n",
    "    url=url,\n",
    "    username=username,\n",
    "    password=password,\n",
    "    index_name='tasks',\n",
    "    node_label=\"Task\",\n",
    "    text_node_properties=['name', 'description', 'status'],\n",
    "    embedding_node_property='embedding',\n",
    ")\n",
    "\n",
    "vector_qa = RetrievalQA.from_chain_type(\n",
    "    llm=ChatOpenAI(),\n",
    "    chain_type=\"stuff\",\n",
    "    retriever=vector_index.as_retriever()\n",
    ")"
   ]
  },
  {
   "cell_type": "code",
   "execution_count": 7,
   "metadata": {
    "execution": {
     "iopub.execute_input": "2024-04-29T07:19:28.359488Z",
     "iopub.status.busy": "2024-04-29T07:19:28.359294Z",
     "iopub.status.idle": "2024-04-29T07:19:30.381353Z",
     "shell.execute_reply": "2024-04-29T07:19:30.380644Z",
     "shell.execute_reply.started": "2024-04-29T07:19:28.359465Z"
    },
    "tags": []
   },
   "outputs": [
    {
     "data": {
      "text/plain": [
       "{'query': 'How will recommendation service be updated?',\n",
       " 'result': 'The RecommendationService will be updated by adding a new feature to provide more personalized and accurate product recommendations to users. This update will leverage user behavior and preference data to enhance the recommendation algorithm. The current status of the update is \"in progress.\"'}"
      ]
     },
     "execution_count": 7,
     "metadata": {},
     "output_type": "execute_result"
    }
   ],
   "source": [
    "vector_qa.invoke(\n",
    "    \"How will recommendation service be updated?\"\n",
    ")"
   ]
  },
  {
   "cell_type": "code",
   "execution_count": 8,
   "metadata": {
    "execution": {
     "iopub.execute_input": "2024-04-29T07:19:30.383824Z",
     "iopub.status.busy": "2024-04-29T07:19:30.383574Z",
     "iopub.status.idle": "2024-04-29T07:19:31.210715Z",
     "shell.execute_reply": "2024-04-29T07:19:31.210063Z",
     "shell.execute_reply.started": "2024-04-29T07:19:30.383792Z"
    },
    "tags": []
   },
   "outputs": [
    {
     "data": {
      "text/plain": [
       "{'query': 'How many open tickets there are?',\n",
       " 'result': 'There are 4 open tickets currently.'}"
      ]
     },
     "execution_count": 8,
     "metadata": {},
     "output_type": "execute_result"
    }
   ],
   "source": [
    "vector_qa.invoke(\n",
    "    \"How many open tickets there are?\"\n",
    ")"
   ]
  },
  {
   "cell_type": "markdown",
   "metadata": {},
   "source": [
    "### GraphCypherQAChain"
   ]
  },
  {
   "cell_type": "code",
   "execution_count": 9,
   "metadata": {
    "execution": {
     "iopub.execute_input": "2024-04-29T07:19:31.212265Z",
     "iopub.status.busy": "2024-04-29T07:19:31.212029Z",
     "iopub.status.idle": "2024-04-29T07:19:31.368683Z",
     "shell.execute_reply": "2024-04-29T07:19:31.368082Z",
     "shell.execute_reply.started": "2024-04-29T07:19:31.212233Z"
    },
    "tags": []
   },
   "outputs": [],
   "source": [
    "graph.refresh_schema()\n",
    "\n",
    "cypher_chain = GraphCypherQAChain.from_llm(\n",
    "    cypher_llm = ChatOpenAI(temperature=0, model_name='gpt-4'),\n",
    "    qa_llm = ChatOpenAI(temperature=0), graph=graph, verbose=True,\n",
    ")"
   ]
  },
  {
   "cell_type": "code",
   "execution_count": 10,
   "metadata": {
    "execution": {
     "iopub.execute_input": "2024-04-29T07:19:31.371264Z",
     "iopub.status.busy": "2024-04-29T07:19:31.371040Z",
     "iopub.status.idle": "2024-04-29T07:19:33.971221Z",
     "shell.execute_reply": "2024-04-29T07:19:33.970623Z",
     "shell.execute_reply.started": "2024-04-29T07:19:31.371240Z"
    },
    "tags": []
   },
   "outputs": [
    {
     "name": "stdout",
     "output_type": "stream",
     "text": [
      "\n",
      "\n",
      "\u001b[1m> Entering new GraphCypherQAChain chain...\u001b[0m\n",
      "Generated Cypher:\n",
      "\u001b[32;1m\u001b[1;3mMATCH (m:Microservice {name: 'recommendation service'})-[:MAINTAINED_BY]->(t:Team)\n",
      "RETURN t.name as TeamName\u001b[0m\n",
      "Full Context:\n",
      "\u001b[32;1m\u001b[1;3m[]\u001b[0m\n",
      "\n",
      "\u001b[1m> Finished chain.\u001b[0m\n"
     ]
    },
    {
     "data": {
      "text/plain": [
       "{'query': 'How will recommendation service be updated?',\n",
       " 'result': \"I don't know the answer.\"}"
      ]
     },
     "execution_count": 10,
     "metadata": {},
     "output_type": "execute_result"
    }
   ],
   "source": [
    "cypher_chain.invoke(\n",
    "    \"How will recommendation service be updated?\"\n",
    ")"
   ]
  },
  {
   "cell_type": "code",
   "execution_count": 11,
   "metadata": {
    "execution": {
     "iopub.execute_input": "2024-04-29T07:19:33.972433Z",
     "iopub.status.busy": "2024-04-29T07:19:33.972205Z",
     "iopub.status.idle": "2024-04-29T07:19:35.673595Z",
     "shell.execute_reply": "2024-04-29T07:19:35.673020Z",
     "shell.execute_reply.started": "2024-04-29T07:19:33.972402Z"
    },
    "tags": []
   },
   "outputs": [
    {
     "name": "stdout",
     "output_type": "stream",
     "text": [
      "\n",
      "\n",
      "\u001b[1m> Entering new GraphCypherQAChain chain...\u001b[0m\n",
      "Generated Cypher:\n",
      "\u001b[32;1m\u001b[1;3mMATCH (t:Task {status: 'open'}) RETURN COUNT(t)\u001b[0m\n",
      "Full Context:\n",
      "\u001b[32;1m\u001b[1;3m[{'COUNT(t)': 5}]\u001b[0m\n",
      "\n",
      "\u001b[1m> Finished chain.\u001b[0m\n"
     ]
    },
    {
     "data": {
      "text/plain": [
       "{'query': 'How many open tickets there are?',\n",
       " 'result': 'There are 5 open tickets.'}"
      ]
     },
     "execution_count": 11,
     "metadata": {},
     "output_type": "execute_result"
    }
   ],
   "source": [
    "cypher_chain.invoke(\n",
    "    \"How many open tickets there are?\"\n",
    ")"
   ]
  },
  {
   "cell_type": "markdown",
   "metadata": {},
   "source": [
    "### Knowledge Graph Agent"
   ]
  },
  {
   "cell_type": "code",
   "execution_count": 12,
   "metadata": {
    "execution": {
     "iopub.execute_input": "2024-04-29T07:19:35.674807Z",
     "iopub.status.busy": "2024-04-29T07:19:35.674548Z",
     "iopub.status.idle": "2024-04-29T07:19:35.706085Z",
     "shell.execute_reply": "2024-04-29T07:19:35.705314Z",
     "shell.execute_reply.started": "2024-04-29T07:19:35.674774Z"
    },
    "tags": []
   },
   "outputs": [
    {
     "name": "stderr",
     "output_type": "stream",
     "text": [
      "/home/ftp/.local/lib/python3.9/site-packages/langchain_core/_api/deprecation.py:117: LangChainDeprecationWarning: The function `initialize_agent` was deprecated in LangChain 0.1.0 and will be removed in 0.2.0. Use Use new agent constructor methods like create_react_agent, create_json_agent, create_structured_chat_agent, etc. instead.\n",
      "  warn_deprecated(\n"
     ]
    }
   ],
   "source": [
    "tools = [\n",
    "    Tool(\n",
    "        name=\"Tasks\",\n",
    "        func=vector_qa.invoke,\n",
    "        description=\"\"\"Useful when you need to answer questions about descriptions.\n",
    "        Not useful for counting.\n",
    "        Use full question as input.\n",
    "        \"\"\",\n",
    "    ),\n",
    "    Tool(\n",
    "        name=\"Graph\",\n",
    "        func=cypher_chain.invoke,\n",
    "        description=\"\"\"Useful when you need to answer questions about microservices,\n",
    "        their dependencies or assigned people. Also useful for any sort of \n",
    "        aggregation like counting the number of tasks, etc.\n",
    "        Use full question as input.\n",
    "        \"\"\",\n",
    "    ),\n",
    "]\n",
    "\n",
    "mrkl = initialize_agent(\n",
    "    tools, \n",
    "    ChatOpenAI(temperature=0, model_name='gpt-4'),\n",
    "    agent=AgentType.OPENAI_FUNCTIONS, verbose=True\n",
    ")"
   ]
  },
  {
   "cell_type": "code",
   "execution_count": 13,
   "metadata": {
    "execution": {
     "iopub.execute_input": "2024-04-29T07:19:35.707442Z",
     "iopub.status.busy": "2024-04-29T07:19:35.707189Z",
     "iopub.status.idle": "2024-04-29T07:19:41.702763Z",
     "shell.execute_reply": "2024-04-29T07:19:41.702061Z",
     "shell.execute_reply.started": "2024-04-29T07:19:35.707407Z"
    },
    "tags": []
   },
   "outputs": [
    {
     "name": "stdout",
     "output_type": "stream",
     "text": [
      "\n",
      "\n",
      "\u001b[1m> Entering new AgentExecutor chain...\u001b[0m\n",
      "\u001b[32;1m\u001b[1;3m\n",
      "Invoking: `Tasks` with `How will recommendation service be updated?`\n",
      "\n",
      "\n",
      "\u001b[0m\u001b[36;1m\u001b[1;3m{'query': 'How will recommendation service be updated?', 'result': 'The RecommendationService is currently undergoing an update to add a new feature that will provide more personalized and accurate product recommendations to users. This update involves leveraging user behavior and preference data to enhance the recommendations. The status of this update is \"in progress.\"'}\u001b[0m\u001b[32;1m\u001b[1;3mThe RecommendationService is currently undergoing an update to add a new feature that will provide more personalized and accurate product recommendations to users. This update involves leveraging user behavior and preference data to enhance the recommendations. The status of this update is \"in progress.\"\u001b[0m\n",
      "\n",
      "\u001b[1m> Finished chain.\u001b[0m\n",
      "{'input': 'How will recommendation service be updated?', 'output': 'The RecommendationService is currently undergoing an update to add a new feature that will provide more personalized and accurate product recommendations to users. This update involves leveraging user behavior and preference data to enhance the recommendations. The status of this update is \"in progress.\"'}\n"
     ]
    }
   ],
   "source": [
    "response = mrkl.invoke(\"How will recommendation service be updated?\")\n",
    "print(response)"
   ]
  },
  {
   "cell_type": "code",
   "execution_count": 14,
   "metadata": {
    "execution": {
     "iopub.execute_input": "2024-04-29T07:19:41.706151Z",
     "iopub.status.busy": "2024-04-29T07:19:41.705245Z",
     "iopub.status.idle": "2024-04-29T07:19:45.737875Z",
     "shell.execute_reply": "2024-04-29T07:19:45.737105Z",
     "shell.execute_reply.started": "2024-04-29T07:19:41.706114Z"
    },
    "tags": []
   },
   "outputs": [
    {
     "name": "stdout",
     "output_type": "stream",
     "text": [
      "\n",
      "\n",
      "\u001b[1m> Entering new AgentExecutor chain...\u001b[0m\n",
      "\u001b[32;1m\u001b[1;3m\n",
      "Invoking: `Graph` with `How many open tickets there are?`\n",
      "\n",
      "\n",
      "\u001b[0m\n",
      "\n",
      "\u001b[1m> Entering new GraphCypherQAChain chain...\u001b[0m\n",
      "Generated Cypher:\n",
      "\u001b[32;1m\u001b[1;3mMATCH (t:Task {status: 'open'}) RETURN COUNT(t)\u001b[0m\n",
      "Full Context:\n",
      "\u001b[32;1m\u001b[1;3m[{'COUNT(t)': 5}]\u001b[0m\n",
      "\n",
      "\u001b[1m> Finished chain.\u001b[0m\n",
      "\u001b[33;1m\u001b[1;3m{'query': 'How many open tickets there are?', 'result': 'There are 5 open tickets.'}\u001b[0m\u001b[32;1m\u001b[1;3mThere are 5 open tickets.\u001b[0m\n",
      "\n",
      "\u001b[1m> Finished chain.\u001b[0m\n",
      "{'input': 'How many open tickets there are?', 'output': 'There are 5 open tickets.'}\n"
     ]
    }
   ],
   "source": [
    "response = mrkl.invoke(\"How many open tickets there are?\")\n",
    "print(response)"
   ]
  },
  {
   "cell_type": "code",
   "execution_count": 15,
   "metadata": {
    "execution": {
     "iopub.execute_input": "2024-04-29T07:19:45.739562Z",
     "iopub.status.busy": "2024-04-29T07:19:45.739130Z",
     "iopub.status.idle": "2024-04-29T07:19:50.515298Z",
     "shell.execute_reply": "2024-04-29T07:19:50.514571Z",
     "shell.execute_reply.started": "2024-04-29T07:19:45.739527Z"
    },
    "tags": []
   },
   "outputs": [
    {
     "name": "stdout",
     "output_type": "stream",
     "text": [
      "\n",
      "\n",
      "\u001b[1m> Entering new AgentExecutor chain...\u001b[0m\n",
      "\u001b[32;1m\u001b[1;3m\n",
      "Invoking: `Tasks` with `What is the latest post about data product?`\n",
      "\n",
      "\n",
      "\u001b[0m\u001b[36;1m\u001b[1;3m{'query': 'What is the latest post about data product?', 'result': 'The latest update related to data products is the \"Update\" task for InventoryService, which is currently in progress. This update aims to include real-time stock updates to ensure accurate inventory levels.'}\u001b[0m\u001b[32;1m\u001b[1;3mThe latest update related to data products is the \"Update\" task for InventoryService, which is currently in progress. This update aims to include real-time stock updates to ensure accurate inventory levels.\u001b[0m\n",
      "\n",
      "\u001b[1m> Finished chain.\u001b[0m\n",
      "{'input': 'What is the latest post about data product?', 'output': 'The latest update related to data products is the \"Update\" task for InventoryService, which is currently in progress. This update aims to include real-time stock updates to ensure accurate inventory levels.'}\n"
     ]
    }
   ],
   "source": [
    "response = mrkl.invoke(\"What is the latest post about data product?\")\n",
    "print(response)"
   ]
  },
  {
   "cell_type": "code",
   "execution_count": 16,
   "metadata": {
    "execution": {
     "iopub.execute_input": "2024-04-29T07:19:50.520390Z",
     "iopub.status.busy": "2024-04-29T07:19:50.518790Z",
     "iopub.status.idle": "2024-04-29T07:19:55.487521Z",
     "shell.execute_reply": "2024-04-29T07:19:55.486842Z",
     "shell.execute_reply.started": "2024-04-29T07:19:50.520354Z"
    },
    "tags": []
   },
   "outputs": [
    {
     "name": "stdout",
     "output_type": "stream",
     "text": [
      "\n",
      "\n",
      "\u001b[1m> Entering new AgentExecutor chain...\u001b[0m\n",
      "\u001b[32;1m\u001b[1;3m\n",
      "Invoking: `Graph` with `What is the name of the teams?`\n",
      "\n",
      "\n",
      "\u001b[0m\n",
      "\n",
      "\u001b[1m> Entering new GraphCypherQAChain chain...\u001b[0m\n",
      "Generated Cypher:\n",
      "\u001b[32;1m\u001b[1;3mMATCH (t:Team) RETURN t.name\u001b[0m\n",
      "Full Context:\n",
      "\u001b[32;1m\u001b[1;3m[{'t.name': 'TeamA'}, {'t.name': 'TeamB'}, {'t.name': 'TeamC'}, {'t.name': 'TeamD'}]\u001b[0m\n",
      "\n",
      "\u001b[1m> Finished chain.\u001b[0m\n",
      "\u001b[33;1m\u001b[1;3m{'query': 'What is the name of the teams?', 'result': 'TeamA, TeamB, TeamC, TeamD'}\u001b[0m\u001b[32;1m\u001b[1;3mThe names of the teams are TeamA, TeamB, TeamC, and TeamD.\u001b[0m\n",
      "\n",
      "\u001b[1m> Finished chain.\u001b[0m\n",
      "{'input': 'What is the name of the teams?', 'output': 'The names of the teams are TeamA, TeamB, TeamC, and TeamD.'}\n"
     ]
    }
   ],
   "source": [
    "response = mrkl.invoke(\"What is the name of the teams?\")\n",
    "print(response)"
   ]
  },
  {
   "cell_type": "code",
   "execution_count": 17,
   "metadata": {
    "execution": {
     "iopub.execute_input": "2024-04-29T07:19:55.492559Z",
     "iopub.status.busy": "2024-04-29T07:19:55.490146Z",
     "iopub.status.idle": "2024-04-29T07:20:00.979903Z",
     "shell.execute_reply": "2024-04-29T07:20:00.979236Z",
     "shell.execute_reply.started": "2024-04-29T07:19:55.492518Z"
    },
    "tags": []
   },
   "outputs": [
    {
     "name": "stdout",
     "output_type": "stream",
     "text": [
      "\n",
      "\n",
      "\u001b[1m> Entering new AgentExecutor chain...\u001b[0m\n",
      "\u001b[32;1m\u001b[1;3m\n",
      "Invoking: `Graph` with `What is Alice's team?`\n",
      "\n",
      "\n",
      "\u001b[0m\n",
      "\n",
      "\u001b[1m> Entering new GraphCypherQAChain chain...\u001b[0m\n",
      "Generated Cypher:\n",
      "\u001b[32;1m\u001b[1;3mMATCH (p:Person {name: 'Alice'})-[:PART_OF]->(t:Team) RETURN t.name\u001b[0m\n",
      "Full Context:\n",
      "\u001b[32;1m\u001b[1;3m[{'t.name': 'TeamA'}]\u001b[0m\n",
      "\n",
      "\u001b[1m> Finished chain.\u001b[0m\n",
      "\u001b[33;1m\u001b[1;3m{'query': \"What is Alice's team?\", 'result': \"Alice's team is TeamA.\"}\u001b[0m\u001b[32;1m\u001b[1;3mAlice is a part of TeamA.\u001b[0m\n",
      "\n",
      "\u001b[1m> Finished chain.\u001b[0m\n",
      "{'input': \"What is Alice's team?\", 'output': 'Alice is a part of TeamA.'}\n"
     ]
    }
   ],
   "source": [
    "response = mrkl.invoke(\"What is Alice's team?\")\n",
    "print(response)"
   ]
  },
  {
   "cell_type": "code",
   "execution_count": 18,
   "metadata": {
    "execution": {
     "iopub.execute_input": "2024-04-29T07:20:00.985043Z",
     "iopub.status.busy": "2024-04-29T07:20:00.983388Z",
     "iopub.status.idle": "2024-04-29T07:20:05.909141Z",
     "shell.execute_reply": "2024-04-29T07:20:05.908372Z",
     "shell.execute_reply.started": "2024-04-29T07:20:00.985003Z"
    },
    "tags": []
   },
   "outputs": [
    {
     "name": "stdout",
     "output_type": "stream",
     "text": [
      "\n",
      "\n",
      "\u001b[1m> Entering new AgentExecutor chain...\u001b[0m\n",
      "\u001b[32;1m\u001b[1;3m\n",
      "Invoking: `Graph` with `What is Frank's team?`\n",
      "\n",
      "\n",
      "\u001b[0m\n",
      "\n",
      "\u001b[1m> Entering new GraphCypherQAChain chain...\u001b[0m\n",
      "Generated Cypher:\n",
      "\u001b[32;1m\u001b[1;3mMATCH (p:Person {name: 'Frank'})-[:PART_OF]->(t:Team) RETURN t.name\u001b[0m\n",
      "Full Context:\n",
      "\u001b[32;1m\u001b[1;3m[{'t.name': 'TeamB'}]\u001b[0m\n",
      "\n",
      "\u001b[1m> Finished chain.\u001b[0m\n",
      "\u001b[33;1m\u001b[1;3m{'query': \"What is Frank's team?\", 'result': \"Frank's team is TeamB.\"}\u001b[0m\u001b[32;1m\u001b[1;3mFrank is a part of TeamB.\u001b[0m\n",
      "\n",
      "\u001b[1m> Finished chain.\u001b[0m\n",
      "{'input': \"What is Frank's team?\", 'output': 'Frank is a part of TeamB.'}\n"
     ]
    }
   ],
   "source": [
    "response = mrkl.invoke(\"What is Frank's team?\")\n",
    "print(response)"
   ]
  },
  {
   "cell_type": "code",
   "execution_count": null,
   "metadata": {},
   "outputs": [],
   "source": []
  }
 ],
 "metadata": {
  "kernelspec": {
   "display_name": "Python 3",
   "language": "python",
   "name": "python3"
  },
  "language_info": {
   "codemirror_mode": {
    "name": "ipython",
    "version": 3
   },
   "file_extension": ".py",
   "mimetype": "text/x-python",
   "name": "python",
   "nbconvert_exporter": "python",
   "pygments_lexer": "ipython3",
   "version": "3.9.6"
  }
 },
 "nbformat": 4,
 "nbformat_minor": 4
}
