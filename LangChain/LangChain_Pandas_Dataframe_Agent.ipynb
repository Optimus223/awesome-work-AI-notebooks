{
 "cells": [
  {
   "cell_type": "markdown",
   "id": "061acb9c-37b2-4aa2-9e33-d997cca4115c",
   "metadata": {
    "papermill": {},
    "tags": []
   },
   "source": [
    "<img width=\"10%\" alt=\"Naas\" src=\"https://landen.imgix.net/jtci2pxwjczr/assets/5ice39g4.png?w=160\"/>"
   ]
  },
  {
   "cell_type": "markdown",
   "id": "821d172f-6c16-4cfa-9fac-26fe002bfc61",
   "metadata": {
    "papermill": {},
    "tags": []
   },
   "source": [
    "# LangChain - Pandas Dataframe Agent"
   ]
  },
  {
   "cell_type": "markdown",
   "id": "d6c2bd43-41b8-419d-b223-0bc1a5b91b26",
   "metadata": {
    "papermill": {},
    "tags": []
   },
   "source": [
    "**Tags:** #pandas #dataframe #agent #langchain #python #toolkit"
   ]
  },
  {
   "cell_type": "markdown",
   "id": "9f2cefe2-df28-4328-b02c-9946f13694ce",
   "metadata": {
    "papermill": {},
    "tags": []
   },
   "source": [
    "**Author:** [Florent Ravenel](https://www.linkedin.com/in/florent-ravenel/) | [Hamid Mukhtar](https://www.linkedin.com/in/mukhtar-hamid/)"
   ]
  },
  {
   "cell_type": "markdown",
   "id": "477dc5fa-ed7d-4268-934a-f59b051777d0",
   "metadata": {
    "papermill": {},
    "tags": []
   },
   "source": [
    "**Description:** This notebook shows how to use agents to interact with a pandas dataframe. It is mostly optimized for question answering."
   ]
  },
  {
   "cell_type": "markdown",
   "id": "c68d8962-ad01-43d4-8282-fc5a5a72b27a",
   "metadata": {
    "papermill": {},
    "tags": []
   },
   "source": [
    "**References:**\n",
    "- [LangChain - Pandas Dataframe Agent](https://python.langchain.com/en/latest/modules/agents/toolkits/examples/pandas.html)"
   ]
  },
  {
   "cell_type": "markdown",
   "id": "cab090ce-c853-4fed-aec3-5b2b74743fce",
   "metadata": {
    "papermill": {},
    "tags": []
   },
   "source": [
    "## Input"
   ]
  },
  {
   "cell_type": "markdown",
   "id": "9b6cfafe-0dbf-41f0-a6ec-80d55059d8e9",
   "metadata": {
    "papermill": {},
    "tags": []
   },
   "source": [
    "### Import libraries"
   ]
  },
  {
   "cell_type": "code",
   "execution_count": 2,
   "id": "1e6cb2d7-3f8d-4e59-ba07-d1514e04b1fd",
   "metadata": {
    "execution": {
     "iopub.execute_input": "2023-06-01T15:37:17.825084Z",
     "iopub.status.busy": "2023-06-01T15:37:17.824851Z",
     "iopub.status.idle": "2023-06-01T15:37:17.829337Z",
     "shell.execute_reply": "2023-06-01T15:37:17.828677Z",
     "shell.execute_reply.started": "2023-06-01T15:37:17.825059Z"
    },
    "papermill": {},
    "tags": []
   },
   "outputs": [],
   "source": [
    "try:\n",
    "    import langchain\n",
    "except:\n",
    "    !pip install langchain --user\n",
    "from langchain.agents import create_pandas_dataframe_agent\n",
    "from langchain.llms import OpenAI\n",
    "import pandas as pd\n",
    "import os"
   ]
  },
  {
   "cell_type": "markdown",
   "id": "4abd33c0-470c-4add-b993-4910963b5673",
   "metadata": {
    "papermill": {},
    "tags": []
   },
   "source": [
    "### Setup Variables\n",
    "**OpenAI API Key**\n",
    "\n",
    "Following are the steps to create a OpenAI API key.\n",
    "1. Visit the OpenAI website and sign up for an account. If you don’t want to use your email address, you can use also use an existing Google or Microsoft account to create an OpenAI account.\n",
    "2. Once you have signed up, navigate to the API section or get there by clicking your profile and selecting View API keys.\n",
    "3. To create a new OpenAI API key, click Create new secret key.\n",
    "4. Now your new OpenAI API key will be created. Be sure to remember to save the OpenAI API key somewhere secure. You won’t be able to view it again if you forget it or misplace it. You will have to create a new one.\n",
    "\n",
    "- `df`: pandas dataframe\n",
    "- `OPENAI_API_KEY`: Paste your openai API key over here."
   ]
  },
  {
   "cell_type": "code",
   "execution_count": 8,
   "id": "db406eda-2880-437e-934f-2de654c8df4c",
   "metadata": {
    "execution": {
     "iopub.execute_input": "2023-06-01T15:52:39.414549Z",
     "iopub.status.busy": "2023-06-01T15:52:39.414294Z",
     "iopub.status.idle": "2023-06-01T15:52:39.417754Z",
     "shell.execute_reply": "2023-06-01T15:52:39.417097Z",
     "shell.execute_reply.started": "2023-06-01T15:52:39.414524Z"
    }
   },
   "outputs": [],
   "source": [
    "os.environ[\"OPENAI_API_KEY\"] = \"...\""
   ]
  },
  {
   "cell_type": "code",
   "execution_count": null,
   "id": "4435ccc7-22bb-477c-bb29-e9764cb4caab",
   "metadata": {},
   "outputs": [],
   "source": [
    "file_path = \"Input_Data\""
   ]
  },
  {
   "cell_type": "code",
   "execution_count": 7,
   "id": "e5809198-c7cd-4bcd-ba12-76c99f80713a",
   "metadata": {
    "execution": {
     "iopub.execute_input": "2023-06-01T15:38:31.267766Z",
     "iopub.status.busy": "2023-06-01T15:38:31.267407Z",
     "iopub.status.idle": "2023-06-01T15:38:32.100313Z",
     "shell.execute_reply": "2023-06-01T15:38:32.099741Z",
     "shell.execute_reply.started": "2023-06-01T15:38:31.267732Z"
    },
    "papermill": {},
    "tags": []
   },
   "outputs": [],
   "source": [
    "df = pd.DataFrame(file_path)"
   ]
  },
  {
   "cell_type": "markdown",
   "id": "2b0e77e7-2991-42c5-b1ae-c4c10091cc51",
   "metadata": {
    "papermill": {},
    "tags": []
   },
   "source": [
    "## Model"
   ]
  },
  {
   "cell_type": "markdown",
   "id": "ace8f85d-86ee-4ee2-bab8-efbcd7911069",
   "metadata": {
    "papermill": {},
    "tags": []
   },
   "source": [
    "### Create Agent"
   ]
  },
  {
   "cell_type": "markdown",
   "id": "646febf1-0caa-48b9-9857-46979f93ce5f",
   "metadata": {
    "papermill": {},
    "tags": []
   },
   "source": [
    "Long description of the function without break"
   ]
  },
  {
   "cell_type": "code",
   "execution_count": null,
   "id": "1f2d0bde-ab23-459c-b8ad-ad04ef11de66",
   "metadata": {
    "execution": {
     "iopub.execute_input": "2023-06-01T14:44:07.847009Z",
     "iopub.status.busy": "2023-06-01T14:44:07.846473Z",
     "iopub.status.idle": "2023-06-01T14:44:07.893784Z",
     "shell.execute_reply": "2023-06-01T14:44:07.892776Z",
     "shell.execute_reply.started": "2023-06-01T14:44:07.846950Z"
    },
    "papermill": {},
    "tags": []
   },
   "outputs": [],
   "source": [
    "# Create Agent\n",
    "agent = create_pandas_dataframe_agent(OpenAI(temperature=0, openai_api_key=\"OPENAI_API_KEY\"), df, verbose=True)"
   ]
  },
  {
   "cell_type": "markdown",
   "id": "93761f23-dfea-4c7a-afc8-7204030e3df6",
   "metadata": {
    "papermill": {},
    "tags": []
   },
   "source": [
    "## Output"
   ]
  },
  {
   "cell_type": "markdown",
   "id": "d6984941-fb26-4bf2-bdc1-f4b8aa92f30e",
   "metadata": {
    "papermill": {},
    "tags": []
   },
   "source": [
    "### Display result"
   ]
  },
  {
   "cell_type": "code",
   "execution_count": null,
   "id": "c03ef8be-6ec7-42b0-8a3a-255cb84f7d30",
   "metadata": {
    "papermill": {},
    "tags": []
   },
   "outputs": [],
   "source": [
    "agent.run(\"how many rows are there?\")"
   ]
  },
  {
   "cell_type": "markdown",
   "id": "1c8afc6e-455c-46d1-a898-fac2c1f2099e",
   "metadata": {
    "papermill": {},
    "tags": []
   },
   "source": [
    " "
   ]
  }
 ],
 "metadata": {
  "kernelspec": {
   "display_name": "Python 3",
   "language": "python",
   "name": "python3"
  },
  "language_info": {
   "codemirror_mode": {
    "name": "ipython",
    "version": 3
   },
   "file_extension": ".py",
   "mimetype": "text/x-python",
   "name": "python",
   "nbconvert_exporter": "python",
   "pygments_lexer": "ipython3",
   "version": "3.9.6"
  },
  "widgets": {
   "application/vnd.jupyter.widget-state+json": {
    "state": {},
    "version_major": 2,
    "version_minor": 0
   }
  }
 },
 "nbformat": 4,
 "nbformat_minor": 5
}
