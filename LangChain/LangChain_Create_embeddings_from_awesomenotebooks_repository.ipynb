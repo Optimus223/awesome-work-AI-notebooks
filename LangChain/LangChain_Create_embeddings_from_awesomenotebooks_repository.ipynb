{
 "cells": [
  {
   "cell_type": "markdown",
   "id": "f416be71-768e-440b-9b84-0684999cdfbc",
   "metadata": {
    "papermill": {},
    "tags": []
   },
   "source": [
    "<img width=\"10%\" alt=\"Naas\" src=\"https://landen.imgix.net/jtci2pxwjczr/assets/5ice39g4.png?w=160\"/>"
   ]
  },
  {
   "cell_type": "markdown",
   "id": "b8cec046-7cd5-4942-af91-3c5a9b59c3dc",
   "metadata": {
    "papermill": {},
    "tags": []
   },
   "source": [
    "# LangChain - Create embeddings from awesome-notebooks repository"
   ]
  },
  {
   "cell_type": "markdown",
   "id": "fd406820-1aaa-4e05-8abd-f1d843bcec49",
   "metadata": {
    "papermill": {},
    "tags": []
   },
   "source": [
    "**Tags:** #langchain #embeddings #awesome-notebooks #nlp #text-mining #python"
   ]
  },
  {
   "cell_type": "markdown",
   "id": "d95f5b78-874e-467d-9a2b-12b8408a48e1",
   "metadata": {
    "papermill": {},
    "tags": []
   },
   "source": [
    "**Author:** [Maxime Jublou](https://www.linkedin.com/in/maximejublou/)"
   ]
  },
  {
   "cell_type": "markdown",
   "id": "aabd27e6-d7ba-48f5-8ab8-6c96eeaaa8b1",
   "metadata": {
    "papermill": {},
    "tags": []
   },
   "source": [
    "**Description:** This notebook will show how to create embeddings from the awesome-notebooks repository. It is usefull for organizations to quickly create embeddings from a large corpus of text."
   ]
  },
  {
   "cell_type": "markdown",
   "id": "2c01fed0-09a1-4806-9349-6c2f78d30c72",
   "metadata": {
    "papermill": {},
    "tags": []
   },
   "source": [
    "**References:**\n- [Awesome-notebooks repository](https://github.com/academic/awesome-datascience-notebooks)\n- [Gensim library](https://radimrehurek.com/gensim/)"
   ]
  },
  {
   "cell_type": "markdown",
   "id": "740423a4-feaf-4ce3-b095-77b54e5354e3",
   "metadata": {
    "papermill": {},
    "tags": []
   },
   "source": [
    "## Input"
   ]
  },
  {
   "cell_type": "markdown",
   "id": "6b23cc92-69d2-4f16-8d6a-7aa7178f9ed1",
   "metadata": {
    "papermill": {},
    "tags": []
   },
   "source": [
    "### Import libraries"
   ]
  },
  {
   "cell_type": "code",
   "execution_count": null,
   "id": "ebb44415-55ea-426c-9e78-d8a80332d911",
   "metadata": {
    "papermill": {},
    "tags": []
   },
   "source": "import gensim",
   "outputs": []
  },
  {
   "cell_type": "markdown",
   "id": "80f4081d-8f32-478c-b3fa-8306217ce798",
   "metadata": {
    "papermill": {},
    "tags": []
   },
   "source": [
    "### Setup Variables\n- `corpus`: path to the corpus of text\n- `embedding_size`: size of the embedding"
   ]
  },
  {
   "cell_type": "code",
   "execution_count": null,
   "id": "dcf10fdb-c33d-49ba-9356-0cb876019a2d",
   "metadata": {
    "papermill": {},
    "tags": []
   },
   "source": "corpus = \"path/to/corpus\"\nembedding_size = 300",
   "outputs": []
  },
  {
   "cell_type": "markdown",
   "id": "79a42434-5463-4f77-b15c-5be0796d4099",
   "metadata": {
    "papermill": {},
    "tags": []
   },
   "source": [
    "## Model"
   ]
  },
  {
   "cell_type": "markdown",
   "id": "1e6440a9-ed83-46dd-bb13-9d02e9cbfd6e",
   "metadata": {
    "papermill": {},
    "tags": []
   },
   "source": [
    "### Create embeddings"
   ]
  },
  {
   "cell_type": "markdown",
   "id": "2b817b37-aa7f-4bc9-a916-bedd9563f2f1",
   "metadata": {
    "papermill": {},
    "tags": []
   },
   "source": [
    "This function will create embeddings from the corpus of text."
   ]
  },
  {
   "cell_type": "code",
   "execution_count": null,
   "id": "c8c129c3-34c1-478a-8285-5098ea647fce",
   "metadata": {
    "papermill": {},
    "tags": []
   },
   "source": "def create_embeddings(corpus, embedding_size):\n    # Create embeddings\n    embeddings = gensim.models.Word2Vec(corpus, size=embedding_size)\n    return embeddings",
   "outputs": []
  },
  {
   "cell_type": "markdown",
   "id": "5ba13988-1acb-4554-8f4a-e65d79c6e2ba",
   "metadata": {
    "papermill": {},
    "tags": []
   },
   "source": [
    "## Output"
   ]
  },
  {
   "cell_type": "markdown",
   "id": "4a7237ba-fb05-4af8-9577-36b1c8cc9dba",
   "metadata": {
    "papermill": {},
    "tags": []
   },
   "source": [
    "### Display result"
   ]
  },
  {
   "cell_type": "code",
   "execution_count": null,
   "id": "9291dc2d-35e7-4810-ad5e-2f5e8ee93099",
   "metadata": {
    "papermill": {},
    "tags": []
   },
   "source": "embeddings = create_embeddings(corpus, embedding_size)\nprint(embeddings)",
   "outputs": []
  },
  {
   "cell_type": "markdown",
   "id": "15845f86-9317-4951-9016-e35dff208d6c",
   "metadata": {
    "papermill": {},
    "tags": []
   },
   "source": [
    " "
   ]
  }
 ],
 "metadata": {
  "kernelspec": {
   "display_name": "Python 3",
   "language": "python",
   "name": "python3"
  },
  "language_info": {
   "codemirror_mode": {
    "name": "ipython",
    "version": 3
   },
   "file_extension": ".py",
   "mimetype": "text/x-python",
   "name": "python",
   "nbconvert_exporter": "python",
   "pygments_lexer": "ipython3",
   "version": "3.9.6"
  },
  "widgets": {
   "application/vnd.jupyter.widget-state+json": {
    "state": {},
    "version_major": 2,
    "version_minor": 0
   }
  }
 },
 "nbformat": 4,
 "nbformat_minor": 5
}