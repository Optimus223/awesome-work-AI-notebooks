{
 "cells": [
  {
   "attachments": {},
   "cell_type": "markdown",
   "id": "5b359bbb-67cc-421c-bb24-123c5f82f14f",
   "metadata": {
    "papermill": {},
    "tags": []
   },
   "source": [
    "<img width=\"10%\" alt=\"Naas\" src=\"https://landen.imgix.net/jtci2pxwjczr/assets/5ice39g4.png?w=160\"/>"
   ]
  },
  {
   "attachments": {},
   "cell_type": "markdown",
   "id": "2ccd97c7-9b76-4fed-a21f-8580e8265fa9",
   "metadata": {
    "papermill": {},
    "tags": []
   },
   "source": [
    "# LangChain - Gmail Toolkit"
   ]
  },
  {
   "attachments": {},
   "cell_type": "markdown",
   "id": "c1e1d539-0935-4c38-8cec-351742f96603",
   "metadata": {
    "papermill": {},
    "tags": []
   },
   "source": [
    "**Tags:** #langchain #gmail #toolkit #api #email #connect"
   ]
  },
  {
   "attachments": {},
   "cell_type": "markdown",
   "id": "37b05a75-d214-4ad2-a72d-7254496121c9",
   "metadata": {
    "papermill": {},
    "tags": []
   },
   "source": [
    "**Author:** [Sriniketh Jayasendil](https://www.linkedin.com/in/sriniketh-jayasendil/)"
   ]
  },
  {
   "attachments": {},
   "cell_type": "markdown",
   "id": "7dd95074-ae2d-45ee-8c8a-4873f09ca854",
   "metadata": {
    "papermill": {},
    "tags": []
   },
   "source": [
    "**Description:** This notebook walks through connecting a LangChain email to the Gmail API. It is useful for organizations that need to integrate their email with the Gmail API."
   ]
  },
  {
   "attachments": {},
   "cell_type": "markdown",
   "id": "eb976cd4-80af-4c69-b30c-20ea94094dc9",
   "metadata": {
    "papermill": {},
    "tags": []
   },
   "source": [
    "**References:**\n",
    "- [LangChain - Gmail Toolkit](https://python.langchain.com/en/latest/modules/agents/toolkits/examples/gmail.html#gmail-toolkit)\n",
    "- [Gmail API Documentation](https://developers.google.com/gmail/api/quickstart/python#authorize_credentials_for_a_desktop_application)"
   ]
  },
  {
   "attachments": {},
   "cell_type": "markdown",
   "id": "7250ee45-888f-472d-8824-55ba13ea0393",
   "metadata": {
    "papermill": {},
    "tags": []
   },
   "source": [
    "## Input"
   ]
  },
  {
   "attachments": {},
   "cell_type": "markdown",
   "id": "6d2442bd-26f6-4faf-8fc7-d905856afb8f",
   "metadata": {
    "papermill": {},
    "tags": []
   },
   "source": [
    "### Import libraries"
   ]
  },
  {
   "cell_type": "code",
   "execution_count": null,
   "id": "b7047359-bbc1-4171-b9d0-c0f291d9f142",
   "metadata": {
    "execution": {
     "iopub.execute_input": "2023-07-05T19:54:14.096689Z",
     "iopub.status.busy": "2023-07-05T19:54:14.096461Z",
     "iopub.status.idle": "2023-07-05T19:54:14.101688Z",
     "shell.execute_reply": "2023-07-05T19:54:14.101034Z",
     "shell.execute_reply.started": "2023-07-05T19:54:14.096666Z"
    },
    "papermill": {},
    "tags": []
   },
   "outputs": [],
   "source": [
    "try:\n",
    "    import langchain\n",
    "except ModuleNotFoundError:\n",
    "    !pip install langchain\n",
    "\n",
    "from langchain.llms import OpenAI\n",
    "from langchain.agents.agent_toolkits import GmailToolkit\n",
    "from langchain.agents import initialize_agent, AgentType\n",
    "\n",
    "import naas"
   ]
  },
  {
   "attachments": {},
   "cell_type": "markdown",
   "id": "44655998-a797-43e5-83cc-567efe1f44b7",
   "metadata": {
    "papermill": {},
    "tags": []
   },
   "source": [
    "### Setup Variables\n",
    "- `CREDENTIALS_FILE`: Make sure to have the `credentials.json` (derived from Google cloud) file in the same directory of this script. You can refer to this [blog](https://blog.sriniketh.design/getting-credentials-from-gcp-google-cloud-platform) if you face any issues in getting the `.json` file\n",
    "- `OPEN_API_KEY`: [Get your API key here](https://openai.com/docs/api-overview/).\n",
    "- `temp`: Default value is 0 but preferred to have 0.7. You can change this value according to your requirements\n",
    "- `prompt`: The actual task that you want the agent to run which needs to be fed as input to the user"
   ]
  },
  {
   "attachments": {},
   "cell_type": "markdown",
   "id": "93027e0d-94af-42ed-bd79-ebed7d1a62a6",
   "metadata": {
    "papermill": {},
    "tags": []
   },
   "source": [
    "For more information on how to obtain the `CLIENT_SECRETS_FILE`, please refer to the [Gmail API Documentation](https://developers.google.com/gmail/api/quickstart/python)."
   ]
  },
  {
   "cell_type": "code",
   "execution_count": null,
   "id": "b4a078d4-f8f1-46d5-8f72-91f7c7e2662e",
   "metadata": {
    "execution": {
     "iopub.execute_input": "2023-07-05T19:51:30.405067Z",
     "iopub.status.busy": "2023-07-05T19:51:30.404642Z",
     "iopub.status.idle": "2023-07-05T19:51:30.580729Z",
     "shell.execute_reply": "2023-07-05T19:51:30.580011Z",
     "shell.execute_reply.started": "2023-07-05T19:51:30.405010Z"
    },
    "papermill": {},
    "tags": []
   },
   "outputs": [],
   "source": [
    "OPENAI_API_KEY = naas.secret.get(\"OPENAI_API_KEY\") or \"Paste-your-key-here\"\n",
    "temp = 0.7\n",
    "prompt = \"Enter your own\" or \"Create a gmail draft to send an email to the co founder seeking if there are any job role available at their startup?\""
   ]
  },
  {
   "attachments": {},
   "cell_type": "markdown",
   "id": "4b4e2823-d989-4006-8bb6-f931497bd55e",
   "metadata": {
    "papermill": {},
    "tags": []
   },
   "source": [
    "## Model"
   ]
  },
  {
   "attachments": {},
   "cell_type": "markdown",
   "id": "3956e2b3-00ed-4a62-a7f8-7ea3e29efe99",
   "metadata": {
    "papermill": {},
    "tags": []
   },
   "source": [
    "### Create the toolkit object"
   ]
  },
  {
   "cell_type": "code",
   "execution_count": null,
   "id": "28ec777e-deb2-4579-bbf3-fbce28e981da",
   "metadata": {
    "execution": {
     "iopub.execute_input": "2023-07-05T19:53:49.877481Z",
     "iopub.status.busy": "2023-07-05T19:53:49.872870Z",
     "iopub.status.idle": "2023-07-05T19:53:49.942537Z",
     "shell.execute_reply": "2023-07-05T19:53:49.940531Z",
     "shell.execute_reply.started": "2023-07-05T19:53:49.877439Z"
    },
    "papermill": {},
    "tags": []
   },
   "outputs": [],
   "source": [
    "llm = OpenAI(temperature=temp, openai_api_key=OPENAI_API_KEY)\n",
    "toolkit = GmailToolkit()"
   ]
  },
  {
   "attachments": {},
   "cell_type": "markdown",
   "id": "3bede15a",
   "metadata": {},
   "source": [
    "### Create a new Langchain Agent"
   ]
  },
  {
   "cell_type": "code",
   "execution_count": null,
   "id": "3ac9c29a",
   "metadata": {},
   "outputs": [],
   "source": [
    "agent = initialize_agent(\n",
    "    tools=toolkit.get_tools(),\n",
    "    llm=llm,\n",
    "    agent=AgentType.STRUCTURED_CHAT_ZERO_SHOT_REACT_DESCRIPTION,\n",
    ")"
   ]
  },
  {
   "attachments": {},
   "cell_type": "markdown",
   "id": "e7b30a56-8410-4ae7-a397-2ed4587ce346",
   "metadata": {
    "papermill": {},
    "tags": []
   },
   "source": [
    "## Output"
   ]
  },
  {
   "attachments": {},
   "cell_type": "markdown",
   "id": "ed53c8c0-2a2a-4411-8a10-cae936cb2df1",
   "metadata": {
    "papermill": {},
    "tags": []
   },
   "source": [
    "### Display result"
   ]
  },
  {
   "cell_type": "code",
   "execution_count": null,
   "id": "1be1deb7-e327-496d-9c56-d7297b730877",
   "metadata": {
    "papermill": {},
    "tags": []
   },
   "outputs": [],
   "source": [
    "# Print the Gmail API service object (Please not it may take sometime for the mail to refloect in your Gmail account)\n",
    "print(agent.run(prompt))"
   ]
  },
  {
   "cell_type": "code",
   "execution_count": null,
   "id": "93d5327e",
   "metadata": {},
   "outputs": [],
   "source": []
  }
 ],
 "metadata": {
  "kernelspec": {
   "display_name": "Python 3",
   "language": "python",
   "name": "python3"
  },
  "language_info": {
   "codemirror_mode": {
    "name": "ipython",
    "version": 3
   },
   "file_extension": ".py",
   "mimetype": "text/x-python",
   "name": "python",
   "nbconvert_exporter": "python",
   "pygments_lexer": "ipython3",
   "version": "3.9.13"
  },
  "widgets": {
   "application/vnd.jupyter.widget-state+json": {
    "state": {},
    "version_major": 2,
    "version_minor": 0
   }
  }
 },
 "nbformat": 4,
 "nbformat_minor": 5
}
