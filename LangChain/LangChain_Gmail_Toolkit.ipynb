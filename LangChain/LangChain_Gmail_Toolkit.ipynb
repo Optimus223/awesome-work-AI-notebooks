{
 "cells": [
  {
   "cell_type": "markdown",
   "id": "5b359bbb-67cc-421c-bb24-123c5f82f14f",
   "metadata": {
    "papermill": {},
    "tags": []
   },
   "source": [
    "<img width=\"10%\" alt=\"Naas\" src=\"https://landen.imgix.net/jtci2pxwjczr/assets/5ice39g4.png?w=160\"/>"
   ]
  },
  {
   "cell_type": "markdown",
   "id": "2ccd97c7-9b76-4fed-a21f-8580e8265fa9",
   "metadata": {
    "papermill": {},
    "tags": []
   },
   "source": [
    "# LangChain - Gmail Toolkit"
   ]
  },
  {
   "cell_type": "markdown",
   "id": "c1e1d539-0935-4c38-8cec-351742f96603",
   "metadata": {
    "papermill": {},
    "tags": []
   },
   "source": [
    "**Tags:** #langchain #gmail #toolkit #api #email #connect"
   ]
  },
  {
   "cell_type": "markdown",
   "id": "37b05a75-d214-4ad2-a72d-7254496121c9",
   "metadata": {
    "papermill": {},
    "tags": []
   },
   "source": [
    "**Author:** [Firstname LastName](https://www.linkedin.com/in/xxxxxx/)"
   ]
  },
  {
   "cell_type": "markdown",
   "id": "7dd95074-ae2d-45ee-8c8a-4873f09ca854",
   "metadata": {
    "papermill": {},
    "tags": []
   },
   "source": [
    "**Description:** This notebook walks through connecting a LangChain email to the Gmail API. It is useful for organizations that need to integrate their email with the Gmail API."
   ]
  },
  {
   "cell_type": "markdown",
   "id": "eb976cd4-80af-4c69-b30c-20ea94094dc9",
   "metadata": {
    "papermill": {},
    "tags": []
   },
   "source": [
    "**References:**\n- [LangChain - Gmail Toolkit](https://python.langchain.com/en/latest/modules/agents/toolkits/examples/gmail.html#gmail-toolkit)\n- [Gmail API Documentation](https://developers.google.com/gmail/api/quickstart/python)"
   ]
  },
  {
   "cell_type": "markdown",
   "id": "7250ee45-888f-472d-8824-55ba13ea0393",
   "metadata": {
    "papermill": {},
    "tags": []
   },
   "source": [
    "## Input"
   ]
  },
  {
   "cell_type": "markdown",
   "id": "6d2442bd-26f6-4faf-8fc7-d905856afb8f",
   "metadata": {
    "papermill": {},
    "tags": []
   },
   "source": [
    "### Import libraries"
   ]
  },
  {
   "cell_type": "code",
   "execution_count": null,
   "id": "b7047359-bbc1-4171-b9d0-c0f291d9f142",
   "metadata": {
    "papermill": {},
    "tags": []
   },
   "source": "import langchain\nimport google_auth_oauthlib.flow\nimport googleapiclient.discovery\nimport googleapiclient.errors",
   "outputs": []
  },
  {
   "cell_type": "markdown",
   "id": "44655998-a797-43e5-83cc-567efe1f44b7",
   "metadata": {
    "papermill": {},
    "tags": []
   },
   "source": [
    "### Setup Variables\n- `CLIENT_SECRETS_FILE`: Path to the client_secret.json file\n- `SCOPES`: List of scopes to be used for authentication\n- `API_SERVICE_NAME`: Name of the API service\n- `API_VERSION`: Version of the API"
   ]
  },
  {
   "cell_type": "markdown",
   "id": "93027e0d-94af-42ed-bd79-ebed7d1a62a6",
   "metadata": {
    "papermill": {},
    "tags": []
   },
   "source": [
    "For more information on how to obtain the `CLIENT_SECRETS_FILE`, please refer to the [Gmail API Documentation](https://developers.google.com/gmail/api/quickstart/python)."
   ]
  },
  {
   "cell_type": "code",
   "execution_count": null,
   "id": "b4a078d4-f8f1-46d5-8f72-91f7c7e2662e",
   "metadata": {
    "papermill": {},
    "tags": []
   },
   "source": "CLIENT_SECRETS_FILE = \"client_secret.json\"\nSCOPES = [\"https://www.googleapis.com/auth/gmail.readonly\"]\nAPI_SERVICE_NAME = \"gmail\"\nAPI_VERSION = \"v1\"",
   "outputs": []
  },
  {
   "cell_type": "markdown",
   "id": "4b4e2823-d989-4006-8bb6-f931497bd55e",
   "metadata": {
    "papermill": {},
    "tags": []
   },
   "source": [
    "## Model"
   ]
  },
  {
   "cell_type": "markdown",
   "id": "3956e2b3-00ed-4a62-a7f8-7ea3e29efe99",
   "metadata": {
    "papermill": {},
    "tags": []
   },
   "source": [
    "### Connect to Gmail API"
   ]
  },
  {
   "cell_type": "markdown",
   "id": "fbdb0749-2466-4bbc-b2ce-5747ffccd6f6",
   "metadata": {
    "papermill": {},
    "tags": []
   },
   "source": [
    "This section will walk through the steps to connect to the Gmail API using the LangChain library."
   ]
  },
  {
   "cell_type": "code",
   "execution_count": null,
   "id": "28ec777e-deb2-4579-bbf3-fbce28e981da",
   "metadata": {
    "papermill": {},
    "tags": []
   },
   "source": "# Create a flow object. This object holds the client_secrets.json file and manages authentication\nflow = google_auth_oauthlib.flow.InstalledAppFlow.from_client_secrets_file(\n    CLIENT_SECRETS_FILE, SCOPES\n)\n# Run the flow object to authenticate\ncredentials = flow.run_console()\n# Create a Gmail API service object\ngmail = googleapiclient.discovery.build(\n    API_SERVICE_NAME, API_VERSION, credentials=credentials\n)",
   "outputs": []
  },
  {
   "cell_type": "markdown",
   "id": "e7b30a56-8410-4ae7-a397-2ed4587ce346",
   "metadata": {
    "papermill": {},
    "tags": []
   },
   "source": [
    "## Output"
   ]
  },
  {
   "cell_type": "markdown",
   "id": "ed53c8c0-2a2a-4411-8a10-cae936cb2df1",
   "metadata": {
    "papermill": {},
    "tags": []
   },
   "source": [
    "### Display result"
   ]
  },
  {
   "cell_type": "code",
   "execution_count": null,
   "id": "1be1deb7-e327-496d-9c56-d7297b730877",
   "metadata": {
    "papermill": {},
    "tags": []
   },
   "source": "# Print the Gmail API service object\nprint(gmail)",
   "outputs": []
  },
  {
   "cell_type": "markdown",
   "id": "d96a7506-0d75-49b7-8072-c0ada7cfa827",
   "metadata": {
    "papermill": {},
    "tags": []
   },
   "source": [
    " "
   ]
  }
 ],
 "metadata": {
  "kernelspec": {
   "display_name": "Python 3",
   "language": "python",
   "name": "python3"
  },
  "language_info": {
   "codemirror_mode": {
    "name": "ipython",
    "version": 3
   },
   "file_extension": ".py",
   "mimetype": "text/x-python",
   "name": "python",
   "nbconvert_exporter": "python",
   "pygments_lexer": "ipython3",
   "version": "3.9.6"
  },
  "widgets": {
   "application/vnd.jupyter.widget-state+json": {
    "state": {},
    "version_major": 2,
    "version_minor": 0
   }
  }
 },
 "nbformat": 4,
 "nbformat_minor": 5
}