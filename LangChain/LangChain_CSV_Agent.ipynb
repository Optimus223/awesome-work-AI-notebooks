{
 "cells": [
  {
   "cell_type": "markdown",
   "id": "ef942509-6981-40b7-894d-4f6c33607de2",
   "metadata": {
    "papermill": {},
    "tags": []
   },
   "source": [
    "<img width=\"10%\" alt=\"Naas\" src=\"https://landen.imgix.net/jtci2pxwjczr/assets/5ice39g4.png?w=160\"/>"
   ]
  },
  {
   "cell_type": "markdown",
   "id": "ca4c2cd5-6acc-49c1-9336-72eb54c5ec83",
   "metadata": {
    "papermill": {},
    "tags": []
   },
   "source": [
    "# LangChain - CSV Agent"
   ]
  },
  {
   "cell_type": "markdown",
   "id": "df7190c7-9f84-4ef9-afed-cbeec9189bdf",
   "metadata": {
    "papermill": {},
    "tags": []
   },
   "source": [
    "**Tags:** #csv #agent #langchain #questionanswering #toolkit #example"
   ]
  },
  {
   "cell_type": "markdown",
   "id": "cda2f1ea-c2df-45c5-9329-d832077dadfb",
   "metadata": {
    "papermill": {},
    "tags": []
   },
   "source": [
    "**Author:** [Hamid Mukhtar](https://www.linkedin.com/in/mukhtar-hamid/)"
   ]
  },
  {
   "cell_type": "markdown",
   "id": "09056bc2-135e-46e8-a422-4ef3dfabf41e",
   "metadata": {
    "papermill": {},
    "tags": []
   },
   "source": [
    "**Description:** This notebook shows how to use agents to interact with a csv. It is mostly optimized for question answering."
   ]
  },
  {
   "cell_type": "markdown",
   "id": "a250dcaf-66c0-40a0-a7f5-c2ff8d50a4c6",
   "metadata": {
    "papermill": {},
    "tags": []
   },
   "source": [
    "**References:**\n- [LangChain - CSV Agent](https://python.langchain.com/en/latest/modules/agents/toolkits/examples/csv.html)\n- [LangChain - Agents](https://python.langchain.com/en/latest/modules/agents/index.html)"
   ]
  },
  {
   "cell_type": "markdown",
   "id": "70cb3b03-1af8-47b0-a299-2c798e4e0452",
   "metadata": {
    "papermill": {},
    "tags": []
   },
   "source": [
    "## Input"
   ]
  },
  {
   "cell_type": "markdown",
   "id": "4b09eaa9-5e56-44af-9be9-ecb56f8d5694",
   "metadata": {
    "papermill": {},
    "tags": []
   },
   "source": [
    "### Import libraries"
   ]
  },
  {
   "cell_type": "code",
   "execution_count": null,
   "id": "75ed8472-b913-4f7f-9109-7c08f12e2859",
   "metadata": {
    "papermill": {},
    "tags": []
   },
   "source": "import pandas as pd\nimport numpy as np",
   "outputs": []
  },
  {
   "cell_type": "markdown",
   "id": "920fbdcc-aab8-4883-9502-b40290067281",
   "metadata": {
    "papermill": {},
    "tags": []
   },
   "source": [
    "### Setup Variables\n- `csv_file`: Path to the csv file"
   ]
  },
  {
   "cell_type": "code",
   "execution_count": null,
   "id": "d451a788-6dc3-4d4f-ab73-43e8c78b0b99",
   "metadata": {
    "papermill": {},
    "tags": []
   },
   "source": "csv_file = \"data.csv\"",
   "outputs": []
  },
  {
   "cell_type": "markdown",
   "id": "ea66582f-411a-4b09-b84c-c437bf14061b",
   "metadata": {
    "papermill": {},
    "tags": []
   },
   "source": [
    "## Model"
   ]
  },
  {
   "cell_type": "markdown",
   "id": "acfde1c8-7daf-4565-a573-88d183a28385",
   "metadata": {
    "papermill": {},
    "tags": []
   },
   "source": [
    "### Read CSV"
   ]
  },
  {
   "cell_type": "markdown",
   "id": "de1fadf5-aa66-420b-b3a9-9c57e329b525",
   "metadata": {
    "papermill": {},
    "tags": []
   },
   "source": [
    "Read the csv file and store it in a pandas dataframe."
   ]
  },
  {
   "cell_type": "code",
   "execution_count": null,
   "id": "69e270a5-d039-4b8c-a1ae-6d08bc64e0bb",
   "metadata": {
    "papermill": {},
    "tags": []
   },
   "source": "df = pd.read_csv(csv_file)",
   "outputs": []
  },
  {
   "cell_type": "markdown",
   "id": "a16ca545-eb8c-41c6-9a2f-d653ee541dd4",
   "metadata": {
    "papermill": {},
    "tags": []
   },
   "source": [
    "### Answer Questions"
   ]
  },
  {
   "cell_type": "markdown",
   "id": "a6751ebf-c61e-40fa-ad8a-1fb3665c5a05",
   "metadata": {
    "papermill": {},
    "tags": []
   },
   "source": [
    "Answer questions based on the data in the csv file."
   ]
  },
  {
   "cell_type": "code",
   "execution_count": null,
   "id": "02ba1db3-121e-47a8-a5aa-29fb4e3b2f17",
   "metadata": {
    "papermill": {},
    "tags": []
   },
   "source": "def answer_question(question):\n    # TODO: Implement question answering logic\n    pass",
   "outputs": []
  },
  {
   "cell_type": "markdown",
   "id": "b8ad8602-4067-4b6a-bcc7-e22caa6bcf61",
   "metadata": {
    "papermill": {},
    "tags": []
   },
   "source": [
    "## Output"
   ]
  },
  {
   "cell_type": "markdown",
   "id": "74174d68-7efc-4810-8b0d-9dce5be962ec",
   "metadata": {
    "papermill": {},
    "tags": []
   },
   "source": [
    "### Display result"
   ]
  },
  {
   "cell_type": "code",
   "execution_count": null,
   "id": "330493e7-fd2e-432e-ac74-b4d3aa98a931",
   "metadata": {
    "papermill": {},
    "tags": []
   },
   "source": "question = \"What is the average age of the people in the dataset?\"\nanswer = answer_question(question)\nprint(f\"Q: {question}\")\nprint(f\"A: {answer}\")",
   "outputs": []
  },
  {
   "cell_type": "markdown",
   "id": "0df1bc9b-9f21-4d02-8998-a4a356420497",
   "metadata": {
    "papermill": {},
    "tags": []
   },
   "source": [
    " "
   ]
  }
 ],
 "metadata": {
  "kernelspec": {
   "display_name": "Python 3",
   "language": "python",
   "name": "python3"
  },
  "language_info": {
   "codemirror_mode": {
    "name": "ipython",
    "version": 3
   },
   "file_extension": ".py",
   "mimetype": "text/x-python",
   "name": "python",
   "nbconvert_exporter": "python",
   "pygments_lexer": "ipython3",
   "version": "3.9.6"
  },
  "widgets": {
   "application/vnd.jupyter.widget-state+json": {
    "state": {},
    "version_major": 2,
    "version_minor": 0
   }
  }
 },
 "nbformat": 4,
 "nbformat_minor": 5
}