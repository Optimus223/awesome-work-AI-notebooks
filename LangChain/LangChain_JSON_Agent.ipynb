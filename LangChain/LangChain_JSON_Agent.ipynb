{
 "cells": [
  {
   "cell_type": "markdown",
   "id": "d5c27438-2100-431d-98dd-83acf6d5cbc1",
   "metadata": {
    "papermill": {},
    "tags": []
   },
   "source": [
    "<img width=\"10%\" alt=\"Naas\" src=\"https://landen.imgix.net/jtci2pxwjczr/assets/5ice39g4.png?w=160\"/>"
   ]
  },
  {
   "cell_type": "markdown",
   "id": "8b45064a-f828-4ceb-a819-b6793a40c390",
   "metadata": {
    "papermill": {},
    "tags": []
   },
   "source": [
    "# LangChain - JSON Agent"
   ]
  },
  {
   "cell_type": "markdown",
   "id": "ed5d0c25-7509-4bfa-be94-4b8dd761248c",
   "metadata": {
    "papermill": {},
    "tags": []
   },
   "source": [
    "**Tags:** #json #agent #langchain #toolkit #example #python"
   ]
  },
  {
   "cell_type": "markdown",
   "id": "cbcedf68-cc36-40b8-8545-9160bb3bed0b",
   "metadata": {
    "papermill": {},
    "tags": []
   },
   "source": [
    "**Author:** [Firstname LastName](https://www.linkedin.com/in/xxxxxx/)"
   ]
  },
  {
   "cell_type": "markdown",
   "id": "7d7db12a-6bac-417b-a7f9-cdb6f2d17e2e",
   "metadata": {
    "papermill": {},
    "tags": []
   },
   "source": [
    "**Description:** This notebook showcases an agent designed to interact with large JSON/dict objects. This is useful when you want to answer questions about a JSON blob that\u2019s too large to fit in the context window of an LLM. The agent is able to iteratively explore the blob to find what it needs to answer the user\u2019s question."
   ]
  },
  {
   "cell_type": "markdown",
   "id": "93bca588-94f5-4abb-b541-c61e67c35f3f",
   "metadata": {
    "papermill": {},
    "tags": []
   },
   "source": [
    "**References:**\n- [LangChain - JSON Agent](https://python.langchain.com/en/latest/modules/agents/toolkits/examples/json.html)"
   ]
  },
  {
   "cell_type": "markdown",
   "id": "7e42edcc-0625-41c3-bf67-5fcfc15e42a0",
   "metadata": {
    "papermill": {},
    "tags": []
   },
   "source": [
    "## Input"
   ]
  },
  {
   "cell_type": "markdown",
   "id": "d046cdab-7c8d-47a8-a7c7-2962694081d4",
   "metadata": {
    "papermill": {},
    "tags": []
   },
   "source": [
    "### Import libraries"
   ]
  },
  {
   "cell_type": "code",
   "execution_count": null,
   "id": "0ac85822-555b-45d9-a831-d4410ee31d03",
   "metadata": {
    "papermill": {},
    "tags": []
   },
   "source": "import json\nimport requests",
   "outputs": []
  },
  {
   "cell_type": "markdown",
   "id": "89697d78-5044-4b94-8601-701992c1031e",
   "metadata": {
    "papermill": {},
    "tags": []
   },
   "source": [
    "### Setup Variables\n- `url`: URL of the JSON object"
   ]
  },
  {
   "cell_type": "code",
   "execution_count": null,
   "id": "d2f27a8b-0571-4f15-8cb1-4aae6c976023",
   "metadata": {
    "papermill": {},
    "tags": []
   },
   "source": "url = \"https://jsonplaceholder.typicode.com/todos/1\"",
   "outputs": []
  },
  {
   "cell_type": "markdown",
   "id": "6232b70f-90fa-477f-860b-dd5745e75f13",
   "metadata": {
    "papermill": {},
    "tags": []
   },
   "source": [
    "## Model"
   ]
  },
  {
   "cell_type": "markdown",
   "id": "8008449d-a44d-470a-948a-46afe7536194",
   "metadata": {
    "papermill": {},
    "tags": []
   },
   "source": [
    "### Get JSON object"
   ]
  },
  {
   "cell_type": "markdown",
   "id": "effa0a8c-1991-42d3-8af5-bb4404346e0b",
   "metadata": {
    "papermill": {},
    "tags": []
   },
   "source": [
    "Long description of the function: This function will get the JSON object from the URL provided."
   ]
  },
  {
   "cell_type": "code",
   "execution_count": null,
   "id": "7bb0075e-45c1-4a6e-8554-d1f020e3ea17",
   "metadata": {
    "papermill": {},
    "tags": []
   },
   "source": "response = requests.get(url)\ndata = response.json()",
   "outputs": []
  },
  {
   "cell_type": "markdown",
   "id": "31389910-44ad-47ca-a055-5539db5eb7b8",
   "metadata": {
    "papermill": {},
    "tags": []
   },
   "source": [
    "## Output"
   ]
  },
  {
   "cell_type": "markdown",
   "id": "d4414a3c-4bb0-4ade-a59b-82581e6c154c",
   "metadata": {
    "papermill": {},
    "tags": []
   },
   "source": [
    "### Display result"
   ]
  },
  {
   "cell_type": "code",
   "execution_count": null,
   "id": "e9bb50bc-60e5-401b-895e-afdab834b7af",
   "metadata": {
    "papermill": {},
    "tags": []
   },
   "source": "print(data)",
   "outputs": []
  }
 ],
 "metadata": {
  "kernelspec": {
   "display_name": "Python 3",
   "language": "python",
   "name": "python3"
  },
  "language_info": {
   "codemirror_mode": {
    "name": "ipython",
    "version": 3
   },
   "file_extension": ".py",
   "mimetype": "text/x-python",
   "name": "python",
   "nbconvert_exporter": "python",
   "pygments_lexer": "ipython3",
   "version": "3.9.6"
  },
  "widgets": {
   "application/vnd.jupyter.widget-state+json": {
    "state": {},
    "version_major": 2,
    "version_minor": 0
   }
  }
 },
 "nbformat": 4,
 "nbformat_minor": 5
}