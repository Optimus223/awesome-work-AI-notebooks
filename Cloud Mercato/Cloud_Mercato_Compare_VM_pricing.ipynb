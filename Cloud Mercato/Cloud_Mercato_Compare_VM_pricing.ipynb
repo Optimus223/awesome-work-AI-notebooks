{
 "cells": [
  {
   "cell_type": "markdown",
   "id": "latin-packing",
   "metadata": {
    "execution": {
     "iopub.execute_input": "2021-02-23T14:22:16.610471Z",
     "iopub.status.busy": "2021-02-23T14:22:16.610129Z",
     "iopub.status.idle": "2021-02-23T14:22:16.627784Z",
     "shell.execute_reply": "2021-02-23T14:22:16.626866Z",
     "shell.execute_reply.started": "2021-02-23T14:22:16.610384Z"
    },
    "papermill": {},
    "tags": []
   },
   "source": [
    "<img width=\"10%\" alt=\"Naas\" src=\"https://landen.imgix.net/jtci2pxwjczr/assets/5ice39g4.png?w=160\"/>"
   ]
  },
  {
   "cell_type": "markdown",
   "id": "compressed-wilson",
   "metadata": {
    "papermill": {},
    "tags": []
   },
   "source": [
    "# Cloud Mercato - Compare VM pricing\n",
    "<a href=\"https://app.naas.ai/user-redirect/naas/downloader?url=https://raw.githubusercontent.com/jupyter-naas/awesome-notebooks/master/template.ipynb\" target=\"_parent\">\n",
    "<img src=\"https://img.shields.io/badge/-Open%20in%20Naas-success?labelColor=000000&logo=data:image/svg+xml;base64,PD94bWwgdmVyc2lvbj0iMS4wIiBlbmNvZGluZz0iVVRGLTgiPz4KPHN2ZyB3aWR0aD0iMTAyNHB4IiBoZWlnaHQ9IjEwMjRweCIgdmlld0JveD0iMCAwIDEwMjQgMTAyNCIgeG1sbnM9Imh0dHA6Ly93d3cudzMub3JnLzIwMDAvc3ZnIiB4bWxuczp4bGluaz0iaHR0cDovL3d3dy53My5vcmcvMTk5OS94bGluayIgdmVyc2lvbj0iMS4xIj4KIDwhLS0gR2VuZXJhdGVkIGJ5IFBpeGVsbWF0b3IgUHJvIDIuMC41IC0tPgogPGRlZnM+CiAgPHRleHQgaWQ9InN0cmluZyIgdHJhbnNmb3JtPSJtYXRyaXgoMS4wIDAuMCAwLjAgMS4wIDIyOC4wIDU0LjUpIiBmb250LWZhbWlseT0iQ29tZm9ydGFhLVJlZ3VsYXIsIENvbWZvcnRhYSIgZm9udC1zaXplPSI4MDAiIHRleHQtZGVjb3JhdGlvbj0ibm9uZSIgZmlsbD0iI2ZmZmZmZiIgeD0iMS4xOTk5OTk5OTk5OTk5ODg2IiB5PSI3MDUuMCI+bjwvdGV4dD4KIDwvZGVmcz4KIDx1c2UgaWQ9Im4iIHhsaW5rOmhyZWY9IiNzdHJpbmciLz4KPC9zdmc+Cg==\"/>\n",
    "</a>"
   ]
  },
  {
   "cell_type": "markdown",
   "id": "religious-programmer",
   "metadata": {},
   "source": [
    "**Tags:** #cloud #infrastruture #pricing #vm #iaas #analytics #compute"
   ]
  },
  {
   "cell_type": "markdown",
   "id": "1fe9f56e-561c-4f52-aef8-b861c9462107",
   "metadata": {},
   "source": [
    "**Author:** [Anthony Monthe](https://www.linkedin.com/in/anthonymonthe/)"
   ]
  },
  {
   "cell_type": "markdown",
   "id": "31ea7cdb-e10d-43fc-b026-f69249a59736",
   "metadata": {},
   "source": [
    "With this notebook, you will be able to get a table of all the major VMs using RAM and CPU as an input, and get all the pricing and billing options as output.<br>\n",
    "*Disclaimer: prices are the latest collected by Cloud-Mercato*"
   ]
  },
  {
   "cell_type": "markdown",
   "id": "distinguished-truth",
   "metadata": {
    "papermill": {},
    "tags": []
   },
   "source": [
    "## Input"
   ]
  },
  {
   "cell_type": "markdown",
   "id": "numeric-mediterranean",
   "metadata": {},
   "source": [
    "### Import libraries"
   ]
  },
  {
   "cell_type": "code",
   "execution_count": 44,
   "id": "potential-surfing",
   "metadata": {
    "execution": {
     "iopub.execute_input": "2022-10-10T16:20:20.705812Z",
     "iopub.status.busy": "2022-10-10T16:20:20.705588Z",
     "iopub.status.idle": "2022-10-10T16:20:20.708663Z",
     "shell.execute_reply": "2022-10-10T16:20:20.708037Z",
     "shell.execute_reply.started": "2022-10-10T16:20:20.705789Z"
    },
    "tags": []
   },
   "outputs": [],
   "source": [
    "import requests\n",
    "import pandas as pd\n",
    "import naas"
   ]
  },
  {
   "cell_type": "markdown",
   "id": "aggressive-trustee",
   "metadata": {},
   "source": [
    "### Setup Variables"
   ]
  },
  {
   "cell_type": "markdown",
   "id": "bf5fbb88-5f73-4529-bfc4-a336b08c090b",
   "metadata": {
    "execution": {
     "iopub.execute_input": "2022-10-28T12:47:26.159302Z",
     "iopub.status.busy": "2022-10-28T12:47:26.158993Z",
     "iopub.status.idle": "2022-10-28T12:47:26.168106Z",
     "shell.execute_reply": "2022-10-28T12:47:26.167139Z",
     "shell.execute_reply.started": "2022-10-28T12:47:26.159270Z"
    },
    "tags": []
   },
   "source": [
    "- [Create your token](graphql.cloud-mercato.com)\n",
    "- You can access data without a token but you are limited to 3 requests/days\n",
    "- Get a paid account to have access to VM with +16 CPUs"
   ]
  },
  {
   "cell_type": "code",
   "execution_count": 45,
   "id": "continuous-melbourne",
   "metadata": {
    "execution": {
     "iopub.execute_input": "2022-10-10T16:20:27.280186Z",
     "iopub.status.busy": "2022-10-10T16:20:27.279945Z",
     "iopub.status.idle": "2022-10-10T16:20:27.287650Z",
     "shell.execute_reply": "2022-10-10T16:20:27.286971Z",
     "shell.execute_reply.started": "2022-10-10T16:20:27.280161Z"
    },
    "tags": []
   },
   "outputs": [],
   "source": [
    "# Input\n",
    "CPU = 4 #  in CPU number\n",
    "RAM = 2  # in GB\n",
    "# Anonymous users are limited\n",
    "TOKEN = None\n",
    "\n",
    "# Output\n",
    "csv_output = \"cloud-mercato-vm-pricing.csv\""
   ]
  },
  {
   "cell_type": "markdown",
   "id": "registered-showcase",
   "metadata": {},
   "source": [
    "## Model"
   ]
  },
  {
   "cell_type": "markdown",
   "id": "f5c5eab8-47d8-41ec-8296-8969a118caab",
   "metadata": {},
   "source": [
    "### Declare constants"
   ]
  },
  {
   "cell_type": "code",
   "execution_count": 46,
   "id": "c9380282-8201-42c6-93c2-3372f1ba46ee",
   "metadata": {
    "execution": {
     "iopub.execute_input": "2022-10-10T16:20:35.831302Z",
     "iopub.status.busy": "2022-10-10T16:20:35.831058Z",
     "iopub.status.idle": "2022-10-10T16:20:35.835140Z",
     "shell.execute_reply": "2022-10-10T16:20:35.834498Z",
     "shell.execute_reply.started": "2022-10-10T16:20:35.831276Z"
    },
    "tags": []
   },
   "outputs": [],
   "source": [
    "COLUMN_PARAMS = {\n",
    "    \"table-col-provider\": \"on\",\n",
    "    \"table-col-name\": \"on\",\n",
    "    \"table-col-cpu_number\": \"on\",\n",
    "    \"table-col-ram\": \"on\",\n",
    "    \"table-col-hourly\": \"on\",\n",
    "    \"table-col-monthly\": \"on\",\n",
    "    \"table-col-yearly1_noupfront\": \"on\",\n",
    "    \"table-col-yearly1_parupfront\": \"on\",\n",
    "    \"table-col-yearly1_parupfront_fee\": \"on\",\n",
    "    \"table-col-yearly1_allupfront_fee\": \"on\",\n",
    "    \"table-col-yearly2_noupfront\": \"on\",\n",
    "    \"table-col-yearly2_parupfront\": \"on\",\n",
    "    \"table-col-yearly2_parupfront_fee\": \"on\",\n",
    "    \"table-col-yearly2_allupfront_fee\": \"on\",\n",
    "    \"table-col-yearly3_noupfront\": \"on\",\n",
    "    \"table-col-yearly3_parupfront\": \"on\",\n",
    "    \"table-col-yearly3_parupfront_fee\": \"on\",\n",
    "    \"table-col-yearly3_allupfront_fee\": \"on\",\n",
    "    \"table-col-currency\": \"on\",\n",
    "    \"table-col-rate\": \"on\",\n",
    "}"
   ]
  },
  {
   "cell_type": "code",
   "execution_count": 47,
   "id": "0c9dd47c-9333-4803-9db1-30f3565fef32",
   "metadata": {
    "execution": {
     "iopub.execute_input": "2022-10-10T16:20:37.218208Z",
     "iopub.status.busy": "2022-10-10T16:20:37.217979Z",
     "iopub.status.idle": "2022-10-10T16:20:37.221376Z",
     "shell.execute_reply": "2022-10-10T16:20:37.220741Z",
     "shell.execute_reply.started": "2022-10-10T16:20:37.218184Z"
    },
    "tags": []
   },
   "outputs": [],
   "source": [
    "FILTER_PARAMS = {\n",
    "    \"cpu_number_min\": CPU,\n",
    "    \"cpu_number_max\": CPU,\n",
    "    \"ram_min\": RAM-1,\n",
    "    \"ram_max\": RAM+1,\n",
    "    \"currency-currency\": \"USD\"\n",
    "}"
   ]
  },
  {
   "cell_type": "markdown",
   "id": "tested-astrology",
   "metadata": {},
   "source": [
    "### Get data using request"
   ]
  },
  {
   "cell_type": "code",
   "execution_count": 48,
   "id": "crude-louisville",
   "metadata": {
    "execution": {
     "iopub.execute_input": "2022-10-10T16:20:42.963579Z",
     "iopub.status.busy": "2022-10-10T16:20:42.963287Z",
     "iopub.status.idle": "2022-10-10T16:20:43.208197Z",
     "shell.execute_reply": "2022-10-10T16:20:43.207553Z",
     "shell.execute_reply.started": "2022-10-10T16:20:42.963553Z"
    },
    "papermill": {},
    "tags": []
   },
   "outputs": [
    {
     "name": "stdout",
     "output_type": "stream",
     "text": [
      "Shape:  (11, 20)\n"
     ]
    },
    {
     "data": {
      "text/html": [
       "<div>\n",
       "<style scoped>\n",
       "    .dataframe tbody tr th:only-of-type {\n",
       "        vertical-align: middle;\n",
       "    }\n",
       "\n",
       "    .dataframe tbody tr th {\n",
       "        vertical-align: top;\n",
       "    }\n",
       "\n",
       "    .dataframe thead th {\n",
       "        text-align: right;\n",
       "    }\n",
       "</style>\n",
       "<table border=\"1\" class=\"dataframe\">\n",
       "  <thead>\n",
       "    <tr style=\"text-align: right;\">\n",
       "      <th></th>\n",
       "      <th>Provider</th>\n",
       "      <th>Name</th>\n",
       "      <th>CPU</th>\n",
       "      <th>RAM</th>\n",
       "      <th>Hourly</th>\n",
       "      <th>Monthly</th>\n",
       "      <th>Yearly no up.</th>\n",
       "      <th>Yearly par up.</th>\n",
       "      <th>Yearly par up. fee</th>\n",
       "      <th>Yearly all up.</th>\n",
       "      <th>2-Years no up.</th>\n",
       "      <th>2-Years par up.</th>\n",
       "      <th>2-Years par up. fee</th>\n",
       "      <th>2-Years all up.</th>\n",
       "      <th>3-Years no up.</th>\n",
       "      <th>3-Years par up.</th>\n",
       "      <th>3-Years par up. fee</th>\n",
       "      <th>3-Years all up.</th>\n",
       "      <th>Currency</th>\n",
       "      <th>Rate</th>\n",
       "    </tr>\n",
       "  </thead>\n",
       "  <tbody>\n",
       "    <tr>\n",
       "      <th>0</th>\n",
       "      <td>Oracle</td>\n",
       "      <td>VM.Standard.A1.Flex.4-1</td>\n",
       "      <td>4</td>\n",
       "      <td>1024</td>\n",
       "      <td>0.0220</td>\n",
       "      <td>NaN</td>\n",
       "      <td>NaN</td>\n",
       "      <td>NaN</td>\n",
       "      <td>NaN</td>\n",
       "      <td>NaN</td>\n",
       "      <td>NaN</td>\n",
       "      <td>NaN</td>\n",
       "      <td>NaN</td>\n",
       "      <td>NaN</td>\n",
       "      <td>NaN</td>\n",
       "      <td>NaN</td>\n",
       "      <td>NaN</td>\n",
       "      <td>NaN</td>\n",
       "      <td>USD</td>\n",
       "      <td>1.00</td>\n",
       "    </tr>\n",
       "    <tr>\n",
       "      <th>1</th>\n",
       "      <td>Oracle</td>\n",
       "      <td>VM.Standard.A1.Flex.4-2</td>\n",
       "      <td>4</td>\n",
       "      <td>2048</td>\n",
       "      <td>0.0230</td>\n",
       "      <td>NaN</td>\n",
       "      <td>NaN</td>\n",
       "      <td>NaN</td>\n",
       "      <td>NaN</td>\n",
       "      <td>NaN</td>\n",
       "      <td>NaN</td>\n",
       "      <td>NaN</td>\n",
       "      <td>NaN</td>\n",
       "      <td>NaN</td>\n",
       "      <td>NaN</td>\n",
       "      <td>NaN</td>\n",
       "      <td>NaN</td>\n",
       "      <td>NaN</td>\n",
       "      <td>USD</td>\n",
       "      <td>1.00</td>\n",
       "    </tr>\n",
       "    <tr>\n",
       "      <th>2</th>\n",
       "      <td>Oracle</td>\n",
       "      <td>VM.Standard.A1.Flex.4-3</td>\n",
       "      <td>4</td>\n",
       "      <td>3072</td>\n",
       "      <td>0.0240</td>\n",
       "      <td>NaN</td>\n",
       "      <td>NaN</td>\n",
       "      <td>NaN</td>\n",
       "      <td>NaN</td>\n",
       "      <td>NaN</td>\n",
       "      <td>NaN</td>\n",
       "      <td>NaN</td>\n",
       "      <td>NaN</td>\n",
       "      <td>NaN</td>\n",
       "      <td>NaN</td>\n",
       "      <td>NaN</td>\n",
       "      <td>NaN</td>\n",
       "      <td>NaN</td>\n",
       "      <td>USD</td>\n",
       "      <td>1.00</td>\n",
       "    </tr>\n",
       "    <tr>\n",
       "      <th>3</th>\n",
       "      <td>Oracle</td>\n",
       "      <td>VM.Standard.E3.Flex.2-1</td>\n",
       "      <td>4</td>\n",
       "      <td>1024</td>\n",
       "      <td>0.0520</td>\n",
       "      <td>37.00</td>\n",
       "      <td>NaN</td>\n",
       "      <td>NaN</td>\n",
       "      <td>NaN</td>\n",
       "      <td>NaN</td>\n",
       "      <td>NaN</td>\n",
       "      <td>NaN</td>\n",
       "      <td>NaN</td>\n",
       "      <td>NaN</td>\n",
       "      <td>NaN</td>\n",
       "      <td>NaN</td>\n",
       "      <td>NaN</td>\n",
       "      <td>NaN</td>\n",
       "      <td>USD</td>\n",
       "      <td>1.00</td>\n",
       "    </tr>\n",
       "    <tr>\n",
       "      <th>4</th>\n",
       "      <td>Oracle</td>\n",
       "      <td>VM.Standard.E3.Flex.2-2</td>\n",
       "      <td>4</td>\n",
       "      <td>2048</td>\n",
       "      <td>0.0530</td>\n",
       "      <td>38.00</td>\n",
       "      <td>NaN</td>\n",
       "      <td>NaN</td>\n",
       "      <td>NaN</td>\n",
       "      <td>NaN</td>\n",
       "      <td>NaN</td>\n",
       "      <td>NaN</td>\n",
       "      <td>NaN</td>\n",
       "      <td>NaN</td>\n",
       "      <td>NaN</td>\n",
       "      <td>NaN</td>\n",
       "      <td>NaN</td>\n",
       "      <td>NaN</td>\n",
       "      <td>USD</td>\n",
       "      <td>1.00</td>\n",
       "    </tr>\n",
       "    <tr>\n",
       "      <th>5</th>\n",
       "      <td>Oracle</td>\n",
       "      <td>VM.Standard.E3.Flex.2-3</td>\n",
       "      <td>4</td>\n",
       "      <td>3072</td>\n",
       "      <td>0.0550</td>\n",
       "      <td>39.00</td>\n",
       "      <td>NaN</td>\n",
       "      <td>NaN</td>\n",
       "      <td>NaN</td>\n",
       "      <td>NaN</td>\n",
       "      <td>NaN</td>\n",
       "      <td>NaN</td>\n",
       "      <td>NaN</td>\n",
       "      <td>NaN</td>\n",
       "      <td>NaN</td>\n",
       "      <td>NaN</td>\n",
       "      <td>NaN</td>\n",
       "      <td>NaN</td>\n",
       "      <td>USD</td>\n",
       "      <td>1.00</td>\n",
       "    </tr>\n",
       "    <tr>\n",
       "      <th>6</th>\n",
       "      <td>Oracle</td>\n",
       "      <td>VM.Standard.E4.Flex.2-1</td>\n",
       "      <td>4</td>\n",
       "      <td>1024</td>\n",
       "      <td>0.0520</td>\n",
       "      <td>NaN</td>\n",
       "      <td>NaN</td>\n",
       "      <td>NaN</td>\n",
       "      <td>NaN</td>\n",
       "      <td>NaN</td>\n",
       "      <td>NaN</td>\n",
       "      <td>NaN</td>\n",
       "      <td>NaN</td>\n",
       "      <td>NaN</td>\n",
       "      <td>NaN</td>\n",
       "      <td>NaN</td>\n",
       "      <td>NaN</td>\n",
       "      <td>NaN</td>\n",
       "      <td>USD</td>\n",
       "      <td>1.00</td>\n",
       "    </tr>\n",
       "    <tr>\n",
       "      <th>7</th>\n",
       "      <td>Oracle</td>\n",
       "      <td>VM.Standard.E4.Flex.2-2</td>\n",
       "      <td>4</td>\n",
       "      <td>2048</td>\n",
       "      <td>0.0530</td>\n",
       "      <td>NaN</td>\n",
       "      <td>NaN</td>\n",
       "      <td>NaN</td>\n",
       "      <td>NaN</td>\n",
       "      <td>NaN</td>\n",
       "      <td>NaN</td>\n",
       "      <td>NaN</td>\n",
       "      <td>NaN</td>\n",
       "      <td>NaN</td>\n",
       "      <td>NaN</td>\n",
       "      <td>NaN</td>\n",
       "      <td>NaN</td>\n",
       "      <td>NaN</td>\n",
       "      <td>USD</td>\n",
       "      <td>1.00</td>\n",
       "    </tr>\n",
       "    <tr>\n",
       "      <th>8</th>\n",
       "      <td>Oracle</td>\n",
       "      <td>VM.Standard.E4.Flex.2-3</td>\n",
       "      <td>4</td>\n",
       "      <td>3072</td>\n",
       "      <td>0.0550</td>\n",
       "      <td>NaN</td>\n",
       "      <td>NaN</td>\n",
       "      <td>NaN</td>\n",
       "      <td>NaN</td>\n",
       "      <td>NaN</td>\n",
       "      <td>NaN</td>\n",
       "      <td>NaN</td>\n",
       "      <td>NaN</td>\n",
       "      <td>NaN</td>\n",
       "      <td>NaN</td>\n",
       "      <td>NaN</td>\n",
       "      <td>NaN</td>\n",
       "      <td>NaN</td>\n",
       "      <td>USD</td>\n",
       "      <td>1.00</td>\n",
       "    </tr>\n",
       "    <tr>\n",
       "      <th>9</th>\n",
       "      <td>Scaleway</td>\n",
       "      <td>ARM64-2GB</td>\n",
       "      <td>4</td>\n",
       "      <td>2048</td>\n",
       "      <td>0.0058</td>\n",
       "      <td>4.21</td>\n",
       "      <td>NaN</td>\n",
       "      <td>NaN</td>\n",
       "      <td>NaN</td>\n",
       "      <td>NaN</td>\n",
       "      <td>NaN</td>\n",
       "      <td>NaN</td>\n",
       "      <td>NaN</td>\n",
       "      <td>NaN</td>\n",
       "      <td>NaN</td>\n",
       "      <td>NaN</td>\n",
       "      <td>NaN</td>\n",
       "      <td>NaN</td>\n",
       "      <td>EUR</td>\n",
       "      <td>0.97</td>\n",
       "    </tr>\n",
       "    <tr>\n",
       "      <th>10</th>\n",
       "      <td>Scaleway</td>\n",
       "      <td>C1</td>\n",
       "      <td>4</td>\n",
       "      <td>2048</td>\n",
       "      <td>0.0058</td>\n",
       "      <td>4.21</td>\n",
       "      <td>NaN</td>\n",
       "      <td>NaN</td>\n",
       "      <td>NaN</td>\n",
       "      <td>NaN</td>\n",
       "      <td>NaN</td>\n",
       "      <td>NaN</td>\n",
       "      <td>NaN</td>\n",
       "      <td>NaN</td>\n",
       "      <td>NaN</td>\n",
       "      <td>NaN</td>\n",
       "      <td>NaN</td>\n",
       "      <td>NaN</td>\n",
       "      <td>EUR</td>\n",
       "      <td>0.97</td>\n",
       "    </tr>\n",
       "  </tbody>\n",
       "</table>\n",
       "</div>"
      ],
      "text/plain": [
       "    Provider                     Name  CPU   RAM  Hourly  Monthly  \\\n",
       "0     Oracle  VM.Standard.A1.Flex.4-1    4  1024  0.0220      NaN   \n",
       "1     Oracle  VM.Standard.A1.Flex.4-2    4  2048  0.0230      NaN   \n",
       "2     Oracle  VM.Standard.A1.Flex.4-3    4  3072  0.0240      NaN   \n",
       "3     Oracle  VM.Standard.E3.Flex.2-1    4  1024  0.0520    37.00   \n",
       "4     Oracle  VM.Standard.E3.Flex.2-2    4  2048  0.0530    38.00   \n",
       "5     Oracle  VM.Standard.E3.Flex.2-3    4  3072  0.0550    39.00   \n",
       "6     Oracle  VM.Standard.E4.Flex.2-1    4  1024  0.0520      NaN   \n",
       "7     Oracle  VM.Standard.E4.Flex.2-2    4  2048  0.0530      NaN   \n",
       "8     Oracle  VM.Standard.E4.Flex.2-3    4  3072  0.0550      NaN   \n",
       "9   Scaleway                ARM64-2GB    4  2048  0.0058     4.21   \n",
       "10  Scaleway                       C1    4  2048  0.0058     4.21   \n",
       "\n",
       "    Yearly no up.  Yearly par up.  Yearly par up. fee  Yearly all up.  \\\n",
       "0             NaN             NaN                 NaN             NaN   \n",
       "1             NaN             NaN                 NaN             NaN   \n",
       "2             NaN             NaN                 NaN             NaN   \n",
       "3             NaN             NaN                 NaN             NaN   \n",
       "4             NaN             NaN                 NaN             NaN   \n",
       "5             NaN             NaN                 NaN             NaN   \n",
       "6             NaN             NaN                 NaN             NaN   \n",
       "7             NaN             NaN                 NaN             NaN   \n",
       "8             NaN             NaN                 NaN             NaN   \n",
       "9             NaN             NaN                 NaN             NaN   \n",
       "10            NaN             NaN                 NaN             NaN   \n",
       "\n",
       "    2-Years no up.  2-Years par up.  2-Years par up. fee  2-Years all up.  \\\n",
       "0              NaN              NaN                  NaN              NaN   \n",
       "1              NaN              NaN                  NaN              NaN   \n",
       "2              NaN              NaN                  NaN              NaN   \n",
       "3              NaN              NaN                  NaN              NaN   \n",
       "4              NaN              NaN                  NaN              NaN   \n",
       "5              NaN              NaN                  NaN              NaN   \n",
       "6              NaN              NaN                  NaN              NaN   \n",
       "7              NaN              NaN                  NaN              NaN   \n",
       "8              NaN              NaN                  NaN              NaN   \n",
       "9              NaN              NaN                  NaN              NaN   \n",
       "10             NaN              NaN                  NaN              NaN   \n",
       "\n",
       "    3-Years no up.  3-Years par up.  3-Years par up. fee  3-Years all up.  \\\n",
       "0              NaN              NaN                  NaN              NaN   \n",
       "1              NaN              NaN                  NaN              NaN   \n",
       "2              NaN              NaN                  NaN              NaN   \n",
       "3              NaN              NaN                  NaN              NaN   \n",
       "4              NaN              NaN                  NaN              NaN   \n",
       "5              NaN              NaN                  NaN              NaN   \n",
       "6              NaN              NaN                  NaN              NaN   \n",
       "7              NaN              NaN                  NaN              NaN   \n",
       "8              NaN              NaN                  NaN              NaN   \n",
       "9              NaN              NaN                  NaN              NaN   \n",
       "10             NaN              NaN                  NaN              NaN   \n",
       "\n",
       "   Currency  Rate  \n",
       "0       USD  1.00  \n",
       "1       USD  1.00  \n",
       "2       USD  1.00  \n",
       "3       USD  1.00  \n",
       "4       USD  1.00  \n",
       "5       USD  1.00  \n",
       "6       USD  1.00  \n",
       "7       USD  1.00  \n",
       "8       USD  1.00  \n",
       "9       EUR  0.97  \n",
       "10      EUR  0.97  "
      ]
     },
     "execution_count": 48,
     "metadata": {},
     "output_type": "execute_result"
    }
   ],
   "source": [
    "params = {}\n",
    "params.update(COLUMN_PARAMS)\n",
    "params.update(FILTER_PARAMS)\n",
    "\n",
    "headers = {}\n",
    "if TOKEN:\n",
    "    headers['Authorization'] = 'Token %s' % TOKEN\n",
    "\n",
    "response = requests.get('https://p2p.cloud-mercato.com/flavors/csv', params=params, headers=headers, stream=True)\n",
    "if response.status_code == 429:\n",
    "    raise Exception(\"Download is limited for free users. Please wait or subscribe.\")\n",
    "    \n",
    "df = pd.read_csv(response.raw)\n",
    "\n",
    "print(\"Shape: \", df.shape)\n",
    "df"
   ]
  },
  {
   "cell_type": "markdown",
   "id": "lonely-pacific",
   "metadata": {
    "execution": {
     "iopub.execute_input": "2021-07-02T23:32:10.789097Z",
     "iopub.status.busy": "2021-07-02T23:32:10.788829Z",
     "iopub.status.idle": "2021-07-02T23:32:10.796900Z",
     "shell.execute_reply": "2021-07-02T23:32:10.796358Z",
     "shell.execute_reply.started": "2021-07-02T23:32:10.789033Z"
    }
   },
   "source": [
    "## Output"
   ]
  },
  {
   "cell_type": "markdown",
   "id": "890f7c86-b7bb-4f5d-9a1b-e492dd9580fd",
   "metadata": {},
   "source": [
    "### Save result in csv"
   ]
  },
  {
   "cell_type": "code",
   "execution_count": 49,
   "id": "9c4e3b7b-6440-4844-8054-265f1aec65eb",
   "metadata": {
    "execution": {
     "iopub.execute_input": "2022-10-10T16:21:06.530775Z",
     "iopub.status.busy": "2022-10-10T16:21:06.530483Z",
     "iopub.status.idle": "2022-10-10T16:21:06.557694Z",
     "shell.execute_reply": "2022-10-10T16:21:06.557050Z",
     "shell.execute_reply.started": "2022-10-10T16:21:06.530747Z"
    },
    "tags": []
   },
   "outputs": [],
   "source": [
    "df.to_csv(csv_output, index=False)"
   ]
  },
  {
   "cell_type": "markdown",
   "id": "a28950bb-1d7d-4835-a83a-faac837ebc7c",
   "metadata": {},
   "source": [
    "### Share csv output with naas"
   ]
  },
  {
   "cell_type": "code",
   "execution_count": 50,
   "id": "db205965-a2dc-4541-ba8e-db3250d1cff0",
   "metadata": {
    "execution": {
     "iopub.execute_input": "2022-10-10T16:21:09.034685Z",
     "iopub.status.busy": "2022-10-10T16:21:09.034392Z",
     "iopub.status.idle": "2022-10-10T16:21:09.466349Z",
     "shell.execute_reply": "2022-10-10T16:21:09.465628Z",
     "shell.execute_reply.started": "2022-10-10T16:21:09.034656Z"
    },
    "tags": []
   },
   "outputs": [
    {
     "name": "stdout",
     "output_type": "stream",
     "text": [
      "👌 Well done! Your Assets has been sent to production.\n",
      "\n"
     ]
    },
    {
     "data": {
      "application/javascript": [
       "\n",
       "    if (!window.copyToClipboard) {\n",
       "        window.copyToClipboard = (text) => {\n",
       "            const dummy = document.createElement(\"textarea\");\n",
       "            document.body.appendChild(dummy);\n",
       "            dummy.value = text;\n",
       "            dummy.select();\n",
       "            document.execCommand(\"copy\");\n",
       "            document.body.removeChild(dummy);\n",
       "        }\n",
       "    }\n",
       "    "
      ],
      "text/plain": [
       "<IPython.core.display.Javascript object>"
      ]
     },
     "metadata": {},
     "output_type": "display_data"
    },
    {
     "data": {
      "application/vnd.jupyter.widget-view+json": {
       "model_id": "77ec05da7329474b989ea5e1b60a6292",
       "version_major": 2,
       "version_minor": 0
      },
      "text/plain": [
       "Button(button_style='primary', description='Copy URL', style=ButtonStyle())"
      ]
     },
     "metadata": {},
     "output_type": "display_data"
    },
    {
     "data": {
      "application/vnd.jupyter.widget-view+json": {
       "model_id": "1f8eabb79e5d4e1aae587c57857585ec",
       "version_major": 2,
       "version_minor": 0
      },
      "text/plain": [
       "Output()"
      ]
     },
     "metadata": {},
     "output_type": "display_data"
    },
    {
     "name": "stdout",
     "output_type": "stream",
     "text": [
      "PS: to remove the \"Assets\" feature, just replace .add by .delete\n"
     ]
    },
    {
     "data": {
      "text/plain": [
       "'https://public.naas.ai/YW50aG9ueS00MGNsb3VkLTJEbWVyY2F0by0yRWNvbQ==/asset/2e2db297e523bf388984dce795b3c5253beb2a96ce1e97762bf1062ad502'"
      ]
     },
     "execution_count": 50,
     "metadata": {},
     "output_type": "execute_result"
    }
   ],
   "source": [
    "naas.asset.add(csv_output)\n",
    "\n",
    "#-> Uncomment the line below to remove your asset\n",
    "# naas.asset.delete()"
   ]
  }
 ],
 "metadata": {
  "kernelspec": {
   "display_name": "Python 3",
   "language": "python",
   "name": "python3"
  },
  "language_info": {
   "codemirror_mode": {
    "name": "ipython",
    "version": 3
   },
   "file_extension": ".py",
   "mimetype": "text/x-python",
   "name": "python",
   "nbconvert_exporter": "python",
   "pygments_lexer": "ipython3",
   "version": "3.9.6"
  },
  "papermill": {
   "default_parameters": {},
   "environment_variables": {},
   "parameters": {},
   "version": "2.3.3"
  },
  "widgets": {
   "application/vnd.jupyter.widget-state+json": {
    "state": {},
    "version_major": 2,
    "version_minor": 0
   }
  }
 },
 "nbformat": 4,
 "nbformat_minor": 5
}
