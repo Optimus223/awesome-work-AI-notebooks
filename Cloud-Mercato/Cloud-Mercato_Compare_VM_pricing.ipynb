{
 "cells": [
  {
   "cell_type": "markdown",
   "id": "latin-packing",
   "metadata": {
    "execution": {
     "iopub.execute_input": "2021-02-23T14:22:16.610471Z",
     "iopub.status.busy": "2021-02-23T14:22:16.610129Z",
     "iopub.status.idle": "2021-02-23T14:22:16.627784Z",
     "shell.execute_reply": "2021-02-23T14:22:16.626866Z",
     "shell.execute_reply.started": "2021-02-23T14:22:16.610384Z"
    },
    "papermill": {},
    "tags": []
   },
   "source": [
    "<img width=\"10%\" alt=\"Naas\" src=\"https://landen.imgix.net/jtci2pxwjczr/assets/5ice39g4.png?w=160\"/>"
   ]
  },
  {
   "cell_type": "markdown",
   "id": "compressed-wilson",
   "metadata": {
    "papermill": {},
    "tags": []
   },
   "source": [
    "# Cloud-Mercato - Compare VM pricing\n",
    "<a href=\"https://app.naas.ai/user-redirect/naas/downloader?url=https://raw.githubusercontent.com/jupyter-naas/awesome-notebooks/master/template.ipynb\" target=\"_parent\">\n",
    "<img src=\"https://img.shields.io/badge/-Open%20in%20Naas-success?labelColor=000000&logo=data:image/svg+xml;base64,PD94bWwgdmVyc2lvbj0iMS4wIiBlbmNvZGluZz0iVVRGLTgiPz4KPHN2ZyB3aWR0aD0iMTAyNHB4IiBoZWlnaHQ9IjEwMjRweCIgdmlld0JveD0iMCAwIDEwMjQgMTAyNCIgeG1sbnM9Imh0dHA6Ly93d3cudzMub3JnLzIwMDAvc3ZnIiB4bWxuczp4bGluaz0iaHR0cDovL3d3dy53My5vcmcvMTk5OS94bGluayIgdmVyc2lvbj0iMS4xIj4KIDwhLS0gR2VuZXJhdGVkIGJ5IFBpeGVsbWF0b3IgUHJvIDIuMC41IC0tPgogPGRlZnM+CiAgPHRleHQgaWQ9InN0cmluZyIgdHJhbnNmb3JtPSJtYXRyaXgoMS4wIDAuMCAwLjAgMS4wIDIyOC4wIDU0LjUpIiBmb250LWZhbWlseT0iQ29tZm9ydGFhLVJlZ3VsYXIsIENvbWZvcnRhYSIgZm9udC1zaXplPSI4MDAiIHRleHQtZGVjb3JhdGlvbj0ibm9uZSIgZmlsbD0iI2ZmZmZmZiIgeD0iMS4xOTk5OTk5OTk5OTk5ODg2IiB5PSI3MDUuMCI+bjwvdGV4dD4KIDwvZGVmcz4KIDx1c2UgaWQ9Im4iIHhsaW5rOmhyZWY9IiNzdHJpbmciLz4KPC9zdmc+Cg==\"/>\n",
    "</a>"
   ]
  },
  {
   "cell_type": "markdown",
   "id": "religious-programmer",
   "metadata": {},
   "source": [
    "**Tags:** #cloud #infrastruture #pricing #vm #iaas #analytics #compute"
   ]
  },
  {
   "cell_type": "markdown",
   "id": "1fe9f56e-561c-4f52-aef8-b861c9462107",
   "metadata": {},
   "source": [
    "**Author:** [Anthony Monthe](https://www.linkedin.com/in/anthonymonthe/)"
   ]
  },
  {
   "cell_type": "markdown",
   "id": "31ea7cdb-e10d-43fc-b026-f69249a59736",
   "metadata": {},
   "source": [
    "With this notebook, you will be able to get a table of all the major VMs using RAM and CPU as an input, and get all the pricing and billing options as output.<br>\n",
    "*Disclaimer: prices are the latest collected by Cloud-Mercato*"
   ]
  },
  {
   "cell_type": "markdown",
   "id": "distinguished-truth",
   "metadata": {
    "papermill": {},
    "tags": []
   },
   "source": [
    "## Input"
   ]
  },
  {
   "cell_type": "markdown",
   "id": "numeric-mediterranean",
   "metadata": {},
   "source": [
    "### Import libraries"
   ]
  },
  {
   "cell_type": "code",
   "execution_count": 10,
   "id": "potential-surfing",
   "metadata": {
    "execution": {
     "iopub.execute_input": "2022-10-05T16:42:07.832435Z",
     "iopub.status.busy": "2022-10-05T16:42:07.832153Z",
     "iopub.status.idle": "2022-10-05T16:42:08.112511Z",
     "shell.execute_reply": "2022-10-05T16:42:08.111793Z",
     "shell.execute_reply.started": "2022-10-05T16:42:07.832408Z"
    },
    "tags": []
   },
   "outputs": [],
   "source": [
    "import requests\n",
    "import naas"
   ]
  },
  {
   "cell_type": "markdown",
   "id": "aggressive-trustee",
   "metadata": {},
   "source": [
    "### Setup variables"
   ]
  },
  {
   "cell_type": "code",
   "execution_count": 6,
   "id": "continuous-melbourne",
   "metadata": {
    "execution": {
     "iopub.execute_input": "2022-10-05T16:42:00.503010Z",
     "iopub.status.busy": "2022-10-05T16:42:00.502758Z",
     "iopub.status.idle": "2022-10-05T16:42:00.506058Z",
     "shell.execute_reply": "2022-10-05T16:42:00.505431Z",
     "shell.execute_reply.started": "2022-10-05T16:42:00.502988Z"
    }
   },
   "outputs": [],
   "source": [
    "# Input\n",
    "CPU = 4 #in CPU number\n",
    "RAM = 2 #in GB\n",
    "\n",
    "# Output\n",
    "csv_output = \"cloud-mercato-vm-pricing.csv\""
   ]
  },
  {
   "cell_type": "markdown",
   "id": "registered-showcase",
   "metadata": {},
   "source": [
    "## Model"
   ]
  },
  {
   "cell_type": "markdown",
   "id": "f5c5eab8-47d8-41ec-8296-8969a118caab",
   "metadata": {},
   "source": [
    "### Declare constants"
   ]
  },
  {
   "cell_type": "code",
   "execution_count": 7,
   "id": "c9380282-8201-42c6-93c2-3372f1ba46ee",
   "metadata": {
    "execution": {
     "iopub.execute_input": "2022-10-05T16:42:02.378836Z",
     "iopub.status.busy": "2022-10-05T16:42:02.378198Z",
     "iopub.status.idle": "2022-10-05T16:42:02.392246Z",
     "shell.execute_reply": "2022-10-05T16:42:02.391523Z",
     "shell.execute_reply.started": "2022-10-05T16:42:02.378794Z"
    },
    "tags": []
   },
   "outputs": [],
   "source": [
    "COLUMN_PARAMS = {\n",
    "    \"table-col-provider\": \"on\",\n",
    "    \"table-col-name\": \"on\",\n",
    "    \"table-col-cpu_number\": \"on\",\n",
    "    \"table-col-ram\": \"on\",\n",
    "    \"table-col-hourly\": \"on\",\n",
    "    \"table-col-monthly\": \"on\",\n",
    "    \"table-col-yearly1_noupfront\": \"on\",\n",
    "    \"table-col-yearly1_parupfront\": \"on\",\n",
    "    \"table-col-yearly1_parupfront_fee\": \"on\",\n",
    "    \"table-col-yearly1_allupfront_fee\": \"on\",\n",
    "    \"table-col-yearly2_noupfront\": \"on\",\n",
    "    \"table-col-yearly2_parupfront\": \"on\",\n",
    "    \"table-col-yearly2_parupfront_fee\": \"on\",\n",
    "    \"table-col-yearly2_allupfront_fee\": \"on\",\n",
    "    \"table-col-yearly3_noupfront\": \"on\",\n",
    "    \"table-col-yearly3_parupfront\": \"on\",\n",
    "    \"table-col-yearly3_parupfront_fee\": \"on\",\n",
    "    \"table-col-yearly3_allupfront_fee\": \"on\",\n",
    "    \"table-col-currency\": \"on\",\n",
    "    \"table-col-rate\": \"on\",\n",
    "}"
   ]
  },
  {
   "cell_type": "code",
   "execution_count": 8,
   "id": "0c9dd47c-9333-4803-9db1-30f3565fef32",
   "metadata": {
    "execution": {
     "iopub.execute_input": "2022-10-05T16:42:02.515637Z",
     "iopub.status.busy": "2022-10-05T16:42:02.515366Z",
     "iopub.status.idle": "2022-10-05T16:42:02.518837Z",
     "shell.execute_reply": "2022-10-05T16:42:02.518232Z",
     "shell.execute_reply.started": "2022-10-05T16:42:02.515612Z"
    },
    "tags": []
   },
   "outputs": [],
   "source": [
    "FILTER_PARAMS = {\n",
    "    \"cpu_number_min\": CPU,\n",
    "    \"cpu_number_max\": CPU,\n",
    "    \"ram_min\": RAM,\n",
    "    \"ram_max\": RAM,\n",
    "    \"currency-currency\": \"USD\"\n",
    "}"
   ]
  },
  {
   "cell_type": "markdown",
   "id": "tested-astrology",
   "metadata": {},
   "source": [
    "### Get data using request"
   ]
  },
  {
   "cell_type": "code",
   "execution_count": 11,
   "id": "crude-louisville",
   "metadata": {
    "execution": {
     "iopub.execute_input": "2022-10-05T16:42:10.212828Z",
     "iopub.status.busy": "2022-10-05T16:42:10.212486Z",
     "iopub.status.idle": "2022-10-05T16:42:10.647725Z",
     "shell.execute_reply": "2022-10-05T16:42:10.643921Z",
     "shell.execute_reply.started": "2022-10-05T16:42:10.212774Z"
    },
    "papermill": {},
    "tags": []
   },
   "outputs": [
    {
     "data": {
      "text/plain": [
       "<Response [502]>"
      ]
     },
     "execution_count": 11,
     "metadata": {},
     "output_type": "execute_result"
    }
   ],
   "source": [
    "params = {}\n",
    "params.update(COLUMN_PARAMS)\n",
    "params.update(FILTER_PARAMS)\n",
    "\n",
    "df = requests.get('https://p2p.cloud-mercato.com/flavors/csv', params=params)\n",
    "\n",
    "df"
   ]
  },
  {
   "cell_type": "markdown",
   "id": "lonely-pacific",
   "metadata": {
    "execution": {
     "iopub.execute_input": "2021-07-02T23:32:10.789097Z",
     "iopub.status.busy": "2021-07-02T23:32:10.788829Z",
     "iopub.status.idle": "2021-07-02T23:32:10.796900Z",
     "shell.execute_reply": "2021-07-02T23:32:10.796358Z",
     "shell.execute_reply.started": "2021-07-02T23:32:10.789033Z"
    }
   },
   "source": [
    "## Output"
   ]
  },
  {
   "cell_type": "markdown",
   "id": "890f7c86-b7bb-4f5d-9a1b-e492dd9580fd",
   "metadata": {},
   "source": [
    "### Save result in csv"
   ]
  },
  {
   "cell_type": "code",
   "execution_count": null,
   "id": "9c4e3b7b-6440-4844-8054-265f1aec65eb",
   "metadata": {},
   "outputs": [],
   "source": [
    "df.to_csv(csv_output, index=False)"
   ]
  },
  {
   "cell_type": "markdown",
   "id": "a28950bb-1d7d-4835-a83a-faac837ebc7c",
   "metadata": {},
   "source": [
    "### Share csv output with naas"
   ]
  },
  {
   "cell_type": "code",
   "execution_count": null,
   "id": "db205965-a2dc-4541-ba8e-db3250d1cff0",
   "metadata": {},
   "outputs": [],
   "source": [
    "naas.asset.add(csv_output)\n",
    "\n",
    "#-> Uncomment the line below to remove your asset\n",
    "# naas.asset.delete()"
   ]
  }
 ],
 "metadata": {
  "kernelspec": {
   "display_name": "Python 3",
   "language": "python",
   "name": "python3"
  },
  "language_info": {
   "codemirror_mode": {
    "name": "ipython",
    "version": 3
   },
   "file_extension": ".py",
   "mimetype": "text/x-python",
   "name": "python",
   "nbconvert_exporter": "python",
   "pygments_lexer": "ipython3",
   "version": "3.9.6"
  },
  "papermill": {
   "default_parameters": {},
   "environment_variables": {},
   "parameters": {},
   "version": "2.3.3"
  },
  "widgets": {
   "application/vnd.jupyter.widget-state+json": {
    "state": {},
    "version_major": 2,
    "version_minor": 0
   }
  }
 },
 "nbformat": 4,
 "nbformat_minor": 5
}
