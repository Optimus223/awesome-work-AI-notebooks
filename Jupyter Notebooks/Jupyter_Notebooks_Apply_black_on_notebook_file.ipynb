{
 "cells": [
  {
   "cell_type": "markdown",
   "id": "0160ca63-35c9-454d-9f56-632ef5e1f18c",
   "metadata": {
    "papermill": {},
    "tags": []
   },
   "source": [
    "<img width=\"10%\" alt=\"Naas\" src=\"https://landen.imgix.net/jtci2pxwjczr/assets/5ice39g4.png?w=160\"/>"
   ]
  },
  {
   "cell_type": "markdown",
   "id": "e458790b-3a01-4a19-9f7d-219a145ca222",
   "metadata": {
    "papermill": {},
    "tags": []
   },
   "source": [
    "# Jupyter Notebooks - Apply black on notebook file"
   ]
  },
  {
   "cell_type": "markdown",
   "id": "85bb8510-1515-4417-9bbf-9671f72581ae",
   "metadata": {
    "papermill": {},
    "tags": []
   },
   "source": [
    "**Tags:** #jupyter #notebook #black #python #formatting #style"
   ]
  },
  {
   "cell_type": "markdown",
   "id": "30ed6976-ebe8-483c-849c-214f8f269ee8",
   "metadata": {
    "papermill": {},
    "tags": []
   },
   "source": [
    "**Author:** [Florent Ravenel](https://www.linkedin.com/in/florent-ravenel)"
   ]
  },
  {
   "cell_type": "markdown",
   "id": "cd240879-dd61-4e08-b2fa-e3099ff4f6bb",
   "metadata": {
    "papermill": {},
    "tags": []
   },
   "source": [
    "**Description:** This notebook explains how to apply the black formatting style to a Jupyter Notebook file. It is usefull for organizations that want to ensure a consistent coding style across their notebooks."
   ]
  },
  {
   "cell_type": "markdown",
   "id": "258c7f70-d47d-4fb8-97c5-4ae144ead2fe",
   "metadata": {
    "papermill": {},
    "tags": []
   },
   "source": [
    "**References:**\n- [Black - The Uncompromising Code Formatter](https://github.com/psf/black)\n- [Jupyter Notebook Formatting](https://jupyter-notebook.readthedocs.io/en/stable/examples/Notebook/Working%20With%20Markdown%20Cells.html)"
   ]
  },
  {
   "cell_type": "markdown",
   "id": "ea583865-1401-4fed-bf01-9e5c4540f419",
   "metadata": {
    "papermill": {},
    "tags": []
   },
   "source": [
    "## Input"
   ]
  },
  {
   "cell_type": "markdown",
   "id": "015d4b02-5dce-4fa4-be33-0b4ed596d1f9",
   "metadata": {
    "papermill": {},
    "tags": []
   },
   "source": [
    "### Import libraries"
   ]
  },
  {
   "cell_type": "code",
   "execution_count": null,
   "id": "ff59c87f-10cb-4bc3-a5ec-765b910f74c8",
   "metadata": {
    "papermill": {},
    "tags": []
   },
   "source": "import black",
   "outputs": []
  },
  {
   "cell_type": "markdown",
   "id": "a247da09-06b5-425d-a5d5-476b47c1b573",
   "metadata": {
    "papermill": {},
    "tags": []
   },
   "source": [
    "### Setup Variables\n- `file_name`: Name of the Jupyter Notebook file to be formatted"
   ]
  },
  {
   "cell_type": "code",
   "execution_count": null,
   "id": "2a3dedba-e8e2-489b-951f-4c40da50dc08",
   "metadata": {
    "papermill": {},
    "tags": []
   },
   "source": "file_name = \"my_notebook.ipynb\"",
   "outputs": []
  },
  {
   "cell_type": "markdown",
   "id": "19185481-319b-412e-b680-cb4553efce0a",
   "metadata": {
    "papermill": {},
    "tags": []
   },
   "source": [
    "## Model"
   ]
  },
  {
   "cell_type": "markdown",
   "id": "1d5f2668-96b6-4485-aded-2486dc4f6a96",
   "metadata": {
    "papermill": {},
    "tags": []
   },
   "source": [
    "### Apply black formatting"
   ]
  },
  {
   "cell_type": "markdown",
   "id": "009fef5e-062f-4562-87e3-8e9b0f4a789e",
   "metadata": {
    "papermill": {},
    "tags": []
   },
   "source": [
    "Long description of the function without break: This function applies the black formatting style to the Jupyter Notebook file."
   ]
  },
  {
   "cell_type": "code",
   "execution_count": null,
   "id": "2eabafad-b8d6-46d6-baca-cf161c22813c",
   "metadata": {
    "papermill": {},
    "tags": []
   },
   "source": "# Apply black formatting\nblack.format_file_in_place(file_name)",
   "outputs": []
  },
  {
   "cell_type": "markdown",
   "id": "882ae09d-2b24-42aa-9d44-36ca65968881",
   "metadata": {
    "papermill": {},
    "tags": []
   },
   "source": [
    "## Output"
   ]
  },
  {
   "cell_type": "markdown",
   "id": "4c4a236f-f6e8-4c81-8039-73e280d33db2",
   "metadata": {
    "papermill": {},
    "tags": []
   },
   "source": [
    "### Display result"
   ]
  },
  {
   "cell_type": "code",
   "execution_count": null,
   "id": "b3f0b71c-4270-40d6-872b-c112e86b5956",
   "metadata": {
    "papermill": {},
    "tags": []
   },
   "source": "# Display result\nprint(f\"The file {file_name} has been formatted with black.\")",
   "outputs": []
  },
  {
   "cell_type": "markdown",
   "id": "e952724b-8be0-496b-a6ae-f7eb7c9fd048",
   "metadata": {
    "papermill": {},
    "tags": []
   },
   "source": [
    " "
   ]
  }
 ],
 "metadata": {
  "kernelspec": {
   "display_name": "Python 3",
   "language": "python",
   "name": "python3"
  },
  "language_info": {
   "codemirror_mode": {
    "name": "ipython",
    "version": 3
   },
   "file_extension": ".py",
   "mimetype": "text/x-python",
   "name": "python",
   "nbconvert_exporter": "python",
   "pygments_lexer": "ipython3",
   "version": "3.9.6"
  },
  "widgets": {
   "application/vnd.jupyter.widget-state+json": {
    "state": {},
    "version_major": 2,
    "version_minor": 0
   }
  }
 },
 "nbformat": 4,
 "nbformat_minor": 5
}