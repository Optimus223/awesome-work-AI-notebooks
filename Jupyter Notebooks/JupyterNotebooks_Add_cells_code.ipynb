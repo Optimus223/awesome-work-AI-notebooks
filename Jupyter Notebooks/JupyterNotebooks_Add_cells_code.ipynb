{
 "cells": [
  {
   "cell_type": "markdown",
   "id": "latin-packing",
   "metadata": {
    "execution": {
     "iopub.execute_input": "2021-02-23T14:22:16.610471Z",
     "iopub.status.busy": "2021-02-23T14:22:16.610129Z",
     "iopub.status.idle": "2021-02-23T14:22:16.627784Z",
     "shell.execute_reply": "2021-02-23T14:22:16.626866Z",
     "shell.execute_reply.started": "2021-02-23T14:22:16.610384Z"
    },
    "papermill": {},
    "tags": []
   },
   "source": [
    "<img width=\"10%\" alt=\"Naas\" src=\"https://landen.imgix.net/jtci2pxwjczr/assets/5ice39g4.png?w=160\"/>"
   ]
  },
  {
   "cell_type": "markdown",
   "id": "compressed-wilson",
   "metadata": {
    "papermill": {},
    "tags": []
   },
   "source": [
    "# Jupyter Notebooks - Add new cell in notebook\n",
    "<a href=\"https://app.naas.ai/user-redirect/naas/downloader?url=https://raw.githubusercontent.com/jupyter-naas/awesome-notebooks/master/template.ipynb\" target=\"_parent\">\n",
    "<img src=\"https://img.shields.io/badge/-Open%20in%20Naas-success?labelColor=000000&logo=data:image/svg+xml;base64,PD94bWwgdmVyc2lvbj0iMS4wIiBlbmNvZGluZz0iVVRGLTgiPz4KPHN2ZyB3aWR0aD0iMTAyNHB4IiBoZWlnaHQ9IjEwMjRweCIgdmlld0JveD0iMCAwIDEwMjQgMTAyNCIgeG1sbnM9Imh0dHA6Ly93d3cudzMub3JnLzIwMDAvc3ZnIiB4bWxuczp4bGluaz0iaHR0cDovL3d3dy53My5vcmcvMTk5OS94bGluayIgdmVyc2lvbj0iMS4xIj4KIDwhLS0gR2VuZXJhdGVkIGJ5IFBpeGVsbWF0b3IgUHJvIDIuMC41IC0tPgogPGRlZnM+CiAgPHRleHQgaWQ9InN0cmluZyIgdHJhbnNmb3JtPSJtYXRyaXgoMS4wIDAuMCAwLjAgMS4wIDIyOC4wIDU0LjUpIiBmb250LWZhbWlseT0iQ29tZm9ydGFhLVJlZ3VsYXIsIENvbWZvcnRhYSIgZm9udC1zaXplPSI4MDAiIHRleHQtZGVjb3JhdGlvbj0ibm9uZSIgZmlsbD0iI2ZmZmZmZiIgeD0iMS4xOTk5OTk5OTk5OTk5ODg2IiB5PSI3MDUuMCI+bjwvdGV4dD4KIDwvZGVmcz4KIDx1c2UgaWQ9Im4iIHhsaW5rOmhyZWY9IiNzdHJpbmciLz4KPC9zdmc+Cg==\"/>\n",
    "</a>"
   ]
  },
  {
   "cell_type": "markdown",
   "id": "religious-programmer",
   "metadata": {},
   "source": [
    "**Tags:** #naas #jupyter-notebooks #snippet"
   ]
  },
  {
   "cell_type": "markdown",
   "id": "1fe9f56e-561c-4f52-aef8-b861c9462107",
   "metadata": {},
   "source": [
    "**Author:** [Florent Ravenel](https://www.linkedin.com/in/florent-ravenel/)"
   ]
  },
  {
   "cell_type": "markdown",
   "id": "distinguished-truth",
   "metadata": {
    "papermill": {},
    "tags": []
   },
   "source": [
    "## Input"
   ]
  },
  {
   "cell_type": "markdown",
   "id": "numeric-mediterranean",
   "metadata": {},
   "source": [
    "### Import library"
   ]
  },
  {
   "cell_type": "code",
   "execution_count": null,
   "id": "potential-surfing",
   "metadata": {
    "tags": []
   },
   "outputs": [],
   "source": [
    "import os\n",
    "from papermill.iorw import load_notebook_node\n",
    "import json\n",
    "from pprint import pprint\n",
    "import copy"
   ]
  },
  {
   "cell_type": "markdown",
   "id": "9f286977-7b71-4917-973d-e3dc88b39403",
   "metadata": {},
   "source": [
    "### Variables"
   ]
  },
  {
   "cell_type": "code",
   "execution_count": null,
   "id": "fc1e14f0-63ab-4f97-b465-66fb5da29155",
   "metadata": {},
   "outputs": [],
   "source": [
    "notebook_path = \"\""
   ]
  },
  {
   "cell_type": "markdown",
   "id": "registered-showcase",
   "metadata": {},
   "source": [
    "## Model"
   ]
  },
  {
   "cell_type": "markdown",
   "id": "tested-astrology",
   "metadata": {},
   "source": [
    "### Add new cells \"Author\" and \"Tags\" in awesome-notebooks if does not exist"
   ]
  },
  {
   "cell_type": "code",
   "execution_count": null,
   "id": "crude-louisville",
   "metadata": {
    "papermill": {},
    "tags": []
   },
   "outputs": [],
   "source": [
    "def add_cells(notebook_path):\n",
    "    notebook_path\n",
    "    nb = load_notebook_node(notebook_path)\n",
    "    root = notebook_path.split(\"/\")[0]\n",
    "    check_logo = False\n",
    "    check_title = False\n",
    "    check_download = False\n",
    "    check_tags = False\n",
    "    check_author = False\n",
    "    check_input = False\n",
    "    check_model = False \n",
    "    check_output = False\n",
    "    no_markdown = 0\n",
    "    \n",
    "    cells = nb.get(\"cells\")\n",
    "    # Check each cells\n",
    "    for cell in cells:\n",
    "        cell_type = cell.get('cell_type')\n",
    "        source = cell.get('source')\n",
    "        if cell_type == \"markdown\":\n",
    "            if source.startswith(\"<img\") and no_markdown == 0:\n",
    "                check_logo = True\n",
    "            if source.startswith(\"# \") and root in source:\n",
    "                check_title = True\n",
    "            if \"https://app.naas.ai/user-redirect/naas/downloader\" in source:\n",
    "                check_download = True\n",
    "            if \"**Tags:**\" in source:\n",
    "                check_tags = True\n",
    "                tags = source[9:].strip()\n",
    "            if \"**Author:**\" in source:\n",
    "                check_author = True\n",
    "                author = source[11:].split(\"[\")[-1].split(\"]\")[0]\n",
    "            if source.startswith(\"## Input\"):\n",
    "                check_input = True\n",
    "            if source.startswith(\"## Model\"):\n",
    "                check_model = True\n",
    "            if source.startswith(\"## Output\"):\n",
    "                check_output = True\n",
    "                \n",
    "    # Check\n",
    "    add_logo = False\n",
    "    add_author = False\n",
    "    if not check_logo:\n",
    "        print(\"Logo to be added\")\n",
    "        add_logo = True\n",
    "    if not check_author and check_tags:\n",
    "        print(\"Author to be added below tags\")\n",
    "        add_author = True\n",
    "        \n",
    "    # Apply change\n",
    "    new_cells = []\n",
    "    if add_logo:\n",
    "        cell_logo = {'cell_type': 'markdown',\n",
    "                     'id': 'naas-logo',\n",
    "                     'metadata': {'papermill': {}, 'tags': [\"naas\"]},\n",
    "                     'source': '<img width=\"10%\" alt=\"Naas\" src=\"https://landen.imgix.net/jtci2pxwjczr/assets/5ice39g4.png?w=160\"/>'}\n",
    "        new_cells.append(cell_logo)\n",
    "    for cell in cells:\n",
    "        new_cells.append(cell)\n",
    "        cell_type = cell.get('cell_type')\n",
    "        source = cell.get('source')\n",
    "\n",
    "        if cell_type == \"markdown\":\n",
    "            if \"**Tags:**\" in source and add_author:\n",
    "                cell_author = {'cell_type': 'markdown',\n",
    "                               'id': 'naas-author',\n",
    "                               'metadata': {'papermill': {}, 'tags': [\"naas\"]},\n",
    "                               'source': '**Author:** [Unknown](https://www.linkedin.com/company/naas-ai/)'}\n",
    "                new_cells.append(cell_author)\n",
    "    if add_logo or add_author:\n",
    "        nb_new = copy.deepcopy(nb)\n",
    "        nb_new[\"cells\"] = new_cells\n",
    "        with open(notebook_path, 'w') as f:\n",
    "            json.dump(nb_new, f)\n",
    "        print(f\"{notebook_path} saved in Naas.\")\n",
    "        return nb_new"
   ]
  },
  {
   "cell_type": "markdown",
   "id": "lonely-pacific",
   "metadata": {
    "execution": {
     "iopub.execute_input": "2021-07-02T23:32:10.789097Z",
     "iopub.status.busy": "2021-07-02T23:32:10.788829Z",
     "iopub.status.idle": "2021-07-02T23:32:10.796900Z",
     "shell.execute_reply": "2021-07-02T23:32:10.796358Z",
     "shell.execute_reply.started": "2021-07-02T23:32:10.789033Z"
    }
   },
   "source": [
    "## Output"
   ]
  },
  {
   "cell_type": "markdown",
   "id": "linear-address",
   "metadata": {},
   "source": [
    "### Display result"
   ]
  },
  {
   "cell_type": "code",
   "execution_count": null,
   "id": "32e75ebc-bbc7-49bb-9cdf-27204be1b26e",
   "metadata": {
    "tags": []
   },
   "outputs": [],
   "source": [
    "nb = add_cells(notebook_path)\n",
    "pprint(nb)"
   ]
  },
  {
   "cell_type": "code",
   "execution_count": null,
   "id": "5730d3fa-e063-43db-bd5f-2277d0908643",
   "metadata": {},
   "outputs": [],
   "source": []
  }
 ],
 "metadata": {
  "kernelspec": {
   "display_name": "Python 3",
   "language": "python",
   "name": "python3"
  },
  "language_info": {
   "codemirror_mode": {
    "name": "ipython",
    "version": 3
   },
   "file_extension": ".py",
   "mimetype": "text/x-python",
   "name": "python",
   "nbconvert_exporter": "python",
   "pygments_lexer": "ipython3",
   "version": "3.8.8"
  },
  "papermill": {
   "default_parameters": {},
   "environment_variables": {},
   "parameters": {},
   "version": "2.3.3"
  },
  "widgets": {
   "application/vnd.jupyter.widget-state+json": {
    "state": {},
    "version_major": 2,
    "version_minor": 0
   }
  }
 },
 "nbformat": 4,
 "nbformat_minor": 5
}
