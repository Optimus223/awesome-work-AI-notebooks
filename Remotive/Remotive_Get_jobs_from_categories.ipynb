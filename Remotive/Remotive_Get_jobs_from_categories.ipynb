{
 "cells": [
  {
   "cell_type": "markdown",
   "metadata": {},
   "source": [
    "<img width=\"10%\" alt=\"Naas\" src=\"https://landen.imgix.net/jtci2pxwjczr/assets/5ice39g4.png?w=160\"/>"
   ]
  },
  {
   "cell_type": "markdown",
   "metadata": {},
   "source": [
    "# Remotive - Get jobs from categories\n",
    "<a href=\"https://app.naas.ai/user-redirect/naas/downloader?url=https://raw.githubusercontent.com/jupyter-naas/awesome-notebooks/master/LinkedIn/Linkedin%2BNotion_Update_metrics_in_content_calendar_from_posts.ipynb\" target=\"_parent\"><img src=\"https://naasai-public.s3.eu-west-3.amazonaws.com/open_in_naas.svg\"/></a>"
   ]
  },
  {
   "cell_type": "markdown",
   "metadata": {},
   "source": [
    "**Tags:** #remotive #jobs"
   ]
  },
  {
   "cell_type": "markdown",
   "metadata": {},
   "source": [
    "With this notebook, you will be able to get jobs offer from Remotive:\n",
    "- **URL:** Job offer url.\n",
    "- **TITLE:** Job title.\n",
    "- **COMPANY:** Company name.\n",
    "- **PUBLICATION_DATE:** Date of publication."
   ]
  },
  {
   "cell_type": "markdown",
   "metadata": {},
   "source": [
    "## Input"
   ]
  },
  {
   "cell_type": "markdown",
   "metadata": {},
   "source": [
    "### Import libraries"
   ]
  },
  {
   "cell_type": "code",
   "execution_count": null,
   "metadata": {
    "tags": []
   },
   "outputs": [],
   "source": [
    "import pandas as pd\n",
    "import requests\n",
    "import time\n",
    "from datetime import datetime"
   ]
  },
  {
   "cell_type": "markdown",
   "metadata": {},
   "source": [
    "### Constantes"
   ]
  },
  {
   "cell_type": "code",
   "execution_count": null,
   "metadata": {
    "tags": []
   },
   "outputs": [],
   "source": [
    "REMOTIVE_API = \"https://remotive.io/api/remote-jobs\"\n",
    "REMOTIVE_DATETIME = \"%Y-%m-%dT%H:%M:%S\"\n",
    "NAAS_DATETIME = \"%Y-%m-%d %H:%M:%S\""
   ]
  },
  {
   "cell_type": "markdown",
   "metadata": {},
   "source": [
    "### Setup Remotive"
   ]
  },
  {
   "cell_type": "markdown",
   "metadata": {},
   "source": [
    "#### Get categories from Remotive"
   ]
  },
  {
   "cell_type": "code",
   "execution_count": null,
   "metadata": {
    "tags": []
   },
   "outputs": [],
   "source": [
    "def get_remotejob_categories():\n",
    "    req_url = f\"{REMOTIVE_API}/categories\"\n",
    "    res = requests.get(req_url)\n",
    "    try:\n",
    "        res.raise_for_status()\n",
    "    except requests.HTTPError as e:\n",
    "        return e\n",
    "    res_json = res.json()\n",
    "    \n",
    "    # Get categories\n",
    "    jobs = res_json.get('jobs')\n",
    "    return pd.DataFrame(jobs)\n",
    "\n",
    "df_categories = get_remotejob_categories()\n",
    "df_categories"
   ]
  },
  {
   "cell_type": "markdown",
   "metadata": {},
   "source": [
    "#### Enter your parameters"
   ]
  },
  {
   "cell_type": "code",
   "execution_count": null,
   "metadata": {
    "tags": []
   },
   "outputs": [],
   "source": [
    "categories = ['data'] # Pick the list of categories in columns \"slug\"\n",
    "date_from = - 10 # Choose date difference in days from now => must be negative"
   ]
  },
  {
   "cell_type": "markdown",
   "metadata": {},
   "source": [
    "## Model"
   ]
  },
  {
   "cell_type": "markdown",
   "metadata": {},
   "source": [
    "### Get all jobs posted after timestamp_date\n",
    "\n",
    "All jobs posted after the date from will be fetched.<br>\n",
    "In summary, we can set the value, in seconds, of 'search_data_from' to fetch all jobs posted since this duration"
   ]
  },
  {
   "cell_type": "code",
   "execution_count": null,
   "metadata": {
    "tags": []
   },
   "outputs": [],
   "source": [
    "def get_remotive_jobs_since(jobs, date):\n",
    "    ret = []\n",
    "    for job in jobs:\n",
    "        publication_date = datetime.strptime(job['publication_date'], REMOTIVE_DATETIME).timestamp()\n",
    "        if publication_date > date:\n",
    "            ret.append({\n",
    "                'URL': job['url'],\n",
    "                'TITLE': job['title'],\n",
    "                'COMPANY': job['company_name'],\n",
    "                'PUBLICATION_DATE': datetime.fromtimestamp(publication_date).strftime(NAAS_DATETIME)\n",
    "            })\n",
    "    return ret\n",
    "\n",
    "def get_category_jobs_since(category, date, limit):\n",
    "    url = f\"{REMOTIVE_API}?category={category}&limit={limit}\"\n",
    "    res = requests.get(url)\n",
    "    if res.json()['jobs']:\n",
    "        publication_date = datetime.strptime(res.json()['jobs'][-1]['publication_date'], REMOTIVE_DATETIME).timestamp()\n",
    "        if len(res.json()['jobs']) < limit or date > publication_date:\n",
    "            print(f\"Jobs from catgory {category} fetched ✅\")\n",
    "            return get_remotive_jobs_since(res.json()['jobs'], date)\n",
    "        else:\n",
    "            return get_category_jobs_since(category, date, limit + 5)\n",
    "    return []\n",
    "\n",
    "def get_jobs_since(categories: list,\n",
    "                   date_from: int):\n",
    "    if date_from >= 0:\n",
    "        return(\"'date_from' must be negative. Please update your parameter.\")\n",
    "    # Transform datefrom int to\n",
    "    search_jobs_from = date_from * 24 * 60 * 60   # days in seconds\n",
    "    timestamp_date = time.time() + search_jobs_from\n",
    "\n",
    "    jobs = []\n",
    "    for category in categories:\n",
    "        jobs += get_category_jobs_since(category, timestamp_date, 5)\n",
    "    print(f'- All job since {datetime.fromtimestamp(timestamp_date)} have been fetched:', len(jobs))\n",
    "    return pd.DataFrame(jobs)\n",
    "\n",
    "df_jobs = get_jobs_since(categories, date_from=date_from)"
   ]
  },
  {
   "cell_type": "markdown",
   "metadata": {},
   "source": [
    "## Output"
   ]
  },
  {
   "cell_type": "markdown",
   "metadata": {},
   "source": [
    "### Display result"
   ]
  },
  {
   "cell_type": "code",
   "execution_count": null,
   "metadata": {},
   "outputs": [],
   "source": [
    "df_jobs"
   ]
  },
  {
   "cell_type": "code",
   "execution_count": null,
   "metadata": {},
   "outputs": [],
   "source": []
  }
 ],
 "metadata": {
  "kernelspec": {
   "display_name": "Python 3",
   "language": "python",
   "name": "python3"
  },
  "language_info": {
   "codemirror_mode": {
    "name": "ipython",
    "version": 3
   },
   "file_extension": ".py",
   "mimetype": "text/x-python",
   "name": "python",
   "nbconvert_exporter": "python",
   "pygments_lexer": "ipython3",
   "version": "3.8.8"
  }
 },
 "nbformat": 4,
 "nbformat_minor": 4
}
