{
 "cells": [
  {
   "cell_type": "markdown",
   "metadata": {},
   "source": [
    "# GigHunter - Daily post Remotive jobs "
   ]
  },
  {
   "cell_type": "code",
   "execution_count": 1,
   "metadata": {
    "execution": {
     "iopub.execute_input": "2022-02-03T16:11:37.471359Z",
     "iopub.status.busy": "2022-02-03T16:11:37.470882Z",
     "iopub.status.idle": "2022-02-03T16:11:38.053577Z",
     "shell.execute_reply": "2022-02-03T16:11:38.052950Z",
     "shell.execute_reply.started": "2022-02-03T16:11:37.471275Z"
    },
    "tags": []
   },
   "outputs": [],
   "source": [
    "import pandas as pd\n",
    "from bs4 import BeautifulSoup\n",
    "import requests\n",
    "from datetime import datetime\n",
    "import time\n",
    "import naas_drivers"
   ]
  },
  {
   "cell_type": "code",
   "execution_count": 2,
   "metadata": {
    "execution": {
     "iopub.execute_input": "2022-02-03T16:11:43.778168Z",
     "iopub.status.busy": "2022-02-03T16:11:43.777935Z",
     "iopub.status.idle": "2022-02-03T16:11:43.781154Z",
     "shell.execute_reply": "2022-02-03T16:11:43.780463Z",
     "shell.execute_reply.started": "2022-02-03T16:11:43.778145Z"
    },
    "tags": []
   },
   "outputs": [],
   "source": [
    "# INDEED_URL = \"https://fr.indeed.com/jobs?q=developpeur&l=Strasbourg+%2867%29\"\n",
    "REMOTIVE_URL = \"https://remotive.io/\"\n",
    "REMOTIVE_API = \"https://remotive.io/api/remote-jobs/\"\n",
    "REMOTIVE_DATETIME = \"%Y-%m-%dT%H:%M:%S\"\n",
    "NAAS_DATETIME = \"%Y/%m/%d %H:%M:%S\"\n",
    "\n",
    "CATEGORIE_ROUTE = \"categories\""
   ]
  },
  {
   "cell_type": "markdown",
   "metadata": {},
   "source": [
    "## Get all job categories from Remotive"
   ]
  },
  {
   "cell_type": "code",
   "execution_count": 3,
   "metadata": {
    "execution": {
     "iopub.execute_input": "2022-02-03T16:11:47.420454Z",
     "iopub.status.busy": "2022-02-03T16:11:47.420227Z",
     "iopub.status.idle": "2022-02-03T16:11:47.423902Z",
     "shell.execute_reply": "2022-02-03T16:11:47.423205Z",
     "shell.execute_reply.started": "2022-02-03T16:11:47.420429Z"
    },
    "tags": []
   },
   "outputs": [],
   "source": [
    "def get_job_categories(category_route):\n",
    "    res = requests.get(category_route)\n",
    "    ret = []\n",
    "    for category in res.json()['jobs']:\n",
    "        ret.append(category['slug'])\n",
    "    return ret\n",
    "\n",
    "# categories = get_job_categories(REMOTIVE_API + CATEGORIE_ROUTE)\n",
    "categories = ['data'] # Fetch only jobs with category 'data'"
   ]
  },
  {
   "cell_type": "code",
   "execution_count": 57,
   "metadata": {
    "execution": {
     "iopub.execute_input": "2022-01-31T14:30:58.745523Z",
     "iopub.status.busy": "2022-01-31T14:30:58.745285Z",
     "iopub.status.idle": "2022-01-31T14:30:59.097699Z",
     "shell.execute_reply": "2022-01-31T14:30:59.097011Z",
     "shell.execute_reply.started": "2022-01-31T14:30:58.745497Z"
    },
    "tags": []
   },
   "outputs": [
    {
     "data": {
      "text/plain": [
       "{'0-legal-notice': \"Legal warning - Hey, thanks for using Remotive's API, we appreciate it! Please note that API documentation and access is granted so that developers can share our jobs further. Please do not submit Remotive jobs to third Party websites, including but not limited to: Jooble, Neuvoo, Google Jobs, LinkedIn Jobs. Please link back to the URL found on Remotive AND mention Remotive as a source in order to Remotive to get traffic from your listing. If you don't do that, we'll terminate your API access, sorry! Jobs displayed are delayed by 24 hours, the goal being that jobs are attributed to Remotive on various platforms. Displaying our jobs in order to collect signups/email addresses to show a listing constitutes a breach of our terms of services. We offer a private, paid-for API, please email us at hello(at)remotive(dot)io for more information (starting budget is $5k/mo). Please find out terms of services on https://remotive.io/api-documentation. Please note that there is absolutely no need to request Remotive Job data too frequently. Typically, you only need to GET Remotive job data through this API a couple of times a day (we advise max. 4 times a day). Our data is not changing much faster than that anyway. Note that excessive requests will be blocked. Many thanks (Rodolphe & the Remotive team!)\",\n",
       " 'job-count': 0,\n",
       " 'jobs': []}"
      ]
     },
     "execution_count": 57,
     "metadata": {},
     "output_type": "execute_result"
    }
   ],
   "source": [
    "# url = REMOTIVE_API + '?category=data'\n",
    "# # requests.get(url).json()['jobs']\n",
    "# # link=\"https://remotive.io/api/remote-jobs?category=data\"\n",
    "# name = requests.get(url).json()['jobs'][2]['company_name']\n",
    "# company_info = \"https://remotive.io/api/remote-jobs?company_name=Talentuch\"\n",
    "# requests.get(company_info).json()"
   ]
  },
  {
   "cell_type": "code",
   "execution_count": null,
   "metadata": {},
   "outputs": [],
   "source": []
  },
  {
   "cell_type": "markdown",
   "metadata": {},
   "source": [
    "## Functions to get jobs from Remotive"
   ]
  },
  {
   "cell_type": "code",
   "execution_count": 4,
   "metadata": {
    "execution": {
     "iopub.execute_input": "2022-02-03T16:12:08.269633Z",
     "iopub.status.busy": "2022-02-03T16:12:08.269408Z",
     "iopub.status.idle": "2022-02-03T16:12:08.277449Z",
     "shell.execute_reply": "2022-02-03T16:12:08.276928Z",
     "shell.execute_reply.started": "2022-02-03T16:12:08.269609Z"
    },
    "tags": []
   },
   "outputs": [],
   "source": [
    "def get_remotive_jobs_since(jobs, date):\n",
    "    ret = []\n",
    "    for job in jobs:\n",
    "        publication_date = datetime.strptime(job['publication_date'], REMOTIVE_DATETIME).timestamp()\n",
    "        if publication_date > date:\n",
    "            ret.append({\n",
    "                'URL': job['url'],\n",
    "                'JOBS': job['title'],\n",
    "                'COMPANY': job['company_name'],\n",
    "                'PUBLISH_DATE': datetime.fromtimestamp(publication_date).strftime(NAAS_DATETIME)\n",
    "            })\n",
    "    return ret\n",
    "\n",
    "def get_category_jobs_since(api, category, date, limit):\n",
    "    url = f\"{api}?category={category}&limit={limit}\"\n",
    "    res = requests.get(url)\n",
    "    if res.json()['jobs']:\n",
    "        publication_date = datetime.strptime(res.json()['jobs'][-1]['publication_date'], REMOTIVE_DATETIME).timestamp()\n",
    "        if len(res.json()['jobs']) < limit or date > publication_date:\n",
    "            print(f\"Jobs from catgory {category} fetched ✅\")\n",
    "            return get_remotive_jobs_since(res.json()['jobs'], date)\n",
    "        else:\n",
    "            return get_category_jobs_since(api, category, date, limit + 5)\n",
    "    return []\n",
    "\n",
    "def get_jobs_since(api, categories, date):\n",
    "    jobs = []\n",
    "    for category in categories:\n",
    "        jobs += get_category_jobs_since(api, category, date, 5)\n",
    "    print(f'- All job since {datetime.fromtimestamp(date)} have been fetched -')\n",
    "    return jobs"
   ]
  },
  {
   "cell_type": "markdown",
   "metadata": {},
   "source": [
    "## Get all jobs posted after timestamp_date\n",
    "\n",
    "All jobs posted after the timestamp stored in 'timestamp_date' will be fetched.\n",
    "In summary, we can set the value, in seconds, of 'search_data_from' to fetch all jobs posted since this duration"
   ]
  },
  {
   "cell_type": "code",
   "execution_count": 5,
   "metadata": {
    "execution": {
     "iopub.execute_input": "2022-02-03T16:12:14.082603Z",
     "iopub.status.busy": "2022-02-03T16:12:14.082373Z",
     "iopub.status.idle": "2022-02-03T16:12:17.067596Z",
     "shell.execute_reply": "2022-02-03T16:12:17.067019Z",
     "shell.execute_reply.started": "2022-02-03T16:12:14.082579Z"
    },
    "tags": []
   },
   "outputs": [
    {
     "name": "stdout",
     "output_type": "stream",
     "text": [
      "Jobs from catgory data fetched ✅\n",
      "- All job since 2022-01-14 17:12:14.083598 have been fetched -\n"
     ]
    }
   ],
   "source": [
    "##### Search jobs past 20 days #####\n",
    "search_jobs_from = 20 * 24 * 60 * 60 # 24 hours in seconds\n",
    "timestamp_date = time.time() - search_jobs_from\n",
    "\n",
    "jobs = get_jobs_since(REMOTIVE_API, categories, timestamp_date)"
   ]
  },
  {
   "cell_type": "markdown",
   "metadata": {},
   "source": [
    "## Display found jobs"
   ]
  },
  {
   "cell_type": "code",
   "execution_count": 6,
   "metadata": {
    "execution": {
     "iopub.execute_input": "2022-02-03T16:12:41.967790Z",
     "iopub.status.busy": "2022-02-03T16:12:41.967553Z",
     "iopub.status.idle": "2022-02-03T16:12:41.973472Z",
     "shell.execute_reply": "2022-02-03T16:12:41.972725Z",
     "shell.execute_reply.started": "2022-02-03T16:12:41.967765Z"
    },
    "tags": []
   },
   "outputs": [
    {
     "name": "stdout",
     "output_type": "stream",
     "text": [
      "Java Developer (Data)\n",
      "Data and Research Analyst\n",
      "Data Analyst\n",
      "Data Quality Analyst, Healthcare\n",
      "Lead Instructor - Data Analytics\n",
      "Analytics Manager, Data\n",
      "Data Science\n",
      "Data Analytics Engineer\n",
      "Senior Database Engineer/Data Scientist\n",
      "Data Engineer\n",
      "Senior Analyst\n",
      "Associate Analyst, TruGuard\n",
      "(Senior) Data Scientist\n",
      "Data Scientist\n",
      "Data Engineer\n",
      "Data Analyst\n",
      "Analytics Lead\n",
      "Data Analyst\n",
      "Data Engineer\n",
      "Clinical Data Manager I\n",
      "(Senior) Database Administrator\n",
      "Instructor, Data Analytics\n",
      "(Associate) Database Administrator\n",
      "(Senior) Database Administrator\n",
      "Data Engineer/Data Architect\n",
      "Data Science, Senior Manager\n",
      "Data Engineering Lead\n",
      "Data Scientist\n"
     ]
    }
   ],
   "source": [
    "for job in jobs:\n",
    "    print(job['JOBS'])"
   ]
  },
  {
   "cell_type": "markdown",
   "metadata": {},
   "source": [
    "## Setup sheet log data"
   ]
  },
  {
   "cell_type": "code",
   "execution_count": 7,
   "metadata": {
    "execution": {
     "iopub.execute_input": "2022-02-03T16:13:00.026263Z",
     "iopub.status.busy": "2022-02-03T16:13:00.026036Z",
     "iopub.status.idle": "2022-02-03T16:13:00.030586Z",
     "shell.execute_reply": "2022-02-03T16:13:00.030036Z",
     "shell.execute_reply.started": "2022-02-03T16:13:00.026238Z"
    },
    "tags": []
   },
   "outputs": [],
   "source": [
    "spreadsheet_id = \"1EBefhkbmqaXMZLRCiafabf68qwhYKiEOayT1BRT34tU\"\n",
    "sheet_name = \"SLACK_CHANNEL_POSTS\""
   ]
  },
  {
   "cell_type": "markdown",
   "metadata": {},
   "source": [
    "## Get the sheet log of jobs"
   ]
  },
  {
   "cell_type": "code",
   "execution_count": 8,
   "metadata": {
    "execution": {
     "iopub.execute_input": "2022-02-03T16:13:08.719289Z",
     "iopub.status.busy": "2022-02-03T16:13:08.719058Z",
     "iopub.status.idle": "2022-02-03T16:13:09.348483Z",
     "shell.execute_reply": "2022-02-03T16:13:09.347835Z",
     "shell.execute_reply.started": "2022-02-03T16:13:08.719263Z"
    },
    "tags": []
   },
   "outputs": [
    {
     "data": {
      "text/html": [
       "<div>\n",
       "<style scoped>\n",
       "    .dataframe tbody tr th:only-of-type {\n",
       "        vertical-align: middle;\n",
       "    }\n",
       "\n",
       "    .dataframe tbody tr th {\n",
       "        vertical-align: top;\n",
       "    }\n",
       "\n",
       "    .dataframe thead th {\n",
       "        text-align: right;\n",
       "    }\n",
       "</style>\n",
       "<table border=\"1\" class=\"dataframe\">\n",
       "  <thead>\n",
       "    <tr style=\"text-align: right;\">\n",
       "      <th></th>\n",
       "      <th>URL</th>\n",
       "      <th>JOBS</th>\n",
       "      <th>COMPANY</th>\n",
       "      <th>PUBLISH_DATE</th>\n",
       "    </tr>\n",
       "  </thead>\n",
       "  <tbody>\n",
       "    <tr>\n",
       "      <th>0</th>\n",
       "      <td>https://remote.co/job/data-support-specialist-...</td>\n",
       "      <td>Data Support Specialist III</td>\n",
       "      <td>Compassion International</td>\n",
       "      <td>21/03/2021 13:42:00</td>\n",
       "    </tr>\n",
       "    <tr>\n",
       "      <th>1</th>\n",
       "      <td>https://remote.co/job/senior-data-analyst-7/</td>\n",
       "      <td>Senior Data Analyst</td>\n",
       "      <td>Varsity Tutors</td>\n",
       "      <td>21/03/2021 13:45:00</td>\n",
       "    </tr>\n",
       "    <tr>\n",
       "      <th>2</th>\n",
       "      <td>https://remote.co/job/data-scientist-marketing...</td>\n",
       "      <td>Data Scientist, Marketing Capital Allocation</td>\n",
       "      <td>Root Insurance</td>\n",
       "      <td>21/03/2021 13:46:00</td>\n",
       "    </tr>\n",
       "    <tr>\n",
       "      <th>3</th>\n",
       "      <td>https://remote.co/job/business-data-strategist/</td>\n",
       "      <td>Business Data Strategist</td>\n",
       "      <td>Quantum Metric</td>\n",
       "      <td>21/03/2021 13:47:00</td>\n",
       "    </tr>\n",
       "    <tr>\n",
       "      <th>4</th>\n",
       "      <td>https://remote.co/job/senior-data-scientist-36/</td>\n",
       "      <td>Senior Data Scientist</td>\n",
       "      <td>League, Inc.</td>\n",
       "      <td>21/03/2021 13:49:00</td>\n",
       "    </tr>\n",
       "    <tr>\n",
       "      <th>...</th>\n",
       "      <td>...</td>\n",
       "      <td>...</td>\n",
       "      <td>...</td>\n",
       "      <td>...</td>\n",
       "    </tr>\n",
       "    <tr>\n",
       "      <th>358</th>\n",
       "      <td>https://remotive.io/remote-jobs/data/director-...</td>\n",
       "      <td>director of data science</td>\n",
       "      <td>soona</td>\n",
       "      <td>2021/08/04 01:40:59</td>\n",
       "    </tr>\n",
       "    <tr>\n",
       "      <th>359</th>\n",
       "      <td>https://remotive.io/remote-jobs/data/data-scie...</td>\n",
       "      <td>Data Scientist</td>\n",
       "      <td>STILT</td>\n",
       "      <td>2021/08/05 01:41:56</td>\n",
       "    </tr>\n",
       "    <tr>\n",
       "      <th>360</th>\n",
       "      <td>https://remotive.io/remote-jobs/data/senior-da...</td>\n",
       "      <td>Senior Data Scientist (NLP)</td>\n",
       "      <td>Parenthetic</td>\n",
       "      <td>2021/08/06 01:46:37</td>\n",
       "    </tr>\n",
       "    <tr>\n",
       "      <th>361</th>\n",
       "      <td>https://remotive.io/remote-jobs/data/senior-da...</td>\n",
       "      <td>Senior Data Analyst</td>\n",
       "      <td>Ginger</td>\n",
       "      <td>2021/08/05 20:21:48</td>\n",
       "    </tr>\n",
       "    <tr>\n",
       "      <th>362</th>\n",
       "      <td>https://remotive.io/remote-jobs/data/analytics...</td>\n",
       "      <td>Analytics Manager, Data</td>\n",
       "      <td>Vouch Insurance</td>\n",
       "      <td>2022/01/30 09:39:40</td>\n",
       "    </tr>\n",
       "  </tbody>\n",
       "</table>\n",
       "<p>363 rows × 4 columns</p>\n",
       "</div>"
      ],
      "text/plain": [
       "                                                   URL  \\\n",
       "0    https://remote.co/job/data-support-specialist-...   \n",
       "1         https://remote.co/job/senior-data-analyst-7/   \n",
       "2    https://remote.co/job/data-scientist-marketing...   \n",
       "3      https://remote.co/job/business-data-strategist/   \n",
       "4      https://remote.co/job/senior-data-scientist-36/   \n",
       "..                                                 ...   \n",
       "358  https://remotive.io/remote-jobs/data/director-...   \n",
       "359  https://remotive.io/remote-jobs/data/data-scie...   \n",
       "360  https://remotive.io/remote-jobs/data/senior-da...   \n",
       "361  https://remotive.io/remote-jobs/data/senior-da...   \n",
       "362  https://remotive.io/remote-jobs/data/analytics...   \n",
       "\n",
       "                                             JOBS                    COMPANY  \\\n",
       "0                     Data Support Specialist III  Compassion International    \n",
       "1                             Senior Data Analyst             Varsity Tutors   \n",
       "2    Data Scientist, Marketing Capital Allocation             Root Insurance   \n",
       "3                        Business Data Strategist            Quantum Metric    \n",
       "4                           Senior Data Scientist               League, Inc.   \n",
       "..                                            ...                        ...   \n",
       "358                      director of data science                      soona   \n",
       "359                                Data Scientist                      STILT   \n",
       "360                   Senior Data Scientist (NLP)                Parenthetic   \n",
       "361                           Senior Data Analyst                    Ginger    \n",
       "362                       Analytics Manager, Data            Vouch Insurance   \n",
       "\n",
       "            PUBLISH_DATE  \n",
       "0    21/03/2021 13:42:00  \n",
       "1    21/03/2021 13:45:00  \n",
       "2    21/03/2021 13:46:00  \n",
       "3    21/03/2021 13:47:00  \n",
       "4    21/03/2021 13:49:00  \n",
       "..                   ...  \n",
       "358  2021/08/04 01:40:59  \n",
       "359  2021/08/05 01:41:56  \n",
       "360  2021/08/06 01:46:37  \n",
       "361  2021/08/05 20:21:48  \n",
       "362  2022/01/30 09:39:40  \n",
       "\n",
       "[363 rows x 4 columns]"
      ]
     },
     "execution_count": 8,
     "metadata": {},
     "output_type": "execute_result"
    }
   ],
   "source": [
    "df = naas_drivers.gsheet.connect(spreadsheet_id).get(\n",
    "    sheet_name=sheet_name\n",
    ")\n",
    "df"
   ]
  },
  {
   "cell_type": "markdown",
   "metadata": {},
   "source": [
    "## Remove duplicate jobs"
   ]
  },
  {
   "cell_type": "code",
   "execution_count": 9,
   "metadata": {
    "execution": {
     "iopub.execute_input": "2022-02-03T16:13:15.039822Z",
     "iopub.status.busy": "2022-02-03T16:13:15.039575Z",
     "iopub.status.idle": "2022-02-03T16:13:15.045670Z",
     "shell.execute_reply": "2022-02-03T16:13:15.044931Z",
     "shell.execute_reply.started": "2022-02-03T16:13:15.039797Z"
    },
    "tags": []
   },
   "outputs": [
    {
     "name": "stdout",
     "output_type": "stream",
     "text": [
      "'Analytics Manager, Data' already in stored in sheet ❌\n"
     ]
    }
   ],
   "source": [
    "jobs_to_remove = []\n",
    "\n",
    "for index, job in enumerate(jobs):\n",
    "    for url in df['URL']:\n",
    "        if job['URL'] == url:\n",
    "            jobs_to_remove.append(index)\n",
    "            \n",
    "for index in reversed(jobs_to_remove):\n",
    "    print(f\"'{jobs[index]['JOBS']}' already in stored in sheet ❌\")\n",
    "    del jobs[index]"
   ]
  },
  {
   "cell_type": "markdown",
   "metadata": {},
   "source": [
    "## Add new jobs on the sheet log"
   ]
  },
  {
   "cell_type": "code",
   "execution_count": 10,
   "metadata": {
    "execution": {
     "iopub.execute_input": "2022-02-03T16:13:31.574694Z",
     "iopub.status.busy": "2022-02-03T16:13:31.574468Z",
     "iopub.status.idle": "2022-02-03T16:13:32.992836Z",
     "shell.execute_reply": "2022-02-03T16:13:32.992164Z",
     "shell.execute_reply.started": "2022-02-03T16:13:31.574670Z"
    },
    "tags": []
   },
   "outputs": [
    {
     "data": {
      "text/plain": [
       "{'insertedRow': 27}"
      ]
     },
     "execution_count": 10,
     "metadata": {},
     "output_type": "execute_result"
    }
   ],
   "source": [
    "naas_drivers.gsheet.connect(spreadsheet_id).send(\n",
    "    sheet_name=sheet_name,\n",
    "    data=jobs)"
   ]
  },
  {
   "cell_type": "markdown",
   "metadata": {},
   "source": [
    "## Setup slack channel configuration"
   ]
  },
  {
   "cell_type": "code",
   "execution_count": 25,
   "metadata": {
    "execution": {
     "iopub.execute_input": "2022-02-03T16:32:41.597798Z",
     "iopub.status.busy": "2022-02-03T16:32:41.597573Z",
     "iopub.status.idle": "2022-02-03T16:32:41.605729Z",
     "shell.execute_reply": "2022-02-03T16:32:41.601450Z",
     "shell.execute_reply.started": "2022-02-03T16:32:41.597775Z"
    },
    "tags": []
   },
   "outputs": [],
   "source": [
    "# token = \"xoxb-148104********-190666******-BVrrrVN7e6eMCm6******\"\n",
    "token =   \"gQC3N88wFIIXxiyDdrrPYR14\"\n",
    "SLACK_CHANNEL = \"05_work\"\n",
    "# assert len(\"BVrrrVN7e6eMCm6cU0vZ6BYM\") == len(token)"
   ]
  },
  {
   "cell_type": "markdown",
   "metadata": {},
   "source": [
    "## Send all jobs link to the slack channel"
   ]
  },
  {
   "cell_type": "code",
   "execution_count": 26,
   "metadata": {
    "execution": {
     "iopub.execute_input": "2022-02-03T16:32:43.985678Z",
     "iopub.status.busy": "2022-02-03T16:32:43.985439Z",
     "iopub.status.idle": "2022-02-03T16:32:47.425596Z",
     "shell.execute_reply": "2022-02-03T16:32:47.424962Z",
     "shell.execute_reply.started": "2022-02-03T16:32:43.985649Z"
    },
    "tags": []
   },
   "outputs": [
    {
     "name": "stdout",
     "output_type": "stream",
     "text": [
      "Got an error: invalid_auth\n",
      "Got an error: invalid_auth\n",
      "Got an error: invalid_auth\n",
      "Got an error: invalid_auth\n",
      "Got an error: invalid_auth\n",
      "Got an error: invalid_auth\n",
      "Got an error: invalid_auth\n",
      "Got an error: invalid_auth\n",
      "Got an error: invalid_auth\n",
      "Got an error: invalid_auth\n",
      "Got an error: invalid_auth\n",
      "Got an error: invalid_auth\n",
      "Got an error: invalid_auth\n",
      "Got an error: invalid_auth\n",
      "Got an error: invalid_auth\n",
      "Got an error: invalid_auth\n",
      "Got an error: invalid_auth\n",
      "Got an error: invalid_auth\n",
      "Got an error: invalid_auth\n",
      "Got an error: invalid_auth\n",
      "Got an error: invalid_auth\n",
      "Got an error: invalid_auth\n",
      "Got an error: invalid_auth\n",
      "Got an error: invalid_auth\n",
      "Got an error: invalid_auth\n",
      "Got an error: invalid_auth\n",
      "Got an error: invalid_auth\n"
     ]
    }
   ],
   "source": [
    "for job in jobs:\n",
    "    naas_drivers.slack.connect(token).send(SLACK_CHANNEL, f\"<{job['URL']}>\")"
   ]
  },
  {
   "cell_type": "markdown",
   "metadata": {},
   "source": [
    "## Set the Scheduler"
   ]
  },
  {
   "cell_type": "code",
   "execution_count": 13,
   "metadata": {
    "execution": {
     "iopub.execute_input": "2022-01-31T12:51:43.859065Z",
     "iopub.status.busy": "2022-01-31T12:51:43.858698Z",
     "iopub.status.idle": "2022-01-31T12:51:45.421995Z",
     "shell.execute_reply": "2022-01-31T12:51:45.416217Z",
     "shell.execute_reply.started": "2022-01-31T12:51:43.859031Z"
    },
    "tags": []
   },
   "outputs": [
    {
     "name": "stdout",
     "output_type": "stream",
     "text": [
      "recurrence is deprecated use cron arg instead\n",
      "👌 Well done! Your Notebook has been sent to production.\n",
      "\n",
      "⏰ It will be scheduled \"At 09:00 every day\" (more on the syntax on https://crontab.guru/).\n",
      "\n",
      "Ps: to remove the \"Scheduler\", just replace .add by .delete\n"
     ]
    }
   ],
   "source": [
    "import naas\n",
    "\n",
    "naas.scheduler.add(recurrence=\"0 9 * * *\")"
   ]
  },
  {
   "cell_type": "code",
   "execution_count": 14,
   "metadata": {
    "execution": {
     "iopub.execute_input": "2022-01-31T12:51:45.423656Z",
     "iopub.status.busy": "2022-01-31T12:51:45.423394Z",
     "iopub.status.idle": "2022-01-31T12:51:45.431667Z",
     "shell.execute_reply": "2022-01-31T12:51:45.429706Z",
     "shell.execute_reply.started": "2022-01-31T12:51:45.423623Z"
    }
   },
   "outputs": [],
   "source": [
    "# naas.scheduler.delete()"
   ]
  },
  {
   "cell_type": "code",
   "execution_count": null,
   "metadata": {},
   "outputs": [],
   "source": []
  }
 ],
 "metadata": {
  "kernelspec": {
   "display_name": "Python 3",
   "language": "python",
   "name": "python3"
  },
  "language_info": {
   "codemirror_mode": {
    "name": "ipython",
    "version": 3
   },
   "file_extension": ".py",
   "mimetype": "text/x-python",
   "name": "python",
   "nbconvert_exporter": "python",
   "pygments_lexer": "ipython3",
   "version": "3.8.8"
  }
 },
 "nbformat": 4,
 "nbformat_minor": 4
}
