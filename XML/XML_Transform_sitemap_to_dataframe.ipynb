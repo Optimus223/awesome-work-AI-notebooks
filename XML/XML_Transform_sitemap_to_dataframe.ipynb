{
 "cells": [
  {
   "cell_type": "markdown",
   "id": "statewide-accordance",
   "metadata": {
    "papermill": {},
    "tags": []
   },
   "source": [
    "<img width=\"10%\" alt=\"Naas\" src=\"https://landen.imgix.net/jtci2pxwjczr/assets/5ice39g4.png?w=160\"/>"
   ]
  },
  {
   "cell_type": "markdown",
   "id": "loved-tsunami",
   "metadata": {
    "papermill": {},
    "tags": []
   },
   "source": [
    "# XML - Transform sitemap to dataframe\n",
    "<a href=\"https://app.naas.ai/user-redirect/naas/downloader?url=https://raw.githubusercontent.com/jupyter-naas/awesome-notebooks/master/XML/XML_Transform_sitemap_to_dataframe.ipynb\" target=\"_parent\"><img src=\"https://img.shields.io/badge/-Open%20in%20Naas-success?labelColor=000000&logo=data:image/svg+xml;base64,PD94bWwgdmVyc2lvbj0iMS4wIiBlbmNvZGluZz0iVVRGLTgiPz4KPHN2ZyB3aWR0aD0iMTAyNHB4IiBoZWlnaHQ9IjEwMjRweCIgdmlld0JveD0iMCAwIDEwMjQgMTAyNCIgeG1sbnM9Imh0dHA6Ly93d3cudzMub3JnLzIwMDAvc3ZnIiB4bWxuczp4bGluaz0iaHR0cDovL3d3dy53My5vcmcvMTk5OS94bGluayIgdmVyc2lvbj0iMS4xIj4KIDwhLS0gR2VuZXJhdGVkIGJ5IFBpeGVsbWF0b3IgUHJvIDIuMC41IC0tPgogPGRlZnM+CiAgPHRleHQgaWQ9InN0cmluZyIgdHJhbnNmb3JtPSJtYXRyaXgoMS4wIDAuMCAwLjAgMS4wIDIyOC4wIDU0LjUpIiBmb250LWZhbWlseT0iQ29tZm9ydGFhLVJlZ3VsYXIsIENvbWZvcnRhYSIgZm9udC1zaXplPSI4MDAiIHRleHQtZGVjb3JhdGlvbj0ibm9uZSIgZmlsbD0iI2ZmZmZmZiIgeD0iMS4xOTk5OTk5OTk5OTk5ODg2IiB5PSI3MDUuMCI+bjwvdGV4dD4KIDwvZGVmcz4KIDx1c2UgaWQ9Im4iIHhsaW5rOmhyZWY9IiNzdHJpbmciLz4KPC9zdmc+Cg==\"/></a>"
   ]
  },
  {
   "cell_type": "markdown",
   "id": "779c9efa-e16d-4ce6-8dcf-69fcd1e46cee",
   "metadata": {},
   "source": [
    "**Tags:** #xml #file #tool"
   ]
  },
  {
   "cell_type": "markdown",
   "id": "quality-trouble",
   "metadata": {
    "papermill": {},
    "tags": []
   },
   "source": [
    "## Install needed library"
   ]
  },
  {
   "cell_type": "code",
   "execution_count": 1,
   "id": "lasting-segment",
   "metadata": {
    "execution": {
     "iopub.execute_input": "2021-01-26T13:48:07.547074Z",
     "iopub.status.busy": "2021-01-26T13:48:07.546613Z",
     "iopub.status.idle": "2021-01-26T13:48:09.722083Z",
     "shell.execute_reply": "2021-01-26T13:48:09.721418Z",
     "shell.execute_reply.started": "2021-01-26T13:48:07.547000Z"
    },
    "jupyter": {
     "source_hidden": true
    },
    "papermill": {},
    "tags": []
   },
   "outputs": [],
   "source": [
    "pip install xmltodict"
   ]
  },
  {
   "cell_type": "markdown",
   "id": "waiting-inflation",
   "metadata": {
    "papermill": {},
    "tags": []
   },
   "source": [
    "## Run the magic code"
   ]
  },
  {
   "cell_type": "code",
   "execution_count": 2,
   "id": "exact-syndicate",
   "metadata": {
    "execution": {
     "iopub.execute_input": "2021-01-26T13:48:09.724068Z",
     "iopub.status.busy": "2021-01-26T13:48:09.723782Z",
     "iopub.status.idle": "2021-01-26T13:48:10.068799Z",
     "shell.execute_reply": "2021-01-26T13:48:10.068219Z",
     "shell.execute_reply.started": "2021-01-26T13:48:09.724032Z"
    },
    "jupyter": {
     "source_hidden": true
    },
    "papermill": {},
    "tags": []
   },
   "outputs": [],
   "source": [
    "import json \n",
    "import xmltodict\n",
    "import pandas as pd\n",
    "import requests\n",
    "\n",
    "def sitemap_to_df(url):\n",
    "    df = None\n",
    "    key = \"urlset.url.url\"\n",
    "    r = requests.get(f'{url}/sitemap.xml')\n",
    "    data_dict = xmltodict.parse(r.content) \n",
    "    if key and len(key.split('.')) > 0:\n",
    "        keys = key.split('.')\n",
    "        keys.reverse()\n",
    "        data = data_dict.get(keys.pop())\n",
    "        while(len(keys) > 1):\n",
    "            data = data.get(keys.pop())\n",
    "        df = pd.DataFrame.from_dict(data=data)\n",
    "    elif key and data_dict.get(key):\n",
    "        df = pd.DataFrame.from_dict(data=data_dict.get(key))\n",
    "    else:\n",
    "        df = pd.DataFrame.from_dict(data=data_dict)\n",
    "    return df\n"
   ]
  },
  {
   "cell_type": "markdown",
   "id": "input_cell",
   "metadata": {
    "papermill": {},
    "tags": []
   },
   "source": [
    "## Input"
   ]
  },
  {
   "cell_type": "markdown",
   "id": "import_cell",
   "metadata": {
    "papermill": {},
    "tags": []
   },
   "source": [
    "### Import library"
   ]
  },
  {
   "cell_type": "code",
   "execution_count": null,
   "id": "3dde0e0a-55f2-44a6-886b-58ef90b8028a",
   "metadata": {},
   "outputs": [],
   "source": [
    "import naas"
   ]
  },
  {
   "cell_type": "markdown",
   "id": "looking-virgin",
   "metadata": {
    "papermill": {},
    "tags": []
   },
   "source": [
    "### Choose the website you want"
   ]
  },
  {
   "cell_type": "code",
   "execution_count": 5,
   "id": "vertical-croatia",
   "metadata": {
    "execution": {
     "iopub.execute_input": "2021-01-26T13:51:46.220346Z",
     "iopub.status.busy": "2021-01-26T13:51:46.220103Z",
     "iopub.status.idle": "2021-01-26T13:51:46.223158Z",
     "shell.execute_reply": "2021-01-26T13:51:46.222531Z",
     "shell.execute_reply.started": "2021-01-26T13:51:46.220323Z"
    },
    "papermill": {},
    "tags": []
   },
   "outputs": [],
   "source": [
    "website = \"https://zapier.com\""
   ]
  },
  {
   "cell_type": "markdown",
   "id": "model_cell",
   "metadata": {
    "papermill": {},
    "tags": []
   },
   "source": [
    "## Model"
   ]
  },
  {
   "cell_type": "markdown",
   "id": "elder-venice",
   "metadata": {
    "papermill": {},
    "tags": []
   },
   "source": [
    "### Get your Dataframe"
   ]
  },
  {
   "cell_type": "code",
   "execution_count": 6,
   "id": "coated-update",
   "metadata": {
    "execution": {
     "iopub.execute_input": "2021-01-26T13:51:47.480141Z",
     "iopub.status.busy": "2021-01-26T13:51:47.479911Z",
     "iopub.status.idle": "2021-01-26T13:51:49.417506Z",
     "shell.execute_reply": "2021-01-26T13:51:49.416976Z",
     "shell.execute_reply.started": "2021-01-26T13:51:47.480119Z"
    },
    "papermill": {},
    "tags": []
   },
   "outputs": [],
   "source": [
    "df = sitemap_to_df(website)\n",
    "df"
   ]
  },
  {
   "cell_type": "markdown",
   "id": "output_cell",
   "metadata": {
    "papermill": {},
    "tags": []
   },
   "source": [
    "## Output"
   ]
  },
  {
   "cell_type": "markdown",
   "id": "29815a82-d634-4c4d-9e3f-01099f8b0bee",
   "metadata": {},
   "source": [
    "### Set the timezone"
   ]
  },
  {
   "cell_type": "code",
   "execution_count": 1,
   "id": "northern-heritage",
   "metadata": {
    "execution": {
     "iopub.execute_input": "2021-01-26T13:56:34.474962Z",
     "iopub.status.busy": "2021-01-26T13:56:34.474678Z",
     "iopub.status.idle": "2021-01-26T13:56:35.470911Z",
     "shell.execute_reply": "2021-01-26T13:56:35.470409Z",
     "shell.execute_reply.started": "2021-01-26T13:56:34.474890Z"
    },
    "papermill": {},
    "tags": []
   },
   "outputs": [],
   "source": [
    "naas.get_remote_timezone()"
   ]
  },
  {
   "cell_type": "code",
   "execution_count": 2,
   "id": "varied-queue",
   "metadata": {
    "execution": {
     "iopub.execute_input": "2021-01-26T13:56:46.674985Z",
     "iopub.status.busy": "2021-01-26T13:56:46.674753Z",
     "iopub.status.idle": "2021-01-26T13:56:46.686764Z",
     "shell.execute_reply": "2021-01-26T13:56:46.686053Z",
     "shell.execute_reply.started": "2021-01-26T13:56:46.674961Z"
    },
    "papermill": {},
    "tags": []
   },
   "outputs": [],
   "source": [
    "naas.set_remote_timezone(\"Europe/Lisbon\")"
   ]
  }
 ],
 "metadata": {
  "kernelspec": {
   "display_name": "Python 3",
   "language": "python",
   "name": "python3"
  },
  "language_info": {
   "codemirror_mode": {
    "name": "ipython",
    "version": 3
   },
   "file_extension": ".py",
   "mimetype": "text/x-python",
   "name": "python",
   "nbconvert_exporter": "python",
   "pygments_lexer": "ipython3",
   "version": "3.8.8"
  },
  "papermill": {
   "default_parameters": {},
   "environment_variables": {},
   "parameters": {},
   "version": "2.3.3"
  }
 },
 "nbformat": 4,
 "nbformat_minor": 5
}
