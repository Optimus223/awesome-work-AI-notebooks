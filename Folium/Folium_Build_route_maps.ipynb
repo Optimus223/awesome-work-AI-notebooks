{
 "cells": [
  {
   "cell_type": "markdown",
   "id": "ae52aeb7-e723-4a12-ba20-02652fc4a03c",
   "metadata": {
    "papermill": {},
    "tags": []
   },
   "source": [
    "<img width=\"10%\" alt=\"Naas\" src=\"https://landen.imgix.net/jtci2pxwjczr/assets/5ice39g4.png?w=160\"/>"
   ]
  },
  {
   "cell_type": "markdown",
   "id": "a12e5f57-8c01-4642-8a8d-2cd1be2d7a59",
   "metadata": {
    "papermill": {},
    "tags": []
   },
   "source": [
    "# Folium - Build route maps"
   ]
  },
  {
   "cell_type": "markdown",
   "id": "552f4924-c584-43e7-97c5-beaf461ce5ca",
   "metadata": {
    "papermill": {},
    "tags": []
   },
   "source": [
    "**Tags:** #folium #maps #routes #python #visualization #data"
   ]
  },
  {
   "cell_type": "markdown",
   "id": "e5a327fa-76d2-4d77-9b17-1d78aad794ab",
   "metadata": {
    "papermill": {},
    "tags": []
   },
   "source": [
    "**Author:** [Florent Ravenel](https://www.linkedin.com/in/florent-ravenel)"
   ]
  },
  {
   "cell_type": "markdown",
   "id": "661ebb35-4b72-4173-a6d4-cc8aa53ea9e4",
   "metadata": {
    "papermill": {},
    "tags": []
   },
   "source": [
    "**Last update:** 2023-07-31 (Created: 2023-07-31)"
   ]
  },
  {
   "cell_type": "markdown",
   "id": "68d60bf3-8196-4276-96b9-24c0dfbfcb4c",
   "metadata": {
    "papermill": {},
    "tags": []
   },
   "source": [
    "**Description:** This notebook will show how to use Folium to build route maps."
   ]
  },
  {
   "cell_type": "markdown",
   "id": "557a5b48-34d9-4b8f-a4c6-156b0f491b9b",
   "metadata": {
    "papermill": {},
    "tags": []
   },
   "source": [
    "**References:**\n",
    "- [Folium Documentation](https://python-visualization.github.io/folium/)\n",
    "- [Folium Examples](https://nbviewer.jupyter.org/github/python-visualization/folium/tree/master/examples/)"
   ]
  },
  {
   "cell_type": "markdown",
   "id": "c102f6f6-616e-43e0-bdad-6bb4657bcfc3",
   "metadata": {
    "papermill": {},
    "tags": []
   },
   "source": [
    "## Input"
   ]
  },
  {
   "cell_type": "markdown",
   "id": "2be61704-e768-4914-81a3-64c2cec96bf3",
   "metadata": {
    "papermill": {},
    "tags": []
   },
   "source": [
    "### Import libraries"
   ]
  },
  {
   "cell_type": "code",
   "execution_count": 1,
   "id": "5a22447f-97fa-4426-acde-eb611661614f",
   "metadata": {
    "execution": {
     "iopub.execute_input": "2023-07-31T15:43:25.687583Z",
     "iopub.status.busy": "2023-07-31T15:43:25.686519Z",
     "iopub.status.idle": "2023-07-31T15:43:27.752217Z",
     "shell.execute_reply": "2023-07-31T15:43:27.750905Z",
     "shell.execute_reply.started": "2023-07-31T15:43:25.687500Z"
    },
    "papermill": {},
    "tags": []
   },
   "outputs": [],
   "source": [
    "try:\n",
    "    import folium\n",
    "except:\n",
    "    !pip install folium --user\n",
    "    import folium"
   ]
  },
  {
   "cell_type": "markdown",
   "id": "ebd15039-04f0-41a2-8cb6-ca3ad898245d",
   "metadata": {
    "papermill": {},
    "tags": []
   },
   "source": [
    "### Setup variables\n",
    "- `start_point`: Starting point of the route\n",
    "- `end_point`: Ending point of the route\n",
    "- `waypoints`: List of waypoints to be included in the route"
   ]
  },
  {
   "cell_type": "code",
   "execution_count": 2,
   "id": "19d5c8f3-ceeb-456c-b61f-38469cf81bcd",
   "metadata": {
    "execution": {
     "iopub.execute_input": "2023-07-31T15:43:27.754021Z",
     "iopub.status.busy": "2023-07-31T15:43:27.753789Z",
     "iopub.status.idle": "2023-07-31T15:43:27.763659Z",
     "shell.execute_reply": "2023-07-31T15:43:27.761058Z",
     "shell.execute_reply.started": "2023-07-31T15:43:27.753993Z"
    },
    "papermill": {},
    "tags": []
   },
   "outputs": [],
   "source": [
    "start_point = (48.85837009999999, 2.2944813)\n",
    "end_point = (48.85837009999999, 2.2944813)\n",
    "waypoints = [(48.85837009999999, 2.2944813), (48.85837009999999, 2.2944813)]"
   ]
  },
  {
   "cell_type": "markdown",
   "id": "295dad87-d4dd-4139-9f81-fef29421f7ee",
   "metadata": {
    "papermill": {},
    "tags": []
   },
   "source": [
    "## Model"
   ]
  },
  {
   "cell_type": "markdown",
   "id": "52d10243-9798-4da8-a01d-5c42f5da1f2b",
   "metadata": {
    "papermill": {},
    "tags": []
   },
   "source": [
    "### Create route map"
   ]
  },
  {
   "cell_type": "markdown",
   "id": "13256d79-8a22-49ec-97f4-eb51657f7dfc",
   "metadata": {
    "papermill": {},
    "tags": []
   },
   "source": [
    "Long description of the function without break"
   ]
  },
  {
   "cell_type": "code",
   "execution_count": 3,
   "id": "d86d3979-87a2-4d68-a095-b598f681480d",
   "metadata": {
    "execution": {
     "iopub.execute_input": "2023-07-31T15:43:27.766372Z",
     "iopub.status.busy": "2023-07-31T15:43:27.766018Z",
     "iopub.status.idle": "2023-07-31T15:43:28.035907Z",
     "shell.execute_reply": "2023-07-31T15:43:28.035264Z",
     "shell.execute_reply.started": "2023-07-31T15:43:27.766342Z"
    },
    "papermill": {},
    "tags": []
   },
   "outputs": [],
   "source": [
    "# Create route map\n",
    "route_map = folium.Map(location=start_point, zoom_start=13)\n",
    "\n",
    "# Create route\n",
    "folium.PolyLine(\n",
    "    locations=[start_point, end_point], color=\"red\", weight=2.5, opacity=1\n",
    ").add_to(route_map)\n",
    "\n",
    "# Add waypoints\n",
    "for point in waypoints:\n",
    "    folium.Marker(location=point).add_to(route_map)"
   ]
  },
  {
   "cell_type": "markdown",
   "id": "d17f0d42-1d5d-4f09-8217-74cfc097b3b2",
   "metadata": {
    "papermill": {},
    "tags": []
   },
   "source": [
    "## Output"
   ]
  },
  {
   "cell_type": "markdown",
   "id": "ebc49f05-1722-4b8b-981a-c8bbcc4ca70e",
   "metadata": {
    "papermill": {},
    "tags": []
   },
   "source": [
    "### Display result"
   ]
  },
  {
   "cell_type": "code",
   "execution_count": 4,
   "id": "effb0054-1a1b-4a56-ae4e-9f0cd669c7a5",
   "metadata": {
    "execution": {
     "iopub.execute_input": "2023-07-31T15:43:28.037113Z",
     "iopub.status.busy": "2023-07-31T15:43:28.036846Z",
     "iopub.status.idle": "2023-07-31T15:43:28.060535Z",
     "shell.execute_reply": "2023-07-31T15:43:28.057343Z",
     "shell.execute_reply.started": "2023-07-31T15:43:28.037082Z"
    },
    "papermill": {},
    "tags": []
   },
   "outputs": [
    {
     "data": {
      "text/html": [
       "<div style=\"width:100%;\"><div style=\"position:relative;width:100%;height:0;padding-bottom:60%;\"><span style=\"color:#565656\">Make this Notebook Trusted to load map: File -> Trust Notebook</span><iframe srcdoc=\"&lt;!DOCTYPE html&gt;\n",
       "&lt;html&gt;\n",
       "&lt;head&gt;\n",
       "    \n",
       "    &lt;meta http-equiv=&quot;content-type&quot; content=&quot;text/html; charset=UTF-8&quot; /&gt;\n",
       "    \n",
       "        &lt;script&gt;\n",
       "            L_NO_TOUCH = false;\n",
       "            L_DISABLE_3D = false;\n",
       "        &lt;/script&gt;\n",
       "    \n",
       "    &lt;style&gt;html, body {width: 100%;height: 100%;margin: 0;padding: 0;}&lt;/style&gt;\n",
       "    &lt;style&gt;#map {position:absolute;top:0;bottom:0;right:0;left:0;}&lt;/style&gt;\n",
       "    &lt;script src=&quot;https://cdn.jsdelivr.net/npm/leaflet@1.9.3/dist/leaflet.js&quot;&gt;&lt;/script&gt;\n",
       "    &lt;script src=&quot;https://code.jquery.com/jquery-1.12.4.min.js&quot;&gt;&lt;/script&gt;\n",
       "    &lt;script src=&quot;https://cdn.jsdelivr.net/npm/bootstrap@5.2.2/dist/js/bootstrap.bundle.min.js&quot;&gt;&lt;/script&gt;\n",
       "    &lt;script src=&quot;https://cdnjs.cloudflare.com/ajax/libs/Leaflet.awesome-markers/2.0.2/leaflet.awesome-markers.js&quot;&gt;&lt;/script&gt;\n",
       "    &lt;link rel=&quot;stylesheet&quot; href=&quot;https://cdn.jsdelivr.net/npm/leaflet@1.9.3/dist/leaflet.css&quot;/&gt;\n",
       "    &lt;link rel=&quot;stylesheet&quot; href=&quot;https://cdn.jsdelivr.net/npm/bootstrap@5.2.2/dist/css/bootstrap.min.css&quot;/&gt;\n",
       "    &lt;link rel=&quot;stylesheet&quot; href=&quot;https://netdna.bootstrapcdn.com/bootstrap/3.0.0/css/bootstrap.min.css&quot;/&gt;\n",
       "    &lt;link rel=&quot;stylesheet&quot; href=&quot;https://cdn.jsdelivr.net/npm/@fortawesome/fontawesome-free@6.2.0/css/all.min.css&quot;/&gt;\n",
       "    &lt;link rel=&quot;stylesheet&quot; href=&quot;https://cdnjs.cloudflare.com/ajax/libs/Leaflet.awesome-markers/2.0.2/leaflet.awesome-markers.css&quot;/&gt;\n",
       "    &lt;link rel=&quot;stylesheet&quot; href=&quot;https://cdn.jsdelivr.net/gh/python-visualization/folium/folium/templates/leaflet.awesome.rotate.min.css&quot;/&gt;\n",
       "    \n",
       "            &lt;meta name=&quot;viewport&quot; content=&quot;width=device-width,\n",
       "                initial-scale=1.0, maximum-scale=1.0, user-scalable=no&quot; /&gt;\n",
       "            &lt;style&gt;\n",
       "                #map_6e9fc3f284b62baadc2b5ef7c4a75a97 {\n",
       "                    position: relative;\n",
       "                    width: 100.0%;\n",
       "                    height: 100.0%;\n",
       "                    left: 0.0%;\n",
       "                    top: 0.0%;\n",
       "                }\n",
       "                .leaflet-container { font-size: 1rem; }\n",
       "            &lt;/style&gt;\n",
       "        \n",
       "&lt;/head&gt;\n",
       "&lt;body&gt;\n",
       "    \n",
       "    \n",
       "            &lt;div class=&quot;folium-map&quot; id=&quot;map_6e9fc3f284b62baadc2b5ef7c4a75a97&quot; &gt;&lt;/div&gt;\n",
       "        \n",
       "&lt;/body&gt;\n",
       "&lt;script&gt;\n",
       "    \n",
       "    \n",
       "            var map_6e9fc3f284b62baadc2b5ef7c4a75a97 = L.map(\n",
       "                &quot;map_6e9fc3f284b62baadc2b5ef7c4a75a97&quot;,\n",
       "                {\n",
       "                    center: [48.85837009999999, 2.2944813],\n",
       "                    crs: L.CRS.EPSG3857,\n",
       "                    zoom: 13,\n",
       "                    zoomControl: true,\n",
       "                    preferCanvas: false,\n",
       "                }\n",
       "            );\n",
       "\n",
       "            \n",
       "\n",
       "        \n",
       "    \n",
       "            var tile_layer_bd9b2cb693ab6c3324a5dc58dda44819 = L.tileLayer(\n",
       "                &quot;https://{s}.tile.openstreetmap.org/{z}/{x}/{y}.png&quot;,\n",
       "                {&quot;attribution&quot;: &quot;Data by \\u0026copy; \\u003ca target=\\&quot;_blank\\&quot; href=\\&quot;http://openstreetmap.org\\&quot;\\u003eOpenStreetMap\\u003c/a\\u003e, under \\u003ca target=\\&quot;_blank\\&quot; href=\\&quot;http://www.openstreetmap.org/copyright\\&quot;\\u003eODbL\\u003c/a\\u003e.&quot;, &quot;detectRetina&quot;: false, &quot;maxNativeZoom&quot;: 18, &quot;maxZoom&quot;: 18, &quot;minZoom&quot;: 0, &quot;noWrap&quot;: false, &quot;opacity&quot;: 1, &quot;subdomains&quot;: &quot;abc&quot;, &quot;tms&quot;: false}\n",
       "            ).addTo(map_6e9fc3f284b62baadc2b5ef7c4a75a97);\n",
       "        \n",
       "    \n",
       "            var poly_line_7ec02e7b5c8588284f5b30d2340cef72 = L.polyline(\n",
       "                [[48.85837009999999, 2.2944813], [48.85837009999999, 2.2944813]],\n",
       "                {&quot;bubblingMouseEvents&quot;: true, &quot;color&quot;: &quot;red&quot;, &quot;dashArray&quot;: null, &quot;dashOffset&quot;: null, &quot;fill&quot;: false, &quot;fillColor&quot;: &quot;red&quot;, &quot;fillOpacity&quot;: 0.2, &quot;fillRule&quot;: &quot;evenodd&quot;, &quot;lineCap&quot;: &quot;round&quot;, &quot;lineJoin&quot;: &quot;round&quot;, &quot;noClip&quot;: false, &quot;opacity&quot;: 1, &quot;smoothFactor&quot;: 1.0, &quot;stroke&quot;: true, &quot;weight&quot;: 2.5}\n",
       "            ).addTo(map_6e9fc3f284b62baadc2b5ef7c4a75a97);\n",
       "        \n",
       "    \n",
       "            var marker_8f36a4783e9de234a7da872bdd48df46 = L.marker(\n",
       "                [48.85837009999999, 2.2944813],\n",
       "                {}\n",
       "            ).addTo(map_6e9fc3f284b62baadc2b5ef7c4a75a97);\n",
       "        \n",
       "    \n",
       "            var marker_212b2df5c86891e7b38cce7c92dca30f = L.marker(\n",
       "                [48.85837009999999, 2.2944813],\n",
       "                {}\n",
       "            ).addTo(map_6e9fc3f284b62baadc2b5ef7c4a75a97);\n",
       "        \n",
       "&lt;/script&gt;\n",
       "&lt;/html&gt;\" style=\"position:absolute;width:100%;height:100%;left:0;top:0;border:none !important;\" allowfullscreen webkitallowfullscreen mozallowfullscreen></iframe></div></div>"
      ],
      "text/plain": [
       "<folium.folium.Map at 0x7f74c92d0670>"
      ]
     },
     "execution_count": 4,
     "metadata": {},
     "output_type": "execute_result"
    }
   ],
   "source": [
    "route_map"
   ]
  },
  {
   "cell_type": "markdown",
   "id": "7d41aa33-019b-46cf-b15d-e57f5be90dfe",
   "metadata": {
    "papermill": {},
    "tags": []
   },
   "source": [
    " "
   ]
  }
 ],
 "metadata": {
  "kernelspec": {
   "display_name": "Python 3",
   "language": "python",
   "name": "python3"
  },
  "language_info": {
   "codemirror_mode": {
    "name": "ipython",
    "version": 3
   },
   "file_extension": ".py",
   "mimetype": "text/x-python",
   "name": "python",
   "nbconvert_exporter": "python",
   "pygments_lexer": "ipython3",
   "version": "3.9.6"
  },
  "widgets": {
   "application/vnd.jupyter.widget-state+json": {
    "state": {},
    "version_major": 2,
    "version_minor": 0
   }
  }
 },
 "nbformat": 4,
 "nbformat_minor": 5
}
