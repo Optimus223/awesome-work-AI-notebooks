{
 "cells": [
  {
   "cell_type": "markdown",
   "id": "latin-packing",
   "metadata": {
    "execution": {
     "iopub.execute_input": "2021-02-23T14:22:16.610471Z",
     "iopub.status.busy": "2021-02-23T14:22:16.610129Z",
     "iopub.status.idle": "2021-02-23T14:22:16.627784Z",
     "shell.execute_reply": "2021-02-23T14:22:16.626866Z",
     "shell.execute_reply.started": "2021-02-23T14:22:16.610384Z"
    },
    "papermill": {},
    "tags": []
   },
   "source": [
    "<img width=\"10%\" alt=\"Naas\" src=\"https://landen.imgix.net/jtci2pxwjczr/assets/5ice39g4.png?w=160\"/>"
   ]
  },
  {
   "cell_type": "markdown",
   "id": "compressed-wilson",
   "metadata": {
    "papermill": {},
    "tags": []
   },
   "source": [
    "# Folium - Add markers on map\n",
    "<a href=\"https://app.naas.ai/user-redirect/naas/downloader?url=https://raw.githubusercontent.com/jupyter-naas/awesome-notebooks/master/Google%20Sheets/Google_Sheets_Add_items_to_Notion_databases_from_new_rows_in_Google_Sheets.ipynb\" target=\"_parent\"><img src=\"https://naasai-public.s3.eu-west-3.amazonaws.com/Open_in_Naas_Lab.svg\"/></a><br><br><a href=\"https://bit.ly/3JyWIk6\">Give Feedbacks</a> | <a href=\"https://app.naas.ai/user-redirect/naas/downloader?url=https://raw.githubusercontent.com/jupyter-naas/awesome-notebooks/master/Naas/Naas_Start_data_product.ipynb\" target=\"_parent\">Generate Data Product</a>"
   ]
  },
  {
   "cell_type": "markdown",
   "id": "cbf7f260-f739-4e8f-9074-f070af12b69f",
   "metadata": {
    "papermill": {},
    "tags": []
   },
   "source": [
    "**Tags:** #folium #map #markers #snippet"
   ]
  },
  {
   "cell_type": "markdown",
   "id": "8af9aa79",
   "metadata": {
    "papermill": {},
    "tags": []
   },
   "source": [
    "**Author:** [Florent Ravenel](www.linkedin.com/in/florent-ravenel)"
   ]
  },
  {
   "cell_type": "markdown",
   "id": "a601ec81-2aa3-41dd-917e-d37289aedd9e",
   "metadata": {
    "papermill": {},
    "tags": []
   },
   "source": [
    "**Last update:** 2023-07-31 (Created: 2023-07-31)"
   ]
  },
  {
   "cell_type": "markdown",
   "id": "5436984d-1d8d-4c7f-9b4e-82eb0555bca6",
   "metadata": {
    "papermill": {},
    "tags": []
   },
   "source": [
    "**Description:** This notebook demonstrates how to add markers on a map using `folium`."
   ]
  },
  {
   "cell_type": "markdown",
   "id": "12d7ebc7-7831-425f-a733-d6a98a09656c",
   "metadata": {
    "papermill": {},
    "tags": []
   },
   "source": [
    "**References:**\n",
    "- [Folium Mapping: Displaying Markers on a Map](https://towardsdatascience.com/folium-mapping-displaying-markers-on-a-map-6bd56f3e3420)"
   ]
  },
  {
   "cell_type": "markdown",
   "id": "distinguished-truth",
   "metadata": {
    "papermill": {},
    "tags": []
   },
   "source": [
    "## Input"
   ]
  },
  {
   "cell_type": "markdown",
   "id": "b56e47f5-be89-4591-93ec-01e8fac50def",
   "metadata": {
    "papermill": {},
    "tags": []
   },
   "source": [
    "### Import libraries"
   ]
  },
  {
   "cell_type": "code",
   "execution_count": 1,
   "id": "6b63229c-7614-4dc8-ba2a-e0b1e2f64918",
   "metadata": {
    "execution": {
     "iopub.execute_input": "2023-07-31T10:33:58.773190Z",
     "iopub.status.busy": "2023-07-31T10:33:58.772753Z",
     "iopub.status.idle": "2023-07-31T10:34:00.625458Z",
     "shell.execute_reply": "2023-07-31T10:34:00.624816Z",
     "shell.execute_reply.started": "2023-07-31T10:33:58.773121Z"
    },
    "papermill": {},
    "tags": []
   },
   "outputs": [],
   "source": [
    "try:\n",
    "    import folium\n",
    "except ModuleError:\n",
    "    !pip install folium --user\n",
    "    import folium"
   ]
  },
  {
   "cell_type": "markdown",
   "id": "3311103a-13a2-40c5-bb42-2755391f3d47",
   "metadata": {
    "papermill": {},
    "tags": []
   },
   "source": [
    "### Setup variables\n",
    "**Mandatory**\n",
    "\n",
    "- `location1_coordinates`: Coordinates to be used for location: latitude, longitude\n",
    "- `location2_coordinates`: Coordinates to be used for location: latitude, longitude\n",
    "\n",
    "**Optional**\n",
    "\n",
    "- `zoom_start`: This parameter sets the initial zoom level on the map. A value of 0 indicates the lowest level of zoom."
   ]
  },
  {
   "cell_type": "code",
   "execution_count": 2,
   "id": "bffaf74b-3e26-408f-9a55-bb495577cdf6",
   "metadata": {
    "execution": {
     "iopub.execute_input": "2023-07-31T10:34:00.628205Z",
     "iopub.status.busy": "2023-07-31T10:34:00.628026Z",
     "iopub.status.idle": "2023-07-31T10:34:00.632617Z",
     "shell.execute_reply": "2023-07-31T10:34:00.632115Z",
     "shell.execute_reply.started": "2023-07-31T10:34:00.628186Z"
    },
    "papermill": {},
    "tags": []
   },
   "outputs": [],
   "source": [
    "# Mandatory\n",
    "location1_coordinates = 42.657188, 23.2846605\n",
    "location2_coordinates = 37.4217636, -122.084614\n",
    "\n",
    "# Optional\n",
    "zoom_start = 2"
   ]
  },
  {
   "cell_type": "markdown",
   "id": "registered-showcase",
   "metadata": {
    "papermill": {},
    "tags": []
   },
   "source": [
    "## Model"
   ]
  },
  {
   "cell_type": "markdown",
   "id": "85b23876-a958-49f9-ace9-df4da49fbd12",
   "metadata": {},
   "source": [
    "### Get coordinates"
   ]
  },
  {
   "cell_type": "code",
   "execution_count": 3,
   "id": "16eae684-565f-4f1f-9a9d-905eeb7e0619",
   "metadata": {
    "execution": {
     "iopub.execute_input": "2023-07-31T10:34:00.634002Z",
     "iopub.status.busy": "2023-07-31T10:34:00.633845Z",
     "iopub.status.idle": "2023-07-31T10:34:00.731761Z",
     "shell.execute_reply": "2023-07-31T10:34:00.731171Z",
     "shell.execute_reply.started": "2023-07-31T10:34:00.633984Z"
    },
    "tags": []
   },
   "outputs": [],
   "source": [
    "# location 1\n",
    "location1_latitude = location1_coordinates[0]\n",
    "location1_longitude = location1_coordinates[1]\n",
    "\n",
    "# location 2\n",
    "location2_latitude = location2_coordinates[0]\n",
    "location2_longitude = location2_coordinates[1]"
   ]
  },
  {
   "cell_type": "markdown",
   "id": "5f0e7b46-14c6-402d-9e46-9c1c94b3bba4",
   "metadata": {},
   "source": [
    "### Create map"
   ]
  },
  {
   "cell_type": "code",
   "execution_count": 4,
   "id": "2fafe16a-ccca-43ae-88fd-eb23af803fe6",
   "metadata": {
    "execution": {
     "iopub.execute_input": "2023-07-31T10:34:00.732982Z",
     "iopub.status.busy": "2023-07-31T10:34:00.732762Z",
     "iopub.status.idle": "2023-07-31T10:34:00.914210Z",
     "shell.execute_reply": "2023-07-31T10:34:00.913569Z",
     "shell.execute_reply.started": "2023-07-31T10:34:00.732954Z"
    },
    "papermill": {},
    "tags": []
   },
   "outputs": [
    {
     "data": {
      "text/plain": [
       "<folium.map.Marker at 0x7f8cfc6c01f0>"
      ]
     },
     "execution_count": 4,
     "metadata": {},
     "output_type": "execute_result"
    }
   ],
   "source": [
    "# Create a map centered around the two locations\n",
    "avg_latitude = (location1_latitude + location2_latitude) / 2\n",
    "avg_longitude = (location1_longitude + location2_longitude) / 2\n",
    "folium_map = folium.Map(location=[avg_latitude, avg_longitude], zoom_start=zoom_start)\n",
    "\n",
    "# Add markers for the specified locations\n",
    "folium.Marker([location1_latitude, location1_longitude]).add_to(folium_map)\n",
    "folium.Marker([location2_latitude, location2_longitude]).add_to(folium_map)"
   ]
  },
  {
   "cell_type": "markdown",
   "id": "c1e4c55b",
   "metadata": {
    "papermill": {},
    "tags": []
   },
   "source": [
    "## Output"
   ]
  },
  {
   "cell_type": "markdown",
   "id": "2ee5bfd6-de4f-40c9-a590-7c7afc44b9a0",
   "metadata": {},
   "source": [
    "### Display map"
   ]
  },
  {
   "cell_type": "code",
   "execution_count": 5,
   "id": "4af1598f-b4fe-4da2-94f3-1cfb20996fa9",
   "metadata": {
    "execution": {
     "iopub.execute_input": "2023-07-31T10:34:00.915729Z",
     "iopub.status.busy": "2023-07-31T10:34:00.915297Z",
     "iopub.status.idle": "2023-07-31T10:34:00.950800Z",
     "shell.execute_reply": "2023-07-31T10:34:00.950179Z",
     "shell.execute_reply.started": "2023-07-31T10:34:00.915686Z"
    },
    "tags": []
   },
   "outputs": [
    {
     "data": {
      "text/html": [
       "<div style=\"width:100%;\"><div style=\"position:relative;width:100%;height:0;padding-bottom:60%;\"><span style=\"color:#565656\">Make this Notebook Trusted to load map: File -> Trust Notebook</span><iframe srcdoc=\"&lt;!DOCTYPE html&gt;\n",
       "&lt;html&gt;\n",
       "&lt;head&gt;\n",
       "    \n",
       "    &lt;meta http-equiv=&quot;content-type&quot; content=&quot;text/html; charset=UTF-8&quot; /&gt;\n",
       "    \n",
       "        &lt;script&gt;\n",
       "            L_NO_TOUCH = false;\n",
       "            L_DISABLE_3D = false;\n",
       "        &lt;/script&gt;\n",
       "    \n",
       "    &lt;style&gt;html, body {width: 100%;height: 100%;margin: 0;padding: 0;}&lt;/style&gt;\n",
       "    &lt;style&gt;#map {position:absolute;top:0;bottom:0;right:0;left:0;}&lt;/style&gt;\n",
       "    &lt;script src=&quot;https://cdn.jsdelivr.net/npm/leaflet@1.9.3/dist/leaflet.js&quot;&gt;&lt;/script&gt;\n",
       "    &lt;script src=&quot;https://code.jquery.com/jquery-1.12.4.min.js&quot;&gt;&lt;/script&gt;\n",
       "    &lt;script src=&quot;https://cdn.jsdelivr.net/npm/bootstrap@5.2.2/dist/js/bootstrap.bundle.min.js&quot;&gt;&lt;/script&gt;\n",
       "    &lt;script src=&quot;https://cdnjs.cloudflare.com/ajax/libs/Leaflet.awesome-markers/2.0.2/leaflet.awesome-markers.js&quot;&gt;&lt;/script&gt;\n",
       "    &lt;link rel=&quot;stylesheet&quot; href=&quot;https://cdn.jsdelivr.net/npm/leaflet@1.9.3/dist/leaflet.css&quot;/&gt;\n",
       "    &lt;link rel=&quot;stylesheet&quot; href=&quot;https://cdn.jsdelivr.net/npm/bootstrap@5.2.2/dist/css/bootstrap.min.css&quot;/&gt;\n",
       "    &lt;link rel=&quot;stylesheet&quot; href=&quot;https://netdna.bootstrapcdn.com/bootstrap/3.0.0/css/bootstrap.min.css&quot;/&gt;\n",
       "    &lt;link rel=&quot;stylesheet&quot; href=&quot;https://cdn.jsdelivr.net/npm/@fortawesome/fontawesome-free@6.2.0/css/all.min.css&quot;/&gt;\n",
       "    &lt;link rel=&quot;stylesheet&quot; href=&quot;https://cdnjs.cloudflare.com/ajax/libs/Leaflet.awesome-markers/2.0.2/leaflet.awesome-markers.css&quot;/&gt;\n",
       "    &lt;link rel=&quot;stylesheet&quot; href=&quot;https://cdn.jsdelivr.net/gh/python-visualization/folium/folium/templates/leaflet.awesome.rotate.min.css&quot;/&gt;\n",
       "    \n",
       "            &lt;meta name=&quot;viewport&quot; content=&quot;width=device-width,\n",
       "                initial-scale=1.0, maximum-scale=1.0, user-scalable=no&quot; /&gt;\n",
       "            &lt;style&gt;\n",
       "                #map_f2a89f1babd6d5df0cfca763eac01372 {\n",
       "                    position: relative;\n",
       "                    width: 100.0%;\n",
       "                    height: 100.0%;\n",
       "                    left: 0.0%;\n",
       "                    top: 0.0%;\n",
       "                }\n",
       "                .leaflet-container { font-size: 1rem; }\n",
       "            &lt;/style&gt;\n",
       "        \n",
       "&lt;/head&gt;\n",
       "&lt;body&gt;\n",
       "    \n",
       "    \n",
       "            &lt;div class=&quot;folium-map&quot; id=&quot;map_f2a89f1babd6d5df0cfca763eac01372&quot; &gt;&lt;/div&gt;\n",
       "        \n",
       "&lt;/body&gt;\n",
       "&lt;script&gt;\n",
       "    \n",
       "    \n",
       "            var map_f2a89f1babd6d5df0cfca763eac01372 = L.map(\n",
       "                &quot;map_f2a89f1babd6d5df0cfca763eac01372&quot;,\n",
       "                {\n",
       "                    center: [40.0394758, -49.39997675],\n",
       "                    crs: L.CRS.EPSG3857,\n",
       "                    zoom: 2,\n",
       "                    zoomControl: true,\n",
       "                    preferCanvas: false,\n",
       "                }\n",
       "            );\n",
       "\n",
       "            \n",
       "\n",
       "        \n",
       "    \n",
       "            var tile_layer_7b95c408135d6dbce53cebca4020812b = L.tileLayer(\n",
       "                &quot;https://{s}.tile.openstreetmap.org/{z}/{x}/{y}.png&quot;,\n",
       "                {&quot;attribution&quot;: &quot;Data by \\u0026copy; \\u003ca target=\\&quot;_blank\\&quot; href=\\&quot;http://openstreetmap.org\\&quot;\\u003eOpenStreetMap\\u003c/a\\u003e, under \\u003ca target=\\&quot;_blank\\&quot; href=\\&quot;http://www.openstreetmap.org/copyright\\&quot;\\u003eODbL\\u003c/a\\u003e.&quot;, &quot;detectRetina&quot;: false, &quot;maxNativeZoom&quot;: 18, &quot;maxZoom&quot;: 18, &quot;minZoom&quot;: 0, &quot;noWrap&quot;: false, &quot;opacity&quot;: 1, &quot;subdomains&quot;: &quot;abc&quot;, &quot;tms&quot;: false}\n",
       "            ).addTo(map_f2a89f1babd6d5df0cfca763eac01372);\n",
       "        \n",
       "    \n",
       "            var marker_dcc6d725874886b2157e9301cd61fc0d = L.marker(\n",
       "                [42.657188, 23.2846605],\n",
       "                {}\n",
       "            ).addTo(map_f2a89f1babd6d5df0cfca763eac01372);\n",
       "        \n",
       "    \n",
       "            var marker_098870192d2856066e5f1a81729664bf = L.marker(\n",
       "                [37.4217636, -122.084614],\n",
       "                {}\n",
       "            ).addTo(map_f2a89f1babd6d5df0cfca763eac01372);\n",
       "        \n",
       "&lt;/script&gt;\n",
       "&lt;/html&gt;\" style=\"position:absolute;width:100%;height:100%;left:0;top:0;border:none !important;\" allowfullscreen webkitallowfullscreen mozallowfullscreen></iframe></div></div>"
      ],
      "text/plain": [
       "<folium.folium.Map at 0x7f8cfc6c71c0>"
      ]
     },
     "execution_count": 5,
     "metadata": {},
     "output_type": "execute_result"
    }
   ],
   "source": [
    "folium_map"
   ]
  },
  {
   "cell_type": "code",
   "execution_count": null,
   "id": "caf51a69-90b1-4eb6-817e-86c0f683e59d",
   "metadata": {},
   "outputs": [],
   "source": []
  }
 ],
 "metadata": {
  "kernelspec": {
   "display_name": "Python 3",
   "language": "python",
   "name": "python3"
  },
  "language_info": {
   "codemirror_mode": {
    "name": "ipython",
    "version": 3
   },
   "file_extension": ".py",
   "mimetype": "text/x-python",
   "name": "python",
   "nbconvert_exporter": "python",
   "pygments_lexer": "ipython3",
   "version": "3.9.6"
  },
  "naas": {
   "notebook_id": "a3806d0e8beb6df74a694e543ef83a8bf1058b7cc2dd05636cdeb22dde4ed654",
   "notebook_path": "Google Sheets/Google_Sheets_Add_items_to_Notion_databases_from_new_rows_in_Google_Sheets.ipynb"
  },
  "papermill": {
   "default_parameters": {},
   "environment_variables": {},
   "parameters": {},
   "version": "2.3.3"
  },
  "widgets": {
   "application/vnd.jupyter.widget-state+json": {
    "state": {},
    "version_major": 2,
    "version_minor": 0
   }
  }
 },
 "nbformat": 4,
 "nbformat_minor": 5
}
