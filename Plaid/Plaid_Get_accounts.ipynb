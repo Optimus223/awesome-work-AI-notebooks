{
 "cells": [
  {
   "cell_type": "markdown",
   "id": "convenient-found",
   "metadata": {
    "papermill": {},
    "tags": []
   },
   "source": [
    "<img width=\"10%\" alt=\"Naas\" src=\"https://landen.imgix.net/jtci2pxwjczr/assets/5ice39g4.png?w=160\"/>"
   ]
  },
  {
   "cell_type": "markdown",
   "id": "changed-sherman",
   "metadata": {
    "papermill": {},
    "tags": []
   },
   "source": [
    "# Plaid - Get accounts\n",
    "<a href=\"https://app.naas.ai/user-redirect/naas/downloader?url=https://raw.githubusercontent.com/jupyter-naas/awesome-notebooks/master/Plaid/Plaid_Get_accounts.ipynb\" target=\"_parent\"><img src=\"https://naasai-public.s3.eu-west-3.amazonaws.com/open_in_naas.svg\"/></a><br><br><a href=\"https://github.com/jupyter-naas/awesome-notebooks/issues/new?assignees=&labels=&template=template-request.md&title=Tool+-+Action+of+the+notebook+\">Template request</a> | <a href=\"https://github.com/jupyter-naas/awesome-notebooks/issues/new?assignees=&labels=bug&template=bug_report.md&title=Plaid+-+Get+accounts:+Error+short+description\">Bug report</a>"
   ]
  },
  {
   "cell_type": "markdown",
   "id": "7a50e10c-c6e3-441a-b35b-8b16c25aff10",
   "metadata": {
    "papermill": {},
    "tags": []
   },
   "source": [
    "**Tags:** #plaid #bank #accounts #snippet #finance #dataframe"
   ]
  },
  {
   "cell_type": "markdown",
   "id": "naas-author",
   "metadata": {
    "papermill": {},
    "tags": [
     "naas"
    ]
   },
   "source": [
    "**Author:** [Martin Donadieu](https://www.linkedin.com/in/martindonadieu/)"
   ]
  },
  {
   "cell_type": "markdown",
   "id": "naas-description",
   "metadata": {
    "papermill": {},
    "tags": [
     "description"
    ]
   },
   "source": "**Description:** This notebook provides an easy way to access financial accounts and transactions through Plaid's API."
  },
  {
   "cell_type": "markdown",
   "id": "input_cell",
   "metadata": {
    "papermill": {},
    "tags": []
   },
   "source": [
    "## Input"
   ]
  },
  {
   "cell_type": "code",
   "execution_count": null,
   "id": "common-operations",
   "metadata": {
    "papermill": {},
    "tags": []
   },
   "outputs": [],
   "source": "pip install plaid-python"
  },
  {
   "cell_type": "markdown",
   "id": "institutional-supplier",
   "metadata": {
    "papermill": {},
    "tags": []
   },
   "source": [
    "### Create account here :\n",
    "https://plaid.com/\n",
    "    \n",
    "    "
   ]
  },
  {
   "cell_type": "markdown",
   "id": "import_cell",
   "metadata": {
    "papermill": {},
    "tags": []
   },
   "source": [
    "### Import libraries"
   ]
  },
  {
   "cell_type": "code",
   "execution_count": null,
   "id": "divine-filter",
   "metadata": {
    "papermill": {},
    "tags": []
   },
   "outputs": [],
   "source": "import os\nimport plaid\nimport IPython.core.display\nimport uuid\nimport naas\nimport json\nimport pandas as pd"
  },
  {
   "cell_type": "markdown",
   "id": "needed-japanese",
   "metadata": {
    "papermill": {},
    "tags": []
   },
   "source": [
    "### Config your variables"
   ]
  },
  {
   "cell_type": "code",
   "execution_count": null,
   "id": "secret-application",
   "metadata": {
    "papermill": {},
    "tags": []
   },
   "outputs": [],
   "source": "PLAID_CLIENT_ID = \"*************\"\nPLAID_SECRET = \"*************\"\nPLAID_ENV = \"sandbox\"\n\nPLAID_PRODUCTS = [\"transactions\"]\nPLAID_COUNTRY_CODES = [\"FR\"]\nstart_transaction = \"2020-09-01\"\nend_transaction = \"2020-10-01\""
  },
  {
   "cell_type": "markdown",
   "id": "model_cell",
   "metadata": {
    "papermill": {},
    "tags": []
   },
   "source": [
    "## Model"
   ]
  },
  {
   "cell_type": "markdown",
   "id": "electronic-mexico",
   "metadata": {
    "execution": {
     "iopub.execute_input": "2021-01-28T12:58:58.267083Z",
     "iopub.status.busy": "2021-01-28T12:58:58.266839Z",
     "iopub.status.idle": "2021-01-28T12:58:58.270280Z",
     "shell.execute_reply": "2021-01-28T12:58:58.269610Z",
     "shell.execute_reply.started": "2021-01-28T12:58:58.267059Z"
    },
    "papermill": {},
    "tags": []
   },
   "source": [
    "### Connect to plaid"
   ]
  },
  {
   "cell_type": "code",
   "execution_count": null,
   "id": "three-truck",
   "metadata": {
    "papermill": {},
    "tags": []
   },
   "outputs": [],
   "source": "client = plaid.Client(\n    client_id=PLAID_CLIENT_ID, secret=PLAID_SECRET, environment=PLAID_ENV\n)"
  },
  {
   "cell_type": "code",
   "execution_count": null,
   "id": "tested-string",
   "metadata": {
    "papermill": {},
    "tags": []
   },
   "outputs": [],
   "source": "def create_link_token():\n    response = client.LinkToken.create(\n        {\n            \"user\": {\n                # This should correspond to a unique id for the current user.\n                \"client_user_id\": \"user-id\",\n            },\n            \"client_name\": \"Plaid Quickstart\",\n            \"products\": PLAID_PRODUCTS,\n            \"country_codes\": PLAID_COUNTRY_CODES,\n            \"language\": \"en\",\n            \"redirect_uri\": None,\n        }\n    )\n    return response"
  },
  {
   "cell_type": "code",
   "execution_count": null,
   "id": "printable-envelope",
   "metadata": {
    "papermill": {},
    "tags": []
   },
   "outputs": [],
   "source": "token = create_link_token()\ntoken"
  },
  {
   "cell_type": "markdown",
   "id": "noble-maryland",
   "metadata": {
    "execution": {
     "iopub.execute_input": "2021-01-28T12:59:33.801190Z",
     "iopub.status.busy": "2021-01-28T12:59:33.800945Z",
     "iopub.status.idle": "2021-01-28T12:59:33.803748Z",
     "shell.execute_reply": "2021-01-28T12:59:33.803087Z",
     "shell.execute_reply.started": "2021-01-28T12:59:33.801165Z"
    },
    "papermill": {},
    "tags": []
   },
   "source": [
    "### Use Naas callback to get the plaid OAuth token"
   ]
  },
  {
   "cell_type": "code",
   "execution_count": null,
   "id": "assured-kingdom",
   "metadata": {
    "papermill": {},
    "tags": []
   },
   "outputs": [],
   "source": "cb_url = naas.callback.add()"
  },
  {
   "cell_type": "markdown",
   "id": "explicit-validity",
   "metadata": {
    "papermill": {},
    "tags": []
   },
   "source": [
    "### Select Bank connection"
   ]
  },
  {
   "cell_type": "code",
   "execution_count": null,
   "id": "numerical-minnesota",
   "metadata": {
    "papermill": {},
    "tags": []
   },
   "outputs": [],
   "source": "uid = uuid.uuid4().hex\niframe = \"\"\"\n<head>\n  <script src=\"https://cdn.plaid.com/link/v2/stable/link-initialize.js\"></script>\n</head>\n<script>\nconst handler_{uid} = Plaid.create({\n  token: '{GENERATED_LINK_TOKEN}',\n  onSuccess: (public_token, metadata) => {\n        const xhr = new XMLHttpRequest();\n        xhr.open(\"POST\", \"{CALLBACK_URL}\", true);\n        xhr.setRequestHeader('Content-Type', 'application/json');\n        xhr.send(JSON.stringify({\n            public_token: public_token\n        }));\n  }\n});\nhandler_{uid}.open();\n</script>\n\"\"\"\niframe = iframe.replace(\"{uid}\", uid)\niframe = iframe.replace(\"{CALLBACK_URL}\", cb_url.get(\"url\"))\niframe = iframe.replace(\"{GENERATED_LINK_TOKEN}\", token.get(\"link_token\"))\nIPython.core.display.display(IPython.core.display.HTML(iframe))"
  },
  {
   "cell_type": "markdown",
   "id": "absent-market",
   "metadata": {
    "papermill": {},
    "tags": []
   },
   "source": [
    "### Get back plaid token"
   ]
  },
  {
   "cell_type": "code",
   "execution_count": null,
   "id": "fossil-yeast",
   "metadata": {
    "papermill": {},
    "tags": []
   },
   "outputs": [],
   "source": "cb_data = naas.callback.get(cb_url.get(\"uuid\"))\ncb_data = json.loads(cb_data)\npublic_token = cb_data.get(\"public_token\")\npublic_token"
  },
  {
   "cell_type": "markdown",
   "id": "output_cell",
   "metadata": {
    "papermill": {},
    "tags": []
   },
   "source": [
    "## Output"
   ]
  },
  {
   "cell_type": "markdown",
   "id": "bizarre-syndrome",
   "metadata": {
    "papermill": {},
    "tags": []
   },
   "source": [
    "### Exange token "
   ]
  },
  {
   "cell_type": "code",
   "execution_count": null,
   "id": "proper-filing",
   "metadata": {
    "papermill": {},
    "tags": []
   },
   "outputs": [],
   "source": "exchange_response = client.Item.public_token.exchange(public_token)\naccess_token = exchange_response[\"access_token\"]\nitem_id = exchange_response[\"item_id\"]"
  },
  {
   "cell_type": "markdown",
   "id": "basic-spotlight",
   "metadata": {
    "execution": {
     "iopub.execute_input": "2021-01-28T13:01:49.823399Z",
     "iopub.status.busy": "2021-01-28T13:01:49.823157Z",
     "iopub.status.idle": "2021-01-28T13:01:49.828406Z",
     "shell.execute_reply": "2021-01-28T13:01:49.827868Z",
     "shell.execute_reply.started": "2021-01-28T13:01:49.823371Z"
    },
    "papermill": {},
    "tags": []
   },
   "source": [
    "### Show account list"
   ]
  },
  {
   "cell_type": "code",
   "execution_count": null,
   "id": "concerned-angola",
   "metadata": {
    "papermill": {},
    "tags": []
   },
   "outputs": [],
   "source": "response = client.Accounts.balance.get(access_token)\naccounts = response[\"accounts\"]\naccounts_df = pd.DataFrame.from_records(accounts)\naccounts_df"
  },
  {
   "cell_type": "markdown",
   "id": "hispanic-single",
   "metadata": {
    "papermill": {},
    "tags": []
   },
   "source": [
    "### Save as csv"
   ]
  },
  {
   "cell_type": "code",
   "execution_count": null,
   "id": "unknown-complement",
   "metadata": {
    "papermill": {},
    "tags": []
   },
   "outputs": [],
   "source": "accounts_df.to_csv(\"accounts.csv\")"
  },
  {
   "cell_type": "markdown",
   "id": "instant-newton",
   "metadata": {
    "papermill": {},
    "tags": []
   },
   "source": [
    "#### If you need more data check the api doc \n",
    "https://plaid.com/docs/"
   ]
  }
 ],
 "metadata": {
  "kernelspec": {
   "display_name": "Python 3",
   "language": "python",
   "name": "python3"
  },
  "language_info": {
   "codemirror_mode": {
    "name": "ipython",
    "version": 3
   },
   "file_extension": ".py",
   "mimetype": "text/x-python",
   "name": "python",
   "nbconvert_exporter": "python",
   "pygments_lexer": "ipython3",
   "version": "3.9.6"
  },
  "naas": {
   "notebook_id": "de3ac23d-43e2-4dac-9f3c-5a33e487d6bb",
   "notebook_path": "Plaid/Plaid_Get_accounts.ipynb"
  },
  "papermill": {
   "default_parameters": {},
   "environment_variables": {},
   "parameters": {},
   "version": "2.3.3"
  }
 },
 "nbformat": 4,
 "nbformat_minor": 5
}