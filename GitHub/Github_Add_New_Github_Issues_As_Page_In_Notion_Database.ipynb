{
 "cells": [
  {
   "cell_type": "markdown",
   "id": "84cadd0c",
   "metadata": {},
   "source": [
    "<img width=\"10%\" alt=\"Naas\" src=\"https://landen.imgix.net/jtci2pxwjczr/assets/5ice39g4.png?w=160\"/>\n"
   ]
  },
  {
   "cell_type": "markdown",
   "id": "0d43ed38",
   "metadata": {},
   "source": [
    "# GitHub - Add new Github issues as page in Notion database\n"
   ]
  },
  {
   "cell_type": "markdown",
   "id": "d9313642",
   "metadata": {},
   "source": [
    "**Tags:** #github #notion #operations #automation\n"
   ]
  },
  {
   "cell_type": "markdown",
   "id": "8faf487c",
   "metadata": {},
   "source": [
    "**Author:** [Firstname Lastname](https://linkedin.com/in/yourlinkedinid)\n",
    "\n",
    "This notebook is used to create Notion page in a database when a new Github issue is created.\n",
    "\n",
    "<br/>References :\n",
    "- Notion driver:\n",
    "- Github SDK: [https://github.com/PyGithub/PyGithub](https://github.com/PyGithub/PyGithub)\n"
   ]
  },
  {
   "cell_type": "markdown",
   "id": "7412988b",
   "metadata": {},
   "source": [
    "## Input\n"
   ]
  },
  {
   "cell_type": "markdown",
   "id": "b483a140",
   "metadata": {},
   "source": [
    "### Import libraries\n"
   ]
  },
  {
   "cell_type": "code",
   "execution_count": null,
   "id": "353ef79c",
   "metadata": {},
   "outputs": [],
   "source": [
    "import naas\n"
   ]
  },
  {
   "cell_type": "markdown",
   "id": "1e00b224",
   "metadata": {},
   "source": [
    "### Setup Notion\n"
   ]
  },
  {
   "cell_type": "code",
   "execution_count": null,
   "id": "d130b46b",
   "metadata": {},
   "outputs": [],
   "source": [
    "# Notion token\n",
    "notion_token = \"...\"\n",
    "\n",
    "# Specify database id\n",
    "notion_database_id = \"...\"\n",
    "\n",
    "notion.connect(notion_token)\n"
   ]
  },
  {
   "cell_type": "markdown",
   "id": "68b48858",
   "metadata": {},
   "source": [
    "### Setup Github\n"
   ]
  },
  {
   "cell_type": "code",
   "execution_count": null,
   "id": "01647a55",
   "metadata": {},
   "outputs": [],
   "source": [
    "# Github token\n",
    "github_token = \"...\"\n",
    "\n",
    "# Github repo on which we want to create issues.\n",
    "github_repo_name = \"...\"\n",
    "\n",
    "gh_client = Github(github_token)\n"
   ]
  },
  {
   "cell_type": "markdown",
   "id": "d10e6972",
   "metadata": {},
   "source": [
    "### Setup Naas\n"
   ]
  },
  {
   "cell_type": "code",
   "execution_count": null,
   "id": "518ee97b",
   "metadata": {},
   "outputs": [],
   "source": [
    "# Schedule your notebook every 15 minutes.\n",
    "naas.scheduler.add(cron=\"*/15 * * * *\")\n",
    "\n",
    "#-> Uncomment the line below to remove your scheduler\n",
    "# naas.scheduler.delete()\n"
   ]
  },
  {
   "cell_type": "markdown",
   "id": "93347abb",
   "metadata": {},
   "source": [
    "## Model\n"
   ]
  },
  {
   "cell_type": "markdown",
   "id": "0f0264bf",
   "metadata": {},
   "source": [
    "### Query notion database\n"
   ]
  },
  {
   "cell_type": "code",
   "execution_count": null,
   "id": "f5d8c1e7",
   "metadata": {},
   "outputs": [],
   "source": [
    "db_notion = notion.connect(NOTION_TOKEN).database.get(notion_database_id)\n",
    "df_notion = db_notion.df()\n"
   ]
  },
  {
   "cell_type": "markdown",
   "id": "18f1066e",
   "metadata": {},
   "source": [
    "### Get Github issues\n"
   ]
  },
  {
   "cell_type": "code",
   "execution_count": null,
   "id": "3d4e2489",
   "metadata": {},
   "outputs": [],
   "source": [
    "...\n"
   ]
  },
  {
   "cell_type": "markdown",
   "id": "4f9034d2",
   "metadata": {},
   "source": [
    "### Create notion page from Github issue\n"
   ]
  },
  {
   "cell_type": "code",
   "execution_count": null,
   "id": "cc5aca0f",
   "metadata": {},
   "outputs": [],
   "source": [
    "def notion_page_from_gh_issue(issue, notion_database_id):\n",
    "\t...\n"
   ]
  },
  {
   "cell_type": "markdown",
   "id": "b819d06a",
   "metadata": {},
   "source": [
    "## Output\n"
   ]
  },
  {
   "cell_type": "markdown",
   "id": "20d38845",
   "metadata": {},
   "source": [
    "### Iterate over each issue.\n"
   ]
  },
  {
   "cell_type": "code",
   "execution_count": null,
   "id": "00fa33b2",
   "metadata": {},
   "outputs": [],
   "source": [
    "for issue in gh_issues:\n",
    "\tnotion_page_from_gh_issue(issue, notion_database_id)\n",
    "\tprint(f'✅ Notion page created for issue {issue.url...}')\n"
   ]
  }
 ],
 "metadata": {},
 "nbformat": 4,
 "nbformat_minor": 5
}
