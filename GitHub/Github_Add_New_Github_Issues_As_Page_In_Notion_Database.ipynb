{
 "cells": [
  {
   "cell_type": "markdown",
   "id": "84cadd0c",
   "metadata": {},
   "source": [
    "<img width=\"10%\" alt=\"Naas\" src=\"https://landen.imgix.net/jtci2pxwjczr/assets/5ice39g4.png?w=160\"/>\n"
   ]
  },
  {
   "cell_type": "markdown",
   "id": "0d43ed38",
   "metadata": {},
   "source": [
    "# GitHub - Add new Github issues as page in Notion database\n"
   ]
  },
  {
   "cell_type": "markdown",
   "id": "d9313642",
   "metadata": {},
   "source": [
    "**Tags:** #github #notion #operations #automation\n"
   ]
  },
  {
   "cell_type": "markdown",
   "id": "8faf487c",
   "metadata": {},
   "source": [
    "**Author:** [Sanjeet Attili](https://linkedin.com/in/sanjeet-attili-760bab190/)\n",
    "\n",
    "This notebook is used to create Notion page in a database when a new Github issue is created.\n",
    "\n",
    "<br/>References :\n",
    "- Notion driver:\n",
    "- Github SDK: [https://github.com/PyGithub/PyGithub](https://github.com/PyGithub/PyGithub)\n"
   ]
  },
  {
   "cell_type": "markdown",
   "id": "7412988b",
   "metadata": {},
   "source": [
    "## Input\n"
   ]
  },
  {
   "cell_type": "markdown",
   "id": "b483a140",
   "metadata": {},
   "source": [
    "### Import libraries\n"
   ]
  },
  {
   "cell_type": "code",
   "execution_count": 1,
   "id": "353ef79c",
   "metadata": {
    "execution": {
     "iopub.execute_input": "2022-04-11T18:34:25.768734Z",
     "iopub.status.busy": "2022-04-11T18:34:25.768362Z",
     "iopub.status.idle": "2022-04-11T18:34:29.330945Z",
     "shell.execute_reply": "2022-04-11T18:34:29.330252Z",
     "shell.execute_reply.started": "2022-04-11T18:34:25.768643Z"
    },
    "tags": []
   },
   "outputs": [],
   "source": [
    "import naas\n",
    "from naas_drivers import notion, github"
   ]
  },
  {
   "cell_type": "markdown",
   "id": "1e00b224",
   "metadata": {},
   "source": [
    "### Setup Notion\n"
   ]
  },
  {
   "cell_type": "markdown",
   "id": "c283d771-b80f-4e54-bc8c-d0bb728d6c86",
   "metadata": {},
   "source": [
    "<a href='https://docs.naas.ai/drivers/notion'>How to get your Notion integration token ?</a>"
   ]
  },
  {
   "cell_type": "code",
   "execution_count": 8,
   "id": "d130b46b",
   "metadata": {
    "execution": {
     "iopub.execute_input": "2022-04-11T18:41:18.553437Z",
     "iopub.status.busy": "2022-04-11T18:41:18.553128Z",
     "iopub.status.idle": "2022-04-11T18:41:18.598287Z",
     "shell.execute_reply": "2022-04-11T18:41:18.597307Z",
     "shell.execute_reply.started": "2022-04-11T18:41:18.553405Z"
    },
    "tags": []
   },
   "outputs": [],
   "source": [
    "# Notion token\n",
    "notion_token = \"...\"\n",
    "\n",
    "# Specify database id\n",
    "notion_database_id = \"...\"\n",
    "\n",
    "notion_client = notion.connect(notion_token)\n"
   ]
  },
  {
   "cell_type": "markdown",
   "id": "68b48858",
   "metadata": {},
   "source": [
    "### Setup Github\n"
   ]
  },
  {
   "cell_type": "code",
   "execution_count": 9,
   "id": "01647a55",
   "metadata": {
    "execution": {
     "iopub.execute_input": "2022-04-11T18:41:20.402632Z",
     "iopub.status.busy": "2022-04-11T18:41:20.402409Z",
     "iopub.status.idle": "2022-04-11T18:41:20.407606Z",
     "shell.execute_reply": "2022-04-11T18:41:20.405295Z",
     "shell.execute_reply.started": "2022-04-11T18:41:20.402611Z"
    },
    "tags": []
   },
   "outputs": [],
   "source": [
    "# Github token\n",
    "github_token = \"...\"\n",
    "\n",
    "# Github repo on which we want to create issues.\n",
    "github_repo_name = \"...\"\n",
    "\n",
    "gh_client = github.connect(github_token)\n"
   ]
  },
  {
   "cell_type": "markdown",
   "id": "d10e6972",
   "metadata": {},
   "source": [
    "### Setup Naas\n"
   ]
  },
  {
   "cell_type": "code",
   "execution_count": null,
   "id": "518ee97b",
   "metadata": {},
   "outputs": [],
   "source": [
    "# Schedule your notebook every 15 minutes.\n",
    "naas.scheduler.add(cron=\"*/15 * * * *\")\n",
    "\n",
    "#-> Uncomment the line below to remove your scheduler\n",
    "# naas.scheduler.delete()\n"
   ]
  },
  {
   "cell_type": "markdown",
   "id": "93347abb",
   "metadata": {},
   "source": [
    "## Model\n"
   ]
  },
  {
   "cell_type": "markdown",
   "id": "0f0264bf",
   "metadata": {},
   "source": [
    "### Query notion database\n"
   ]
  },
  {
   "cell_type": "code",
   "execution_count": 14,
   "id": "f5d8c1e7",
   "metadata": {
    "execution": {
     "iopub.execute_input": "2022-04-11T18:45:07.420430Z",
     "iopub.status.busy": "2022-04-11T18:45:07.420197Z",
     "iopub.status.idle": "2022-04-11T18:45:11.804021Z",
     "shell.execute_reply": "2022-04-11T18:45:11.799991Z",
     "shell.execute_reply.started": "2022-04-11T18:45:07.420407Z"
    },
    "tags": []
   },
   "outputs": [
    {
     "data": {
      "text/html": [
       "<div>\n",
       "<style scoped>\n",
       "    .dataframe tbody tr th:only-of-type {\n",
       "        vertical-align: middle;\n",
       "    }\n",
       "\n",
       "    .dataframe tbody tr th {\n",
       "        vertical-align: top;\n",
       "    }\n",
       "\n",
       "    .dataframe thead th {\n",
       "        text-align: right;\n",
       "    }\n",
       "</style>\n",
       "<table border=\"1\" class=\"dataframe\">\n",
       "  <thead>\n",
       "    <tr style=\"text-align: right;\">\n",
       "      <th></th>\n",
       "      <th>URL</th>\n",
       "      <th>Last_created</th>\n",
       "      <th>Assignees</th>\n",
       "      <th>Issue_id</th>\n",
       "      <th>Name</th>\n",
       "    </tr>\n",
       "  </thead>\n",
       "  <tbody>\n",
       "    <tr>\n",
       "      <th>0</th>\n",
       "      <td>https://github.com/jupyter-naas/awesome-notebo...</td>\n",
       "      <td>2021-05-26T15:15:00.000+00:00</td>\n",
       "      <td>None</td>\n",
       "      <td>902545370</td>\n",
       "      <td>LinkedIn - Get company followers</td>\n",
       "    </tr>\n",
       "    <tr>\n",
       "      <th>1</th>\n",
       "      <td>https://github.com/jupyter-naas/awesome-notebo...</td>\n",
       "      <td>2021-05-30T11:39:00.000+00:00</td>\n",
       "      <td>FlorentLvr</td>\n",
       "      <td>906727513</td>\n",
       "      <td>Pillow - Add data to an image</td>\n",
       "    </tr>\n",
       "    <tr>\n",
       "      <th>2</th>\n",
       "      <td>https://github.com/jupyter-naas/awesome-notebo...</td>\n",
       "      <td>2021-06-02T21:46:00.000+00:00</td>\n",
       "      <td>None</td>\n",
       "      <td>909910813</td>\n",
       "      <td>Odoo - Connect to API</td>\n",
       "    </tr>\n",
       "    <tr>\n",
       "      <th>3</th>\n",
       "      <td>https://github.com/jupyter-naas/awesome-notebo...</td>\n",
       "      <td>2021-06-02T22:39:00.000+00:00</td>\n",
       "      <td>iair</td>\n",
       "      <td>909939228</td>\n",
       "      <td>Fitbit - Connect to API</td>\n",
       "    </tr>\n",
       "    <tr>\n",
       "      <th>4</th>\n",
       "      <td>https://github.com/jupyter-naas/awesome-notebo...</td>\n",
       "      <td>2021-06-02T22:40:00.000+00:00</td>\n",
       "      <td>None</td>\n",
       "      <td>909939700</td>\n",
       "      <td>Oracle DB - Connect to API</td>\n",
       "    </tr>\n",
       "    <tr>\n",
       "      <th>...</th>\n",
       "      <td>...</td>\n",
       "      <td>...</td>\n",
       "      <td>...</td>\n",
       "      <td>...</td>\n",
       "      <td>...</td>\n",
       "    </tr>\n",
       "    <tr>\n",
       "      <th>56</th>\n",
       "      <td>https://github.com/jupyter-naas/awesome-notebo...</td>\n",
       "      <td>2022-04-10T05:40:00.000+00:00</td>\n",
       "      <td>SanjuEpic</td>\n",
       "      <td>1198888486</td>\n",
       "      <td>421 slack follow number of slack users in work...</td>\n",
       "    </tr>\n",
       "    <tr>\n",
       "      <th>57</th>\n",
       "      <td>https://github.com/jupyter-naas/awesome-notebo...</td>\n",
       "      <td>2022-04-10T06:24:00.000+00:00</td>\n",
       "      <td>SanjuEpic</td>\n",
       "      <td>1198901827</td>\n",
       "      <td>feat: github issues driver added</td>\n",
       "    </tr>\n",
       "    <tr>\n",
       "      <th>58</th>\n",
       "      <td>https://github.com/jupyter-naas/awesome-notebo...</td>\n",
       "      <td>2022-04-10T18:18:00.000+00:00</td>\n",
       "      <td>SanjuEpic</td>\n",
       "      <td>1199131652</td>\n",
       "      <td>427 linkedin follow total content views</td>\n",
       "    </tr>\n",
       "    <tr>\n",
       "      <th>59</th>\n",
       "      <td>https://github.com/jupyter-naas/awesome-notebo...</td>\n",
       "      <td>2022-04-11T12:21:00.000+00:00</td>\n",
       "      <td>SanjuEpic</td>\n",
       "      <td>1199892649</td>\n",
       "      <td>426 linkedin follow number of content published</td>\n",
       "    </tr>\n",
       "    <tr>\n",
       "      <th>60</th>\n",
       "      <td>https://github.com/jupyter-naas/awesome-notebo...</td>\n",
       "      <td>2022-04-11T16:04:00.000+00:00</td>\n",
       "      <td>calok64</td>\n",
       "      <td>1200193149</td>\n",
       "      <td>Twitter - Post analysis</td>\n",
       "    </tr>\n",
       "  </tbody>\n",
       "</table>\n",
       "<p>61 rows × 5 columns</p>\n",
       "</div>"
      ],
      "text/plain": [
       "                                                  URL  \\\n",
       "0   https://github.com/jupyter-naas/awesome-notebo...   \n",
       "1   https://github.com/jupyter-naas/awesome-notebo...   \n",
       "2   https://github.com/jupyter-naas/awesome-notebo...   \n",
       "3   https://github.com/jupyter-naas/awesome-notebo...   \n",
       "4   https://github.com/jupyter-naas/awesome-notebo...   \n",
       "..                                                ...   \n",
       "56  https://github.com/jupyter-naas/awesome-notebo...   \n",
       "57  https://github.com/jupyter-naas/awesome-notebo...   \n",
       "58  https://github.com/jupyter-naas/awesome-notebo...   \n",
       "59  https://github.com/jupyter-naas/awesome-notebo...   \n",
       "60  https://github.com/jupyter-naas/awesome-notebo...   \n",
       "\n",
       "                     Last_created   Assignees    Issue_id  \\\n",
       "0   2021-05-26T15:15:00.000+00:00        None   902545370   \n",
       "1   2021-05-30T11:39:00.000+00:00  FlorentLvr   906727513   \n",
       "2   2021-06-02T21:46:00.000+00:00        None   909910813   \n",
       "3   2021-06-02T22:39:00.000+00:00        iair   909939228   \n",
       "4   2021-06-02T22:40:00.000+00:00        None   909939700   \n",
       "..                            ...         ...         ...   \n",
       "56  2022-04-10T05:40:00.000+00:00   SanjuEpic  1198888486   \n",
       "57  2022-04-10T06:24:00.000+00:00   SanjuEpic  1198901827   \n",
       "58  2022-04-10T18:18:00.000+00:00   SanjuEpic  1199131652   \n",
       "59  2022-04-11T12:21:00.000+00:00   SanjuEpic  1199892649   \n",
       "60  2022-04-11T16:04:00.000+00:00     calok64  1200193149   \n",
       "\n",
       "                                                 Name  \n",
       "0                    LinkedIn - Get company followers  \n",
       "1                       Pillow - Add data to an image  \n",
       "2                               Odoo - Connect to API  \n",
       "3                             Fitbit - Connect to API  \n",
       "4                          Oracle DB - Connect to API  \n",
       "..                                                ...  \n",
       "56  421 slack follow number of slack users in work...  \n",
       "57                   feat: github issues driver added  \n",
       "58            427 linkedin follow total content views  \n",
       "59    426 linkedin follow number of content published  \n",
       "60                            Twitter - Post analysis  \n",
       "\n",
       "[61 rows x 5 columns]"
      ]
     },
     "execution_count": 14,
     "metadata": {},
     "output_type": "execute_result"
    }
   ],
   "source": [
    "db_notion = notion_client.database.get(notion_database_id)\n",
    "df_notion = db_notion.df()\n",
    "\n",
    "for idx, row in df_notion.iterrows():\n",
    "    if row.Name=='':\n",
    "        df_notion.drop(index= idx, inplace=True)\n",
    "    try:\n",
    "        df_notion.drop(columns=['Tags'], inplace=True)\n",
    "    except KeyError:\n",
    "        pass\n",
    "\n",
    "df_notion"
   ]
  },
  {
   "cell_type": "markdown",
   "id": "18f1066e",
   "metadata": {},
   "source": [
    "### Get Github issues\n"
   ]
  },
  {
   "cell_type": "code",
   "execution_count": 11,
   "id": "3d4e2489",
   "metadata": {
    "execution": {
     "iopub.execute_input": "2022-04-11T18:41:25.721275Z",
     "iopub.status.busy": "2022-04-11T18:41:25.721052Z",
     "iopub.status.idle": "2022-04-11T18:41:45.257471Z",
     "shell.execute_reply": "2022-04-11T18:41:45.245931Z",
     "shell.execute_reply.started": "2022-04-11T18:41:25.721253Z"
    },
    "tags": []
   },
   "outputs": [
    {
     "data": {
      "text/html": [
       "<div>\n",
       "<style scoped>\n",
       "    .dataframe tbody tr th:only-of-type {\n",
       "        vertical-align: middle;\n",
       "    }\n",
       "\n",
       "    .dataframe tbody tr th {\n",
       "        vertical-align: top;\n",
       "    }\n",
       "\n",
       "    .dataframe thead th {\n",
       "        text-align: right;\n",
       "    }\n",
       "</style>\n",
       "<table border=\"1\" class=\"dataframe\">\n",
       "  <thead>\n",
       "    <tr style=\"text-align: right;\">\n",
       "      <th></th>\n",
       "      <th>link_to_the_issue</th>\n",
       "      <th>issue_number</th>\n",
       "      <th>issue_title</th>\n",
       "      <th>issue_state</th>\n",
       "      <th>issue_id</th>\n",
       "      <th>issue_labels</th>\n",
       "      <th>issue_assignees</th>\n",
       "      <th>comments_till_date</th>\n",
       "      <th>last_created_date</th>\n",
       "      <th>last_created_time</th>\n",
       "      <th>last_updated_date</th>\n",
       "      <th>last_updated_time</th>\n",
       "      <th>comments</th>\n",
       "      <th>linked_pr_state</th>\n",
       "      <th>PR_activity</th>\n",
       "    </tr>\n",
       "  </thead>\n",
       "  <tbody>\n",
       "    <tr>\n",
       "      <th>0</th>\n",
       "      <td>https://github.com/jupyter-naas/awesome-notebo...</td>\n",
       "      <td>450</td>\n",
       "      <td>Twitter - Post analysis</td>\n",
       "      <td>open</td>\n",
       "      <td>1200193149</td>\n",
       "      <td>None</td>\n",
       "      <td>calok64</td>\n",
       "      <td>0</td>\n",
       "      <td>2022-04-11</td>\n",
       "      <td>16:04:37</td>\n",
       "      <td>2022-04-11</td>\n",
       "      <td>16:04:52</td>\n",
       "      <td>No comments</td>\n",
       "      <td>None</td>\n",
       "      <td>None</td>\n",
       "    </tr>\n",
       "    <tr>\n",
       "      <th>1</th>\n",
       "      <td>https://github.com/jupyter-naas/awesome-notebo...</td>\n",
       "      <td>449</td>\n",
       "      <td>426 linkedin follow number of content published</td>\n",
       "      <td>open</td>\n",
       "      <td>1199892649</td>\n",
       "      <td>None</td>\n",
       "      <td>SanjuEpic</td>\n",
       "      <td>0</td>\n",
       "      <td>2022-04-11</td>\n",
       "      <td>12:21:47</td>\n",
       "      <td>2022-04-11</td>\n",
       "      <td>12:21:48</td>\n",
       "      <td>No comments</td>\n",
       "      <td>open</td>\n",
       "      <td>No activity since 0 days</td>\n",
       "    </tr>\n",
       "    <tr>\n",
       "      <th>2</th>\n",
       "      <td>https://github.com/jupyter-naas/awesome-notebo...</td>\n",
       "      <td>447</td>\n",
       "      <td>427 linkedin follow total content views</td>\n",
       "      <td>open</td>\n",
       "      <td>1199131652</td>\n",
       "      <td>None</td>\n",
       "      <td>SanjuEpic</td>\n",
       "      <td>0</td>\n",
       "      <td>2022-04-10</td>\n",
       "      <td>18:18:25</td>\n",
       "      <td>2022-04-10</td>\n",
       "      <td>18:18:25</td>\n",
       "      <td>No comments</td>\n",
       "      <td>open</td>\n",
       "      <td>No activity since 1 days</td>\n",
       "    </tr>\n",
       "    <tr>\n",
       "      <th>3</th>\n",
       "      <td>https://github.com/jupyter-naas/awesome-notebo...</td>\n",
       "      <td>446</td>\n",
       "      <td>feat: github issues driver added</td>\n",
       "      <td>open</td>\n",
       "      <td>1198901827</td>\n",
       "      <td>None</td>\n",
       "      <td>SanjuEpic</td>\n",
       "      <td>2</td>\n",
       "      <td>2022-04-10</td>\n",
       "      <td>06:24:51</td>\n",
       "      <td>2022-04-11</td>\n",
       "      <td>16:38:36</td>\n",
       "      <td>['Hello @SanjuEpic, are you sure your code is ...</td>\n",
       "      <td>open</td>\n",
       "      <td>No activity since 0 days</td>\n",
       "    </tr>\n",
       "    <tr>\n",
       "      <th>4</th>\n",
       "      <td>https://github.com/jupyter-naas/awesome-notebo...</td>\n",
       "      <td>445</td>\n",
       "      <td>421 slack follow number of slack users in work...</td>\n",
       "      <td>open</td>\n",
       "      <td>1198888486</td>\n",
       "      <td>None</td>\n",
       "      <td>SanjuEpic</td>\n",
       "      <td>2</td>\n",
       "      <td>2022-04-10</td>\n",
       "      <td>05:40:47</td>\n",
       "      <td>2022-04-11</td>\n",
       "      <td>16:46:05</td>\n",
       "      <td>['Hello @SanjuEpic, I tested your notebook and...</td>\n",
       "      <td>open</td>\n",
       "      <td>No activity since 0 days</td>\n",
       "    </tr>\n",
       "  </tbody>\n",
       "</table>\n",
       "</div>"
      ],
      "text/plain": [
       "                                   link_to_the_issue  issue_number  \\\n",
       "0  https://github.com/jupyter-naas/awesome-notebo...           450   \n",
       "1  https://github.com/jupyter-naas/awesome-notebo...           449   \n",
       "2  https://github.com/jupyter-naas/awesome-notebo...           447   \n",
       "3  https://github.com/jupyter-naas/awesome-notebo...           446   \n",
       "4  https://github.com/jupyter-naas/awesome-notebo...           445   \n",
       "\n",
       "                                         issue_title issue_state    issue_id  \\\n",
       "0                            Twitter - Post analysis        open  1200193149   \n",
       "1    426 linkedin follow number of content published        open  1199892649   \n",
       "2            427 linkedin follow total content views        open  1199131652   \n",
       "3                   feat: github issues driver added        open  1198901827   \n",
       "4  421 slack follow number of slack users in work...        open  1198888486   \n",
       "\n",
       "  issue_labels issue_assignees  comments_till_date last_created_date  \\\n",
       "0         None         calok64                   0        2022-04-11   \n",
       "1         None       SanjuEpic                   0        2022-04-11   \n",
       "2         None       SanjuEpic                   0        2022-04-10   \n",
       "3         None       SanjuEpic                   2        2022-04-10   \n",
       "4         None       SanjuEpic                   2        2022-04-10   \n",
       "\n",
       "  last_created_time last_updated_date last_updated_time  \\\n",
       "0          16:04:37        2022-04-11          16:04:52   \n",
       "1          12:21:47        2022-04-11          12:21:48   \n",
       "2          18:18:25        2022-04-10          18:18:25   \n",
       "3          06:24:51        2022-04-11          16:38:36   \n",
       "4          05:40:47        2022-04-11          16:46:05   \n",
       "\n",
       "                                            comments linked_pr_state  \\\n",
       "0                                        No comments            None   \n",
       "1                                        No comments            open   \n",
       "2                                        No comments            open   \n",
       "3  ['Hello @SanjuEpic, are you sure your code is ...            open   \n",
       "4  ['Hello @SanjuEpic, I tested your notebook and...            open   \n",
       "\n",
       "                PR_activity  \n",
       "0                      None  \n",
       "1  No activity since 0 days  \n",
       "2  No activity since 1 days  \n",
       "3  No activity since 0 days  \n",
       "4  No activity since 0 days  "
      ]
     },
     "execution_count": 11,
     "metadata": {},
     "output_type": "execute_result"
    }
   ],
   "source": [
    "df_issues = gh_client.repos.get_issues(github_repo_name)\n",
    "df_issues.head()"
   ]
  },
  {
   "cell_type": "markdown",
   "id": "4f9034d2",
   "metadata": {},
   "source": [
    "### Create notion page from Github issue\n"
   ]
  },
  {
   "cell_type": "code",
   "execution_count": 12,
   "id": "cc5aca0f",
   "metadata": {
    "execution": {
     "iopub.execute_input": "2022-04-11T18:41:45.276824Z",
     "iopub.status.busy": "2022-04-11T18:41:45.274326Z",
     "iopub.status.idle": "2022-04-11T18:41:45.291597Z",
     "shell.execute_reply": "2022-04-11T18:41:45.290989Z",
     "shell.execute_reply.started": "2022-04-11T18:41:45.276783Z"
    },
    "tags": []
   },
   "outputs": [],
   "source": [
    "def notion_page_from_gh_issue(issue, notion_database_id):\n",
    "    \n",
    "    if len(df_notion) == 0:\n",
    "        pass\n",
    "    elif len(df_notion) != 0 and str(issue.issue_id) in df_notion.Issue_id.to_list():\n",
    "        return \"issue already exists in database\"\n",
    "    \n",
    "    page = notion_client.page.create(database_id=notion_database_id, title = issue.issue_title)\n",
    "    page.rich_text(\"URL\",issue.link_to_the_issue)\n",
    "    page.rich_text(\"Assignees\",issue.issue_assignees)\n",
    "    page.number('Issue_id',issue.issue_id)\n",
    "    page.date('Last_created',str(issue.last_created_date)+'T'+str(issue.last_created_time))\n",
    "    page.update()\n",
    "    \n",
    "    return \"Done\"\n"
   ]
  },
  {
   "cell_type": "markdown",
   "id": "b819d06a",
   "metadata": {},
   "source": [
    "## Output\n"
   ]
  },
  {
   "cell_type": "markdown",
   "id": "20d38845",
   "metadata": {},
   "source": [
    "### Iterate over each issue.\n"
   ]
  },
  {
   "cell_type": "code",
   "execution_count": 15,
   "id": "00fa33b2",
   "metadata": {
    "execution": {
     "iopub.execute_input": "2022-04-11T18:45:23.358949Z",
     "iopub.status.busy": "2022-04-11T18:45:23.358644Z",
     "iopub.status.idle": "2022-04-11T18:45:23.396129Z",
     "shell.execute_reply": "2022-04-11T18:45:23.388488Z",
     "shell.execute_reply.started": "2022-04-11T18:45:23.358919Z"
    },
    "tags": []
   },
   "outputs": [
    {
     "name": "stdout",
     "output_type": "stream",
     "text": [
      "Database up to date!\n"
     ]
    }
   ],
   "source": [
    "for idx, issue in df_issues.iterrows():\n",
    "    val = notion_page_from_gh_issue(issue, notion_database_id)\n",
    "    if val == \"issue already exists in database\":\n",
    "        print(\"Database up to date!\")\n",
    "        break\n",
    "    print(f'✅ Notion page created for issue {issue.link_to_the_issue}')\n"
   ]
  }
 ],
 "metadata": {
  "kernelspec": {
   "display_name": "Python 3",
   "language": "python",
   "name": "python3"
  },
  "language_info": {
   "codemirror_mode": {
    "name": "ipython",
    "version": 3
   },
   "file_extension": ".py",
   "mimetype": "text/x-python",
   "name": "python",
   "nbconvert_exporter": "python",
   "pygments_lexer": "ipython3",
   "version": "3.9.6"
  }
 },
 "nbformat": 4,
 "nbformat_minor": 5
}
