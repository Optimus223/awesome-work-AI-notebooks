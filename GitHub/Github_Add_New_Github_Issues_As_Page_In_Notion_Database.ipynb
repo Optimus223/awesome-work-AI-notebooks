{
 "cells": [
  {
   "cell_type": "markdown",
   "id": "84cadd0c",
   "metadata": {
    "papermill": {},
    "tags": []
   },
   "source": [
    "<img width=\"10%\" alt=\"Naas\" src=\"https://landen.imgix.net/jtci2pxwjczr/assets/5ice39g4.png?w=160\"/>\n"
   ]
  },
  {
   "cell_type": "markdown",
   "id": "0d43ed38",
   "metadata": {
    "papermill": {},
    "tags": []
   },
   "source": [
    "# GitHub - Github Add New Github Issues As Page In Notion Database\n",
    "<a href=\"https://app.naas.ai/user-redirect/naas/downloader?url=https://raw.githubusercontent.com/jupyter-naas/awesome-notebooks/master/GitHub/Github_Add_New_Github_Issues_As_Page_In_Notion_Database.ipynb\" target=\"_parent\"><img src=\"https://naasai-public.s3.eu-west-3.amazonaws.com/open_in_naas.svg\"/></a>"
   ]
  },
  {
   "cell_type": "markdown",
   "id": "d9313642",
   "metadata": {
    "papermill": {},
    "tags": []
   },
   "source": [
    "**Tags:** #github #notion #operations #automation\n"
   ]
  },
  {
   "cell_type": "markdown",
   "id": "8faf487c",
   "metadata": {
    "papermill": {},
    "tags": []
   },
   "source": [
    "**Author:** [Sanjeet Attili](https://linkedin.com/in/sanjeet-attili-760bab190/)"
   ]
  },
  {
   "cell_type": "markdown",
   "id": "3c6caf5a-7882-41fd-981b-8cb11060fff9",
   "metadata": {
    "papermill": {},
    "tags": []
   },
   "source": [
    "This notebook is used to create Notion page in a database when a new Github issue is created.\n",
    "<br/>References :\n",
    "- Github SDK: [https://github.com/PyGithub/PyGithub](https://github.com/PyGithub/PyGithub)"
   ]
  },
  {
   "cell_type": "markdown",
   "id": "7412988b",
   "metadata": {
    "papermill": {},
    "tags": []
   },
   "source": [
    "## Input\n"
   ]
  },
  {
   "cell_type": "markdown",
   "id": "b483a140",
   "metadata": {
    "papermill": {},
    "tags": []
   },
   "source": [
    "### Import libraries\n"
   ]
  },
  {
   "cell_type": "code",
   "execution_count": null,
   "id": "353ef79c",
   "metadata": {
    "papermill": {},
    "tags": []
   },
   "outputs": [],
   "source": [
    "import naas\n",
    "from naas_drivers import notion, github"
   ]
  },
  {
   "cell_type": "markdown",
   "id": "1e00b224",
   "metadata": {
    "papermill": {},
    "tags": []
   },
   "source": [
    "### Setup Notion\n"
   ]
  },
  {
   "cell_type": "markdown",
   "id": "c283d771-b80f-4e54-bc8c-d0bb728d6c86",
   "metadata": {
    "papermill": {},
    "tags": []
   },
   "source": [
    "<a href='https://docs.naas.ai/drivers/notion'>How to get your Notion integration token ?</a>"
   ]
  },
  {
   "cell_type": "code",
   "execution_count": null,
   "id": "d130b46b",
   "metadata": {
    "papermill": {},
    "tags": []
   },
   "outputs": [],
   "source": [
    "# Notion token\n",
    "notion_token = \"...\"\n",
    "\n",
    "# Specify database id\n",
    "notion_database_id = \"...\"\n",
    "\n",
    "notion_client = notion.connect(notion_token)"
   ]
  },
  {
   "cell_type": "markdown",
   "id": "68b48858",
   "metadata": {
    "papermill": {},
    "tags": []
   },
   "source": [
    "### Setup Github\n"
   ]
  },
  {
   "cell_type": "code",
   "execution_count": null,
   "id": "01647a55",
   "metadata": {
    "papermill": {},
    "tags": []
   },
   "outputs": [],
   "source": [
    "# Github token\n",
    "github_token = \"...\"\n",
    "\n",
    "# Github repo on which we want to create issues.\n",
    "github_repo_name = \"...\"\n",
    "\n",
    "gh_client = github.connect(github_token)"
   ]
  },
  {
   "cell_type": "markdown",
   "id": "d10e6972",
   "metadata": {
    "papermill": {},
    "tags": []
   },
   "source": [
    "### Setup Naas\n"
   ]
  },
  {
   "cell_type": "code",
   "execution_count": null,
   "id": "518ee97b",
   "metadata": {
    "papermill": {},
    "tags": []
   },
   "outputs": [],
   "source": [
    "# Schedule your notebook every 15 minutes.\n",
    "naas.scheduler.add(cron=\"*/15 * * * *\")\n",
    "\n",
    "#-> Uncomment the line below to remove your scheduler\n",
    "# naas.scheduler.delete()"
   ]
  },
  {
   "cell_type": "markdown",
   "id": "93347abb",
   "metadata": {
    "papermill": {},
    "tags": []
   },
   "source": [
    "## Model\n"
   ]
  },
  {
   "cell_type": "markdown",
   "id": "0f0264bf",
   "metadata": {
    "papermill": {},
    "tags": []
   },
   "source": [
    "### Query notion database\n"
   ]
  },
  {
   "cell_type": "code",
   "execution_count": null,
   "id": "f5d8c1e7",
   "metadata": {
    "papermill": {},
    "tags": []
   },
   "outputs": [],
   "source": [
    "db_notion = notion_client.database.get(notion_database_id)\n",
    "df_notion = db_notion.df()\n",
    "\n",
    "for idx, row in df_notion.iterrows():\n",
    "    if row.Name=='':\n",
    "        df_notion.drop(index= idx, inplace=True)\n",
    "    try:\n",
    "        df_notion.drop(columns=['Tags'], inplace=True)\n",
    "    except KeyError:\n",
    "        pass\n",
    "\n",
    "df_notion"
   ]
  },
  {
   "cell_type": "markdown",
   "id": "18f1066e",
   "metadata": {
    "papermill": {},
    "tags": []
   },
   "source": [
    "### Get Github issues\n"
   ]
  },
  {
   "cell_type": "code",
   "execution_count": null,
   "id": "3d4e2489",
   "metadata": {
    "papermill": {},
    "tags": []
   },
   "outputs": [],
   "source": [
    "df_issues = gh_client.repos.get_issues(github_repo_name)\n",
    "df_issues.head()"
   ]
  },
  {
   "cell_type": "markdown",
   "id": "4f9034d2",
   "metadata": {
    "papermill": {},
    "tags": []
   },
   "source": [
    "### Create notion page from Github issue\n"
   ]
  },
  {
   "cell_type": "code",
   "execution_count": null,
   "id": "cc5aca0f",
   "metadata": {
    "papermill": {},
    "tags": []
   },
   "outputs": [],
   "source": [
    "def notion_page_from_gh_issue(issue, notion_database_id):\n",
    "    \n",
    "    if len(df_notion) == 0:\n",
    "        pass\n",
    "    elif len(df_notion) != 0 and str(issue.issue_id) in df_notion.Issue_id.to_list():\n",
    "        return \"issue already exists in database\"\n",
    "    \n",
    "    page = notion_client.page.create(database_id=notion_database_id, title = issue.issue_title)\n",
    "    page.rich_text(\"URL\",issue.link_to_the_issue)\n",
    "    page.rich_text(\"Assignees\",issue.issue_assignees)\n",
    "    page.number('Issue_id',issue.issue_id)\n",
    "    page.date('Last_created',str(issue.last_created_date)+'T'+str(issue.last_created_time))\n",
    "    page.update()\n",
    "    return \"Done\""
   ]
  },
  {
   "cell_type": "markdown",
   "id": "b819d06a",
   "metadata": {
    "papermill": {},
    "tags": []
   },
   "source": [
    "## Output\n"
   ]
  },
  {
   "cell_type": "markdown",
   "id": "20d38845",
   "metadata": {
    "papermill": {},
    "tags": []
   },
   "source": [
    "### Iterate over each issue.\n"
   ]
  },
  {
   "cell_type": "code",
   "execution_count": null,
   "id": "00fa33b2",
   "metadata": {
    "papermill": {},
    "tags": []
   },
   "outputs": [],
   "source": [
    "for idx, issue in df_issues.iterrows():\n",
    "    val = notion_page_from_gh_issue(issue, notion_database_id)\n",
    "    if val == \"issue already exists in database\":\n",
    "        print(\"Database up to date!\")\n",
    "        break\n",
    "    print(f'✅ Notion page created for issue {issue.link_to_the_issue}')"
   ]
  }
 ],
 "metadata": {
  "kernelspec": {
   "display_name": "Python 3",
   "language": "python",
   "name": "python3"
  },
  "language_info": {
   "codemirror_mode": {
    "name": "ipython",
    "version": 3
   },
   "file_extension": ".py",
   "mimetype": "text/x-python",
   "name": "python",
   "nbconvert_exporter": "python",
   "pygments_lexer": "ipython3",
   "version": "3.9.6"
  },
  "papermill": {
   "default_parameters": {},
   "environment_variables": {},
   "parameters": {},
   "version": "2.3.4"
  }
 },
 "nbformat": 4,
 "nbformat_minor": 5
}