{
 "cells": [
  {
   "cell_type": "markdown",
   "id": "injured-evolution",
   "metadata": {
    "papermill": {},
    "tags": []
   },
   "source": [
    "<img width=\"10%\" alt=\"Naas\" src=\"https://landen.imgix.net/jtci2pxwjczr/assets/5ice39g4.png?w=160\"/>"
   ]
  },
  {
   "cell_type": "markdown",
   "id": "substantial-decline",
   "metadata": {
    "papermill": {},
    "tags": []
   },
   "source": [
    "# GitHub - Clone repository\n",
    "\n",
    "    <a href=\"https://app.naas.ai/user-redirect/naas/downloader?url=https://raw.githubusercontent.com/jupyter-naas/awesome-notebooks/master/GitHub/GitHub_Clone_repository.ipynb\" target=\"_parent\"><img src=\"https://naasai-public.s3.eu-west-3.amazonaws.com/open_in_naas.svg\"/></a><br><br><a href=\"https://github.com/jupyter-naas/awesome-notebooks/issues/new?assignees=&labels=&template=template-request.md&title=Tool+-+Action+of+the+notebook+\">Template request</a> | <a href=\"https://github.com/jupyter-naas/awesome-notebooks/issues/new?assignees=&labels=bug&template=bug_report.md&title=GitHub+-+Clone+repository:+Error+short+description\">Bug report</a> | <a href=\"https://app.naas.ai/user-redirect/naas/downloader?url=https://raw.githubusercontent.com/jupyter-naas/awesome-notebooks/master/Naas/Naas_Start_data_product.ipynb\" target=\"_parent\">Generate Data Product</a>"
   ]
  },
  {
   "cell_type": "markdown",
   "id": "00619b69-5ce8-417a-b8b1-c81af6342f9c",
   "metadata": {
    "papermill": {},
    "tags": []
   },
   "source": [
    "**Tags:** #github #snippet #operations #repository"
   ]
  },
  {
   "cell_type": "markdown",
   "id": "1446840e-74d1-4c76-afb6-4752a6b4a0c4",
   "metadata": {
    "papermill": {},
    "tags": []
   },
   "source": [
    "**Author:** [Florent Ravenel](https://www.linkedin.com/in/florent-ravenel/)"
   ]
  },
  {
   "cell_type": "markdown",
   "id": "dd3d4d6a-f15d-47f9-83ac-4208edf13bf9",
   "metadata": {
    "papermill": {},
    "tags": []
   },
   "source": [
    "**Description:** This notebook clones a GitHub repository to your naas."
   ]
  },
  {
   "cell_type": "markdown",
   "id": "9dff654e-e349-475f-be47-13b889672861",
   "metadata": {
    "papermill": {},
    "tags": []
   },
   "source": [
    "## Input"
   ]
  },
  {
   "cell_type": "markdown",
   "id": "2c9b0859-d78b-4ed4-9384-17fce2178359",
   "metadata": {
    "papermill": {},
    "tags": []
   },
   "source": [
    "### Import libraries"
   ]
  },
  {
   "cell_type": "code",
   "execution_count": null,
   "id": "e5d41374-1dfa-428a-a95d-a361f97f8dce",
   "metadata": {
    "papermill": {},
    "tags": []
   },
   "outputs": [],
   "source": [
    "from IPython.display import display\n",
    "from ipywidgets import widgets\n",
    "import naas\n",
    "from os import path"
   ]
  },
  {
   "cell_type": "markdown",
   "id": "310bb257-8558-4452-b177-082c6e06caec",
   "metadata": {
    "papermill": {},
    "tags": []
   },
   "source": [
    "### Define your repository URL"
   ]
  },
  {
   "cell_type": "code",
   "execution_count": null,
   "id": "23f3279e-0aa8-4aaa-924b-017065949957",
   "metadata": {
    "papermill": {},
    "tags": []
   },
   "outputs": [],
   "source": [
    "GIT_REPO_URL = \"https://github.com/jupyter-naas/data-product-framework.git\""
   ]
  },
  {
   "cell_type": "markdown",
   "id": "c3e697f6-b6c0-4617-98fd-c091f2dfc3e9",
   "metadata": {
    "papermill": {},
    "tags": []
   },
   "source": [
    "## Model"
   ]
  },
  {
   "cell_type": "markdown",
   "id": "61f8a6e0-9ad7-48f2-814c-d06495a7fce2",
   "metadata": {
    "papermill": {},
    "tags": []
   },
   "source": [
    "### Setup project path and clone repo"
   ]
  },
  {
   "cell_type": "code",
   "execution_count": null,
   "id": "cc86cc8e-1a54-4560-a728-35b7f898c586",
   "metadata": {
    "papermill": {},
    "tags": []
   },
   "outputs": [],
   "source": [
    "# Setup folder path\n",
    "PROJECT_NAME = GIT_REPO_URL.split(\"/\")[-1].replace(\".git\", \"\")\n",
    "GIT_REPO_PATH = path.join(\"/\", \"home\", \"ftp\", PROJECT_NAME)\n",
    "\n",
    "# Download repo inside folder\n",
    "!git clone \"$GIT_REPO_URL\" \"$GIT_REPO_PATH\""
   ]
  },
  {
   "cell_type": "markdown",
   "id": "d6e753b6-8c3c-4bba-b0cf-92b8699dff32",
   "metadata": {
    "execution": {
     "iopub.execute_input": "2022-08-02T09:13:36.117662Z",
     "iopub.status.busy": "2022-08-02T09:13:36.117409Z",
     "iopub.status.idle": "2022-08-02T09:13:36.121450Z",
     "shell.execute_reply": "2022-08-02T09:13:36.120659Z",
     "shell.execute_reply.started": "2022-08-02T09:13:36.117626Z"
    },
    "papermill": {},
    "tags": []
   },
   "source": [
    "## Output"
   ]
  },
  {
   "cell_type": "markdown",
   "id": "c057adf8-c30e-40ec-84ae-6814f08af96b",
   "metadata": {
    "execution": {
     "iopub.execute_input": "2022-07-14T14:43:17.864872Z",
     "iopub.status.busy": "2022-07-14T14:43:17.864631Z",
     "iopub.status.idle": "2022-07-14T14:43:17.867825Z",
     "shell.execute_reply": "2022-07-14T14:43:17.867167Z",
     "shell.execute_reply.started": "2022-07-14T14:43:17.864848Z"
    },
    "papermill": {},
    "tags": []
   },
   "source": [
    "#### Display result"
   ]
  },
  {
   "cell_type": "code",
   "execution_count": null,
   "id": "e096b140-0418-4538-a66d-07c22b0ccbb9",
   "metadata": {
    "papermill": {},
    "tags": []
   },
   "outputs": [],
   "source": [
    "print(f\"✅ The project has been downloaded to the following folder: {GIT_REPO_PATH}.\")"
   ]
  }
 ],
 "metadata": {
  "kernelspec": {
   "display_name": "Python 3",
   "language": "python",
   "name": "python3"
  },
  "language_info": {
   "codemirror_mode": {
    "name": "ipython",
    "version": 3
   },
   "file_extension": ".py",
   "mimetype": "text/x-python",
   "name": "python",
   "nbconvert_exporter": "python",
   "pygments_lexer": "ipython3",
   "version": "3.9.6"
  },
  "naas": {
   "notebook_id": "77b7f93a-fb2a-483e-b98b-80735e426a64",
   "notebook_path": "Naas/Naas_Secret_demo.ipynb"
  },
  "papermill": {
   "default_parameters": {},
   "environment_variables": {},
   "parameters": {},
   "version": "2.3.3"
  },
  "toc-autonumbering": false,
  "widgets": {
   "application/vnd.jupyter.widget-state+json": {
    "state": {},
    "version_major": 2,
    "version_minor": 0
   }
  }
 },
 "nbformat": 4,
 "nbformat_minor": 5
}