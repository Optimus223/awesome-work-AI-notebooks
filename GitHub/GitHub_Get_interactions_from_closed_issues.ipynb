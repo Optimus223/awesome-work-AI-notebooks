{
 "cells": [
  {
   "cell_type": "markdown",
   "id": "84cadd0c",
   "metadata": {
    "papermill": {},
    "tags": []
   },
   "source": [
    "<img width=\"8%\" alt=\"GitHub.png\" src=\"https://raw.githubusercontent.com/jupyter-naas/awesome-notebooks/master/.github/assets/logos/GitHub.png\" style=\"border-radius: 15%\">"
   ]
  },
  {
   "cell_type": "markdown",
   "id": "0d43ed38",
   "metadata": {
    "papermill": {},
    "tags": []
   },
   "source": [
    "# GitHub - List all comments and reactions from closed issues on a given repository\n",
    "<a href=\"https://bit.ly/3JyWIk6\">Give Feedback</a> | <a href=\"https://github.com/jupyter-naas/awesome-notebooks/issues/new?assignees=&labels=bug&template=bug_report.md&title=GitHub+-+Add+new+issues+as+page+in+Notion+database:+Error+short+description\">Bug report</a>"
   ]
  },
  {
   "cell_type": "markdown",
   "id": "d9313642",
   "metadata": {
    "papermill": {},
    "tags": []
   },
   "source": [
    "**Tags:** #github #closedIssues #reaction #comment #creator #assignees #automation"
   ]
  },
  {
   "cell_type": "markdown",
   "id": "8faf487c",
   "metadata": {
    "papermill": {},
    "tags": []
   },
   "source": [
    "**Author:** [Varsha Kumar](https://www.linkedin.com/in/varsha-kumar-590466305/)"
   ]
  },
  {
   "cell_type": "markdown",
   "id": "3dba1c73-548d-4008-82ad-fdb2cb376771",
   "metadata": {
    "papermill": {},
    "tags": []
   },
   "source": [
    "**Last update:** 2024-06-10 (Created: 2024-06-10)"
   ]
  },
  {
   "cell_type": "markdown",
   "id": "naas-description",
   "metadata": {
    "papermill": {},
    "tags": [
     "description"
    ]
   },
   "source": [
    "**Description:** This notebook allows users to retrieve all comments and reactions from closed issues along with creator and assignee data on a given repository."
   ]
  },
  {
   "cell_type": "markdown",
   "id": "7412988b",
   "metadata": {
    "papermill": {},
    "tags": []
   },
   "source": [
    "## Input"
   ]
  },
  {
   "cell_type": "code",
   "execution_count": 8,
   "id": "353ef79c",
   "metadata": {
    "execution": {
     "iopub.execute_input": "2024-06-10T10:41:40.895336Z",
     "iopub.status.busy": "2024-06-10T10:41:40.895074Z",
     "iopub.status.idle": "2024-06-10T10:41:40.900642Z",
     "shell.execute_reply": "2024-06-10T10:41:40.899878Z",
     "shell.execute_reply.started": "2024-06-10T10:41:40.895309Z"
    },
    "papermill": {},
    "tags": []
   },
   "outputs": [],
   "source": [
    "import requests\n",
    "import re\n",
    "import pandas as pd\n",
    "import naas_python as naas\n",
    "from urllib.parse import urlparse\n",
    "import time"
   ]
  },
  {
   "cell_type": "markdown",
   "id": "68b48858",
   "metadata": {
    "papermill": {},
    "tags": []
   },
   "source": [
    "### Setup variables\n",
    "- `github_token`: personal token creates\n",
    "- `github_url`: link to the chosen github repo\n",
    "- `state`: type of issue"
   ]
  },
  {
   "cell_type": "code",
   "execution_count": 9,
   "id": "01647a55",
   "metadata": {
    "execution": {
     "iopub.execute_input": "2024-06-10T10:41:41.576481Z",
     "iopub.status.busy": "2024-06-10T10:41:41.576191Z",
     "iopub.status.idle": "2024-06-10T10:41:42.664960Z",
     "shell.execute_reply": "2024-06-10T10:41:42.664253Z",
     "shell.execute_reply.started": "2024-06-10T10:41:41.576454Z"
    },
    "papermill": {},
    "tags": []
   },
   "outputs": [],
   "source": [
    "github_token = naas.secret.get(\"GITHUB_TOKEN\").value\n",
    "repo_url = \"https://github.com/jupyter-naas/awesome-notebooks\"\n",
    "state = 'closed'"
   ]
  },
  {
   "cell_type": "markdown",
   "id": "93347abb",
   "metadata": {
    "papermill": {},
    "tags": []
   },
   "source": [
    "## Model"
   ]
  },
  {
   "cell_type": "markdown",
   "id": "a1465f96-d485-49ef-9a33-d649ae970ce1",
   "metadata": {},
   "source": [
    "### Filter on closed issues without pull requests"
   ]
  },
  {
   "cell_type": "code",
   "execution_count": 10,
   "id": "efd6342d-9bb9-4618-8264-44ae069bb02c",
   "metadata": {
    "execution": {
     "iopub.execute_input": "2024-06-10T10:41:43.731122Z",
     "iopub.status.busy": "2024-06-10T10:41:43.730816Z",
     "iopub.status.idle": "2024-06-10T10:41:57.111451Z",
     "shell.execute_reply": "2024-06-10T10:41:57.110837Z",
     "shell.execute_reply.started": "2024-06-10T10:41:43.731086Z"
    },
    "tags": []
   },
   "outputs": [],
   "source": [
    "def get_filtered_closed_issues(github_url, personal_access_token):\n",
    "    # Parse the GitHub URL to get the owner and repo name\n",
    "    parsed_url = urlparse(github_url)\n",
    "    path_parts = parsed_url.path.strip('/').split('/')\n",
    "    \n",
    "    if len(path_parts) != 2:\n",
    "        raise ValueError(\"Invalid GitHub URL. It should be in the format: https://github.com/owner/repo\")\n",
    "    \n",
    "    owner, repo = path_parts\n",
    "    \n",
    "    # GitHub API URL for issues\n",
    "    api_url = f\"https://api.github.com/repos/{owner}/{repo}/issues\"\n",
    "    \n",
    "    # Set up headers with personal access token for authentication\n",
    "    headers = {\n",
    "        'Authorization': f'token {personal_access_token}',\n",
    "        'Accept': 'application/vnd.github.v3+json'\n",
    "    }\n",
    "    \n",
    "    # Set up parameters to get only open issues\n",
    "    params = {\n",
    "        'state': state,\n",
    "        'filter': 'all',\n",
    "        'per_page': 100  # Set the number of issues per page to 100 (maximum allowed by GitHub API)\n",
    "    }\n",
    "    \n",
    "    # Initialize an empty list to store all open issues excluding pull requests\n",
    "    filtered_issues = []\n",
    "    \n",
    "    # Pagination to fetch all issues\n",
    "    page = 1\n",
    "    while True:\n",
    "        params['page'] = page\n",
    "        response = requests.get(api_url, headers=headers, params=params)\n",
    "        \n",
    "        if response.status_code != 200:\n",
    "            raise Exception(f\"Error fetching issues from GitHub: {response.status_code} {response.reason}\")\n",
    "        \n",
    "        issues = response.json()\n",
    "        if not issues:\n",
    "            break\n",
    "        \n",
    "        # Filter out pull requests from the issues\n",
    "        for issue in issues:\n",
    "            if 'pull_request' not in issue:\n",
    "                filtered_issues.append(issue)\n",
    "        \n",
    "        page += 1\n",
    "    \n",
    "    return filtered_issues\n",
    "\n",
    "\n",
    "filtered_issues = get_filtered_closed_issues(repo_url, github_token)"
   ]
  },
  {
   "cell_type": "markdown",
   "id": "c44d0487-7974-4041-a5d9-3dddafb177ba",
   "metadata": {},
   "source": [
    "### Get interactions from issues"
   ]
  },
  {
   "cell_type": "code",
   "execution_count": 11,
   "id": "25515662-6221-4d31-bce9-e811ab1a70c6",
   "metadata": {
    "execution": {
     "iopub.execute_input": "2024-06-10T10:41:58.761586Z",
     "iopub.status.busy": "2024-06-10T10:41:58.761230Z",
     "iopub.status.idle": "2024-06-10T10:41:58.767049Z",
     "shell.execute_reply": "2024-06-10T10:41:58.766424Z",
     "shell.execute_reply.started": "2024-06-10T10:41:58.761559Z"
    },
    "tags": []
   },
   "outputs": [],
   "source": [
    "# Get comments and reactions from issues\n",
    "def get_all_comments(api_url, personal_access_token):\n",
    "    # Set up headers with personal access token for authentication\n",
    "    headers = {\n",
    "        'Authorization': f'token {personal_access_token}',\n",
    "        'Accept': 'application/vnd.github.v3+json'\n",
    "    }\n",
    "\n",
    "    # Get comments for the issue\n",
    "    response = requests.get(api_url + '/comments', headers=headers)\n",
    "    if response.status_code != 200:\n",
    "        raise Exception(f\"Error fetching comments from GitHub: {response.status_code} {response.reason}\")\n",
    "    comments = response.json()\n",
    "\n",
    "    return comments\n",
    "\n",
    "def get_comment_reactions(comment_url, personal_access_token):\n",
    "    headers = {\n",
    "        \"Authorization\": f\"token {personal_access_token}\",\n",
    "        \"Accept\": \"application/vnd.github.squirrel-girl-preview+json\"\n",
    "    }\n",
    "    # Get reactions for the issue\n",
    "    response = requests.get(comment_url + \"/reactions\", headers=headers)\n",
    "    response.raise_for_status()\n",
    "    return response.json()\n",
    "    \n",
    "def get_interactions(\n",
    "    url,\n",
    "    uid,\n",
    "    interaction_type,\n",
    "    content,\n",
    "    time,\n",
    "    user_login,\n",
    "    user_id,\n",
    "):\n",
    "    return {\n",
    "        \"URL\": url,\n",
    "        \"ID\": uid,\n",
    "        \"TYPE\": interaction_type,\n",
    "        \"CONTENT\": content,\n",
    "        \"DATE_TIME\": time,\n",
    "        \"USER_LOGIN\": user_login,\n",
    "        \"USER_ID\": user_id,\n",
    "    }"
   ]
  },
  {
   "cell_type": "markdown",
   "id": "b819d06a",
   "metadata": {
    "papermill": {},
    "tags": []
   },
   "source": [
    "## Output\n",
    "### Display result"
   ]
  },
  {
   "cell_type": "code",
   "execution_count": 12,
   "id": "9c8fcf83-0e5f-4b5f-857d-6356c066f78a",
   "metadata": {
    "execution": {
     "iopub.execute_input": "2024-06-10T10:42:00.556190Z",
     "iopub.status.busy": "2024-06-10T10:42:00.555882Z",
     "iopub.status.idle": "2024-06-10T10:54:37.905815Z",
     "shell.execute_reply": "2024-06-10T10:54:37.905262Z",
     "shell.execute_reply.started": "2024-06-10T10:42:00.556157Z"
    },
    "tags": []
   },
   "outputs": [
    {
     "data": {
      "text/html": [
       "<div>\n",
       "<style scoped>\n",
       "    .dataframe tbody tr th:only-of-type {\n",
       "        vertical-align: middle;\n",
       "    }\n",
       "\n",
       "    .dataframe tbody tr th {\n",
       "        vertical-align: top;\n",
       "    }\n",
       "\n",
       "    .dataframe thead th {\n",
       "        text-align: right;\n",
       "    }\n",
       "</style>\n",
       "<table border=\"1\" class=\"dataframe\">\n",
       "  <thead>\n",
       "    <tr style=\"text-align: right;\">\n",
       "      <th></th>\n",
       "      <th>URL</th>\n",
       "      <th>ID</th>\n",
       "      <th>TYPE</th>\n",
       "      <th>CONTENT</th>\n",
       "      <th>DATE_TIME</th>\n",
       "      <th>USER_LOGIN</th>\n",
       "      <th>USER_ID</th>\n",
       "    </tr>\n",
       "  </thead>\n",
       "  <tbody>\n",
       "    <tr>\n",
       "      <th>0</th>\n",
       "      <td>https://api.github.com/repos/jupyter-naas/awes...</td>\n",
       "      <td>2531_48032461</td>\n",
       "      <td>CREATOR</td>\n",
       "      <td>I can't clone Awesome Notebooks repo</td>\n",
       "      <td>2024-06-04T13:17:03Z</td>\n",
       "      <td>FlorentLvr</td>\n",
       "      <td>48032461</td>\n",
       "    </tr>\n",
       "    <tr>\n",
       "      <th>1</th>\n",
       "      <td>https://api.github.com/repos/jupyter-naas/awes...</td>\n",
       "      <td>2531_72303998</td>\n",
       "      <td>ASSIGNEE</td>\n",
       "      <td>I can't clone Awesome Notebooks repo</td>\n",
       "      <td>2024-06-04T13:17:03Z</td>\n",
       "      <td>l-loic</td>\n",
       "      <td>72303998</td>\n",
       "    </tr>\n",
       "    <tr>\n",
       "      <th>2</th>\n",
       "      <td>https://api.github.com/repos/jupyter-naas/awes...</td>\n",
       "      <td>2147578770</td>\n",
       "      <td>COMMENT</td>\n",
       "      <td>cc @l-loic</td>\n",
       "      <td>2024-06-04T13:45:21Z</td>\n",
       "      <td>FlorentLvr</td>\n",
       "      <td>48032461</td>\n",
       "    </tr>\n",
       "    <tr>\n",
       "      <th>3</th>\n",
       "      <td>https://api.github.com/repos/jupyter-naas/awes...</td>\n",
       "      <td>2147719736</td>\n",
       "      <td>COMMENT</td>\n",
       "      <td>@Dr0p42  As a quick fix i reduced image size o...</td>\n",
       "      <td>2024-06-04T14:43:41Z</td>\n",
       "      <td>l-loic</td>\n",
       "      <td>72303998</td>\n",
       "    </tr>\n",
       "    <tr>\n",
       "      <th>4</th>\n",
       "      <td>https://api.github.com/repos/jupyter-naas/awes...</td>\n",
       "      <td>239617403</td>\n",
       "      <td>REACTION</td>\n",
       "      <td>+1</td>\n",
       "      <td>2024-06-04T15:13:57Z</td>\n",
       "      <td>FlorentLvr</td>\n",
       "      <td>48032461</td>\n",
       "    </tr>\n",
       "    <tr>\n",
       "      <th>...</th>\n",
       "      <td>...</td>\n",
       "      <td>...</td>\n",
       "      <td>...</td>\n",
       "      <td>...</td>\n",
       "      <td>...</td>\n",
       "      <td>...</td>\n",
       "      <td>...</td>\n",
       "    </tr>\n",
       "    <tr>\n",
       "      <th>4575</th>\n",
       "      <td>https://api.github.com/repos/jupyter-naas/awes...</td>\n",
       "      <td>5_47117399</td>\n",
       "      <td>CREATOR</td>\n",
       "      <td>Create Clockify notebook</td>\n",
       "      <td>2020-10-29T09:41:20Z</td>\n",
       "      <td>BobCashStory</td>\n",
       "      <td>47117399</td>\n",
       "    </tr>\n",
       "    <tr>\n",
       "      <th>4576</th>\n",
       "      <td>https://api.github.com/repos/jupyter-naas/awes...</td>\n",
       "      <td>4_47117399</td>\n",
       "      <td>CREATOR</td>\n",
       "      <td>Create Qlik notebook</td>\n",
       "      <td>2020-10-29T09:40:25Z</td>\n",
       "      <td>BobCashStory</td>\n",
       "      <td>47117399</td>\n",
       "    </tr>\n",
       "    <tr>\n",
       "      <th>4577</th>\n",
       "      <td>https://api.github.com/repos/jupyter-naas/awes...</td>\n",
       "      <td>3_47117399</td>\n",
       "      <td>CREATOR</td>\n",
       "      <td>Create Powerbi notebook</td>\n",
       "      <td>2020-10-29T09:40:09Z</td>\n",
       "      <td>BobCashStory</td>\n",
       "      <td>47117399</td>\n",
       "    </tr>\n",
       "    <tr>\n",
       "      <th>4578</th>\n",
       "      <td>https://api.github.com/repos/jupyter-naas/awes...</td>\n",
       "      <td>2_47117399</td>\n",
       "      <td>CREATOR</td>\n",
       "      <td>Create Pipedrive notebook</td>\n",
       "      <td>2020-10-29T09:39:41Z</td>\n",
       "      <td>BobCashStory</td>\n",
       "      <td>47117399</td>\n",
       "    </tr>\n",
       "    <tr>\n",
       "      <th>4579</th>\n",
       "      <td>https://api.github.com/repos/jupyter-naas/awes...</td>\n",
       "      <td>1_47117399</td>\n",
       "      <td>CREATOR</td>\n",
       "      <td>Create Diapason notebook</td>\n",
       "      <td>2020-10-29T09:39:17Z</td>\n",
       "      <td>BobCashStory</td>\n",
       "      <td>47117399</td>\n",
       "    </tr>\n",
       "  </tbody>\n",
       "</table>\n",
       "<p>4580 rows × 7 columns</p>\n",
       "</div>"
      ],
      "text/plain": [
       "                                                    URL             ID  \\\n",
       "0     https://api.github.com/repos/jupyter-naas/awes...  2531_48032461   \n",
       "1     https://api.github.com/repos/jupyter-naas/awes...  2531_72303998   \n",
       "2     https://api.github.com/repos/jupyter-naas/awes...     2147578770   \n",
       "3     https://api.github.com/repos/jupyter-naas/awes...     2147719736   \n",
       "4     https://api.github.com/repos/jupyter-naas/awes...      239617403   \n",
       "...                                                 ...            ...   \n",
       "4575  https://api.github.com/repos/jupyter-naas/awes...     5_47117399   \n",
       "4576  https://api.github.com/repos/jupyter-naas/awes...     4_47117399   \n",
       "4577  https://api.github.com/repos/jupyter-naas/awes...     3_47117399   \n",
       "4578  https://api.github.com/repos/jupyter-naas/awes...     2_47117399   \n",
       "4579  https://api.github.com/repos/jupyter-naas/awes...     1_47117399   \n",
       "\n",
       "          TYPE                                            CONTENT  \\\n",
       "0      CREATOR               I can't clone Awesome Notebooks repo   \n",
       "1     ASSIGNEE               I can't clone Awesome Notebooks repo   \n",
       "2      COMMENT                                        cc @l-loic    \n",
       "3      COMMENT  @Dr0p42  As a quick fix i reduced image size o...   \n",
       "4     REACTION                                                 +1   \n",
       "...        ...                                                ...   \n",
       "4575   CREATOR                           Create Clockify notebook   \n",
       "4576   CREATOR                               Create Qlik notebook   \n",
       "4577   CREATOR                            Create Powerbi notebook   \n",
       "4578   CREATOR                          Create Pipedrive notebook   \n",
       "4579   CREATOR                           Create Diapason notebook   \n",
       "\n",
       "                 DATE_TIME    USER_LOGIN   USER_ID  \n",
       "0     2024-06-04T13:17:03Z    FlorentLvr  48032461  \n",
       "1     2024-06-04T13:17:03Z        l-loic  72303998  \n",
       "2     2024-06-04T13:45:21Z    FlorentLvr  48032461  \n",
       "3     2024-06-04T14:43:41Z        l-loic  72303998  \n",
       "4     2024-06-04T15:13:57Z    FlorentLvr  48032461  \n",
       "...                    ...           ...       ...  \n",
       "4575  2020-10-29T09:41:20Z  BobCashStory  47117399  \n",
       "4576  2020-10-29T09:40:25Z  BobCashStory  47117399  \n",
       "4577  2020-10-29T09:40:09Z  BobCashStory  47117399  \n",
       "4578  2020-10-29T09:39:41Z  BobCashStory  47117399  \n",
       "4579  2020-10-29T09:39:17Z  BobCashStory  47117399  \n",
       "\n",
       "[4580 rows x 7 columns]"
      ]
     },
     "execution_count": 12,
     "metadata": {},
     "output_type": "execute_result"
    }
   ],
   "source": [
    "data = []\n",
    "    \n",
    "for issue in filtered_issues:\n",
    "    # Creator\n",
    "    issue_number = issue['number']\n",
    "    issue_url = issue['url']\n",
    "    issue_content = issue['title']\n",
    "    issue_time = issue['created_at']\n",
    "    issue_user_login = issue['user']['login']\n",
    "    issue_user_id = issue['user']['id']\n",
    "\n",
    "    # Get creator\n",
    "    data_creator = get_interactions(\n",
    "        issue_url,\n",
    "        str(issue_number) + \"_\" +  str(issue_user_id),\n",
    "        \"CREATOR\",\n",
    "        issue_content,\n",
    "        issue_time,\n",
    "        issue_user_login,\n",
    "        issue_user_id,\n",
    "    )\n",
    "    data.append(data_creator)\n",
    "    \n",
    "    # Get Assignees\n",
    "    if len(issue['assignees']) > 0:\n",
    "        for assignee in issue['assignees']:\n",
    "            data_assignee = get_interactions(\n",
    "                issue_url,\n",
    "                str(issue_number) + \"_\" + str(assignee['id']),\n",
    "                \"ASSIGNEE\",\n",
    "                issue_content,\n",
    "                issue_time,\n",
    "                assignee['login'],\n",
    "                assignee['id'],\n",
    "            )\n",
    "            data.append(data_assignee)\n",
    "            \n",
    "    # Get comments\n",
    "    comments = get_all_comments(issue_url, github_token)\n",
    "    for comment in comments:\n",
    "        comment_id = comment['id']\n",
    "        comment_body = comment['body']\n",
    "        comment_created_at = comment['created_at']\n",
    "        comment_user_login = comment['user']['login']\n",
    "        comment_user_id = comment['user']['id']\n",
    "        data_comment = get_interactions(\n",
    "            issue_url,\n",
    "            comment_id,\n",
    "            \"COMMENT\",\n",
    "            comment_body,\n",
    "            comment_created_at,\n",
    "            comment_user_login,\n",
    "            comment_user_id,\n",
    "        )\n",
    "        \n",
    "        data.append(data_comment)\n",
    "        #print (comment)\n",
    "        reactions = get_comment_reactions(comment['url'], github_token)\n",
    "        if len(reactions) > 0:\n",
    "            for reaction in reactions:\n",
    "                reaction_id = reaction['id']\n",
    "                reaction_body = reaction['content']\n",
    "                reaction_created_at = reaction['created_at']\n",
    "                reaction_user_login = reaction['user']['login']\n",
    "                reaction_user_id = reaction['user']['id']\n",
    "                data_reaction = get_interactions(\n",
    "                    issue_url,\n",
    "                    reaction_id,\n",
    "                    \"REACTION\",\n",
    "                    reaction_body,\n",
    "                    reaction_created_at,\n",
    "                    reaction_user_login,\n",
    "                    reaction_user_id,\n",
    "                )\n",
    "                data.append(data_reaction)\n",
    "pd.DataFrame(data)"
   ]
  },
  {
   "cell_type": "code",
   "execution_count": null,
   "id": "ec7dd962-bdb0-4155-9823-896b522c24af",
   "metadata": {},
   "outputs": [],
   "source": []
  }
 ],
 "metadata": {
  "kernelspec": {
   "display_name": "Python 3",
   "language": "python",
   "name": "python3"
  },
  "language_info": {
   "codemirror_mode": {
    "name": "ipython",
    "version": 3
   },
   "file_extension": ".py",
   "mimetype": "text/x-python",
   "name": "python",
   "nbconvert_exporter": "python",
   "pygments_lexer": "ipython3",
   "version": "3.9.6"
  },
  "naas": {
   "notebook_id": "b8a92a0e4b6e40db304564f999566443fb35e93df716ab4be5021aabba8230ee",
   "notebook_path": "GitHub/GitHub_Add_new_issues_as_page_in_Notion_database.ipynb"
  },
  "papermill": {
   "default_parameters": {},
   "environment_variables": {},
   "parameters": {},
   "version": "2.3.4"
  }
 },
 "nbformat": 4,
 "nbformat_minor": 5
}
