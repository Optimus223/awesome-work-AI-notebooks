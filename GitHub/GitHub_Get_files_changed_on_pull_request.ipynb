{
 "cells": [
  {
   "cell_type": "markdown",
   "id": "4442eb20-2e95-4e4d-b90d-2ccf6ad4d78a",
   "metadata": {
    "papermill": {},
    "tags": []
   },
   "source": [
    "<img width=\"10%\" alt=\"Naas\" src=\"https://landen.imgix.net/jtci2pxwjczr/assets/5ice39g4.png?w=160\"/>"
   ]
  },
  {
   "cell_type": "markdown",
   "id": "f16604c8-5bce-498d-9a94-01d578cf96ba",
   "metadata": {
    "papermill": {},
    "tags": []
   },
   "source": [
    "# GitHub - Get files changed on pull request"
   ]
  },
  {
   "cell_type": "markdown",
   "id": "c7babaa8-1d36-4b49-b974-7380abd776af",
   "metadata": {
    "papermill": {},
    "tags": []
   },
   "source": [
    "**Tags:** #github #pullrequest #files #api #python #git"
   ]
  },
  {
   "cell_type": "markdown",
   "id": "f1fe7ccc-7ffb-4248-8b20-16a29d4c581c",
   "metadata": {
    "papermill": {},
    "tags": []
   },
   "source": [
    "**Author:** [Florent Ravenel](https://www.linkedin.com/in/florent-ravenel/)"
   ]
  },
  {
   "cell_type": "markdown",
   "id": "99365514-8f30-4773-aeff-244cc6509f90",
   "metadata": {
    "papermill": {},
    "tags": []
   },
   "source": [
    "**Description:** This notebook will show how to get the list of files changed on a pull request using the GitHub API."
   ]
  },
  {
   "cell_type": "markdown",
   "id": "53f735d5-dab8-440f-b3fc-343e8e168c1e",
   "metadata": {
    "papermill": {},
    "tags": []
   },
   "source": [
    "**References:**\n- [GitHub API Documentation](https://developer.github.com/v3/)\n- [GitHub Pull Request API Documentation](https://developer.github.com/v3/pulls/)"
   ]
  },
  {
   "cell_type": "markdown",
   "id": "5830fcf2-f9df-43fb-bc69-f74a79ae88ff",
   "metadata": {
    "papermill": {},
    "tags": []
   },
   "source": [
    "## Input"
   ]
  },
  {
   "cell_type": "markdown",
   "id": "1d076bb7-7a29-4390-9ae5-011f19c96a12",
   "metadata": {
    "papermill": {},
    "tags": []
   },
   "source": [
    "### Import libraries"
   ]
  },
  {
   "cell_type": "code",
   "execution_count": null,
   "id": "88bc37ba-d0da-443d-8458-d22db8d3255f",
   "metadata": {
    "papermill": {},
    "tags": []
   },
   "source": "import requests",
   "outputs": []
  },
  {
   "cell_type": "markdown",
   "id": "11357767-c7d8-4514-9bb1-99ba2ab16a80",
   "metadata": {
    "papermill": {},
    "tags": []
   },
   "source": [
    "### Setup Variables\n- `owner`: GitHub username of the repository owner\n- `repo`: Name of the repository\n- `pull_number`: Number of the pull request"
   ]
  },
  {
   "cell_type": "code",
   "execution_count": null,
   "id": "22bf9b63-7469-4459-8802-4a1d47b038a6",
   "metadata": {
    "papermill": {},
    "tags": []
   },
   "source": "owner = \"octocat\"\nrepo = \"Hello-World\"\npull_number = 1",
   "outputs": []
  },
  {
   "cell_type": "markdown",
   "id": "4f27a92d-3617-480c-a7e4-3294dc164317",
   "metadata": {
    "papermill": {},
    "tags": []
   },
   "source": [
    "## Model"
   ]
  },
  {
   "cell_type": "markdown",
   "id": "83498d79-99bb-4a34-bb67-3dcc7e2e0c76",
   "metadata": {
    "papermill": {},
    "tags": []
   },
   "source": [
    "### Get files changed on pull request"
   ]
  },
  {
   "cell_type": "markdown",
   "id": "9a684b02-b1f1-4d60-801a-5fefdadd14dc",
   "metadata": {
    "papermill": {},
    "tags": []
   },
   "source": [
    "This function will use the GitHub API to get the list of files changed on a pull request."
   ]
  },
  {
   "cell_type": "code",
   "execution_count": null,
   "id": "5df613ec-6d63-4e27-91bf-64d0b535de0b",
   "metadata": {
    "papermill": {},
    "tags": []
   },
   "source": "def get_files_changed_on_pull_request(owner, repo, pull_number):\n    url = f\"https://api.github.com/repos/{owner}/{repo}/pulls/{pull_number}/files\"\n    response = requests.get(url)\n    return response.json()",
   "outputs": []
  },
  {
   "cell_type": "markdown",
   "id": "228394cf-7dc6-4540-bfc2-2be61d66948f",
   "metadata": {
    "papermill": {},
    "tags": []
   },
   "source": [
    "## Output"
   ]
  },
  {
   "cell_type": "markdown",
   "id": "8bc72398-4f52-4bc4-b0ea-92840002d994",
   "metadata": {
    "papermill": {},
    "tags": []
   },
   "source": [
    "### Display result"
   ]
  },
  {
   "cell_type": "code",
   "execution_count": null,
   "id": "e9680af6-e21a-45e9-a826-50aca749c0a9",
   "metadata": {
    "papermill": {},
    "tags": []
   },
   "source": "files_changed = get_files_changed_on_pull_request(owner, repo, pull_number)\nfor file in files_changed:\n    print(file[\"filename\"])",
   "outputs": []
  }
 ],
 "metadata": {
  "kernelspec": {
   "display_name": "Python 3",
   "language": "python",
   "name": "python3"
  },
  "language_info": {
   "codemirror_mode": {
    "name": "ipython",
    "version": 3
   },
   "file_extension": ".py",
   "mimetype": "text/x-python",
   "name": "python",
   "nbconvert_exporter": "python",
   "pygments_lexer": "ipython3",
   "version": "3.9.6"
  },
  "widgets": {
   "application/vnd.jupyter.widget-state+json": {
    "state": {},
    "version_major": 2,
    "version_minor": 0
   }
  }
 },
 "nbformat": 4,
 "nbformat_minor": 5
}