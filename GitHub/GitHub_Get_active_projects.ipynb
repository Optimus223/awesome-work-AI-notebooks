{
 "cells": [
  {
   "cell_type": "markdown",
   "id": "23361f5c-b268-4be3-8df4-3e908fba0362",
   "metadata": {
    "papermill": {},
    "tags": []
   },
   "source": [
    "<img width=\"10%\" alt=\"Naas\" src=\"https://landen.imgix.net/jtci2pxwjczr/assets/5ice39g4.png?w=160\"/>"
   ]
  },
  {
   "cell_type": "markdown",
   "id": "54a621d7-c4e1-4d17-8ca0-97ae45c4adc9",
   "metadata": {
    "papermill": {},
    "tags": []
   },
   "source": [
    "# GitHub - Get active projects\n",
    "<a href=\"https://app.naas.ai/user-redirect/naas/downloader?url=https://raw.githubusercontent.com/jupyter-naas/awesome-notebooks/master/GitHub/GitHub_Get_active_projects.ipynb\" target=\"_parent\"><img src=\"https://naasai-public.s3.eu-west-3.amazonaws.com/open_in_naas.svg\"/></a>"
   ]
  },
  {
   "cell_type": "markdown",
   "id": "32d8de23-0420-4fa6-985e-d828d2f0fdaa",
   "metadata": {
    "papermill": {},
    "tags": []
   },
   "source": [
    "**Tags:** #github #projects #operations #snippet #dataframe"
   ]
  },
  {
   "cell_type": "markdown",
   "id": "b01f0fc5-663a-4eaf-8cdd-1eef785c1939",
   "metadata": {
    "papermill": {},
    "tags": []
   },
   "source": [
    "**Author:** [Sanjeet Attili](https://www.linkedin.com/in/sanjeet-attili-760bab190/)"
   ]
  },
  {
   "cell_type": "markdown",
   "id": "aaef6868-80bb-4eb8-b6f2-e1047aafd334",
   "metadata": {
    "papermill": {},
    "tags": []
   },
   "source": [
    "The objective of the notebook is provide a list of active projects that an organization is working on"
   ]
  },
  {
   "cell_type": "markdown",
   "id": "a7358066-b941-4bcc-bffa-7f96d8edc418",
   "metadata": {
    "papermill": {},
    "tags": []
   },
   "source": [
    "## Input"
   ]
  },
  {
   "cell_type": "markdown",
   "id": "e925bb46-c101-4878-b024-7b23da3cc190",
   "metadata": {
    "papermill": {},
    "tags": []
   },
   "source": [
    "### Imports"
   ]
  },
  {
   "cell_type": "code",
   "execution_count": 1,
   "id": "6830d861-a156-4d05-b605-d291f6375849",
   "metadata": {
    "execution": {
     "iopub.execute_input": "2022-04-03T12:50:02.884578Z",
     "iopub.status.busy": "2022-04-03T12:50:02.884287Z",
     "iopub.status.idle": "2022-04-03T12:50:03.366711Z",
     "shell.execute_reply": "2022-04-03T12:50:03.366115Z",
     "shell.execute_reply.started": "2022-04-03T12:50:02.884509Z"
    },
    "papermill": {},
    "tags": []
   },
   "outputs": [],
   "source": [
    "import requests\n",
    "import pandas as pd\n",
    "from urllib.parse import urlencode\n",
    "from datetime import datetime\n",
    "from naas_drivers import github"
   ]
  },
  {
   "cell_type": "markdown",
   "id": "96646790-46f0-49f2-906a-f28f2e2aec52",
   "metadata": {
    "papermill": {},
    "tags": []
   },
   "source": [
    "### Variables"
   ]
  },
  {
   "cell_type": "code",
   "execution_count": 2,
   "id": "c1dca9d1-e6e2-4d18-8387-35bbbda47b33",
   "metadata": {
    "execution": {
     "iopub.execute_input": "2022-04-03T12:50:27.007827Z",
     "iopub.status.busy": "2022-04-03T12:50:27.007586Z",
     "iopub.status.idle": "2022-04-03T12:50:27.010787Z",
     "shell.execute_reply": "2022-04-03T12:50:27.010101Z",
     "shell.execute_reply.started": "2022-04-03T12:50:27.007802Z"
    },
    "papermill": {},
    "tags": []
   },
   "outputs": [],
   "source": [
    "# Github project url\n",
    "PROJECT_URL = \"https://github.com/orgs/jupyter-naas/projects\"\n",
    "\n",
    "# Github token\n",
    "GITHUB_TOKEN = \"ghp_COJiJEU4cQR4rjslUjM9Duxxxxxx\""
   ]
  },
  {
   "cell_type": "markdown",
   "id": "5482b5f0-bda2-42a6-9322-e29950f046d7",
   "metadata": {
    "papermill": {},
    "tags": []
   },
   "source": [
    "## Model"
   ]
  },
  {
   "cell_type": "code",
   "execution_count": 3,
   "id": "0b21b35d-78f2-492f-ab26-1d2be4ace8c5",
   "metadata": {
    "execution": {
     "iopub.execute_input": "2022-04-03T12:51:18.836509Z",
     "iopub.status.busy": "2022-04-03T12:51:18.836270Z",
     "iopub.status.idle": "2022-04-03T12:51:19.408635Z",
     "shell.execute_reply": "2022-04-03T12:51:19.407965Z",
     "shell.execute_reply.started": "2022-04-03T12:51:18.836484Z"
    },
    "papermill": {},
    "tags": []
   },
   "outputs": [],
   "source": [
    "df_projects = github.connect(GITHUB_TOKEN).projects.get(PROJECT_URL)"
   ]
  },
  {
   "cell_type": "markdown",
   "id": "4ecd3e04-5d10-421c-b9d3-0179fd33ce10",
   "metadata": {
    "papermill": {},
    "tags": []
   },
   "source": [
    "## Output"
   ]
  },
  {
   "cell_type": "markdown",
   "id": "bd6aa46a-076e-42e7-a2c0-50404715c0cb",
   "metadata": {
    "papermill": {},
    "tags": []
   },
   "source": [
    "### Display result"
   ]
  },
  {
   "cell_type": "code",
   "execution_count": 4,
   "id": "3057324f-2312-4c47-8832-3f79a0dfa96f",
   "metadata": {
    "execution": {
     "iopub.execute_input": "2022-04-03T12:51:22.182347Z",
     "iopub.status.busy": "2022-04-03T12:51:22.182120Z",
     "iopub.status.idle": "2022-04-03T12:51:22.201904Z",
     "shell.execute_reply": "2022-04-03T12:51:22.201073Z",
     "shell.execute_reply.started": "2022-04-03T12:51:22.182324Z"
    },
    "papermill": {},
    "tags": []
   },
   "outputs": [],
   "source": [
    "df_projects.head()"
   ]
  }
 ],
 "metadata": {
  "kernelspec": {
   "display_name": "Python 3",
   "language": "python",
   "name": "python3"
  },
  "language_info": {
   "codemirror_mode": {
    "name": "ipython",
    "version": 3
   },
   "file_extension": ".py",
   "mimetype": "text/x-python",
   "name": "python",
   "nbconvert_exporter": "python",
   "pygments_lexer": "ipython3",
   "version": "3.9.6"
  },
  "naas": {
   "notebook_id": "af5372fa-4bf7-48d1-a2b8-3d72ee59bc43",
   "notebook_path": "GitHub/GitHub_Get_active_projects.ipynb"
  },
  "papermill": {
   "default_parameters": {},
   "environment_variables": {},
   "parameters": {},
   "version": "2.3.4"
  }
 },
 "nbformat": 4,
 "nbformat_minor": 5
}