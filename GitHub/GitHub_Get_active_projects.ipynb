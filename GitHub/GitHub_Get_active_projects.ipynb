{
 "cells": [
  {
   "cell_type": "markdown",
   "id": "23361f5c-b268-4be3-8df4-3e908fba0362",
   "metadata": {
    "papermill": {},
    "tags": []
   },
   "source": [
    "<img width=\"10%\" alt=\"Naas\" src=\"https://landen.imgix.net/jtci2pxwjczr/assets/5ice39g4.png?w=160\"/>"
   ]
  },
  {
   "cell_type": "markdown",
   "id": "54a621d7-c4e1-4d17-8ca0-97ae45c4adc9",
   "metadata": {
    "papermill": {},
    "tags": []
   },
   "source": [
    "# GitHub - Get active projects\n",
    "<a href=\"https://app.naas.ai/user-redirect/naas/downloader?url=https://raw.githubusercontent.com/jupyter-naas/awesome-notebooks/master/GitHub/GitHub_Get_active_projects.ipynb\" target=\"_parent\"><img src=\"https://naasai-public.s3.eu-west-3.amazonaws.com/open_in_naas.svg\"/></a>"
   ]
  },
  {
   "cell_type": "markdown",
   "id": "32d8de23-0420-4fa6-985e-d828d2f0fdaa",
   "metadata": {
    "papermill": {},
    "tags": []
   },
   "source": [
    "**Tags:** #github #projects #operations #snippet #dataframe"
   ]
  },
  {
   "cell_type": "markdown",
   "id": "b01f0fc5-663a-4eaf-8cdd-1eef785c1939",
   "metadata": {
    "papermill": {},
    "tags": []
   },
   "source": [
    "**Author:** [Sanjeet Attili](https://www.linkedin.com/in/sanjeet-attili-760bab190/)"
   ]
  },
  {
   "cell_type": "markdown",
   "id": "aaef6868-80bb-4eb8-b6f2-e1047aafd334",
   "metadata": {
    "papermill": {},
    "tags": []
   },
   "source": [
    "The objective of the notebook is provide a list of active projects that an organization is working on"
   ]
  },
  {
   "cell_type": "markdown",
   "id": "a7358066-b941-4bcc-bffa-7f96d8edc418",
   "metadata": {
    "papermill": {},
    "tags": []
   },
   "source": [
    "## Input"
   ]
  },
  {
   "cell_type": "markdown",
   "id": "e925bb46-c101-4878-b024-7b23da3cc190",
   "metadata": {
    "papermill": {},
    "tags": []
   },
   "source": [
    "### Imports"
   ]
  },
  {
   "cell_type": "code",
   "execution_count": 1,
   "id": "6830d861-a156-4d05-b605-d291f6375849",
   "metadata": {
    "execution": {
     "iopub.execute_input": "2022-02-16T13:36:45.343723Z",
     "iopub.status.busy": "2022-02-16T13:36:45.343240Z",
     "iopub.status.idle": "2022-02-16T13:36:45.768655Z",
     "shell.execute_reply": "2022-02-16T13:36:45.768034Z",
     "shell.execute_reply.started": "2022-02-16T13:36:45.343645Z"
    },
    "papermill": {},
    "tags": []
   },
   "outputs": [],
   "source": [
    "import requests\n",
    "import pandas as pd\n",
    "from urllib.parse import urlencode\n",
    "from datetime import datetime"
   ]
  },
  {
   "cell_type": "markdown",
   "id": "96646790-46f0-49f2-906a-f28f2e2aec52",
   "metadata": {
    "papermill": {},
    "tags": []
   },
   "source": [
    "### Variables"
   ]
  },
  {
   "cell_type": "code",
   "execution_count": 2,
   "id": "c1dca9d1-e6e2-4d18-8387-35bbbda47b33",
   "metadata": {
    "execution": {
     "iopub.execute_input": "2022-02-16T13:36:45.772495Z",
     "iopub.status.busy": "2022-02-16T13:36:45.772249Z",
     "iopub.status.idle": "2022-02-16T13:36:45.784792Z",
     "shell.execute_reply": "2022-02-16T13:36:45.780727Z",
     "shell.execute_reply.started": "2022-02-16T13:36:45.772467Z"
    },
    "papermill": {},
    "tags": []
   },
   "outputs": [],
   "source": [
    "# Github project url\n",
    "PROJECT_URL = \"https://github.com/orgs/jupyter-naas/projects\"\n",
    "\n",
    "# Github token\n",
    "GITHUB_TOKEN = \"ghp_COJiJEU4cQR4rjslUjM9Duxxxxxx\""
   ]
  },
  {
   "cell_type": "markdown",
   "id": "5482b5f0-bda2-42a6-9322-e29950f046d7",
   "metadata": {
    "papermill": {},
    "tags": []
   },
   "source": [
    "## Model"
   ]
  },
  {
   "cell_type": "code",
   "execution_count": 3,
   "id": "cd90e2db-08ec-4f16-b166-8e7ef0f24f6e",
   "metadata": {
    "execution": {
     "iopub.execute_input": "2022-02-16T13:36:45.787216Z",
     "iopub.status.busy": "2022-02-16T13:36:45.786987Z",
     "iopub.status.idle": "2022-02-16T13:36:46.376868Z",
     "shell.execute_reply": "2022-02-16T13:36:46.376227Z",
     "shell.execute_reply.started": "2022-02-16T13:36:45.787189Z"
    },
    "papermill": {},
    "tags": []
   },
   "outputs": [],
   "source": [
    "def get_active_project_links(token, url):\n",
    "    project_df = pd.DataFrame()\n",
    "    headers={\"Authorization\":f'token {token}'}\n",
    "    url = \"api.github.com\".join(url.split(\"github.com\"))\n",
    "    page=1\n",
    "    while True:\n",
    "        params = {\n",
    "            \"per_page\": 100,\n",
    "            'page': page\n",
    "        }\n",
    "        url_link = url+ f\"?{urlencode(params, safe='(),')}\"\n",
    "        res = requests.get(url_link, headers=headers, params=params)\n",
    "        \n",
    "        try:\n",
    "            res.raise_for_status()\n",
    "        except requests.HTTPError as e:\n",
    "            raise(e)\n",
    "        if len(res.json()) == 0:\n",
    "            break\n",
    "        res_json = res.json()\n",
    "\n",
    "        for idx, project in enumerate(res_json):\n",
    "            project_df.loc[idx, 'project_name'] = project.get('name')\n",
    "            project_df.loc[idx, 'project_description'] = project.get('body')\n",
    "            project_df.loc[idx, 'project_id'] = project.get('number')\n",
    "            project_df.loc[idx, 'project_created_by'] = project.get('creator')['login']\n",
    "            \n",
    "            project_df.loc[idx, 'project_created_date'] = project.get('created_at').strip('Z').split('T')[0]\n",
    "            project_df.loc[idx, 'project_created_time'] = project.get('created_at').strip('Z').split('T')[-1]\n",
    "            project_df.loc[idx, 'project_updated_date'] = project.get('updated_at').strip('Z').split('T')[0]\n",
    "            project_df.loc[idx, 'project_updated_time'] = project.get('updated_at').strip('Z').split('T')[-1]\n",
    "            \n",
    "            project_df.loc[idx, 'project_columns_url'] = project.get('columns_url')\n",
    "            \n",
    "        page+=1\n",
    "        \n",
    "    project_df['project_id'] = project_df.project_id.astype('int')\n",
    "    return project_df\n",
    "\n",
    "df_projects = get_active_project_links(GITHUB_TOKEN, PROJECT_URL)"
   ]
  },
  {
   "cell_type": "markdown",
   "id": "4ecd3e04-5d10-421c-b9d3-0179fd33ce10",
   "metadata": {
    "papermill": {},
    "tags": []
   },
   "source": [
    "## Output"
   ]
  },
  {
   "cell_type": "markdown",
   "id": "bd6aa46a-076e-42e7-a2c0-50404715c0cb",
   "metadata": {
    "papermill": {},
    "tags": []
   },
   "source": [
    "### Display result"
   ]
  },
  {
   "cell_type": "code",
   "execution_count": 4,
   "id": "3057324f-2312-4c47-8832-3f79a0dfa96f",
   "metadata": {
    "execution": {
     "iopub.execute_input": "2022-02-16T13:36:46.379773Z",
     "iopub.status.busy": "2022-02-16T13:36:46.379546Z",
     "iopub.status.idle": "2022-02-16T13:36:46.399183Z",
     "shell.execute_reply": "2022-02-16T13:36:46.398577Z",
     "shell.execute_reply.started": "2022-02-16T13:36:46.379749Z"
    },
    "papermill": {},
    "tags": []
   },
   "outputs": [],
   "source": [
    "df_projects.head()"
   ]
  }
 ],
 "metadata": {
  "kernelspec": {
   "display_name": "Python 3",
   "language": "python",
   "name": "python3"
  },
  "language_info": {
   "codemirror_mode": {
    "name": "ipython",
    "version": 3
   },
   "file_extension": ".py",
   "mimetype": "text/x-python",
   "name": "python",
   "nbconvert_exporter": "python",
   "pygments_lexer": "ipython3",
   "version": "3.9.6"
  },
  "naas": {
   "notebook_id": "af5372fa-4bf7-48d1-a2b8-3d72ee59bc43",
   "notebook_path": "GitHub/GitHub_Get_active_projects.ipynb"
  },
  "papermill": {
   "default_parameters": {},
   "environment_variables": {},
   "parameters": {},
   "version": "2.3.4"
  }
 },
 "nbformat": 4,
 "nbformat_minor": 5
}