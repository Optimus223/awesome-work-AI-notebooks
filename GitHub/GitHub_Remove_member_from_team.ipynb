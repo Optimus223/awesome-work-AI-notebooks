{
 "cells": [
  {
   "cell_type": "markdown",
   "id": "744cc02c-4a06-4c91-b138-bd7da023e161",
   "metadata": {
    "papermill": {},
    "tags": []
   },
   "source": [
    "<img width=\"10%\" alt=\"Naas\" src=\"https://landen.imgix.net/jtci2pxwjczr/assets/5ice39g4.png?w=160\"/>\n"
   ]
  },
  {
   "cell_type": "markdown",
   "id": "b2f2d128-1f3b-49ff-bca8-534e5b266bdf",
   "metadata": {},
   "source": [
    "# GitHub - Remove member from a team"
   ]
  },
  {
   "cell_type": "markdown",
   "id": "ea038049-0503-43e0-8adf-bac88daa4462",
   "metadata": {},
   "source": [
    "**Tags:** #github #teams #automation\n"
   ]
  },
  {
   "cell_type": "markdown",
   "id": "f8d9a9ed-9d9c-4ae9-954a-85ffbb81fcf5",
   "metadata": {},
   "source": [
    "**Author:** [Sanjeet Attili](https://linkedin.com/in/sanjeet-attili-760bab190/)\n"
   ]
  },
  {
   "cell_type": "markdown",
   "id": "c03953a9-04ed-4dd5-b46b-d826153e0128",
   "metadata": {},
   "source": [
    "## Input"
   ]
  },
  {
   "cell_type": "markdown",
   "id": "32f7b9c3-717d-4295-82e4-8ccf605577f8",
   "metadata": {},
   "source": [
    "### Import libraries"
   ]
  },
  {
   "cell_type": "code",
   "execution_count": 4,
   "id": "c0867304-68ef-4db6-899e-3d779fa2fd66",
   "metadata": {
    "execution": {
     "iopub.execute_input": "2022-05-17T08:42:40.999666Z",
     "iopub.status.busy": "2022-05-17T08:42:40.999442Z",
     "iopub.status.idle": "2022-05-17T08:42:41.363434Z",
     "shell.execute_reply": "2022-05-17T08:42:41.362900Z",
     "shell.execute_reply.started": "2022-05-17T08:42:40.999637Z"
    },
    "tags": []
   },
   "outputs": [],
   "source": [
    "import requests\n",
    "from naas_drivers import github"
   ]
  },
  {
   "cell_type": "markdown",
   "id": "b5f5279d-8773-4085-a20a-84d94e63299d",
   "metadata": {
    "papermill": {},
    "tags": []
   },
   "source": [
    "## Setup Github\n",
    "**How to find your personal access token on Github?**\n",
    "\n",
    "- First we need to create a personal access token to get the details of our organization from [here](https://github.com/settings/tokens)\n",
    "- You will be asked to select scopes for the token. Which scopes you choose will determine what information and actions you will be able to perform against the API.\n",
    "- You should be careful with the ones prefixed with write:, delete: and admin: as these might be quite destructive.\n",
    "- You can find description of each scope in docs [here](https://docs.github.com/en/developers/apps/building-oauth-apps/scopes-for-oauth-apps)."
   ]
  },
  {
   "cell_type": "code",
   "execution_count": 10,
   "id": "2d0f1dbd-ee73-43a0-b24b-40243ef48f43",
   "metadata": {
    "execution": {
     "iopub.execute_input": "2022-05-17T08:44:19.844877Z",
     "iopub.status.busy": "2022-05-17T08:44:19.844543Z",
     "iopub.status.idle": "2022-05-17T08:44:19.848619Z",
     "shell.execute_reply": "2022-05-17T08:44:19.847831Z",
     "shell.execute_reply.started": "2022-05-17T08:44:19.844839Z"
    },
    "tags": []
   },
   "outputs": [],
   "source": [
    "# GitHub token\n",
    "GITHUB_TOKEN = \"ENTER_YOUR_GITHUB_TOKEN_HERE\" # EXAMPLE : \"ghp_fUYP0Z5i29AG4ggX8owctGnHU**********\"\n",
    "\n",
    "# GitHub teams url\n",
    "GITHUB_TEAMS_URL = \"ENTER_YOUR_GITHUB_TEAMS_URL_HERE\" # EXAMPLE : \"https://github.com/orgs/jupyter-naas/teams/opensource-contributors\"\n",
    "\n",
    "# members to remove : str or list of members\n",
    "GITHUB_MEMBERS = \"ENTER_YOUR_USERS_TO_BE_DELETED_HERE\" # EXAMPLE : \"FlorentLvr\" or [\"FlorentLvr\", \"Dr0p42\"]"
   ]
  },
  {
   "cell_type": "markdown",
   "id": "a97d86cb-26d8-4984-a160-9022d8aaff03",
   "metadata": {},
   "source": [
    "## Model"
   ]
  },
  {
   "cell_type": "markdown",
   "id": "8f6d40b8-dc3c-4270-989c-27bff97da9f2",
   "metadata": {},
   "source": [
    "**Team profiles available currently (before deletion)**"
   ]
  },
  {
   "cell_type": "code",
   "execution_count": 11,
   "id": "ae5052ef-d4f4-4838-b9e0-7e511ae62161",
   "metadata": {
    "execution": {
     "iopub.execute_input": "2022-05-17T08:44:27.902304Z",
     "iopub.status.busy": "2022-05-17T08:44:27.901969Z",
     "iopub.status.idle": "2022-05-17T08:44:30.087255Z",
     "shell.execute_reply": "2022-05-17T08:44:30.086654Z",
     "shell.execute_reply.started": "2022-05-17T08:44:27.902268Z"
    },
    "tags": []
   },
   "outputs": [
    {
     "data": {
      "text/html": [
       "<div>\n",
       "<style scoped>\n",
       "    .dataframe tbody tr th:only-of-type {\n",
       "        vertical-align: middle;\n",
       "    }\n",
       "\n",
       "    .dataframe tbody tr th {\n",
       "        vertical-align: top;\n",
       "    }\n",
       "\n",
       "    .dataframe thead th {\n",
       "        text-align: right;\n",
       "    }\n",
       "</style>\n",
       "<table border=\"1\" class=\"dataframe\">\n",
       "  <thead>\n",
       "    <tr style=\"text-align: right;\">\n",
       "      <th></th>\n",
       "      <th>TEAM</th>\n",
       "      <th>SLUG</th>\n",
       "      <th>TEAM_DESCRIPTION</th>\n",
       "      <th>member_profile</th>\n",
       "      <th>GITHUB</th>\n",
       "      <th>NAME</th>\n",
       "      <th>EMAIL</th>\n",
       "      <th>LOCATION</th>\n",
       "      <th>ORGANIZATION</th>\n",
       "      <th>BIO</th>\n",
       "      <th>LOGIN_NAME</th>\n",
       "      <th>TWITTER</th>\n",
       "      <th>CREATED_AT</th>\n",
       "      <th>UPDATED_AT</th>\n",
       "    </tr>\n",
       "  </thead>\n",
       "  <tbody>\n",
       "    <tr>\n",
       "      <th>0</th>\n",
       "      <td>next_gen_coders</td>\n",
       "      <td>next_gen_coders</td>\n",
       "      <td>All cool stuff over here</td>\n",
       "      <td>https://api.github.com/users/Dr0p42</td>\n",
       "      <td>sanjeet-experiment</td>\n",
       "      <td>Maxime Jublou</td>\n",
       "      <td>maxime@jublou.fr</td>\n",
       "      <td>Pyrénées</td>\n",
       "      <td>naas.ai</td>\n",
       "      <td>PGP Key: https://keybase.io/jubloum</td>\n",
       "      <td>Dr0p42</td>\n",
       "      <td>NaN</td>\n",
       "      <td>2016-09-22T08:07:56Z</td>\n",
       "      <td>2022-04-14T04:59:18Z</td>\n",
       "    </tr>\n",
       "    <tr>\n",
       "      <th>1</th>\n",
       "      <td>next_gen_coders</td>\n",
       "      <td>next_gen_coders</td>\n",
       "      <td>All cool stuff over here</td>\n",
       "      <td>https://api.github.com/users/FlorentLvr</td>\n",
       "      <td>sanjeet-experiment</td>\n",
       "      <td>None</td>\n",
       "      <td>None</td>\n",
       "      <td>None</td>\n",
       "      <td>None</td>\n",
       "      <td>None</td>\n",
       "      <td>FlorentLvr</td>\n",
       "      <td>NaN</td>\n",
       "      <td>2019-02-26T20:34:19Z</td>\n",
       "      <td>2022-04-20T06:35:32Z</td>\n",
       "    </tr>\n",
       "    <tr>\n",
       "      <th>2</th>\n",
       "      <td>next_gen_coders</td>\n",
       "      <td>next_gen_coders</td>\n",
       "      <td>All cool stuff over here</td>\n",
       "      <td>https://api.github.com/users/SanjuEpic</td>\n",
       "      <td>sanjeet-experiment</td>\n",
       "      <td>Sanjeet Attili</td>\n",
       "      <td>None</td>\n",
       "      <td>Raipur, India</td>\n",
       "      <td>IIIT Naya Raipur</td>\n",
       "      <td>NLP Enthusiast, OSC@naas.ai</td>\n",
       "      <td>SanjuEpic</td>\n",
       "      <td>NaN</td>\n",
       "      <td>2019-11-10T09:47:56Z</td>\n",
       "      <td>2022-05-12T02:54:28Z</td>\n",
       "    </tr>\n",
       "    <tr>\n",
       "      <th>3</th>\n",
       "      <td>random1</td>\n",
       "      <td>random1</td>\n",
       "      <td>a random expt channel</td>\n",
       "      <td>https://api.github.com/users/SanjuEpic</td>\n",
       "      <td>sanjeet-experiment</td>\n",
       "      <td>Sanjeet Attili</td>\n",
       "      <td>None</td>\n",
       "      <td>Raipur, India</td>\n",
       "      <td>IIIT Naya Raipur</td>\n",
       "      <td>NLP Enthusiast, OSC@naas.ai</td>\n",
       "      <td>SanjuEpic</td>\n",
       "      <td>NaN</td>\n",
       "      <td>2019-11-10T09:47:56Z</td>\n",
       "      <td>2022-05-12T02:54:28Z</td>\n",
       "    </tr>\n",
       "  </tbody>\n",
       "</table>\n",
       "</div>"
      ],
      "text/plain": [
       "              TEAM             SLUG          TEAM_DESCRIPTION  \\\n",
       "0  next_gen_coders  next_gen_coders  All cool stuff over here   \n",
       "1  next_gen_coders  next_gen_coders  All cool stuff over here   \n",
       "2  next_gen_coders  next_gen_coders  All cool stuff over here   \n",
       "3          random1          random1     a random expt channel   \n",
       "\n",
       "                            member_profile              GITHUB  \\\n",
       "0      https://api.github.com/users/Dr0p42  sanjeet-experiment   \n",
       "1  https://api.github.com/users/FlorentLvr  sanjeet-experiment   \n",
       "2   https://api.github.com/users/SanjuEpic  sanjeet-experiment   \n",
       "3   https://api.github.com/users/SanjuEpic  sanjeet-experiment   \n",
       "\n",
       "             NAME             EMAIL       LOCATION      ORGANIZATION  \\\n",
       "0   Maxime Jublou  maxime@jublou.fr       Pyrénées          naas.ai    \n",
       "1            None              None           None              None   \n",
       "2  Sanjeet Attili              None  Raipur, India  IIIT Naya Raipur   \n",
       "3  Sanjeet Attili              None  Raipur, India  IIIT Naya Raipur   \n",
       "\n",
       "                                   BIO  LOGIN_NAME  TWITTER  \\\n",
       "0  PGP Key: https://keybase.io/jubloum      Dr0p42      NaN   \n",
       "1                                 None  FlorentLvr      NaN   \n",
       "2          NLP Enthusiast, OSC@naas.ai   SanjuEpic      NaN   \n",
       "3          NLP Enthusiast, OSC@naas.ai   SanjuEpic      NaN   \n",
       "\n",
       "             CREATED_AT            UPDATED_AT  \n",
       "0  2016-09-22T08:07:56Z  2022-04-14T04:59:18Z  \n",
       "1  2019-02-26T20:34:19Z  2022-04-20T06:35:32Z  \n",
       "2  2019-11-10T09:47:56Z  2022-05-12T02:54:28Z  \n",
       "3  2019-11-10T09:47:56Z  2022-05-12T02:54:28Z  "
      ]
     },
     "execution_count": 11,
     "metadata": {},
     "output_type": "execute_result"
    }
   ],
   "source": [
    "df_teams = github.connect(GITHUB_TOKEN).teams.get_profiles(GITHUB_TEAMS_URL)\n",
    "df_teams.head()"
   ]
  },
  {
   "cell_type": "code",
   "execution_count": 13,
   "id": "79550523-673a-439f-ae19-169374f91a3b",
   "metadata": {
    "execution": {
     "iopub.execute_input": "2022-05-17T08:45:08.895487Z",
     "iopub.status.busy": "2022-05-17T08:45:08.895261Z",
     "iopub.status.idle": "2022-05-17T08:45:11.112789Z",
     "shell.execute_reply": "2022-05-17T08:45:11.112048Z",
     "shell.execute_reply.started": "2022-05-17T08:45:08.895464Z"
    },
    "tags": []
   },
   "outputs": [
    {
     "name": "stdout",
     "output_type": "stream",
     "text": [
      "✅ Member FlorentLvr successfully removed from your team next_gen_coders\n",
      "✅ Member Dr0p42 successfully removed from your team next_gen_coders\n"
     ]
    }
   ],
   "source": [
    "def remove_members(team_url, members):\n",
    "    \n",
    "    # Get org id and team id\n",
    "    team_id = team_url.split(\"/teams/\")[-1].split(\"/\")[0]\n",
    "    team_org = team_url.split(\"https://github.com/orgs/\")[-1].split(\"/\")[0]\n",
    "    \n",
    "    # Headers\n",
    "    headers = {'Authorization': f'token {GITHUB_TOKEN}',\n",
    "                   \"Accept\": \"application/vnd.github.v3+json\"}\n",
    "    \n",
    "    if isinstance(members, str):\n",
    "        members = [members]\n",
    "    \n",
    "    # Remove members from team\n",
    "    for member in members:\n",
    "        member = member.split(\"https://github.com/\")[-1].split(\"/\")[0]\n",
    "        req_url = f\"https://api.github.com/orgs/{team_org}/teams/{team_id}/memberships/{member}\"\n",
    "        res = requests.delete(req_url, headers=headers)\n",
    "        res.raise_for_status()\n",
    "        \n",
    "        if res.status_code == 204:\n",
    "            print(f'✅ Member {member} successfully removed from your team {team_id}')\n",
    "    \n",
    "\n",
    "remove_members(GITHUB_TEAMS_URL, GITHUB_MEMBERS)"
   ]
  },
  {
   "cell_type": "markdown",
   "id": "7f0ecd64-ac8a-4d73-a6b5-004e0c2d75a1",
   "metadata": {},
   "source": [
    "## Output"
   ]
  },
  {
   "cell_type": "markdown",
   "id": "448b0dcf-b135-47a6-bb06-5b0de2bdba36",
   "metadata": {},
   "source": [
    "**Now let us see the updated list of profiles corresponding to the teams (after deletion)**"
   ]
  },
  {
   "cell_type": "code",
   "execution_count": 14,
   "id": "3c7add0b-4b63-41c8-94cb-1b585a38249c",
   "metadata": {
    "execution": {
     "iopub.execute_input": "2022-05-17T08:45:15.588291Z",
     "iopub.status.busy": "2022-05-17T08:45:15.588061Z",
     "iopub.status.idle": "2022-05-17T08:45:17.386497Z",
     "shell.execute_reply": "2022-05-17T08:45:17.385938Z",
     "shell.execute_reply.started": "2022-05-17T08:45:15.588269Z"
    },
    "tags": []
   },
   "outputs": [
    {
     "data": {
      "text/html": [
       "<div>\n",
       "<style scoped>\n",
       "    .dataframe tbody tr th:only-of-type {\n",
       "        vertical-align: middle;\n",
       "    }\n",
       "\n",
       "    .dataframe tbody tr th {\n",
       "        vertical-align: top;\n",
       "    }\n",
       "\n",
       "    .dataframe thead th {\n",
       "        text-align: right;\n",
       "    }\n",
       "</style>\n",
       "<table border=\"1\" class=\"dataframe\">\n",
       "  <thead>\n",
       "    <tr style=\"text-align: right;\">\n",
       "      <th></th>\n",
       "      <th>TEAM</th>\n",
       "      <th>SLUG</th>\n",
       "      <th>TEAM_DESCRIPTION</th>\n",
       "      <th>member_profile</th>\n",
       "      <th>GITHUB</th>\n",
       "      <th>NAME</th>\n",
       "      <th>EMAIL</th>\n",
       "      <th>LOCATION</th>\n",
       "      <th>ORGANIZATION</th>\n",
       "      <th>BIO</th>\n",
       "      <th>LOGIN_NAME</th>\n",
       "      <th>TWITTER</th>\n",
       "      <th>CREATED_AT</th>\n",
       "      <th>UPDATED_AT</th>\n",
       "    </tr>\n",
       "  </thead>\n",
       "  <tbody>\n",
       "    <tr>\n",
       "      <th>0</th>\n",
       "      <td>next_gen_coders</td>\n",
       "      <td>next_gen_coders</td>\n",
       "      <td>All cool stuff over here</td>\n",
       "      <td>https://api.github.com/users/SanjuEpic</td>\n",
       "      <td>sanjeet-experiment</td>\n",
       "      <td>Sanjeet Attili</td>\n",
       "      <td>NaN</td>\n",
       "      <td>Raipur, India</td>\n",
       "      <td>IIIT Naya Raipur</td>\n",
       "      <td>NLP Enthusiast, OSC@naas.ai</td>\n",
       "      <td>SanjuEpic</td>\n",
       "      <td>NaN</td>\n",
       "      <td>2019-11-10T09:47:56Z</td>\n",
       "      <td>2022-05-12T02:54:28Z</td>\n",
       "    </tr>\n",
       "    <tr>\n",
       "      <th>1</th>\n",
       "      <td>random1</td>\n",
       "      <td>random1</td>\n",
       "      <td>a random expt channel</td>\n",
       "      <td>https://api.github.com/users/SanjuEpic</td>\n",
       "      <td>sanjeet-experiment</td>\n",
       "      <td>Sanjeet Attili</td>\n",
       "      <td>NaN</td>\n",
       "      <td>Raipur, India</td>\n",
       "      <td>IIIT Naya Raipur</td>\n",
       "      <td>NLP Enthusiast, OSC@naas.ai</td>\n",
       "      <td>SanjuEpic</td>\n",
       "      <td>NaN</td>\n",
       "      <td>2019-11-10T09:47:56Z</td>\n",
       "      <td>2022-05-12T02:54:28Z</td>\n",
       "    </tr>\n",
       "  </tbody>\n",
       "</table>\n",
       "</div>"
      ],
      "text/plain": [
       "              TEAM             SLUG          TEAM_DESCRIPTION  \\\n",
       "0  next_gen_coders  next_gen_coders  All cool stuff over here   \n",
       "1          random1          random1     a random expt channel   \n",
       "\n",
       "                           member_profile              GITHUB            NAME  \\\n",
       "0  https://api.github.com/users/SanjuEpic  sanjeet-experiment  Sanjeet Attili   \n",
       "1  https://api.github.com/users/SanjuEpic  sanjeet-experiment  Sanjeet Attili   \n",
       "\n",
       "   EMAIL       LOCATION      ORGANIZATION                          BIO  \\\n",
       "0    NaN  Raipur, India  IIIT Naya Raipur  NLP Enthusiast, OSC@naas.ai   \n",
       "1    NaN  Raipur, India  IIIT Naya Raipur  NLP Enthusiast, OSC@naas.ai   \n",
       "\n",
       "  LOGIN_NAME  TWITTER            CREATED_AT            UPDATED_AT  \n",
       "0  SanjuEpic      NaN  2019-11-10T09:47:56Z  2022-05-12T02:54:28Z  \n",
       "1  SanjuEpic      NaN  2019-11-10T09:47:56Z  2022-05-12T02:54:28Z  "
      ]
     },
     "execution_count": 14,
     "metadata": {},
     "output_type": "execute_result"
    }
   ],
   "source": [
    "df_teams = github.connect(GITHUB_TOKEN).teams.get_profiles(GITHUB_TEAMS_URL)\n",
    "df_teams.head()"
   ]
  },
  {
   "cell_type": "markdown",
   "id": "8fea1605-85aa-4f23-8816-efa0e85112fd",
   "metadata": {},
   "source": [
    "The members are finally removed from the github teams :) !!"
   ]
  }
 ],
 "metadata": {
  "kernelspec": {
   "display_name": "Python 3",
   "language": "python",
   "name": "python3"
  },
  "language_info": {
   "codemirror_mode": {
    "name": "ipython",
    "version": 3
   },
   "file_extension": ".py",
   "mimetype": "text/x-python",
   "name": "python",
   "nbconvert_exporter": "python",
   "pygments_lexer": "ipython3",
   "version": "3.9.6"
  }
 },
 "nbformat": 4,
 "nbformat_minor": 5
}
