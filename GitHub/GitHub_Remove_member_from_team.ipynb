{
 "cells": [
  {
   "cell_type": "markdown",
   "id": "744cc02c-4a06-4c91-b138-bd7da023e161",
   "metadata": {
    "papermill": {},
    "tags": []
   },
   "source": [
    "<img width=\"10%\" alt=\"Naas\" src=\"https://landen.imgix.net/jtci2pxwjczr/assets/5ice39g4.png?w=160\"/>\n"
   ]
  },
  {
   "cell_type": "markdown",
   "id": "b2f2d128-1f3b-49ff-bca8-534e5b266bdf",
   "metadata": {},
   "source": [
    "# GitHub - Remove member from a team"
   ]
  },
  {
   "cell_type": "markdown",
   "id": "ea038049-0503-43e0-8adf-bac88daa4462",
   "metadata": {},
   "source": [
    "**Tags:** #github #teams #automation\n"
   ]
  },
  {
   "cell_type": "markdown",
   "id": "f8d9a9ed-9d9c-4ae9-954a-85ffbb81fcf5",
   "metadata": {},
   "source": [
    "**Author:** [Sanjeet Attili](https://linkedin.com/in/sanjeet-attili-760bab190/)\n"
   ]
  },
  {
   "cell_type": "markdown",
   "id": "c03953a9-04ed-4dd5-b46b-d826153e0128",
   "metadata": {},
   "source": [
    "## Input"
   ]
  },
  {
   "cell_type": "markdown",
   "id": "32f7b9c3-717d-4295-82e4-8ccf605577f8",
   "metadata": {},
   "source": [
    "### Import libraries"
   ]
  },
  {
   "cell_type": "code",
   "execution_count": 1,
   "id": "c0867304-68ef-4db6-899e-3d779fa2fd66",
   "metadata": {
    "execution": {
     "iopub.execute_input": "2022-05-07T11:57:41.089239Z",
     "iopub.status.busy": "2022-05-07T11:57:41.088961Z",
     "iopub.status.idle": "2022-05-07T11:57:41.504006Z",
     "shell.execute_reply": "2022-05-07T11:57:41.503456Z",
     "shell.execute_reply.started": "2022-05-07T11:57:41.089171Z"
    },
    "tags": []
   },
   "outputs": [],
   "source": [
    "import requests\n",
    "from naas_drivers import github"
   ]
  },
  {
   "cell_type": "markdown",
   "id": "b5f5279d-8773-4085-a20a-84d94e63299d",
   "metadata": {
    "papermill": {},
    "tags": []
   },
   "source": [
    "## Setup Github\n",
    "**How to find your personal access token on Github?**\n",
    "\n",
    "- First we need to create a personal access token to get the details of our organization from here: https://github.com/settings/tokens\n",
    "- You will be asked to select scopes for the token. Which scopes you choose will determine what information and actions you will be able to perform against the API.\n",
    "- You should be careful with the ones prefixed with write:, delete: and admin: as these might be quite destructive.\n",
    "- You can find description of each scope in docs here (https://docs.github.com/en/developers/apps/building-oauth-apps/scopes-for-oauth-apps)."
   ]
  },
  {
   "cell_type": "code",
   "execution_count": 2,
   "id": "0a719d3a-7db9-4875-a41a-2154036247a3",
   "metadata": {
    "execution": {
     "iopub.execute_input": "2022-05-07T11:58:19.980284Z",
     "iopub.status.busy": "2022-05-07T11:58:19.980044Z",
     "iopub.status.idle": "2022-05-07T11:58:19.983193Z",
     "shell.execute_reply": "2022-05-07T11:58:19.982534Z",
     "shell.execute_reply.started": "2022-05-07T11:58:19.980262Z"
    },
    "papermill": {},
    "tags": []
   },
   "outputs": [],
   "source": [
    "# Github teams url\n",
    "TEAMS_URL = \"https://github.com/orgs/sanjeet-experiment/teams/next_gen_coders\"\n",
    "\n",
    "# Github token\n",
    "GITHUB_TOKEN = \"ghp_fUYP0Z5i29AG4ggX8owctGnHU**********\""
   ]
  },
  {
   "cell_type": "code",
   "execution_count": 3,
   "id": "f6292eb5-304b-442b-a704-32fedbc01c1f",
   "metadata": {
    "execution": {
     "iopub.execute_input": "2022-05-07T11:58:22.215986Z",
     "iopub.status.busy": "2022-05-07T11:58:22.215626Z",
     "iopub.status.idle": "2022-05-07T11:58:22.220829Z",
     "shell.execute_reply": "2022-05-07T11:58:22.220076Z",
     "shell.execute_reply.started": "2022-05-07T11:58:22.215891Z"
    },
    "tags": []
   },
   "outputs": [],
   "source": [
    "# Format of url = \"https://api.github.com/orgs/sanjeet-experiment/members\"\n",
    "ORG_MEMBERS_URL = \"api.github.com\".join(TEAMS_URL.split('/teams/')[0].split('github.com'))+ '/members'\n",
    "\n",
    "team_name = TEAMS_URL.split('/teams/')[-1]\n",
    "\n",
    "headers = github.connect(GITHUB_TOKEN).headers"
   ]
  },
  {
   "cell_type": "markdown",
   "id": "a97d86cb-26d8-4984-a160-9022d8aaff03",
   "metadata": {},
   "source": [
    "## Model"
   ]
  },
  {
   "cell_type": "markdown",
   "id": "8f6d40b8-dc3c-4270-989c-27bff97da9f2",
   "metadata": {},
   "source": [
    "**Team profiles available currently**"
   ]
  },
  {
   "cell_type": "code",
   "execution_count": 4,
   "id": "ae5052ef-d4f4-4838-b9e0-7e511ae62161",
   "metadata": {
    "execution": {
     "iopub.execute_input": "2022-05-07T11:58:24.344037Z",
     "iopub.status.busy": "2022-05-07T11:58:24.343796Z",
     "iopub.status.idle": "2022-05-07T11:58:26.583953Z",
     "shell.execute_reply": "2022-05-07T11:58:26.583355Z",
     "shell.execute_reply.started": "2022-05-07T11:58:24.344014Z"
    },
    "tags": []
   },
   "outputs": [
    {
     "data": {
      "text/html": [
       "<div>\n",
       "<style scoped>\n",
       "    .dataframe tbody tr th:only-of-type {\n",
       "        vertical-align: middle;\n",
       "    }\n",
       "\n",
       "    .dataframe tbody tr th {\n",
       "        vertical-align: top;\n",
       "    }\n",
       "\n",
       "    .dataframe thead th {\n",
       "        text-align: right;\n",
       "    }\n",
       "</style>\n",
       "<table border=\"1\" class=\"dataframe\">\n",
       "  <thead>\n",
       "    <tr style=\"text-align: right;\">\n",
       "      <th></th>\n",
       "      <th>TEAM</th>\n",
       "      <th>SLUG</th>\n",
       "      <th>TEAM_DESCRIPTION</th>\n",
       "      <th>member_profile</th>\n",
       "      <th>GITHUB</th>\n",
       "      <th>NAME</th>\n",
       "      <th>EMAIL</th>\n",
       "      <th>LOCATION</th>\n",
       "      <th>ORGANIZATION</th>\n",
       "      <th>BIO</th>\n",
       "      <th>LOGIN_NAME</th>\n",
       "      <th>TWITTER</th>\n",
       "      <th>CREATED_AT</th>\n",
       "      <th>UPDATED_AT</th>\n",
       "    </tr>\n",
       "  </thead>\n",
       "  <tbody>\n",
       "    <tr>\n",
       "      <th>0</th>\n",
       "      <td>next_gen_coders</td>\n",
       "      <td>next_gen_coders</td>\n",
       "      <td>All cool stuff over here</td>\n",
       "      <td>https://api.github.com/users/Dr0p42</td>\n",
       "      <td>sanjeet-experiment</td>\n",
       "      <td>Maxime Jublou</td>\n",
       "      <td>maxime@jublou.fr</td>\n",
       "      <td>Pyrénées</td>\n",
       "      <td>naas.ai</td>\n",
       "      <td>PGP Key: https://keybase.io/jubloum</td>\n",
       "      <td>Dr0p42</td>\n",
       "      <td>NaN</td>\n",
       "      <td>2016-09-22T08:07:56Z</td>\n",
       "      <td>2022-04-14T04:59:18Z</td>\n",
       "    </tr>\n",
       "    <tr>\n",
       "      <th>1</th>\n",
       "      <td>next_gen_coders</td>\n",
       "      <td>next_gen_coders</td>\n",
       "      <td>All cool stuff over here</td>\n",
       "      <td>https://api.github.com/users/FlorentLvr</td>\n",
       "      <td>sanjeet-experiment</td>\n",
       "      <td>None</td>\n",
       "      <td>None</td>\n",
       "      <td>None</td>\n",
       "      <td>None</td>\n",
       "      <td>None</td>\n",
       "      <td>FlorentLvr</td>\n",
       "      <td>NaN</td>\n",
       "      <td>2019-02-26T20:34:19Z</td>\n",
       "      <td>2022-04-20T06:35:32Z</td>\n",
       "    </tr>\n",
       "    <tr>\n",
       "      <th>2</th>\n",
       "      <td>next_gen_coders</td>\n",
       "      <td>next_gen_coders</td>\n",
       "      <td>All cool stuff over here</td>\n",
       "      <td>https://api.github.com/users/SanjuEpic</td>\n",
       "      <td>sanjeet-experiment</td>\n",
       "      <td>Sanjeet Attili</td>\n",
       "      <td>None</td>\n",
       "      <td>Raipur, India</td>\n",
       "      <td>IIIT Naya Raipur</td>\n",
       "      <td>NLP Enthusiast, intern@KPMG, OSC@naas.ai</td>\n",
       "      <td>SanjuEpic</td>\n",
       "      <td>NaN</td>\n",
       "      <td>2019-11-10T09:47:56Z</td>\n",
       "      <td>2022-04-03T10:13:32Z</td>\n",
       "    </tr>\n",
       "    <tr>\n",
       "      <th>3</th>\n",
       "      <td>random1</td>\n",
       "      <td>random1</td>\n",
       "      <td>a random expt channel</td>\n",
       "      <td>https://api.github.com/users/SanjuEpic</td>\n",
       "      <td>sanjeet-experiment</td>\n",
       "      <td>Sanjeet Attili</td>\n",
       "      <td>None</td>\n",
       "      <td>Raipur, India</td>\n",
       "      <td>IIIT Naya Raipur</td>\n",
       "      <td>NLP Enthusiast, intern@KPMG, OSC@naas.ai</td>\n",
       "      <td>SanjuEpic</td>\n",
       "      <td>NaN</td>\n",
       "      <td>2019-11-10T09:47:56Z</td>\n",
       "      <td>2022-04-03T10:13:32Z</td>\n",
       "    </tr>\n",
       "  </tbody>\n",
       "</table>\n",
       "</div>"
      ],
      "text/plain": [
       "              TEAM             SLUG          TEAM_DESCRIPTION  \\\n",
       "0  next_gen_coders  next_gen_coders  All cool stuff over here   \n",
       "1  next_gen_coders  next_gen_coders  All cool stuff over here   \n",
       "2  next_gen_coders  next_gen_coders  All cool stuff over here   \n",
       "3          random1          random1     a random expt channel   \n",
       "\n",
       "                            member_profile              GITHUB  \\\n",
       "0      https://api.github.com/users/Dr0p42  sanjeet-experiment   \n",
       "1  https://api.github.com/users/FlorentLvr  sanjeet-experiment   \n",
       "2   https://api.github.com/users/SanjuEpic  sanjeet-experiment   \n",
       "3   https://api.github.com/users/SanjuEpic  sanjeet-experiment   \n",
       "\n",
       "             NAME             EMAIL       LOCATION      ORGANIZATION  \\\n",
       "0   Maxime Jublou  maxime@jublou.fr       Pyrénées          naas.ai    \n",
       "1            None              None           None              None   \n",
       "2  Sanjeet Attili              None  Raipur, India  IIIT Naya Raipur   \n",
       "3  Sanjeet Attili              None  Raipur, India  IIIT Naya Raipur   \n",
       "\n",
       "                                        BIO  LOGIN_NAME  TWITTER  \\\n",
       "0       PGP Key: https://keybase.io/jubloum      Dr0p42      NaN   \n",
       "1                                      None  FlorentLvr      NaN   \n",
       "2  NLP Enthusiast, intern@KPMG, OSC@naas.ai   SanjuEpic      NaN   \n",
       "3  NLP Enthusiast, intern@KPMG, OSC@naas.ai   SanjuEpic      NaN   \n",
       "\n",
       "             CREATED_AT            UPDATED_AT  \n",
       "0  2016-09-22T08:07:56Z  2022-04-14T04:59:18Z  \n",
       "1  2019-02-26T20:34:19Z  2022-04-20T06:35:32Z  \n",
       "2  2019-11-10T09:47:56Z  2022-04-03T10:13:32Z  \n",
       "3  2019-11-10T09:47:56Z  2022-04-03T10:13:32Z  "
      ]
     },
     "execution_count": 4,
     "metadata": {},
     "output_type": "execute_result"
    }
   ],
   "source": [
    "df_teams = github.connect(GITHUB_TOKEN).teams.get_profiles(TEAMS_URL)\n",
    "df_teams.head()"
   ]
  },
  {
   "cell_type": "code",
   "execution_count": 6,
   "id": "c586f384-dca4-4d42-b54d-82ae5994668c",
   "metadata": {
    "execution": {
     "iopub.execute_input": "2022-05-07T11:58:28.976923Z",
     "iopub.status.busy": "2022-05-07T11:58:28.976688Z",
     "iopub.status.idle": "2022-05-07T11:58:28.982409Z",
     "shell.execute_reply": "2022-05-07T11:58:28.981842Z",
     "shell.execute_reply.started": "2022-05-07T11:58:28.976901Z"
    },
    "tags": []
   },
   "outputs": [],
   "source": [
    "# extracting the slug name of the team\n",
    "team_slug = df_teams[df_teams['TEAM'] == team_name]['SLUG'][0]"
   ]
  },
  {
   "cell_type": "markdown",
   "id": "33d764ec-8068-4d3b-9558-97d3bd9b5a50",
   "metadata": {},
   "source": [
    "**List organization members**"
   ]
  },
  {
   "cell_type": "code",
   "execution_count": 7,
   "id": "50a6edae-561a-4757-9841-fa7740938f2b",
   "metadata": {
    "execution": {
     "iopub.execute_input": "2022-05-07T11:58:32.049188Z",
     "iopub.status.busy": "2022-05-07T11:58:32.048915Z",
     "iopub.status.idle": "2022-05-07T11:58:32.240794Z",
     "shell.execute_reply": "2022-05-07T11:58:32.240159Z",
     "shell.execute_reply.started": "2022-05-07T11:58:32.049163Z"
    },
    "tags": []
   },
   "outputs": [
    {
     "data": {
      "text/plain": [
       "['Dr0p42', 'FlorentLvr', 'SanjuEpic']"
      ]
     },
     "execution_count": 7,
     "metadata": {},
     "output_type": "execute_result"
    }
   ],
   "source": [
    "# Getting the members github profile link to delete them from a team\n",
    "member_details = requests.get(ORG_MEMBERS_URL, headers = headers).json()\n",
    "\n",
    "github_handles = [member['login'] for member in member_details]\n",
    "github_handles"
   ]
  },
  {
   "cell_type": "markdown",
   "id": "33eab566-74a7-411c-9aa5-db1a04ddc103",
   "metadata": {},
   "source": [
    "**Adding the members into the team**"
   ]
  },
  {
   "cell_type": "code",
   "execution_count": 8,
   "id": "e85a7a36-abf3-4bb7-9837-be293a13e82d",
   "metadata": {
    "execution": {
     "iopub.execute_input": "2022-05-07T11:59:06.984163Z",
     "iopub.status.busy": "2022-05-07T11:59:06.983941Z",
     "iopub.status.idle": "2022-05-07T11:59:06.991032Z",
     "shell.execute_reply": "2022-05-07T11:59:06.990502Z",
     "shell.execute_reply.started": "2022-05-07T11:59:06.984141Z"
    },
    "tags": []
   },
   "outputs": [
    {
     "data": {
      "text/plain": [
       "'https://api.github.com/orgs/sanjeet-experiment/teams/next_gen_coders/memberships/'"
      ]
     },
     "execution_count": 8,
     "metadata": {},
     "output_type": "execute_result"
    }
   ],
   "source": [
    "# Format of url for deleting member from a team -> https://api.github.com/orgs/{org}/teams/{team_slug}/memberships/{username}\n",
    "\n",
    "URL = \"api.github.com\".join(TEAMS_URL.split('/teams/')[0].split('github.com')) +\\\n",
    "      '/teams/'+f'{team_slug}'+'/memberships/'\n",
    "URL"
   ]
  },
  {
   "cell_type": "code",
   "execution_count": 9,
   "id": "2369a8d8-b95b-431c-87a4-bf255a599017",
   "metadata": {
    "execution": {
     "iopub.execute_input": "2022-05-07T12:00:31.826722Z",
     "iopub.status.busy": "2022-05-07T12:00:31.826453Z",
     "iopub.status.idle": "2022-05-07T12:00:34.089839Z",
     "shell.execute_reply": "2022-05-07T12:00:34.089211Z",
     "shell.execute_reply.started": "2022-05-07T12:00:31.826698Z"
    },
    "tags": []
   },
   "outputs": [
    {
     "name": "stdout",
     "output_type": "stream",
     "text": [
      "Successfully deleted the member Dr0p42 from team next_gen_coders\n",
      "Successfully deleted the member FlorentLvr from team next_gen_coders\n",
      "Successfully deleted the member SanjuEpic from team next_gen_coders\n"
     ]
    }
   ],
   "source": [
    "# Removing a member from a team\n",
    "\n",
    "for handle in github_handles:\n",
    "    r = requests.delete(url = URL+handle,\n",
    "                     headers = headers)\n",
    "    if r.status_code == 204:\n",
    "        print(f'Successfully deleted the member {handle} from team {team_slug}')\n",
    "    \n",
    "    else:\n",
    "        print(r)"
   ]
  },
  {
   "cell_type": "markdown",
   "id": "7f0ecd64-ac8a-4d73-a6b5-004e0c2d75a1",
   "metadata": {},
   "source": [
    "## Output"
   ]
  },
  {
   "cell_type": "markdown",
   "id": "448b0dcf-b135-47a6-bb06-5b0de2bdba36",
   "metadata": {},
   "source": [
    "**Now let us see the updated list of profiles corresponding to the teams**"
   ]
  },
  {
   "cell_type": "code",
   "execution_count": 10,
   "id": "3c7add0b-4b63-41c8-94cb-1b585a38249c",
   "metadata": {
    "execution": {
     "iopub.execute_input": "2022-05-07T12:00:39.052234Z",
     "iopub.status.busy": "2022-05-07T12:00:39.051997Z",
     "iopub.status.idle": "2022-05-07T12:00:40.366357Z",
     "shell.execute_reply": "2022-05-07T12:00:40.365671Z",
     "shell.execute_reply.started": "2022-05-07T12:00:39.052211Z"
    },
    "tags": []
   },
   "outputs": [
    {
     "data": {
      "text/html": [
       "<div>\n",
       "<style scoped>\n",
       "    .dataframe tbody tr th:only-of-type {\n",
       "        vertical-align: middle;\n",
       "    }\n",
       "\n",
       "    .dataframe tbody tr th {\n",
       "        vertical-align: top;\n",
       "    }\n",
       "\n",
       "    .dataframe thead th {\n",
       "        text-align: right;\n",
       "    }\n",
       "</style>\n",
       "<table border=\"1\" class=\"dataframe\">\n",
       "  <thead>\n",
       "    <tr style=\"text-align: right;\">\n",
       "      <th></th>\n",
       "      <th>TEAM</th>\n",
       "      <th>SLUG</th>\n",
       "      <th>TEAM_DESCRIPTION</th>\n",
       "      <th>member_profile</th>\n",
       "      <th>GITHUB</th>\n",
       "      <th>NAME</th>\n",
       "      <th>EMAIL</th>\n",
       "      <th>LOCATION</th>\n",
       "      <th>ORGANIZATION</th>\n",
       "      <th>BIO</th>\n",
       "      <th>LOGIN_NAME</th>\n",
       "      <th>TWITTER</th>\n",
       "      <th>CREATED_AT</th>\n",
       "      <th>UPDATED_AT</th>\n",
       "    </tr>\n",
       "  </thead>\n",
       "  <tbody>\n",
       "    <tr>\n",
       "      <th>0</th>\n",
       "      <td>random1</td>\n",
       "      <td>random1</td>\n",
       "      <td>a random expt channel</td>\n",
       "      <td>https://api.github.com/users/SanjuEpic</td>\n",
       "      <td>sanjeet-experiment</td>\n",
       "      <td>Sanjeet Attili</td>\n",
       "      <td>NaN</td>\n",
       "      <td>Raipur, India</td>\n",
       "      <td>IIIT Naya Raipur</td>\n",
       "      <td>NLP Enthusiast, intern@KPMG, OSC@naas.ai</td>\n",
       "      <td>SanjuEpic</td>\n",
       "      <td>NaN</td>\n",
       "      <td>2019-11-10T09:47:56Z</td>\n",
       "      <td>2022-04-03T10:13:32Z</td>\n",
       "    </tr>\n",
       "  </tbody>\n",
       "</table>\n",
       "</div>"
      ],
      "text/plain": [
       "      TEAM     SLUG       TEAM_DESCRIPTION  \\\n",
       "0  random1  random1  a random expt channel   \n",
       "\n",
       "                           member_profile              GITHUB            NAME  \\\n",
       "0  https://api.github.com/users/SanjuEpic  sanjeet-experiment  Sanjeet Attili   \n",
       "\n",
       "   EMAIL       LOCATION      ORGANIZATION  \\\n",
       "0    NaN  Raipur, India  IIIT Naya Raipur   \n",
       "\n",
       "                                        BIO LOGIN_NAME  TWITTER  \\\n",
       "0  NLP Enthusiast, intern@KPMG, OSC@naas.ai  SanjuEpic      NaN   \n",
       "\n",
       "             CREATED_AT            UPDATED_AT  \n",
       "0  2019-11-10T09:47:56Z  2022-04-03T10:13:32Z  "
      ]
     },
     "execution_count": 10,
     "metadata": {},
     "output_type": "execute_result"
    }
   ],
   "source": [
    "df_teams = github.connect(GITHUB_TOKEN).teams.get_profiles(TEAMS_URL)\n",
    "df_teams.head()"
   ]
  },
  {
   "cell_type": "markdown",
   "id": "8fea1605-85aa-4f23-8816-efa0e85112fd",
   "metadata": {},
   "source": [
    "The members are finally added to the github teams :) !!"
   ]
  }
 ],
 "metadata": {
  "kernelspec": {
   "display_name": "Python 3",
   "language": "python",
   "name": "python3"
  },
  "language_info": {
   "codemirror_mode": {
    "name": "ipython",
    "version": 3
   },
   "file_extension": ".py",
   "mimetype": "text/x-python",
   "name": "python",
   "nbconvert_exporter": "python",
   "pygments_lexer": "ipython3",
   "version": "3.9.6"
  }
 },
 "nbformat": 4,
 "nbformat_minor": 5
}
