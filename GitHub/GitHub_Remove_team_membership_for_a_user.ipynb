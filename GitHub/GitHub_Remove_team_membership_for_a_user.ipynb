{
 "cells": [
  {
   "cell_type": "markdown",
   "id": "725db7fb-05c0-43a5-92ef-c8d078d12250",
   "metadata": {
    "papermill": {},
    "tags": []
   },
   "source": [
    "<img width=\"10%\" alt=\"Naas\" src=\"https://landen.imgix.net/jtci2pxwjczr/assets/5ice39g4.png?w=160\"/>"
   ]
  },
  {
   "cell_type": "markdown",
   "id": "686891df-ccea-4bf1-b200-1dc45881eb1a",
   "metadata": {
    "papermill": {},
    "tags": []
   },
   "source": [
    "# GitHub - Remove team membership for a user"
   ]
  },
  {
   "cell_type": "markdown",
   "id": "4882a322-3175-4c07-a6f9-a7ba0eb1a1f0",
   "metadata": {
    "papermill": {},
    "tags": []
   },
   "source": [
    "**Tags:** #github #teams #members #remove #api #rest"
   ]
  },
  {
   "cell_type": "markdown",
   "id": "637d8e18-2e91-43c8-91b8-856d7eb0fd3a",
   "metadata": {
    "papermill": {},
    "tags": []
   },
   "source": [
    "**Author:** [Florent Ravenel](http://linkedin.com/in/florent-ravenel)"
   ]
  },
  {
   "cell_type": "markdown",
   "id": "b6d2d763-d02e-4d23-9192-a4ff3dce90a5",
   "metadata": {
    "papermill": {},
    "tags": []
   },
   "source": [
    "**Description:** This notebook explains how to remove team membership for a user using the GitHub REST API. It is usefull for organizations that need to manage their team memberships."
   ]
  },
  {
   "cell_type": "markdown",
   "id": "c22926ab-c6a8-4454-aa37-b8bca0a3aa5d",
   "metadata": {
    "papermill": {},
    "tags": []
   },
   "source": [
    "**References:**\n- [GitHub REST API Documentation](https://docs.github.com/fr/rest/teams/members?apiVersion=2022-11-28#remove-team-membership-for-a-user)\n- [GitHub API Authentication](https://docs.github.com/en/developers/apps/authorizing-oauth-apps)"
   ]
  },
  {
   "cell_type": "markdown",
   "id": "3fb4865b-3492-4f61-845a-fe16356cf7be",
   "metadata": {
    "papermill": {},
    "tags": []
   },
   "source": [
    "## Input"
   ]
  },
  {
   "cell_type": "markdown",
   "id": "17db2d2c-b7b8-49ad-bf5e-5fddc52ff949",
   "metadata": {
    "papermill": {},
    "tags": []
   },
   "source": [
    "### Import libraries"
   ]
  },
  {
   "cell_type": "code",
   "execution_count": null,
   "id": "19c2898f-60fe-4b3e-9a52-7c1142f90811",
   "metadata": {
    "papermill": {},
    "tags": []
   },
   "source": "import requests\nimport json",
   "outputs": []
  },
  {
   "cell_type": "markdown",
   "id": "12b34f85-e5da-4ac2-92c0-bb03ff56ac43",
   "metadata": {
    "papermill": {},
    "tags": []
   },
   "source": [
    "### Setup Variables\n- **team_id**: The ID of the team to remove the user from.\n- **username**: The username of the user to remove from the team.\n- **token**: [GitHub API Authentication](https://docs.github.com/en/developers/apps/authorizing-oauth-apps)"
   ]
  },
  {
   "cell_type": "code",
   "execution_count": null,
   "id": "ab3a6656-f7c7-4c1b-8246-b5036dbd15ec",
   "metadata": {
    "papermill": {},
    "tags": []
   },
   "source": "team_id = 12345\nusername = \"florentravenel\"\ntoken = \"123456789abcdefghijklmnopqrstuvwxyz\"",
   "outputs": []
  },
  {
   "cell_type": "markdown",
   "id": "97134a18-c68d-4d46-bda9-286cf40ea2a3",
   "metadata": {
    "papermill": {},
    "tags": []
   },
   "source": [
    "## Model"
   ]
  },
  {
   "cell_type": "markdown",
   "id": "0fac4dc0-173c-4a5b-b302-8f5d8300d6d9",
   "metadata": {
    "papermill": {},
    "tags": []
   },
   "source": [
    "### Remove team membership for a user"
   ]
  },
  {
   "cell_type": "markdown",
   "id": "486229cc-4935-4ecb-b686-065e9312f388",
   "metadata": {
    "papermill": {},
    "tags": []
   },
   "source": [
    "This function removes a user from a team."
   ]
  },
  {
   "cell_type": "code",
   "execution_count": null,
   "id": "af7e276a-f77c-4a85-9749-95b6195bde3d",
   "metadata": {
    "papermill": {},
    "tags": []
   },
   "source": "def remove_team_membership(team_id, username, token):\n    url = f\"https://api.github.com/teams/{team_id}/memberships/{username}\"\n    headers = {\"Authorization\": f\"token {token}\"}\n    response = requests.delete(url, headers=headers)\n    return response",
   "outputs": []
  },
  {
   "cell_type": "markdown",
   "id": "2a83a446-e11d-4b1a-a587-8bd852b719f1",
   "metadata": {
    "papermill": {},
    "tags": []
   },
   "source": [
    "## Output"
   ]
  },
  {
   "cell_type": "markdown",
   "id": "fa82a4cc-cc82-447f-90ff-df2b1254f4ed",
   "metadata": {
    "papermill": {},
    "tags": []
   },
   "source": [
    "### Display result"
   ]
  },
  {
   "cell_type": "code",
   "execution_count": null,
   "id": "9896dde1-12db-4b1d-b48e-a07cc0825542",
   "metadata": {
    "papermill": {},
    "tags": []
   },
   "source": "response = remove_team_membership(team_id, username, token)\nprint(response.status_code)\nprint(response.text)",
   "outputs": []
  }
 ],
 "metadata": {
  "kernelspec": {
   "display_name": "Python 3",
   "language": "python",
   "name": "python3"
  },
  "language_info": {
   "codemirror_mode": {
    "name": "ipython",
    "version": 3
   },
   "file_extension": ".py",
   "mimetype": "text/x-python",
   "name": "python",
   "nbconvert_exporter": "python",
   "pygments_lexer": "ipython3",
   "version": "3.9.6"
  },
  "widgets": {
   "application/vnd.jupyter.widget-state+json": {
    "state": {},
    "version_major": 2,
    "version_minor": 0
   }
  }
 },
 "nbformat": 4,
 "nbformat_minor": 5
}