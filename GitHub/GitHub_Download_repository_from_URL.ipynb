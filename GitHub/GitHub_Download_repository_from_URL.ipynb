{
 "cells": [
  {
   "cell_type": "markdown",
   "id": "a61230dc-6327-4a06-80dd-74377a33abdf",
   "metadata": {
    "papermill": {},
    "tags": []
   },
   "source": [
    "<img width=\"10%\" alt=\"Naas\" src=\"https://landen.imgix.net/jtci2pxwjczr/assets/5ice39g4.png?w=160\"/>"
   ]
  },
  {
   "cell_type": "markdown",
   "id": "96ab0035-d52a-4a9a-a69b-81305045ae98",
   "metadata": {
    "papermill": {},
    "tags": []
   },
   "source": [
    "# GitHub - Download repository from URL"
   ]
  },
  {
   "cell_type": "markdown",
   "id": "ea164626-423c-4f0c-a036-0416c357c177",
   "metadata": {
    "papermill": {},
    "tags": []
   },
   "source": [
    "**Tags:** #github #download #repository #url #api #clockify"
   ]
  },
  {
   "cell_type": "markdown",
   "id": "5ee9f194-1670-4761-93e8-e41ce3753f76",
   "metadata": {
    "papermill": {},
    "tags": []
   },
   "source": [
    "**Author:** [Florent Ravenel](http://linkedin.com/in/florent-ravenel)"
   ]
  },
  {
   "cell_type": "markdown",
   "id": "55aebec7-d8db-4ad1-8fa4-136e546ce940",
   "metadata": {
    "papermill": {},
    "tags": []
   },
   "source": [
    "**Description:** This notebook explains how to download a repository from a URL using the Clockify API."
   ]
  },
  {
   "cell_type": "markdown",
   "id": "ed4c1d04-cdb6-48c2-a4d3-90ffdcea5676",
   "metadata": {
    "papermill": {},
    "tags": []
   },
   "source": [
    "**References:**\n- [Clockify API Documentation](https://docs.clockify.me/#tag/Project/operation/getProjects)"
   ]
  },
  {
   "cell_type": "markdown",
   "id": "b8e2d836-d8bc-4979-a12a-249d25ae402f",
   "metadata": {
    "papermill": {},
    "tags": []
   },
   "source": [
    "## Input"
   ]
  },
  {
   "cell_type": "markdown",
   "id": "94d46544-00c4-4b60-a06a-d3b274e30d4c",
   "metadata": {
    "papermill": {},
    "tags": []
   },
   "source": [
    "### Import libraries"
   ]
  },
  {
   "cell_type": "code",
   "execution_count": null,
   "id": "881385e5-ead0-4538-84e7-c2fefe1fc0b1",
   "metadata": {
    "papermill": {},
    "tags": []
   },
   "source": "import requests",
   "outputs": []
  },
  {
   "cell_type": "markdown",
   "id": "1887dd61-cdeb-4e63-a2c9-4fbefea935a1",
   "metadata": {
    "papermill": {},
    "tags": []
   },
   "source": [
    "### Setup Variables\n- `url`: URL of the repository to be downloaded"
   ]
  },
  {
   "cell_type": "code",
   "execution_count": null,
   "id": "f5fcb84e-6abb-4242-a8b0-eb0101ca743e",
   "metadata": {
    "papermill": {},
    "tags": []
   },
   "source": "url = \"https://github.com/clockify/clockify-api-docs\"",
   "outputs": []
  },
  {
   "cell_type": "markdown",
   "id": "128acdfb-fb2f-4004-aa3b-b75f669ab262",
   "metadata": {
    "papermill": {},
    "tags": []
   },
   "source": [
    "## Model"
   ]
  },
  {
   "cell_type": "markdown",
   "id": "47a52092-ac98-4eb8-bdc9-4ffdd2c2dc84",
   "metadata": {
    "papermill": {},
    "tags": []
   },
   "source": [
    "### Download repository"
   ]
  },
  {
   "cell_type": "markdown",
   "id": "d4685a33-4aa8-4673-a86c-544a31af9710",
   "metadata": {
    "papermill": {},
    "tags": []
   },
   "source": [
    "This function downloads a repository from a given URL."
   ]
  },
  {
   "cell_type": "code",
   "execution_count": null,
   "id": "ff89b4fb-e56d-44c4-abc7-9ce8eae62e16",
   "metadata": {
    "papermill": {},
    "tags": []
   },
   "source": "def download_repository(url):\n    response = requests.get(url)\n    if response.status_code == 200:\n        return response.content\n    else:\n        return None",
   "outputs": []
  },
  {
   "cell_type": "markdown",
   "id": "87a0e3b6-290d-48a2-9b03-bb1e61f2bdf5",
   "metadata": {
    "papermill": {},
    "tags": []
   },
   "source": [
    "## Output"
   ]
  },
  {
   "cell_type": "markdown",
   "id": "ebdabe6d-2c7e-4b79-bbea-69fead4e61df",
   "metadata": {
    "papermill": {},
    "tags": []
   },
   "source": [
    "### Display result"
   ]
  },
  {
   "cell_type": "code",
   "execution_count": null,
   "id": "163c414b-de56-488f-91a7-d6184266548a",
   "metadata": {
    "papermill": {},
    "tags": []
   },
   "source": "repository = download_repository(url)\nprint(repository)",
   "outputs": []
  }
 ],
 "metadata": {
  "kernelspec": {
   "display_name": "Python 3",
   "language": "python",
   "name": "python3"
  },
  "language_info": {
   "codemirror_mode": {
    "name": "ipython",
    "version": 3
   },
   "file_extension": ".py",
   "mimetype": "text/x-python",
   "name": "python",
   "nbconvert_exporter": "python",
   "pygments_lexer": "ipython3",
   "version": "3.9.6"
  },
  "widgets": {
   "application/vnd.jupyter.widget-state+json": {
    "state": {},
    "version_major": 2,
    "version_minor": 0
   }
  }
 },
 "nbformat": 4,
 "nbformat_minor": 5
}