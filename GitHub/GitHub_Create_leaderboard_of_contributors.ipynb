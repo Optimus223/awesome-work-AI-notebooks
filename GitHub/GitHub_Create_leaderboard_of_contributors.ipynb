{
 "cells": [
  {
   "cell_type": "markdown",
   "id": "5f334b21-2372-4531-926a-5eef1f8e3392",
   "metadata": {
    "execution": {
     "iopub.execute_input": "2023-01-26T08:07:21.267353Z",
     "iopub.status.busy": "2023-01-26T08:07:21.267092Z",
     "iopub.status.idle": "2023-01-26T08:07:21.281180Z",
     "shell.execute_reply": "2023-01-26T08:07:21.280278Z",
     "shell.execute_reply.started": "2023-01-26T08:07:21.267289Z"
    }
   },
   "source": [
    "<img width=\"10%\" alt=\"Naas\" src=\"https://landen.imgix.net/jtci2pxwjczr/assets/5ice39g4.png?w=160\"/>"
   ]
  },
  {
   "cell_type": "markdown",
   "id": "c3994648-c20b-4e20-88a0-d3488f232043",
   "metadata": {},
   "source": [
    "# GitHub - Create leaderboard of contributors\n",
    "<a href=\"https://app.naas.ai/user-redirect/naas/downloader?url=https://raw.githubusercontent.com/jupyter-naas/awesome-notebooks/master/GitHub/GitHub_Get_commits_ranking_from_repository.ipynb\" target=\"_parent\">\n",
    "       <img src=\"https://naasai-public.s3.eu-west-3.amazonaws.com/open_in_naas.svg\"/></a><br><br><a href=\"https://github.com/jupyter-naas/awesome-notebooks/issues/new?assignees=&labels=&template=template-request.md&title=Tool+-+Action+of+the+notebook+\">Template request</a> | <a href=\"https://github.com/jupyter-naas/awesome-notebooks/issues/new?assignees=&labels=bug&template=bug_report.md&title=GitHub+-+Get+commits+ranking+from+repository:+Error+short+description\">Bug report</a>"
   ]
  },
  {
   "cell_type": "markdown",
   "id": "fe58f42b-a421-4a61-8227-2fdf6410d15d",
   "metadata": {},
   "source": [
    "**Tags:** #github #repos #commits #stats #naas_drivers #plotly #linechart #operations #analytics #dataframe #html"
   ]
  },
  {
   "cell_type": "markdown",
   "id": "71d4b05e-f205-46a0-90aa-2bd75bcfa402",
   "metadata": {},
   "source": [
    "**Author:** [Suhas B](https://www.linkedin.com/in/suhasbrao/)\n"
   ]
  },
  {
   "cell_type": "markdown",
   "id": "6720b93e-aa24-4b59-9e96-f15d64ac3436",
   "metadata": {},
   "source": [
    "## Input"
   ]
  },
  {
   "cell_type": "code",
   "execution_count": 1,
   "id": "2c71cac5-4b22-4c35-891f-54868e92d186",
   "metadata": {
    "execution": {
     "iopub.execute_input": "2023-02-01T07:12:52.597534Z",
     "iopub.status.busy": "2023-02-01T07:12:52.597152Z",
     "iopub.status.idle": "2023-02-01T07:12:55.429824Z",
     "shell.execute_reply": "2023-02-01T07:12:55.429154Z",
     "shell.execute_reply.started": "2023-02-01T07:12:52.597441Z"
    },
    "tags": []
   },
   "outputs": [],
   "source": [
    "import pandas as pd\n",
    "import plotly.express as px\n",
    "from naas_drivers import github\n",
    "import naas\n",
    "\n",
    "import requests\n",
    "from urllib.parse import urlencode"
   ]
  },
  {
   "cell_type": "markdown",
   "id": "23739f25-7db1-4411-b612-bd49afda2fb8",
   "metadata": {},
   "source": [
    "Note: Before executing the below line, please do add your GitHub token as a naas secret using the below line\n",
    "\n",
    "naas.secret.add(\"Git_Token\", <i> Put your token here</i>)"
   ]
  },
  {
   "cell_type": "code",
   "execution_count": 2,
   "id": "cab4f26b-3f77-4818-86bb-f073cac7e970",
   "metadata": {
    "execution": {
     "iopub.execute_input": "2023-02-01T07:13:57.136536Z",
     "iopub.status.busy": "2023-02-01T07:13:57.136310Z",
     "iopub.status.idle": "2023-02-01T07:13:57.294265Z",
     "shell.execute_reply": "2023-02-01T07:13:57.293686Z",
     "shell.execute_reply.started": "2023-02-01T07:13:57.136513Z"
    },
    "tags": []
   },
   "outputs": [],
   "source": [
    "# Github repository url\n",
    "REPO_URL = \"https://github.com/jupyter-naas/awesome-notebooks\"\n",
    "\n",
    "# Github token\n",
    "GITHUB_TOKEN = naas.secret.get(\"Git_Token\")"
   ]
  },
  {
   "cell_type": "code",
   "execution_count": 3,
   "id": "9e5899fa-84b6-4e59-a2e0-f0acc36c3517",
   "metadata": {
    "execution": {
     "iopub.execute_input": "2023-02-01T07:14:04.229448Z",
     "iopub.status.busy": "2023-02-01T07:14:04.229218Z",
     "iopub.status.idle": "2023-02-01T07:14:04.233880Z",
     "shell.execute_reply": "2023-02-01T07:14:04.233182Z",
     "shell.execute_reply.started": "2023-02-01T07:14:04.229424Z"
    },
    "tags": []
   },
   "outputs": [],
   "source": [
    "# write a function to get the actor for closing an issue\n",
    "def get_actor_for_closed_issue(events_url, git_obj):\n",
    "    \n",
    "    url = events_url\n",
    "    res = requests.get(url, headers=git_obj.headers)\n",
    "    try:\n",
    "        res.raise_for_status()\n",
    "    except requests.HTTPError as e:\n",
    "        raise(e)\n",
    "    \n",
    "    res_json = res.json()\n",
    "    if len(res_json) == 0:\n",
    "        return\n",
    "    \n",
    "#     print(len(res_json))\n",
    "    \n",
    "    actor = None\n",
    "    for events in res_json:\n",
    "        if events[\"event\"] == \"closed\":\n",
    "#             print(events[\"actor\"][\"login\"])\n",
    "            actor= events[\"actor\"][\"login\"]\n",
    "    \n",
    "    return actor\n",
    "# get_actor_for_closed_issue(\"https://api.github.com/repos/jupyter-naas/awesome-notebooks/issues/1392/events\")"
   ]
  },
  {
   "cell_type": "code",
   "execution_count": 91,
   "id": "7655eb4c-b56d-4319-a6ac-8980dea02190",
   "metadata": {
    "execution": {
     "iopub.execute_input": "2023-02-01T08:23:06.427941Z",
     "iopub.status.busy": "2023-02-01T08:23:06.427716Z",
     "iopub.status.idle": "2023-02-01T08:23:07.148047Z",
     "shell.execute_reply": "2023-02-01T08:23:07.147382Z",
     "shell.execute_reply.started": "2023-02-01T08:23:06.427919Z"
    },
    "tags": []
   },
   "outputs": [
    {
     "data": {
      "text/plain": [
       "92"
      ]
     },
     "execution_count": 91,
     "metadata": {},
     "output_type": "execute_result"
    }
   ],
   "source": [
    "def get_commits(df):\n",
    "    # Exclude Github commits\n",
    "    df = df[(df.COMMITTER_EMAIL.str[-10:] != \"github.com\")]\n",
    "    \n",
    "    # Groupby and count\n",
    "    df = df.groupby([\"AUTHOR_NAME\"], as_index=False).agg({\"ID\": \"count\"})\n",
    "    \n",
    "    # Cleaning\n",
    "    df = df.rename(columns={\"ID\": \"NB_COMMITS\"})\n",
    "    return df.sort_values(by=\"NB_COMMITS\", ascending=False).reset_index(drop=True)\n",
    "\n",
    "df_commits_by_user = github.connect(GITHUB_TOKEN).repos.get_commits(REPO_URL, \"Dr0p42\")\n",
    "len(df_commits_by_user)\n",
    "# df_commits_by_contributor = get_commits(df_commits)\n",
    "# df_commits_by_contributor.head()"
   ]
  },
  {
   "cell_type": "code",
   "execution_count": 4,
   "id": "12992028-00ae-4a81-b30c-5358db5be496",
   "metadata": {
    "execution": {
     "iopub.execute_input": "2023-02-01T07:15:19.679316Z",
     "iopub.status.busy": "2023-02-01T07:15:19.679090Z",
     "iopub.status.idle": "2023-02-01T07:15:19.688999Z",
     "shell.execute_reply": "2023-02-01T07:15:19.688319Z",
     "shell.execute_reply.started": "2023-02-01T07:15:19.679292Z"
    },
    "tags": []
   },
   "outputs": [],
   "source": [
    "def get_all_issues(repo_url):\n",
    "    '''\n",
    "    This function retrives all the issues of a repository and returns a \n",
    "    dataframe with the following columns:\n",
    "    \n",
    "    link_to_the_issue\n",
    "    issue_title\n",
    "    issue_number\n",
    "    issue_state\n",
    "    issue_creator\n",
    "    issue_closed_by\n",
    "    last_created_date\n",
    "    last_created_time\n",
    "    last_updated_date\n",
    "    last_updated_time\n",
    "    \n",
    "\n",
    "    Parameters\n",
    "    ----------\n",
    "    repository: str:\n",
    "        Repository url from Github.\n",
    "        Example : \"https://github.com/jupyter-naas/awesome-notebooks\"\n",
    "    '''\n",
    "    \n",
    "    git_obj = github.connect(GITHUB_TOKEN)\n",
    "    repository = git_obj.get_repository_url(repo_url)\n",
    "    df = pd.DataFrame()\n",
    "    page, idx = 1, 0\n",
    "    while True:\n",
    "        params = {\n",
    "                \"per_page\": \"100\",\n",
    "                \"page\": page,\n",
    "            }\n",
    "        \n",
    "        # Api to get open issues from github\n",
    "        url = f\"https://api.github.com/repos/{repository}/issues?state=all&{urlencode(params, safe='(),')}\"\n",
    "        res = requests.get(url, headers=git_obj.headers)\n",
    "        try:\n",
    "            res.raise_for_status()\n",
    "        except requests.HTTPError as e:\n",
    "            raise(e)\n",
    "        \n",
    "        res_json = res.json()\n",
    "        if len(res_json) == 0:\n",
    "            break\n",
    "        \n",
    "#         print(len(res_json))\n",
    "        for issue in res_json:\n",
    "            # Fetch all the issues, check node_id to see if it is an issue or PR\n",
    "            \n",
    "            if(issue[\"node_id\"].startswith(\"I_\")):\n",
    "                \n",
    "                df.loc[idx,'link_to_the_issue'], df.loc[idx, 'issue_number'] = issue['html_url'], issue['number']\n",
    "                df.loc[idx, 'issue_title'], df.loc[idx, 'issue_state'] = issue['title'], issue['state']\n",
    "   \n",
    "                df.loc[idx, \"issue_creator\"] = issue[\"user\"].get(\"login\")\n",
    "                \n",
    "                # Create a cloumn that stores the name of the person who closed the issue\n",
    "                # else if the issue is Open the column value will be None\n",
    "                df.loc[idx, \"issue_closed_by\"] = get_actor_for_closed_issue( issue[\"events_url\"], git_obj )\n",
    "                \n",
    "                df.loc[idx, 'last_created_date'] = issue.get('created_at').strip('Z').split('T')[0]\n",
    "                df.loc[idx, 'last_created_time'] = issue.get('created_at').strip('Z').split('T')[-1]\n",
    "                df.loc[idx, 'last_updated_date'] = issue.get('updated_at').strip('Z').split('T')[0]\n",
    "                df.loc[idx, 'last_updated_time'] = issue.get('updated_at').strip('Z').split('T')[-1]\n",
    "                \n",
    "                \n",
    "                idx +=1\n",
    "        page+=1\n",
    "    return df\n",
    "\n"
   ]
  },
  {
   "cell_type": "code",
   "execution_count": 8,
   "id": "04751a7f-57b6-4f4f-b915-58e35e6cb166",
   "metadata": {
    "execution": {
     "iopub.execute_input": "2023-02-01T07:18:17.108907Z",
     "iopub.status.busy": "2023-02-01T07:18:17.108647Z",
     "iopub.status.idle": "2023-02-01T07:22:35.225516Z",
     "shell.execute_reply": "2023-02-01T07:22:35.224742Z",
     "shell.execute_reply.started": "2023-02-01T07:18:17.108881Z"
    },
    "tags": []
   },
   "outputs": [
    {
     "name": "stdout",
     "output_type": "stream",
     "text": [
      "Total open Issues fetched: 827\n"
     ]
    }
   ],
   "source": [
    "df_all_issues = get_all_issues(REPO_URL)\n",
    "print(\"Total open Issues fetched:\", len(df_all_issues))"
   ]
  },
  {
   "cell_type": "code",
   "execution_count": 9,
   "id": "ddf7e829-0c0f-4b58-9fa4-92c485f20258",
   "metadata": {
    "execution": {
     "iopub.execute_input": "2023-02-01T07:22:41.908869Z",
     "iopub.status.busy": "2023-02-01T07:22:41.908608Z",
     "iopub.status.idle": "2023-02-01T07:22:41.925638Z",
     "shell.execute_reply": "2023-02-01T07:22:41.924957Z",
     "shell.execute_reply.started": "2023-02-01T07:22:41.908808Z"
    },
    "tags": []
   },
   "outputs": [
    {
     "data": {
      "text/html": [
       "<div>\n",
       "<style scoped>\n",
       "    .dataframe tbody tr th:only-of-type {\n",
       "        vertical-align: middle;\n",
       "    }\n",
       "\n",
       "    .dataframe tbody tr th {\n",
       "        vertical-align: top;\n",
       "    }\n",
       "\n",
       "    .dataframe thead th {\n",
       "        text-align: right;\n",
       "    }\n",
       "</style>\n",
       "<table border=\"1\" class=\"dataframe\">\n",
       "  <thead>\n",
       "    <tr style=\"text-align: right;\">\n",
       "      <th></th>\n",
       "      <th>link_to_the_issue</th>\n",
       "      <th>issue_number</th>\n",
       "      <th>issue_title</th>\n",
       "      <th>issue_state</th>\n",
       "      <th>issue_creator</th>\n",
       "      <th>issue_closed_by</th>\n",
       "      <th>last_created_date</th>\n",
       "      <th>last_created_time</th>\n",
       "      <th>last_updated_date</th>\n",
       "      <th>last_updated_time</th>\n",
       "    </tr>\n",
       "  </thead>\n",
       "  <tbody>\n",
       "    <tr>\n",
       "      <th>0</th>\n",
       "      <td>https://github.com/jupyter-naas/awesome-notebo...</td>\n",
       "      <td>1394.0</td>\n",
       "      <td>Azure - Download files in blob storage</td>\n",
       "      <td>open</td>\n",
       "      <td>FlorentLvr</td>\n",
       "      <td>NaN</td>\n",
       "      <td>2023-01-31</td>\n",
       "      <td>15:29:14</td>\n",
       "      <td>2023-01-31</td>\n",
       "      <td>15:30:32</td>\n",
       "    </tr>\n",
       "    <tr>\n",
       "      <th>1</th>\n",
       "      <td>https://github.com/jupyter-naas/awesome-notebo...</td>\n",
       "      <td>1392.0</td>\n",
       "      <td>Azure - Upload files in blob storage</td>\n",
       "      <td>open</td>\n",
       "      <td>FlorentLvr</td>\n",
       "      <td>NaN</td>\n",
       "      <td>2023-01-31</td>\n",
       "      <td>10:47:27</td>\n",
       "      <td>2023-01-31</td>\n",
       "      <td>10:49:00</td>\n",
       "    </tr>\n",
       "    <tr>\n",
       "      <th>2</th>\n",
       "      <td>https://github.com/jupyter-naas/awesome-notebo...</td>\n",
       "      <td>1391.0</td>\n",
       "      <td>LinkedIn - Get profile information: Error shor...</td>\n",
       "      <td>open</td>\n",
       "      <td>JJayasri</td>\n",
       "      <td>NaN</td>\n",
       "      <td>2023-01-31</td>\n",
       "      <td>09:20:41</td>\n",
       "      <td>2023-01-31</td>\n",
       "      <td>09:20:41</td>\n",
       "    </tr>\n",
       "    <tr>\n",
       "      <th>3</th>\n",
       "      <td>https://github.com/jupyter-naas/awesome-notebo...</td>\n",
       "      <td>1389.0</td>\n",
       "      <td>FEC - Display Balance Sheet with Treemap</td>\n",
       "      <td>closed</td>\n",
       "      <td>FlorentLvr</td>\n",
       "      <td>FlorentLvr</td>\n",
       "      <td>2023-01-30</td>\n",
       "      <td>16:20:26</td>\n",
       "      <td>2023-01-31</td>\n",
       "      <td>09:59:19</td>\n",
       "    </tr>\n",
       "    <tr>\n",
       "      <th>4</th>\n",
       "      <td>https://github.com/jupyter-naas/awesome-notebo...</td>\n",
       "      <td>1388.0</td>\n",
       "      <td>Plotly - Create Treemap</td>\n",
       "      <td>closed</td>\n",
       "      <td>FlorentLvr</td>\n",
       "      <td>FlorentLvr</td>\n",
       "      <td>2023-01-30</td>\n",
       "      <td>16:18:33</td>\n",
       "      <td>2023-01-31</td>\n",
       "      <td>15:18:54</td>\n",
       "    </tr>\n",
       "  </tbody>\n",
       "</table>\n",
       "</div>"
      ],
      "text/plain": [
       "                                   link_to_the_issue  issue_number  \\\n",
       "0  https://github.com/jupyter-naas/awesome-notebo...        1394.0   \n",
       "1  https://github.com/jupyter-naas/awesome-notebo...        1392.0   \n",
       "2  https://github.com/jupyter-naas/awesome-notebo...        1391.0   \n",
       "3  https://github.com/jupyter-naas/awesome-notebo...        1389.0   \n",
       "4  https://github.com/jupyter-naas/awesome-notebo...        1388.0   \n",
       "\n",
       "                                         issue_title issue_state  \\\n",
       "0             Azure - Download files in blob storage        open   \n",
       "1               Azure - Upload files in blob storage        open   \n",
       "2  LinkedIn - Get profile information: Error shor...        open   \n",
       "3           FEC - Display Balance Sheet with Treemap      closed   \n",
       "4                            Plotly - Create Treemap      closed   \n",
       "\n",
       "  issue_creator issue_closed_by last_created_date last_created_time  \\\n",
       "0    FlorentLvr             NaN        2023-01-31          15:29:14   \n",
       "1    FlorentLvr             NaN        2023-01-31          10:47:27   \n",
       "2      JJayasri             NaN        2023-01-31          09:20:41   \n",
       "3    FlorentLvr      FlorentLvr        2023-01-30          16:20:26   \n",
       "4    FlorentLvr      FlorentLvr        2023-01-30          16:18:33   \n",
       "\n",
       "  last_updated_date last_updated_time  \n",
       "0        2023-01-31          15:30:32  \n",
       "1        2023-01-31          10:49:00  \n",
       "2        2023-01-31          09:20:41  \n",
       "3        2023-01-31          09:59:19  \n",
       "4        2023-01-31          15:18:54  "
      ]
     },
     "execution_count": 9,
     "metadata": {},
     "output_type": "execute_result"
    }
   ],
   "source": [
    "df_all_issues.head()"
   ]
  },
  {
   "cell_type": "code",
   "execution_count": 109,
   "id": "2f44a5e6-0968-42ea-90ce-0e80bf0b90e8",
   "metadata": {
    "execution": {
     "iopub.execute_input": "2023-02-01T09:14:25.253242Z",
     "iopub.status.busy": "2023-02-01T09:14:25.253012Z",
     "iopub.status.idle": "2023-02-01T09:14:25.258613Z",
     "shell.execute_reply": "2023-02-01T09:14:25.257968Z",
     "shell.execute_reply.started": "2023-02-01T09:14:25.253219Z"
    },
    "tags": []
   },
   "outputs": [],
   "source": [
    "def get_issue_comments(repo_url):\n",
    "    git_obj = github.connect(GITHUB_TOKEN)\n",
    "    repository = git_obj.get_repository_url(repo_url)\n",
    "    df = pd.DataFrame()\n",
    "    page, idx = 1, 0\n",
    "    while True:\n",
    "        params = {\n",
    "                \"per_page\": \"100\",\n",
    "                \"page\": page,\n",
    "            }\n",
    "        \n",
    "        # Api to get open issues from github\n",
    "       \n",
    "        url = f\"https://api.github.com/repos/{repository}/issues/comments?{urlencode(params, safe='(),')}\"\n",
    "        res = requests.get(url, headers=git_obj.headers)\n",
    "        try:\n",
    "            res.raise_for_status()\n",
    "        except requests.HTTPError as e:\n",
    "            raise(e)\n",
    "        \n",
    "        res_json = res.json()\n",
    "        if len(res_json) == 0:\n",
    "            break\n",
    "        \n",
    "#         print(len(res_json))\n",
    "        for issue_comment in res_json:\n",
    "            df.loc[idx, \"comment_id\"] = issue_comment[\"id\"]\n",
    "            df.loc[idx, \"issue_url\"] = issue_comment[\"issue_url\"]\n",
    "            df.loc[idx, \"comment_by\"] = issue_comment[\"user\"][\"login\"]\n",
    "            df.loc[idx, \"comment_body\"] = issue_comment[\"body\"]\n",
    "            \n",
    "            idx +=1\n",
    "        page += 1\n",
    "        \n",
    "    return df"
   ]
  },
  {
   "cell_type": "code",
   "execution_count": 110,
   "id": "e3bdf2e4-ad77-4cfd-824f-aa91aec5bd33",
   "metadata": {
    "execution": {
     "iopub.execute_input": "2023-02-01T09:14:26.203234Z",
     "iopub.status.busy": "2023-02-01T09:14:26.203017Z",
     "iopub.status.idle": "2023-02-01T09:14:42.072725Z",
     "shell.execute_reply": "2023-02-01T09:14:42.071995Z",
     "shell.execute_reply.started": "2023-02-01T09:14:26.203212Z"
    },
    "tags": []
   },
   "outputs": [],
   "source": [
    "df_all_comments = get_issue_comments(REPO_URL)\n",
    "df_all_comments.head()"
   ]
  },
  {
   "cell_type": "code",
   "execution_count": 113,
   "id": "24ee4515-c985-4b5a-b207-d06d7c9f1fb1",
   "metadata": {
    "execution": {
     "iopub.execute_input": "2023-02-01T09:16:46.943586Z",
     "iopub.status.busy": "2023-02-01T09:16:46.943356Z",
     "iopub.status.idle": "2023-02-01T09:16:46.950674Z",
     "shell.execute_reply": "2023-02-01T09:16:46.949897Z",
     "shell.execute_reply.started": "2023-02-01T09:16:46.943561Z"
    },
    "tags": []
   },
   "outputs": [],
   "source": [
    "def get_contributors_details(repo_url):\n",
    "    git_obj = github.connect(GITHUB_TOKEN)\n",
    "    repository = git_obj.get_repository_url(repo_url)\n",
    "    df = pd.DataFrame()\n",
    "    page, idx = 1, 0\n",
    "    while True:\n",
    "        params = {\n",
    "                \"per_page\": \"100\",\n",
    "                \"page\": page,\n",
    "            }\n",
    "        url = f\"https://api.github.com/repos/{repository}/contributors?{urlencode(params, safe='(),')}\"\n",
    "        res = requests.get(url, headers=git_obj.headers)\n",
    "        try:\n",
    "            res.raise_for_status()\n",
    "        except requests.HTTPError as e:\n",
    "            raise(e)\n",
    "        \n",
    "        res_json = res.json()\n",
    "        if len(res_json) == 0:\n",
    "            break\n",
    "        \n",
    "        for contributor in res_json:\n",
    "            df.loc[idx, \"contributor\"] = contributor[\"login\"]\n",
    "            # create a column to store number of issues created by a contributor\n",
    "            df.loc[idx, \"issues_created\"] = len(df_all_issues.loc[df_all_issues[\"issue_creator\"]==contributor[\"login\"]])\n",
    "            # create a column to store number of issues closed by a contributor\n",
    "            \n",
    "            df.loc[idx, \"issues_closed\"] = len(df_all_issues.loc[df_all_issues[\"issue_closed_by\"]==contributor[\"login\"]])\n",
    "            \n",
    "            # Need to get df for issue comments and PR comments\n",
    "            df.loc[idx, \"issue_pr_comments\"] = len(df_all_comments.loc[df_all_comments[\"comment_by\"] == contributor[\"login\"]])\n",
    "            \n",
    "            # add a column to store number of commits made by a contributor\n",
    "            df.loc[idx, \"commits\"] = len(git_obj.repos.get_commits(REPO_URL, contributor[\"login\"]))\n",
    "            idx +=1\n",
    "        \n",
    "        page += 1\n",
    "    \n",
    "    return df"
   ]
  },
  {
   "cell_type": "code",
   "execution_count": 114,
   "id": "0bf5f7fc-3d7e-4118-97e7-8b52fdefeee2",
   "metadata": {
    "execution": {
     "iopub.execute_input": "2023-02-01T09:16:50.214342Z",
     "iopub.status.busy": "2023-02-01T09:16:50.214062Z",
     "iopub.status.idle": "2023-02-01T09:17:36.713330Z",
     "shell.execute_reply": "2023-02-01T09:17:36.712481Z",
     "shell.execute_reply.started": "2023-02-01T09:16:50.214311Z"
    },
    "tags": []
   },
   "outputs": [],
   "source": [
    "df = get_contributors_details(REPO_URL)"
   ]
  },
  {
   "cell_type": "code",
   "execution_count": 117,
   "id": "3443a9d4-d3c7-49cb-aca5-927dd5a326f6",
   "metadata": {
    "execution": {
     "iopub.execute_input": "2023-02-01T09:19:56.333758Z",
     "iopub.status.busy": "2023-02-01T09:19:56.333503Z",
     "iopub.status.idle": "2023-02-01T09:19:56.346231Z",
     "shell.execute_reply": "2023-02-01T09:19:56.345554Z",
     "shell.execute_reply.started": "2023-02-01T09:19:56.333725Z"
    },
    "tags": []
   },
   "outputs": [
    {
     "data": {
      "text/html": [
       "<div>\n",
       "<style scoped>\n",
       "    .dataframe tbody tr th:only-of-type {\n",
       "        vertical-align: middle;\n",
       "    }\n",
       "\n",
       "    .dataframe tbody tr th {\n",
       "        vertical-align: top;\n",
       "    }\n",
       "\n",
       "    .dataframe thead th {\n",
       "        text-align: right;\n",
       "    }\n",
       "</style>\n",
       "<table border=\"1\" class=\"dataframe\">\n",
       "  <thead>\n",
       "    <tr style=\"text-align: right;\">\n",
       "      <th></th>\n",
       "      <th>contributor</th>\n",
       "      <th>issues_created</th>\n",
       "      <th>issues_closed</th>\n",
       "      <th>issue_pr_comments</th>\n",
       "      <th>commits</th>\n",
       "    </tr>\n",
       "  </thead>\n",
       "  <tbody>\n",
       "    <tr>\n",
       "      <th>0</th>\n",
       "      <td>FlorentLvr</td>\n",
       "      <td>350.0</td>\n",
       "      <td>160.0</td>\n",
       "      <td>284.0</td>\n",
       "      <td>265.0</td>\n",
       "    </tr>\n",
       "  </tbody>\n",
       "</table>\n",
       "</div>"
      ],
      "text/plain": [
       "  contributor  issues_created  issues_closed  issue_pr_comments  commits\n",
       "0  FlorentLvr           350.0          160.0              284.0    265.0"
      ]
     },
     "execution_count": 117,
     "metadata": {},
     "output_type": "execute_result"
    }
   ],
   "source": [
    "df.loc[df[\"contributor\"] == \"FlorentLvr\"]"
   ]
  },
  {
   "cell_type": "code",
   "execution_count": 6,
   "id": "845dce91-a98b-4d1f-bb2d-ea45482c2a50",
   "metadata": {
    "execution": {
     "iopub.execute_input": "2023-01-31T13:59:03.984606Z",
     "iopub.status.busy": "2023-01-31T13:59:03.984348Z",
     "iopub.status.idle": "2023-01-31T13:59:03.988765Z",
     "shell.execute_reply": "2023-01-31T13:59:03.988095Z",
     "shell.execute_reply.started": "2023-01-31T13:59:03.984581Z"
    },
    "tags": []
   },
   "outputs": [],
   "source": [
    "def get_issues_leaders(df):\n",
    "    df = df.groupby([\"issue_creator\"], as_index=False).agg({\"issue_title\":\"count\"})\n",
    "    df = df.rename(columns={\"issue_title\":\"Issues_Created\", \"issue_creator\":\"Creator\"})\n",
    "    \n",
    "    return df.sort_values(by=\"Issues_Created\", ascending=False).reset_index(drop=True)\n"
   ]
  },
  {
   "cell_type": "code",
   "execution_count": 7,
   "id": "d2fb673a-494b-4362-b7e5-d4547a8b6b9a",
   "metadata": {
    "execution": {
     "iopub.execute_input": "2023-01-31T13:59:06.332416Z",
     "iopub.status.busy": "2023-01-31T13:59:06.331299Z",
     "iopub.status.idle": "2023-01-31T13:59:06.351777Z",
     "shell.execute_reply": "2023-01-31T13:59:06.351239Z",
     "shell.execute_reply.started": "2023-01-31T13:59:06.332385Z"
    },
    "tags": []
   },
   "outputs": [
    {
     "data": {
      "text/html": [
       "<div>\n",
       "<style scoped>\n",
       "    .dataframe tbody tr th:only-of-type {\n",
       "        vertical-align: middle;\n",
       "    }\n",
       "\n",
       "    .dataframe tbody tr th {\n",
       "        vertical-align: top;\n",
       "    }\n",
       "\n",
       "    .dataframe thead th {\n",
       "        text-align: right;\n",
       "    }\n",
       "</style>\n",
       "<table border=\"1\" class=\"dataframe\">\n",
       "  <thead>\n",
       "    <tr style=\"text-align: right;\">\n",
       "      <th></th>\n",
       "      <th>Creator</th>\n",
       "      <th>Issues_Created</th>\n",
       "    </tr>\n",
       "  </thead>\n",
       "  <tbody>\n",
       "    <tr>\n",
       "      <th>0</th>\n",
       "      <td>FlorentLvr</td>\n",
       "      <td>349</td>\n",
       "    </tr>\n",
       "    <tr>\n",
       "      <th>1</th>\n",
       "      <td>Dr0p42</td>\n",
       "      <td>293</td>\n",
       "    </tr>\n",
       "    <tr>\n",
       "      <th>2</th>\n",
       "      <td>jravenel</td>\n",
       "      <td>105</td>\n",
       "    </tr>\n",
       "    <tr>\n",
       "      <th>3</th>\n",
       "      <td>Valpiquard</td>\n",
       "      <td>17</td>\n",
       "    </tr>\n",
       "    <tr>\n",
       "      <th>4</th>\n",
       "      <td>SanjuEpic</td>\n",
       "      <td>11</td>\n",
       "    </tr>\n",
       "  </tbody>\n",
       "</table>\n",
       "</div>"
      ],
      "text/plain": [
       "      Creator  Issues_Created\n",
       "0  FlorentLvr             349\n",
       "1      Dr0p42             293\n",
       "2    jravenel             105\n",
       "3  Valpiquard              17\n",
       "4   SanjuEpic              11"
      ]
     },
     "execution_count": 7,
     "metadata": {},
     "output_type": "execute_result"
    }
   ],
   "source": [
    "# df = get_commits(df_commits)\n",
    "df = get_issues_leaders(df_all_issues)\n",
    "df.head()"
   ]
  },
  {
   "cell_type": "code",
   "execution_count": 17,
   "id": "ff9797b9-7983-42ee-af21-004dbdd8392e",
   "metadata": {
    "execution": {
     "iopub.execute_input": "2023-01-31T14:04:45.050007Z",
     "iopub.status.busy": "2023-01-31T14:04:45.049744Z",
     "iopub.status.idle": "2023-01-31T14:04:45.058886Z",
     "shell.execute_reply": "2023-01-31T14:04:45.058303Z",
     "shell.execute_reply.started": "2023-01-31T14:04:45.049971Z"
    },
    "tags": []
   },
   "outputs": [
    {
     "data": {
      "text/plain": [
       "349"
      ]
     },
     "execution_count": 17,
     "metadata": {},
     "output_type": "execute_result"
    }
   ],
   "source": [
    "len(df_all_issues.loc[df_all_issues[\"issue_creator\"]==\"FlorentLvr\"])"
   ]
  },
  {
   "cell_type": "code",
   "execution_count": null,
   "id": "dc462a9e-c126-4a80-8145-fce8bf7ce632",
   "metadata": {},
   "outputs": [],
   "source": []
  }
 ],
 "metadata": {
  "kernelspec": {
   "display_name": "Python 3",
   "language": "python",
   "name": "python3"
  },
  "language_info": {
   "codemirror_mode": {
    "name": "ipython",
    "version": 3
   },
   "file_extension": ".py",
   "mimetype": "text/x-python",
   "name": "python",
   "nbconvert_exporter": "python",
   "pygments_lexer": "ipython3",
   "version": "3.9.6"
  },
  "toc-autonumbering": false,
  "toc-showcode": false,
  "toc-showmarkdowntxt": false
 },
 "nbformat": 4,
 "nbformat_minor": 5
}
