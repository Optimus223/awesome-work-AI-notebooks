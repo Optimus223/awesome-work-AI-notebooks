{
 "cells": [
  {
   "cell_type": "markdown",
   "id": "5f334b21-2372-4531-926a-5eef1f8e3392",
   "metadata": {
    "execution": {
     "iopub.execute_input": "2023-01-26T08:07:21.267353Z",
     "iopub.status.busy": "2023-01-26T08:07:21.267092Z",
     "iopub.status.idle": "2023-01-26T08:07:21.281180Z",
     "shell.execute_reply": "2023-01-26T08:07:21.280278Z",
     "shell.execute_reply.started": "2023-01-26T08:07:21.267289Z"
    }
   },
   "source": [
    "<img width=\"10%\" alt=\"Naas\" src=\"https://landen.imgix.net/jtci2pxwjczr/assets/5ice39g4.png?w=160\"/>"
   ]
  },
  {
   "cell_type": "markdown",
   "id": "c3994648-c20b-4e20-88a0-d3488f232043",
   "metadata": {},
   "source": [
    "# GitHub - Create leaderboard of contributors for a repository\n",
    "<a href=\"https://app.naas.ai/user-redirect/naas/downloader?url=https://raw.githubusercontent.com/jupyter-naas/awesome-notebooks/master/GitHub/GitHub_Get_commits_ranking_from_repository.ipynb\" target=\"_parent\">\n",
    "       <img src=\"https://naasai-public.s3.eu-west-3.amazonaws.com/open_in_naas.svg\"/></a><br><br><a href=\"https://github.com/jupyter-naas/awesome-notebooks/issues/new?assignees=&labels=&template=template-request.md&title=Tool+-+Action+of+the+notebook+\">Template request</a> | <a href=\"https://github.com/jupyter-naas/awesome-notebooks/issues/new?assignees=&labels=bug&template=bug_report.md&title=GitHub+-+Get+commits+ranking+from+repository:+Error+short+description\">Bug report</a>"
   ]
  },
  {
   "cell_type": "markdown",
   "id": "fe58f42b-a421-4a61-8227-2fdf6410d15d",
   "metadata": {},
   "source": [
    "**Tags:** #github #repos #commits #stats #naas_drivers #plotly #linechart #operations #analytics #dataframe #html"
   ]
  },
  {
   "cell_type": "markdown",
   "id": "71d4b05e-f205-46a0-90aa-2bd75bcfa402",
   "metadata": {},
   "source": [
    "**Author:** [Suhas B](https://www.linkedin.com/in/suhasbrao/)\n"
   ]
  },
  {
   "cell_type": "markdown",
   "id": "6720b93e-aa24-4b59-9e96-f15d64ac3436",
   "metadata": {},
   "source": [
    "## Input"
   ]
  },
  {
   "cell_type": "code",
   "execution_count": 1,
   "id": "2c71cac5-4b22-4c35-891f-54868e92d186",
   "metadata": {
    "execution": {
     "iopub.execute_input": "2023-02-14T08:14:21.291478Z",
     "iopub.status.busy": "2023-02-14T08:14:21.291214Z",
     "iopub.status.idle": "2023-02-14T08:14:23.132513Z",
     "shell.execute_reply": "2023-02-14T08:14:23.131889Z",
     "shell.execute_reply.started": "2023-02-14T08:14:21.291413Z"
    },
    "tags": []
   },
   "outputs": [],
   "source": [
    "import pandas as pd\n",
    "import plotly.express as px\n",
    "from naas_drivers import github\n",
    "import naas\n",
    "\n",
    "import requests\n",
    "from urllib.parse import urlencode"
   ]
  },
  {
   "cell_type": "markdown",
   "id": "23739f25-7db1-4411-b612-bd49afda2fb8",
   "metadata": {},
   "source": [
    "Note: Before executing the below line, please do add your GitHub token as a naas secret using the below line\n",
    "\n",
    "naas.secret.add(\"Git_Token\", <i> Put your token here</i>)"
   ]
  },
  {
   "cell_type": "code",
   "execution_count": 2,
   "id": "c2c10d40-5bd3-44ee-a8cd-093b96d9c238",
   "metadata": {
    "execution": {
     "iopub.execute_input": "2023-02-14T08:14:24.593620Z",
     "iopub.status.busy": "2023-02-14T08:14:24.593397Z",
     "iopub.status.idle": "2023-02-14T08:14:24.738769Z",
     "shell.execute_reply": "2023-02-14T08:14:24.738177Z",
     "shell.execute_reply.started": "2023-02-14T08:14:24.593597Z"
    },
    "tags": []
   },
   "outputs": [],
   "source": [
    "# Github repository url\n",
    "REPO_URL = \"https://github.com/jupyter-naas/awesome-notebooks\"\n",
    "\n",
    "# Github token\n",
    "GITHUB_TOKEN = naas.secret.get(\"Git_Token\")"
   ]
  },
  {
   "cell_type": "markdown",
   "id": "b341b929-2a16-461f-aac9-91aef332aa9b",
   "metadata": {},
   "source": [
    "## Model"
   ]
  },
  {
   "cell_type": "code",
   "execution_count": 3,
   "id": "9e5899fa-84b6-4e59-a2e0-f0acc36c3517",
   "metadata": {
    "execution": {
     "iopub.execute_input": "2023-02-14T08:14:33.072663Z",
     "iopub.status.busy": "2023-02-14T08:14:33.072423Z",
     "iopub.status.idle": "2023-02-14T08:14:33.077594Z",
     "shell.execute_reply": "2023-02-14T08:14:33.076875Z",
     "shell.execute_reply.started": "2023-02-14T08:14:33.072641Z"
    },
    "tags": []
   },
   "outputs": [],
   "source": [
    "# write a function to get the actor for closing an issue\n",
    "def get_actor_for_closed_issue(events_url, git_obj):\n",
    "    '''\n",
    "    This function is used to get actor for a closed issues\n",
    "    It gives the name of a person who closed the issue.\n",
    "    \n",
    "    Parameters\n",
    "    ----------\n",
    "    events_url: str:\n",
    "        events_url from Github.\n",
    "        Example : \"https://api.github.com/repos/jupyter-naas/awesome-notebooks/issues/1401/events\"\n",
    "    \n",
    "    git_obj: object of naas_driver.github\n",
    "    '''\n",
    "    \n",
    "    url = events_url\n",
    "    res = requests.get(url, headers=git_obj.headers)\n",
    "    try:\n",
    "        res.raise_for_status()\n",
    "    except requests.HTTPError as e:\n",
    "        raise(e)\n",
    "    \n",
    "    res_json = res.json()\n",
    "    if len(res_json) == 0:\n",
    "        return\n",
    "    \n",
    "    \n",
    "    actor = None\n",
    "    for events in res_json:\n",
    "        if events[\"event\"] == \"closed\":\n",
    "            actor= events[\"actor\"][\"login\"]\n",
    "    \n",
    "    return actor\n",
    "# get_actor_for_closed_issue(\"https://api.github.com/repos/jupyter-naas/awesome-notebooks/issues/1392/events\")"
   ]
  },
  {
   "cell_type": "code",
   "execution_count": 4,
   "id": "12992028-00ae-4a81-b30c-5358db5be496",
   "metadata": {
    "execution": {
     "iopub.execute_input": "2023-02-14T08:14:40.951537Z",
     "iopub.status.busy": "2023-02-14T08:14:40.951314Z",
     "iopub.status.idle": "2023-02-14T08:14:40.964306Z",
     "shell.execute_reply": "2023-02-14T08:14:40.963499Z",
     "shell.execute_reply.started": "2023-02-14T08:14:40.951514Z"
    },
    "tags": []
   },
   "outputs": [],
   "source": [
    "def get_all_issues(repo_url):\n",
    "    '''\n",
    "    This function retrives all the issues of a repository and returns a \n",
    "    dataframe with the following columns:\n",
    "    \n",
    "    link_to_the_issue\n",
    "    issue_title\n",
    "    issue_number\n",
    "    issue_state\n",
    "    issue_creator\n",
    "    issue_closed_by\n",
    "    last_created_date\n",
    "    last_created_time\n",
    "    last_updated_date\n",
    "    last_updated_time\n",
    "    \n",
    "\n",
    "    Parameters\n",
    "    ----------\n",
    "    repo_url: str:\n",
    "        Repository url from Github.\n",
    "        Example : \"https://github.com/jupyter-naas/awesome-notebooks\"\n",
    "    '''\n",
    "    \n",
    "    git_obj = github.connect(GITHUB_TOKEN)\n",
    "    repository = git_obj.get_repository_url(repo_url)\n",
    "    df = pd.DataFrame()\n",
    "    page, idx = 1, 0\n",
    "    while True:\n",
    "        params = {\n",
    "                \"per_page\": \"100\",\n",
    "                \"page\": page,\n",
    "            }\n",
    "        \n",
    "        # Api to get open issues from github\n",
    "        url = f\"https://api.github.com/repos/{repository}/issues?state=all&{urlencode(params, safe='(),')}\"\n",
    "        res = requests.get(url, headers=git_obj.headers)\n",
    "        try:\n",
    "            res.raise_for_status()\n",
    "        except requests.HTTPError as e:\n",
    "            raise(e)\n",
    "        \n",
    "        res_json = res.json()\n",
    "        if len(res_json) == 0:\n",
    "            break\n",
    "        \n",
    "        for issue in res_json:\n",
    "            # Fetch all the issues, check node_id to see if it is an issue or PR\n",
    "            \n",
    "            if(issue[\"node_id\"].startswith(\"I_\")):\n",
    "                \n",
    "                df.loc[idx,'link_to_the_issue'], df.loc[idx, 'issue_number'] = issue['html_url'], issue['number']\n",
    "                df.loc[idx, 'issue_title'], df.loc[idx, 'issue_state'] = issue['title'], issue['state']\n",
    "   \n",
    "                df.loc[idx, \"issue_creator\"] = issue[\"user\"].get(\"login\")\n",
    "                \n",
    "                # Create a cloumn that stores the name of the person who closed the issue\n",
    "                # else if the issue is Open the column value will be None\n",
    "                df.loc[idx, \"issue_closed_by\"] = get_actor_for_closed_issue( issue[\"events_url\"], git_obj )\n",
    "                \n",
    "                df.loc[idx, 'last_created_date'] = issue.get('created_at').strip('Z').split('T')[0]\n",
    "                df.loc[idx, 'last_created_time'] = issue.get('created_at').strip('Z').split('T')[-1]\n",
    "                df.loc[idx, 'last_updated_date'] = issue.get('updated_at').strip('Z').split('T')[0]\n",
    "                df.loc[idx, 'last_updated_time'] = issue.get('updated_at').strip('Z').split('T')[-1]\n",
    "                \n",
    "                \n",
    "                idx +=1\n",
    "        page+=1\n",
    "    return df\n",
    "\n"
   ]
  },
  {
   "cell_type": "code",
   "execution_count": 5,
   "id": "04751a7f-57b6-4f4f-b915-58e35e6cb166",
   "metadata": {
    "execution": {
     "iopub.execute_input": "2023-02-14T08:15:12.402182Z",
     "iopub.status.busy": "2023-02-14T08:15:12.401934Z",
     "iopub.status.idle": "2023-02-14T08:19:40.968422Z",
     "shell.execute_reply": "2023-02-14T08:19:40.966374Z",
     "shell.execute_reply.started": "2023-02-14T08:15:12.402159Z"
    },
    "tags": []
   },
   "outputs": [
    {
     "name": "stdout",
     "output_type": "stream",
     "text": [
      "Total open Issues fetched: 842\n"
     ]
    }
   ],
   "source": [
    "df_all_issues = get_all_issues(REPO_URL)\n",
    "print(\"Total open Issues fetched:\", len(df_all_issues))"
   ]
  },
  {
   "cell_type": "code",
   "execution_count": 6,
   "id": "ddf7e829-0c0f-4b58-9fa4-92c485f20258",
   "metadata": {
    "execution": {
     "iopub.execute_input": "2023-02-14T08:20:25.279858Z",
     "iopub.status.busy": "2023-02-14T08:20:25.279528Z",
     "iopub.status.idle": "2023-02-14T08:20:25.308229Z",
     "shell.execute_reply": "2023-02-14T08:20:25.307417Z",
     "shell.execute_reply.started": "2023-02-14T08:20:25.279790Z"
    },
    "tags": []
   },
   "outputs": [
    {
     "data": {
      "text/html": [
       "<div>\n",
       "<style scoped>\n",
       "    .dataframe tbody tr th:only-of-type {\n",
       "        vertical-align: middle;\n",
       "    }\n",
       "\n",
       "    .dataframe tbody tr th {\n",
       "        vertical-align: top;\n",
       "    }\n",
       "\n",
       "    .dataframe thead th {\n",
       "        text-align: right;\n",
       "    }\n",
       "</style>\n",
       "<table border=\"1\" class=\"dataframe\">\n",
       "  <thead>\n",
       "    <tr style=\"text-align: right;\">\n",
       "      <th></th>\n",
       "      <th>link_to_the_issue</th>\n",
       "      <th>issue_number</th>\n",
       "      <th>issue_title</th>\n",
       "      <th>issue_state</th>\n",
       "      <th>issue_creator</th>\n",
       "      <th>issue_closed_by</th>\n",
       "      <th>last_created_date</th>\n",
       "      <th>last_created_time</th>\n",
       "      <th>last_updated_date</th>\n",
       "      <th>last_updated_time</th>\n",
       "    </tr>\n",
       "  </thead>\n",
       "  <tbody>\n",
       "    <tr>\n",
       "      <th>0</th>\n",
       "      <td>https://github.com/jupyter-naas/awesome-notebo...</td>\n",
       "      <td>1414.0</td>\n",
       "      <td>pandasql - Query Parquet file</td>\n",
       "      <td>open</td>\n",
       "      <td>FlorentLvr</td>\n",
       "      <td>NaN</td>\n",
       "      <td>2023-02-08</td>\n",
       "      <td>15:39:18</td>\n",
       "      <td>2023-02-08</td>\n",
       "      <td>15:39:31</td>\n",
       "    </tr>\n",
       "    <tr>\n",
       "      <th>1</th>\n",
       "      <td>https://github.com/jupyter-naas/awesome-notebo...</td>\n",
       "      <td>1413.0</td>\n",
       "      <td>pandasql - Query Excel file</td>\n",
       "      <td>open</td>\n",
       "      <td>FlorentLvr</td>\n",
       "      <td>NaN</td>\n",
       "      <td>2023-02-08</td>\n",
       "      <td>15:37:06</td>\n",
       "      <td>2023-02-08</td>\n",
       "      <td>15:38:36</td>\n",
       "    </tr>\n",
       "    <tr>\n",
       "      <th>2</th>\n",
       "      <td>https://github.com/jupyter-naas/awesome-notebo...</td>\n",
       "      <td>1412.0</td>\n",
       "      <td>GitHub - Get Traffic Views</td>\n",
       "      <td>open</td>\n",
       "      <td>FlorentLvr</td>\n",
       "      <td>NaN</td>\n",
       "      <td>2023-02-08</td>\n",
       "      <td>08:53:05</td>\n",
       "      <td>2023-02-08</td>\n",
       "      <td>08:53:14</td>\n",
       "    </tr>\n",
       "    <tr>\n",
       "      <th>3</th>\n",
       "      <td>https://github.com/jupyter-naas/awesome-notebo...</td>\n",
       "      <td>1411.0</td>\n",
       "      <td>GitHub - Get Traffic Clones</td>\n",
       "      <td>closed</td>\n",
       "      <td>FlorentLvr</td>\n",
       "      <td>FlorentLvr</td>\n",
       "      <td>2023-02-08</td>\n",
       "      <td>08:51:04</td>\n",
       "      <td>2023-02-08</td>\n",
       "      <td>17:44:29</td>\n",
       "    </tr>\n",
       "    <tr>\n",
       "      <th>4</th>\n",
       "      <td>https://github.com/jupyter-naas/awesome-notebo...</td>\n",
       "      <td>1410.0</td>\n",
       "      <td>Python - Replace value in text in a specific p...</td>\n",
       "      <td>open</td>\n",
       "      <td>FlorentLvr</td>\n",
       "      <td>None</td>\n",
       "      <td>2023-02-08</td>\n",
       "      <td>08:50:13</td>\n",
       "      <td>2023-02-13</td>\n",
       "      <td>10:56:04</td>\n",
       "    </tr>\n",
       "  </tbody>\n",
       "</table>\n",
       "</div>"
      ],
      "text/plain": [
       "                                   link_to_the_issue  issue_number  \\\n",
       "0  https://github.com/jupyter-naas/awesome-notebo...        1414.0   \n",
       "1  https://github.com/jupyter-naas/awesome-notebo...        1413.0   \n",
       "2  https://github.com/jupyter-naas/awesome-notebo...        1412.0   \n",
       "3  https://github.com/jupyter-naas/awesome-notebo...        1411.0   \n",
       "4  https://github.com/jupyter-naas/awesome-notebo...        1410.0   \n",
       "\n",
       "                                         issue_title issue_state  \\\n",
       "0                      pandasql - Query Parquet file        open   \n",
       "1                        pandasql - Query Excel file        open   \n",
       "2                         GitHub - Get Traffic Views        open   \n",
       "3                        GitHub - Get Traffic Clones      closed   \n",
       "4  Python - Replace value in text in a specific p...        open   \n",
       "\n",
       "  issue_creator issue_closed_by last_created_date last_created_time  \\\n",
       "0    FlorentLvr             NaN        2023-02-08          15:39:18   \n",
       "1    FlorentLvr             NaN        2023-02-08          15:37:06   \n",
       "2    FlorentLvr             NaN        2023-02-08          08:53:05   \n",
       "3    FlorentLvr      FlorentLvr        2023-02-08          08:51:04   \n",
       "4    FlorentLvr            None        2023-02-08          08:50:13   \n",
       "\n",
       "  last_updated_date last_updated_time  \n",
       "0        2023-02-08          15:39:31  \n",
       "1        2023-02-08          15:38:36  \n",
       "2        2023-02-08          08:53:14  \n",
       "3        2023-02-08          17:44:29  \n",
       "4        2023-02-13          10:56:04  "
      ]
     },
     "execution_count": 6,
     "metadata": {},
     "output_type": "execute_result"
    }
   ],
   "source": [
    "df_all_issues.head()"
   ]
  },
  {
   "cell_type": "code",
   "execution_count": 7,
   "id": "2f44a5e6-0968-42ea-90ce-0e80bf0b90e8",
   "metadata": {
    "execution": {
     "iopub.execute_input": "2023-02-14T08:21:15.185720Z",
     "iopub.status.busy": "2023-02-14T08:21:15.185413Z",
     "iopub.status.idle": "2023-02-14T08:21:15.197226Z",
     "shell.execute_reply": "2023-02-14T08:21:15.196632Z",
     "shell.execute_reply.started": "2023-02-14T08:21:15.185687Z"
    },
    "tags": []
   },
   "outputs": [],
   "source": [
    "def get_issue_pr_comments(repo_url):\n",
    "    '''\n",
    "    The function retrieves all the issue comments and pr comments for a given r\n",
    "    repository url.\n",
    "    The function returns a dataframe with following columns for an issue comment/pr comment\n",
    "    \n",
    "    comment_id\n",
    "    issue_url\n",
    "    comment_by\n",
    "    comment_body\n",
    "    '''\n",
    "    git_obj = github.connect(GITHUB_TOKEN)\n",
    "    repository = git_obj.get_repository_url(repo_url)\n",
    "    df = pd.DataFrame()\n",
    "    page, idx = 1, 0\n",
    "    while True:\n",
    "        params = {\n",
    "                \"per_page\": \"100\",\n",
    "                \"page\": page,\n",
    "            }\n",
    "        \n",
    "        # Api to get comments from github\n",
    "       \n",
    "        url = f\"https://api.github.com/repos/{repository}/issues/comments?{urlencode(params, safe='(),')}\"\n",
    "        res = requests.get(url, headers=git_obj.headers)\n",
    "        try:\n",
    "            res.raise_for_status()\n",
    "        except requests.HTTPError as e:\n",
    "            raise(e)\n",
    "        \n",
    "        res_json = res.json()\n",
    "        if len(res_json) == 0:\n",
    "            break\n",
    "        \n",
    "        for issue_comment in res_json:\n",
    "            df.loc[idx, \"comment_id\"] = issue_comment[\"id\"]\n",
    "            df.loc[idx, \"issue_url\"] = issue_comment[\"issue_url\"]\n",
    "            df.loc[idx, \"comment_by\"] = issue_comment[\"user\"][\"login\"]\n",
    "            df.loc[idx, \"comment_body\"] = issue_comment[\"body\"]\n",
    "            \n",
    "            idx +=1\n",
    "        page += 1\n",
    "        \n",
    "    return df"
   ]
  },
  {
   "cell_type": "code",
   "execution_count": 9,
   "id": "e3bdf2e4-ad77-4cfd-824f-aa91aec5bd33",
   "metadata": {
    "execution": {
     "iopub.execute_input": "2023-02-14T08:24:15.072719Z",
     "iopub.status.busy": "2023-02-14T08:24:15.072491Z",
     "iopub.status.idle": "2023-02-14T08:24:30.391754Z",
     "shell.execute_reply": "2023-02-14T08:24:30.391037Z",
     "shell.execute_reply.started": "2023-02-14T08:24:15.072697Z"
    },
    "tags": []
   },
   "outputs": [
    {
     "data": {
      "text/html": [
       "<div>\n",
       "<style scoped>\n",
       "    .dataframe tbody tr th:only-of-type {\n",
       "        vertical-align: middle;\n",
       "    }\n",
       "\n",
       "    .dataframe tbody tr th {\n",
       "        vertical-align: top;\n",
       "    }\n",
       "\n",
       "    .dataframe thead th {\n",
       "        text-align: right;\n",
       "    }\n",
       "</style>\n",
       "<table border=\"1\" class=\"dataframe\">\n",
       "  <thead>\n",
       "    <tr style=\"text-align: right;\">\n",
       "      <th></th>\n",
       "      <th>comment_id</th>\n",
       "      <th>issue_url</th>\n",
       "      <th>comment_by</th>\n",
       "      <th>comment_body</th>\n",
       "    </tr>\n",
       "  </thead>\n",
       "  <tbody>\n",
       "    <tr>\n",
       "      <th>0</th>\n",
       "      <td>718561230.0</td>\n",
       "      <td>https://api.github.com/repos/jupyter-naas/awes...</td>\n",
       "      <td>BobCashStory</td>\n",
       "      <td>https://github.com/jupyter-naas/awesome-notebo...</td>\n",
       "    </tr>\n",
       "    <tr>\n",
       "      <th>1</th>\n",
       "      <td>718561597.0</td>\n",
       "      <td>https://api.github.com/repos/jupyter-naas/awes...</td>\n",
       "      <td>BobCashStory</td>\n",
       "      <td>https://github.com/jupyter-naas/awesome-notebo...</td>\n",
       "    </tr>\n",
       "    <tr>\n",
       "      <th>2</th>\n",
       "      <td>718562018.0</td>\n",
       "      <td>https://api.github.com/repos/jupyter-naas/awes...</td>\n",
       "      <td>BobCashStory</td>\n",
       "      <td>https://github.com/jupyter-naas/awesome-notebo...</td>\n",
       "    </tr>\n",
       "    <tr>\n",
       "      <th>3</th>\n",
       "      <td>721256997.0</td>\n",
       "      <td>https://api.github.com/repos/jupyter-naas/awes...</td>\n",
       "      <td>jravenel</td>\n",
       "      <td>Input Laden \\r\\n- app : https://app.landen.co/...</td>\n",
       "    </tr>\n",
       "    <tr>\n",
       "      <th>4</th>\n",
       "      <td>746005918.0</td>\n",
       "      <td>https://api.github.com/repos/jupyter-naas/awes...</td>\n",
       "      <td>sanjaysabu4205</td>\n",
       "      <td>Snowflake using CRUD method</td>\n",
       "    </tr>\n",
       "  </tbody>\n",
       "</table>\n",
       "</div>"
      ],
      "text/plain": [
       "    comment_id                                          issue_url  \\\n",
       "0  718561230.0  https://api.github.com/repos/jupyter-naas/awes...   \n",
       "1  718561597.0  https://api.github.com/repos/jupyter-naas/awes...   \n",
       "2  718562018.0  https://api.github.com/repos/jupyter-naas/awes...   \n",
       "3  721256997.0  https://api.github.com/repos/jupyter-naas/awes...   \n",
       "4  746005918.0  https://api.github.com/repos/jupyter-naas/awes...   \n",
       "\n",
       "       comment_by                                       comment_body  \n",
       "0    BobCashStory  https://github.com/jupyter-naas/awesome-notebo...  \n",
       "1    BobCashStory  https://github.com/jupyter-naas/awesome-notebo...  \n",
       "2    BobCashStory  https://github.com/jupyter-naas/awesome-notebo...  \n",
       "3        jravenel  Input Laden \\r\\n- app : https://app.landen.co/...  \n",
       "4  sanjaysabu4205                        Snowflake using CRUD method  "
      ]
     },
     "execution_count": 9,
     "metadata": {},
     "output_type": "execute_result"
    }
   ],
   "source": [
    "df_all_comments = get_issue_pr_comments(REPO_URL)\n",
    "df_all_comments.head()"
   ]
  },
  {
   "cell_type": "code",
   "execution_count": 10,
   "id": "24ee4515-c985-4b5a-b207-d06d7c9f1fb1",
   "metadata": {
    "execution": {
     "iopub.execute_input": "2023-02-14T08:25:25.147367Z",
     "iopub.status.busy": "2023-02-14T08:25:25.147141Z",
     "iopub.status.idle": "2023-02-14T08:25:25.153586Z",
     "shell.execute_reply": "2023-02-14T08:25:25.152918Z",
     "shell.execute_reply.started": "2023-02-14T08:25:25.147346Z"
    },
    "tags": []
   },
   "outputs": [],
   "source": [
    "def get_contributors_details(repo_url):\n",
    "    '''\n",
    "    The function retrieves contributors for a given repository url\n",
    "    This function returns a dataframe of contributors with following columns\n",
    "    \n",
    "    contributor_name\n",
    "    issues_created\n",
    "    issues_closed\n",
    "    issue_pr_comments\n",
    "    commits\n",
    "    \n",
    "    '''\n",
    "    git_obj = github.connect(GITHUB_TOKEN)\n",
    "    repository = git_obj.get_repository_url(repo_url)\n",
    "    df = pd.DataFrame()\n",
    "    page, idx = 1, 0\n",
    "    while True:\n",
    "        params = {\n",
    "                \"per_page\": \"100\",\n",
    "                \"page\": page,\n",
    "            }\n",
    "        url = f\"https://api.github.com/repos/{repository}/contributors?{urlencode(params, safe='(),')}\"\n",
    "        res = requests.get(url, headers=git_obj.headers)\n",
    "        try:\n",
    "            res.raise_for_status()\n",
    "        except requests.HTTPError as e:\n",
    "            raise(e)\n",
    "        \n",
    "        res_json = res.json()\n",
    "        if len(res_json) == 0:\n",
    "            break\n",
    "        \n",
    "        for contributor in res_json:\n",
    "            df.loc[idx, \"contributor_name\"] = contributor[\"login\"]\n",
    "            # create a column to store number of issues created by a contributor\n",
    "            df.loc[idx, \"issues_created\"] = len(df_all_issues.loc[df_all_issues[\"issue_creator\"]==contributor[\"login\"]])\n",
    "            # create a column to store number of issues closed by a contributor\n",
    "            \n",
    "            df.loc[idx, \"issues_closed\"] = len(df_all_issues.loc[df_all_issues[\"issue_closed_by\"]==contributor[\"login\"]])\n",
    "            \n",
    "            # Need to get df for issue comments and PR comments\n",
    "            df.loc[idx, \"issue_pr_comments\"] = len(df_all_comments.loc[df_all_comments[\"comment_by\"] == contributor[\"login\"]])\n",
    "            \n",
    "            # add a column to store number of commits made by a contributor\n",
    "            df.loc[idx, \"commits\"] = len(git_obj.repos.get_commits(REPO_URL, contributor[\"login\"]))\n",
    "            idx +=1\n",
    "        \n",
    "        page += 1\n",
    "    \n",
    "    return df"
   ]
  },
  {
   "cell_type": "code",
   "execution_count": 11,
   "id": "0bf5f7fc-3d7e-4118-97e7-8b52fdefeee2",
   "metadata": {
    "execution": {
     "iopub.execute_input": "2023-02-14T08:25:31.114281Z",
     "iopub.status.busy": "2023-02-14T08:25:31.114052Z",
     "iopub.status.idle": "2023-02-14T08:26:19.471889Z",
     "shell.execute_reply": "2023-02-14T08:26:19.471212Z",
     "shell.execute_reply.started": "2023-02-14T08:25:31.114257Z"
    },
    "tags": []
   },
   "outputs": [],
   "source": [
    "df_contributors = get_contributors_details(REPO_URL)"
   ]
  },
  {
   "cell_type": "code",
   "execution_count": 12,
   "id": "f8c2b73c-022b-4316-a9f8-3c72c98d8a11",
   "metadata": {
    "execution": {
     "iopub.execute_input": "2023-02-14T08:27:10.947191Z",
     "iopub.status.busy": "2023-02-14T08:27:10.946963Z",
     "iopub.status.idle": "2023-02-14T08:27:10.970021Z",
     "shell.execute_reply": "2023-02-14T08:27:10.967462Z",
     "shell.execute_reply.started": "2023-02-14T08:27:10.947168Z"
    },
    "tags": []
   },
   "outputs": [],
   "source": [
    "# Add a column of points for contributors df\n",
    "# pts is calculated by multiplying a pre-defined wieght for each of the columns\n",
    "# Feel free to modify the weight \n",
    "df_contributors[\"pts\"] = 1*df_contributors[\"issues_created\"] + 1*df_contributors[\"issues_closed\"] + \\\n",
    "                        0.5*df_contributors[\"issue_pr_comments\"] + 1*df_contributors[\"commits\"]"
   ]
  },
  {
   "cell_type": "code",
   "execution_count": 13,
   "id": "3443a9d4-d3c7-49cb-aca5-927dd5a326f6",
   "metadata": {
    "execution": {
     "iopub.execute_input": "2023-02-14T08:27:13.156967Z",
     "iopub.status.busy": "2023-02-14T08:27:13.156735Z",
     "iopub.status.idle": "2023-02-14T08:27:13.168203Z",
     "shell.execute_reply": "2023-02-14T08:27:13.167515Z",
     "shell.execute_reply.started": "2023-02-14T08:27:13.156945Z"
    },
    "tags": []
   },
   "outputs": [
    {
     "data": {
      "text/html": [
       "<div>\n",
       "<style scoped>\n",
       "    .dataframe tbody tr th:only-of-type {\n",
       "        vertical-align: middle;\n",
       "    }\n",
       "\n",
       "    .dataframe tbody tr th {\n",
       "        vertical-align: top;\n",
       "    }\n",
       "\n",
       "    .dataframe thead th {\n",
       "        text-align: right;\n",
       "    }\n",
       "</style>\n",
       "<table border=\"1\" class=\"dataframe\">\n",
       "  <thead>\n",
       "    <tr style=\"text-align: right;\">\n",
       "      <th></th>\n",
       "      <th>contributor_name</th>\n",
       "      <th>issues_created</th>\n",
       "      <th>issues_closed</th>\n",
       "      <th>issue_pr_comments</th>\n",
       "      <th>commits</th>\n",
       "      <th>pts</th>\n",
       "    </tr>\n",
       "  </thead>\n",
       "  <tbody>\n",
       "    <tr>\n",
       "      <th>0</th>\n",
       "      <td>FlorentLvr</td>\n",
       "      <td>362.0</td>\n",
       "      <td>170.0</td>\n",
       "      <td>299.0</td>\n",
       "      <td>274.0</td>\n",
       "      <td>955.5</td>\n",
       "    </tr>\n",
       "    <tr>\n",
       "      <th>1</th>\n",
       "      <td>fravenel</td>\n",
       "      <td>0.0</td>\n",
       "      <td>0.0</td>\n",
       "      <td>0.0</td>\n",
       "      <td>280.0</td>\n",
       "      <td>280.0</td>\n",
       "    </tr>\n",
       "    <tr>\n",
       "      <th>2</th>\n",
       "      <td>jravenel</td>\n",
       "      <td>107.0</td>\n",
       "      <td>64.0</td>\n",
       "      <td>508.0</td>\n",
       "      <td>142.0</td>\n",
       "      <td>567.0</td>\n",
       "    </tr>\n",
       "    <tr>\n",
       "      <th>3</th>\n",
       "      <td>Dr0p42</td>\n",
       "      <td>293.0</td>\n",
       "      <td>14.0</td>\n",
       "      <td>115.0</td>\n",
       "      <td>93.0</td>\n",
       "      <td>457.5</td>\n",
       "    </tr>\n",
       "    <tr>\n",
       "      <th>4</th>\n",
       "      <td>tparente-ui</td>\n",
       "      <td>7.0</td>\n",
       "      <td>0.0</td>\n",
       "      <td>2.0</td>\n",
       "      <td>98.0</td>\n",
       "      <td>106.0</td>\n",
       "    </tr>\n",
       "  </tbody>\n",
       "</table>\n",
       "</div>"
      ],
      "text/plain": [
       "  contributor_name  issues_created  issues_closed  issue_pr_comments  commits  \\\n",
       "0       FlorentLvr           362.0          170.0              299.0    274.0   \n",
       "1         fravenel             0.0            0.0                0.0    280.0   \n",
       "2         jravenel           107.0           64.0              508.0    142.0   \n",
       "3           Dr0p42           293.0           14.0              115.0     93.0   \n",
       "4      tparente-ui             7.0            0.0                2.0     98.0   \n",
       "\n",
       "     pts  \n",
       "0  955.5  \n",
       "1  280.0  \n",
       "2  567.0  \n",
       "3  457.5  \n",
       "4  106.0  "
      ]
     },
     "execution_count": 13,
     "metadata": {},
     "output_type": "execute_result"
    }
   ],
   "source": [
    "df_contributors.head()"
   ]
  },
  {
   "cell_type": "code",
   "execution_count": 14,
   "id": "845dce91-a98b-4d1f-bb2d-ea45482c2a50",
   "metadata": {
    "execution": {
     "iopub.execute_input": "2023-02-14T08:27:34.530382Z",
     "iopub.status.busy": "2023-02-14T08:27:34.530154Z",
     "iopub.status.idle": "2023-02-14T08:27:34.533498Z",
     "shell.execute_reply": "2023-02-14T08:27:34.532861Z",
     "shell.execute_reply.started": "2023-02-14T08:27:34.530360Z"
    },
    "tags": []
   },
   "outputs": [],
   "source": [
    "def get_contributors_leaders(df):\n",
    "    \n",
    "    return df.sort_values(by=\"pts\", ascending=False).reset_index(drop=True)\n"
   ]
  },
  {
   "cell_type": "markdown",
   "id": "19744942-2de2-4211-ac6a-2fc1e119bc2c",
   "metadata": {},
   "source": [
    "## Output"
   ]
  },
  {
   "cell_type": "code",
   "execution_count": 15,
   "id": "d2fb673a-494b-4362-b7e5-d4547a8b6b9a",
   "metadata": {
    "execution": {
     "iopub.execute_input": "2023-02-14T08:27:38.091849Z",
     "iopub.status.busy": "2023-02-14T08:27:38.091579Z",
     "iopub.status.idle": "2023-02-14T08:27:38.105405Z",
     "shell.execute_reply": "2023-02-14T08:27:38.104781Z",
     "shell.execute_reply.started": "2023-02-14T08:27:38.091823Z"
    },
    "tags": []
   },
   "outputs": [
    {
     "data": {
      "text/html": [
       "<div>\n",
       "<style scoped>\n",
       "    .dataframe tbody tr th:only-of-type {\n",
       "        vertical-align: middle;\n",
       "    }\n",
       "\n",
       "    .dataframe tbody tr th {\n",
       "        vertical-align: top;\n",
       "    }\n",
       "\n",
       "    .dataframe thead th {\n",
       "        text-align: right;\n",
       "    }\n",
       "</style>\n",
       "<table border=\"1\" class=\"dataframe\">\n",
       "  <thead>\n",
       "    <tr style=\"text-align: right;\">\n",
       "      <th></th>\n",
       "      <th>contributor_name</th>\n",
       "      <th>issues_created</th>\n",
       "      <th>issues_closed</th>\n",
       "      <th>issue_pr_comments</th>\n",
       "      <th>commits</th>\n",
       "      <th>pts</th>\n",
       "    </tr>\n",
       "  </thead>\n",
       "  <tbody>\n",
       "    <tr>\n",
       "      <th>0</th>\n",
       "      <td>FlorentLvr</td>\n",
       "      <td>362.0</td>\n",
       "      <td>170.0</td>\n",
       "      <td>299.0</td>\n",
       "      <td>274.0</td>\n",
       "      <td>955.5</td>\n",
       "    </tr>\n",
       "    <tr>\n",
       "      <th>1</th>\n",
       "      <td>jravenel</td>\n",
       "      <td>107.0</td>\n",
       "      <td>64.0</td>\n",
       "      <td>508.0</td>\n",
       "      <td>142.0</td>\n",
       "      <td>567.0</td>\n",
       "    </tr>\n",
       "    <tr>\n",
       "      <th>2</th>\n",
       "      <td>Dr0p42</td>\n",
       "      <td>293.0</td>\n",
       "      <td>14.0</td>\n",
       "      <td>115.0</td>\n",
       "      <td>93.0</td>\n",
       "      <td>457.5</td>\n",
       "    </tr>\n",
       "    <tr>\n",
       "      <th>3</th>\n",
       "      <td>fravenel</td>\n",
       "      <td>0.0</td>\n",
       "      <td>0.0</td>\n",
       "      <td>0.0</td>\n",
       "      <td>280.0</td>\n",
       "      <td>280.0</td>\n",
       "    </tr>\n",
       "    <tr>\n",
       "      <th>4</th>\n",
       "      <td>SanjuEpic</td>\n",
       "      <td>11.0</td>\n",
       "      <td>0.0</td>\n",
       "      <td>59.0</td>\n",
       "      <td>75.0</td>\n",
       "      <td>115.5</td>\n",
       "    </tr>\n",
       "  </tbody>\n",
       "</table>\n",
       "</div>"
      ],
      "text/plain": [
       "  contributor_name  issues_created  issues_closed  issue_pr_comments  commits  \\\n",
       "0       FlorentLvr           362.0          170.0              299.0    274.0   \n",
       "1         jravenel           107.0           64.0              508.0    142.0   \n",
       "2           Dr0p42           293.0           14.0              115.0     93.0   \n",
       "3         fravenel             0.0            0.0                0.0    280.0   \n",
       "4        SanjuEpic            11.0            0.0               59.0     75.0   \n",
       "\n",
       "     pts  \n",
       "0  955.5  \n",
       "1  567.0  \n",
       "2  457.5  \n",
       "3  280.0  \n",
       "4  115.5  "
      ]
     },
     "execution_count": 15,
     "metadata": {},
     "output_type": "execute_result"
    }
   ],
   "source": [
    "df_leaderboard = get_contributors_leaders(df_contributors)\n",
    "df_leaderboard.head()"
   ]
  }
 ],
 "metadata": {
  "kernelspec": {
   "display_name": "Python 3",
   "language": "python",
   "name": "python3"
  },
  "language_info": {
   "codemirror_mode": {
    "name": "ipython",
    "version": 3
   },
   "file_extension": ".py",
   "mimetype": "text/x-python",
   "name": "python",
   "nbconvert_exporter": "python",
   "pygments_lexer": "ipython3",
   "version": "3.9.6"
  },
  "toc-autonumbering": false,
  "toc-showcode": false,
  "toc-showmarkdowntxt": false
 },
 "nbformat": 4,
 "nbformat_minor": 5
}
