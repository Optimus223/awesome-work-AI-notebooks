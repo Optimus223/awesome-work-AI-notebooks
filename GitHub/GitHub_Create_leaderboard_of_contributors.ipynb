{
 "cells": [
  {
   "cell_type": "markdown",
   "id": "5f334b21-2372-4531-926a-5eef1f8e3392",
   "metadata": {
    "execution": {
     "iopub.execute_input": "2023-01-26T08:07:21.267353Z",
     "iopub.status.busy": "2023-01-26T08:07:21.267092Z",
     "iopub.status.idle": "2023-01-26T08:07:21.281180Z",
     "shell.execute_reply": "2023-01-26T08:07:21.280278Z",
     "shell.execute_reply.started": "2023-01-26T08:07:21.267289Z"
    }
   },
   "source": [
    "<img width=\"10%\" alt=\"Naas\" src=\"https://landen.imgix.net/jtci2pxwjczr/assets/5ice39g4.png?w=160\"/>"
   ]
  },
  {
   "cell_type": "markdown",
   "id": "c3994648-c20b-4e20-88a0-d3488f232043",
   "metadata": {},
   "source": [
    "# GitHub - Create leaderboard of contributors\n",
    "<a href=\"https://app.naas.ai/user-redirect/naas/downloader?url=https://raw.githubusercontent.com/jupyter-naas/awesome-notebooks/master/GitHub/GitHub_Get_commits_ranking_from_repository.ipynb\" target=\"_parent\">\n",
    "       <img src=\"https://naasai-public.s3.eu-west-3.amazonaws.com/open_in_naas.svg\"/></a><br><br><a href=\"https://github.com/jupyter-naas/awesome-notebooks/issues/new?assignees=&labels=&template=template-request.md&title=Tool+-+Action+of+the+notebook+\">Template request</a> | <a href=\"https://github.com/jupyter-naas/awesome-notebooks/issues/new?assignees=&labels=bug&template=bug_report.md&title=GitHub+-+Get+commits+ranking+from+repository:+Error+short+description\">Bug report</a>"
   ]
  },
  {
   "cell_type": "markdown",
   "id": "fe58f42b-a421-4a61-8227-2fdf6410d15d",
   "metadata": {},
   "source": [
    "**Tags:** #github #repos #commits #stats #naas_drivers #plotly #linechart #operations #analytics #dataframe #html"
   ]
  },
  {
   "cell_type": "markdown",
   "id": "71d4b05e-f205-46a0-90aa-2bd75bcfa402",
   "metadata": {},
   "source": [
    "**Author:** [Suhas B](https://www.linkedin.com/in/suhasbrao/)\n"
   ]
  },
  {
   "cell_type": "markdown",
   "id": "6720b93e-aa24-4b59-9e96-f15d64ac3436",
   "metadata": {},
   "source": [
    "## Input"
   ]
  },
  {
   "cell_type": "code",
   "execution_count": 1,
   "id": "2c71cac5-4b22-4c35-891f-54868e92d186",
   "metadata": {
    "execution": {
     "iopub.execute_input": "2023-02-04T13:17:37.882667Z",
     "iopub.status.busy": "2023-02-04T13:17:37.882263Z",
     "iopub.status.idle": "2023-02-04T13:17:39.867283Z",
     "shell.execute_reply": "2023-02-04T13:17:39.866636Z",
     "shell.execute_reply.started": "2023-02-04T13:17:37.882526Z"
    },
    "tags": []
   },
   "outputs": [],
   "source": [
    "import pandas as pd\n",
    "import plotly.express as px\n",
    "from naas_drivers import github\n",
    "import naas\n",
    "\n",
    "import requests\n",
    "from urllib.parse import urlencode"
   ]
  },
  {
   "cell_type": "markdown",
   "id": "23739f25-7db1-4411-b612-bd49afda2fb8",
   "metadata": {},
   "source": [
    "Note: Before executing the below line, please do add your GitHub token as a naas secret using the below line\n",
    "\n",
    "naas.secret.add(\"Git_Token\", <i> Put your token here</i>)"
   ]
  },
  {
   "cell_type": "code",
   "execution_count": 2,
   "id": "c2c10d40-5bd3-44ee-a8cd-093b96d9c238",
   "metadata": {
    "execution": {
     "iopub.execute_input": "2023-02-04T13:17:45.122398Z",
     "iopub.status.busy": "2023-02-04T13:17:45.122088Z",
     "iopub.status.idle": "2023-02-04T13:17:45.260133Z",
     "shell.execute_reply": "2023-02-04T13:17:45.259395Z",
     "shell.execute_reply.started": "2023-02-04T13:17:45.122366Z"
    },
    "tags": []
   },
   "outputs": [],
   "source": [
    "# Github repository url\n",
    "REPO_URL = \"https://github.com/jupyter-naas/awesome-notebooks\"\n",
    "\n",
    "# Github token\n",
    "GITHUB_TOKEN = naas.secret.get(\"Git_Token\")"
   ]
  },
  {
   "cell_type": "markdown",
   "id": "b341b929-2a16-461f-aac9-91aef332aa9b",
   "metadata": {},
   "source": [
    "## Model"
   ]
  },
  {
   "cell_type": "code",
   "execution_count": 5,
   "id": "9e5899fa-84b6-4e59-a2e0-f0acc36c3517",
   "metadata": {
    "execution": {
     "iopub.execute_input": "2023-02-04T13:21:11.666571Z",
     "iopub.status.busy": "2023-02-04T13:21:11.666342Z",
     "iopub.status.idle": "2023-02-04T13:21:11.671186Z",
     "shell.execute_reply": "2023-02-04T13:21:11.670505Z",
     "shell.execute_reply.started": "2023-02-04T13:21:11.666545Z"
    },
    "tags": []
   },
   "outputs": [],
   "source": [
    "# write a function to get the actor for closing an issue\n",
    "def get_actor_for_closed_issue(events_url, git_obj):\n",
    "    '''\n",
    "    This function is used to get actor for a closed issues\n",
    "    It gives the name of a person who closed the issue.\n",
    "    \n",
    "    Parameters\n",
    "    ----------\n",
    "    events_url: str:\n",
    "        events_url from Github.\n",
    "        Example : \"https://api.github.com/repos/jupyter-naas/awesome-notebooks/issues/1401/events\"\n",
    "    \n",
    "    git_obj: object of naas_driver.github\n",
    "    '''\n",
    "    \n",
    "    url = events_url\n",
    "    res = requests.get(url, headers=git_obj.headers)\n",
    "    try:\n",
    "        res.raise_for_status()\n",
    "    except requests.HTTPError as e:\n",
    "        raise(e)\n",
    "    \n",
    "    res_json = res.json()\n",
    "    if len(res_json) == 0:\n",
    "        return\n",
    "    \n",
    "    \n",
    "    actor = None\n",
    "    for events in res_json:\n",
    "        if events[\"event\"] == \"closed\":\n",
    "            actor= events[\"actor\"][\"login\"]\n",
    "    \n",
    "    return actor\n",
    "# get_actor_for_closed_issue(\"https://api.github.com/repos/jupyter-naas/awesome-notebooks/issues/1392/events\")"
   ]
  },
  {
   "cell_type": "code",
   "execution_count": 6,
   "id": "12992028-00ae-4a81-b30c-5358db5be496",
   "metadata": {
    "execution": {
     "iopub.execute_input": "2023-02-04T13:21:15.791776Z",
     "iopub.status.busy": "2023-02-04T13:21:15.791473Z",
     "iopub.status.idle": "2023-02-04T13:21:15.809130Z",
     "shell.execute_reply": "2023-02-04T13:21:15.808439Z",
     "shell.execute_reply.started": "2023-02-04T13:21:15.791745Z"
    },
    "tags": []
   },
   "outputs": [],
   "source": [
    "def get_all_issues(repo_url):\n",
    "    '''\n",
    "    This function retrives all the issues of a repository and returns a \n",
    "    dataframe with the following columns:\n",
    "    \n",
    "    link_to_the_issue\n",
    "    issue_title\n",
    "    issue_number\n",
    "    issue_state\n",
    "    issue_creator\n",
    "    issue_closed_by\n",
    "    last_created_date\n",
    "    last_created_time\n",
    "    last_updated_date\n",
    "    last_updated_time\n",
    "    \n",
    "\n",
    "    Parameters\n",
    "    ----------\n",
    "    repo_url: str:\n",
    "        Repository url from Github.\n",
    "        Example : \"https://github.com/jupyter-naas/awesome-notebooks\"\n",
    "    '''\n",
    "    \n",
    "    git_obj = github.connect(GITHUB_TOKEN)\n",
    "    repository = git_obj.get_repository_url(repo_url)\n",
    "    df = pd.DataFrame()\n",
    "    page, idx = 1, 0\n",
    "    while True:\n",
    "        params = {\n",
    "                \"per_page\": \"100\",\n",
    "                \"page\": page,\n",
    "            }\n",
    "        \n",
    "        # Api to get open issues from github\n",
    "        url = f\"https://api.github.com/repos/{repository}/issues?state=all&{urlencode(params, safe='(),')}\"\n",
    "        res = requests.get(url, headers=git_obj.headers)\n",
    "        try:\n",
    "            res.raise_for_status()\n",
    "        except requests.HTTPError as e:\n",
    "            raise(e)\n",
    "        \n",
    "        res_json = res.json()\n",
    "        if len(res_json) == 0:\n",
    "            break\n",
    "        \n",
    "#         print(len(res_json))\n",
    "        for issue in res_json:\n",
    "            # Fetch all the issues, check node_id to see if it is an issue or PR\n",
    "            \n",
    "            if(issue[\"node_id\"].startswith(\"I_\")):\n",
    "                \n",
    "                df.loc[idx,'link_to_the_issue'], df.loc[idx, 'issue_number'] = issue['html_url'], issue['number']\n",
    "                df.loc[idx, 'issue_title'], df.loc[idx, 'issue_state'] = issue['title'], issue['state']\n",
    "   \n",
    "                df.loc[idx, \"issue_creator\"] = issue[\"user\"].get(\"login\")\n",
    "                \n",
    "                # Create a cloumn that stores the name of the person who closed the issue\n",
    "                # else if the issue is Open the column value will be None\n",
    "                df.loc[idx, \"issue_closed_by\"] = get_actor_for_closed_issue( issue[\"events_url\"], git_obj )\n",
    "                \n",
    "                df.loc[idx, 'last_created_date'] = issue.get('created_at').strip('Z').split('T')[0]\n",
    "                df.loc[idx, 'last_created_time'] = issue.get('created_at').strip('Z').split('T')[-1]\n",
    "                df.loc[idx, 'last_updated_date'] = issue.get('updated_at').strip('Z').split('T')[0]\n",
    "                df.loc[idx, 'last_updated_time'] = issue.get('updated_at').strip('Z').split('T')[-1]\n",
    "                \n",
    "                \n",
    "                idx +=1\n",
    "        page+=1\n",
    "    return df\n",
    "\n"
   ]
  },
  {
   "cell_type": "code",
   "execution_count": 7,
   "id": "04751a7f-57b6-4f4f-b915-58e35e6cb166",
   "metadata": {
    "execution": {
     "iopub.execute_input": "2023-02-04T13:21:32.196394Z",
     "iopub.status.busy": "2023-02-04T13:21:32.196161Z",
     "iopub.status.idle": "2023-02-04T13:25:41.056194Z",
     "shell.execute_reply": "2023-02-04T13:25:41.054365Z",
     "shell.execute_reply.started": "2023-02-04T13:21:32.196369Z"
    },
    "tags": []
   },
   "outputs": [
    {
     "name": "stdout",
     "output_type": "stream",
     "text": [
      "Total open Issues fetched: 834\n"
     ]
    }
   ],
   "source": [
    "df_all_issues = get_all_issues(REPO_URL)\n",
    "print(\"Total open Issues fetched:\", len(df_all_issues))"
   ]
  },
  {
   "cell_type": "code",
   "execution_count": 8,
   "id": "ddf7e829-0c0f-4b58-9fa4-92c485f20258",
   "metadata": {
    "execution": {
     "iopub.execute_input": "2023-02-04T13:25:45.721156Z",
     "iopub.status.busy": "2023-02-04T13:25:45.720862Z",
     "iopub.status.idle": "2023-02-04T13:25:45.750055Z",
     "shell.execute_reply": "2023-02-04T13:25:45.749455Z",
     "shell.execute_reply.started": "2023-02-04T13:25:45.721125Z"
    },
    "tags": []
   },
   "outputs": [
    {
     "data": {
      "text/html": [
       "<div>\n",
       "<style scoped>\n",
       "    .dataframe tbody tr th:only-of-type {\n",
       "        vertical-align: middle;\n",
       "    }\n",
       "\n",
       "    .dataframe tbody tr th {\n",
       "        vertical-align: top;\n",
       "    }\n",
       "\n",
       "    .dataframe thead th {\n",
       "        text-align: right;\n",
       "    }\n",
       "</style>\n",
       "<table border=\"1\" class=\"dataframe\">\n",
       "  <thead>\n",
       "    <tr style=\"text-align: right;\">\n",
       "      <th></th>\n",
       "      <th>link_to_the_issue</th>\n",
       "      <th>issue_number</th>\n",
       "      <th>issue_title</th>\n",
       "      <th>issue_state</th>\n",
       "      <th>issue_creator</th>\n",
       "      <th>issue_closed_by</th>\n",
       "      <th>last_created_date</th>\n",
       "      <th>last_created_time</th>\n",
       "      <th>last_updated_date</th>\n",
       "      <th>last_updated_time</th>\n",
       "    </tr>\n",
       "  </thead>\n",
       "  <tbody>\n",
       "    <tr>\n",
       "      <th>0</th>\n",
       "      <td>https://github.com/jupyter-naas/awesome-notebo...</td>\n",
       "      <td>1401.0</td>\n",
       "      <td>Tool - Action of the notebook</td>\n",
       "      <td>open</td>\n",
       "      <td>mustafavi11</td>\n",
       "      <td>NaN</td>\n",
       "      <td>2023-02-04</td>\n",
       "      <td>08:52:55</td>\n",
       "      <td>2023-02-04</td>\n",
       "      <td>08:52:55</td>\n",
       "    </tr>\n",
       "    <tr>\n",
       "      <th>1</th>\n",
       "      <td>https://github.com/jupyter-naas/awesome-notebo...</td>\n",
       "      <td>1400.0</td>\n",
       "      <td>SpaCy - Tokenize a text corpus</td>\n",
       "      <td>open</td>\n",
       "      <td>jravenel</td>\n",
       "      <td>NaN</td>\n",
       "      <td>2023-02-02</td>\n",
       "      <td>16:59:56</td>\n",
       "      <td>2023-02-02</td>\n",
       "      <td>17:01:41</td>\n",
       "    </tr>\n",
       "    <tr>\n",
       "      <th>2</th>\n",
       "      <td>https://github.com/jupyter-naas/awesome-notebo...</td>\n",
       "      <td>1399.0</td>\n",
       "      <td>OpenBB - Create template with SPY</td>\n",
       "      <td>open</td>\n",
       "      <td>FlorentLvr</td>\n",
       "      <td>NaN</td>\n",
       "      <td>2023-02-02</td>\n",
       "      <td>16:47:12</td>\n",
       "      <td>2023-02-02</td>\n",
       "      <td>16:47:43</td>\n",
       "    </tr>\n",
       "    <tr>\n",
       "      <th>3</th>\n",
       "      <td>https://github.com/jupyter-naas/awesome-notebo...</td>\n",
       "      <td>1398.0</td>\n",
       "      <td>FEC - Create Barline chart</td>\n",
       "      <td>open</td>\n",
       "      <td>FlorentLvr</td>\n",
       "      <td>NaN</td>\n",
       "      <td>2023-02-02</td>\n",
       "      <td>16:34:58</td>\n",
       "      <td>2023-02-02</td>\n",
       "      <td>16:35:52</td>\n",
       "    </tr>\n",
       "    <tr>\n",
       "      <th>4</th>\n",
       "      <td>https://github.com/jupyter-naas/awesome-notebo...</td>\n",
       "      <td>1397.0</td>\n",
       "      <td>FEC - Create double line chart</td>\n",
       "      <td>open</td>\n",
       "      <td>FlorentLvr</td>\n",
       "      <td>NaN</td>\n",
       "      <td>2023-02-02</td>\n",
       "      <td>16:33:46</td>\n",
       "      <td>2023-02-02</td>\n",
       "      <td>16:35:47</td>\n",
       "    </tr>\n",
       "  </tbody>\n",
       "</table>\n",
       "</div>"
      ],
      "text/plain": [
       "                                   link_to_the_issue  issue_number  \\\n",
       "0  https://github.com/jupyter-naas/awesome-notebo...        1401.0   \n",
       "1  https://github.com/jupyter-naas/awesome-notebo...        1400.0   \n",
       "2  https://github.com/jupyter-naas/awesome-notebo...        1399.0   \n",
       "3  https://github.com/jupyter-naas/awesome-notebo...        1398.0   \n",
       "4  https://github.com/jupyter-naas/awesome-notebo...        1397.0   \n",
       "\n",
       "                         issue_title issue_state issue_creator  \\\n",
       "0     Tool - Action of the notebook         open   mustafavi11   \n",
       "1     SpaCy - Tokenize a text corpus        open      jravenel   \n",
       "2  OpenBB - Create template with SPY        open    FlorentLvr   \n",
       "3         FEC - Create Barline chart        open    FlorentLvr   \n",
       "4     FEC - Create double line chart        open    FlorentLvr   \n",
       "\n",
       "  issue_closed_by last_created_date last_created_time last_updated_date  \\\n",
       "0             NaN        2023-02-04          08:52:55        2023-02-04   \n",
       "1             NaN        2023-02-02          16:59:56        2023-02-02   \n",
       "2             NaN        2023-02-02          16:47:12        2023-02-02   \n",
       "3             NaN        2023-02-02          16:34:58        2023-02-02   \n",
       "4             NaN        2023-02-02          16:33:46        2023-02-02   \n",
       "\n",
       "  last_updated_time  \n",
       "0          08:52:55  \n",
       "1          17:01:41  \n",
       "2          16:47:43  \n",
       "3          16:35:52  \n",
       "4          16:35:47  "
      ]
     },
     "execution_count": 8,
     "metadata": {},
     "output_type": "execute_result"
    }
   ],
   "source": [
    "df_all_issues.head()"
   ]
  },
  {
   "cell_type": "code",
   "execution_count": 9,
   "id": "2f44a5e6-0968-42ea-90ce-0e80bf0b90e8",
   "metadata": {
    "execution": {
     "iopub.execute_input": "2023-02-04T13:25:56.059220Z",
     "iopub.status.busy": "2023-02-04T13:25:56.058867Z",
     "iopub.status.idle": "2023-02-04T13:25:56.072387Z",
     "shell.execute_reply": "2023-02-04T13:25:56.071604Z",
     "shell.execute_reply.started": "2023-02-04T13:25:56.059181Z"
    },
    "tags": []
   },
   "outputs": [],
   "source": [
    "def get_issue_pr_comments(repo_url):\n",
    "    '''\n",
    "    The function retrieves all the issue comments and pr comments for a given r\n",
    "    repository url.\n",
    "    The function returns a dataframe with following columns for an issue comment/pr comment\n",
    "    \n",
    "    comment_id\n",
    "    issue_url\n",
    "    comment_by\n",
    "    comment_body\n",
    "    '''\n",
    "    git_obj = github.connect(GITHUB_TOKEN)\n",
    "    repository = git_obj.get_repository_url(repo_url)\n",
    "    df = pd.DataFrame()\n",
    "    page, idx = 1, 0\n",
    "    while True:\n",
    "        params = {\n",
    "                \"per_page\": \"100\",\n",
    "                \"page\": page,\n",
    "            }\n",
    "        \n",
    "        # Api to get open issues from github\n",
    "       \n",
    "        url = f\"https://api.github.com/repos/{repository}/issues/comments?{urlencode(params, safe='(),')}\"\n",
    "        res = requests.get(url, headers=git_obj.headers)\n",
    "        try:\n",
    "            res.raise_for_status()\n",
    "        except requests.HTTPError as e:\n",
    "            raise(e)\n",
    "        \n",
    "        res_json = res.json()\n",
    "        if len(res_json) == 0:\n",
    "            break\n",
    "        \n",
    "#         print(len(res_json))\n",
    "        for issue_comment in res_json:\n",
    "            df.loc[idx, \"comment_id\"] = issue_comment[\"id\"]\n",
    "            df.loc[idx, \"issue_url\"] = issue_comment[\"issue_url\"]\n",
    "            df.loc[idx, \"comment_by\"] = issue_comment[\"user\"][\"login\"]\n",
    "            df.loc[idx, \"comment_body\"] = issue_comment[\"body\"]\n",
    "            \n",
    "            idx +=1\n",
    "        page += 1\n",
    "        \n",
    "    return df"
   ]
  },
  {
   "cell_type": "code",
   "execution_count": 11,
   "id": "e3bdf2e4-ad77-4cfd-824f-aa91aec5bd33",
   "metadata": {
    "execution": {
     "iopub.execute_input": "2023-02-04T13:26:09.022427Z",
     "iopub.status.busy": "2023-02-04T13:26:09.022175Z",
     "iopub.status.idle": "2023-02-04T13:26:23.282838Z",
     "shell.execute_reply": "2023-02-04T13:26:23.282059Z",
     "shell.execute_reply.started": "2023-02-04T13:26:09.022400Z"
    },
    "tags": []
   },
   "outputs": [
    {
     "data": {
      "text/html": [
       "<div>\n",
       "<style scoped>\n",
       "    .dataframe tbody tr th:only-of-type {\n",
       "        vertical-align: middle;\n",
       "    }\n",
       "\n",
       "    .dataframe tbody tr th {\n",
       "        vertical-align: top;\n",
       "    }\n",
       "\n",
       "    .dataframe thead th {\n",
       "        text-align: right;\n",
       "    }\n",
       "</style>\n",
       "<table border=\"1\" class=\"dataframe\">\n",
       "  <thead>\n",
       "    <tr style=\"text-align: right;\">\n",
       "      <th></th>\n",
       "      <th>comment_id</th>\n",
       "      <th>issue_url</th>\n",
       "      <th>comment_by</th>\n",
       "      <th>comment_body</th>\n",
       "    </tr>\n",
       "  </thead>\n",
       "  <tbody>\n",
       "    <tr>\n",
       "      <th>0</th>\n",
       "      <td>718561230.0</td>\n",
       "      <td>https://api.github.com/repos/jupyter-naas/awes...</td>\n",
       "      <td>BobCashStory</td>\n",
       "      <td>https://github.com/jupyter-naas/awesome-notebo...</td>\n",
       "    </tr>\n",
       "    <tr>\n",
       "      <th>1</th>\n",
       "      <td>718561597.0</td>\n",
       "      <td>https://api.github.com/repos/jupyter-naas/awes...</td>\n",
       "      <td>BobCashStory</td>\n",
       "      <td>https://github.com/jupyter-naas/awesome-notebo...</td>\n",
       "    </tr>\n",
       "    <tr>\n",
       "      <th>2</th>\n",
       "      <td>718562018.0</td>\n",
       "      <td>https://api.github.com/repos/jupyter-naas/awes...</td>\n",
       "      <td>BobCashStory</td>\n",
       "      <td>https://github.com/jupyter-naas/awesome-notebo...</td>\n",
       "    </tr>\n",
       "    <tr>\n",
       "      <th>3</th>\n",
       "      <td>721256997.0</td>\n",
       "      <td>https://api.github.com/repos/jupyter-naas/awes...</td>\n",
       "      <td>jravenel</td>\n",
       "      <td>Input Laden \\r\\n- app : https://app.landen.co/...</td>\n",
       "    </tr>\n",
       "    <tr>\n",
       "      <th>4</th>\n",
       "      <td>746005918.0</td>\n",
       "      <td>https://api.github.com/repos/jupyter-naas/awes...</td>\n",
       "      <td>sanjaysabu4205</td>\n",
       "      <td>Snowflake using CRUD method</td>\n",
       "    </tr>\n",
       "  </tbody>\n",
       "</table>\n",
       "</div>"
      ],
      "text/plain": [
       "    comment_id                                          issue_url  \\\n",
       "0  718561230.0  https://api.github.com/repos/jupyter-naas/awes...   \n",
       "1  718561597.0  https://api.github.com/repos/jupyter-naas/awes...   \n",
       "2  718562018.0  https://api.github.com/repos/jupyter-naas/awes...   \n",
       "3  721256997.0  https://api.github.com/repos/jupyter-naas/awes...   \n",
       "4  746005918.0  https://api.github.com/repos/jupyter-naas/awes...   \n",
       "\n",
       "       comment_by                                       comment_body  \n",
       "0    BobCashStory  https://github.com/jupyter-naas/awesome-notebo...  \n",
       "1    BobCashStory  https://github.com/jupyter-naas/awesome-notebo...  \n",
       "2    BobCashStory  https://github.com/jupyter-naas/awesome-notebo...  \n",
       "3        jravenel  Input Laden \\r\\n- app : https://app.landen.co/...  \n",
       "4  sanjaysabu4205                        Snowflake using CRUD method  "
      ]
     },
     "execution_count": 11,
     "metadata": {},
     "output_type": "execute_result"
    }
   ],
   "source": [
    "df_all_comments = get_issue_pr_comments(REPO_URL)\n",
    "df_all_comments.head()"
   ]
  },
  {
   "cell_type": "code",
   "execution_count": 12,
   "id": "24ee4515-c985-4b5a-b207-d06d7c9f1fb1",
   "metadata": {
    "execution": {
     "iopub.execute_input": "2023-02-04T13:26:43.814039Z",
     "iopub.status.busy": "2023-02-04T13:26:43.813811Z",
     "iopub.status.idle": "2023-02-04T13:26:43.820268Z",
     "shell.execute_reply": "2023-02-04T13:26:43.819595Z",
     "shell.execute_reply.started": "2023-02-04T13:26:43.814015Z"
    },
    "tags": []
   },
   "outputs": [],
   "source": [
    "def get_contributors_details(repo_url):\n",
    "    '''\n",
    "    The function retrieves contributors for a given repository url\n",
    "    This function returns a dataframe of contributors with following columns\n",
    "    \n",
    "    contributor_name\n",
    "    issues_created\n",
    "    issues_closed\n",
    "    issue_pr_comments\n",
    "    commits\n",
    "    \n",
    "    '''\n",
    "    git_obj = github.connect(GITHUB_TOKEN)\n",
    "    repository = git_obj.get_repository_url(repo_url)\n",
    "    df = pd.DataFrame()\n",
    "    page, idx = 1, 0\n",
    "    while True:\n",
    "        params = {\n",
    "                \"per_page\": \"100\",\n",
    "                \"page\": page,\n",
    "            }\n",
    "        url = f\"https://api.github.com/repos/{repository}/contributors?{urlencode(params, safe='(),')}\"\n",
    "        res = requests.get(url, headers=git_obj.headers)\n",
    "        try:\n",
    "            res.raise_for_status()\n",
    "        except requests.HTTPError as e:\n",
    "            raise(e)\n",
    "        \n",
    "        res_json = res.json()\n",
    "        if len(res_json) == 0:\n",
    "            break\n",
    "        \n",
    "        for contributor in res_json:\n",
    "            df.loc[idx, \"contributor_name\"] = contributor[\"login\"]\n",
    "            # create a column to store number of issues created by a contributor\n",
    "            df.loc[idx, \"issues_created\"] = len(df_all_issues.loc[df_all_issues[\"issue_creator\"]==contributor[\"login\"]])\n",
    "            # create a column to store number of issues closed by a contributor\n",
    "            \n",
    "            df.loc[idx, \"issues_closed\"] = len(df_all_issues.loc[df_all_issues[\"issue_closed_by\"]==contributor[\"login\"]])\n",
    "            \n",
    "            # Need to get df for issue comments and PR comments\n",
    "            df.loc[idx, \"issue_pr_comments\"] = len(df_all_comments.loc[df_all_comments[\"comment_by\"] == contributor[\"login\"]])\n",
    "            \n",
    "            # add a column to store number of commits made by a contributor\n",
    "            df.loc[idx, \"commits\"] = len(git_obj.repos.get_commits(REPO_URL, contributor[\"login\"]))\n",
    "            idx +=1\n",
    "        \n",
    "        page += 1\n",
    "    \n",
    "    return df"
   ]
  },
  {
   "cell_type": "code",
   "execution_count": 13,
   "id": "0bf5f7fc-3d7e-4118-97e7-8b52fdefeee2",
   "metadata": {
    "execution": {
     "iopub.execute_input": "2023-02-04T13:27:25.751869Z",
     "iopub.status.busy": "2023-02-04T13:27:25.751646Z",
     "iopub.status.idle": "2023-02-04T13:28:09.581620Z",
     "shell.execute_reply": "2023-02-04T13:28:09.581027Z",
     "shell.execute_reply.started": "2023-02-04T13:27:25.751846Z"
    },
    "tags": []
   },
   "outputs": [],
   "source": [
    "df_contributors = get_contributors_details(REPO_URL)"
   ]
  },
  {
   "cell_type": "code",
   "execution_count": 15,
   "id": "f8c2b73c-022b-4316-a9f8-3c72c98d8a11",
   "metadata": {
    "execution": {
     "iopub.execute_input": "2023-02-04T13:28:40.741711Z",
     "iopub.status.busy": "2023-02-04T13:28:40.741480Z",
     "iopub.status.idle": "2023-02-04T13:28:40.747779Z",
     "shell.execute_reply": "2023-02-04T13:28:40.747177Z",
     "shell.execute_reply.started": "2023-02-04T13:28:40.741687Z"
    },
    "tags": []
   },
   "outputs": [],
   "source": [
    "# Add a column of points for contributors df\n",
    "df_contributors[\"pts\"] = 1*df_contributors[\"issues_created\"] + 1*df_contributors[\"issues_closed\"] + 0.5*df_contributors[\"issue_pr_comments\"]"
   ]
  },
  {
   "cell_type": "code",
   "execution_count": 17,
   "id": "3443a9d4-d3c7-49cb-aca5-927dd5a326f6",
   "metadata": {
    "execution": {
     "iopub.execute_input": "2023-02-04T13:28:50.331848Z",
     "iopub.status.busy": "2023-02-04T13:28:50.331622Z",
     "iopub.status.idle": "2023-02-04T13:28:50.344029Z",
     "shell.execute_reply": "2023-02-04T13:28:50.343117Z",
     "shell.execute_reply.started": "2023-02-04T13:28:50.331825Z"
    },
    "tags": []
   },
   "outputs": [
    {
     "data": {
      "text/html": [
       "<div>\n",
       "<style scoped>\n",
       "    .dataframe tbody tr th:only-of-type {\n",
       "        vertical-align: middle;\n",
       "    }\n",
       "\n",
       "    .dataframe tbody tr th {\n",
       "        vertical-align: top;\n",
       "    }\n",
       "\n",
       "    .dataframe thead th {\n",
       "        text-align: right;\n",
       "    }\n",
       "</style>\n",
       "<table border=\"1\" class=\"dataframe\">\n",
       "  <thead>\n",
       "    <tr style=\"text-align: right;\">\n",
       "      <th></th>\n",
       "      <th>contributor_name</th>\n",
       "      <th>issues_created</th>\n",
       "      <th>issues_closed</th>\n",
       "      <th>issue_pr_comments</th>\n",
       "      <th>commits</th>\n",
       "      <th>pts</th>\n",
       "    </tr>\n",
       "  </thead>\n",
       "  <tbody>\n",
       "    <tr>\n",
       "      <th>0</th>\n",
       "      <td>FlorentLvr</td>\n",
       "      <td>354.0</td>\n",
       "      <td>160.0</td>\n",
       "      <td>285.0</td>\n",
       "      <td>265.0</td>\n",
       "      <td>656.5</td>\n",
       "    </tr>\n",
       "    <tr>\n",
       "      <th>1</th>\n",
       "      <td>fravenel</td>\n",
       "      <td>0.0</td>\n",
       "      <td>0.0</td>\n",
       "      <td>0.0</td>\n",
       "      <td>280.0</td>\n",
       "      <td>0.0</td>\n",
       "    </tr>\n",
       "    <tr>\n",
       "      <th>2</th>\n",
       "      <td>jravenel</td>\n",
       "      <td>107.0</td>\n",
       "      <td>64.0</td>\n",
       "      <td>507.0</td>\n",
       "      <td>142.0</td>\n",
       "      <td>424.5</td>\n",
       "    </tr>\n",
       "    <tr>\n",
       "      <th>3</th>\n",
       "      <td>Dr0p42</td>\n",
       "      <td>293.0</td>\n",
       "      <td>14.0</td>\n",
       "      <td>114.0</td>\n",
       "      <td>93.0</td>\n",
       "      <td>364.0</td>\n",
       "    </tr>\n",
       "    <tr>\n",
       "      <th>4</th>\n",
       "      <td>tparente-ui</td>\n",
       "      <td>7.0</td>\n",
       "      <td>0.0</td>\n",
       "      <td>2.0</td>\n",
       "      <td>98.0</td>\n",
       "      <td>8.0</td>\n",
       "    </tr>\n",
       "  </tbody>\n",
       "</table>\n",
       "</div>"
      ],
      "text/plain": [
       "  contributor_name  issues_created  issues_closed  issue_pr_comments  commits  \\\n",
       "0       FlorentLvr           354.0          160.0              285.0    265.0   \n",
       "1         fravenel             0.0            0.0                0.0    280.0   \n",
       "2         jravenel           107.0           64.0              507.0    142.0   \n",
       "3           Dr0p42           293.0           14.0              114.0     93.0   \n",
       "4      tparente-ui             7.0            0.0                2.0     98.0   \n",
       "\n",
       "     pts  \n",
       "0  656.5  \n",
       "1    0.0  \n",
       "2  424.5  \n",
       "3  364.0  \n",
       "4    8.0  "
      ]
     },
     "execution_count": 17,
     "metadata": {},
     "output_type": "execute_result"
    }
   ],
   "source": [
    "df_contributors.head()"
   ]
  },
  {
   "cell_type": "code",
   "execution_count": 18,
   "id": "845dce91-a98b-4d1f-bb2d-ea45482c2a50",
   "metadata": {
    "execution": {
     "iopub.execute_input": "2023-02-04T13:29:48.452116Z",
     "iopub.status.busy": "2023-02-04T13:29:48.451882Z",
     "iopub.status.idle": "2023-02-04T13:29:48.455218Z",
     "shell.execute_reply": "2023-02-04T13:29:48.454489Z",
     "shell.execute_reply.started": "2023-02-04T13:29:48.452090Z"
    },
    "tags": []
   },
   "outputs": [],
   "source": [
    "def get_contributors_leaders(df):\n",
    "    \n",
    "    return df.sort_values(by=\"pts\", ascending=False).reset_index(drop=True)\n"
   ]
  },
  {
   "cell_type": "code",
   "execution_count": 20,
   "id": "d2fb673a-494b-4362-b7e5-d4547a8b6b9a",
   "metadata": {
    "execution": {
     "iopub.execute_input": "2023-02-04T13:30:04.523270Z",
     "iopub.status.busy": "2023-02-04T13:30:04.523031Z",
     "iopub.status.idle": "2023-02-04T13:30:04.536329Z",
     "shell.execute_reply": "2023-02-04T13:30:04.535584Z",
     "shell.execute_reply.started": "2023-02-04T13:30:04.523247Z"
    },
    "tags": []
   },
   "outputs": [
    {
     "data": {
      "text/html": [
       "<div>\n",
       "<style scoped>\n",
       "    .dataframe tbody tr th:only-of-type {\n",
       "        vertical-align: middle;\n",
       "    }\n",
       "\n",
       "    .dataframe tbody tr th {\n",
       "        vertical-align: top;\n",
       "    }\n",
       "\n",
       "    .dataframe thead th {\n",
       "        text-align: right;\n",
       "    }\n",
       "</style>\n",
       "<table border=\"1\" class=\"dataframe\">\n",
       "  <thead>\n",
       "    <tr style=\"text-align: right;\">\n",
       "      <th></th>\n",
       "      <th>contributor_name</th>\n",
       "      <th>issues_created</th>\n",
       "      <th>issues_closed</th>\n",
       "      <th>issue_pr_comments</th>\n",
       "      <th>commits</th>\n",
       "      <th>pts</th>\n",
       "    </tr>\n",
       "  </thead>\n",
       "  <tbody>\n",
       "    <tr>\n",
       "      <th>0</th>\n",
       "      <td>FlorentLvr</td>\n",
       "      <td>354.0</td>\n",
       "      <td>160.0</td>\n",
       "      <td>285.0</td>\n",
       "      <td>265.0</td>\n",
       "      <td>656.5</td>\n",
       "    </tr>\n",
       "    <tr>\n",
       "      <th>1</th>\n",
       "      <td>jravenel</td>\n",
       "      <td>107.0</td>\n",
       "      <td>64.0</td>\n",
       "      <td>507.0</td>\n",
       "      <td>142.0</td>\n",
       "      <td>424.5</td>\n",
       "    </tr>\n",
       "    <tr>\n",
       "      <th>2</th>\n",
       "      <td>Dr0p42</td>\n",
       "      <td>293.0</td>\n",
       "      <td>14.0</td>\n",
       "      <td>114.0</td>\n",
       "      <td>93.0</td>\n",
       "      <td>364.0</td>\n",
       "    </tr>\n",
       "    <tr>\n",
       "      <th>3</th>\n",
       "      <td>SanjuEpic</td>\n",
       "      <td>11.0</td>\n",
       "      <td>0.0</td>\n",
       "      <td>59.0</td>\n",
       "      <td>75.0</td>\n",
       "      <td>40.5</td>\n",
       "    </tr>\n",
       "    <tr>\n",
       "      <th>4</th>\n",
       "      <td>SuhasBRao</td>\n",
       "      <td>0.0</td>\n",
       "      <td>0.0</td>\n",
       "      <td>62.0</td>\n",
       "      <td>11.0</td>\n",
       "      <td>31.0</td>\n",
       "    </tr>\n",
       "  </tbody>\n",
       "</table>\n",
       "</div>"
      ],
      "text/plain": [
       "  contributor_name  issues_created  issues_closed  issue_pr_comments  commits  \\\n",
       "0       FlorentLvr           354.0          160.0              285.0    265.0   \n",
       "1         jravenel           107.0           64.0              507.0    142.0   \n",
       "2           Dr0p42           293.0           14.0              114.0     93.0   \n",
       "3        SanjuEpic            11.0            0.0               59.0     75.0   \n",
       "4        SuhasBRao             0.0            0.0               62.0     11.0   \n",
       "\n",
       "     pts  \n",
       "0  656.5  \n",
       "1  424.5  \n",
       "2  364.0  \n",
       "3   40.5  \n",
       "4   31.0  "
      ]
     },
     "execution_count": 20,
     "metadata": {},
     "output_type": "execute_result"
    }
   ],
   "source": [
    "# df = get_commits(df_commits)\n",
    "df_leaderboard = get_contributors_leaders(df_contributors)\n",
    "df_leaderboard.head()"
   ]
  },
  {
   "cell_type": "code",
   "execution_count": null,
   "id": "dc462a9e-c126-4a80-8145-fce8bf7ce632",
   "metadata": {},
   "outputs": [],
   "source": []
  }
 ],
 "metadata": {
  "kernelspec": {
   "display_name": "Python 3",
   "language": "python",
   "name": "python3"
  },
  "language_info": {
   "codemirror_mode": {
    "name": "ipython",
    "version": 3
   },
   "file_extension": ".py",
   "mimetype": "text/x-python",
   "name": "python",
   "nbconvert_exporter": "python",
   "pygments_lexer": "ipython3",
   "version": "3.9.6"
  },
  "toc-autonumbering": false,
  "toc-showcode": false,
  "toc-showmarkdowntxt": false
 },
 "nbformat": 4,
 "nbformat_minor": 5
}
