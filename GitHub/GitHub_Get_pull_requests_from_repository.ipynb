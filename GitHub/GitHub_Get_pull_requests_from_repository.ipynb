{
 "cells": [
  {
   "cell_type": "markdown",
   "id": "d0bac9aa-0a84-46d7-857c-c46fdcb59e94",
   "metadata": {
    "papermill": {},
    "tags": []
   },
   "source": [
    "<img width=\"10%\" alt=\"Naas\" src=\"https://landen.imgix.net/jtci2pxwjczr/assets/5ice39g4.png?w=160\"/>"
   ]
  },
  {
   "cell_type": "markdown",
   "id": "2654c74b-0b54-4eb9-84ab-49e738c66780",
   "metadata": {
    "papermill": {},
    "tags": []
   },
   "source": [
    "# GitHub - Get pull requests from repository\n",
    "<a href=\"https://app.naas.ai/user-redirect/naas/downloader?url=https://raw.githubusercontent.com/jupyter-naas/awesome-notebooks/master/GitHub/GitHub_Get_pull_requests_from_repository.ipynb\" target=\"_parent\"><img src=\"https://naasai-public.s3.eu-west-3.amazonaws.com/open_in_naas.svg\"/></a><br><br><a href=\"https://github.com/jupyter-naas/awesome-notebooks/issues/new?assignees=&labels=&template=template-request.md&title=Tool+-+Action+of+the+notebook+\">Template request</a> | <a href=\"https://github.com/jupyter-naas/awesome-notebooks/issues/new?assignees=&labels=bug&template=bug_report.md&title=GitHub+-+Get+pull+requests+from+repository:+Error+short+description\">Bug report</a>"
   ]
  },
  {
   "cell_type": "markdown",
   "id": "34c5fdf7-5e74-4a1a-a54b-b0c3dd33ad0b",
   "metadata": {
    "papermill": {},
    "tags": []
   },
   "source": [
    "**Tags:** #github #repos #pulls #PR #operations #analytics #plotly #dataframe"
   ]
  },
  {
   "cell_type": "markdown",
   "id": "479cdb1d-1d4e-4078-a53d-f59c83a3b7d9",
   "metadata": {
    "papermill": {},
    "tags": []
   },
   "source": [
    "**Author:** [Sanjeet Attili](https://www.linkedin.com/in/sanjeet-attili-760bab190/)"
   ]
  },
  {
   "cell_type": "markdown",
   "id": "f149dfbd-4803-4112-820e-b140042edb1f",
   "metadata": {
    "execution": {
     "iopub.execute_input": "2022-02-16T14:01:28.389401Z",
     "iopub.status.busy": "2022-02-16T14:01:28.389077Z",
     "iopub.status.idle": "2022-02-16T14:01:28.405764Z",
     "shell.execute_reply": "2022-02-16T14:01:28.404815Z",
     "shell.execute_reply.started": "2022-02-16T14:01:28.389311Z"
    },
    "papermill": {},
    "tags": []
   },
   "source": [
    "The objective of this notebook is to maintain a track of open pull requests that have been pending a review since more than 7 days within a repository"
   ]
  },
  {
   "cell_type": "markdown",
   "id": "2229e144-819b-4c99-b5c4-b3e121dd59eb",
   "metadata": {
    "papermill": {},
    "tags": []
   },
   "source": [
    "## Input"
   ]
  },
  {
   "cell_type": "markdown",
   "id": "61f1a7ea-77b2-49e0-8e9b-a1b5da09b3dd",
   "metadata": {
    "papermill": {},
    "tags": []
   },
   "source": [
    "### Imports"
   ]
  },
  {
   "cell_type": "code",
   "execution_count": 2,
   "id": "837efcdb-508a-4b10-a0c6-fe8d6acb55e5",
   "metadata": {
    "execution": {
     "iopub.execute_input": "2022-06-07T06:10:12.164914Z",
     "iopub.status.busy": "2022-06-07T06:10:12.164695Z",
     "iopub.status.idle": "2022-06-07T06:10:12.564886Z",
     "shell.execute_reply": "2022-06-07T06:10:12.563990Z",
     "shell.execute_reply.started": "2022-06-07T06:10:12.164892Z"
    },
    "papermill": {},
    "tags": []
   },
   "outputs": [],
   "source": [
    "from naas_drivers import github"
   ]
  },
  {
   "cell_type": "markdown",
   "id": "1a7a322a-ca2b-4da3-89db-4b64dbb356a5",
   "metadata": {
    "papermill": {},
    "tags": []
   },
   "source": [
    "### Setup GitHub\n",
    "**How to find your personal access token on GitHub?**\n",
    "\n",
    "- First we need to create a personal access token to get the details of our organization from here: https://github.com/settings/tokens\n",
    "- You will be asked to select scopes for the token. Which scopes you choose will determine what information and actions you will be able to perform against the API.\n",
    "- You should be careful with the ones prefixed with write:, delete: and admin: as these might be quite destructive.\n",
    "- You can find description of each scope in docs here (https://docs.github.com/en/developers/apps/building-oauth-apps/scopes-for-oauth-apps)."
   ]
  },
  {
   "cell_type": "code",
   "execution_count": 4,
   "id": "22269aec-b412-446d-bada-51a5a2db0c99",
   "metadata": {
    "execution": {
     "iopub.execute_input": "2022-06-07T06:10:31.609369Z",
     "iopub.status.busy": "2022-06-07T06:10:31.609143Z",
     "iopub.status.idle": "2022-06-07T06:10:31.612216Z",
     "shell.execute_reply": "2022-06-07T06:10:31.611578Z",
     "shell.execute_reply.started": "2022-06-07T06:10:31.609344Z"
    },
    "papermill": {},
    "tags": []
   },
   "outputs": [],
   "source": [
    "# GitHub token\n",
    "GITHUB_TOKEN = \"ENTER_YOUR_GITHUB_TOKEN_HERE\" # EXAMPLE : \"ghp_fUYP0Z5i29AG4ggX8owctGnHU**********\"\n",
    "\n",
    "# Github repo on which we want to create issues.\n",
    "REPO_URL = \"ENTER_YOUR_REPO_URL_HERE\" # EXAMPLE : \"https://github.com/jupyter-naas/awesome-notebooks\""
   ]
  },
  {
   "cell_type": "markdown",
   "id": "24dedb0c-494b-42b7-8f3f-e2d32efb55de",
   "metadata": {
    "papermill": {},
    "tags": []
   },
   "source": [
    "## Model"
   ]
  },
  {
   "cell_type": "code",
   "execution_count": 5,
   "id": "5fb57fe6-5798-451c-82ce-60a1915a47aa",
   "metadata": {
    "execution": {
     "iopub.execute_input": "2022-06-07T06:10:33.485992Z",
     "iopub.status.busy": "2022-06-07T06:10:33.485679Z",
     "iopub.status.idle": "2022-06-07T06:10:34.200795Z",
     "shell.execute_reply": "2022-06-07T06:10:34.200071Z",
     "shell.execute_reply.started": "2022-06-07T06:10:33.485957Z"
    },
    "papermill": {},
    "tags": []
   },
   "outputs": [],
   "source": [
    "df_pulls = github.connect(GITHUB_TOKEN).repos.get_pulls(REPO_URL)"
   ]
  },
  {
   "cell_type": "markdown",
   "id": "ae32a0a1-93e8-4d70-93ab-c415817f7ae1",
   "metadata": {
    "papermill": {},
    "tags": []
   },
   "source": [
    "## Output"
   ]
  },
  {
   "cell_type": "markdown",
   "id": "9714651d-84eb-420c-94bf-798370955183",
   "metadata": {
    "papermill": {},
    "tags": []
   },
   "source": [
    "### Display result"
   ]
  },
  {
   "cell_type": "code",
   "execution_count": 6,
   "id": "89d29a24-daef-4dbf-9ead-6f739ee990d0",
   "metadata": {
    "execution": {
     "iopub.execute_input": "2022-06-07T06:10:35.102861Z",
     "iopub.status.busy": "2022-06-07T06:10:35.102538Z",
     "iopub.status.idle": "2022-06-07T06:10:35.145034Z",
     "shell.execute_reply": "2022-06-07T06:10:35.144355Z",
     "shell.execute_reply.started": "2022-06-07T06:10:35.102827Z"
    },
    "papermill": {},
    "tags": []
   },
   "outputs": [],
   "source": [
    "print(\"Opened PR:\", len(df_pulls))\n",
    "df_pulls"
   ]
  }
 ],
 "metadata": {
  "kernelspec": {
   "display_name": "Python 3",
   "language": "python",
   "name": "python3"
  },
  "language_info": {
   "codemirror_mode": {
    "name": "ipython",
    "version": 3
   },
   "file_extension": ".py",
   "mimetype": "text/x-python",
   "name": "python",
   "nbconvert_exporter": "python",
   "pygments_lexer": "ipython3",
   "version": "3.9.6"
  },
  "naas": {
   "notebook_id": "698c06ad-3ac4-4258-b49d-7a4aee351856",
   "notebook_path": "GitHub/GitHub_Get_pull_requests_from_repository.ipynb"
  },
  "papermill": {
   "default_parameters": {},
   "environment_variables": {},
   "parameters": {},
   "version": "2.3.4"
  }
 },
 "nbformat": 4,
 "nbformat_minor": 5
}