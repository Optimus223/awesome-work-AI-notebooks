{
 "cells": [
  {
   "cell_type": "markdown",
   "id": "62b53981-542a-4c3d-b7a1-053791ba7e2d",
   "metadata": {
    "papermill": {},
    "tags": []
   },
   "source": [
    "<img width=\"10%\" alt=\"Naas\" src=\"https://landen.imgix.net/jtci2pxwjczr/assets/5ice39g4.png?w=160\"/>"
   ]
  },
  {
   "cell_type": "markdown",
   "id": "5c199c98-a244-429c-8fd3-41ae0e06efc7",
   "metadata": {
    "papermill": {},
    "tags": []
   },
   "source": [
    "# GitHub - List all pull requests from repository name\n",
    "<a href=\"https://app.naas.ai/user-redirect/naas/downloader?url=https://raw.githubusercontent.com/jupyter-naas/awesome-notebooks/master/GitHub/GitHub_Get_Closed_PR_by_repo.ipynb\" target=\"_parent\"><img src=\"https://naasai-public.s3.eu-west-3.amazonaws.com/open_in_naas.svg\"/></a><br><br><a href=\"https://github.com/jupyter-naas/awesome-notebooks/issues/new?assignees=&labels=&template=template-request.md&title=Tool+-+Action+of+the+notebook+\">Template request</a> | <a href=\"https://github.com/jupyter-naas/awesome-notebooks/issues/new?assignees=&labels=bug&template=bug_report.md&title=GitHub+-+Get+Closed+PR+by+repo:+Error+short+description\">Bug report</a>"
   ]
  },
  {
   "cell_type": "markdown",
   "id": "cd9544a0-4ef4-4250-a4cc-3bded5ccbb18",
   "metadata": {
    "papermill": {},
    "tags": []
   },
   "source": [
    "**Tags:** #github #pygithub #repo #api #python"
   ]
  },
  {
   "cell_type": "markdown",
   "id": "a001fffd-d496-4194-80a4-5872acbd9452",
   "metadata": {
    "papermill": {},
    "tags": []
   },
   "source": [
    "**Author:** [Florent Ravenel](https://www.linkedin.com/in/florent-ravenel/)"
   ]
  },
  {
   "cell_type": "markdown",
   "id": "d2f016ec-10a6-46e2-9730-4e111c10371a",
   "metadata": {
    "papermill": {},
    "tags": []
   },
   "source": [
    "**Description:** This notebook list all pull requests from a repository name using pygithub library."
   ]
  },
  {
   "cell_type": "markdown",
   "id": "9cb89356-d105-4061-90b0-5653078e590f",
   "metadata": {
    "papermill": {},
    "tags": []
   },
   "source": [
    "**References:**\n",
    "- [PyGithub Documentation](https://pygithub.readthedocs.io/en/latest/)\n",
    "- [GitHub API Documentation](https://developer.github.com/v3/)"
   ]
  },
  {
   "cell_type": "markdown",
   "id": "3833753b-30f1-4254-9cf3-b498fde5de10",
   "metadata": {
    "papermill": {},
    "tags": []
   },
   "source": [
    "## Input"
   ]
  },
  {
   "cell_type": "markdown",
   "id": "50f9d1e9-6430-4e80-836f-2f905af104c9",
   "metadata": {
    "papermill": {},
    "tags": []
   },
   "source": [
    "### Import libraries"
   ]
  },
  {
   "cell_type": "code",
   "execution_count": 1,
   "id": "21788077-c209-4ab5-b047-7ce1b2f13e0f",
   "metadata": {
    "execution": {
     "iopub.execute_input": "2023-03-09T10:21:43.147408Z",
     "iopub.status.busy": "2023-03-09T10:21:43.146832Z",
     "iopub.status.idle": "2023-03-09T10:21:46.530666Z",
     "shell.execute_reply": "2023-03-09T10:21:46.530101Z",
     "shell.execute_reply.started": "2023-03-09T10:21:43.147208Z"
    },
    "papermill": {},
    "tags": []
   },
   "outputs": [],
   "source": [
    "import os\n",
    "import json\n",
    "from github import Github\n",
    "import naas"
   ]
  },
  {
   "cell_type": "markdown",
   "id": "d2c5d0f3-6237-4ba8-a6c8-80841aaa5265",
   "metadata": {
    "papermill": {},
    "tags": []
   },
   "source": [
    "### Setup Variables\n",
    "- `token`: [Generate a personal access token](https://docs.github.com/en/github/authenticating-to-github/creating-a-personal-access-token)\n",
    "- `repo_name`: name of the repository"
   ]
  },
  {
   "cell_type": "code",
   "execution_count": 2,
   "id": "c52ef7a6-909c-4fb2-85d5-98e2efc51563",
   "metadata": {
    "execution": {
     "iopub.execute_input": "2023-03-09T10:21:46.531928Z",
     "iopub.status.busy": "2023-03-09T10:21:46.531693Z",
     "iopub.status.idle": "2023-03-09T10:21:46.640513Z",
     "shell.execute_reply": "2023-03-09T10:21:46.640010Z",
     "shell.execute_reply.started": "2023-03-09T10:21:46.531886Z"
    },
    "papermill": {},
    "tags": []
   },
   "outputs": [],
   "source": [
    "token = naas.secret.get(\"GITHUB_TOKEN\") or \"YOUR_TOKEN\"\n",
    "repo_name = \"jupyter-naas/awesome-notebooks\""
   ]
  },
  {
   "cell_type": "markdown",
   "id": "b40d8294-dbf4-4ef4-95e1-5d35c0ed8641",
   "metadata": {
    "papermill": {},
    "tags": []
   },
   "source": [
    "## Model"
   ]
  },
  {
   "cell_type": "markdown",
   "id": "b6bf2319-417a-48f7-9d1e-6b3c00db290a",
   "metadata": {
    "papermill": {},
    "tags": []
   },
   "source": [
    "### List pull requests"
   ]
  },
  {
   "cell_type": "markdown",
   "id": "7960700e-a4b1-4303-95b4-c4f344f7b30d",
   "metadata": {
    "papermill": {},
    "tags": []
   },
   "source": [
    "Using the `Github` class from the `github` library, we can connect to the GitHub API and get the all PR from a given repository."
   ]
  },
  {
   "cell_type": "code",
   "execution_count": 3,
   "id": "fb0a9570-700a-46b5-ad36-322851b46dc1",
   "metadata": {
    "execution": {
     "iopub.execute_input": "2023-03-09T10:21:46.641622Z",
     "iopub.status.busy": "2023-03-09T10:21:46.641402Z",
     "iopub.status.idle": "2023-03-09T10:21:47.940574Z",
     "shell.execute_reply": "2023-03-09T10:21:47.939839Z",
     "shell.execute_reply.started": "2023-03-09T10:21:46.641593Z"
    },
    "papermill": {},
    "tags": []
   },
   "outputs": [],
   "source": [
    "# Connect to the GitHub API\n",
    "g = Github(token)\n",
    "# Get the repository\n",
    "repo = g.get_repo(repo_name)\n",
    "# Get the closed PR\n",
    "pull_requests = repo.get_pulls(state=\"all\")"
   ]
  },
  {
   "cell_type": "markdown",
   "id": "e83731c1-1974-4785-8a41-d8c84cef9e70",
   "metadata": {
    "papermill": {},
    "tags": []
   },
   "source": [
    "## Output"
   ]
  },
  {
   "cell_type": "markdown",
   "id": "ea084bc0-4d57-48ee-9682-895ccf1482de",
   "metadata": {
    "papermill": {},
    "tags": []
   },
   "source": [
    "### Display result"
   ]
  },
  {
   "cell_type": "code",
   "execution_count": 4,
   "id": "ca2c95d7-622c-4476-bf01-fa6d1c008c50",
   "metadata": {
    "execution": {
     "iopub.execute_input": "2023-03-09T10:21:47.943228Z",
     "iopub.status.busy": "2023-03-09T10:21:47.943016Z",
     "iopub.status.idle": "2023-03-09T10:21:49.986652Z",
     "shell.execute_reply": "2023-03-09T10:21:49.986004Z",
     "shell.execute_reply.started": "2023-03-09T10:21:47.943205Z"
    },
    "papermill": {},
    "tags": []
   },
   "outputs": [
    {
     "name": "stdout",
     "output_type": "stream",
     "text": [
      "✅ Pull Requests fetched: 499\n",
      "{\n",
      "    \"url\": \"https://api.github.com/repos/jupyter-naas/awesome-notebooks/pulls/1549\",\n",
      "    \"id\": 1269218826,\n",
      "    \"node_id\": \"PR_kwDOEeDlWM5Lpr4K\",\n",
      "    \"html_url\": \"https://github.com/jupyter-naas/awesome-notebooks/pull/1549\",\n",
      "    \"diff_url\": \"https://github.com/jupyter-naas/awesome-notebooks/pull/1549.diff\",\n",
      "    \"patch_url\": \"https://github.com/jupyter-naas/awesome-notebooks/pull/1549.patch\",\n",
      "    \"issue_url\": \"https://api.github.com/repos/jupyter-naas/awesome-notebooks/issues/1549\",\n",
      "    \"number\": 1549,\n",
      "    \"state\": \"open\",\n",
      "    \"locked\": false,\n",
      "    \"title\": \"feat: GitHub - List pull requests\",\n",
      "    \"user\": {\n",
      "        \"login\": \"FlorentLvr\",\n",
      "        \"id\": 48032461,\n",
      "        \"node_id\": \"MDQ6VXNlcjQ4MDMyNDYx\",\n",
      "        \"avatar_url\": \"https://avatars.githubusercontent.com/u/48032461?v=4\",\n",
      "        \"gravatar_id\": \"\",\n",
      "        \"url\": \"https://api.github.com/users/FlorentLvr\",\n",
      "        \"html_url\": \"https://github.com/FlorentLvr\",\n",
      "        \"followers_url\": \"https://api.github.com/users/FlorentLvr/followers\",\n",
      "        \"following_url\": \"https://api.github.com/users/FlorentLvr/following{/other_user}\",\n",
      "        \"gists_url\": \"https://api.github.com/users/FlorentLvr/gists{/gist_id}\",\n",
      "        \"starred_url\": \"https://api.github.com/users/FlorentLvr/starred{/owner}{/repo}\",\n",
      "        \"subscriptions_url\": \"https://api.github.com/users/FlorentLvr/subscriptions\",\n",
      "        \"organizations_url\": \"https://api.github.com/users/FlorentLvr/orgs\",\n",
      "        \"repos_url\": \"https://api.github.com/users/FlorentLvr/repos\",\n",
      "        \"events_url\": \"https://api.github.com/users/FlorentLvr/events{/privacy}\",\n",
      "        \"received_events_url\": \"https://api.github.com/users/FlorentLvr/received_events\",\n",
      "        \"type\": \"User\",\n",
      "        \"site_admin\": false\n",
      "    },\n",
      "    \"body\": \"This PR resolves https://github.com/jupyter-naas/awesome-notebooks/issues/1548\",\n",
      "    \"created_at\": \"2023-03-09T09:27:02Z\",\n",
      "    \"updated_at\": \"2023-03-09T09:27:04Z\",\n",
      "    \"closed_at\": null,\n",
      "    \"merged_at\": null,\n",
      "    \"merge_commit_sha\": \"8259657df6ca4f2693635d6de30d2c8670b215ac\",\n",
      "    \"assignee\": {\n",
      "        \"login\": \"FlorentLvr\",\n",
      "        \"id\": 48032461,\n",
      "        \"node_id\": \"MDQ6VXNlcjQ4MDMyNDYx\",\n",
      "        \"avatar_url\": \"https://avatars.githubusercontent.com/u/48032461?v=4\",\n",
      "        \"gravatar_id\": \"\",\n",
      "        \"url\": \"https://api.github.com/users/FlorentLvr\",\n",
      "        \"html_url\": \"https://github.com/FlorentLvr\",\n",
      "        \"followers_url\": \"https://api.github.com/users/FlorentLvr/followers\",\n",
      "        \"following_url\": \"https://api.github.com/users/FlorentLvr/following{/other_user}\",\n",
      "        \"gists_url\": \"https://api.github.com/users/FlorentLvr/gists{/gist_id}\",\n",
      "        \"starred_url\": \"https://api.github.com/users/FlorentLvr/starred{/owner}{/repo}\",\n",
      "        \"subscriptions_url\": \"https://api.github.com/users/FlorentLvr/subscriptions\",\n",
      "        \"organizations_url\": \"https://api.github.com/users/FlorentLvr/orgs\",\n",
      "        \"repos_url\": \"https://api.github.com/users/FlorentLvr/repos\",\n",
      "        \"events_url\": \"https://api.github.com/users/FlorentLvr/events{/privacy}\",\n",
      "        \"received_events_url\": \"https://api.github.com/users/FlorentLvr/received_events\",\n",
      "        \"type\": \"User\",\n",
      "        \"site_admin\": false\n",
      "    },\n",
      "    \"assignees\": [\n",
      "        {\n",
      "            \"login\": \"FlorentLvr\",\n",
      "            \"id\": 48032461,\n",
      "            \"node_id\": \"MDQ6VXNlcjQ4MDMyNDYx\",\n",
      "            \"avatar_url\": \"https://avatars.githubusercontent.com/u/48032461?v=4\",\n",
      "            \"gravatar_id\": \"\",\n",
      "            \"url\": \"https://api.github.com/users/FlorentLvr\",\n",
      "            \"html_url\": \"https://github.com/FlorentLvr\",\n",
      "            \"followers_url\": \"https://api.github.com/users/FlorentLvr/followers\",\n",
      "            \"following_url\": \"https://api.github.com/users/FlorentLvr/following{/other_user}\",\n",
      "            \"gists_url\": \"https://api.github.com/users/FlorentLvr/gists{/gist_id}\",\n",
      "            \"starred_url\": \"https://api.github.com/users/FlorentLvr/starred{/owner}{/repo}\",\n",
      "            \"subscriptions_url\": \"https://api.github.com/users/FlorentLvr/subscriptions\",\n",
      "            \"organizations_url\": \"https://api.github.com/users/FlorentLvr/orgs\",\n",
      "            \"repos_url\": \"https://api.github.com/users/FlorentLvr/repos\",\n",
      "            \"events_url\": \"https://api.github.com/users/FlorentLvr/events{/privacy}\",\n",
      "            \"received_events_url\": \"https://api.github.com/users/FlorentLvr/received_events\",\n",
      "            \"type\": \"User\",\n",
      "            \"site_admin\": false\n",
      "        }\n",
      "    ],\n",
      "    \"requested_reviewers\": [],\n",
      "    \"requested_teams\": [],\n",
      "    \"labels\": [\n",
      "        {\n",
      "            \"id\": 2388470225,\n",
      "            \"node_id\": \"MDU6TGFiZWwyMzg4NDcwMjI1\",\n",
      "            \"url\": \"https://api.github.com/repos/jupyter-naas/awesome-notebooks/labels/good%20first%20issue\",\n",
      "            \"name\": \"good first issue\",\n",
      "            \"color\": \"7057ff\",\n",
      "            \"default\": true,\n",
      "            \"description\": \"Good for newcomers\"\n",
      "        }\n",
      "    ],\n",
      "    \"milestone\": null,\n",
      "    \"draft\": false,\n",
      "    \"commits_url\": \"https://api.github.com/repos/jupyter-naas/awesome-notebooks/pulls/1549/commits\",\n",
      "    \"review_comments_url\": \"https://api.github.com/repos/jupyter-naas/awesome-notebooks/pulls/1549/comments\",\n",
      "    \"review_comment_url\": \"https://api.github.com/repos/jupyter-naas/awesome-notebooks/pulls/comments{/number}\",\n",
      "    \"comments_url\": \"https://api.github.com/repos/jupyter-naas/awesome-notebooks/issues/1549/comments\",\n",
      "    \"statuses_url\": \"https://api.github.com/repos/jupyter-naas/awesome-notebooks/statuses/7dda1028c4a1f6a5cbedf14b55e4c20a57332c13\",\n",
      "    \"head\": {\n",
      "        \"label\": \"jupyter-naas:1548-github-list-pull-requests\",\n",
      "        \"ref\": \"1548-github-list-pull-requests\",\n",
      "        \"sha\": \"7dda1028c4a1f6a5cbedf14b55e4c20a57332c13\",\n",
      "        \"user\": {\n",
      "            \"login\": \"jupyter-naas\",\n",
      "            \"id\": 71603764,\n",
      "            \"node_id\": \"MDEyOk9yZ2FuaXphdGlvbjcxNjAzNzY0\",\n",
      "            \"avatar_url\": \"https://avatars.githubusercontent.com/u/71603764?v=4\",\n",
      "            \"gravatar_id\": \"\",\n",
      "            \"url\": \"https://api.github.com/users/jupyter-naas\",\n",
      "            \"html_url\": \"https://github.com/jupyter-naas\",\n",
      "            \"followers_url\": \"https://api.github.com/users/jupyter-naas/followers\",\n",
      "            \"following_url\": \"https://api.github.com/users/jupyter-naas/following{/other_user}\",\n",
      "            \"gists_url\": \"https://api.github.com/users/jupyter-naas/gists{/gist_id}\",\n",
      "            \"starred_url\": \"https://api.github.com/users/jupyter-naas/starred{/owner}{/repo}\",\n",
      "            \"subscriptions_url\": \"https://api.github.com/users/jupyter-naas/subscriptions\",\n",
      "            \"organizations_url\": \"https://api.github.com/users/jupyter-naas/orgs\",\n",
      "            \"repos_url\": \"https://api.github.com/users/jupyter-naas/repos\",\n",
      "            \"events_url\": \"https://api.github.com/users/jupyter-naas/events{/privacy}\",\n",
      "            \"received_events_url\": \"https://api.github.com/users/jupyter-naas/received_events\",\n",
      "            \"type\": \"Organization\",\n",
      "            \"site_admin\": false\n",
      "        },\n",
      "        \"repo\": {\n",
      "            \"id\": 299951448,\n",
      "            \"node_id\": \"MDEwOlJlcG9zaXRvcnkyOTk5NTE0NDg=\",\n",
      "            \"name\": \"awesome-notebooks\",\n",
      "            \"full_name\": \"jupyter-naas/awesome-notebooks\",\n",
      "            \"private\": false,\n",
      "            \"owner\": {\n",
      "                \"login\": \"jupyter-naas\",\n",
      "                \"id\": 71603764,\n",
      "                \"node_id\": \"MDEyOk9yZ2FuaXphdGlvbjcxNjAzNzY0\",\n",
      "                \"avatar_url\": \"https://avatars.githubusercontent.com/u/71603764?v=4\",\n",
      "                \"gravatar_id\": \"\",\n",
      "                \"url\": \"https://api.github.com/users/jupyter-naas\",\n",
      "                \"html_url\": \"https://github.com/jupyter-naas\",\n",
      "                \"followers_url\": \"https://api.github.com/users/jupyter-naas/followers\",\n",
      "                \"following_url\": \"https://api.github.com/users/jupyter-naas/following{/other_user}\",\n",
      "                \"gists_url\": \"https://api.github.com/users/jupyter-naas/gists{/gist_id}\",\n",
      "                \"starred_url\": \"https://api.github.com/users/jupyter-naas/starred{/owner}{/repo}\",\n",
      "                \"subscriptions_url\": \"https://api.github.com/users/jupyter-naas/subscriptions\",\n",
      "                \"organizations_url\": \"https://api.github.com/users/jupyter-naas/orgs\",\n",
      "                \"repos_url\": \"https://api.github.com/users/jupyter-naas/repos\",\n",
      "                \"events_url\": \"https://api.github.com/users/jupyter-naas/events{/privacy}\",\n",
      "                \"received_events_url\": \"https://api.github.com/users/jupyter-naas/received_events\",\n",
      "                \"type\": \"Organization\",\n",
      "                \"site_admin\": false\n",
      "            },\n",
      "            \"html_url\": \"https://github.com/jupyter-naas/awesome-notebooks\",\n",
      "            \"description\": \"Ready to use data science templates, organized by tools to jumpstart your projects and data products in minutes. \\ud83d\\ude0e  published by the Naas community.\",\n",
      "            \"fork\": false,\n",
      "            \"url\": \"https://api.github.com/repos/jupyter-naas/awesome-notebooks\",\n",
      "            \"forks_url\": \"https://api.github.com/repos/jupyter-naas/awesome-notebooks/forks\",\n",
      "            \"keys_url\": \"https://api.github.com/repos/jupyter-naas/awesome-notebooks/keys{/key_id}\",\n",
      "            \"collaborators_url\": \"https://api.github.com/repos/jupyter-naas/awesome-notebooks/collaborators{/collaborator}\",\n",
      "            \"teams_url\": \"https://api.github.com/repos/jupyter-naas/awesome-notebooks/teams\",\n",
      "            \"hooks_url\": \"https://api.github.com/repos/jupyter-naas/awesome-notebooks/hooks\",\n",
      "            \"issue_events_url\": \"https://api.github.com/repos/jupyter-naas/awesome-notebooks/issues/events{/number}\",\n",
      "            \"events_url\": \"https://api.github.com/repos/jupyter-naas/awesome-notebooks/events\",\n",
      "            \"assignees_url\": \"https://api.github.com/repos/jupyter-naas/awesome-notebooks/assignees{/user}\",\n",
      "            \"branches_url\": \"https://api.github.com/repos/jupyter-naas/awesome-notebooks/branches{/branch}\",\n",
      "            \"tags_url\": \"https://api.github.com/repos/jupyter-naas/awesome-notebooks/tags\",\n",
      "            \"blobs_url\": \"https://api.github.com/repos/jupyter-naas/awesome-notebooks/git/blobs{/sha}\",\n",
      "            \"git_tags_url\": \"https://api.github.com/repos/jupyter-naas/awesome-notebooks/git/tags{/sha}\",\n",
      "            \"git_refs_url\": \"https://api.github.com/repos/jupyter-naas/awesome-notebooks/git/refs{/sha}\",\n",
      "            \"trees_url\": \"https://api.github.com/repos/jupyter-naas/awesome-notebooks/git/trees{/sha}\",\n",
      "            \"statuses_url\": \"https://api.github.com/repos/jupyter-naas/awesome-notebooks/statuses/{sha}\",\n",
      "            \"languages_url\": \"https://api.github.com/repos/jupyter-naas/awesome-notebooks/languages\",\n",
      "            \"stargazers_url\": \"https://api.github.com/repos/jupyter-naas/awesome-notebooks/stargazers\",\n",
      "            \"contributors_url\": \"https://api.github.com/repos/jupyter-naas/awesome-notebooks/contributors\",\n",
      "            \"subscribers_url\": \"https://api.github.com/repos/jupyter-naas/awesome-notebooks/subscribers\",\n",
      "            \"subscription_url\": \"https://api.github.com/repos/jupyter-naas/awesome-notebooks/subscription\",\n",
      "            \"commits_url\": \"https://api.github.com/repos/jupyter-naas/awesome-notebooks/commits{/sha}\",\n",
      "            \"git_commits_url\": \"https://api.github.com/repos/jupyter-naas/awesome-notebooks/git/commits{/sha}\",\n",
      "            \"comments_url\": \"https://api.github.com/repos/jupyter-naas/awesome-notebooks/comments{/number}\",\n",
      "            \"issue_comment_url\": \"https://api.github.com/repos/jupyter-naas/awesome-notebooks/issues/comments{/number}\",\n",
      "            \"contents_url\": \"https://api.github.com/repos/jupyter-naas/awesome-notebooks/contents/{+path}\",\n",
      "            \"compare_url\": \"https://api.github.com/repos/jupyter-naas/awesome-notebooks/compare/{base}...{head}\",\n",
      "            \"merges_url\": \"https://api.github.com/repos/jupyter-naas/awesome-notebooks/merges\",\n",
      "            \"archive_url\": \"https://api.github.com/repos/jupyter-naas/awesome-notebooks/{archive_format}{/ref}\",\n",
      "            \"downloads_url\": \"https://api.github.com/repos/jupyter-naas/awesome-notebooks/downloads\",\n",
      "            \"issues_url\": \"https://api.github.com/repos/jupyter-naas/awesome-notebooks/issues{/number}\",\n",
      "            \"pulls_url\": \"https://api.github.com/repos/jupyter-naas/awesome-notebooks/pulls{/number}\",\n",
      "            \"milestones_url\": \"https://api.github.com/repos/jupyter-naas/awesome-notebooks/milestones{/number}\",\n",
      "            \"notifications_url\": \"https://api.github.com/repos/jupyter-naas/awesome-notebooks/notifications{?since,all,participating}\",\n",
      "            \"labels_url\": \"https://api.github.com/repos/jupyter-naas/awesome-notebooks/labels{/name}\",\n",
      "            \"releases_url\": \"https://api.github.com/repos/jupyter-naas/awesome-notebooks/releases{/id}\",\n",
      "            \"deployments_url\": \"https://api.github.com/repos/jupyter-naas/awesome-notebooks/deployments\",\n",
      "            \"created_at\": \"2020-09-30T14:44:55Z\",\n",
      "            \"updated_at\": \"2023-03-09T09:36:19Z\",\n",
      "            \"pushed_at\": \"2023-03-09T09:27:02Z\",\n",
      "            \"git_url\": \"git://github.com/jupyter-naas/awesome-notebooks.git\",\n",
      "            \"ssh_url\": \"git@github.com:jupyter-naas/awesome-notebooks.git\",\n",
      "            \"clone_url\": \"https://github.com/jupyter-naas/awesome-notebooks.git\",\n",
      "            \"svn_url\": \"https://github.com/jupyter-naas/awesome-notebooks\",\n",
      "            \"homepage\": \"\",\n",
      "            \"size\": 70886,\n",
      "            \"stargazers_count\": 1846,\n",
      "            \"watchers_count\": 1846,\n",
      "            \"language\": \"Jupyter Notebook\",\n",
      "            \"has_issues\": true,\n",
      "            \"has_projects\": false,\n",
      "            \"has_downloads\": true,\n",
      "            \"has_wiki\": false,\n",
      "            \"has_pages\": true,\n",
      "            \"has_discussions\": true,\n",
      "            \"forks_count\": 304,\n",
      "            \"mirror_url\": null,\n",
      "            \"archived\": false,\n",
      "            \"disabled\": false,\n",
      "            \"open_issues_count\": 619,\n",
      "            \"license\": {\n",
      "                \"key\": \"bsd-3-clause\",\n",
      "                \"name\": \"BSD 3-Clause \\\"New\\\" or \\\"Revised\\\" License\",\n",
      "                \"spdx_id\": \"BSD-3-Clause\",\n",
      "                \"url\": \"https://api.github.com/licenses/bsd-3-clause\",\n",
      "                \"node_id\": \"MDc6TGljZW5zZTU=\"\n",
      "            },\n",
      "            \"allow_forking\": true,\n",
      "            \"is_template\": false,\n",
      "            \"web_commit_signoff_required\": false,\n",
      "            \"topics\": [\n",
      "                \"awesome\",\n",
      "                \"awesome-list\",\n",
      "                \"hacktoberfest\",\n",
      "                \"hacktoberfest2022\",\n",
      "                \"jupyter\",\n",
      "                \"jupyter-notebook\",\n",
      "                \"jupyterlab\",\n",
      "                \"naas\",\n",
      "                \"notebooks-templates\",\n",
      "                \"opensource\",\n",
      "                \"python\",\n",
      "                \"templates\"\n",
      "            ],\n",
      "            \"visibility\": \"public\",\n",
      "            \"forks\": 304,\n",
      "            \"open_issues\": 619,\n",
      "            \"watchers\": 1846,\n",
      "            \"default_branch\": \"master\"\n",
      "        }\n",
      "    },\n",
      "    \"base\": {\n",
      "        \"label\": \"jupyter-naas:master\",\n",
      "        \"ref\": \"master\",\n",
      "        \"sha\": \"8ff30f167ee5062de21a84617f13a4ba5a52bfd3\",\n",
      "        \"user\": {\n",
      "            \"login\": \"jupyter-naas\",\n",
      "            \"id\": 71603764,\n",
      "            \"node_id\": \"MDEyOk9yZ2FuaXphdGlvbjcxNjAzNzY0\",\n",
      "            \"avatar_url\": \"https://avatars.githubusercontent.com/u/71603764?v=4\",\n",
      "            \"gravatar_id\": \"\",\n",
      "            \"url\": \"https://api.github.com/users/jupyter-naas\",\n",
      "            \"html_url\": \"https://github.com/jupyter-naas\",\n",
      "            \"followers_url\": \"https://api.github.com/users/jupyter-naas/followers\",\n",
      "            \"following_url\": \"https://api.github.com/users/jupyter-naas/following{/other_user}\",\n",
      "            \"gists_url\": \"https://api.github.com/users/jupyter-naas/gists{/gist_id}\",\n",
      "            \"starred_url\": \"https://api.github.com/users/jupyter-naas/starred{/owner}{/repo}\",\n",
      "            \"subscriptions_url\": \"https://api.github.com/users/jupyter-naas/subscriptions\",\n",
      "            \"organizations_url\": \"https://api.github.com/users/jupyter-naas/orgs\",\n",
      "            \"repos_url\": \"https://api.github.com/users/jupyter-naas/repos\",\n",
      "            \"events_url\": \"https://api.github.com/users/jupyter-naas/events{/privacy}\",\n",
      "            \"received_events_url\": \"https://api.github.com/users/jupyter-naas/received_events\",\n",
      "            \"type\": \"Organization\",\n",
      "            \"site_admin\": false\n",
      "        },\n",
      "        \"repo\": {\n",
      "            \"id\": 299951448,\n",
      "            \"node_id\": \"MDEwOlJlcG9zaXRvcnkyOTk5NTE0NDg=\",\n",
      "            \"name\": \"awesome-notebooks\",\n",
      "            \"full_name\": \"jupyter-naas/awesome-notebooks\",\n",
      "            \"private\": false,\n",
      "            \"owner\": {\n",
      "                \"login\": \"jupyter-naas\",\n",
      "                \"id\": 71603764,\n",
      "                \"node_id\": \"MDEyOk9yZ2FuaXphdGlvbjcxNjAzNzY0\",\n",
      "                \"avatar_url\": \"https://avatars.githubusercontent.com/u/71603764?v=4\",\n",
      "                \"gravatar_id\": \"\",\n",
      "                \"url\": \"https://api.github.com/users/jupyter-naas\",\n",
      "                \"html_url\": \"https://github.com/jupyter-naas\",\n",
      "                \"followers_url\": \"https://api.github.com/users/jupyter-naas/followers\",\n",
      "                \"following_url\": \"https://api.github.com/users/jupyter-naas/following{/other_user}\",\n",
      "                \"gists_url\": \"https://api.github.com/users/jupyter-naas/gists{/gist_id}\",\n",
      "                \"starred_url\": \"https://api.github.com/users/jupyter-naas/starred{/owner}{/repo}\",\n",
      "                \"subscriptions_url\": \"https://api.github.com/users/jupyter-naas/subscriptions\",\n",
      "                \"organizations_url\": \"https://api.github.com/users/jupyter-naas/orgs\",\n",
      "                \"repos_url\": \"https://api.github.com/users/jupyter-naas/repos\",\n",
      "                \"events_url\": \"https://api.github.com/users/jupyter-naas/events{/privacy}\",\n",
      "                \"received_events_url\": \"https://api.github.com/users/jupyter-naas/received_events\",\n",
      "                \"type\": \"Organization\",\n",
      "                \"site_admin\": false\n",
      "            },\n",
      "            \"html_url\": \"https://github.com/jupyter-naas/awesome-notebooks\",\n",
      "            \"description\": \"Ready to use data science templates, organized by tools to jumpstart your projects and data products in minutes. \\ud83d\\ude0e  published by the Naas community.\",\n",
      "            \"fork\": false,\n",
      "            \"url\": \"https://api.github.com/repos/jupyter-naas/awesome-notebooks\",\n",
      "            \"forks_url\": \"https://api.github.com/repos/jupyter-naas/awesome-notebooks/forks\",\n",
      "            \"keys_url\": \"https://api.github.com/repos/jupyter-naas/awesome-notebooks/keys{/key_id}\",\n",
      "            \"collaborators_url\": \"https://api.github.com/repos/jupyter-naas/awesome-notebooks/collaborators{/collaborator}\",\n",
      "            \"teams_url\": \"https://api.github.com/repos/jupyter-naas/awesome-notebooks/teams\",\n",
      "            \"hooks_url\": \"https://api.github.com/repos/jupyter-naas/awesome-notebooks/hooks\",\n",
      "            \"issue_events_url\": \"https://api.github.com/repos/jupyter-naas/awesome-notebooks/issues/events{/number}\",\n",
      "            \"events_url\": \"https://api.github.com/repos/jupyter-naas/awesome-notebooks/events\",\n",
      "            \"assignees_url\": \"https://api.github.com/repos/jupyter-naas/awesome-notebooks/assignees{/user}\",\n",
      "            \"branches_url\": \"https://api.github.com/repos/jupyter-naas/awesome-notebooks/branches{/branch}\",\n",
      "            \"tags_url\": \"https://api.github.com/repos/jupyter-naas/awesome-notebooks/tags\",\n",
      "            \"blobs_url\": \"https://api.github.com/repos/jupyter-naas/awesome-notebooks/git/blobs{/sha}\",\n",
      "            \"git_tags_url\": \"https://api.github.com/repos/jupyter-naas/awesome-notebooks/git/tags{/sha}\",\n",
      "            \"git_refs_url\": \"https://api.github.com/repos/jupyter-naas/awesome-notebooks/git/refs{/sha}\",\n",
      "            \"trees_url\": \"https://api.github.com/repos/jupyter-naas/awesome-notebooks/git/trees{/sha}\",\n",
      "            \"statuses_url\": \"https://api.github.com/repos/jupyter-naas/awesome-notebooks/statuses/{sha}\",\n",
      "            \"languages_url\": \"https://api.github.com/repos/jupyter-naas/awesome-notebooks/languages\",\n",
      "            \"stargazers_url\": \"https://api.github.com/repos/jupyter-naas/awesome-notebooks/stargazers\",\n",
      "            \"contributors_url\": \"https://api.github.com/repos/jupyter-naas/awesome-notebooks/contributors\",\n",
      "            \"subscribers_url\": \"https://api.github.com/repos/jupyter-naas/awesome-notebooks/subscribers\",\n",
      "            \"subscription_url\": \"https://api.github.com/repos/jupyter-naas/awesome-notebooks/subscription\",\n",
      "            \"commits_url\": \"https://api.github.com/repos/jupyter-naas/awesome-notebooks/commits{/sha}\",\n",
      "            \"git_commits_url\": \"https://api.github.com/repos/jupyter-naas/awesome-notebooks/git/commits{/sha}\",\n",
      "            \"comments_url\": \"https://api.github.com/repos/jupyter-naas/awesome-notebooks/comments{/number}\",\n",
      "            \"issue_comment_url\": \"https://api.github.com/repos/jupyter-naas/awesome-notebooks/issues/comments{/number}\",\n",
      "            \"contents_url\": \"https://api.github.com/repos/jupyter-naas/awesome-notebooks/contents/{+path}\",\n",
      "            \"compare_url\": \"https://api.github.com/repos/jupyter-naas/awesome-notebooks/compare/{base}...{head}\",\n",
      "            \"merges_url\": \"https://api.github.com/repos/jupyter-naas/awesome-notebooks/merges\",\n",
      "            \"archive_url\": \"https://api.github.com/repos/jupyter-naas/awesome-notebooks/{archive_format}{/ref}\",\n",
      "            \"downloads_url\": \"https://api.github.com/repos/jupyter-naas/awesome-notebooks/downloads\",\n",
      "            \"issues_url\": \"https://api.github.com/repos/jupyter-naas/awesome-notebooks/issues{/number}\",\n",
      "            \"pulls_url\": \"https://api.github.com/repos/jupyter-naas/awesome-notebooks/pulls{/number}\",\n",
      "            \"milestones_url\": \"https://api.github.com/repos/jupyter-naas/awesome-notebooks/milestones{/number}\",\n",
      "            \"notifications_url\": \"https://api.github.com/repos/jupyter-naas/awesome-notebooks/notifications{?since,all,participating}\",\n",
      "            \"labels_url\": \"https://api.github.com/repos/jupyter-naas/awesome-notebooks/labels{/name}\",\n",
      "            \"releases_url\": \"https://api.github.com/repos/jupyter-naas/awesome-notebooks/releases{/id}\",\n",
      "            \"deployments_url\": \"https://api.github.com/repos/jupyter-naas/awesome-notebooks/deployments\",\n",
      "            \"created_at\": \"2020-09-30T14:44:55Z\",\n",
      "            \"updated_at\": \"2023-03-09T09:36:19Z\",\n",
      "            \"pushed_at\": \"2023-03-09T09:27:02Z\",\n",
      "            \"git_url\": \"git://github.com/jupyter-naas/awesome-notebooks.git\",\n",
      "            \"ssh_url\": \"git@github.com:jupyter-naas/awesome-notebooks.git\",\n",
      "            \"clone_url\": \"https://github.com/jupyter-naas/awesome-notebooks.git\",\n",
      "            \"svn_url\": \"https://github.com/jupyter-naas/awesome-notebooks\",\n",
      "            \"homepage\": \"\",\n",
      "            \"size\": 70886,\n",
      "            \"stargazers_count\": 1846,\n",
      "            \"watchers_count\": 1846,\n",
      "            \"language\": \"Jupyter Notebook\",\n",
      "            \"has_issues\": true,\n",
      "            \"has_projects\": false,\n",
      "            \"has_downloads\": true,\n",
      "            \"has_wiki\": false,\n",
      "            \"has_pages\": true,\n",
      "            \"has_discussions\": true,\n",
      "            \"forks_count\": 304,\n",
      "            \"mirror_url\": null,\n",
      "            \"archived\": false,\n",
      "            \"disabled\": false,\n",
      "            \"open_issues_count\": 619,\n",
      "            \"license\": {\n",
      "                \"key\": \"bsd-3-clause\",\n",
      "                \"name\": \"BSD 3-Clause \\\"New\\\" or \\\"Revised\\\" License\",\n",
      "                \"spdx_id\": \"BSD-3-Clause\",\n",
      "                \"url\": \"https://api.github.com/licenses/bsd-3-clause\",\n",
      "                \"node_id\": \"MDc6TGljZW5zZTU=\"\n",
      "            },\n",
      "            \"allow_forking\": true,\n",
      "            \"is_template\": false,\n",
      "            \"web_commit_signoff_required\": false,\n",
      "            \"topics\": [\n",
      "                \"awesome\",\n",
      "                \"awesome-list\",\n",
      "                \"hacktoberfest\",\n",
      "                \"hacktoberfest2022\",\n",
      "                \"jupyter\",\n",
      "                \"jupyter-notebook\",\n",
      "                \"jupyterlab\",\n",
      "                \"naas\",\n",
      "                \"notebooks-templates\",\n",
      "                \"opensource\",\n",
      "                \"python\",\n",
      "                \"templates\"\n",
      "            ],\n",
      "            \"visibility\": \"public\",\n",
      "            \"forks\": 304,\n",
      "            \"open_issues\": 619,\n",
      "            \"watchers\": 1846,\n",
      "            \"default_branch\": \"master\"\n",
      "        }\n",
      "    },\n",
      "    \"_links\": {\n",
      "        \"self\": {\n",
      "            \"href\": \"https://api.github.com/repos/jupyter-naas/awesome-notebooks/pulls/1549\"\n",
      "        },\n",
      "        \"html\": {\n",
      "            \"href\": \"https://github.com/jupyter-naas/awesome-notebooks/pull/1549\"\n",
      "        },\n",
      "        \"issue\": {\n",
      "            \"href\": \"https://api.github.com/repos/jupyter-naas/awesome-notebooks/issues/1549\"\n",
      "        },\n",
      "        \"comments\": {\n",
      "            \"href\": \"https://api.github.com/repos/jupyter-naas/awesome-notebooks/issues/1549/comments\"\n",
      "        },\n",
      "        \"review_comments\": {\n",
      "            \"href\": \"https://api.github.com/repos/jupyter-naas/awesome-notebooks/pulls/1549/comments\"\n",
      "        },\n",
      "        \"review_comment\": {\n",
      "            \"href\": \"https://api.github.com/repos/jupyter-naas/awesome-notebooks/pulls/comments{/number}\"\n",
      "        },\n",
      "        \"commits\": {\n",
      "            \"href\": \"https://api.github.com/repos/jupyter-naas/awesome-notebooks/pulls/1549/commits\"\n",
      "        },\n",
      "        \"statuses\": {\n",
      "            \"href\": \"https://api.github.com/repos/jupyter-naas/awesome-notebooks/statuses/7dda1028c4a1f6a5cbedf14b55e4c20a57332c13\"\n",
      "        }\n",
      "    },\n",
      "    \"author_association\": \"MEMBER\",\n",
      "    \"auto_merge\": null,\n",
      "    \"active_lock_reason\": null,\n",
      "    \"merged\": false,\n",
      "    \"mergeable\": true,\n",
      "    \"rebaseable\": true,\n",
      "    \"mergeable_state\": \"blocked\",\n",
      "    \"merged_by\": null,\n",
      "    \"comments\": 0,\n",
      "    \"review_comments\": 0,\n",
      "    \"maintainer_can_modify\": false,\n",
      "    \"commits\": 1,\n",
      "    \"additions\": 241,\n",
      "    \"deletions\": 0,\n",
      "    \"changed_files\": 1\n",
      "}\n"
     ]
    }
   ],
   "source": [
    "# Print the closed PR\n",
    "print(\"✅ Pull Requests fetched:\", pull_requests.totalCount)\n",
    "for index, pr in enumerate(pull_requests):\n",
    "    print(json.dumps(pr.raw_data, indent=4))\n",
    "    break"
   ]
  },
  {
   "cell_type": "markdown",
   "id": "512114e2-dbb5-4ef3-96ae-26a1c788a605",
   "metadata": {
    "papermill": {},
    "tags": []
   },
   "source": [
    " "
   ]
  }
 ],
 "metadata": {
  "kernelspec": {
   "display_name": "Python 3",
   "language": "python",
   "name": "python3"
  },
  "language_info": {
   "codemirror_mode": {
    "name": "ipython",
    "version": 3
   },
   "file_extension": ".py",
   "mimetype": "text/x-python",
   "name": "python",
   "nbconvert_exporter": "python",
   "pygments_lexer": "ipython3",
   "version": "3.9.6"
  },
  "papermill": {
   "default_parameters": {},
   "environment_variables": {},
   "parameters": {},
   "version": "2.4.0"
  },
  "widgets": {
   "application/vnd.jupyter.widget-state+json": {
    "state": {},
    "version_major": 2,
    "version_minor": 0
   }
  }
 },
 "nbformat": 4,
 "nbformat_minor": 5
}
