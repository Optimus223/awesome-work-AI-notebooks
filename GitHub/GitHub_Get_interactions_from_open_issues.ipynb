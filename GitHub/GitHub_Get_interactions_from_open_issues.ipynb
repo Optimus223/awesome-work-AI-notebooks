{
 "cells": [
  {
   "cell_type": "markdown",
   "id": "84cadd0c",
   "metadata": {
    "papermill": {},
    "tags": []
   },
   "source": [
    "<img width=\"8%\" alt=\"GitHub.png\" src=\"https://raw.githubusercontent.com/jupyter-naas/awesome-notebooks/master/.github/assets/logos/GitHub.png\" style=\"border-radius: 15%\">"
   ]
  },
  {
   "cell_type": "markdown",
   "id": "0d43ed38",
   "metadata": {
    "papermill": {},
    "tags": []
   },
   "source": [
    "# GitHub - List all interactions from open issues\n",
    "<a href=\"https://bit.ly/3JyWIk6\">Give Feedback</a> | <a href=\"https://github.com/jupyter-naas/awesome-notebooks/issues/new?assignees=&labels=bug&template=bug_report.md&title=GitHub+-+Add+new+issues+as+page+in+Notion+database:+Error+short+description\">Bug report</a>"
   ]
  },
  {
   "cell_type": "markdown",
   "id": "d9313642",
   "metadata": {
    "papermill": {},
    "tags": []
   },
   "source": [
    "**Tags:** #github #openIssues #reaction #comment #creator #assignees #automation"
   ]
  },
  {
   "cell_type": "markdown",
   "id": "8faf487c",
   "metadata": {
    "papermill": {},
    "tags": []
   },
   "source": [
    "**Author:** [Varsha Kumar](https://www.linkedin.com/in/varsha-kumar-590466305/)"
   ]
  },
  {
   "cell_type": "markdown",
   "id": "3dba1c73-548d-4008-82ad-fdb2cb376771",
   "metadata": {
    "papermill": {},
    "tags": []
   },
   "source": [
    "**Last update:** 2024-06-10 (Created: 2024-06-04)"
   ]
  },
  {
   "cell_type": "markdown",
   "id": "naas-description",
   "metadata": {
    "papermill": {},
    "tags": [
     "description"
    ]
   },
   "source": [
    "**Description:** This notebook allows users to retrieve all comments, reactions and creator/assignee data from open issues on a given repository."
   ]
  },
  {
   "cell_type": "markdown",
   "id": "7412988b",
   "metadata": {
    "papermill": {},
    "tags": []
   },
   "source": [
    "## Input"
   ]
  },
  {
   "cell_type": "code",
   "execution_count": 2,
   "id": "353ef79c",
   "metadata": {
    "execution": {
     "iopub.execute_input": "2024-06-10T10:37:58.030285Z",
     "iopub.status.busy": "2024-06-10T10:37:58.030067Z",
     "iopub.status.idle": "2024-06-10T10:37:59.104619Z",
     "shell.execute_reply": "2024-06-10T10:37:59.103994Z",
     "shell.execute_reply.started": "2024-06-10T10:37:58.030263Z"
    },
    "papermill": {},
    "tags": []
   },
   "outputs": [],
   "source": [
    "import requests\n",
    "import re\n",
    "import pandas as pd\n",
    "import naas_python as naas\n",
    "from urllib.parse import urlparse\n",
    "import time"
   ]
  },
  {
   "cell_type": "markdown",
   "id": "68b48858",
   "metadata": {
    "papermill": {},
    "tags": []
   },
   "source": [
    "### Setup variables\n",
    "- `github_token`: personal token creates\n",
    "- `github_url`: link to the chosen github repo\n",
    "- `state`: type of issue"
   ]
  },
  {
   "cell_type": "code",
   "execution_count": 3,
   "id": "01647a55",
   "metadata": {
    "execution": {
     "iopub.execute_input": "2024-06-10T10:37:59.107564Z",
     "iopub.status.busy": "2024-06-10T10:37:59.107382Z",
     "iopub.status.idle": "2024-06-10T10:38:00.867558Z",
     "shell.execute_reply": "2024-06-10T10:38:00.866915Z",
     "shell.execute_reply.started": "2024-06-10T10:37:59.107544Z"
    },
    "papermill": {},
    "tags": []
   },
   "outputs": [],
   "source": [
    "github_token = naas.secret.get(\"GITHUB_TOKEN\").value\n",
    "repo_url = \"https://github.com/jupyter-naas/awesome-notebooks\"\n",
    "state = 'open'"
   ]
  },
  {
   "cell_type": "markdown",
   "id": "93347abb",
   "metadata": {
    "papermill": {},
    "tags": []
   },
   "source": [
    "## Model"
   ]
  },
  {
   "cell_type": "markdown",
   "id": "a1465f96-d485-49ef-9a33-d649ae970ce1",
   "metadata": {},
   "source": [
    "### Filter on open issues without pull requests"
   ]
  },
  {
   "cell_type": "code",
   "execution_count": 4,
   "id": "efd6342d-9bb9-4618-8264-44ae069bb02c",
   "metadata": {
    "execution": {
     "iopub.execute_input": "2024-06-10T10:38:00.870829Z",
     "iopub.status.busy": "2024-06-10T10:38:00.870631Z",
     "iopub.status.idle": "2024-06-10T10:38:01.904423Z",
     "shell.execute_reply": "2024-06-10T10:38:01.903813Z",
     "shell.execute_reply.started": "2024-06-10T10:38:00.870806Z"
    },
    "tags": []
   },
   "outputs": [],
   "source": [
    "def get_filtered_open_issues(github_url, personal_access_token):\n",
    "    # Parse the GitHub URL to get the owner and repo name\n",
    "    parsed_url = urlparse(github_url)\n",
    "    path_parts = parsed_url.path.strip('/').split('/')\n",
    "    \n",
    "    if len(path_parts) != 2:\n",
    "        raise ValueError(\"Invalid GitHub URL. It should be in the format: https://github.com/owner/repo\")\n",
    "    \n",
    "    owner, repo = path_parts\n",
    "    \n",
    "    # GitHub API URL for issues\n",
    "    api_url = f\"https://api.github.com/repos/{owner}/{repo}/issues\"\n",
    "    \n",
    "    # Set up headers with personal access token for authentication\n",
    "    headers = {\n",
    "        'Authorization': f'token {personal_access_token}',\n",
    "        'Accept': 'application/vnd.github.v3+json'\n",
    "    }\n",
    "    \n",
    "    # Set up parameters to get only open issues\n",
    "    params = {\n",
    "        'state': state,\n",
    "        'filter': 'all',\n",
    "        'per_page': 100  # Set the number of issues per page to 100 (maximum allowed by GitHub API)\n",
    "    }\n",
    "    \n",
    "    # Initialize an empty list to store all open issues excluding pull requests\n",
    "    filtered_issues = []\n",
    "    \n",
    "    # Pagination to fetch all issues\n",
    "    page = 1\n",
    "    while True:\n",
    "        params['page'] = page\n",
    "        response = requests.get(api_url, headers=headers, params=params)\n",
    "        \n",
    "        if response.status_code != 200:\n",
    "            raise Exception(f\"Error fetching issues from GitHub: {response.status_code} {response.reason}\")\n",
    "        \n",
    "        issues = response.json()\n",
    "        if not issues:\n",
    "            break\n",
    "        \n",
    "        # Filter out pull requests from the issues\n",
    "        for issue in issues:\n",
    "            if 'pull_request' not in issue:\n",
    "                filtered_issues.append(issue)\n",
    "        \n",
    "        page += 1\n",
    "    \n",
    "    return filtered_issues\n",
    "\n",
    "\n",
    "filtered_issues = get_filtered_open_issues(repo_url, github_token)"
   ]
  },
  {
   "cell_type": "markdown",
   "id": "c44d0487-7974-4041-a5d9-3dddafb177ba",
   "metadata": {},
   "source": [
    "### Get interactions from issues"
   ]
  },
  {
   "cell_type": "code",
   "execution_count": 9,
   "id": "25515662-6221-4d31-bce9-e811ab1a70c6",
   "metadata": {
    "execution": {
     "iopub.execute_input": "2024-06-10T10:40:01.666572Z",
     "iopub.status.busy": "2024-06-10T10:40:01.666333Z",
     "iopub.status.idle": "2024-06-10T10:40:01.673793Z",
     "shell.execute_reply": "2024-06-10T10:40:01.673099Z",
     "shell.execute_reply.started": "2024-06-10T10:40:01.666548Z"
    },
    "tags": []
   },
   "outputs": [],
   "source": [
    "# Get comments and reactions from issues\n",
    "def get_all_comments(api_url, personal_access_token):\n",
    "    # Set up headers with personal access token for authentication\n",
    "    headers = {\n",
    "        'Authorization': f'token {personal_access_token}',\n",
    "        'Accept': 'application/vnd.github.v3+json'\n",
    "    }\n",
    "\n",
    "    # Get comments for the issue\n",
    "    response = requests.get(api_url + '/comments', headers=headers)\n",
    "    if response.status_code != 200:\n",
    "        raise Exception(f\"Error fetching comments from GitHub: {response.status_code} {response.reason}\")\n",
    "    comments = response.json()\n",
    "\n",
    "    return comments\n",
    "\n",
    "def get_comment_reactions(comment_url, personal_access_token):\n",
    "    headers = {\n",
    "        \"Authorization\": f\"token {personal_access_token}\",\n",
    "        \"Accept\": \"application/vnd.github.squirrel-girl-preview+json\"\n",
    "    }\n",
    "    # Get reactions for the issue\n",
    "    response = requests.get(comment_url + \"/reactions\", headers=headers)\n",
    "    response.raise_for_status()\n",
    "    return response.json()\n",
    "    \n",
    "def get_interactions(\n",
    "    url,\n",
    "    uid,\n",
    "    interaction_type,\n",
    "    content,\n",
    "    time,\n",
    "    user_login,\n",
    "    user_id,\n",
    "):\n",
    "    return {\n",
    "        \"URL\": url,\n",
    "        \"ID\": uid,\n",
    "        \"TYPE\": interaction_type,\n",
    "        \"CONTENT\": content,\n",
    "        \"DATE_TIME\": time,\n",
    "        \"USER_LOGIN\": user_login,\n",
    "        \"USER_ID\": user_id,\n",
    "    }"
   ]
  },
  {
   "cell_type": "markdown",
   "id": "b819d06a",
   "metadata": {
    "papermill": {},
    "tags": []
   },
   "source": [
    "## Output\n",
    "### Display result"
   ]
  },
  {
   "cell_type": "code",
   "execution_count": 10,
   "id": "9c8fcf83-0e5f-4b5f-857d-6356c066f78a",
   "metadata": {
    "execution": {
     "iopub.execute_input": "2024-06-10T10:40:02.345734Z",
     "iopub.status.busy": "2024-06-10T10:40:02.345415Z",
     "iopub.status.idle": "2024-06-10T10:41:26.386090Z",
     "shell.execute_reply": "2024-06-10T10:41:26.385279Z",
     "shell.execute_reply.started": "2024-06-10T10:40:02.345700Z"
    },
    "tags": []
   },
   "outputs": [
    {
     "data": {
      "text/html": [
       "<div>\n",
       "<style scoped>\n",
       "    .dataframe tbody tr th:only-of-type {\n",
       "        vertical-align: middle;\n",
       "    }\n",
       "\n",
       "    .dataframe tbody tr th {\n",
       "        vertical-align: top;\n",
       "    }\n",
       "\n",
       "    .dataframe thead th {\n",
       "        text-align: right;\n",
       "    }\n",
       "</style>\n",
       "<table border=\"1\" class=\"dataframe\">\n",
       "  <thead>\n",
       "    <tr style=\"text-align: right;\">\n",
       "      <th></th>\n",
       "      <th>URL</th>\n",
       "      <th>ID</th>\n",
       "      <th>TYPE</th>\n",
       "      <th>CONTENT</th>\n",
       "      <th>DATE_TIME</th>\n",
       "      <th>USER_LOGIN</th>\n",
       "      <th>USER_ID</th>\n",
       "    </tr>\n",
       "  </thead>\n",
       "  <tbody>\n",
       "    <tr>\n",
       "      <th>0</th>\n",
       "      <td>https://api.github.com/repos/jupyter-naas/awes...</td>\n",
       "      <td>2535_48032461</td>\n",
       "      <td>CREATOR</td>\n",
       "      <td>GitHub - List all comments and reactions from ...</td>\n",
       "      <td>2024-06-06T08:53:47Z</td>\n",
       "      <td>FlorentLvr</td>\n",
       "      <td>48032461</td>\n",
       "    </tr>\n",
       "    <tr>\n",
       "      <th>1</th>\n",
       "      <td>https://api.github.com/repos/jupyter-naas/awes...</td>\n",
       "      <td>2535_168480119</td>\n",
       "      <td>ASSIGNEE</td>\n",
       "      <td>GitHub - List all comments and reactions from ...</td>\n",
       "      <td>2024-06-06T08:53:47Z</td>\n",
       "      <td>varshakumarr</td>\n",
       "      <td>168480119</td>\n",
       "    </tr>\n",
       "    <tr>\n",
       "      <th>2</th>\n",
       "      <td>https://api.github.com/repos/jupyter-naas/awes...</td>\n",
       "      <td>2157674906</td>\n",
       "      <td>COMMENT</td>\n",
       "      <td>@varshakumarr, any udpates on this issue?</td>\n",
       "      <td>2024-06-10T08:19:25Z</td>\n",
       "      <td>FlorentLvr</td>\n",
       "      <td>48032461</td>\n",
       "    </tr>\n",
       "    <tr>\n",
       "      <th>3</th>\n",
       "      <td>https://api.github.com/repos/jupyter-naas/awes...</td>\n",
       "      <td>240209624</td>\n",
       "      <td>REACTION</td>\n",
       "      <td>laugh</td>\n",
       "      <td>2024-06-10T08:19:45Z</td>\n",
       "      <td>varshakumarr</td>\n",
       "      <td>168480119</td>\n",
       "    </tr>\n",
       "    <tr>\n",
       "      <th>4</th>\n",
       "      <td>https://api.github.com/repos/jupyter-naas/awes...</td>\n",
       "      <td>2157675955</td>\n",
       "      <td>COMMENT</td>\n",
       "      <td>&gt; @varshakumarr, any udpates on this issue?\\r\\...</td>\n",
       "      <td>2024-06-10T08:19:54Z</td>\n",
       "      <td>varshakumarr</td>\n",
       "      <td>168480119</td>\n",
       "    </tr>\n",
       "    <tr>\n",
       "      <th>...</th>\n",
       "      <td>...</td>\n",
       "      <td>...</td>\n",
       "      <td>...</td>\n",
       "      <td>...</td>\n",
       "      <td>...</td>\n",
       "      <td>...</td>\n",
       "      <td>...</td>\n",
       "    </tr>\n",
       "    <tr>\n",
       "      <th>508</th>\n",
       "      <td>https://api.github.com/repos/jupyter-naas/awes...</td>\n",
       "      <td>98_21052349</td>\n",
       "      <td>CREATOR</td>\n",
       "      <td>Fitbit - Connect to API</td>\n",
       "      <td>2021-06-02T22:39:14Z</td>\n",
       "      <td>jravenel</td>\n",
       "      <td>21052349</td>\n",
       "    </tr>\n",
       "    <tr>\n",
       "      <th>509</th>\n",
       "      <td>https://api.github.com/repos/jupyter-naas/awes...</td>\n",
       "      <td>98_5262663</td>\n",
       "      <td>ASSIGNEE</td>\n",
       "      <td>Fitbit - Connect to API</td>\n",
       "      <td>2021-06-02T22:39:14Z</td>\n",
       "      <td>iair</td>\n",
       "      <td>5262663</td>\n",
       "    </tr>\n",
       "    <tr>\n",
       "      <th>510</th>\n",
       "      <td>https://api.github.com/repos/jupyter-naas/awes...</td>\n",
       "      <td>993805730</td>\n",
       "      <td>COMMENT</td>\n",
       "      <td>HI,\\r\\n\\r\\ni would like to take this issue as ...</td>\n",
       "      <td>2021-12-14T17:21:56Z</td>\n",
       "      <td>iair</td>\n",
       "      <td>5262663</td>\n",
       "    </tr>\n",
       "    <tr>\n",
       "      <th>511</th>\n",
       "      <td>https://api.github.com/repos/jupyter-naas/awes...</td>\n",
       "      <td>1046289981</td>\n",
       "      <td>COMMENT</td>\n",
       "      <td>HI @iair, need help this?</td>\n",
       "      <td>2022-02-20T17:58:43Z</td>\n",
       "      <td>jravenel</td>\n",
       "      <td>21052349</td>\n",
       "    </tr>\n",
       "    <tr>\n",
       "      <th>512</th>\n",
       "      <td>https://api.github.com/repos/jupyter-naas/awes...</td>\n",
       "      <td>1074033046</td>\n",
       "      <td>COMMENT</td>\n",
       "      <td>@iair anything we can do? We think we need to ...</td>\n",
       "      <td>2022-03-21T15:20:59Z</td>\n",
       "      <td>jravenel</td>\n",
       "      <td>21052349</td>\n",
       "    </tr>\n",
       "  </tbody>\n",
       "</table>\n",
       "<p>513 rows × 7 columns</p>\n",
       "</div>"
      ],
      "text/plain": [
       "                                                   URL              ID  \\\n",
       "0    https://api.github.com/repos/jupyter-naas/awes...   2535_48032461   \n",
       "1    https://api.github.com/repos/jupyter-naas/awes...  2535_168480119   \n",
       "2    https://api.github.com/repos/jupyter-naas/awes...      2157674906   \n",
       "3    https://api.github.com/repos/jupyter-naas/awes...       240209624   \n",
       "4    https://api.github.com/repos/jupyter-naas/awes...      2157675955   \n",
       "..                                                 ...             ...   \n",
       "508  https://api.github.com/repos/jupyter-naas/awes...     98_21052349   \n",
       "509  https://api.github.com/repos/jupyter-naas/awes...      98_5262663   \n",
       "510  https://api.github.com/repos/jupyter-naas/awes...       993805730   \n",
       "511  https://api.github.com/repos/jupyter-naas/awes...      1046289981   \n",
       "512  https://api.github.com/repos/jupyter-naas/awes...      1074033046   \n",
       "\n",
       "         TYPE                                            CONTENT  \\\n",
       "0     CREATOR  GitHub - List all comments and reactions from ...   \n",
       "1    ASSIGNEE  GitHub - List all comments and reactions from ...   \n",
       "2     COMMENT          @varshakumarr, any udpates on this issue?   \n",
       "3    REACTION                                              laugh   \n",
       "4     COMMENT  > @varshakumarr, any udpates on this issue?\\r\\...   \n",
       "..        ...                                                ...   \n",
       "508   CREATOR                            Fitbit - Connect to API   \n",
       "509  ASSIGNEE                            Fitbit - Connect to API   \n",
       "510   COMMENT  HI,\\r\\n\\r\\ni would like to take this issue as ...   \n",
       "511   COMMENT                          HI @iair, need help this?   \n",
       "512   COMMENT  @iair anything we can do? We think we need to ...   \n",
       "\n",
       "                DATE_TIME    USER_LOGIN    USER_ID  \n",
       "0    2024-06-06T08:53:47Z    FlorentLvr   48032461  \n",
       "1    2024-06-06T08:53:47Z  varshakumarr  168480119  \n",
       "2    2024-06-10T08:19:25Z    FlorentLvr   48032461  \n",
       "3    2024-06-10T08:19:45Z  varshakumarr  168480119  \n",
       "4    2024-06-10T08:19:54Z  varshakumarr  168480119  \n",
       "..                    ...           ...        ...  \n",
       "508  2021-06-02T22:39:14Z      jravenel   21052349  \n",
       "509  2021-06-02T22:39:14Z          iair    5262663  \n",
       "510  2021-12-14T17:21:56Z          iair    5262663  \n",
       "511  2022-02-20T17:58:43Z      jravenel   21052349  \n",
       "512  2022-03-21T15:20:59Z      jravenel   21052349  \n",
       "\n",
       "[513 rows x 7 columns]"
      ]
     },
     "execution_count": 10,
     "metadata": {},
     "output_type": "execute_result"
    }
   ],
   "source": [
    "data = []\n",
    "    \n",
    "for issue in filtered_issues:\n",
    "    # Creator\n",
    "    issue_number = issue['number']\n",
    "    issue_url = issue['url']\n",
    "    issue_content = issue['title']\n",
    "    issue_time = issue['created_at']\n",
    "    issue_user_login = issue['user']['login']\n",
    "    issue_user_id = issue['user']['id']\n",
    "\n",
    "    # Get creator\n",
    "    data_creator = get_interactions(\n",
    "        issue_url,\n",
    "        str(issue_number) + \"_\" +  str(issue_user_id),\n",
    "        \"CREATOR\",\n",
    "        issue_content,\n",
    "        issue_time,\n",
    "        issue_user_login,\n",
    "        issue_user_id,\n",
    "    )\n",
    "    data.append(data_creator)\n",
    "    \n",
    "    # Get Assignees\n",
    "    if len(issue['assignees']) > 0:\n",
    "        for assignee in issue['assignees']:\n",
    "            data_assignee = get_interactions(\n",
    "                issue_url,\n",
    "                str(issue_number) + \"_\" + str(assignee['id']),\n",
    "                \"ASSIGNEE\",\n",
    "                issue_content,\n",
    "                issue_time,\n",
    "                assignee['login'],\n",
    "                assignee['id'],\n",
    "            )\n",
    "            data.append(data_assignee)\n",
    "            \n",
    "    # Get comments\n",
    "    comments = get_all_comments(issue_url, github_token)\n",
    "    for comment in comments:\n",
    "        comment_id = comment['id']\n",
    "        comment_body = comment['body']\n",
    "        comment_created_at = comment['created_at']\n",
    "        comment_user_login = comment['user']['login']\n",
    "        comment_user_id = comment['user']['id']\n",
    "        data_comment = get_interactions(\n",
    "            issue_url,\n",
    "            comment_id,\n",
    "            \"COMMENT\",\n",
    "            comment_body,\n",
    "            comment_created_at,\n",
    "            comment_user_login,\n",
    "            comment_user_id,\n",
    "        )\n",
    "        \n",
    "        data.append(data_comment)\n",
    "        #print (comment)\n",
    "        reactions = get_comment_reactions(comment['url'], github_token)\n",
    "        if len(reactions) > 0:\n",
    "            for reaction in reactions:\n",
    "                reaction_id = reaction['id']\n",
    "                reaction_body = reaction['content']\n",
    "                reaction_created_at = reaction['created_at']\n",
    "                reaction_user_login = reaction['user']['login']\n",
    "                reaction_user_id = reaction['user']['id']\n",
    "                data_reaction = get_interactions(\n",
    "                    issue_url,\n",
    "                    reaction_id,\n",
    "                    \"REACTION\",\n",
    "                    reaction_body,\n",
    "                    reaction_created_at,\n",
    "                    reaction_user_login,\n",
    "                    reaction_user_id,\n",
    "                )\n",
    "                data.append(data_reaction)\n",
    "pd.DataFrame(data)"
   ]
  },
  {
   "cell_type": "code",
   "execution_count": null,
   "id": "ec7dd962-bdb0-4155-9823-896b522c24af",
   "metadata": {},
   "outputs": [],
   "source": []
  }
 ],
 "metadata": {
  "kernelspec": {
   "display_name": "Python 3",
   "language": "python",
   "name": "python3"
  },
  "language_info": {
   "codemirror_mode": {
    "name": "ipython",
    "version": 3
   },
   "file_extension": ".py",
   "mimetype": "text/x-python",
   "name": "python",
   "nbconvert_exporter": "python",
   "pygments_lexer": "ipython3",
   "version": "3.9.6"
  },
  "naas": {
   "notebook_id": "b8a92a0e4b6e40db304564f999566443fb35e93df716ab4be5021aabba8230ee",
   "notebook_path": "GitHub/GitHub_Add_new_issues_as_page_in_Notion_database.ipynb"
  },
  "papermill": {
   "default_parameters": {},
   "environment_variables": {},
   "parameters": {},
   "version": "2.3.4"
  }
 },
 "nbformat": 4,
 "nbformat_minor": 5
}
