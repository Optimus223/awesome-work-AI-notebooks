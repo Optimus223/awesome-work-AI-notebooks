{
 "cells": [
  {
   "cell_type": "markdown",
   "id": "b96a1e6d-e18e-4b90-9192-2aa111d694a2",
   "metadata": {
    "papermill": {},
    "tags": []
   },
   "source": [
    "<img width=\"10%\" alt=\"Naas\" src=\"https://landen.imgix.net/jtci2pxwjczr/assets/5ice39g4.png?w=160\"/>"
   ]
  },
  {
   "cell_type": "markdown",
   "id": "1e0b104c-3f5c-4557-810c-510ad5c01aed",
   "metadata": {
    "papermill": {},
    "tags": []
   },
   "source": [
    "# GitHub - List commits history from file path \n",
    "<a href=\"https://app.naas.ai/user-redirect/naas/downloader?url=https://raw.githubusercontent.com/jupyter-naas/awesome-notebooks/master/GitHub/GitHub_Get_commits_from_repository.ipynb\" target=\"_parent\"><img src=\"https://naasai-public.s3.eu-west-3.amazonaws.com/Open_in_Naas_Lab.svg\"/></a><br><br><a href=\"https://github.com/jupyter-naas/awesome-notebooks/issues/new?assignees=&labels=&template=template-request.md&title=Tool+-+Action+of+the+notebook+\">Template request</a> | <a href=\"https://github.com/jupyter-naas/awesome-notebooks/issues/new?assignees=&labels=bug&template=bug_report.md&title=GitHub+-+Get+commits+from+repository:+Error+short+description\">Bug report</a> | <a href=\"https://app.naas.ai/user-redirect/naas/downloader?url=https://raw.githubusercontent.com/jupyter-naas/awesome-notebooks/master/Naas/Naas_Start_data_product.ipynb\" target=\"_parent\">Generate Data Product</a>"
   ]
  },
  {
   "cell_type": "markdown",
   "id": "62bb926c-e38e-45fe-82fb-46ee85a7c33e",
   "metadata": {
    "papermill": {},
    "tags": []
   },
   "source": [
    "**Tags:** #github #commits #history #snippet #operations #tracking"
   ]
  },
  {
   "cell_type": "markdown",
   "id": "bed3a749-ba5e-405f-a93b-696e583bb499",
   "metadata": {
    "papermill": {},
    "tags": []
   },
   "source": [
    "**Author:** [Florent Ravenel](https://www.linkedin.com/in/florent-ravenel/)"
   ]
  },
  {
   "cell_type": "markdown",
   "id": "e6cf788e-e4c6-4671-8a0d-cfd905f4c70d",
   "metadata": {
    "execution": {
     "iopub.execute_input": "2023-01-09T09:02:15.821493Z",
     "iopub.status.busy": "2023-01-09T09:02:15.821264Z",
     "iopub.status.idle": "2023-01-09T09:02:15.831949Z",
     "shell.execute_reply": "2023-01-09T09:02:15.831043Z",
     "shell.execute_reply.started": "2023-01-09T09:02:15.821470Z"
    },
    "papermill": {},
    "tags": []
   },
   "source": [
    "**Description:** This notebook demonstrateshow to retrieve a list of commits containing a file path that exists in master branch."
   ]
  },
  {
   "cell_type": "markdown",
   "id": "10582a10-1618-46f1-837b-9fcc8c0857dc",
   "metadata": {
    "execution": {
     "iopub.execute_input": "2023-01-09T09:02:15.821493Z",
     "iopub.status.busy": "2023-01-09T09:02:15.821264Z",
     "iopub.status.idle": "2023-01-09T09:02:15.831949Z",
     "shell.execute_reply": "2023-01-09T09:02:15.831043Z",
     "shell.execute_reply.started": "2023-01-09T09:02:15.821470Z"
    },
    "papermill": {},
    "tags": []
   },
   "source": [
    "**References:**\n",
    "- [GitHub - List commits parameters](https://docs.github.com/fr/rest/commits/commits?apiVersion=2022-11-28#list-commits--parameters)"
   ]
  },
  {
   "cell_type": "markdown",
   "id": "3699bd74-3eba-4ebd-91a3-12ee02ddeb63",
   "metadata": {
    "papermill": {},
    "tags": []
   },
   "source": [
    "## Input"
   ]
  },
  {
   "cell_type": "markdown",
   "id": "5b0ec3ef-d1bb-496d-8c78-90539991de3b",
   "metadata": {
    "papermill": {},
    "tags": []
   },
   "source": [
    "### Import libraries"
   ]
  },
  {
   "cell_type": "code",
   "execution_count": 14,
   "id": "e802bdc0-6a85-4dac-8ef9-bba364e5d8c6",
   "metadata": {
    "execution": {
     "iopub.execute_input": "2023-06-29T15:40:18.208695Z",
     "iopub.status.busy": "2023-06-29T15:40:18.208420Z",
     "iopub.status.idle": "2023-06-29T15:40:18.212316Z",
     "shell.execute_reply": "2023-06-29T15:40:18.211410Z",
     "shell.execute_reply.started": "2023-06-29T15:40:18.208666Z"
    },
    "papermill": {},
    "tags": []
   },
   "outputs": [],
   "source": [
    "import requests\n",
    "import naas\n",
    "import pandas as pd"
   ]
  },
  {
   "cell_type": "markdown",
   "id": "5c45ef2a-b8b7-4f26-960c-880f20952e95",
   "metadata": {
    "papermill": {},
    "tags": []
   },
   "source": [
    "### Setup Variables\n",
    "- `token`: [Generate a personal access token](https://docs.github.com/en/github/authenticating-to-github/creating-a-personal-access-token)\n",
    "- `owner`: The account owner of the repository. The name is not case sensitive.\n",
    "- `repository`: The name of the repository without the .git extension. The name is not case sensitive.\n",
    "- `file_path`: Only commits containing this file path will be returned."
   ]
  },
  {
   "cell_type": "code",
   "execution_count": 15,
   "id": "a556e978-9376-4379-bef5-73d2738eb6c6",
   "metadata": {
    "execution": {
     "iopub.execute_input": "2023-06-29T15:40:21.206176Z",
     "iopub.status.busy": "2023-06-29T15:40:21.205827Z",
     "iopub.status.idle": "2023-06-29T15:40:26.408500Z",
     "shell.execute_reply": "2023-06-29T15:40:26.407493Z",
     "shell.execute_reply.started": "2023-06-29T15:40:21.206136Z"
    },
    "papermill": {},
    "tags": []
   },
   "outputs": [],
   "source": [
    "token = naas.secret.get(name=\"GITHUB_TOKEN\") or \"YOUR_GITHUB_TOKEN\"\n",
    "owner = \"jupyter-naas\"  # Replace with the owner/username of the repository\n",
    "repository = \"awesome-notebooks\" # Replace with the name of the repository\n",
    "file_path = \"generate_readme.ipynb\" # Replace with the path to the file in the repository"
   ]
  },
  {
   "cell_type": "markdown",
   "id": "0f2b7704-60e7-4e97-a1f9-b09779e7130a",
   "metadata": {
    "papermill": {},
    "tags": []
   },
   "source": [
    "## Model"
   ]
  },
  {
   "cell_type": "markdown",
   "id": "bb7f0cb3-dfe6-4031-8c10-77d1610184fd",
   "metadata": {
    "execution": {
     "iopub.execute_input": "2022-01-27T15:20:01.862544Z",
     "iopub.status.busy": "2022-01-27T15:20:01.862252Z",
     "iopub.status.idle": "2022-01-27T15:20:01.865361Z",
     "shell.execute_reply": "2022-01-27T15:20:01.864765Z",
     "shell.execute_reply.started": "2022-01-27T15:20:01.862513Z"
    },
    "papermill": {},
    "tags": []
   },
   "source": [
    "### List commits history from file path"
   ]
  },
  {
   "cell_type": "code",
   "execution_count": 32,
   "id": "334fee0f-2c06-41b0-b54c-56f78e2ec4f2",
   "metadata": {
    "execution": {
     "iopub.execute_input": "2023-06-29T15:45:55.576666Z",
     "iopub.status.busy": "2023-06-29T15:45:55.576403Z",
     "iopub.status.idle": "2023-06-29T15:45:56.232874Z",
     "shell.execute_reply": "2023-06-29T15:45:56.231884Z",
     "shell.execute_reply.started": "2023-06-29T15:45:55.576641Z"
    },
    "papermill": {},
    "tags": []
   },
   "outputs": [
    {
     "name": "stdout",
     "output_type": "stream",
     "text": [
      "Commits found: 30\n"
     ]
    }
   ],
   "source": [
    "def list_commits(token, owner, repository, file_path):\n",
    "    # Requests\n",
    "    url = f\"https://api.github.com/repos/{owner}/{repository}/commits?path={file_path}\"\n",
    "    headers = {\"Authorization\": f\"token {token}\"}\n",
    "    response = requests.get(url, headers=headers)\n",
    "    \n",
    "    # Response\n",
    "    res = requests.get(url)\n",
    "    if res.status_code == 200:\n",
    "        return res.json()\n",
    "    else:\n",
    "        print(res.json())\n",
    "        return {}\n",
    "\n",
    "commits = list_commits(token, owner, repository, file_path)\n",
    "print(\"Commits found:\", len(commits))"
   ]
  },
  {
   "cell_type": "markdown",
   "id": "f4087b7c-0347-45ee-95c4-b547f24b1bc2",
   "metadata": {
    "papermill": {},
    "tags": []
   },
   "source": [
    "## Output"
   ]
  },
  {
   "cell_type": "markdown",
   "id": "8d5c0e98-bf60-48ea-8764-d1b118c935bb",
   "metadata": {
    "papermill": {},
    "tags": []
   },
   "source": [
    "### Display results"
   ]
  },
  {
   "cell_type": "code",
   "execution_count": 34,
   "id": "a6bd32bd-0230-45a4-993f-92529c71a1bf",
   "metadata": {
    "execution": {
     "iopub.execute_input": "2023-06-29T15:46:22.806669Z",
     "iopub.status.busy": "2023-06-29T15:46:22.806354Z",
     "iopub.status.idle": "2023-06-29T15:46:22.818659Z",
     "shell.execute_reply": "2023-06-29T15:46:22.817553Z",
     "shell.execute_reply.started": "2023-06-29T15:46:22.806640Z"
    },
    "tags": []
   },
   "outputs": [
    {
     "name": "stdout",
     "output_type": "stream",
     "text": [
      "File first commit date: 2023-06-15T10:49:07Z\n",
      "File last commit date: 2023-06-28T09:25:00Z\n"
     ]
    },
    {
     "data": {
      "text/plain": [
       "{'sha': '6d2579ae024e5e66099c7ccc5f75bd1e3126161b',\n",
       " 'node_id': 'C_kwDOEeDlWNoAKDZkMjU3OWFlMDI0ZTVlNjYwOTljN2NjYzVmNzViZDFlMzEyNjE2MWI',\n",
       " 'commit': {'author': {'name': 'Benjifilly',\n",
       "   'email': 'Benjifilly@users.noreply.github.com',\n",
       "   'date': '2023-06-28T09:25:00Z'},\n",
       "  'committer': {'name': 'Benjifilly',\n",
       "   'email': 'Benjifilly@users.noreply.github.com',\n",
       "   'date': '2023-06-28T09:25:00Z'},\n",
       "  'message': 'generateReadme: Refresh',\n",
       "  'tree': {'sha': '2bb07668b9fbacefdb7103f09e901eb229808643',\n",
       "   'url': 'https://api.github.com/repos/jupyter-naas/awesome-notebooks/git/trees/2bb07668b9fbacefdb7103f09e901eb229808643'},\n",
       "  'url': 'https://api.github.com/repos/jupyter-naas/awesome-notebooks/git/commits/6d2579ae024e5e66099c7ccc5f75bd1e3126161b',\n",
       "  'comment_count': 0,\n",
       "  'verification': {'verified': False,\n",
       "   'reason': 'unsigned',\n",
       "   'signature': None,\n",
       "   'payload': None}},\n",
       " 'url': 'https://api.github.com/repos/jupyter-naas/awesome-notebooks/commits/6d2579ae024e5e66099c7ccc5f75bd1e3126161b',\n",
       " 'html_url': 'https://github.com/jupyter-naas/awesome-notebooks/commit/6d2579ae024e5e66099c7ccc5f75bd1e3126161b',\n",
       " 'comments_url': 'https://api.github.com/repos/jupyter-naas/awesome-notebooks/commits/6d2579ae024e5e66099c7ccc5f75bd1e3126161b/comments',\n",
       " 'author': {'login': 'Benjifilly',\n",
       "  'id': 112804903,\n",
       "  'node_id': 'U_kgDOBrlEJw',\n",
       "  'avatar_url': 'https://avatars.githubusercontent.com/u/112804903?v=4',\n",
       "  'gravatar_id': '',\n",
       "  'url': 'https://api.github.com/users/Benjifilly',\n",
       "  'html_url': 'https://github.com/Benjifilly',\n",
       "  'followers_url': 'https://api.github.com/users/Benjifilly/followers',\n",
       "  'following_url': 'https://api.github.com/users/Benjifilly/following{/other_user}',\n",
       "  'gists_url': 'https://api.github.com/users/Benjifilly/gists{/gist_id}',\n",
       "  'starred_url': 'https://api.github.com/users/Benjifilly/starred{/owner}{/repo}',\n",
       "  'subscriptions_url': 'https://api.github.com/users/Benjifilly/subscriptions',\n",
       "  'organizations_url': 'https://api.github.com/users/Benjifilly/orgs',\n",
       "  'repos_url': 'https://api.github.com/users/Benjifilly/repos',\n",
       "  'events_url': 'https://api.github.com/users/Benjifilly/events{/privacy}',\n",
       "  'received_events_url': 'https://api.github.com/users/Benjifilly/received_events',\n",
       "  'type': 'User',\n",
       "  'site_admin': False},\n",
       " 'committer': {'login': 'Benjifilly',\n",
       "  'id': 112804903,\n",
       "  'node_id': 'U_kgDOBrlEJw',\n",
       "  'avatar_url': 'https://avatars.githubusercontent.com/u/112804903?v=4',\n",
       "  'gravatar_id': '',\n",
       "  'url': 'https://api.github.com/users/Benjifilly',\n",
       "  'html_url': 'https://github.com/Benjifilly',\n",
       "  'followers_url': 'https://api.github.com/users/Benjifilly/followers',\n",
       "  'following_url': 'https://api.github.com/users/Benjifilly/following{/other_user}',\n",
       "  'gists_url': 'https://api.github.com/users/Benjifilly/gists{/gist_id}',\n",
       "  'starred_url': 'https://api.github.com/users/Benjifilly/starred{/owner}{/repo}',\n",
       "  'subscriptions_url': 'https://api.github.com/users/Benjifilly/subscriptions',\n",
       "  'organizations_url': 'https://api.github.com/users/Benjifilly/orgs',\n",
       "  'repos_url': 'https://api.github.com/users/Benjifilly/repos',\n",
       "  'events_url': 'https://api.github.com/users/Benjifilly/events{/privacy}',\n",
       "  'received_events_url': 'https://api.github.com/users/Benjifilly/received_events',\n",
       "  'type': 'User',\n",
       "  'site_admin': False},\n",
       " 'parents': [{'sha': '1d5d1c50275cb5031da28089c2c9a0d459203a81',\n",
       "   'url': 'https://api.github.com/repos/jupyter-naas/awesome-notebooks/commits/1d5d1c50275cb5031da28089c2c9a0d459203a81',\n",
       "   'html_url': 'https://github.com/jupyter-naas/awesome-notebooks/commit/1d5d1c50275cb5031da28089c2c9a0d459203a81'}]}"
      ]
     },
     "execution_count": 34,
     "metadata": {},
     "output_type": "execute_result"
    }
   ],
   "source": [
    "if len(commits) > 0:\n",
    "    created_at = commits[-1]['commit']['committer']['date']\n",
    "    updated_at = commits[0]['commit']['committer']['date']\n",
    "    print(\"File first commit date:\", created_at)\n",
    "    print(\"File last commit date:\", updated_at)\n",
    "else:\n",
    "    print(\"File not found or no commits found for the file.\")\n",
    "commits[0]"
   ]
  }
 ],
 "metadata": {
  "kernelspec": {
   "display_name": "Python 3",
   "language": "python",
   "name": "python3"
  },
  "language_info": {
   "codemirror_mode": {
    "name": "ipython",
    "version": 3
   },
   "file_extension": ".py",
   "mimetype": "text/x-python",
   "name": "python",
   "nbconvert_exporter": "python",
   "pygments_lexer": "ipython3",
   "version": "3.9.6"
  },
  "naas": {
   "notebook_id": "f89b6e0c45286c0029ace95a4357a4d498a9b31f5c1625082e26eb2ff82e1bf7",
   "notebook_path": "GitHub/GitHub_Get_commits_from_repository.ipynb"
  },
  "papermill": {
   "default_parameters": {},
   "environment_variables": {},
   "parameters": {},
   "version": "2.3.4"
  }
 },
 "nbformat": 4,
 "nbformat_minor": 5
}
