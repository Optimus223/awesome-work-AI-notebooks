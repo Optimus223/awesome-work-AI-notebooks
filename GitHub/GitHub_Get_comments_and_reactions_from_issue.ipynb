{
 "cells": [
  {
   "cell_type": "markdown",
   "id": "84cadd0c",
   "metadata": {
    "papermill": {},
    "tags": []
   },
   "source": [
    "<img width=\"8%\" alt=\"GitHub.png\" src=\"https://raw.githubusercontent.com/jupyter-naas/awesome-notebooks/master/.github/assets/logos/GitHub.png\" style=\"border-radius: 15%\">"
   ]
  },
  {
   "cell_type": "markdown",
   "id": "0d43ed38",
   "metadata": {
    "papermill": {},
    "tags": []
   },
   "source": [
    "# GitHub - Get comments and reactions from issue\n",
    "<a href=\"https://bit.ly/3JyWIk6\">Give Feedback</a> | <a href=\"https://github.com/jupyter-naas/awesome-notebooks/issues/new?assignees=&labels=bug&template=bug_report.md&title=GitHub+-+Add+new+issues+as+page+in+Notion+database:+Error+short+description\">Bug report</a>"
   ]
  },
  {
   "cell_type": "markdown",
   "id": "d9313642",
   "metadata": {
    "papermill": {},
    "tags": []
   },
   "source": [
    "**Tags:** #github #reaction #issue #comment #automation"
   ]
  },
  {
   "cell_type": "markdown",
   "id": "8faf487c",
   "metadata": {
    "papermill": {},
    "tags": []
   },
   "source": [
    "**Author:** [Varsha Kumar](https://www.linkedin.com/in/varsha-kumar-590466305/)"
   ]
  },
  {
   "cell_type": "markdown",
   "id": "3dba1c73-548d-4008-82ad-fdb2cb376771",
   "metadata": {
    "papermill": {},
    "tags": []
   },
   "source": [
    "**Last update:** 2024-06-05 (Created: 2024-06-04)"
   ]
  },
  {
   "cell_type": "markdown",
   "id": "naas-description",
   "metadata": {
    "papermill": {},
    "tags": [
     "description"
    ]
   },
   "source": [
    "**Description:** This notebook allows users to retrieve the comments and reactions from an issue."
   ]
  },
  {
   "cell_type": "markdown",
   "id": "7412988b",
   "metadata": {
    "papermill": {},
    "tags": []
   },
   "source": [
    "## Input"
   ]
  },
  {
   "cell_type": "code",
   "execution_count": 1,
   "id": "353ef79c",
   "metadata": {
    "execution": {
     "iopub.execute_input": "2024-06-12T09:20:13.245852Z",
     "iopub.status.busy": "2024-06-12T09:20:13.245403Z",
     "iopub.status.idle": "2024-06-12T09:20:14.145221Z",
     "shell.execute_reply": "2024-06-12T09:20:14.144570Z",
     "shell.execute_reply.started": "2024-06-12T09:20:13.245780Z"
    },
    "papermill": {},
    "tags": []
   },
   "outputs": [],
   "source": [
    "import requests\n",
    "import re\n",
    "import pandas as pd\n",
    "import naas_python as naas"
   ]
  },
  {
   "cell_type": "markdown",
   "id": "68b48858",
   "metadata": {
    "papermill": {},
    "tags": []
   },
   "source": [
    "### Setup variables\n",
    "- `github_token`: personal token creates\n",
    "- `issue_url`: link to the chosen issue"
   ]
  },
  {
   "cell_type": "code",
   "execution_count": 2,
   "id": "01647a55",
   "metadata": {
    "execution": {
     "iopub.execute_input": "2024-06-12T09:20:14.146625Z",
     "iopub.status.busy": "2024-06-12T09:20:14.146400Z",
     "iopub.status.idle": "2024-06-12T09:20:16.225657Z",
     "shell.execute_reply": "2024-06-12T09:20:16.224913Z",
     "shell.execute_reply.started": "2024-06-12T09:20:14.146595Z"
    },
    "papermill": {},
    "tags": []
   },
   "outputs": [],
   "source": [
    "github_token = naas.secret.get(\"GITHUB_TOKEN\").value\n",
    "issue_url = \"https://github.com/pola-rs/polars/issues/16661\""
   ]
  },
  {
   "cell_type": "markdown",
   "id": "93347abb",
   "metadata": {
    "papermill": {},
    "tags": []
   },
   "source": [
    "## Model\n",
    "### Get comments and reactions from issue"
   ]
  },
  {
   "cell_type": "code",
   "execution_count": 3,
   "id": "29e87112-879c-439c-87b3-3065f9a91085",
   "metadata": {
    "execution": {
     "iopub.execute_input": "2024-06-12T09:20:16.226908Z",
     "iopub.status.busy": "2024-06-12T09:20:16.226688Z",
     "iopub.status.idle": "2024-06-12T09:20:16.234122Z",
     "shell.execute_reply": "2024-06-12T09:20:16.233469Z",
     "shell.execute_reply.started": "2024-06-12T09:20:16.226880Z"
    },
    "tags": []
   },
   "outputs": [],
   "source": [
    "def extract_repo_details(issue_url):\n",
    "    # Extract owner, repo name, and issue number from the issue URL\n",
    "    match = re.match(r'https://github\\.com/(?P<owner>[^/]+)/(?P<repo>[^/]+)/issues/(?P<number>\\d+)', issue_url)\n",
    "    if not match:\n",
    "        raise ValueError(\"Invalid issue URL\")\n",
    "    return match.group('owner'), match.group('repo'), match.group('number')\n",
    "\n",
    "def get_issue_comments(repo_owner, repo_name, issue_number):\n",
    "    # GitHub API URL to get issue comments\n",
    "    api_url = f\"https://api.github.com/repos/{repo_owner}/{repo_name}/issues/{issue_number}/comments\"\n",
    "    headers = {\n",
    "        'Authorization': f'token {github_token}',\n",
    "        'Accept': 'application/vnd.github.v3+json'\n",
    "    }\n",
    "\n",
    "    response = requests.get(api_url, headers=headers)\n",
    "    \n",
    "    if response.status_code == 200:\n",
    "        return response.json()\n",
    "    else:\n",
    "        print(f\"Failed to fetch comments: {response.status_code}\")\n",
    "        return []\n",
    "\n",
    "def get_comment_reactions(repo_owner, repo_name, comment_id):\n",
    "    api_url = f\"https://api.github.com/repos/{repo_owner}/{repo_name}/issues/comments/{comment_id}/reactions\"\n",
    "    headers = {\n",
    "        'Authorization': f'token {github_token}',\n",
    "        'Accept': 'application/vnd.github.squirrel-girl-preview+json'  # Required for reactions API\n",
    "    }\n",
    "\n",
    "    response = requests.get(api_url, headers=headers)\n",
    "\n",
    "    if response.status_code == 200:\n",
    "        return response.json()\n",
    "    else:\n",
    "        print(f\"Failed to fetch reactions for comment {comment_id}: {response.status_code}\")\n",
    "        return []"
   ]
  },
  {
   "cell_type": "markdown",
   "id": "b819d06a",
   "metadata": {
    "papermill": {},
    "tags": []
   },
   "source": [
    "## Output\n",
    "### Display result"
   ]
  },
  {
   "cell_type": "code",
   "execution_count": 4,
   "id": "947ce69b-f636-4ac4-abd9-4254fca3f897",
   "metadata": {
    "execution": {
     "iopub.execute_input": "2024-06-12T09:20:16.236150Z",
     "iopub.status.busy": "2024-06-12T09:20:16.235752Z",
     "iopub.status.idle": "2024-06-12T09:20:16.932916Z",
     "shell.execute_reply": "2024-06-12T09:20:16.932344Z",
     "shell.execute_reply.started": "2024-06-12T09:20:16.236108Z"
    },
    "tags": []
   },
   "outputs": [
    {
     "data": {
      "text/html": [
       "<div>\n",
       "<style scoped>\n",
       "    .dataframe tbody tr th:only-of-type {\n",
       "        vertical-align: middle;\n",
       "    }\n",
       "\n",
       "    .dataframe tbody tr th {\n",
       "        vertical-align: top;\n",
       "    }\n",
       "\n",
       "    .dataframe thead th {\n",
       "        text-align: right;\n",
       "    }\n",
       "</style>\n",
       "<table border=\"1\" class=\"dataframe\">\n",
       "  <thead>\n",
       "    <tr style=\"text-align: right;\">\n",
       "      <th></th>\n",
       "      <th>OBJECT_URL</th>\n",
       "      <th>ID</th>\n",
       "      <th>TYPE</th>\n",
       "      <th>CONTENT</th>\n",
       "      <th>DATE_TIME</th>\n",
       "      <th>USER_LOGIN</th>\n",
       "      <th>USER_ID</th>\n",
       "    </tr>\n",
       "  </thead>\n",
       "  <tbody>\n",
       "    <tr>\n",
       "      <th>0</th>\n",
       "      <td>https://api.github.com/repos/pola-rs/polars/is...</td>\n",
       "      <td>2144455441</td>\n",
       "      <td>COMMENT</td>\n",
       "      <td>We can support both. Coming up.</td>\n",
       "      <td>2024-06-03T07:20:29Z</td>\n",
       "      <td>ritchie46</td>\n",
       "      <td>3023000</td>\n",
       "    </tr>\n",
       "    <tr>\n",
       "      <th>1</th>\n",
       "      <td>https://api.github.com/repos/pola-rs/polars/is...</td>\n",
       "      <td>2144455441</td>\n",
       "      <td>REACTION</td>\n",
       "      <td>hooray</td>\n",
       "      <td>2024-06-03T07:25:35Z</td>\n",
       "      <td>alexander-beedie</td>\n",
       "      <td>2613171</td>\n",
       "    </tr>\n",
       "    <tr>\n",
       "      <th>2</th>\n",
       "      <td>https://api.github.com/repos/pola-rs/polars/is...</td>\n",
       "      <td>2144455441</td>\n",
       "      <td>REACTION</td>\n",
       "      <td>+1</td>\n",
       "      <td>2024-06-03T10:26:28Z</td>\n",
       "      <td>cmdlineluser</td>\n",
       "      <td>99486669</td>\n",
       "    </tr>\n",
       "  </tbody>\n",
       "</table>\n",
       "</div>"
      ],
      "text/plain": [
       "                                          OBJECT_URL          ID      TYPE  \\\n",
       "0  https://api.github.com/repos/pola-rs/polars/is...  2144455441   COMMENT   \n",
       "1  https://api.github.com/repos/pola-rs/polars/is...  2144455441  REACTION   \n",
       "2  https://api.github.com/repos/pola-rs/polars/is...  2144455441  REACTION   \n",
       "\n",
       "                           CONTENT             DATE_TIME        USER_LOGIN  \\\n",
       "0  We can support both. Coming up.  2024-06-03T07:20:29Z         ritchie46   \n",
       "1                           hooray  2024-06-03T07:25:35Z  alexander-beedie   \n",
       "2                               +1  2024-06-03T10:26:28Z      cmdlineluser   \n",
       "\n",
       "    USER_ID  \n",
       "0   3023000  \n",
       "1   2613171  \n",
       "2  99486669  "
      ]
     },
     "execution_count": 4,
     "metadata": {},
     "output_type": "execute_result"
    }
   ],
   "source": [
    "data = []\n",
    "\n",
    "try:\n",
    "    repo_owner, repo_name, issue_number = extract_repo_details(issue_url)\n",
    "    comments = get_issue_comments(repo_owner, repo_name, issue_number)\n",
    "\n",
    "    for comment in comments:\n",
    "        object_url = comment['issue_url']\n",
    "        comment_id = comment['id']\n",
    "        comment_body = comment['body']\n",
    "        comment_created_at = comment['created_at']\n",
    "        comment_user_login = comment['user']['login']\n",
    "        comment_user_id = comment['user']['id']\n",
    "        \n",
    "        data = [{\n",
    "            \"OBJECT_URL\": object_url,\n",
    "            \"ID\": comment_id,\n",
    "            \"TYPE\": \"COMMENT\",\n",
    "            \"CONTENT\": comment_body,\n",
    "            \"DATE_TIME\": comment_created_at,\n",
    "            \"USER_LOGIN\": comment_user_login,\n",
    "            \"USER_ID\": comment_user_id,\n",
    "        }]\n",
    "        \n",
    "        reactions = get_comment_reactions(repo_owner, repo_name, comment_id)\n",
    "        for reaction in reactions:\n",
    "            reaction_id = reaction['id']\n",
    "            reaction_body = reaction['content']\n",
    "            reaction_created_at = reaction['created_at']\n",
    "            reaction_user_login = reaction['user']['login']\n",
    "            reaction_user_id = reaction['user']['id']\n",
    "            \n",
    "            data.append({\n",
    "                \"OBJECT_URL\": object_url,\n",
    "                \"ID\": comment_id,\n",
    "                \"TYPE\": \"REACTION\",\n",
    "                \"CONTENT\": reaction_body,\n",
    "                \"DATE_TIME\": reaction_created_at,\n",
    "                \"USER_LOGIN\": reaction_user_login,\n",
    "                \"USER_ID\": reaction_user_id,\n",
    "            })\n",
    "        \n",
    "        \n",
    "\n",
    "except ValueError as e:\n",
    "    print(e)\n",
    "    \n",
    "df = pd.DataFrame(data)\n",
    "df"
   ]
  },
  {
   "cell_type": "code",
   "execution_count": null,
   "id": "5326f466-a95b-467a-8b8e-30235d6e5a78",
   "metadata": {},
   "outputs": [],
   "source": []
  }
 ],
 "metadata": {
  "kernelspec": {
   "display_name": "Python 3",
   "language": "python",
   "name": "python3"
  },
  "language_info": {
   "codemirror_mode": {
    "name": "ipython",
    "version": 3
   },
   "file_extension": ".py",
   "mimetype": "text/x-python",
   "name": "python",
   "nbconvert_exporter": "python",
   "pygments_lexer": "ipython3",
   "version": "3.9.6"
  },
  "naas": {
   "notebook_id": "b8a92a0e4b6e40db304564f999566443fb35e93df716ab4be5021aabba8230ee",
   "notebook_path": "GitHub/GitHub_Add_new_issues_as_page_in_Notion_database.ipynb"
  },
  "papermill": {
   "default_parameters": {},
   "environment_variables": {},
   "parameters": {},
   "version": "2.3.4"
  }
 },
 "nbformat": 4,
 "nbformat_minor": 5
}
