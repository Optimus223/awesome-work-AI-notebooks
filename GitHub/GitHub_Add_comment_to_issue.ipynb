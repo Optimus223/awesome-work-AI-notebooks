{
 "cells": [
  {
   "cell_type": "markdown",
   "id": "1f1420f1-6bde-4016-bda6-5f6c9685771f",
   "metadata": {
    "papermill": {},
    "tags": []
   },
   "source": [
    "<img width=\"10%\" alt=\"Naas\" src=\"https://landen.imgix.net/jtci2pxwjczr/assets/5ice39g4.png?w=160\"/>"
   ]
  },
  {
   "cell_type": "markdown",
   "id": "258874e3-20d1-4a2e-a3f9-874889872713",
   "metadata": {
    "papermill": {},
    "tags": []
   },
   "source": [
    "# GitHub - Add comment to issue"
   ]
  },
  {
   "cell_type": "markdown",
   "id": "2cf92420-8d0c-44d5-841d-fc432358e1a6",
   "metadata": {
    "papermill": {},
    "tags": []
   },
   "source": [
    "**Tags:** #github #issue #comment #api #python #library"
   ]
  },
  {
   "cell_type": "markdown",
   "id": "05f8f528-8e03-493c-926b-829fd3380aa6",
   "metadata": {
    "papermill": {},
    "tags": []
   },
   "source": [
    "**Author:** [Florent Ravenel](https://www.linkedin.com/in/florent-ravenel/)"
   ]
  },
  {
   "cell_type": "markdown",
   "id": "dc9481f3-d140-455d-925a-c47a1b41307c",
   "metadata": {
    "papermill": {},
    "tags": []
   },
   "source": [
    "**Description:** This notebook shows how to add a comment to an issue on GitHub using the GitHub API and Python. It is usefull for organizations that need to automate the process of adding comments to issues."
   ]
  },
  {
   "cell_type": "markdown",
   "id": "9ba9f2ed-a2c5-40d9-a27e-9de73d31b57f",
   "metadata": {
    "papermill": {},
    "tags": []
   },
   "source": [
    "**References:**\n- [GitHub API Documentation](https://developer.github.com/v3/)\n- [PyGithub Documentation](https://pygithub.readthedocs.io/en/latest/)"
   ]
  },
  {
   "cell_type": "markdown",
   "id": "aecf43dd-d63f-49a0-89b3-8b2a7b545179",
   "metadata": {
    "papermill": {},
    "tags": []
   },
   "source": [
    "## Input"
   ]
  },
  {
   "cell_type": "markdown",
   "id": "2dc65245-a1dc-4c94-a801-f014b77ead2e",
   "metadata": {
    "papermill": {},
    "tags": []
   },
   "source": [
    "### Import libraries"
   ]
  },
  {
   "cell_type": "code",
   "execution_count": null,
   "id": "0786e518-998f-4b9b-a015-a086a3a9f6f0",
   "metadata": {
    "papermill": {},
    "tags": []
   },
   "source": "import requests\nfrom github import Github",
   "outputs": []
  },
  {
   "cell_type": "markdown",
   "id": "e66c3509-53e9-40ed-a012-11490eb71be9",
   "metadata": {
    "papermill": {},
    "tags": []
   },
   "source": [
    "### Setup Variables\n- `token`: [GitHub token](https://help.github.com/en/github/authenticating-to-github/creating-a-personal-access-token-for-the-command-line)\n- `owner`: owner of the repository\n- `repo`: name of the repository\n- `issue_number`: number of the issue\n- `comment`: comment to be added"
   ]
  },
  {
   "cell_type": "code",
   "execution_count": null,
   "id": "55d4eaed-f009-4a2d-8d6c-5489dfedc69a",
   "metadata": {
    "papermill": {},
    "tags": []
   },
   "source": "token = \"YOUR_TOKEN\"\nowner = \"OWNER\"\nrepo = \"REPO\"\nissue_number = 1\ncomment = \"This is a comment\"",
   "outputs": []
  },
  {
   "cell_type": "markdown",
   "id": "923292cd-ee21-4c00-a34d-f6fd6dcd2c5d",
   "metadata": {
    "papermill": {},
    "tags": []
   },
   "source": [
    "## Model"
   ]
  },
  {
   "cell_type": "markdown",
   "id": "b90b2d73-92fd-436d-995a-00236a167e48",
   "metadata": {
    "papermill": {},
    "tags": []
   },
   "source": [
    "### Add comment to issue"
   ]
  },
  {
   "cell_type": "code",
   "execution_count": null,
   "id": "95cc4efd-49bc-4e6e-99f5-729fd22f38c8",
   "metadata": {
    "papermill": {},
    "tags": []
   },
   "source": "# Create a Github instance\ng = Github(token)\n# Get the repository\nrepo = g.get_repo(f\"{owner}/{repo}\")\n# Get the issue\nissue = repo.get_issue(issue_number)\n# Add the comment\nissue.create_comment(comment)",
   "outputs": []
  },
  {
   "cell_type": "markdown",
   "id": "313ce53c-2666-4e55-b2d1-7c26f87df3eb",
   "metadata": {
    "papermill": {},
    "tags": []
   },
   "source": [
    "## Output"
   ]
  },
  {
   "cell_type": "markdown",
   "id": "8ddc5ab5-8700-4184-83d8-56b87694ed15",
   "metadata": {
    "papermill": {},
    "tags": []
   },
   "source": [
    "### Display result"
   ]
  },
  {
   "cell_type": "code",
   "execution_count": null,
   "id": "3e112ad8-3eae-4ac7-bcf4-89e4ed593e6b",
   "metadata": {
    "papermill": {},
    "tags": []
   },
   "source": "# Get the comments\ncomments = issue.get_comments()\n# Print the comments\nfor comment in comments:\n    print(comment.body)",
   "outputs": []
  },
  {
   "cell_type": "markdown",
   "id": "0bffcd19-4ae1-4e78-8348-094cbde52829",
   "metadata": {
    "papermill": {},
    "tags": []
   },
   "source": [
    " "
   ]
  }
 ],
 "metadata": {
  "kernelspec": {
   "display_name": "Python 3",
   "language": "python",
   "name": "python3"
  },
  "language_info": {
   "codemirror_mode": {
    "name": "ipython",
    "version": 3
   },
   "file_extension": ".py",
   "mimetype": "text/x-python",
   "name": "python",
   "nbconvert_exporter": "python",
   "pygments_lexer": "ipython3",
   "version": "3.9.6"
  },
  "widgets": {
   "application/vnd.jupyter.widget-state+json": {
    "state": {},
    "version_major": 2,
    "version_minor": 0
   }
  }
 },
 "nbformat": 4,
 "nbformat_minor": 5
}