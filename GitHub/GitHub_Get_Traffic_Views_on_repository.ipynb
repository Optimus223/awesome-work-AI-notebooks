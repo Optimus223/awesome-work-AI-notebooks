{
 "cells": [
  {
   "cell_type": "markdown",
   "id": "5250e7a4-b095-4923-be98-e284c0cafcba",
   "metadata": {
    "papermill": {},
    "tags": []
   },
   "source": [
    "<img width=\"10%\" alt=\"Naas\" src=\"https://landen.imgix.net/jtci2pxwjczr/assets/5ice39g4.png?w=160\"/>"
   ]
  },
  {
   "cell_type": "markdown",
   "id": "cfbb8d59-ce4d-46f0-aef8-35ffd488627b",
   "metadata": {
    "papermill": {},
    "tags": []
   },
   "source": [
    "# GitHub - Get Traffic Views on repository\n",
    "<a href=\"https://app.naas.ai/user-redirect/naas/downloader?url=https://raw.githubusercontent.com/jupyter-naas/awesome-notebooks/master/GitHub/GitHub_Get_Traffic_Views_on_repository.ipynb\" target=\"_parent\"><img src=\"https://naasai-public.s3.eu-west-3.amazonaws.com/open_in_naas.svg\"/></a><br><br><a href=\"https://github.com/jupyter-naas/awesome-notebooks/issues/new?assignees=&labels=&template=template-request.md&title=Tool+-+Action+of+the+notebook+\">Template request</a> | <a href=\"https://github.com/jupyter-naas/awesome-notebooks/issues/new?assignees=&labels=bug&template=bug_report.md&title=GitHub+-+Get+Traffic+Views+on+repository:+Error+short+description\">Bug report</a>"
   ]
  },
  {
   "cell_type": "markdown",
   "id": "0e224827-f31b-4bfa-82c3-6e18beb6be25",
   "metadata": {
    "papermill": {},
    "tags": []
   },
   "source": [
    "**Tags:** #github #api #traffic #views #plotly #linechart #analytics"
   ]
  },
  {
   "cell_type": "markdown",
   "id": "70d84773-b412-4f13-a118-0307b14d4ac2",
   "metadata": {
    "papermill": {},
    "tags": []
   },
   "source": [
    "**Author:** [Florent Ravenel](https://www.linkedin.com/in/florent-ravenel/)"
   ]
  },
  {
   "cell_type": "markdown",
   "id": "c95d4387-2aeb-491c-bb18-0922b2d479ab",
   "metadata": {
    "papermill": {},
    "tags": []
   },
   "source": [
    "**Description:** This notebook will show how to get traffic views on a GitHub repository."
   ]
  },
  {
   "cell_type": "markdown",
   "id": "1514cedc-c283-4e1f-9fec-ba4ec4fa15ee",
   "metadata": {
    "papermill": {},
    "tags": []
   },
   "source": [
    "<u>References:</u>\n",
    "- [GitHub API Documentation](https://developer.github.com/v3/)\n",
    "- [GitHub Traffic API Documentation](https://developer.github.com/v3/repos/traffic/)"
   ]
  },
  {
   "cell_type": "markdown",
   "id": "6cf72343-0fe7-4858-9e6d-7b44781f6596",
   "metadata": {
    "papermill": {},
    "tags": []
   },
   "source": [
    "## Input"
   ]
  },
  {
   "cell_type": "markdown",
   "id": "14a80611-8006-45d3-a871-cfb35d6c1117",
   "metadata": {
    "papermill": {},
    "tags": []
   },
   "source": [
    "### Import libraries"
   ]
  },
  {
   "cell_type": "code",
   "execution_count": 1,
   "id": "d8952efe-7e96-4867-b62d-8c71023b29b2",
   "metadata": {
    "execution": {
     "iopub.execute_input": "2023-02-16T19:00:47.984923Z",
     "iopub.status.busy": "2023-02-16T19:00:47.984555Z",
     "iopub.status.idle": "2023-02-16T19:00:54.032541Z",
     "shell.execute_reply": "2023-02-16T19:00:54.031787Z",
     "shell.execute_reply.started": "2023-02-16T19:00:47.984827Z"
    },
    "papermill": {},
    "tags": []
   },
   "outputs": [],
   "source": [
    "import requests\n",
    "import naas\n",
    "from pprint import pprint\n",
    "import pandas as pd\n",
    "import plotly.graph_objects as go"
   ]
  },
  {
   "cell_type": "markdown",
   "id": "498638d5-682a-4e06-9692-cf11cc7ed3da",
   "metadata": {
    "papermill": {},
    "tags": []
   },
   "source": [
    "### Setup Variables\n",
    "- Create your personal access token [here](https://github.com/settings/tokens)\n",
    "- Select all scopes on \"repo\" section"
   ]
  },
  {
   "cell_type": "code",
   "execution_count": 2,
   "id": "76e9d02a-7c3b-4db8-9781-6eaf14c5700b",
   "metadata": {
    "execution": {
     "iopub.execute_input": "2023-02-16T19:00:54.034258Z",
     "iopub.status.busy": "2023-02-16T19:00:54.033848Z",
     "iopub.status.idle": "2023-02-16T19:00:54.188934Z",
     "shell.execute_reply": "2023-02-16T19:00:54.187442Z",
     "shell.execute_reply.started": "2023-02-16T19:00:54.034227Z"
    },
    "papermill": {},
    "tags": []
   },
   "outputs": [],
   "source": [
    "repo_url = \"https://github.com/jupyter-naas/awesome-notebooks\"\n",
    "token = naas.secret.get(\"GITHUB_TOKEN\") or \"GITHUB_TOKEN\""
   ]
  },
  {
   "cell_type": "markdown",
   "id": "d9e54eda-23ff-4b71-8f67-2f14a369cdc5",
   "metadata": {
    "papermill": {},
    "tags": []
   },
   "source": [
    "## Model"
   ]
  },
  {
   "cell_type": "markdown",
   "id": "fa1e189a-4c12-4bc2-8eb3-04214cdfe596",
   "metadata": {
    "papermill": {},
    "tags": []
   },
   "source": [
    "### Get Traffic Views"
   ]
  },
  {
   "cell_type": "markdown",
   "id": "689cbfc4-1f62-487e-a229-82be571ba5f2",
   "metadata": {
    "papermill": {},
    "tags": []
   },
   "source": [
    "This function will get the traffic views of a GitHub repository."
   ]
  },
  {
   "cell_type": "code",
   "execution_count": 3,
   "id": "c78e54c7-5fb2-4262-a9c9-3e26aa8c759c",
   "metadata": {
    "execution": {
     "iopub.execute_input": "2023-02-16T19:00:54.190305Z",
     "iopub.status.busy": "2023-02-16T19:00:54.190137Z",
     "iopub.status.idle": "2023-02-16T19:00:54.516490Z",
     "shell.execute_reply": "2023-02-16T19:00:54.514569Z",
     "shell.execute_reply.started": "2023-02-16T19:00:54.190286Z"
    },
    "papermill": {},
    "tags": []
   },
   "outputs": [
    {
     "name": "stdout",
     "output_type": "stream",
     "text": [
      "{'count': 2535,\n",
      " 'uniques': 294,\n",
      " 'views': [{'count': 12, 'timestamp': '2023-02-02T00:00:00Z', 'uniques': 5},\n",
      "           {'count': 125, 'timestamp': '2023-02-03T00:00:00Z', 'uniques': 34},\n",
      "           {'count': 131, 'timestamp': '2023-02-04T00:00:00Z', 'uniques': 25},\n",
      "           {'count': 104, 'timestamp': '2023-02-05T00:00:00Z', 'uniques': 22},\n",
      "           {'count': 167, 'timestamp': '2023-02-06T00:00:00Z', 'uniques': 38},\n",
      "           {'count': 112, 'timestamp': '2023-02-07T00:00:00Z', 'uniques': 34},\n",
      "           {'count': 270, 'timestamp': '2023-02-08T00:00:00Z', 'uniques': 34},\n",
      "           {'count': 61, 'timestamp': '2023-02-09T00:00:00Z', 'uniques': 25},\n",
      "           {'count': 170, 'timestamp': '2023-02-10T00:00:00Z', 'uniques': 31},\n",
      "           {'count': 106, 'timestamp': '2023-02-11T00:00:00Z', 'uniques': 9},\n",
      "           {'count': 162, 'timestamp': '2023-02-12T00:00:00Z', 'uniques': 17},\n",
      "           {'count': 181, 'timestamp': '2023-02-13T00:00:00Z', 'uniques': 24},\n",
      "           {'count': 152, 'timestamp': '2023-02-14T00:00:00Z', 'uniques': 30},\n",
      "           {'count': 356, 'timestamp': '2023-02-15T00:00:00Z', 'uniques': 35},\n",
      "           {'count': 426, 'timestamp': '2023-02-16T00:00:00Z', 'uniques': 32}]}\n"
     ]
    }
   ],
   "source": [
    "def get_traffic_views(repo_url, token):\n",
    "    # owner + name of the repository\n",
    "    owner = repo_url.split(\"/\")[-2]\n",
    "    name = repo_url.split(\"/\")[-1]\n",
    "    url = f\"https://api.github.com/repos/{owner}/{name}/traffic/views\"\n",
    "    headers = {\"Authorization\": f\"token {token}\"}\n",
    "    response = requests.get(url, headers=headers)\n",
    "    return response.json()\n",
    "\n",
    "\n",
    "traffic_views = get_traffic_views(repo_url, token)\n",
    "pprint(traffic_views)"
   ]
  },
  {
   "cell_type": "markdown",
   "id": "cc18d4e3-9fc7-4582-a999-92be5d2e534e",
   "metadata": {
    "papermill": {},
    "tags": []
   },
   "source": [
    "## Output"
   ]
  },
  {
   "cell_type": "markdown",
   "id": "2e8b7d76-c0dd-499c-a8ed-07d416dd27a1",
   "metadata": {
    "papermill": {},
    "tags": []
   },
   "source": [
    "### Display data"
   ]
  },
  {
   "cell_type": "code",
   "execution_count": 4,
   "id": "f4770351-565c-49f4-b0b7-51e81bc1cc2c",
   "metadata": {
    "execution": {
     "iopub.execute_input": "2023-02-16T19:00:54.557976Z",
     "iopub.status.busy": "2023-02-16T19:00:54.557689Z",
     "iopub.status.idle": "2023-02-16T19:00:54.649343Z",
     "shell.execute_reply": "2023-02-16T19:00:54.648634Z",
     "shell.execute_reply.started": "2023-02-16T19:00:54.557943Z"
    },
    "papermill": {},
    "tags": []
   },
   "outputs": [
    {
     "name": "stdout",
     "output_type": "stream",
     "text": [
      "-> Git views on the last 14 days\n",
      "Views count: 2535\n",
      "Uniques viewer: 294\n"
     ]
    },
    {
     "data": {
      "text/html": [
       "<div>\n",
       "<style scoped>\n",
       "    .dataframe tbody tr th:only-of-type {\n",
       "        vertical-align: middle;\n",
       "    }\n",
       "\n",
       "    .dataframe tbody tr th {\n",
       "        vertical-align: top;\n",
       "    }\n",
       "\n",
       "    .dataframe thead th {\n",
       "        text-align: right;\n",
       "    }\n",
       "</style>\n",
       "<table border=\"1\" class=\"dataframe\">\n",
       "  <thead>\n",
       "    <tr style=\"text-align: right;\">\n",
       "      <th></th>\n",
       "      <th>timestamp</th>\n",
       "      <th>count</th>\n",
       "      <th>uniques</th>\n",
       "    </tr>\n",
       "  </thead>\n",
       "  <tbody>\n",
       "    <tr>\n",
       "      <th>0</th>\n",
       "      <td>2023-02-02T00:00:00Z</td>\n",
       "      <td>12</td>\n",
       "      <td>5</td>\n",
       "    </tr>\n",
       "    <tr>\n",
       "      <th>1</th>\n",
       "      <td>2023-02-03T00:00:00Z</td>\n",
       "      <td>125</td>\n",
       "      <td>34</td>\n",
       "    </tr>\n",
       "    <tr>\n",
       "      <th>2</th>\n",
       "      <td>2023-02-04T00:00:00Z</td>\n",
       "      <td>131</td>\n",
       "      <td>25</td>\n",
       "    </tr>\n",
       "    <tr>\n",
       "      <th>3</th>\n",
       "      <td>2023-02-05T00:00:00Z</td>\n",
       "      <td>104</td>\n",
       "      <td>22</td>\n",
       "    </tr>\n",
       "    <tr>\n",
       "      <th>4</th>\n",
       "      <td>2023-02-06T00:00:00Z</td>\n",
       "      <td>167</td>\n",
       "      <td>38</td>\n",
       "    </tr>\n",
       "    <tr>\n",
       "      <th>5</th>\n",
       "      <td>2023-02-07T00:00:00Z</td>\n",
       "      <td>112</td>\n",
       "      <td>34</td>\n",
       "    </tr>\n",
       "    <tr>\n",
       "      <th>6</th>\n",
       "      <td>2023-02-08T00:00:00Z</td>\n",
       "      <td>270</td>\n",
       "      <td>34</td>\n",
       "    </tr>\n",
       "    <tr>\n",
       "      <th>7</th>\n",
       "      <td>2023-02-09T00:00:00Z</td>\n",
       "      <td>61</td>\n",
       "      <td>25</td>\n",
       "    </tr>\n",
       "    <tr>\n",
       "      <th>8</th>\n",
       "      <td>2023-02-10T00:00:00Z</td>\n",
       "      <td>170</td>\n",
       "      <td>31</td>\n",
       "    </tr>\n",
       "    <tr>\n",
       "      <th>9</th>\n",
       "      <td>2023-02-11T00:00:00Z</td>\n",
       "      <td>106</td>\n",
       "      <td>9</td>\n",
       "    </tr>\n",
       "    <tr>\n",
       "      <th>10</th>\n",
       "      <td>2023-02-12T00:00:00Z</td>\n",
       "      <td>162</td>\n",
       "      <td>17</td>\n",
       "    </tr>\n",
       "    <tr>\n",
       "      <th>11</th>\n",
       "      <td>2023-02-13T00:00:00Z</td>\n",
       "      <td>181</td>\n",
       "      <td>24</td>\n",
       "    </tr>\n",
       "    <tr>\n",
       "      <th>12</th>\n",
       "      <td>2023-02-14T00:00:00Z</td>\n",
       "      <td>152</td>\n",
       "      <td>30</td>\n",
       "    </tr>\n",
       "    <tr>\n",
       "      <th>13</th>\n",
       "      <td>2023-02-15T00:00:00Z</td>\n",
       "      <td>356</td>\n",
       "      <td>35</td>\n",
       "    </tr>\n",
       "    <tr>\n",
       "      <th>14</th>\n",
       "      <td>2023-02-16T00:00:00Z</td>\n",
       "      <td>426</td>\n",
       "      <td>32</td>\n",
       "    </tr>\n",
       "  </tbody>\n",
       "</table>\n",
       "</div>"
      ],
      "text/plain": [
       "               timestamp  count  uniques\n",
       "0   2023-02-02T00:00:00Z     12        5\n",
       "1   2023-02-03T00:00:00Z    125       34\n",
       "2   2023-02-04T00:00:00Z    131       25\n",
       "3   2023-02-05T00:00:00Z    104       22\n",
       "4   2023-02-06T00:00:00Z    167       38\n",
       "5   2023-02-07T00:00:00Z    112       34\n",
       "6   2023-02-08T00:00:00Z    270       34\n",
       "7   2023-02-09T00:00:00Z     61       25\n",
       "8   2023-02-10T00:00:00Z    170       31\n",
       "9   2023-02-11T00:00:00Z    106        9\n",
       "10  2023-02-12T00:00:00Z    162       17\n",
       "11  2023-02-13T00:00:00Z    181       24\n",
       "12  2023-02-14T00:00:00Z    152       30\n",
       "13  2023-02-15T00:00:00Z    356       35\n",
       "14  2023-02-16T00:00:00Z    426       32"
      ]
     },
     "execution_count": 4,
     "metadata": {},
     "output_type": "execute_result"
    }
   ],
   "source": [
    "print(\"-> Git views on the last 14 days\")\n",
    "print(f\"Views count: {traffic_views.get('count')}\")\n",
    "print(f\"Uniques viewer: {traffic_views.get('uniques')}\")\n",
    "\n",
    "df = pd.DataFrame(traffic_views.get(\"views\"))\n",
    "df"
   ]
  },
  {
   "cell_type": "markdown",
   "id": "2de19835-d9e8-42a0-90a9-34f37260bc49",
   "metadata": {
    "papermill": {},
    "tags": []
   },
   "source": [
    "### Display graph"
   ]
  },
  {
   "cell_type": "code",
   "execution_count": null,
   "id": "9d2133cc-5208-4acf-8837-9fbd92b0d8d8",
   "metadata": {
    "execution": {
     "iopub.execute_input": "2023-02-16T19:00:54.650600Z",
     "iopub.status.busy": "2023-02-16T19:00:54.650366Z"
    },
    "papermill": {},
    "tags": []
   },
   "outputs": [],
   "source": [
    "fig = go.Figure()\n",
    "fig.add_trace(\n",
    "    go.Scatter(\n",
    "        name=\"count\",\n",
    "        x=df[\"timestamp\"],\n",
    "        y=df[\"count\"],\n",
    "        mode=\"lines+markers\",\n",
    "        marker=dict(color=\"blue\"),\n",
    "    )\n",
    ")\n",
    "fig.add_trace(\n",
    "    go.Scatter(\n",
    "        name=\"uniques\",\n",
    "        x=df[\"timestamp\"],\n",
    "        y=df[\"uniques\"],\n",
    "        mode=\"lines+markers\",\n",
    "        marker=dict(color=\"orange\"),\n",
    "    )\n",
    ")\n",
    "fig.update_layout(title=\"Git Views\")\n",
    "fig.show()"
   ]
  },
  {
   "cell_type": "code",
   "execution_count": null,
   "id": "8fee9f39-bc2d-424c-bb7f-14701d550507",
   "metadata": {
    "papermill": {},
    "tags": []
   },
   "outputs": [],
   "source": []
  }
 ],
 "metadata": {
  "kernelspec": {
   "display_name": "Python 3",
   "language": "python",
   "name": "python3"
  },
  "language_info": {
   "codemirror_mode": {
    "name": "ipython",
    "version": 3
   },
   "file_extension": ".py",
   "mimetype": "text/x-python",
   "name": "python",
   "nbconvert_exporter": "python",
   "pygments_lexer": "ipython3",
   "version": "3.9.6"
  },
  "widgets": {
   "application/vnd.jupyter.widget-state+json": {
    "state": {},
    "version_major": 2,
    "version_minor": 0
   }
  }
 },
 "nbformat": 4,
 "nbformat_minor": 5
}
