{
 "cells": [
  {
   "cell_type": "markdown",
   "id": "51f1d40f-c827-4b21-924e-1df3d4bcd73b",
   "metadata": {
    "papermill": {},
    "tags": []
   },
   "source": [
    "<img width=\"10%\" alt=\"Naas\" src=\"https://landen.imgix.net/jtci2pxwjczr/assets/5ice39g4.png?w=160\"/>"
   ]
  },
  {
   "cell_type": "markdown",
   "id": "242d9fc6-ab79-4673-9d95-ad011cf0c288",
   "metadata": {
    "papermill": {},
    "tags": []
   },
   "source": [
    "# GitHub - List pull requests"
   ]
  },
  {
   "cell_type": "markdown",
   "id": "377d64d7-c72f-4c88-88a9-6841364e2c59",
   "metadata": {
    "papermill": {},
    "tags": []
   },
   "source": [
    "**Tags:** #github #pullrequests #rest #api #list #pulls"
   ]
  },
  {
   "cell_type": "markdown",
   "id": "92fc9d91-c2e6-4792-871a-504f5545928c",
   "metadata": {
    "papermill": {},
    "tags": []
   },
   "source": [
    "**Author:** [Florent Ravenel](https://www.linkedin.com/in/florent-ravenel/)"
   ]
  },
  {
   "cell_type": "markdown",
   "id": "56fe0ef5-9361-42af-9e06-3e9f73228c01",
   "metadata": {
    "papermill": {},
    "tags": []
   },
   "source": [
    "**Description:** This notebook explains how to list pull requests using the GitHub REST API."
   ]
  },
  {
   "cell_type": "markdown",
   "id": "8c919617-d2df-4f9b-9789-a4166d17384c",
   "metadata": {
    "papermill": {},
    "tags": []
   },
   "source": [
    "**References:**\n- [List pull requests](https://docs.github.com/en/rest/pulls/pulls?apiVersion=2022-11-28#list-pull-requests)"
   ]
  },
  {
   "cell_type": "markdown",
   "id": "8dad52e4-73c8-4a0a-8173-53f36b201061",
   "metadata": {
    "papermill": {},
    "tags": []
   },
   "source": [
    "## Input"
   ]
  },
  {
   "cell_type": "markdown",
   "id": "09504379-8528-43de-8739-662bb4fdeb15",
   "metadata": {
    "papermill": {},
    "tags": []
   },
   "source": [
    "### Import libraries"
   ]
  },
  {
   "cell_type": "code",
   "execution_count": null,
   "id": "763ca075-85c5-48d9-b648-9d306aa545e9",
   "metadata": {
    "papermill": {},
    "tags": []
   },
   "source": "import requests",
   "outputs": []
  },
  {
   "cell_type": "markdown",
   "id": "97546b19-3727-4dab-a546-3354f75f268c",
   "metadata": {
    "papermill": {},
    "tags": []
   },
   "source": [
    "### Setup Variables\n- **url**: URL of the GitHub API endpoint"
   ]
  },
  {
   "cell_type": "code",
   "execution_count": null,
   "id": "b5f078c7-dccd-4687-b6d7-627237cd7f92",
   "metadata": {
    "papermill": {},
    "tags": []
   },
   "source": "url = \"https://api.github.com/repos/octocat/Hello-World/pulls\"",
   "outputs": []
  },
  {
   "cell_type": "markdown",
   "id": "a6726ce2-64bc-4082-8416-c36f9820ddf5",
   "metadata": {
    "papermill": {},
    "tags": []
   },
   "source": [
    "## Model"
   ]
  },
  {
   "cell_type": "markdown",
   "id": "ff843a02-9a4e-4c44-896c-6c2de15f3f63",
   "metadata": {
    "papermill": {},
    "tags": []
   },
   "source": [
    "### List pull requests"
   ]
  },
  {
   "cell_type": "markdown",
   "id": "b002fd45-7bfe-4edd-8182-c2ca6cb7eb8c",
   "metadata": {
    "papermill": {},
    "tags": []
   },
   "source": [
    "This action will list all the pull requests of the repository."
   ]
  },
  {
   "cell_type": "code",
   "execution_count": null,
   "id": "59e527df-53a3-4487-903f-e9d8df1cab7b",
   "metadata": {
    "papermill": {},
    "tags": []
   },
   "source": "response = requests.get(url)",
   "outputs": []
  },
  {
   "cell_type": "markdown",
   "id": "ffe0ca1b-95f3-4825-8240-309d8360b1f2",
   "metadata": {
    "papermill": {},
    "tags": []
   },
   "source": [
    "## Output"
   ]
  },
  {
   "cell_type": "markdown",
   "id": "84b47cfa-a6eb-407f-81f6-075c55cd3659",
   "metadata": {
    "papermill": {},
    "tags": []
   },
   "source": [
    "### Display result"
   ]
  },
  {
   "cell_type": "code",
   "execution_count": null,
   "id": "1d5463bd-259b-4526-924f-35124946958e",
   "metadata": {
    "papermill": {},
    "tags": []
   },
   "source": "print(response.json())",
   "outputs": []
  },
  {
   "cell_type": "markdown",
   "id": "700f35de-faeb-4a2b-9ee2-310577753ba0",
   "metadata": {
    "papermill": {},
    "tags": []
   },
   "source": [
    " "
   ]
  }
 ],
 "metadata": {
  "kernelspec": {
   "display_name": "Python 3",
   "language": "python",
   "name": "python3"
  },
  "language_info": {
   "codemirror_mode": {
    "name": "ipython",
    "version": 3
   },
   "file_extension": ".py",
   "mimetype": "text/x-python",
   "name": "python",
   "nbconvert_exporter": "python",
   "pygments_lexer": "ipython3",
   "version": "3.9.6"
  },
  "widgets": {
   "application/vnd.jupyter.widget-state+json": {
    "state": {},
    "version_major": 2,
    "version_minor": 0
   }
  }
 },
 "nbformat": 4,
 "nbformat_minor": 5
}