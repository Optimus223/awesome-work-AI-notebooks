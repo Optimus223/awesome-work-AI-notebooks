{
 "cells": [
  {
   "cell_type": "markdown",
   "id": "66ebba28-d5ca-47d7-83fc-f81a0410a771",
   "metadata": {
    "papermill": {},
    "tags": []
   },
   "source": [
    "<img width=\"10%\" alt=\"Naas\" src=\"https://landen.imgix.net/jtci2pxwjczr/assets/5ice39g4.png?w=160\"/>"
   ]
  },
  {
   "cell_type": "markdown",
   "id": "fc17d8d1-b687-4977-b137-fa0b4faf5037",
   "metadata": {
    "papermill": {},
    "tags": []
   },
   "source": [
    "# GitHub - Get Traffic Clones on repository\n",
    "<a href=\"https://app.naas.ai/user-redirect/naas/downloader?url=https://raw.githubusercontent.com/jupyter-naas/awesome-notebooks/master/GitHub/GitHub_Get_Traffic_Clones_on_repository.ipynb\" target=\"_parent\"><img src=\"https://naasai-public.s3.eu-west-3.amazonaws.com/open_in_naas.svg\"/></a><br><br><a href=\"https://github.com/jupyter-naas/awesome-notebooks/issues/new?assignees=&labels=&template=template-request.md&title=Tool+-+Action+of+the+notebook+\">Template request</a> | <a href=\"https://github.com/jupyter-naas/awesome-notebooks/issues/new?assignees=&labels=bug&template=bug_report.md&title=GitHub+-+Get+Traffic+Clones+on+repository:+Error+short+description\">Bug report</a>"
   ]
  },
  {
   "cell_type": "markdown",
   "id": "b3dd16f4-07a1-4147-8608-a685821ae7a0",
   "metadata": {
    "papermill": {},
    "tags": []
   },
   "source": [
    "**Tags:** #github #api #traffic #clones #plotly #linechart"
   ]
  },
  {
   "cell_type": "markdown",
   "id": "d8b9eecc-80c7-4c63-b923-6ad4f45bd16d",
   "metadata": {
    "papermill": {},
    "tags": []
   },
   "source": [
    "**Author:** [Florent Ravenel](https://www.linkedin.com/in/florent-ravenel/)"
   ]
  },
  {
   "cell_type": "markdown",
   "id": "c655a064-0d03-4a2c-b72d-91cd42007165",
   "metadata": {
    "papermill": {},
    "tags": []
   },
   "source": [
    "**Description:** This notebook will show how to get traffic clones on a GitHub repository."
   ]
  },
  {
   "cell_type": "markdown",
   "id": "d4404e5c-a2e3-4191-b075-7d68ae8a7857",
   "metadata": {
    "papermill": {},
    "tags": []
   },
   "source": [
    "<u>References:</u>\n",
    "- [GitHub API Documentation](https://developer.github.com/v3/)\n",
    "- [GitHub Traffic API Documentation](https://developer.github.com/v3/repos/traffic/)"
   ]
  },
  {
   "cell_type": "markdown",
   "id": "8aad5006-40e8-4fdc-a28d-292710f72b0e",
   "metadata": {
    "papermill": {},
    "tags": []
   },
   "source": [
    "## Input"
   ]
  },
  {
   "cell_type": "markdown",
   "id": "335d36e2-4b99-4ea6-9bc4-e80ee36fb80f",
   "metadata": {
    "papermill": {},
    "tags": []
   },
   "source": [
    "### Import libraries"
   ]
  },
  {
   "cell_type": "code",
   "execution_count": 1,
   "id": "91d781b6-3cfb-4749-a201-10cc09eb3d94",
   "metadata": {
    "execution": {
     "iopub.execute_input": "2023-02-16T19:00:56.364612Z",
     "iopub.status.busy": "2023-02-16T19:00:56.364147Z",
     "iopub.status.idle": "2023-02-16T19:01:01.195048Z",
     "shell.execute_reply": "2023-02-16T19:01:01.194319Z",
     "shell.execute_reply.started": "2023-02-16T19:00:56.364540Z"
    },
    "papermill": {},
    "tags": []
   },
   "outputs": [],
   "source": [
    "import requests\n",
    "import naas\n",
    "from pprint import pprint\n",
    "import pandas as pd\n",
    "import plotly.graph_objects as go"
   ]
  },
  {
   "cell_type": "markdown",
   "id": "eba823cf-42fb-4d39-946e-d9d004905ea6",
   "metadata": {
    "papermill": {},
    "tags": []
   },
   "source": [
    "### Setup Variables\n",
    "- Create your personal access token [here](https://github.com/settings/tokens)\n",
    "- Select all scopes on \"repo\" section"
   ]
  },
  {
   "cell_type": "code",
   "execution_count": 2,
   "id": "55053852-b170-468f-8600-068d07c17b7c",
   "metadata": {
    "execution": {
     "iopub.execute_input": "2023-02-16T19:01:01.201898Z",
     "iopub.status.busy": "2023-02-16T19:01:01.200614Z",
     "iopub.status.idle": "2023-02-16T19:01:01.543310Z",
     "shell.execute_reply": "2023-02-16T19:01:01.542596Z",
     "shell.execute_reply.started": "2023-02-16T19:01:01.201871Z"
    },
    "papermill": {},
    "tags": []
   },
   "outputs": [],
   "source": [
    "repo_url = \"https://github.com/jupyter-naas/awesome-notebooks\"\n",
    "token = naas.secret.get(\"GITHUB_TOKEN\") or \"GITHUB_TOKEN\""
   ]
  },
  {
   "cell_type": "markdown",
   "id": "2b55c75f-72fa-46d4-9dbf-7e3665af30c5",
   "metadata": {
    "papermill": {},
    "tags": []
   },
   "source": [
    "## Model"
   ]
  },
  {
   "cell_type": "markdown",
   "id": "541ee917-0c71-4d1f-83e1-9b92e0f70497",
   "metadata": {
    "papermill": {},
    "tags": []
   },
   "source": [
    "### Get Traffic Clones"
   ]
  },
  {
   "cell_type": "markdown",
   "id": "9e931f52-32b0-4439-b481-49105ff637d9",
   "metadata": {
    "papermill": {},
    "tags": []
   },
   "source": [
    "This function will get the traffic clones of a GitHub repository."
   ]
  },
  {
   "cell_type": "code",
   "execution_count": 3,
   "id": "c3bc597b-69e2-4b6c-b90f-d99e4a0873cc",
   "metadata": {
    "execution": {
     "iopub.execute_input": "2023-02-16T19:01:01.545146Z",
     "iopub.status.busy": "2023-02-16T19:01:01.544619Z",
     "iopub.status.idle": "2023-02-16T19:01:01.954035Z",
     "shell.execute_reply": "2023-02-16T19:01:01.953397Z",
     "shell.execute_reply.started": "2023-02-16T19:01:01.545112Z"
    },
    "papermill": {},
    "tags": []
   },
   "outputs": [
    {
     "name": "stdout",
     "output_type": "stream",
     "text": [
      "{'clones': [{'count': 9, 'timestamp': '2023-02-03T00:00:00Z', 'uniques': 4},\n",
      "            {'count': 10, 'timestamp': '2023-02-04T00:00:00Z', 'uniques': 5},\n",
      "            {'count': 14, 'timestamp': '2023-02-05T00:00:00Z', 'uniques': 4},\n",
      "            {'count': 47, 'timestamp': '2023-02-06T00:00:00Z', 'uniques': 12},\n",
      "            {'count': 417, 'timestamp': '2023-02-07T00:00:00Z', 'uniques': 8},\n",
      "            {'count': 55, 'timestamp': '2023-02-08T00:00:00Z', 'uniques': 10},\n",
      "            {'count': 4, 'timestamp': '2023-02-09T00:00:00Z', 'uniques': 3},\n",
      "            {'count': 25, 'timestamp': '2023-02-10T00:00:00Z', 'uniques': 4},\n",
      "            {'count': 7, 'timestamp': '2023-02-11T00:00:00Z', 'uniques': 3},\n",
      "            {'count': 15, 'timestamp': '2023-02-12T00:00:00Z', 'uniques': 4},\n",
      "            {'count': 9, 'timestamp': '2023-02-13T00:00:00Z', 'uniques': 6},\n",
      "            {'count': 14, 'timestamp': '2023-02-14T00:00:00Z', 'uniques': 4},\n",
      "            {'count': 53, 'timestamp': '2023-02-15T00:00:00Z', 'uniques': 12},\n",
      "            {'count': 656, 'timestamp': '2023-02-16T00:00:00Z', 'uniques': 19}],\n",
      " 'count': 1335,\n",
      " 'uniques': 37}\n"
     ]
    }
   ],
   "source": [
    "def get_traffic_clones(repo_url, token):\n",
    "    # owner + name of the repository\n",
    "    owner = repo_url.split(\"/\")[-2]\n",
    "    name = repo_url.split(\"/\")[-1]\n",
    "    url = f\"https://api.github.com/repos/{owner}/{name}/traffic/clones\"\n",
    "    headers = {\"Authorization\": f\"token {token}\"}\n",
    "    response = requests.get(url, headers=headers)\n",
    "    return response.json()\n",
    "\n",
    "\n",
    "traffic_clones = get_traffic_clones(repo_url, token)\n",
    "pprint(traffic_clones)"
   ]
  },
  {
   "cell_type": "markdown",
   "id": "4e47dd6f-1224-4c32-a843-e4807853051f",
   "metadata": {
    "papermill": {},
    "tags": []
   },
   "source": [
    "## Output"
   ]
  },
  {
   "cell_type": "markdown",
   "id": "497766f3-b167-45b1-b2a7-4c4155a52dc9",
   "metadata": {
    "papermill": {},
    "tags": []
   },
   "source": [
    "### Display data"
   ]
  },
  {
   "cell_type": "code",
   "execution_count": 4,
   "id": "5c890939-b5a9-48d8-8036-54a006c8db54",
   "metadata": {
    "execution": {
     "iopub.execute_input": "2023-02-16T19:01:01.955827Z",
     "iopub.status.busy": "2023-02-16T19:01:01.955547Z",
     "iopub.status.idle": "2023-02-16T19:01:01.981302Z",
     "shell.execute_reply": "2023-02-16T19:01:01.980613Z",
     "shell.execute_reply.started": "2023-02-16T19:01:01.955795Z"
    },
    "papermill": {},
    "tags": []
   },
   "outputs": [
    {
     "name": "stdout",
     "output_type": "stream",
     "text": [
      "-> Git clones on the last 14 days\n",
      "Clones count: 1335\n",
      "Uniques cloner: 37\n"
     ]
    },
    {
     "data": {
      "text/html": [
       "<div>\n",
       "<style scoped>\n",
       "    .dataframe tbody tr th:only-of-type {\n",
       "        vertical-align: middle;\n",
       "    }\n",
       "\n",
       "    .dataframe tbody tr th {\n",
       "        vertical-align: top;\n",
       "    }\n",
       "\n",
       "    .dataframe thead th {\n",
       "        text-align: right;\n",
       "    }\n",
       "</style>\n",
       "<table border=\"1\" class=\"dataframe\">\n",
       "  <thead>\n",
       "    <tr style=\"text-align: right;\">\n",
       "      <th></th>\n",
       "      <th>timestamp</th>\n",
       "      <th>count</th>\n",
       "      <th>uniques</th>\n",
       "    </tr>\n",
       "  </thead>\n",
       "  <tbody>\n",
       "    <tr>\n",
       "      <th>0</th>\n",
       "      <td>2023-02-03T00:00:00Z</td>\n",
       "      <td>9</td>\n",
       "      <td>4</td>\n",
       "    </tr>\n",
       "    <tr>\n",
       "      <th>1</th>\n",
       "      <td>2023-02-04T00:00:00Z</td>\n",
       "      <td>10</td>\n",
       "      <td>5</td>\n",
       "    </tr>\n",
       "    <tr>\n",
       "      <th>2</th>\n",
       "      <td>2023-02-05T00:00:00Z</td>\n",
       "      <td>14</td>\n",
       "      <td>4</td>\n",
       "    </tr>\n",
       "    <tr>\n",
       "      <th>3</th>\n",
       "      <td>2023-02-06T00:00:00Z</td>\n",
       "      <td>47</td>\n",
       "      <td>12</td>\n",
       "    </tr>\n",
       "    <tr>\n",
       "      <th>4</th>\n",
       "      <td>2023-02-07T00:00:00Z</td>\n",
       "      <td>417</td>\n",
       "      <td>8</td>\n",
       "    </tr>\n",
       "    <tr>\n",
       "      <th>5</th>\n",
       "      <td>2023-02-08T00:00:00Z</td>\n",
       "      <td>55</td>\n",
       "      <td>10</td>\n",
       "    </tr>\n",
       "    <tr>\n",
       "      <th>6</th>\n",
       "      <td>2023-02-09T00:00:00Z</td>\n",
       "      <td>4</td>\n",
       "      <td>3</td>\n",
       "    </tr>\n",
       "    <tr>\n",
       "      <th>7</th>\n",
       "      <td>2023-02-10T00:00:00Z</td>\n",
       "      <td>25</td>\n",
       "      <td>4</td>\n",
       "    </tr>\n",
       "    <tr>\n",
       "      <th>8</th>\n",
       "      <td>2023-02-11T00:00:00Z</td>\n",
       "      <td>7</td>\n",
       "      <td>3</td>\n",
       "    </tr>\n",
       "    <tr>\n",
       "      <th>9</th>\n",
       "      <td>2023-02-12T00:00:00Z</td>\n",
       "      <td>15</td>\n",
       "      <td>4</td>\n",
       "    </tr>\n",
       "    <tr>\n",
       "      <th>10</th>\n",
       "      <td>2023-02-13T00:00:00Z</td>\n",
       "      <td>9</td>\n",
       "      <td>6</td>\n",
       "    </tr>\n",
       "    <tr>\n",
       "      <th>11</th>\n",
       "      <td>2023-02-14T00:00:00Z</td>\n",
       "      <td>14</td>\n",
       "      <td>4</td>\n",
       "    </tr>\n",
       "    <tr>\n",
       "      <th>12</th>\n",
       "      <td>2023-02-15T00:00:00Z</td>\n",
       "      <td>53</td>\n",
       "      <td>12</td>\n",
       "    </tr>\n",
       "    <tr>\n",
       "      <th>13</th>\n",
       "      <td>2023-02-16T00:00:00Z</td>\n",
       "      <td>656</td>\n",
       "      <td>19</td>\n",
       "    </tr>\n",
       "  </tbody>\n",
       "</table>\n",
       "</div>"
      ],
      "text/plain": [
       "               timestamp  count  uniques\n",
       "0   2023-02-03T00:00:00Z      9        4\n",
       "1   2023-02-04T00:00:00Z     10        5\n",
       "2   2023-02-05T00:00:00Z     14        4\n",
       "3   2023-02-06T00:00:00Z     47       12\n",
       "4   2023-02-07T00:00:00Z    417        8\n",
       "5   2023-02-08T00:00:00Z     55       10\n",
       "6   2023-02-09T00:00:00Z      4        3\n",
       "7   2023-02-10T00:00:00Z     25        4\n",
       "8   2023-02-11T00:00:00Z      7        3\n",
       "9   2023-02-12T00:00:00Z     15        4\n",
       "10  2023-02-13T00:00:00Z      9        6\n",
       "11  2023-02-14T00:00:00Z     14        4\n",
       "12  2023-02-15T00:00:00Z     53       12\n",
       "13  2023-02-16T00:00:00Z    656       19"
      ]
     },
     "execution_count": 4,
     "metadata": {},
     "output_type": "execute_result"
    }
   ],
   "source": [
    "print(\"-> Git clones on the last 14 days\")\n",
    "print(f\"Clones count: {traffic_clones.get('count')}\")\n",
    "print(f\"Uniques cloner: {traffic_clones.get('uniques')}\")\n",
    "\n",
    "df = pd.DataFrame(traffic_clones.get(\"clones\"))\n",
    "df"
   ]
  },
  {
   "cell_type": "markdown",
   "id": "ddd22392-1c18-4734-9470-8c4506b46360",
   "metadata": {
    "papermill": {},
    "tags": []
   },
   "source": [
    "### Display graph"
   ]
  },
  {
   "cell_type": "code",
   "execution_count": null,
   "id": "4441e27f-df78-45ae-82e3-1bd3d2108212",
   "metadata": {
    "execution": {
     "iopub.execute_input": "2023-02-16T19:01:01.982853Z",
     "iopub.status.busy": "2023-02-16T19:01:01.982425Z"
    },
    "papermill": {},
    "tags": []
   },
   "outputs": [],
   "source": [
    "fig = go.Figure()\n",
    "fig.add_trace(\n",
    "    go.Scatter(\n",
    "        name=\"count\",\n",
    "        x=df[\"timestamp\"],\n",
    "        y=df[\"count\"],\n",
    "        mode=\"lines+markers\",\n",
    "        marker=dict(color=\"blue\"),\n",
    "    )\n",
    ")\n",
    "fig.add_trace(\n",
    "    go.Scatter(\n",
    "        name=\"uniques\",\n",
    "        x=df[\"timestamp\"],\n",
    "        y=df[\"uniques\"],\n",
    "        mode=\"lines+markers\",\n",
    "        marker=dict(color=\"orange\"),\n",
    "    )\n",
    ")\n",
    "fig.update_layout(title=\"Git clones\")\n",
    "fig.show()"
   ]
  }
 ],
 "metadata": {
  "kernelspec": {
   "display_name": "Python 3",
   "language": "python",
   "name": "python3"
  },
  "language_info": {
   "codemirror_mode": {
    "name": "ipython",
    "version": 3
   },
   "file_extension": ".py",
   "mimetype": "text/x-python",
   "name": "python",
   "nbconvert_exporter": "python",
   "pygments_lexer": "ipython3",
   "version": "3.9.6"
  },
  "widgets": {
   "application/vnd.jupyter.widget-state+json": {
    "state": {},
    "version_major": 2,
    "version_minor": 0
   }
  }
 },
 "nbformat": 4,
 "nbformat_minor": 5
}
