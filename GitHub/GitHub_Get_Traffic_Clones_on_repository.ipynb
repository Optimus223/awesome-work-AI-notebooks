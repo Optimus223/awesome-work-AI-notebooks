{
 "cells": [
  {
   "cell_type": "markdown",
   "id": "naas-logo",
   "metadata": {
    "papermill": {},
    "tags": [
     "logo"
    ]
   },
   "source": [
    "<img width=\"10%\" alt=\"Naas\" src=\"https://landen.imgix.net/jtci2pxwjczr/assets/5ice39g4.png?w=160\"/>"
   ]
  },
  {
   "cell_type": "markdown",
   "id": "a1802289-f3ea-48d5-a38f-4332050d036c",
   "metadata": {
    "papermill": {},
    "tags": [
     ""
    ]
   },
   "source": [
    "# GitHub - Get Traffic Clones on repository\n",
    "<a href=\"https://app.naas.ai/user-redirect/naas/downloader?url=https://raw.githubusercontent.com/jupyter-naas/awesome-notebooks/master/GitHub/GitHub_Get_Traffic_Clones_on_repository.ipynb\" target=\"_parent\"><img src=\"https://naasai-public.s3.eu-west-3.amazonaws.com/open_in_naas.svg\"/></a><br><br><a href=\"https://github.com/jupyter-naas/awesome-notebooks/issues/new?assignees=&labels=&template=template-request.md&title=Tool+-+Action+of+the+notebook+\">Template request</a> | <a href=\"https://github.com/jupyter-naas/awesome-notebooks/issues/new?assignees=&labels=bug&template=bug_report.md&title=GitHub+-+Get+Traffic+Clones+on+repository:+Error+short+description\">Bug report</a>"
   ]
  },
  {
   "cell_type": "markdown",
   "id": "19a365a2-72b4-4801-94fa-d5b52695c0b4",
   "metadata": {
    "papermill": {},
    "tags": [
     ""
    ]
   },
   "source": [
    "**Tags:** #github #api #traffic #clones #plotly #linechart"
   ]
  },
  {
   "cell_type": "markdown",
   "id": "8e339ded-4992-4b01-a834-d7b771e62048",
   "metadata": {
    "papermill": {},
    "tags": [
     ""
    ]
   },
   "source": [
    "**Author:** [Florent Ravenel](https://www.linkedin.com/in/florent-ravenel/)"
   ]
  },
  {
   "cell_type": "markdown",
   "id": "db2b2887-915e-42c1-87af-69c5ecf2eb43",
   "metadata": {
    "papermill": {},
    "tags": [
     ""
    ]
   },
   "source": [
    "**Description:** This notebook will show how to get traffic clones on a GitHub repository."
   ]
  },
  {
   "cell_type": "markdown",
   "id": "00e14e95-1fc8-4294-8b67-e75d0d588490",
   "metadata": {
    "papermill": {},
    "tags": [
     ""
    ]
   },
   "source": [
    "<u>References:</u>\n",
    "- [GitHub API Documentation](https://developer.github.com/v3/)\n",
    "- [GitHub Traffic API Documentation](https://developer.github.com/v3/repos/traffic/)"
   ]
  },
  {
   "cell_type": "markdown",
   "id": "bdc636aa-96e9-4032-ac34-f3c91a2bc339",
   "metadata": {
    "papermill": {},
    "tags": [
     ""
    ]
   },
   "source": [
    "## Input"
   ]
  },
  {
   "cell_type": "markdown",
   "id": "26462a4f-3821-47c8-8106-43cdeea5de91",
   "metadata": {
    "papermill": {},
    "tags": [
     ""
    ]
   },
   "source": [
    "### Import libraries"
   ]
  },
  {
   "cell_type": "code",
   "execution_count": 1,
   "id": "a43e4827-5089-465a-9f4b-c702f1db3baf",
   "metadata": {
    "execution": {
     "iopub.execute_input": "2023-02-16T09:06:24.156566Z",
     "iopub.status.busy": "2023-02-16T09:06:24.156111Z",
     "iopub.status.idle": "2023-02-16T09:06:26.546727Z",
     "shell.execute_reply": "2023-02-16T09:06:26.546138Z",
     "shell.execute_reply.started": "2023-02-16T09:06:24.156496Z"
    },
    "papermill": {},
    "tags": []
   },
   "outputs": [],
   "source": [
    "import requests\n",
    "import naas\n",
    "from pprint import pprint\n",
    "import pandas as pd\n",
    "import plotly.graph_objects as go"
   ]
  },
  {
   "cell_type": "markdown",
   "id": "daa96d31-a9b8-4eaa-b547-c70fc5b155c0",
   "metadata": {
    "papermill": {},
    "tags": [
     ""
    ]
   },
   "source": [
    "### Setup Variables\n",
    "- Create your personal access token [here](https://github.com/settings/tokens)\n",
    "- Select all scopes on \"repo\" section"
   ]
  },
  {
   "cell_type": "code",
   "execution_count": 2,
   "id": "86690927-c32c-41bf-8ae8-5286d06d3c2c",
   "metadata": {
    "execution": {
     "iopub.execute_input": "2023-02-16T09:06:26.548082Z",
     "iopub.status.busy": "2023-02-16T09:06:26.547836Z",
     "iopub.status.idle": "2023-02-16T09:06:26.695931Z",
     "shell.execute_reply": "2023-02-16T09:06:26.694978Z",
     "shell.execute_reply.started": "2023-02-16T09:06:26.548052Z"
    },
    "papermill": {},
    "tags": []
   },
   "outputs": [],
   "source": [
    "repo_url = \"https://github.com/jupyter-naas/awesome-notebooks\"\n",
    "token = naas.secret.get(\"GITHUB_TOKEN\") or \"GITHUB_TOKEN\""
   ]
  },
  {
   "cell_type": "markdown",
   "id": "6e52c709-0a83-433c-9793-b298fad84771",
   "metadata": {
    "papermill": {},
    "tags": [
     ""
    ]
   },
   "source": [
    "## Model"
   ]
  },
  {
   "cell_type": "markdown",
   "id": "f290e4fb-c46a-4924-9fdb-dffada6e5ea8",
   "metadata": {
    "papermill": {},
    "tags": [
     ""
    ]
   },
   "source": [
    "### Get Traffic Clones"
   ]
  },
  {
   "cell_type": "markdown",
   "id": "058591f5-82fc-4bbb-8f24-39f385e143f0",
   "metadata": {
    "papermill": {},
    "tags": [
     ""
    ]
   },
   "source": [
    "This function will get the traffic clones of a GitHub repository."
   ]
  },
  {
   "cell_type": "code",
   "execution_count": 3,
   "id": "5d049708-7c28-4170-9f65-c29d210e9484",
   "metadata": {
    "execution": {
     "iopub.execute_input": "2023-02-16T09:06:26.697143Z",
     "iopub.status.busy": "2023-02-16T09:06:26.696895Z",
     "iopub.status.idle": "2023-02-16T09:06:26.947184Z",
     "shell.execute_reply": "2023-02-16T09:06:26.946498Z",
     "shell.execute_reply.started": "2023-02-16T09:06:26.697112Z"
    },
    "papermill": {},
    "tags": []
   },
   "outputs": [],
   "source": [
    "def get_traffic_clones(repo_url, token):\n",
    "    # owner + name of the repository\n",
    "    owner = repo_url.split(\"/\")[-2]\n",
    "    name = repo_url.split(\"/\")[-1]\n",
    "    url = f\"https://api.github.com/repos/{owner}/{name}/traffic/clones\"\n",
    "    headers = {\"Authorization\": f\"token {token}\"}\n",
    "    response = requests.get(url, headers=headers)\n",
    "    return response.json()\n",
    "\n",
    "\n",
    "traffic_clones = get_traffic_clones(repo_url, token)\n",
    "pprint(traffic_clones)"
   ]
  },
  {
   "cell_type": "markdown",
   "id": "15fffa26-0435-4214-aa75-43a499187fa1",
   "metadata": {
    "papermill": {},
    "tags": [
     ""
    ]
   },
   "source": [
    "## Output"
   ]
  },
  {
   "cell_type": "markdown",
   "id": "fd7f6263-4e25-4688-bf4d-c958f334c37b",
   "metadata": {
    "papermill": {},
    "tags": [
     ""
    ]
   },
   "source": [
    "### Display data"
   ]
  },
  {
   "cell_type": "code",
   "execution_count": 4,
   "id": "09548760-4cf4-4157-a6a2-5c5218e285d2",
   "metadata": {
    "execution": {
     "iopub.execute_input": "2023-02-16T09:06:26.949587Z",
     "iopub.status.busy": "2023-02-16T09:06:26.949301Z",
     "iopub.status.idle": "2023-02-16T09:06:26.970164Z",
     "shell.execute_reply": "2023-02-16T09:06:26.969558Z",
     "shell.execute_reply.started": "2023-02-16T09:06:26.949563Z"
    },
    "papermill": {},
    "tags": []
   },
   "outputs": [],
   "source": [
    "print(\"-> Git clones on the last 14 days\")\n",
    "print(f\"Clones count: {traffic_clones.get('count')}\")\n",
    "print(f\"Uniques cloner: {traffic_clones.get('uniques')}\")\n",
    "\n",
    "df = pd.DataFrame(traffic_clones.get(\"clones\"))\n",
    "df"
   ]
  },
  {
   "cell_type": "markdown",
   "id": "2b231c9e-2c2f-4aa7-941e-a3d621641089",
   "metadata": {
    "papermill": {},
    "tags": []
   },
   "source": [
    "### Display graph"
   ]
  },
  {
   "cell_type": "code",
   "execution_count": 5,
   "id": "64ffa21c-e8a7-4c1c-a28b-ed07003ae2cd",
   "metadata": {
    "execution": {
     "iopub.execute_input": "2023-02-16T09:06:26.971645Z",
     "iopub.status.busy": "2023-02-16T09:06:26.971174Z",
     "iopub.status.idle": "2023-02-16T09:06:27.264544Z",
     "shell.execute_reply": "2023-02-16T09:06:27.263279Z",
     "shell.execute_reply.started": "2023-02-16T09:06:26.971614Z"
    },
    "papermill": {},
    "tags": []
   },
   "outputs": [],
   "source": [
    "fig = go.Figure()\n",
    "fig.add_trace(\n",
    "    go.Scatter(\n",
    "        name=\"count\",\n",
    "        x=df[\"timestamp\"],\n",
    "        y=df[\"count\"],\n",
    "        mode=\"lines+markers\",\n",
    "        marker=dict(color=\"blue\"),\n",
    "    )\n",
    ")\n",
    "fig.add_trace(\n",
    "    go.Scatter(\n",
    "        name=\"uniques\",\n",
    "        x=df[\"timestamp\"],\n",
    "        y=df[\"uniques\"],\n",
    "        mode=\"lines+markers\",\n",
    "        marker=dict(color=\"orange\"),\n",
    "    )\n",
    ")\n",
    "fig.update_layout(title=\"Git clones\")\n",
    "fig.show()"
   ]
  }
 ],
 "metadata": {
  "kernelspec": {
   "display_name": "Python 3",
   "language": "python",
   "name": "python3"
  },
  "language_info": {
   "codemirror_mode": {
    "name": "ipython",
    "version": 3
   },
   "file_extension": ".py",
   "mimetype": "text/x-python",
   "name": "python",
   "nbconvert_exporter": "python",
   "pygments_lexer": "ipython3",
   "version": "3.9.6"
  },
  "papermill": {
   "default_parameters": {},
   "environment_variables": {},
   "parameters": {},
   "version": "2.4.0"
  }
 },
 "nbformat": 4,
 "nbformat_minor": 5
}