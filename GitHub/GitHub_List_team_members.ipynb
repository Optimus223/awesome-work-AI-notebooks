{
 "cells": [
  {
   "cell_type": "markdown",
   "id": "c19a1cf8-865c-45f1-9c17-21bb0103a157",
   "metadata": {
    "papermill": {},
    "tags": []
   },
   "source": [
    "<img width=\"10%\" alt=\"Naas\" src=\"https://landen.imgix.net/jtci2pxwjczr/assets/5ice39g4.png?w=160\"/>"
   ]
  },
  {
   "cell_type": "markdown",
   "id": "53db8a4d-7b3f-4669-8447-cc4b3e13eecc",
   "metadata": {
    "papermill": {},
    "tags": []
   },
   "source": [
    "# GitHub - List team members"
   ]
  },
  {
   "cell_type": "markdown",
   "id": "781da279-8238-4bf3-8b00-f466c2e5921a",
   "metadata": {
    "papermill": {},
    "tags": []
   },
   "source": [
    "**Tags:** #github #teams #members #rest #api #list"
   ]
  },
  {
   "cell_type": "markdown",
   "id": "a4f3a270-2051-43d1-a8a8-87fa192c8ff6",
   "metadata": {
    "papermill": {},
    "tags": []
   },
   "source": [
    "**Author:** [Florent Ravenel](http://linkedin.com/in/florent-ravenel)"
   ]
  },
  {
   "cell_type": "markdown",
   "id": "713bc947-519a-41a9-a5bc-2c6f1f841d74",
   "metadata": {
    "papermill": {},
    "tags": []
   },
   "source": [
    "**Description:** This notebook will demonstrate how to list team members using the GitHub REST API."
   ]
  },
  {
   "cell_type": "markdown",
   "id": "6e9a1d96-f758-421f-a47b-bb020f61b4ba",
   "metadata": {
    "papermill": {},
    "tags": []
   },
   "source": [
    "**References:**\n- [List team members](https://docs.github.com/fr/rest/teams/members?apiVersion=2022-11-28#list-team-members)"
   ]
  },
  {
   "cell_type": "markdown",
   "id": "3d627390-ef1c-43e5-a1f7-34841cd94f12",
   "metadata": {
    "papermill": {},
    "tags": []
   },
   "source": [
    "## Input"
   ]
  },
  {
   "cell_type": "markdown",
   "id": "b37d8b6e-b134-468b-abe8-37de0afb2f3d",
   "metadata": {
    "papermill": {},
    "tags": []
   },
   "source": [
    "### Import libraries"
   ]
  },
  {
   "cell_type": "code",
   "execution_count": null,
   "id": "700b28f6-9000-4822-926b-5ab3c96ea316",
   "metadata": {
    "papermill": {},
    "tags": []
   },
   "source": "import requests",
   "outputs": []
  },
  {
   "cell_type": "markdown",
   "id": "f9609d5e-ab83-4130-9731-100d49b2ae50",
   "metadata": {
    "papermill": {},
    "tags": []
   },
   "source": [
    "### Setup Variables\n- `team_id`: The ID of the team to list members from."
   ]
  },
  {
   "cell_type": "code",
   "execution_count": null,
   "id": "8e5fe6cb-cc69-4fa0-a617-404e4a2d7894",
   "metadata": {
    "papermill": {},
    "tags": []
   },
   "source": "team_id = 12345",
   "outputs": []
  },
  {
   "cell_type": "markdown",
   "id": "a79c2024-da55-4a3c-b469-477cf263f18e",
   "metadata": {
    "papermill": {},
    "tags": []
   },
   "source": [
    "## Model"
   ]
  },
  {
   "cell_type": "markdown",
   "id": "2d9ab4e0-c056-4a5f-a9ab-20e3f1661ace",
   "metadata": {
    "papermill": {},
    "tags": []
   },
   "source": [
    "### List team members"
   ]
  },
  {
   "cell_type": "markdown",
   "id": "d97033a9-170d-4304-beb8-88d0fc65b935",
   "metadata": {
    "papermill": {},
    "tags": []
   },
   "source": [
    "This action will list all members of a team using the GitHub REST API."
   ]
  },
  {
   "cell_type": "code",
   "execution_count": null,
   "id": "e76f801f-727a-4544-8135-729ebf306c5a",
   "metadata": {
    "papermill": {},
    "tags": []
   },
   "source": "url = f\"https://api.github.com/teams/{team_id}/members\"\nresponse = requests.get(url)",
   "outputs": []
  },
  {
   "cell_type": "markdown",
   "id": "b644856f-5ca1-4834-8294-c0a6ce05e371",
   "metadata": {
    "papermill": {},
    "tags": []
   },
   "source": [
    "## Output"
   ]
  },
  {
   "cell_type": "markdown",
   "id": "da0aaae9-728d-4e05-90d3-fdd62cb29342",
   "metadata": {
    "papermill": {},
    "tags": []
   },
   "source": [
    "### Display result"
   ]
  },
  {
   "cell_type": "code",
   "execution_count": null,
   "id": "9762b4aa-be10-41aa-85af-39df9d82ef56",
   "metadata": {
    "papermill": {},
    "tags": []
   },
   "source": "print(response.json())",
   "outputs": []
  },
  {
   "cell_type": "markdown",
   "id": "2db16871-0d71-470f-be32-a5ada6f76e24",
   "metadata": {
    "papermill": {},
    "tags": []
   },
   "source": [
    " "
   ]
  }
 ],
 "metadata": {
  "kernelspec": {
   "display_name": "Python 3",
   "language": "python",
   "name": "python3"
  },
  "language_info": {
   "codemirror_mode": {
    "name": "ipython",
    "version": 3
   },
   "file_extension": ".py",
   "mimetype": "text/x-python",
   "name": "python",
   "nbconvert_exporter": "python",
   "pygments_lexer": "ipython3",
   "version": "3.9.6"
  },
  "widgets": {
   "application/vnd.jupyter.widget-state+json": {
    "state": {},
    "version_major": 2,
    "version_minor": 0
   }
  }
 },
 "nbformat": 4,
 "nbformat_minor": 5
}