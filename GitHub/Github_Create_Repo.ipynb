{
 "cells": [
  {
   "cell_type": "markdown",
   "id": "4f908394-d041-49d8-a274-c9b359ba6a9a",
   "metadata": {
    "execution": {
     "iopub.execute_input": "2022-10-04T18:08:42.774699Z",
     "iopub.status.busy": "2022-10-04T18:08:42.774423Z",
     "iopub.status.idle": "2022-10-04T18:08:42.840406Z",
     "shell.execute_reply": "2022-10-04T18:08:42.839749Z",
     "shell.execute_reply.started": "2022-10-04T18:08:42.774633Z"
    }
   },
   "source": [
    "<img width=\"10%\" alt=\"Naas\" src=\"https://landen.imgix.net/jtci2pxwjczr/assets/5ice39g4.png?w=160\"/>\n"
   ]
  },
  {
   "cell_type": "markdown",
   "id": "97edb724-e2fc-40e5-a651-91fe451232db",
   "metadata": {},
   "source": [
    "# Python - Python - Create GitHub repository\n",
    "**Tags:**#python #snippet #Github  "
   ]
  },
  {
   "cell_type": "markdown",
   "id": "f44bdb06-af80-49b7-9272-9d1bfe0d2a97",
   "metadata": {},
   "source": [
    "**Author:** [Kanishk Pareek](https://in.linkedin.com/in/kanishkpareek)"
   ]
  },
  {
   "cell_type": "markdown",
   "id": "1d1315d1-478b-41e8-add9-c3bf07730d85",
   "metadata": {},
   "source": [
    "This notebook helps to Creating repo on github"
   ]
  },
  {
   "cell_type": "markdown",
   "id": "1cecc96c-8f90-4a67-9250-535b24f302c2",
   "metadata": {},
   "source": [
    "## Input"
   ]
  },
  {
   "cell_type": "markdown",
   "id": "7ed00378-8093-4a67-93f0-a4478c096c91",
   "metadata": {},
   "source": [
    "### Importing library"
   ]
  },
  {
   "cell_type": "code",
   "execution_count": 2,
   "id": "8dcd840c-6c08-413d-9e5b-d41a95d3e3fa",
   "metadata": {
    "execution": {
     "iopub.execute_input": "2022-10-04T18:12:53.123404Z",
     "iopub.status.busy": "2022-10-04T18:12:53.123114Z",
     "iopub.status.idle": "2022-10-04T18:12:53.129144Z",
     "shell.execute_reply": "2022-10-04T18:12:53.128483Z",
     "shell.execute_reply.started": "2022-10-04T18:12:53.123373Z"
    }
   },
   "outputs": [],
   "source": [
    "import requests\n",
    "import json"
   ]
  },
  {
   "cell_type": "markdown",
   "id": "6fefdecd-a1e7-4081-ab3e-00248d4656cc",
   "metadata": {},
   "source": [
    "### Variable"
   ]
  },
  {
   "cell_type": "code",
   "execution_count": 7,
   "id": "78f51d09-a23d-46aa-8af9-a194078a07d1",
   "metadata": {
    "execution": {
     "iopub.execute_input": "2022-10-04T18:16:18.490074Z",
     "iopub.status.busy": "2022-10-04T18:16:18.489772Z",
     "iopub.status.idle": "2022-10-04T18:16:25.181781Z",
     "shell.execute_reply": "2022-10-04T18:16:25.181128Z",
     "shell.execute_reply.started": "2022-10-04T18:16:18.490041Z"
    },
    "tags": []
   },
   "outputs": [
    {
     "name": "stdin",
     "output_type": "stream",
     "text": [
      "Enter your github user name:  sasd\n"
     ]
    },
    {
     "name": "stdout",
     "output_type": "stream",
     "text": [
      "sasd\n"
     ]
    },
    {
     "name": "stdin",
     "output_type": "stream",
     "text": [
      "Enter your github token:  DSSD\n"
     ]
    },
    {
     "name": "stdout",
     "output_type": "stream",
     "text": [
      "DSSD\n"
     ]
    },
    {
     "name": "stdin",
     "output_type": "stream",
     "text": [
      "Enter your repo Name:  DSVS\n"
     ]
    },
    {
     "name": "stdout",
     "output_type": "stream",
     "text": [
      "DSVS\n"
     ]
    },
    {
     "name": "stdin",
     "output_type": "stream",
     "text": [
      "Enter your repo description:  SDV\n"
     ]
    },
    {
     "name": "stdout",
     "output_type": "stream",
     "text": [
      "SDV\n"
     ]
    }
   ],
   "source": [
    "user_name = input(\"Enter your github user name: \") \n",
    "print(user_name)\n",
    "\n",
    "github_token = input(\"Enter your github token: \") \n",
    "print(github_token)\n",
    "\n",
    "repo_name = input(\"Enter your repo Name: \") \n",
    "print(repo_name)\n",
    "\n",
    "repo_description = input(\"Enter your repo description: \") \n",
    "print(repo_description)"
   ]
  },
  {
   "cell_type": "markdown",
   "id": "84c363fc-e138-42cb-bb4f-120feb2d10b3",
   "metadata": {},
   "source": [
    "## Model"
   ]
  },
  {
   "cell_type": "code",
   "execution_count": 8,
   "id": "f997373a-7fd7-49e8-ac61-f31a5ebeb5a4",
   "metadata": {
    "execution": {
     "iopub.execute_input": "2022-10-04T18:16:28.054215Z",
     "iopub.status.busy": "2022-10-04T18:16:28.053927Z",
     "iopub.status.idle": "2022-10-04T18:16:28.227162Z",
     "shell.execute_reply": "2022-10-04T18:16:28.226402Z",
     "shell.execute_reply.started": "2022-10-04T18:16:28.054185Z"
    },
    "tags": []
   },
   "outputs": [],
   "source": [
    "payload = {'name': repo_name, 'description': repo_description, 'auto_init': 'true'}\n",
    "repo_request = requests.post('https://api.github.com/' + 'user/repos', auth=(user_name,github_token), data=json.dumps(payload))"
   ]
  },
  {
   "cell_type": "markdown",
   "id": "e969cc2b-d747-499d-ab37-68a9018d3ce7",
   "metadata": {},
   "source": [
    "## Output"
   ]
  },
  {
   "cell_type": "code",
   "execution_count": 9,
   "id": "b6f48ca0-5304-4439-b3dd-4216f551a8cc",
   "metadata": {
    "execution": {
     "iopub.execute_input": "2022-10-04T18:16:29.335206Z",
     "iopub.status.busy": "2022-10-04T18:16:29.334631Z",
     "iopub.status.idle": "2022-10-04T18:16:29.342520Z",
     "shell.execute_reply": "2022-10-04T18:16:29.341896Z",
     "shell.execute_reply.started": "2022-10-04T18:16:29.335168Z"
    },
    "tags": []
   },
   "outputs": [
    {
     "name": "stdout",
     "output_type": "stream",
     "text": [
      "You are unauthorized user for this action.\n"
     ]
    }
   ],
   "source": [
    "if repo_request.status_code == 422:\n",
    "    print(\"Github repo already exists try wih other name.\")\n",
    "elif repo_request.status_code == 201:\n",
    "    print(\"Github repo has created successfully.\")\n",
    "elif repo_request.status_code == 401:\n",
    "    print(\"You are unauthorized user for this action.\") "
   ]
  },
  {
   "cell_type": "code",
   "execution_count": null,
   "id": "8ec6ae95-e490-4c17-b9a7-725c5c0fed8b",
   "metadata": {},
   "outputs": [],
   "source": []
  }
 ],
 "metadata": {
  "kernelspec": {
   "display_name": "Python 3",
   "language": "python",
   "name": "python3"
  },
  "language_info": {
   "codemirror_mode": {
    "name": "ipython",
    "version": 3
   },
   "file_extension": ".py",
   "mimetype": "text/x-python",
   "name": "python",
   "nbconvert_exporter": "python",
   "pygments_lexer": "ipython3",
   "version": "3.9.6"
  }
 },
 "nbformat": 4,
 "nbformat_minor": 5
}
