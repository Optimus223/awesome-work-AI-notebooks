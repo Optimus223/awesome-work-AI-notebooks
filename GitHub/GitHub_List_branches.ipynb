{
 "cells": [
  {
   "cell_type": "markdown",
   "id": "352d312f-7434-4010-a99b-e413f17fea40",
   "metadata": {
    "papermill": {},
    "tags": []
   },
   "source": [
    "<img width=\"10%\" alt=\"Naas\" src=\"https://landen.imgix.net/jtci2pxwjczr/assets/5ice39g4.png?w=160\"/>"
   ]
  },
  {
   "cell_type": "markdown",
   "id": "196a6e22-38b0-42af-aa8b-53f050c864de",
   "metadata": {
    "papermill": {},
    "tags": []
   },
   "source": [
    "# GitHub - List branches"
   ]
  },
  {
   "cell_type": "markdown",
   "id": "1bfdeea3-b3c1-4313-a9c4-0cb07ded0800",
   "metadata": {
    "papermill": {},
    "tags": []
   },
   "source": [
    "**Tags:** #github #branches #list #api #rest #python"
   ]
  },
  {
   "cell_type": "markdown",
   "id": "d2288e33-f6dd-4898-8f6b-c9b078c1867e",
   "metadata": {
    "papermill": {},
    "tags": []
   },
   "source": [
    "**Author:** [Benjamin Filly](https://www.linkedin.com/in/benjamin-filly-05427727a/)"
   ]
  },
  {
   "cell_type": "markdown",
   "id": "ccdcb65f-dd8b-49c4-ba5b-bbb78df54403",
   "metadata": {
    "papermill": {},
    "tags": []
   },
   "source": [
    "**Description:** This notebook will list all branches from a given GitHub repository. It is usefull for organizations to keep track of their branches."
   ]
  },
  {
   "cell_type": "markdown",
   "id": "8493f6fb-59f3-4c7b-b15a-451beb599bce",
   "metadata": {
    "papermill": {},
    "tags": []
   },
   "source": [
    "**References:**\n",
    "- [GitHub - List branches](https://docs.github.com/en/rest/branches/branches?apiVersion=2022-11-28#list-branches)\n",
    "- [GitHub - Authentication](https://docs.github.com/en/rest/overview/resources-in-the-rest-api#authentication)"
   ]
  },
  {
   "cell_type": "markdown",
   "id": "c134d691-cfa6-4f0e-ba25-ce5e6b4e7294",
   "metadata": {
    "papermill": {},
    "tags": []
   },
   "source": [
    "## Input"
   ]
  },
  {
   "cell_type": "markdown",
   "id": "f402bd95-68ba-41b5-8f8f-ac60a6157851",
   "metadata": {
    "papermill": {},
    "tags": []
   },
   "source": [
    "### Import libraries"
   ]
  },
  {
   "cell_type": "code",
   "execution_count": 1,
   "id": "d185778c-8bce-4b7e-b494-694ad609c7e8",
   "metadata": {
    "execution": {
     "iopub.execute_input": "2023-06-21T09:29:16.589509Z",
     "iopub.status.busy": "2023-06-21T09:29:16.588770Z",
     "iopub.status.idle": "2023-06-21T09:29:19.101272Z",
     "shell.execute_reply": "2023-06-21T09:29:19.100649Z",
     "shell.execute_reply.started": "2023-06-21T09:29:16.589352Z"
    },
    "papermill": {},
    "tags": []
   },
   "outputs": [],
   "source": [
    "import naas\n",
    "import pandas as pd\n",
    "try:\n",
    "    from github import Github\n",
    "except:\n",
    "    !pip install PyGithub --user\n",
    "    from github import Github"
   ]
  },
  {
   "cell_type": "markdown",
   "id": "f27d6294-0792-4995-8813-8d410a446cb2",
   "metadata": {
    "papermill": {},
    "tags": []
   },
   "source": [
    "### Setup Variables\n",
    "- `owner`: owner of the repository\n",
    "- `repository`: name of the repository\n",
    "- `token`: [GitHub authentication token](https://docs.github.com/en/enterprise-server@3.4/authentication/keeping-your-account-and-data-secure/managing-your-personal-access-tokens)"
   ]
  },
  {
   "cell_type": "code",
   "execution_count": 2,
   "id": "ddc91127-3315-4dda-88e5-8229d5c53176",
   "metadata": {
    "execution": {
     "iopub.execute_input": "2023-06-21T09:29:19.104141Z",
     "iopub.status.busy": "2023-06-21T09:29:19.103943Z",
     "iopub.status.idle": "2023-06-21T09:29:19.261181Z",
     "shell.execute_reply": "2023-06-21T09:29:19.260601Z",
     "shell.execute_reply.started": "2023-06-21T09:29:19.104119Z"
    },
    "papermill": {},
    "tags": []
   },
   "outputs": [],
   "source": [
    "owner = \"jupyter-naas\" #This is an example for naas\n",
    "repository = \"awesome-notebooks\" #This is an example for naas\n",
    "token = naas.secret.get(name = \"GITHUB_TOKEN\") or \"GITHUB_TOKEN\""
   ]
  },
  {
   "cell_type": "markdown",
   "id": "b6e0e4e4-4881-425a-9751-ef97d202562d",
   "metadata": {
    "papermill": {},
    "tags": []
   },
   "source": [
    "## Model"
   ]
  },
  {
   "cell_type": "markdown",
   "id": "ae781b5e-06db-4345-a287-44f760462548",
   "metadata": {
    "papermill": {},
    "tags": []
   },
   "source": [
    "### List branches"
   ]
  },
  {
   "cell_type": "markdown",
   "id": "c9a6f9f7-0c6a-4300-bafe-b0be3f06a880",
   "metadata": {
    "papermill": {},
    "tags": []
   },
   "source": [
    "This function will list get branches, creator and Creation date from a given GitHub repository."
   ]
  },
  {
   "cell_type": "code",
   "execution_count": 3,
   "id": "43620d60-48cb-4c8a-8fcc-48189bd14b15",
   "metadata": {
    "execution": {
     "iopub.execute_input": "2023-06-21T09:29:21.832481Z",
     "iopub.status.busy": "2023-06-21T09:29:21.831923Z",
     "iopub.status.idle": "2023-06-21T09:29:43.188195Z",
     "shell.execute_reply": "2023-06-21T09:29:43.184728Z",
     "shell.execute_reply.started": "2023-06-21T09:29:21.832445Z"
    },
    "papermill": {},
    "tags": []
   },
   "outputs": [],
   "source": [
    "def list_branches(owner, repository):\n",
    "    g = Github(token)\n",
    "\n",
    "    try:\n",
    "        repo = g.get_repo(f\"{owner}/{repository}\")\n",
    "        branches = repo.get_branches()\n",
    "\n",
    "        data = []\n",
    "        for branch in branches:\n",
    "            branch_data = {\n",
    "                'Branch Name': branch.name,\n",
    "                'Creation Date': branch.commit.commit.author.date,\n",
    "                'Creator': branch.commit.commit.author.name\n",
    "            }\n",
    "            data.append(branch_data)\n",
    "\n",
    "        df = pd.DataFrame(data)\n",
    "        return df\n",
    "\n",
    "    except Exception as e:\n",
    "        print(f\"An error occurred: {e}\")\n",
    "        return pd.DataFrame()\n",
    "\n",
    "branches_df = list_branches(owner, repository)"
   ]
  },
  {
   "cell_type": "markdown",
   "id": "f94c42ab-2a53-406d-8423-f2f19c57e5d0",
   "metadata": {
    "papermill": {},
    "tags": []
   },
   "source": [
    "## Output"
   ]
  },
  {
   "cell_type": "markdown",
   "id": "9d86ad23-9f7e-45f8-8ddd-ea451365754c",
   "metadata": {
    "papermill": {},
    "tags": []
   },
   "source": [
    "### Display result"
   ]
  },
  {
   "cell_type": "code",
   "execution_count": 4,
   "id": "0c14344f-f4c0-4473-9a9a-9172e3299cb4",
   "metadata": {
    "execution": {
     "iopub.execute_input": "2023-06-21T09:29:45.777856Z",
     "iopub.status.busy": "2023-06-21T09:29:45.777592Z",
     "iopub.status.idle": "2023-06-21T09:29:45.788886Z",
     "shell.execute_reply": "2023-06-21T09:29:45.788202Z",
     "shell.execute_reply.started": "2023-06-21T09:29:45.777831Z"
    },
    "papermill": {},
    "tags": []
   },
   "outputs": [
    {
     "name": "stdout",
     "output_type": "stream",
     "text": [
      "Branches for jupyter-naas/awesome-notebooks:\n",
      "----------------------------------------\n",
      "                                                                                     Branch Name       Creation Date              Creator\n",
      "                                                             100-whatsapp-post-message-and-image 2022-10-30 06:07:18            SuhasBRao\n",
      "                                 261-yahoo-finance-buysell-notification-based-on-moving-averages 2022-05-31 08:26:27           FlorentLvr\n",
      "                                                 572-yahoo-finance-commodities-metals-comex-gold 2022-11-01 00:39:23             jravenel\n",
      "                                                           893-twilio-get-daily-reminders-by-sms 2023-04-03 17:42:47          Sriniketh J\n",
      "                   940-google-analytics-get-slack-notificatons-for-new-goals-on-google-analytics 2023-03-20 10:27:16             srini047\n",
      "                                                 1007-linkedin-send-post-interactions-to-hubspot 2022-07-07 20:27:45            moajjem04\n",
      "                                    1062-youtube-create-a-video-explaining-how-to-get-an-api-key 2022-06-03 15:29:57           FlorentLvr\n",
      "                                                          1076-tiktok-send-video-stats-to-notion 2022-06-08 08:55:41               Dr0p42\n",
      "                                                       1125-pyvis-create-a-network-visualization 2022-07-19 08:59:15           FlorentLvr\n",
      "                                              1149-dash-create-table-and-dropdown-with-callbacks 2022-09-07 13:15:15             samael71\n",
      "                                                        1159-dash-create-datatable-with-dropdown 2022-10-31 07:06:21           FlorentLvr\n",
      "                                                             1172-dvc-version-data-from-notebook 2022-09-12 08:30:57           FlorentLvr\n",
      "                                                        1175-dash-create-search-bar-with-options 2022-09-15 16:20:33           FlorentLvr\n",
      "                                                                     1192-dash-iframe-google-map 2022-09-30 08:00:13           FlorentLvr\n",
      "                                                              1199-python-convert-a-csv-to-excel 2022-10-01 23:41:31             jravenel\n",
      "                                                                1199-python-convert-csv-to-excel 2022-10-11 11:12:21           FlorentLvr\n",
      "                                                           1201-python-convert-png-images-to-jpg 2022-10-03 16:33:14           FlorentLvr\n",
      "                                                             1214-python-download-webpage-as-pdf 2022-10-05 19:09:01           FlorentLvr\n",
      "                                                                         1233-python-rename-file 2022-10-08 11:57:53           FlorentLvr\n",
      "                                                           1240-bigfunctions-get-sentiment-score 2022-10-10 15:24:21             jravenel\n",
      "                                                        1250-python-get-all-files-from-directory 2022-10-11 11:35:03           FlorentLvr\n",
      "                           1253-python-copy-files-and-subdir-from-directory-to-another-directory 2022-10-11 11:35:03           FlorentLvr\n",
      "                                        1263-hubspot-create-update-delete-get-company-in-hubspot 2022-10-17 08:29:50           FlorentLvr\n",
      "                                                  1264-windsorai-generate-dashboard-from-api-key 2022-10-17 08:29:50           FlorentLvr\n",
      "                                                            1278-hubspot-get-all-contacts-update 2022-10-26 15:30:45             jravenel\n",
      "                                                              1280-naas-dashboards-web-analytics 2022-10-26 15:55:56           FlorentLvr\n",
      "                                                                  1281-fec-create-dashboard-dash 2022-10-26 15:55:56           FlorentLvr\n",
      "1300-naas-dashboard-update-design-financial-consolidation-to-match-naas-v0-+-create-boiler-plate 2022-11-23 14:34:14           FlorentLvr\n",
      "                                                    1309-pandas-drop-duplicate-columns-in-pandas 2022-11-28 10:28:50           FlorentLvr\n",
      "                                                               1310-pandas-drop-columns-by-index 2022-11-28 10:28:50           FlorentLvr\n",
      "                                                           1321-linkedin-close-event-invitations 2022-12-02 07:29:54           FlorentLvr\n",
      "                                                                  1334-add-template-date-to-json 2022-12-08 09:57:16               Dr0p42\n",
      "                                                                      1367-naas-pipeline-feature 2023-01-13 13:49:26           FlorentLvr\n",
      "                                                              1379-naas-manage-error-on-pipeline 2023-01-23 23:00:17       Jeremy Ravenel\n",
      "                                          1394-azure-blob-storage-download-files-in-blob-storage 2023-02-23 08:38:45      Florent Ravenel\n",
      "                                                       1394-azure-download-files-in-blob-storage 2023-01-31 15:18:52           FlorentLvr\n",
      "                                       1410-python-replace-value-in-text-in-a-specific-paragraph 2023-02-16 09:18:02      Florent Ravenel\n",
      "                                                       1430-update-notebooks-meta-data-on-header 2023-02-28 10:51:05           FlorentLvr\n",
      "        1459-linkedin-update-metrics-from-posts-in-notion-content-calendar-can-not-update-notion 2023-03-01 08:53:23      Florent Ravenel\n",
      "                                                                1465-github-link-branch-to-issue 2023-02-22 17:12:12      Florent Ravenel\n",
      "                                                              1465-github-link-branch-to-issue-1 2023-02-21 07:29:00             srini047\n",
      "                                                   1479-linkedin-get-my-last-30-days-posts-stats 2023-02-23 18:47:51       Jeremy Ravenel\n",
      "                                                            1527-crunchbase-get-data-from-entity 2023-03-03 13:57:02      Florent Ravenel\n",
      "                                                                     1529-crunchbase-search-data 2023-03-03 13:58:31      Florent Ravenel\n",
      "                                   1531-linkedin-sales-navigator-extract-accounts-list-from-url- 2023-03-03 13:59:52      Florent Ravenel\n",
      "                                                      1536-github-list-organization-repositories 2023-03-05 20:29:34      Florent Ravenel\n",
      "                     1574-github-create-new-repository-on-organization-with-readme-and-gitignore 2023-03-15 11:09:17           FlorentLvr\n",
      "                                                                       1582-buffer-create-update 2023-03-21 18:19:50      Florent Ravenel\n",
      "                                                                       1585-buffer-list-profiles 2023-03-21 18:23:51      Florent Ravenel\n",
      "                                                               1587-buffer-get-profile-schedules 2023-03-21 18:25:08      Florent Ravenel\n",
      "                                                               1591-supabase-create-a-new-bucket 2023-03-23 10:54:17           FlorentLvr\n",
      "                                                              1610-google-calendar-create-events 2023-03-28 15:06:30 Sriniketh Jayasendil\n",
      "                                                                   1628-sharepoint-create-folder 2023-04-03 10:13:12      Florent Ravenel\n",
      "                                                             1639-clockify-add-user-to-workspace 2023-04-05 13:27:31      Florent Ravenel\n",
      "                                                                         1665-trello-list-boards 2023-04-17 15:56:47             jravenel\n",
      "                                                                         1667-trello-create-card 2023-04-18 05:32:36             jravenel\n",
      "                                                      1677-cicd-push-templatejson-to-algolia-api 2023-04-19 16:16:33           FlorentLvr\n",
      "                                                        1681-pydub-convert-audio-file-m4a-to-mp3 2023-04-18 18:09:45             jravenel\n",
      "                                                  1693-google-slides-replace-text-within-a-shape 2023-04-21 13:30:31      Florent Ravenel\n",
      "                                                          1717-quickbooks-full-update-a-customer 2023-05-31 14:37:54      Florent Ravenel\n",
      "                                                              1720-azure-blob-storage-list-blobs 2023-04-27 16:26:01      Florent Ravenel\n",
      "                                     1726-azure-machine-learning-univariate-timeseries-inference 2023-05-30 06:58:18      Florent Ravenel\n",
      "                              1770-clockify-create-time-entries-database-for-a-user-on-workspace 2023-05-17 08:32:29      Florent Ravenel\n",
      "                                                          1780-wise-list-transfers-for-a-profile 2023-05-19 12:27:35      Florent Ravenel\n",
      "                                                1782-wise-retrieving-a-balance-account-statement 2023-05-19 12:32:14      Florent Ravenel\n",
      "                                                           1784-wise-list-balances-for-a-profile 2023-05-19 12:58:43      Florent Ravenel\n",
      "                                                               1786-instagram-get-user-followers 2023-05-22 16:16:31      Florent Ravenel\n",
      "                                                              1788-instagram-get-user-followings 2023-05-22 16:19:41      Florent Ravenel\n",
      "                                               1819-yahoofinance-generate-ai-powered-chat-plugin 2023-05-29 17:37:06      Florent Ravenel\n",
      "                           1821-advertools-audit-robots-txt-and-xml-sitemap-issues-minor-changes 2023-05-29 17:11:05           FlorentLvr\n",
      "                                                                    1837-langchain-gmail-toolkit 2023-06-01 17:41:23      Florent Ravenel\n",
      "                                                                       1839-langchain-json-agent 2023-06-01 17:45:07      Florent Ravenel\n",
      "                                  1854-advertools-bulk-status-code-checker-with-response-headers 2023-06-20 13:17:41      Florent Ravenel\n",
      "                                                     1885-request-handling-errors-and-exceptions 2023-06-19 10:25:46           Benjifilly\n",
      "                                                               1887-deezer-get-listening-history 2023-06-09 09:41:40      Florent Ravenel\n",
      "                                                   1896-pandas-check-if-column-is-in-date-format 2023-06-19 09:30:41           Benjifilly\n",
      "                              1909-create-act-as-a-x-template-for-each-naas-persona-using-openai 2023-06-13 07:56:06           FlorentLvr\n",
      "                                                                 1915-algolia-search-index-(get) 2023-06-13 17:59:43      Florent Ravenel\n",
      "                                                              1917-naas-create-onboarding-plugin 2023-06-15 08:33:40        Maxime Jublou\n",
      "                                                  1932-github-send-contributor-activity-on-slack 2023-06-16 15:02:04      Florent Ravenel\n",
      "                              1941-langchain-create-embeddings-from-awesome-notebooks-repository 2023-06-15 14:51:10      Florent Ravenel\n",
      "                                                      1946-naas-create-templates-using-mychatgpt 2023-06-20 09:20:31      Florent Ravenel\n",
      "                                                               1950-slack-send-blocks-to-channel 2023-06-19 09:16:47           Benjifilly\n",
      "                                                                       1954-github-list-branches 2023-06-20 09:27:45      Florent Ravenel\n",
      "                                                                                          create 2023-01-12 11:04:52           FlorentLvr\n",
      "                                                                              elias-adv-sitemaps 2023-05-16 06:26:29      Florent Ravenel\n",
      "                                                                                          master 2023-06-21 06:59:50           FlorentLvr\n",
      "                                                           origin/1217-python-create-github-repo 2022-10-04 08:23:27               Dr0p42\n",
      "                                                                                       otmd-oura 2022-09-03 03:13:47        onthemarkdata\n",
      "                                                                            owid-oil-consumption 2023-06-20 20:11:58             jravenel\n",
      "                                               revert-1143-1142-dash-display-app-in-the-notebook 2022-08-15 20:17:01       Jeremy Ravenel\n",
      "----------------------------------------\n"
     ]
    }
   ],
   "source": [
    "print(f\"Branches for {owner}/{repository}:\")\n",
    "print(\"-\" * 40)\n",
    "print(branches_df.to_string(index=False))\n",
    "print(\"-\" * 40)"
   ]
  },
  {
   "cell_type": "markdown",
   "id": "ff36ed17-b795-447d-9ed3-9ef638b5c904",
   "metadata": {
    "papermill": {},
    "tags": []
   },
   "source": [
    " "
   ]
  }
 ],
 "metadata": {
  "kernelspec": {
   "display_name": "Python 3",
   "language": "python",
   "name": "python3"
  },
  "language_info": {
   "codemirror_mode": {
    "name": "ipython",
    "version": 3
   },
   "file_extension": ".py",
   "mimetype": "text/x-python",
   "name": "python",
   "nbconvert_exporter": "python",
   "pygments_lexer": "ipython3",
   "version": "3.9.6"
  },
  "widgets": {
   "application/vnd.jupyter.widget-state+json": {
    "state": {},
    "version_major": 2,
    "version_minor": 0
   }
  }
 },
 "nbformat": 4,
 "nbformat_minor": 5
}
