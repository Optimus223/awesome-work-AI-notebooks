{
 "cells": [
  {
   "cell_type": "markdown",
   "id": "d3dbe6cd-a4a5-4b3d-be20-007b80dc0c8f",
   "metadata": {
    "papermill": {},
    "tags": []
   },
   "source": [
    "<img width=\"10%\" alt=\"Naas\" src=\"https://landen.imgix.net/jtci2pxwjczr/assets/5ice39g4.png?w=160\"/>"
   ]
  },
  {
   "cell_type": "markdown",
   "id": "5a674526-0492-4092-90ca-b026403bd4ac",
   "metadata": {
    "papermill": {},
    "tags": []
   },
   "source": [
    "# GitHub - Send stargazers to Google Sheets"
   ]
  },
  {
   "cell_type": "markdown",
   "id": "199d175a-a515-405f-ad3e-92bff8f37a0a",
   "metadata": {
    "papermill": {},
    "tags": []
   },
   "source": [
    "**Tags:** #github #api #google #sheets #python #data"
   ]
  },
  {
   "cell_type": "markdown",
   "id": "a9d9de40-66cd-4561-a80f-98f5784b0cb4",
   "metadata": {
    "papermill": {},
    "tags": []
   },
   "source": [
    "**Author:** [Florent Ravenel](https://www.linkedin.com/in/florent-ravenel/)"
   ]
  },
  {
   "cell_type": "markdown",
   "id": "2778e07e-1c08-4dd0-8a94-8efa6239f934",
   "metadata": {
    "papermill": {},
    "tags": []
   },
   "source": [
    "**Description:** This notebook will show how to send GitHub stargazers to Google Sheets."
   ]
  },
  {
   "cell_type": "markdown",
   "id": "2a774147-8e07-4637-996d-6cd5a31bd024",
   "metadata": {
    "papermill": {},
    "tags": []
   },
   "source": [
    "**References:**\n- [GitHub API Documentation](https://developer.github.com/v3/)\n- [Google Sheets API Documentation](https://developers.google.com/sheets/api)"
   ]
  },
  {
   "cell_type": "markdown",
   "id": "cf31d67b-df50-40df-bb62-a4511d99d114",
   "metadata": {
    "papermill": {},
    "tags": []
   },
   "source": [
    "## Input"
   ]
  },
  {
   "cell_type": "markdown",
   "id": "9fe5852f-e030-4466-8913-d6713a7b12e2",
   "metadata": {
    "papermill": {},
    "tags": []
   },
   "source": [
    "### Import libraries"
   ]
  },
  {
   "cell_type": "code",
   "execution_count": null,
   "id": "415e9946-fdb8-4157-8e4c-9b024e91f8a0",
   "metadata": {
    "papermill": {},
    "tags": []
   },
   "source": "import requests\nimport json\nimport pandas as pd\nimport gspread\nfrom oauth2client.service_account import ServiceAccountCredentials",
   "outputs": []
  },
  {
   "cell_type": "markdown",
   "id": "b62300e3-340e-4f88-bbb4-9bdf110fb8ac",
   "metadata": {
    "papermill": {},
    "tags": []
   },
   "source": [
    "### Setup Variables\n- `repo_name`: name of the GitHub repository\n- `token`: [GitHub personal access token](https://help.github.com/en/github/authenticating-to-github/creating-a-personal-access-token-for-the-command-line)\n- `credentials`: [Google Service Account credentials](https://developers.google.com/identity/protocols/oauth2/service-account)"
   ]
  },
  {
   "cell_type": "code",
   "execution_count": null,
   "id": "888a9a87-22a9-4939-acad-2ae2da9d075a",
   "metadata": {
    "papermill": {},
    "tags": []
   },
   "source": "repo_name = \"florentravenel/github-stargazers-to-google-sheets\"\ntoken = \"<your_token_here>\"\ncredentials = ServiceAccountCredentials.from_json_keyfile_name(\n    \"<your_credentials_here>\",\n    [\n        \"https://www.googleapis.com/auth/spreadsheets\",\n        \"https://www.googleapis.com/auth/drive\",\n    ],\n)",
   "outputs": []
  },
  {
   "cell_type": "markdown",
   "id": "5ffb2967-6a71-48d7-8096-84b1ded039af",
   "metadata": {
    "papermill": {},
    "tags": []
   },
   "source": [
    "## Model"
   ]
  },
  {
   "cell_type": "markdown",
   "id": "fec85185-d097-42f5-a3da-1ecb39ca418b",
   "metadata": {
    "papermill": {},
    "tags": []
   },
   "source": [
    "### Get stargazers"
   ]
  },
  {
   "cell_type": "markdown",
   "id": "7da5db47-3439-4a65-b352-3cae1262dfe4",
   "metadata": {
    "papermill": {},
    "tags": []
   },
   "source": [
    "Long description of the function: This function will use the GitHub API to get the list of stargazers for a given repository."
   ]
  },
  {
   "cell_type": "code",
   "execution_count": null,
   "id": "f322c623-75ce-4112-a113-7dbeeb2ddb55",
   "metadata": {
    "papermill": {},
    "tags": []
   },
   "source": "def get_stargazers(repo_name, token):\n    # Get stargazers\n    url = f\"https://api.github.com/repos/{repo_name}/stargazers\"\n    headers = {\"Authorization\": f\"token {token}\"}\n    response = requests.get(url, headers=headers)\n    stargazers = json.loads(response.text)\n\n    # Create dataframe\n    df = pd.DataFrame(stargazers)\n    df = df[[\"login\", \"html_url\", \"avatar_url\"]]\n    df.columns = [\"Username\", \"URL\", \"Avatar\"]\n\n    return df",
   "outputs": []
  },
  {
   "cell_type": "markdown",
   "id": "8c61dac6-435f-45ef-9d45-fd2ed6fb6bba",
   "metadata": {
    "papermill": {},
    "tags": []
   },
   "source": [
    "### Send stargazers to Google Sheets"
   ]
  },
  {
   "cell_type": "markdown",
   "id": "61cc22e8-a47d-4a28-bae9-9590b6667892",
   "metadata": {
    "papermill": {},
    "tags": []
   },
   "source": [
    "Long description of the function: This function will use the Google Sheets API to send the list of stargazers to a Google Sheet."
   ]
  },
  {
   "cell_type": "code",
   "execution_count": null,
   "id": "ed4ab8e5-2fea-4334-985a-f38096b54112",
   "metadata": {
    "papermill": {},
    "tags": []
   },
   "source": "def send_stargazers_to_google_sheets(df, credentials):\n    # Authorize\n    gc = gspread.authorize(credentials)\n\n    # Create spreadsheet\n    sh = gc.create(\"Stargazers\")\n\n    # Send dataframe to spreadsheet\n    worksheet = gc.open(\"Stargazers\").sheet1\n    worksheet.set_dataframe(df, \"A1\")",
   "outputs": []
  },
  {
   "cell_type": "markdown",
   "id": "67a9fd63-7fb3-423d-8613-0626c8a01421",
   "metadata": {
    "papermill": {},
    "tags": []
   },
   "source": [
    "## Output"
   ]
  },
  {
   "cell_type": "markdown",
   "id": "70ae4856-a507-429e-9568-1585baf075b2",
   "metadata": {
    "papermill": {},
    "tags": []
   },
   "source": [
    "### Display result"
   ]
  },
  {
   "cell_type": "code",
   "execution_count": null,
   "id": "4b807df7-dd71-4b13-b0c0-d746ffc7e81a",
   "metadata": {
    "papermill": {},
    "tags": []
   },
   "source": "# Get stargazers\ndf = get_stargazers(repo_name, token)\n# Send stargazers to Google Sheets\nsend_stargazers_to_google_sheets(df, credentials)",
   "outputs": []
  }
 ],
 "metadata": {
  "kernelspec": {
   "display_name": "Python 3",
   "language": "python",
   "name": "python3"
  },
  "language_info": {
   "codemirror_mode": {
    "name": "ipython",
    "version": 3
   },
   "file_extension": ".py",
   "mimetype": "text/x-python",
   "name": "python",
   "nbconvert_exporter": "python",
   "pygments_lexer": "ipython3",
   "version": "3.9.6"
  },
  "widgets": {
   "application/vnd.jupyter.widget-state+json": {
    "state": {},
    "version_major": 2,
    "version_minor": 0
   }
  }
 },
 "nbformat": 4,
 "nbformat_minor": 5
}