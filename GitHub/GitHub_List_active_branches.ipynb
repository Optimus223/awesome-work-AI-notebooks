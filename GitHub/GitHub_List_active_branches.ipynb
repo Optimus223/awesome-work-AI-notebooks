{
 "cells": [
  {
   "cell_type": "markdown",
   "id": "352d312f-7434-4010-a99b-e413f17fea40",
   "metadata": {
    "papermill": {},
    "tags": []
   },
   "source": [
    "<img width=\"10%\" alt=\"Naas\" src=\"https://landen.imgix.net/jtci2pxwjczr/assets/5ice39g4.png?w=160\"/>"
   ]
  },
  {
   "cell_type": "markdown",
   "id": "196a6e22-38b0-42af-aa8b-53f050c864de",
   "metadata": {
    "papermill": {},
    "tags": []
   },
   "source": [
    "# GitHub - List active branches"
   ]
  },
  {
   "cell_type": "markdown",
   "id": "1bfdeea3-b3c1-4313-a9c4-0cb07ded0800",
   "metadata": {
    "papermill": {},
    "tags": []
   },
   "source": [
    "**Tags:** #github #branches #list #api #rest #python #active"
   ]
  },
  {
   "cell_type": "markdown",
   "id": "d2288e33-f6dd-4898-8f6b-c9b078c1867e",
   "metadata": {
    "papermill": {},
    "tags": []
   },
   "source": [
    "**Author:** [Benjamin Filly](https://www.linkedin.com/in/benjamin-filly-05427727a/)"
   ]
  },
  {
   "cell_type": "markdown",
   "id": "ccdcb65f-dd8b-49c4-ba5b-bbb78df54403",
   "metadata": {
    "papermill": {},
    "tags": []
   },
   "source": [
    "**Description:** This notebook will list all active branches from a given GitHub repository. It is usefull for organizations to keep track of their branches."
   ]
  },
  {
   "cell_type": "markdown",
   "id": "8493f6fb-59f3-4c7b-b15a-451beb599bce",
   "metadata": {
    "papermill": {},
    "tags": []
   },
   "source": [
    "**References:**\n",
    "- [GitHub - List branches](https://docs.github.com/en/rest/branches/branches?apiVersion=2022-11-28#list-branches)\n",
    "- [GitHub - Authentication](https://docs.github.com/en/rest/overview/resources-in-the-rest-api#authentication)"
   ]
  },
  {
   "cell_type": "markdown",
   "id": "c134d691-cfa6-4f0e-ba25-ce5e6b4e7294",
   "metadata": {
    "papermill": {},
    "tags": []
   },
   "source": [
    "## Input"
   ]
  },
  {
   "cell_type": "markdown",
   "id": "f402bd95-68ba-41b5-8f8f-ac60a6157851",
   "metadata": {
    "papermill": {},
    "tags": []
   },
   "source": [
    "### Import libraries"
   ]
  },
  {
   "cell_type": "code",
   "execution_count": 20,
   "id": "d185778c-8bce-4b7e-b494-694ad609c7e8",
   "metadata": {
    "execution": {
     "iopub.execute_input": "2023-06-21T12:14:46.610018Z",
     "iopub.status.busy": "2023-06-21T12:14:46.609784Z",
     "iopub.status.idle": "2023-06-21T12:14:46.613009Z",
     "shell.execute_reply": "2023-06-21T12:14:46.612353Z",
     "shell.execute_reply.started": "2023-06-21T12:14:46.609995Z"
    },
    "papermill": {},
    "tags": []
   },
   "outputs": [],
   "source": [
    "import naas\n",
    "import pandas as pd\n",
    "import requests"
   ]
  },
  {
   "cell_type": "markdown",
   "id": "f27d6294-0792-4995-8813-8d410a446cb2",
   "metadata": {
    "papermill": {},
    "tags": []
   },
   "source": [
    "### Setup Variables\n",
    "- `owner`: owner of the repository\n",
    "- `repository`: name of the repository"
   ]
  },
  {
   "cell_type": "code",
   "execution_count": 21,
   "id": "ddc91127-3315-4dda-88e5-8229d5c53176",
   "metadata": {
    "execution": {
     "iopub.execute_input": "2023-06-21T12:14:47.063529Z",
     "iopub.status.busy": "2023-06-21T12:14:47.063294Z",
     "iopub.status.idle": "2023-06-21T12:14:47.066383Z",
     "shell.execute_reply": "2023-06-21T12:14:47.065733Z",
     "shell.execute_reply.started": "2023-06-21T12:14:47.063498Z"
    },
    "papermill": {},
    "tags": []
   },
   "outputs": [],
   "source": [
    "owner = \"jupyter-naas\" #Example for naas\n",
    "repository = \"awesome-notebooks\" #Example for naas awesome-notebooks repository"
   ]
  },
  {
   "cell_type": "markdown",
   "id": "b6e0e4e4-4881-425a-9751-ef97d202562d",
   "metadata": {
    "papermill": {},
    "tags": []
   },
   "source": [
    "## Model"
   ]
  },
  {
   "cell_type": "markdown",
   "id": "ae781b5e-06db-4345-a287-44f760462548",
   "metadata": {
    "papermill": {},
    "tags": []
   },
   "source": [
    "### List branches with open PR's"
   ]
  },
  {
   "cell_type": "markdown",
   "id": "c9a6f9f7-0c6a-4300-bafe-b0be3f06a880",
   "metadata": {
    "papermill": {},
    "tags": []
   },
   "source": [
    "This function will list get active branches, creator and Creation date from a given GitHub repository."
   ]
  },
  {
   "cell_type": "code",
   "execution_count": 22,
   "id": "43620d60-48cb-4c8a-8fcc-48189bd14b15",
   "metadata": {
    "execution": {
     "iopub.execute_input": "2023-06-21T12:14:48.794999Z",
     "iopub.status.busy": "2023-06-21T12:14:48.794754Z",
     "iopub.status.idle": "2023-06-21T12:14:50.772909Z",
     "shell.execute_reply": "2023-06-21T12:14:50.772327Z",
     "shell.execute_reply.started": "2023-06-21T12:14:48.794974Z"
    },
    "papermill": {},
    "tags": []
   },
   "outputs": [],
   "source": [
    "def get_branches_with_open_prs(owner, repository):\n",
    "    url = f\"https://api.github.com/repos/{owner}/{repository}/pulls\"\n",
    "    response = requests.get(url)\n",
    "    pulls = response.json()\n",
    "    \n",
    "    branches_data = []\n",
    "    \n",
    "    for pull in pulls:\n",
    "        branch = pull['head']['ref']\n",
    "        creator = pull['user']['login']\n",
    "        creation_date = pull['created_at']\n",
    "        \n",
    "        branches_data.append({\n",
    "            'Branch': branch,\n",
    "            'Creator': creator,\n",
    "            'Creation Date': creation_date\n",
    "        })\n",
    "    \n",
    "    branches_df = pd.DataFrame(branches_data)\n",
    "    return branches_df\n",
    "\n",
    "branches_with_open_prs = get_branches_with_open_prs(owner, repository)"
   ]
  },
  {
   "cell_type": "markdown",
   "id": "f94c42ab-2a53-406d-8423-f2f19c57e5d0",
   "metadata": {
    "papermill": {},
    "tags": []
   },
   "source": [
    "## Output"
   ]
  },
  {
   "cell_type": "markdown",
   "id": "9d86ad23-9f7e-45f8-8ddd-ea451365754c",
   "metadata": {
    "papermill": {},
    "tags": []
   },
   "source": [
    "### Display result"
   ]
  },
  {
   "cell_type": "code",
   "execution_count": 23,
   "id": "0c14344f-f4c0-4473-9a9a-9172e3299cb4",
   "metadata": {
    "execution": {
     "iopub.execute_input": "2023-06-21T12:14:50.775971Z",
     "iopub.status.busy": "2023-06-21T12:14:50.775749Z",
     "iopub.status.idle": "2023-06-21T12:14:50.785033Z",
     "shell.execute_reply": "2023-06-21T12:14:50.784508Z",
     "shell.execute_reply.started": "2023-06-21T12:14:50.775949Z"
    },
    "papermill": {},
    "tags": []
   },
   "outputs": [
    {
     "name": "stdout",
     "output_type": "stream",
     "text": [
      "Branches with open pull requests in jupyter-naas/awesome-notebooks:\n",
      "----------------------------------------\n",
      "                                               Branch        Creator  \\\n",
      "0                 1959-python-convert-multiples-units     Benjifilly   \n",
      "1                           1954-github-list-branches     FlorentLvr   \n",
      "2                   1950-slack-send-blocks-to-channel     Benjifilly   \n",
      "3          1946-naas-create-templates-using-mychatgpt     FlorentLvr   \n",
      "4   1941-langchain-create-embeddings-from-awesome-...     FlorentLvr   \n",
      "5                                owid-oil-consumption  makingsurgeon   \n",
      "6       1896-pandas-check-if-column-is-in-date-format     FlorentLvr   \n",
      "7                   1887-deezer-get-listening-history     FlorentLvr   \n",
      "8         1885-request-handling-errors-and-exceptions     FlorentLvr   \n",
      "9   1854-advertools-bulk-status-code-checker-with-...    eliasdabbas   \n",
      "10                          1839-langchain-json-agent     FlorentLvr   \n",
      "11                       1837-langchain-gmail-toolkit     FlorentLvr   \n",
      "12  1819-yahoofinance-generate-ai-powered-chat-plugin     FlorentLvr   \n",
      "13                 1788-instagram-get-user-followings     FlorentLvr   \n",
      "14                  1786-instagram-get-user-followers     FlorentLvr   \n",
      "15              1784-wise-list-balances-for-a-profile     FlorentLvr   \n",
      "16   1782-wise-retrieving-a-balance-account-statement     FlorentLvr   \n",
      "17             1780-wise-list-transfers-for-a-profile     FlorentLvr   \n",
      "18  1770-clockify-create-time-entries-database-for...     FlorentLvr   \n",
      "19  1726-azure-machine-learning-univariate-timeser...     FlorentLvr   \n",
      "20                 1720-azure-blob-storage-list-blobs     FlorentLvr   \n",
      "21             1717-quickbooks-full-update-a-customer     FlorentLvr   \n",
      "22           1681-pydub-convert-audio-file-m4a-to-mp3       jravenel   \n",
      "23                            1667-trello-create-card       jravenel   \n",
      "24                            1665-trello-list-boards       jravenel   \n",
      "25              1240-bigfunctions-get-sentiment-score       jravenel   \n",
      "26                                          otmd-oura  onthemarkdata   \n",
      "\n",
      "           Creation Date  \n",
      "0   2023-06-21T11:59:56Z  \n",
      "1   2023-06-20T09:27:49Z  \n",
      "2   2023-06-19T09:18:41Z  \n",
      "3   2023-06-16T07:36:06Z  \n",
      "4   2023-06-15T14:51:14Z  \n",
      "5   2023-06-13T18:48:12Z  \n",
      "6   2023-06-13T07:54:22Z  \n",
      "7   2023-06-09T09:41:43Z  \n",
      "8   2023-06-09T09:33:32Z  \n",
      "9   2023-06-05T14:57:46Z  \n",
      "10  2023-06-01T17:45:11Z  \n",
      "11  2023-06-01T17:41:26Z  \n",
      "12  2023-05-29T17:37:12Z  \n",
      "13  2023-05-22T16:19:45Z  \n",
      "14  2023-05-22T16:16:38Z  \n",
      "15  2023-05-19T12:58:46Z  \n",
      "16  2023-05-19T12:32:17Z  \n",
      "17  2023-05-19T12:27:40Z  \n",
      "18  2023-05-17T08:32:33Z  \n",
      "19  2023-04-28T10:05:23Z  \n",
      "20  2023-04-27T16:26:05Z  \n",
      "21  2023-04-26T17:38:38Z  \n",
      "22  2023-04-18T18:09:48Z  \n",
      "23  2023-04-18T05:32:40Z  \n",
      "24  2023-04-17T15:56:51Z  \n",
      "25  2022-10-10T15:25:05Z  \n",
      "26  2022-09-02T17:24:36Z  \n",
      "----------------------------------------\n"
     ]
    }
   ],
   "source": [
    "print(f\"Branches with open pull requests in {owner}/{repository}:\")\n",
    "print(\"-\" * 40)\n",
    "print(branches_with_open_prs)\n",
    "print(\"-\" * 40)"
   ]
  },
  {
   "cell_type": "markdown",
   "id": "ff36ed17-b795-447d-9ed3-9ef638b5c904",
   "metadata": {
    "papermill": {},
    "tags": []
   },
   "source": [
    " "
   ]
  }
 ],
 "metadata": {
  "kernelspec": {
   "display_name": "Python 3",
   "language": "python",
   "name": "python3"
  },
  "language_info": {
   "codemirror_mode": {
    "name": "ipython",
    "version": 3
   },
   "file_extension": ".py",
   "mimetype": "text/x-python",
   "name": "python",
   "nbconvert_exporter": "python",
   "pygments_lexer": "ipython3",
   "version": "3.9.6"
  },
  "widgets": {
   "application/vnd.jupyter.widget-state+json": {
    "state": {},
    "version_major": 2,
    "version_minor": 0
   }
  }
 },
 "nbformat": 4,
 "nbformat_minor": 5
}
