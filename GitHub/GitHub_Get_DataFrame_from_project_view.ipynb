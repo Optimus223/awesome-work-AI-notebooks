{
 "cells": [
  {
   "cell_type": "markdown",
   "id": "717048ed-d26c-4569-b295-e75c349bf21d",
   "metadata": {
    "papermill": {},
    "tags": []
   },
   "source": [
    "<img width=\"10%\" alt=\"Naas\" src=\"https://landen.imgix.net/jtci2pxwjczr/assets/5ice39g4.png?w=160\"/>"
   ]
  },
  {
   "cell_type": "markdown",
   "id": "432caf78-c690-40cf-a65e-529c6f00cb3b",
   "metadata": {
    "papermill": {},
    "tags": []
   },
   "source": [
    "# GitHub - Get DataFrame from project view"
   ]
  },
  {
   "cell_type": "markdown",
   "id": "6e203af2-4d97-41a8-9127-8b96ca922731",
   "metadata": {
    "papermill": {},
    "tags": []
   },
   "source": [
    "**Tags:** #github #dataframe #beautifulsoup #projectview #scraping #python"
   ]
  },
  {
   "cell_type": "markdown",
   "id": "d8b98120-6757-4306-a58d-9f07d839dd19",
   "metadata": {
    "papermill": {},
    "tags": []
   },
   "source": [
    "**Author:** [Benjamin Filly](https://www.linkedin.com/in/benjamin-filly-05427727a/)"
   ]
  },
  {
   "cell_type": "markdown",
   "id": "c2c462a0-cd8d-48b0-a114-fb4e061c8324",
   "metadata": {
    "papermill": {},
    "tags": []
   },
   "source": [
    "**Description:** This notebook will show how to return a dataframe from project view using BeautifulSoup. It is usefull for organizations to quickly get data from GitHub project view."
   ]
  },
  {
   "cell_type": "markdown",
   "id": "f619128e-0350-4110-bb6d-7681c2f477c0",
   "metadata": {
    "papermill": {},
    "tags": []
   },
   "source": [
    "**References:**\n",
    "- [BeautifulSoup Documentation](https://www.crummy.com/software/BeautifulSoup/bs4/doc/)\n",
    "- [GitHub Project View](https://help.github.com/en/github/managing-your-work-on-github/about-project-boards)"
   ]
  },
  {
   "cell_type": "markdown",
   "id": "c96862b4-a30a-4b61-a64f-2e0ce1f3a355",
   "metadata": {
    "papermill": {},
    "tags": []
   },
   "source": [
    "## Input"
   ]
  },
  {
   "cell_type": "markdown",
   "id": "67f41d1e-9a29-43a3-b17c-5987aa73535a",
   "metadata": {
    "papermill": {},
    "tags": []
   },
   "source": [
    "### Import libraries"
   ]
  },
  {
   "cell_type": "code",
   "execution_count": 33,
   "id": "8c5974e5-adfb-439f-84ed-ce26aac061c5",
   "metadata": {
    "execution": {
     "iopub.execute_input": "2023-07-13T14:22:50.762980Z",
     "iopub.status.busy": "2023-07-13T14:22:50.762630Z",
     "iopub.status.idle": "2023-07-13T14:22:50.769065Z",
     "shell.execute_reply": "2023-07-13T14:22:50.767765Z",
     "shell.execute_reply.started": "2023-07-13T14:22:50.762941Z"
    },
    "papermill": {},
    "tags": []
   },
   "outputs": [],
   "source": [
    "import requests\n",
    "from bs4 import BeautifulSoup\n",
    "import pandas as pd\n",
    "import json"
   ]
  },
  {
   "cell_type": "markdown",
   "id": "296bbef1-fd06-4044-84d4-bde345a070ab",
   "metadata": {
    "papermill": {},
    "tags": []
   },
   "source": [
    "### Setup Variables\n",
    "- `url`: URL of the project view page"
   ]
  },
  {
   "cell_type": "code",
   "execution_count": 83,
   "id": "5828a627-685c-4a53-84f7-2ab6bc58551d",
   "metadata": {
    "execution": {
     "iopub.execute_input": "2023-07-13T14:58:42.519124Z",
     "iopub.status.busy": "2023-07-13T14:58:42.518868Z",
     "iopub.status.idle": "2023-07-13T14:58:42.523098Z",
     "shell.execute_reply": "2023-07-13T14:58:42.522255Z",
     "shell.execute_reply.started": "2023-07-13T14:58:42.519098Z"
    },
    "papermill": {},
    "tags": []
   },
   "outputs": [],
   "source": [
    "url = \"https://github.com/orgs/jupyter-naas/projects/10/views/19\""
   ]
  },
  {
   "cell_type": "markdown",
   "id": "c3792947-66da-4514-845e-976c2a476ef8",
   "metadata": {
    "papermill": {},
    "tags": []
   },
   "source": [
    "## Model"
   ]
  },
  {
   "cell_type": "markdown",
   "id": "8f9ff22d-f923-47b8-92cf-6b7503576ee5",
   "metadata": {
    "papermill": {},
    "tags": []
   },
   "source": [
    "### Get DataFrame from project view"
   ]
  },
  {
   "cell_type": "markdown",
   "id": "036d4552-c7f8-4d8b-96e9-8fb9777d77ff",
   "metadata": {
    "papermill": {},
    "tags": []
   },
   "source": [
    "This function will return a dataframe from project view using BeautifulSoup."
   ]
  },
  {
   "cell_type": "code",
   "execution_count": 48,
   "id": "bacc8010-ce1e-4d07-88b7-10659519cf10",
   "metadata": {
    "execution": {
     "iopub.execute_input": "2023-07-13T14:35:21.138845Z",
     "iopub.status.busy": "2023-07-13T14:35:21.138581Z",
     "iopub.status.idle": "2023-07-13T14:35:22.479012Z",
     "shell.execute_reply": "2023-07-13T14:35:22.478102Z",
     "shell.execute_reply.started": "2023-07-13T14:35:21.138819Z"
    },
    "papermill": {},
    "tags": []
   },
   "outputs": [
    {
     "data": {
      "text/plain": [
       "['\"Title\",\"value\":{\"url\":\"https://github.com/71603764/299951448/issues/1217\",\"state\":\"closed\",\"title\":{\"raw\":\"Python - Create GitHub repository\",\"html\":\"Python - Create GitHub repository\"},\"number\":1217,\"issueId\":1395462430,\"stateReason\":null}},{',\n",
       " '\"Assignees\",\"value\":[{\"avatarUrl\":\"https://avatars.githubusercontent.com/u/72201663?s=40\\\\u0026u=58c93c3da53765967477e0c7a446ef5238e4a8f6\\\\u0026v=4\",\"id\":72201663,\"login\":\"knshkp\",\"url\":\"https://github.com/knshkp\"}]},{',\n",
       " '\"Status\",\"value\":{\"id\":\"7c2c8541\"}},{',\n",
       " '\"Linked pull requests\",\"value\":[{\"id\":1076376031,\"number\":1220,\"isDraft\":false,\"state\":\"merged\",\"url\":\"https://github.com/jupyter-naas/awesome-notebooks/pull/1220\"}]},{',\n",
       " '16173293,\"value\":{\"id\":\"7bb90100\"}},{',\n",
       " '16173294,\"value\":{\"value\":2.0}}],\"content\":{\"id\":1395462430,\"url\":\"https://github.com/jupyter-naas/awesome-notebooks/issues/1217\"}},']"
      ]
     },
     "execution_count": 48,
     "metadata": {},
     "output_type": "execute_result"
    }
   ],
   "source": [
    "# Init\n",
    "data = []\n",
    "\n",
    "# Get HTML from URL\n",
    "response = requests.get(url)\n",
    "html = response.text\n",
    "\n",
    "# Parse HTML\n",
    "soup = BeautifulSoup(html, \"html.parser\")\n",
    "\n",
    "# Get cards\n",
    "elements = soup.find_all(\"script\", {\"id\": \"memex-items-data\"})\n",
    "\n",
    "# Iterate over the elements and split their text\n",
    "for element in elements:\n",
    "    text = element.text\n",
    "#     print(text)\n",
    "    split_text = text.split('{\"contentId\":')[1:]  # Split the text as needed\n",
    "    # Process the split text or perform any desired operations\n",
    "#     print(split_text)\n",
    "    \n",
    "    for s in split_text:\n",
    "        s = s.split('\"memexProjectColumnId\":')[1:]\n",
    "        # Init\n",
    "        title = None\n",
    "        issue_number = None\n",
    "        tmp = {\n",
    "            \"title\": title,\n",
    "            \"issue_number\": issue_number,\n",
    "        }\n",
    "        data.append(tmp)\n",
    "        \n",
    "        \n",
    "s"
   ]
  },
  {
   "cell_type": "code",
   "execution_count": 54,
   "id": "fc45eb7c-46f0-40c0-89dc-2033d03629f0",
   "metadata": {
    "execution": {
     "iopub.execute_input": "2023-07-13T14:41:17.813480Z",
     "iopub.status.busy": "2023-07-13T14:41:17.813185Z",
     "iopub.status.idle": "2023-07-13T14:41:18.854414Z",
     "shell.execute_reply": "2023-07-13T14:41:18.853195Z",
     "shell.execute_reply.started": "2023-07-13T14:41:17.813447Z"
    },
    "tags": []
   },
   "outputs": [
    {
     "name": "stdout",
     "output_type": "stream",
     "text": [
      "0\n",
      "[]\n",
      "Empty DataFrame\n",
      "Columns: []\n",
      "Index: []\n"
     ]
    }
   ],
   "source": [
    "# Init\n",
    "data = []\n",
    "\n",
    "# Get HTML from URL\n",
    "response = requests.get(url)\n",
    "html = response.text\n",
    "\n",
    "# Parse HTML\n",
    "soup = BeautifulSoup(html, \"html.parser\")\n",
    "\n",
    "# Get cards\n",
    "elements = soup.find_all(\"script\", {\"id\": \"memex-items-data\"})\n",
    "\n",
    "# Iterate over the elements and split their text\n",
    "for element in elements:\n",
    "    text = element.text\n",
    "    split_text = text.split('{\"contentId\":')[1:]  # Split the text as needed\n",
    "    \n",
    "    for s in split_text:\n",
    "        s = s.split('\"memexProjectColumnId\":')[1:]\n",
    "        # Get the values using splits\n",
    "        title = s[0].split('\"raw\":\"')[-1].split('\"')[0]\n",
    "        issue_number = s[0].split('\"number\":')[-1].split(',')[0]\n",
    "        assignees = s[1].split('\"login\":\"')[-1].split('\"')[0]\n",
    "        status_id = s[2].split('\"id\":\"')[-1].split('\"')[0]\n",
    "        PR_url = s[3].split('\"url\":\"')[-1].split('\"')[0]\n",
    "        iteration_id = s[4].split('\"id\":\"')[-1].split('\"')[0]\n",
    "        estimate = s[5].split('\"value\":')[-1].split('}')[0]\n",
    "        # Create a dictionary with the values\n",
    "        tmp = {\n",
    "            \"title\": title,\n",
    "            \"issue_number\": issue_number,\n",
    "            \"assignees\": assignees,\n",
    "            \"status_id\": status_id,\n",
    "            \"PR_url\": PR_url,\n",
    "            \"iteration_id\": iteration_id,\n",
    "            \"estimate\": estimate,\n",
    "        }\n",
    "        # Append the dictionary to the data list\n",
    "        data.append(tmp)\n",
    "\n",
    "# Create a dataframe from the data list\n",
    "df = pd.DataFrame(data)\n",
    "\n",
    "# Print the dataframe\n",
    "print(df)\n"
   ]
  },
  {
   "cell_type": "code",
   "execution_count": null,
   "id": "fa438f7e-8348-4e83-9742-b3f6eb5a251a",
   "metadata": {},
   "outputs": [],
   "source": []
  },
  {
   "cell_type": "code",
   "execution_count": 27,
   "id": "49b9a45a-c942-4e49-a9d4-2641b31e7fa3",
   "metadata": {
    "execution": {
     "iopub.execute_input": "2023-07-13T14:19:37.636854Z",
     "iopub.status.busy": "2023-07-13T14:19:37.636581Z",
     "iopub.status.idle": "2023-07-13T14:19:37.642445Z",
     "shell.execute_reply": "2023-07-13T14:19:37.641463Z",
     "shell.execute_reply.started": "2023-07-13T14:19:37.636828Z"
    },
    "tags": []
   },
   "outputs": [
    {
     "data": {
      "text/plain": [
       "'Python - Create GitHub repository'"
      ]
     },
     "execution_count": 27,
     "metadata": {},
     "output_type": "execute_result"
    }
   ],
   "source": [
    "title = s[0].split('\"raw\":\"')[-1].split('\"')[0]\n",
    "title"
   ]
  },
  {
   "cell_type": "code",
   "execution_count": 5,
   "id": "aba26b06-a52c-4355-b584-0735f74617e7",
   "metadata": {
    "execution": {
     "iopub.execute_input": "2023-07-13T14:11:35.147413Z",
     "iopub.status.busy": "2023-07-13T14:11:35.147188Z",
     "iopub.status.idle": "2023-07-13T14:11:35.262434Z",
     "shell.execute_reply": "2023-07-13T14:11:35.261483Z",
     "shell.execute_reply.started": "2023-07-13T14:11:35.147386Z"
    },
    "tags": []
   },
   "outputs": [
    {
     "data": {
      "text/plain": [
       "'\"Title\",\"value\":{\"url\":\"https://github.com/71603764/299951448/issues/1217\",\"state\":\"closed\",\"title\":{\"raw\":\"Python - Create GitHub repository\",\"html\":\"Python - Create GitHub repository\"},\"number\":1217,\"issueId\":1395462430,\"stateReason\":null}},{'"
      ]
     },
     "execution_count": 5,
     "metadata": {},
     "output_type": "execute_result"
    }
   ],
   "source": [
    "s[0]\n",
    "# Number"
   ]
  },
  {
   "cell_type": "code",
   "execution_count": 6,
   "id": "76b8f60e-50ff-4a39-951c-0dc9fcc49849",
   "metadata": {
    "execution": {
     "iopub.execute_input": "2023-07-13T14:11:35.264159Z",
     "iopub.status.busy": "2023-07-13T14:11:35.263923Z",
     "iopub.status.idle": "2023-07-13T14:11:35.381882Z",
     "shell.execute_reply": "2023-07-13T14:11:35.380974Z",
     "shell.execute_reply.started": "2023-07-13T14:11:35.264133Z"
    },
    "tags": []
   },
   "outputs": [
    {
     "data": {
      "text/plain": [
       "'\"Assignees\",\"value\":[{\"avatarUrl\":\"https://avatars.githubusercontent.com/u/72201663?s=40\\\\u0026u=58c93c3da53765967477e0c7a446ef5238e4a8f6\\\\u0026v=4\",\"id\":72201663,\"login\":\"knshkp\",\"url\":\"https://github.com/knshkp\"}]},{'"
      ]
     },
     "execution_count": 6,
     "metadata": {},
     "output_type": "execute_result"
    }
   ],
   "source": [
    "s[1]\n",
    "# Login"
   ]
  },
  {
   "cell_type": "code",
   "execution_count": 23,
   "id": "16dc8e3d-45e9-4aec-b804-4c1d83b5f133",
   "metadata": {
    "execution": {
     "iopub.execute_input": "2023-07-13T14:17:06.264870Z",
     "iopub.status.busy": "2023-07-13T14:17:06.264591Z",
     "iopub.status.idle": "2023-07-13T14:17:06.270953Z",
     "shell.execute_reply": "2023-07-13T14:17:06.269921Z",
     "shell.execute_reply.started": "2023-07-13T14:17:06.264841Z"
    },
    "tags": []
   },
   "outputs": [
    {
     "data": {
      "text/plain": [
       "'Python - Create GitHub repository'"
      ]
     },
     "execution_count": 23,
     "metadata": {},
     "output_type": "execute_result"
    }
   ],
   "source": [
    "s[0].split(\"raw\")[-1].replace('\":\"', \"\").split('\",\"')[0]"
   ]
  },
  {
   "cell_type": "code",
   "execution_count": 47,
   "id": "2c36c9f4-57e0-435b-b5ed-92d4ef921a5e",
   "metadata": {
    "execution": {
     "iopub.execute_input": "2023-07-13T14:30:52.358174Z",
     "iopub.status.busy": "2023-07-13T14:30:52.357904Z",
     "iopub.status.idle": "2023-07-13T14:30:52.364467Z",
     "shell.execute_reply": "2023-07-13T14:30:52.363304Z",
     "shell.execute_reply.started": "2023-07-13T14:30:52.358146Z"
    },
    "tags": []
   },
   "outputs": [
    {
     "data": {
      "text/plain": [
       "'Python - Create GitHub repository'"
      ]
     },
     "execution_count": 47,
     "metadata": {},
     "output_type": "execute_result"
    }
   ],
   "source": [
    "title = s[0].split('\"raw\":\"')[-1].split('\"')[0]\n",
    "title"
   ]
  },
  {
   "cell_type": "code",
   "execution_count": 36,
   "id": "c4815275-cb6c-415a-a63b-3d1d2b545680",
   "metadata": {
    "execution": {
     "iopub.execute_input": "2023-07-13T14:24:54.552196Z",
     "iopub.status.busy": "2023-07-13T14:24:54.551501Z",
     "iopub.status.idle": "2023-07-13T14:24:54.557822Z",
     "shell.execute_reply": "2023-07-13T14:24:54.556967Z",
     "shell.execute_reply.started": "2023-07-13T14:24:54.552161Z"
    },
    "tags": []
   },
   "outputs": [
    {
     "data": {
      "text/plain": [
       "'1217'"
      ]
     },
     "execution_count": 36,
     "metadata": {},
     "output_type": "execute_result"
    }
   ],
   "source": [
    "issue_number = s[0].split('\"number\":')[-1].split(',')[0]\n",
    "number"
   ]
  },
  {
   "cell_type": "code",
   "execution_count": 35,
   "id": "b8868deb-5bb5-4872-a4d1-33e997bd0117",
   "metadata": {
    "execution": {
     "iopub.execute_input": "2023-07-13T14:24:42.592834Z",
     "iopub.status.busy": "2023-07-13T14:24:42.592587Z",
     "iopub.status.idle": "2023-07-13T14:24:42.599067Z",
     "shell.execute_reply": "2023-07-13T14:24:42.598095Z",
     "shell.execute_reply.started": "2023-07-13T14:24:42.592809Z"
    },
    "tags": []
   },
   "outputs": [
    {
     "data": {
      "text/plain": [
       "'knshkp'"
      ]
     },
     "execution_count": 35,
     "metadata": {},
     "output_type": "execute_result"
    }
   ],
   "source": [
    "assignees = s[1].split('\"login\":\"')[-1].split('\"')[0]\n",
    "login"
   ]
  },
  {
   "cell_type": "code",
   "execution_count": 42,
   "id": "4d1c7b03-a818-4215-94a9-83243c0b3a41",
   "metadata": {
    "execution": {
     "iopub.execute_input": "2023-07-13T14:26:26.509051Z",
     "iopub.status.busy": "2023-07-13T14:26:26.508714Z",
     "iopub.status.idle": "2023-07-13T14:26:26.516099Z",
     "shell.execute_reply": "2023-07-13T14:26:26.514985Z",
     "shell.execute_reply.started": "2023-07-13T14:26:26.509011Z"
    },
    "tags": []
   },
   "outputs": [
    {
     "data": {
      "text/plain": [
       "'7c2c8541'"
      ]
     },
     "execution_count": 42,
     "metadata": {},
     "output_type": "execute_result"
    }
   ],
   "source": [
    "status_id = s[2].split('\"id\":\"')[-1].split('\"')[0]\n",
    "ID"
   ]
  },
  {
   "cell_type": "code",
   "execution_count": 43,
   "id": "71b3ff09-cf4d-42b4-bc99-2dadc665206c",
   "metadata": {
    "execution": {
     "iopub.execute_input": "2023-07-13T14:27:22.154404Z",
     "iopub.status.busy": "2023-07-13T14:27:22.154113Z",
     "iopub.status.idle": "2023-07-13T14:27:22.160303Z",
     "shell.execute_reply": "2023-07-13T14:27:22.159271Z",
     "shell.execute_reply.started": "2023-07-13T14:27:22.154373Z"
    },
    "tags": []
   },
   "outputs": [
    {
     "data": {
      "text/plain": [
       "'https://github.com/jupyter-naas/awesome-notebooks/pull/1220'"
      ]
     },
     "execution_count": 43,
     "metadata": {},
     "output_type": "execute_result"
    }
   ],
   "source": [
    "url = s[3].split('\"url\":\"')[-1].split('\"')[0]\n",
    "url"
   ]
  },
  {
   "cell_type": "code",
   "execution_count": 44,
   "id": "b844b789-2e2a-47e9-8564-bd68d1cfcb4e",
   "metadata": {
    "execution": {
     "iopub.execute_input": "2023-07-13T14:29:00.613491Z",
     "iopub.status.busy": "2023-07-13T14:29:00.613173Z",
     "iopub.status.idle": "2023-07-13T14:29:00.624465Z",
     "shell.execute_reply": "2023-07-13T14:29:00.623151Z",
     "shell.execute_reply.started": "2023-07-13T14:29:00.613457Z"
    },
    "tags": []
   },
   "outputs": [
    {
     "data": {
      "text/plain": [
       "'7bb90100'"
      ]
     },
     "execution_count": 44,
     "metadata": {},
     "output_type": "execute_result"
    }
   ],
   "source": [
    "iteration_id = s[4].split('\"id\":\"')[-1].split('\"')[0]\n",
    "iteration_id"
   ]
  },
  {
   "cell_type": "code",
   "execution_count": 45,
   "id": "bdea2576-e3f8-48be-a289-5ad8df66a671",
   "metadata": {
    "execution": {
     "iopub.execute_input": "2023-07-13T14:30:25.123251Z",
     "iopub.status.busy": "2023-07-13T14:30:25.123005Z",
     "iopub.status.idle": "2023-07-13T14:30:25.129040Z",
     "shell.execute_reply": "2023-07-13T14:30:25.128212Z",
     "shell.execute_reply.started": "2023-07-13T14:30:25.123225Z"
    },
    "tags": []
   },
   "outputs": [
    {
     "data": {
      "text/plain": [
       "'2.0'"
      ]
     },
     "execution_count": 45,
     "metadata": {},
     "output_type": "execute_result"
    }
   ],
   "source": [
    "value = s[5].split('\"value\":')[-1].split('}')[0]\n",
    "value"
   ]
  },
  {
   "cell_type": "code",
   "execution_count": 31,
   "id": "655f226d-5016-4e17-ab5c-a33e95b7d68b",
   "metadata": {
    "execution": {
     "iopub.execute_input": "2023-07-13T14:21:51.564987Z",
     "iopub.status.busy": "2023-07-13T14:21:51.564724Z",
     "iopub.status.idle": "2023-07-13T14:21:51.572510Z",
     "shell.execute_reply": "2023-07-13T14:21:51.571411Z",
     "shell.execute_reply.started": "2023-07-13T14:21:51.564960Z"
    },
    "tags": []
   },
   "outputs": [
    {
     "data": {
      "text/plain": [
       "'\"Assignees\",\"value\":[{\"avatarUrl\":\"https://avatars.githubusercontent.com/u/72201663?s=40\\\\u0026u=58c93c3da53765967477e0c7a446ef5238e4a8f6\\\\u0026v=4\",\"id\":72201663,\"login\":\"knshkp\",\"url\":\"https://github.com/knshkp\"}]},{'"
      ]
     },
     "execution_count": 31,
     "metadata": {},
     "output_type": "execute_result"
    }
   ],
   "source": [
    "s[1]\n",
    "# Login"
   ]
  },
  {
   "cell_type": "code",
   "execution_count": 37,
   "id": "c8c38108-3f23-4a52-bdec-90149bc8f1b7",
   "metadata": {
    "execution": {
     "iopub.execute_input": "2023-07-13T14:25:11.780107Z",
     "iopub.status.busy": "2023-07-13T14:25:11.779774Z",
     "iopub.status.idle": "2023-07-13T14:25:11.787013Z",
     "shell.execute_reply": "2023-07-13T14:25:11.785683Z",
     "shell.execute_reply.started": "2023-07-13T14:25:11.780069Z"
    },
    "tags": []
   },
   "outputs": [
    {
     "data": {
      "text/plain": [
       "'\"Status\",\"value\":{\"id\":\"7c2c8541\"}},{'"
      ]
     },
     "execution_count": 37,
     "metadata": {},
     "output_type": "execute_result"
    }
   ],
   "source": [
    "s[2]\n",
    "# ID status"
   ]
  },
  {
   "cell_type": "code",
   "execution_count": 38,
   "id": "049ece56-a50b-464b-ac6f-1922dfaafc72",
   "metadata": {
    "execution": {
     "iopub.execute_input": "2023-07-13T14:25:12.008749Z",
     "iopub.status.busy": "2023-07-13T14:25:12.008349Z",
     "iopub.status.idle": "2023-07-13T14:25:12.014557Z",
     "shell.execute_reply": "2023-07-13T14:25:12.013491Z",
     "shell.execute_reply.started": "2023-07-13T14:25:12.008708Z"
    },
    "tags": []
   },
   "outputs": [
    {
     "data": {
      "text/plain": [
       "'\"Linked pull requests\",\"value\":[{\"id\":1076376031,\"number\":1220,\"isDraft\":false,\"state\":\"merged\",\"url\":\"https://github.com/jupyter-naas/awesome-notebooks/pull/1220\"}]},{'"
      ]
     },
     "execution_count": 38,
     "metadata": {},
     "output_type": "execute_result"
    }
   ],
   "source": [
    "s[3]\n",
    "# linked PR number"
   ]
  },
  {
   "cell_type": "code",
   "execution_count": 39,
   "id": "d034ae27-374d-4e3b-9b78-b7ed40f10866",
   "metadata": {
    "execution": {
     "iopub.execute_input": "2023-07-13T14:25:12.343049Z",
     "iopub.status.busy": "2023-07-13T14:25:12.342798Z",
     "iopub.status.idle": "2023-07-13T14:25:12.348604Z",
     "shell.execute_reply": "2023-07-13T14:25:12.347377Z",
     "shell.execute_reply.started": "2023-07-13T14:25:12.343023Z"
    },
    "tags": []
   },
   "outputs": [
    {
     "data": {
      "text/plain": [
       "'16173293,\"value\":{\"id\":\"7bb90100\"}},{'"
      ]
     },
     "execution_count": 39,
     "metadata": {},
     "output_type": "execute_result"
    }
   ],
   "source": [
    "s[4]\n",
    "# ID iteration"
   ]
  },
  {
   "cell_type": "code",
   "execution_count": 40,
   "id": "90dbe031-3a72-49ff-aa51-461c1e883407",
   "metadata": {
    "execution": {
     "iopub.execute_input": "2023-07-13T14:25:13.130178Z",
     "iopub.status.busy": "2023-07-13T14:25:13.129906Z",
     "iopub.status.idle": "2023-07-13T14:25:13.135143Z",
     "shell.execute_reply": "2023-07-13T14:25:13.134273Z",
     "shell.execute_reply.started": "2023-07-13T14:25:13.130149Z"
    },
    "tags": []
   },
   "outputs": [
    {
     "data": {
      "text/plain": [
       "'16173294,\"value\":{\"value\":2.0}}],\"content\":{\"id\":1395462430,\"url\":\"https://github.com/jupyter-naas/awesome-notebooks/issues/1217\"}},'"
      ]
     },
     "execution_count": 40,
     "metadata": {},
     "output_type": "execute_result"
    }
   ],
   "source": [
    "s[5]\n",
    "# Value"
   ]
  },
  {
   "cell_type": "markdown",
   "id": "503c93d1-e7bc-475a-b544-78cd83fb4102",
   "metadata": {
    "papermill": {},
    "tags": []
   },
   "source": [
    "## Output"
   ]
  },
  {
   "cell_type": "markdown",
   "id": "5f1c1dbd-b96b-4923-a906-0c8c4814b4b7",
   "metadata": {
    "papermill": {},
    "tags": []
   },
   "source": [
    "### Display result"
   ]
  },
  {
   "cell_type": "code",
   "execution_count": 9,
   "id": "cdb87b91-d333-45c9-902e-6783da71f340",
   "metadata": {
    "execution": {
     "iopub.execute_input": "2023-07-13T14:11:36.360882Z",
     "iopub.status.busy": "2023-07-13T14:11:36.360598Z",
     "iopub.status.idle": "2023-07-13T14:11:36.375029Z",
     "shell.execute_reply": "2023-07-13T14:11:36.373868Z",
     "shell.execute_reply.started": "2023-07-13T14:11:36.360849Z"
    },
    "papermill": {},
    "tags": []
   },
   "outputs": [
    {
     "data": {
      "text/html": [
       "<div>\n",
       "<style scoped>\n",
       "    .dataframe tbody tr th:only-of-type {\n",
       "        vertical-align: middle;\n",
       "    }\n",
       "\n",
       "    .dataframe tbody tr th {\n",
       "        vertical-align: top;\n",
       "    }\n",
       "\n",
       "    .dataframe thead th {\n",
       "        text-align: right;\n",
       "    }\n",
       "</style>\n",
       "<table border=\"1\" class=\"dataframe\">\n",
       "  <thead>\n",
       "    <tr style=\"text-align: right;\">\n",
       "      <th></th>\n",
       "      <th>title</th>\n",
       "      <th>issue_number</th>\n",
       "    </tr>\n",
       "  </thead>\n",
       "  <tbody>\n",
       "    <tr>\n",
       "      <th>0</th>\n",
       "      <td>None</td>\n",
       "      <td>None</td>\n",
       "    </tr>\n",
       "  </tbody>\n",
       "</table>\n",
       "</div>"
      ],
      "text/plain": [
       "  title issue_number\n",
       "0  None         None"
      ]
     },
     "execution_count": 9,
     "metadata": {},
     "output_type": "execute_result"
    }
   ],
   "source": [
    "df = pd.DataFrame(data)\n",
    "df"
   ]
  },
  {
   "cell_type": "markdown",
   "id": "a9887dae-0cb4-4a10-bcf6-2c250b7cb12f",
   "metadata": {
    "papermill": {},
    "tags": []
   },
   "source": [
    " "
   ]
  }
 ],
 "metadata": {
  "kernelspec": {
   "display_name": "Python 3",
   "language": "python",
   "name": "python3"
  },
  "language_info": {
   "codemirror_mode": {
    "name": "ipython",
    "version": 3
   },
   "file_extension": ".py",
   "mimetype": "text/x-python",
   "name": "python",
   "nbconvert_exporter": "python",
   "pygments_lexer": "ipython3",
   "version": "3.9.6"
  },
  "widgets": {
   "application/vnd.jupyter.widget-state+json": {
    "state": {},
    "version_major": 2,
    "version_minor": 0
   }
  }
 },
 "nbformat": 4,
 "nbformat_minor": 5
}
