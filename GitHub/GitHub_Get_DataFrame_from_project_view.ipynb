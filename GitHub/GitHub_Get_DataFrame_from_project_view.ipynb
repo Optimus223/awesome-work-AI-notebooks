{
 "cells": [
  {
   "cell_type": "markdown",
   "id": "717048ed-d26c-4569-b295-e75c349bf21d",
   "metadata": {
    "papermill": {},
    "tags": []
   },
   "source": [
    "<img width=\"10%\" alt=\"Naas\" src=\"https://landen.imgix.net/jtci2pxwjczr/assets/5ice39g4.png?w=160\"/>"
   ]
  },
  {
   "cell_type": "markdown",
   "id": "432caf78-c690-40cf-a65e-529c6f00cb3b",
   "metadata": {
    "papermill": {},
    "tags": []
   },
   "source": [
    "# GitHub - Get DataFrame from project view"
   ]
  },
  {
   "cell_type": "markdown",
   "id": "6e203af2-4d97-41a8-9127-8b96ca922731",
   "metadata": {
    "papermill": {},
    "tags": []
   },
   "source": [
    "**Tags:** #github #dataframe #beautifulsoup #projectview #scraping #python"
   ]
  },
  {
   "cell_type": "markdown",
   "id": "d8b98120-6757-4306-a58d-9f07d839dd19",
   "metadata": {
    "papermill": {},
    "tags": []
   },
   "source": [
    "**Author:** [Benjamin Filly](https://www.linkedin.com/in/benjamin-filly-05427727a/)"
   ]
  },
  {
   "cell_type": "markdown",
   "id": "c2c462a0-cd8d-48b0-a114-fb4e061c8324",
   "metadata": {
    "papermill": {},
    "tags": []
   },
   "source": [
    "**Description:** This notebook will show how to return a dataframe from project view using BeautifulSoup. It is usefull for organizations to quickly get data from GitHub project view."
   ]
  },
  {
   "cell_type": "markdown",
   "id": "f619128e-0350-4110-bb6d-7681c2f477c0",
   "metadata": {
    "papermill": {},
    "tags": []
   },
   "source": [
    "**References:**\n- [BeautifulSoup Documentation](https://www.crummy.com/software/BeautifulSoup/bs4/doc/)\n- [GitHub Project View](https://help.github.com/en/github/managing-your-work-on-github/about-project-boards)"
   ]
  },
  {
   "cell_type": "markdown",
   "id": "c96862b4-a30a-4b61-a64f-2e0ce1f3a355",
   "metadata": {
    "papermill": {},
    "tags": []
   },
   "source": [
    "## Input"
   ]
  },
  {
   "cell_type": "markdown",
   "id": "67f41d1e-9a29-43a3-b17c-5987aa73535a",
   "metadata": {
    "papermill": {},
    "tags": []
   },
   "source": [
    "### Import libraries"
   ]
  },
  {
   "cell_type": "code",
   "execution_count": null,
   "id": "8c5974e5-adfb-439f-84ed-ce26aac061c5",
   "metadata": {
    "papermill": {},
    "tags": []
   },
   "source": "import requests\nfrom bs4 import BeautifulSoup",
   "outputs": []
  },
  {
   "cell_type": "markdown",
   "id": "296bbef1-fd06-4044-84d4-bde345a070ab",
   "metadata": {
    "papermill": {},
    "tags": []
   },
   "source": [
    "### Setup Variables\n- `url`: URL of the project view page"
   ]
  },
  {
   "cell_type": "code",
   "execution_count": null,
   "id": "5828a627-685c-4a53-84f7-2ab6bc58551d",
   "metadata": {
    "papermill": {},
    "tags": []
   },
   "source": "url = \"https://github.com/orgs/OpenAI/projects/1\"",
   "outputs": []
  },
  {
   "cell_type": "markdown",
   "id": "c3792947-66da-4514-845e-976c2a476ef8",
   "metadata": {
    "papermill": {},
    "tags": []
   },
   "source": [
    "## Model"
   ]
  },
  {
   "cell_type": "markdown",
   "id": "8f9ff22d-f923-47b8-92cf-6b7503576ee5",
   "metadata": {
    "papermill": {},
    "tags": []
   },
   "source": [
    "### Get DataFrame from project view"
   ]
  },
  {
   "cell_type": "markdown",
   "id": "036d4552-c7f8-4d8b-96e9-8fb9777d77ff",
   "metadata": {
    "papermill": {},
    "tags": []
   },
   "source": [
    "This function will return a dataframe from project view using BeautifulSoup."
   ]
  },
  {
   "cell_type": "code",
   "execution_count": null,
   "id": "bacc8010-ce1e-4d07-88b7-10659519cf10",
   "metadata": {
    "papermill": {},
    "tags": []
   },
   "source": "def get_dataframe_from_project_view(url):\n    # Get HTML from URL\n    response = requests.get(url)\n    html = response.text\n\n    # Parse HTML\n    soup = BeautifulSoup(html, \"html.parser\")\n\n    # Get all cards\n    cards = soup.find_all(\"div\", {\"class\": \"js-project-column-card\"})\n\n    # Create dataframe\n    df = pd.DataFrame(columns=[\"title\", \"description\", \"url\"])\n\n    # Iterate over cards\n    for card in cards:\n        # Get title\n        title = card.find(\"h3\", {\"class\": \"h4 lh-condensed\"}).text\n\n        # Get description\n        description = card.find(\"p\", {\"class\": \"text-gray mb-2\"}).text\n\n        # Get URL\n        url = card.find(\"a\", {\"class\": \"h4 lh-condensed\"})[\"href\"]\n\n        # Append to dataframe\n        df = df.append(\n            {\"title\": title, \"description\": description, \"url\": url}, ignore_index=True\n        )\n\n    return df",
   "outputs": []
  },
  {
   "cell_type": "markdown",
   "id": "503c93d1-e7bc-475a-b544-78cd83fb4102",
   "metadata": {
    "papermill": {},
    "tags": []
   },
   "source": [
    "## Output"
   ]
  },
  {
   "cell_type": "markdown",
   "id": "5f1c1dbd-b96b-4923-a906-0c8c4814b4b7",
   "metadata": {
    "papermill": {},
    "tags": []
   },
   "source": [
    "### Display result"
   ]
  },
  {
   "cell_type": "code",
   "execution_count": null,
   "id": "cdb87b91-d333-45c9-902e-6783da71f340",
   "metadata": {
    "papermill": {},
    "tags": []
   },
   "source": "df = get_dataframe_from_project_view(url)\ndf",
   "outputs": []
  },
  {
   "cell_type": "markdown",
   "id": "a9887dae-0cb4-4a10-bcf6-2c250b7cb12f",
   "metadata": {
    "papermill": {},
    "tags": []
   },
   "source": [
    " "
   ]
  }
 ],
 "metadata": {
  "kernelspec": {
   "display_name": "Python 3",
   "language": "python",
   "name": "python3"
  },
  "language_info": {
   "codemirror_mode": {
    "name": "ipython",
    "version": 3
   },
   "file_extension": ".py",
   "mimetype": "text/x-python",
   "name": "python",
   "nbconvert_exporter": "python",
   "pygments_lexer": "ipython3",
   "version": "3.9.6"
  },
  "widgets": {
   "application/vnd.jupyter.widget-state+json": {
    "state": {},
    "version_major": 2,
    "version_minor": 0
   }
  }
 },
 "nbformat": 4,
 "nbformat_minor": 5
}