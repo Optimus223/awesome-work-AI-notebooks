{
 "cells": [
  {
   "cell_type": "markdown",
   "id": "717048ed-d26c-4569-b295-e75c349bf21d",
   "metadata": {
    "papermill": {},
    "tags": []
   },
   "source": [
    "<img width=\"10%\" alt=\"Naas\" src=\"https://landen.imgix.net/jtci2pxwjczr/assets/5ice39g4.png?w=160\"/>"
   ]
  },
  {
   "cell_type": "markdown",
   "id": "432caf78-c690-40cf-a65e-529c6f00cb3b",
   "metadata": {
    "papermill": {},
    "tags": []
   },
   "source": [
    "# GitHub - Get DataFrame from project view"
   ]
  },
  {
   "cell_type": "markdown",
   "id": "6e203af2-4d97-41a8-9127-8b96ca922731",
   "metadata": {
    "papermill": {},
    "tags": []
   },
   "source": [
    "**Tags:** #github #dataframe #beautifulsoup #projectview #scraping #python"
   ]
  },
  {
   "cell_type": "markdown",
   "id": "d8b98120-6757-4306-a58d-9f07d839dd19",
   "metadata": {
    "papermill": {},
    "tags": []
   },
   "source": [
    "**Author:** [Benjamin Filly](https://www.linkedin.com/in/benjamin-filly-05427727a/)"
   ]
  },
  {
   "cell_type": "markdown",
   "id": "c2c462a0-cd8d-48b0-a114-fb4e061c8324",
   "metadata": {
    "papermill": {},
    "tags": []
   },
   "source": [
    "**Description:** This notebook will show how to return a dataframe from project view using BeautifulSoup. It is usefull for organizations to quickly get data from GitHub project view."
   ]
  },
  {
   "cell_type": "markdown",
   "id": "f619128e-0350-4110-bb6d-7681c2f477c0",
   "metadata": {
    "papermill": {},
    "tags": []
   },
   "source": [
    "**References:**\n",
    "- [BeautifulSoup Documentation](https://www.crummy.com/software/BeautifulSoup/bs4/doc/)\n",
    "- [GitHub Project View](https://help.github.com/en/github/managing-your-work-on-github/about-project-boards)"
   ]
  },
  {
   "cell_type": "markdown",
   "id": "c96862b4-a30a-4b61-a64f-2e0ce1f3a355",
   "metadata": {
    "papermill": {},
    "tags": []
   },
   "source": [
    "## Input"
   ]
  },
  {
   "cell_type": "markdown",
   "id": "67f41d1e-9a29-43a3-b17c-5987aa73535a",
   "metadata": {
    "papermill": {},
    "tags": []
   },
   "source": [
    "### Import libraries"
   ]
  },
  {
   "cell_type": "code",
   "execution_count": 1,
   "id": "8c5974e5-adfb-439f-84ed-ce26aac061c5",
   "metadata": {
    "execution": {
     "iopub.execute_input": "2023-07-13T13:21:46.442246Z",
     "iopub.status.busy": "2023-07-13T13:21:46.441908Z",
     "iopub.status.idle": "2023-07-13T13:21:47.147518Z",
     "shell.execute_reply": "2023-07-13T13:21:47.146712Z",
     "shell.execute_reply.started": "2023-07-13T13:21:46.442160Z"
    },
    "papermill": {},
    "tags": []
   },
   "outputs": [],
   "source": [
    "import requests\n",
    "from bs4 import BeautifulSoup\n",
    "import pandas as pd"
   ]
  },
  {
   "cell_type": "markdown",
   "id": "296bbef1-fd06-4044-84d4-bde345a070ab",
   "metadata": {
    "papermill": {},
    "tags": []
   },
   "source": [
    "### Setup Variables\n",
    "- `url`: URL of the project view page"
   ]
  },
  {
   "cell_type": "code",
   "execution_count": 2,
   "id": "5828a627-685c-4a53-84f7-2ab6bc58551d",
   "metadata": {
    "execution": {
     "iopub.execute_input": "2023-07-13T13:21:47.149483Z",
     "iopub.status.busy": "2023-07-13T13:21:47.149145Z",
     "iopub.status.idle": "2023-07-13T13:21:47.153619Z",
     "shell.execute_reply": "2023-07-13T13:21:47.152789Z",
     "shell.execute_reply.started": "2023-07-13T13:21:47.149446Z"
    },
    "papermill": {},
    "tags": []
   },
   "outputs": [],
   "source": [
    "url = \"https://github.com/orgs/jupyter-naas/projects/10/views/19\""
   ]
  },
  {
   "cell_type": "markdown",
   "id": "c3792947-66da-4514-845e-976c2a476ef8",
   "metadata": {
    "papermill": {},
    "tags": []
   },
   "source": [
    "## Model"
   ]
  },
  {
   "cell_type": "markdown",
   "id": "8f9ff22d-f923-47b8-92cf-6b7503576ee5",
   "metadata": {
    "papermill": {},
    "tags": []
   },
   "source": [
    "### Get DataFrame from project view"
   ]
  },
  {
   "cell_type": "markdown",
   "id": "036d4552-c7f8-4d8b-96e9-8fb9777d77ff",
   "metadata": {
    "papermill": {},
    "tags": []
   },
   "source": [
    "This function will return a dataframe from project view using BeautifulSoup."
   ]
  },
  {
   "cell_type": "code",
   "execution_count": 18,
   "id": "bacc8010-ce1e-4d07-88b7-10659519cf10",
   "metadata": {
    "execution": {
     "iopub.execute_input": "2023-07-13T13:34:27.840577Z",
     "iopub.status.busy": "2023-07-13T13:34:27.840317Z",
     "iopub.status.idle": "2023-07-13T13:34:28.656768Z",
     "shell.execute_reply": "2023-07-13T13:34:28.654653Z",
     "shell.execute_reply.started": "2023-07-13T13:34:27.840549Z"
    },
    "papermill": {},
    "tags": []
   },
   "outputs": [
    {
     "data": {
      "text/plain": [
       "['\"Title\",\"value\":{\"url\":\"https://github.com/71603764/299951448/issues/1217\",\"state\":\"closed\",\"title\":{\"raw\":\"Python - Create GitHub repository\",\"html\":\"Python - Create GitHub repository\"},\"number\":1217,\"issueId\":1395462430,\"stateReason\":null}},{',\n",
       " '\"Assignees\",\"value\":[{\"avatarUrl\":\"https://avatars.githubusercontent.com/u/72201663?s=40\\\\u0026u=58c93c3da53765967477e0c7a446ef5238e4a8f6\\\\u0026v=4\",\"id\":72201663,\"login\":\"knshkp\",\"url\":\"https://github.com/knshkp\"}]},{',\n",
       " '\"Status\",\"value\":{\"id\":\"7c2c8541\"}},{',\n",
       " '\"Linked pull requests\",\"value\":[{\"id\":1076376031,\"number\":1220,\"isDraft\":false,\"state\":\"merged\",\"url\":\"https://github.com/jupyter-naas/awesome-notebooks/pull/1220\"}]},{',\n",
       " '16173293,\"value\":{\"id\":\"7bb90100\"}},{',\n",
       " '16173294,\"value\":{\"value\":2.0}}],\"content\":{\"id\":1395462430,\"url\":\"https://github.com/jupyter-naas/awesome-notebooks/issues/1217\"}},']"
      ]
     },
     "execution_count": 18,
     "metadata": {},
     "output_type": "execute_result"
    }
   ],
   "source": [
    "# Init\n",
    "data = []\n",
    "\n",
    "# Get HTML from URL\n",
    "response = requests.get(url)\n",
    "html = response.text\n",
    "\n",
    "# Parse HTML\n",
    "soup = BeautifulSoup(html, \"html.parser\")\n",
    "\n",
    "# Get cards\n",
    "elements = soup.find_all(\"script\", {\"id\": \"memex-items-data\"})\n",
    "\n",
    "# Iterate over the elements and split their text\n",
    "for element in elements:\n",
    "    text = element.text\n",
    "#     print(text)\n",
    "    split_text = text.split('{\"contentId\":')[1:]  # Split the text as needed\n",
    "    # Process the split text or perform any desired operations\n",
    "#     print(split_text)\n",
    "    \n",
    "    for s in split_text:\n",
    "        s = s.split('\"memexProjectColumnId\":')[1:]\n",
    "        # Init\n",
    "        title = None\n",
    "        issue_number = None\n",
    "        tmp = {\n",
    "            \"title\": title,\n",
    "            \"issue_number\": issue_number,\n",
    "        }\n",
    "        data.append(tmp)\n",
    "        break\n",
    "        \n",
    "s"
   ]
  },
  {
   "cell_type": "code",
   "execution_count": 19,
   "id": "49b9a45a-c942-4e49-a9d4-2641b31e7fa3",
   "metadata": {
    "execution": {
     "iopub.execute_input": "2023-07-13T13:34:28.658848Z",
     "iopub.status.busy": "2023-07-13T13:34:28.658513Z",
     "iopub.status.idle": "2023-07-13T13:34:28.667057Z",
     "shell.execute_reply": "2023-07-13T13:34:28.666125Z",
     "shell.execute_reply.started": "2023-07-13T13:34:28.658812Z"
    },
    "tags": []
   },
   "outputs": [
    {
     "data": {
      "text/plain": [
       "'Python - Create GitHub repository'"
      ]
     },
     "execution_count": 19,
     "metadata": {},
     "output_type": "execute_result"
    }
   ],
   "source": [
    "title = s[0].split(\"raw\")[-1].replace('\":\"', \"\").split('\",\"')[0]\n",
    "title"
   ]
  },
  {
   "cell_type": "code",
   "execution_count": 26,
   "id": "aba26b06-a52c-4355-b584-0735f74617e7",
   "metadata": {
    "execution": {
     "iopub.execute_input": "2023-07-13T13:37:21.389012Z",
     "iopub.status.busy": "2023-07-13T13:37:21.388705Z",
     "iopub.status.idle": "2023-07-13T13:37:21.394291Z",
     "shell.execute_reply": "2023-07-13T13:37:21.393418Z",
     "shell.execute_reply.started": "2023-07-13T13:37:21.388978Z"
    },
    "tags": []
   },
   "outputs": [
    {
     "data": {
      "text/plain": [
       "'\"Title\",\"value\":{\"url\":\"https://github.com/71603764/299951448/issues/1217\",\"state\":\"closed\",\"title\":{\"raw\":\"Python - Create GitHub repository\",\"html\":\"Python - Create GitHub repository\"},\"number\":1217,\"issueId\":1395462430,\"stateReason\":null}},{'"
      ]
     },
     "execution_count": 26,
     "metadata": {},
     "output_type": "execute_result"
    }
   ],
   "source": [
    "s[0]\n",
    "# Number"
   ]
  },
  {
   "cell_type": "code",
   "execution_count": 20,
   "id": "76b8f60e-50ff-4a39-951c-0dc9fcc49849",
   "metadata": {
    "execution": {
     "iopub.execute_input": "2023-07-13T13:34:28.669163Z",
     "iopub.status.busy": "2023-07-13T13:34:28.668683Z",
     "iopub.status.idle": "2023-07-13T13:34:28.788954Z",
     "shell.execute_reply": "2023-07-13T13:34:28.788101Z",
     "shell.execute_reply.started": "2023-07-13T13:34:28.669123Z"
    },
    "tags": []
   },
   "outputs": [
    {
     "data": {
      "text/plain": [
       "'\"Assignees\",\"value\":[{\"avatarUrl\":\"https://avatars.githubusercontent.com/u/72201663?s=40\\\\u0026u=58c93c3da53765967477e0c7a446ef5238e4a8f6\\\\u0026v=4\",\"id\":72201663,\"login\":\"knshkp\",\"url\":\"https://github.com/knshkp\"}]},{'"
      ]
     },
     "execution_count": 20,
     "metadata": {},
     "output_type": "execute_result"
    }
   ],
   "source": [
    "s[1]\n",
    "# Login"
   ]
  },
  {
   "cell_type": "code",
   "execution_count": 21,
   "id": "c8c38108-3f23-4a52-bdec-90149bc8f1b7",
   "metadata": {
    "execution": {
     "iopub.execute_input": "2023-07-13T13:34:28.838132Z",
     "iopub.status.busy": "2023-07-13T13:34:28.837879Z",
     "iopub.status.idle": "2023-07-13T13:34:28.911967Z",
     "shell.execute_reply": "2023-07-13T13:34:28.911035Z",
     "shell.execute_reply.started": "2023-07-13T13:34:28.838107Z"
    },
    "tags": []
   },
   "outputs": [
    {
     "data": {
      "text/plain": [
       "'\"Status\",\"value\":{\"id\":\"7c2c8541\"}},{'"
      ]
     },
     "execution_count": 21,
     "metadata": {},
     "output_type": "execute_result"
    }
   ],
   "source": [
    "s[2]\n",
    "# ID status"
   ]
  },
  {
   "cell_type": "code",
   "execution_count": 25,
   "id": "049ece56-a50b-464b-ac6f-1922dfaafc72",
   "metadata": {
    "execution": {
     "iopub.execute_input": "2023-07-13T13:36:13.566129Z",
     "iopub.status.busy": "2023-07-13T13:36:13.565878Z",
     "iopub.status.idle": "2023-07-13T13:36:13.570904Z",
     "shell.execute_reply": "2023-07-13T13:36:13.570058Z",
     "shell.execute_reply.started": "2023-07-13T13:36:13.566104Z"
    },
    "tags": []
   },
   "outputs": [
    {
     "data": {
      "text/plain": [
       "'\"Linked pull requests\",\"value\":[{\"id\":1076376031,\"number\":1220,\"isDraft\":false,\"state\":\"merged\",\"url\":\"https://github.com/jupyter-naas/awesome-notebooks/pull/1220\"}]},{'"
      ]
     },
     "execution_count": 25,
     "metadata": {},
     "output_type": "execute_result"
    }
   ],
   "source": [
    "s[3]\n",
    "# linked PR number"
   ]
  },
  {
   "cell_type": "code",
   "execution_count": 22,
   "id": "d034ae27-374d-4e3b-9b78-b7ed40f10866",
   "metadata": {
    "execution": {
     "iopub.execute_input": "2023-07-13T13:35:30.623378Z",
     "iopub.status.busy": "2023-07-13T13:35:30.623063Z",
     "iopub.status.idle": "2023-07-13T13:35:30.628691Z",
     "shell.execute_reply": "2023-07-13T13:35:30.627946Z",
     "shell.execute_reply.started": "2023-07-13T13:35:30.623343Z"
    },
    "tags": []
   },
   "outputs": [
    {
     "data": {
      "text/plain": [
       "'16173293,\"value\":{\"id\":\"7bb90100\"}},{'"
      ]
     },
     "execution_count": 22,
     "metadata": {},
     "output_type": "execute_result"
    }
   ],
   "source": [
    "s[4]\n",
    "# ID iteration"
   ]
  },
  {
   "cell_type": "code",
   "execution_count": 23,
   "id": "90dbe031-3a72-49ff-aa51-461c1e883407",
   "metadata": {
    "execution": {
     "iopub.execute_input": "2023-07-13T13:35:41.677878Z",
     "iopub.status.busy": "2023-07-13T13:35:41.677614Z",
     "iopub.status.idle": "2023-07-13T13:35:41.683229Z",
     "shell.execute_reply": "2023-07-13T13:35:41.682298Z",
     "shell.execute_reply.started": "2023-07-13T13:35:41.677851Z"
    },
    "tags": []
   },
   "outputs": [
    {
     "data": {
      "text/plain": [
       "'16173294,\"value\":{\"value\":2.0}}],\"content\":{\"id\":1395462430,\"url\":\"https://github.com/jupyter-naas/awesome-notebooks/issues/1217\"}},'"
      ]
     },
     "execution_count": 23,
     "metadata": {},
     "output_type": "execute_result"
    }
   ],
   "source": [
    "s[5]\n",
    "# Value"
   ]
  },
  {
   "cell_type": "markdown",
   "id": "503c93d1-e7bc-475a-b544-78cd83fb4102",
   "metadata": {
    "papermill": {},
    "tags": []
   },
   "source": [
    "## Output"
   ]
  },
  {
   "cell_type": "markdown",
   "id": "5f1c1dbd-b96b-4923-a906-0c8c4814b4b7",
   "metadata": {
    "papermill": {},
    "tags": []
   },
   "source": [
    "### Display result"
   ]
  },
  {
   "cell_type": "code",
   "execution_count": 4,
   "id": "cdb87b91-d333-45c9-902e-6783da71f340",
   "metadata": {
    "execution": {
     "iopub.execute_input": "2023-07-13T13:21:48.171582Z",
     "iopub.status.busy": "2023-07-13T13:21:48.171257Z",
     "iopub.status.idle": "2023-07-13T13:21:48.184330Z",
     "shell.execute_reply": "2023-07-13T13:21:48.183181Z",
     "shell.execute_reply.started": "2023-07-13T13:21:48.171544Z"
    },
    "papermill": {},
    "tags": []
   },
   "outputs": [
    {
     "data": {
      "text/html": [
       "<div>\n",
       "<style scoped>\n",
       "    .dataframe tbody tr th:only-of-type {\n",
       "        vertical-align: middle;\n",
       "    }\n",
       "\n",
       "    .dataframe tbody tr th {\n",
       "        vertical-align: top;\n",
       "    }\n",
       "\n",
       "    .dataframe thead th {\n",
       "        text-align: right;\n",
       "    }\n",
       "</style>\n",
       "<table border=\"1\" class=\"dataframe\">\n",
       "  <thead>\n",
       "    <tr style=\"text-align: right;\">\n",
       "      <th></th>\n",
       "      <th>title</th>\n",
       "      <th>issue_number</th>\n",
       "    </tr>\n",
       "  </thead>\n",
       "  <tbody>\n",
       "    <tr>\n",
       "      <th>0</th>\n",
       "      <td>None</td>\n",
       "      <td>None</td>\n",
       "    </tr>\n",
       "  </tbody>\n",
       "</table>\n",
       "</div>"
      ],
      "text/plain": [
       "  title issue_number\n",
       "0  None         None"
      ]
     },
     "execution_count": 4,
     "metadata": {},
     "output_type": "execute_result"
    }
   ],
   "source": [
    "df = pd.DataFrame(data)\n",
    "df"
   ]
  },
  {
   "cell_type": "markdown",
   "id": "a9887dae-0cb4-4a10-bcf6-2c250b7cb12f",
   "metadata": {
    "papermill": {},
    "tags": []
   },
   "source": [
    " "
   ]
  }
 ],
 "metadata": {
  "kernelspec": {
   "display_name": "Python 3",
   "language": "python",
   "name": "python3"
  },
  "language_info": {
   "codemirror_mode": {
    "name": "ipython",
    "version": 3
   },
   "file_extension": ".py",
   "mimetype": "text/x-python",
   "name": "python",
   "nbconvert_exporter": "python",
   "pygments_lexer": "ipython3",
   "version": "3.9.6"
  },
  "widgets": {
   "application/vnd.jupyter.widget-state+json": {
    "state": {},
    "version_major": 2,
    "version_minor": 0
   }
  }
 },
 "nbformat": 4,
 "nbformat_minor": 5
}
