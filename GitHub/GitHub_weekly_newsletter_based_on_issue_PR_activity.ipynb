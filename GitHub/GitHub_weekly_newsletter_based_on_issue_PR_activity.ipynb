{
 "cells": [
  {
   "cell_type": "markdown",
   "id": "latin-packing",
   "metadata": {
    "execution": {
     "iopub.execute_input": "2021-02-23T14:22:16.610471Z",
     "iopub.status.busy": "2021-02-23T14:22:16.610129Z",
     "iopub.status.idle": "2021-02-23T14:22:16.627784Z",
     "shell.execute_reply": "2021-02-23T14:22:16.626866Z",
     "shell.execute_reply.started": "2021-02-23T14:22:16.610384Z"
    },
    "papermill": {},
    "tags": []
   },
   "source": [
    "<img width=\"10%\" alt=\"Naas\" src=\"https://landen.imgix.net/jtci2pxwjczr/assets/5ice39g4.png?w=160\"/>"
   ]
  },
  {
   "cell_type": "markdown",
   "id": "compressed-wilson",
   "metadata": {
    "papermill": {},
    "tags": []
   },
   "source": [
    "# GitHub - Weekly newsletter based on issue/PR activity\n",
    "<a href=\"https://app.naas.ai/user-redirect/naas/downloader?url=https://raw.githubusercontent.com/jupyter-naas/awesome-notebooks/master/GitHub/GitHub_weekly_newsletter_based_on_issue_PR_activity.ipynb.ipynb\" target=\"_parent\"><img src=\"https://naasai-public.s3.eu-west-3.amazonaws.com/open_in_naas.svg\"/></a>"
   ]
  },
  {
   "cell_type": "markdown",
   "id": "religious-programmer",
   "metadata": {},
   "source": [
    "**Tags:** #tool #naas_drivers #naas #scheduler #asset #snippet #automation #ai #newsletter"
   ]
  },
  {
   "cell_type": "markdown",
   "id": "1fe9f56e-561c-4f52-aef8-b861c9462107",
   "metadata": {},
   "source": [
    "**Author:** [Suhas B](https://www.linkedin.com/in/suhasbrao/)"
   ]
  },
  {
   "cell_type": "markdown",
   "id": "31ea7cdb-e10d-43fc-b026-f69249a59736",
   "metadata": {},
   "source": [
    "The notebook allows you to create a weekly newsletter based on issue/PR activity for a GitHub repository."
   ]
  },
  {
   "cell_type": "markdown",
   "id": "distinguished-truth",
   "metadata": {
    "papermill": {},
    "tags": []
   },
   "source": [
    "## Input"
   ]
  },
  {
   "cell_type": "markdown",
   "id": "numeric-mediterranean",
   "metadata": {},
   "source": [
    "### Import library"
   ]
  },
  {
   "cell_type": "code",
   "execution_count": null,
   "id": "potential-surfing",
   "metadata": {
    "tags": []
   },
   "outputs": [],
   "source": [
    "from naas_drivers import github\n",
    "import naas\n",
    "import getpass\n",
    "import markdown2\n",
    "from IPython.core.display import display, HTML"
   ]
  },
  {
   "cell_type": "markdown",
   "id": "aggressive-trustee",
   "metadata": {},
   "source": [
    "### Variables"
   ]
  },
  {
   "cell_type": "markdown",
   "id": "705cb016-0aa8-4dde-b063-d2ea2b3d3c96",
   "metadata": {},
   "source": [
    "Before running the below cell ensure you have added a GitHub access token for repository using naas \n",
    "by running **naas.secret.add(name=\"API_NAME\", secret=\"API_KEY\")** and delete that cell.\n",
    "\n",
    "You can find more info [here](https://docs.naas.ai/features/secret#add-or-edit-secret)"
   ]
  },
  {
   "cell_type": "code",
   "execution_count": null,
   "id": "018c579b-7ec6-444b-b4ff-518f759b2af3",
   "metadata": {
    "tags": []
   },
   "outputs": [],
   "source": [
    "# naas.secret.list()\n",
    "GITHUB_TOKEN = naas.secret.get(name=\"GITHUB_TOKEN\")\n",
    "repo_url = \"https://github.com/jupyter-naas/awesome-notebooks\"\n",
    "repo_name = \"awesome-notebooks\""
   ]
  },
  {
   "cell_type": "code",
   "execution_count": null,
   "id": "40e86056-7788-4650-9ec5-1bff32558b65",
   "metadata": {
    "tags": []
   },
   "outputs": [],
   "source": [
    "email_receivers = [\"raos04567@gmail.com\"] #list of email_receivers\n",
    "\n",
    "no_activities_to_show = 5\n",
    "\n",
    "# EMAIL_FROM = None\n",
    "EMAIL_SUBJECT = \"✉️ Weekly Repository activity \"\n",
    "\n",
    "content_image_src = \"https://landen.imgix.net/jtci2pxwjczr/assets/5ice39g4.png?w=160\"\n",
    "\n",
    "# Markdown template created on your local env\n",
    "EMAIL_CONTENT_MD = \"email_content.md\""
   ]
  },
  {
   "cell_type": "markdown",
   "id": "2a92be08-6fc6-4112-a53b-03f06a653b87",
   "metadata": {},
   "source": [
    "### Schedule your notebook"
   ]
  },
  {
   "cell_type": "markdown",
   "id": "d2035d36-7471-4cf2-8783-254177d85c2b",
   "metadata": {},
   "source": [
    "Scheduling notebook to run At 12:00 on Sunday. You can modify it if you want "
   ]
  },
  {
   "cell_type": "code",
   "execution_count": null,
   "id": "1383d1a5-9741-4376-abe9-ae608709b7da",
   "metadata": {
    "tags": []
   },
   "outputs": [],
   "source": [
    "# Schedule your notebook \n",
    "naas.scheduler.add(cron=\"0 12 * * 0\")\n",
    "\n",
    "#-> Uncomment the line below to remove your scheduler\n",
    "# naas.scheduler.delete()"
   ]
  },
  {
   "cell_type": "markdown",
   "id": "registered-showcase",
   "metadata": {},
   "source": [
    "## Model"
   ]
  },
  {
   "cell_type": "markdown",
   "id": "tested-astrology",
   "metadata": {},
   "source": [
    "### Get data from GitHub about issues and PR "
   ]
  },
  {
   "cell_type": "code",
   "execution_count": null,
   "id": "a9a1c9fe-d178-42b2-b7c4-38497cd694d5",
   "metadata": {
    "tags": []
   },
   "outputs": [],
   "source": [
    "df_issues = github.connect(GITHUB_TOKEN).repos.get_issues(repo_url)\n",
    "df_pulls = github.connect(GITHUB_TOKEN).repos.get_pulls(repo_url)\n"
   ]
  },
  {
   "cell_type": "markdown",
   "id": "f537deab-f740-485c-baa2-d7dc1f70a837",
   "metadata": {},
   "source": [
    "## Create a Content Markdown file\n",
    "This is later to converted to a HTML content for the mail. Modify these contents based on your needs."
   ]
  },
  {
   "cell_type": "code",
   "execution_count": null,
   "id": "c3f805da-eb9e-4e79-9022-6b570ede786c",
   "metadata": {
    "tags": []
   },
   "outputs": [],
   "source": [
    "%%writefile $EMAIL_CONTENT_MD\n",
    "\n",
    "<img width=\"10%\" alt=\"Naas\" src=img_src\n",
    "style=\"width:640px; height:360px;\"/>\n",
    "\n",
    "Hello there,\n",
    "\n",
    "We are back again with this weeks activity memo 📝 on GitHub repository **repo_name**\n",
    "\n",
    "### In this week's Issues 📰:\n",
    "\n",
    "- [#IssueNumber0-IssueName0](IssueURL0) last updated on **IssueUpdatedDate0** at **IssueUpdatedTime0**\n",
    "- [#IssueNumber1-IssueName1](IssueURL1) last updated on **IssueUpdatedDate1** at **IssueUpdatedTime1**\n",
    "- [#IssueNumber2-IssueName2](IssueURL2) last updated on **IssueUpdatedDate2** at **IssueUpdatedTime2**\n",
    "- [#IssueNumber3-IssueName3](IssueURL3) last updated on **IssueUpdatedDate3** at **IssueUpdatedTime3**\n",
    "- [#IssueNumber4-IssueName4](IssueURL4) last updated on **IssueUpdatedDate4** at **IssueUpdatedTime4**\n",
    "\n",
    "### Pull Requests ⭐ Highlights,\n",
    "    \n",
    "- [PRnumber0 - PRName0](PRURL0) with assignees **PRassignees0** and requested reviewers **PRreviewers0**\n",
    "- [PRnumber1 - PRName1](PRURL1) with assignees **PRassignees1** and requested reviewers **PRreviewers1**\n",
    "- [PRnumber2 - PRName2](PRURL2) with assignees **PRassignees2** and requested reviewers **PRreviewers2**\n",
    "- [PRnumber3 - PRName3](PRURL3) with assignees **PRassignees3** and requested reviewers **PRreviewers3**\n",
    "- [PRnumber4 - PRName4](PRURL4) with assignees **PRassignees4** and requested reviewers **PRreviewers4**\n",
    "\n",
    "Have a nice day 😆.\n",
    "<br>\n",
    "\n",
    "\n",
    "<div><strong>repo_name</strong></div>\n",
    "<div>Open source lover | <a href=\"http://www.naas.ai/\" target=\"_blank\">Naas</a></div>\n",
    "<div><small>This is an automated email from my Naas account</small></div>"
   ]
  },
  {
   "cell_type": "code",
   "execution_count": null,
   "id": "c71ed60a-ea82-4f34-b739-ffe7d868d7c2",
   "metadata": {
    "tags": []
   },
   "outputs": [],
   "source": [
    "def replace_values(md):\n",
    "    post = md.replace(\"repo_name\", str(repo_name))\n",
    "    \n",
    "    post = post.replace(\"img_src\", content_image_src)\n",
    "    \n",
    "    for index in range(no_activities_to_show):\n",
    "        str_index = str(index)\n",
    "        \n",
    "        issue_number = \"IssueNumber\" + str_index\n",
    "        issue_name = \"IssueName\" + str_index\n",
    "        issue_updated_date = \"IssueUpdatedDate\" + str_index\n",
    "        issue_updated_time = \"IssueUpdatedTime\" + str_index\n",
    "        issue_url = \"IssueURL\" + str_index\n",
    "        \n",
    "        pr_number = \"PRnumber\" + str_index\n",
    "        pr_name = \"PRName\" + str_index\n",
    "        pr_url = \"PRURL\" + str_index\n",
    "        pr_assignees = \"PRassignees\" + str_index\n",
    "        pr_reviewers = \"PRreviewers\" + str_index\n",
    "        \n",
    "        # Chaning the issues details\n",
    "        post = post.replace(issue_number, str(df_issues[\"issue_number\"][index]))\n",
    "        post = post.replace(issue_name, str(df_issues[\"issue_title\"][index]))\n",
    "        post = post.replace(issue_updated_date, str(df_issues[\"last_updated_date\"][index]))\n",
    "        post = post.replace(issue_updated_time, str(df_issues[\"last_updated_time\"][index]))\n",
    "        post = post.replace(issue_url, str(df_issues[\"link_to_the_issue\"][index]))\n",
    "        \n",
    "        #changing the PR details\n",
    "        post = post.replace(pr_number, str(df_pulls[\"PR_number\"][index]))\n",
    "        post = post.replace(pr_name, str(df_pulls[\"Title\"][index]))\n",
    "        post = post.replace(pr_url, str(df_pulls[\"issue_url\"][index]))\n",
    "        post = post.replace(pr_assignees, str(df_pulls[\"assignees\"][index]))\n",
    "        post = post.replace(pr_reviewers, str(df_pulls[\"requested_reviewers\"][index]))\n",
    "        \n",
    "\n",
    "    return post"
   ]
  },
  {
   "cell_type": "code",
   "execution_count": null,
   "id": "2776af80-cba0-4d17-9f29-fb7733aee853",
   "metadata": {
    "tags": []
   },
   "outputs": [],
   "source": [
    "content = open(EMAIL_CONTENT_MD, \"r\").read()\n",
    "md = markdown2.markdown(content)\n",
    "email_content = replace_values(md)\n",
    "display(HTML(email_content))"
   ]
  },
  {
   "cell_type": "markdown",
   "id": "lonely-pacific",
   "metadata": {
    "execution": {
     "iopub.execute_input": "2021-07-02T23:32:10.789097Z",
     "iopub.status.busy": "2021-07-02T23:32:10.788829Z",
     "iopub.status.idle": "2021-07-02T23:32:10.796900Z",
     "shell.execute_reply": "2021-07-02T23:32:10.796358Z",
     "shell.execute_reply.started": "2021-07-02T23:32:10.789033Z"
    }
   },
   "source": [
    "## Output"
   ]
  },
  {
   "cell_type": "code",
   "execution_count": null,
   "id": "9c4e3b7b-6440-4844-8054-265f1aec65eb",
   "metadata": {
    "tags": []
   },
   "outputs": [],
   "source": [
    "print(\"Nb issues:\", len(df_issues))\n",
    "df_issues.head(5)"
   ]
  },
  {
   "cell_type": "code",
   "execution_count": null,
   "id": "65b0eac7-6c80-4fc4-8f71-c60f2da96a3f",
   "metadata": {
    "tags": []
   },
   "outputs": [],
   "source": [
    "print(\"Nb PRs:\", len(df_pulls))\n",
    "df_pulls.head(5)\n",
    "# df_pulls[\"PR_activity\"][1]"
   ]
  },
  {
   "cell_type": "markdown",
   "id": "a28950bb-1d7d-4835-a83a-faac837ebc7c",
   "metadata": {},
   "source": [
    "### Send mail to receivers"
   ]
  },
  {
   "cell_type": "code",
   "execution_count": null,
   "id": "db205965-a2dc-4541-ba8e-db3250d1cff0",
   "metadata": {
    "tags": []
   },
   "outputs": [],
   "source": [
    "for receiver in email_receivers:\n",
    "    naas.notification.send(email_to=receiver,\n",
    "                           subject=EMAIL_SUBJECT,\n",
    "                           html=email_content)"
   ]
  }
 ],
 "metadata": {
  "kernelspec": {
   "display_name": "Python 3",
   "language": "python",
   "name": "python3"
  },
  "language_info": {
   "codemirror_mode": {
    "name": "ipython",
    "version": 3
   },
   "file_extension": ".py",
   "mimetype": "text/x-python",
   "name": "python",
   "nbconvert_exporter": "python",
   "pygments_lexer": "ipython3",
   "version": "3.9.6"
  },
  "papermill": {
   "default_parameters": {},
   "environment_variables": {},
   "parameters": {},
   "version": "2.3.3"
  },
  "widgets": {
   "application/vnd.jupyter.widget-state+json": {
    "state": {},
    "version_major": 2,
    "version_minor": 0
   }
  }
 },
 "nbformat": 4,
 "nbformat_minor": 5
}
