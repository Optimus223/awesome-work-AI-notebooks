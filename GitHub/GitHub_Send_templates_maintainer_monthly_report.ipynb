{
 "cells": [
  {
   "cell_type": "markdown",
   "id": "ada9f2a9-8daa-4b89-a03c-ffcdae2fd220",
   "metadata": {
    "papermill": {},
    "tags": []
   },
   "source": [
    "<img width=\"10%\" alt=\"Naas\" src=\"https://landen.imgix.net/jtci2pxwjczr/assets/5ice39g4.png?w=160\"/>"
   ]
  },
  {
   "cell_type": "markdown",
   "id": "373a7231-6f7d-47da-b3cd-6b8f5250223a",
   "metadata": {
    "papermill": {},
    "tags": []
   },
   "source": [
    "# GitHub - Send templates maintainer monthly report\n",
    "<a href=\"https://app.naas.ai/user-redirect/naas/downloader?url=https://raw.githubusercontent.com/jupyter-naas/awesome-notebooks/master/GitHub/GitHub_Send_templates_created_on_a_notebooks_to_Slack_channel.ipynb\" target=\"_parent\"><img src=\"https://naasai-public.s3.eu-west-3.amazonaws.com/Open_in_Naas_Lab.svg\"/></a><br><br><a href=\"https://bit.ly/3JyWIk6\">Give Feedbacks</a> | <a href=\"https://app.naas.ai/user-redirect/naas/downloader?url=https://raw.githubusercontent.com/jupyter-naas/awesome-notebooks/master/Naas/Naas_Start_data_product.ipynb\" target=\"_parent\">Generate Data Product</a>"
   ]
  },
  {
   "cell_type": "markdown",
   "id": "611b4f12-8112-4e0f-b6ac-5bb96855fa7f",
   "metadata": {
    "papermill": {},
    "tags": []
   },
   "source": [
    "**Tags:** #github #issues #merged #rest #api #snippet #operations #email"
   ]
  },
  {
   "cell_type": "markdown",
   "id": "7903a6e2-70c3-4149-8279-c603417a7836",
   "metadata": {
    "papermill": {},
    "tags": []
   },
   "source": [
    "**Author:** [Benjamin Filly](https://www.linkedin.com/in/benjamin-filly-05427727a/)"
   ]
  },
  {
   "cell_type": "markdown",
   "id": "1a7a6048-1548-4cbe-b908-0a5279535847",
   "metadata": {
    "papermill": {},
    "tags": []
   },
   "source": [
    "**Last update:** 2023-07-24 (Created: 2023-07-24)"
   ]
  },
  {
   "cell_type": "markdown",
   "id": "4e3aadfe-6d61-41b9-80f2-a790718018ee",
   "metadata": {
    "papermill": {},
    "tags": []
   },
   "source": [
    "**Description:** This notebook demonstrates how to send the issues merged on GitHub this month  to an e-mail. It includes the sections below:\n",
    "\n",
    "- 🔃 **Templates merged this month:** a table and the issues merged this month.\n",
    "- 📈 **The estimate of this month:** the number of estimate you got this month \n",
    "\n",
    "*NB: Execution time may takes between 1 to 3 min.*"
   ]
  },
  {
   "cell_type": "markdown",
   "id": "2b5dcc40-1fac-47c9-b577-26229548f2b1",
   "metadata": {
    "papermill": {},
    "tags": []
   },
   "source": [
    "**References:**\n",
    "- [GitHub REST API Documentation](https://docs.github.com/en/rest/issues/issues?apiVersion=2022-11-28#update-an-issue)\n",
    "- [os](https://docs.python.org/3/library/os.html)\n",
    "- [json](https://docs.python.org/3/library/json.html)\n",
    "- [datetime](https://docs.python.org/3/library/datetime.html)\n",
    "- [pandas](https://pandas.pydata.org/docs/)\n",
    "- [requests](https://docs.python-requests.org/en/latest/)\n",
    "- [slack (naas_drivers)](https://pypi.org/project/naas-drivers/)"
   ]
  },
  {
   "cell_type": "markdown",
   "id": "892d0dd8-86b4-4788-86ac-a8a34a29cb94",
   "metadata": {
    "papermill": {},
    "tags": []
   },
   "source": [
    "## Input"
   ]
  },
  {
   "cell_type": "markdown",
   "id": "727b3406-2d41-41ff-aad6-10007bda4a69",
   "metadata": {
    "papermill": {},
    "tags": []
   },
   "source": [
    "### Import libraries"
   ]
  },
  {
   "cell_type": "code",
   "execution_count": null,
   "id": "d897d321-fa8c-4012-a743-b8178d9d41c1",
   "metadata": {
    "tags": []
   },
   "outputs": [],
   "source": [
    "import pandas as pd\n",
    "from github import Github\n",
    "from datetime import datetime, timezone\n",
    "import requests\n",
    "from bs4 import BeautifulSoup\n",
    "from IPython.display import display, HTML\n",
    "import numpy as np\n",
    "from datetime import datetime\n",
    "import naas\n",
    "import naas_drivers\n",
    "import warnings\n",
    "warnings.filterwarnings(\"ignore\")"
   ]
  },
  {
   "cell_type": "markdown",
   "id": "18a7ce29-9182-4b79-8f5f-5032b8b8774f",
   "metadata": {
    "papermill": {},
    "tags": []
   },
   "source": [
    "### Setup Variables\n",
    "- `github_token`: [GitHub token](https://help.github.com/en/github/authenticating-to-github/creating-a-personal-access-token-for-the-command-line)\n",
    "- `repo_name`: name of the repository in two part: owner_name/repository_name\n",
    "- `contributor_profile`: GitHub username of the contributor\n",
    "- `url`:Url of the project where the estimated are located\n",
    "- `cron`: cron params for naas scheduler change it using [Crontab](https://crontab.guru/)\n",
    "- `email_to`: List to email addresses of the receiver(s)\n",
    "- `email_from`:  Email sender: Replace with your email account or notification@naas.ai\n",
    "- `subject`: Email subject\n"
   ]
  },
  {
   "cell_type": "code",
   "execution_count": null,
   "id": "ad68a533-dfdb-44ba-b1f8-860bbe5c8d08",
   "metadata": {
    "papermill": {},
    "tags": []
   },
   "outputs": [],
   "source": [
    "#Input\n",
    "github_token = naas.secret.get(\"GITHUB_TOKEN\") or \"YOUR_GITHUB_TOKEN\"\n",
    "repo_name = \"jupyter-naas/awesome-notebooks\" #Example: jupyter-naas/awesome-notebooks\n",
    "contributor_profile = \"USERNAME\" \n",
    "url = \"https://github.com/orgs/jupyter-naas/projects/10/views/20\" #example: https://github.com/orgs/jupyter-naas/projects/10/views/20\n",
    "cron = \"0 0 28-31 * *\" # At 00:00 on every day-of-month from 28 through 31\n",
    "\n",
    "#Output\n",
    "email_to = [\"example@example.com\"]\n",
    "email_from = \"notification@naas.ai\"\n",
    "subject = \"Templates Maintainer Monthly Report\""
   ]
  },
  {
   "cell_type": "markdown",
   "id": "ef6aae6b-fe4b-4bc9-955b-533690997ea9",
   "metadata": {
    "papermill": {},
    "tags": []
   },
   "source": [
    "## Model"
   ]
  },
  {
   "cell_type": "markdown",
   "id": "528c059d-c5dc-4379-b364-5d8ca8bf7af9",
   "metadata": {
    "papermill": {},
    "tags": []
   },
   "source": [
    "### Connect to GitHub repo"
   ]
  },
  {
   "cell_type": "code",
   "execution_count": null,
   "id": "97cb8cb4-24e5-411c-a27a-ff58a355d3d4",
   "metadata": {
    "papermill": {},
    "tags": []
   },
   "outputs": [],
   "source": [
    "# Connect to the GitHub API using pygithub library\n",
    "g = Github(github_token)\n",
    "\n",
    "# Get the repository\n",
    "repo = g.get_repo(repo_name)"
   ]
  },
  {
   "cell_type": "markdown",
   "id": "a804dbf8-edb6-4445-822f-908011f22b1b",
   "metadata": {
    "papermill": {},
    "tags": []
   },
   "source": [
    "### Get PRs merged\n",
    "So here we're filtering out all merged PRs on the `contributor_profile`"
   ]
  },
  {
   "cell_type": "code",
   "execution_count": null,
   "id": "0db97969-9d57-4e8e-b8bd-058541d36831",
   "metadata": {
    "papermill": {},
    "tags": []
   },
   "outputs": [],
   "source": [
    "# Function to check if a date is within the current month\n",
    "def is_date_in_current_month(date_obj):\n",
    "    current_date = datetime.now(timezone.utc)\n",
    "    return date_obj.year == current_date.year and date_obj.month == current_date.month\n",
    "\n",
    "# Get the merged PRs\n",
    "pull_requests = repo.get_pulls(state='closed', sort='updated', direction='desc')\n",
    "print(\"✅ Pull Requests fetched:\", pull_requests.totalCount)\n",
    "\n",
    "# Filter merged pull requests during this month and assigned to the specific contributor\n",
    "merged_assigned_pull_requests = [pr for pr in pull_requests if pr.assignee and pr.assignee.login == contributor_profile and pr.merged_at and is_date_in_current_month(pr.merged_at)]\n",
    "\n",
    "# Print the merged PR count for the specific contributor during this month\n",
    "print(f\"📌Number of assigned merged PRs in current month: {len(merged_assigned_pull_requests)}\")"
   ]
  },
  {
   "cell_type": "markdown",
   "id": "748b932f-68b3-4823-8ba3-8baef3ba98ad",
   "metadata": {
    "papermill": {},
    "tags": []
   },
   "source": [
    "### Get templates added by PRs closed"
   ]
  },
  {
   "cell_type": "code",
   "execution_count": null,
   "id": "dd9730f4-e5ea-4142-8a80-73a8a84724ae",
   "metadata": {
    "tags": []
   },
   "outputs": [],
   "source": [
    "# Store the relevant information in a DataFrame\n",
    "data = []\n",
    "for pr in merged_assigned_pull_requests:\n",
    "    tmp = {\n",
    "        \"title\": pr.title,\n",
    "        \"number\": pr.number,\n",
    "        \"url\": pr.html_url,\n",
    "        \"assignee\": pr.assignee.login,\n",
    "        \"created_at\": pr.created_at.isoformat(),\n",
    "        \"updated_at\": pr.updated_at.isoformat(),\n",
    "        \"merged_at\": pr.merged_at.isoformat(),\n",
    "    }\n",
    "    data.append(tmp)\n",
    "print(\"Number of merged PR:\", len(merged_assigned_pull_requests))\n",
    "df_pr = pd.DataFrame(data)\n",
    "df_pr.head(3)"
   ]
  },
  {
   "cell_type": "markdown",
   "id": "b97ec4af-a6b2-41e8-a29e-c65fffd9d037",
   "metadata": {},
   "source": [
    "### Get Data from project view\n",
    "This function returns organised data from the project view soup using BeautifulSoup."
   ]
  },
  {
   "cell_type": "code",
   "execution_count": null,
   "id": "59c0b2c9-9dc8-4071-bbca-d6fffed67a68",
   "metadata": {
    "tags": []
   },
   "outputs": [],
   "source": [
    "# Init\n",
    "data_bs4 = []\n",
    "\n",
    "# Get HTML from URL\n",
    "response = requests.get(url)\n",
    "html = response.text\n",
    "\n",
    "# Parse HTML\n",
    "soup = BeautifulSoup(html, \"html.parser\")\n",
    "\n",
    "# Get cards\n",
    "elements = soup.find_all(\"script\", {\"id\": \"memex-items-data\"})\n",
    "\n",
    "# Iterate over the elements and split their text\n",
    "for element in elements:\n",
    "    text = element.text\n",
    "    split_text = text.split('{\"contentId\":')[1:]  # Split the text as needed\n",
    "    \n",
    "    # Split the soup for each element\n",
    "    for s in split_text:\n",
    "        s = s.split('\"memexProjectColumnId\":')[1:]\n",
    "        # Get the values using splits\n",
    "        title = s[0].split('\"raw\":\"')[-1].split('\"')[0]\n",
    "        issue_number = s[0].split('\"number\":')[-1].split(',')[0]\n",
    "        assignees = s[1].split('\"login\":\"')[-1].split('\"')[0]\n",
    "        PR_url = s[2].split('\"url\":\"')[-1].split('\"')[0]\n",
    "        estimate = s[3].split('\"value\":')[-1].split('}')[0]\n",
    "        \n",
    "        # Handle possible error\n",
    "        if not str(issue_number).isdigit():\n",
    "            issue_number = \"❌ Error\"\n",
    "        \n",
    "        # Create a dictionary with the values\n",
    "        tmp_bs4 = {\n",
    "            \"Title\": title,\n",
    "            \"Issue Number\": issue_number,\n",
    "            \"Assignees\": assignees,\n",
    "            \"PR URL\": PR_url,\n",
    "            \"Estimate\": estimate,\n",
    "        }\n",
    "        # Append the dictionary to the data list\n",
    "        data_bs4.append(tmp_bs4)\n",
    "\n",
    "        \n",
    "print(\"Number of issues:\", len(split_text))\n",
    "# Create a DataFrame from the data list\n",
    "df_init = pd.DataFrame(data_bs4)\n",
    "df_init.head(3)"
   ]
  },
  {
   "cell_type": "markdown",
   "id": "f14411e4-400a-4eeb-974c-d209794b3b39",
   "metadata": {},
   "source": [
    "### Calculate estimates\n",
    "I've filtered the issues using the PR URLs"
   ]
  },
  {
   "cell_type": "code",
   "execution_count": null,
   "id": "6fb9b47e-b774-4955-8b5b-0a4ffff0b49d",
   "metadata": {
    "tags": []
   },
   "outputs": [],
   "source": [
    "# Filter df_init with the URLs from df_pr\n",
    "filtered_df_init = df_init[df_init[\"PR URL\"].isin(df_pr[\"url\"])]\n",
    "filtered_df_init['Estimate'] = filtered_df_init['Estimate'].str.replace(\"null\", \"0\")\n",
    "\n",
    "\n",
    "# Set the display option for max column width to ensure the link is fully displayed\n",
    "pd.set_option('display.max_colwidth', None)\n",
    "\n",
    "# Convert the \"PR URL\" column values into clickable links using HTML formatting\n",
    "filtered_df_init[\"PR URL\"] = filtered_df_init[\"PR URL\"].apply(lambda x: f'<a href=\"{x}\">{x}</a>')\n",
    "\n",
    "# Calculate the total of the \"Estimate\" column and convert it to an integer\n",
    "total_estimate = int(filtered_df_init[\"Estimate\"].astype(float).sum())\n",
    "\n",
    "# Display the DataFrame with clickable links and format the \"Estimate\" column as integers\n",
    "filtered_df_init[\"Estimate\"] = filtered_df_init[\"Estimate\"].astype(float).astype(int)\n",
    "display(HTML(filtered_df_init.to_html(escape=False, index=False)))\n",
    "\n",
    "# Separate sentence with emoji for the total estimate\n",
    "print(f\"\\n🚀 The total estimate is: {total_estimate}\")"
   ]
  },
  {
   "cell_type": "markdown",
   "id": "79755e02-a51e-4857-ab66-e1064bb9d9dd",
   "metadata": {
    "papermill": {},
    "tags": []
   },
   "source": [
    "### Creating the E-mail\n",
    "We used `Naas_emailbuilder_demo.ipynb` to create our email."
   ]
  },
  {
   "cell_type": "code",
   "execution_count": null,
   "id": "b9311339-e5f0-4ed2-a347-43aceec3382d",
   "metadata": {
    "tags": []
   },
   "outputs": [],
   "source": [
    "# Sample logo URL\n",
    "logo_img = \"https://landen.imgix.net/jtci2pxwjczr/assets/5ice39g4.png?w=186\"\n",
    "\n",
    "# Get the current date\n",
    "current_date = datetime.now().strftime(\"%B %Y\")\n",
    "\n",
    "# Center-align the content of the email\n",
    "center_style = 'style=\"text-align: center;\"'\n",
    "\n",
    "# Convert the \"Estimate\" column values to string\n",
    "filtered_df_init[\"Estimate\"] = filtered_df_init[\"Estimate\"].astype(str)\n",
    "\n",
    "# Define the content for the email using the email builder\n",
    "email_content = {\n",
    "    \"element\": naas_drivers.emailbuilder.title(f'<div {center_style}>📝 Report on templates created for {contributor_profile}</div>'),\n",
    "    \"heading\": naas_drivers.emailbuilder.heading(f'<div {center_style}>Monthly Report - {current_date}</div>'),\n",
    "    \"text\": naas_drivers.emailbuilder.text(f'<div {center_style}>Here is the summary of your contributions for this month</div>'),\n",
    "    \"table\": naas_drivers.emailbuilder.table(filtered_df_init, header=True, border=True),\n",
    "    \"total_estimate\": naas_drivers.emailbuilder.text(f'<div {center_style}><b>Total Estimate: {total_estimate}</b></div>'),\n",
    "    \"footer\": naas_drivers.emailbuilder.footer_company(\n",
    "        networks=[{\"img_src\": logo_img, \"href\": \"\"}],\n",
    "        company=[\"Company Informations\"],\n",
    "        legal=[\"Legal Informations\"],\n",
    "    ),\n",
    "}\n",
    "\n",
    "# Generate the email content as HTML\n",
    "content = naas_drivers.emailbuilder.generate(display=\"iframe\", **email_content)"
   ]
  },
  {
   "cell_type": "markdown",
   "id": "04c0ae0c-1d5b-49bf-beab-f3d7f57d13a4",
   "metadata": {
    "papermill": {},
    "tags": []
   },
   "source": [
    "## Output"
   ]
  },
  {
   "cell_type": "markdown",
   "id": "b840ab64-0a49-420e-aff7-e15d45c28636",
   "metadata": {
    "papermill": {},
    "tags": []
   },
   "source": [
    "### Send email"
   ]
  },
  {
   "cell_type": "code",
   "execution_count": null,
   "id": "216048d6-3c43-45ac-812a-081354e441b0",
   "metadata": {
    "papermill": {},
    "tags": []
   },
   "outputs": [],
   "source": [
    "# Send the email using naas.notification\n",
    "naas.notification.send(email_to=email_to, subject=subject, html=content, email_from=email_from)"
   ]
  },
  {
   "cell_type": "markdown",
   "id": "6588288f-c9e0-4950-a322-2a733b27ab06",
   "metadata": {
    "papermill": {},
    "tags": []
   },
   "source": [
    "### Add scheduler"
   ]
  },
  {
   "cell_type": "code",
   "execution_count": null,
   "id": "178b1e5a-a74b-408c-bf4b-fa5aaa03caad",
   "metadata": {
    "papermill": {},
    "tags": []
   },
   "outputs": [],
   "source": [
    "naas.scheduler.add(cron=cron)"
   ]
  },
  {
   "cell_type": "markdown",
   "id": "8626fe95-eb67-4da1-ba0a-a97042ad090e",
   "metadata": {
    "papermill": {},
    "tags": []
   },
   "source": [
    " "
   ]
  }
 ],
 "metadata": {
  "kernelspec": {
   "display_name": "Python 3",
   "language": "python",
   "name": "python3"
  },
  "language_info": {
   "codemirror_mode": {
    "name": "ipython",
    "version": 3
   },
   "file_extension": ".py",
   "mimetype": "text/x-python",
   "name": "python",
   "nbconvert_exporter": "python",
   "pygments_lexer": "ipython3",
   "version": "3.9.6"
  },
  "naas": {
   "notebook_id": "7b2207634faad3e18e2a4179115d4b835a53bed640a16cccc0c7e8d740a7970f",
   "notebook_path": "GitHub/GitHub_Send_templates_created_on_a_notebooks_to_Slack_channel.ipynb"
  },
  "papermill": {
   "default_parameters": {},
   "environment_variables": {},
   "parameters": {},
   "version": "2.4.0"
  },
  "widgets": {
   "application/vnd.jupyter.widget-state+json": {
    "state": {},
    "version_major": 2,
    "version_minor": 0
   }
  }
 },
 "nbformat": 4,
 "nbformat_minor": 5
}
