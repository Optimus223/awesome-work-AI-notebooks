{
 "cells": [
  {
   "cell_type": "markdown",
   "id": "84cadd0c",
   "metadata": {
    "papermill": {},
    "tags": []
   },
   "source": [
    "<img width=\"8%\" alt=\"GitHub.png\" src=\"https://raw.githubusercontent.com/jupyter-naas/awesome-notebooks/master/.github/assets/logos/GitHub.png\" style=\"border-radius: 15%\">"
   ]
  },
  {
   "cell_type": "markdown",
   "id": "0d43ed38",
   "metadata": {
    "papermill": {},
    "tags": []
   },
   "source": [
    "# GitHub - Get reactions from comment\n",
    "<a href=\"https://bit.ly/3JyWIk6\">Give Feedback</a> | <a href=\"https://github.com/jupyter-naas/awesome-notebooks/issues/new?assignees=&labels=bug&template=bug_report.md&title=GitHub+-+Add+new+issues+as+page+in+Notion+database:+Error+short+description\">Bug report</a>"
   ]
  },
  {
   "cell_type": "markdown",
   "id": "d9313642",
   "metadata": {
    "papermill": {},
    "tags": []
   },
   "source": [
    "**Tags:** #github #reactions #automation #snippet"
   ]
  },
  {
   "cell_type": "markdown",
   "id": "8faf487c",
   "metadata": {
    "papermill": {},
    "tags": []
   },
   "source": [
    "**Author:** [Varsha Kumar](https://www.linkedin.com/in/varsha-kumar-590466305/)"
   ]
  },
  {
   "cell_type": "markdown",
   "id": "3dba1c73-548d-4008-82ad-fdb2cb376771",
   "metadata": {
    "papermill": {},
    "tags": []
   },
   "source": [
    "**Last update:** 2024-06-05 (Created: 2024-06-04)"
   ]
  },
  {
   "cell_type": "markdown",
   "id": "naas-description",
   "metadata": {
    "papermill": {},
    "tags": [
     "description"
    ]
   },
   "source": [
    "**Description:** This notebook allows users to retrieve the reactions from a comment."
   ]
  },
  {
   "cell_type": "markdown",
   "id": "7412988b",
   "metadata": {
    "papermill": {},
    "tags": []
   },
   "source": [
    "## Input"
   ]
  },
  {
   "cell_type": "markdown",
   "id": "b483a140",
   "metadata": {
    "papermill": {},
    "tags": []
   },
   "source": [
    "### Import libraries"
   ]
  },
  {
   "cell_type": "code",
   "execution_count": 1,
   "id": "353ef79c",
   "metadata": {
    "execution": {
     "iopub.execute_input": "2024-06-06T12:38:24.837677Z",
     "iopub.status.busy": "2024-06-06T12:38:24.837416Z",
     "iopub.status.idle": "2024-06-06T12:38:25.527645Z",
     "shell.execute_reply": "2024-06-06T12:38:25.527048Z",
     "shell.execute_reply.started": "2024-06-06T12:38:24.837614Z"
    },
    "papermill": {},
    "tags": []
   },
   "outputs": [],
   "source": [
    "import requests\n",
    "import pandas as pd\n",
    "import naas_python as naas"
   ]
  },
  {
   "cell_type": "markdown",
   "id": "68b48858",
   "metadata": {
    "papermill": {},
    "tags": []
   },
   "source": [
    "### Setup variables\n",
    "- `github_token`: personal token creates\n",
    "- `reaction_url`: link to the comments reaction data"
   ]
  },
  {
   "cell_type": "code",
   "execution_count": 2,
   "id": "01647a55",
   "metadata": {
    "execution": {
     "iopub.execute_input": "2024-06-06T12:38:25.663519Z",
     "iopub.status.busy": "2024-06-06T12:38:25.663253Z",
     "iopub.status.idle": "2024-06-06T12:38:27.786503Z",
     "shell.execute_reply": "2024-06-06T12:38:27.785891Z",
     "shell.execute_reply.started": "2024-06-06T12:38:25.663489Z"
    },
    "papermill": {},
    "tags": []
   },
   "outputs": [],
   "source": [
    "github_token = naas.secret.get(\"GITHUB_TOKEN\").value\n",
    "reactions_url = \"https://api.github.com/repos/pola-rs/polars/issues/comments/2144455441/reactions\""
   ]
  },
  {
   "cell_type": "markdown",
   "id": "93347abb",
   "metadata": {
    "papermill": {},
    "tags": []
   },
   "source": [
    "## Model\n"
   ]
  },
  {
   "cell_type": "markdown",
   "id": "a3e91a67-b462-4dcc-a049-a8d68941f2df",
   "metadata": {},
   "source": [
    "### Get comment reactions"
   ]
  },
  {
   "cell_type": "code",
   "execution_count": 3,
   "id": "29e87112-879c-439c-87b3-3065f9a91085",
   "metadata": {
    "execution": {
     "iopub.execute_input": "2024-06-06T12:38:27.787815Z",
     "iopub.status.busy": "2024-06-06T12:38:27.787595Z",
     "iopub.status.idle": "2024-06-06T12:38:28.019522Z",
     "shell.execute_reply": "2024-06-06T12:38:28.018828Z",
     "shell.execute_reply.started": "2024-06-06T12:38:27.787785Z"
    },
    "tags": []
   },
   "outputs": [
    {
     "name": "stdout",
     "output_type": "stream",
     "text": [
      "Requesting: https://api.github.com/repos/pola-rs/polars/issues/comments/2144455441/reactions\n"
     ]
    }
   ],
   "source": [
    "def get_comment_reactions(reactions_url):\n",
    "    headers = {\n",
    "        'Authorization': f'token {github_token}',\n",
    "        'Accept': 'application/vnd.github.squirrel-girl-preview+json'  # Required for reactions API\n",
    "    }\n",
    "\n",
    "    response = requests.get(reactions_url, headers=headers)\n",
    "    print(f\"Requesting: {reactions_url}\")\n",
    "\n",
    "    if response.status_code == 200:\n",
    "        return response.json()\n",
    "    else:\n",
    "        print(f\"Failed to fetch reactions: {response.status_code} - {response.text}\")\n",
    "        return []\n",
    "    \n",
    "reactions = get_comment_reactions(reactions_url)"
   ]
  },
  {
   "cell_type": "markdown",
   "id": "b819d06a",
   "metadata": {
    "papermill": {},
    "tags": []
   },
   "source": [
    "## Output\n"
   ]
  },
  {
   "cell_type": "markdown",
   "id": "8b6ecf57-fec4-4e72-a7b8-4985bca76c05",
   "metadata": {},
   "source": [
    "### Display result"
   ]
  },
  {
   "cell_type": "code",
   "execution_count": 4,
   "id": "947ce69b-f636-4ac4-abd9-4254fca3f897",
   "metadata": {
    "execution": {
     "iopub.execute_input": "2024-06-06T12:38:30.189199Z",
     "iopub.status.busy": "2024-06-06T12:38:30.188660Z",
     "iopub.status.idle": "2024-06-06T12:38:30.205579Z",
     "shell.execute_reply": "2024-06-06T12:38:30.204858Z",
     "shell.execute_reply.started": "2024-06-06T12:38:30.189162Z"
    },
    "tags": []
   },
   "outputs": [
    {
     "name": "stdout",
     "output_type": "stream",
     "text": [
      "  Reaction Type  Count\n",
      "0            +1      1\n",
      "3        hooray      1\n"
     ]
    }
   ],
   "source": [
    "def print_reaction_types_table(reactions):\n",
    "    if reactions:\n",
    "        reaction_types = {\n",
    "            '+1': 0,\n",
    "            '-1': 0,\n",
    "            'laugh': 0,\n",
    "            'hooray': 0,\n",
    "            'confused': 0,\n",
    "            'heart': 0,\n",
    "            'rocket': 0,\n",
    "            'eyes': 0\n",
    "        }\n",
    "        \n",
    "        for reaction in reactions:\n",
    "            reaction_content = reaction['content']\n",
    "            if reaction_content in reaction_types:\n",
    "                reaction_types[reaction_content] += 1\n",
    "\n",
    "        # Convert the reaction types to a DataFrame\n",
    "        reaction_data = pd.DataFrame(list(reaction_types.items()), columns=['Reaction Type', 'Count'])\n",
    "        \n",
    "        # Filter out reactions with a count of 0\n",
    "        filtered_reaction_data = reaction_data[reaction_data['Count'] > 0]\n",
    "        \n",
    "        print(filtered_reaction_data)\n",
    "    else:\n",
    "        print(\"No reactions found or failed to fetch reactions.\")\n",
    "        \n",
    "print_reaction_types_table(reactions)"
   ]
  },
  {
   "cell_type": "code",
   "execution_count": null,
   "id": "5182d09a-e6d7-4d9d-9f38-eb3a9ce87cf1",
   "metadata": {},
   "outputs": [],
   "source": []
  }
 ],
 "metadata": {
  "kernelspec": {
   "display_name": "Python 3",
   "language": "python",
   "name": "python3"
  },
  "language_info": {
   "codemirror_mode": {
    "name": "ipython",
    "version": 3
   },
   "file_extension": ".py",
   "mimetype": "text/x-python",
   "name": "python",
   "nbconvert_exporter": "python",
   "pygments_lexer": "ipython3",
   "version": "3.9.6"
  },
  "naas": {
   "notebook_id": "b8a92a0e4b6e40db304564f999566443fb35e93df716ab4be5021aabba8230ee",
   "notebook_path": "GitHub/GitHub_Add_new_issues_as_page_in_Notion_database.ipynb"
  },
  "papermill": {
   "default_parameters": {},
   "environment_variables": {},
   "parameters": {},
   "version": "2.3.4"
  }
 },
 "nbformat": 4,
 "nbformat_minor": 5
}
