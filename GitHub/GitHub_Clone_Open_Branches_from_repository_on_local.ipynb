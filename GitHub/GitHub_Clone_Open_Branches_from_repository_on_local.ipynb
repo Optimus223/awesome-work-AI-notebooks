{
 "cells": [
  {
   "cell_type": "markdown",
   "id": "injured-evolution",
   "metadata": {
    "papermill": {},
    "tags": []
   },
   "source": [
    "<img width=\"10%\" alt=\"Naas\" src=\"https://landen.imgix.net/jtci2pxwjczr/assets/5ice39g4.png?w=160\"/>"
   ]
  },
  {
   "cell_type": "markdown",
   "id": "substantial-decline",
   "metadata": {
    "papermill": {},
    "tags": []
   },
   "source": [
    "# GitHub - Clone open branches from repository on local\n",
    "<a href=\"https://app.naas.ai/user-redirect/naas/downloader?url=https://raw.githubusercontent.com/jupyter-naas/awesome-notebooks/master/GitHub/GitHub_Clone_repository.ipynb\" target=\"_parent\"><img src=\"https://naasai-public.s3.eu-west-3.amazonaws.com/Open_in_Naas_Lab.svg\"/></a><br><br><a href=\"https://bit.ly/3JyWIk6\">Give Feedbacks</a> | <a href=\"https://app.naas.ai/user-redirect/naas/downloader?url=https://raw.githubusercontent.com/jupyter-naas/awesome-notebooks/master/Naas/Naas_Start_data_product.ipynb\" target=\"_parent\">Generate Data Product</a>"
   ]
  },
  {
   "cell_type": "markdown",
   "id": "00619b69-5ce8-417a-b8b1-c81af6342f9c",
   "metadata": {
    "papermill": {},
    "tags": []
   },
   "source": [
    "**Tags:** #github #snippet #operations #repository #efficiency"
   ]
  },
  {
   "cell_type": "markdown",
   "id": "1446840e-74d1-4c76-afb6-4752a6b4a0c4",
   "metadata": {
    "papermill": {},
    "tags": []
   },
   "source": [
    "**Author:** [Antonio Georgiev](www.linkedin.com/in/antonio-georgiev-b672a325b)"
   ]
  },
  {
   "cell_type": "markdown",
   "id": "54ad3d5e-10a0-4cff-bab7-e4f20cfaaeeb",
   "metadata": {},
   "source": [
    "**Description:** Automates cloning of open branches from a GitHub repository to a local machine and deletes the branches with PRs closed more than 2 weeks ago that are still saved on local machine."
   ]
  },
  {
   "cell_type": "markdown",
   "id": "2bf7fc9a-24f6-4a40-a85c-e564df9f915b",
   "metadata": {
    "papermill": {},
    "tags": []
   },
   "source": [
    "**References:**\n",
    "- [GitHub Documentation - Cloning a repository](https://docs.github.com/en/github/creating-cloning-and-archiving-repositories/cloning-a-repository)"
   ]
  },
  {
   "cell_type": "markdown",
   "id": "ba4e2faf-9cbd-4405-b3a5-09ff543951e8",
   "metadata": {
    "papermill": {},
    "tags": []
   },
   "source": [
    "## Input"
   ]
  },
  {
   "cell_type": "markdown",
   "id": "e1db5a47-1aef-4cb8-b939-4341cf6d7007",
   "metadata": {
    "papermill": {},
    "tags": []
   },
   "source": [
    "### Import libraries"
   ]
  },
  {
   "cell_type": "code",
   "execution_count": 5,
   "id": "89dfc24e-90e9-43b6-a5a9-329d404b58ba",
   "metadata": {
    "execution": {
     "iopub.execute_input": "2023-07-23T16:15:21.546171Z",
     "iopub.status.busy": "2023-07-23T16:15:21.545796Z",
     "iopub.status.idle": "2023-07-23T16:15:21.554308Z",
     "shell.execute_reply": "2023-07-23T16:15:21.551170Z",
     "shell.execute_reply.started": "2023-07-23T16:15:21.546144Z"
    },
    "papermill": {},
    "tags": []
   },
   "outputs": [],
   "source": [
    "import os\n",
    "from datetime import datetime, timedelta\n",
    "import naas\n",
    "import pandas as pd\n",
    "import requests\n",
    "from pprint import pprint\n",
    "import subprocess\n",
    "from github import Github\n",
    "import json"
   ]
  },
  {
   "cell_type": "markdown",
   "id": "e295de8b-d6b2-447d-aaca-11aa8adb0fe7",
   "metadata": {
    "papermill": {},
    "tags": []
   },
   "source": [
    "### Setup Variables\n",
    "- `repo_url`: URL of the repository to clone\n",
    "- `output_dir`: Output directory to clone repo. If None, we will create a folder with the name of the repo\n",
    "- `token`: [Generate a personal access token](https://docs.github.com/en/github/authenticating-to-github/creating-a-personal-access-token)\n",
    "- `owner`: owner of the repository\n",
    "- `repository`: name of the repository"
   ]
  },
  {
   "cell_type": "code",
   "execution_count": null,
   "id": "61e258bc-250b-4013-9bc3-f26a198ce405",
   "metadata": {
    "papermill": {},
    "tags": []
   },
   "outputs": [],
   "source": [
    "# Inputs\n",
    "repo_url = \"https://github.com/jupyter-naas/awesome-notebooks\"\n",
    "\n",
    "# Outputs\n",
    "output_dir = None\n",
    "\n",
    "# Setup variables for list branches with open PR\n",
    "token = naas.secret.get(name=\"GITHUB_TOKEN\") or \"YOUR_GITHUB_TOKEN\"\n",
    "owner = \"jupyter-naas\" #Example for naas\n",
    "repository = \"awesome-notebooks\" #Example for naas awesome-notebooks repository\n",
    "repo_name = \"jupyter-naas/awesome-notebooks\""
   ]
  },
  {
   "cell_type": "markdown",
   "id": "0002a818-8861-436c-a34d-5eaee3993d2f",
   "metadata": {
    "papermill": {},
    "tags": []
   },
   "source": [
    "## Model"
   ]
  },
  {
   "cell_type": "markdown",
   "id": "82edaad5-ec0a-4e73-aae0-25de4e6f75be",
   "metadata": {},
   "source": [
    "### Schedule the notebook"
   ]
  },
  {
   "cell_type": "code",
   "execution_count": null,
   "id": "eb3911c6-ac74-42e7-a222-1e90cc7fa13d",
   "metadata": {},
   "outputs": [],
   "source": [
    "naas.scheduler.add(cron=\"*/30 * * * *\")"
   ]
  },
  {
   "cell_type": "markdown",
   "id": "e4bcfce7-c1e9-4463-a8f5-0770fe5d141e",
   "metadata": {},
   "source": [
    "### Identify missing repositories on local"
   ]
  },
  {
   "cell_type": "code",
   "execution_count": 3,
   "id": "143bee7f-aae8-4a7d-80f8-fd0f60fc1089",
   "metadata": {
    "execution": {
     "iopub.execute_input": "2023-07-23T15:25:27.574235Z",
     "iopub.status.busy": "2023-07-23T15:25:27.574000Z",
     "iopub.status.idle": "2023-07-23T15:25:28.278807Z",
     "shell.execute_reply": "2023-07-23T15:25:28.278204Z",
     "shell.execute_reply.started": "2023-07-23T15:25:27.574209Z"
    },
    "tags": []
   },
   "outputs": [],
   "source": [
    "def get_branches_with_open_prs(\n",
    "    token,\n",
    "    owner,\n",
    "    repository\n",
    "):\n",
    "    url = f\"https://api.github.com/repos/{owner}/{repository}/pulls\"\n",
    "    headers = {\"Authorization\": f\"token {token}\"}\n",
    "    response = requests.get(url, headers=headers)\n",
    "    pulls = response.json()\n",
    "    \n",
    "    branches_data = []\n",
    "    \n",
    "    for pull in pulls:\n",
    "        branch = pull['head']['ref']\n",
    "        creator = pull['user']['login']\n",
    "        creation_date = pull['created_at']\n",
    "        \n",
    "        branches_data.append({\n",
    "            'branch': branch,\n",
    "            'creator': creator,\n",
    "            'creation_date': creation_date\n",
    "        })\n",
    "    \n",
    "    branches_df = pd.DataFrame(branches_data)\n",
    "    return branches_df\n",
    "\n",
    "branches_with_open_prs = get_branches_with_open_prs(token, owner, repository)"
   ]
  },
  {
   "cell_type": "markdown",
   "id": "8155b17a-3af5-4eb6-a0af-840f986123ee",
   "metadata": {
    "papermill": {},
    "tags": []
   },
   "source": [
    "### Clone repository\n",
    "Clone the repository from the given URL and create a local copy of it."
   ]
  },
  {
   "cell_type": "code",
   "execution_count": 4,
   "id": "84973cf4-bb97-4cdc-a3a7-7e333cc85ed5",
   "metadata": {
    "execution": {
     "iopub.execute_input": "2023-07-23T15:25:29.841206Z",
     "iopub.status.busy": "2023-07-23T15:25:29.840979Z",
     "iopub.status.idle": "2023-07-23T15:25:29.849792Z",
     "shell.execute_reply": "2023-07-23T15:25:29.849248Z",
     "shell.execute_reply.started": "2023-07-23T15:25:29.841182Z"
    },
    "papermill": {},
    "tags": []
   },
   "outputs": [],
   "source": [
    "def clone_branch(repo_url, output_dir):\n",
    "    # Get GitHub owner and repo name\n",
    "    owner = repo_url.split(\"https://github.com/\")[-1].split(\"/\")[0]\n",
    "    repo_name = repo_url.split(\"/\")[-1]\n",
    "    \n",
    "    # Add repo name with .git extension\n",
    "    if not repo_name.endswith(\".git\"):\n",
    "        repo_name = f\"{repo_name}.git\"\n",
    "    repo = f\"{owner}/{repo_name}\"\n",
    "        \n",
    "    # Init output dir\n",
    "    if not output_dir:\n",
    "        output_dir = repo_name[:-4]\n",
    "    \n",
    "    # Create output directoy\n",
    "    if not os.path.exists(output_dir):\n",
    "        os.makedirs(output_dir)\n",
    "        \n",
    "    # GitHub Action\n",
    "    !cd '{output_dir}'\n",
    "    !git clone git@github.com:'{repo}' '{output_dir}'\n",
    "    print(f\"✅ GitHub repo cloned: {output_dir}\")\n",
    "    return output_dir"
   ]
  },
  {
   "cell_type": "markdown",
   "id": "9cbfeee8-e6d4-49ce-9e7f-3ed5c9e7f7eb",
   "metadata": {},
   "source": [
    "### Clone the branches with open PRs that haven't been cloned yet"
   ]
  },
  {
   "cell_type": "code",
   "execution_count": null,
   "id": "260f2639-04a7-4aca-a53a-6796054eac76",
   "metadata": {},
   "outputs": [],
   "source": [
    "for index, row in branches_with_open_prs.iterrows():\n",
    "    branch_name = row['branch']\n",
    "    if not os.path.exists(branch_name):\n",
    "        output_dir = clone_branch(repo_url, None, branch_name)"
   ]
  },
  {
   "cell_type": "markdown",
   "id": "23c1e729-ab1a-4b34-aa5b-9db601b75f78",
   "metadata": {},
   "source": [
    "### Get folders stored on local machine (cloned branches)"
   ]
  },
  {
   "cell_type": "code",
   "execution_count": null,
   "id": "a1052f15-38d4-4ede-bc6e-476402458eca",
   "metadata": {},
   "outputs": [],
   "source": [
    "def get_all_folders(directory):\n",
    "    folders = []\n",
    "    for item in os.listdir(directory):\n",
    "        item_path = os.path.join(directory, item)\n",
    "        if os.path.isdir(item_path):\n",
    "            folders.append(item_path)\n",
    "    return folders\n",
    "\n",
    "# Example: Get all folders in the current working directory\n",
    "folders = get_all_folders(\".\")\n",
    "print(folders)"
   ]
  },
  {
   "cell_type": "markdown",
   "id": "fa547c4e-fe73-44ce-86ba-1025b140ca4b",
   "metadata": {},
   "source": [
    "### Find the branches with PRs closed more than 2 weeks ago"
   ]
  },
  {
   "cell_type": "code",
   "execution_count": null,
   "id": "16da3cbf-2e15-4219-8905-565de89788de",
   "metadata": {},
   "outputs": [],
   "source": [
    "def get_branches_with_closed_prs(\n",
    "    token,\n",
    "    owner,\n",
    "    repository\n",
    "):\n",
    "    url = f\"https://api.github.com/repos/{owner}/{repository}/pulls?state=closed\"\n",
    "    headers = {\"Authorization\": f\"token {token}\"}\n",
    "    response = requests.get(url, headers=headers)\n",
    "    pulls = response.json()\n",
    "    \n",
    "    branches_data = []\n",
    "    \n",
    "    two_weeks_ago = datetime.now() - timedelta(weeks=2)\n",
    "    \n",
    "    for pull in pulls:\n",
    "        closed_at = datetime.strptime(pull['closed_at'], \"%Y-%m-%dT%H:%M:%SZ\")\n",
    "        \n",
    "        if closed_at >= two_weeks_ago:\n",
    "            branch = pull['head']['ref'].replace(\"refs/heads/\", \"\")  # Remove the prefix\n",
    "            creator = pull['user']['login']\n",
    "            creation_date = pull['created_at']\n",
    "            \n",
    "            branches_data.append({\n",
    "                'branch': branch,\n",
    "                'creator': creator,\n",
    "                'creation_date': creation_date\n",
    "            })\n",
    "    \n",
    "    branches_df = pd.DataFrame(branches_data)\n",
    "    return branches_df\n",
    "\n",
    "\n",
    "branches_with_closed_prs = get_branches_with_closed_prs(token, owner, repository)"
   ]
  },
  {
   "cell_type": "markdown",
   "id": "4f49aa69-ae11-4b02-a8bd-c07eb8b50b70",
   "metadata": {},
   "source": [
    "### Identify the cloned branches on the local machine that have closed PRs"
   ]
  },
  {
   "cell_type": "code",
   "execution_count": null,
   "id": "9fe81198-0135-4b18-988c-29ac6988e1d2",
   "metadata": {},
   "outputs": [],
   "source": [
    "matches = [branch for branch in branches_with_closed_prs['branch'] if branch in folders]\n",
    "print(\"Branches with closed PRs that exist on the local machine:\")"
   ]
  },
  {
   "cell_type": "markdown",
   "id": "9d64d50b-3d28-41c5-bd71-92a1c6dbbb5c",
   "metadata": {},
   "source": [
    "### Delete the folders with closed PRs"
   ]
  },
  {
   "cell_type": "code",
   "execution_count": null,
   "id": "937f8984-97b8-424a-9b29-9208354bff00",
   "metadata": {},
   "outputs": [],
   "source": [
    "def delete_folders(matches):\n",
    "    for folder_name in matches:\n",
    "        try:\n",
    "            shutil.rmtree(folder_name)\n",
    "            print(f\"Deleted folder: {folder_name}\")\n",
    "        except Exception as e:\n",
    "            print(f\"Error deleting folder {folder_name}: {e}\")\n",
    "\n",
    "delete_folders(matches)"
   ]
  }
 ],
 "metadata": {
  "kernelspec": {
   "display_name": "Python 3",
   "language": "python",
   "name": "python3"
  },
  "language_info": {
   "codemirror_mode": {
    "name": "ipython",
    "version": 3
   },
   "file_extension": ".py",
   "mimetype": "text/x-python",
   "name": "python",
   "nbconvert_exporter": "python",
   "pygments_lexer": "ipython3",
   "version": "3.9.6"
  },
  "naas": {
   "notebook_id": "9a285091900a306e1d94106e8130989f033c65589f2bc28dc7515436d73a5af4",
   "notebook_path": "GitHub/GitHub_Clone_repository.ipynb"
  },
  "papermill": {
   "default_parameters": {},
   "environment_variables": {},
   "parameters": {},
   "version": "2.3.3"
  },
  "toc-autonumbering": false,
  "widgets": {
   "application/vnd.jupyter.widget-state+json": {
    "state": {},
    "version_major": 2,
    "version_minor": 0
   }
  }
 },
 "nbformat": 4,
 "nbformat_minor": 5
}
