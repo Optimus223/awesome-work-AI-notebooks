{
 "cells": [
  {
   "cell_type": "markdown",
   "id": "injured-evolution",
   "metadata": {
    "papermill": {},
    "tags": []
   },
   "source": [
    "<img width=\"10%\" alt=\"Naas\" src=\"https://landen.imgix.net/jtci2pxwjczr/assets/5ice39g4.png?w=160\"/>"
   ]
  },
  {
   "cell_type": "markdown",
   "id": "substantial-decline",
   "metadata": {
    "papermill": {},
    "tags": []
   },
   "source": [
    "# GitHub - Clone open branches from repository on local\n",
    "<a href=\"https://app.naas.ai/user-redirect/naas/downloader?url=https://raw.githubusercontent.com/jupyter-naas/awesome-notebooks/master/GitHub/GitHub_Clone_repository.ipynb\" target=\"_parent\"><img src=\"https://naasai-public.s3.eu-west-3.amazonaws.com/Open_in_Naas_Lab.svg\"/></a><br><br><a href=\"https://bit.ly/3JyWIk6\">Give Feedbacks</a> | <a href=\"https://app.naas.ai/user-redirect/naas/downloader?url=https://raw.githubusercontent.com/jupyter-naas/awesome-notebooks/master/Naas/Naas_Start_data_product.ipynb\" target=\"_parent\">Generate Data Product</a>"
   ]
  },
  {
   "cell_type": "markdown",
   "id": "00619b69-5ce8-417a-b8b1-c81af6342f9c",
   "metadata": {
    "papermill": {},
    "tags": []
   },
   "source": [
    "**Tags:** #github #snippet #operations #repository #efficiency"
   ]
  },
  {
   "cell_type": "markdown",
   "id": "1446840e-74d1-4c76-afb6-4752a6b4a0c4",
   "metadata": {
    "papermill": {},
    "tags": []
   },
   "source": [
    "**Author:** [Antonio Georgiev](www.linkedin.com/in/antonio-georgiev-b672a325b)"
   ]
  },
  {
   "cell_type": "markdown",
   "id": "54ad3d5e-10a0-4cff-bab7-e4f20cfaaeeb",
   "metadata": {},
   "source": [
    "**Description:** Automates cloning of open branches from a GitHub repository to a local machine. "
   ]
  },
  {
   "cell_type": "markdown",
   "id": "2bf7fc9a-24f6-4a40-a85c-e564df9f915b",
   "metadata": {
    "papermill": {},
    "tags": []
   },
   "source": [
    "**References:**\n",
    "- [GitHub Documentation - Cloning a repository](https://docs.github.com/en/github/creating-cloning-and-archiving-repositories/cloning-a-repository)"
   ]
  },
  {
   "cell_type": "markdown",
   "id": "ba4e2faf-9cbd-4405-b3a5-09ff543951e8",
   "metadata": {
    "papermill": {},
    "tags": []
   },
   "source": [
    "## Input"
   ]
  },
  {
   "cell_type": "markdown",
   "id": "e1db5a47-1aef-4cb8-b939-4341cf6d7007",
   "metadata": {
    "papermill": {},
    "tags": []
   },
   "source": [
    "### Import libraries"
   ]
  },
  {
   "cell_type": "code",
   "execution_count": 1,
   "id": "89dfc24e-90e9-43b6-a5a9-329d404b58ba",
   "metadata": {
    "execution": {
     "iopub.execute_input": "2023-07-23T15:25:20.342913Z",
     "iopub.status.busy": "2023-07-23T15:25:20.342604Z",
     "iopub.status.idle": "2023-07-23T15:25:22.274353Z",
     "shell.execute_reply": "2023-07-23T15:25:22.273730Z",
     "shell.execute_reply.started": "2023-07-23T15:25:20.342843Z"
    },
    "papermill": {},
    "tags": []
   },
   "outputs": [],
   "source": [
    "import os\n",
    "import naas\n",
    "import pandas as pd\n",
    "import requests\n",
    "from pprint import pprint\n",
    "import subprocess"
   ]
  },
  {
   "cell_type": "markdown",
   "id": "e295de8b-d6b2-447d-aaca-11aa8adb0fe7",
   "metadata": {
    "papermill": {},
    "tags": []
   },
   "source": [
    "### Setup Variables\n",
    "- `repo_url`: URL of the repository to clone\n",
    "- `output_dir`: Output directory to clone repo. If None, we will create a folder with the name of the repo\n",
    "- `token`: [Generate a personal access token](https://docs.github.com/en/github/authenticating-to-github/creating-a-personal-access-token)\n",
    "- `owner`: owner of the repository\n",
    "- `repository`: name of the repository"
   ]
  },
  {
   "cell_type": "code",
   "execution_count": 2,
   "id": "61e258bc-250b-4013-9bc3-f26a198ce405",
   "metadata": {
    "execution": {
     "iopub.execute_input": "2023-07-23T15:25:22.277490Z",
     "iopub.status.busy": "2023-07-23T15:25:22.277309Z",
     "iopub.status.idle": "2023-07-23T15:25:22.432351Z",
     "shell.execute_reply": "2023-07-23T15:25:22.431759Z",
     "shell.execute_reply.started": "2023-07-23T15:25:22.277468Z"
    },
    "papermill": {},
    "tags": []
   },
   "outputs": [],
   "source": [
    "# Inputs\n",
    "repo_url = \"https://github.com/jupyter-naas/awesome-notebooks\"\n",
    "\n",
    "# Outputs\n",
    "output_dir = None\n",
    "\n",
    "# Setup variables for list branches with open PR\n",
    "token = naas.secret.get(name=\"GITHUB_TOKEN\") or \"YOUR_GITHUB_TOKEN\"\n",
    "owner = \"jupyter-naas\" #Example for naas\n",
    "repository = \"awesome-notebooks\" #Example for naas awesome-notebooks repository"
   ]
  },
  {
   "cell_type": "markdown",
   "id": "0002a818-8861-436c-a34d-5eaee3993d2f",
   "metadata": {
    "papermill": {},
    "tags": []
   },
   "source": [
    "## Model"
   ]
  },
  {
   "cell_type": "markdown",
   "id": "e4bcfce7-c1e9-4463-a8f5-0770fe5d141e",
   "metadata": {},
   "source": [
    "### Identify missing repositories on local"
   ]
  },
  {
   "cell_type": "code",
   "execution_count": 3,
   "id": "143bee7f-aae8-4a7d-80f8-fd0f60fc1089",
   "metadata": {
    "execution": {
     "iopub.execute_input": "2023-07-23T15:25:27.574235Z",
     "iopub.status.busy": "2023-07-23T15:25:27.574000Z",
     "iopub.status.idle": "2023-07-23T15:25:28.278807Z",
     "shell.execute_reply": "2023-07-23T15:25:28.278204Z",
     "shell.execute_reply.started": "2023-07-23T15:25:27.574209Z"
    },
    "tags": []
   },
   "outputs": [],
   "source": [
    "def get_branches_with_open_prs(\n",
    "    token,\n",
    "    owner,\n",
    "    repository\n",
    "):\n",
    "    url = f\"https://api.github.com/repos/{owner}/{repository}/pulls\"\n",
    "    headers = {\"Authorization\": f\"token {token}\"}\n",
    "    response = requests.get(url, headers=headers)\n",
    "    pulls = response.json()\n",
    "    \n",
    "    branches_data = []\n",
    "    \n",
    "    for pull in pulls:\n",
    "        branch = pull['head']['ref']\n",
    "        creator = pull['user']['login']\n",
    "        creation_date = pull['created_at']\n",
    "        \n",
    "        branches_data.append({\n",
    "            'branch': branch,\n",
    "            'creator': creator,\n",
    "            'creation_date': creation_date\n",
    "        })\n",
    "    \n",
    "    branches_df = pd.DataFrame(branches_data)\n",
    "    return branches_df\n",
    "\n",
    "branches_with_open_prs = get_branches_with_open_prs(token, owner, repository)"
   ]
  },
  {
   "cell_type": "markdown",
   "id": "8155b17a-3af5-4eb6-a0af-840f986123ee",
   "metadata": {
    "papermill": {},
    "tags": []
   },
   "source": [
    "### Clone repository\n",
    "Clone the repository from the given URL and create a local copy of it."
   ]
  },
  {
   "cell_type": "code",
   "execution_count": 4,
   "id": "84973cf4-bb97-4cdc-a3a7-7e333cc85ed5",
   "metadata": {
    "execution": {
     "iopub.execute_input": "2023-07-23T15:25:29.841206Z",
     "iopub.status.busy": "2023-07-23T15:25:29.840979Z",
     "iopub.status.idle": "2023-07-23T15:25:29.849792Z",
     "shell.execute_reply": "2023-07-23T15:25:29.849248Z",
     "shell.execute_reply.started": "2023-07-23T15:25:29.841182Z"
    },
    "papermill": {},
    "tags": []
   },
   "outputs": [],
   "source": [
    "def clone_branch(repo_url, output_dir, branch_name):\n",
    "    # Get GitHub owner and repo name\n",
    "    owner = repo_url.split(\"https://github.com/\")[-1].split(\"/\")[0]\n",
    "    repo_name = repo_url.split(\"/\")[-1]\n",
    "    \n",
    "    # Add repo name with .git extension\n",
    "    if not repo_name.endswith(\".git\"):\n",
    "        repo_name = f\"{repo_name}.git\"\n",
    "    repo = f\"{owner}/{repo_name}\"\n",
    "        \n",
    "    # Init output dir\n",
    "    if not output_dir:\n",
    "        output_dir = branch_name\n",
    "    \n",
    "    # Create output directoy\n",
    "    if not os.path.exists(output_dir):\n",
    "        os.makedirs(output_dir)\n",
    "        \n",
    "    # GitHub Action\n",
    "    !cd '{output_dir}'\n",
    "    !git clone git@github.com:'{repo}' '{output_dir}'\n",
    "    print(f\"✅ GitHub repo cloned: {output_dir}\")\n",
    "    return output_dir"
   ]
  },
  {
   "cell_type": "markdown",
   "id": "9cbfeee8-e6d4-49ce-9e7f-3ed5c9e7f7eb",
   "metadata": {},
   "source": [
    "### Clone the branches with open PRs that haven't been clones yet"
   ]
  },
  {
   "cell_type": "code",
   "execution_count": null,
   "id": "c368683f-09c6-4deb-a5ef-23fa79f576bb",
   "metadata": {
    "execution": {
     "iopub.execute_input": "2023-07-23T15:25:35.075161Z",
     "iopub.status.busy": "2023-07-23T15:25:35.074929Z"
    },
    "tags": []
   },
   "outputs": [
    {
     "name": "stdout",
     "output_type": "stream",
     "text": [
      "Cloning into '2023-matplotlib-stacked-bar-chart-creation'...\n",
      "remote: Enumerating objects: 29892, done.\u001b[K\n",
      "remote: Counting objects: 100% (7553/7553), done.\u001b[K\n",
      "remote: Compressing objects: 100% (1629/1629), done.\u001b[K\n",
      "remote: Total 29892 (delta 6389), reused 6968 (delta 5917), pack-reused 22339\u001b[K\n",
      "Receiving objects: 100% (29892/29892), 83.71 MiB | 17.94 MiB/s, done.\n",
      "Resolving deltas: 100% (22792/22792), done.\n",
      "Updating files: 100% (903/903), done.\n",
      "✅ GitHub repo cloned: 2023-matplotlib-stacked-bar-chart-creation\n",
      "Cloning into '2029-hubspot-list-communications-from-contact'...\n",
      "remote: Enumerating objects: 29892, done.\u001b[K\n",
      "remote: Counting objects: 100% (7565/7565), done.\u001b[K\n",
      "remote: Compressing objects: 100% (1631/1631), done.\u001b[K\n",
      "remote: Total 29892 (delta 6401), reused 6979 (delta 5927), pack-reused 22327\u001b[K\n",
      "Receiving objects: 100% (29892/29892), 84.18 MiB | 7.29 MiB/s, done.\n",
      "Resolving deltas: 100% (22769/22769), done.\n",
      "Updating files: 100% (903/903), done.\n",
      "✅ GitHub repo cloned: 2029-hubspot-list-communications-from-contact\n",
      "Cloning into '2025-google-sheet-calculate-distance-and-price'...\n",
      "remote: Enumerating objects: 29892, done.\u001b[K\n",
      "remote: Counting objects: 100% (7469/7469), done.\u001b[K\n",
      "remote: Compressing objects: 100% (1619/1619), done.\u001b[K\n",
      "remote: Total 29892 (delta 6307), reused 6894 (delta 5843), pack-reused 22423\u001b[K\n",
      "Receiving objects: 100% (29892/29892), 83.72 MiB | 15.51 MiB/s, done.\n",
      "Resolving deltas: 100% (22771/22771), done.\n",
      "Updating files: 100% (903/903), done.\n",
      "✅ GitHub repo cloned: 2025-google-sheet-calculate-distance-and-price\n",
      "Cloning into 'owid-gdp'...\n",
      "remote: Enumerating objects: 29892, done.\u001b[K\n",
      "remote: Counting objects: 100% (7565/7565), done.\u001b[K\n",
      "remote: Compressing objects: 100% (1631/1631), done.\u001b[K\n",
      "remote: Total 29892 (delta 6401), reused 6979 (delta 5927), pack-reused 22327\u001b[K\n",
      "Receiving objects: 100% (29892/29892), 84.18 MiB | 15.63 MiB/s, done.\n",
      "Resolving deltas: 100% (22769/22769), done.\n",
      "Updating files: 100% (903/903), done.\n",
      "✅ GitHub repo cloned: owid-gdp\n",
      "Cloning into '1893-langchain-vector-search-on-the-pdf-using-langchain-abstraction'...\n",
      "remote: Enumerating objects: 29892, done.\u001b[K\n",
      "remote: Counting objects: 100% (7469/7469), done.\u001b[K\n",
      "remote: Compressing objects: 100% (1619/1619), done.\u001b[K\n",
      "remote: Total 29892 (delta 6307), reused 6894 (delta 5843), pack-reused 22423\u001b[K\n",
      "Receiving objects: 100% (29892/29892), 83.72 MiB | 16.28 MiB/s, done.\n",
      "Resolving deltas: 100% (22771/22771), done.\n",
      "Updating files: 100% (903/903), done.\n",
      "✅ GitHub repo cloned: 1893-langchain-vector-search-on-the-pdf-using-langchain-abstraction\n",
      "Cloning into '2008-google-maps-routes-api-calculate-the-toll-costs-for-a-given-route'...\n",
      "remote: Enumerating objects: 29892, done.\u001b[K\n",
      "remote: Counting objects: 100% (7469/7469), done.\u001b[K\n",
      "remote: Compressing objects: 100% (1619/1619), done.\u001b[K\n",
      "remote: Total 29892 (delta 6307), reused 6894 (delta 5843), pack-reused 22423\u001b[K\n",
      "Receiving objects: 100% (29892/29892), 83.72 MiB | 11.13 MiB/s, done.\n",
      "Resolving deltas: 100% (22771/22771), done.\n"
     ]
    }
   ],
   "source": [
    "for index, row in branches_with_open_prs.iterrows():\n",
    "    branch_name = row['branch']\n",
    "    if not os.path.exists(branch_name):\n",
    "        output_dir = clone_branch(repo_url, None, branch_name)\n"
   ]
  }
 ],
 "metadata": {
  "kernelspec": {
   "display_name": "Python 3",
   "language": "python",
   "name": "python3"
  },
  "language_info": {
   "codemirror_mode": {
    "name": "ipython",
    "version": 3
   },
   "file_extension": ".py",
   "mimetype": "text/x-python",
   "name": "python",
   "nbconvert_exporter": "python",
   "pygments_lexer": "ipython3",
   "version": "3.9.6"
  },
  "naas": {
   "notebook_id": "9a285091900a306e1d94106e8130989f033c65589f2bc28dc7515436d73a5af4",
   "notebook_path": "GitHub/GitHub_Clone_repository.ipynb"
  },
  "papermill": {
   "default_parameters": {},
   "environment_variables": {},
   "parameters": {},
   "version": "2.3.3"
  },
  "toc-autonumbering": false,
  "widgets": {
   "application/vnd.jupyter.widget-state+json": {
    "state": {},
    "version_major": 2,
    "version_minor": 0
   }
  }
 },
 "nbformat": 4,
 "nbformat_minor": 5
}
