{
 "cells": [
  {
   "cell_type": "markdown",
   "id": "a92ad770-55bd-450c-8e6e-de64c0347cdd",
   "metadata": {
    "papermill": {},
    "tags": []
   },
   "source": [
    "<img width=\"10%\" alt=\"Naas\" src=\"https://landen.imgix.net/jtci2pxwjczr/assets/5ice39g4.png?w=160\"/>"
   ]
  },
  {
   "cell_type": "markdown",
   "id": "a5b2c509-2c29-49e8-af91-4f3f1e386da3",
   "metadata": {
    "papermill": {},
    "tags": []
   },
   "source": [
    "# GitHub - Connect from Naas Chat\n",
    "<a href=\"https://app.naas.ai/user-redirect/naas/downloader?url=https://raw.githubusercontent.com/jupyter-naas/awesome-notebooks/master/Naas%20Chat%20Plugin/Naas_Chat_Plugin_Create_prompt_plugin_with_command.ipynb\" target=\"_parent\"><img src=\"https://naasai-public.s3.eu-west-3.amazonaws.com/Open_in_Naas_Lab.svg\"/></a><br><br><a href=\"https://bit.ly/3JyWIk6\">Give Feedback</a> | <a href=\"https://github.com/jupyter-naas/awesome-notebooks/issues/new?assignees=&labels=bug&template=bug_report.md&title=Naas+Chat+Plugin+-+Create+prompt+plugin+with+command:+Error+short+description\">Bug report</a>"
   ]
  },
  {
   "cell_type": "markdown",
   "id": "d77fe283-4edd-42d3-a909-8e207d4b842f",
   "metadata": {
    "papermill": {},
    "tags": []
   },
   "source": [
    "**Tags:** #github #connect #naas #secret #command #chat"
   ]
  },
  {
   "cell_type": "markdown",
   "id": "b90f2d91-c886-4e36-8265-b09d06bb1c7f",
   "metadata": {
    "papermill": {},
    "tags": []
   },
   "source": [
    "**Author:** [Florent Ravenel](https://www.linkedin.com/in/florent-ravenel)"
   ]
  },
  {
   "cell_type": "markdown",
   "id": "6bbf7807-dda4-4b8a-b016-fe258a0fa33f",
   "metadata": {
    "papermill": {},
    "tags": []
   },
   "source": [
    "**Last update:** 2023-09-29 (Created: 2023-09-29)"
   ]
  },
  {
   "cell_type": "markdown",
   "id": "214749fe-7f0b-4755-b7ea-1d200c234cc6",
   "metadata": {
    "papermill": {},
    "tags": []
   },
   "source": [
    "**Description:** This notebook integrates your GitHub token into the Naas secret manager under the variable 'GITHUB_TOKEN' from Naas Chat. By doing so, you can conveniently utilize this secret across all templates within the Awesome Notebooks catalog."
   ]
  },
  {
   "cell_type": "markdown",
   "id": "a1329bea-ad80-4981-874c-8776b11f89a8",
   "metadata": {
    "papermill": {},
    "tags": []
   },
   "source": [
    "**References:**\n",
    "- [Naas Secret Documentation](https://site.naas.ai/docs/developers/jobs/secret)\n",
    "- [Generate a personal access token](https://docs.github.com/en/github/authenticating-to-github/creating-a-personal-access-token)\n",
    "- [Go to personal access token](https://github.com/settings/tokens)"
   ]
  },
  {
   "cell_type": "markdown",
   "id": "cff349c8-2816-4ae4-9229-027c068eeb51",
   "metadata": {
    "papermill": {},
    "tags": []
   },
   "source": [
    "## Input"
   ]
  },
  {
   "cell_type": "markdown",
   "id": "80266a9e-fe54-4f3e-aeb2-01483bbc53f9",
   "metadata": {
    "papermill": {},
    "tags": []
   },
   "source": [
    "### Import libraries"
   ]
  },
  {
   "cell_type": "code",
   "execution_count": 6,
   "id": "cc038b10-2679-42bc-909e-09a298339df4",
   "metadata": {
    "execution": {
     "iopub.execute_input": "2023-09-29T15:25:31.216782Z",
     "iopub.status.busy": "2023-09-29T15:25:31.216547Z",
     "iopub.status.idle": "2023-09-29T15:25:31.221856Z",
     "shell.execute_reply": "2023-09-29T15:25:31.221306Z",
     "shell.execute_reply.started": "2023-09-29T15:25:31.216756Z"
    },
    "papermill": {},
    "tags": []
   },
   "outputs": [],
   "source": [
    "import naas"
   ]
  },
  {
   "cell_type": "markdown",
   "id": "30127040-e487-4115-8317-5084823b3a6f",
   "metadata": {
    "papermill": {},
    "tags": []
   },
   "source": [
    "### Setup variables\n",
    "- `github_token`: GitHub token to be add as secret.\n",
    "- `body`: This variable stores the body to be send by the webhook."
   ]
  },
  {
   "cell_type": "code",
   "execution_count": 7,
   "id": "8d86b8fb-2576-426d-a305-50043c24c23e",
   "metadata": {
    "execution": {
     "iopub.execute_input": "2023-09-29T15:25:31.723052Z",
     "iopub.status.busy": "2023-09-29T15:25:31.722817Z",
     "iopub.status.idle": "2023-09-29T15:25:31.725963Z",
     "shell.execute_reply": "2023-09-29T15:25:31.725319Z",
     "shell.execute_reply.started": "2023-09-29T15:25:31.723028Z"
    },
    "papermill": {},
    "tags": [
     "parameters"
    ]
   },
   "outputs": [],
   "source": [
    "github_token = None\n",
    "body = {}"
   ]
  },
  {
   "cell_type": "markdown",
   "id": "21f1092d-03d1-4105-ae49-5b5e398d730f",
   "metadata": {
    "execution": {
     "iopub.execute_input": "2023-09-26T17:20:36.759189Z",
     "iopub.status.busy": "2023-09-26T17:20:36.758881Z",
     "iopub.status.idle": "2023-09-26T17:20:36.765546Z",
     "shell.execute_reply": "2023-09-26T17:20:36.764836Z",
     "shell.execute_reply.started": "2023-09-26T17:20:36.759155Z"
    },
    "papermill": {},
    "tags": [
     "parameters"
    ]
   },
   "source": [
    "### Setup parameters\n",
    "The webhook body will be injected below this cell when the webhook is triggered. \n",
    "Therefore, it is important to set up how you will handle the injected variable from the body in order to make your script work.\n",
    "To receive the body from the webhook, please ensure that this cell is tagged as \"parameters\"."
   ]
  },
  {
   "cell_type": "code",
   "execution_count": 8,
   "id": "42d27d66-3076-4fc6-a5dc-c1533bd47bd0",
   "metadata": {
    "execution": {
     "iopub.execute_input": "2023-09-29T15:25:32.450489Z",
     "iopub.status.busy": "2023-09-29T15:25:32.450181Z",
     "iopub.status.idle": "2023-09-29T15:25:32.453929Z",
     "shell.execute_reply": "2023-09-29T15:25:32.453319Z",
     "shell.execute_reply.started": "2023-09-29T15:25:32.450455Z"
    },
    "papermill": {},
    "tags": [
     "parameters"
    ]
   },
   "outputs": [],
   "source": [
    "# Parameters\n",
    "if len(body) > 0:\n",
    "    github_token = body.get(\"github_token\") "
   ]
  },
  {
   "cell_type": "markdown",
   "id": "1b0ae044-cac2-479f-b1fc-a3318696adf5",
   "metadata": {
    "papermill": {},
    "tags": []
   },
   "source": [
    "## Model"
   ]
  },
  {
   "cell_type": "markdown",
   "id": "3aadae7f-fbe5-4f97-a6a9-6efe9dd1a42f",
   "metadata": {
    "papermill": {},
    "tags": []
   },
   "source": [
    "### Add or Update Secret"
   ]
  },
  {
   "cell_type": "code",
   "execution_count": 4,
   "id": "fc6771cb-a9d8-431e-acd9-ebf19f26f362",
   "metadata": {
    "execution": {
     "iopub.execute_input": "2023-09-29T15:24:34.112656Z",
     "iopub.status.busy": "2023-09-29T15:24:34.112403Z",
     "iopub.status.idle": "2023-09-29T15:24:34.206188Z",
     "shell.execute_reply": "2023-09-29T15:24:34.205346Z",
     "shell.execute_reply.started": "2023-09-29T15:24:34.112624Z"
    },
    "papermill": {},
    "tags": []
   },
   "outputs": [],
   "source": [
    "def add_or_update_secret(\n",
    "    secret_name,\n",
    "    secret_value\n",
    "):\n",
    "    status = \"ok\"\n",
    "    try:\n",
    "        if not secret_value:\n",
    "            message = f\"🔐❌ No secret added.\"\n",
    "        elif naas.secret.get(secret_name) != secret_value:\n",
    "            naas.secret.add(secret_name, secret_value)\n",
    "            message = f\"🔐✅ Secret '{secret_name}' added.\"\n",
    "        else:\n",
    "            message = f\"🔐 Secret '{secret_name}' already exists.\"\n",
    "    except Exception as e:\n",
    "            status = \"ko\"\n",
    "            message = e\n",
    "    return status, message\n",
    "    \n",
    "status, message = add_or_update_secret(\"GITHUB_TOKEN\", github_token)"
   ]
  },
  {
   "cell_type": "markdown",
   "id": "7c97931b-4ce8-46f9-a70c-45393c5669ee",
   "metadata": {
    "papermill": {},
    "tags": []
   },
   "source": [
    "## Output"
   ]
  },
  {
   "cell_type": "markdown",
   "id": "3d625b91-8323-4250-ab75-598580c5a954",
   "metadata": {
    "execution": {
     "iopub.execute_input": "2023-09-26T15:15:09.022426Z",
     "iopub.status.busy": "2023-09-26T15:15:09.022118Z",
     "iopub.status.idle": "2023-09-26T15:15:09.025782Z",
     "shell.execute_reply": "2023-09-26T15:15:09.025087Z",
     "shell.execute_reply.started": "2023-09-26T15:15:09.022389Z"
    },
    "papermill": {},
    "tags": []
   },
   "source": [
    "### Return JSON response\n",
    "Response sent to the browser before displayed in Chat UI."
   ]
  },
  {
   "cell_type": "code",
   "execution_count": 5,
   "id": "7432dbf6-f47b-4f6c-8b56-4ad5b215e657",
   "metadata": {
    "execution": {
     "iopub.execute_input": "2023-09-29T15:24:34.207614Z",
     "iopub.status.busy": "2023-09-29T15:24:34.207254Z",
     "iopub.status.idle": "2023-09-29T15:24:34.311078Z",
     "shell.execute_reply": "2023-09-29T15:24:34.310524Z",
     "shell.execute_reply.started": "2023-09-29T15:24:34.207584Z"
    },
    "papermill": {},
    "tags": []
   },
   "outputs": [
    {
     "data": {
      "text/markdown": [
       "Response Set as JSON, preview below: "
      ],
      "text/plain": [
       "<IPython.core.display.Markdown object>"
      ]
     },
     "metadata": {},
     "output_type": "display_data"
    },
    {
     "data": {
      "application/json": {
       "message": "🔐❌ No secret added.",
       "status": "ok"
      },
      "text/plain": [
       "<IPython.core.display.JSON object>"
      ]
     },
     "metadata": {
      "application/json": {
       "expanded": false,
       "naas_api": true,
       "root": "root"
      }
     },
     "output_type": "display_data"
    }
   ],
   "source": [
    "naas.webhook.respond_json(\n",
    "    {\n",
    "        \"status\": status, \n",
    "        \"message\": message\n",
    "    }\n",
    ")"
   ]
  },
  {
   "cell_type": "code",
   "execution_count": null,
   "id": "15b70d4f-3779-4259-919c-59d36525c36e",
   "metadata": {},
   "outputs": [],
   "source": []
  }
 ],
 "metadata": {
  "kernelspec": {
   "display_name": "Python 3",
   "language": "python",
   "name": "python3"
  },
  "language_info": {
   "codemirror_mode": {
    "name": "ipython",
    "version": 3
   },
   "file_extension": ".py",
   "mimetype": "text/x-python",
   "name": "python",
   "nbconvert_exporter": "python",
   "pygments_lexer": "ipython3",
   "version": "3.9.6"
  },
  "naas": {
   "notebook_id": "74502a112e56d3de096d3c0fdf5a32941d8a6967e48b42026d1a9492f5997bba",
   "notebook_path": "Naas Chat Plugin/Naas_Chat_Plugin_Create_prompt_plugin_with_command.ipynb"
  },
  "papermill": {
   "default_parameters": {},
   "environment_variables": {},
   "parameters": {},
   "version": "2.4.0"
  },
  "widgets": {
   "application/vnd.jupyter.widget-state+json": {
    "state": {},
    "version_major": 2,
    "version_minor": 0
   }
  }
 },
 "nbformat": 4,
 "nbformat_minor": 5
}
