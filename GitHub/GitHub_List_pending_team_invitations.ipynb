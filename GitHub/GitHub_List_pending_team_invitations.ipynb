{
 "cells": [
  {
   "cell_type": "markdown",
   "id": "75d3572d-e05d-4cc2-ae90-90e28ec0ea5b",
   "metadata": {
    "papermill": {},
    "tags": []
   },
   "source": [
    "<img width=\"10%\" alt=\"Naas\" src=\"https://landen.imgix.net/jtci2pxwjczr/assets/5ice39g4.png?w=160\"/>"
   ]
  },
  {
   "cell_type": "markdown",
   "id": "459d5f89-4dfd-4eb1-ae88-3bc81b5d1bd8",
   "metadata": {
    "papermill": {},
    "tags": []
   },
   "source": [
    "# GitHub - List pending team invitations"
   ]
  },
  {
   "cell_type": "markdown",
   "id": "d50a936a-75c9-4f97-85f5-67839b6edb77",
   "metadata": {
    "papermill": {},
    "tags": []
   },
   "source": [
    "**Tags:** #github #teams #invitations #rest #api #list"
   ]
  },
  {
   "cell_type": "markdown",
   "id": "f065aa68-8a6d-4911-9cfe-5319acd87a16",
   "metadata": {
    "papermill": {},
    "tags": []
   },
   "source": [
    "**Author:** [Florent Ravenel](http://linkedin.com/in/florent-ravenel)"
   ]
  },
  {
   "cell_type": "markdown",
   "id": "d116166d-1170-4869-aac7-1645ed6ac5e2",
   "metadata": {
    "papermill": {},
    "tags": []
   },
   "source": [
    "**Description:** This notebook will show how to list pending team invitations using the GitHub REST API."
   ]
  },
  {
   "cell_type": "markdown",
   "id": "ff22496a-1c70-486e-843a-d853725d2c3c",
   "metadata": {
    "papermill": {},
    "tags": []
   },
   "source": [
    "**References:**\n- [GitHub REST API - List pending team invitations](https://docs.github.com/fr/rest/teams/members?apiVersion=2022-11-28#list-pending-team-invitations)"
   ]
  },
  {
   "cell_type": "markdown",
   "id": "e6177f71-05ed-44b2-ba70-9a061867e97a",
   "metadata": {
    "papermill": {},
    "tags": []
   },
   "source": [
    "## Input"
   ]
  },
  {
   "cell_type": "markdown",
   "id": "9fc3a11b-4fb4-4b23-b8d4-85542c308ce7",
   "metadata": {
    "papermill": {},
    "tags": []
   },
   "source": [
    "### Import libraries"
   ]
  },
  {
   "cell_type": "code",
   "execution_count": null,
   "id": "c5800bf2-cdf5-4df9-85a2-22e44ccf957d",
   "metadata": {
    "papermill": {},
    "tags": []
   },
   "source": "import requests",
   "outputs": []
  },
  {
   "cell_type": "markdown",
   "id": "c157362c-1833-4be0-ab62-7d98379abcca",
   "metadata": {
    "papermill": {},
    "tags": []
   },
   "source": [
    "### Setup Variables\n- `team_id`: The ID of the team to list pending invitations for."
   ]
  },
  {
   "cell_type": "code",
   "execution_count": null,
   "id": "23a8f166-6d15-421e-9240-b02bf116724f",
   "metadata": {
    "papermill": {},
    "tags": []
   },
   "source": "team_id = 12345",
   "outputs": []
  },
  {
   "cell_type": "markdown",
   "id": "a7d43775-e0bd-4b41-b1fa-c9b5c40e73f4",
   "metadata": {
    "papermill": {},
    "tags": []
   },
   "source": [
    "## Model"
   ]
  },
  {
   "cell_type": "markdown",
   "id": "93b0092d-4139-43ee-b679-81fb2956733a",
   "metadata": {
    "papermill": {},
    "tags": []
   },
   "source": [
    "### List pending team invitations"
   ]
  },
  {
   "cell_type": "markdown",
   "id": "62381bd8-8967-4096-ae1d-d6fd5c8b9e1c",
   "metadata": {
    "papermill": {},
    "tags": []
   },
   "source": [
    "This function will list pending team invitations using the GitHub REST API."
   ]
  },
  {
   "cell_type": "code",
   "execution_count": null,
   "id": "5193b954-d042-49f4-bb86-46d976602f06",
   "metadata": {
    "papermill": {},
    "tags": []
   },
   "source": "def list_pending_team_invitations(team_id):\n    url = f\"https://api.github.com/teams/{team_id}/invitations\"\n    response = requests.get(url)\n    return response.json()",
   "outputs": []
  },
  {
   "cell_type": "markdown",
   "id": "2df774ae-5305-4f97-87ca-b7590c12d292",
   "metadata": {
    "papermill": {},
    "tags": []
   },
   "source": [
    "## Output"
   ]
  },
  {
   "cell_type": "markdown",
   "id": "ded2161d-115f-4742-b33c-f93b2b9566ee",
   "metadata": {
    "papermill": {},
    "tags": []
   },
   "source": [
    "### Display result"
   ]
  },
  {
   "cell_type": "code",
   "execution_count": null,
   "id": "364d0fb5-fcd7-4abb-b99f-92ecd05eedba",
   "metadata": {
    "papermill": {},
    "tags": []
   },
   "source": "pending_invitations = list_pending_team_invitations(team_id)\nprint(pending_invitations)",
   "outputs": []
  },
  {
   "cell_type": "markdown",
   "id": "aecb1f8c-089d-482f-a208-0ce7f05d2988",
   "metadata": {
    "papermill": {},
    "tags": []
   },
   "source": [
    " "
   ]
  }
 ],
 "metadata": {
  "kernelspec": {
   "display_name": "Python 3",
   "language": "python",
   "name": "python3"
  },
  "language_info": {
   "codemirror_mode": {
    "name": "ipython",
    "version": 3
   },
   "file_extension": ".py",
   "mimetype": "text/x-python",
   "name": "python",
   "nbconvert_exporter": "python",
   "pygments_lexer": "ipython3",
   "version": "3.9.6"
  },
  "widgets": {
   "application/vnd.jupyter.widget-state+json": {
    "state": {},
    "version_major": 2,
    "version_minor": 0
   }
  }
 },
 "nbformat": 4,
 "nbformat_minor": 5
}