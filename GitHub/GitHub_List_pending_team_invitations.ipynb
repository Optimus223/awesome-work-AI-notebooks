{
 "cells": [
  {
   "cell_type": "markdown",
   "id": "75d3572d-e05d-4cc2-ae90-90e28ec0ea5b",
   "metadata": {
    "papermill": {},
    "tags": []
   },
   "source": [
    "<img width=\"10%\" alt=\"Naas\" src=\"https://landen.imgix.net/jtci2pxwjczr/assets/5ice39g4.png?w=160\"/>"
   ]
  },
  {
   "cell_type": "markdown",
   "id": "459d5f89-4dfd-4eb1-ae88-3bc81b5d1bd8",
   "metadata": {
    "papermill": {},
    "tags": []
   },
   "source": [
    "# GitHub - List pending team invitations"
   ]
  },
  {
   "cell_type": "markdown",
   "id": "d50a936a-75c9-4f97-85f5-67839b6edb77",
   "metadata": {
    "papermill": {},
    "tags": []
   },
   "source": [
    "**Tags:** #github #teams #invitations #rest #api #list"
   ]
  },
  {
   "cell_type": "markdown",
   "id": "f065aa68-8a6d-4911-9cfe-5319acd87a16",
   "metadata": {
    "papermill": {},
    "tags": []
   },
   "source": [
    "**Author:** [Florent Ravenel](http://linkedin.com/in/florent-ravenel)"
   ]
  },
  {
   "cell_type": "markdown",
   "id": "d116166d-1170-4869-aac7-1645ed6ac5e2",
   "metadata": {
    "papermill": {},
    "tags": []
   },
   "source": [
    "**Description:** This notebook will show how to list pending team invitations using the GitHub REST API."
   ]
  },
  {
   "cell_type": "markdown",
   "id": "ff22496a-1c70-486e-843a-d853725d2c3c",
   "metadata": {
    "papermill": {},
    "tags": []
   },
   "source": [
    "**References:**\n",
    "- [GitHub REST API - List pending team invitations](https://docs.github.com/fr/rest/teams/members?apiVersion=2022-11-28#list-pending-team-invitations)"
   ]
  },
  {
   "cell_type": "markdown",
   "id": "e6177f71-05ed-44b2-ba70-9a061867e97a",
   "metadata": {
    "papermill": {},
    "tags": []
   },
   "source": [
    "## Input"
   ]
  },
  {
   "cell_type": "markdown",
   "id": "9fc3a11b-4fb4-4b23-b8d4-85542c308ce7",
   "metadata": {
    "papermill": {},
    "tags": []
   },
   "source": [
    "### Import libraries"
   ]
  },
  {
   "cell_type": "code",
   "execution_count": 1,
   "id": "c5800bf2-cdf5-4df9-85a2-22e44ccf957d",
   "metadata": {
    "execution": {
     "iopub.execute_input": "2023-04-19T15:49:32.476320Z",
     "iopub.status.busy": "2023-04-19T15:49:32.476142Z",
     "iopub.status.idle": "2023-04-19T15:49:38.579128Z",
     "shell.execute_reply": "2023-04-19T15:49:38.578459Z",
     "shell.execute_reply.started": "2023-04-19T15:49:32.476275Z"
    },
    "papermill": {},
    "tags": []
   },
   "outputs": [],
   "source": [
    "import requests\n",
    "import naas\n",
    "import pandas as pd\n",
    "from pprint import pprint"
   ]
  },
  {
   "cell_type": "markdown",
   "id": "c157362c-1833-4be0-ab62-7d98379abcca",
   "metadata": {
    "papermill": {},
    "tags": []
   },
   "source": [
    "### Setup Variables\n",
    "- `token`: Create your personal access token [here](https://github.com/settings/tokens)\n",
    "- `team_url`: The URL of the team to list pending invitations for."
   ]
  },
  {
   "cell_type": "code",
   "execution_count": 2,
   "id": "23a8f166-6d15-421e-9240-b02bf116724f",
   "metadata": {
    "execution": {
     "iopub.execute_input": "2023-04-19T15:49:38.580356Z",
     "iopub.status.busy": "2023-04-19T15:49:38.580124Z",
     "iopub.status.idle": "2023-04-19T15:49:38.710582Z",
     "shell.execute_reply": "2023-04-19T15:49:38.709990Z",
     "shell.execute_reply.started": "2023-04-19T15:49:38.580327Z"
    },
    "papermill": {},
    "tags": []
   },
   "outputs": [],
   "source": [
    "token = naas.secret.get(\"GITHUB_TOKEN\") or \"YOUR_TOKEN\"\n",
    "team_url = \"https://github.com/orgs/jupyter-naas/teams/opensource-contributors\""
   ]
  },
  {
   "cell_type": "markdown",
   "id": "a7d43775-e0bd-4b41-b1fa-c9b5c40e73f4",
   "metadata": {
    "papermill": {},
    "tags": []
   },
   "source": [
    "## Model"
   ]
  },
  {
   "cell_type": "markdown",
   "id": "93b0092d-4139-43ee-b679-81fb2956733a",
   "metadata": {
    "papermill": {},
    "tags": []
   },
   "source": [
    "### List pending team invitations\n",
    "This function will list pending team invitations using the GitHub REST API."
   ]
  },
  {
   "cell_type": "code",
   "execution_count": 3,
   "id": "5193b954-d042-49f4-bb86-46d976602f06",
   "metadata": {
    "execution": {
     "iopub.execute_input": "2023-04-19T15:49:38.714138Z",
     "iopub.status.busy": "2023-04-19T15:49:38.712174Z",
     "iopub.status.idle": "2023-04-19T15:49:39.140898Z",
     "shell.execute_reply": "2023-04-19T15:49:39.140255Z",
     "shell.execute_reply.started": "2023-04-19T15:49:38.714105Z"
    },
    "papermill": {},
    "tags": []
   },
   "outputs": [],
   "source": [
    "def list_pending_team_invitations(team_url):\n",
    "    org = team_url.split(\"/orgs/\")[-1].split(\"/\")[0]\n",
    "    team_slug = team_url.split(\"/teams/\")[-1]\n",
    "    url = f\"https://api.github.com/orgs/{org}/teams/{team_slug}/invitations\"\n",
    "    response = requests.get(url)\n",
    "    headers = {\"Authorization\": f\"token {token}\"}\n",
    "    res = requests.get(url, headers=headers)\n",
    "    if res.status_code == 200:\n",
    "        return res.json()\n",
    "\n",
    "pending_invitations = list_pending_team_invitations(team_url)"
   ]
  },
  {
   "cell_type": "markdown",
   "id": "2df774ae-5305-4f97-87ca-b7590c12d292",
   "metadata": {
    "papermill": {},
    "tags": []
   },
   "source": [
    "## Output"
   ]
  },
  {
   "cell_type": "markdown",
   "id": "ded2161d-115f-4742-b33c-f93b2b9566ee",
   "metadata": {
    "papermill": {},
    "tags": []
   },
   "source": [
    "### Display result"
   ]
  },
  {
   "cell_type": "code",
   "execution_count": 4,
   "id": "a7e36d9d-aa9c-426b-b053-e7f5c8ab8266",
   "metadata": {
    "execution": {
     "iopub.execute_input": "2023-04-19T15:49:39.142274Z",
     "iopub.status.busy": "2023-04-19T15:49:39.142049Z",
     "iopub.status.idle": "2023-04-19T15:49:39.188385Z",
     "shell.execute_reply": "2023-04-19T15:49:39.187858Z",
     "shell.execute_reply.started": "2023-04-19T15:49:39.142244Z"
    },
    "papermill": {},
    "tags": []
   },
   "outputs": [
    {
     "name": "stdout",
     "output_type": "stream",
     "text": [
      "Pending invitations found: 2\n"
     ]
    },
    {
     "data": {
      "text/html": [
       "<div>\n",
       "<style scoped>\n",
       "    .dataframe tbody tr th:only-of-type {\n",
       "        vertical-align: middle;\n",
       "    }\n",
       "\n",
       "    .dataframe tbody tr th {\n",
       "        vertical-align: top;\n",
       "    }\n",
       "\n",
       "    .dataframe thead th {\n",
       "        text-align: right;\n",
       "    }\n",
       "</style>\n",
       "<table border=\"1\" class=\"dataframe\">\n",
       "  <thead>\n",
       "    <tr style=\"text-align: right;\">\n",
       "      <th></th>\n",
       "      <th>id</th>\n",
       "      <th>node_id</th>\n",
       "      <th>login</th>\n",
       "      <th>email</th>\n",
       "      <th>role</th>\n",
       "      <th>created_at</th>\n",
       "      <th>failed_at</th>\n",
       "      <th>failed_reason</th>\n",
       "      <th>inviter_login</th>\n",
       "      <th>inviter_id</th>\n",
       "      <th>...</th>\n",
       "      <th>inviter_subscriptions_url</th>\n",
       "      <th>inviter_organizations_url</th>\n",
       "      <th>inviter_repos_url</th>\n",
       "      <th>inviter_events_url</th>\n",
       "      <th>inviter_received_events_url</th>\n",
       "      <th>inviter_type</th>\n",
       "      <th>inviter_site_admin</th>\n",
       "      <th>team_count</th>\n",
       "      <th>invitation_teams_url</th>\n",
       "      <th>invitation_source</th>\n",
       "    </tr>\n",
       "  </thead>\n",
       "  <tbody>\n",
       "    <tr>\n",
       "      <th>0</th>\n",
       "      <td>42157121</td>\n",
       "      <td>OI_kwDOBESWNM4Cg0RB</td>\n",
       "      <td>asnamaqba</td>\n",
       "      <td>None</td>\n",
       "      <td>direct_member</td>\n",
       "      <td>2023-04-17T17:57:03.000+02:00</td>\n",
       "      <td>None</td>\n",
       "      <td>None</td>\n",
       "      <td>jravenel</td>\n",
       "      <td>21052349</td>\n",
       "      <td>...</td>\n",
       "      <td>https://api.github.com/users/jravenel/subscrip...</td>\n",
       "      <td>https://api.github.com/users/jravenel/orgs</td>\n",
       "      <td>https://api.github.com/users/jravenel/repos</td>\n",
       "      <td>https://api.github.com/users/jravenel/events{/...</td>\n",
       "      <td>https://api.github.com/users/jravenel/received...</td>\n",
       "      <td>User</td>\n",
       "      <td>False</td>\n",
       "      <td>1</td>\n",
       "      <td>https://api.github.com/organizations/71603764/...</td>\n",
       "      <td>member</td>\n",
       "    </tr>\n",
       "    <tr>\n",
       "      <th>1</th>\n",
       "      <td>42183211</td>\n",
       "      <td>OI_kwDOBESWNM4Cg6or</td>\n",
       "      <td>Mukhtarmid</td>\n",
       "      <td>None</td>\n",
       "      <td>direct_member</td>\n",
       "      <td>2023-04-18T15:42:41.000+02:00</td>\n",
       "      <td>None</td>\n",
       "      <td>None</td>\n",
       "      <td>FlorentLvr</td>\n",
       "      <td>48032461</td>\n",
       "      <td>...</td>\n",
       "      <td>https://api.github.com/users/FlorentLvr/subscr...</td>\n",
       "      <td>https://api.github.com/users/FlorentLvr/orgs</td>\n",
       "      <td>https://api.github.com/users/FlorentLvr/repos</td>\n",
       "      <td>https://api.github.com/users/FlorentLvr/events...</td>\n",
       "      <td>https://api.github.com/users/FlorentLvr/receiv...</td>\n",
       "      <td>User</td>\n",
       "      <td>False</td>\n",
       "      <td>1</td>\n",
       "      <td>https://api.github.com/organizations/71603764/...</td>\n",
       "      <td>member</td>\n",
       "    </tr>\n",
       "  </tbody>\n",
       "</table>\n",
       "<p>2 rows × 29 columns</p>\n",
       "</div>"
      ],
      "text/plain": [
       "         id              node_id       login email           role  \\\n",
       "0  42157121  OI_kwDOBESWNM4Cg0RB   asnamaqba  None  direct_member   \n",
       "1  42183211  OI_kwDOBESWNM4Cg6or  Mukhtarmid  None  direct_member   \n",
       "\n",
       "                      created_at failed_at failed_reason inviter_login  \\\n",
       "0  2023-04-17T17:57:03.000+02:00      None          None      jravenel   \n",
       "1  2023-04-18T15:42:41.000+02:00      None          None    FlorentLvr   \n",
       "\n",
       "   inviter_id  ...                          inviter_subscriptions_url  \\\n",
       "0    21052349  ...  https://api.github.com/users/jravenel/subscrip...   \n",
       "1    48032461  ...  https://api.github.com/users/FlorentLvr/subscr...   \n",
       "\n",
       "                      inviter_organizations_url  \\\n",
       "0    https://api.github.com/users/jravenel/orgs   \n",
       "1  https://api.github.com/users/FlorentLvr/orgs   \n",
       "\n",
       "                               inviter_repos_url  \\\n",
       "0    https://api.github.com/users/jravenel/repos   \n",
       "1  https://api.github.com/users/FlorentLvr/repos   \n",
       "\n",
       "                                  inviter_events_url  \\\n",
       "0  https://api.github.com/users/jravenel/events{/...   \n",
       "1  https://api.github.com/users/FlorentLvr/events...   \n",
       "\n",
       "                         inviter_received_events_url inviter_type  \\\n",
       "0  https://api.github.com/users/jravenel/received...         User   \n",
       "1  https://api.github.com/users/FlorentLvr/receiv...         User   \n",
       "\n",
       "  inviter_site_admin team_count  \\\n",
       "0              False          1   \n",
       "1              False          1   \n",
       "\n",
       "                                invitation_teams_url invitation_source  \n",
       "0  https://api.github.com/organizations/71603764/...            member  \n",
       "1  https://api.github.com/organizations/71603764/...            member  \n",
       "\n",
       "[2 rows x 29 columns]"
      ]
     },
     "execution_count": 4,
     "metadata": {},
     "output_type": "execute_result"
    }
   ],
   "source": [
    "# Flatten the nested dict\n",
    "def flatten_dict(d, parent_key='', sep='_'):\n",
    "    \"\"\"\n",
    "    Flattens a nested dictionary into a single level dictionary.\n",
    "\n",
    "    Args:\n",
    "        d (dict): A nested dictionary.\n",
    "        parent_key (str): Optional string to prefix the keys with.\n",
    "        sep (str): Optional separator to use between parent_key and child_key.\n",
    "\n",
    "    Returns:\n",
    "        dict: A flattened dictionary.\n",
    "    \"\"\"\n",
    "    items = []\n",
    "    for k, v in d.items():\n",
    "        new_key = f\"{parent_key}{sep}{k}\" if parent_key else k\n",
    "        if isinstance(v, dict):\n",
    "            items.extend(flatten_dict(v, new_key, sep=sep).items())\n",
    "        else:\n",
    "            items.append((new_key, v))\n",
    "    return dict(items)\n",
    "\n",
    "data = []\n",
    "for d in pending_invitations:\n",
    "    data.append(flatten_dict(d))\n",
    "    \n",
    "df_pending_invitations = pd.DataFrame(data)\n",
    "print(\"Pending invitations found:\", len(df_pending_invitations))\n",
    "df_pending_invitations"
   ]
  },
  {
   "cell_type": "markdown",
   "id": "aecb1f8c-089d-482f-a208-0ce7f05d2988",
   "metadata": {
    "papermill": {},
    "tags": []
   },
   "source": [
    " "
   ]
  }
 ],
 "metadata": {
  "kernelspec": {
   "display_name": "Python 3",
   "language": "python",
   "name": "python3"
  },
  "language_info": {
   "codemirror_mode": {
    "name": "ipython",
    "version": 3
   },
   "file_extension": ".py",
   "mimetype": "text/x-python",
   "name": "python",
   "nbconvert_exporter": "python",
   "pygments_lexer": "ipython3",
   "version": "3.9.6"
  },
  "widgets": {
   "application/vnd.jupyter.widget-state+json": {
    "state": {},
    "version_major": 2,
    "version_minor": 0
   }
  }
 },
 "nbformat": 4,
 "nbformat_minor": 5
}
