{
 "cells": [
  {
   "cell_type": "markdown",
   "id": "45b3d24f-02bf-4053-8597-0d3a5c34f2e8",
   "metadata": {
    "papermill": {},
    "tags": []
   },
   "source": [
    "<img width=\"10%\" alt=\"Naas\" src=\"https://landen.imgix.net/jtci2pxwjczr/assets/5ice39g4.png?w=160\"/>"
   ]
  },
  {
   "cell_type": "markdown",
   "id": "acb1673e-4fae-4f82-b084-2a2327f03779",
   "metadata": {
    "papermill": {},
    "tags": []
   },
   "source": [
    "# GitHub - List repository events"
   ]
  },
  {
   "cell_type": "markdown",
   "id": "323b04d2-5baf-4105-a8bc-4258f6c05a65",
   "metadata": {
    "papermill": {},
    "tags": []
   },
   "source": [
    "**Tags:** #github #api #rest #events #repository #list"
   ]
  },
  {
   "cell_type": "markdown",
   "id": "8cb5cec4-2a6e-4709-939f-feebdf6aa118",
   "metadata": {
    "papermill": {},
    "tags": []
   },
   "source": [
    "**Author:** [Florent Ravenel](https://www.linkedin.com/in/florent-ravenel)"
   ]
  },
  {
   "cell_type": "markdown",
   "id": "983ae40f-5398-4e89-a82c-6dc00c82bd08",
   "metadata": {
    "papermill": {},
    "tags": []
   },
   "source": [
    "**Description:** This notebook will list repository events from GitHub using the REST API. It is usefull for organizations to keep track of their repositories."
   ]
  },
  {
   "cell_type": "markdown",
   "id": "61681b8c-3e4f-47de-a221-fa6c417910f0",
   "metadata": {
    "papermill": {},
    "tags": []
   },
   "source": [
    "**References:**\n- [GitHub REST API](https://docs.github.com/en/rest/reference/events)\n- [List repository events](https://docs.github.com/en/rest/activity/events?apiVersion=2022-11-28#list-repository-events)"
   ]
  },
  {
   "cell_type": "markdown",
   "id": "5eeb1377-d710-4a10-87f0-59655dfa17b6",
   "metadata": {
    "papermill": {},
    "tags": []
   },
   "source": [
    "## Input"
   ]
  },
  {
   "cell_type": "markdown",
   "id": "461c729d-368f-49cc-89da-5b08b932ebb5",
   "metadata": {
    "papermill": {},
    "tags": []
   },
   "source": [
    "### Import libraries"
   ]
  },
  {
   "cell_type": "code",
   "execution_count": null,
   "id": "3377b1d9-ac1a-4a9d-b37b-bbf9bf0ddc3a",
   "metadata": {
    "papermill": {},
    "tags": []
   },
   "source": "import requests",
   "outputs": []
  },
  {
   "cell_type": "markdown",
   "id": "c9f5a02c-5a9e-4177-a851-6185f39ec87d",
   "metadata": {
    "papermill": {},
    "tags": []
   },
   "source": [
    "### Setup Variables\n- `token`: [GitHub personal access token](https://docs.github.com/en/github/authenticating-to-github/creating-a-personal-access-token)\n- `owner`: owner of the repository\n- `repo`: name of the repository"
   ]
  },
  {
   "cell_type": "code",
   "execution_count": null,
   "id": "c0ba4827-319e-4ab5-85ed-ceb3fcb9d5b0",
   "metadata": {
    "papermill": {},
    "tags": []
   },
   "source": "token = \"<token>\"\nowner = \"<owner>\"\nrepo = \"<repo>\"",
   "outputs": []
  },
  {
   "cell_type": "markdown",
   "id": "5cc9e42e-d696-421b-8cdc-4fc3ed2ff01c",
   "metadata": {
    "papermill": {},
    "tags": []
   },
   "source": [
    "## Model"
   ]
  },
  {
   "cell_type": "markdown",
   "id": "347a8f75-276f-4863-b39f-7f95a685a446",
   "metadata": {
    "papermill": {},
    "tags": []
   },
   "source": [
    "### List repository events"
   ]
  },
  {
   "cell_type": "markdown",
   "id": "44030a8e-6117-4936-a707-6ce8f917bfa4",
   "metadata": {
    "papermill": {},
    "tags": []
   },
   "source": [
    "This function will list repository events from GitHub using the REST API."
   ]
  },
  {
   "cell_type": "code",
   "execution_count": null,
   "id": "7930777a-9607-429d-a586-282562b33629",
   "metadata": {
    "papermill": {},
    "tags": []
   },
   "source": "def list_repo_events(token, owner, repo):\n    url = f\"https://api.github.com/repos/{owner}/{repo}/events\"\n    headers = {\"Authorization\": f\"token {token}\"}\n    response = requests.get(url, headers=headers)\n    return response.json()",
   "outputs": []
  },
  {
   "cell_type": "markdown",
   "id": "159545c1-14dd-4b27-bcda-d8c51816e692",
   "metadata": {
    "papermill": {},
    "tags": []
   },
   "source": [
    "## Output"
   ]
  },
  {
   "cell_type": "markdown",
   "id": "1f780c8f-a36d-4749-b69c-ef715df13b23",
   "metadata": {
    "papermill": {},
    "tags": []
   },
   "source": [
    "### Display result"
   ]
  },
  {
   "cell_type": "code",
   "execution_count": null,
   "id": "ea776eb6-1adf-4ad4-9f99-589579ea7c18",
   "metadata": {
    "papermill": {},
    "tags": []
   },
   "source": "events = list_repo_events(token, owner, repo)\nprint(events)",
   "outputs": []
  }
 ],
 "metadata": {
  "kernelspec": {
   "display_name": "Python 3",
   "language": "python",
   "name": "python3"
  },
  "language_info": {
   "codemirror_mode": {
    "name": "ipython",
    "version": 3
   },
   "file_extension": ".py",
   "mimetype": "text/x-python",
   "name": "python",
   "nbconvert_exporter": "python",
   "pygments_lexer": "ipython3",
   "version": "3.9.6"
  },
  "widgets": {
   "application/vnd.jupyter.widget-state+json": {
    "state": {},
    "version_major": 2,
    "version_minor": 0
   }
  }
 },
 "nbformat": 4,
 "nbformat_minor": 5
}