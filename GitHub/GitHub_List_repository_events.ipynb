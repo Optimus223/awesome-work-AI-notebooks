{
 "cells": [
  {
   "cell_type": "markdown",
   "id": "45b3d24f-02bf-4053-8597-0d3a5c34f2e8",
   "metadata": {
    "papermill": {},
    "tags": []
   },
   "source": [
    "<img width=\"10%\" alt=\"Naas\" src=\"https://landen.imgix.net/jtci2pxwjczr/assets/5ice39g4.png?w=160\"/>"
   ]
  },
  {
   "cell_type": "markdown",
   "id": "acb1673e-4fae-4f82-b084-2a2327f03779",
   "metadata": {
    "papermill": {},
    "tags": []
   },
   "source": [
    "# GitHub - List repository events"
   ]
  },
  {
   "cell_type": "markdown",
   "id": "323b04d2-5baf-4105-a8bc-4258f6c05a65",
   "metadata": {
    "papermill": {},
    "tags": []
   },
   "source": [
    "**Tags:** #github #api #rest #events #repository #list"
   ]
  },
  {
   "cell_type": "markdown",
   "id": "8cb5cec4-2a6e-4709-939f-feebdf6aa118",
   "metadata": {
    "papermill": {},
    "tags": []
   },
   "source": [
    "**Author:** [Sriniketh Jayasendil](https://www.geeksforgeeks.org/object-oriented-programming-in-cpp/)"
   ]
  },
  {
   "cell_type": "markdown",
   "id": "983ae40f-5398-4e89-a82c-6dc00c82bd08",
   "metadata": {
    "papermill": {},
    "tags": []
   },
   "source": [
    "**Description:** This notebook will list repository events from GitHub using the REST API. It is usefull for organizations to keep track of their repositories."
   ]
  },
  {
   "cell_type": "markdown",
   "id": "61681b8c-3e4f-47de-a221-fa6c417910f0",
   "metadata": {
    "papermill": {},
    "tags": []
   },
   "source": [
    "**References:**\n",
    "- [GitHub REST API](https://docs.github.com/en/rest/reference/events)\n",
    "- [List repository events](https://docs.github.com/en/rest/activity/events?apiVersion=2022-11-28#list-repository-events)"
   ]
  },
  {
   "cell_type": "markdown",
   "id": "5eeb1377-d710-4a10-87f0-59655dfa17b6",
   "metadata": {
    "papermill": {},
    "tags": []
   },
   "source": [
    "## Input"
   ]
  },
  {
   "cell_type": "markdown",
   "id": "461c729d-368f-49cc-89da-5b08b932ebb5",
   "metadata": {
    "papermill": {},
    "tags": []
   },
   "source": [
    "### Import libraries"
   ]
  },
  {
   "cell_type": "code",
   "execution_count": null,
   "id": "3377b1d9-ac1a-4a9d-b37b-bbf9bf0ddc3a",
   "metadata": {
    "execution": {
     "iopub.execute_input": "2023-08-01T18:01:14.208324Z",
     "iopub.status.busy": "2023-08-01T18:01:14.207849Z",
     "iopub.status.idle": "2023-08-01T18:01:18.239509Z",
     "shell.execute_reply": "2023-08-01T18:01:18.238892Z",
     "shell.execute_reply.started": "2023-08-01T18:01:14.208245Z"
    },
    "papermill": {},
    "tags": []
   },
   "outputs": [],
   "source": [
    "import requests\n",
    "import re\n",
    "import pprint\n",
    "import naas"
   ]
  },
  {
   "cell_type": "markdown",
   "id": "c9f5a02c-5a9e-4177-a851-6185f39ec87d",
   "metadata": {
    "papermill": {},
    "tags": []
   },
   "source": [
    "### Setup Variables\n",
    "- `token`: [GitHub personal access token](https://docs.github.com/en/github/authenticating-to-github/creating-a-personal-access-token)\n",
    "- `owner`: owner of the repository\n",
    "- `repo`: name of the repository"
   ]
  },
  {
   "cell_type": "code",
   "execution_count": null,
   "id": "c0ba4827-319e-4ab5-85ed-ceb3fcb9d5b0",
   "metadata": {
    "execution": {
     "iopub.execute_input": "2023-08-01T18:01:18.243096Z",
     "iopub.status.busy": "2023-08-01T18:01:18.242913Z",
     "iopub.status.idle": "2023-08-01T18:01:18.389279Z",
     "shell.execute_reply": "2023-08-01T18:01:18.388484Z",
     "shell.execute_reply.started": "2023-08-01T18:01:18.243077Z"
    },
    "papermill": {},
    "tags": []
   },
   "outputs": [],
   "source": [
    "token = naas.secret.get(\"GITHUB_TOKEN\") or \"YOUR_GITHUB_TOKEN\"\n",
    "owner = \"jupyter-naas\"\n",
    "repo = \"awesome-notebooks\""
   ]
  },
  {
   "cell_type": "markdown",
   "id": "5cc9e42e-d696-421b-8cdc-4fc3ed2ff01c",
   "metadata": {
    "papermill": {},
    "tags": []
   },
   "source": [
    "## Model"
   ]
  },
  {
   "cell_type": "markdown",
   "id": "347a8f75-276f-4863-b39f-7f95a685a446",
   "metadata": {
    "papermill": {},
    "tags": []
   },
   "source": [
    "### Get maximum number of pages iterable\n",
    "\n",
    "GitHub limits the access of data to a certain limit, to keep the API accessible to everyone. Hence, we need to perform this step to know the actual limit for the particular url."
   ]
  },
  {
   "cell_type": "code",
   "execution_count": null,
   "id": "e8fef391-81a2-4b83-a019-2e374bd14735",
   "metadata": {
    "execution": {
     "iopub.execute_input": "2023-08-01T18:01:18.392615Z",
     "iopub.status.busy": "2023-08-01T18:01:18.392436Z",
     "iopub.status.idle": "2023-08-01T18:01:18.398799Z",
     "shell.execute_reply": "2023-08-01T18:01:18.398218Z",
     "shell.execute_reply.started": "2023-08-01T18:01:18.392596Z"
    }
   },
   "outputs": [],
   "source": [
    "def get_max_pages(url, token):\n",
    "    headers = {\"Authorization\": f\"token {token}\"}\n",
    "    response = requests.get(url, headers=headers)\n",
    "    updated_json = response.links['last']['url']\n",
    "\n",
    "    pattern = \"page=(\\d+)\"\n",
    "    match = re.search(pattern, updated_json)\n",
    "\n",
    "    if match:\n",
    "        page_value = match.group(1)\n",
    "        return int(page_value)\n",
    "    else:\n",
    "        return None "
   ]
  },
  {
   "cell_type": "markdown",
   "id": "c37652c8-d22f-4349-b514-7b4988ab4df5",
   "metadata": {
    "papermill": {},
    "tags": []
   },
   "source": [
    "### List repository events\n",
    "\n",
    "This function will list repository events from GitHub using the REST API."
   ]
  },
  {
   "cell_type": "code",
   "execution_count": null,
   "id": "7930777a-9607-429d-a586-282562b33629",
   "metadata": {
    "execution": {
     "iopub.execute_input": "2023-08-01T18:01:18.401814Z",
     "iopub.status.busy": "2023-08-01T18:01:18.401528Z",
     "iopub.status.idle": "2023-08-01T18:01:18.512337Z",
     "shell.execute_reply": "2023-08-01T18:01:18.511597Z",
     "shell.execute_reply.started": "2023-08-01T18:01:18.401769Z"
    },
    "papermill": {},
    "tags": []
   },
   "outputs": [],
   "source": [
    "def get_all_events(max_pages, owner, repo):\n",
    "    total_response = []\n",
    "    for i in range(max_pages):\n",
    "        url = f\"https://api.github.com/repos/{owner}/{repo}/events??per_page=100&page=\" + str(i)\n",
    "        headers = {\"Authorization\": f\"token {token}\"}\n",
    "        curr_response = requests.get(url, headers=headers)\n",
    "        total_response.append(curr_response.json())\n",
    "\n",
    "    \n",
    "    return total_response"
   ]
  },
  {
   "cell_type": "markdown",
   "id": "159545c1-14dd-4b27-bcda-d8c51816e692",
   "metadata": {
    "papermill": {},
    "tags": []
   },
   "source": [
    "## Output"
   ]
  },
  {
   "cell_type": "markdown",
   "id": "1f780c8f-a36d-4749-b69c-ef715df13b23",
   "metadata": {
    "papermill": {},
    "tags": []
   },
   "source": [
    "### Display result\n",
    "- created_at: 2023-07-13T14:02:26Z'\n",
    "- type: 'IssueCommentEvent'\n",
    "- actor.login: 'Benjifilly'\n",
    "- action: 'Ready to review'\n",
    "- issue: 'number'"
   ]
  },
  {
   "cell_type": "code",
   "execution_count": null,
   "id": "ea776eb6-1adf-4ad4-9f99-589579ea7c18",
   "metadata": {
    "execution": {
     "iopub.execute_input": "2023-08-01T18:01:18.515578Z",
     "iopub.status.busy": "2023-08-01T18:01:18.515374Z",
     "iopub.status.idle": "2023-08-01T18:01:23.985408Z",
     "shell.execute_reply": "2023-08-01T18:01:23.983272Z",
     "shell.execute_reply.started": "2023-08-01T18:01:18.515558Z"
    },
    "papermill": {},
    "scrolled": true,
    "tags": []
   },
   "outputs": [],
   "source": [
    "import pprint \n",
    "max_pages = get_max_pages(f\"https://api.github.com/repos/{owner}/{repo}/events?page=1\", token)\n",
    "total_events = get_all_events(max_pages, owner, repo)\n",
    "pprint.pprint(total_events[0])"
   ]
  },
  {
   "cell_type": "code",
   "execution_count": null,
   "id": "3ab5c651-c259-4592-9c81-27104f0b3f4a",
   "metadata": {},
   "outputs": [],
   "source": []
  }
 ],
 "metadata": {
  "kernelspec": {
   "display_name": "Python 3",
   "language": "python",
   "name": "python3"
  },
  "language_info": {
   "codemirror_mode": {
    "name": "ipython",
    "version": 3
   },
   "file_extension": ".py",
   "mimetype": "text/x-python",
   "name": "python",
   "nbconvert_exporter": "python",
   "pygments_lexer": "ipython3",
   "version": "3.9.6"
  },
  "widgets": {
   "application/vnd.jupyter.widget-state+json": {
    "state": {},
    "version_major": 2,
    "version_minor": 0
   }
  }
 },
 "nbformat": 4,
 "nbformat_minor": 5
}
