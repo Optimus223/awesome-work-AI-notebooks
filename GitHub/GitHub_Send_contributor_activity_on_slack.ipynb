{
 "cells": [
  {
   "cell_type": "markdown",
   "id": "ada9f2a9-8daa-4b89-a03c-ffcdae2fd220",
   "metadata": {
    "papermill": {},
    "tags": []
   },
   "source": [
    "<img width=\"10%\" alt=\"Naas\" src=\"https://landen.imgix.net/jtci2pxwjczr/assets/5ice39g4.png?w=160\"/>"
   ]
  },
  {
   "cell_type": "markdown",
   "id": "373a7231-6f7d-47da-b3cd-6b8f5250223a",
   "metadata": {
    "papermill": {},
    "tags": []
   },
   "source": [
    "# GitHub - Send contributor activity on slack\n",
    "<a href=\"https://app.naas.ai/user-redirect/naas/downloader?url=https://raw.githubusercontent.com/jupyter-naas/awesome-notebooks/master/GitHub/GitHub_Reopen_issue.ipynb\" target=\"_parent\"><img src=\"https://naasai-public.s3.eu-west-3.amazonaws.com/Open_in_Naas_Lab.svg\"/></a><br><br><a href=\"https://github.com/jupyter-naas/awesome-notebooks/issues/new?assignees=&labels=&template=template-request.md&title=Tool+-+Action+of+the+notebook+\">Template request</a> | <a href=\"https://github.com/jupyter-naas/awesome-notebooks/issues/new?assignees=&labels=bug&template=bug_report.md&title=GitHub+-+Reopen+issue:+Error+short+description\">Bug report</a> | <a href=\"https://app.naas.ai/user-redirect/naas/downloader?url=https://raw.githubusercontent.com/jupyter-naas/awesome-notebooks/master/Naas/Naas_Start_data_product.ipynb\" target=\"_parent\">Generate Data Product</a>"
   ]
  },
  {
   "cell_type": "markdown",
   "id": "611b4f12-8112-4e0f-b6ac-5bb96855fa7f",
   "metadata": {
    "papermill": {},
    "tags": []
   },
   "source": [
    "**Tags:** #github #activity #update #api #snippet #operations #slack "
   ]
  },
  {
   "cell_type": "markdown",
   "id": "7903a6e2-70c3-4149-8279-c603417a7836",
   "metadata": {
    "papermill": {},
    "tags": []
   },
   "source": [
    "**Author:** [Benjamin Filly](https://www.linkedin.com/in/benjamin-filly-05427727a/)"
   ]
  },
  {
   "cell_type": "markdown",
   "id": "4e3aadfe-6d61-41b9-80f2-a790718018ee",
   "metadata": {
    "papermill": {},
    "tags": []
   },
   "source": [
    "**Description:** This notebook explains how to send the GitHub activity on Slack, it sends Slack the number of queues made in total, this month, this week and the last 5 made, Then the work ready (For the PR to be put in ready, the last message must be \"Ready to review\") The work in progress is the PR whose last message is not \"Ready to review\", and finally the new issues that do not have an open PR.\n",
    "It takes a little time to execute"
   ]
  },
  {
   "cell_type": "markdown",
   "id": "2b5dcc40-1fac-47c9-b577-26229548f2b1",
   "metadata": {
    "papermill": {},
    "tags": []
   },
   "source": [
    "**References:**\n",
    "- [GitHub REST API Documentation](https://docs.github.com/en/rest/issues/issues?apiVersion=2022-11-28#update-an-issue)\n",
    "- [os](https://docs.python.org/3/library/os.html)\n",
    "- [json](https://docs.python.org/3/library/json.html)\n",
    "- [datetime](https://docs.python.org/3/library/datetime.html)\n",
    "- [pandas](https://pandas.pydata.org/docs/)\n",
    "- [requests](https://docs.python-requests.org/en/latest/)\n",
    "- [slack (naas_drivers)](https://pypi.org/project/naas-drivers/)\n",
    "- [Slack Block Kit Builder](https://app.slack.com/block-kit-builder/)"
   ]
  },
  {
   "cell_type": "markdown",
   "id": "892d0dd8-86b4-4788-86ac-a8a34a29cb94",
   "metadata": {
    "papermill": {},
    "tags": []
   },
   "source": [
    "## Input"
   ]
  },
  {
   "cell_type": "markdown",
   "id": "727b3406-2d41-41ff-aad6-10007bda4a69",
   "metadata": {
    "papermill": {},
    "tags": []
   },
   "source": [
    "### Import libraries"
   ]
  },
  {
   "cell_type": "code",
   "execution_count": 1,
   "id": "c14a82ed-deca-4d54-a1ba-da6356c3865b",
   "metadata": {
    "execution": {
     "iopub.execute_input": "2023-06-27T14:15:40.984099Z",
     "iopub.status.busy": "2023-06-27T14:15:40.983859Z",
     "iopub.status.idle": "2023-06-27T14:15:44.237519Z",
     "shell.execute_reply": "2023-06-27T14:15:44.236826Z",
     "shell.execute_reply.started": "2023-06-27T14:15:40.984044Z"
    },
    "papermill": {},
    "tags": []
   },
   "outputs": [
    {
     "name": "stderr",
     "output_type": "stream",
     "text": [
      "/home/ftp/.local/lib/python3.9/site-packages/slack/deprecation.py:14: UserWarning: slack package is deprecated. Please use slack_sdk.web/webhook/rtm package instead. For more info, go to https://slack.dev/python-slack-sdk/v3-migration/\n",
      "  warnings.warn(message)\n",
      "/home/ftp/.local/lib/python3.9/site-packages/slack/deprecation.py:14: UserWarning: slack.errors package is deprecated. Please use slack_sdk.errors package instead. For more info, go to https://slack.dev/python-slack-sdk/v3-migration/\n",
      "  warnings.warn(message)\n"
     ]
    }
   ],
   "source": [
    "import os\n",
    "import json\n",
    "from datetime import datetime\n",
    "from github import Github\n",
    "import naas\n",
    "import pandas as pd\n",
    "import requests\n",
    "from naas_drivers import slack\n",
    "# The function \"pd.set_option('display.max_colwidth', None)\" is used in pandas, a data manipulation library in Python, to set the maximum width for displaying column contents in a tabular format to be unlimited, allowing the full content of each column to be displayed without truncation.\n",
    "pd.set_option('display.max_colwidth', None)"
   ]
  },
  {
   "cell_type": "markdown",
   "id": "18a7ce29-9182-4b79-8f5f-5032b8b8774f",
   "metadata": {
    "papermill": {},
    "tags": []
   },
   "source": [
    "### Setup Variables\n",
    "- `github_token`: [GitHub token](https://help.github.com/en/github/authenticating-to-github/creating-a-personal-access-token-for-the-command-line)\n",
    "- `contributor_profile`: your GitHub username\n",
    "- `repo_name`: name of the repository in two part: owner_name/repository_name\n",
    "- `slack_bot_token`: [Slack Bot token](https://docs.celigo.com/hc/en-us/articles/7140655476507-How-to-create-an-app-and-retrieve-OAuth-token-in-Slack)\n",
    "- `slack_channel`: The name of the channel you want to send the message"
   ]
  },
  {
   "cell_type": "code",
   "execution_count": 2,
   "id": "ad68a533-dfdb-44ba-b1f8-860bbe5c8d08",
   "metadata": {
    "execution": {
     "iopub.execute_input": "2023-06-27T14:15:44.239349Z",
     "iopub.status.busy": "2023-06-27T14:15:44.238934Z",
     "iopub.status.idle": "2023-06-27T14:15:44.507865Z",
     "shell.execute_reply": "2023-06-27T14:15:44.505320Z",
     "shell.execute_reply.started": "2023-06-27T14:15:44.239314Z"
    },
    "papermill": {},
    "tags": []
   },
   "outputs": [],
   "source": [
    "# Input variables\n",
    "github_token = naas.secret.get(\"GITHUB_TOKEN\") or \"GITHUB_TOKEN\"\n",
    "repo_name = \"jupyter-naas/awesome-notebooks\" #example for naas users\n",
    "contributor_profile = \"GITHUB_USERNAME\"\n",
    "slack_bot_token = naas.secret.get(\"SLACK_BOT_TOKEN\") or \"SLACK_TOKEN\"\n",
    "slack_channel = \"CHANNEL_NAME\""
   ]
  },
  {
   "cell_type": "markdown",
   "id": "ef6aae6b-fe4b-4bc9-955b-533690997ea9",
   "metadata": {
    "papermill": {},
    "tags": []
   },
   "source": [
    "## Model"
   ]
  },
  {
   "cell_type": "markdown",
   "id": "b8be7b04-6d74-4d48-8435-0ea180116c7d",
   "metadata": {
    "execution": {
     "iopub.execute_input": "2023-06-26T09:10:37.794637Z",
     "iopub.status.busy": "2023-06-26T09:10:37.794315Z",
     "iopub.status.idle": "2023-06-26T09:10:37.808867Z",
     "shell.execute_reply": "2023-06-26T09:10:37.807524Z",
     "shell.execute_reply.started": "2023-06-26T09:10:37.794602Z"
    }
   },
   "source": [
    "### Get Closed PRs\n",
    "So here we're filtering out all closed PRs on the `contributor_profile`, then we retrieve the files added by each PR and classify them by month and week."
   ]
  },
  {
   "cell_type": "code",
   "execution_count": 3,
   "id": "b89149bc-9d7b-4d8b-87bc-65c3dc9c2b21",
   "metadata": {
    "execution": {
     "iopub.execute_input": "2023-06-27T14:15:44.509226Z",
     "iopub.status.busy": "2023-06-27T14:15:44.509001Z",
     "iopub.status.idle": "2023-06-27T14:16:10.522163Z",
     "shell.execute_reply": "2023-06-27T14:16:10.521212Z",
     "shell.execute_reply.started": "2023-06-27T14:15:44.509196Z"
    },
    "tags": []
   },
   "outputs": [
    {
     "name": "stdout",
     "output_type": "stream",
     "text": [
      "✅ Pull Requests fetched: 676\n",
      "📌Number of assigned closed PR: 144\n"
     ]
    }
   ],
   "source": [
    "# Connect to the GitHub API\n",
    "g = Github(github_token)\n",
    "\n",
    "# Get the repository\n",
    "repo = g.get_repo(repo_name)\n",
    "\n",
    "# Get the closed PR\n",
    "pull_requests = repo.get_pulls(state='closed', sort='updated', direction='desc')\n",
    "print(\"✅ Pull Requests fetched:\", pull_requests.totalCount)\n",
    "\n",
    "# Iterate over the pull requests and filter by assignee\n",
    "assigned_pull_requests = [pr for pr in pull_requests if pr.assignee and pr.assignee.login == contributor_profile]\n",
    "\n",
    "# Print the closed PR count\n",
    "print(f\"📌Number of assigned closed PR: {len(assigned_pull_requests)}\")"
   ]
  },
  {
   "cell_type": "code",
   "execution_count": 4,
   "id": "69882a68-5f95-4670-a696-db94b5815ac9",
   "metadata": {
    "execution": {
     "iopub.execute_input": "2023-06-27T14:16:10.523769Z",
     "iopub.status.busy": "2023-06-27T14:16:10.523237Z",
     "iopub.status.idle": "2023-06-27T14:16:44.447141Z",
     "shell.execute_reply": "2023-06-27T14:16:44.446403Z",
     "shell.execute_reply.started": "2023-06-27T14:16:10.523733Z"
    }
   },
   "outputs": [
    {
     "name": "stdout",
     "output_type": "stream",
     "text": [
      "1629 feat: SharePoint - Create folder None\n",
      "1640 feat: Clockify - Add user to workspace None\n",
      "1836 feat: LangChain - CSV Agent 2023-06-21 06:58:17\n",
      "1928 feat: Python - Create Secure Hash Algorithm 2023-06-19 09:18:15\n",
      "1951 feat: add #plugin in tags 2023-06-19 07:34:02\n",
      "1912 feat: Harvest - List all clients 2023-06-16 07:53:03\n",
      "1945 feat: OpenAI - Count tokens with tiktoken 2023-06-16 07:43:31\n",
      "1935 feat: push templates to algolia on merge 2023-06-15 13:35:29\n",
      "1916 feat: Algolia - Search index (GET) None\n",
      "1920 feat: Algolia - Get all records from an index 2023-06-15 09:17:17\n",
      "1027 LinkedIn - Send leads and scoring from content interactions to HubSpot None\n",
      "1500 feat: Notion - Create LinkedIn Post from Page Content None\n",
      "1914 feat: Harvest - List all time entries 2023-06-13 17:09:19\n",
      "1852 feat: OS - Basic formulas 2023-06-06 13:55:14\n",
      "1856 feat: Dash - Add a customisable sidebar 2023-06-05 09:46:54\n",
      "1850 feat: Pandas - Basic formulas to manipulate a dataframe 2023-06-04 10:15:31\n",
      "1826 feat: Naas - Send image asset to Notion page 2023-06-03 14:24:43\n",
      "1848 feat: Dash - Create download button 2023-06-03 14:01:36\n",
      "1846 fix: add references, variables description, try except on init to upg… 2023-06-03 10:03:19\n",
      "1844 feat(Dash): Add Create button to refresh page 2023-06-02 14:35:44\n",
      "1842 feat: Dash - Create loading button 2023-06-02 14:11:59\n",
      "1834 feat: LangChain - Pandas Dataframe Agent 2023-06-01 17:10:16\n",
      "1832 feat: Naas - List Schedulers 2023-06-01 08:56:24\n",
      "1828 feat: OpenAI - Create chat conversation with OpenAI 2023-05-31 15:39:46\n",
      "1756 feat: OpenAI - Create chat completion 2023-05-31 14:22:41\n",
      "1824 feat: Python - List specific files from directory and subdirectories 2023-05-31 06:47:25\n",
      "1818 feat: OpenAI - Act as a chef 2023-05-30 10:41:50\n",
      "1811 feat: GitHub - Update an issue 2023-05-26 10:05:50\n",
      "1809 feat: GitHub - Add comment to issue 2023-05-26 08:13:03\n",
      "1801 feat: FEC - Lecture des fichiers 2023-05-24 11:22:59\n",
      "1799 feat: Dash - Create conditional formatting of an HTML element 2023-05-24 10:15:42\n",
      "1794 feat: FEC - Visualiser Charges Horizontal Barchart 2023-05-24 05:46:54\n",
      "1797 feat: Naas - Add or Update Dependency 2023-05-24 05:17:15\n",
      "1791 feat: Python - Calculate time delta between two dates 2023-05-22 16:45:07\n",
      "1777 feat: Gmail - Create GitHub issue on specific email 2023-05-18 09:30:49\n",
      "1732 feat: Stripe - Create a customer 2023-05-18 08:49:21\n",
      "1775 feat: Clockify - CRUD project 2023-05-17 18:03:13\n",
      "1769 feat: Clockify - Get time entries for a user on workspace 2023-05-16 16:27:37\n",
      "1532 feat: LinkedIn Sales Navigator - Extract Accounts List from URL  None\n",
      "1763 feat: Clockify - CRUD client 2023-05-16 08:51:38\n",
      "1765 feat: Clockify - Find tasks on project 2023-05-16 08:22:11\n",
      "1761 feat: Clockify - Find clients on workspace 2023-05-16 08:10:54\n",
      "1759 feat: Clockify - Find all users on workspace 2023-05-16 06:56:13\n",
      "1642 feat: Clockify - Remove user from workspace 2023-05-16 06:53:08\n",
      "1754 feat: Gmail - Send email 2023-05-12 10:14:57\n",
      "1712 feat: HubSpot - Send sales pipeline to Notion 2023-05-10 06:38:00\n",
      "1744 feat: GitHub - Clone repository and switch branch 2023-05-09 07:39:31\n",
      "1742 feat: Python - Set variables in environment 2023-05-09 06:46:22\n",
      "1740 feat: Python - Transform DataFrame to json file 2023-05-09 06:19:53\n",
      "1738 feat: Python - Get next occurrences of a cron job 2023-05-09 05:57:24\n",
      "1736 feat: Naas - Find Asset link from path 2023-05-04 14:19:41\n",
      "1734 feat: BeautifulSoup - List social network links from website 2023-05-02 08:38:56\n",
      "1730 feat: Notion - Add list in page 2023-04-30 16:34:14\n",
      "1725 feat: Notion - Upload image in page 2023-04-28 13:02:02\n",
      "1723 feat: Naas - Add secret 2023-04-27 16:52:37\n",
      "1714 feat: Agicap - Export treasury plan 2023-04-27 07:49:16\n",
      "1716 feat: Stripe - List all customers 2023-04-26 18:43:02\n",
      "1686 feat: GitHub - Remove team membership for a user 2023-04-26 14:06:00\n",
      "1710 feat: Python - Remove folder 2023-04-26 08:41:54\n",
      "1676 feat: GitHub - Add or update team membership for a user 2023-04-26 08:23:08\n",
      "1674 feat: GitHub - Get team membership for a user 2023-04-26 08:13:31\n",
      "1708 feat: Jupyter Notebooks - Apply black on notebook file 2023-04-26 07:42:41\n",
      "1696 feat: Google Slides - Replace text within a shape 2023-04-25 16:42:53\n",
      "1651 feat: GitHub - Download repository from URL 2023-04-24 17:36:44\n",
      "1684 feat: Naas - Add Webhook 2023-04-24 17:09:02\n",
      "1703 feat: Notion - Update page relation 2023-04-24 16:45:30\n",
      "1530 feat: Crunchbase - Search Data None\n",
      "1701 feat: Google Slides - Duplicate slide 2023-04-24 09:29:00\n",
      "1699 feat: Google Slides - List slides in presentation 2023-04-24 08:44:41\n",
      "1691 feat: Google Slides - Create a Slide 2023-04-24 08:10:35\n",
      "1688 feat: Google Slides - Create a blank presentation 2023-04-23 19:38:15\n",
      "1694 feat: Google Slides - Replace text within a shape None\n",
      "1672 feat: GitHub - List team members 2023-04-19 16:15:21\n",
      "1670 feat: GitHub - List pending team invitations 2023-04-19 15:55:36\n",
      "1663 feat: Notion - Update database with GitHub repositories info 2023-04-13 15:39:05\n",
      "1660 feat: Naas - Start data product 2023-04-12 16:19:24\n",
      "1654 feat: OpenAI - Generate README for GitHub repository 2023-04-11 19:01:52\n",
      "1644 feat: Clockify - Get all projects on workspace 2023-04-11 18:30:39\n",
      "1656 feat: Python - Remove file 2023-04-11 18:10:27\n",
      "1636 feat: Boursorama - Get EURIBOR 3 MOIS 2023-04-05 18:01:03\n",
      "1638 feat: Clockify - Get all my workspaces 2023-04-05 17:51:16\n",
      "1634 feat: Python - Flatten nested dict 2023-04-04 15:36:44\n",
      "1626 feat: Pandas - Flatten MultiIndex Columns 2023-03-31 13:43:09\n",
      "1619 feat: Python - Get list of biggest cities in the world 2023-03-29 17:40:01\n",
      "1624 feat: Python - Convert URL to string 2023-03-29 17:11:21\n",
      "1622 feat: Python - Convert string to URL 2023-03-29 17:01:38\n",
      "1615 feat: GitHub - Download Excel file from URL 2023-03-29 09:18:47\n",
      "1613 feat: Excel - List sheets 2023-03-29 09:13:09\n",
      "1603 feat: Python - Get coordinates from City 2023-03-24 14:51:44\n",
      "1555 feat: Plotly - Display Values by City in Worldmap 2023-03-24 13:40:54\n",
      "1583 feat: Buffer - Create update None\n",
      "1586 feat: Buffer - List profiles None\n",
      "1588 feat: Buffer - Get profile schedules None\n",
      "1595 feat: GitHub - Send stargazers to Google Sheets 2023-03-24 09:44:33\n",
      "1593 feat: SEON - Get email info 2023-03-24 08:31:56\n",
      "1581 feat: Naas - Add and Delete Asset 2023-03-21 17:35:25\n",
      "1498 feat: LinkedIn - Create Post 2023-03-20 09:40:48\n",
      "1534 feat: Notion - Update Database with LinkedIn Company Info 2023-03-17 13:20:16\n",
      "1573 feat: update example with naas_drivers.notion 2023-03-15 11:08:06\n",
      "1572 feat: Naas - Delete Scheduler 2023-03-15 10:45:46\n",
      "1570 feat: Naas - Add Scheduler 2023-03-15 08:48:46\n",
      "1551 feat: GitHub - Get files changed on pull request 2023-03-13 09:53:07\n",
      "1553 feat: Bitly - Display Values by Country in Worldmap 2023-03-10 13:02:48\n",
      "1549 feat: GitHub - List pull requests 2023-03-09 10:25:57\n",
      "1547 feat: Creditsafe - Get Company Credit Report 2023-03-09 08:28:39\n",
      "1539 feat: GitHub - Get a repository 2023-03-05 20:40:09\n",
      "1537 feat: GitHub - List organization repositories 2023-03-05 20:30:47\n",
      "1526 feat: Pandas - Filter DataFrame 2023-03-02 18:35:24\n",
      "1515 feat: LinkedIn Sales Navigator - Extract Leads List from URL 2023-03-02 18:23:12\n",
      "1507 feat: Bitly - Get Metrics for a Bitlink by City 2023-02-28 18:16:43\n",
      "1509 feat: Bitly - Get Clicks for a Bitlink 2023-02-28 18:12:36\n",
      "1511 feat: Bitly - Get Metrics for a Bitlink by Device Type 2023-02-28 18:08:56\n",
      "1476 Bitly - Get Metrics for a Bitlink by Country 2023-02-28 18:07:58\n",
      "1474 Bitly - Get a Clicks Summary for a Bitlink 2023-02-28 17:56:55\n",
      "1473 Bitly - Get a Clicks Summary for a Bitlink None\n",
      "1513 feat: Bitly - Get Metrics for a Bitlink by Referrers 2023-02-28 17:42:10\n",
      "1504 feat: Bitly - Update a Bitlink 2023-02-28 17:28:26\n",
      "1502 feat: Bitly - Delete a Bitlink 2023-02-28 17:28:11\n",
      "1457 feat(GitHub): Add Create Pull Request 2023-02-28 10:49:43\n",
      "1521 feat: Python - Create Email Combination with Firstname, Lastname, Domain address 2023-02-28 10:09:34\n",
      "1519 feat: ZeroBounce - Validate Single Email 2023-02-27 18:32:27\n",
      "1463 feat(GitHub): Add Get Closed PR by repo 2023-02-24 15:33:35\n",
      "1442 feat: bitly list active links 2023-02-24 07:29:34\n",
      "1496 feat: GitHub - Get files added on Pull Request Merged 2023-02-24 17:16:23\n",
      "1467 feat(Abstract API): Add Check Email Validation 2023-02-24 15:46:36\n",
      "1494 OpenAI - Write a job description 2023-02-24 11:14:29\n",
      "1471 Python - Get last file modified from directy 2023-02-24 10:33:44\n",
      "1492 OpenAI - Write an outline 2023-02-24 10:31:06\n",
      "1490 OpenAI - Brainstorm ideas 2023-02-24 10:17:35\n",
      "1488 OpenAI - Write a press release 2023-02-24 09:57:14\n",
      "1486 OpenAI - Write a social media post 2023-02-24 09:40:23\n",
      "1484 OpenAI - Write a blog post 2023-02-24 09:39:34\n",
      "1439 feat: bitly create links 2023-02-21 07:27:43\n",
      "1455 feat(SWIFT): Add Create MT940 XML file 2023-02-17 19:52:48\n",
      "1448 feat: beautifulsoup scrape emails from URL 2023-02-17 19:45:44\n",
      "1447 feat(Python): Add Check email validity 2023-02-17 19:20:52\n",
      "1349 feat: SQLite create database file 2023-01-10 19:18:35\n",
      "1351 feat: Agicap list companies 2023-01-10 19:17:50\n",
      "1312 feat: pandas fill empty values template v0 2022-11-29 10:39:41\n",
      "1252 1177 hubspot create contact from linkedin profile 2022-10-18 12:10:30\n",
      "332 Patch gautier vivard 2022-03-08 11:38:34\n",
      "333 fix: google analytics final tunning 2022-03-07 12:03:24\n",
      "311 feat: update linkedin+notion 2022-02-03 08:36:27\n",
      "310 feat: use github driver function to get commits + rework notebook 2022-02-02 07:42:52\n",
      "📈 Total number of files added: 256\n",
      "📁 Number of Files added this month: 57 (+51 vs last month)\n",
      "📂 Number of Files added this week: 0 (+-2 vs last week)\n"
     ]
    }
   ],
   "source": [
    "import datetime\n",
    "\n",
    "# Create an empty list to store the files added in closed pull requests\n",
    "files_added_month = []\n",
    "files_added_week = []\n",
    "files_added = []\n",
    "\n",
    "# Get the current date\n",
    "current_date = datetime.datetime.now()\n",
    "\n",
    "# Iterate over the assigned closed pull requests\n",
    "for pr in assigned_pull_requests:\n",
    "    print(pr.number, pr.title, pr.merged_at)\n",
    "    \n",
    "    # Get files added\n",
    "    files = pr.get_files()\n",
    "    \n",
    "    # Get the date the file was created\n",
    "    file_created = pr.merged_at\n",
    "    \n",
    "    days_diff = None  # Initialize days_diff\n",
    "    \n",
    "    if file_created is not None:\n",
    "        # Calculate the difference in days between the current date and file creation date\n",
    "        days_diff = (current_date - file_created).days\n",
    "        \n",
    "        # Iterate over the files added in the pull request\n",
    "        for file in files:\n",
    "            file_path = file.filename\n",
    "            file_url = file.raw_url\n",
    "\n",
    "            # Prep data\n",
    "            tmp = {\n",
    "                \"file_path\": file_path,\n",
    "                \"file_url\": file_url,\n",
    "                \"file_created\": pr.merged_at,\n",
    "                \"pr_number\": pr.number,\n",
    "                \"pr_title\": pr.title,\n",
    "                \"pr_url\": pr.url,\n",
    "            }\n",
    "            \n",
    "            # Add the data to the respective lists based on the file creation date\n",
    "            if days_diff is not None and days_diff <= 30:\n",
    "                files_added_month.append(tmp)\n",
    "            if days_diff is not None and days_diff <= 7:\n",
    "                files_added_week.append(tmp)\n",
    "            \n",
    "            # Add the data to the files_added list\n",
    "            files_added.append(tmp)\n",
    "\n",
    "# Calculate the variation between the current month and the last month\n",
    "current_month = current_date.month\n",
    "last_month = current_month - 1 if current_month > 1 else 12\n",
    "files_added_current_month = [file for file in files_added_month if file['file_created'].month == current_month]\n",
    "files_added_last_month = [file for file in files_added_month if file['file_created'].month == last_month]\n",
    "variation_month = len(files_added_current_month) - len(files_added_last_month)\n",
    "\n",
    "# Calculate the variation between the current week and the last week\n",
    "current_week = current_date.isocalendar()[1]\n",
    "last_week = current_week - 1 if current_week > 1 else 52\n",
    "files_added_current_week = [file for file in files_added_week if file['file_created'].isocalendar()[1] == current_week]\n",
    "files_added_last_week = [file for file in files_added_week if file['file_created'].isocalendar()[1] == last_week]\n",
    "variation_week = len(files_added_current_week) - len(files_added_last_week)\n",
    "\n",
    "# Print the number of files added and the variations\n",
    "print(f\"📈 Total number of files added: {len(files_added)}\")\n",
    "print(f\"📁 Number of Files added this month: {len(files_added_current_month)} (+{variation_month} vs last month)\")\n",
    "print(f\"📂 Number of Files added this week: {len(files_added_current_week)} (+{variation_week} vs last week)\")\n"
   ]
  },
  {
   "cell_type": "markdown",
   "id": "528c059d-c5dc-4379-b364-5d8ca8bf7af9",
   "metadata": {
    "papermill": {},
    "tags": []
   },
   "source": [
    "### Get PRs\n",
    "Here we retrieve all open PRs"
   ]
  },
  {
   "cell_type": "code",
   "execution_count": 5,
   "id": "88872b50-4781-4226-bcf4-1983b5968990",
   "metadata": {
    "execution": {
     "iopub.execute_input": "2023-06-27T14:16:44.448434Z",
     "iopub.status.busy": "2023-06-27T14:16:44.448198Z",
     "iopub.status.idle": "2023-06-27T14:16:55.731124Z",
     "shell.execute_reply": "2023-06-27T14:16:55.730429Z",
     "shell.execute_reply.started": "2023-06-27T14:16:44.448404Z"
    },
    "tags": []
   },
   "outputs": [
    {
     "name": "stdout",
     "output_type": "stream",
     "text": [
      "✅ Pull Requests fetched: 23\n"
     ]
    },
    {
     "data": {
      "text/html": [
       "<div>\n",
       "<style scoped>\n",
       "    .dataframe tbody tr th:only-of-type {\n",
       "        vertical-align: middle;\n",
       "    }\n",
       "\n",
       "    .dataframe tbody tr th {\n",
       "        vertical-align: top;\n",
       "    }\n",
       "\n",
       "    .dataframe thead th {\n",
       "        text-align: right;\n",
       "    }\n",
       "</style>\n",
       "<table border=\"1\" class=\"dataframe\">\n",
       "  <thead>\n",
       "    <tr style=\"text-align: right;\">\n",
       "      <th></th>\n",
       "      <th>title</th>\n",
       "      <th>number</th>\n",
       "      <th>url</th>\n",
       "      <th>assignee</th>\n",
       "      <th>created_at</th>\n",
       "      <th>updated_at</th>\n",
       "    </tr>\n",
       "  </thead>\n",
       "  <tbody>\n",
       "    <tr>\n",
       "      <th>0</th>\n",
       "      <td>feat: GitHub send contributor activity on slack</td>\n",
       "      <td>1961</td>\n",
       "      <td>https://api.github.com/repos/jupyter-naas/awesome-notebooks/pulls/1961</td>\n",
       "      <td>Benjifilly</td>\n",
       "      <td>2023-06-23T10:19:01Z</td>\n",
       "      <td>2023-06-27T13:37:40Z</td>\n",
       "    </tr>\n",
       "    <tr>\n",
       "      <th>1</th>\n",
       "      <td>feat: Naas - Create templates using MyChatGPT</td>\n",
       "      <td>1947</td>\n",
       "      <td>https://api.github.com/repos/jupyter-naas/awesome-notebooks/pulls/1947</td>\n",
       "      <td>FlorentLvr</td>\n",
       "      <td>2023-06-16T07:36:06Z</td>\n",
       "      <td>2023-06-20T09:21:59Z</td>\n",
       "    </tr>\n",
       "    <tr>\n",
       "      <th>2</th>\n",
       "      <td>feat: LangChain - Create embeddings from awesome-notebooks repository</td>\n",
       "      <td>1942</td>\n",
       "      <td>https://api.github.com/repos/jupyter-naas/awesome-notebooks/pulls/1942</td>\n",
       "      <td>Dr0p42</td>\n",
       "      <td>2023-06-15T14:51:14Z</td>\n",
       "      <td>2023-06-15T14:51:16Z</td>\n",
       "    </tr>\n",
       "  </tbody>\n",
       "</table>\n",
       "</div>"
      ],
      "text/plain": [
       "                                                                   title  \\\n",
       "0                        feat: GitHub send contributor activity on slack   \n",
       "1                          feat: Naas - Create templates using MyChatGPT   \n",
       "2  feat: LangChain - Create embeddings from awesome-notebooks repository   \n",
       "\n",
       "   number  \\\n",
       "0    1961   \n",
       "1    1947   \n",
       "2    1942   \n",
       "\n",
       "                                                                      url  \\\n",
       "0  https://api.github.com/repos/jupyter-naas/awesome-notebooks/pulls/1961   \n",
       "1  https://api.github.com/repos/jupyter-naas/awesome-notebooks/pulls/1947   \n",
       "2  https://api.github.com/repos/jupyter-naas/awesome-notebooks/pulls/1942   \n",
       "\n",
       "     assignee            created_at            updated_at  \n",
       "0  Benjifilly  2023-06-23T10:19:01Z  2023-06-27T13:37:40Z  \n",
       "1  FlorentLvr  2023-06-16T07:36:06Z  2023-06-20T09:21:59Z  \n",
       "2      Dr0p42  2023-06-15T14:51:14Z  2023-06-15T14:51:16Z  "
      ]
     },
     "execution_count": 5,
     "metadata": {},
     "output_type": "execute_result"
    }
   ],
   "source": [
    "# Connect to the GitHub API\n",
    "g = Github(github_token)\n",
    "# Get the repository\n",
    "repo = g.get_repo(repo_name)\n",
    "# Get the closed PR\n",
    "pull_requests = repo.get_pulls(state=\"open\")\n",
    "\n",
    "# Print the closed PR\n",
    "print(\"✅ Pull Requests fetched:\", pull_requests.totalCount)\n",
    "data = []\n",
    "for index, pr in enumerate(pull_requests):\n",
    "    # Init\n",
    "    assignee_login = None\n",
    "    assignee = pr.raw_data.get(\"assignee\")\n",
    "    if assignee:\n",
    "        assignee_login = assignee.get(\"login\")\n",
    "    tmp = {\n",
    "        \"title\": pr.title,\n",
    "        \"number\": pr.number,\n",
    "        \"url\": pr.raw_data.get(\"url\"),\n",
    "        \"assignee\": assignee_login,\n",
    "        \"created_at\": pr.raw_data.get(\"created_at\"),\n",
    "        \"updated_at\": pr.raw_data.get(\"updated_at\"),\n",
    "    }\n",
    "    data.append(tmp)\n",
    "\n",
    "df_pr = pd.DataFrame(data)\n",
    "df_pr.head(3)"
   ]
  },
  {
   "cell_type": "markdown",
   "id": "ceafa407-d67a-4654-818d-e63c2f7854b4",
   "metadata": {},
   "source": [
    "### Filter dataframe on contributor\n",
    "Then we filter them using the given `contributor_profile`"
   ]
  },
  {
   "cell_type": "code",
   "execution_count": 6,
   "id": "7c1552cd-5db7-4fd6-be06-17f6f6ef9101",
   "metadata": {
    "execution": {
     "iopub.execute_input": "2023-06-27T14:16:55.733676Z",
     "iopub.status.busy": "2023-06-27T14:16:55.733236Z",
     "iopub.status.idle": "2023-06-27T14:16:55.744313Z",
     "shell.execute_reply": "2023-06-27T14:16:55.743620Z",
     "shell.execute_reply.started": "2023-06-27T14:16:55.733641Z"
    },
    "tags": []
   },
   "outputs": [
    {
     "name": "stdout",
     "output_type": "stream",
     "text": [
      "✅ PR Opened: 6\n"
     ]
    },
    {
     "data": {
      "text/html": [
       "<div>\n",
       "<style scoped>\n",
       "    .dataframe tbody tr th:only-of-type {\n",
       "        vertical-align: middle;\n",
       "    }\n",
       "\n",
       "    .dataframe tbody tr th {\n",
       "        vertical-align: top;\n",
       "    }\n",
       "\n",
       "    .dataframe thead th {\n",
       "        text-align: right;\n",
       "    }\n",
       "</style>\n",
       "<table border=\"1\" class=\"dataframe\">\n",
       "  <thead>\n",
       "    <tr style=\"text-align: right;\">\n",
       "      <th></th>\n",
       "      <th>title</th>\n",
       "      <th>number</th>\n",
       "      <th>url</th>\n",
       "      <th>assignee</th>\n",
       "      <th>created_at</th>\n",
       "      <th>updated_at</th>\n",
       "    </tr>\n",
       "  </thead>\n",
       "  <tbody>\n",
       "    <tr>\n",
       "      <th>0</th>\n",
       "      <td>feat: Naas - Create templates using MyChatGPT</td>\n",
       "      <td>1947</td>\n",
       "      <td>https://api.github.com/repos/jupyter-naas/awesome-notebooks/pulls/1947</td>\n",
       "      <td>FlorentLvr</td>\n",
       "      <td>2023-06-16T07:36:06Z</td>\n",
       "      <td>2023-06-20T09:21:59Z</td>\n",
       "    </tr>\n",
       "  </tbody>\n",
       "</table>\n",
       "</div>"
      ],
      "text/plain": [
       "                                           title  number  \\\n",
       "0  feat: Naas - Create templates using MyChatGPT    1947   \n",
       "\n",
       "                                                                      url  \\\n",
       "0  https://api.github.com/repos/jupyter-naas/awesome-notebooks/pulls/1947   \n",
       "\n",
       "     assignee            created_at            updated_at  \n",
       "0  FlorentLvr  2023-06-16T07:36:06Z  2023-06-20T09:21:59Z  "
      ]
     },
     "execution_count": 6,
     "metadata": {},
     "output_type": "execute_result"
    }
   ],
   "source": [
    "contributor_filtered_df = df_pr[df_pr['assignee'] == contributor_profile].reset_index(drop=True)\n",
    "print(\"✅ PR Opened:\", len(contributor_filtered_df))\n",
    "contributor_filtered_df.head(1)"
   ]
  },
  {
   "cell_type": "markdown",
   "id": "1629a4ed-89fd-444f-b99e-23d6a92a93c6",
   "metadata": {},
   "source": [
    "### Get PR in Review and WIP"
   ]
  },
  {
   "cell_type": "markdown",
   "id": "7bde03f0-5cca-4e13-8e60-3a8e74ce837c",
   "metadata": {
    "execution": {
     "iopub.execute_input": "2023-06-26T08:54:48.608487Z",
     "iopub.status.busy": "2023-06-26T08:54:48.608244Z",
     "iopub.status.idle": "2023-06-26T08:54:48.613827Z",
     "shell.execute_reply": "2023-06-26T08:54:48.612781Z",
     "shell.execute_reply.started": "2023-06-26T08:54:48.608461Z"
    },
    "tags": []
   },
   "source": [
    "We loop over each PR to see if the last message is \"Ready to review\", if so we put it in the finished category otherwise in work in progress. We also look to see if there is a link to a PR in the description, which allows us to sort the new issues more easily and reliably."
   ]
  },
  {
   "cell_type": "code",
   "execution_count": 7,
   "id": "363b9853-cd64-4448-b735-2bc69dba23cc",
   "metadata": {
    "execution": {
     "iopub.execute_input": "2023-06-27T14:16:55.745996Z",
     "iopub.status.busy": "2023-06-27T14:16:55.745579Z",
     "iopub.status.idle": "2023-06-27T14:16:56.898559Z",
     "shell.execute_reply": "2023-06-27T14:16:56.897935Z",
     "shell.execute_reply.started": "2023-06-27T14:16:55.745966Z"
    },
    "tags": []
   },
   "outputs": [
    {
     "name": "stdout",
     "output_type": "stream",
     "text": [
      "✅ Pull Requests in Review: 0\n",
      "👨‍💻 Pull Requests Work in Progress: 6\n",
      "💻 Issues linked in PRs: 6\n"
     ]
    }
   ],
   "source": [
    "# Init - Create empty list\n",
    "prs_in_review = []\n",
    "prs_work_in_progress = []\n",
    "prs_linked_to_issues = []\n",
    "prs_numbers = []\n",
    "\n",
    "# Loop in df and last message on each PR\n",
    "for row in contributor_filtered_df.itertuples():\n",
    "    # Display PR number\n",
    "    pr_number = row.number\n",
    "    \n",
    "    # Append prs numbers\n",
    "    prs_numbers.append(str(pr_number))\n",
    "    \n",
    "    # Get PR object\n",
    "    pr = next((pr for pr in pull_requests if pr.number == pr_number), None)\n",
    "    \n",
    "    # If PR exists then get comments\n",
    "    if pr:\n",
    "        # Get PR description\n",
    "        pr_description = pr.body\n",
    "        issue_number = None\n",
    "        if pr_description:\n",
    "            # Split description to get issue number\n",
    "            split_result = pr_description.split(\"https://github.com/jupyter-naas/awesome-notebooks/issues/\")\n",
    "\n",
    "            # If list > 1 then issue number exists\n",
    "            if len(split_result) > 1:\n",
    "                # Get issue number\n",
    "                issue_number = split_result[1]\n",
    "        if issue_number:\n",
    "            prs_linked_to_issues.append(issue_number)\n",
    "\n",
    "        # Get comments from PR\n",
    "        comments = pr.get_issue_comments()\n",
    "        \n",
    "        # Check if nb comments > 0 else PR status = WIP\n",
    "        if comments.totalCount > 0:\n",
    "            last_comment = comments[comments.totalCount-1].body.lower()\n",
    "            \n",
    "            # Check if \"read to review\" else PR status = WIP\n",
    "            if \"ready to review\" in last_comment:\n",
    "                prs_in_review.append(pr)\n",
    "            else:\n",
    "                prs_work_in_progress.append(pr)\n",
    "        else:\n",
    "            prs_work_in_progress.append(pr)\n",
    "            \n",
    "print(\"✅ Pull Requests in Review:\", len(prs_in_review))\n",
    "print(\"👨‍💻 Pull Requests Work in Progress:\", len(prs_work_in_progress))\n",
    "print(\"💻 Issues linked in PRs:\", len(prs_linked_to_issues))"
   ]
  },
  {
   "cell_type": "markdown",
   "id": "d4fb0b7d-21a7-41e2-8acb-8b6155097b5b",
   "metadata": {
    "papermill": {},
    "tags": []
   },
   "source": [
    "### Get issues by contributor\n",
    "Here we retrieve the issues and sort them on the `contributor_profile`, then we exclude issues linked to a PR."
   ]
  },
  {
   "cell_type": "code",
   "execution_count": 8,
   "id": "004fd8ac-a3f9-4b8b-bb6a-7970dd356b8c",
   "metadata": {
    "execution": {
     "iopub.execute_input": "2023-06-27T14:16:56.901096Z",
     "iopub.status.busy": "2023-06-27T14:16:56.900918Z",
     "iopub.status.idle": "2023-06-27T14:16:57.417119Z",
     "shell.execute_reply": "2023-06-27T14:16:57.416440Z",
     "shell.execute_reply.started": "2023-06-27T14:16:56.901076Z"
    },
    "tags": []
   },
   "outputs": [
    {
     "name": "stdout",
     "output_type": "stream",
     "text": [
      "✅ Issues fetched: 31\n"
     ]
    }
   ],
   "source": [
    "# Get the repository\n",
    "repository = g.get_repo(f'{repo_name}')\n",
    "\n",
    "# Get issues assigned to the contributor\n",
    "issues = repository.get_issues(assignee=contributor_profile)\n",
    "\n",
    "# Print number of issues\n",
    "print(\"✅ Issues fetched:\", issues.totalCount)"
   ]
  },
  {
   "cell_type": "code",
   "execution_count": 9,
   "id": "11c98e27-1dc6-458f-94e8-68dfc1c0eeea",
   "metadata": {
    "execution": {
     "iopub.execute_input": "2023-06-27T14:16:57.418449Z",
     "iopub.status.busy": "2023-06-27T14:16:57.418206Z",
     "iopub.status.idle": "2023-06-27T14:17:05.189287Z",
     "shell.execute_reply": "2023-06-27T14:17:05.188746Z",
     "shell.execute_reply.started": "2023-06-27T14:16:57.418419Z"
    },
    "tags": []
   },
   "outputs": [
    {
     "name": "stdout",
     "output_type": "stream",
     "text": [
      "✅ New issues: 17\n"
     ]
    },
    {
     "data": {
      "text/plain": [
       "[Issue(title=\"CICD - Push templates to /sites on merge\", number=1948),\n",
       " Issue(title=\"LinkedIn - Modify get posts stats from profile to have a JSON plugin\", number=1939),\n",
       " Issue(title=\"QuickBooks - Full update a customer\", number=1717),\n",
       " Issue(title=\"LinkedIn Sales Navigator - Extract Leads List from URL: 403 client error\", number=1692),\n",
       " Issue(title=\"Generate Awesome notebook templates with OpenAI on new issue created with \"good first issue\" label\", number=1431),\n",
       " Issue(title=\"LinkedIn - Send event invitations post engagements: Can not invite people (403)\", number=1384),\n",
       " Issue(title=\"Update generate readme awesome notebooks\", number=1333),\n",
       " Issue(title=\"LinkedIn - Close event invitations\", number=1321),\n",
       " Issue(title=\"Dash - Create search bar with options\", number=1175),\n",
       " Issue(title=\"LinkedIn - Add extension doc + legal in awesome-notebooks for every templates \", number=1153),\n",
       " Issue(title=\"LinkedIn - Send invitation and first message to new post's followers\", number=1023),\n",
       " Issue(title=\"LinkedIn - Get new post's followers\", number=1020),\n",
       " Issue(title=\"LinkedIn - Follow number of people who view my profile\", number=1005),\n",
       " Issue(title=\" LinkedIn - Send likes to company posts\", number=976),\n",
       " Issue(title=\"LinkedIn - Send likes to profile posts\", number=975),\n",
       " Issue(title=\"LinkedIn - Send invitation from profile views\", number=974),\n",
       " Issue(title=\"LinkedIn - Send saved items to Notion\", number=163)]"
      ]
     },
     "execution_count": 9,
     "metadata": {},
     "output_type": "execute_result"
    }
   ],
   "source": [
    "# Init variables\n",
    "new_issues = []\n",
    "\n",
    "# Loop\n",
    "for issue in issues:\n",
    "    # Init\n",
    "    issue_number = issue.number\n",
    "    \n",
    "    # List events in issues\n",
    "    events = issue.get_events()\n",
    "    list_events = [event.event for event in events]\n",
    "    \n",
    "    # Exclude issues linked to PR or with events connected\n",
    "    if (str(issue_number) not in prs_linked_to_issues) and ('connected' not in list_events) and (str(issue_number) not in prs_numbers):\n",
    "        new_issues.append(issue)\n",
    "\n",
    "print(\"✅ New issues:\", len(new_issues))\n",
    "new_issues"
   ]
  },
  {
   "cell_type": "markdown",
   "id": "a8dee826-263c-4434-8116-5f2e0eb89d88",
   "metadata": {},
   "source": [
    "### Create Slack block\n",
    "The code below is the message that will be sent to Slack [Create your own message](https://app.slack.com/block-kit-builder/)"
   ]
  },
  {
   "cell_type": "code",
   "execution_count": 10,
   "id": "4b5cccca-89dc-46cb-a11f-ea70da61150b",
   "metadata": {
    "execution": {
     "iopub.execute_input": "2023-06-27T14:17:05.190320Z",
     "iopub.status.busy": "2023-06-27T14:17:05.190149Z",
     "iopub.status.idle": "2023-06-27T14:17:05.200858Z",
     "shell.execute_reply": "2023-06-27T14:17:05.200354Z",
     "shell.execute_reply.started": "2023-06-27T14:17:05.190300Z"
    },
    "tags": []
   },
   "outputs": [],
   "source": [
    "from datetime import datetime\n",
    "\n",
    "# Sort the lists\n",
    "prs_in_review.sort(key=lambda pr: pr.number, reverse=True)\n",
    "prs_work_in_progress.sort(key=lambda pr: pr.number, reverse=True)\n",
    "new_issues.sort(key=lambda issue: issue.number, reverse=True)\n",
    "\n",
    "# Get the current date and time\n",
    "current_date = datetime.now().strftime(\"%B %d, %Y %H:%M\")\n",
    "\n",
    "blocks = [\n",
    "    {\n",
    "        \"type\": \"header\",\n",
    "        \"text\": {\n",
    "            \"type\": \"plain_text\",\n",
    "            \"text\": f\"{contributor_profile} - Activity update as of {current_date}\",\n",
    "            \"emoji\": True\n",
    "        }\n",
    "    },\n",
    "    {\n",
    "        \"type\": \"divider\"\n",
    "    },\n",
    "    {\n",
    "        \"type\": \"header\",\n",
    "        \"text\": {\n",
    "            \"type\": \"plain_text\",\n",
    "            \"text\": f\"📓 Templates created: {len(files_added)}\",\n",
    "            \"emoji\": True\n",
    "        }\n",
    "    },\n",
    "     {\n",
    "        \"type\": \"section\",\n",
    "        \"text\": {\n",
    "            \"type\": \"mrkdwn\",\n",
    "            \"text\": f\"This month: {len(files_added_current_month)} (+{variation_month} vs last month)\\nThis week: {len(files_added_current_week)} (+{variation_week} vs last week)\"\n",
    "        }\n",
    "    },\n",
    "    {\n",
    "        \"type\": \"divider\"\n",
    "    },\n",
    "    {\n",
    "        \"type\": \"section\",\n",
    "        \"text\": {\n",
    "            \"type\": \"mrkdwn\",\n",
    "            \"text\": f\"✅ *List of PRs to be validated ({len(prs_in_review)}):*\"\n",
    "        }\n",
    "    },\n",
    "    *[\n",
    "        {\n",
    "            \"type\": \"section\",\n",
    "            \"text\": {\n",
    "                \"type\": \"mrkdwn\",\n",
    "                \"text\": f\"- <{pr.html_url}|#{pr.number} {pr.title}>\"\n",
    "            }\n",
    "        }\n",
    "        for pr in prs_in_review\n",
    "    ],\n",
    "    {\n",
    "        \"type\": \"divider\"\n",
    "    },\n",
    "    {\n",
    "        \"type\": \"section\",\n",
    "        \"text\": {\n",
    "            \"type\": \"mrkdwn\",\n",
    "            \"text\": f\"👨‍💻 *List of current PRs ({len(prs_work_in_progress)}):*\"\n",
    "        }\n",
    "    },\n",
    "    *[\n",
    "        {\n",
    "            \"type\": \"section\",\n",
    "            \"text\": {\n",
    "                \"type\": \"mrkdwn\",\n",
    "                \"text\": f\"- <{pr.html_url}|#{pr.number} {pr.title}>\"\n",
    "            }\n",
    "        }\n",
    "        for pr in prs_work_in_progress\n",
    "    ],\n",
    "    {\n",
    "        \"type\": \"divider\"\n",
    "    },\n",
    "    {\n",
    "        \"type\": \"section\",\n",
    "        \"text\": {\n",
    "            \"type\": \"mrkdwn\",\n",
    "            \"text\": f\":bulb: *List of new issues ({len(new_issues)}):*\"\n",
    "        }\n",
    "    },\n",
    "    *[\n",
    "        {\n",
    "            \"type\": \"section\",\n",
    "            \"text\": {\n",
    "                \"type\": \"mrkdwn\",\n",
    "                \"text\": f\"- <{issue.html_url}|#{issue.number} {issue.title}>\"\n",
    "            }\n",
    "        }\n",
    "        for issue in new_issues\n",
    "    ]\n",
    "]\n"
   ]
  },
  {
   "cell_type": "markdown",
   "id": "04c0ae0c-1d5b-49bf-beab-f3d7f57d13a4",
   "metadata": {
    "papermill": {},
    "tags": []
   },
   "source": [
    "## Output"
   ]
  },
  {
   "cell_type": "markdown",
   "id": "a9939de6-9ebd-4814-905c-e5c4edc9aa6a",
   "metadata": {
    "execution": {
     "iopub.execute_input": "2023-06-16T14:58:21.299673Z",
     "iopub.status.busy": "2023-06-16T14:58:21.299316Z",
     "iopub.status.idle": "2023-06-16T14:58:21.306875Z",
     "shell.execute_reply": "2023-06-16T14:58:21.306132Z",
     "shell.execute_reply.started": "2023-06-16T14:58:21.299635Z"
    },
    "tags": []
   },
   "source": [
    "### Send message on Slack"
   ]
  },
  {
   "cell_type": "code",
   "execution_count": 11,
   "id": "97cb8cb4-24e5-411c-a27a-ff58a355d3d4",
   "metadata": {
    "execution": {
     "iopub.execute_input": "2023-06-27T14:17:05.201968Z",
     "iopub.status.busy": "2023-06-27T14:17:05.201740Z",
     "iopub.status.idle": "2023-06-27T14:17:05.546166Z",
     "shell.execute_reply": "2023-06-27T14:17:05.545505Z",
     "shell.execute_reply.started": "2023-06-27T14:17:05.201937Z"
    },
    "papermill": {},
    "tags": []
   },
   "outputs": [
    {
     "name": "stderr",
     "output_type": "stream",
     "text": [
      "/home/ftp/.local/lib/python3.9/site-packages/slack_sdk/web/internal_utils.py:290: UserWarning: The top-level `text` argument is missing in the request payload for a chat.postMessage call - It's a best practice to always provide a `text` argument when posting a message. The `text` argument is used in places where content cannot be rendered such as: system push notifications, assistive technology such as screen readers, etc.\n",
      "  warnings.warn(missing_text_message, UserWarning)\n"
     ]
    },
    {
     "name": "stdout",
     "output_type": "stream",
     "text": [
      "✉️ Message sent\n"
     ]
    }
   ],
   "source": [
    "slack.connect(slack_bot_token).send(slack_channel, text=None, blocks=blocks)"
   ]
  }
 ],
 "metadata": {
  "kernelspec": {
   "display_name": "Python 3",
   "language": "python",
   "name": "python3"
  },
  "language_info": {
   "codemirror_mode": {
    "name": "ipython",
    "version": 3
   },
   "file_extension": ".py",
   "mimetype": "text/x-python",
   "name": "python",
   "nbconvert_exporter": "python",
   "pygments_lexer": "ipython3",
   "version": "3.9.6"
  },
  "naas": {
   "notebook_id": "34d8e5474a94719c1703516d66d3e99cbaaada2b84c29f116ea81516710e5783",
   "notebook_path": "GitHub/GitHub_Reopen_issue.ipynb"
  },
  "papermill": {
   "default_parameters": {},
   "environment_variables": {},
   "parameters": {},
   "version": "2.4.0"
  },
  "widgets": {
   "application/vnd.jupyter.widget-state+json": {
    "state": {},
    "version_major": 2,
    "version_minor": 0
   }
  }
 },
 "nbformat": 4,
 "nbformat_minor": 5
}
