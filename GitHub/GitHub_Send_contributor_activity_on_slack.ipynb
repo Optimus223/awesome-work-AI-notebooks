{
 "cells": [
  {
   "cell_type": "markdown",
   "id": "ada9f2a9-8daa-4b89-a03c-ffcdae2fd220",
   "metadata": {
    "papermill": {},
    "tags": []
   },
   "source": [
    "<img width=\"10%\" alt=\"Naas\" src=\"https://landen.imgix.net/jtci2pxwjczr/assets/5ice39g4.png?w=160\"/>"
   ]
  },
  {
   "cell_type": "markdown",
   "id": "373a7231-6f7d-47da-b3cd-6b8f5250223a",
   "metadata": {
    "papermill": {},
    "tags": []
   },
   "source": [
    "# GitHub - Send contributor activity on slack\n",
    "<a href=\"https://app.naas.ai/user-redirect/naas/downloader?url=https://raw.githubusercontent.com/jupyter-naas/awesome-notebooks/master/GitHub/GitHub_Reopen_issue.ipynb\" target=\"_parent\"><img src=\"https://naasai-public.s3.eu-west-3.amazonaws.com/Open_in_Naas_Lab.svg\"/></a><br><br><a href=\"https://github.com/jupyter-naas/awesome-notebooks/issues/new?assignees=&labels=&template=template-request.md&title=Tool+-+Action+of+the+notebook+\">Template request</a> | <a href=\"https://github.com/jupyter-naas/awesome-notebooks/issues/new?assignees=&labels=bug&template=bug_report.md&title=GitHub+-+Reopen+issue:+Error+short+description\">Bug report</a> | <a href=\"https://app.naas.ai/user-redirect/naas/downloader?url=https://raw.githubusercontent.com/jupyter-naas/awesome-notebooks/master/Naas/Naas_Start_data_product.ipynb\" target=\"_parent\">Generate Data Product</a>"
   ]
  },
  {
   "cell_type": "markdown",
   "id": "611b4f12-8112-4e0f-b6ac-5bb96855fa7f",
   "metadata": {
    "papermill": {},
    "tags": []
   },
   "source": [
    "**Tags:** #github #activity #update #api #snippet #operations #slack "
   ]
  },
  {
   "cell_type": "markdown",
   "id": "7903a6e2-70c3-4149-8279-c603417a7836",
   "metadata": {
    "papermill": {},
    "tags": []
   },
   "source": [
    "**Author:** [Benjamin Filly](https://www.linkedin.com/in/benjamin-filly-05427727a/)"
   ]
  },
  {
   "cell_type": "markdown",
   "id": "4e3aadfe-6d61-41b9-80f2-a790718018ee",
   "metadata": {
    "papermill": {},
    "tags": []
   },
   "source": [
    "**Description:** This notebook explains how to send the GitHub activity on Slack"
   ]
  },
  {
   "cell_type": "markdown",
   "id": "2b5dcc40-1fac-47c9-b577-26229548f2b1",
   "metadata": {
    "papermill": {},
    "tags": []
   },
   "source": [
    "**References:**\n",
    "- [GitHub REST API Documentation](https://docs.github.com/en/rest/issues/issues?apiVersion=2022-11-28#update-an-issue)"
   ]
  },
  {
   "cell_type": "markdown",
   "id": "892d0dd8-86b4-4788-86ac-a8a34a29cb94",
   "metadata": {
    "papermill": {},
    "tags": []
   },
   "source": [
    "## Input"
   ]
  },
  {
   "cell_type": "markdown",
   "id": "727b3406-2d41-41ff-aad6-10007bda4a69",
   "metadata": {
    "papermill": {},
    "tags": []
   },
   "source": [
    "### Import libraries"
   ]
  },
  {
   "cell_type": "code",
   "execution_count": 1,
   "id": "c14a82ed-deca-4d54-a1ba-da6356c3865b",
   "metadata": {
    "execution": {
     "iopub.execute_input": "2023-06-23T08:38:43.145301Z",
     "iopub.status.busy": "2023-06-23T08:38:43.144862Z",
     "iopub.status.idle": "2023-06-23T08:38:46.056123Z",
     "shell.execute_reply": "2023-06-23T08:38:46.055381Z",
     "shell.execute_reply.started": "2023-06-23T08:38:43.145221Z"
    },
    "papermill": {},
    "tags": []
   },
   "outputs": [],
   "source": [
    "import os\n",
    "import json\n",
    "from datetime import datetime\n",
    "from github import Github\n",
    "# from slack_sdk import WebClient\n",
    "# from slack_sdk.errors import SlackApiError\n",
    "import naas\n",
    "import pandas as pd\n",
    "import requests"
   ]
  },
  {
   "cell_type": "markdown",
   "id": "18a7ce29-9182-4b79-8f5f-5032b8b8774f",
   "metadata": {
    "papermill": {},
    "tags": []
   },
   "source": [
    "### Setup Variables\n",
    "- `token`: [GitHub token](https://help.github.com/en/github/authenticating-to-github/creating-a-personal-access-token-for-the-command-line)\n",
    "- `owner`: owner of the repository\n",
    "- `repo`: name of the repository\n",
    "- `issue_number`: number of the issue"
   ]
  },
  {
   "cell_type": "code",
   "execution_count": 2,
   "id": "ad68a533-dfdb-44ba-b1f8-860bbe5c8d08",
   "metadata": {
    "execution": {
     "iopub.execute_input": "2023-06-23T08:38:48.424891Z",
     "iopub.status.busy": "2023-06-23T08:38:48.424656Z",
     "iopub.status.idle": "2023-06-23T08:38:48.694067Z",
     "shell.execute_reply": "2023-06-23T08:38:48.693460Z",
     "shell.execute_reply.started": "2023-06-23T08:38:48.424861Z"
    },
    "papermill": {},
    "tags": []
   },
   "outputs": [],
   "source": [
    "# Input variables\n",
    "github_token = naas.secret.get(\"GITHUB_TOKEN\") or \"GITHUB_TOKEN\"\n",
    "repo_name = \"jupyter-naas/awesome-notebooks\" #example\n",
    "contributor_profile = \"NAME\"\n",
    "slack_bot_token = naas.secret.get(\"SLACK_BOT_TOKEN\") or \"SLACK_TOKEN\"\n",
    "slack_chat = \"<naas-templates-contributors>\""
   ]
  },
  {
   "cell_type": "markdown",
   "id": "ef6aae6b-fe4b-4bc9-955b-533690997ea9",
   "metadata": {
    "papermill": {},
    "tags": []
   },
   "source": [
    "## Model"
   ]
  },
  {
   "cell_type": "markdown",
   "id": "528c059d-c5dc-4379-b364-5d8ca8bf7af9",
   "metadata": {
    "papermill": {},
    "tags": []
   },
   "source": [
    "### Get PRs"
   ]
  },
  {
   "cell_type": "code",
   "execution_count": 3,
   "id": "88872b50-4781-4226-bcf4-1983b5968990",
   "metadata": {
    "execution": {
     "iopub.execute_input": "2023-06-23T08:38:49.384285Z",
     "iopub.status.busy": "2023-06-23T08:38:49.384043Z",
     "iopub.status.idle": "2023-06-23T08:39:04.774556Z",
     "shell.execute_reply": "2023-06-23T08:39:04.773101Z",
     "shell.execute_reply.started": "2023-06-23T08:38:49.384258Z"
    },
    "tags": []
   },
   "outputs": [
    {
     "name": "stdout",
     "output_type": "stream",
     "text": [
      "✅ Pull Requests fetched: 26\n"
     ]
    },
    {
     "data": {
      "text/html": [
       "<div>\n",
       "<style scoped>\n",
       "    .dataframe tbody tr th:only-of-type {\n",
       "        vertical-align: middle;\n",
       "    }\n",
       "\n",
       "    .dataframe tbody tr th {\n",
       "        vertical-align: top;\n",
       "    }\n",
       "\n",
       "    .dataframe thead th {\n",
       "        text-align: right;\n",
       "    }\n",
       "</style>\n",
       "<table border=\"1\" class=\"dataframe\">\n",
       "  <thead>\n",
       "    <tr style=\"text-align: right;\">\n",
       "      <th></th>\n",
       "      <th>title</th>\n",
       "      <th>number</th>\n",
       "      <th>url</th>\n",
       "      <th>assignee</th>\n",
       "      <th>created_at</th>\n",
       "      <th>updated_at</th>\n",
       "    </tr>\n",
       "  </thead>\n",
       "  <tbody>\n",
       "    <tr>\n",
       "      <th>0</th>\n",
       "      <td>feat: convert multiple units</td>\n",
       "      <td>1960</td>\n",
       "      <td>https://api.github.com/repos/jupyter-naas/awes...</td>\n",
       "      <td>Benjifilly</td>\n",
       "      <td>2023-06-21T11:59:56Z</td>\n",
       "      <td>2023-06-21T12:00:12Z</td>\n",
       "    </tr>\n",
       "    <tr>\n",
       "      <th>1</th>\n",
       "      <td>feat: GitHub - List branches</td>\n",
       "      <td>1955</td>\n",
       "      <td>https://api.github.com/repos/jupyter-naas/awes...</td>\n",
       "      <td>Benjifilly</td>\n",
       "      <td>2023-06-20T09:27:49Z</td>\n",
       "      <td>2023-06-21T12:17:53Z</td>\n",
       "    </tr>\n",
       "    <tr>\n",
       "      <th>2</th>\n",
       "      <td>feat: Naas - Create templates using MyChatGPT</td>\n",
       "      <td>1947</td>\n",
       "      <td>https://api.github.com/repos/jupyter-naas/awes...</td>\n",
       "      <td>FlorentLvr</td>\n",
       "      <td>2023-06-16T07:36:06Z</td>\n",
       "      <td>2023-06-20T09:21:59Z</td>\n",
       "    </tr>\n",
       "  </tbody>\n",
       "</table>\n",
       "</div>"
      ],
      "text/plain": [
       "                                           title  number  \\\n",
       "0                   feat: convert multiple units    1960   \n",
       "1                   feat: GitHub - List branches    1955   \n",
       "2  feat: Naas - Create templates using MyChatGPT    1947   \n",
       "\n",
       "                                                 url    assignee  \\\n",
       "0  https://api.github.com/repos/jupyter-naas/awes...  Benjifilly   \n",
       "1  https://api.github.com/repos/jupyter-naas/awes...  Benjifilly   \n",
       "2  https://api.github.com/repos/jupyter-naas/awes...  FlorentLvr   \n",
       "\n",
       "             created_at            updated_at  \n",
       "0  2023-06-21T11:59:56Z  2023-06-21T12:00:12Z  \n",
       "1  2023-06-20T09:27:49Z  2023-06-21T12:17:53Z  \n",
       "2  2023-06-16T07:36:06Z  2023-06-20T09:21:59Z  "
      ]
     },
     "execution_count": 3,
     "metadata": {},
     "output_type": "execute_result"
    }
   ],
   "source": [
    "# Connect to the GitHub API\n",
    "g = Github(github_token)\n",
    "# Get the repository\n",
    "repo = g.get_repo(repo_name)\n",
    "# Get the closed PR\n",
    "pull_requests = repo.get_pulls(state=\"open\")\n",
    "\n",
    "# Print the closed PR\n",
    "print(\"✅ Pull Requests fetched:\", pull_requests.totalCount)\n",
    "data = []\n",
    "for index, pr in enumerate(pull_requests):\n",
    "    # Init\n",
    "    assignee_login = None\n",
    "    assignee = pr.raw_data.get(\"assignee\")\n",
    "    if assignee:\n",
    "        assignee_login = assignee.get(\"login\")\n",
    "    tmp = {\n",
    "        \"title\": pr.title,\n",
    "        \"number\": pr.number,\n",
    "        \"url\": pr.raw_data.get(\"url\"),\n",
    "        \"assignee\": assignee_login,\n",
    "        \"created_at\": pr.raw_data.get(\"created_at\"),\n",
    "        \"updated_at\": pr.raw_data.get(\"updated_at\"),\n",
    "    }\n",
    "    data.append(tmp)\n",
    "\n",
    "df_pr = pd.DataFrame(data)\n",
    "df_pr.head(3)"
   ]
  },
  {
   "cell_type": "markdown",
   "id": "ceafa407-d67a-4654-818d-e63c2f7854b4",
   "metadata": {},
   "source": [
    "### Filter dataframe on contributor\n",
    "Do not forget to use .reset_index(drop=True)"
   ]
  },
  {
   "cell_type": "code",
   "execution_count": 4,
   "id": "7c1552cd-5db7-4fd6-be06-17f6f6ef9101",
   "metadata": {
    "execution": {
     "iopub.execute_input": "2023-06-23T08:39:04.776053Z",
     "iopub.status.busy": "2023-06-23T08:39:04.775777Z",
     "iopub.status.idle": "2023-06-23T08:39:04.785967Z",
     "shell.execute_reply": "2023-06-23T08:39:04.785381Z",
     "shell.execute_reply.started": "2023-06-23T08:39:04.776021Z"
    },
    "tags": []
   },
   "outputs": [
    {
     "data": {
      "text/html": [
       "<div>\n",
       "<style scoped>\n",
       "    .dataframe tbody tr th:only-of-type {\n",
       "        vertical-align: middle;\n",
       "    }\n",
       "\n",
       "    .dataframe tbody tr th {\n",
       "        vertical-align: top;\n",
       "    }\n",
       "\n",
       "    .dataframe thead th {\n",
       "        text-align: right;\n",
       "    }\n",
       "</style>\n",
       "<table border=\"1\" class=\"dataframe\">\n",
       "  <thead>\n",
       "    <tr style=\"text-align: right;\">\n",
       "      <th></th>\n",
       "      <th>title</th>\n",
       "      <th>number</th>\n",
       "      <th>url</th>\n",
       "      <th>assignee</th>\n",
       "      <th>created_at</th>\n",
       "      <th>updated_at</th>\n",
       "    </tr>\n",
       "  </thead>\n",
       "  <tbody>\n",
       "    <tr>\n",
       "      <th>0</th>\n",
       "      <td>feat: convert multiple units</td>\n",
       "      <td>1960</td>\n",
       "      <td>https://api.github.com/repos/jupyter-naas/awes...</td>\n",
       "      <td>Benjifilly</td>\n",
       "      <td>2023-06-21T11:59:56Z</td>\n",
       "      <td>2023-06-21T12:00:12Z</td>\n",
       "    </tr>\n",
       "    <tr>\n",
       "      <th>1</th>\n",
       "      <td>feat: GitHub - List branches</td>\n",
       "      <td>1955</td>\n",
       "      <td>https://api.github.com/repos/jupyter-naas/awes...</td>\n",
       "      <td>Benjifilly</td>\n",
       "      <td>2023-06-20T09:27:49Z</td>\n",
       "      <td>2023-06-21T12:17:53Z</td>\n",
       "    </tr>\n",
       "    <tr>\n",
       "      <th>2</th>\n",
       "      <td>feat: Pandas - Check if column is in date format</td>\n",
       "      <td>1897</td>\n",
       "      <td>https://api.github.com/repos/jupyter-naas/awes...</td>\n",
       "      <td>Benjifilly</td>\n",
       "      <td>2023-06-13T07:54:22Z</td>\n",
       "      <td>2023-06-19T09:32:08Z</td>\n",
       "    </tr>\n",
       "    <tr>\n",
       "      <th>3</th>\n",
       "      <td>feat: Deezer - Get listening history</td>\n",
       "      <td>1888</td>\n",
       "      <td>https://api.github.com/repos/jupyter-naas/awes...</td>\n",
       "      <td>Benjifilly</td>\n",
       "      <td>2023-06-09T09:41:43Z</td>\n",
       "      <td>2023-06-12T09:49:08Z</td>\n",
       "    </tr>\n",
       "    <tr>\n",
       "      <th>4</th>\n",
       "      <td>feat: Request - Handling Errors and Exceptions</td>\n",
       "      <td>1886</td>\n",
       "      <td>https://api.github.com/repos/jupyter-naas/awes...</td>\n",
       "      <td>Benjifilly</td>\n",
       "      <td>2023-06-09T09:33:32Z</td>\n",
       "      <td>2023-06-19T13:56:35Z</td>\n",
       "    </tr>\n",
       "  </tbody>\n",
       "</table>\n",
       "</div>"
      ],
      "text/plain": [
       "                                              title  number  \\\n",
       "0                      feat: convert multiple units    1960   \n",
       "1                      feat: GitHub - List branches    1955   \n",
       "2  feat: Pandas - Check if column is in date format    1897   \n",
       "3              feat: Deezer - Get listening history    1888   \n",
       "4    feat: Request - Handling Errors and Exceptions    1886   \n",
       "\n",
       "                                                 url    assignee  \\\n",
       "0  https://api.github.com/repos/jupyter-naas/awes...  Benjifilly   \n",
       "1  https://api.github.com/repos/jupyter-naas/awes...  Benjifilly   \n",
       "2  https://api.github.com/repos/jupyter-naas/awes...  Benjifilly   \n",
       "3  https://api.github.com/repos/jupyter-naas/awes...  Benjifilly   \n",
       "4  https://api.github.com/repos/jupyter-naas/awes...  Benjifilly   \n",
       "\n",
       "             created_at            updated_at  \n",
       "0  2023-06-21T11:59:56Z  2023-06-21T12:00:12Z  \n",
       "1  2023-06-20T09:27:49Z  2023-06-21T12:17:53Z  \n",
       "2  2023-06-13T07:54:22Z  2023-06-19T09:32:08Z  \n",
       "3  2023-06-09T09:41:43Z  2023-06-12T09:49:08Z  \n",
       "4  2023-06-09T09:33:32Z  2023-06-19T13:56:35Z  "
      ]
     },
     "execution_count": 4,
     "metadata": {},
     "output_type": "execute_result"
    }
   ],
   "source": [
    "contributor_filtered_df = df_pr[df_pr['assignee'] == contributor_profile].reset_index(drop=True)\n",
    "contributor_filtered_df"
   ]
  },
  {
   "cell_type": "markdown",
   "id": "1629a4ed-89fd-444f-b99e-23d6a92a93c6",
   "metadata": {},
   "source": [
    "### Loop on PR to get comments to assign \"in review\" or \"wip\""
   ]
  },
  {
   "cell_type": "code",
   "execution_count": 5,
   "id": "363b9853-cd64-4448-b735-2bc69dba23cc",
   "metadata": {
    "execution": {
     "iopub.execute_input": "2023-06-23T08:39:10.050210Z",
     "iopub.status.busy": "2023-06-23T08:39:10.049970Z",
     "iopub.status.idle": "2023-06-23T08:39:12.182614Z",
     "shell.execute_reply": "2023-06-23T08:39:12.181910Z",
     "shell.execute_reply.started": "2023-06-23T08:39:10.050185Z"
    },
    "tags": []
   },
   "outputs": [
    {
     "name": "stdout",
     "output_type": "stream",
     "text": [
      "✅ Pull Requests in Review:\n",
      "                                              title number  \\\n",
      "0                      feat: convert multiple units   1960   \n",
      "1  feat: Pandas - Check if column is in date format   1897   \n",
      "\n",
      "                                                           url    assignee  \\\n",
      "0  https://github.com/jupyter-naas/awesome-notebooks/pull/1960  Benjifilly   \n",
      "1  https://github.com/jupyter-naas/awesome-notebooks/pull/1897  Benjifilly   \n",
      "\n",
      "           created_at          updated_at  \n",
      "0 2023-06-21 11:59:56 2023-06-21 12:00:12  \n",
      "1 2023-06-13 07:54:22 2023-06-19 09:32:08  \n",
      "--------------------------\n",
      "👨‍💻 Pull Requests Work in Progress:\n",
      "                                            title number  \\\n",
      "0                    feat: GitHub - List branches   1955   \n",
      "1            feat: Deezer - Get listening history   1888   \n",
      "2  feat: Request - Handling Errors and Exceptions   1886   \n",
      "\n",
      "                                                           url    assignee  \\\n",
      "0  https://github.com/jupyter-naas/awesome-notebooks/pull/1955  Benjifilly   \n",
      "1  https://github.com/jupyter-naas/awesome-notebooks/pull/1888  Benjifilly   \n",
      "2  https://github.com/jupyter-naas/awesome-notebooks/pull/1886  Benjifilly   \n",
      "\n",
      "           created_at          updated_at  \n",
      "0 2023-06-20 09:27:49 2023-06-21 12:17:53  \n",
      "1 2023-06-09 09:41:43 2023-06-12 09:49:08  \n",
      "2 2023-06-09 09:33:32 2023-06-19 13:56:35  \n"
     ]
    }
   ],
   "source": [
    "pd.set_option('display.max_colwidth', None)\n",
    "prs_in_review = []\n",
    "prs_work_in_progress = []\n",
    "\n",
    "for index, row in contributor_filtered_df.iterrows():\n",
    "    pr_number = row[\"number\"]\n",
    "    \n",
    "    pr = next((pr for pr in pull_requests if pr.number == pr_number), None)\n",
    "    \n",
    "    if pr:\n",
    "        comments = pr.get_issue_comments()\n",
    "        \n",
    "        if comments.totalCount > 0:\n",
    "            last_comment = comments[0].body.lower()\n",
    "            \n",
    "            if \"ready to review\" in last_comment:\n",
    "                prs_in_review.append(pr)\n",
    "            else:\n",
    "                prs_work_in_progress.append(pr)\n",
    "        else:\n",
    "            prs_work_in_progress.append(pr)\n",
    "\n",
    "df_in_review = pd.DataFrame(columns=[\"title\", \"number\", \"url\", \"assignee\", \"created_at\", \"updated_at\"])\n",
    "for pr in prs_in_review:\n",
    "    df_in_review = df_in_review.append({\n",
    "        \"title\": pr.title,\n",
    "        \"number\": pr.number,\n",
    "        \"url\": pr.html_url,\n",
    "        \"assignee\": pr.assignee.login if pr.assignee else None,\n",
    "        \"created_at\": pr.created_at,\n",
    "        \"updated_at\": pr.updated_at\n",
    "    }, ignore_index=True)\n",
    "\n",
    "df_work_in_progress = pd.DataFrame(columns=[\"title\", \"number\", \"url\", \"assignee\", \"created_at\", \"updated_at\"])\n",
    "for pr in prs_work_in_progress:\n",
    "    df_work_in_progress = df_work_in_progress.append({\n",
    "        \"title\": pr.title,\n",
    "        \"number\": pr.number,\n",
    "        \"url\": pr.html_url,\n",
    "        \"assignee\": pr.assignee.login if pr.assignee else None,\n",
    "        \"created_at\": pr.created_at,\n",
    "        \"updated_at\": pr.updated_at\n",
    "    }, ignore_index=True)\n",
    "\n",
    "print(\"✅ Pull Requests in Review:\")\n",
    "print(df_in_review)\n",
    "print(\"--------------------------\")\n",
    "print(\"👨‍💻 Pull Requests Work in Progress:\")\n",
    "print(df_work_in_progress)"
   ]
  },
  {
   "cell_type": "markdown",
   "id": "d4fb0b7d-21a7-41e2-8acb-8b6155097b5b",
   "metadata": {
    "papermill": {},
    "tags": []
   },
   "source": [
    "### Get issues"
   ]
  },
  {
   "cell_type": "code",
   "execution_count": 6,
   "id": "aff4c12d-3c77-4e9d-acbc-c12b7425847e",
   "metadata": {
    "execution": {
     "iopub.execute_input": "2023-06-21T09:37:09.460512Z",
     "iopub.status.busy": "2023-06-21T09:37:09.460289Z",
     "iopub.status.idle": "2023-06-21T09:37:11.125576Z",
     "shell.execute_reply": "2023-06-21T09:37:11.124660Z",
     "shell.execute_reply.started": "2023-06-21T09:37:09.460490Z"
    },
    "tags": []
   },
   "outputs": [
    {
     "name": "stdout",
     "output_type": "stream",
     "text": [
      "New Issues:\n",
      "Issue Title: Python - Convert multiples units\n",
      "Issue Number: 1959\n",
      "Issue URL: https://github.com/jupyter-naas/awesome-notebooks/issues/1959\n",
      "--------------------------\n",
      "Issue Title: GitHub - List branches\n",
      "Issue Number: 1954\n",
      "Issue URL: https://github.com/jupyter-naas/awesome-notebooks/issues/1954\n",
      "--------------------------\n",
      "Issue Title: Slack - Send blocks to channel\n",
      "Issue Number: 1950\n",
      "Issue URL: https://github.com/jupyter-naas/awesome-notebooks/issues/1950\n",
      "--------------------------\n",
      "Issue Title: GitHub - Send contributor activity on Slack\n",
      "Issue Number: 1932\n",
      "Issue URL: https://github.com/jupyter-naas/awesome-notebooks/issues/1932\n",
      "--------------------------\n",
      "Issue Title: Pandas - Check if column is in date format\n",
      "Issue Number: 1896\n",
      "Issue URL: https://github.com/jupyter-naas/awesome-notebooks/issues/1896\n",
      "--------------------------\n",
      "Issue Title: Deezer - Get listening history\n",
      "Issue Number: 1887\n",
      "Issue URL: https://github.com/jupyter-naas/awesome-notebooks/issues/1887\n",
      "--------------------------\n",
      "Issue Title: Request - Handling Errors and Exceptions\n",
      "Issue Number: 1885\n",
      "Issue URL: https://github.com/jupyter-naas/awesome-notebooks/issues/1885\n",
      "--------------------------\n"
     ]
    }
   ],
   "source": [
    "new_issues = []\n",
    "\n",
    "for index, row in contributor_filtered_df.iterrows():\n",
    "    contributor = row[\"assignee\"]\n",
    "    issues = repo.get_issues(state=\"open\", assignee=contributor)\n",
    "    \n",
    "    for issue in issues:\n",
    "        if not any(pr.number == issue.number for pr in pull_requests):\n",
    "            new_issues.append(issue)\n",
    "new_issues = list({issue.number: issue for issue in new_issues}.values())\n",
    "\n",
    "# Print the new issues\n",
    "print(\"New Issues:\")\n",
    "for issue in new_issues:\n",
    "    print(f\"Issue Title: {issue.title}\")\n",
    "    print(f\"Issue Number: {issue.number}\")\n",
    "    print(f\"Issue URL: {issue.html_url}\")\n",
    "    print(\"--------------------------\")\n"
   ]
  },
  {
   "cell_type": "markdown",
   "id": "a8dee826-263c-4434-8116-5f2e0eb89d88",
   "metadata": {},
   "source": [
    "### Create Slack block"
   ]
  },
  {
   "cell_type": "code",
   "execution_count": null,
   "id": "afe226ca-7832-4b09-87b8-d04f815d749f",
   "metadata": {},
   "outputs": [],
   "source": []
  },
  {
   "cell_type": "markdown",
   "id": "ba97dcac-d0f7-4f11-8f20-0ff3db903be2",
   "metadata": {},
   "source": [
    "### Replace variables in Slack block"
   ]
  },
  {
   "cell_type": "code",
   "execution_count": null,
   "id": "79b86b82-f04e-4841-8adb-050b50c98e83",
   "metadata": {},
   "outputs": [],
   "source": []
  },
  {
   "cell_type": "markdown",
   "id": "04c0ae0c-1d5b-49bf-beab-f3d7f57d13a4",
   "metadata": {
    "papermill": {},
    "tags": []
   },
   "source": [
    "## Output"
   ]
  },
  {
   "cell_type": "markdown",
   "id": "a9939de6-9ebd-4814-905c-e5c4edc9aa6a",
   "metadata": {
    "execution": {
     "iopub.execute_input": "2023-06-16T14:58:21.299673Z",
     "iopub.status.busy": "2023-06-16T14:58:21.299316Z",
     "iopub.status.idle": "2023-06-16T14:58:21.306875Z",
     "shell.execute_reply": "2023-06-16T14:58:21.306132Z",
     "shell.execute_reply.started": "2023-06-16T14:58:21.299635Z"
    },
    "tags": []
   },
   "source": [
    "### Send message on Slack"
   ]
  },
  {
   "cell_type": "code",
   "execution_count": null,
   "id": "97cb8cb4-24e5-411c-a27a-ff58a355d3d4",
   "metadata": {
    "papermill": {},
    "tags": []
   },
   "outputs": [],
   "source": [
    "SLACK.send(SLACK_CHANNEL, text=None, blocks=blocks)"
   ]
  }
 ],
 "metadata": {
  "kernelspec": {
   "display_name": "Python 3",
   "language": "python",
   "name": "python3"
  },
  "language_info": {
   "codemirror_mode": {
    "name": "ipython",
    "version": 3
   },
   "file_extension": ".py",
   "mimetype": "text/x-python",
   "name": "python",
   "nbconvert_exporter": "python",
   "pygments_lexer": "ipython3",
   "version": "3.9.6"
  },
  "naas": {
   "notebook_id": "34d8e5474a94719c1703516d66d3e99cbaaada2b84c29f116ea81516710e5783",
   "notebook_path": "GitHub/GitHub_Reopen_issue.ipynb"
  },
  "papermill": {
   "default_parameters": {},
   "environment_variables": {},
   "parameters": {},
   "version": "2.4.0"
  },
  "widgets": {
   "application/vnd.jupyter.widget-state+json": {
    "state": {},
    "version_major": 2,
    "version_minor": 0
   }
  }
 },
 "nbformat": 4,
 "nbformat_minor": 5
}
