{
 "cells": [
  {
   "cell_type": "markdown",
   "id": "ada9f2a9-8daa-4b89-a03c-ffcdae2fd220",
   "metadata": {
    "papermill": {},
    "tags": []
   },
   "source": [
    "<img width=\"10%\" alt=\"Naas\" src=\"https://landen.imgix.net/jtci2pxwjczr/assets/5ice39g4.png?w=160\"/>"
   ]
  },
  {
   "cell_type": "markdown",
   "id": "373a7231-6f7d-47da-b3cd-6b8f5250223a",
   "metadata": {
    "papermill": {},
    "tags": []
   },
   "source": [
    "# GitHub - Send contributor activity on slack\n",
    "<a href=\"https://app.naas.ai/user-redirect/naas/downloader?url=https://raw.githubusercontent.com/jupyter-naas/awesome-notebooks/master/GitHub/GitHub_Reopen_issue.ipynb\" target=\"_parent\"><img src=\"https://naasai-public.s3.eu-west-3.amazonaws.com/Open_in_Naas_Lab.svg\"/></a><br><br><a href=\"https://github.com/jupyter-naas/awesome-notebooks/issues/new?assignees=&labels=&template=template-request.md&title=Tool+-+Action+of+the+notebook+\">Template request</a> | <a href=\"https://github.com/jupyter-naas/awesome-notebooks/issues/new?assignees=&labels=bug&template=bug_report.md&title=GitHub+-+Reopen+issue:+Error+short+description\">Bug report</a> | <a href=\"https://app.naas.ai/user-redirect/naas/downloader?url=https://raw.githubusercontent.com/jupyter-naas/awesome-notebooks/master/Naas/Naas_Start_data_product.ipynb\" target=\"_parent\">Generate Data Product</a>"
   ]
  },
  {
   "cell_type": "markdown",
   "id": "611b4f12-8112-4e0f-b6ac-5bb96855fa7f",
   "metadata": {
    "papermill": {},
    "tags": []
   },
   "source": [
    "**Tags:** #github #activity #update #api #snippet #operations #slack "
   ]
  },
  {
   "cell_type": "markdown",
   "id": "7903a6e2-70c3-4149-8279-c603417a7836",
   "metadata": {
    "papermill": {},
    "tags": []
   },
   "source": [
    "**Author:** [Benjamin Filly](https://www.linkedin.com/in/benjamin-filly-05427727a/)"
   ]
  },
  {
   "cell_type": "markdown",
   "id": "4e3aadfe-6d61-41b9-80f2-a790718018ee",
   "metadata": {
    "papermill": {},
    "tags": []
   },
   "source": [
    "**Description:** This notebook explains how to send the GitHub activity on Slack"
   ]
  },
  {
   "cell_type": "markdown",
   "id": "2b5dcc40-1fac-47c9-b577-26229548f2b1",
   "metadata": {
    "papermill": {},
    "tags": []
   },
   "source": [
    "**References:**\n",
    "- [GitHub REST API Documentation](https://docs.github.com/en/rest/issues/issues?apiVersion=2022-11-28#update-an-issue)"
   ]
  },
  {
   "cell_type": "markdown",
   "id": "892d0dd8-86b4-4788-86ac-a8a34a29cb94",
   "metadata": {
    "papermill": {},
    "tags": []
   },
   "source": [
    "## Input"
   ]
  },
  {
   "cell_type": "markdown",
   "id": "727b3406-2d41-41ff-aad6-10007bda4a69",
   "metadata": {
    "papermill": {},
    "tags": []
   },
   "source": [
    "### Import libraries"
   ]
  },
  {
   "cell_type": "code",
   "execution_count": null,
   "id": "c14a82ed-deca-4d54-a1ba-da6356c3865b",
   "metadata": {
    "papermill": {},
    "tags": []
   },
   "outputs": [],
   "source": [
    "import os\n",
    "import json\n",
    "from datetime import datetime\n",
    "from github import Github\n",
    "import naas\n",
    "import pandas as pd\n",
    "import requests\n",
    "from naas_drivers import slack"
   ]
  },
  {
   "cell_type": "markdown",
   "id": "18a7ce29-9182-4b79-8f5f-5032b8b8774f",
   "metadata": {
    "papermill": {},
    "tags": []
   },
   "source": [
    "### Setup Variables\n",
    "- `token`: [GitHub token](https://help.github.com/en/github/authenticating-to-github/creating-a-personal-access-token-for-the-command-line)\n",
    "- `owner`: owner of the repository\n",
    "- `repo`: name of the repository\n",
    "- `issue_number`: number of the issue"
   ]
  },
  {
   "cell_type": "code",
   "execution_count": null,
   "id": "ad68a533-dfdb-44ba-b1f8-860bbe5c8d08",
   "metadata": {
    "papermill": {},
    "tags": []
   },
   "outputs": [],
   "source": [
    "# Input variables\n",
    "github_token = naas.secret.get(\"GITHUB_TOKEN\") or \"GITHUB_TOKEN\"\n",
    "repo_name = \"jupyter-naas/awesome-notebooks\" #example\n",
    "contributor_profile = \"Benjifilly\"\n",
    "slack_bot_token = naas.secret.get(\"SLACK_BOT_TOKEN\") or \"SLACK_TOKEN\"\n",
    "slack_channel = \"naas-templates-contributors\""
   ]
  },
  {
   "cell_type": "markdown",
   "id": "ef6aae6b-fe4b-4bc9-955b-533690997ea9",
   "metadata": {
    "papermill": {},
    "tags": []
   },
   "source": [
    "## Model"
   ]
  },
  {
   "cell_type": "markdown",
   "id": "528c059d-c5dc-4379-b364-5d8ca8bf7af9",
   "metadata": {
    "papermill": {},
    "tags": []
   },
   "source": [
    "### Get PRs"
   ]
  },
  {
   "cell_type": "code",
   "execution_count": null,
   "id": "88872b50-4781-4226-bcf4-1983b5968990",
   "metadata": {
    "tags": []
   },
   "outputs": [],
   "source": [
    "# Connect to the GitHub API\n",
    "g = Github(github_token)\n",
    "# Get the repository\n",
    "repo = g.get_repo(repo_name)\n",
    "# Get the closed PR\n",
    "pull_requests = repo.get_pulls(state=\"open\")\n",
    "\n",
    "# Print the closed PR\n",
    "print(\"✅ Pull Requests fetched:\", pull_requests.totalCount)\n",
    "data = []\n",
    "for index, pr in enumerate(pull_requests):\n",
    "    # Init\n",
    "    assignee_login = None\n",
    "    assignee = pr.raw_data.get(\"assignee\")\n",
    "    if assignee:\n",
    "        assignee_login = assignee.get(\"login\")\n",
    "    tmp = {\n",
    "        \"title\": pr.title,\n",
    "        \"number\": pr.number,\n",
    "        \"url\": pr.raw_data.get(\"url\"),\n",
    "        \"assignee\": assignee_login,\n",
    "        \"created_at\": pr.raw_data.get(\"created_at\"),\n",
    "        \"updated_at\": pr.raw_data.get(\"updated_at\"),\n",
    "    }\n",
    "    data.append(tmp)\n",
    "\n",
    "df_pr = pd.DataFrame(data)\n",
    "df_pr.head(3)"
   ]
  },
  {
   "cell_type": "markdown",
   "id": "ceafa407-d67a-4654-818d-e63c2f7854b4",
   "metadata": {},
   "source": [
    "### Filter dataframe on contributor\n",
    "Do not forget to use .reset_index(drop=True)"
   ]
  },
  {
   "cell_type": "code",
   "execution_count": null,
   "id": "7c1552cd-5db7-4fd6-be06-17f6f6ef9101",
   "metadata": {
    "tags": []
   },
   "outputs": [],
   "source": [
    "contributor_filtered_df = df_pr[df_pr['assignee'] == contributor_profile].reset_index(drop=True)\n",
    "print(\"✅ PR Opened:\", len(contributor_filtered_df))\n",
    "contributor_filtered_df.head(1)"
   ]
  },
  {
   "cell_type": "markdown",
   "id": "1629a4ed-89fd-444f-b99e-23d6a92a93c6",
   "metadata": {},
   "source": [
    "### Get PR in Review and WIP"
   ]
  },
  {
   "cell_type": "code",
   "execution_count": null,
   "id": "363b9853-cd64-4448-b735-2bc69dba23cc",
   "metadata": {
    "tags": []
   },
   "outputs": [],
   "source": [
    "# The function \"pd.set_option('display.max_colwidth', None)\" is used in pandas, a data manipulation library in Python, to set the maximum width for displaying column contents in a tabular format to be unlimited, allowing the full content of each column to be displayed without truncation.\n",
    "pd.set_option('display.max_colwidth', None)\n",
    "\n",
    "# Init - Create empty list\n",
    "prs_in_review = []\n",
    "prs_work_in_progress = []\n",
    "\n",
    "# Loop in df and last message on each PR\n",
    "for row in contributor_filtered_df.itertuples():\n",
    "    # Display PR number\n",
    "    pr_number = row.number\n",
    "    \n",
    "    # Get PR object\n",
    "    pr = next((pr for pr in pull_requests if pr.number == pr_number), None)\n",
    "    \n",
    "    # If PR exists then get comments\n",
    "    if pr:\n",
    "        # Get comments from PR\n",
    "        comments = pr.get_issue_comments()\n",
    "        \n",
    "        # Check if nb comments > 0 else PR status = WIP\n",
    "        if comments.totalCount > 0:\n",
    "            last_comment = comments[comments.totalCount-1].body.lower()\n",
    "            \n",
    "            # Check if \"read to review\" else PR status = WIP\n",
    "            if \"ready to review\" in last_comment:\n",
    "                prs_in_review.append(pr)\n",
    "            else:\n",
    "                prs_work_in_progress.append(pr)\n",
    "        else:\n",
    "            prs_work_in_progress.append(pr)\n",
    "            \n",
    "print(\"✅ Pull Requests in Review:\", len(prs_in_review))\n",
    "print(\"👨‍💻 Pull Requests Work in Progress:\", len(prs_work_in_progress))"
   ]
  },
  {
   "cell_type": "markdown",
   "id": "d4fb0b7d-21a7-41e2-8acb-8b6155097b5b",
   "metadata": {
    "papermill": {},
    "tags": []
   },
   "source": [
    "### Get issues"
   ]
  },
  {
   "cell_type": "code",
   "execution_count": 25,
   "id": "c7f65e0e-e8cf-45fa-9540-d76bbc783cc1",
   "metadata": {
    "execution": {
     "iopub.execute_input": "2023-06-23T14:09:17.248271Z",
     "iopub.status.busy": "2023-06-23T14:09:17.247968Z",
     "iopub.status.idle": "2023-06-23T14:09:17.252448Z",
     "shell.execute_reply": "2023-06-23T14:09:17.251521Z",
     "shell.execute_reply.started": "2023-06-23T14:09:17.248246Z"
    },
    "tags": []
   },
   "outputs": [],
   "source": [
    "# Get all issues by contributor\n",
    "issues = repo.get_issues(state=\"open\", assignee=contributor_profile)\n",
    "\n",
    "# Loop on issue to get number\n",
    "\n",
    "# Get if event == connected for each issues, if not then new_issues"
   ]
  },
  {
   "cell_type": "code",
   "execution_count": 43,
   "id": "befabcad-6f1d-4a0b-8198-a4df6e772edc",
   "metadata": {
    "execution": {
     "iopub.execute_input": "2023-06-23T14:25:42.227756Z",
     "iopub.status.busy": "2023-06-23T14:25:42.227469Z",
     "iopub.status.idle": "2023-06-23T14:25:42.484336Z",
     "shell.execute_reply": "2023-06-23T14:25:42.483178Z",
     "shell.execute_reply.started": "2023-06-23T14:25:42.227729Z"
    },
    "tags": []
   },
   "outputs": [
    {
     "name": "stdout",
     "output_type": "stream",
     "text": [
      "labeled\n",
      "9589446656\n",
      "assigned\n",
      "9589446732\n",
      "connected\n",
      "9592723316\n"
     ]
    }
   ],
   "source": [
    "\n",
    "res = requests.get(f\"https://api.github.com/repos/{repo_name}/issues/1959/events\")\n",
    "for r in res.json():\n",
    "    print(r.get(\"event\"))\n",
    "    print(r.get(\"id\"))\n",
    "#     pprint(r)"
   ]
  },
  {
   "cell_type": "code",
   "execution_count": null,
   "id": "aff4c12d-3c77-4e9d-acbc-c12b7425847e",
   "metadata": {
    "tags": []
   },
   "outputs": [],
   "source": [
    "# new_issues = []\n",
    "\n",
    "# for index, row in contributor_filtered_df.iterrows():\n",
    "#     contributor = row[\"assignee\"]\n",
    "#     issues = repo.get_issues(state=\"open\", assignee=contributor)\n",
    "    \n",
    "#     for issue in issues:\n",
    "#         if not any(pr.number == issue.number for pr in pull_requests):\n",
    "#             new_issues.append(issue)\n",
    "# new_issues = list({issue.number: issue for issue in new_issues}.values())\n",
    "\n",
    "# # Print the new issues\n",
    "# print(\"New Issues:\")\n",
    "# for issue in new_issues:\n",
    "#     print(f\"Issue Title: {issue.title}\")\n",
    "#     print(f\"Issue Number: {issue.number}\")\n",
    "#     print(f\"Issue URL: {issue.html_url}\")\n",
    "#     print(\"--------------------------\")"
   ]
  },
  {
   "cell_type": "markdown",
   "id": "a8dee826-263c-4434-8116-5f2e0eb89d88",
   "metadata": {},
   "source": [
    "### Create Slack block"
   ]
  },
  {
   "cell_type": "code",
   "execution_count": null,
   "id": "afe226ca-7832-4b09-87b8-d04f815d749f",
   "metadata": {
    "tags": []
   },
   "outputs": [],
   "source": [
    "blocks = [\n",
    "            {\n",
    "                \"type\": \"header\",\n",
    "                \"text\": {\n",
    "                    \"type\": \"plain_text\",\n",
    "                    \"text\": f\"[{contributor_profile}] - Update [{datetime.now().strftime('%B %d, %Y')}]\",\n",
    "                    \"emoji\": True\n",
    "                }\n",
    "            },\n",
    "            {\n",
    "                \"type\": \"divider\"\n",
    "            },\n",
    "            {\n",
    "                \"type\": \"section\",\n",
    "                \"text\": {\n",
    "                    \"type\": \"mrkdwn\",\n",
    "                    \"text\": f\"✅* List of PR to be validated ({len(prs_in_review)}):*\"\n",
    "                }\n",
    "            },\n",
    "            *[\n",
    "                {\n",
    "                    \"type\": \"section\",\n",
    "                    \"text\": {\n",
    "                        \"type\": \"mrkdwn\",\n",
    "                        \"text\": f\"- <{pr.html_url}|{pr.title}>\"\n",
    "                    }\n",
    "                }\n",
    "                for pr in prs_in_review\n",
    "            ],\n",
    "                    {\n",
    "                        \"type\": \"divider\"\n",
    "                    },\n",
    "                    {\n",
    "                        \"type\": \"section\",\n",
    "                        \"text\": {\n",
    "                            \"type\": \"mrkdwn\",\n",
    "                            \"text\": f\"👨‍💻* List of current PR ({len(prs_work_in_progress)}):*\"\n",
    "                        }\n",
    "                    },\n",
    "                    *[\n",
    "                        {\n",
    "                            \"type\": \"section\",\n",
    "                            \"text\": {\n",
    "                                \"type\": \"mrkdwn\",\n",
    "                                \"text\": f\"- <{pr.html_url}|{pr.title}>\"\n",
    "                            }\n",
    "                        }\n",
    "                        for pr in prs_work_in_progress\n",
    "                    ],\n",
    "#                     {\n",
    "#                         \"type\": \"divider\"\n",
    "#                     },\n",
    "#                     {\n",
    "#                         \"type\": \"section\",\n",
    "#                         \"text\": {\n",
    "#                             \"type\": \"mrkdwn\",\n",
    "#                             \"text\": f\":bulb:* List of new issues ({num_new_issues}):*\"\n",
    "#                         }\n",
    "#                     },\n",
    "#                     *[\n",
    "#                         {\n",
    "#                             \"type\": \"section\",\n",
    "#                             \"text\": {\n",
    "#                                 \"type\": \"mrkdwn\",\n",
    "#                                 \"text\": f\"{issue.title}\"\n",
    "#                             },\n",
    "#                             \"accessory\": {\n",
    "#                                 \"type\": \"button\",\n",
    "#                                 \"text\": {\n",
    "#                                     \"type\": \"plain_text\",\n",
    "#                                     \"text\": \"Link\",\n",
    "#                                     \"emoji\": True\n",
    "#                                 },\n",
    "#                                 \"value\": \"click_me_123\",\n",
    "#                                 \"url\": f\"{issue.html_url}\",\n",
    "#                                 \"action_id\": \"button-action\"\n",
    "#                             }\n",
    "#                         }\n",
    "#                         for issue in new_issues\n",
    "#                     ]\n",
    "                ]"
   ]
  },
  {
   "cell_type": "markdown",
   "id": "04c0ae0c-1d5b-49bf-beab-f3d7f57d13a4",
   "metadata": {
    "papermill": {},
    "tags": []
   },
   "source": [
    "## Output"
   ]
  },
  {
   "cell_type": "markdown",
   "id": "a9939de6-9ebd-4814-905c-e5c4edc9aa6a",
   "metadata": {
    "execution": {
     "iopub.execute_input": "2023-06-16T14:58:21.299673Z",
     "iopub.status.busy": "2023-06-16T14:58:21.299316Z",
     "iopub.status.idle": "2023-06-16T14:58:21.306875Z",
     "shell.execute_reply": "2023-06-16T14:58:21.306132Z",
     "shell.execute_reply.started": "2023-06-16T14:58:21.299635Z"
    },
    "tags": []
   },
   "source": [
    "### Send message on Slack"
   ]
  },
  {
   "cell_type": "code",
   "execution_count": null,
   "id": "97cb8cb4-24e5-411c-a27a-ff58a355d3d4",
   "metadata": {
    "papermill": {},
    "tags": []
   },
   "outputs": [],
   "source": [
    "slack.connect(slack_bot_token).send(slack_channel, text=None, blocks=blocks)"
   ]
  },
  {
   "cell_type": "code",
   "execution_count": null,
   "id": "9513eb6b-bb1d-40f7-9320-07027b69a981",
   "metadata": {},
   "outputs": [],
   "source": []
  }
 ],
 "metadata": {
  "kernelspec": {
   "display_name": "Python 3",
   "language": "python",
   "name": "python3"
  },
  "language_info": {
   "codemirror_mode": {
    "name": "ipython",
    "version": 3
   },
   "file_extension": ".py",
   "mimetype": "text/x-python",
   "name": "python",
   "nbconvert_exporter": "python",
   "pygments_lexer": "ipython3",
   "version": "3.9.6"
  },
  "naas": {
   "notebook_id": "34d8e5474a94719c1703516d66d3e99cbaaada2b84c29f116ea81516710e5783",
   "notebook_path": "GitHub/GitHub_Reopen_issue.ipynb"
  },
  "papermill": {
   "default_parameters": {},
   "environment_variables": {},
   "parameters": {},
   "version": "2.4.0"
  },
  "widgets": {
   "application/vnd.jupyter.widget-state+json": {
    "state": {},
    "version_major": 2,
    "version_minor": 0
   }
  }
 },
 "nbformat": 4,
 "nbformat_minor": 5
}
