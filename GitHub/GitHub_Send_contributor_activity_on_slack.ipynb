{
 "cells": [
  {
   "cell_type": "markdown",
   "id": "ada9f2a9-8daa-4b89-a03c-ffcdae2fd220",
   "metadata": {
    "papermill": {},
    "tags": []
   },
   "source": [
    "<img width=\"10%\" alt=\"Naas\" src=\"https://landen.imgix.net/jtci2pxwjczr/assets/5ice39g4.png?w=160\"/>"
   ]
  },
  {
   "cell_type": "markdown",
   "id": "373a7231-6f7d-47da-b3cd-6b8f5250223a",
   "metadata": {
    "papermill": {},
    "tags": []
   },
   "source": [
    "# GitHub - Send contributor activity on slack\n",
    "<a href=\"https://app.naas.ai/user-redirect/naas/downloader?url=https://raw.githubusercontent.com/jupyter-naas/awesome-notebooks/master/GitHub/GitHub_Reopen_issue.ipynb\" target=\"_parent\"><img src=\"https://naasai-public.s3.eu-west-3.amazonaws.com/Open_in_Naas_Lab.svg\"/></a><br><br><a href=\"https://github.com/jupyter-naas/awesome-notebooks/issues/new?assignees=&labels=&template=template-request.md&title=Tool+-+Action+of+the+notebook+\">Template request</a> | <a href=\"https://github.com/jupyter-naas/awesome-notebooks/issues/new?assignees=&labels=bug&template=bug_report.md&title=GitHub+-+Reopen+issue:+Error+short+description\">Bug report</a> | <a href=\"https://app.naas.ai/user-redirect/naas/downloader?url=https://raw.githubusercontent.com/jupyter-naas/awesome-notebooks/master/Naas/Naas_Start_data_product.ipynb\" target=\"_parent\">Generate Data Product</a>"
   ]
  },
  {
   "cell_type": "markdown",
   "id": "611b4f12-8112-4e0f-b6ac-5bb96855fa7f",
   "metadata": {
    "papermill": {},
    "tags": []
   },
   "source": [
    "**Tags:** #github #activity #update #api #snippet #operations #slack "
   ]
  },
  {
   "cell_type": "markdown",
   "id": "7903a6e2-70c3-4149-8279-c603417a7836",
   "metadata": {
    "papermill": {},
    "tags": []
   },
   "source": [
    "**Author:** [Benjamin Filly](https://www.linkedin.com/in/benjamin-filly-05427727a/)"
   ]
  },
  {
   "cell_type": "markdown",
   "id": "4e3aadfe-6d61-41b9-80f2-a790718018ee",
   "metadata": {
    "papermill": {},
    "tags": []
   },
   "source": [
    "**Description:** This notebook explains how to send the GitHub activity on Slack"
   ]
  },
  {
   "cell_type": "markdown",
   "id": "2b5dcc40-1fac-47c9-b577-26229548f2b1",
   "metadata": {
    "papermill": {},
    "tags": []
   },
   "source": [
    "**References:**\n",
    "- [GitHub REST API Documentation](https://docs.github.com/en/rest/issues/issues?apiVersion=2022-11-28#update-an-issue)"
   ]
  },
  {
   "cell_type": "markdown",
   "id": "892d0dd8-86b4-4788-86ac-a8a34a29cb94",
   "metadata": {
    "papermill": {},
    "tags": []
   },
   "source": [
    "## Input"
   ]
  },
  {
   "cell_type": "markdown",
   "id": "727b3406-2d41-41ff-aad6-10007bda4a69",
   "metadata": {
    "papermill": {},
    "tags": []
   },
   "source": [
    "### Import libraries"
   ]
  },
  {
   "cell_type": "code",
   "execution_count": 4,
   "id": "c14a82ed-deca-4d54-a1ba-da6356c3865b",
   "metadata": {
    "execution": {
     "iopub.execute_input": "2023-06-27T09:11:01.633004Z",
     "iopub.status.busy": "2023-06-27T09:11:01.632608Z",
     "iopub.status.idle": "2023-06-27T09:11:01.639045Z",
     "shell.execute_reply": "2023-06-27T09:11:01.637994Z",
     "shell.execute_reply.started": "2023-06-27T09:11:01.632966Z"
    },
    "papermill": {},
    "tags": []
   },
   "outputs": [],
   "source": [
    "import os\n",
    "import json\n",
    "from datetime import datetime\n",
    "from github import Github\n",
    "import naas\n",
    "import pandas as pd\n",
    "import requests\n",
    "from naas_drivers import slack\n",
    "import re\n",
    "from datetime import datetime, timedelta\n",
    "# The function \"pd.set_option('display.max_colwidth', None)\" is used in pandas, a data manipulation library in Python, to set the maximum width for displaying column contents in a tabular format to be unlimited, allowing the full content of each column to be displayed without truncation.\n",
    "pd.set_option('display.max_colwidth', None)"
   ]
  },
  {
   "cell_type": "markdown",
   "id": "18a7ce29-9182-4b79-8f5f-5032b8b8774f",
   "metadata": {
    "papermill": {},
    "tags": []
   },
   "source": [
    "### Setup Variables\n",
    "- `token`: [GitHub token](https://help.github.com/en/github/authenticating-to-github/creating-a-personal-access-token-for-the-command-line)\n",
    "- `owner`: owner of the repository\n",
    "- `repo`: name of the repository\n",
    "- `issue_number`: number of the issue"
   ]
  },
  {
   "cell_type": "code",
   "execution_count": 3,
   "id": "ad68a533-dfdb-44ba-b1f8-860bbe5c8d08",
   "metadata": {
    "execution": {
     "iopub.execute_input": "2023-06-27T09:08:54.896837Z",
     "iopub.status.busy": "2023-06-27T09:08:54.896517Z",
     "iopub.status.idle": "2023-06-27T09:08:55.152337Z",
     "shell.execute_reply": "2023-06-27T09:08:55.151174Z",
     "shell.execute_reply.started": "2023-06-27T09:08:54.896812Z"
    },
    "papermill": {},
    "tags": []
   },
   "outputs": [],
   "source": [
    "# Input variables\n",
    "github_token = naas.secret.get(\"GITHUB_TOKEN\") or \"GITHUB_TOKEN\"\n",
    "repo_name = \"jupyter-naas/awesome-notebooks\" #example\n",
    "contributor_profile = \"Benjifilly\"\n",
    "slack_bot_token = naas.secret.get(\"SLACK_BOT_TOKEN\") or \"SLACK_TOKEN\"\n",
    "slack_channel = \"naas-templates-contributors\""
   ]
  },
  {
   "cell_type": "markdown",
   "id": "ef6aae6b-fe4b-4bc9-955b-533690997ea9",
   "metadata": {
    "papermill": {},
    "tags": []
   },
   "source": [
    "## Model"
   ]
  },
  {
   "cell_type": "markdown",
   "id": "b8be7b04-6d74-4d48-8435-0ea180116c7d",
   "metadata": {
    "execution": {
     "iopub.execute_input": "2023-06-26T09:10:37.794637Z",
     "iopub.status.busy": "2023-06-26T09:10:37.794315Z",
     "iopub.status.idle": "2023-06-26T09:10:37.808867Z",
     "shell.execute_reply": "2023-06-26T09:10:37.807524Z",
     "shell.execute_reply.started": "2023-06-26T09:10:37.794602Z"
    }
   },
   "source": [
    "### Get Closed PRs\n",
    "- Filter on contributor\n",
    "- Get files added on PR (GitHub_Get_files_added_on_pull_request.ipynb)"
   ]
  },
  {
   "cell_type": "code",
   "execution_count": 68,
   "id": "b89149bc-9d7b-4d8b-87bc-65c3dc9c2b21",
   "metadata": {
    "execution": {
     "iopub.execute_input": "2023-06-27T10:02:48.038817Z",
     "iopub.status.busy": "2023-06-27T10:02:48.038517Z",
     "iopub.status.idle": "2023-06-27T10:03:14.000105Z",
     "shell.execute_reply": "2023-06-27T10:03:13.998026Z",
     "shell.execute_reply.started": "2023-06-27T10:02:48.038790Z"
    },
    "tags": []
   },
   "outputs": [
    {
     "name": "stdout",
     "output_type": "stream",
     "text": [
      "✅ Pull Requests fetched: 676\n",
      "26\n"
     ]
    }
   ],
   "source": [
    "# Connect to the GitHub API\n",
    "g = Github(github_token)\n",
    "\n",
    "# Get the repository\n",
    "repo = g.get_repo(repo_name)\n",
    "\n",
    "# Get the closed PR\n",
    "pull_requests = repo.get_pulls(state='closed', sort='updated', direction='desc')\n",
    "print(\"✅ Pull Requests fetched:\", pull_requests.totalCount)\n",
    "\n",
    "# Iterate over the pull requests and filter by assignee\n",
    "assigned_pull_requests = [pr for pr in pull_requests if pr.assignee and pr.assignee.login == contributor_profile]\n",
    "\n",
    "# Print the closed PR\n",
    "print(len(assigned_pull_requests))"
   ]
  },
  {
   "cell_type": "code",
   "execution_count": 69,
   "id": "9ef54b9d-e052-419b-8a65-aca5c57ac428",
   "metadata": {
    "execution": {
     "iopub.execute_input": "2023-06-27T10:03:26.187801Z",
     "iopub.status.busy": "2023-06-27T10:03:26.187419Z",
     "iopub.status.idle": "2023-06-27T10:03:26.194141Z",
     "shell.execute_reply": "2023-06-27T10:03:26.193429Z",
     "shell.execute_reply.started": "2023-06-27T10:03:26.187768Z"
    },
    "tags": []
   },
   "outputs": [
    {
     "data": {
      "text/plain": [
       "[PullRequest(title=\"feat: GitHub - List branches\", number=1955),\n",
       " PullRequest(title=\"feat: Request - Handling Errors and Exceptions\", number=1886),\n",
       " PullRequest(title=\"feat: convert multiple units\", number=1960),\n",
       " PullRequest(title=\"feat: Slack - Send blocks to channel\", number=1952),\n",
       " PullRequest(title=\"feat: Python - Unit converter\", number=1943),\n",
       " PullRequest(title=\"feat: Python - Currency converter\", number=1938),\n",
       " PullRequest(title=\"feat: Python - Pseudonym generator\", number=1936),\n",
       " PullRequest(title=\"feat: Python - Get a random word\", number=1931),\n",
       " PullRequest(title=\"feat: Python - Manage exception with try except\", number=1940),\n",
       " PullRequest(title=\"feat: Pandas - Sort values by multiples columns\", number=1900),\n",
       " PullRequest(title=\"feat: Request - Sending POST Requests with Data\", number=1884),\n",
       " PullRequest(title=\"feat: Request - Basic HTTP GET Request\", number=1882),\n",
       " PullRequest(title=\"Update and rename Python_Find_differences_between_stings.ipynb to Pyt…\", number=1933),\n",
       " PullRequest(title=\"feat: Deepl - Translate text to .txt\", number=1929),\n",
       " PullRequest(title=\"feat: Pandas - Get n largest\", number=1903),\n",
       " PullRequest(title=\"feat: Pandas - Get n smallest\", number=1905),\n",
       " PullRequest(title=\"feat: Python - Find differences between stings\", number=1908),\n",
       " PullRequest(title=\"feat: OS - List entries in directory\", number=1895),\n",
       " PullRequest(title=\"feat : Python extract characters from string\", number=1876),\n",
       " PullRequest(title=\"feat : Python remove space on string\", number=1874),\n",
       " PullRequest(title=\"feat: Python split string\", number=1872),\n",
       " PullRequest(title=\"feat : Pandas - Save dataframe to Excel \", number=1866),\n",
       " PullRequest(title=\"feat: Pandas - Iterate over DataFrame rows as namedtuples\", number=1868),\n",
       " PullRequest(title=\"1863 python get random number using random\", number=1864),\n",
       " PullRequest(title=\"feat: OS check path\", number=1870),\n",
       " PullRequest(title=\"feat: concatenate dataframes\", number=1861)]"
      ]
     },
     "execution_count": 69,
     "metadata": {},
     "output_type": "execute_result"
    }
   ],
   "source": [
    "assigned_pull_requests"
   ]
  },
  {
   "cell_type": "code",
   "execution_count": 72,
   "id": "c577a6b6-baa1-4bc1-990e-cf26320025c1",
   "metadata": {
    "execution": {
     "iopub.execute_input": "2023-06-27T10:05:39.199659Z",
     "iopub.status.busy": "2023-06-27T10:05:39.199402Z",
     "iopub.status.idle": "2023-06-27T10:05:39.215095Z",
     "shell.execute_reply": "2023-06-27T10:05:39.212540Z",
     "shell.execute_reply.started": "2023-06-27T10:05:39.199633Z"
    },
    "tags": []
   },
   "outputs": [
    {
     "name": "stdout",
     "output_type": "stream",
     "text": [
      "1955 feat: GitHub - List branches 2023-06-26 07:48:58\n",
      "1886 feat: Request - Handling Errors and Exceptions 2023-06-26 07:03:00\n",
      "1960 feat: convert multiple units 2023-06-26 06:48:21\n",
      "1952 feat: Slack - Send blocks to channel 2023-06-22 14:20:35\n",
      "1943 feat: Python - Unit converter 2023-06-19 16:18:13\n",
      "1938 feat: Python - Currency converter 2023-06-19 16:07:39\n",
      "1936 feat: Python - Pseudonym generator 2023-06-19 16:04:35\n",
      "1931 feat: Python - Get a random word 2023-06-19 13:25:27\n",
      "1940 feat: Python - Manage exception with try except 2023-06-16 14:36:28\n",
      "1900 feat: Pandas - Sort values by multiples columns 2023-06-16 07:01:09\n",
      "1884 feat: Request - Sending POST Requests with Data 2023-06-16 06:47:03\n",
      "1882 feat: Request - Basic HTTP GET Request 2023-06-16 06:33:29\n",
      "1933 Update and rename Python_Find_differences_between_stings.ipynb to Pyt… 2023-06-15 09:16:49\n",
      "1929 feat: Deepl - Translate text to .txt 2023-06-14 15:56:36\n",
      "1903 feat: Pandas - Get n largest 2023-06-14 15:44:59\n",
      "1905 feat: Pandas - Get n smallest 2023-06-13 16:27:03\n",
      "1908 feat: Python - Find differences between stings 2023-06-13 16:11:51\n",
      "1895 feat: OS - List entries in directory 2023-06-13 15:54:28\n",
      "1876 feat : Python extract characters from string 2023-06-13 15:53:13\n",
      "1874 feat : Python remove space on string 2023-06-13 07:54:36\n",
      "1872 feat: Python split string 2023-06-09 09:05:26\n",
      "1866 feat : Pandas - Save dataframe to Excel  2023-06-09 08:50:17\n",
      "1868 feat: Pandas - Iterate over DataFrame rows as namedtuples 2023-06-09 08:49:17\n",
      "1864 1863 python get random number using random 2023-06-08 14:24:21\n",
      "1870 feat: OS check path 2023-06-08 13:58:31\n",
      "1861 feat: concatenate dataframes 2023-06-07 08:11:50\n"
     ]
    }
   ],
   "source": [
    "# for pr in assigned_pull_requests:\n",
    "#     print(pr.number, pr.title, pr.merged_at)\n",
    "    \n",
    "#     # Get files added\n",
    "    \n",
    "#     # Prep data\n",
    "#     tmp = {\n",
    "#         \"file_path\": file_path,\n",
    "#         \"file_url\": file_url,\n",
    "#         \"file_created\": pr.merged_at,\n",
    "#         \"pr_number\": pr.number,\n",
    "#         \"pr_title\": pr.title,\n",
    "#         \"pr_url\": pr.url,\n",
    "#     }"
   ]
  },
  {
   "cell_type": "code",
   "execution_count": 59,
   "id": "94af1c10-9ff7-4c0d-bc33-dd314a3dcf66",
   "metadata": {
    "execution": {
     "iopub.execute_input": "2023-06-27T09:53:58.974173Z",
     "iopub.status.busy": "2023-06-27T09:53:58.973932Z",
     "iopub.status.idle": "2023-06-27T09:54:01.952957Z",
     "shell.execute_reply": "2023-06-27T09:54:01.952075Z",
     "shell.execute_reply.started": "2023-06-27T09:53:58.974148Z"
    },
    "tags": []
   },
   "outputs": [],
   "source": [
    "import requests\n",
    "import naas\n",
    "\n",
    "token = naas.secret.get(\"GITHUB_TOKEN\") or \"GITHUB_TOKEN\"\n",
    "owner = \"jupyter-naas\"\n",
    "repo = \"awesome-notebooks\"\n",
    "contributor = \"BenjiFilly\"\n",
    "file_status = \"added\"\n",
    "\n",
    "def get_closed_pull_requests(owner, repo):\n",
    "    url = f\"https://api.github.com/repos/{owner}/{repo}/pulls\"\n",
    "    params = {\n",
    "        \"state\": \"closed\",\n",
    "        \"per_page\": 100  # Adjust the number based on your requirements\n",
    "    }\n",
    "    headers = {\n",
    "        \"Authorization\": f\"Bearer {token}\"\n",
    "    }\n",
    "    response = requests.get(url, params=params, headers=headers)\n",
    "    pull_requests = response.json()\n",
    "    return pull_requests\n",
    "\n",
    "def get_files_added_on_pull_request(owner, repo, pull_number, file_status):\n",
    "    files = []\n",
    "    url = f\"https://api.github.com/repos/{owner}/{repo}/pulls/{pull_number}/files\"\n",
    "    headers = {\n",
    "        \"Authorization\": f\"Bearer {token}\"\n",
    "    }\n",
    "    response = requests.get(url, headers=headers)\n",
    "    files_changed = response.json()\n",
    "    for file in files_changed:\n",
    "        filename = file[\"filename\"]\n",
    "        status = file[\"status\"]\n",
    "        if status == file_status:\n",
    "            files.append(filename)\n",
    "    return files\n",
    "\n",
    "closed_pull_requests = get_closed_pull_requests(owner, repo)\n",
    "\n",
    "for pull_request in closed_pull_requests:\n",
    "    contributor_login = pull_request[\"user\"][\"login\"]\n",
    "    if contributor_login == contributor:\n",
    "        pull_number = pull_request[\"number\"]\n",
    "        files_added = get_files_added_on_pull_request(owner, repo, pull_number, file_status)\n",
    "        files_added\n",
    "        break\n",
    "        if len(files_added) > 0:\n",
    "            for file in files_added:\n",
    "                print(\"File added:\", file)"
   ]
  },
  {
   "cell_type": "markdown",
   "id": "528c059d-c5dc-4379-b364-5d8ca8bf7af9",
   "metadata": {
    "papermill": {},
    "tags": []
   },
   "source": [
    "### Get PRs"
   ]
  },
  {
   "cell_type": "code",
   "execution_count": 6,
   "id": "88872b50-4781-4226-bcf4-1983b5968990",
   "metadata": {
    "execution": {
     "iopub.execute_input": "2023-06-27T09:11:53.250893Z",
     "iopub.status.busy": "2023-06-27T09:11:53.250653Z",
     "iopub.status.idle": "2023-06-27T09:12:06.456529Z",
     "shell.execute_reply": "2023-06-27T09:12:06.455534Z",
     "shell.execute_reply.started": "2023-06-27T09:11:53.250869Z"
    },
    "tags": []
   },
   "outputs": [
    {
     "name": "stdout",
     "output_type": "stream",
     "text": [
      "✅ Pull Requests fetched: 23\n"
     ]
    },
    {
     "data": {
      "text/html": [
       "<div>\n",
       "<style scoped>\n",
       "    .dataframe tbody tr th:only-of-type {\n",
       "        vertical-align: middle;\n",
       "    }\n",
       "\n",
       "    .dataframe tbody tr th {\n",
       "        vertical-align: top;\n",
       "    }\n",
       "\n",
       "    .dataframe thead th {\n",
       "        text-align: right;\n",
       "    }\n",
       "</style>\n",
       "<table border=\"1\" class=\"dataframe\">\n",
       "  <thead>\n",
       "    <tr style=\"text-align: right;\">\n",
       "      <th></th>\n",
       "      <th>title</th>\n",
       "      <th>number</th>\n",
       "      <th>url</th>\n",
       "      <th>assignee</th>\n",
       "      <th>created_at</th>\n",
       "      <th>updated_at</th>\n",
       "    </tr>\n",
       "  </thead>\n",
       "  <tbody>\n",
       "    <tr>\n",
       "      <th>0</th>\n",
       "      <td>feat: GitHub send contributor activity on slack</td>\n",
       "      <td>1961</td>\n",
       "      <td>https://api.github.com/repos/jupyter-naas/awesome-notebooks/pulls/1961</td>\n",
       "      <td>Benjifilly</td>\n",
       "      <td>2023-06-23T10:19:01Z</td>\n",
       "      <td>2023-06-27T09:01:22Z</td>\n",
       "    </tr>\n",
       "    <tr>\n",
       "      <th>1</th>\n",
       "      <td>feat: Naas - Create templates using MyChatGPT</td>\n",
       "      <td>1947</td>\n",
       "      <td>https://api.github.com/repos/jupyter-naas/awesome-notebooks/pulls/1947</td>\n",
       "      <td>FlorentLvr</td>\n",
       "      <td>2023-06-16T07:36:06Z</td>\n",
       "      <td>2023-06-20T09:21:59Z</td>\n",
       "    </tr>\n",
       "    <tr>\n",
       "      <th>2</th>\n",
       "      <td>feat: LangChain - Create embeddings from awesome-notebooks repository</td>\n",
       "      <td>1942</td>\n",
       "      <td>https://api.github.com/repos/jupyter-naas/awesome-notebooks/pulls/1942</td>\n",
       "      <td>Dr0p42</td>\n",
       "      <td>2023-06-15T14:51:14Z</td>\n",
       "      <td>2023-06-15T14:51:16Z</td>\n",
       "    </tr>\n",
       "  </tbody>\n",
       "</table>\n",
       "</div>"
      ],
      "text/plain": [
       "                                                                   title  \\\n",
       "0                        feat: GitHub send contributor activity on slack   \n",
       "1                          feat: Naas - Create templates using MyChatGPT   \n",
       "2  feat: LangChain - Create embeddings from awesome-notebooks repository   \n",
       "\n",
       "   number  \\\n",
       "0    1961   \n",
       "1    1947   \n",
       "2    1942   \n",
       "\n",
       "                                                                      url  \\\n",
       "0  https://api.github.com/repos/jupyter-naas/awesome-notebooks/pulls/1961   \n",
       "1  https://api.github.com/repos/jupyter-naas/awesome-notebooks/pulls/1947   \n",
       "2  https://api.github.com/repos/jupyter-naas/awesome-notebooks/pulls/1942   \n",
       "\n",
       "     assignee            created_at            updated_at  \n",
       "0  Benjifilly  2023-06-23T10:19:01Z  2023-06-27T09:01:22Z  \n",
       "1  FlorentLvr  2023-06-16T07:36:06Z  2023-06-20T09:21:59Z  \n",
       "2      Dr0p42  2023-06-15T14:51:14Z  2023-06-15T14:51:16Z  "
      ]
     },
     "execution_count": 6,
     "metadata": {},
     "output_type": "execute_result"
    }
   ],
   "source": [
    "# Connect to the GitHub API\n",
    "g = Github(github_token)\n",
    "# Get the repository\n",
    "repo = g.get_repo(repo_name)\n",
    "# Get the closed PR\n",
    "pull_requests = repo.get_pulls(state=\"open\")\n",
    "\n",
    "# Print the closed PR\n",
    "print(\"✅ Pull Requests fetched:\", pull_requests.totalCount)\n",
    "data = []\n",
    "for index, pr in enumerate(pull_requests):\n",
    "    # Init\n",
    "    assignee_login = None\n",
    "    assignee = pr.raw_data.get(\"assignee\")\n",
    "    if assignee:\n",
    "        assignee_login = assignee.get(\"login\")\n",
    "    tmp = {\n",
    "        \"title\": pr.title,\n",
    "        \"number\": pr.number,\n",
    "        \"url\": pr.raw_data.get(\"url\"),\n",
    "        \"assignee\": assignee_login,\n",
    "        \"created_at\": pr.raw_data.get(\"created_at\"),\n",
    "        \"updated_at\": pr.raw_data.get(\"updated_at\"),\n",
    "    }\n",
    "    data.append(tmp)\n",
    "\n",
    "df_pr = pd.DataFrame(data)\n",
    "df_pr.head(3)"
   ]
  },
  {
   "cell_type": "markdown",
   "id": "ceafa407-d67a-4654-818d-e63c2f7854b4",
   "metadata": {},
   "source": [
    "### Filter dataframe on contributor\n",
    "Do not forget to use .reset_index(drop=True)"
   ]
  },
  {
   "cell_type": "code",
   "execution_count": 7,
   "id": "7c1552cd-5db7-4fd6-be06-17f6f6ef9101",
   "metadata": {
    "execution": {
     "iopub.execute_input": "2023-06-27T09:12:07.292866Z",
     "iopub.status.busy": "2023-06-27T09:12:07.292532Z",
     "iopub.status.idle": "2023-06-27T09:12:07.306891Z",
     "shell.execute_reply": "2023-06-27T09:12:07.306084Z",
     "shell.execute_reply.started": "2023-06-27T09:12:07.292839Z"
    },
    "tags": []
   },
   "outputs": [
    {
     "name": "stdout",
     "output_type": "stream",
     "text": [
      "✅ PR Opened: 3\n"
     ]
    },
    {
     "data": {
      "text/html": [
       "<div>\n",
       "<style scoped>\n",
       "    .dataframe tbody tr th:only-of-type {\n",
       "        vertical-align: middle;\n",
       "    }\n",
       "\n",
       "    .dataframe tbody tr th {\n",
       "        vertical-align: top;\n",
       "    }\n",
       "\n",
       "    .dataframe thead th {\n",
       "        text-align: right;\n",
       "    }\n",
       "</style>\n",
       "<table border=\"1\" class=\"dataframe\">\n",
       "  <thead>\n",
       "    <tr style=\"text-align: right;\">\n",
       "      <th></th>\n",
       "      <th>title</th>\n",
       "      <th>number</th>\n",
       "      <th>url</th>\n",
       "      <th>assignee</th>\n",
       "      <th>created_at</th>\n",
       "      <th>updated_at</th>\n",
       "    </tr>\n",
       "  </thead>\n",
       "  <tbody>\n",
       "    <tr>\n",
       "      <th>0</th>\n",
       "      <td>feat: GitHub send contributor activity on slack</td>\n",
       "      <td>1961</td>\n",
       "      <td>https://api.github.com/repos/jupyter-naas/awesome-notebooks/pulls/1961</td>\n",
       "      <td>Benjifilly</td>\n",
       "      <td>2023-06-23T10:19:01Z</td>\n",
       "      <td>2023-06-27T09:01:22Z</td>\n",
       "    </tr>\n",
       "  </tbody>\n",
       "</table>\n",
       "</div>"
      ],
      "text/plain": [
       "                                             title  number  \\\n",
       "0  feat: GitHub send contributor activity on slack    1961   \n",
       "\n",
       "                                                                      url  \\\n",
       "0  https://api.github.com/repos/jupyter-naas/awesome-notebooks/pulls/1961   \n",
       "\n",
       "     assignee            created_at            updated_at  \n",
       "0  Benjifilly  2023-06-23T10:19:01Z  2023-06-27T09:01:22Z  "
      ]
     },
     "execution_count": 7,
     "metadata": {},
     "output_type": "execute_result"
    }
   ],
   "source": [
    "contributor_filtered_df = df_pr[df_pr['assignee'] == contributor_profile].reset_index(drop=True)\n",
    "print(\"✅ PR Opened:\", len(contributor_filtered_df))\n",
    "contributor_filtered_df.head(1)"
   ]
  },
  {
   "cell_type": "markdown",
   "id": "1629a4ed-89fd-444f-b99e-23d6a92a93c6",
   "metadata": {},
   "source": [
    "### Get PR in Review and WIP"
   ]
  },
  {
   "cell_type": "markdown",
   "id": "7bde03f0-5cca-4e13-8e60-3a8e74ce837c",
   "metadata": {
    "execution": {
     "iopub.execute_input": "2023-06-26T08:54:48.608487Z",
     "iopub.status.busy": "2023-06-26T08:54:48.608244Z",
     "iopub.status.idle": "2023-06-26T08:54:48.613827Z",
     "shell.execute_reply": "2023-06-26T08:54:48.612781Z",
     "shell.execute_reply.started": "2023-06-26T08:54:48.608461Z"
    },
    "tags": []
   },
   "source": [
    "Find if \"https://github.com/jupyter-naas/awesome-notebooks/issues/\" in comments or PR description"
   ]
  },
  {
   "cell_type": "code",
   "execution_count": 45,
   "id": "363b9853-cd64-4448-b735-2bc69dba23cc",
   "metadata": {
    "execution": {
     "iopub.execute_input": "2023-06-27T09:45:10.852486Z",
     "iopub.status.busy": "2023-06-27T09:45:10.852148Z",
     "iopub.status.idle": "2023-06-27T09:45:12.149340Z",
     "shell.execute_reply": "2023-06-27T09:45:12.148571Z",
     "shell.execute_reply.started": "2023-06-27T09:45:10.852461Z"
    },
    "tags": []
   },
   "outputs": [
    {
     "name": "stdout",
     "output_type": "stream",
     "text": [
      "✅ Pull Requests in Review: 1\n",
      "👨‍💻 Pull Requests Work in Progress: 2\n",
      "💻 Issues linked in PRs: 2\n"
     ]
    }
   ],
   "source": [
    "# Init - Create empty list\n",
    "prs_in_review = []\n",
    "prs_work_in_progress = []\n",
    "prs_linked_to_issues = []\n",
    "prs_numbers = []\n",
    "\n",
    "# Loop in df and last message on each PR\n",
    "for row in contributor_filtered_df.itertuples():\n",
    "    # Display PR number\n",
    "    pr_number = row.number\n",
    "    \n",
    "    # Append prs numbers\n",
    "    prs_numbers.append(str(pr_number))\n",
    "    \n",
    "    # Get PR object\n",
    "    pr = next((pr for pr in pull_requests if pr.number == pr_number), None)\n",
    "    \n",
    "    # If PR exists then get comments\n",
    "    if pr:\n",
    "        # Get PR description\n",
    "        pr_description = pr.body\n",
    "        issue_number = None\n",
    "        if pr_description:\n",
    "            # Split description to get issue number\n",
    "            split_result = pr_description.split(\"https://github.com/jupyter-naas/awesome-notebooks/issues/\")\n",
    "\n",
    "            # If list > 1 then issue number exists\n",
    "            if len(split_result) > 1:\n",
    "                # Get issue number\n",
    "                issue_number = split_result[1]\n",
    "        if issue_number:\n",
    "            prs_linked_to_issues.append(issue_number)\n",
    "\n",
    "        # Get comments from PR\n",
    "        comments = pr.get_issue_comments()\n",
    "        \n",
    "        # Check if nb comments > 0 else PR status = WIP\n",
    "        if comments.totalCount > 0:\n",
    "            last_comment = comments[comments.totalCount-1].body.lower()\n",
    "            \n",
    "            # Check if \"read to review\" else PR status = WIP\n",
    "            if \"ready to review\" in last_comment:\n",
    "                prs_in_review.append(pr)\n",
    "            else:\n",
    "                prs_work_in_progress.append(pr)\n",
    "        else:\n",
    "            prs_work_in_progress.append(pr)\n",
    "            \n",
    "print(\"✅ Pull Requests in Review:\", len(prs_in_review))\n",
    "print(\"👨‍💻 Pull Requests Work in Progress:\", len(prs_work_in_progress))\n",
    "print(\"💻 Issues linked in PRs:\", len(prs_linked_to_issues))"
   ]
  },
  {
   "cell_type": "markdown",
   "id": "d4fb0b7d-21a7-41e2-8acb-8b6155097b5b",
   "metadata": {
    "papermill": {},
    "tags": []
   },
   "source": [
    "### Get issues by contributor"
   ]
  },
  {
   "cell_type": "code",
   "execution_count": 32,
   "id": "004fd8ac-a3f9-4b8b-bb6a-7970dd356b8c",
   "metadata": {
    "execution": {
     "iopub.execute_input": "2023-06-27T09:32:06.763137Z",
     "iopub.status.busy": "2023-06-27T09:32:06.762853Z",
     "iopub.status.idle": "2023-06-27T09:32:07.322600Z",
     "shell.execute_reply": "2023-06-27T09:32:07.321834Z",
     "shell.execute_reply.started": "2023-06-27T09:32:06.763109Z"
    },
    "tags": []
   },
   "outputs": [
    {
     "name": "stdout",
     "output_type": "stream",
     "text": [
      "✅ Issues fetched: 7\n"
     ]
    }
   ],
   "source": [
    "# Get the repository\n",
    "repository = g.get_repo(f'{repo_name}')\n",
    "\n",
    "# Get issues assigned to the contributor\n",
    "issues = repository.get_issues(assignee=contributor_profile)\n",
    "\n",
    "# Print number of issues\n",
    "print(\"✅ Issues fetched:\", issues.totalCount)"
   ]
  },
  {
   "cell_type": "code",
   "execution_count": 51,
   "id": "11c98e27-1dc6-458f-94e8-68dfc1c0eeea",
   "metadata": {
    "execution": {
     "iopub.execute_input": "2023-06-27T09:49:40.605681Z",
     "iopub.status.busy": "2023-06-27T09:49:40.605402Z",
     "iopub.status.idle": "2023-06-27T09:49:42.106228Z",
     "shell.execute_reply": "2023-06-27T09:49:42.105480Z",
     "shell.execute_reply.started": "2023-06-27T09:49:40.605652Z"
    },
    "tags": []
   },
   "outputs": [
    {
     "name": "stdout",
     "output_type": "stream",
     "text": [
      "✅ New issues: 1\n"
     ]
    },
    {
     "data": {
      "text/plain": [
       "[Issue(title=\"Pandas - Concatenate dataframe fix\", number=1878)]"
      ]
     },
     "execution_count": 51,
     "metadata": {},
     "output_type": "execute_result"
    }
   ],
   "source": [
    "# Init variables\n",
    "new_issues = []\n",
    "\n",
    "# Loop\n",
    "for issue in issues:\n",
    "    # Init\n",
    "    issue_number = issue.number\n",
    "    \n",
    "    # List events in issues\n",
    "    events = issue.get_events()\n",
    "    list_events = [event.event for event in events]\n",
    "    \n",
    "    # Exclude issues linked to PR or with events connected\n",
    "    if (str(issue_number) not in prs_linked_to_issues) and ('connected' not in list_events) and (str(issue_number) not in prs_numbers):\n",
    "        new_issues.append(issue)\n",
    "\n",
    "print(\"✅ New issues:\", len(new_issues))\n",
    "new_issues"
   ]
  },
  {
   "cell_type": "markdown",
   "id": "a8dee826-263c-4434-8116-5f2e0eb89d88",
   "metadata": {},
   "source": [
    "### Create Slack block"
   ]
  },
  {
   "cell_type": "code",
   "execution_count": 54,
   "id": "85555b21-aa00-4a21-9276-d2be9c96e614",
   "metadata": {
    "execution": {
     "iopub.execute_input": "2023-06-27T09:51:07.534187Z",
     "iopub.status.busy": "2023-06-27T09:51:07.533921Z",
     "iopub.status.idle": "2023-06-27T09:51:07.543569Z",
     "shell.execute_reply": "2023-06-27T09:51:07.542683Z",
     "shell.execute_reply.started": "2023-06-27T09:51:07.534161Z"
    },
    "tags": []
   },
   "outputs": [],
   "source": [
    "prs_in_review.sort(key=lambda pr: pr.number, reverse=True)\n",
    "prs_work_in_progress.sort(key=lambda pr: pr.number, reverse=True)\n",
    "new_issues.sort(key=lambda issue: issue.number, reverse=True)\n",
    "current_date = datetime.now().strftime(\"%B %d, %Y %H:%M\")\n",
    "\n",
    "blocks = [\n",
    "    {\n",
    "        \"type\": \"header\",\n",
    "        \"text\": {\n",
    "            \"type\": \"plain_text\",\n",
    "            \"text\": f\"{contributor_profile} - Activity update as of {current_date}\",\n",
    "            \"emoji\": True\n",
    "        }\n",
    "    },\n",
    "    {\n",
    "        \"type\": \"divider\"\n",
    "    },\n",
    "    {\n",
    "        \"type\": \"section\",\n",
    "        \"text\": {\n",
    "            \"type\": \"mrkdwn\",\n",
    "            \"text\": f\"✅ *List of PR to be validated ({len(prs_in_review)}):*\"\n",
    "        }\n",
    "    },\n",
    "    *[\n",
    "        {\n",
    "            \"type\": \"section\",\n",
    "            \"text\": {\n",
    "                \"type\": \"mrkdwn\",\n",
    "                \"text\": f\"- <{pr.html_url}|#{pr.number} {pr.title}>\"\n",
    "            }\n",
    "        }\n",
    "        for pr in prs_in_review\n",
    "    ],\n",
    "    {\n",
    "        \"type\": \"divider\"\n",
    "    },\n",
    "    {\n",
    "        \"type\": \"section\",\n",
    "        \"text\": {\n",
    "            \"type\": \"mrkdwn\",\n",
    "            \"text\": f\"👨‍💻 *List of current PR ({len(prs_work_in_progress)}):*\"\n",
    "        }\n",
    "    },\n",
    "    *[\n",
    "        {\n",
    "            \"type\": \"section\",\n",
    "            \"text\": {\n",
    "                \"type\": \"mrkdwn\",\n",
    "                \"text\": f\"- <{pr.html_url}|#{pr.number} {pr.title}>\"\n",
    "            }\n",
    "        }\n",
    "        for pr in prs_work_in_progress\n",
    "    ],\n",
    "    {\n",
    "        \"type\": \"divider\"\n",
    "    },\n",
    "    {\n",
    "        \"type\": \"section\",\n",
    "        \"text\": {\n",
    "            \"type\": \"mrkdwn\",\n",
    "            \"text\": f\":bulb: *List of new issues ({len(new_issues)}):*\"\n",
    "        }\n",
    "    },\n",
    "    *[\n",
    "        {\n",
    "            \"type\": \"section\",\n",
    "            \"text\": {\n",
    "                \"type\": \"mrkdwn\",\n",
    "                \"text\": f\"- <{issue.html_url}|#{issue.number} {issue.title}>\"\n",
    "            }\n",
    "        }\n",
    "        for issue in new_issues\n",
    "    ]\n",
    "]"
   ]
  },
  {
   "cell_type": "markdown",
   "id": "04c0ae0c-1d5b-49bf-beab-f3d7f57d13a4",
   "metadata": {
    "papermill": {},
    "tags": []
   },
   "source": [
    "## Output"
   ]
  },
  {
   "cell_type": "markdown",
   "id": "a9939de6-9ebd-4814-905c-e5c4edc9aa6a",
   "metadata": {
    "execution": {
     "iopub.execute_input": "2023-06-16T14:58:21.299673Z",
     "iopub.status.busy": "2023-06-16T14:58:21.299316Z",
     "iopub.status.idle": "2023-06-16T14:58:21.306875Z",
     "shell.execute_reply": "2023-06-16T14:58:21.306132Z",
     "shell.execute_reply.started": "2023-06-16T14:58:21.299635Z"
    },
    "tags": []
   },
   "source": [
    "### Send message on Slack"
   ]
  },
  {
   "cell_type": "code",
   "execution_count": 55,
   "id": "97cb8cb4-24e5-411c-a27a-ff58a355d3d4",
   "metadata": {
    "execution": {
     "iopub.execute_input": "2023-06-27T09:51:08.823992Z",
     "iopub.status.busy": "2023-06-27T09:51:08.823640Z",
     "iopub.status.idle": "2023-06-27T09:51:09.021961Z",
     "shell.execute_reply": "2023-06-27T09:51:09.020758Z",
     "shell.execute_reply.started": "2023-06-27T09:51:08.823964Z"
    },
    "papermill": {},
    "tags": []
   },
   "outputs": [
    {
     "name": "stdout",
     "output_type": "stream",
     "text": [
      "✉️ Message sent\n"
     ]
    }
   ],
   "source": [
    "slack.connect(slack_bot_token).send(slack_channel, text=None, blocks=blocks)"
   ]
  },
  {
   "cell_type": "code",
   "execution_count": null,
   "id": "36f9f90d-f8ac-4034-832d-2a60b3d0b5d1",
   "metadata": {},
   "outputs": [],
   "source": []
  }
 ],
 "metadata": {
  "kernelspec": {
   "display_name": "Python 3",
   "language": "python",
   "name": "python3"
  },
  "language_info": {
   "codemirror_mode": {
    "name": "ipython",
    "version": 3
   },
   "file_extension": ".py",
   "mimetype": "text/x-python",
   "name": "python",
   "nbconvert_exporter": "python",
   "pygments_lexer": "ipython3",
   "version": "3.9.6"
  },
  "naas": {
   "notebook_id": "34d8e5474a94719c1703516d66d3e99cbaaada2b84c29f116ea81516710e5783",
   "notebook_path": "GitHub/GitHub_Reopen_issue.ipynb"
  },
  "papermill": {
   "default_parameters": {},
   "environment_variables": {},
   "parameters": {},
   "version": "2.4.0"
  },
  "widgets": {
   "application/vnd.jupyter.widget-state+json": {
    "state": {},
    "version_major": 2,
    "version_minor": 0
   }
  }
 },
 "nbformat": 4,
 "nbformat_minor": 5
}
