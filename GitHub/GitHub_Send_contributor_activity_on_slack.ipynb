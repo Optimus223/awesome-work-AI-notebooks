{
 "cells": [
  {
   "cell_type": "markdown",
   "id": "ada9f2a9-8daa-4b89-a03c-ffcdae2fd220",
   "metadata": {
    "papermill": {},
    "tags": []
   },
   "source": [
    "<img width=\"10%\" alt=\"Naas\" src=\"https://landen.imgix.net/jtci2pxwjczr/assets/5ice39g4.png?w=160\"/>"
   ]
  },
  {
   "cell_type": "markdown",
   "id": "373a7231-6f7d-47da-b3cd-6b8f5250223a",
   "metadata": {
    "papermill": {},
    "tags": []
   },
   "source": [
    "# GitHub - Send contributor activity on slack\n",
    "<a href=\"https://app.naas.ai/user-redirect/naas/downloader?url=https://raw.githubusercontent.com/jupyter-naas/awesome-notebooks/master/GitHub/GitHub_Reopen_issue.ipynb\" target=\"_parent\"><img src=\"https://naasai-public.s3.eu-west-3.amazonaws.com/Open_in_Naas_Lab.svg\"/></a><br><br><a href=\"https://github.com/jupyter-naas/awesome-notebooks/issues/new?assignees=&labels=&template=template-request.md&title=Tool+-+Action+of+the+notebook+\">Template request</a> | <a href=\"https://github.com/jupyter-naas/awesome-notebooks/issues/new?assignees=&labels=bug&template=bug_report.md&title=GitHub+-+Reopen+issue:+Error+short+description\">Bug report</a> | <a href=\"https://app.naas.ai/user-redirect/naas/downloader?url=https://raw.githubusercontent.com/jupyter-naas/awesome-notebooks/master/Naas/Naas_Start_data_product.ipynb\" target=\"_parent\">Generate Data Product</a>"
   ]
  },
  {
   "cell_type": "markdown",
   "id": "611b4f12-8112-4e0f-b6ac-5bb96855fa7f",
   "metadata": {
    "papermill": {},
    "tags": []
   },
   "source": [
    "**Tags:** #github #activity #update #api #snippet #operations #slack "
   ]
  },
  {
   "cell_type": "markdown",
   "id": "7903a6e2-70c3-4149-8279-c603417a7836",
   "metadata": {
    "papermill": {},
    "tags": []
   },
   "source": [
    "**Author:** [Benjamin Filly](https://www.linkedin.com/in/benjamin-filly-05427727a/)"
   ]
  },
  {
   "cell_type": "markdown",
   "id": "4e3aadfe-6d61-41b9-80f2-a790718018ee",
   "metadata": {
    "papermill": {},
    "tags": []
   },
   "source": [
    "**Description:** This notebook explains how to send the GitHub activity on Slack, it sends Slack the number of queues made in total, this month, this week and the last 5 made, Then the work ready (For the PR to be put in ready, the last message must be \"Ready to review\") The work in progress is the PR whose last message is not \"Ready to review\", and finally the new issues that do not have an open PR.\n",
    "It takes a little time to execute"
   ]
  },
  {
   "cell_type": "markdown",
   "id": "2b5dcc40-1fac-47c9-b577-26229548f2b1",
   "metadata": {
    "papermill": {},
    "tags": []
   },
   "source": [
    "**References:**\n",
    "- [GitHub REST API Documentation](https://docs.github.com/en/rest/issues/issues?apiVersion=2022-11-28#update-an-issue)\n",
    "- [os](https://docs.python.org/3/library/os.html)\n",
    "- [json](https://docs.python.org/3/library/json.html)\n",
    "- [datetime](https://docs.python.org/3/library/datetime.html)\n",
    "- [pandas](https://pandas.pydata.org/docs/)\n",
    "- [requests](https://docs.python-requests.org/en/latest/)\n",
    "- [slack (naas_drivers)](https://pypi.org/project/naas-drivers/)\n",
    "- [Slack Block Kit Builder](https://app.slack.com/block-kit-builder/)"
   ]
  },
  {
   "cell_type": "markdown",
   "id": "892d0dd8-86b4-4788-86ac-a8a34a29cb94",
   "metadata": {
    "papermill": {},
    "tags": []
   },
   "source": [
    "## Input"
   ]
  },
  {
   "cell_type": "markdown",
   "id": "727b3406-2d41-41ff-aad6-10007bda4a69",
   "metadata": {
    "papermill": {},
    "tags": []
   },
   "source": [
    "### Import libraries"
   ]
  },
  {
   "cell_type": "code",
   "execution_count": 1,
   "id": "c14a82ed-deca-4d54-a1ba-da6356c3865b",
   "metadata": {
    "execution": {
     "iopub.execute_input": "2023-06-28T07:59:53.369197Z",
     "iopub.status.busy": "2023-06-28T07:59:53.368753Z",
     "iopub.status.idle": "2023-06-28T07:59:56.460332Z",
     "shell.execute_reply": "2023-06-28T07:59:56.459611Z",
     "shell.execute_reply.started": "2023-06-28T07:59:53.369122Z"
    },
    "papermill": {},
    "tags": []
   },
   "outputs": [
    {
     "name": "stderr",
     "output_type": "stream",
     "text": [
      "/home/ftp/.local/lib/python3.9/site-packages/slack/deprecation.py:14: UserWarning: slack package is deprecated. Please use slack_sdk.web/webhook/rtm package instead. For more info, go to https://slack.dev/python-slack-sdk/v3-migration/\n",
      "  warnings.warn(message)\n",
      "/home/ftp/.local/lib/python3.9/site-packages/slack/deprecation.py:14: UserWarning: slack.errors package is deprecated. Please use slack_sdk.errors package instead. For more info, go to https://slack.dev/python-slack-sdk/v3-migration/\n",
      "  warnings.warn(message)\n"
     ]
    }
   ],
   "source": [
    "import os\n",
    "import json\n",
    "from datetime import datetime\n",
    "from github import Github\n",
    "import naas\n",
    "import pandas as pd\n",
    "import requests\n",
    "from naas_drivers import slack\n",
    "# The function \"pd.set_option('display.max_colwidth', None)\" is used in pandas, a data manipulation library in Python, to set the maximum width for displaying column contents in a tabular format to be unlimited, allowing the full content of each column to be displayed without truncation.\n",
    "pd.set_option('display.max_colwidth', None)"
   ]
  },
  {
   "cell_type": "markdown",
   "id": "18a7ce29-9182-4b79-8f5f-5032b8b8774f",
   "metadata": {
    "papermill": {},
    "tags": []
   },
   "source": [
    "### Setup Variables\n",
    "- `github_token`: [GitHub token](https://help.github.com/en/github/authenticating-to-github/creating-a-personal-access-token-for-the-command-line)\n",
    "- `contributor_profile`: your GitHub username\n",
    "- `repo_name`: name of the repository in two part: owner_name/repository_name\n",
    "- `slack_bot_token`: [Slack Bot token](https://docs.celigo.com/hc/en-us/articles/7140655476507-How-to-create-an-app-and-retrieve-OAuth-token-in-Slack)\n",
    "- `slack_channel`: The name of the channel you want to send the message"
   ]
  },
  {
   "cell_type": "code",
   "execution_count": 2,
   "id": "ad68a533-dfdb-44ba-b1f8-860bbe5c8d08",
   "metadata": {
    "execution": {
     "iopub.execute_input": "2023-06-28T07:59:56.462140Z",
     "iopub.status.busy": "2023-06-28T07:59:56.461735Z",
     "iopub.status.idle": "2023-06-28T07:59:56.733598Z",
     "shell.execute_reply": "2023-06-28T07:59:56.732898Z",
     "shell.execute_reply.started": "2023-06-28T07:59:56.462106Z"
    },
    "papermill": {},
    "tags": []
   },
   "outputs": [],
   "source": [
    "# Input variables\n",
    "github_token = naas.secret.get(\"GITHUB_TOKEN\") or \"GITHUB_TOKEN\"\n",
    "repo_name = \"jupyter-naas/awesome-notebooks\" #example for naas users\n",
    "contributor_profile = \"GITHUB_USERNAME\"\n",
    "slack_bot_token = naas.secret.get(\"SLACK_BOT_TOKEN\") or \"SLACK_TOKEN\"\n",
    "slack_channel = \"CHANNEL_NAME\""
   ]
  },
  {
   "cell_type": "markdown",
   "id": "ef6aae6b-fe4b-4bc9-955b-533690997ea9",
   "metadata": {
    "papermill": {},
    "tags": []
   },
   "source": [
    "## Model"
   ]
  },
  {
   "cell_type": "markdown",
   "id": "b8be7b04-6d74-4d48-8435-0ea180116c7d",
   "metadata": {
    "execution": {
     "iopub.execute_input": "2023-06-26T09:10:37.794637Z",
     "iopub.status.busy": "2023-06-26T09:10:37.794315Z",
     "iopub.status.idle": "2023-06-26T09:10:37.808867Z",
     "shell.execute_reply": "2023-06-26T09:10:37.807524Z",
     "shell.execute_reply.started": "2023-06-26T09:10:37.794602Z"
    }
   },
   "source": [
    "### Get Closed PRs\n",
    "So here we're filtering out all closed PRs on the `contributor_profile`, then we retrieve the files added by each PR and classify them by month and week."
   ]
  },
  {
   "cell_type": "code",
   "execution_count": 3,
   "id": "b89149bc-9d7b-4d8b-87bc-65c3dc9c2b21",
   "metadata": {
    "execution": {
     "iopub.execute_input": "2023-06-28T07:59:56.735007Z",
     "iopub.status.busy": "2023-06-28T07:59:56.734746Z",
     "iopub.status.idle": "2023-06-28T08:00:22.404139Z",
     "shell.execute_reply": "2023-06-28T08:00:22.403436Z",
     "shell.execute_reply.started": "2023-06-28T07:59:56.734965Z"
    },
    "tags": []
   },
   "outputs": [
    {
     "name": "stdout",
     "output_type": "stream",
     "text": [
      "✅ Pull Requests fetched: 677\n",
      "📌Number of assigned closed PR: 27\n"
     ]
    }
   ],
   "source": [
    "# Connect to the GitHub API\n",
    "g = Github(github_token)\n",
    "\n",
    "# Get the repository\n",
    "repo = g.get_repo(repo_name)\n",
    "\n",
    "# Get the closed PR\n",
    "pull_requests = repo.get_pulls(state='closed', sort='updated', direction='desc')\n",
    "print(\"✅ Pull Requests fetched:\", pull_requests.totalCount)\n",
    "\n",
    "# Iterate over the pull requests and filter by assignee\n",
    "assigned_pull_requests = [pr for pr in pull_requests if pr.assignee and pr.assignee.login == contributor_profile]\n",
    "\n",
    "# Print the closed PR count\n",
    "print(f\"📌Number of assigned closed PR: {len(assigned_pull_requests)}\")"
   ]
  },
  {
   "cell_type": "code",
   "execution_count": 4,
   "id": "69882a68-5f95-4670-a696-db94b5815ac9",
   "metadata": {
    "execution": {
     "iopub.execute_input": "2023-06-28T08:00:22.405520Z",
     "iopub.status.busy": "2023-06-28T08:00:22.405283Z",
     "iopub.status.idle": "2023-06-28T08:00:30.571599Z",
     "shell.execute_reply": "2023-06-28T08:00:30.570929Z",
     "shell.execute_reply.started": "2023-06-28T08:00:22.405489Z"
    },
    "tags": []
   },
   "outputs": [
    {
     "name": "stdout",
     "output_type": "stream",
     "text": [
      "1897 feat: Pandas - Check if column is in date format 2023-06-27 16:06:44\n",
      "1955 feat: GitHub - List branches 2023-06-26 07:48:58\n",
      "1886 feat: Request - Handling Errors and Exceptions 2023-06-26 07:03:00\n",
      "1960 feat: convert multiple units 2023-06-26 06:48:21\n",
      "1952 feat: Slack - Send blocks to channel 2023-06-22 14:20:35\n",
      "1943 feat: Python - Unit converter 2023-06-19 16:18:13\n",
      "1938 feat: Python - Currency converter 2023-06-19 16:07:39\n",
      "1936 feat: Python - Pseudonym generator 2023-06-19 16:04:35\n",
      "1931 feat: Python - Get a random word 2023-06-19 13:25:27\n",
      "1940 feat: Python - Manage exception with try except 2023-06-16 14:36:28\n",
      "1900 feat: Pandas - Sort values by multiples columns 2023-06-16 07:01:09\n",
      "1884 feat: Request - Sending POST Requests with Data 2023-06-16 06:47:03\n",
      "1882 feat: Request - Basic HTTP GET Request 2023-06-16 06:33:29\n",
      "1933 Update and rename Python_Find_differences_between_stings.ipynb to Pyt… 2023-06-15 09:16:49\n",
      "1929 feat: Deepl - Translate text to .txt 2023-06-14 15:56:36\n",
      "1903 feat: Pandas - Get n largest 2023-06-14 15:44:59\n",
      "1905 feat: Pandas - Get n smallest 2023-06-13 16:27:03\n",
      "1908 feat: Python - Find differences between stings 2023-06-13 16:11:51\n",
      "1895 feat: OS - List entries in directory 2023-06-13 15:54:28\n",
      "1876 feat : Python extract characters from string 2023-06-13 15:53:13\n",
      "1874 feat : Python remove space on string 2023-06-13 07:54:36\n",
      "1872 feat: Python split string 2023-06-09 09:05:26\n",
      "1866 feat : Pandas - Save dataframe to Excel  2023-06-09 08:50:17\n",
      "1868 feat: Pandas - Iterate over DataFrame rows as namedtuples 2023-06-09 08:49:17\n",
      "1864 1863 python get random number using random 2023-06-08 14:24:21\n",
      "1870 feat: OS check path 2023-06-08 13:58:31\n",
      "1861 feat: concatenate dataframes 2023-06-07 08:11:50\n",
      "📈 Number of Files added: 35\n",
      "📁 Number of Files added this month: 35 (+35 vs last month)\n",
      "📂 Number of Files added this week: 10 (+8 vs last week)\n"
     ]
    }
   ],
   "source": [
    "# Create an empty list to store the files added in closed pull requests\n",
    "files_added_month = []\n",
    "files_added_week = []\n",
    "files_added = []\n",
    "\n",
    "# Get the current date\n",
    "current_date = datetime.datetime.now()\n",
    "\n",
    "# Iterate over the assigned closed pull requests\n",
    "for pr in assigned_pull_requests:\n",
    "    print(pr.number, pr.title, pr.merged_at)\n",
    "    \n",
    "    # Get files added\n",
    "    files = pr.get_files()\n",
    "    \n",
    "    # Get the date the file was created\n",
    "    file_created = pr.merged_at\n",
    "    \n",
    "    days_diff = None  # Initialize days_diff\n",
    "    \n",
    "    if file_created is not None:\n",
    "        # Calculate the difference in days between the current date and file creation date\n",
    "        days_diff = (current_date - file_created).days\n",
    "        \n",
    "        # Iterate over the files added in the pull request\n",
    "        for file in files:\n",
    "            file_path = file.filename\n",
    "            file_url = file.raw_url\n",
    "\n",
    "            # Prep data\n",
    "            tmp = {\n",
    "                \"file_path\": file_path,\n",
    "                \"file_url\": file_url,\n",
    "                \"file_created\": pr.merged_at,\n",
    "                \"pr_number\": pr.number,\n",
    "                \"pr_title\": pr.title,\n",
    "                \"pr_url\": pr.url,\n",
    "            }\n",
    "            \n",
    "            # Add the data to the respective lists based on the file creation date\n",
    "            if days_diff is not None and days_diff <= 30:\n",
    "                files_added_month.append(tmp)\n",
    "            if days_diff is not None and days_diff <= 7:\n",
    "                files_added_week.append(tmp)\n",
    "            \n",
    "            # Add the data to the files_added list\n",
    "            files_added.append(tmp)\n",
    "\n",
    "# Calculate the variation between the current month and the last month\n",
    "current_month = current_date.month\n",
    "last_month = current_month - 1 if current_month > 1 else 12\n",
    "files_added_current_month = [file for file in files_added_month if file['file_created'].month == current_month]\n",
    "files_added_last_month = [file for file in files_added_month if file['file_created'].month == last_month]\n",
    "variation_month = len(files_added_current_month) - len(files_added_last_month)\n",
    "\n",
    "# Calculate the variation between the current week and the last week\n",
    "current_week = current_date.isocalendar()[1]\n",
    "last_week = current_week - 1 if current_week > 1 else 52\n",
    "files_added_current_week = [file for file in files_added_week if file['file_created'].isocalendar()[1] == current_week]\n",
    "files_added_last_week = [file for file in files_added_week if file['file_created'].isocalendar()[1] == last_week]\n",
    "variation_week = len(files_added_current_week) - len(files_added_last_week)\n",
    "\n",
    "# Prepare the variation strings\n",
    "variation_month_str = f\"+{variation_month}\" if variation_month > 0 else str(variation_month)\n",
    "variation_week_str = f\"+{variation_week}\" if variation_week > 0 else str(variation_week)\n",
    "\n",
    "# Print the number of files added and the variations\n",
    "print(f\"📈 Number of Files added: {len(files_added)}\")\n",
    "print(f\"📁 Number of Files added this month: {len(files_added_current_month)} ({variation_month_str} vs last month)\")\n",
    "print(f\"📂 Number of Files added this week: {len(files_added_current_week)} ({variation_week_str} vs last week)\")\n"
   ]
  },
  {
   "cell_type": "markdown",
   "id": "528c059d-c5dc-4379-b364-5d8ca8bf7af9",
   "metadata": {
    "papermill": {},
    "tags": []
   },
   "source": [
    "### Get PRs\n",
    "Here we retrieve all open PRs"
   ]
  },
  {
   "cell_type": "code",
   "execution_count": 5,
   "id": "88872b50-4781-4226-bcf4-1983b5968990",
   "metadata": {
    "execution": {
     "iopub.execute_input": "2023-06-28T08:00:30.574662Z",
     "iopub.status.busy": "2023-06-28T08:00:30.574488Z",
     "iopub.status.idle": "2023-06-28T08:00:43.449134Z",
     "shell.execute_reply": "2023-06-28T08:00:43.448479Z",
     "shell.execute_reply.started": "2023-06-28T08:00:30.574642Z"
    },
    "tags": []
   },
   "outputs": [
    {
     "name": "stdout",
     "output_type": "stream",
     "text": [
      "✅ Pull Requests fetched: 23\n"
     ]
    },
    {
     "data": {
      "text/html": [
       "<div>\n",
       "<style scoped>\n",
       "    .dataframe tbody tr th:only-of-type {\n",
       "        vertical-align: middle;\n",
       "    }\n",
       "\n",
       "    .dataframe tbody tr th {\n",
       "        vertical-align: top;\n",
       "    }\n",
       "\n",
       "    .dataframe thead th {\n",
       "        text-align: right;\n",
       "    }\n",
       "</style>\n",
       "<table border=\"1\" class=\"dataframe\">\n",
       "  <thead>\n",
       "    <tr style=\"text-align: right;\">\n",
       "      <th></th>\n",
       "      <th>title</th>\n",
       "      <th>number</th>\n",
       "      <th>url</th>\n",
       "      <th>assignee</th>\n",
       "      <th>created_at</th>\n",
       "      <th>updated_at</th>\n",
       "    </tr>\n",
       "  </thead>\n",
       "  <tbody>\n",
       "    <tr>\n",
       "      <th>0</th>\n",
       "      <td>feat: OWID - Visualize population structure over the years</td>\n",
       "      <td>1964</td>\n",
       "      <td>https://api.github.com/repos/jupyter-naas/awesome-notebooks/pulls/1964</td>\n",
       "      <td>None</td>\n",
       "      <td>2023-06-27T20:25:10Z</td>\n",
       "      <td>2023-06-27T20:26:34Z</td>\n",
       "    </tr>\n",
       "    <tr>\n",
       "      <th>1</th>\n",
       "      <td>feat: GitHub send contributor activity on slack</td>\n",
       "      <td>1961</td>\n",
       "      <td>https://api.github.com/repos/jupyter-naas/awesome-notebooks/pulls/1961</td>\n",
       "      <td>Benjifilly</td>\n",
       "      <td>2023-06-23T10:19:01Z</td>\n",
       "      <td>2023-06-27T16:57:00Z</td>\n",
       "    </tr>\n",
       "    <tr>\n",
       "      <th>2</th>\n",
       "      <td>feat: Naas - Create templates using MyChatGPT</td>\n",
       "      <td>1947</td>\n",
       "      <td>https://api.github.com/repos/jupyter-naas/awesome-notebooks/pulls/1947</td>\n",
       "      <td>FlorentLvr</td>\n",
       "      <td>2023-06-16T07:36:06Z</td>\n",
       "      <td>2023-06-20T09:21:59Z</td>\n",
       "    </tr>\n",
       "  </tbody>\n",
       "</table>\n",
       "</div>"
      ],
      "text/plain": [
       "                                                        title  number  \\\n",
       "0  feat: OWID - Visualize population structure over the years    1964   \n",
       "1             feat: GitHub send contributor activity on slack    1961   \n",
       "2               feat: Naas - Create templates using MyChatGPT    1947   \n",
       "\n",
       "                                                                      url  \\\n",
       "0  https://api.github.com/repos/jupyter-naas/awesome-notebooks/pulls/1964   \n",
       "1  https://api.github.com/repos/jupyter-naas/awesome-notebooks/pulls/1961   \n",
       "2  https://api.github.com/repos/jupyter-naas/awesome-notebooks/pulls/1947   \n",
       "\n",
       "     assignee            created_at            updated_at  \n",
       "0        None  2023-06-27T20:25:10Z  2023-06-27T20:26:34Z  \n",
       "1  Benjifilly  2023-06-23T10:19:01Z  2023-06-27T16:57:00Z  \n",
       "2  FlorentLvr  2023-06-16T07:36:06Z  2023-06-20T09:21:59Z  "
      ]
     },
     "execution_count": 5,
     "metadata": {},
     "output_type": "execute_result"
    }
   ],
   "source": [
    "# Connect to the GitHub API\n",
    "g = Github(github_token)\n",
    "# Get the repository\n",
    "repo = g.get_repo(repo_name)\n",
    "# Get the closed PR\n",
    "pull_requests = repo.get_pulls(state=\"open\")\n",
    "\n",
    "# Print the closed PR\n",
    "print(\"✅ Pull Requests fetched:\", pull_requests.totalCount)\n",
    "data = []\n",
    "for index, pr in enumerate(pull_requests):\n",
    "    # Init\n",
    "    assignee_login = None\n",
    "    assignee = pr.raw_data.get(\"assignee\")\n",
    "    if assignee:\n",
    "        assignee_login = assignee.get(\"login\")\n",
    "    tmp = {\n",
    "        \"title\": pr.title,\n",
    "        \"number\": pr.number,\n",
    "        \"url\": pr.raw_data.get(\"url\"),\n",
    "        \"assignee\": assignee_login,\n",
    "        \"created_at\": pr.raw_data.get(\"created_at\"),\n",
    "        \"updated_at\": pr.raw_data.get(\"updated_at\"),\n",
    "    }\n",
    "    data.append(tmp)\n",
    "\n",
    "df_pr = pd.DataFrame(data)\n",
    "df_pr.head(3)"
   ]
  },
  {
   "cell_type": "markdown",
   "id": "ceafa407-d67a-4654-818d-e63c2f7854b4",
   "metadata": {},
   "source": [
    "### Filter dataframe on contributor\n",
    "Then we filter them using the given `contributor_profile`"
   ]
  },
  {
   "cell_type": "code",
   "execution_count": 6,
   "id": "7c1552cd-5db7-4fd6-be06-17f6f6ef9101",
   "metadata": {
    "execution": {
     "iopub.execute_input": "2023-06-28T08:00:43.451754Z",
     "iopub.status.busy": "2023-06-28T08:00:43.451581Z",
     "iopub.status.idle": "2023-06-28T08:00:43.464852Z",
     "shell.execute_reply": "2023-06-28T08:00:43.464315Z",
     "shell.execute_reply.started": "2023-06-28T08:00:43.451733Z"
    },
    "tags": []
   },
   "outputs": [
    {
     "name": "stdout",
     "output_type": "stream",
     "text": [
      "✅ PR Opened: 2\n"
     ]
    },
    {
     "data": {
      "text/html": [
       "<div>\n",
       "<style scoped>\n",
       "    .dataframe tbody tr th:only-of-type {\n",
       "        vertical-align: middle;\n",
       "    }\n",
       "\n",
       "    .dataframe tbody tr th {\n",
       "        vertical-align: top;\n",
       "    }\n",
       "\n",
       "    .dataframe thead th {\n",
       "        text-align: right;\n",
       "    }\n",
       "</style>\n",
       "<table border=\"1\" class=\"dataframe\">\n",
       "  <thead>\n",
       "    <tr style=\"text-align: right;\">\n",
       "      <th></th>\n",
       "      <th>title</th>\n",
       "      <th>number</th>\n",
       "      <th>url</th>\n",
       "      <th>assignee</th>\n",
       "      <th>created_at</th>\n",
       "      <th>updated_at</th>\n",
       "    </tr>\n",
       "  </thead>\n",
       "  <tbody>\n",
       "    <tr>\n",
       "      <th>0</th>\n",
       "      <td>feat: GitHub send contributor activity on slack</td>\n",
       "      <td>1961</td>\n",
       "      <td>https://api.github.com/repos/jupyter-naas/awesome-notebooks/pulls/1961</td>\n",
       "      <td>Benjifilly</td>\n",
       "      <td>2023-06-23T10:19:01Z</td>\n",
       "      <td>2023-06-27T16:57:00Z</td>\n",
       "    </tr>\n",
       "  </tbody>\n",
       "</table>\n",
       "</div>"
      ],
      "text/plain": [
       "                                             title  number  \\\n",
       "0  feat: GitHub send contributor activity on slack    1961   \n",
       "\n",
       "                                                                      url  \\\n",
       "0  https://api.github.com/repos/jupyter-naas/awesome-notebooks/pulls/1961   \n",
       "\n",
       "     assignee            created_at            updated_at  \n",
       "0  Benjifilly  2023-06-23T10:19:01Z  2023-06-27T16:57:00Z  "
      ]
     },
     "execution_count": 6,
     "metadata": {},
     "output_type": "execute_result"
    }
   ],
   "source": [
    "contributor_filtered_df = df_pr[df_pr['assignee'] == contributor_profile].reset_index(drop=True)\n",
    "print(\"✅ PR Opened:\", len(contributor_filtered_df))\n",
    "contributor_filtered_df.head(1)"
   ]
  },
  {
   "cell_type": "markdown",
   "id": "1629a4ed-89fd-444f-b99e-23d6a92a93c6",
   "metadata": {},
   "source": [
    "### Get PR in Review and WIP"
   ]
  },
  {
   "cell_type": "markdown",
   "id": "7bde03f0-5cca-4e13-8e60-3a8e74ce837c",
   "metadata": {
    "execution": {
     "iopub.execute_input": "2023-06-26T08:54:48.608487Z",
     "iopub.status.busy": "2023-06-26T08:54:48.608244Z",
     "iopub.status.idle": "2023-06-26T08:54:48.613827Z",
     "shell.execute_reply": "2023-06-26T08:54:48.612781Z",
     "shell.execute_reply.started": "2023-06-26T08:54:48.608461Z"
    },
    "tags": []
   },
   "source": [
    "We loop over each PR to see if the last message is \"Ready to review\", if so we put it in the finished category otherwise in work in progress. We also look to see if there is a link to a PR in the description, which allows us to sort the new issues more easily and reliably."
   ]
  },
  {
   "cell_type": "code",
   "execution_count": 7,
   "id": "363b9853-cd64-4448-b735-2bc69dba23cc",
   "metadata": {
    "execution": {
     "iopub.execute_input": "2023-06-28T08:00:43.467132Z",
     "iopub.status.busy": "2023-06-28T08:00:43.466961Z",
     "iopub.status.idle": "2023-06-28T08:00:44.413771Z",
     "shell.execute_reply": "2023-06-28T08:00:44.413106Z",
     "shell.execute_reply.started": "2023-06-28T08:00:43.467112Z"
    },
    "tags": []
   },
   "outputs": [
    {
     "name": "stdout",
     "output_type": "stream",
     "text": [
      "✅ Pull Requests in Review: 0\n",
      "👨‍💻 Pull Requests Work in Progress: 2\n",
      "💻 Issues linked in PRs: 1\n"
     ]
    }
   ],
   "source": [
    "# Init - Create empty list\n",
    "prs_in_review = []\n",
    "prs_work_in_progress = []\n",
    "prs_linked_to_issues = []\n",
    "prs_numbers = []\n",
    "\n",
    "# Loop in df and last message on each PR\n",
    "for row in contributor_filtered_df.itertuples():\n",
    "    # Display PR number\n",
    "    pr_number = row.number\n",
    "    \n",
    "    # Append prs numbers\n",
    "    prs_numbers.append(str(pr_number))\n",
    "    \n",
    "    # Get PR object\n",
    "    pr = next((pr for pr in pull_requests if pr.number == pr_number), None)\n",
    "    \n",
    "    # If PR exists then get comments\n",
    "    if pr:\n",
    "        # Get PR description\n",
    "        pr_description = pr.body\n",
    "        issue_number = None\n",
    "        if pr_description:\n",
    "            # Split description to get issue number\n",
    "            split_result = pr_description.split(\"https://github.com/jupyter-naas/awesome-notebooks/issues/\")\n",
    "\n",
    "            # If list > 1 then issue number exists\n",
    "            if len(split_result) > 1:\n",
    "                # Get issue number\n",
    "                issue_number = split_result[1]\n",
    "        if issue_number:\n",
    "            prs_linked_to_issues.append(issue_number)\n",
    "\n",
    "        # Get comments from PR\n",
    "        comments = pr.get_issue_comments()\n",
    "        \n",
    "        # Check if nb comments > 0 else PR status = WIP\n",
    "        if comments.totalCount > 0:\n",
    "            last_comment = comments[comments.totalCount-1].body.lower()\n",
    "            \n",
    "            # Check if \"read to review\" else PR status = WIP\n",
    "            if \"ready to review\" in last_comment:\n",
    "                prs_in_review.append(pr)\n",
    "            else:\n",
    "                prs_work_in_progress.append(pr)\n",
    "        else:\n",
    "            prs_work_in_progress.append(pr)\n",
    "            \n",
    "print(\"✅ Pull Requests in Review:\", len(prs_in_review))\n",
    "print(\"👨‍💻 Pull Requests Work in Progress:\", len(prs_work_in_progress))\n",
    "print(\"💻 Issues linked in PRs:\", len(prs_linked_to_issues))"
   ]
  },
  {
   "cell_type": "markdown",
   "id": "d4fb0b7d-21a7-41e2-8acb-8b6155097b5b",
   "metadata": {
    "papermill": {},
    "tags": []
   },
   "source": [
    "### Get issues by contributor\n",
    "Here we retrieve the issues and sort them on the `contributor_profile`, then we exclude issues linked to a PR."
   ]
  },
  {
   "cell_type": "code",
   "execution_count": 8,
   "id": "004fd8ac-a3f9-4b8b-bb6a-7970dd356b8c",
   "metadata": {
    "execution": {
     "iopub.execute_input": "2023-06-28T08:00:44.415381Z",
     "iopub.status.busy": "2023-06-28T08:00:44.414967Z",
     "iopub.status.idle": "2023-06-28T08:00:46.260126Z",
     "shell.execute_reply": "2023-06-28T08:00:46.259472Z",
     "shell.execute_reply.started": "2023-06-28T08:00:44.415347Z"
    },
    "tags": []
   },
   "outputs": [
    {
     "name": "stdout",
     "output_type": "stream",
     "text": [
      "✅ Issues fetched: 5\n",
      "✅ New issues: 1\n"
     ]
    },
    {
     "data": {
      "text/plain": [
       "[Issue(title=\"Pandas - Concatenate dataframe fix\", number=1878)]"
      ]
     },
     "execution_count": 8,
     "metadata": {},
     "output_type": "execute_result"
    }
   ],
   "source": [
    "# Get the repository\n",
    "repository = g.get_repo(f'{repo_name}')\n",
    "\n",
    "# Get issues assigned to the contributor\n",
    "issues = repository.get_issues(assignee=contributor_profile)\n",
    "\n",
    "# Print number of issues\n",
    "print(\"✅ Issues fetched:\", issues.totalCount)\n",
    "\n",
    "# Init variables\n",
    "new_issues = []\n",
    "\n",
    "# Loop\n",
    "for issue in issues:\n",
    "    # Init\n",
    "    issue_number = issue.number\n",
    "    \n",
    "    # List events in issues\n",
    "    events = issue.get_events()\n",
    "    list_events = [event.event for event in events]\n",
    "    \n",
    "    # Exclude issues linked to PR or with events connected\n",
    "    if (str(issue_number) not in prs_linked_to_issues) and ('connected' not in list_events) and (str(issue_number) not in prs_numbers):\n",
    "        new_issues.append(issue)\n",
    "\n",
    "print(\"✅ New issues:\", len(new_issues))\n",
    "new_issues"
   ]
  },
  {
   "cell_type": "markdown",
   "id": "a8dee826-263c-4434-8116-5f2e0eb89d88",
   "metadata": {},
   "source": [
    "### Create Slack block\n",
    "The code below is the message that will be sent to Slack [Create your own message](https://app.slack.com/block-kit-builder/)"
   ]
  },
  {
   "cell_type": "code",
   "execution_count": 9,
   "id": "4b5cccca-89dc-46cb-a11f-ea70da61150b",
   "metadata": {
    "execution": {
     "iopub.execute_input": "2023-06-28T08:00:46.264822Z",
     "iopub.status.busy": "2023-06-28T08:00:46.262571Z",
     "iopub.status.idle": "2023-06-28T08:00:46.277967Z",
     "shell.execute_reply": "2023-06-28T08:00:46.277377Z",
     "shell.execute_reply.started": "2023-06-28T08:00:46.264785Z"
    },
    "tags": []
   },
   "outputs": [],
   "source": [
    "from datetime import datetime\n",
    "\n",
    "# Sort the lists\n",
    "prs_in_review.sort(key=lambda pr: pr.number, reverse=True)\n",
    "prs_work_in_progress.sort(key=lambda pr: pr.number, reverse=True)\n",
    "new_issues.sort(key=lambda issue: issue.number, reverse=True)\n",
    "\n",
    "# Get the current date and time\n",
    "current_date = datetime.now().strftime(\"%B %d, %Y %H:%M\")\n",
    "\n",
    "# Calculate the variations\n",
    "variation_month_str = f\"+{variation_month}\" if variation_month > 0 else str(variation_month)\n",
    "variation_week_str = f\"+{variation_week}\" if variation_week > 0 else str(variation_week)\n",
    "\n",
    "blocks = [\n",
    "    {\n",
    "        \"type\": \"header\",\n",
    "        \"text\": {\n",
    "            \"type\": \"plain_text\",\n",
    "            \"text\": f\"{contributor_profile} - Activity update as of {current_date}\",\n",
    "            \"emoji\": True\n",
    "        }\n",
    "    },\n",
    "    {\n",
    "        \"type\": \"divider\"\n",
    "    },\n",
    "    {\n",
    "        \"type\": \"header\",\n",
    "        \"text\": {\n",
    "            \"type\": \"plain_text\",\n",
    "            \"text\": f\"📓 Templates created: {len(files_added)}\",\n",
    "            \"emoji\": True\n",
    "        }\n",
    "    },\n",
    "    {\n",
    "        \"type\": \"section\",\n",
    "        \"text\": {\n",
    "            \"type\": \"mrkdwn\",\n",
    "            \"text\": f\"This month: {len(files_added_current_month)} ({variation_month_str} vs last month)\\nThis week: {len(files_added_current_week)} ({variation_week_str} vs last week)\"\n",
    "        }\n",
    "    },\n",
    "    {\n",
    "        \"type\": \"divider\"\n",
    "    },\n",
    "    {\n",
    "        \"type\": \"section\",\n",
    "        \"text\": {\n",
    "            \"type\": \"mrkdwn\",\n",
    "            \"text\": f\"✅ *List of PRs to be validated ({len(prs_in_review)}):*\"\n",
    "        }\n",
    "    },\n",
    "    *[\n",
    "        {\n",
    "            \"type\": \"section\",\n",
    "            \"text\": {\n",
    "                \"type\": \"mrkdwn\",\n",
    "                \"text\": f\"- <{pr.html_url}|#{pr.number} {pr.title}>\"\n",
    "            }\n",
    "        }\n",
    "        for pr in prs_in_review\n",
    "    ],\n",
    "    {\n",
    "        \"type\": \"divider\"\n",
    "    },\n",
    "    {\n",
    "        \"type\": \"section\",\n",
    "        \"text\": {\n",
    "            \"type\": \"mrkdwn\",\n",
    "            \"text\": f\"👨‍💻 *List of current PRs ({len(prs_work_in_progress)}):*\"\n",
    "        }\n",
    "    },\n",
    "    *[\n",
    "        {\n",
    "            \"type\": \"section\",\n",
    "            \"text\": {\n",
    "                \"type\": \"mrkdwn\",\n",
    "                \"text\": f\"- <{pr.html_url}|#{pr.number} {pr.title}>\"\n",
    "            }\n",
    "        }\n",
    "        for pr in prs_work_in_progress\n",
    "    ],\n",
    "    {\n",
    "        \"type\": \"divider\"\n",
    "    },\n",
    "    {\n",
    "        \"type\": \"section\",\n",
    "        \"text\": {\n",
    "            \"type\": \"mrkdwn\",\n",
    "            \"text\": f\":bulb: *List of new issues ({len(new_issues)}):*\"\n",
    "        }\n",
    "    },\n",
    "    *[\n",
    "        {\n",
    "            \"type\": \"section\",\n",
    "            \"text\": {\n",
    "                \"type\": \"mrkdwn\",\n",
    "                \"text\": f\"- <{issue.html_url}|#{issue.number} {issue.title}>\"\n",
    "            }\n",
    "        }\n",
    "        for issue in new_issues\n",
    "    ]\n",
    "]\n"
   ]
  },
  {
   "cell_type": "markdown",
   "id": "04c0ae0c-1d5b-49bf-beab-f3d7f57d13a4",
   "metadata": {
    "papermill": {},
    "tags": []
   },
   "source": [
    "## Output"
   ]
  },
  {
   "cell_type": "markdown",
   "id": "a9939de6-9ebd-4814-905c-e5c4edc9aa6a",
   "metadata": {
    "execution": {
     "iopub.execute_input": "2023-06-16T14:58:21.299673Z",
     "iopub.status.busy": "2023-06-16T14:58:21.299316Z",
     "iopub.status.idle": "2023-06-16T14:58:21.306875Z",
     "shell.execute_reply": "2023-06-16T14:58:21.306132Z",
     "shell.execute_reply.started": "2023-06-16T14:58:21.299635Z"
    },
    "tags": []
   },
   "source": [
    "### Send message on Slack"
   ]
  },
  {
   "cell_type": "code",
   "execution_count": 10,
   "id": "97cb8cb4-24e5-411c-a27a-ff58a355d3d4",
   "metadata": {
    "execution": {
     "iopub.execute_input": "2023-06-28T08:00:46.282655Z",
     "iopub.status.busy": "2023-06-28T08:00:46.281037Z",
     "iopub.status.idle": "2023-06-28T08:00:46.592794Z",
     "shell.execute_reply": "2023-06-28T08:00:46.592216Z",
     "shell.execute_reply.started": "2023-06-28T08:00:46.282620Z"
    },
    "papermill": {},
    "tags": []
   },
   "outputs": [
    {
     "name": "stdout",
     "output_type": "stream",
     "text": [
      "✉️ Message sent\n"
     ]
    },
    {
     "name": "stderr",
     "output_type": "stream",
     "text": [
      "/home/ftp/.local/lib/python3.9/site-packages/slack_sdk/web/internal_utils.py:290: UserWarning: The top-level `text` argument is missing in the request payload for a chat.postMessage call - It's a best practice to always provide a `text` argument when posting a message. The `text` argument is used in places where content cannot be rendered such as: system push notifications, assistive technology such as screen readers, etc.\n",
      "  warnings.warn(missing_text_message, UserWarning)\n"
     ]
    }
   ],
   "source": [
    "slack.connect(slack_bot_token).send(slack_channel, text=None, blocks=blocks)"
   ]
  }
 ],
 "metadata": {
  "kernelspec": {
   "display_name": "Python 3",
   "language": "python",
   "name": "python3"
  },
  "language_info": {
   "codemirror_mode": {
    "name": "ipython",
    "version": 3
   },
   "file_extension": ".py",
   "mimetype": "text/x-python",
   "name": "python",
   "nbconvert_exporter": "python",
   "pygments_lexer": "ipython3",
   "version": "3.9.6"
  },
  "naas": {
   "notebook_id": "34d8e5474a94719c1703516d66d3e99cbaaada2b84c29f116ea81516710e5783",
   "notebook_path": "GitHub/GitHub_Reopen_issue.ipynb"
  },
  "papermill": {
   "default_parameters": {},
   "environment_variables": {},
   "parameters": {},
   "version": "2.4.0"
  },
  "widgets": {
   "application/vnd.jupyter.widget-state+json": {
    "state": {},
    "version_major": 2,
    "version_minor": 0
   }
  }
 },
 "nbformat": 4,
 "nbformat_minor": 5
}
