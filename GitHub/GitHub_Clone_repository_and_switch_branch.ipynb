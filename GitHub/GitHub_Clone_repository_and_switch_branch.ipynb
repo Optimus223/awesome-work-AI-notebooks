{
 "cells": [
  {
   "cell_type": "markdown",
   "id": "d7076cde-ba11-49a1-9648-b4e8891166e9",
   "metadata": {
    "papermill": {},
    "tags": []
   },
   "source": [
    "<img width=\"10%\" alt=\"Naas\" src=\"https://landen.imgix.net/jtci2pxwjczr/assets/5ice39g4.png?w=160\"/>"
   ]
  },
  {
   "cell_type": "markdown",
   "id": "ce08063e-5356-4702-8d55-a9759f5659f8",
   "metadata": {
    "papermill": {},
    "tags": []
   },
   "source": [
    "# GitHub - Clone repository and switch branch"
   ]
  },
  {
   "cell_type": "markdown",
   "id": "4201f36d-934e-464b-8fa9-19dafd0cc6ac",
   "metadata": {
    "papermill": {},
    "tags": []
   },
   "source": [
    "**Tags:** #github #clone #repository #branch #switch #git"
   ]
  },
  {
   "cell_type": "markdown",
   "id": "c1c5d6da-5d9f-4557-8025-f5188f86537a",
   "metadata": {
    "papermill": {},
    "tags": []
   },
   "source": [
    "**Author:** [Florent Ravenel](https://www.linkedin.com/in/florent-ravenel/)"
   ]
  },
  {
   "cell_type": "markdown",
   "id": "33b77a09-e96c-4849-907d-9bbdc40e388e",
   "metadata": {
    "papermill": {},
    "tags": []
   },
   "source": [
    "**Description:** This notebook explains how to clone a repository from GitHub and switch to a specific branch. It is usefull for organizations that need to clone a repository and switch to a specific branch to work on it."
   ]
  },
  {
   "cell_type": "markdown",
   "id": "03b28b45-6509-40a2-862c-a83be7b53ae1",
   "metadata": {
    "papermill": {},
    "tags": []
   },
   "source": [
    "**References:**\n- [GitHub Documentation - Cloning a repository](https://docs.github.com/en/github/creating-cloning-and-archiving-repositories/cloning-a-repository)\n- [GitHub Documentation - Checking out branches](https://docs.github.com/en/github/using-git/checking-out-branches-from-a-remote-repository)"
   ]
  },
  {
   "cell_type": "markdown",
   "id": "c60f6731-c6fd-440d-9384-85864f979083",
   "metadata": {
    "papermill": {},
    "tags": []
   },
   "source": [
    "## Input"
   ]
  },
  {
   "cell_type": "markdown",
   "id": "cb39121c-7e1b-4762-94e2-8973f9e36044",
   "metadata": {
    "papermill": {},
    "tags": []
   },
   "source": [
    "### Import libraries"
   ]
  },
  {
   "cell_type": "code",
   "execution_count": null,
   "id": "82cd626c-faad-4aaf-a224-d36ba3646f34",
   "metadata": {
    "papermill": {},
    "tags": []
   },
   "source": "import os",
   "outputs": []
  },
  {
   "cell_type": "markdown",
   "id": "9e58cedd-3bbd-4d98-92a7-a85e84892097",
   "metadata": {
    "papermill": {},
    "tags": []
   },
   "source": [
    "### Setup Variables\n- `repo_url`: URL of the repository to clone\n- `branch_name`: Name of the branch to switch to"
   ]
  },
  {
   "cell_type": "code",
   "execution_count": null,
   "id": "a2c157a8-9559-424e-8921-03159e45c299",
   "metadata": {
    "papermill": {},
    "tags": []
   },
   "source": "repo_url = \"https://github.com/florentravenel/github-clone-switch-branch.git\"\nbranch_name = \"dev\"",
   "outputs": []
  },
  {
   "cell_type": "markdown",
   "id": "dff6dcdb-9de3-440d-bf9f-1062950b5245",
   "metadata": {
    "papermill": {},
    "tags": []
   },
   "source": [
    "## Model"
   ]
  },
  {
   "cell_type": "markdown",
   "id": "22731e47-50ad-407f-ae43-72158369b492",
   "metadata": {
    "papermill": {},
    "tags": []
   },
   "source": [
    "### Clone repository"
   ]
  },
  {
   "cell_type": "markdown",
   "id": "50e0f237-25bc-421b-8cc4-e74cd1776161",
   "metadata": {
    "papermill": {},
    "tags": []
   },
   "source": [
    "Clone the repository from the given URL and create a local copy of it."
   ]
  },
  {
   "cell_type": "code",
   "execution_count": null,
   "id": "1390b815-43df-4360-bfeb-112dc36033c2",
   "metadata": {
    "papermill": {},
    "tags": []
   },
   "source": "os.system(f\"git clone {repo_url}\")",
   "outputs": []
  },
  {
   "cell_type": "markdown",
   "id": "04b02edc-5167-415b-a21c-6d05e0c01425",
   "metadata": {
    "papermill": {},
    "tags": []
   },
   "source": [
    "### Switch branch"
   ]
  },
  {
   "cell_type": "markdown",
   "id": "6ca0fec0-821c-4655-b09e-60783c06d509",
   "metadata": {
    "papermill": {},
    "tags": []
   },
   "source": [
    "Change the current branch to the given branch name."
   ]
  },
  {
   "cell_type": "code",
   "execution_count": null,
   "id": "5cb98eb7-5200-4fdd-acd1-cd2c04714d01",
   "metadata": {
    "papermill": {},
    "tags": []
   },
   "source": "os.system(f\"git checkout {branch_name}\")",
   "outputs": []
  },
  {
   "cell_type": "markdown",
   "id": "1cdd1258-deaa-4eaf-b9ec-ca69e3d28a71",
   "metadata": {
    "papermill": {},
    "tags": []
   },
   "source": [
    "## Output"
   ]
  },
  {
   "cell_type": "markdown",
   "id": "54f6f9b1-0490-4303-bc2f-280b3d15cad1",
   "metadata": {
    "papermill": {},
    "tags": []
   },
   "source": [
    "### Display result"
   ]
  },
  {
   "cell_type": "markdown",
   "id": "2be6012e-ffac-4b48-9244-aedf5689a884",
   "metadata": {
    "papermill": {},
    "tags": []
   },
   "source": [
    "The repository is now cloned and the current branch is switched to the given branch name."
   ]
  },
  {
   "cell_type": "markdown",
   "id": "44b2d538-c81d-4ba7-b59c-8321b2fd8317",
   "metadata": {
    "papermill": {},
    "tags": []
   },
   "source": [
    " "
   ]
  },
  {
   "cell_type": "markdown",
   "id": "75abeb1f-a4dc-4e39-85f4-025098677a3c",
   "metadata": {
    "papermill": {},
    "tags": []
   },
   "source": [
    " "
   ]
  }
 ],
 "metadata": {
  "kernelspec": {
   "display_name": "Python 3",
   "language": "python",
   "name": "python3"
  },
  "language_info": {
   "codemirror_mode": {
    "name": "ipython",
    "version": 3
   },
   "file_extension": ".py",
   "mimetype": "text/x-python",
   "name": "python",
   "nbconvert_exporter": "python",
   "pygments_lexer": "ipython3",
   "version": "3.9.6"
  },
  "widgets": {
   "application/vnd.jupyter.widget-state+json": {
    "state": {},
    "version_major": 2,
    "version_minor": 0
   }
  }
 },
 "nbformat": 4,
 "nbformat_minor": 5
}