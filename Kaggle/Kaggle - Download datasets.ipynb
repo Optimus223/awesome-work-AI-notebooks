{
 "cells": [
  {
   "cell_type": "markdown",
   "id": "a1a7b800-9fdb-494c-adf2-1c946ce36b43",
   "metadata": {},
   "source": [
    "# Kaggle - Download datasets directly into the notebook"
   ]
  },
  {
   "cell_type": "markdown",
   "id": "d1b62e69-d7a0-47fc-8f68-796b602ba55e",
   "metadata": {},
   "source": [
    "## Install opendatasets"
   ]
  },
  {
   "cell_type": "code",
   "execution_count": 5,
   "id": "b5c6c763-d10a-4879-8147-66c3a07a2d84",
   "metadata": {
    "execution": {
     "iopub.execute_input": "2022-10-10T11:54:17.014361Z",
     "iopub.status.busy": "2022-10-10T11:54:17.014143Z",
     "iopub.status.idle": "2022-10-10T11:54:20.914913Z",
     "shell.execute_reply": "2022-10-10T11:54:20.914225Z",
     "shell.execute_reply.started": "2022-10-10T11:54:17.014340Z"
    },
    "tags": []
   },
   "outputs": [
    {
     "name": "stdout",
     "output_type": "stream",
     "text": [
      "Collecting opendatasets\n",
      "  Using cached opendatasets-0.1.22-py3-none-any.whl (15 kB)\n",
      "Requirement already satisfied: kaggle in /opt/conda/lib/python3.9/site-packages (from opendatasets) (1.5.12)\n",
      "Requirement already satisfied: click in /opt/conda/lib/python3.9/site-packages (from opendatasets) (8.1.3)\n",
      "Requirement already satisfied: tqdm in /opt/conda/lib/python3.9/site-packages (from opendatasets) (4.62.0)\n",
      "Requirement already satisfied: urllib3 in /opt/conda/lib/python3.9/site-packages (from kaggle->opendatasets) (1.26.6)\n",
      "Requirement already satisfied: six>=1.10 in /opt/conda/lib/python3.9/site-packages (from kaggle->opendatasets) (1.16.0)\n",
      "Requirement already satisfied: requests in /opt/conda/lib/python3.9/site-packages (from kaggle->opendatasets) (2.26.0)\n",
      "Requirement already satisfied: python-dateutil in /opt/conda/lib/python3.9/site-packages (from kaggle->opendatasets) (2.8.2)\n",
      "Requirement already satisfied: certifi in /opt/conda/lib/python3.9/site-packages (from kaggle->opendatasets) (2021.5.30)\n",
      "Requirement already satisfied: python-slugify in /opt/conda/lib/python3.9/site-packages (from kaggle->opendatasets) (6.1.2)\n",
      "Requirement already satisfied: text-unidecode>=1.3 in /opt/conda/lib/python3.9/site-packages (from python-slugify->kaggle->opendatasets) (1.3)\n",
      "Requirement already satisfied: charset-normalizer~=2.0.0 in /opt/conda/lib/python3.9/site-packages (from requests->kaggle->opendatasets) (2.0.0)\n",
      "Requirement already satisfied: idna<4,>=2.5 in /opt/conda/lib/python3.9/site-packages (from requests->kaggle->opendatasets) (3.1)\n",
      "Installing collected packages: opendatasets\n",
      "Successfully installed opendatasets-0.1.22\n"
     ]
    }
   ],
   "source": [
    "!pip install opendatasets"
   ]
  },
  {
   "cell_type": "markdown",
   "id": "1e99322b-2cd6-43a7-9543-ffdf47830afd",
   "metadata": {},
   "source": [
    "## Import opendatasets"
   ]
  },
  {
   "cell_type": "code",
   "execution_count": 2,
   "id": "49653ec9-1892-4a61-aab7-9cc89c0bff99",
   "metadata": {
    "execution": {
     "iopub.execute_input": "2022-10-10T11:51:45.178988Z",
     "iopub.status.busy": "2022-10-10T11:51:45.178768Z",
     "iopub.status.idle": "2022-10-10T11:51:45.201762Z",
     "shell.execute_reply": "2022-10-10T11:51:45.201208Z",
     "shell.execute_reply.started": "2022-10-10T11:51:45.178966Z"
    }
   },
   "outputs": [],
   "source": [
    "import opendatasets as od"
   ]
  },
  {
   "cell_type": "markdown",
   "id": "69896c6e-a243-4e3e-be58-fcd18cb7f7a1",
   "metadata": {},
   "source": [
    "## Download Data\n",
    "\n",
    "When the function is run, it is going to ask you for your Kaggle username and your Kaggle key. \n",
    "\n",
    "For getting the Kaggle username and key,inside your profile:\n",
    "\n",
    "1- Go to the account tab and under API section, click Create New API Token. \n",
    "\n",
    "2- A JSON will be downloaded, open it locally or you can also use any online JSON viewer and upload it there. \n",
    "\n",
    "3- On opening this file, you will find the username and key in it. Copy the username and  password and paste it into the prompted Notebook cell. The content of the downloaded file would look like this:\n",
    "\n",
    "    {\"username\":<KAGGLE USERNAME>,\"key\":\"<KAGGLE KEY>\"}\n",
    "    \n",
    "    \n",
    "<b>*Note: Your Kaggle key is private, make sure that you dont share it with anyone else.    </b>\n",
    "    "
   ]
  },
  {
   "cell_type": "code",
   "execution_count": 7,
   "id": "db8b5bed-1b7d-4cba-9b27-2aeff30c8bd3",
   "metadata": {
    "execution": {
     "iopub.execute_input": "2022-10-10T11:55:43.438294Z",
     "iopub.status.busy": "2022-10-10T11:55:43.437975Z",
     "iopub.status.idle": "2022-10-10T11:56:20.829656Z",
     "shell.execute_reply": "2022-10-10T11:56:20.829045Z",
     "shell.execute_reply.started": "2022-10-10T11:55:43.438257Z"
    },
    "tags": []
   },
   "outputs": [
    {
     "name": "stdout",
     "output_type": "stream",
     "text": [
      "Please provide your Kaggle credentials to download this dataset. Learn more: http://bit.ly/kaggle-creds\n",
      "Your Kaggle username:"
     ]
    },
    {
     "name": "stdin",
     "output_type": "stream",
     "text": [
      "  muhammadwaqargul\n"
     ]
    },
    {
     "name": "stdout",
     "output_type": "stream",
     "text": [
      "Your Kaggle Key:"
     ]
    },
    {
     "name": "stdin",
     "output_type": "stream",
     "text": [
      "  ································\n"
     ]
    },
    {
     "name": "stdout",
     "output_type": "stream",
     "text": [
      "Downloading pakwheels-used-car-dataset-october-2022.zip to ./pakwheels-used-car-dataset-october-2022\n"
     ]
    },
    {
     "name": "stderr",
     "output_type": "stream",
     "text": [
      "100%|██████████| 10.3M/10.3M [00:00<00:00, 32.2MB/s]\n"
     ]
    },
    {
     "name": "stdout",
     "output_type": "stream",
     "text": [
      "\n"
     ]
    }
   ],
   "source": [
    "def download_data(url): ## function for downloading data, pass the URL of the dataset as an argument to the function.\n",
    "    od.download(url)\n",
    "    \n",
    "download_data('https://www.kaggle.com/datasets/muhammadwaqargul/pakwheels-used-car-dataset-october-2022')    "
   ]
  },
  {
   "cell_type": "markdown",
   "id": "1495a9c3-df5d-4650-8dd4-659fc96ab97f",
   "metadata": {},
   "source": [
    "### Dataset is successfully added to the current directory"
   ]
  },
  {
   "cell_type": "code",
   "execution_count": null,
   "id": "93ee53e8-74c5-4561-84f0-7732b59e4695",
   "metadata": {},
   "outputs": [],
   "source": []
  }
 ],
 "metadata": {
  "kernelspec": {
   "display_name": "Python 3",
   "language": "python",
   "name": "python3"
  },
  "language_info": {
   "codemirror_mode": {
    "name": "ipython",
    "version": 3
   },
   "file_extension": ".py",
   "mimetype": "text/x-python",
   "name": "python",
   "nbconvert_exporter": "python",
   "pygments_lexer": "ipython3",
   "version": "3.9.6"
  }
 },
 "nbformat": 4,
 "nbformat_minor": 5
}
