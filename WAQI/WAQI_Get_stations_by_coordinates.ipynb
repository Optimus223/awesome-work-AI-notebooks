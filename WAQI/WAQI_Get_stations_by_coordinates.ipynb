{
 "cells": [
  {
   "cell_type": "markdown",
   "id": "7968a603-b3b4-4f89-9a3a-11efb051faff",
   "metadata": {
    "papermill": {},
    "tags": []
   },
   "source": [
    "<img width=\"10%\" alt=\"Naas\" src=\"https://landen.imgix.net/jtci2pxwjczr/assets/5ice39g4.png?w=160\"/>"
   ]
  },
  {
   "cell_type": "markdown",
   "id": "ecb22ef4-1967-46d5-905f-ce4396bbdc3e",
   "metadata": {
    "papermill": {},
    "tags": []
   },
   "source": [
    "# WAQI - Get stations by coordinates\n",
    "<a href=\"https://app.naas.ai/user-redirect/naas/downloader?url=https://raw.githubusercontent.com/jupyter-naas/awesome-notebooks/master/WAQI/WAQI_Get_Daily_Air_Quality_Data_for_a_city.ipynb\" target=\"_parent\"><img src=\"https://naasai-public.s3.eu-west-3.amazonaws.com/open_in_naas.svg\"/></a><br><br><a href=\"https://github.com/jupyter-naas/awesome-notebooks/issues/new?assignees=&labels=&template=template-request.md&title=Tool+-+Action+of+the+notebook+\">Template request</a> | <a href=\"https://github.com/jupyter-naas/awesome-notebooks/issues/new?assignees=&labels=bug&template=bug_report.md&title=WAQI+-+Get+Daily+Air+Quality+Data+for+a+city:+Error+short+description\">Bug report</a>"
   ]
  },
  {
   "cell_type": "markdown",
   "id": "0eeb2c4a-fd78-4e59-a01a-b3ae23b10e0a",
   "metadata": {
    "papermill": {},
    "tags": []
   },
   "source": [
    "**Tags:** #waqi #airquality #api #data #city #stations"
   ]
  },
  {
   "cell_type": "markdown",
   "id": "a50f9548-b43a-4e2b-be98-52bdf94c1e34",
   "metadata": {
    "papermill": {},
    "tags": []
   },
   "source": [
    "**Author:** [Florent Ravenel](https://www.linkedin.com/in/florent-ravenel/)"
   ]
  },
  {
   "cell_type": "markdown",
   "id": "440563ef-3227-4976-85be-75d42fd9cdfb",
   "metadata": {
    "papermill": {},
    "tags": []
   },
   "source": [
    "**Description:** This notebook will demonstrate how to get stations within a given lat/lng bounds."
   ]
  },
  {
   "cell_type": "markdown",
   "id": "eef01b1c-d55c-4fea-959f-04e00d60942d",
   "metadata": {
    "papermill": {},
    "tags": []
   },
   "source": [
    "**References:**\n",
    "- [WAQI API Documentation](https://aqicn.org/json-api/doc/#api-Map_Queries-GetMapStations)\n",
    "- [Air Quality Index Scale](https://aqicn.org/scale/)"
   ]
  },
  {
   "cell_type": "markdown",
   "id": "91cb14d4-e98f-4a5d-a9a9-49c16c57bb8b",
   "metadata": {
    "papermill": {},
    "tags": []
   },
   "source": [
    "## Input"
   ]
  },
  {
   "cell_type": "markdown",
   "id": "3259487c-1c55-41ff-b86d-b67f96a5a2d8",
   "metadata": {
    "papermill": {},
    "tags": []
   },
   "source": [
    "### Import libraries"
   ]
  },
  {
   "cell_type": "code",
   "execution_count": 1,
   "id": "32693ca8-de25-4df9-89af-e587a09bcabb",
   "metadata": {
    "execution": {
     "iopub.execute_input": "2023-04-04T13:49:51.046425Z",
     "iopub.status.busy": "2023-04-04T13:49:51.046173Z",
     "iopub.status.idle": "2023-04-04T13:49:54.975446Z",
     "shell.execute_reply": "2023-04-04T13:49:54.974759Z",
     "shell.execute_reply.started": "2023-04-04T13:49:51.046362Z"
    },
    "papermill": {},
    "tags": []
   },
   "outputs": [],
   "source": [
    "import requests\n",
    "import naas\n",
    "import pandas as pd\n",
    "import plotly.express as px"
   ]
  },
  {
   "cell_type": "markdown",
   "id": "ccb26442-971b-4f63-b7cf-1393bd534c6f",
   "metadata": {
    "papermill": {},
    "tags": []
   },
   "source": [
    "### Setup Variables\n",
    "- `token`: WAQI API token. [Get your token here](https://aqicn.org/data-platform/token/).\n",
    "- `latlng`: map bounds in the form lat1,lng1,lat2,lng2"
   ]
  },
  {
   "cell_type": "code",
   "execution_count": 2,
   "id": "13a1399e-2a01-488d-952c-3168b1b7f4f4",
   "metadata": {
    "execution": {
     "iopub.execute_input": "2023-04-04T13:49:54.976896Z",
     "iopub.status.busy": "2023-04-04T13:49:54.976702Z",
     "iopub.status.idle": "2023-04-04T13:49:55.108801Z",
     "shell.execute_reply": "2023-04-04T13:49:55.107918Z",
     "shell.execute_reply.started": "2023-04-04T13:49:54.976873Z"
    },
    "papermill": {},
    "tags": []
   },
   "outputs": [],
   "source": [
    "# Inputs\n",
    "token = naas.secret.get(\"WAQI_TOKEN\") or \"YOUR_TOKEN_HERE\"\n",
    "latlng = \"-90,-180,90,180\""
   ]
  },
  {
   "cell_type": "markdown",
   "id": "30a17761-3a90-4ac5-be58-384c523dac10",
   "metadata": {
    "papermill": {},
    "tags": []
   },
   "source": [
    "## Model"
   ]
  },
  {
   "cell_type": "markdown",
   "id": "d91d6d3d-da67-4ac7-8b73-d19b9804fb6b",
   "metadata": {
    "papermill": {},
    "tags": []
   },
   "source": [
    "### Get all stations by lat/lng bounds"
   ]
  },
  {
   "cell_type": "code",
   "execution_count": 3,
   "id": "6bc50618-1612-4e7f-a46c-a13a30310a4e",
   "metadata": {
    "execution": {
     "iopub.execute_input": "2023-04-04T13:49:55.110321Z",
     "iopub.status.busy": "2023-04-04T13:49:55.110026Z",
     "iopub.status.idle": "2023-04-04T13:49:56.562153Z",
     "shell.execute_reply": "2023-04-04T13:49:56.561083Z",
     "shell.execute_reply.started": "2023-04-04T13:49:55.110287Z"
    },
    "papermill": {},
    "tags": []
   },
   "outputs": [],
   "source": [
    "def get_all_stations(token, latlng):\n",
    "    url = f'https://api.waqi.info/map/bounds?token={token}&latlng={latlng}'\n",
    "    res = requests.get(url)\n",
    "    if res.status_code == 200:\n",
    "        return res.json()\n",
    "\n",
    "result = get_all_stations(token, latlng)"
   ]
  },
  {
   "cell_type": "markdown",
   "id": "26d19d2a-9408-438e-9440-d79723d3b4d0",
   "metadata": {},
   "source": [
    "### Create dataframe"
   ]
  },
  {
   "cell_type": "code",
   "execution_count": 4,
   "id": "1636705d-3325-4714-87d3-114a9a5b6e75",
   "metadata": {
    "execution": {
     "iopub.execute_input": "2023-04-04T13:49:56.563757Z",
     "iopub.status.busy": "2023-04-04T13:49:56.563445Z",
     "iopub.status.idle": "2023-04-04T13:49:56.582634Z",
     "shell.execute_reply": "2023-04-04T13:49:56.581266Z",
     "shell.execute_reply.started": "2023-04-04T13:49:56.563722Z"
    },
    "tags": []
   },
   "outputs": [],
   "source": [
    "def flatten_dict(d, parent_key='', sep='_'):\n",
    "    \"\"\"\n",
    "    Flattens a nested dictionary into a single level dictionary.\n",
    "\n",
    "    Args:\n",
    "        d (dict): A nested dictionary.\n",
    "        parent_key (str): Optional string to prefix the keys with.\n",
    "        sep (str): Optional separator to use between parent_key and child_key.\n",
    "\n",
    "    Returns:\n",
    "        dict: A flattened dictionary.\n",
    "    \"\"\"\n",
    "    items = []\n",
    "    for k, v in d.items():\n",
    "        new_key = f\"{parent_key}{sep}{k}\" if parent_key else k\n",
    "        if isinstance(v, dict):\n",
    "            items.extend(flatten_dict(v, new_key, sep=sep).items())\n",
    "        else:\n",
    "            items.append((new_key, v))\n",
    "    return dict(items)\n",
    "\n",
    "data = []\n",
    "for d in result.get(\"data\"):\n",
    "    aqi = d.get(\"aqi\")\n",
    "    if aqi != \"-\":\n",
    "        station = flatten_dict(d, parent_key='', sep='_')\n",
    "        data.append(station)\n",
    "\n",
    "df = pd.DataFrame(data)"
   ]
  },
  {
   "cell_type": "markdown",
   "id": "433f7422-53c7-45f1-ad34-036abc7ceb47",
   "metadata": {
    "papermill": {},
    "tags": []
   },
   "source": [
    "## Output"
   ]
  },
  {
   "cell_type": "markdown",
   "id": "640432ef-5e52-4d7a-aff6-0a96e9909143",
   "metadata": {
    "papermill": {},
    "tags": []
   },
   "source": [
    "### Display result"
   ]
  },
  {
   "cell_type": "code",
   "execution_count": 5,
   "id": "10f09dc1-3e31-4864-8c20-1f9eaf4b134b",
   "metadata": {
    "execution": {
     "iopub.execute_input": "2023-04-04T13:49:56.584197Z",
     "iopub.status.busy": "2023-04-04T13:49:56.583904Z",
     "iopub.status.idle": "2023-04-04T13:49:56.694204Z",
     "shell.execute_reply": "2023-04-04T13:49:56.693259Z",
     "shell.execute_reply.started": "2023-04-04T13:49:56.584159Z"
    },
    "papermill": {},
    "tags": []
   },
   "outputs": [
    {
     "name": "stdout",
     "output_type": "stream",
     "text": [
      "➡️ Results found: 984\n"
     ]
    },
    {
     "data": {
      "text/html": [
       "<div>\n",
       "<style scoped>\n",
       "    .dataframe tbody tr th:only-of-type {\n",
       "        vertical-align: middle;\n",
       "    }\n",
       "\n",
       "    .dataframe tbody tr th {\n",
       "        vertical-align: top;\n",
       "    }\n",
       "\n",
       "    .dataframe thead th {\n",
       "        text-align: right;\n",
       "    }\n",
       "</style>\n",
       "<table border=\"1\" class=\"dataframe\">\n",
       "  <thead>\n",
       "    <tr style=\"text-align: right;\">\n",
       "      <th></th>\n",
       "      <th>lat</th>\n",
       "      <th>lon</th>\n",
       "      <th>uid</th>\n",
       "      <th>aqi</th>\n",
       "      <th>station_name</th>\n",
       "      <th>station_time</th>\n",
       "    </tr>\n",
       "  </thead>\n",
       "  <tbody>\n",
       "    <tr>\n",
       "      <th>0</th>\n",
       "      <td>43.936771</td>\n",
       "      <td>81.324433</td>\n",
       "      <td>7912</td>\n",
       "      <td>119</td>\n",
       "      <td>Yili (伊犁哈萨克)</td>\n",
       "      <td>2023-04-04T22:00:00+09:00</td>\n",
       "    </tr>\n",
       "    <tr>\n",
       "      <th>1</th>\n",
       "      <td>44.341060</td>\n",
       "      <td>23.729992</td>\n",
       "      <td>6853</td>\n",
       "      <td>20</td>\n",
       "      <td>Str. Brestei, Breasta, Romania</td>\n",
       "      <td>2023-04-04T22:00:00+09:00</td>\n",
       "    </tr>\n",
       "    <tr>\n",
       "      <th>2</th>\n",
       "      <td>65.043380</td>\n",
       "      <td>25.497900</td>\n",
       "      <td>4917</td>\n",
       "      <td>35</td>\n",
       "      <td>Pyykösjärvi, Oulu, Finland</td>\n",
       "      <td>2023-04-04T22:00:00+09:00</td>\n",
       "    </tr>\n",
       "    <tr>\n",
       "      <th>3</th>\n",
       "      <td>-23.520800</td>\n",
       "      <td>148.165000</td>\n",
       "      <td>14869</td>\n",
       "      <td>20</td>\n",
       "      <td>Emerald</td>\n",
       "      <td>2023-04-04T22:00:00+09:00</td>\n",
       "    </tr>\n",
       "    <tr>\n",
       "      <th>4</th>\n",
       "      <td>7.884488</td>\n",
       "      <td>98.391283</td>\n",
       "      <td>1827</td>\n",
       "      <td>38</td>\n",
       "      <td>Municipal Health Center 1, Phuket, Thailand (ศ...</td>\n",
       "      <td>2023-04-04T22:00:00+09:00</td>\n",
       "    </tr>\n",
       "  </tbody>\n",
       "</table>\n",
       "</div>"
      ],
      "text/plain": [
       "         lat         lon    uid  aqi  \\\n",
       "0  43.936771   81.324433   7912  119   \n",
       "1  44.341060   23.729992   6853   20   \n",
       "2  65.043380   25.497900   4917   35   \n",
       "3 -23.520800  148.165000  14869   20   \n",
       "4   7.884488   98.391283   1827   38   \n",
       "\n",
       "                                        station_name  \\\n",
       "0                                       Yili (伊犁哈萨克)   \n",
       "1                     Str. Brestei, Breasta, Romania   \n",
       "2                         Pyykösjärvi, Oulu, Finland   \n",
       "3                                            Emerald   \n",
       "4  Municipal Health Center 1, Phuket, Thailand (ศ...   \n",
       "\n",
       "                station_time  \n",
       "0  2023-04-04T22:00:00+09:00  \n",
       "1  2023-04-04T22:00:00+09:00  \n",
       "2  2023-04-04T22:00:00+09:00  \n",
       "3  2023-04-04T22:00:00+09:00  \n",
       "4  2023-04-04T22:00:00+09:00  "
      ]
     },
     "execution_count": 5,
     "metadata": {},
     "output_type": "execute_result"
    }
   ],
   "source": [
    "print(\"➡️ Results found:\", len(df))\n",
    "df.head(5)"
   ]
  },
  {
   "cell_type": "markdown",
   "id": "cd55a903-19fc-4d26-9d80-a2cce5944737",
   "metadata": {
    "papermill": {},
    "tags": []
   },
   "source": [
    " "
   ]
  }
 ],
 "metadata": {
  "kernelspec": {
   "display_name": "Python 3",
   "language": "python",
   "name": "python3"
  },
  "language_info": {
   "codemirror_mode": {
    "name": "ipython",
    "version": 3
   },
   "file_extension": ".py",
   "mimetype": "text/x-python",
   "name": "python",
   "nbconvert_exporter": "python",
   "pygments_lexer": "ipython3",
   "version": "3.9.6"
  },
  "papermill": {
   "default_parameters": {},
   "environment_variables": {},
   "parameters": {},
   "version": "2.4.0"
  },
  "widgets": {
   "application/vnd.jupyter.widget-state+json": {
    "state": {},
    "version_major": 2,
    "version_minor": 0
   }
  }
 },
 "nbformat": 4,
 "nbformat_minor": 5
}
