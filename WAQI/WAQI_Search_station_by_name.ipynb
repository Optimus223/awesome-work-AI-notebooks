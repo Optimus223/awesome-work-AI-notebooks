{
 "cells": [
  {
   "cell_type": "markdown",
   "id": "7968a603-b3b4-4f89-9a3a-11efb051faff",
   "metadata": {
    "papermill": {},
    "tags": []
   },
   "source": [
    "<img width=\"10%\" alt=\"Naas\" src=\"https://landen.imgix.net/jtci2pxwjczr/assets/5ice39g4.png?w=160\"/>"
   ]
  },
  {
   "cell_type": "markdown",
   "id": "ecb22ef4-1967-46d5-905f-ce4396bbdc3e",
   "metadata": {
    "papermill": {},
    "tags": []
   },
   "source": [
    "# WAQI - Search station by name\n",
    "<a href=\"https://app.naas.ai/user-redirect/naas/downloader?url=https://raw.githubusercontent.com/jupyter-naas/awesome-notebooks/master/WAQI/WAQI_Get_Daily_Air_Quality_Data_for_a_city.ipynb\" target=\"_parent\"><img src=\"https://naasai-public.s3.eu-west-3.amazonaws.com/open_in_naas.svg\"/></a><br><br><a href=\"https://github.com/jupyter-naas/awesome-notebooks/issues/new?assignees=&labels=&template=template-request.md&title=Tool+-+Action+of+the+notebook+\">Template request</a> | <a href=\"https://github.com/jupyter-naas/awesome-notebooks/issues/new?assignees=&labels=bug&template=bug_report.md&title=WAQI+-+Get+Daily+Air+Quality+Data+for+a+city:+Error+short+description\">Bug report</a>"
   ]
  },
  {
   "cell_type": "markdown",
   "id": "0eeb2c4a-fd78-4e59-a01a-b3ae23b10e0a",
   "metadata": {
    "papermill": {},
    "tags": []
   },
   "source": [
    "**Tags:** #waqi #airquality #api #data #city #python #stations"
   ]
  },
  {
   "cell_type": "markdown",
   "id": "a50f9548-b43a-4e2b-be98-52bdf94c1e34",
   "metadata": {
    "papermill": {},
    "tags": []
   },
   "source": [
    "**Author:** [Florent Ravenel](https://www.linkedin.com/in/florent-ravenel/)"
   ]
  },
  {
   "cell_type": "markdown",
   "id": "440563ef-3227-4976-85be-75d42fd9cdfb",
   "metadata": {
    "papermill": {},
    "tags": []
   },
   "source": [
    "**Description:** This notebook will demonstrate how to search stations by name using AQI API."
   ]
  },
  {
   "cell_type": "markdown",
   "id": "eef01b1c-d55c-4fea-959f-04e00d60942d",
   "metadata": {
    "papermill": {},
    "tags": []
   },
   "source": [
    "**References:**\n",
    "- [WAQI API Documentation](https://aqicn.org/json-api/doc/#api-Search-SearchByName)"
   ]
  },
  {
   "cell_type": "markdown",
   "id": "91cb14d4-e98f-4a5d-a9a9-49c16c57bb8b",
   "metadata": {
    "papermill": {},
    "tags": []
   },
   "source": [
    "## Input"
   ]
  },
  {
   "cell_type": "markdown",
   "id": "3259487c-1c55-41ff-b86d-b67f96a5a2d8",
   "metadata": {
    "papermill": {},
    "tags": []
   },
   "source": [
    "### Import libraries"
   ]
  },
  {
   "cell_type": "code",
   "execution_count": 1,
   "id": "32693ca8-de25-4df9-89af-e587a09bcabb",
   "metadata": {
    "execution": {
     "iopub.execute_input": "2023-04-04T12:48:24.829828Z",
     "iopub.status.busy": "2023-04-04T12:48:24.829503Z",
     "iopub.status.idle": "2023-04-04T12:48:28.511122Z",
     "shell.execute_reply": "2023-04-04T12:48:28.510250Z",
     "shell.execute_reply.started": "2023-04-04T12:48:24.829742Z"
    },
    "papermill": {},
    "tags": []
   },
   "outputs": [],
   "source": [
    "import requests\n",
    "import naas\n",
    "import pandas as pd"
   ]
  },
  {
   "cell_type": "markdown",
   "id": "ccb26442-971b-4f63-b7cf-1393bd534c6f",
   "metadata": {
    "papermill": {},
    "tags": []
   },
   "source": [
    "### Setup Variables\n",
    "- `token`: WAQI API token. [Get your token here](https://aqicn.org/data-platform/token/).\n",
    "- `keyword`: Keyword to find station."
   ]
  },
  {
   "cell_type": "code",
   "execution_count": 2,
   "id": "13a1399e-2a01-488d-952c-3168b1b7f4f4",
   "metadata": {
    "execution": {
     "iopub.execute_input": "2023-04-04T12:48:28.513387Z",
     "iopub.status.busy": "2023-04-04T12:48:28.513097Z",
     "iopub.status.idle": "2023-04-04T12:48:28.638369Z",
     "shell.execute_reply": "2023-04-04T12:48:28.637596Z",
     "shell.execute_reply.started": "2023-04-04T12:48:28.513352Z"
    },
    "papermill": {},
    "tags": []
   },
   "outputs": [],
   "source": [
    "token = naas.secret.get(\"WAQI_TOKEN\") or \"YOUR_TOKEN_HERE\"\n",
    "keyword = \"Paris\""
   ]
  },
  {
   "cell_type": "markdown",
   "id": "30a17761-3a90-4ac5-be58-384c523dac10",
   "metadata": {
    "papermill": {},
    "tags": []
   },
   "source": [
    "## Model"
   ]
  },
  {
   "cell_type": "markdown",
   "id": "d91d6d3d-da67-4ac7-8b73-d19b9804fb6b",
   "metadata": {
    "papermill": {},
    "tags": []
   },
   "source": [
    "### Search station by name"
   ]
  },
  {
   "cell_type": "code",
   "execution_count": 3,
   "id": "6bc50618-1612-4e7f-a46c-a13a30310a4e",
   "metadata": {
    "execution": {
     "iopub.execute_input": "2023-04-04T12:48:28.640107Z",
     "iopub.status.busy": "2023-04-04T12:48:28.639823Z",
     "iopub.status.idle": "2023-04-04T12:48:29.651055Z",
     "shell.execute_reply": "2023-04-04T12:48:29.650219Z",
     "shell.execute_reply.started": "2023-04-04T12:48:28.640072Z"
    },
    "papermill": {},
    "tags": []
   },
   "outputs": [],
   "source": [
    "def search_station_by_name(token, keyword):\n",
    "    url = f\"https://api.waqi.info/search/?keyword={keyword}&token={token}\"\n",
    "    res = requests.get(url)\n",
    "    if res.status_code == 200:\n",
    "        return res.json()\n",
    "\n",
    "result = search_station_by_name(token, keyword)"
   ]
  },
  {
   "cell_type": "markdown",
   "id": "b963eb5e-3b99-4b1b-bf66-a902fc0843b2",
   "metadata": {},
   "source": [
    "### Create dataframe"
   ]
  },
  {
   "cell_type": "code",
   "execution_count": 4,
   "id": "51f0ed5b-fc87-4948-b3e5-40f93ec39385",
   "metadata": {
    "execution": {
     "iopub.execute_input": "2023-04-04T12:48:29.652278Z",
     "iopub.status.busy": "2023-04-04T12:48:29.652053Z",
     "iopub.status.idle": "2023-04-04T12:48:29.661434Z",
     "shell.execute_reply": "2023-04-04T12:48:29.660535Z",
     "shell.execute_reply.started": "2023-04-04T12:48:29.652252Z"
    },
    "tags": []
   },
   "outputs": [],
   "source": [
    "def flatten_dict(d, parent_key='', sep='_'):\n",
    "    \"\"\"\n",
    "    Flattens a nested dictionary into a single level dictionary.\n",
    "\n",
    "    Args:\n",
    "        d (dict): A nested dictionary.\n",
    "        parent_key (str): Optional string to prefix the keys with.\n",
    "        sep (str): Optional separator to use between parent_key and child_key.\n",
    "\n",
    "    Returns:\n",
    "        dict: A flattened dictionary.\n",
    "    \"\"\"\n",
    "    items = []\n",
    "    for k, v in d.items():\n",
    "        new_key = f\"{parent_key}{sep}{k}\" if parent_key else k\n",
    "        if isinstance(v, dict):\n",
    "            items.extend(flatten_dict(v, new_key, sep=sep).items())\n",
    "        else:\n",
    "            items.append((new_key, v))\n",
    "    return dict(items)\n",
    "\n",
    "data = []\n",
    "for d in result.get(\"data\"):\n",
    "    station = flatten_dict(d, parent_key='', sep='_')\n",
    "    data.append(station)\n",
    "\n",
    "df = pd.DataFrame(data)"
   ]
  },
  {
   "cell_type": "markdown",
   "id": "600d7847-be08-4b59-bf6a-586fe79c5f36",
   "metadata": {
    "papermill": {},
    "tags": []
   },
   "source": [
    "## Output"
   ]
  },
  {
   "cell_type": "markdown",
   "id": "ed7cd365-bd61-45aa-9e28-dd34b397023a",
   "metadata": {
    "papermill": {},
    "tags": []
   },
   "source": [
    "### Display result"
   ]
  },
  {
   "cell_type": "code",
   "execution_count": 5,
   "id": "257d465f-2f47-4474-8a2e-6e4c290c7f52",
   "metadata": {
    "execution": {
     "iopub.execute_input": "2023-04-04T12:48:29.662641Z",
     "iopub.status.busy": "2023-04-04T12:48:29.662433Z",
     "iopub.status.idle": "2023-04-04T12:48:29.788998Z",
     "shell.execute_reply": "2023-04-04T12:48:29.787904Z",
     "shell.execute_reply.started": "2023-04-04T12:48:29.662618Z"
    },
    "papermill": {},
    "tags": []
   },
   "outputs": [
    {
     "name": "stdout",
     "output_type": "stream",
     "text": [
      "➡️ Results found: 21\n"
     ]
    },
    {
     "data": {
      "text/html": [
       "<div>\n",
       "<style scoped>\n",
       "    .dataframe tbody tr th:only-of-type {\n",
       "        vertical-align: middle;\n",
       "    }\n",
       "\n",
       "    .dataframe tbody tr th {\n",
       "        vertical-align: top;\n",
       "    }\n",
       "\n",
       "    .dataframe thead th {\n",
       "        text-align: right;\n",
       "    }\n",
       "</style>\n",
       "<table border=\"1\" class=\"dataframe\">\n",
       "  <thead>\n",
       "    <tr style=\"text-align: right;\">\n",
       "      <th></th>\n",
       "      <th>uid</th>\n",
       "      <th>aqi</th>\n",
       "      <th>time_tz</th>\n",
       "      <th>time_stime</th>\n",
       "      <th>time_vtime</th>\n",
       "      <th>station_name</th>\n",
       "      <th>station_geo</th>\n",
       "      <th>station_url</th>\n",
       "      <th>station_country</th>\n",
       "    </tr>\n",
       "  </thead>\n",
       "  <tbody>\n",
       "    <tr>\n",
       "      <th>0</th>\n",
       "      <td>5722</td>\n",
       "      <td>38</td>\n",
       "      <td>+02:00</td>\n",
       "      <td>2023-04-04 12:00:00</td>\n",
       "      <td>1680602400</td>\n",
       "      <td>Paris</td>\n",
       "      <td>[48.856614, 2.3522219]</td>\n",
       "      <td>paris</td>\n",
       "      <td>NaN</td>\n",
       "    </tr>\n",
       "    <tr>\n",
       "      <th>1</th>\n",
       "      <td>3086</td>\n",
       "      <td>48</td>\n",
       "      <td>+02:00</td>\n",
       "      <td>2023-04-04 11:00:00</td>\n",
       "      <td>1680598800</td>\n",
       "      <td>Avenue Des Champs Elysees, Paris</td>\n",
       "      <td>[48.8686, 2.31166]</td>\n",
       "      <td>france/paris/avenue-des-champs-elysees</td>\n",
       "      <td>FR</td>\n",
       "    </tr>\n",
       "    <tr>\n",
       "      <th>2</th>\n",
       "      <td>3088</td>\n",
       "      <td>43</td>\n",
       "      <td>+02:00</td>\n",
       "      <td>2023-04-04 11:00:00</td>\n",
       "      <td>1680598800</td>\n",
       "      <td>Boulevard Peripherique Est, Paris</td>\n",
       "      <td>[48.8386, 2.41278]</td>\n",
       "      <td>france/paris/boulevard-peripherique-est</td>\n",
       "      <td>FR</td>\n",
       "    </tr>\n",
       "    <tr>\n",
       "      <th>3</th>\n",
       "      <td>3082</td>\n",
       "      <td>38</td>\n",
       "      <td>+02:00</td>\n",
       "      <td>2023-04-04 12:00:00</td>\n",
       "      <td>1680602400</td>\n",
       "      <td>Paris 18eme, Paris</td>\n",
       "      <td>[48.8917, 2.34563]</td>\n",
       "      <td>france/paris/paris-18eme</td>\n",
       "      <td>FR</td>\n",
       "    </tr>\n",
       "    <tr>\n",
       "      <th>4</th>\n",
       "      <td>3103</td>\n",
       "      <td>34</td>\n",
       "      <td>+02:00</td>\n",
       "      <td>2023-04-04 12:00:00</td>\n",
       "      <td>1680602400</td>\n",
       "      <td>Vitry-sur-seine, Paris</td>\n",
       "      <td>[48.7759, 2.37577]</td>\n",
       "      <td>france/paris/vitry-sur-seine</td>\n",
       "      <td>FR</td>\n",
       "    </tr>\n",
       "    <tr>\n",
       "      <th>5</th>\n",
       "      <td>3089</td>\n",
       "      <td>33</td>\n",
       "      <td>+02:00</td>\n",
       "      <td>2023-04-04 11:00:00</td>\n",
       "      <td>1680598800</td>\n",
       "      <td>Boulevard Haussmann, Paris</td>\n",
       "      <td>[48.8733, 2.32957]</td>\n",
       "      <td>france/paris/boulevard-haussmann</td>\n",
       "      <td>FR</td>\n",
       "    </tr>\n",
       "    <tr>\n",
       "      <th>6</th>\n",
       "      <td>12763</td>\n",
       "      <td>32</td>\n",
       "      <td>+02:00</td>\n",
       "      <td>2023-04-04 11:00:00</td>\n",
       "      <td>1680598800</td>\n",
       "      <td>Paris 1er Les Halles, Paris</td>\n",
       "      <td>[48.8621, 2.34462]</td>\n",
       "      <td>france/paris/paris-1er-les-halles</td>\n",
       "      <td>FR</td>\n",
       "    </tr>\n",
       "    <tr>\n",
       "      <th>7</th>\n",
       "      <td>3098</td>\n",
       "      <td>30</td>\n",
       "      <td>+02:00</td>\n",
       "      <td>2023-04-04 11:00:00</td>\n",
       "      <td>1680598800</td>\n",
       "      <td>Autoroute A1 - Saint-denis, Paris</td>\n",
       "      <td>[48.9251, 2.35654]</td>\n",
       "      <td>france/paris/autoroute-a1-saint-denis</td>\n",
       "      <td>FR</td>\n",
       "    </tr>\n",
       "    <tr>\n",
       "      <th>8</th>\n",
       "      <td>3091</td>\n",
       "      <td>20</td>\n",
       "      <td>+02:00</td>\n",
       "      <td>2023-04-04 11:00:00</td>\n",
       "      <td>1680598800</td>\n",
       "      <td>Place Victor Basch, Paris</td>\n",
       "      <td>[48.8277, 2.3267]</td>\n",
       "      <td>france/paris/place-victor-basch</td>\n",
       "      <td>FR</td>\n",
       "    </tr>\n",
       "    <tr>\n",
       "      <th>9</th>\n",
       "      <td>3100</td>\n",
       "      <td>17</td>\n",
       "      <td>+02:00</td>\n",
       "      <td>2023-04-04 11:00:00</td>\n",
       "      <td>1680598800</td>\n",
       "      <td>Route Nationale 2 - Pantin, Paris</td>\n",
       "      <td>[48.9022, 2.3907]</td>\n",
       "      <td>france/paris/route-nationale-2-pantin</td>\n",
       "      <td>FR</td>\n",
       "    </tr>\n",
       "    <tr>\n",
       "      <th>10</th>\n",
       "      <td>6937</td>\n",
       "      <td>16</td>\n",
       "      <td>+02:00</td>\n",
       "      <td>2023-04-04 11:00:00</td>\n",
       "      <td>1680598800</td>\n",
       "      <td>Paris Stade Lenglen, Paris</td>\n",
       "      <td>[48.8303, 2.26972]</td>\n",
       "      <td>france/paris/paris-stade-lenglen</td>\n",
       "      <td>FR</td>\n",
       "    </tr>\n",
       "    <tr>\n",
       "      <th>11</th>\n",
       "      <td>3092</td>\n",
       "      <td>14</td>\n",
       "      <td>+02:00</td>\n",
       "      <td>2023-04-04 12:00:00</td>\n",
       "      <td>1680602400</td>\n",
       "      <td>Place De Lopera, Paris</td>\n",
       "      <td>[48.8704, 2.33241]</td>\n",
       "      <td>france/paris/place-de-lopera</td>\n",
       "      <td>FR</td>\n",
       "    </tr>\n",
       "    <tr>\n",
       "      <th>12</th>\n",
       "      <td>3090</td>\n",
       "      <td>-</td>\n",
       "      <td>+02:00</td>\n",
       "      <td>2021-02-26 19:00:00</td>\n",
       "      <td>1614358800</td>\n",
       "      <td>Paris Centre, Paris</td>\n",
       "      <td>[48.8593, 2.35101]</td>\n",
       "      <td>france/paris/paris-centre</td>\n",
       "      <td>FR</td>\n",
       "    </tr>\n",
       "    <tr>\n",
       "      <th>13</th>\n",
       "      <td>10946</td>\n",
       "      <td>13</td>\n",
       "      <td>+02:00</td>\n",
       "      <td>2023-04-04 13:00:00</td>\n",
       "      <td>1680606000</td>\n",
       "      <td>, Quai De Paris - Trafic, Rouen, France</td>\n",
       "      <td>[49.436691489798, 1.0985549449612]</td>\n",
       "      <td>france/rouen/--quai-de-paris-trafic</td>\n",
       "      <td>NaN</td>\n",
       "    </tr>\n",
       "    <tr>\n",
       "      <th>14</th>\n",
       "      <td>3093</td>\n",
       "      <td>34</td>\n",
       "      <td>+02:00</td>\n",
       "      <td>2023-04-04 11:00:00</td>\n",
       "      <td>1680598800</td>\n",
       "      <td>Lognes, Paris</td>\n",
       "      <td>[48.8403, 2.63463]</td>\n",
       "      <td>france/paris/lognes</td>\n",
       "      <td>NaN</td>\n",
       "    </tr>\n",
       "    <tr>\n",
       "      <th>15</th>\n",
       "      <td>3105</td>\n",
       "      <td>43</td>\n",
       "      <td>+02:00</td>\n",
       "      <td>2023-04-04 11:00:00</td>\n",
       "      <td>1680598800</td>\n",
       "      <td>Gonesse, Paris</td>\n",
       "      <td>[48.9908, 2.44461]</td>\n",
       "      <td>france/paris/gonesse</td>\n",
       "      <td>NaN</td>\n",
       "    </tr>\n",
       "    <tr>\n",
       "      <th>16</th>\n",
       "      <td>3099</td>\n",
       "      <td>28</td>\n",
       "      <td>+02:00</td>\n",
       "      <td>2023-04-04 11:00:00</td>\n",
       "      <td>1680598800</td>\n",
       "      <td>Bobigny, Paris</td>\n",
       "      <td>[48.9024, 2.45261]</td>\n",
       "      <td>france/paris/bobigny</td>\n",
       "      <td>NaN</td>\n",
       "    </tr>\n",
       "    <tr>\n",
       "      <th>17</th>\n",
       "      <td>3097</td>\n",
       "      <td>-</td>\n",
       "      <td>+02:00</td>\n",
       "      <td>2023-04-04 12:00:00</td>\n",
       "      <td>1680602400</td>\n",
       "      <td>La Defense, Paris</td>\n",
       "      <td>[48.8913, 2.24064]</td>\n",
       "      <td>france/paris/la-defense</td>\n",
       "      <td>NaN</td>\n",
       "    </tr>\n",
       "    <tr>\n",
       "      <th>18</th>\n",
       "      <td>12762</td>\n",
       "      <td>34</td>\n",
       "      <td>+02:00</td>\n",
       "      <td>2023-04-04 12:00:00</td>\n",
       "      <td>1680602400</td>\n",
       "      <td>Rambouillet, Paris</td>\n",
       "      <td>[48.6337, 1.83043]</td>\n",
       "      <td>france/paris/rambouillet</td>\n",
       "      <td>NaN</td>\n",
       "    </tr>\n",
       "    <tr>\n",
       "      <th>19</th>\n",
       "      <td>3085</td>\n",
       "      <td>26</td>\n",
       "      <td>+02:00</td>\n",
       "      <td>2023-04-04 12:00:00</td>\n",
       "      <td>1680602400</td>\n",
       "      <td>Gennevilliers, Paris</td>\n",
       "      <td>[48.9302, 2.29421]</td>\n",
       "      <td>france/paris/gennevilliers</td>\n",
       "      <td>NaN</td>\n",
       "    </tr>\n",
       "    <tr>\n",
       "      <th>20</th>\n",
       "      <td>3104</td>\n",
       "      <td>33</td>\n",
       "      <td>+02:00</td>\n",
       "      <td>2023-04-04 11:00:00</td>\n",
       "      <td>1680598800</td>\n",
       "      <td>Cergy-pontoise, Paris</td>\n",
       "      <td>[49.0459, 2.04104]</td>\n",
       "      <td>france/paris/cergy-pontoise</td>\n",
       "      <td>NaN</td>\n",
       "    </tr>\n",
       "  </tbody>\n",
       "</table>\n",
       "</div>"
      ],
      "text/plain": [
       "      uid aqi time_tz           time_stime  time_vtime  \\\n",
       "0    5722  38  +02:00  2023-04-04 12:00:00  1680602400   \n",
       "1    3086  48  +02:00  2023-04-04 11:00:00  1680598800   \n",
       "2    3088  43  +02:00  2023-04-04 11:00:00  1680598800   \n",
       "3    3082  38  +02:00  2023-04-04 12:00:00  1680602400   \n",
       "4    3103  34  +02:00  2023-04-04 12:00:00  1680602400   \n",
       "5    3089  33  +02:00  2023-04-04 11:00:00  1680598800   \n",
       "6   12763  32  +02:00  2023-04-04 11:00:00  1680598800   \n",
       "7    3098  30  +02:00  2023-04-04 11:00:00  1680598800   \n",
       "8    3091  20  +02:00  2023-04-04 11:00:00  1680598800   \n",
       "9    3100  17  +02:00  2023-04-04 11:00:00  1680598800   \n",
       "10   6937  16  +02:00  2023-04-04 11:00:00  1680598800   \n",
       "11   3092  14  +02:00  2023-04-04 12:00:00  1680602400   \n",
       "12   3090   -  +02:00  2021-02-26 19:00:00  1614358800   \n",
       "13  10946  13  +02:00  2023-04-04 13:00:00  1680606000   \n",
       "14   3093  34  +02:00  2023-04-04 11:00:00  1680598800   \n",
       "15   3105  43  +02:00  2023-04-04 11:00:00  1680598800   \n",
       "16   3099  28  +02:00  2023-04-04 11:00:00  1680598800   \n",
       "17   3097   -  +02:00  2023-04-04 12:00:00  1680602400   \n",
       "18  12762  34  +02:00  2023-04-04 12:00:00  1680602400   \n",
       "19   3085  26  +02:00  2023-04-04 12:00:00  1680602400   \n",
       "20   3104  33  +02:00  2023-04-04 11:00:00  1680598800   \n",
       "\n",
       "                               station_name  \\\n",
       "0                                     Paris   \n",
       "1          Avenue Des Champs Elysees, Paris   \n",
       "2         Boulevard Peripherique Est, Paris   \n",
       "3                        Paris 18eme, Paris   \n",
       "4                    Vitry-sur-seine, Paris   \n",
       "5                Boulevard Haussmann, Paris   \n",
       "6               Paris 1er Les Halles, Paris   \n",
       "7         Autoroute A1 - Saint-denis, Paris   \n",
       "8                 Place Victor Basch, Paris   \n",
       "9         Route Nationale 2 - Pantin, Paris   \n",
       "10               Paris Stade Lenglen, Paris   \n",
       "11                   Place De Lopera, Paris   \n",
       "12                      Paris Centre, Paris   \n",
       "13  , Quai De Paris - Trafic, Rouen, France   \n",
       "14                            Lognes, Paris   \n",
       "15                           Gonesse, Paris   \n",
       "16                           Bobigny, Paris   \n",
       "17                        La Defense, Paris   \n",
       "18                       Rambouillet, Paris   \n",
       "19                     Gennevilliers, Paris   \n",
       "20                    Cergy-pontoise, Paris   \n",
       "\n",
       "                           station_geo  \\\n",
       "0               [48.856614, 2.3522219]   \n",
       "1                   [48.8686, 2.31166]   \n",
       "2                   [48.8386, 2.41278]   \n",
       "3                   [48.8917, 2.34563]   \n",
       "4                   [48.7759, 2.37577]   \n",
       "5                   [48.8733, 2.32957]   \n",
       "6                   [48.8621, 2.34462]   \n",
       "7                   [48.9251, 2.35654]   \n",
       "8                    [48.8277, 2.3267]   \n",
       "9                    [48.9022, 2.3907]   \n",
       "10                  [48.8303, 2.26972]   \n",
       "11                  [48.8704, 2.33241]   \n",
       "12                  [48.8593, 2.35101]   \n",
       "13  [49.436691489798, 1.0985549449612]   \n",
       "14                  [48.8403, 2.63463]   \n",
       "15                  [48.9908, 2.44461]   \n",
       "16                  [48.9024, 2.45261]   \n",
       "17                  [48.8913, 2.24064]   \n",
       "18                  [48.6337, 1.83043]   \n",
       "19                  [48.9302, 2.29421]   \n",
       "20                  [49.0459, 2.04104]   \n",
       "\n",
       "                                station_url station_country  \n",
       "0                                     paris             NaN  \n",
       "1    france/paris/avenue-des-champs-elysees              FR  \n",
       "2   france/paris/boulevard-peripherique-est              FR  \n",
       "3                  france/paris/paris-18eme              FR  \n",
       "4              france/paris/vitry-sur-seine              FR  \n",
       "5          france/paris/boulevard-haussmann              FR  \n",
       "6         france/paris/paris-1er-les-halles              FR  \n",
       "7     france/paris/autoroute-a1-saint-denis              FR  \n",
       "8           france/paris/place-victor-basch              FR  \n",
       "9     france/paris/route-nationale-2-pantin              FR  \n",
       "10         france/paris/paris-stade-lenglen              FR  \n",
       "11             france/paris/place-de-lopera              FR  \n",
       "12                france/paris/paris-centre              FR  \n",
       "13      france/rouen/--quai-de-paris-trafic             NaN  \n",
       "14                      france/paris/lognes             NaN  \n",
       "15                     france/paris/gonesse             NaN  \n",
       "16                     france/paris/bobigny             NaN  \n",
       "17                  france/paris/la-defense             NaN  \n",
       "18                 france/paris/rambouillet             NaN  \n",
       "19               france/paris/gennevilliers             NaN  \n",
       "20              france/paris/cergy-pontoise             NaN  "
      ]
     },
     "execution_count": 5,
     "metadata": {},
     "output_type": "execute_result"
    }
   ],
   "source": [
    "print(\"➡️ Results found:\", len(df))\n",
    "df"
   ]
  },
  {
   "cell_type": "markdown",
   "id": "cd55a903-19fc-4d26-9d80-a2cce5944737",
   "metadata": {
    "papermill": {},
    "tags": []
   },
   "source": [
    " "
   ]
  }
 ],
 "metadata": {
  "kernelspec": {
   "display_name": "Python 3",
   "language": "python",
   "name": "python3"
  },
  "language_info": {
   "codemirror_mode": {
    "name": "ipython",
    "version": 3
   },
   "file_extension": ".py",
   "mimetype": "text/x-python",
   "name": "python",
   "nbconvert_exporter": "python",
   "pygments_lexer": "ipython3",
   "version": "3.9.6"
  },
  "papermill": {
   "default_parameters": {},
   "environment_variables": {},
   "parameters": {},
   "version": "2.4.0"
  },
  "widgets": {
   "application/vnd.jupyter.widget-state+json": {
    "state": {},
    "version_major": 2,
    "version_minor": 0
   }
  }
 },
 "nbformat": 4,
 "nbformat_minor": 5
}
