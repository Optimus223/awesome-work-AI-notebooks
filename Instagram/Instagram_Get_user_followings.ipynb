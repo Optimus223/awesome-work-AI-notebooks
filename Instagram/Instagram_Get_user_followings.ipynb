{
 "cells": [
  {
   "cell_type": "markdown",
   "id": "39118121-ad1f-4d0f-bbf5-1a67b1a62d6d",
   "metadata": {
    "papermill": {},
    "tags": []
   },
   "source": [
    "<img width=\"10%\" alt=\"Naas\" src=\"https://landen.imgix.net/jtci2pxwjczr/assets/5ice39g4.png?w=160\"/>"
   ]
  },
  {
   "cell_type": "markdown",
   "id": "6a382ea4-e78b-4a19-bd7e-fb71141fa7ff",
   "metadata": {
    "papermill": {},
    "tags": []
   },
   "source": [
    "# Instagram - Get user followings"
   ]
  },
  {
   "cell_type": "markdown",
   "id": "d2a23a01-cc8d-4f7d-897a-9827bb75edac",
   "metadata": {
    "papermill": {},
    "tags": []
   },
   "source": [
    "**Tags:** #instagram #api #followings #user #python #library"
   ]
  },
  {
   "cell_type": "markdown",
   "id": "78968858-7e4b-45ad-8f25-e364bdf6a735",
   "metadata": {
    "papermill": {},
    "tags": []
   },
   "source": [
    "**Author:** [Sriniketh Jayasendil](https://www.linkedin.com/in/sriniketh-jayasendil/)"
   ]
  },
  {
   "cell_type": "markdown",
   "id": "90b22c9f-ed16-4588-923a-cdded2a116d8",
   "metadata": {
    "papermill": {},
    "tags": []
   },
   "source": [
    "**Description:** This notebook will demonstrate how to get the list of users that a particular user is following using the Instagram Private API. This is useful for organizations to analyze the followers of their competitors."
   ]
  },
  {
   "cell_type": "markdown",
   "id": "04984acc-ce0a-4e29-a016-b9a915223048",
   "metadata": {
    "papermill": {},
    "tags": []
   },
   "source": [
    "**References:**\n- [Instagram Private API](https://instagram-private-api.readthedocs.io/en/latest/api.html?highlight=get_followers#instagram_private_api.Client.user_following)\n- [Instagram API Documentation](https://developers.facebook.com/docs/instagram-api)"
   ]
  },
  {
   "cell_type": "markdown",
   "id": "0ce1854d-b001-4928-8a2a-f409c2be2f29",
   "metadata": {
    "papermill": {},
    "tags": []
   },
   "source": [
    "## Input"
   ]
  },
  {
   "cell_type": "markdown",
   "id": "142517ec-cdf5-4b3e-b4d2-98574c0fbefd",
   "metadata": {
    "papermill": {},
    "tags": []
   },
   "source": [
    "### Import libraries"
   ]
  },
  {
   "cell_type": "code",
   "execution_count": null,
   "id": "22ae1bf8-6745-4cc3-9b85-58c98a9c6cc4",
   "metadata": {
    "papermill": {},
    "tags": []
   },
   "source": "import instagram_private_api",
   "outputs": []
  },
  {
   "cell_type": "markdown",
   "id": "6160774f-c245-4ae3-b3d2-4c44088d7891",
   "metadata": {
    "papermill": {},
    "tags": []
   },
   "source": [
    "### Setup Variables\n- **username**: Username of the user whose followings are to be retrieved\n- **password**: Password of the user"
   ]
  },
  {
   "cell_type": "code",
   "execution_count": null,
   "id": "0d0664c3-5084-4ab1-8fe5-64b00eefa524",
   "metadata": {
    "papermill": {},
    "tags": []
   },
   "source": "username = \"example_username\"\npassword = \"example_password\"",
   "outputs": []
  },
  {
   "cell_type": "markdown",
   "id": "e53cbe7e-47d3-45c5-9cc3-c87f060939b0",
   "metadata": {
    "papermill": {},
    "tags": []
   },
   "source": [
    "## Model"
   ]
  },
  {
   "cell_type": "markdown",
   "id": "b2c9b149-ea56-4ac2-834d-906997c5629d",
   "metadata": {
    "papermill": {},
    "tags": []
   },
   "source": [
    "### Get user followings"
   ]
  },
  {
   "cell_type": "markdown",
   "id": "3eb7ad8c-e974-4220-b7da-3a973abbde2a",
   "metadata": {
    "papermill": {},
    "tags": []
   },
   "source": [
    "This function will use the Instagram Private API to get the list of users that a particular user is following."
   ]
  },
  {
   "cell_type": "code",
   "execution_count": null,
   "id": "efb2e50b-dd97-4746-a9d1-cb497912e756",
   "metadata": {
    "papermill": {},
    "tags": []
   },
   "source": "api = instagram_private_api.Client(username, password)\nfollowings = api.user_following(username)",
   "outputs": []
  },
  {
   "cell_type": "markdown",
   "id": "2b4b0c57-1403-4df5-accf-03377577eff6",
   "metadata": {
    "papermill": {},
    "tags": []
   },
   "source": [
    "## Output"
   ]
  },
  {
   "cell_type": "markdown",
   "id": "083ce4ea-3fbf-4a40-86d8-157261624d3d",
   "metadata": {
    "papermill": {},
    "tags": []
   },
   "source": [
    "### Display result"
   ]
  },
  {
   "cell_type": "code",
   "execution_count": null,
   "id": "76a0e096-5a8d-48e6-9646-27c8e23b79b3",
   "metadata": {
    "papermill": {},
    "tags": []
   },
   "source": "print(followings)",
   "outputs": []
  }
 ],
 "metadata": {
  "kernelspec": {
   "display_name": "Python 3",
   "language": "python",
   "name": "python3"
  },
  "language_info": {
   "codemirror_mode": {
    "name": "ipython",
    "version": 3
   },
   "file_extension": ".py",
   "mimetype": "text/x-python",
   "name": "python",
   "nbconvert_exporter": "python",
   "pygments_lexer": "ipython3",
   "version": "3.9.6"
  },
  "widgets": {
   "application/vnd.jupyter.widget-state+json": {
    "state": {},
    "version_major": 2,
    "version_minor": 0
   }
  }
 },
 "nbformat": 4,
 "nbformat_minor": 5
}