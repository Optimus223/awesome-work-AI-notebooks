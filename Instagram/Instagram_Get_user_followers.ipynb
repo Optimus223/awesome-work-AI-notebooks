{
 "cells": [
  {
   "cell_type": "markdown",
   "id": "4d1ab603-1b44-4633-ab97-9351604d30fd",
   "metadata": {
    "papermill": {},
    "tags": []
   },
   "source": [
    "<img width=\"10%\" alt=\"Naas\" src=\"https://landen.imgix.net/jtci2pxwjczr/assets/5ice39g4.png?w=160\"/>"
   ]
  },
  {
   "cell_type": "markdown",
   "id": "f6d83562-40d1-4358-86a9-b7a5ff2806b0",
   "metadata": {
    "papermill": {},
    "tags": []
   },
   "source": [
    "# Instagram - Get user followers"
   ]
  },
  {
   "cell_type": "markdown",
   "id": "992f2bfc-5f5d-4970-b71f-b708142ccf9a",
   "metadata": {
    "papermill": {},
    "tags": []
   },
   "source": [
    "**Tags:** #instagram #api #followers #python #user #get"
   ]
  },
  {
   "cell_type": "markdown",
   "id": "6591054d-9ab0-4d24-8f07-1759ebda35d0",
   "metadata": {
    "papermill": {},
    "tags": []
   },
   "source": [
    "**Author:** [Sriniketh Jayasendil](https://www.linkedin.com/in/sriniketh-jayasendil/)"
   ]
  },
  {
   "cell_type": "markdown",
   "id": "6b78088f-4e5a-4638-b4cb-65734e049319",
   "metadata": {
    "papermill": {},
    "tags": []
   },
   "source": [
    "**Description:** This notebook will get the followers of a user on Instagram and display the result. It is usefull for organizations to get insights on their followers."
   ]
  },
  {
   "cell_type": "markdown",
   "id": "36a340c7-0857-4e3f-a06f-489ade08a33c",
   "metadata": {
    "papermill": {},
    "tags": []
   },
   "source": [
    "**References:**\n- [Instagram Private API](https://instagram-private-api.readthedocs.io/en/latest/api.html?highlight=get_followers#instagram_private_api.Client.user_followers)\n- [Instagram API Documentation](https://developers.facebook.com/docs/instagram-api/reference)"
   ]
  },
  {
   "cell_type": "markdown",
   "id": "226130b2-0ea8-47ed-b698-959aac4764ef",
   "metadata": {
    "papermill": {},
    "tags": []
   },
   "source": [
    "## Input"
   ]
  },
  {
   "cell_type": "markdown",
   "id": "4738435d-3d0e-40a2-9380-c740ea3eba50",
   "metadata": {
    "papermill": {},
    "tags": []
   },
   "source": [
    "### Import libraries"
   ]
  },
  {
   "cell_type": "code",
   "execution_count": null,
   "id": "98d5905d-2f63-42f3-9547-565d129f1f02",
   "metadata": {
    "papermill": {},
    "tags": []
   },
   "source": "import instagram_private_api as api",
   "outputs": []
  },
  {
   "cell_type": "markdown",
   "id": "650720c6-0169-48ca-abb2-c2bd09c647ac",
   "metadata": {
    "papermill": {},
    "tags": []
   },
   "source": [
    "### Setup Variables\n- **username**: username of the user to get followers\n- **password**: password of the user to get followers"
   ]
  },
  {
   "cell_type": "code",
   "execution_count": null,
   "id": "726dd990-c67b-4dc4-861d-bfcc7286866d",
   "metadata": {
    "papermill": {},
    "tags": []
   },
   "source": "username = \"username\"\npassword = \"password\"",
   "outputs": []
  },
  {
   "cell_type": "markdown",
   "id": "b0cecd91-43b3-42b9-9a35-f69a92b99a20",
   "metadata": {
    "papermill": {},
    "tags": []
   },
   "source": [
    "## Model"
   ]
  },
  {
   "cell_type": "markdown",
   "id": "7a5719fb-8511-4c5b-9b15-8093c4b05809",
   "metadata": {
    "papermill": {},
    "tags": []
   },
   "source": [
    "### Get user followers"
   ]
  },
  {
   "cell_type": "markdown",
   "id": "58aa8243-13e1-446f-890b-22c6f6a3e82f",
   "metadata": {
    "papermill": {},
    "tags": []
   },
   "source": [
    "This function will get the followers of a user on Instagram."
   ]
  },
  {
   "cell_type": "code",
   "execution_count": null,
   "id": "0f45608a-dc0c-46c8-8c0b-ce0f3b499a12",
   "metadata": {
    "papermill": {},
    "tags": []
   },
   "source": "api_client = api.Client(username, password)\nfollowers = api_client.user_followers(username)",
   "outputs": []
  },
  {
   "cell_type": "markdown",
   "id": "a3685a6d-a025-4007-8671-88c5248c1cb6",
   "metadata": {
    "papermill": {},
    "tags": []
   },
   "source": [
    "## Output"
   ]
  },
  {
   "cell_type": "markdown",
   "id": "1cc6984a-da2c-4aba-b7ba-f635d9649ae9",
   "metadata": {
    "papermill": {},
    "tags": []
   },
   "source": [
    "### Display result"
   ]
  },
  {
   "cell_type": "code",
   "execution_count": null,
   "id": "34521831-4ea6-4009-9738-a7b1f7ac5cb5",
   "metadata": {
    "papermill": {},
    "tags": []
   },
   "source": "print(followers)",
   "outputs": []
  },
  {
   "cell_type": "markdown",
   "id": "5458b915-47c6-4f26-a208-90deebb510c2",
   "metadata": {
    "papermill": {},
    "tags": []
   },
   "source": [
    " "
   ]
  }
 ],
 "metadata": {
  "kernelspec": {
   "display_name": "Python 3",
   "language": "python",
   "name": "python3"
  },
  "language_info": {
   "codemirror_mode": {
    "name": "ipython",
    "version": 3
   },
   "file_extension": ".py",
   "mimetype": "text/x-python",
   "name": "python",
   "nbconvert_exporter": "python",
   "pygments_lexer": "ipython3",
   "version": "3.9.6"
  },
  "widgets": {
   "application/vnd.jupyter.widget-state+json": {
    "state": {},
    "version_major": 2,
    "version_minor": 0
   }
  }
 },
 "nbformat": 4,
 "nbformat_minor": 5
}