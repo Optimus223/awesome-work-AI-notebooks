{
 "cells": [
  {
   "cell_type": "markdown",
   "metadata": {},
   "source": [
    "<img width=\"10%\" alt=\"Naas\" src=\"https://landen.imgix.net/jtci2pxwjczr/assets/5ice39g4.png?w=160\"/>"
   ]
  },
  {
   "cell_type": "markdown",
   "metadata": {},
   "source": [
    "# Instagram - Get stats from posts\n",
    "<a href=\"https://app.naas.ai/user-redirect/naas/downloader?url=https://raw.githubusercontent.com/jupyter-naas/awesome-notebooks/master/Instagram/Instagram_Post_image_and_caption.ipynb\" target=\"_parent\"><img src=\"https://naasai-public.s3.eu-west-3.amazonaws.com/open_in_naas.svg\"/></a>"
   ]
  },
  {
   "cell_type": "markdown",
   "metadata": {},
   "source": [
    "**Tags:** #instagram"
   ]
  },
  {
   "cell_type": "markdown",
   "metadata": {},
   "source": [
    "# Input\n"
   ]
  },
  {
   "cell_type": "markdown",
   "metadata": {},
   "source": [
    "### Import Librairies\n"
   ]
  },
  {
   "cell_type": "code",
   "execution_count": null,
   "metadata": {
    "tags": []
   },
   "outputs": [],
   "source": [
    "import requests\n",
    "import json\n",
    "import datetime\n",
    "import pandas as pd"
   ]
  },
  {
   "cell_type": "markdown",
   "metadata": {},
   "source": [
    "### Setup Instagram\n",
    "Here below you will find every parameters you need to have before running your notebook<br>\n",
    "- Access token : ...\n",
    "- ...."
   ]
  },
  {
   "cell_type": "code",
   "execution_count": null,
   "metadata": {},
   "outputs": [],
   "source": [
    "access_token = \"\"\n",
    "client_id = \"\""
   ]
  },
  {
   "cell_type": "code",
   "execution_count": null,
   "metadata": {
    "tags": []
   },
   "outputs": [],
   "source": [
    "\"\"\"[Define Parameters Dictionary]\n",
    "    - Access_token: short-lived access token that we got directly before we start writing our code\n",
    "    - Client_id: App ID from Settings\n",
    "    - Client_secret: App Secret from Settings\n",
    "    - Page_id: Facebook Page ID from your business page’s ‘About’ tab\n",
    "    - Instagram_account_id: shown during confirmation to generate token process\n",
    "\"\"\"\n",
    "\n",
    "params = dict()\n",
    "params['access_token'] = 'EAAJNAuEtwdYBADj9ZB6zNAbsJq7yjFUtKmVAfdeQJ3gl3IWmWoZCAfXJ5IFydVL5ml70pAFU4IAy4G2vWmv3bjR6EuFFqgyTZAqGMqrWwWXpzJqt6XeRxSLPo50bf9lTIs6muTQjUevvZAoJhjSqk4hyfH9EJ4JB5f740QEDMaYpPMBlwA4AD6iISXM08Gl9UsVQDpMEepkrYe*******'        \n",
    "params['client_id'] = '647624716566998'\n",
    "params['client_secret'] = '7686b1c3f74ac4e42b94f9d4f*******'\n",
    "params['graph_domain'] = 'https://graph.facebook.com'\n",
    "params['graph_version'] = 'v13.0'\n",
    "params['endpoint_base'] = params['graph_domain'] + \\\n",
    "    '/' + params['graph_version'] + '/'\n",
    "params['page_id'] = '359884431085788'                  \n",
    "params['instagram_account_id'] = '17841407472983729'\n",
    "params['ig_username'] = 'bildersisetrades'"
   ]
  },
  {
   "cell_type": "markdown",
   "metadata": {},
   "source": [
    "### Check the expiration date of your token"
   ]
  },
  {
   "cell_type": "code",
   "execution_count": null,
   "metadata": {},
   "outputs": [],
   "source": [
    "# Define Endpoint Parameters\n",
    "endpointParams = dict()\n",
    "endpointParams['input_token'] = params['access_token']\n",
    "endpointParams['access_token'] = params['access_token']\n",
    "\n",
    "# Define URL\n",
    "url = params['graph_domain'] + '/debug_token'\n",
    "# Requests Data\n",
    "try:\n",
    "    data = requests.get(url, endpointParams)\n",
    "    access_token_data = json.loads(data.content)\n",
    "    \n",
    "except Exception as err:\n",
    "    print(err)\n",
    "\n",
    "\n",
    "print(\"Token Expires: \", datetime.datetime.fromtimestamp(\n",
    "    access_token_data['data']['expires_at']))"
   ]
  },
  {
   "cell_type": "markdown",
   "metadata": {},
   "source": [
    "## Model"
   ]
  },
  {
   "cell_type": "markdown",
   "metadata": {},
   "source": [
    "### Get list of posts and associated stats"
   ]
  },
  {
   "cell_type": "code",
   "execution_count": null,
   "metadata": {},
   "outputs": [],
   "source": [
    "# Define URL\n",
    "url = params['endpoint_base'] + params['instagram_account_id'] + '/media'\n",
    "\n",
    "# Define Endpoint Parameters\n",
    "endpointParams = dict()\n",
    "endpointParams['fields'] = 'id,caption,media_type,media_url,permalink,thumbnail_url,timestamp,username,like_count,comments_count'\n",
    "endpointParams['access_token'] = params['access_token']\n",
    "\n",
    "# Requests Data\n",
    "data = requests.get(url, endpointParams)\n",
    "basic_insight = json.loads(data.content)\n"
   ]
  },
  {
   "cell_type": "markdown",
   "metadata": {},
   "source": [
    "## Output"
   ]
  },
  {
   "cell_type": "markdown",
   "metadata": {},
   "source": [
    "### Display result"
   ]
  },
  {
   "cell_type": "code",
   "execution_count": null,
   "metadata": {},
   "outputs": [],
   "source": [
    "df = pd.DataFrame(basic_insight['data'])\n",
    "df.columns = ['id', 'Caption', 'Media_Type', 'Media_URL',\n",
    "              'Permalink', 'Timestamp', 'Username', 'Likes', 'Comments']\n",
    "df.head()\n"
   ]
  },
  {
   "cell_type": "code",
   "execution_count": null,
   "metadata": {},
   "outputs": [],
   "source": []
  }
 ],
 "metadata": {
  "interpreter": {
   "hash": "e534e48711db4d1e1c48977d0d14ff85b1f16d41bcc4fdfd88268a329b3c9d66"
  },
  "kernelspec": {
   "display_name": "Python 3",
   "language": "python",
   "name": "python3"
  },
  "language_info": {
   "codemirror_mode": {
    "name": "ipython",
    "version": 3
   },
   "file_extension": ".py",
   "mimetype": "text/x-python",
   "name": "python",
   "nbconvert_exporter": "python",
   "pygments_lexer": "ipython3",
   "version": "3.8.8"
  }
 },
 "nbformat": 4,
 "nbformat_minor": 4
}
