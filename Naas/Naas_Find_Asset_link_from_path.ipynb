{
 "cells": [
  {
   "cell_type": "markdown",
   "id": "24e92854-4429-49d7-ba0b-c32918abab37",
   "metadata": {
    "papermill": {},
    "tags": []
   },
   "source": [
    "<img width=\"10%\" alt=\"Naas\" src=\"https://landen.imgix.net/jtci2pxwjczr/assets/5ice39g4.png?w=160\"/>"
   ]
  },
  {
   "cell_type": "markdown",
   "id": "457ad76c-9adf-49e5-8657-e816174e9a65",
   "metadata": {
    "papermill": {},
    "tags": []
   },
   "source": [
    "# Naas - Find Asset link from path"
   ]
  },
  {
   "cell_type": "markdown",
   "id": "748b8c6f-df06-4221-a37b-fdb986fb7514",
   "metadata": {
    "papermill": {},
    "tags": []
   },
   "source": [
    "**Tags:** #naas #asset #path #link #find #python"
   ]
  },
  {
   "cell_type": "markdown",
   "id": "c0a4ffe0-465d-4436-a166-0bb8dd02b298",
   "metadata": {
    "papermill": {},
    "tags": []
   },
   "source": [
    "**Author:** [Florent Ravenel](https://www.linkedin.com/in/florent-ravenel/)"
   ]
  },
  {
   "cell_type": "markdown",
   "id": "549cc679-7e12-46ff-82af-8a3bfea32fe4",
   "metadata": {
    "papermill": {},
    "tags": []
   },
   "source": [
    "**Description:** This notebook will help you find the asset link from a given path. It is usefull for organizations that need to quickly access assets from a given path."
   ]
  },
  {
   "cell_type": "markdown",
   "id": "5daf9216-e9f8-49ac-9caa-c422a3b0a957",
   "metadata": {
    "papermill": {},
    "tags": []
   },
   "source": [
    "**References:**\n- [Naas Documentation](https://docs.naas.com/)\n- [Naas API Reference](https://docs.naas.com/api-reference/)"
   ]
  },
  {
   "cell_type": "markdown",
   "id": "4f3e9d69-de7a-4349-aa47-c112e43d8770",
   "metadata": {
    "papermill": {},
    "tags": []
   },
   "source": [
    "## Input"
   ]
  },
  {
   "cell_type": "markdown",
   "id": "97ea2d60-91ff-4c85-a7c8-1c40ec6e6611",
   "metadata": {
    "papermill": {},
    "tags": []
   },
   "source": [
    "### Import libraries"
   ]
  },
  {
   "cell_type": "code",
   "execution_count": null,
   "id": "4dd085cc-b67f-413a-a69c-45bda9d53d3b",
   "metadata": {
    "papermill": {},
    "tags": []
   },
   "source": "import requests\nimport json",
   "outputs": []
  },
  {
   "cell_type": "markdown",
   "id": "0cf430e6-0417-41ba-a122-7350bea4e978",
   "metadata": {
    "papermill": {},
    "tags": []
   },
   "source": [
    "### Setup Variables\n- `naas_url`: URL of the Naas instance\n- `naas_token`: Token to access the Naas instance. [How to get a token](https://docs.naas.com/getting-started/authentication/)"
   ]
  },
  {
   "cell_type": "code",
   "execution_count": null,
   "id": "8da42a46-25a8-4f95-85df-2374a52d0d1e",
   "metadata": {
    "papermill": {},
    "tags": []
   },
   "source": "naas_url = \"https://naas.example.com\"\nnaas_token = \"YOUR_TOKEN\"",
   "outputs": []
  },
  {
   "cell_type": "markdown",
   "id": "dae1ea26-ee7b-4e16-b13c-0aec2d193022",
   "metadata": {
    "papermill": {},
    "tags": []
   },
   "source": [
    "## Model"
   ]
  },
  {
   "cell_type": "markdown",
   "id": "fea17c58-90ec-4024-9cc4-d0188e6c8dcd",
   "metadata": {
    "papermill": {},
    "tags": []
   },
   "source": [
    "### Find asset link from path"
   ]
  },
  {
   "cell_type": "markdown",
   "id": "2985eef8-001c-4855-a2c5-1a29e8eebc6a",
   "metadata": {
    "papermill": {},
    "tags": []
   },
   "source": [
    "This function will find the asset link from a given path."
   ]
  },
  {
   "cell_type": "code",
   "execution_count": null,
   "id": "a68be714-4551-4ce8-aa3b-6d2055f32c33",
   "metadata": {
    "papermill": {},
    "tags": []
   },
   "source": "def find_asset_link_from_path(naas_url, naas_token, path):\n    # Get asset from path\n    headers = {\"Authorization\": \"Bearer \" + naas_token}\n    params = {\"path\": path}\n    response = requests.get(naas_url + \"/api/v1/assets\", headers=headers, params=params)\n    response_json = json.loads(response.text)\n    asset_id = response_json[\"data\"][0][\"id\"]\n\n    # Get asset link\n    response = requests.get(\n        naas_url + \"/api/v1/assets/\" + asset_id + \"/links\", headers=headers\n    )\n    response_json = json.loads(response.text)\n    asset_link = response_json[\"data\"][0][\"attributes\"][\"url\"]\n\n    return asset_link",
   "outputs": []
  },
  {
   "cell_type": "markdown",
   "id": "0ab4c973-6f1b-4050-a43d-005c67c6151f",
   "metadata": {
    "papermill": {},
    "tags": []
   },
   "source": [
    "## Output"
   ]
  },
  {
   "cell_type": "markdown",
   "id": "f909db7f-4a8c-4ebf-838b-145984a54008",
   "metadata": {
    "papermill": {},
    "tags": []
   },
   "source": [
    "### Display result"
   ]
  },
  {
   "cell_type": "code",
   "execution_count": null,
   "id": "73c005b8-192f-4620-b348-3b02978d60cb",
   "metadata": {
    "papermill": {},
    "tags": []
   },
   "source": "asset_link = find_asset_link_from_path(naas_url, naas_token, \"/path/to/asset\")\nprint(asset_link)",
   "outputs": []
  },
  {
   "cell_type": "markdown",
   "id": "41746d38-1aaa-4cc3-a3e7-33b80f516e82",
   "metadata": {
    "papermill": {},
    "tags": []
   },
   "source": [
    " "
   ]
  }
 ],
 "metadata": {
  "kernelspec": {
   "display_name": "Python 3",
   "language": "python",
   "name": "python3"
  },
  "language_info": {
   "codemirror_mode": {
    "name": "ipython",
    "version": 3
   },
   "file_extension": ".py",
   "mimetype": "text/x-python",
   "name": "python",
   "nbconvert_exporter": "python",
   "pygments_lexer": "ipython3",
   "version": "3.9.6"
  },
  "widgets": {
   "application/vnd.jupyter.widget-state+json": {
    "state": {},
    "version_major": 2,
    "version_minor": 0
   }
  }
 },
 "nbformat": 4,
 "nbformat_minor": 5
}