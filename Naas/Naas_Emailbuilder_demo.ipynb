{
 "cells": [
  {
   "cell_type": "markdown",
   "id": "younger-assignment",
   "metadata": {
    "papermill": {},
    "tags": []
   },
   "source": [
    "<img width=\"10%\" alt=\"Naas\" src=\"https://landen.imgix.net/jtci2pxwjczr/assets/5ice39g4.png?w=160\"/>"
   ]
  },
  {
   "cell_type": "markdown",
   "id": "subjective-dialogue",
   "metadata": {
    "papermill": {},
    "tags": []
   },
   "source": [
    "# Naas - Emailbuilder demo\n",
    "<a href=\"https://app.naas.ai/user-redirect/naas/downloader?url=https://raw.githubusercontent.com/jupyter-naas/awesome-notebooks/master/Naas/Naas_Emailbuilder_demo.ipynb\" target=\"_parent\"><img src=\"https://img.shields.io/badge/-Open%20in%20Naas-success?labelColor=000000&logo=data:image/svg+xml;base64,PD94bWwgdmVyc2lvbj0iMS4wIiBlbmNvZGluZz0iVVRGLTgiPz4KPHN2ZyB3aWR0aD0iMTAyNHB4IiBoZWlnaHQ9IjEwMjRweCIgdmlld0JveD0iMCAwIDEwMjQgMTAyNCIgeG1sbnM9Imh0dHA6Ly93d3cudzMub3JnLzIwMDAvc3ZnIiB4bWxuczp4bGluaz0iaHR0cDovL3d3dy53My5vcmcvMTk5OS94bGluayIgdmVyc2lvbj0iMS4xIj4KIDwhLS0gR2VuZXJhdGVkIGJ5IFBpeGVsbWF0b3IgUHJvIDIuMC41IC0tPgogPGRlZnM+CiAgPHRleHQgaWQ9InN0cmluZyIgdHJhbnNmb3JtPSJtYXRyaXgoMS4wIDAuMCAwLjAgMS4wIDIyOC4wIDU0LjUpIiBmb250LWZhbWlseT0iQ29tZm9ydGFhLVJlZ3VsYXIsIENvbWZvcnRhYSIgZm9udC1zaXplPSI4MDAiIHRleHQtZGVjb3JhdGlvbj0ibm9uZSIgZmlsbD0iI2ZmZmZmZiIgeD0iMS4xOTk5OTk5OTk5OTk5ODg2IiB5PSI3MDUuMCI+bjwvdGV4dD4KIDwvZGVmcz4KIDx1c2UgaWQ9Im4iIHhsaW5rOmhyZWY9IiNzdHJpbmciLz4KPC9zdmc+Cg==\"/></a>"
   ]
  },
  {
   "cell_type": "markdown",
   "id": "aquatic-smile",
   "metadata": {
    "papermill": {},
    "tags": []
   },
   "source": [
    "## Input"
   ]
  },
  {
   "cell_type": "code",
   "execution_count": null,
   "id": "absent-coach",
   "metadata": {
    "papermill": {},
    "tags": []
   },
   "outputs": [],
   "source": [
    "# List to emails address of the receiver(s)\n",
    "email_to = [\"\"]\n",
    "\n",
    "# Email sender : Can only take your email account or notification@naas.ai\n",
    "email_from = \"\"\n",
    "\n",
    "# Email subject\n",
    "subject = \"My Object\""
   ]
  },
  {
   "cell_type": "markdown",
   "id": "particular-chemical",
   "metadata": {
    "papermill": {},
    "tags": []
   },
   "source": [
    "## Model"
   ]
  },
  {
   "cell_type": "code",
   "execution_count": null,
   "id": "stopped-yeast",
   "metadata": {
    "papermill": {},
    "tags": []
   },
   "outputs": [],
   "source": [
    "import naas_drivers\n",
    "import naas\n",
    "import pandas as pd"
   ]
  },
  {
   "cell_type": "code",
   "execution_count": null,
   "id": "mexican-coordinator",
   "metadata": {
    "papermill": {},
    "tags": []
   },
   "outputs": [],
   "source": [
    "table = pd.DataFrame({\n",
    "    \"Table Header 1\": [\"Left element 1\", \"Left element 2\", \"Left element 3\"],\n",
    "    \"Table Header 2\": [\"Right element 1\", \"Right element 2\", \"Right element 3\"]\n",
    "})\n",
    "\n",
    "link = \"https://www.naas.ai/\"\n",
    "\n",
    "img = \"https://gblobscdn.gitbook.com/spaces%2F-MJ1rzHSMrn3m7xaPUs_%2Favatar-1602072063433.png?alt=media\"\n",
    "\n",
    "list_bullet = [\"First element\",\n",
    "               \"Second element\",\n",
    "               \"Third element\",\n",
    "               naas_drivers.emailbuilder.link(link, \"Fourth element\"),\n",
    "              ]\n",
    "\n",
    "footer_icons = [{\n",
    "    \"img_src\": img,\n",
    "    \"href\": link\n",
    "}]\n",
    "\n",
    "email_content = {\n",
    "    'element': naas_drivers.emailbuilder.title(\"This is a title\"),\n",
    "    'heading': naas_drivers.emailbuilder.heading(\"This is a heading\"),\n",
    "    'subheading': naas_drivers.emailbuilder.subheading(\"This is a subheading\"),\n",
    "    'text': naas_drivers.emailbuilder.text(\"This is a text\"),\n",
    "    'link': naas_drivers.emailbuilder.link(link, \"This is a link\"),\n",
    "    'button': naas_drivers.emailbuilder.button(link, \"This is a button\"),\n",
    "    'list': naas_drivers.emailbuilder.list(list_bullet),\n",
    "    'table': naas_drivers.emailbuilder.table(table, header=True, border=True),\n",
    "    'image': naas_drivers.emailbuilder.image(img),\n",
    "    'footer': naas_drivers.emailbuilder.footer_company(networks=footer_icons, company=[\"Company informations\"], legal=[\"Legal informations\"])\n",
    "}"
   ]
  },
  {
   "cell_type": "code",
   "execution_count": null,
   "id": "meaning-layer",
   "metadata": {
    "papermill": {},
    "tags": []
   },
   "outputs": [],
   "source": [
    "content = naas_drivers.emailbuilder.generate(display='iframe',\n",
    "                              **email_content)"
   ]
  },
  {
   "cell_type": "markdown",
   "id": "aging-settlement",
   "metadata": {
    "papermill": {},
    "tags": []
   },
   "source": [
    "## Output"
   ]
  },
  {
   "cell_type": "code",
   "execution_count": null,
   "id": "fewer-sailing",
   "metadata": {
    "papermill": {},
    "tags": []
   },
   "outputs": [],
   "source": [
    "naas.notification.send(email_to=email_to,\n",
    "                       subject=subject,\n",
    "                       html=content,\n",
    "                       email_from=email_from)"
   ]
  }
 ],
 "metadata": {
  "kernelspec": {
   "display_name": "Python 3",
   "language": "python",
   "name": "python3"
  },
  "language_info": {
   "codemirror_mode": {
    "name": "ipython",
    "version": 3
   },
   "file_extension": ".py",
   "mimetype": "text/x-python",
   "name": "python",
   "nbconvert_exporter": "python",
   "pygments_lexer": "ipython3",
   "version": "3.8.8"
  },
  "papermill": {
   "default_parameters": {},
   "environment_variables": {},
   "parameters": {},
   "version": "2.3.3"
  }
 },
 "nbformat": 4,
 "nbformat_minor": 5
}