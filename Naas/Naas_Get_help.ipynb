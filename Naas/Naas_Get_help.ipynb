{
 "cells": [
  {
   "cell_type": "markdown",
   "id": "alternative-observer",
   "metadata": {
    "papermill": {},
    "tags": []
   },
   "source": [
    "<img width=\"10%\" alt=\"Naas\" src=\"https://landen.imgix.net/jtci2pxwjczr/assets/5ice39g4.png?w=160\"/>"
   ]
  },
  {
   "cell_type": "markdown",
   "id": "applicable-andrews",
   "metadata": {
    "papermill": {},
    "tags": []
   },
   "source": [
    "# Naas - Get help\n",
    "<a href=\"https://app.naas.ai/user-redirect/naas/downloader?url=https://raw.githubusercontent.com/jupyter-naas/awesome-notebooks/master/Naas/Naas_Get_help.ipynb\" target=\"_parent\"><img src=\"https://img.shields.io/badge/-Open%20in%20Naas-success?labelColor=000000&logo=data:image/svg+xml;base64,PD94bWwgdmVyc2lvbj0iMS4wIiBlbmNvZGluZz0iVVRGLTgiPz4KPHN2ZyB3aWR0aD0iMTAyNHB4IiBoZWlnaHQ9IjEwMjRweCIgdmlld0JveD0iMCAwIDEwMjQgMTAyNCIgeG1sbnM9Imh0dHA6Ly93d3cudzMub3JnLzIwMDAvc3ZnIiB4bWxuczp4bGluaz0iaHR0cDovL3d3dy53My5vcmcvMTk5OS94bGluayIgdmVyc2lvbj0iMS4xIj4KIDwhLS0gR2VuZXJhdGVkIGJ5IFBpeGVsbWF0b3IgUHJvIDIuMC41IC0tPgogPGRlZnM+CiAgPHRleHQgaWQ9InN0cmluZyIgdHJhbnNmb3JtPSJtYXRyaXgoMS4wIDAuMCAwLjAgMS4wIDIyOC4wIDU0LjUpIiBmb250LWZhbWlseT0iQ29tZm9ydGFhLVJlZ3VsYXIsIENvbWZvcnRhYSIgZm9udC1zaXplPSI4MDAiIHRleHQtZGVjb3JhdGlvbj0ibm9uZSIgZmlsbD0iI2ZmZmZmZiIgeD0iMS4xOTk5OTk5OTk5OTk5ODg2IiB5PSI3MDUuMCI+bjwvdGV4dD4KIDwvZGVmcz4KIDx1c2UgaWQ9Im4iIHhsaW5rOmhyZWY9IiNzdHJpbmciLz4KPC9zdmc+Cg==\"/></a>"
   ]
  },
  {
   "cell_type": "markdown",
   "id": "c073ed2d-b161-41d8-8967-812a83b38963",
   "metadata": {},
   "source": [
    "**Tags:** #naas #help"
   ]
  },
  {
   "cell_type": "markdown",
   "id": "input_cell",
   "metadata": {
    "papermill": {},
    "tags": []
   },
   "source": [
    "## Input"
   ]
  },
  {
   "cell_type": "markdown",
   "id": "desperate-belize",
   "metadata": {
    "papermill": {},
    "tags": []
   },
   "source": [
    "### Import needed library"
   ]
  },
  {
   "cell_type": "code",
   "execution_count": 1,
   "id": "mobile-complaint",
   "metadata": {
    "execution": {
     "iopub.execute_input": "2021-08-31T09:42:24.863882Z",
     "iopub.status.busy": "2021-08-31T09:42:24.863443Z",
     "iopub.status.idle": "2021-08-31T09:42:30.077675Z",
     "shell.execute_reply": "2021-08-31T09:42:30.076923Z",
     "shell.execute_reply.started": "2021-08-31T09:42:24.863803Z"
    },
    "papermill": {},
    "tags": []
   },
   "outputs": [],
   "source": [
    "import naas"
   ]
  },
  {
   "cell_type": "markdown",
   "id": "output_cell",
   "metadata": {
    "papermill": {},
    "tags": []
   },
   "source": [
    "## Output"
   ]
  },
  {
   "cell_type": "markdown",
   "id": "resident-webster",
   "metadata": {
    "papermill": {},
    "tags": []
   },
   "source": [
    "### Open help chatbox"
   ]
  },
  {
   "cell_type": "code",
   "execution_count": 2,
   "id": "egyptian-default",
   "metadata": {
    "execution": {
     "iopub.execute_input": "2021-01-26T14:26:24.419320Z",
     "iopub.status.busy": "2021-01-26T14:26:24.419139Z",
     "iopub.status.idle": "2021-01-26T14:26:24.433478Z",
     "shell.execute_reply": "2021-01-26T14:26:24.432919Z",
     "shell.execute_reply.started": "2021-01-26T14:26:24.419300Z"
    },
    "papermill": {},
    "tags": []
   },
   "outputs": [],
   "source": [
    "naas.open_help()"
   ]
  },
  {
   "cell_type": "markdown",
   "id": "spiritual-clone",
   "metadata": {
    "papermill": {},
    "tags": []
   },
   "source": [
    "### Close help chatbox"
   ]
  },
  {
   "cell_type": "code",
   "execution_count": 3,
   "id": "conscious-welding",
   "metadata": {
    "execution": {
     "iopub.execute_input": "2021-01-26T14:26:26.126735Z",
     "iopub.status.busy": "2021-01-26T14:26:26.126503Z",
     "iopub.status.idle": "2021-01-26T14:26:26.134514Z",
     "shell.execute_reply": "2021-01-26T14:26:26.134036Z",
     "shell.execute_reply.started": "2021-01-26T14:26:26.126711Z"
    },
    "papermill": {},
    "tags": []
   },
   "outputs": [],
   "source": [
    "naas.close_help()"
   ]
  }
 ],
 "metadata": {
  "kernelspec": {
   "display_name": "Python 3",
   "language": "python",
   "name": "python3"
  },
  "language_info": {
   "codemirror_mode": {
    "name": "ipython",
    "version": 3
   },
   "file_extension": ".py",
   "mimetype": "text/x-python",
   "name": "python",
   "nbconvert_exporter": "python",
   "pygments_lexer": "ipython3",
   "version": "3.8.8"
  },
  "papermill": {
   "default_parameters": {},
   "environment_variables": {},
   "parameters": {},
   "version": "2.3.3"
  },
  "widgets": {
   "application/vnd.jupyter.widget-state+json": {
    "state": {},
    "version_major": 2,
    "version_minor": 0
   }
  }
 },
 "nbformat": 4,
 "nbformat_minor": 5
}
