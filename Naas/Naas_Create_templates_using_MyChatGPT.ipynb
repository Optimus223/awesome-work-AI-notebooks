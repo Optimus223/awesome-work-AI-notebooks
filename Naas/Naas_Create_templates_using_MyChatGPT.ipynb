{
 "cells": [
  {
   "cell_type": "markdown",
   "id": "4794f0b4-1de3-485b-92d1-a49d83ed654f",
   "metadata": {
    "papermill": {},
    "tags": []
   },
   "source": [
    "<img width=\"10%\" alt=\"Naas\" src=\"https://landen.imgix.net/jtci2pxwjczr/assets/5ice39g4.png?w=160\"/>"
   ]
  },
  {
   "cell_type": "markdown",
   "id": "24a25784-52b7-481b-ab73-00f85b9eb0da",
   "metadata": {
    "papermill": {},
    "tags": []
   },
   "source": [
    "# Naas - Create templates using MyChatGPT"
   ]
  },
  {
   "cell_type": "markdown",
   "id": "cb880774-7179-462d-802d-941b482d8bed",
   "metadata": {
    "papermill": {},
    "tags": []
   },
   "source": [
    "**Tags:** #naas #mychatgpt #templates #create #ai #chatbot"
   ]
  },
  {
   "cell_type": "markdown",
   "id": "af5bd2b5-8837-465c-87fd-3d5174b2bf45",
   "metadata": {
    "papermill": {},
    "tags": []
   },
   "source": [
    "**Author:** [Florent Ravenel](https://www.linkedin.com/in/florent-ravenel/)"
   ]
  },
  {
   "cell_type": "markdown",
   "id": "13619661-423c-4dc7-bd7d-1b108709f5ce",
   "metadata": {
    "papermill": {},
    "tags": []
   },
   "source": [
    "**Description:** This notebook will show how to create templates using MyChatGPT. It is usefull for organizations that want to create chatbot templates quickly and easily."
   ]
  },
  {
   "cell_type": "markdown",
   "id": "12b651c1-28bc-4621-b628-99e17ebac910",
   "metadata": {
    "papermill": {},
    "tags": []
   },
   "source": [
    "**References:**\n- [MyChatGPT Documentation](https://mychatgpt.com/docs)\n- [Naas Documentation](https://naas.ai/docs)"
   ]
  },
  {
   "cell_type": "markdown",
   "id": "65b69397-3596-467a-aaf4-8b4fd29c88e7",
   "metadata": {
    "papermill": {},
    "tags": []
   },
   "source": [
    "## Input"
   ]
  },
  {
   "cell_type": "markdown",
   "id": "c9771af2-10d9-4b90-81b3-445ed9d67efe",
   "metadata": {
    "papermill": {},
    "tags": []
   },
   "source": [
    "### Import libraries"
   ]
  },
  {
   "cell_type": "code",
   "execution_count": null,
   "id": "97ceb139-3845-4587-9e75-3a8be59dd170",
   "metadata": {
    "papermill": {},
    "tags": []
   },
   "source": "import mychatgpt\nimport naas",
   "outputs": []
  },
  {
   "cell_type": "markdown",
   "id": "c78036dd-8d2e-4b60-9ff8-9c806cb28c5c",
   "metadata": {
    "papermill": {},
    "tags": []
   },
   "source": [
    "### Setup Variables\n- `mychatgpt_token`: [MyChatGPT token](https://mychatgpt.com/docs/getting-started/authentication)\n- `naas_token`: [Naas token](https://naas.ai/docs/getting-started/authentication)"
   ]
  },
  {
   "cell_type": "code",
   "execution_count": null,
   "id": "9babef09-12bb-468f-8e64-c2637ab70ee6",
   "metadata": {
    "papermill": {},
    "tags": []
   },
   "source": "mychatgpt_token = \"mychatgpt_token\"\nnaas_token = \"naas_token\"",
   "outputs": []
  },
  {
   "cell_type": "markdown",
   "id": "20cf7e5e-215d-41e1-870b-504e16cf5c59",
   "metadata": {
    "papermill": {},
    "tags": []
   },
   "source": [
    "## Model"
   ]
  },
  {
   "cell_type": "markdown",
   "id": "e820bb5c-5010-4d19-a7d5-518c8e20dd7b",
   "metadata": {
    "papermill": {},
    "tags": []
   },
   "source": [
    "### Create template"
   ]
  },
  {
   "cell_type": "markdown",
   "id": "c91bd9e9-4097-48f4-afb8-1ecb9eca8884",
   "metadata": {
    "papermill": {},
    "tags": []
   },
   "source": [
    "Long description of the function: This function will create a template using MyChatGPT and Naas. It will take the MyChatGPT token and the Naas token as parameters."
   ]
  },
  {
   "cell_type": "code",
   "execution_count": null,
   "id": "0337a89e-a777-4443-a6aa-70450c22c375",
   "metadata": {
    "papermill": {},
    "tags": []
   },
   "source": "def create_template(mychatgpt_token, naas_token):\n    # Create MyChatGPT client\n    mychatgpt_client = mychatgpt.Client(mychatgpt_token)\n\n    # Create Naas client\n    naas_client = naas.Client(naas_token)\n\n    # Create template\n    template = mychatgpt_client.create_template()\n\n    # Save template\n    naas_client.save_template(template)",
   "outputs": []
  },
  {
   "cell_type": "markdown",
   "id": "ac458063-223b-4d67-b9b4-29ad26c8ab41",
   "metadata": {
    "papermill": {},
    "tags": []
   },
   "source": [
    "## Output"
   ]
  },
  {
   "cell_type": "markdown",
   "id": "994dfc88-4f83-4ebb-ba35-289eac3e0e70",
   "metadata": {
    "papermill": {},
    "tags": []
   },
   "source": [
    "### Display result"
   ]
  },
  {
   "cell_type": "code",
   "execution_count": null,
   "id": "e8c87958-262c-4d62-8ef0-c513d0d2e92b",
   "metadata": {
    "papermill": {},
    "tags": []
   },
   "source": "print(template)",
   "outputs": []
  }
 ],
 "metadata": {
  "kernelspec": {
   "display_name": "Python 3",
   "language": "python",
   "name": "python3"
  },
  "language_info": {
   "codemirror_mode": {
    "name": "ipython",
    "version": 3
   },
   "file_extension": ".py",
   "mimetype": "text/x-python",
   "name": "python",
   "nbconvert_exporter": "python",
   "pygments_lexer": "ipython3",
   "version": "3.9.6"
  },
  "widgets": {
   "application/vnd.jupyter.widget-state+json": {
    "state": {},
    "version_major": 2,
    "version_minor": 0
   }
  }
 },
 "nbformat": 4,
 "nbformat_minor": 5
}