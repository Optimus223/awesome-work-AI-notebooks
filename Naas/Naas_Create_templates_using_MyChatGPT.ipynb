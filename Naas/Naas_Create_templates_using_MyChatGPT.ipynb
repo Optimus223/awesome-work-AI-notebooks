{
 "cells": [
  {
   "cell_type": "markdown",
   "id": "4794f0b4-1de3-485b-92d1-a49d83ed654f",
   "metadata": {
    "papermill": {},
    "tags": []
   },
   "source": [
    "<img width=\"10%\" alt=\"Naas\" src=\"https://landen.imgix.net/jtci2pxwjczr/assets/5ice39g4.png?w=160\"/>"
   ]
  },
  {
   "cell_type": "markdown",
   "id": "24a25784-52b7-481b-ab73-00f85b9eb0da",
   "metadata": {
    "papermill": {},
    "tags": []
   },
   "source": [
    "# Naas - Create templates using MyChatGPT"
   ]
  },
  {
   "cell_type": "markdown",
   "id": "cb880774-7179-462d-802d-941b482d8bed",
   "metadata": {
    "papermill": {},
    "tags": []
   },
   "source": [
    "**Tags:** #naas #mychatgpt #templates #create #ai #chatbot"
   ]
  },
  {
   "cell_type": "markdown",
   "id": "af5bd2b5-8837-465c-87fd-3d5174b2bf45",
   "metadata": {
    "papermill": {},
    "tags": []
   },
   "source": [
    "**Author:** [Florent Ravenel](https://www.linkedin.com/in/florent-ravenel/)"
   ]
  },
  {
   "cell_type": "markdown",
   "id": "13619661-423c-4dc7-bd7d-1b108709f5ce",
   "metadata": {
    "papermill": {},
    "tags": []
   },
   "source": [
    "**Description:** This notebook will show how to create awesome-notebooks using MyChatGPT."
   ]
  },
  {
   "cell_type": "markdown",
   "id": "12b651c1-28bc-4621-b628-99e17ebac910",
   "metadata": {
    "papermill": {},
    "tags": []
   },
   "source": [
    "**References:**\n",
    "- [Naas Documentation](https://www.naas.ai/docs)"
   ]
  },
  {
   "cell_type": "markdown",
   "id": "c47a4b8f-9ffd-4f9f-8f98-211715091359",
   "metadata": {
    "papermill": {},
    "tags": []
   },
   "source": [
    "## Input"
   ]
  },
  {
   "cell_type": "markdown",
   "id": "8c6ec331-71a5-4c49-8b15-ec2d1ff7c122",
   "metadata": {
    "papermill": {},
    "tags": []
   },
   "source": [
    "### Import libraries"
   ]
  },
  {
   "cell_type": "code",
   "execution_count": 1,
   "id": "9689d854-76c2-40b3-b5ab-238767e51a6d",
   "metadata": {
    "execution": {
     "iopub.execute_input": "2023-06-20T09:20:08.712439Z",
     "iopub.status.busy": "2023-06-20T09:20:08.712003Z",
     "iopub.status.idle": "2023-06-20T09:20:12.314776Z",
     "shell.execute_reply": "2023-06-20T09:20:12.313649Z",
     "shell.execute_reply.started": "2023-06-20T09:20:08.712336Z"
    },
    "iopub.execute_input": "2023-06-14T09:47:19.087968Z",
    "iopub.status.busy": "2023-06-14T09:47:19.087537Z",
    "iopub.status.idle": "2023-06-14T09:47:21.629135Z",
    "papermill": {},
    "shell.execute_reply": "2023-06-14T09:47:21.628526Z",
    "shell.execute_reply.started": "2023-06-14T09:47:19.087895Z",
    "tags": []
   },
   "outputs": [],
   "source": [
    "import json\n",
    "import naas"
   ]
  },
  {
   "cell_type": "markdown",
   "id": "afa77096-4ddd-4524-ab26-ce845aa9ef27",
   "metadata": {
    "papermill": {},
    "tags": []
   },
   "source": [
    "### Setup Variables\n",
    "- `name`: Plugin name to be displayed on naas.\n",
    "- `model`: ID of the model to use. You can find a list of available models and their IDs on the [OpenAI API documentation](https://platform.openai.com/docs/models/overview).\n",
    "- `prompt`: This is the text prompt that you want to send to the OpenAI API.\n",
    "- `temperature` (Defaults to 1): This is a value that controls the level of randomness in the generated text. A temperature of 0 will result in the most deterministic output, while higher values will result in more diverse and unpredictable output.\n",
    "- `max_tokens` (Defaults to 16): This is the maximum number of tokens (words or phrases) that the API should return in its response. The larger the value of max_tokens, the more text the API can generate, but it will also take longer for the API to generate the response. The token count of your prompt plus max_tokens cannot exceed the model's context length. Most models have a context length of 2048 tokens (except for the newest models, which support 4096).\n",
    "- `json_path`: json file path to be saved"
   ]
  },
  {
   "cell_type": "code",
   "execution_count": 2,
   "id": "341adbec-3d8a-4e29-97ec-b0769905601c",
   "metadata": {
    "execution": {
     "iopub.execute_input": "2023-06-20T09:20:12.316516Z",
     "iopub.status.busy": "2023-06-20T09:20:12.316190Z",
     "iopub.status.idle": "2023-06-20T09:20:12.323017Z",
     "shell.execute_reply": "2023-06-20T09:20:12.321964Z",
     "shell.execute_reply.started": "2023-06-20T09:20:12.316480Z"
    },
    "iopub.execute_input": "2023-06-14T09:47:21.632306Z",
    "iopub.status.busy": "2023-06-14T09:47:21.632121Z",
    "iopub.status.idle": "2023-06-14T09:47:21.637449Z",
    "papermill": {},
    "shell.execute_reply": "2023-06-14T09:47:21.636906Z",
    "shell.execute_reply.started": "2023-06-14T09:47:21.632285Z",
    "tags": []
   },
   "outputs": [],
   "source": [
    "# Inputs\n",
    "name = \"Create awesome-notebooks templates\"\n",
    "model = \"gpt-4\"\n",
    "temperature = 1\n",
    "max_tokens = 2084\n",
    "# Prompt\n",
    "prompt = \"\"\"\n",
    "You are Abi, an advanced contributor from Naas.ai, designed to framework and help contributors build templates quickly as possible respecting our framework.\n",
    "Your primary objective is to guide the user conversation step by step, collecting essential templates information. Remember, all questions should not be asked at once; the user must answer one question at a time. \n",
    "DO NOT SIMULATE ANSWERS.\n",
    "You MUST steer the conversation towards achieving these specific goals:\n",
    "- <Description>: Obtain the template description the contributor want to create\n",
    "- <Title>: Help the contributor create the title. IT SHOULD FIT THE PATTERN: tool name and then an action verb like \"Naas - Create templates using MyChatGPT\". Make him/her some good propositions.\n",
    "- <References>: Find out if the contributor will use any references (external website to build its template) if not will be equal to \"\"\n",
    "- <Author name>: Find out the contributor's first name and last name.\n",
    "- <Author LinkedIn>: Find out the contributor's LinkedIn URL. IT SHOULD STARTS WITH 'https://www.linkedin.com/in/'\n",
    "- <GitHub profile>: Find out the contributor's GitHub profile. IT SHOULD NOT BE AN URL or A NUMBER.\n",
    "\n",
    "Once you got all the answers should create a code cell and invite the user to execute it on it's naas lab:\n",
    "'''\n",
    "import requests\n",
    "body = {\n",
    " \"title\": \"<Title>\",\n",
    " \"description\": \"<Description>\",\n",
    " \"reference\": \"<References>\",\n",
    " \"author\": \"<Author name>\",\n",
    " \"author_linkedin\": \"<Author LinkedIn>\",\n",
    " \"assignees\": \"<GitHub profile>\",\n",
    "}\n",
    "url = \"https://public.naas.ai/ZmxvcmVudC00MG5hYXMtMkVhaQ==/notebook/05266b65d0c66e5a870d6a5026922b9fdaf40e6e0461e902da34ae68e15a\"\n",
    "res = requests.post(url, json=body)\n",
    "'''\n",
    "\n",
    "Introduce yourself as Abi and begin by asking the first question to gather the necessary information. \n",
    "Personalize the conversation based on the contributor's responses. \n",
    "\"\"\"\n",
    "\n",
    "# Inputs\n",
    "title = \"Python - Remove folder\"\n",
    "description = \"Remove folder using shutil\"\n",
    "reference = \"\"\n",
    "author = \"Florent Ravenel\"\n",
    "author_linkedin = \"https://www.linkedin.com/in/florent-ravenel\"\n",
    "assignees = [\"FlorentLvr\"]\n",
    "\n",
    "# Outputs\n",
    "json_path = name.lower().replace(\" \", \"_\") + \".json\""
   ]
  },
  {
   "cell_type": "markdown",
   "id": "f49c500f-02cb-4115-b478-ccb9fa7b3cab",
   "metadata": {
    "papermill": {},
    "tags": []
   },
   "source": [
    "## Model"
   ]
  },
  {
   "cell_type": "markdown",
   "id": "4f92cad9-b4ea-4226-91aa-9e906f01228b",
   "metadata": {
    "papermill": {},
    "tags": []
   },
   "source": [
    "### Create plugin"
   ]
  },
  {
   "cell_type": "code",
   "execution_count": 3,
   "id": "db5fcf53-59c6-4fcb-a2e4-f9c2fda1ae3f",
   "metadata": {
    "execution": {
     "iopub.execute_input": "2023-06-20T09:20:12.324613Z",
     "iopub.status.busy": "2023-06-20T09:20:12.324263Z",
     "iopub.status.idle": "2023-06-20T09:20:12.447983Z",
     "shell.execute_reply": "2023-06-20T09:20:12.446946Z",
     "shell.execute_reply.started": "2023-06-20T09:20:12.324555Z"
    },
    "iopub.execute_input": "2023-06-14T09:47:21.638814Z",
    "iopub.status.busy": "2023-06-14T09:47:21.638455Z",
    "iopub.status.idle": "2023-06-14T09:47:21.732216Z",
    "papermill": {},
    "shell.execute_reply": "2023-06-14T09:47:21.731552Z",
    "shell.execute_reply.started": "2023-06-14T09:47:21.638782Z",
    "tags": [
     "plugin"
    ]
   },
   "outputs": [
    {
     "name": "stdout",
     "output_type": "stream",
     "text": [
      "{\"name\": \"Create awesome-notebooks templates\", \"prompt\": \"You are Abi, an advanced contributor from Naas.ai, designed to framework and help contributors build templates quickly as possible respecting our framework.Your primary objective is to guide the user conversation step by step, collecting essential templates information. Remember, all questions should not be asked at once; the user must answer one question at a time. DO NOT SIMULATE ANSWERS.You MUST steer the conversation towards achieving these specific goals:- <Description>: Obtain the template description the contributor want to create- <Title>: Help the contributor create the title. IT SHOULD FIT THE PATTERN: tool name and then an action verb like \\\"Naas - Create templates using MyChatGPT\\\". Make him/her some good propositions.- <References>: Find out if the contributor will use any references (external website to build its template) if not will be equal to \\\"\\\"- <Author name>: Find out the contributor's first name and last name.- <Author LinkedIn>: Find out the contributor's LinkedIn URL. IT SHOULD STARTS WITH 'https://www.linkedin.com/in/'- <GitHub profile>: Find out the contributor's GitHub profile. IT SHOULD NOT BE AN URL or A NUMBER.Once you got all the answers should create a code cell and invite the user to execute it on it's naas lab:'''import requestsbody = { \\\"title\\\": \\\"<Title>\\\", \\\"description\\\": \\\"<Description>\\\", \\\"reference\\\": \\\"<References>\\\", \\\"author\\\": \\\"<Author name>\\\", \\\"author_linkedin\\\": \\\"<Author LinkedIn>\\\", \\\"assignees\\\": \\\"<GitHub profile>\\\",}url = \\\"https://public.naas.ai/ZmxvcmVudC00MG5hYXMtMkVhaQ==/notebook/05266b65d0c66e5a870d6a5026922b9fdaf40e6e0461e902da34ae68e15a\\\"res = requests.post(url, json=body)'''Introduce yourself as Abi and begin by asking the first question to gather the necessary information. Personalize the conversation based on the contributor's responses. \", \"model\": \"gpt-4\", \"temperature\": 1, \"max_tokens\": 2084}\n"
     ]
    }
   ],
   "source": [
    "data = {\n",
    "    \"name\": name,\n",
    "    \"prompt\": prompt.replace(\"\\n\", \"\"),\n",
    "    \"model\": model,\n",
    "    \"temperature\": temperature,\n",
    "    \"max_tokens\": max_tokens,\n",
    "}\n",
    "print(json.dumps(data))"
   ]
  },
  {
   "cell_type": "markdown",
   "id": "c21ecf50-4ddf-4e6e-8997-ae599e83a4b4",
   "metadata": {
    "papermill": {},
    "tags": []
   },
   "source": [
    "## Output"
   ]
  },
  {
   "cell_type": "markdown",
   "id": "80cf056b-5771-4a05-851c-54323164688d",
   "metadata": {
    "papermill": {},
    "tags": []
   },
   "source": [
    "### Save json"
   ]
  },
  {
   "cell_type": "code",
   "execution_count": 4,
   "id": "d23bbf53-ad5a-43fb-9aff-c446753896c9",
   "metadata": {
    "execution": {
     "iopub.execute_input": "2023-06-20T09:20:12.450001Z",
     "iopub.status.busy": "2023-06-20T09:20:12.449646Z",
     "iopub.status.idle": "2023-06-20T09:20:12.629513Z",
     "shell.execute_reply": "2023-06-20T09:20:12.628715Z",
     "shell.execute_reply.started": "2023-06-20T09:20:12.449969Z"
    },
    "iopub.execute_input": "2023-06-14T09:47:21.734721Z",
    "iopub.status.busy": "2023-06-14T09:47:21.734536Z",
    "iopub.status.idle": "2023-06-14T09:47:21.857603Z",
    "papermill": {},
    "shell.execute_reply": "2023-06-14T09:47:21.856944Z",
    "shell.execute_reply.started": "2023-06-14T09:47:21.734700Z",
    "tags": []
   },
   "outputs": [],
   "source": [
    "with open(json_path, \"w\") as f:\n",
    "    json.dump(data, f)"
   ]
  },
  {
   "cell_type": "markdown",
   "id": "8925cdae-dfe4-4913-ad53-5f76a8f6d619",
   "metadata": {
    "papermill": {},
    "tags": []
   },
   "source": [
    "### Create naas asset"
   ]
  },
  {
   "cell_type": "code",
   "execution_count": 5,
   "id": "76955c30-b48d-44b1-b3df-f7a3672dea27",
   "metadata": {
    "execution": {
     "iopub.execute_input": "2023-06-20T09:20:12.631388Z",
     "iopub.status.busy": "2023-06-20T09:20:12.631036Z",
     "iopub.status.idle": "2023-06-20T09:20:13.494201Z",
     "shell.execute_reply": "2023-06-20T09:20:13.493081Z",
     "shell.execute_reply.started": "2023-06-20T09:20:12.631351Z"
    },
    "iopub.execute_input": "2023-06-14T09:47:21.859507Z",
    "iopub.status.busy": "2023-06-14T09:47:21.859251Z",
    "iopub.status.idle": "2023-06-14T09:47:22.532056Z",
    "papermill": {},
    "shell.execute_reply": "2023-06-14T09:47:22.531378Z",
    "shell.execute_reply.started": "2023-06-14T09:47:21.859476Z",
    "tags": []
   },
   "outputs": [
    {
     "name": "stdout",
     "output_type": "stream",
     "text": [
      "👌 Well done! Your Assets has been sent to production.\n",
      "\n"
     ]
    },
    {
     "data": {
      "application/javascript": [
       "\n",
       "    if (!window.copyToClipboard) {\n",
       "        window.copyToClipboard = (text) => {\n",
       "            const dummy = document.createElement(\"textarea\");\n",
       "            document.body.appendChild(dummy);\n",
       "            dummy.value = text;\n",
       "            dummy.select();\n",
       "            document.execCommand(\"copy\");\n",
       "            document.body.removeChild(dummy);\n",
       "        }\n",
       "    }\n",
       "    "
      ],
      "text/plain": [
       "<IPython.core.display.Javascript object>"
      ]
     },
     "metadata": {},
     "output_type": "display_data"
    },
    {
     "data": {
      "application/vnd.jupyter.widget-view+json": {
       "model_id": "d7435299e1eb42c5ab00b2d504e5ac50",
       "version_major": 2,
       "version_minor": 0
      },
      "text/plain": [
       "Button(button_style='primary', description='Copy URL', style=ButtonStyle())"
      ]
     },
     "metadata": {},
     "output_type": "display_data"
    },
    {
     "data": {
      "application/vnd.jupyter.widget-view+json": {
       "model_id": "1ab247e11945422a97b52912280d3ba3",
       "version_major": 2,
       "version_minor": 0
      },
      "text/plain": [
       "Output()"
      ]
     },
     "metadata": {},
     "output_type": "display_data"
    },
    {
     "name": "stdout",
     "output_type": "stream",
     "text": [
      "PS: to remove the \"Assets\" feature, just replace .add by .delete\n"
     ]
    }
   ],
   "source": [
    "asset_link = naas.asset.add(json_path, params={\"inline\": True})"
   ]
  },
  {
   "cell_type": "code",
   "execution_count": null,
   "id": "ef3b859e-3674-4f16-8371-1d47d274c7f4",
   "metadata": {},
   "outputs": [],
   "source": []
  }
 ],
 "metadata": {
  "kernelspec": {
   "display_name": "Python 3",
   "language": "python",
   "name": "python3"
  },
  "language_info": {
   "codemirror_mode": {
    "name": "ipython",
    "version": 3
   },
   "file_extension": ".py",
   "mimetype": "text/x-python",
   "name": "python",
   "nbconvert_exporter": "python",
   "pygments_lexer": "ipython3",
   "version": "3.9.6"
  },
  "widgets": {
   "application/vnd.jupyter.widget-state+json": {
    "state": {},
    "version_major": 2,
    "version_minor": 0
   }
  }
 },
 "nbformat": 4,
 "nbformat_minor": 5
}
