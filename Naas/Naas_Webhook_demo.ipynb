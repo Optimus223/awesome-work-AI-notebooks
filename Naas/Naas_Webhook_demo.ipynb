{
 "cells": [
  {
   "cell_type": "markdown",

   "id": "center-headline",
   "metadata": {
    "papermill": {},
    "tags": []
   },

   "source": [
    "<img width=\"10%\" alt=\"Naas\" src=\"https://landen.imgix.net/jtci2pxwjczr/assets/5ice39g4.png?w=160\"/>\n"
   ]
  },
  {
   "cell_type": "markdown",

   "id": "20f0546c-8e9c-49da-9908-dd84269f7e27",
   "metadata": {},
   "source": [
    "# Naas - Webhook demo"
   ]
  },
  {
   "cell_type": "markdown",
   "id": "bright-advocate",
   "metadata": {},
   "source": [
    "## Basic formulas\n",
    "Running this command will add your this notebook to the \"⚡️ Production\" folder. <br>\n",
    "You can then, trigger it with the generated URL."
   ]
  },
  {
   "cell_type": "code",
   "execution_count": null,
   "id": "e443b252-6292-4527-a37c-dea96bf05c4c",
   "metadata": {},
   "outputs": [],
   "source": [
    "import naas \n",
    "naas.webhook.add()"
   ]
  },
  {
   "cell_type": "markdown",
   "id": "4c9d4b42-3b59-4d25-b260-58890151e429",
   "metadata": {},
   "source": [
    "Running this command will delete your webhook"
   ]
  },
  {
   "cell_type": "code",
   "execution_count": null,
   "id": "7d20e5dc-b97e-478f-89be-59ee3f9aea93",
   "metadata": {},
   "outputs": [],
   "source": [
    "naas.webhook.delete()"
   ]
  },
  {
   "cell_type": "markdown",
   "id": "145dc25e-03f8-4108-a318-049a56bbb7e0",
   "metadata": {},
   "source": [
    "## How to use webhook with 3rd party tool?\n",
    "Use the webhook feature to get data and trigger action from any tool.<br>\n",
    "Example of UMSO - Nocode website builder : https://www.umso.com/"
   ]
  },
  {
   "cell_type": "markdown",
   "id": "applied-desperate",
   "metadata": {},
   "source": [
    "## Step 1\n",
    "Add \"parameters\" tag in cells => Code will be injected after this cell"
   ]
  },
  {
   "cell_type": "code",
   "execution_count": 5,
   "id": "according-convergence",
   "metadata": {
    "execution": {
     "iopub.execute_input": "2021-03-20T16:57:37.003018Z",
     "iopub.status.busy": "2021-03-20T16:57:37.002786Z",
     "iopub.status.idle": "2021-03-20T16:57:37.006877Z",
     "shell.execute_reply": "2021-03-20T16:57:37.006243Z",
     "shell.execute_reply.started": "2021-03-20T16:57:37.002995Z"
    }
   },
   "outputs": [],
   "source": [
    "# Parameters\n",
    "params = {}\n",
    "body = {\n",
    "    \"Domain\": \"www.naas.ai\",\n",
    "    \"Email\": \"jeremy.naas42@gmail.com\",\n",
    "    \"Name\": \"Jeremy\",\n",
    "    \"Site_ID\": \"jtci2pxwjczr\",\n",
    "    \"Submitted_At\": \"March 20, 2021 16:55 UTC\",\n",
    "}\n",
    "headers = {\n",
    "    \"host\": \"public.naas.ai\",\n",
    "    \"x-request-id\": \"e6b994eb9a83b9cac794c0d9e57c1533\",\n",
    "    \"x-real-ip\": \"10.0.87.40\",\n",
    "    \"x-forwarded-for\": \"10.0.87.40\",\n",
    "    \"x-forwarded-host\": \"public.naas.ai\",\n",
    "    \"x-forwarded-port\": \"443\",\n",
    "    \"x-forwarded-proto\": \"https\",\n",
    "    \"x-scheme\": \"https\",\n",
    "    \"accept\": \"application/json\",\n",
    "    \"content-type\": \"application/json\",\n",
    "    \"user-agent\": \"landen-webhook-agent\",\n",
    "    \"accept-encoding\": \"gzip\",\n",
    "    \"connection\": \"close\",\n",
    "    \"content-length\": \"142\",\n",
    "    \"accept-charset\": \"utf-8\",\n",
    "}"
   ]
  },
  {
   "cell_type": "code",
   "execution_count": null,
   "id": "plain-victorian",
   "metadata": {
    "tags": [
     "parameters"
    ]
   },
   "outputs": [],
   "source": []
  },
  {
   "cell_type": "markdown",
   "id": "aquatic-mirror",
   "metadata": {},
   "source": [
    "## Step 2 \n",
    "Create webhook, get url, add it to your input and test it."
   ]
  },
  {
   "cell_type": "code",
   "execution_count": 1,
   "id": "accurate-onion",
   "metadata": {
    "execution": {
     "iopub.execute_input": "2021-03-20T16:51:54.896310Z",
     "iopub.status.busy": "2021-03-20T16:51:54.896022Z",
     "iopub.status.idle": "2021-03-20T16:51:56.431297Z",
     "shell.execute_reply": "2021-03-20T16:51:56.430693Z",
     "shell.execute_reply.started": "2021-03-20T16:51:54.896239Z"
    }
   },
   "outputs": [
    {
     "name": "stdout",
     "output_type": "stream",
     "text": [
      "👌 Well done! Your Notebook has been sent to production.\n",
      "\n"
     ]
    },
    {
     "data": {
      "application/vnd.jupyter.widget-view+json": {
       "model_id": "e9ab2b9a369641b4856a3b2c2b97d574",
       "version_major": 2,
       "version_minor": 0
      },
      "text/plain": [
       "Button(button_style='primary', description='Copy URL', style=ButtonStyle())"
      ]
     },
     "metadata": {},
     "output_type": "display_data"
    },
    {
     "data": {
      "application/vnd.jupyter.widget-view+json": {
       "model_id": "ff961a641f9941f6a9c72af8e821b1ab",
       "version_major": 2,
       "version_minor": 0
      },
      "text/plain": [
       "Output()"
      ]
     },
     "metadata": {},
     "output_type": "display_data"
    },
    {
     "name": "stdout",
     "output_type": "stream",
     "text": [
      "PS: to remove the \"Notebook as API\" feature, just replace .add by .delete\n"
     ]
    },
    {
     "data": {
      "text/plain": [
       "'https://public.naas.ai/amVyZW15LTJFbmFhczQyLTQwZ21haWwtMkVjb20=/notebook/d34f803ce9d19bf2c18eb4b301954a92cdbdc9c8ad0220870974782c94af'"
      ]
     },
     "execution_count": 1,
     "metadata": {},
     "output_type": "execute_result"
    }
   ],
   "source": [
    "import naas\n",
    "naas.webhook.add()"
   ]
  },
  {
   "cell_type": "markdown",

   "id": "naughty-vacation",
   "metadata": {},
   "source": [
    "## Step 3 \n",
    "Execute webhook and get_output to know the format of parameters injected."
   ]
  },
  {
   "cell_type": "code",
   "execution_count": 7,
   "id": "banned-creature",
   "metadata": {
    "execution": {
     "iopub.execute_input": "2021-03-20T17:32:38.043106Z",
     "iopub.status.busy": "2021-03-20T17:32:38.042766Z",
     "iopub.status.idle": "2021-03-20T17:32:38.182480Z",
     "shell.execute_reply": "2021-03-20T17:32:38.181784Z",
     "shell.execute_reply.started": "2021-03-20T17:32:38.043068Z"
    }
   },
   "outputs": [
    {
     "name": "stdout",
     "output_type": "stream",
     "text": [
      "🕣 Your Notebook output Naas_Webhook_tutorial.ipynb, has been copied into your local folder.\n",
      "\n"
     ]
    }
   ],
   "source": [
    "naas.webhook.get_output()"
   ]
  },
  {
   "cell_type": "markdown",
   "id": "falling-barcelona",
   "metadata": {},
   "source": [
    "## Step 4 \n",
    "Thanks to the output notebook, you can understand the structure of your input (standard : params, headers, body).\n",
    "Inject it in the blank cell in Step 1 to build your pipeline."

   ]
  },
  {
   "cell_type": "code",

   "execution_count": 8,
   "id": "cubic-shower",
   "metadata": {
    "execution": {
     "iopub.execute_input": "2021-03-20T17:34:43.795281Z",
     "iopub.status.busy": "2021-03-20T17:34:43.795060Z",
     "iopub.status.idle": "2021-03-20T17:34:43.799014Z",
     "shell.execute_reply": "2021-03-20T17:34:43.798416Z",
     "shell.execute_reply.started": "2021-03-20T17:34:43.795259Z"
    }
   },
   "outputs": [
    {
     "data": {
      "text/plain": [
       "'jeremy.naas42@gmail.com'"
      ]
     },
     "execution_count": 8,
     "metadata": {},
     "output_type": "execute_result"
    }
   ],
   "source": [
    "EMAIL = body.get(\"Email\")\n",
    "EMAIL"
   ]
  },
  {
   "cell_type": "markdown",
   "id": "egyptian-cache",
   "metadata": {},
   "source": [
    "## Step 5 \n",
    "Build whatever you need. \n",
    "In this example, I want to send an email with the notebook template to the subscriber."
   ]
  },
  {
   "cell_type": "markdown",
   "id": "neutral-partnership",
   "metadata": {},
   "source": [
    "### Step 5.1 \n",
    "Setup a notification system."
   ]
  },
  {
   "cell_type": "code",
   "execution_count": null,
   "id": "divided-account",
   "metadata": {},
   "outputs": [],
   "source": [
    "import naas\n",
    "email_to = [\"jeremy.ravenel@cashstory.com\", EMAIL]\n",
    "subject = \"Get Naas Webhook tutorial template\"\n",
    "content = f\"Hey {EMAIL},<br>Here is the Naas webhook tutorial template : https://public.naas.ai/amVyZW15LTJFbmFhczQyLTQwZ21haWwtMkVjb20=/asset/7c9359cbc967afd01d8e45b68659b3b0db4179582561f6fab70f156c460a\"\n",
    "naas.notifications.send(email_to=email_to, subject=subject, html=content)"
   ]
  },
  {
   "cell_type": "markdown",
   "id": "spectacular-douglas",
   "metadata": {},
   "source": [
    "### Step 5.2 \n",
    "Share the notebook as an asset. "

   ]
  },
  {
   "cell_type": "code",

   "execution_count": 9,
   "id": "motivated-encoding",
   "metadata": {
    "execution": {
     "iopub.execute_input": "2021-03-20T17:37:23.144256Z",
     "iopub.status.busy": "2021-03-20T17:37:23.144032Z",
     "iopub.status.idle": "2021-03-20T17:37:23.334218Z",
     "shell.execute_reply": "2021-03-20T17:37:23.333506Z",
     "shell.execute_reply.started": "2021-03-20T17:37:23.144234Z"
    }
   },
   "outputs": [
    {
     "name": "stdout",
     "output_type": "stream",
     "text": [
      "👌 Well done! Your Assets has been sent to production.\n",
      "\n"
     ]
    },
    {
     "data": {
      "application/vnd.jupyter.widget-view+json": {
       "model_id": "363a1325d7c544af81190f0e4355e6e1",
       "version_major": 2,
       "version_minor": 0
      },
      "text/plain": [
       "Button(button_style='primary', description='Copy URL', style=ButtonStyle())"
      ]
     },
     "metadata": {},
     "output_type": "display_data"
    },
    {
     "data": {
      "application/vnd.jupyter.widget-view+json": {
       "model_id": "ae7892f7d48e4b2e97c09b5ce5689d0c",
       "version_major": 2,
       "version_minor": 0
      },
      "text/plain": [
       "Output()"
      ]
     },
     "metadata": {},
     "output_type": "display_data"
    },
    {
     "name": "stdout",
     "output_type": "stream",
     "text": [
      "PS: to remove the \"Assets\" feature, just replace .add by .delete\n"
     ]
    },
    {
     "data": {
      "text/plain": [
       "'https://public.naas.ai/amVyZW15LTJFbmFhczQyLTQwZ21haWwtMkVjb20=/asset/7c9359cbc967afd01d8e45b68659b3b0db4179582561f6fab70f156c460a'"
      ]
     },
     "execution_count": 9,
     "metadata": {},
     "output_type": "execute_result"
    }
   ],
   "source": [
    "naas.assets.add()"
   ]
  },
  {
   "cell_type": "code",
   "execution_count": null,
   "id": "dated-fundamentals",
   "metadata": {},
   "outputs": [],
   "source": []

  }
 ],
 "metadata": {
  "kernelspec": {
   "display_name": "Python 3",
   "language": "python",
   "name": "python3"
  },
  "language_info": {
   "codemirror_mode": {
    "name": "ipython",
    "version": 3
   },
   "file_extension": ".py",
   "mimetype": "text/x-python",
   "name": "python",
   "nbconvert_exporter": "python",
   "pygments_lexer": "ipython3",
   "version": "3.8.8"
  },

  "papermill": {
   "default_parameters": {},
   "environment_variables": {},
   "parameters": {},
   "version": "2.3.3"
  },
  "widgets": {
   "application/vnd.jupyter.widget-state+json": {
    "state": {
     "02da110805e4417d9fec8d0576fa6962": {
      "model_module": "@jupyter-widgets/output",
      "model_module_version": "1.0.0",
      "model_name": "OutputModel",
      "state": {
       "layout": "IPY_MODEL_cfef823a41364d128292be79d3bf501f"
      }
     },
     "2767f47c258144b6b787b595dbb0daca": {
      "model_module": "@jupyter-widgets/output",
      "model_module_version": "1.0.0",
      "model_name": "OutputModel",
      "state": {
       "layout": "IPY_MODEL_8d65e34724e3400d9ed80999eb7b3cef"
      }
     },
     "2ac8a002af124ddf992845fb5c6d687f": {
      "model_module": "@jupyter-widgets/controls",
      "model_module_version": "1.5.0",
      "model_name": "ButtonModel",
      "state": {
       "button_style": "primary",
       "description": "Copy URL",
       "layout": "IPY_MODEL_f04e13e1f10a4ed79d37ff8306a449a3",
       "style": "IPY_MODEL_c2d39b04f34140b5bb1b557c9c552550"
      }
     },
     "6815f89a0c20455e8fc71a23b5fd299d": {
      "model_module": "@jupyter-widgets/controls",
      "model_module_version": "1.5.0",
      "model_name": "ButtonStyleModel",
      "state": {}
     },
     "8d65e34724e3400d9ed80999eb7b3cef": {
      "model_module": "@jupyter-widgets/base",
      "model_module_version": "1.2.0",
      "model_name": "LayoutModel",
      "state": {}
     },
     "9b1edc4b81584aa0a294b8db375cd648": {
      "model_module": "@jupyter-widgets/base",
      "model_module_version": "1.2.0",
      "model_name": "LayoutModel",
      "state": {}
     },
     "c2d39b04f34140b5bb1b557c9c552550": {
      "model_module": "@jupyter-widgets/controls",
      "model_module_version": "1.5.0",
      "model_name": "ButtonStyleModel",
      "state": {}
     },
     "cfef823a41364d128292be79d3bf501f": {
      "model_module": "@jupyter-widgets/base",
      "model_module_version": "1.2.0",
      "model_name": "LayoutModel",
      "state": {}
     },
     "f04e13e1f10a4ed79d37ff8306a449a3": {
      "model_module": "@jupyter-widgets/base",
      "model_module_version": "1.2.0",
      "model_name": "LayoutModel",
      "state": {}
     },
     "f55584cae29d49969abfd03679c51424": {
      "model_module": "@jupyter-widgets/controls",
      "model_module_version": "1.5.0",
      "model_name": "ButtonModel",
      "state": {
       "button_style": "primary",
       "description": "Copy URL",
       "layout": "IPY_MODEL_9b1edc4b81584aa0a294b8db375cd648",
       "style": "IPY_MODEL_6815f89a0c20455e8fc71a23b5fd299d"
      }
     }
    },

    "version_major": 2,
    "version_minor": 0
   }
  }
 },
 "nbformat": 4,
 "nbformat_minor": 5

  

}

