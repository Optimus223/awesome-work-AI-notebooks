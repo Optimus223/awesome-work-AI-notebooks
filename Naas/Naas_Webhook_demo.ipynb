{
 "cells": [
  {
   "cell_type": "markdown",
   "id": "center-headline",
   "metadata": {
    "papermill": {},
    "tags": []
   },
   "source": [
    "<img width=\"10%\" alt=\"Naas\" src=\"https://landen.imgix.net/jtci2pxwjczr/assets/5ice39g4.png?w=160\"/>\n"
   ]
  },
  {
   "cell_type": "markdown",
   "id": "naked-appraisal",
   "metadata": {
    "papermill": {},
    "tags": []
   },
   "source": [
    "# Naas - Webhook demo"
   ]
  },
  {
   "cell_type": "markdown",
   "id": "forced-district",
   "metadata": {
    "papermill": {},
    "tags": []
   },
   "source": [
    "Read the doc: https://docs.naas.ai/features/api"
   ]
  },
  {
   "cell_type": "markdown",
   "id": "german-recycling",
   "metadata": {
    "papermill": {},
    "tags": []
   },
   "source": [
    "Running this command will add your this notebook to the \"⚡️ Production\" folder. <br>\n",
    "You can then, trigger it with the generated URL."
   ]
  },
  {
   "cell_type": "code",
   "execution_count": 2,
   "id": "incomplete-colonial",
   "metadata": {
    "execution": {
     "iopub.execute_input": "2021-08-31T09:47:21.449910Z",
     "iopub.status.busy": "2021-08-31T09:47:21.449670Z",
     "iopub.status.idle": "2021-08-31T09:47:21.905644Z",
     "shell.execute_reply": "2021-08-31T09:47:21.904896Z",
     "shell.execute_reply.started": "2021-08-31T09:47:21.449883Z"
    },
    "papermill": {},
    "tags": []
   },
   "outputs": [
    {
     "name": "stdout",
     "output_type": "stream",
     "text": [
      "👌 Well done! Your Notebook has been sent to production.\n",
      "\n"
     ]
    },
    {
     "data": {
      "application/javascript": [
       "\n",
       "    if (!window.copyToClipboard) {\n",
       "        window.copyToClipboard = (text) => {\n",
       "            const dummy = document.createElement(\"textarea\");\n",
       "            document.body.appendChild(dummy);\n",
       "            dummy.value = text;\n",
       "            dummy.select();\n",
       "            document.execCommand(\"copy\");\n",
       "            document.body.removeChild(dummy);\n",
       "        }\n",
       "    }\n",
       "    "
      ],
      "text/plain": [
       "<IPython.core.display.Javascript object>"
      ]
     },
     "metadata": {},
     "output_type": "display_data"
    },
    {
     "data": {
      "application/vnd.jupyter.widget-view+json": {
       "model_id": "2ac8a002af124ddf992845fb5c6d687f",
       "version_major": 2,
       "version_minor": 0
      },
      "text/plain": [
       "Button(button_style='primary', description='Copy URL', style=ButtonStyle())"
      ]
     },
     "metadata": {},
     "output_type": "display_data"
    },
    {
     "data": {
      "application/vnd.jupyter.widget-view+json": {
       "model_id": "2767f47c258144b6b787b595dbb0daca",
       "version_major": 2,
       "version_minor": 0
      },
      "text/plain": [
       "Output()"
      ]
     },
     "metadata": {},
     "output_type": "display_data"
    },
    {
     "name": "stdout",
     "output_type": "stream",
     "text": [
      "PS: to remove the \"Notebook as API\" feature, just replace .add by .delete\n"
     ]
    },
    {
     "data": {
      "text/plain": [
       "'https://public.naas.ai/amVyZW15LTJFcmF2ZW5lbC00MGNhc2hzdG9yeS0yRWNvbQ==/notebook/5e33d5ffb67c1889590fd1f6a6f7c47e5a5410a18a9c3a5706698ad33bc3'"
      ]
     },
     "execution_count": 2,
     "metadata": {},
     "output_type": "execute_result"
    }
   ],
   "source": [
    "import naas \n",
    "\n",
    "naas.webhook.add()"
   ]
  },
  {
   "cell_type": "code",
   "execution_count": null,
   "id": "contemporary-class",
   "metadata": {
    "papermill": {},
    "tags": []
   },
   "outputs": [],
   "source": [
    "naas.api.delete()"
   ]
  }
 ],
 "metadata": {
  "kernelspec": {
   "display_name": "Python 3",
   "language": "python",
   "name": "python3"
  },
  "language_info": {
   "codemirror_mode": {
    "name": "ipython",
    "version": 3
   },
   "file_extension": ".py",
   "mimetype": "text/x-python",
   "name": "python",
   "nbconvert_exporter": "python",
   "pygments_lexer": "ipython3",
   "version": "3.8.8"
  },
  "papermill": {
   "default_parameters": {},
   "environment_variables": {},
   "parameters": {},
   "version": "2.3.3"
  },
  "widgets": {
   "application/vnd.jupyter.widget-state+json": {
    "state": {
     "02da110805e4417d9fec8d0576fa6962": {
      "model_module": "@jupyter-widgets/output",
      "model_module_version": "1.0.0",
      "model_name": "OutputModel",
      "state": {
       "layout": "IPY_MODEL_cfef823a41364d128292be79d3bf501f"
      }
     },
     "2767f47c258144b6b787b595dbb0daca": {
      "model_module": "@jupyter-widgets/output",
      "model_module_version": "1.0.0",
      "model_name": "OutputModel",
      "state": {
       "layout": "IPY_MODEL_8d65e34724e3400d9ed80999eb7b3cef"
      }
     },
     "2ac8a002af124ddf992845fb5c6d687f": {
      "model_module": "@jupyter-widgets/controls",
      "model_module_version": "1.5.0",
      "model_name": "ButtonModel",
      "state": {
       "button_style": "primary",
       "description": "Copy URL",
       "layout": "IPY_MODEL_f04e13e1f10a4ed79d37ff8306a449a3",
       "style": "IPY_MODEL_c2d39b04f34140b5bb1b557c9c552550"
      }
     },
     "6815f89a0c20455e8fc71a23b5fd299d": {
      "model_module": "@jupyter-widgets/controls",
      "model_module_version": "1.5.0",
      "model_name": "ButtonStyleModel",
      "state": {}
     },
     "8d65e34724e3400d9ed80999eb7b3cef": {
      "model_module": "@jupyter-widgets/base",
      "model_module_version": "1.2.0",
      "model_name": "LayoutModel",
      "state": {}
     },
     "9b1edc4b81584aa0a294b8db375cd648": {
      "model_module": "@jupyter-widgets/base",
      "model_module_version": "1.2.0",
      "model_name": "LayoutModel",
      "state": {}
     },
     "c2d39b04f34140b5bb1b557c9c552550": {
      "model_module": "@jupyter-widgets/controls",
      "model_module_version": "1.5.0",
      "model_name": "ButtonStyleModel",
      "state": {}
     },
     "cfef823a41364d128292be79d3bf501f": {
      "model_module": "@jupyter-widgets/base",
      "model_module_version": "1.2.0",
      "model_name": "LayoutModel",
      "state": {}
     },
     "f04e13e1f10a4ed79d37ff8306a449a3": {
      "model_module": "@jupyter-widgets/base",
      "model_module_version": "1.2.0",
      "model_name": "LayoutModel",
      "state": {}
     },
     "f55584cae29d49969abfd03679c51424": {
      "model_module": "@jupyter-widgets/controls",
      "model_module_version": "1.5.0",
      "model_name": "ButtonModel",
      "state": {
       "button_style": "primary",
       "description": "Copy URL",
       "layout": "IPY_MODEL_9b1edc4b81584aa0a294b8db375cd648",
       "style": "IPY_MODEL_6815f89a0c20455e8fc71a23b5fd299d"
      }
     }
    },
    "version_major": 2,
    "version_minor": 0
   }
  }
 },
 "nbformat": 4,
 "nbformat_minor": 5
}
