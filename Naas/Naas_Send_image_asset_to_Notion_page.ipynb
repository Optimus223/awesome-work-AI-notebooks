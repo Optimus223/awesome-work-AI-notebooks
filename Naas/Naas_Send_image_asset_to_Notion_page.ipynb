{
 "cells": [
  {
   "cell_type": "markdown",
   "id": "a3d79651-ccbb-4baa-9938-321ee9edcc40",
   "metadata": {
    "papermill": {},
    "tags": []
   },
   "source": [
    "<img width=\"10%\" alt=\"Naas\" src=\"https://landen.imgix.net/jtci2pxwjczr/assets/5ice39g4.png?w=160\"/>"
   ]
  },
  {
   "cell_type": "markdown",
   "id": "190d7ab0-b836-4933-b809-1f0297454cd1",
   "metadata": {
    "papermill": {},
    "tags": []
   },
   "source": [
    "# Naas - Send image asset to Notion page"
   ]
  },
  {
   "cell_type": "markdown",
   "id": "01e22ea4-5b1b-4433-995c-938aec200f38",
   "metadata": {
    "papermill": {},
    "tags": []
   },
   "source": [
    "**Tags:** #naas #notion #image #asset #send #vizualise"
   ]
  },
  {
   "cell_type": "markdown",
   "id": "74771dcc-449a-4994-9701-028de1b1e895",
   "metadata": {
    "papermill": {},
    "tags": []
   },
   "source": [
    "**Author:** [Florent Ravenel](https://www.linkedin.com/in/florent-ravenel/)"
   ]
  },
  {
   "cell_type": "markdown",
   "id": "e735dee3-8da5-4375-8dac-53698ba14871",
   "metadata": {
    "papermill": {},
    "tags": []
   },
   "source": [
    "**Description:** This notebook sends an naas image asset to a Notion page. If your page is in a notion database, you will be able to vizualise the chart in Gallery (display page content). The image asset will be updated (deleted and added) to make sure the graph display is always up to date in Notion."
   ]
  },
  {
   "cell_type": "markdown",
   "id": "9781331a-3bb9-42d2-b444-ae96433b492b",
   "metadata": {
    "papermill": {},
    "tags": []
   },
   "source": [
    "**References:**\n- [Naas Documentation](https://docs.naas.io/)\n- [Notion Documentation](https://www.notion.so/product/Notion-cffd2f2fad6e4f9fae9c563d9f0e4e53)"
   ]
  },
  {
   "cell_type": "markdown",
   "id": "e23ca193-d048-4d3a-aab0-44d692599474",
   "metadata": {
    "papermill": {},
    "tags": []
   },
   "source": [
    "## Input"
   ]
  },
  {
   "cell_type": "markdown",
   "id": "9723adae-3de3-49fa-aa8c-afb281ac6fb1",
   "metadata": {
    "papermill": {},
    "tags": []
   },
   "source": [
    "### Import libraries"
   ]
  },
  {
   "cell_type": "code",
   "execution_count": null,
   "id": "ed48d4d8-ff70-4b5d-a952-91c58aa5b01d",
   "metadata": {
    "papermill": {},
    "tags": []
   },
   "source": "import naas\nimport notion",
   "outputs": []
  },
  {
   "cell_type": "markdown",
   "id": "3a75474e-c527-42ec-8514-e4c3fe775081",
   "metadata": {
    "papermill": {},
    "tags": []
   },
   "source": [
    "### Setup Variables\n- `naas_token`: [Naas token](https://docs.naas.io/getting-started/authentication)\n- `notion_token`: [Notion token](https://www.notion.so/product/Notion-cffd2f2fad6e4f9fae9c563d9f0e4e53)\n- `image_asset`: Image asset to be sent to Notion page"
   ]
  },
  {
   "cell_type": "code",
   "execution_count": null,
   "id": "07b90ab2-57c5-4728-92c9-04464166eba0",
   "metadata": {
    "papermill": {},
    "tags": []
   },
   "source": "naas_token = \"YOUR_NAAS_TOKEN\"\nnotion_token = \"YOUR_NOTION_TOKEN\"\nimage_asset = \"YOUR_IMAGE_ASSET\"",
   "outputs": []
  },
  {
   "cell_type": "markdown",
   "id": "da83cd41-3d2b-41db-8ae6-78e3e9b16032",
   "metadata": {
    "papermill": {},
    "tags": []
   },
   "source": [
    "## Model"
   ]
  },
  {
   "cell_type": "markdown",
   "id": "8bfa3e1c-b6c3-416b-96e5-67e534b6859e",
   "metadata": {
    "papermill": {},
    "tags": []
   },
   "source": [
    "### Send image asset to Notion page"
   ]
  },
  {
   "cell_type": "markdown",
   "id": "45d9437c-e817-4616-b58d-11a2da5980da",
   "metadata": {
    "papermill": {},
    "tags": []
   },
   "source": [
    "This function sends an image asset to a Notion page. The image asset will be updated (deleted and added) to make sure the graph display is always up to date in Notion."
   ]
  },
  {
   "cell_type": "code",
   "execution_count": null,
   "id": "78889c3a-4a2c-4d63-98b6-96326c52f66d",
   "metadata": {
    "papermill": {},
    "tags": []
   },
   "source": "# Initialize Naas client\nnaas_client = naas.Client(token=naas_token)\n# Initialize Notion client\nnotion_client = notion.NotionClient(token_v2=notion_token)\n# Send image asset to Notion page\nnaas_client.send_image_asset_to_notion_page(image_asset, notion_client)",
   "outputs": []
  },
  {
   "cell_type": "markdown",
   "id": "446df986-7c4d-489d-9614-cdc7df69a5c6",
   "metadata": {
    "papermill": {},
    "tags": []
   },
   "source": [
    "## Output"
   ]
  },
  {
   "cell_type": "markdown",
   "id": "be54622e-9176-4f25-a756-5ae891d2e1b3",
   "metadata": {
    "papermill": {},
    "tags": []
   },
   "source": [
    "### Display result"
   ]
  },
  {
   "cell_type": "markdown",
   "id": "4e27842c-ba70-4bec-96f4-9806f0c24e23",
   "metadata": {
    "papermill": {},
    "tags": []
   },
   "source": [
    "The image asset has been successfully sent to the Notion page."
   ]
  },
  {
   "cell_type": "markdown",
   "id": "801e94f3-6902-4ee5-9519-25f77dfb6774",
   "metadata": {
    "papermill": {},
    "tags": []
   },
   "source": [
    " "
   ]
  },
  {
   "cell_type": "markdown",
   "id": "6943d3b9-f12f-470b-946e-693a13eb261a",
   "metadata": {
    "papermill": {},
    "tags": []
   },
   "source": [
    " "
   ]
  }
 ],
 "metadata": {
  "kernelspec": {
   "display_name": "Python 3",
   "language": "python",
   "name": "python3"
  },
  "language_info": {
   "codemirror_mode": {
    "name": "ipython",
    "version": 3
   },
   "file_extension": ".py",
   "mimetype": "text/x-python",
   "name": "python",
   "nbconvert_exporter": "python",
   "pygments_lexer": "ipython3",
   "version": "3.9.6"
  },
  "widgets": {
   "application/vnd.jupyter.widget-state+json": {
    "state": {},
    "version_major": 2,
    "version_minor": 0
   }
  }
 },
 "nbformat": 4,
 "nbformat_minor": 5
}