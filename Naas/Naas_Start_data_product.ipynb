{
 "cells": [
  {
   "cell_type": "markdown",
   "id": "e8734c33-e56d-46a4-b87d-d4db01a5bc96",
   "metadata": {
    "papermill": {},
    "tags": []
   },
   "source": [
    "<img width=\"10%\" alt=\"Naas\" src=\"https://landen.imgix.net/jtci2pxwjczr/assets/5ice39g4.png?w=160\"/>"
   ]
  },
  {
   "cell_type": "markdown",
   "id": "6def3668-4547-4c6b-acf0-b47798bebeca",
   "metadata": {
    "papermill": {},
    "tags": []
   },
   "source": [
    "# Naas - Start data product"
   ]
  },
  {
   "cell_type": "markdown",
   "id": "c42c0066-935c-474a-a290-e8a5c73033b0",
   "metadata": {
    "papermill": {},
    "tags": []
   },
   "source": [
    "**Tags:** #naas #data #product #framework #start #python"
   ]
  },
  {
   "cell_type": "markdown",
   "id": "815a2828-68fe-4c83-b8be-2ea89a7320c8",
   "metadata": {
    "papermill": {},
    "tags": []
   },
   "source": [
    "**Author:** [Florent Ravenel](http://linkedin.com/in/florent-ravenel)"
   ]
  },
  {
   "cell_type": "markdown",
   "id": "1462c441-ca8b-45d3-ace3-c30d85361b7b",
   "metadata": {
    "papermill": {},
    "tags": []
   },
   "source": [
    "**Description:** This notebook will show how to start a data product using the Naas data product framework."
   ]
  },
  {
   "cell_type": "markdown",
   "id": "36008a83-58c0-4da8-b87d-2ad52de9ae41",
   "metadata": {
    "papermill": {},
    "tags": []
   },
   "source": [
    "**References:**\n- [Naas Documentation](https://naas.readthedocs.io/en/latest/)\n- [Naas Github](https://github.com/naas-io/naas)"
   ]
  },
  {
   "cell_type": "markdown",
   "id": "60444402-8f19-4ab2-8a8f-8ca8f64a5df7",
   "metadata": {
    "papermill": {},
    "tags": []
   },
   "source": [
    "## Input"
   ]
  },
  {
   "cell_type": "markdown",
   "id": "7b2e0843-fecd-4921-928d-d84c5aa36765",
   "metadata": {
    "papermill": {},
    "tags": []
   },
   "source": [
    "### Import libraries"
   ]
  },
  {
   "cell_type": "code",
   "execution_count": null,
   "id": "a6ad1789-79b5-4519-a6ca-1f52eedbd878",
   "metadata": {
    "papermill": {},
    "tags": []
   },
   "source": "import naas",
   "outputs": []
  },
  {
   "cell_type": "markdown",
   "id": "a3cc39dc-b25d-4ece-a16e-b86b7b762246",
   "metadata": {
    "papermill": {},
    "tags": []
   },
   "source": [
    "### Setup Variables\n- `naas_url`: URL of the Naas instance\n- `naas_token`: Token to access the Naas instance"
   ]
  },
  {
   "cell_type": "markdown",
   "id": "17fe440e-a49f-485e-a125-05d8f5a7d6d1",
   "metadata": {
    "papermill": {},
    "tags": []
   },
   "source": [
    "For more information on how to get the token, please refer to the [Naas Documentation](https://naas.readthedocs.io/en/latest/)."
   ]
  },
  {
   "cell_type": "code",
   "execution_count": null,
   "id": "6ab1af68-6e2d-4b10-857e-75aec90e7e62",
   "metadata": {
    "papermill": {},
    "tags": []
   },
   "source": "naas_url = \"https://naas.example.com\"\nnaas_token = \"my_token\"",
   "outputs": []
  },
  {
   "cell_type": "markdown",
   "id": "4a0211c1-7595-490c-97ac-d7481ebe507f",
   "metadata": {
    "papermill": {},
    "tags": []
   },
   "source": [
    "## Model"
   ]
  },
  {
   "cell_type": "markdown",
   "id": "43ac40dd-641f-4705-b7b9-04969c4967cd",
   "metadata": {
    "papermill": {},
    "tags": []
   },
   "source": [
    "### Initialize Naas"
   ]
  },
  {
   "cell_type": "markdown",
   "id": "725438d2-26df-4fc6-986f-b83082e1db1e",
   "metadata": {
    "papermill": {},
    "tags": []
   },
   "source": [
    "Long description of the function: Initialize the Naas instance with the URL and token provided."
   ]
  },
  {
   "cell_type": "code",
   "execution_count": null,
   "id": "b452d179-234d-40a2-8b9d-cb75d89a845b",
   "metadata": {
    "papermill": {},
    "tags": []
   },
   "source": "naas_instance = naas.Naas(naas_url, naas_token)",
   "outputs": []
  },
  {
   "cell_type": "markdown",
   "id": "15cae426-bfd0-4712-a87a-ad2dbccbf253",
   "metadata": {
    "papermill": {},
    "tags": []
   },
   "source": [
    "## Output"
   ]
  },
  {
   "cell_type": "markdown",
   "id": "dcd7cbbe-ca3f-4115-aece-33d9ba0abb46",
   "metadata": {
    "papermill": {},
    "tags": []
   },
   "source": [
    "### Display result"
   ]
  },
  {
   "cell_type": "code",
   "execution_count": null,
   "id": "17c14fd4-4aa3-458e-ae40-9e5244741693",
   "metadata": {
    "papermill": {},
    "tags": []
   },
   "source": "naas_instance.get_status()",
   "outputs": []
  },
  {
   "cell_type": "markdown",
   "id": "d45d50e9-b4e6-49ff-8f4c-186b266a3321",
   "metadata": {
    "papermill": {},
    "tags": []
   },
   "source": [
    " "
   ]
  }
 ],
 "metadata": {
  "kernelspec": {
   "display_name": "Python 3",
   "language": "python",
   "name": "python3"
  },
  "language_info": {
   "codemirror_mode": {
    "name": "ipython",
    "version": 3
   },
   "file_extension": ".py",
   "mimetype": "text/x-python",
   "name": "python",
   "nbconvert_exporter": "python",
   "pygments_lexer": "ipython3",
   "version": "3.9.6"
  },
  "widgets": {
   "application/vnd.jupyter.widget-state+json": {
    "state": {},
    "version_major": 2,
    "version_minor": 0
   }
  }
 },
 "nbformat": 4,
 "nbformat_minor": 5
}