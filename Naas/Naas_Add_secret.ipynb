{
 "cells": [
  {
   "cell_type": "markdown",
   "id": "abbf16c3-5fd9-4d2f-9997-ce0ef386ffd7",
   "metadata": {
    "papermill": {},
    "tags": []
   },
   "source": [
    "<img width=\"10%\" alt=\"Naas\" src=\"https://landen.imgix.net/jtci2pxwjczr/assets/5ice39g4.png?w=160\"/>"
   ]
  },
  {
   "cell_type": "markdown",
   "id": "98a7138e-26ef-4cb3-a0b0-8d152f66d7e3",
   "metadata": {
    "papermill": {},
    "tags": []
   },
   "source": [
    "# Naas - Add secret"
   ]
  },
  {
   "cell_type": "markdown",
   "id": "b5675fb2-ddc4-44ca-94d4-30aae0e8d343",
   "metadata": {
    "papermill": {},
    "tags": []
   },
   "source": [
    "**Tags:** #naas #secret #add #api #python #sdk"
   ]
  },
  {
   "cell_type": "markdown",
   "id": "3123006b-cf35-4067-8a2a-c66ea794a2bc",
   "metadata": {
    "papermill": {},
    "tags": []
   },
   "source": [
    "**Author:** [Florent Ravenel](https://www.linkedin.com/in/florent-ravenel)"
   ]
  },
  {
   "cell_type": "markdown",
   "id": "0b39429c-9853-4ea4-8a23-a48ac896e31f",
   "metadata": {
    "papermill": {},
    "tags": []
   },
   "source": [
    "**Description:** This notebook will show how to add a secret to Naas using the Python SDK. It is usefull for organizations that need to store and manage secrets in a secure way."
   ]
  },
  {
   "cell_type": "markdown",
   "id": "a2b9da31-da6b-416b-b1d0-24911a5f8b29",
   "metadata": {
    "papermill": {},
    "tags": []
   },
   "source": [
    "**References:**\n- [Naas Documentation](https://naas.dev/docs)\n- [Naas Python SDK](https://naas.dev/docs/sdks/python)"
   ]
  },
  {
   "cell_type": "markdown",
   "id": "d3c73ec8-898d-4d9e-83db-15550a80af71",
   "metadata": {
    "papermill": {},
    "tags": []
   },
   "source": [
    "## Input"
   ]
  },
  {
   "cell_type": "markdown",
   "id": "3f337dd3-9e1b-44f8-a268-6951d37c7e7a",
   "metadata": {
    "papermill": {},
    "tags": []
   },
   "source": [
    "### Import libraries"
   ]
  },
  {
   "cell_type": "code",
   "execution_count": null,
   "id": "90760955-5133-4c1a-a43b-e3dee1a02f44",
   "metadata": {
    "papermill": {},
    "tags": []
   },
   "source": "import naas",
   "outputs": []
  },
  {
   "cell_type": "markdown",
   "id": "a69b4abe-e06d-4d14-a6e7-f2631ecdcff3",
   "metadata": {
    "papermill": {},
    "tags": []
   },
   "source": [
    "### Setup Variables\n- `naas_project_id`: Naas project id\n- `naas_secret_name`: Name of the secret to add\n- `naas_secret_value`: Value of the secret to add"
   ]
  },
  {
   "cell_type": "markdown",
   "id": "19be9144-9ded-4c30-8d7d-219dfa9ff5a9",
   "metadata": {
    "papermill": {},
    "tags": []
   },
   "source": [
    "Please refer to the [Naas Documentation](https://naas.dev/docs/getting-started/authentication) to get your project id and token."
   ]
  },
  {
   "cell_type": "code",
   "execution_count": null,
   "id": "ddca8d9b-a981-4b11-82be-80ccd7d9b2b6",
   "metadata": {
    "papermill": {},
    "tags": []
   },
   "source": "naas_project_id = \"YOUR_PROJECT_ID\"\nnaas_secret_name = \"YOUR_SECRET_NAME\"\nnaas_secret_value = \"YOUR_SECRET_VALUE\"",
   "outputs": []
  },
  {
   "cell_type": "markdown",
   "id": "844aaf24-d342-41e0-8d10-f5a751d6c8ae",
   "metadata": {
    "papermill": {},
    "tags": []
   },
   "source": [
    "## Model"
   ]
  },
  {
   "cell_type": "markdown",
   "id": "e7dc8faa-fc16-4d58-8181-43a26650674f",
   "metadata": {
    "papermill": {},
    "tags": []
   },
   "source": [
    "### Add secret"
   ]
  },
  {
   "cell_type": "markdown",
   "id": "5d316224-822a-4826-a372-f10ee4545c00",
   "metadata": {
    "papermill": {},
    "tags": []
   },
   "source": [
    "This function will add a secret to the Naas project."
   ]
  },
  {
   "cell_type": "code",
   "execution_count": null,
   "id": "f30c11f1-d027-4a13-86e3-49f408e46e6b",
   "metadata": {
    "papermill": {},
    "tags": []
   },
   "source": "naas.Project(naas_project_id).secrets().create(\n    name=naas_secret_name, value=naas_secret_value\n)",
   "outputs": []
  },
  {
   "cell_type": "markdown",
   "id": "2513ab2f-6ad6-467e-90d8-09812c132015",
   "metadata": {
    "papermill": {},
    "tags": []
   },
   "source": [
    "## Output"
   ]
  },
  {
   "cell_type": "markdown",
   "id": "5280ebb8-ce27-41ff-a73a-21e0701ec548",
   "metadata": {
    "papermill": {},
    "tags": []
   },
   "source": [
    "### Display result"
   ]
  },
  {
   "cell_type": "markdown",
   "id": "64ce5cc1-239b-4b39-af7f-4f7bbbc68c08",
   "metadata": {
    "papermill": {},
    "tags": []
   },
   "source": [
    "This will display the secret added."
   ]
  },
  {
   "cell_type": "code",
   "execution_count": null,
   "id": "40de06c9-967a-4ac9-886e-a1c943e42308",
   "metadata": {
    "papermill": {},
    "tags": []
   },
   "source": "naas.Project(naas_project_id).secrets().retrieve(naas_secret_name)",
   "outputs": []
  },
  {
   "cell_type": "markdown",
   "id": "466f8c5f-18cb-419f-bf40-fdcb9f48796c",
   "metadata": {
    "papermill": {},
    "tags": []
   },
   "source": [
    " "
   ]
  }
 ],
 "metadata": {
  "kernelspec": {
   "display_name": "Python 3",
   "language": "python",
   "name": "python3"
  },
  "language_info": {
   "codemirror_mode": {
    "name": "ipython",
    "version": 3
   },
   "file_extension": ".py",
   "mimetype": "text/x-python",
   "name": "python",
   "nbconvert_exporter": "python",
   "pygments_lexer": "ipython3",
   "version": "3.9.6"
  },
  "widgets": {
   "application/vnd.jupyter.widget-state+json": {
    "state": {},
    "version_major": 2,
    "version_minor": 0
   }
  }
 },
 "nbformat": 4,
 "nbformat_minor": 5
}