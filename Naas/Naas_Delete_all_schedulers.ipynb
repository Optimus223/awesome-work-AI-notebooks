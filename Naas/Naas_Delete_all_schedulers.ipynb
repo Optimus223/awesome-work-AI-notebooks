{
 "cells": [
  {
   "cell_type": "markdown",
   "id": "9adc822f-0de4-4c31-9c49-e5d357ef99dc",
   "metadata": {
    "papermill": {},
    "tags": []
   },
   "source": [
    "<img width=\"10%\" alt=\"Naas\" src=\"https://landen.imgix.net/jtci2pxwjczr/assets/5ice39g4.png?w=160\"/>"
   ]
  },
  {
   "cell_type": "markdown",
   "id": "fcaeae35-a4ae-41fb-8da4-664ac3124302",
   "metadata": {
    "papermill": {},
    "tags": []
   },
   "source": [
    "# Naas - Delete all schedulers"
   ]
  },
  {
   "cell_type": "markdown",
   "id": "509485fb-7323-4958-85bf-64721163d3d7",
   "metadata": {
    "papermill": {},
    "tags": []
   },
   "source": [
    "**Tags:** #naas #scheduler #delete #python #api #automation"
   ]
  },
  {
   "cell_type": "markdown",
   "id": "f406354c-8367-4c1b-92f0-40555b964c1a",
   "metadata": {
    "papermill": {},
    "tags": []
   },
   "source": [
    "**Author:** [Florent Ravenel](https://www.linkedin.com/in/florent-ravenel)"
   ]
  },
  {
   "cell_type": "markdown",
   "id": "288e0e75-de04-428b-88a2-748f36b4c44e",
   "metadata": {
    "papermill": {},
    "tags": []
   },
   "source": [
    "**Last update:** 2023-08-16 (Created: 2023-08-16)"
   ]
  },
  {
   "cell_type": "markdown",
   "id": "c8dd2509-cf86-4142-9173-6d22354ade30",
   "metadata": {
    "papermill": {},
    "tags": []
   },
   "source": [
    "**Description:** This notebook deletes all schedulers in Naas. It is usefull for organizations that need to automate the deletion of schedulers."
   ]
  },
  {
   "cell_type": "markdown",
   "id": "d048fa17-9d72-4953-85e0-317bc1d6e813",
   "metadata": {
    "papermill": {},
    "tags": []
   },
   "source": [
    "**References:**\n- [Naas Documentation](https://naas.com/docs)\n- [Naas API Reference](https://naas.com/api)"
   ]
  },
  {
   "cell_type": "markdown",
   "id": "8880d1df-361d-4ecd-a535-54345f230e99",
   "metadata": {
    "papermill": {},
    "tags": []
   },
   "source": [
    "## Input"
   ]
  },
  {
   "cell_type": "markdown",
   "id": "129e1121-27b2-4777-9c5a-b01b29e4710c",
   "metadata": {
    "papermill": {},
    "tags": []
   },
   "source": [
    "### Import libraries"
   ]
  },
  {
   "cell_type": "code",
   "execution_count": null,
   "id": "082a8950-8c7e-42c0-9512-a4eb52253106",
   "metadata": {
    "papermill": {},
    "tags": []
   },
   "source": "import requests\nimport json",
   "outputs": []
  },
  {
   "cell_type": "markdown",
   "id": "fe0c80ad-c652-4d8e-bd7b-ebfaa8dff007",
   "metadata": {
    "papermill": {},
    "tags": []
   },
   "source": [
    "### Setup variables\n- **naas_token**: Token to access Naas API. [Procedure to get token](https://naas.com/docs/authentication)"
   ]
  },
  {
   "cell_type": "code",
   "execution_count": null,
   "id": "fd1a5982-d7ee-41f9-9545-a72a29574052",
   "metadata": {
    "papermill": {},
    "tags": []
   },
   "source": "naas_token = \"YOUR_NAAS_TOKEN\"",
   "outputs": []
  },
  {
   "cell_type": "markdown",
   "id": "edf74c54-11ea-4f44-a3fb-4cbd8947cec6",
   "metadata": {
    "papermill": {},
    "tags": []
   },
   "source": [
    "## Model"
   ]
  },
  {
   "cell_type": "markdown",
   "id": "bcd6d947-a016-4fde-97bd-90adda3b97e7",
   "metadata": {
    "papermill": {},
    "tags": []
   },
   "source": [
    "### Delete all schedulers"
   ]
  },
  {
   "cell_type": "markdown",
   "id": "d2161396-4958-45d2-9f5b-6b5d7b1c7fa4",
   "metadata": {
    "papermill": {},
    "tags": []
   },
   "source": [
    "This function deletes all schedulers in Naas."
   ]
  },
  {
   "cell_type": "code",
   "execution_count": null,
   "id": "04fa2440-48d6-49d9-bb89-300bd9277394",
   "metadata": {
    "papermill": {},
    "tags": []
   },
   "source": "# Get all schedulers\nurl = \"https://naas.com/api/v1/schedulers\"\nheaders = {\"Authorization\": \"Bearer \" + naas_token}\nresponse = requests.get(url, headers=headers)\nschedulers = json.loads(response.text)\n# Delete all schedulers\nfor scheduler in schedulers:\n    url = \"https://naas.com/api/v1/schedulers/\" + scheduler[\"id\"]\n    response = requests.delete(url, headers=headers)",
   "outputs": []
  },
  {
   "cell_type": "markdown",
   "id": "0583410b-9860-4051-9f21-f7a000799701",
   "metadata": {
    "papermill": {},
    "tags": []
   },
   "source": [
    "## Output"
   ]
  },
  {
   "cell_type": "markdown",
   "id": "c1ee0a05-b448-4d51-af27-a6e2097698f3",
   "metadata": {
    "papermill": {},
    "tags": []
   },
   "source": [
    "### Display result"
   ]
  },
  {
   "cell_type": "markdown",
   "id": "b75a6c59-8598-4a89-b4e1-745fc2b464d4",
   "metadata": {
    "papermill": {},
    "tags": []
   },
   "source": [
    "This function does not return any output."
   ]
  }
 ],
 "metadata": {
  "kernelspec": {
   "display_name": "Python 3",
   "language": "python",
   "name": "python3"
  },
  "language_info": {
   "codemirror_mode": {
    "name": "ipython",
    "version": 3
   },
   "file_extension": ".py",
   "mimetype": "text/x-python",
   "name": "python",
   "nbconvert_exporter": "python",
   "pygments_lexer": "ipython3",
   "version": "3.9.6"
  },
  "widgets": {
   "application/vnd.jupyter.widget-state+json": {
    "state": {},
    "version_major": 2,
    "version_minor": 0
   }
  }
 },
 "nbformat": 4,
 "nbformat_minor": 5
}