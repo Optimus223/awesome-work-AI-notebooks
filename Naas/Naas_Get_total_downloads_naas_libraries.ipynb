{
 "cells": [
  {
   "cell_type": "markdown",
   "id": "72a216be-10dc-4c1d-a3fa-a9ce992d1c27",
   "metadata": {},
   "source": [
    "<img width=\"10%\" alt=\"Naas\" src=\"https://landen.imgix.net/jtci2pxwjczr/assets/5ice39g4.png?w=160\"/>"
   ]
  },
  {
   "cell_type": "markdown",
   "id": "25f38b3f-5cb5-4700-ba73-fb24646dd3ca",
   "metadata": {},
   "source": [
    "# Naas - Get total number of downloads for naas libraries"
   ]
  },
  {
   "cell_type": "markdown",
   "id": "4da75a0d-6fba-4115-8667-429956d5ffa0",
   "metadata": {},
   "source": [
    "**Tags:** #pypi #downloads #naas"
   ]
  },
  {
   "cell_type": "markdown",
   "id": "ab9c2b57-cd13-4086-8a8c-676006cdaebf",
   "metadata": {},
   "source": [
    "**Author:** [Sanjeet Attili](https://linkedin.com/in/sanjeet-attili-760bab190/)"
   ]
  },
  {
   "cell_type": "markdown",
   "id": "41c21843-7073-4538-9a8f-539ee90d86bb",
   "metadata": {},
   "source": [
    "This notebook enables you to get a plot of number of downloads of naas package since past 180 days"
   ]
  },
  {
   "cell_type": "markdown",
   "id": "922c974a-a4f5-41b1-af0e-83db3798dee4",
   "metadata": {},
   "source": [
    "## Input"
   ]
  },
  {
   "cell_type": "markdown",
   "id": "065a0ee8-ea4c-46e7-ac80-f9bf6b4436f1",
   "metadata": {},
   "source": [
    "### Imports"
   ]
  },
  {
   "cell_type": "code",
   "execution_count": 1,
   "id": "d76539d8-bbf9-4602-8297-3edd4dee7cba",
   "metadata": {
    "execution": {
     "iopub.execute_input": "2022-03-27T09:27:39.643905Z",
     "iopub.status.busy": "2022-03-27T09:27:39.643632Z",
     "iopub.status.idle": "2022-03-27T09:28:00.914490Z",
     "shell.execute_reply": "2022-03-27T09:28:00.913790Z",
     "shell.execute_reply.started": "2022-03-27T09:27:39.643836Z"
    },
    "tags": []
   },
   "outputs": [
    {
     "name": "stdout",
     "output_type": "stream",
     "text": [
      "Collecting pypistats\n",
      "  Downloading pypistats-1.0.0-py3-none-any.whl (12 kB)\n",
      "Collecting prettytable>=2.4.0\n",
      "  Downloading prettytable-3.2.0-py3-none-any.whl (26 kB)\n",
      "Requirement already satisfied: python-dateutil in /opt/conda/lib/python3.9/site-packages (from pypistats) (2.8.2)\n",
      "Requirement already satisfied: platformdirs in /opt/conda/lib/python3.9/site-packages (from pypistats) (2.5.1)\n",
      "Collecting httpx>=0.19\n",
      "  Downloading httpx-0.22.0-py3-none-any.whl (84 kB)\n",
      "\u001b[2K     \u001b[90m━━━━━━━━━━━━━━━━━━━━━━━━━━━━━━━━━━━━━━━━\u001b[0m \u001b[32m84.2/84.2 KB\u001b[0m \u001b[31m1.0 MB/s\u001b[0m eta \u001b[36m0:00:00\u001b[0mta \u001b[36m0:00:01\u001b[0m\n",
      "\u001b[?25hCollecting pytablewriter[html]>=0.63\n",
      "  Downloading pytablewriter-0.64.2-py3-none-any.whl (106 kB)\n",
      "\u001b[2K     \u001b[90m━━━━━━━━━━━━━━━━━━━━━━━━━━━━━━━━━━━━━━━\u001b[0m \u001b[32m106.6/106.6 KB\u001b[0m \u001b[31m2.0 MB/s\u001b[0m eta \u001b[36m0:00:00\u001b[0ma \u001b[36m0:00:01\u001b[0m\n",
      "\u001b[?25hRequirement already satisfied: termcolor in /opt/conda/lib/python3.9/site-packages (from pypistats) (1.1.0)\n",
      "Requirement already satisfied: python-slugify in /opt/conda/lib/python3.9/site-packages (from pypistats) (6.1.1)\n",
      "Collecting httpcore<0.15.0,>=0.14.5\n",
      "  Downloading httpcore-0.14.7-py3-none-any.whl (68 kB)\n",
      "\u001b[2K     \u001b[90m━━━━━━━━━━━━━━━━━━━━━━━━━━━━━━━━━━━━━━━━\u001b[0m \u001b[32m68.3/68.3 KB\u001b[0m \u001b[31m1.1 MB/s\u001b[0m eta \u001b[36m0:00:00\u001b[0mta \u001b[36m0:00:01\u001b[0m\n",
      "\u001b[?25hRequirement already satisfied: rfc3986[idna2008]<2,>=1.3 in /opt/conda/lib/python3.9/site-packages (from httpx>=0.19->pypistats) (1.5.0)\n",
      "Requirement already satisfied: certifi in /opt/conda/lib/python3.9/site-packages (from httpx>=0.19->pypistats) (2021.5.30)\n",
      "Requirement already satisfied: charset-normalizer in /opt/conda/lib/python3.9/site-packages (from httpx>=0.19->pypistats) (2.0.0)\n",
      "Requirement already satisfied: sniffio in /opt/conda/lib/python3.9/site-packages (from httpx>=0.19->pypistats) (1.2.0)\n",
      "Requirement already satisfied: wcwidth in /opt/conda/lib/python3.9/site-packages (from prettytable>=2.4.0->pypistats) (0.2.5)\n",
      "Collecting pathvalidate<3,>=2.3.0\n",
      "  Downloading pathvalidate-2.5.0-py3-none-any.whl (19 kB)\n",
      "Requirement already satisfied: setuptools>=38.3.0 in /opt/conda/lib/python3.9/site-packages (from pytablewriter[html]>=0.63->pypistats) (49.6.0.post20210108)\n",
      "Collecting typepy[datetime]<2,>=1.2.0\n",
      "  Downloading typepy-1.3.0-py3-none-any.whl (31 kB)\n",
      "Collecting tabledata<2,>=1.3.0\n",
      "  Downloading tabledata-1.3.0-py3-none-any.whl (11 kB)\n",
      "Collecting tcolorpy<1,>=0.0.5\n",
      "  Downloading tcolorpy-0.1.2-py3-none-any.whl (7.9 kB)\n",
      "Collecting DataProperty<2,>=0.55.0\n",
      "  Downloading DataProperty-0.55.0-py3-none-any.whl (26 kB)\n",
      "Collecting mbstrdecoder<2,>=1.0.0\n",
      "  Downloading mbstrdecoder-1.1.0-py3-none-any.whl (7.8 kB)\n",
      "Collecting dominate<3,>=2.1.5\n",
      "  Downloading dominate-2.6.0-py2.py3-none-any.whl (29 kB)\n",
      "Requirement already satisfied: six>=1.5 in /opt/conda/lib/python3.9/site-packages (from python-dateutil->pypistats) (1.16.0)\n",
      "Requirement already satisfied: text-unidecode>=1.3 in /opt/conda/lib/python3.9/site-packages (from python-slugify->pypistats) (1.3)\n",
      "Requirement already satisfied: anyio==3.* in /opt/conda/lib/python3.9/site-packages (from httpcore<0.15.0,>=0.14.5->httpx>=0.19->pypistats) (3.3.0)\n",
      "Collecting h11<0.13,>=0.11\n",
      "  Downloading h11-0.12.0-py3-none-any.whl (54 kB)\n",
      "\u001b[2K     \u001b[90m━━━━━━━━━━━━━━━━━━━━━━━━━━━━━━━━━━━━━━━\u001b[0m \u001b[32m54.9/54.9 KB\u001b[0m \u001b[31m799.5 kB/s\u001b[0m eta \u001b[36m0:00:00\u001b[0ma \u001b[36m0:00:01\u001b[0m\n",
      "\u001b[?25hRequirement already satisfied: idna>=2.8 in /opt/conda/lib/python3.9/site-packages (from anyio==3.*->httpcore<0.15.0,>=0.14.5->httpx>=0.19->pypistats) (2.10)\n",
      "Requirement already satisfied: chardet<5,>=3.0.4 in /opt/conda/lib/python3.9/site-packages (from mbstrdecoder<2,>=1.0.0->pytablewriter[html]>=0.63->pypistats) (4.0.0)\n",
      "Requirement already satisfied: pytz>=2018.9 in /opt/conda/lib/python3.9/site-packages (from typepy[datetime]<2,>=1.2.0->pytablewriter[html]>=0.63->pypistats) (2021.1)\n",
      "Requirement already satisfied: packaging in /opt/conda/lib/python3.9/site-packages (from typepy[datetime]<2,>=1.2.0->pytablewriter[html]>=0.63->pypistats) (21.0)\n",
      "Requirement already satisfied: pyparsing>=2.0.2 in /opt/conda/lib/python3.9/site-packages (from packaging->typepy[datetime]<2,>=1.2.0->pytablewriter[html]>=0.63->pypistats) (2.4.7)\n",
      "Installing collected packages: tcolorpy, prettytable, pathvalidate, mbstrdecoder, h11, dominate, typepy, httpcore, httpx, DataProperty, tabledata, pytablewriter, pypistats\n",
      "\u001b[31mERROR: pip's dependency resolver does not currently take into account all the packages that are installed. This behaviour is the source of the following dependency conflicts.\n",
      "sanic 20.12.2 requires httpx==0.15.4, but you have httpx 0.22.0 which is incompatible.\n",
      "sanic 20.12.2 requires multidict<6.0,>=5.0, but you have multidict 6.0.2 which is incompatible.\n",
      "naas-drivers 0.89.2 requires idna==2.9, but you have idna 2.10 which is incompatible.\n",
      "naas-drivers 0.89.2 requires numpy==1.19.5, but you have numpy 1.22.2 which is incompatible.\n",
      "naas-drivers 0.89.2 requires python-dateutil==2.8.1, but you have python-dateutil 2.8.2 which is incompatible.\n",
      "naas-drivers 0.89.2 requires six==1.15.0, but you have six 1.16.0 which is incompatible.\n",
      "naas-drivers 0.89.2 requires urllib3==1.26.4, but you have urllib3 1.26.6 which is incompatible.\u001b[0m\u001b[31m\n",
      "\u001b[0mSuccessfully installed DataProperty-0.55.0 dominate-2.6.0 h11-0.12.0 httpcore-0.14.7 httpx-0.22.0 mbstrdecoder-1.1.0 pathvalidate-2.5.0 prettytable-3.2.0 pypistats-1.0.0 pytablewriter-0.64.2 tabledata-1.3.0 tcolorpy-0.1.2 typepy-1.3.0\n"
     ]
    }
   ],
   "source": [
    "!pip install -U pypistats --user"
   ]
  },
  {
   "cell_type": "code",
   "execution_count": 2,
   "id": "8f0c7636-bd4f-4a4c-8421-958d8f5dd1e1",
   "metadata": {
    "execution": {
     "iopub.execute_input": "2022-03-27T09:28:00.916024Z",
     "iopub.status.busy": "2022-03-27T09:28:00.915793Z",
     "iopub.status.idle": "2022-03-27T09:28:04.403674Z",
     "shell.execute_reply": "2022-03-27T09:28:04.402976Z",
     "shell.execute_reply.started": "2022-03-27T09:28:00.915992Z"
    },
    "tags": []
   },
   "outputs": [
    {
     "name": "stdout",
     "output_type": "stream",
     "text": [
      "Requirement already satisfied: pypistats in ./.local/lib/python3.9/site-packages (1.0.0)\n",
      "Requirement already satisfied: prettytable>=2.4.0 in ./.local/lib/python3.9/site-packages (from pypistats) (3.2.0)\n",
      "Requirement already satisfied: python-slugify in /opt/conda/lib/python3.9/site-packages (from pypistats) (6.1.1)\n",
      "Requirement already satisfied: pytablewriter[html]>=0.63 in ./.local/lib/python3.9/site-packages (from pypistats) (0.64.2)\n",
      "Requirement already satisfied: platformdirs in /opt/conda/lib/python3.9/site-packages (from pypistats) (2.5.1)\n",
      "Requirement already satisfied: python-dateutil in /opt/conda/lib/python3.9/site-packages (from pypistats) (2.8.2)\n",
      "Requirement already satisfied: httpx>=0.19 in ./.local/lib/python3.9/site-packages (from pypistats) (0.22.0)\n",
      "Requirement already satisfied: termcolor in /opt/conda/lib/python3.9/site-packages (from pypistats) (1.1.0)\n",
      "Requirement already satisfied: sniffio in /opt/conda/lib/python3.9/site-packages (from httpx>=0.19->pypistats) (1.2.0)\n",
      "Requirement already satisfied: certifi in /opt/conda/lib/python3.9/site-packages (from httpx>=0.19->pypistats) (2021.5.30)\n",
      "Requirement already satisfied: httpcore<0.15.0,>=0.14.5 in ./.local/lib/python3.9/site-packages (from httpx>=0.19->pypistats) (0.14.7)\n",
      "Requirement already satisfied: charset-normalizer in /opt/conda/lib/python3.9/site-packages (from httpx>=0.19->pypistats) (2.0.0)\n",
      "Requirement already satisfied: rfc3986[idna2008]<2,>=1.3 in /opt/conda/lib/python3.9/site-packages (from httpx>=0.19->pypistats) (1.5.0)\n",
      "Requirement already satisfied: wcwidth in /opt/conda/lib/python3.9/site-packages (from prettytable>=2.4.0->pypistats) (0.2.5)\n",
      "Requirement already satisfied: typepy[datetime]<2,>=1.2.0 in ./.local/lib/python3.9/site-packages (from pytablewriter[html]>=0.63->pypistats) (1.3.0)\n",
      "Requirement already satisfied: tabledata<2,>=1.3.0 in ./.local/lib/python3.9/site-packages (from pytablewriter[html]>=0.63->pypistats) (1.3.0)\n",
      "Requirement already satisfied: mbstrdecoder<2,>=1.0.0 in ./.local/lib/python3.9/site-packages (from pytablewriter[html]>=0.63->pypistats) (1.1.0)\n",
      "Requirement already satisfied: tcolorpy<1,>=0.0.5 in ./.local/lib/python3.9/site-packages (from pytablewriter[html]>=0.63->pypistats) (0.1.2)\n",
      "Requirement already satisfied: setuptools>=38.3.0 in /opt/conda/lib/python3.9/site-packages (from pytablewriter[html]>=0.63->pypistats) (49.6.0.post20210108)\n",
      "Requirement already satisfied: pathvalidate<3,>=2.3.0 in ./.local/lib/python3.9/site-packages (from pytablewriter[html]>=0.63->pypistats) (2.5.0)\n",
      "Requirement already satisfied: DataProperty<2,>=0.55.0 in ./.local/lib/python3.9/site-packages (from pytablewriter[html]>=0.63->pypistats) (0.55.0)\n",
      "Requirement already satisfied: dominate<3,>=2.1.5 in ./.local/lib/python3.9/site-packages (from pytablewriter[html]>=0.63->pypistats) (2.6.0)\n",
      "Requirement already satisfied: six>=1.5 in /opt/conda/lib/python3.9/site-packages (from python-dateutil->pypistats) (1.16.0)\n",
      "Requirement already satisfied: text-unidecode>=1.3 in /opt/conda/lib/python3.9/site-packages (from python-slugify->pypistats) (1.3)\n",
      "Requirement already satisfied: h11<0.13,>=0.11 in ./.local/lib/python3.9/site-packages (from httpcore<0.15.0,>=0.14.5->httpx>=0.19->pypistats) (0.12.0)\n",
      "Requirement already satisfied: anyio==3.* in /opt/conda/lib/python3.9/site-packages (from httpcore<0.15.0,>=0.14.5->httpx>=0.19->pypistats) (3.3.0)\n",
      "Requirement already satisfied: idna>=2.8 in /opt/conda/lib/python3.9/site-packages (from anyio==3.*->httpcore<0.15.0,>=0.14.5->httpx>=0.19->pypistats) (2.10)\n",
      "Requirement already satisfied: chardet<5,>=3.0.4 in /opt/conda/lib/python3.9/site-packages (from mbstrdecoder<2,>=1.0.0->pytablewriter[html]>=0.63->pypistats) (4.0.0)\n",
      "Requirement already satisfied: pytz>=2018.9 in /opt/conda/lib/python3.9/site-packages (from typepy[datetime]<2,>=1.2.0->pytablewriter[html]>=0.63->pypistats) (2021.1)\n",
      "Requirement already satisfied: packaging in /opt/conda/lib/python3.9/site-packages (from typepy[datetime]<2,>=1.2.0->pytablewriter[html]>=0.63->pypistats) (21.0)\n",
      "Requirement already satisfied: pyparsing>=2.0.2 in /opt/conda/lib/python3.9/site-packages (from packaging->typepy[datetime]<2,>=1.2.0->pytablewriter[html]>=0.63->pypistats) (2.4.7)\n"
     ]
    }
   ],
   "source": [
    "!pip install --upgrade pypistats"
   ]
  },
  {
   "cell_type": "code",
   "execution_count": 3,
   "id": "6b1b919a-fe68-41c6-8401-1c0395149f33",
   "metadata": {
    "execution": {
     "iopub.execute_input": "2022-03-27T18:30:33.424659Z",
     "iopub.status.busy": "2022-03-27T18:30:33.424435Z",
     "iopub.status.idle": "2022-03-27T18:30:33.822645Z",
     "shell.execute_reply": "2022-03-27T18:30:33.822066Z",
     "shell.execute_reply.started": "2022-03-27T18:30:33.424636Z"
    },
    "tags": []
   },
   "outputs": [],
   "source": [
    "import pypistats\n",
    "from pprint import pprint\n",
    "from datetime import datetime\n",
    "import plotly.graph_objects as go\n",
    "import pandas as pd"
   ]
  },
  {
   "cell_type": "markdown",
   "id": "4c3161ff-a300-4b0a-a7ab-d63cd762fead",
   "metadata": {},
   "source": [
    "### Variables"
   ]
  },
  {
   "cell_type": "code",
   "execution_count": 2,
   "id": "2c16f635-fbb6-4921-9777-4a4013dcfa37",
   "metadata": {
    "execution": {
     "iopub.execute_input": "2022-03-27T18:28:27.313945Z",
     "iopub.status.busy": "2022-03-27T18:28:27.313724Z",
     "iopub.status.idle": "2022-03-27T18:28:27.316767Z",
     "shell.execute_reply": "2022-03-27T18:28:27.316141Z",
     "shell.execute_reply.started": "2022-03-27T18:28:27.313922Z"
    },
    "tags": []
   },
   "outputs": [],
   "source": [
    "packages = [\"naas\", \"naas-drivers\"]"
   ]
  },
  {
   "cell_type": "markdown",
   "id": "36f9d891-dd69-49e0-9288-ba6cf1566198",
   "metadata": {},
   "source": [
    "## Model"
   ]
  },
  {
   "cell_type": "markdown",
   "id": "2f380f3f-7731-4b63-bad8-a042d0ca9709",
   "metadata": {},
   "source": [
    "**Difference between with_mirrors and without_mirrors**\n",
    "\n",
    "The with_mirrors and without_mirrors are not mutually exclusive sets of download counts like the other segmentations provided.\n",
    "In fact, the without_mirrors downloads are a subset of the downloads in with_mirrors.\n",
    "\n",
    "i.e If you sum the with (a+b) and without (a) mirrors, you count the without mirrors twice (a+b+a)."
   ]
  },
  {
   "cell_type": "code",
   "execution_count": 7,
   "id": "83227828-b6ca-4ebe-8ace-4344975b695c",
   "metadata": {
    "execution": {
     "iopub.execute_input": "2022-03-27T18:33:16.127049Z",
     "iopub.status.busy": "2022-03-27T18:33:16.126824Z",
     "iopub.status.idle": "2022-03-27T18:33:16.399351Z",
     "shell.execute_reply": "2022-03-27T18:33:16.398755Z",
     "shell.execute_reply.started": "2022-03-27T18:33:16.127026Z"
    },
    "tags": []
   },
   "outputs": [
    {
     "data": {
      "text/html": [
       "<div>\n",
       "<style scoped>\n",
       "    .dataframe tbody tr th:only-of-type {\n",
       "        vertical-align: middle;\n",
       "    }\n",
       "\n",
       "    .dataframe tbody tr th {\n",
       "        vertical-align: top;\n",
       "    }\n",
       "\n",
       "    .dataframe thead th {\n",
       "        text-align: right;\n",
       "    }\n",
       "</style>\n",
       "<table border=\"1\" class=\"dataframe\">\n",
       "  <thead>\n",
       "    <tr style=\"text-align: right;\">\n",
       "      <th></th>\n",
       "      <th>category</th>\n",
       "      <th>date</th>\n",
       "      <th>percent</th>\n",
       "      <th>downloads</th>\n",
       "    </tr>\n",
       "  </thead>\n",
       "  <tbody>\n",
       "    <tr>\n",
       "      <th>0</th>\n",
       "      <td>with_mirrors</td>\n",
       "      <td>2022-02-21</td>\n",
       "      <td>2.72%</td>\n",
       "      <td>4221</td>\n",
       "    </tr>\n",
       "    <tr>\n",
       "      <th>1</th>\n",
       "      <td>with_mirrors</td>\n",
       "      <td>2022-03-05</td>\n",
       "      <td>2.46%</td>\n",
       "      <td>3818</td>\n",
       "    </tr>\n",
       "    <tr>\n",
       "      <th>2</th>\n",
       "      <td>without_mirrors</td>\n",
       "      <td>2022-02-21</td>\n",
       "      <td>2.37%</td>\n",
       "      <td>3678</td>\n",
       "    </tr>\n",
       "    <tr>\n",
       "      <th>3</th>\n",
       "      <td>with_mirrors</td>\n",
       "      <td>2022-01-27</td>\n",
       "      <td>1.71%</td>\n",
       "      <td>2656</td>\n",
       "    </tr>\n",
       "    <tr>\n",
       "      <th>4</th>\n",
       "      <td>with_mirrors</td>\n",
       "      <td>2022-03-10</td>\n",
       "      <td>1.66%</td>\n",
       "      <td>2580</td>\n",
       "    </tr>\n",
       "    <tr>\n",
       "      <th>...</th>\n",
       "      <td>...</td>\n",
       "      <td>...</td>\n",
       "      <td>...</td>\n",
       "      <td>...</td>\n",
       "    </tr>\n",
       "    <tr>\n",
       "      <th>717</th>\n",
       "      <td>without_mirrors</td>\n",
       "      <td>2021-10-31</td>\n",
       "      <td>0.00%</td>\n",
       "      <td>2</td>\n",
       "    </tr>\n",
       "    <tr>\n",
       "      <th>718</th>\n",
       "      <td>without_mirrors</td>\n",
       "      <td>2021-11-01</td>\n",
       "      <td>0.00%</td>\n",
       "      <td>2</td>\n",
       "    </tr>\n",
       "    <tr>\n",
       "      <th>719</th>\n",
       "      <td>without_mirrors</td>\n",
       "      <td>2022-01-08</td>\n",
       "      <td>0.00%</td>\n",
       "      <td>2</td>\n",
       "    </tr>\n",
       "    <tr>\n",
       "      <th>720</th>\n",
       "      <td>without_mirrors</td>\n",
       "      <td>2022-02-05</td>\n",
       "      <td>0.00%</td>\n",
       "      <td>1</td>\n",
       "    </tr>\n",
       "    <tr>\n",
       "      <th>721</th>\n",
       "      <td>Total</td>\n",
       "      <td>None</td>\n",
       "      <td>None</td>\n",
       "      <td>101054</td>\n",
       "    </tr>\n",
       "  </tbody>\n",
       "</table>\n",
       "<p>722 rows × 4 columns</p>\n",
       "</div>"
      ],
      "text/plain": [
       "            category        date percent  downloads\n",
       "0       with_mirrors  2022-02-21   2.72%       4221\n",
       "1       with_mirrors  2022-03-05   2.46%       3818\n",
       "2    without_mirrors  2022-02-21   2.37%       3678\n",
       "3       with_mirrors  2022-01-27   1.71%       2656\n",
       "4       with_mirrors  2022-03-10   1.66%       2580\n",
       "..               ...         ...     ...        ...\n",
       "717  without_mirrors  2021-10-31   0.00%          2\n",
       "718  without_mirrors  2021-11-01   0.00%          2\n",
       "719  without_mirrors  2022-01-08   0.00%          2\n",
       "720  without_mirrors  2022-02-05   0.00%          1\n",
       "721            Total        None    None     101054\n",
       "\n",
       "[722 rows x 4 columns]"
      ]
     },
     "execution_count": 7,
     "metadata": {},
     "output_type": "execute_result"
    }
   ],
   "source": [
    "df_final = pd.DataFrame()\n",
    "for package in packages:\n",
    "    df = pypistats.overall(package, total=False, format=\"pandas\")\n",
    "    df_final = df_final.append(df, ignore_index=True)\n",
    "df_final"
   ]
  },
  {
   "cell_type": "code",
   "execution_count": 8,
   "id": "4da3d345-bb29-4b44-a1b1-8ebc840255d7",
   "metadata": {
    "execution": {
     "iopub.execute_input": "2022-03-27T18:33:36.209402Z",
     "iopub.status.busy": "2022-03-27T18:33:36.209097Z",
     "iopub.status.idle": "2022-03-27T18:33:36.282822Z",
     "shell.execute_reply": "2022-03-27T18:33:36.281826Z",
     "shell.execute_reply.started": "2022-03-27T18:33:36.209372Z"
    },
    "tags": []
   },
   "outputs": [
    {
     "data": {
      "text/html": [
       "<div>\n",
       "<style scoped>\n",
       "    .dataframe tbody tr th:only-of-type {\n",
       "        vertical-align: middle;\n",
       "    }\n",
       "\n",
       "    .dataframe tbody tr th {\n",
       "        vertical-align: top;\n",
       "    }\n",
       "\n",
       "    .dataframe thead th {\n",
       "        text-align: right;\n",
       "    }\n",
       "</style>\n",
       "<table border=\"1\" class=\"dataframe\">\n",
       "  <thead>\n",
       "    <tr style=\"text-align: right;\">\n",
       "      <th></th>\n",
       "      <th>date</th>\n",
       "      <th>cumulative_downloads</th>\n",
       "    </tr>\n",
       "  </thead>\n",
       "  <tbody>\n",
       "    <tr>\n",
       "      <th>0</th>\n",
       "      <td>2021-09-27</td>\n",
       "      <td>2323</td>\n",
       "    </tr>\n",
       "    <tr>\n",
       "      <th>1</th>\n",
       "      <td>2021-09-28</td>\n",
       "      <td>2674</td>\n",
       "    </tr>\n",
       "    <tr>\n",
       "      <th>2</th>\n",
       "      <td>2021-09-29</td>\n",
       "      <td>5958</td>\n",
       "    </tr>\n",
       "    <tr>\n",
       "      <th>3</th>\n",
       "      <td>2021-09-30</td>\n",
       "      <td>7360</td>\n",
       "    </tr>\n",
       "    <tr>\n",
       "      <th>4</th>\n",
       "      <td>2021-10-01</td>\n",
       "      <td>10179</td>\n",
       "    </tr>\n",
       "  </tbody>\n",
       "</table>\n",
       "</div>"
      ],
      "text/plain": [
       "         date  cumulative_downloads\n",
       "0  2021-09-27                  2323\n",
       "1  2021-09-28                  2674\n",
       "2  2021-09-29                  5958\n",
       "3  2021-09-30                  7360\n",
       "4  2021-10-01                 10179"
      ]
     },
     "execution_count": 8,
     "metadata": {},
     "output_type": "execute_result"
    }
   ],
   "source": [
    "# Gives us the cumulative number of downloads over a period of 180 days\n",
    "\n",
    "def Get_cumulative_dataframe(df):\n",
    "    \n",
    "    data = df.groupby('category').get_group('with_mirrors').sort_values(\n",
    "        'date').reset_index(drop='index').groupby(\n",
    "        'date').agg({'downloads':'sum'}).reset_index()\n",
    "    \n",
    "    cum_sum = 0\n",
    "    for idx, num in enumerate(data['downloads']):\n",
    "        cum_sum+=num\n",
    "        data.loc[idx, 'cumulative_downloads'] = cum_sum\n",
    "\n",
    "    data['cumulative_downloads'] = data.cumulative_downloads.astype('int')\n",
    "    data.drop(columns = 'downloads', inplace=True)\n",
    "    \n",
    "    return data\n",
    "\n",
    "df_downloads = Get_cumulative_dataframe(df_final)\n",
    "df_downloads.head()"
   ]
  },
  {
   "cell_type": "markdown",
   "id": "b7077755-36d0-4e95-a581-86c5764cc383",
   "metadata": {},
   "source": [
    "## Output"
   ]
  },
  {
   "cell_type": "markdown",
   "id": "d0b568d5-3904-4dbd-b1e8-476ad4ae9a61",
   "metadata": {},
   "source": [
    "### Plotting a line chart for number of downloads"
   ]
  },
  {
   "cell_type": "code",
   "execution_count": 10,
   "id": "70713839-101a-4d57-af31-3340bc13b857",
   "metadata": {
    "execution": {
     "iopub.execute_input": "2022-03-27T18:35:06.147561Z",
     "iopub.status.busy": "2022-03-27T18:35:06.147328Z",
     "iopub.status.idle": "2022-03-27T18:35:06.177716Z",
     "shell.execute_reply": "2022-03-27T18:35:06.177058Z",
     "shell.execute_reply.started": "2022-03-27T18:35:06.147537Z"
    },
    "tags": []
   },
   "outputs": [
    {
     "data": {
      "application/vnd.plotly.v1+json": {
       "config": {
        "plotlyServerURL": "https://plot.ly"
       },
       "data": [
        {
         "line": {
          "color": "black"
         },
         "marker": {
          "color": "black"
         },
         "mode": "lines+text",
         "type": "scatter",
         "x": [
          "2021-09-27",
          "2021-09-28",
          "2021-09-29",
          "2021-09-30",
          "2021-10-01",
          "2021-10-02",
          "2021-10-03",
          "2021-10-04",
          "2021-10-05",
          "2021-10-06",
          "2021-10-07",
          "2021-10-08",
          "2021-10-09",
          "2021-10-10",
          "2021-10-11",
          "2021-10-12",
          "2021-10-13",
          "2021-10-14",
          "2021-10-15",
          "2021-10-16",
          "2021-10-17",
          "2021-10-18",
          "2021-10-19",
          "2021-10-20",
          "2021-10-21",
          "2021-10-22",
          "2021-10-23",
          "2021-10-24",
          "2021-10-25",
          "2021-10-26",
          "2021-10-27",
          "2021-10-28",
          "2021-10-29",
          "2021-10-30",
          "2021-10-31",
          "2021-11-01",
          "2021-11-02",
          "2021-11-03",
          "2021-11-04",
          "2021-11-05",
          "2021-11-06",
          "2021-11-07",
          "2021-11-08",
          "2021-11-09",
          "2021-11-10",
          "2021-11-11",
          "2021-11-12",
          "2021-11-13",
          "2021-11-14",
          "2021-11-15",
          "2021-11-16",
          "2021-11-17",
          "2021-11-18",
          "2021-11-19",
          "2021-11-20",
          "2021-11-21",
          "2021-11-22",
          "2021-11-23",
          "2021-11-24",
          "2021-11-25",
          "2021-11-26",
          "2021-11-27",
          "2021-11-28",
          "2021-11-29",
          "2021-11-30",
          "2021-12-01",
          "2021-12-02",
          "2021-12-03",
          "2021-12-04",
          "2021-12-05",
          "2021-12-06",
          "2021-12-07",
          "2021-12-08",
          "2021-12-09",
          "2021-12-10",
          "2021-12-11",
          "2021-12-12",
          "2021-12-13",
          "2021-12-14",
          "2021-12-15",
          "2021-12-16",
          "2021-12-17",
          "2021-12-18",
          "2021-12-19",
          "2021-12-20",
          "2021-12-21",
          "2021-12-22",
          "2021-12-23",
          "2021-12-24",
          "2021-12-25",
          "2021-12-26",
          "2021-12-27",
          "2021-12-28",
          "2021-12-29",
          "2021-12-30",
          "2021-12-31",
          "2022-01-01",
          "2022-01-02",
          "2022-01-03",
          "2022-01-04",
          "2022-01-05",
          "2022-01-06",
          "2022-01-07",
          "2022-01-08",
          "2022-01-09",
          "2022-01-10",
          "2022-01-11",
          "2022-01-12",
          "2022-01-13",
          "2022-01-14",
          "2022-01-15",
          "2022-01-16",
          "2022-01-17",
          "2022-01-18",
          "2022-01-19",
          "2022-01-20",
          "2022-01-21",
          "2022-01-22",
          "2022-01-23",
          "2022-01-24",
          "2022-01-25",
          "2022-01-26",
          "2022-01-27",
          "2022-01-28",
          "2022-01-29",
          "2022-01-30",
          "2022-01-31",
          "2022-02-01",
          "2022-02-02",
          "2022-02-03",
          "2022-02-04",
          "2022-02-05",
          "2022-02-06",
          "2022-02-07",
          "2022-02-08",
          "2022-02-09",
          "2022-02-10",
          "2022-02-11",
          "2022-02-12",
          "2022-02-13",
          "2022-02-14",
          "2022-02-15",
          "2022-02-16",
          "2022-02-17",
          "2022-02-18",
          "2022-02-19",
          "2022-02-20",
          "2022-02-21",
          "2022-02-22",
          "2022-02-23",
          "2022-02-24",
          "2022-02-25",
          "2022-02-26",
          "2022-02-27",
          "2022-02-28",
          "2022-03-01",
          "2022-03-02",
          "2022-03-03",
          "2022-03-04",
          "2022-03-05",
          "2022-03-06",
          "2022-03-07",
          "2022-03-08",
          "2022-03-09",
          "2022-03-10",
          "2022-03-11",
          "2022-03-12",
          "2022-03-13",
          "2022-03-14",
          "2022-03-15",
          "2022-03-16",
          "2022-03-17",
          "2022-03-18",
          "2022-03-19",
          "2022-03-20",
          "2022-03-21",
          "2022-03-22",
          "2022-03-23",
          "2022-03-24",
          "2022-03-25",
          "2022-03-26"
         ],
         "y": [
          2323,
          2674,
          5958,
          7360,
          10179,
          10231,
          10381,
          10560,
          11365,
          13802,
          15301,
          15962,
          16842,
          16955,
          18848,
          20996,
          21181,
          23611,
          24753,
          25898,
          29566,
          30988,
          31825,
          31903,
          33322,
          34036,
          34072,
          34098,
          34721,
          37441,
          38882,
          41044,
          41877,
          41964,
          42781,
          43823,
          44948,
          45586,
          45813,
          48689,
          50073,
          50574,
          52966,
          53398,
          54255,
          55454,
          55605,
          56053,
          57238,
          58551,
          59420,
          59847,
          60708,
          62808,
          65558,
          66070,
          67600,
          68446,
          69004,
          69408,
          69619,
          69697,
          71525,
          71718,
          74151,
          75629,
          77938,
          78915,
          78966,
          79005,
          81067,
          82911,
          83569,
          84592,
          86196,
          87079,
          88854,
          89408,
          91086,
          91211,
          93479,
          93672,
          96835,
          98403,
          99143,
          99285,
          100542,
          103593,
          105789,
          108183,
          108321,
          108630,
          108780,
          108837,
          109184,
          110777,
          110877,
          111647,
          112544,
          113841,
          114523,
          116675,
          117586,
          117604,
          119128,
          121414,
          122862,
          125752,
          127937,
          127981,
          129986,
          130654,
          130718,
          132844,
          134450,
          136260,
          137414,
          138324,
          139071,
          140092,
          142745,
          144184,
          148134,
          150345,
          152805,
          153818,
          154123,
          155951,
          156575,
          157702,
          160565,
          161767,
          162846,
          164115,
          166319,
          166443,
          167500,
          168746,
          170092,
          170161,
          170832,
          172310,
          174637,
          175794,
          178540,
          180148,
          182711,
          187413,
          191827,
          194358,
          197036,
          198856,
          200038,
          201200,
          203744,
          206213,
          208167,
          209174,
          210159,
          216563,
          220377,
          223896,
          226965,
          231322,
          235282,
          235359,
          235457,
          239073,
          240398,
          241772,
          243274,
          244017,
          244262,
          244290,
          244363,
          246668,
          247632,
          251258,
          252709,
          254530,
          256513
         ]
        }
       ],
       "layout": {
        "height": 800,
        "margin": {
         "pad": 10
        },
        "paper_bgcolor": "white",
        "plot_bgcolor": "#ffffff",
        "template": {
         "data": {
          "bar": [
           {
            "error_x": {
             "color": "#2a3f5f"
            },
            "error_y": {
             "color": "#2a3f5f"
            },
            "marker": {
             "line": {
              "color": "#E5ECF6",
              "width": 0.5
             }
            },
            "type": "bar"
           }
          ],
          "barpolar": [
           {
            "marker": {
             "line": {
              "color": "#E5ECF6",
              "width": 0.5
             }
            },
            "type": "barpolar"
           }
          ],
          "carpet": [
           {
            "aaxis": {
             "endlinecolor": "#2a3f5f",
             "gridcolor": "white",
             "linecolor": "white",
             "minorgridcolor": "white",
             "startlinecolor": "#2a3f5f"
            },
            "baxis": {
             "endlinecolor": "#2a3f5f",
             "gridcolor": "white",
             "linecolor": "white",
             "minorgridcolor": "white",
             "startlinecolor": "#2a3f5f"
            },
            "type": "carpet"
           }
          ],
          "choropleth": [
           {
            "colorbar": {
             "outlinewidth": 0,
             "ticks": ""
            },
            "type": "choropleth"
           }
          ],
          "contour": [
           {
            "colorbar": {
             "outlinewidth": 0,
             "ticks": ""
            },
            "colorscale": [
             [
              0,
              "#0d0887"
             ],
             [
              0.1111111111111111,
              "#46039f"
             ],
             [
              0.2222222222222222,
              "#7201a8"
             ],
             [
              0.3333333333333333,
              "#9c179e"
             ],
             [
              0.4444444444444444,
              "#bd3786"
             ],
             [
              0.5555555555555556,
              "#d8576b"
             ],
             [
              0.6666666666666666,
              "#ed7953"
             ],
             [
              0.7777777777777778,
              "#fb9f3a"
             ],
             [
              0.8888888888888888,
              "#fdca26"
             ],
             [
              1,
              "#f0f921"
             ]
            ],
            "type": "contour"
           }
          ],
          "contourcarpet": [
           {
            "colorbar": {
             "outlinewidth": 0,
             "ticks": ""
            },
            "type": "contourcarpet"
           }
          ],
          "heatmap": [
           {
            "colorbar": {
             "outlinewidth": 0,
             "ticks": ""
            },
            "colorscale": [
             [
              0,
              "#0d0887"
             ],
             [
              0.1111111111111111,
              "#46039f"
             ],
             [
              0.2222222222222222,
              "#7201a8"
             ],
             [
              0.3333333333333333,
              "#9c179e"
             ],
             [
              0.4444444444444444,
              "#bd3786"
             ],
             [
              0.5555555555555556,
              "#d8576b"
             ],
             [
              0.6666666666666666,
              "#ed7953"
             ],
             [
              0.7777777777777778,
              "#fb9f3a"
             ],
             [
              0.8888888888888888,
              "#fdca26"
             ],
             [
              1,
              "#f0f921"
             ]
            ],
            "type": "heatmap"
           }
          ],
          "heatmapgl": [
           {
            "colorbar": {
             "outlinewidth": 0,
             "ticks": ""
            },
            "colorscale": [
             [
              0,
              "#0d0887"
             ],
             [
              0.1111111111111111,
              "#46039f"
             ],
             [
              0.2222222222222222,
              "#7201a8"
             ],
             [
              0.3333333333333333,
              "#9c179e"
             ],
             [
              0.4444444444444444,
              "#bd3786"
             ],
             [
              0.5555555555555556,
              "#d8576b"
             ],
             [
              0.6666666666666666,
              "#ed7953"
             ],
             [
              0.7777777777777778,
              "#fb9f3a"
             ],
             [
              0.8888888888888888,
              "#fdca26"
             ],
             [
              1,
              "#f0f921"
             ]
            ],
            "type": "heatmapgl"
           }
          ],
          "histogram": [
           {
            "marker": {
             "colorbar": {
              "outlinewidth": 0,
              "ticks": ""
             }
            },
            "type": "histogram"
           }
          ],
          "histogram2d": [
           {
            "colorbar": {
             "outlinewidth": 0,
             "ticks": ""
            },
            "colorscale": [
             [
              0,
              "#0d0887"
             ],
             [
              0.1111111111111111,
              "#46039f"
             ],
             [
              0.2222222222222222,
              "#7201a8"
             ],
             [
              0.3333333333333333,
              "#9c179e"
             ],
             [
              0.4444444444444444,
              "#bd3786"
             ],
             [
              0.5555555555555556,
              "#d8576b"
             ],
             [
              0.6666666666666666,
              "#ed7953"
             ],
             [
              0.7777777777777778,
              "#fb9f3a"
             ],
             [
              0.8888888888888888,
              "#fdca26"
             ],
             [
              1,
              "#f0f921"
             ]
            ],
            "type": "histogram2d"
           }
          ],
          "histogram2dcontour": [
           {
            "colorbar": {
             "outlinewidth": 0,
             "ticks": ""
            },
            "colorscale": [
             [
              0,
              "#0d0887"
             ],
             [
              0.1111111111111111,
              "#46039f"
             ],
             [
              0.2222222222222222,
              "#7201a8"
             ],
             [
              0.3333333333333333,
              "#9c179e"
             ],
             [
              0.4444444444444444,
              "#bd3786"
             ],
             [
              0.5555555555555556,
              "#d8576b"
             ],
             [
              0.6666666666666666,
              "#ed7953"
             ],
             [
              0.7777777777777778,
              "#fb9f3a"
             ],
             [
              0.8888888888888888,
              "#fdca26"
             ],
             [
              1,
              "#f0f921"
             ]
            ],
            "type": "histogram2dcontour"
           }
          ],
          "mesh3d": [
           {
            "colorbar": {
             "outlinewidth": 0,
             "ticks": ""
            },
            "type": "mesh3d"
           }
          ],
          "parcoords": [
           {
            "line": {
             "colorbar": {
              "outlinewidth": 0,
              "ticks": ""
             }
            },
            "type": "parcoords"
           }
          ],
          "pie": [
           {
            "automargin": true,
            "type": "pie"
           }
          ],
          "scatter": [
           {
            "marker": {
             "colorbar": {
              "outlinewidth": 0,
              "ticks": ""
             }
            },
            "type": "scatter"
           }
          ],
          "scatter3d": [
           {
            "line": {
             "colorbar": {
              "outlinewidth": 0,
              "ticks": ""
             }
            },
            "marker": {
             "colorbar": {
              "outlinewidth": 0,
              "ticks": ""
             }
            },
            "type": "scatter3d"
           }
          ],
          "scattercarpet": [
           {
            "marker": {
             "colorbar": {
              "outlinewidth": 0,
              "ticks": ""
             }
            },
            "type": "scattercarpet"
           }
          ],
          "scattergeo": [
           {
            "marker": {
             "colorbar": {
              "outlinewidth": 0,
              "ticks": ""
             }
            },
            "type": "scattergeo"
           }
          ],
          "scattergl": [
           {
            "marker": {
             "colorbar": {
              "outlinewidth": 0,
              "ticks": ""
             }
            },
            "type": "scattergl"
           }
          ],
          "scattermapbox": [
           {
            "marker": {
             "colorbar": {
              "outlinewidth": 0,
              "ticks": ""
             }
            },
            "type": "scattermapbox"
           }
          ],
          "scatterpolar": [
           {
            "marker": {
             "colorbar": {
              "outlinewidth": 0,
              "ticks": ""
             }
            },
            "type": "scatterpolar"
           }
          ],
          "scatterpolargl": [
           {
            "marker": {
             "colorbar": {
              "outlinewidth": 0,
              "ticks": ""
             }
            },
            "type": "scatterpolargl"
           }
          ],
          "scatterternary": [
           {
            "marker": {
             "colorbar": {
              "outlinewidth": 0,
              "ticks": ""
             }
            },
            "type": "scatterternary"
           }
          ],
          "surface": [
           {
            "colorbar": {
             "outlinewidth": 0,
             "ticks": ""
            },
            "colorscale": [
             [
              0,
              "#0d0887"
             ],
             [
              0.1111111111111111,
              "#46039f"
             ],
             [
              0.2222222222222222,
              "#7201a8"
             ],
             [
              0.3333333333333333,
              "#9c179e"
             ],
             [
              0.4444444444444444,
              "#bd3786"
             ],
             [
              0.5555555555555556,
              "#d8576b"
             ],
             [
              0.6666666666666666,
              "#ed7953"
             ],
             [
              0.7777777777777778,
              "#fb9f3a"
             ],
             [
              0.8888888888888888,
              "#fdca26"
             ],
             [
              1,
              "#f0f921"
             ]
            ],
            "type": "surface"
           }
          ],
          "table": [
           {
            "cells": {
             "fill": {
              "color": "#EBF0F8"
             },
             "line": {
              "color": "white"
             }
            },
            "header": {
             "fill": {
              "color": "#C8D4E3"
             },
             "line": {
              "color": "white"
             }
            },
            "type": "table"
           }
          ]
         },
         "layout": {
          "annotationdefaults": {
           "arrowcolor": "#2a3f5f",
           "arrowhead": 0,
           "arrowwidth": 1
          },
          "autotypenumbers": "strict",
          "coloraxis": {
           "colorbar": {
            "outlinewidth": 0,
            "ticks": ""
           }
          },
          "colorscale": {
           "diverging": [
            [
             0,
             "#8e0152"
            ],
            [
             0.1,
             "#c51b7d"
            ],
            [
             0.2,
             "#de77ae"
            ],
            [
             0.3,
             "#f1b6da"
            ],
            [
             0.4,
             "#fde0ef"
            ],
            [
             0.5,
             "#f7f7f7"
            ],
            [
             0.6,
             "#e6f5d0"
            ],
            [
             0.7,
             "#b8e186"
            ],
            [
             0.8,
             "#7fbc41"
            ],
            [
             0.9,
             "#4d9221"
            ],
            [
             1,
             "#276419"
            ]
           ],
           "sequential": [
            [
             0,
             "#0d0887"
            ],
            [
             0.1111111111111111,
             "#46039f"
            ],
            [
             0.2222222222222222,
             "#7201a8"
            ],
            [
             0.3333333333333333,
             "#9c179e"
            ],
            [
             0.4444444444444444,
             "#bd3786"
            ],
            [
             0.5555555555555556,
             "#d8576b"
            ],
            [
             0.6666666666666666,
             "#ed7953"
            ],
            [
             0.7777777777777778,
             "#fb9f3a"
            ],
            [
             0.8888888888888888,
             "#fdca26"
            ],
            [
             1,
             "#f0f921"
            ]
           ],
           "sequentialminus": [
            [
             0,
             "#0d0887"
            ],
            [
             0.1111111111111111,
             "#46039f"
            ],
            [
             0.2222222222222222,
             "#7201a8"
            ],
            [
             0.3333333333333333,
             "#9c179e"
            ],
            [
             0.4444444444444444,
             "#bd3786"
            ],
            [
             0.5555555555555556,
             "#d8576b"
            ],
            [
             0.6666666666666666,
             "#ed7953"
            ],
            [
             0.7777777777777778,
             "#fb9f3a"
            ],
            [
             0.8888888888888888,
             "#fdca26"
            ],
            [
             1,
             "#f0f921"
            ]
           ]
          },
          "colorway": [
           "#636efa",
           "#EF553B",
           "#00cc96",
           "#ab63fa",
           "#FFA15A",
           "#19d3f3",
           "#FF6692",
           "#B6E880",
           "#FF97FF",
           "#FECB52"
          ],
          "font": {
           "color": "#2a3f5f"
          },
          "geo": {
           "bgcolor": "white",
           "lakecolor": "white",
           "landcolor": "#E5ECF6",
           "showlakes": true,
           "showland": true,
           "subunitcolor": "white"
          },
          "hoverlabel": {
           "align": "left"
          },
          "hovermode": "closest",
          "mapbox": {
           "style": "light"
          },
          "paper_bgcolor": "white",
          "plot_bgcolor": "#E5ECF6",
          "polar": {
           "angularaxis": {
            "gridcolor": "white",
            "linecolor": "white",
            "ticks": ""
           },
           "bgcolor": "#E5ECF6",
           "radialaxis": {
            "gridcolor": "white",
            "linecolor": "white",
            "ticks": ""
           }
          },
          "scene": {
           "xaxis": {
            "backgroundcolor": "#E5ECF6",
            "gridcolor": "white",
            "gridwidth": 2,
            "linecolor": "white",
            "showbackground": true,
            "ticks": "",
            "zerolinecolor": "white"
           },
           "yaxis": {
            "backgroundcolor": "#E5ECF6",
            "gridcolor": "white",
            "gridwidth": 2,
            "linecolor": "white",
            "showbackground": true,
            "ticks": "",
            "zerolinecolor": "white"
           },
           "zaxis": {
            "backgroundcolor": "#E5ECF6",
            "gridcolor": "white",
            "gridwidth": 2,
            "linecolor": "white",
            "showbackground": true,
            "ticks": "",
            "zerolinecolor": "white"
           }
          },
          "shapedefaults": {
           "line": {
            "color": "#2a3f5f"
           }
          },
          "ternary": {
           "aaxis": {
            "gridcolor": "white",
            "linecolor": "white",
            "ticks": ""
           },
           "baxis": {
            "gridcolor": "white",
            "linecolor": "white",
            "ticks": ""
           },
           "bgcolor": "#E5ECF6",
           "caxis": {
            "gridcolor": "white",
            "linecolor": "white",
            "ticks": ""
           }
          },
          "title": {
           "x": 0.05
          },
          "xaxis": {
           "automargin": true,
           "gridcolor": "white",
           "linecolor": "white",
           "ticks": "",
           "title": {
            "standoff": 15
           },
           "zerolinecolor": "white",
           "zerolinewidth": 2
          },
          "yaxis": {
           "automargin": true,
           "gridcolor": "white",
           "linecolor": "white",
           "ticks": "",
           "title": {
            "standoff": 15
           },
           "zerolinecolor": "white",
           "zerolinewidth": 2
          }
         }
        },
        "title": {
         "font": {
          "color": "black",
          "family": "Arial",
          "size": 18
         },
         "text": "⭐<b> Total number of downloads for naas libraries </b><br><span style='font-size: 13px;'> Total Downloads as of today: 256513</span>"
        },
        "width": 1200,
        "xaxis": {
         "autorange": true,
         "range": [
          "2021-09-17",
          "2022-04-05"
         ],
         "title": {
          "font": {
           "color": "black",
           "family": "Arial",
           "size": 13
          },
          "text": "Date"
         },
         "type": "date"
        },
        "yaxis": {
         "autorange": true,
         "range": [
          -11798.666666666668,
          270634.6666666667
         ],
         "title": {
          "font": {
           "color": "black",
           "family": "Arial",
           "size": 13
          },
          "text": "No. of downloads"
         },
         "type": "linear"
        }
       }
      },
      "image/png": "[encoded data removed]",
      "text/html": [
       "<div>                            <div id=\"768cce66-157a-4256-8e0a-18d7c26cfca1\" class=\"plotly-graph-div\" style=\"height:800px; width:1200px;\"></div>            <script type=\"text/javascript\">                require([\"plotly\"], function(Plotly) {                    window.PLOTLYENV=window.PLOTLYENV || {};                                    if (document.getElementById(\"768cce66-157a-4256-8e0a-18d7c26cfca1\")) {                    Plotly.newPlot(                        \"768cce66-157a-4256-8e0a-18d7c26cfca1\",                        [{\"line\": {\"color\": \"black\"}, \"marker\": {\"color\": \"black\"}, \"mode\": \"lines+text\", \"type\": \"scatter\", \"x\": [\"2021-09-27\", \"2021-09-28\", \"2021-09-29\", \"2021-09-30\", \"2021-10-01\", \"2021-10-02\", \"2021-10-03\", \"2021-10-04\", \"2021-10-05\", \"2021-10-06\", \"2021-10-07\", \"2021-10-08\", \"2021-10-09\", \"2021-10-10\", \"2021-10-11\", \"2021-10-12\", \"2021-10-13\", \"2021-10-14\", \"2021-10-15\", \"2021-10-16\", \"2021-10-17\", \"2021-10-18\", \"2021-10-19\", \"2021-10-20\", \"2021-10-21\", \"2021-10-22\", \"2021-10-23\", \"2021-10-24\", \"2021-10-25\", \"2021-10-26\", \"2021-10-27\", \"2021-10-28\", \"2021-10-29\", \"2021-10-30\", \"2021-10-31\", \"2021-11-01\", \"2021-11-02\", \"2021-11-03\", \"2021-11-04\", \"2021-11-05\", \"2021-11-06\", \"2021-11-07\", \"2021-11-08\", \"2021-11-09\", \"2021-11-10\", \"2021-11-11\", \"2021-11-12\", \"2021-11-13\", \"2021-11-14\", \"2021-11-15\", \"2021-11-16\", \"2021-11-17\", \"2021-11-18\", \"2021-11-19\", \"2021-11-20\", \"2021-11-21\", \"2021-11-22\", \"2021-11-23\", \"2021-11-24\", \"2021-11-25\", \"2021-11-26\", \"2021-11-27\", \"2021-11-28\", \"2021-11-29\", \"2021-11-30\", \"2021-12-01\", \"2021-12-02\", \"2021-12-03\", \"2021-12-04\", \"2021-12-05\", \"2021-12-06\", \"2021-12-07\", \"2021-12-08\", \"2021-12-09\", \"2021-12-10\", \"2021-12-11\", \"2021-12-12\", \"2021-12-13\", \"2021-12-14\", \"2021-12-15\", \"2021-12-16\", \"2021-12-17\", \"2021-12-18\", \"2021-12-19\", \"2021-12-20\", \"2021-12-21\", \"2021-12-22\", \"2021-12-23\", \"2021-12-24\", \"2021-12-25\", \"2021-12-26\", \"2021-12-27\", \"2021-12-28\", \"2021-12-29\", \"2021-12-30\", \"2021-12-31\", \"2022-01-01\", \"2022-01-02\", \"2022-01-03\", \"2022-01-04\", \"2022-01-05\", \"2022-01-06\", \"2022-01-07\", \"2022-01-08\", \"2022-01-09\", \"2022-01-10\", \"2022-01-11\", \"2022-01-12\", \"2022-01-13\", \"2022-01-14\", \"2022-01-15\", \"2022-01-16\", \"2022-01-17\", \"2022-01-18\", \"2022-01-19\", \"2022-01-20\", \"2022-01-21\", \"2022-01-22\", \"2022-01-23\", \"2022-01-24\", \"2022-01-25\", \"2022-01-26\", \"2022-01-27\", \"2022-01-28\", \"2022-01-29\", \"2022-01-30\", \"2022-01-31\", \"2022-02-01\", \"2022-02-02\", \"2022-02-03\", \"2022-02-04\", \"2022-02-05\", \"2022-02-06\", \"2022-02-07\", \"2022-02-08\", \"2022-02-09\", \"2022-02-10\", \"2022-02-11\", \"2022-02-12\", \"2022-02-13\", \"2022-02-14\", \"2022-02-15\", \"2022-02-16\", \"2022-02-17\", \"2022-02-18\", \"2022-02-19\", \"2022-02-20\", \"2022-02-21\", \"2022-02-22\", \"2022-02-23\", \"2022-02-24\", \"2022-02-25\", \"2022-02-26\", \"2022-02-27\", \"2022-02-28\", \"2022-03-01\", \"2022-03-02\", \"2022-03-03\", \"2022-03-04\", \"2022-03-05\", \"2022-03-06\", \"2022-03-07\", \"2022-03-08\", \"2022-03-09\", \"2022-03-10\", \"2022-03-11\", \"2022-03-12\", \"2022-03-13\", \"2022-03-14\", \"2022-03-15\", \"2022-03-16\", \"2022-03-17\", \"2022-03-18\", \"2022-03-19\", \"2022-03-20\", \"2022-03-21\", \"2022-03-22\", \"2022-03-23\", \"2022-03-24\", \"2022-03-25\", \"2022-03-26\"], \"y\": [2323, 2674, 5958, 7360, 10179, 10231, 10381, 10560, 11365, 13802, 15301, 15962, 16842, 16955, 18848, 20996, 21181, 23611, 24753, 25898, 29566, 30988, 31825, 31903, 33322, 34036, 34072, 34098, 34721, 37441, 38882, 41044, 41877, 41964, 42781, 43823, 44948, 45586, 45813, 48689, 50073, 50574, 52966, 53398, 54255, 55454, 55605, 56053, 57238, 58551, 59420, 59847, 60708, 62808, 65558, 66070, 67600, 68446, 69004, 69408, 69619, 69697, 71525, 71718, 74151, 75629, 77938, 78915, 78966, 79005, 81067, 82911, 83569, 84592, 86196, 87079, 88854, 89408, 91086, 91211, 93479, 93672, 96835, 98403, 99143, 99285, 100542, 103593, 105789, 108183, 108321, 108630, 108780, 108837, 109184, 110777, 110877, 111647, 112544, 113841, 114523, 116675, 117586, 117604, 119128, 121414, 122862, 125752, 127937, 127981, 129986, 130654, 130718, 132844, 134450, 136260, 137414, 138324, 139071, 140092, 142745, 144184, 148134, 150345, 152805, 153818, 154123, 155951, 156575, 157702, 160565, 161767, 162846, 164115, 166319, 166443, 167500, 168746, 170092, 170161, 170832, 172310, 174637, 175794, 178540, 180148, 182711, 187413, 191827, 194358, 197036, 198856, 200038, 201200, 203744, 206213, 208167, 209174, 210159, 216563, 220377, 223896, 226965, 231322, 235282, 235359, 235457, 239073, 240398, 241772, 243274, 244017, 244262, 244290, 244363, 246668, 247632, 251258, 252709, 254530, 256513]}],                        {\"height\": 800, \"margin\": {\"pad\": 10}, \"paper_bgcolor\": \"white\", \"plot_bgcolor\": \"#ffffff\", \"template\": {\"data\": {\"bar\": [{\"error_x\": {\"color\": \"#2a3f5f\"}, \"error_y\": {\"color\": \"#2a3f5f\"}, \"marker\": {\"line\": {\"color\": \"#E5ECF6\", \"width\": 0.5}}, \"type\": \"bar\"}], \"barpolar\": [{\"marker\": {\"line\": {\"color\": \"#E5ECF6\", \"width\": 0.5}}, \"type\": \"barpolar\"}], \"carpet\": [{\"aaxis\": {\"endlinecolor\": \"#2a3f5f\", \"gridcolor\": \"white\", \"linecolor\": \"white\", \"minorgridcolor\": \"white\", \"startlinecolor\": \"#2a3f5f\"}, \"baxis\": {\"endlinecolor\": \"#2a3f5f\", \"gridcolor\": \"white\", \"linecolor\": \"white\", \"minorgridcolor\": \"white\", \"startlinecolor\": \"#2a3f5f\"}, \"type\": \"carpet\"}], \"choropleth\": [{\"colorbar\": {\"outlinewidth\": 0, \"ticks\": \"\"}, \"type\": \"choropleth\"}], \"contour\": [{\"colorbar\": {\"outlinewidth\": 0, \"ticks\": \"\"}, \"colorscale\": [[0.0, \"#0d0887\"], [0.1111111111111111, \"#46039f\"], [0.2222222222222222, \"#7201a8\"], [0.3333333333333333, \"#9c179e\"], [0.4444444444444444, \"#bd3786\"], [0.5555555555555556, \"#d8576b\"], [0.6666666666666666, \"#ed7953\"], [0.7777777777777778, \"#fb9f3a\"], [0.8888888888888888, \"#fdca26\"], [1.0, \"#f0f921\"]], \"type\": \"contour\"}], \"contourcarpet\": [{\"colorbar\": {\"outlinewidth\": 0, \"ticks\": \"\"}, \"type\": \"contourcarpet\"}], \"heatmap\": [{\"colorbar\": {\"outlinewidth\": 0, \"ticks\": \"\"}, \"colorscale\": [[0.0, \"#0d0887\"], [0.1111111111111111, \"#46039f\"], [0.2222222222222222, \"#7201a8\"], [0.3333333333333333, \"#9c179e\"], [0.4444444444444444, \"#bd3786\"], [0.5555555555555556, \"#d8576b\"], [0.6666666666666666, \"#ed7953\"], [0.7777777777777778, \"#fb9f3a\"], [0.8888888888888888, \"#fdca26\"], [1.0, \"#f0f921\"]], \"type\": \"heatmap\"}], \"heatmapgl\": [{\"colorbar\": {\"outlinewidth\": 0, \"ticks\": \"\"}, \"colorscale\": [[0.0, \"#0d0887\"], [0.1111111111111111, \"#46039f\"], [0.2222222222222222, \"#7201a8\"], [0.3333333333333333, \"#9c179e\"], [0.4444444444444444, \"#bd3786\"], [0.5555555555555556, \"#d8576b\"], [0.6666666666666666, \"#ed7953\"], [0.7777777777777778, \"#fb9f3a\"], [0.8888888888888888, \"#fdca26\"], [1.0, \"#f0f921\"]], \"type\": \"heatmapgl\"}], \"histogram\": [{\"marker\": {\"colorbar\": {\"outlinewidth\": 0, \"ticks\": \"\"}}, \"type\": \"histogram\"}], \"histogram2d\": [{\"colorbar\": {\"outlinewidth\": 0, \"ticks\": \"\"}, \"colorscale\": [[0.0, \"#0d0887\"], [0.1111111111111111, \"#46039f\"], [0.2222222222222222, \"#7201a8\"], [0.3333333333333333, \"#9c179e\"], [0.4444444444444444, \"#bd3786\"], [0.5555555555555556, \"#d8576b\"], [0.6666666666666666, \"#ed7953\"], [0.7777777777777778, \"#fb9f3a\"], [0.8888888888888888, \"#fdca26\"], [1.0, \"#f0f921\"]], \"type\": \"histogram2d\"}], \"histogram2dcontour\": [{\"colorbar\": {\"outlinewidth\": 0, \"ticks\": \"\"}, \"colorscale\": [[0.0, \"#0d0887\"], [0.1111111111111111, \"#46039f\"], [0.2222222222222222, \"#7201a8\"], [0.3333333333333333, \"#9c179e\"], [0.4444444444444444, \"#bd3786\"], [0.5555555555555556, \"#d8576b\"], [0.6666666666666666, \"#ed7953\"], [0.7777777777777778, \"#fb9f3a\"], [0.8888888888888888, \"#fdca26\"], [1.0, \"#f0f921\"]], \"type\": \"histogram2dcontour\"}], \"mesh3d\": [{\"colorbar\": {\"outlinewidth\": 0, \"ticks\": \"\"}, \"type\": \"mesh3d\"}], \"parcoords\": [{\"line\": {\"colorbar\": {\"outlinewidth\": 0, \"ticks\": \"\"}}, \"type\": \"parcoords\"}], \"pie\": [{\"automargin\": true, \"type\": \"pie\"}], \"scatter\": [{\"marker\": {\"colorbar\": {\"outlinewidth\": 0, \"ticks\": \"\"}}, \"type\": \"scatter\"}], \"scatter3d\": [{\"line\": {\"colorbar\": {\"outlinewidth\": 0, \"ticks\": \"\"}}, \"marker\": {\"colorbar\": {\"outlinewidth\": 0, \"ticks\": \"\"}}, \"type\": \"scatter3d\"}], \"scattercarpet\": [{\"marker\": {\"colorbar\": {\"outlinewidth\": 0, \"ticks\": \"\"}}, \"type\": \"scattercarpet\"}], \"scattergeo\": [{\"marker\": {\"colorbar\": {\"outlinewidth\": 0, \"ticks\": \"\"}}, \"type\": \"scattergeo\"}], \"scattergl\": [{\"marker\": {\"colorbar\": {\"outlinewidth\": 0, \"ticks\": \"\"}}, \"type\": \"scattergl\"}], \"scattermapbox\": [{\"marker\": {\"colorbar\": {\"outlinewidth\": 0, \"ticks\": \"\"}}, \"type\": \"scattermapbox\"}], \"scatterpolar\": [{\"marker\": {\"colorbar\": {\"outlinewidth\": 0, \"ticks\": \"\"}}, \"type\": \"scatterpolar\"}], \"scatterpolargl\": [{\"marker\": {\"colorbar\": {\"outlinewidth\": 0, \"ticks\": \"\"}}, \"type\": \"scatterpolargl\"}], \"scatterternary\": [{\"marker\": {\"colorbar\": {\"outlinewidth\": 0, \"ticks\": \"\"}}, \"type\": \"scatterternary\"}], \"surface\": [{\"colorbar\": {\"outlinewidth\": 0, \"ticks\": \"\"}, \"colorscale\": [[0.0, \"#0d0887\"], [0.1111111111111111, \"#46039f\"], [0.2222222222222222, \"#7201a8\"], [0.3333333333333333, \"#9c179e\"], [0.4444444444444444, \"#bd3786\"], [0.5555555555555556, \"#d8576b\"], [0.6666666666666666, \"#ed7953\"], [0.7777777777777778, \"#fb9f3a\"], [0.8888888888888888, \"#fdca26\"], [1.0, \"#f0f921\"]], \"type\": \"surface\"}], \"table\": [{\"cells\": {\"fill\": {\"color\": \"#EBF0F8\"}, \"line\": {\"color\": \"white\"}}, \"header\": {\"fill\": {\"color\": \"#C8D4E3\"}, \"line\": {\"color\": \"white\"}}, \"type\": \"table\"}]}, \"layout\": {\"annotationdefaults\": {\"arrowcolor\": \"#2a3f5f\", \"arrowhead\": 0, \"arrowwidth\": 1}, \"autotypenumbers\": \"strict\", \"coloraxis\": {\"colorbar\": {\"outlinewidth\": 0, \"ticks\": \"\"}}, \"colorscale\": {\"diverging\": [[0, \"#8e0152\"], [0.1, \"#c51b7d\"], [0.2, \"#de77ae\"], [0.3, \"#f1b6da\"], [0.4, \"#fde0ef\"], [0.5, \"#f7f7f7\"], [0.6, \"#e6f5d0\"], [0.7, \"#b8e186\"], [0.8, \"#7fbc41\"], [0.9, \"#4d9221\"], [1, \"#276419\"]], \"sequential\": [[0.0, \"#0d0887\"], [0.1111111111111111, \"#46039f\"], [0.2222222222222222, \"#7201a8\"], [0.3333333333333333, \"#9c179e\"], [0.4444444444444444, \"#bd3786\"], [0.5555555555555556, \"#d8576b\"], [0.6666666666666666, \"#ed7953\"], [0.7777777777777778, \"#fb9f3a\"], [0.8888888888888888, \"#fdca26\"], [1.0, \"#f0f921\"]], \"sequentialminus\": [[0.0, \"#0d0887\"], [0.1111111111111111, \"#46039f\"], [0.2222222222222222, \"#7201a8\"], [0.3333333333333333, \"#9c179e\"], [0.4444444444444444, \"#bd3786\"], [0.5555555555555556, \"#d8576b\"], [0.6666666666666666, \"#ed7953\"], [0.7777777777777778, \"#fb9f3a\"], [0.8888888888888888, \"#fdca26\"], [1.0, \"#f0f921\"]]}, \"colorway\": [\"#636efa\", \"#EF553B\", \"#00cc96\", \"#ab63fa\", \"#FFA15A\", \"#19d3f3\", \"#FF6692\", \"#B6E880\", \"#FF97FF\", \"#FECB52\"], \"font\": {\"color\": \"#2a3f5f\"}, \"geo\": {\"bgcolor\": \"white\", \"lakecolor\": \"white\", \"landcolor\": \"#E5ECF6\", \"showlakes\": true, \"showland\": true, \"subunitcolor\": \"white\"}, \"hoverlabel\": {\"align\": \"left\"}, \"hovermode\": \"closest\", \"mapbox\": {\"style\": \"light\"}, \"paper_bgcolor\": \"white\", \"plot_bgcolor\": \"#E5ECF6\", \"polar\": {\"angularaxis\": {\"gridcolor\": \"white\", \"linecolor\": \"white\", \"ticks\": \"\"}, \"bgcolor\": \"#E5ECF6\", \"radialaxis\": {\"gridcolor\": \"white\", \"linecolor\": \"white\", \"ticks\": \"\"}}, \"scene\": {\"xaxis\": {\"backgroundcolor\": \"#E5ECF6\", \"gridcolor\": \"white\", \"gridwidth\": 2, \"linecolor\": \"white\", \"showbackground\": true, \"ticks\": \"\", \"zerolinecolor\": \"white\"}, \"yaxis\": {\"backgroundcolor\": \"#E5ECF6\", \"gridcolor\": \"white\", \"gridwidth\": 2, \"linecolor\": \"white\", \"showbackground\": true, \"ticks\": \"\", \"zerolinecolor\": \"white\"}, \"zaxis\": {\"backgroundcolor\": \"#E5ECF6\", \"gridcolor\": \"white\", \"gridwidth\": 2, \"linecolor\": \"white\", \"showbackground\": true, \"ticks\": \"\", \"zerolinecolor\": \"white\"}}, \"shapedefaults\": {\"line\": {\"color\": \"#2a3f5f\"}}, \"ternary\": {\"aaxis\": {\"gridcolor\": \"white\", \"linecolor\": \"white\", \"ticks\": \"\"}, \"baxis\": {\"gridcolor\": \"white\", \"linecolor\": \"white\", \"ticks\": \"\"}, \"bgcolor\": \"#E5ECF6\", \"caxis\": {\"gridcolor\": \"white\", \"linecolor\": \"white\", \"ticks\": \"\"}}, \"title\": {\"x\": 0.05}, \"xaxis\": {\"automargin\": true, \"gridcolor\": \"white\", \"linecolor\": \"white\", \"ticks\": \"\", \"title\": {\"standoff\": 15}, \"zerolinecolor\": \"white\", \"zerolinewidth\": 2}, \"yaxis\": {\"automargin\": true, \"gridcolor\": \"white\", \"linecolor\": \"white\", \"ticks\": \"\", \"title\": {\"standoff\": 15}, \"zerolinecolor\": \"white\", \"zerolinewidth\": 2}}}, \"title\": {\"font\": {\"color\": \"black\", \"family\": \"Arial\", \"size\": 18}, \"text\": \"\\u2b50<b> Total number of downloads for naas libraries </b><br><span style='font-size: 13px;'> Total Downloads as of today: 256513</span>\"}, \"width\": 1200, \"xaxis\": {\"title\": {\"font\": {\"color\": \"black\", \"family\": \"Arial\", \"size\": 13}, \"text\": \"Date\"}}, \"yaxis\": {\"title\": {\"font\": {\"color\": \"black\", \"family\": \"Arial\", \"size\": 13}, \"text\": \"No. of downloads\"}}},                        {\"responsive\": true}                    ).then(function(){\n",
       "                            \n",
       "var gd = document.getElementById('768cce66-157a-4256-8e0a-18d7c26cfca1');\n",
       "var x = new MutationObserver(function (mutations, observer) {{\n",
       "        var display = window.getComputedStyle(gd).display;\n",
       "        if (!display || display === 'none') {{\n",
       "            console.log([gd, 'removed!']);\n",
       "            Plotly.purge(gd);\n",
       "            observer.disconnect();\n",
       "        }}\n",
       "}});\n",
       "\n",
       "// Listen for the removal of the full notebook cells\n",
       "var notebookContainer = gd.closest('#notebook-container');\n",
       "if (notebookContainer) {{\n",
       "    x.observe(notebookContainer, {childList: true});\n",
       "}}\n",
       "\n",
       "// Listen for the clearing of the current output cell\n",
       "var outputEl = gd.closest('.output');\n",
       "if (outputEl) {{\n",
       "    x.observe(outputEl, {childList: true});\n",
       "}}\n",
       "\n",
       "                        })                };                });            </script>        </div>"
      ]
     },
     "metadata": {},
     "output_type": "display_data"
    }
   ],
   "source": [
    "def create_linechart(df, package, date, value):\n",
    "    \n",
    "    # Get last value\n",
    "    last_value = df.loc[df.index[-1], value]\n",
    "    \n",
    "    # Init\n",
    "    fig = go.Figure()\n",
    "    \n",
    "    # Create fig\n",
    "    fig.add_trace(\n",
    "        go.Scatter(\n",
    "            x=df[date].to_list(),\n",
    "            y=df[value].to_list(),\n",
    "            mode=\"lines+text\",\n",
    "            line=dict(color=\"black\"),\n",
    "        )\n",
    "    )\n",
    "    fig.update_traces(marker_color='black')\n",
    "    fig.update_layout(\n",
    "        title=f\"⭐<b> Total number of downloads for naas libraries </b><br><span style='font-size: 13px;'> Total Downloads as of today: {last_value}</span>\",\n",
    "        title_font=dict(family=\"Arial\", size=18, color=\"black\"),\n",
    "        plot_bgcolor=\"#ffffff\",\n",
    "        width=1200,\n",
    "        height=800,\n",
    "        paper_bgcolor=\"white\",\n",
    "        xaxis_title=\"Date\",\n",
    "        xaxis_title_font=dict(family=\"Arial\", size=13, color=\"black\"),\n",
    "        yaxis_title='No. of downloads',\n",
    "        yaxis_title_font=dict(family=\"Arial\", size=13, color=\"black\"),\n",
    "        margin_pad=10,\n",
    "    )\n",
    "    fig.show()\n",
    "    return fig\n",
    "\n",
    "fig = create_linechart(df_downloads, packages, \"date\", \"cumulative_downloads\")"
   ]
  },
  {
   "cell_type": "code",
   "execution_count": null,
   "id": "f7cd5fe6-51e9-4b2b-975d-6d79cbf8aac4",
   "metadata": {},
   "outputs": [],
   "source": []
  }
 ],
 "metadata": {
  "kernelspec": {
   "display_name": "Python 3",
   "language": "python",
   "name": "python3"
  },
  "language_info": {
   "codemirror_mode": {
    "name": "ipython",
    "version": 3
   },
   "file_extension": ".py",
   "mimetype": "text/x-python",
   "name": "python",
   "nbconvert_exporter": "python",
   "pygments_lexer": "ipython3",
   "version": "3.9.6"
  }
 },
 "nbformat": 4,
 "nbformat_minor": 5
}
