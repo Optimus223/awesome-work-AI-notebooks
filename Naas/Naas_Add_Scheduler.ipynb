{
 "cells": [
  {
   "cell_type": "markdown",
   "id": "a6cde7ac-e919-43f8-aa10-1e6da86dd2d3",
   "metadata": {
    "papermill": {},
    "tags": []
   },
   "source": [
    "<img width=\"10%\" alt=\"Naas\" src=\"https://landen.imgix.net/jtci2pxwjczr/assets/5ice39g4.png?w=160\"/>"
   ]
  },
  {
   "cell_type": "markdown",
   "id": "45b4697d-f78e-438c-8d95-adc68380e204",
   "metadata": {
    "papermill": {},
    "tags": []
   },
   "source": [
    "# Naas - Add Scheduler"
   ]
  },
  {
   "cell_type": "markdown",
   "id": "d698ca97-49e1-463f-8398-553bb673f14d",
   "metadata": {
    "papermill": {},
    "tags": []
   },
   "source": [
    "**Tags:** #naas #scheduler #add #python #api #rest"
   ]
  },
  {
   "cell_type": "markdown",
   "id": "f0305b6e-0c15-4f78-8d6d-5657d802a845",
   "metadata": {
    "papermill": {},
    "tags": []
   },
   "source": [
    "**Author:** [Florent Ravenel](https://www.linkedin.com/in/florent-ravenel)"
   ]
  },
  {
   "cell_type": "markdown",
   "id": "1b65b662-59e8-40d7-89cb-ee5da27baeea",
   "metadata": {
    "papermill": {},
    "tags": []
   },
   "source": [
    "**Description:** This notebook will show how to add a scheduler to Naas using Python and the Naas API."
   ]
  },
  {
   "cell_type": "markdown",
   "id": "922ba076-111e-4257-a3ab-b6e22401828d",
   "metadata": {
    "papermill": {},
    "tags": []
   },
   "source": [
    "**References:**\n- [Naas API Documentation](https://naas.com/docs/api)\n- [Naas Scheduler Documentation](https://naas.com/docs/scheduler)"
   ]
  },
  {
   "cell_type": "markdown",
   "id": "3bafb84a-7a71-4306-b80f-84be64c73f96",
   "metadata": {
    "papermill": {},
    "tags": []
   },
   "source": [
    "## Input"
   ]
  },
  {
   "cell_type": "markdown",
   "id": "db9724de-9023-463f-af6c-7e49e330f99a",
   "metadata": {
    "papermill": {},
    "tags": []
   },
   "source": [
    "### Import libraries"
   ]
  },
  {
   "cell_type": "code",
   "execution_count": null,
   "id": "208b1d37-1766-47cf-8167-50e64dfb3edd",
   "metadata": {
    "papermill": {},
    "tags": []
   },
   "source": "import requests\nimport json",
   "outputs": []
  },
  {
   "cell_type": "markdown",
   "id": "e7d65603-5303-45f8-be2d-ae74034d7f9f",
   "metadata": {
    "papermill": {},
    "tags": []
   },
   "source": [
    "### Setup Variables\n- `naas_url`: URL of the Naas instance\n- `naas_token`: Token to access the Naas instance"
   ]
  },
  {
   "cell_type": "code",
   "execution_count": null,
   "id": "eb482a79-df81-4a4a-97ab-ab60b46490a0",
   "metadata": {
    "papermill": {},
    "tags": []
   },
   "source": "naas_url = \"https://naas.com\"\nnaas_token = \"YOUR_TOKEN\"",
   "outputs": []
  },
  {
   "cell_type": "markdown",
   "id": "ae8f9740-36b4-43e9-9c74-c1985e3b0db6",
   "metadata": {
    "papermill": {},
    "tags": []
   },
   "source": [
    "## Model"
   ]
  },
  {
   "cell_type": "markdown",
   "id": "d982f78e-4396-43b4-98bf-433e192dffa6",
   "metadata": {
    "papermill": {},
    "tags": []
   },
   "source": [
    "### Add Scheduler"
   ]
  },
  {
   "cell_type": "markdown",
   "id": "bb771ca6-f2b4-45e4-ab8e-1826dce117d0",
   "metadata": {
    "papermill": {},
    "tags": []
   },
   "source": [
    "This function will add a scheduler to the Naas instance."
   ]
  },
  {
   "cell_type": "code",
   "execution_count": null,
   "id": "31af6deb-b3e4-4d1b-8543-8a5d0e6d7b9b",
   "metadata": {
    "papermill": {},
    "tags": []
   },
   "source": "def add_scheduler(naas_url, naas_token):\n    headers = {\"Authorization\": f\"Bearer {naas_token}\"}\n    data = {\n        \"name\": \"My Scheduler\",\n        \"description\": \"My Scheduler Description\",\n        \"cron\": \"* * * * *\",\n    }\n    response = requests.post(\n        f\"{naas_url}/schedulers\", headers=headers, data=json.dumps(data)\n    )\n    return response",
   "outputs": []
  },
  {
   "cell_type": "markdown",
   "id": "6b303cab-209e-4f0e-82e1-2138026f741b",
   "metadata": {
    "papermill": {},
    "tags": []
   },
   "source": [
    "## Output"
   ]
  },
  {
   "cell_type": "markdown",
   "id": "767d6501-7b0c-4b38-9487-fde6994e3f8a",
   "metadata": {
    "papermill": {},
    "tags": []
   },
   "source": [
    "### Display result"
   ]
  },
  {
   "cell_type": "code",
   "execution_count": null,
   "id": "6440a22b-b99b-418b-ae62-6dc1855f79ac",
   "metadata": {
    "papermill": {},
    "tags": []
   },
   "source": "response = add_scheduler(naas_url, naas_token)\nprint(response.status_code)",
   "outputs": []
  }
 ],
 "metadata": {
  "kernelspec": {
   "display_name": "Python 3",
   "language": "python",
   "name": "python3"
  },
  "language_info": {
   "codemirror_mode": {
    "name": "ipython",
    "version": 3
   },
   "file_extension": ".py",
   "mimetype": "text/x-python",
   "name": "python",
   "nbconvert_exporter": "python",
   "pygments_lexer": "ipython3",
   "version": "3.9.6"
  },
  "widgets": {
   "application/vnd.jupyter.widget-state+json": {
    "state": {},
    "version_major": 2,
    "version_minor": 0
   }
  }
 },
 "nbformat": 4,
 "nbformat_minor": 5
}