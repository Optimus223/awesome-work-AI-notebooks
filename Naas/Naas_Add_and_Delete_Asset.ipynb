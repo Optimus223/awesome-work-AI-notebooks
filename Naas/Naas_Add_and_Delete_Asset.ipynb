{
 "cells": [
  {
   "cell_type": "markdown",
   "id": "e4353e89-7fdb-4793-ac0e-749cf853334d",
   "metadata": {
    "papermill": {},
    "tags": []
   },
   "source": [
    "<img width=\"10%\" alt=\"Naas\" src=\"https://landen.imgix.net/jtci2pxwjczr/assets/5ice39g4.png?w=160\"/>"
   ]
  },
  {
   "cell_type": "markdown",
   "id": "b15aee72-b60b-437a-933f-742bb8c77753",
   "metadata": {
    "papermill": {},
    "tags": []
   },
   "source": [
    "# Naas - Add and Delete Asset"
   ]
  },
  {
   "cell_type": "markdown",
   "id": "a52c9644-b2ad-4b42-8fc8-1a3c97e7ec0e",
   "metadata": {
    "papermill": {},
    "tags": []
   },
   "source": [
    "**Tags:** #naas #asset #add #delete #python #api"
   ]
  },
  {
   "cell_type": "markdown",
   "id": "2f7b04f7-c8cc-40e4-9656-2473f1a1b876",
   "metadata": {
    "papermill": {},
    "tags": []
   },
   "source": [
    "**Author:** [Florent Ravenel](https://www.linkedin.com/in/florent-ravenel/)"
   ]
  },
  {
   "cell_type": "markdown",
   "id": "3254dbc3-9bda-4c46-b502-60674af26293",
   "metadata": {
    "papermill": {},
    "tags": []
   },
   "source": [
    "**Description:** This notebook will show how to add and delete naas.asset using Python."
   ]
  },
  {
   "cell_type": "markdown",
   "id": "96d8b325-710d-48b7-86dd-33f6bf13d5ba",
   "metadata": {
    "papermill": {},
    "tags": []
   },
   "source": [
    "**References:**\n- [Naas Documentation](https://naas.com/docs)\n- [Naas API Reference](https://naas.com/reference)"
   ]
  },
  {
   "cell_type": "markdown",
   "id": "5743c43b-4c39-4f7c-88e2-018febe5e62d",
   "metadata": {
    "papermill": {},
    "tags": []
   },
   "source": [
    "## Input"
   ]
  },
  {
   "cell_type": "markdown",
   "id": "fd7ab21f-4357-456f-a88f-9c217c927747",
   "metadata": {
    "papermill": {},
    "tags": []
   },
   "source": [
    "### Import libraries"
   ]
  },
  {
   "cell_type": "code",
   "execution_count": null,
   "id": "adbc5287-df20-4caf-8027-6eca7a9a4bf0",
   "metadata": {
    "papermill": {},
    "tags": []
   },
   "source": "import requests\nimport json",
   "outputs": []
  },
  {
   "cell_type": "markdown",
   "id": "a2175f87-922d-43d6-b8e9-0cba5f17b9fc",
   "metadata": {
    "papermill": {},
    "tags": []
   },
   "source": [
    "### Setup Variables\n- `naas_url`: URL of the Naas instance\n- `token`: Token to access the Naas instance"
   ]
  },
  {
   "cell_type": "markdown",
   "id": "9407bef3-86cd-4ec0-a4d5-8483e71e389e",
   "metadata": {
    "papermill": {},
    "tags": []
   },
   "source": [
    "[How to get the token](https://naas.com/docs/authentication)"
   ]
  },
  {
   "cell_type": "code",
   "execution_count": null,
   "id": "d7de52ea-bad4-4a13-83d5-93bbf76b9f14",
   "metadata": {
    "papermill": {},
    "tags": []
   },
   "source": "naas_url = \"https://naas.com\"\ntoken = \"YOUR_TOKEN\"",
   "outputs": []
  },
  {
   "cell_type": "markdown",
   "id": "0a302d85-1d55-4dc9-a2a7-171fb0ce8076",
   "metadata": {
    "papermill": {},
    "tags": []
   },
   "source": [
    "## Model"
   ]
  },
  {
   "cell_type": "markdown",
   "id": "53d7b6e9-9d11-4f35-9fc0-dd808b942b25",
   "metadata": {
    "papermill": {},
    "tags": []
   },
   "source": [
    "### Add Asset"
   ]
  },
  {
   "cell_type": "markdown",
   "id": "0dbae2d3-63c3-465a-9d09-82d3a7a74bc1",
   "metadata": {
    "papermill": {},
    "tags": []
   },
   "source": [
    "This function will add an asset to the Naas instance."
   ]
  },
  {
   "cell_type": "code",
   "execution_count": null,
   "id": "700632d6-93be-45a3-9c74-31b6ae991b36",
   "metadata": {
    "papermill": {},
    "tags": []
   },
   "source": "def add_asset(naas_url, token, asset_name):\n    headers = {\"Authorization\": f\"Bearer {token}\"}\n    data = {\"data\": {\"type\": \"assets\", \"attributes\": {\"name\": asset_name}}}\n    response = requests.post(\n        f\"{naas_url}/assets\", headers=headers, data=json.dumps(data)\n    )\n    return response",
   "outputs": []
  },
  {
   "cell_type": "markdown",
   "id": "9cb2a698-a2ba-48f4-a9fe-e6b3196023b5",
   "metadata": {
    "papermill": {},
    "tags": []
   },
   "source": [
    "### Delete Asset"
   ]
  },
  {
   "cell_type": "markdown",
   "id": "4db2f166-3d48-4eea-90e0-1fc74dc646b6",
   "metadata": {
    "papermill": {},
    "tags": []
   },
   "source": [
    "This function will delete an asset from the Naas instance."
   ]
  },
  {
   "cell_type": "code",
   "execution_count": null,
   "id": "809468e1-12e8-441d-afe1-7df4ea7a36ee",
   "metadata": {
    "papermill": {},
    "tags": []
   },
   "source": "def delete_asset(naas_url, token, asset_id):\n    headers = {\"Authorization\": f\"Bearer {token}\"}\n    response = requests.delete(f\"{naas_url}/assets/{asset_id}\", headers=headers)\n    return response",
   "outputs": []
  },
  {
   "cell_type": "markdown",
   "id": "49629bac-113f-4697-bdf9-df1f194202b3",
   "metadata": {
    "papermill": {},
    "tags": []
   },
   "source": [
    "## Output"
   ]
  },
  {
   "cell_type": "markdown",
   "id": "abf53e1f-3e09-49aa-92ab-4bdbdcb978bf",
   "metadata": {
    "papermill": {},
    "tags": []
   },
   "source": [
    "### Display result"
   ]
  },
  {
   "cell_type": "code",
   "execution_count": null,
   "id": "122579b3-4f8b-42a0-a0d2-82786b53993b",
   "metadata": {
    "papermill": {},
    "tags": []
   },
   "source": "# Add asset\nresponse = add_asset(naas_url, token, \"My Asset\")\nprint(f\"Add asset response status code: {response.status_code}\")\n# Delete asset\nasset_id = \"ASSET_ID\"\nresponse = delete_asset(naas_url, token, asset_id)\nprint(f\"Delete asset response status code: {response.status_code}\")",
   "outputs": []
  },
  {
   "cell_type": "markdown",
   "id": "450ba3a9-1f1e-43e6-a83e-8ed734c740a5",
   "metadata": {
    "papermill": {},
    "tags": []
   },
   "source": [
    " "
   ]
  }
 ],
 "metadata": {
  "kernelspec": {
   "display_name": "Python 3",
   "language": "python",
   "name": "python3"
  },
  "language_info": {
   "codemirror_mode": {
    "name": "ipython",
    "version": 3
   },
   "file_extension": ".py",
   "mimetype": "text/x-python",
   "name": "python",
   "nbconvert_exporter": "python",
   "pygments_lexer": "ipython3",
   "version": "3.9.6"
  },
  "widgets": {
   "application/vnd.jupyter.widget-state+json": {
    "state": {},
    "version_major": 2,
    "version_minor": 0
   }
  }
 },
 "nbformat": 4,
 "nbformat_minor": 5
}