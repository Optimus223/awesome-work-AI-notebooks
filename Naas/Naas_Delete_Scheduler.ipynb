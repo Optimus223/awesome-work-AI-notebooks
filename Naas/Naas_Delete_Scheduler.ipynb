{
 "cells": [
  {
   "cell_type": "markdown",
   "id": "2cef10e8-a573-4aaf-99cd-ea641e0e2cd7",
   "metadata": {
    "papermill": {},
    "tags": []
   },
   "source": [
    "<img width=\"10%\" alt=\"Naas\" src=\"https://landen.imgix.net/jtci2pxwjczr/assets/5ice39g4.png?w=160\"/>"
   ]
  },
  {
   "cell_type": "markdown",
   "id": "497e762a-cb6b-44c0-96da-86658fbd03a2",
   "metadata": {
    "papermill": {},
    "tags": []
   },
   "source": [
    "# Naas - Delete Scheduler"
   ]
  },
  {
   "cell_type": "markdown",
   "id": "364a2ea3-3ad6-41d6-b7fe-da0cb801466b",
   "metadata": {
    "papermill": {},
    "tags": []
   },
   "source": [
    "**Tags:** #naas #delete #scheduler #automation #tool #library"
   ]
  },
  {
   "cell_type": "markdown",
   "id": "e8767133-e4c4-4f55-8fd4-60351aa45979",
   "metadata": {
    "papermill": {},
    "tags": []
   },
   "source": [
    "**Author:** [Florent Ravenel](https://www.linkedin.com/in/florent-ravenel)"
   ]
  },
  {
   "cell_type": "markdown",
   "id": "78f1675e-056a-4913-b39f-058a4da749b6",
   "metadata": {
    "papermill": {},
    "tags": []
   },
   "source": [
    "**Description:** This notebook will show how to delete an automation using Naas."
   ]
  },
  {
   "cell_type": "markdown",
   "id": "d0fba53e-5a63-4569-bf2c-3c3ab3da14e6",
   "metadata": {
    "papermill": {},
    "tags": []
   },
   "source": [
    "**References:**\n- [Naas Documentation](https://naas.com/docs)\n- [Naas API Reference](https://naas.com/api)"
   ]
  },
  {
   "cell_type": "markdown",
   "id": "c943e949-b0d9-4574-9042-070d85b980fc",
   "metadata": {
    "papermill": {},
    "tags": []
   },
   "source": [
    "## Input"
   ]
  },
  {
   "cell_type": "markdown",
   "id": "c433be63-b9a5-40d9-b571-57d416655787",
   "metadata": {
    "papermill": {},
    "tags": []
   },
   "source": [
    "### Import libraries"
   ]
  },
  {
   "cell_type": "code",
   "execution_count": null,
   "id": "cd738e31-7e51-49c3-9978-5483621792ca",
   "metadata": {
    "papermill": {},
    "tags": []
   },
   "source": "import requests\nimport json",
   "outputs": []
  },
  {
   "cell_type": "markdown",
   "id": "0a7e97df-74d3-40dd-9b91-b7692e0b0a03",
   "metadata": {
    "papermill": {},
    "tags": []
   },
   "source": [
    "### Setup Variables\n- `naas_token`: [Naas Token](https://naas.com/docs/authentication#section-token)\n- `scheduler_id`: ID of the scheduler to delete"
   ]
  },
  {
   "cell_type": "code",
   "execution_count": null,
   "id": "d7037708-2f67-49b1-9d40-4a0a3381ea19",
   "metadata": {
    "papermill": {},
    "tags": []
   },
   "source": "naas_token = \"YOUR_NAAS_TOKEN\"\nscheduler_id = \"YOUR_SCHEDULER_ID\"",
   "outputs": []
  },
  {
   "cell_type": "markdown",
   "id": "0cd7c242-ce94-4ace-a65a-6ddcc8943ef0",
   "metadata": {
    "papermill": {},
    "tags": []
   },
   "source": [
    "## Model"
   ]
  },
  {
   "cell_type": "markdown",
   "id": "6f142f96-bbc6-47e7-a233-da93f6f7fbdb",
   "metadata": {
    "papermill": {},
    "tags": []
   },
   "source": [
    "### Delete Scheduler"
   ]
  },
  {
   "cell_type": "markdown",
   "id": "780bad06-b434-4c17-b156-7e29e2b70f3d",
   "metadata": {
    "papermill": {},
    "tags": []
   },
   "source": [
    "This function will delete the scheduler with the given ID."
   ]
  },
  {
   "cell_type": "code",
   "execution_count": null,
   "id": "9183acc7-3649-41dc-becb-22ea3e42931a",
   "metadata": {
    "papermill": {},
    "tags": []
   },
   "source": "def delete_scheduler(naas_token, scheduler_id):\n    url = f\"https://naas.com/api/v1/schedulers/{scheduler_id}\"\n    headers = {\"Authorization\": f\"Bearer {naas_token}\"}\n    response = requests.delete(url, headers=headers)\n    return response",
   "outputs": []
  },
  {
   "cell_type": "markdown",
   "id": "241ee691-ce49-4b73-b90b-6d0c0e89aa16",
   "metadata": {
    "papermill": {},
    "tags": []
   },
   "source": [
    "## Output"
   ]
  },
  {
   "cell_type": "markdown",
   "id": "4c868416-2ad8-4c33-86dc-ea3587b6f235",
   "metadata": {
    "papermill": {},
    "tags": []
   },
   "source": [
    "### Display result"
   ]
  },
  {
   "cell_type": "code",
   "execution_count": null,
   "id": "d4014293-f616-4b73-b2ae-e475d7e48b2f",
   "metadata": {
    "papermill": {},
    "tags": []
   },
   "source": "response = delete_scheduler(naas_token, scheduler_id)\nprint(response.status_code)",
   "outputs": []
  },
  {
   "cell_type": "markdown",
   "id": "c7148382-aa9f-45da-81f0-c69376df74bf",
   "metadata": {
    "papermill": {},
    "tags": []
   },
   "source": [
    " "
   ]
  }
 ],
 "metadata": {
  "kernelspec": {
   "display_name": "Python 3",
   "language": "python",
   "name": "python3"
  },
  "language_info": {
   "codemirror_mode": {
    "name": "ipython",
    "version": 3
   },
   "file_extension": ".py",
   "mimetype": "text/x-python",
   "name": "python",
   "nbconvert_exporter": "python",
   "pygments_lexer": "ipython3",
   "version": "3.9.6"
  },
  "widgets": {
   "application/vnd.jupyter.widget-state+json": {
    "state": {},
    "version_major": 2,
    "version_minor": 0
   }
  }
 },
 "nbformat": 4,
 "nbformat_minor": 5
}