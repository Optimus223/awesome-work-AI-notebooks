{
 "cells": [
  {
   "cell_type": "markdown",
   "id": "injured-evolution",
   "metadata": {
    "papermill": {},
    "tags": []
   },
   "source": [
    "<img width=\"10%\" alt=\"Naas\" src=\"https://landen.imgix.net/jtci2pxwjczr/assets/5ice39g4.png?w=160\"/>"
   ]
  },
  {
   "cell_type": "markdown",
   "id": "substantial-decline",
   "metadata": {
    "papermill": {},
    "tags": []
   },
   "source": [
    "# Naas - Content Engine Configuration\n",
    "<a href=\"https://app.naas.ai/user-redirect/naas/downloader?url=https://raw.githubusercontent.com/jupyter-naas/awesome-notebooks/master/Naas/Naas_Secret_demo.ipynb\" target=\"_parent\"><img src=\"https://naasai-public.s3.eu-west-3.amazonaws.com/open_in_naas.svg\"/></a>"
   ]
  },
  {
   "cell_type": "markdown",
   "id": "00619b69-5ce8-417a-b8b1-c81af6342f9c",
   "metadata": {
    "papermill": {},
    "tags": []
   },
   "source": [
    "**Tags:** #naas #automation #linkedin #youtube #twitter #snapchat #instagram #facebook #tiktok"
   ]
  },
  {
   "cell_type": "markdown",
   "id": "1446840e-74d1-4c76-afb6-4752a6b4a0c4",
   "metadata": {
    "papermill": {},
    "tags": []
   },
   "source": [
    "**Author:** [Florent Ravenel](https://www.linkedin.com/in/florent-ravenel/)"
   ]
  },
  {
   "cell_type": "markdown",
   "id": "dd3d4d6a-f15d-47f9-83ac-4208edf13bf9",
   "metadata": {
    "tags": []
   },
   "source": [
    "This notebook allows you to download the [Content Engine](https://github.com/jupyter-naas/naas-content-engine) on your naas."
   ]
  },
  {
   "cell_type": "markdown",
   "id": "9dff654e-e349-475f-be47-13b889672861",
   "metadata": {
    "tags": []
   },
   "source": [
    "## Input"
   ]
  },
  {
   "cell_type": "markdown",
   "id": "310bb257-8558-4452-b177-082c6e06caec",
   "metadata": {},
   "source": [
    "#### Define your project name"
   ]
  },
  {
   "cell_type": "code",
   "execution_count": 1,
   "id": "23f3279e-0aa8-4aaa-924b-017065949957",
   "metadata": {
    "execution": {
     "iopub.execute_input": "2022-08-02T09:13:07.671797Z",
     "iopub.status.busy": "2022-08-02T09:13:07.671504Z",
     "iopub.status.idle": "2022-08-02T09:13:07.679377Z",
     "shell.execute_reply": "2022-08-02T09:13:07.678751Z",
     "shell.execute_reply.started": "2022-08-02T09:13:07.671731Z"
    },
    "tags": []
   },
   "outputs": [],
   "source": [
    "PROJECT_NAME = \"Naas Content Engine\""
   ]
  },
  {
   "cell_type": "markdown",
   "id": "c3e697f6-b6c0-4617-98fd-c091f2dfc3e9",
   "metadata": {
    "tags": []
   },
   "source": [
    "## Model"
   ]
  },
  {
   "cell_type": "markdown",
   "id": "c057adf8-c30e-40ec-84ae-6814f08af96b",
   "metadata": {
    "execution": {
     "iopub.execute_input": "2022-07-14T14:43:17.864872Z",
     "iopub.status.busy": "2022-07-14T14:43:17.864631Z",
     "iopub.status.idle": "2022-07-14T14:43:17.867825Z",
     "shell.execute_reply": "2022-07-14T14:43:17.867167Z",
     "shell.execute_reply.started": "2022-07-14T14:43:17.864848Z"
    }
   },
   "source": [
    "#### Download project on your naas"
   ]
  },
  {
   "cell_type": "code",
   "execution_count": 2,
   "id": "e096b140-0418-4538-a66d-07c22b0ccbb9",
   "metadata": {
    "execution": {
     "iopub.execute_input": "2022-08-02T09:13:12.086087Z",
     "iopub.status.busy": "2022-08-02T09:13:12.085858Z",
     "iopub.status.idle": "2022-08-02T09:13:17.644435Z",
     "shell.execute_reply": "2022-08-02T09:13:17.643708Z",
     "shell.execute_reply.started": "2022-08-02T09:13:12.086064Z"
    },
    "jupyter": {
     "source_hidden": true
    },
    "tags": []
   },
   "outputs": [
    {
     "data": {
      "application/vnd.jupyter.widget-view+json": {
       "model_id": "be7cbc7913894a0384bfd80c0dd95e07",
       "version_major": 2,
       "version_minor": 0
      },
      "text/plain": [
       "Button(description='Download project', style=ButtonStyle())"
      ]
     },
     "metadata": {},
     "output_type": "display_data"
    },
    {
     "data": {
      "application/vnd.jupyter.widget-view+json": {
       "model_id": "18b7d7bcac0249849ae98144a6aae56c",
       "version_major": 2,
       "version_minor": 0
      },
      "text/plain": [
       "Output()"
      ]
     },
     "metadata": {},
     "output_type": "display_data"
    }
   ],
   "source": [
    "from IPython.display import display\n",
    "from ipywidgets import widgets\n",
    "import glob\n",
    "import naas\n",
    "from os import path\n",
    "\n",
    "output = widgets.Output()\n",
    "\n",
    "GIT_REPO_PATH = path.join(\"/\", \"home\", \"ftp\", PROJECT_NAME)\n",
    "\n",
    "def push_secrets():\n",
    "    naas.secret.add(\"GIT_REPO_NAME\", PROJECT_NAME)\n",
    "    naas.secret.add(\"GIT_REPO_PATH\", GIT_REPO_PATH)\n",
    "    \n",
    "def clone_github():\n",
    "    !git clone \"https://github.com/jupyter-naas/naas-content-engine.git\" \"$GIT_REPO_PATH\"\n",
    "\n",
    "def update_project(btn):\n",
    "    output.clear_output()\n",
    "    \n",
    "    # Push secrets\n",
    "    push_secrets()\n",
    "    with output:\n",
    "        print(\"✅ Secrets successfully pushed to Naas!\")\n",
    "    \n",
    "    # Update repository\n",
    "    clone_github()\n",
    "    with output:\n",
    "        print(\"✅ Update project successfull!\")\n",
    "\n",
    "button = widgets.Button(description=\"Download project\")\n",
    "button.on_click(update_project)\n",
    "display(button, output)"
   ]
  },
  {
   "cell_type": "markdown",
   "id": "d6e753b6-8c3c-4bba-b0cf-92b8699dff32",
   "metadata": {
    "execution": {
     "iopub.execute_input": "2022-08-02T09:13:36.117662Z",
     "iopub.status.busy": "2022-08-02T09:13:36.117409Z",
     "iopub.status.idle": "2022-08-02T09:13:36.121450Z",
     "shell.execute_reply": "2022-08-02T09:13:36.120659Z",
     "shell.execute_reply.started": "2022-08-02T09:13:36.117626Z"
    }
   },
   "source": [
    "## Output"
   ]
  },
  {
   "cell_type": "code",
   "execution_count": null,
   "id": "a4c52e8a-176d-46dc-8ba5-188d96a612b3",
   "metadata": {},
   "outputs": [],
   "source": []
  }
 ],
 "metadata": {
  "kernelspec": {
   "display_name": "Python 3",
   "language": "python",
   "name": "python3"
  },
  "language_info": {
   "codemirror_mode": {
    "name": "ipython",
    "version": 3
   },
   "file_extension": ".py",
   "mimetype": "text/x-python",
   "name": "python",
   "nbconvert_exporter": "python",
   "pygments_lexer": "ipython3",
   "version": "3.9.6"
  },
  "naas": {
   "notebook_id": "77b7f93a-fb2a-483e-b98b-80735e426a64",
   "notebook_path": "Naas/Naas_Secret_demo.ipynb"
  },
  "papermill": {
   "default_parameters": {},
   "environment_variables": {},
   "parameters": {},
   "version": "2.3.3"
  },
  "toc-autonumbering": false,
  "widgets": {
   "application/vnd.jupyter.widget-state+json": {
    "state": {},
    "version_major": 2,
    "version_minor": 0
   }
  }
 },
 "nbformat": 4,
 "nbformat_minor": 5
}
