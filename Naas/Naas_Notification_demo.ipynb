{
 "cells": [
  {
   "cell_type": "markdown",
   "id": "universal-waste",
   "metadata": {
    "papermill": {},
    "tags": []
   },
   "source": [
    "<img width=\"10%\" alt=\"Naas\" src=\"https://landen.imgix.net/jtci2pxwjczr/assets/5ice39g4.png?w=160\"/>\n"
   ]
  },
  {
   "cell_type": "markdown",
   "id": "norwegian-stack",
   "metadata": {
    "papermill": {},
    "tags": []
   },
   "source": [
    "# Naas - Notification demo\n",
    "<a href=\"https://app.naas.ai/user-redirect/naas/downloader?url=https://raw.githubusercontent.com/jupyter-naas/awesome-notebooks/master/Naas/Naas_Notification_demo.ipynb\" target=\"_parent\"><img src=\"https://img.shields.io/badge/-Open%20in%20Naas-success?labelColor=000000&logo=data:image/svg+xml;base64,PD94bWwgdmVyc2lvbj0iMS4wIiBlbmNvZGluZz0iVVRGLTgiPz4KPHN2ZyB3aWR0aD0iMTAyNHB4IiBoZWlnaHQ9IjEwMjRweCIgdmlld0JveD0iMCAwIDEwMjQgMTAyNCIgeG1sbnM9Imh0dHA6Ly93d3cudzMub3JnLzIwMDAvc3ZnIiB4bWxuczp4bGluaz0iaHR0cDovL3d3dy53My5vcmcvMTk5OS94bGluayIgdmVyc2lvbj0iMS4xIj4KIDwhLS0gR2VuZXJhdGVkIGJ5IFBpeGVsbWF0b3IgUHJvIDIuMC41IC0tPgogPGRlZnM+CiAgPHRleHQgaWQ9InN0cmluZyIgdHJhbnNmb3JtPSJtYXRyaXgoMS4wIDAuMCAwLjAgMS4wIDIyOC4wIDU0LjUpIiBmb250LWZhbWlseT0iQ29tZm9ydGFhLVJlZ3VsYXIsIENvbWZvcnRhYSIgZm9udC1zaXplPSI4MDAiIHRleHQtZGVjb3JhdGlvbj0ibm9uZSIgZmlsbD0iI2ZmZmZmZiIgeD0iMS4xOTk5OTk5OTk5OTk5ODg2IiB5PSI3MDUuMCI+bjwvdGV4dD4KIDwvZGVmcz4KIDx1c2UgaWQ9Im4iIHhsaW5rOmhyZWY9IiNzdHJpbmciLz4KPC9zdmc+Cg==\"/></a>"
   ]
  },
  {
   "cell_type": "markdown",
   "id": "9e7095b3-05ee-4f51-ab76-a628cc1cf4a3",
   "metadata": {},
   "source": [
    "**Tags:** #naas #notification"
   ]
  },
  {
   "cell_type": "markdown",
   "id": "comic-phase",
   "metadata": {
    "papermill": {},
    "tags": []
   },
   "source": [
    "Read the doc: https://docs.naas.ai/features/scheduler\n",
    "<br>\n",
    "Note: use ''' around your content for HTML"
   ]
  },
  {
   "cell_type": "markdown",
   "id": "56de70b5-f256-4c96-a700-19f159ff389b",
   "metadata": {},
   "source": [
    "## Input"
   ]
  },
  {
   "cell_type": "markdown",
   "id": "import_cell",
   "metadata": {
    "papermill": {},
    "tags": []
   },
   "source": [
    "### Import library"
   ]
  },
  {
   "cell_type": "code",
   "execution_count": null,
   "id": "greatest-story",
   "metadata": {
    "papermill": {},
    "tags": []
   },
   "outputs": [],
   "source": [
    "import naas"
   ]
  },
  {
   "cell_type": "markdown",
   "id": "531029b2-eb85-4f13-872f-ccf74bff78a6",
   "metadata": {},
   "source": [
    "## Model"
   ]
  },
  {
   "cell_type": "markdown",
   "id": "9de8c884-41f0-4977-b592-8b67ea78dcdb",
   "metadata": {},
   "source": [
    "### Notification informations"
   ]
  },
  {
   "cell_type": "code",
   "execution_count": null,
   "id": "cubic-premiere",
   "metadata": {
    "papermill": {},
    "tags": []
   },
   "outputs": [],
   "source": [
    "email_to = \"jeremy@acme.com\"\n",
    "subject = \"🛎️ Naas Notification Test 🚨\"\n",
    "content ='''<p>If i can see an image below this text...&nbsp;</p>\n",
    "<p><img src=\"https://specials-images.forbesimg.com/imageserve/5f1f37a40a5db2c8275972c0/960x0.jpg?fit=scale\" alt=\"\" width=\"959\" height=\"663\" /></p><br>\n",
    "...it means everything goes well.'''"
   ]
  },
  {
   "cell_type": "markdown",
   "id": "b3abe325-fbbe-42dd-877e-4b9587c7efba",
   "metadata": {},
   "source": [
    "## Output"
   ]
  },
  {
   "cell_type": "markdown",
   "id": "display_cell",
   "metadata": {
    "papermill": {},
    "tags": []
   },
   "source": [
    "### Send the notification"
   ]
  },
  {
   "cell_type": "code",
   "execution_count": null,
   "id": "c48da7fc-f243-4c05-bc68-1c20abe7f573",
   "metadata": {},
   "outputs": [],
   "source": [
    "naas.notification.send(email_to, subject, content)"
   ]
  }
 ],
 "metadata": {
  "kernelspec": {
   "display_name": "Python 3",
   "language": "python",
   "name": "python3"
  },
  "language_info": {
   "codemirror_mode": {
    "name": "ipython",
    "version": 3
   },
   "file_extension": ".py",
   "mimetype": "text/x-python",
   "name": "python",
   "nbconvert_exporter": "python",
   "pygments_lexer": "ipython3",
   "version": "3.8.8"
  },
  "papermill": {
   "default_parameters": {},
   "environment_variables": {},
   "parameters": {},
   "version": "2.3.3"
  },
  "widgets": {
   "application/vnd.jupyter.widget-state+json": {
    "state": {},
    "version_major": 2,
    "version_minor": 0
   }
  }
 },
 "nbformat": 4,
 "nbformat_minor": 5
}
