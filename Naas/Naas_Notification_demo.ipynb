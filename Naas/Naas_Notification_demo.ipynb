{
 "cells": [
  {
   "cell_type": "markdown",
   "id": "universal-waste",
   "metadata": {
    "papermill": {},
    "tags": []
   },
   "source": [
    "<img width=\"10%\" alt=\"Naas\" src=\"https://landen.imgix.net/jtci2pxwjczr/assets/5ice39g4.png?w=160\"/>\n"
   ]
  },
  {
   "cell_type": "markdown",
   "id": "norwegian-stack",
   "metadata": {
    "papermill": {},
    "tags": []
   },
   "source": [
    "# Naas - Notification demo\n",
    "<a href=\"https://app.naas.ai/user-redirect/naas/downloader?url=https://raw.githubusercontent.com/jupyter-naas/awesome-notebooks/master/Naas/Naas_Notification_demo.ipynb\" target=\"_parent\"><img src=\"https://img.shields.io/badge/-Open%20in%20Naas-success?labelColor=000000&logo=data:image/svg+xml;base64,PD94bWwgdmVyc2lvbj0iMS4wIiBlbmNvZGluZz0iVVRGLTgiPz4KPHN2ZyB3aWR0aD0iMTAyNHB4IiBoZWlnaHQ9IjEwMjRweCIgdmlld0JveD0iMCAwIDEwMjQgMTAyNCIgeG1sbnM9Imh0dHA6Ly93d3cudzMub3JnLzIwMDAvc3ZnIiB4bWxuczp4bGluaz0iaHR0cDovL3d3dy53My5vcmcvMTk5OS94bGluayIgdmVyc2lvbj0iMS4xIj4KIDwhLS0gR2VuZXJhdGVkIGJ5IFBpeGVsbWF0b3IgUHJvIDIuMC41IC0tPgogPGRlZnM+CiAgPHRleHQgaWQ9InN0cmluZyIgdHJhbnNmb3JtPSJtYXRyaXgoMS4wIDAuMCAwLjAgMS4wIDIyOC4wIDU0LjUpIiBmb250LWZhbWlseT0iQ29tZm9ydGFhLVJlZ3VsYXIsIENvbWZvcnRhYSIgZm9udC1zaXplPSI4MDAiIHRleHQtZGVjb3JhdGlvbj0ibm9uZSIgZmlsbD0iI2ZmZmZmZiIgeD0iMS4xOTk5OTk5OTk5OTk5ODg2IiB5PSI3MDUuMCI+bjwvdGV4dD4KIDwvZGVmcz4KIDx1c2UgaWQ9Im4iIHhsaW5rOmhyZWY9IiNzdHJpbmciLz4KPC9zdmc+Cg==\"/></a>"
   ]
  },
  {
   "cell_type": "markdown",
   "id": "comic-phase",
   "metadata": {
    "papermill": {},
    "tags": []
   },
   "source": [
    "Read the doc: https://docs.naas.ai/features/scheduler\n",
    "<br>\n",
    "Note: use ''' around your content for HTML"
   ]
  },
  {
   "cell_type": "code",
   "execution_count": 1,
   "id": "greatest-story",
   "metadata": {
    "execution": {
     "iopub.execute_input": "2021-08-31T10:10:27.271007Z",
     "iopub.status.busy": "2021-08-31T10:10:27.270566Z",
     "iopub.status.idle": "2021-08-31T10:10:30.059604Z",
     "shell.execute_reply": "2021-08-31T10:10:30.058974Z",
     "shell.execute_reply.started": "2021-08-31T10:10:27.270927Z"
    },
    "papermill": {},
    "tags": []
   },
   "outputs": [],
   "source": [
    "import naas"
   ]
  },
  {
   "cell_type": "code",
   "execution_count": 2,
   "id": "cubic-premiere",
   "metadata": {
    "execution": {
     "iopub.execute_input": "2021-08-31T10:10:30.061186Z",
     "iopub.status.busy": "2021-08-31T10:10:30.060934Z",
     "iopub.status.idle": "2021-08-31T10:10:30.360469Z",
     "shell.execute_reply": "2021-08-31T10:10:30.359786Z",
     "shell.execute_reply.started": "2021-08-31T10:10:30.061156Z"
    },
    "papermill": {},
    "tags": []
   },
   "outputs": [],
   "source": [
    "email_to = \"jeremy@acme.com\"\n",
    "subject = \"🛎️ Naas Notification Test 🚨\"\n",
    "content ='''<p>If i can see an image below this text...&nbsp;</p>\n",
    "<p><img src=\"https://specials-images.forbesimg.com/imageserve/5f1f37a40a5db2c8275972c0/960x0.jpg?fit=scale\" alt=\"\" width=\"959\" height=\"663\" /></p><br>\n",
    "...it means everything goes well.'''\n",
    "\n",
    "naas.notification.send(email_to, subject, content)"
   ]
  }
 ],
 "metadata": {
  "kernelspec": {
   "display_name": "Python 3",
   "language": "python",
   "name": "python3"
  },
  "language_info": {
   "codemirror_mode": {
    "name": "ipython",
    "version": 3
   },
   "file_extension": ".py",
   "mimetype": "text/x-python",
   "name": "python",
   "nbconvert_exporter": "python",
   "pygments_lexer": "ipython3",
   "version": "3.8.8"
  },
  "papermill": {
   "default_parameters": {},
   "environment_variables": {},
   "parameters": {},
   "version": "2.3.3"
  },
  "widgets": {
   "application/vnd.jupyter.widget-state+json": {
    "state": {},
    "version_major": 2,
    "version_minor": 0
   }
  }
 },
 "nbformat": 4,
 "nbformat_minor": 5
}