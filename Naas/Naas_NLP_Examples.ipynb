{
 "cells": [
  {
   "cell_type": "markdown",
   "id": "forced-wallet",
   "metadata": {
    "papermill": {},
    "tags": []
   },
   "source": [
    "# Naas - NLP Examples\n",
    "<a href=\"https://app.naas.ai/user-redirect/naas/downloader?url=https://raw.githubusercontent.com/jupyter-naas/awesome-notebooks/master/Naas/Naas_NLP_Example.ipynb\" target=\"_parent\"><img src=\"https://img.shields.io/badge/-Open%20in%20Naas-success?labelColor=000000&logo=data:image/svg+xml;base64,PD94bWwgdmVyc2lvbj0iMS4wIiBlbmNvZGluZz0iVVRGLTgiPz4KPHN2ZyB3aWR0aD0iMTAyNHB4IiBoZWlnaHQ9IjEwMjRweCIgdmlld0JveD0iMCAwIDEwMjQgMTAyNCIgeG1sbnM9Imh0dHA6Ly93d3cudzMub3JnLzIwMDAvc3ZnIiB4bWxuczp4bGluaz0iaHR0cDovL3d3dy53My5vcmcvMTk5OS94bGluayIgdmVyc2lvbj0iMS4xIj4KIDwhLS0gR2VuZXJhdGVkIGJ5IFBpeGVsbWF0b3IgUHJvIDIuMC41IC0tPgogPGRlZnM+CiAgPHRleHQgaWQ9InN0cmluZyIgdHJhbnNmb3JtPSJtYXRyaXgoMS4wIDAuMCAwLjAgMS4wIDIyOC4wIDU0LjUpIiBmb250LWZhbWlseT0iQ29tZm9ydGFhLVJlZ3VsYXIsIENvbWZvcnRhYSIgZm9udC1zaXplPSI4MDAiIHRleHQtZGVjb3JhdGlvbj0ibm9uZSIgZmlsbD0iI2ZmZmZmZiIgeD0iMS4xOTk5OTk5OTk5OTk5ODg2IiB5PSI3MDUuMCI+bjwvdGV4dD4KIDwvZGVmcz4KIDx1c2UgaWQ9Im4iIHhsaW5rOmhyZWY9IiNzdHJpbmciLz4KPC9zdmc+Cg==\"/></a>"
   ]
  },
  {
   "cell_type": "markdown",
   "id": "featured-creation",
   "metadata": {},
   "source": [
    "'#nlp #huggingface #api #models #transformers"
   ]
  },
  {
   "cell_type": "code",
   "execution_count": 1,
   "id": "mobile-search",
   "metadata": {
    "execution": {
     "iopub.execute_input": "2021-08-06T17:40:38.421664Z",
     "iopub.status.busy": "2021-08-06T17:40:38.421226Z",
     "iopub.status.idle": "2021-08-06T17:40:54.897359Z",
     "shell.execute_reply": "2021-08-06T17:40:54.894543Z",
     "shell.execute_reply.started": "2021-08-06T17:40:38.421563Z"
    },
    "papermill": {},
    "tags": []
   },
   "outputs": [],
   "source": [
    "from naas_drivers import nlp"
   ]
  },
  {
   "cell_type": "markdown",
   "id": "suitable-first",
   "metadata": {
    "papermill": {},
    "tags": []
   },
   "source": [
    "## How it works?\n",
    "Naas NLP formulas follow this format.\n",
    "```\n",
    "nlp.get(task, model, tokenizer)(inputs)\n",
    "```\n",
    "The supported tasks are the following:\n",
    "\n",
    "- text-generation (model: GPT2)\n",
    "- summarization (model: t5-small)\n",
    "- fill-mask (model: distilroberta-base)\n",
    "- text-classification (model: distilbert-base-uncased-finetuned-sst-2-english)\n",
    "- feature-extraction (model: distilbert-base-cased)\n",
    "- token-classification (model: dslim/bert-base-NER)\n",
    "- question-answering\n",
    "- translation\n",
    "\n",
    "We use [Hugging Face API](https://huggingface.co/models) under the hood to access the models."
   ]
  },
  {
   "cell_type": "markdown",
   "id": "beautiful-somerset",
   "metadata": {
    "papermill": {},
    "tags": []
   },
   "source": [
    "## Text Generation"
   ]
  },
  {
   "cell_type": "code",
   "execution_count": 2,
   "id": "better-neighbor",
   "metadata": {
    "execution": {
     "iopub.execute_input": "2021-08-06T17:40:58.141441Z",
     "iopub.status.busy": "2021-08-06T17:40:58.141133Z",
     "iopub.status.idle": "2021-08-06T17:41:10.912932Z",
     "shell.execute_reply": "2021-08-06T17:41:10.911620Z",
     "shell.execute_reply.started": "2021-08-06T17:40:58.141408Z"
    },
    "papermill": {},
    "tags": []
   },
   "outputs": [
    {
     "name": "stderr",
     "output_type": "stream",
     "text": [
      "Setting `pad_token_id` to `eos_token_id`:50256 for open-end generation.\n"
     ]
    },
    {
     "data": {
      "text/plain": [
       "[{'generated_text': 'What is the most important thing in your life right now?\\n\\nThe most important thing in my life right now is my body; my mind. How does my body relate to this moment on the physical planet? Because it says what it is.'}]"
      ]
     },
     "execution_count": 2,
     "metadata": {},
     "output_type": "execute_result"
    }
   ],
   "source": [
    "nlp.get(\"text-generation\", model=\"gpt2\", tokenizer=\"gpt2\")(\"What is the most important thing in your life right now?\")"
   ]
  },
  {
   "cell_type": "markdown",
   "id": "located-blackberry",
   "metadata": {},
   "source": [
    "## Text Summarization\n",
    "Summarize the text given, maximum lenght (number of tokens/words) is set to 200."
   ]
  },
  {
   "cell_type": "code",
   "execution_count": 11,
   "id": "beginning-greene",
   "metadata": {
    "execution": {
     "iopub.execute_input": "2021-08-06T16:45:26.873833Z",
     "iopub.status.busy": "2021-08-06T16:45:26.873604Z",
     "iopub.status.idle": "2021-08-06T16:45:33.820046Z",
     "shell.execute_reply": "2021-08-06T16:45:33.819350Z",
     "shell.execute_reply.started": "2021-08-06T16:45:26.873810Z"
    },
    "tags": []
   },
   "outputs": [
    {
     "name": "stderr",
     "output_type": "stream",
     "text": [
      "Your max_length is set to 200, but you input_length is only 183. You might consider decreasing max_length manually, e.g. summarizer('...', max_length=50)\n"
     ]
    },
    {
     "data": {
      "text/plain": [
       "[{'summary_text': 'there will be fewer and fewer jobs that a robot cannot do better . what to do about mass unemployment this is gonna be a massive social challenge . we will have to have some kind of universal basic income .'}]"
      ]
     },
     "execution_count": 11,
     "metadata": {},
     "output_type": "execute_result"
    }
   ],
   "source": [
    "nlp.get(\"summarization\", model=\"t5-small\", tokenizer=\"t5-small\")('''\n",
    "\n",
    "There will be fewer and fewer jobs that a robot cannot do better. \n",
    "What to do about mass unemployment this is gonna be a massive social challenge and \n",
    "I think ultimately we will have to have some kind of universal basic income.\n",
    "\n",
    "I think some kind of a universal basic income is going to be necessary \n",
    "now the output of goods and services will be extremely high \n",
    "so with automation they will they will come abundance there will be or almost everything will get very cheap.\n",
    "\n",
    "The harder challenge much harder challenge is how do people then have meaning like a lot of people \n",
    "they find meaning from their employment so if you don't have if you're not needed if \n",
    "there's not a need for your labor how do you what's the meaning if you have meaning \n",
    "if you feel useless these are much that's a much harder problem to deal with. \n",
    "\n",
    "''')"
   ]
  },
  {
   "cell_type": "markdown",
   "id": "played-perry",
   "metadata": {},
   "source": [
    "## Text Classification\n",
    "Basic sentiment analysis on a text.<br>\n",
    "Returns a \"label\" (negative/neutral/positive), and score between -1 and 1."
   ]
  },
  {
   "cell_type": "code",
   "execution_count": 15,
   "id": "excess-helicopter",
   "metadata": {
    "execution": {
     "iopub.execute_input": "2021-08-06T16:58:22.576624Z",
     "iopub.status.busy": "2021-08-06T16:58:22.576384Z",
     "iopub.status.idle": "2021-08-06T16:58:26.430114Z",
     "shell.execute_reply": "2021-08-06T16:58:26.429535Z",
     "shell.execute_reply.started": "2021-08-06T16:58:22.576600Z"
    },
    "tags": []
   },
   "outputs": [
    {
     "data": {
      "text/plain": [
       "[{'label': 'POSITIVE', 'score': 0.7975085377693176}]"
      ]
     },
     "execution_count": 15,
     "metadata": {},
     "output_type": "execute_result"
    }
   ],
   "source": [
    "nlp.get(\"text-classification\", \n",
    "        model=\"distilbert-base-uncased-finetuned-sst-2-english\",\n",
    "        tokenizer=\"distilbert-base-uncased-finetuned-sst-2-english\")('''\n",
    "\n",
    "It was a weird concept. Why would I really need to generate a random paragraph? \n",
    "Could I actually learn something from doing so? \n",
    "All these questions were running through her head as she pressed the generate button. \n",
    "To her surprise, she found what she least expected to see.\n",
    "\n",
    "''')"
   ]
  },
  {
   "cell_type": "markdown",
   "id": "parental-grain",
   "metadata": {},
   "source": [
    "## Fill Mask"
   ]
  },
  {
   "cell_type": "markdown",
   "id": "horizontal-jacob",
   "metadata": {},
   "source": [
    "Fill the blanks ('< mask >') in a sentence given with multiple proposals. <br>\n",
    "Each proposal has a score (confidence of accuracy), token value (proposed word in number), token_str (proposed word)"
   ]
  },
  {
   "cell_type": "code",
   "execution_count": 19,
   "id": "improving-aurora",
   "metadata": {
    "execution": {
     "iopub.execute_input": "2021-08-06T17:01:21.486795Z",
     "iopub.status.busy": "2021-08-06T17:01:21.486510Z",
     "iopub.status.idle": "2021-08-06T17:01:27.228962Z",
     "shell.execute_reply": "2021-08-06T17:01:27.228305Z",
     "shell.execute_reply.started": "2021-08-06T17:01:21.486767Z"
    },
    "tags": []
   },
   "outputs": [
    {
     "data": {
      "text/plain": [
       "[{'sequence': '\\n\\nIt was a beautiful sunset.\\n\\n',\n",
       "  'score': 0.09137986600399017,\n",
       "  'token': 18820,\n",
       "  'token_str': ' sunset'},\n",
       " {'sequence': '\\n\\nIt was a beautiful day.\\n\\n',\n",
       "  'score': 0.07021963596343994,\n",
       "  'token': 183,\n",
       "  'token_str': ' day'},\n",
       " {'sequence': '\\n\\nIt was a beautiful sight.\\n\\n',\n",
       "  'score': 0.062469232827425,\n",
       "  'token': 6112,\n",
       "  'token_str': ' sight'},\n",
       " {'sequence': '\\n\\nIt was a beautiful night.\\n\\n',\n",
       "  'score': 0.05541374906897545,\n",
       "  'token': 363,\n",
       "  'token_str': ' night'},\n",
       " {'sequence': '\\n\\nIt was a beautiful evening.\\n\\n',\n",
       "  'score': 0.051386620849370956,\n",
       "  'token': 1559,\n",
       "  'token_str': ' evening'}]"
      ]
     },
     "execution_count": 19,
     "metadata": {},
     "output_type": "execute_result"
    }
   ],
   "source": [
    "nlp.get(\"fill-mask\",\n",
    "        model=\"distilroberta-base\",\n",
    "        tokenizer=\"distilroberta-base\")('''\n",
    "\n",
    "It was a beautiful <mask>.\n",
    "\n",
    "''')"
   ]
  },
  {
   "cell_type": "markdown",
   "id": "north-soundtrack",
   "metadata": {},
   "source": [
    "## Feature extraction\n",
    "This generate a words embedding (extract numbers out of the text data).<br>\n",
    "Output is a list of numerical values."
   ]
  },
  {
   "cell_type": "code",
   "execution_count": null,
   "id": "settled-modification",
   "metadata": {
    "tags": []
   },
   "outputs": [],
   "source": [
    "nlp.get(\"feature-extraction\", model=\"distilbert-base-cased\", tokenizer=\"distilbert-base-cased\")(\"Life is a super cool thing\")"
   ]
  },
  {
   "cell_type": "markdown",
   "id": "aerial-living",
   "metadata": {},
   "source": [
    "## Token classification\n",
    "Basically NER. If you give names, location, or any \"entity\" it can detect it.<br>\n",
    "\n",
    "| Entity abreviation | Description                                                                  |\n",
    "|--------------|------------------------------------------------------------------------------|\n",
    "| O            | Outside of a named entity                                                    |\n",
    "| B-MIS        | Beginning of a miscellaneous entity right after another miscellaneous entity |\n",
    "| I-MIS        | Miscellaneous entity                                                         |\n",
    "| B-PER        | Beginning of a person’s name right after another person’s name               |\n",
    "| I-PER        | Person’s name                                                                |\n",
    "| B-ORG        | Beginning of an organization right after another organization                |\n",
    "| I-ORG        | organization                                                                 |\n",
    "| B-LOC        | Beginning of a location right after another location                         |\n",
    "| I-LOC        | Location                                                                     |\n",
    "\n",
    "\n",
    "Full documentation : https://huggingface.co/dslim/bert-base-NER.<br>"
   ]
  },
  {
   "cell_type": "code",
   "execution_count": 23,
   "id": "individual-affiliate",
   "metadata": {
    "execution": {
     "iopub.execute_input": "2021-08-06T17:15:52.103220Z",
     "iopub.status.busy": "2021-08-06T17:15:52.102885Z",
     "iopub.status.idle": "2021-08-06T17:15:59.240550Z",
     "shell.execute_reply": "2021-08-06T17:15:59.236068Z",
     "shell.execute_reply.started": "2021-08-06T17:15:52.103186Z"
    },
    "tags": []
   },
   "outputs": [
    {
     "data": {
      "text/plain": [
       "[{'word': 'Wolfgang',\n",
       "  'score': 0.9990139603614807,\n",
       "  'entity': 'B-PER',\n",
       "  'index': 4,\n",
       "  'start': 13,\n",
       "  'end': 21},\n",
       " {'word': 'Berlin',\n",
       "  'score': 0.9996449947357178,\n",
       "  'entity': 'B-LOC',\n",
       "  'index': 9,\n",
       "  'start': 36,\n",
       "  'end': 42}]"
      ]
     },
     "execution_count": 23,
     "metadata": {},
     "output_type": "execute_result"
    }
   ],
   "source": [
    "nlp.get(\"token-classification\", model=\"dslim/bert-base-NER\", tokenizer=\"dslim/bert-base-NER\")('''\n",
    "\n",
    "My name is Wolfgang and I live in Berlin\n",
    "\n",
    "''')"
   ]
  }
 ],
 "metadata": {
  "kernelspec": {
   "display_name": "Python 3",
   "language": "python",
   "name": "python3"
  },
  "language_info": {
   "codemirror_mode": {
    "name": "ipython",
    "version": 3
   },
   "file_extension": ".py",
   "mimetype": "text/x-python",
   "name": "python",
   "nbconvert_exporter": "python",
   "pygments_lexer": "ipython3",
   "version": "3.8.8"
  },
  "papermill": {
   "default_parameters": {},
   "environment_variables": {},
   "parameters": {},
   "version": "2.3.3"
  },
  "widgets": {
   "application/vnd.jupyter.widget-state+json": {
    "state": {
     "0430af7f7c7b4a3bafda3c461b686644": {
      "model_module": "@jupyter-widgets/controls",
      "model_module_version": "1.5.0",
      "model_name": "ProgressStyleModel",
      "state": {
       "description_width": ""
      }
     },
     "0432146696b349419460433f0b44cada": {
      "model_module": "@jupyter-widgets/controls",
      "model_module_version": "1.5.0",
      "model_name": "HBoxModel",
      "state": {
       "children": [
        "IPY_MODEL_e24a9c32b765428abbc00e57974990d0",
        "IPY_MODEL_a491a150d31b4074845a55068837aa91",
        "IPY_MODEL_08b060967d0a4bb9b21b051f354623a8"
       ],
       "layout": "IPY_MODEL_e54658388f9140af8ee2593fa99db1ce"
      }
     },
     "054a28ec77a54a2f89f5b58a0c093d11": {
      "model_module": "@jupyter-widgets/controls",
      "model_module_version": "1.5.0",
      "model_name": "ProgressStyleModel",
      "state": {
       "description_width": ""
      }
     },
     "08b060967d0a4bb9b21b051f354623a8": {
      "model_module": "@jupyter-widgets/controls",
      "model_module_version": "1.5.0",
      "model_name": "HTMLModel",
      "state": {
       "layout": "IPY_MODEL_74a094c1bb8146039219f42d713c2240",
       "style": "IPY_MODEL_5fe104043cb2410087c6a29789faba74",
       "value": " 48.0/48.0 [00:00&lt;00:00, 2.23kB/s]"
      }
     },
     "09004ac176e340cd9fd9b6fde5f5e8aa": {
      "model_module": "@jupyter-widgets/controls",
      "model_module_version": "1.5.0",
      "model_name": "HTMLModel",
      "state": {
       "layout": "IPY_MODEL_4c9f293b7c504958a3fc87dd1ef15fd5",
       "style": "IPY_MODEL_24386532c9bc4814bb33798515220873",
       "value": " 629/629 [00:00&lt;00:00, 24.4kB/s]"
      }
     },
     "0919699bbffa4ea4aae4bdc98499c89d": {
      "model_module": "@jupyter-widgets/base",
      "model_module_version": "1.2.0",
      "model_name": "LayoutModel",
      "state": {}
     },
     "0a1ea5cecaae4c62bf150203618c15ae": {
      "model_module": "@jupyter-widgets/controls",
      "model_module_version": "1.5.0",
      "model_name": "HTMLModel",
      "state": {
       "layout": "IPY_MODEL_26cbb5651a0047a4922f74bed40ebdff",
       "style": "IPY_MODEL_34184148142747fcac2e6fbac42ec227",
       "value": "Downloading: 100%"
      }
     },
     "0c405abab2b64139aebb4a69856b6bbe": {
      "model_module": "@jupyter-widgets/controls",
      "model_module_version": "1.5.0",
      "model_name": "FloatProgressModel",
      "state": {
       "bar_style": "success",
       "layout": "IPY_MODEL_d9af421602b34837897cbe8420ff666a",
       "max": 331070498,
       "style": "IPY_MODEL_28c2d40bb1e8404d80170d2a5eb0ddb5",
       "value": 331070498
      }
     },
     "127d9353798843a38255aae4efd6fb34": {
      "model_module": "@jupyter-widgets/base",
      "model_module_version": "1.2.0",
      "model_name": "LayoutModel",
      "state": {}
     },
     "12b281d00279478a88c5bfb92892d7b1": {
      "model_module": "@jupyter-widgets/controls",
      "model_module_version": "1.5.0",
      "model_name": "DescriptionStyleModel",
      "state": {
       "description_width": ""
      }
     },
     "14f81ef71cd94e49a0271dcc01eb0b69": {
      "model_module": "@jupyter-widgets/base",
      "model_module_version": "1.2.0",
      "model_name": "LayoutModel",
      "state": {}
     },
     "154a2c0b01a54051a089467abd9fa576": {
      "model_module": "@jupyter-widgets/controls",
      "model_module_version": "1.5.0",
      "model_name": "HBoxModel",
      "state": {
       "children": [
        "IPY_MODEL_599ea51253fa4119903a07c03f88c898",
        "IPY_MODEL_2d6f4080c15e4bbd9f999f0b824a67a9",
        "IPY_MODEL_6bff2f53e6094e569c0487d026e3c0ba"
       ],
       "layout": "IPY_MODEL_8c9beee19d914172957a639eb4e56f25"
      }
     },
     "17a260d85887426ba967d0eda9bb8ee2": {
      "model_module": "@jupyter-widgets/controls",
      "model_module_version": "1.5.0",
      "model_name": "FloatProgressModel",
      "state": {
       "bar_style": "success",
       "layout": "IPY_MODEL_7c610d745fe34ead8f28efb53588d245",
       "max": 480,
       "style": "IPY_MODEL_3a13681acbbf4db8a8447cd784772a98",
       "value": 480
      }
     },
     "17ae1023d2104c689cb607bac4379a1f": {
      "model_module": "@jupyter-widgets/controls",
      "model_module_version": "1.5.0",
      "model_name": "DescriptionStyleModel",
      "state": {
       "description_width": ""
      }
     },
     "17db410c39824f2ba170d359d18776e9": {
      "model_module": "@jupyter-widgets/base",
      "model_module_version": "1.2.0",
      "model_name": "LayoutModel",
      "state": {}
     },
     "182e74923e714648b85e38a5b6a2adf1": {
      "model_module": "@jupyter-widgets/controls",
      "model_module_version": "1.5.0",
      "model_name": "DescriptionStyleModel",
      "state": {
       "description_width": ""
      }
     },
     "189f1176f6d2410f9e69826e979c4bd0": {
      "model_module": "@jupyter-widgets/base",
      "model_module_version": "1.2.0",
      "model_name": "LayoutModel",
      "state": {}
     },
     "18d7f9307cd944d9872e329c87f86500": {
      "model_module": "@jupyter-widgets/controls",
      "model_module_version": "1.5.0",
      "model_name": "HTMLModel",
      "state": {
       "layout": "IPY_MODEL_3b1ce8c7708b425ca1fda215bb7f5e36",
       "style": "IPY_MODEL_e49d8f41e643453c9a1e039cdae67d40",
       "value": " 1.36M/1.36M [00:00&lt;00:00, 3.62MB/s]"
      }
     },
     "19b40552cf464955ad452f7673fd9eb3": {
      "model_module": "@jupyter-widgets/base",
      "model_module_version": "1.2.0",
      "model_name": "LayoutModel",
      "state": {}
     },
     "1a4f78043b8048bdb7444e09b189f009": {
      "model_module": "@jupyter-widgets/controls",
      "model_module_version": "1.5.0",
      "model_name": "FloatProgressModel",
      "state": {
       "bar_style": "success",
       "layout": "IPY_MODEL_5a96565eafba4b5ea05c6b46aaeb0f85",
       "max": 898823,
       "style": "IPY_MODEL_d0293457b73c4850b3409f5b62cc77e0",
       "value": 898823
      }
     },
     "1da73d2cb4b2418ea10fb28d2f108be7": {
      "model_module": "@jupyter-widgets/controls",
      "model_module_version": "1.5.0",
      "model_name": "DescriptionStyleModel",
      "state": {
       "description_width": ""
      }
     },
     "21be3a13904f472a838c9beee2b2c17d": {
      "model_module": "@jupyter-widgets/base",
      "model_module_version": "1.2.0",
      "model_name": "LayoutModel",
      "state": {}
     },
     "22196578b1064ef19d219af48226c79e": {
      "model_module": "@jupyter-widgets/base",
      "model_module_version": "1.2.0",
      "model_name": "LayoutModel",
      "state": {}
     },
     "24386532c9bc4814bb33798515220873": {
      "model_module": "@jupyter-widgets/controls",
      "model_module_version": "1.5.0",
      "model_name": "DescriptionStyleModel",
      "state": {
       "description_width": ""
      }
     },
     "26cbb5651a0047a4922f74bed40ebdff": {
      "model_module": "@jupyter-widgets/base",
      "model_module_version": "1.2.0",
      "model_name": "LayoutModel",
      "state": {}
     },
     "28c2d40bb1e8404d80170d2a5eb0ddb5": {
      "model_module": "@jupyter-widgets/controls",
      "model_module_version": "1.5.0",
      "model_name": "ProgressStyleModel",
      "state": {
       "description_width": ""
      }
     },
     "2b17d8871615490c87be854895946941": {
      "model_module": "@jupyter-widgets/controls",
      "model_module_version": "1.5.0",
      "model_name": "HBoxModel",
      "state": {
       "children": [
        "IPY_MODEL_4578e10c91f34b03beff529a9f376ff9",
        "IPY_MODEL_f6f4682204554e43a857e4a947e2c30e",
        "IPY_MODEL_09004ac176e340cd9fd9b6fde5f5e8aa"
       ],
       "layout": "IPY_MODEL_21be3a13904f472a838c9beee2b2c17d"
      }
     },
     "2d6f4080c15e4bbd9f999f0b824a67a9": {
      "model_module": "@jupyter-widgets/controls",
      "model_module_version": "1.5.0",
      "model_name": "FloatProgressModel",
      "state": {
       "bar_style": "success",
       "layout": "IPY_MODEL_abb47cf537774829ae0fce5f00b99aab",
       "max": 59,
       "style": "IPY_MODEL_ea61c31cf75d4d309eaece70cd3341db",
       "value": 59
      }
     },
     "335dd9fd2b46426695c5315169582e0f": {
      "model_module": "@jupyter-widgets/controls",
      "model_module_version": "1.5.0",
      "model_name": "ProgressStyleModel",
      "state": {
       "description_width": ""
      }
     },
     "33dcc42869024a8f838a053e6fa43bc5": {
      "model_module": "@jupyter-widgets/controls",
      "model_module_version": "1.5.0",
      "model_name": "HBoxModel",
      "state": {
       "children": [
        "IPY_MODEL_0a1ea5cecaae4c62bf150203618c15ae",
        "IPY_MODEL_17a260d85887426ba967d0eda9bb8ee2",
        "IPY_MODEL_8a07768b51954c9f974a050b9e6bf3dd"
       ],
       "layout": "IPY_MODEL_ef118594fc64435c9b681aad915f9298"
      }
     },
     "341016f3f08f4b9a8a09f0129e20f058": {
      "model_module": "@jupyter-widgets/base",
      "model_module_version": "1.2.0",
      "model_name": "LayoutModel",
      "state": {}
     },
     "34184148142747fcac2e6fbac42ec227": {
      "model_module": "@jupyter-widgets/controls",
      "model_module_version": "1.5.0",
      "model_name": "DescriptionStyleModel",
      "state": {
       "description_width": ""
      }
     },
     "342af7056dee46d890c6084778d9525c": {
      "model_module": "@jupyter-widgets/base",
      "model_module_version": "1.2.0",
      "model_name": "LayoutModel",
      "state": {}
     },
     "34f41a087bf844259cf535b3ceeb1142": {
      "model_module": "@jupyter-widgets/controls",
      "model_module_version": "1.5.0",
      "model_name": "HTMLModel",
      "state": {
       "layout": "IPY_MODEL_5d21b5a22ea04aaa9dabde9a16605c41",
       "style": "IPY_MODEL_44110e6558b34a1a8826660a560d2b97",
       "value": " 232k/232k [00:00&lt;00:00, 1.24MB/s]"
      }
     },
     "35c98995fd91485a8815baa9cb3b9f47": {
      "model_module": "@jupyter-widgets/controls",
      "model_module_version": "1.5.0",
      "model_name": "HBoxModel",
      "state": {
       "children": [
        "IPY_MODEL_90841bc37e954b2da12dc2c81af9e2b3",
        "IPY_MODEL_9561fa1a3c7d4ff48baf77a3e14a4dfd",
        "IPY_MODEL_dfefc73d0c1d4dde86920eaee6279f46"
       ],
       "layout": "IPY_MODEL_127d9353798843a38255aae4efd6fb34"
      }
     },
     "35e1012722474220ad497e560a202670": {
      "model_module": "@jupyter-widgets/controls",
      "model_module_version": "1.5.0",
      "model_name": "HBoxModel",
      "state": {
       "children": [
        "IPY_MODEL_68eeaaec23f94bb7bc2321512691d95a",
        "IPY_MODEL_63f09f2ff67a4cb39fe185a6d68af8a8",
        "IPY_MODEL_6e2bcb9ad4fb4db88e83943fbd389316"
       ],
       "layout": "IPY_MODEL_600a4beaaf8640e0bd451e1cd8d9a113"
      }
     },
     "377e9cdf67d242a3856f3af14783362a": {
      "model_module": "@jupyter-widgets/base",
      "model_module_version": "1.2.0",
      "model_name": "LayoutModel",
      "state": {}
     },
     "386c41ca9cf14ea2b39da4b5911d5551": {
      "model_module": "@jupyter-widgets/controls",
      "model_module_version": "1.5.0",
      "model_name": "ProgressStyleModel",
      "state": {
       "description_width": ""
      }
     },
     "38ec8f40c25e462e9f285bac350fb1fc": {
      "model_module": "@jupyter-widgets/controls",
      "model_module_version": "1.5.0",
      "model_name": "DescriptionStyleModel",
      "state": {
       "description_width": ""
      }
     },
     "3a1155fada8e417dbe67870129134e6a": {
      "model_module": "@jupyter-widgets/base",
      "model_module_version": "1.2.0",
      "model_name": "LayoutModel",
      "state": {}
     },
     "3a13681acbbf4db8a8447cd784772a98": {
      "model_module": "@jupyter-widgets/controls",
      "model_module_version": "1.5.0",
      "model_name": "ProgressStyleModel",
      "state": {
       "description_width": ""
      }
     },
     "3b1ce8c7708b425ca1fda215bb7f5e36": {
      "model_module": "@jupyter-widgets/base",
      "model_module_version": "1.2.0",
      "model_name": "LayoutModel",
      "state": {}
     },
     "3b59b3ed580040d699f2e9adbe1f4052": {
      "model_module": "@jupyter-widgets/controls",
      "model_module_version": "1.5.0",
      "model_name": "FloatProgressModel",
      "state": {
       "bar_style": "success",
       "layout": "IPY_MODEL_341016f3f08f4b9a8a09f0129e20f058",
       "max": 1355863,
       "style": "IPY_MODEL_0430af7f7c7b4a3bafda3c461b686644",
       "value": 1355863
      }
     },
     "3ba5d755197846a598ef47a313293b41": {
      "model_module": "@jupyter-widgets/controls",
      "model_module_version": "1.5.0",
      "model_name": "HTMLModel",
      "state": {
       "layout": "IPY_MODEL_fc120ca74b2f488cba4f1c4c650a2fe5",
       "style": "IPY_MODEL_68a77e7137874992b793068bf7d03a5d",
       "value": "Downloading: 100%"
      }
     },
     "3e02c25b939941aab57fc580d1311b96": {
      "model_module": "@jupyter-widgets/base",
      "model_module_version": "1.2.0",
      "model_name": "LayoutModel",
      "state": {}
     },
     "3ef7e0948f7c447a89345f15fccd3411": {
      "model_module": "@jupyter-widgets/controls",
      "model_module_version": "1.5.0",
      "model_name": "DescriptionStyleModel",
      "state": {
       "description_width": ""
      }
     },
     "3f2c353d3842461ba1fb0d6412b7b665": {
      "model_module": "@jupyter-widgets/controls",
      "model_module_version": "1.5.0",
      "model_name": "HTMLModel",
      "state": {
       "layout": "IPY_MODEL_ca78b355ac06484692b2bb8829bc2065",
       "style": "IPY_MODEL_38ec8f40c25e462e9f285bac350fb1fc",
       "value": " 899k/899k [00:00&lt;00:00, 1.58MB/s]"
      }
     },
     "3f9aa6cfa2844d5b965f22733ebc6b5b": {
      "model_module": "@jupyter-widgets/base",
      "model_module_version": "1.2.0",
      "model_name": "LayoutModel",
      "state": {}
     },
     "428102090f964feeb8ebf2567086e15c": {
      "model_module": "@jupyter-widgets/base",
      "model_module_version": "1.2.0",
      "model_name": "LayoutModel",
      "state": {}
     },
     "436fab651802488197a1a9c0605b1e30": {
      "model_module": "@jupyter-widgets/controls",
      "model_module_version": "1.5.0",
      "model_name": "ProgressStyleModel",
      "state": {
       "description_width": ""
      }
     },
     "44110e6558b34a1a8826660a560d2b97": {
      "model_module": "@jupyter-widgets/controls",
      "model_module_version": "1.5.0",
      "model_name": "DescriptionStyleModel",
      "state": {
       "description_width": ""
      }
     },
     "454d2061739e41f99668b9557753f45e": {
      "model_module": "@jupyter-widgets/controls",
      "model_module_version": "1.5.0",
      "model_name": "ProgressStyleModel",
      "state": {
       "description_width": ""
      }
     },
     "4578e10c91f34b03beff529a9f376ff9": {
      "model_module": "@jupyter-widgets/controls",
      "model_module_version": "1.5.0",
      "model_name": "HTMLModel",
      "state": {
       "layout": "IPY_MODEL_5b292cb037814eeb8ba61a9f154d9213",
       "style": "IPY_MODEL_7476a84e7bf2434191a6710bb130aff7",
       "value": "Downloading: 100%"
      }
     },
     "45bf2342cdf341a28181eb6eaf78855c": {
      "model_module": "@jupyter-widgets/controls",
      "model_module_version": "1.5.0",
      "model_name": "ProgressStyleModel",
      "state": {
       "description_width": ""
      }
     },
     "4728c8653007405cb03bc57c4890b002": {
      "model_module": "@jupyter-widgets/controls",
      "model_module_version": "1.5.0",
      "model_name": "DescriptionStyleModel",
      "state": {
       "description_width": ""
      }
     },
     "48a18a64a42c4211845b7c88fe35a8a1": {
      "model_module": "@jupyter-widgets/controls",
      "model_module_version": "1.5.0",
      "model_name": "HTMLModel",
      "state": {
       "layout": "IPY_MODEL_baa4e7f6d67b46dca2faf066ff7cc608",
       "style": "IPY_MODEL_9406757de02143be91e215dde8cc5766",
       "value": "Downloading: 100%"
      }
     },
     "492f745f5f1e4afdb585a19ad16b9f04": {
      "model_module": "@jupyter-widgets/base",
      "model_module_version": "1.2.0",
      "model_name": "LayoutModel",
      "state": {}
     },
     "49a831df188540fc8911ce10514b4dac": {
      "model_module": "@jupyter-widgets/base",
      "model_module_version": "1.2.0",
      "model_name": "LayoutModel",
      "state": {}
     },
     "4c9f293b7c504958a3fc87dd1ef15fd5": {
      "model_module": "@jupyter-widgets/base",
      "model_module_version": "1.2.0",
      "model_name": "LayoutModel",
      "state": {}
     },
     "4d6a709baf8841c38a901a5cd47ea5fc": {
      "model_module": "@jupyter-widgets/base",
      "model_module_version": "1.2.0",
      "model_name": "LayoutModel",
      "state": {}
     },
     "4d73e72a485c4c8e8e189db0f7ab189d": {
      "model_module": "@jupyter-widgets/controls",
      "model_module_version": "1.5.0",
      "model_name": "HBoxModel",
      "state": {
       "children": [
        "IPY_MODEL_48a18a64a42c4211845b7c88fe35a8a1",
        "IPY_MODEL_be3f43ba0fd0404ca8567ca96810832c",
        "IPY_MODEL_e36a150c04a24bb187062d655edb0813"
       ],
       "layout": "IPY_MODEL_0919699bbffa4ea4aae4bdc98499c89d"
      }
     },
     "4f0e2572807447479445d24c54e6152e": {
      "model_module": "@jupyter-widgets/base",
      "model_module_version": "1.2.0",
      "model_name": "LayoutModel",
      "state": {}
     },
     "5084fe9ae63b4a648ae2013b4ac0d11d": {
      "model_module": "@jupyter-widgets/base",
      "model_module_version": "1.2.0",
      "model_name": "LayoutModel",
      "state": {}
     },
     "52d429a5d8154d169ea061b8eb40fda2": {
      "model_module": "@jupyter-widgets/controls",
      "model_module_version": "1.5.0",
      "model_name": "HTMLModel",
      "state": {
       "layout": "IPY_MODEL_14f81ef71cd94e49a0271dcc01eb0b69",
       "style": "IPY_MODEL_b9ed836a75d74503b514f9f978419a65",
       "value": "Downloading: 100%"
      }
     },
     "58d3cb6f6e09469091d1e50388767cf0": {
      "model_module": "@jupyter-widgets/controls",
      "model_module_version": "1.5.0",
      "model_name": "HBoxModel",
      "state": {
       "children": [
        "IPY_MODEL_72af2fbb8f6d478ab82fdf247188af63",
        "IPY_MODEL_60feb643150442e7bce92fae75c29185",
        "IPY_MODEL_623a15369d3842a5ad06f7f5153ab33c"
       ],
       "layout": "IPY_MODEL_60d2b565179845b5acac303d8c0f2317"
      }
     },
     "599ea51253fa4119903a07c03f88c898": {
      "model_module": "@jupyter-widgets/controls",
      "model_module_version": "1.5.0",
      "model_name": "HTMLModel",
      "state": {
       "layout": "IPY_MODEL_428102090f964feeb8ebf2567086e15c",
       "style": "IPY_MODEL_fd73797ec4e34fa5b6c4be3f940afc0f",
       "value": "Downloading: 100%"
      }
     },
     "5a96565eafba4b5ea05c6b46aaeb0f85": {
      "model_module": "@jupyter-widgets/base",
      "model_module_version": "1.2.0",
      "model_name": "LayoutModel",
      "state": {}
     },
     "5b292cb037814eeb8ba61a9f154d9213": {
      "model_module": "@jupyter-widgets/base",
      "model_module_version": "1.2.0",
      "model_name": "LayoutModel",
      "state": {}
     },
     "5d21b5a22ea04aaa9dabde9a16605c41": {
      "model_module": "@jupyter-widgets/base",
      "model_module_version": "1.2.0",
      "model_name": "LayoutModel",
      "state": {}
     },
     "5d4a563be1ed49af950af337b4736ebb": {
      "model_module": "@jupyter-widgets/base",
      "model_module_version": "1.2.0",
      "model_name": "LayoutModel",
      "state": {}
     },
     "5e4f24aab3e74f31b3f47d8e26827473": {
      "model_module": "@jupyter-widgets/controls",
      "model_module_version": "1.5.0",
      "model_name": "DescriptionStyleModel",
      "state": {
       "description_width": ""
      }
     },
     "5f6debe67c064453b66223bc33736833": {
      "model_module": "@jupyter-widgets/controls",
      "model_module_version": "1.5.0",
      "model_name": "FloatProgressModel",
      "state": {
       "bar_style": "success",
       "layout": "IPY_MODEL_e93e02c90a6e40a0960599db812b63aa",
       "max": 791656,
       "style": "IPY_MODEL_436fab651802488197a1a9c0605b1e30",
       "value": 791656
      }
     },
     "5fe104043cb2410087c6a29789faba74": {
      "model_module": "@jupyter-widgets/controls",
      "model_module_version": "1.5.0",
      "model_name": "DescriptionStyleModel",
      "state": {
       "description_width": ""
      }
     },
     "600a4beaaf8640e0bd451e1cd8d9a113": {
      "model_module": "@jupyter-widgets/base",
      "model_module_version": "1.2.0",
      "model_name": "LayoutModel",
      "state": {}
     },
     "60363f6e7a7b4de4b7b7d521bd525d3b": {
      "model_module": "@jupyter-widgets/base",
      "model_module_version": "1.2.0",
      "model_name": "LayoutModel",
      "state": {}
     },
     "60d2b565179845b5acac303d8c0f2317": {
      "model_module": "@jupyter-widgets/base",
      "model_module_version": "1.2.0",
      "model_name": "LayoutModel",
      "state": {}
     },
     "60feb643150442e7bce92fae75c29185": {
      "model_module": "@jupyter-widgets/controls",
      "model_module_version": "1.5.0",
      "model_name": "FloatProgressModel",
      "state": {
       "bar_style": "success",
       "layout": "IPY_MODEL_97e0716906c94b2c8cb7ea74b856ecf1",
       "max": 433316646,
       "style": "IPY_MODEL_e7f6a78ec9054f3eb57601d100eb0273",
       "value": 433316646
      }
     },
     "623a15369d3842a5ad06f7f5153ab33c": {
      "model_module": "@jupyter-widgets/controls",
      "model_module_version": "1.5.0",
      "model_name": "HTMLModel",
      "state": {
       "layout": "IPY_MODEL_5084fe9ae63b4a648ae2013b4ac0d11d",
       "style": "IPY_MODEL_cf341fe29e8743d1915ed4cf7d9358ec",
       "value": " 433M/433M [00:17&lt;00:00, 16.7MB/s]"
      }
     },
     "63f09f2ff67a4cb39fe185a6d68af8a8": {
      "model_module": "@jupyter-widgets/controls",
      "model_module_version": "1.5.0",
      "model_name": "FloatProgressModel",
      "state": {
       "bar_style": "success",
       "layout": "IPY_MODEL_4d6a709baf8841c38a901a5cd47ea5fc",
       "max": 456318,
       "style": "IPY_MODEL_796d8316a618450c95f09eb48f63dd09",
       "value": 456318
      }
     },
     "6468e597c03948bfad61fecf70515963": {
      "model_module": "@jupyter-widgets/base",
      "model_module_version": "1.2.0",
      "model_name": "LayoutModel",
      "state": {}
     },
     "65473913f77e45b29e3431bac349a5dd": {
      "model_module": "@jupyter-widgets/controls",
      "model_module_version": "1.5.0",
      "model_name": "DescriptionStyleModel",
      "state": {
       "description_width": ""
      }
     },
     "670079a67daa49caa37aea73b1b102c7": {
      "model_module": "@jupyter-widgets/base",
      "model_module_version": "1.2.0",
      "model_name": "LayoutModel",
      "state": {}
     },
     "68146405a56f4243bbc2b8c83c932afa": {
      "model_module": "@jupyter-widgets/controls",
      "model_module_version": "1.5.0",
      "model_name": "HBoxModel",
      "state": {
       "children": [
        "IPY_MODEL_bb0f06f11af94cf08a9b047b351eb593",
        "IPY_MODEL_b13972faee034460b18aebb0199792b1",
        "IPY_MODEL_b169ff2d520f4ae89bd9de77ae25df91"
       ],
       "layout": "IPY_MODEL_5d4a563be1ed49af950af337b4736ebb"
      }
     },
     "68a77e7137874992b793068bf7d03a5d": {
      "model_module": "@jupyter-widgets/controls",
      "model_module_version": "1.5.0",
      "model_name": "DescriptionStyleModel",
      "state": {
       "description_width": ""
      }
     },
     "68eeaaec23f94bb7bc2321512691d95a": {
      "model_module": "@jupyter-widgets/controls",
      "model_module_version": "1.5.0",
      "model_name": "HTMLModel",
      "state": {
       "layout": "IPY_MODEL_3f9aa6cfa2844d5b965f22733ebc6b5b",
       "style": "IPY_MODEL_6b695968f15f4b9f947eef9c60763811",
       "value": "Downloading: 100%"
      }
     },
     "6b695968f15f4b9f947eef9c60763811": {
      "model_module": "@jupyter-widgets/controls",
      "model_module_version": "1.5.0",
      "model_name": "DescriptionStyleModel",
      "state": {
       "description_width": ""
      }
     },
     "6bff2f53e6094e569c0487d026e3c0ba": {
      "model_module": "@jupyter-widgets/controls",
      "model_module_version": "1.5.0",
      "model_name": "HTMLModel",
      "state": {
       "layout": "IPY_MODEL_db02983afa7249ca8608b26f503df580",
       "style": "IPY_MODEL_cf7f2fd41a45456688446c9f92b79b5c",
       "value": " 59.0/59.0 [00:00&lt;00:00, 2.54kB/s]"
      }
     },
     "6e2bcb9ad4fb4db88e83943fbd389316": {
      "model_module": "@jupyter-widgets/controls",
      "model_module_version": "1.5.0",
      "model_name": "HTMLModel",
      "state": {
       "layout": "IPY_MODEL_8ec1cc59f9df4470bfb10d1b6fd82a66",
       "style": "IPY_MODEL_956d639774884136b6cea53b51fac4e7",
       "value": " 456k/456k [00:00&lt;00:00, 1.11MB/s]"
      }
     },
     "6e464967536a43dfb0ededce4f333200": {
      "model_module": "@jupyter-widgets/base",
      "model_module_version": "1.2.0",
      "model_name": "LayoutModel",
      "state": {}
     },
     "6f69b5f7e10245c6b35dae2663362690": {
      "model_module": "@jupyter-widgets/base",
      "model_module_version": "1.2.0",
      "model_name": "LayoutModel",
      "state": {}
     },
     "6fc9f6f6a6a94b06a9f31461ed08b4a4": {
      "model_module": "@jupyter-widgets/controls",
      "model_module_version": "1.5.0",
      "model_name": "HTMLModel",
      "state": {
       "layout": "IPY_MODEL_9e16c31cc42441fd9d4a388f2ca41e4b",
       "style": "IPY_MODEL_3ef7e0948f7c447a89345f15fccd3411",
       "value": " 331M/331M [00:07&lt;00:00, 54.7MB/s]"
      }
     },
     "72af2fbb8f6d478ab82fdf247188af63": {
      "model_module": "@jupyter-widgets/controls",
      "model_module_version": "1.5.0",
      "model_name": "HTMLModel",
      "state": {
       "layout": "IPY_MODEL_3a1155fada8e417dbe67870129134e6a",
       "style": "IPY_MODEL_e833f3efb6444e2c873ebfde3035e7aa",
       "value": "Downloading: 100%"
      }
     },
     "7476a84e7bf2434191a6710bb130aff7": {
      "model_module": "@jupyter-widgets/controls",
      "model_module_version": "1.5.0",
      "model_name": "DescriptionStyleModel",
      "state": {
       "description_width": ""
      }
     },
     "74a094c1bb8146039219f42d713c2240": {
      "model_module": "@jupyter-widgets/base",
      "model_module_version": "1.2.0",
      "model_name": "LayoutModel",
      "state": {}
     },
     "75b6a50cae6248efa1cfc3fd05734b03": {
      "model_module": "@jupyter-widgets/base",
      "model_module_version": "1.2.0",
      "model_name": "LayoutModel",
      "state": {}
     },
     "78633c480f16403d8be55373f8096c8c": {
      "model_module": "@jupyter-widgets/controls",
      "model_module_version": "1.5.0",
      "model_name": "DescriptionStyleModel",
      "state": {
       "description_width": ""
      }
     },
     "796d8316a618450c95f09eb48f63dd09": {
      "model_module": "@jupyter-widgets/controls",
      "model_module_version": "1.5.0",
      "model_name": "ProgressStyleModel",
      "state": {
       "description_width": ""
      }
     },
     "7c18122f568842f7964379a89038691f": {
      "model_module": "@jupyter-widgets/controls",
      "model_module_version": "1.5.0",
      "model_name": "ProgressStyleModel",
      "state": {
       "description_width": ""
      }
     },
     "7c610d745fe34ead8f28efb53588d245": {
      "model_module": "@jupyter-widgets/base",
      "model_module_version": "1.2.0",
      "model_name": "LayoutModel",
      "state": {}
     },
     "7cd5c3d9d8664339ac4366bce7cc7c80": {
      "model_module": "@jupyter-widgets/controls",
      "model_module_version": "1.5.0",
      "model_name": "ProgressStyleModel",
      "state": {
       "description_width": ""
      }
     },
     "7e7d6cadb1674fc1abf19403f2770f27": {
      "model_module": "@jupyter-widgets/controls",
      "model_module_version": "1.5.0",
      "model_name": "HBoxModel",
      "state": {
       "children": [
        "IPY_MODEL_f1c68be3aa014312a6b324fbe95e7e4d",
        "IPY_MODEL_0c405abab2b64139aebb4a69856b6bbe",
        "IPY_MODEL_6fc9f6f6a6a94b06a9f31461ed08b4a4"
       ],
       "layout": "IPY_MODEL_e5d7a628cc3e40efaa73fe1f13b998d3"
      }
     },
     "8149b692994a4bde86e0d10e16d4e54f": {
      "model_module": "@jupyter-widgets/controls",
      "model_module_version": "1.5.0",
      "model_name": "HTMLModel",
      "state": {
       "layout": "IPY_MODEL_8215dbfb516e40c58e0725d729cd6b40",
       "style": "IPY_MODEL_65473913f77e45b29e3431bac349a5dd",
       "value": "Downloading: 100%"
      }
     },
     "81f400399e57487ebe5a3f3be6107359": {
      "model_module": "@jupyter-widgets/controls",
      "model_module_version": "1.5.0",
      "model_name": "DescriptionStyleModel",
      "state": {
       "description_width": ""
      }
     },
     "8215dbfb516e40c58e0725d729cd6b40": {
      "model_module": "@jupyter-widgets/base",
      "model_module_version": "1.2.0",
      "model_name": "LayoutModel",
      "state": {}
     },
     "85c62f53f097499c80ffc6b3c8e0f084": {
      "model_module": "@jupyter-widgets/base",
      "model_module_version": "1.2.0",
      "model_name": "LayoutModel",
      "state": {}
     },
     "872067a9bdee425d94ca50274f517315": {
      "model_module": "@jupyter-widgets/controls",
      "model_module_version": "1.5.0",
      "model_name": "HTMLModel",
      "state": {
       "layout": "IPY_MODEL_19b40552cf464955ad452f7673fd9eb3",
       "style": "IPY_MODEL_78633c480f16403d8be55373f8096c8c",
       "value": "Downloading: 100%"
      }
     },
     "87a421ccc74a41dcbbad854e6cb4e3f1": {
      "model_module": "@jupyter-widgets/base",
      "model_module_version": "1.2.0",
      "model_name": "LayoutModel",
      "state": {}
     },
     "8a07768b51954c9f974a050b9e6bf3dd": {
      "model_module": "@jupyter-widgets/controls",
      "model_module_version": "1.5.0",
      "model_name": "HTMLModel",
      "state": {
       "layout": "IPY_MODEL_d8dfed7bc74441f085ac4261758a1585",
       "style": "IPY_MODEL_eee236141b254a6dab261a38d0a3f4a3",
       "value": " 480/480 [00:00&lt;00:00, 12.9kB/s]"
      }
     },
     "8c64d80e5479434b8115c7ca341c3308": {
      "model_module": "@jupyter-widgets/controls",
      "model_module_version": "1.5.0",
      "model_name": "HTMLModel",
      "state": {
       "layout": "IPY_MODEL_abfcea77937e4d4080917f011aa36a59",
       "style": "IPY_MODEL_1da73d2cb4b2418ea10fb28d2f108be7",
       "value": "Downloading: 100%"
      }
     },
     "8c9beee19d914172957a639eb4e56f25": {
      "model_module": "@jupyter-widgets/base",
      "model_module_version": "1.2.0",
      "model_name": "LayoutModel",
      "state": {}
     },
     "8d29d484fdf64eb2ac73d90474a8860d": {
      "model_module": "@jupyter-widgets/controls",
      "model_module_version": "1.5.0",
      "model_name": "HBoxModel",
      "state": {
       "children": [
        "IPY_MODEL_8c64d80e5479434b8115c7ca341c3308",
        "IPY_MODEL_1a4f78043b8048bdb7444e09b189f009",
        "IPY_MODEL_3f2c353d3842461ba1fb0d6412b7b665"
       ],
       "layout": "IPY_MODEL_b592a7932c21492380c88c0678b9c00e"
      }
     },
     "8ec1cc59f9df4470bfb10d1b6fd82a66": {
      "model_module": "@jupyter-widgets/base",
      "model_module_version": "1.2.0",
      "model_name": "LayoutModel",
      "state": {}
     },
     "90841bc37e954b2da12dc2c81af9e2b3": {
      "model_module": "@jupyter-widgets/controls",
      "model_module_version": "1.5.0",
      "model_name": "HTMLModel",
      "state": {
       "layout": "IPY_MODEL_e9430c1a8770432388aec8e4bbd25f35",
       "style": "IPY_MODEL_df21a86cc31247d8bba749dbb8fc5c0b",
       "value": "Downloading: 100%"
      }
     },
     "9406757de02143be91e215dde8cc5766": {
      "model_module": "@jupyter-widgets/controls",
      "model_module_version": "1.5.0",
      "model_name": "DescriptionStyleModel",
      "state": {
       "description_width": ""
      }
     },
     "950e136221fe4090a9d98ab184b6fb3d": {
      "model_module": "@jupyter-widgets/controls",
      "model_module_version": "1.5.0",
      "model_name": "HBoxModel",
      "state": {
       "children": [
        "IPY_MODEL_3ba5d755197846a598ef47a313293b41",
        "IPY_MODEL_9fdae272021c4a1685df497a8490645e",
        "IPY_MODEL_34f41a087bf844259cf535b3ceeb1142"
       ],
       "layout": "IPY_MODEL_a9b98bbf8d05444ea86a4fee2df93fb3"
      }
     },
     "9561fa1a3c7d4ff48baf77a3e14a4dfd": {
      "model_module": "@jupyter-widgets/controls",
      "model_module_version": "1.5.0",
      "model_name": "FloatProgressModel",
      "state": {
       "bar_style": "success",
       "layout": "IPY_MODEL_d5f77dbacb9447db92b8b32dc5e7f785",
       "max": 1389353,
       "style": "IPY_MODEL_fd7de708f40747ddb7efa039ef7eb6aa",
       "value": 1389353
      }
     },
     "956d639774884136b6cea53b51fac4e7": {
      "model_module": "@jupyter-widgets/controls",
      "model_module_version": "1.5.0",
      "model_name": "DescriptionStyleModel",
      "state": {
       "description_width": ""
      }
     },
     "9678abb74e7245baa6386da2e41fb13e": {
      "model_module": "@jupyter-widgets/controls",
      "model_module_version": "1.5.0",
      "model_name": "FloatProgressModel",
      "state": {
       "bar_style": "success",
       "layout": "IPY_MODEL_bfe3152014aa45c7a8c57a30c5c2434a",
       "max": 213450,
       "style": "IPY_MODEL_454d2061739e41f99668b9557753f45e",
       "value": 213450
      }
     },
     "970940cc929a4750b5cddd191de1af8b": {
      "model_module": "@jupyter-widgets/controls",
      "model_module_version": "1.5.0",
      "model_name": "DescriptionStyleModel",
      "state": {
       "description_width": ""
      }
     },
     "97e0716906c94b2c8cb7ea74b856ecf1": {
      "model_module": "@jupyter-widgets/base",
      "model_module_version": "1.2.0",
      "model_name": "LayoutModel",
      "state": {}
     },
     "9a68c3a3270640afaf99f3f62d4862d3": {
      "model_module": "@jupyter-widgets/controls",
      "model_module_version": "1.5.0",
      "model_name": "HTMLModel",
      "state": {
       "layout": "IPY_MODEL_bd68302de55c4b01ae6ea7ebedad63d5",
       "style": "IPY_MODEL_182e74923e714648b85e38a5b6a2adf1",
       "value": "Downloading: 100%"
      }
     },
     "9e16c31cc42441fd9d4a388f2ca41e4b": {
      "model_module": "@jupyter-widgets/base",
      "model_module_version": "1.2.0",
      "model_name": "LayoutModel",
      "state": {}
     },
     "9fdae272021c4a1685df497a8490645e": {
      "model_module": "@jupyter-widgets/controls",
      "model_module_version": "1.5.0",
      "model_name": "FloatProgressModel",
      "state": {
       "bar_style": "success",
       "layout": "IPY_MODEL_670079a67daa49caa37aea73b1b102c7",
       "max": 231508,
       "style": "IPY_MODEL_335dd9fd2b46426695c5315169582e0f",
       "value": 231508
      }
     },
     "a03571da1dd646669f030a8b705c4704": {
      "model_module": "@jupyter-widgets/controls",
      "model_module_version": "1.5.0",
      "model_name": "FloatProgressModel",
      "state": {
       "bar_style": "success",
       "layout": "IPY_MODEL_6e464967536a43dfb0ededce4f333200",
       "max": 2,
       "style": "IPY_MODEL_7c18122f568842f7964379a89038691f",
       "value": 2
      }
     },
     "a24d9af6cf2349d9b6b17227f223afa7": {
      "model_module": "@jupyter-widgets/controls",
      "model_module_version": "1.5.0",
      "model_name": "DescriptionStyleModel",
      "state": {
       "description_width": ""
      }
     },
     "a491a150d31b4074845a55068837aa91": {
      "model_module": "@jupyter-widgets/controls",
      "model_module_version": "1.5.0",
      "model_name": "FloatProgressModel",
      "state": {
       "bar_style": "success",
       "layout": "IPY_MODEL_49a831df188540fc8911ce10514b4dac",
       "max": 48,
       "style": "IPY_MODEL_386c41ca9cf14ea2b39da4b5911d5551",
       "value": 48
      }
     },
     "a6dedefbcd01444e86a5688df9894702": {
      "model_module": "@jupyter-widgets/base",
      "model_module_version": "1.2.0",
      "model_name": "LayoutModel",
      "state": {}
     },
     "a9b98bbf8d05444ea86a4fee2df93fb3": {
      "model_module": "@jupyter-widgets/base",
      "model_module_version": "1.2.0",
      "model_name": "LayoutModel",
      "state": {}
     },
     "abb47cf537774829ae0fce5f00b99aab": {
      "model_module": "@jupyter-widgets/base",
      "model_module_version": "1.2.0",
      "model_name": "LayoutModel",
      "state": {}
     },
     "abfcea77937e4d4080917f011aa36a59": {
      "model_module": "@jupyter-widgets/base",
      "model_module_version": "1.2.0",
      "model_name": "LayoutModel",
      "state": {}
     },
     "b13972faee034460b18aebb0199792b1": {
      "model_module": "@jupyter-widgets/controls",
      "model_module_version": "1.5.0",
      "model_name": "FloatProgressModel",
      "state": {
       "bar_style": "success",
       "layout": "IPY_MODEL_c23eb64876a14f209d42ed558c255ac4",
       "max": 112,
       "style": "IPY_MODEL_7cd5c3d9d8664339ac4366bce7cc7c80",
       "value": 112
      }
     },
     "b169ff2d520f4ae89bd9de77ae25df91": {
      "model_module": "@jupyter-widgets/controls",
      "model_module_version": "1.5.0",
      "model_name": "HTMLModel",
      "state": {
       "layout": "IPY_MODEL_17db410c39824f2ba170d359d18776e9",
       "style": "IPY_MODEL_970940cc929a4750b5cddd191de1af8b",
       "value": " 112/112 [00:00&lt;00:00, 3.93kB/s]"
      }
     },
     "b302f00bc0fb4606bacda307e0e77501": {
      "model_module": "@jupyter-widgets/controls",
      "model_module_version": "1.5.0",
      "model_name": "ProgressStyleModel",
      "state": {
       "description_width": ""
      }
     },
     "b592a7932c21492380c88c0678b9c00e": {
      "model_module": "@jupyter-widgets/base",
      "model_module_version": "1.2.0",
      "model_name": "LayoutModel",
      "state": {}
     },
     "b7fb7a83610047e8bcc08e5078d3563f": {
      "model_module": "@jupyter-widgets/controls",
      "model_module_version": "1.5.0",
      "model_name": "FloatProgressModel",
      "state": {
       "bar_style": "success",
       "layout": "IPY_MODEL_e9d7e013206e4fceac9579434053f5c6",
       "max": 267844284,
       "style": "IPY_MODEL_45bf2342cdf341a28181eb6eaf78855c",
       "value": 267844284
      }
     },
     "b9ed836a75d74503b514f9f978419a65": {
      "model_module": "@jupyter-widgets/controls",
      "model_module_version": "1.5.0",
      "model_name": "DescriptionStyleModel",
      "state": {
       "description_width": ""
      }
     },
     "baa4e7f6d67b46dca2faf066ff7cc608": {
      "model_module": "@jupyter-widgets/base",
      "model_module_version": "1.2.0",
      "model_name": "LayoutModel",
      "state": {}
     },
     "bb0f06f11af94cf08a9b047b351eb593": {
      "model_module": "@jupyter-widgets/controls",
      "model_module_version": "1.5.0",
      "model_name": "HTMLModel",
      "state": {
       "layout": "IPY_MODEL_a6dedefbcd01444e86a5688df9894702",
       "style": "IPY_MODEL_fdbf623d9b1641b8b54457c1e8ac2162",
       "value": "Downloading: 100%"
      }
     },
     "bd68302de55c4b01ae6ea7ebedad63d5": {
      "model_module": "@jupyter-widgets/base",
      "model_module_version": "1.2.0",
      "model_name": "LayoutModel",
      "state": {}
     },
     "be3f43ba0fd0404ca8567ca96810832c": {
      "model_module": "@jupyter-widgets/controls",
      "model_module_version": "1.5.0",
      "model_name": "FloatProgressModel",
      "state": {
       "bar_style": "success",
       "layout": "IPY_MODEL_6f69b5f7e10245c6b35dae2663362690",
       "max": 829,
       "style": "IPY_MODEL_b302f00bc0fb4606bacda307e0e77501",
       "value": 829
      }
     },
     "be4d95996cc74bbf91590f4756e6bdc2": {
      "model_module": "@jupyter-widgets/controls",
      "model_module_version": "1.5.0",
      "model_name": "HBoxModel",
      "state": {
       "children": [
        "IPY_MODEL_8149b692994a4bde86e0d10e16d4e54f",
        "IPY_MODEL_9678abb74e7245baa6386da2e41fb13e",
        "IPY_MODEL_cbe02cf9072045c8a311fc8065f40648"
       ],
       "layout": "IPY_MODEL_60363f6e7a7b4de4b7b7d521bd525d3b"
      }
     },
     "bfe3152014aa45c7a8c57a30c5c2434a": {
      "model_module": "@jupyter-widgets/base",
      "model_module_version": "1.2.0",
      "model_name": "LayoutModel",
      "state": {}
     },
     "c13a63063c024d4187fd2e91f0751c4e": {
      "model_module": "@jupyter-widgets/controls",
      "model_module_version": "1.5.0",
      "model_name": "HTMLModel",
      "state": {
       "layout": "IPY_MODEL_cf229ee7652e42449a4137e8f341bcde",
       "style": "IPY_MODEL_a24d9af6cf2349d9b6b17227f223afa7",
       "value": "Downloading: 100%"
      }
     },
     "c23eb64876a14f209d42ed558c255ac4": {
      "model_module": "@jupyter-widgets/base",
      "model_module_version": "1.2.0",
      "model_name": "LayoutModel",
      "state": {}
     },
     "ca78b355ac06484692b2bb8829bc2065": {
      "model_module": "@jupyter-widgets/base",
      "model_module_version": "1.2.0",
      "model_name": "LayoutModel",
      "state": {}
     },
     "ca976527131c44a69f9ba0fee2715d86": {
      "model_module": "@jupyter-widgets/controls",
      "model_module_version": "1.5.0",
      "model_name": "HTMLModel",
      "state": {
       "layout": "IPY_MODEL_492f745f5f1e4afdb585a19ad16b9f04",
       "style": "IPY_MODEL_4728c8653007405cb03bc57c4890b002",
       "value": " 792k/792k [00:00&lt;00:00, 1.13MB/s]"
      }
     },
     "cbe02cf9072045c8a311fc8065f40648": {
      "model_module": "@jupyter-widgets/controls",
      "model_module_version": "1.5.0",
      "model_name": "HTMLModel",
      "state": {
       "layout": "IPY_MODEL_22196578b1064ef19d219af48226c79e",
       "style": "IPY_MODEL_f6ac0ccbeaf34cfa9b748936018b1a58",
       "value": " 213k/213k [00:00&lt;00:00, 838kB/s]"
      }
     },
     "cf229ee7652e42449a4137e8f341bcde": {
      "model_module": "@jupyter-widgets/base",
      "model_module_version": "1.2.0",
      "model_name": "LayoutModel",
      "state": {}
     },
     "cf341fe29e8743d1915ed4cf7d9358ec": {
      "model_module": "@jupyter-widgets/controls",
      "model_module_version": "1.5.0",
      "model_name": "DescriptionStyleModel",
      "state": {
       "description_width": ""
      }
     },
     "cf7f2fd41a45456688446c9f92b79b5c": {
      "model_module": "@jupyter-widgets/controls",
      "model_module_version": "1.5.0",
      "model_name": "DescriptionStyleModel",
      "state": {
       "description_width": ""
      }
     },
     "d0293457b73c4850b3409f5b62cc77e0": {
      "model_module": "@jupyter-widgets/controls",
      "model_module_version": "1.5.0",
      "model_name": "ProgressStyleModel",
      "state": {
       "description_width": ""
      }
     },
     "d1361b7fa8834d808806df5ece3022ff": {
      "model_module": "@jupyter-widgets/controls",
      "model_module_version": "1.5.0",
      "model_name": "HBoxModel",
      "state": {
       "children": [
        "IPY_MODEL_872067a9bdee425d94ca50274f517315",
        "IPY_MODEL_a03571da1dd646669f030a8b705c4704",
        "IPY_MODEL_d1ad0a6623ce448093d848eed70aaf0b"
       ],
       "layout": "IPY_MODEL_d2c11a11ec6440e1bf4493f449e61556"
      }
     },
     "d1aa15de70ff49f5b9502c3ff3df4f1e": {
      "model_module": "@jupyter-widgets/controls",
      "model_module_version": "1.5.0",
      "model_name": "HBoxModel",
      "state": {
       "children": [
        "IPY_MODEL_c13a63063c024d4187fd2e91f0751c4e",
        "IPY_MODEL_3b59b3ed580040d699f2e9adbe1f4052",
        "IPY_MODEL_18d7f9307cd944d9872e329c87f86500"
       ],
       "layout": "IPY_MODEL_6468e597c03948bfad61fecf70515963"
      }
     },
     "d1ad0a6623ce448093d848eed70aaf0b": {
      "model_module": "@jupyter-widgets/controls",
      "model_module_version": "1.5.0",
      "model_name": "HTMLModel",
      "state": {
       "layout": "IPY_MODEL_85c62f53f097499c80ffc6b3c8e0f084",
       "style": "IPY_MODEL_fbd48d7dde634bada7417e6a804dbc8b",
       "value": " 2.00/2.00 [00:00&lt;00:00, 46.6B/s]"
      }
     },
     "d2c11a11ec6440e1bf4493f449e61556": {
      "model_module": "@jupyter-widgets/base",
      "model_module_version": "1.2.0",
      "model_name": "LayoutModel",
      "state": {}
     },
     "d5f77dbacb9447db92b8b32dc5e7f785": {
      "model_module": "@jupyter-widgets/base",
      "model_module_version": "1.2.0",
      "model_name": "LayoutModel",
      "state": {}
     },
     "d8dfed7bc74441f085ac4261758a1585": {
      "model_module": "@jupyter-widgets/base",
      "model_module_version": "1.2.0",
      "model_name": "LayoutModel",
      "state": {}
     },
     "d9af421602b34837897cbe8420ff666a": {
      "model_module": "@jupyter-widgets/base",
      "model_module_version": "1.2.0",
      "model_name": "LayoutModel",
      "state": {}
     },
     "db02983afa7249ca8608b26f503df580": {
      "model_module": "@jupyter-widgets/base",
      "model_module_version": "1.2.0",
      "model_name": "LayoutModel",
      "state": {}
     },
     "dbb520dc1fef4e69ae7f9bca123b2ba3": {
      "model_module": "@jupyter-widgets/controls",
      "model_module_version": "1.5.0",
      "model_name": "HBoxModel",
      "state": {
       "children": [
        "IPY_MODEL_52d429a5d8154d169ea061b8eb40fda2",
        "IPY_MODEL_b7fb7a83610047e8bcc08e5078d3563f",
        "IPY_MODEL_e12e0d3beba344b2916a448f017e8626"
       ],
       "layout": "IPY_MODEL_342af7056dee46d890c6084778d9525c"
      }
     },
     "de7f6a4892a548c59633815ab9ae505e": {
      "model_module": "@jupyter-widgets/controls",
      "model_module_version": "1.5.0",
      "model_name": "HBoxModel",
      "state": {
       "children": [
        "IPY_MODEL_9a68c3a3270640afaf99f3f62d4862d3",
        "IPY_MODEL_5f6debe67c064453b66223bc33736833",
        "IPY_MODEL_ca976527131c44a69f9ba0fee2715d86"
       ],
       "layout": "IPY_MODEL_189f1176f6d2410f9e69826e979c4bd0"
      }
     },
     "df21a86cc31247d8bba749dbb8fc5c0b": {
      "model_module": "@jupyter-widgets/controls",
      "model_module_version": "1.5.0",
      "model_name": "DescriptionStyleModel",
      "state": {
       "description_width": ""
      }
     },
     "dfefc73d0c1d4dde86920eaee6279f46": {
      "model_module": "@jupyter-widgets/controls",
      "model_module_version": "1.5.0",
      "model_name": "HTMLModel",
      "state": {
       "layout": "IPY_MODEL_f864d96da4114d409a3aa03e1d6dae5d",
       "style": "IPY_MODEL_12b281d00279478a88c5bfb92892d7b1",
       "value": " 1.39M/1.39M [00:00&lt;00:00, 1.52MB/s]"
      }
     },
     "e12e0d3beba344b2916a448f017e8626": {
      "model_module": "@jupyter-widgets/controls",
      "model_module_version": "1.5.0",
      "model_name": "HTMLModel",
      "state": {
       "layout": "IPY_MODEL_377e9cdf67d242a3856f3af14783362a",
       "style": "IPY_MODEL_17ae1023d2104c689cb607bac4379a1f",
       "value": " 268M/268M [00:04&lt;00:00, 63.3MB/s]"
      }
     },
     "e24a9c32b765428abbc00e57974990d0": {
      "model_module": "@jupyter-widgets/controls",
      "model_module_version": "1.5.0",
      "model_name": "HTMLModel",
      "state": {
       "layout": "IPY_MODEL_3e02c25b939941aab57fc580d1311b96",
       "style": "IPY_MODEL_e4bfafea41df4679953ee04e38440c91",
       "value": "Downloading: 100%"
      }
     },
     "e36a150c04a24bb187062d655edb0813": {
      "model_module": "@jupyter-widgets/controls",
      "model_module_version": "1.5.0",
      "model_name": "HTMLModel",
      "state": {
       "layout": "IPY_MODEL_87a421ccc74a41dcbbad854e6cb4e3f1",
       "style": "IPY_MODEL_5e4f24aab3e74f31b3f47d8e26827473",
       "value": " 829/829 [00:00&lt;00:00, 28.0kB/s]"
      }
     },
     "e49d8f41e643453c9a1e039cdae67d40": {
      "model_module": "@jupyter-widgets/controls",
      "model_module_version": "1.5.0",
      "model_name": "DescriptionStyleModel",
      "state": {
       "description_width": ""
      }
     },
     "e4bfafea41df4679953ee04e38440c91": {
      "model_module": "@jupyter-widgets/controls",
      "model_module_version": "1.5.0",
      "model_name": "DescriptionStyleModel",
      "state": {
       "description_width": ""
      }
     },
     "e54658388f9140af8ee2593fa99db1ce": {
      "model_module": "@jupyter-widgets/base",
      "model_module_version": "1.2.0",
      "model_name": "LayoutModel",
      "state": {}
     },
     "e5d7a628cc3e40efaa73fe1f13b998d3": {
      "model_module": "@jupyter-widgets/base",
      "model_module_version": "1.2.0",
      "model_name": "LayoutModel",
      "state": {}
     },
     "e7f6a78ec9054f3eb57601d100eb0273": {
      "model_module": "@jupyter-widgets/controls",
      "model_module_version": "1.5.0",
      "model_name": "ProgressStyleModel",
      "state": {
       "description_width": ""
      }
     },
     "e833f3efb6444e2c873ebfde3035e7aa": {
      "model_module": "@jupyter-widgets/controls",
      "model_module_version": "1.5.0",
      "model_name": "DescriptionStyleModel",
      "state": {
       "description_width": ""
      }
     },
     "e93e02c90a6e40a0960599db812b63aa": {
      "model_module": "@jupyter-widgets/base",
      "model_module_version": "1.2.0",
      "model_name": "LayoutModel",
      "state": {}
     },
     "e9430c1a8770432388aec8e4bbd25f35": {
      "model_module": "@jupyter-widgets/base",
      "model_module_version": "1.2.0",
      "model_name": "LayoutModel",
      "state": {}
     },
     "e9d7e013206e4fceac9579434053f5c6": {
      "model_module": "@jupyter-widgets/base",
      "model_module_version": "1.2.0",
      "model_name": "LayoutModel",
      "state": {}
     },
     "ea61c31cf75d4d309eaece70cd3341db": {
      "model_module": "@jupyter-widgets/controls",
      "model_module_version": "1.5.0",
      "model_name": "ProgressStyleModel",
      "state": {
       "description_width": ""
      }
     },
     "eee236141b254a6dab261a38d0a3f4a3": {
      "model_module": "@jupyter-widgets/controls",
      "model_module_version": "1.5.0",
      "model_name": "DescriptionStyleModel",
      "state": {
       "description_width": ""
      }
     },
     "ef118594fc64435c9b681aad915f9298": {
      "model_module": "@jupyter-widgets/base",
      "model_module_version": "1.2.0",
      "model_name": "LayoutModel",
      "state": {}
     },
     "f1c68be3aa014312a6b324fbe95e7e4d": {
      "model_module": "@jupyter-widgets/controls",
      "model_module_version": "1.5.0",
      "model_name": "HTMLModel",
      "state": {
       "layout": "IPY_MODEL_4f0e2572807447479445d24c54e6152e",
       "style": "IPY_MODEL_81f400399e57487ebe5a3f3be6107359",
       "value": "Downloading: 100%"
      }
     },
     "f6ac0ccbeaf34cfa9b748936018b1a58": {
      "model_module": "@jupyter-widgets/controls",
      "model_module_version": "1.5.0",
      "model_name": "DescriptionStyleModel",
      "state": {
       "description_width": ""
      }
     },
     "f6f4682204554e43a857e4a947e2c30e": {
      "model_module": "@jupyter-widgets/controls",
      "model_module_version": "1.5.0",
      "model_name": "FloatProgressModel",
      "state": {
       "bar_style": "success",
       "layout": "IPY_MODEL_75b6a50cae6248efa1cfc3fd05734b03",
       "max": 629,
       "style": "IPY_MODEL_054a28ec77a54a2f89f5b58a0c093d11",
       "value": 629
      }
     },
     "f864d96da4114d409a3aa03e1d6dae5d": {
      "model_module": "@jupyter-widgets/base",
      "model_module_version": "1.2.0",
      "model_name": "LayoutModel",
      "state": {}
     },
     "fbd48d7dde634bada7417e6a804dbc8b": {
      "model_module": "@jupyter-widgets/controls",
      "model_module_version": "1.5.0",
      "model_name": "DescriptionStyleModel",
      "state": {
       "description_width": ""
      }
     },
     "fc120ca74b2f488cba4f1c4c650a2fe5": {
      "model_module": "@jupyter-widgets/base",
      "model_module_version": "1.2.0",
      "model_name": "LayoutModel",
      "state": {}
     },
     "fd73797ec4e34fa5b6c4be3f940afc0f": {
      "model_module": "@jupyter-widgets/controls",
      "model_module_version": "1.5.0",
      "model_name": "DescriptionStyleModel",
      "state": {
       "description_width": ""
      }
     },
     "fd7de708f40747ddb7efa039ef7eb6aa": {
      "model_module": "@jupyter-widgets/controls",
      "model_module_version": "1.5.0",
      "model_name": "ProgressStyleModel",
      "state": {
       "description_width": ""
      }
     },
     "fdbf623d9b1641b8b54457c1e8ac2162": {
      "model_module": "@jupyter-widgets/controls",
      "model_module_version": "1.5.0",
      "model_name": "DescriptionStyleModel",
      "state": {
       "description_width": ""
      }
     }
    },
    "version_major": 2,
    "version_minor": 0
   }
  }
 },
 "nbformat": 4,
 "nbformat_minor": 5
}
