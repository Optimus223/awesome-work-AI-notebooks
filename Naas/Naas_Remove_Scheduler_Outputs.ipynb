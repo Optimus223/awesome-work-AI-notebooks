{
 "cells": [
  {
   "cell_type": "markdown",
   "id": "latin-packing",
   "metadata": {
    "execution": {
     "iopub.execute_input": "2021-02-23T14:22:16.610471Z",
     "iopub.status.busy": "2021-02-23T14:22:16.610129Z",
     "iopub.status.idle": "2021-02-23T14:22:16.627784Z",
     "shell.execute_reply": "2021-02-23T14:22:16.626866Z",
     "shell.execute_reply.started": "2021-02-23T14:22:16.610384Z"
    },
    "papermill": {},
    "tags": []
   },
   "source": [
    "<img width=\"10%\" alt=\"Naas\" src=\"https://landen.imgix.net/jtci2pxwjczr/assets/5ice39g4.png?w=160\"/>"
   ]
  },
  {
   "cell_type": "markdown",
   "id": "compressed-wilson",
   "metadata": {
    "papermill": {},
    "tags": []
   },
   "source": [
    "# Naas- Remove Scheduler Outputs\n",
    "<a href=\"https://app.naas.ai/user-redirect/naas/downloader?url=https://raw.githubusercontent.com/jupyter-naas/awesome-notebooks/master/template.ipynb\" target=\"_parent\">\n",
    "<img src=\"https://img.shields.io/badge/-Open%20in%20Naas-success?labelColor=000000&logo=data:image/svg+xml;base64,PD94bWwgdmVyc2lvbj0iMS4wIiBlbmNvZGluZz0iVVRGLTgiPz4KPHN2ZyB3aWR0aD0iMTAyNHB4IiBoZWlnaHQ9IjEwMjRweCIgdmlld0JveD0iMCAwIDEwMjQgMTAyNCIgeG1sbnM9Imh0dHA6Ly93d3cudzMub3JnLzIwMDAvc3ZnIiB4bWxuczp4bGluaz0iaHR0cDovL3d3dy53My5vcmcvMTk5OS94bGluayIgdmVyc2lvbj0iMS4xIj4KIDwhLS0gR2VuZXJhdGVkIGJ5IFBpeGVsbWF0b3IgUHJvIDIuMC41IC0tPgogPGRlZnM+CiAgPHRleHQgaWQ9InN0cmluZyIgdHJhbnNmb3JtPSJtYXRyaXgoMS4wIDAuMCAwLjAgMS4wIDIyOC4wIDU0LjUpIiBmb250LWZhbWlseT0iQ29tZm9ydGFhLVJlZ3VsYXIsIENvbWZvcnRhYSIgZm9udC1zaXplPSI4MDAiIHRleHQtZGVjb3JhdGlvbj0ibm9uZSIgZmlsbD0iI2ZmZmZmZiIgeD0iMS4xOTk5OTk5OTk5OTk5ODg2IiB5PSI3MDUuMCI+bjwvdGV4dD4KIDwvZGVmcz4KIDx1c2UgaWQ9Im4iIHhsaW5rOmhyZWY9IiNzdHJpbmciLz4KPC9zdmc+Cg==\"/>\n",
    "</a>"
   ]
  },
  {
   "cell_type": "markdown",
   "id": "religious-programmer",
   "metadata": {},
   "source": [
    "**Tags:** #naas #scheduler #automation"
   ]
  },
  {
   "cell_type": "markdown",
   "id": "1fe9f56e-561c-4f52-aef8-b861c9462107",
   "metadata": {},
   "source": [
    "**Author:** [Maxime Jublou](https://www.linkedin.com/in/maximejublou)"
   ]
  },
  {
   "cell_type": "markdown",
   "id": "31ea7cdb-e10d-43fc-b026-f69249a59736",
   "metadata": {},
   "source": [
    "The goal of this notebook is to remove your production scheduler outputs automatically."
   ]
  },
  {
   "cell_type": "markdown",
   "id": "distinguished-truth",
   "metadata": {
    "papermill": {},
    "tags": []
   },
   "source": [
    "## Input"
   ]
  },
  {
   "cell_type": "markdown",
   "id": "numeric-mediterranean",
   "metadata": {},
   "source": [
    "### Import library"
   ]
  },
  {
   "cell_type": "code",
   "execution_count": 1,
   "id": "potential-surfing",
   "metadata": {
    "execution": {
     "iopub.execute_input": "2022-03-14T17:24:15.272876Z",
     "iopub.status.busy": "2022-03-14T17:24:15.272479Z",
     "iopub.status.idle": "2022-03-14T17:24:17.309792Z",
     "shell.execute_reply": "2022-03-14T17:24:17.309102Z",
     "shell.execute_reply.started": "2022-03-14T17:24:15.272810Z"
    },
    "tags": []
   },
   "outputs": [],
   "source": [
    "import glob\n",
    "import os\n",
    "import naas"
   ]
  },
  {
   "cell_type": "markdown",
   "id": "b15b304b-9f82-4349-bb83-3fc55e74b09a",
   "metadata": {},
   "source": [
    "### Schedule your notebook"
   ]
  },
  {
   "cell_type": "code",
   "execution_count": 2,
   "id": "1383d1a5-9741-4376-abe9-ae608709b7da",
   "metadata": {
    "execution": {
     "iopub.execute_input": "2022-03-14T17:24:17.315869Z",
     "iopub.status.busy": "2022-03-14T17:24:17.311942Z",
     "iopub.status.idle": "2022-03-14T17:24:17.926477Z",
     "shell.execute_reply": "2022-03-14T17:24:17.925645Z",
     "shell.execute_reply.started": "2022-03-14T17:24:17.315835Z"
    },
    "tags": []
   },
   "outputs": [
    {
     "name": "stdout",
     "output_type": "stream",
     "text": [
      "👌 Well done! Your Notebook has been sent to production.\n",
      "\n",
      "⏰ It will be scheduled \"At 09:00 every day\" (more on the syntax on https://crontab.guru/).\n",
      "\n",
      "Ps: to remove the \"Scheduler\", just replace .add by .delete\n"
     ]
    }
   ],
   "source": [
    "# Schedule your notebook everyday at 9 AM\n",
    "naas.scheduler.add(cron=\"0 9 * * *\")\n",
    "\n",
    "#-> Uncomment the line below to remove your scheduler\n",
    "# naas.scheduler.delete()"
   ]
  },
  {
   "cell_type": "markdown",
   "id": "registered-showcase",
   "metadata": {},
   "source": [
    "## Model"
   ]
  },
  {
   "cell_type": "markdown",
   "id": "ac7782a9-6141-4032-b337-231bb7360a2a",
   "metadata": {},
   "source": [
    "### Remove nested \"⚡ → Production\" symlink.\n",
    "\n",
    "Due to an old bug, there is a possibility that \"⚡ → Production\" are created while only one should exists at \"/home/ftp/⚡ → Production\".\n",
    "\n",
    "Here we remove them to improve globbing speed and sanity."
   ]
  },
  {
   "cell_type": "code",
   "execution_count": 3,
   "id": "02ab32c0-17c9-43f2-81e8-e2ccbe928426",
   "metadata": {
    "execution": {
     "iopub.execute_input": "2022-03-14T17:24:17.936671Z",
     "iopub.status.busy": "2022-03-14T17:24:17.933173Z",
     "iopub.status.idle": "2022-03-14T17:24:17.945440Z",
     "shell.execute_reply": "2022-03-14T17:24:17.944552Z",
     "shell.execute_reply.started": "2022-03-14T17:24:17.936634Z"
    },
    "tags": []
   },
   "outputs": [],
   "source": [
    "def remove_production_symlinks():\n",
    "    for prod_symlink in glob.glob('/home/ftp/.naas/home/ftp/**/⚡ → Production', recursive=True):\n",
    "        os.unlink(prod_symlink)"
   ]
  },
  {
   "cell_type": "markdown",
   "id": "f8bc8c81-c50d-4449-8693-03fdd28c4cb5",
   "metadata": {},
   "source": [
    "### Remove scheduler outputs."
   ]
  },
  {
   "cell_type": "code",
   "execution_count": 4,
   "id": "eb14af60-5484-4a97-b465-d6f288360c7b",
   "metadata": {
    "execution": {
     "iopub.execute_input": "2022-03-14T17:24:17.953003Z",
     "iopub.status.busy": "2022-03-14T17:24:17.951239Z",
     "iopub.status.idle": "2022-03-14T17:24:18.036942Z",
     "shell.execute_reply": "2022-03-14T17:24:18.036172Z",
     "shell.execute_reply.started": "2022-03-14T17:24:17.952971Z"
    },
    "tags": []
   },
   "outputs": [],
   "source": [
    "def remove_scheduler_outputs():\n",
    "    for scheduler_output in glob.glob('/home/ftp/.naas/home/ftp/**/*__output_*.ipynb', recursive=True):\n",
    "        os.remove(scheduler_output)\n",
    "        print(f'✅ DELETED: {scheduler_output}')"
   ]
  },
  {
   "cell_type": "markdown",
   "id": "lonely-pacific",
   "metadata": {
    "execution": {
     "iopub.execute_input": "2021-07-02T23:32:10.789097Z",
     "iopub.status.busy": "2021-07-02T23:32:10.788829Z",
     "iopub.status.idle": "2021-07-02T23:32:10.796900Z",
     "shell.execute_reply": "2021-07-02T23:32:10.796358Z",
     "shell.execute_reply.started": "2021-07-02T23:32:10.789033Z"
    }
   },
   "source": [
    "## Output"
   ]
  },
  {
   "cell_type": "code",
   "execution_count": 5,
   "id": "db205965-a2dc-4541-ba8e-db3250d1cff0",
   "metadata": {
    "execution": {
     "iopub.execute_input": "2022-03-14T17:24:18.046565Z",
     "iopub.status.busy": "2022-03-14T17:24:18.038107Z",
     "iopub.status.idle": "2022-03-14T17:24:18.234780Z",
     "shell.execute_reply": "2022-03-14T17:24:18.234211Z",
     "shell.execute_reply.started": "2022-03-14T17:24:18.046522Z"
    },
    "tags": []
   },
   "outputs": [
    {
     "name": "stdout",
     "output_type": "stream",
     "text": [
      "✅ DELETED: /home/ftp/.naas/home/ftp/engines/miner-fighter/20220314182106324385___output__DECISION.ipynb\n",
      "✅ DELETED: /home/ftp/.naas/home/ftp/engines/miner-fighter/20220314182037169592___output__CRAWLER_weave_scope.ipynb\n"
     ]
    }
   ],
   "source": [
    "remove_production_symlinks()\n",
    "remove_scheduler_outputs()"
   ]
  }
 ],
 "metadata": {
  "kernelspec": {
   "display_name": "Python 3",
   "language": "python",
   "name": "python3"
  },
  "language_info": {
   "codemirror_mode": {
    "name": "ipython",
    "version": 3
   },
   "file_extension": ".py",
   "mimetype": "text/x-python",
   "name": "python",
   "nbconvert_exporter": "python",
   "pygments_lexer": "ipython3",
   "version": "3.9.6"
  },
  "papermill": {
   "default_parameters": {},
   "environment_variables": {},
   "parameters": {},
   "version": "2.3.3"
  },
  "widgets": {
   "application/vnd.jupyter.widget-state+json": {
    "state": {},
    "version_major": 2,
    "version_minor": 0
   }
  }
 },
 "nbformat": 4,
 "nbformat_minor": 5
}
