{
 "cells": [
  {
   "cell_type": "markdown",
   "metadata": {},
   "source": [
    "<img width=\"10%\" alt=\"Naas\" src=\"https://landen.imgix.net/jtci2pxwjczr/assets/5ice39g4.png?w=160\"/>"
   ]
  },
  {
   "cell_type": "markdown",
   "metadata": {},
   "source": [
    "# Snowflake - Creating a table in Snowflake "
   ]
  },
  {
   "cell_type": "markdown",
   "metadata": {},
   "source": [
    "<img width=\"20%\" alt=\"Naas\" src=\"https://landen.imgix.net/jtci2pxwjczr/assets/vaqyx6is.png?w=400&h=200&fit=crop\"/>"
   ]
  },
  {
   "cell_type": "markdown",
   "metadata": {},
   "source": [
    "## Step 1 - Insert your credentials"
   ]
  },
  {
   "cell_type": "code",
   "execution_count": 1,
   "metadata": {},
   "outputs": [],
   "source": [
    "username = \"sanjaynaas\"\n",
    "password = \"Password123\""
   ]
  },
  {
   "cell_type": "markdown",
   "metadata": {},
   "source": [
    "## Step 2 - Specify your account details"
   ]
  },
  {
   "cell_type": "code",
   "execution_count": 2,
   "metadata": {},
   "outputs": [],
   "source": [
    "account = \"iz84541.europe-west4.gcp\"\n",
    "database = \"DEMO_DB\"\n",
    "table_name = \"NAAS_NEW\"\n",
    "warehouse_name = \"COMPUTE_WH\"\n",
    "schema_name = \"PUBLIC\""
   ]
  },
  {
   "cell_type": "markdown",
   "metadata": {},
   "source": [
    "## Step 3 - Connecting to Snowflake"
   ]
  },
  {
   "cell_type": "code",
   "execution_count": 3,
   "metadata": {},
   "outputs": [
    {
     "name": "stdout",
     "output_type": "stream",
     "text": [
      "Establishing connection to Snowflake\n",
      "Connection established\n"
     ]
    }
   ],
   "source": [
    "from snowflakeconnector import SnowflakeConnector\n",
    "import snowflake.connector as snow\n",
    "conn = snow.connect(user=username,password=password,account=account)\n",
    "cur = conn.cursor()\n",
    "instance = SnowflakeConnector(username,password,account,database)"
   ]
  },
  {
   "cell_type": "markdown",
   "metadata": {},
   "source": [
    "## Step 4 - Setting the environment"
   ]
  },
  {
   "cell_type": "code",
   "execution_count": 4,
   "metadata": {},
   "outputs": [
    {
     "data": {
      "text/plain": [
       "<snowflake.connector.cursor.SnowflakeCursor at 0x7fc9cd0e8880>"
      ]
     },
     "execution_count": 4,
     "metadata": {},
     "output_type": "execute_result"
    }
   ],
   "source": [
    "admin = \"USE ROLE SYSADMIN\"\n",
    "cur.execute(admin)\n",
    "warehouse_selection = \"USE WAREHOUSE \" + warehouse_name\n",
    "cur.execute(warehouse_selection)\n",
    "database_selection = \"USE DATABASE \" + database\n",
    "cur.execute(database_selection)\n",
    "schema_selection = \"USE SCHEMA \" + schema_name\n",
    "cur.execute(schema_selection)"
   ]
  },
  {
   "cell_type": "markdown",
   "metadata": {},
   "source": [
    "## Step 5 - Table Creation "
   ]
  },
  {
   "cell_type": "code",
   "execution_count": 5,
   "metadata": {},
   "outputs": [
    {
     "data": {
      "text/plain": [
       "<snowflake.connector.cursor.SnowflakeCursor at 0x7fc9cd0e8880>"
      ]
     },
     "execution_count": 5,
     "metadata": {},
     "output_type": "execute_result"
    }
   ],
   "source": [
    "table_creation = \"CREATE TABLE \" + table_name + \"(MONTH varchar, YEAR int,ITEM varchar,AMOUNT int,CURRENCY varchar)\"\n",
    "cur.execute(table_creation)"
   ]
  },
  {
   "cell_type": "markdown",
   "metadata": {},
   "source": [
    "## Step 6 - Loading the csv"
   ]
  },
  {
   "cell_type": "code",
   "execution_count": 6,
   "metadata": {},
   "outputs": [
    {
     "data": {
      "text/plain": [
       "[['MONTH', 'YEAR', 'ITEM', 'AMOUNT', 'CURRENCY'],\n",
       " ['Febuary', '2020', 'Product F', '23202100', 'USD'],\n",
       " ['Febuary', '2020', 'Product G', '6720100', 'USD'],\n",
       " ['Febuary', '2020', 'Product H', '17232000', 'USD']]"
      ]
     },
     "execution_count": 6,
     "metadata": {},
     "output_type": "execute_result"
    }
   ],
   "source": [
    "import csv\n",
    "with open('Excel-Sales_Feb2020.csv') as f:\n",
    "    reader = csv.reader(f)\n",
    "    d_list = list(reader)\n",
    "d_list"
   ]
  },
  {
   "cell_type": "markdown",
   "metadata": {},
   "source": [
    "## Step 7 - Inserting into the table"
   ]
  },
  {
   "cell_type": "code",
   "execution_count": 7,
   "metadata": {},
   "outputs": [
    {
     "name": "stdout",
     "output_type": "stream",
     "text": [
      "Executing Query\n",
      "Query Successful!\n",
      "Executing Query\n",
      "Query Successful!\n",
      "Executing Query\n",
      "Query Successful!\n"
     ]
    }
   ],
   "source": [
    "for i in range(1,len(d_list)):\n",
    "    table_insert_csv_query= \"INSERT INTO \" + table_name + \" VALUES\"\n",
    "    table_insert_csv_query = table_insert_csv_query +str(tuple(d_list[i]))\n",
    "    instance.execute_query(table_insert_csv_query,query_type=\"push\")"
   ]
  },
  {
   "cell_type": "markdown",
   "metadata": {},
   "source": [
    "## Step 8 - Showing the updated table"
   ]
  },
  {
   "cell_type": "code",
   "execution_count": 8,
   "metadata": {},
   "outputs": [
    {
     "name": "stdout",
     "output_type": "stream",
     "text": [
      "Executing Query\n"
     ]
    },
    {
     "data": {
      "text/html": [
       "<div>\n",
       "<style scoped>\n",
       "    .dataframe tbody tr th:only-of-type {\n",
       "        vertical-align: middle;\n",
       "    }\n",
       "\n",
       "    .dataframe tbody tr th {\n",
       "        vertical-align: top;\n",
       "    }\n",
       "\n",
       "    .dataframe thead th {\n",
       "        text-align: right;\n",
       "    }\n",
       "</style>\n",
       "<table border=\"1\" class=\"dataframe\">\n",
       "  <thead>\n",
       "    <tr style=\"text-align: right;\">\n",
       "      <th></th>\n",
       "      <th>0</th>\n",
       "      <th>1</th>\n",
       "      <th>2</th>\n",
       "      <th>3</th>\n",
       "      <th>4</th>\n",
       "    </tr>\n",
       "  </thead>\n",
       "  <tbody>\n",
       "    <tr>\n",
       "      <th>0</th>\n",
       "      <td>Febuary</td>\n",
       "      <td>2020</td>\n",
       "      <td>Product F</td>\n",
       "      <td>23202100</td>\n",
       "      <td>USD</td>\n",
       "    </tr>\n",
       "    <tr>\n",
       "      <th>1</th>\n",
       "      <td>Febuary</td>\n",
       "      <td>2020</td>\n",
       "      <td>Product G</td>\n",
       "      <td>6720100</td>\n",
       "      <td>USD</td>\n",
       "    </tr>\n",
       "    <tr>\n",
       "      <th>2</th>\n",
       "      <td>Febuary</td>\n",
       "      <td>2020</td>\n",
       "      <td>Product H</td>\n",
       "      <td>17232000</td>\n",
       "      <td>USD</td>\n",
       "    </tr>\n",
       "  </tbody>\n",
       "</table>\n",
       "</div>"
      ],
      "text/plain": [
       "         0     1          2         3    4\n",
       "0  Febuary  2020  Product F  23202100  USD\n",
       "1  Febuary  2020  Product G   6720100  USD\n",
       "2  Febuary  2020  Product H  17232000  USD"
      ]
     },
     "execution_count": 8,
     "metadata": {},
     "output_type": "execute_result"
    }
   ],
   "source": [
    "table_display_query = \"SELECT * FROM \" + table_name\n",
    "#Fetch records from Snowflake database\n",
    "instance.execute_query(table_display_query,query_type=\"pull\")"
   ]
  }
 ],
 "metadata": {
  "kernelspec": {
   "display_name": "Python 3",
   "language": "python",
   "name": "python3"
  },
  "language_info": {
   "codemirror_mode": {
    "name": "ipython",
    "version": 3
   },
   "file_extension": ".py",
   "mimetype": "text/x-python",
   "name": "python",
   "nbconvert_exporter": "python",
   "pygments_lexer": "ipython3",
   "version": "3.8.6"
  }
 },
 "nbformat": 4,
 "nbformat_minor": 4
}
