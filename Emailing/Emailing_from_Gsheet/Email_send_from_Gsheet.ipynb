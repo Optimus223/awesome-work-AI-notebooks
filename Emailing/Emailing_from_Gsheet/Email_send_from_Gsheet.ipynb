{
 "cells": [
  {
   "cell_type": "markdown",
   "metadata": {},
   "source": [
    "<img width=\"10%\" alt=\"Naas\" src=\"https://landen.imgix.net/jtci2pxwjczr/assets/5ice39g4.png?w=160\"/>"
   ]
  },
  {
   "cell_type": "markdown",
   "metadata": {},
   "source": [
    "**Awesome Notebooks 👌**"
   ]
  },
  {
   "cell_type": "markdown",
   "metadata": {},
   "source": [
    "# Emailing - Send emails from Gsheet"
   ]
  },
  {
   "cell_type": "markdown",
   "metadata": {},
   "source": [
    "<img width=\"20%\" alt=\"Naas\" src=\"https://labs.meanpug.com/content/images/2020/04/Google-Sheets-1.png\"/>\n"
   ]
  },
  {
   "cell_type": "markdown",
   "metadata": {},
   "source": [
    "<img width=\"20%\" alt=\"Naas\" src=\"https://www.practicalecommerce.com/wp-content/uploads/2020/04/Capture-Gmail-Messages-in-Google-Sheet.jpg\"/>\n"
   ]
  },
  {
   "cell_type": "markdown",
   "metadata": {},
   "source": [
    "Example : to a list of people in Gmail."
   ]
  },
  {
   "cell_type": "markdown",
   "metadata": {},
   "source": [
    "## Reading from the gsheet"
   ]
  },
  {
   "cell_type": "code",
   "execution_count": 1,
   "metadata": {},
   "outputs": [
    {
     "data": {
      "text/html": [
       "<div>\n",
       "<style scoped>\n",
       "    .dataframe tbody tr th:only-of-type {\n",
       "        vertical-align: middle;\n",
       "    }\n",
       "\n",
       "    .dataframe tbody tr th {\n",
       "        vertical-align: top;\n",
       "    }\n",
       "\n",
       "    .dataframe thead th {\n",
       "        text-align: right;\n",
       "    }\n",
       "</style>\n",
       "<table border=\"1\" class=\"dataframe\">\n",
       "  <thead>\n",
       "    <tr style=\"text-align: right;\">\n",
       "      <th></th>\n",
       "      <th>FIRST NAME</th>\n",
       "      <th>LAST NAME</th>\n",
       "      <th>EMAIL</th>\n",
       "    </tr>\n",
       "  </thead>\n",
       "  <tbody>\n",
       "    <tr>\n",
       "      <th>0</th>\n",
       "      <td>Jeremy</td>\n",
       "      <td>Ravenel</td>\n",
       "      <td>jeremy.ravenel@cashstory.com</td>\n",
       "    </tr>\n",
       "    <tr>\n",
       "      <th>1</th>\n",
       "      <td>Jeremy</td>\n",
       "      <td>Lvr</td>\n",
       "      <td>ravenel.jeremy@gmail.com</td>\n",
       "    </tr>\n",
       "    <tr>\n",
       "      <th>2</th>\n",
       "      <td>Bob</td>\n",
       "      <td>CashStory</td>\n",
       "      <td>bob@cashstory.com</td>\n",
       "    </tr>\n",
       "    <tr>\n",
       "      <th>3</th>\n",
       "      <td>Martin</td>\n",
       "      <td>Donadieu</td>\n",
       "      <td>martin.donadieu@cashstory.com</td>\n",
       "    </tr>\n",
       "    <tr>\n",
       "      <th>4</th>\n",
       "      <td>Florent</td>\n",
       "      <td>Ravenel</td>\n",
       "      <td>florent.ravenel@cashstory.com</td>\n",
       "    </tr>\n",
       "    <tr>\n",
       "      <th>5</th>\n",
       "      <td>Admin</td>\n",
       "      <td>CashStory</td>\n",
       "      <td>administration@cashstory.com</td>\n",
       "    </tr>\n",
       "  </tbody>\n",
       "</table>\n",
       "</div>"
      ],
      "text/plain": [
       "  FIRST NAME  LAST NAME                          EMAIL\n",
       "0     Jeremy    Ravenel   jeremy.ravenel@cashstory.com\n",
       "1     Jeremy        Lvr       ravenel.jeremy@gmail.com\n",
       "2        Bob  CashStory              bob@cashstory.com\n",
       "3     Martin   Donadieu  martin.donadieu@cashstory.com\n",
       "4    Florent    Ravenel  florent.ravenel@cashstory.com\n",
       "5      Admin  CashStory   administration@cashstory.com"
      ]
     },
     "execution_count": 1,
     "metadata": {},
     "output_type": "execute_result"
    }
   ],
   "source": [
    "import naas_drivers\n",
    "spreadsheet_id = \"1swGTMX6d_N8-AVRueBEd8C0J6OlvO218iDSVMootWZk\"\n",
    "data = naas_drivers.gsheet.connect(spreadsheet_id).get(sheet_name=\"Sheet1\")\n",
    "data"
   ]
  },
  {
   "cell_type": "markdown",
   "metadata": {},
   "source": [
    "## Setting your email address"
   ]
  },
  {
   "cell_type": "code",
   "execution_count": 2,
   "metadata": {},
   "outputs": [],
   "source": [
    "your_email = \"jeremy.ravenel@cashstory.com\"\n",
    "firstname_list = data['FIRST NAME']\n",
    "email_list = data['EMAIL']"
   ]
  },
  {
   "cell_type": "markdown",
   "metadata": {},
   "source": [
    "# Mail preview"
   ]
  },
  {
   "cell_type": "code",
   "execution_count": 3,
   "metadata": {},
   "outputs": [
    {
     "name": "stdout",
     "output_type": "stream",
     "text": [
      "👌 Well done! Your Assets has been sent to production.\n",
      "\n"
     ]
    },
    {
     "data": {
      "application/vnd.jupyter.widget-view+json": {
       "model_id": "369dc8db561c48b1a4486c85a449a588",
       "version_major": 2,
       "version_minor": 0
      },
      "text/plain": [
       "Button(button_style='primary', description='Copy URL', style=ButtonStyle())"
      ]
     },
     "metadata": {},
     "output_type": "display_data"
    },
    {
     "data": {
      "application/vnd.jupyter.widget-view+json": {
       "model_id": "7c2a489b2edd404d927912657616189b",
       "version_major": 2,
       "version_minor": 0
      },
      "text/plain": [
       "Output()"
      ]
     },
     "metadata": {},
     "output_type": "display_data"
    },
    {
     "name": "stdout",
     "output_type": "stream",
     "text": [
      "PS: to remove the \"Assets\" feature, just replace .add by .delete\n"
     ]
    },
    {
     "data": {
      "text/html": [
       "\n",
       "            <script>\n",
       "                function resizeIframe_d5df83ba6f8b483db9d19c8c90d43479(obj) {\n",
       "                    obj.style.height = obj.contentWindow.document.documentElement.scrollHeight + 'px';\n",
       "                }\n",
       "            </script>\n",
       "            <iframe id=\"FileFrame_d5df83ba6f8b483db9d19c8c90d43479\" src=\"about:blank\"\n",
       "                style=\"border: 0; width: 100%; height: 100%\" onload=\"resizeIframe_d5df83ba6f8b483db9d19c8c90d43479(this)\">\n",
       "            </iframe>\n",
       "            <script type=\"text/javascript\">\n",
       "            var doc_d5df83ba6f8b483db9d19c8c90d43479 = document.getElementById('FileFrame_d5df83ba6f8b483db9d19c8c90d43479').contentWindow.document;\n",
       "            doc_d5df83ba6f8b483db9d19c8c90d43479.open();\n",
       "            doc_d5df83ba6f8b483db9d19c8c90d43479.write(`<html lang='en'><head><meta httpequiv='Content-Type' content='text/html; charset=utf-8'/> <meta httpequiv='Content-Type' content='width=device-width, initial-scale=1'/> <meta name='viewport' content='width=device-width, initial-scale=1'/> <meta httpequiv='X-UA-Compatible' content='IE=edge'/> <style>\n",
       "/* CLIENT-SPECIFIC STYLES */\n",
       "body, table, td, a { -webkit-text-size-adjust: 100%; -ms-text-size-adjust: 100%; }\n",
       "table, td { mso-table-lspace: 0pt; mso-table-rspace: 0pt; }\n",
       "img { -ms-interpolation-mode: bicubic; }\n",
       "\n",
       "/* RESET STYLES */\n",
       "img { border: 0; height: auto; line-height: 100%; outline: none; text-decoration: none; }\n",
       "table { border-collapse: collapse !important; text-align: left !important; }\n",
       "body { height: 100% !important; margin: 0 !important; padding: 0 !important; width: 100% !important; }\n",
       "\n",
       "/* iOS BLUE LINKS */\n",
       "a[x-apple-data-detectors] {\n",
       "    color: inherit !important;\n",
       "    text-decoration: none !important;\n",
       "    font-size: inherit !important;\n",
       "    font-family: inherit !important;\n",
       "    font-weight: inherit !important;\n",
       "    line-height: inherit !important;\n",
       "}\n",
       "\n",
       "/* GMAIL BLUE LINKS */\n",
       "u + #body a {\n",
       "    color: inherit;\n",
       "    text-decoration: none;\n",
       "    font-size: inherit;\n",
       "    font-family: inherit;\n",
       "    font-weight: inherit;\n",
       "    line-height: inherit;\n",
       "}\n",
       "\n",
       "/* SAMSUNG MAIL BLUE LINKS */\n",
       "#MessageViewBody a {\n",
       "    color: inherit;\n",
       "    text-decoration: none;\n",
       "    font-size: inherit;\n",
       "    font-family: inherit;\n",
       "    font-weight: inherit;\n",
       "    line-height: inherit;\n",
       "}\n",
       "\n",
       "a { color: #B200FD; font-weight: 600; text-decoration: underline; }\n",
       "a:hover { color: #000000 !important; text-decoration: none !important; background-color: #5c1958 !important; }\n",
       "a.button:hover { color: #ffffff !important; background-color: #5c1958 !important; }\n",
       "\n",
       "td, th {\n",
       "    padding: 10px;\n",
       "}\n",
       "\n",
       "table * {\n",
       "    margin: 18px 0 !important;\n",
       "}\n",
       "\n",
       ".table_border {\n",
       "  border-collapse: collapse;\n",
       "  border-radius: 1em;\n",
       "  overflow: hidden;\n",
       "}\n",
       ".table_border tr:hover {\n",
       "  background-color: AliceBlue !important;\n",
       "  color: black;\n",
       "}\n",
       ".table_border tr:first-child td:first-of-type {\n",
       "  border-top-left-radius: 10px;\n",
       "}\n",
       ".table_border tr:first-child td:last-of-type {\n",
       "  border-top-right-radius: 10px;\n",
       "}\n",
       "\n",
       ".table_border tr:last-of-type td:first-of-type {\n",
       "  border-bottom-left-radius: 10px;\n",
       "}\n",
       ".table_border tr:last-of-type td:last-of-type {\n",
       "  border-bottom-right-radius: 10px;\n",
       "}\n",
       ".table_border tr:nth-child(even) { background-color: ghostwhite}\n",
       "\n",
       "@media screen and (min-width:600px) {\n",
       "    h1 { font-size: 48px !important; line-height: 48px !important; }\n",
       "    .intro { font-size: 24px !important; line-height: 36px !important; }\n",
       "}\n",
       ".basic_font {\n",
       "    font-family: 'Avenir Next', -apple-system, BlinkMacSystemFont, 'Segoe UI', Roboto, Helvetica, Arial, sans-serif, 'Apple Color Emoji', 'Segoe UI Emoji', 'Segoe UI Symbol';  # noqa: E501\n",
       "}\n",
       "</style> <title>🎅 Merry Christmas</title></head> <body style='margin: 0 !important; padding: 0 !important; '><div style='display: none; max-height: 0; overflow: hidden; '>🎅 Merry Christmas</div> <div style='display: none; max-height: 0; overflow: hidden; '>&nbsp;‌&nbsp;‌&nbsp;‌&nbsp;‌&nbsp;‌&nbsp;‌&nbsp;‌&nbsp;‌&nbsp;‌&nbsp;‌&nbsp;‌&nbsp;‌&nbsp;‌&nbsp;‌&nbsp;‌&nbsp;‌&nbsp;‌&nbsp;‌&nbsp;‌&nbsp;‌&nbsp;‌&nbsp;‌&nbsp;‌&nbsp;‌&nbsp;‌&nbsp;‌&nbsp;‌&nbsp;‌&nbsp;‌&nbsp;‌&nbsp;‌&nbsp;‌&nbsp;‌&nbsp;‌&nbsp;‌&nbsp;‌&nbsp;‌&nbsp;‌&nbsp;‌&nbsp;‌&nbsp;‌&nbsp;‌&nbsp;‌&nbsp;‌&nbsp;‌&nbsp;‌&nbsp;‌&nbsp;‌&nbsp;‌&nbsp;‌&nbsp;‌&nbsp;‌&nbsp;‌&nbsp;‌&nbsp;‌&nbsp;‌&nbsp;‌&nbsp;‌&nbsp;‌&nbsp;‌&nbsp;‌&nbsp;‌&nbsp;‌&nbsp;‌&nbsp;‌&nbsp;‌&nbsp;‌&nbsp;‌&nbsp;‌&nbsp;‌&nbsp;‌&nbsp;‌&nbsp;‌&nbsp;‌&nbsp;‌&nbsp;‌&nbsp;‌&nbsp;‌&nbsp;‌&nbsp;‌&nbsp;‌&nbsp;‌&nbsp;‌&nbsp;‌&nbsp;‌&nbsp;‌&nbsp;‌&nbsp;‌&nbsp;‌&nbsp;‌&nbsp;‌&nbsp;‌&nbsp;‌&nbsp;‌&nbsp;‌&nbsp;‌&nbsp;‌&nbsp;‌&nbsp;‌&nbsp;‌&nbsp;‌&nbsp;‌&nbsp;‌&nbsp;‌&nbsp;‌&nbsp;‌&nbsp;‌&nbsp;‌&nbsp;‌&nbsp;‌&nbsp;‌&nbsp;‌&nbsp;‌&nbsp;‌&nbsp;‌&nbsp;‌&nbsp;‌&nbsp;‌&nbsp;‌&nbsp;‌&nbsp;‌&nbsp;‌&nbsp;‌&nbsp;‌&nbsp;‌&nbsp;‌&nbsp;‌&nbsp;‌&nbsp;‌&nbsp;‌&nbsp;‌&nbsp;‌&nbsp;‌&nbsp;‌&nbsp;‌&nbsp;‌&nbsp;‌&nbsp;‌&nbsp;‌&nbsp;‌&nbsp;‌&nbsp;‌&nbsp;‌&nbsp;‌&nbsp;‌&nbsp;‌&nbsp;‌&nbsp;‌&nbsp;‌&nbsp;‌&nbsp;‌&nbsp;‌&nbsp;‌&nbsp;‌&nbsp;‌&nbsp;‌&nbsp;‌&nbsp;‌&nbsp;‌&nbsp;‌&nbsp;‌&nbsp;‌&nbsp;‌&nbsp;‌&nbsp;‌&nbsp;‌&nbsp;‌&nbsp;‌&nbsp;‌&nbsp;‌&nbsp;‌&nbsp;‌&nbsp;‌&nbsp;‌&nbsp;‌&nbsp;‌&nbsp;‌&nbsp;‌&nbsp;‌&nbsp;‌&nbsp;‌&nbsp;‌&nbsp;‌&nbsp;‌&nbsp;‌&nbsp;‌&nbsp;‌&nbsp;‌&nbsp;‌&nbsp;‌&nbsp;‌&nbsp;‌&nbsp;‌&nbsp;‌&nbsp;‌&nbsp;‌&nbsp;‌&nbsp;‌&nbsp;‌&nbsp;‌&nbsp;‌&nbsp;‌&nbsp;‌&nbsp;‌&nbsp;‌&nbsp;‌&nbsp;‌&nbsp;‌&nbsp;‌&nbsp;‌&nbsp;‌&nbsp;‌&nbsp;‌&nbsp;‌&nbsp;‌&nbsp;‌&nbsp;‌&nbsp;‌&nbsp;‌&nbsp;‌&nbsp;‌&nbsp;‌&nbsp;‌&nbsp;‌&nbsp;‌&nbsp;‌&nbsp;‌&nbsp;‌&nbsp;‌&nbsp;‌&nbsp;‌&nbsp;‌&nbsp;‌&nbsp;‌&nbsp;‌&nbsp;‌&nbsp;‌&nbsp;‌&nbsp;‌&nbsp;‌</div> \n",
       "<!--[if (gte mso 9)|(IE)]>\n",
       "<table cellspacing=\"0\" cellpadding=\"0\" border=\"0\" width=\"720\" align=\"center\" role=\"presentation\"><tr><td>\n",
       "<![endif]-->\n",
       " <div lang='en' class='basic_font' style='background-color: white; color: #2b2b2b; font-size: 18px; font-weight: 400; line-height: 28px; margin: 0 auto; max-width: 720px; padding: 40px 20px 40px 20px; '><header><h1 style='color: #000000; font-size: 32px; font-weight: 800; line-height: 32px; margin: 48px 0; text-align: center; '>🎅 Merry Christmas <br/></h1></header> <main><h2 style='color: #000000; font-size: 28px; font-weight: 600; line-height: 32px; margin: 48px 0 24px 0; text-align: center; '>& Happy new year {first_name} 🍾</h2> <img src='https://public.naas.ai/c2FuamF5LTJFcy00MGJyaWRnZS0yRGdsb2JhbC0yRWNvbQ==/asset/d00c788b5e3a2d8b1dfd5f4016eb1ab21748ec0006b5011101bc623b38ae?naas_uid=f2c719ce-7910-40e1-b7bb-54a4bf3d8f87' height='80%' width='100%' style='border-radius: 4px; margin: 0 auto 0 0; display: block; '/> <p style='font-size: 18px; padding-left: 10px; padding-right: 10px; '>Even if 2020 has been extremely difficult year, let's make 2021 better!</p> <p style='font-size: 18px; padding-left: 10px; padding-right: 10px; '>Keep smiling,</p> <p style='font-size: 18px; padding-left: 10px; padding-right: 10px; '>Keep laughing,</p> <p style='font-size: 18px; padding-left: 10px; padding-right: 10px; '>Spread love ❤️</p></main></div> \n",
       "<!--[if (gte mso 9)|(IE)]>\n",
       "</td></tr></table>\n",
       "<![endif]-->\n",
       "</body></html>`);\n",
       "            doc_d5df83ba6f8b483db9d19c8c90d43479.close();\n",
       "            </script>\n",
       "            "
      ],
      "text/plain": [
       "<IPython.core.display.HTML object>"
      ]
     },
     "metadata": {},
     "output_type": "display_data"
    }
   ],
   "source": [
    "import naas\n",
    "url_image = naas.assets.add(\"2020.gif\")\n",
    "email_content = naas_drivers.html.generate( \n",
    "        display='iframe',\n",
    "        title='🎅 Merry Christmas',\n",
    "        heading= '& Happy new year {first_name} 🍾',\n",
    "        image = f\"{url_image}\",\n",
    "        text_1= \"Even if 2020 has been extremely difficult year, let's make 2021 better!\",\n",
    "        text_2= \"Keep smiling,\",\n",
    "        text_3= \"Keep laughing,\",\n",
    "        text_4= \"Spread love ❤️\",\n",
    "        \n",
    ")"
   ]
  },
  {
   "cell_type": "markdown",
   "metadata": {},
   "source": [
    "## Sending emails"
   ]
  },
  {
   "cell_type": "code",
   "execution_count": 4,
   "metadata": {},
   "outputs": [
    {
     "name": "stdout",
     "output_type": "stream",
     "text": [
      "👌 💌 Email has been sent successfully !\n",
      "👌 💌 Email has been sent successfully !\n",
      "👌 💌 Email has been sent successfully !\n",
      "👌 💌 Email has been sent successfully !\n",
      "👌 💌 Email has been sent successfully !\n",
      "👌 💌 Email has been sent successfully !\n"
     ]
    }
   ],
   "source": [
    "for i in range(len(data)):\n",
    "    subject = \"Merry Christmas & spread love for 2021 ❤️\"\n",
    "    content = email_content.replace(\"{first_name}\",firstname_list[i])\n",
    "    naas.notifications.send(email_to=email_list[i], subject=subject, html=content, email_from=your_email)"
   ]
  }
 ],
 "metadata": {
  "kernelspec": {
   "display_name": "Python 3",
   "language": "python",
   "name": "python3"
  },
  "language_info": {
   "codemirror_mode": {
    "name": "ipython",
    "version": 3
   },
   "file_extension": ".py",
   "mimetype": "text/x-python",
   "name": "python",
   "nbconvert_exporter": "python",
   "pygments_lexer": "ipython3",
   "version": "3.8.6"
  }
 },
 "nbformat": 4,
 "nbformat_minor": 4
}
