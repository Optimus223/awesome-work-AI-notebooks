{
 "cells": [
  {
   "cell_type": "markdown",
   "metadata": {},
   "source": [
    "<img width=\"10%\" alt=\"Naas\" src=\"https://landen.imgix.net/jtci2pxwjczr/assets/5ice39g4.png?w=160\"/>"
   ]
  },
  {
   "cell_type": "markdown",
   "metadata": {},
   "source": [
    "# Mailbox read"
   ]
  },
  {
   "cell_type": "markdown",
   "metadata": {},
   "source": [
    "<img width=\"20%\" alt=\"Naas\" src=\"https://cdn.vox-cdn.com/thumbor/K-q2WRPRyxxzzPLjxHGt26swMfM=/0x0:1320x880/1200x800/filters:focal(555x335:765x545)/cdn.vox-cdn.com/uploads/chorus_image/image/67587450/newgmaillogo.0.jpg\"/>"
   ]
  },
  {
   "cell_type": "markdown",
   "metadata": {},
   "source": [
    "## Account credentials"
   ]
  },
  {
   "cell_type": "code",
   "execution_count": 2,
   "metadata": {},
   "outputs": [],
   "source": [
    "username = \"*********@gmail.com\"\n",
    "to = \"*********@gmail.com\"\n",
    "password = \"*********\"\n",
    "smtp_server = \"imap.gmail.com\"\n",
    "box = \"INBOX\""
   ]
  },
  {
   "cell_type": "markdown",
   "metadata": {},
   "source": [
    "## Connect to email box"
   ]
  },
  {
   "cell_type": "code",
   "execution_count": 3,
   "metadata": {},
   "outputs": [],
   "source": [
    "import naas_drivers\n",
    "emails = naas_drivers.email.connect(username, \n",
    "        password, \n",
    "        username, \n",
    "        smtp_server)"
   ]
  },
  {
   "cell_type": "markdown",
   "metadata": {},
   "source": [
    "## Get email list"
   ]
  },
  {
   "cell_type": "code",
   "execution_count": 4,
   "metadata": {},
   "outputs": [
    {
     "data": {
      "text/html": [
       "<div>\n",
       "<style scoped>\n",
       "    .dataframe tbody tr th:only-of-type {\n",
       "        vertical-align: middle;\n",
       "    }\n",
       "\n",
       "    .dataframe tbody tr th {\n",
       "        vertical-align: top;\n",
       "    }\n",
       "\n",
       "    .dataframe thead th {\n",
       "        text-align: right;\n",
       "    }\n",
       "</style>\n",
       "<table border=\"1\" class=\"dataframe\">\n",
       "  <thead>\n",
       "    <tr style=\"text-align: right;\">\n",
       "      <th></th>\n",
       "      <th>uid</th>\n",
       "      <th>subject</th>\n",
       "      <th>from</th>\n",
       "      <th>to</th>\n",
       "      <th>cc</th>\n",
       "      <th>bcc</th>\n",
       "      <th>reply_to</th>\n",
       "      <th>date</th>\n",
       "      <th>text</th>\n",
       "      <th>html</th>\n",
       "      <th>flags</th>\n",
       "      <th>headers</th>\n",
       "      <th>size_rfc822</th>\n",
       "      <th>size</th>\n",
       "      <th>obj</th>\n",
       "      <th>attachments</th>\n",
       "    </tr>\n",
       "  </thead>\n",
       "  <tbody>\n",
       "    <tr>\n",
       "      <th>0</th>\n",
       "      <td>15</td>\n",
       "      <td>Test mail</td>\n",
       "      <td>{'email': 'ajaysabu007@gmail.com', 'name': 'Or...</td>\n",
       "      <td>[{'email': 'naas.sanjay22@gmail.com', 'name': ...</td>\n",
       "      <td>[]</td>\n",
       "      <td>[]</td>\n",
       "      <td>[]</td>\n",
       "      <td>2020-12-15 11:27:46+05:30</td>\n",
       "      <td>Hai\\r\\n This is just a test mail.\\r\\n</td>\n",
       "      <td>&lt;div dir=\"auto\"&gt;Hai&lt;div dir=\"auto\"&gt; This is ju...</td>\n",
       "      <td>()</td>\n",
       "      <td>{'Message-ID': ('&lt;CADh_NJTKDZxq1cV6seEyFNZQPzw...</td>\n",
       "      <td>4874</td>\n",
       "      <td>4799</td>\n",
       "      <td>[Delivered-To, Received, X-Received, ARC-Seal,...</td>\n",
       "      <td>0</td>\n",
       "    </tr>\n",
       "    <tr>\n",
       "      <th>1</th>\n",
       "      <td>9</td>\n",
       "      <td>Phone Plan</td>\n",
       "      <td>{'email': 'sanjaysabu4205@gmail.com', 'name': ...</td>\n",
       "      <td>[{'email': 'naas.sanjay22@gmail.com', 'name': ...</td>\n",
       "      <td>[]</td>\n",
       "      <td>[]</td>\n",
       "      <td>[]</td>\n",
       "      <td>2020-12-14 16:50:15+05:30</td>\n",
       "      <td>Hai sir your plan for calling service is about...</td>\n",
       "      <td>&lt;div dir=\"ltr\"&gt;Hai sir your plan for calling s...</td>\n",
       "      <td>()</td>\n",
       "      <td>{'Message-ID': ('&lt;CAPViSHCMHKntLj8LNUFN8zoVDyG...</td>\n",
       "      <td>4944</td>\n",
       "      <td>4873</td>\n",
       "      <td>[Delivered-To, Received, X-Received, ARC-Seal,...</td>\n",
       "      <td>0</td>\n",
       "    </tr>\n",
       "    <tr>\n",
       "      <th>2</th>\n",
       "      <td>8</td>\n",
       "      <td>Hai</td>\n",
       "      <td>{'email': 'sanjaysabu4205@gmail.com', 'name': ...</td>\n",
       "      <td>[{'email': 'naas.sanjay22@gmail.com', 'name': ...</td>\n",
       "      <td>[]</td>\n",
       "      <td>[]</td>\n",
       "      <td>[]</td>\n",
       "      <td>2020-12-14 16:48:45+05:30</td>\n",
       "      <td>Hey dude how is it going over there?\\r\\n</td>\n",
       "      <td>&lt;div dir=\"ltr\"&gt;Hey dude how is it going over t...</td>\n",
       "      <td>()</td>\n",
       "      <td>{'Message-ID': ('&lt;CAPViSHDLirQpOu3vbLBSui+w6F7...</td>\n",
       "      <td>4799</td>\n",
       "      <td>4730</td>\n",
       "      <td>[Delivered-To, Received, X-Received, ARC-Seal,...</td>\n",
       "      <td>0</td>\n",
       "    </tr>\n",
       "    <tr>\n",
       "      <th>3</th>\n",
       "      <td>7</td>\n",
       "      <td>Test Mail</td>\n",
       "      <td>{'email': 'sanjaysabu4205@gmail.com', 'name': ...</td>\n",
       "      <td>[{'email': 'naas.sanjay22@gmail.com', 'name': ...</td>\n",
       "      <td>[]</td>\n",
       "      <td>[]</td>\n",
       "      <td>[]</td>\n",
       "      <td>2020-12-14 16:45:20+05:30</td>\n",
       "      <td>Hey there i was doing some sales documentation...</td>\n",
       "      <td>&lt;div dir=\"ltr\"&gt;Hey there i was doing some sale...</td>\n",
       "      <td>()</td>\n",
       "      <td>{'Message-ID': ('&lt;CAPViSHDgWi92yYxXWAO4dPeB_1d...</td>\n",
       "      <td>4990</td>\n",
       "      <td>4919</td>\n",
       "      <td>[Delivered-To, Received, X-Received, ARC-Seal,...</td>\n",
       "      <td>0</td>\n",
       "    </tr>\n",
       "  </tbody>\n",
       "</table>\n",
       "</div>"
      ],
      "text/plain": [
       "  uid     subject                                               from  \\\n",
       "0  15   Test mail  {'email': 'ajaysabu007@gmail.com', 'name': 'Or...   \n",
       "1   9  Phone Plan  {'email': 'sanjaysabu4205@gmail.com', 'name': ...   \n",
       "2   8         Hai  {'email': 'sanjaysabu4205@gmail.com', 'name': ...   \n",
       "3   7   Test Mail  {'email': 'sanjaysabu4205@gmail.com', 'name': ...   \n",
       "\n",
       "                                                  to  cc bcc reply_to  \\\n",
       "0  [{'email': 'naas.sanjay22@gmail.com', 'name': ...  []  []       []   \n",
       "1  [{'email': 'naas.sanjay22@gmail.com', 'name': ...  []  []       []   \n",
       "2  [{'email': 'naas.sanjay22@gmail.com', 'name': ...  []  []       []   \n",
       "3  [{'email': 'naas.sanjay22@gmail.com', 'name': ...  []  []       []   \n",
       "\n",
       "                       date  \\\n",
       "0 2020-12-15 11:27:46+05:30   \n",
       "1 2020-12-14 16:50:15+05:30   \n",
       "2 2020-12-14 16:48:45+05:30   \n",
       "3 2020-12-14 16:45:20+05:30   \n",
       "\n",
       "                                                text  \\\n",
       "0              Hai\\r\\n This is just a test mail.\\r\\n   \n",
       "1  Hai sir your plan for calling service is about...   \n",
       "2           Hey dude how is it going over there?\\r\\n   \n",
       "3  Hey there i was doing some sales documentation...   \n",
       "\n",
       "                                                html flags  \\\n",
       "0  <div dir=\"auto\">Hai<div dir=\"auto\"> This is ju...    ()   \n",
       "1  <div dir=\"ltr\">Hai sir your plan for calling s...    ()   \n",
       "2  <div dir=\"ltr\">Hey dude how is it going over t...    ()   \n",
       "3  <div dir=\"ltr\">Hey there i was doing some sale...    ()   \n",
       "\n",
       "                                             headers  size_rfc822  size  \\\n",
       "0  {'Message-ID': ('<CADh_NJTKDZxq1cV6seEyFNZQPzw...         4874  4799   \n",
       "1  {'Message-ID': ('<CAPViSHCMHKntLj8LNUFN8zoVDyG...         4944  4873   \n",
       "2  {'Message-ID': ('<CAPViSHDLirQpOu3vbLBSui+w6F7...         4799  4730   \n",
       "3  {'Message-ID': ('<CAPViSHDgWi92yYxXWAO4dPeB_1d...         4990  4919   \n",
       "\n",
       "                                                 obj  attachments  \n",
       "0  [Delivered-To, Received, X-Received, ARC-Seal,...            0  \n",
       "1  [Delivered-To, Received, X-Received, ARC-Seal,...            0  \n",
       "2  [Delivered-To, Received, X-Received, ARC-Seal,...            0  \n",
       "3  [Delivered-To, Received, X-Received, ARC-Seal,...            0  "
      ]
     },
     "execution_count": 4,
     "metadata": {},
     "output_type": "execute_result"
    }
   ],
   "source": [
    "df = emails.get(criteria=\"unseen\")\n",
    "df"
   ]
  },
  {
   "cell_type": "code",
   "execution_count": 5,
   "metadata": {},
   "outputs": [
    {
     "data": {
      "text/plain": [
       "['15', '9', '8', '7']"
      ]
     },
     "execution_count": 5,
     "metadata": {},
     "output_type": "execute_result"
    }
   ],
   "source": [
    "uid_list = df['uid'].tolist() \n",
    "uid_list"
   ]
  },
  {
   "cell_type": "code",
   "execution_count": 6,
   "metadata": {},
   "outputs": [
    {
     "name": "stdout",
     "output_type": "stream",
     "text": [
      "CPU times: user 8.15 ms, sys: 567 µs, total: 8.71 ms\n",
      "Wall time: 1.52 s\n"
     ]
    }
   ],
   "source": [
    "%%time\n",
    "uid = uid_list\n",
    "flag = \"DELETED\"\n",
    "# possible value for flag:\n",
    "# flag = 'SEEN'\n",
    "# flag = 'ANSWERED'\n",
    "# flag = 'FLAGGED'\n",
    "# flag = 'DELETED'\n",
    "# flag = 'DRAFT'\n",
    "# flag = 'RECENT'\n",
    "attachments = emails.set_flag(uid, flag, True)"
   ]
  }
 ],
 "metadata": {
  "kernelspec": {
   "display_name": "Python 3",
   "language": "python",
   "name": "python3"
  },
  "language_info": {
   "codemirror_mode": {
    "name": "ipython",
    "version": 3
   },
   "file_extension": ".py",
   "mimetype": "text/x-python",
   "name": "python",
   "nbconvert_exporter": "python",
   "pygments_lexer": "ipython3",
   "version": "3.8.6"
  }
 },
 "nbformat": 4,
 "nbformat_minor": 4
}
