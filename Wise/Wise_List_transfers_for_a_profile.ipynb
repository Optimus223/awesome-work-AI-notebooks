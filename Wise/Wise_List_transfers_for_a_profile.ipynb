{
 "cells": [
  {
   "cell_type": "markdown",
   "id": "6a369f29-f378-48ac-bdd0-81399178cd9a",
   "metadata": {
    "papermill": {},
    "tags": []
   },
   "source": [
    "<img width=\"10%\" alt=\"Naas\" src=\"https://landen.imgix.net/jtci2pxwjczr/assets/5ice39g4.png?w=160\"/>"
   ]
  },
  {
   "cell_type": "markdown",
   "id": "aceedc6e-2f40-4281-aaf3-b7a0ea4ae9a8",
   "metadata": {
    "papermill": {},
    "tags": []
   },
   "source": [
    "# Wise - List transfers for a profile"
   ]
  },
  {
   "cell_type": "markdown",
   "id": "8cebcd94-299f-450d-b036-2d6fb09126d4",
   "metadata": {
    "papermill": {},
    "tags": []
   },
   "source": [
    "**Tags:** #wise #list #transfers #profile #api #python"
   ]
  },
  {
   "cell_type": "markdown",
   "id": "4742a8d6-831a-443f-b4f1-7ce06bc081a8",
   "metadata": {
    "papermill": {},
    "tags": []
   },
   "source": [
    "**Author:** [Florent Ravenel](https://www.linkedin.com/in/florent-ravenel/)"
   ]
  },
  {
   "cell_type": "markdown",
   "id": "e01b7e65-4877-4081-9c87-b322dfc1fe8b",
   "metadata": {
    "papermill": {},
    "tags": []
   },
   "source": [
    "**Description:** This notebook lists all the transfers for a given profile using the Wise API. It is usefull for organizations to keep track of their transfers."
   ]
  },
  {
   "cell_type": "markdown",
   "id": "075fac92-b630-4647-9adb-bd60601d6b32",
   "metadata": {
    "papermill": {},
    "tags": []
   },
   "source": [
    "**References:**\n- [Wise API Documentation](https://docs.wise.com/)\n- [Python Requests Library](https://requests.readthedocs.io/en/master/)"
   ]
  },
  {
   "cell_type": "markdown",
   "id": "e975427e-da4f-40a3-b9e3-b846463c879a",
   "metadata": {
    "papermill": {},
    "tags": []
   },
   "source": [
    "## Input"
   ]
  },
  {
   "cell_type": "markdown",
   "id": "195d12c2-d033-4a51-8949-d5a88c41e41f",
   "metadata": {
    "papermill": {},
    "tags": []
   },
   "source": [
    "### Import libraries"
   ]
  },
  {
   "cell_type": "code",
   "execution_count": null,
   "id": "327f9666-4108-4117-b3d1-8f59cdbdacf1",
   "metadata": {
    "papermill": {},
    "tags": []
   },
   "source": "import requests",
   "outputs": []
  },
  {
   "cell_type": "markdown",
   "id": "b0ea9617-4a94-4890-b874-c98309aa0d80",
   "metadata": {
    "papermill": {},
    "tags": []
   },
   "source": [
    "### Setup Variables\n- `api_key`: [API key](https://docs.wise.com/en/latest/api-key/) to access the Wise API\n- `profile_id`: ID of the profile for which to list the transfers"
   ]
  },
  {
   "cell_type": "code",
   "execution_count": null,
   "id": "1c0f6dec-a0ef-451a-a4b0-2c06eb668aa2",
   "metadata": {
    "papermill": {},
    "tags": []
   },
   "source": "api_key = \"<YOUR_API_KEY>\"\nprofile_id = \"<YOUR_PROFILE_ID>\"",
   "outputs": []
  },
  {
   "cell_type": "markdown",
   "id": "4a7cc042-9f17-4f8a-bfe1-3aedbfb79bbd",
   "metadata": {
    "papermill": {},
    "tags": []
   },
   "source": [
    "## Model"
   ]
  },
  {
   "cell_type": "markdown",
   "id": "3380597d-5f57-4b28-8668-badad48884ed",
   "metadata": {
    "papermill": {},
    "tags": []
   },
   "source": [
    "### List transfers"
   ]
  },
  {
   "cell_type": "markdown",
   "id": "532fa927-b20e-4174-80a1-caa7d96f789b",
   "metadata": {
    "papermill": {},
    "tags": []
   },
   "source": [
    "Long description of the function: This function uses the Wise API to list all the transfers for a given profile."
   ]
  },
  {
   "cell_type": "code",
   "execution_count": null,
   "id": "dfae0ad9-8d28-455d-8fbd-bc6f2aafda4d",
   "metadata": {
    "papermill": {},
    "tags": []
   },
   "source": "# Set the API endpoint\nendpoint = \"https://api.wise.com/v2/transfers\"\n# Set the headers\nheaders = {\"Authorization\": \"Bearer \" + api_key}\n# Set the parameters\nparams = {\"profile_id\": profile_id}\n# Make the request\nresponse = requests.get(endpoint, headers=headers, params=params)\n# Get the response data\ntransfers = response.json()",
   "outputs": []
  },
  {
   "cell_type": "markdown",
   "id": "690e5bd6-36c8-49e4-8ef9-17f63c594e92",
   "metadata": {
    "papermill": {},
    "tags": []
   },
   "source": [
    "## Output"
   ]
  },
  {
   "cell_type": "markdown",
   "id": "c8197382-52e1-4171-8ad7-583dca5fae7f",
   "metadata": {
    "papermill": {},
    "tags": []
   },
   "source": [
    "### Display result"
   ]
  },
  {
   "cell_type": "code",
   "execution_count": null,
   "id": "073c017a-907a-44be-8489-0313e8d7489d",
   "metadata": {
    "papermill": {},
    "tags": []
   },
   "source": "print(transfers)",
   "outputs": []
  },
  {
   "cell_type": "markdown",
   "id": "04c40b96-5a36-4614-8260-fbebf77132ce",
   "metadata": {
    "papermill": {},
    "tags": []
   },
   "source": [
    " "
   ]
  }
 ],
 "metadata": {
  "kernelspec": {
   "display_name": "Python 3",
   "language": "python",
   "name": "python3"
  },
  "language_info": {
   "codemirror_mode": {
    "name": "ipython",
    "version": 3
   },
   "file_extension": ".py",
   "mimetype": "text/x-python",
   "name": "python",
   "nbconvert_exporter": "python",
   "pygments_lexer": "ipython3",
   "version": "3.9.6"
  },
  "widgets": {
   "application/vnd.jupyter.widget-state+json": {
    "state": {},
    "version_major": 2,
    "version_minor": 0
   }
  }
 },
 "nbformat": 4,
 "nbformat_minor": 5
}