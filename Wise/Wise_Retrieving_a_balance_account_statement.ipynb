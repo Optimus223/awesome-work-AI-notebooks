{
 "cells": [
  {
   "cell_type": "markdown",
   "id": "84d1fbf4-51b9-4767-9847-da79d3ddbbc3",
   "metadata": {
    "papermill": {},
    "tags": []
   },
   "source": [
    "<img width=\"10%\" alt=\"Naas\" src=\"https://landen.imgix.net/jtci2pxwjczr/assets/5ice39g4.png?w=160\"/>"
   ]
  },
  {
   "cell_type": "markdown",
   "id": "548920b3-7235-4727-8fc1-fa36fa2f8706",
   "metadata": {
    "papermill": {},
    "tags": []
   },
   "source": [
    "# Wise - Retrieving a balance account statement"
   ]
  },
  {
   "cell_type": "markdown",
   "id": "6578b668-dd73-45e9-8156-383e4aab713d",
   "metadata": {
    "papermill": {},
    "tags": []
   },
   "source": [
    "**Tags:** #wise #balance #statement #account #retrieve #api"
   ]
  },
  {
   "cell_type": "markdown",
   "id": "981febb1-ba2b-445c-abe6-f39d309ff426",
   "metadata": {
    "papermill": {},
    "tags": []
   },
   "source": [
    "**Author:** [Florent Ravenel](https://www.linkedin.com/in/florent-ravenel/)"
   ]
  },
  {
   "cell_type": "markdown",
   "id": "b00989be-4694-4b08-90c6-c565266cf3b3",
   "metadata": {
    "papermill": {},
    "tags": []
   },
   "source": [
    "**Description:** This notebook retrieves a balance account statement from the Wise API. It is usefull for organizations to keep track of their financial transactions."
   ]
  },
  {
   "cell_type": "markdown",
   "id": "2a67b230-8aa1-4cd7-bdae-eb30409eb755",
   "metadata": {
    "papermill": {},
    "tags": []
   },
   "source": [
    "**References:**\n- [Wise API Reference](https://api-docs.transferwise.com/api-reference/balance-statement#get)"
   ]
  },
  {
   "cell_type": "markdown",
   "id": "16d11326-aaab-4586-a542-c62f941b409d",
   "metadata": {
    "papermill": {},
    "tags": []
   },
   "source": [
    "## Input"
   ]
  },
  {
   "cell_type": "markdown",
   "id": "18fb14fe-d1cb-4b64-b326-4e32f3d02f8c",
   "metadata": {
    "papermill": {},
    "tags": []
   },
   "source": [
    "### Import libraries"
   ]
  },
  {
   "cell_type": "code",
   "execution_count": null,
   "id": "afca3432-dd5e-4902-9df8-491bd129eeab",
   "metadata": {
    "papermill": {},
    "tags": []
   },
   "source": "import requests",
   "outputs": []
  },
  {
   "cell_type": "markdown",
   "id": "c5230a32-c5db-4b31-b89e-bdc1ef83f26f",
   "metadata": {
    "papermill": {},
    "tags": []
   },
   "source": [
    "### Setup Variables\n- `token`: [Follow this procedure to get your token](https://api-docs.transferwise.com/api-reference/authentication#get-token)"
   ]
  },
  {
   "cell_type": "code",
   "execution_count": null,
   "id": "d6a59c2d-3d92-4622-b73d-efd8603303b0",
   "metadata": {
    "papermill": {},
    "tags": []
   },
   "source": "token = \"your_token\"",
   "outputs": []
  },
  {
   "cell_type": "markdown",
   "id": "88f92b46-7c0b-4b57-9323-8fbcc6d33430",
   "metadata": {
    "papermill": {},
    "tags": []
   },
   "source": [
    "## Model"
   ]
  },
  {
   "cell_type": "markdown",
   "id": "234d6583-2119-4bd3-83d7-7c60cbbdb764",
   "metadata": {
    "papermill": {},
    "tags": []
   },
   "source": [
    "### Retrieve balance account statement"
   ]
  },
  {
   "cell_type": "markdown",
   "id": "7065c8ed-0280-4292-a2db-96e2af25dc7a",
   "metadata": {
    "papermill": {},
    "tags": []
   },
   "source": [
    "Retrieve a balance account statement from the Wise API."
   ]
  },
  {
   "cell_type": "code",
   "execution_count": null,
   "id": "50d327e2-2c72-4416-b1ea-e7a577d734fd",
   "metadata": {
    "papermill": {},
    "tags": []
   },
   "source": "url = \"https://api.transferwise.com/v1/balance-statements\"\nheaders = {\"Authorization\": \"Bearer \" + token}\nresponse = requests.get(url, headers=headers)",
   "outputs": []
  },
  {
   "cell_type": "markdown",
   "id": "6e115b26-36a9-448b-8fda-996075dc08aa",
   "metadata": {
    "papermill": {},
    "tags": []
   },
   "source": [
    "## Output"
   ]
  },
  {
   "cell_type": "markdown",
   "id": "fc8048b5-3e50-45f3-842b-c9b6eaad2363",
   "metadata": {
    "papermill": {},
    "tags": []
   },
   "source": [
    "### Display result"
   ]
  },
  {
   "cell_type": "code",
   "execution_count": null,
   "id": "c1c2b829-cc08-4856-99dc-1b6a7f576742",
   "metadata": {
    "papermill": {},
    "tags": []
   },
   "source": "print(response.json())",
   "outputs": []
  },
  {
   "cell_type": "markdown",
   "id": "229957a5-ffc8-4887-9187-e6e094bfa27d",
   "metadata": {
    "papermill": {},
    "tags": []
   },
   "source": [
    " "
   ]
  }
 ],
 "metadata": {
  "kernelspec": {
   "display_name": "Python 3",
   "language": "python",
   "name": "python3"
  },
  "language_info": {
   "codemirror_mode": {
    "name": "ipython",
    "version": 3
   },
   "file_extension": ".py",
   "mimetype": "text/x-python",
   "name": "python",
   "nbconvert_exporter": "python",
   "pygments_lexer": "ipython3",
   "version": "3.9.6"
  },
  "widgets": {
   "application/vnd.jupyter.widget-state+json": {
    "state": {},
    "version_major": 2,
    "version_minor": 0
   }
  }
 },
 "nbformat": 4,
 "nbformat_minor": 5
}