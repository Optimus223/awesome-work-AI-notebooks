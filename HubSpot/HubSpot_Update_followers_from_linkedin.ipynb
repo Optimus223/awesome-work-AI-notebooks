{
 "cells": [
  {
   "cell_type": "markdown",
   "id": "hairy-hello",
   "metadata": {
    "papermill": {},
    "tags": []
   },
   "source": [
    "<img width=\"10%\" alt=\"Naas\" src=\"https://landen.imgix.net/jtci2pxwjczr/assets/5ice39g4.png?w=160\"/>"
   ]
  },
  {
   "cell_type": "markdown",
   "id": "introductory-evans",
   "metadata": {
    "papermill": {},
    "tags": []
   },
   "source": [
    "# HubSpot - Update followers from linkedin\n",
    "<a href=\"https://app.naas.ai/user-redirect/naas/downloader?url=https://raw.githubusercontent.com/jupyter-naas/awesome-notebooks/master/HubSpot/HubSpot_Update_followers_from_linkedin.ipynb\" target=\"_parent\"><img src=\"https://naasai-public.s3.eu-west-3.amazonaws.com/open_in_naas.svg\"/></a><br><br><a href=\"https://github.com/jupyter-naas/awesome-notebooks/issues/new?assignees=&labels=&template=template-request.md&title=Tool+-+Action+of+the+notebook+\">Template request</a> | <a href=\"https://github.com/jupyter-naas/awesome-notebooks/issues/new?assignees=&labels=bug&template=bug_report.md&title=HubSpot+-+Update+followers+from+linkedin:+Error+short+description\">Bug report</a>"
   ]
  },
  {
   "cell_type": "markdown",
   "id": "prescription-tennessee",
   "metadata": {
    "papermill": {},
    "tags": []
   },
   "source": [
    "**Tags:** #hubspot #crm #sales #contact #naas_drivers #linkedin #network #scheduler #naas #automation"
   ]
  },
  {
   "cell_type": "markdown",
   "id": "a3ea8853-0d80-494e-ac72-5527d18464e6",
   "metadata": {
    "papermill": {},
    "tags": []
   },
   "source": [
    "**Author:** [Florent Ravenel](https://www.linkedin.com/in/florent-ravenel/)"
   ]
  },
  {
   "cell_type": "markdown",
   "id": "concrete-lancaster",
   "metadata": {
    "papermill": {},
    "tags": []
   },
   "source": [
    "## Input"
   ]
  },
  {
   "cell_type": "markdown",
   "id": "exact-argentina",
   "metadata": {
    "papermill": {},
    "tags": []
   },
   "source": [
    "### Import library"
   ]
  },
  {
   "cell_type": "code",
   "execution_count": null,
   "id": "organized-fancy",
   "metadata": {
    "papermill": {},
    "tags": []
   },
   "outputs": [],
   "source": [
    "from naas_drivers import hubspot, linkedin\n",
    "import naas\n",
    "import pandas as pd"
   ]
  },
  {
   "cell_type": "markdown",
   "id": "intimate-oasis",
   "metadata": {
    "papermill": {},
    "tags": []
   },
   "source": [
    "### Setup your HubSpot\n",
    "👉 Access your [HubSpot API key](https://knowledge.hubspot.com/integrations/how-do-i-get-my-hubspot-api-key)"
   ]
  },
  {
   "cell_type": "code",
   "execution_count": null,
   "id": "corresponding-doubt",
   "metadata": {
    "papermill": {},
    "tags": []
   },
   "outputs": [],
   "source": [
    "HS_API_KEY = 'YOUR_HUBSPOT_API_KEY'"
   ]
  },
  {
   "cell_type": "markdown",
   "id": "tracked-restriction",
   "metadata": {
    "papermill": {},
    "tags": []
   },
   "source": [
    "### Setup your LinkedIn\n",
    "👉 Get <a href='https://www.notion.so/LinkedIn-driver-Get-your-cookies-d20a8e7e508e42af8a5b52e33f3dba75'>your cookies</a>"
   ]
  },
  {
   "cell_type": "code",
   "execution_count": null,
   "id": "internal-hierarchy",
   "metadata": {
    "papermill": {},
    "tags": []
   },
   "outputs": [],
   "source": [
    "LI_AT = 'YOUR_COOKIE_LI_AT'  # EXAMPLE AQFAzQN_PLPR4wAAAXc-FCKmgiMit5FLdY1af3-2\n",
    "JSESSIONID = 'YOUR_COOKIE_JSESSIONID'  # EXAMPLE ajax:8379907400220387585"
   ]
  },
  {
   "cell_type": "markdown",
   "id": "infectious-transparency",
   "metadata": {
    "papermill": {},
    "tags": []
   },
   "source": [
    "### Setup Naas"
   ]
  },
  {
   "cell_type": "code",
   "execution_count": null,
   "id": "union-insulation",
   "metadata": {
    "papermill": {},
    "tags": []
   },
   "outputs": [],
   "source": [
    "naas.scheduler.add(cron=\"0 8 * * *\")\n",
    "\n",
    "#-> Uncomment the line below (by removing the hashtag) to remove your scheduler\n",
    "# naas.scheduler.delete()"
   ]
  },
  {
   "cell_type": "markdown",
   "id": "voluntary-people",
   "metadata": {
    "papermill": {},
    "tags": []
   },
   "source": [
    "## Model"
   ]
  },
  {
   "cell_type": "markdown",
   "id": "novel-manchester",
   "metadata": {
    "papermill": {},
    "tags": []
   },
   "source": [
    "### Get all contacts in HubSpot"
   ]
  },
  {
   "cell_type": "code",
   "execution_count": null,
   "id": "running-barbados",
   "metadata": {
    "papermill": {},
    "tags": []
   },
   "outputs": [],
   "source": [
    "properties_list = [\n",
    "    \"hs_object_id\",\n",
    "    \"firstname\",\n",
    "    \"lastname\",\n",
    "    \"linkedinbio\",\n",
    "    \"linkedinconnections\",\n",
    "]\n",
    "hubspot_contacts = hubspot.connect(HS_API_KEY).contacts.get_all(properties_list)\n",
    "hubspot_contacts"
   ]
  },
  {
   "cell_type": "markdown",
   "id": "medium-tunnel",
   "metadata": {
    "papermill": {},
    "tags": []
   },
   "source": [
    "### Filter to get linkedinconnections = \"Not Defined\" and \"linkedinbio\" = defined"
   ]
  },
  {
   "cell_type": "code",
   "execution_count": null,
   "id": "regional-consultancy",
   "metadata": {
    "papermill": {},
    "tags": []
   },
   "outputs": [],
   "source": [
    "df_to_update = hubspot_contacts.copy()\n",
    "\n",
    "# Cleaning\n",
    "df_to_update = df_to_update.fillna(\"Not Defined\")\n",
    "\n",
    "# Filter on \"Not defined\"\n",
    "df_to_update = df_to_update[(df_to_update.linkedinbio != \"Not Defined\") &\n",
    "                            (df_to_update.linkedinconnections == \"Not Defined\")]\n",
    "\n",
    "# Limit to last 50 contacts\n",
    "df_to_update = df_to_update.sort_values(by=\"createdate\", ascending=False)[:50].reset_index(drop=True)\n",
    "\n",
    "df_to_update"
   ]
  },
  {
   "cell_type": "markdown",
   "id": "invalid-cologne",
   "metadata": {
    "papermill": {},
    "tags": []
   },
   "source": [
    "### Get followers from Linkedin"
   ]
  },
  {
   "cell_type": "code",
   "execution_count": null,
   "id": "animated-certificate",
   "metadata": {
    "papermill": {},
    "tags": []
   },
   "outputs": [],
   "source": [
    "for _, row in df_to_update.iterrows():\n",
    "    linkedinbio = row.linkedinbio\n",
    "    \n",
    "    # Get followers\n",
    "    df = linkedin.connect(LI_AT, JSESSIONID).profile.get_network(linkedinbio)\n",
    "    linkedinconnections = df.loc[0, \"FOLLOWERS_COUNT\"]\n",
    "        \n",
    "    # Get linkedinbio\n",
    "    df_to_update.loc[_, \"linkedinconnections\"] = linkedinconnections\n",
    "    \n",
    "df_to_update"
   ]
  },
  {
   "cell_type": "markdown",
   "id": "viral-grocery",
   "metadata": {
    "papermill": {},
    "tags": []
   },
   "source": [
    "## Output"
   ]
  },
  {
   "cell_type": "markdown",
   "id": "ruled-sucking",
   "metadata": {
    "papermill": {},
    "tags": []
   },
   "source": [
    "### Update followers in Hubspot"
   ]
  },
  {
   "cell_type": "code",
   "execution_count": null,
   "id": "adopted-establishment",
   "metadata": {
    "papermill": {},
    "tags": []
   },
   "outputs": [],
   "source": [
    "for _, row in df_to_update.iterrows():\n",
    "    # Init data\n",
    "    data = {}\n",
    "    \n",
    "    # Get data\n",
    "    hs_object_id = row.hs_object_id\n",
    "    linkedinconnections = row.linkedinconnections\n",
    "\n",
    "    # Update LK Bio\n",
    "    if linkedinconnections != None:\n",
    "        data = {\"properties\": {\"linkedinconnections\": linkedinconnections}}\n",
    "    hubspot.connect(HS_API_KEY).contacts.patch(hs_object_id, data)"
   ]
  }
 ],
 "metadata": {
  "kernelspec": {
   "display_name": "Python 3",
   "language": "python",
   "name": "python3"
  },
  "language_info": {
   "codemirror_mode": {
    "name": "ipython",
    "version": 3
   },
   "file_extension": ".py",
   "mimetype": "text/x-python",
   "name": "python",
   "nbconvert_exporter": "python",
   "pygments_lexer": "ipython3",
   "version": "3.9.6"
  },
  "naas": {
   "notebook_id": "88be80ac-4756-4b53-978e-42a349b957b5",
   "notebook_path": "HubSpot/HubSpot_Update_followers_from_linkedin.ipynb"
  },
  "papermill": {
   "default_parameters": {},
   "environment_variables": {},
   "parameters": {},
   "version": "2.3.3"
  }
 },
 "nbformat": 4,
 "nbformat_minor": 5
}