{
 "cells": [
  {
   "cell_type": "markdown",
   "id": "d2e34832-b1e9-4cd1-ac74-a00dead5dc56",
   "metadata": {
    "papermill": {},
    "tags": []
   },
   "source": [
    "<img width=\"10%\" alt=\"Naas\" src=\"https://landen.imgix.net/jtci2pxwjczr/assets/5ice39g4.png?w=160\"/>"
   ]
  },
  {
   "cell_type": "markdown",
   "id": "182eb9cc-7fe5-4a96-9761-d1f631825a60",
   "metadata": {
    "papermill": {},
    "tags": []
   },
   "source": [
    "# HubSpot - Chat about a deal\n",
    "<a href=\"https://app.naas.ai/user-redirect/naas/downloader?url=https://raw.githubusercontent.com/jupyter-naas/awesome-notebooks/master/HubSpot/HubSpot_Chat_about_a_deal.ipynb\" target=\"_parent\"><img src=\"https://naasai-public.s3.eu-west-3.amazonaws.com/Open_in_Naas_Lab.svg\"/></a><br><br><a href=\"https://bit.ly/3JyWIk6\">Give Feedback</a> | <a href=\"https://github.com/jupyter-naas/awesome-notebooks/issues/new?assignees=&labels=bug&template=bug_report.md&title=HubSpot+-+Chat+about+a+deal:+Error+short+description\">Bug report</a>"
   ]
  },
  {
   "cell_type": "markdown",
   "id": "639b3515-7d32-4382-a7d9-5f5fa85366ee",
   "metadata": {
    "papermill": {},
    "tags": []
   },
   "source": [
    "**Tags:** #hubspot #chat #deals #last #discussion #conversation"
   ]
  },
  {
   "cell_type": "markdown",
   "id": "4363e628-6e22-40d8-bd6a-06cf89c76d5a",
   "metadata": {
    "papermill": {},
    "tags": []
   },
   "source": [
    "**Author:** [Florent Ravenel](https://www.linkedin.com/in/florent-ravenel)"
   ]
  },
  {
   "cell_type": "markdown",
   "id": "a60ac146-ffa4-41e6-b7ba-d6447478e613",
   "metadata": {
    "papermill": {},
    "tags": []
   },
   "source": [
    "**Last update:** 2023-09-25 (Created: 2023-09-25)"
   ]
  },
  {
   "cell_type": "markdown",
   "id": "bb50c25d-1933-45d4-ae12-acf488bdf130",
   "metadata": {
    "papermill": {},
    "tags": []
   },
   "source": [
    "**Description:** This notebook aims to create a Naas Chat Plugin that allows Sales to easily chat about any deal in HubSpot by simply passing its URL. The plugin will provide essential insights about the deal and its recent activities, conveniently displaying them in the input bar of your chat. This notebook will leverage the /command feature of the Naas Chat and a webhook to dynamically invoke the HubSpot API and retrieve updated values."
   ]
  },
  {
   "cell_type": "markdown",
   "id": "3fb3f310-bd86-41ac-b4c1-790472bc04d1",
   "metadata": {
    "papermill": {},
    "tags": []
   },
   "source": [
    "### Import libraries"
   ]
  },
  {
   "cell_type": "code",
   "execution_count": 15,
   "id": "02522295-f0cc-4524-93fb-2b2ab5ac480e",
   "metadata": {
    "execution": {
     "iopub.execute_input": "2023-09-27T14:03:58.267183Z",
     "iopub.status.busy": "2023-09-27T14:03:58.266877Z",
     "iopub.status.idle": "2023-09-27T14:03:58.278043Z",
     "shell.execute_reply": "2023-09-27T14:03:58.277394Z",
     "shell.execute_reply.started": "2023-09-27T14:03:58.267151Z"
    },
    "papermill": {},
    "tags": []
   },
   "outputs": [],
   "source": [
    "import requests\n",
    "import naas\n",
    "import naas_drivers\n",
    "from naas_drivers import hubspot, naas_chat_plugin\n",
    "import pandas as pd\n",
    "import os\n",
    "from IPython.display import Markdown\n",
    "pd.set_option('display.max_colwidth', None)"
   ]
  },
  {
   "cell_type": "markdown",
   "id": "4f5998fe-fc54-42c5-920e-3533a4002c7c",
   "metadata": {
    "papermill": {},
    "tags": []
   },
   "source": [
    "## Input"
   ]
  },
  {
   "cell_type": "markdown",
   "id": "b8dcccd0-539d-4719-8c4b-269fd2ed1de4",
   "metadata": {
    "papermill": {},
    "tags": []
   },
   "source": [
    "### Setup variables\n",
    "**Mandatory**\n",
    "- `hs_access_token`: This variable stores an access token used for accessing the HubSpot API. [Get your HubSpot Access token](https://knowledge.hubspot.com/articles/kcs_article/integrations/how-do-i-get-my-hubspot-api-key)\n",
    "- `deal_url`: This variable stores the HubSpot deal URL.\n",
    "\n",
    "**Optional**\n",
    "- `body`: This variable stores the body to be send by the webhook.\n",
    "- `deal_properties`: It represents the list of properties to retrieve from your deal\n",
    "- `associations`: It represents the list of associations to get from your deal\n",
    "- `plugin_name`: It represents the name of the plugin."
   ]
  },
  {
   "cell_type": "code",
   "execution_count": 16,
   "id": "f3708001-f591-48ef-aba6-6ff184092bbc",
   "metadata": {
    "execution": {
     "iopub.execute_input": "2023-09-27T14:03:59.084774Z",
     "iopub.status.busy": "2023-09-27T14:03:59.084219Z",
     "iopub.status.idle": "2023-09-27T14:03:59.259897Z",
     "shell.execute_reply": "2023-09-27T14:03:59.259296Z",
     "shell.execute_reply.started": "2023-09-27T14:03:59.084736Z"
    },
    "papermill": {},
    "tags": []
   },
   "outputs": [],
   "source": [
    "# Mandatory\n",
    "hs_access_token = naas.secret.get(\"HS_ACCESS_TOKEN\") or \"YOUR_HS_ACCESS_TOKEN\"\n",
    "deal_url = \"https://app.hubspot.com/contacts/2474088/record/0-3/15220482319/\" # \"https://app.hubspot.com/contacts/xxxxx/record/0-1/xxxxx\"\n",
    "\n",
    "# Optional\n",
    "body = {}\n",
    "deal_properties = [\"hs_object_id\", \"dealname\", 'amount']\n",
    "associations = [\"notes\", \"emails\", \"meetings\", \"communications\"]\n",
    "plugin_name = \"Sales Agent\""
   ]
  },
  {
   "cell_type": "markdown",
   "id": "f9fdafc9-5ce6-46f4-a593-78ea0082bfa1",
   "metadata": {
    "execution": {
     "iopub.execute_input": "2023-09-26T17:20:36.759189Z",
     "iopub.status.busy": "2023-09-26T17:20:36.758881Z",
     "iopub.status.idle": "2023-09-26T17:20:36.765546Z",
     "shell.execute_reply": "2023-09-26T17:20:36.764836Z",
     "shell.execute_reply.started": "2023-09-26T17:20:36.759155Z"
    },
    "tags": [
     "parameters"
    ]
   },
   "source": [
    "### Setup parameters\n",
    "The webhook body will be injected below this cell when the webhook is triggered. \n",
    "Therefore, it is important to set up how you will handle the injected variable from the body in order to make your script work.\n",
    "To receive the body from the webhook, please ensure that this cell is tagged as \"parameters\"."
   ]
  },
  {
   "cell_type": "code",
   "execution_count": 17,
   "id": "5f6c5b6c-09e0-43c9-9dc5-d81f858461e1",
   "metadata": {
    "execution": {
     "iopub.execute_input": "2023-09-27T14:03:59.475032Z",
     "iopub.status.busy": "2023-09-27T14:03:59.474806Z",
     "iopub.status.idle": "2023-09-27T14:03:59.479823Z",
     "shell.execute_reply": "2023-09-27T14:03:59.479278Z",
     "shell.execute_reply.started": "2023-09-27T14:03:59.475008Z"
    },
    "tags": []
   },
   "outputs": [],
   "source": [
    "# Parameters\n",
    "if len(body) > 0:\n",
    "    deal_url = body.get(\"deal_url\") # If a URL is received through a webhook, the notebook will extract the deal URL from the body of the request."
   ]
  },
  {
   "cell_type": "markdown",
   "id": "af3b118f-91aa-4426-a1fb-4358e4eaf10b",
   "metadata": {
    "papermill": {},
    "tags": []
   },
   "source": [
    "## Model"
   ]
  },
  {
   "cell_type": "markdown",
   "id": "92b0536a-fd19-4221-9221-fadd82e16c33",
   "metadata": {},
   "source": [
    "### Set System prompt\n",
    "System prompt to be used in the Naas Chat plugin."
   ]
  },
  {
   "cell_type": "code",
   "execution_count": 18,
   "id": "417800b9-5c16-4911-8f73-f62cd436ed33",
   "metadata": {
    "execution": {
     "iopub.execute_input": "2023-09-27T14:04:00.063387Z",
     "iopub.status.busy": "2023-09-27T14:04:00.063131Z",
     "iopub.status.idle": "2023-09-27T14:04:00.066554Z",
     "shell.execute_reply": "2023-09-27T14:04:00.065854Z",
     "shell.execute_reply.started": "2023-09-27T14:04:00.063358Z"
    },
    "tags": []
   },
   "outputs": [],
   "source": [
    "system_prompt = '''Act as a Sales Assistant expert working in analyzing conversations and extracting action items.\n",
    "Start presenting yourself and tell the user they can do the slash command /HubSpot_Get_deal_summary to query deal notes, meetings, calls. \n",
    "Once you have this information, you can start list action items based on MEDDIC sales techniques. \n",
    "Each new deal you get from that command should be presented as follows: \n",
    "\n",
    "MEDDIC Analysis: \n",
    "\n",
    "1/ Metric: The economic impact of the solution is...\n",
    "\n",
    "2/ Economic Buyer: The person with the budget is...\n",
    "\n",
    "3/ Decision Criteria: The formal criteria used to compare vendor's offering in terms of: \n",
    "- Capabilities is...\n",
    "- Vendor info is...\n",
    "- Return on investment is...  \n",
    "\n",
    "4/ Decision Process: The events and timeline in the validation and approval process is...\n",
    "\n",
    "5/ Identify Pain: The pain is... It impacts the following KPIs: \n",
    "- KPI 1: \n",
    "- KPI 2: \n",
    "- KPI 3: \n",
    "\n",
    "The compelling event attached is that...\n",
    "\n",
    "The cost of doing nothing is...\n",
    "\n",
    "6/ Champion: The key player who has the power and influence in driving the opportunity and who can sell on our behalf is...\n",
    "'''"
   ]
  },
  {
   "cell_type": "markdown",
   "id": "bba4a41a-3eee-4446-9211-6fe2522d27f7",
   "metadata": {
    "papermill": {},
    "tags": []
   },
   "source": [
    "### Create a template message\n",
    "The variables \"[URL]\" and \"[ACTIVITIES]\" will be replaced to be sent in the input bar of your Naas Chat."
   ]
  },
  {
   "cell_type": "code",
   "execution_count": 19,
   "id": "2535ae58-b7c4-46a0-8141-d0adb1c3c157",
   "metadata": {
    "execution": {
     "iopub.execute_input": "2023-09-27T14:04:00.439501Z",
     "iopub.status.busy": "2023-09-27T14:04:00.439272Z",
     "iopub.status.idle": "2023-09-27T14:04:00.442420Z",
     "shell.execute_reply": "2023-09-27T14:04:00.441725Z",
     "shell.execute_reply.started": "2023-09-27T14:04:00.439476Z"
    },
    "papermill": {},
    "tags": []
   },
   "outputs": [],
   "source": [
    "message = f\"\"\"Here is the deal URL: [URL].\n",
    "Here are all the activities:\n",
    "[ACTIVITIES]\n",
    "\"\"\""
   ]
  },
  {
   "cell_type": "markdown",
   "id": "0c3b0fbe-0caf-42f2-af6b-68ba241fa22e",
   "metadata": {
    "papermill": {},
    "tags": []
   },
   "source": [
    "### Get deal ID from URL"
   ]
  },
  {
   "cell_type": "code",
   "execution_count": 20,
   "id": "5903fe72-265c-4a31-bacd-f5c04d4aee7a",
   "metadata": {
    "execution": {
     "iopub.execute_input": "2023-09-27T14:04:00.802573Z",
     "iopub.status.busy": "2023-09-27T14:04:00.802349Z",
     "iopub.status.idle": "2023-09-27T14:04:00.807131Z",
     "shell.execute_reply": "2023-09-27T14:04:00.806450Z",
     "shell.execute_reply.started": "2023-09-27T14:04:00.802550Z"
    },
    "papermill": {},
    "tags": []
   },
   "outputs": [
    {
     "name": "stdout",
     "output_type": "stream",
     "text": [
      "Deal ID: 15220482319\n"
     ]
    }
   ],
   "source": [
    "def get_contact_ID_from_URL(url):\n",
    "    # Init\n",
    "    uid = url\n",
    "    \n",
    "    # Check if URL is valid\n",
    "    if not url.startswith(\"https://app.hubspot.com/contacts/\"):\n",
    "        raise BaseException(\"HubSpot URL Invalid! It must start by https://app.hubspot.com/contacts/\")\n",
    "    \n",
    "    # Split URL to get ID\n",
    "    if \"/record/0-3/\" in url:\n",
    "        uid = url.split(\"/record/0-3/\")[-1].split(\"/\")[0]\n",
    "    return uid\n",
    "\n",
    "deal_id = get_contact_ID_from_URL(deal_url)\n",
    "print(\"Deal ID:\", deal_id)"
   ]
  },
  {
   "cell_type": "markdown",
   "id": "55dceacb-7f01-4936-85d3-fe0e616dafce",
   "metadata": {
    "papermill": {},
    "tags": []
   },
   "source": [
    "### Get contact details"
   ]
  },
  {
   "cell_type": "code",
   "execution_count": 21,
   "id": "6096ec3d-23bb-4632-b2d8-efc1c702fa8e",
   "metadata": {
    "execution": {
     "iopub.execute_input": "2023-09-27T14:04:01.168891Z",
     "iopub.status.busy": "2023-09-27T14:04:01.168240Z",
     "iopub.status.idle": "2023-09-27T14:04:03.806416Z",
     "shell.execute_reply": "2023-09-27T14:04:03.805733Z",
     "shell.execute_reply.started": "2023-09-27T14:04:01.168851Z"
    },
    "papermill": {},
    "tags": []
   },
   "outputs": [
    {
     "name": "stdout",
     "output_type": "stream",
     "text": [
      "DEAL:\n",
      "- hs_object_id: 15220482319\n",
      "- dealname: Agicap X Icelex connexion Quadra\n",
      "- amount: None\n",
      "\n",
      "ACTIVITIES:\n",
      "-2023-09-26 07:44:00: EMAILS - Hello Florent,  Je t'appelle dans la journée. Bien à toi,  Pierre\n",
      "-2023-09-26 07:40:00: EMAILS - Hello Pierre, Je me permets de te relancer par rapport à nos derniers échanges par email et téléphone. Est-ce que tu as fait un retour au Groupe Ice? Est-ce que tu aurais d'autres clients/prospects à nous présenter? On peut s'appeler dans la journée si besoin, Cordialement, Florent\n",
      "-2023-09-21 14:15:00: EMAILS - Salut Pierre, Bonne nouvelle! Nous avons identifié un partenaire pour prendre en charge l'intégration entre QUADRA & Agicap. Comme mentionné lors de notre conversation téléphonique, je t'envoie notre analyse pour réaliser la connexion entre QUADRA & Agicap. Nous envisageons d'utiliser un robot pour simuler les actions humaines et réaliser les exports automatiquement. Cela nécessitera deux phases distinctes : La mise en place, qui comprend : L'installation d'un serveur Windows La configuration du serveur avec la suite Citrix La mise à disposition du SFTP par Agicap La détermination du nombre de dossiers et d'extractions par dossier à effectuer (spécifications) La création du robot La livraison des données sur le STFP La maintenance, qui nécessite : Un serveur Windows et une machine naas Il est important de noter que la maintenance ne couvre pas les mises à jour de version dans CEGID ni les nouveaux exports à envoyer vers le SFTP. Concernant le budget de maintenance, nous estimons un coût d'environ 100€ par mois (le coût des machines), sans support inclus. En ce qui concerne la mise en place, nous sommes toujours en train de tester pour estimer le temps nécessaire à la création du robot. Je comprends que le budget du client est plafonné à 4000€ (1200€ pour la machine et 2800€ pour la mise en place).  Toutefois, comme nous l'avons discuté, la création du robot nécessite plus qu'un budget de 2800€ mais pourrait être amorti avec un plus grand nombre de clients utilisant le même robot. Penses-tu qu'il serait possible de trouver plusieurs clients QUADRA afin que nous puissions former efficacement notre partenaire en interne et nous engager sur un volume plus important ? Cordialement, Florent Sans virus.www.avast.com\n",
      "-2023-09-20 13:51:00: EMAILS - J’en suis arrivé à ce point: Pouvez-vous m’indiquer comment générer un document qui serait attendu par Agicap ainsi que le télécharger s’il vous plaît?   Lorsque je sélectionne “Ecran” je n’ai pas de possibilité de sauvegarder et l’option “Archivage” ne m’indique rien mais ça semble archiver quelque part. Merci beaucoup, Maxime\n",
      "-2023-09-19 14:35:00: EMAILS - Bonjour David, Merci de votre retour. J'ai essayé de me connecter sur Citrix en suivant votre procédure.  Cependant, je me retrouve bloqué au niveau de l'ajout du compte (page 18):  Serait-il possible que seules les adresses internes soient autorisées (@ icelec.com)? Si c'est le cas, pouvez-vous svp nous créer une adresse temporaire? Merci de votre aide, Cordialement, Florent\n",
      "-2023-09-19 07:30:00: EMAILS - Bonjour David, Merci de votre retour.  J'ai essayé de me connecter à CEGIDLife mais je n'y ai pas eu accès. (impression d' écran ci-dessous) Pourriez-vous svp me fournir la procédure d'accès? Cordialement, Florent\n",
      "-2023-09-18 16:46:00: EMAILS - Bonsoir,   Avec mes excuses, la console Admin a été inopérante un temps et je n’ai pu supprimer un compte pour créer le vôtre.   Ci-joint le fichier contenant l’identifiant et le 1er mot de passe à changer à la 1e connexion.   Je créerai votre accès dossier à Quadra demain.   Bien cordialement, David CAMUS Responsable CSP Comptabilité Groupe 11 rue Marcel Sembat - 94140 ALFORTVILLE - FRANCE Tel.: + 33 (0)1 41 79 76 89 – Mob.: +33 (0)6 80 42 57 43 dcamus@icelec.com     Visitez notre site web : www.icegroupe.com   Devez-vous vraiment imprimer ce courriel ? Pensons environnement.   Ce message et les éventuelles pièces attachées sont confidentiels. Si vous n'êtes pas dans la liste des destinataires, veuillez informer l'expéditeur immédiatement et ne pas divulguer le contenu à une tierce personne, ne pas l'utiliser pour quelque raison que ce soit, ne pas stocker ou copier l'information qu'il contient sur un quelconque support. Les précautions raisonnables ont  été prises pour éviter que des virus ne soient transmis par ce message mais il vous appartient de mettre en place des mesures de sécurité destinées à détecter et éradiquer la présence d’un éventuel virus. Nous ne saurions être tenus responsables pour tout dommage causé par la transmission d’un virus et/ou la contamination de votre système informatique. Le réseau internet ne permettant pas d'assurer l’intégrité de ce message, l’expéditeur décline toute responsabilité au cas où il aurait été intercepté ou modifié par quiconque.    \n",
      "-2023-09-15 08:23:00: EMAILS - Bonjour à tous,  Monsieur Camu, je me permets de créer cette boucle de mail afin de savoir si vous avez pu créer les accès pour la société Naas afin qu'il puisse faire une analyse de la connexion de votre système à Agicap ? Je reste disponible. Bien à vous,  Pierre -- Pierre Reffay Responsable commercial   pierre.reffay@agicap.com ++33 6 18 10 93 21\n",
      "-2023-09-13 09:26:00: EMAILS - Agicap X Icelex connexion Quadra   Bonjour, Ci-joint, le lien de notre visio : https://meet.google.com/abi-fswr-ruq?authuser=0 A tout de suite, Pierre Participer avec Google Meet Lien de la réunion meet.google.com/abi-fswr-ruq Participer par téléphone (FR) +33 1 87 40 40 99 CODE SECRET: 593083222 Plus de numéros de téléphone Agicap X Icelex connexion Quadra mercredi 13 sept. 2023 ⋅ 11:30am – 12pm (Heure d’Europe centrale - Paris) Invités pierre.reffay@agicap.com - organisateur plefeuvre@icelec.com maxime@naas.ai florent@naas.ai dcamus@icelec.com tbenslimane@icelec.com\n",
      "\n"
     ]
    }
   ],
   "source": [
    "def retrieve_object_details(\n",
    "    token,\n",
    "    object_id,\n",
    "    object_type,\n",
    "    properties=None,\n",
    "):\n",
    "    # Init\n",
    "    data = []\n",
    "    params = {\n",
    "        \"archived\": \"false\"\n",
    "    }\n",
    "    \n",
    "    # Requests\n",
    "    if properties:\n",
    "        params[\"properties\"] = properties\n",
    "    headers = {\n",
    "        \"Content-Type\": \"application/json\",\n",
    "        \"Authorization\": f\"Bearer {token}\"\n",
    "    }\n",
    "    url = f\"https://api.hubapi.com/crm/v3/objects/{object_type}/{object_id}\"\n",
    "    \n",
    "    # Response\n",
    "    res = requests.get(url, headers=headers, params=params)\n",
    "    if res.status_code == 200:\n",
    "        data = res.json().get(\"properties\")\n",
    "    else:\n",
    "        print(res.text)\n",
    "    return pd.DataFrame([data])\n",
    "\n",
    "def create_activity_df(\n",
    "    token,\n",
    "    object_id,\n",
    "    activity,\n",
    "    properties_dict=None,\n",
    "):\n",
    "    # Init\n",
    "    properties = [x for x in properties_dict]\n",
    "    \n",
    "    # List activities\n",
    "    df = retrieve_object_details(\n",
    "        token,\n",
    "        object_id,\n",
    "        activity,\n",
    "        properties\n",
    "    )\n",
    "    if len(df) > 0:\n",
    "        df = df[properties]\n",
    "        \n",
    "    if len(df) > 0:\n",
    "        df = df.rename(columns=properties_dict)\n",
    "        if 'activity_type' not in df:\n",
    "            df.insert(loc=1, column=\"activity_type\", value=activity.upper())\n",
    "    \n",
    "    return df.reset_index(drop=True)\n",
    "\n",
    "def get_details(\n",
    "    hs_access_token,\n",
    "    hubspot_id,\n",
    "    properties,\n",
    "    associations\n",
    "):\n",
    "    # Init\n",
    "    message = \"DEAL:\\n\"\n",
    "    df = pd.DataFrame()\n",
    "    \n",
    "    # Get object\n",
    "    obj = hubspot.connect(hs_access_token).deals.get(\n",
    "        hubspot_id,\n",
    "        hs_properties=properties,\n",
    "        hs_associations=associations\n",
    "    )\n",
    "    \n",
    "    # Get properties\n",
    "    obj_properties = obj.get(\"properties\")\n",
    "    for p in properties:\n",
    "        message = f\"{message}- {p}: {obj_properties.get(p)}\\n\"\n",
    "    \n",
    "    # Get contact associations\n",
    "    obj_associations = obj.get(\"associations\")\n",
    "    for a in obj_associations:\n",
    "        results = obj_associations.get(a).get(\"results\")\n",
    "        for r in results:\n",
    "            if a == \"communications\":\n",
    "                properties_dict = {\n",
    "                    \"hs_object_id\": \"activity_hs_id\",\n",
    "                    \"hs_timestamp\": \"activity_date\",\n",
    "                    \"hs_communication_channel_type\": \"activity_type\",\n",
    "                    \"hs_body_preview\": \"activity_content\"\n",
    "                }\n",
    "            elif a == \"meetings\":\n",
    "                properties_dict = {\n",
    "                    \"hs_object_id\": \"activity_hs_id\",\n",
    "                    \"hs_timestamp\": \"activity_date\",\n",
    "                    \"hs_meeting_title\": \"activity_content\"\n",
    "                }\n",
    "            else:\n",
    "                properties_dict = {\n",
    "                    \"hs_object_id\": \"activity_hs_id\",\n",
    "                    \"hs_timestamp\": \"activity_date\",\n",
    "                    \"hs_body_preview\": \"activity_content\"\n",
    "                }\n",
    "            association_id = r.get(\"id\")\n",
    "            \n",
    "            # Create activity df\n",
    "            tmp_df = create_activity_df(\n",
    "                hs_access_token,\n",
    "                association_id,\n",
    "                a,\n",
    "                properties_dict\n",
    "            )\n",
    "            df = pd.concat([df, tmp_df])\n",
    "    \n",
    "    # Cleaning df\n",
    "    if len(df) > 0:\n",
    "        # Exclude empty or None value\n",
    "        df = df[~(df[\"activity_content\"].astype(str).isin([\"None\"]))]\n",
    "\n",
    "        # Format date\n",
    "        df[\"activity_date\"] = pd.to_datetime(df[\"activity_date\"]).dt.strftime(\"%Y-%m-%d %H:%M:%S\")\n",
    "        df = df.sort_values(by=\"activity_date\", ascending=False).reset_index(drop=True)\n",
    "            \n",
    "    # Create activity message\n",
    "    message = f\"{message}\\nACTIVITIES:\\n\"\n",
    "    for row in df.itertuples():\n",
    "        activity_date = row.activity_date\n",
    "        activity_type = row.activity_type\n",
    "        activity_content = row.activity_content.replace(\"\\xa0\\u200c\", \"\")\n",
    "        message = f\"{message}-{activity_date}: {activity_type} - {activity_content}\\n\"\n",
    "    return message, df.reset_index(drop=True)\n",
    "\n",
    "brief, df_activity = get_details(\n",
    "    hs_access_token,\n",
    "    deal_id,\n",
    "    deal_properties,\n",
    "    associations\n",
    ")\n",
    "print(brief)"
   ]
  },
  {
   "cell_type": "markdown",
   "id": "aa2d3a26-c957-4c70-bc0d-68be83eb28cc",
   "metadata": {
    "papermill": {},
    "tags": []
   },
   "source": [
    "## Output"
   ]
  },
  {
   "cell_type": "markdown",
   "id": "f10c7bd1-448c-434a-8b9c-93e16fa5feb3",
   "metadata": {
    "execution": {
     "iopub.execute_input": "2023-08-21T14:13:58.779716Z",
     "iopub.status.busy": "2023-08-21T14:13:58.779474Z",
     "iopub.status.idle": "2023-08-21T14:13:58.784746Z",
     "shell.execute_reply": "2023-08-21T14:13:58.784135Z",
     "shell.execute_reply.started": "2023-08-21T14:13:58.779693Z"
    },
    "papermill": {},
    "tags": []
   },
   "source": [
    "### Save DataFrame to CSV"
   ]
  },
  {
   "cell_type": "code",
   "execution_count": 22,
   "id": "8cb21df7-3e0d-492c-a252-15bd9063905e",
   "metadata": {
    "execution": {
     "iopub.execute_input": "2023-09-27T14:04:03.809313Z",
     "iopub.status.busy": "2023-09-27T14:04:03.809122Z",
     "iopub.status.idle": "2023-09-27T14:04:03.854174Z",
     "shell.execute_reply": "2023-09-27T14:04:03.853564Z",
     "shell.execute_reply.started": "2023-09-27T14:04:03.809291Z"
    },
    "papermill": {},
    "tags": []
   },
   "outputs": [],
   "source": [
    "df_activity.to_csv(f\"Deal_activity_{deal_id}.csv\", index=False)"
   ]
  },
  {
   "cell_type": "markdown",
   "id": "70697f15-8d1c-4123-abcf-a7f73a87cda9",
   "metadata": {
    "execution": {
     "iopub.execute_input": "2023-09-26T15:15:09.022426Z",
     "iopub.status.busy": "2023-09-26T15:15:09.022118Z",
     "iopub.status.idle": "2023-09-26T15:15:09.025782Z",
     "shell.execute_reply": "2023-09-26T15:15:09.025087Z",
     "shell.execute_reply.started": "2023-09-26T15:15:09.022389Z"
    },
    "tags": []
   },
   "source": [
    "### JSON response\n",
    "Response to be sent in your Naas Chat input bar."
   ]
  },
  {
   "cell_type": "code",
   "execution_count": 23,
   "id": "9de96677-3e26-4979-abab-09e867dd583f",
   "metadata": {
    "execution": {
     "iopub.execute_input": "2023-09-27T14:04:03.855787Z",
     "iopub.status.busy": "2023-09-27T14:04:03.855556Z",
     "iopub.status.idle": "2023-09-27T14:04:03.961146Z",
     "shell.execute_reply": "2023-09-27T14:04:03.960471Z",
     "shell.execute_reply.started": "2023-09-27T14:04:03.855757Z"
    },
    "tags": []
   },
   "outputs": [
    {
     "data": {
      "text/markdown": [
       "Response Set as JSON, preview below: "
      ],
      "text/plain": [
       "<IPython.core.display.Markdown object>"
      ]
     },
     "metadata": {},
     "output_type": "display_data"
    },
    {
     "data": {
      "application/json": {
       "message": "Here is the deal URL: https://app.hubspot.com/contacts/2474088/record/0-3/15220482319/.\nHere are all the activities:\nDEAL:\n- hs_object_id: 15220482319\n- dealname: Agicap X Icelex connexion Quadra\n- amount: None\n\nACTIVITIES:\n-2023-09-26 07:44:00: EMAILS - Hello Florent,  Je t'appelle dans la journée. Bien à toi,  Pierre\n-2023-09-26 07:40:00: EMAILS - Hello Pierre, Je me permets de te relancer par rapport à nos derniers échanges par email et téléphone. Est-ce que tu as fait un retour au Groupe Ice? Est-ce que tu aurais d'autres clients/prospects à nous présenter? On peut s'appeler dans la journée si besoin, Cordialement, Florent\n-2023-09-21 14:15:00: EMAILS - Salut Pierre, Bonne nouvelle! Nous avons identifié un partenaire pour prendre en charge l'intégration entre QUADRA & Agicap. Comme mentionné lors de notre conversation téléphonique, je t'envoie notre analyse pour réaliser la connexion entre QUADRA & Agicap. Nous envisageons d'utiliser un robot pour simuler les actions humaines et réaliser les exports automatiquement. Cela nécessitera deux phases distinctes : La mise en place, qui comprend : L'installation d'un serveur Windows La configuration du serveur avec la suite Citrix La mise à disposition du SFTP par Agicap La détermination du nombre de dossiers et d'extractions par dossier à effectuer (spécifications) La création du robot La livraison des données sur le STFP La maintenance, qui nécessite : Un serveur Windows et une machine naas Il est important de noter que la maintenance ne couvre pas les mises à jour de version dans CEGID ni les nouveaux exports à envoyer vers le SFTP. Concernant le budget de maintenance, nous estimons un coût d'environ 100€ par mois (le coût des machines), sans support inclus. En ce qui concerne la mise en place, nous sommes toujours en train de tester pour estimer le temps nécessaire à la création du robot. Je comprends que le budget du client est plafonné à 4000€ (1200€ pour la machine et 2800€ pour la mise en place).  Toutefois, comme nous l'avons discuté, la création du robot nécessite plus qu'un budget de 2800€ mais pourrait être amorti avec un plus grand nombre de clients utilisant le même robot. Penses-tu qu'il serait possible de trouver plusieurs clients QUADRA afin que nous puissions former efficacement notre partenaire en interne et nous engager sur un volume plus important ? Cordialement, Florent Sans virus.www.avast.com\n-2023-09-20 13:51:00: EMAILS - J’en suis arrivé à ce point: Pouvez-vous m’indiquer comment générer un document qui serait attendu par Agicap ainsi que le télécharger s’il vous plaît?   Lorsque je sélectionne “Ecran” je n’ai pas de possibilité de sauvegarder et l’option “Archivage” ne m’indique rien mais ça semble archiver quelque part. Merci beaucoup, Maxime\n-2023-09-19 14:35:00: EMAILS - Bonjour David, Merci de votre retour. J'ai essayé de me connecter sur Citrix en suivant votre procédure.  Cependant, je me retrouve bloqué au niveau de l'ajout du compte (page 18):  Serait-il possible que seules les adresses internes soient autorisées (@ icelec.com)? Si c'est le cas, pouvez-vous svp nous créer une adresse temporaire? Merci de votre aide, Cordialement, Florent\n-2023-09-19 07:30:00: EMAILS - Bonjour David, Merci de votre retour.  J'ai essayé de me connecter à CEGIDLife mais je n'y ai pas eu accès. (impression d' écran ci-dessous) Pourriez-vous svp me fournir la procédure d'accès? Cordialement, Florent\n-2023-09-18 16:46:00: EMAILS - Bonsoir,   Avec mes excuses, la console Admin a été inopérante un temps et je n’ai pu supprimer un compte pour créer le vôtre.   Ci-joint le fichier contenant l’identifiant et le 1er mot de passe à changer à la 1e connexion.   Je créerai votre accès dossier à Quadra demain.   Bien cordialement, David CAMUS Responsable CSP Comptabilité Groupe 11 rue Marcel Sembat - 94140 ALFORTVILLE - FRANCE Tel.: + 33 (0)1 41 79 76 89 – Mob.: +33 (0)6 80 42 57 43 dcamus@icelec.com     Visitez notre site web : www.icegroupe.com   Devez-vous vraiment imprimer ce courriel ? Pensons environnement.   Ce message et les éventuelles pièces attachées sont confidentiels. Si vous n'êtes pas dans la liste des destinataires, veuillez informer l'expéditeur immédiatement et ne pas divulguer le contenu à une tierce personne, ne pas l'utiliser pour quelque raison que ce soit, ne pas stocker ou copier l'information qu'il contient sur un quelconque support. Les précautions raisonnables ont  été prises pour éviter que des virus ne soient transmis par ce message mais il vous appartient de mettre en place des mesures de sécurité destinées à détecter et éradiquer la présence d’un éventuel virus. Nous ne saurions être tenus responsables pour tout dommage causé par la transmission d’un virus et/ou la contamination de votre système informatique. Le réseau internet ne permettant pas d'assurer l’intégrité de ce message, l’expéditeur décline toute responsabilité au cas où il aurait été intercepté ou modifié par quiconque.    \n-2023-09-15 08:23:00: EMAILS - Bonjour à tous,  Monsieur Camu, je me permets de créer cette boucle de mail afin de savoir si vous avez pu créer les accès pour la société Naas afin qu'il puisse faire une analyse de la connexion de votre système à Agicap ? Je reste disponible. Bien à vous,  Pierre -- Pierre Reffay Responsable commercial   pierre.reffay@agicap.com ++33 6 18 10 93 21\n-2023-09-13 09:26:00: EMAILS - Agicap X Icelex connexion Quadra   Bonjour, Ci-joint, le lien de notre visio : https://meet.google.com/abi-fswr-ruq?authuser=0 A tout de suite, Pierre Participer avec Google Meet Lien de la réunion meet.google.com/abi-fswr-ruq Participer par téléphone (FR) +33 1 87 40 40 99 CODE SECRET: 593083222 Plus de numéros de téléphone Agicap X Icelex connexion Quadra mercredi 13 sept. 2023 ⋅ 11:30am – 12pm (Heure d’Europe centrale - Paris) Invités pierre.reffay@agicap.com - organisateur plefeuvre@icelec.com maxime@naas.ai florent@naas.ai dcamus@icelec.com tbenslimane@icelec.com\n\n",
       "status": "ok"
      },
      "text/plain": [
       "<IPython.core.display.JSON object>"
      ]
     },
     "metadata": {
      "application/json": {
       "expanded": false,
       "naas_api": true,
       "root": "root"
      }
     },
     "output_type": "display_data"
    }
   ],
   "source": [
    "naas.webhook.respond_json(\n",
    "    {\n",
    "        \"status\": \"ok\", \n",
    "        \"message\": message.replace(\"[URL]\", deal_url).replace(\"[ACTIVITIES]\", brief)\n",
    "    }\n",
    ")"
   ]
  },
  {
   "cell_type": "markdown",
   "id": "57ced55a-5968-4f7f-9749-3b6f7e57afe0",
   "metadata": {},
   "source": [
    "### Push Webhook to production\n",
    "Webhook URL will be include in command of your Naas Chat plugin."
   ]
  },
  {
   "cell_type": "code",
   "execution_count": 24,
   "id": "c1587477-c80f-43fa-9c8b-a4de3abf169f",
   "metadata": {
    "execution": {
     "iopub.execute_input": "2023-09-27T14:04:03.962554Z",
     "iopub.status.busy": "2023-09-27T14:04:03.962320Z",
     "iopub.status.idle": "2023-09-27T14:04:04.907453Z",
     "shell.execute_reply": "2023-09-27T14:04:04.906683Z",
     "shell.execute_reply.started": "2023-09-27T14:04:03.962524Z"
    },
    "tags": []
   },
   "outputs": [
    {
     "name": "stdout",
     "output_type": "stream",
     "text": [
      "👌 Well done! Your Notebook has been sent to production.\n",
      "\n"
     ]
    },
    {
     "data": {
      "application/javascript": [
       "\n",
       "    if (!window.copyToClipboard) {\n",
       "        window.copyToClipboard = (text) => {\n",
       "            const dummy = document.createElement(\"textarea\");\n",
       "            document.body.appendChild(dummy);\n",
       "            dummy.value = text;\n",
       "            dummy.select();\n",
       "            document.execCommand(\"copy\");\n",
       "            document.body.removeChild(dummy);\n",
       "        }\n",
       "    }\n",
       "    "
      ],
      "text/plain": [
       "<IPython.core.display.Javascript object>"
      ]
     },
     "metadata": {},
     "output_type": "display_data"
    },
    {
     "data": {
      "application/vnd.jupyter.widget-view+json": {
       "model_id": "1fd1553ac0484057a7d6880eec49aee3",
       "version_major": 2,
       "version_minor": 0
      },
      "text/plain": [
       "Button(button_style='primary', description='Copy URL', style=ButtonStyle())"
      ]
     },
     "metadata": {},
     "output_type": "display_data"
    },
    {
     "data": {
      "application/vnd.jupyter.widget-view+json": {
       "model_id": "3b3ef94bb48544d0bdaf8a4a297ebe22",
       "version_major": 2,
       "version_minor": 0
      },
      "text/plain": [
       "Output()"
      ]
     },
     "metadata": {},
     "output_type": "display_data"
    },
    {
     "name": "stdout",
     "output_type": "stream",
     "text": [
      "PS: to remove the \"Notebook as API\" feature, just replace .add by .delete\n"
     ]
    }
   ],
   "source": [
    "webhook_url = naas.webhook.add(params={\"inline\": True})"
   ]
  },
  {
   "cell_type": "markdown",
   "id": "90b4a731-2f9d-4115-8152-5525fb582f11",
   "metadata": {},
   "source": [
    "### Create command to be used in your Naas Chat"
   ]
  },
  {
   "cell_type": "code",
   "execution_count": 25,
   "id": "a31b28d2-c12d-4704-80ee-dd08cc40afca",
   "metadata": {
    "execution": {
     "iopub.execute_input": "2023-09-27T14:04:04.909044Z",
     "iopub.status.busy": "2023-09-27T14:04:04.908791Z",
     "iopub.status.idle": "2023-09-27T14:04:04.913391Z",
     "shell.execute_reply": "2023-09-27T14:04:04.912718Z",
     "shell.execute_reply.started": "2023-09-27T14:04:04.909007Z"
    },
    "tags": []
   },
   "outputs": [],
   "source": [
    "commands = [\n",
    "    {\n",
    "        \"name\": \"HubSpot_Get_deal_summary\",\n",
    "        \"action\": {\n",
    "          \"request_type\": \"POST\",\n",
    "          \"url\": webhook_url,\n",
    "          \"payload\": {\n",
    "              \"deal_url\": {\n",
    "                  \"type\": \"str\",\n",
    "                  \"description\": \"HubSpot deal URL: https://app.hubspot.com/contacts/2474088/record/0-3/15220482319/\",\n",
    "                  \"default\": \"https://app.hubspot.com/contacts/2474088/record/0-3/15220482319/\"\n",
    "              },\n",
    "          }\n",
    "        }\n",
    "    }\n",
    "]"
   ]
  },
  {
   "cell_type": "markdown",
   "id": "5fc799c1-b224-4df5-9894-0f8273ee29bd",
   "metadata": {
    "papermill": {},
    "tags": []
   },
   "source": [
    "### Generate plugin\n",
    "This function will generate the plugin in JSON format and also verify if your prompt adheres to the recommended limit, which is set at 20% of the maximum tokens allowed by the model. Then, it will save your plugin in your local environment."
   ]
  },
  {
   "cell_type": "code",
   "execution_count": 26,
   "id": "c9f38695-12ad-4927-bb67-5b02b6ec8777",
   "metadata": {
    "execution": {
     "iopub.execute_input": "2023-09-27T14:04:19.689627Z",
     "iopub.status.busy": "2023-09-27T14:04:19.689395Z",
     "iopub.status.idle": "2023-09-27T14:04:19.736732Z",
     "shell.execute_reply": "2023-09-27T14:04:19.736051Z",
     "shell.execute_reply.started": "2023-09-27T14:04:19.689603Z"
    },
    "papermill": {},
    "tags": []
   },
   "outputs": [
    {
     "name": "stdout",
     "output_type": "stream",
     "text": [
      "✅ System prompt tokens count OK: 241 (limit: 20% -> 3277)\n",
      "💾 Plugin successfully saved. You can use it in your Naas Chat with: sales_agent_plugin.json\n"
     ]
    }
   ],
   "source": [
    "plugin_path = naas_chat_plugin.create_plugin(\n",
    "    name=plugin_name,\n",
    "    prompt=system_prompt,\n",
    "    model='gpt-3.5-turbo-16k',\n",
    "    temperature=1,\n",
    "    commands=commands,\n",
    ")"
   ]
  },
  {
   "cell_type": "markdown",
   "id": "1f3da962-f7f1-45d2-83f6-6c1ef2f87e6f",
   "metadata": {
    "papermill": {},
    "tags": []
   },
   "source": [
    "### Create naas asset\n",
    "This asset can be utilized by using the command `/use` in your Naas Chat or by simply clicking on the link provided in the cell below."
   ]
  },
  {
   "cell_type": "code",
   "execution_count": 27,
   "id": "6b7daf0f-dcfc-4206-9d71-f11ae9448041",
   "metadata": {
    "execution": {
     "iopub.execute_input": "2023-09-27T14:04:20.312318Z",
     "iopub.status.busy": "2023-09-27T14:04:20.311982Z",
     "iopub.status.idle": "2023-09-27T14:04:21.118482Z",
     "shell.execute_reply": "2023-09-27T14:04:21.111438Z",
     "shell.execute_reply.started": "2023-09-27T14:04:20.312277Z"
    },
    "papermill": {},
    "tags": []
   },
   "outputs": [
    {
     "name": "stdout",
     "output_type": "stream",
     "text": [
      "👌 Well done! Your Assets has been sent to production.\n",
      "\n"
     ]
    },
    {
     "data": {
      "application/javascript": [
       "\n",
       "    if (!window.copyToClipboard) {\n",
       "        window.copyToClipboard = (text) => {\n",
       "            const dummy = document.createElement(\"textarea\");\n",
       "            document.body.appendChild(dummy);\n",
       "            dummy.value = text;\n",
       "            dummy.select();\n",
       "            document.execCommand(\"copy\");\n",
       "            document.body.removeChild(dummy);\n",
       "        }\n",
       "    }\n",
       "    "
      ],
      "text/plain": [
       "<IPython.core.display.Javascript object>"
      ]
     },
     "metadata": {},
     "output_type": "display_data"
    },
    {
     "data": {
      "application/vnd.jupyter.widget-view+json": {
       "model_id": "2e6cf14dcf6e4ac3aaf2786e650298aa",
       "version_major": 2,
       "version_minor": 0
      },
      "text/plain": [
       "Button(button_style='primary', description='Copy URL', style=ButtonStyle())"
      ]
     },
     "metadata": {},
     "output_type": "display_data"
    },
    {
     "data": {
      "application/vnd.jupyter.widget-view+json": {
       "model_id": "0328e88672be4f1891a9875f9b9258dc",
       "version_major": 2,
       "version_minor": 0
      },
      "text/plain": [
       "Output()"
      ]
     },
     "metadata": {},
     "output_type": "display_data"
    },
    {
     "name": "stdout",
     "output_type": "stream",
     "text": [
      "PS: to remove the \"Assets\" feature, just replace .add by .delete\n"
     ]
    }
   ],
   "source": [
    "plugin_url = naas.asset.add(plugin_path, params={\"inline\": True})"
   ]
  },
  {
   "cell_type": "markdown",
   "id": "b8ac6ca9-5579-42ef-88ca-6fc123583a92",
   "metadata": {},
   "source": [
    "### Create new chat"
   ]
  },
  {
   "cell_type": "code",
   "execution_count": 12,
   "id": "b8979aea-9adc-4170-9228-cecf4d515752",
   "metadata": {
    "execution": {
     "iopub.execute_input": "2023-09-27T14:23:29.952603Z",
     "iopub.status.busy": "2023-09-27T14:23:29.952285Z",
     "iopub.status.idle": "2023-09-27T14:23:29.964496Z",
     "shell.execute_reply": "2023-09-27T14:23:29.963896Z",
     "shell.execute_reply.started": "2023-09-27T14:23:29.952569Z"
    },
    "tags": []
   },
   "outputs": [
    {
     "data": {
      "text/markdown": [
       "[Create New Chat](https://naas.ai/chat/use?plugin_url=https://public.naas.ai/ZmxvcmVudC00MG5hYXMtMkVhaQ==/asset/d7b89b94307ec625ced0ae69dd46cd06211cd2b29d8c1e476df4aea25391)"
      ],
      "text/plain": [
       "<IPython.core.display.Markdown object>"
      ]
     },
     "execution_count": 12,
     "metadata": {},
     "output_type": "execute_result"
    }
   ],
   "source": [
    "Markdown(f\"[Create New Chat](https://naas.ai/chat/use?plugin_url={plugin_url})\")"
   ]
  },
  {
   "cell_type": "markdown",
   "id": "4f26fe79-6d76-4bef-95da-d0d17b8d7040",
   "metadata": {},
   "source": [
    "***NB: If you want to update the prompt plugin sent in your Naas Chat, you must use the command `/refresh`. This command will retrieve the last prompt sent as an asset in Naas Lab.***"
   ]
  }
 ],
 "metadata": {
  "kernelspec": {
   "display_name": "Python 3",
   "language": "python",
   "name": "python3"
  },
  "language_info": {
   "codemirror_mode": {
    "name": "ipython",
    "version": 3
   },
   "file_extension": ".py",
   "mimetype": "text/x-python",
   "name": "python",
   "nbconvert_exporter": "python",
   "pygments_lexer": "ipython3",
   "version": "3.9.6"
  },
  "naas": {
   "notebook_id": "d5aef083b682b39a162f90c833fb5c6104fe72e3c839a9008e799212f82a8c80",
   "notebook_path": "HubSpot/HubSpot_Chat_about_a_deal.ipynb"
  },
  "papermill": {
   "default_parameters": {},
   "environment_variables": {},
   "parameters": {},
   "version": "2.4.0"
  },
  "widgets": {
   "application/vnd.jupyter.widget-state+json": {
    "state": {},
    "version_major": 2,
    "version_minor": 0
   }
  }
 },
 "nbformat": 4,
 "nbformat_minor": 5
}
