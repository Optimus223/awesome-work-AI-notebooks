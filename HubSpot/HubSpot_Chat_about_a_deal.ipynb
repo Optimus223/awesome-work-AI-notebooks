{
 "cells": [
  {
   "cell_type": "markdown",
   "id": "d2e34832-b1e9-4cd1-ac74-a00dead5dc56",
   "metadata": {
    "papermill": {},
    "tags": []
   },
   "source": [
    "<img width=\"10%\" alt=\"Naas\" src=\"https://landen.imgix.net/jtci2pxwjczr/assets/5ice39g4.png?w=160\"/>"
   ]
  },
  {
   "cell_type": "markdown",
   "id": "182eb9cc-7fe5-4a96-9761-d1f631825a60",
   "metadata": {
    "papermill": {},
    "tags": []
   },
   "source": [
    "# HubSpot - Chat about a deal"
   ]
  },
  {
   "cell_type": "markdown",
   "id": "639b3515-7d32-4382-a7d9-5f5fa85366ee",
   "metadata": {
    "papermill": {},
    "tags": []
   },
   "source": [
    "**Tags:** #hubspot #chat #deals #last #discussion #conversation"
   ]
  },
  {
   "cell_type": "markdown",
   "id": "4363e628-6e22-40d8-bd6a-06cf89c76d5a",
   "metadata": {
    "papermill": {},
    "tags": []
   },
   "source": [
    "**Author:** [Florent Ravenel](https://www.linkedin.com/in/florent-ravenel)"
   ]
  },
  {
   "cell_type": "markdown",
   "id": "a60ac146-ffa4-41e6-b7ba-d6447478e613",
   "metadata": {
    "papermill": {},
    "tags": []
   },
   "source": [
    "**Last update:** 2023-09-25 (Created: 2023-09-25)"
   ]
  },
  {
   "cell_type": "markdown",
   "id": "bb50c25d-1933-45d4-ae12-acf488bdf130",
   "metadata": {
    "papermill": {},
    "tags": []
   },
   "source": [
    "**Description:** This notebook assists you in discussing a deal on HubSpot by providing essential insights about the deal and its recent activities. This information will enable you to plan your next steps effectively."
   ]
  },
  {
   "cell_type": "markdown",
   "id": "3fb3f310-bd86-41ac-b4c1-790472bc04d1",
   "metadata": {
    "papermill": {},
    "tags": []
   },
   "source": [
    "### Import libraries"
   ]
  },
  {
   "cell_type": "code",
   "execution_count": null,
   "id": "02522295-f0cc-4524-93fb-2b2ab5ac480e",
   "metadata": {
    "papermill": {},
    "tags": []
   },
   "outputs": [],
   "source": [
    "import requests\n",
    "import naas\n",
    "from naas_drivers import hubspot, naas_chat_plugin\n",
    "import pandas as pd\n",
    "import os\n",
    "pd.set_option('display.max_colwidth', None)"
   ]
  },
  {
   "cell_type": "markdown",
   "id": "4f5998fe-fc54-42c5-920e-3533a4002c7c",
   "metadata": {},
   "source": [
    "## Input"
   ]
  },
  {
   "cell_type": "markdown",
   "id": "b8dcccd0-539d-4719-8c4b-269fd2ed1de4",
   "metadata": {
    "papermill": {},
    "tags": []
   },
   "source": [
    "### Setup variables\n",
    "**Mandatory**\n",
    "\n",
    "[Get your HubSpot Access token](https://knowledge.hubspot.com/articles/kcs_article/integrations/how-do-i-get-my-hubspot-api-key)\n",
    "- `hs_access_token`: This variable stores an access token used for accessing the HubSpot API.\n",
    "- `deal_url`: This variable stores the HubSpot deal URL.\n",
    "\n",
    "**Optional**\n",
    "- `deal_properties`: It represents the list of properties to retrieve from your deal\n",
    "- `associations`: It represents the list of associations to get from your deal\n",
    "- `plugin_name`: It represents the name of the plugin."
   ]
  },
  {
   "cell_type": "code",
   "execution_count": null,
   "id": "f3708001-f591-48ef-aba6-6ff184092bbc",
   "metadata": {
    "papermill": {},
    "tags": [
     "parameters"
    ]
   },
   "outputs": [],
   "source": [
    "# Mandatory\n",
    "hs_access_token = naas.secret.get(\"HS_ACCESS_TOKEN\") or \"YOUR_HS_ACCESS_TOKEN\"\n",
    "deal_url = \"https://app.hubspot.com/contacts/2474088/record/0-3/15220482319/\" # \"https://app.hubspot.com/contacts/xxxxx/record/0-1/xxxxx\"\n",
    "\n",
    "# Optional\n",
    "deal_properties = [\"hs_object_id\", \"dealname\", 'amount']\n",
    "associations = [\"notes\", \"emails\", \"meetings\", \"communications\"]\n",
    "plugin_name = \"Sales Agent\""
   ]
  },
  {
   "cell_type": "markdown",
   "id": "af3b118f-91aa-4426-a1fb-4358e4eaf10b",
   "metadata": {
    "papermill": {},
    "tags": []
   },
   "source": [
    "## Model"
   ]
  },
  {
   "cell_type": "markdown",
   "id": "bba4a41a-3eee-4446-9211-6fe2522d27f7",
   "metadata": {
    "papermill": {},
    "tags": []
   },
   "source": [
    "#### Engineer system prompt\n",
    "We used Playground to refined it: https://platform.openai.com/playground?mode=chat&model=gpt-4"
   ]
  },
  {
   "cell_type": "code",
   "execution_count": null,
   "id": "2535ae58-b7c4-46a0-8141-d0adb1c3c157",
   "metadata": {
    "papermill": {},
    "tags": []
   },
   "outputs": [],
   "source": [
    "system_prompt = f\"\"\"\n",
    "Act as a Sales Agent expert in analyzing conversations and extracting action items.\n",
    "\n",
    "Please present the deal giving access to it with the URL: [URL] and then review the text and identify any tasks, assignments, or actions needed to be done.\n",
    "These could be tasks assigned to specific individuals, or general actions that the group has decided to take.\n",
    "Please list these action items clearly and concisely.\n",
    "\n",
    "Data: [ACTIVITIES]\n",
    "\"\"\""
   ]
  },
  {
   "cell_type": "markdown",
   "id": "0c3b0fbe-0caf-42f2-af6b-68ba241fa22e",
   "metadata": {
    "papermill": {},
    "tags": []
   },
   "source": [
    "### Get deal ID from URL"
   ]
  },
  {
   "cell_type": "code",
   "execution_count": null,
   "id": "5903fe72-265c-4a31-bacd-f5c04d4aee7a",
   "metadata": {
    "papermill": {},
    "tags": []
   },
   "outputs": [],
   "source": [
    "def get_contact_ID_from_URL(url):\n",
    "    # Init\n",
    "    uid = url\n",
    "    \n",
    "    # Check if URL is valid\n",
    "    if not url.startswith(\"https://app.hubspot.com/contacts/\"):\n",
    "        raise BaseException(\"HubSpot URL Invalid! It must start by https://app.hubspot.com/contacts/\")\n",
    "    \n",
    "    # Split URL to get ID\n",
    "    if \"/record/0-3/\" in url:\n",
    "        uid = url.split(\"/record/0-3/\")[-1].split(\"/\")[0]\n",
    "    return uid\n",
    "\n",
    "deal_id = get_contact_ID_from_URL(deal_url)\n",
    "print(\"Deal ID:\", deal_id)"
   ]
  },
  {
   "cell_type": "markdown",
   "id": "55dceacb-7f01-4936-85d3-fe0e616dafce",
   "metadata": {
    "papermill": {},
    "tags": []
   },
   "source": [
    "### Get contact details"
   ]
  },
  {
   "cell_type": "code",
   "execution_count": null,
   "id": "6096ec3d-23bb-4632-b2d8-efc1c702fa8e",
   "metadata": {
    "papermill": {},
    "tags": []
   },
   "outputs": [],
   "source": [
    "def retrieve_object_details(\n",
    "    token,\n",
    "    object_id,\n",
    "    object_type,\n",
    "    properties=None,\n",
    "):\n",
    "    # Init\n",
    "    data = []\n",
    "    params = {\n",
    "        \"archived\": \"false\"\n",
    "    }\n",
    "    \n",
    "    # Requests\n",
    "    if properties:\n",
    "        params[\"properties\"] = properties\n",
    "    headers = {\n",
    "        \"Content-Type\": \"application/json\",\n",
    "        \"Authorization\": f\"Bearer {token}\"\n",
    "    }\n",
    "    url = f\"https://api.hubapi.com/crm/v3/objects/{object_type}/{object_id}\"\n",
    "    \n",
    "    # Response\n",
    "    res = requests.get(url, headers=headers, params=params)\n",
    "    if res.status_code == 200:\n",
    "        data = res.json().get(\"properties\")\n",
    "    else:\n",
    "        print(res.text)\n",
    "    return pd.DataFrame([data])\n",
    "\n",
    "def create_activity_df(\n",
    "    token,\n",
    "    object_id,\n",
    "    activity,\n",
    "    properties_dict=None,\n",
    "):\n",
    "    # Init\n",
    "    properties = [x for x in properties_dict]\n",
    "    \n",
    "    # List activities\n",
    "    df = retrieve_object_details(\n",
    "        token,\n",
    "        object_id,\n",
    "        activity,\n",
    "        properties\n",
    "    )\n",
    "    if len(df) > 0:\n",
    "        df = df[properties]\n",
    "        \n",
    "    if len(df) > 0:\n",
    "        df = df.rename(columns=properties_dict)\n",
    "        if 'activity_type' not in df:\n",
    "            df.insert(loc=1, column=\"activity_type\", value=activity.upper())\n",
    "    \n",
    "    return df.reset_index(drop=True)\n",
    "\n",
    "def get_details(\n",
    "    hs_access_token,\n",
    "    hubspot_id,\n",
    "    properties,\n",
    "    associations\n",
    "):\n",
    "    # Init\n",
    "    message = \"DEAL:\\n\"\n",
    "    df = pd.DataFrame()\n",
    "    \n",
    "    # Get object\n",
    "    obj = hubspot.connect(hs_access_token).deals.get(\n",
    "        hubspot_id,\n",
    "        hs_properties=properties,\n",
    "        hs_associations=associations\n",
    "    )\n",
    "    \n",
    "    # Get properties\n",
    "    obj_properties = obj.get(\"properties\")\n",
    "    for p in properties:\n",
    "        message = f\"{message}- {p}: {obj_properties.get(p)}\\n\"\n",
    "    \n",
    "    # Get contact associations\n",
    "    obj_associations = obj.get(\"associations\")\n",
    "    for a in obj_associations:\n",
    "        results = obj_associations.get(a).get(\"results\")\n",
    "        for r in results:\n",
    "            if a == \"communications\":\n",
    "                properties_dict = {\n",
    "                    \"hs_object_id\": \"activity_hs_id\",\n",
    "                    \"hs_timestamp\": \"activity_date\",\n",
    "                    \"hs_communication_channel_type\": \"activity_type\",\n",
    "                    \"hs_body_preview\": \"activity_content\"\n",
    "                }\n",
    "            elif a == \"meetings\":\n",
    "                properties_dict = {\n",
    "                    \"hs_object_id\": \"activity_hs_id\",\n",
    "                    \"hs_timestamp\": \"activity_date\",\n",
    "                    \"hs_meeting_title\": \"activity_content\"\n",
    "                }\n",
    "            else:\n",
    "                properties_dict = {\n",
    "                    \"hs_object_id\": \"activity_hs_id\",\n",
    "                    \"hs_timestamp\": \"activity_date\",\n",
    "                    \"hs_body_preview\": \"activity_content\"\n",
    "                }\n",
    "            association_id = r.get(\"id\")\n",
    "            \n",
    "            # Create activity df\n",
    "            tmp_df = create_activity_df(\n",
    "                hs_access_token,\n",
    "                association_id,\n",
    "                a,\n",
    "                properties_dict\n",
    "            )\n",
    "            df = pd.concat([df, tmp_df])\n",
    "    \n",
    "    # Cleaning df\n",
    "    if len(df) > 0:\n",
    "        # Exclude empty or None value\n",
    "        df = df[~(df[\"activity_content\"].astype(str).isin([\"None\"]))]\n",
    "\n",
    "        # Format date\n",
    "        df[\"activity_date\"] = pd.to_datetime(df[\"activity_date\"]).dt.strftime(\"%Y-%m-%d %H:%M:%S\")\n",
    "        df = df.sort_values(by=\"activity_date\", ascending=False).reset_index(drop=True)\n",
    "            \n",
    "    # Create activity message\n",
    "    message = f\"{message}\\nACTIVITIES:\\n\"\n",
    "    for row in df.itertuples():\n",
    "        activity_date = row.activity_date\n",
    "        activity_type = row.activity_type\n",
    "        activity_content = row.activity_content.replace(\"\\xa0\\u200c\", \"\")\n",
    "        message = f\"{message}-{activity_date}: {activity_type} - {activity_content}\\n\"\n",
    "    return message, df.reset_index(drop=True)\n",
    "\n",
    "brief, df_activity = get_details(\n",
    "    hs_access_token,\n",
    "    deal_id,\n",
    "    deal_properties,\n",
    "    associations\n",
    ")\n",
    "print(brief)"
   ]
  },
  {
   "cell_type": "markdown",
   "id": "aa2d3a26-c957-4c70-bc0d-68be83eb28cc",
   "metadata": {
    "papermill": {},
    "tags": []
   },
   "source": [
    "## Output"
   ]
  },
  {
   "cell_type": "markdown",
   "id": "f10c7bd1-448c-434a-8b9c-93e16fa5feb3",
   "metadata": {
    "execution": {
     "iopub.execute_input": "2023-08-21T14:13:58.779716Z",
     "iopub.status.busy": "2023-08-21T14:13:58.779474Z",
     "iopub.status.idle": "2023-08-21T14:13:58.784746Z",
     "shell.execute_reply": "2023-08-21T14:13:58.784135Z",
     "shell.execute_reply.started": "2023-08-21T14:13:58.779693Z"
    },
    "papermill": {},
    "tags": []
   },
   "source": [
    "### Save DataFrame to CSV"
   ]
  },
  {
   "cell_type": "code",
   "execution_count": null,
   "id": "8cb21df7-3e0d-492c-a252-15bd9063905e",
   "metadata": {
    "papermill": {},
    "tags": []
   },
   "outputs": [],
   "source": [
    "df_activity.to_csv(f\"Deal_activity_{deal_id}.csv\", index=False)"
   ]
  },
  {
   "cell_type": "markdown",
   "id": "f876c2a1-116f-49d1-bc97-68dd49ed65b1",
   "metadata": {
    "papermill": {},
    "tags": []
   },
   "source": [
    "### Generate plugin"
   ]
  },
  {
   "cell_type": "code",
   "execution_count": null,
   "id": "c9f38695-12ad-4927-bb67-5b02b6ec8777",
   "metadata": {
    "papermill": {},
    "tags": []
   },
   "outputs": [],
   "source": [
    "# System prompt\n",
    "system_prompt = system_prompt.replace(\"[ACTIVITIES]\", brief).replace(\"[URL]\", deal_url)\n",
    "\n",
    "# Plugin file path\n",
    "plugin_file_path = naas_chat_plugin.create_plugin(\n",
    "    plugin_name,\n",
    "    system_prompt,\n",
    ")"
   ]
  },
  {
   "cell_type": "markdown",
   "id": "713397d3-0479-4a45-9517-9d52d003b2b6",
   "metadata": {
    "papermill": {},
    "tags": []
   },
   "source": [
    "### Create asset\n",
    "You can now use in your Naas Chat by copy/pasting the URL after the command `/use `"
   ]
  },
  {
   "cell_type": "code",
   "execution_count": null,
   "id": "6b7daf0f-dcfc-4206-9d71-f11ae9448041",
   "metadata": {
    "papermill": {},
    "tags": []
   },
   "outputs": [],
   "source": [
    "naas.asset.add(plugin_file_path, params={\"inline\": True})"
   ]
  },
  {
   "cell_type": "markdown",
   "id": "fb39a75e-176a-41c3-a394-2988b49b80e3",
   "metadata": {
    "papermill": {},
    "tags": []
   },
   "source": [
    " "
   ]
  }
 ],
 "metadata": {
  "kernelspec": {
   "display_name": "Python 3",
   "language": "python",
   "name": "python3"
  },
  "language_info": {
   "codemirror_mode": {
    "name": "ipython",
    "version": 3
   },
   "file_extension": ".py",
   "mimetype": "text/x-python",
   "name": "python",
   "nbconvert_exporter": "python",
   "pygments_lexer": "ipython3",
   "version": "3.9.6"
  },
  "widgets": {
   "application/vnd.jupyter.widget-state+json": {
    "state": {},
    "version_major": 2,
    "version_minor": 0
   }
  }
 },
 "nbformat": 4,
 "nbformat_minor": 5
}
