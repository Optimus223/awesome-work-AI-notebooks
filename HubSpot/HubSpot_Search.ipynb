{
 "cells": [
  {
   "cell_type": "markdown",
   "id": "05d1337a-82e4-4dcf-8a20-29129ad7d051",
   "metadata": {
    "papermill": {},
    "tags": []
   },
   "source": [
    "<img width=\"8%\" alt=\"Naas.png\" src=\"https://raw.githubusercontent.com/jupyter-naas/awesome-notebooks/master/.github/assets/logos/Naas.png\" style=\"border-radius: 15%\">"
   ]
  },
  {
   "cell_type": "markdown",
   "id": "cb4850f4-c9aa-4982-b2c8-bead11f1df62",
   "metadata": {
    "papermill": {},
    "tags": []
   },
   "source": [
    "# HubSpot - Search"
   ]
  },
  {
   "cell_type": "markdown",
   "id": "5e8d86cb-2f08-4d7a-806a-51749072b2dd",
   "metadata": {
    "papermill": {},
    "tags": []
   },
   "source": [
    "**Tags:** #hubspot #crm #search #endpoints #filter #sort"
   ]
  },
  {
   "cell_type": "markdown",
   "id": "594920e8-eec5-4254-a7d3-e444a1662794",
   "metadata": {
    "papermill": {},
    "tags": []
   },
   "source": [
    "**Author:** [Firstname Lastname](https://www.linkedin.com/in/xxxx)"
   ]
  },
  {
   "cell_type": "markdown",
   "id": "6c6698c2-7ed0-4914-9f0a-2bdbad24a688",
   "metadata": {
    "papermill": {},
    "tags": []
   },
   "source": [
    "**Last update:** 2024-02-15 (Created: 2024-02-15)"
   ]
  },
  {
   "cell_type": "markdown",
   "id": "45e077f1-c4eb-42fa-84ef-12b622d49597",
   "metadata": {
    "papermill": {},
    "tags": []
   },
   "source": [
    "**Description:** This notebook demonstrates how to use the CRM search endpoints to filter, sort, and search objects, records, and engagements across your CRM. For example, it shows how to get a list of contacts in your account, or a list of all open deals."
   ]
  },
  {
   "cell_type": "markdown",
   "id": "400cc518-6a93-4fe9-be45-a9b27302737f",
   "metadata": {
    "papermill": {},
    "tags": []
   },
   "source": [
    "**References:**\n- [HubSpot API Documentation](https://developers.hubspot.com/docs/api/crm/search)\n- [HubSpot Python Client Library](https://github.com/HubSpot/hubspot-api-python)"
   ]
  },
  {
   "cell_type": "markdown",
   "id": "7f3c33e7-67e3-423c-a5e8-1e4273ada372",
   "metadata": {
    "papermill": {},
    "tags": []
   },
   "source": [
    "## Input"
   ]
  },
  {
   "cell_type": "markdown",
   "id": "0d9d5cf7-5ade-43c2-8094-7f35e210d568",
   "metadata": {
    "papermill": {},
    "tags": []
   },
   "source": [
    "### Import libraries"
   ]
  },
  {
   "cell_type": "code",
   "execution_count": null,
   "id": "a509ad3e-5299-4916-bda9-fe0e062ac9c8",
   "metadata": {
    "papermill": {},
    "tags": []
   },
   "source": "import hubspot\nfrom hubspot import crm",
   "outputs": []
  },
  {
   "cell_type": "markdown",
   "id": "f1f138b2-5b75-43f6-a427-fd9884cdc1da",
   "metadata": {
    "papermill": {},
    "tags": []
   },
   "source": [
    "### Setup variables\n- `api_key`: Your HubSpot API Key. You can find instructions on how to get it [here](https://knowledge.hubspot.com/integrations/how-do-i-get-my-hubspot-api-key).\n- `object_type`: The type of object you want to search (e.g., 'contacts', 'deals', etc.).\n- `filter_group`: The filter group to apply to the search."
   ]
  },
  {
   "cell_type": "code",
   "execution_count": null,
   "id": "bc4f9760-10a3-4e8f-97ca-e270b430c246",
   "metadata": {
    "papermill": {},
    "tags": []
   },
   "source": "api_key = \"your_api_key\"\nobject_type = \"contacts\"\nfilter_group = {\"propertyName\": \"firstname\", \"operator\": \"EQ\", \"value\": \"John\"}",
   "outputs": []
  },
  {
   "cell_type": "markdown",
   "id": "1437aa25-7284-431c-b83e-b039fcc7b31a",
   "metadata": {
    "papermill": {},
    "tags": []
   },
   "source": [
    "## Model"
   ]
  },
  {
   "cell_type": "markdown",
   "id": "558db766-27f8-4a62-b081-3d73e272047a",
   "metadata": {
    "papermill": {},
    "tags": []
   },
   "source": [
    "### Search CRM Objects"
   ]
  },
  {
   "cell_type": "markdown",
   "id": "3667e08d-9d2a-4c3c-9cc5-4f8d4718080f",
   "metadata": {
    "papermill": {},
    "tags": []
   },
   "source": [
    "This function uses the HubSpot CRM Search API to search for CRM objects based on the provided filter group. It returns a list of matching objects."
   ]
  },
  {
   "cell_type": "code",
   "execution_count": null,
   "id": "96f07766-8ffb-4053-81e3-875535553d9d",
   "metadata": {
    "papermill": {},
    "tags": []
   },
   "source": "def search_crm_objects(api_key, object_type, filter_group):\n    client = hubspot.Client.create(api_key=api_key)\n    search_api = crm.SearchApi(client)\n    filter = crm.Filter(**filter_group)\n    filter_group = crm.FilterGroup(filters=[filter])\n    query = crm.PublicObjectSearchRequest(filter_groups=[filter_group])\n    results = search_api.do_search(object_type, public_object_search_request=query)\n    return results",
   "outputs": []
  },
  {
   "cell_type": "markdown",
   "id": "23d1947f-2102-469f-9355-73120946fce3",
   "metadata": {
    "papermill": {},
    "tags": []
   },
   "source": [
    "## Output"
   ]
  },
  {
   "cell_type": "markdown",
   "id": "f938d76f-cd3b-43fe-b520-d937a74ef024",
   "metadata": {
    "papermill": {},
    "tags": []
   },
   "source": [
    "### Display result"
   ]
  },
  {
   "cell_type": "code",
   "execution_count": null,
   "id": "d25c7157-faa1-4ab6-b0f6-a1596ba40a46",
   "metadata": {
    "papermill": {},
    "tags": []
   },
   "source": "result = search_crm_objects(api_key, object_type, filter_group)\nprint(result)",
   "outputs": []
  }
 ],
 "metadata": {
  "kernelspec": {
   "display_name": "Python 3",
   "language": "python",
   "name": "python3"
  },
  "language_info": {
   "codemirror_mode": {
    "name": "ipython",
    "version": 3
   },
   "file_extension": ".py",
   "mimetype": "text/x-python",
   "name": "python",
   "nbconvert_exporter": "python",
   "pygments_lexer": "ipython3",
   "version": "3.9.6"
  },
  "widgets": {
   "application/vnd.jupyter.widget-state+json": {
    "state": {},
    "version_major": 2,
    "version_minor": 0
   }
  }
 },
 "nbformat": 4,
 "nbformat_minor": 5
}