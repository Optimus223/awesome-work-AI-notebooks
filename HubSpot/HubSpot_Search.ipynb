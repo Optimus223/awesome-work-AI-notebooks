{
 "cells": [
  {
   "cell_type": "markdown",
   "id": "d5d6f3cc-2668-4d3c-ad49-63a3fc63455a",
   "metadata": {
    "papermill": {},
    "tags": []
   },
   "source": [
    "<img width=\"8%\" alt=\"Naas.png\" src=\"https://raw.githubusercontent.com/jupyter-naas/awesome-notebooks/master/.github/assets/logos/Naas.png\" style=\"border-radius: 15%\">"
   ]
  },
  {
   "cell_type": "markdown",
   "id": "f8978178-7f09-417e-9f0a-3918a4d374b4",
   "metadata": {
    "papermill": {},
    "tags": []
   },
   "source": [
    "# HubSpot - Search"
   ]
  },
  {
   "cell_type": "markdown",
   "id": "bf232ea3-a970-48c8-b01b-1c7cc5d17cbf",
   "metadata": {
    "papermill": {},
    "tags": []
   },
   "source": [
    "**Tags:** #hubspot #crm #search #endpoints #python #requests"
   ]
  },
  {
   "cell_type": "markdown",
   "id": "00ccb408-774b-499e-99d2-bd5ac8e8a37e",
   "metadata": {
    "papermill": {},
    "tags": []
   },
   "source": [
    "**Author:** [Firstname Lastname](https://www.linkedin.com/in/xxxx)"
   ]
  },
  {
   "cell_type": "markdown",
   "id": "d7adff63-c4ce-4a7e-9a4c-c1367c2ca859",
   "metadata": {
    "papermill": {},
    "tags": []
   },
   "source": [
    "**Last update:** 2024-02-15 (Created: 2024-02-15)"
   ]
  },
  {
   "cell_type": "markdown",
   "id": "68350cf5-e010-4618-b61e-4f77a4fe03ba",
   "metadata": {
    "papermill": {},
    "tags": []
   },
   "source": [
    "**Description:** This notebook demonstrates how to use the CRM search endpoints with python requests to filter, sort, and search objects, records, and engagements across your CRM. For example, it shows how to get a list of contacts in your account, or a list of all open deals."
   ]
  },
  {
   "cell_type": "markdown",
   "id": "c99a7810-dccf-4d25-974f-f81586aa8902",
   "metadata": {
    "papermill": {},
    "tags": []
   },
   "source": [
    "**References:**\n",
    "- [HubSpot API Documentation](https://developers.hubspot.com/docs/api/crm/search)\n",
    "- [Python Requests Library](https://docs.python-requests.org/en/latest/)"
   ]
  },
  {
   "cell_type": "markdown",
   "id": "28d0654e-579f-4e9a-9fe5-7234af80dd9a",
   "metadata": {
    "papermill": {},
    "tags": []
   },
   "source": [
    "## Input"
   ]
  },
  {
   "cell_type": "markdown",
   "id": "c2f9168c-d148-4511-b75f-a57ee0588b2a",
   "metadata": {
    "papermill": {},
    "tags": []
   },
   "source": [
    "### Import libraries"
   ]
  },
  {
   "cell_type": "code",
   "execution_count": null,
   "id": "34197898-5462-40a5-8bbc-38c91e3cf0fd",
   "metadata": {
    "papermill": {},
    "tags": []
   },
   "outputs": [],
   "source": [
    "import json\n",
    "import naas\n",
    "import requests\n",
    "from pprint import pprint\n",
    "try:\n",
    "    from hubspot import HubSpot\n",
    "except:\n",
    "    !pip install hubspot simplejson delorean\n",
    "    from hubspot import HubSpot"
   ]
  },
  {
   "cell_type": "markdown",
   "id": "a8400c31-af21-4fc7-8cd2-b7bda6d6afe7",
   "metadata": {
    "papermill": {},
    "tags": []
   },
   "source": [
    "### Setup variables\n",
    "- `API_KEY`: Your HubSpot API Key. You can find instructions on how to get it [here](https://knowledge.hubspot.com/integrations/how-do-i-get-my-hubspot-api-key).\n",
    "- `ENDPOINT_URL`: The endpoint URL for the CRM search API. For this example, we will use the contacts search endpoint."
   ]
  },
  {
   "cell_type": "code",
   "execution_count": null,
   "id": "b8e252fb-6dd2-42e4-88a5-6ccf2c40072f",
   "metadata": {
    "papermill": {},
    "tags": []
   },
   "outputs": [],
   "source": [
    "API_KEY = naas.secret.get(\"HS_ACCESS_TOKEN\")\n",
    "ENDPOINT_URL_SEARCH = \"https://api.hubapi.com/crm/v3/objects/contacts/search\"\n",
    "ENDPOINT_URL_DEALS =  \"https://api.hubapi.com/crm/v3/objects/deals/search\"\n",
    "ENDPOINT_URL_COMPANY = \"https://api.hubapi.com/crm/v3/objects/companies/search\""
   ]
  },
  {
   "cell_type": "markdown",
   "id": "a696e461-6282-486f-a2c4-46b5249f47cc",
   "metadata": {
    "papermill": {},
    "tags": []
   },
   "source": [
    "## Model"
   ]
  },
  {
   "cell_type": "markdown",
   "id": "cfbae511-389c-4eb1-a89b-e1efa3f1af12",
   "metadata": {
    "papermill": {},
    "tags": []
   },
   "source": [
    "### Search Contacts"
   ]
  },
  {
   "cell_type": "markdown",
   "id": "1c7b935a-d37b-4b90-9101-4078573988ff",
   "metadata": {
    "papermill": {},
    "tags": []
   },
   "source": [
    "This function sends a POST request to the HubSpot CRM search endpoint. It uses the provided API key for authentication and sends a JSON payload that specifies the search parameters."
   ]
  },
  {
   "cell_type": "code",
   "execution_count": null,
   "id": "e8d4b220-4a53-4601-9e78-4b40f53c9060",
   "metadata": {
    "papermill": {},
    "tags": []
   },
   "outputs": [],
   "source": [
    "def search_contacts(api_key, endpoint_url, query):\n",
    "    \"\"\"\n",
    "    Search contacts based on the provided query.\n",
    "\n",
    "    Args:\n",
    "        api_key (str): The API key for authentication.\n",
    "        endpoint_url (str): The URL of the endpoint to send the request to.\n",
    "        query (str): The query string to search for.\n",
    "\n",
    "    Returns:\n",
    "        dict: A dictionary containing the response data in JSON format.\n",
    "    \"\"\"\n",
    "    # Prepare headers for the HTTP request\n",
    "    headers = {\"Content-Type\": \"application/json\", \"Authorization\": f\"Bearer {api_key}\"}\n",
    "    # Prepare the payload for the POST request\n",
    "    payload = {\n",
    "        \"filterGroups\":[\n",
    "      {\n",
    "        \"filters\":[\n",
    "          {\n",
    "            \"propertyName\": \"firstname\",\n",
    "            \"operator\": \"EQ\",\n",
    "            \"value\": query\n",
    "          }\n",
    "        ]\n",
    "      }\n",
    "    ],\n",
    "        \"sort\": [{\"propertyName\": \"createdate\", \"direction\": \"DESCENDING\"}],\n",
    "        \"properties\": [\"firstname\", \"lastname\", \"email\"],\n",
    "        'limit':5,\n",
    "    }\n",
    "    # Send the POST request to the endpoint URL\n",
    "    response = requests.post(endpoint_url, headers=headers, data=json.dumps(payload))\n",
    "    # Parse the JSON response and return it\n",
    "    return response.json()"
   ]
  },
  {
   "cell_type": "markdown",
   "id": "21a4adf3-a53a-4e2a-8a96-9acee9c6ef5a",
   "metadata": {},
   "source": [
    "### Search Deals function"
   ]
  },
  {
   "cell_type": "code",
   "execution_count": null,
   "id": "017c0fee-251d-4f3f-b3f6-138dc12ffc0e",
   "metadata": {
    "tags": []
   },
   "outputs": [],
   "source": [
    "def search_deals(api_key, endpoint_url):\n",
    "    \"\"\"\n",
    "    Search deals based on the provided query.\n",
    "\n",
    "    Args:\n",
    "        api_key (str): The API key for authentication.\n",
    "        endpoint_url (str): The URL of the endpoint to send the request to.\n",
    "        query (str): The query string to search for.\n",
    "\n",
    "    Returns:\n",
    "        dict: A dictionary containing the response data in JSON format.\n",
    "    \"\"\"\n",
    "    # Prepare headers for the HTTP request\n",
    "    headers = {\"Content-Type\": \"application/json\", \"Authorization\": f\"Bearer {api_key}\"}\n",
    "    # Prepare the payload for the POST request\n",
    "    payload = {\n",
    "         \"filterGroups\":[{\n",
    "            \"filters\":[\n",
    "                {\n",
    "            \"propertyName\":\"dealstage\",\n",
    "             \"operator\":\"IN\",\n",
    "              \"values\": [\"appointmentscheduled\", \"contractsent\", \"qualifiedtobuy\"]\n",
    "                }\n",
    "                ]\n",
    "            }\n",
    "        ]\n",
    "    }\n",
    "    # Send the POST request to the endpoint URL\n",
    "    response = requests.post(endpoint_url, headers=headers, data=json.dumps(payload))\n",
    "    # Parse the JSON response and return it\n",
    "    return response.json()"
   ]
  },
  {
   "cell_type": "markdown",
   "id": "afd55cc9-0278-4d24-9691-3b88c26d0b7b",
   "metadata": {},
   "source": [
    "### Search companies function"
   ]
  },
  {
   "cell_type": "code",
   "execution_count": null,
   "id": "b6873422-eb72-49ea-b723-be1e731f5b60",
   "metadata": {
    "tags": []
   },
   "outputs": [],
   "source": [
    "def search_companies(api_key, endpoint_url):\n",
    "    \"\"\"\n",
    "    Search deals based on the provided query.\n",
    "\n",
    "    Args:\n",
    "        api_key (str): The API key for authentication.\n",
    "        endpoint_url (str): The URL of the endpoint to send the request to.\n",
    "        query (str): The query string to search for.\n",
    "\n",
    "    Returns:\n",
    "        dict: A dictionary containing the response data in JSON format.\n",
    "    \"\"\"\n",
    "    # Prepare headers for the HTTP request\n",
    "    headers = {\"Content-Type\": \"application/json\", \"Authorization\": f\"Bearer {api_key}\"}\n",
    "    # Prepare the payload for the POST request\n",
    "    payload = {\n",
    "        'limit':5\n",
    "    }\n",
    "    \n",
    "    \n",
    "    # Send the POST request to the endpoint URL\n",
    "    response = requests.post(endpoint_url, headers=headers, data=json.dumps(payload))\n",
    "    # Parse the JSON response and return it\n",
    "    return response.json()"
   ]
  },
  {
   "cell_type": "markdown",
   "id": "46a12d9c-6742-4c92-9e24-d91b16fd2eb7",
   "metadata": {
    "papermill": {},
    "tags": []
   },
   "source": [
    "## Output"
   ]
  },
  {
   "cell_type": "markdown",
   "id": "7fe1f917-af33-4c29-b12f-6b5ba3dd3b8b",
   "metadata": {
    "papermill": {},
    "tags": []
   },
   "source": [
    "### Display result"
   ]
  },
  {
   "cell_type": "markdown",
   "id": "8f7b42b2-8ef6-4f14-81a4-7f99d6751301",
   "metadata": {},
   "source": [
    "#### search contacts"
   ]
  },
  {
   "cell_type": "code",
   "execution_count": null,
   "id": "f1ba4b45-75f7-4072-b887-62031393cc98",
   "metadata": {
    "papermill": {},
    "tags": []
   },
   "outputs": [],
   "source": [
    "result = search_contacts(API_KEY, ENDPOINT_URL_SEARCH, \"John\")\n",
    "print(json.dumps(result, indent=4))"
   ]
  },
  {
   "cell_type": "markdown",
   "id": "deb28419-f669-40a9-9781-fa2c276079a7",
   "metadata": {},
   "source": [
    "#### search deals"
   ]
  },
  {
   "cell_type": "code",
   "execution_count": null,
   "id": "ba2154f9-b3e1-4390-ace8-626d2d773cbf",
   "metadata": {
    "tags": []
   },
   "outputs": [],
   "source": [
    "result = search_deals(API_KEY, ENDPOINT_URL_DEALS)\n",
    "print(json.dumps(result, indent=4))"
   ]
  },
  {
   "cell_type": "markdown",
   "id": "f58f65a0-11ad-4dc1-afe5-002289c226e9",
   "metadata": {},
   "source": [
    "#### search companies"
   ]
  },
  {
   "cell_type": "code",
   "execution_count": null,
   "id": "7c460c13-d666-42c9-b621-bd6dc5d398d5",
   "metadata": {
    "tags": []
   },
   "outputs": [],
   "source": [
    "result = search_companies(API_KEY, ENDPOINT_URL_COMPANY)\n",
    "print(json.dumps(result, indent=4))"
   ]
  }
 ],
 "metadata": {
  "kernelspec": {
   "display_name": "Python 3",
   "language": "python",
   "name": "python3"
  },
  "language_info": {
   "codemirror_mode": {
    "name": "ipython",
    "version": 3
   },
   "file_extension": ".py",
   "mimetype": "text/x-python",
   "name": "python",
   "nbconvert_exporter": "python",
   "pygments_lexer": "ipython3",
   "version": "3.9.6"
  },
  "toc-showcode": false,
  "toc-showmarkdowntxt": false,
  "widgets": {
   "application/vnd.jupyter.widget-state+json": {
    "state": {},
    "version_major": 2,
    "version_minor": 0
   }
  }
 },
 "nbformat": 4,
 "nbformat_minor": 5
}
