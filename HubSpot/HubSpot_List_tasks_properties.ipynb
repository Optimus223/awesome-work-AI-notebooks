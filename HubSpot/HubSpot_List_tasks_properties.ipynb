{
 "cells": [
  {
   "cell_type": "markdown",
   "id": "27486f01-77c3-4774-a098-29c706202d62",
   "metadata": {
    "papermill": {},
    "tags": []
   },
   "source": [
    "<img width=\"8%\" alt=\"HubSpot.png\" src=\"https://raw.githubusercontent.com/jupyter-naas/awesome-notebooks/master/.github/assets/logos/HubSpot.png\" style=\"border-radius: 15%\">"
   ]
  },
  {
   "cell_type": "markdown",
   "id": "85c6497e-923f-41fa-b85b-81f47a5ab9c7",
   "metadata": {
    "papermill": {},
    "tags": []
   },
   "source": [
    "# HubSpot - List tasks properties\n",
    "<a href=\"https://app.naas.ai/user-redirect/naas/downloader?url=https://raw.githubusercontent.com/jupyter-naas/awesome-notebooks/master/HubSpot/HubSpot_List_notes_properties.ipynb\" target=\"_parent\"><img src=\"https://naasai-public.s3.eu-west-3.amazonaws.com/Open_in_Naas_Lab.svg\"/></a><br><br><a href=\"https://bit.ly/3JyWIk6\">Give Feedback</a> | <a href=\"https://github.com/jupyter-naas/awesome-notebooks/issues/new?assignees=&labels=bug&template=bug_report.md&title=HubSpot+-+List+notes+properties:+Error+short+description\">Bug report</a>"
   ]
  },
  {
   "cell_type": "markdown",
   "id": "661f554e-7065-4101-81c2-9e799a812b67",
   "metadata": {
    "papermill": {},
    "tags": []
   },
   "source": [
    "**Tags:** #hubspot #properties #notes #snippet"
   ]
  },
  {
   "cell_type": "markdown",
   "id": "a852a18f-e277-4aa5-bdec-8dd1fccb57d2",
   "metadata": {
    "papermill": {},
    "tags": []
   },
   "source": [
    "**Author:** [Florent Ravenel](https://www.linkedin.com/in/florent-ravenel)"
   ]
  },
  {
   "cell_type": "markdown",
   "id": "6dd7c05c-17ed-459f-88a8-3c6629b80cde",
   "metadata": {
    "papermill": {},
    "tags": []
   },
   "source": [
    "**Last update:** 2023-11-22 (Created: 2023-11-22)"
   ]
  },
  {
   "cell_type": "markdown",
   "id": "7dcfd269-589b-4199-b521-6884053ff935",
   "metadata": {
    "papermill": {},
    "tags": []
   },
   "source": [
    "**Description:** This notebook list the tasks properties in HubSpot."
   ]
  },
  {
   "cell_type": "markdown",
   "id": "0da5ca2d-a6a1-424c-b41f-391428555503",
   "metadata": {
    "papermill": {},
    "tags": []
   },
   "source": [
    "**References:**\n",
    "- [HubSpot API Documentation - Properties](https://developers.hubspot.com/docs/api/crm/properties)\n",
    "- [Get your HubSpot Access token](https://knowledge.hubspot.com/articles/kcs_article/integrations/how-do-i-get-my-hubspot-api-key)"
   ]
  },
  {
   "cell_type": "markdown",
   "id": "8c6e5050-800a-4f05-a1d2-5a682c54e069",
   "metadata": {
    "papermill": {},
    "tags": []
   },
   "source": [
    "## Input"
   ]
  },
  {
   "cell_type": "markdown",
   "id": "6c27222b-7468-4daa-9a77-c446aaf66f72",
   "metadata": {
    "papermill": {},
    "tags": []
   },
   "source": [
    "### Import libraries"
   ]
  },
  {
   "cell_type": "code",
   "execution_count": 1,
   "id": "a3fad6df-27f3-4e13-a934-083468860bf3",
   "metadata": {
    "execution": {
     "iopub.execute_input": "2023-11-22T09:38:17.247467Z",
     "iopub.status.busy": "2023-11-22T09:38:17.246984Z",
     "iopub.status.idle": "2023-11-22T09:38:34.262483Z",
     "shell.execute_reply": "2023-11-22T09:38:34.261584Z",
     "shell.execute_reply.started": "2023-11-22T09:38:17.247376Z"
    },
    "papermill": {},
    "tags": []
   },
   "outputs": [],
   "source": [
    "import requests\n",
    "import naas"
   ]
  },
  {
   "cell_type": "markdown",
   "id": "6c6ed6b8-90b8-4de6-9b34-9f306d01f574",
   "metadata": {
    "papermill": {},
    "tags": []
   },
   "source": [
    "### Setup variables\n",
    "- `hs_access_token`: This variable stores an access token used for accessing the HubSpot API."
   ]
  },
  {
   "cell_type": "code",
   "execution_count": 2,
   "id": "c89143dd-3769-4167-b397-09f2d4095fe9",
   "metadata": {
    "execution": {
     "iopub.execute_input": "2023-11-22T09:38:34.263799Z",
     "iopub.status.busy": "2023-11-22T09:38:34.263545Z",
     "iopub.status.idle": "2023-11-22T09:38:39.853960Z",
     "shell.execute_reply": "2023-11-22T09:38:39.853322Z",
     "shell.execute_reply.started": "2023-11-22T09:38:34.263765Z"
    },
    "papermill": {},
    "tags": []
   },
   "outputs": [],
   "source": [
    "hs_access_token = naas.secret.get(\"HS_ACCESS_TOKEN\") or \"YOUR_HS_ACCESS_TOKEN\""
   ]
  },
  {
   "cell_type": "markdown",
   "id": "1ff5c82c-f9bb-4591-bbe4-e683317da3df",
   "metadata": {
    "papermill": {},
    "tags": []
   },
   "source": [
    "## Model"
   ]
  },
  {
   "cell_type": "markdown",
   "id": "7b5fa0c9-ea58-4117-9445-a421a3189015",
   "metadata": {
    "papermill": {},
    "tags": []
   },
   "source": [
    "### List properties"
   ]
  },
  {
   "cell_type": "code",
   "execution_count": 3,
   "id": "6fdeeb5b-f1f8-49b6-8bae-388d5190053a",
   "metadata": {
    "execution": {
     "iopub.execute_input": "2023-11-22T09:38:39.856711Z",
     "iopub.status.busy": "2023-11-22T09:38:39.856531Z",
     "iopub.status.idle": "2023-11-22T09:38:40.117491Z",
     "shell.execute_reply": "2023-11-22T09:38:40.116834Z",
     "shell.execute_reply.started": "2023-11-22T09:38:39.856691Z"
    },
    "papermill": {},
    "tags": []
   },
   "outputs": [
    {
     "name": "stdout",
     "output_type": "stream",
     "text": [
      "Property Name: hs_all_assigned_business_unit_ids\n",
      "Property Label: Business units\n",
      "\n",
      "Property Name: hs_at_mentioned_owner_ids\n",
      "Property Label: At-Mentioned Owner Ids\n",
      "\n",
      "Property Name: hs_attachment_ids\n",
      "Property Label: Attached file IDs\n",
      "\n",
      "Property Name: hs_body_preview\n",
      "Property Label: Notes (preview)\n",
      "\n",
      "Property Name: hs_body_preview_html\n",
      "Property Label: HTML Body Preview\n",
      "\n",
      "Property Name: hs_body_preview_is_truncated\n",
      "Property Label: Body Preview Truncated\n",
      "\n",
      "Property Name: hs_calendar_event_id\n",
      "Property Label: Calendar Event ID\n",
      "\n",
      "Property Name: hs_created_by\n",
      "Property Label: Created by\n",
      "\n",
      "Property Name: hs_created_by_user_id\n",
      "Property Label: Created by user ID\n",
      "\n",
      "Property Name: hs_createdate\n",
      "Property Label: Created at\n",
      "\n",
      "Property Name: hs_engagement_source\n",
      "Property Label: Source\n",
      "\n",
      "Property Name: hs_engagement_source_id\n",
      "Property Label: Source ID\n",
      "\n",
      "Property Name: hs_follow_up_action\n",
      "Property Label: Follow up action\n",
      "\n",
      "Property Name: hs_gdpr_deleted\n",
      "Property Label: GDPR deleted\n",
      "\n",
      "Property Name: hs_lastmodifieddate\n",
      "Property Label: Last modified at\n",
      "\n",
      "Property Name: hs_marketing_task_category\n",
      "Property Label: Category\n",
      "\n",
      "Property Name: hs_marketing_task_category_id\n",
      "Property Label: Category ID\n",
      "\n",
      "Property Name: hs_merged_object_ids\n",
      "Property Label: Merged record IDs\n",
      "\n",
      "Property Name: hs_modified_by\n",
      "Property Label: Last modified by\n",
      "\n",
      "Property Name: hs_msteams_message_id\n",
      "Property Label: MS Teams message ID\n",
      "\n",
      "Property Name: hs_num_associated_companies\n",
      "Property Label: Associated Companies\n",
      "\n",
      "Property Name: hs_num_associated_contacts\n",
      "Property Label: Associated Contacts\n",
      "\n",
      "Property Name: hs_num_associated_deals\n",
      "Property Label: Associated Deals\n",
      "\n",
      "Property Name: hs_num_associated_queue_objects\n",
      "Property Label: Associated Queue Objects\n",
      "\n",
      "Property Name: hs_num_associated_tickets\n",
      "Property Label: Associated Tickets\n",
      "\n",
      "Property Name: hs_object_id\n",
      "Property Label: Record ID\n",
      "\n",
      "Property Name: hs_object_source\n",
      "Property Label: Record Creation Source\n",
      "\n",
      "Property Name: hs_object_source_id\n",
      "Property Label: Record Creation Source ID\n",
      "\n",
      "Property Name: hs_object_source_label\n",
      "Property Label: Record Source\n",
      "\n",
      "Property Name: hs_object_source_user_id\n",
      "Property Label: Record Creation Source User ID\n",
      "\n",
      "Property Name: hs_product_name\n",
      "Property Label: Product name\n",
      "\n",
      "Property Name: hs_queue_membership_ids\n",
      "Property Label: Queue\n",
      "\n",
      "Property Name: hs_read_only\n",
      "Property Label: Read Only Object\n",
      "\n",
      "Property Name: hs_repeat_status\n",
      "Property Label: Task repeat status\n",
      "\n",
      "Property Name: hs_scheduled_tasks\n",
      "Property Label: Scheduled tasks\n",
      "\n",
      "Property Name: hs_task_body\n",
      "Property Label: Notes\n",
      "\n",
      "Property Name: hs_task_campaign_guid\n",
      "Property Label: Campaign GUID\n",
      "\n",
      "Property Name: hs_task_completion_count\n",
      "Property Label: Task Completion Count\n",
      "\n",
      "Property Name: hs_task_completion_date\n",
      "Property Label: Completed at\n",
      "\n",
      "Property Name: hs_task_contact_timezone\n",
      "Property Label: Contact Time Zone\n",
      "\n",
      "Property Name: hs_task_family\n",
      "Property Label: Task Family\n",
      "\n",
      "Property Name: hs_task_for_object_type\n",
      "Property Label: For Object Type\n",
      "\n",
      "Property Name: hs_task_is_all_day\n",
      "Property Label: Task is all day\n",
      "\n",
      "Property Name: hs_task_is_completed\n",
      "Property Label: Tasks completed\n",
      "\n",
      "Property Name: hs_task_is_completed_call\n",
      "Property Label: Call tasks completed\n",
      "\n",
      "Property Name: hs_task_is_completed_email\n",
      "Property Label: Email tasks completed\n",
      "\n",
      "Property Name: hs_task_is_completed_linked_in\n",
      "Property Label: LinkedIn tasks completed\n",
      "\n",
      "Property Name: hs_task_is_completed_sequence\n",
      "Property Label: Sequence tasks completed\n",
      "\n",
      "Property Name: hs_task_is_overdue\n",
      "Property Label: Is Overdue\n",
      "\n",
      "Property Name: hs_task_is_past_due_date\n",
      "Property Label: Is Past Due Date\n",
      "\n",
      "Property Name: hs_task_last_contact_outreach\n",
      "Property Label: Last contacted\n",
      "\n",
      "Property Name: hs_task_last_sales_activity_timestamp\n",
      "Property Label: Last engagement\n",
      "\n",
      "Property Name: hs_task_missed_due_date\n",
      "Property Label: Task Missed Due Date\n",
      "\n",
      "Property Name: hs_task_missed_due_date_count\n",
      "Property Label: Overdue Tasks\n",
      "\n",
      "Property Name: hs_task_priority\n",
      "Property Label: Priority\n",
      "\n",
      "Property Name: hs_task_probability_to_complete\n",
      "Property Label: Task probability to complete\n",
      "\n",
      "Property Name: hs_task_relative_reminders\n",
      "Property Label: Relative Task Reminders\n",
      "\n",
      "Property Name: hs_task_reminders\n",
      "Property Label: Reminder\n",
      "\n",
      "Property Name: hs_task_repeat_interval\n",
      "Property Label: Interval\n",
      "\n",
      "Property Name: hs_task_send_default_reminder\n",
      "Property Label: Send Default Reminder\n",
      "\n",
      "Property Name: hs_task_sequence_enrollment_active\n",
      "Property Label: Sequence Enrollment Is Active\n",
      "\n",
      "Property Name: hs_task_sequence_step_enrollment_id\n",
      "Property Label: Sequence step enrollment Id\n",
      "\n",
      "Property Name: hs_task_sequence_step_order\n",
      "Property Label: Sequence step number\n",
      "\n",
      "Property Name: hs_task_status\n",
      "Property Label: Task Status\n",
      "\n",
      "Property Name: hs_task_subject\n",
      "Property Label: Task Title\n",
      "\n",
      "Property Name: hs_task_template_id\n",
      "Property Label: Task template id\n",
      "\n",
      "Property Name: hs_task_type\n",
      "Property Label: Task Type\n",
      "\n",
      "Property Name: hs_timestamp\n",
      "Property Label: Due date\n",
      "\n",
      "Property Name: hs_unique_creation_key\n",
      "Property Label: Unique creation key\n",
      "\n",
      "Property Name: hs_unique_id\n",
      "Property Label: Unique ID\n",
      "\n",
      "Property Name: hs_updated_by_user_id\n",
      "Property Label: Updated by user ID\n",
      "\n",
      "Property Name: hs_user_ids_of_all_notification_followers\n",
      "Property Label: User IDs of all notification followers\n",
      "\n",
      "Property Name: hs_user_ids_of_all_notification_unfollowers\n",
      "Property Label: User IDs of all notification unfollowers\n",
      "\n",
      "Property Name: hs_user_ids_of_all_owners\n",
      "Property Label: User IDs of all owners\n",
      "\n",
      "Property Name: hs_was_imported\n",
      "Property Label: Performed in an import\n",
      "\n",
      "Property Name: hubspot_owner_assigneddate\n",
      "Property Label: Owner Assigned Date\n",
      "\n",
      "Property Name: hubspot_owner_id\n",
      "Property Label: Assigned to\n",
      "\n",
      "Property Name: hubspot_team_id\n",
      "Property Label: HubSpot Team\n",
      "\n",
      "Property Name: hs_all_owner_ids\n",
      "Property Label: All owner ids\n",
      "\n",
      "Property Name: hs_all_team_ids\n",
      "Property Label: All team ids\n",
      "\n",
      "Property Name: hs_all_accessible_team_ids\n",
      "Property Label: All teams\n",
      "\n"
     ]
    }
   ],
   "source": [
    "def list_properties(\n",
    "    api_token,\n",
    "    object_type\n",
    "):\n",
    "    # Init\n",
    "    properties = []\n",
    "    \n",
    "    # Make a GET request to the HubSpot API to retrieve the list of object properties\n",
    "    headers = {\n",
    "        \"Content-Type\": \"application/json\",\n",
    "        \"Authorization\": f\"Bearer {api_token}\"\n",
    "    }\n",
    "    url = f'https://api.hubapi.com/crm/v3/properties/{object_type}'\n",
    "    response = requests.get(url, headers=headers)\n",
    "\n",
    "    # Check if the request was successful\n",
    "    if response.status_code == 200:\n",
    "        properties_data = response.json()\n",
    "        properties = properties_data['results']\n",
    "        for prop in properties:\n",
    "            prop_name = prop['name']\n",
    "            prop_label = prop['label']\n",
    "            print(f\"Property Name: {prop_name}\")\n",
    "            print(f\"Property Label: {prop_label}\")\n",
    "            print()\n",
    "    else:\n",
    "        print(f\"Failed to retrieve meetings properties. Status code: {response.status_code}\")\n",
    "        print(response.json())\n",
    "    return properties\n",
    "\n",
    "properties = list_properties(hs_access_token, \"tasks\")"
   ]
  },
  {
   "cell_type": "markdown",
   "id": "6e9729cd-8e75-4c13-a06c-87afb9923e53",
   "metadata": {
    "papermill": {},
    "tags": []
   },
   "source": [
    "## Output"
   ]
  },
  {
   "cell_type": "markdown",
   "id": "63a8e638-dafd-45ea-9f7e-a0aec60a8a7d",
   "metadata": {
    "papermill": {},
    "tags": []
   },
   "source": [
    "### Display result"
   ]
  },
  {
   "cell_type": "code",
   "execution_count": 4,
   "id": "128d8d7f-f053-40d1-bf45-c8bcfb0ca5f9",
   "metadata": {
    "execution": {
     "iopub.execute_input": "2023-11-22T09:38:40.120464Z",
     "iopub.status.busy": "2023-11-22T09:38:40.120279Z",
     "iopub.status.idle": "2023-11-22T09:38:40.132377Z",
     "shell.execute_reply": "2023-11-22T09:38:40.131849Z",
     "shell.execute_reply.started": "2023-11-22T09:38:40.120442Z"
    },
    "papermill": {},
    "tags": []
   },
   "outputs": [
    {
     "name": "stdout",
     "output_type": "stream",
     "text": [
      "Properties fetched: 81\n"
     ]
    },
    {
     "data": {
      "text/plain": [
       "{'name': 'hs_all_assigned_business_unit_ids',\n",
       " 'label': 'Business units',\n",
       " 'type': 'enumeration',\n",
       " 'fieldType': 'checkbox',\n",
       " 'description': 'The business units this record is assigned to.',\n",
       " 'groupName': 'taskinformation',\n",
       " 'options': [],\n",
       " 'displayOrder': -1,\n",
       " 'calculated': False,\n",
       " 'externalOptions': True,\n",
       " 'hasUniqueValue': False,\n",
       " 'hidden': True,\n",
       " 'hubspotDefined': True,\n",
       " 'modificationMetadata': {'archivable': True,\n",
       "  'readOnlyDefinition': True,\n",
       "  'readOnlyValue': False},\n",
       " 'formField': False}"
      ]
     },
     "execution_count": 4,
     "metadata": {},
     "output_type": "execute_result"
    }
   ],
   "source": [
    "print(\"Properties fetched:\", len(properties))\n",
    "properties[0]"
   ]
  },
  {
   "cell_type": "markdown",
   "id": "d12c841e-5924-4e79-b565-88295343ba0c",
   "metadata": {
    "papermill": {},
    "tags": []
   },
   "source": [
    " "
   ]
  }
 ],
 "metadata": {
  "kernelspec": {
   "display_name": "Python 3",
   "language": "python",
   "name": "python3"
  },
  "language_info": {
   "codemirror_mode": {
    "name": "ipython",
    "version": 3
   },
   "file_extension": ".py",
   "mimetype": "text/x-python",
   "name": "python",
   "nbconvert_exporter": "python",
   "pygments_lexer": "ipython3",
   "version": "3.9.6"
  },
  "naas": {
   "notebook_id": "97f11b70c0c60e6b95fc17a5fadd5030c37c2f97a3e2568cd31238ea6fb5ad34",
   "notebook_path": "HubSpot/HubSpot_List_notes_properties.ipynb"
  },
  "papermill": {
   "default_parameters": {},
   "environment_variables": {},
   "parameters": {},
   "version": "2.4.0"
  },
  "widgets": {
   "application/vnd.jupyter.widget-state+json": {
    "state": {},
    "version_major": 2,
    "version_minor": 0
   }
  }
 },
 "nbformat": 4,
 "nbformat_minor": 5
}
