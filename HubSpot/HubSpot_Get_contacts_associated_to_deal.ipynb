{
 "cells": [
  {
   "cell_type": "markdown",
   "id": "chinese-binding",
   "metadata": {
    "papermill": {},
    "tags": []
   },
   "source": [
    "<img width=\"10%\" alt=\"Naas\" src=\"https://landen.imgix.net/jtci2pxwjczr/assets/5ice39g4.png?w=160\"/>"
   ]
  },
  {
   "cell_type": "markdown",
   "id": "little-individual",
   "metadata": {
    "papermill": {},
    "tags": []
   },
   "source": [
    "# HubSpot - Get contacts associated to deal\n",
    "<a href=\"https://app.naas.ai/user-redirect/naas/downloader?url=https://raw.githubusercontent.com/jupyter-naas/awesome-notebooks/master/HubSpot/HubSpot_Get_contacts_associated_to_deal.ipynb\" target=\"_parent\"><img src=\"https://naasai-public.s3.eu-west-3.amazonaws.com/open_in_naas.svg\"/></a><br><br><a href=\"https://github.com/jupyter-naas/awesome-notebooks/issues/new?assignees=&labels=&template=template-request.md&title=Tool+-+Action+of+the+notebook+\">Template request</a> | <a href=\"https://github.com/jupyter-naas/awesome-notebooks/issues/new?assignees=&labels=bug&template=bug_report.md&title=HubSpot+-+Get+contacts+associated+to+deal:+Error+short+description\">Bug report</a>"
   ]
  },
  {
   "cell_type": "markdown",
   "id": "tutorial-genealogy",
   "metadata": {
    "papermill": {},
    "tags": []
   },
   "source": [
    "**Tags:** #hubspot #crm #sales #deal #contact #naas_drivers #snippet #dataframe"
   ]
  },
  {
   "cell_type": "markdown",
   "id": "c2f0d016-742f-4b5c-a46a-45b3d6f4b7fc",
   "metadata": {
    "papermill": {},
    "tags": []
   },
   "source": [
    "**Author:** [Florent Ravenel](https://www.linkedin.com/in/florent-ravenel/)"
   ]
  },
  {
   "cell_type": "markdown",
   "id": "sensitive-winning",
   "metadata": {
    "papermill": {},
    "tags": []
   },
   "source": [
    "## Input"
   ]
  },
  {
   "cell_type": "markdown",
   "id": "fitting-classroom",
   "metadata": {
    "papermill": {},
    "tags": []
   },
   "source": [
    "### Import library"
   ]
  },
  {
   "cell_type": "code",
   "execution_count": null,
   "id": "abandoned-christian",
   "metadata": {
    "papermill": {},
    "tags": []
   },
   "outputs": [],
   "source": [
    "from naas_drivers import hubspot"
   ]
  },
  {
   "cell_type": "markdown",
   "id": "educated-titanium",
   "metadata": {
    "papermill": {},
    "tags": []
   },
   "source": [
    "### Setup your HubSpot\n",
    "👉 Access your [HubSpot API key](https://knowledge.hubspot.com/integrations/how-do-i-get-my-hubspot-api-key)"
   ]
  },
  {
   "cell_type": "code",
   "execution_count": null,
   "id": "behind-yeast",
   "metadata": {
    "papermill": {},
    "tags": []
   },
   "outputs": [],
   "source": [
    "HS_API_KEY = 'YOUR_HUBSPOT_API_KEY'"
   ]
  },
  {
   "cell_type": "markdown",
   "id": "expired-seattle",
   "metadata": {
    "papermill": {},
    "tags": []
   },
   "source": [
    "### Enter deal ID"
   ]
  },
  {
   "cell_type": "code",
   "execution_count": null,
   "id": "backed-limit",
   "metadata": {
    "papermill": {},
    "tags": []
   },
   "outputs": [],
   "source": [
    "deal_id = '3452242690'"
   ]
  },
  {
   "cell_type": "markdown",
   "id": "diverse-calvin",
   "metadata": {
    "papermill": {},
    "tags": []
   },
   "source": [
    "## Model"
   ]
  },
  {
   "cell_type": "markdown",
   "id": "processed-hollywood",
   "metadata": {
    "papermill": {},
    "tags": []
   },
   "source": [
    "### Get association"
   ]
  },
  {
   "cell_type": "code",
   "execution_count": null,
   "id": "august-bearing",
   "metadata": {
    "papermill": {},
    "tags": []
   },
   "outputs": [],
   "source": [
    "result = hubspot.connect(HS_API_KEY).associations.get('deal', \n",
    "                                                      deal_id,\n",
    "                                                      'contact')"
   ]
  },
  {
   "cell_type": "markdown",
   "id": "spoken-trigger",
   "metadata": {
    "papermill": {},
    "tags": []
   },
   "source": [
    "## Output"
   ]
  },
  {
   "cell_type": "markdown",
   "id": "d3d0b889-5a88-4247-8b42-22d3c9d77250",
   "metadata": {
    "papermill": {},
    "tags": []
   },
   "source": [
    "### Display result"
   ]
  },
  {
   "cell_type": "code",
   "execution_count": null,
   "id": "0cbff6f8-bb28-4b17-9209-9252f3b6600d",
   "metadata": {
    "papermill": {},
    "tags": []
   },
   "outputs": [],
   "source": [
    "result"
   ]
  }
 ],
 "metadata": {
  "kernelspec": {
   "display_name": "Python 3",
   "language": "python",
   "name": "python3"
  },
  "language_info": {
   "codemirror_mode": {
    "name": "ipython",
    "version": 3
   },
   "file_extension": ".py",
   "mimetype": "text/x-python",
   "name": "python",
   "nbconvert_exporter": "python",
   "pygments_lexer": "ipython3",
   "version": "3.8.8"
  },
  "naas": {
   "notebook_id": "d40db64f-40f2-4aa9-b312-4ec54bc2372c",
   "notebook_path": "HubSpot/HubSpot_Get_contacts_associated_to_deal.ipynb"
  },
  "papermill": {
   "default_parameters": {},
   "environment_variables": {},
   "parameters": {},
   "version": "2.3.3"
  }
 },
 "nbformat": 4,
 "nbformat_minor": 5
}