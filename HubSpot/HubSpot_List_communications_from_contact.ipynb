{
 "cells": [
  {
   "cell_type": "markdown",
   "id": "41701675-6c02-45d5-adc9-f4d25e675d93",
   "metadata": {
    "papermill": {},
    "tags": []
   },
   "source": [
    "<img width=\"10%\" alt=\"Naas\" src=\"https://landen.imgix.net/jtci2pxwjczr/assets/5ice39g4.png?w=160\"/>"
   ]
  },
  {
   "cell_type": "markdown",
   "id": "cd48954d-be6f-4871-8c98-5c583536bc8e",
   "metadata": {
    "papermill": {},
    "tags": []
   },
   "source": [
    "# HubSpot - List communications from contact"
   ]
  },
  {
   "cell_type": "markdown",
   "id": "560cebbf-0383-48b4-9028-fb51527dbfd3",
   "metadata": {
    "papermill": {},
    "tags": []
   },
   "source": [
    "**Tags:** #hubspot #crm #communications #api #list #contact"
   ]
  },
  {
   "cell_type": "markdown",
   "id": "c37bd3a4-e8ee-4f73-983a-76a70c4d2b0b",
   "metadata": {
    "papermill": {},
    "tags": []
   },
   "source": [
    "**Author:** [Florent Ravenel](https://www.linkedin.com/in/florent-ravenel)"
   ]
  },
  {
   "cell_type": "markdown",
   "id": "4f8d1619-eec0-496d-b143-e05362d16095",
   "metadata": {
    "papermill": {},
    "tags": []
   },
   "source": [
    "**Last update:** 2023-07-19 (Created: 2023-07-19)"
   ]
  },
  {
   "cell_type": "markdown",
   "id": "17dd1212-48d4-4add-b721-9dc79df07be7",
   "metadata": {
    "papermill": {},
    "tags": []
   },
   "source": [
    "**Description:** This notebook reads a page of Communications from HubSpot's CRM API. It is usefull for organizations to quickly access and analyze communications from contacts."
   ]
  },
  {
   "cell_type": "markdown",
   "id": "42d15859-c77b-44b6-a381-4bd29ae6d431",
   "metadata": {
    "papermill": {},
    "tags": []
   },
   "source": [
    "**References:**\n- [HubSpot CRM API](https://developers.hubspot.com/docs/api/crm/communications)\n- [HubSpot API Authentication](https://developers.hubspot.com/docs/faq/how-do-i-authenticate-with-the-hubspot-apis)"
   ]
  },
  {
   "cell_type": "markdown",
   "id": "0a7fcd20-b42d-419f-ad8b-3fe000b75dd3",
   "metadata": {
    "papermill": {},
    "tags": []
   },
   "source": [
    "## Input"
   ]
  },
  {
   "cell_type": "markdown",
   "id": "f67b8d68-5af9-4317-a5c3-e2362852c115",
   "metadata": {
    "papermill": {},
    "tags": []
   },
   "source": [
    "### Import libraries"
   ]
  },
  {
   "cell_type": "code",
   "execution_count": null,
   "id": "c78fcd5f-5320-4285-abd2-c111229a10c3",
   "metadata": {
    "papermill": {},
    "tags": []
   },
   "source": "import requests\nimport json",
   "outputs": []
  },
  {
   "cell_type": "markdown",
   "id": "3fa1db25-a349-45f2-8a3b-f02f2613ec56",
   "metadata": {
    "papermill": {},
    "tags": []
   },
   "source": [
    "### Setup Variables\n- **api_key**: API key to authenticate with HubSpot's CRM API. [Get your API key](https://developers.hubspot.com/docs/faq/how-do-i-authenticate-with-the-hubspot-apis).\n- **contact_id**: ID of the contact to get communications from."
   ]
  },
  {
   "cell_type": "code",
   "execution_count": null,
   "id": "cfc59bad-a1ee-46e0-8135-a8400f796c03",
   "metadata": {
    "papermill": {},
    "tags": []
   },
   "source": "api_key = \"<YOUR_API_KEY>\"\ncontact_id = \"<YOUR_CONTACT_ID>\"",
   "outputs": []
  },
  {
   "cell_type": "markdown",
   "id": "a5af4540-050a-442a-b6a1-8d7c0837ecc1",
   "metadata": {
    "papermill": {},
    "tags": []
   },
   "source": [
    "## Model"
   ]
  },
  {
   "cell_type": "markdown",
   "id": "322a2eb6-5274-445e-9afc-9aea23c87303",
   "metadata": {
    "papermill": {},
    "tags": []
   },
   "source": [
    "### List communications from contact"
   ]
  },
  {
   "cell_type": "markdown",
   "id": "1461f1cf-a7c2-4e34-8f0d-7acf45612323",
   "metadata": {
    "papermill": {},
    "tags": []
   },
   "source": [
    "This function uses HubSpot's CRM API to list communications from a contact."
   ]
  },
  {
   "cell_type": "code",
   "execution_count": null,
   "id": "0d73d29e-b0f8-496c-b81b-0606db6c3e7d",
   "metadata": {
    "papermill": {},
    "tags": []
   },
   "source": "def list_communications_from_contact(api_key, contact_id):\n    # Set up the request\n    url = f\"https://api.hubapi.com/crm/v3/objects/contacts/{contact_id}/communications\"\n    headers = {\"Authorization\": f\"Bearer {api_key}\"}\n    params = {\"limit\": \"100\"}\n\n    # Make the request\n    response = requests.get(url, headers=headers, params=params)\n\n    # Return the response\n    return response",
   "outputs": []
  },
  {
   "cell_type": "markdown",
   "id": "81fb8701-4143-49d1-87b3-5db07242ce58",
   "metadata": {
    "papermill": {},
    "tags": []
   },
   "source": [
    "## Output"
   ]
  },
  {
   "cell_type": "markdown",
   "id": "56ff3568-f3fc-4157-8e46-e5eaeb23e9b9",
   "metadata": {
    "papermill": {},
    "tags": []
   },
   "source": [
    "### Display result"
   ]
  },
  {
   "cell_type": "code",
   "execution_count": null,
   "id": "6e35ea6b-32fd-4e11-a6b3-8614e7ae749a",
   "metadata": {
    "papermill": {},
    "tags": []
   },
   "source": "response = list_communications_from_contact(api_key, contact_id)\n# Print the response\nprint(response.text)",
   "outputs": []
  },
  {
   "cell_type": "markdown",
   "id": "60d2a2c5-0b58-4069-947c-39427572135c",
   "metadata": {
    "papermill": {},
    "tags": []
   },
   "source": [
    " "
   ]
  }
 ],
 "metadata": {
  "kernelspec": {
   "display_name": "Python 3",
   "language": "python",
   "name": "python3"
  },
  "language_info": {
   "codemirror_mode": {
    "name": "ipython",
    "version": 3
   },
   "file_extension": ".py",
   "mimetype": "text/x-python",
   "name": "python",
   "nbconvert_exporter": "python",
   "pygments_lexer": "ipython3",
   "version": "3.9.6"
  },
  "widgets": {
   "application/vnd.jupyter.widget-state+json": {
    "state": {},
    "version_major": 2,
    "version_minor": 0
   }
  }
 },
 "nbformat": 4,
 "nbformat_minor": 5
}