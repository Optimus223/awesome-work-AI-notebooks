{
 "cells": [
  {
   "cell_type": "markdown",
   "id": "reliable-disney",
   "metadata": {
    "papermill": {},
    "tags": []
   },
   "source": [
    "<img width=\"10%\" alt=\"Naas\" src=\"https://landen.imgix.net/jtci2pxwjczr/assets/5ice39g4.png?w=160\"/>"
   ]
  },
  {
   "cell_type": "markdown",
   "id": "optical-marsh",
   "metadata": {
    "papermill": {},
    "tags": []
   },
   "source": [
    "# HubSpot - Send contacts to gsheet\n",
    "<a href=\"https://app.naas.ai/user-redirect/naas/downloader?url=https://raw.githubusercontent.com/jupyter-naas/awesome-notebooks/master/HubSpot/HubSpot_Send_contacts_to_gsheet.ipynb\" target=\"_parent\"><img src=\"https://naasai-public.s3.eu-west-3.amazonaws.com/open_in_naas.svg\"/></a><br><br><a href=\"https://github.com/jupyter-naas/awesome-notebooks/issues/new?assignees=&labels=&template=template-request.md&title=Tool+-+Action+of+the+notebook+\">Template request</a> | <a href=\"https://github.com/jupyter-naas/awesome-notebooks/issues/new?assignees=&labels=bug&template=bug_report.md&title=HubSpot+-+Send+contacts+to+gsheet:+Error+short+description\">Bug report</a>"
   ]
  },
  {
   "cell_type": "markdown",
   "id": "frank-portfolio",
   "metadata": {
    "papermill": {},
    "tags": []
   },
   "source": [
    "**Tags:** #hubspot #crm #sales #contact #naas_drivers #gsheet #snippet #googlesheets"
   ]
  },
  {
   "cell_type": "markdown",
   "id": "11627339-3274-4045-92fb-0a24777f1012",
   "metadata": {
    "papermill": {},
    "tags": []
   },
   "source": [
    "**Author:** [Florent Ravenel](https://www.linkedin.com/in/florent-ravenel/)"
   ]
  },
  {
   "cell_type": "markdown",
   "id": "loaded-tuner",
   "metadata": {
    "papermill": {},
    "tags": []
   },
   "source": [
    "## Input"
   ]
  },
  {
   "cell_type": "markdown",
   "id": "informational-colorado",
   "metadata": {
    "papermill": {},
    "tags": []
   },
   "source": [
    "### Import libraries"
   ]
  },
  {
   "cell_type": "code",
   "execution_count": null,
   "id": "contained-wedding",
   "metadata": {
    "papermill": {},
    "tags": []
   },
   "outputs": [],
   "source": [
    "from naas_drivers import hubspot, gsheet"
   ]
  },
  {
   "cell_type": "markdown",
   "id": "sufficient-ebony",
   "metadata": {
    "papermill": {},
    "tags": []
   },
   "source": [
    "### Setup your HubSpot\n",
    "👉 Access your [HubSpot API key](https://knowledge.hubspot.com/integrations/how-do-i-get-my-hubspot-api-key)"
   ]
  },
  {
   "cell_type": "code",
   "execution_count": null,
   "id": "preliminary-improvement",
   "metadata": {
    "papermill": {},
    "tags": []
   },
   "outputs": [],
   "source": [
    "HS_API_KEY = 'YOUR_HUBSPOT_API_KEY'"
   ]
  },
  {
   "cell_type": "markdown",
   "id": "8dde31c6-390b-427c-b4d3-534fa2b71bc9",
   "metadata": {
    "papermill": {},
    "tags": []
   },
   "source": [
    "### Enter contact properties you want to be returned"
   ]
  },
  {
   "cell_type": "code",
   "execution_count": null,
   "id": "2f8b0e16-e4cf-4ff9-9b01-a03e42014fbc",
   "metadata": {
    "papermill": {},
    "tags": []
   },
   "outputs": [],
   "source": [
    "properties_list = []"
   ]
  },
  {
   "cell_type": "markdown",
   "id": "ca3e7a48-d724-462b-8fdb-cf768bd1ce45",
   "metadata": {
    "papermill": {},
    "tags": []
   },
   "source": [
    "### Setup your Google Sheet"
   ]
  },
  {
   "cell_type": "markdown",
   "id": "dcf05204-c527-4b6c-956f-2899e217f43d",
   "metadata": {
    "papermill": {},
    "tags": []
   },
   "source": [
    "Pre-requisite: share your Google Sheet with our service account <br>\n",
    "For the driver to fetch the contents of your google sheet, you need to share it with the service account linked with Naas.<br>\n",
    "🔗 naas-share@naas-gsheets.iam.gserviceaccount.com"
   ]
  },
  {
   "cell_type": "code",
   "execution_count": null,
   "id": "86fdfdf9-0376-47b9-a60f-eb55015b432e",
   "metadata": {
    "papermill": {},
    "tags": []
   },
   "outputs": [],
   "source": [
    "spreadsheet_id = \"\"\n",
    "sheet_name = \"\""
   ]
  },
  {
   "cell_type": "markdown",
   "id": "unlimited-schedule",
   "metadata": {
    "papermill": {},
    "tags": []
   },
   "source": [
    "## Model"
   ]
  },
  {
   "cell_type": "markdown",
   "id": "treated-luxembourg",
   "metadata": {
    "papermill": {},
    "tags": []
   },
   "source": [
    "### Get all contacts"
   ]
  },
  {
   "cell_type": "code",
   "execution_count": null,
   "id": "white-praise",
   "metadata": {
    "papermill": {},
    "tags": []
   },
   "outputs": [],
   "source": [
    "df_contacts = hubspot.connect(HS_API_KEY).contacts.get_all(properties_list)"
   ]
  },
  {
   "cell_type": "markdown",
   "id": "typical-nomination",
   "metadata": {
    "papermill": {},
    "tags": []
   },
   "source": [
    "## Output"
   ]
  },
  {
   "cell_type": "markdown",
   "id": "steady-treaty",
   "metadata": {
    "papermill": {},
    "tags": []
   },
   "source": [
    "### Send contacts to gsheet"
   ]
  },
  {
   "cell_type": "code",
   "execution_count": null,
   "id": "chicken-tennis",
   "metadata": {
    "papermill": {},
    "tags": []
   },
   "outputs": [],
   "source": [
    "gsheet.connect(spreadsheet_id).send(\n",
    "    sheet_name=sheet_name,\n",
    "    data=df_contacts,\n",
    "    append=False\n",
    ")"
   ]
  }
 ],
 "metadata": {
  "kernelspec": {
   "display_name": "Python 3",
   "language": "python",
   "name": "python3"
  },
  "language_info": {
   "codemirror_mode": {
    "name": "ipython",
    "version": 3
   },
   "file_extension": ".py",
   "mimetype": "text/x-python",
   "name": "python",
   "nbconvert_exporter": "python",
   "pygments_lexer": "ipython3",
   "version": "3.8.8"
  },
  "naas": {
   "notebook_id": "cdd4d8d3-a9f3-4a58-8d1e-bad25f8219af",
   "notebook_path": "HubSpot/HubSpot_Send_contacts_to_gsheet.ipynb"
  },
  "papermill": {
   "default_parameters": {},
   "environment_variables": {},
   "parameters": {},
   "version": "2.3.3"
  }
 },
 "nbformat": 4,
 "nbformat_minor": 5
}