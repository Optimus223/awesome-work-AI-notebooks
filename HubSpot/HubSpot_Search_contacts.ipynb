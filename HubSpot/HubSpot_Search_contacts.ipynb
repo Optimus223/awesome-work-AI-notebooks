{
 "cells": [
  {
   "cell_type": "markdown",
   "id": "d5d6f3cc-2668-4d3c-ad49-63a3fc63455a",
   "metadata": {
    "papermill": {},
    "tags": []
   },
   "source": [
    "<img width=\"8%\" alt=\"Naas.png\" src=\"https://raw.githubusercontent.com/jupyter-naas/awesome-notebooks/master/.github/assets/logos/Naas.png\" style=\"border-radius: 15%\">"
   ]
  },
  {
   "cell_type": "markdown",
   "id": "f8978178-7f09-417e-9f0a-3918a4d374b4",
   "metadata": {
    "papermill": {},
    "tags": []
   },
   "source": [
    "# HubSpot - Search contacts"
   ]
  },
  {
   "cell_type": "markdown",
   "id": "bf232ea3-a970-48c8-b01b-1c7cc5d17cbf",
   "metadata": {
    "papermill": {},
    "tags": []
   },
   "source": [
    "**Tags:** #hubspot #crm #search #endpoints #python #requests #contacts"
   ]
  },
  {
   "cell_type": "markdown",
   "id": "00ccb408-774b-499e-99d2-bd5ac8e8a37e",
   "metadata": {
    "papermill": {},
    "tags": []
   },
   "source": [
    "**Author:** [Florent Ravenel](https://www.linkedin.com/in/florent-ravenel/)"
   ]
  },
  {
   "cell_type": "markdown",
   "id": "d7adff63-c4ce-4a7e-9a4c-c1367c2ca859",
   "metadata": {
    "papermill": {},
    "tags": []
   },
   "source": [
    "**Last update:** 2024-02-15 (Created: 2024-02-15)"
   ]
  },
  {
   "cell_type": "markdown",
   "id": "68350cf5-e010-4618-b61e-4f77a4fe03ba",
   "metadata": {
    "papermill": {},
    "tags": []
   },
   "source": [
    "**Description:** This notebook demonstrates how to use the CRM search contacts with python requests to filter, sort, and search objects, records, and engagements across your CRM."
   ]
  },
  {
   "cell_type": "markdown",
   "id": "c99a7810-dccf-4d25-974f-f81586aa8902",
   "metadata": {
    "papermill": {},
    "tags": []
   },
   "source": [
    "**References:**\n",
    "- [HubSpot API Documentation](https://developers.hubspot.com/docs/api/crm/search)\n",
    "- [Get your HubSpot Access token](https://knowledge.hubspot.com/articles/kcs_article/integrations/how-do-i-get-my-hubspot-api-key)"
   ]
  },
  {
   "cell_type": "markdown",
   "id": "28d0654e-579f-4e9a-9fe5-7234af80dd9a",
   "metadata": {
    "papermill": {},
    "tags": []
   },
   "source": [
    "## Input"
   ]
  },
  {
   "cell_type": "markdown",
   "id": "c2f9168c-d148-4511-b75f-a57ee0588b2a",
   "metadata": {
    "papermill": {},
    "tags": []
   },
   "source": [
    "### Import libraries"
   ]
  },
  {
   "cell_type": "code",
   "execution_count": 1,
   "id": "34197898-5462-40a5-8bbc-38c91e3cf0fd",
   "metadata": {
    "execution": {
     "iopub.execute_input": "2024-02-23T07:52:49.537456Z",
     "iopub.status.busy": "2024-02-23T07:52:49.536874Z",
     "iopub.status.idle": "2024-02-23T07:52:54.677066Z",
     "shell.execute_reply": "2024-02-23T07:52:54.676451Z",
     "shell.execute_reply.started": "2024-02-23T07:52:49.537378Z"
    },
    "papermill": {},
    "tags": []
   },
   "outputs": [],
   "source": [
    "import naas\n",
    "import requests\n",
    "import json"
   ]
  },
  {
   "cell_type": "markdown",
   "id": "1153e066-e4d9-4935-8d4e-1958b9a76ac4",
   "metadata": {
    "papermill": {},
    "tags": []
   },
   "source": [
    "### Setup variables\n",
    "- `hs_access_token`: This variable stores an access token used for accessing the HubSpot API.\n",
    "- `endpoint`: The endpoint to which the request is sent.\n",
    "- `filters`: A list of filter conditions. Each condition is a dictionary that specifies the property name, operator, and value. [More information in API docs](https://developers.hubspot.com/docs/api/crm/search#filter-search-results)\n",
    "- `properties`: A list of properties to be included in the response.\n",
    "- `sorts`: A list of dictionaries that specify the property to sort by and the sort direction.\n",
    "- `limit`: The maximum number of objects to return. "
   ]
  },
  {
   "cell_type": "code",
   "execution_count": 2,
   "id": "d772bd38-9fcf-4f10-bbc2-b8bd7bd192eb",
   "metadata": {
    "execution": {
     "iopub.execute_input": "2024-02-23T07:52:54.679313Z",
     "iopub.status.busy": "2024-02-23T07:52:54.679129Z",
     "iopub.status.idle": "2024-02-23T07:52:54.801125Z",
     "shell.execute_reply": "2024-02-23T07:52:54.800568Z",
     "shell.execute_reply.started": "2024-02-23T07:52:54.679293Z"
    },
    "papermill": {},
    "tags": []
   },
   "outputs": [],
   "source": [
    "hs_access_token = naas.secret.get(\"HS_ACCESS_TOKEN\") or \"YOUR_HS_ACCESS_TOKEN\"\n",
    "endpoint = \"contacts\"\n",
    "filters = [\n",
    "    {\n",
    "        \"propertyName\": \"firstname\",\n",
    "        \"operator\": \"EQ\",\n",
    "        \"value\": \"Florent\"\n",
    "    }\n",
    "]\n",
    "properties = [\n",
    "    \"firstname\", \n",
    "    \"lastname\", \n",
    "    \"linkedinbio\",\n",
    "    \"email\"\n",
    "]\n",
    "sorts = [\n",
    "    {\n",
    "        \"propertyName\": \"lastmodifieddate\", \n",
    "        \"direction\": \"DESCENDING\"\n",
    "    }\n",
    "]"
   ]
  },
  {
   "cell_type": "markdown",
   "id": "a696e461-6282-486f-a2c4-46b5249f47cc",
   "metadata": {
    "papermill": {},
    "tags": []
   },
   "source": [
    "## Model"
   ]
  },
  {
   "cell_type": "markdown",
   "id": "cfbae511-389c-4eb1-a89b-e1efa3f1af12",
   "metadata": {
    "papermill": {},
    "tags": []
   },
   "source": [
    "### Search Contacts"
   ]
  },
  {
   "cell_type": "markdown",
   "id": "1c7b935a-d37b-4b90-9101-4078573988ff",
   "metadata": {
    "papermill": {},
    "tags": []
   },
   "source": [
    "This function sends a POST request to the HubSpot CRM search endpoint. It uses the provided API key for authentication and sends a JSON payload that specifies the search parameters."
   ]
  },
  {
   "cell_type": "code",
   "execution_count": 5,
   "id": "e8d4b220-4a53-4601-9e78-4b40f53c9060",
   "metadata": {
    "execution": {
     "iopub.execute_input": "2024-02-23T07:57:03.588257Z",
     "iopub.status.busy": "2024-02-23T07:57:03.587993Z",
     "iopub.status.idle": "2024-02-23T07:57:03.807704Z",
     "shell.execute_reply": "2024-02-23T07:57:03.806573Z",
     "shell.execute_reply.started": "2024-02-23T07:57:03.588231Z"
    },
    "papermill": {},
    "tags": []
   },
   "outputs": [
    {
     "name": "stdout",
     "output_type": "stream",
     "text": [
      "Results: 32\n",
      "{'id': '556251', 'properties': {'createdate': '2022-09-21T08:51:52.935Z', 'email': 'admin@naas.ai', 'firstname': 'Florent', 'hs_object_id': '556251', 'lastmodifieddate': '2024-02-23T01:56:56.157Z', 'lastname': 'RAVENEL', 'linkedinbio': 'https://www.linkedin.com/in/ACoAABCNSioBW3YZHc2lBHVG0E_TXYWitQkmwog'}, 'createdAt': '2022-09-21T08:51:52.935Z', 'updatedAt': '2024-02-23T01:56:56.157Z', 'archived': False}\n"
     ]
    }
   ],
   "source": [
    "def search(\n",
    "    api_key,\n",
    "    endpoint,\n",
    "    filters=[],\n",
    "    properties=[],\n",
    "    sorts=[],\n",
    "    limit=100,\n",
    "):\n",
    "    \"\"\"\n",
    "    Sends a POST request to the HubSpot API to search for specific objects.\n",
    "\n",
    "    Args:\n",
    "        api_key (str): The API key for authentication.\n",
    "        endpoint (str): The endpoint to which the request is sent.\n",
    "        filters (list, optional): A list of filter conditions. Each condition is a dictionary that specifies the property name, operator, and value. Defaults to an empty list.\n",
    "        properties (list, optional): A list of properties to be included in the response. Defaults to an empty list.\n",
    "        sort (list, optional): A list of dictionaries that specify the property to sort by and the sort direction. Defaults to an empty list.\n",
    "        limit (int, optional): The maximum number of objects to return. Defaults to 100.\n",
    "\n",
    "    Returns:\n",
    "        dict: The JSON response from the API as a dictionary.\n",
    "    \"\"\"\n",
    "    \n",
    "    # Prepare headers for the HTTP request\n",
    "    headers = {\n",
    "        \"Content-Type\": \"application/json\",\n",
    "        \"Authorization\": f\"Bearer {api_key}\"\n",
    "    }\n",
    "    \n",
    "    # URL to query\n",
    "    url = f\"https://api.hubapi.com/crm/v3/objects/{endpoint}/search\"\n",
    "    \n",
    "    # Prepare the payload for the POST request\n",
    "    payload = {\n",
    "        \"filterGroups\": [\n",
    "            {\n",
    "                \"filters\": filters\n",
    "            }\n",
    "        ],\n",
    "        \"properties\": properties,\n",
    "        \"sorts\": sorts,\n",
    "        'limit': limit,\n",
    "    }\n",
    "    # Send the POST request to the endpoint URL\n",
    "    response = requests.post(url, headers=headers, data=json.dumps(payload))\n",
    "    # Parse the JSON response and return it\n",
    "    return response.json()\n",
    "\n",
    "result = search(hs_access_token, endpoint, filters, properties, sorts)\n",
    "print(\"Results:\", result.get(\"total\"))\n",
    "if len(result.get(\"results\")) > 0:\n",
    "    print(result.get(\"results\")[0])"
   ]
  },
  {
   "cell_type": "markdown",
   "id": "46a12d9c-6742-4c92-9e24-d91b16fd2eb7",
   "metadata": {
    "papermill": {},
    "tags": []
   },
   "source": [
    "## Output"
   ]
  },
  {
   "cell_type": "markdown",
   "id": "7fe1f917-af33-4c29-b12f-6b5ba3dd3b8b",
   "metadata": {
    "papermill": {},
    "tags": []
   },
   "source": [
    "### Display result"
   ]
  },
  {
   "cell_type": "code",
   "execution_count": 4,
   "id": "74b30759-f32d-4565-bb55-8a2a9b9ddf7f",
   "metadata": {
    "execution": {
     "iopub.execute_input": "2024-02-23T07:52:55.039667Z",
     "iopub.status.busy": "2024-02-23T07:52:55.039427Z",
     "iopub.status.idle": "2024-02-23T07:52:55.062549Z",
     "shell.execute_reply": "2024-02-23T07:52:55.058585Z",
     "shell.execute_reply.started": "2024-02-23T07:52:55.039637Z"
    },
    "tags": []
   },
   "outputs": [
    {
     "data": {
      "text/plain": [
       "{'total': 32,\n",
       " 'results': [{'id': '556251',\n",
       "   'properties': {'createdate': '2022-09-21T08:51:52.935Z',\n",
       "    'email': 'admin@naas.ai',\n",
       "    'firstname': 'Florent',\n",
       "    'hs_object_id': '556251',\n",
       "    'lastmodifieddate': '2024-02-23T01:56:56.157Z',\n",
       "    'lastname': 'RAVENEL',\n",
       "    'linkedinbio': 'https://www.linkedin.com/in/ACoAABCNSioBW3YZHc2lBHVG0E_TXYWitQkmwog'},\n",
       "   'createdAt': '2022-09-21T08:51:52.935Z',\n",
       "   'updatedAt': '2024-02-23T01:56:56.157Z',\n",
       "   'archived': False},\n",
       "  {'id': '869401',\n",
       "   'properties': {'createdate': '2024-01-26T08:11:45.732Z',\n",
       "    'email': 'abi-demo@naas.ai',\n",
       "    'firstname': 'Florent',\n",
       "    'hs_object_id': '869401',\n",
       "    'lastmodifieddate': '2024-02-22T21:20:48.985Z',\n",
       "    'lastname': 'RAVENEL',\n",
       "    'linkedinbio': 'https://fr.linkedin.com/in/florent-ravenel'},\n",
       "   'createdAt': '2024-01-26T08:11:45.732Z',\n",
       "   'updatedAt': '2024-02-22T21:20:48.985Z',\n",
       "   'archived': False},\n",
       "  {'id': '319402',\n",
       "   'properties': {'createdate': '2021-06-05T19:45:16.323Z',\n",
       "    'email': 'florent@naas.ai',\n",
       "    'firstname': 'Florent',\n",
       "    'hs_object_id': '319402',\n",
       "    'lastmodifieddate': '2024-02-22T11:10:31.987Z',\n",
       "    'lastname': 'RAVENEL',\n",
       "    'linkedinbio': 'https://www.linkedin.com/in/ACoAABCNSioBW3YZHc2lBHVG0E_TXYWitQkmwog'},\n",
       "   'createdAt': '2021-06-05T19:45:16.323Z',\n",
       "   'updatedAt': '2024-02-22T11:10:31.987Z',\n",
       "   'archived': False},\n",
       "  {'id': '599051',\n",
       "   'properties': {'createdate': '2022-11-22T10:22:16.518Z',\n",
       "    'email': 'florent.ravenel1@gmail.com',\n",
       "    'firstname': 'Florent',\n",
       "    'hs_object_id': '599051',\n",
       "    'lastmodifieddate': '2024-02-20T09:11:57.072Z',\n",
       "    'lastname': 'RAVENEL',\n",
       "    'linkedinbio': 'https://www.linkedin.com/in/ACoAABCNSioBW3YZHc2lBHVG0E_TXYWitQkmwog'},\n",
       "   'createdAt': '2022-11-22T10:22:16.518Z',\n",
       "   'updatedAt': '2024-02-20T09:11:57.072Z',\n",
       "   'archived': False},\n",
       "  {'id': '735351',\n",
       "   'properties': {'createdate': '2023-10-04T14:58:47.603Z',\n",
       "    'email': 'florent.frvservices@gmail.com',\n",
       "    'firstname': 'Florent',\n",
       "    'hs_object_id': '735351',\n",
       "    'lastmodifieddate': '2024-02-06T15:30:59.235Z',\n",
       "    'lastname': 'RAVENEL',\n",
       "    'linkedinbio': None},\n",
       "   'createdAt': '2023-10-04T14:58:47.603Z',\n",
       "   'updatedAt': '2024-02-06T15:30:59.235Z',\n",
       "   'archived': False},\n",
       "  {'id': '632351',\n",
       "   'properties': {'createdate': '2023-02-01T15:35:42.761Z',\n",
       "    'email': 'florentwindels@gmail.com',\n",
       "    'firstname': 'Florent',\n",
       "    'hs_object_id': '632351',\n",
       "    'lastmodifieddate': '2024-01-15T23:59:02.455Z',\n",
       "    'lastname': 'WINDELS',\n",
       "    'linkedinbio': 'https://www.linkedin.com/in/ACoAABvDF-0BpCNTXv4od-oNux31oK-ktVywtdM'},\n",
       "   'createdAt': '2023-02-01T15:35:42.761Z',\n",
       "   'updatedAt': '2024-01-15T23:59:02.455Z',\n",
       "   'archived': False},\n",
       "  {'id': '551651',\n",
       "   'properties': {'createdate': '2022-09-12T13:13:58.466Z',\n",
       "    'email': 'usage@naas.ai',\n",
       "    'firstname': 'Florent',\n",
       "    'hs_object_id': '551651',\n",
       "    'lastmodifieddate': '2023-12-31T23:07:32.731Z',\n",
       "    'lastname': 'RAVENEL',\n",
       "    'linkedinbio': 'https://www.linkedin.com/in/ACoAABCNSioBW3YZHc2lBHVG0E_TXYWitQkmwog'},\n",
       "   'createdAt': '2022-09-12T13:13:58.466Z',\n",
       "   'updatedAt': '2023-12-31T23:07:32.731Z',\n",
       "   'archived': False},\n",
       "  {'id': '743801',\n",
       "   'properties': {'createdate': '2023-10-24T10:23:33.371Z',\n",
       "    'email': 'florent+naas30@naas.ai',\n",
       "    'firstname': 'Florent',\n",
       "    'hs_object_id': '743801',\n",
       "    'lastmodifieddate': '2023-11-16T13:15:05.700Z',\n",
       "    'lastname': 'RAVENEL',\n",
       "    'linkedinbio': 'https://fr.linkedin.com/in/florent-ravenel'},\n",
       "   'createdAt': '2023-10-24T10:23:33.371Z',\n",
       "   'updatedAt': '2023-11-16T13:15:05.700Z',\n",
       "   'archived': False},\n",
       "  {'id': '31001',\n",
       "   'properties': {'createdate': '2018-09-16T16:20:59.842Z',\n",
       "    'email': 'florent.ravenel@cashstory.com',\n",
       "    'firstname': 'Florent',\n",
       "    'hs_object_id': '31001',\n",
       "    'lastmodifieddate': '2023-11-01T10:30:20.108Z',\n",
       "    'lastname': 'RAVENEL',\n",
       "    'linkedinbio': 'https://www.linkedin.com/in/ACoAABCNSioBW3YZHc2lBHVG0E_TXYWitQkmwog'},\n",
       "   'createdAt': '2018-09-16T16:20:59.842Z',\n",
       "   'updatedAt': '2023-11-01T10:30:20.108Z',\n",
       "   'archived': False},\n",
       "  {'id': '449701',\n",
       "   'properties': {'createdate': '2022-03-11T15:56:04.483Z',\n",
       "    'email': 'wsr@naas.ai',\n",
       "    'firstname': 'Florent',\n",
       "    'hs_object_id': '449701',\n",
       "    'lastmodifieddate': '2023-11-01T10:28:17.601Z',\n",
       "    'lastname': 'RAVENEL',\n",
       "    'linkedinbio': 'https://www.linkedin.com/in/ACoAABCNSioBW3YZHc2lBHVG0E_TXYWitQkmwog'},\n",
       "   'createdAt': '2022-03-11T15:56:04.483Z',\n",
       "   'updatedAt': '2023-11-01T10:28:17.601Z',\n",
       "   'archived': False},\n",
       "  {'id': '431851',\n",
       "   'properties': {'createdate': '2022-02-02T09:27:56.443Z',\n",
       "    'email': 'metrics@naas.ai',\n",
       "    'firstname': 'Florent',\n",
       "    'hs_object_id': '431851',\n",
       "    'lastmodifieddate': '2023-11-01T10:22:10.393Z',\n",
       "    'lastname': 'RAVENEL',\n",
       "    'linkedinbio': 'https://www.linkedin.com/in/ACoAABCNSioBW3YZHc2lBHVG0E_TXYWitQkmwog'},\n",
       "   'createdAt': '2022-02-02T09:27:56.443Z',\n",
       "   'updatedAt': '2023-11-01T10:22:10.393Z',\n",
       "   'archived': False},\n",
       "  {'id': '728001',\n",
       "   'properties': {'createdate': '2023-09-05T11:08:31.184Z',\n",
       "    'email': 'florent+demo@naas.ai',\n",
       "    'firstname': 'Florent',\n",
       "    'hs_object_id': '728001',\n",
       "    'lastmodifieddate': '2023-09-05T11:23:40.975Z',\n",
       "    'lastname': 'RAVENEL',\n",
       "    'linkedinbio': 'https://fr.linkedin.com/in/florent-ravenel'},\n",
       "   'createdAt': '2023-09-05T11:08:31.184Z',\n",
       "   'updatedAt': '2023-09-05T11:23:40.975Z',\n",
       "   'archived': False},\n",
       "  {'id': '308551',\n",
       "   'properties': {'createdate': '2021-04-27T14:53:12.442Z',\n",
       "    'email': 'f.ravenel@yahoo.fr',\n",
       "    'firstname': 'Florent',\n",
       "    'hs_object_id': '308551',\n",
       "    'lastmodifieddate': '2023-08-31T17:02:38.094Z',\n",
       "    'lastname': 'RAVENEL',\n",
       "    'linkedinbio': 'https://www.linkedin.com/in/ACoAABCNSioBW3YZHc2lBHVG0E_TXYWitQkmwog'},\n",
       "   'createdAt': '2021-04-27T14:53:12.442Z',\n",
       "   'updatedAt': '2023-08-31T17:02:38.094Z',\n",
       "   'archived': False},\n",
       "  {'id': '271966',\n",
       "   'properties': {'createdate': '2021-01-07T16:48:59.897Z',\n",
       "    'email': None,\n",
       "    'firstname': 'Florent',\n",
       "    'hs_object_id': '271966',\n",
       "    'lastmodifieddate': '2023-08-29T13:30:07.522Z',\n",
       "    'lastname': 'PERDRIAU',\n",
       "    'linkedinbio': 'https://www.linkedin.com/in/florent-perdriau-7660a32/'},\n",
       "   'createdAt': '2021-01-07T16:48:59.897Z',\n",
       "   'updatedAt': '2023-08-29T13:30:07.522Z',\n",
       "   'archived': False},\n",
       "  {'id': '271450',\n",
       "   'properties': {'createdate': '2021-01-07T16:47:06.443Z',\n",
       "    'email': None,\n",
       "    'firstname': 'Florent',\n",
       "    'hs_object_id': '271450',\n",
       "    'lastmodifieddate': '2023-08-29T13:26:09.194Z',\n",
       "    'lastname': 'LAVAL',\n",
       "    'linkedinbio': 'https://www.linkedin.com/in/florentlaval'},\n",
       "   'createdAt': '2021-01-07T16:47:06.443Z',\n",
       "   'updatedAt': '2023-08-29T13:26:09.194Z',\n",
       "   'archived': False},\n",
       "  {'id': '271426',\n",
       "   'properties': {'createdate': '2021-01-07T16:45:23.338Z',\n",
       "    'email': None,\n",
       "    'firstname': 'Florent',\n",
       "    'hs_object_id': '271426',\n",
       "    'lastmodifieddate': '2023-08-29T13:25:58.460Z',\n",
       "    'lastname': \"D'HALLUIN\",\n",
       "    'linkedinbio': 'https://www.linkedin.com/in/florent-d-halluin-4323624a'},\n",
       "   'createdAt': '2021-01-07T16:45:23.338Z',\n",
       "   'updatedAt': '2023-08-29T13:25:58.460Z',\n",
       "   'archived': False},\n",
       "  {'id': '270225',\n",
       "   'properties': {'createdate': '2021-01-07T16:36:19.642Z',\n",
       "    'email': None,\n",
       "    'firstname': 'Florent',\n",
       "    'hs_object_id': '270225',\n",
       "    'lastmodifieddate': '2023-08-29T13:16:52.364Z',\n",
       "    'lastname': 'BLACHOT',\n",
       "    'linkedinbio': 'https://www.linkedin.com/in/florent-blachot'},\n",
       "   'createdAt': '2021-01-07T16:36:19.642Z',\n",
       "   'updatedAt': '2023-08-29T13:16:52.364Z',\n",
       "   'archived': False},\n",
       "  {'id': '269449',\n",
       "   'properties': {'createdate': '2021-01-07T16:33:11.704Z',\n",
       "    'email': None,\n",
       "    'firstname': 'Florent',\n",
       "    'hs_object_id': '269449',\n",
       "    'lastmodifieddate': '2023-08-29T13:11:07.205Z',\n",
       "    'lastname': 'SILVE',\n",
       "    'linkedinbio': 'https://www.linkedin.com/in/silve'},\n",
       "   'createdAt': '2021-01-07T16:33:11.704Z',\n",
       "   'updatedAt': '2023-08-29T13:11:07.205Z',\n",
       "   'archived': False},\n",
       "  {'id': '282651',\n",
       "   'properties': {'createdate': '2021-02-05T10:24:27.943Z',\n",
       "    'email': 'florentdesalaberry@hotmail.com',\n",
       "    'firstname': 'Florent',\n",
       "    'hs_object_id': '282651',\n",
       "    'lastmodifieddate': '2023-08-29T13:04:32.266Z',\n",
       "    'lastname': 'DE SALABERRY',\n",
       "    'linkedinbio': 'https://fr.linkedin.com/in/florent-de-salaberry-58a9a66'},\n",
       "   'createdAt': '2021-02-05T10:24:27.943Z',\n",
       "   'updatedAt': '2023-08-29T13:04:32.266Z',\n",
       "   'archived': False},\n",
       "  {'id': '139701',\n",
       "   'properties': {'createdate': '2020-05-15T14:02:52.818Z',\n",
       "    'email': 'florent.gevrey@airliquide.com',\n",
       "    'firstname': 'Florent',\n",
       "    'hs_object_id': '139701',\n",
       "    'lastmodifieddate': '2022-07-23T01:11:41.396Z',\n",
       "    'lastname': 'GEVREY',\n",
       "    'linkedinbio': 'https://fr.linkedin.com/in/florent-gevrey-833ba284'},\n",
       "   'createdAt': '2020-05-15T14:02:52.818Z',\n",
       "   'updatedAt': '2022-07-23T01:11:41.396Z',\n",
       "   'archived': False},\n",
       "  {'id': '41068',\n",
       "   'properties': {'createdate': '2019-06-04T15:44:20.766Z',\n",
       "    'email': 'florent.legot@schneider-electric.com',\n",
       "    'firstname': 'Florent',\n",
       "    'hs_object_id': '41068',\n",
       "    'lastmodifieddate': '2022-07-22T10:01:31.265Z',\n",
       "    'lastname': 'LEGOT',\n",
       "    'linkedinbio': 'https://fr.linkedin.com/in/florent-legot-89417034'},\n",
       "   'createdAt': '2019-06-04T15:44:20.766Z',\n",
       "   'updatedAt': '2022-07-22T10:01:31.265Z',\n",
       "   'archived': False},\n",
       "  {'id': '159051',\n",
       "   'properties': {'createdate': '2020-05-16T10:06:09.304Z',\n",
       "    'email': 'florent.canonne@psa-peugeot-citroen.com',\n",
       "    'firstname': 'Florent',\n",
       "    'hs_object_id': '159051',\n",
       "    'lastmodifieddate': '2022-07-21T18:40:57.552Z',\n",
       "    'lastname': 'CANONNE',\n",
       "    'linkedinbio': 'https://fr.linkedin.com/in/florent-canonne-337a654'},\n",
       "   'createdAt': '2020-05-16T10:06:09.304Z',\n",
       "   'updatedAt': '2022-07-21T18:40:57.552Z',\n",
       "   'archived': False},\n",
       "  {'id': '40737',\n",
       "   'properties': {'createdate': '2019-06-04T15:44:21.928Z',\n",
       "    'email': 'florent.sebag@axa.com',\n",
       "    'firstname': 'Florent',\n",
       "    'hs_object_id': '40737',\n",
       "    'lastmodifieddate': '2022-07-04T17:03:07.232Z',\n",
       "    'lastname': 'SEBAG',\n",
       "    'linkedinbio': 'https://fr.linkedin.com/in/florentsebag'},\n",
       "   'createdAt': '2019-06-04T15:44:21.928Z',\n",
       "   'updatedAt': '2022-07-04T17:03:07.232Z',\n",
       "   'archived': False},\n",
       "  {'id': '3051',\n",
       "   'properties': {'createdate': '2016-10-18T15:25:08.996Z',\n",
       "    'email': 'florent.rambaud@toucantoco.com',\n",
       "    'firstname': 'Florent',\n",
       "    'hs_object_id': '3051',\n",
       "    'lastmodifieddate': '2022-06-10T02:44:01.256Z',\n",
       "    'lastname': 'RAMBAUD',\n",
       "    'linkedinbio': 'https://fr.linkedin.com/in/benjaminachiary'},\n",
       "   'createdAt': '2016-10-18T15:25:08.996Z',\n",
       "   'updatedAt': '2022-06-10T02:44:01.256Z',\n",
       "   'archived': False},\n",
       "  {'id': '211251',\n",
       "   'properties': {'createdate': '2020-07-09T14:26:50.744Z',\n",
       "    'email': 'florent.menegaux@fr.michelin.com',\n",
       "    'firstname': 'Florent',\n",
       "    'hs_object_id': '211251',\n",
       "    'lastmodifieddate': '2022-05-25T04:36:30.465Z',\n",
       "    'lastname': 'MENEGAUX',\n",
       "    'linkedinbio': 'https://fr.linkedin.com/in/florent-menegaux'},\n",
       "   'createdAt': '2020-07-09T14:26:50.744Z',\n",
       "   'updatedAt': '2022-05-25T04:36:30.465Z',\n",
       "   'archived': False},\n",
       "  {'id': '401',\n",
       "   'properties': {'createdate': '2016-08-10T11:48:55.412Z',\n",
       "    'email': 'florent_nouveau@hotmail.com',\n",
       "    'firstname': 'Florent',\n",
       "    'hs_object_id': '401',\n",
       "    'lastmodifieddate': '2022-05-20T05:24:34.529Z',\n",
       "    'lastname': 'NOUVEAU',\n",
       "    'linkedinbio': 'https://www.linkedin.com/in/ACoAAAJIt_8Bo5UkAv5N0L_gsOX6w5u5YQCz1io'},\n",
       "   'createdAt': '2016-08-10T11:48:55.412Z',\n",
       "   'updatedAt': '2022-05-20T05:24:34.529Z',\n",
       "   'archived': False},\n",
       "  {'id': '495486',\n",
       "   'properties': {'createdate': '2022-05-19T18:46:07.877Z',\n",
       "    'email': None,\n",
       "    'firstname': 'Florent',\n",
       "    'hs_object_id': '495486',\n",
       "    'lastmodifieddate': '2022-05-19T18:46:15.696Z',\n",
       "    'lastname': 'DE LÉCLUSE 🧑\\u200d🚀',\n",
       "    'linkedinbio': 'https://www.linkedin.com/in/ACoAABRHB3EBbyx0SEb82W4eZTv3KkH7uX2burA'},\n",
       "   'createdAt': '2022-05-19T18:46:07.877Z',\n",
       "   'updatedAt': '2022-05-19T18:46:15.696Z',\n",
       "   'archived': False},\n",
       "  {'id': '496908',\n",
       "   'properties': {'createdate': '2022-05-19T18:43:32.098Z',\n",
       "    'email': None,\n",
       "    'firstname': 'Florent',\n",
       "    'hs_object_id': '496908',\n",
       "    'lastmodifieddate': '2022-05-19T18:43:40.892Z',\n",
       "    'lastname': 'RAMBAUD',\n",
       "    'linkedinbio': 'https://www.linkedin.com/in/ACoAAAZbxKoBezxokk0YUvmBLP4LGsX0meDszvc'},\n",
       "   'createdAt': '2022-05-19T18:43:32.098Z',\n",
       "   'updatedAt': '2022-05-19T18:43:40.892Z',\n",
       "   'archived': False},\n",
       "  {'id': '69504',\n",
       "   'properties': {'createdate': '2019-11-13T15:18:01.774Z',\n",
       "    'email': 'florent.leminoux@orange.com',\n",
       "    'firstname': 'Florent',\n",
       "    'hs_object_id': '69504',\n",
       "    'lastmodifieddate': '2022-05-16T12:44:48.350Z',\n",
       "    'lastname': 'LE MINOUX',\n",
       "    'linkedinbio': 'https://fr.linkedin.com/in/florentleminoux'},\n",
       "   'createdAt': '2019-11-13T15:18:01.774Z',\n",
       "   'updatedAt': '2022-05-16T12:44:48.350Z',\n",
       "   'archived': False},\n",
       "  {'id': '2951',\n",
       "   'properties': {'createdate': '2016-10-18T09:52:24.176Z',\n",
       "    'email': 'florent.nouveau@saint-gobain.com',\n",
       "    'firstname': 'Florent',\n",
       "    'hs_object_id': '2951',\n",
       "    'lastmodifieddate': '2022-04-23T06:41:20.636Z',\n",
       "    'lastname': 'NOUVEAU',\n",
       "    'linkedinbio': 'https://fr.linkedin.com/in/benjaminachiary'},\n",
       "   'createdAt': '2016-10-18T09:52:24.176Z',\n",
       "   'updatedAt': '2022-04-23T06:41:20.636Z',\n",
       "   'archived': False},\n",
       "  {'id': '47408',\n",
       "   'properties': {'createdate': '2019-06-21T13:07:12.693Z',\n",
       "    'email': 'florent.menegaux@michelin.com',\n",
       "    'firstname': 'Florent',\n",
       "    'hs_object_id': '47408',\n",
       "    'lastmodifieddate': '2022-04-12T04:01:29.634Z',\n",
       "    'lastname': 'MENEGAUX',\n",
       "    'linkedinbio': 'https://fr.linkedin.com/in/florent-menegaux'},\n",
       "   'createdAt': '2019-06-21T13:07:12.693Z',\n",
       "   'updatedAt': '2022-04-12T04:01:29.634Z',\n",
       "   'archived': False},\n",
       "  {'id': '18001',\n",
       "   'properties': {'createdate': '2017-05-24T14:39:26.867Z',\n",
       "    'email': 'florent.sinicco@legrand.fr',\n",
       "    'firstname': 'Florent',\n",
       "    'hs_object_id': '18001',\n",
       "    'lastmodifieddate': '2022-04-09T16:17:45.320Z',\n",
       "    'lastname': 'SINICCO',\n",
       "    'linkedinbio': 'https://fr.linkedin.com/in/florentsinicco'},\n",
       "   'createdAt': '2017-05-24T14:39:26.867Z',\n",
       "   'updatedAt': '2022-04-09T16:17:45.320Z',\n",
       "   'archived': False}]}"
      ]
     },
     "execution_count": 4,
     "metadata": {},
     "output_type": "execute_result"
    }
   ],
   "source": [
    "result"
   ]
  },
  {
   "cell_type": "code",
   "execution_count": null,
   "id": "09906c15-f1ff-459d-9279-ae2426a39fcf",
   "metadata": {},
   "outputs": [],
   "source": []
  }
 ],
 "metadata": {
  "kernelspec": {
   "display_name": "Python 3",
   "language": "python",
   "name": "python3"
  },
  "language_info": {
   "codemirror_mode": {
    "name": "ipython",
    "version": 3
   },
   "file_extension": ".py",
   "mimetype": "text/x-python",
   "name": "python",
   "nbconvert_exporter": "python",
   "pygments_lexer": "ipython3",
   "version": "3.9.6"
  },
  "toc-showcode": false,
  "toc-showmarkdowntxt": false,
  "widgets": {
   "application/vnd.jupyter.widget-state+json": {
    "state": {},
    "version_major": 2,
    "version_minor": 0
   }
  }
 },
 "nbformat": 4,
 "nbformat_minor": 5
}
