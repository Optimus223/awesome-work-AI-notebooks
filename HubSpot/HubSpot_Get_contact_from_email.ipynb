{
 "cells": [
  {
   "cell_type": "markdown",
   "id": "available-thursday",
   "metadata": {
    "papermill": {},
    "tags": []
   },
   "source": [
    "<img width=\"10%\" alt=\"Naas\" src=\"https://landen.imgix.net/jtci2pxwjczr/assets/5ice39g4.png?w=160\"/>"
   ]
  },
  {
   "cell_type": "markdown",
   "id": "stopped-daisy",
   "metadata": {
    "papermill": {},
    "tags": []
   },
   "source": [
    "# HubSpot - Get contact from email\n",
    "<a href=\"https://app.naas.ai/user-redirect/naas/downloader?url=https://raw.githubusercontent.com/jupyter-naas/awesome-notebooks/master/HubSpot/HubSpot_Get_contact_from_email.ipynb\" target=\"_parent\"><img src=\"https://naasai-public.s3.eu-west-3.amazonaws.com/open_in_naas.svg\"/></a><br><br><a href=\"https://github.com/jupyter-naas/awesome-notebooks/issues/new?assignees=&labels=&template=template-request.md&title=Tool+-+Action+of+the+notebook+\">Template request</a> | <a href=\"https://github.com/jupyter-naas/awesome-notebooks/issues/new?assignees=&labels=bug&template=bug_report.md&title=HubSpot+-+Get+contact+from+email:+Error+short+description\">Bug report</a>"
   ]
  },
  {
   "cell_type": "markdown",
   "id": "senior-trade",
   "metadata": {
    "papermill": {},
    "tags": []
   },
   "source": [
    "**Tags:** #hubspot #crm #sales #contact #naas_drivers #snippet #dataframe"
   ]
  },
  {
   "cell_type": "markdown",
   "id": "6c37c781-8621-4b38-b73b-b1201a475474",
   "metadata": {
    "papermill": {},
    "tags": []
   },
   "source": [
    "**Author:** [Florent Ravenel](https://www.linkedin.com/in/florent-ravenel/)"
   ]
  },
  {
   "cell_type": "markdown",
   "id": "44359ecb-0b25-4c32-8779-39b0e94bb79e",
   "metadata": {
    "papermill": {},
    "tags": []
   },
   "source": [
    "This template get contact from HubSpot with email."
   ]
  },
  {
   "cell_type": "markdown",
   "id": "radio-wings",
   "metadata": {
    "papermill": {},
    "tags": []
   },
   "source": [
    "## Input"
   ]
  },
  {
   "cell_type": "markdown",
   "id": "unique-dollar",
   "metadata": {
    "papermill": {},
    "tags": []
   },
   "source": [
    "### Import libraries"
   ]
  },
  {
   "cell_type": "code",
   "execution_count": null,
   "id": "polish-newman",
   "metadata": {
    "papermill": {},
    "tags": []
   },
   "outputs": [],
   "source": [
    "import requests"
   ]
  },
  {
   "cell_type": "markdown",
   "id": "9e8f484d-3b18-452e-bcf8-c6875f970975",
   "metadata": {
    "papermill": {},
    "tags": []
   },
   "source": [
    "### Setup your HubSpot\n",
    "👉 Access your [HubSpot API key](https://knowledge.hubspot.com/integrations/how-do-i-get-my-hubspot-api-key)"
   ]
  },
  {
   "cell_type": "code",
   "execution_count": null,
   "id": "e848239a-cd26-489e-bcbe-de2e51320d1c",
   "metadata": {
    "papermill": {},
    "tags": []
   },
   "outputs": [],
   "source": [
    "# Enter Token API\n",
    "HS_API_KEY = \"ENTER_YOUR_HS_API_KEY_HERE\" # EXAMPLE : \"7865b95b-7731-7843-2537-34284HSKHEZ\""
   ]
  },
  {
   "cell_type": "markdown",
   "id": "12703001-73c8-44b1-aba6-f67f6ed9e0b5",
   "metadata": {
    "papermill": {},
    "tags": []
   },
   "source": [
    "### Enter your contact email"
   ]
  },
  {
   "cell_type": "code",
   "execution_count": null,
   "id": "38a8623a-c1df-49aa-84b1-459643243761",
   "metadata": {
    "papermill": {},
    "tags": []
   },
   "outputs": [],
   "source": [
    "contact_email = \"ENTER_CONTACT_EMAIL_HERE\" # EXAMPLE : \"florent@naas.ai\""
   ]
  },
  {
   "cell_type": "markdown",
   "id": "cardiovascular-incidence",
   "metadata": {
    "papermill": {},
    "tags": []
   },
   "source": [
    "## Model"
   ]
  },
  {
   "cell_type": "markdown",
   "id": "fancy-result",
   "metadata": {
    "papermill": {},
    "tags": []
   },
   "source": [
    "### Get single contact"
   ]
  },
  {
   "cell_type": "code",
   "execution_count": null,
   "id": "dutch-kennedy",
   "metadata": {
    "papermill": {},
    "tags": []
   },
   "outputs": [],
   "source": [
    "def get_contact_hubspot(hs_value, hs_key=\"email\", hs_properties=None):\n",
    "    url = f\"https://api.hubapi.com/crm/v3/objects/contacts/{hs_value}\"\n",
    "    querystring = {\n",
    "        \"archived\": \"false\",\n",
    "        \"hapikey\": HS_API_KEY,\n",
    "        \"idProperty\": hs_key}\n",
    "    if hs_properties is not None:\n",
    "        querystring[\"properties\"] = hs_properties\n",
    "    headers = {'accept': 'application/json'}\n",
    "    # Requests data\n",
    "    res = requests.get(url,\n",
    "                       headers=headers,\n",
    "                       params=querystring)\n",
    "    res.raise_for_status()\n",
    "    return res.json()\n",
    "\n",
    "contact = get_contact_hubspot(contact_email)"
   ]
  },
  {
   "cell_type": "markdown",
   "id": "moved-tissue",
   "metadata": {
    "papermill": {},
    "tags": []
   },
   "source": [
    "## Output"
   ]
  },
  {
   "cell_type": "markdown",
   "id": "legendary-acceptance",
   "metadata": {
    "papermill": {},
    "tags": []
   },
   "source": [
    "### Display result"
   ]
  },
  {
   "cell_type": "code",
   "execution_count": null,
   "id": "united-rugby",
   "metadata": {
    "papermill": {},
    "tags": []
   },
   "outputs": [],
   "source": [
    "contact"
   ]
  }
 ],
 "metadata": {
  "kernelspec": {
   "display_name": "Python 3",
   "language": "python",
   "name": "python3"
  },
  "language_info": {
   "codemirror_mode": {
    "name": "ipython",
    "version": 3
   },
   "file_extension": ".py",
   "mimetype": "text/x-python",
   "name": "python",
   "nbconvert_exporter": "python",
   "pygments_lexer": "ipython3",
   "version": "3.9.6"
  },
  "naas": {
   "notebook_id": "950b0b67-0cc9-4581-882f-379c072dcafc",
   "notebook_path": "HubSpot/HubSpot_Get_contact.ipynb"
  },
  "papermill": {
   "default_parameters": {},
   "environment_variables": {},
   "parameters": {},
   "version": "2.3.3"
  }
 },
 "nbformat": 4,
 "nbformat_minor": 5
}