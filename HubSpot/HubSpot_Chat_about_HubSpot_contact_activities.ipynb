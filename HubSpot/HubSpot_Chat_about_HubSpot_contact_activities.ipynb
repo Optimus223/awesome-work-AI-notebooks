{
 "cells": [
  {
   "cell_type": "markdown",
   "id": "27486f01-77c3-4774-a098-29c706202d62",
   "metadata": {
    "papermill": {},
    "tags": []
   },
   "source": [
    "<img width=\"10%\" alt=\"Naas\" src=\"https://landen.imgix.net/jtci2pxwjczr/assets/5ice39g4.png?w=160\"/>"
   ]
  },
  {
   "cell_type": "markdown",
   "id": "85c6497e-923f-41fa-b85b-81f47a5ab9c7",
   "metadata": {
    "papermill": {},
    "tags": []
   },
   "source": [
    "# HubSpot - Chat about HubSpot contact activities\n",
    "<a href=\"https://app.naas.ai/user-redirect/naas/downloader?url=https://raw.githubusercontent.com/jupyter-naas/awesome-notebooks/master/HubSpot/HubSpot_Get_activities_from_contact.ipynb\" target=\"_parent\"><img src=\"https://naasai-public.s3.eu-west-3.amazonaws.com/Open_in_Naas_Lab.svg\"/></a><br><br><a href=\"https://bit.ly/3JyWIk6\">Give Feedback</a> | <a href=\"https://github.com/jupyter-naas/awesome-notebooks/issues/new?assignees=&labels=bug&template=bug_report.md&title=HubSpot+-+Get+activities+from+contact:+Error+short+description\">Bug report</a>"
   ]
  },
  {
   "cell_type": "markdown",
   "id": "661f554e-7065-4101-81c2-9e799a812b67",
   "metadata": {
    "papermill": {},
    "tags": []
   },
   "source": [
    "**Tags:** #hubspot #contact #activity #notes #emails #communications #meetings #snippet"
   ]
  },
  {
   "cell_type": "markdown",
   "id": "a852a18f-e277-4aa5-bdec-8dd1fccb57d2",
   "metadata": {
    "papermill": {},
    "tags": []
   },
   "source": [
    "**Author:** [Florent Ravenel](https://www.linkedin.com/in/florent-ravenel)"
   ]
  },
  {
   "cell_type": "markdown",
   "id": "6dd7c05c-17ed-459f-88a8-3c6629b80cde",
   "metadata": {
    "papermill": {},
    "tags": []
   },
   "source": [
    "**Last update:** 2023-08-21 (Created: 2023-08-21)"
   ]
  },
  {
   "cell_type": "markdown",
   "id": "7dcfd269-589b-4199-b521-6884053ff935",
   "metadata": {
    "papermill": {},
    "tags": []
   },
   "source": [
    "**Description:** This notebook demonstrates how to retrieve all activities from a contact URL in HuSpot in use it in Naas Chat."
   ]
  },
  {
   "cell_type": "markdown",
   "id": "0da5ca2d-a6a1-424c-b41f-391428555503",
   "metadata": {
    "papermill": {},
    "tags": []
   },
   "source": [
    "**References:**\n",
    "- [HubSpot API - Contacts](https://developers.hubspot.com/docs/api/crm/contacts)\n",
    "- [HubSpot API - Associations v4](https://developers.hubspot.com/docs/api/crm/associations)\n",
    "- [HubSpot API - Communications](https://developers.hubspot.com/docs/api/crm/communications)"
   ]
  },
  {
   "cell_type": "markdown",
   "id": "8c6e5050-800a-4f05-a1d2-5a682c54e069",
   "metadata": {
    "papermill": {},
    "tags": []
   },
   "source": [
    "## Input"
   ]
  },
  {
   "cell_type": "markdown",
   "id": "6c27222b-7468-4daa-9a77-c446aaf66f72",
   "metadata": {
    "papermill": {},
    "tags": []
   },
   "source": [
    "### Import libraries"
   ]
  },
  {
   "cell_type": "code",
   "execution_count": null,
   "id": "a3fad6df-27f3-4e13-a934-083468860bf3",
   "metadata": {
    "papermill": {},
    "tags": []
   },
   "outputs": [],
   "source": [
    "import requests\n",
    "import naas\n",
    "from naas_drivers import hubspot\n",
    "import pandas as pd\n",
    "import json\n",
    "try:\n",
    "    import tiktoken\n",
    "except:\n",
    "    !pip install tiktoken --user\n",
    "    import tiktoken\n",
    "pd.set_option('display.max_colwidth', None)"
   ]
  },
  {
   "cell_type": "markdown",
   "id": "17d095ea-e80c-4d8d-896b-271f3e0ea121",
   "metadata": {
    "papermill": {},
    "tags": []
   },
   "source": [
    "### Setup variables\n",
    "**Mandatory**\n",
    "\n",
    "[Get your HubSpot Access token](https://knowledge.hubspot.com/articles/kcs_article/integrations/how-do-i-get-my-hubspot-api-key)\n",
    "- `hs_access_token`: This variable stores an access token used for accessing the HubSpot API.\n",
    "- `contact_url`: This variable stores the HubSpot contact URL.\n",
    "\n",
    "**Optional**\n",
    "- `plugin_name`: It represents the name of the plugin.\n",
    "- `plugin_model`: It specifies the model to be used by the plugin.\n",
    "- `plugin_temperature`: It determines the creativity level of the generated content, with higher values resulting in more diverse outputs.\n",
    "- `plugin_max_tokens`: It specifies the number of maximum tokens to be used by the plugin.\n",
    "- `plugin_file_name`: This variable contains the name of the plugin file that will analyze the posts."
   ]
  },
  {
   "cell_type": "code",
   "execution_count": null,
   "id": "13df3457-9ca4-4a77-ace7-2cd5a386362d",
   "metadata": {
    "papermill": {},
    "tags": [
     "parameters"
    ]
   },
   "outputs": [],
   "source": [
    "# Mandatory\n",
    "hs_access_token = naas.secret.get(\"HS_ACCESS_TOKEN\") or \"YOUR_HS_ACCESS_TOKEN\"\n",
    "contact_url = \"https://app.hubspot.com/contacts/2474088/record/0-1/315551\" # \"https://app.hubspot.com/contacts/xxxxx/record/0-1/xxxxx\"\n",
    "\n",
    "# Optional\n",
    "contact_properties = [\"hs_object_id\", \"firstname\", \"lastname\", 'email', 'linkedinbio', 'jobtitle']\n",
    "associations = [\"notes\", \"emails\", \"meetings\", \"communications\"]\n",
    "plugin_name = \"Sales Agent\"\n",
    "plugin_model = \"gpt-3.5-turbo-16k\"\n",
    "plugin_temperature = 0\n",
    "plugin_max_tokens = 16384\n",
    "plugin_file_name = \"posts_analyzer_plugin.json\""
   ]
  },
  {
   "cell_type": "code",
   "execution_count": null,
   "id": "53e3fb38-8a12-4bbe-b615-43c1280f5c80",
   "metadata": {
    "tags": []
   },
   "outputs": [],
   "source": [
    "# Parameters\n",
    "try:\n",
    "    contact_url = body.get(\"hubspot_profile_url\")\n",
    "except:\n",
    "    pass"
   ]
  },
  {
   "cell_type": "markdown",
   "id": "58f1d275-a026-45a5-8629-9b5f1f8b038f",
   "metadata": {
    "papermill": {},
    "tags": []
   },
   "source": [
    "## Model"
   ]
  },
  {
   "cell_type": "markdown",
   "id": "f0e82a5f-83c1-4d61-af17-a1e0ce040419",
   "metadata": {
    "papermill": {},
    "tags": []
   },
   "source": [
    "#### Engineer system prompt\n",
    "We used Playground to refined it: https://platform.openai.com/playground?mode=chat&model=gpt-4"
   ]
  },
  {
   "cell_type": "code",
   "execution_count": null,
   "id": "5bd6583c-630d-4307-88f8-e68e2a5b04ef",
   "metadata": {
    "papermill": {},
    "tags": []
   },
   "outputs": [],
   "source": [
    "system_prompt = f\"\"\"Act as a Sales Agent who has access to the Contact data from the CRM. \n",
    "Your role is to get data from a Hubspot Contact and define the next steps to be done to close a deal.\n",
    "You can use the function /hubspot_profile_url and copy/paste the HubSpot URL to get information from any contact in your CRM.\n",
    "\"\"\""
   ]
  },
  {
   "cell_type": "markdown",
   "id": "92fbf7e5-8449-4d2e-8f8c-ccc97077e41c",
   "metadata": {
    "papermill": {},
    "tags": []
   },
   "source": [
    "#### Check tokens count"
   ]
  },
  {
   "cell_type": "code",
   "execution_count": null,
   "id": "5573528a-2519-4d41-91f9-6d267d850929",
   "metadata": {
    "papermill": {},
    "tags": []
   },
   "outputs": [],
   "source": [
    "def num_tokens_from_string(string: str, encoding_name: str) -> int:\n",
    "    \"\"\"Returns the number of tokens in a text string.\"\"\"\n",
    "    encoding = tiktoken.get_encoding(encoding_name)\n",
    "    num_tokens = len(encoding.encode(string))\n",
    "    return num_tokens\n",
    "\n",
    "system_prompt_tokens = num_tokens_from_string(system_prompt, \"cl100k_base\")\n",
    "if system_prompt_tokens > plugin_max_tokens * 0.8:\n",
    "    print(\"⚠️ Be carefull, your system prompt looks too big. Tokens:\", system_prompt_tokens)\n",
    "else:\n",
    "    print(\"✅ System prompt tokens count OK:\", system_prompt_tokens, f'(limit: 20% -> {int(plugin_max_tokens * 0.2)})')"
   ]
  },
  {
   "cell_type": "markdown",
   "id": "f6ef36c3-13ab-45e5-97fb-3ba6e4c2ff99",
   "metadata": {
    "papermill": {},
    "tags": []
   },
   "source": [
    "### Get contact ID from URL"
   ]
  },
  {
   "cell_type": "code",
   "execution_count": null,
   "id": "c3588e3a-0829-485a-81c5-bcde7f137549",
   "metadata": {
    "papermill": {},
    "tags": []
   },
   "outputs": [],
   "source": [
    "def get_contact_ID_from_URL(url):\n",
    "    # Init\n",
    "    uid = url\n",
    "    \n",
    "    # Check if URL is valid\n",
    "    if not url.startswith(\"https://app.hubspot.com/contacts/\"):\n",
    "        raise BaseException(\"HubSpot URL Invalid! It must start by https://app.hubspot.com/contacts/\")\n",
    "    \n",
    "    # Split URL to get ID\n",
    "    if \"/record/0-1/\" in url:\n",
    "        uid = url.split(\"/record/0-1/\")[-1].split(\"/\")[0]\n",
    "    return uid\n",
    "\n",
    "contact_id = get_contact_ID_from_URL(contact_url)\n",
    "print(\"Contact ID:\", contact_id)"
   ]
  },
  {
   "cell_type": "markdown",
   "id": "dd600b6a-2298-421e-80d7-1d101e1aecb4",
   "metadata": {},
   "source": [
    "### Get contact details"
   ]
  },
  {
   "cell_type": "code",
   "execution_count": null,
   "id": "9c5c7fdf-be1e-4b0c-8cc2-705b460d00f3",
   "metadata": {
    "tags": []
   },
   "outputs": [],
   "source": [
    "def retrieve_object_details(\n",
    "    token,\n",
    "    object_id,\n",
    "    object_type,\n",
    "    properties=None,\n",
    "):\n",
    "    # Init\n",
    "    data = []\n",
    "    params = {\n",
    "        \"archived\": \"false\"\n",
    "    }\n",
    "    \n",
    "    # Requests\n",
    "    if properties:\n",
    "        params[\"properties\"] = properties\n",
    "    headers = {\n",
    "        \"Content-Type\": \"application/json\",\n",
    "        \"Authorization\": f\"Bearer {token}\"\n",
    "    }\n",
    "    url = f\"https://api.hubapi.com/crm/v3/objects/{object_type}/{object_id}\"\n",
    "    \n",
    "    # Response\n",
    "    res = requests.get(url, headers=headers, params=params)\n",
    "    if res.status_code == 200:\n",
    "        data = res.json().get(\"properties\")\n",
    "    else:\n",
    "        print(res.text)\n",
    "    return pd.DataFrame([data])\n",
    "\n",
    "def create_activity_df(\n",
    "    token,\n",
    "    object_id,\n",
    "    activity,\n",
    "    properties_dict=None,\n",
    "):\n",
    "    # Init\n",
    "    properties = [x for x in properties_dict]\n",
    "    \n",
    "    # List activities\n",
    "    df = retrieve_object_details(\n",
    "        token,\n",
    "        object_id,\n",
    "        activity,\n",
    "        properties\n",
    "    )\n",
    "    if len(df) > 0:\n",
    "        df = df[properties]\n",
    "        \n",
    "    if len(df) > 0:\n",
    "        df = df.rename(columns=properties_dict)\n",
    "        if 'activity_type' not in df:\n",
    "            df.insert(loc=1, column=\"activity_type\", value=activity.upper())\n",
    "    \n",
    "    return df.reset_index(drop=True)\n",
    "\n",
    "def get_contact_details(\n",
    "    hs_access_token,\n",
    "    contact_id,\n",
    "    properties,\n",
    "    associations\n",
    "):\n",
    "    # Init\n",
    "    message = \"CONTACT:\\n\"\n",
    "    df = pd.DataFrame()\n",
    "    \n",
    "    # Get contact\n",
    "    contact = hubspot.connect(hs_access_token).contacts.get(\n",
    "        contact_id,\n",
    "        hs_properties=properties,\n",
    "        hs_associations=associations\n",
    "    )\n",
    "    \n",
    "    # Get contact properties\n",
    "    contact_properties = contact.get(\"properties\")\n",
    "    for p in properties:\n",
    "        message = f\"{message}- {p}: {contact_properties.get(p)}\\n\"\n",
    "    \n",
    "    # Get contact associations\n",
    "    contact_associations = contact.get(\"associations\")\n",
    "    for a in contact_associations:\n",
    "        results = contact_associations.get(a).get(\"results\")\n",
    "        for r in results:\n",
    "            if a == \"communications\":\n",
    "                properties_dict = {\n",
    "                    \"hs_object_id\": \"activity_hs_id\",\n",
    "                    \"hs_lastmodifieddate\": \"activity_date\",\n",
    "                    \"hs_communication_channel_type\": \"activity_type\",\n",
    "                    \"hs_body_preview\": \"activity_content\"\n",
    "                }\n",
    "            elif a == \"meetings\":\n",
    "                properties_dict = {\n",
    "                    \"hs_object_id\": \"activity_hs_id\",\n",
    "                    \"hs_lastmodifieddate\": \"activity_date\",\n",
    "                    \"hs_meeting_title\": \"activity_content\"\n",
    "                }\n",
    "            else:\n",
    "                properties_dict = {\n",
    "                    \"hs_object_id\": \"activity_hs_id\",\n",
    "                    \"hs_lastmodifieddate\": \"activity_date\",\n",
    "                    \"hs_body_preview\": \"activity_content\"\n",
    "                }\n",
    "            association_id = r.get(\"id\")\n",
    "            \n",
    "            # Create activity df\n",
    "            tmp_df = create_activity_df(\n",
    "                hs_access_token,\n",
    "                association_id,\n",
    "                a,\n",
    "                properties_dict\n",
    "            )\n",
    "            df = pd.concat([df, tmp_df])\n",
    "    \n",
    "    # Cleaning df\n",
    "    if len(df) > 0:\n",
    "        # Exclude empty or None value\n",
    "        df = df[~(df[\"activity_content\"].astype(str).isin([\"None\"]))]\n",
    "\n",
    "        # Format date\n",
    "        df[\"activity_date\"] = pd.to_datetime(df[\"activity_date\"]).dt.strftime(\"%Y-%m-%d %H:%M:%S\")\n",
    "        df = df.sort_values(by=\"activity_date\").reset_index(drop=True)\n",
    "            \n",
    "    # Create activity message\n",
    "    message = f\"{message}\\nACTIVITIES:\\n\"\n",
    "    for row in df.itertuples():\n",
    "        activity_date = row.activity_date\n",
    "        activity_type = row.activity_type\n",
    "        activity_content = row.activity_content.replace(\"\\xa0\\u200c\", \"\")\n",
    "        message = f\"{message}-{activity_date}: {activity_type} - {activity_content}\\n\"\n",
    "    return message, df.reset_index(drop=True)\n",
    "\n",
    "prompt_message, df_activity = get_contact_details(\n",
    "    hs_access_token,\n",
    "    contact_id,\n",
    "    contact_properties,\n",
    "    associations\n",
    ")\n",
    "print(prompt_message)"
   ]
  },
  {
   "cell_type": "markdown",
   "id": "6e9729cd-8e75-4c13-a06c-87afb9923e53",
   "metadata": {
    "papermill": {},
    "tags": []
   },
   "source": [
    "## Output"
   ]
  },
  {
   "cell_type": "markdown",
   "id": "f09fcd0a-5b7f-4a96-9822-f4a6995a6ac0",
   "metadata": {
    "execution": {
     "iopub.execute_input": "2023-08-21T14:13:58.779716Z",
     "iopub.status.busy": "2023-08-21T14:13:58.779474Z",
     "iopub.status.idle": "2023-08-21T14:13:58.784746Z",
     "shell.execute_reply": "2023-08-21T14:13:58.784135Z",
     "shell.execute_reply.started": "2023-08-21T14:13:58.779693Z"
    },
    "papermill": {},
    "tags": []
   },
   "source": [
    "### Save DataFrame to CSV"
   ]
  },
  {
   "cell_type": "code",
   "execution_count": null,
   "id": "62e3f7af-5383-45fc-b5ec-31796a179f34",
   "metadata": {
    "papermill": {},
    "tags": []
   },
   "outputs": [],
   "source": [
    "df_activity.to_csv(f\"contact_activity_{contact_id}.csv\", index=False)"
   ]
  },
  {
   "cell_type": "markdown",
   "id": "e9e74993-0dcf-41e2-a1bb-e5917603e85b",
   "metadata": {
    "papermill": {},
    "tags": []
   },
   "source": [
    "### Add webhook"
   ]
  },
  {
   "cell_type": "code",
   "execution_count": null,
   "id": "b244b95e-dbfa-4714-83ed-5931612fd670",
   "metadata": {
    "papermill": {},
    "tags": []
   },
   "outputs": [],
   "source": [
    "webhook_url = naas.webhook.add(params={\"inline\": True})\n",
    "\n",
    "# to de-schedule this notebook, simply run the following command:\n",
    "# naas.scheduler.delete()"
   ]
  },
  {
   "cell_type": "markdown",
   "id": "d12c841e-5924-4e79-b565-88295343ba0c",
   "metadata": {
    "papermill": {},
    "tags": []
   },
   "source": [
    " "
   ]
  },
  {
   "cell_type": "markdown",
   "id": "e1649158-f4e6-40c4-a2cb-f0c439644c99",
   "metadata": {},
   "source": [
    "### Create webhook response"
   ]
  },
  {
   "cell_type": "code",
   "execution_count": null,
   "id": "25d8edf0-8bfa-47c8-8055-9e333c518c6d",
   "metadata": {
    "tags": []
   },
   "outputs": [],
   "source": [
    "response_json = {\n",
    "    \"status\": \"OK\",\n",
    "    \"message\": prompt_message,\n",
    "}\n",
    "naas.webhook.respond_json(response_json)"
   ]
  },
  {
   "cell_type": "markdown",
   "id": "74d1125d-1735-46c9-9008-8fc9f300bfa2",
   "metadata": {
    "papermill": {},
    "tags": []
   },
   "source": [
    "### Generate plugin\n",
    "Plugin must be a JSON file with mandatory keys name, model, temperature, max_tokens and prompt"
   ]
  },
  {
   "cell_type": "code",
   "execution_count": null,
   "id": "3e78d3be-daf5-4af0-95cb-548a14d59b97",
   "metadata": {
    "papermill": {},
    "tags": []
   },
   "outputs": [],
   "source": [
    "# Create json\n",
    "plugin = {\n",
    "    \"name\": plugin_name,\n",
    "    \"model\": plugin_model,\n",
    "    \"temperature\": plugin_temperature,\n",
    "    \"max_tokens\": plugin_max_tokens,\n",
    "    \"prompt\": system_prompt,\n",
    "    \"commands\": [\n",
    "        { \n",
    "            \"name\": \"HubSpot_Create_Contact_from_LinkedIn_Profile\",\n",
    "            \"action\": {\n",
    "                \"request_type\": \"POST\",\n",
    "                \"url\": webhook_url,\n",
    "                \"payload\": {\n",
    "                    \"hubspot_profile_url\": {\n",
    "                        \"type\": \"str\",\n",
    "                        \"description\": \"HubSpot profile url that you want to fetch. Ex: https://app.hubspot.com/contacts/2474088/record/0-1/308551/view/1\",\n",
    "                        \"default\": \"\"\n",
    "                    },\n",
    "                }\n",
    "            }\n",
    "        }\n",
    "    ]\n",
    "}\n",
    "\n",
    "# Save dict to JSON file\n",
    "with open(plugin_file_name, \"w\") as f:\n",
    "    json.dump(plugin, f)\n",
    "print(\"💾 Plugin successfully saved:\", plugin_file_name)"
   ]
  },
  {
   "cell_type": "markdown",
   "id": "fce5b5d8-e68d-4eba-bcab-63724e2b2795",
   "metadata": {
    "papermill": {},
    "tags": []
   },
   "source": [
    "### Create asset\n",
    "You can now use in your Naas Chat by copy/pasting the URL after the command `/use `"
   ]
  },
  {
   "cell_type": "code",
   "execution_count": null,
   "id": "399ad4c9-153f-42b6-8a24-3cddd4d29a6e",
   "metadata": {
    "papermill": {},
    "tags": []
   },
   "outputs": [],
   "source": [
    "naas.asset.add(plugin_file_name, params={\"inline\": True})"
   ]
  }
 ],
 "metadata": {
  "kernelspec": {
   "display_name": "Python 3",
   "language": "python",
   "name": "python3"
  },
  "language_info": {
   "codemirror_mode": {
    "name": "ipython",
    "version": 3
   },
   "file_extension": ".py",
   "mimetype": "text/x-python",
   "name": "python",
   "nbconvert_exporter": "python",
   "pygments_lexer": "ipython3",
   "version": "3.9.6"
  },
  "naas": {
   "notebook_id": "06b11cf336c1e0d493eb89898cd3a39adcb000113e2f74b4d12d64c5e7f04932",
   "notebook_path": "HubSpot/HubSpot_Get_activities_from_contact.ipynb"
  },
  "papermill": {
   "default_parameters": {},
   "environment_variables": {},
   "parameters": {},
   "version": "2.4.0"
  },
  "widgets": {
   "application/vnd.jupyter.widget-state+json": {
    "state": {},
    "version_major": 2,
    "version_minor": 0
   }
  }
 },
 "nbformat": 4,
 "nbformat_minor": 5
}
