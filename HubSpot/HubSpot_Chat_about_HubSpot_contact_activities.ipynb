{
 "cells": [
  {
   "cell_type": "markdown",
   "id": "2941f21e-9512-4dfa-ae56-1687b9e5d790",
   "metadata": {
    "papermill": {},
    "tags": []
   },
   "source": [
    "<img width=\"10%\" alt=\"Naas\" src=\"https://landen.imgix.net/jtci2pxwjczr/assets/5ice39g4.png?w=160\"/>"
   ]
  },
  {
   "cell_type": "markdown",
   "id": "e5d412ec-3ff6-4368-82c7-e9c863b00173",
   "metadata": {
    "papermill": {},
    "tags": []
   },
   "source": [
    "# HubSpot - Chat about HubSpot contact activities"
   ]
  },
  {
   "cell_type": "markdown",
   "id": "35e65348-5aa0-4247-962f-25f255074e73",
   "metadata": {
    "papermill": {},
    "tags": []
   },
   "source": [
    "**Tags:** #hubspot #chat #contact #activities #python #api"
   ]
  },
  {
   "cell_type": "markdown",
   "id": "fce22fc8-1d50-41b2-8071-cdfbfa71561d",
   "metadata": {
    "papermill": {},
    "tags": []
   },
   "source": [
    "**Author:** [Florent Ravenel](https://www.linkedin.com/in/florent-ravenel)"
   ]
  },
  {
   "cell_type": "markdown",
   "id": "8e0ab91e-134d-4ed1-af38-618724536398",
   "metadata": {
    "papermill": {},
    "tags": []
   },
   "source": [
    "**Last update:** 2023-08-24 (Created: 2023-08-24)"
   ]
  },
  {
   "cell_type": "markdown",
   "id": "a28e82a4-29e7-4605-8a0c-541050c2091d",
   "metadata": {
    "papermill": {},
    "tags": []
   },
   "source": [
    "**Description:** This notebook will discuss HubSpot contact activities and how to use the HubSpot API to chat with contacts. It will be useful for organizations to better understand their contact activities."
   ]
  },
  {
   "cell_type": "markdown",
   "id": "10c49949-f04c-4220-a4bf-93d2e5beec86",
   "metadata": {
    "papermill": {},
    "tags": []
   },
   "source": [
    "**References:**\n- [HubSpot API Documentation](https://developers.hubspot.com/docs/overview)\n- [HubSpot API Chat Documentation](https://developers.hubspot.com/docs/methods/chat/chat-overview)"
   ]
  },
  {
   "cell_type": "markdown",
   "id": "7f0af185-2a05-4ba4-82ab-73db21d619bf",
   "metadata": {
    "papermill": {},
    "tags": []
   },
   "source": [
    "## Input"
   ]
  },
  {
   "cell_type": "markdown",
   "id": "0726b701-ed7b-4bbf-a2b8-4358ae69d460",
   "metadata": {
    "papermill": {},
    "tags": []
   },
   "source": [
    "### Import libraries"
   ]
  },
  {
   "cell_type": "code",
   "execution_count": null,
   "id": "9979b347-eb24-4854-b150-bb8048f24db6",
   "metadata": {
    "papermill": {},
    "tags": []
   },
   "source": "import requests\nimport json",
   "outputs": []
  },
  {
   "cell_type": "markdown",
   "id": "38601531-93c6-439a-ba93-71210e3cc85e",
   "metadata": {
    "papermill": {},
    "tags": []
   },
   "source": [
    "### Setup variables\n- **api_key**: API key to access the HubSpot API. [Instructions to get an API key](https://knowledge.hubspot.com/articles/kcs_article/integrations/how-do-i-get-my-hubspot-api-key).\n- **contact_id**: ID of the contact to chat with."
   ]
  },
  {
   "cell_type": "code",
   "execution_count": null,
   "id": "fde64a3e-5b97-4882-8c8a-bc595469aaa9",
   "metadata": {
    "papermill": {},
    "tags": []
   },
   "source": "api_key = \"<YOUR_API_KEY>\"\ncontact_id = \"<YOUR_CONTACT_ID>\"",
   "outputs": []
  },
  {
   "cell_type": "markdown",
   "id": "430dcc5b-0ff9-4462-bfc9-1b781662566d",
   "metadata": {
    "papermill": {},
    "tags": []
   },
   "source": [
    "## Model"
   ]
  },
  {
   "cell_type": "markdown",
   "id": "6a401a8c-dfa8-4030-afd4-1d52780e44c1",
   "metadata": {
    "papermill": {},
    "tags": []
   },
   "source": [
    "### Chat with contact"
   ]
  },
  {
   "cell_type": "markdown",
   "id": "4da27c3e-901c-42c4-8cb1-a397e0f46af4",
   "metadata": {
    "papermill": {},
    "tags": []
   },
   "source": [
    "This function will use the HubSpot API to chat with a contact."
   ]
  },
  {
   "cell_type": "code",
   "execution_count": null,
   "id": "57a385fb-8db5-4052-9e5c-6aa0885b5e25",
   "metadata": {
    "papermill": {},
    "tags": []
   },
   "source": "def chat_with_contact(api_key, contact_id):\n    # Set the request URL\n    url = f\"https://api.hubapi.com/chat/v1/contacts/{contact_id}/messages\"\n\n    # Set the request headers\n    headers = {\"Content-Type\": \"application/json\", \"Authorization\": f\"Bearer {api_key}\"}\n\n    # Set the request body\n    body = {\"message\": \"Hello, how can I help you?\"}\n\n    # Make the POST request\n    response = requests.post(url, headers=headers, data=json.dumps(body))\n\n    # Return the response\n    return response",
   "outputs": []
  },
  {
   "cell_type": "markdown",
   "id": "b23f3801-1546-4b3c-8a9d-fe7c79da890a",
   "metadata": {
    "papermill": {},
    "tags": []
   },
   "source": [
    "## Output"
   ]
  },
  {
   "cell_type": "markdown",
   "id": "b6759936-4d12-4731-a79f-0d7e39f6b4d4",
   "metadata": {
    "papermill": {},
    "tags": []
   },
   "source": [
    "### Display result"
   ]
  },
  {
   "cell_type": "code",
   "execution_count": null,
   "id": "102dbc95-39fa-446b-a431-55caf7325da7",
   "metadata": {
    "papermill": {},
    "tags": []
   },
   "source": "response = chat_with_contact(api_key, contact_id)\nprint(response.status_code)\nprint(response.text)",
   "outputs": []
  },
  {
   "cell_type": "markdown",
   "id": "846792e5-2a86-485f-9c5b-6ee0ea1edcd0",
   "metadata": {
    "papermill": {},
    "tags": []
   },
   "source": [
    " "
   ]
  }
 ],
 "metadata": {
  "kernelspec": {
   "display_name": "Python 3",
   "language": "python",
   "name": "python3"
  },
  "language_info": {
   "codemirror_mode": {
    "name": "ipython",
    "version": 3
   },
   "file_extension": ".py",
   "mimetype": "text/x-python",
   "name": "python",
   "nbconvert_exporter": "python",
   "pygments_lexer": "ipython3",
   "version": "3.9.6"
  },
  "widgets": {
   "application/vnd.jupyter.widget-state+json": {
    "state": {},
    "version_major": 2,
    "version_minor": 0
   }
  }
 },
 "nbformat": 4,
 "nbformat_minor": 5
}