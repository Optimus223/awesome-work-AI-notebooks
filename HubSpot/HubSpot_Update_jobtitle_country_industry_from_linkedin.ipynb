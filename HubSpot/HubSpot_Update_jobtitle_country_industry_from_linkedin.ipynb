{
 "cells": [
  {
   "cell_type": "markdown",
   "id": "celtic-athletics",
   "metadata": {
    "papermill": {},
    "tags": []
   },
   "source": [
    "<img width=\"10%\" alt=\"Naas\" src=\"https://landen.imgix.net/jtci2pxwjczr/assets/5ice39g4.png?w=160\"/>"
   ]
  },
  {
   "cell_type": "markdown",
   "id": "forward-caution",
   "metadata": {
    "papermill": {},
    "tags": []
   },
   "source": [
    "# HubSpot - Update jobtitle country industry from linkedin\n",
    "<a href=\"https://app.naas.ai/user-redirect/naas/downloader?url=https://raw.githubusercontent.com/jupyter-naas/awesome-notebooks/master/HubSpot/HubSpot_Update_jobtitle_country_industry_from_linkedin.ipynb\" target=\"_parent\"><img src=\"https://naasai-public.s3.eu-west-3.amazonaws.com/open_in_naas.svg\"/></a><br><br><a href=\"https://github.com/jupyter-naas/awesome-notebooks/issues/new?assignees=&labels=&template=template-request.md&title=Tool+-+Action+of+the+notebook+\">Template request</a> | <a href=\"https://github.com/jupyter-naas/awesome-notebooks/issues/new?assignees=&labels=bug&template=bug_report.md&title=HubSpot+-+Update+jobtitle+country+industry+from+linkedin:+Error+short+description\">Bug report</a>"
   ]
  },
  {
   "cell_type": "markdown",
   "id": "earlier-couple",
   "metadata": {
    "papermill": {},
    "tags": []
   },
   "source": [
    "**Tags:** #hubspot #crm #sales #contact #naas_drivers #linkedin #identity #scheduler #naas #automation"
   ]
  },
  {
   "cell_type": "markdown",
   "id": "ae835485-2497-4d77-9269-3b9d0c50982c",
   "metadata": {
    "papermill": {},
    "tags": []
   },
   "source": [
    "**Author:** [Florent Ravenel](https://www.linkedin.com/in/florent-ravenel/)"
   ]
  },
  {
   "cell_type": "markdown",
   "id": "seasonal-assignment",
   "metadata": {
    "papermill": {},
    "tags": []
   },
   "source": [
    "## Input"
   ]
  },
  {
   "cell_type": "markdown",
   "id": "imperial-pressing",
   "metadata": {
    "papermill": {},
    "tags": []
   },
   "source": [
    "### Import library"
   ]
  },
  {
   "cell_type": "code",
   "execution_count": null,
   "id": "configured-banking",
   "metadata": {
    "papermill": {},
    "tags": []
   },
   "outputs": [],
   "source": [
    "from naas_drivers import hubspot, linkedin\n",
    "import naas\n",
    "import pandas as pd"
   ]
  },
  {
   "cell_type": "markdown",
   "id": "average-yield",
   "metadata": {
    "papermill": {},
    "tags": []
   },
   "source": [
    "### Setup your HubSpot\n",
    "👉 Access your [HubSpot API key](https://knowledge.hubspot.com/integrations/how-do-i-get-my-hubspot-api-key)"
   ]
  },
  {
   "cell_type": "code",
   "execution_count": 1,
   "id": "single-empty",
   "metadata": {
    "execution": {
     "iopub.execute_input": "2022-02-21T08:22:54.860389Z",
     "iopub.status.busy": "2022-02-21T08:22:54.860104Z",
     "iopub.status.idle": "2022-02-21T08:22:54.866287Z",
     "shell.execute_reply": "2022-02-21T08:22:54.865654Z",
     "shell.execute_reply.started": "2022-02-21T08:22:54.860313Z"
    },
    "papermill": {},
    "tags": []
   },
   "outputs": [],
   "source": [
    "HS_API_KEY = 'YOUR_HUBSPOT_API_KEY'"
   ]
  },
  {
   "cell_type": "markdown",
   "id": "controlled-frame",
   "metadata": {
    "papermill": {},
    "tags": []
   },
   "source": [
    "### Setup your LinkedIn\n",
    "👉 Get <a href='https://www.notion.so/LinkedIn-driver-Get-your-cookies-d20a8e7e508e42af8a5b52e33f3dba75'>your cookies</a>"
   ]
  },
  {
   "cell_type": "code",
   "execution_count": null,
   "id": "piano-charter",
   "metadata": {
    "papermill": {},
    "tags": []
   },
   "outputs": [],
   "source": [
    "LI_AT = 'YOUR_COOKIE_LI_AT'  # EXAMPLE AQFAzQN_PLPR4wAAAXc-FCKmgiMit5FLdY1af3-2\n",
    "JSESSIONID = 'YOUR_COOKIE_JSESSIONID'  # EXAMPLE ajax:8379907400220387585"
   ]
  },
  {
   "cell_type": "markdown",
   "id": "changing-setup",
   "metadata": {
    "papermill": {},
    "tags": []
   },
   "source": [
    "### Setup Naas"
   ]
  },
  {
   "cell_type": "code",
   "execution_count": null,
   "id": "potential-annotation",
   "metadata": {
    "papermill": {},
    "tags": []
   },
   "outputs": [],
   "source": [
    "naas.scheduler.add(cron=\"0 8 * * *\")\n",
    "\n",
    "#-> Uncomment the line below (by removing the hashtag) to remove your scheduler\n",
    "# naas.scheduler.delete()"
   ]
  },
  {
   "cell_type": "markdown",
   "id": "extreme-anatomy",
   "metadata": {
    "papermill": {},
    "tags": []
   },
   "source": [
    "## Model"
   ]
  },
  {
   "cell_type": "markdown",
   "id": "through-bacteria",
   "metadata": {
    "papermill": {},
    "tags": []
   },
   "source": [
    "### Get all contacts in Hubspot"
   ]
  },
  {
   "cell_type": "code",
   "execution_count": null,
   "id": "sacred-finding",
   "metadata": {
    "papermill": {},
    "tags": []
   },
   "outputs": [],
   "source": [
    "properties_list = [\n",
    "    \"hs_object_id\",\n",
    "    \"firstname\",\n",
    "    \"lastname\",\n",
    "    \"linkedinbio\",\n",
    "    \"jobtitle\",\n",
    "    \"country\",\n",
    "    \"industry\",\n",
    "]\n",
    "hubspot_contacts = hubspot.connect(HS_API_KEY).contacts.get_all(properties_list)\n",
    "hubspot_contacts"
   ]
  },
  {
   "cell_type": "markdown",
   "id": "sonic-april",
   "metadata": {
    "papermill": {},
    "tags": []
   },
   "source": [
    "### Filter to get \"jobtitle\", \"country\", \"industry\" = \"Not Defined\" and \"linkedinbio\" = defined"
   ]
  },
  {
   "cell_type": "code",
   "execution_count": null,
   "id": "expanded-stopping",
   "metadata": {
    "papermill": {},
    "tags": []
   },
   "outputs": [],
   "source": [
    "df_to_update = hubspot_contacts.copy()\n",
    "\n",
    "# Cleaning\n",
    "df_to_update = df_to_update.fillna(\"Not Defined\")\n",
    "\n",
    "# Filter on \"Not defined\"\n",
    "df_to_update = df_to_update[(df_to_update.linkedinbio != \"Not Defined\") &\n",
    "                            (df_to_update.jobtitle == \"Not Defined\") &\n",
    "                            (df_to_update.country == \"Not Defined\") & \n",
    "                            (df_to_update.industry == \"Not Defined\")]\n",
    "\n",
    "# Limit to last 50 contacts\n",
    "df_to_update = df_to_update.sort_values(by=\"createdate\", ascending=False)[:50].reset_index(drop=True)\n",
    "\n",
    "df_to_update"
   ]
  },
  {
   "cell_type": "markdown",
   "id": "understood-hunger",
   "metadata": {
    "papermill": {},
    "tags": []
   },
   "source": [
    "### Get identity from Linkedin"
   ]
  },
  {
   "cell_type": "code",
   "execution_count": null,
   "id": "generic-liverpool",
   "metadata": {
    "papermill": {},
    "tags": []
   },
   "outputs": [],
   "source": [
    "for _, row in df_to_update.iterrows():\n",
    "    linkedinbio = row.linkedinbio\n",
    "    \n",
    "    # Get followers\n",
    "    df = linkedin.connect(LI_AT, JSESSIONID).profile.get_identity(linkedinbio)\n",
    "    jobtitle = df.loc[0, \"OCCUPATION\"]\n",
    "    industry = df.loc[0, \"INDUSTRY_NAME\"]\n",
    "    country = df.loc[0, \"COUNTRY\"]\n",
    "        \n",
    "    # Get linkedinbio\n",
    "    df_to_update.loc[_, \"jobtitle\"] = jobtitle\n",
    "    df_to_update.loc[_, \"industry\"] = industry\n",
    "    df_to_update.loc[_, \"country\"] = country\n",
    "    \n",
    "df_to_update"
   ]
  },
  {
   "cell_type": "markdown",
   "id": "immune-digest",
   "metadata": {
    "papermill": {},
    "tags": []
   },
   "source": [
    "## Output"
   ]
  },
  {
   "cell_type": "markdown",
   "id": "romantic-trading",
   "metadata": {
    "papermill": {},
    "tags": []
   },
   "source": [
    "### Update jobtitle, country, industry in Hubspot"
   ]
  },
  {
   "cell_type": "code",
   "execution_count": null,
   "id": "fleet-andrew",
   "metadata": {
    "papermill": {},
    "tags": []
   },
   "outputs": [],
   "source": [
    "for _, row in df_to_update.iterrows():\n",
    "    # Init data\n",
    "    data = {}\n",
    "    \n",
    "    # Get data\n",
    "    hs_object_id = row.hs_object_id\n",
    "    jobtitle = row.jobtitle\n",
    "    industry = row.industry\n",
    "    country = row.country\n",
    "\n",
    "    # Update \n",
    "    if jobtitle != None:\n",
    "        data = {\"properties\": \n",
    "                {\"jobtitle\": jobtitle,\n",
    "                 \"industry\": industry,\n",
    "                 \"country\": country}\n",
    "               }\n",
    "    hubspot.connect(HS_API_KEY).contacts.patch(hs_object_id, data)"
   ]
  }
 ],
 "metadata": {
  "kernelspec": {
   "display_name": "Python 3",
   "language": "python",
   "name": "python3"
  },
  "language_info": {
   "codemirror_mode": {
    "name": "ipython",
    "version": 3
   },
   "file_extension": ".py",
   "mimetype": "text/x-python",
   "name": "python",
   "nbconvert_exporter": "python",
   "pygments_lexer": "ipython3",
   "version": "3.9.6"
  },
  "naas": {
   "notebook_id": "0ca102cd-8c42-48a9-90b2-8a469800e80e",
   "notebook_path": "HubSpot/HubSpot_Update_jobtitle_country_industry_from_linkedin.ipynb"
  },
  "papermill": {
   "default_parameters": {},
   "environment_variables": {},
   "parameters": {},
   "version": "2.3.3"
  }
 },
 "nbformat": 4,
 "nbformat_minor": 5
}