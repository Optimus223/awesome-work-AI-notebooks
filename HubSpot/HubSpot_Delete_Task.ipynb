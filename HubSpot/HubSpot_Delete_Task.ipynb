{
 "cells": [
  {
   "cell_type": "markdown",
   "id": "latin-packing",
   "metadata": {
    "execution": {
     "iopub.execute_input": "2021-02-23T14:22:16.610471Z",
     "iopub.status.busy": "2021-02-23T14:22:16.610129Z",
     "iopub.status.idle": "2021-02-23T14:22:16.627784Z",
     "shell.execute_reply": "2021-02-23T14:22:16.626866Z",
     "shell.execute_reply.started": "2021-02-23T14:22:16.610384Z"
    },
    "papermill": {},
    "tags": []
   },
   "source": [
    "<img width=\"10%\" alt=\"Naas\" src=\"https://landen.imgix.net/jtci2pxwjczr/assets/5ice39g4.png?w=160\"/>"
   ]
  },
  {
   "cell_type": "markdown",
   "id": "compressed-wilson",
   "metadata": {
    "papermill": {},
    "tags": []
   },
   "source": [
    "# HubSpot - Delete Task\n",
    "<a href=\"https://app.naas.ai/user-redirect/naas/downloader?url=https://raw.githubusercontent.com/jupyter-naas/awesome-notebooks/master/HubSpot/HubSpot_Delete_Task.ipynb\" target=\"_parent\"><img src=\"https://naasai-public.s3.eu-west-3.amazonaws.com/open_in_naas.svg\"/></a><br><br><a href=\"https://github.com/jupyter-naas/awesome-notebooks/issues/new?assignees=&labels=&template=template-request.md&title=Tool+-+Action+of+the+notebook+\">Template request</a> | <a href=\"https://github.com/jupyter-naas/awesome-notebooks/issues/new?assignees=&labels=bug&template=bug_report.md&title=HubSpot+-+Delete+Task:+Error+short+description\">Bug report</a>"
   ]
  },
  {
   "cell_type": "markdown",
   "id": "religious-programmer",
   "metadata": {
    "papermill": {},
    "tags": []
   },
   "source": [
    "**Tags:** #hubspot #sales #crm #engagements #task #snippet"
   ]
  },
  {
   "cell_type": "markdown",
   "id": "1fe9f56e-561c-4f52-aef8-b861c9462107",
   "metadata": {
    "papermill": {},
    "tags": []
   },
   "source": [
    "**Author:** [Alok Chilka](https://www.linkedin.com/in/calok64/)"
   ]
  },
  {
   "cell_type": "markdown",
   "id": "distinguished-truth",
   "metadata": {
    "papermill": {},
    "tags": []
   },
   "source": [
    "## Input"
   ]
  },
  {
   "cell_type": "markdown",
   "id": "numeric-mediterranean",
   "metadata": {
    "papermill": {},
    "tags": []
   },
   "source": [
    "### Import libraries"
   ]
  },
  {
   "cell_type": "code",
   "execution_count": 35,
   "id": "potential-surfing",
   "metadata": {
    "execution": {
     "iopub.execute_input": "2022-03-12T02:37:07.019978Z",
     "iopub.status.busy": "2022-03-12T02:37:07.019720Z",
     "iopub.status.idle": "2022-03-12T02:37:07.022804Z",
     "shell.execute_reply": "2022-03-12T02:37:07.022132Z",
     "shell.execute_reply.started": "2022-03-12T02:37:07.019953Z"
    },
    "papermill": {},
    "tags": []
   },
   "outputs": [],
   "source": [
    "from datetime import datetime, timedelta\n",
    "import requests, math\n",
    "import json"
   ]
  },
  {
   "cell_type": "markdown",
   "id": "c08dd35d-d963-4bfc-9837-875b679b1d3d",
   "metadata": {
    "papermill": {},
    "tags": []
   },
   "source": [
    "### Setup your HubSpot\n",
    "👉 Access your [HubSpot API key](https://knowledge.hubspot.com/integrations/how-do-i-get-my-hubspot-api-key)"
   ]
  },
  {
   "cell_type": "code",
   "execution_count": 1,
   "id": "36bd049b-d707-4871-8bab-7f592cd9e391",
   "metadata": {
    "execution": {
     "iopub.execute_input": "2022-03-12T05:49:09.602327Z",
     "iopub.status.busy": "2022-03-12T05:49:09.602060Z",
     "iopub.status.idle": "2022-03-12T05:49:09.608328Z",
     "shell.execute_reply": "2022-03-12T05:49:09.607701Z",
     "shell.execute_reply.started": "2022-03-12T05:49:09.602262Z"
    },
    "papermill": {},
    "tags": []
   },
   "outputs": [],
   "source": [
    "HS_API_TOKEN = \"YOUR_HUBSPOT_API_KEY\" "
   ]
  },
  {
   "cell_type": "markdown",
   "id": "aggressive-trustee",
   "metadata": {
    "papermill": {},
    "tags": []
   },
   "source": [
    "### Setup your task info"
   ]
  },
  {
   "cell_type": "code",
   "execution_count": 41,
   "id": "ab201c68-7b10-46b1-a3df-2453f2ad59b5",
   "metadata": {
    "execution": {
     "iopub.execute_input": "2022-03-12T02:37:37.090482Z",
     "iopub.status.busy": "2022-03-12T02:37:37.090260Z",
     "iopub.status.idle": "2022-03-12T02:37:37.093202Z",
     "shell.execute_reply": "2022-03-12T02:37:37.092539Z",
     "shell.execute_reply.started": "2022-03-12T02:37:37.090458Z"
    },
    "papermill": {},
    "tags": []
   },
   "outputs": [],
   "source": [
    "task_id = 19996680052"
   ]
  },
  {
   "cell_type": "markdown",
   "id": "registered-showcase",
   "metadata": {
    "papermill": {},
    "tags": []
   },
   "source": [
    "## Model"
   ]
  },
  {
   "cell_type": "markdown",
   "id": "321e0cc4-7648-48d2-989c-6250a6f3a9a0",
   "metadata": {
    "papermill": {},
    "tags": []
   },
   "source": [
    "### Function to get recent tasks"
   ]
  },
  {
   "cell_type": "code",
   "execution_count": 42,
   "id": "dff59c04-748c-4604-9b2f-d16e8553bf29",
   "metadata": {
    "execution": {
     "iopub.execute_input": "2022-03-12T02:37:38.152941Z",
     "iopub.status.busy": "2022-03-12T02:37:38.152718Z",
     "iopub.status.idle": "2022-03-12T02:37:38.157222Z",
     "shell.execute_reply": "2022-03-12T02:37:38.156566Z",
     "shell.execute_reply.started": "2022-03-12T02:37:38.152917Z"
    },
    "papermill": {},
    "tags": []
   },
   "outputs": [],
   "source": [
    "def delete_task(uid):\n",
    "    #set headers\n",
    "    params = {\"hapikey\": HS_API_TOKEN}\n",
    "    headers = {'Content-Type': \"application/json\"}\n",
    "    \n",
    "    #check if tasks already exist\n",
    "    get_url = \"https://api.hubapi.com/engagements/v1/engagements/\"\n",
    "    get_res = requests.get(\n",
    "                url=f\"{get_url}/{uid}\",\n",
    "                headers= headers,\n",
    "                params= params,\n",
    "                allow_redirects=False,    \n",
    "    )\n",
    "    if get_res.status_code == 200:\n",
    "        print(\"Task found..Deleting\")\n",
    "        #delete task\n",
    "        del_url = \"http://api.hubapi.com/engagements/v1/engagements/\"\n",
    "    \n",
    "        # Post requests\n",
    "        res = requests.delete(\n",
    "                url=f\"{url}/{uid}\",\n",
    "                headers= headers,\n",
    "                params= params,\n",
    "                allow_redirects=False,\n",
    "            )\n",
    "    else:\n",
    "        print(\"Task not found. Unable to delete\")"
   ]
  },
  {
   "cell_type": "markdown",
   "id": "lonely-pacific",
   "metadata": {
    "execution": {
     "iopub.execute_input": "2021-07-02T23:32:10.789097Z",
     "iopub.status.busy": "2021-07-02T23:32:10.788829Z",
     "iopub.status.idle": "2021-07-02T23:32:10.796900Z",
     "shell.execute_reply": "2021-07-02T23:32:10.796358Z",
     "shell.execute_reply.started": "2021-07-02T23:32:10.789033Z"
    },
    "papermill": {},
    "tags": []
   },
   "source": [
    "## Output"
   ]
  },
  {
   "cell_type": "markdown",
   "id": "linear-address",
   "metadata": {
    "papermill": {},
    "tags": []
   },
   "source": [
    "### Delete task"
   ]
  },
  {
   "cell_type": "code",
   "execution_count": 43,
   "id": "c7cd3e0f-2168-456a-9299-5017dae0fce8",
   "metadata": {
    "execution": {
     "iopub.execute_input": "2022-03-12T02:37:39.770142Z",
     "iopub.status.busy": "2022-03-12T02:37:39.769922Z",
     "iopub.status.idle": "2022-03-12T02:37:39.959902Z",
     "shell.execute_reply": "2022-03-12T02:37:39.959175Z",
     "shell.execute_reply.started": "2022-03-12T02:37:39.770119Z"
    },
    "papermill": {},
    "tags": []
   },
   "outputs": [],
   "source": [
    "delete_task(task_id)"
   ]
  },
  {
   "cell_type": "code",
   "execution_count": null,
   "id": "24dc9406-4f28-4719-8a51-82121eb869b2",
   "metadata": {
    "papermill": {},
    "tags": []
   },
   "outputs": [],
   "source": []
  }
 ],
 "metadata": {
  "kernelspec": {
   "display_name": "Python 3",
   "language": "python",
   "name": "python3"
  },
  "language_info": {
   "codemirror_mode": {
    "name": "ipython",
    "version": 3
   },
   "file_extension": ".py",
   "mimetype": "text/x-python",
   "name": "python",
   "nbconvert_exporter": "python",
   "pygments_lexer": "ipython3",
   "version": "3.9.6"
  },
  "naas": {
   "notebook_id": "896be5c5-260b-46b3-bdca-08e4a5cbe2be",
   "notebook_path": "HubSpot/HubSpot_Delete_Task.ipynb"
  },
  "papermill": {
   "default_parameters": {},
   "environment_variables": {},
   "parameters": {},
   "version": "2.3.3"
  },
  "widgets": {
   "application/vnd.jupyter.widget-state+json": {
    "state": {},
    "version_major": 2,
    "version_minor": 0
   }
  }
 },
 "nbformat": 4,
 "nbformat_minor": 5
}