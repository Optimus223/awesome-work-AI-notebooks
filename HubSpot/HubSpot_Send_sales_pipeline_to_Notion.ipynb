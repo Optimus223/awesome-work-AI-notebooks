{
 "cells": [
  {
   "cell_type": "markdown",
   "id": "1f9304c5-0163-496c-8944-0ad697822a95",
   "metadata": {
    "papermill": {},
    "tags": []
   },
   "source": [
    "<img width=\"10%\" alt=\"Naas\" src=\"https://landen.imgix.net/jtci2pxwjczr/assets/5ice39g4.png?w=160\"/>"
   ]
  },
  {
   "cell_type": "markdown",
   "id": "16aea6b7-8572-48dd-8cf2-d7d458ed2662",
   "metadata": {
    "papermill": {},
    "tags": []
   },
   "source": [
    "# HubSpot - Send sales pipeline to Notion"
   ]
  },
  {
   "cell_type": "markdown",
   "id": "8d71cc44-cfdb-469c-b954-5e8df13cd41b",
   "metadata": {
    "papermill": {},
    "tags": []
   },
   "source": [
    "**Tags:** #hubspot #notion #sales #pipeline #automation #integration"
   ]
  },
  {
   "cell_type": "markdown",
   "id": "5c512a31-8b78-44d6-92c3-fb75e3e54a95",
   "metadata": {
    "papermill": {},
    "tags": []
   },
   "source": [
    "**Author:** [Florent Ravenel](https://www.linkedin.com/in/florent-ravenel)"
   ]
  },
  {
   "cell_type": "markdown",
   "id": "46c0e116-a852-4a27-80b1-01d4f0b876d8",
   "metadata": {
    "papermill": {},
    "tags": []
   },
   "source": [
    "**Description:** This notebook automates the process of sending a sales pipeline from HubSpot to Notion. It is useful for organizations that need to keep track of their sales pipeline in both HubSpot and Notion."
   ]
  },
  {
   "cell_type": "markdown",
   "id": "e3719b35-0d98-455e-9aa4-f739d3238a9a",
   "metadata": {
    "papermill": {},
    "tags": []
   },
   "source": [
    "**References:**\n- [HubSpot API Documentation](https://developers.hubspot.com/docs/overview)\n- [Notion API Documentation](https://notion-api.readthedocs.io/en/latest/)"
   ]
  },
  {
   "cell_type": "markdown",
   "id": "ecf03595-d7af-4b03-9f3e-3c2370a0b793",
   "metadata": {
    "papermill": {},
    "tags": []
   },
   "source": [
    "## Input"
   ]
  },
  {
   "cell_type": "markdown",
   "id": "ac4700ad-72ad-4fb9-b5a7-6d2d7bbe3964",
   "metadata": {
    "papermill": {},
    "tags": []
   },
   "source": [
    "### Import libraries"
   ]
  },
  {
   "cell_type": "code",
   "execution_count": null,
   "id": "b162b6f3-972f-46c6-acad-943e4c66f480",
   "metadata": {
    "papermill": {},
    "tags": []
   },
   "source": "import requests\nimport json",
   "outputs": []
  },
  {
   "cell_type": "markdown",
   "id": "86d30fac-2f34-4128-9b80-90a07548e9b3",
   "metadata": {
    "papermill": {},
    "tags": []
   },
   "source": [
    "### Setup Variables\n- **hubspot_api_key**: [Get your HubSpot API key](https://knowledge.hubspot.com/articles/kcs_article/integrations/how-do-i-get-my-hubspot-api-key)\n- **notion_token**: [Get your Notion token](https://notion-api.readthedocs.io/en/latest/token.html)"
   ]
  },
  {
   "cell_type": "code",
   "execution_count": null,
   "id": "488866d3-b454-4d5b-8f0e-f26a2d954253",
   "metadata": {
    "papermill": {},
    "tags": []
   },
   "source": "hubspot_api_key = \"\"\nnotion_token = \"\"",
   "outputs": []
  },
  {
   "cell_type": "markdown",
   "id": "4a087da5-7966-4f1c-ab52-331335137547",
   "metadata": {
    "papermill": {},
    "tags": []
   },
   "source": [
    "## Model"
   ]
  },
  {
   "cell_type": "markdown",
   "id": "b9701711-227d-430b-aec4-c75ce77816a3",
   "metadata": {
    "papermill": {},
    "tags": []
   },
   "source": [
    "### Get sales pipeline from HubSpot"
   ]
  },
  {
   "cell_type": "markdown",
   "id": "df7bdb62-3739-4601-94b6-e424dc319001",
   "metadata": {
    "papermill": {},
    "tags": []
   },
   "source": [
    "Long description of the function without break"
   ]
  },
  {
   "cell_type": "code",
   "execution_count": null,
   "id": "71d80036-35cb-4ab5-b8e7-2f5d6f20c369",
   "metadata": {
    "papermill": {},
    "tags": []
   },
   "source": "# Get sales pipeline from HubSpot\nurl = \"https://api.hubapi.com/crm-pipelines/v1/pipelines/deals\"\nheaders = {\n    \"Content-Type\": \"application/json\",\n    \"Authorization\": f\"Bearer {hubspot_api_key}\",\n}\nresponse = requests.get(url, headers=headers)\nsales_pipeline = response.json()",
   "outputs": []
  },
  {
   "cell_type": "markdown",
   "id": "a788a1a5-b575-4baf-ac3b-eac2ae2ef1b0",
   "metadata": {
    "papermill": {},
    "tags": []
   },
   "source": [
    "### Send sales pipeline to Notion"
   ]
  },
  {
   "cell_type": "markdown",
   "id": "fa1a758e-fec9-439a-8fd9-187705e0310e",
   "metadata": {
    "papermill": {},
    "tags": []
   },
   "source": [
    "Long description of the function without break"
   ]
  },
  {
   "cell_type": "code",
   "execution_count": null,
   "id": "311d24e8-9174-41a3-99c9-133e84490302",
   "metadata": {
    "papermill": {},
    "tags": []
   },
   "source": "# Send sales pipeline to Notion\nurl = \"https://api.notion.com/v1/pages/<page_id>\"\nheaders = {\n    \"Content-Type\": \"application/json\",\n    \"Authorization\": f\"Bearer {notion_token}\",\n}\ndata = {\n    \"blocks\": [\n        {\"type\": \"header\", \"title\": \"Sales Pipeline\"},\n        {\n            \"type\": \"table\",\n            \"columns\": [\n                {\"name\": \"Stage\", \"type\": \"text\"},\n                {\"name\": \"Probability\", \"type\": \"number\"},\n            ],\n            \"rows\": [],\n        },\n    ]\n}\nfor stage in sales_pipeline[\"results\"]:\n    data[\"blocks\"][1][\"rows\"].append(\n        [\n            {\"type\": \"text\", \"text\": stage[\"label\"]},\n            {\"type\": \"number\", \"number\": stage[\"probability\"]},\n        ]\n    )\nresponse = requests.put(url, headers=headers, data=json.dumps(data))",
   "outputs": []
  },
  {
   "cell_type": "markdown",
   "id": "1c2800f2-86e5-4e7f-9486-6dbf19acb7b4",
   "metadata": {
    "papermill": {},
    "tags": []
   },
   "source": [
    "## Output"
   ]
  },
  {
   "cell_type": "markdown",
   "id": "9db21a3b-398c-4446-bcbf-16d297a92117",
   "metadata": {
    "papermill": {},
    "tags": []
   },
   "source": [
    "### Display result"
   ]
  },
  {
   "cell_type": "code",
   "execution_count": null,
   "id": "62edea57-98d6-43e9-8380-527245c1eefc",
   "metadata": {
    "papermill": {},
    "tags": []
   },
   "source": "# Display result\nprint(response.status_code)\nprint(response.json())",
   "outputs": []
  }
 ],
 "metadata": {
  "kernelspec": {
   "display_name": "Python 3",
   "language": "python",
   "name": "python3"
  },
  "language_info": {
   "codemirror_mode": {
    "name": "ipython",
    "version": 3
   },
   "file_extension": ".py",
   "mimetype": "text/x-python",
   "name": "python",
   "nbconvert_exporter": "python",
   "pygments_lexer": "ipython3",
   "version": "3.9.6"
  },
  "widgets": {
   "application/vnd.jupyter.widget-state+json": {
    "state": {},
    "version_major": 2,
    "version_minor": 0
   }
  }
 },
 "nbformat": 4,
 "nbformat_minor": 5
}