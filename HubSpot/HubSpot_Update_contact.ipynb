{
 "cells": [
  {
   "cell_type": "markdown",
   "id": "african-pavilion",
   "metadata": {
    "papermill": {},
    "tags": []
   },
   "source": [
    "<img width=\"10%\" alt=\"Naas\" src=\"https://landen.imgix.net/jtci2pxwjczr/assets/5ice39g4.png?w=160\"/>"
   ]
  },
  {
   "cell_type": "markdown",
   "id": "frequent-pittsburgh",
   "metadata": {
    "papermill": {},
    "tags": []
   },
   "source": [
    "# HubSpot - Update contact\n",
    "<a href=\"https://app.naas.ai/user-redirect/naas/downloader?url=https://raw.githubusercontent.com/jupyter-naas/awesome-notebooks/master/HubSpot/HubSpot_Update_contact.ipynb\" target=\"_parent\"><img src=\"https://naasai-public.s3.eu-west-3.amazonaws.com/open_in_naas.svg\"/></a><br><br><a href=\"https://github.com/jupyter-naas/awesome-notebooks/issues/new?assignees=&labels=&template=template-request.md&title=Tool+-+Action+of+the+notebook+\">Template request</a> | <a href=\"https://github.com/jupyter-naas/awesome-notebooks/issues/new?assignees=&labels=bug&template=bug_report.md&title=HubSpot+-+Update+contact:+Error+short+description\">Bug report</a>"
   ]
  },
  {
   "cell_type": "markdown",
   "id": "genuine-poland",
   "metadata": {
    "papermill": {},
    "tags": []
   },
   "source": [
    "**Tags:** #hubspot #crm #sales #contact #naas_drivers #snippet"
   ]
  },
  {
   "cell_type": "markdown",
   "id": "1ca9ae0b-0121-49dd-ab85-246f17d69448",
   "metadata": {
    "papermill": {},
    "tags": []
   },
   "source": [
    "**Author:** [Florent Ravenel](https://www.linkedin.com/in/florent-ravenel/)"
   ]
  },
  {
   "cell_type": "markdown",
   "id": "decreased-discovery",
   "metadata": {
    "papermill": {},
    "tags": []
   },
   "source": [
    "## Input"
   ]
  },
  {
   "cell_type": "markdown",
   "id": "outer-mechanism",
   "metadata": {
    "papermill": {},
    "tags": []
   },
   "source": [
    "### Import library"
   ]
  },
  {
   "cell_type": "code",
   "execution_count": null,
   "id": "obvious-surgery",
   "metadata": {
    "papermill": {},
    "tags": []
   },
   "outputs": [],
   "source": [
    "from naas_drivers import hubspot"
   ]
  },
  {
   "cell_type": "markdown",
   "id": "overall-marshall",
   "metadata": {
    "papermill": {},
    "tags": []
   },
   "source": [
    "### Setup your HubSpot\n",
    "👉 Access your [HubSpot API key](https://knowledge.hubspot.com/integrations/how-do-i-get-my-hubspot-api-key)"
   ]
  },
  {
   "cell_type": "code",
   "execution_count": null,
   "id": "funded-composer",
   "metadata": {
    "papermill": {},
    "tags": []
   },
   "outputs": [],
   "source": [
    "HS_API_KEY = 'YOUR_HUBSPOT_API_KEY'"
   ]
  },
  {
   "cell_type": "markdown",
   "id": "middle-piece",
   "metadata": {
    "papermill": {},
    "tags": []
   },
   "source": [
    "### Enter contact parameters to update"
   ]
  },
  {
   "cell_type": "code",
   "execution_count": null,
   "id": "geographic-jaguar",
   "metadata": {
    "papermill": {},
    "tags": []
   },
   "outputs": [],
   "source": [
    "contact_id = \"280751\"\n",
    "email = \"test@cashstory.com\"\n",
    "firstname = \"Jean test\"\n",
    "lastname ='CASHSTOrY'\n",
    "phone = \"+336.00.00.00.00\"\n",
    "jobtitle = \"Consultant\"\n",
    "website = \"www.cashstory.com\"\n",
    "company = 'CASHSTORY'\n",
    "hubspot_owner_id = None"
   ]
  },
  {
   "cell_type": "markdown",
   "id": "minor-white",
   "metadata": {
    "papermill": {},
    "tags": []
   },
   "source": [
    "## Model"
   ]
  },
  {
   "cell_type": "markdown",
   "id": "fiscal-directive",
   "metadata": {
    "papermill": {},
    "tags": []
   },
   "source": [
    "### Using patch method"
   ]
  },
  {
   "cell_type": "code",
   "execution_count": null,
   "id": "phantom-people",
   "metadata": {
    "papermill": {},
    "tags": []
   },
   "outputs": [],
   "source": [
    "update_contact = {\"properties\": \n",
    "                  {\n",
    "                    \"email\": email,\n",
    "                    \"firstname\": firstname,\n",
    "                    \"lastname\": lastname,\n",
    "                    \"phone\": phone,\n",
    "                    \"jobtitle\": jobtitle,\n",
    "                    \"website\": website,\n",
    "                    \"company\": company,\n",
    "                    \"url\": \"test3\",\n",
    "                    \"hubspot_owner_id\": hubspot_owner_id,\n",
    "                   }\n",
    "                 }\n",
    "\n",
    "contact_id1 = hubspot.connect(HS_API_KEY).contacts.patch(contact_id,\n",
    "                                                         update_contact)"
   ]
  },
  {
   "cell_type": "markdown",
   "id": "young-messaging",
   "metadata": {
    "papermill": {},
    "tags": []
   },
   "source": [
    "### Using update method"
   ]
  },
  {
   "cell_type": "code",
   "execution_count": null,
   "id": "stupid-baker",
   "metadata": {
    "papermill": {},
    "tags": []
   },
   "outputs": [],
   "source": [
    "contact_id2 = hubspot.connect(HS_API_KEY).contacts.update(\n",
    "    contact_id,\n",
    "    email,\n",
    "    firstname,\n",
    "    lastname,\n",
    "    phone,\n",
    "    jobtitle,\n",
    "    website,\n",
    "    company,\n",
    "    hubspot_owner_id\n",
    ")"
   ]
  },
  {
   "cell_type": "markdown",
   "id": "compressed-target",
   "metadata": {
    "papermill": {},
    "tags": []
   },
   "source": [
    "## Output"
   ]
  },
  {
   "cell_type": "markdown",
   "id": "4d39601c-e21c-4a3f-a0a4-f60b9354d490",
   "metadata": {
    "papermill": {},
    "tags": []
   },
   "source": [
    "### Display results"
   ]
  },
  {
   "cell_type": "code",
   "execution_count": null,
   "id": "38410b82-6f46-48d4-8cd1-533f5a83f7fc",
   "metadata": {
    "papermill": {},
    "tags": []
   },
   "outputs": [],
   "source": [
    "contact_id1"
   ]
  },
  {
   "cell_type": "code",
   "execution_count": null,
   "id": "2c45c0e9-b8be-40e8-9f76-e6f7cdb988c8",
   "metadata": {
    "papermill": {},
    "tags": []
   },
   "outputs": [],
   "source": [
    "contact_id2"
   ]
  }
 ],
 "metadata": {
  "kernelspec": {
   "display_name": "Python 3",
   "language": "python",
   "name": "python3"
  },
  "language_info": {
   "codemirror_mode": {
    "name": "ipython",
    "version": 3
   },
   "file_extension": ".py",
   "mimetype": "text/x-python",
   "name": "python",
   "nbconvert_exporter": "python",
   "pygments_lexer": "ipython3",
   "version": "3.8.8"
  },
  "naas": {
   "notebook_id": "1b7c76c0-3c31-4170-80f7-cee5df3bcc3a",
   "notebook_path": "HubSpot/HubSpot_Update_contact.ipynb"
  },
  "papermill": {
   "default_parameters": {},
   "environment_variables": {},
   "parameters": {},
   "version": "2.3.3"
  }
 },
 "nbformat": 4,
 "nbformat_minor": 5
}