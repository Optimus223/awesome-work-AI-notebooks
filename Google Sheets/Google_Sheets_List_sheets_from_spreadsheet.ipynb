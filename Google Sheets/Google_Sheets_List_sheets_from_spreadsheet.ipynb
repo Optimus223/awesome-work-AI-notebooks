{
 "cells": [
  {
   "cell_type": "markdown",
   "id": "0fb936be-f97e-4e36-a37c-51cf40f58811",
   "metadata": {
    "papermill": {},
    "tags": []
   },
   "source": [
    "<img width=\"10%\" alt=\"Naas\" src=\"https://landen.imgix.net/jtci2pxwjczr/assets/5ice39g4.png?w=160\"/>"
   ]
  },
  {
   "cell_type": "markdown",
   "id": "a122cf90-c6db-4305-98bb-2af8b05cbb99",
   "metadata": {
    "papermill": {},
    "tags": []
   },
   "source": [
    "# Google Sheets - List sheets from spreadsheet"
   ]
  },
  {
   "cell_type": "markdown",
   "id": "4fa24a26-48ce-4221-a968-27bdb5ab43fc",
   "metadata": {
    "papermill": {},
    "tags": []
   },
   "source": [
    "**Tags:** #googlesheets #spreadsheet #list #sheets #python #api"
   ]
  },
  {
   "cell_type": "markdown",
   "id": "c1b9ade5-1eb1-4016-8830-f5b73b9d5094",
   "metadata": {
    "papermill": {},
    "tags": []
   },
   "source": [
    "**Author:** [Florent Ravenel](https://www.linkedin.com/in/florent-ravenel/)"
   ]
  },
  {
   "cell_type": "markdown",
   "id": "bcfdb331-57e6-4644-9817-1de75d42cc81",
   "metadata": {
    "papermill": {},
    "tags": []
   },
   "source": [
    "**Last update:** 2023-10-31 (Created: 2023-10-31)"
   ]
  },
  {
   "cell_type": "markdown",
   "id": "42a1082c-3359-44ad-9222-2a362ad5d19b",
   "metadata": {
    "papermill": {},
    "tags": []
   },
   "source": [
    "**Description:** This notebook will list all the sheets from a Google Sheets spreadsheet. It is usefull for organizations to quickly get an overview of the content of a spreadsheet."
   ]
  },
  {
   "cell_type": "markdown",
   "id": "7c01b8e3-87a8-4084-bed4-0d46c1a4a6c0",
   "metadata": {
    "papermill": {},
    "tags": []
   },
   "source": [
    "**References:**\n- [Google Sheets API Documentation](https://developers.google.com/sheets/api/reference/rest/)\n- [Google Sheets API Python Quickstart](https://developers.google.com/sheets/api/quickstart/python)"
   ]
  },
  {
   "cell_type": "markdown",
   "id": "f1f32a63-4c71-4dfa-87c0-e31ba4d47803",
   "metadata": {
    "papermill": {},
    "tags": []
   },
   "source": [
    "## Input"
   ]
  },
  {
   "cell_type": "markdown",
   "id": "55dd39a3-3c5c-4aae-aab5-b1101a2ffa54",
   "metadata": {
    "papermill": {},
    "tags": []
   },
   "source": [
    "### Import libraries"
   ]
  },
  {
   "cell_type": "code",
   "execution_count": null,
   "id": "479eaaab-3665-44e7-b89b-50e0a16524ab",
   "metadata": {
    "papermill": {},
    "tags": []
   },
   "source": "import os\nimport pickle\nimport googleapiclient.discovery\nfrom google_auth_oauthlib.flow import InstalledAppFlow\nfrom google.auth.transport.requests import Request",
   "outputs": []
  },
  {
   "cell_type": "markdown",
   "id": "a6e10857-d5f1-454e-ae40-49a88da3be43",
   "metadata": {
    "papermill": {},
    "tags": []
   },
   "source": [
    "### Setup variables\n- **SCOPES**: `https://www.googleapis.com/auth/spreadsheets.readonly`\n- **SPREADSHEET_ID**: ID of the spreadsheet to list sheets from"
   ]
  },
  {
   "cell_type": "markdown",
   "id": "b6e27fa6-2284-4e87-ab11-c910613ec935",
   "metadata": {
    "papermill": {},
    "tags": []
   },
   "source": [
    "## Model"
   ]
  },
  {
   "cell_type": "markdown",
   "id": "7af9afc5-e1ef-4017-87f2-f86abb168636",
   "metadata": {
    "papermill": {},
    "tags": []
   },
   "source": [
    "### List sheets from spreadsheet"
   ]
  },
  {
   "cell_type": "markdown",
   "id": "96f2b867-e6cc-47c2-8ac9-337f18949307",
   "metadata": {
    "papermill": {},
    "tags": []
   },
   "source": [
    "This function will list all the sheets from a Google Sheets spreadsheet."
   ]
  },
  {
   "cell_type": "code",
   "execution_count": null,
   "id": "96de32a5-3a25-43bd-9443-2108afcccacb",
   "metadata": {
    "papermill": {},
    "tags": []
   },
   "source": "def list_sheets(spreadsheet_id):\n    \"\"\"\n    List all the sheets from a Google Sheets spreadsheet.\n\n    Parameters:\n    spreadsheet_id (str): ID of the spreadsheet to list sheets from\n\n    Returns:\n    list: list of sheets\n    \"\"\"\n    # Setup credentials\n    SCOPES = [\"https://www.googleapis.com/auth/spreadsheets.readonly\"]\n    creds = None\n    if os.path.exists(\"token.pickle\"):\n        with open(\"token.pickle\", \"rb\") as token:\n            creds = pickle.load(token)\n    if not creds or not creds.valid:\n        if creds and creds.expired and creds.refresh_token:\n            creds.refresh(Request())\n        else:\n            flow = InstalledAppFlow.from_client_secrets_file(\"credentials.json\", SCOPES)\n            creds = flow.run_local_server(port=0)\n        with open(\"token.pickle\", \"wb\") as token:\n            pickle.dump(creds, token)\n    # List sheets\n    service = googleapiclient.discovery.build(\"sheets\", \"v4\", credentials=creds)\n    sheets = service.spreadsheets().get(spreadsheetId=spreadsheet_id).execute()\n    return sheets[\"sheets\"]",
   "outputs": []
  },
  {
   "cell_type": "markdown",
   "id": "ae2d5a0c-61c5-45d1-854d-18887212df68",
   "metadata": {
    "papermill": {},
    "tags": []
   },
   "source": [
    "## Output"
   ]
  },
  {
   "cell_type": "markdown",
   "id": "ab4add94-cfe8-4438-a163-caffd212ac73",
   "metadata": {
    "papermill": {},
    "tags": []
   },
   "source": [
    "### Display result"
   ]
  },
  {
   "cell_type": "code",
   "execution_count": null,
   "id": "c3f9cbc0-558c-4997-932b-6137ebdf9821",
   "metadata": {
    "papermill": {},
    "tags": []
   },
   "source": "# Setup variables\nSPREADSHEET_ID = \"1BxiMVs0XRA5nFMdKvBdBZjgmUUqptlbs74OgvE2upms\"\n# List sheets\nsheets = list_sheets(SPREADSHEET_ID)\n# Display result\nprint(f\"Sheets from spreadsheet {SPREADSHEET_ID}:\")\nfor sheet in sheets:\n    print(f'- {sheet[\"properties\"][\"title\"]}')",
   "outputs": []
  },
  {
   "cell_type": "markdown",
   "id": "9765e8cd-4a40-42a9-b6a0-c3970ac1fab8",
   "metadata": {
    "papermill": {},
    "tags": []
   },
   "source": [
    " "
   ]
  }
 ],
 "metadata": {
  "kernelspec": {
   "display_name": "Python 3",
   "language": "python",
   "name": "python3"
  },
  "language_info": {
   "codemirror_mode": {
    "name": "ipython",
    "version": 3
   },
   "file_extension": ".py",
   "mimetype": "text/x-python",
   "name": "python",
   "nbconvert_exporter": "python",
   "pygments_lexer": "ipython3",
   "version": "3.9.6"
  },
  "widgets": {
   "application/vnd.jupyter.widget-state+json": {
    "state": {},
    "version_major": 2,
    "version_minor": 0
   }
  }
 },
 "nbformat": 4,
 "nbformat_minor": 5
}