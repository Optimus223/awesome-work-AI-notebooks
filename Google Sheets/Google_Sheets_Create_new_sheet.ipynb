{
 "cells": [
  {
   "cell_type": "markdown",
   "id": "45283c5b-e4ba-4f14-a588-d8f6946bf299",
   "metadata": {
    "papermill": {},
    "tags": []
   },
   "source": [
    "<img width=\"10%\" alt=\"Naas\" src=\"https://landen.imgix.net/jtci2pxwjczr/assets/5ice39g4.png?w=160\"/>"
   ]
  },
  {
   "cell_type": "markdown",
   "id": "34916989-8f10-490e-9c06-90bfd277a5b4",
   "metadata": {
    "papermill": {},
    "tags": []
   },
   "source": [
    "# Google Sheets - Create new sheet"
   ]
  },
  {
   "cell_type": "markdown",
   "id": "506fc569-acd4-4428-8818-edf54178c99e",
   "metadata": {
    "papermill": {},
    "tags": []
   },
   "source": [
    "**Tags:** #googlesheets #spreadsheet #create #sheet #python #data"
   ]
  },
  {
   "cell_type": "markdown",
   "id": "76a4db83-2238-4594-a3d8-d7d29d9f1bbb",
   "metadata": {
    "papermill": {},
    "tags": []
   },
   "source": [
    "**Author:** [Firstname Lastname]()"
   ]
  },
  {
   "cell_type": "markdown",
   "id": "00c9b2c5-ca31-4296-93a9-2aeeae673559",
   "metadata": {
    "papermill": {},
    "tags": []
   },
   "source": [
    "**Last update:** 2023-10-05 (Created: 2023-10-05)"
   ]
  },
  {
   "cell_type": "markdown",
   "id": "159b6f3b-db71-4076-bae7-88ca5667c5ea",
   "metadata": {
    "papermill": {},
    "tags": []
   },
   "source": [
    "**Description:** This notebook will show how to create a new sheet in Google Sheets using Python. It is usefull for organizations that need to create new sheets in Google Sheets."
   ]
  },
  {
   "cell_type": "markdown",
   "id": "fd9db422-f3da-4ba1-81d8-9f5fb7ad2648",
   "metadata": {
    "papermill": {},
    "tags": []
   },
   "source": [
    "**References:**\n- [Google Sheets API](https://developers.google.com/sheets/api)\n- [Google Sheets API Python Quickstart](https://developers.google.com/sheets/api/quickstart/python)"
   ]
  },
  {
   "cell_type": "markdown",
   "id": "c18640fd-94b4-4676-874f-90529a7c114e",
   "metadata": {
    "papermill": {},
    "tags": []
   },
   "source": [
    "## Input"
   ]
  },
  {
   "cell_type": "markdown",
   "id": "07361904-df0f-4523-be56-d6b795419347",
   "metadata": {
    "papermill": {},
    "tags": []
   },
   "source": [
    "### Import libraries"
   ]
  },
  {
   "cell_type": "code",
   "execution_count": null,
   "id": "c4f9e873-44e0-409a-b0aa-0bb2983d9600",
   "metadata": {
    "papermill": {},
    "tags": []
   },
   "source": "import pickle\nimport os.path\nfrom googleapiclient.discovery import build\nfrom google_auth_oauthlib.flow import InstalledAppFlow\nfrom google.auth.transport.requests import Request",
   "outputs": []
  },
  {
   "cell_type": "markdown",
   "id": "a08eae33-585e-4b47-96bc-46c15f2fdda2",
   "metadata": {
    "papermill": {},
    "tags": []
   },
   "source": [
    "### Setup variables\n- **SCOPES**: list of scopes to be used in the authentication\n- **SPREADSHEET_ID**: ID of the spreadsheet\n- **SHEET_NAME**: name of the new sheet"
   ]
  },
  {
   "cell_type": "code",
   "execution_count": null,
   "id": "90ae9ed9-fa8a-407c-953b-a58231611064",
   "metadata": {
    "papermill": {},
    "tags": []
   },
   "source": "SCOPES = [\"https://www.googleapis.com/auth/spreadsheets\"]\nSPREADSHEET_ID = \"1BxiMVs0XRA5nFMdKvBdBZjgmUUqptlbs74OgvE2upms\"\nSHEET_NAME = \"New Sheet\"",
   "outputs": []
  },
  {
   "cell_type": "markdown",
   "id": "633ea3c1-4169-4bbc-b442-a7c5f6240783",
   "metadata": {
    "papermill": {},
    "tags": []
   },
   "source": [
    "## Model"
   ]
  },
  {
   "cell_type": "markdown",
   "id": "f14c054a-6447-4706-b7a5-4bcec8639352",
   "metadata": {
    "papermill": {},
    "tags": []
   },
   "source": [
    "### Create new sheet"
   ]
  },
  {
   "cell_type": "markdown",
   "id": "9ae12770-9a68-4e9f-9155-41e9cee1e2ff",
   "metadata": {
    "papermill": {},
    "tags": []
   },
   "source": [
    "This function will create a new sheet in the spreadsheet with the name specified in the variable SHEET_NAME."
   ]
  },
  {
   "cell_type": "code",
   "execution_count": null,
   "id": "15771962-522f-4f5f-a98e-83e5a350e863",
   "metadata": {
    "papermill": {},
    "tags": []
   },
   "source": "def create_sheet(service, spreadsheet_id, sheet_name):\n    # Create sheet\n    sheet = {\"properties\": {\"title\": sheet_name}}\n    sheet = (\n        service.spreadsheets()\n        .batchUpdate(\n            spreadsheetId=spreadsheet_id, body={\"requests\": [{\"addSheet\": sheet}]}\n        )\n        .execute()\n    )\n    print(\"Sheet created successfully.\")",
   "outputs": []
  },
  {
   "cell_type": "markdown",
   "id": "df38ef91-0325-4bf1-835a-cdb6e7fda503",
   "metadata": {
    "papermill": {},
    "tags": []
   },
   "source": [
    "## Output"
   ]
  },
  {
   "cell_type": "markdown",
   "id": "e5ad10a6-c057-4645-bf7f-c9efba2207e6",
   "metadata": {
    "papermill": {},
    "tags": []
   },
   "source": [
    "### Display result"
   ]
  },
  {
   "cell_type": "code",
   "execution_count": null,
   "id": "b7372838-a17f-4749-bd55-56a1de96fd05",
   "metadata": {
    "papermill": {},
    "tags": []
   },
   "source": "# Authentication\ncreds = None\nif os.path.exists(\"token.pickle\"):\n    with open(\"token.pickle\", \"rb\") as token:\n        creds = pickle.load(token)\nif not creds or not creds.valid:\n    if creds and creds.expired and creds.refresh_token:\n        creds.refresh(Request())\n    else:\n        flow = InstalledAppFlow.from_client_secrets_file(\"credentials.json\", SCOPES)\n        creds = flow.run_local_server(port=0)\n    with open(\"token.pickle\", \"wb\") as token:\n        pickle.dump(creds, token)\n# Create service\nservice = build(\"sheets\", \"v4\", credentials=creds)\n# Create sheet\ncreate_sheet(service, SPREADSHEET_ID, SHEET_NAME)",
   "outputs": []
  },
  {
   "cell_type": "markdown",
   "id": "006ac03f-ed27-4db3-9f6e-de3e7e94c3a5",
   "metadata": {
    "papermill": {},
    "tags": []
   },
   "source": [
    " "
   ]
  }
 ],
 "metadata": {
  "kernelspec": {
   "display_name": "Python 3",
   "language": "python",
   "name": "python3"
  },
  "language_info": {
   "codemirror_mode": {
    "name": "ipython",
    "version": 3
   },
   "file_extension": ".py",
   "mimetype": "text/x-python",
   "name": "python",
   "nbconvert_exporter": "python",
   "pygments_lexer": "ipython3",
   "version": "3.9.6"
  },
  "widgets": {
   "application/vnd.jupyter.widget-state+json": {
    "state": {},
    "version_major": 2,
    "version_minor": 0
   }
  }
 },
 "nbformat": 4,
 "nbformat_minor": 5
}