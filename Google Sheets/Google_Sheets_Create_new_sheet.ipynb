{
 "cells": [
  {
   "cell_type": "markdown",
   "id": "45283c5b-e4ba-4f14-a588-d8f6946bf299",
   "metadata": {
    "papermill": {},
    "tags": []
   },
   "source": [
    "<img width=\"10%\" alt=\"Naas\" src=\"https://landen.imgix.net/jtci2pxwjczr/assets/5ice39g4.png?w=160\"/>"
   ]
  },
  {
   "cell_type": "markdown",
   "id": "34916989-8f10-490e-9c06-90bfd277a5b4",
   "metadata": {
    "papermill": {},
    "tags": []
   },
   "source": [
    "# Google Sheets - Create new sheet"
   ]
  },
  {
   "cell_type": "markdown",
   "id": "506fc569-acd4-4428-8818-edf54178c99e",
   "metadata": {
    "papermill": {},
    "tags": []
   },
   "source": [
    "**Tags:** #googlesheets #spreadsheet #create #sheet #python #data"
   ]
  },
  {
   "cell_type": "markdown",
   "id": "76a4db83-2238-4594-a3d8-d7d29d9f1bbb",
   "metadata": {
    "papermill": {},
    "tags": []
   },
   "source": [
    "**Author:** [SaiKiran M](www.linkedin.com/in/msaikiran9)"
   ]
  },
  {
   "cell_type": "markdown",
   "id": "00c9b2c5-ca31-4296-93a9-2aeeae673559",
   "metadata": {
    "papermill": {},
    "tags": []
   },
   "source": [
    "**Last update:** 2023-10-05 (Created: 2023-10-05)"
   ]
  },
  {
   "cell_type": "markdown",
   "id": "159b6f3b-db71-4076-bae7-88ca5667c5ea",
   "metadata": {
    "papermill": {},
    "tags": []
   },
   "source": [
    "**Description:** This notebook will show how to create a new sheet in Google Sheets using Python . It is useful for organizations that need to create new sheets in Google Sheets."
   ]
  },
  {
   "cell_type": "markdown",
   "id": "fd9db422-f3da-4ba1-81d8-9f5fb7ad2648",
   "metadata": {
    "papermill": {},
    "tags": []
   },
   "source": [
    "**References:**\n",
    "- [Google Sheets API](https://developers.google.com/sheets/api)\n",
    "- [Google Sheets API Python Quickstart](https://developers.google.com/sheets/api/quickstart/python)"
   ]
  },
  {
   "cell_type": "markdown",
   "id": "c18640fd-94b4-4676-874f-90529a7c114e",
   "metadata": {
    "papermill": {},
    "tags": []
   },
   "source": [
    "## Input"
   ]
  },
  {
   "cell_type": "markdown",
   "id": "07361904-df0f-4523-be56-d6b795419347",
   "metadata": {
    "papermill": {},
    "tags": []
   },
   "source": [
    "### Import libraries"
   ]
  },
  {
   "cell_type": "code",
   "execution_count": null,
   "id": "c4f9e873-44e0-409a-b0aa-0bb2983d9600",
   "metadata": {
    "papermill": {},
    "tags": []
   },
   "outputs": [],
   "source": [
    "try:\n",
    "    import gspread\n",
    "    from oauth2client.service_account import ServiceAccountCredentials\n",
    "except ImportError:\n",
    "    !pip install gspread oauth2client\n",
    "    import gspread\n",
    "    from oauth2client.service_account import ServiceAccountCredentials"
   ]
  },
  {
   "cell_type": "markdown",
   "id": "a08eae33-585e-4b47-96bc-46c15f2fdda2",
   "metadata": {
    "papermill": {},
    "tags": []
   },
   "source": [
    "### Setup variables\n",
    "**Pre-requisite**\n",
    "- [Create a service account and download JSON](https://cloud.google.com/iam/docs/service-accounts-create)\n",
    "- [Enable Google Sheets API](https://console.cloud.google.com/apis/library/sheets.googleapis.com)\n",
    "- Share your Google Sheet spreadsheet with service account client email\n",
    "\n",
    "**Mandatory**\n",
    "- `credential_path`: path to access service account.\n",
    "- `spreadsheet_name`: Name of the spreadsheet you want to create the new sheet in\n",
    "- `sheet_name`: Name of the new sheet"
   ]
  },
  {
   "cell_type": "code",
   "execution_count": null,
   "id": "90ae9ed9-fa8a-407c-953b-a58231611064",
   "metadata": {
    "papermill": {},
    "tags": []
   },
   "outputs": [],
   "source": [
    "credential_path = \"./credentials.json\"\n",
    "spreadsheet_name = \"My_Spreadsheet\"\n",
    "sheet_name = \"custom sheet 2\""
   ]
  },
  {
   "cell_type": "markdown",
   "id": "633ea3c1-4169-4bbc-b442-a7c5f6240783",
   "metadata": {
    "papermill": {},
    "tags": []
   },
   "source": [
    "## Model"
   ]
  },
  {
   "cell_type": "markdown",
   "id": "f14c054a-6447-4706-b7a5-4bcec8639352",
   "metadata": {
    "papermill": {},
    "tags": []
   },
   "source": [
    "### Create new sheet"
   ]
  },
  {
   "cell_type": "code",
   "execution_count": null,
   "id": "15771962-522f-4f5f-a98e-83e5a350e863",
   "metadata": {
    "papermill": {},
    "tags": []
   },
   "outputs": [],
   "source": [
    "# Define the scope and credentials\n",
    "scope = ['https://spreadsheets.google.com/feeds', 'https://www.googleapis.com/auth/drive']\n",
    "credentials = ServiceAccountCredentials.from_json_keyfile_name('credentials.json', scope)\n",
    "\n",
    "# Authenticate and open the spreadsheet\n",
    "try:\n",
    "    # Authenticate and open the existing spreadsheet\n",
    "    client = gspread.authorize(credentials)\n",
    "    spreadsheet = client.open(spreadsheet_name)\n",
    "except:\n",
    "    # If the spreadsheet doesn't exist, create a new one and open it\n",
    "    client = gspread.authorize(credentials)\n",
    "    spreadsheet = client.create(spreadsheet_name)\n",
    "\n",
    "# Create a new sheet\n",
    "new_spreadsheet = spreadsheet.add_worksheet(title=sheet_name, rows=\"100\", cols=\"20\")\n",
    "print(f\"A new sheet named '{sheet_name}' has been created successfully.\")"
   ]
  },
  {
   "cell_type": "markdown",
   "id": "df38ef91-0325-4bf1-835a-cdb6e7fda503",
   "metadata": {
    "papermill": {},
    "tags": []
   },
   "source": [
    "## Output"
   ]
  },
  {
   "cell_type": "markdown",
   "id": "e5ad10a6-c057-4645-bf7f-c9efba2207e6",
   "metadata": {
    "papermill": {},
    "tags": []
   },
   "source": [
    "### Display result"
   ]
  },
  {
   "cell_type": "code",
   "execution_count": null,
   "id": "b7372838-a17f-4749-bd55-56a1de96fd05",
   "metadata": {
    "papermill": {},
    "tags": []
   },
   "outputs": [],
   "source": [
    "print(\"Go To Spreadsheet\")\n",
    "print(f\"https://docs.google.com/spreadsheets/d/{new_spreadsheet.url.split('spreadsheets')[1]}\")"
   ]
  },
  {
   "cell_type": "markdown",
   "id": "006ac03f-ed27-4db3-9f6e-de3e7e94c3a5",
   "metadata": {
    "papermill": {},
    "tags": []
   },
   "source": [
    " "
   ]
  }
 ],
 "metadata": {
  "kernelspec": {
   "display_name": "Python 3",
   "language": "python",
   "name": "python3"
  },
  "language_info": {
   "codemirror_mode": {
    "name": "ipython",
    "version": 3
   },
   "file_extension": ".py",
   "mimetype": "text/x-python",
   "name": "python",
   "nbconvert_exporter": "python",
   "pygments_lexer": "ipython3",
   "version": "3.9.6"
  },
  "widgets": {
   "application/vnd.jupyter.widget-state+json": {
    "state": {},
    "version_major": 2,
    "version_minor": 0
   }
  }
 },
 "nbformat": 4,
 "nbformat_minor": 5
}
