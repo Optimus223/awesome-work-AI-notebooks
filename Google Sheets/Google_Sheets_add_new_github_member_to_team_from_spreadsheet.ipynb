{
 "cells": [
  {
   "cell_type": "markdown",
   "id": "abe3a5f1-e3ae-4f75-a6ff-5623d1cc9469",
   "metadata": {
    "papermill": {},
    "tags": []
   },
   "source": [
    "<img width=\"10%\" alt=\"Naas\" src=\"https://landen.imgix.net/jtci2pxwjczr/assets/5ice39g4.png?w=160\"/>\n"
   ]
  },
  {
   "cell_type": "markdown",
   "id": "6ff905c2-f28d-42ac-8987-c8cd72eb1824",
   "metadata": {},
   "source": [
    "# Google Sheets - Add new GitHub member to team from spreadsheet"
   ]
  },
  {
   "cell_type": "markdown",
   "id": "9aa9ac12-2659-4b6f-94cc-f19de0b3b847",
   "metadata": {},
   "source": [
    "**Tags:** #github #teams #automation #googlesheets\n"
   ]
  },
  {
   "cell_type": "markdown",
   "id": "4f621665-24b6-415f-b46e-94d8b09394bd",
   "metadata": {},
   "source": [
    "**Author:** [Sanjeet Attili](https://linkedin.com/in/sanjeet-attili-760bab190/)\n"
   ]
  },
  {
   "cell_type": "markdown",
   "id": "6fea319a-f7d2-45eb-abb6-354469a522e1",
   "metadata": {},
   "source": [
    "## Input"
   ]
  },
  {
   "cell_type": "markdown",
   "id": "8c089102-2f28-4b62-abf7-24b73c370f7c",
   "metadata": {},
   "source": [
    "Pre-requisite:\n",
    "* Please share your Google Sheet with our service account\n",
    "For the driver to fetch the contents of your google sheet, you need to share it with the service account linked with Naas. 🔗 naas-share@naas-gsheets.iam.gserviceaccount.com \n",
    "* Sample format of the google sheet [looks in this fashion](https://docs.google.com/spreadsheets/d/10VBjpuFy0yAYzWHkK1QetEeqNjkURYKanR865m1FE-I/edit?usp=sharing) "
   ]
  },
  {
   "cell_type": "markdown",
   "id": "c29a2183-6572-41df-bc9f-e075a3f9bc04",
   "metadata": {},
   "source": [
    "### Import libraries"
   ]
  },
  {
   "cell_type": "code",
   "execution_count": 38,
   "id": "0c15cd69-352e-49f6-964f-fd6260c90c5d",
   "metadata": {
    "execution": {
     "iopub.execute_input": "2022-05-09T12:30:03.830709Z",
     "iopub.status.busy": "2022-05-09T12:30:03.830418Z",
     "iopub.status.idle": "2022-05-09T12:30:03.833843Z",
     "shell.execute_reply": "2022-05-09T12:30:03.833257Z",
     "shell.execute_reply.started": "2022-05-09T12:30:03.830679Z"
    },
    "tags": []
   },
   "outputs": [],
   "source": [
    "import requests\n",
    "from naas_drivers import github, gsheet\n",
    "import naas"
   ]
  },
  {
   "cell_type": "markdown",
   "id": "a2ae34ce-6cb0-4d79-9016-14b3b7b6239b",
   "metadata": {},
   "source": [
    "### Setup Email params"
   ]
  },
  {
   "cell_type": "code",
   "execution_count": 39,
   "id": "e24dce47-ba78-43f0-b257-201bcc8d61be",
   "metadata": {
    "execution": {
     "iopub.execute_input": "2022-05-09T12:30:05.693672Z",
     "iopub.status.busy": "2022-05-09T12:30:05.693437Z",
     "iopub.status.idle": "2022-05-09T12:30:05.696750Z",
     "shell.execute_reply": "2022-05-09T12:30:05.696129Z",
     "shell.execute_reply.started": "2022-05-09T12:30:05.693647Z"
    },
    "tags": []
   },
   "outputs": [],
   "source": [
    "# email_to = \"your@email.com\"\n",
    "subject = \"Message from naas - Github Teams profile does not exist!\"\n",
    "content = 'This is a mail for adding new profile to the organization, so that the member can be added to github teams in future automatically!'"
   ]
  },
  {
   "cell_type": "markdown",
   "id": "eb0b515a-243d-408c-bc62-0b2eb9077b40",
   "metadata": {},
   "source": [
    "### Setup Google Sheet"
   ]
  },
  {
   "cell_type": "code",
   "execution_count": 40,
   "id": "6f57128c-76a6-4e7f-8388-bf95c73f3b5f",
   "metadata": {
    "execution": {
     "iopub.execute_input": "2022-05-09T12:30:07.615021Z",
     "iopub.status.busy": "2022-05-09T12:30:07.614797Z",
     "iopub.status.idle": "2022-05-09T12:30:07.617944Z",
     "shell.execute_reply": "2022-05-09T12:30:07.617308Z",
     "shell.execute_reply.started": "2022-05-09T12:30:07.614996Z"
    },
    "papermill": {},
    "tags": []
   },
   "outputs": [],
   "source": [
    "# Enter spreadsheet_id and sheet name\n",
    "spreadsheet_id = \"****\"\n",
    "sheet_name = \"YOUR_SHEET\""
   ]
  },
  {
   "cell_type": "markdown",
   "id": "321f58fc-a829-4eb4-904c-4b3eb3b8ee3f",
   "metadata": {
    "papermill": {},
    "tags": []
   },
   "source": [
    "### Setup Github\n",
    "**How to find your personal access token on Github?**\n",
    "\n",
    "- First we need to create a personal access token to get the details of our organization from [here](https://github.com/settings/tokens)\n",
    "- You will be asked to select scopes for the token. Which scopes you choose will determine what information and actions you will be able to perform against the API.\n",
    "- You should be careful with the ones prefixed with write:, delete: and admin: as these might be quite destructive.\n",
    "- You can find description of each scope in docs [here](https://docs.github.com/en/developers/apps/building-oauth-apps/scopes-for-oauth-apps)."
   ]
  },
  {
   "cell_type": "code",
   "execution_count": 41,
   "id": "ba9df836-3917-48ae-bd99-5078e9731c63",
   "metadata": {
    "execution": {
     "iopub.execute_input": "2022-05-09T12:30:11.297921Z",
     "iopub.status.busy": "2022-05-09T12:30:11.297692Z",
     "iopub.status.idle": "2022-05-09T12:30:11.300749Z",
     "shell.execute_reply": "2022-05-09T12:30:11.300084Z",
     "shell.execute_reply.started": "2022-05-09T12:30:11.297897Z"
    },
    "papermill": {},
    "tags": []
   },
   "outputs": [],
   "source": [
    "# Github teams url\n",
    "TEAMS_URL = \"https://github.com/orgs/sanjeet-experiment/teams/next_gen_coders\"\n",
    "\n",
    "# Github token\n",
    "GITHUB_TOKEN = \"ghp_fUYP0Z5i29AG4ggX8owctGnHU**********\""
   ]
  },
  {
   "cell_type": "code",
   "execution_count": 42,
   "id": "01d7c2d6-ccc4-4105-a81e-d030301f2a5b",
   "metadata": {
    "execution": {
     "iopub.execute_input": "2022-05-09T12:30:12.418783Z",
     "iopub.status.busy": "2022-05-09T12:30:12.418531Z",
     "iopub.status.idle": "2022-05-09T12:30:12.422188Z",
     "shell.execute_reply": "2022-05-09T12:30:12.421545Z",
     "shell.execute_reply.started": "2022-05-09T12:30:12.418751Z"
    },
    "tags": []
   },
   "outputs": [],
   "source": [
    "# Format of url = \"https://api.github.com/orgs/sanjeet-experiment/members\"\n",
    "ORG_MEMBERS_URL = \"api.github.com\".join(TEAMS_URL.split('/teams/')[0].split('github.com'))+ '/members'\n",
    "\n",
    "team_name = TEAMS_URL.split('/teams/')[-1]\n",
    "\n",
    "headers = github.connect(GITHUB_TOKEN).headers"
   ]
  },
  {
   "cell_type": "markdown",
   "id": "2afa5ce8-141a-4f78-a847-a60e05802258",
   "metadata": {
    "papermill": {},
    "tags": []
   },
   "source": [
    "### Setup Naas"
   ]
  },
  {
   "cell_type": "code",
   "execution_count": null,
   "id": "54550839-ca64-4c8b-80a0-af0109608c52",
   "metadata": {
    "papermill": {},
    "tags": []
   },
   "outputs": [],
   "source": [
    "#Schedule the notebook to run every day at 09:00 hrs\n",
    "naas.scheduler.add(cron=\"0 9 * * *\")\n",
    "\n",
    "# To delete your scheduler, uncomment the line below and execute the cell \n",
    "# naas.scheduler.delete()"
   ]
  },
  {
   "cell_type": "markdown",
   "id": "0af4db8a-58b7-46cf-ac7d-37428f33f3e8",
   "metadata": {},
   "source": [
    "## Model"
   ]
  },
  {
   "cell_type": "code",
   "execution_count": 45,
   "id": "27acb148-405d-4359-b096-b3fc14db029e",
   "metadata": {
    "execution": {
     "iopub.execute_input": "2022-05-09T12:30:44.185754Z",
     "iopub.status.busy": "2022-05-09T12:30:44.185528Z",
     "iopub.status.idle": "2022-05-09T12:30:44.480481Z",
     "shell.execute_reply": "2022-05-09T12:30:44.479786Z",
     "shell.execute_reply.started": "2022-05-09T12:30:44.185732Z"
    },
    "papermill": {},
    "tags": []
   },
   "outputs": [
    {
     "data": {
      "text/html": [
       "<div>\n",
       "<style scoped>\n",
       "    .dataframe tbody tr th:only-of-type {\n",
       "        vertical-align: middle;\n",
       "    }\n",
       "\n",
       "    .dataframe tbody tr th {\n",
       "        vertical-align: top;\n",
       "    }\n",
       "\n",
       "    .dataframe thead th {\n",
       "        text-align: right;\n",
       "    }\n",
       "</style>\n",
       "<table border=\"1\" class=\"dataframe\">\n",
       "  <thead>\n",
       "    <tr style=\"text-align: right;\">\n",
       "      <th></th>\n",
       "      <th>User_profiles</th>\n",
       "      <th>Status_added</th>\n",
       "    </tr>\n",
       "  </thead>\n",
       "  <tbody>\n",
       "    <tr>\n",
       "      <th>0</th>\n",
       "      <td>https://github.com/Dr0p42</td>\n",
       "      <td>no</td>\n",
       "    </tr>\n",
       "    <tr>\n",
       "      <th>1</th>\n",
       "      <td>https://github.com/FlorentLvr</td>\n",
       "      <td>no</td>\n",
       "    </tr>\n",
       "    <tr>\n",
       "      <th>2</th>\n",
       "      <td>https://github.com/jravenel</td>\n",
       "      <td>no</td>\n",
       "    </tr>\n",
       "  </tbody>\n",
       "</table>\n",
       "</div>"
      ],
      "text/plain": [
       "                   User_profiles Status_added\n",
       "0      https://github.com/Dr0p42           no\n",
       "1  https://github.com/FlorentLvr           no\n",
       "2    https://github.com/jravenel           no"
      ]
     },
     "execution_count": 45,
     "metadata": {},
     "output_type": "execute_result"
    }
   ],
   "source": [
    "#Connect with Gsheet and get all data in a dataframe\n",
    "gsheet.connect(spreadsheet_id)\n",
    "df_gsheet = gsheet.get(sheet_name=sheet_name)\n",
    "df_gsheet.head()"
   ]
  },
  {
   "cell_type": "markdown",
   "id": "078c9898-09ce-48d7-9e33-ce108ce00ba8",
   "metadata": {},
   "source": [
    "**Team profiles available currently**"
   ]
  },
  {
   "cell_type": "code",
   "execution_count": 6,
   "id": "c818d235-5e24-448a-a519-8fd888329a3d",
   "metadata": {
    "execution": {
     "iopub.execute_input": "2022-05-09T11:05:20.854532Z",
     "iopub.status.busy": "2022-05-09T11:05:20.854308Z",
     "iopub.status.idle": "2022-05-09T11:05:22.765425Z",
     "shell.execute_reply": "2022-05-09T11:05:22.764786Z",
     "shell.execute_reply.started": "2022-05-09T11:05:20.854508Z"
    },
    "tags": []
   },
   "outputs": [
    {
     "data": {
      "text/html": [
       "<div>\n",
       "<style scoped>\n",
       "    .dataframe tbody tr th:only-of-type {\n",
       "        vertical-align: middle;\n",
       "    }\n",
       "\n",
       "    .dataframe tbody tr th {\n",
       "        vertical-align: top;\n",
       "    }\n",
       "\n",
       "    .dataframe thead th {\n",
       "        text-align: right;\n",
       "    }\n",
       "</style>\n",
       "<table border=\"1\" class=\"dataframe\">\n",
       "  <thead>\n",
       "    <tr style=\"text-align: right;\">\n",
       "      <th></th>\n",
       "      <th>TEAM</th>\n",
       "      <th>SLUG</th>\n",
       "      <th>TEAM_DESCRIPTION</th>\n",
       "      <th>member_profile</th>\n",
       "      <th>GITHUB</th>\n",
       "      <th>NAME</th>\n",
       "      <th>EMAIL</th>\n",
       "      <th>LOCATION</th>\n",
       "      <th>ORGANIZATION</th>\n",
       "      <th>BIO</th>\n",
       "      <th>LOGIN_NAME</th>\n",
       "      <th>TWITTER</th>\n",
       "      <th>CREATED_AT</th>\n",
       "      <th>UPDATED_AT</th>\n",
       "    </tr>\n",
       "  </thead>\n",
       "  <tbody>\n",
       "    <tr>\n",
       "      <th>0</th>\n",
       "      <td>next_gen_coders</td>\n",
       "      <td>next_gen_coders</td>\n",
       "      <td>All cool stuff over here</td>\n",
       "      <td>https://api.github.com/users/SanjuEpic</td>\n",
       "      <td>sanjeet-experiment</td>\n",
       "      <td>Sanjeet Attili</td>\n",
       "      <td>NaN</td>\n",
       "      <td>Raipur, India</td>\n",
       "      <td>IIIT Naya Raipur</td>\n",
       "      <td>NLP Enthusiast, intern@KPMG, OSC@naas.ai</td>\n",
       "      <td>SanjuEpic</td>\n",
       "      <td>NaN</td>\n",
       "      <td>2019-11-10T09:47:56Z</td>\n",
       "      <td>2022-04-03T10:13:32Z</td>\n",
       "    </tr>\n",
       "    <tr>\n",
       "      <th>1</th>\n",
       "      <td>random1</td>\n",
       "      <td>random1</td>\n",
       "      <td>a random expt channel</td>\n",
       "      <td>https://api.github.com/users/SanjuEpic</td>\n",
       "      <td>sanjeet-experiment</td>\n",
       "      <td>Sanjeet Attili</td>\n",
       "      <td>NaN</td>\n",
       "      <td>Raipur, India</td>\n",
       "      <td>IIIT Naya Raipur</td>\n",
       "      <td>NLP Enthusiast, intern@KPMG, OSC@naas.ai</td>\n",
       "      <td>SanjuEpic</td>\n",
       "      <td>NaN</td>\n",
       "      <td>2019-11-10T09:47:56Z</td>\n",
       "      <td>2022-04-03T10:13:32Z</td>\n",
       "    </tr>\n",
       "  </tbody>\n",
       "</table>\n",
       "</div>"
      ],
      "text/plain": [
       "              TEAM             SLUG          TEAM_DESCRIPTION  \\\n",
       "0  next_gen_coders  next_gen_coders  All cool stuff over here   \n",
       "1          random1          random1     a random expt channel   \n",
       "\n",
       "                           member_profile              GITHUB            NAME  \\\n",
       "0  https://api.github.com/users/SanjuEpic  sanjeet-experiment  Sanjeet Attili   \n",
       "1  https://api.github.com/users/SanjuEpic  sanjeet-experiment  Sanjeet Attili   \n",
       "\n",
       "   EMAIL       LOCATION      ORGANIZATION  \\\n",
       "0    NaN  Raipur, India  IIIT Naya Raipur   \n",
       "1    NaN  Raipur, India  IIIT Naya Raipur   \n",
       "\n",
       "                                        BIO LOGIN_NAME  TWITTER  \\\n",
       "0  NLP Enthusiast, intern@KPMG, OSC@naas.ai  SanjuEpic      NaN   \n",
       "1  NLP Enthusiast, intern@KPMG, OSC@naas.ai  SanjuEpic      NaN   \n",
       "\n",
       "             CREATED_AT            UPDATED_AT  \n",
       "0  2019-11-10T09:47:56Z  2022-04-03T10:13:32Z  \n",
       "1  2019-11-10T09:47:56Z  2022-04-03T10:13:32Z  "
      ]
     },
     "execution_count": 6,
     "metadata": {},
     "output_type": "execute_result"
    }
   ],
   "source": [
    "df_teams = github.connect(GITHUB_TOKEN).teams.get_profiles(TEAMS_URL)\n",
    "df_teams.head()"
   ]
  },
  {
   "cell_type": "code",
   "execution_count": 7,
   "id": "677619c1-c4b9-4e32-bdc3-80873e7d3696",
   "metadata": {
    "execution": {
     "iopub.execute_input": "2022-05-09T11:05:34.441820Z",
     "iopub.status.busy": "2022-05-09T11:05:34.441595Z",
     "iopub.status.idle": "2022-05-09T11:05:34.446219Z",
     "shell.execute_reply": "2022-05-09T11:05:34.445566Z",
     "shell.execute_reply.started": "2022-05-09T11:05:34.441796Z"
    },
    "tags": []
   },
   "outputs": [],
   "source": [
    "# extracting the slug name of the team\n",
    "team_slug = df_teams[df_teams['TEAM'] == team_name]['SLUG'][0]"
   ]
  },
  {
   "cell_type": "markdown",
   "id": "44030f8c-d71c-428b-aa7f-ee33afaad602",
   "metadata": {},
   "source": [
    "**List organization members**"
   ]
  },
  {
   "cell_type": "code",
   "execution_count": 8,
   "id": "5726c5c5-3a8c-4c81-906f-41986129d83b",
   "metadata": {
    "execution": {
     "iopub.execute_input": "2022-05-09T11:06:01.954343Z",
     "iopub.status.busy": "2022-05-09T11:06:01.954122Z",
     "iopub.status.idle": "2022-05-09T11:06:02.179486Z",
     "shell.execute_reply": "2022-05-09T11:06:02.178835Z",
     "shell.execute_reply.started": "2022-05-09T11:06:01.954320Z"
    },
    "tags": []
   },
   "outputs": [
    {
     "data": {
      "text/plain": [
       "['Dr0p42', 'FlorentLvr', 'SanjuEpic']"
      ]
     },
     "execution_count": 8,
     "metadata": {},
     "output_type": "execute_result"
    }
   ],
   "source": [
    "# Getting the members github profile link to add them to a team\n",
    "member_details = requests.get(ORG_MEMBERS_URL, headers = headers).json()\n",
    "\n",
    "org_members = [member['login'] for member in member_details]\n",
    "org_members"
   ]
  },
  {
   "cell_type": "markdown",
   "id": "bc9f5787-db76-4625-ab21-72d0eebf694b",
   "metadata": {},
   "source": [
    "**Adding the members into the team from Gsheet**"
   ]
  },
  {
   "cell_type": "code",
   "execution_count": 9,
   "id": "5baaf444-7f61-407c-9f99-ba0109571a22",
   "metadata": {
    "execution": {
     "iopub.execute_input": "2022-05-09T11:17:54.077071Z",
     "iopub.status.busy": "2022-05-09T11:17:54.076840Z",
     "iopub.status.idle": "2022-05-09T11:17:54.081660Z",
     "shell.execute_reply": "2022-05-09T11:17:54.081039Z",
     "shell.execute_reply.started": "2022-05-09T11:17:54.077048Z"
    },
    "tags": []
   },
   "outputs": [
    {
     "data": {
      "text/plain": [
       "'https://api.github.com/orgs/sanjeet-experiment/teams/next_gen_coders/memberships/'"
      ]
     },
     "execution_count": 9,
     "metadata": {},
     "output_type": "execute_result"
    }
   ],
   "source": [
    "# Format of url for adding member to team -> https://api.github.com/orgs/{org}/teams/{team_slug}/memberships/{username}\n",
    "\n",
    "URL = \"api.github.com\".join(TEAMS_URL.split('/teams/')[0].split('github.com')) +\\\n",
    "      '/teams/'+f'{team_slug}'+'/memberships/'\n",
    "URL"
   ]
  },
  {
   "cell_type": "code",
   "execution_count": 16,
   "id": "41a17231-d5c3-44e0-962d-32fbc4f279ac",
   "metadata": {
    "execution": {
     "iopub.execute_input": "2022-05-09T11:25:18.171803Z",
     "iopub.status.busy": "2022-05-09T11:25:18.171584Z",
     "iopub.status.idle": "2022-05-09T11:25:18.176463Z",
     "shell.execute_reply": "2022-05-09T11:25:18.175846Z",
     "shell.execute_reply.started": "2022-05-09T11:25:18.171781Z"
    },
    "tags": []
   },
   "outputs": [
    {
     "data": {
      "text/plain": [
       "['Dr0p42', 'FlorentLvr', 'jravenel']"
      ]
     },
     "execution_count": 16,
     "metadata": {},
     "output_type": "execute_result"
    }
   ],
   "source": [
    "profiles_in_sheet = [profile.split('github.com/')[-1] for profile in df_gsheet['User_profiles'].to_list()]\n",
    "profiles_in_sheet"
   ]
  },
  {
   "cell_type": "code",
   "execution_count": 51,
   "id": "9a74975b-fa64-49b6-81d6-d77da2c0bddc",
   "metadata": {
    "execution": {
     "iopub.execute_input": "2022-05-09T12:41:38.698914Z",
     "iopub.status.busy": "2022-05-09T12:41:38.698617Z",
     "iopub.status.idle": "2022-05-09T12:41:39.491674Z",
     "shell.execute_reply": "2022-05-09T12:41:39.490972Z",
     "shell.execute_reply.started": "2022-05-09T12:41:38.698884Z"
    },
    "tags": []
   },
   "outputs": [
    {
     "name": "stdout",
     "output_type": "stream",
     "text": [
      "Member not found with the given profile, please add jravenel to the organization\n",
      "👌 💌 Email has been sent successfully !\n"
     ]
    }
   ],
   "source": [
    "for idx, handle in enumerate(profiles_in_sheet):\n",
    "    if handle in org_members:\n",
    "        \n",
    "        if df_gsheet.loc[idx, 'Status_added'] == 'yes':\n",
    "            continue\n",
    "\n",
    "        r = requests.put(url = URL+handle,\n",
    "                         headers = headers)\n",
    "        if r.status_code == 200:\n",
    "            print(f'Successfully added the member {handle} to team {team_slug}')\n",
    "            df_gsheet.loc[idx, 'Status_added'] = 'yes'\n",
    "\n",
    "        else:\n",
    "            print(r)\n",
    "    else:\n",
    "        print(f'Member not found with the given profile, please add {handle} to the organization')\n",
    "        naas.notification.send(email_to = email_to, subject = subject, html = content + f\"\\n<a href = https://github.com/{handle}> Click here to view profile </a>\")\n",
    "        df_gsheet.loc[idx,'Status_added'] = 'Profile does not exist, mail sent to the team!'"
   ]
  },
  {
   "cell_type": "markdown",
   "id": "08f0cb84-c9aa-42a7-8021-5d4ac94bb430",
   "metadata": {},
   "source": [
    "**Updating the google sheet with the new details**"
   ]
  },
  {
   "cell_type": "code",
   "execution_count": 47,
   "id": "92240ba4-b1f9-40e0-bbe3-55ca0f7c7155",
   "metadata": {
    "execution": {
     "iopub.execute_input": "2022-05-09T12:31:06.247833Z",
     "iopub.status.busy": "2022-05-09T12:31:06.247612Z",
     "iopub.status.idle": "2022-05-09T12:31:06.254742Z",
     "shell.execute_reply": "2022-05-09T12:31:06.254142Z",
     "shell.execute_reply.started": "2022-05-09T12:31:06.247810Z"
    },
    "tags": []
   },
   "outputs": [
    {
     "data": {
      "text/html": [
       "<div>\n",
       "<style scoped>\n",
       "    .dataframe tbody tr th:only-of-type {\n",
       "        vertical-align: middle;\n",
       "    }\n",
       "\n",
       "    .dataframe tbody tr th {\n",
       "        vertical-align: top;\n",
       "    }\n",
       "\n",
       "    .dataframe thead th {\n",
       "        text-align: right;\n",
       "    }\n",
       "</style>\n",
       "<table border=\"1\" class=\"dataframe\">\n",
       "  <thead>\n",
       "    <tr style=\"text-align: right;\">\n",
       "      <th></th>\n",
       "      <th>User_profiles</th>\n",
       "      <th>Status_added</th>\n",
       "    </tr>\n",
       "  </thead>\n",
       "  <tbody>\n",
       "    <tr>\n",
       "      <th>0</th>\n",
       "      <td>https://github.com/Dr0p42</td>\n",
       "      <td>yes</td>\n",
       "    </tr>\n",
       "    <tr>\n",
       "      <th>1</th>\n",
       "      <td>https://github.com/FlorentLvr</td>\n",
       "      <td>yes</td>\n",
       "    </tr>\n",
       "    <tr>\n",
       "      <th>2</th>\n",
       "      <td>https://github.com/jravenel</td>\n",
       "      <td>Profile does not exist, mail sent to the team!</td>\n",
       "    </tr>\n",
       "  </tbody>\n",
       "</table>\n",
       "</div>"
      ],
      "text/plain": [
       "                   User_profiles  \\\n",
       "0      https://github.com/Dr0p42   \n",
       "1  https://github.com/FlorentLvr   \n",
       "2    https://github.com/jravenel   \n",
       "\n",
       "                                     Status_added  \n",
       "0                                             yes  \n",
       "1                                             yes  \n",
       "2  Profile does not exist, mail sent to the team!  "
      ]
     },
     "execution_count": 47,
     "metadata": {},
     "output_type": "execute_result"
    }
   ],
   "source": [
    "df_gsheet.head()"
   ]
  },
  {
   "cell_type": "code",
   "execution_count": 48,
   "id": "f9d37290-25bd-4801-b928-7d4346c8e621",
   "metadata": {
    "execution": {
     "iopub.execute_input": "2022-05-09T12:31:27.808427Z",
     "iopub.status.busy": "2022-05-09T12:31:27.808206Z",
     "iopub.status.idle": "2022-05-09T12:31:29.620779Z",
     "shell.execute_reply": "2022-05-09T12:31:29.620125Z",
     "shell.execute_reply.started": "2022-05-09T12:31:27.808405Z"
    },
    "tags": []
   },
   "outputs": [
    {
     "data": {
      "text/plain": [
       "{'insertedRow': 3}"
      ]
     },
     "execution_count": 48,
     "metadata": {},
     "output_type": "execute_result"
    }
   ],
   "source": [
    "gsheet.connect(spreadsheet_id).send(\n",
    "    sheet_name=sheet_name,\n",
    "    data=df_gsheet,\n",
    "    append=False\n",
    ")"
   ]
  },
  {
   "cell_type": "markdown",
   "id": "84dc388a-687d-4551-a051-791feced9234",
   "metadata": {},
   "source": [
    "## Output"
   ]
  },
  {
   "cell_type": "markdown",
   "id": "14c4ccaa-2298-4a7f-b5fb-d2c6cdfd47e9",
   "metadata": {},
   "source": [
    "**Now let us see the updated list of profiles corresponding to the teams**"
   ]
  },
  {
   "cell_type": "code",
   "execution_count": 49,
   "id": "bd46711c-aedb-4cd4-9f2a-5b8fec7e3ef8",
   "metadata": {
    "execution": {
     "iopub.execute_input": "2022-05-09T12:32:22.231774Z",
     "iopub.status.busy": "2022-05-09T12:32:22.231532Z",
     "iopub.status.idle": "2022-05-09T12:32:24.663829Z",
     "shell.execute_reply": "2022-05-09T12:32:24.662993Z",
     "shell.execute_reply.started": "2022-05-09T12:32:22.231750Z"
    },
    "tags": []
   },
   "outputs": [
    {
     "data": {
      "text/html": [
       "<div>\n",
       "<style scoped>\n",
       "    .dataframe tbody tr th:only-of-type {\n",
       "        vertical-align: middle;\n",
       "    }\n",
       "\n",
       "    .dataframe tbody tr th {\n",
       "        vertical-align: top;\n",
       "    }\n",
       "\n",
       "    .dataframe thead th {\n",
       "        text-align: right;\n",
       "    }\n",
       "</style>\n",
       "<table border=\"1\" class=\"dataframe\">\n",
       "  <thead>\n",
       "    <tr style=\"text-align: right;\">\n",
       "      <th></th>\n",
       "      <th>TEAM</th>\n",
       "      <th>SLUG</th>\n",
       "      <th>TEAM_DESCRIPTION</th>\n",
       "      <th>member_profile</th>\n",
       "      <th>GITHUB</th>\n",
       "      <th>NAME</th>\n",
       "      <th>EMAIL</th>\n",
       "      <th>LOCATION</th>\n",
       "      <th>ORGANIZATION</th>\n",
       "      <th>BIO</th>\n",
       "      <th>LOGIN_NAME</th>\n",
       "      <th>TWITTER</th>\n",
       "      <th>CREATED_AT</th>\n",
       "      <th>UPDATED_AT</th>\n",
       "    </tr>\n",
       "  </thead>\n",
       "  <tbody>\n",
       "    <tr>\n",
       "      <th>0</th>\n",
       "      <td>next_gen_coders</td>\n",
       "      <td>next_gen_coders</td>\n",
       "      <td>All cool stuff over here</td>\n",
       "      <td>https://api.github.com/users/Dr0p42</td>\n",
       "      <td>sanjeet-experiment</td>\n",
       "      <td>Maxime Jublou</td>\n",
       "      <td>maxime@jublou.fr</td>\n",
       "      <td>Pyrénées</td>\n",
       "      <td>naas.ai</td>\n",
       "      <td>PGP Key: https://keybase.io/jubloum</td>\n",
       "      <td>Dr0p42</td>\n",
       "      <td>NaN</td>\n",
       "      <td>2016-09-22T08:07:56Z</td>\n",
       "      <td>2022-04-14T04:59:18Z</td>\n",
       "    </tr>\n",
       "    <tr>\n",
       "      <th>1</th>\n",
       "      <td>next_gen_coders</td>\n",
       "      <td>next_gen_coders</td>\n",
       "      <td>All cool stuff over here</td>\n",
       "      <td>https://api.github.com/users/FlorentLvr</td>\n",
       "      <td>sanjeet-experiment</td>\n",
       "      <td>None</td>\n",
       "      <td>None</td>\n",
       "      <td>None</td>\n",
       "      <td>None</td>\n",
       "      <td>None</td>\n",
       "      <td>FlorentLvr</td>\n",
       "      <td>NaN</td>\n",
       "      <td>2019-02-26T20:34:19Z</td>\n",
       "      <td>2022-04-20T06:35:32Z</td>\n",
       "    </tr>\n",
       "    <tr>\n",
       "      <th>2</th>\n",
       "      <td>next_gen_coders</td>\n",
       "      <td>next_gen_coders</td>\n",
       "      <td>All cool stuff over here</td>\n",
       "      <td>https://api.github.com/users/SanjuEpic</td>\n",
       "      <td>sanjeet-experiment</td>\n",
       "      <td>Sanjeet Attili</td>\n",
       "      <td>None</td>\n",
       "      <td>Raipur, India</td>\n",
       "      <td>IIIT Naya Raipur</td>\n",
       "      <td>NLP Enthusiast, intern@KPMG, OSC@naas.ai</td>\n",
       "      <td>SanjuEpic</td>\n",
       "      <td>NaN</td>\n",
       "      <td>2019-11-10T09:47:56Z</td>\n",
       "      <td>2022-04-03T10:13:32Z</td>\n",
       "    </tr>\n",
       "    <tr>\n",
       "      <th>3</th>\n",
       "      <td>random1</td>\n",
       "      <td>random1</td>\n",
       "      <td>a random expt channel</td>\n",
       "      <td>https://api.github.com/users/SanjuEpic</td>\n",
       "      <td>sanjeet-experiment</td>\n",
       "      <td>Sanjeet Attili</td>\n",
       "      <td>None</td>\n",
       "      <td>Raipur, India</td>\n",
       "      <td>IIIT Naya Raipur</td>\n",
       "      <td>NLP Enthusiast, intern@KPMG, OSC@naas.ai</td>\n",
       "      <td>SanjuEpic</td>\n",
       "      <td>NaN</td>\n",
       "      <td>2019-11-10T09:47:56Z</td>\n",
       "      <td>2022-04-03T10:13:32Z</td>\n",
       "    </tr>\n",
       "  </tbody>\n",
       "</table>\n",
       "</div>"
      ],
      "text/plain": [
       "              TEAM             SLUG          TEAM_DESCRIPTION  \\\n",
       "0  next_gen_coders  next_gen_coders  All cool stuff over here   \n",
       "1  next_gen_coders  next_gen_coders  All cool stuff over here   \n",
       "2  next_gen_coders  next_gen_coders  All cool stuff over here   \n",
       "3          random1          random1     a random expt channel   \n",
       "\n",
       "                            member_profile              GITHUB  \\\n",
       "0      https://api.github.com/users/Dr0p42  sanjeet-experiment   \n",
       "1  https://api.github.com/users/FlorentLvr  sanjeet-experiment   \n",
       "2   https://api.github.com/users/SanjuEpic  sanjeet-experiment   \n",
       "3   https://api.github.com/users/SanjuEpic  sanjeet-experiment   \n",
       "\n",
       "             NAME             EMAIL       LOCATION      ORGANIZATION  \\\n",
       "0   Maxime Jublou  maxime@jublou.fr       Pyrénées          naas.ai    \n",
       "1            None              None           None              None   \n",
       "2  Sanjeet Attili              None  Raipur, India  IIIT Naya Raipur   \n",
       "3  Sanjeet Attili              None  Raipur, India  IIIT Naya Raipur   \n",
       "\n",
       "                                        BIO  LOGIN_NAME  TWITTER  \\\n",
       "0       PGP Key: https://keybase.io/jubloum      Dr0p42      NaN   \n",
       "1                                      None  FlorentLvr      NaN   \n",
       "2  NLP Enthusiast, intern@KPMG, OSC@naas.ai   SanjuEpic      NaN   \n",
       "3  NLP Enthusiast, intern@KPMG, OSC@naas.ai   SanjuEpic      NaN   \n",
       "\n",
       "             CREATED_AT            UPDATED_AT  \n",
       "0  2016-09-22T08:07:56Z  2022-04-14T04:59:18Z  \n",
       "1  2019-02-26T20:34:19Z  2022-04-20T06:35:32Z  \n",
       "2  2019-11-10T09:47:56Z  2022-04-03T10:13:32Z  \n",
       "3  2019-11-10T09:47:56Z  2022-04-03T10:13:32Z  "
      ]
     },
     "execution_count": 49,
     "metadata": {},
     "output_type": "execute_result"
    }
   ],
   "source": [
    "df_teams = github.connect(GITHUB_TOKEN).teams.get_profiles(TEAMS_URL)\n",
    "df_teams.head()"
   ]
  },
  {
   "cell_type": "markdown",
   "id": "4c3b6444-bce4-45c6-acf5-7baca7fa628f",
   "metadata": {},
   "source": [
    "**Updated google sheet below**"
   ]
  },
  {
   "cell_type": "code",
   "execution_count": 50,
   "id": "b5ed4110-f196-4b7a-bb12-e006d7063a52",
   "metadata": {
    "execution": {
     "iopub.execute_input": "2022-05-09T12:33:24.504469Z",
     "iopub.status.busy": "2022-05-09T12:33:24.504246Z",
     "iopub.status.idle": "2022-05-09T12:33:24.876494Z",
     "shell.execute_reply": "2022-05-09T12:33:24.875755Z",
     "shell.execute_reply.started": "2022-05-09T12:33:24.504446Z"
    }
   },
   "outputs": [
    {
     "data": {
      "text/html": [
       "<div>\n",
       "<style scoped>\n",
       "    .dataframe tbody tr th:only-of-type {\n",
       "        vertical-align: middle;\n",
       "    }\n",
       "\n",
       "    .dataframe tbody tr th {\n",
       "        vertical-align: top;\n",
       "    }\n",
       "\n",
       "    .dataframe thead th {\n",
       "        text-align: right;\n",
       "    }\n",
       "</style>\n",
       "<table border=\"1\" class=\"dataframe\">\n",
       "  <thead>\n",
       "    <tr style=\"text-align: right;\">\n",
       "      <th></th>\n",
       "      <th>User_profiles</th>\n",
       "      <th>Status_added</th>\n",
       "    </tr>\n",
       "  </thead>\n",
       "  <tbody>\n",
       "    <tr>\n",
       "      <th>0</th>\n",
       "      <td>https://github.com/Dr0p42</td>\n",
       "      <td>yes</td>\n",
       "    </tr>\n",
       "    <tr>\n",
       "      <th>1</th>\n",
       "      <td>https://github.com/FlorentLvr</td>\n",
       "      <td>yes</td>\n",
       "    </tr>\n",
       "    <tr>\n",
       "      <th>2</th>\n",
       "      <td>https://github.com/jravenel</td>\n",
       "      <td>Profile does not exist, mail sent to the team!</td>\n",
       "    </tr>\n",
       "  </tbody>\n",
       "</table>\n",
       "</div>"
      ],
      "text/plain": [
       "                   User_profiles  \\\n",
       "0      https://github.com/Dr0p42   \n",
       "1  https://github.com/FlorentLvr   \n",
       "2    https://github.com/jravenel   \n",
       "\n",
       "                                     Status_added  \n",
       "0                                             yes  \n",
       "1                                             yes  \n",
       "2  Profile does not exist, mail sent to the team!  "
      ]
     },
     "execution_count": 50,
     "metadata": {},
     "output_type": "execute_result"
    }
   ],
   "source": [
    "gsheet.connect(spreadsheet_id)\n",
    "df_gsheet = gsheet.get(sheet_name=sheet_name)\n",
    "df_gsheet"
   ]
  }
 ],
 "metadata": {
  "kernelspec": {
   "display_name": "Python 3",
   "language": "python",
   "name": "python3"
  },
  "language_info": {
   "codemirror_mode": {
    "name": "ipython",
    "version": 3
   },
   "file_extension": ".py",
   "mimetype": "text/x-python",
   "name": "python",
   "nbconvert_exporter": "python",
   "pygments_lexer": "ipython3",
   "version": "3.9.6"
  }
 },
 "nbformat": 4,
 "nbformat_minor": 5
}
