{
 "cells": [
  {
   "cell_type": "markdown",
   "id": "9322ef17-2924-4176-ae18-ce2e690a98a5",
   "metadata": {
    "execution": {
     "iopub.execute_input": "2022-03-18T17:23:55.010026Z",
     "iopub.status.busy": "2022-03-18T17:23:55.009755Z",
     "iopub.status.idle": "2022-03-18T17:23:55.025933Z",
     "shell.execute_reply": "2022-03-18T17:23:55.024891Z",
     "shell.execute_reply.started": "2022-03-18T17:23:55.009955Z"
    },
    "papermill": {},
    "tags": []
   },
   "source": [
    "<img width=\"10%\" alt=\"Naas\" src=\"https://landen.imgix.net/jtci2pxwjczr/assets/5ice39g4.png?w=160\"/>"
   ]
  },
  {
   "cell_type": "markdown",
   "id": "ce92bc39-eb6d-4561-a097-ea2956fd530a",
   "metadata": {
    "papermill": {},
    "tags": []
   },
   "source": [
    "# Google Sheets - Send data to MongoDB\n",
    "<a href=\"https://app.naas.ai/user-redirect/naas/downloader?url=https://raw.githubusercontent.com/jupyter-naas/awesome-notebooks/master/Google%20Sheets/Google_Sheets_Send_data_to_MongoDB.ipynb\" target=\"_parent\"><img src=\"https://naasai-public.s3.eu-west-3.amazonaws.com/open_in_naas.svg\"/></a>"
   ]
  },
  {
   "cell_type": "markdown",
   "id": "4d2d411f-b1c9-4d34-818a-dfd55bca5c9e",
   "metadata": {
    "papermill": {},
    "tags": []
   },
   "source": [
    "**Tags:** #mongodb #googlesheets #nosql\n"
   ]
  },
  {
   "cell_type": "markdown",
   "id": "7d94b4af-4f8e-4722-88a7-79b25e8b11e6",
   "metadata": {
    "papermill": {},
    "tags": []
   },
   "source": [
    "**Author:** [Oketunji Oludolapo](https://www.linkedin.com/in/oludolapo-oketunji/)"
   ]
  },
  {
   "cell_type": "markdown",
   "id": "18ef6055-a157-4c65-9457-c2894c046cdd",
   "metadata": {
    "papermill": {},
    "tags": []
   },
   "source": [
    "This notebook will help you send data from your spreadsheet to your MongoDB database collection"
   ]
  },
  {
   "cell_type": "markdown",
   "id": "329dce4a-b8c9-4622-a2ca-0a4fa03a47a5",
   "metadata": {
    "papermill": {},
    "tags": []
   },
   "source": [
    "## Input"
   ]
  },
  {
   "cell_type": "code",
   "execution_count": null,
   "id": "4df7a442-8af2-41b3-bf82-5982b65b910f",
   "metadata": {
    "papermill": {},
    "tags": []
   },
   "outputs": [],
   "source": [
    "from naas_drivers import mongo, gsheet\n",
    "import pandas as pd\n",
    "import naas"
   ]
  },
  {
   "cell_type": "markdown",
   "id": "f907c6e2-6404-4119-b4f7-859908b4bd07",
   "metadata": {
    "papermill": {},
    "tags": []
   },
   "source": [
    "### Setup Google Sheet\n",
    "- Share your Google Sheet with our service account : 🔗 naas-share@naas-gsheets.iam.gserviceaccount.com"
   ]
  },
  {
   "cell_type": "code",
   "execution_count": null,
   "id": "d08c5003-4752-448a-abd4-0c87b313611b",
   "metadata": {
    "papermill": {},
    "tags": []
   },
   "outputs": [],
   "source": [
    "spreadsheet_id = \"------\"\n",
    "sheet_name = \"Sheet1\""
   ]
  },
  {
   "cell_type": "markdown",
   "id": "d16b2e69-446a-4a0e-8208-d3c8a243c45a",
   "metadata": {
    "papermill": {},
    "tags": []
   },
   "source": [
    "### Setup MongoDB\n",
    "- Get your user, password and connection URL details from your MongoDB Atlas Cluster"
   ]
  },
  {
   "cell_type": "code",
   "execution_count": null,
   "id": "81e6efa3-0cca-4678-8a15-4d34c23179fc",
   "metadata": {
    "papermill": {},
    "tags": []
   },
   "outputs": [],
   "source": [
    "user = \"your user\"\n",
    "passwd = \"your password\"\n",
    "host = \"Your Connection URL\"\n",
    "port = 9090\n",
    "\n",
    "collection_name = \"COLLECTION NAME\"\n",
    "db_name = \"DATABASE NAME\""
   ]
  },
  {
   "cell_type": "markdown",
   "id": "f21bdf3a-1f48-4f8d-888b-7363a0da7b73",
   "metadata": {
    "papermill": {},
    "tags": []
   },
   "source": [
    "### Setup Naas"
   ]
  },
  {
   "cell_type": "code",
   "execution_count": null,
   "id": "1402320f-cf2a-4ddc-b2d1-0f0de73b3aa2",
   "metadata": {
    "papermill": {},
    "tags": []
   },
   "outputs": [],
   "source": [
    "naas.scheduler.add(cron='0 9 * * *') #Send in production this notebook and run it, every day at 9:00.\n",
    "\n",
    "# use this to delete your automation\n",
    "#naas.scheduler.delete()"
   ]
  },
  {
   "cell_type": "markdown",
   "id": "58f44584-a7ab-4d29-8597-551e86ff2f7a",
   "metadata": {
    "papermill": {},
    "tags": []
   },
   "source": [
    "## Model"
   ]
  },
  {
   "cell_type": "markdown",
   "id": "beb89d19-c2ac-4923-9902-2d02be88220e",
   "metadata": {
    "papermill": {},
    "tags": []
   },
   "source": [
    "### Get data from Google Sheets"
   ]
  },
  {
   "cell_type": "code",
   "execution_count": null,
   "id": "b90a2463-0201-442b-b488-eae0040197e4",
   "metadata": {
    "papermill": {},
    "tags": []
   },
   "outputs": [],
   "source": [
    "df = gsheet.connect(spreadsheet_id).get(sheet_name=sheet_name)"
   ]
  },
  {
   "cell_type": "markdown",
   "id": "0775f969-7649-49a7-a18e-ba9a725657d0",
   "metadata": {
    "papermill": {},
    "tags": []
   },
   "source": [
    "## Output"
   ]
  },
  {
   "cell_type": "markdown",
   "id": "e53d686a-de55-47b7-a822-e145e0e7b9ae",
   "metadata": {
    "papermill": {},
    "tags": []
   },
   "source": [
    "### Send data to MongoDB"
   ]
  },
  {
   "cell_type": "code",
   "execution_count": null,
   "id": "b686e2a7-3285-4115-b3e0-7d44e275c36c",
   "metadata": {
    "papermill": {},
    "tags": []
   },
   "outputs": [],
   "source": [
    "mongo.connect(host, port, user, passwd).send(df,\n",
    "                                             collection_name,\n",
    "                                             db_name,\n",
    "                                             replace=True)"
   ]
  }
 ],
 "metadata": {
  "kernelspec": {
   "display_name": "Python 3",
   "language": "python",
   "name": "python3"
  },
  "language_info": {
   "codemirror_mode": {
    "name": "ipython",
    "version": 3
   },
   "file_extension": ".py",
   "mimetype": "text/x-python",
   "name": "python",
   "nbconvert_exporter": "python",
   "pygments_lexer": "ipython3",
   "version": "3.9.6"
  },
  "papermill": {
   "default_parameters": {},
   "environment_variables": {},
   "parameters": {},
   "version": "2.3.4"
  }
 },
 "nbformat": 4,
 "nbformat_minor": 5
}