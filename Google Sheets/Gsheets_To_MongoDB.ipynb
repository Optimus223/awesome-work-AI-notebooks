{
 "cells": [
  {
   "cell_type": "markdown",
   "id": "ce92bc39-eb6d-4561-a097-ea2956fd530a",
   "metadata": {},
   "source": [
    "# MongoDB - Google Sheets To MongoDB"
   ]
  },
  {
   "cell_type": "markdown",
   "id": "18ef6055-a157-4c65-9457-c2894c046cdd",
   "metadata": {},
   "source": [
    "This notebook will help you send data from your spreadsheet to your MongoDB database collection"
   ]
  },
  {
   "cell_type": "markdown",
   "id": "7d94b4af-4f8e-4722-88a7-79b25e8b11e6",
   "metadata": {},
   "source": [
    "**Author:** [Oketunji Oludolapo](https://www.linkedin.com/in/oludolapo-oketunji/)"
   ]
  },
  {
   "cell_type": "markdown",
   "id": "4d2d411f-b1c9-4d34-818a-dfd55bca5c9e",
   "metadata": {},
   "source": [
    "**Tags:** #mongodb #googlesheets #nosql\n"
   ]
  },
  {
   "cell_type": "markdown",
   "id": "329dce4a-b8c9-4622-a2ca-0a4fa03a47a5",
   "metadata": {},
   "source": [
    "## Input"
   ]
  },
  {
   "cell_type": "code",
   "execution_count": null,
   "id": "4df7a442-8af2-41b3-bf82-5982b65b910f",
   "metadata": {
    "tags": []
   },
   "outputs": [],
   "source": [
    "import naas_drivers\n",
    "import pandas as pd\n",
    "import naas"
   ]
  },
  {
   "cell_type": "markdown",
   "id": "58f44584-a7ab-4d29-8597-551e86ff2f7a",
   "metadata": {},
   "source": [
    "## Model"
   ]
  },
  {
   "cell_type": "markdown",
   "id": "fc5fff8d-2271-493e-9781-097c3db969fe",
   "metadata": {},
   "source": [
    "Pre-requisite 1: share your Google Sheet with our service account\n",
    "For the driver to fetch the contents of your google sheet, you need to share it with the service account linked with Naas.\n",
    "\n",
    "🔗 naas-share@naas-gsheets.iam.gserviceaccount.com\n",
    "\n",
    "Pre-requisite 2: Get your user, password and connection URL details from your MongoDB Atlas Cluster"
   ]
  },
  {
   "cell_type": "code",
   "execution_count": null,
   "id": "b90a2463-0201-442b-b488-eae0040197e4",
   "metadata": {
    "tags": []
   },
   "outputs": [],
   "source": [
    "spreadsheet_id = \"SPREADSHEET ID\"\n",
    "naas_drivers.gsheet.connect(spreadsheet_id)"
   ]
  },
  {
   "cell_type": "code",
   "execution_count": null,
   "id": "46b6768d-855c-4d71-9c46-7e643d70a14c",
   "metadata": {
    "tags": []
   },
   "outputs": [],
   "source": [
    "gsheet_data=naas_drivers.gsheet.get(sheet_name=\"Sheet1\")"
   ]
  },
  {
   "cell_type": "code",
   "execution_count": null,
   "id": "1aab466f-b719-49c2-849e-9cc24cd0e172",
   "metadata": {
    "tags": []
   },
   "outputs": [],
   "source": [
    "data = gsheet_data.to_dict(\"records\")"
   ]
  },
  {
   "cell_type": "markdown",
   "id": "0775f969-7649-49a7-a18e-ba9a725657d0",
   "metadata": {},
   "source": [
    "## Output"
   ]
  },
  {
   "cell_type": "code",
   "execution_count": null,
   "id": "b6d73299-2f0c-4c2a-8a4f-f339bc4d4dac",
   "metadata": {
    "tags": []
   },
   "outputs": [],
   "source": [
    "user = \"my user\"\n",
    "passwd = \"my passwd\"\n",
    "host = \"connection url\"\n",
    "port = 9090\n",
    "\n",
    "ftp = naas_drivers.mongo.connect(host, port, user, passwd)"
   ]
  },
  {
   "cell_type": "code",
   "execution_count": null,
   "id": "b686e2a7-3285-4115-b3e0-7d44e275c36c",
   "metadata": {
    "tags": []
   },
   "outputs": [],
   "source": [
    "collection_name = \"COLLECTION NAME\"\n",
    "db_name = \"DATABASE NAME\"\n",
    "data1 = pd.DataFrame(data)\n",
    "naas_drivers.mongo.send(data1, collection_name, db_name,replace=False)"
   ]
  },
  {
   "cell_type": "code",
   "execution_count": null,
   "id": "d8ccc2a3-8e09-4f97-ae51-d5f64b6b68cb",
   "metadata": {
    "tags": []
   },
   "outputs": [],
   "source": [
    "# Run this tab if you want to automate this notebook\n",
    "\n",
    "#naas.scheduler.add(cron='* * * * *') #Send in production this notebook and run it, every day at 9:00.\n",
    "\n",
    "#naas.scheduler.delete() # use this to delete your automation"
   ]
  }
 ],
 "metadata": {
  "kernelspec": {
   "display_name": "Python 3",
   "language": "python",
   "name": "python3"
  },
  "language_info": {
   "codemirror_mode": {
    "name": "ipython",
    "version": 3
   },
   "file_extension": ".py",
   "mimetype": "text/x-python",
   "name": "python",
   "nbconvert_exporter": "python",
   "pygments_lexer": "ipython3",
   "version": "3.9.6"
  }
 },
 "nbformat": 4,
 "nbformat_minor": 5
}
