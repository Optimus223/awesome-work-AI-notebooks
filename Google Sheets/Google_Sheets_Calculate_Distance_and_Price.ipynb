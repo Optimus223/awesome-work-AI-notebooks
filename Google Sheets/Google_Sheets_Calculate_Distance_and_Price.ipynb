{
 "cells": [
  {
   "cell_type": "markdown",
   "id": "aa535dc6",
   "metadata": {
    "papermill": {},
    "tags": []
   },
   "source": [
    "<img width=\"10%\" alt=\"Naas\" src=\"https://landen.imgix.net/jtci2pxwjczr/assets/5ice39g4.png?w=160\"/>"
   ]
  },
  {
   "cell_type": "markdown",
   "id": "9baa5343",
   "metadata": {
    "papermill": {},
    "tags": []
   },
   "source": [
    "# Google Sheets - Calculate distance and price\n",
    "<a href=\"https://app.naas.ai/user-redirect/naas/downloader?url=https://raw.githubusercontent.com/jupyter-naas/awesome-notebooks/master/Google%20Sheets/Google_Sheets_Get_data.ipynb\" target=\"_parent\"><img src=\"https://naasai-public.s3.eu-west-3.amazonaws.com/Open_in_Naas_Lab.svg\"/></a><br><br><a href=\"https://bit.ly/3JyWIk6\">Give Feedbacks</a> | <a href=\"https://app.naas.ai/user-redirect/naas/downloader?url=https://raw.githubusercontent.com/jupyter-naas/awesome-notebooks/master/Naas/Naas_Start_data_product.ipynb\" target=\"_parent\">Generate Data Product</a>"
   ]
  },
  {
   "cell_type": "markdown",
   "id": "6d796f78",
   "metadata": {
    "papermill": {},
    "tags": []
   },
   "source": [
    "**Tags:** #googlesheets #gsheet #data #naas_drivers #operations #snippet #dataframe #google_maps_api #routes_api"
   ]
  },
  {
   "cell_type": "markdown",
   "id": "a7031597-51fe-4422-9b74-a9964fa99fb9",
   "metadata": {
    "papermill": {},
    "tags": []
   },
   "source": [
    "**Author:** [Antonio Georgiev](www.linkedin.com/in/antonio-georgiev-b672a325b)"
   ]
  },
  {
   "cell_type": "markdown",
   "id": "naas-description",
   "metadata": {
    "papermill": {},
    "tags": [
     "description"
    ]
   },
   "source": [
    "**Description:** This template determines the cost and distance between location extracted from a Google Sheet. It uses the Routes API to estimate the price depending on the distance between sites and outputs the updated Google Sheet with distances and prices."
   ]
  },
  {
   "cell_type": "markdown",
   "id": "4f808ecf",
   "metadata": {
    "papermill": {},
    "tags": []
   },
   "source": [
    "## Input"
   ]
  },
  {
   "cell_type": "markdown",
   "id": "82aa1a24",
   "metadata": {
    "papermill": {},
    "tags": []
   },
   "source": [
    "### Import library"
   ]
  },
  {
   "cell_type": "code",
   "execution_count": 1,
   "id": "5dd38d44",
   "metadata": {
    "execution": {
     "iopub.execute_input": "2023-07-26T20:51:57.322852Z",
     "iopub.status.busy": "2023-07-26T20:51:57.322572Z",
     "iopub.status.idle": "2023-07-26T20:51:59.178752Z",
     "shell.execute_reply": "2023-07-26T20:51:59.177875Z",
     "shell.execute_reply.started": "2023-07-26T20:51:57.322773Z"
    },
    "papermill": {},
    "tags": []
   },
   "outputs": [],
   "source": [
    "import naas\n",
    "from naas_drivers import gsheet\n",
    "import requests"
   ]
  },
  {
   "cell_type": "markdown",
   "id": "5ed35269",
   "metadata": {
    "papermill": {},
    "tags": []
   },
   "source": [
    "### Setup Google Sheets\n",
    "- Share your Google Sheets spreadsheet with our service account : 🔗 naas-share@naas-gsheets.iam.gserviceaccount.com"
   ]
  },
  {
   "cell_type": "code",
   "execution_count": 6,
   "id": "2a52d140",
   "metadata": {
    "execution": {
     "iopub.execute_input": "2023-07-26T20:52:56.553737Z",
     "iopub.status.busy": "2023-07-26T20:52:56.553513Z",
     "iopub.status.idle": "2023-07-26T20:52:56.556607Z",
     "shell.execute_reply": "2023-07-26T20:52:56.555971Z",
     "shell.execute_reply.started": "2023-07-26T20:52:56.553714Z"
    },
    "papermill": {},
    "tags": []
   },
   "outputs": [],
   "source": [
    "spreadsheet_url = (\n",
    "    \"https://docs.google.com/spreadsheets/d/1uC35Se4LtHUSQm8EUypAm6psH_q62mQJtLKDSSaKBdI/edit?usp=sharing\"\n",
    ")\n",
    "sheet_name = \"Random\""
   ]
  },
  {
   "cell_type": "markdown",
   "id": "2195c4c9-e7d0-4f14-a6b3-eab68b7e65c4",
   "metadata": {},
   "source": [
    "### Setup API"
   ]
  },
  {
   "cell_type": "markdown",
   "id": "c523bc27-b2a4-48c5-8481-2fba58d23288",
   "metadata": {
    "papermill": {},
    "tags": []
   },
   "source": [
    "### Setup API variables\n",
    "Pre-requisite: \n",
    "1. Follow the steps in the link - https://developers.google.com/maps/documentation/routes/cloud-setup\n",
    "2. Sign up for an account with the Routes API provider.\n",
    "3. Make sure to enable Routes API as it is in the \"Additional APIs\" section in the google cloud console.\n",
    "4. Check the available countries https://developers.google.com/maps/documentation/routes/calculate_toll_fees#toll-locations\n",
    "\n",
    "- `api_key`: This variable holds the Google Cloud Platform (GCP) API key. The key is retrieved from the secret variable using the Naas secret manager.\n",
    "- `api_endpoint`: It provides a specific URL to request route information, including distance, duration, and other route details, from a web service or application"
   ]
  },
  {
   "cell_type": "code",
   "execution_count": 7,
   "id": "ccb3a83d-9448-40cf-ad37-45d939435e5b",
   "metadata": {
    "execution": {
     "iopub.execute_input": "2023-07-26T20:52:57.629705Z",
     "iopub.status.busy": "2023-07-26T20:52:57.629396Z",
     "iopub.status.idle": "2023-07-26T20:52:57.770635Z",
     "shell.execute_reply": "2023-07-26T20:52:57.769968Z",
     "shell.execute_reply.started": "2023-07-26T20:52:57.629671Z"
    },
    "tags": []
   },
   "outputs": [],
   "source": [
    "api_secret_name = \"API\" # add your API key directly in the api_key variable or using naas secret variable\n",
    "api_key = naas.secret.get(api_secret_name)  # Read API key from the secret variable\n",
    "api_endpoint = 'https://routes.googleapis.com/directions/v2:computeRoutes'\n",
    "geocoding_api_endpoint = \"https://maps.googleapis.com/maps/api/geocode/json\""
   ]
  },
  {
   "cell_type": "markdown",
   "id": "f0a5f069",
   "metadata": {
    "papermill": {},
    "tags": []
   },
   "source": [
    "## Model"
   ]
  },
  {
   "cell_type": "markdown",
   "id": "f6591574",
   "metadata": {
    "papermill": {},
    "tags": []
   },
   "source": [
    "### Get data from Google Sheets spreadsheet"
   ]
  },
  {
   "cell_type": "code",
   "execution_count": 8,
   "id": "28fb433c",
   "metadata": {
    "execution": {
     "iopub.execute_input": "2023-07-26T20:52:58.949269Z",
     "iopub.status.busy": "2023-07-26T20:52:58.948972Z",
     "iopub.status.idle": "2023-07-26T20:52:59.356754Z",
     "shell.execute_reply": "2023-07-26T20:52:59.356042Z",
     "shell.execute_reply.started": "2023-07-26T20:52:58.949240Z"
    },
    "papermill": {},
    "tags": []
   },
   "outputs": [],
   "source": [
    "sheet = gsheet.connect(spreadsheet_url)\n",
    "df = sheet.get(sheet_name=sheet_name)"
   ]
  },
  {
   "cell_type": "markdown",
   "id": "a9e1af90-c9e2-4a8e-b03d-d594926ad600",
   "metadata": {},
   "source": [
    "### Convert addresses to coordinates"
   ]
  },
  {
   "cell_type": "code",
   "execution_count": 9,
   "id": "89e65f28-7aeb-4857-b16a-272876553714",
   "metadata": {
    "execution": {
     "iopub.execute_input": "2023-07-26T20:53:02.903816Z",
     "iopub.status.busy": "2023-07-26T20:53:02.903591Z",
     "iopub.status.idle": "2023-07-26T20:53:02.909773Z",
     "shell.execute_reply": "2023-07-26T20:53:02.909227Z",
     "shell.execute_reply.started": "2023-07-26T20:53:02.903791Z"
    },
    "tags": []
   },
   "outputs": [],
   "source": [
    "def get_coordinates(address):\n",
    "    params = {\"address\": address, \"key\": api_key}\n",
    "    response = requests.get(geocoding_api_endpoint, params=params)\n",
    "    data = response.json()\n",
    "    if data[\"status\"] == \"OK\":\n",
    "        result = data[\"results\"][0]\n",
    "        lat = result[\"geometry\"][\"location\"][\"lat\"]\n",
    "        lng = result[\"geometry\"][\"location\"][\"lng\"]\n",
    "        return lat, lng\n",
    "    else:\n",
    "        return None"
   ]
  },
  {
   "cell_type": "markdown",
   "id": "060132f0-a7f0-4908-b725-91cd06c1415f",
   "metadata": {},
   "source": [
    "### Update the Google Sheet with the relevant coordinates"
   ]
  },
  {
   "cell_type": "code",
   "execution_count": 10,
   "id": "88103b78-9e77-4148-864e-d826e7318f2c",
   "metadata": {
    "execution": {
     "iopub.execute_input": "2023-07-26T20:53:04.629832Z",
     "iopub.status.busy": "2023-07-26T20:53:04.629602Z",
     "iopub.status.idle": "2023-07-26T20:53:07.170644Z",
     "shell.execute_reply": "2023-07-26T20:53:07.169892Z",
     "shell.execute_reply.started": "2023-07-26T20:53:04.629809Z"
    },
    "tags": []
   },
   "outputs": [],
   "source": [
    "for index, row in df.iterrows():\n",
    "    origin_address = row[\"Origin\"]\n",
    "    destination_address = row[\"Destination\"]\n",
    "    \n",
    "    origin_coordinates = get_coordinates(origin_address)\n",
    "    if origin_coordinates:\n",
    "        df.at[index, \"Origin lat\"] = origin_coordinates[0]\n",
    "        df.at[index, \"Origin lng\"] = origin_coordinates[1]\n",
    "    \n",
    "    destination_coordinates = get_coordinates(destination_address)\n",
    "    if destination_coordinates:\n",
    "        df.at[index, \"Destination lat\"] = destination_coordinates[0]\n",
    "        df.at[index, \"Destination lng\"] = destination_coordinates[1]"
   ]
  },
  {
   "cell_type": "markdown",
   "id": "c0de533a-f0bf-4844-a7ff-ecd601c66bd1",
   "metadata": {},
   "source": [
    "### Retrieve distance and toll information from Routes API and update the sheet"
   ]
  },
  {
   "cell_type": "code",
   "execution_count": 14,
   "id": "4b88771d-408f-495c-b8d5-cdeb0ee4b7ba",
   "metadata": {
    "execution": {
     "iopub.execute_input": "2023-07-26T20:57:52.735587Z",
     "iopub.status.busy": "2023-07-26T20:57:52.735341Z",
     "iopub.status.idle": "2023-07-26T20:57:54.179220Z",
     "shell.execute_reply": "2023-07-26T20:57:54.178483Z",
     "shell.execute_reply.started": "2023-07-26T20:57:52.735563Z"
    },
    "tags": []
   },
   "outputs": [],
   "source": [
    "headers = {\n",
    "    'Content-Type': 'application/json',\n",
    "    'X-Goog-Api-Key': api_key,\n",
    "    'X-Goog-FieldMask': 'routes.duration,routes.distanceMeters,routes.travelAdvisory.tollInfo,routes.legs.travelAdvisory.tollInfo'\n",
    "}\n",
    "\n",
    "for index, row in df.iterrows():\n",
    "    origin_lat = row[\"Origin lat\"]\n",
    "    origin_lng = row[\"Origin lng\"]\n",
    "    destination_lat = row[\"Destination lat\"]\n",
    "    destination_lng = row[\"Destination lng\"]\n",
    "\n",
    "    payload = {\n",
    "        \"origin\": {\n",
    "            \"location\": {\n",
    "                \"latLng\": {\n",
    "                    \"latitude\": origin_lat,\n",
    "                    \"longitude\": origin_lng\n",
    "                }\n",
    "            }\n",
    "        },\n",
    "        \"destination\": {\n",
    "            \"location\": {\n",
    "                \"latLng\": {\n",
    "                    \"latitude\": destination_lat,\n",
    "                    \"longitude\": destination_lng\n",
    "                }\n",
    "            }\n",
    "        },\n",
    "        \"travelMode\": \"DRIVE\",\n",
    "        \"extraComputations\": [\"TOLLS\"],\n",
    "        \"routeModifiers\": {\n",
    "            \"vehicleInfo\": {\n",
    "                \"emissionType\": \"GASOLINE\"\n",
    "            },\n",
    "            \"tollPasses\": [\n",
    "               # Add relevant toll passes if applicable\n",
    "            ]\n",
    "        }\n",
    "    }\n",
    "\n",
    "    response = requests.post(api_endpoint, json=payload, headers=headers)\n",
    "    if response.status_code == 200:\n",
    "        data = response.json()\n",
    "        if \"routes\" in data and len(data[\"routes\"]) > 0:\n",
    "            route = data[\"routes\"][0]\n",
    "            distance_meters = route.get(\"distanceMeters\")\n",
    "            if distance_meters:\n",
    "                distance_km = distance_meters / 1000\n",
    "                df.loc[index, \"Distance\"] = f\"{distance_km:.2f} km\"\n",
    "            if 'travelAdvisory' in route:\n",
    "                toll_info = route.get(\"travelAdvisory\", {}).get(\"tollInfo\", {})\n",
    "                toll_info = route.get(\"travelAdvisory\", {}).get(\"tollInfo\", {})\n",
    "                estimated_price = toll_info.get(\"estimatedPrice\", [])\n",
    "                if estimated_price:\n",
    "                    currency_code = estimated_price[0].get(\"currencyCode\", \"\")\n",
    "                    toll_cost = float(estimated_price[0].get(\"units\", 0))\n",
    "                    formatted_toll_cost = '{:.2f}'.format(toll_cost)\n",
    "                    df.loc[index, \"Toll costs\"] = currency_code + ' ' + formatted_toll_cost\n",
    "            else:\n",
    "                df.loc[index, \"Toll costs\"] = \"Not available\"\n",
    "        else:\n",
    "            print(f\"No routes found in the response for row {index+2}\")\n",
    "    else:\n",
    "        print(f\"Route calculation request failed for row {index+2} with status code: {response.status_code}\")"
   ]
  },
  {
   "cell_type": "markdown",
   "id": "7cb92cff",
   "metadata": {
    "papermill": {},
    "tags": []
   },
   "source": [
    "## Output"
   ]
  },
  {
   "cell_type": "markdown",
   "id": "3d7cd7d7",
   "metadata": {
    "papermill": {},
    "tags": []
   },
   "source": [
    "### Save the updated Google Sheet"
   ]
  },
  {
   "cell_type": "code",
   "execution_count": 15,
   "id": "cfef7669",
   "metadata": {
    "execution": {
     "iopub.execute_input": "2023-07-26T20:57:55.774793Z",
     "iopub.status.busy": "2023-07-26T20:57:55.774527Z",
     "iopub.status.idle": "2023-07-26T20:57:57.898523Z",
     "shell.execute_reply": "2023-07-26T20:57:57.897811Z",
     "shell.execute_reply.started": "2023-07-26T20:57:55.774767Z"
    },
    "papermill": {},
    "tags": []
   },
   "outputs": [
    {
     "name": "stdout",
     "output_type": "stream",
     "text": [
      "Saved successfully.\n"
     ]
    }
   ],
   "source": [
    "result = gsheet.connect(spreadsheet_url).send(sheet_name=sheet_name, data=df, append=False)\n",
    "if \"error\" in result:\n",
    "    print(\"Failed to save the sheet.\")\n",
    "else:\n",
    "    print(\"Saved successfully.\")"
   ]
  }
 ],
 "metadata": {
  "interpreter": {
   "hash": "aee8b7b246df8f9039afb4144a1f6fd8d2ca17a180786b69acc140d282b71a49"
  },
  "kernelspec": {
   "display_name": "Python 3",
   "language": "python",
   "name": "python3"
  },
  "language_info": {
   "codemirror_mode": {
    "name": "ipython",
    "version": 3
   },
   "file_extension": ".py",
   "mimetype": "text/x-python",
   "name": "python",
   "nbconvert_exporter": "python",
   "pygments_lexer": "ipython3",
   "version": "3.9.6"
  },
  "naas": {
   "notebook_id": "ba4899765b01f9b5812cccd925895c501d58721780bc932b6fc4ff040e190f30",
   "notebook_path": "Google Sheets/Google_Sheets_Get_data.ipynb"
  },
  "papermill": {
   "default_parameters": {},
   "environment_variables": {},
   "parameters": {},
   "version": "2.3.3"
  },
  "widgets": {
   "application/vnd.jupyter.widget-state+json": {
    "state": {},
    "version_major": 2,
    "version_minor": 0
   }
  }
 },
 "nbformat": 4,
 "nbformat_minor": 5
}
