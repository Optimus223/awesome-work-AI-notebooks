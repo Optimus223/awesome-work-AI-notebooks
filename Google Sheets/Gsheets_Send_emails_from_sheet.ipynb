{
 "cells": [
  {
   "cell_type": "markdown",
   "id": "animal-positive",
   "metadata": {
    "papermill": {},
    "tags": []
   },
   "source": [
    "<img width=\"10%\" alt=\"Naas\" src=\"https://landen.imgix.net/jtci2pxwjczr/assets/5ice39g4.png?w=160\"/>"
   ]
  },
  {
   "cell_type": "markdown",
   "id": "saving-summit",
   "metadata": {
    "papermill": {},
    "tags": []
   },
   "source": [
    "# Google Sheets - Gsheets Send emails from sheet\n",
    "<a href=\"https://app.naas.ai/user-redirect/naas/downloader?url=https://raw.githubusercontent.com/jupyter-naas/awesome-notebooks/master/Google%20Sheets/Gsheets_Send_emails_from_sheet.ipynb\" target=\"_parent\"><img src=\"https://img.shields.io/badge/-Open%20in%20Naas-success?labelColor=000000&logo=data:image/svg+xml;base64,PD94bWwgdmVyc2lvbj0iMS4wIiBlbmNvZGluZz0iVVRGLTgiPz4KPHN2ZyB3aWR0aD0iMTAyNHB4IiBoZWlnaHQ9IjEwMjRweCIgdmlld0JveD0iMCAwIDEwMjQgMTAyNCIgeG1sbnM9Imh0dHA6Ly93d3cudzMub3JnLzIwMDAvc3ZnIiB4bWxuczp4bGluaz0iaHR0cDovL3d3dy53My5vcmcvMTk5OS94bGluayIgdmVyc2lvbj0iMS4xIj4KIDwhLS0gR2VuZXJhdGVkIGJ5IFBpeGVsbWF0b3IgUHJvIDIuMC41IC0tPgogPGRlZnM+CiAgPHRleHQgaWQ9InN0cmluZyIgdHJhbnNmb3JtPSJtYXRyaXgoMS4wIDAuMCAwLjAgMS4wIDIyOC4wIDU0LjUpIiBmb250LWZhbWlseT0iQ29tZm9ydGFhLVJlZ3VsYXIsIENvbWZvcnRhYSIgZm9udC1zaXplPSI4MDAiIHRleHQtZGVjb3JhdGlvbj0ibm9uZSIgZmlsbD0iI2ZmZmZmZiIgeD0iMS4xOTk5OTk5OTk5OTk5ODg2IiB5PSI3MDUuMCI+bjwvdGV4dD4KIDwvZGVmcz4KIDx1c2UgaWQ9Im4iIHhsaW5rOmhyZWY9IiNzdHJpbmciLz4KPC9zdmc+Cg==\"/></a>"
   ]
  },
  {
   "cell_type": "markdown",
   "id": "tags_cell",
   "metadata": {
    "papermill": {},
    "tags": []
   },
   "source": [
    "**Tags:** #googlesearch"
   ]
  },
  {
   "cell_type": "markdown",
   "id": "input_cell",
   "metadata": {
    "papermill": {},
    "tags": []
   },
   "source": [
    "## Input"
   ]
  },
  {
   "cell_type": "markdown",
   "id": "78bee392-cead-4562-a97b-4ddf35f0cfee",
   "metadata": {},
   "source": [
    "### Import librairies"
   ]
  },
  {
   "cell_type": "code",
   "execution_count": 5,
   "id": "baking-company",
   "metadata": {
    "papermill": {},
    "tags": []
   },
   "outputs": [],
   "source": [
    "from naas_drivers import gsheet\n",
    "from naas_drivers import email"
   ]
  },
  {
   "cell_type": "markdown",
   "id": "b3213872-df9d-429a-8424-9e779bf2d8dc",
   "metadata": {},
   "source": [
    "### Variables"
   ]
  },
  {
   "cell_type": "code",
   "execution_count": null,
   "id": "e3e6157a-fc7d-436f-bf83-fdfc1d004c0b",
   "metadata": {},
   "outputs": [],
   "source": [
    "username = \"USERNAME\"\n",
    "password = \"PASSWORD\"\n",
    "email_from = \"***@cashstory.com\",\n",
    "smtp_server = \"smtp.gmail.com\",\n",
    "smtp_port = 465,\n",
    "smtp_type = \"SSL\","
   ]
  },
  {
   "cell_type": "markdown",
   "id": "model_cell",
   "metadata": {
    "papermill": {},
    "tags": []
   },
   "source": [
    "## Model"
   ]
  },
  {
   "cell_type": "markdown",
   "id": "comparative-fruit",
   "metadata": {
    "papermill": {},
    "tags": []
   },
   "source": [
    "### Connect to your gmail account"
   ]
  },
  {
   "cell_type": "code",
   "execution_count": null,
   "id": "unknown-experiment",
   "metadata": {
    "papermill": {},
    "tags": []
   },
   "outputs": [],
   "source": [
    "gmail = emails.connect(username,\n",
    "                       password,\n",
    "                       email_from,\n",
    "                       smtp_server,\n",
    "                       smtp_port,\n",
    "                       smtp_type)"
   ]
  },
  {
   "cell_type": "markdown",
   "id": "excellent-nutrition",
   "metadata": {
    "papermill": {},
    "tags": []
   },
   "source": [
    "### Get email list from Gsheet"
   ]
  },
  {
   "cell_type": "code",
   "execution_count": 3,
   "id": "worse-wound",
   "metadata": {
    "papermill": {},
    "tags": []
   },
   "outputs": [],
   "source": [
    "spreadsheet_id = \"1s-TQZrevbmveFKlx2H49fgvr_nZPEY_ffoi0iWal**E\"\n",
    "sheet_name = \"********\"\n",
    "\n",
    "df = gsheet.connect(spreadsheet_id).get(sheet_name)\n",
    "df"
   ]
  },
  {
   "cell_type": "code",
   "execution_count": 11,
   "id": "incident-nickname",
   "metadata": {
    "papermill": {},
    "tags": []
   },
   "outputs": [],
   "source": [
    "emails = df['EMAIL'].drop_duplicates().values\n",
    "print(emails)"
   ]
  },
  {
   "cell_type": "markdown",
   "id": "output_cell",
   "metadata": {
    "papermill": {},
    "tags": []
   },
   "source": [
    "## Output"
   ]
  },
  {
   "cell_type": "markdown",
   "id": "numerical-break",
   "metadata": {
    "papermill": {},
    "tags": []
   },
   "source": [
    "### Send emails batchs"
   ]
  },
  {
   "cell_type": "code",
   "execution_count": 12,
   "id": "recreational-corpus",
   "metadata": {
    "papermill": {},
    "tags": []
   },
   "outputs": [],
   "source": [
    "subject = \"The tesla action is going up\"\n",
    "content = \"check in the link the chart data maide from fresh dataset : [LINK]\"\n",
    "\n",
    "for email in emails:\n",
    "    print(email)\n",
    "#     gmail.send(email_to=email, subject=subject, html=content)"
   ]
  }
 ],
 "metadata": {
  "kernelspec": {
   "display_name": "Python 3",
   "language": "python",
   "name": "python3"
  },
  "language_info": {
   "codemirror_mode": {
    "name": "ipython",
    "version": 3
   },
   "file_extension": ".py",
   "mimetype": "text/x-python",
   "name": "python",
   "nbconvert_exporter": "python",
   "pygments_lexer": "ipython3",
   "version": "3.8.8"
  },
  "papermill": {
   "default_parameters": {},
   "environment_variables": {},
   "parameters": {},
   "version": "2.3.3"
  }
 },
 "nbformat": 4,
 "nbformat_minor": 5
}
