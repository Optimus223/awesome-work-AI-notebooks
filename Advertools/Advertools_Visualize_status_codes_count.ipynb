{
 "cells": [
  {
   "cell_type": "markdown",
   "id": "5da81fdb-1607-4dcd-8945-78492d41c20c",
   "metadata": {},
   "source": [
    "<img width=\"10%\" alt=\"Naas\" src=\"https://landen.imgix.net/jtci2pxwjczr/assets/5ice39g4.png?w=160\"/>"
   ]
  },
  {
   "cell_type": "markdown",
   "id": "96049d01-11e9-4538-9012-57992898281e",
   "metadata": {},
   "source": [
    "# Advertools - Visualize status codes count"
   ]
  },
  {
   "cell_type": "markdown",
   "id": "76b0bd6e-4a5c-472f-a473-a315e3738936",
   "metadata": {},
   "source": [
    "**Tags:** #advertools #adviz #status_code #asset #plotly #naas"
   ]
  },
  {
   "cell_type": "markdown",
   "id": "1089c7e4-b7a9-48ab-8320-e17847ad3b30",
   "metadata": {},
   "source": [
    "**Author:** [Elias Dabbas](https://www.linkedin.com/in/eliasdabbas/)"
   ]
  },
  {
   "cell_type": "markdown",
   "id": "d93cd7a5-1d4f-4bc6-94a2-b74461c7f538",
   "metadata": {},
   "source": [
    "**Description:** This notebook creates a chat to visualize status code count."
   ]
  },
  {
   "cell_type": "markdown",
   "id": "5d84a0cf-6ba8-456a-8b42-1bf63e3a17f2",
   "metadata": {},
   "source": [
    "**References:**\n",
    "- [GitHub - Adviz](https://github.com/eliasdabbas/adviz)"
   ]
  },
  {
   "cell_type": "markdown",
   "id": "a75ef3a2-b261-45a8-bd64-52cb78b5f502",
   "metadata": {},
   "source": [
    "## Input"
   ]
  },
  {
   "cell_type": "markdown",
   "id": "f530c66d-1a5b-47d1-8d80-01f21a83ac3e",
   "metadata": {},
   "source": [
    "### Import libraries"
   ]
  },
  {
   "cell_type": "code",
   "execution_count": 1,
   "id": "1e8d108a-44de-44b4-941f-f12795838c5c",
   "metadata": {
    "execution": {
     "iopub.execute_input": "2023-07-19T06:48:23.495401Z",
     "iopub.status.busy": "2023-07-19T06:48:23.494950Z",
     "iopub.status.idle": "2023-07-19T06:48:36.709074Z",
     "shell.execute_reply": "2023-07-19T06:48:36.708271Z",
     "shell.execute_reply.started": "2023-07-19T06:48:23.495329Z"
    },
    "tags": []
   },
   "outputs": [],
   "source": [
    "try:\n",
    "    import adviz\n",
    "except ModuleNotFoundError:\n",
    "    !pip install adviz --user\n",
    "    import adviz\n",
    "import naas"
   ]
  },
  {
   "cell_type": "markdown",
   "id": "d35a9e6f-71c4-4cb2-b9bc-32c23b18c4ba",
   "metadata": {},
   "source": [
    "### Setup Variables\n",
    "- `name`: The name of the column that you want displayed in the final table. It appears in the caption and defaults to \"data\".\n",
    "- `size`: The size in points of the font of the table. This results in the whole table being resized.\n",
    "- `status_code_list`: This is a list that contains different status codes. These are HTTP status codes which are standard response codes given by web site servers on the internet. The codes help identify the cause of the problem when a web page or other resource does not load properly.\n",
    "- `html_path`: This is a string variable that stores the path where the HTML output will be saved."
   ]
  },
  {
   "cell_type": "code",
   "execution_count": 2,
   "id": "cebcf1a5-23ce-49ca-aee9-aac7ff28a2e4",
   "metadata": {
    "execution": {
     "iopub.execute_input": "2023-07-19T06:48:36.714861Z",
     "iopub.status.busy": "2023-07-19T06:48:36.712954Z",
     "iopub.status.idle": "2023-07-19T06:48:36.738372Z",
     "shell.execute_reply": "2023-07-19T06:48:36.737784Z",
     "shell.execute_reply.started": "2023-07-19T06:48:36.714823Z"
    },
    "tags": []
   },
   "outputs": [],
   "source": [
    "# Inputs\n",
    "name = 'Status codes'\n",
    "size = 14\n",
    "status_code_list = [\n",
    "    200, 400, 201, 401, 405, 503\n",
    "]\n",
    "\n",
    "# Outputs\n",
    "html_path = \"status_code_count.html\""
   ]
  },
  {
   "cell_type": "markdown",
   "id": "1ad6e918-ae61-4a78-9b71-a6ad5f530f53",
   "metadata": {},
   "source": [
    "## Model"
   ]
  },
  {
   "cell_type": "markdown",
   "id": "cd817594-1b7f-4d02-a245-9e1dcd6ad2b6",
   "metadata": {},
   "source": [
    "### Visualize status codes OK and KO"
   ]
  },
  {
   "cell_type": "code",
   "execution_count": 3,
   "id": "5839cc92-18ea-4a57-b9bb-5fa8d0db279c",
   "metadata": {
    "execution": {
     "iopub.execute_input": "2023-07-19T06:48:36.743332Z",
     "iopub.status.busy": "2023-07-19T06:48:36.741574Z",
     "iopub.status.idle": "2023-07-19T06:48:37.724671Z",
     "shell.execute_reply": "2023-07-19T06:48:37.723967Z",
     "shell.execute_reply.started": "2023-07-19T06:48:36.743297Z"
    },
    "tags": []
   },
   "outputs": [
    {
     "data": {
      "text/html": [
       "<style type=\"text/css\">\n",
       "#T_e6dcd_row0_col0, #T_e6dcd_row0_col1, #T_e6dcd_row0_col2, #T_e6dcd_row0_col3, #T_e6dcd_row0_col4, #T_e6dcd_row1_col1, #T_e6dcd_row1_col3, #T_e6dcd_row2_col0, #T_e6dcd_row2_col1, #T_e6dcd_row2_col3, #T_e6dcd_row3_col1, #T_e6dcd_row3_col3, #T_e6dcd_row4_col1, #T_e6dcd_row4_col3, #T_e6dcd_row5_col1, #T_e6dcd_row5_col3 {\n",
       "  background-color: #00224e;\n",
       "  color: #f1f1f1;\n",
       "}\n",
       "#T_e6dcd_row1_col0 {\n",
       "  background-color: #a39a74;\n",
       "  color: #f1f1f1;\n",
       "}\n",
       "#T_e6dcd_row1_col2, #T_e6dcd_row1_col4 {\n",
       "  background-color: #35456c;\n",
       "  color: #f1f1f1;\n",
       "}\n",
       "#T_e6dcd_row2_col2, #T_e6dcd_row2_col4 {\n",
       "  background-color: #666970;\n",
       "  color: #f1f1f1;\n",
       "}\n",
       "#T_e6dcd_row3_col0 {\n",
       "  background-color: #a49b74;\n",
       "  color: #f1f1f1;\n",
       "}\n",
       "#T_e6dcd_row3_col2, #T_e6dcd_row3_col4 {\n",
       "  background-color: #948e77;\n",
       "  color: #f1f1f1;\n",
       "}\n",
       "#T_e6dcd_row4_col0 {\n",
       "  background-color: #a89e73;\n",
       "  color: #f1f1f1;\n",
       "}\n",
       "#T_e6dcd_row4_col2, #T_e6dcd_row4_col4 {\n",
       "  background-color: #c8b866;\n",
       "  color: #000000;\n",
       "}\n",
       "#T_e6dcd_row5_col0, #T_e6dcd_row5_col2, #T_e6dcd_row5_col4 {\n",
       "  background-color: #fee838;\n",
       "  color: #000000;\n",
       "}\n",
       "</style>\n",
       "<table id=\"T_e6dcd\" style=font-size:14pt;>\n",
       "  <caption><h2>Counts of <b>Status codes</b></h2></caption>\n",
       "  <thead>\n",
       "    <tr>\n",
       "      <th class=\"blank level0\" >&nbsp;</th>\n",
       "      <th id=\"T_e6dcd_level0_col0\" class=\"col_heading level0 col0\" >Status codes</th>\n",
       "      <th id=\"T_e6dcd_level0_col1\" class=\"col_heading level0 col1\" >count</th>\n",
       "      <th id=\"T_e6dcd_level0_col2\" class=\"col_heading level0 col2\" >cum. count</th>\n",
       "      <th id=\"T_e6dcd_level0_col3\" class=\"col_heading level0 col3\" >%</th>\n",
       "      <th id=\"T_e6dcd_level0_col4\" class=\"col_heading level0 col4\" >cum. %</th>\n",
       "    </tr>\n",
       "  </thead>\n",
       "  <tbody>\n",
       "    <tr>\n",
       "      <th id=\"T_e6dcd_level0_row0\" class=\"row_heading level0 row0\" >1</th>\n",
       "      <td id=\"T_e6dcd_row0_col0\" class=\"data row0 col0\" >200</td>\n",
       "      <td id=\"T_e6dcd_row0_col1\" class=\"data row0 col1\" >1</td>\n",
       "      <td id=\"T_e6dcd_row0_col2\" class=\"data row0 col2\" >1</td>\n",
       "      <td id=\"T_e6dcd_row0_col3\" class=\"data row0 col3\" >16.7%</td>\n",
       "      <td id=\"T_e6dcd_row0_col4\" class=\"data row0 col4\" >16.7%</td>\n",
       "    </tr>\n",
       "    <tr>\n",
       "      <th id=\"T_e6dcd_level0_row1\" class=\"row_heading level0 row1\" >2</th>\n",
       "      <td id=\"T_e6dcd_row1_col0\" class=\"data row1 col0\" >400</td>\n",
       "      <td id=\"T_e6dcd_row1_col1\" class=\"data row1 col1\" >1</td>\n",
       "      <td id=\"T_e6dcd_row1_col2\" class=\"data row1 col2\" >2</td>\n",
       "      <td id=\"T_e6dcd_row1_col3\" class=\"data row1 col3\" >16.7%</td>\n",
       "      <td id=\"T_e6dcd_row1_col4\" class=\"data row1 col4\" >33.3%</td>\n",
       "    </tr>\n",
       "    <tr>\n",
       "      <th id=\"T_e6dcd_level0_row2\" class=\"row_heading level0 row2\" >3</th>\n",
       "      <td id=\"T_e6dcd_row2_col0\" class=\"data row2 col0\" >201</td>\n",
       "      <td id=\"T_e6dcd_row2_col1\" class=\"data row2 col1\" >1</td>\n",
       "      <td id=\"T_e6dcd_row2_col2\" class=\"data row2 col2\" >3</td>\n",
       "      <td id=\"T_e6dcd_row2_col3\" class=\"data row2 col3\" >16.7%</td>\n",
       "      <td id=\"T_e6dcd_row2_col4\" class=\"data row2 col4\" >50.0%</td>\n",
       "    </tr>\n",
       "    <tr>\n",
       "      <th id=\"T_e6dcd_level0_row3\" class=\"row_heading level0 row3\" >4</th>\n",
       "      <td id=\"T_e6dcd_row3_col0\" class=\"data row3 col0\" >401</td>\n",
       "      <td id=\"T_e6dcd_row3_col1\" class=\"data row3 col1\" >1</td>\n",
       "      <td id=\"T_e6dcd_row3_col2\" class=\"data row3 col2\" >4</td>\n",
       "      <td id=\"T_e6dcd_row3_col3\" class=\"data row3 col3\" >16.7%</td>\n",
       "      <td id=\"T_e6dcd_row3_col4\" class=\"data row3 col4\" >66.7%</td>\n",
       "    </tr>\n",
       "    <tr>\n",
       "      <th id=\"T_e6dcd_level0_row4\" class=\"row_heading level0 row4\" >5</th>\n",
       "      <td id=\"T_e6dcd_row4_col0\" class=\"data row4 col0\" >405</td>\n",
       "      <td id=\"T_e6dcd_row4_col1\" class=\"data row4 col1\" >1</td>\n",
       "      <td id=\"T_e6dcd_row4_col2\" class=\"data row4 col2\" >5</td>\n",
       "      <td id=\"T_e6dcd_row4_col3\" class=\"data row4 col3\" >16.7%</td>\n",
       "      <td id=\"T_e6dcd_row4_col4\" class=\"data row4 col4\" >83.3%</td>\n",
       "    </tr>\n",
       "    <tr>\n",
       "      <th id=\"T_e6dcd_level0_row5\" class=\"row_heading level0 row5\" >6</th>\n",
       "      <td id=\"T_e6dcd_row5_col0\" class=\"data row5 col0\" >503</td>\n",
       "      <td id=\"T_e6dcd_row5_col1\" class=\"data row5 col1\" >1</td>\n",
       "      <td id=\"T_e6dcd_row5_col2\" class=\"data row5 col2\" >6</td>\n",
       "      <td id=\"T_e6dcd_row5_col3\" class=\"data row5 col3\" >16.7%</td>\n",
       "      <td id=\"T_e6dcd_row5_col4\" class=\"data row5 col4\" >100.0%</td>\n",
       "    </tr>\n",
       "  </tbody>\n",
       "</table>\n"
      ],
      "text/plain": [
       "<pandas.io.formats.style.Styler at 0x7faea5bac5b0>"
      ]
     },
     "execution_count": 3,
     "metadata": {},
     "output_type": "execute_result"
    }
   ],
   "source": [
    "fig = adviz.value_counts_plus(\n",
    "    status_code_list,\n",
    "    name=name,\n",
    "    size=size\n",
    ")\n",
    "fig"
   ]
  },
  {
   "cell_type": "markdown",
   "id": "550110a8-50b2-49a0-9752-5132256356b9",
   "metadata": {},
   "source": [
    "## Output"
   ]
  },
  {
   "cell_type": "markdown",
   "id": "7db844ce-6edf-4ac6-8882-1057a162a7fd",
   "metadata": {},
   "source": [
    "### Export fig to HTML"
   ]
  },
  {
   "cell_type": "code",
   "execution_count": 4,
   "id": "620126c9-16c0-4396-bfae-8036436b50cd",
   "metadata": {
    "execution": {
     "iopub.execute_input": "2023-07-19T06:48:37.726872Z",
     "iopub.status.busy": "2023-07-19T06:48:37.726480Z",
     "iopub.status.idle": "2023-07-19T06:48:37.778632Z",
     "shell.execute_reply": "2023-07-19T06:48:37.777932Z",
     "shell.execute_reply.started": "2023-07-19T06:48:37.726841Z"
    },
    "tags": []
   },
   "outputs": [],
   "source": [
    "fig.to_html(html_path)"
   ]
  },
  {
   "cell_type": "markdown",
   "id": "eabb6826-4cc6-4edd-b45a-322abfe38fea",
   "metadata": {},
   "source": [
    "### Share asset with naas\n",
    "You have the capability to distribute this chart using the provided public URL"
   ]
  },
  {
   "cell_type": "code",
   "execution_count": 5,
   "id": "045b39f3-4429-4d33-af5e-cf5ba385905e",
   "metadata": {
    "execution": {
     "iopub.execute_input": "2023-07-19T06:48:37.780004Z",
     "iopub.status.busy": "2023-07-19T06:48:37.779756Z",
     "iopub.status.idle": "2023-07-19T06:48:43.418143Z",
     "shell.execute_reply": "2023-07-19T06:48:43.417329Z",
     "shell.execute_reply.started": "2023-07-19T06:48:37.779982Z"
    },
    "tags": []
   },
   "outputs": [
    {
     "name": "stdout",
     "output_type": "stream",
     "text": [
      "👌 Well done! Your Assets has been sent to production.\n",
      "\n"
     ]
    },
    {
     "data": {
      "application/javascript": [
       "\n",
       "    if (!window.copyToClipboard) {\n",
       "        window.copyToClipboard = (text) => {\n",
       "            const dummy = document.createElement(\"textarea\");\n",
       "            document.body.appendChild(dummy);\n",
       "            dummy.value = text;\n",
       "            dummy.select();\n",
       "            document.execCommand(\"copy\");\n",
       "            document.body.removeChild(dummy);\n",
       "        }\n",
       "    }\n",
       "    "
      ],
      "text/plain": [
       "<IPython.core.display.Javascript object>"
      ]
     },
     "metadata": {},
     "output_type": "display_data"
    },
    {
     "data": {
      "application/vnd.jupyter.widget-view+json": {
       "model_id": "21b04ce2ef614962a84d31582ed0c4bd",
       "version_major": 2,
       "version_minor": 0
      },
      "text/plain": [
       "Button(button_style='primary', description='Copy URL', style=ButtonStyle())"
      ]
     },
     "metadata": {},
     "output_type": "display_data"
    },
    {
     "data": {
      "application/vnd.jupyter.widget-view+json": {
       "model_id": "07418d30cf07430ebeb49955c0ffae8e",
       "version_major": 2,
       "version_minor": 0
      },
      "text/plain": [
       "Output()"
      ]
     },
     "metadata": {},
     "output_type": "display_data"
    },
    {
     "name": "stdout",
     "output_type": "stream",
     "text": [
      "PS: to remove the \"Assets\" feature, just replace .add by .delete\n"
     ]
    },
    {
     "data": {
      "text/plain": [
       "'https://public.naas.ai/ZmxvcmVudC00MG5hYXMtMkVhaQ==/asset/c0c7239e3149ad8900eefa0a75d7f6ac11f3a6b57ac19dcf5287f767a51e'"
      ]
     },
     "execution_count": 5,
     "metadata": {},
     "output_type": "execute_result"
    }
   ],
   "source": [
    "naas.asset.add(html_path, params={\"inline\": True})"
   ]
  },
  {
   "cell_type": "code",
   "execution_count": null,
   "id": "799b2fe8-4bcd-45eb-b6e0-927f61d9935b",
   "metadata": {},
   "outputs": [],
   "source": []
  }
 ],
 "metadata": {
  "kernelspec": {
   "display_name": "Python 3",
   "language": "python",
   "name": "python3"
  },
  "language_info": {
   "codemirror_mode": {
    "name": "ipython",
    "version": 3
   },
   "file_extension": ".py",
   "mimetype": "text/x-python",
   "name": "python",
   "nbconvert_exporter": "python",
   "pygments_lexer": "ipython3",
   "version": "3.9.6"
  },
  "widgets": {
   "application/vnd.jupyter.widget-state+json": {
    "state": {},
    "version_major": 2,
    "version_minor": 0
   }
  }
 },
 "nbformat": 4,
 "nbformat_minor": 5
}
