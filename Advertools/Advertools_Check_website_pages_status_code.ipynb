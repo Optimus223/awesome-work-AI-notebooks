{
 "cells": [
  {
   "cell_type": "markdown",
   "id": "c5f04051-0d87-43e5-8e32-a938245e3634",
   "metadata": {
    "papermill": {},
    "tags": []
   },
   "source": [
    "<img width=\"10%\" alt=\"Naas\" src=\"https://landen.imgix.net/jtci2pxwjczr/assets/5ice39g4.png?w=160\"/>"
   ]
  },
  {
   "cell_type": "markdown",
   "id": "6804ca94-e0dc-4072-8850-c131bb1009f1",
   "metadata": {
    "papermill": {},
    "tags": []
   },
   "source": [
    "# Advertools - Check website pages status code"
   ]
  },
  {
   "cell_type": "markdown",
   "id": "0b9853d8-5344-4973-9f07-8bc49fb05caa",
   "metadata": {
    "papermill": {},
    "tags": []
   },
   "source": [
    "**Tags:** #advertools #website #status #code #check #pages"
   ]
  },
  {
   "cell_type": "markdown",
   "id": "af1dcc2d-e7a7-4a0a-a2cc-671f1c2eeb4d",
   "metadata": {
    "papermill": {},
    "tags": []
   },
   "source": [
    "**Author:** [Florent Ravenel](https://www.linkedin.com/in/florent-ravenel)"
   ]
  },
  {
   "cell_type": "markdown",
   "id": "d5b37733-70f2-49b9-ae27-52e9b652ed89",
   "metadata": {
    "papermill": {},
    "tags": []
   },
   "source": [
    "**Last update:** 2023-08-02 (Created: 2023-08-02)"
   ]
  },
  {
   "cell_type": "markdown",
   "id": "fbd8c55a-275c-445d-965a-8a4c7f87ebb6",
   "metadata": {
    "papermill": {},
    "tags": []
   },
   "source": [
    "**Description:** This notebook checks the status code of website pages using Advertools. It is usefull for organizations to quickly check the status of their website pages."
   ]
  },
  {
   "cell_type": "markdown",
   "id": "034bdb3a-9c8a-42b5-a0eb-4c71545f2cd3",
   "metadata": {
    "papermill": {},
    "tags": []
   },
   "source": [
    "**References:**\n- [Advertools Documentation](https://advertools.readthedocs.io/en/latest/)\n- [HTTP Status Codes](https://www.restapitutorial.com/httpstatuscodes.html)"
   ]
  },
  {
   "cell_type": "markdown",
   "id": "aa56eea7-0ee3-42f0-97dc-d8fc7430b53e",
   "metadata": {
    "papermill": {},
    "tags": []
   },
   "source": [
    "## Input"
   ]
  },
  {
   "cell_type": "markdown",
   "id": "7f28bbf4-9907-4556-9049-030c1de30db6",
   "metadata": {
    "papermill": {},
    "tags": []
   },
   "source": [
    "### Import libraries"
   ]
  },
  {
   "cell_type": "code",
   "execution_count": null,
   "id": "e523a318-4653-431f-801b-78be109a01e7",
   "metadata": {
    "papermill": {},
    "tags": []
   },
   "source": "import advertools as adv",
   "outputs": []
  },
  {
   "cell_type": "markdown",
   "id": "4a6151cd-258b-4cbf-9cc7-0545d8097ac2",
   "metadata": {
    "papermill": {},
    "tags": []
   },
   "source": [
    "### Setup variables\n- `url`: URL of the website page to check"
   ]
  },
  {
   "cell_type": "code",
   "execution_count": null,
   "id": "be66e7aa-c1cd-4ade-9141-e7877af706bf",
   "metadata": {
    "papermill": {},
    "tags": []
   },
   "source": "url = \"https://www.example.com/\"",
   "outputs": []
  },
  {
   "cell_type": "markdown",
   "id": "b4b92cff-6977-42c9-b700-107fc9b434af",
   "metadata": {
    "papermill": {},
    "tags": []
   },
   "source": [
    "## Model"
   ]
  },
  {
   "cell_type": "markdown",
   "id": "25a4f791-63eb-4c0f-8b70-88ed8a80fca0",
   "metadata": {
    "papermill": {},
    "tags": []
   },
   "source": [
    "### Check website page status code"
   ]
  },
  {
   "cell_type": "code",
   "execution_count": null,
   "id": "97ca6cc7-0ca8-455c-a3c5-26f4d2ebfd2d",
   "metadata": {
    "papermill": {},
    "tags": []
   },
   "source": "status_code = adv.check_status_code(url)",
   "outputs": []
  },
  {
   "cell_type": "markdown",
   "id": "602847f7-fc38-426d-acc3-b148ea16fc83",
   "metadata": {
    "papermill": {},
    "tags": []
   },
   "source": [
    "## Output"
   ]
  },
  {
   "cell_type": "markdown",
   "id": "29c6e0e3-af92-4195-ad16-84f864b0d95e",
   "metadata": {
    "papermill": {},
    "tags": []
   },
   "source": [
    "### Display result"
   ]
  },
  {
   "cell_type": "code",
   "execution_count": null,
   "id": "7d645c91-9799-4fdb-b336-3c0d598f9735",
   "metadata": {
    "papermill": {},
    "tags": []
   },
   "source": "print(f\"The status code of {url} is {status_code}.\")",
   "outputs": []
  },
  {
   "cell_type": "markdown",
   "id": "ec5deee2-f478-407f-a60b-3b6b93a4c3dd",
   "metadata": {
    "papermill": {},
    "tags": []
   },
   "source": [
    " "
   ]
  }
 ],
 "metadata": {
  "kernelspec": {
   "display_name": "Python 3",
   "language": "python",
   "name": "python3"
  },
  "language_info": {
   "codemirror_mode": {
    "name": "ipython",
    "version": 3
   },
   "file_extension": ".py",
   "mimetype": "text/x-python",
   "name": "python",
   "nbconvert_exporter": "python",
   "pygments_lexer": "ipython3",
   "version": "3.9.6"
  },
  "widgets": {
   "application/vnd.jupyter.widget-state+json": {
    "state": {},
    "version_major": 2,
    "version_minor": 0
   }
  }
 },
 "nbformat": 4,
 "nbformat_minor": 5
}