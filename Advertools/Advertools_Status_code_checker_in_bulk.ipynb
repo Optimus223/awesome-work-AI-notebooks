{
 "cells": [
  {
   "cell_type": "markdown",
   "id": "5da81fdb-1607-4dcd-8945-78492d41c20c",
   "metadata": {},
   "source": [
    "<img width=\"10%\" alt=\"Naas\" src=\"https://landen.imgix.net/jtci2pxwjczr/assets/5ice39g4.png?w=160\"/>"
   ]
  },
  {
   "cell_type": "markdown",
   "id": "96049d01-11e9-4538-9012-57992898281e",
   "metadata": {},
   "source": [
    "# Advertools - Bulk status code checker with response headers"
   ]
  },
  {
   "cell_type": "markdown",
   "id": "76b0bd6e-4a5c-472f-a473-a315e3738936",
   "metadata": {},
   "source": [
    "**Tags:** #advertools #adviz #website #analyze #audit #seo #status_code #response_headers"
   ]
  },
  {
   "cell_type": "markdown",
   "id": "1089c7e4-b7a9-48ab-8320-e17847ad3b30",
   "metadata": {},
   "source": [
    "**Author:** [Elias Dabbas](https://www.linkedin.com/in/eliasdabbas/)"
   ]
  },
  {
   "cell_type": "markdown",
   "id": "d93cd7a5-1d4f-4bc6-94a2-b74461c7f538",
   "metadata": {},
   "source": [
    "**Description:** This notebook runs an automated status code checker with response headers using the HTTP `HEAD` method.\n",
    "\n",
    "* Bulk and concurrent checking of status codes for a known list of URLs\n",
    "* Get all available response headers from all URLs\n",
    "* Set speed, number of concurent request and various other crawling options\n",
    "* Does NOT download the full HTML of a page, saving a lot of time, energy, and resources, and enabling an extreemely fast and light process"
   ]
  },
  {
   "cell_type": "markdown",
   "id": "5d84a0cf-6ba8-456a-8b42-1bf63e3a17f2",
   "metadata": {},
   "source": [
    "**References:**\n",
    "- [advertools `crawl_headers` function](https://advertools.readthedocs.io/en/master/advertools.header_spider.html)\n",
    "- Scrapy [throttling](https://docs.scrapy.org/en/latest/topics/autothrottle.html) and [custom settings](https://docs.scrapy.org/en/latest/topics/settings.html)"
   ]
  },
  {
   "cell_type": "markdown",
   "id": "a75ef3a2-b261-45a8-bd64-52cb78b5f502",
   "metadata": {},
   "source": [
    "## Input"
   ]
  },
  {
   "cell_type": "markdown",
   "id": "0b54cbe9-d040-4624-a5fb-3d127baed4c5",
   "metadata": {},
   "source": [
    "### Install libraries\n",
    "If running it on naas, run the code below to install the libraries"
   ]
  },
  {
   "cell_type": "code",
   "execution_count": 1,
   "id": "0ffd4ba7-df94-47b9-87d2-4910edaf1e4b",
   "metadata": {
    "execution": {
     "iopub.execute_input": "2023-07-13T12:08:59.403593Z",
     "iopub.status.busy": "2023-07-13T12:08:59.403321Z",
     "iopub.status.idle": "2023-07-13T12:08:59.406836Z",
     "shell.execute_reply": "2023-07-13T12:08:59.406176Z",
     "shell.execute_reply.started": "2023-07-13T12:08:59.403525Z"
    },
    "tags": []
   },
   "outputs": [],
   "source": [
    "#!pip install advertools adviz pandas==1.5.3 --user"
   ]
  },
  {
   "cell_type": "markdown",
   "id": "f530c66d-1a5b-47d1-8d80-01f21a83ac3e",
   "metadata": {},
   "source": [
    "### Import libraries"
   ]
  },
  {
   "cell_type": "code",
   "execution_count": 11,
   "id": "1e8d108a-44de-44b4-941f-f12795838c5c",
   "metadata": {
    "execution": {
     "iopub.execute_input": "2023-07-13T12:21:03.262883Z",
     "iopub.status.busy": "2023-07-13T12:21:03.262632Z",
     "iopub.status.idle": "2023-07-13T12:21:03.270867Z",
     "shell.execute_reply": "2023-07-13T12:21:03.270191Z",
     "shell.execute_reply.started": "2023-07-13T12:21:03.262858Z"
    },
    "tags": []
   },
   "outputs": [],
   "source": [
    "try:\n",
    "    import adviz\n",
    "except ModuleNotFoundError:\n",
    "    !pip install adviz --user\n",
    "    import adviz\n",
    "try:\n",
    "    import advertools as adv\n",
    "except ModuleNotFoundError:\n",
    "    !pip install advertools --user\n",
    "    import advertools as adv\n",
    "import pandas as pd\n",
    "import plotly.express as px\n",
    "pd.options.display.max_columns = None"
   ]
  },
  {
   "cell_type": "markdown",
   "id": "d35a9e6f-71c4-4cb2-b9bc-32c23b18c4ba",
   "metadata": {},
   "source": [
    "### Setup Variables\n",
    "- `url_list`: List of URLs to check the status codes\n",
    "- `output_file`: The path to the file for saving the output. It has to be in the `.jl` format. Note that new lines to the file are `appended` to the end and the file is not overwritten while crawling.\n",
    "- `CONCURRENT_REQUESTS_PER_DOMAIN`: Defaults to 8. Most likely you will need to slow it down, because the crawling is extremely fast.\n",
    "- `DEFAULT_REQUEST_HEADERS`: A dictionary where you can set custom request headers.\n",
    "- `USER_AGENT`: Set a different/custom user agent if you need to. By default, we are using the one in advertools.\n",
    "- `AUTOTHROTTLE_ENABLED`: Whether or not to dynamically change the pace of crawling to be nice to servers as much as possible. It's usually good to enable this extension, as this type of crawling is extremely fast, often leading to 429 (too many requests code), or being blocked.\n",
    "- `LOG_FILE`: Log file path. Please update it everytime you checked a new list."
   ]
  },
  {
   "cell_type": "code",
   "execution_count": 20,
   "id": "cebcf1a5-23ce-49ca-aee9-aac7ff28a2e4",
   "metadata": {
    "execution": {
     "iopub.execute_input": "2023-07-13T12:24:53.486828Z",
     "iopub.status.busy": "2023-07-13T12:24:53.486596Z",
     "iopub.status.idle": "2023-07-13T12:24:53.490235Z",
     "shell.execute_reply": "2023-07-13T12:24:53.489584Z",
     "shell.execute_reply.started": "2023-07-13T12:24:53.486804Z"
    },
    "tags": []
   },
   "outputs": [],
   "source": [
    "url_list = [\n",
    "    \"https://www.naas.ai/\",\n",
    "    \"https://www.naas.ai/free-forever\",\n",
    "    \"https://app.naas.ai/user/florent@naas.ai\",\n",
    "    \"https://www.naas.ai/test\",\n",
    "]\n",
    "output_file = 'crawl_headers_output.jl'\n",
    "CONCURRENT_REQUESTS_PER_DOMAIN = 4\n",
    "DEFAULT_REQUEST_HEADERS = {}\n",
    "USER_AGENT = adv.spider.user_agent\n",
    "AUTOTHROTTLE_ENABLED = True\n",
    "LOG_FILE = 'crawl_headers_output.log'"
   ]
  },
  {
   "cell_type": "markdown",
   "id": "1ad6e918-ae61-4a78-9b71-a6ad5f530f53",
   "metadata": {},
   "source": [
    "## Model"
   ]
  },
  {
   "cell_type": "markdown",
   "id": "dafe9992-9fcb-4849-a69e-ced13c995aff",
   "metadata": {},
   "source": [
    "### Check status codes and retreive response headers for `url_list`"
   ]
  },
  {
   "cell_type": "code",
   "execution_count": 21,
   "id": "2393668d-9f22-45a0-9f79-5901b1c88496",
   "metadata": {
    "execution": {
     "iopub.execute_input": "2023-07-13T12:25:08.702643Z",
     "iopub.status.busy": "2023-07-13T12:25:08.702381Z",
     "iopub.status.idle": "2023-07-13T12:25:13.683340Z",
     "shell.execute_reply": "2023-07-13T12:25:13.682565Z",
     "shell.execute_reply.started": "2023-07-13T12:25:08.702619Z"
    },
    "tags": []
   },
   "outputs": [],
   "source": [
    "# Create custom settings dict\n",
    "custom_settings = {\n",
    "    # optionally change request headers:\n",
    "    'DEFAULT_REQUEST_HEADERS': DEFAULT_REQUEST_HEADERS,\n",
    "    'AUTOTHROTTLE_ENABLED': AUTOTHROTTLE_ENABLED,\n",
    "    'CONCURRENT_REQUESTS_PER_DOMAIN': CONCURRENT_REQUESTS_PER_DOMAIN,\n",
    "    'USER_AGENT': USER_AGENT,\n",
    "#     'LOG_FILE': LOG_FILE,\n",
    "}\n",
    "\n",
    "adv.crawl_headers(\n",
    "    url_list=url_list,\n",
    "    output_file=output_file,\n",
    "    custom_settings=custom_settings\n",
    ")"
   ]
  },
  {
   "cell_type": "markdown",
   "id": "2f205baa-8d88-41a9-b860-b429b195077e",
   "metadata": {},
   "source": [
    "Open the crawl output file:"
   ]
  },
  {
   "cell_type": "code",
   "execution_count": 22,
   "id": "89f415ef-b5ec-42f8-932d-7d01cb2fea07",
   "metadata": {
    "execution": {
     "iopub.execute_input": "2023-07-13T12:25:21.480542Z",
     "iopub.status.busy": "2023-07-13T12:25:21.480305Z",
     "iopub.status.idle": "2023-07-13T12:25:21.512202Z",
     "shell.execute_reply": "2023-07-13T12:25:21.511133Z",
     "shell.execute_reply.started": "2023-07-13T12:25:21.480516Z"
    },
    "tags": []
   },
   "outputs": [
    {
     "ename": "ValueError",
     "evalue": "Expected object or value",
     "output_type": "error",
     "traceback": [
      "\u001b[0;31m---------------------------------------------------------------------------\u001b[0m",
      "\u001b[0;31mValueError\u001b[0m                                Traceback (most recent call last)",
      "\u001b[0;32m<ipython-input-22-dfba293e4302>\u001b[0m in \u001b[0;36m<module>\u001b[0;34m\u001b[0m\n\u001b[0;32m----> 1\u001b[0;31m \u001b[0mheaders_df\u001b[0m \u001b[0;34m=\u001b[0m \u001b[0mpd\u001b[0m\u001b[0;34m.\u001b[0m\u001b[0mread_json\u001b[0m\u001b[0;34m(\u001b[0m\u001b[0;34m'crawl_headers_output.jl'\u001b[0m\u001b[0;34m,\u001b[0m \u001b[0mlines\u001b[0m\u001b[0;34m=\u001b[0m\u001b[0;32mTrue\u001b[0m\u001b[0;34m)\u001b[0m\u001b[0;34m\u001b[0m\u001b[0;34m\u001b[0m\u001b[0m\n\u001b[0m\u001b[1;32m      2\u001b[0m \u001b[0mheaders_df\u001b[0m\u001b[0;34m\u001b[0m\u001b[0;34m\u001b[0m\u001b[0m\n",
      "\u001b[0;32m~/.local/lib/python3.9/site-packages/pandas/util/_decorators.py\u001b[0m in \u001b[0;36mwrapper\u001b[0;34m(*args, **kwargs)\u001b[0m\n\u001b[1;32m    209\u001b[0m                 \u001b[0;32melse\u001b[0m\u001b[0;34m:\u001b[0m\u001b[0;34m\u001b[0m\u001b[0;34m\u001b[0m\u001b[0m\n\u001b[1;32m    210\u001b[0m                     \u001b[0mkwargs\u001b[0m\u001b[0;34m[\u001b[0m\u001b[0mnew_arg_name\u001b[0m\u001b[0;34m]\u001b[0m \u001b[0;34m=\u001b[0m \u001b[0mnew_arg_value\u001b[0m\u001b[0;34m\u001b[0m\u001b[0;34m\u001b[0m\u001b[0m\n\u001b[0;32m--> 211\u001b[0;31m             \u001b[0;32mreturn\u001b[0m \u001b[0mfunc\u001b[0m\u001b[0;34m(\u001b[0m\u001b[0;34m*\u001b[0m\u001b[0margs\u001b[0m\u001b[0;34m,\u001b[0m \u001b[0;34m**\u001b[0m\u001b[0mkwargs\u001b[0m\u001b[0;34m)\u001b[0m\u001b[0;34m\u001b[0m\u001b[0;34m\u001b[0m\u001b[0m\n\u001b[0m\u001b[1;32m    212\u001b[0m \u001b[0;34m\u001b[0m\u001b[0m\n\u001b[1;32m    213\u001b[0m         \u001b[0;32mreturn\u001b[0m \u001b[0mcast\u001b[0m\u001b[0;34m(\u001b[0m\u001b[0mF\u001b[0m\u001b[0;34m,\u001b[0m \u001b[0mwrapper\u001b[0m\u001b[0;34m)\u001b[0m\u001b[0;34m\u001b[0m\u001b[0;34m\u001b[0m\u001b[0m\n",
      "\u001b[0;32m~/.local/lib/python3.9/site-packages/pandas/util/_decorators.py\u001b[0m in \u001b[0;36mwrapper\u001b[0;34m(*args, **kwargs)\u001b[0m\n\u001b[1;32m    329\u001b[0m                     \u001b[0mstacklevel\u001b[0m\u001b[0;34m=\u001b[0m\u001b[0mfind_stack_level\u001b[0m\u001b[0;34m(\u001b[0m\u001b[0;34m)\u001b[0m\u001b[0;34m,\u001b[0m\u001b[0;34m\u001b[0m\u001b[0;34m\u001b[0m\u001b[0m\n\u001b[1;32m    330\u001b[0m                 )\n\u001b[0;32m--> 331\u001b[0;31m             \u001b[0;32mreturn\u001b[0m \u001b[0mfunc\u001b[0m\u001b[0;34m(\u001b[0m\u001b[0;34m*\u001b[0m\u001b[0margs\u001b[0m\u001b[0;34m,\u001b[0m \u001b[0;34m**\u001b[0m\u001b[0mkwargs\u001b[0m\u001b[0;34m)\u001b[0m\u001b[0;34m\u001b[0m\u001b[0;34m\u001b[0m\u001b[0m\n\u001b[0m\u001b[1;32m    332\u001b[0m \u001b[0;34m\u001b[0m\u001b[0m\n\u001b[1;32m    333\u001b[0m         \u001b[0;31m# error: \"Callable[[VarArg(Any), KwArg(Any)], Any]\" has no\u001b[0m\u001b[0;34m\u001b[0m\u001b[0;34m\u001b[0m\u001b[0;34m\u001b[0m\u001b[0m\n",
      "\u001b[0;32m~/.local/lib/python3.9/site-packages/pandas/io/json/_json.py\u001b[0m in \u001b[0;36mread_json\u001b[0;34m(path_or_buf, orient, typ, dtype, convert_axes, convert_dates, keep_default_dates, numpy, precise_float, date_unit, encoding, encoding_errors, lines, chunksize, compression, nrows, storage_options)\u001b[0m\n\u001b[1;32m    755\u001b[0m \u001b[0;34m\u001b[0m\u001b[0m\n\u001b[1;32m    756\u001b[0m     \u001b[0;32mwith\u001b[0m \u001b[0mjson_reader\u001b[0m\u001b[0;34m:\u001b[0m\u001b[0;34m\u001b[0m\u001b[0;34m\u001b[0m\u001b[0m\n\u001b[0;32m--> 757\u001b[0;31m         \u001b[0;32mreturn\u001b[0m \u001b[0mjson_reader\u001b[0m\u001b[0;34m.\u001b[0m\u001b[0mread\u001b[0m\u001b[0;34m(\u001b[0m\u001b[0;34m)\u001b[0m\u001b[0;34m\u001b[0m\u001b[0;34m\u001b[0m\u001b[0m\n\u001b[0m\u001b[1;32m    758\u001b[0m \u001b[0;34m\u001b[0m\u001b[0m\n\u001b[1;32m    759\u001b[0m \u001b[0;34m\u001b[0m\u001b[0m\n",
      "\u001b[0;32m~/.local/lib/python3.9/site-packages/pandas/io/json/_json.py\u001b[0m in \u001b[0;36mread\u001b[0;34m(self)\u001b[0m\n\u001b[1;32m    911\u001b[0m                 \u001b[0mdata\u001b[0m \u001b[0;34m=\u001b[0m \u001b[0mensure_str\u001b[0m\u001b[0;34m(\u001b[0m\u001b[0mself\u001b[0m\u001b[0;34m.\u001b[0m\u001b[0mdata\u001b[0m\u001b[0;34m)\u001b[0m\u001b[0;34m\u001b[0m\u001b[0;34m\u001b[0m\u001b[0m\n\u001b[1;32m    912\u001b[0m                 \u001b[0mdata_lines\u001b[0m \u001b[0;34m=\u001b[0m \u001b[0mdata\u001b[0m\u001b[0;34m.\u001b[0m\u001b[0msplit\u001b[0m\u001b[0;34m(\u001b[0m\u001b[0;34m\"\\n\"\u001b[0m\u001b[0;34m)\u001b[0m\u001b[0;34m\u001b[0m\u001b[0;34m\u001b[0m\u001b[0m\n\u001b[0;32m--> 913\u001b[0;31m                 \u001b[0mobj\u001b[0m \u001b[0;34m=\u001b[0m \u001b[0mself\u001b[0m\u001b[0;34m.\u001b[0m\u001b[0m_get_object_parser\u001b[0m\u001b[0;34m(\u001b[0m\u001b[0mself\u001b[0m\u001b[0;34m.\u001b[0m\u001b[0m_combine_lines\u001b[0m\u001b[0;34m(\u001b[0m\u001b[0mdata_lines\u001b[0m\u001b[0;34m)\u001b[0m\u001b[0;34m)\u001b[0m\u001b[0;34m\u001b[0m\u001b[0;34m\u001b[0m\u001b[0m\n\u001b[0m\u001b[1;32m    914\u001b[0m         \u001b[0;32melse\u001b[0m\u001b[0;34m:\u001b[0m\u001b[0;34m\u001b[0m\u001b[0;34m\u001b[0m\u001b[0m\n\u001b[1;32m    915\u001b[0m             \u001b[0mobj\u001b[0m \u001b[0;34m=\u001b[0m \u001b[0mself\u001b[0m\u001b[0;34m.\u001b[0m\u001b[0m_get_object_parser\u001b[0m\u001b[0;34m(\u001b[0m\u001b[0mself\u001b[0m\u001b[0;34m.\u001b[0m\u001b[0mdata\u001b[0m\u001b[0;34m)\u001b[0m\u001b[0;34m\u001b[0m\u001b[0;34m\u001b[0m\u001b[0m\n",
      "\u001b[0;32m~/.local/lib/python3.9/site-packages/pandas/io/json/_json.py\u001b[0m in \u001b[0;36m_get_object_parser\u001b[0;34m(self, json)\u001b[0m\n\u001b[1;32m    935\u001b[0m         \u001b[0mobj\u001b[0m \u001b[0;34m=\u001b[0m \u001b[0;32mNone\u001b[0m\u001b[0;34m\u001b[0m\u001b[0;34m\u001b[0m\u001b[0m\n\u001b[1;32m    936\u001b[0m         \u001b[0;32mif\u001b[0m \u001b[0mtyp\u001b[0m \u001b[0;34m==\u001b[0m \u001b[0;34m\"frame\"\u001b[0m\u001b[0;34m:\u001b[0m\u001b[0;34m\u001b[0m\u001b[0;34m\u001b[0m\u001b[0m\n\u001b[0;32m--> 937\u001b[0;31m             \u001b[0mobj\u001b[0m \u001b[0;34m=\u001b[0m \u001b[0mFrameParser\u001b[0m\u001b[0;34m(\u001b[0m\u001b[0mjson\u001b[0m\u001b[0;34m,\u001b[0m \u001b[0;34m**\u001b[0m\u001b[0mkwargs\u001b[0m\u001b[0;34m)\u001b[0m\u001b[0;34m.\u001b[0m\u001b[0mparse\u001b[0m\u001b[0;34m(\u001b[0m\u001b[0;34m)\u001b[0m\u001b[0;34m\u001b[0m\u001b[0;34m\u001b[0m\u001b[0m\n\u001b[0m\u001b[1;32m    938\u001b[0m \u001b[0;34m\u001b[0m\u001b[0m\n\u001b[1;32m    939\u001b[0m         \u001b[0;32mif\u001b[0m \u001b[0mtyp\u001b[0m \u001b[0;34m==\u001b[0m \u001b[0;34m\"series\"\u001b[0m \u001b[0;32mor\u001b[0m \u001b[0mobj\u001b[0m \u001b[0;32mis\u001b[0m \u001b[0;32mNone\u001b[0m\u001b[0;34m:\u001b[0m\u001b[0;34m\u001b[0m\u001b[0;34m\u001b[0m\u001b[0m\n",
      "\u001b[0;32m~/.local/lib/python3.9/site-packages/pandas/io/json/_json.py\u001b[0m in \u001b[0;36mparse\u001b[0;34m(self)\u001b[0m\n\u001b[1;32m   1062\u001b[0m             \u001b[0mself\u001b[0m\u001b[0;34m.\u001b[0m\u001b[0m_parse_numpy\u001b[0m\u001b[0;34m(\u001b[0m\u001b[0;34m)\u001b[0m\u001b[0;34m\u001b[0m\u001b[0;34m\u001b[0m\u001b[0m\n\u001b[1;32m   1063\u001b[0m         \u001b[0;32melse\u001b[0m\u001b[0;34m:\u001b[0m\u001b[0;34m\u001b[0m\u001b[0;34m\u001b[0m\u001b[0m\n\u001b[0;32m-> 1064\u001b[0;31m             \u001b[0mself\u001b[0m\u001b[0;34m.\u001b[0m\u001b[0m_parse_no_numpy\u001b[0m\u001b[0;34m(\u001b[0m\u001b[0;34m)\u001b[0m\u001b[0;34m\u001b[0m\u001b[0;34m\u001b[0m\u001b[0m\n\u001b[0m\u001b[1;32m   1065\u001b[0m \u001b[0;34m\u001b[0m\u001b[0m\n\u001b[1;32m   1066\u001b[0m         \u001b[0;32mif\u001b[0m \u001b[0mself\u001b[0m\u001b[0;34m.\u001b[0m\u001b[0mobj\u001b[0m \u001b[0;32mis\u001b[0m \u001b[0;32mNone\u001b[0m\u001b[0;34m:\u001b[0m\u001b[0;34m\u001b[0m\u001b[0;34m\u001b[0m\u001b[0m\n",
      "\u001b[0;32m~/.local/lib/python3.9/site-packages/pandas/io/json/_json.py\u001b[0m in \u001b[0;36m_parse_no_numpy\u001b[0;34m(self)\u001b[0m\n\u001b[1;32m   1319\u001b[0m         \u001b[0;32mif\u001b[0m \u001b[0morient\u001b[0m \u001b[0;34m==\u001b[0m \u001b[0;34m\"columns\"\u001b[0m\u001b[0;34m:\u001b[0m\u001b[0;34m\u001b[0m\u001b[0;34m\u001b[0m\u001b[0m\n\u001b[1;32m   1320\u001b[0m             self.obj = DataFrame(\n\u001b[0;32m-> 1321\u001b[0;31m                 \u001b[0mloads\u001b[0m\u001b[0;34m(\u001b[0m\u001b[0mjson\u001b[0m\u001b[0;34m,\u001b[0m \u001b[0mprecise_float\u001b[0m\u001b[0;34m=\u001b[0m\u001b[0mself\u001b[0m\u001b[0;34m.\u001b[0m\u001b[0mprecise_float\u001b[0m\u001b[0;34m)\u001b[0m\u001b[0;34m,\u001b[0m \u001b[0mdtype\u001b[0m\u001b[0;34m=\u001b[0m\u001b[0;32mNone\u001b[0m\u001b[0;34m\u001b[0m\u001b[0;34m\u001b[0m\u001b[0m\n\u001b[0m\u001b[1;32m   1322\u001b[0m             )\n\u001b[1;32m   1323\u001b[0m         \u001b[0;32melif\u001b[0m \u001b[0morient\u001b[0m \u001b[0;34m==\u001b[0m \u001b[0;34m\"split\"\u001b[0m\u001b[0;34m:\u001b[0m\u001b[0;34m\u001b[0m\u001b[0;34m\u001b[0m\u001b[0m\n",
      "\u001b[0;31mValueError\u001b[0m: Expected object or value"
     ]
    }
   ],
   "source": [
    "headers_df = pd.read_json('crawl_headers_output.jl', lines=True)\n",
    "headers_df"
   ]
  },
  {
   "cell_type": "markdown",
   "id": "cd817594-1b7f-4d02-a245-9e1dcd6ad2b6",
   "metadata": {},
   "source": [
    "#### Visualize status codes"
   ]
  },
  {
   "cell_type": "code",
   "execution_count": null,
   "id": "5839cc92-18ea-4a57-b9bb-5fa8d0db279c",
   "metadata": {
    "execution": {
     "iopub.status.busy": "2023-06-20T13:05:20.209250Z",
     "iopub.status.idle": "2023-06-20T13:05:20.209549Z",
     "shell.execute_reply": "2023-06-20T13:05:20.209407Z"
    }
   },
   "outputs": [],
   "source": [
    "adviz.status_codes(headers_df['status'])"
   ]
  },
  {
   "cell_type": "code",
   "execution_count": null,
   "id": "552d3abb-4e7c-4c0e-8e68-5777ac8cc24b",
   "metadata": {
    "execution": {
     "iopub.status.busy": "2023-06-20T13:05:20.210683Z",
     "iopub.status.idle": "2023-06-20T13:05:20.211176Z",
     "shell.execute_reply": "2023-06-20T13:05:20.210934Z"
    }
   },
   "outputs": [],
   "source": [
    "adviz.value_counts_plus(headers_df['status'], name='Status codes', size=14)"
   ]
  },
  {
   "cell_type": "markdown",
   "id": "50a39376-9dab-4f3e-a87d-6006a61165ff",
   "metadata": {},
   "source": [
    "#### Visualize URL structure"
   ]
  },
  {
   "cell_type": "code",
   "execution_count": null,
   "id": "0d536efd-9d10-480c-abdd-0353d6f38c95",
   "metadata": {
    "execution": {
     "iopub.status.busy": "2023-06-20T13:05:20.212666Z",
     "iopub.status.idle": "2023-06-20T13:05:20.213116Z",
     "shell.execute_reply": "2023-06-20T13:05:20.212899Z"
    }
   },
   "outputs": [],
   "source": [
    "adviz.url_structure(\n",
    "    headers_df['url'],\n",
    "    domain='maven.com',\n",
    "    items_per_level=50,\n",
    "    theme='plotly_dark')"
   ]
  },
  {
   "cell_type": "markdown",
   "id": "e7cb3852-bc53-4f24-83fb-65fbe3d42764",
   "metadata": {},
   "source": [
    "#### Get redirects"
   ]
  },
  {
   "cell_type": "code",
   "execution_count": null,
   "id": "3132e337-c431-4145-8ba1-f58b08a0cea5",
   "metadata": {
    "execution": {
     "iopub.status.busy": "2023-06-20T13:05:20.214462Z",
     "iopub.status.idle": "2023-06-20T13:05:20.214978Z",
     "shell.execute_reply": "2023-06-20T13:05:20.214687Z"
    }
   },
   "outputs": [],
   "source": [
    "if 'redirect_urls' in headers_df:\n",
    "    redirect_df = headers_df.filter(regex='^url$|redirect_').dropna(thresh=4)\n",
    "    redirect_df['redirect_urls'] = redirect_df['redirect_urls'].str.split('@@')\n",
    "    redirect_df['redirect_reasons'] = redirect_df['redirect_reasons'].astype(int).astype(str).str.split('@@')\n",
    "    redirect_df['redirect_chain'] = (redirect_df['redirect_urls']\n",
    "                                     .str.join('@@')\n",
    "                                     .add('@@')\n",
    "                                     .add(redirect_df['url']).str.split('@@'))\n",
    "    from IPython.display import display\n",
    "    display(redirect_df)\n",
    "else:\n",
    "    print('No redirects found in this dataset')"
   ]
  },
  {
   "cell_type": "markdown",
   "id": "ea195054-23c4-498a-b75e-9929270d89d9",
   "metadata": {},
   "source": [
    "### Visualize download latency\n",
    "The same charts can be used for any other `float` columns in `headers_df` if available."
   ]
  },
  {
   "cell_type": "code",
   "execution_count": null,
   "id": "0b13dd7e-d0a5-44da-9032-6bc0e2255425",
   "metadata": {
    "execution": {
     "iopub.status.busy": "2023-06-20T13:05:20.216396Z",
     "iopub.status.idle": "2023-06-20T13:05:20.216849Z",
     "shell.execute_reply": "2023-06-20T13:05:20.216631Z"
    }
   },
   "outputs": [],
   "source": [
    "fig = px.histogram(\n",
    "    x=headers_df['download_latency'],\n",
    "    template='none',\n",
    "    labels={'x': 'Latency (seconds)<br>'},\n",
    "    height=500,\n",
    "    # experiment with different values for nbins:\n",
    "    # nbins=10,\n",
    "    title='<b>Download latency distribution</b>')\n",
    "\n",
    "fig.add_annotation(\n",
    "    yref='y domain',\n",
    "    xref='paper',\n",
    "    x=0,\n",
    "    y=-0.25,\n",
    "    showarrow=False,\n",
    "    align='right',\n",
    "    text='<b>Latency:</b> time elapsed between establishing the TCP connection and receiving the HTTP headers.')\n",
    "fig"
   ]
  },
  {
   "cell_type": "markdown",
   "id": "6eeab37b-5de9-42f9-b0e8-edf43ccbe62c",
   "metadata": {},
   "source": [
    "### Create helper visualizations"
   ]
  },
  {
   "cell_type": "code",
   "execution_count": 2,
   "id": "55e5e098-20dc-47fc-b8fe-fd169e8e2c01",
   "metadata": {
    "execution": {
     "iopub.execute_input": "2023-07-13T11:38:21.310482Z",
     "iopub.status.busy": "2023-07-13T11:38:21.310264Z",
     "iopub.status.idle": "2023-07-13T11:38:21.317946Z",
     "shell.execute_reply": "2023-07-13T11:38:21.317410Z",
     "shell.execute_reply.started": "2023-07-13T11:38:21.310454Z"
    },
    "tags": []
   },
   "outputs": [],
   "source": [
    "def ecdf(df, column, template='none', width=None, height=500):\n",
    "    df = df.sort_values(column)\n",
    "    df['count below'] = range(len(df))\n",
    "    df['count above'] = range(len(df)-1, -1, -1)\n",
    "    df['total count'] = len(df)\n",
    "    fig = px.ecdf(\n",
    "        df.dropna(subset=[column]),\n",
    "        x=column,\n",
    "        markers=True, lines=False,\n",
    "        template=template,\n",
    "        height=height,\n",
    "        width=width,\n",
    "        hover_data=['count below', 'count above', 'total count'],\n",
    "        title=f\"Cumulative distribution of <b>{column.replace('_', ' ')}</b>\",\n",
    "        ecdfnorm='percent')\n",
    "    fig.data[0].hovertemplate = f'<b>{column.replace(\"_\", \" \").title()}</b><br><br>{column}' + ': %{x}<br>percent: %{y}<br><br>count below: %{customdata[0]:,}<br>count above: %{customdata[1]:,}<br>total count: %{customdata[2]:,}<extra></extra>'\n",
    "    fig.layout.yaxis.ticksuffix = '%'\n",
    "    fig.layout.yaxis.showspikes = True\n",
    "    fig.layout.xaxis.showspikes = True\n",
    "    return fig"
   ]
  },
  {
   "cell_type": "code",
   "execution_count": null,
   "id": "41cf57b4-0a49-48bf-9c04-cd4dc38bdaad",
   "metadata": {
    "execution": {
     "iopub.status.busy": "2023-06-20T13:05:20.218129Z",
     "iopub.status.idle": "2023-06-20T13:05:20.218635Z",
     "shell.execute_reply": "2023-06-20T13:05:20.218349Z"
    }
   },
   "outputs": [],
   "source": [
    "ecdf(df=headers_df, column='download_latency')"
   ]
  },
  {
   "cell_type": "markdown",
   "id": "550110a8-50b2-49a0-9752-5132256356b9",
   "metadata": {},
   "source": [
    "## Output"
   ]
  },
  {
   "cell_type": "code",
   "execution_count": null,
   "id": "7b6a8e95-fd71-4602-9a29-ccb4bb52c9e2",
   "metadata": {
    "execution": {
     "iopub.status.busy": "2023-06-20T13:05:20.219766Z",
     "iopub.status.idle": "2023-06-20T13:05:20.220230Z",
     "shell.execute_reply": "2023-06-20T13:05:20.219992Z"
    },
    "tags": []
   },
   "outputs": [],
   "source": [
    "headers_df"
   ]
  }
 ],
 "metadata": {
  "kernelspec": {
   "display_name": "Python 3",
   "language": "python",
   "name": "python3"
  },
  "language_info": {
   "codemirror_mode": {
    "name": "ipython",
    "version": 3
   },
   "file_extension": ".py",
   "mimetype": "text/x-python",
   "name": "python",
   "nbconvert_exporter": "python",
   "pygments_lexer": "ipython3",
   "version": "3.9.6"
  },
  "widgets": {
   "application/vnd.jupyter.widget-state+json": {
    "state": {},
    "version_major": 2,
    "version_minor": 0
   }
  }
 },
 "nbformat": 4,
 "nbformat_minor": 5
}
