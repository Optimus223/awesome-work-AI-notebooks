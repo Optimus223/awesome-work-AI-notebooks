{
 "cells": [
  {
   "attachments": {},
   "cell_type": "markdown",
   "id": "5da81fdb-1607-4dcd-8945-78492d41c20c",
   "metadata": {},
   "source": [
    "<img width=\"10%\" alt=\"Naas\" src=\"https://landen.imgix.net/jtci2pxwjczr/assets/5ice39g4.png?w=160\"/>"
   ]
  },
  {
   "attachments": {},
   "cell_type": "markdown",
   "id": "96049d01-11e9-4538-9012-57992898281e",
   "metadata": {},
   "source": [
    "# Advertools - Bulk status code checker with response headers"
   ]
  },
  {
   "attachments": {},
   "cell_type": "markdown",
   "id": "76b0bd6e-4a5c-472f-a473-a315e3738936",
   "metadata": {},
   "source": [
    "**Tags:** #advertools #adviz #website #analyze #audit #seo #status_code #response_headers"
   ]
  },
  {
   "attachments": {},
   "cell_type": "markdown",
   "id": "1089c7e4-b7a9-48ab-8320-e17847ad3b30",
   "metadata": {},
   "source": [
    "**Author:** [Elias Dabbas](https://www.linkedin.com/in/eliasdabbas/)"
   ]
  },
  {
   "attachments": {},
   "cell_type": "markdown",
   "id": "d93cd7a5-1d4f-4bc6-94a2-b74461c7f538",
   "metadata": {},
   "source": [
    "**Description:** This notebook runs an automated status code checker with response headers using the HTTP `HEAD` method.\n",
    "\n",
    "* Bulk and concurrent checking of status codes for a known list of URLs\n",
    "* Get all available response headers from all URLs\n",
    "* Set speed, number of concurent request and various other crawling options\n",
    "* Does NOT download the full HTML of a page, saving a lot of time, energy, and resources, and enabling an extreemely fast and light process"
   ]
  },
  {
   "attachments": {},
   "cell_type": "markdown",
   "id": "5d84a0cf-6ba8-456a-8b42-1bf63e3a17f2",
   "metadata": {},
   "source": [
    "**References:**\n",
    "- [advertools `crawl_headers` function](https://advertools.readthedocs.io/en/master/advertools.header_spider.html)\n",
    "- Scrapy [throttling](https://docs.scrapy.org/en/latest/topics/autothrottle.html) and [custom settings](https://docs.scrapy.org/en/latest/topics/settings.html)"
   ]
  },
  {
   "attachments": {},
   "cell_type": "markdown",
   "id": "a75ef3a2-b261-45a8-bd64-52cb78b5f502",
   "metadata": {},
   "source": [
    "## Input"
   ]
  },
  {
   "attachments": {},
   "cell_type": "markdown",
   "id": "f530c66d-1a5b-47d1-8d80-01f21a83ac3e",
   "metadata": {},
   "source": [
    "### Import libraries"
   ]
  },
  {
   "cell_type": "code",
   "execution_count": null,
   "id": "1e8d108a-44de-44b4-941f-f12795838c5c",
   "metadata": {
    "vscode": {
     "languageId": "python"
    }
   },
   "outputs": [],
   "source": [
    "try:\n",
    "    import advertools as adv\n",
    "    import adviz\n",
    "    import pandas as pd\n",
    "    import plotly.express as px\n",
    "    pd.options.display.max_columns = None\n",
    "except ModuleNotFoundError:\n",
    "    !pip install adviz"
   ]
  },
  {
   "attachments": {},
   "cell_type": "markdown",
   "id": "d35a9e6f-71c4-4cb2-b9bc-32c23b18c4ba",
   "metadata": {},
   "source": [
    "### Setup Variables\n",
    "\n",
    "**Function parameters:**\n",
    "- `url_list`: List of URLs to check the status codes\n",
    "- `output_file`: The path to the file for saving the output. It has to be in the `.jl` format. Note that new lines to the file are `appended` to the end and the file is not overwritten while crawling.\n",
    "\n",
    "**Custom settings:**\n",
    "\n",
    "- `CONCURRENT_REQUESTS_PER_DOMAIN`: Defaults to 8. Most likely you will need to slow it down, because the crawling is extremely fast.\n",
    "- `DEFAULT_REQUEST_HEADERS`: A dictionary where you can set custom request headers.\n",
    "- `USER_AGENT`: Set a different/custom user agent if you need to.\n",
    "- `AUTOTHROTTLE_ENABLED`: Whether or not to dynamically change the pace of crawling to be nice to servers as much as possible. It's usually good to enable this extension, as this type of crawling is extremely fast, often leading to 429 (too many requests code), or being blocked.\n",
    "\n",
    "### Create helper visualizations"
   ]
  },
  {
   "cell_type": "code",
   "execution_count": null,
   "id": "55e5e098-20dc-47fc-b8fe-fd169e8e2c01",
   "metadata": {
    "vscode": {
     "languageId": "python"
    }
   },
   "outputs": [],
   "source": [
    "def ecdf(df, column, template='none', width=None, height=500):\n",
    "    df = df.sort_values(column)\n",
    "    df['count below'] = range(len(df))\n",
    "    df['count above'] = range(len(df)-1, -1, -1)\n",
    "    df['total count'] = len(df)\n",
    "    fig = px.ecdf(\n",
    "        df.dropna(subset=[column]),\n",
    "        x=column,\n",
    "        markers=True, lines=False,\n",
    "        template=template,\n",
    "        height=height,\n",
    "        width=width,\n",
    "        hover_data=['count below', 'count above', 'total count'],\n",
    "        title=f\"Cumulative distribution of <b>{column.replace('_', ' ')}</b>\",\n",
    "        ecdfnorm='percent')\n",
    "    fig.data[0].hovertemplate = f'<b>{column.replace(\"_\", \" \").title()}</b><br><br>{column}' + ': %{x}<br>percent: %{y}<br><br>count below: %{customdata[0]:,}<br>count above: %{customdata[1]:,}<br>total count: %{customdata[2]:,}<extra></extra>'\n",
    "    fig.layout.yaxis.ticksuffix = '%'\n",
    "    fig.layout.yaxis.showspikes = True\n",
    "    fig.layout.xaxis.showspikes = True\n",
    "    return fig"
   ]
  },
  {
   "attachments": {},
   "cell_type": "markdown",
   "id": "a65e90ed-7a4d-4fe0-b850-ec9d9abdf4f0",
   "metadata": {},
   "source": [
    "### Convert the website's XML sitemap to a `DataFrame`\n",
    "\n",
    "Optionally get any other list of URLs hrough crawling, or any analytics tool."
   ]
  },
  {
   "cell_type": "code",
   "execution_count": null,
   "id": "9ad3a02e-456f-4d26-a2a9-fe314909edf2",
   "metadata": {
    "vscode": {
     "languageId": "python"
    }
   },
   "outputs": [
    {
     "name": "stderr",
     "output_type": "stream",
     "text": [
      "2023-05-31 14:37:38,624 | INFO | sitemaps.py:536 | sitemap_to_df | Getting https://maven.com/sitemap.xml\n"
     ]
    }
   ],
   "source": [
    "sitemap = adv.sitemap_to_df('https://www.maven.com/robots.txt')"
   ]
  },
  {
   "cell_type": "code",
   "execution_count": null,
   "id": "cebcf1a5-23ce-49ca-aee9-aac7ff28a2e4",
   "metadata": {
    "vscode": {
     "languageId": "python"
    }
   },
   "outputs": [
    {
     "data": {
      "text/plain": [
       "{'AUTOTHROTTLE_ENABLED': True,\n",
       " 'CONCURRENT_REQUESTS_PER_DOMAIN': 4,\n",
       " 'USER_AGENT': 'advertools/0.13.2',\n",
       " 'LOG_FILE': 'crawl_headers_output.log'}"
      ]
     },
     "execution_count": null,
     "metadata": {},
     "output_type": "execute_result"
    }
   ],
   "source": [
    "url_list = sitemap['loc']  # or another list of URLs\n",
    "\n",
    "output_file = 'crawl_headers_output.jl'\n",
    "\n",
    "custom_settings = {\n",
    "    # optionally change request headers:\n",
    "    # 'DEFAULT_REQUEST_HEADERS': {},\n",
    "    'AUTOTHROTTLE_ENABLED': True,\n",
    "    'CONCURRENT_REQUESTS_PER_DOMAIN': 4,\n",
    "    'USER_AGENT': adv.spider.user_agent,\n",
    "    'LOG_FILE': 'crawl_headers_output.log',\n",
    "}\n",
    "custom_settings"
   ]
  },
  {
   "attachments": {},
   "cell_type": "markdown",
   "id": "1ad6e918-ae61-4a78-9b71-a6ad5f530f53",
   "metadata": {},
   "source": [
    "## Model"
   ]
  },
  {
   "attachments": {},
   "cell_type": "markdown",
   "id": "dafe9992-9fcb-4849-a69e-ced13c995aff",
   "metadata": {},
   "source": [
    "### Check status codes and retreive response headers for `url_list`"
   ]
  },
  {
   "cell_type": "code",
   "execution_count": null,
   "id": "2393668d-9f22-45a0-9f79-5901b1c88496",
   "metadata": {
    "vscode": {
     "languageId": "python"
    }
   },
   "outputs": [],
   "source": [
    "adv.crawl_headers(\n",
    "    url_list=url_list,\n",
    "    output_file=output_file,\n",
    "    custom_settings=custom_settings\n",
    ")"
   ]
  },
  {
   "attachments": {},
   "cell_type": "markdown",
   "id": "2f205baa-8d88-41a9-b860-b429b195077e",
   "metadata": {},
   "source": [
    "Open the crawl output file:"
   ]
  },
  {
   "cell_type": "code",
   "execution_count": null,
   "id": "89f415ef-b5ec-42f8-932d-7d01cb2fea07",
   "metadata": {
    "vscode": {
     "languageId": "python"
    }
   },
   "outputs": [
    {
     "data": {
      "text/html": [
       "<div>\n",
       "<style scoped>\n",
       "    .dataframe tbody tr th:only-of-type {\n",
       "        vertical-align: middle;\n",
       "    }\n",
       "\n",
       "    .dataframe tbody tr th {\n",
       "        vertical-align: top;\n",
       "    }\n",
       "\n",
       "    .dataframe thead th {\n",
       "        text-align: right;\n",
       "    }\n",
       "</style>\n",
       "<table border=\"1\" class=\"dataframe\">\n",
       "  <thead>\n",
       "    <tr style=\"text-align: right;\">\n",
       "      <th></th>\n",
       "      <th>url</th>\n",
       "      <th>crawl_time</th>\n",
       "      <th>status</th>\n",
       "      <th>download_timeout</th>\n",
       "      <th>download_slot</th>\n",
       "      <th>download_latency</th>\n",
       "      <th>depth</th>\n",
       "      <th>protocol</th>\n",
       "      <th>body</th>\n",
       "      <th>resp_headers_content-length</th>\n",
       "      <th>resp_headers_access-control-allow-origin</th>\n",
       "      <th>resp_headers_age</th>\n",
       "      <th>resp_headers_cache-control</th>\n",
       "      <th>resp_headers_content-disposition</th>\n",
       "      <th>resp_headers_content-encoding</th>\n",
       "      <th>resp_headers_content-security-policy</th>\n",
       "      <th>resp_headers_content-type</th>\n",
       "      <th>resp_headers_date</th>\n",
       "      <th>resp_headers_etag</th>\n",
       "      <th>resp_headers_server</th>\n",
       "      <th>resp_headers_set-cookie</th>\n",
       "      <th>resp_headers_strict-transport-security</th>\n",
       "      <th>resp_headers_x-matched-path</th>\n",
       "      <th>resp_headers_x-vercel-cache</th>\n",
       "      <th>resp_headers_x-vercel-id</th>\n",
       "      <th>request_headers_accept</th>\n",
       "      <th>request_headers_accept-language</th>\n",
       "      <th>request_headers_user-agent</th>\n",
       "      <th>request_headers_accept-encoding</th>\n",
       "      <th>request_headers_cookie</th>\n",
       "      <th>resp_headers_x-powered-by</th>\n",
       "      <th>resp_headers_x-nextjs-matched-path</th>\n",
       "      <th>redirect_times</th>\n",
       "      <th>redirect_ttl</th>\n",
       "      <th>redirect_urls</th>\n",
       "      <th>redirect_reasons</th>\n",
       "      <th>resp_headers_x-lambda-id</th>\n",
       "      <th>resp_headers_accept-ranges</th>\n",
       "      <th>resp_headers_x-served-by</th>\n",
       "      <th>resp_headers_x-cache</th>\n",
       "      <th>resp_headers_x-cache-hits</th>\n",
       "      <th>resp_headers_x-timer</th>\n",
       "      <th>resp_headers_vary</th>\n",
       "      <th>resp_headers_x-cluster-name</th>\n",
       "    </tr>\n",
       "  </thead>\n",
       "  <tbody>\n",
       "    <tr>\n",
       "      <th>0</th>\n",
       "      <td>https://maven.com/terms</td>\n",
       "      <td>2023-06-04 22:41:05</td>\n",
       "      <td>200</td>\n",
       "      <td>180</td>\n",
       "      <td>maven.com</td>\n",
       "      <td>0.127141</td>\n",
       "      <td>0</td>\n",
       "      <td>HTTP/1.1</td>\n",
       "      <td>NaN</td>\n",
       "      <td>0</td>\n",
       "      <td>*</td>\n",
       "      <td>5675</td>\n",
       "      <td>public, max-age=0, must-revalidate</td>\n",
       "      <td>inline; filename=\"terms\"</td>\n",
       "      <td>gzip</td>\n",
       "      <td>frame-ancestors 'self'; object-src 'none';</td>\n",
       "      <td>text/html; charset=utf-8</td>\n",
       "      <td>Sun, 04 Jun 2023 22:41:05 GMT</td>\n",
       "      <td>W/\"4e2897677cdabbffa62aeaaef35094c9\"</td>\n",
       "      <td>Vercel</td>\n",
       "      <td>countryCode=DE; Path=/</td>\n",
       "      <td>max-age=63072000</td>\n",
       "      <td>/terms</td>\n",
       "      <td>HIT</td>\n",
       "      <td>fra1::2pmkm-1685918465201-773d438cf470</td>\n",
       "      <td>text/html,application/xhtml+xml,application/xml;q=0.9,*/*;q=0.8</td>\n",
       "      <td>en</td>\n",
       "      <td>advertools/0.13.2</td>\n",
       "      <td>gzip, deflate</td>\n",
       "      <td>countryCode=DE</td>\n",
       "      <td>NaN</td>\n",
       "      <td>NaN</td>\n",
       "      <td>NaN</td>\n",
       "      <td>NaN</td>\n",
       "      <td>NaN</td>\n",
       "      <td>NaN</td>\n",
       "      <td>NaN</td>\n",
       "      <td>NaN</td>\n",
       "      <td>NaN</td>\n",
       "      <td>NaN</td>\n",
       "      <td>NaN</td>\n",
       "      <td>NaN</td>\n",
       "      <td>NaN</td>\n",
       "      <td>NaN</td>\n",
       "    </tr>\n",
       "    <tr>\n",
       "      <th>1</th>\n",
       "      <td>https://maven.com/about</td>\n",
       "      <td>2023-06-04 22:41:05</td>\n",
       "      <td>200</td>\n",
       "      <td>180</td>\n",
       "      <td>maven.com</td>\n",
       "      <td>0.135604</td>\n",
       "      <td>0</td>\n",
       "      <td>HTTP/1.1</td>\n",
       "      <td>NaN</td>\n",
       "      <td>0</td>\n",
       "      <td>*</td>\n",
       "      <td>151629</td>\n",
       "      <td>public, max-age=0, must-revalidate</td>\n",
       "      <td>inline; filename=\"about\"</td>\n",
       "      <td>gzip</td>\n",
       "      <td>frame-ancestors 'self'; object-src 'none';</td>\n",
       "      <td>text/html; charset=utf-8</td>\n",
       "      <td>Sun, 04 Jun 2023 22:41:05 GMT</td>\n",
       "      <td>W/\"983604f5444686e38b0622825a8655b6\"</td>\n",
       "      <td>Vercel</td>\n",
       "      <td>countryCode=DE; Path=/</td>\n",
       "      <td>max-age=63072000</td>\n",
       "      <td>/about</td>\n",
       "      <td>HIT</td>\n",
       "      <td>fra1::hvtsj-1685918465200-24451eeb0506</td>\n",
       "      <td>text/html,application/xhtml+xml,application/xml;q=0.9,*/*;q=0.8</td>\n",
       "      <td>en</td>\n",
       "      <td>advertools/0.13.2</td>\n",
       "      <td>gzip, deflate</td>\n",
       "      <td>countryCode=DE</td>\n",
       "      <td>NaN</td>\n",
       "      <td>NaN</td>\n",
       "      <td>NaN</td>\n",
       "      <td>NaN</td>\n",
       "      <td>NaN</td>\n",
       "      <td>NaN</td>\n",
       "      <td>NaN</td>\n",
       "      <td>NaN</td>\n",
       "      <td>NaN</td>\n",
       "      <td>NaN</td>\n",
       "      <td>NaN</td>\n",
       "      <td>NaN</td>\n",
       "      <td>NaN</td>\n",
       "      <td>NaN</td>\n",
       "    </tr>\n",
       "    <tr>\n",
       "      <th>2</th>\n",
       "      <td>https://maven.com/privacy</td>\n",
       "      <td>2023-06-04 22:41:05</td>\n",
       "      <td>200</td>\n",
       "      <td>180</td>\n",
       "      <td>maven.com</td>\n",
       "      <td>0.138744</td>\n",
       "      <td>0</td>\n",
       "      <td>HTTP/1.1</td>\n",
       "      <td>NaN</td>\n",
       "      <td>0</td>\n",
       "      <td>*</td>\n",
       "      <td>179276</td>\n",
       "      <td>public, max-age=0, must-revalidate</td>\n",
       "      <td>inline; filename=\"privacy\"</td>\n",
       "      <td>gzip</td>\n",
       "      <td>frame-ancestors 'self'; object-src 'none';</td>\n",
       "      <td>text/html; charset=utf-8</td>\n",
       "      <td>Sun, 04 Jun 2023 22:41:05 GMT</td>\n",
       "      <td>W/\"7fc56e01f7273ef1929e30f08765de3f\"</td>\n",
       "      <td>Vercel</td>\n",
       "      <td>countryCode=DE; Path=/</td>\n",
       "      <td>max-age=63072000</td>\n",
       "      <td>/privacy</td>\n",
       "      <td>HIT</td>\n",
       "      <td>fra1::sjqnk-1685918465201-31f7516882d5</td>\n",
       "      <td>text/html,application/xhtml+xml,application/xml;q=0.9,*/*;q=0.8</td>\n",
       "      <td>en</td>\n",
       "      <td>advertools/0.13.2</td>\n",
       "      <td>gzip, deflate</td>\n",
       "      <td>countryCode=DE</td>\n",
       "      <td>NaN</td>\n",
       "      <td>NaN</td>\n",
       "      <td>NaN</td>\n",
       "      <td>NaN</td>\n",
       "      <td>NaN</td>\n",
       "      <td>NaN</td>\n",
       "      <td>NaN</td>\n",
       "      <td>NaN</td>\n",
       "      <td>NaN</td>\n",
       "      <td>NaN</td>\n",
       "      <td>NaN</td>\n",
       "      <td>NaN</td>\n",
       "      <td>NaN</td>\n",
       "      <td>NaN</td>\n",
       "    </tr>\n",
       "    <tr>\n",
       "      <th>3</th>\n",
       "      <td>https://maven.com/teach</td>\n",
       "      <td>2023-06-04 22:41:05</td>\n",
       "      <td>200</td>\n",
       "      <td>180</td>\n",
       "      <td>maven.com</td>\n",
       "      <td>0.169096</td>\n",
       "      <td>0</td>\n",
       "      <td>HTTP/1.1</td>\n",
       "      <td>NaN</td>\n",
       "      <td>0</td>\n",
       "      <td>*</td>\n",
       "      <td>180096</td>\n",
       "      <td>public, max-age=0, must-revalidate</td>\n",
       "      <td>inline; filename=\"teach\"</td>\n",
       "      <td>gzip</td>\n",
       "      <td>frame-ancestors 'self'; object-src 'none';</td>\n",
       "      <td>text/html; charset=utf-8</td>\n",
       "      <td>Sun, 04 Jun 2023 22:41:05 GMT</td>\n",
       "      <td>W/\"5f86aef4ab999185c49dd68da4fd4ba7\"</td>\n",
       "      <td>Vercel</td>\n",
       "      <td>countryCode=DE; Path=/</td>\n",
       "      <td>max-age=63072000</td>\n",
       "      <td>/teach</td>\n",
       "      <td>HIT</td>\n",
       "      <td>fra1::5vwk6-1685918465201-c06ca5c68725</td>\n",
       "      <td>text/html,application/xhtml+xml,application/xml;q=0.9,*/*;q=0.8</td>\n",
       "      <td>en</td>\n",
       "      <td>advertools/0.13.2</td>\n",
       "      <td>gzip, deflate</td>\n",
       "      <td>countryCode=DE</td>\n",
       "      <td>NaN</td>\n",
       "      <td>NaN</td>\n",
       "      <td>NaN</td>\n",
       "      <td>NaN</td>\n",
       "      <td>NaN</td>\n",
       "      <td>NaN</td>\n",
       "      <td>NaN</td>\n",
       "      <td>NaN</td>\n",
       "      <td>NaN</td>\n",
       "      <td>NaN</td>\n",
       "      <td>NaN</td>\n",
       "      <td>NaN</td>\n",
       "      <td>NaN</td>\n",
       "      <td>NaN</td>\n",
       "    </tr>\n",
       "    <tr>\n",
       "      <th>4</th>\n",
       "      <td>https://maven.com/</td>\n",
       "      <td>2023-06-04 22:41:05</td>\n",
       "      <td>200</td>\n",
       "      <td>180</td>\n",
       "      <td>maven.com</td>\n",
       "      <td>0.261652</td>\n",
       "      <td>0</td>\n",
       "      <td>HTTP/1.1</td>\n",
       "      <td>NaN</td>\n",
       "      <td>0</td>\n",
       "      <td>*</td>\n",
       "      <td>180173</td>\n",
       "      <td>public, max-age=0, must-revalidate</td>\n",
       "      <td>inline</td>\n",
       "      <td>gzip</td>\n",
       "      <td>frame-ancestors 'self'; object-src 'none';</td>\n",
       "      <td>text/html; charset=utf-8</td>\n",
       "      <td>Sun, 04 Jun 2023 22:41:05 GMT</td>\n",
       "      <td>W/\"32f9687437623c4b4e6cd2eae8fd64db\"</td>\n",
       "      <td>Vercel</td>\n",
       "      <td>countryCode=DE; Path=/</td>\n",
       "      <td>max-age=63072000</td>\n",
       "      <td>/</td>\n",
       "      <td>STALE</td>\n",
       "      <td>fra1::fqwxg-1685918465135-bd91b15970e6</td>\n",
       "      <td>text/html,application/xhtml+xml,application/xml;q=0.9,*/*;q=0.8</td>\n",
       "      <td>en</td>\n",
       "      <td>advertools/0.13.2</td>\n",
       "      <td>gzip, deflate</td>\n",
       "      <td>countryCode=DE</td>\n",
       "      <td>NaN</td>\n",
       "      <td>NaN</td>\n",
       "      <td>NaN</td>\n",
       "      <td>NaN</td>\n",
       "      <td>NaN</td>\n",
       "      <td>NaN</td>\n",
       "      <td>NaN</td>\n",
       "      <td>NaN</td>\n",
       "      <td>NaN</td>\n",
       "      <td>NaN</td>\n",
       "      <td>NaN</td>\n",
       "      <td>NaN</td>\n",
       "      <td>NaN</td>\n",
       "      <td>NaN</td>\n",
       "    </tr>\n",
       "    <tr>\n",
       "      <th>...</th>\n",
       "      <td>...</td>\n",
       "      <td>...</td>\n",
       "      <td>...</td>\n",
       "      <td>...</td>\n",
       "      <td>...</td>\n",
       "      <td>...</td>\n",
       "      <td>...</td>\n",
       "      <td>...</td>\n",
       "      <td>...</td>\n",
       "      <td>...</td>\n",
       "      <td>...</td>\n",
       "      <td>...</td>\n",
       "      <td>...</td>\n",
       "      <td>...</td>\n",
       "      <td>...</td>\n",
       "      <td>...</td>\n",
       "      <td>...</td>\n",
       "      <td>...</td>\n",
       "      <td>...</td>\n",
       "      <td>...</td>\n",
       "      <td>...</td>\n",
       "      <td>...</td>\n",
       "      <td>...</td>\n",
       "      <td>...</td>\n",
       "      <td>...</td>\n",
       "      <td>...</td>\n",
       "      <td>...</td>\n",
       "      <td>...</td>\n",
       "      <td>...</td>\n",
       "      <td>...</td>\n",
       "      <td>...</td>\n",
       "      <td>...</td>\n",
       "      <td>...</td>\n",
       "      <td>...</td>\n",
       "      <td>...</td>\n",
       "      <td>...</td>\n",
       "      <td>...</td>\n",
       "      <td>...</td>\n",
       "      <td>...</td>\n",
       "      <td>...</td>\n",
       "      <td>...</td>\n",
       "      <td>...</td>\n",
       "      <td>...</td>\n",
       "      <td>...</td>\n",
       "    </tr>\n",
       "    <tr>\n",
       "      <th>1215</th>\n",
       "      <td>https://maven.com/p/7a3619</td>\n",
       "      <td>2023-06-04 22:42:03</td>\n",
       "      <td>200</td>\n",
       "      <td>180</td>\n",
       "      <td>maven.com</td>\n",
       "      <td>0.448136</td>\n",
       "      <td>0</td>\n",
       "      <td>HTTP/1.1</td>\n",
       "      <td>NaN</td>\n",
       "      <td>0</td>\n",
       "      <td>NaN</td>\n",
       "      <td>0</td>\n",
       "      <td>public, max-age=0, must-revalidate</td>\n",
       "      <td>NaN</td>\n",
       "      <td>NaN</td>\n",
       "      <td>frame-ancestors 'self'; object-src 'none';</td>\n",
       "      <td>text/html; charset=utf-8</td>\n",
       "      <td>Sun, 04 Jun 2023 22:42:03 GMT</td>\n",
       "      <td>\"dkx1lbdk1rqho\"</td>\n",
       "      <td>Vercel</td>\n",
       "      <td>countryCode=DE; Path=/</td>\n",
       "      <td>max-age=63072000</td>\n",
       "      <td>/p/[slug]</td>\n",
       "      <td>MISS</td>\n",
       "      <td>fra1::iad1::9scqw-1685918523126-673552fa2516</td>\n",
       "      <td>text/html,application/xhtml+xml,application/xml;q=0.9,*/*;q=0.8</td>\n",
       "      <td>en</td>\n",
       "      <td>advertools/0.13.2</td>\n",
       "      <td>gzip, deflate</td>\n",
       "      <td>countryCode=DE</td>\n",
       "      <td>Next.js</td>\n",
       "      <td>NaN</td>\n",
       "      <td>NaN</td>\n",
       "      <td>NaN</td>\n",
       "      <td>NaN</td>\n",
       "      <td>NaN</td>\n",
       "      <td>NaN</td>\n",
       "      <td>NaN</td>\n",
       "      <td>NaN</td>\n",
       "      <td>NaN</td>\n",
       "      <td>NaN</td>\n",
       "      <td>NaN</td>\n",
       "      <td>NaN</td>\n",
       "      <td>NaN</td>\n",
       "    </tr>\n",
       "    <tr>\n",
       "      <th>1216</th>\n",
       "      <td>https://maven.com/p/5ab23f</td>\n",
       "      <td>2023-06-04 22:42:03</td>\n",
       "      <td>200</td>\n",
       "      <td>180</td>\n",
       "      <td>maven.com</td>\n",
       "      <td>0.191549</td>\n",
       "      <td>0</td>\n",
       "      <td>HTTP/1.1</td>\n",
       "      <td>NaN</td>\n",
       "      <td>0</td>\n",
       "      <td>NaN</td>\n",
       "      <td>64935</td>\n",
       "      <td>public, max-age=0, must-revalidate</td>\n",
       "      <td>NaN</td>\n",
       "      <td>NaN</td>\n",
       "      <td>frame-ancestors 'self'; object-src 'none';</td>\n",
       "      <td>text/html; charset=utf-8</td>\n",
       "      <td>Sun, 04 Jun 2023 04:39:47 GMT</td>\n",
       "      <td>\"x4jtzhjybwp9i\"</td>\n",
       "      <td>Vercel</td>\n",
       "      <td>countryCode=DE; Path=/</td>\n",
       "      <td>max-age=63072000</td>\n",
       "      <td>/p/[slug]</td>\n",
       "      <td>STALE</td>\n",
       "      <td>fra1::iad1::sjqnk-1685918523392-564eaa6cee52</td>\n",
       "      <td>text/html,application/xhtml+xml,application/xml;q=0.9,*/*;q=0.8</td>\n",
       "      <td>en</td>\n",
       "      <td>advertools/0.13.2</td>\n",
       "      <td>gzip, deflate</td>\n",
       "      <td>countryCode=DE</td>\n",
       "      <td>Next.js</td>\n",
       "      <td>NaN</td>\n",
       "      <td>NaN</td>\n",
       "      <td>NaN</td>\n",
       "      <td>NaN</td>\n",
       "      <td>NaN</td>\n",
       "      <td>NaN</td>\n",
       "      <td>NaN</td>\n",
       "      <td>NaN</td>\n",
       "      <td>NaN</td>\n",
       "      <td>NaN</td>\n",
       "      <td>NaN</td>\n",
       "      <td>NaN</td>\n",
       "      <td>NaN</td>\n",
       "    </tr>\n",
       "    <tr>\n",
       "      <th>1217</th>\n",
       "      <td>https://maven.com/p/8a3b71</td>\n",
       "      <td>2023-06-04 22:42:03</td>\n",
       "      <td>200</td>\n",
       "      <td>180</td>\n",
       "      <td>maven.com</td>\n",
       "      <td>0.464304</td>\n",
       "      <td>0</td>\n",
       "      <td>HTTP/1.1</td>\n",
       "      <td>NaN</td>\n",
       "      <td>0</td>\n",
       "      <td>NaN</td>\n",
       "      <td>0</td>\n",
       "      <td>public, max-age=0, must-revalidate</td>\n",
       "      <td>NaN</td>\n",
       "      <td>NaN</td>\n",
       "      <td>frame-ancestors 'self'; object-src 'none';</td>\n",
       "      <td>text/html; charset=utf-8</td>\n",
       "      <td>Sun, 04 Jun 2023 22:42:03 GMT</td>\n",
       "      <td>\"bd0thjjlnfm5w\"</td>\n",
       "      <td>Vercel</td>\n",
       "      <td>countryCode=DE; Path=/</td>\n",
       "      <td>max-age=63072000</td>\n",
       "      <td>/p/[slug]</td>\n",
       "      <td>MISS</td>\n",
       "      <td>fra1::iad1::8p5l9-1685918523126-54ca669b11c1</td>\n",
       "      <td>text/html,application/xhtml+xml,application/xml;q=0.9,*/*;q=0.8</td>\n",
       "      <td>en</td>\n",
       "      <td>advertools/0.13.2</td>\n",
       "      <td>gzip, deflate</td>\n",
       "      <td>countryCode=DE</td>\n",
       "      <td>Next.js</td>\n",
       "      <td>NaN</td>\n",
       "      <td>NaN</td>\n",
       "      <td>NaN</td>\n",
       "      <td>NaN</td>\n",
       "      <td>NaN</td>\n",
       "      <td>NaN</td>\n",
       "      <td>NaN</td>\n",
       "      <td>NaN</td>\n",
       "      <td>NaN</td>\n",
       "      <td>NaN</td>\n",
       "      <td>NaN</td>\n",
       "      <td>NaN</td>\n",
       "      <td>NaN</td>\n",
       "    </tr>\n",
       "    <tr>\n",
       "      <th>1218</th>\n",
       "      <td>https://maven.com/p/bb01a3</td>\n",
       "      <td>2023-06-04 22:42:03</td>\n",
       "      <td>200</td>\n",
       "      <td>180</td>\n",
       "      <td>maven.com</td>\n",
       "      <td>0.497109</td>\n",
       "      <td>0</td>\n",
       "      <td>HTTP/1.1</td>\n",
       "      <td>NaN</td>\n",
       "      <td>0</td>\n",
       "      <td>NaN</td>\n",
       "      <td>0</td>\n",
       "      <td>public, max-age=0, must-revalidate</td>\n",
       "      <td>NaN</td>\n",
       "      <td>NaN</td>\n",
       "      <td>frame-ancestors 'self'; object-src 'none';</td>\n",
       "      <td>text/html; charset=utf-8</td>\n",
       "      <td>Sun, 04 Jun 2023 22:42:03 GMT</td>\n",
       "      <td>\"15gxd6jgw43rex\"</td>\n",
       "      <td>Vercel</td>\n",
       "      <td>countryCode=DE; Path=/</td>\n",
       "      <td>max-age=63072000</td>\n",
       "      <td>/p/[slug]</td>\n",
       "      <td>MISS</td>\n",
       "      <td>fra1::iad1::w868q-1685918523160-5638010f3b02</td>\n",
       "      <td>text/html,application/xhtml+xml,application/xml;q=0.9,*/*;q=0.8</td>\n",
       "      <td>en</td>\n",
       "      <td>advertools/0.13.2</td>\n",
       "      <td>gzip, deflate</td>\n",
       "      <td>countryCode=DE</td>\n",
       "      <td>Next.js</td>\n",
       "      <td>NaN</td>\n",
       "      <td>NaN</td>\n",
       "      <td>NaN</td>\n",
       "      <td>NaN</td>\n",
       "      <td>NaN</td>\n",
       "      <td>NaN</td>\n",
       "      <td>NaN</td>\n",
       "      <td>NaN</td>\n",
       "      <td>NaN</td>\n",
       "      <td>NaN</td>\n",
       "      <td>NaN</td>\n",
       "      <td>NaN</td>\n",
       "      <td>NaN</td>\n",
       "    </tr>\n",
       "    <tr>\n",
       "      <th>1219</th>\n",
       "      <td>https://maven.com/p/8762a1</td>\n",
       "      <td>2023-06-04 22:42:03</td>\n",
       "      <td>200</td>\n",
       "      <td>180</td>\n",
       "      <td>maven.com</td>\n",
       "      <td>0.453677</td>\n",
       "      <td>0</td>\n",
       "      <td>HTTP/1.1</td>\n",
       "      <td>NaN</td>\n",
       "      <td>0</td>\n",
       "      <td>NaN</td>\n",
       "      <td>0</td>\n",
       "      <td>public, max-age=0, must-revalidate</td>\n",
       "      <td>NaN</td>\n",
       "      <td>NaN</td>\n",
       "      <td>frame-ancestors 'self'; object-src 'none';</td>\n",
       "      <td>text/html; charset=utf-8</td>\n",
       "      <td>Sun, 04 Jun 2023 22:42:03 GMT</td>\n",
       "      <td>\"yu81mqw1lepr2\"</td>\n",
       "      <td>Vercel</td>\n",
       "      <td>countryCode=DE; Path=/</td>\n",
       "      <td>max-age=63072000</td>\n",
       "      <td>/p/[slug]</td>\n",
       "      <td>MISS</td>\n",
       "      <td>fra1::iad1::8lzlk-1685918523266-53a4d01af23b</td>\n",
       "      <td>text/html,application/xhtml+xml,application/xml;q=0.9,*/*;q=0.8</td>\n",
       "      <td>en</td>\n",
       "      <td>advertools/0.13.2</td>\n",
       "      <td>gzip, deflate</td>\n",
       "      <td>countryCode=DE</td>\n",
       "      <td>Next.js</td>\n",
       "      <td>NaN</td>\n",
       "      <td>NaN</td>\n",
       "      <td>NaN</td>\n",
       "      <td>NaN</td>\n",
       "      <td>NaN</td>\n",
       "      <td>NaN</td>\n",
       "      <td>NaN</td>\n",
       "      <td>NaN</td>\n",
       "      <td>NaN</td>\n",
       "      <td>NaN</td>\n",
       "      <td>NaN</td>\n",
       "      <td>NaN</td>\n",
       "      <td>NaN</td>\n",
       "    </tr>\n",
       "  </tbody>\n",
       "</table>\n",
       "<p>1220 rows × 44 columns</p>\n",
       "</div>"
      ],
      "text/plain": [
       "                             url          crawl_time  status   \n",
       "0        https://maven.com/terms 2023-06-04 22:41:05     200  \\\n",
       "1        https://maven.com/about 2023-06-04 22:41:05     200   \n",
       "2      https://maven.com/privacy 2023-06-04 22:41:05     200   \n",
       "3        https://maven.com/teach 2023-06-04 22:41:05     200   \n",
       "4             https://maven.com/ 2023-06-04 22:41:05     200   \n",
       "...                          ...                 ...     ...   \n",
       "1215  https://maven.com/p/7a3619 2023-06-04 22:42:03     200   \n",
       "1216  https://maven.com/p/5ab23f 2023-06-04 22:42:03     200   \n",
       "1217  https://maven.com/p/8a3b71 2023-06-04 22:42:03     200   \n",
       "1218  https://maven.com/p/bb01a3 2023-06-04 22:42:03     200   \n",
       "1219  https://maven.com/p/8762a1 2023-06-04 22:42:03     200   \n",
       "\n",
       "      download_timeout download_slot  download_latency  depth  protocol  body   \n",
       "0                  180     maven.com          0.127141      0  HTTP/1.1   NaN  \\\n",
       "1                  180     maven.com          0.135604      0  HTTP/1.1   NaN   \n",
       "2                  180     maven.com          0.138744      0  HTTP/1.1   NaN   \n",
       "3                  180     maven.com          0.169096      0  HTTP/1.1   NaN   \n",
       "4                  180     maven.com          0.261652      0  HTTP/1.1   NaN   \n",
       "...                ...           ...               ...    ...       ...   ...   \n",
       "1215               180     maven.com          0.448136      0  HTTP/1.1   NaN   \n",
       "1216               180     maven.com          0.191549      0  HTTP/1.1   NaN   \n",
       "1217               180     maven.com          0.464304      0  HTTP/1.1   NaN   \n",
       "1218               180     maven.com          0.497109      0  HTTP/1.1   NaN   \n",
       "1219               180     maven.com          0.453677      0  HTTP/1.1   NaN   \n",
       "\n",
       "      resp_headers_content-length resp_headers_access-control-allow-origin   \n",
       "0                               0                                        *  \\\n",
       "1                               0                                        *   \n",
       "2                               0                                        *   \n",
       "3                               0                                        *   \n",
       "4                               0                                        *   \n",
       "...                           ...                                      ...   \n",
       "1215                            0                                      NaN   \n",
       "1216                            0                                      NaN   \n",
       "1217                            0                                      NaN   \n",
       "1218                            0                                      NaN   \n",
       "1219                            0                                      NaN   \n",
       "\n",
       "      resp_headers_age          resp_headers_cache-control   \n",
       "0                 5675  public, max-age=0, must-revalidate  \\\n",
       "1               151629  public, max-age=0, must-revalidate   \n",
       "2               179276  public, max-age=0, must-revalidate   \n",
       "3               180096  public, max-age=0, must-revalidate   \n",
       "4               180173  public, max-age=0, must-revalidate   \n",
       "...                ...                                 ...   \n",
       "1215                 0  public, max-age=0, must-revalidate   \n",
       "1216             64935  public, max-age=0, must-revalidate   \n",
       "1217                 0  public, max-age=0, must-revalidate   \n",
       "1218                 0  public, max-age=0, must-revalidate   \n",
       "1219                 0  public, max-age=0, must-revalidate   \n",
       "\n",
       "     resp_headers_content-disposition resp_headers_content-encoding   \n",
       "0            inline; filename=\"terms\"                          gzip  \\\n",
       "1            inline; filename=\"about\"                          gzip   \n",
       "2          inline; filename=\"privacy\"                          gzip   \n",
       "3            inline; filename=\"teach\"                          gzip   \n",
       "4                              inline                          gzip   \n",
       "...                               ...                           ...   \n",
       "1215                              NaN                           NaN   \n",
       "1216                              NaN                           NaN   \n",
       "1217                              NaN                           NaN   \n",
       "1218                              NaN                           NaN   \n",
       "1219                              NaN                           NaN   \n",
       "\n",
       "            resp_headers_content-security-policy resp_headers_content-type   \n",
       "0     frame-ancestors 'self'; object-src 'none';  text/html; charset=utf-8  \\\n",
       "1     frame-ancestors 'self'; object-src 'none';  text/html; charset=utf-8   \n",
       "2     frame-ancestors 'self'; object-src 'none';  text/html; charset=utf-8   \n",
       "3     frame-ancestors 'self'; object-src 'none';  text/html; charset=utf-8   \n",
       "4     frame-ancestors 'self'; object-src 'none';  text/html; charset=utf-8   \n",
       "...                                          ...                       ...   \n",
       "1215  frame-ancestors 'self'; object-src 'none';  text/html; charset=utf-8   \n",
       "1216  frame-ancestors 'self'; object-src 'none';  text/html; charset=utf-8   \n",
       "1217  frame-ancestors 'self'; object-src 'none';  text/html; charset=utf-8   \n",
       "1218  frame-ancestors 'self'; object-src 'none';  text/html; charset=utf-8   \n",
       "1219  frame-ancestors 'self'; object-src 'none';  text/html; charset=utf-8   \n",
       "\n",
       "                  resp_headers_date                     resp_headers_etag   \n",
       "0     Sun, 04 Jun 2023 22:41:05 GMT  W/\"4e2897677cdabbffa62aeaaef35094c9\"  \\\n",
       "1     Sun, 04 Jun 2023 22:41:05 GMT  W/\"983604f5444686e38b0622825a8655b6\"   \n",
       "2     Sun, 04 Jun 2023 22:41:05 GMT  W/\"7fc56e01f7273ef1929e30f08765de3f\"   \n",
       "3     Sun, 04 Jun 2023 22:41:05 GMT  W/\"5f86aef4ab999185c49dd68da4fd4ba7\"   \n",
       "4     Sun, 04 Jun 2023 22:41:05 GMT  W/\"32f9687437623c4b4e6cd2eae8fd64db\"   \n",
       "...                             ...                                   ...   \n",
       "1215  Sun, 04 Jun 2023 22:42:03 GMT                       \"dkx1lbdk1rqho\"   \n",
       "1216  Sun, 04 Jun 2023 04:39:47 GMT                       \"x4jtzhjybwp9i\"   \n",
       "1217  Sun, 04 Jun 2023 22:42:03 GMT                       \"bd0thjjlnfm5w\"   \n",
       "1218  Sun, 04 Jun 2023 22:42:03 GMT                      \"15gxd6jgw43rex\"   \n",
       "1219  Sun, 04 Jun 2023 22:42:03 GMT                       \"yu81mqw1lepr2\"   \n",
       "\n",
       "     resp_headers_server resp_headers_set-cookie   \n",
       "0                 Vercel  countryCode=DE; Path=/  \\\n",
       "1                 Vercel  countryCode=DE; Path=/   \n",
       "2                 Vercel  countryCode=DE; Path=/   \n",
       "3                 Vercel  countryCode=DE; Path=/   \n",
       "4                 Vercel  countryCode=DE; Path=/   \n",
       "...                  ...                     ...   \n",
       "1215              Vercel  countryCode=DE; Path=/   \n",
       "1216              Vercel  countryCode=DE; Path=/   \n",
       "1217              Vercel  countryCode=DE; Path=/   \n",
       "1218              Vercel  countryCode=DE; Path=/   \n",
       "1219              Vercel  countryCode=DE; Path=/   \n",
       "\n",
       "     resp_headers_strict-transport-security resp_headers_x-matched-path   \n",
       "0                          max-age=63072000                      /terms  \\\n",
       "1                          max-age=63072000                      /about   \n",
       "2                          max-age=63072000                    /privacy   \n",
       "3                          max-age=63072000                      /teach   \n",
       "4                          max-age=63072000                           /   \n",
       "...                                     ...                         ...   \n",
       "1215                       max-age=63072000                   /p/[slug]   \n",
       "1216                       max-age=63072000                   /p/[slug]   \n",
       "1217                       max-age=63072000                   /p/[slug]   \n",
       "1218                       max-age=63072000                   /p/[slug]   \n",
       "1219                       max-age=63072000                   /p/[slug]   \n",
       "\n",
       "     resp_headers_x-vercel-cache   \n",
       "0                            HIT  \\\n",
       "1                            HIT   \n",
       "2                            HIT   \n",
       "3                            HIT   \n",
       "4                          STALE   \n",
       "...                          ...   \n",
       "1215                        MISS   \n",
       "1216                       STALE   \n",
       "1217                        MISS   \n",
       "1218                        MISS   \n",
       "1219                        MISS   \n",
       "\n",
       "                          resp_headers_x-vercel-id   \n",
       "0           fra1::2pmkm-1685918465201-773d438cf470  \\\n",
       "1           fra1::hvtsj-1685918465200-24451eeb0506   \n",
       "2           fra1::sjqnk-1685918465201-31f7516882d5   \n",
       "3           fra1::5vwk6-1685918465201-c06ca5c68725   \n",
       "4           fra1::fqwxg-1685918465135-bd91b15970e6   \n",
       "...                                            ...   \n",
       "1215  fra1::iad1::9scqw-1685918523126-673552fa2516   \n",
       "1216  fra1::iad1::sjqnk-1685918523392-564eaa6cee52   \n",
       "1217  fra1::iad1::8p5l9-1685918523126-54ca669b11c1   \n",
       "1218  fra1::iad1::w868q-1685918523160-5638010f3b02   \n",
       "1219  fra1::iad1::8lzlk-1685918523266-53a4d01af23b   \n",
       "\n",
       "                                               request_headers_accept   \n",
       "0     text/html,application/xhtml+xml,application/xml;q=0.9,*/*;q=0.8  \\\n",
       "1     text/html,application/xhtml+xml,application/xml;q=0.9,*/*;q=0.8   \n",
       "2     text/html,application/xhtml+xml,application/xml;q=0.9,*/*;q=0.8   \n",
       "3     text/html,application/xhtml+xml,application/xml;q=0.9,*/*;q=0.8   \n",
       "4     text/html,application/xhtml+xml,application/xml;q=0.9,*/*;q=0.8   \n",
       "...                                                               ...   \n",
       "1215  text/html,application/xhtml+xml,application/xml;q=0.9,*/*;q=0.8   \n",
       "1216  text/html,application/xhtml+xml,application/xml;q=0.9,*/*;q=0.8   \n",
       "1217  text/html,application/xhtml+xml,application/xml;q=0.9,*/*;q=0.8   \n",
       "1218  text/html,application/xhtml+xml,application/xml;q=0.9,*/*;q=0.8   \n",
       "1219  text/html,application/xhtml+xml,application/xml;q=0.9,*/*;q=0.8   \n",
       "\n",
       "     request_headers_accept-language request_headers_user-agent   \n",
       "0                                 en          advertools/0.13.2  \\\n",
       "1                                 en          advertools/0.13.2   \n",
       "2                                 en          advertools/0.13.2   \n",
       "3                                 en          advertools/0.13.2   \n",
       "4                                 en          advertools/0.13.2   \n",
       "...                              ...                        ...   \n",
       "1215                              en          advertools/0.13.2   \n",
       "1216                              en          advertools/0.13.2   \n",
       "1217                              en          advertools/0.13.2   \n",
       "1218                              en          advertools/0.13.2   \n",
       "1219                              en          advertools/0.13.2   \n",
       "\n",
       "     request_headers_accept-encoding request_headers_cookie   \n",
       "0                      gzip, deflate         countryCode=DE  \\\n",
       "1                      gzip, deflate         countryCode=DE   \n",
       "2                      gzip, deflate         countryCode=DE   \n",
       "3                      gzip, deflate         countryCode=DE   \n",
       "4                      gzip, deflate         countryCode=DE   \n",
       "...                              ...                    ...   \n",
       "1215                   gzip, deflate         countryCode=DE   \n",
       "1216                   gzip, deflate         countryCode=DE   \n",
       "1217                   gzip, deflate         countryCode=DE   \n",
       "1218                   gzip, deflate         countryCode=DE   \n",
       "1219                   gzip, deflate         countryCode=DE   \n",
       "\n",
       "     resp_headers_x-powered-by resp_headers_x-nextjs-matched-path   \n",
       "0                          NaN                                NaN  \\\n",
       "1                          NaN                                NaN   \n",
       "2                          NaN                                NaN   \n",
       "3                          NaN                                NaN   \n",
       "4                          NaN                                NaN   \n",
       "...                        ...                                ...   \n",
       "1215                   Next.js                                NaN   \n",
       "1216                   Next.js                                NaN   \n",
       "1217                   Next.js                                NaN   \n",
       "1218                   Next.js                                NaN   \n",
       "1219                   Next.js                                NaN   \n",
       "\n",
       "      redirect_times  redirect_ttl redirect_urls  redirect_reasons   \n",
       "0                NaN           NaN           NaN               NaN  \\\n",
       "1                NaN           NaN           NaN               NaN   \n",
       "2                NaN           NaN           NaN               NaN   \n",
       "3                NaN           NaN           NaN               NaN   \n",
       "4                NaN           NaN           NaN               NaN   \n",
       "...              ...           ...           ...               ...   \n",
       "1215             NaN           NaN           NaN               NaN   \n",
       "1216             NaN           NaN           NaN               NaN   \n",
       "1217             NaN           NaN           NaN               NaN   \n",
       "1218             NaN           NaN           NaN               NaN   \n",
       "1219             NaN           NaN           NaN               NaN   \n",
       "\n",
       "     resp_headers_x-lambda-id resp_headers_accept-ranges   \n",
       "0                         NaN                        NaN  \\\n",
       "1                         NaN                        NaN   \n",
       "2                         NaN                        NaN   \n",
       "3                         NaN                        NaN   \n",
       "4                         NaN                        NaN   \n",
       "...                       ...                        ...   \n",
       "1215                      NaN                        NaN   \n",
       "1216                      NaN                        NaN   \n",
       "1217                      NaN                        NaN   \n",
       "1218                      NaN                        NaN   \n",
       "1219                      NaN                        NaN   \n",
       "\n",
       "     resp_headers_x-served-by resp_headers_x-cache resp_headers_x-cache-hits   \n",
       "0                         NaN                  NaN                       NaN  \\\n",
       "1                         NaN                  NaN                       NaN   \n",
       "2                         NaN                  NaN                       NaN   \n",
       "3                         NaN                  NaN                       NaN   \n",
       "4                         NaN                  NaN                       NaN   \n",
       "...                       ...                  ...                       ...   \n",
       "1215                      NaN                  NaN                       NaN   \n",
       "1216                      NaN                  NaN                       NaN   \n",
       "1217                      NaN                  NaN                       NaN   \n",
       "1218                      NaN                  NaN                       NaN   \n",
       "1219                      NaN                  NaN                       NaN   \n",
       "\n",
       "     resp_headers_x-timer resp_headers_vary resp_headers_x-cluster-name  \n",
       "0                     NaN               NaN                         NaN  \n",
       "1                     NaN               NaN                         NaN  \n",
       "2                     NaN               NaN                         NaN  \n",
       "3                     NaN               NaN                         NaN  \n",
       "4                     NaN               NaN                         NaN  \n",
       "...                   ...               ...                         ...  \n",
       "1215                  NaN               NaN                         NaN  \n",
       "1216                  NaN               NaN                         NaN  \n",
       "1217                  NaN               NaN                         NaN  \n",
       "1218                  NaN               NaN                         NaN  \n",
       "1219                  NaN               NaN                         NaN  \n",
       "\n",
       "[1220 rows x 44 columns]"
      ]
     },
     "execution_count": null,
     "metadata": {},
     "output_type": "execute_result"
    }
   ],
   "source": [
    "headers_df = pd.read_json('crawl_headers_output.jl', lines=True)\n",
    "headers_df"
   ]
  },
  {
   "attachments": {},
   "cell_type": "markdown",
   "id": "cd817594-1b7f-4d02-a245-9e1dcd6ad2b6",
   "metadata": {},
   "source": [
    "#### Visualize status codes"
   ]
  },
  {
   "cell_type": "code",
   "execution_count": null,
   "id": "5839cc92-18ea-4a57-b9bb-5fa8d0db279c",
   "metadata": {
    "vscode": {
     "languageId": "python"
    }
   },
   "outputs": [
    {
     "data": {
      "application/vnd.plotly.v1+json": {
       "config": {
        "plotlyServerURL": "https://plot.ly"
       },
       "data": [
        {
         "branchvalues": "total",
         "customdata": [
          [
           "OK"
          ],
          [
           "Not Found"
          ],
          [
           "OK"
          ],
          [
           "Not Found"
          ],
          [
           "(?)"
          ]
         ],
         "domain": {
          "x": [
           0,
           1
          ],
          "y": [
           0,
           1
          ]
         },
         "hovertemplate": "<b>%{label} </b><br><br>Status code: %{label} %{customdata[0]}<br>Count: %{value:,}<br>%{percentParent:.1%} of %{parent}<br>",
         "hovertext": [
          200,
          400,
          200,
          400,
          "(?)"
         ],
         "ids": [
          "Status codes/200/200",
          "Status codes/400/404",
          "Status codes/200",
          "Status codes/400",
          "Status codes"
         ],
         "labels": [
          "200",
          "404",
          "200",
          "400",
          "Status codes"
         ],
         "level": "Status codes",
         "marker": {
          "line": {
           "width": 0.01
          },
          "pad": {
           "b": 0,
           "l": 0,
           "r": 0,
           "t": 0
          }
         },
         "maxdepth": 2,
         "name": "",
         "parents": [
          "Status codes/200",
          "Status codes/400",
          "Status codes",
          "Status codes",
          ""
         ],
         "texttemplate": "<b>%{label} </b><br><br>Status code: %{label} %{customdata[0]}<br>Count: %{value:,}<br>%{percentParent:.1%} of %{parent}<br>",
         "type": "treemap",
         "values": [
          1200,
          20,
          1200,
          20,
          1220
         ]
        }
       ],
       "layout": {
        "autosize": true,
        "legend": {
         "tracegroupgap": 0
        },
        "template": {
         "data": {
          "scatter": [
           {
            "type": "scatter"
           }
          ]
         }
        },
        "title": {
         "text": "Status Codes"
        }
       }
      },
      "image/png": "[encoded data removed]",
      "text/html": [
       "<div>                            <div id=\"407d602c-ca6e-4940-af7e-590a07098ff0\" class=\"plotly-graph-div\" style=\"height:600px; width:100%;\"></div>            <script type=\"text/javascript\">                require([\"plotly\"], function(Plotly) {                    window.PLOTLYENV=window.PLOTLYENV || {};                                    if (document.getElementById(\"407d602c-ca6e-4940-af7e-590a07098ff0\")) {                    Plotly.newPlot(                        \"407d602c-ca6e-4940-af7e-590a07098ff0\",                        [{\"branchvalues\":\"total\",\"customdata\":[[\"OK\"],[\"Not Found\"],[\"OK\"],[\"Not Found\"],[\"(?)\"]],\"domain\":{\"x\":[0.0,1.0],\"y\":[0.0,1.0]},\"hovertemplate\":\"<b>%{label} </b><br><br>Status code: %{label} %{customdata[0]}<br>Count: %{value:,}<br>%{percentParent:.1%} of %{parent}<br>\",\"hovertext\":[200,400,200,400,\"(?)\"],\"ids\":[\"Status codes/200/200\",\"Status codes/400/404\",\"Status codes/200\",\"Status codes/400\",\"Status codes\"],\"labels\":[\"200\",\"404\",\"200\",\"400\",\"Status codes\"],\"maxdepth\":2,\"name\":\"\",\"parents\":[\"Status codes/200\",\"Status codes/400\",\"Status codes\",\"Status codes\",\"\"],\"values\":[1200,20,1200,20,1220],\"type\":\"treemap\",\"marker\":{\"line\":{\"width\":0.01},\"pad\":{\"b\":0,\"l\":0,\"r\":0,\"t\":0}},\"texttemplate\":\"<b>%{label} </b><br><br>Status code: %{label} %{customdata[0]}<br>Count: %{value:,}<br>%{percentParent:.1%} of %{parent}<br>\"}],                        {\"template\":{\"data\":{\"scatter\":[{\"type\":\"scatter\"}]}},\"legend\":{\"tracegroupgap\":0},\"title\":{\"text\":\"Status Codes\"},\"height\":600},                        {\"responsive\": true}                    ).then(function(){\n",
       "                            \n",
       "var gd = document.getElementById('407d602c-ca6e-4940-af7e-590a07098ff0');\n",
       "var x = new MutationObserver(function (mutations, observer) {{\n",
       "        var display = window.getComputedStyle(gd).display;\n",
       "        if (!display || display === 'none') {{\n",
       "            console.log([gd, 'removed!']);\n",
       "            Plotly.purge(gd);\n",
       "            observer.disconnect();\n",
       "        }}\n",
       "}});\n",
       "\n",
       "// Listen for the removal of the full notebook cells\n",
       "var notebookContainer = gd.closest('#notebook-container');\n",
       "if (notebookContainer) {{\n",
       "    x.observe(notebookContainer, {childList: true});\n",
       "}}\n",
       "\n",
       "// Listen for the clearing of the current output cell\n",
       "var outputEl = gd.closest('.output');\n",
       "if (outputEl) {{\n",
       "    x.observe(outputEl, {childList: true});\n",
       "}}\n",
       "\n",
       "                        })                };                });            </script>        </div>"
      ]
     },
     "metadata": {},
     "output_type": "display_data"
    }
   ],
   "source": [
    "adviz.status_codes(headers_df['status'])"
   ]
  },
  {
   "cell_type": "code",
   "execution_count": null,
   "id": "552d3abb-4e7c-4c0e-8e68-5777ac8cc24b",
   "metadata": {
    "vscode": {
     "languageId": "python"
    }
   },
   "outputs": [
    {
     "data": {
      "text/html": [
       "<style type=\"text/css\">\n",
       "#T_25a7b_row0_col0, #T_25a7b_row0_col2, #T_25a7b_row0_col4, #T_25a7b_row1_col1, #T_25a7b_row1_col3 {\n",
       "  background-color: #00224e;\n",
       "  color: #f1f1f1;\n",
       "}\n",
       "#T_25a7b_row0_col1, #T_25a7b_row0_col3, #T_25a7b_row1_col0, #T_25a7b_row1_col2, #T_25a7b_row1_col4 {\n",
       "  background-color: #fee838;\n",
       "  color: #000000;\n",
       "}\n",
       "</style>\n",
       "<table id=\"T_25a7b\" style=font-size:14pt;>\n",
       "  <caption><h2>Counts of <b>Status codes</b></h2></caption>\n",
       "  <thead>\n",
       "    <tr>\n",
       "      <th class=\"blank level0\" >&nbsp;</th>\n",
       "      <th id=\"T_25a7b_level0_col0\" class=\"col_heading level0 col0\" >Status codes</th>\n",
       "      <th id=\"T_25a7b_level0_col1\" class=\"col_heading level0 col1\" >count</th>\n",
       "      <th id=\"T_25a7b_level0_col2\" class=\"col_heading level0 col2\" >cum. count</th>\n",
       "      <th id=\"T_25a7b_level0_col3\" class=\"col_heading level0 col3\" >%</th>\n",
       "      <th id=\"T_25a7b_level0_col4\" class=\"col_heading level0 col4\" >cum. %</th>\n",
       "    </tr>\n",
       "  </thead>\n",
       "  <tbody>\n",
       "    <tr>\n",
       "      <th id=\"T_25a7b_level0_row0\" class=\"row_heading level0 row0\" >1</th>\n",
       "      <td id=\"T_25a7b_row0_col0\" class=\"data row0 col0\" >200</td>\n",
       "      <td id=\"T_25a7b_row0_col1\" class=\"data row0 col1\" >1,200</td>\n",
       "      <td id=\"T_25a7b_row0_col2\" class=\"data row0 col2\" >1,200</td>\n",
       "      <td id=\"T_25a7b_row0_col3\" class=\"data row0 col3\" >98.4%</td>\n",
       "      <td id=\"T_25a7b_row0_col4\" class=\"data row0 col4\" >98.4%</td>\n",
       "    </tr>\n",
       "    <tr>\n",
       "      <th id=\"T_25a7b_level0_row1\" class=\"row_heading level0 row1\" >2</th>\n",
       "      <td id=\"T_25a7b_row1_col0\" class=\"data row1 col0\" >404</td>\n",
       "      <td id=\"T_25a7b_row1_col1\" class=\"data row1 col1\" >20</td>\n",
       "      <td id=\"T_25a7b_row1_col2\" class=\"data row1 col2\" >1,220</td>\n",
       "      <td id=\"T_25a7b_row1_col3\" class=\"data row1 col3\" >1.6%</td>\n",
       "      <td id=\"T_25a7b_row1_col4\" class=\"data row1 col4\" >100.0%</td>\n",
       "    </tr>\n",
       "  </tbody>\n",
       "</table>\n"
      ],
      "text/plain": [
       "<pandas.io.formats.style.Styler>"
      ]
     },
     "execution_count": null,
     "metadata": {},
     "output_type": "execute_result"
    }
   ],
   "source": [
    "adviz.value_counts_plus(headers_df['status'], name='Status codes', size=14)"
   ]
  },
  {
   "attachments": {},
   "cell_type": "markdown",
   "id": "50a39376-9dab-4f3e-a87d-6006a61165ff",
   "metadata": {},
   "source": [
    "#### Visualize URL structure"
   ]
  },
  {
   "cell_type": "code",
   "execution_count": null,
   "id": "0d536efd-9d10-480c-abdd-0353d6f38c95",
   "metadata": {
    "vscode": {
     "languageId": "python"
    }
   },
   "outputs": [
    {
     "data": {
      "application/vnd.plotly.v1+json": {
       "config": {
        "plotlyServerURL": "https://plot.ly"
       },
       "data": [
        {
         "branchvalues": "total",
         "domain": {
          "x": [
           0,
           1
          ],
          "y": [
           0,
           1
          ]
         },
         "hovertemplate": "<b>%{label} </b><br><br>Directory: <b>%{parent}/%{label}</b><br>Count: %{value:,}<br>%{percentParent:.1%} of %{parent}<br>",
         "ids": [
          "maven.com/p/02f86b",
          "maven.com/p/057062",
          "maven.com/p/064a1c",
          "maven.com/p/0c9895",
          "maven.com/p/0f7c03",
          "maven.com/p/117297",
          "maven.com/p/12c090",
          "maven.com/p/13d804",
          "maven.com/p/143808",
          "maven.com/p/1a3799",
          "maven.com/p/292c16",
          "maven.com/p/309f7b",
          "maven.com/p/30dd3c",
          "maven.com/p/321164",
          "maven.com/p/350c14",
          "maven.com/p/3ed293",
          "maven.com/p/407542",
          "maven.com/p/455be8",
          "maven.com/p/4e56cd",
          "maven.com/dsjr/5kbt",
          "maven.com/resources/6-week-plan",
          "maven.com/p/6a786f",
          "maven.com/p/6b68ea",
          "maven.com/p/78d8df",
          "maven.com/p/79b418",
          "maven.com/p/7a8f8b",
          "maven.com/p/8c011a",
          "maven.com/p/918ead",
          "maven.com/p/9364fb",
          "maven.com/p/980ffe",
          "maven.com/p/9826dd",
          "maven.com/p/9c96b7",
          "maven.com/p/9ebc83",
          "maven.com/Others:/Others:",
          "maven.com/articles/Others:",
          "maven.com/p/Others:",
          "maven.com/resources/Others:",
          "maven.com/resources/a16z-cohorts-are-king",
          "maven.com/p/a4b1ac",
          "maven.com/p/ab2d41",
          "maven.com/pcdn/accelerate-your-social-impact-career",
          "maven.com/marily-nika/ace-pm-interview",
          "maven.com/marily-nika/advanced-ai-product-management",
          "maven.com/nicolas-boucher/advanced-chatgpt-for-finance",
          "maven.com/Others:/advanced-revit-family-strategies",
          "maven.com/agile-academy/agile-and-scrum-bootcamp",
          "maven.com/articles/agile-product-management",
          "maven.com/articles/ai-proof-content-marketing",
          "maven.com/alt-marketing-school/alt-marketing-certification",
          "maven.com/by-jill-diamond/american-accent-accelerator-program",
          "maven.com/resources/announcement-maven-course-builder",
          "maven.com/articles/annual-plan-discounts",
          "maven.com/luca/antifragile-teams",
          "maven.com/andy-gupta/anyone-can-invest-now",
          "maven.com/articles/authentic-leadership",
          "maven.com/articles/authentic-marketing",
          "maven.com/p/b52aac",
          "maven.com/content-marketing/backlink-building",
          "maven.com/p/bd675b",
          "maven.com/practical-finance/beyond-the-numbers",
          "maven.com/resources/bugs-to-features",
          "maven.com/narrative-first/build-a-better-story",
          "maven.com/articles/build-mvp",
          "maven.com/articles/build-trust-with-your-team",
          "maven.com/terry-rice-consulting/build-your-irresistible-offer",
          "maven.com/mkt1/building-marketing",
          "maven.com/inoncollab/buzzingonlineworkshops",
          "maven.com/p/c2d009",
          "maven.com/p/c44a89",
          "maven.com/rupachaturvedi/caidesign",
          "maven.com/tdavidson/cap-table-workshop",
          "maven.com/tdavidson/captable-masterclass",
          "maven.com/seidman-financial/cash-flow-forecasting-and-modeling",
          "maven.com/p/cfa428",
          "maven.com/articles/change-management",
          "maven.com/amanda-goetz/channel-strategy",
          "maven.com/turker-bilgin/chat-gpt-101-for-beginners",
          "maven.com/agile-academy/chatgpt-and-scrum-master",
          "maven.com/articles/chatgpt-for-advertising",
          "maven.com/articles/chatgpt-for-copywriting",
          "maven.com/nicolas-boucher/chatgpt-for-finance",
          "maven.com/articles/chatgpt-growth-marketing",
          "maven.com/resources/christian-wattig-fpa-course-success-story",
          "maven.com/inoncollab/clean-language-for-facilitators",
          "maven.com/allegra/coaching-superpowers",
          "maven.com/resources/community-introduction-template",
          "maven.com/articles/concious-conversation-framework",
          "maven.com/laude/consulting",
          "maven.com/Others:/content-flagship",
          "maven.com/resources/content-marketing-leader-amanda-natividad",
          "maven.com/rupachaturvedi/conversational-ai",
          "maven.com/resources/copywriting-mistakes-landing-pages-course-creators",
          "maven.com/Others:/core-pt",
          "maven.com/keylime-academy/cost-preparer-practicum",
          "maven.com/fpaprep/cost-saving-workshop",
          "maven.com/Others:/courageous-feedback",
          "maven.com/resources/course-market-fit",
          "maven.com/resources/course-mechanics-canvas",
          "maven.com/resources/course-price-and-length",
          "maven.com/articles/coverage-newsletters-podcasts",
          "maven.com/Others:/crafting-your-10-minute-power-pitch-or-presentation",
          "maven.com/dive/create-a-timeless-visual-language",
          "maven.com/Others:/creative-accelerator",
          "maven.com/articles/creative-tiktok-instagram-reels-ideas",
          "maven.com/Others:/crypto-fundamentals",
          "maven.com/p/d050f7",
          "maven.com/p/d1273a",
          "maven.com/Others:/data-storytelling",
          "maven.com/Others:/decision-making-for-angels",
          "maven.com/powered-by-decisions/decision-toolkit-for-coaches-counselors",
          "maven.com/Others:/deliverconstructivefeedbackthatinspiresaction",
          "maven.com/yuan/design-career-jumpstart",
          "maven.com/dive/design-system-bootcamp",
          "maven.com/resources/develop-framework-from-insights",
          "maven.com/articles/develop-growth-mindset",
          "maven.com/Others:/difficult-conversations",
          "maven.com/Others:/digital-copywriting-program",
          "maven.com/jen-bergren/documentation-workshop-1",
          "maven.com/jen-bergren/documentation-workshop-2",
          "maven.com/jen-bergren/documentation1",
          "maven.com/Others:/ds-career",
          "maven.com/p/e04caa",
          "maven.com/p/e3fb00",
          "maven.com/p/e694ee",
          "maven.com/p/e6e958",
          "maven.com/p/e927c8",
          "maven.com/Others:/edtech",
          "maven.com/articles/effective-presentation-skills",
          "maven.com/Others:/elite-sales-athlete",
          "maven.com/resources/email-campaigns",
          "maven.com/resources/emily-kramer-marketing-success-story",
          "maven.com/yuan/energy-leadership",
          "maven.com/narrative-first/episodic-television",
          "maven.com/jjruescas/evitaburnout",
          "maven.com/seidman-financial/excel-finance",
          "maven.com/articles/executive-presence-woman-leader",
          "maven.com/p/f09e62",
          "maven.com/p/f26e3b",
          "maven.com/p/f2f401",
          "maven.com/p/fc23e8",
          "maven.com/p/ffa140",
          "maven.com/Others:/finance-for-founders",
          "maven.com/nicolas-boucher/financial-analysis-and-budgeting-for-fpa",
          "maven.com/seidman-financial/financial-modeling",
          "maven.com/brian-feroldi/financials",
          "maven.com/practical-finance/financials-decoded",
          "maven.com/pamelaslim/find-perfect-partners-and-watering-holes",
          "maven.com/school-of-high-performance/foundations-of-wellness-and-performance",
          "maven.com/fpaprep/fpa-bootcamp",
          "maven.com/dive/framer-training",
          "maven.com/datonsai/framework-para-ciencia-de-datos",
          "maven.com/resources/frameworks-library",
          "maven.com/resources/free-workshops",
          "maven.com/Others:/fund-your-climate-tech-startup",
          "maven.com/Others:/futurefitfundamentals",
          "maven.com/teamlogiq/game-based-learning-design",
          "maven.com/resources/get-listed-on-maven",
          "maven.com/Others:/get-published",
          "maven.com/yoga-with-max/gettaller",
          "maven.com/resources/getting-enthusiastic-yes-in-sales-pitches",
          "maven.com/articles/giannis-growth-mindset",
          "maven.com/bobgower/good-teams",
          "maven.com/articles/google-chatgpt",
          "maven.com/articles/grow-online-community",
          "maven.com/articles/growth-marketing",
          "maven.com/datonsai/hands-on-data-projects-python",
          "maven.com/Others:/hire-better",
          "maven.com/resources/how-to-convert-students",
          "maven.com/stephenfollows/how-to-find-and-harness-film-data",
          "maven.com/jjruescas/hta",
          "maven.com/resources/impactful-learning-super-specific-how",
          "maven.com/stephenfollows/indie-film-strategy",
          "maven.com/david-lederman/inner-knowing",
          "maven.com/interrogate/insight-to-impact",
          "maven.com/resources/instructor-spotlight-dave-kline",
          "maven.com/resources/instructor-spotlight-laura-tacho",
          "maven.com/alt-marketing-school/intro-to-digital-marketing",
          "maven.com/andy-gupta/invest-in-your-future",
          "maven.com/pcdn/investingforsocialimpactprofessionals",
          "maven.com/laude/investmentbanking",
          "maven.com/Others:/inyourshoes",
          "maven.com/Others:/job-seeker-bootcamp",
          "maven.com/teamlogiq/kerriwalshjennings",
          "maven.com/resources/key-outcomes",
          "maven.com/Others:/launch-your-tpm-career",
          "maven.com/resources/lead-magnets",
          "maven.com/dsjr/leaders5kb",
          "maven.com/articles/leadership-styles",
          "maven.com/articles/leading-by-example",
          "maven.com/articles/lean-product-management",
          "maven.com/dive/level-up-with-figma",
          "maven.com/resources/leveraging-social-media",
          "maven.com/articles/lifecycle-marketing",
          "maven.com/joel-hansen/linkedin-masterclass",
          "maven.com/joel-hansen/linkedin-masterclass-1-day-workshop",
          "maven.com/resources/live-session-guide",
          "maven.com/Others:/llms-for-pms",
          "maven.com/alt-marketing-school/make-impact-bootcamp",
          "maven.com/Others:/management-mastery",
          "maven.com/articles/managing-product-dependencies",
          "maven.com/articles/managing-remote-teams",
          "maven.com/luca/managing-remote-teams",
          "maven.com/mark-schaefer/marketing",
          "maven.com/resources/marketing-strategy-reducing-friction-vs-increasing-desire",
          "maven.com/articles/master-product-management",
          "maven.com/dive/mastering-the-art-of-product-iconography",
          "maven.com/resources/maven-newsletter-welcome",
          "maven.com/school-of-high-performance/mental-fitness-training-camp",
          "maven.com/anshumani/midcareer-product-management",
          "maven.com/tdavidson/model-venture-funds",
          "maven.com/Others:/modern-nlp",
          "maven.com/Others:/monetization",
          "maven.com/dive/nail-the-product-design-interview",
          "maven.com/resources/nail-your-hero-section",
          "maven.com/resources/name-your-course",
          "maven.com/articles/network-effects",
          "maven.com/Others:/networking-masterclass",
          "maven.com/mintface/nft-digital-artist-economy",
          "maven.com/resources/noam-segal-boost-your-career-by-teaching-online",
          "maven.com/resources/optimize-your-lead-magnets",
          "maven.com/resources/personal-credibility-vs-personal-branding",
          "maven.com/powered-by-decisions/personal-decision-toolkit",
          "maven.com/Others:/persuasive-storytelling",
          "maven.com/content-marketing/pitch-guest-posts",
          "maven.com/anshumani/pm-decisions",
          "maven.com/Others:/pm-masterclass",
          "maven.com/resources/polly-allen-from-amazon-to-successful-solopreneur",
          "maven.com/dive/portfolio-coaching",
          "maven.com/Others:/positioning-strategy-workshop",
          "maven.com/articles/prd-product-requirements-document",
          "maven.com/articles/product-competitive-analysis",
          "maven.com/articles/product-design-thinking",
          "maven.com/Others:/product-discovery-fundamentals-starter",
          "maven.com/articles/product-growth",
          "maven.com/articles/product-launch-strategy",
          "maven.com/articles/product-lead",
          "maven.com/Others:/product-leadership",
          "maven.com/articles/product-management",
          "maven.com/articles/product-management-customer-success",
          "maven.com/articles/product-management-frameworks",
          "maven.com/articles/product-management-marketing-collaboration",
          "maven.com/articles/product-management-tools",
          "maven.com/articles/product-management-vs-project-management",
          "maven.com/articles/product-manager",
          "maven.com/articles/product-manager-job",
          "maven.com/articles/product-managers-guide-market-research",
          "maven.com/articles/product-market-fit",
          "maven.com/Others:/product-marketing-bootcamp",
          "maven.com/articles/product-prioritization-techniques-product-managers",
          "maven.com/dive/product-strategy-for-designers",
          "maven.com/resources/product-update-ai-search-recommendations",
          "maven.com/resources/product-update-cohort-launch-campaign",
          "maven.com/resources/product-update-lead-magnets",
          "maven.com/rupachaturvedi/product-user-fit",
          "maven.com/articles/product-value-proposition",
          "maven.com/turker-bilgin/purposeled-futurefit-brandmarketing",
          "maven.com/Others:/restaurant-mgmt-accelerator-for-multi-unit-operators",
          "maven.com/david-lederman/rhp-course",
          "maven.com/samueldeane/rsubootcamp",
          "maven.com/keylime-academy/section-writing-for-usaid",
          "maven.com/Others:/shob",
          "maven.com/resources/social-media",
          "maven.com/articles/social-proof-to-boost-product-marketing",
          "maven.com/Others:/social-video",
          "maven.com/mark-schaefer/speech",
          "maven.com/resources/spiky-pov",
          "maven.com/amanda-goetz/startup-marketing",
          "maven.com/resources/state-change-method",
          "maven.com/samueldeane/stockoptionsplaybook",
          "maven.com/storytelling/storyacademy",
          "maven.com/storytelling/storyselling",
          "maven.com/Others:/storytelling-with-data-in-business",
          "maven.com/resources/strategies-for-discounting",
          "maven.com/Others:/superchargingperformancewithpchatgpt",
          "maven.com/resources/survey-your-audience",
          "maven.com/resources/tacs-approach-to-engaging-content",
          "maven.com/u-facilitate/take-the-guesswork-out-of-collaboration",
          "maven.com/u-facilitate/take-the-guesswork-out-of-collaboration-fast-track",
          "maven.com/Others:/take-your-digital-selling-to-the-next-level",
          "maven.com/yoga-with-max/taller",
          "maven.com/bobgower/team-charter",
          "maven.com/keylime-academy/tech-writing-for-usaid-proposals",
          "maven.com/marily-nika/technical-product-management",
          "maven.com/Others:/the-ciso-sales-accelerator",
          "maven.com/seidman-financial/the-fractional-cfo-power-skills-program",
          "maven.com/by-jill-diamond/the-great-imitation-challenge",
          "maven.com/interrogate/the-influential-researcher",
          "maven.com/ux-quests/the-research-storyteller",
          "maven.com/terry-rice-consulting/the-solopreneur-s-fast-track",
          "maven.com/pamelaslim/tiny-marketing-actions",
          "maven.com/Others:/understand-stats",
          "maven.com/Others:/understanding-real-estate-markets",
          "maven.com/Others:/unlock-your-design-leadership-playbook",
          "maven.com/articles/ux-design-for-product-managers",
          "maven.com/ux-quests/uxr-missing-foundations",
          "maven.com/brian-feroldi/valuation-explained-simply",
          "maven.com/Others:/venturefluent",
          "maven.com/dive/web-design-camp",
          "maven.com/Others:/web3-careers",
          "maven.com/mintface/web3-skills",
          "maven.com/mkt1/website-conversion",
          "maven.com/resources/welcoming-your-students",
          "maven.com/resources/what-is-maven",
          "maven.com/resources/winning-landing-page",
          "maven.com/articles/word-tips",
          "maven.com/Others:/writing",
          "maven.com/resources/writing-a-great-bio",
          "maven.com/Others:/writing-accelerator",
          "maven.com/Others:/you-belong-in-tech",
          "maven.com/allegra/youmapwithallegra",
          "maven.com/resources/your-existing-network",
          "maven.com/resources/your-ideal-student",
          "maven.com/Others:",
          "maven.com/agile-academy",
          "maven.com/allegra",
          "maven.com/alt-marketing-school",
          "maven.com/amanda-goetz",
          "maven.com/andy-gupta",
          "maven.com/anshumani",
          "maven.com/articles",
          "maven.com/bobgower",
          "maven.com/brian-feroldi",
          "maven.com/by-jill-diamond",
          "maven.com/content-marketing",
          "maven.com/datonsai",
          "maven.com/david-lederman",
          "maven.com/dive",
          "maven.com/dsjr",
          "maven.com/fpaprep",
          "maven.com/inoncollab",
          "maven.com/interrogate",
          "maven.com/jen-bergren",
          "maven.com/jjruescas",
          "maven.com/joel-hansen",
          "maven.com/keylime-academy",
          "maven.com/laude",
          "maven.com/luca",
          "maven.com/marily-nika",
          "maven.com/mark-schaefer",
          "maven.com/mintface",
          "maven.com/mkt1",
          "maven.com/narrative-first",
          "maven.com/nicolas-boucher",
          "maven.com/p",
          "maven.com/pamelaslim",
          "maven.com/pcdn",
          "maven.com/powered-by-decisions",
          "maven.com/practical-finance",
          "maven.com/resources",
          "maven.com/rupachaturvedi",
          "maven.com/samueldeane",
          "maven.com/school-of-high-performance",
          "maven.com/seidman-financial",
          "maven.com/stephenfollows",
          "maven.com/storytelling",
          "maven.com/tdavidson",
          "maven.com/teamlogiq",
          "maven.com/terry-rice-consulting",
          "maven.com/turker-bilgin",
          "maven.com/u-facilitate",
          "maven.com/ux-quests",
          "maven.com/yoga-with-max",
          "maven.com/yuan",
          "maven.com"
         ],
         "labels": [
          "02f86b",
          "057062",
          "064a1c",
          "0c9895",
          "0f7c03",
          "117297",
          "12c090",
          "13d804",
          "143808",
          "1a3799",
          "292c16",
          "309f7b",
          "30dd3c",
          "321164",
          "350c14",
          "3ed293",
          "407542",
          "455be8",
          "4e56cd",
          "5kbt",
          "6-week-plan",
          "6a786f",
          "6b68ea",
          "78d8df",
          "79b418",
          "7a8f8b",
          "8c011a",
          "918ead",
          "9364fb",
          "980ffe",
          "9826dd",
          "9c96b7",
          "9ebc83",
          "Others:",
          "Others:",
          "Others:",
          "Others:",
          "a16z-cohorts-are-king",
          "a4b1ac",
          "ab2d41",
          "accelerate-your-social-impact-career",
          "ace-pm-interview",
          "advanced-ai-product-management",
          "advanced-chatgpt-for-finance",
          "advanced-revit-family-strategies",
          "agile-and-scrum-bootcamp",
          "agile-product-management",
          "ai-proof-content-marketing",
          "alt-marketing-certification",
          "american-accent-accelerator-program",
          "announcement-maven-course-builder",
          "annual-plan-discounts",
          "antifragile-teams",
          "anyone-can-invest-now",
          "authentic-leadership",
          "authentic-marketing",
          "b52aac",
          "backlink-building",
          "bd675b",
          "beyond-the-numbers",
          "bugs-to-features",
          "build-a-better-story",
          "build-mvp",
          "build-trust-with-your-team",
          "build-your-irresistible-offer",
          "building-marketing",
          "buzzingonlineworkshops",
          "c2d009",
          "c44a89",
          "caidesign",
          "cap-table-workshop",
          "captable-masterclass",
          "cash-flow-forecasting-and-modeling",
          "cfa428",
          "change-management",
          "channel-strategy",
          "chat-gpt-101-for-beginners",
          "chatgpt-and-scrum-master",
          "chatgpt-for-advertising",
          "chatgpt-for-copywriting",
          "chatgpt-for-finance",
          "chatgpt-growth-marketing",
          "christian-wattig-fpa-course-success-story",
          "clean-language-for-facilitators",
          "coaching-superpowers",
          "community-introduction-template",
          "concious-conversation-framework",
          "consulting",
          "content-flagship",
          "content-marketing-leader-amanda-natividad",
          "conversational-ai",
          "copywriting-mistakes-landing-pages-course-creators",
          "core-pt",
          "cost-preparer-practicum",
          "cost-saving-workshop",
          "courageous-feedback",
          "course-market-fit",
          "course-mechanics-canvas",
          "course-price-and-length",
          "coverage-newsletters-podcasts",
          "crafting-your-10-minute-power-pitch-or-presentation",
          "create-a-timeless-visual-language",
          "creative-accelerator",
          "creative-tiktok-instagram-reels-ideas",
          "crypto-fundamentals",
          "d050f7",
          "d1273a",
          "data-storytelling",
          "decision-making-for-angels",
          "decision-toolkit-for-coaches-counselors",
          "deliverconstructivefeedbackthatinspiresaction",
          "design-career-jumpstart",
          "design-system-bootcamp",
          "develop-framework-from-insights",
          "develop-growth-mindset",
          "difficult-conversations",
          "digital-copywriting-program",
          "documentation-workshop-1",
          "documentation-workshop-2",
          "documentation1",
          "ds-career",
          "e04caa",
          "e3fb00",
          "e694ee",
          "e6e958",
          "e927c8",
          "edtech",
          "effective-presentation-skills",
          "elite-sales-athlete",
          "email-campaigns",
          "emily-kramer-marketing-success-story",
          "energy-leadership",
          "episodic-television",
          "evitaburnout",
          "excel-finance",
          "executive-presence-woman-leader",
          "f09e62",
          "f26e3b",
          "f2f401",
          "fc23e8",
          "ffa140",
          "finance-for-founders",
          "financial-analysis-and-budgeting-for-fpa",
          "financial-modeling",
          "financials",
          "financials-decoded",
          "find-perfect-partners-and-watering-holes",
          "foundations-of-wellness-and-performance",
          "fpa-bootcamp",
          "framer-training",
          "framework-para-ciencia-de-datos",
          "frameworks-library",
          "free-workshops",
          "fund-your-climate-tech-startup",
          "futurefitfundamentals",
          "game-based-learning-design",
          "get-listed-on-maven",
          "get-published",
          "gettaller",
          "getting-enthusiastic-yes-in-sales-pitches",
          "giannis-growth-mindset",
          "good-teams",
          "google-chatgpt",
          "grow-online-community",
          "growth-marketing",
          "hands-on-data-projects-python",
          "hire-better",
          "how-to-convert-students",
          "how-to-find-and-harness-film-data",
          "hta",
          "impactful-learning-super-specific-how",
          "indie-film-strategy",
          "inner-knowing",
          "insight-to-impact",
          "instructor-spotlight-dave-kline",
          "instructor-spotlight-laura-tacho",
          "intro-to-digital-marketing",
          "invest-in-your-future",
          "investingforsocialimpactprofessionals",
          "investmentbanking",
          "inyourshoes",
          "job-seeker-bootcamp",
          "kerriwalshjennings",
          "key-outcomes",
          "launch-your-tpm-career",
          "lead-magnets",
          "leaders5kb",
          "leadership-styles",
          "leading-by-example",
          "lean-product-management",
          "level-up-with-figma",
          "leveraging-social-media",
          "lifecycle-marketing",
          "linkedin-masterclass",
          "linkedin-masterclass-1-day-workshop",
          "live-session-guide",
          "llms-for-pms",
          "make-impact-bootcamp",
          "management-mastery",
          "managing-product-dependencies",
          "managing-remote-teams",
          "managing-remote-teams",
          "marketing",
          "marketing-strategy-reducing-friction-vs-increasing-desire",
          "master-product-management",
          "mastering-the-art-of-product-iconography",
          "maven-newsletter-welcome",
          "mental-fitness-training-camp",
          "midcareer-product-management",
          "model-venture-funds",
          "modern-nlp",
          "monetization",
          "nail-the-product-design-interview",
          "nail-your-hero-section",
          "name-your-course",
          "network-effects",
          "networking-masterclass",
          "nft-digital-artist-economy",
          "noam-segal-boost-your-career-by-teaching-online",
          "optimize-your-lead-magnets",
          "personal-credibility-vs-personal-branding",
          "personal-decision-toolkit",
          "persuasive-storytelling",
          "pitch-guest-posts",
          "pm-decisions",
          "pm-masterclass",
          "polly-allen-from-amazon-to-successful-solopreneur",
          "portfolio-coaching",
          "positioning-strategy-workshop",
          "prd-product-requirements-document",
          "product-competitive-analysis",
          "product-design-thinking",
          "product-discovery-fundamentals-starter",
          "product-growth",
          "product-launch-strategy",
          "product-lead",
          "product-leadership",
          "product-management",
          "product-management-customer-success",
          "product-management-frameworks",
          "product-management-marketing-collaboration",
          "product-management-tools",
          "product-management-vs-project-management",
          "product-manager",
          "product-manager-job",
          "product-managers-guide-market-research",
          "product-market-fit",
          "product-marketing-bootcamp",
          "product-prioritization-techniques-product-managers",
          "product-strategy-for-designers",
          "product-update-ai-search-recommendations",
          "product-update-cohort-launch-campaign",
          "product-update-lead-magnets",
          "product-user-fit",
          "product-value-proposition",
          "purposeled-futurefit-brandmarketing",
          "restaurant-mgmt-accelerator-for-multi-unit-operators",
          "rhp-course",
          "rsubootcamp",
          "section-writing-for-usaid",
          "shob",
          "social-media",
          "social-proof-to-boost-product-marketing",
          "social-video",
          "speech",
          "spiky-pov",
          "startup-marketing",
          "state-change-method",
          "stockoptionsplaybook",
          "storyacademy",
          "storyselling",
          "storytelling-with-data-in-business",
          "strategies-for-discounting",
          "superchargingperformancewithpchatgpt",
          "survey-your-audience",
          "tacs-approach-to-engaging-content",
          "take-the-guesswork-out-of-collaboration",
          "take-the-guesswork-out-of-collaboration-fast-track",
          "take-your-digital-selling-to-the-next-level",
          "taller",
          "team-charter",
          "tech-writing-for-usaid-proposals",
          "technical-product-management",
          "the-ciso-sales-accelerator",
          "the-fractional-cfo-power-skills-program",
          "the-great-imitation-challenge",
          "the-influential-researcher",
          "the-research-storyteller",
          "the-solopreneur-s-fast-track",
          "tiny-marketing-actions",
          "understand-stats",
          "understanding-real-estate-markets",
          "unlock-your-design-leadership-playbook",
          "ux-design-for-product-managers",
          "uxr-missing-foundations",
          "valuation-explained-simply",
          "venturefluent",
          "web-design-camp",
          "web3-careers",
          "web3-skills",
          "website-conversion",
          "welcoming-your-students",
          "what-is-maven",
          "winning-landing-page",
          "word-tips",
          "writing",
          "writing-a-great-bio",
          "writing-accelerator",
          "you-belong-in-tech",
          "youmapwithallegra",
          "your-existing-network",
          "your-ideal-student",
          "Others:",
          "agile-academy",
          "allegra",
          "alt-marketing-school",
          "amanda-goetz",
          "andy-gupta",
          "anshumani",
          "articles",
          "bobgower",
          "brian-feroldi",
          "by-jill-diamond",
          "content-marketing",
          "datonsai",
          "david-lederman",
          "dive",
          "dsjr",
          "fpaprep",
          "inoncollab",
          "interrogate",
          "jen-bergren",
          "jjruescas",
          "joel-hansen",
          "keylime-academy",
          "laude",
          "luca",
          "marily-nika",
          "mark-schaefer",
          "mintface",
          "mkt1",
          "narrative-first",
          "nicolas-boucher",
          "p",
          "pamelaslim",
          "pcdn",
          "powered-by-decisions",
          "practical-finance",
          "resources",
          "rupachaturvedi",
          "samueldeane",
          "school-of-high-performance",
          "seidman-financial",
          "stephenfollows",
          "storytelling",
          "tdavidson",
          "teamlogiq",
          "terry-rice-consulting",
          "turker-bilgin",
          "u-facilitate",
          "ux-quests",
          "yoga-with-max",
          "yuan",
          "maven.com"
         ],
         "marker": {
          "line": {
           "width": 0.01
          },
          "pad": {
           "b": 0,
           "l": 0,
           "r": 0,
           "t": 0
          }
         },
         "maxdepth": 2,
         "name": "",
         "parents": [
          "maven.com/p",
          "maven.com/p",
          "maven.com/p",
          "maven.com/p",
          "maven.com/p",
          "maven.com/p",
          "maven.com/p",
          "maven.com/p",
          "maven.com/p",
          "maven.com/p",
          "maven.com/p",
          "maven.com/p",
          "maven.com/p",
          "maven.com/p",
          "maven.com/p",
          "maven.com/p",
          "maven.com/p",
          "maven.com/p",
          "maven.com/p",
          "maven.com/dsjr",
          "maven.com/resources",
          "maven.com/p",
          "maven.com/p",
          "maven.com/p",
          "maven.com/p",
          "maven.com/p",
          "maven.com/p",
          "maven.com/p",
          "maven.com/p",
          "maven.com/p",
          "maven.com/p",
          "maven.com/p",
          "maven.com/p",
          "maven.com/Others:",
          "maven.com/articles",
          "maven.com/p",
          "maven.com/resources",
          "maven.com/resources",
          "maven.com/p",
          "maven.com/p",
          "maven.com/pcdn",
          "maven.com/marily-nika",
          "maven.com/marily-nika",
          "maven.com/nicolas-boucher",
          "maven.com/Others:",
          "maven.com/agile-academy",
          "maven.com/articles",
          "maven.com/articles",
          "maven.com/alt-marketing-school",
          "maven.com/by-jill-diamond",
          "maven.com/resources",
          "maven.com/articles",
          "maven.com/luca",
          "maven.com/andy-gupta",
          "maven.com/articles",
          "maven.com/articles",
          "maven.com/p",
          "maven.com/content-marketing",
          "maven.com/p",
          "maven.com/practical-finance",
          "maven.com/resources",
          "maven.com/narrative-first",
          "maven.com/articles",
          "maven.com/articles",
          "maven.com/terry-rice-consulting",
          "maven.com/mkt1",
          "maven.com/inoncollab",
          "maven.com/p",
          "maven.com/p",
          "maven.com/rupachaturvedi",
          "maven.com/tdavidson",
          "maven.com/tdavidson",
          "maven.com/seidman-financial",
          "maven.com/p",
          "maven.com/articles",
          "maven.com/amanda-goetz",
          "maven.com/turker-bilgin",
          "maven.com/agile-academy",
          "maven.com/articles",
          "maven.com/articles",
          "maven.com/nicolas-boucher",
          "maven.com/articles",
          "maven.com/resources",
          "maven.com/inoncollab",
          "maven.com/allegra",
          "maven.com/resources",
          "maven.com/articles",
          "maven.com/laude",
          "maven.com/Others:",
          "maven.com/resources",
          "maven.com/rupachaturvedi",
          "maven.com/resources",
          "maven.com/Others:",
          "maven.com/keylime-academy",
          "maven.com/fpaprep",
          "maven.com/Others:",
          "maven.com/resources",
          "maven.com/resources",
          "maven.com/resources",
          "maven.com/articles",
          "maven.com/Others:",
          "maven.com/dive",
          "maven.com/Others:",
          "maven.com/articles",
          "maven.com/Others:",
          "maven.com/p",
          "maven.com/p",
          "maven.com/Others:",
          "maven.com/Others:",
          "maven.com/powered-by-decisions",
          "maven.com/Others:",
          "maven.com/yuan",
          "maven.com/dive",
          "maven.com/resources",
          "maven.com/articles",
          "maven.com/Others:",
          "maven.com/Others:",
          "maven.com/jen-bergren",
          "maven.com/jen-bergren",
          "maven.com/jen-bergren",
          "maven.com/Others:",
          "maven.com/p",
          "maven.com/p",
          "maven.com/p",
          "maven.com/p",
          "maven.com/p",
          "maven.com/Others:",
          "maven.com/articles",
          "maven.com/Others:",
          "maven.com/resources",
          "maven.com/resources",
          "maven.com/yuan",
          "maven.com/narrative-first",
          "maven.com/jjruescas",
          "maven.com/seidman-financial",
          "maven.com/articles",
          "maven.com/p",
          "maven.com/p",
          "maven.com/p",
          "maven.com/p",
          "maven.com/p",
          "maven.com/Others:",
          "maven.com/nicolas-boucher",
          "maven.com/seidman-financial",
          "maven.com/brian-feroldi",
          "maven.com/practical-finance",
          "maven.com/pamelaslim",
          "maven.com/school-of-high-performance",
          "maven.com/fpaprep",
          "maven.com/dive",
          "maven.com/datonsai",
          "maven.com/resources",
          "maven.com/resources",
          "maven.com/Others:",
          "maven.com/Others:",
          "maven.com/teamlogiq",
          "maven.com/resources",
          "maven.com/Others:",
          "maven.com/yoga-with-max",
          "maven.com/resources",
          "maven.com/articles",
          "maven.com/bobgower",
          "maven.com/articles",
          "maven.com/articles",
          "maven.com/articles",
          "maven.com/datonsai",
          "maven.com/Others:",
          "maven.com/resources",
          "maven.com/stephenfollows",
          "maven.com/jjruescas",
          "maven.com/resources",
          "maven.com/stephenfollows",
          "maven.com/david-lederman",
          "maven.com/interrogate",
          "maven.com/resources",
          "maven.com/resources",
          "maven.com/alt-marketing-school",
          "maven.com/andy-gupta",
          "maven.com/pcdn",
          "maven.com/laude",
          "maven.com/Others:",
          "maven.com/Others:",
          "maven.com/teamlogiq",
          "maven.com/resources",
          "maven.com/Others:",
          "maven.com/resources",
          "maven.com/dsjr",
          "maven.com/articles",
          "maven.com/articles",
          "maven.com/articles",
          "maven.com/dive",
          "maven.com/resources",
          "maven.com/articles",
          "maven.com/joel-hansen",
          "maven.com/joel-hansen",
          "maven.com/resources",
          "maven.com/Others:",
          "maven.com/alt-marketing-school",
          "maven.com/Others:",
          "maven.com/articles",
          "maven.com/articles",
          "maven.com/luca",
          "maven.com/mark-schaefer",
          "maven.com/resources",
          "maven.com/articles",
          "maven.com/dive",
          "maven.com/resources",
          "maven.com/school-of-high-performance",
          "maven.com/anshumani",
          "maven.com/tdavidson",
          "maven.com/Others:",
          "maven.com/Others:",
          "maven.com/dive",
          "maven.com/resources",
          "maven.com/resources",
          "maven.com/articles",
          "maven.com/Others:",
          "maven.com/mintface",
          "maven.com/resources",
          "maven.com/resources",
          "maven.com/resources",
          "maven.com/powered-by-decisions",
          "maven.com/Others:",
          "maven.com/content-marketing",
          "maven.com/anshumani",
          "maven.com/Others:",
          "maven.com/resources",
          "maven.com/dive",
          "maven.com/Others:",
          "maven.com/articles",
          "maven.com/articles",
          "maven.com/articles",
          "maven.com/Others:",
          "maven.com/articles",
          "maven.com/articles",
          "maven.com/articles",
          "maven.com/Others:",
          "maven.com/articles",
          "maven.com/articles",
          "maven.com/articles",
          "maven.com/articles",
          "maven.com/articles",
          "maven.com/articles",
          "maven.com/articles",
          "maven.com/articles",
          "maven.com/articles",
          "maven.com/articles",
          "maven.com/Others:",
          "maven.com/articles",
          "maven.com/dive",
          "maven.com/resources",
          "maven.com/resources",
          "maven.com/resources",
          "maven.com/rupachaturvedi",
          "maven.com/articles",
          "maven.com/turker-bilgin",
          "maven.com/Others:",
          "maven.com/david-lederman",
          "maven.com/samueldeane",
          "maven.com/keylime-academy",
          "maven.com/Others:",
          "maven.com/resources",
          "maven.com/articles",
          "maven.com/Others:",
          "maven.com/mark-schaefer",
          "maven.com/resources",
          "maven.com/amanda-goetz",
          "maven.com/resources",
          "maven.com/samueldeane",
          "maven.com/storytelling",
          "maven.com/storytelling",
          "maven.com/Others:",
          "maven.com/resources",
          "maven.com/Others:",
          "maven.com/resources",
          "maven.com/resources",
          "maven.com/u-facilitate",
          "maven.com/u-facilitate",
          "maven.com/Others:",
          "maven.com/yoga-with-max",
          "maven.com/bobgower",
          "maven.com/keylime-academy",
          "maven.com/marily-nika",
          "maven.com/Others:",
          "maven.com/seidman-financial",
          "maven.com/by-jill-diamond",
          "maven.com/interrogate",
          "maven.com/ux-quests",
          "maven.com/terry-rice-consulting",
          "maven.com/pamelaslim",
          "maven.com/Others:",
          "maven.com/Others:",
          "maven.com/Others:",
          "maven.com/articles",
          "maven.com/ux-quests",
          "maven.com/brian-feroldi",
          "maven.com/Others:",
          "maven.com/dive",
          "maven.com/Others:",
          "maven.com/mintface",
          "maven.com/mkt1",
          "maven.com/resources",
          "maven.com/resources",
          "maven.com/resources",
          "maven.com/articles",
          "maven.com/Others:",
          "maven.com/resources",
          "maven.com/Others:",
          "maven.com/Others:",
          "maven.com/allegra",
          "maven.com/resources",
          "maven.com/resources",
          "maven.com",
          "maven.com",
          "maven.com",
          "maven.com",
          "maven.com",
          "maven.com",
          "maven.com",
          "maven.com",
          "maven.com",
          "maven.com",
          "maven.com",
          "maven.com",
          "maven.com",
          "maven.com",
          "maven.com",
          "maven.com",
          "maven.com",
          "maven.com",
          "maven.com",
          "maven.com",
          "maven.com",
          "maven.com",
          "maven.com",
          "maven.com",
          "maven.com",
          "maven.com",
          "maven.com",
          "maven.com",
          "maven.com",
          "maven.com",
          "maven.com",
          "maven.com",
          "maven.com",
          "maven.com",
          "maven.com",
          "maven.com",
          "maven.com",
          "maven.com",
          "maven.com",
          "maven.com",
          "maven.com",
          "maven.com",
          "maven.com",
          "maven.com",
          "maven.com",
          "maven.com",
          "maven.com",
          "maven.com",
          "maven.com",
          "maven.com",
          "maven.com",
          ""
         ],
         "pathbar": {
          "edgeshape": "/"
         },
         "texttemplate": "<b>%{label} </b><br><br>Directory: <b>%{parent}/%{label}</b><br>Count: %{value:,}<br>%{percentParent:.1%} of %{parent}<br>",
         "type": "treemap",
         "values": [
          1,
          1,
          1,
          1,
          1,
          1,
          1,
          1,
          1,
          1,
          1,
          1,
          1,
          1,
          1,
          1,
          1,
          1,
          1,
          1,
          1,
          1,
          1,
          1,
          1,
          1,
          1,
          1,
          1,
          1,
          1,
          1,
          1,
          471,
          178,
          251,
          2,
          1,
          1,
          1,
          1,
          1,
          1,
          1,
          1,
          1,
          1,
          1,
          1,
          1,
          1,
          1,
          1,
          1,
          1,
          1,
          1,
          1,
          1,
          1,
          1,
          1,
          1,
          1,
          1,
          1,
          1,
          1,
          1,
          1,
          1,
          1,
          1,
          1,
          1,
          1,
          1,
          1,
          1,
          1,
          1,
          1,
          1,
          1,
          1,
          1,
          1,
          1,
          1,
          1,
          1,
          1,
          1,
          1,
          1,
          1,
          1,
          1,
          1,
          1,
          1,
          1,
          1,
          1,
          1,
          1,
          1,
          1,
          1,
          1,
          1,
          1,
          1,
          1,
          1,
          1,
          1,
          1,
          1,
          1,
          1,
          1,
          1,
          1,
          1,
          1,
          1,
          1,
          1,
          1,
          1,
          1,
          1,
          1,
          1,
          1,
          1,
          1,
          1,
          1,
          1,
          1,
          1,
          1,
          1,
          1,
          1,
          1,
          1,
          1,
          1,
          1,
          1,
          1,
          1,
          1,
          1,
          1,
          1,
          1,
          1,
          1,
          1,
          1,
          1,
          1,
          1,
          1,
          1,
          1,
          1,
          1,
          1,
          1,
          1,
          1,
          1,
          1,
          1,
          1,
          1,
          1,
          1,
          1,
          1,
          1,
          1,
          1,
          1,
          1,
          1,
          1,
          1,
          1,
          1,
          1,
          1,
          1,
          1,
          1,
          1,
          1,
          1,
          1,
          1,
          1,
          1,
          1,
          1,
          1,
          1,
          1,
          1,
          1,
          1,
          1,
          1,
          1,
          1,
          1,
          1,
          1,
          1,
          1,
          1,
          1,
          1,
          1,
          1,
          1,
          1,
          1,
          1,
          1,
          1,
          1,
          1,
          1,
          1,
          1,
          1,
          1,
          1,
          1,
          1,
          1,
          1,
          1,
          1,
          1,
          1,
          1,
          1,
          1,
          1,
          1,
          1,
          1,
          1,
          1,
          1,
          1,
          1,
          1,
          1,
          1,
          1,
          1,
          1,
          1,
          1,
          1,
          1,
          1,
          1,
          1,
          1,
          1,
          1,
          1,
          1,
          1,
          1,
          1,
          1,
          1,
          1,
          1,
          1,
          1,
          1,
          1,
          1,
          1,
          1,
          1,
          1,
          1,
          1,
          1,
          1,
          1,
          1,
          1,
          1,
          1,
          1,
          1,
          1,
          1,
          1,
          1,
          520,
          2,
          2,
          3,
          2,
          2,
          2,
          228,
          2,
          2,
          2,
          2,
          2,
          2,
          9,
          2,
          2,
          2,
          2,
          3,
          2,
          2,
          3,
          2,
          2,
          3,
          2,
          2,
          2,
          2,
          3,
          301,
          2,
          2,
          2,
          2,
          51,
          3,
          2,
          2,
          4,
          2,
          2,
          3,
          2,
          2,
          2,
          2,
          2,
          2,
          2,
          1210
         ]
        }
       ],
       "layout": {
        "autosize": true,
        "legend": {
         "tracegroupgap": 0
        },
        "template": {
         "data": {
          "bar": [
           {
            "error_x": {
             "color": "#f2f5fa"
            },
            "error_y": {
             "color": "#f2f5fa"
            },
            "marker": {
             "line": {
              "color": "rgb(17,17,17)",
              "width": 0.5
             },
             "pattern": {
              "fillmode": "overlay",
              "size": 10,
              "solidity": 0.2
             }
            },
            "type": "bar"
           }
          ],
          "barpolar": [
           {
            "marker": {
             "line": {
              "color": "rgb(17,17,17)",
              "width": 0.5
             },
             "pattern": {
              "fillmode": "overlay",
              "size": 10,
              "solidity": 0.2
             }
            },
            "type": "barpolar"
           }
          ],
          "carpet": [
           {
            "aaxis": {
             "endlinecolor": "#A2B1C6",
             "gridcolor": "#506784",
             "linecolor": "#506784",
             "minorgridcolor": "#506784",
             "startlinecolor": "#A2B1C6"
            },
            "baxis": {
             "endlinecolor": "#A2B1C6",
             "gridcolor": "#506784",
             "linecolor": "#506784",
             "minorgridcolor": "#506784",
             "startlinecolor": "#A2B1C6"
            },
            "type": "carpet"
           }
          ],
          "choropleth": [
           {
            "colorbar": {
             "outlinewidth": 0,
             "ticks": ""
            },
            "type": "choropleth"
           }
          ],
          "contour": [
           {
            "colorbar": {
             "outlinewidth": 0,
             "ticks": ""
            },
            "colorscale": [
             [
              0,
              "#0d0887"
             ],
             [
              0.1111111111111111,
              "#46039f"
             ],
             [
              0.2222222222222222,
              "#7201a8"
             ],
             [
              0.3333333333333333,
              "#9c179e"
             ],
             [
              0.4444444444444444,
              "#bd3786"
             ],
             [
              0.5555555555555556,
              "#d8576b"
             ],
             [
              0.6666666666666666,
              "#ed7953"
             ],
             [
              0.7777777777777778,
              "#fb9f3a"
             ],
             [
              0.8888888888888888,
              "#fdca26"
             ],
             [
              1,
              "#f0f921"
             ]
            ],
            "type": "contour"
           }
          ],
          "contourcarpet": [
           {
            "colorbar": {
             "outlinewidth": 0,
             "ticks": ""
            },
            "type": "contourcarpet"
           }
          ],
          "heatmap": [
           {
            "colorbar": {
             "outlinewidth": 0,
             "ticks": ""
            },
            "colorscale": [
             [
              0,
              "#0d0887"
             ],
             [
              0.1111111111111111,
              "#46039f"
             ],
             [
              0.2222222222222222,
              "#7201a8"
             ],
             [
              0.3333333333333333,
              "#9c179e"
             ],
             [
              0.4444444444444444,
              "#bd3786"
             ],
             [
              0.5555555555555556,
              "#d8576b"
             ],
             [
              0.6666666666666666,
              "#ed7953"
             ],
             [
              0.7777777777777778,
              "#fb9f3a"
             ],
             [
              0.8888888888888888,
              "#fdca26"
             ],
             [
              1,
              "#f0f921"
             ]
            ],
            "type": "heatmap"
           }
          ],
          "heatmapgl": [
           {
            "colorbar": {
             "outlinewidth": 0,
             "ticks": ""
            },
            "colorscale": [
             [
              0,
              "#0d0887"
             ],
             [
              0.1111111111111111,
              "#46039f"
             ],
             [
              0.2222222222222222,
              "#7201a8"
             ],
             [
              0.3333333333333333,
              "#9c179e"
             ],
             [
              0.4444444444444444,
              "#bd3786"
             ],
             [
              0.5555555555555556,
              "#d8576b"
             ],
             [
              0.6666666666666666,
              "#ed7953"
             ],
             [
              0.7777777777777778,
              "#fb9f3a"
             ],
             [
              0.8888888888888888,
              "#fdca26"
             ],
             [
              1,
              "#f0f921"
             ]
            ],
            "type": "heatmapgl"
           }
          ],
          "histogram": [
           {
            "marker": {
             "pattern": {
              "fillmode": "overlay",
              "size": 10,
              "solidity": 0.2
             }
            },
            "type": "histogram"
           }
          ],
          "histogram2d": [
           {
            "colorbar": {
             "outlinewidth": 0,
             "ticks": ""
            },
            "colorscale": [
             [
              0,
              "#0d0887"
             ],
             [
              0.1111111111111111,
              "#46039f"
             ],
             [
              0.2222222222222222,
              "#7201a8"
             ],
             [
              0.3333333333333333,
              "#9c179e"
             ],
             [
              0.4444444444444444,
              "#bd3786"
             ],
             [
              0.5555555555555556,
              "#d8576b"
             ],
             [
              0.6666666666666666,
              "#ed7953"
             ],
             [
              0.7777777777777778,
              "#fb9f3a"
             ],
             [
              0.8888888888888888,
              "#fdca26"
             ],
             [
              1,
              "#f0f921"
             ]
            ],
            "type": "histogram2d"
           }
          ],
          "histogram2dcontour": [
           {
            "colorbar": {
             "outlinewidth": 0,
             "ticks": ""
            },
            "colorscale": [
             [
              0,
              "#0d0887"
             ],
             [
              0.1111111111111111,
              "#46039f"
             ],
             [
              0.2222222222222222,
              "#7201a8"
             ],
             [
              0.3333333333333333,
              "#9c179e"
             ],
             [
              0.4444444444444444,
              "#bd3786"
             ],
             [
              0.5555555555555556,
              "#d8576b"
             ],
             [
              0.6666666666666666,
              "#ed7953"
             ],
             [
              0.7777777777777778,
              "#fb9f3a"
             ],
             [
              0.8888888888888888,
              "#fdca26"
             ],
             [
              1,
              "#f0f921"
             ]
            ],
            "type": "histogram2dcontour"
           }
          ],
          "mesh3d": [
           {
            "colorbar": {
             "outlinewidth": 0,
             "ticks": ""
            },
            "type": "mesh3d"
           }
          ],
          "parcoords": [
           {
            "line": {
             "colorbar": {
              "outlinewidth": 0,
              "ticks": ""
             }
            },
            "type": "parcoords"
           }
          ],
          "pie": [
           {
            "automargin": true,
            "type": "pie"
           }
          ],
          "scatter": [
           {
            "marker": {
             "line": {
              "color": "#283442"
             }
            },
            "type": "scatter"
           }
          ],
          "scatter3d": [
           {
            "line": {
             "colorbar": {
              "outlinewidth": 0,
              "ticks": ""
             }
            },
            "marker": {
             "colorbar": {
              "outlinewidth": 0,
              "ticks": ""
             }
            },
            "type": "scatter3d"
           }
          ],
          "scattercarpet": [
           {
            "marker": {
             "colorbar": {
              "outlinewidth": 0,
              "ticks": ""
             }
            },
            "type": "scattercarpet"
           }
          ],
          "scattergeo": [
           {
            "marker": {
             "colorbar": {
              "outlinewidth": 0,
              "ticks": ""
             }
            },
            "type": "scattergeo"
           }
          ],
          "scattergl": [
           {
            "marker": {
             "line": {
              "color": "#283442"
             }
            },
            "type": "scattergl"
           }
          ],
          "scattermapbox": [
           {
            "marker": {
             "colorbar": {
              "outlinewidth": 0,
              "ticks": ""
             }
            },
            "type": "scattermapbox"
           }
          ],
          "scatterpolar": [
           {
            "marker": {
             "colorbar": {
              "outlinewidth": 0,
              "ticks": ""
             }
            },
            "type": "scatterpolar"
           }
          ],
          "scatterpolargl": [
           {
            "marker": {
             "colorbar": {
              "outlinewidth": 0,
              "ticks": ""
             }
            },
            "type": "scatterpolargl"
           }
          ],
          "scatterternary": [
           {
            "marker": {
             "colorbar": {
              "outlinewidth": 0,
              "ticks": ""
             }
            },
            "type": "scatterternary"
           }
          ],
          "surface": [
           {
            "colorbar": {
             "outlinewidth": 0,
             "ticks": ""
            },
            "colorscale": [
             [
              0,
              "#0d0887"
             ],
             [
              0.1111111111111111,
              "#46039f"
             ],
             [
              0.2222222222222222,
              "#7201a8"
             ],
             [
              0.3333333333333333,
              "#9c179e"
             ],
             [
              0.4444444444444444,
              "#bd3786"
             ],
             [
              0.5555555555555556,
              "#d8576b"
             ],
             [
              0.6666666666666666,
              "#ed7953"
             ],
             [
              0.7777777777777778,
              "#fb9f3a"
             ],
             [
              0.8888888888888888,
              "#fdca26"
             ],
             [
              1,
              "#f0f921"
             ]
            ],
            "type": "surface"
           }
          ],
          "table": [
           {
            "cells": {
             "fill": {
              "color": "#506784"
             },
             "line": {
              "color": "rgb(17,17,17)"
             }
            },
            "header": {
             "fill": {
              "color": "#2a3f5f"
             },
             "line": {
              "color": "rgb(17,17,17)"
             }
            },
            "type": "table"
           }
          ]
         },
         "layout": {
          "annotationdefaults": {
           "arrowcolor": "#f2f5fa",
           "arrowhead": 0,
           "arrowwidth": 1
          },
          "autotypenumbers": "strict",
          "coloraxis": {
           "colorbar": {
            "outlinewidth": 0,
            "ticks": ""
           }
          },
          "colorscale": {
           "diverging": [
            [
             0,
             "#8e0152"
            ],
            [
             0.1,
             "#c51b7d"
            ],
            [
             0.2,
             "#de77ae"
            ],
            [
             0.3,
             "#f1b6da"
            ],
            [
             0.4,
             "#fde0ef"
            ],
            [
             0.5,
             "#f7f7f7"
            ],
            [
             0.6,
             "#e6f5d0"
            ],
            [
             0.7,
             "#b8e186"
            ],
            [
             0.8,
             "#7fbc41"
            ],
            [
             0.9,
             "#4d9221"
            ],
            [
             1,
             "#276419"
            ]
           ],
           "sequential": [
            [
             0,
             "#0d0887"
            ],
            [
             0.1111111111111111,
             "#46039f"
            ],
            [
             0.2222222222222222,
             "#7201a8"
            ],
            [
             0.3333333333333333,
             "#9c179e"
            ],
            [
             0.4444444444444444,
             "#bd3786"
            ],
            [
             0.5555555555555556,
             "#d8576b"
            ],
            [
             0.6666666666666666,
             "#ed7953"
            ],
            [
             0.7777777777777778,
             "#fb9f3a"
            ],
            [
             0.8888888888888888,
             "#fdca26"
            ],
            [
             1,
             "#f0f921"
            ]
           ],
           "sequentialminus": [
            [
             0,
             "#0d0887"
            ],
            [
             0.1111111111111111,
             "#46039f"
            ],
            [
             0.2222222222222222,
             "#7201a8"
            ],
            [
             0.3333333333333333,
             "#9c179e"
            ],
            [
             0.4444444444444444,
             "#bd3786"
            ],
            [
             0.5555555555555556,
             "#d8576b"
            ],
            [
             0.6666666666666666,
             "#ed7953"
            ],
            [
             0.7777777777777778,
             "#fb9f3a"
            ],
            [
             0.8888888888888888,
             "#fdca26"
            ],
            [
             1,
             "#f0f921"
            ]
           ]
          },
          "colorway": [
           "#636efa",
           "#EF553B",
           "#00cc96",
           "#ab63fa",
           "#FFA15A",
           "#19d3f3",
           "#FF6692",
           "#B6E880",
           "#FF97FF",
           "#FECB52"
          ],
          "font": {
           "color": "#f2f5fa"
          },
          "geo": {
           "bgcolor": "rgb(17,17,17)",
           "lakecolor": "rgb(17,17,17)",
           "landcolor": "rgb(17,17,17)",
           "showlakes": true,
           "showland": true,
           "subunitcolor": "#506784"
          },
          "hoverlabel": {
           "align": "left"
          },
          "hovermode": "closest",
          "mapbox": {
           "style": "dark"
          },
          "paper_bgcolor": "rgb(17,17,17)",
          "plot_bgcolor": "rgb(17,17,17)",
          "polar": {
           "angularaxis": {
            "gridcolor": "#506784",
            "linecolor": "#506784",
            "ticks": ""
           },
           "bgcolor": "rgb(17,17,17)",
           "radialaxis": {
            "gridcolor": "#506784",
            "linecolor": "#506784",
            "ticks": ""
           }
          },
          "scene": {
           "xaxis": {
            "backgroundcolor": "rgb(17,17,17)",
            "gridcolor": "#506784",
            "gridwidth": 2,
            "linecolor": "#506784",
            "showbackground": true,
            "ticks": "",
            "zerolinecolor": "#C8D4E3"
           },
           "yaxis": {
            "backgroundcolor": "rgb(17,17,17)",
            "gridcolor": "#506784",
            "gridwidth": 2,
            "linecolor": "#506784",
            "showbackground": true,
            "ticks": "",
            "zerolinecolor": "#C8D4E3"
           },
           "zaxis": {
            "backgroundcolor": "rgb(17,17,17)",
            "gridcolor": "#506784",
            "gridwidth": 2,
            "linecolor": "#506784",
            "showbackground": true,
            "ticks": "",
            "zerolinecolor": "#C8D4E3"
           }
          },
          "shapedefaults": {
           "line": {
            "color": "#f2f5fa"
           }
          },
          "sliderdefaults": {
           "bgcolor": "#C8D4E3",
           "bordercolor": "rgb(17,17,17)",
           "borderwidth": 1,
           "tickwidth": 0
          },
          "ternary": {
           "aaxis": {
            "gridcolor": "#506784",
            "linecolor": "#506784",
            "ticks": ""
           },
           "baxis": {
            "gridcolor": "#506784",
            "linecolor": "#506784",
            "ticks": ""
           },
           "bgcolor": "rgb(17,17,17)",
           "caxis": {
            "gridcolor": "#506784",
            "linecolor": "#506784",
            "ticks": ""
           }
          },
          "title": {
           "x": 0.05
          },
          "updatemenudefaults": {
           "bgcolor": "#506784",
           "borderwidth": 0
          },
          "xaxis": {
           "automargin": true,
           "gridcolor": "#283442",
           "linecolor": "#506784",
           "ticks": "",
           "title": {
            "standoff": 15
           },
           "zerolinecolor": "#283442",
           "zerolinewidth": 2
          },
          "yaxis": {
           "automargin": true,
           "gridcolor": "#283442",
           "linecolor": "#506784",
           "ticks": "",
           "title": {
            "standoff": 15
           },
           "zerolinecolor": "#283442",
           "zerolinewidth": 2
          }
         }
        },
        "title": {
         "text": "URL Structure"
        }
       }
      },
      "image/png": "[encoded data removed]",
      "text/html": [
       "<div>                            <div id=\"505b392b-abfa-4fad-9796-9c16384ad2a5\" class=\"plotly-graph-div\" style=\"height:600px; width:100%;\"></div>            <script type=\"text/javascript\">                require([\"plotly\"], function(Plotly) {                    window.PLOTLYENV=window.PLOTLYENV || {};                                    if (document.getElementById(\"505b392b-abfa-4fad-9796-9c16384ad2a5\")) {                    Plotly.newPlot(                        \"505b392b-abfa-4fad-9796-9c16384ad2a5\",                        [{\"branchvalues\":\"total\",\"domain\":{\"x\":[0.0,1.0],\"y\":[0.0,1.0]},\"hovertemplate\":\"<b>%{label} </b><br><br>Directory: <b>%{parent}/%{label}</b><br>Count: %{value:,}<br>%{percentParent:.1%} of %{parent}<br>\",\"ids\":[\"maven.com/p/02f86b\",\"maven.com/p/057062\",\"maven.com/p/064a1c\",\"maven.com/p/0c9895\",\"maven.com/p/0f7c03\",\"maven.com/p/117297\",\"maven.com/p/12c090\",\"maven.com/p/13d804\",\"maven.com/p/143808\",\"maven.com/p/1a3799\",\"maven.com/p/292c16\",\"maven.com/p/309f7b\",\"maven.com/p/30dd3c\",\"maven.com/p/321164\",\"maven.com/p/350c14\",\"maven.com/p/3ed293\",\"maven.com/p/407542\",\"maven.com/p/455be8\",\"maven.com/p/4e56cd\",\"maven.com/dsjr/5kbt\",\"maven.com/resources/6-week-plan\",\"maven.com/p/6a786f\",\"maven.com/p/6b68ea\",\"maven.com/p/78d8df\",\"maven.com/p/79b418\",\"maven.com/p/7a8f8b\",\"maven.com/p/8c011a\",\"maven.com/p/918ead\",\"maven.com/p/9364fb\",\"maven.com/p/980ffe\",\"maven.com/p/9826dd\",\"maven.com/p/9c96b7\",\"maven.com/p/9ebc83\",\"maven.com/Others:/Others:\",\"maven.com/articles/Others:\",\"maven.com/p/Others:\",\"maven.com/resources/Others:\",\"maven.com/resources/a16z-cohorts-are-king\",\"maven.com/p/a4b1ac\",\"maven.com/p/ab2d41\",\"maven.com/pcdn/accelerate-your-social-impact-career\",\"maven.com/marily-nika/ace-pm-interview\",\"maven.com/marily-nika/advanced-ai-product-management\",\"maven.com/nicolas-boucher/advanced-chatgpt-for-finance\",\"maven.com/Others:/advanced-revit-family-strategies\",\"maven.com/agile-academy/agile-and-scrum-bootcamp\",\"maven.com/articles/agile-product-management\",\"maven.com/articles/ai-proof-content-marketing\",\"maven.com/alt-marketing-school/alt-marketing-certification\",\"maven.com/by-jill-diamond/american-accent-accelerator-program\",\"maven.com/resources/announcement-maven-course-builder\",\"maven.com/articles/annual-plan-discounts\",\"maven.com/luca/antifragile-teams\",\"maven.com/andy-gupta/anyone-can-invest-now\",\"maven.com/articles/authentic-leadership\",\"maven.com/articles/authentic-marketing\",\"maven.com/p/b52aac\",\"maven.com/content-marketing/backlink-building\",\"maven.com/p/bd675b\",\"maven.com/practical-finance/beyond-the-numbers\",\"maven.com/resources/bugs-to-features\",\"maven.com/narrative-first/build-a-better-story\",\"maven.com/articles/build-mvp\",\"maven.com/articles/build-trust-with-your-team\",\"maven.com/terry-rice-consulting/build-your-irresistible-offer\",\"maven.com/mkt1/building-marketing\",\"maven.com/inoncollab/buzzingonlineworkshops\",\"maven.com/p/c2d009\",\"maven.com/p/c44a89\",\"maven.com/rupachaturvedi/caidesign\",\"maven.com/tdavidson/cap-table-workshop\",\"maven.com/tdavidson/captable-masterclass\",\"maven.com/seidman-financial/cash-flow-forecasting-and-modeling\",\"maven.com/p/cfa428\",\"maven.com/articles/change-management\",\"maven.com/amanda-goetz/channel-strategy\",\"maven.com/turker-bilgin/chat-gpt-101-for-beginners\",\"maven.com/agile-academy/chatgpt-and-scrum-master\",\"maven.com/articles/chatgpt-for-advertising\",\"maven.com/articles/chatgpt-for-copywriting\",\"maven.com/nicolas-boucher/chatgpt-for-finance\",\"maven.com/articles/chatgpt-growth-marketing\",\"maven.com/resources/christian-wattig-fpa-course-success-story\",\"maven.com/inoncollab/clean-language-for-facilitators\",\"maven.com/allegra/coaching-superpowers\",\"maven.com/resources/community-introduction-template\",\"maven.com/articles/concious-conversation-framework\",\"maven.com/laude/consulting\",\"maven.com/Others:/content-flagship\",\"maven.com/resources/content-marketing-leader-amanda-natividad\",\"maven.com/rupachaturvedi/conversational-ai\",\"maven.com/resources/copywriting-mistakes-landing-pages-course-creators\",\"maven.com/Others:/core-pt\",\"maven.com/keylime-academy/cost-preparer-practicum\",\"maven.com/fpaprep/cost-saving-workshop\",\"maven.com/Others:/courageous-feedback\",\"maven.com/resources/course-market-fit\",\"maven.com/resources/course-mechanics-canvas\",\"maven.com/resources/course-price-and-length\",\"maven.com/articles/coverage-newsletters-podcasts\",\"maven.com/Others:/crafting-your-10-minute-power-pitch-or-presentation\",\"maven.com/dive/create-a-timeless-visual-language\",\"maven.com/Others:/creative-accelerator\",\"maven.com/articles/creative-tiktok-instagram-reels-ideas\",\"maven.com/Others:/crypto-fundamentals\",\"maven.com/p/d050f7\",\"maven.com/p/d1273a\",\"maven.com/Others:/data-storytelling\",\"maven.com/Others:/decision-making-for-angels\",\"maven.com/powered-by-decisions/decision-toolkit-for-coaches-counselors\",\"maven.com/Others:/deliverconstructivefeedbackthatinspiresaction\",\"maven.com/yuan/design-career-jumpstart\",\"maven.com/dive/design-system-bootcamp\",\"maven.com/resources/develop-framework-from-insights\",\"maven.com/articles/develop-growth-mindset\",\"maven.com/Others:/difficult-conversations\",\"maven.com/Others:/digital-copywriting-program\",\"maven.com/jen-bergren/documentation-workshop-1\",\"maven.com/jen-bergren/documentation-workshop-2\",\"maven.com/jen-bergren/documentation1\",\"maven.com/Others:/ds-career\",\"maven.com/p/e04caa\",\"maven.com/p/e3fb00\",\"maven.com/p/e694ee\",\"maven.com/p/e6e958\",\"maven.com/p/e927c8\",\"maven.com/Others:/edtech\",\"maven.com/articles/effective-presentation-skills\",\"maven.com/Others:/elite-sales-athlete\",\"maven.com/resources/email-campaigns\",\"maven.com/resources/emily-kramer-marketing-success-story\",\"maven.com/yuan/energy-leadership\",\"maven.com/narrative-first/episodic-television\",\"maven.com/jjruescas/evitaburnout\",\"maven.com/seidman-financial/excel-finance\",\"maven.com/articles/executive-presence-woman-leader\",\"maven.com/p/f09e62\",\"maven.com/p/f26e3b\",\"maven.com/p/f2f401\",\"maven.com/p/fc23e8\",\"maven.com/p/ffa140\",\"maven.com/Others:/finance-for-founders\",\"maven.com/nicolas-boucher/financial-analysis-and-budgeting-for-fpa\",\"maven.com/seidman-financial/financial-modeling\",\"maven.com/brian-feroldi/financials\",\"maven.com/practical-finance/financials-decoded\",\"maven.com/pamelaslim/find-perfect-partners-and-watering-holes\",\"maven.com/school-of-high-performance/foundations-of-wellness-and-performance\",\"maven.com/fpaprep/fpa-bootcamp\",\"maven.com/dive/framer-training\",\"maven.com/datonsai/framework-para-ciencia-de-datos\",\"maven.com/resources/frameworks-library\",\"maven.com/resources/free-workshops\",\"maven.com/Others:/fund-your-climate-tech-startup\",\"maven.com/Others:/futurefitfundamentals\",\"maven.com/teamlogiq/game-based-learning-design\",\"maven.com/resources/get-listed-on-maven\",\"maven.com/Others:/get-published\",\"maven.com/yoga-with-max/gettaller\",\"maven.com/resources/getting-enthusiastic-yes-in-sales-pitches\",\"maven.com/articles/giannis-growth-mindset\",\"maven.com/bobgower/good-teams\",\"maven.com/articles/google-chatgpt\",\"maven.com/articles/grow-online-community\",\"maven.com/articles/growth-marketing\",\"maven.com/datonsai/hands-on-data-projects-python\",\"maven.com/Others:/hire-better\",\"maven.com/resources/how-to-convert-students\",\"maven.com/stephenfollows/how-to-find-and-harness-film-data\",\"maven.com/jjruescas/hta\",\"maven.com/resources/impactful-learning-super-specific-how\",\"maven.com/stephenfollows/indie-film-strategy\",\"maven.com/david-lederman/inner-knowing\",\"maven.com/interrogate/insight-to-impact\",\"maven.com/resources/instructor-spotlight-dave-kline\",\"maven.com/resources/instructor-spotlight-laura-tacho\",\"maven.com/alt-marketing-school/intro-to-digital-marketing\",\"maven.com/andy-gupta/invest-in-your-future\",\"maven.com/pcdn/investingforsocialimpactprofessionals\",\"maven.com/laude/investmentbanking\",\"maven.com/Others:/inyourshoes\",\"maven.com/Others:/job-seeker-bootcamp\",\"maven.com/teamlogiq/kerriwalshjennings\",\"maven.com/resources/key-outcomes\",\"maven.com/Others:/launch-your-tpm-career\",\"maven.com/resources/lead-magnets\",\"maven.com/dsjr/leaders5kb\",\"maven.com/articles/leadership-styles\",\"maven.com/articles/leading-by-example\",\"maven.com/articles/lean-product-management\",\"maven.com/dive/level-up-with-figma\",\"maven.com/resources/leveraging-social-media\",\"maven.com/articles/lifecycle-marketing\",\"maven.com/joel-hansen/linkedin-masterclass\",\"maven.com/joel-hansen/linkedin-masterclass-1-day-workshop\",\"maven.com/resources/live-session-guide\",\"maven.com/Others:/llms-for-pms\",\"maven.com/alt-marketing-school/make-impact-bootcamp\",\"maven.com/Others:/management-mastery\",\"maven.com/articles/managing-product-dependencies\",\"maven.com/articles/managing-remote-teams\",\"maven.com/luca/managing-remote-teams\",\"maven.com/mark-schaefer/marketing\",\"maven.com/resources/marketing-strategy-reducing-friction-vs-increasing-desire\",\"maven.com/articles/master-product-management\",\"maven.com/dive/mastering-the-art-of-product-iconography\",\"maven.com/resources/maven-newsletter-welcome\",\"maven.com/school-of-high-performance/mental-fitness-training-camp\",\"maven.com/anshumani/midcareer-product-management\",\"maven.com/tdavidson/model-venture-funds\",\"maven.com/Others:/modern-nlp\",\"maven.com/Others:/monetization\",\"maven.com/dive/nail-the-product-design-interview\",\"maven.com/resources/nail-your-hero-section\",\"maven.com/resources/name-your-course\",\"maven.com/articles/network-effects\",\"maven.com/Others:/networking-masterclass\",\"maven.com/mintface/nft-digital-artist-economy\",\"maven.com/resources/noam-segal-boost-your-career-by-teaching-online\",\"maven.com/resources/optimize-your-lead-magnets\",\"maven.com/resources/personal-credibility-vs-personal-branding\",\"maven.com/powered-by-decisions/personal-decision-toolkit\",\"maven.com/Others:/persuasive-storytelling\",\"maven.com/content-marketing/pitch-guest-posts\",\"maven.com/anshumani/pm-decisions\",\"maven.com/Others:/pm-masterclass\",\"maven.com/resources/polly-allen-from-amazon-to-successful-solopreneur\",\"maven.com/dive/portfolio-coaching\",\"maven.com/Others:/positioning-strategy-workshop\",\"maven.com/articles/prd-product-requirements-document\",\"maven.com/articles/product-competitive-analysis\",\"maven.com/articles/product-design-thinking\",\"maven.com/Others:/product-discovery-fundamentals-starter\",\"maven.com/articles/product-growth\",\"maven.com/articles/product-launch-strategy\",\"maven.com/articles/product-lead\",\"maven.com/Others:/product-leadership\",\"maven.com/articles/product-management\",\"maven.com/articles/product-management-customer-success\",\"maven.com/articles/product-management-frameworks\",\"maven.com/articles/product-management-marketing-collaboration\",\"maven.com/articles/product-management-tools\",\"maven.com/articles/product-management-vs-project-management\",\"maven.com/articles/product-manager\",\"maven.com/articles/product-manager-job\",\"maven.com/articles/product-managers-guide-market-research\",\"maven.com/articles/product-market-fit\",\"maven.com/Others:/product-marketing-bootcamp\",\"maven.com/articles/product-prioritization-techniques-product-managers\",\"maven.com/dive/product-strategy-for-designers\",\"maven.com/resources/product-update-ai-search-recommendations\",\"maven.com/resources/product-update-cohort-launch-campaign\",\"maven.com/resources/product-update-lead-magnets\",\"maven.com/rupachaturvedi/product-user-fit\",\"maven.com/articles/product-value-proposition\",\"maven.com/turker-bilgin/purposeled-futurefit-brandmarketing\",\"maven.com/Others:/restaurant-mgmt-accelerator-for-multi-unit-operators\",\"maven.com/david-lederman/rhp-course\",\"maven.com/samueldeane/rsubootcamp\",\"maven.com/keylime-academy/section-writing-for-usaid\",\"maven.com/Others:/shob\",\"maven.com/resources/social-media\",\"maven.com/articles/social-proof-to-boost-product-marketing\",\"maven.com/Others:/social-video\",\"maven.com/mark-schaefer/speech\",\"maven.com/resources/spiky-pov\",\"maven.com/amanda-goetz/startup-marketing\",\"maven.com/resources/state-change-method\",\"maven.com/samueldeane/stockoptionsplaybook\",\"maven.com/storytelling/storyacademy\",\"maven.com/storytelling/storyselling\",\"maven.com/Others:/storytelling-with-data-in-business\",\"maven.com/resources/strategies-for-discounting\",\"maven.com/Others:/superchargingperformancewithpchatgpt\",\"maven.com/resources/survey-your-audience\",\"maven.com/resources/tacs-approach-to-engaging-content\",\"maven.com/u-facilitate/take-the-guesswork-out-of-collaboration\",\"maven.com/u-facilitate/take-the-guesswork-out-of-collaboration-fast-track\",\"maven.com/Others:/take-your-digital-selling-to-the-next-level\",\"maven.com/yoga-with-max/taller\",\"maven.com/bobgower/team-charter\",\"maven.com/keylime-academy/tech-writing-for-usaid-proposals\",\"maven.com/marily-nika/technical-product-management\",\"maven.com/Others:/the-ciso-sales-accelerator\",\"maven.com/seidman-financial/the-fractional-cfo-power-skills-program\",\"maven.com/by-jill-diamond/the-great-imitation-challenge\",\"maven.com/interrogate/the-influential-researcher\",\"maven.com/ux-quests/the-research-storyteller\",\"maven.com/terry-rice-consulting/the-solopreneur-s-fast-track\",\"maven.com/pamelaslim/tiny-marketing-actions\",\"maven.com/Others:/understand-stats\",\"maven.com/Others:/understanding-real-estate-markets\",\"maven.com/Others:/unlock-your-design-leadership-playbook\",\"maven.com/articles/ux-design-for-product-managers\",\"maven.com/ux-quests/uxr-missing-foundations\",\"maven.com/brian-feroldi/valuation-explained-simply\",\"maven.com/Others:/venturefluent\",\"maven.com/dive/web-design-camp\",\"maven.com/Others:/web3-careers\",\"maven.com/mintface/web3-skills\",\"maven.com/mkt1/website-conversion\",\"maven.com/resources/welcoming-your-students\",\"maven.com/resources/what-is-maven\",\"maven.com/resources/winning-landing-page\",\"maven.com/articles/word-tips\",\"maven.com/Others:/writing\",\"maven.com/resources/writing-a-great-bio\",\"maven.com/Others:/writing-accelerator\",\"maven.com/Others:/you-belong-in-tech\",\"maven.com/allegra/youmapwithallegra\",\"maven.com/resources/your-existing-network\",\"maven.com/resources/your-ideal-student\",\"maven.com/Others:\",\"maven.com/agile-academy\",\"maven.com/allegra\",\"maven.com/alt-marketing-school\",\"maven.com/amanda-goetz\",\"maven.com/andy-gupta\",\"maven.com/anshumani\",\"maven.com/articles\",\"maven.com/bobgower\",\"maven.com/brian-feroldi\",\"maven.com/by-jill-diamond\",\"maven.com/content-marketing\",\"maven.com/datonsai\",\"maven.com/david-lederman\",\"maven.com/dive\",\"maven.com/dsjr\",\"maven.com/fpaprep\",\"maven.com/inoncollab\",\"maven.com/interrogate\",\"maven.com/jen-bergren\",\"maven.com/jjruescas\",\"maven.com/joel-hansen\",\"maven.com/keylime-academy\",\"maven.com/laude\",\"maven.com/luca\",\"maven.com/marily-nika\",\"maven.com/mark-schaefer\",\"maven.com/mintface\",\"maven.com/mkt1\",\"maven.com/narrative-first\",\"maven.com/nicolas-boucher\",\"maven.com/p\",\"maven.com/pamelaslim\",\"maven.com/pcdn\",\"maven.com/powered-by-decisions\",\"maven.com/practical-finance\",\"maven.com/resources\",\"maven.com/rupachaturvedi\",\"maven.com/samueldeane\",\"maven.com/school-of-high-performance\",\"maven.com/seidman-financial\",\"maven.com/stephenfollows\",\"maven.com/storytelling\",\"maven.com/tdavidson\",\"maven.com/teamlogiq\",\"maven.com/terry-rice-consulting\",\"maven.com/turker-bilgin\",\"maven.com/u-facilitate\",\"maven.com/ux-quests\",\"maven.com/yoga-with-max\",\"maven.com/yuan\",\"maven.com\"],\"labels\":[\"02f86b\",\"057062\",\"064a1c\",\"0c9895\",\"0f7c03\",\"117297\",\"12c090\",\"13d804\",\"143808\",\"1a3799\",\"292c16\",\"309f7b\",\"30dd3c\",\"321164\",\"350c14\",\"3ed293\",\"407542\",\"455be8\",\"4e56cd\",\"5kbt\",\"6-week-plan\",\"6a786f\",\"6b68ea\",\"78d8df\",\"79b418\",\"7a8f8b\",\"8c011a\",\"918ead\",\"9364fb\",\"980ffe\",\"9826dd\",\"9c96b7\",\"9ebc83\",\"Others:\",\"Others:\",\"Others:\",\"Others:\",\"a16z-cohorts-are-king\",\"a4b1ac\",\"ab2d41\",\"accelerate-your-social-impact-career\",\"ace-pm-interview\",\"advanced-ai-product-management\",\"advanced-chatgpt-for-finance\",\"advanced-revit-family-strategies\",\"agile-and-scrum-bootcamp\",\"agile-product-management\",\"ai-proof-content-marketing\",\"alt-marketing-certification\",\"american-accent-accelerator-program\",\"announcement-maven-course-builder\",\"annual-plan-discounts\",\"antifragile-teams\",\"anyone-can-invest-now\",\"authentic-leadership\",\"authentic-marketing\",\"b52aac\",\"backlink-building\",\"bd675b\",\"beyond-the-numbers\",\"bugs-to-features\",\"build-a-better-story\",\"build-mvp\",\"build-trust-with-your-team\",\"build-your-irresistible-offer\",\"building-marketing\",\"buzzingonlineworkshops\",\"c2d009\",\"c44a89\",\"caidesign\",\"cap-table-workshop\",\"captable-masterclass\",\"cash-flow-forecasting-and-modeling\",\"cfa428\",\"change-management\",\"channel-strategy\",\"chat-gpt-101-for-beginners\",\"chatgpt-and-scrum-master\",\"chatgpt-for-advertising\",\"chatgpt-for-copywriting\",\"chatgpt-for-finance\",\"chatgpt-growth-marketing\",\"christian-wattig-fpa-course-success-story\",\"clean-language-for-facilitators\",\"coaching-superpowers\",\"community-introduction-template\",\"concious-conversation-framework\",\"consulting\",\"content-flagship\",\"content-marketing-leader-amanda-natividad\",\"conversational-ai\",\"copywriting-mistakes-landing-pages-course-creators\",\"core-pt\",\"cost-preparer-practicum\",\"cost-saving-workshop\",\"courageous-feedback\",\"course-market-fit\",\"course-mechanics-canvas\",\"course-price-and-length\",\"coverage-newsletters-podcasts\",\"crafting-your-10-minute-power-pitch-or-presentation\",\"create-a-timeless-visual-language\",\"creative-accelerator\",\"creative-tiktok-instagram-reels-ideas\",\"crypto-fundamentals\",\"d050f7\",\"d1273a\",\"data-storytelling\",\"decision-making-for-angels\",\"decision-toolkit-for-coaches-counselors\",\"deliverconstructivefeedbackthatinspiresaction\",\"design-career-jumpstart\",\"design-system-bootcamp\",\"develop-framework-from-insights\",\"develop-growth-mindset\",\"difficult-conversations\",\"digital-copywriting-program\",\"documentation-workshop-1\",\"documentation-workshop-2\",\"documentation1\",\"ds-career\",\"e04caa\",\"e3fb00\",\"e694ee\",\"e6e958\",\"e927c8\",\"edtech\",\"effective-presentation-skills\",\"elite-sales-athlete\",\"email-campaigns\",\"emily-kramer-marketing-success-story\",\"energy-leadership\",\"episodic-television\",\"evitaburnout\",\"excel-finance\",\"executive-presence-woman-leader\",\"f09e62\",\"f26e3b\",\"f2f401\",\"fc23e8\",\"ffa140\",\"finance-for-founders\",\"financial-analysis-and-budgeting-for-fpa\",\"financial-modeling\",\"financials\",\"financials-decoded\",\"find-perfect-partners-and-watering-holes\",\"foundations-of-wellness-and-performance\",\"fpa-bootcamp\",\"framer-training\",\"framework-para-ciencia-de-datos\",\"frameworks-library\",\"free-workshops\",\"fund-your-climate-tech-startup\",\"futurefitfundamentals\",\"game-based-learning-design\",\"get-listed-on-maven\",\"get-published\",\"gettaller\",\"getting-enthusiastic-yes-in-sales-pitches\",\"giannis-growth-mindset\",\"good-teams\",\"google-chatgpt\",\"grow-online-community\",\"growth-marketing\",\"hands-on-data-projects-python\",\"hire-better\",\"how-to-convert-students\",\"how-to-find-and-harness-film-data\",\"hta\",\"impactful-learning-super-specific-how\",\"indie-film-strategy\",\"inner-knowing\",\"insight-to-impact\",\"instructor-spotlight-dave-kline\",\"instructor-spotlight-laura-tacho\",\"intro-to-digital-marketing\",\"invest-in-your-future\",\"investingforsocialimpactprofessionals\",\"investmentbanking\",\"inyourshoes\",\"job-seeker-bootcamp\",\"kerriwalshjennings\",\"key-outcomes\",\"launch-your-tpm-career\",\"lead-magnets\",\"leaders5kb\",\"leadership-styles\",\"leading-by-example\",\"lean-product-management\",\"level-up-with-figma\",\"leveraging-social-media\",\"lifecycle-marketing\",\"linkedin-masterclass\",\"linkedin-masterclass-1-day-workshop\",\"live-session-guide\",\"llms-for-pms\",\"make-impact-bootcamp\",\"management-mastery\",\"managing-product-dependencies\",\"managing-remote-teams\",\"managing-remote-teams\",\"marketing\",\"marketing-strategy-reducing-friction-vs-increasing-desire\",\"master-product-management\",\"mastering-the-art-of-product-iconography\",\"maven-newsletter-welcome\",\"mental-fitness-training-camp\",\"midcareer-product-management\",\"model-venture-funds\",\"modern-nlp\",\"monetization\",\"nail-the-product-design-interview\",\"nail-your-hero-section\",\"name-your-course\",\"network-effects\",\"networking-masterclass\",\"nft-digital-artist-economy\",\"noam-segal-boost-your-career-by-teaching-online\",\"optimize-your-lead-magnets\",\"personal-credibility-vs-personal-branding\",\"personal-decision-toolkit\",\"persuasive-storytelling\",\"pitch-guest-posts\",\"pm-decisions\",\"pm-masterclass\",\"polly-allen-from-amazon-to-successful-solopreneur\",\"portfolio-coaching\",\"positioning-strategy-workshop\",\"prd-product-requirements-document\",\"product-competitive-analysis\",\"product-design-thinking\",\"product-discovery-fundamentals-starter\",\"product-growth\",\"product-launch-strategy\",\"product-lead\",\"product-leadership\",\"product-management\",\"product-management-customer-success\",\"product-management-frameworks\",\"product-management-marketing-collaboration\",\"product-management-tools\",\"product-management-vs-project-management\",\"product-manager\",\"product-manager-job\",\"product-managers-guide-market-research\",\"product-market-fit\",\"product-marketing-bootcamp\",\"product-prioritization-techniques-product-managers\",\"product-strategy-for-designers\",\"product-update-ai-search-recommendations\",\"product-update-cohort-launch-campaign\",\"product-update-lead-magnets\",\"product-user-fit\",\"product-value-proposition\",\"purposeled-futurefit-brandmarketing\",\"restaurant-mgmt-accelerator-for-multi-unit-operators\",\"rhp-course\",\"rsubootcamp\",\"section-writing-for-usaid\",\"shob\",\"social-media\",\"social-proof-to-boost-product-marketing\",\"social-video\",\"speech\",\"spiky-pov\",\"startup-marketing\",\"state-change-method\",\"stockoptionsplaybook\",\"storyacademy\",\"storyselling\",\"storytelling-with-data-in-business\",\"strategies-for-discounting\",\"superchargingperformancewithpchatgpt\",\"survey-your-audience\",\"tacs-approach-to-engaging-content\",\"take-the-guesswork-out-of-collaboration\",\"take-the-guesswork-out-of-collaboration-fast-track\",\"take-your-digital-selling-to-the-next-level\",\"taller\",\"team-charter\",\"tech-writing-for-usaid-proposals\",\"technical-product-management\",\"the-ciso-sales-accelerator\",\"the-fractional-cfo-power-skills-program\",\"the-great-imitation-challenge\",\"the-influential-researcher\",\"the-research-storyteller\",\"the-solopreneur-s-fast-track\",\"tiny-marketing-actions\",\"understand-stats\",\"understanding-real-estate-markets\",\"unlock-your-design-leadership-playbook\",\"ux-design-for-product-managers\",\"uxr-missing-foundations\",\"valuation-explained-simply\",\"venturefluent\",\"web-design-camp\",\"web3-careers\",\"web3-skills\",\"website-conversion\",\"welcoming-your-students\",\"what-is-maven\",\"winning-landing-page\",\"word-tips\",\"writing\",\"writing-a-great-bio\",\"writing-accelerator\",\"you-belong-in-tech\",\"youmapwithallegra\",\"your-existing-network\",\"your-ideal-student\",\"Others:\",\"agile-academy\",\"allegra\",\"alt-marketing-school\",\"amanda-goetz\",\"andy-gupta\",\"anshumani\",\"articles\",\"bobgower\",\"brian-feroldi\",\"by-jill-diamond\",\"content-marketing\",\"datonsai\",\"david-lederman\",\"dive\",\"dsjr\",\"fpaprep\",\"inoncollab\",\"interrogate\",\"jen-bergren\",\"jjruescas\",\"joel-hansen\",\"keylime-academy\",\"laude\",\"luca\",\"marily-nika\",\"mark-schaefer\",\"mintface\",\"mkt1\",\"narrative-first\",\"nicolas-boucher\",\"p\",\"pamelaslim\",\"pcdn\",\"powered-by-decisions\",\"practical-finance\",\"resources\",\"rupachaturvedi\",\"samueldeane\",\"school-of-high-performance\",\"seidman-financial\",\"stephenfollows\",\"storytelling\",\"tdavidson\",\"teamlogiq\",\"terry-rice-consulting\",\"turker-bilgin\",\"u-facilitate\",\"ux-quests\",\"yoga-with-max\",\"yuan\",\"maven.com\"],\"maxdepth\":2,\"name\":\"\",\"parents\":[\"maven.com/p\",\"maven.com/p\",\"maven.com/p\",\"maven.com/p\",\"maven.com/p\",\"maven.com/p\",\"maven.com/p\",\"maven.com/p\",\"maven.com/p\",\"maven.com/p\",\"maven.com/p\",\"maven.com/p\",\"maven.com/p\",\"maven.com/p\",\"maven.com/p\",\"maven.com/p\",\"maven.com/p\",\"maven.com/p\",\"maven.com/p\",\"maven.com/dsjr\",\"maven.com/resources\",\"maven.com/p\",\"maven.com/p\",\"maven.com/p\",\"maven.com/p\",\"maven.com/p\",\"maven.com/p\",\"maven.com/p\",\"maven.com/p\",\"maven.com/p\",\"maven.com/p\",\"maven.com/p\",\"maven.com/p\",\"maven.com/Others:\",\"maven.com/articles\",\"maven.com/p\",\"maven.com/resources\",\"maven.com/resources\",\"maven.com/p\",\"maven.com/p\",\"maven.com/pcdn\",\"maven.com/marily-nika\",\"maven.com/marily-nika\",\"maven.com/nicolas-boucher\",\"maven.com/Others:\",\"maven.com/agile-academy\",\"maven.com/articles\",\"maven.com/articles\",\"maven.com/alt-marketing-school\",\"maven.com/by-jill-diamond\",\"maven.com/resources\",\"maven.com/articles\",\"maven.com/luca\",\"maven.com/andy-gupta\",\"maven.com/articles\",\"maven.com/articles\",\"maven.com/p\",\"maven.com/content-marketing\",\"maven.com/p\",\"maven.com/practical-finance\",\"maven.com/resources\",\"maven.com/narrative-first\",\"maven.com/articles\",\"maven.com/articles\",\"maven.com/terry-rice-consulting\",\"maven.com/mkt1\",\"maven.com/inoncollab\",\"maven.com/p\",\"maven.com/p\",\"maven.com/rupachaturvedi\",\"maven.com/tdavidson\",\"maven.com/tdavidson\",\"maven.com/seidman-financial\",\"maven.com/p\",\"maven.com/articles\",\"maven.com/amanda-goetz\",\"maven.com/turker-bilgin\",\"maven.com/agile-academy\",\"maven.com/articles\",\"maven.com/articles\",\"maven.com/nicolas-boucher\",\"maven.com/articles\",\"maven.com/resources\",\"maven.com/inoncollab\",\"maven.com/allegra\",\"maven.com/resources\",\"maven.com/articles\",\"maven.com/laude\",\"maven.com/Others:\",\"maven.com/resources\",\"maven.com/rupachaturvedi\",\"maven.com/resources\",\"maven.com/Others:\",\"maven.com/keylime-academy\",\"maven.com/fpaprep\",\"maven.com/Others:\",\"maven.com/resources\",\"maven.com/resources\",\"maven.com/resources\",\"maven.com/articles\",\"maven.com/Others:\",\"maven.com/dive\",\"maven.com/Others:\",\"maven.com/articles\",\"maven.com/Others:\",\"maven.com/p\",\"maven.com/p\",\"maven.com/Others:\",\"maven.com/Others:\",\"maven.com/powered-by-decisions\",\"maven.com/Others:\",\"maven.com/yuan\",\"maven.com/dive\",\"maven.com/resources\",\"maven.com/articles\",\"maven.com/Others:\",\"maven.com/Others:\",\"maven.com/jen-bergren\",\"maven.com/jen-bergren\",\"maven.com/jen-bergren\",\"maven.com/Others:\",\"maven.com/p\",\"maven.com/p\",\"maven.com/p\",\"maven.com/p\",\"maven.com/p\",\"maven.com/Others:\",\"maven.com/articles\",\"maven.com/Others:\",\"maven.com/resources\",\"maven.com/resources\",\"maven.com/yuan\",\"maven.com/narrative-first\",\"maven.com/jjruescas\",\"maven.com/seidman-financial\",\"maven.com/articles\",\"maven.com/p\",\"maven.com/p\",\"maven.com/p\",\"maven.com/p\",\"maven.com/p\",\"maven.com/Others:\",\"maven.com/nicolas-boucher\",\"maven.com/seidman-financial\",\"maven.com/brian-feroldi\",\"maven.com/practical-finance\",\"maven.com/pamelaslim\",\"maven.com/school-of-high-performance\",\"maven.com/fpaprep\",\"maven.com/dive\",\"maven.com/datonsai\",\"maven.com/resources\",\"maven.com/resources\",\"maven.com/Others:\",\"maven.com/Others:\",\"maven.com/teamlogiq\",\"maven.com/resources\",\"maven.com/Others:\",\"maven.com/yoga-with-max\",\"maven.com/resources\",\"maven.com/articles\",\"maven.com/bobgower\",\"maven.com/articles\",\"maven.com/articles\",\"maven.com/articles\",\"maven.com/datonsai\",\"maven.com/Others:\",\"maven.com/resources\",\"maven.com/stephenfollows\",\"maven.com/jjruescas\",\"maven.com/resources\",\"maven.com/stephenfollows\",\"maven.com/david-lederman\",\"maven.com/interrogate\",\"maven.com/resources\",\"maven.com/resources\",\"maven.com/alt-marketing-school\",\"maven.com/andy-gupta\",\"maven.com/pcdn\",\"maven.com/laude\",\"maven.com/Others:\",\"maven.com/Others:\",\"maven.com/teamlogiq\",\"maven.com/resources\",\"maven.com/Others:\",\"maven.com/resources\",\"maven.com/dsjr\",\"maven.com/articles\",\"maven.com/articles\",\"maven.com/articles\",\"maven.com/dive\",\"maven.com/resources\",\"maven.com/articles\",\"maven.com/joel-hansen\",\"maven.com/joel-hansen\",\"maven.com/resources\",\"maven.com/Others:\",\"maven.com/alt-marketing-school\",\"maven.com/Others:\",\"maven.com/articles\",\"maven.com/articles\",\"maven.com/luca\",\"maven.com/mark-schaefer\",\"maven.com/resources\",\"maven.com/articles\",\"maven.com/dive\",\"maven.com/resources\",\"maven.com/school-of-high-performance\",\"maven.com/anshumani\",\"maven.com/tdavidson\",\"maven.com/Others:\",\"maven.com/Others:\",\"maven.com/dive\",\"maven.com/resources\",\"maven.com/resources\",\"maven.com/articles\",\"maven.com/Others:\",\"maven.com/mintface\",\"maven.com/resources\",\"maven.com/resources\",\"maven.com/resources\",\"maven.com/powered-by-decisions\",\"maven.com/Others:\",\"maven.com/content-marketing\",\"maven.com/anshumani\",\"maven.com/Others:\",\"maven.com/resources\",\"maven.com/dive\",\"maven.com/Others:\",\"maven.com/articles\",\"maven.com/articles\",\"maven.com/articles\",\"maven.com/Others:\",\"maven.com/articles\",\"maven.com/articles\",\"maven.com/articles\",\"maven.com/Others:\",\"maven.com/articles\",\"maven.com/articles\",\"maven.com/articles\",\"maven.com/articles\",\"maven.com/articles\",\"maven.com/articles\",\"maven.com/articles\",\"maven.com/articles\",\"maven.com/articles\",\"maven.com/articles\",\"maven.com/Others:\",\"maven.com/articles\",\"maven.com/dive\",\"maven.com/resources\",\"maven.com/resources\",\"maven.com/resources\",\"maven.com/rupachaturvedi\",\"maven.com/articles\",\"maven.com/turker-bilgin\",\"maven.com/Others:\",\"maven.com/david-lederman\",\"maven.com/samueldeane\",\"maven.com/keylime-academy\",\"maven.com/Others:\",\"maven.com/resources\",\"maven.com/articles\",\"maven.com/Others:\",\"maven.com/mark-schaefer\",\"maven.com/resources\",\"maven.com/amanda-goetz\",\"maven.com/resources\",\"maven.com/samueldeane\",\"maven.com/storytelling\",\"maven.com/storytelling\",\"maven.com/Others:\",\"maven.com/resources\",\"maven.com/Others:\",\"maven.com/resources\",\"maven.com/resources\",\"maven.com/u-facilitate\",\"maven.com/u-facilitate\",\"maven.com/Others:\",\"maven.com/yoga-with-max\",\"maven.com/bobgower\",\"maven.com/keylime-academy\",\"maven.com/marily-nika\",\"maven.com/Others:\",\"maven.com/seidman-financial\",\"maven.com/by-jill-diamond\",\"maven.com/interrogate\",\"maven.com/ux-quests\",\"maven.com/terry-rice-consulting\",\"maven.com/pamelaslim\",\"maven.com/Others:\",\"maven.com/Others:\",\"maven.com/Others:\",\"maven.com/articles\",\"maven.com/ux-quests\",\"maven.com/brian-feroldi\",\"maven.com/Others:\",\"maven.com/dive\",\"maven.com/Others:\",\"maven.com/mintface\",\"maven.com/mkt1\",\"maven.com/resources\",\"maven.com/resources\",\"maven.com/resources\",\"maven.com/articles\",\"maven.com/Others:\",\"maven.com/resources\",\"maven.com/Others:\",\"maven.com/Others:\",\"maven.com/allegra\",\"maven.com/resources\",\"maven.com/resources\",\"maven.com\",\"maven.com\",\"maven.com\",\"maven.com\",\"maven.com\",\"maven.com\",\"maven.com\",\"maven.com\",\"maven.com\",\"maven.com\",\"maven.com\",\"maven.com\",\"maven.com\",\"maven.com\",\"maven.com\",\"maven.com\",\"maven.com\",\"maven.com\",\"maven.com\",\"maven.com\",\"maven.com\",\"maven.com\",\"maven.com\",\"maven.com\",\"maven.com\",\"maven.com\",\"maven.com\",\"maven.com\",\"maven.com\",\"maven.com\",\"maven.com\",\"maven.com\",\"maven.com\",\"maven.com\",\"maven.com\",\"maven.com\",\"maven.com\",\"maven.com\",\"maven.com\",\"maven.com\",\"maven.com\",\"maven.com\",\"maven.com\",\"maven.com\",\"maven.com\",\"maven.com\",\"maven.com\",\"maven.com\",\"maven.com\",\"maven.com\",\"maven.com\",\"\"],\"values\":[1,1,1,1,1,1,1,1,1,1,1,1,1,1,1,1,1,1,1,1,1,1,1,1,1,1,1,1,1,1,1,1,1,471,178,251,2,1,1,1,1,1,1,1,1,1,1,1,1,1,1,1,1,1,1,1,1,1,1,1,1,1,1,1,1,1,1,1,1,1,1,1,1,1,1,1,1,1,1,1,1,1,1,1,1,1,1,1,1,1,1,1,1,1,1,1,1,1,1,1,1,1,1,1,1,1,1,1,1,1,1,1,1,1,1,1,1,1,1,1,1,1,1,1,1,1,1,1,1,1,1,1,1,1,1,1,1,1,1,1,1,1,1,1,1,1,1,1,1,1,1,1,1,1,1,1,1,1,1,1,1,1,1,1,1,1,1,1,1,1,1,1,1,1,1,1,1,1,1,1,1,1,1,1,1,1,1,1,1,1,1,1,1,1,1,1,1,1,1,1,1,1,1,1,1,1,1,1,1,1,1,1,1,1,1,1,1,1,1,1,1,1,1,1,1,1,1,1,1,1,1,1,1,1,1,1,1,1,1,1,1,1,1,1,1,1,1,1,1,1,1,1,1,1,1,1,1,1,1,1,1,1,1,1,1,1,1,1,1,1,1,1,1,1,1,1,1,1,1,1,1,1,1,1,1,1,1,1,1,1,1,1,1,1,1,1,1,1,1,1,1,1,1,1,1,1,1,1,1,1,1,1,520,2,2,3,2,2,2,228,2,2,2,2,2,2,9,2,2,2,2,3,2,2,3,2,2,3,2,2,2,2,3,301,2,2,2,2,51,3,2,2,4,2,2,3,2,2,2,2,2,2,2,1210],\"type\":\"treemap\",\"marker\":{\"line\":{\"width\":0.01},\"pad\":{\"b\":0,\"l\":0,\"r\":0,\"t\":0}},\"texttemplate\":\"<b>%{label} </b><br><br>Directory: <b>%{parent}/%{label}</b><br>Count: %{value:,}<br>%{percentParent:.1%} of %{parent}<br>\",\"pathbar\":{\"edgeshape\":\"/\"}}],                        {\"template\":{\"data\":{\"barpolar\":[{\"marker\":{\"line\":{\"color\":\"rgb(17,17,17)\",\"width\":0.5},\"pattern\":{\"fillmode\":\"overlay\",\"size\":10,\"solidity\":0.2}},\"type\":\"barpolar\"}],\"bar\":[{\"error_x\":{\"color\":\"#f2f5fa\"},\"error_y\":{\"color\":\"#f2f5fa\"},\"marker\":{\"line\":{\"color\":\"rgb(17,17,17)\",\"width\":0.5},\"pattern\":{\"fillmode\":\"overlay\",\"size\":10,\"solidity\":0.2}},\"type\":\"bar\"}],\"carpet\":[{\"aaxis\":{\"endlinecolor\":\"#A2B1C6\",\"gridcolor\":\"#506784\",\"linecolor\":\"#506784\",\"minorgridcolor\":\"#506784\",\"startlinecolor\":\"#A2B1C6\"},\"baxis\":{\"endlinecolor\":\"#A2B1C6\",\"gridcolor\":\"#506784\",\"linecolor\":\"#506784\",\"minorgridcolor\":\"#506784\",\"startlinecolor\":\"#A2B1C6\"},\"type\":\"carpet\"}],\"choropleth\":[{\"colorbar\":{\"outlinewidth\":0,\"ticks\":\"\"},\"type\":\"choropleth\"}],\"contourcarpet\":[{\"colorbar\":{\"outlinewidth\":0,\"ticks\":\"\"},\"type\":\"contourcarpet\"}],\"contour\":[{\"colorbar\":{\"outlinewidth\":0,\"ticks\":\"\"},\"colorscale\":[[0.0,\"#0d0887\"],[0.1111111111111111,\"#46039f\"],[0.2222222222222222,\"#7201a8\"],[0.3333333333333333,\"#9c179e\"],[0.4444444444444444,\"#bd3786\"],[0.5555555555555556,\"#d8576b\"],[0.6666666666666666,\"#ed7953\"],[0.7777777777777778,\"#fb9f3a\"],[0.8888888888888888,\"#fdca26\"],[1.0,\"#f0f921\"]],\"type\":\"contour\"}],\"heatmapgl\":[{\"colorbar\":{\"outlinewidth\":0,\"ticks\":\"\"},\"colorscale\":[[0.0,\"#0d0887\"],[0.1111111111111111,\"#46039f\"],[0.2222222222222222,\"#7201a8\"],[0.3333333333333333,\"#9c179e\"],[0.4444444444444444,\"#bd3786\"],[0.5555555555555556,\"#d8576b\"],[0.6666666666666666,\"#ed7953\"],[0.7777777777777778,\"#fb9f3a\"],[0.8888888888888888,\"#fdca26\"],[1.0,\"#f0f921\"]],\"type\":\"heatmapgl\"}],\"heatmap\":[{\"colorbar\":{\"outlinewidth\":0,\"ticks\":\"\"},\"colorscale\":[[0.0,\"#0d0887\"],[0.1111111111111111,\"#46039f\"],[0.2222222222222222,\"#7201a8\"],[0.3333333333333333,\"#9c179e\"],[0.4444444444444444,\"#bd3786\"],[0.5555555555555556,\"#d8576b\"],[0.6666666666666666,\"#ed7953\"],[0.7777777777777778,\"#fb9f3a\"],[0.8888888888888888,\"#fdca26\"],[1.0,\"#f0f921\"]],\"type\":\"heatmap\"}],\"histogram2dcontour\":[{\"colorbar\":{\"outlinewidth\":0,\"ticks\":\"\"},\"colorscale\":[[0.0,\"#0d0887\"],[0.1111111111111111,\"#46039f\"],[0.2222222222222222,\"#7201a8\"],[0.3333333333333333,\"#9c179e\"],[0.4444444444444444,\"#bd3786\"],[0.5555555555555556,\"#d8576b\"],[0.6666666666666666,\"#ed7953\"],[0.7777777777777778,\"#fb9f3a\"],[0.8888888888888888,\"#fdca26\"],[1.0,\"#f0f921\"]],\"type\":\"histogram2dcontour\"}],\"histogram2d\":[{\"colorbar\":{\"outlinewidth\":0,\"ticks\":\"\"},\"colorscale\":[[0.0,\"#0d0887\"],[0.1111111111111111,\"#46039f\"],[0.2222222222222222,\"#7201a8\"],[0.3333333333333333,\"#9c179e\"],[0.4444444444444444,\"#bd3786\"],[0.5555555555555556,\"#d8576b\"],[0.6666666666666666,\"#ed7953\"],[0.7777777777777778,\"#fb9f3a\"],[0.8888888888888888,\"#fdca26\"],[1.0,\"#f0f921\"]],\"type\":\"histogram2d\"}],\"histogram\":[{\"marker\":{\"pattern\":{\"fillmode\":\"overlay\",\"size\":10,\"solidity\":0.2}},\"type\":\"histogram\"}],\"mesh3d\":[{\"colorbar\":{\"outlinewidth\":0,\"ticks\":\"\"},\"type\":\"mesh3d\"}],\"parcoords\":[{\"line\":{\"colorbar\":{\"outlinewidth\":0,\"ticks\":\"\"}},\"type\":\"parcoords\"}],\"pie\":[{\"automargin\":true,\"type\":\"pie\"}],\"scatter3d\":[{\"line\":{\"colorbar\":{\"outlinewidth\":0,\"ticks\":\"\"}},\"marker\":{\"colorbar\":{\"outlinewidth\":0,\"ticks\":\"\"}},\"type\":\"scatter3d\"}],\"scattercarpet\":[{\"marker\":{\"colorbar\":{\"outlinewidth\":0,\"ticks\":\"\"}},\"type\":\"scattercarpet\"}],\"scattergeo\":[{\"marker\":{\"colorbar\":{\"outlinewidth\":0,\"ticks\":\"\"}},\"type\":\"scattergeo\"}],\"scattergl\":[{\"marker\":{\"line\":{\"color\":\"#283442\"}},\"type\":\"scattergl\"}],\"scattermapbox\":[{\"marker\":{\"colorbar\":{\"outlinewidth\":0,\"ticks\":\"\"}},\"type\":\"scattermapbox\"}],\"scatterpolargl\":[{\"marker\":{\"colorbar\":{\"outlinewidth\":0,\"ticks\":\"\"}},\"type\":\"scatterpolargl\"}],\"scatterpolar\":[{\"marker\":{\"colorbar\":{\"outlinewidth\":0,\"ticks\":\"\"}},\"type\":\"scatterpolar\"}],\"scatter\":[{\"marker\":{\"line\":{\"color\":\"#283442\"}},\"type\":\"scatter\"}],\"scatterternary\":[{\"marker\":{\"colorbar\":{\"outlinewidth\":0,\"ticks\":\"\"}},\"type\":\"scatterternary\"}],\"surface\":[{\"colorbar\":{\"outlinewidth\":0,\"ticks\":\"\"},\"colorscale\":[[0.0,\"#0d0887\"],[0.1111111111111111,\"#46039f\"],[0.2222222222222222,\"#7201a8\"],[0.3333333333333333,\"#9c179e\"],[0.4444444444444444,\"#bd3786\"],[0.5555555555555556,\"#d8576b\"],[0.6666666666666666,\"#ed7953\"],[0.7777777777777778,\"#fb9f3a\"],[0.8888888888888888,\"#fdca26\"],[1.0,\"#f0f921\"]],\"type\":\"surface\"}],\"table\":[{\"cells\":{\"fill\":{\"color\":\"#506784\"},\"line\":{\"color\":\"rgb(17,17,17)\"}},\"header\":{\"fill\":{\"color\":\"#2a3f5f\"},\"line\":{\"color\":\"rgb(17,17,17)\"}},\"type\":\"table\"}]},\"layout\":{\"annotationdefaults\":{\"arrowcolor\":\"#f2f5fa\",\"arrowhead\":0,\"arrowwidth\":1},\"autotypenumbers\":\"strict\",\"coloraxis\":{\"colorbar\":{\"outlinewidth\":0,\"ticks\":\"\"}},\"colorscale\":{\"diverging\":[[0,\"#8e0152\"],[0.1,\"#c51b7d\"],[0.2,\"#de77ae\"],[0.3,\"#f1b6da\"],[0.4,\"#fde0ef\"],[0.5,\"#f7f7f7\"],[0.6,\"#e6f5d0\"],[0.7,\"#b8e186\"],[0.8,\"#7fbc41\"],[0.9,\"#4d9221\"],[1,\"#276419\"]],\"sequential\":[[0.0,\"#0d0887\"],[0.1111111111111111,\"#46039f\"],[0.2222222222222222,\"#7201a8\"],[0.3333333333333333,\"#9c179e\"],[0.4444444444444444,\"#bd3786\"],[0.5555555555555556,\"#d8576b\"],[0.6666666666666666,\"#ed7953\"],[0.7777777777777778,\"#fb9f3a\"],[0.8888888888888888,\"#fdca26\"],[1.0,\"#f0f921\"]],\"sequentialminus\":[[0.0,\"#0d0887\"],[0.1111111111111111,\"#46039f\"],[0.2222222222222222,\"#7201a8\"],[0.3333333333333333,\"#9c179e\"],[0.4444444444444444,\"#bd3786\"],[0.5555555555555556,\"#d8576b\"],[0.6666666666666666,\"#ed7953\"],[0.7777777777777778,\"#fb9f3a\"],[0.8888888888888888,\"#fdca26\"],[1.0,\"#f0f921\"]]},\"colorway\":[\"#636efa\",\"#EF553B\",\"#00cc96\",\"#ab63fa\",\"#FFA15A\",\"#19d3f3\",\"#FF6692\",\"#B6E880\",\"#FF97FF\",\"#FECB52\"],\"font\":{\"color\":\"#f2f5fa\"},\"geo\":{\"bgcolor\":\"rgb(17,17,17)\",\"lakecolor\":\"rgb(17,17,17)\",\"landcolor\":\"rgb(17,17,17)\",\"showlakes\":true,\"showland\":true,\"subunitcolor\":\"#506784\"},\"hoverlabel\":{\"align\":\"left\"},\"hovermode\":\"closest\",\"mapbox\":{\"style\":\"dark\"},\"paper_bgcolor\":\"rgb(17,17,17)\",\"plot_bgcolor\":\"rgb(17,17,17)\",\"polar\":{\"angularaxis\":{\"gridcolor\":\"#506784\",\"linecolor\":\"#506784\",\"ticks\":\"\"},\"bgcolor\":\"rgb(17,17,17)\",\"radialaxis\":{\"gridcolor\":\"#506784\",\"linecolor\":\"#506784\",\"ticks\":\"\"}},\"scene\":{\"xaxis\":{\"backgroundcolor\":\"rgb(17,17,17)\",\"gridcolor\":\"#506784\",\"gridwidth\":2,\"linecolor\":\"#506784\",\"showbackground\":true,\"ticks\":\"\",\"zerolinecolor\":\"#C8D4E3\"},\"yaxis\":{\"backgroundcolor\":\"rgb(17,17,17)\",\"gridcolor\":\"#506784\",\"gridwidth\":2,\"linecolor\":\"#506784\",\"showbackground\":true,\"ticks\":\"\",\"zerolinecolor\":\"#C8D4E3\"},\"zaxis\":{\"backgroundcolor\":\"rgb(17,17,17)\",\"gridcolor\":\"#506784\",\"gridwidth\":2,\"linecolor\":\"#506784\",\"showbackground\":true,\"ticks\":\"\",\"zerolinecolor\":\"#C8D4E3\"}},\"shapedefaults\":{\"line\":{\"color\":\"#f2f5fa\"}},\"sliderdefaults\":{\"bgcolor\":\"#C8D4E3\",\"bordercolor\":\"rgb(17,17,17)\",\"borderwidth\":1,\"tickwidth\":0},\"ternary\":{\"aaxis\":{\"gridcolor\":\"#506784\",\"linecolor\":\"#506784\",\"ticks\":\"\"},\"baxis\":{\"gridcolor\":\"#506784\",\"linecolor\":\"#506784\",\"ticks\":\"\"},\"bgcolor\":\"rgb(17,17,17)\",\"caxis\":{\"gridcolor\":\"#506784\",\"linecolor\":\"#506784\",\"ticks\":\"\"}},\"title\":{\"x\":0.05},\"updatemenudefaults\":{\"bgcolor\":\"#506784\",\"borderwidth\":0},\"xaxis\":{\"automargin\":true,\"gridcolor\":\"#283442\",\"linecolor\":\"#506784\",\"ticks\":\"\",\"title\":{\"standoff\":15},\"zerolinecolor\":\"#283442\",\"zerolinewidth\":2},\"yaxis\":{\"automargin\":true,\"gridcolor\":\"#283442\",\"linecolor\":\"#506784\",\"ticks\":\"\",\"title\":{\"standoff\":15},\"zerolinecolor\":\"#283442\",\"zerolinewidth\":2}}},\"legend\":{\"tracegroupgap\":0},\"title\":{\"text\":\"URL Structure\"},\"height\":600},                        {\"responsive\": true}                    ).then(function(){\n",
       "                            \n",
       "var gd = document.getElementById('505b392b-abfa-4fad-9796-9c16384ad2a5');\n",
       "var x = new MutationObserver(function (mutations, observer) {{\n",
       "        var display = window.getComputedStyle(gd).display;\n",
       "        if (!display || display === 'none') {{\n",
       "            console.log([gd, 'removed!']);\n",
       "            Plotly.purge(gd);\n",
       "            observer.disconnect();\n",
       "        }}\n",
       "}});\n",
       "\n",
       "// Listen for the removal of the full notebook cells\n",
       "var notebookContainer = gd.closest('#notebook-container');\n",
       "if (notebookContainer) {{\n",
       "    x.observe(notebookContainer, {childList: true});\n",
       "}}\n",
       "\n",
       "// Listen for the clearing of the current output cell\n",
       "var outputEl = gd.closest('.output');\n",
       "if (outputEl) {{\n",
       "    x.observe(outputEl, {childList: true});\n",
       "}}\n",
       "\n",
       "                        })                };                });            </script>        </div>"
      ]
     },
     "metadata": {},
     "output_type": "display_data"
    }
   ],
   "source": [
    "adviz.url_structure(\n",
    "    headers_df['url'],\n",
    "    domain='maven.com',\n",
    "    items_per_level=50,\n",
    "    theme='plotly_dark')"
   ]
  },
  {
   "attachments": {},
   "cell_type": "markdown",
   "id": "e7cb3852-bc53-4f24-83fb-65fbe3d42764",
   "metadata": {},
   "source": [
    "#### Get redirects"
   ]
  },
  {
   "cell_type": "code",
   "execution_count": null,
   "id": "3132e337-c431-4145-8ba1-f58b08a0cea5",
   "metadata": {
    "vscode": {
     "languageId": "python"
    }
   },
   "outputs": [
    {
     "data": {
      "text/html": [
       "<div>\n",
       "<style scoped>\n",
       "    .dataframe tbody tr th:only-of-type {\n",
       "        vertical-align: middle;\n",
       "    }\n",
       "\n",
       "    .dataframe tbody tr th {\n",
       "        vertical-align: top;\n",
       "    }\n",
       "\n",
       "    .dataframe thead th {\n",
       "        text-align: right;\n",
       "    }\n",
       "</style>\n",
       "<table border=\"1\" class=\"dataframe\">\n",
       "  <thead>\n",
       "    <tr style=\"text-align: right;\">\n",
       "      <th></th>\n",
       "      <th>url</th>\n",
       "      <th>redirect_times</th>\n",
       "      <th>redirect_ttl</th>\n",
       "      <th>redirect_urls</th>\n",
       "      <th>redirect_reasons</th>\n",
       "      <th>redirect_chain</th>\n",
       "    </tr>\n",
       "  </thead>\n",
       "  <tbody>\n",
       "    <tr>\n",
       "      <th>780</th>\n",
       "      <td>https://www.thecryptoacademy.io</td>\n",
       "      <td>1.0</td>\n",
       "      <td>19.0</td>\n",
       "      <td>[https://maven.com/pomp/pomps-crypto-course]</td>\n",
       "      <td>[307]</td>\n",
       "      <td>[https://maven.com/pomp/pomps-crypto-course, https://www.thecryptoacademy.io]</td>\n",
       "    </tr>\n",
       "    <tr>\n",
       "      <th>782</th>\n",
       "      <td>https://creatorsmba.com/partnerships</td>\n",
       "      <td>1.0</td>\n",
       "      <td>19.0</td>\n",
       "      <td>[https://maven.com/sachit/creatorsmba]</td>\n",
       "      <td>[307]</td>\n",
       "      <td>[https://maven.com/sachit/creatorsmba, https://creatorsmba.com/partnerships]</td>\n",
       "    </tr>\n",
       "  </tbody>\n",
       "</table>\n",
       "</div>"
      ],
      "text/plain": [
       "                                      url  redirect_times  redirect_ttl   \n",
       "780       https://www.thecryptoacademy.io             1.0          19.0  \\\n",
       "782  https://creatorsmba.com/partnerships             1.0          19.0   \n",
       "\n",
       "                                    redirect_urls redirect_reasons   \n",
       "780  [https://maven.com/pomp/pomps-crypto-course]            [307]  \\\n",
       "782        [https://maven.com/sachit/creatorsmba]            [307]   \n",
       "\n",
       "                                                                    redirect_chain  \n",
       "780  [https://maven.com/pomp/pomps-crypto-course, https://www.thecryptoacademy.io]  \n",
       "782   [https://maven.com/sachit/creatorsmba, https://creatorsmba.com/partnerships]  "
      ]
     },
     "metadata": {},
     "output_type": "display_data"
    }
   ],
   "source": [
    "if 'redirect_urls' in headers_df:\n",
    "    redirect_df = headers_df.filter(regex='^url$|redirect_').dropna(thresh=4)\n",
    "    redirect_df['redirect_urls'] = redirect_df['redirect_urls'].str.split('@@')\n",
    "    redirect_df['redirect_reasons'] = redirect_df['redirect_reasons'].astype(int).astype(str).str.split('@@')\n",
    "    redirect_df['redirect_chain'] = (redirect_df['redirect_urls']\n",
    "                                     .str.join('@@')\n",
    "                                     .add('@@')\n",
    "                                     .add(redirect_df['url']).str.split('@@'))\n",
    "    from IPython.display import display\n",
    "    display(redirect_df)\n",
    "else:\n",
    "    print('No redirects found in this dataset')"
   ]
  },
  {
   "attachments": {},
   "cell_type": "markdown",
   "id": "ea195054-23c4-498a-b75e-9929270d89d9",
   "metadata": {},
   "source": [
    "### Visualize download latency\n",
    "The same charts can be used for any other `float` columns in `headers_df` if available."
   ]
  },
  {
   "cell_type": "code",
   "execution_count": null,
   "id": "0b13dd7e-d0a5-44da-9032-6bc0e2255425",
   "metadata": {
    "vscode": {
     "languageId": "python"
    }
   },
   "outputs": [
    {
     "data": {
      "application/vnd.plotly.v1+json": {
       "config": {
        "plotlyServerURL": "https://plot.ly"
       },
       "data": [
        {
         "alignmentgroup": "True",
         "bingroup": "x",
         "hovertemplate": "Latency (seconds)<br>=%{x}<br>count=%{y}<extra></extra>",
         "legendgroup": "",
         "marker": {
          "color": "#1F77B4",
          "pattern": {
           "shape": ""
          }
         },
         "name": "",
         "offsetgroup": "",
         "orientation": "v",
         "showlegend": false,
         "type": "histogram",
         "x": [
          0.12714123725891102,
          0.135603904724121,
          0.13874411582946702,
          0.169096231460571,
          0.261651992797851,
          0.291376113891601,
          0.319349765777587,
          0.34889388084411604,
          0.23356914520263602,
          0.250542163848876,
          0.22768902778625402,
          0.201388120651245,
          0.21213698387145902,
          0.20685100555419902,
          0.19027519226074202,
          0.189778089523315,
          0.453288316726684,
          0.22860527038574202,
          0.20273804664611803,
          0.25778818130493103,
          0.183048963546752,
          0.382995128631591,
          0.3158860206604,
          0.22725820541381803,
          0.178359031677246,
          0.21036696434020902,
          0.217861890792846,
          0.176856040954589,
          0.427342891693115,
          0.17921590805053703,
          0.16653299331665,
          0.38097095489501903,
          0.193814992904663,
          0.18010115623474102,
          0.17829084396362302,
          0.42097806930541903,
          0.724092960357666,
          0.20118498802185,
          0.35616302490234303,
          0.232594966888427,
          0.34615993499755804,
          0.21618390083312902,
          0.215340137481689,
          0.207796812057495,
          0.535885095596313,
          0.210181236267089,
          0.224761724472045,
          0.44389891624450606,
          0.17859888076782202,
          0.18669581413269,
          0.217571973800659,
          0.224104881286621,
          0.37896609306335405,
          0.209126949310302,
          0.351470947265625,
          0.799501180648803,
          0.171704053878784,
          0.21654891967773401,
          0.18074178695678703,
          0.39084601402282704,
          0.314726114273071,
          0.215623140335083,
          0.47848510742187506,
          0.18759989738464303,
          0.21757698059082,
          0.17245697975158603,
          0.18006491661071702,
          0.19852185249328602,
          0.39407777786254805,
          0.20255708694458002,
          0.22808218002319303,
          0.384212970733642,
          0.38461089134216303,
          0.36276388168334905,
          0.33440613746643005,
          0.309306859970092,
          0.19700622558593703,
          0.34529399871826105,
          0.40881800651550204,
          0.41294503211975103,
          0.35690212249755804,
          0.183871030807495,
          0.37321400642395003,
          0.33782887458801203,
          0.38558959960937506,
          0.33646512031555104,
          0.18439507484436002,
          0.19332623481750402,
          0.343116998672485,
          0.41656804084777804,
          0.467812061309814,
          0.39530396461486805,
          0.324416875839233,
          0.386961221694946,
          0.31983160972595204,
          0.32898521423339805,
          0.242982864379882,
          0.5816719532012941,
          0.359399795532226,
          0.6794469356536861,
          0.39446377754211404,
          0.34472274780273404,
          0.431171178817749,
          0.40846586227416903,
          0.45978903770446705,
          0.40679812431335405,
          0.45905709266662603,
          0.35721802711486805,
          0.48982024192810003,
          0.35610318183898904,
          0.370615005493164,
          0.204269170761108,
          0.368635177612304,
          0.407684087753295,
          0.34918999671936,
          0.18780684471130302,
          0.37927126884460405,
          0.41471576690673806,
          0.5475220680236811,
          0.41690921783447205,
          0.40197396278381303,
          0.18638420104980402,
          0.38067817687988204,
          0.189328908920288,
          0.18220186233520502,
          0.44444894790649403,
          0.344498872756958,
          0.8493349552154541,
          0.36740303039550704,
          0.35229682922363204,
          0.349934816360473,
          0.353363990783691,
          0.36480617523193304,
          0.331980943679809,
          0.35998797416687,
          0.337085962295532,
          0.429773092269897,
          0.389867067337036,
          0.41058087348937905,
          0.24929881095886203,
          0.19150900840759202,
          0.41228699684143005,
          0.41495394706726,
          0.20284080505371002,
          0.39356088638305603,
          0.185756921768188,
          0.20296907424926702,
          0.370138883590698,
          0.18862509727478002,
          0.35350775718688904,
          0.191761255264282,
          0.178180932998657,
          0.49241495132446206,
          0.409998893737792,
          0.337072134017944,
          0.17015385627746502,
          0.206354856491088,
          0.47793579101562506,
          0.345592975616455,
          0.37821292877197205,
          0.36824607849121005,
          0.365740060806274,
          0.24641370773315402,
          0.36134815216064403,
          0.6811451911926271,
          0.41626405715942305,
          0.18236708641052202,
          0.19818902015686002,
          0.193678140640258,
          0.37255096435546803,
          0.20606398582458402,
          0.439857721328735,
          0.45193195343017506,
          0.168796777725219,
          0.201990127563476,
          0.37627816200256303,
          0.386527061462402,
          0.18704104423522902,
          0.177956104278564,
          0.18834209442138602,
          0.43010282516479403,
          0.35408163070678705,
          0.40034413337707503,
          0.19999074935913003,
          0.17470622062683103,
          0.328714132308959,
          0.36319589614868103,
          0.38556218147277804,
          0.20441174507141102,
          0.337259054183959,
          0.20469975471496502,
          0.19352793693542403,
          0.340925216674804,
          0.339844942092895,
          0.46463894844055104,
          0.180398941040039,
          0.330328702926635,
          0.324505805969238,
          0.39393115043640103,
          0.42261886596679604,
          0.34373521804809504,
          0.652101039886474,
          0.39121913909912104,
          0.33916687965393005,
          0.19449996948242101,
          0.357070922851562,
          0.34308576583862305,
          0.525806903839111,
          0.21354484558105402,
          0.387139797210693,
          1.170182228088379,
          0.343793869018554,
          0.373427867889404,
          0.198776006698608,
          0.34081101417541504,
          0.379565000534057,
          0.342058897018432,
          0.25173974037170405,
          0.223939180374145,
          0.378978013992309,
          0.383312940597534,
          0.33980107307434004,
          0.19187116622924802,
          0.338088989257812,
          0.166098117828369,
          0.35998678207397405,
          0.17273592948913502,
          0.34576416015625,
          0.46594810485839805,
          0.21129703521728502,
          0.20724511146545402,
          0.190329790115356,
          0.353568077087402,
          0.186782121658325,
          0.18763327598571702,
          0.19800806045532202,
          0.18516421318054202,
          0.22943902015686002,
          0.343490123748779,
          0.184122800827026,
          0.343055963516235,
          0.20265078544616702,
          0.382689952850341,
          0.36124801635742104,
          0.198628902435302,
          0.402101993560791,
          0.34030723571777305,
          0.7729139328002931,
          0.38144898414611805,
          0.3471040725708,
          0.193124055862426,
          0.342764854431152,
          0.21477603912353502,
          0.331587076187133,
          0.361141920089721,
          0.333412885665893,
          0.328788995742797,
          0.348419189453125,
          0.24192285537719702,
          0.33893108367919905,
          0.356462955474853,
          0.198880672454833,
          0.649217128753662,
          0.33274888992309504,
          0.35002017021179205,
          0.34968304634094205,
          0.5480630397796631,
          0.38592696189880304,
          0.20643997192382801,
          0.43240690231323203,
          0.36097311973571705,
          0.493376016616821,
          0.34955883026123,
          0.34610295295715304,
          0.320422887802124,
          0.35236191749572704,
          0.192252874374389,
          0.550889015197753,
          0.37348031997680603,
          0.33647489547729403,
          0.351422071456909,
          0.194325923919677,
          0.18076610565185502,
          0.390513896942138,
          0.53511095046997,
          0.33533883094787603,
          0.36710500717163,
          0.36029219627380304,
          0.222447872161865,
          0.21144604682922302,
          0.176926136016845,
          0.224417686462402,
          0.252409696578979,
          0.638158082962036,
          0.22731184959411602,
          0.30500411987304604,
          0.559067010879516,
          0.27830815315246504,
          0.218147754669189,
          0.241250991821289,
          0.22143411636352503,
          0.19832491874694802,
          0.24438190460205003,
          0.776957035064697,
          0.20827698707580503,
          0.21973085403442302,
          0.186597347259521,
          0.23898816108703602,
          0.20748496055603002,
          0.19731020927429202,
          0.20341992378234802,
          0.20557403564453103,
          0.21787285804748502,
          0.23843669891357402,
          0.18235373497009202,
          0.22995018959045402,
          0.195731163024902,
          0.202621221542358,
          1.728651046752929,
          0.22956919670104903,
          0.188982009887695,
          0.19304680824279702,
          0.9708538055419921,
          1.529852867126464,
          0.175319194793701,
          0.235854148864746,
          0.203618764877319,
          0.554399013519287,
          0.22455906867980902,
          0.494077920913696,
          0.25934004783630304,
          0.347430944442749,
          0.20190787315368602,
          0.267566919326782,
          0.21368503570556602,
          0.256515026092529,
          0.19319295883178703,
          0.6704583168029781,
          0.22195029258728002,
          0.236508131027221,
          0.49031782150268505,
          0.676022052764892,
          0.559221029281616,
          0.21254801750183103,
          0.25270009040832503,
          0.200666904449462,
          0.478454113006591,
          0.19699406623840302,
          0.200649976730346,
          0.34716796875,
          0.20420503616333002,
          0.192282676696777,
          0.193217039108276,
          0.18384981155395502,
          0.20399403572082503,
          1.28928518295288,
          0.206141948699951,
          0.24692821502685502,
          0.23117613792419403,
          1.221943140029907,
          1.047613859176635,
          1.413259744644165,
          0.205014944076538,
          0.17629313468933103,
          1.48679780960083,
          0.17788219451904203,
          0.469094991683959,
          0.21725893020629802,
          0.18666577339172302,
          0.507406949996948,
          0.21532297134399403,
          0.24489116668701102,
          0.190701961517333,
          0.21474695205688402,
          0.17138195037841703,
          0.21274113655090302,
          0.479166984558105,
          0.361360788345336,
          0.28939008712768505,
          0.20390701293945301,
          0.19124913215637201,
          0.20738101005554202,
          0.19851279258728002,
          0.240788221359252,
          0.6194970607757561,
          0.47573614120483404,
          0.19393110275268502,
          0.23827910423278803,
          0.23036503791809002,
          0.211150884628295,
          0.225089073181152,
          0.18761396408081002,
          0.21051597595214802,
          0.20241379737854,
          0.19309377670288003,
          0.25065231323242104,
          0.19244384765625,
          0.195125818252563,
          0.43307781219482405,
          0.21786808967590302,
          0.22016716003417902,
          0.206933975219726,
          0.20289087295532202,
          0.18718886375427202,
          0.18781995773315402,
          0.226463079452514,
          0.187026023864746,
          0.343024015426635,
          0.256875991821289,
          0.23378014564514102,
          0.21861505508422802,
          0.209332942962646,
          0.181342124938964,
          0.231365919113159,
          0.9244408607482911,
          0.19500398635864202,
          0.361997842788696,
          0.21184492111206002,
          0.936902999877929,
          0.20874714851379303,
          0.204144954681396,
          0.191664218902587,
          0.184262990951538,
          0.21119689941406203,
          0.279634714126586,
          0.20746493339538502,
          0.20638370513916002,
          0.24443125724792403,
          0.19738698005676203,
          0.25832891464233404,
          0.22045493125915502,
          0.47090291976928705,
          0.17084026336669902,
          0.183872938156127,
          0.21308898925781203,
          0.6265237331390381,
          0.35681676864624,
          0.24872183799743602,
          0.566702842712402,
          0.20886182785034102,
          0.21997213363647403,
          0.22763490676879802,
          0.220827102661132,
          0.19328308105468703,
          0.18178033828735302,
          0.22684502601623502,
          0.21668100357055603,
          0.237029790878295,
          0.205328226089477,
          0.201488733291625,
          0.198896884918212,
          0.215404033660888,
          0.20250225067138602,
          0.188002109527587,
          0.49034309387207003,
          0.597002983093261,
          0.184036016464233,
          0.19477725028991702,
          0.19118881225585901,
          0.21170878410339303,
          0.21484398841857902,
          0.181670188903808,
          0.19114208221435502,
          0.20547485351562503,
          0.20185112953186002,
          0.202918052673339,
          0.520082950592041,
          0.20112085342407202,
          0.18869185447692802,
          0.20960187911987302,
          0.20217013359069802,
          0.192200899124145,
          0.20987796783447202,
          0.20300006866455,
          0.223670721054077,
          0.203402996063232,
          0.181540727615356,
          0.19988894462585402,
          0.199500799179077,
          0.209707021713256,
          0.189242124557495,
          0.201215982437133,
          5.123297929763794,
          0.19558715820312503,
          0.27112603187561,
          0.547276020050048,
          0.20741200447082503,
          0.29964804649353,
          0.18906402587890603,
          0.212835073471069,
          0.19479584693908603,
          0.19513702392578103,
          0.22640919685363703,
          0.272464990615844,
          0.18197512626647902,
          0.21208691596984802,
          0.18796014785766602,
          0.275654077529907,
          0.285869121551513,
          0.207119941711425,
          0.19602990150451602,
          0.181831836700439,
          0.19945907592773401,
          0.5897500514984131,
          0.25286793708801203,
          0.18023204803466703,
          0.188409090042114,
          0.196535110473632,
          0.214213132858276,
          0.7211720943450921,
          0.8591198921203611,
          0.177793741226196,
          0.18262910842895502,
          0.47786521911621005,
          0.26528835296630804,
          0.21747612953186002,
          0.22042703628540003,
          0.32576704025268505,
          0.22342777252197202,
          0.23462820053100503,
          0.20069503784179601,
          0.20522594451904203,
          0.24356985092163003,
          0.5365440845489501,
          0.24378085136413502,
          0.223423957824707,
          0.22666597366333002,
          0.18129801750183103,
          0.216505289077758,
          0.566322088241577,
          0.450658082962036,
          0.166016101837158,
          0.5995190143585201,
          0.19364404678344702,
          0.16944622993469202,
          0.47160601615905706,
          0.19220185279846103,
          0.198948144912719,
          0.20647811889648401,
          0.191815853118896,
          0.191442966461181,
          0.21916007995605402,
          0.188490867614746,
          0.424201011657714,
          0.18843793869018502,
          0.174183130264282,
          0.19432997703552202,
          0.18050408363342202,
          0.183140039443969,
          0.181496858596801,
          0.253676891326904,
          0.203635215759277,
          0.180505037307739,
          0.21201705932617101,
          0.196023225784301,
          0.19369602203369102,
          0.488085031509399,
          0.504117012023925,
          0.18709301948547302,
          0.449274063110351,
          0.20536398887634202,
          0.262333154678344,
          0.48547792434692305,
          0.325715065002441,
          0.9094140529632561,
          0.503814935684204,
          0.47004294395446705,
          0.23261904716491702,
          0.18319368362426702,
          0.41298937797546303,
          0.413776159286499,
          0.228893995285034,
          0.21860122680664001,
          0.060558080673217,
          0.171722888946533,
          0.45223617553710904,
          0.622293710708618,
          0.42565393447875904,
          0.23970413208007801,
          0.47692108154296803,
          0.197638750076293,
          0.19911074638366702,
          0.547209978103637,
          0.5710740089416501,
          0.498853683471679,
          0.44289112091064403,
          0.207884788513183,
          0.203078985214233,
          0.49326276779174805,
          0.524871349334716,
          0.214208126068115,
          0.5620019435882561,
          0.49657988548278803,
          0.164477109909057,
          0.49890899658203103,
          0.19921398162841703,
          0.165683984756469,
          0.187083005905151,
          0.452600002288818,
          0.054042100906372,
          0.209935903549194,
          0.19960927963256803,
          0.41663575172424305,
          0.221325159072875,
          0.464065074920654,
          0.234186887741088,
          0.43917298316955505,
          0.20350527763366702,
          0.168874979019165,
          0.199120044708251,
          0.210487842559814,
          0.195835828781127,
          0.57695984840393,
          0.18133687973022403,
          0.19389796257019,
          0.6786370277404781,
          0.5788331031799311,
          0.174364805221557,
          0.554311990737915,
          0.22103881835937503,
          0.18102574348449701,
          0.222653865814208,
          0.23089909553527802,
          0.200795888900756,
          0.202413082122802,
          0.378374814987182,
          0.20927715301513602,
          0.18074893951416002,
          0.84124732017517,
          0.19803905487060502,
          0.18379497528076102,
          0.191946983337402,
          0.511199951171875,
          0.511116027832031,
          0.527006864547729,
          0.223289966583251,
          0.580812215805053,
          0.20731592178344702,
          0.205532789230346,
          0.20057082176208402,
          0.276496171951293,
          0.18974471092224102,
          0.21786499023437503,
          0.386147022247314,
          0.17922496795654203,
          0.18574905395507801,
          0.190994024276733,
          0.22678780555725,
          0.6663241386413571,
          0.25250411033630304,
          0.18905186653137201,
          0.27377200126647905,
          0.9744012355804441,
          0.773011922836303,
          0.80849266052246,
          0.8691389560699461,
          0.19011998176574701,
          0.5378592014312741,
          0.53995680809021,
          0.20253300666809002,
          0.525346040725708,
          0.559317111968994,
          0.188939094543457,
          0.22680807113647403,
          0.47635197639465304,
          0.179667949676513,
          0.17023706436157202,
          0.26857995986938404,
          0.198339939117431,
          0.43878698348999,
          0.203495979309082,
          0.509337186813354,
          0.0556161403656,
          0.193343162536621,
          0.174911975860595,
          0.199030637741088,
          0.22807502746582,
          0.17363214492797802,
          0.229000806808471,
          0.197288990020751,
          0.19266605377197202,
          0.20538401603698703,
          0.20408987998962402,
          0.19890594482421803,
          0.194810152053833,
          0.485503911972045,
          0.214803218841552,
          0.171512842178344,
          0.47244811058044406,
          0.591426610946655,
          0.6067318916320801,
          0.6125519275665281,
          0.209858655929565,
          0.17417788505554202,
          0.500912904739379,
          0.23724508285522403,
          0.194653272628784,
          0.203647136688232,
          0.759603977203369,
          0.17077589035034102,
          0.250717163085937,
          0.220039844512939,
          0.26642298698425204,
          0.21928191184997503,
          0.46664309501647905,
          0.21100711822509702,
          0.17747592926025302,
          0.49091672897338806,
          0.21335196495056102,
          0.22535872459411602,
          0.199265718460083,
          0.192677974700927,
          0.45002102851867604,
          0.18839406967163003,
          0.23650574684143003,
          0.192146778106689,
          0.475039005279541,
          0.530308961868286,
          0.16418480873107902,
          0.22814273834228502,
          0.192700147628784,
          0.47512316703796303,
          0.502579927444458,
          0.195036888122558,
          0.631721973419189,
          0.206908226013183,
          0.231950044631958,
          0.05531096458435,
          0.561290025711059,
          0.20193576812744102,
          0.529118061065673,
          0.20540475845336903,
          0.22572493553161602,
          0.5484139919281,
          0.17165589332580503,
          0.197241067886352,
          0.25488471984863204,
          0.35144615173339805,
          0.42696905136108404,
          0.23011803627014102,
          0.192701816558837,
          0.49982786178588806,
          0.508860111236572,
          0.490391969680786,
          0.26286625862121504,
          0.49730205535888605,
          0.22991108894348103,
          0.055486917495727005,
          0.584255218505859,
          0.59406304359436,
          0.645025014877319,
          0.184027194976806,
          0.17382764816284102,
          0.210036993026733,
          0.49210906028747503,
          0.22035813331604,
          0.187916040420532,
          0.186268091201782,
          0.191306829452514,
          0.29211616516113204,
          0.709547042846679,
          0.8128108978271481,
          0.986477136611938,
          0.20239520072937,
          0.21592569351196203,
          0.1905198097229,
          0.187945842742919,
          0.871104001998901,
          0.18777894973754802,
          1.102801322937011,
          1.1534919738769531,
          1.360504627227783,
          0.490555763244628,
          0.974427938461303,
          0.222739934921264,
          0.748265981674194,
          1.363080978393554,
          0.19680094718933103,
          0.20009899139404203,
          0.22455382347106903,
          0.04864311218261701,
          0.509207010269165,
          0.309283018112182,
          1.068557262420654,
          0.19429087638854903,
          0.200222969055175,
          0.186865806579589,
          0.470081090927124,
          0.200894832611083,
          0.183115005493164,
          0.41811490058898904,
          0.507519960403442,
          0.49746298789978005,
          0.198203086853027,
          0.520005941390991,
          0.21577501296997,
          0.5397098064422601,
          0.40838503837585405,
          0.20877194404602,
          0.263762950897216,
          0.5164051055908201,
          0.644186973571777,
          0.49296617507934504,
          0.19943881034851002,
          0.557097911834716,
          0.505326986312866,
          0.056342124938964004,
          0.517667055130004,
          0.19308686256408603,
          0.20333194732666002,
          0.198026895523071,
          0.46053504943847606,
          0.21342468261718703,
          0.20356202125549303,
          0.235798120498657,
          0.236289739608764,
          0.18627810478210402,
          0.5374181270599361,
          0.269360065460205,
          0.45359301567077603,
          0.49308800697326605,
          0.21499705314636203,
          0.21127390861511203,
          0.28054308891296303,
          0.21732401847839303,
          0.19865489006042403,
          0.467926979064941,
          0.18828105926513602,
          0.215877056121826,
          0.18389511108398401,
          0.19818496704101501,
          0.173282146453857,
          0.19488501548767,
          0.175516128540039,
          0.20610260963439903,
          0.737218141555786,
          0.7839689254760741,
          0.214084148406982,
          0.192920923233032,
          0.201854944229125,
          0.22373509407043402,
          0.18438100814819303,
          1.4740920066833492,
          0.18900799751281702,
          0.9041340351104731,
          0.196431875228881,
          0.072351932525634,
          0.21434712409973103,
          0.22959208488464303,
          0.19828820228576602,
          0.21307897567749,
          0.174925804138183,
          0.97639513015747,
          0.19510006904602,
          0.19034385681152302,
          1.6187970638275142,
          1.22848892211914,
          0.20312380790710402,
          0.18780589103698703,
          1.4619112014770501,
          0.20379114151000902,
          1.148247718811035,
          1.4982571601867671,
          1.091071844100952,
          1.332737922668457,
          0.6801910400390621,
          0.19354391098022403,
          0.189597129821777,
          0.21327519416809002,
          0.657561302185058,
          0.19798016548156702,
          0.211709976196289,
          0.19082307815551702,
          0.199743032455444,
          0.20947408676147403,
          0.175679922103881,
          0.20283389091491702,
          0.207868099212646,
          0.6300311088562011,
          0.5775268077850341,
          0.5171294212341301,
          0.475555181503295,
          0.45766520500183105,
          0.517663955688476,
          0.21249604225158603,
          0.446450948715209,
          0.426746129989624,
          0.21900606155395502,
          0.22465896606445301,
          0.202689170837402,
          0.18882489204406702,
          0.44297814369201605,
          0.17918610572814903,
          0.218616724014282,
          0.20468997955322202,
          0.200201988220214,
          0.23405313491821203,
          0.196469068527221,
          0.17842411994934002,
          0.21217775344848602,
          0.185138940811157,
          0.561589956283569,
          0.21124768257141102,
          0.21031379699707,
          0.551693201065063,
          0.20047307014465302,
          0.18366193771362302,
          0.188581705093383,
          0.19819808006286602,
          0.206232786178588,
          0.216472148895263,
          0.26691293716430603,
          0.250139951705932,
          0.321668863296508,
          0.43067812919616705,
          0.202447175979614,
          0.19191694259643502,
          0.59986400604248,
          0.577255725860595,
          0.20070719718933103,
          0.5529761314392091,
          0.47663307189941406,
          0.5525848865509031,
          0.638499736785888,
          0.43871712684631303,
          0.56538701057434,
          0.431580781936645,
          0.508828163146972,
          0.5447921752929681,
          0.43429994583129805,
          0.49581480026245106,
          0.5402531623840331,
          0.48021388053894004,
          0.46080994606018005,
          0.426456212997436,
          0.47480010986328103,
          0.49184489250183105,
          0.49483990669250405,
          0.527884006500244,
          0.525697946548461,
          0.5181009769439691,
          0.46797180175781206,
          0.622635126113891,
          0.7433729171752931,
          0.424298048019409,
          1.141719102859497,
          0.5006170272827141,
          0.447279214859008,
          0.616359949111938,
          0.42895698547363204,
          0.41639184951782204,
          0.42430019378662104,
          0.45052576065063404,
          0.449891090393066,
          0.410751104354858,
          0.44253587722778304,
          0.45146179199218706,
          0.47402119636535606,
          0.539458036422729,
          0.487592935562133,
          0.20734691619873002,
          0.43270087242126404,
          0.43166017532348605,
          0.44814395904541005,
          0.44744086265563904,
          0.472845792770385,
          0.47006511688232405,
          0.757337808609008,
          0.672143936157226,
          0.8123819828033441,
          0.7438089847564691,
          0.7847349643707271,
          0.640434980392456,
          0.44739723205566406,
          0.9187350273132321,
          0.608378887176513,
          0.609651088714599,
          0.6105940341949461,
          0.607136011123657,
          0.613512992858886,
          0.6124529838562011,
          0.5987529754638671,
          0.664811134338378,
          0.18863224983215302,
          0.519624948501586,
          0.517125844955444,
          0.5168797969818111,
          0.514803171157836,
          0.514720916748046,
          0.41760420799255304,
          0.657810926437377,
          0.921203136444091,
          1.4419910907745361,
          0.924326181411743,
          0.924309968948364,
          0.834264039993286,
          0.926151990890502,
          0.926160097122192,
          0.735883951187133,
          0.919610023498535,
          0.9202909469604491,
          0.9207789897918701,
          0.921128034591674,
          0.9212181568145751,
          0.9172999858856201,
          0.921244144439697,
          0.9251189231872551,
          0.6226921081542961,
          0.622799158096313,
          0.622426986694335,
          0.6221649646759031,
          0.622138977050781,
          0.6221792697906491,
          0.620149135589599,
          0.624061822891235,
          0.5039789676666261,
          0.5043482780456541,
          0.502701044082641,
          0.49909496307373,
          0.49935007095336903,
          0.516488075256347,
          0.537245273590087,
          0.908190965652465,
          0.452168941497802,
          0.437958717346191,
          0.487153053283691,
          0.48568081855773904,
          0.482680797576904,
          0.465590953826904,
          0.9160916805267331,
          0.914309024810791,
          0.457421779632568,
          0.46260786056518505,
          0.5034880638122551,
          0.8426988124847411,
          0.924761772155761,
          0.422974824905395,
          0.41875982284545904,
          0.41067004203796303,
          0.425604820251464,
          0.484400987625122,
          0.5576040744781491,
          0.45395898818969704,
          0.45888710021972606,
          0.49195098876953103,
          0.46091079711914,
          0.487058877944946,
          0.45352077484130804,
          0.57442307472229,
          0.813944101333618,
          0.43891215324401806,
          0.46957421302795405,
          0.447962999343872,
          0.415952920913696,
          0.483119249343872,
          0.41473817825317305,
          0.5506350994110101,
          0.19323611259460402,
          0.189533948898315,
          0.44096803665161105,
          0.44741606712341303,
          0.49174499511718706,
          0.48842811584472606,
          0.460744142532348,
          0.42495203018188404,
          0.7484920024871821,
          0.501353979110717,
          0.63984990119934,
          0.427091836929321,
          0.471124172210693,
          0.46266293525695806,
          0.45890808105468706,
          0.43129396438598605,
          0.5034213066101071,
          0.463075876235961,
          0.430551052093505,
          0.44899296760559004,
          0.502053022384643,
          0.575768947601318,
          0.18555808067321702,
          0.46746397018432606,
          0.42107200622558505,
          0.50556993484497,
          0.464386940002441,
          0.32262802124023404,
          0.428958892822265,
          0.46265172958374,
          0.20181703567504802,
          0.42002892494201605,
          0.19493389129638602,
          0.41592693328857405,
          0.45140409469604403,
          0.20031690597534102,
          0.47267317771911604,
          0.49520087242126404,
          0.43587207794189403,
          0.20106601715087802,
          0.6354100704193111,
          0.7798738479614251,
          0.5731351375579831,
          0.456629991531372,
          0.49251103401184004,
          0.49074816703796303,
          0.43056297302246005,
          0.484574317932128,
          0.466670036315917,
          0.5641012191772461,
          0.520225048065185,
          0.48375487327575606,
          0.479473829269409,
          0.488606929779052,
          0.445783853530883,
          0.47362089157104403,
          0.46912407875061,
          0.47491908073425204,
          0.447059869766235,
          0.523391962051391,
          0.48351383209228505,
          0.5019593238830561,
          0.314007759094238,
          0.535579919815063,
          0.520464897155761,
          0.613649845123291,
          0.5320470333099361,
          0.471921920776367,
          0.44218993186950606,
          0.520989894866943,
          0.44455599784851,
          0.503740072250366,
          0.5052139759063721,
          0.505296230316162,
          0.501338958740234,
          0.505742788314819,
          0.46779584884643505,
          0.556103944778442,
          0.520170927047729,
          0.44146513938903803,
          0.46652793884277305,
          0.464396715164184,
          0.43617296218872004,
          0.495046138763427,
          0.47616362571716303,
          0.450428009033203,
          0.45058417320251404,
          0.39331197738647405,
          1.038606882095337,
          1.093910932540893,
          1.127250909805297,
          0.738324880599975,
          0.311953067779541,
          0.452918052673339,
          0.5003142356872551,
          0.583065032958984,
          0.430459737777709,
          0.428208112716674,
          0.7893187999725341,
          0.311172008514404,
          0.5863928794860841,
          0.5532369613647461,
          0.45043563842773404,
          0.49769020080566406,
          0.436416149139404,
          0.184584856033325,
          0.560657262802124,
          0.21527123451232902,
          0.6232728958129881,
          0.623711347579956,
          0.623739957809448,
          0.623745918273925,
          0.467198848724365,
          0.44535279273986805,
          0.46934795379638605,
          0.45487904548645003,
          0.18925690650939903,
          0.5050199031829831,
          0.506491184234619,
          0.429545879364013,
          0.506750106811523,
          0.511296987533569,
          0.46474289894104004,
          0.7241408824920651,
          0.49306607246398904,
          0.49399709701538,
          0.524549961090087,
          0.515504837036132,
          0.542097806930542,
          0.5390470027923581,
          1.053561925888061,
          0.5888628959655761,
          0.589984893798828,
          0.6301689147949211,
          0.590933084487915,
          0.724101066589355,
          0.638569116592407,
          0.54915714263916,
          0.6937010288238521,
          0.21967625617980902,
          0.232264995574951,
          0.435780763626098,
          0.435046911239624,
          0.44606590270996005,
          0.44730877876281705,
          0.46852517127990706,
          0.49286007881164506,
          0.21330714225769,
          0.198935031890869,
          0.187712907791137,
          0.20886921882629303,
          0.45323204994201605,
          0.200403213500976,
          0.206225872039794,
          0.467582941055297,
          0.271818161010742,
          0.73281192779541,
          0.180385112762451,
          0.448136091232299,
          0.191549062728881,
          0.46430397033691406,
          0.49710893630981406,
          0.45367717742919905
         ],
         "xaxis": "x",
         "yaxis": "y"
        }
       ],
       "layout": {
        "annotations": [
         {
          "align": "right",
          "showarrow": false,
          "text": "<b>Latency:</b> time elapsed between establishing the TCP connection and receiving the HTTP headers.",
          "x": 0,
          "xref": "paper",
          "y": -0.25,
          "yref": "y domain"
         }
        ],
        "autosize": true,
        "barmode": "relative",
        "legend": {
         "tracegroupgap": 0
        },
        "template": {
         "data": {
          "scatter": [
           {
            "type": "scatter"
           }
          ]
         }
        },
        "title": {
         "text": "<b>Download latency distribution</b>"
        },
        "xaxis": {
         "anchor": "y",
         "autorange": true,
         "domain": [
          0,
          1
         ],
         "range": [
          5.342948306008566e-16,
          5.1499999999999995
         ],
         "title": {
          "text": "Latency (seconds)<br>"
         },
         "type": "linear"
        },
        "yaxis": {
         "anchor": "x",
         "autorange": true,
         "domain": [
          0,
          1
         ],
         "range": [
          0,
          284.2105263157895
         ],
         "title": {
          "text": "count"
         }
        }
       }
      },
      "image/png": "[encoded data removed]",
      "text/html": [
       "<div>                            <div id=\"a0e17f21-0dba-4058-b6be-78f8e23e16cd\" class=\"plotly-graph-div\" style=\"height:500px; width:100%;\"></div>            <script type=\"text/javascript\">                require([\"plotly\"], function(Plotly) {                    window.PLOTLYENV=window.PLOTLYENV || {};                                    if (document.getElementById(\"a0e17f21-0dba-4058-b6be-78f8e23e16cd\")) {                    Plotly.newPlot(                        \"a0e17f21-0dba-4058-b6be-78f8e23e16cd\",                        [{\"alignmentgroup\":\"True\",\"bingroup\":\"x\",\"hovertemplate\":\"Latency (seconds)<br>=%{x}<br>count=%{y}<extra></extra>\",\"legendgroup\":\"\",\"marker\":{\"color\":\"#1F77B4\",\"pattern\":{\"shape\":\"\"}},\"name\":\"\",\"offsetgroup\":\"\",\"orientation\":\"v\",\"showlegend\":false,\"x\":[0.12714123725891102,0.135603904724121,0.13874411582946702,0.169096231460571,0.261651992797851,0.291376113891601,0.319349765777587,0.34889388084411604,0.23356914520263602,0.250542163848876,0.22768902778625402,0.201388120651245,0.21213698387145902,0.20685100555419902,0.19027519226074202,0.189778089523315,0.453288316726684,0.22860527038574202,0.20273804664611803,0.25778818130493103,0.183048963546752,0.382995128631591,0.3158860206604,0.22725820541381803,0.178359031677246,0.21036696434020902,0.217861890792846,0.176856040954589,0.427342891693115,0.17921590805053703,0.16653299331665,0.38097095489501903,0.193814992904663,0.18010115623474102,0.17829084396362302,0.42097806930541903,0.724092960357666,0.20118498802185,0.35616302490234303,0.232594966888427,0.34615993499755804,0.21618390083312902,0.215340137481689,0.207796812057495,0.535885095596313,0.210181236267089,0.224761724472045,0.44389891624450606,0.17859888076782202,0.18669581413269,0.217571973800659,0.224104881286621,0.37896609306335405,0.209126949310302,0.351470947265625,0.799501180648803,0.171704053878784,0.21654891967773401,0.18074178695678703,0.39084601402282704,0.314726114273071,0.215623140335083,0.47848510742187506,0.18759989738464303,0.21757698059082,0.17245697975158603,0.18006491661071702,0.19852185249328602,0.39407777786254805,0.20255708694458002,0.22808218002319303,0.384212970733642,0.38461089134216303,0.36276388168334905,0.33440613746643005,0.309306859970092,0.19700622558593703,0.34529399871826105,0.40881800651550204,0.41294503211975103,0.35690212249755804,0.183871030807495,0.37321400642395003,0.33782887458801203,0.38558959960937506,0.33646512031555104,0.18439507484436002,0.19332623481750402,0.343116998672485,0.41656804084777804,0.467812061309814,0.39530396461486805,0.324416875839233,0.386961221694946,0.31983160972595204,0.32898521423339805,0.242982864379882,0.5816719532012941,0.359399795532226,0.6794469356536861,0.39446377754211404,0.34472274780273404,0.431171178817749,0.40846586227416903,0.45978903770446705,0.40679812431335405,0.45905709266662603,0.35721802711486805,0.48982024192810003,0.35610318183898904,0.370615005493164,0.204269170761108,0.368635177612304,0.407684087753295,0.34918999671936,0.18780684471130302,0.37927126884460405,0.41471576690673806,0.5475220680236811,0.41690921783447205,0.40197396278381303,0.18638420104980402,0.38067817687988204,0.189328908920288,0.18220186233520502,0.44444894790649403,0.344498872756958,0.8493349552154541,0.36740303039550704,0.35229682922363204,0.349934816360473,0.353363990783691,0.36480617523193304,0.331980943679809,0.35998797416687,0.337085962295532,0.429773092269897,0.389867067337036,0.41058087348937905,0.24929881095886203,0.19150900840759202,0.41228699684143005,0.41495394706726,0.20284080505371002,0.39356088638305603,0.185756921768188,0.20296907424926702,0.370138883590698,0.18862509727478002,0.35350775718688904,0.191761255264282,0.178180932998657,0.49241495132446206,0.409998893737792,0.337072134017944,0.17015385627746502,0.206354856491088,0.47793579101562506,0.345592975616455,0.37821292877197205,0.36824607849121005,0.365740060806274,0.24641370773315402,0.36134815216064403,0.6811451911926271,0.41626405715942305,0.18236708641052202,0.19818902015686002,0.193678140640258,0.37255096435546803,0.20606398582458402,0.439857721328735,0.45193195343017506,0.168796777725219,0.201990127563476,0.37627816200256303,0.386527061462402,0.18704104423522902,0.177956104278564,0.18834209442138602,0.43010282516479403,0.35408163070678705,0.40034413337707503,0.19999074935913003,0.17470622062683103,0.328714132308959,0.36319589614868103,0.38556218147277804,0.20441174507141102,0.337259054183959,0.20469975471496502,0.19352793693542403,0.340925216674804,0.339844942092895,0.46463894844055104,0.180398941040039,0.330328702926635,0.324505805969238,0.39393115043640103,0.42261886596679604,0.34373521804809504,0.652101039886474,0.39121913909912104,0.33916687965393005,0.19449996948242101,0.357070922851562,0.34308576583862305,0.525806903839111,0.21354484558105402,0.387139797210693,1.170182228088379,0.343793869018554,0.373427867889404,0.198776006698608,0.34081101417541504,0.379565000534057,0.342058897018432,0.25173974037170405,0.223939180374145,0.378978013992309,0.383312940597534,0.33980107307434004,0.19187116622924802,0.338088989257812,0.166098117828369,0.35998678207397405,0.17273592948913502,0.34576416015625,0.46594810485839805,0.21129703521728502,0.20724511146545402,0.190329790115356,0.353568077087402,0.186782121658325,0.18763327598571702,0.19800806045532202,0.18516421318054202,0.22943902015686002,0.343490123748779,0.184122800827026,0.343055963516235,0.20265078544616702,0.382689952850341,0.36124801635742104,0.198628902435302,0.402101993560791,0.34030723571777305,0.7729139328002931,0.38144898414611805,0.3471040725708,0.193124055862426,0.342764854431152,0.21477603912353502,0.331587076187133,0.361141920089721,0.333412885665893,0.328788995742797,0.348419189453125,0.24192285537719702,0.33893108367919905,0.356462955474853,0.198880672454833,0.649217128753662,0.33274888992309504,0.35002017021179205,0.34968304634094205,0.5480630397796631,0.38592696189880304,0.20643997192382801,0.43240690231323203,0.36097311973571705,0.493376016616821,0.34955883026123,0.34610295295715304,0.320422887802124,0.35236191749572704,0.192252874374389,0.550889015197753,0.37348031997680603,0.33647489547729403,0.351422071456909,0.194325923919677,0.18076610565185502,0.390513896942138,0.53511095046997,0.33533883094787603,0.36710500717163,0.36029219627380304,0.222447872161865,0.21144604682922302,0.176926136016845,0.224417686462402,0.252409696578979,0.638158082962036,0.22731184959411602,0.30500411987304604,0.559067010879516,0.27830815315246504,0.218147754669189,0.241250991821289,0.22143411636352503,0.19832491874694802,0.24438190460205003,0.776957035064697,0.20827698707580503,0.21973085403442302,0.186597347259521,0.23898816108703602,0.20748496055603002,0.19731020927429202,0.20341992378234802,0.20557403564453103,0.21787285804748502,0.23843669891357402,0.18235373497009202,0.22995018959045402,0.195731163024902,0.202621221542358,1.728651046752929,0.22956919670104903,0.188982009887695,0.19304680824279702,0.9708538055419921,1.529852867126464,0.175319194793701,0.235854148864746,0.203618764877319,0.554399013519287,0.22455906867980902,0.494077920913696,0.25934004783630304,0.347430944442749,0.20190787315368602,0.267566919326782,0.21368503570556602,0.256515026092529,0.19319295883178703,0.6704583168029781,0.22195029258728002,0.236508131027221,0.49031782150268505,0.676022052764892,0.559221029281616,0.21254801750183103,0.25270009040832503,0.200666904449462,0.478454113006591,0.19699406623840302,0.200649976730346,0.34716796875,0.20420503616333002,0.192282676696777,0.193217039108276,0.18384981155395502,0.20399403572082503,1.28928518295288,0.206141948699951,0.24692821502685502,0.23117613792419403,1.221943140029907,1.047613859176635,1.413259744644165,0.205014944076538,0.17629313468933103,1.48679780960083,0.17788219451904203,0.469094991683959,0.21725893020629802,0.18666577339172302,0.507406949996948,0.21532297134399403,0.24489116668701102,0.190701961517333,0.21474695205688402,0.17138195037841703,0.21274113655090302,0.479166984558105,0.361360788345336,0.28939008712768505,0.20390701293945301,0.19124913215637201,0.20738101005554202,0.19851279258728002,0.240788221359252,0.6194970607757561,0.47573614120483404,0.19393110275268502,0.23827910423278803,0.23036503791809002,0.211150884628295,0.225089073181152,0.18761396408081002,0.21051597595214802,0.20241379737854,0.19309377670288003,0.25065231323242104,0.19244384765625,0.195125818252563,0.43307781219482405,0.21786808967590302,0.22016716003417902,0.206933975219726,0.20289087295532202,0.18718886375427202,0.18781995773315402,0.226463079452514,0.187026023864746,0.343024015426635,0.256875991821289,0.23378014564514102,0.21861505508422802,0.209332942962646,0.181342124938964,0.231365919113159,0.9244408607482911,0.19500398635864202,0.361997842788696,0.21184492111206002,0.936902999877929,0.20874714851379303,0.204144954681396,0.191664218902587,0.184262990951538,0.21119689941406203,0.279634714126586,0.20746493339538502,0.20638370513916002,0.24443125724792403,0.19738698005676203,0.25832891464233404,0.22045493125915502,0.47090291976928705,0.17084026336669902,0.183872938156127,0.21308898925781203,0.6265237331390381,0.35681676864624,0.24872183799743602,0.566702842712402,0.20886182785034102,0.21997213363647403,0.22763490676879802,0.220827102661132,0.19328308105468703,0.18178033828735302,0.22684502601623502,0.21668100357055603,0.237029790878295,0.205328226089477,0.201488733291625,0.198896884918212,0.215404033660888,0.20250225067138602,0.188002109527587,0.49034309387207003,0.597002983093261,0.184036016464233,0.19477725028991702,0.19118881225585901,0.21170878410339303,0.21484398841857902,0.181670188903808,0.19114208221435502,0.20547485351562503,0.20185112953186002,0.202918052673339,0.520082950592041,0.20112085342407202,0.18869185447692802,0.20960187911987302,0.20217013359069802,0.192200899124145,0.20987796783447202,0.20300006866455,0.223670721054077,0.203402996063232,0.181540727615356,0.19988894462585402,0.199500799179077,0.209707021713256,0.189242124557495,0.201215982437133,5.123297929763794,0.19558715820312503,0.27112603187561,0.547276020050048,0.20741200447082503,0.29964804649353,0.18906402587890603,0.212835073471069,0.19479584693908603,0.19513702392578103,0.22640919685363703,0.272464990615844,0.18197512626647902,0.21208691596984802,0.18796014785766602,0.275654077529907,0.285869121551513,0.207119941711425,0.19602990150451602,0.181831836700439,0.19945907592773401,0.5897500514984131,0.25286793708801203,0.18023204803466703,0.188409090042114,0.196535110473632,0.214213132858276,0.7211720943450921,0.8591198921203611,0.177793741226196,0.18262910842895502,0.47786521911621005,0.26528835296630804,0.21747612953186002,0.22042703628540003,0.32576704025268505,0.22342777252197202,0.23462820053100503,0.20069503784179601,0.20522594451904203,0.24356985092163003,0.5365440845489501,0.24378085136413502,0.223423957824707,0.22666597366333002,0.18129801750183103,0.216505289077758,0.566322088241577,0.450658082962036,0.166016101837158,0.5995190143585201,0.19364404678344702,0.16944622993469202,0.47160601615905706,0.19220185279846103,0.198948144912719,0.20647811889648401,0.191815853118896,0.191442966461181,0.21916007995605402,0.188490867614746,0.424201011657714,0.18843793869018502,0.174183130264282,0.19432997703552202,0.18050408363342202,0.183140039443969,0.181496858596801,0.253676891326904,0.203635215759277,0.180505037307739,0.21201705932617101,0.196023225784301,0.19369602203369102,0.488085031509399,0.504117012023925,0.18709301948547302,0.449274063110351,0.20536398887634202,0.262333154678344,0.48547792434692305,0.325715065002441,0.9094140529632561,0.503814935684204,0.47004294395446705,0.23261904716491702,0.18319368362426702,0.41298937797546303,0.413776159286499,0.228893995285034,0.21860122680664001,0.060558080673217,0.171722888946533,0.45223617553710904,0.622293710708618,0.42565393447875904,0.23970413208007801,0.47692108154296803,0.197638750076293,0.19911074638366702,0.547209978103637,0.5710740089416501,0.498853683471679,0.44289112091064403,0.207884788513183,0.203078985214233,0.49326276779174805,0.524871349334716,0.214208126068115,0.5620019435882561,0.49657988548278803,0.164477109909057,0.49890899658203103,0.19921398162841703,0.165683984756469,0.187083005905151,0.452600002288818,0.054042100906372,0.209935903549194,0.19960927963256803,0.41663575172424305,0.221325159072875,0.464065074920654,0.234186887741088,0.43917298316955505,0.20350527763366702,0.168874979019165,0.199120044708251,0.210487842559814,0.195835828781127,0.57695984840393,0.18133687973022403,0.19389796257019,0.6786370277404781,0.5788331031799311,0.174364805221557,0.554311990737915,0.22103881835937503,0.18102574348449701,0.222653865814208,0.23089909553527802,0.200795888900756,0.202413082122802,0.378374814987182,0.20927715301513602,0.18074893951416002,0.84124732017517,0.19803905487060502,0.18379497528076102,0.191946983337402,0.511199951171875,0.511116027832031,0.527006864547729,0.223289966583251,0.580812215805053,0.20731592178344702,0.205532789230346,0.20057082176208402,0.276496171951293,0.18974471092224102,0.21786499023437503,0.386147022247314,0.17922496795654203,0.18574905395507801,0.190994024276733,0.22678780555725,0.6663241386413571,0.25250411033630304,0.18905186653137201,0.27377200126647905,0.9744012355804441,0.773011922836303,0.80849266052246,0.8691389560699461,0.19011998176574701,0.5378592014312741,0.53995680809021,0.20253300666809002,0.525346040725708,0.559317111968994,0.188939094543457,0.22680807113647403,0.47635197639465304,0.179667949676513,0.17023706436157202,0.26857995986938404,0.198339939117431,0.43878698348999,0.203495979309082,0.509337186813354,0.0556161403656,0.193343162536621,0.174911975860595,0.199030637741088,0.22807502746582,0.17363214492797802,0.229000806808471,0.197288990020751,0.19266605377197202,0.20538401603698703,0.20408987998962402,0.19890594482421803,0.194810152053833,0.485503911972045,0.214803218841552,0.171512842178344,0.47244811058044406,0.591426610946655,0.6067318916320801,0.6125519275665281,0.209858655929565,0.17417788505554202,0.500912904739379,0.23724508285522403,0.194653272628784,0.203647136688232,0.759603977203369,0.17077589035034102,0.250717163085937,0.220039844512939,0.26642298698425204,0.21928191184997503,0.46664309501647905,0.21100711822509702,0.17747592926025302,0.49091672897338806,0.21335196495056102,0.22535872459411602,0.199265718460083,0.192677974700927,0.45002102851867604,0.18839406967163003,0.23650574684143003,0.192146778106689,0.475039005279541,0.530308961868286,0.16418480873107902,0.22814273834228502,0.192700147628784,0.47512316703796303,0.502579927444458,0.195036888122558,0.631721973419189,0.206908226013183,0.231950044631958,0.05531096458435,0.561290025711059,0.20193576812744102,0.529118061065673,0.20540475845336903,0.22572493553161602,0.5484139919281,0.17165589332580503,0.197241067886352,0.25488471984863204,0.35144615173339805,0.42696905136108404,0.23011803627014102,0.192701816558837,0.49982786178588806,0.508860111236572,0.490391969680786,0.26286625862121504,0.49730205535888605,0.22991108894348103,0.055486917495727005,0.584255218505859,0.59406304359436,0.645025014877319,0.184027194976806,0.17382764816284102,0.210036993026733,0.49210906028747503,0.22035813331604,0.187916040420532,0.186268091201782,0.191306829452514,0.29211616516113204,0.709547042846679,0.8128108978271481,0.986477136611938,0.20239520072937,0.21592569351196203,0.1905198097229,0.187945842742919,0.871104001998901,0.18777894973754802,1.102801322937011,1.1534919738769531,1.360504627227783,0.490555763244628,0.974427938461303,0.222739934921264,0.748265981674194,1.363080978393554,0.19680094718933103,0.20009899139404203,0.22455382347106903,0.04864311218261701,0.509207010269165,0.309283018112182,1.068557262420654,0.19429087638854903,0.200222969055175,0.186865806579589,0.470081090927124,0.200894832611083,0.183115005493164,0.41811490058898904,0.507519960403442,0.49746298789978005,0.198203086853027,0.520005941390991,0.21577501296997,0.5397098064422601,0.40838503837585405,0.20877194404602,0.263762950897216,0.5164051055908201,0.644186973571777,0.49296617507934504,0.19943881034851002,0.557097911834716,0.505326986312866,0.056342124938964004,0.517667055130004,0.19308686256408603,0.20333194732666002,0.198026895523071,0.46053504943847606,0.21342468261718703,0.20356202125549303,0.235798120498657,0.236289739608764,0.18627810478210402,0.5374181270599361,0.269360065460205,0.45359301567077603,0.49308800697326605,0.21499705314636203,0.21127390861511203,0.28054308891296303,0.21732401847839303,0.19865489006042403,0.467926979064941,0.18828105926513602,0.215877056121826,0.18389511108398401,0.19818496704101501,0.173282146453857,0.19488501548767,0.175516128540039,0.20610260963439903,0.737218141555786,0.7839689254760741,0.214084148406982,0.192920923233032,0.201854944229125,0.22373509407043402,0.18438100814819303,1.4740920066833492,0.18900799751281702,0.9041340351104731,0.196431875228881,0.072351932525634,0.21434712409973103,0.22959208488464303,0.19828820228576602,0.21307897567749,0.174925804138183,0.97639513015747,0.19510006904602,0.19034385681152302,1.6187970638275142,1.22848892211914,0.20312380790710402,0.18780589103698703,1.4619112014770501,0.20379114151000902,1.148247718811035,1.4982571601867671,1.091071844100952,1.332737922668457,0.6801910400390621,0.19354391098022403,0.189597129821777,0.21327519416809002,0.657561302185058,0.19798016548156702,0.211709976196289,0.19082307815551702,0.199743032455444,0.20947408676147403,0.175679922103881,0.20283389091491702,0.207868099212646,0.6300311088562011,0.5775268077850341,0.5171294212341301,0.475555181503295,0.45766520500183105,0.517663955688476,0.21249604225158603,0.446450948715209,0.426746129989624,0.21900606155395502,0.22465896606445301,0.202689170837402,0.18882489204406702,0.44297814369201605,0.17918610572814903,0.218616724014282,0.20468997955322202,0.200201988220214,0.23405313491821203,0.196469068527221,0.17842411994934002,0.21217775344848602,0.185138940811157,0.561589956283569,0.21124768257141102,0.21031379699707,0.551693201065063,0.20047307014465302,0.18366193771362302,0.188581705093383,0.19819808006286602,0.206232786178588,0.216472148895263,0.26691293716430603,0.250139951705932,0.321668863296508,0.43067812919616705,0.202447175979614,0.19191694259643502,0.59986400604248,0.577255725860595,0.20070719718933103,0.5529761314392091,0.47663307189941406,0.5525848865509031,0.638499736785888,0.43871712684631303,0.56538701057434,0.431580781936645,0.508828163146972,0.5447921752929681,0.43429994583129805,0.49581480026245106,0.5402531623840331,0.48021388053894004,0.46080994606018005,0.426456212997436,0.47480010986328103,0.49184489250183105,0.49483990669250405,0.527884006500244,0.525697946548461,0.5181009769439691,0.46797180175781206,0.622635126113891,0.7433729171752931,0.424298048019409,1.141719102859497,0.5006170272827141,0.447279214859008,0.616359949111938,0.42895698547363204,0.41639184951782204,0.42430019378662104,0.45052576065063404,0.449891090393066,0.410751104354858,0.44253587722778304,0.45146179199218706,0.47402119636535606,0.539458036422729,0.487592935562133,0.20734691619873002,0.43270087242126404,0.43166017532348605,0.44814395904541005,0.44744086265563904,0.472845792770385,0.47006511688232405,0.757337808609008,0.672143936157226,0.8123819828033441,0.7438089847564691,0.7847349643707271,0.640434980392456,0.44739723205566406,0.9187350273132321,0.608378887176513,0.609651088714599,0.6105940341949461,0.607136011123657,0.613512992858886,0.6124529838562011,0.5987529754638671,0.664811134338378,0.18863224983215302,0.519624948501586,0.517125844955444,0.5168797969818111,0.514803171157836,0.514720916748046,0.41760420799255304,0.657810926437377,0.921203136444091,1.4419910907745361,0.924326181411743,0.924309968948364,0.834264039993286,0.926151990890502,0.926160097122192,0.735883951187133,0.919610023498535,0.9202909469604491,0.9207789897918701,0.921128034591674,0.9212181568145751,0.9172999858856201,0.921244144439697,0.9251189231872551,0.6226921081542961,0.622799158096313,0.622426986694335,0.6221649646759031,0.622138977050781,0.6221792697906491,0.620149135589599,0.624061822891235,0.5039789676666261,0.5043482780456541,0.502701044082641,0.49909496307373,0.49935007095336903,0.516488075256347,0.537245273590087,0.908190965652465,0.452168941497802,0.437958717346191,0.487153053283691,0.48568081855773904,0.482680797576904,0.465590953826904,0.9160916805267331,0.914309024810791,0.457421779632568,0.46260786056518505,0.5034880638122551,0.8426988124847411,0.924761772155761,0.422974824905395,0.41875982284545904,0.41067004203796303,0.425604820251464,0.484400987625122,0.5576040744781491,0.45395898818969704,0.45888710021972606,0.49195098876953103,0.46091079711914,0.487058877944946,0.45352077484130804,0.57442307472229,0.813944101333618,0.43891215324401806,0.46957421302795405,0.447962999343872,0.415952920913696,0.483119249343872,0.41473817825317305,0.5506350994110101,0.19323611259460402,0.189533948898315,0.44096803665161105,0.44741606712341303,0.49174499511718706,0.48842811584472606,0.460744142532348,0.42495203018188404,0.7484920024871821,0.501353979110717,0.63984990119934,0.427091836929321,0.471124172210693,0.46266293525695806,0.45890808105468706,0.43129396438598605,0.5034213066101071,0.463075876235961,0.430551052093505,0.44899296760559004,0.502053022384643,0.575768947601318,0.18555808067321702,0.46746397018432606,0.42107200622558505,0.50556993484497,0.464386940002441,0.32262802124023404,0.428958892822265,0.46265172958374,0.20181703567504802,0.42002892494201605,0.19493389129638602,0.41592693328857405,0.45140409469604403,0.20031690597534102,0.47267317771911604,0.49520087242126404,0.43587207794189403,0.20106601715087802,0.6354100704193111,0.7798738479614251,0.5731351375579831,0.456629991531372,0.49251103401184004,0.49074816703796303,0.43056297302246005,0.484574317932128,0.466670036315917,0.5641012191772461,0.520225048065185,0.48375487327575606,0.479473829269409,0.488606929779052,0.445783853530883,0.47362089157104403,0.46912407875061,0.47491908073425204,0.447059869766235,0.523391962051391,0.48351383209228505,0.5019593238830561,0.314007759094238,0.535579919815063,0.520464897155761,0.613649845123291,0.5320470333099361,0.471921920776367,0.44218993186950606,0.520989894866943,0.44455599784851,0.503740072250366,0.5052139759063721,0.505296230316162,0.501338958740234,0.505742788314819,0.46779584884643505,0.556103944778442,0.520170927047729,0.44146513938903803,0.46652793884277305,0.464396715164184,0.43617296218872004,0.495046138763427,0.47616362571716303,0.450428009033203,0.45058417320251404,0.39331197738647405,1.038606882095337,1.093910932540893,1.127250909805297,0.738324880599975,0.311953067779541,0.452918052673339,0.5003142356872551,0.583065032958984,0.430459737777709,0.428208112716674,0.7893187999725341,0.311172008514404,0.5863928794860841,0.5532369613647461,0.45043563842773404,0.49769020080566406,0.436416149139404,0.184584856033325,0.560657262802124,0.21527123451232902,0.6232728958129881,0.623711347579956,0.623739957809448,0.623745918273925,0.467198848724365,0.44535279273986805,0.46934795379638605,0.45487904548645003,0.18925690650939903,0.5050199031829831,0.506491184234619,0.429545879364013,0.506750106811523,0.511296987533569,0.46474289894104004,0.7241408824920651,0.49306607246398904,0.49399709701538,0.524549961090087,0.515504837036132,0.542097806930542,0.5390470027923581,1.053561925888061,0.5888628959655761,0.589984893798828,0.6301689147949211,0.590933084487915,0.724101066589355,0.638569116592407,0.54915714263916,0.6937010288238521,0.21967625617980902,0.232264995574951,0.435780763626098,0.435046911239624,0.44606590270996005,0.44730877876281705,0.46852517127990706,0.49286007881164506,0.21330714225769,0.198935031890869,0.187712907791137,0.20886921882629303,0.45323204994201605,0.200403213500976,0.206225872039794,0.467582941055297,0.271818161010742,0.73281192779541,0.180385112762451,0.448136091232299,0.191549062728881,0.46430397033691406,0.49710893630981406,0.45367717742919905],\"xaxis\":\"x\",\"yaxis\":\"y\",\"type\":\"histogram\"}],                        {\"template\":{\"data\":{\"scatter\":[{\"type\":\"scatter\"}]}},\"xaxis\":{\"anchor\":\"y\",\"domain\":[0.0,1.0],\"title\":{\"text\":\"Latency (seconds)<br>\"}},\"yaxis\":{\"anchor\":\"x\",\"domain\":[0.0,1.0],\"title\":{\"text\":\"count\"}},\"legend\":{\"tracegroupgap\":0},\"title\":{\"text\":\"<b>Download latency distribution</b>\"},\"barmode\":\"relative\",\"height\":500,\"annotations\":[{\"align\":\"right\",\"showarrow\":false,\"text\":\"<b>Latency:</b> time elapsed between establishing the TCP connection and receiving the HTTP headers.\",\"x\":0,\"xref\":\"paper\",\"y\":-0.25,\"yref\":\"y domain\"}]},                        {\"responsive\": true}                    ).then(function(){\n",
       "                            \n",
       "var gd = document.getElementById('a0e17f21-0dba-4058-b6be-78f8e23e16cd');\n",
       "var x = new MutationObserver(function (mutations, observer) {{\n",
       "        var display = window.getComputedStyle(gd).display;\n",
       "        if (!display || display === 'none') {{\n",
       "            console.log([gd, 'removed!']);\n",
       "            Plotly.purge(gd);\n",
       "            observer.disconnect();\n",
       "        }}\n",
       "}});\n",
       "\n",
       "// Listen for the removal of the full notebook cells\n",
       "var notebookContainer = gd.closest('#notebook-container');\n",
       "if (notebookContainer) {{\n",
       "    x.observe(notebookContainer, {childList: true});\n",
       "}}\n",
       "\n",
       "// Listen for the clearing of the current output cell\n",
       "var outputEl = gd.closest('.output');\n",
       "if (outputEl) {{\n",
       "    x.observe(outputEl, {childList: true});\n",
       "}}\n",
       "\n",
       "                        })                };                });            </script>        </div>"
      ]
     },
     "metadata": {},
     "output_type": "display_data"
    }
   ],
   "source": [
    "fig = px.histogram(\n",
    "    x=headers_df['download_latency'],\n",
    "    template='none',\n",
    "    labels={'x': 'Latency (seconds)<br>'},\n",
    "    height=500,\n",
    "    # experiment with different values for nbins:\n",
    "    # nbins=10,\n",
    "    title='<b>Download latency distribution</b>')\n",
    "\n",
    "fig.add_annotation(\n",
    "    yref='y domain',\n",
    "    xref='paper',\n",
    "    x=0,\n",
    "    y=-0.25,\n",
    "    showarrow=False,\n",
    "    align='right',\n",
    "    text='<b>Latency:</b> time elapsed between establishing the TCP connection and receiving the HTTP headers.')\n",
    "fig"
   ]
  },
  {
   "cell_type": "code",
   "execution_count": null,
   "id": "41cf57b4-0a49-48bf-9c04-cd4dc38bdaad",
   "metadata": {
    "vscode": {
     "languageId": "python"
    }
   },
   "outputs": [
    {
     "data": {
      "application/vnd.plotly.v1+json": {
       "config": {
        "plotlyServerURL": "https://plot.ly"
       },
       "data": [
        {
         "customdata": [
          [
           0,
           1219,
           1220
          ],
          [
           1,
           1218,
           1220
          ],
          [
           2,
           1217,
           1220
          ],
          [
           3,
           1216,
           1220
          ],
          [
           4,
           1215,
           1220
          ],
          [
           5,
           1214,
           1220
          ],
          [
           6,
           1213,
           1220
          ],
          [
           7,
           1212,
           1220
          ],
          [
           8,
           1211,
           1220
          ],
          [
           9,
           1210,
           1220
          ],
          [
           10,
           1209,
           1220
          ],
          [
           11,
           1208,
           1220
          ],
          [
           12,
           1207,
           1220
          ],
          [
           13,
           1206,
           1220
          ],
          [
           14,
           1205,
           1220
          ],
          [
           15,
           1204,
           1220
          ],
          [
           16,
           1203,
           1220
          ],
          [
           17,
           1202,
           1220
          ],
          [
           18,
           1201,
           1220
          ],
          [
           19,
           1200,
           1220
          ],
          [
           20,
           1199,
           1220
          ],
          [
           21,
           1198,
           1220
          ],
          [
           22,
           1197,
           1220
          ],
          [
           23,
           1196,
           1220
          ],
          [
           24,
           1195,
           1220
          ],
          [
           25,
           1194,
           1220
          ],
          [
           26,
           1193,
           1220
          ],
          [
           27,
           1192,
           1220
          ],
          [
           28,
           1191,
           1220
          ],
          [
           29,
           1190,
           1220
          ],
          [
           30,
           1189,
           1220
          ],
          [
           31,
           1188,
           1220
          ],
          [
           32,
           1187,
           1220
          ],
          [
           33,
           1186,
           1220
          ],
          [
           34,
           1185,
           1220
          ],
          [
           35,
           1184,
           1220
          ],
          [
           36,
           1183,
           1220
          ],
          [
           37,
           1182,
           1220
          ],
          [
           38,
           1181,
           1220
          ],
          [
           39,
           1180,
           1220
          ],
          [
           40,
           1179,
           1220
          ],
          [
           41,
           1178,
           1220
          ],
          [
           42,
           1177,
           1220
          ],
          [
           43,
           1176,
           1220
          ],
          [
           44,
           1175,
           1220
          ],
          [
           45,
           1174,
           1220
          ],
          [
           46,
           1173,
           1220
          ],
          [
           47,
           1172,
           1220
          ],
          [
           48,
           1171,
           1220
          ],
          [
           49,
           1170,
           1220
          ],
          [
           50,
           1169,
           1220
          ],
          [
           51,
           1168,
           1220
          ],
          [
           52,
           1167,
           1220
          ],
          [
           53,
           1166,
           1220
          ],
          [
           54,
           1165,
           1220
          ],
          [
           55,
           1164,
           1220
          ],
          [
           56,
           1163,
           1220
          ],
          [
           57,
           1162,
           1220
          ],
          [
           58,
           1161,
           1220
          ],
          [
           59,
           1160,
           1220
          ],
          [
           60,
           1159,
           1220
          ],
          [
           61,
           1158,
           1220
          ],
          [
           62,
           1157,
           1220
          ],
          [
           63,
           1156,
           1220
          ],
          [
           64,
           1155,
           1220
          ],
          [
           65,
           1154,
           1220
          ],
          [
           66,
           1153,
           1220
          ],
          [
           67,
           1152,
           1220
          ],
          [
           68,
           1151,
           1220
          ],
          [
           69,
           1150,
           1220
          ],
          [
           70,
           1149,
           1220
          ],
          [
           71,
           1148,
           1220
          ],
          [
           72,
           1147,
           1220
          ],
          [
           73,
           1146,
           1220
          ],
          [
           74,
           1145,
           1220
          ],
          [
           75,
           1144,
           1220
          ],
          [
           76,
           1143,
           1220
          ],
          [
           77,
           1142,
           1220
          ],
          [
           78,
           1141,
           1220
          ],
          [
           79,
           1140,
           1220
          ],
          [
           80,
           1139,
           1220
          ],
          [
           81,
           1138,
           1220
          ],
          [
           82,
           1137,
           1220
          ],
          [
           83,
           1136,
           1220
          ],
          [
           84,
           1135,
           1220
          ],
          [
           85,
           1134,
           1220
          ],
          [
           86,
           1133,
           1220
          ],
          [
           87,
           1132,
           1220
          ],
          [
           88,
           1131,
           1220
          ],
          [
           89,
           1130,
           1220
          ],
          [
           90,
           1129,
           1220
          ],
          [
           91,
           1128,
           1220
          ],
          [
           92,
           1127,
           1220
          ],
          [
           93,
           1126,
           1220
          ],
          [
           94,
           1125,
           1220
          ],
          [
           95,
           1124,
           1220
          ],
          [
           96,
           1123,
           1220
          ],
          [
           97,
           1122,
           1220
          ],
          [
           98,
           1121,
           1220
          ],
          [
           99,
           1120,
           1220
          ],
          [
           100,
           1119,
           1220
          ],
          [
           101,
           1118,
           1220
          ],
          [
           102,
           1117,
           1220
          ],
          [
           103,
           1116,
           1220
          ],
          [
           104,
           1115,
           1220
          ],
          [
           105,
           1114,
           1220
          ],
          [
           106,
           1113,
           1220
          ],
          [
           107,
           1112,
           1220
          ],
          [
           108,
           1111,
           1220
          ],
          [
           109,
           1110,
           1220
          ],
          [
           110,
           1109,
           1220
          ],
          [
           111,
           1108,
           1220
          ],
          [
           112,
           1107,
           1220
          ],
          [
           113,
           1106,
           1220
          ],
          [
           114,
           1105,
           1220
          ],
          [
           115,
           1104,
           1220
          ],
          [
           116,
           1103,
           1220
          ],
          [
           117,
           1102,
           1220
          ],
          [
           118,
           1101,
           1220
          ],
          [
           119,
           1100,
           1220
          ],
          [
           120,
           1099,
           1220
          ],
          [
           121,
           1098,
           1220
          ],
          [
           122,
           1097,
           1220
          ],
          [
           123,
           1096,
           1220
          ],
          [
           124,
           1095,
           1220
          ],
          [
           125,
           1094,
           1220
          ],
          [
           126,
           1093,
           1220
          ],
          [
           127,
           1092,
           1220
          ],
          [
           128,
           1091,
           1220
          ],
          [
           129,
           1090,
           1220
          ],
          [
           130,
           1089,
           1220
          ],
          [
           131,
           1088,
           1220
          ],
          [
           132,
           1087,
           1220
          ],
          [
           133,
           1086,
           1220
          ],
          [
           134,
           1085,
           1220
          ],
          [
           135,
           1084,
           1220
          ],
          [
           136,
           1083,
           1220
          ],
          [
           137,
           1082,
           1220
          ],
          [
           138,
           1081,
           1220
          ],
          [
           139,
           1080,
           1220
          ],
          [
           140,
           1079,
           1220
          ],
          [
           141,
           1078,
           1220
          ],
          [
           142,
           1077,
           1220
          ],
          [
           143,
           1076,
           1220
          ],
          [
           144,
           1075,
           1220
          ],
          [
           145,
           1074,
           1220
          ],
          [
           146,
           1073,
           1220
          ],
          [
           147,
           1072,
           1220
          ],
          [
           148,
           1071,
           1220
          ],
          [
           149,
           1070,
           1220
          ],
          [
           150,
           1069,
           1220
          ],
          [
           151,
           1068,
           1220
          ],
          [
           152,
           1067,
           1220
          ],
          [
           153,
           1066,
           1220
          ],
          [
           154,
           1065,
           1220
          ],
          [
           155,
           1064,
           1220
          ],
          [
           156,
           1063,
           1220
          ],
          [
           157,
           1062,
           1220
          ],
          [
           158,
           1061,
           1220
          ],
          [
           159,
           1060,
           1220
          ],
          [
           160,
           1059,
           1220
          ],
          [
           161,
           1058,
           1220
          ],
          [
           162,
           1057,
           1220
          ],
          [
           163,
           1056,
           1220
          ],
          [
           164,
           1055,
           1220
          ],
          [
           165,
           1054,
           1220
          ],
          [
           166,
           1053,
           1220
          ],
          [
           167,
           1052,
           1220
          ],
          [
           168,
           1051,
           1220
          ],
          [
           169,
           1050,
           1220
          ],
          [
           170,
           1049,
           1220
          ],
          [
           171,
           1048,
           1220
          ],
          [
           172,
           1047,
           1220
          ],
          [
           173,
           1046,
           1220
          ],
          [
           174,
           1045,
           1220
          ],
          [
           175,
           1044,
           1220
          ],
          [
           176,
           1043,
           1220
          ],
          [
           177,
           1042,
           1220
          ],
          [
           178,
           1041,
           1220
          ],
          [
           179,
           1040,
           1220
          ],
          [
           180,
           1039,
           1220
          ],
          [
           181,
           1038,
           1220
          ],
          [
           182,
           1037,
           1220
          ],
          [
           183,
           1036,
           1220
          ],
          [
           184,
           1035,
           1220
          ],
          [
           185,
           1034,
           1220
          ],
          [
           186,
           1033,
           1220
          ],
          [
           187,
           1032,
           1220
          ],
          [
           188,
           1031,
           1220
          ],
          [
           189,
           1030,
           1220
          ],
          [
           190,
           1029,
           1220
          ],
          [
           191,
           1028,
           1220
          ],
          [
           192,
           1027,
           1220
          ],
          [
           193,
           1026,
           1220
          ],
          [
           194,
           1025,
           1220
          ],
          [
           195,
           1024,
           1220
          ],
          [
           196,
           1023,
           1220
          ],
          [
           197,
           1022,
           1220
          ],
          [
           198,
           1021,
           1220
          ],
          [
           199,
           1020,
           1220
          ],
          [
           200,
           1019,
           1220
          ],
          [
           201,
           1018,
           1220
          ],
          [
           202,
           1017,
           1220
          ],
          [
           203,
           1016,
           1220
          ],
          [
           204,
           1015,
           1220
          ],
          [
           205,
           1014,
           1220
          ],
          [
           206,
           1013,
           1220
          ],
          [
           207,
           1012,
           1220
          ],
          [
           208,
           1011,
           1220
          ],
          [
           209,
           1010,
           1220
          ],
          [
           210,
           1009,
           1220
          ],
          [
           211,
           1008,
           1220
          ],
          [
           212,
           1007,
           1220
          ],
          [
           213,
           1006,
           1220
          ],
          [
           214,
           1005,
           1220
          ],
          [
           215,
           1004,
           1220
          ],
          [
           216,
           1003,
           1220
          ],
          [
           217,
           1002,
           1220
          ],
          [
           218,
           1001,
           1220
          ],
          [
           219,
           1000,
           1220
          ],
          [
           220,
           999,
           1220
          ],
          [
           221,
           998,
           1220
          ],
          [
           222,
           997,
           1220
          ],
          [
           223,
           996,
           1220
          ],
          [
           224,
           995,
           1220
          ],
          [
           225,
           994,
           1220
          ],
          [
           226,
           993,
           1220
          ],
          [
           227,
           992,
           1220
          ],
          [
           228,
           991,
           1220
          ],
          [
           229,
           990,
           1220
          ],
          [
           230,
           989,
           1220
          ],
          [
           231,
           988,
           1220
          ],
          [
           232,
           987,
           1220
          ],
          [
           233,
           986,
           1220
          ],
          [
           234,
           985,
           1220
          ],
          [
           235,
           984,
           1220
          ],
          [
           236,
           983,
           1220
          ],
          [
           237,
           982,
           1220
          ],
          [
           238,
           981,
           1220
          ],
          [
           239,
           980,
           1220
          ],
          [
           240,
           979,
           1220
          ],
          [
           241,
           978,
           1220
          ],
          [
           242,
           977,
           1220
          ],
          [
           243,
           976,
           1220
          ],
          [
           244,
           975,
           1220
          ],
          [
           245,
           974,
           1220
          ],
          [
           246,
           973,
           1220
          ],
          [
           247,
           972,
           1220
          ],
          [
           248,
           971,
           1220
          ],
          [
           249,
           970,
           1220
          ],
          [
           250,
           969,
           1220
          ],
          [
           251,
           968,
           1220
          ],
          [
           252,
           967,
           1220
          ],
          [
           253,
           966,
           1220
          ],
          [
           254,
           965,
           1220
          ],
          [
           255,
           964,
           1220
          ],
          [
           256,
           963,
           1220
          ],
          [
           257,
           962,
           1220
          ],
          [
           258,
           961,
           1220
          ],
          [
           259,
           960,
           1220
          ],
          [
           260,
           959,
           1220
          ],
          [
           261,
           958,
           1220
          ],
          [
           262,
           957,
           1220
          ],
          [
           263,
           956,
           1220
          ],
          [
           264,
           955,
           1220
          ],
          [
           265,
           954,
           1220
          ],
          [
           266,
           953,
           1220
          ],
          [
           267,
           952,
           1220
          ],
          [
           268,
           951,
           1220
          ],
          [
           269,
           950,
           1220
          ],
          [
           270,
           949,
           1220
          ],
          [
           271,
           948,
           1220
          ],
          [
           272,
           947,
           1220
          ],
          [
           273,
           946,
           1220
          ],
          [
           274,
           945,
           1220
          ],
          [
           275,
           944,
           1220
          ],
          [
           276,
           943,
           1220
          ],
          [
           277,
           942,
           1220
          ],
          [
           278,
           941,
           1220
          ],
          [
           279,
           940,
           1220
          ],
          [
           280,
           939,
           1220
          ],
          [
           281,
           938,
           1220
          ],
          [
           282,
           937,
           1220
          ],
          [
           283,
           936,
           1220
          ],
          [
           284,
           935,
           1220
          ],
          [
           285,
           934,
           1220
          ],
          [
           286,
           933,
           1220
          ],
          [
           287,
           932,
           1220
          ],
          [
           288,
           931,
           1220
          ],
          [
           289,
           930,
           1220
          ],
          [
           290,
           929,
           1220
          ],
          [
           291,
           928,
           1220
          ],
          [
           292,
           927,
           1220
          ],
          [
           293,
           926,
           1220
          ],
          [
           294,
           925,
           1220
          ],
          [
           295,
           924,
           1220
          ],
          [
           296,
           923,
           1220
          ],
          [
           297,
           922,
           1220
          ],
          [
           298,
           921,
           1220
          ],
          [
           299,
           920,
           1220
          ],
          [
           300,
           919,
           1220
          ],
          [
           301,
           918,
           1220
          ],
          [
           302,
           917,
           1220
          ],
          [
           303,
           916,
           1220
          ],
          [
           304,
           915,
           1220
          ],
          [
           305,
           914,
           1220
          ],
          [
           306,
           913,
           1220
          ],
          [
           307,
           912,
           1220
          ],
          [
           308,
           911,
           1220
          ],
          [
           309,
           910,
           1220
          ],
          [
           310,
           909,
           1220
          ],
          [
           311,
           908,
           1220
          ],
          [
           312,
           907,
           1220
          ],
          [
           313,
           906,
           1220
          ],
          [
           314,
           905,
           1220
          ],
          [
           315,
           904,
           1220
          ],
          [
           316,
           903,
           1220
          ],
          [
           317,
           902,
           1220
          ],
          [
           318,
           901,
           1220
          ],
          [
           319,
           900,
           1220
          ],
          [
           320,
           899,
           1220
          ],
          [
           321,
           898,
           1220
          ],
          [
           322,
           897,
           1220
          ],
          [
           323,
           896,
           1220
          ],
          [
           324,
           895,
           1220
          ],
          [
           325,
           894,
           1220
          ],
          [
           326,
           893,
           1220
          ],
          [
           327,
           892,
           1220
          ],
          [
           328,
           891,
           1220
          ],
          [
           329,
           890,
           1220
          ],
          [
           330,
           889,
           1220
          ],
          [
           331,
           888,
           1220
          ],
          [
           332,
           887,
           1220
          ],
          [
           333,
           886,
           1220
          ],
          [
           334,
           885,
           1220
          ],
          [
           335,
           884,
           1220
          ],
          [
           336,
           883,
           1220
          ],
          [
           337,
           882,
           1220
          ],
          [
           338,
           881,
           1220
          ],
          [
           339,
           880,
           1220
          ],
          [
           340,
           879,
           1220
          ],
          [
           341,
           878,
           1220
          ],
          [
           342,
           877,
           1220
          ],
          [
           343,
           876,
           1220
          ],
          [
           344,
           875,
           1220
          ],
          [
           345,
           874,
           1220
          ],
          [
           346,
           873,
           1220
          ],
          [
           347,
           872,
           1220
          ],
          [
           348,
           871,
           1220
          ],
          [
           349,
           870,
           1220
          ],
          [
           350,
           869,
           1220
          ],
          [
           351,
           868,
           1220
          ],
          [
           352,
           867,
           1220
          ],
          [
           353,
           866,
           1220
          ],
          [
           354,
           865,
           1220
          ],
          [
           355,
           864,
           1220
          ],
          [
           356,
           863,
           1220
          ],
          [
           357,
           862,
           1220
          ],
          [
           358,
           861,
           1220
          ],
          [
           359,
           860,
           1220
          ],
          [
           360,
           859,
           1220
          ],
          [
           361,
           858,
           1220
          ],
          [
           362,
           857,
           1220
          ],
          [
           363,
           856,
           1220
          ],
          [
           364,
           855,
           1220
          ],
          [
           365,
           854,
           1220
          ],
          [
           366,
           853,
           1220
          ],
          [
           367,
           852,
           1220
          ],
          [
           368,
           851,
           1220
          ],
          [
           369,
           850,
           1220
          ],
          [
           370,
           849,
           1220
          ],
          [
           371,
           848,
           1220
          ],
          [
           372,
           847,
           1220
          ],
          [
           373,
           846,
           1220
          ],
          [
           374,
           845,
           1220
          ],
          [
           375,
           844,
           1220
          ],
          [
           376,
           843,
           1220
          ],
          [
           377,
           842,
           1220
          ],
          [
           378,
           841,
           1220
          ],
          [
           379,
           840,
           1220
          ],
          [
           380,
           839,
           1220
          ],
          [
           381,
           838,
           1220
          ],
          [
           382,
           837,
           1220
          ],
          [
           383,
           836,
           1220
          ],
          [
           384,
           835,
           1220
          ],
          [
           385,
           834,
           1220
          ],
          [
           386,
           833,
           1220
          ],
          [
           387,
           832,
           1220
          ],
          [
           388,
           831,
           1220
          ],
          [
           389,
           830,
           1220
          ],
          [
           390,
           829,
           1220
          ],
          [
           391,
           828,
           1220
          ],
          [
           392,
           827,
           1220
          ],
          [
           393,
           826,
           1220
          ],
          [
           394,
           825,
           1220
          ],
          [
           395,
           824,
           1220
          ],
          [
           396,
           823,
           1220
          ],
          [
           397,
           822,
           1220
          ],
          [
           398,
           821,
           1220
          ],
          [
           399,
           820,
           1220
          ],
          [
           400,
           819,
           1220
          ],
          [
           401,
           818,
           1220
          ],
          [
           402,
           817,
           1220
          ],
          [
           403,
           816,
           1220
          ],
          [
           404,
           815,
           1220
          ],
          [
           405,
           814,
           1220
          ],
          [
           406,
           813,
           1220
          ],
          [
           407,
           812,
           1220
          ],
          [
           408,
           811,
           1220
          ],
          [
           409,
           810,
           1220
          ],
          [
           410,
           809,
           1220
          ],
          [
           411,
           808,
           1220
          ],
          [
           412,
           807,
           1220
          ],
          [
           413,
           806,
           1220
          ],
          [
           414,
           805,
           1220
          ],
          [
           415,
           804,
           1220
          ],
          [
           416,
           803,
           1220
          ],
          [
           417,
           802,
           1220
          ],
          [
           418,
           801,
           1220
          ],
          [
           419,
           800,
           1220
          ],
          [
           420,
           799,
           1220
          ],
          [
           421,
           798,
           1220
          ],
          [
           422,
           797,
           1220
          ],
          [
           423,
           796,
           1220
          ],
          [
           424,
           795,
           1220
          ],
          [
           425,
           794,
           1220
          ],
          [
           426,
           793,
           1220
          ],
          [
           427,
           792,
           1220
          ],
          [
           428,
           791,
           1220
          ],
          [
           429,
           790,
           1220
          ],
          [
           430,
           789,
           1220
          ],
          [
           431,
           788,
           1220
          ],
          [
           432,
           787,
           1220
          ],
          [
           433,
           786,
           1220
          ],
          [
           434,
           785,
           1220
          ],
          [
           435,
           784,
           1220
          ],
          [
           436,
           783,
           1220
          ],
          [
           437,
           782,
           1220
          ],
          [
           438,
           781,
           1220
          ],
          [
           439,
           780,
           1220
          ],
          [
           440,
           779,
           1220
          ],
          [
           441,
           778,
           1220
          ],
          [
           442,
           777,
           1220
          ],
          [
           443,
           776,
           1220
          ],
          [
           444,
           775,
           1220
          ],
          [
           445,
           774,
           1220
          ],
          [
           446,
           773,
           1220
          ],
          [
           447,
           772,
           1220
          ],
          [
           448,
           771,
           1220
          ],
          [
           449,
           770,
           1220
          ],
          [
           450,
           769,
           1220
          ],
          [
           451,
           768,
           1220
          ],
          [
           452,
           767,
           1220
          ],
          [
           453,
           766,
           1220
          ],
          [
           454,
           765,
           1220
          ],
          [
           455,
           764,
           1220
          ],
          [
           456,
           763,
           1220
          ],
          [
           457,
           762,
           1220
          ],
          [
           458,
           761,
           1220
          ],
          [
           459,
           760,
           1220
          ],
          [
           460,
           759,
           1220
          ],
          [
           461,
           758,
           1220
          ],
          [
           462,
           757,
           1220
          ],
          [
           463,
           756,
           1220
          ],
          [
           464,
           755,
           1220
          ],
          [
           465,
           754,
           1220
          ],
          [
           466,
           753,
           1220
          ],
          [
           467,
           752,
           1220
          ],
          [
           468,
           751,
           1220
          ],
          [
           469,
           750,
           1220
          ],
          [
           470,
           749,
           1220
          ],
          [
           471,
           748,
           1220
          ],
          [
           472,
           747,
           1220
          ],
          [
           473,
           746,
           1220
          ],
          [
           474,
           745,
           1220
          ],
          [
           475,
           744,
           1220
          ],
          [
           476,
           743,
           1220
          ],
          [
           477,
           742,
           1220
          ],
          [
           478,
           741,
           1220
          ],
          [
           479,
           740,
           1220
          ],
          [
           480,
           739,
           1220
          ],
          [
           481,
           738,
           1220
          ],
          [
           482,
           737,
           1220
          ],
          [
           483,
           736,
           1220
          ],
          [
           484,
           735,
           1220
          ],
          [
           485,
           734,
           1220
          ],
          [
           486,
           733,
           1220
          ],
          [
           487,
           732,
           1220
          ],
          [
           488,
           731,
           1220
          ],
          [
           489,
           730,
           1220
          ],
          [
           490,
           729,
           1220
          ],
          [
           491,
           728,
           1220
          ],
          [
           492,
           727,
           1220
          ],
          [
           493,
           726,
           1220
          ],
          [
           494,
           725,
           1220
          ],
          [
           495,
           724,
           1220
          ],
          [
           496,
           723,
           1220
          ],
          [
           497,
           722,
           1220
          ],
          [
           498,
           721,
           1220
          ],
          [
           499,
           720,
           1220
          ],
          [
           500,
           719,
           1220
          ],
          [
           501,
           718,
           1220
          ],
          [
           502,
           717,
           1220
          ],
          [
           503,
           716,
           1220
          ],
          [
           504,
           715,
           1220
          ],
          [
           505,
           714,
           1220
          ],
          [
           506,
           713,
           1220
          ],
          [
           507,
           712,
           1220
          ],
          [
           508,
           711,
           1220
          ],
          [
           509,
           710,
           1220
          ],
          [
           510,
           709,
           1220
          ],
          [
           511,
           708,
           1220
          ],
          [
           512,
           707,
           1220
          ],
          [
           513,
           706,
           1220
          ],
          [
           514,
           705,
           1220
          ],
          [
           515,
           704,
           1220
          ],
          [
           516,
           703,
           1220
          ],
          [
           517,
           702,
           1220
          ],
          [
           518,
           701,
           1220
          ],
          [
           519,
           700,
           1220
          ],
          [
           520,
           699,
           1220
          ],
          [
           521,
           698,
           1220
          ],
          [
           522,
           697,
           1220
          ],
          [
           523,
           696,
           1220
          ],
          [
           524,
           695,
           1220
          ],
          [
           525,
           694,
           1220
          ],
          [
           526,
           693,
           1220
          ],
          [
           527,
           692,
           1220
          ],
          [
           528,
           691,
           1220
          ],
          [
           529,
           690,
           1220
          ],
          [
           530,
           689,
           1220
          ],
          [
           531,
           688,
           1220
          ],
          [
           532,
           687,
           1220
          ],
          [
           533,
           686,
           1220
          ],
          [
           534,
           685,
           1220
          ],
          [
           535,
           684,
           1220
          ],
          [
           536,
           683,
           1220
          ],
          [
           537,
           682,
           1220
          ],
          [
           538,
           681,
           1220
          ],
          [
           539,
           680,
           1220
          ],
          [
           540,
           679,
           1220
          ],
          [
           541,
           678,
           1220
          ],
          [
           542,
           677,
           1220
          ],
          [
           543,
           676,
           1220
          ],
          [
           544,
           675,
           1220
          ],
          [
           545,
           674,
           1220
          ],
          [
           546,
           673,
           1220
          ],
          [
           547,
           672,
           1220
          ],
          [
           548,
           671,
           1220
          ],
          [
           549,
           670,
           1220
          ],
          [
           550,
           669,
           1220
          ],
          [
           551,
           668,
           1220
          ],
          [
           552,
           667,
           1220
          ],
          [
           553,
           666,
           1220
          ],
          [
           554,
           665,
           1220
          ],
          [
           555,
           664,
           1220
          ],
          [
           556,
           663,
           1220
          ],
          [
           557,
           662,
           1220
          ],
          [
           558,
           661,
           1220
          ],
          [
           559,
           660,
           1220
          ],
          [
           560,
           659,
           1220
          ],
          [
           561,
           658,
           1220
          ],
          [
           562,
           657,
           1220
          ],
          [
           563,
           656,
           1220
          ],
          [
           564,
           655,
           1220
          ],
          [
           565,
           654,
           1220
          ],
          [
           566,
           653,
           1220
          ],
          [
           567,
           652,
           1220
          ],
          [
           568,
           651,
           1220
          ],
          [
           569,
           650,
           1220
          ],
          [
           570,
           649,
           1220
          ],
          [
           571,
           648,
           1220
          ],
          [
           572,
           647,
           1220
          ],
          [
           573,
           646,
           1220
          ],
          [
           574,
           645,
           1220
          ],
          [
           575,
           644,
           1220
          ],
          [
           576,
           643,
           1220
          ],
          [
           577,
           642,
           1220
          ],
          [
           578,
           641,
           1220
          ],
          [
           579,
           640,
           1220
          ],
          [
           580,
           639,
           1220
          ],
          [
           581,
           638,
           1220
          ],
          [
           582,
           637,
           1220
          ],
          [
           583,
           636,
           1220
          ],
          [
           584,
           635,
           1220
          ],
          [
           585,
           634,
           1220
          ],
          [
           586,
           633,
           1220
          ],
          [
           587,
           632,
           1220
          ],
          [
           588,
           631,
           1220
          ],
          [
           589,
           630,
           1220
          ],
          [
           590,
           629,
           1220
          ],
          [
           591,
           628,
           1220
          ],
          [
           592,
           627,
           1220
          ],
          [
           593,
           626,
           1220
          ],
          [
           594,
           625,
           1220
          ],
          [
           595,
           624,
           1220
          ],
          [
           596,
           623,
           1220
          ],
          [
           597,
           622,
           1220
          ],
          [
           598,
           621,
           1220
          ],
          [
           599,
           620,
           1220
          ],
          [
           600,
           619,
           1220
          ],
          [
           601,
           618,
           1220
          ],
          [
           602,
           617,
           1220
          ],
          [
           603,
           616,
           1220
          ],
          [
           604,
           615,
           1220
          ],
          [
           605,
           614,
           1220
          ],
          [
           606,
           613,
           1220
          ],
          [
           607,
           612,
           1220
          ],
          [
           608,
           611,
           1220
          ],
          [
           609,
           610,
           1220
          ],
          [
           610,
           609,
           1220
          ],
          [
           611,
           608,
           1220
          ],
          [
           612,
           607,
           1220
          ],
          [
           613,
           606,
           1220
          ],
          [
           614,
           605,
           1220
          ],
          [
           615,
           604,
           1220
          ],
          [
           616,
           603,
           1220
          ],
          [
           617,
           602,
           1220
          ],
          [
           618,
           601,
           1220
          ],
          [
           619,
           600,
           1220
          ],
          [
           620,
           599,
           1220
          ],
          [
           621,
           598,
           1220
          ],
          [
           622,
           597,
           1220
          ],
          [
           623,
           596,
           1220
          ],
          [
           624,
           595,
           1220
          ],
          [
           625,
           594,
           1220
          ],
          [
           626,
           593,
           1220
          ],
          [
           627,
           592,
           1220
          ],
          [
           628,
           591,
           1220
          ],
          [
           629,
           590,
           1220
          ],
          [
           630,
           589,
           1220
          ],
          [
           631,
           588,
           1220
          ],
          [
           632,
           587,
           1220
          ],
          [
           633,
           586,
           1220
          ],
          [
           634,
           585,
           1220
          ],
          [
           635,
           584,
           1220
          ],
          [
           636,
           583,
           1220
          ],
          [
           637,
           582,
           1220
          ],
          [
           638,
           581,
           1220
          ],
          [
           639,
           580,
           1220
          ],
          [
           640,
           579,
           1220
          ],
          [
           641,
           578,
           1220
          ],
          [
           642,
           577,
           1220
          ],
          [
           643,
           576,
           1220
          ],
          [
           644,
           575,
           1220
          ],
          [
           645,
           574,
           1220
          ],
          [
           646,
           573,
           1220
          ],
          [
           647,
           572,
           1220
          ],
          [
           648,
           571,
           1220
          ],
          [
           649,
           570,
           1220
          ],
          [
           650,
           569,
           1220
          ],
          [
           651,
           568,
           1220
          ],
          [
           652,
           567,
           1220
          ],
          [
           653,
           566,
           1220
          ],
          [
           654,
           565,
           1220
          ],
          [
           655,
           564,
           1220
          ],
          [
           656,
           563,
           1220
          ],
          [
           657,
           562,
           1220
          ],
          [
           658,
           561,
           1220
          ],
          [
           659,
           560,
           1220
          ],
          [
           660,
           559,
           1220
          ],
          [
           661,
           558,
           1220
          ],
          [
           662,
           557,
           1220
          ],
          [
           663,
           556,
           1220
          ],
          [
           664,
           555,
           1220
          ],
          [
           665,
           554,
           1220
          ],
          [
           666,
           553,
           1220
          ],
          [
           667,
           552,
           1220
          ],
          [
           668,
           551,
           1220
          ],
          [
           669,
           550,
           1220
          ],
          [
           670,
           549,
           1220
          ],
          [
           671,
           548,
           1220
          ],
          [
           672,
           547,
           1220
          ],
          [
           673,
           546,
           1220
          ],
          [
           674,
           545,
           1220
          ],
          [
           675,
           544,
           1220
          ],
          [
           676,
           543,
           1220
          ],
          [
           677,
           542,
           1220
          ],
          [
           678,
           541,
           1220
          ],
          [
           679,
           540,
           1220
          ],
          [
           680,
           539,
           1220
          ],
          [
           681,
           538,
           1220
          ],
          [
           682,
           537,
           1220
          ],
          [
           683,
           536,
           1220
          ],
          [
           684,
           535,
           1220
          ],
          [
           685,
           534,
           1220
          ],
          [
           686,
           533,
           1220
          ],
          [
           687,
           532,
           1220
          ],
          [
           688,
           531,
           1220
          ],
          [
           689,
           530,
           1220
          ],
          [
           690,
           529,
           1220
          ],
          [
           691,
           528,
           1220
          ],
          [
           692,
           527,
           1220
          ],
          [
           693,
           526,
           1220
          ],
          [
           694,
           525,
           1220
          ],
          [
           695,
           524,
           1220
          ],
          [
           696,
           523,
           1220
          ],
          [
           697,
           522,
           1220
          ],
          [
           698,
           521,
           1220
          ],
          [
           699,
           520,
           1220
          ],
          [
           700,
           519,
           1220
          ],
          [
           701,
           518,
           1220
          ],
          [
           702,
           517,
           1220
          ],
          [
           703,
           516,
           1220
          ],
          [
           704,
           515,
           1220
          ],
          [
           705,
           514,
           1220
          ],
          [
           706,
           513,
           1220
          ],
          [
           707,
           512,
           1220
          ],
          [
           708,
           511,
           1220
          ],
          [
           709,
           510,
           1220
          ],
          [
           710,
           509,
           1220
          ],
          [
           711,
           508,
           1220
          ],
          [
           712,
           507,
           1220
          ],
          [
           713,
           506,
           1220
          ],
          [
           714,
           505,
           1220
          ],
          [
           715,
           504,
           1220
          ],
          [
           716,
           503,
           1220
          ],
          [
           717,
           502,
           1220
          ],
          [
           718,
           501,
           1220
          ],
          [
           719,
           500,
           1220
          ],
          [
           720,
           499,
           1220
          ],
          [
           721,
           498,
           1220
          ],
          [
           722,
           497,
           1220
          ],
          [
           723,
           496,
           1220
          ],
          [
           724,
           495,
           1220
          ],
          [
           725,
           494,
           1220
          ],
          [
           726,
           493,
           1220
          ],
          [
           727,
           492,
           1220
          ],
          [
           728,
           491,
           1220
          ],
          [
           729,
           490,
           1220
          ],
          [
           730,
           489,
           1220
          ],
          [
           731,
           488,
           1220
          ],
          [
           732,
           487,
           1220
          ],
          [
           733,
           486,
           1220
          ],
          [
           734,
           485,
           1220
          ],
          [
           735,
           484,
           1220
          ],
          [
           736,
           483,
           1220
          ],
          [
           737,
           482,
           1220
          ],
          [
           738,
           481,
           1220
          ],
          [
           739,
           480,
           1220
          ],
          [
           740,
           479,
           1220
          ],
          [
           741,
           478,
           1220
          ],
          [
           742,
           477,
           1220
          ],
          [
           743,
           476,
           1220
          ],
          [
           744,
           475,
           1220
          ],
          [
           745,
           474,
           1220
          ],
          [
           746,
           473,
           1220
          ],
          [
           747,
           472,
           1220
          ],
          [
           748,
           471,
           1220
          ],
          [
           749,
           470,
           1220
          ],
          [
           750,
           469,
           1220
          ],
          [
           751,
           468,
           1220
          ],
          [
           752,
           467,
           1220
          ],
          [
           753,
           466,
           1220
          ],
          [
           754,
           465,
           1220
          ],
          [
           755,
           464,
           1220
          ],
          [
           756,
           463,
           1220
          ],
          [
           757,
           462,
           1220
          ],
          [
           758,
           461,
           1220
          ],
          [
           759,
           460,
           1220
          ],
          [
           760,
           459,
           1220
          ],
          [
           761,
           458,
           1220
          ],
          [
           762,
           457,
           1220
          ],
          [
           763,
           456,
           1220
          ],
          [
           764,
           455,
           1220
          ],
          [
           765,
           454,
           1220
          ],
          [
           766,
           453,
           1220
          ],
          [
           767,
           452,
           1220
          ],
          [
           768,
           451,
           1220
          ],
          [
           769,
           450,
           1220
          ],
          [
           770,
           449,
           1220
          ],
          [
           771,
           448,
           1220
          ],
          [
           772,
           447,
           1220
          ],
          [
           773,
           446,
           1220
          ],
          [
           774,
           445,
           1220
          ],
          [
           775,
           444,
           1220
          ],
          [
           776,
           443,
           1220
          ],
          [
           777,
           442,
           1220
          ],
          [
           778,
           441,
           1220
          ],
          [
           779,
           440,
           1220
          ],
          [
           780,
           439,
           1220
          ],
          [
           781,
           438,
           1220
          ],
          [
           782,
           437,
           1220
          ],
          [
           783,
           436,
           1220
          ],
          [
           784,
           435,
           1220
          ],
          [
           785,
           434,
           1220
          ],
          [
           786,
           433,
           1220
          ],
          [
           787,
           432,
           1220
          ],
          [
           788,
           431,
           1220
          ],
          [
           789,
           430,
           1220
          ],
          [
           790,
           429,
           1220
          ],
          [
           791,
           428,
           1220
          ],
          [
           792,
           427,
           1220
          ],
          [
           793,
           426,
           1220
          ],
          [
           794,
           425,
           1220
          ],
          [
           795,
           424,
           1220
          ],
          [
           796,
           423,
           1220
          ],
          [
           797,
           422,
           1220
          ],
          [
           798,
           421,
           1220
          ],
          [
           799,
           420,
           1220
          ],
          [
           800,
           419,
           1220
          ],
          [
           801,
           418,
           1220
          ],
          [
           802,
           417,
           1220
          ],
          [
           803,
           416,
           1220
          ],
          [
           804,
           415,
           1220
          ],
          [
           805,
           414,
           1220
          ],
          [
           806,
           413,
           1220
          ],
          [
           807,
           412,
           1220
          ],
          [
           808,
           411,
           1220
          ],
          [
           809,
           410,
           1220
          ],
          [
           810,
           409,
           1220
          ],
          [
           811,
           408,
           1220
          ],
          [
           812,
           407,
           1220
          ],
          [
           813,
           406,
           1220
          ],
          [
           814,
           405,
           1220
          ],
          [
           815,
           404,
           1220
          ],
          [
           816,
           403,
           1220
          ],
          [
           817,
           402,
           1220
          ],
          [
           818,
           401,
           1220
          ],
          [
           819,
           400,
           1220
          ],
          [
           820,
           399,
           1220
          ],
          [
           821,
           398,
           1220
          ],
          [
           822,
           397,
           1220
          ],
          [
           823,
           396,
           1220
          ],
          [
           824,
           395,
           1220
          ],
          [
           825,
           394,
           1220
          ],
          [
           826,
           393,
           1220
          ],
          [
           827,
           392,
           1220
          ],
          [
           828,
           391,
           1220
          ],
          [
           829,
           390,
           1220
          ],
          [
           830,
           389,
           1220
          ],
          [
           831,
           388,
           1220
          ],
          [
           832,
           387,
           1220
          ],
          [
           833,
           386,
           1220
          ],
          [
           834,
           385,
           1220
          ],
          [
           835,
           384,
           1220
          ],
          [
           836,
           383,
           1220
          ],
          [
           837,
           382,
           1220
          ],
          [
           838,
           381,
           1220
          ],
          [
           839,
           380,
           1220
          ],
          [
           840,
           379,
           1220
          ],
          [
           841,
           378,
           1220
          ],
          [
           842,
           377,
           1220
          ],
          [
           843,
           376,
           1220
          ],
          [
           844,
           375,
           1220
          ],
          [
           845,
           374,
           1220
          ],
          [
           846,
           373,
           1220
          ],
          [
           847,
           372,
           1220
          ],
          [
           848,
           371,
           1220
          ],
          [
           849,
           370,
           1220
          ],
          [
           850,
           369,
           1220
          ],
          [
           851,
           368,
           1220
          ],
          [
           852,
           367,
           1220
          ],
          [
           853,
           366,
           1220
          ],
          [
           854,
           365,
           1220
          ],
          [
           855,
           364,
           1220
          ],
          [
           856,
           363,
           1220
          ],
          [
           857,
           362,
           1220
          ],
          [
           858,
           361,
           1220
          ],
          [
           859,
           360,
           1220
          ],
          [
           860,
           359,
           1220
          ],
          [
           861,
           358,
           1220
          ],
          [
           862,
           357,
           1220
          ],
          [
           863,
           356,
           1220
          ],
          [
           864,
           355,
           1220
          ],
          [
           865,
           354,
           1220
          ],
          [
           866,
           353,
           1220
          ],
          [
           867,
           352,
           1220
          ],
          [
           868,
           351,
           1220
          ],
          [
           869,
           350,
           1220
          ],
          [
           870,
           349,
           1220
          ],
          [
           871,
           348,
           1220
          ],
          [
           872,
           347,
           1220
          ],
          [
           873,
           346,
           1220
          ],
          [
           874,
           345,
           1220
          ],
          [
           875,
           344,
           1220
          ],
          [
           876,
           343,
           1220
          ],
          [
           877,
           342,
           1220
          ],
          [
           878,
           341,
           1220
          ],
          [
           879,
           340,
           1220
          ],
          [
           880,
           339,
           1220
          ],
          [
           881,
           338,
           1220
          ],
          [
           882,
           337,
           1220
          ],
          [
           883,
           336,
           1220
          ],
          [
           884,
           335,
           1220
          ],
          [
           885,
           334,
           1220
          ],
          [
           886,
           333,
           1220
          ],
          [
           887,
           332,
           1220
          ],
          [
           888,
           331,
           1220
          ],
          [
           889,
           330,
           1220
          ],
          [
           890,
           329,
           1220
          ],
          [
           891,
           328,
           1220
          ],
          [
           892,
           327,
           1220
          ],
          [
           893,
           326,
           1220
          ],
          [
           894,
           325,
           1220
          ],
          [
           895,
           324,
           1220
          ],
          [
           896,
           323,
           1220
          ],
          [
           897,
           322,
           1220
          ],
          [
           898,
           321,
           1220
          ],
          [
           899,
           320,
           1220
          ],
          [
           900,
           319,
           1220
          ],
          [
           901,
           318,
           1220
          ],
          [
           902,
           317,
           1220
          ],
          [
           903,
           316,
           1220
          ],
          [
           904,
           315,
           1220
          ],
          [
           905,
           314,
           1220
          ],
          [
           906,
           313,
           1220
          ],
          [
           907,
           312,
           1220
          ],
          [
           908,
           311,
           1220
          ],
          [
           909,
           310,
           1220
          ],
          [
           910,
           309,
           1220
          ],
          [
           911,
           308,
           1220
          ],
          [
           912,
           307,
           1220
          ],
          [
           913,
           306,
           1220
          ],
          [
           914,
           305,
           1220
          ],
          [
           915,
           304,
           1220
          ],
          [
           916,
           303,
           1220
          ],
          [
           917,
           302,
           1220
          ],
          [
           918,
           301,
           1220
          ],
          [
           919,
           300,
           1220
          ],
          [
           920,
           299,
           1220
          ],
          [
           921,
           298,
           1220
          ],
          [
           922,
           297,
           1220
          ],
          [
           923,
           296,
           1220
          ],
          [
           924,
           295,
           1220
          ],
          [
           925,
           294,
           1220
          ],
          [
           926,
           293,
           1220
          ],
          [
           927,
           292,
           1220
          ],
          [
           928,
           291,
           1220
          ],
          [
           929,
           290,
           1220
          ],
          [
           930,
           289,
           1220
          ],
          [
           931,
           288,
           1220
          ],
          [
           932,
           287,
           1220
          ],
          [
           933,
           286,
           1220
          ],
          [
           934,
           285,
           1220
          ],
          [
           935,
           284,
           1220
          ],
          [
           936,
           283,
           1220
          ],
          [
           937,
           282,
           1220
          ],
          [
           938,
           281,
           1220
          ],
          [
           939,
           280,
           1220
          ],
          [
           940,
           279,
           1220
          ],
          [
           941,
           278,
           1220
          ],
          [
           942,
           277,
           1220
          ],
          [
           943,
           276,
           1220
          ],
          [
           944,
           275,
           1220
          ],
          [
           945,
           274,
           1220
          ],
          [
           946,
           273,
           1220
          ],
          [
           947,
           272,
           1220
          ],
          [
           948,
           271,
           1220
          ],
          [
           949,
           270,
           1220
          ],
          [
           950,
           269,
           1220
          ],
          [
           951,
           268,
           1220
          ],
          [
           952,
           267,
           1220
          ],
          [
           953,
           266,
           1220
          ],
          [
           954,
           265,
           1220
          ],
          [
           955,
           264,
           1220
          ],
          [
           956,
           263,
           1220
          ],
          [
           957,
           262,
           1220
          ],
          [
           958,
           261,
           1220
          ],
          [
           959,
           260,
           1220
          ],
          [
           960,
           259,
           1220
          ],
          [
           961,
           258,
           1220
          ],
          [
           962,
           257,
           1220
          ],
          [
           963,
           256,
           1220
          ],
          [
           964,
           255,
           1220
          ],
          [
           965,
           254,
           1220
          ],
          [
           966,
           253,
           1220
          ],
          [
           967,
           252,
           1220
          ],
          [
           968,
           251,
           1220
          ],
          [
           969,
           250,
           1220
          ],
          [
           970,
           249,
           1220
          ],
          [
           971,
           248,
           1220
          ],
          [
           972,
           247,
           1220
          ],
          [
           973,
           246,
           1220
          ],
          [
           974,
           245,
           1220
          ],
          [
           975,
           244,
           1220
          ],
          [
           976,
           243,
           1220
          ],
          [
           977,
           242,
           1220
          ],
          [
           978,
           241,
           1220
          ],
          [
           979,
           240,
           1220
          ],
          [
           980,
           239,
           1220
          ],
          [
           981,
           238,
           1220
          ],
          [
           982,
           237,
           1220
          ],
          [
           983,
           236,
           1220
          ],
          [
           984,
           235,
           1220
          ],
          [
           985,
           234,
           1220
          ],
          [
           986,
           233,
           1220
          ],
          [
           987,
           232,
           1220
          ],
          [
           988,
           231,
           1220
          ],
          [
           989,
           230,
           1220
          ],
          [
           990,
           229,
           1220
          ],
          [
           991,
           228,
           1220
          ],
          [
           992,
           227,
           1220
          ],
          [
           993,
           226,
           1220
          ],
          [
           994,
           225,
           1220
          ],
          [
           995,
           224,
           1220
          ],
          [
           996,
           223,
           1220
          ],
          [
           997,
           222,
           1220
          ],
          [
           998,
           221,
           1220
          ],
          [
           999,
           220,
           1220
          ],
          [
           1000,
           219,
           1220
          ],
          [
           1001,
           218,
           1220
          ],
          [
           1002,
           217,
           1220
          ],
          [
           1003,
           216,
           1220
          ],
          [
           1004,
           215,
           1220
          ],
          [
           1005,
           214,
           1220
          ],
          [
           1006,
           213,
           1220
          ],
          [
           1007,
           212,
           1220
          ],
          [
           1008,
           211,
           1220
          ],
          [
           1009,
           210,
           1220
          ],
          [
           1010,
           209,
           1220
          ],
          [
           1011,
           208,
           1220
          ],
          [
           1012,
           207,
           1220
          ],
          [
           1013,
           206,
           1220
          ],
          [
           1014,
           205,
           1220
          ],
          [
           1015,
           204,
           1220
          ],
          [
           1016,
           203,
           1220
          ],
          [
           1017,
           202,
           1220
          ],
          [
           1018,
           201,
           1220
          ],
          [
           1019,
           200,
           1220
          ],
          [
           1020,
           199,
           1220
          ],
          [
           1021,
           198,
           1220
          ],
          [
           1022,
           197,
           1220
          ],
          [
           1023,
           196,
           1220
          ],
          [
           1024,
           195,
           1220
          ],
          [
           1025,
           194,
           1220
          ],
          [
           1026,
           193,
           1220
          ],
          [
           1027,
           192,
           1220
          ],
          [
           1028,
           191,
           1220
          ],
          [
           1029,
           190,
           1220
          ],
          [
           1030,
           189,
           1220
          ],
          [
           1031,
           188,
           1220
          ],
          [
           1032,
           187,
           1220
          ],
          [
           1033,
           186,
           1220
          ],
          [
           1034,
           185,
           1220
          ],
          [
           1035,
           184,
           1220
          ],
          [
           1036,
           183,
           1220
          ],
          [
           1037,
           182,
           1220
          ],
          [
           1038,
           181,
           1220
          ],
          [
           1039,
           180,
           1220
          ],
          [
           1040,
           179,
           1220
          ],
          [
           1041,
           178,
           1220
          ],
          [
           1042,
           177,
           1220
          ],
          [
           1043,
           176,
           1220
          ],
          [
           1044,
           175,
           1220
          ],
          [
           1045,
           174,
           1220
          ],
          [
           1046,
           173,
           1220
          ],
          [
           1047,
           172,
           1220
          ],
          [
           1048,
           171,
           1220
          ],
          [
           1049,
           170,
           1220
          ],
          [
           1050,
           169,
           1220
          ],
          [
           1051,
           168,
           1220
          ],
          [
           1052,
           167,
           1220
          ],
          [
           1053,
           166,
           1220
          ],
          [
           1054,
           165,
           1220
          ],
          [
           1055,
           164,
           1220
          ],
          [
           1056,
           163,
           1220
          ],
          [
           1057,
           162,
           1220
          ],
          [
           1058,
           161,
           1220
          ],
          [
           1059,
           160,
           1220
          ],
          [
           1060,
           159,
           1220
          ],
          [
           1061,
           158,
           1220
          ],
          [
           1062,
           157,
           1220
          ],
          [
           1063,
           156,
           1220
          ],
          [
           1064,
           155,
           1220
          ],
          [
           1065,
           154,
           1220
          ],
          [
           1066,
           153,
           1220
          ],
          [
           1067,
           152,
           1220
          ],
          [
           1068,
           151,
           1220
          ],
          [
           1069,
           150,
           1220
          ],
          [
           1070,
           149,
           1220
          ],
          [
           1071,
           148,
           1220
          ],
          [
           1072,
           147,
           1220
          ],
          [
           1073,
           146,
           1220
          ],
          [
           1074,
           145,
           1220
          ],
          [
           1075,
           144,
           1220
          ],
          [
           1076,
           143,
           1220
          ],
          [
           1077,
           142,
           1220
          ],
          [
           1078,
           141,
           1220
          ],
          [
           1079,
           140,
           1220
          ],
          [
           1080,
           139,
           1220
          ],
          [
           1081,
           138,
           1220
          ],
          [
           1082,
           137,
           1220
          ],
          [
           1083,
           136,
           1220
          ],
          [
           1084,
           135,
           1220
          ],
          [
           1085,
           134,
           1220
          ],
          [
           1086,
           133,
           1220
          ],
          [
           1087,
           132,
           1220
          ],
          [
           1088,
           131,
           1220
          ],
          [
           1089,
           130,
           1220
          ],
          [
           1090,
           129,
           1220
          ],
          [
           1091,
           128,
           1220
          ],
          [
           1092,
           127,
           1220
          ],
          [
           1093,
           126,
           1220
          ],
          [
           1094,
           125,
           1220
          ],
          [
           1095,
           124,
           1220
          ],
          [
           1096,
           123,
           1220
          ],
          [
           1097,
           122,
           1220
          ],
          [
           1098,
           121,
           1220
          ],
          [
           1099,
           120,
           1220
          ],
          [
           1100,
           119,
           1220
          ],
          [
           1101,
           118,
           1220
          ],
          [
           1102,
           117,
           1220
          ],
          [
           1103,
           116,
           1220
          ],
          [
           1104,
           115,
           1220
          ],
          [
           1105,
           114,
           1220
          ],
          [
           1106,
           113,
           1220
          ],
          [
           1107,
           112,
           1220
          ],
          [
           1108,
           111,
           1220
          ],
          [
           1109,
           110,
           1220
          ],
          [
           1110,
           109,
           1220
          ],
          [
           1111,
           108,
           1220
          ],
          [
           1112,
           107,
           1220
          ],
          [
           1113,
           106,
           1220
          ],
          [
           1114,
           105,
           1220
          ],
          [
           1115,
           104,
           1220
          ],
          [
           1116,
           103,
           1220
          ],
          [
           1117,
           102,
           1220
          ],
          [
           1118,
           101,
           1220
          ],
          [
           1119,
           100,
           1220
          ],
          [
           1120,
           99,
           1220
          ],
          [
           1121,
           98,
           1220
          ],
          [
           1122,
           97,
           1220
          ],
          [
           1123,
           96,
           1220
          ],
          [
           1124,
           95,
           1220
          ],
          [
           1125,
           94,
           1220
          ],
          [
           1126,
           93,
           1220
          ],
          [
           1127,
           92,
           1220
          ],
          [
           1128,
           91,
           1220
          ],
          [
           1129,
           90,
           1220
          ],
          [
           1130,
           89,
           1220
          ],
          [
           1131,
           88,
           1220
          ],
          [
           1132,
           87,
           1220
          ],
          [
           1133,
           86,
           1220
          ],
          [
           1134,
           85,
           1220
          ],
          [
           1135,
           84,
           1220
          ],
          [
           1136,
           83,
           1220
          ],
          [
           1137,
           82,
           1220
          ],
          [
           1138,
           81,
           1220
          ],
          [
           1139,
           80,
           1220
          ],
          [
           1140,
           79,
           1220
          ],
          [
           1141,
           78,
           1220
          ],
          [
           1142,
           77,
           1220
          ],
          [
           1143,
           76,
           1220
          ],
          [
           1144,
           75,
           1220
          ],
          [
           1145,
           74,
           1220
          ],
          [
           1146,
           73,
           1220
          ],
          [
           1147,
           72,
           1220
          ],
          [
           1148,
           71,
           1220
          ],
          [
           1149,
           70,
           1220
          ],
          [
           1150,
           69,
           1220
          ],
          [
           1151,
           68,
           1220
          ],
          [
           1152,
           67,
           1220
          ],
          [
           1153,
           66,
           1220
          ],
          [
           1154,
           65,
           1220
          ],
          [
           1155,
           64,
           1220
          ],
          [
           1156,
           63,
           1220
          ],
          [
           1157,
           62,
           1220
          ],
          [
           1158,
           61,
           1220
          ],
          [
           1159,
           60,
           1220
          ],
          [
           1160,
           59,
           1220
          ],
          [
           1161,
           58,
           1220
          ],
          [
           1162,
           57,
           1220
          ],
          [
           1163,
           56,
           1220
          ],
          [
           1164,
           55,
           1220
          ],
          [
           1165,
           54,
           1220
          ],
          [
           1166,
           53,
           1220
          ],
          [
           1167,
           52,
           1220
          ],
          [
           1168,
           51,
           1220
          ],
          [
           1169,
           50,
           1220
          ],
          [
           1170,
           49,
           1220
          ],
          [
           1171,
           48,
           1220
          ],
          [
           1172,
           47,
           1220
          ],
          [
           1173,
           46,
           1220
          ],
          [
           1174,
           45,
           1220
          ],
          [
           1175,
           44,
           1220
          ],
          [
           1176,
           43,
           1220
          ],
          [
           1177,
           42,
           1220
          ],
          [
           1178,
           41,
           1220
          ],
          [
           1179,
           40,
           1220
          ],
          [
           1180,
           39,
           1220
          ],
          [
           1181,
           38,
           1220
          ],
          [
           1182,
           37,
           1220
          ],
          [
           1183,
           36,
           1220
          ],
          [
           1184,
           35,
           1220
          ],
          [
           1185,
           34,
           1220
          ],
          [
           1186,
           33,
           1220
          ],
          [
           1187,
           32,
           1220
          ],
          [
           1188,
           31,
           1220
          ],
          [
           1189,
           30,
           1220
          ],
          [
           1190,
           29,
           1220
          ],
          [
           1191,
           28,
           1220
          ],
          [
           1192,
           27,
           1220
          ],
          [
           1193,
           26,
           1220
          ],
          [
           1194,
           25,
           1220
          ],
          [
           1195,
           24,
           1220
          ],
          [
           1196,
           23,
           1220
          ],
          [
           1197,
           22,
           1220
          ],
          [
           1198,
           21,
           1220
          ],
          [
           1199,
           20,
           1220
          ],
          [
           1200,
           19,
           1220
          ],
          [
           1201,
           18,
           1220
          ],
          [
           1202,
           17,
           1220
          ],
          [
           1203,
           16,
           1220
          ],
          [
           1204,
           15,
           1220
          ],
          [
           1205,
           14,
           1220
          ],
          [
           1206,
           13,
           1220
          ],
          [
           1207,
           12,
           1220
          ],
          [
           1208,
           11,
           1220
          ],
          [
           1209,
           10,
           1220
          ],
          [
           1210,
           9,
           1220
          ],
          [
           1211,
           8,
           1220
          ],
          [
           1212,
           7,
           1220
          ],
          [
           1213,
           6,
           1220
          ],
          [
           1214,
           5,
           1220
          ],
          [
           1215,
           4,
           1220
          ],
          [
           1216,
           3,
           1220
          ],
          [
           1217,
           2,
           1220
          ],
          [
           1218,
           1,
           1220
          ],
          [
           1219,
           0,
           1220
          ]
         ],
         "hovertemplate": "<b>Download Latency</b><br><br>download_latency: %{x}<br>percent: %{y}<br><br>count below: %{customdata[0]:,}<br>count above: %{customdata[1]:,}<br>total count: %{customdata[2]:,}<extra></extra>",
         "legendgroup": "",
         "line": {
          "dash": "solid",
          "shape": "hv"
         },
         "marker": {
          "color": "#1F77B4",
          "symbol": "circle"
         },
         "mode": "markers",
         "name": "",
         "showlegend": false,
         "type": "scattergl",
         "x": [
          0.04864311218261701,
          0.054042100906372,
          0.05531096458435,
          0.055486917495727005,
          0.0556161403656,
          0.056342124938964004,
          0.060558080673217,
          0.072351932525634,
          0.12714123725891102,
          0.135603904724121,
          0.13874411582946702,
          0.16418480873107902,
          0.164477109909057,
          0.165683984756469,
          0.166016101837158,
          0.166098117828369,
          0.16653299331665,
          0.168796777725219,
          0.168874979019165,
          0.169096231460571,
          0.16944622993469202,
          0.17015385627746502,
          0.17023706436157202,
          0.17077589035034102,
          0.17084026336669902,
          0.17138195037841703,
          0.171512842178344,
          0.17165589332580503,
          0.171704053878784,
          0.171722888946533,
          0.17245697975158603,
          0.17273592948913502,
          0.173282146453857,
          0.17363214492797802,
          0.17382764816284102,
          0.17417788505554202,
          0.174183130264282,
          0.174364805221557,
          0.17470622062683103,
          0.174911975860595,
          0.174925804138183,
          0.175319194793701,
          0.175516128540039,
          0.175679922103881,
          0.17629313468933103,
          0.176856040954589,
          0.176926136016845,
          0.17747592926025302,
          0.177793741226196,
          0.17788219451904203,
          0.177956104278564,
          0.178180932998657,
          0.17829084396362302,
          0.178359031677246,
          0.17842411994934002,
          0.17859888076782202,
          0.17918610572814903,
          0.17921590805053703,
          0.17922496795654203,
          0.179667949676513,
          0.18006491661071702,
          0.18010115623474102,
          0.18023204803466703,
          0.180385112762451,
          0.180398941040039,
          0.18050408363342202,
          0.180505037307739,
          0.18074178695678703,
          0.18074893951416002,
          0.18076610565185502,
          0.18102574348449701,
          0.18129801750183103,
          0.18133687973022403,
          0.181342124938964,
          0.181496858596801,
          0.181540727615356,
          0.181670188903808,
          0.18178033828735302,
          0.181831836700439,
          0.18197512626647902,
          0.18220186233520502,
          0.18235373497009202,
          0.18236708641052202,
          0.18262910842895502,
          0.183048963546752,
          0.183115005493164,
          0.183140039443969,
          0.18319368362426702,
          0.18366193771362302,
          0.18379497528076102,
          0.18384981155395502,
          0.183871030807495,
          0.183872938156127,
          0.18389511108398401,
          0.184027194976806,
          0.184036016464233,
          0.184122800827026,
          0.184262990951538,
          0.18438100814819303,
          0.18439507484436002,
          0.184584856033325,
          0.185138940811157,
          0.18516421318054202,
          0.18555808067321702,
          0.18574905395507801,
          0.185756921768188,
          0.186268091201782,
          0.18627810478210402,
          0.18638420104980402,
          0.186597347259521,
          0.18666577339172302,
          0.18669581413269,
          0.186782121658325,
          0.186865806579589,
          0.187026023864746,
          0.18704104423522902,
          0.187083005905151,
          0.18709301948547302,
          0.18718886375427202,
          0.18759989738464303,
          0.18761396408081002,
          0.18763327598571702,
          0.187712907791137,
          0.18777894973754802,
          0.18780589103698703,
          0.18780684471130302,
          0.18781995773315402,
          0.187916040420532,
          0.187945842742919,
          0.18796014785766602,
          0.188002109527587,
          0.18828105926513602,
          0.18834209442138602,
          0.18839406967163003,
          0.188409090042114,
          0.18843793869018502,
          0.188490867614746,
          0.188581705093383,
          0.18862509727478002,
          0.18863224983215302,
          0.18869185447692802,
          0.18882489204406702,
          0.188939094543457,
          0.188982009887695,
          0.18900799751281702,
          0.18905186653137201,
          0.18906402587890603,
          0.189242124557495,
          0.18925690650939903,
          0.189328908920288,
          0.189533948898315,
          0.189597129821777,
          0.18974471092224102,
          0.189778089523315,
          0.19011998176574701,
          0.19027519226074202,
          0.190329790115356,
          0.19034385681152302,
          0.1905198097229,
          0.190701961517333,
          0.19082307815551702,
          0.190994024276733,
          0.19114208221435502,
          0.19118881225585901,
          0.19124913215637201,
          0.191306829452514,
          0.191442966461181,
          0.19150900840759202,
          0.191549062728881,
          0.191664218902587,
          0.191761255264282,
          0.191815853118896,
          0.19187116622924802,
          0.19191694259643502,
          0.191946983337402,
          0.192146778106689,
          0.192200899124145,
          0.19220185279846103,
          0.192252874374389,
          0.192282676696777,
          0.19244384765625,
          0.19266605377197202,
          0.192677974700927,
          0.192700147628784,
          0.192701816558837,
          0.192920923233032,
          0.19304680824279702,
          0.19308686256408603,
          0.19309377670288003,
          0.193124055862426,
          0.19319295883178703,
          0.193217039108276,
          0.19323611259460402,
          0.19328308105468703,
          0.19332623481750402,
          0.193343162536621,
          0.19352793693542403,
          0.19354391098022403,
          0.19364404678344702,
          0.193678140640258,
          0.19369602203369102,
          0.193814992904663,
          0.19389796257019,
          0.19393110275268502,
          0.19429087638854903,
          0.194325923919677,
          0.19432997703552202,
          0.19449996948242101,
          0.194653272628784,
          0.19477725028991702,
          0.19479584693908603,
          0.194810152053833,
          0.19488501548767,
          0.19493389129638602,
          0.19500398635864202,
          0.195036888122558,
          0.19510006904602,
          0.195125818252563,
          0.19513702392578103,
          0.19558715820312503,
          0.195731163024902,
          0.195835828781127,
          0.196023225784301,
          0.19602990150451602,
          0.196431875228881,
          0.196469068527221,
          0.196535110473632,
          0.19680094718933103,
          0.19699406623840302,
          0.19700622558593703,
          0.197241067886352,
          0.197288990020751,
          0.19731020927429202,
          0.19738698005676203,
          0.197638750076293,
          0.19798016548156702,
          0.19800806045532202,
          0.198026895523071,
          0.19803905487060502,
          0.19818496704101501,
          0.19818902015686002,
          0.19819808006286602,
          0.198203086853027,
          0.19828820228576602,
          0.19832491874694802,
          0.198339939117431,
          0.19851279258728002,
          0.19852185249328602,
          0.198628902435302,
          0.19865489006042403,
          0.198776006698608,
          0.198880672454833,
          0.198896884918212,
          0.19890594482421803,
          0.198935031890869,
          0.198948144912719,
          0.199030637741088,
          0.19911074638366702,
          0.199120044708251,
          0.19921398162841703,
          0.199265718460083,
          0.19943881034851002,
          0.19945907592773401,
          0.199500799179077,
          0.19960927963256803,
          0.199743032455444,
          0.19988894462585402,
          0.19999074935913003,
          0.20009899139404203,
          0.200201988220214,
          0.200222969055175,
          0.20031690597534102,
          0.200403213500976,
          0.20047307014465302,
          0.20057082176208402,
          0.200649976730346,
          0.200666904449462,
          0.20069503784179601,
          0.20070719718933103,
          0.200795888900756,
          0.200894832611083,
          0.20106601715087802,
          0.20112085342407202,
          0.20118498802185,
          0.201215982437133,
          0.201388120651245,
          0.201488733291625,
          0.20181703567504802,
          0.20185112953186002,
          0.201854944229125,
          0.20190787315368602,
          0.20193576812744102,
          0.201990127563476,
          0.20217013359069802,
          0.20239520072937,
          0.202413082122802,
          0.20241379737854,
          0.202447175979614,
          0.20250225067138602,
          0.20253300666809002,
          0.20255708694458002,
          0.202621221542358,
          0.20265078544616702,
          0.202689170837402,
          0.20273804664611803,
          0.20283389091491702,
          0.20284080505371002,
          0.20289087295532202,
          0.202918052673339,
          0.20296907424926702,
          0.20300006866455,
          0.203078985214233,
          0.20312380790710402,
          0.20333194732666002,
          0.203402996063232,
          0.20341992378234802,
          0.203495979309082,
          0.20350527763366702,
          0.20356202125549303,
          0.203618764877319,
          0.203635215759277,
          0.203647136688232,
          0.20379114151000902,
          0.20390701293945301,
          0.20399403572082503,
          0.20408987998962402,
          0.204144954681396,
          0.20420503616333002,
          0.204269170761108,
          0.20441174507141102,
          0.20468997955322202,
          0.20469975471496502,
          0.205014944076538,
          0.20522594451904203,
          0.205328226089477,
          0.20536398887634202,
          0.20538401603698703,
          0.20540475845336903,
          0.20547485351562503,
          0.205532789230346,
          0.20557403564453103,
          0.20606398582458402,
          0.20610260963439903,
          0.206141948699951,
          0.206225872039794,
          0.206232786178588,
          0.206354856491088,
          0.20638370513916002,
          0.20643997192382801,
          0.20647811889648401,
          0.20685100555419902,
          0.206908226013183,
          0.206933975219726,
          0.207119941711425,
          0.20724511146545402,
          0.20731592178344702,
          0.20734691619873002,
          0.20738101005554202,
          0.20741200447082503,
          0.20746493339538502,
          0.20748496055603002,
          0.207796812057495,
          0.207868099212646,
          0.207884788513183,
          0.20827698707580503,
          0.20874714851379303,
          0.20877194404602,
          0.20886182785034102,
          0.20886921882629303,
          0.209126949310302,
          0.20927715301513602,
          0.209332942962646,
          0.20947408676147403,
          0.20960187911987302,
          0.209707021713256,
          0.209858655929565,
          0.20987796783447202,
          0.209935903549194,
          0.210036993026733,
          0.210181236267089,
          0.21031379699707,
          0.21036696434020902,
          0.210487842559814,
          0.21051597595214802,
          0.21100711822509702,
          0.211150884628295,
          0.21119689941406203,
          0.21124768257141102,
          0.21127390861511203,
          0.21129703521728502,
          0.21144604682922302,
          0.21170878410339303,
          0.211709976196289,
          0.21184492111206002,
          0.21201705932617101,
          0.21208691596984802,
          0.21213698387145902,
          0.21217775344848602,
          0.21249604225158603,
          0.21254801750183103,
          0.21274113655090302,
          0.212835073471069,
          0.21307897567749,
          0.21308898925781203,
          0.21327519416809002,
          0.21330714225769,
          0.21335196495056102,
          0.21342468261718703,
          0.21354484558105402,
          0.21368503570556602,
          0.214084148406982,
          0.214208126068115,
          0.214213132858276,
          0.21434712409973103,
          0.21474695205688402,
          0.21477603912353502,
          0.214803218841552,
          0.21484398841857902,
          0.21499705314636203,
          0.21527123451232902,
          0.21532297134399403,
          0.215340137481689,
          0.215404033660888,
          0.215623140335083,
          0.21577501296997,
          0.215877056121826,
          0.21592569351196203,
          0.21618390083312902,
          0.216472148895263,
          0.216505289077758,
          0.21654891967773401,
          0.21668100357055603,
          0.21725893020629802,
          0.21732401847839303,
          0.21747612953186002,
          0.217571973800659,
          0.21757698059082,
          0.217861890792846,
          0.21786499023437503,
          0.21786808967590302,
          0.21787285804748502,
          0.218147754669189,
          0.21860122680664001,
          0.21861505508422802,
          0.218616724014282,
          0.21900606155395502,
          0.21916007995605402,
          0.21928191184997503,
          0.21967625617980902,
          0.21973085403442302,
          0.21997213363647403,
          0.220039844512939,
          0.22016716003417902,
          0.22035813331604,
          0.22042703628540003,
          0.22045493125915502,
          0.220827102661132,
          0.22103881835937503,
          0.221325159072875,
          0.22143411636352503,
          0.22195029258728002,
          0.222447872161865,
          0.222653865814208,
          0.222739934921264,
          0.223289966583251,
          0.223423957824707,
          0.22342777252197202,
          0.223670721054077,
          0.22373509407043402,
          0.223939180374145,
          0.224104881286621,
          0.224417686462402,
          0.22455382347106903,
          0.22455906867980902,
          0.22465896606445301,
          0.224761724472045,
          0.225089073181152,
          0.22535872459411602,
          0.22572493553161602,
          0.22640919685363703,
          0.226463079452514,
          0.22666597366333002,
          0.22678780555725,
          0.22680807113647403,
          0.22684502601623502,
          0.22725820541381803,
          0.22731184959411602,
          0.22763490676879802,
          0.22768902778625402,
          0.22807502746582,
          0.22808218002319303,
          0.22814273834228502,
          0.22860527038574202,
          0.228893995285034,
          0.229000806808471,
          0.22943902015686002,
          0.22956919670104903,
          0.22959208488464303,
          0.22991108894348103,
          0.22995018959045402,
          0.23011803627014102,
          0.23036503791809002,
          0.23089909553527802,
          0.23117613792419403,
          0.231365919113159,
          0.231950044631958,
          0.232264995574951,
          0.232594966888427,
          0.23261904716491702,
          0.23356914520263602,
          0.23378014564514102,
          0.23405313491821203,
          0.234186887741088,
          0.23462820053100503,
          0.235798120498657,
          0.235854148864746,
          0.236289739608764,
          0.23650574684143003,
          0.236508131027221,
          0.237029790878295,
          0.23724508285522403,
          0.23827910423278803,
          0.23843669891357402,
          0.23898816108703602,
          0.23970413208007801,
          0.240788221359252,
          0.241250991821289,
          0.24192285537719702,
          0.242982864379882,
          0.24356985092163003,
          0.24378085136413502,
          0.24438190460205003,
          0.24443125724792403,
          0.24489116668701102,
          0.24641370773315402,
          0.24692821502685502,
          0.24872183799743602,
          0.24929881095886203,
          0.250139951705932,
          0.250542163848876,
          0.25065231323242104,
          0.250717163085937,
          0.25173974037170405,
          0.252409696578979,
          0.25250411033630304,
          0.25270009040832503,
          0.25286793708801203,
          0.253676891326904,
          0.25488471984863204,
          0.256515026092529,
          0.256875991821289,
          0.25778818130493103,
          0.25832891464233404,
          0.25934004783630304,
          0.261651992797851,
          0.262333154678344,
          0.26286625862121504,
          0.263762950897216,
          0.26528835296630804,
          0.26642298698425204,
          0.26691293716430603,
          0.267566919326782,
          0.26857995986938404,
          0.269360065460205,
          0.27112603187561,
          0.271818161010742,
          0.272464990615844,
          0.27377200126647905,
          0.275654077529907,
          0.276496171951293,
          0.27830815315246504,
          0.279634714126586,
          0.28054308891296303,
          0.285869121551513,
          0.28939008712768505,
          0.291376113891601,
          0.29211616516113204,
          0.29964804649353,
          0.30500411987304604,
          0.309283018112182,
          0.309306859970092,
          0.311172008514404,
          0.311953067779541,
          0.314007759094238,
          0.314726114273071,
          0.3158860206604,
          0.319349765777587,
          0.31983160972595204,
          0.320422887802124,
          0.321668863296508,
          0.32262802124023404,
          0.324416875839233,
          0.324505805969238,
          0.325715065002441,
          0.32576704025268505,
          0.328714132308959,
          0.328788995742797,
          0.32898521423339805,
          0.330328702926635,
          0.331587076187133,
          0.331980943679809,
          0.33274888992309504,
          0.333412885665893,
          0.33440613746643005,
          0.33533883094787603,
          0.33646512031555104,
          0.33647489547729403,
          0.337072134017944,
          0.337085962295532,
          0.337259054183959,
          0.33782887458801203,
          0.338088989257812,
          0.33893108367919905,
          0.33916687965393005,
          0.33980107307434004,
          0.339844942092895,
          0.34030723571777305,
          0.34081101417541504,
          0.340925216674804,
          0.342058897018432,
          0.342764854431152,
          0.343024015426635,
          0.343055963516235,
          0.34308576583862305,
          0.343116998672485,
          0.343490123748779,
          0.34373521804809504,
          0.343793869018554,
          0.344498872756958,
          0.34472274780273404,
          0.34529399871826105,
          0.345592975616455,
          0.34576416015625,
          0.34610295295715304,
          0.34615993499755804,
          0.3471040725708,
          0.34716796875,
          0.347430944442749,
          0.348419189453125,
          0.34889388084411604,
          0.34918999671936,
          0.34955883026123,
          0.34968304634094205,
          0.349934816360473,
          0.35002017021179205,
          0.351422071456909,
          0.35144615173339805,
          0.351470947265625,
          0.35229682922363204,
          0.35236191749572704,
          0.353363990783691,
          0.35350775718688904,
          0.353568077087402,
          0.35408163070678705,
          0.35610318183898904,
          0.35616302490234303,
          0.356462955474853,
          0.35681676864624,
          0.35690212249755804,
          0.357070922851562,
          0.35721802711486805,
          0.359399795532226,
          0.35998678207397405,
          0.35998797416687,
          0.36029219627380304,
          0.36097311973571705,
          0.361141920089721,
          0.36124801635742104,
          0.36134815216064403,
          0.361360788345336,
          0.361997842788696,
          0.36276388168334905,
          0.36319589614868103,
          0.36480617523193304,
          0.365740060806274,
          0.36710500717163,
          0.36740303039550704,
          0.36824607849121005,
          0.368635177612304,
          0.370138883590698,
          0.370615005493164,
          0.37255096435546803,
          0.37321400642395003,
          0.373427867889404,
          0.37348031997680603,
          0.37627816200256303,
          0.37821292877197205,
          0.378374814987182,
          0.37896609306335405,
          0.378978013992309,
          0.37927126884460405,
          0.379565000534057,
          0.38067817687988204,
          0.38097095489501903,
          0.38144898414611805,
          0.382689952850341,
          0.382995128631591,
          0.383312940597534,
          0.384212970733642,
          0.38461089134216303,
          0.38556218147277804,
          0.38558959960937506,
          0.38592696189880304,
          0.386147022247314,
          0.386527061462402,
          0.386961221694946,
          0.387139797210693,
          0.389867067337036,
          0.390513896942138,
          0.39084601402282704,
          0.39121913909912104,
          0.39331197738647405,
          0.39356088638305603,
          0.39393115043640103,
          0.39407777786254805,
          0.39446377754211404,
          0.39530396461486805,
          0.40034413337707503,
          0.40197396278381303,
          0.402101993560791,
          0.40679812431335405,
          0.407684087753295,
          0.40838503837585405,
          0.40846586227416903,
          0.40881800651550204,
          0.409998893737792,
          0.41058087348937905,
          0.41067004203796303,
          0.410751104354858,
          0.41228699684143005,
          0.41294503211975103,
          0.41298937797546303,
          0.413776159286499,
          0.41471576690673806,
          0.41473817825317305,
          0.41495394706726,
          0.41592693328857405,
          0.415952920913696,
          0.41626405715942305,
          0.41639184951782204,
          0.41656804084777804,
          0.41663575172424305,
          0.41690921783447205,
          0.41760420799255304,
          0.41811490058898904,
          0.41875982284545904,
          0.42002892494201605,
          0.42097806930541903,
          0.42107200622558505,
          0.42261886596679604,
          0.422974824905395,
          0.424201011657714,
          0.424298048019409,
          0.42430019378662104,
          0.42495203018188404,
          0.425604820251464,
          0.42565393447875904,
          0.426456212997436,
          0.426746129989624,
          0.42696905136108404,
          0.427091836929321,
          0.427342891693115,
          0.428208112716674,
          0.42895698547363204,
          0.428958892822265,
          0.429545879364013,
          0.429773092269897,
          0.43010282516479403,
          0.430459737777709,
          0.430551052093505,
          0.43056297302246005,
          0.43067812919616705,
          0.431171178817749,
          0.43129396438598605,
          0.431580781936645,
          0.43166017532348605,
          0.43240690231323203,
          0.43270087242126404,
          0.43307781219482405,
          0.43429994583129805,
          0.435046911239624,
          0.435780763626098,
          0.43587207794189403,
          0.43617296218872004,
          0.436416149139404,
          0.437958717346191,
          0.43871712684631303,
          0.43878698348999,
          0.43891215324401806,
          0.43917298316955505,
          0.439857721328735,
          0.44096803665161105,
          0.44146513938903803,
          0.44218993186950606,
          0.44253587722778304,
          0.44289112091064403,
          0.44297814369201605,
          0.44389891624450606,
          0.44444894790649403,
          0.44455599784851,
          0.44535279273986805,
          0.445783853530883,
          0.44606590270996005,
          0.446450948715209,
          0.447059869766235,
          0.447279214859008,
          0.44730877876281705,
          0.44739723205566406,
          0.44741606712341303,
          0.44744086265563904,
          0.447962999343872,
          0.448136091232299,
          0.44814395904541005,
          0.44899296760559004,
          0.449274063110351,
          0.449891090393066,
          0.45002102851867604,
          0.450428009033203,
          0.45043563842773404,
          0.45052576065063404,
          0.45058417320251404,
          0.450658082962036,
          0.45140409469604403,
          0.45146179199218706,
          0.45193195343017506,
          0.452168941497802,
          0.45223617553710904,
          0.452600002288818,
          0.452918052673339,
          0.45323204994201605,
          0.453288316726684,
          0.45352077484130804,
          0.45359301567077603,
          0.45367717742919905,
          0.45395898818969704,
          0.45487904548645003,
          0.456629991531372,
          0.457421779632568,
          0.45766520500183105,
          0.45888710021972606,
          0.45890808105468706,
          0.45905709266662603,
          0.45978903770446705,
          0.46053504943847606,
          0.460744142532348,
          0.46080994606018005,
          0.46091079711914,
          0.46260786056518505,
          0.46265172958374,
          0.46266293525695806,
          0.463075876235961,
          0.464065074920654,
          0.46430397033691406,
          0.464386940002441,
          0.464396715164184,
          0.46463894844055104,
          0.46474289894104004,
          0.465590953826904,
          0.46594810485839805,
          0.46652793884277305,
          0.46664309501647905,
          0.466670036315917,
          0.467198848724365,
          0.46746397018432606,
          0.467582941055297,
          0.46779584884643505,
          0.467812061309814,
          0.467926979064941,
          0.46797180175781206,
          0.46852517127990706,
          0.469094991683959,
          0.46912407875061,
          0.46934795379638605,
          0.46957421302795405,
          0.47004294395446705,
          0.47006511688232405,
          0.470081090927124,
          0.47090291976928705,
          0.471124172210693,
          0.47160601615905706,
          0.471921920776367,
          0.47244811058044406,
          0.47267317771911604,
          0.472845792770385,
          0.47362089157104403,
          0.47402119636535606,
          0.47480010986328103,
          0.47491908073425204,
          0.475039005279541,
          0.47512316703796303,
          0.475555181503295,
          0.47573614120483404,
          0.47616362571716303,
          0.47635197639465304,
          0.47663307189941406,
          0.47692108154296803,
          0.47786521911621005,
          0.47793579101562506,
          0.478454113006591,
          0.47848510742187506,
          0.479166984558105,
          0.479473829269409,
          0.48021388053894004,
          0.482680797576904,
          0.483119249343872,
          0.48351383209228505,
          0.48375487327575606,
          0.484400987625122,
          0.484574317932128,
          0.48547792434692305,
          0.485503911972045,
          0.48568081855773904,
          0.487058877944946,
          0.487153053283691,
          0.487592935562133,
          0.488085031509399,
          0.48842811584472606,
          0.488606929779052,
          0.48982024192810003,
          0.49031782150268505,
          0.49034309387207003,
          0.490391969680786,
          0.490555763244628,
          0.49074816703796303,
          0.49091672897338806,
          0.49174499511718706,
          0.49184489250183105,
          0.49195098876953103,
          0.49210906028747503,
          0.49241495132446206,
          0.49251103401184004,
          0.49286007881164506,
          0.49296617507934504,
          0.49306607246398904,
          0.49308800697326605,
          0.49326276779174805,
          0.493376016616821,
          0.49399709701538,
          0.494077920913696,
          0.49483990669250405,
          0.495046138763427,
          0.49520087242126404,
          0.49581480026245106,
          0.49657988548278803,
          0.49710893630981406,
          0.49730205535888605,
          0.49746298789978005,
          0.49769020080566406,
          0.498853683471679,
          0.49890899658203103,
          0.49909496307373,
          0.49935007095336903,
          0.49982786178588806,
          0.5003142356872551,
          0.5006170272827141,
          0.500912904739379,
          0.501338958740234,
          0.501353979110717,
          0.5019593238830561,
          0.502053022384643,
          0.502579927444458,
          0.502701044082641,
          0.5034213066101071,
          0.5034880638122551,
          0.503740072250366,
          0.503814935684204,
          0.5039789676666261,
          0.504117012023925,
          0.5043482780456541,
          0.5050199031829831,
          0.5052139759063721,
          0.505296230316162,
          0.505326986312866,
          0.50556993484497,
          0.505742788314819,
          0.506491184234619,
          0.506750106811523,
          0.507406949996948,
          0.507519960403442,
          0.508828163146972,
          0.508860111236572,
          0.509207010269165,
          0.509337186813354,
          0.511116027832031,
          0.511199951171875,
          0.511296987533569,
          0.514720916748046,
          0.514803171157836,
          0.515504837036132,
          0.5164051055908201,
          0.516488075256347,
          0.5168797969818111,
          0.517125844955444,
          0.5171294212341301,
          0.517663955688476,
          0.517667055130004,
          0.5181009769439691,
          0.519624948501586,
          0.520005941390991,
          0.520082950592041,
          0.520170927047729,
          0.520225048065185,
          0.520464897155761,
          0.520989894866943,
          0.523391962051391,
          0.524549961090087,
          0.524871349334716,
          0.525346040725708,
          0.525697946548461,
          0.525806903839111,
          0.527006864547729,
          0.527884006500244,
          0.529118061065673,
          0.530308961868286,
          0.5320470333099361,
          0.53511095046997,
          0.535579919815063,
          0.535885095596313,
          0.5365440845489501,
          0.537245273590087,
          0.5374181270599361,
          0.5378592014312741,
          0.5390470027923581,
          0.539458036422729,
          0.5397098064422601,
          0.53995680809021,
          0.5402531623840331,
          0.542097806930542,
          0.5447921752929681,
          0.547209978103637,
          0.547276020050048,
          0.5475220680236811,
          0.5480630397796631,
          0.5484139919281,
          0.54915714263916,
          0.5506350994110101,
          0.550889015197753,
          0.551693201065063,
          0.5525848865509031,
          0.5529761314392091,
          0.5532369613647461,
          0.554311990737915,
          0.554399013519287,
          0.556103944778442,
          0.557097911834716,
          0.5576040744781491,
          0.559067010879516,
          0.559221029281616,
          0.559317111968994,
          0.560657262802124,
          0.561290025711059,
          0.561589956283569,
          0.5620019435882561,
          0.5641012191772461,
          0.56538701057434,
          0.566322088241577,
          0.566702842712402,
          0.5710740089416501,
          0.5731351375579831,
          0.57442307472229,
          0.575768947601318,
          0.57695984840393,
          0.577255725860595,
          0.5775268077850341,
          0.5788331031799311,
          0.580812215805053,
          0.5816719532012941,
          0.583065032958984,
          0.584255218505859,
          0.5863928794860841,
          0.5888628959655761,
          0.5897500514984131,
          0.589984893798828,
          0.590933084487915,
          0.591426610946655,
          0.59406304359436,
          0.597002983093261,
          0.5987529754638671,
          0.5995190143585201,
          0.59986400604248,
          0.6067318916320801,
          0.607136011123657,
          0.608378887176513,
          0.609651088714599,
          0.6105940341949461,
          0.6124529838562011,
          0.6125519275665281,
          0.613512992858886,
          0.613649845123291,
          0.616359949111938,
          0.6194970607757561,
          0.620149135589599,
          0.622138977050781,
          0.6221649646759031,
          0.6221792697906491,
          0.622293710708618,
          0.622426986694335,
          0.622635126113891,
          0.6226921081542961,
          0.622799158096313,
          0.6232728958129881,
          0.623711347579956,
          0.623739957809448,
          0.623745918273925,
          0.624061822891235,
          0.6265237331390381,
          0.6300311088562011,
          0.6301689147949211,
          0.631721973419189,
          0.6354100704193111,
          0.638158082962036,
          0.638499736785888,
          0.638569116592407,
          0.63984990119934,
          0.640434980392456,
          0.644186973571777,
          0.645025014877319,
          0.649217128753662,
          0.652101039886474,
          0.657561302185058,
          0.657810926437377,
          0.664811134338378,
          0.6663241386413571,
          0.6704583168029781,
          0.672143936157226,
          0.676022052764892,
          0.6786370277404781,
          0.6794469356536861,
          0.6801910400390621,
          0.6811451911926271,
          0.6937010288238521,
          0.709547042846679,
          0.7211720943450921,
          0.724092960357666,
          0.724101066589355,
          0.7241408824920651,
          0.73281192779541,
          0.735883951187133,
          0.737218141555786,
          0.738324880599975,
          0.7433729171752931,
          0.7438089847564691,
          0.748265981674194,
          0.7484920024871821,
          0.757337808609008,
          0.759603977203369,
          0.7729139328002931,
          0.773011922836303,
          0.776957035064697,
          0.7798738479614251,
          0.7839689254760741,
          0.7847349643707271,
          0.7893187999725341,
          0.799501180648803,
          0.80849266052246,
          0.8123819828033441,
          0.8128108978271481,
          0.813944101333618,
          0.834264039993286,
          0.84124732017517,
          0.8426988124847411,
          0.8493349552154541,
          0.8591198921203611,
          0.8691389560699461,
          0.871104001998901,
          0.9041340351104731,
          0.908190965652465,
          0.9094140529632561,
          0.914309024810791,
          0.9160916805267331,
          0.9172999858856201,
          0.9187350273132321,
          0.919610023498535,
          0.9202909469604491,
          0.9207789897918701,
          0.921128034591674,
          0.921203136444091,
          0.9212181568145751,
          0.921244144439697,
          0.924309968948364,
          0.924326181411743,
          0.9244408607482911,
          0.924761772155761,
          0.9251189231872551,
          0.926151990890502,
          0.926160097122192,
          0.936902999877929,
          0.9708538055419921,
          0.9744012355804441,
          0.974427938461303,
          0.97639513015747,
          0.986477136611938,
          1.038606882095337,
          1.047613859176635,
          1.053561925888061,
          1.068557262420654,
          1.091071844100952,
          1.093910932540893,
          1.102801322937011,
          1.127250909805297,
          1.141719102859497,
          1.148247718811035,
          1.1534919738769531,
          1.170182228088379,
          1.221943140029907,
          1.22848892211914,
          1.28928518295288,
          1.332737922668457,
          1.360504627227783,
          1.363080978393554,
          1.413259744644165,
          1.4419910907745361,
          1.4619112014770501,
          1.4740920066833492,
          1.48679780960083,
          1.4982571601867671,
          1.529852867126464,
          1.6187970638275142,
          1.728651046752929,
          5.123297929763794
         ],
         "xaxis": "x",
         "y": [
          0.08196721311475409,
          0.16393442622950818,
          0.2459016393442623,
          0.32786885245901637,
          0.4098360655737705,
          0.4918032786885246,
          0.5737704918032787,
          0.6557377049180327,
          0.7377049180327869,
          0.819672131147541,
          0.9016393442622951,
          0.9836065573770492,
          1.0655737704918034,
          1.1475409836065573,
          1.2295081967213115,
          1.3114754098360655,
          1.3934426229508197,
          1.4754098360655739,
          1.5573770491803278,
          1.639344262295082,
          1.721311475409836,
          1.8032786885245902,
          1.8852459016393444,
          1.9672131147540983,
          2.0491803278688523,
          2.1311475409836067,
          2.2131147540983607,
          2.2950819672131146,
          2.377049180327869,
          2.459016393442623,
          2.540983606557377,
          2.622950819672131,
          2.7049180327868854,
          2.7868852459016393,
          2.8688524590163933,
          2.9508196721311477,
          3.0327868852459017,
          3.1147540983606556,
          3.19672131147541,
          3.278688524590164,
          3.360655737704918,
          3.442622950819672,
          3.5245901639344264,
          3.6065573770491803,
          3.6885245901639343,
          3.7704918032786887,
          3.8524590163934427,
          3.9344262295081966,
          4.016393442622951,
          4.098360655737705,
          4.180327868852459,
          4.262295081967213,
          4.344262295081967,
          4.426229508196721,
          4.508196721311475,
          4.590163934426229,
          4.672131147540983,
          4.754098360655738,
          4.836065573770492,
          4.918032786885246,
          5,
          5.081967213114754,
          5.163934426229508,
          5.245901639344262,
          5.327868852459017,
          5.409836065573771,
          5.491803278688525,
          5.573770491803279,
          5.655737704918033,
          5.737704918032787,
          5.819672131147541,
          5.901639344262295,
          5.983606557377049,
          6.065573770491803,
          6.147540983606557,
          6.229508196721311,
          6.311475409836065,
          6.39344262295082,
          6.475409836065574,
          6.557377049180328,
          6.639344262295082,
          6.721311475409836,
          6.80327868852459,
          6.885245901639344,
          6.967213114754099,
          7.049180327868853,
          7.131147540983607,
          7.213114754098361,
          7.295081967213115,
          7.377049180327869,
          7.459016393442623,
          7.540983606557377,
          7.622950819672131,
          7.704918032786885,
          7.786885245901639,
          7.868852459016393,
          7.950819672131147,
          8.032786885245901,
          8.114754098360656,
          8.19672131147541,
          8.278688524590164,
          8.360655737704919,
          8.442622950819672,
          8.524590163934427,
          8.60655737704918,
          8.688524590163935,
          8.770491803278688,
          8.852459016393443,
          8.934426229508198,
          9.01639344262295,
          9.098360655737705,
          9.180327868852459,
          9.262295081967213,
          9.344262295081966,
          9.426229508196721,
          9.508196721311476,
          9.59016393442623,
          9.672131147540984,
          9.754098360655737,
          9.836065573770492,
          9.918032786885245,
          10,
          10.081967213114755,
          10.163934426229508,
          10.245901639344263,
          10.327868852459016,
          10.40983606557377,
          10.491803278688524,
          10.573770491803279,
          10.655737704918034,
          10.737704918032787,
          10.819672131147541,
          10.901639344262295,
          10.98360655737705,
          11.065573770491802,
          11.147540983606557,
          11.229508196721312,
          11.311475409836065,
          11.39344262295082,
          11.475409836065573,
          11.557377049180328,
          11.639344262295081,
          11.721311475409836,
          11.80327868852459,
          11.885245901639344,
          11.967213114754099,
          12.049180327868852,
          12.131147540983607,
          12.21311475409836,
          12.295081967213115,
          12.37704918032787,
          12.459016393442623,
          12.540983606557377,
          12.62295081967213,
          12.704918032786885,
          12.78688524590164,
          12.868852459016393,
          12.950819672131148,
          13.032786885245901,
          13.114754098360656,
          13.19672131147541,
          13.278688524590164,
          13.360655737704919,
          13.442622950819672,
          13.524590163934427,
          13.60655737704918,
          13.688524590163935,
          13.770491803278688,
          13.852459016393443,
          13.934426229508198,
          14.01639344262295,
          14.098360655737705,
          14.180327868852459,
          14.262295081967213,
          14.344262295081966,
          14.426229508196721,
          14.508196721311476,
          14.59016393442623,
          14.672131147540984,
          14.754098360655737,
          14.836065573770492,
          14.918032786885245,
          15,
          15.081967213114755,
          15.163934426229508,
          15.245901639344263,
          15.327868852459016,
          15.40983606557377,
          15.491803278688524,
          15.573770491803279,
          15.655737704918034,
          15.737704918032787,
          15.819672131147541,
          15.901639344262295,
          15.98360655737705,
          16.065573770491802,
          16.147540983606557,
          16.229508196721312,
          16.311475409836067,
          16.39344262295082,
          16.475409836065573,
          16.557377049180328,
          16.639344262295083,
          16.721311475409838,
          16.80327868852459,
          16.885245901639344,
          16.9672131147541,
          17.049180327868854,
          17.131147540983605,
          17.21311475409836,
          17.295081967213115,
          17.37704918032787,
          17.459016393442624,
          17.540983606557376,
          17.62295081967213,
          17.704918032786885,
          17.78688524590164,
          17.868852459016395,
          17.950819672131146,
          18.0327868852459,
          18.114754098360656,
          18.19672131147541,
          18.278688524590162,
          18.360655737704917,
          18.442622950819672,
          18.524590163934427,
          18.60655737704918,
          18.688524590163933,
          18.770491803278688,
          18.852459016393443,
          18.934426229508198,
          19.016393442622952,
          19.098360655737704,
          19.18032786885246,
          19.262295081967213,
          19.34426229508197,
          19.42622950819672,
          19.508196721311474,
          19.59016393442623,
          19.672131147540984,
          19.75409836065574,
          19.83606557377049,
          19.918032786885245,
          20,
          20.081967213114755,
          20.16393442622951,
          20.24590163934426,
          20.327868852459016,
          20.40983606557377,
          20.491803278688526,
          20.57377049180328,
          20.65573770491803,
          20.737704918032787,
          20.81967213114754,
          20.901639344262296,
          20.983606557377048,
          21.065573770491802,
          21.147540983606557,
          21.229508196721312,
          21.311475409836067,
          21.39344262295082,
          21.475409836065573,
          21.557377049180328,
          21.639344262295083,
          21.721311475409838,
          21.80327868852459,
          21.885245901639344,
          21.9672131147541,
          22.049180327868854,
          22.131147540983605,
          22.21311475409836,
          22.295081967213115,
          22.37704918032787,
          22.459016393442624,
          22.540983606557376,
          22.62295081967213,
          22.704918032786885,
          22.78688524590164,
          22.868852459016395,
          22.950819672131146,
          23.0327868852459,
          23.114754098360656,
          23.19672131147541,
          23.278688524590162,
          23.360655737704917,
          23.442622950819672,
          23.524590163934427,
          23.60655737704918,
          23.688524590163933,
          23.770491803278688,
          23.852459016393443,
          23.934426229508198,
          24.016393442622952,
          24.098360655737704,
          24.18032786885246,
          24.262295081967213,
          24.34426229508197,
          24.42622950819672,
          24.508196721311474,
          24.59016393442623,
          24.672131147540984,
          24.75409836065574,
          24.83606557377049,
          24.918032786885245,
          25,
          25.081967213114755,
          25.16393442622951,
          25.24590163934426,
          25.327868852459016,
          25.40983606557377,
          25.491803278688526,
          25.57377049180328,
          25.65573770491803,
          25.737704918032787,
          25.81967213114754,
          25.901639344262296,
          25.983606557377048,
          26.065573770491802,
          26.147540983606557,
          26.229508196721312,
          26.311475409836067,
          26.39344262295082,
          26.475409836065573,
          26.557377049180328,
          26.639344262295083,
          26.721311475409838,
          26.80327868852459,
          26.885245901639344,
          26.9672131147541,
          27.049180327868854,
          27.131147540983605,
          27.21311475409836,
          27.295081967213115,
          27.37704918032787,
          27.459016393442624,
          27.540983606557376,
          27.62295081967213,
          27.704918032786885,
          27.78688524590164,
          27.868852459016395,
          27.950819672131146,
          28.0327868852459,
          28.114754098360656,
          28.19672131147541,
          28.278688524590162,
          28.360655737704917,
          28.442622950819672,
          28.524590163934427,
          28.60655737704918,
          28.688524590163933,
          28.770491803278688,
          28.852459016393443,
          28.934426229508198,
          29.016393442622952,
          29.098360655737704,
          29.18032786885246,
          29.262295081967213,
          29.34426229508197,
          29.42622950819672,
          29.508196721311474,
          29.59016393442623,
          29.672131147540984,
          29.75409836065574,
          29.83606557377049,
          29.918032786885245,
          30,
          30.081967213114755,
          30.16393442622951,
          30.24590163934426,
          30.327868852459016,
          30.40983606557377,
          30.491803278688526,
          30.57377049180328,
          30.65573770491803,
          30.737704918032787,
          30.81967213114754,
          30.901639344262296,
          30.983606557377048,
          31.065573770491802,
          31.147540983606557,
          31.229508196721312,
          31.311475409836067,
          31.39344262295082,
          31.475409836065573,
          31.557377049180328,
          31.639344262295083,
          31.721311475409838,
          31.80327868852459,
          31.885245901639344,
          31.9672131147541,
          32.049180327868854,
          32.131147540983605,
          32.21311475409836,
          32.295081967213115,
          32.377049180327866,
          32.459016393442624,
          32.540983606557376,
          32.622950819672134,
          32.704918032786885,
          32.78688524590164,
          32.868852459016395,
          32.950819672131146,
          33.032786885245905,
          33.114754098360656,
          33.19672131147541,
          33.278688524590166,
          33.36065573770492,
          33.442622950819676,
          33.52459016393443,
          33.60655737704918,
          33.68852459016394,
          33.77049180327869,
          33.85245901639344,
          33.9344262295082,
          34.01639344262295,
          34.09836065573771,
          34.18032786885246,
          34.26229508196721,
          34.34426229508197,
          34.42622950819672,
          34.50819672131148,
          34.59016393442623,
          34.67213114754098,
          34.75409836065574,
          34.83606557377049,
          34.91803278688525,
          35,
          35.08196721311475,
          35.16393442622951,
          35.24590163934426,
          35.32786885245902,
          35.40983606557377,
          35.49180327868852,
          35.57377049180328,
          35.65573770491803,
          35.73770491803279,
          35.81967213114754,
          35.90163934426229,
          35.98360655737705,
          36.0655737704918,
          36.14754098360656,
          36.22950819672131,
          36.31147540983606,
          36.39344262295082,
          36.47540983606557,
          36.557377049180324,
          36.63934426229508,
          36.721311475409834,
          36.80327868852459,
          36.885245901639344,
          36.967213114754095,
          37.049180327868854,
          37.131147540983605,
          37.21311475409836,
          37.295081967213115,
          37.377049180327866,
          37.459016393442624,
          37.540983606557376,
          37.622950819672134,
          37.704918032786885,
          37.78688524590164,
          37.868852459016395,
          37.950819672131146,
          38.032786885245905,
          38.114754098360656,
          38.19672131147541,
          38.278688524590166,
          38.36065573770492,
          38.442622950819676,
          38.52459016393443,
          38.60655737704918,
          38.68852459016394,
          38.77049180327869,
          38.85245901639344,
          38.9344262295082,
          39.01639344262295,
          39.09836065573771,
          39.18032786885246,
          39.26229508196721,
          39.34426229508197,
          39.42622950819672,
          39.50819672131148,
          39.59016393442623,
          39.67213114754098,
          39.75409836065574,
          39.83606557377049,
          39.91803278688525,
          40,
          40.08196721311475,
          40.16393442622951,
          40.24590163934426,
          40.32786885245902,
          40.40983606557377,
          40.49180327868852,
          40.57377049180328,
          40.65573770491803,
          40.73770491803279,
          40.81967213114754,
          40.90163934426229,
          40.98360655737705,
          41.0655737704918,
          41.14754098360656,
          41.22950819672131,
          41.31147540983606,
          41.39344262295082,
          41.47540983606557,
          41.557377049180324,
          41.63934426229508,
          41.721311475409834,
          41.80327868852459,
          41.885245901639344,
          41.967213114754095,
          42.049180327868854,
          42.131147540983605,
          42.21311475409836,
          42.295081967213115,
          42.377049180327866,
          42.459016393442624,
          42.540983606557376,
          42.622950819672134,
          42.704918032786885,
          42.78688524590164,
          42.868852459016395,
          42.950819672131146,
          43.032786885245905,
          43.114754098360656,
          43.19672131147541,
          43.278688524590166,
          43.36065573770492,
          43.442622950819676,
          43.52459016393443,
          43.60655737704918,
          43.68852459016394,
          43.77049180327869,
          43.85245901639344,
          43.9344262295082,
          44.01639344262295,
          44.09836065573771,
          44.18032786885246,
          44.26229508196721,
          44.34426229508197,
          44.42622950819672,
          44.50819672131148,
          44.59016393442623,
          44.67213114754098,
          44.75409836065574,
          44.83606557377049,
          44.91803278688525,
          45,
          45.08196721311475,
          45.16393442622951,
          45.24590163934426,
          45.32786885245902,
          45.40983606557377,
          45.49180327868852,
          45.57377049180328,
          45.65573770491803,
          45.73770491803279,
          45.81967213114754,
          45.90163934426229,
          45.98360655737705,
          46.0655737704918,
          46.14754098360656,
          46.22950819672131,
          46.31147540983606,
          46.39344262295082,
          46.47540983606557,
          46.557377049180324,
          46.63934426229508,
          46.721311475409834,
          46.80327868852459,
          46.885245901639344,
          46.967213114754095,
          47.049180327868854,
          47.131147540983605,
          47.21311475409836,
          47.295081967213115,
          47.377049180327866,
          47.459016393442624,
          47.540983606557376,
          47.622950819672134,
          47.704918032786885,
          47.78688524590164,
          47.868852459016395,
          47.950819672131146,
          48.032786885245905,
          48.114754098360656,
          48.19672131147541,
          48.278688524590166,
          48.36065573770492,
          48.442622950819676,
          48.52459016393443,
          48.60655737704918,
          48.68852459016394,
          48.77049180327869,
          48.85245901639344,
          48.9344262295082,
          49.01639344262295,
          49.09836065573771,
          49.18032786885246,
          49.26229508196721,
          49.34426229508197,
          49.42622950819672,
          49.50819672131148,
          49.59016393442623,
          49.67213114754098,
          49.75409836065574,
          49.83606557377049,
          49.91803278688525,
          50,
          50.08196721311475,
          50.16393442622951,
          50.24590163934426,
          50.32786885245902,
          50.40983606557377,
          50.49180327868852,
          50.57377049180328,
          50.65573770491803,
          50.73770491803279,
          50.81967213114754,
          50.90163934426229,
          50.98360655737705,
          51.0655737704918,
          51.14754098360656,
          51.22950819672131,
          51.31147540983606,
          51.39344262295082,
          51.47540983606557,
          51.557377049180324,
          51.63934426229508,
          51.721311475409834,
          51.80327868852459,
          51.885245901639344,
          51.967213114754095,
          52.049180327868854,
          52.131147540983605,
          52.21311475409836,
          52.295081967213115,
          52.377049180327866,
          52.459016393442624,
          52.540983606557376,
          52.622950819672134,
          52.704918032786885,
          52.78688524590164,
          52.868852459016395,
          52.950819672131146,
          53.032786885245905,
          53.114754098360656,
          53.19672131147541,
          53.278688524590166,
          53.36065573770492,
          53.442622950819676,
          53.52459016393443,
          53.60655737704918,
          53.68852459016394,
          53.77049180327869,
          53.85245901639344,
          53.9344262295082,
          54.01639344262295,
          54.09836065573771,
          54.18032786885246,
          54.26229508196721,
          54.34426229508197,
          54.42622950819672,
          54.50819672131148,
          54.59016393442623,
          54.67213114754098,
          54.75409836065574,
          54.83606557377049,
          54.91803278688525,
          55,
          55.08196721311475,
          55.16393442622951,
          55.24590163934426,
          55.32786885245902,
          55.40983606557377,
          55.49180327868852,
          55.57377049180328,
          55.65573770491803,
          55.73770491803279,
          55.81967213114754,
          55.90163934426229,
          55.98360655737705,
          56.0655737704918,
          56.14754098360656,
          56.22950819672131,
          56.31147540983606,
          56.39344262295082,
          56.47540983606557,
          56.557377049180324,
          56.63934426229508,
          56.721311475409834,
          56.80327868852459,
          56.885245901639344,
          56.967213114754095,
          57.049180327868854,
          57.131147540983605,
          57.21311475409836,
          57.295081967213115,
          57.377049180327866,
          57.459016393442624,
          57.540983606557376,
          57.622950819672134,
          57.704918032786885,
          57.78688524590164,
          57.868852459016395,
          57.950819672131146,
          58.032786885245905,
          58.114754098360656,
          58.19672131147541,
          58.278688524590166,
          58.36065573770492,
          58.442622950819676,
          58.52459016393443,
          58.60655737704918,
          58.68852459016394,
          58.77049180327869,
          58.85245901639344,
          58.9344262295082,
          59.01639344262295,
          59.09836065573771,
          59.18032786885246,
          59.26229508196721,
          59.34426229508197,
          59.42622950819672,
          59.50819672131148,
          59.59016393442623,
          59.67213114754098,
          59.75409836065574,
          59.83606557377049,
          59.91803278688525,
          60,
          60.08196721311475,
          60.16393442622951,
          60.24590163934426,
          60.32786885245902,
          60.40983606557377,
          60.49180327868852,
          60.57377049180328,
          60.65573770491803,
          60.73770491803279,
          60.81967213114754,
          60.90163934426229,
          60.98360655737705,
          61.0655737704918,
          61.14754098360656,
          61.22950819672131,
          61.31147540983606,
          61.39344262295082,
          61.47540983606557,
          61.557377049180324,
          61.63934426229508,
          61.721311475409834,
          61.80327868852459,
          61.885245901639344,
          61.967213114754095,
          62.049180327868854,
          62.131147540983605,
          62.21311475409836,
          62.295081967213115,
          62.377049180327866,
          62.459016393442624,
          62.540983606557376,
          62.622950819672134,
          62.704918032786885,
          62.78688524590164,
          62.868852459016395,
          62.950819672131146,
          63.032786885245905,
          63.114754098360656,
          63.19672131147541,
          63.278688524590166,
          63.36065573770492,
          63.442622950819676,
          63.52459016393443,
          63.60655737704918,
          63.68852459016394,
          63.77049180327869,
          63.85245901639344,
          63.9344262295082,
          64.01639344262296,
          64.09836065573771,
          64.18032786885246,
          64.26229508196721,
          64.34426229508196,
          64.42622950819673,
          64.50819672131148,
          64.59016393442623,
          64.67213114754098,
          64.75409836065573,
          64.8360655737705,
          64.91803278688525,
          65,
          65.08196721311475,
          65.1639344262295,
          65.24590163934427,
          65.32786885245902,
          65.40983606557377,
          65.49180327868852,
          65.57377049180327,
          65.65573770491804,
          65.73770491803279,
          65.81967213114754,
          65.90163934426229,
          65.98360655737704,
          66.06557377049181,
          66.14754098360656,
          66.22950819672131,
          66.31147540983606,
          66.39344262295081,
          66.47540983606558,
          66.55737704918033,
          66.63934426229508,
          66.72131147540983,
          66.80327868852459,
          66.88524590163935,
          66.9672131147541,
          67.04918032786885,
          67.1311475409836,
          67.21311475409836,
          67.29508196721312,
          67.37704918032787,
          67.45901639344262,
          67.54098360655738,
          67.62295081967213,
          67.70491803278688,
          67.78688524590164,
          67.8688524590164,
          67.95081967213115,
          68.0327868852459,
          68.11475409836065,
          68.19672131147541,
          68.27868852459017,
          68.36065573770492,
          68.44262295081967,
          68.52459016393442,
          68.60655737704919,
          68.68852459016394,
          68.77049180327869,
          68.85245901639344,
          68.93442622950819,
          69.01639344262296,
          69.09836065573771,
          69.18032786885246,
          69.26229508196721,
          69.34426229508196,
          69.42622950819673,
          69.50819672131148,
          69.59016393442623,
          69.67213114754098,
          69.75409836065573,
          69.8360655737705,
          69.91803278688525,
          70,
          70.08196721311475,
          70.1639344262295,
          70.24590163934427,
          70.32786885245902,
          70.40983606557377,
          70.49180327868852,
          70.57377049180327,
          70.65573770491804,
          70.73770491803279,
          70.81967213114754,
          70.90163934426229,
          70.98360655737704,
          71.06557377049181,
          71.14754098360656,
          71.22950819672131,
          71.31147540983606,
          71.39344262295081,
          71.47540983606558,
          71.55737704918033,
          71.63934426229508,
          71.72131147540983,
          71.80327868852459,
          71.88524590163935,
          71.9672131147541,
          72.04918032786885,
          72.1311475409836,
          72.21311475409836,
          72.29508196721312,
          72.37704918032787,
          72.45901639344262,
          72.54098360655738,
          72.62295081967213,
          72.70491803278688,
          72.78688524590164,
          72.8688524590164,
          72.95081967213115,
          73.0327868852459,
          73.11475409836065,
          73.19672131147541,
          73.27868852459017,
          73.36065573770492,
          73.44262295081967,
          73.52459016393442,
          73.60655737704919,
          73.68852459016394,
          73.77049180327869,
          73.85245901639344,
          73.93442622950819,
          74.01639344262296,
          74.09836065573771,
          74.18032786885246,
          74.26229508196721,
          74.34426229508196,
          74.42622950819673,
          74.50819672131148,
          74.59016393442623,
          74.67213114754098,
          74.75409836065573,
          74.8360655737705,
          74.91803278688525,
          75,
          75.08196721311475,
          75.1639344262295,
          75.24590163934427,
          75.32786885245902,
          75.40983606557377,
          75.49180327868852,
          75.57377049180327,
          75.65573770491804,
          75.73770491803279,
          75.81967213114754,
          75.90163934426229,
          75.98360655737704,
          76.06557377049181,
          76.14754098360656,
          76.22950819672131,
          76.31147540983606,
          76.39344262295081,
          76.47540983606558,
          76.55737704918033,
          76.63934426229508,
          76.72131147540983,
          76.80327868852459,
          76.88524590163935,
          76.9672131147541,
          77.04918032786885,
          77.1311475409836,
          77.21311475409836,
          77.29508196721312,
          77.37704918032787,
          77.45901639344262,
          77.54098360655738,
          77.62295081967213,
          77.70491803278688,
          77.78688524590164,
          77.8688524590164,
          77.95081967213115,
          78.0327868852459,
          78.11475409836065,
          78.19672131147541,
          78.27868852459017,
          78.36065573770492,
          78.44262295081967,
          78.52459016393442,
          78.60655737704919,
          78.68852459016394,
          78.77049180327869,
          78.85245901639344,
          78.93442622950819,
          79.01639344262296,
          79.09836065573771,
          79.18032786885246,
          79.26229508196721,
          79.34426229508196,
          79.42622950819673,
          79.50819672131148,
          79.59016393442623,
          79.67213114754098,
          79.75409836065573,
          79.8360655737705,
          79.91803278688525,
          80,
          80.08196721311475,
          80.1639344262295,
          80.24590163934427,
          80.32786885245902,
          80.40983606557377,
          80.49180327868852,
          80.57377049180327,
          80.65573770491804,
          80.73770491803279,
          80.81967213114754,
          80.90163934426229,
          80.98360655737704,
          81.06557377049181,
          81.14754098360656,
          81.22950819672131,
          81.31147540983606,
          81.39344262295081,
          81.47540983606558,
          81.55737704918033,
          81.63934426229508,
          81.72131147540983,
          81.80327868852459,
          81.88524590163935,
          81.9672131147541,
          82.04918032786885,
          82.1311475409836,
          82.21311475409836,
          82.29508196721312,
          82.37704918032787,
          82.45901639344262,
          82.54098360655738,
          82.62295081967213,
          82.70491803278688,
          82.78688524590164,
          82.8688524590164,
          82.95081967213115,
          83.0327868852459,
          83.11475409836065,
          83.19672131147541,
          83.27868852459017,
          83.36065573770492,
          83.44262295081967,
          83.52459016393442,
          83.60655737704919,
          83.68852459016394,
          83.77049180327869,
          83.85245901639344,
          83.93442622950819,
          84.01639344262296,
          84.09836065573771,
          84.18032786885246,
          84.26229508196721,
          84.34426229508196,
          84.42622950819673,
          84.50819672131148,
          84.59016393442623,
          84.67213114754098,
          84.75409836065573,
          84.8360655737705,
          84.91803278688525,
          85,
          85.08196721311475,
          85.1639344262295,
          85.24590163934427,
          85.32786885245902,
          85.40983606557377,
          85.49180327868852,
          85.57377049180327,
          85.65573770491804,
          85.73770491803279,
          85.81967213114754,
          85.90163934426229,
          85.98360655737704,
          86.06557377049181,
          86.14754098360656,
          86.22950819672131,
          86.31147540983606,
          86.39344262295081,
          86.47540983606558,
          86.55737704918033,
          86.63934426229508,
          86.72131147540983,
          86.80327868852459,
          86.88524590163935,
          86.9672131147541,
          87.04918032786885,
          87.1311475409836,
          87.21311475409836,
          87.29508196721312,
          87.37704918032787,
          87.45901639344262,
          87.54098360655738,
          87.62295081967213,
          87.70491803278688,
          87.78688524590164,
          87.8688524590164,
          87.95081967213115,
          88.0327868852459,
          88.11475409836065,
          88.19672131147541,
          88.27868852459017,
          88.36065573770492,
          88.44262295081967,
          88.52459016393442,
          88.60655737704919,
          88.68852459016394,
          88.77049180327869,
          88.85245901639344,
          88.93442622950819,
          89.01639344262296,
          89.09836065573771,
          89.18032786885246,
          89.26229508196721,
          89.34426229508196,
          89.42622950819673,
          89.50819672131148,
          89.59016393442623,
          89.67213114754098,
          89.75409836065573,
          89.8360655737705,
          89.91803278688525,
          90,
          90.08196721311475,
          90.1639344262295,
          90.24590163934427,
          90.32786885245902,
          90.40983606557377,
          90.49180327868852,
          90.57377049180327,
          90.65573770491804,
          90.73770491803279,
          90.81967213114754,
          90.90163934426229,
          90.98360655737704,
          91.06557377049181,
          91.14754098360656,
          91.22950819672131,
          91.31147540983606,
          91.39344262295081,
          91.47540983606558,
          91.55737704918033,
          91.63934426229508,
          91.72131147540983,
          91.80327868852459,
          91.88524590163935,
          91.9672131147541,
          92.04918032786885,
          92.1311475409836,
          92.21311475409836,
          92.29508196721312,
          92.37704918032787,
          92.45901639344262,
          92.54098360655738,
          92.62295081967213,
          92.70491803278688,
          92.78688524590164,
          92.8688524590164,
          92.95081967213115,
          93.0327868852459,
          93.11475409836065,
          93.19672131147541,
          93.27868852459017,
          93.36065573770492,
          93.44262295081967,
          93.52459016393442,
          93.60655737704919,
          93.68852459016394,
          93.77049180327869,
          93.85245901639344,
          93.93442622950819,
          94.01639344262296,
          94.09836065573771,
          94.18032786885246,
          94.26229508196721,
          94.34426229508196,
          94.42622950819673,
          94.50819672131148,
          94.59016393442623,
          94.67213114754098,
          94.75409836065573,
          94.8360655737705,
          94.91803278688525,
          95,
          95.08196721311475,
          95.1639344262295,
          95.24590163934427,
          95.32786885245902,
          95.40983606557377,
          95.49180327868852,
          95.57377049180327,
          95.65573770491804,
          95.73770491803279,
          95.81967213114754,
          95.90163934426229,
          95.98360655737704,
          96.06557377049181,
          96.14754098360656,
          96.22950819672131,
          96.31147540983606,
          96.39344262295081,
          96.47540983606558,
          96.55737704918033,
          96.63934426229508,
          96.72131147540983,
          96.80327868852459,
          96.88524590163935,
          96.9672131147541,
          97.04918032786885,
          97.1311475409836,
          97.21311475409836,
          97.29508196721312,
          97.37704918032787,
          97.45901639344262,
          97.54098360655738,
          97.62295081967213,
          97.70491803278688,
          97.78688524590164,
          97.8688524590164,
          97.95081967213115,
          98.0327868852459,
          98.11475409836065,
          98.19672131147541,
          98.27868852459017,
          98.36065573770492,
          98.44262295081967,
          98.52459016393442,
          98.60655737704919,
          98.68852459016394,
          98.77049180327869,
          98.85245901639344,
          98.93442622950819,
          99.01639344262296,
          99.09836065573771,
          99.18032786885246,
          99.26229508196721,
          99.34426229508196,
          99.42622950819673,
          99.50819672131148,
          99.59016393442623,
          99.67213114754098,
          99.75409836065573,
          99.8360655737705,
          99.91803278688525,
          100
         ],
         "yaxis": "y"
        }
       ],
       "layout": {
        "autosize": true,
        "legend": {
         "tracegroupgap": 0
        },
        "template": {
         "data": {
          "scatter": [
           {
            "type": "scatter"
           }
          ]
         }
        },
        "title": {
         "text": "Cumulative distribution of <b>download latency</b>"
        },
        "xaxis": {
         "anchor": "y",
         "autorange": true,
         "domain": [
          0,
          1
         ],
         "range": [
          -0.2619098227681943,
          5.433850864714605
         ],
         "showspikes": true,
         "title": {
          "text": "download_latency"
         },
         "type": "linear"
        },
        "yaxis": {
         "anchor": "x",
         "autorange": true,
         "domain": [
          0,
          1
         ],
         "range": [
          0,
          106.57785179017486
         ],
         "rangemode": "tozero",
         "showspikes": true,
         "ticksuffix": "%",
         "title": {
          "text": "percent"
         },
         "type": "linear"
        }
       }
      },
      "image/png": "[encoded data removed]",
      "text/html": [
       "<div>                            <div id=\"fc0448c9-f17f-4fa5-96cb-30b153d3e1a5\" class=\"plotly-graph-div\" style=\"height:500px; width:100%;\"></div>            <script type=\"text/javascript\">                require([\"plotly\"], function(Plotly) {                    window.PLOTLYENV=window.PLOTLYENV || {};                                    if (document.getElementById(\"fc0448c9-f17f-4fa5-96cb-30b153d3e1a5\")) {                    Plotly.newPlot(                        \"fc0448c9-f17f-4fa5-96cb-30b153d3e1a5\",                        [{\"customdata\":[[0,1219,1220],[1,1218,1220],[2,1217,1220],[3,1216,1220],[4,1215,1220],[5,1214,1220],[6,1213,1220],[7,1212,1220],[8,1211,1220],[9,1210,1220],[10,1209,1220],[11,1208,1220],[12,1207,1220],[13,1206,1220],[14,1205,1220],[15,1204,1220],[16,1203,1220],[17,1202,1220],[18,1201,1220],[19,1200,1220],[20,1199,1220],[21,1198,1220],[22,1197,1220],[23,1196,1220],[24,1195,1220],[25,1194,1220],[26,1193,1220],[27,1192,1220],[28,1191,1220],[29,1190,1220],[30,1189,1220],[31,1188,1220],[32,1187,1220],[33,1186,1220],[34,1185,1220],[35,1184,1220],[36,1183,1220],[37,1182,1220],[38,1181,1220],[39,1180,1220],[40,1179,1220],[41,1178,1220],[42,1177,1220],[43,1176,1220],[44,1175,1220],[45,1174,1220],[46,1173,1220],[47,1172,1220],[48,1171,1220],[49,1170,1220],[50,1169,1220],[51,1168,1220],[52,1167,1220],[53,1166,1220],[54,1165,1220],[55,1164,1220],[56,1163,1220],[57,1162,1220],[58,1161,1220],[59,1160,1220],[60,1159,1220],[61,1158,1220],[62,1157,1220],[63,1156,1220],[64,1155,1220],[65,1154,1220],[66,1153,1220],[67,1152,1220],[68,1151,1220],[69,1150,1220],[70,1149,1220],[71,1148,1220],[72,1147,1220],[73,1146,1220],[74,1145,1220],[75,1144,1220],[76,1143,1220],[77,1142,1220],[78,1141,1220],[79,1140,1220],[80,1139,1220],[81,1138,1220],[82,1137,1220],[83,1136,1220],[84,1135,1220],[85,1134,1220],[86,1133,1220],[87,1132,1220],[88,1131,1220],[89,1130,1220],[90,1129,1220],[91,1128,1220],[92,1127,1220],[93,1126,1220],[94,1125,1220],[95,1124,1220],[96,1123,1220],[97,1122,1220],[98,1121,1220],[99,1120,1220],[100,1119,1220],[101,1118,1220],[102,1117,1220],[103,1116,1220],[104,1115,1220],[105,1114,1220],[106,1113,1220],[107,1112,1220],[108,1111,1220],[109,1110,1220],[110,1109,1220],[111,1108,1220],[112,1107,1220],[113,1106,1220],[114,1105,1220],[115,1104,1220],[116,1103,1220],[117,1102,1220],[118,1101,1220],[119,1100,1220],[120,1099,1220],[121,1098,1220],[122,1097,1220],[123,1096,1220],[124,1095,1220],[125,1094,1220],[126,1093,1220],[127,1092,1220],[128,1091,1220],[129,1090,1220],[130,1089,1220],[131,1088,1220],[132,1087,1220],[133,1086,1220],[134,1085,1220],[135,1084,1220],[136,1083,1220],[137,1082,1220],[138,1081,1220],[139,1080,1220],[140,1079,1220],[141,1078,1220],[142,1077,1220],[143,1076,1220],[144,1075,1220],[145,1074,1220],[146,1073,1220],[147,1072,1220],[148,1071,1220],[149,1070,1220],[150,1069,1220],[151,1068,1220],[152,1067,1220],[153,1066,1220],[154,1065,1220],[155,1064,1220],[156,1063,1220],[157,1062,1220],[158,1061,1220],[159,1060,1220],[160,1059,1220],[161,1058,1220],[162,1057,1220],[163,1056,1220],[164,1055,1220],[165,1054,1220],[166,1053,1220],[167,1052,1220],[168,1051,1220],[169,1050,1220],[170,1049,1220],[171,1048,1220],[172,1047,1220],[173,1046,1220],[174,1045,1220],[175,1044,1220],[176,1043,1220],[177,1042,1220],[178,1041,1220],[179,1040,1220],[180,1039,1220],[181,1038,1220],[182,1037,1220],[183,1036,1220],[184,1035,1220],[185,1034,1220],[186,1033,1220],[187,1032,1220],[188,1031,1220],[189,1030,1220],[190,1029,1220],[191,1028,1220],[192,1027,1220],[193,1026,1220],[194,1025,1220],[195,1024,1220],[196,1023,1220],[197,1022,1220],[198,1021,1220],[199,1020,1220],[200,1019,1220],[201,1018,1220],[202,1017,1220],[203,1016,1220],[204,1015,1220],[205,1014,1220],[206,1013,1220],[207,1012,1220],[208,1011,1220],[209,1010,1220],[210,1009,1220],[211,1008,1220],[212,1007,1220],[213,1006,1220],[214,1005,1220],[215,1004,1220],[216,1003,1220],[217,1002,1220],[218,1001,1220],[219,1000,1220],[220,999,1220],[221,998,1220],[222,997,1220],[223,996,1220],[224,995,1220],[225,994,1220],[226,993,1220],[227,992,1220],[228,991,1220],[229,990,1220],[230,989,1220],[231,988,1220],[232,987,1220],[233,986,1220],[234,985,1220],[235,984,1220],[236,983,1220],[237,982,1220],[238,981,1220],[239,980,1220],[240,979,1220],[241,978,1220],[242,977,1220],[243,976,1220],[244,975,1220],[245,974,1220],[246,973,1220],[247,972,1220],[248,971,1220],[249,970,1220],[250,969,1220],[251,968,1220],[252,967,1220],[253,966,1220],[254,965,1220],[255,964,1220],[256,963,1220],[257,962,1220],[258,961,1220],[259,960,1220],[260,959,1220],[261,958,1220],[262,957,1220],[263,956,1220],[264,955,1220],[265,954,1220],[266,953,1220],[267,952,1220],[268,951,1220],[269,950,1220],[270,949,1220],[271,948,1220],[272,947,1220],[273,946,1220],[274,945,1220],[275,944,1220],[276,943,1220],[277,942,1220],[278,941,1220],[279,940,1220],[280,939,1220],[281,938,1220],[282,937,1220],[283,936,1220],[284,935,1220],[285,934,1220],[286,933,1220],[287,932,1220],[288,931,1220],[289,930,1220],[290,929,1220],[291,928,1220],[292,927,1220],[293,926,1220],[294,925,1220],[295,924,1220],[296,923,1220],[297,922,1220],[298,921,1220],[299,920,1220],[300,919,1220],[301,918,1220],[302,917,1220],[303,916,1220],[304,915,1220],[305,914,1220],[306,913,1220],[307,912,1220],[308,911,1220],[309,910,1220],[310,909,1220],[311,908,1220],[312,907,1220],[313,906,1220],[314,905,1220],[315,904,1220],[316,903,1220],[317,902,1220],[318,901,1220],[319,900,1220],[320,899,1220],[321,898,1220],[322,897,1220],[323,896,1220],[324,895,1220],[325,894,1220],[326,893,1220],[327,892,1220],[328,891,1220],[329,890,1220],[330,889,1220],[331,888,1220],[332,887,1220],[333,886,1220],[334,885,1220],[335,884,1220],[336,883,1220],[337,882,1220],[338,881,1220],[339,880,1220],[340,879,1220],[341,878,1220],[342,877,1220],[343,876,1220],[344,875,1220],[345,874,1220],[346,873,1220],[347,872,1220],[348,871,1220],[349,870,1220],[350,869,1220],[351,868,1220],[352,867,1220],[353,866,1220],[354,865,1220],[355,864,1220],[356,863,1220],[357,862,1220],[358,861,1220],[359,860,1220],[360,859,1220],[361,858,1220],[362,857,1220],[363,856,1220],[364,855,1220],[365,854,1220],[366,853,1220],[367,852,1220],[368,851,1220],[369,850,1220],[370,849,1220],[371,848,1220],[372,847,1220],[373,846,1220],[374,845,1220],[375,844,1220],[376,843,1220],[377,842,1220],[378,841,1220],[379,840,1220],[380,839,1220],[381,838,1220],[382,837,1220],[383,836,1220],[384,835,1220],[385,834,1220],[386,833,1220],[387,832,1220],[388,831,1220],[389,830,1220],[390,829,1220],[391,828,1220],[392,827,1220],[393,826,1220],[394,825,1220],[395,824,1220],[396,823,1220],[397,822,1220],[398,821,1220],[399,820,1220],[400,819,1220],[401,818,1220],[402,817,1220],[403,816,1220],[404,815,1220],[405,814,1220],[406,813,1220],[407,812,1220],[408,811,1220],[409,810,1220],[410,809,1220],[411,808,1220],[412,807,1220],[413,806,1220],[414,805,1220],[415,804,1220],[416,803,1220],[417,802,1220],[418,801,1220],[419,800,1220],[420,799,1220],[421,798,1220],[422,797,1220],[423,796,1220],[424,795,1220],[425,794,1220],[426,793,1220],[427,792,1220],[428,791,1220],[429,790,1220],[430,789,1220],[431,788,1220],[432,787,1220],[433,786,1220],[434,785,1220],[435,784,1220],[436,783,1220],[437,782,1220],[438,781,1220],[439,780,1220],[440,779,1220],[441,778,1220],[442,777,1220],[443,776,1220],[444,775,1220],[445,774,1220],[446,773,1220],[447,772,1220],[448,771,1220],[449,770,1220],[450,769,1220],[451,768,1220],[452,767,1220],[453,766,1220],[454,765,1220],[455,764,1220],[456,763,1220],[457,762,1220],[458,761,1220],[459,760,1220],[460,759,1220],[461,758,1220],[462,757,1220],[463,756,1220],[464,755,1220],[465,754,1220],[466,753,1220],[467,752,1220],[468,751,1220],[469,750,1220],[470,749,1220],[471,748,1220],[472,747,1220],[473,746,1220],[474,745,1220],[475,744,1220],[476,743,1220],[477,742,1220],[478,741,1220],[479,740,1220],[480,739,1220],[481,738,1220],[482,737,1220],[483,736,1220],[484,735,1220],[485,734,1220],[486,733,1220],[487,732,1220],[488,731,1220],[489,730,1220],[490,729,1220],[491,728,1220],[492,727,1220],[493,726,1220],[494,725,1220],[495,724,1220],[496,723,1220],[497,722,1220],[498,721,1220],[499,720,1220],[500,719,1220],[501,718,1220],[502,717,1220],[503,716,1220],[504,715,1220],[505,714,1220],[506,713,1220],[507,712,1220],[508,711,1220],[509,710,1220],[510,709,1220],[511,708,1220],[512,707,1220],[513,706,1220],[514,705,1220],[515,704,1220],[516,703,1220],[517,702,1220],[518,701,1220],[519,700,1220],[520,699,1220],[521,698,1220],[522,697,1220],[523,696,1220],[524,695,1220],[525,694,1220],[526,693,1220],[527,692,1220],[528,691,1220],[529,690,1220],[530,689,1220],[531,688,1220],[532,687,1220],[533,686,1220],[534,685,1220],[535,684,1220],[536,683,1220],[537,682,1220],[538,681,1220],[539,680,1220],[540,679,1220],[541,678,1220],[542,677,1220],[543,676,1220],[544,675,1220],[545,674,1220],[546,673,1220],[547,672,1220],[548,671,1220],[549,670,1220],[550,669,1220],[551,668,1220],[552,667,1220],[553,666,1220],[554,665,1220],[555,664,1220],[556,663,1220],[557,662,1220],[558,661,1220],[559,660,1220],[560,659,1220],[561,658,1220],[562,657,1220],[563,656,1220],[564,655,1220],[565,654,1220],[566,653,1220],[567,652,1220],[568,651,1220],[569,650,1220],[570,649,1220],[571,648,1220],[572,647,1220],[573,646,1220],[574,645,1220],[575,644,1220],[576,643,1220],[577,642,1220],[578,641,1220],[579,640,1220],[580,639,1220],[581,638,1220],[582,637,1220],[583,636,1220],[584,635,1220],[585,634,1220],[586,633,1220],[587,632,1220],[588,631,1220],[589,630,1220],[590,629,1220],[591,628,1220],[592,627,1220],[593,626,1220],[594,625,1220],[595,624,1220],[596,623,1220],[597,622,1220],[598,621,1220],[599,620,1220],[600,619,1220],[601,618,1220],[602,617,1220],[603,616,1220],[604,615,1220],[605,614,1220],[606,613,1220],[607,612,1220],[608,611,1220],[609,610,1220],[610,609,1220],[611,608,1220],[612,607,1220],[613,606,1220],[614,605,1220],[615,604,1220],[616,603,1220],[617,602,1220],[618,601,1220],[619,600,1220],[620,599,1220],[621,598,1220],[622,597,1220],[623,596,1220],[624,595,1220],[625,594,1220],[626,593,1220],[627,592,1220],[628,591,1220],[629,590,1220],[630,589,1220],[631,588,1220],[632,587,1220],[633,586,1220],[634,585,1220],[635,584,1220],[636,583,1220],[637,582,1220],[638,581,1220],[639,580,1220],[640,579,1220],[641,578,1220],[642,577,1220],[643,576,1220],[644,575,1220],[645,574,1220],[646,573,1220],[647,572,1220],[648,571,1220],[649,570,1220],[650,569,1220],[651,568,1220],[652,567,1220],[653,566,1220],[654,565,1220],[655,564,1220],[656,563,1220],[657,562,1220],[658,561,1220],[659,560,1220],[660,559,1220],[661,558,1220],[662,557,1220],[663,556,1220],[664,555,1220],[665,554,1220],[666,553,1220],[667,552,1220],[668,551,1220],[669,550,1220],[670,549,1220],[671,548,1220],[672,547,1220],[673,546,1220],[674,545,1220],[675,544,1220],[676,543,1220],[677,542,1220],[678,541,1220],[679,540,1220],[680,539,1220],[681,538,1220],[682,537,1220],[683,536,1220],[684,535,1220],[685,534,1220],[686,533,1220],[687,532,1220],[688,531,1220],[689,530,1220],[690,529,1220],[691,528,1220],[692,527,1220],[693,526,1220],[694,525,1220],[695,524,1220],[696,523,1220],[697,522,1220],[698,521,1220],[699,520,1220],[700,519,1220],[701,518,1220],[702,517,1220],[703,516,1220],[704,515,1220],[705,514,1220],[706,513,1220],[707,512,1220],[708,511,1220],[709,510,1220],[710,509,1220],[711,508,1220],[712,507,1220],[713,506,1220],[714,505,1220],[715,504,1220],[716,503,1220],[717,502,1220],[718,501,1220],[719,500,1220],[720,499,1220],[721,498,1220],[722,497,1220],[723,496,1220],[724,495,1220],[725,494,1220],[726,493,1220],[727,492,1220],[728,491,1220],[729,490,1220],[730,489,1220],[731,488,1220],[732,487,1220],[733,486,1220],[734,485,1220],[735,484,1220],[736,483,1220],[737,482,1220],[738,481,1220],[739,480,1220],[740,479,1220],[741,478,1220],[742,477,1220],[743,476,1220],[744,475,1220],[745,474,1220],[746,473,1220],[747,472,1220],[748,471,1220],[749,470,1220],[750,469,1220],[751,468,1220],[752,467,1220],[753,466,1220],[754,465,1220],[755,464,1220],[756,463,1220],[757,462,1220],[758,461,1220],[759,460,1220],[760,459,1220],[761,458,1220],[762,457,1220],[763,456,1220],[764,455,1220],[765,454,1220],[766,453,1220],[767,452,1220],[768,451,1220],[769,450,1220],[770,449,1220],[771,448,1220],[772,447,1220],[773,446,1220],[774,445,1220],[775,444,1220],[776,443,1220],[777,442,1220],[778,441,1220],[779,440,1220],[780,439,1220],[781,438,1220],[782,437,1220],[783,436,1220],[784,435,1220],[785,434,1220],[786,433,1220],[787,432,1220],[788,431,1220],[789,430,1220],[790,429,1220],[791,428,1220],[792,427,1220],[793,426,1220],[794,425,1220],[795,424,1220],[796,423,1220],[797,422,1220],[798,421,1220],[799,420,1220],[800,419,1220],[801,418,1220],[802,417,1220],[803,416,1220],[804,415,1220],[805,414,1220],[806,413,1220],[807,412,1220],[808,411,1220],[809,410,1220],[810,409,1220],[811,408,1220],[812,407,1220],[813,406,1220],[814,405,1220],[815,404,1220],[816,403,1220],[817,402,1220],[818,401,1220],[819,400,1220],[820,399,1220],[821,398,1220],[822,397,1220],[823,396,1220],[824,395,1220],[825,394,1220],[826,393,1220],[827,392,1220],[828,391,1220],[829,390,1220],[830,389,1220],[831,388,1220],[832,387,1220],[833,386,1220],[834,385,1220],[835,384,1220],[836,383,1220],[837,382,1220],[838,381,1220],[839,380,1220],[840,379,1220],[841,378,1220],[842,377,1220],[843,376,1220],[844,375,1220],[845,374,1220],[846,373,1220],[847,372,1220],[848,371,1220],[849,370,1220],[850,369,1220],[851,368,1220],[852,367,1220],[853,366,1220],[854,365,1220],[855,364,1220],[856,363,1220],[857,362,1220],[858,361,1220],[859,360,1220],[860,359,1220],[861,358,1220],[862,357,1220],[863,356,1220],[864,355,1220],[865,354,1220],[866,353,1220],[867,352,1220],[868,351,1220],[869,350,1220],[870,349,1220],[871,348,1220],[872,347,1220],[873,346,1220],[874,345,1220],[875,344,1220],[876,343,1220],[877,342,1220],[878,341,1220],[879,340,1220],[880,339,1220],[881,338,1220],[882,337,1220],[883,336,1220],[884,335,1220],[885,334,1220],[886,333,1220],[887,332,1220],[888,331,1220],[889,330,1220],[890,329,1220],[891,328,1220],[892,327,1220],[893,326,1220],[894,325,1220],[895,324,1220],[896,323,1220],[897,322,1220],[898,321,1220],[899,320,1220],[900,319,1220],[901,318,1220],[902,317,1220],[903,316,1220],[904,315,1220],[905,314,1220],[906,313,1220],[907,312,1220],[908,311,1220],[909,310,1220],[910,309,1220],[911,308,1220],[912,307,1220],[913,306,1220],[914,305,1220],[915,304,1220],[916,303,1220],[917,302,1220],[918,301,1220],[919,300,1220],[920,299,1220],[921,298,1220],[922,297,1220],[923,296,1220],[924,295,1220],[925,294,1220],[926,293,1220],[927,292,1220],[928,291,1220],[929,290,1220],[930,289,1220],[931,288,1220],[932,287,1220],[933,286,1220],[934,285,1220],[935,284,1220],[936,283,1220],[937,282,1220],[938,281,1220],[939,280,1220],[940,279,1220],[941,278,1220],[942,277,1220],[943,276,1220],[944,275,1220],[945,274,1220],[946,273,1220],[947,272,1220],[948,271,1220],[949,270,1220],[950,269,1220],[951,268,1220],[952,267,1220],[953,266,1220],[954,265,1220],[955,264,1220],[956,263,1220],[957,262,1220],[958,261,1220],[959,260,1220],[960,259,1220],[961,258,1220],[962,257,1220],[963,256,1220],[964,255,1220],[965,254,1220],[966,253,1220],[967,252,1220],[968,251,1220],[969,250,1220],[970,249,1220],[971,248,1220],[972,247,1220],[973,246,1220],[974,245,1220],[975,244,1220],[976,243,1220],[977,242,1220],[978,241,1220],[979,240,1220],[980,239,1220],[981,238,1220],[982,237,1220],[983,236,1220],[984,235,1220],[985,234,1220],[986,233,1220],[987,232,1220],[988,231,1220],[989,230,1220],[990,229,1220],[991,228,1220],[992,227,1220],[993,226,1220],[994,225,1220],[995,224,1220],[996,223,1220],[997,222,1220],[998,221,1220],[999,220,1220],[1000,219,1220],[1001,218,1220],[1002,217,1220],[1003,216,1220],[1004,215,1220],[1005,214,1220],[1006,213,1220],[1007,212,1220],[1008,211,1220],[1009,210,1220],[1010,209,1220],[1011,208,1220],[1012,207,1220],[1013,206,1220],[1014,205,1220],[1015,204,1220],[1016,203,1220],[1017,202,1220],[1018,201,1220],[1019,200,1220],[1020,199,1220],[1021,198,1220],[1022,197,1220],[1023,196,1220],[1024,195,1220],[1025,194,1220],[1026,193,1220],[1027,192,1220],[1028,191,1220],[1029,190,1220],[1030,189,1220],[1031,188,1220],[1032,187,1220],[1033,186,1220],[1034,185,1220],[1035,184,1220],[1036,183,1220],[1037,182,1220],[1038,181,1220],[1039,180,1220],[1040,179,1220],[1041,178,1220],[1042,177,1220],[1043,176,1220],[1044,175,1220],[1045,174,1220],[1046,173,1220],[1047,172,1220],[1048,171,1220],[1049,170,1220],[1050,169,1220],[1051,168,1220],[1052,167,1220],[1053,166,1220],[1054,165,1220],[1055,164,1220],[1056,163,1220],[1057,162,1220],[1058,161,1220],[1059,160,1220],[1060,159,1220],[1061,158,1220],[1062,157,1220],[1063,156,1220],[1064,155,1220],[1065,154,1220],[1066,153,1220],[1067,152,1220],[1068,151,1220],[1069,150,1220],[1070,149,1220],[1071,148,1220],[1072,147,1220],[1073,146,1220],[1074,145,1220],[1075,144,1220],[1076,143,1220],[1077,142,1220],[1078,141,1220],[1079,140,1220],[1080,139,1220],[1081,138,1220],[1082,137,1220],[1083,136,1220],[1084,135,1220],[1085,134,1220],[1086,133,1220],[1087,132,1220],[1088,131,1220],[1089,130,1220],[1090,129,1220],[1091,128,1220],[1092,127,1220],[1093,126,1220],[1094,125,1220],[1095,124,1220],[1096,123,1220],[1097,122,1220],[1098,121,1220],[1099,120,1220],[1100,119,1220],[1101,118,1220],[1102,117,1220],[1103,116,1220],[1104,115,1220],[1105,114,1220],[1106,113,1220],[1107,112,1220],[1108,111,1220],[1109,110,1220],[1110,109,1220],[1111,108,1220],[1112,107,1220],[1113,106,1220],[1114,105,1220],[1115,104,1220],[1116,103,1220],[1117,102,1220],[1118,101,1220],[1119,100,1220],[1120,99,1220],[1121,98,1220],[1122,97,1220],[1123,96,1220],[1124,95,1220],[1125,94,1220],[1126,93,1220],[1127,92,1220],[1128,91,1220],[1129,90,1220],[1130,89,1220],[1131,88,1220],[1132,87,1220],[1133,86,1220],[1134,85,1220],[1135,84,1220],[1136,83,1220],[1137,82,1220],[1138,81,1220],[1139,80,1220],[1140,79,1220],[1141,78,1220],[1142,77,1220],[1143,76,1220],[1144,75,1220],[1145,74,1220],[1146,73,1220],[1147,72,1220],[1148,71,1220],[1149,70,1220],[1150,69,1220],[1151,68,1220],[1152,67,1220],[1153,66,1220],[1154,65,1220],[1155,64,1220],[1156,63,1220],[1157,62,1220],[1158,61,1220],[1159,60,1220],[1160,59,1220],[1161,58,1220],[1162,57,1220],[1163,56,1220],[1164,55,1220],[1165,54,1220],[1166,53,1220],[1167,52,1220],[1168,51,1220],[1169,50,1220],[1170,49,1220],[1171,48,1220],[1172,47,1220],[1173,46,1220],[1174,45,1220],[1175,44,1220],[1176,43,1220],[1177,42,1220],[1178,41,1220],[1179,40,1220],[1180,39,1220],[1181,38,1220],[1182,37,1220],[1183,36,1220],[1184,35,1220],[1185,34,1220],[1186,33,1220],[1187,32,1220],[1188,31,1220],[1189,30,1220],[1190,29,1220],[1191,28,1220],[1192,27,1220],[1193,26,1220],[1194,25,1220],[1195,24,1220],[1196,23,1220],[1197,22,1220],[1198,21,1220],[1199,20,1220],[1200,19,1220],[1201,18,1220],[1202,17,1220],[1203,16,1220],[1204,15,1220],[1205,14,1220],[1206,13,1220],[1207,12,1220],[1208,11,1220],[1209,10,1220],[1210,9,1220],[1211,8,1220],[1212,7,1220],[1213,6,1220],[1214,5,1220],[1215,4,1220],[1216,3,1220],[1217,2,1220],[1218,1,1220],[1219,0,1220]],\"hovertemplate\":\"<b>Download Latency</b><br><br>download_latency: %{x}<br>percent: %{y}<br><br>count below: %{customdata[0]:,}<br>count above: %{customdata[1]:,}<br>total count: %{customdata[2]:,}<extra></extra>\",\"legendgroup\":\"\",\"line\":{\"dash\":\"solid\",\"shape\":\"hv\"},\"marker\":{\"color\":\"#1F77B4\",\"symbol\":\"circle\"},\"mode\":\"markers\",\"name\":\"\",\"showlegend\":false,\"x\":[0.04864311218261701,0.054042100906372,0.05531096458435,0.055486917495727005,0.0556161403656,0.056342124938964004,0.060558080673217,0.072351932525634,0.12714123725891102,0.135603904724121,0.13874411582946702,0.16418480873107902,0.164477109909057,0.165683984756469,0.166016101837158,0.166098117828369,0.16653299331665,0.168796777725219,0.168874979019165,0.169096231460571,0.16944622993469202,0.17015385627746502,0.17023706436157202,0.17077589035034102,0.17084026336669902,0.17138195037841703,0.171512842178344,0.17165589332580503,0.171704053878784,0.171722888946533,0.17245697975158603,0.17273592948913502,0.173282146453857,0.17363214492797802,0.17382764816284102,0.17417788505554202,0.174183130264282,0.174364805221557,0.17470622062683103,0.174911975860595,0.174925804138183,0.175319194793701,0.175516128540039,0.175679922103881,0.17629313468933103,0.176856040954589,0.176926136016845,0.17747592926025302,0.177793741226196,0.17788219451904203,0.177956104278564,0.178180932998657,0.17829084396362302,0.178359031677246,0.17842411994934002,0.17859888076782202,0.17918610572814903,0.17921590805053703,0.17922496795654203,0.179667949676513,0.18006491661071702,0.18010115623474102,0.18023204803466703,0.180385112762451,0.180398941040039,0.18050408363342202,0.180505037307739,0.18074178695678703,0.18074893951416002,0.18076610565185502,0.18102574348449701,0.18129801750183103,0.18133687973022403,0.181342124938964,0.181496858596801,0.181540727615356,0.181670188903808,0.18178033828735302,0.181831836700439,0.18197512626647902,0.18220186233520502,0.18235373497009202,0.18236708641052202,0.18262910842895502,0.183048963546752,0.183115005493164,0.183140039443969,0.18319368362426702,0.18366193771362302,0.18379497528076102,0.18384981155395502,0.183871030807495,0.183872938156127,0.18389511108398401,0.184027194976806,0.184036016464233,0.184122800827026,0.184262990951538,0.18438100814819303,0.18439507484436002,0.184584856033325,0.185138940811157,0.18516421318054202,0.18555808067321702,0.18574905395507801,0.185756921768188,0.186268091201782,0.18627810478210402,0.18638420104980402,0.186597347259521,0.18666577339172302,0.18669581413269,0.186782121658325,0.186865806579589,0.187026023864746,0.18704104423522902,0.187083005905151,0.18709301948547302,0.18718886375427202,0.18759989738464303,0.18761396408081002,0.18763327598571702,0.187712907791137,0.18777894973754802,0.18780589103698703,0.18780684471130302,0.18781995773315402,0.187916040420532,0.187945842742919,0.18796014785766602,0.188002109527587,0.18828105926513602,0.18834209442138602,0.18839406967163003,0.188409090042114,0.18843793869018502,0.188490867614746,0.188581705093383,0.18862509727478002,0.18863224983215302,0.18869185447692802,0.18882489204406702,0.188939094543457,0.188982009887695,0.18900799751281702,0.18905186653137201,0.18906402587890603,0.189242124557495,0.18925690650939903,0.189328908920288,0.189533948898315,0.189597129821777,0.18974471092224102,0.189778089523315,0.19011998176574701,0.19027519226074202,0.190329790115356,0.19034385681152302,0.1905198097229,0.190701961517333,0.19082307815551702,0.190994024276733,0.19114208221435502,0.19118881225585901,0.19124913215637201,0.191306829452514,0.191442966461181,0.19150900840759202,0.191549062728881,0.191664218902587,0.191761255264282,0.191815853118896,0.19187116622924802,0.19191694259643502,0.191946983337402,0.192146778106689,0.192200899124145,0.19220185279846103,0.192252874374389,0.192282676696777,0.19244384765625,0.19266605377197202,0.192677974700927,0.192700147628784,0.192701816558837,0.192920923233032,0.19304680824279702,0.19308686256408603,0.19309377670288003,0.193124055862426,0.19319295883178703,0.193217039108276,0.19323611259460402,0.19328308105468703,0.19332623481750402,0.193343162536621,0.19352793693542403,0.19354391098022403,0.19364404678344702,0.193678140640258,0.19369602203369102,0.193814992904663,0.19389796257019,0.19393110275268502,0.19429087638854903,0.194325923919677,0.19432997703552202,0.19449996948242101,0.194653272628784,0.19477725028991702,0.19479584693908603,0.194810152053833,0.19488501548767,0.19493389129638602,0.19500398635864202,0.195036888122558,0.19510006904602,0.195125818252563,0.19513702392578103,0.19558715820312503,0.195731163024902,0.195835828781127,0.196023225784301,0.19602990150451602,0.196431875228881,0.196469068527221,0.196535110473632,0.19680094718933103,0.19699406623840302,0.19700622558593703,0.197241067886352,0.197288990020751,0.19731020927429202,0.19738698005676203,0.197638750076293,0.19798016548156702,0.19800806045532202,0.198026895523071,0.19803905487060502,0.19818496704101501,0.19818902015686002,0.19819808006286602,0.198203086853027,0.19828820228576602,0.19832491874694802,0.198339939117431,0.19851279258728002,0.19852185249328602,0.198628902435302,0.19865489006042403,0.198776006698608,0.198880672454833,0.198896884918212,0.19890594482421803,0.198935031890869,0.198948144912719,0.199030637741088,0.19911074638366702,0.199120044708251,0.19921398162841703,0.199265718460083,0.19943881034851002,0.19945907592773401,0.199500799179077,0.19960927963256803,0.199743032455444,0.19988894462585402,0.19999074935913003,0.20009899139404203,0.200201988220214,0.200222969055175,0.20031690597534102,0.200403213500976,0.20047307014465302,0.20057082176208402,0.200649976730346,0.200666904449462,0.20069503784179601,0.20070719718933103,0.200795888900756,0.200894832611083,0.20106601715087802,0.20112085342407202,0.20118498802185,0.201215982437133,0.201388120651245,0.201488733291625,0.20181703567504802,0.20185112953186002,0.201854944229125,0.20190787315368602,0.20193576812744102,0.201990127563476,0.20217013359069802,0.20239520072937,0.202413082122802,0.20241379737854,0.202447175979614,0.20250225067138602,0.20253300666809002,0.20255708694458002,0.202621221542358,0.20265078544616702,0.202689170837402,0.20273804664611803,0.20283389091491702,0.20284080505371002,0.20289087295532202,0.202918052673339,0.20296907424926702,0.20300006866455,0.203078985214233,0.20312380790710402,0.20333194732666002,0.203402996063232,0.20341992378234802,0.203495979309082,0.20350527763366702,0.20356202125549303,0.203618764877319,0.203635215759277,0.203647136688232,0.20379114151000902,0.20390701293945301,0.20399403572082503,0.20408987998962402,0.204144954681396,0.20420503616333002,0.204269170761108,0.20441174507141102,0.20468997955322202,0.20469975471496502,0.205014944076538,0.20522594451904203,0.205328226089477,0.20536398887634202,0.20538401603698703,0.20540475845336903,0.20547485351562503,0.205532789230346,0.20557403564453103,0.20606398582458402,0.20610260963439903,0.206141948699951,0.206225872039794,0.206232786178588,0.206354856491088,0.20638370513916002,0.20643997192382801,0.20647811889648401,0.20685100555419902,0.206908226013183,0.206933975219726,0.207119941711425,0.20724511146545402,0.20731592178344702,0.20734691619873002,0.20738101005554202,0.20741200447082503,0.20746493339538502,0.20748496055603002,0.207796812057495,0.207868099212646,0.207884788513183,0.20827698707580503,0.20874714851379303,0.20877194404602,0.20886182785034102,0.20886921882629303,0.209126949310302,0.20927715301513602,0.209332942962646,0.20947408676147403,0.20960187911987302,0.209707021713256,0.209858655929565,0.20987796783447202,0.209935903549194,0.210036993026733,0.210181236267089,0.21031379699707,0.21036696434020902,0.210487842559814,0.21051597595214802,0.21100711822509702,0.211150884628295,0.21119689941406203,0.21124768257141102,0.21127390861511203,0.21129703521728502,0.21144604682922302,0.21170878410339303,0.211709976196289,0.21184492111206002,0.21201705932617101,0.21208691596984802,0.21213698387145902,0.21217775344848602,0.21249604225158603,0.21254801750183103,0.21274113655090302,0.212835073471069,0.21307897567749,0.21308898925781203,0.21327519416809002,0.21330714225769,0.21335196495056102,0.21342468261718703,0.21354484558105402,0.21368503570556602,0.214084148406982,0.214208126068115,0.214213132858276,0.21434712409973103,0.21474695205688402,0.21477603912353502,0.214803218841552,0.21484398841857902,0.21499705314636203,0.21527123451232902,0.21532297134399403,0.215340137481689,0.215404033660888,0.215623140335083,0.21577501296997,0.215877056121826,0.21592569351196203,0.21618390083312902,0.216472148895263,0.216505289077758,0.21654891967773401,0.21668100357055603,0.21725893020629802,0.21732401847839303,0.21747612953186002,0.217571973800659,0.21757698059082,0.217861890792846,0.21786499023437503,0.21786808967590302,0.21787285804748502,0.218147754669189,0.21860122680664001,0.21861505508422802,0.218616724014282,0.21900606155395502,0.21916007995605402,0.21928191184997503,0.21967625617980902,0.21973085403442302,0.21997213363647403,0.220039844512939,0.22016716003417902,0.22035813331604,0.22042703628540003,0.22045493125915502,0.220827102661132,0.22103881835937503,0.221325159072875,0.22143411636352503,0.22195029258728002,0.222447872161865,0.222653865814208,0.222739934921264,0.223289966583251,0.223423957824707,0.22342777252197202,0.223670721054077,0.22373509407043402,0.223939180374145,0.224104881286621,0.224417686462402,0.22455382347106903,0.22455906867980902,0.22465896606445301,0.224761724472045,0.225089073181152,0.22535872459411602,0.22572493553161602,0.22640919685363703,0.226463079452514,0.22666597366333002,0.22678780555725,0.22680807113647403,0.22684502601623502,0.22725820541381803,0.22731184959411602,0.22763490676879802,0.22768902778625402,0.22807502746582,0.22808218002319303,0.22814273834228502,0.22860527038574202,0.228893995285034,0.229000806808471,0.22943902015686002,0.22956919670104903,0.22959208488464303,0.22991108894348103,0.22995018959045402,0.23011803627014102,0.23036503791809002,0.23089909553527802,0.23117613792419403,0.231365919113159,0.231950044631958,0.232264995574951,0.232594966888427,0.23261904716491702,0.23356914520263602,0.23378014564514102,0.23405313491821203,0.234186887741088,0.23462820053100503,0.235798120498657,0.235854148864746,0.236289739608764,0.23650574684143003,0.236508131027221,0.237029790878295,0.23724508285522403,0.23827910423278803,0.23843669891357402,0.23898816108703602,0.23970413208007801,0.240788221359252,0.241250991821289,0.24192285537719702,0.242982864379882,0.24356985092163003,0.24378085136413502,0.24438190460205003,0.24443125724792403,0.24489116668701102,0.24641370773315402,0.24692821502685502,0.24872183799743602,0.24929881095886203,0.250139951705932,0.250542163848876,0.25065231323242104,0.250717163085937,0.25173974037170405,0.252409696578979,0.25250411033630304,0.25270009040832503,0.25286793708801203,0.253676891326904,0.25488471984863204,0.256515026092529,0.256875991821289,0.25778818130493103,0.25832891464233404,0.25934004783630304,0.261651992797851,0.262333154678344,0.26286625862121504,0.263762950897216,0.26528835296630804,0.26642298698425204,0.26691293716430603,0.267566919326782,0.26857995986938404,0.269360065460205,0.27112603187561,0.271818161010742,0.272464990615844,0.27377200126647905,0.275654077529907,0.276496171951293,0.27830815315246504,0.279634714126586,0.28054308891296303,0.285869121551513,0.28939008712768505,0.291376113891601,0.29211616516113204,0.29964804649353,0.30500411987304604,0.309283018112182,0.309306859970092,0.311172008514404,0.311953067779541,0.314007759094238,0.314726114273071,0.3158860206604,0.319349765777587,0.31983160972595204,0.320422887802124,0.321668863296508,0.32262802124023404,0.324416875839233,0.324505805969238,0.325715065002441,0.32576704025268505,0.328714132308959,0.328788995742797,0.32898521423339805,0.330328702926635,0.331587076187133,0.331980943679809,0.33274888992309504,0.333412885665893,0.33440613746643005,0.33533883094787603,0.33646512031555104,0.33647489547729403,0.337072134017944,0.337085962295532,0.337259054183959,0.33782887458801203,0.338088989257812,0.33893108367919905,0.33916687965393005,0.33980107307434004,0.339844942092895,0.34030723571777305,0.34081101417541504,0.340925216674804,0.342058897018432,0.342764854431152,0.343024015426635,0.343055963516235,0.34308576583862305,0.343116998672485,0.343490123748779,0.34373521804809504,0.343793869018554,0.344498872756958,0.34472274780273404,0.34529399871826105,0.345592975616455,0.34576416015625,0.34610295295715304,0.34615993499755804,0.3471040725708,0.34716796875,0.347430944442749,0.348419189453125,0.34889388084411604,0.34918999671936,0.34955883026123,0.34968304634094205,0.349934816360473,0.35002017021179205,0.351422071456909,0.35144615173339805,0.351470947265625,0.35229682922363204,0.35236191749572704,0.353363990783691,0.35350775718688904,0.353568077087402,0.35408163070678705,0.35610318183898904,0.35616302490234303,0.356462955474853,0.35681676864624,0.35690212249755804,0.357070922851562,0.35721802711486805,0.359399795532226,0.35998678207397405,0.35998797416687,0.36029219627380304,0.36097311973571705,0.361141920089721,0.36124801635742104,0.36134815216064403,0.361360788345336,0.361997842788696,0.36276388168334905,0.36319589614868103,0.36480617523193304,0.365740060806274,0.36710500717163,0.36740303039550704,0.36824607849121005,0.368635177612304,0.370138883590698,0.370615005493164,0.37255096435546803,0.37321400642395003,0.373427867889404,0.37348031997680603,0.37627816200256303,0.37821292877197205,0.378374814987182,0.37896609306335405,0.378978013992309,0.37927126884460405,0.379565000534057,0.38067817687988204,0.38097095489501903,0.38144898414611805,0.382689952850341,0.382995128631591,0.383312940597534,0.384212970733642,0.38461089134216303,0.38556218147277804,0.38558959960937506,0.38592696189880304,0.386147022247314,0.386527061462402,0.386961221694946,0.387139797210693,0.389867067337036,0.390513896942138,0.39084601402282704,0.39121913909912104,0.39331197738647405,0.39356088638305603,0.39393115043640103,0.39407777786254805,0.39446377754211404,0.39530396461486805,0.40034413337707503,0.40197396278381303,0.402101993560791,0.40679812431335405,0.407684087753295,0.40838503837585405,0.40846586227416903,0.40881800651550204,0.409998893737792,0.41058087348937905,0.41067004203796303,0.410751104354858,0.41228699684143005,0.41294503211975103,0.41298937797546303,0.413776159286499,0.41471576690673806,0.41473817825317305,0.41495394706726,0.41592693328857405,0.415952920913696,0.41626405715942305,0.41639184951782204,0.41656804084777804,0.41663575172424305,0.41690921783447205,0.41760420799255304,0.41811490058898904,0.41875982284545904,0.42002892494201605,0.42097806930541903,0.42107200622558505,0.42261886596679604,0.422974824905395,0.424201011657714,0.424298048019409,0.42430019378662104,0.42495203018188404,0.425604820251464,0.42565393447875904,0.426456212997436,0.426746129989624,0.42696905136108404,0.427091836929321,0.427342891693115,0.428208112716674,0.42895698547363204,0.428958892822265,0.429545879364013,0.429773092269897,0.43010282516479403,0.430459737777709,0.430551052093505,0.43056297302246005,0.43067812919616705,0.431171178817749,0.43129396438598605,0.431580781936645,0.43166017532348605,0.43240690231323203,0.43270087242126404,0.43307781219482405,0.43429994583129805,0.435046911239624,0.435780763626098,0.43587207794189403,0.43617296218872004,0.436416149139404,0.437958717346191,0.43871712684631303,0.43878698348999,0.43891215324401806,0.43917298316955505,0.439857721328735,0.44096803665161105,0.44146513938903803,0.44218993186950606,0.44253587722778304,0.44289112091064403,0.44297814369201605,0.44389891624450606,0.44444894790649403,0.44455599784851,0.44535279273986805,0.445783853530883,0.44606590270996005,0.446450948715209,0.447059869766235,0.447279214859008,0.44730877876281705,0.44739723205566406,0.44741606712341303,0.44744086265563904,0.447962999343872,0.448136091232299,0.44814395904541005,0.44899296760559004,0.449274063110351,0.449891090393066,0.45002102851867604,0.450428009033203,0.45043563842773404,0.45052576065063404,0.45058417320251404,0.450658082962036,0.45140409469604403,0.45146179199218706,0.45193195343017506,0.452168941497802,0.45223617553710904,0.452600002288818,0.452918052673339,0.45323204994201605,0.453288316726684,0.45352077484130804,0.45359301567077603,0.45367717742919905,0.45395898818969704,0.45487904548645003,0.456629991531372,0.457421779632568,0.45766520500183105,0.45888710021972606,0.45890808105468706,0.45905709266662603,0.45978903770446705,0.46053504943847606,0.460744142532348,0.46080994606018005,0.46091079711914,0.46260786056518505,0.46265172958374,0.46266293525695806,0.463075876235961,0.464065074920654,0.46430397033691406,0.464386940002441,0.464396715164184,0.46463894844055104,0.46474289894104004,0.465590953826904,0.46594810485839805,0.46652793884277305,0.46664309501647905,0.466670036315917,0.467198848724365,0.46746397018432606,0.467582941055297,0.46779584884643505,0.467812061309814,0.467926979064941,0.46797180175781206,0.46852517127990706,0.469094991683959,0.46912407875061,0.46934795379638605,0.46957421302795405,0.47004294395446705,0.47006511688232405,0.470081090927124,0.47090291976928705,0.471124172210693,0.47160601615905706,0.471921920776367,0.47244811058044406,0.47267317771911604,0.472845792770385,0.47362089157104403,0.47402119636535606,0.47480010986328103,0.47491908073425204,0.475039005279541,0.47512316703796303,0.475555181503295,0.47573614120483404,0.47616362571716303,0.47635197639465304,0.47663307189941406,0.47692108154296803,0.47786521911621005,0.47793579101562506,0.478454113006591,0.47848510742187506,0.479166984558105,0.479473829269409,0.48021388053894004,0.482680797576904,0.483119249343872,0.48351383209228505,0.48375487327575606,0.484400987625122,0.484574317932128,0.48547792434692305,0.485503911972045,0.48568081855773904,0.487058877944946,0.487153053283691,0.487592935562133,0.488085031509399,0.48842811584472606,0.488606929779052,0.48982024192810003,0.49031782150268505,0.49034309387207003,0.490391969680786,0.490555763244628,0.49074816703796303,0.49091672897338806,0.49174499511718706,0.49184489250183105,0.49195098876953103,0.49210906028747503,0.49241495132446206,0.49251103401184004,0.49286007881164506,0.49296617507934504,0.49306607246398904,0.49308800697326605,0.49326276779174805,0.493376016616821,0.49399709701538,0.494077920913696,0.49483990669250405,0.495046138763427,0.49520087242126404,0.49581480026245106,0.49657988548278803,0.49710893630981406,0.49730205535888605,0.49746298789978005,0.49769020080566406,0.498853683471679,0.49890899658203103,0.49909496307373,0.49935007095336903,0.49982786178588806,0.5003142356872551,0.5006170272827141,0.500912904739379,0.501338958740234,0.501353979110717,0.5019593238830561,0.502053022384643,0.502579927444458,0.502701044082641,0.5034213066101071,0.5034880638122551,0.503740072250366,0.503814935684204,0.5039789676666261,0.504117012023925,0.5043482780456541,0.5050199031829831,0.5052139759063721,0.505296230316162,0.505326986312866,0.50556993484497,0.505742788314819,0.506491184234619,0.506750106811523,0.507406949996948,0.507519960403442,0.508828163146972,0.508860111236572,0.509207010269165,0.509337186813354,0.511116027832031,0.511199951171875,0.511296987533569,0.514720916748046,0.514803171157836,0.515504837036132,0.5164051055908201,0.516488075256347,0.5168797969818111,0.517125844955444,0.5171294212341301,0.517663955688476,0.517667055130004,0.5181009769439691,0.519624948501586,0.520005941390991,0.520082950592041,0.520170927047729,0.520225048065185,0.520464897155761,0.520989894866943,0.523391962051391,0.524549961090087,0.524871349334716,0.525346040725708,0.525697946548461,0.525806903839111,0.527006864547729,0.527884006500244,0.529118061065673,0.530308961868286,0.5320470333099361,0.53511095046997,0.535579919815063,0.535885095596313,0.5365440845489501,0.537245273590087,0.5374181270599361,0.5378592014312741,0.5390470027923581,0.539458036422729,0.5397098064422601,0.53995680809021,0.5402531623840331,0.542097806930542,0.5447921752929681,0.547209978103637,0.547276020050048,0.5475220680236811,0.5480630397796631,0.5484139919281,0.54915714263916,0.5506350994110101,0.550889015197753,0.551693201065063,0.5525848865509031,0.5529761314392091,0.5532369613647461,0.554311990737915,0.554399013519287,0.556103944778442,0.557097911834716,0.5576040744781491,0.559067010879516,0.559221029281616,0.559317111968994,0.560657262802124,0.561290025711059,0.561589956283569,0.5620019435882561,0.5641012191772461,0.56538701057434,0.566322088241577,0.566702842712402,0.5710740089416501,0.5731351375579831,0.57442307472229,0.575768947601318,0.57695984840393,0.577255725860595,0.5775268077850341,0.5788331031799311,0.580812215805053,0.5816719532012941,0.583065032958984,0.584255218505859,0.5863928794860841,0.5888628959655761,0.5897500514984131,0.589984893798828,0.590933084487915,0.591426610946655,0.59406304359436,0.597002983093261,0.5987529754638671,0.5995190143585201,0.59986400604248,0.6067318916320801,0.607136011123657,0.608378887176513,0.609651088714599,0.6105940341949461,0.6124529838562011,0.6125519275665281,0.613512992858886,0.613649845123291,0.616359949111938,0.6194970607757561,0.620149135589599,0.622138977050781,0.6221649646759031,0.6221792697906491,0.622293710708618,0.622426986694335,0.622635126113891,0.6226921081542961,0.622799158096313,0.6232728958129881,0.623711347579956,0.623739957809448,0.623745918273925,0.624061822891235,0.6265237331390381,0.6300311088562011,0.6301689147949211,0.631721973419189,0.6354100704193111,0.638158082962036,0.638499736785888,0.638569116592407,0.63984990119934,0.640434980392456,0.644186973571777,0.645025014877319,0.649217128753662,0.652101039886474,0.657561302185058,0.657810926437377,0.664811134338378,0.6663241386413571,0.6704583168029781,0.672143936157226,0.676022052764892,0.6786370277404781,0.6794469356536861,0.6801910400390621,0.6811451911926271,0.6937010288238521,0.709547042846679,0.7211720943450921,0.724092960357666,0.724101066589355,0.7241408824920651,0.73281192779541,0.735883951187133,0.737218141555786,0.738324880599975,0.7433729171752931,0.7438089847564691,0.748265981674194,0.7484920024871821,0.757337808609008,0.759603977203369,0.7729139328002931,0.773011922836303,0.776957035064697,0.7798738479614251,0.7839689254760741,0.7847349643707271,0.7893187999725341,0.799501180648803,0.80849266052246,0.8123819828033441,0.8128108978271481,0.813944101333618,0.834264039993286,0.84124732017517,0.8426988124847411,0.8493349552154541,0.8591198921203611,0.8691389560699461,0.871104001998901,0.9041340351104731,0.908190965652465,0.9094140529632561,0.914309024810791,0.9160916805267331,0.9172999858856201,0.9187350273132321,0.919610023498535,0.9202909469604491,0.9207789897918701,0.921128034591674,0.921203136444091,0.9212181568145751,0.921244144439697,0.924309968948364,0.924326181411743,0.9244408607482911,0.924761772155761,0.9251189231872551,0.926151990890502,0.926160097122192,0.936902999877929,0.9708538055419921,0.9744012355804441,0.974427938461303,0.97639513015747,0.986477136611938,1.038606882095337,1.047613859176635,1.053561925888061,1.068557262420654,1.091071844100952,1.093910932540893,1.102801322937011,1.127250909805297,1.141719102859497,1.148247718811035,1.1534919738769531,1.170182228088379,1.221943140029907,1.22848892211914,1.28928518295288,1.332737922668457,1.360504627227783,1.363080978393554,1.413259744644165,1.4419910907745361,1.4619112014770501,1.4740920066833492,1.48679780960083,1.4982571601867671,1.529852867126464,1.6187970638275142,1.728651046752929,5.123297929763794],\"xaxis\":\"x\",\"y\":[0.08196721311475409,0.16393442622950818,0.2459016393442623,0.32786885245901637,0.4098360655737705,0.4918032786885246,0.5737704918032787,0.6557377049180327,0.7377049180327869,0.819672131147541,0.9016393442622951,0.9836065573770492,1.0655737704918034,1.1475409836065573,1.2295081967213115,1.3114754098360655,1.3934426229508197,1.4754098360655739,1.5573770491803278,1.639344262295082,1.721311475409836,1.8032786885245902,1.8852459016393444,1.9672131147540983,2.0491803278688523,2.1311475409836067,2.2131147540983607,2.2950819672131146,2.377049180327869,2.459016393442623,2.540983606557377,2.622950819672131,2.7049180327868854,2.7868852459016393,2.8688524590163933,2.9508196721311477,3.0327868852459017,3.1147540983606556,3.19672131147541,3.278688524590164,3.360655737704918,3.442622950819672,3.5245901639344264,3.6065573770491803,3.6885245901639343,3.7704918032786887,3.8524590163934427,3.9344262295081966,4.016393442622951,4.098360655737705,4.180327868852459,4.262295081967213,4.344262295081967,4.426229508196721,4.508196721311475,4.590163934426229,4.672131147540983,4.754098360655738,4.836065573770492,4.918032786885246,5.0,5.081967213114754,5.163934426229508,5.245901639344262,5.327868852459017,5.409836065573771,5.491803278688525,5.573770491803279,5.655737704918033,5.737704918032787,5.819672131147541,5.901639344262295,5.983606557377049,6.065573770491803,6.147540983606557,6.229508196721311,6.311475409836065,6.39344262295082,6.475409836065574,6.557377049180328,6.639344262295082,6.721311475409836,6.80327868852459,6.885245901639344,6.967213114754099,7.049180327868853,7.131147540983607,7.213114754098361,7.295081967213115,7.377049180327869,7.459016393442623,7.540983606557377,7.622950819672131,7.704918032786885,7.786885245901639,7.868852459016393,7.950819672131147,8.032786885245901,8.114754098360656,8.19672131147541,8.278688524590164,8.360655737704919,8.442622950819672,8.524590163934427,8.60655737704918,8.688524590163935,8.770491803278688,8.852459016393443,8.934426229508198,9.01639344262295,9.098360655737705,9.180327868852459,9.262295081967213,9.344262295081966,9.426229508196721,9.508196721311476,9.59016393442623,9.672131147540984,9.754098360655737,9.836065573770492,9.918032786885245,10.0,10.081967213114755,10.163934426229508,10.245901639344263,10.327868852459016,10.40983606557377,10.491803278688524,10.573770491803279,10.655737704918034,10.737704918032787,10.819672131147541,10.901639344262295,10.98360655737705,11.065573770491802,11.147540983606557,11.229508196721312,11.311475409836065,11.39344262295082,11.475409836065573,11.557377049180328,11.639344262295081,11.721311475409836,11.80327868852459,11.885245901639344,11.967213114754099,12.049180327868852,12.131147540983607,12.21311475409836,12.295081967213115,12.37704918032787,12.459016393442623,12.540983606557377,12.62295081967213,12.704918032786885,12.78688524590164,12.868852459016393,12.950819672131148,13.032786885245901,13.114754098360656,13.19672131147541,13.278688524590164,13.360655737704919,13.442622950819672,13.524590163934427,13.60655737704918,13.688524590163935,13.770491803278688,13.852459016393443,13.934426229508198,14.01639344262295,14.098360655737705,14.180327868852459,14.262295081967213,14.344262295081966,14.426229508196721,14.508196721311476,14.59016393442623,14.672131147540984,14.754098360655737,14.836065573770492,14.918032786885245,15.0,15.081967213114755,15.163934426229508,15.245901639344263,15.327868852459016,15.40983606557377,15.491803278688524,15.573770491803279,15.655737704918034,15.737704918032787,15.819672131147541,15.901639344262295,15.98360655737705,16.065573770491802,16.147540983606557,16.229508196721312,16.311475409836067,16.39344262295082,16.475409836065573,16.557377049180328,16.639344262295083,16.721311475409838,16.80327868852459,16.885245901639344,16.9672131147541,17.049180327868854,17.131147540983605,17.21311475409836,17.295081967213115,17.37704918032787,17.459016393442624,17.540983606557376,17.62295081967213,17.704918032786885,17.78688524590164,17.868852459016395,17.950819672131146,18.0327868852459,18.114754098360656,18.19672131147541,18.278688524590162,18.360655737704917,18.442622950819672,18.524590163934427,18.60655737704918,18.688524590163933,18.770491803278688,18.852459016393443,18.934426229508198,19.016393442622952,19.098360655737704,19.18032786885246,19.262295081967213,19.34426229508197,19.42622950819672,19.508196721311474,19.59016393442623,19.672131147540984,19.75409836065574,19.83606557377049,19.918032786885245,20.0,20.081967213114755,20.16393442622951,20.24590163934426,20.327868852459016,20.40983606557377,20.491803278688526,20.57377049180328,20.65573770491803,20.737704918032787,20.81967213114754,20.901639344262296,20.983606557377048,21.065573770491802,21.147540983606557,21.229508196721312,21.311475409836067,21.39344262295082,21.475409836065573,21.557377049180328,21.639344262295083,21.721311475409838,21.80327868852459,21.885245901639344,21.9672131147541,22.049180327868854,22.131147540983605,22.21311475409836,22.295081967213115,22.37704918032787,22.459016393442624,22.540983606557376,22.62295081967213,22.704918032786885,22.78688524590164,22.868852459016395,22.950819672131146,23.0327868852459,23.114754098360656,23.19672131147541,23.278688524590162,23.360655737704917,23.442622950819672,23.524590163934427,23.60655737704918,23.688524590163933,23.770491803278688,23.852459016393443,23.934426229508198,24.016393442622952,24.098360655737704,24.18032786885246,24.262295081967213,24.34426229508197,24.42622950819672,24.508196721311474,24.59016393442623,24.672131147540984,24.75409836065574,24.83606557377049,24.918032786885245,25.0,25.081967213114755,25.16393442622951,25.24590163934426,25.327868852459016,25.40983606557377,25.491803278688526,25.57377049180328,25.65573770491803,25.737704918032787,25.81967213114754,25.901639344262296,25.983606557377048,26.065573770491802,26.147540983606557,26.229508196721312,26.311475409836067,26.39344262295082,26.475409836065573,26.557377049180328,26.639344262295083,26.721311475409838,26.80327868852459,26.885245901639344,26.9672131147541,27.049180327868854,27.131147540983605,27.21311475409836,27.295081967213115,27.37704918032787,27.459016393442624,27.540983606557376,27.62295081967213,27.704918032786885,27.78688524590164,27.868852459016395,27.950819672131146,28.0327868852459,28.114754098360656,28.19672131147541,28.278688524590162,28.360655737704917,28.442622950819672,28.524590163934427,28.60655737704918,28.688524590163933,28.770491803278688,28.852459016393443,28.934426229508198,29.016393442622952,29.098360655737704,29.18032786885246,29.262295081967213,29.34426229508197,29.42622950819672,29.508196721311474,29.59016393442623,29.672131147540984,29.75409836065574,29.83606557377049,29.918032786885245,30.0,30.081967213114755,30.16393442622951,30.24590163934426,30.327868852459016,30.40983606557377,30.491803278688526,30.57377049180328,30.65573770491803,30.737704918032787,30.81967213114754,30.901639344262296,30.983606557377048,31.065573770491802,31.147540983606557,31.229508196721312,31.311475409836067,31.39344262295082,31.475409836065573,31.557377049180328,31.639344262295083,31.721311475409838,31.80327868852459,31.885245901639344,31.9672131147541,32.049180327868854,32.131147540983605,32.21311475409836,32.295081967213115,32.377049180327866,32.459016393442624,32.540983606557376,32.622950819672134,32.704918032786885,32.78688524590164,32.868852459016395,32.950819672131146,33.032786885245905,33.114754098360656,33.19672131147541,33.278688524590166,33.36065573770492,33.442622950819676,33.52459016393443,33.60655737704918,33.68852459016394,33.77049180327869,33.85245901639344,33.9344262295082,34.01639344262295,34.09836065573771,34.18032786885246,34.26229508196721,34.34426229508197,34.42622950819672,34.50819672131148,34.59016393442623,34.67213114754098,34.75409836065574,34.83606557377049,34.91803278688525,35.0,35.08196721311475,35.16393442622951,35.24590163934426,35.32786885245902,35.40983606557377,35.49180327868852,35.57377049180328,35.65573770491803,35.73770491803279,35.81967213114754,35.90163934426229,35.98360655737705,36.0655737704918,36.14754098360656,36.22950819672131,36.31147540983606,36.39344262295082,36.47540983606557,36.557377049180324,36.63934426229508,36.721311475409834,36.80327868852459,36.885245901639344,36.967213114754095,37.049180327868854,37.131147540983605,37.21311475409836,37.295081967213115,37.377049180327866,37.459016393442624,37.540983606557376,37.622950819672134,37.704918032786885,37.78688524590164,37.868852459016395,37.950819672131146,38.032786885245905,38.114754098360656,38.19672131147541,38.278688524590166,38.36065573770492,38.442622950819676,38.52459016393443,38.60655737704918,38.68852459016394,38.77049180327869,38.85245901639344,38.9344262295082,39.01639344262295,39.09836065573771,39.18032786885246,39.26229508196721,39.34426229508197,39.42622950819672,39.50819672131148,39.59016393442623,39.67213114754098,39.75409836065574,39.83606557377049,39.91803278688525,40.0,40.08196721311475,40.16393442622951,40.24590163934426,40.32786885245902,40.40983606557377,40.49180327868852,40.57377049180328,40.65573770491803,40.73770491803279,40.81967213114754,40.90163934426229,40.98360655737705,41.0655737704918,41.14754098360656,41.22950819672131,41.31147540983606,41.39344262295082,41.47540983606557,41.557377049180324,41.63934426229508,41.721311475409834,41.80327868852459,41.885245901639344,41.967213114754095,42.049180327868854,42.131147540983605,42.21311475409836,42.295081967213115,42.377049180327866,42.459016393442624,42.540983606557376,42.622950819672134,42.704918032786885,42.78688524590164,42.868852459016395,42.950819672131146,43.032786885245905,43.114754098360656,43.19672131147541,43.278688524590166,43.36065573770492,43.442622950819676,43.52459016393443,43.60655737704918,43.68852459016394,43.77049180327869,43.85245901639344,43.9344262295082,44.01639344262295,44.09836065573771,44.18032786885246,44.26229508196721,44.34426229508197,44.42622950819672,44.50819672131148,44.59016393442623,44.67213114754098,44.75409836065574,44.83606557377049,44.91803278688525,45.0,45.08196721311475,45.16393442622951,45.24590163934426,45.32786885245902,45.40983606557377,45.49180327868852,45.57377049180328,45.65573770491803,45.73770491803279,45.81967213114754,45.90163934426229,45.98360655737705,46.0655737704918,46.14754098360656,46.22950819672131,46.31147540983606,46.39344262295082,46.47540983606557,46.557377049180324,46.63934426229508,46.721311475409834,46.80327868852459,46.885245901639344,46.967213114754095,47.049180327868854,47.131147540983605,47.21311475409836,47.295081967213115,47.377049180327866,47.459016393442624,47.540983606557376,47.622950819672134,47.704918032786885,47.78688524590164,47.868852459016395,47.950819672131146,48.032786885245905,48.114754098360656,48.19672131147541,48.278688524590166,48.36065573770492,48.442622950819676,48.52459016393443,48.60655737704918,48.68852459016394,48.77049180327869,48.85245901639344,48.9344262295082,49.01639344262295,49.09836065573771,49.18032786885246,49.26229508196721,49.34426229508197,49.42622950819672,49.50819672131148,49.59016393442623,49.67213114754098,49.75409836065574,49.83606557377049,49.91803278688525,50.0,50.08196721311475,50.16393442622951,50.24590163934426,50.32786885245902,50.40983606557377,50.49180327868852,50.57377049180328,50.65573770491803,50.73770491803279,50.81967213114754,50.90163934426229,50.98360655737705,51.0655737704918,51.14754098360656,51.22950819672131,51.31147540983606,51.39344262295082,51.47540983606557,51.557377049180324,51.63934426229508,51.721311475409834,51.80327868852459,51.885245901639344,51.967213114754095,52.049180327868854,52.131147540983605,52.21311475409836,52.295081967213115,52.377049180327866,52.459016393442624,52.540983606557376,52.622950819672134,52.704918032786885,52.78688524590164,52.868852459016395,52.950819672131146,53.032786885245905,53.114754098360656,53.19672131147541,53.278688524590166,53.36065573770492,53.442622950819676,53.52459016393443,53.60655737704918,53.68852459016394,53.77049180327869,53.85245901639344,53.9344262295082,54.01639344262295,54.09836065573771,54.18032786885246,54.26229508196721,54.34426229508197,54.42622950819672,54.50819672131148,54.59016393442623,54.67213114754098,54.75409836065574,54.83606557377049,54.91803278688525,55.0,55.08196721311475,55.16393442622951,55.24590163934426,55.32786885245902,55.40983606557377,55.49180327868852,55.57377049180328,55.65573770491803,55.73770491803279,55.81967213114754,55.90163934426229,55.98360655737705,56.0655737704918,56.14754098360656,56.22950819672131,56.31147540983606,56.39344262295082,56.47540983606557,56.557377049180324,56.63934426229508,56.721311475409834,56.80327868852459,56.885245901639344,56.967213114754095,57.049180327868854,57.131147540983605,57.21311475409836,57.295081967213115,57.377049180327866,57.459016393442624,57.540983606557376,57.622950819672134,57.704918032786885,57.78688524590164,57.868852459016395,57.950819672131146,58.032786885245905,58.114754098360656,58.19672131147541,58.278688524590166,58.36065573770492,58.442622950819676,58.52459016393443,58.60655737704918,58.68852459016394,58.77049180327869,58.85245901639344,58.9344262295082,59.01639344262295,59.09836065573771,59.18032786885246,59.26229508196721,59.34426229508197,59.42622950819672,59.50819672131148,59.59016393442623,59.67213114754098,59.75409836065574,59.83606557377049,59.91803278688525,60.0,60.08196721311475,60.16393442622951,60.24590163934426,60.32786885245902,60.40983606557377,60.49180327868852,60.57377049180328,60.65573770491803,60.73770491803279,60.81967213114754,60.90163934426229,60.98360655737705,61.0655737704918,61.14754098360656,61.22950819672131,61.31147540983606,61.39344262295082,61.47540983606557,61.557377049180324,61.63934426229508,61.721311475409834,61.80327868852459,61.885245901639344,61.967213114754095,62.049180327868854,62.131147540983605,62.21311475409836,62.295081967213115,62.377049180327866,62.459016393442624,62.540983606557376,62.622950819672134,62.704918032786885,62.78688524590164,62.868852459016395,62.950819672131146,63.032786885245905,63.114754098360656,63.19672131147541,63.278688524590166,63.36065573770492,63.442622950819676,63.52459016393443,63.60655737704918,63.68852459016394,63.77049180327869,63.85245901639344,63.9344262295082,64.01639344262296,64.09836065573771,64.18032786885246,64.26229508196721,64.34426229508196,64.42622950819673,64.50819672131148,64.59016393442623,64.67213114754098,64.75409836065573,64.8360655737705,64.91803278688525,65.0,65.08196721311475,65.1639344262295,65.24590163934427,65.32786885245902,65.40983606557377,65.49180327868852,65.57377049180327,65.65573770491804,65.73770491803279,65.81967213114754,65.90163934426229,65.98360655737704,66.06557377049181,66.14754098360656,66.22950819672131,66.31147540983606,66.39344262295081,66.47540983606558,66.55737704918033,66.63934426229508,66.72131147540983,66.80327868852459,66.88524590163935,66.9672131147541,67.04918032786885,67.1311475409836,67.21311475409836,67.29508196721312,67.37704918032787,67.45901639344262,67.54098360655738,67.62295081967213,67.70491803278688,67.78688524590164,67.8688524590164,67.95081967213115,68.0327868852459,68.11475409836065,68.19672131147541,68.27868852459017,68.36065573770492,68.44262295081967,68.52459016393442,68.60655737704919,68.68852459016394,68.77049180327869,68.85245901639344,68.93442622950819,69.01639344262296,69.09836065573771,69.18032786885246,69.26229508196721,69.34426229508196,69.42622950819673,69.50819672131148,69.59016393442623,69.67213114754098,69.75409836065573,69.8360655737705,69.91803278688525,70.0,70.08196721311475,70.1639344262295,70.24590163934427,70.32786885245902,70.40983606557377,70.49180327868852,70.57377049180327,70.65573770491804,70.73770491803279,70.81967213114754,70.90163934426229,70.98360655737704,71.06557377049181,71.14754098360656,71.22950819672131,71.31147540983606,71.39344262295081,71.47540983606558,71.55737704918033,71.63934426229508,71.72131147540983,71.80327868852459,71.88524590163935,71.9672131147541,72.04918032786885,72.1311475409836,72.21311475409836,72.29508196721312,72.37704918032787,72.45901639344262,72.54098360655738,72.62295081967213,72.70491803278688,72.78688524590164,72.8688524590164,72.95081967213115,73.0327868852459,73.11475409836065,73.19672131147541,73.27868852459017,73.36065573770492,73.44262295081967,73.52459016393442,73.60655737704919,73.68852459016394,73.77049180327869,73.85245901639344,73.93442622950819,74.01639344262296,74.09836065573771,74.18032786885246,74.26229508196721,74.34426229508196,74.42622950819673,74.50819672131148,74.59016393442623,74.67213114754098,74.75409836065573,74.8360655737705,74.91803278688525,75.0,75.08196721311475,75.1639344262295,75.24590163934427,75.32786885245902,75.40983606557377,75.49180327868852,75.57377049180327,75.65573770491804,75.73770491803279,75.81967213114754,75.90163934426229,75.98360655737704,76.06557377049181,76.14754098360656,76.22950819672131,76.31147540983606,76.39344262295081,76.47540983606558,76.55737704918033,76.63934426229508,76.72131147540983,76.80327868852459,76.88524590163935,76.9672131147541,77.04918032786885,77.1311475409836,77.21311475409836,77.29508196721312,77.37704918032787,77.45901639344262,77.54098360655738,77.62295081967213,77.70491803278688,77.78688524590164,77.8688524590164,77.95081967213115,78.0327868852459,78.11475409836065,78.19672131147541,78.27868852459017,78.36065573770492,78.44262295081967,78.52459016393442,78.60655737704919,78.68852459016394,78.77049180327869,78.85245901639344,78.93442622950819,79.01639344262296,79.09836065573771,79.18032786885246,79.26229508196721,79.34426229508196,79.42622950819673,79.50819672131148,79.59016393442623,79.67213114754098,79.75409836065573,79.8360655737705,79.91803278688525,80.0,80.08196721311475,80.1639344262295,80.24590163934427,80.32786885245902,80.40983606557377,80.49180327868852,80.57377049180327,80.65573770491804,80.73770491803279,80.81967213114754,80.90163934426229,80.98360655737704,81.06557377049181,81.14754098360656,81.22950819672131,81.31147540983606,81.39344262295081,81.47540983606558,81.55737704918033,81.63934426229508,81.72131147540983,81.80327868852459,81.88524590163935,81.9672131147541,82.04918032786885,82.1311475409836,82.21311475409836,82.29508196721312,82.37704918032787,82.45901639344262,82.54098360655738,82.62295081967213,82.70491803278688,82.78688524590164,82.8688524590164,82.95081967213115,83.0327868852459,83.11475409836065,83.19672131147541,83.27868852459017,83.36065573770492,83.44262295081967,83.52459016393442,83.60655737704919,83.68852459016394,83.77049180327869,83.85245901639344,83.93442622950819,84.01639344262296,84.09836065573771,84.18032786885246,84.26229508196721,84.34426229508196,84.42622950819673,84.50819672131148,84.59016393442623,84.67213114754098,84.75409836065573,84.8360655737705,84.91803278688525,85.0,85.08196721311475,85.1639344262295,85.24590163934427,85.32786885245902,85.40983606557377,85.49180327868852,85.57377049180327,85.65573770491804,85.73770491803279,85.81967213114754,85.90163934426229,85.98360655737704,86.06557377049181,86.14754098360656,86.22950819672131,86.31147540983606,86.39344262295081,86.47540983606558,86.55737704918033,86.63934426229508,86.72131147540983,86.80327868852459,86.88524590163935,86.9672131147541,87.04918032786885,87.1311475409836,87.21311475409836,87.29508196721312,87.37704918032787,87.45901639344262,87.54098360655738,87.62295081967213,87.70491803278688,87.78688524590164,87.8688524590164,87.95081967213115,88.0327868852459,88.11475409836065,88.19672131147541,88.27868852459017,88.36065573770492,88.44262295081967,88.52459016393442,88.60655737704919,88.68852459016394,88.77049180327869,88.85245901639344,88.93442622950819,89.01639344262296,89.09836065573771,89.18032786885246,89.26229508196721,89.34426229508196,89.42622950819673,89.50819672131148,89.59016393442623,89.67213114754098,89.75409836065573,89.8360655737705,89.91803278688525,90.0,90.08196721311475,90.1639344262295,90.24590163934427,90.32786885245902,90.40983606557377,90.49180327868852,90.57377049180327,90.65573770491804,90.73770491803279,90.81967213114754,90.90163934426229,90.98360655737704,91.06557377049181,91.14754098360656,91.22950819672131,91.31147540983606,91.39344262295081,91.47540983606558,91.55737704918033,91.63934426229508,91.72131147540983,91.80327868852459,91.88524590163935,91.9672131147541,92.04918032786885,92.1311475409836,92.21311475409836,92.29508196721312,92.37704918032787,92.45901639344262,92.54098360655738,92.62295081967213,92.70491803278688,92.78688524590164,92.8688524590164,92.95081967213115,93.0327868852459,93.11475409836065,93.19672131147541,93.27868852459017,93.36065573770492,93.44262295081967,93.52459016393442,93.60655737704919,93.68852459016394,93.77049180327869,93.85245901639344,93.93442622950819,94.01639344262296,94.09836065573771,94.18032786885246,94.26229508196721,94.34426229508196,94.42622950819673,94.50819672131148,94.59016393442623,94.67213114754098,94.75409836065573,94.8360655737705,94.91803278688525,95.0,95.08196721311475,95.1639344262295,95.24590163934427,95.32786885245902,95.40983606557377,95.49180327868852,95.57377049180327,95.65573770491804,95.73770491803279,95.81967213114754,95.90163934426229,95.98360655737704,96.06557377049181,96.14754098360656,96.22950819672131,96.31147540983606,96.39344262295081,96.47540983606558,96.55737704918033,96.63934426229508,96.72131147540983,96.80327868852459,96.88524590163935,96.9672131147541,97.04918032786885,97.1311475409836,97.21311475409836,97.29508196721312,97.37704918032787,97.45901639344262,97.54098360655738,97.62295081967213,97.70491803278688,97.78688524590164,97.8688524590164,97.95081967213115,98.0327868852459,98.11475409836065,98.19672131147541,98.27868852459017,98.36065573770492,98.44262295081967,98.52459016393442,98.60655737704919,98.68852459016394,98.77049180327869,98.85245901639344,98.93442622950819,99.01639344262296,99.09836065573771,99.18032786885246,99.26229508196721,99.34426229508196,99.42622950819673,99.50819672131148,99.59016393442623,99.67213114754098,99.75409836065573,99.8360655737705,99.91803278688525,100.0],\"yaxis\":\"y\",\"type\":\"scattergl\"}],                        {\"template\":{\"data\":{\"scatter\":[{\"type\":\"scatter\"}]}},\"xaxis\":{\"anchor\":\"y\",\"domain\":[0.0,1.0],\"title\":{\"text\":\"download_latency\"},\"showspikes\":true},\"yaxis\":{\"anchor\":\"x\",\"domain\":[0.0,1.0],\"title\":{\"text\":\"percent\"},\"rangemode\":\"tozero\",\"ticksuffix\":\"%\",\"showspikes\":true},\"legend\":{\"tracegroupgap\":0},\"title\":{\"text\":\"Cumulative distribution of <b>download latency</b>\"},\"height\":500},                        {\"responsive\": true}                    ).then(function(){\n",
       "                            \n",
       "var gd = document.getElementById('fc0448c9-f17f-4fa5-96cb-30b153d3e1a5');\n",
       "var x = new MutationObserver(function (mutations, observer) {{\n",
       "        var display = window.getComputedStyle(gd).display;\n",
       "        if (!display || display === 'none') {{\n",
       "            console.log([gd, 'removed!']);\n",
       "            Plotly.purge(gd);\n",
       "            observer.disconnect();\n",
       "        }}\n",
       "}});\n",
       "\n",
       "// Listen for the removal of the full notebook cells\n",
       "var notebookContainer = gd.closest('#notebook-container');\n",
       "if (notebookContainer) {{\n",
       "    x.observe(notebookContainer, {childList: true});\n",
       "}}\n",
       "\n",
       "// Listen for the clearing of the current output cell\n",
       "var outputEl = gd.closest('.output');\n",
       "if (outputEl) {{\n",
       "    x.observe(outputEl, {childList: true});\n",
       "}}\n",
       "\n",
       "                        })                };                });            </script>        </div>"
      ]
     },
     "metadata": {},
     "output_type": "display_data"
    }
   ],
   "source": [
    "ecdf(df=headers_df, column='download_latency')"
   ]
  },
  {
   "attachments": {},
   "cell_type": "markdown",
   "id": "550110a8-50b2-49a0-9752-5132256356b9",
   "metadata": {},
   "source": [
    "## Output"
   ]
  },
  {
   "cell_type": "code",
   "execution_count": null,
   "id": "7b6a8e95-fd71-4602-9a29-ccb4bb52c9e2",
   "metadata": {
    "vscode": {
     "languageId": "python"
    }
   },
   "outputs": [
    {
     "data": {
      "text/html": [
       "<div>\n",
       "<style scoped>\n",
       "    .dataframe tbody tr th:only-of-type {\n",
       "        vertical-align: middle;\n",
       "    }\n",
       "\n",
       "    .dataframe tbody tr th {\n",
       "        vertical-align: top;\n",
       "    }\n",
       "\n",
       "    .dataframe thead th {\n",
       "        text-align: right;\n",
       "    }\n",
       "</style>\n",
       "<table border=\"1\" class=\"dataframe\">\n",
       "  <thead>\n",
       "    <tr style=\"text-align: right;\">\n",
       "      <th></th>\n",
       "      <th>url</th>\n",
       "      <th>crawl_time</th>\n",
       "      <th>status</th>\n",
       "      <th>download_timeout</th>\n",
       "      <th>download_slot</th>\n",
       "      <th>download_latency</th>\n",
       "      <th>depth</th>\n",
       "      <th>protocol</th>\n",
       "      <th>body</th>\n",
       "      <th>resp_headers_content-length</th>\n",
       "      <th>resp_headers_access-control-allow-origin</th>\n",
       "      <th>resp_headers_age</th>\n",
       "      <th>resp_headers_cache-control</th>\n",
       "      <th>resp_headers_content-disposition</th>\n",
       "      <th>resp_headers_content-encoding</th>\n",
       "      <th>resp_headers_content-security-policy</th>\n",
       "      <th>resp_headers_content-type</th>\n",
       "      <th>resp_headers_date</th>\n",
       "      <th>resp_headers_etag</th>\n",
       "      <th>resp_headers_server</th>\n",
       "      <th>resp_headers_set-cookie</th>\n",
       "      <th>resp_headers_strict-transport-security</th>\n",
       "      <th>resp_headers_x-matched-path</th>\n",
       "      <th>resp_headers_x-vercel-cache</th>\n",
       "      <th>resp_headers_x-vercel-id</th>\n",
       "      <th>request_headers_accept</th>\n",
       "      <th>request_headers_accept-language</th>\n",
       "      <th>request_headers_user-agent</th>\n",
       "      <th>request_headers_accept-encoding</th>\n",
       "      <th>request_headers_cookie</th>\n",
       "      <th>resp_headers_x-powered-by</th>\n",
       "      <th>resp_headers_x-nextjs-matched-path</th>\n",
       "      <th>redirect_times</th>\n",
       "      <th>redirect_ttl</th>\n",
       "      <th>redirect_urls</th>\n",
       "      <th>redirect_reasons</th>\n",
       "      <th>resp_headers_x-lambda-id</th>\n",
       "      <th>resp_headers_accept-ranges</th>\n",
       "      <th>resp_headers_x-served-by</th>\n",
       "      <th>resp_headers_x-cache</th>\n",
       "      <th>resp_headers_x-cache-hits</th>\n",
       "      <th>resp_headers_x-timer</th>\n",
       "      <th>resp_headers_vary</th>\n",
       "      <th>resp_headers_x-cluster-name</th>\n",
       "    </tr>\n",
       "  </thead>\n",
       "  <tbody>\n",
       "    <tr>\n",
       "      <th>0</th>\n",
       "      <td>https://maven.com/terms</td>\n",
       "      <td>2023-06-04 22:41:05</td>\n",
       "      <td>200</td>\n",
       "      <td>180</td>\n",
       "      <td>maven.com</td>\n",
       "      <td>0.127141</td>\n",
       "      <td>0</td>\n",
       "      <td>HTTP/1.1</td>\n",
       "      <td>NaN</td>\n",
       "      <td>0</td>\n",
       "      <td>*</td>\n",
       "      <td>5675</td>\n",
       "      <td>public, max-age=0, must-revalidate</td>\n",
       "      <td>inline; filename=\"terms\"</td>\n",
       "      <td>gzip</td>\n",
       "      <td>frame-ancestors 'self'; object-src 'none';</td>\n",
       "      <td>text/html; charset=utf-8</td>\n",
       "      <td>Sun, 04 Jun 2023 22:41:05 GMT</td>\n",
       "      <td>W/\"4e2897677cdabbffa62aeaaef35094c9\"</td>\n",
       "      <td>Vercel</td>\n",
       "      <td>countryCode=DE; Path=/</td>\n",
       "      <td>max-age=63072000</td>\n",
       "      <td>/terms</td>\n",
       "      <td>HIT</td>\n",
       "      <td>fra1::2pmkm-1685918465201-773d438cf470</td>\n",
       "      <td>text/html,application/xhtml+xml,application/xml;q=0.9,*/*;q=0.8</td>\n",
       "      <td>en</td>\n",
       "      <td>advertools/0.13.2</td>\n",
       "      <td>gzip, deflate</td>\n",
       "      <td>countryCode=DE</td>\n",
       "      <td>NaN</td>\n",
       "      <td>NaN</td>\n",
       "      <td>NaN</td>\n",
       "      <td>NaN</td>\n",
       "      <td>NaN</td>\n",
       "      <td>NaN</td>\n",
       "      <td>NaN</td>\n",
       "      <td>NaN</td>\n",
       "      <td>NaN</td>\n",
       "      <td>NaN</td>\n",
       "      <td>NaN</td>\n",
       "      <td>NaN</td>\n",
       "      <td>NaN</td>\n",
       "      <td>NaN</td>\n",
       "    </tr>\n",
       "    <tr>\n",
       "      <th>1</th>\n",
       "      <td>https://maven.com/about</td>\n",
       "      <td>2023-06-04 22:41:05</td>\n",
       "      <td>200</td>\n",
       "      <td>180</td>\n",
       "      <td>maven.com</td>\n",
       "      <td>0.135604</td>\n",
       "      <td>0</td>\n",
       "      <td>HTTP/1.1</td>\n",
       "      <td>NaN</td>\n",
       "      <td>0</td>\n",
       "      <td>*</td>\n",
       "      <td>151629</td>\n",
       "      <td>public, max-age=0, must-revalidate</td>\n",
       "      <td>inline; filename=\"about\"</td>\n",
       "      <td>gzip</td>\n",
       "      <td>frame-ancestors 'self'; object-src 'none';</td>\n",
       "      <td>text/html; charset=utf-8</td>\n",
       "      <td>Sun, 04 Jun 2023 22:41:05 GMT</td>\n",
       "      <td>W/\"983604f5444686e38b0622825a8655b6\"</td>\n",
       "      <td>Vercel</td>\n",
       "      <td>countryCode=DE; Path=/</td>\n",
       "      <td>max-age=63072000</td>\n",
       "      <td>/about</td>\n",
       "      <td>HIT</td>\n",
       "      <td>fra1::hvtsj-1685918465200-24451eeb0506</td>\n",
       "      <td>text/html,application/xhtml+xml,application/xml;q=0.9,*/*;q=0.8</td>\n",
       "      <td>en</td>\n",
       "      <td>advertools/0.13.2</td>\n",
       "      <td>gzip, deflate</td>\n",
       "      <td>countryCode=DE</td>\n",
       "      <td>NaN</td>\n",
       "      <td>NaN</td>\n",
       "      <td>NaN</td>\n",
       "      <td>NaN</td>\n",
       "      <td>NaN</td>\n",
       "      <td>NaN</td>\n",
       "      <td>NaN</td>\n",
       "      <td>NaN</td>\n",
       "      <td>NaN</td>\n",
       "      <td>NaN</td>\n",
       "      <td>NaN</td>\n",
       "      <td>NaN</td>\n",
       "      <td>NaN</td>\n",
       "      <td>NaN</td>\n",
       "    </tr>\n",
       "    <tr>\n",
       "      <th>2</th>\n",
       "      <td>https://maven.com/privacy</td>\n",
       "      <td>2023-06-04 22:41:05</td>\n",
       "      <td>200</td>\n",
       "      <td>180</td>\n",
       "      <td>maven.com</td>\n",
       "      <td>0.138744</td>\n",
       "      <td>0</td>\n",
       "      <td>HTTP/1.1</td>\n",
       "      <td>NaN</td>\n",
       "      <td>0</td>\n",
       "      <td>*</td>\n",
       "      <td>179276</td>\n",
       "      <td>public, max-age=0, must-revalidate</td>\n",
       "      <td>inline; filename=\"privacy\"</td>\n",
       "      <td>gzip</td>\n",
       "      <td>frame-ancestors 'self'; object-src 'none';</td>\n",
       "      <td>text/html; charset=utf-8</td>\n",
       "      <td>Sun, 04 Jun 2023 22:41:05 GMT</td>\n",
       "      <td>W/\"7fc56e01f7273ef1929e30f08765de3f\"</td>\n",
       "      <td>Vercel</td>\n",
       "      <td>countryCode=DE; Path=/</td>\n",
       "      <td>max-age=63072000</td>\n",
       "      <td>/privacy</td>\n",
       "      <td>HIT</td>\n",
       "      <td>fra1::sjqnk-1685918465201-31f7516882d5</td>\n",
       "      <td>text/html,application/xhtml+xml,application/xml;q=0.9,*/*;q=0.8</td>\n",
       "      <td>en</td>\n",
       "      <td>advertools/0.13.2</td>\n",
       "      <td>gzip, deflate</td>\n",
       "      <td>countryCode=DE</td>\n",
       "      <td>NaN</td>\n",
       "      <td>NaN</td>\n",
       "      <td>NaN</td>\n",
       "      <td>NaN</td>\n",
       "      <td>NaN</td>\n",
       "      <td>NaN</td>\n",
       "      <td>NaN</td>\n",
       "      <td>NaN</td>\n",
       "      <td>NaN</td>\n",
       "      <td>NaN</td>\n",
       "      <td>NaN</td>\n",
       "      <td>NaN</td>\n",
       "      <td>NaN</td>\n",
       "      <td>NaN</td>\n",
       "    </tr>\n",
       "    <tr>\n",
       "      <th>3</th>\n",
       "      <td>https://maven.com/teach</td>\n",
       "      <td>2023-06-04 22:41:05</td>\n",
       "      <td>200</td>\n",
       "      <td>180</td>\n",
       "      <td>maven.com</td>\n",
       "      <td>0.169096</td>\n",
       "      <td>0</td>\n",
       "      <td>HTTP/1.1</td>\n",
       "      <td>NaN</td>\n",
       "      <td>0</td>\n",
       "      <td>*</td>\n",
       "      <td>180096</td>\n",
       "      <td>public, max-age=0, must-revalidate</td>\n",
       "      <td>inline; filename=\"teach\"</td>\n",
       "      <td>gzip</td>\n",
       "      <td>frame-ancestors 'self'; object-src 'none';</td>\n",
       "      <td>text/html; charset=utf-8</td>\n",
       "      <td>Sun, 04 Jun 2023 22:41:05 GMT</td>\n",
       "      <td>W/\"5f86aef4ab999185c49dd68da4fd4ba7\"</td>\n",
       "      <td>Vercel</td>\n",
       "      <td>countryCode=DE; Path=/</td>\n",
       "      <td>max-age=63072000</td>\n",
       "      <td>/teach</td>\n",
       "      <td>HIT</td>\n",
       "      <td>fra1::5vwk6-1685918465201-c06ca5c68725</td>\n",
       "      <td>text/html,application/xhtml+xml,application/xml;q=0.9,*/*;q=0.8</td>\n",
       "      <td>en</td>\n",
       "      <td>advertools/0.13.2</td>\n",
       "      <td>gzip, deflate</td>\n",
       "      <td>countryCode=DE</td>\n",
       "      <td>NaN</td>\n",
       "      <td>NaN</td>\n",
       "      <td>NaN</td>\n",
       "      <td>NaN</td>\n",
       "      <td>NaN</td>\n",
       "      <td>NaN</td>\n",
       "      <td>NaN</td>\n",
       "      <td>NaN</td>\n",
       "      <td>NaN</td>\n",
       "      <td>NaN</td>\n",
       "      <td>NaN</td>\n",
       "      <td>NaN</td>\n",
       "      <td>NaN</td>\n",
       "      <td>NaN</td>\n",
       "    </tr>\n",
       "    <tr>\n",
       "      <th>4</th>\n",
       "      <td>https://maven.com/</td>\n",
       "      <td>2023-06-04 22:41:05</td>\n",
       "      <td>200</td>\n",
       "      <td>180</td>\n",
       "      <td>maven.com</td>\n",
       "      <td>0.261652</td>\n",
       "      <td>0</td>\n",
       "      <td>HTTP/1.1</td>\n",
       "      <td>NaN</td>\n",
       "      <td>0</td>\n",
       "      <td>*</td>\n",
       "      <td>180173</td>\n",
       "      <td>public, max-age=0, must-revalidate</td>\n",
       "      <td>inline</td>\n",
       "      <td>gzip</td>\n",
       "      <td>frame-ancestors 'self'; object-src 'none';</td>\n",
       "      <td>text/html; charset=utf-8</td>\n",
       "      <td>Sun, 04 Jun 2023 22:41:05 GMT</td>\n",
       "      <td>W/\"32f9687437623c4b4e6cd2eae8fd64db\"</td>\n",
       "      <td>Vercel</td>\n",
       "      <td>countryCode=DE; Path=/</td>\n",
       "      <td>max-age=63072000</td>\n",
       "      <td>/</td>\n",
       "      <td>STALE</td>\n",
       "      <td>fra1::fqwxg-1685918465135-bd91b15970e6</td>\n",
       "      <td>text/html,application/xhtml+xml,application/xml;q=0.9,*/*;q=0.8</td>\n",
       "      <td>en</td>\n",
       "      <td>advertools/0.13.2</td>\n",
       "      <td>gzip, deflate</td>\n",
       "      <td>countryCode=DE</td>\n",
       "      <td>NaN</td>\n",
       "      <td>NaN</td>\n",
       "      <td>NaN</td>\n",
       "      <td>NaN</td>\n",
       "      <td>NaN</td>\n",
       "      <td>NaN</td>\n",
       "      <td>NaN</td>\n",
       "      <td>NaN</td>\n",
       "      <td>NaN</td>\n",
       "      <td>NaN</td>\n",
       "      <td>NaN</td>\n",
       "      <td>NaN</td>\n",
       "      <td>NaN</td>\n",
       "      <td>NaN</td>\n",
       "    </tr>\n",
       "    <tr>\n",
       "      <th>...</th>\n",
       "      <td>...</td>\n",
       "      <td>...</td>\n",
       "      <td>...</td>\n",
       "      <td>...</td>\n",
       "      <td>...</td>\n",
       "      <td>...</td>\n",
       "      <td>...</td>\n",
       "      <td>...</td>\n",
       "      <td>...</td>\n",
       "      <td>...</td>\n",
       "      <td>...</td>\n",
       "      <td>...</td>\n",
       "      <td>...</td>\n",
       "      <td>...</td>\n",
       "      <td>...</td>\n",
       "      <td>...</td>\n",
       "      <td>...</td>\n",
       "      <td>...</td>\n",
       "      <td>...</td>\n",
       "      <td>...</td>\n",
       "      <td>...</td>\n",
       "      <td>...</td>\n",
       "      <td>...</td>\n",
       "      <td>...</td>\n",
       "      <td>...</td>\n",
       "      <td>...</td>\n",
       "      <td>...</td>\n",
       "      <td>...</td>\n",
       "      <td>...</td>\n",
       "      <td>...</td>\n",
       "      <td>...</td>\n",
       "      <td>...</td>\n",
       "      <td>...</td>\n",
       "      <td>...</td>\n",
       "      <td>...</td>\n",
       "      <td>...</td>\n",
       "      <td>...</td>\n",
       "      <td>...</td>\n",
       "      <td>...</td>\n",
       "      <td>...</td>\n",
       "      <td>...</td>\n",
       "      <td>...</td>\n",
       "      <td>...</td>\n",
       "      <td>...</td>\n",
       "    </tr>\n",
       "    <tr>\n",
       "      <th>1215</th>\n",
       "      <td>https://maven.com/p/7a3619</td>\n",
       "      <td>2023-06-04 22:42:03</td>\n",
       "      <td>200</td>\n",
       "      <td>180</td>\n",
       "      <td>maven.com</td>\n",
       "      <td>0.448136</td>\n",
       "      <td>0</td>\n",
       "      <td>HTTP/1.1</td>\n",
       "      <td>NaN</td>\n",
       "      <td>0</td>\n",
       "      <td>NaN</td>\n",
       "      <td>0</td>\n",
       "      <td>public, max-age=0, must-revalidate</td>\n",
       "      <td>NaN</td>\n",
       "      <td>NaN</td>\n",
       "      <td>frame-ancestors 'self'; object-src 'none';</td>\n",
       "      <td>text/html; charset=utf-8</td>\n",
       "      <td>Sun, 04 Jun 2023 22:42:03 GMT</td>\n",
       "      <td>\"dkx1lbdk1rqho\"</td>\n",
       "      <td>Vercel</td>\n",
       "      <td>countryCode=DE; Path=/</td>\n",
       "      <td>max-age=63072000</td>\n",
       "      <td>/p/[slug]</td>\n",
       "      <td>MISS</td>\n",
       "      <td>fra1::iad1::9scqw-1685918523126-673552fa2516</td>\n",
       "      <td>text/html,application/xhtml+xml,application/xml;q=0.9,*/*;q=0.8</td>\n",
       "      <td>en</td>\n",
       "      <td>advertools/0.13.2</td>\n",
       "      <td>gzip, deflate</td>\n",
       "      <td>countryCode=DE</td>\n",
       "      <td>Next.js</td>\n",
       "      <td>NaN</td>\n",
       "      <td>NaN</td>\n",
       "      <td>NaN</td>\n",
       "      <td>NaN</td>\n",
       "      <td>NaN</td>\n",
       "      <td>NaN</td>\n",
       "      <td>NaN</td>\n",
       "      <td>NaN</td>\n",
       "      <td>NaN</td>\n",
       "      <td>NaN</td>\n",
       "      <td>NaN</td>\n",
       "      <td>NaN</td>\n",
       "      <td>NaN</td>\n",
       "    </tr>\n",
       "    <tr>\n",
       "      <th>1216</th>\n",
       "      <td>https://maven.com/p/5ab23f</td>\n",
       "      <td>2023-06-04 22:42:03</td>\n",
       "      <td>200</td>\n",
       "      <td>180</td>\n",
       "      <td>maven.com</td>\n",
       "      <td>0.191549</td>\n",
       "      <td>0</td>\n",
       "      <td>HTTP/1.1</td>\n",
       "      <td>NaN</td>\n",
       "      <td>0</td>\n",
       "      <td>NaN</td>\n",
       "      <td>64935</td>\n",
       "      <td>public, max-age=0, must-revalidate</td>\n",
       "      <td>NaN</td>\n",
       "      <td>NaN</td>\n",
       "      <td>frame-ancestors 'self'; object-src 'none';</td>\n",
       "      <td>text/html; charset=utf-8</td>\n",
       "      <td>Sun, 04 Jun 2023 04:39:47 GMT</td>\n",
       "      <td>\"x4jtzhjybwp9i\"</td>\n",
       "      <td>Vercel</td>\n",
       "      <td>countryCode=DE; Path=/</td>\n",
       "      <td>max-age=63072000</td>\n",
       "      <td>/p/[slug]</td>\n",
       "      <td>STALE</td>\n",
       "      <td>fra1::iad1::sjqnk-1685918523392-564eaa6cee52</td>\n",
       "      <td>text/html,application/xhtml+xml,application/xml;q=0.9,*/*;q=0.8</td>\n",
       "      <td>en</td>\n",
       "      <td>advertools/0.13.2</td>\n",
       "      <td>gzip, deflate</td>\n",
       "      <td>countryCode=DE</td>\n",
       "      <td>Next.js</td>\n",
       "      <td>NaN</td>\n",
       "      <td>NaN</td>\n",
       "      <td>NaN</td>\n",
       "      <td>NaN</td>\n",
       "      <td>NaN</td>\n",
       "      <td>NaN</td>\n",
       "      <td>NaN</td>\n",
       "      <td>NaN</td>\n",
       "      <td>NaN</td>\n",
       "      <td>NaN</td>\n",
       "      <td>NaN</td>\n",
       "      <td>NaN</td>\n",
       "      <td>NaN</td>\n",
       "    </tr>\n",
       "    <tr>\n",
       "      <th>1217</th>\n",
       "      <td>https://maven.com/p/8a3b71</td>\n",
       "      <td>2023-06-04 22:42:03</td>\n",
       "      <td>200</td>\n",
       "      <td>180</td>\n",
       "      <td>maven.com</td>\n",
       "      <td>0.464304</td>\n",
       "      <td>0</td>\n",
       "      <td>HTTP/1.1</td>\n",
       "      <td>NaN</td>\n",
       "      <td>0</td>\n",
       "      <td>NaN</td>\n",
       "      <td>0</td>\n",
       "      <td>public, max-age=0, must-revalidate</td>\n",
       "      <td>NaN</td>\n",
       "      <td>NaN</td>\n",
       "      <td>frame-ancestors 'self'; object-src 'none';</td>\n",
       "      <td>text/html; charset=utf-8</td>\n",
       "      <td>Sun, 04 Jun 2023 22:42:03 GMT</td>\n",
       "      <td>\"bd0thjjlnfm5w\"</td>\n",
       "      <td>Vercel</td>\n",
       "      <td>countryCode=DE; Path=/</td>\n",
       "      <td>max-age=63072000</td>\n",
       "      <td>/p/[slug]</td>\n",
       "      <td>MISS</td>\n",
       "      <td>fra1::iad1::8p5l9-1685918523126-54ca669b11c1</td>\n",
       "      <td>text/html,application/xhtml+xml,application/xml;q=0.9,*/*;q=0.8</td>\n",
       "      <td>en</td>\n",
       "      <td>advertools/0.13.2</td>\n",
       "      <td>gzip, deflate</td>\n",
       "      <td>countryCode=DE</td>\n",
       "      <td>Next.js</td>\n",
       "      <td>NaN</td>\n",
       "      <td>NaN</td>\n",
       "      <td>NaN</td>\n",
       "      <td>NaN</td>\n",
       "      <td>NaN</td>\n",
       "      <td>NaN</td>\n",
       "      <td>NaN</td>\n",
       "      <td>NaN</td>\n",
       "      <td>NaN</td>\n",
       "      <td>NaN</td>\n",
       "      <td>NaN</td>\n",
       "      <td>NaN</td>\n",
       "      <td>NaN</td>\n",
       "    </tr>\n",
       "    <tr>\n",
       "      <th>1218</th>\n",
       "      <td>https://maven.com/p/bb01a3</td>\n",
       "      <td>2023-06-04 22:42:03</td>\n",
       "      <td>200</td>\n",
       "      <td>180</td>\n",
       "      <td>maven.com</td>\n",
       "      <td>0.497109</td>\n",
       "      <td>0</td>\n",
       "      <td>HTTP/1.1</td>\n",
       "      <td>NaN</td>\n",
       "      <td>0</td>\n",
       "      <td>NaN</td>\n",
       "      <td>0</td>\n",
       "      <td>public, max-age=0, must-revalidate</td>\n",
       "      <td>NaN</td>\n",
       "      <td>NaN</td>\n",
       "      <td>frame-ancestors 'self'; object-src 'none';</td>\n",
       "      <td>text/html; charset=utf-8</td>\n",
       "      <td>Sun, 04 Jun 2023 22:42:03 GMT</td>\n",
       "      <td>\"15gxd6jgw43rex\"</td>\n",
       "      <td>Vercel</td>\n",
       "      <td>countryCode=DE; Path=/</td>\n",
       "      <td>max-age=63072000</td>\n",
       "      <td>/p/[slug]</td>\n",
       "      <td>MISS</td>\n",
       "      <td>fra1::iad1::w868q-1685918523160-5638010f3b02</td>\n",
       "      <td>text/html,application/xhtml+xml,application/xml;q=0.9,*/*;q=0.8</td>\n",
       "      <td>en</td>\n",
       "      <td>advertools/0.13.2</td>\n",
       "      <td>gzip, deflate</td>\n",
       "      <td>countryCode=DE</td>\n",
       "      <td>Next.js</td>\n",
       "      <td>NaN</td>\n",
       "      <td>NaN</td>\n",
       "      <td>NaN</td>\n",
       "      <td>NaN</td>\n",
       "      <td>NaN</td>\n",
       "      <td>NaN</td>\n",
       "      <td>NaN</td>\n",
       "      <td>NaN</td>\n",
       "      <td>NaN</td>\n",
       "      <td>NaN</td>\n",
       "      <td>NaN</td>\n",
       "      <td>NaN</td>\n",
       "      <td>NaN</td>\n",
       "    </tr>\n",
       "    <tr>\n",
       "      <th>1219</th>\n",
       "      <td>https://maven.com/p/8762a1</td>\n",
       "      <td>2023-06-04 22:42:03</td>\n",
       "      <td>200</td>\n",
       "      <td>180</td>\n",
       "      <td>maven.com</td>\n",
       "      <td>0.453677</td>\n",
       "      <td>0</td>\n",
       "      <td>HTTP/1.1</td>\n",
       "      <td>NaN</td>\n",
       "      <td>0</td>\n",
       "      <td>NaN</td>\n",
       "      <td>0</td>\n",
       "      <td>public, max-age=0, must-revalidate</td>\n",
       "      <td>NaN</td>\n",
       "      <td>NaN</td>\n",
       "      <td>frame-ancestors 'self'; object-src 'none';</td>\n",
       "      <td>text/html; charset=utf-8</td>\n",
       "      <td>Sun, 04 Jun 2023 22:42:03 GMT</td>\n",
       "      <td>\"yu81mqw1lepr2\"</td>\n",
       "      <td>Vercel</td>\n",
       "      <td>countryCode=DE; Path=/</td>\n",
       "      <td>max-age=63072000</td>\n",
       "      <td>/p/[slug]</td>\n",
       "      <td>MISS</td>\n",
       "      <td>fra1::iad1::8lzlk-1685918523266-53a4d01af23b</td>\n",
       "      <td>text/html,application/xhtml+xml,application/xml;q=0.9,*/*;q=0.8</td>\n",
       "      <td>en</td>\n",
       "      <td>advertools/0.13.2</td>\n",
       "      <td>gzip, deflate</td>\n",
       "      <td>countryCode=DE</td>\n",
       "      <td>Next.js</td>\n",
       "      <td>NaN</td>\n",
       "      <td>NaN</td>\n",
       "      <td>NaN</td>\n",
       "      <td>NaN</td>\n",
       "      <td>NaN</td>\n",
       "      <td>NaN</td>\n",
       "      <td>NaN</td>\n",
       "      <td>NaN</td>\n",
       "      <td>NaN</td>\n",
       "      <td>NaN</td>\n",
       "      <td>NaN</td>\n",
       "      <td>NaN</td>\n",
       "      <td>NaN</td>\n",
       "    </tr>\n",
       "  </tbody>\n",
       "</table>\n",
       "<p>1220 rows × 44 columns</p>\n",
       "</div>"
      ],
      "text/plain": [
       "                             url          crawl_time  status   \n",
       "0        https://maven.com/terms 2023-06-04 22:41:05     200  \\\n",
       "1        https://maven.com/about 2023-06-04 22:41:05     200   \n",
       "2      https://maven.com/privacy 2023-06-04 22:41:05     200   \n",
       "3        https://maven.com/teach 2023-06-04 22:41:05     200   \n",
       "4             https://maven.com/ 2023-06-04 22:41:05     200   \n",
       "...                          ...                 ...     ...   \n",
       "1215  https://maven.com/p/7a3619 2023-06-04 22:42:03     200   \n",
       "1216  https://maven.com/p/5ab23f 2023-06-04 22:42:03     200   \n",
       "1217  https://maven.com/p/8a3b71 2023-06-04 22:42:03     200   \n",
       "1218  https://maven.com/p/bb01a3 2023-06-04 22:42:03     200   \n",
       "1219  https://maven.com/p/8762a1 2023-06-04 22:42:03     200   \n",
       "\n",
       "      download_timeout download_slot  download_latency  depth  protocol  body   \n",
       "0                  180     maven.com          0.127141      0  HTTP/1.1   NaN  \\\n",
       "1                  180     maven.com          0.135604      0  HTTP/1.1   NaN   \n",
       "2                  180     maven.com          0.138744      0  HTTP/1.1   NaN   \n",
       "3                  180     maven.com          0.169096      0  HTTP/1.1   NaN   \n",
       "4                  180     maven.com          0.261652      0  HTTP/1.1   NaN   \n",
       "...                ...           ...               ...    ...       ...   ...   \n",
       "1215               180     maven.com          0.448136      0  HTTP/1.1   NaN   \n",
       "1216               180     maven.com          0.191549      0  HTTP/1.1   NaN   \n",
       "1217               180     maven.com          0.464304      0  HTTP/1.1   NaN   \n",
       "1218               180     maven.com          0.497109      0  HTTP/1.1   NaN   \n",
       "1219               180     maven.com          0.453677      0  HTTP/1.1   NaN   \n",
       "\n",
       "      resp_headers_content-length resp_headers_access-control-allow-origin   \n",
       "0                               0                                        *  \\\n",
       "1                               0                                        *   \n",
       "2                               0                                        *   \n",
       "3                               0                                        *   \n",
       "4                               0                                        *   \n",
       "...                           ...                                      ...   \n",
       "1215                            0                                      NaN   \n",
       "1216                            0                                      NaN   \n",
       "1217                            0                                      NaN   \n",
       "1218                            0                                      NaN   \n",
       "1219                            0                                      NaN   \n",
       "\n",
       "      resp_headers_age          resp_headers_cache-control   \n",
       "0                 5675  public, max-age=0, must-revalidate  \\\n",
       "1               151629  public, max-age=0, must-revalidate   \n",
       "2               179276  public, max-age=0, must-revalidate   \n",
       "3               180096  public, max-age=0, must-revalidate   \n",
       "4               180173  public, max-age=0, must-revalidate   \n",
       "...                ...                                 ...   \n",
       "1215                 0  public, max-age=0, must-revalidate   \n",
       "1216             64935  public, max-age=0, must-revalidate   \n",
       "1217                 0  public, max-age=0, must-revalidate   \n",
       "1218                 0  public, max-age=0, must-revalidate   \n",
       "1219                 0  public, max-age=0, must-revalidate   \n",
       "\n",
       "     resp_headers_content-disposition resp_headers_content-encoding   \n",
       "0            inline; filename=\"terms\"                          gzip  \\\n",
       "1            inline; filename=\"about\"                          gzip   \n",
       "2          inline; filename=\"privacy\"                          gzip   \n",
       "3            inline; filename=\"teach\"                          gzip   \n",
       "4                              inline                          gzip   \n",
       "...                               ...                           ...   \n",
       "1215                              NaN                           NaN   \n",
       "1216                              NaN                           NaN   \n",
       "1217                              NaN                           NaN   \n",
       "1218                              NaN                           NaN   \n",
       "1219                              NaN                           NaN   \n",
       "\n",
       "            resp_headers_content-security-policy resp_headers_content-type   \n",
       "0     frame-ancestors 'self'; object-src 'none';  text/html; charset=utf-8  \\\n",
       "1     frame-ancestors 'self'; object-src 'none';  text/html; charset=utf-8   \n",
       "2     frame-ancestors 'self'; object-src 'none';  text/html; charset=utf-8   \n",
       "3     frame-ancestors 'self'; object-src 'none';  text/html; charset=utf-8   \n",
       "4     frame-ancestors 'self'; object-src 'none';  text/html; charset=utf-8   \n",
       "...                                          ...                       ...   \n",
       "1215  frame-ancestors 'self'; object-src 'none';  text/html; charset=utf-8   \n",
       "1216  frame-ancestors 'self'; object-src 'none';  text/html; charset=utf-8   \n",
       "1217  frame-ancestors 'self'; object-src 'none';  text/html; charset=utf-8   \n",
       "1218  frame-ancestors 'self'; object-src 'none';  text/html; charset=utf-8   \n",
       "1219  frame-ancestors 'self'; object-src 'none';  text/html; charset=utf-8   \n",
       "\n",
       "                  resp_headers_date                     resp_headers_etag   \n",
       "0     Sun, 04 Jun 2023 22:41:05 GMT  W/\"4e2897677cdabbffa62aeaaef35094c9\"  \\\n",
       "1     Sun, 04 Jun 2023 22:41:05 GMT  W/\"983604f5444686e38b0622825a8655b6\"   \n",
       "2     Sun, 04 Jun 2023 22:41:05 GMT  W/\"7fc56e01f7273ef1929e30f08765de3f\"   \n",
       "3     Sun, 04 Jun 2023 22:41:05 GMT  W/\"5f86aef4ab999185c49dd68da4fd4ba7\"   \n",
       "4     Sun, 04 Jun 2023 22:41:05 GMT  W/\"32f9687437623c4b4e6cd2eae8fd64db\"   \n",
       "...                             ...                                   ...   \n",
       "1215  Sun, 04 Jun 2023 22:42:03 GMT                       \"dkx1lbdk1rqho\"   \n",
       "1216  Sun, 04 Jun 2023 04:39:47 GMT                       \"x4jtzhjybwp9i\"   \n",
       "1217  Sun, 04 Jun 2023 22:42:03 GMT                       \"bd0thjjlnfm5w\"   \n",
       "1218  Sun, 04 Jun 2023 22:42:03 GMT                      \"15gxd6jgw43rex\"   \n",
       "1219  Sun, 04 Jun 2023 22:42:03 GMT                       \"yu81mqw1lepr2\"   \n",
       "\n",
       "     resp_headers_server resp_headers_set-cookie   \n",
       "0                 Vercel  countryCode=DE; Path=/  \\\n",
       "1                 Vercel  countryCode=DE; Path=/   \n",
       "2                 Vercel  countryCode=DE; Path=/   \n",
       "3                 Vercel  countryCode=DE; Path=/   \n",
       "4                 Vercel  countryCode=DE; Path=/   \n",
       "...                  ...                     ...   \n",
       "1215              Vercel  countryCode=DE; Path=/   \n",
       "1216              Vercel  countryCode=DE; Path=/   \n",
       "1217              Vercel  countryCode=DE; Path=/   \n",
       "1218              Vercel  countryCode=DE; Path=/   \n",
       "1219              Vercel  countryCode=DE; Path=/   \n",
       "\n",
       "     resp_headers_strict-transport-security resp_headers_x-matched-path   \n",
       "0                          max-age=63072000                      /terms  \\\n",
       "1                          max-age=63072000                      /about   \n",
       "2                          max-age=63072000                    /privacy   \n",
       "3                          max-age=63072000                      /teach   \n",
       "4                          max-age=63072000                           /   \n",
       "...                                     ...                         ...   \n",
       "1215                       max-age=63072000                   /p/[slug]   \n",
       "1216                       max-age=63072000                   /p/[slug]   \n",
       "1217                       max-age=63072000                   /p/[slug]   \n",
       "1218                       max-age=63072000                   /p/[slug]   \n",
       "1219                       max-age=63072000                   /p/[slug]   \n",
       "\n",
       "     resp_headers_x-vercel-cache   \n",
       "0                            HIT  \\\n",
       "1                            HIT   \n",
       "2                            HIT   \n",
       "3                            HIT   \n",
       "4                          STALE   \n",
       "...                          ...   \n",
       "1215                        MISS   \n",
       "1216                       STALE   \n",
       "1217                        MISS   \n",
       "1218                        MISS   \n",
       "1219                        MISS   \n",
       "\n",
       "                          resp_headers_x-vercel-id   \n",
       "0           fra1::2pmkm-1685918465201-773d438cf470  \\\n",
       "1           fra1::hvtsj-1685918465200-24451eeb0506   \n",
       "2           fra1::sjqnk-1685918465201-31f7516882d5   \n",
       "3           fra1::5vwk6-1685918465201-c06ca5c68725   \n",
       "4           fra1::fqwxg-1685918465135-bd91b15970e6   \n",
       "...                                            ...   \n",
       "1215  fra1::iad1::9scqw-1685918523126-673552fa2516   \n",
       "1216  fra1::iad1::sjqnk-1685918523392-564eaa6cee52   \n",
       "1217  fra1::iad1::8p5l9-1685918523126-54ca669b11c1   \n",
       "1218  fra1::iad1::w868q-1685918523160-5638010f3b02   \n",
       "1219  fra1::iad1::8lzlk-1685918523266-53a4d01af23b   \n",
       "\n",
       "                                               request_headers_accept   \n",
       "0     text/html,application/xhtml+xml,application/xml;q=0.9,*/*;q=0.8  \\\n",
       "1     text/html,application/xhtml+xml,application/xml;q=0.9,*/*;q=0.8   \n",
       "2     text/html,application/xhtml+xml,application/xml;q=0.9,*/*;q=0.8   \n",
       "3     text/html,application/xhtml+xml,application/xml;q=0.9,*/*;q=0.8   \n",
       "4     text/html,application/xhtml+xml,application/xml;q=0.9,*/*;q=0.8   \n",
       "...                                                               ...   \n",
       "1215  text/html,application/xhtml+xml,application/xml;q=0.9,*/*;q=0.8   \n",
       "1216  text/html,application/xhtml+xml,application/xml;q=0.9,*/*;q=0.8   \n",
       "1217  text/html,application/xhtml+xml,application/xml;q=0.9,*/*;q=0.8   \n",
       "1218  text/html,application/xhtml+xml,application/xml;q=0.9,*/*;q=0.8   \n",
       "1219  text/html,application/xhtml+xml,application/xml;q=0.9,*/*;q=0.8   \n",
       "\n",
       "     request_headers_accept-language request_headers_user-agent   \n",
       "0                                 en          advertools/0.13.2  \\\n",
       "1                                 en          advertools/0.13.2   \n",
       "2                                 en          advertools/0.13.2   \n",
       "3                                 en          advertools/0.13.2   \n",
       "4                                 en          advertools/0.13.2   \n",
       "...                              ...                        ...   \n",
       "1215                              en          advertools/0.13.2   \n",
       "1216                              en          advertools/0.13.2   \n",
       "1217                              en          advertools/0.13.2   \n",
       "1218                              en          advertools/0.13.2   \n",
       "1219                              en          advertools/0.13.2   \n",
       "\n",
       "     request_headers_accept-encoding request_headers_cookie   \n",
       "0                      gzip, deflate         countryCode=DE  \\\n",
       "1                      gzip, deflate         countryCode=DE   \n",
       "2                      gzip, deflate         countryCode=DE   \n",
       "3                      gzip, deflate         countryCode=DE   \n",
       "4                      gzip, deflate         countryCode=DE   \n",
       "...                              ...                    ...   \n",
       "1215                   gzip, deflate         countryCode=DE   \n",
       "1216                   gzip, deflate         countryCode=DE   \n",
       "1217                   gzip, deflate         countryCode=DE   \n",
       "1218                   gzip, deflate         countryCode=DE   \n",
       "1219                   gzip, deflate         countryCode=DE   \n",
       "\n",
       "     resp_headers_x-powered-by resp_headers_x-nextjs-matched-path   \n",
       "0                          NaN                                NaN  \\\n",
       "1                          NaN                                NaN   \n",
       "2                          NaN                                NaN   \n",
       "3                          NaN                                NaN   \n",
       "4                          NaN                                NaN   \n",
       "...                        ...                                ...   \n",
       "1215                   Next.js                                NaN   \n",
       "1216                   Next.js                                NaN   \n",
       "1217                   Next.js                                NaN   \n",
       "1218                   Next.js                                NaN   \n",
       "1219                   Next.js                                NaN   \n",
       "\n",
       "      redirect_times  redirect_ttl redirect_urls  redirect_reasons   \n",
       "0                NaN           NaN           NaN               NaN  \\\n",
       "1                NaN           NaN           NaN               NaN   \n",
       "2                NaN           NaN           NaN               NaN   \n",
       "3                NaN           NaN           NaN               NaN   \n",
       "4                NaN           NaN           NaN               NaN   \n",
       "...              ...           ...           ...               ...   \n",
       "1215             NaN           NaN           NaN               NaN   \n",
       "1216             NaN           NaN           NaN               NaN   \n",
       "1217             NaN           NaN           NaN               NaN   \n",
       "1218             NaN           NaN           NaN               NaN   \n",
       "1219             NaN           NaN           NaN               NaN   \n",
       "\n",
       "     resp_headers_x-lambda-id resp_headers_accept-ranges   \n",
       "0                         NaN                        NaN  \\\n",
       "1                         NaN                        NaN   \n",
       "2                         NaN                        NaN   \n",
       "3                         NaN                        NaN   \n",
       "4                         NaN                        NaN   \n",
       "...                       ...                        ...   \n",
       "1215                      NaN                        NaN   \n",
       "1216                      NaN                        NaN   \n",
       "1217                      NaN                        NaN   \n",
       "1218                      NaN                        NaN   \n",
       "1219                      NaN                        NaN   \n",
       "\n",
       "     resp_headers_x-served-by resp_headers_x-cache resp_headers_x-cache-hits   \n",
       "0                         NaN                  NaN                       NaN  \\\n",
       "1                         NaN                  NaN                       NaN   \n",
       "2                         NaN                  NaN                       NaN   \n",
       "3                         NaN                  NaN                       NaN   \n",
       "4                         NaN                  NaN                       NaN   \n",
       "...                       ...                  ...                       ...   \n",
       "1215                      NaN                  NaN                       NaN   \n",
       "1216                      NaN                  NaN                       NaN   \n",
       "1217                      NaN                  NaN                       NaN   \n",
       "1218                      NaN                  NaN                       NaN   \n",
       "1219                      NaN                  NaN                       NaN   \n",
       "\n",
       "     resp_headers_x-timer resp_headers_vary resp_headers_x-cluster-name  \n",
       "0                     NaN               NaN                         NaN  \n",
       "1                     NaN               NaN                         NaN  \n",
       "2                     NaN               NaN                         NaN  \n",
       "3                     NaN               NaN                         NaN  \n",
       "4                     NaN               NaN                         NaN  \n",
       "...                   ...               ...                         ...  \n",
       "1215                  NaN               NaN                         NaN  \n",
       "1216                  NaN               NaN                         NaN  \n",
       "1217                  NaN               NaN                         NaN  \n",
       "1218                  NaN               NaN                         NaN  \n",
       "1219                  NaN               NaN                         NaN  \n",
       "\n",
       "[1220 rows x 44 columns]"
      ]
     },
     "execution_count": null,
     "metadata": {},
     "output_type": "execute_result"
    }
   ],
   "source": [
    "headers_df"
   ]
  }
 ],
 "metadata": {
  "kernelspec": {
   "display_name": "python3",
   "language": "python",
   "name": "python3"
  },
  "widgets": {
   "application/vnd.jupyter.widget-state+json": {
    "state": {},
    "version_major": 2,
    "version_minor": 0
   }
  }
 },
 "nbformat": 4,
 "nbformat_minor": 5
}
