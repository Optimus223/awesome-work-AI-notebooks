{
 "cells": [
  {
   "attachments": {},
   "cell_type": "markdown",
   "id": "5da81fdb-1607-4dcd-8945-78492d41c20c",
   "metadata": {},
   "source": [
    "<img width=\"10%\" alt=\"Naas\" src=\"https://landen.imgix.net/jtci2pxwjczr/assets/5ice39g4.png?w=160\"/>"
   ]
  },
  {
   "attachments": {},
   "cell_type": "markdown",
   "id": "96049d01-11e9-4538-9012-57992898281e",
   "metadata": {},
   "source": [
    "# Advertools - Bulk status code checker with response headers"
   ]
  },
  {
   "attachments": {},
   "cell_type": "markdown",
   "id": "76b0bd6e-4a5c-472f-a473-a315e3738936",
   "metadata": {},
   "source": [
    "**Tags:** #advertools #adviz #website #analyze #audit #seo #status_code #response_headers"
   ]
  },
  {
   "attachments": {},
   "cell_type": "markdown",
   "id": "1089c7e4-b7a9-48ab-8320-e17847ad3b30",
   "metadata": {},
   "source": [
    "**Author:** [Elias Dabbas](https://www.linkedin.com/in/eliasdabbas/)"
   ]
  },
  {
   "attachments": {},
   "cell_type": "markdown",
   "id": "d93cd7a5-1d4f-4bc6-94a2-b74461c7f538",
   "metadata": {},
   "source": [
    "**Description:** This notebook runs an automated status code checker with response headers using the HTTP `HEAD` method.\n",
    "\n",
    "* Bulk and concurrent checking of status codes for a known list of URLs\n",
    "* Get all available response headers from all URLs\n",
    "* Set speed, number of concurent request and various other crawling options\n",
    "* Does NOT download the full HTML of a page, saving a lot of time, energy, and resources, and enabling an extreemely fast and light process"
   ]
  },
  {
   "attachments": {},
   "cell_type": "markdown",
   "id": "5d84a0cf-6ba8-456a-8b42-1bf63e3a17f2",
   "metadata": {},
   "source": [
    "**References:**\n",
    "- [advertools `crawl_headers` function](https://advertools.readthedocs.io/en/master/advertools.header_spider.html)\n",
    "- Scrapy [throttling](https://docs.scrapy.org/en/latest/topics/autothrottle.html) and [custom settings](https://docs.scrapy.org/en/latest/topics/settings.html)"
   ]
  },
  {
   "attachments": {},
   "cell_type": "markdown",
   "id": "a75ef3a2-b261-45a8-bd64-52cb78b5f502",
   "metadata": {},
   "source": [
    "## Input"
   ]
  },
  {
   "attachments": {},
   "cell_type": "markdown",
   "id": "f530c66d-1a5b-47d1-8d80-01f21a83ac3e",
   "metadata": {},
   "source": [
    "### Import libraries"
   ]
  },
  {
   "cell_type": "code",
   "execution_count": null,
   "id": "1e8d108a-44de-44b4-941f-f12795838c5c",
   "metadata": {},
   "outputs": [],
   "source": [
    "try:\n",
    "    import advertools as adv\n",
    "    import adviz\n",
    "    import pandas as pd\n",
    "    import plotly.express as px\n",
    "    pd.options.display.max_columns = None\n",
    "except ModuleNotFoundError:\n",
    "    !pip install adviz"
   ]
  },
  {
   "attachments": {},
   "cell_type": "markdown",
   "id": "d35a9e6f-71c4-4cb2-b9bc-32c23b18c4ba",
   "metadata": {},
   "source": [
    "### Setup Variables\n",
    "\n",
    "**Function parameters:**\n",
    "- `url_list`: List of URLs to check the status codes\n",
    "- `output_file`: The path to the file for saving the output. It has to be in the `.jl` format. Note that new lines to the file are `appended` to the end and the file is not overwritten while crawling.\n",
    "\n",
    "**Custom settings:**\n",
    "\n",
    "- `CONCURRENT_REQUESTS_PER_DOMAIN`: Defaults to 8. Most likely you will need to slow it down, because the crawling is extremely fast.\n",
    "- `DEFAULT_REQUEST_HEADERS`: A dictionary where you can set custom request headers.\n",
    "- `USER_AGENT`: Set a different/custom user agent if you need to.\n",
    "- `AUTOTHROTTLE_ENABLED`: Whether or not to dynamically change the pace of crawling to be nice to servers as much as possible. It's usually good to enable this extension, as this type of crawling is extremely fast, often leading to 429 (too many requests code), or being blocked.\n",
    "\n",
    "### Create helper visualizations"
   ]
  },
  {
   "cell_type": "code",
   "execution_count": null,
   "id": "55e5e098-20dc-47fc-b8fe-fd169e8e2c01",
   "metadata": {},
   "outputs": [],
   "source": [
    "def ecdf(df, column, template='none', width=None, height=500):\n",
    "    df = df.sort_values(column)\n",
    "    df['count below'] = range(len(df))\n",
    "    df['count above'] = range(len(df)-1, -1, -1)\n",
    "    df['total count'] = len(df)\n",
    "    fig = px.ecdf(\n",
    "        df.dropna(subset=[column]),\n",
    "        x=column,\n",
    "        markers=True, lines=False,\n",
    "        template=template,\n",
    "        height=height,\n",
    "        width=width,\n",
    "        hover_data=['count below', 'count above', 'total count'],\n",
    "        title=f\"Cumulative distribution of <b>{column.replace('_', ' ')}</b>\",\n",
    "        ecdfnorm='percent')\n",
    "    fig.data[0].hovertemplate = f'<b>{column.replace(\"_\", \" \").title()}</b><br><br>{column}' + ': %{x}<br>percent: %{y}<br><br>count below: %{customdata[0]:,}<br>count above: %{customdata[1]:,}<br>total count: %{customdata[2]:,}<extra></extra>'\n",
    "    fig.layout.yaxis.ticksuffix = '%'\n",
    "    fig.layout.yaxis.showspikes = True\n",
    "    fig.layout.xaxis.showspikes = True\n",
    "    return fig"
   ]
  },
  {
   "attachments": {},
   "cell_type": "markdown",
   "id": "a65e90ed-7a4d-4fe0-b850-ec9d9abdf4f0",
   "metadata": {},
   "source": [
    "### Convert the website's XML sitemap to a `DataFrame`\n",
    "\n",
    "Optionally get any other list of URLs hrough crawling, or any analytics tool."
   ]
  },
  {
   "cell_type": "code",
   "execution_count": 1,
   "id": "9ad3a02e-456f-4d26-a2a9-fe314909edf2",
   "metadata": {},
   "outputs": [],
   "source": [
    "sitemap = adv.sitemap_to_df('https://www.maven.com/robots.txt')"
   ]
  },
  {
   "cell_type": "code",
   "execution_count": null,
   "id": "cebcf1a5-23ce-49ca-aee9-aac7ff28a2e4",
   "metadata": {},
   "outputs": [
    {
     "data": {
      "text/plain": [
       "{'AUTOTHROTTLE_ENABLED': True,\n",
       " 'CONCURRENT_REQUESTS_PER_DOMAIN': 4,\n",
       " 'USER_AGENT': 'advertools/0.13.2',\n",
       " 'LOG_FILE': 'crawl_headers_output.log'}"
      ]
     },
     "execution_count": null,
     "metadata": {},
     "output_type": "execute_result"
    }
   ],
   "source": [
    "url_list = sitemap['loc']  # or another list of URLs\n",
    "\n",
    "output_file = 'crawl_headers_output.jl'\n",
    "\n",
    "custom_settings = {\n",
    "    # optionally change request headers:\n",
    "    # 'DEFAULT_REQUEST_HEADERS': {},\n",
    "    'AUTOTHROTTLE_ENABLED': True,\n",
    "    'CONCURRENT_REQUESTS_PER_DOMAIN': 4,\n",
    "    'USER_AGENT': adv.spider.user_agent,\n",
    "    'LOG_FILE': 'crawl_headers_output.log',\n",
    "}\n",
    "custom_settings"
   ]
  },
  {
   "attachments": {},
   "cell_type": "markdown",
   "id": "1ad6e918-ae61-4a78-9b71-a6ad5f530f53",
   "metadata": {},
   "source": [
    "## Model"
   ]
  },
  {
   "attachments": {},
   "cell_type": "markdown",
   "id": "dafe9992-9fcb-4849-a69e-ced13c995aff",
   "metadata": {},
   "source": [
    "### Check status codes and retreive response headers for `url_list`"
   ]
  },
  {
   "cell_type": "code",
   "execution_count": null,
   "id": "2393668d-9f22-45a0-9f79-5901b1c88496",
   "metadata": {},
   "outputs": [],
   "source": [
    "adv.crawl_headers(\n",
    "    url_list=url_list,\n",
    "    output_file=output_file,\n",
    "    custom_settings=custom_settings\n",
    ")"
   ]
  },
  {
   "attachments": {},
   "cell_type": "markdown",
   "id": "2f205baa-8d88-41a9-b860-b429b195077e",
   "metadata": {},
   "source": [
    "Open the crawl output file:"
   ]
  },
  {
   "cell_type": "code",
   "execution_count": 2,
   "id": "89f415ef-b5ec-42f8-932d-7d01cb2fea07",
   "metadata": {},
   "outputs": [],
   "source": [
    "headers_df = pd.read_json('crawl_headers_output.jl', lines=True)\n",
    "headers_df"
   ]
  },
  {
   "attachments": {},
   "cell_type": "markdown",
   "id": "cd817594-1b7f-4d02-a245-9e1dcd6ad2b6",
   "metadata": {},
   "source": [
    "#### Visualize status codes"
   ]
  },
  {
   "cell_type": "code",
   "execution_count": 3,
   "id": "5839cc92-18ea-4a57-b9bb-5fa8d0db279c",
   "metadata": {},
   "outputs": [],
   "source": [
    "adviz.status_codes(headers_df['status'])"
   ]
  },
  {
   "cell_type": "code",
   "execution_count": 4,
   "id": "552d3abb-4e7c-4c0e-8e68-5777ac8cc24b",
   "metadata": {},
   "outputs": [],
   "source": [
    "adviz.value_counts_plus(headers_df['status'], name='Status codes', size=14)"
   ]
  },
  {
   "attachments": {},
   "cell_type": "markdown",
   "id": "50a39376-9dab-4f3e-a87d-6006a61165ff",
   "metadata": {},
   "source": [
    "#### Visualize URL structure"
   ]
  },
  {
   "cell_type": "code",
   "execution_count": 5,
   "id": "0d536efd-9d10-480c-abdd-0353d6f38c95",
   "metadata": {},
   "outputs": [],
   "source": [
    "adviz.url_structure(\n",
    "    headers_df['url'],\n",
    "    domain='maven.com',\n",
    "    items_per_level=50,\n",
    "    theme='plotly_dark')"
   ]
  },
  {
   "attachments": {},
   "cell_type": "markdown",
   "id": "e7cb3852-bc53-4f24-83fb-65fbe3d42764",
   "metadata": {},
   "source": [
    "#### Get redirects"
   ]
  },
  {
   "cell_type": "code",
   "execution_count": 6,
   "id": "3132e337-c431-4145-8ba1-f58b08a0cea5",
   "metadata": {},
   "outputs": [],
   "source": [
    "if 'redirect_urls' in headers_df:\n",
    "    redirect_df = headers_df.filter(regex='^url$|redirect_').dropna(thresh=4)\n",
    "    redirect_df['redirect_urls'] = redirect_df['redirect_urls'].str.split('@@')\n",
    "    redirect_df['redirect_reasons'] = redirect_df['redirect_reasons'].astype(int).astype(str).str.split('@@')\n",
    "    redirect_df['redirect_chain'] = (redirect_df['redirect_urls']\n",
    "                                     .str.join('@@')\n",
    "                                     .add('@@')\n",
    "                                     .add(redirect_df['url']).str.split('@@'))\n",
    "    from IPython.display import display\n",
    "    display(redirect_df)\n",
    "else:\n",
    "    print('No redirects found in this dataset')"
   ]
  },
  {
   "attachments": {},
   "cell_type": "markdown",
   "id": "ea195054-23c4-498a-b75e-9929270d89d9",
   "metadata": {},
   "source": [
    "### Visualize download latency\n",
    "The same charts can be used for any other `float` columns in `headers_df` if available."
   ]
  },
  {
   "cell_type": "code",
   "execution_count": 7,
   "id": "0b13dd7e-d0a5-44da-9032-6bc0e2255425",
   "metadata": {},
   "outputs": [],
   "source": [
    "fig = px.histogram(\n",
    "    x=headers_df['download_latency'],\n",
    "    template='none',\n",
    "    labels={'x': 'Latency (seconds)<br>'},\n",
    "    height=500,\n",
    "    # experiment with different values for nbins:\n",
    "    # nbins=10,\n",
    "    title='<b>Download latency distribution</b>')\n",
    "\n",
    "fig.add_annotation(\n",
    "    yref='y domain',\n",
    "    xref='paper',\n",
    "    x=0,\n",
    "    y=-0.25,\n",
    "    showarrow=False,\n",
    "    align='right',\n",
    "    text='<b>Latency:</b> time elapsed between establishing the TCP connection and receiving the HTTP headers.')\n",
    "fig"
   ]
  },
  {
   "cell_type": "code",
   "execution_count": 8,
   "id": "41cf57b4-0a49-48bf-9c04-cd4dc38bdaad",
   "metadata": {},
   "outputs": [],
   "source": [
    "ecdf(df=headers_df, column='download_latency')"
   ]
  },
  {
   "attachments": {},
   "cell_type": "markdown",
   "id": "550110a8-50b2-49a0-9752-5132256356b9",
   "metadata": {},
   "source": [
    "## Output"
   ]
  },
  {
   "cell_type": "code",
   "execution_count": 9,
   "id": "7b6a8e95-fd71-4602-9a29-ccb4bb52c9e2",
   "metadata": {},
   "outputs": [],
   "source": [
    "headers_df"
   ]
  }
 ],
 "metadata": {
  "kernelspec": {
   "display_name": "python3",
   "language": "python",
   "name": "python3"
  },
  "language_info": {
   "codemirror_mode": {
    "name": "ipython",
    "version": 3
   },
   "file_extension": ".py",
   "mimetype": "text/x-python",
   "name": "python",
   "nbconvert_exporter": "python",
   "pygments_lexer": "ipython3",
   "version": "3.9.2"
  },
  "widgets": {
   "application/vnd.jupyter.widget-state+json": {
    "state": {},
    "version_major": 2,
    "version_minor": 0
   }
  }
 },
 "nbformat": 4,
 "nbformat_minor": 5
}
