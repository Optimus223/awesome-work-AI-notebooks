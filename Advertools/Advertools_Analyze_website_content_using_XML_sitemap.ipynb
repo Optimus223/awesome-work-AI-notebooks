{
 "cells": [
  {
   "cell_type": "markdown",
   "id": "5da81fdb-1607-4dcd-8945-78492d41c20c",
   "metadata": {
    "papermill": {},
    "tags": []
   },
   "source": [
    "<img width=\"10%\" alt=\"Naas\" src=\"https://landen.imgix.net/jtci2pxwjczr/assets/5ice39g4.png?w=160\"/>"
   ]
  },
  {
   "cell_type": "markdown",
   "id": "96049d01-11e9-4538-9012-57992898281e",
   "metadata": {
    "papermill": {},
    "tags": []
   },
   "source": [
    "# Advertools - Analyze website content using XML sitemap"
   ]
  },
  {
   "cell_type": "markdown",
   "id": "76b0bd6e-4a5c-472f-a473-a315e3738936",
   "metadata": {
    "papermill": {},
    "tags": []
   },
   "source": [
    "**Tags:** #advertools #xml #sitemap #website #analyze #seo"
   ]
  },
  {
   "cell_type": "markdown",
   "id": "1089c7e4-b7a9-48ab-8320-e17847ad3b30",
   "metadata": {
    "papermill": {},
    "tags": []
   },
   "source": [
    "**Author:** [Elias Dabbas](https://www.linkedin.com/in/eliasdabbas/)"
   ]
  },
  {
   "cell_type": "markdown",
   "id": "d93cd7a5-1d4f-4bc6-94a2-b74461c7f538",
   "metadata": {
    "papermill": {},
    "tags": []
   },
   "source": [
    "**Description:** This notebook helps you get an overview of a website's content by analyzing and visualizing its XML sitemap. It's also an important SEO audit process that can uncover some potential issues that might affect the website."
   ]
  },
  {
   "cell_type": "markdown",
   "id": "5d84a0cf-6ba8-456a-8b42-1bf63e3a17f2",
   "metadata": {
    "papermill": {},
    "tags": []
   },
   "source": [
    "**References:**\n",
    "- [advertools Sitemaps](https://advertools.readthedocs.io/en/master/advertools.sitemaps.html)\n",
    "- [XML Sitemap](https://en.wikipedia.org/wiki/Sitemaps)\n",
    "- [Sitemaps Protocol](https://www.sitemaps.org/)"
   ]
  },
  {
   "cell_type": "markdown",
   "id": "a75ef3a2-b261-45a8-bd64-52cb78b5f502",
   "metadata": {
    "papermill": {},
    "tags": []
   },
   "source": [
    "## Input"
   ]
  },
  {
   "cell_type": "markdown",
   "id": "f530c66d-1a5b-47d1-8d80-01f21a83ac3e",
   "metadata": {
    "papermill": {},
    "tags": []
   },
   "source": [
    "### Import libraries"
   ]
  },
  {
   "cell_type": "code",
   "execution_count": 1,
   "id": "1e8d108a-44de-44b4-941f-f12795838c5c",
   "metadata": {
    "execution": {
     "iopub.execute_input": "2023-05-17T08:16:03.174965Z",
     "iopub.status.busy": "2023-05-17T08:16:03.172768Z",
     "iopub.status.idle": "2023-05-17T08:16:07.397139Z",
     "shell.execute_reply": "2023-05-17T08:16:07.396535Z",
     "shell.execute_reply.started": "2023-05-17T08:16:03.174889Z"
    },
    "papermill": {},
    "tags": []
   },
   "outputs": [],
   "source": [
    "try:\n",
    "    import advertools as adv\n",
    "except:\n",
    "    !pip install advertools --user\n",
    "    import advertools as adv\n",
    "try:\n",
    "    import adviz\n",
    "except:\n",
    "    !pip install adviz --user\n",
    "    import adviz\n",
    "from urllib.parse import urlsplit"
   ]
  },
  {
   "cell_type": "markdown",
   "id": "d35a9e6f-71c4-4cb2-b9bc-32c23b18c4ba",
   "metadata": {
    "papermill": {},
    "tags": []
   },
   "source": [
    "### Setup Variables\n",
    "- `sitemap_url`: URL of the sitemap to analyze, which can be\n",
    "    * The URL of an XML sitemap\n",
    "    * The URL of an XML sitemapindex\n",
    "    * The URL of a robots.txt file\n",
    "    * Normal and zipped formats are supported\n",
    "- `recursive`: If this is a sitemapindex, should all the sub-sitemaps also be  downloaded, parsed and combined into one DataFrame?\n",
    "- `max_workers`: Number of concurrent workers to fetch the sitemaps."
   ]
  },
  {
   "cell_type": "code",
   "execution_count": 2,
   "id": "cebcf1a5-23ce-49ca-aee9-aac7ff28a2e4",
   "metadata": {
    "execution": {
     "iopub.execute_input": "2023-05-17T08:16:07.398358Z",
     "iopub.status.busy": "2023-05-17T08:16:07.398119Z",
     "iopub.status.idle": "2023-05-17T08:16:07.402969Z",
     "shell.execute_reply": "2023-05-17T08:16:07.402469Z",
     "shell.execute_reply.started": "2023-05-17T08:16:07.398328Z"
    },
    "papermill": {},
    "tags": []
   },
   "outputs": [],
   "source": [
    "sitemap_url = \"https://www.xml-sitemaps.com/download/www.naas.ai-a2e8849ba/sitemap.xml?view=1\"\n",
    "recursive = True\n",
    "max_workers = 8"
   ]
  },
  {
   "cell_type": "markdown",
   "id": "1ad6e918-ae61-4a78-9b71-a6ad5f530f53",
   "metadata": {
    "papermill": {},
    "tags": []
   },
   "source": [
    "## Model"
   ]
  },
  {
   "cell_type": "markdown",
   "id": "dafe9992-9fcb-4849-a69e-ced13c995aff",
   "metadata": {
    "papermill": {},
    "tags": []
   },
   "source": [
    "### Analyze website content using XML sitemap\n",
    "Getting the sitemap(s)"
   ]
  },
  {
   "cell_type": "code",
   "execution_count": 3,
   "id": "4949b9c4-f852-47f5-9889-3ccce1a0100a",
   "metadata": {
    "execution": {
     "iopub.execute_input": "2023-05-17T08:16:07.404136Z",
     "iopub.status.busy": "2023-05-17T08:16:07.403877Z",
     "iopub.status.idle": "2023-05-17T08:16:07.629541Z",
     "shell.execute_reply": "2023-05-17T08:16:07.628871Z",
     "shell.execute_reply.started": "2023-05-17T08:16:07.404107Z"
    },
    "papermill": {},
    "tags": []
   },
   "outputs": [
    {
     "name": "stderr",
     "output_type": "stream",
     "text": [
      "2023-05-17 10:16:07,607 | INFO | sitemaps.py:536 | sitemap_to_df | Getting https://www.xml-sitemaps.com/download/www.naas.ai-a2e8849ba/sitemap.xml?view=1\n"
     ]
    },
    {
     "data": {
      "text/html": [
       "<div>\n",
       "<style scoped>\n",
       "    .dataframe tbody tr th:only-of-type {\n",
       "        vertical-align: middle;\n",
       "    }\n",
       "\n",
       "    .dataframe tbody tr th {\n",
       "        vertical-align: top;\n",
       "    }\n",
       "\n",
       "    .dataframe thead th {\n",
       "        text-align: right;\n",
       "    }\n",
       "</style>\n",
       "<table border=\"1\" class=\"dataframe\">\n",
       "  <thead>\n",
       "    <tr style=\"text-align: right;\">\n",
       "      <th></th>\n",
       "      <th>loc</th>\n",
       "      <th>lastmod</th>\n",
       "      <th>priority</th>\n",
       "      <th>sitemap</th>\n",
       "      <th>sitemap_size_mb</th>\n",
       "      <th>download_date</th>\n",
       "    </tr>\n",
       "  </thead>\n",
       "  <tbody>\n",
       "    <tr>\n",
       "      <th>0</th>\n",
       "      <td>https://www.naas.ai/</td>\n",
       "      <td>2023-05-16 06:16:57+00:00</td>\n",
       "      <td>1.0</td>\n",
       "      <td>https://www.xml-sitemaps.com/download/www.naas.ai-a2e8849ba/sitemap.xml?view=1</td>\n",
       "      <td>0.000995</td>\n",
       "      <td>2023-05-17 08:16:07.611404+00:00</td>\n",
       "    </tr>\n",
       "    <tr>\n",
       "      <th>1</th>\n",
       "      <td>https://www.naas.ai/free-forever</td>\n",
       "      <td>2023-05-16 06:16:57+00:00</td>\n",
       "      <td>0.8</td>\n",
       "      <td>https://www.xml-sitemaps.com/download/www.naas.ai-a2e8849ba/sitemap.xml?view=1</td>\n",
       "      <td>0.000995</td>\n",
       "      <td>2023-05-17 08:16:07.611404+00:00</td>\n",
       "    </tr>\n",
       "    <tr>\n",
       "      <th>2</th>\n",
       "      <td>https://www.naas.ai/pricing</td>\n",
       "      <td>2023-05-16 06:16:57+00:00</td>\n",
       "      <td>0.8</td>\n",
       "      <td>https://www.xml-sitemaps.com/download/www.naas.ai-a2e8849ba/sitemap.xml?view=1</td>\n",
       "      <td>0.000995</td>\n",
       "      <td>2023-05-17 08:16:07.611404+00:00</td>\n",
       "    </tr>\n",
       "    <tr>\n",
       "      <th>3</th>\n",
       "      <td>https://www.naas.ai/company</td>\n",
       "      <td>2023-05-16 06:16:57+00:00</td>\n",
       "      <td>0.8</td>\n",
       "      <td>https://www.xml-sitemaps.com/download/www.naas.ai-a2e8849ba/sitemap.xml?view=1</td>\n",
       "      <td>0.000995</td>\n",
       "      <td>2023-05-17 08:16:07.611404+00:00</td>\n",
       "    </tr>\n",
       "    <tr>\n",
       "      <th>4</th>\n",
       "      <td>https://www.naas.ai/terms</td>\n",
       "      <td>2023-05-16 06:16:57+00:00</td>\n",
       "      <td>0.8</td>\n",
       "      <td>https://www.xml-sitemaps.com/download/www.naas.ai-a2e8849ba/sitemap.xml?view=1</td>\n",
       "      <td>0.000995</td>\n",
       "      <td>2023-05-17 08:16:07.611404+00:00</td>\n",
       "    </tr>\n",
       "  </tbody>\n",
       "</table>\n",
       "</div>"
      ],
      "text/plain": [
       "                                loc                   lastmod  priority  \\\n",
       "0              https://www.naas.ai/ 2023-05-16 06:16:57+00:00       1.0   \n",
       "1  https://www.naas.ai/free-forever 2023-05-16 06:16:57+00:00       0.8   \n",
       "2       https://www.naas.ai/pricing 2023-05-16 06:16:57+00:00       0.8   \n",
       "3       https://www.naas.ai/company 2023-05-16 06:16:57+00:00       0.8   \n",
       "4         https://www.naas.ai/terms 2023-05-16 06:16:57+00:00       0.8   \n",
       "\n",
       "                                                                          sitemap  \\\n",
       "0  https://www.xml-sitemaps.com/download/www.naas.ai-a2e8849ba/sitemap.xml?view=1   \n",
       "1  https://www.xml-sitemaps.com/download/www.naas.ai-a2e8849ba/sitemap.xml?view=1   \n",
       "2  https://www.xml-sitemaps.com/download/www.naas.ai-a2e8849ba/sitemap.xml?view=1   \n",
       "3  https://www.xml-sitemaps.com/download/www.naas.ai-a2e8849ba/sitemap.xml?view=1   \n",
       "4  https://www.xml-sitemaps.com/download/www.naas.ai-a2e8849ba/sitemap.xml?view=1   \n",
       "\n",
       "   sitemap_size_mb                    download_date  \n",
       "0         0.000995 2023-05-17 08:16:07.611404+00:00  \n",
       "1         0.000995 2023-05-17 08:16:07.611404+00:00  \n",
       "2         0.000995 2023-05-17 08:16:07.611404+00:00  \n",
       "3         0.000995 2023-05-17 08:16:07.611404+00:00  \n",
       "4         0.000995 2023-05-17 08:16:07.611404+00:00  "
      ]
     },
     "execution_count": 3,
     "metadata": {},
     "output_type": "execute_result"
    }
   ],
   "source": [
    "sitemap = adv.sitemap_to_df(\n",
    "    sitemap_url=sitemap_url,\n",
    "    max_workers=max_workers,\n",
    "    recursive=recursive\n",
    ")\n",
    "sitemap"
   ]
  },
  {
   "cell_type": "markdown",
   "id": "b907e816",
   "metadata": {},
   "source": [
    "Split URLs into their components for further analysis/understanding"
   ]
  },
  {
   "cell_type": "code",
   "execution_count": 4,
   "id": "e43820cb",
   "metadata": {
    "execution": {
     "iopub.execute_input": "2023-05-17T08:16:07.631866Z",
     "iopub.status.busy": "2023-05-17T08:16:07.631621Z",
     "iopub.status.idle": "2023-05-17T08:16:07.645491Z",
     "shell.execute_reply": "2023-05-17T08:16:07.644788Z",
     "shell.execute_reply.started": "2023-05-17T08:16:07.631831Z"
    }
   },
   "outputs": [
    {
     "data": {
      "text/html": [
       "<div>\n",
       "<style scoped>\n",
       "    .dataframe tbody tr th:only-of-type {\n",
       "        vertical-align: middle;\n",
       "    }\n",
       "\n",
       "    .dataframe tbody tr th {\n",
       "        vertical-align: top;\n",
       "    }\n",
       "\n",
       "    .dataframe thead th {\n",
       "        text-align: right;\n",
       "    }\n",
       "</style>\n",
       "<table border=\"1\" class=\"dataframe\">\n",
       "  <thead>\n",
       "    <tr style=\"text-align: right;\">\n",
       "      <th></th>\n",
       "      <th>url</th>\n",
       "      <th>scheme</th>\n",
       "      <th>netloc</th>\n",
       "      <th>path</th>\n",
       "      <th>query</th>\n",
       "      <th>fragment</th>\n",
       "      <th>dir_1</th>\n",
       "      <th>last_dir</th>\n",
       "    </tr>\n",
       "  </thead>\n",
       "  <tbody>\n",
       "    <tr>\n",
       "      <th>0</th>\n",
       "      <td>https://www.naas.ai/</td>\n",
       "      <td>https</td>\n",
       "      <td>www.naas.ai</td>\n",
       "      <td>/</td>\n",
       "      <td>NaN</td>\n",
       "      <td>NaN</td>\n",
       "      <td>NaN</td>\n",
       "      <td>NaN</td>\n",
       "    </tr>\n",
       "    <tr>\n",
       "      <th>1</th>\n",
       "      <td>https://www.naas.ai/free-forever</td>\n",
       "      <td>https</td>\n",
       "      <td>www.naas.ai</td>\n",
       "      <td>/free-forever</td>\n",
       "      <td>NaN</td>\n",
       "      <td>NaN</td>\n",
       "      <td>free-forever</td>\n",
       "      <td>free-forever</td>\n",
       "    </tr>\n",
       "    <tr>\n",
       "      <th>2</th>\n",
       "      <td>https://www.naas.ai/pricing</td>\n",
       "      <td>https</td>\n",
       "      <td>www.naas.ai</td>\n",
       "      <td>/pricing</td>\n",
       "      <td>NaN</td>\n",
       "      <td>NaN</td>\n",
       "      <td>pricing</td>\n",
       "      <td>pricing</td>\n",
       "    </tr>\n",
       "    <tr>\n",
       "      <th>3</th>\n",
       "      <td>https://www.naas.ai/company</td>\n",
       "      <td>https</td>\n",
       "      <td>www.naas.ai</td>\n",
       "      <td>/company</td>\n",
       "      <td>NaN</td>\n",
       "      <td>NaN</td>\n",
       "      <td>company</td>\n",
       "      <td>company</td>\n",
       "    </tr>\n",
       "    <tr>\n",
       "      <th>4</th>\n",
       "      <td>https://www.naas.ai/terms</td>\n",
       "      <td>https</td>\n",
       "      <td>www.naas.ai</td>\n",
       "      <td>/terms</td>\n",
       "      <td>NaN</td>\n",
       "      <td>NaN</td>\n",
       "      <td>terms</td>\n",
       "      <td>terms</td>\n",
       "    </tr>\n",
       "  </tbody>\n",
       "</table>\n",
       "</div>"
      ],
      "text/plain": [
       "                                url scheme       netloc           path  query  \\\n",
       "0              https://www.naas.ai/  https  www.naas.ai              /    NaN   \n",
       "1  https://www.naas.ai/free-forever  https  www.naas.ai  /free-forever    NaN   \n",
       "2       https://www.naas.ai/pricing  https  www.naas.ai       /pricing    NaN   \n",
       "3       https://www.naas.ai/company  https  www.naas.ai       /company    NaN   \n",
       "4         https://www.naas.ai/terms  https  www.naas.ai         /terms    NaN   \n",
       "\n",
       "   fragment         dir_1      last_dir  \n",
       "0       NaN           NaN           NaN  \n",
       "1       NaN  free-forever  free-forever  \n",
       "2       NaN       pricing       pricing  \n",
       "3       NaN       company       company  \n",
       "4       NaN         terms         terms  "
      ]
     },
     "execution_count": 4,
     "metadata": {},
     "output_type": "execute_result"
    }
   ],
   "source": [
    "urldf = adv.url_to_df(sitemap['loc'])\n",
    "urldf"
   ]
  },
  {
   "cell_type": "markdown",
   "id": "ec5491f8-3773-40e3-9e71-3058d4b7b870",
   "metadata": {
    "papermill": {},
    "tags": []
   },
   "source": [
    "## Output"
   ]
  },
  {
   "cell_type": "markdown",
   "id": "cd817594-1b7f-4d02-a245-9e1dcd6ad2b6",
   "metadata": {
    "papermill": {},
    "tags": []
   },
   "source": [
    "### Display results\n",
    "\n",
    "#### Errors"
   ]
  },
  {
   "cell_type": "code",
   "execution_count": 5,
   "id": "cc89d554-375c-4a10-a028-371d5b30781b",
   "metadata": {
    "execution": {
     "iopub.execute_input": "2023-05-17T08:16:07.646855Z",
     "iopub.status.busy": "2023-05-17T08:16:07.646595Z",
     "iopub.status.idle": "2023-05-17T08:16:07.728428Z",
     "shell.execute_reply": "2023-05-17T08:16:07.727728Z",
     "shell.execute_reply.started": "2023-05-17T08:16:07.646816Z"
    },
    "papermill": {},
    "tags": []
   },
   "outputs": [
    {
     "name": "stdout",
     "output_type": "stream",
     "text": [
      "No errors found\n"
     ]
    }
   ],
   "source": [
    "if 'errors' in sitemap:\n",
    "    from IPython.display import display\n",
    "    display(sitemap[sitemap['errors'].notnull()])\n",
    "else:\n",
    "    print('No errors found')"
   ]
  },
  {
   "cell_type": "markdown",
   "id": "0b34af8e",
   "metadata": {},
   "source": [
    "#### Duplicated URLs"
   ]
  },
  {
   "cell_type": "code",
   "execution_count": 6,
   "id": "4ecab9fe-071a-47d8-a172-ae20ad3f4224",
   "metadata": {
    "execution": {
     "iopub.execute_input": "2023-05-17T08:16:07.729746Z",
     "iopub.status.busy": "2023-05-17T08:16:07.729505Z",
     "iopub.status.idle": "2023-05-17T08:16:07.812690Z",
     "shell.execute_reply": "2023-05-17T08:16:07.812054Z",
     "shell.execute_reply.started": "2023-05-17T08:16:07.729714Z"
    },
    "papermill": {},
    "tags": []
   },
   "outputs": [
    {
     "name": "stdout",
     "output_type": "stream",
     "text": [
      "No duplicated URLs found\n"
     ]
    }
   ],
   "source": [
    "duplicated = sitemap[sitemap['loc'].duplicated()]\n",
    "if not duplicated.empty:\n",
    "    display(duplicated)\n",
    "else:\n",
    "    print('No duplicated URLs found')"
   ]
  },
  {
   "cell_type": "markdown",
   "id": "26ec0200",
   "metadata": {},
   "source": [
    "#### URL counts per sitemap and sitemap sizes\n",
    "\n",
    "Each sitemap should have a maximumof 50,000 URLs, and its size should not exceek 50MB\n",
    "\n",
    "URL counts:"
   ]
  },
  {
   "cell_type": "code",
   "execution_count": 7,
   "id": "ff6e436c",
   "metadata": {
    "execution": {
     "iopub.execute_input": "2023-05-17T08:16:07.813869Z",
     "iopub.status.busy": "2023-05-17T08:16:07.813626Z",
     "iopub.status.idle": "2023-05-17T08:16:08.435656Z",
     "shell.execute_reply": "2023-05-17T08:16:08.435066Z",
     "shell.execute_reply.started": "2023-05-17T08:16:07.813837Z"
    }
   },
   "outputs": [
    {
     "data": {
      "text/html": [
       "<style type=\"text/css\">\n",
       "#T_602f2_row0_col1, #T_602f2_row0_col2, #T_602f2_row0_col3, #T_602f2_row0_col4 {\n",
       "  background-color: #00224e;\n",
       "  color: #f1f1f1;\n",
       "}\n",
       "</style>\n",
       "<table id=\"T_602f2\" style=font-size:10pt;>\n",
       "  <caption><h2>Counts of <b>Sitemap URLs</b></h2></caption>\n",
       "  <thead>\n",
       "    <tr>\n",
       "      <th class=\"blank level0\" >&nbsp;</th>\n",
       "      <th id=\"T_602f2_level0_col0\" class=\"col_heading level0 col0\" >Sitemap URLs</th>\n",
       "      <th id=\"T_602f2_level0_col1\" class=\"col_heading level0 col1\" >count</th>\n",
       "      <th id=\"T_602f2_level0_col2\" class=\"col_heading level0 col2\" >cum. count</th>\n",
       "      <th id=\"T_602f2_level0_col3\" class=\"col_heading level0 col3\" >%</th>\n",
       "      <th id=\"T_602f2_level0_col4\" class=\"col_heading level0 col4\" >cum. %</th>\n",
       "    </tr>\n",
       "  </thead>\n",
       "  <tbody>\n",
       "    <tr>\n",
       "      <th id=\"T_602f2_level0_row0\" class=\"row_heading level0 row0\" >1</th>\n",
       "      <td id=\"T_602f2_row0_col0\" class=\"data row0 col0\" >https://www.xml-sitemaps.com/download/www.naas.ai-a2e8849ba/sitemap.xml?view=1</td>\n",
       "      <td id=\"T_602f2_row0_col1\" class=\"data row0 col1\" >5</td>\n",
       "      <td id=\"T_602f2_row0_col2\" class=\"data row0 col2\" >5</td>\n",
       "      <td id=\"T_602f2_row0_col3\" class=\"data row0 col3\" >100.0%</td>\n",
       "      <td id=\"T_602f2_row0_col4\" class=\"data row0 col4\" >100.0%</td>\n",
       "    </tr>\n",
       "  </tbody>\n",
       "</table>\n"
      ],
      "text/plain": [
       "<pandas.io.formats.style.Styler at 0x7f06805e7f70>"
      ]
     },
     "execution_count": 7,
     "metadata": {},
     "output_type": "execute_result"
    }
   ],
   "source": [
    "adviz.value_counts_plus(sitemap['sitemap'], name='Sitemap URLs')"
   ]
  },
  {
   "cell_type": "markdown",
   "id": "1f80fbcc",
   "metadata": {},
   "source": [
    "URL Sizes:"
   ]
  },
  {
   "cell_type": "code",
   "execution_count": 8,
   "id": "0716b1c8",
   "metadata": {
    "execution": {
     "iopub.execute_input": "2023-05-17T08:16:08.436878Z",
     "iopub.status.busy": "2023-05-17T08:16:08.436637Z",
     "iopub.status.idle": "2023-05-17T08:16:08.447097Z",
     "shell.execute_reply": "2023-05-17T08:16:08.446483Z",
     "shell.execute_reply.started": "2023-05-17T08:16:08.436846Z"
    }
   },
   "outputs": [
    {
     "data": {
      "text/html": [
       "<style type=\"text/css\">\n",
       "</style>\n",
       "<table id=\"T_13024\">\n",
       "  <thead>\n",
       "    <tr>\n",
       "      <th class=\"blank level0\" >&nbsp;</th>\n",
       "      <th id=\"T_13024_level0_col0\" class=\"col_heading level0 col0\" >count</th>\n",
       "      <th id=\"T_13024_level0_col1\" class=\"col_heading level0 col1\" >mean</th>\n",
       "      <th id=\"T_13024_level0_col2\" class=\"col_heading level0 col2\" >std</th>\n",
       "      <th id=\"T_13024_level0_col3\" class=\"col_heading level0 col3\" >min</th>\n",
       "      <th id=\"T_13024_level0_col4\" class=\"col_heading level0 col4\" >25%</th>\n",
       "      <th id=\"T_13024_level0_col5\" class=\"col_heading level0 col5\" >50%</th>\n",
       "      <th id=\"T_13024_level0_col6\" class=\"col_heading level0 col6\" >75%</th>\n",
       "      <th id=\"T_13024_level0_col7\" class=\"col_heading level0 col7\" >max</th>\n",
       "    </tr>\n",
       "  </thead>\n",
       "  <tbody>\n",
       "    <tr>\n",
       "      <th id=\"T_13024_level0_row0\" class=\"row_heading level0 row0\" >sitemap_size_mb</th>\n",
       "      <td id=\"T_13024_row0_col0\" class=\"data row0 col0\" >5.00</td>\n",
       "      <td id=\"T_13024_row0_col1\" class=\"data row0 col1\" >0.00</td>\n",
       "      <td id=\"T_13024_row0_col2\" class=\"data row0 col2\" >0.00</td>\n",
       "      <td id=\"T_13024_row0_col3\" class=\"data row0 col3\" >0.00</td>\n",
       "      <td id=\"T_13024_row0_col4\" class=\"data row0 col4\" >0.00</td>\n",
       "      <td id=\"T_13024_row0_col5\" class=\"data row0 col5\" >0.00</td>\n",
       "      <td id=\"T_13024_row0_col6\" class=\"data row0 col6\" >0.00</td>\n",
       "      <td id=\"T_13024_row0_col7\" class=\"data row0 col7\" >0.00</td>\n",
       "    </tr>\n",
       "  </tbody>\n",
       "</table>\n"
      ],
      "text/plain": [
       "<pandas.io.formats.style.Styler at 0x7f065564e280>"
      ]
     },
     "execution_count": 8,
     "metadata": {},
     "output_type": "execute_result"
    }
   ],
   "source": [
    "sitemap['sitemap_size_mb'].describe().to_frame().T.style.format('{:,.2f}')"
   ]
  },
  {
   "cell_type": "markdown",
   "id": "c0b356e7",
   "metadata": {},
   "source": [
    "#### Count unique values of URL components"
   ]
  },
  {
   "cell_type": "code",
   "execution_count": 9,
   "id": "469a91d7",
   "metadata": {
    "execution": {
     "iopub.execute_input": "2023-05-17T08:16:08.448393Z",
     "iopub.status.busy": "2023-05-17T08:16:08.448154Z",
     "iopub.status.idle": "2023-05-17T08:16:08.559166Z",
     "shell.execute_reply": "2023-05-17T08:16:08.558423Z",
     "shell.execute_reply.started": "2023-05-17T08:16:08.448364Z"
    }
   },
   "outputs": [
    {
     "data": {
      "text/html": [
       "<style type=\"text/css\">\n",
       "#T_4d148_row0_col1, #T_4d148_row0_col2, #T_4d148_row0_col3, #T_4d148_row0_col4 {\n",
       "  background-color: #00224e;\n",
       "  color: #f1f1f1;\n",
       "}\n",
       "</style>\n",
       "<table id=\"T_4d148\" style=font-size:10pt;>\n",
       "  <caption><h2>Counts of <b>scheme</b></h2></caption>\n",
       "  <thead>\n",
       "    <tr>\n",
       "      <th class=\"blank level0\" >&nbsp;</th>\n",
       "      <th id=\"T_4d148_level0_col0\" class=\"col_heading level0 col0\" >scheme</th>\n",
       "      <th id=\"T_4d148_level0_col1\" class=\"col_heading level0 col1\" >count</th>\n",
       "      <th id=\"T_4d148_level0_col2\" class=\"col_heading level0 col2\" >cum. count</th>\n",
       "      <th id=\"T_4d148_level0_col3\" class=\"col_heading level0 col3\" >%</th>\n",
       "      <th id=\"T_4d148_level0_col4\" class=\"col_heading level0 col4\" >cum. %</th>\n",
       "    </tr>\n",
       "  </thead>\n",
       "  <tbody>\n",
       "    <tr>\n",
       "      <th id=\"T_4d148_level0_row0\" class=\"row_heading level0 row0\" >1</th>\n",
       "      <td id=\"T_4d148_row0_col0\" class=\"data row0 col0\" >https</td>\n",
       "      <td id=\"T_4d148_row0_col1\" class=\"data row0 col1\" >5</td>\n",
       "      <td id=\"T_4d148_row0_col2\" class=\"data row0 col2\" >5</td>\n",
       "      <td id=\"T_4d148_row0_col3\" class=\"data row0 col3\" >100.0%</td>\n",
       "      <td id=\"T_4d148_row0_col4\" class=\"data row0 col4\" >100.0%</td>\n",
       "    </tr>\n",
       "  </tbody>\n",
       "</table>\n"
      ],
      "text/plain": [
       "<pandas.io.formats.style.Styler at 0x7f0653ba5e50>"
      ]
     },
     "metadata": {},
     "output_type": "display_data"
    },
    {
     "data": {
      "text/html": [
       "<style type=\"text/css\">\n",
       "#T_dfd91_row0_col1, #T_dfd91_row0_col2, #T_dfd91_row0_col3, #T_dfd91_row0_col4 {\n",
       "  background-color: #00224e;\n",
       "  color: #f1f1f1;\n",
       "}\n",
       "</style>\n",
       "<table id=\"T_dfd91\" style=font-size:10pt;>\n",
       "  <caption><h2>Counts of <b>netloc</b></h2></caption>\n",
       "  <thead>\n",
       "    <tr>\n",
       "      <th class=\"blank level0\" >&nbsp;</th>\n",
       "      <th id=\"T_dfd91_level0_col0\" class=\"col_heading level0 col0\" >netloc</th>\n",
       "      <th id=\"T_dfd91_level0_col1\" class=\"col_heading level0 col1\" >count</th>\n",
       "      <th id=\"T_dfd91_level0_col2\" class=\"col_heading level0 col2\" >cum. count</th>\n",
       "      <th id=\"T_dfd91_level0_col3\" class=\"col_heading level0 col3\" >%</th>\n",
       "      <th id=\"T_dfd91_level0_col4\" class=\"col_heading level0 col4\" >cum. %</th>\n",
       "    </tr>\n",
       "  </thead>\n",
       "  <tbody>\n",
       "    <tr>\n",
       "      <th id=\"T_dfd91_level0_row0\" class=\"row_heading level0 row0\" >1</th>\n",
       "      <td id=\"T_dfd91_row0_col0\" class=\"data row0 col0\" >www.naas.ai</td>\n",
       "      <td id=\"T_dfd91_row0_col1\" class=\"data row0 col1\" >5</td>\n",
       "      <td id=\"T_dfd91_row0_col2\" class=\"data row0 col2\" >5</td>\n",
       "      <td id=\"T_dfd91_row0_col3\" class=\"data row0 col3\" >100.0%</td>\n",
       "      <td id=\"T_dfd91_row0_col4\" class=\"data row0 col4\" >100.0%</td>\n",
       "    </tr>\n",
       "  </tbody>\n",
       "</table>\n"
      ],
      "text/plain": [
       "<pandas.io.formats.style.Styler at 0x7f0653ba54c0>"
      ]
     },
     "metadata": {},
     "output_type": "display_data"
    },
    {
     "data": {
      "text/html": [
       "<style type=\"text/css\">\n",
       "#T_fb298_row0_col0 {\n",
       "  background-color: red;\n",
       "}\n",
       "#T_fb298_row0_col1, #T_fb298_row0_col2, #T_fb298_row0_col3, #T_fb298_row0_col4, #T_fb298_row1_col1, #T_fb298_row1_col3, #T_fb298_row2_col1, #T_fb298_row2_col3, #T_fb298_row3_col1, #T_fb298_row3_col3, #T_fb298_row4_col1, #T_fb298_row4_col3 {\n",
       "  background-color: #00224e;\n",
       "  color: #f1f1f1;\n",
       "}\n",
       "#T_fb298_row1_col2, #T_fb298_row1_col4 {\n",
       "  background-color: #434e6c;\n",
       "  color: #f1f1f1;\n",
       "}\n",
       "#T_fb298_row2_col2, #T_fb298_row2_col4 {\n",
       "  background-color: #7d7c78;\n",
       "  color: #f1f1f1;\n",
       "}\n",
       "#T_fb298_row3_col2, #T_fb298_row3_col4 {\n",
       "  background-color: #bcae6c;\n",
       "  color: #000000;\n",
       "}\n",
       "#T_fb298_row4_col2, #T_fb298_row4_col4 {\n",
       "  background-color: #fee838;\n",
       "  color: #000000;\n",
       "}\n",
       "</style>\n",
       "<table id=\"T_fb298\" style=font-size:10pt;>\n",
       "  <caption><h2>Counts of <b>dir_1</b></h2></caption>\n",
       "  <thead>\n",
       "    <tr>\n",
       "      <th class=\"blank level0\" >&nbsp;</th>\n",
       "      <th id=\"T_fb298_level0_col0\" class=\"col_heading level0 col0\" >dir_1</th>\n",
       "      <th id=\"T_fb298_level0_col1\" class=\"col_heading level0 col1\" >count</th>\n",
       "      <th id=\"T_fb298_level0_col2\" class=\"col_heading level0 col2\" >cum. count</th>\n",
       "      <th id=\"T_fb298_level0_col3\" class=\"col_heading level0 col3\" >%</th>\n",
       "      <th id=\"T_fb298_level0_col4\" class=\"col_heading level0 col4\" >cum. %</th>\n",
       "    </tr>\n",
       "  </thead>\n",
       "  <tbody>\n",
       "    <tr>\n",
       "      <th id=\"T_fb298_level0_row0\" class=\"row_heading level0 row0\" >1</th>\n",
       "      <td id=\"T_fb298_row0_col0\" class=\"data row0 col0\" >nan</td>\n",
       "      <td id=\"T_fb298_row0_col1\" class=\"data row0 col1\" >1</td>\n",
       "      <td id=\"T_fb298_row0_col2\" class=\"data row0 col2\" >1</td>\n",
       "      <td id=\"T_fb298_row0_col3\" class=\"data row0 col3\" >20.0%</td>\n",
       "      <td id=\"T_fb298_row0_col4\" class=\"data row0 col4\" >20.0%</td>\n",
       "    </tr>\n",
       "    <tr>\n",
       "      <th id=\"T_fb298_level0_row1\" class=\"row_heading level0 row1\" >2</th>\n",
       "      <td id=\"T_fb298_row1_col0\" class=\"data row1 col0\" >free-forever</td>\n",
       "      <td id=\"T_fb298_row1_col1\" class=\"data row1 col1\" >1</td>\n",
       "      <td id=\"T_fb298_row1_col2\" class=\"data row1 col2\" >2</td>\n",
       "      <td id=\"T_fb298_row1_col3\" class=\"data row1 col3\" >20.0%</td>\n",
       "      <td id=\"T_fb298_row1_col4\" class=\"data row1 col4\" >40.0%</td>\n",
       "    </tr>\n",
       "    <tr>\n",
       "      <th id=\"T_fb298_level0_row2\" class=\"row_heading level0 row2\" >3</th>\n",
       "      <td id=\"T_fb298_row2_col0\" class=\"data row2 col0\" >pricing</td>\n",
       "      <td id=\"T_fb298_row2_col1\" class=\"data row2 col1\" >1</td>\n",
       "      <td id=\"T_fb298_row2_col2\" class=\"data row2 col2\" >3</td>\n",
       "      <td id=\"T_fb298_row2_col3\" class=\"data row2 col3\" >20.0%</td>\n",
       "      <td id=\"T_fb298_row2_col4\" class=\"data row2 col4\" >60.0%</td>\n",
       "    </tr>\n",
       "    <tr>\n",
       "      <th id=\"T_fb298_level0_row3\" class=\"row_heading level0 row3\" >4</th>\n",
       "      <td id=\"T_fb298_row3_col0\" class=\"data row3 col0\" >company</td>\n",
       "      <td id=\"T_fb298_row3_col1\" class=\"data row3 col1\" >1</td>\n",
       "      <td id=\"T_fb298_row3_col2\" class=\"data row3 col2\" >4</td>\n",
       "      <td id=\"T_fb298_row3_col3\" class=\"data row3 col3\" >20.0%</td>\n",
       "      <td id=\"T_fb298_row3_col4\" class=\"data row3 col4\" >80.0%</td>\n",
       "    </tr>\n",
       "    <tr>\n",
       "      <th id=\"T_fb298_level0_row4\" class=\"row_heading level0 row4\" >5</th>\n",
       "      <td id=\"T_fb298_row4_col0\" class=\"data row4 col0\" >terms</td>\n",
       "      <td id=\"T_fb298_row4_col1\" class=\"data row4 col1\" >1</td>\n",
       "      <td id=\"T_fb298_row4_col2\" class=\"data row4 col2\" >5</td>\n",
       "      <td id=\"T_fb298_row4_col3\" class=\"data row4 col3\" >20.0%</td>\n",
       "      <td id=\"T_fb298_row4_col4\" class=\"data row4 col4\" >100.0%</td>\n",
       "    </tr>\n",
       "  </tbody>\n",
       "</table>\n"
      ],
      "text/plain": [
       "<pandas.io.formats.style.Styler at 0x7f0653ba5910>"
      ]
     },
     "metadata": {},
     "output_type": "display_data"
    }
   ],
   "source": [
    "for col in ['scheme', 'netloc', 'dir_1', 'dir_2', 'dir_3']:\n",
    "    try:\n",
    "        display(adviz.value_counts_plus(urldf[col], name=col))\n",
    "    except Exception as e:\n",
    "        continue"
   ]
  },
  {
   "cell_type": "markdown",
   "id": "07a1255a",
   "metadata": {},
   "source": [
    "#### Visualize the structure of the URLs"
   ]
  },
  {
   "cell_type": "code",
   "execution_count": 10,
   "id": "2c44e36e",
   "metadata": {
    "execution": {
     "iopub.execute_input": "2023-05-17T08:16:08.560489Z",
     "iopub.status.busy": "2023-05-17T08:16:08.560254Z",
     "iopub.status.idle": "2023-05-17T08:16:08.747300Z",
     "shell.execute_reply": "2023-05-17T08:16:08.745201Z",
     "shell.execute_reply.started": "2023-05-17T08:16:08.560457Z"
    },
    "tags": []
   },
   "outputs": [
    {
     "ename": "KeyError",
     "evalue": "'dir_2'",
     "output_type": "error",
     "traceback": [
      "\u001b[0;31m---------------------------------------------------------------------------\u001b[0m",
      "\u001b[0;31mKeyError\u001b[0m                                  Traceback (most recent call last)",
      "\u001b[0;32m~/.local/lib/python3.9/site-packages/pandas/core/indexes/base.py\u001b[0m in \u001b[0;36mget_loc\u001b[0;34m(self, key, method, tolerance)\u001b[0m\n\u001b[1;32m   3801\u001b[0m             \u001b[0;32mtry\u001b[0m\u001b[0;34m:\u001b[0m\u001b[0;34m\u001b[0m\u001b[0;34m\u001b[0m\u001b[0m\n\u001b[0;32m-> 3802\u001b[0;31m                 \u001b[0;32mreturn\u001b[0m \u001b[0mself\u001b[0m\u001b[0;34m.\u001b[0m\u001b[0m_engine\u001b[0m\u001b[0;34m.\u001b[0m\u001b[0mget_loc\u001b[0m\u001b[0;34m(\u001b[0m\u001b[0mcasted_key\u001b[0m\u001b[0;34m)\u001b[0m\u001b[0;34m\u001b[0m\u001b[0;34m\u001b[0m\u001b[0m\n\u001b[0m\u001b[1;32m   3803\u001b[0m             \u001b[0;32mexcept\u001b[0m \u001b[0mKeyError\u001b[0m \u001b[0;32mas\u001b[0m \u001b[0merr\u001b[0m\u001b[0;34m:\u001b[0m\u001b[0;34m\u001b[0m\u001b[0;34m\u001b[0m\u001b[0m\n",
      "\u001b[0;32m~/.local/lib/python3.9/site-packages/pandas/_libs/index.pyx\u001b[0m in \u001b[0;36mpandas._libs.index.IndexEngine.get_loc\u001b[0;34m()\u001b[0m\n",
      "\u001b[0;32m~/.local/lib/python3.9/site-packages/pandas/_libs/index.pyx\u001b[0m in \u001b[0;36mpandas._libs.index.IndexEngine.get_loc\u001b[0;34m()\u001b[0m\n",
      "\u001b[0;32mpandas/_libs/hashtable_class_helper.pxi\u001b[0m in \u001b[0;36mpandas._libs.hashtable.PyObjectHashTable.get_item\u001b[0;34m()\u001b[0m\n",
      "\u001b[0;32mpandas/_libs/hashtable_class_helper.pxi\u001b[0m in \u001b[0;36mpandas._libs.hashtable.PyObjectHashTable.get_item\u001b[0;34m()\u001b[0m\n",
      "\u001b[0;31mKeyError\u001b[0m: 'dir_2'",
      "\nThe above exception was the direct cause of the following exception:\n",
      "\u001b[0;31mKeyError\u001b[0m                                  Traceback (most recent call last)",
      "\u001b[0;32m<ipython-input-10-89231f9563c2>\u001b[0m in \u001b[0;36m<module>\u001b[0;34m\u001b[0m\n\u001b[1;32m      1\u001b[0m \u001b[0mdomain\u001b[0m \u001b[0;34m=\u001b[0m \u001b[0murlsplit\u001b[0m\u001b[0;34m(\u001b[0m\u001b[0msitemap_url\u001b[0m\u001b[0;34m)\u001b[0m\u001b[0;34m.\u001b[0m\u001b[0mnetloc\u001b[0m\u001b[0;34m\u001b[0m\u001b[0;34m\u001b[0m\u001b[0m\n\u001b[0;32m----> 2\u001b[0;31m adviz.url_structure(\n\u001b[0m\u001b[1;32m      3\u001b[0m     \u001b[0murldf\u001b[0m\u001b[0;34m[\u001b[0m\u001b[0;34m'url'\u001b[0m\u001b[0;34m]\u001b[0m\u001b[0;34m.\u001b[0m\u001b[0mfillna\u001b[0m\u001b[0;34m(\u001b[0m\u001b[0;34m''\u001b[0m\u001b[0;34m)\u001b[0m\u001b[0;34m,\u001b[0m\u001b[0;34m\u001b[0m\u001b[0;34m\u001b[0m\u001b[0m\n\u001b[1;32m      4\u001b[0m     \u001b[0mitems_per_level\u001b[0m\u001b[0;34m=\u001b[0m\u001b[0;36m30\u001b[0m\u001b[0;34m,\u001b[0m\u001b[0;34m\u001b[0m\u001b[0;34m\u001b[0m\u001b[0m\n\u001b[1;32m      5\u001b[0m     \u001b[0mdomain\u001b[0m\u001b[0;34m=\u001b[0m\u001b[0mdomain\u001b[0m\u001b[0;34m,\u001b[0m\u001b[0;34m\u001b[0m\u001b[0;34m\u001b[0m\u001b[0m\n",
      "\u001b[0;32m~/.local/lib/python3.9/site-packages/adviz/url_structure.py\u001b[0m in \u001b[0;36murl_structure\u001b[0;34m(url_list, items_per_level, height, width, theme, domain, title)\u001b[0m\n\u001b[1;32m     61\u001b[0m     \u001b[0;32mfor\u001b[0m \u001b[0mtop_n\u001b[0m \u001b[0;32min\u001b[0m \u001b[0mtop_n_df\u001b[0m\u001b[0;34m[\u001b[0m\u001b[0;34m'dir_1_top_n'\u001b[0m\u001b[0;34m]\u001b[0m\u001b[0;34m:\u001b[0m\u001b[0;34m\u001b[0m\u001b[0;34m\u001b[0m\u001b[0m\n\u001b[1;32m     62\u001b[0m         \u001b[0mtempdf\u001b[0m \u001b[0;34m=\u001b[0m \u001b[0murldf\u001b[0m\u001b[0;34m[\u001b[0m\u001b[0murldf\u001b[0m\u001b[0;34m[\u001b[0m\u001b[0;34m'dir_1_clean'\u001b[0m\u001b[0;34m]\u001b[0m\u001b[0;34m.\u001b[0m\u001b[0meq\u001b[0m\u001b[0;34m(\u001b[0m\u001b[0mtop_n\u001b[0m\u001b[0;34m)\u001b[0m\u001b[0;34m]\u001b[0m\u001b[0;34m\u001b[0m\u001b[0;34m\u001b[0m\u001b[0m\n\u001b[0;32m---> 63\u001b[0;31m         \u001b[0mvalcountsdf\u001b[0m \u001b[0;34m=\u001b[0m \u001b[0madviz\u001b[0m\u001b[0;34m.\u001b[0m\u001b[0mvalue_counts_plus\u001b[0m\u001b[0;34m(\u001b[0m\u001b[0mtempdf\u001b[0m\u001b[0;34m[\u001b[0m\u001b[0;34m'dir_2'\u001b[0m\u001b[0;34m]\u001b[0m\u001b[0;34m,\u001b[0m \u001b[0mshow_top\u001b[0m\u001b[0;34m=\u001b[0m\u001b[0mitems_per_level\u001b[0m\u001b[0;34m,\u001b[0m \u001b[0mstyle\u001b[0m\u001b[0;34m=\u001b[0m\u001b[0;32mFalse\u001b[0m\u001b[0;34m)\u001b[0m\u001b[0;34m\u001b[0m\u001b[0;34m\u001b[0m\u001b[0m\n\u001b[0m\u001b[1;32m     64\u001b[0m         \u001b[0mvalcountsdf\u001b[0m \u001b[0;34m=\u001b[0m \u001b[0mvalcountsdf\u001b[0m\u001b[0;34m.\u001b[0m\u001b[0massign\u001b[0m\u001b[0;34m(\u001b[0m\u001b[0mdir_1_value\u001b[0m\u001b[0;34m=\u001b[0m\u001b[0mtop_n\u001b[0m\u001b[0;34m)\u001b[0m\u001b[0;34m\u001b[0m\u001b[0;34m\u001b[0m\u001b[0m\n\u001b[1;32m     65\u001b[0m         \u001b[0mdir2_valcounts\u001b[0m\u001b[0;34m.\u001b[0m\u001b[0mappend\u001b[0m\u001b[0;34m(\u001b[0m\u001b[0mvalcountsdf\u001b[0m\u001b[0;34m)\u001b[0m\u001b[0;34m\u001b[0m\u001b[0;34m\u001b[0m\u001b[0m\n",
      "\u001b[0;32m~/.local/lib/python3.9/site-packages/pandas/core/frame.py\u001b[0m in \u001b[0;36m__getitem__\u001b[0;34m(self, key)\u001b[0m\n\u001b[1;32m   3805\u001b[0m             \u001b[0;32mif\u001b[0m \u001b[0mself\u001b[0m\u001b[0;34m.\u001b[0m\u001b[0mcolumns\u001b[0m\u001b[0;34m.\u001b[0m\u001b[0mnlevels\u001b[0m \u001b[0;34m>\u001b[0m \u001b[0;36m1\u001b[0m\u001b[0;34m:\u001b[0m\u001b[0;34m\u001b[0m\u001b[0;34m\u001b[0m\u001b[0m\n\u001b[1;32m   3806\u001b[0m                 \u001b[0;32mreturn\u001b[0m \u001b[0mself\u001b[0m\u001b[0;34m.\u001b[0m\u001b[0m_getitem_multilevel\u001b[0m\u001b[0;34m(\u001b[0m\u001b[0mkey\u001b[0m\u001b[0;34m)\u001b[0m\u001b[0;34m\u001b[0m\u001b[0;34m\u001b[0m\u001b[0m\n\u001b[0;32m-> 3807\u001b[0;31m             \u001b[0mindexer\u001b[0m \u001b[0;34m=\u001b[0m \u001b[0mself\u001b[0m\u001b[0;34m.\u001b[0m\u001b[0mcolumns\u001b[0m\u001b[0;34m.\u001b[0m\u001b[0mget_loc\u001b[0m\u001b[0;34m(\u001b[0m\u001b[0mkey\u001b[0m\u001b[0;34m)\u001b[0m\u001b[0;34m\u001b[0m\u001b[0;34m\u001b[0m\u001b[0m\n\u001b[0m\u001b[1;32m   3808\u001b[0m             \u001b[0;32mif\u001b[0m \u001b[0mis_integer\u001b[0m\u001b[0;34m(\u001b[0m\u001b[0mindexer\u001b[0m\u001b[0;34m)\u001b[0m\u001b[0;34m:\u001b[0m\u001b[0;34m\u001b[0m\u001b[0;34m\u001b[0m\u001b[0m\n\u001b[1;32m   3809\u001b[0m                 \u001b[0mindexer\u001b[0m \u001b[0;34m=\u001b[0m \u001b[0;34m[\u001b[0m\u001b[0mindexer\u001b[0m\u001b[0;34m]\u001b[0m\u001b[0;34m\u001b[0m\u001b[0;34m\u001b[0m\u001b[0m\n",
      "\u001b[0;32m~/.local/lib/python3.9/site-packages/pandas/core/indexes/base.py\u001b[0m in \u001b[0;36mget_loc\u001b[0;34m(self, key, method, tolerance)\u001b[0m\n\u001b[1;32m   3802\u001b[0m                 \u001b[0;32mreturn\u001b[0m \u001b[0mself\u001b[0m\u001b[0;34m.\u001b[0m\u001b[0m_engine\u001b[0m\u001b[0;34m.\u001b[0m\u001b[0mget_loc\u001b[0m\u001b[0;34m(\u001b[0m\u001b[0mcasted_key\u001b[0m\u001b[0;34m)\u001b[0m\u001b[0;34m\u001b[0m\u001b[0;34m\u001b[0m\u001b[0m\n\u001b[1;32m   3803\u001b[0m             \u001b[0;32mexcept\u001b[0m \u001b[0mKeyError\u001b[0m \u001b[0;32mas\u001b[0m \u001b[0merr\u001b[0m\u001b[0;34m:\u001b[0m\u001b[0;34m\u001b[0m\u001b[0;34m\u001b[0m\u001b[0m\n\u001b[0;32m-> 3804\u001b[0;31m                 \u001b[0;32mraise\u001b[0m \u001b[0mKeyError\u001b[0m\u001b[0;34m(\u001b[0m\u001b[0mkey\u001b[0m\u001b[0;34m)\u001b[0m \u001b[0;32mfrom\u001b[0m \u001b[0merr\u001b[0m\u001b[0;34m\u001b[0m\u001b[0;34m\u001b[0m\u001b[0m\n\u001b[0m\u001b[1;32m   3805\u001b[0m             \u001b[0;32mexcept\u001b[0m \u001b[0mTypeError\u001b[0m\u001b[0;34m:\u001b[0m\u001b[0;34m\u001b[0m\u001b[0;34m\u001b[0m\u001b[0m\n\u001b[1;32m   3806\u001b[0m                 \u001b[0;31m# If we have a listlike key, _check_indexing_error will raise\u001b[0m\u001b[0;34m\u001b[0m\u001b[0;34m\u001b[0m\u001b[0;34m\u001b[0m\u001b[0m\n",
      "\u001b[0;31mKeyError\u001b[0m: 'dir_2'"
     ]
    }
   ],
   "source": [
    "domain = urlsplit(sitemap_url).netloc\n",
    "adviz.url_structure(\n",
    "    urldf['url'].fillna(''),\n",
    "    items_per_level=30,\n",
    "    domain=domain,\n",
    "    height=750,\n",
    "    title=f'URL Structure: {domain} XML sitemap'\n",
    ")"
   ]
  }
 ],
 "metadata": {
  "kernelspec": {
   "display_name": "Python 3",
   "language": "python",
   "name": "python3"
  },
  "language_info": {
   "codemirror_mode": {
    "name": "ipython",
    "version": 3
   },
   "file_extension": ".py",
   "mimetype": "text/x-python",
   "name": "python",
   "nbconvert_exporter": "python",
   "pygments_lexer": "ipython3",
   "version": "3.9.6"
  },
  "widgets": {
   "application/vnd.jupyter.widget-state+json": {
    "state": {},
    "version_major": 2,
    "version_minor": 0
   }
  }
 },
 "nbformat": 4,
 "nbformat_minor": 5
}
