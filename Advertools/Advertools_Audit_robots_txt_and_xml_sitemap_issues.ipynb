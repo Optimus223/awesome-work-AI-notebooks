{
 "cells": [
  {
   "cell_type": "markdown",
   "id": "5da81fdb-1607-4dcd-8945-78492d41c20c",
   "metadata": {
    "papermill": {},
    "tags": []
   },
   "source": [
    "<img width=\"10%\" alt=\"Naas\" src=\"https://landen.imgix.net/jtci2pxwjczr/assets/5ice39g4.png?w=160\"/>"
   ]
  },
  {
   "cell_type": "markdown",
   "id": "96049d01-11e9-4538-9012-57992898281e",
   "metadata": {
    "papermill": {},
    "tags": []
   },
   "source": [
    "# Advertools - Audit robots txt and xml sitemap issues\n",
    "<a href=\"https://app.naas.ai/user-redirect/naas/downloader?url=https://raw.githubusercontent.com/jupyter-naas/awesome-notebooks/master/Advertools/Advertools_Audit_robots_txt_and_xml_sitemap_issues.ipynb\" target=\"_parent\"><img src=\"https://naasai-public.s3.eu-west-3.amazonaws.com/Open_in_Naas_Lab.svg\"/></a><br><br><a href=\"https://github.com/jupyter-naas/awesome-notebooks/issues/new?assignees=&labels=&template=template-request.md&title=Tool+-+Action+of+the+notebook+\">Template request</a> | <a href=\"https://github.com/jupyter-naas/awesome-notebooks/issues/new?assignees=&labels=bug&template=bug_report.md&title=Advertools+-+Audit+robots+txt+and+xml+sitemap+issues:+Error+short+description\">Bug report</a> | <a href=\"https://app.naas.ai/user-redirect/naas/downloader?url=https://raw.githubusercontent.com/jupyter-naas/awesome-notebooks/master/Naas/Naas_Start_data_product.ipynb\" target=\"_parent\">Generate Data Product</a>"
   ]
  },
  {
   "cell_type": "markdown",
   "id": "76b0bd6e-4a5c-472f-a473-a315e3738936",
   "metadata": {
    "papermill": {},
    "tags": []
   },
   "source": [
    "**Tags:** #advertools #xml #sitemap #website #audit #seo #robots.txt #google"
   ]
  },
  {
   "cell_type": "markdown",
   "id": "1089c7e4-b7a9-48ab-8320-e17847ad3b30",
   "metadata": {
    "papermill": {},
    "tags": []
   },
   "source": [
    "**Author:** [Elias Dabbas](https://www.linkedin.com/in/eliasdabbas/)"
   ]
  },
  {
   "cell_type": "markdown",
   "id": "d93cd7a5-1d4f-4bc6-94a2-b74461c7f538",
   "metadata": {
    "papermill": {},
    "tags": []
   },
   "source": [
    "**Description:** This notebook helps you check if there are any conflicts between robots.txt rules and your XML sitemap.\n",
    "\n",
    "* Are you disallowing URLs that you shouldn't?\n",
    "* Test and make sure you don't publish new pages with such conflicts.\n",
    "* Do this in bulk: for all URL/rule/user-agent combinations run all tests with one command."
   ]
  },
  {
   "cell_type": "markdown",
   "id": "5d84a0cf-6ba8-456a-8b42-1bf63e3a17f2",
   "metadata": {
    "papermill": {},
    "tags": []
   },
   "source": [
    "**References:**\n",
    "- [advertools robots.txt functions](https://advertools.readthedocs.io/en/master/advertools.robotstxt.html)\n",
    "- [Google's robots reference](https://developers.google.com/search/docs/crawling-indexing/robots/robots_txt)\n",
    "- [advertools XML sitemaps](https://advertools.readthedocs.io/en/master/advertools.sitemaps.html)"
   ]
  },
  {
   "cell_type": "markdown",
   "id": "a75ef3a2-b261-45a8-bd64-52cb78b5f502",
   "metadata": {
    "papermill": {},
    "tags": []
   },
   "source": [
    "## Input"
   ]
  },
  {
   "cell_type": "markdown",
   "id": "460f75f0-18d1-45a3-8695-31fc87c3a56d",
   "metadata": {},
   "source": [
    "### Install libraries\n",
    "If running it on naas, run the code below to install the libraries"
   ]
  },
  {
   "cell_type": "code",
   "execution_count": null,
   "id": "8178986f-8dae-4f76-b16f-803be2287d77",
   "metadata": {
    "tags": []
   },
   "outputs": [],
   "source": [
    "#!pip install advertools adviz pandas==1.5.3 --user"
   ]
  },
  {
   "cell_type": "markdown",
   "id": "f530c66d-1a5b-47d1-8d80-01f21a83ac3e",
   "metadata": {
    "papermill": {},
    "tags": []
   },
   "source": [
    "### Import libraries"
   ]
  },
  {
   "cell_type": "code",
   "execution_count": 9,
   "id": "1e8d108a-44de-44b4-941f-f12795838c5c",
   "metadata": {
    "execution": {
     "iopub.execute_input": "2023-07-13T11:58:58.306100Z",
     "iopub.status.busy": "2023-07-13T11:58:58.305761Z",
     "iopub.status.idle": "2023-07-13T11:58:58.428831Z",
     "shell.execute_reply": "2023-07-13T11:58:58.428174Z",
     "shell.execute_reply.started": "2023-07-13T11:58:58.306071Z"
    },
    "papermill": {},
    "tags": []
   },
   "outputs": [],
   "source": [
    "import advertools as adv"
   ]
  },
  {
   "cell_type": "markdown",
   "id": "d35a9e6f-71c4-4cb2-b9bc-32c23b18c4ba",
   "metadata": {
    "papermill": {},
    "tags": []
   },
   "source": [
    "### Setup Variables\n",
    "- `robotstxt_url`: URL of the robots.txt file to convert to a `DataFrame`"
   ]
  },
  {
   "cell_type": "code",
   "execution_count": 13,
   "id": "cebcf1a5-23ce-49ca-aee9-aac7ff28a2e4",
   "metadata": {
    "execution": {
     "iopub.execute_input": "2023-07-13T12:02:09.539460Z",
     "iopub.status.busy": "2023-07-13T12:02:09.539223Z",
     "iopub.status.idle": "2023-07-13T12:02:09.542379Z",
     "shell.execute_reply": "2023-07-13T12:02:09.541748Z",
     "shell.execute_reply.started": "2023-07-13T12:02:09.539436Z"
    },
    "papermill": {},
    "tags": []
   },
   "outputs": [],
   "source": [
    "robotstxt_url = \"https://www.youtube.com/robots.txt\""
   ]
  },
  {
   "cell_type": "markdown",
   "id": "1ad6e918-ae61-4a78-9b71-a6ad5f530f53",
   "metadata": {
    "papermill": {},
    "tags": []
   },
   "source": [
    "## Model"
   ]
  },
  {
   "cell_type": "markdown",
   "id": "dafe9992-9fcb-4849-a69e-ced13c995aff",
   "metadata": {
    "papermill": {},
    "tags": []
   },
   "source": [
    "### Analyze potential robots.txt and XML conflicts\n",
    "\n",
    "Getting the robots.txt file and converting it to a `DataFrame`."
   ]
  },
  {
   "cell_type": "code",
   "execution_count": 14,
   "id": "4949b9c4-f852-47f5-9889-3ccce1a0100a",
   "metadata": {
    "execution": {
     "iopub.execute_input": "2023-07-13T12:02:10.738572Z",
     "iopub.status.busy": "2023-07-13T12:02:10.738350Z",
     "iopub.status.idle": "2023-07-13T12:02:10.789960Z",
     "shell.execute_reply": "2023-07-13T12:02:10.789328Z",
     "shell.execute_reply.started": "2023-07-13T12:02:10.738549Z"
    },
    "papermill": {},
    "tags": []
   },
   "outputs": [
    {
     "name": "stderr",
     "output_type": "stream",
     "text": [
      "2023-07-13 14:02:10,739 | INFO | robotstxt.py:381 | robotstxt_to_df | Getting: https://www.youtube.com/robots.txt\n"
     ]
    },
    {
     "data": {
      "text/html": [
       "<div>\n",
       "<style scoped>\n",
       "    .dataframe tbody tr th:only-of-type {\n",
       "        vertical-align: middle;\n",
       "    }\n",
       "\n",
       "    .dataframe tbody tr th {\n",
       "        vertical-align: top;\n",
       "    }\n",
       "\n",
       "    .dataframe thead th {\n",
       "        text-align: right;\n",
       "    }\n",
       "</style>\n",
       "<table border=\"1\" class=\"dataframe\">\n",
       "  <thead>\n",
       "    <tr style=\"text-align: right;\">\n",
       "      <th></th>\n",
       "      <th>directive</th>\n",
       "      <th>content</th>\n",
       "      <th>robotstxt_last_modified</th>\n",
       "      <th>robotstxt_url</th>\n",
       "      <th>download_date</th>\n",
       "    </tr>\n",
       "  </thead>\n",
       "  <tbody>\n",
       "    <tr>\n",
       "      <th>0</th>\n",
       "      <td>comment</td>\n",
       "      <td>robots.txt file for YouTube</td>\n",
       "      <td>2023-06-13 21:38:00+00:00</td>\n",
       "      <td>https://www.youtube.com/robots.txt</td>\n",
       "      <td>2023-07-13 12:02:10.779470+00:00</td>\n",
       "    </tr>\n",
       "    <tr>\n",
       "      <th>1</th>\n",
       "      <td>comment</td>\n",
       "      <td>Created in the distant future (the year 2000) ...</td>\n",
       "      <td>2023-06-13 21:38:00+00:00</td>\n",
       "      <td>https://www.youtube.com/robots.txt</td>\n",
       "      <td>2023-07-13 12:02:10.779470+00:00</td>\n",
       "    </tr>\n",
       "    <tr>\n",
       "      <th>2</th>\n",
       "      <td>comment</td>\n",
       "      <td>the robotic uprising of the mid 90's which wip...</td>\n",
       "      <td>2023-06-13 21:38:00+00:00</td>\n",
       "      <td>https://www.youtube.com/robots.txt</td>\n",
       "      <td>2023-07-13 12:02:10.779470+00:00</td>\n",
       "    </tr>\n",
       "    <tr>\n",
       "      <th>3</th>\n",
       "      <td>User-agent</td>\n",
       "      <td>Mediapartners-Google*</td>\n",
       "      <td>2023-06-13 21:38:00+00:00</td>\n",
       "      <td>https://www.youtube.com/robots.txt</td>\n",
       "      <td>2023-07-13 12:02:10.779470+00:00</td>\n",
       "    </tr>\n",
       "    <tr>\n",
       "      <th>4</th>\n",
       "      <td>Disallow</td>\n",
       "      <td></td>\n",
       "      <td>2023-06-13 21:38:00+00:00</td>\n",
       "      <td>https://www.youtube.com/robots.txt</td>\n",
       "      <td>2023-07-13 12:02:10.779470+00:00</td>\n",
       "    </tr>\n",
       "    <tr>\n",
       "      <th>5</th>\n",
       "      <td>User-agent</td>\n",
       "      <td>*</td>\n",
       "      <td>2023-06-13 21:38:00+00:00</td>\n",
       "      <td>https://www.youtube.com/robots.txt</td>\n",
       "      <td>2023-07-13 12:02:10.779470+00:00</td>\n",
       "    </tr>\n",
       "    <tr>\n",
       "      <th>6</th>\n",
       "      <td>Disallow</td>\n",
       "      <td>/comment</td>\n",
       "      <td>2023-06-13 21:38:00+00:00</td>\n",
       "      <td>https://www.youtube.com/robots.txt</td>\n",
       "      <td>2023-07-13 12:02:10.779470+00:00</td>\n",
       "    </tr>\n",
       "    <tr>\n",
       "      <th>7</th>\n",
       "      <td>Disallow</td>\n",
       "      <td>/feeds/videos.xml</td>\n",
       "      <td>2023-06-13 21:38:00+00:00</td>\n",
       "      <td>https://www.youtube.com/robots.txt</td>\n",
       "      <td>2023-07-13 12:02:10.779470+00:00</td>\n",
       "    </tr>\n",
       "    <tr>\n",
       "      <th>8</th>\n",
       "      <td>Disallow</td>\n",
       "      <td>/get_video</td>\n",
       "      <td>2023-06-13 21:38:00+00:00</td>\n",
       "      <td>https://www.youtube.com/robots.txt</td>\n",
       "      <td>2023-07-13 12:02:10.779470+00:00</td>\n",
       "    </tr>\n",
       "    <tr>\n",
       "      <th>9</th>\n",
       "      <td>Disallow</td>\n",
       "      <td>/get_video_info</td>\n",
       "      <td>2023-06-13 21:38:00+00:00</td>\n",
       "      <td>https://www.youtube.com/robots.txt</td>\n",
       "      <td>2023-07-13 12:02:10.779470+00:00</td>\n",
       "    </tr>\n",
       "    <tr>\n",
       "      <th>10</th>\n",
       "      <td>Disallow</td>\n",
       "      <td>/get_midroll_info</td>\n",
       "      <td>2023-06-13 21:38:00+00:00</td>\n",
       "      <td>https://www.youtube.com/robots.txt</td>\n",
       "      <td>2023-07-13 12:02:10.779470+00:00</td>\n",
       "    </tr>\n",
       "    <tr>\n",
       "      <th>11</th>\n",
       "      <td>Disallow</td>\n",
       "      <td>/live_chat</td>\n",
       "      <td>2023-06-13 21:38:00+00:00</td>\n",
       "      <td>https://www.youtube.com/robots.txt</td>\n",
       "      <td>2023-07-13 12:02:10.779470+00:00</td>\n",
       "    </tr>\n",
       "    <tr>\n",
       "      <th>12</th>\n",
       "      <td>Disallow</td>\n",
       "      <td>/login</td>\n",
       "      <td>2023-06-13 21:38:00+00:00</td>\n",
       "      <td>https://www.youtube.com/robots.txt</td>\n",
       "      <td>2023-07-13 12:02:10.779470+00:00</td>\n",
       "    </tr>\n",
       "    <tr>\n",
       "      <th>13</th>\n",
       "      <td>Disallow</td>\n",
       "      <td>/qr</td>\n",
       "      <td>2023-06-13 21:38:00+00:00</td>\n",
       "      <td>https://www.youtube.com/robots.txt</td>\n",
       "      <td>2023-07-13 12:02:10.779470+00:00</td>\n",
       "    </tr>\n",
       "    <tr>\n",
       "      <th>14</th>\n",
       "      <td>Disallow</td>\n",
       "      <td>/results</td>\n",
       "      <td>2023-06-13 21:38:00+00:00</td>\n",
       "      <td>https://www.youtube.com/robots.txt</td>\n",
       "      <td>2023-07-13 12:02:10.779470+00:00</td>\n",
       "    </tr>\n",
       "    <tr>\n",
       "      <th>15</th>\n",
       "      <td>Disallow</td>\n",
       "      <td>/signup</td>\n",
       "      <td>2023-06-13 21:38:00+00:00</td>\n",
       "      <td>https://www.youtube.com/robots.txt</td>\n",
       "      <td>2023-07-13 12:02:10.779470+00:00</td>\n",
       "    </tr>\n",
       "    <tr>\n",
       "      <th>16</th>\n",
       "      <td>Disallow</td>\n",
       "      <td>/t/terms</td>\n",
       "      <td>2023-06-13 21:38:00+00:00</td>\n",
       "      <td>https://www.youtube.com/robots.txt</td>\n",
       "      <td>2023-07-13 12:02:10.779470+00:00</td>\n",
       "    </tr>\n",
       "    <tr>\n",
       "      <th>17</th>\n",
       "      <td>Disallow</td>\n",
       "      <td>/timedtext_video</td>\n",
       "      <td>2023-06-13 21:38:00+00:00</td>\n",
       "      <td>https://www.youtube.com/robots.txt</td>\n",
       "      <td>2023-07-13 12:02:10.779470+00:00</td>\n",
       "    </tr>\n",
       "    <tr>\n",
       "      <th>18</th>\n",
       "      <td>Disallow</td>\n",
       "      <td>/verify_age</td>\n",
       "      <td>2023-06-13 21:38:00+00:00</td>\n",
       "      <td>https://www.youtube.com/robots.txt</td>\n",
       "      <td>2023-07-13 12:02:10.779470+00:00</td>\n",
       "    </tr>\n",
       "    <tr>\n",
       "      <th>19</th>\n",
       "      <td>Disallow</td>\n",
       "      <td>/watch_ajax</td>\n",
       "      <td>2023-06-13 21:38:00+00:00</td>\n",
       "      <td>https://www.youtube.com/robots.txt</td>\n",
       "      <td>2023-07-13 12:02:10.779470+00:00</td>\n",
       "    </tr>\n",
       "    <tr>\n",
       "      <th>20</th>\n",
       "      <td>Disallow</td>\n",
       "      <td>/watch_fragments_ajax</td>\n",
       "      <td>2023-06-13 21:38:00+00:00</td>\n",
       "      <td>https://www.youtube.com/robots.txt</td>\n",
       "      <td>2023-07-13 12:02:10.779470+00:00</td>\n",
       "    </tr>\n",
       "    <tr>\n",
       "      <th>21</th>\n",
       "      <td>Disallow</td>\n",
       "      <td>/watch_popup</td>\n",
       "      <td>2023-06-13 21:38:00+00:00</td>\n",
       "      <td>https://www.youtube.com/robots.txt</td>\n",
       "      <td>2023-07-13 12:02:10.779470+00:00</td>\n",
       "    </tr>\n",
       "    <tr>\n",
       "      <th>22</th>\n",
       "      <td>Disallow</td>\n",
       "      <td>/watch_queue_ajax</td>\n",
       "      <td>2023-06-13 21:38:00+00:00</td>\n",
       "      <td>https://www.youtube.com/robots.txt</td>\n",
       "      <td>2023-07-13 12:02:10.779470+00:00</td>\n",
       "    </tr>\n",
       "    <tr>\n",
       "      <th>23</th>\n",
       "      <td>Sitemap</td>\n",
       "      <td>https://www.youtube.com/sitemaps/sitemap.xml</td>\n",
       "      <td>2023-06-13 21:38:00+00:00</td>\n",
       "      <td>https://www.youtube.com/robots.txt</td>\n",
       "      <td>2023-07-13 12:02:10.779470+00:00</td>\n",
       "    </tr>\n",
       "    <tr>\n",
       "      <th>24</th>\n",
       "      <td>Sitemap</td>\n",
       "      <td>https://www.youtube.com/product/sitemap.xml</td>\n",
       "      <td>2023-06-13 21:38:00+00:00</td>\n",
       "      <td>https://www.youtube.com/robots.txt</td>\n",
       "      <td>2023-07-13 12:02:10.779470+00:00</td>\n",
       "    </tr>\n",
       "  </tbody>\n",
       "</table>\n",
       "</div>"
      ],
      "text/plain": [
       "     directive                                            content  \\\n",
       "0      comment                        robots.txt file for YouTube   \n",
       "1      comment  Created in the distant future (the year 2000) ...   \n",
       "2      comment  the robotic uprising of the mid 90's which wip...   \n",
       "3   User-agent                              Mediapartners-Google*   \n",
       "4     Disallow                                                      \n",
       "5   User-agent                                                  *   \n",
       "6     Disallow                                           /comment   \n",
       "7     Disallow                                  /feeds/videos.xml   \n",
       "8     Disallow                                         /get_video   \n",
       "9     Disallow                                    /get_video_info   \n",
       "10    Disallow                                  /get_midroll_info   \n",
       "11    Disallow                                         /live_chat   \n",
       "12    Disallow                                             /login   \n",
       "13    Disallow                                                /qr   \n",
       "14    Disallow                                           /results   \n",
       "15    Disallow                                            /signup   \n",
       "16    Disallow                                           /t/terms   \n",
       "17    Disallow                                   /timedtext_video   \n",
       "18    Disallow                                        /verify_age   \n",
       "19    Disallow                                        /watch_ajax   \n",
       "20    Disallow                              /watch_fragments_ajax   \n",
       "21    Disallow                                       /watch_popup   \n",
       "22    Disallow                                  /watch_queue_ajax   \n",
       "23     Sitemap       https://www.youtube.com/sitemaps/sitemap.xml   \n",
       "24     Sitemap        https://www.youtube.com/product/sitemap.xml   \n",
       "\n",
       "     robotstxt_last_modified                       robotstxt_url  \\\n",
       "0  2023-06-13 21:38:00+00:00  https://www.youtube.com/robots.txt   \n",
       "1  2023-06-13 21:38:00+00:00  https://www.youtube.com/robots.txt   \n",
       "2  2023-06-13 21:38:00+00:00  https://www.youtube.com/robots.txt   \n",
       "3  2023-06-13 21:38:00+00:00  https://www.youtube.com/robots.txt   \n",
       "4  2023-06-13 21:38:00+00:00  https://www.youtube.com/robots.txt   \n",
       "5  2023-06-13 21:38:00+00:00  https://www.youtube.com/robots.txt   \n",
       "6  2023-06-13 21:38:00+00:00  https://www.youtube.com/robots.txt   \n",
       "7  2023-06-13 21:38:00+00:00  https://www.youtube.com/robots.txt   \n",
       "8  2023-06-13 21:38:00+00:00  https://www.youtube.com/robots.txt   \n",
       "9  2023-06-13 21:38:00+00:00  https://www.youtube.com/robots.txt   \n",
       "10 2023-06-13 21:38:00+00:00  https://www.youtube.com/robots.txt   \n",
       "11 2023-06-13 21:38:00+00:00  https://www.youtube.com/robots.txt   \n",
       "12 2023-06-13 21:38:00+00:00  https://www.youtube.com/robots.txt   \n",
       "13 2023-06-13 21:38:00+00:00  https://www.youtube.com/robots.txt   \n",
       "14 2023-06-13 21:38:00+00:00  https://www.youtube.com/robots.txt   \n",
       "15 2023-06-13 21:38:00+00:00  https://www.youtube.com/robots.txt   \n",
       "16 2023-06-13 21:38:00+00:00  https://www.youtube.com/robots.txt   \n",
       "17 2023-06-13 21:38:00+00:00  https://www.youtube.com/robots.txt   \n",
       "18 2023-06-13 21:38:00+00:00  https://www.youtube.com/robots.txt   \n",
       "19 2023-06-13 21:38:00+00:00  https://www.youtube.com/robots.txt   \n",
       "20 2023-06-13 21:38:00+00:00  https://www.youtube.com/robots.txt   \n",
       "21 2023-06-13 21:38:00+00:00  https://www.youtube.com/robots.txt   \n",
       "22 2023-06-13 21:38:00+00:00  https://www.youtube.com/robots.txt   \n",
       "23 2023-06-13 21:38:00+00:00  https://www.youtube.com/robots.txt   \n",
       "24 2023-06-13 21:38:00+00:00  https://www.youtube.com/robots.txt   \n",
       "\n",
       "                      download_date  \n",
       "0  2023-07-13 12:02:10.779470+00:00  \n",
       "1  2023-07-13 12:02:10.779470+00:00  \n",
       "2  2023-07-13 12:02:10.779470+00:00  \n",
       "3  2023-07-13 12:02:10.779470+00:00  \n",
       "4  2023-07-13 12:02:10.779470+00:00  \n",
       "5  2023-07-13 12:02:10.779470+00:00  \n",
       "6  2023-07-13 12:02:10.779470+00:00  \n",
       "7  2023-07-13 12:02:10.779470+00:00  \n",
       "8  2023-07-13 12:02:10.779470+00:00  \n",
       "9  2023-07-13 12:02:10.779470+00:00  \n",
       "10 2023-07-13 12:02:10.779470+00:00  \n",
       "11 2023-07-13 12:02:10.779470+00:00  \n",
       "12 2023-07-13 12:02:10.779470+00:00  \n",
       "13 2023-07-13 12:02:10.779470+00:00  \n",
       "14 2023-07-13 12:02:10.779470+00:00  \n",
       "15 2023-07-13 12:02:10.779470+00:00  \n",
       "16 2023-07-13 12:02:10.779470+00:00  \n",
       "17 2023-07-13 12:02:10.779470+00:00  \n",
       "18 2023-07-13 12:02:10.779470+00:00  \n",
       "19 2023-07-13 12:02:10.779470+00:00  \n",
       "20 2023-07-13 12:02:10.779470+00:00  \n",
       "21 2023-07-13 12:02:10.779470+00:00  \n",
       "22 2023-07-13 12:02:10.779470+00:00  \n",
       "23 2023-07-13 12:02:10.779470+00:00  \n",
       "24 2023-07-13 12:02:10.779470+00:00  "
      ]
     },
     "execution_count": 14,
     "metadata": {},
     "output_type": "execute_result"
    }
   ],
   "source": [
    "robots_df = adv.robotstxt_to_df(robotstxt_url=robotstxt_url)\n",
    "robots_df"
   ]
  },
  {
   "cell_type": "markdown",
   "id": "2f205baa-8d88-41a9-b860-b429b195077e",
   "metadata": {
    "papermill": {},
    "tags": []
   },
   "source": [
    "Get XML sitemap(s) and convert to a `DataFrame`."
   ]
  },
  {
   "cell_type": "code",
   "execution_count": 15,
   "id": "89f415ef-b5ec-42f8-932d-7d01cb2fea07",
   "metadata": {
    "execution": {
     "iopub.execute_input": "2023-07-13T12:02:15.556622Z",
     "iopub.status.busy": "2023-07-13T12:02:15.556403Z",
     "iopub.status.idle": "2023-07-13T12:02:21.356787Z",
     "shell.execute_reply": "2023-07-13T12:02:21.356139Z",
     "shell.execute_reply.started": "2023-07-13T12:02:15.556601Z"
    },
    "papermill": {},
    "tags": []
   },
   "outputs": [
    {
     "name": "stderr",
     "output_type": "stream",
     "text": [
      "2023-07-13 14:02:15,771 | INFO | sitemaps.py:536 | sitemap_to_df | Getting https://www.youtube.com/sitemaps/misc.xml\n",
      "2023-07-13 14:02:15,837 | INFO | sitemaps.py:536 | sitemap_to_df | Getting https://about.youtube/sitemap.xml\n",
      "2023-07-13 14:02:15,848 | INFO | sitemaps.py:536 | sitemap_to_df | Getting https://www.youtube.com/trends/sitemap.xml\n",
      "2023-07-13 14:02:15,872 | INFO | sitemaps.py:536 | sitemap_to_df | Getting https://www.youtube.com/ads/sitemap-old.xml\n",
      "2023-07-13 14:02:15,904 | INFO | sitemaps.py:536 | sitemap_to_df | Getting https://www.youtube.com/jobs/sitemap.xml\n",
      "2023-07-13 14:02:15,960 | INFO | sitemaps.py:536 | sitemap_to_df | Getting https://www.youtube.com/creators/sitemap.xml\n",
      "2023-07-13 14:02:16,343 | INFO | sitemaps.py:536 | sitemap_to_df | Getting https://www.youtube.com/originals/guidelines/sitemap.xml\n",
      "2023-07-13 14:02:16,345 | INFO | sitemaps.py:536 | sitemap_to_df | Getting https://www.youtube.com/ads/sitemap.xml\n",
      "2023-07-13 14:02:16,353 | INFO | sitemaps.py:536 | sitemap_to_df | Getting https://contributors.youtube.com/sitemap.xml\n",
      "2023-07-13 14:02:16,371 | INFO | sitemaps.py:536 | sitemap_to_df | Getting https://www.youtube.com/csai-match/sitemap.xml\n",
      "2023-07-13 14:02:16,604 | INFO | sitemaps.py:536 | sitemap_to_df | Getting https://www.youtube.com/kids/sitemap.xml\n",
      "2023-07-13 14:02:16,632 | INFO | sitemaps.py:536 | sitemap_to_df | Getting https://www.youtube.com/measurementprogram/sitemap.xml\n",
      "2023-07-13 14:02:16,645 | INFO | sitemaps.py:536 | sitemap_to_df | Getting https://artists.youtube/sitemap.xml\n",
      "2023-07-13 14:02:16,670 | INFO | sitemaps.py:536 | sitemap_to_df | Getting https://vr.youtube.com/sitemap.xml\n",
      "2023-07-13 14:02:16,729 | INFO | sitemaps.py:536 | sitemap_to_df | Getting https://www.youtube.com/go/family/sitemap.xml\n",
      "2023-07-13 14:02:16,768 | WARNING | sitemaps.py:530 | sitemap_to_df | HTTP Error 404: Not Found https://www.youtube.com/yt/terms/sitemap.xml\n",
      "2023-07-13 14:02:16,857 | INFO | sitemaps.py:536 | sitemap_to_df | Getting https://socialimpact.youtube.com/sitemap.xml\n",
      "2023-07-13 14:02:16,885 | INFO | sitemaps.py:536 | sitemap_to_df | Getting https://health.youtube/sitemap.xml\n",
      "2023-07-13 14:02:16,897 | INFO | sitemaps.py:536 | sitemap_to_df | Getting https://news.youtube/sitemap.xml\n",
      "2023-07-13 14:02:16,918 | INFO | sitemaps.py:536 | sitemap_to_df | Getting https://www.youtube.com/myfamily/sitemap.xml\n",
      "2023-07-13 14:02:17,678 | INFO | sitemaps.py:536 | sitemap_to_df | Getting https://www.youtube.com/howyoutubeworks/sitemap.xml\n",
      "2023-07-13 14:02:18,335 | INFO | sitemaps.py:536 | sitemap_to_df | Getting https://www.youtube.com/product/sitemap-files/sitemap-001.xml.gz\n",
      "2023-07-13 14:02:18,336 | INFO | sitemaps.py:536 | sitemap_to_df | Getting https://www.youtube.com/product/sitemap-files/sitemap-005.xml.gz\n",
      "2023-07-13 14:02:19,414 | INFO | sitemaps.py:536 | sitemap_to_df | Getting https://www.youtube.com/product/sitemap-files/sitemap-002.xml.gz\n",
      "2023-07-13 14:02:19,419 | INFO | sitemaps.py:536 | sitemap_to_df | Getting https://www.youtube.com/product/sitemap-files/sitemap-004.xml.gz\n",
      "2023-07-13 14:02:20,016 | INFO | sitemaps.py:536 | sitemap_to_df | Getting https://www.youtube.com/product/sitemap-files/sitemap-003.xml.gz\n"
     ]
    },
    {
     "data": {
      "text/html": [
       "<div>\n",
       "<style scoped>\n",
       "    .dataframe tbody tr th:only-of-type {\n",
       "        vertical-align: middle;\n",
       "    }\n",
       "\n",
       "    .dataframe tbody tr th {\n",
       "        vertical-align: top;\n",
       "    }\n",
       "\n",
       "    .dataframe thead th {\n",
       "        text-align: right;\n",
       "    }\n",
       "</style>\n",
       "<table border=\"1\" class=\"dataframe\">\n",
       "  <thead>\n",
       "    <tr style=\"text-align: right;\">\n",
       "      <th></th>\n",
       "      <th>loc</th>\n",
       "      <th>sitemap</th>\n",
       "      <th>sitemap_last_modified</th>\n",
       "      <th>sitemap_size_mb</th>\n",
       "      <th>download_date</th>\n",
       "      <th>errors</th>\n",
       "      <th>lastmod</th>\n",
       "    </tr>\n",
       "  </thead>\n",
       "  <tbody>\n",
       "    <tr>\n",
       "      <th>0</th>\n",
       "      <td>https://www.youtube.com/videomasthead/</td>\n",
       "      <td>https://www.youtube.com/sitemaps/misc.xml</td>\n",
       "      <td>2020-05-28 21:15:00+00:00</td>\n",
       "      <td>0.000213</td>\n",
       "      <td>2023-07-13 12:02:15.873105+00:00</td>\n",
       "      <td>NaN</td>\n",
       "      <td>NaT</td>\n",
       "    </tr>\n",
       "    <tr>\n",
       "      <th>1</th>\n",
       "      <td>https://www.youtube.com/trends/</td>\n",
       "      <td>https://www.youtube.com/trends/sitemap.xml</td>\n",
       "      <td>NaT</td>\n",
       "      <td>0.108909</td>\n",
       "      <td>2023-07-13 12:02:15.887329+00:00</td>\n",
       "      <td>NaN</td>\n",
       "      <td>NaT</td>\n",
       "    </tr>\n",
       "    <tr>\n",
       "      <th>2</th>\n",
       "      <td>https://www.youtube.com/trends/2021/</td>\n",
       "      <td>https://www.youtube.com/trends/sitemap.xml</td>\n",
       "      <td>NaT</td>\n",
       "      <td>0.108909</td>\n",
       "      <td>2023-07-13 12:02:15.887329+00:00</td>\n",
       "      <td>NaN</td>\n",
       "      <td>NaT</td>\n",
       "    </tr>\n",
       "    <tr>\n",
       "      <th>3</th>\n",
       "      <td>https://www.youtube.com/trends/about/</td>\n",
       "      <td>https://www.youtube.com/trends/sitemap.xml</td>\n",
       "      <td>NaT</td>\n",
       "      <td>0.108909</td>\n",
       "      <td>2023-07-13 12:02:15.887329+00:00</td>\n",
       "      <td>NaN</td>\n",
       "      <td>NaT</td>\n",
       "    </tr>\n",
       "    <tr>\n",
       "      <th>4</th>\n",
       "      <td>https://www.youtube.com/trends/ads-leaderboard/</td>\n",
       "      <td>https://www.youtube.com/trends/sitemap.xml</td>\n",
       "      <td>NaT</td>\n",
       "      <td>0.108909</td>\n",
       "      <td>2023-07-13 12:02:15.887329+00:00</td>\n",
       "      <td>NaN</td>\n",
       "      <td>NaT</td>\n",
       "    </tr>\n",
       "    <tr>\n",
       "      <th>...</th>\n",
       "      <td>...</td>\n",
       "      <td>...</td>\n",
       "      <td>...</td>\n",
       "      <td>...</td>\n",
       "      <td>...</td>\n",
       "      <td>...</td>\n",
       "      <td>...</td>\n",
       "    </tr>\n",
       "    <tr>\n",
       "      <th>240650</th>\n",
       "      <td>https://www.youtube.com/product/E_g_11g4j377vp</td>\n",
       "      <td>https://www.youtube.com/product/sitemap-files/...</td>\n",
       "      <td>2022-04-20 14:08:00+00:00</td>\n",
       "      <td>5.621672</td>\n",
       "      <td>2023-07-13 12:02:21.292386+00:00</td>\n",
       "      <td>NaN</td>\n",
       "      <td>2022-04-20 00:00:00+00:00</td>\n",
       "    </tr>\n",
       "    <tr>\n",
       "      <th>240651</th>\n",
       "      <td>https://www.youtube.com/product/E_g_11dzx59g99</td>\n",
       "      <td>https://www.youtube.com/product/sitemap-files/...</td>\n",
       "      <td>2022-04-20 14:08:00+00:00</td>\n",
       "      <td>5.621672</td>\n",
       "      <td>2023-07-13 12:02:21.292386+00:00</td>\n",
       "      <td>NaN</td>\n",
       "      <td>2022-04-20 00:00:00+00:00</td>\n",
       "    </tr>\n",
       "    <tr>\n",
       "      <th>240652</th>\n",
       "      <td>https://www.youtube.com/product/E_g_11lg3zxccn</td>\n",
       "      <td>https://www.youtube.com/product/sitemap-files/...</td>\n",
       "      <td>2022-04-20 14:08:00+00:00</td>\n",
       "      <td>5.621672</td>\n",
       "      <td>2023-07-13 12:02:21.292386+00:00</td>\n",
       "      <td>NaN</td>\n",
       "      <td>2022-04-20 00:00:00+00:00</td>\n",
       "    </tr>\n",
       "    <tr>\n",
       "      <th>240653</th>\n",
       "      <td>https://www.youtube.com/product/E_g_11fmdg91lj</td>\n",
       "      <td>https://www.youtube.com/product/sitemap-files/...</td>\n",
       "      <td>2022-04-20 14:08:00+00:00</td>\n",
       "      <td>5.621672</td>\n",
       "      <td>2023-07-13 12:02:21.292386+00:00</td>\n",
       "      <td>NaN</td>\n",
       "      <td>2022-04-20 00:00:00+00:00</td>\n",
       "    </tr>\n",
       "    <tr>\n",
       "      <th>240654</th>\n",
       "      <td>https://www.youtube.com/product/E_m_0crdphd</td>\n",
       "      <td>https://www.youtube.com/product/sitemap-files/...</td>\n",
       "      <td>2022-04-20 14:08:00+00:00</td>\n",
       "      <td>5.621672</td>\n",
       "      <td>2023-07-13 12:02:21.292386+00:00</td>\n",
       "      <td>NaN</td>\n",
       "      <td>2022-04-20 00:00:00+00:00</td>\n",
       "    </tr>\n",
       "  </tbody>\n",
       "</table>\n",
       "<p>240655 rows × 7 columns</p>\n",
       "</div>"
      ],
      "text/plain": [
       "                                                    loc  \\\n",
       "0                https://www.youtube.com/videomasthead/   \n",
       "1                       https://www.youtube.com/trends/   \n",
       "2                  https://www.youtube.com/trends/2021/   \n",
       "3                 https://www.youtube.com/trends/about/   \n",
       "4       https://www.youtube.com/trends/ads-leaderboard/   \n",
       "...                                                 ...   \n",
       "240650   https://www.youtube.com/product/E_g_11g4j377vp   \n",
       "240651   https://www.youtube.com/product/E_g_11dzx59g99   \n",
       "240652   https://www.youtube.com/product/E_g_11lg3zxccn   \n",
       "240653   https://www.youtube.com/product/E_g_11fmdg91lj   \n",
       "240654      https://www.youtube.com/product/E_m_0crdphd   \n",
       "\n",
       "                                                  sitemap  \\\n",
       "0               https://www.youtube.com/sitemaps/misc.xml   \n",
       "1              https://www.youtube.com/trends/sitemap.xml   \n",
       "2              https://www.youtube.com/trends/sitemap.xml   \n",
       "3              https://www.youtube.com/trends/sitemap.xml   \n",
       "4              https://www.youtube.com/trends/sitemap.xml   \n",
       "...                                                   ...   \n",
       "240650  https://www.youtube.com/product/sitemap-files/...   \n",
       "240651  https://www.youtube.com/product/sitemap-files/...   \n",
       "240652  https://www.youtube.com/product/sitemap-files/...   \n",
       "240653  https://www.youtube.com/product/sitemap-files/...   \n",
       "240654  https://www.youtube.com/product/sitemap-files/...   \n",
       "\n",
       "           sitemap_last_modified  sitemap_size_mb  \\\n",
       "0      2020-05-28 21:15:00+00:00         0.000213   \n",
       "1                            NaT         0.108909   \n",
       "2                            NaT         0.108909   \n",
       "3                            NaT         0.108909   \n",
       "4                            NaT         0.108909   \n",
       "...                          ...              ...   \n",
       "240650 2022-04-20 14:08:00+00:00         5.621672   \n",
       "240651 2022-04-20 14:08:00+00:00         5.621672   \n",
       "240652 2022-04-20 14:08:00+00:00         5.621672   \n",
       "240653 2022-04-20 14:08:00+00:00         5.621672   \n",
       "240654 2022-04-20 14:08:00+00:00         5.621672   \n",
       "\n",
       "                          download_date errors                   lastmod  \n",
       "0      2023-07-13 12:02:15.873105+00:00    NaN                       NaT  \n",
       "1      2023-07-13 12:02:15.887329+00:00    NaN                       NaT  \n",
       "2      2023-07-13 12:02:15.887329+00:00    NaN                       NaT  \n",
       "3      2023-07-13 12:02:15.887329+00:00    NaN                       NaT  \n",
       "4      2023-07-13 12:02:15.887329+00:00    NaN                       NaT  \n",
       "...                                 ...    ...                       ...  \n",
       "240650 2023-07-13 12:02:21.292386+00:00    NaN 2022-04-20 00:00:00+00:00  \n",
       "240651 2023-07-13 12:02:21.292386+00:00    NaN 2022-04-20 00:00:00+00:00  \n",
       "240652 2023-07-13 12:02:21.292386+00:00    NaN 2022-04-20 00:00:00+00:00  \n",
       "240653 2023-07-13 12:02:21.292386+00:00    NaN 2022-04-20 00:00:00+00:00  \n",
       "240654 2023-07-13 12:02:21.292386+00:00    NaN 2022-04-20 00:00:00+00:00  \n",
       "\n",
       "[240655 rows x 7 columns]"
      ]
     },
     "execution_count": 15,
     "metadata": {},
     "output_type": "execute_result"
    }
   ],
   "source": [
    "sitemap = adv.sitemap_to_df(\n",
    "    # the function will extract and combine all available sitemaps\n",
    "    # in the robots.txt file\n",
    "    robotstxt_url,\n",
    "    max_workers=8,\n",
    "    recursive=True)\n",
    "sitemap"
   ]
  },
  {
   "cell_type": "markdown",
   "id": "cd817594-1b7f-4d02-a245-9e1dcd6ad2b6",
   "metadata": {
    "papermill": {},
    "tags": []
   },
   "source": [
    "#### Testing robots.txt\n",
    "For all URL/user-agent combinations check if the URL is blocked."
   ]
  },
  {
   "cell_type": "code",
   "execution_count": 17,
   "id": "9d47b183-7e9d-4013-8f64-f15568513676",
   "metadata": {
    "execution": {
     "iopub.execute_input": "2023-07-13T12:02:37.177162Z",
     "iopub.status.busy": "2023-07-13T12:02:37.176842Z",
     "iopub.status.idle": "2023-07-13T12:02:37.202794Z",
     "shell.execute_reply": "2023-07-13T12:02:37.202110Z",
     "shell.execute_reply.started": "2023-07-13T12:02:37.177127Z"
    },
    "papermill": {},
    "tags": []
   },
   "outputs": [
    {
     "data": {
      "text/plain": [
       "3    Mediapartners-Google*\n",
       "5                        *\n",
       "Name: content, dtype: object"
      ]
     },
     "execution_count": 17,
     "metadata": {},
     "output_type": "execute_result"
    }
   ],
   "source": [
    "user_agents = robots_df[robots_df['directive'].str.contains('user-agent', case=False)]['content']\n",
    "user_agents"
   ]
  },
  {
   "cell_type": "markdown",
   "id": "dd8071bb",
   "metadata": {
    "papermill": {},
    "tags": []
   },
   "source": [
    "Generate the robots.txt test report:"
   ]
  },
  {
   "cell_type": "code",
   "execution_count": 19,
   "id": "a169f1a7-2e73-4a70-9de8-0bcd2ce321f1",
   "metadata": {
    "execution": {
     "iopub.execute_input": "2023-07-13T12:02:52.256206Z",
     "iopub.status.busy": "2023-07-13T12:02:52.254583Z",
     "iopub.status.idle": "2023-07-13T12:03:00.834119Z",
     "shell.execute_reply": "2023-07-13T12:03:00.833546Z",
     "shell.execute_reply.started": "2023-07-13T12:02:52.256170Z"
    },
    "papermill": {},
    "tags": []
   },
   "outputs": [
    {
     "name": "stdout",
     "output_type": "stream",
     "text": [
      "3    Mediapartners-Google*\n",
      "5                        *\n",
      "Name: content, dtype: object\n",
      "Row fetched: 481308\n"
     ]
    },
    {
     "data": {
      "text/html": [
       "<div>\n",
       "<style scoped>\n",
       "    .dataframe tbody tr th:only-of-type {\n",
       "        vertical-align: middle;\n",
       "    }\n",
       "\n",
       "    .dataframe tbody tr th {\n",
       "        vertical-align: top;\n",
       "    }\n",
       "\n",
       "    .dataframe thead th {\n",
       "        text-align: right;\n",
       "    }\n",
       "</style>\n",
       "<table border=\"1\" class=\"dataframe\">\n",
       "  <thead>\n",
       "    <tr style=\"text-align: right;\">\n",
       "      <th></th>\n",
       "      <th>robotstxt_url</th>\n",
       "      <th>user_agent</th>\n",
       "      <th>url_path</th>\n",
       "      <th>can_fetch</th>\n",
       "    </tr>\n",
       "  </thead>\n",
       "  <tbody>\n",
       "    <tr>\n",
       "      <th>0</th>\n",
       "      <td>https://www.youtube.com/robots.txt</td>\n",
       "      <td>*</td>\n",
       "      <td>https://about.youtube/</td>\n",
       "      <td>True</td>\n",
       "    </tr>\n",
       "    <tr>\n",
       "      <th>1</th>\n",
       "      <td>https://www.youtube.com/robots.txt</td>\n",
       "      <td>*</td>\n",
       "      <td>https://artists.youtube/</td>\n",
       "      <td>True</td>\n",
       "    </tr>\n",
       "    <tr>\n",
       "      <th>2</th>\n",
       "      <td>https://www.youtube.com/robots.txt</td>\n",
       "      <td>*</td>\n",
       "      <td>https://artists.youtube/features/</td>\n",
       "      <td>True</td>\n",
       "    </tr>\n",
       "    <tr>\n",
       "      <th>3</th>\n",
       "      <td>https://www.youtube.com/robots.txt</td>\n",
       "      <td>*</td>\n",
       "      <td>https://artists.youtube/foundry/</td>\n",
       "      <td>True</td>\n",
       "    </tr>\n",
       "    <tr>\n",
       "      <th>4</th>\n",
       "      <td>https://www.youtube.com/robots.txt</td>\n",
       "      <td>*</td>\n",
       "      <td>https://artists.youtube/intl/de_ALL/</td>\n",
       "      <td>True</td>\n",
       "    </tr>\n",
       "  </tbody>\n",
       "</table>\n",
       "</div>"
      ],
      "text/plain": [
       "                        robotstxt_url user_agent  \\\n",
       "0  https://www.youtube.com/robots.txt          *   \n",
       "1  https://www.youtube.com/robots.txt          *   \n",
       "2  https://www.youtube.com/robots.txt          *   \n",
       "3  https://www.youtube.com/robots.txt          *   \n",
       "4  https://www.youtube.com/robots.txt          *   \n",
       "\n",
       "                               url_path  can_fetch  \n",
       "0                https://about.youtube/       True  \n",
       "1              https://artists.youtube/       True  \n",
       "2     https://artists.youtube/features/       True  \n",
       "3      https://artists.youtube/foundry/       True  \n",
       "4  https://artists.youtube/intl/de_ALL/       True  "
      ]
     },
     "execution_count": 19,
     "metadata": {},
     "output_type": "execute_result"
    }
   ],
   "source": [
    "# Get users agent\n",
    "user_agents = robots_df[robots_df['directive'].str.contains('user-agent', case=False)]['content']\n",
    "print(user_agents)\n",
    "\n",
    "# Testing robots.txt\n",
    "robots_report = adv.robotstxt_test(\n",
    "    robotstxt_url=robotstxt_url,\n",
    "    user_agents=user_agents,\n",
    "    urls=sitemap['loc'].dropna()\n",
    ")\n",
    "\n",
    "print(\"Row fetched:\", len(robots_report))\n",
    "robots_report.head(5)"
   ]
  },
  {
   "cell_type": "markdown",
   "id": "a4f99c99-dd8b-4893-8d5e-7ce5bfa29d1d",
   "metadata": {
    "papermill": {},
    "tags": []
   },
   "source": [
    "Does the website have URLs listed in the XML sitemap that are also disallowed by its robots.txt?\n",
    "\n",
    "(this is not necessarily a problem, because they might disallow it for some user-agents only), and it's good to check."
   ]
  },
  {
   "cell_type": "markdown",
   "id": "550110a8-50b2-49a0-9752-5132256356b9",
   "metadata": {
    "papermill": {},
    "tags": []
   },
   "source": [
    "## Output\n",
    "\n",
    "Get the URLs that cannot be fetched"
   ]
  },
  {
   "cell_type": "markdown",
   "id": "24df9dac-a42c-4b46-9344-4cbc48cd23ce",
   "metadata": {
    "papermill": {},
    "tags": []
   },
   "source": [
    "### Filter result"
   ]
  },
  {
   "cell_type": "code",
   "execution_count": 20,
   "id": "7b6a8e95-fd71-4602-9a29-ccb4bb52c9e2",
   "metadata": {
    "execution": {
     "iopub.execute_input": "2023-07-13T12:03:00.835621Z",
     "iopub.status.busy": "2023-07-13T12:03:00.835430Z",
     "iopub.status.idle": "2023-07-13T12:03:00.845004Z",
     "shell.execute_reply": "2023-07-13T12:03:00.844377Z",
     "shell.execute_reply.started": "2023-07-13T12:03:00.835601Z"
    },
    "papermill": {},
    "tags": []
   },
   "outputs": [
    {
     "name": "stdout",
     "output_type": "stream",
     "text": [
      "Row fetched: 0\n"
     ]
    },
    {
     "data": {
      "text/html": [
       "<div>\n",
       "<style scoped>\n",
       "    .dataframe tbody tr th:only-of-type {\n",
       "        vertical-align: middle;\n",
       "    }\n",
       "\n",
       "    .dataframe tbody tr th {\n",
       "        vertical-align: top;\n",
       "    }\n",
       "\n",
       "    .dataframe thead th {\n",
       "        text-align: right;\n",
       "    }\n",
       "</style>\n",
       "<table border=\"1\" class=\"dataframe\">\n",
       "  <thead>\n",
       "    <tr style=\"text-align: right;\">\n",
       "      <th></th>\n",
       "      <th>robotstxt_url</th>\n",
       "      <th>user_agent</th>\n",
       "      <th>url_path</th>\n",
       "      <th>can_fetch</th>\n",
       "    </tr>\n",
       "  </thead>\n",
       "  <tbody>\n",
       "  </tbody>\n",
       "</table>\n",
       "</div>"
      ],
      "text/plain": [
       "Empty DataFrame\n",
       "Columns: [robotstxt_url, user_agent, url_path, can_fetch]\n",
       "Index: []"
      ]
     },
     "execution_count": 20,
     "metadata": {},
     "output_type": "execute_result"
    }
   ],
   "source": [
    "df_report = robots_report[~robots_report['can_fetch']].reset_index(drop=True)\n",
    "print(\"Row fetched:\", len(df_report))\n",
    "df_report.head(5)"
   ]
  }
 ],
 "metadata": {
  "kernelspec": {
   "display_name": "Python 3",
   "language": "python",
   "name": "python3"
  },
  "language_info": {
   "codemirror_mode": {
    "name": "ipython",
    "version": 3
   },
   "file_extension": ".py",
   "mimetype": "text/x-python",
   "name": "python",
   "nbconvert_exporter": "python",
   "pygments_lexer": "ipython3",
   "version": "3.9.6"
  },
  "naas": {
   "notebook_id": "2733269de8aa4a8a013af03ae7af3ac21d9d860849af4b06adb3b31fbfc13ad2",
   "notebook_path": "Advertools/Advertools_Audit_robots_txt_and_xml_sitemap_issues.ipynb"
  },
  "papermill": {
   "default_parameters": {},
   "environment_variables": {},
   "parameters": {},
   "version": "2.4.0"
  },
  "widgets": {
   "application/vnd.jupyter.widget-state+json": {
    "state": {},
    "version_major": 2,
    "version_minor": 0
   }
  }
 },
 "nbformat": 4,
 "nbformat_minor": 5
}
