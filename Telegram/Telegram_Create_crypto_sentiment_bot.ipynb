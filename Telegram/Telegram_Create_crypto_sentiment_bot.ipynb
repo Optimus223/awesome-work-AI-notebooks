{
 "cells": [
  {
   "cell_type": "markdown",
   "metadata": {},
   "source": [
    "# Telegram - Create Crypto sentiment bot"
   ]
  },
  {
   "cell_type": "markdown",
   "metadata": {},
   "source": [
    "## Input"
   ]
  },
  {
   "cell_type": "markdown",
   "metadata": {},
   "source": [
    "### Install telegram"
   ]
  },
  {
   "cell_type": "code",
   "execution_count": 9,
   "metadata": {
    "execution": {
     "iopub.execute_input": "2021-07-20T14:26:07.362442Z",
     "iopub.status.busy": "2021-07-20T14:26:07.362203Z",
     "iopub.status.idle": "2021-07-20T14:26:10.393468Z",
     "shell.execute_reply": "2021-07-20T14:26:10.392713Z",
     "shell.execute_reply.started": "2021-07-20T14:26:07.362414Z"
    },
    "tags": []
   },
   "outputs": [
    {
     "name": "stdout",
     "output_type": "stream",
     "text": [
      "Requirement already satisfied: telegram in /opt/conda/lib/python3.8/site-packages (0.0.1)\n",
      "Note: you may need to restart the kernel to use updated packages.\n"
     ]
    }
   ],
   "source": [
    "pip install telegram"
   ]
  },
  {
   "cell_type": "markdown",
   "metadata": {},
   "source": [
    "### Import library"
   ]
  },
  {
   "cell_type": "code",
   "execution_count": 11,
   "metadata": {
    "execution": {
     "iopub.execute_input": "2021-07-20T14:26:48.811445Z",
     "iopub.status.busy": "2021-07-20T14:26:48.811220Z",
     "iopub.status.idle": "2021-07-20T14:26:48.814455Z",
     "shell.execute_reply": "2021-07-20T14:26:48.813787Z",
     "shell.execute_reply.started": "2021-07-20T14:26:48.811420Z"
    },
    "tags": []
   },
   "outputs": [],
   "source": [
    "import logging\n",
    "from telegram import *\n",
    "import numpy as np\n",
    "import naas_drivers"
   ]
  },
  {
   "cell_type": "markdown",
   "metadata": {},
   "source": [
    "### Variables"
   ]
  },
  {
   "cell_type": "markdown",
   "metadata": {},
   "source": [
    "[Create a Telegram bot and get your API KEY](https://core.telegram.org/bots#6-botfather)"
   ]
  },
  {
   "cell_type": "code",
   "execution_count": 13,
   "metadata": {
    "execution": {
     "iopub.execute_input": "2021-07-08T08:31:42.607363Z",
     "iopub.status.busy": "2021-07-08T08:31:42.607133Z",
     "iopub.status.idle": "2021-07-08T08:31:42.610298Z",
     "shell.execute_reply": "2021-07-08T08:31:42.609726Z",
     "shell.execute_reply.started": "2021-07-08T08:31:42.607341Z"
    },
    "tags": []
   },
   "outputs": [],
   "source": [
    "TELEGRAM_API_KEY = \"***********\""
   ]
  },
  {
   "cell_type": "markdown",
   "metadata": {},
   "source": [
    "[Get Newsapi API KEY](https://newsapi.org/)"
   ]
  },
  {
   "cell_type": "code",
   "execution_count": null,
   "metadata": {},
   "outputs": [],
   "source": [
    "NEWSAPI_API_KEY = \"************\""
   ]
  },
  {
   "cell_type": "markdown",
   "metadata": {},
   "source": [
    "### Connect to Newsapi Naas drivers"
   ]
  },
  {
   "cell_type": "code",
   "execution_count": 15,
   "metadata": {
    "execution": {
     "iopub.execute_input": "2021-07-08T08:31:47.991971Z",
     "iopub.status.busy": "2021-07-08T08:31:47.991686Z",
     "iopub.status.idle": "2021-07-08T08:31:47.996518Z",
     "shell.execute_reply": "2021-07-08T08:31:47.995901Z",
     "shell.execute_reply.started": "2021-07-08T08:31:47.991941Z"
    },
    "tags": []
   },
   "outputs": [
    {
     "data": {
      "text/plain": [
       "<naas_drivers.input.newsapi.Newsapi at 0x7f95701338e0>"
      ]
     },
     "execution_count": 15,
     "metadata": {},
     "output_type": "execute_result"
    }
   ],
   "source": [
    "naas_drivers.newsapi.connect(NEWSAPI_API_KEY)"
   ]
  },
  {
   "cell_type": "markdown",
   "metadata": {},
   "source": [
    "### Set up the logging"
   ]
  },
  {
   "cell_type": "code",
   "execution_count": 12,
   "metadata": {
    "execution": {
     "iopub.execute_input": "2021-07-20T14:27:08.707780Z",
     "iopub.status.busy": "2021-07-20T14:27:08.707542Z",
     "iopub.status.idle": "2021-07-20T14:27:08.713467Z",
     "shell.execute_reply": "2021-07-20T14:27:08.712966Z",
     "shell.execute_reply.started": "2021-07-20T14:27:08.707753Z"
    },
    "tags": []
   },
   "outputs": [
    {
     "name": "stderr",
     "output_type": "stream",
     "text": [
      "2021-07-20 16:27:08,708 - root - INFO - Starting Bot...\n"
     ]
    }
   ],
   "source": [
    "logging.basicConfig(format='%(asctime)s - %(name)s - %(levelname)s - %(message)s', level=logging.INFO)\n",
    "logging.info('Starting Bot...')"
   ]
  },
  {
   "cell_type": "markdown",
   "metadata": {},
   "source": [
    "## Model"
   ]
  },
  {
   "cell_type": "markdown",
   "metadata": {},
   "source": [
    "### Function to ..."
   ]
  },
  {
   "cell_type": "code",
   "execution_count": 17,
   "metadata": {
    "execution": {
     "iopub.execute_input": "2021-07-08T08:31:55.351821Z",
     "iopub.status.busy": "2021-07-08T08:31:55.351539Z",
     "iopub.status.idle": "2021-07-08T08:31:55.359187Z",
     "shell.execute_reply": "2021-07-08T08:31:55.358614Z",
     "shell.execute_reply.started": "2021-07-08T08:31:55.351792Z"
    },
    "tags": []
   },
   "outputs": [],
   "source": [
    "#user_response\n",
    "def get_response(user_message):\n",
    "    \n",
    "    usr_msg_text = user_message.lower()\n",
    "    \n",
    "    if usr_msg_text in [\"bitcoin\",\"etherium\", \"ripple\",\"dogecoin\",\"cardano\", \"polygon\"]:\n",
    "        data = naas_drivers.newsapi.get(usr_msg_text)\n",
    "        sentiment =  naas_drivers.sentiment_analysis.calculate(data, column_name=\"title\")\n",
    "    else:\n",
    "        sentiment = 'There is no data for this ticker\\n use \\help command '\n",
    "    \n",
    "    return sentiment"
   ]
  },
  {
   "cell_type": "markdown",
   "metadata": {
    "execution": {
     "iopub.execute_input": "2021-07-20T14:36:10.915126Z",
     "iopub.status.busy": "2021-07-20T14:36:10.914808Z",
     "iopub.status.idle": "2021-07-20T14:36:10.918306Z",
     "shell.execute_reply": "2021-07-20T14:36:10.917651Z",
     "shell.execute_reply.started": "2021-07-20T14:36:10.915092Z"
    }
   },
   "source": [
    "### Commands"
   ]
  },
  {
   "cell_type": "code",
   "execution_count": 18,
   "metadata": {
    "execution": {
     "iopub.execute_input": "2021-07-08T08:31:59.211506Z",
     "iopub.status.busy": "2021-07-08T08:31:59.211281Z",
     "iopub.status.idle": "2021-07-08T08:31:59.215594Z",
     "shell.execute_reply": "2021-07-08T08:31:59.214969Z",
     "shell.execute_reply.started": "2021-07-08T08:31:59.211482Z"
    },
    "tags": []
   },
   "outputs": [],
   "source": [
    "def start_command(update, context):\n",
    "    update.message.reply_text('Hello there! I\\'m a crypto sentiment bot. send me the coin name, I\\'ll send you sentiment!')\n",
    "\n",
    "\n",
    "def help_command(update, context):\n",
    "    update.message.reply_text('check the coin names from the list below!\\n bitcoin\\n etherium \\n ripple\\n dogecoin\\n cardano\\n polygon\\n')"
   ]
  },
  {
   "cell_type": "markdown",
   "metadata": {},
   "source": [
    "### Message handler"
   ]
  },
  {
   "cell_type": "code",
   "execution_count": null,
   "metadata": {},
   "outputs": [],
   "source": [
    "def handle_message(update, context):\n",
    "    text = str(update.message.text).lower()\n",
    "    logging.info(f'User ({update.message.chat.id}) says: {text}')\n",
    "\n",
    "    # Bot response\n",
    "    sentiment_naas = get_response(text)\n",
    "    update.message.reply_text(sentiment_naas)"
   ]
  },
  {
   "cell_type": "markdown",
   "metadata": {},
   "source": [
    "### Manage error logs"
   ]
  },
  {
   "cell_type": "code",
   "execution_count": null,
   "metadata": {},
   "outputs": [],
   "source": [
    "def error(update, context):\n",
    "    # Logs errors\n",
    "    logging.error(f'Update {update} caused error {context.error}')"
   ]
  },
  {
   "cell_type": "markdown",
   "metadata": {},
   "source": [
    "## Output"
   ]
  },
  {
   "cell_type": "markdown",
   "metadata": {},
   "source": [
    "### Run the program"
   ]
  },
  {
   "cell_type": "code",
   "execution_count": null,
   "metadata": {
    "execution": {
     "iopub.execute_input": "2021-07-08T08:32:05.783871Z",
     "iopub.status.busy": "2021-07-08T08:32:05.783594Z"
    },
    "tags": []
   },
   "outputs": [
    {
     "name": "stderr",
     "output_type": "stream",
     "text": [
      "2021-07-08 10:32:05,786 - apscheduler.scheduler - INFO - Scheduler started\n",
      "2021-07-08 10:32:20,772 - root - INFO - User (1840263262) says: bitcoin\n",
      "2021-07-08 10:32:21,038 - root - ERROR - Update {'update_id': 415492296, 'message': {'photo': [], 'entities': [], 'supergroup_chat_created': False, 'chat': {'id': 1840263262, 'first_name': 'yash', 'type': 'private', 'last_name': 'kumar'}, 'delete_chat_photo': False, 'new_chat_photo': [], 'text': 'bitcoin', 'group_chat_created': False, 'message_id': 48, 'new_chat_members': [], 'date': 1625733140, 'channel_chat_created': False, 'caption_entities': [], 'from': {'last_name': 'kumar', 'language_code': 'en', 'id': 1840263262, 'first_name': 'yash', 'is_bot': False}}} caused error {'status': 'error', 'code': 'parametersMissing', 'message': 'Required parameters are missing, the scope of your search is too broad. Please set any of the following required parameters and try again: q, qInTitle, sources, domains.'}\n"
     ]
    }
   ],
   "source": [
    "if __name__ == '__main__':\n",
    "    # create an object \"bot\"\n",
    "    updater = Updater(API_KEY, use_context=True)\n",
    "    dp = updater.dispatcher\n",
    "\n",
    "    #  bot's command handlers\n",
    "    dp.add_handler(CommandHandler('start', start_command))\n",
    "    dp.add_handler(CommandHandler('help', help_command))\n",
    "\n",
    "    # bot's text handlers \n",
    "    dp.add_handler(MessageHandler(Filters.text, handle_message))\n",
    "\n",
    "    # bot's error handler\n",
    "    dp.add_error_handler(error)\n",
    "\n",
    "    # Run the bot\n",
    "    updater.start_polling(1.0)\n",
    "    updater.idle()"
   ]
  },
  {
   "cell_type": "code",
   "execution_count": null,
   "metadata": {},
   "outputs": [],
   "source": []
  }
 ],
 "metadata": {
  "kernelspec": {
   "display_name": "Python 3",
   "language": "python",
   "name": "python3"
  },
  "language_info": {
   "codemirror_mode": {
    "name": "ipython",
    "version": 3
   },
   "file_extension": ".py",
   "mimetype": "text/x-python",
   "name": "python",
   "nbconvert_exporter": "python",
   "pygments_lexer": "ipython3",
   "version": "3.8.8"
  }
 },
 "nbformat": 4,
 "nbformat_minor": 4
}
