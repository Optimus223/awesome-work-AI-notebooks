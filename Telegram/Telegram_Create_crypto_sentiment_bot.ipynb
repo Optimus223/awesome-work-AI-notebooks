{
 "cells": [
  {
   "cell_type": "markdown",
   "metadata": {},
   "source": [
    "# Telegram - Create Crypto sentiment bot"
   ]
  },
  {
   "cell_type": "markdown",
   "metadata": {},
   "source": [
    "## Input"
   ]
  },
  {
   "cell_type": "markdown",
   "metadata": {},
   "source": [
    "### Variables"
   ]
  },
  {
   "cell_type": "markdown",
   "metadata": {},
   "source": [
    "[Create a Telegram bot and get your API KEY](https://core.telegram.org/bots#6-botfather)"
   ]
  },
  {
   "cell_type": "code",
   "execution_count": 1,
   "metadata": {
    "execution": {
     "iopub.execute_input": "2021-07-23T13:26:17.927535Z",
     "iopub.status.busy": "2021-07-23T13:26:17.927335Z",
     "iopub.status.idle": "2021-07-23T13:26:17.933737Z",
     "shell.execute_reply": "2021-07-23T13:26:17.933168Z",
     "shell.execute_reply.started": "2021-07-23T13:26:17.927479Z"
    },
    "tags": []
   },
   "outputs": [],
   "source": [
    "TELEGRAM_API_KEY = \"**************\""
   ]
  },
  {
   "cell_type": "markdown",
   "metadata": {},
   "source": [
    "[Get Newsapi API KEY](https://newsapi.org/)"
   ]
  },
  {
   "cell_type": "code",
   "execution_count": null,
   "metadata": {
    "tags": []
   },
   "outputs": [],
   "source": [
    "NEWSAPI_API_KEY = \"****************\""
   ]
  },
  {
   "cell_type": "code",
   "execution_count": null,
   "metadata": {},
   "outputs": [],
   "source": [
    "!pip install python-telegram-bot"
   ]
  },
  {
   "cell_type": "code",
   "execution_count": 3,
   "metadata": {
    "execution": {
     "iopub.execute_input": "2021-07-23T13:26:24.684726Z",
     "iopub.status.busy": "2021-07-23T13:26:24.684508Z",
     "iopub.status.idle": "2021-07-23T13:26:29.847336Z",
     "shell.execute_reply": "2021-07-23T13:26:29.846662Z",
     "shell.execute_reply.started": "2021-07-23T13:26:24.684704Z"
    },
    "tags": []
   },
   "outputs": [],
   "source": [
    "import logging\n",
    "from telegram.ext import *\n",
    "import numpy as np\n",
    "import naas_drivers\n",
    "from datetime import datetime, timedelta"
   ]
  },
  {
   "cell_type": "code",
   "execution_count": 4,
   "metadata": {
    "execution": {
     "iopub.execute_input": "2021-07-23T13:26:33.838172Z",
     "iopub.status.busy": "2021-07-23T13:26:33.837875Z",
     "iopub.status.idle": "2021-07-23T13:26:33.843103Z",
     "shell.execute_reply": "2021-07-23T13:26:33.842467Z",
     "shell.execute_reply.started": "2021-07-23T13:26:33.838141Z"
    },
    "tags": []
   },
   "outputs": [
    {
     "name": "stderr",
     "output_type": "stream",
     "text": [
      "2021-07-23 15:26:33,839 - root - INFO - Starting Bot...\n"
     ]
    }
   ],
   "source": [
    "# Set up the logging\n",
    "logging.basicConfig(format='%(asctime)s - %(name)s - %(levelname)s - %(message)s', level=logging.INFO)\n",
    "logging.info('Starting Bot...')"
   ]
  },
  {
   "cell_type": "code",
   "execution_count": 6,
   "metadata": {
    "execution": {
     "iopub.execute_input": "2021-07-23T13:27:09.025343Z",
     "iopub.status.busy": "2021-07-23T13:27:09.025079Z",
     "iopub.status.idle": "2021-07-23T13:27:09.041455Z",
     "shell.execute_reply": "2021-07-23T13:27:09.040864Z",
     "shell.execute_reply.started": "2021-07-23T13:27:09.025319Z"
    },
    "tags": []
   },
   "outputs": [
    {
     "data": {
      "text/plain": [
       "<naas_drivers.input.newsapi.Newsapi at 0x7fa1e0060400>"
      ]
     },
     "execution_count": 6,
     "metadata": {},
     "output_type": "execute_result"
    }
   ],
   "source": [
    "#parameters for newsapi\n",
    "FROM_DATE = (datetime.now()-timedelta(days=1)).replace(microsecond=0).isoformat()\n",
    "TO_DATE = datetime.now().replace(microsecond=0).isoformat()\n",
    "\n",
    "#top marketcap coins\n",
    "coins= [\"bitcoin\",\"etherium\", \"ripple\",\"dogecoin\",\"cardano\", \n",
    "        \"polygon\",\"binance\",\"polkadot\",\"uniswap\",\"litecoin\",\n",
    "        \"chainlink\",\"solana\",\"stellar\"]\n",
    "\n",
    "#connect to Newsapi Naas drivers\n",
    "naas_drivers.newsapi.connect(NEWSAPI_API_KEY)\n",
    "naas_drivers.newsapi.connect()"
   ]
  },
  {
   "cell_type": "markdown",
   "metadata": {},
   "source": [
    "## Model"
   ]
  },
  {
   "cell_type": "code",
   "execution_count": 12,
   "metadata": {
    "execution": {
     "iopub.execute_input": "2021-07-23T13:28:53.509183Z",
     "iopub.status.busy": "2021-07-23T13:28:53.508958Z",
     "iopub.status.idle": "2021-07-23T13:28:53.514241Z",
     "shell.execute_reply": "2021-07-23T13:28:53.513678Z",
     "shell.execute_reply.started": "2021-07-23T13:28:53.509157Z"
    },
    "tags": []
   },
   "outputs": [],
   "source": [
    "#user_response\n",
    "def get_response(user_message):\n",
    "    \n",
    "    usr_msg_text = user_message.lower()\n",
    "    \n",
    "    if usr_msg_text in coins: #check if returned message has the top coins \n",
    "        data = naas_drivers.newsapi.get(q=usr_msg_text,\n",
    "                                       from_param=FROM_DATE,\n",
    "                                       to = TO_DATE,\n",
    "                                       language =\"en\")\n",
    "        if len(data)==0:#extra check to returned data\n",
    "            sentiment = \"no news for this ticker in last 24 hours, try another\"\n",
    "            return sentiment\n",
    "        else:\n",
    "            sentiment_df =  naas_drivers.sentiment.get(data, column_name=\"title\")#sentiment calculation\n",
    "            sentiment = sentiment_df[\"Score\"].mean()\n",
    "    else:\n",
    "        sentiment = 'There is no data for this ticker\\n use \\help command'\n",
    "    \n",
    "    return sentiment\n",
    "        "
   ]
  },
  {
   "cell_type": "code",
   "execution_count": 16,
   "metadata": {
    "execution": {
     "iopub.execute_input": "2021-07-23T13:34:23.922142Z",
     "iopub.status.busy": "2021-07-23T13:34:23.921920Z",
     "iopub.status.idle": "2021-07-23T13:34:23.927780Z",
     "shell.execute_reply": "2021-07-23T13:34:23.927291Z",
     "shell.execute_reply.started": "2021-07-23T13:34:23.922111Z"
    },
    "tags": []
   },
   "outputs": [],
   "source": [
    "#commands\n",
    "def start_command(update, context):\n",
    "    update.message.reply_text('''Hello there! I\\'m a crypto sentiment bot.\n",
    "    Send me the coin name, I\\'ll send you sentiment!''')\n",
    "\n",
    "\n",
    "def help_command(update, context):\n",
    "    update.message.reply_text('''check the coin names from the list below!\n",
    "    bitcoin\\n etherium\\n ripple\\n dogecoin\\n cardano\\n polygon\n",
    "    binance\\n polkadot\\n uniswap\\n litecoin\\n chainlink\\n solana\\n stellar''')\n",
    "\n",
    "#message handler\n",
    "def handle_message(update, context):\n",
    "    text = str(update.message.text).lower()\n",
    "    logging.info(f'User ({update.message.chat.id}) says: {text}')\n",
    "\n",
    "    # Bot response\n",
    "    sentiment_naas = get_response(text)\n",
    "    update.message.reply_text(sentiment_naas)\n",
    "\n",
    "#error logs\n",
    "def error(update, context):\n",
    "    # Logs errors\n",
    "    logging.error(f'Update {update} caused error {context.error}')\n",
    "\n",
    "\n"
   ]
  },
  {
   "cell_type": "code",
   "execution_count": null,
   "metadata": {
    "execution": {
     "iopub.execute_input": "2021-07-23T13:34:27.416178Z",
     "iopub.status.busy": "2021-07-23T13:34:27.415941Z"
    },
    "tags": []
   },
   "outputs": [
    {
     "name": "stderr",
     "output_type": "stream",
     "text": [
      "2021-07-23 15:34:27,418 - apscheduler.scheduler - INFO - Scheduler started\n",
      "2021-07-23 15:36:20,023 - telegram.ext.updater - INFO - Received signal 2 (SIGINT), stopping...\n",
      "2021-07-23 15:36:20,024 - apscheduler.scheduler - INFO - Scheduler has been shut down\n",
      "2021-07-23 15:36:21,843 - telegram.ext.updater - WARNING - Exiting immediately!\n"
     ]
    }
   ],
   "source": [
    "# Run the programme\n",
    "\n",
    "# create an object \"bot\"\n",
    "updater = Updater(TELEGRAM_API_KEY, use_context=True)\n",
    "dp = updater.dispatcher\n",
    "\n",
    "#  bot's command handlers\n",
    "dp.add_handler(CommandHandler('start', start_command))\n",
    "dp.add_handler(CommandHandler('help', help_command))\n",
    "\n",
    "# bot's text handlers \n",
    "dp.add_handler(MessageHandler(Filters.text, handle_message))\n",
    "\n",
    "# bot's error handler\n",
    "dp.add_error_handler(error)\n",
    "\n",
    "    \n",
    "# Run the bot\n",
    "updater.start_polling(1.0)\n",
    "updater.idle()"
   ]
  },
  {
   "cell_type": "markdown",
   "metadata": {},
   "source": [
    "## Output"
   ]
  },
  {
   "cell_type": "code",
   "execution_count": null,
   "metadata": {},
   "outputs": [],
   "source": []
  }
 ],
 "metadata": {
  "kernelspec": {
   "display_name": "Python 3",
   "language": "python",
   "name": "python3"
  },
  "language_info": {
   "codemirror_mode": {
    "name": "ipython",
    "version": 3
   },
   "file_extension": ".py",
   "mimetype": "text/x-python",
   "name": "python",
   "nbconvert_exporter": "python",
   "pygments_lexer": "ipython3",
   "version": "3.8.8"
  }
 },
 "nbformat": 4,
 "nbformat_minor": 4
}
