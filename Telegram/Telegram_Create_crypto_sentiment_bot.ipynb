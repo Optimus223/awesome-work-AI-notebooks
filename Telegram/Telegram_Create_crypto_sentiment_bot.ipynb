{
 "cells": [
  {
   "cell_type": "markdown",
   "id": "29cf9efd",
   "metadata": {
    "papermill": {},
    "tags": []
   },
   "source": [
    "# Telegram - Create crypto sentiment bot\n",
    "<a href=\"https://app.naas.ai/user-redirect/naas/downloader?url=https://raw.githubusercontent.com/jupyter-naas/awesome-notebooks/master/Telegram/Telegram_Create_crypto_sentiment_bot.ipynb\" target=\"_parent\"><img src=\"https://img.shields.io/badge/-Open%20in%20Naas-success?labelColor=000000&logo=data:image/svg+xml;base64,PD94bWwgdmVyc2lvbj0iMS4wIiBlbmNvZGluZz0iVVRGLTgiPz4KPHN2ZyB3aWR0aD0iMTAyNHB4IiBoZWlnaHQ9IjEwMjRweCIgdmlld0JveD0iMCAwIDEwMjQgMTAyNCIgeG1sbnM9Imh0dHA6Ly93d3cudzMub3JnLzIwMDAvc3ZnIiB4bWxuczp4bGluaz0iaHR0cDovL3d3dy53My5vcmcvMTk5OS94bGluayIgdmVyc2lvbj0iMS4xIj4KIDwhLS0gR2VuZXJhdGVkIGJ5IFBpeGVsbWF0b3IgUHJvIDIuMC41IC0tPgogPGRlZnM+CiAgPHRleHQgaWQ9InN0cmluZyIgdHJhbnNmb3JtPSJtYXRyaXgoMS4wIDAuMCAwLjAgMS4wIDIyOC4wIDU0LjUpIiBmb250LWZhbWlseT0iQ29tZm9ydGFhLVJlZ3VsYXIsIENvbWZvcnRhYSIgZm9udC1zaXplPSI4MDAiIHRleHQtZGVjb3JhdGlvbj0ibm9uZSIgZmlsbD0iI2ZmZmZmZiIgeD0iMS4xOTk5OTk5OTk5OTk5ODg2IiB5PSI3MDUuMCI+bjwvdGV4dD4KIDwvZGVmcz4KIDx1c2UgaWQ9Im4iIHhsaW5rOmhyZWY9IiNzdHJpbmciLz4KPC9zdmc+Cg==\"/></a>"
   ]
  },
  {
   "cell_type": "markdown",
   "id": "e7e55291",
   "metadata": {
    "papermill": {},
    "tags": []
   },
   "source": [
    "## Input"
   ]
  },
  {
   "cell_type": "markdown",
   "id": "8c094d5c",
   "metadata": {
    "papermill": {},
    "tags": []
   },
   "source": [
    "[Create a Telegram bot and get your API KEY](https://core.telegram.org/bots#6-botfather)"
   ]
  },
  {
   "cell_type": "code",
   "execution_count": 13,
   "id": "c68219cf",
   "metadata": {
    "execution": {
     "iopub.execute_input": "2021-07-08T08:31:42.607363Z",
     "iopub.status.busy": "2021-07-08T08:31:42.607133Z",
     "iopub.status.idle": "2021-07-08T08:31:42.610298Z",
     "shell.execute_reply": "2021-07-08T08:31:42.609726Z",
     "shell.execute_reply.started": "2021-07-08T08:31:42.607341Z"
    },
    "papermill": {},
    "tags": []
   },
   "outputs": [],
   "source": [
    "TELEGRAM_API_KEY = \"***********\""
   ]
  },
  {
   "cell_type": "markdown",
   "id": "fe787e81",
   "metadata": {
    "papermill": {},
    "tags": []
   },
   "source": [
    "[Get Newsapi API KEY](https://newsapi.org/)"
   ]
  },
  {
   "cell_type": "code",
   "execution_count": null,
   "id": "9d8d07c5",
   "metadata": {
    "papermill": {},
    "tags": []
   },
   "outputs": [],
   "source": [
    "NEWSAPI_API_KEY = \"************\""
   ]
  },
  {
   "cell_type": "markdown",
   "id": "164d590d",
   "metadata": {
    "papermill": {},
    "tags": []
   },
   "source": [
    "## Model"
   ]
  },
  {
   "cell_type": "code",
   "execution_count": 14,
   "id": "af524c76",
   "metadata": {
    "execution": {
     "iopub.execute_input": "2021-07-08T08:31:45.113120Z",
     "iopub.status.busy": "2021-07-08T08:31:45.112803Z",
     "iopub.status.idle": "2021-07-08T08:31:45.129447Z",
     "shell.execute_reply": "2021-07-08T08:31:45.124558Z",
     "shell.execute_reply.started": "2021-07-08T08:31:45.113085Z"
    },
    "papermill": {},
    "tags": []
   },
   "outputs": [],
   "source": [
    "import logging\n",
    "from telegram.ext import *\n",
    "import numpy as np\n",
    "import naas_drivers"
   ]
  },
  {
   "cell_type": "code",
   "execution_count": 16,
   "id": "dbf65fee",
   "metadata": {
    "execution": {
     "iopub.execute_input": "2021-07-08T08:31:50.573836Z",
     "iopub.status.busy": "2021-07-08T08:31:50.573471Z",
     "iopub.status.idle": "2021-07-08T08:31:50.577413Z",
     "shell.execute_reply": "2021-07-08T08:31:50.576804Z",
     "shell.execute_reply.started": "2021-07-08T08:31:50.573808Z"
    },
    "papermill": {},
    "tags": []
   },
   "outputs": [],
   "source": [
    "# Set up the logging\n",
    "logging.basicConfig(format='%(asctime)s - %(name)s - %(levelname)s - %(message)s', level=logging.INFO)\n",
    "logging.info('Starting Bot...')"
   ]
  },
  {
   "cell_type": "code",
   "execution_count": 15,
   "id": "8ec44938",
   "metadata": {
    "execution": {
     "iopub.execute_input": "2021-07-08T08:31:47.991971Z",
     "iopub.status.busy": "2021-07-08T08:31:47.991686Z",
     "iopub.status.idle": "2021-07-08T08:31:47.996518Z",
     "shell.execute_reply": "2021-07-08T08:31:47.995901Z",
     "shell.execute_reply.started": "2021-07-08T08:31:47.991941Z"
    },
    "papermill": {},
    "tags": []
   },
   "outputs": [],
   "source": [
    "#connect to Newsapi Naas drivers\n",
    "naas_drivers.newsapi.connect(NEWSAPI_API_KEY)\n",
    "naas_drivers.newsapi.connect()"
   ]
  },
  {
   "cell_type": "code",
   "execution_count": 17,
   "id": "5a7bd109",
   "metadata": {
    "execution": {
     "iopub.execute_input": "2021-07-08T08:31:55.351821Z",
     "iopub.status.busy": "2021-07-08T08:31:55.351539Z",
     "iopub.status.idle": "2021-07-08T08:31:55.359187Z",
     "shell.execute_reply": "2021-07-08T08:31:55.358614Z",
     "shell.execute_reply.started": "2021-07-08T08:31:55.351792Z"
    },
    "papermill": {},
    "tags": []
   },
   "outputs": [],
   "source": [
    "#user_response\n",
    "def get_response(user_message):\n",
    "    \n",
    "    usr_msg_text = user_message.lower()\n",
    "    \n",
    "    if usr_msg_text in [\"bitcoin\",\"etherium\", \"ripple\",\"dogecoin\",\"cardano\", \"polygon\"]:\n",
    "        data = naas_drivers.newsapi.get(usr_msg_text)\n",
    "        sentiment =  naas_drivers.sentiment_analysis.calculate(data, column_name=\"title\")\n",
    "    else:\n",
    "        sentiment = 'There is no data for this ticker\\n use \\help command '\n",
    "    \n",
    "    return sentiment\n",
    "        "
   ]
  },
  {
   "cell_type": "code",
   "execution_count": 18,
   "id": "c461f157",
   "metadata": {
    "execution": {
     "iopub.execute_input": "2021-07-08T08:31:59.211506Z",
     "iopub.status.busy": "2021-07-08T08:31:59.211281Z",
     "iopub.status.idle": "2021-07-08T08:31:59.215594Z",
     "shell.execute_reply": "2021-07-08T08:31:59.214969Z",
     "shell.execute_reply.started": "2021-07-08T08:31:59.211482Z"
    },
    "papermill": {},
    "tags": []
   },
   "outputs": [],
   "source": [
    "#commands\n",
    "def start_command(update, context):\n",
    "    update.message.reply_text('Hello there! I\\'m a crypto sentiment bot. send me the coin name, I\\'ll send you sentiment!')\n",
    "\n",
    "\n",
    "def help_command(update, context):\n",
    "    update.message.reply_text('check the coin names from the list below!\\n bitcoin\\n etherium \\n ripple\\n dogecoin\\n cardano\\n polygon\\n')\n",
    "\n",
    "#message handler\n",
    "def handle_message(update, context):\n",
    "    text = str(update.message.text).lower()\n",
    "    logging.info(f'User ({update.message.chat.id}) says: {text}')\n",
    "\n",
    "    # Bot response\n",
    "    sentiment_naas = get_response(text)\n",
    "    update.message.reply_text(sentiment_naas)\n",
    "\n",
    "#error logs\n",
    "def error(update, context):\n",
    "    # Logs errors\n",
    "    logging.error(f'Update {update} caused error {context.error}')\n",
    "\n",
    "\n"
   ]
  },
  {
   "cell_type": "code",
   "execution_count": null,
   "id": "41f91916",
   "metadata": {
    "execution": {
     "iopub.execute_input": "2021-07-08T08:32:05.783871Z",
     "iopub.status.busy": "2021-07-08T08:32:05.783594Z"
    },
    "papermill": {},
    "tags": []
   },
   "outputs": [],
   "source": [
    "# Run the programme\n",
    "if __name__ == '__main__':\n",
    "    # create an object \"bot\"\n",
    "    updater = Updater(API_KEY, use_context=True)\n",
    "    dp = updater.dispatcher\n",
    "\n",
    "    #  bot's command handlers\n",
    "    dp.add_handler(CommandHandler('start', start_command))\n",
    "    dp.add_handler(CommandHandler('help', help_command))\n",
    "\n",
    "    # bot's text handlers \n",
    "    dp.add_handler(MessageHandler(Filters.text, handle_message))\n",
    "\n",
    "    # bot's error handler\n",
    "    dp.add_error_handler(error)\n",
    "\n",
    "    # Run the bot\n",
    "    updater.start_polling(1.0)\n",
    "    updater.idle()"
   ]
  },
  {
   "cell_type": "markdown",
   "id": "e8e206ce",
   "metadata": {
    "papermill": {},
    "tags": []
   },
   "source": [
    "## Output"
   ]
  },
  {
   "cell_type": "code",
   "execution_count": null,
   "id": "e368743b",
   "metadata": {
    "papermill": {},
    "tags": []
   },
   "outputs": [],
   "source": []
  }
 ],
 "metadata": {
  "kernelspec": {
   "display_name": "Python 3",
   "language": "python",
   "name": "python3"
  },
  "language_info": {
   "codemirror_mode": {
    "name": "ipython",
    "version": 3
   },
   "file_extension": ".py",
   "mimetype": "text/x-python",
   "name": "python",
   "nbconvert_exporter": "python",
   "pygments_lexer": "ipython3",
   "version": "3.8.8"
  },
  "papermill": {
   "default_parameters": {},
   "environment_variables": {},
   "parameters": {},
   "version": "2.3.3"
  }
 },
 "nbformat": 4,
 "nbformat_minor": 5
}