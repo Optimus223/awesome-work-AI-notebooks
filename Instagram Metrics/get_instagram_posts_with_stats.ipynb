{
 "cells": [
  {
   "cell_type": "markdown",
   "metadata": {},
   "source": [
    "# Instagram - Get Metrics Data\n"
   ]
  },
  {
   "cell_type": "markdown",
   "metadata": {},
   "source": [
    "# Input\n"
   ]
  },
  {
   "cell_type": "markdown",
   "metadata": {},
   "source": [
    "Import Librairies\n"
   ]
  },
  {
   "cell_type": "code",
   "execution_count": 3,
   "metadata": {},
   "outputs": [],
   "source": [
    "import requests\n",
    "import json\n",
    "import datetime\n",
    "import pandas as pd\n"
   ]
  },
  {
   "cell_type": "code",
   "execution_count": 4,
   "metadata": {},
   "outputs": [],
   "source": [
    "\"\"\"[Define Parameters Dictionary]\n",
    "    - Access_token: short-lived access token that we got directly before we start writing our code\n",
    "    - Client_id: App ID from Settings\n",
    "    - Client_secret: App Secret from Settings\n",
    "    - Page_id: Facebook Page ID from your business page’s ‘About’ tab\n",
    "    - Instagram_account_id: shown during confirmation to generate token process\n",
    "\"\"\"\n",
    "\n",
    "params = dict()\n",
    "params['access_token'] = 'EAAJNAuEtwdYBADj9ZB6zNAbsJq7yjFUtKmVAfdeQJ3gl3IWmWoZCAfXJ5IFydVL5ml70pAFU4IAy4G2vWmv3bjR6EuFFqgyTZAqGMqrWwWXpzJqt6XeRxSLPo50bf9lTIs6muTQjUevvZAoJhjSqk4hyfH9EJ4JB5f740QEDMaYpPMBlwA4AD6iISXM08Gl9UsVQDpMEepkrYeO1HZAGd'        \n",
    "params['client_id'] = '647624716566998'\n",
    "params['client_secret'] = '7686b1c3f74ac4e42b94f9d4f88e72bf'\n",
    "params['graph_domain'] = 'https://graph.facebook.com'\n",
    "params['graph_version'] = 'v13.0'\n",
    "params['endpoint_base'] = params['graph_domain'] + \\\n",
    "    '/' + params['graph_version'] + '/'\n",
    "params['page_id'] = '359884431085788'                  \n",
    "params['instagram_account_id'] = '17841407472983729'\n",
    "params['ig_username'] = 'bildersisetrades'"
   ]
  },
  {
   "cell_type": "markdown",
   "metadata": {},
   "source": [
    "Check expiration date of your token\n"
   ]
  },
  {
   "cell_type": "code",
   "execution_count": 10,
   "metadata": {},
   "outputs": [
    {
     "name": "stdout",
     "output_type": "stream",
     "text": [
      "Token Expires:  2022-02-10 15:00:00\n"
     ]
    }
   ],
   "source": [
    "# Define Endpoint Parameters\n",
    "endpointParams = dict()\n",
    "endpointParams['input_token'] = params['access_token']\n",
    "endpointParams['access_token'] = params['access_token']\n",
    "\n",
    "# Define URL\n",
    "url = params['graph_domain'] + '/debug_token'\n",
    "# Requests Data\n",
    "try:\n",
    "    data = requests.get(url, endpointParams)\n",
    "    access_token_data = json.loads(data.content)\n",
    "    \n",
    "except Exception as err:\n",
    "    print(err)\n",
    "\n",
    "\n",
    "print(\"Token Expires: \", datetime.datetime.fromtimestamp(\n",
    "    access_token_data['data']['expires_at']))\n"
   ]
  },
  {
   "cell_type": "markdown",
   "metadata": {},
   "source": [
    "# Model\n",
    "Get list of posts and associated stats"
   ]
  },
  {
   "cell_type": "code",
   "execution_count": 11,
   "metadata": {},
   "outputs": [],
   "source": [
    "# Define URL\n",
    "url = params['endpoint_base'] + params['instagram_account_id'] + '/media'\n",
    "\n",
    "# Define Endpoint Parameters\n",
    "endpointParams = dict()\n",
    "endpointParams['fields'] = 'id,caption,media_type,media_url,permalink,thumbnail_url,timestamp,username,like_count,comments_count'\n",
    "endpointParams['access_token'] = params['access_token']\n",
    "\n",
    "# Requests Data\n",
    "data = requests.get(url, endpointParams)\n",
    "basic_insight = json.loads(data.content)\n"
   ]
  },
  {
   "cell_type": "markdown",
   "metadata": {},
   "source": [
    "# Output\n"
   ]
  },
  {
   "cell_type": "code",
   "execution_count": 8,
   "metadata": {},
   "outputs": [
    {
     "data": {
      "text/html": [
       "<div>\n",
       "<style scoped>\n",
       "    .dataframe tbody tr th:only-of-type {\n",
       "        vertical-align: middle;\n",
       "    }\n",
       "\n",
       "    .dataframe tbody tr th {\n",
       "        vertical-align: top;\n",
       "    }\n",
       "\n",
       "    .dataframe thead th {\n",
       "        text-align: right;\n",
       "    }\n",
       "</style>\n",
       "<table border=\"1\" class=\"dataframe\">\n",
       "  <thead>\n",
       "    <tr style=\"text-align: right;\">\n",
       "      <th></th>\n",
       "      <th>id</th>\n",
       "      <th>Caption</th>\n",
       "      <th>Media_Type</th>\n",
       "      <th>Media_URL</th>\n",
       "      <th>Permalink</th>\n",
       "      <th>Timestamp</th>\n",
       "      <th>Username</th>\n",
       "      <th>Likes</th>\n",
       "      <th>Comments</th>\n",
       "    </tr>\n",
       "  </thead>\n",
       "  <tbody>\n",
       "    <tr>\n",
       "      <th>0</th>\n",
       "      <td>17934924637074483</td>\n",
       "      <td>❤❤</td>\n",
       "      <td>IMAGE</td>\n",
       "      <td>https://scontent.cdninstagram.com/v/t51.2885-1...</td>\n",
       "      <td>https://www.instagram.com/p/BiWM5pBjvpm/</td>\n",
       "      <td>2018-05-04T07:19:40+0000</td>\n",
       "      <td>bildersisetrades</td>\n",
       "      <td>5</td>\n",
       "      <td>0</td>\n",
       "    </tr>\n",
       "    <tr>\n",
       "      <th>1</th>\n",
       "      <td>17927617594115055</td>\n",
       "      <td>Bilders Iset Rades ❤\\n#Today_aBilder_tomorrow_...</td>\n",
       "      <td>IMAGE</td>\n",
       "      <td>https://scontent.cdninstagram.com/v/t51.2885-1...</td>\n",
       "      <td>https://www.instagram.com/p/BiFuxVSDdf4/</td>\n",
       "      <td>2018-04-27T21:48:32+0000</td>\n",
       "      <td>bildersisetrades</td>\n",
       "      <td>6</td>\n",
       "      <td>2</td>\n",
       "    </tr>\n",
       "  </tbody>\n",
       "</table>\n",
       "</div>"
      ],
      "text/plain": [
       "                  id                                            Caption  \\\n",
       "0  17934924637074483                                                 ❤❤   \n",
       "1  17927617594115055  Bilders Iset Rades ❤\\n#Today_aBilder_tomorrow_...   \n",
       "\n",
       "  Media_Type                                          Media_URL  \\\n",
       "0      IMAGE  https://scontent.cdninstagram.com/v/t51.2885-1...   \n",
       "1      IMAGE  https://scontent.cdninstagram.com/v/t51.2885-1...   \n",
       "\n",
       "                                  Permalink                 Timestamp  \\\n",
       "0  https://www.instagram.com/p/BiWM5pBjvpm/  2018-05-04T07:19:40+0000   \n",
       "1  https://www.instagram.com/p/BiFuxVSDdf4/  2018-04-27T21:48:32+0000   \n",
       "\n",
       "           Username  Likes  Comments  \n",
       "0  bildersisetrades      5         0  \n",
       "1  bildersisetrades      6         2  "
      ]
     },
     "execution_count": 8,
     "metadata": {},
     "output_type": "execute_result"
    }
   ],
   "source": [
    "df = pd.DataFrame(basic_insight['data'])\n",
    "df.columns = ['id', 'Caption', 'Media_Type', 'Media_URL',\n",
    "              'Permalink', 'Timestamp', 'Username', 'Likes', 'Comments']\n",
    "df.head()\n"
   ]
  },
  {
   "cell_type": "code",
   "execution_count": null,
   "metadata": {},
   "outputs": [],
   "source": []
  }
 ],
 "metadata": {
  "interpreter": {
   "hash": "e534e48711db4d1e1c48977d0d14ff85b1f16d41bcc4fdfd88268a329b3c9d66"
  },
  "kernelspec": {
   "display_name": "Python 3.7.9 64-bit",
   "language": "python",
   "name": "python3"
  },
  "language_info": {
   "codemirror_mode": {
    "name": "ipython",
    "version": 3
   },
   "file_extension": ".py",
   "mimetype": "text/x-python",
   "name": "python",
   "nbconvert_exporter": "python",
   "pygments_lexer": "ipython3",
   "version": "3.7.9"
  },
  "orig_nbformat": 4
 },
 "nbformat": 4,
 "nbformat_minor": 2
}
