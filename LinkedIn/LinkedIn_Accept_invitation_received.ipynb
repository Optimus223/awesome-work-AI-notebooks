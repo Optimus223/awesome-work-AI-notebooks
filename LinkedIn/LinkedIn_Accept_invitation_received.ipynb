{
 "cells": [
  {
   "cell_type": "markdown",
   "id": "c706722a",
   "metadata": {},
   "source": [
    "<img width=\"10%\" alt=\"Naas\" src=\"https://landen.imgix.net/jtci2pxwjczr/assets/5ice39g4.png?w=160\"/>\n"
   ]
  },
  {
   "cell_type": "markdown",
   "id": "3cf2d443",
   "metadata": {},
   "source": [
    "# LinkedIn - Accept invitation received"
   ]
  },
  {
   "cell_type": "markdown",
   "id": "1f9921af",
   "metadata": {},
   "source": [
    "**Tags:** #linkedin #content #operations #snippet #invitation"
   ]
  },
  {
   "cell_type": "markdown",
   "id": "a51124f7",
   "metadata": {},
   "source": [
    "**Author:** [Florent Ravenel](https://www.linkedin.com/in/ACoAABCNSioBW3YZHc2lBHVG0E_TXYWitQkmwog/)"
   ]
  },
  {
   "cell_type": "markdown",
   "id": "9c4c87e0-c6a0-4c03-82ca-fe6962f7a110",
   "metadata": {},
   "source": [
    "In this notebook, you will be able to accept an invitation received"
   ]
  },
  {
   "cell_type": "markdown",
   "id": "ce6f8812",
   "metadata": {},
   "source": [
    "## Input"
   ]
  },
  {
   "cell_type": "markdown",
   "id": "51403d71",
   "metadata": {},
   "source": [
    "### Import libraries\n"
   ]
  },
  {
   "cell_type": "code",
   "execution_count": null,
   "id": "8adb0287",
   "metadata": {
    "tags": []
   },
   "outputs": [],
   "source": [
    "from naas_drivers import linkedin\n",
    "import pandas as pd"
   ]
  },
  {
   "cell_type": "markdown",
   "id": "5f360f35",
   "metadata": {},
   "source": [
    "### Setup LinkedIn\n",
    "\n",
    "- [Get your cookies](/d20a8e7e508e42af8a5b52e33f3dba75)"
   ]
  },
  {
   "cell_type": "code",
   "execution_count": null,
   "id": "b3534087",
   "metadata": {
    "tags": []
   },
   "outputs": [],
   "source": [
    "# Lindekin cookies\n",
    "LI_AT = \"AQEDARCNSioDe6wmAAABfqF-HR4AAAF-xYqhHlYAtSu7EZZEpFer0UZF-GLuz2DNSz4asOOyCRxPGFjenv37irMObYYgxxxxxxx\"\n",
    "JSESSIONID = \"ajax:12XXXXXXXXXXXXXXXXX\""
   ]
  },
  {
   "cell_type": "markdown",
   "id": "bd4787d3",
   "metadata": {},
   "source": [
    "### Get invitations"
   ]
  },
  {
   "cell_type": "code",
   "execution_count": null,
   "id": "8b876f0b",
   "metadata": {
    "tags": []
   },
   "outputs": [],
   "source": [
    "df_invitation = linkedin.connect(LI_AT, JSESSIONID).invitation.get()\n",
    "df_invitation"
   ]
  },
  {
   "cell_type": "markdown",
   "id": "7818df12-d966-48be-b0e4-4ada96969395",
   "metadata": {
    "execution": {
     "iopub.execute_input": "2022-04-05T08:43:11.936844Z",
     "iopub.status.busy": "2022-04-05T08:43:11.936594Z",
     "iopub.status.idle": "2022-04-05T08:43:11.939984Z",
     "shell.execute_reply": "2022-04-05T08:43:11.939376Z",
     "shell.execute_reply.started": "2022-04-05T08:43:11.936819Z"
    },
    "tags": []
   },
   "source": [
    "### Setup invitation id and shared secret"
   ]
  },
  {
   "cell_type": "code",
   "execution_count": null,
   "id": "6b8daaac-2e08-42f3-b503-9824643c0568",
   "metadata": {
    "tags": []
   },
   "outputs": [],
   "source": [
    "# Value in column \"INVITATION_ID\"\n",
    "invitation_id = \"691596420000000000\"\n",
    "\n",
    "# Value in column \"SHARED_SECRET\"\n",
    "shared_secret = \"6xubdsfs\"\n",
    "\n",
    "# If \"INVITATION_TYPE\" is \"Profile\" then False else True\n",
    "is_generic = False"
   ]
  },
  {
   "cell_type": "markdown",
   "id": "502127ba",
   "metadata": {},
   "source": [
    "## Model"
   ]
  },
  {
   "cell_type": "markdown",
   "id": "3c213178",
   "metadata": {},
   "source": [
    "### Accept invitation received"
   ]
  },
  {
   "cell_type": "code",
   "execution_count": null,
   "id": "4f3d451f",
   "metadata": {
    "tags": []
   },
   "outputs": [],
   "source": [
    "result = linkedin.connect(LI_AT, JSESSIONID).invitation.accept(invitation_id, shared_secret, is_generic)"
   ]
  },
  {
   "cell_type": "markdown",
   "id": "84cfe026",
   "metadata": {},
   "source": [
    "## Output\n"
   ]
  },
  {
   "cell_type": "markdown",
   "id": "bff86ffb-4d1f-41f9-ba8f-6db728fc968e",
   "metadata": {},
   "source": [
    "### Display result"
   ]
  },
  {
   "cell_type": "code",
   "execution_count": null,
   "id": "41478727-bdc3-4a0d-96d1-25586c1a8b9f",
   "metadata": {},
   "outputs": [],
   "source": [
    "result"
   ]
  }
 ],
 "metadata": {
  "kernelspec": {
   "display_name": "Python 3",
   "language": "python",
   "name": "python3"
  },
  "language_info": {
   "codemirror_mode": {
    "name": "ipython",
    "version": 3
   },
   "file_extension": ".py",
   "mimetype": "text/x-python",
   "name": "python",
   "nbconvert_exporter": "python",
   "pygments_lexer": "ipython3",
   "version": "3.9.6"
  }
 },
 "nbformat": 4,
 "nbformat_minor": 5
}
