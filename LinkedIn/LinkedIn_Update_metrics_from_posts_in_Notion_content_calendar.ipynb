{
 "cells": [
  {
   "cell_type": "code",
   "execution_count": 1,
   "id": "f6dbfe61",
   "metadata": {},
   "outputs": [],
   "source": [
    "import os\n",
    "import json\n",
    "from naas_drivers import notion\n",
    "import pandas as pd\n",
    "import naas"
   ]
  },
  {
   "cell_type": "code",
   "execution_count": 2,
   "id": "18b31634",
   "metadata": {},
   "outputs": [],
   "source": [
    "# Input\n",
    "notion_database = 'https://www.notion.so/naas-official/b75fca2e4704433a8fc914032e089054?v=376dd88315454e89bf128433e7ae0420'\n",
    "NOTION_TOKEN = naas.secret.get(\"NOTION_TOKEN\")"
   ]
  },
  {
   "cell_type": "code",
   "execution_count": 3,
   "id": "6c9dde53",
   "metadata": {},
   "outputs": [],
   "source": [
    "def get_notion_df(notion_database):\n",
    "    database_id = notion_database.split(\"/\")[-1].split(\"?v=\")[0]\n",
    "    pages = notion.connect(NOTION_TOKEN).database.query(database_id, query={})\n",
    "    print(\"📊 Pages in Notion DB:\", len(pages))\n",
    "\n",
    "    columns = pages[0].df().Name.tolist()\n",
    "    df = pd.DataFrame()\n",
    "\n",
    "    for page in pages:\n",
    "        values = page.df().drop(\"Type\", axis=1).to_dict().get(\"Value\")\n",
    "        tmp_df = pd.DataFrame([values])\n",
    "        df = pd.concat([df, tmp_df])\n",
    "\n",
    "    # Rename columns\n",
    "    to_rename = {}\n",
    "    for i, v in enumerate(columns):\n",
    "        to_rename[i] = v\n",
    "\n",
    "    df = df.rename(columns=to_rename)\n",
    "    \n",
    "    # Filter on active notebooks\n",
    "    df = df[df[\"Active\"].astype(str) == \"True\"]\n",
    "    print(\"Current notebooks:\", len(df))\n",
    "    return df\n",
    "\n",
    "df_notion = get_notion_df(notion_database)\n",
    "df_notion"
   ]
  },
  {
   "cell_type": "code",
   "execution_count": 4,
   "id": "840c85ee",
   "metadata": {},
   "outputs": [],
   "source": [
    "# Input\n",
    "notion_database = 'https://www.notion.so/naas-official/b75fca2e4704433a8fc914032e089054?v=376dd88315454e89bf128433e7ae0420'\n",
    "NOTION_TOKEN = naas.secret.get(\"NOTION_TOKEN\")"
   ]
  },
  {
   "cell_type": "code",
   "execution_count": 5,
   "id": "a858c132",
   "metadata": {},
   "outputs": [],
   "source": [
    "def get_notion_df(notion_database):\n",
    "    database_id = notion_database.split(\"/\")[-1].split(\"?v=\")[0]\n",
    "    pages = notion.connect(NOTION_TOKEN).database.query(database_id, query={})\n",
    "    print(\"📊 Pages in Notion DB:\", len(pages))\n",
    "\n",
    "    columns = pages[0].df().Name.tolist()\n",
    "    df = pd.DataFrame()\n",
    "\n",
    "    for page in pages:\n",
    "        values = page.df().drop(\"Type\", axis=1).to_dict().get(\"Value\")\n",
    "        tmp_df = pd.DataFrame([values])\n",
    "        df = pd.concat([df, tmp_df])\n",
    "\n",
    "    # Rename columns\n",
    "    to_rename = {}\n",
    "    for i, v in enumerate(columns):\n",
    "        to_rename[i] = v\n",
    "\n",
    "    df = df.rename(columns=to_rename)\n",
    "    \n",
    "    # Filter on active notebooks\n",
    "    df = df[df[\"Active\"].astype(str) == \"True\"]\n",
    "    print(\"Current notebooks:\", len(df))\n",
    "    return df\n",
    "\n",
    "df_notion = get_notion_df(notion_database)\n",
    "df_notion"
   ]
  },
  {
   "cell_type": "code",
   "execution_count": 6,
   "id": "41bf7822",
   "metadata": {},
   "outputs": [],
   "source": [
    "import os\n",
    "import json\n",
    "from naas_drivers import notion\n",
    "import pandas as pd\n",
    "import naas"
   ]
  },
  {
   "cell_type": "code",
   "execution_count": 7,
   "id": "94fb6cd4",
   "metadata": {},
   "outputs": [],
   "source": [
    "# Input\n",
    "notion_database = 'https://www.notion.so/naas-official/b75fca2e4704433a8fc914032e089054?v=376dd88315454e89bf128433e7ae0420'\n",
    "NOTION_TOKEN = naas.secret.get(\"NOTION_TOKEN\")"
   ]
  },
  {
   "cell_type": "code",
   "execution_count": 8,
   "id": "1cbe1b2b",
   "metadata": {},
   "outputs": [],
   "source": [
    "def get_notion_df(notion_database):\n",
    "    database_id = notion_database.split(\"/\")[-1].split(\"?v=\")[0]\n",
    "    pages = notion.connect(NOTION_TOKEN).database.query(database_id, query={})\n",
    "    print(\"📊 Pages in Notion DB:\", len(pages))\n",
    "\n",
    "    columns = pages[0].df().Name.tolist()\n",
    "    df = pd.DataFrame()\n",
    "\n",
    "    for page in pages:\n",
    "        values = page.df().drop(\"Type\", axis=1).to_dict().get(\"Value\")\n",
    "        tmp_df = pd.DataFrame([values])\n",
    "        df = pd.concat([df, tmp_df])\n",
    "\n",
    "    # Rename columns\n",
    "    to_rename = {}\n",
    "    for i, v in enumerate(columns):\n",
    "        to_rename[i] = v\n",
    "\n",
    "    df = df.rename(columns=to_rename)\n",
    "    \n",
    "    # Filter on active notebooks\n",
    "    df = df[df[\"Active\"].astype(str) == \"True\"]\n",
    "    print(\"Current notebooks:\", len(df))\n",
    "    return df\n",
    "\n",
    "df_notion = get_notion_df(notion_database)\n",
    "df_notion"
   ]
  },
  {
   "cell_type": "code",
   "execution_count": 9,
   "id": "128ed79e",
   "metadata": {},
   "outputs": [],
   "source": [
    "def add_notebook_tags(cell, notebook_path):\n",
    "    new_tags = [f\"awesome-notebooks/{notebook_path}\"]\n",
    "    tags = cell.get('metadata').get('tags')\n",
    "    if len(tags) == 0:\n",
    "        tags = new_tags\n",
    "    else:\n",
    "        tags += new_tags\n",
    "    cell[\"metadata\"][\"tags\"] = tags\n",
    "    return cell"
   ]
  }
 ],
 "metadata": {},
 "nbformat": 4,
 "nbformat_minor": 5
}
