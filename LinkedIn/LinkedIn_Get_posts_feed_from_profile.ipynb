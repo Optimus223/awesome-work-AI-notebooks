{
 "cells": [
  {
   "cell_type": "markdown",
   "id": "recreational-precipitation",
   "metadata": {
    "execution": {
     "iopub.execute_input": "2021-01-25T08:00:35.294800Z",
     "iopub.status.busy": "2021-01-25T08:00:35.294557Z",
     "iopub.status.idle": "2021-01-25T08:00:35.307281Z",
     "shell.execute_reply": "2021-01-25T08:00:35.306468Z",
     "shell.execute_reply.started": "2021-01-25T08:00:35.294775Z"
    },
    "papermill": {},
    "tags": []
   },
   "source": [
    "<img width=\"10%\" alt=\"Naas\" src=\"https://landen.imgix.net/jtci2pxwjczr/assets/5ice39g4.png?w=160\"/>"
   ]
  },
  {
   "cell_type": "markdown",
   "id": "anticipated-teach",
   "metadata": {
    "papermill": {},
    "tags": []
   },
   "source": [
    "# LinkedIn - Get posts feed from profile\n",
    "<a href=\"https://app.naas.ai/user-redirect/naas/downloader?url=https://raw.githubusercontent.com/jupyter-naas/awesome-notebooks/master/LinkedIn/LinkedIn_Get_posts_stats_from_profile.ipynb\" target=\"_parent\"><img src=\"https://img.shields.io/badge/-Open%20in%20Naas-success?labelColor=000000&logo=data:image/svg+xml;base64,PD94bWwgdmVyc2lvbj0iMS4wIiBlbmNvZGluZz0iVVRGLTgiPz4KPHN2ZyB3aWR0aD0iMTAyNHB4IiBoZWlnaHQ9IjEwMjRweCIgdmlld0JveD0iMCAwIDEwMjQgMTAyNCIgeG1sbnM9Imh0dHA6Ly93d3cudzMub3JnLzIwMDAvc3ZnIiB4bWxuczp4bGluaz0iaHR0cDovL3d3dy53My5vcmcvMTk5OS94bGluayIgdmVyc2lvbj0iMS4xIj4KIDwhLS0gR2VuZXJhdGVkIGJ5IFBpeGVsbWF0b3IgUHJvIDIuMC41IC0tPgogPGRlZnM+CiAgPHRleHQgaWQ9InN0cmluZyIgdHJhbnNmb3JtPSJtYXRyaXgoMS4wIDAuMCAwLjAgMS4wIDIyOC4wIDU0LjUpIiBmb250LWZhbWlseT0iQ29tZm9ydGFhLVJlZ3VsYXIsIENvbWZvcnRhYSIgZm9udC1zaXplPSI4MDAiIHRleHQtZGVjb3JhdGlvbj0ibm9uZSIgZmlsbD0iI2ZmZmZmZiIgeD0iMS4xOTk5OTk5OTk5OTk5ODg2IiB5PSI3MDUuMCI+bjwvdGV4dD4KIDwvZGVmcz4KIDx1c2UgaWQ9Im4iIHhsaW5rOmhyZWY9IiNzdHJpbmciLz4KPC9zdmc+Cg==\"/></a>"
   ]
  },
  {
   "cell_type": "markdown",
   "id": "6f9a2cbe-a573-488b-88aa-c505a38b3ef5",
   "metadata": {
    "papermill": {},
    "tags": []
   },
   "source": [
    "**Tags:** #linkedin #profile #post #stats #naas_drivers"
   ]
  },
  {
   "cell_type": "markdown",
   "id": "attractive-bandwidth",
   "metadata": {
    "papermill": {},
    "tags": []
   },
   "source": [
    "## Input"
   ]
  },
  {
   "cell_type": "markdown",
   "id": "import_cell",
   "metadata": {
    "papermill": {},
    "tags": []
   },
   "source": [
    "### Import library"
   ]
  },
  {
   "cell_type": "code",
   "execution_count": 1,
   "id": "dangerous-christianity",
   "metadata": {
    "execution": {
     "iopub.execute_input": "2022-01-24T11:25:22.807648Z",
     "iopub.status.busy": "2022-01-24T11:25:22.807148Z",
     "iopub.status.idle": "2022-01-24T11:25:23.462762Z",
     "shell.execute_reply": "2022-01-24T11:25:23.462187Z",
     "shell.execute_reply.started": "2022-01-24T11:25:22.807567Z"
    },
    "papermill": {},
    "tags": []
   },
   "outputs": [],
   "source": [
    "from naas_drivers import linkedin"
   ]
  },
  {
   "cell_type": "markdown",
   "id": "quiet-founder",
   "metadata": {
    "papermill": {},
    "tags": []
   },
   "source": [
    "### Get your cookies\n",
    "<a href='https://www.notion.so/LinkedIn-driver-Get-your-cookies-d20a8e7e508e42af8a5b52e33f3dba75'>How to get your cookies ?</a>"
   ]
  },
  {
   "cell_type": "code",
   "execution_count": 2,
   "id": "classical-necklace",
   "metadata": {
    "execution": {
     "iopub.execute_input": "2022-01-24T11:25:23.464322Z",
     "iopub.status.busy": "2022-01-24T11:25:23.464088Z",
     "iopub.status.idle": "2022-01-24T11:25:23.468900Z",
     "shell.execute_reply": "2022-01-24T11:25:23.468279Z",
     "shell.execute_reply.started": "2022-01-24T11:25:23.464294Z"
    },
    "papermill": {},
    "tags": []
   },
   "outputs": [],
   "source": [
    "LI_AT = 'YOUR_COOKIE_LI_AT'  # EXAMPLE AQFAzQN_PLPR4wAAAXc-FCKmgiMit5FLdY1af3-2\n",
    "JSESSIONID = 'YOUR_COOKIE_JSESSIONID'  # EXAMPLE ajax:8379907400220387585"
   ]
  },
  {
   "cell_type": "code",
   "execution_count": 3,
   "id": "5741d229-7437-4de3-b04c-709d5fc44c54",
   "metadata": {
    "execution": {
     "iopub.execute_input": "2022-01-24T11:25:23.470644Z",
     "iopub.status.busy": "2022-01-24T11:25:23.470228Z",
     "iopub.status.idle": "2022-01-24T11:25:24.980042Z",
     "shell.execute_reply": "2022-01-24T11:25:24.979325Z",
     "shell.execute_reply.started": "2022-01-24T11:25:23.470613Z"
    },
    "tags": []
   },
   "outputs": [],
   "source": [
    "import naas\n",
    "# Lindekin cookies\n",
    "LI_AT = naas.secret.get(\"JRV_LI_AT\")\n",
    "JSESSIONID = naas.secret.get(\"JRV_JSESSIONID\")"
   ]
  },
  {
   "cell_type": "markdown",
   "id": "ambient-shanghai",
   "metadata": {
    "papermill": {},
    "tags": []
   },
   "source": [
    "### Enter profile URL"
   ]
  },
  {
   "cell_type": "code",
   "execution_count": 4,
   "id": "consolidated-haiti",
   "metadata": {
    "execution": {
     "iopub.execute_input": "2022-01-24T11:25:24.981560Z",
     "iopub.status.busy": "2022-01-24T11:25:24.981149Z",
     "iopub.status.idle": "2022-01-24T11:25:24.996780Z",
     "shell.execute_reply": "2022-01-24T11:25:24.984839Z",
     "shell.execute_reply.started": "2022-01-24T11:25:24.981529Z"
    },
    "papermill": {},
    "tags": []
   },
   "outputs": [],
   "source": [
    "PROFILE_URL = \"PROFILE_URL\""
   ]
  },
  {
   "cell_type": "code",
   "execution_count": 5,
   "id": "711a2d72-2d94-428c-a1f5-473a0093dc0e",
   "metadata": {
    "execution": {
     "iopub.execute_input": "2022-01-24T11:25:24.999287Z",
     "iopub.status.busy": "2022-01-24T11:25:24.999083Z",
     "iopub.status.idle": "2022-01-24T11:25:25.087730Z",
     "shell.execute_reply": "2022-01-24T11:25:25.084563Z",
     "shell.execute_reply.started": "2022-01-24T11:25:24.999262Z"
    }
   },
   "outputs": [],
   "source": [
    "PROFILE_URL = \"https://www.linkedin.com/in/j%C3%A9r%C3%A9my-ravenel-8a396910\""
   ]
  },
  {
   "cell_type": "markdown",
   "id": "polished-prior",
   "metadata": {
    "papermill": {},
    "tags": []
   },
   "source": [
    "## Model"
   ]
  },
  {
   "cell_type": "markdown",
   "id": "7298f063-3ea6-464b-a3ef-ee158e584f5b",
   "metadata": {
    "execution": {
     "iopub.execute_input": "2022-01-24T11:24:35.716122Z",
     "iopub.status.busy": "2022-01-24T11:24:35.715845Z",
     "iopub.status.idle": "2022-01-24T11:24:35.719349Z",
     "shell.execute_reply": "2022-01-24T11:24:35.718736Z",
     "shell.execute_reply.started": "2022-01-24T11:24:35.716056Z"
    },
    "tags": []
   },
   "source": [
    "### Get posts feed from profile (by default = 10)"
   ]
  },
  {
   "cell_type": "code",
   "execution_count": 6,
   "id": "miniature-manitoba",
   "metadata": {
    "execution": {
     "iopub.execute_input": "2022-01-24T11:25:25.089509Z",
     "iopub.status.busy": "2022-01-24T11:25:25.088676Z",
     "iopub.status.idle": "2022-01-24T11:26:18.090289Z",
     "shell.execute_reply": "2022-01-24T11:26:18.089729Z",
     "shell.execute_reply.started": "2022-01-24T11:25:25.089474Z"
    },
    "papermill": {},
    "tags": []
   },
   "outputs": [],
   "source": [
    "df = linkedin.connect(LI_AT, JSESSIONID).profile.get_posts_feed(PROFILE_URL)"
   ]
  },
  {
   "cell_type": "markdown",
   "id": "comic-sucking",
   "metadata": {
    "papermill": {},
    "tags": []
   },
   "source": [
    "## Output"
   ]
  },
  {
   "cell_type": "markdown",
   "id": "killing-trust",
   "metadata": {
    "papermill": {},
    "tags": []
   },
   "source": [
    "### Display result"
   ]
  },
  {
   "cell_type": "code",
   "execution_count": 7,
   "id": "urban-agency",
   "metadata": {
    "execution": {
     "iopub.execute_input": "2022-01-24T11:26:18.092356Z",
     "iopub.status.busy": "2022-01-24T11:26:18.092120Z",
     "iopub.status.idle": "2022-01-24T11:26:18.135091Z",
     "shell.execute_reply": "2022-01-24T11:26:18.134427Z",
     "shell.execute_reply.started": "2022-01-24T11:26:18.092327Z"
    },
    "papermill": {},
    "tags": []
   },
   "outputs": [
    {
     "data": {
      "text/html": [
       "<div>\n",
       "<style scoped>\n",
       "    .dataframe tbody tr th:only-of-type {\n",
       "        vertical-align: middle;\n",
       "    }\n",
       "\n",
       "    .dataframe tbody tr th {\n",
       "        vertical-align: top;\n",
       "    }\n",
       "\n",
       "    .dataframe thead th {\n",
       "        text-align: right;\n",
       "    }\n",
       "</style>\n",
       "<table border=\"1\" class=\"dataframe\">\n",
       "  <thead>\n",
       "    <tr style=\"text-align: right;\">\n",
       "      <th></th>\n",
       "      <th>ACTIVITY_ID</th>\n",
       "      <th>PAGINATION_TOKEN</th>\n",
       "      <th>PUBLISHED_DATE</th>\n",
       "      <th>AUTHOR_NAME</th>\n",
       "      <th>SUBDESCRIPTION</th>\n",
       "      <th>TITLE</th>\n",
       "      <th>TEXT</th>\n",
       "      <th>CHARACTER_COUNT</th>\n",
       "      <th>TAGS</th>\n",
       "      <th>TAGS_COUNT</th>\n",
       "      <th>...</th>\n",
       "      <th>IMAGE_URL</th>\n",
       "      <th>POLL_URN</th>\n",
       "      <th>POLL_QUESTION</th>\n",
       "      <th>POLL_RESULTS</th>\n",
       "      <th>POST_URL</th>\n",
       "      <th>VIEWS</th>\n",
       "      <th>COMMENTS</th>\n",
       "      <th>LIKES</th>\n",
       "      <th>SHARES</th>\n",
       "      <th>ENGAGEMENT_SCORE</th>\n",
       "    </tr>\n",
       "  </thead>\n",
       "  <tbody>\n",
       "    <tr>\n",
       "      <th>0</th>\n",
       "      <td>6891102665217077248</td>\n",
       "      <td>dXJuOmxpOmFjdGl2aXR5OjY4OTExMDI2NjUyMTcwNzcyND...</td>\n",
       "      <td>2022-01-23 19:41:45+01:00</td>\n",
       "      <td>Jérémy Ravenel</td>\n",
       "      <td>15 hours ago</td>\n",
       "      <td>There are no problems in life.</td>\n",
       "      <td>There are no problems in life.\\n\\nThere are ju...</td>\n",
       "      <td>161</td>\n",
       "      <td>#sunday #quotesoftheday #mindset</td>\n",
       "      <td>3</td>\n",
       "      <td>...</td>\n",
       "      <td>None</td>\n",
       "      <td>None</td>\n",
       "      <td>None</td>\n",
       "      <td>None</td>\n",
       "      <td>https://www.linkedin.com/feed/update/urn:li:ac...</td>\n",
       "      <td>3503</td>\n",
       "      <td>7</td>\n",
       "      <td>23</td>\n",
       "      <td>0</td>\n",
       "      <td>0.0086</td>\n",
       "    </tr>\n",
       "    <tr>\n",
       "      <th>1</th>\n",
       "      <td>6890345810563874816</td>\n",
       "      <td>dXJuOmxpOmFjdGl2aXR5OjY4OTAzNDU4MTA1NjM4NzQ4MT...</td>\n",
       "      <td>2022-01-21 17:34:17+01:00</td>\n",
       "      <td>Jérémy Ravenel</td>\n",
       "      <td>2 days ago</td>\n",
       "      <td>How do you feel this week 3 of 2022?</td>\n",
       "      <td>How do you feel this week 3 of 2022? \\n→ It wa...</td>\n",
       "      <td>867</td>\n",
       "      <td>#mood #poll #share #feeling #data #linkedin #l...</td>\n",
       "      <td>12</td>\n",
       "      <td>...</td>\n",
       "      <td>None</td>\n",
       "      <td>6890345808038916096</td>\n",
       "      <td>How do you feel? Week 3 of 2022</td>\n",
       "      <td>{'🥰 Happy': 21, '🙂 Fine': 25, '😩 Upset': 7, '😡...</td>\n",
       "      <td>https://www.linkedin.com/feed/update/urn:li:ac...</td>\n",
       "      <td>3929</td>\n",
       "      <td>2</td>\n",
       "      <td>10</td>\n",
       "      <td>0</td>\n",
       "      <td>0.0031</td>\n",
       "    </tr>\n",
       "    <tr>\n",
       "      <th>2</th>\n",
       "      <td>6889634537018658816</td>\n",
       "      <td>dXJuOmxpOmFjdGl2aXR5OjY4ODk2MzQ1MzcwMTg2NTg4MT...</td>\n",
       "      <td>2022-01-19 18:27:56+01:00</td>\n",
       "      <td>Jérémy Ravenel</td>\n",
       "      <td>4 days ago</td>\n",
       "      <td>\"More than machinery we need humanity.\"</td>\n",
       "      <td>\"More than machinery we need humanity.\"\\n— Cha...</td>\n",
       "      <td>536</td>\n",
       "      <td>#templates #opensource #data #automation #quot...</td>\n",
       "      <td>12</td>\n",
       "      <td>...</td>\n",
       "      <td>https://media-exp1.licdn.com/dms/image/C5622AQ...</td>\n",
       "      <td>None</td>\n",
       "      <td>None</td>\n",
       "      <td>None</td>\n",
       "      <td>https://www.linkedin.com/feed/update/urn:li:ac...</td>\n",
       "      <td>3109</td>\n",
       "      <td>3</td>\n",
       "      <td>36</td>\n",
       "      <td>0</td>\n",
       "      <td>0.0125</td>\n",
       "    </tr>\n",
       "    <tr>\n",
       "      <th>3</th>\n",
       "      <td>6889274350411898880</td>\n",
       "      <td>dXJuOmxpOmFjdGl2aXR5OjY4ODkyNzQzNTA0MTE4OTg4OD...</td>\n",
       "      <td>2022-01-18 18:36:41+01:00</td>\n",
       "      <td>Jérémy Ravenel</td>\n",
       "      <td>5 days ago</td>\n",
       "      <td>🚨 #Web3: the new buzzword of the decade?</td>\n",
       "      <td>🚨 #Web3: the new buzzword of the decade? \\n\\nW...</td>\n",
       "      <td>1119</td>\n",
       "      <td>#Web3 #token #economy #data #web3 #decentraliz...</td>\n",
       "      <td>10</td>\n",
       "      <td>...</td>\n",
       "      <td>https://media-exp1.licdn.com/dms/image/C5622AQ...</td>\n",
       "      <td>None</td>\n",
       "      <td>None</td>\n",
       "      <td>None</td>\n",
       "      <td>https://www.linkedin.com/feed/update/urn:li:ac...</td>\n",
       "      <td>1534</td>\n",
       "      <td>6</td>\n",
       "      <td>34</td>\n",
       "      <td>0</td>\n",
       "      <td>0.0261</td>\n",
       "    </tr>\n",
       "    <tr>\n",
       "      <th>4</th>\n",
       "      <td>6888929878322872320</td>\n",
       "      <td>dXJuOmxpOmFjdGl2aXR5OjY4ODg5Mjk4NzgzMjI4NzIzMj...</td>\n",
       "      <td>2022-01-17 19:47:53+01:00</td>\n",
       "      <td>Jérémy Ravenel</td>\n",
       "      <td>6 days ago</td>\n",
       "      <td>\"In community we trust\" 🙏</td>\n",
       "      <td>\"In community we trust\" 🙏 \\nCheck out this ver...</td>\n",
       "      <td>1185</td>\n",
       "      <td>#datascientists #datascience #opensourcesoftwa...</td>\n",
       "      <td>7</td>\n",
       "      <td>...</td>\n",
       "      <td>https://media-exp1.licdn.com/dms/image/sync/C4...</td>\n",
       "      <td>None</td>\n",
       "      <td>None</td>\n",
       "      <td>None</td>\n",
       "      <td>https://www.linkedin.com/feed/update/urn:li:ac...</td>\n",
       "      <td>3506</td>\n",
       "      <td>0</td>\n",
       "      <td>26</td>\n",
       "      <td>0</td>\n",
       "      <td>0.0074</td>\n",
       "    </tr>\n",
       "    <tr>\n",
       "      <th>5</th>\n",
       "      <td>6888521256862408704</td>\n",
       "      <td>dXJuOmxpOmFjdGl2aXR5OjY4ODg1MjEyNTY4NjI0MDg3MD...</td>\n",
       "      <td>2022-01-16 16:44:10+01:00</td>\n",
       "      <td>Jérémy Ravenel</td>\n",
       "      <td>1 week ago</td>\n",
       "      <td>\"The Democratization of Data Science Calls for...</td>\n",
       "      <td>\"The Democratization of Data Science Calls for...</td>\n",
       "      <td>319</td>\n",
       "      <td>#democratization #datascience #education #podcast</td>\n",
       "      <td>4</td>\n",
       "      <td>...</td>\n",
       "      <td>https://media-exp1.licdn.com/dms/image/sync/C4...</td>\n",
       "      <td>None</td>\n",
       "      <td>None</td>\n",
       "      <td>None</td>\n",
       "      <td>https://www.linkedin.com/feed/update/urn:li:ac...</td>\n",
       "      <td>1698</td>\n",
       "      <td>0</td>\n",
       "      <td>28</td>\n",
       "      <td>0</td>\n",
       "      <td>0.0165</td>\n",
       "    </tr>\n",
       "    <tr>\n",
       "      <th>6</th>\n",
       "      <td>6888084351473598464</td>\n",
       "      <td>dXJuOmxpOmFjdGl2aXR5OjY4ODgwODQzNTE0NzM1OTg0Nj...</td>\n",
       "      <td>2022-01-15 11:48:03+01:00</td>\n",
       "      <td>Jérémy Ravenel</td>\n",
       "      <td>1 week ago</td>\n",
       "      <td>How do you feel this second week of 2022?</td>\n",
       "      <td>How do you feel this second week of 2022?\\n→ P...</td>\n",
       "      <td>650</td>\n",
       "      <td>#mentalhealth #wellbeing #mood #poll #share #f...</td>\n",
       "      <td>10</td>\n",
       "      <td>...</td>\n",
       "      <td>None</td>\n",
       "      <td>6888084349187690496</td>\n",
       "      <td>How do you feel? Week 2 of 2022</td>\n",
       "      <td>{'🥰 Happy': 33, '🙂 Fine': 45, '😩 Upset': 17, '...</td>\n",
       "      <td>https://www.linkedin.com/feed/update/urn:li:ac...</td>\n",
       "      <td>8117</td>\n",
       "      <td>10</td>\n",
       "      <td>16</td>\n",
       "      <td>0</td>\n",
       "      <td>0.0032</td>\n",
       "    </tr>\n",
       "    <tr>\n",
       "      <th>7</th>\n",
       "      <td>6887113938270584832</td>\n",
       "      <td>dXJuOmxpOmFjdGl2aXR5OjY4ODcxMTM5MzgyNzA1ODQ4Mz...</td>\n",
       "      <td>2022-01-12 19:31:59+01:00</td>\n",
       "      <td>Jérémy Ravenel</td>\n",
       "      <td>1 week ago</td>\n",
       "      <td>If you like Notion and Project Jupyter Noteboo...</td>\n",
       "      <td>If you like Notion and Project Jupyter Noteboo...</td>\n",
       "      <td>1490</td>\n",
       "      <td>#buildinpublic #opensource #opensourcecommunit...</td>\n",
       "      <td>28</td>\n",
       "      <td>...</td>\n",
       "      <td>https://media-exp1.licdn.com/dms/image/C5622AQ...</td>\n",
       "      <td>None</td>\n",
       "      <td>None</td>\n",
       "      <td>None</td>\n",
       "      <td>https://www.linkedin.com/feed/update/urn:li:ac...</td>\n",
       "      <td>23996</td>\n",
       "      <td>18</td>\n",
       "      <td>182</td>\n",
       "      <td>0</td>\n",
       "      <td>0.0083</td>\n",
       "    </tr>\n",
       "    <tr>\n",
       "      <th>8</th>\n",
       "      <td>6886393377064140800</td>\n",
       "      <td>dXJuOmxpOmFjdGl2aXR5OjY4ODYzOTMzNzcwNjQxNDA4MD...</td>\n",
       "      <td>2022-01-10 19:48:44+01:00</td>\n",
       "      <td>Jérémy Ravenel</td>\n",
       "      <td>1 week ago</td>\n",
       "      <td>👍\"Notebooks are great because they can put tec...</td>\n",
       "      <td>👍\"Notebooks are great because they can put tec...</td>\n",
       "      <td>1299</td>\n",
       "      <td>#business #datascience #ai #data #automation #...</td>\n",
       "      <td>11</td>\n",
       "      <td>...</td>\n",
       "      <td>https://media-exp1.licdn.com/dms/image/sync/C5...</td>\n",
       "      <td>None</td>\n",
       "      <td>None</td>\n",
       "      <td>None</td>\n",
       "      <td>https://www.linkedin.com/feed/update/urn:li:ac...</td>\n",
       "      <td>10120</td>\n",
       "      <td>4</td>\n",
       "      <td>85</td>\n",
       "      <td>0</td>\n",
       "      <td>0.0088</td>\n",
       "    </tr>\n",
       "    <tr>\n",
       "      <th>9</th>\n",
       "      <td>6885302118903902208</td>\n",
       "      <td>dXJuOmxpOmFjdGl2aXR5OjY4ODUzMDIxMTg5MDM5MDIyMD...</td>\n",
       "      <td>2022-01-07 19:32:27+01:00</td>\n",
       "      <td>Jérémy Ravenel</td>\n",
       "      <td>2 weeks ago</td>\n",
       "      <td>How do you feel this 1st week of 2022?</td>\n",
       "      <td>How do you feel this 1st week of 2022? \\n→ Thi...</td>\n",
       "      <td>687</td>\n",
       "      <td>#mood #poll #share #feeling #data #linkedin #l...</td>\n",
       "      <td>16</td>\n",
       "      <td>...</td>\n",
       "      <td>None</td>\n",
       "      <td>6885302114604711936</td>\n",
       "      <td>How do you feel? Week 1 2022</td>\n",
       "      <td>{'🥰 Happy': 28, '🙂 Fine': 40, '😩 Upset': 9, '😡...</td>\n",
       "      <td>https://www.linkedin.com/feed/update/urn:li:ac...</td>\n",
       "      <td>5162</td>\n",
       "      <td>9</td>\n",
       "      <td>14</td>\n",
       "      <td>0</td>\n",
       "      <td>0.0045</td>\n",
       "    </tr>\n",
       "  </tbody>\n",
       "</table>\n",
       "<p>10 rows × 30 columns</p>\n",
       "</div>"
      ],
      "text/plain": [
       "           ACTIVITY_ID                                   PAGINATION_TOKEN  \\\n",
       "0  6891102665217077248  dXJuOmxpOmFjdGl2aXR5OjY4OTExMDI2NjUyMTcwNzcyND...   \n",
       "1  6890345810563874816  dXJuOmxpOmFjdGl2aXR5OjY4OTAzNDU4MTA1NjM4NzQ4MT...   \n",
       "2  6889634537018658816  dXJuOmxpOmFjdGl2aXR5OjY4ODk2MzQ1MzcwMTg2NTg4MT...   \n",
       "3  6889274350411898880  dXJuOmxpOmFjdGl2aXR5OjY4ODkyNzQzNTA0MTE4OTg4OD...   \n",
       "4  6888929878322872320  dXJuOmxpOmFjdGl2aXR5OjY4ODg5Mjk4NzgzMjI4NzIzMj...   \n",
       "5  6888521256862408704  dXJuOmxpOmFjdGl2aXR5OjY4ODg1MjEyNTY4NjI0MDg3MD...   \n",
       "6  6888084351473598464  dXJuOmxpOmFjdGl2aXR5OjY4ODgwODQzNTE0NzM1OTg0Nj...   \n",
       "7  6887113938270584832  dXJuOmxpOmFjdGl2aXR5OjY4ODcxMTM5MzgyNzA1ODQ4Mz...   \n",
       "8  6886393377064140800  dXJuOmxpOmFjdGl2aXR5OjY4ODYzOTMzNzcwNjQxNDA4MD...   \n",
       "9  6885302118903902208  dXJuOmxpOmFjdGl2aXR5OjY4ODUzMDIxMTg5MDM5MDIyMD...   \n",
       "\n",
       "              PUBLISHED_DATE     AUTHOR_NAME SUBDESCRIPTION  \\\n",
       "0  2022-01-23 19:41:45+01:00  Jérémy Ravenel   15 hours ago   \n",
       "1  2022-01-21 17:34:17+01:00  Jérémy Ravenel     2 days ago   \n",
       "2  2022-01-19 18:27:56+01:00  Jérémy Ravenel     4 days ago   \n",
       "3  2022-01-18 18:36:41+01:00  Jérémy Ravenel     5 days ago   \n",
       "4  2022-01-17 19:47:53+01:00  Jérémy Ravenel     6 days ago   \n",
       "5  2022-01-16 16:44:10+01:00  Jérémy Ravenel     1 week ago   \n",
       "6  2022-01-15 11:48:03+01:00  Jérémy Ravenel     1 week ago   \n",
       "7  2022-01-12 19:31:59+01:00  Jérémy Ravenel     1 week ago   \n",
       "8  2022-01-10 19:48:44+01:00  Jérémy Ravenel     1 week ago   \n",
       "9  2022-01-07 19:32:27+01:00  Jérémy Ravenel    2 weeks ago   \n",
       "\n",
       "                                               TITLE  \\\n",
       "0                     There are no problems in life.   \n",
       "1              How do you feel this week 3 of 2022?    \n",
       "2            \"More than machinery we need humanity.\"   \n",
       "3          🚨 #Web3: the new buzzword of the decade?    \n",
       "4                         \"In community we trust\" 🙏    \n",
       "5  \"The Democratization of Data Science Calls for...   \n",
       "6          How do you feel this second week of 2022?   \n",
       "7  If you like Notion and Project Jupyter Noteboo...   \n",
       "8  👍\"Notebooks are great because they can put tec...   \n",
       "9            How do you feel this 1st week of 2022?    \n",
       "\n",
       "                                                TEXT  CHARACTER_COUNT  \\\n",
       "0  There are no problems in life.\\n\\nThere are ju...              161   \n",
       "1  How do you feel this week 3 of 2022? \\n→ It wa...              867   \n",
       "2  \"More than machinery we need humanity.\"\\n— Cha...              536   \n",
       "3  🚨 #Web3: the new buzzword of the decade? \\n\\nW...             1119   \n",
       "4  \"In community we trust\" 🙏 \\nCheck out this ver...             1185   \n",
       "5  \"The Democratization of Data Science Calls for...              319   \n",
       "6  How do you feel this second week of 2022?\\n→ P...              650   \n",
       "7  If you like Notion and Project Jupyter Noteboo...             1490   \n",
       "8  👍\"Notebooks are great because they can put tec...             1299   \n",
       "9  How do you feel this 1st week of 2022? \\n→ Thi...              687   \n",
       "\n",
       "                                                TAGS  TAGS_COUNT  ...  \\\n",
       "0                   #sunday #quotesoftheday #mindset           3  ...   \n",
       "1  #mood #poll #share #feeling #data #linkedin #l...          12  ...   \n",
       "2  #templates #opensource #data #automation #quot...          12  ...   \n",
       "3  #Web3 #token #economy #data #web3 #decentraliz...          10  ...   \n",
       "4  #datascientists #datascience #opensourcesoftwa...           7  ...   \n",
       "5  #democratization #datascience #education #podcast           4  ...   \n",
       "6  #mentalhealth #wellbeing #mood #poll #share #f...          10  ...   \n",
       "7  #buildinpublic #opensource #opensourcecommunit...          28  ...   \n",
       "8  #business #datascience #ai #data #automation #...          11  ...   \n",
       "9  #mood #poll #share #feeling #data #linkedin #l...          16  ...   \n",
       "\n",
       "                                           IMAGE_URL             POLL_URN  \\\n",
       "0                                               None                 None   \n",
       "1                                               None  6890345808038916096   \n",
       "2  https://media-exp1.licdn.com/dms/image/C5622AQ...                 None   \n",
       "3  https://media-exp1.licdn.com/dms/image/C5622AQ...                 None   \n",
       "4  https://media-exp1.licdn.com/dms/image/sync/C4...                 None   \n",
       "5  https://media-exp1.licdn.com/dms/image/sync/C4...                 None   \n",
       "6                                               None  6888084349187690496   \n",
       "7  https://media-exp1.licdn.com/dms/image/C5622AQ...                 None   \n",
       "8  https://media-exp1.licdn.com/dms/image/sync/C5...                 None   \n",
       "9                                               None  6885302114604711936   \n",
       "\n",
       "                     POLL_QUESTION  \\\n",
       "0                             None   \n",
       "1  How do you feel? Week 3 of 2022   \n",
       "2                             None   \n",
       "3                             None   \n",
       "4                             None   \n",
       "5                             None   \n",
       "6  How do you feel? Week 2 of 2022   \n",
       "7                             None   \n",
       "8                             None   \n",
       "9     How do you feel? Week 1 2022   \n",
       "\n",
       "                                        POLL_RESULTS  \\\n",
       "0                                               None   \n",
       "1  {'🥰 Happy': 21, '🙂 Fine': 25, '😩 Upset': 7, '😡...   \n",
       "2                                               None   \n",
       "3                                               None   \n",
       "4                                               None   \n",
       "5                                               None   \n",
       "6  {'🥰 Happy': 33, '🙂 Fine': 45, '😩 Upset': 17, '...   \n",
       "7                                               None   \n",
       "8                                               None   \n",
       "9  {'🥰 Happy': 28, '🙂 Fine': 40, '😩 Upset': 9, '😡...   \n",
       "\n",
       "                                            POST_URL  VIEWS COMMENTS LIKES  \\\n",
       "0  https://www.linkedin.com/feed/update/urn:li:ac...   3503        7    23   \n",
       "1  https://www.linkedin.com/feed/update/urn:li:ac...   3929        2    10   \n",
       "2  https://www.linkedin.com/feed/update/urn:li:ac...   3109        3    36   \n",
       "3  https://www.linkedin.com/feed/update/urn:li:ac...   1534        6    34   \n",
       "4  https://www.linkedin.com/feed/update/urn:li:ac...   3506        0    26   \n",
       "5  https://www.linkedin.com/feed/update/urn:li:ac...   1698        0    28   \n",
       "6  https://www.linkedin.com/feed/update/urn:li:ac...   8117       10    16   \n",
       "7  https://www.linkedin.com/feed/update/urn:li:ac...  23996       18   182   \n",
       "8  https://www.linkedin.com/feed/update/urn:li:ac...  10120        4    85   \n",
       "9  https://www.linkedin.com/feed/update/urn:li:ac...   5162        9    14   \n",
       "\n",
       "  SHARES ENGAGEMENT_SCORE  \n",
       "0      0           0.0086  \n",
       "1      0           0.0031  \n",
       "2      0           0.0125  \n",
       "3      0           0.0261  \n",
       "4      0           0.0074  \n",
       "5      0           0.0165  \n",
       "6      0           0.0032  \n",
       "7      0           0.0083  \n",
       "8      0           0.0088  \n",
       "9      0           0.0045  \n",
       "\n",
       "[10 rows x 30 columns]"
      ]
     },
     "execution_count": 7,
     "metadata": {},
     "output_type": "execute_result"
    }
   ],
   "source": [
    "df"
   ]
  }
 ],
 "metadata": {
  "kernelspec": {
   "display_name": "Python 3",
   "language": "python",
   "name": "python3"
  },
  "language_info": {
   "codemirror_mode": {
    "name": "ipython",
    "version": 3
   },
   "file_extension": ".py",
   "mimetype": "text/x-python",
   "name": "python",
   "nbconvert_exporter": "python",
   "pygments_lexer": "ipython3",
   "version": "3.8.8"
  },
  "papermill": {
   "default_parameters": {},
   "environment_variables": {},
   "parameters": {},
   "version": "2.3.3"
  },
  "widgets": {
   "application/vnd.jupyter.widget-state+json": {
    "state": {},
    "version_major": 2,
    "version_minor": 0
   }
  }
 },
 "nbformat": 4,
 "nbformat_minor": 5
}
