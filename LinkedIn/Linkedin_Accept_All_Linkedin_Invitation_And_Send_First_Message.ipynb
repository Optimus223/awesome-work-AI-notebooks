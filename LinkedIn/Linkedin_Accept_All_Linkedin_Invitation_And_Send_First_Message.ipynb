{
 "cells": [
  {
   "cell_type": "markdown",
   "id": "c706722a",
   "metadata": {},
   "source": [
    "<img width=\"10%\" alt=\"Naas\" src=\"https://landen.imgix.net/jtci2pxwjczr/assets/5ice39g4.png?w=160\"/>\n"
   ]
  },
  {
   "cell_type": "markdown",
   "id": "3cf2d443",
   "metadata": {},
   "source": [
    "# LinkedIn - Accept all LinkedIn invitation and send first message\n"
   ]
  },
  {
   "cell_type": "markdown",
   "id": "1f9921af",
   "metadata": {},
   "source": [
    "**Tags:** #linkedin #linkedin #operations #automation\n"
   ]
  },
  {
   "cell_type": "markdown",
   "id": "a51124f7",
   "metadata": {},
   "source": [
    "**Author:** [Firstname Lastname](https://linkedin.com/in/yourlinkedinid)\n",
    "\n",
    "In this notebook, you will be able to automically accept all invitations from LinkedIn\n"
   ]
  },
  {
   "cell_type": "markdown",
   "id": "ce6f8812",
   "metadata": {},
   "source": [
    "## Input\n"
   ]
  },
  {
   "cell_type": "markdown",
   "id": "51403d71",
   "metadata": {},
   "source": [
    "### Import libraries\n"
   ]
  },
  {
   "cell_type": "code",
   "execution_count": null,
   "id": "8adb0287",
   "metadata": {},
   "outputs": [],
   "source": [
    "from naas_drivers import linkedin\n",
    "import naas\n"
   ]
  },
  {
   "cell_type": "markdown",
   "id": "5f360f35",
   "metadata": {},
   "source": [
    "### Setup LinkedIn\n",
    "\n",
    "- [Get your cookies](/d20a8e7e508e42af8a5b52e33f3dba75)\n"
   ]
  },
  {
   "cell_type": "code",
   "execution_count": null,
   "id": "b3534087",
   "metadata": {},
   "outputs": [],
   "source": [
    "# Lindekin cookies\n",
    "LI_AT = \"AQEDARCNSioDe6wmAAABfqF-HR4AAAF-xYqhHlYAtSu7EZZEpFer0UZF-GLuz2DNSz4asOOyCRxPGFjenv37irMObYYgxxxxxxx\"\n",
    "JSESSIONID = \"ajax:12XXXXXXXXXXXXXXXXX\"\n"
   ]
  },
  {
   "cell_type": "markdown",
   "id": "4e4d7984",
   "metadata": {},
   "source": [
    "### Setup Naas\n"
   ]
  },
  {
   "cell_type": "code",
   "execution_count": null,
   "id": "1739f078",
   "metadata": {},
   "outputs": [],
   "source": [
    "# Schedule your notebook every hour\n",
    "naas.scheduler.add(cron=\"0 * * * *\")\n",
    "\n",
    "#-> Uncomment the line below to remove your scheduler\n",
    "# naas.scheduler.delete()\n"
   ]
  },
  {
   "cell_type": "markdown",
   "id": "502127ba",
   "metadata": {},
   "source": [
    "## Model\n"
   ]
  },
  {
   "cell_type": "markdown",
   "id": "bd4787d3",
   "metadata": {},
   "source": [
    "### Get pending invitations\n"
   ]
  },
  {
   "cell_type": "code",
   "execution_count": null,
   "id": "8b876f0b",
   "metadata": {},
   "outputs": [],
   "source": [
    "def my_function():\n",
    "\treturn\n",
    "\n",
    "df_pending = my_function()\n",
    "df_pending\n"
   ]
  },
  {
   "cell_type": "markdown",
   "id": "d648529b",
   "metadata": {},
   "source": [
    "### Accept all invitations and send message to pending invitations\n"
   ]
  },
  {
   "cell_type": "code",
   "execution_count": null,
   "id": "2b63456d",
   "metadata": {},
   "outputs": [],
   "source": [
    "def my_function():\n",
    "\treturn\n",
    "\n",
    "df_accept = my_function()\n",
    "df_accept\n"
   ]
  },
  {
   "cell_type": "markdown",
   "id": "84cfe026",
   "metadata": {},
   "source": [
    "## Output\n"
   ]
  },
  {
   "cell_type": "markdown",
   "id": "3c213178",
   "metadata": {},
   "source": [
    "### Display result\n"
   ]
  },
  {
   "cell_type": "code",
   "execution_count": null,
   "id": "4f3d451f",
   "metadata": {},
   "outputs": [],
   "source": [
    "df_accept\n"
   ]
  }
 ],
 "metadata": {},
 "nbformat": 4,
 "nbformat_minor": 5
}
