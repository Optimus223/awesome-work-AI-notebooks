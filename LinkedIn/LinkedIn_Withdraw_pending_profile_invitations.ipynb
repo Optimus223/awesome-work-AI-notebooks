{
 "cells": [
  {
   "cell_type": "markdown",
   "id": "composite-guinea",
   "metadata": {
    "execution": {
     "iopub.execute_input": "2021-01-25T08:00:35.294800Z",
     "iopub.status.busy": "2021-01-25T08:00:35.294557Z",
     "iopub.status.idle": "2021-01-25T08:00:35.307281Z",
     "shell.execute_reply": "2021-01-25T08:00:35.306468Z",
     "shell.execute_reply.started": "2021-01-25T08:00:35.294775Z"
    },
    "papermill": {},
    "tags": []
   },
   "source": [
    "<img width=\"10%\" alt=\"Naas\" src=\"https://landen.imgix.net/jtci2pxwjczr/assets/5ice39g4.png?w=160\"/>"
   ]
  },
  {
   "cell_type": "markdown",
   "id": "ultimate-physiology",
   "metadata": {
    "papermill": {},
    "tags": []
   },
   "source": [
    "# LinkedIn - Withdraw pending profile invitations\n",
    "<a href=\"https://app.naas.ai/user-redirect/naas/downloader?url=https://raw.githubusercontent.com/jupyter-naas/awesome-notebooks/master/LinkedIn/LinkedIn_Withdraw_pending_profile_invitations.ipynb\" target=\"_parent\"><img src=\"https://naasai-public.s3.eu-west-3.amazonaws.com/open_in_naas.svg\"/></a>"
   ]
  },
  {
   "cell_type": "markdown",
   "id": "05c7e6ad-4c2e-415c-b9c5-1811ad14d4be",
   "metadata": {
    "papermill": {},
    "tags": []
   },
   "source": [
    "**Tags:** #linkedin #invitation #pending #naas_drivers #content #snippet"
   ]
  },
  {
   "cell_type": "markdown",
   "id": "8b4f752b-1016-4c81-81ba-ecc5c1b81c58",
   "metadata": {
    "papermill": {},
    "tags": []
   },
   "source": [
    "**Author:** [Florent Ravenel](https://www.linkedin.com/in/florent-ravenel/)"
   ]
  },
  {
   "cell_type": "markdown",
   "id": "dc954694-3148-4f81-afa3-9d95e6ac4609",
   "metadata": {
    "papermill": {},
    "tags": []
   },
   "source": [
    "This notebook removes profile pending invitations that exceed the limit you set!"
   ]
  },
  {
   "cell_type": "markdown",
   "id": "yellow-clear",
   "metadata": {
    "papermill": {},
    "tags": []
   },
   "source": [
    "## Input"
   ]
  },
  {
   "cell_type": "markdown",
   "id": "import_cell",
   "metadata": {
    "papermill": {},
    "tags": []
   },
   "source": [
    "### Import libraries"
   ]
  },
  {
   "cell_type": "code",
   "execution_count": null,
   "id": "demographic-kennedy",
   "metadata": {
    "papermill": {},
    "tags": []
   },
   "outputs": [],
   "source": [
    "from naas_drivers import linkedin\n",
    "import pandas as pd\n",
    "import naas\n",
    "import time\n",
    "from datetime import datetime\n",
    "from dateutil.relativedelta import relativedelta\n",
    "import json\n",
    "import requests"
   ]
  },
  {
   "cell_type": "markdown",
   "id": "asian-theta",
   "metadata": {
    "papermill": {},
    "tags": []
   },
   "source": [
    "### Setup LinkedIn\n",
    "👉 <a href='https://www.notion.so/LinkedIn-driver-Get-your-cookies-d20a8e7e508e42af8a5b52e33f3dba75'>How to get your cookies ?</a>"
   ]
  },
  {
   "cell_type": "code",
   "execution_count": null,
   "id": "timely-columbus",
   "metadata": {
    "papermill": {},
    "tags": []
   },
   "outputs": [],
   "source": [
    "# Credentials\n",
    "LI_AT = naas.secret.get(\"LINKEDIN_LI_AT\")\n",
    "JSESSIONID = naas.secret.get(\"LINKEDIN_JSESSIONID\")\n",
    "\n",
    "# Invitations pending limit in months\n",
    "LIMIT = 3"
   ]
  },
  {
   "cell_type": "markdown",
   "id": "crude-melbourne",
   "metadata": {
    "papermill": {},
    "tags": []
   },
   "source": [
    "## Model"
   ]
  },
  {
   "cell_type": "markdown",
   "id": "302fb976-096a-497d-88c6-f85d4a0c49e5",
   "metadata": {
    "papermill": {},
    "tags": []
   },
   "source": [
    "### Get invitations sent"
   ]
  },
  {
   "cell_type": "code",
   "execution_count": null,
   "id": "4dc8ab54-9aa7-485b-9f88-50d640bbd636",
   "metadata": {
    "papermill": {},
    "tags": []
   },
   "outputs": [],
   "source": [
    "df_invitations_sent = linkedin.connect(LI_AT, JSESSIONID).invitation.get_sent()\n",
    "print(\"Pending invitations:\", len(df_invitations_sent))\n",
    "df_invitations_sent.head(1)"
   ]
  },
  {
   "cell_type": "markdown",
   "id": "738d54a5-f726-4a2a-b143-5a52d2c3ce82",
   "metadata": {
    "execution": {
     "iopub.execute_input": "2022-08-26T15:23:56.557153Z",
     "iopub.status.busy": "2022-08-26T15:23:56.556924Z",
     "iopub.status.idle": "2022-08-26T15:23:56.560168Z",
     "shell.execute_reply": "2022-08-26T15:23:56.559457Z",
     "shell.execute_reply.started": "2022-08-26T15:23:56.557129Z"
    },
    "papermill": {},
    "tags": []
   },
   "source": [
    "### Filter invitations pending > limit"
   ]
  },
  {
   "cell_type": "code",
   "execution_count": null,
   "id": "dc0ee778-1df6-4d5e-ac39-194f688ddc3a",
   "metadata": {
    "papermill": {},
    "tags": []
   },
   "outputs": [],
   "source": [
    "def out_of_limit(df):\n",
    "    # Get limit date\n",
    "    date_limit = datetime.today() - relativedelta(months=LIMIT)\n",
    "    \n",
    "    # Create time diff columns\n",
    "    df.loc[:, \"TIME_DIFF\"] = 0\n",
    "    df.loc[pd.to_datetime(df[\"SENT_AT\"]) < date_limit, \"TIME_DIFF\"] = 1\n",
    "    \n",
    "    # Filter on limit exceed\n",
    "    df = df[df[\"TIME_DIFF\"] == 1]\n",
    "    return df.reset_index(drop=True)\n",
    "\n",
    "df_withdraw = out_of_limit(df_invitations_sent)\n",
    "print(\"Invitations to withdraw:\", len(df_withdraw))\n",
    "df_withdraw.head(1)"
   ]
  },
  {
   "cell_type": "markdown",
   "id": "correct-birth",
   "metadata": {
    "papermill": {},
    "tags": []
   },
   "source": [
    "## Output"
   ]
  },
  {
   "cell_type": "markdown",
   "id": "2153d0b5-d2cd-4f93-97c8-a8148f0ff3a8",
   "metadata": {
    "papermill": {},
    "tags": []
   },
   "source": [
    "### Witdraw invitation sent pending"
   ]
  },
  {
   "cell_type": "code",
   "execution_count": null,
   "id": "4b0a080a-6afa-4ed9-af0c-8f019d6d3710",
   "metadata": {
    "papermill": {},
    "tags": []
   },
   "outputs": [],
   "source": [
    "def withdraw_invitation(invitation_id):\n",
    "    LinkedIn = linkedin.connect(LI_AT, JSESSIONID)\n",
    "    cookies = LinkedIn.cookies\n",
    "    headers = LinkedIn.headers\n",
    "    payload = {\n",
    "        \"inviteActionType\": \"ACTOR_WITHDRAW\",\n",
    "        \"inviteActionData\": [\n",
    "            {\"entityUrn\":\n",
    "             f\"urn:li:fs_relInvitation:{invitation_id}\",\n",
    "             \"genericInvitation\": False,\n",
    "             \"genericInvitationType\":\"CONNECTION\"\n",
    "            }\n",
    "        ]\n",
    "    }\n",
    "    req_url = \"https://www.linkedin.com/voyager/api/relationships/invitations?action=closeInvitations\"\n",
    "    res = requests.post(req_url,\n",
    "                        data=json.dumps(payload),\n",
    "                        cookies=cookies,\n",
    "                        headers=headers)\n",
    "    res.raise_for_status()\n",
    "    res_json = res.json()\n",
    "    return res_json"
   ]
  },
  {
   "cell_type": "markdown",
   "id": "260a2dce-8035-4fb1-9b7e-ba1bfdbe5606",
   "metadata": {
    "papermill": {},
    "tags": []
   },
   "source": [
    "### Witdraw invitations sent pending"
   ]
  },
  {
   "cell_type": "code",
   "execution_count": null,
   "id": "9ccf66d6-8c8c-4696-981c-7c7ba2708e0c",
   "metadata": {
    "papermill": {},
    "tags": []
   },
   "outputs": [],
   "source": [
    "def withdraw_invitations(df):\n",
    "    for index, row in df.iterrows():\n",
    "        fullname = row[\"FULLNAME\"]\n",
    "        invitation_id = row[\"INVITATION_ID\"]\n",
    "        print(f\"➡️ Withdrawing from invitations pending:\", fullname)\n",
    "        \n",
    "        # Get distance with profile\n",
    "        try:\n",
    "            withdraw_invitation(invitation_id)\n",
    "        except Exception as e:\n",
    "            print(\"❌ Withdraw not available\", e)\n",
    "        time.sleep(3)\n",
    "    return df\n",
    "\n",
    "withdraw_invitations(df_withdraw)"
   ]
  }
 ],
 "metadata": {
  "kernelspec": {
   "display_name": "Python 3",
   "language": "python",
   "name": "python3"
  },
  "language_info": {
   "codemirror_mode": {
    "name": "ipython",
    "version": 3
   },
   "file_extension": ".py",
   "mimetype": "text/x-python",
   "name": "python",
   "nbconvert_exporter": "python",
   "pygments_lexer": "ipython3",
   "version": "3.9.6"
  },
  "naas": {
   "notebook_id": "ed7bdd79-4898-44f1-ab13-31a7e71486e0",
   "notebook_path": "LinkedIn/LinkedIn_Send_likes_from_post_to_gsheet.ipynb"
  },
  "papermill": {
   "default_parameters": {},
   "environment_variables": {},
   "parameters": {},
   "version": "2.3.3"
  },
  "widgets": {
   "application/vnd.jupyter.widget-state+json": {
    "state": {},
    "version_major": 2,
    "version_minor": 0
   }
  }
 },
 "nbformat": 4,
 "nbformat_minor": 5
}