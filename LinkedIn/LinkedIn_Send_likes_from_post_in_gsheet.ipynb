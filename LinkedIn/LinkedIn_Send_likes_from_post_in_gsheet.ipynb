{
 "cells": [
  {
   "cell_type": "markdown",
   "id": "composite-guinea",
   "metadata": {
    "execution": {
     "iopub.execute_input": "2021-01-25T08:00:35.294800Z",
     "iopub.status.busy": "2021-01-25T08:00:35.294557Z",
     "iopub.status.idle": "2021-01-25T08:00:35.307281Z",
     "shell.execute_reply": "2021-01-25T08:00:35.306468Z",
     "shell.execute_reply.started": "2021-01-25T08:00:35.294775Z"
    },
    "papermill": {},
    "tags": []
   },
   "source": [
    "<img width=\"10%\" alt=\"Naas\" src=\"https://landen.imgix.net/jtci2pxwjczr/assets/5ice39g4.png?w=160\"/>"
   ]
  },
  {
   "cell_type": "markdown",
   "id": "ultimate-physiology",
   "metadata": {
    "papermill": {},
    "tags": []
   },
   "source": [
    "# LinkedIn - Send likes from post in gsheet\n",
    "<a href=\"https://app.naas.ai/user-redirect/naas/downloader?url=https://raw.githubusercontent.com/jupyter-naas/awesome-notebooks/master/LinkedIn/LinkedIn_Send_likes_from_post_in_gsheet.ipynb\" target=\"_parent\"><img src=\"https://img.shields.io/badge/-Open%20in%20Naas-success?labelColor=000000&logo=data:image/svg+xml;base64,PD94bWwgdmVyc2lvbj0iMS4wIiBlbmNvZGluZz0iVVRGLTgiPz4KPHN2ZyB3aWR0aD0iMTAyNHB4IiBoZWlnaHQ9IjEwMjRweCIgdmlld0JveD0iMCAwIDEwMjQgMTAyNCIgeG1sbnM9Imh0dHA6Ly93d3cudzMub3JnLzIwMDAvc3ZnIiB4bWxuczp4bGluaz0iaHR0cDovL3d3dy53My5vcmcvMTk5OS94bGluayIgdmVyc2lvbj0iMS4xIj4KIDwhLS0gR2VuZXJhdGVkIGJ5IFBpeGVsbWF0b3IgUHJvIDIuMC41IC0tPgogPGRlZnM+CiAgPHRleHQgaWQ9InN0cmluZyIgdHJhbnNmb3JtPSJtYXRyaXgoMS4wIDAuMCAwLjAgMS4wIDIyOC4wIDU0LjUpIiBmb250LWZhbWlseT0iQ29tZm9ydGFhLVJlZ3VsYXIsIENvbWZvcnRhYSIgZm9udC1zaXplPSI4MDAiIHRleHQtZGVjb3JhdGlvbj0ibm9uZSIgZmlsbD0iI2ZmZmZmZiIgeD0iMS4xOTk5OTk5OTk5OTk5ODg2IiB5PSI3MDUuMCI+bjwvdGV4dD4KIDwvZGVmcz4KIDx1c2UgaWQ9Im4iIHhsaW5rOmhyZWY9IiNzdHJpbmciLz4KPC9zdmc+Cg==\"/></a>"
   ]
  },
  {
   "cell_type": "markdown",
   "id": "05c7e6ad-4c2e-415c-b9c5-1811ad14d4be",
   "metadata": {
    "papermill": {},
    "tags": []
   },
   "source": [
    "**Tags:** #linkedin #post #likes #gsheet #naas_drivers"
   ]
  },
  {
   "cell_type": "markdown",
   "id": "corresponding-estonia",
   "metadata": {
    "papermill": {},
    "tags": []
   },
   "source": [
    "In this template, you will extract likes from post and divide them in 2 categories :\n",
    "- People in your network\n",
    "- People not in your network\n",
    "\n",
    "Then, data will be sent in 3 sheets to trigger specific actions:\n",
    "- POST_LIKES : total of likes from post\n",
    "- MY_NETWORK : People in your network\n",
    "- NOT_MY_NETWORK : People not in your network\n",
    "\n",
    "Check the other templates to create a full workflow"
   ]
  },
  {
   "cell_type": "markdown",
   "id": "yellow-clear",
   "metadata": {
    "papermill": {},
    "tags": []
   },
   "source": [
    "## Input"
   ]
  },
  {
   "cell_type": "markdown",
   "id": "import_cell",
   "metadata": {
    "papermill": {},
    "tags": []
   },
   "source": [
    "### Import libraries"
   ]
  },
  {
   "cell_type": "code",
   "execution_count": null,
   "id": "demographic-kennedy",
   "metadata": {
    "papermill": {},
    "tags": []
   },
   "outputs": [],
   "source": [
    "from naas_drivers import linkedin, gsheet\n",
    "import random\n",
    "import time\n",
    "import pandas as pd\n",
    "from datetime import datetime"
   ]
  },
  {
   "cell_type": "markdown",
   "id": "lonely-chart",
   "metadata": {
    "papermill": {},
    "tags": []
   },
   "source": [
    "### Variables"
   ]
  },
  {
   "cell_type": "markdown",
   "id": "reduced-hierarchy",
   "metadata": {
    "papermill": {},
    "tags": []
   },
   "source": [
    "#### LinkedIn"
   ]
  },
  {
   "cell_type": "markdown",
   "id": "asian-theta",
   "metadata": {
    "papermill": {},
    "tags": []
   },
   "source": [
    "##### Get your cookies\n",
    "<a href='https://www.notion.so/LinkedIn-driver-Get-your-cookies-d20a8e7e508e42af8a5b52e33f3dba75'>How to get your cookies ?</a>"
   ]
  },
  {
   "cell_type": "code",
   "execution_count": null,
   "id": "timely-columbus",
   "metadata": {
    "papermill": {},
    "tags": []
   },
   "outputs": [],
   "source": [
    "LI_AT = 'YOUR_COOKIE_LI_AT'  # EXAMPLE AQFAzQN_PLPR4wAAAXc-FCKmgiMit5FLdY1af3-2\n",
    "JSESSIONID = 'YOUR_COOKIE_JSESSIONID'  # EXAMPLE ajax:8379907400220387585"
   ]
  },
  {
   "cell_type": "markdown",
   "id": "extra-external",
   "metadata": {
    "papermill": {},
    "tags": []
   },
   "source": [
    "##### Enter your post URL"
   ]
  },
  {
   "cell_type": "code",
   "execution_count": null,
   "id": "demographic-scanning",
   "metadata": {
    "papermill": {},
    "tags": []
   },
   "outputs": [],
   "source": [
    "POST_URL = \"POST_URL\""
   ]
  },
  {
   "cell_type": "markdown",
   "id": "rental-refund",
   "metadata": {
    "papermill": {},
    "tags": []
   },
   "source": [
    "#### Gsheet"
   ]
  },
  {
   "cell_type": "markdown",
   "id": "absent-folks",
   "metadata": {
    "papermill": {},
    "tags": []
   },
   "source": [
    "##### Enter your gsheet info"
   ]
  },
  {
   "cell_type": "markdown",
   "id": "junior-orientation",
   "metadata": {
    "papermill": {},
    "tags": []
   },
   "source": [
    "- Your spreadsheet id is located in your gsheet url after \"https://docs.google.com/spreadsheets/d/\" and before \"/edit\"\n",
    "- Remember that you must share your gsheet with our service account to connect : naas-share@naas-gsheets.iam.gserviceaccount.com\n",
    "- You must create your sheet before sending data into it"
   ]
  },
  {
   "cell_type": "code",
   "execution_count": null,
   "id": "empirical-generation",
   "metadata": {
    "papermill": {},
    "tags": []
   },
   "outputs": [],
   "source": [
    "# Spreadsheet id\n",
    "SPREADSHEET_ID = \"SPREADSHEET_ID\"\n",
    "\n",
    "# Sheet names\n",
    "SHEET_POST_LIKES = \"POST_LIKES\"\n",
    "SHEET_MY_NETWORK = \"MY_NETWORK\"\n",
    "SHEET_NOT_MY_NETWORK = \"NOT_MY_NETWORK\""
   ]
  },
  {
   "cell_type": "markdown",
   "id": "equipped-plain",
   "metadata": {
    "execution": {
     "iopub.execute_input": "2021-06-22T09:46:54.832725Z",
     "iopub.status.busy": "2021-06-22T09:46:54.832512Z",
     "iopub.status.idle": "2021-06-22T09:46:54.835997Z",
     "shell.execute_reply": "2021-06-22T09:46:54.835323Z",
     "shell.execute_reply.started": "2021-06-22T09:46:54.832702Z"
    },
    "papermill": {},
    "tags": []
   },
   "source": [
    "### Constant"
   ]
  },
  {
   "cell_type": "code",
   "execution_count": null,
   "id": "worldwide-purse",
   "metadata": {
    "papermill": {},
    "tags": []
   },
   "outputs": [],
   "source": [
    "DATETIME_FORMAT = \"%Y-%m-%d %H:%M:%S\""
   ]
  },
  {
   "cell_type": "markdown",
   "id": "hazardous-spirituality",
   "metadata": {
    "papermill": {},
    "tags": []
   },
   "source": [
    "### Get likes from post"
   ]
  },
  {
   "cell_type": "code",
   "execution_count": null,
   "id": "finnish-scottish",
   "metadata": {
    "papermill": {},
    "tags": []
   },
   "outputs": [],
   "source": [
    "df_posts = linkedin.connect(LI_AT, JSESSIONID).post.get_likes(POST_URL)\n",
    "df_posts[\"DATE_EXTRACT\"] = datetime.now().strftime(DATETIME_FORMAT)"
   ]
  },
  {
   "cell_type": "markdown",
   "id": "crude-melbourne",
   "metadata": {
    "papermill": {},
    "tags": []
   },
   "source": [
    "## Model"
   ]
  },
  {
   "cell_type": "markdown",
   "id": "appointed-jurisdiction",
   "metadata": {
    "execution": {
     "iopub.execute_input": "2021-06-22T08:33:04.560571Z",
     "iopub.status.busy": "2021-06-22T08:33:04.560242Z",
     "iopub.status.idle": "2021-06-22T08:33:04.563114Z",
     "shell.execute_reply": "2021-06-22T08:33:04.562551Z",
     "shell.execute_reply.started": "2021-06-22T08:33:04.560541Z"
    },
    "papermill": {},
    "tags": []
   },
   "source": [
    "### Get network for profiles"
   ]
  },
  {
   "cell_type": "code",
   "execution_count": null,
   "id": "convenient-saturday",
   "metadata": {
    "papermill": {},
    "tags": []
   },
   "outputs": [],
   "source": [
    "df_network = pd.DataFrame()\n",
    "\n",
    "for _, row in df_posts.iterrows():\n",
    "    profile_id = row.PROFILE_ID\n",
    "    # Get network information to know distance between you and people who likes the post\n",
    "    tmp_network = linkedin.connect(LI_AT, JSESSIONID).profile.get_network(profile_id)\n",
    "    # Concat dataframe\n",
    "    df_network = pd.concat([df_network, tmp_network], axis=0)\n",
    "    # Time sleep in made to mimic human behavior, here it is randomly done between 2 and 5 seconds\n",
    "    time.sleep(random.randint(2, 5))\n",
    "\n",
    "df_network.head(5)"
   ]
  },
  {
   "cell_type": "markdown",
   "id": "olympic-resource",
   "metadata": {
    "papermill": {},
    "tags": []
   },
   "source": [
    "### Merge posts likes and network data"
   ]
  },
  {
   "cell_type": "code",
   "execution_count": null,
   "id": "acute-recruitment",
   "metadata": {
    "papermill": {},
    "tags": []
   },
   "outputs": [],
   "source": [
    "df_all = pd.merge(df_posts, df_network, on=[\"PROFILE_URN\", \"PROFILE_ID\"], how=\"left\")\n",
    "df_all = df_all.sort_values(by=[\"FOLLOWERS_COUNT\"], ascending=False)\n",
    "df_all = df_all[df_all[\"DISTANCE\"] != \"SELF\"].reset_index(drop=True)\n",
    "df_all.head(5)"
   ]
  },
  {
   "cell_type": "markdown",
   "id": "arbitrary-royalty",
   "metadata": {
    "papermill": {},
    "tags": []
   },
   "source": [
    "### Split my network or not"
   ]
  },
  {
   "cell_type": "code",
   "execution_count": null,
   "id": "recorded-canyon",
   "metadata": {
    "papermill": {},
    "tags": []
   },
   "outputs": [],
   "source": [
    "# My network\n",
    "my_network = df_all[df_all[\"DISTANCE\"] == \"DISTANCE_1\"].reset_index(drop=True)\n",
    "my_network[\"DATE_EXTRACT\"] = datetime.now().strftime(DATETIME_FORMAT)\n",
    "my_network.head(5)"
   ]
  },
  {
   "cell_type": "code",
   "execution_count": null,
   "id": "synthetic-milton",
   "metadata": {
    "papermill": {},
    "tags": []
   },
   "outputs": [],
   "source": [
    "# Not in my network\n",
    "not_my_network = df_all[df_all[\"DISTANCE\"] != \"DISTANCE_1\"].reset_index(drop=True)\n",
    "not_my_network[\"DATE_EXTRACT\"] = datetime.now().strftime(DATETIME_FORMAT)\n",
    "not_my_network.head(5)"
   ]
  },
  {
   "cell_type": "markdown",
   "id": "correct-birth",
   "metadata": {
    "papermill": {},
    "tags": []
   },
   "source": [
    "## Output"
   ]
  },
  {
   "cell_type": "markdown",
   "id": "renewable-technician",
   "metadata": {
    "papermill": {},
    "tags": []
   },
   "source": [
    "### Save post likes in gsheet"
   ]
  },
  {
   "cell_type": "code",
   "execution_count": null,
   "id": "dominant-partner",
   "metadata": {
    "papermill": {},
    "tags": []
   },
   "outputs": [],
   "source": [
    "gsheet.connect(SPREADSHEET_ID).send(df_posts, sheet_name=SHEET_POST_LIKES, append=False)"
   ]
  },
  {
   "cell_type": "markdown",
   "id": "gross-johns",
   "metadata": {
    "papermill": {},
    "tags": []
   },
   "source": [
    "### Save people from my network in gsheet"
   ]
  },
  {
   "cell_type": "code",
   "execution_count": null,
   "id": "immune-parent",
   "metadata": {
    "papermill": {},
    "tags": []
   },
   "outputs": [],
   "source": [
    "gsheet.connect(SPREADSHEET_ID).send(my_network, sheet_name=SHEET_MY_NETWORK, append=False)"
   ]
  },
  {
   "cell_type": "markdown",
   "id": "excellent-davis",
   "metadata": {
    "papermill": {},
    "tags": []
   },
   "source": [
    "### Save people not in my network in gsheet"
   ]
  },
  {
   "cell_type": "code",
   "execution_count": null,
   "id": "twelve-penalty",
   "metadata": {
    "papermill": {},
    "tags": []
   },
   "outputs": [],
   "source": [
    "gsheet.connect(SPREADSHEET_ID).send(not_my_network, sheet_name=SHEET_NOT_MY_NETWORK, append=False)"
   ]
  }
 ],
 "metadata": {
  "kernelspec": {
   "display_name": "Python 3",
   "language": "python",
   "name": "python3"
  },
  "language_info": {
   "codemirror_mode": {
    "name": "ipython",
    "version": 3
   },
   "file_extension": ".py",
   "mimetype": "text/x-python",
   "name": "python",
   "nbconvert_exporter": "python",
   "pygments_lexer": "ipython3",
   "version": "3.8.8"
  },
  "papermill": {
   "default_parameters": {},
   "environment_variables": {},
   "parameters": {},
   "version": "2.3.3"
  },
  "widgets": {
   "application/vnd.jupyter.widget-state+json": {
    "state": {},
    "version_major": 2,
    "version_minor": 0
   }
  }
 },
 "nbformat": 4,
 "nbformat_minor": 5
}