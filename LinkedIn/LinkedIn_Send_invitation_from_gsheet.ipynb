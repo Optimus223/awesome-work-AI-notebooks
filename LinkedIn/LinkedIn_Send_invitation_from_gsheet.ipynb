{
 "cells": [
  {
   "cell_type": "markdown",
   "id": "second-registrar",
   "metadata": {
    "execution": {
     "iopub.execute_input": "2021-01-25T08:00:35.294800Z",
     "iopub.status.busy": "2021-01-25T08:00:35.294557Z",
     "iopub.status.idle": "2021-01-25T08:00:35.307281Z",
     "shell.execute_reply": "2021-01-25T08:00:35.306468Z",
     "shell.execute_reply.started": "2021-01-25T08:00:35.294775Z"
    },
    "papermill": {},
    "tags": []
   },
   "source": [
    "<img width=\"10%\" alt=\"Naas\" src=\"https://landen.imgix.net/jtci2pxwjczr/assets/5ice39g4.png?w=160\"/>"
   ]
  },
  {
   "cell_type": "markdown",
   "id": "boolean-amendment",
   "metadata": {
    "papermill": {},
    "tags": []
   },
   "source": [
    "# LinkedIn - Send invitation to profile\n",
    "<a href=\"https://app.naas.ai/user-redirect/naas/downloader?url=https://raw.githubusercontent.com/jupyter-naas/awesome-notebooks/master/LinkedIn/LinkedIn_Send_invitation_to_profile.ipynb\" target=\"_parent\"><img src=\"https://naasai-public.s3.eu-west-3.amazonaws.com/open_in_naas.svg\"/></a>"
   ]
  },
  {
   "cell_type": "markdown",
   "id": "8e32973f-9a81-4c9c-b526-8eb05453acee",
   "metadata": {
    "papermill": {},
    "tags": []
   },
   "source": [
    "**Tags:** #linkedin #invitation #naas_drivers #gsheet #automation #scheduled"
   ]
  },
  {
   "cell_type": "markdown",
   "id": "7e904365-6248-439c-9c2f-dee77a015ccc",
   "metadata": {
    "papermill": {},
    "tags": []
   },
   "source": [
    "**Author:** [Florent Ravenel](https://www.linkedin.com/in/florent-ravenel/)"
   ]
  },
  {
   "cell_type": "markdown",
   "id": "identified-logan",
   "metadata": {
    "papermill": {},
    "tags": []
   },
   "source": [
    "## Input"
   ]
  },
  {
   "cell_type": "markdown",
   "id": "c7e58aed-6eea-4b62-85bd-f8ba41bc15c6",
   "metadata": {
    "execution": {
     "iopub.execute_input": "2022-02-18T11:19:53.346414Z",
     "iopub.status.busy": "2022-02-18T11:19:53.346167Z",
     "iopub.status.idle": "2022-02-18T11:19:53.349087Z",
     "shell.execute_reply": "2022-02-18T11:19:53.348461Z",
     "shell.execute_reply.started": "2022-02-18T11:19:53.346391Z"
    },
    "tags": []
   },
   "source": [
    "### Paramètre d'execution"
   ]
  },
  {
   "cell_type": "raw",
   "id": "645316e7-426e-428f-969f-de6e8cf8122e",
   "metadata": {
    "papermill": {},
    "tags": []
   },
   "source": [
    "### Import library"
   ]
  },
  {
   "cell_type": "code",
   "execution_count": 2,
   "id": "strategic-savage",
   "metadata": {
    "execution": {
     "iopub.execute_input": "2022-02-21T13:33:30.764610Z",
     "iopub.status.busy": "2022-02-21T13:33:30.764388Z",
     "iopub.status.idle": "2022-02-21T13:33:31.150325Z",
     "shell.execute_reply": "2022-02-21T13:33:31.149605Z",
     "shell.execute_reply.started": "2022-02-21T13:33:30.764588Z"
    },
    "papermill": {},
    "tags": []
   },
   "outputs": [],
   "source": [
    "from naas_drivers import linkedin\n",
    "import naas_drivers"
   ]
  },
  {
   "cell_type": "markdown",
   "id": "sustained-rochester",
   "metadata": {
    "papermill": {},
    "tags": []
   },
   "source": [
    "### Get your cookies\n",
    "<a href='https://www.notion.so/LinkedIn-driver-Get-your-cookies-d20a8e7e508e42af8a5b52e33f3dba75'>How to get your cookies ?</a>"
   ]
  },
  {
   "cell_type": "code",
   "execution_count": 4,
   "id": "handy-jacksonville",
   "metadata": {
    "execution": {
     "iopub.execute_input": "2022-02-19T17:37:27.447596Z",
     "iopub.status.busy": "2022-02-19T17:37:27.447392Z",
     "iopub.status.idle": "2022-02-19T17:37:27.450276Z",
     "shell.execute_reply": "2022-02-19T17:37:27.449694Z",
     "shell.execute_reply.started": "2022-02-19T17:37:27.447574Z"
    },
    "papermill": {},
    "tags": []
   },
   "outputs": [],
   "source": [
    "LI_AT = 'YOUR_COOKIE_LI_AT'\n",
    "JSESSIONID = 'YOUR_COOKIE_JSESSIONID'\n",
    "add_per_launch = 4 # LinkedIn limit invitations up to 100 per week (Becareful !)"
   ]
  },
  {
   "cell_type": "markdown",
   "id": "average-boxing",
   "metadata": {
    "papermill": {},
    "tags": []
   },
   "source": [
    "### Enter content and recipient URL"
   ]
  },
  {
   "cell_type": "code",
   "execution_count": 5,
   "id": "statewide-acceptance",
   "metadata": {
    "execution": {
     "iopub.execute_input": "2022-02-19T17:37:29.559770Z",
     "iopub.status.busy": "2022-02-19T17:37:29.559489Z",
     "iopub.status.idle": "2022-02-19T17:37:29.562862Z",
     "shell.execute_reply": "2022-02-19T17:37:29.562254Z",
     "shell.execute_reply.started": "2022-02-19T17:37:29.559742Z"
    },
    "papermill": {},
    "tags": []
   },
   "outputs": [],
   "source": [
    "# List of people to invite\n",
    "# The spreadsheet needs to contains profil's url on the 1st column of the file.\n",
    "spreadsheet_id = \"YOUR_SPREADSHEET_ID\"\n",
    "sheet_name = \"YOUR_SHEET_NAME\""
   ]
  },
  {
   "cell_type": "markdown",
   "id": "rubber-nutrition",
   "metadata": {
    "execution": {
     "iopub.execute_input": "2021-05-15T10:12:55.887028Z",
     "iopub.status.busy": "2021-05-15T10:12:55.886761Z",
     "iopub.status.idle": "2021-05-15T10:12:55.899441Z",
     "shell.execute_reply": "2021-05-15T10:12:55.898476Z",
     "shell.execute_reply.started": "2021-05-15T10:12:55.886964Z"
    },
    "papermill": {},
    "tags": []
   },
   "source": [
    "## Model"
   ]
  },
  {
   "cell_type": "code",
   "execution_count": 1,
   "id": "fccd8120-bae6-4027-ac57-a23dde929119",
   "metadata": {
    "execution": {
     "iopub.execute_input": "2022-02-21T13:31:45.626018Z",
     "iopub.status.busy": "2022-02-21T13:31:45.625748Z",
     "iopub.status.idle": "2022-02-21T13:31:45.685744Z",
     "shell.execute_reply": "2022-02-21T13:31:45.684068Z",
     "shell.execute_reply.started": "2022-02-21T13:31:45.625950Z"
    },
    "tags": []
   },
   "outputs": [
    {
     "ename": "NameError",
     "evalue": "name 'naas_drivers' is not defined",
     "output_type": "error",
     "traceback": [
      "\u001b[0;31m---------------------------------------------------------------------------\u001b[0m",
      "\u001b[0;31mNameError\u001b[0m                                 Traceback (most recent call last)",
      "\u001b[0;32m<ipython-input-1-483138b46265>\u001b[0m in \u001b[0;36m<module>\u001b[0;34m\u001b[0m\n\u001b[1;32m      1\u001b[0m \u001b[0;31m# Dataframe\u001b[0m\u001b[0;34m\u001b[0m\u001b[0;34m\u001b[0m\u001b[0;34m\u001b[0m\u001b[0m\n\u001b[0;32m----> 2\u001b[0;31m df = naas_drivers.gsheet.connect(spreadsheet_id).get(\n\u001b[0m\u001b[1;32m      3\u001b[0m     \u001b[0msheet_name\u001b[0m\u001b[0;34m=\u001b[0m\u001b[0msheet_name\u001b[0m\u001b[0;34m\u001b[0m\u001b[0;34m\u001b[0m\u001b[0m\n\u001b[1;32m      4\u001b[0m )\n\u001b[1;32m      5\u001b[0m \u001b[0;34m\u001b[0m\u001b[0m\n",
      "\u001b[0;31mNameError\u001b[0m: name 'naas_drivers' is not defined"
     ]
    }
   ],
   "source": [
    "# Dataframe\n",
    "df = naas_drivers.gsheet.connect(spreadsheet_id).get(\n",
    "    sheet_name=sheet_name\n",
    ")\n",
    "\n",
    "# Alert when last than 20 urls remains in the gsheet\n",
    "if len(df) < 20:\n",
    "    email_to = \"YOUR_EMAIL\"\n",
    "    subject = \"Invite LinkedIn alert : \" + str(len(df)) + \" lines left in the Linkedin's url database\"\n",
    "    content = \"You can add more lines to the gsheet or update the Notebook to set a new spreadsheet !\"\n",
    "\n",
    "    naas.notification.send(email_to=email_to, subject=subject, html=content)\n",
    "\n",
    "df = df.head(add_per_launch)\n",
    "\n",
    "print(\"Invits will be send to :\")\n",
    "df"
   ]
  },
  {
   "cell_type": "markdown",
   "id": "6a389386-42a4-416d-b561-448b42e7700b",
   "metadata": {
    "papermill": {},
    "tags": []
   },
   "source": [
    "### Connect to Linkedin API"
   ]
  },
  {
   "cell_type": "code",
   "execution_count": 7,
   "id": "equal-hypothesis",
   "metadata": {
    "execution": {
     "iopub.execute_input": "2022-02-19T11:37:25.810191Z",
     "iopub.status.busy": "2022-02-19T11:37:25.809951Z",
     "iopub.status.idle": "2022-02-19T11:37:25.813275Z",
     "shell.execute_reply": "2022-02-19T11:37:25.812687Z",
     "shell.execute_reply.started": "2022-02-19T11:37:25.810168Z"
    },
    "papermill": {},
    "tags": []
   },
   "outputs": [],
   "source": [
    "result = linkedin.connect(LI_AT, JSESSIONID)"
   ]
  },
  {
   "cell_type": "markdown",
   "id": "developed-acquisition",
   "metadata": {
    "papermill": {},
    "tags": []
   },
   "source": [
    "## Output"
   ]
  },
  {
   "cell_type": "markdown",
   "id": "447b0427-f056-49d1-8cc4-49b4e848f6f5",
   "metadata": {
    "papermill": {},
    "tags": []
   },
   "source": [
    "### Send the invitation and delete profil from Gsheet"
   ]
  },
  {
   "cell_type": "code",
   "execution_count": 8,
   "id": "impossible-subsection",
   "metadata": {
    "execution": {
     "iopub.execute_input": "2022-02-19T11:37:28.472084Z",
     "iopub.status.busy": "2022-02-19T11:37:28.471868Z",
     "iopub.status.idle": "2022-02-19T11:37:43.787945Z",
     "shell.execute_reply": "2022-02-19T11:37:43.787171Z",
     "shell.execute_reply.started": "2022-02-19T11:37:28.472060Z"
    },
    "papermill": {},
    "tags": []
   },
   "outputs": [
    {
     "name": "stdout",
     "output_type": "stream",
     "text": [
      "Profil ajouté : https://www.linkedin.com/in/ombeline-sonet-13003a95\n",
      "The caller does not have permission\n",
      "Profil ajouté : https://www.linkedin.com/in/sophie-delann%C3%A9e-036816139\n",
      "The caller does not have permission\n",
      "Profil ajouté : https://www.linkedin.com/in/jean-fran%C3%A7ois-douet-a47128135\n",
      "The caller does not have permission\n",
      "Profil ajouté : https://www.linkedin.com/in/mathieu-gambier-97460959\n",
      "The caller does not have permission\n"
     ]
    }
   ],
   "source": [
    "for index, row in df.iterrows():\n",
    "    result = linkedin.invitation.send(recipient_url=row.url)\n",
    "    print(\"Invitation sent to : \" + str(row.url))\n",
    "    # Suppression de la ligne du gsheet\n",
    "    naas_drivers.gsheet.connect(spreadsheet_id).delete(\n",
    "        sheet_name=sheet_name,\n",
    "        rows=[2])"
   ]
  }
 ],
 "metadata": {
  "kernelspec": {
   "display_name": "Python 3",
   "language": "python",
   "name": "python3"
  },
  "language_info": {
   "codemirror_mode": {
    "name": "ipython",
    "version": 3
   },
   "file_extension": ".py",
   "mimetype": "text/x-python",
   "name": "python",
   "nbconvert_exporter": "python",
   "pygments_lexer": "ipython3",
   "version": "3.8.8"
  },
  "papermill": {
   "default_parameters": {},
   "environment_variables": {},
   "parameters": {},
   "version": "2.3.3"
  },
  "widgets": {
   "application/vnd.jupyter.widget-state+json": {
    "state": {},
    "version_major": 2,
    "version_minor": 0
   }
  }
 },
 "nbformat": 4,
 "nbformat_minor": 5
}
