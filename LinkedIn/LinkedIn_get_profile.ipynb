{
 "cells": [
  {
   "cell_type": "markdown",
   "id": "peaceful-ranking",
   "metadata": {
    "execution": {
     "iopub.execute_input": "2021-01-25T08:00:35.294800Z",
     "iopub.status.busy": "2021-01-25T08:00:35.294557Z",
     "iopub.status.idle": "2021-01-25T08:00:35.307281Z",
     "shell.execute_reply": "2021-01-25T08:00:35.306468Z",
     "shell.execute_reply.started": "2021-01-25T08:00:35.294775Z"
    },
    "papermill": {},
    "tags": []
   },
   "source": [
    "<img width=\"10%\" alt=\"Naas\" src=\"https://landen.imgix.net/jtci2pxwjczr/assets/5ice39g4.png?w=160\"/>"
   ]
  },
  {
   "cell_type": "markdown",
   "id": "given-recipient",
   "metadata": {
    "papermill": {},
    "tags": []
   },
   "source": [
    "<img width=\"20%\" alt=\"Naas\" src=\"https://logos-world.net/wp-content/uploads/2020/04/Linkedin-Logo.png\">"
   ]
  },
  {
   "cell_type": "markdown",
   "id": "sticky-course",
   "metadata": {
    "papermill": {},
    "tags": []
   },
   "source": [
    "# LinkedIn - Get profile\n",
    "<a href=\"https://app.naas.ai/user-redirect/naas/downloader?url=https://raw.githubusercontent.com/jupyter-naas/awesome-notebooks/master/LinkedIn/LinkedIn_get_profile.ipynb\" target=\"_parent\">\n",
    "<img src=\"https://img.shields.io/badge/-Open%20in%20Naas-success?labelColor=000000&logo=data:image/svg+xml;base64,PD94bWwgdmVyc2lvbj0iMS4wIiBlbmNvZGluZz0iVVRGLTgiPz4KPHN2ZyB3aWR0aD0iMTAyNHB4IiBoZWlnaHQ9IjEwMjRweCIgdmlld0JveD0iMCAwIDEwMjQgMTAyNCIgeG1sbnM9Imh0dHA6Ly93d3cudzMub3JnLzIwMDAvc3ZnIiB4bWxuczp4bGluaz0iaHR0cDovL3d3dy53My5vcmcvMTk5OS94bGluayIgdmVyc2lvbj0iMS4xIj4KIDwhLS0gR2VuZXJhdGVkIGJ5IFBpeGVsbWF0b3IgUHJvIDIuMC41IC0tPgogPGRlZnM+CiAgPHRleHQgaWQ9InN0cmluZyIgdHJhbnNmb3JtPSJtYXRyaXgoMS4wIDAuMCAwLjAgMS4wIDIyOC4wIDU0LjUpIiBmb250LWZhbWlseT0iQ29tZm9ydGFhLVJlZ3VsYXIsIENvbWZvcnRhYSIgZm9udC1zaXplPSI4MDAiIHRleHQtZGVjb3JhdGlvbj0ibm9uZSIgZmlsbD0iI2ZmZmZmZiIgeD0iMS4xOTk5OTk5OTk5OTk5ODg2IiB5PSI3MDUuMCI+bjwvdGV4dD4KIDwvZGVmcz4KIDx1c2UgaWQ9Im4iIHhsaW5rOmhyZWY9IiNzdHJpbmciLz4KPC9zdmc+Cg==\"/>\n",
    "</a>"
   ]
  },
  {
   "cell_type": "markdown",
   "id": "structural-elevation",
   "metadata": {
    "papermill": {},
    "tags": []
   },
   "source": [
    "## Get your cookies\n",
    "To take action on your behalf on a social network, Naas needs to connect as you. To do this, it needs your session cookie(s). This will give your Naas access to your social network account.\n",
    "- [Open your profile](https://www.linkedin.com/in/)\n",
    "- Right-click anywhere on the page and open \"Inspect\"\n",
    "- Locate the \"Application\" tab. Then select \"Cookies\" > Locate the cookie you're looking for = \"li_at\" and \"JSESSIONID\" :"
   ]
  },
  {
   "cell_type": "markdown",
   "id": "protective-volume",
   "metadata": {
    "papermill": {},
    "tags": []
   },
   "source": [
    "<img width=\"80%\" alt=\"Naas\" src=\"https://public.naas.ai/ZmxvcmVudC0yRXJhdmVuZWwtNDBjYXNoc3RvcnktMkVjb20=/asset/4ccb0452e5717de02f550f4b87026dd0ee6ddcb4e14b898e59d31fce64b3\">"
   ]
  },
  {
   "cell_type": "markdown",
   "id": "round-retention",
   "metadata": {
    "papermill": {},
    "tags": []
   },
   "source": [
    "## Input"
   ]
  },
  {
   "cell_type": "code",
   "execution_count": 1,
   "id": "greek-atlanta",
   "metadata": {
    "execution": {
     "iopub.execute_input": "2021-05-18T16:48:36.660374Z",
     "iopub.status.busy": "2021-05-18T16:48:36.660071Z",
     "iopub.status.idle": "2021-05-18T16:48:40.495414Z",
     "shell.execute_reply": "2021-05-18T16:48:40.494613Z",
     "shell.execute_reply.started": "2021-05-18T16:48:36.660285Z"
    },
    "papermill": {},
    "tags": []
   },
   "outputs": [],
   "source": [
    "from naas_drivers import linkedin\n",
    "\n",
    "LI_AT = 'YOUR_COOKIE_LI_AT'  # EXAMPLE AQFAzQN_PLPR4wAAAXc-FCKmgiMit5FLdY1af3-2\n",
    "JSESSIONID = 'YOUR_COOKIE_JSESSIONID'  # EXAMPLE ajax:8379907400220387585"
   ]
  },
  {
   "cell_type": "markdown",
   "id": "blessed-buyer",
   "metadata": {
    "papermill": {},
    "tags": []
   },
   "source": [
    "## Model & Output\n",
    "Get profile ID or enter the complete url, and return a dataframe."
   ]
  },
  {
   "cell_type": "markdown",
   "id": "nasty-magnet",
   "metadata": {
    "papermill": {},
    "tags": []
   },
   "source": [
    "<img width=\"80%\" alt=\"Naas\" src=\"https://public.naas.ai/ZmxvcmVudC0yRXJhdmVuZWwtNDBjYXNoc3RvcnktMkVjb20=/asset/c05b3bf416d771e70ca2f1f0b96855fe1a9e9cae53899e5412d0232075ff\">"
   ]
  },
  {
   "cell_type": "markdown",
   "id": "voluntary-protection",
   "metadata": {
    "execution": {
     "iopub.execute_input": "2021-05-15T10:12:55.887028Z",
     "iopub.status.busy": "2021-05-15T10:12:55.886761Z",
     "iopub.status.idle": "2021-05-15T10:12:55.899441Z",
     "shell.execute_reply": "2021-05-15T10:12:55.898476Z",
     "shell.execute_reply.started": "2021-05-15T10:12:55.886964Z"
    },
    "papermill": {},
    "tags": []
   },
   "source": [
    "## Get the profile\n",
    "Get the information return in a dataframe.<br><br>\n",
    "**Available columns :** \n",
    "- FIRSTNAME : First name\n",
    "- LASTNAME : Last name\n",
    "- BIRTHDATE_DAY : Day of birth in format DD\n",
    "- BIRTHDATE_MONTH : Month of birth in format MM\n",
    "- BIRTHDATE_YEAR : Year of birth in format YYYY\n",
    "- BIRTHDATE : Birthdate in format DD, MM - YYYY \n",
    "- COUNTRY : Country name\n",
    "- ADDRESS : Address\n",
    "- LK_HEADLINE : Job description (headline)\n",
    "- LK_SECTOR : Work industry\n",
    "- LK_FOLLOWERS : Number of followers\n",
    "- LK_PHONE : Phone number\n",
    "- LK_EMAIL : Email\n",
    "- LK_TWITER : Twitter account"
   ]
  },
  {
   "cell_type": "code",
   "execution_count": null,
   "id": "annual-composer",
   "metadata": {
    "papermill": {},
    "tags": []
   },
   "outputs": [],
   "source": [
    "# Enter the linkedin id or linkedin url\n",
    "url = \"LINKEDIN_ID or LINKEDIN_URL\"\n",
    "\n",
    "# Get dataframe as result\n",
    "df = linkedin.connect(LI_AT, JSESSIONID).get_profil(url)\n",
    "df"
   ]
  }
 ],
 "metadata": {
  "kernelspec": {
   "display_name": "Python 3",
   "language": "python",
   "name": "python3"
  },
  "language_info": {
   "codemirror_mode": {
    "name": "ipython",
    "version": 3
   },
   "file_extension": ".py",
   "mimetype": "text/x-python",
   "name": "python",
   "nbconvert_exporter": "python",
   "pygments_lexer": "ipython3",
   "version": "3.8.8"
  },
  "papermill": {
   "default_parameters": {},
   "environment_variables": {},
   "parameters": {},
   "version": "2.3.3"
  },
  "widgets": {
   "application/vnd.jupyter.widget-state+json": {
    "state": {},
    "version_major": 2,
    "version_minor": 0
   }
  }
 },
 "nbformat": 4,
 "nbformat_minor": 5
}