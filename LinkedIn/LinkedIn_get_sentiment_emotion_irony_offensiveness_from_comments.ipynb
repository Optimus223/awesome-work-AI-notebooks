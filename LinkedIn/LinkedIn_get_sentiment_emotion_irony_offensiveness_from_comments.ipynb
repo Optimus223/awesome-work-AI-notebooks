{
 "cells": [
  {
   "cell_type": "markdown",
   "id": "developed-maldives",
   "metadata": {
    "execution": {
     "iopub.execute_input": "2021-01-25T08:00:35.294800Z",
     "iopub.status.busy": "2021-01-25T08:00:35.294557Z",
     "iopub.status.idle": "2021-01-25T08:00:35.307281Z",
     "shell.execute_reply": "2021-01-25T08:00:35.306468Z",
     "shell.execute_reply.started": "2021-01-25T08:00:35.294775Z"
    },
    "papermill": {},
    "tags": []
   },
   "source": [
    "<img width=\"10%\" alt=\"Naas\" src=\"https://landen.imgix.net/jtci2pxwjczr/assets/5ice39g4.png?w=160\"/>"
   ]
  },
  {
   "cell_type": "markdown",
   "id": "sharing-bracket",
   "metadata": {
    "papermill": {},
    "tags": []
   },
   "source": [
    "# LinkedIn - Get sentiment, emotion, irony and offensiveness from comments\n",
    "<a href=\"\" target=\"_parent\"><img src=\"https://naasai-public.s3.eu-west-3.amazonaws.com/open_in_naas.svg\"/></a>"
   ]
  },
  {
   "cell_type": "markdown",
   "id": "e8c1a8fa-802d-45c9-bcf2-138f0ef0f86e",
   "metadata": {
    "papermill": {},
    "tags": []
   },
   "source": [
    "**Tags:** #linkedin #nlp #transformers #ai #post #comments #naas_drivers #content #snippet #dataframe"
   ]
  },
  {
   "cell_type": "markdown",
   "id": "b95d2ae1-1642-4efb-b647-18ed3430968e",
   "metadata": {
    "papermill": {},
    "tags": []
   },
   "source": [
    "**Author:** [Nikolaj Groeneweg](https://www.linkedin.com/in/njgroene/)"
   ]
  },
  {
   "cell_type": "markdown",
   "id": "655dccd8-1f26-4353-8742-a8a907fc1ec3",
   "metadata": {
    "execution": {
     "iopub.execute_input": "2022-06-17T18:09:20.894009Z",
     "iopub.status.busy": "2022-06-17T18:09:20.893694Z",
     "iopub.status.idle": "2022-06-17T18:09:20.901650Z",
     "shell.execute_reply": "2022-06-17T18:09:20.900620Z",
     "shell.execute_reply.started": "2022-06-17T18:09:20.893970Z"
    }
   },
   "source": [
    "## About this template\n",
    "\n",
    "### What it does\n",
    "\n",
    "This notebook gets all the comments on a LinkedIn post, and performs sentiment analysis, emotion classification and some semantic analysis on them. \n",
    "It classifies each comment and returns the following information:\n",
    "\n",
    "- is the comment postive, negative or neutral?\n",
    "- is the comment ironic?\n",
    "- is the comment offensive?\n",
    "- does the comment express joy, optimism, anger or sadness?\n"
   ]
  },
  {
   "cell_type": "markdown",
   "id": "9f0bf63a-7f09-4b8b-8c97-c8a447527ac8",
   "metadata": {},
   "source": [
    "### References"
   ]
  },
  {
   "cell_type": "markdown",
   "id": "05bac1e4-9c77-4b3d-b53a-26c03173cd7e",
   "metadata": {},
   "source": [
    "This template is based on the following work :\n",
    "\n",
    "F. Barbieri, J. Camacho-Collados, L. Neves and L.E. Anke (2020), *TweetEval: Unified Benchmark and Comparative Evaluation for Tweet Classification*, CoRR abs/2010.12421. Full paper : https://arxiv.org/abs/2010.12421. Official github : https://github.com/cardiffnlp/tweeteval\n",
    "\n",
    "All credit goes to the above authors, any mistakes are on the author of this template. \n",
    "  "
   ]
  },
  {
   "cell_type": "markdown",
   "id": "7c21aac2-d324-4256-ae3f-07c85802b9b8",
   "metadata": {},
   "source": [
    "### Disclaimers"
   ]
  },
  {
   "cell_type": "markdown",
   "id": "3e097daa-1720-45f3-9e08-0a61ef8bc1d1",
   "metadata": {},
   "source": [
    "The machine learning models used in this template were trained on datasets of tweets.<br>Details can be found here : https://github.com/cardiffnlp/tweeteval/blob/main/README.md. \n",
    "\n",
    "These models may be expected to work well on shorter comments, but their output will become less reliable as the length of the text increases. \n",
    "\n",
    "The \"emotion\" classification performs rather unpredictably on very short comments. For many neutral comments it defaults to \"joy\", there being neutral category). It is most useful to identify and filter for negative emotions (sadness) and to identify interesting commments (optimism).\n",
    "\n",
    "In general, caution is recommended when integrating these classifications in any automated decision pipeline."
   ]
  },
  {
   "cell_type": "markdown",
   "id": "aging-category",
   "metadata": {
    "papermill": {},
    "tags": []
   },
   "source": [
    "## Input"
   ]
  },
  {
   "cell_type": "markdown",
   "id": "bba6557f-8141-43f9-8e8e-b678643804da",
   "metadata": {
    "execution": {
     "iopub.execute_input": "2022-06-17T18:10:59.961420Z",
     "iopub.status.busy": "2022-06-17T18:10:59.961190Z",
     "iopub.status.idle": "2022-06-17T18:10:59.964160Z",
     "shell.execute_reply": "2022-06-17T18:10:59.963527Z",
     "shell.execute_reply.started": "2022-06-17T18:10:59.961394Z"
    }
   },
   "source": [
    "### Import libraries"
   ]
  },
  {
   "cell_type": "code",
   "execution_count": 2,
   "id": "7c1a7955-6f28-465f-a924-6252f0df3bf0",
   "metadata": {
    "execution": {
     "iopub.execute_input": "2022-06-18T15:09:08.820537Z",
     "iopub.status.busy": "2022-06-18T15:09:08.820243Z",
     "iopub.status.idle": "2022-06-18T15:09:25.150958Z",
     "shell.execute_reply": "2022-06-18T15:09:25.150233Z",
     "shell.execute_reply.started": "2022-06-18T15:09:08.820506Z"
    },
    "tags": []
   },
   "outputs": [],
   "source": [
    "from naas_drivers import linkedin\n",
    "from transformers import pipeline\n",
    "from transformers import AutoModelForSequenceClassification\n",
    "from transformers import TFAutoModelForSequenceClassification\n",
    "from transformers import AutoTokenizer\n",
    "import numpy as np\n",
    "from scipy.special import softmax\n",
    "import csv\n",
    "import urllib.request\n",
    "import os.path"
   ]
  },
  {
   "cell_type": "markdown",
   "id": "28bd56e8-33c4-4d5b-80d2-67fa7f3ae9d7",
   "metadata": {},
   "source": [
    "### Setup LinkedIn"
   ]
  },
  {
   "cell_type": "markdown",
   "id": "8fab8257-662f-48d6-99e9-49fbdffe0cfa",
   "metadata": {},
   "source": [
    "### Get your cookies\n",
    "<a href='https://www.notion.so/LinkedIn-driver-Get-your-cookies-d20a8e7e508e42af8a5b52e33f3dba75'>How to get your cookies ?</a>"
   ]
  },
  {
   "cell_type": "code",
   "execution_count": 3,
   "id": "czech-cooking",
   "metadata": {
    "execution": {
     "iopub.execute_input": "2022-06-18T15:09:25.152545Z",
     "iopub.status.busy": "2022-06-18T15:09:25.152151Z",
     "iopub.status.idle": "2022-06-18T15:09:25.170669Z",
     "shell.execute_reply": "2022-06-18T15:09:25.162858Z",
     "shell.execute_reply.started": "2022-06-18T15:09:25.152516Z"
    },
    "papermill": {},
    "tags": []
   },
   "outputs": [],
   "source": [
    "LI_AT = 'AQEDAQBbOD8F3bbOAAABgFyo1A4AAAGBlI12_k4AMAx8JsQTmkTc4fRe97N1xYlyPqfpjKh_D5Gk0gBIbxAhoJmyBL1ElGXP4ZW-Uiy5KwHMP6bqZmaXXZzjsetwrEJbaIddmanadE7w2w4TPRQJeujG'  # EXAMPLE AQFAzQN_PLPR4wAAAXc-FCKmgiMit5FLdY1af3-2\n",
    "JSESSIONID = 'ajax:4652558780091658889'  # EXAMPLE ajax:8379907400220387585"
   ]
  },
  {
   "cell_type": "markdown",
   "id": "acff9328-bbc7-46d9-bed6-431cc1f62d51",
   "metadata": {},
   "source": [
    "### Enter post URL"
   ]
  },
  {
   "cell_type": "code",
   "execution_count": 23,
   "id": "c0339efa-fe57-42cb-978f-346acc4959ec",
   "metadata": {
    "execution": {
     "iopub.execute_input": "2022-06-18T15:28:08.847457Z",
     "iopub.status.busy": "2022-06-18T15:28:08.847226Z",
     "iopub.status.idle": "2022-06-18T15:28:08.852166Z",
     "shell.execute_reply": "2022-06-18T15:28:08.851406Z",
     "shell.execute_reply.started": "2022-06-18T15:28:08.847434Z"
    },
    "tags": []
   },
   "outputs": [],
   "source": [
    "POST_URL = \"https://www.linkedin.com/posts/owenminde_with-30-year-fixed-mortgage-rates-moving-activity-6942758528172396545-RiZW\""
   ]
  },
  {
   "cell_type": "markdown",
   "id": "italic-rhythm",
   "metadata": {
    "papermill": {},
    "tags": []
   },
   "source": [
    "## Model"
   ]
  },
  {
   "cell_type": "markdown",
   "id": "musical-information",
   "metadata": {
    "execution": {
     "iopub.execute_input": "2021-05-15T10:12:55.887028Z",
     "iopub.status.busy": "2021-05-15T10:12:55.886761Z",
     "iopub.status.idle": "2021-05-15T10:12:55.899441Z",
     "shell.execute_reply": "2021-05-15T10:12:55.898476Z",
     "shell.execute_reply.started": "2021-05-15T10:12:55.886964Z"
    },
    "papermill": {},
    "tags": []
   },
   "source": [
    "Get the post comments and return them in a dataframe. <br> Colums are added for classifier output.<br>\n",
    "\n",
    "**Available columns after classification :**\n",
    "- PROFILE_URN : LinkedIn unique profile id\n",
    "- PROFILE_ID : LinkedIn public profile id\n",
    "- FIRSTNAME\n",
    "- LASTNAME\n",
    "- TEXT\n",
    "- SENTIMENT\n",
    "- SENTIMENT_SCORE\n",
    "- IRONY\n",
    "- IRONY_SCORE\n",
    "- OFFENSIVE\n",
    "- OFFENSIVE_SCORE\n",
    "- EMOTION\n",
    "- EMOTION_SCORE\n",
    "- OCCUPATION\n",
    "- ACTIVITY_COMMENTS\n",
    "- ACTIVITY_LIKES\n",
    "- DISTANCE\n",
    "- POST_URL"
   ]
  },
  {
   "cell_type": "code",
   "execution_count": null,
   "id": "e283c190-1c9a-4fec-93cf-42b83961e191",
   "metadata": {
    "tags": []
   },
   "outputs": [],
   "source": [
    "df = linkedin.connect(LI_AT, JSESSIONID).post.get_comments(POST_URL)\n",
    "# add columns for classification output\n",
    "df.insert(loc=11, column='SENTIMENT', value=None)\n",
    "df.insert(loc=12, column='SENTIMENT_SCORE', value=None)\n",
    "df.insert(loc=13, column='IRONY', value=None)\n",
    "df.insert(loc=14, column='IRONY_SCORE', value=None)\n",
    "df.insert(loc=15, column='OFFENSIVE', value=None)\n",
    "df.insert(loc=16, column='OFFENSIVE_SCORE', value=None)\n",
    "df.insert(loc=17, column='EMOTION', value=None)\n",
    "df.insert(loc=18, column='EMOTION_SCORE', value=None)"
   ]
  },
  {
   "cell_type": "code",
   "execution_count": 25,
   "id": "abecb135-38ca-474a-ba47-4f7ab9280f9c",
   "metadata": {
    "execution": {
     "iopub.execute_input": "2022-06-18T15:28:26.080339Z",
     "iopub.status.busy": "2022-06-18T15:28:26.080088Z",
     "iopub.status.idle": "2022-06-18T15:28:26.091638Z",
     "shell.execute_reply": "2022-06-18T15:28:26.090933Z",
     "shell.execute_reply.started": "2022-06-18T15:28:26.080306Z"
    },
    "tags": []
   },
   "outputs": [],
   "source": [
    "def preprocess(text):\n",
    "    \"\"\"Preprocess text to be classified\n",
    "    Replaces user-tags and URLs with neutral token\n",
    "    \"\"\"\n",
    "    new_text = []\n",
    "    for t in text.split(\" \"):\n",
    "        t = '@user' if t.startswith('@') and len(t) > 1 else t\n",
    "        t = 'http' if t.startswith('http') else t\n",
    "        new_text.append(t)\n",
    "    return \" \".join(new_text)\n",
    "\n",
    "def classify(text, task, tokenizers, models, task_labels):\n",
    "    \"\"\"Classifies text using task classifier\n",
    "    with the corresponding tokenizer and model\n",
    "    :return: dictionary with winning label and corresponding score\n",
    "    \"\"\"\n",
    "    text = preprocess(text)\n",
    "    tokenizer = tokenizers[task]\n",
    "    model = models[task]\n",
    "    labels = task_labels[task]\n",
    "    encoded_input = tokenizer(text, return_tensors='pt')\n",
    "    output = model(**encoded_input)\n",
    "    scores = output[0][0].detach().numpy()\n",
    "    scores = softmax(scores)\n",
    "    ranking = np.argsort(scores)\n",
    "    ranking = ranking[::-1]\n",
    "    idx = ranking[0]\n",
    "    label = str(labels[idx])\n",
    "    score =np.round(float(scores[idx]), 4)\n",
    "    return {\"label\":label, \"score\":score}"
   ]
  },
  {
   "cell_type": "code",
   "execution_count": 26,
   "id": "ca45b04e-d103-49ef-80a7-f2ed4f3085cd",
   "metadata": {
    "execution": {
     "iopub.execute_input": "2022-06-18T15:28:26.094434Z",
     "iopub.status.busy": "2022-06-18T15:28:26.094104Z",
     "iopub.status.idle": "2022-06-18T15:29:40.894005Z",
     "shell.execute_reply": "2022-06-18T15:29:40.893401Z",
     "shell.execute_reply.started": "2022-06-18T15:28:26.094408Z"
    },
    "tags": []
   },
   "outputs": [],
   "source": [
    "# selected subset of available tasks\n",
    "tasks = [\"sentiment\", \"emotion\", \"irony\", \"offensive\"]\n",
    "# these labels are slightly modified to improve readibility\n",
    "labels = {\"sentiment\":['negative', 'neutral', 'positive'], \"emotion\":['anger', 'joy', 'optimism', 'sadness'], \"irony\":['not-ironic', 'ironic'], \"offensive\":['not-offensive', 'offensive']}\n",
    "# models and tokenizers will be loaded from huggingface\n",
    "models = {}\n",
    "tokenizers = {}\n",
    "\n",
    "# perform each of the classifications and enrich dataframe\n",
    "for task in tasks:\n",
    "    MODEL = f\"cardiffnlp/twitter-roberta-base-{task}\"\n",
    "    # on first run, tokenizer and model are loaded from hugging face\n",
    "    tokenizer = AutoTokenizer.from_pretrained(MODEL)\n",
    "    model = AutoModelForSequenceClassification.from_pretrained(MODEL)  \n",
    "    \n",
    "    # save tokenizer and models to local disk\n",
    "    tokenizer.save_pretrained(MODEL)\n",
    "    model.save_pretrained(MODEL)\n",
    "    \n",
    "    models[task] = model\n",
    "    tokenizers[task] = tokenizer\n",
    "    \n",
    "    # execution time is not a concern, so we can just use .apply() to apply classifier\n",
    "    result = df[\"TEXT\"].apply(classify, args=(task,tokenizers, models, labels))\n",
    "    \n",
    "    # keep only winning label and score, inspect result to see full classifier output\n",
    "    df[str.upper(task)] = [d['label'] for d in result]\n",
    "    df[str.upper(task)+\"_SCORE\"] = [d['score'] for d in result]"
   ]
  },
  {
   "cell_type": "markdown",
   "id": "challenging-quarter",
   "metadata": {
    "papermill": {},
    "tags": []
   },
   "source": [
    "## Output"
   ]
  },
  {
   "cell_type": "markdown",
   "id": "confident-nature",
   "metadata": {
    "papermill": {},
    "tags": []
   },
   "source": [
    "### Display result"
   ]
  },
  {
   "cell_type": "code",
   "execution_count": 27,
   "id": "2643dc4c-dbc2-483b-8549-982d0e13b3c1",
   "metadata": {
    "execution": {
     "iopub.execute_input": "2022-06-18T15:29:40.896926Z",
     "iopub.status.busy": "2022-06-18T15:29:40.896733Z",
     "iopub.status.idle": "2022-06-18T15:29:40.913050Z",
     "shell.execute_reply": "2022-06-18T15:29:40.912507Z",
     "shell.execute_reply.started": "2022-06-18T15:29:40.896905Z"
    },
    "tags": []
   },
   "outputs": [
    {
     "name": "stdout",
     "output_type": "stream",
     "text": [
      "it's still time for Europeans to catch the boat 🛥\n",
      "\tneutral(0.731)\n",
      "\tnot-ironic(0.8926)\n",
      "\tnot-offensive(0.8844)\n",
      "\tjoy(0.4769)\n",
      "\t\n",
      "\n",
      "\n",
      "😀 I like that analogy. I got a 5%, 25 year fixed rate circa 2008 and thought it was the best financial decision I had ever made (remembering the scars of 15% in 1990.)  I took me about 10 years to abandon ship.   Still, if I went back in time with the knowledge I had at the then I would still make the same mistake again. If I were a first time buyer starting out now, I would jump at the chance of getting a 30 year fixed rate mortgage at 3% and borrow as much as I could possibly afford.\n",
      "\tneutral(0.4571)\n",
      "\tnot-ironic(0.671)\n",
      "\tnot-offensive(0.8953)\n",
      "\tsadness(0.5962)\n",
      "\t\n",
      "\n",
      "\n",
      "Unfortunately it doesn’t usually work that way.  Prices will react since cash flow is what matters, not last traded price, when applying for a loan.  If the next buyer can only pay 20% less, you now can’t sell.  But life happens.  The world isn’t made up of stable, life time Employment IBM jobs with 2.7 mortgages and everyone else.  People change jobs and locations so often now, overpaying can decimate your future financial flexibility.  Job across the country with a 20% pay raise?  Too bad, you can’t short sale the home because you lack the cash to make the bank whole. Lose your job?  Time for a quick and painful bankruptcy because of your negative equity.  People who overpaid in 2007 and had to weather a pretty minor recession (historically) are still unable to recover.  It didn’t matter if it was a fixed rate loan.\n",
      "\tnegative(0.7637)\n",
      "\tironic(0.5778)\n",
      "\tnot-offensive(0.8504)\n",
      "\tsadness(0.7199)\n",
      "\t\n",
      "\n",
      "\n",
      "Part of the problem is real wages have not kept up.\n",
      "\tnegative(0.8948)\n",
      "\tnot-ironic(0.7872)\n",
      "\tnot-offensive(0.8343)\n",
      "\tsadness(0.7394)\n",
      "\t\n",
      "\n",
      "\n",
      "Bill Falcone I agree. But inflation is now effectively the only way to reduce the overall debt. If you can't pay it back, inflate it away!\n",
      "\tneutral(0.5741)\n",
      "\tnot-ironic(0.7509)\n",
      "\tnot-offensive(0.8361)\n",
      "\toptimism(0.4277)\n",
      "\t\n",
      "\n",
      "\n",
      "Moshe Shamouilian I think most people agree including myself but the Fed isn’t dumb. They knew the economy would practically implode if rates were normalized. They (and politicians…cough cough…)also know that people would rather live on easy money than experience severe financial hardship. Whether we admit that or not is another story.\n",
      "\tneutral(0.4603)\n",
      "\tnot-ironic(0.8734)\n",
      "\toffensive(0.6069)\n",
      "\toptimism(0.3921)\n",
      "\t\n",
      "\n",
      "\n",
      "True, but home inventory and fierce competition here in San Diego made those willing and able buyers unable to buy the homes they sought after.\n",
      "\tnegative(0.5657)\n",
      "\tnot-ironic(0.7165)\n",
      "\tnot-offensive(0.9084)\n",
      "\tsadness(0.7966)\n",
      "\t\n",
      "\n",
      "\n",
      "What about those that didnt buy? Between HPA, rates and increased taxes (due to higher home prices) will be interesting to see how this  affects mobility (how many people can sell/move and stomach the higher payments) and new buyers will be forced to pay a much larger share of income.\n",
      "\tneutral(0.6236)\n",
      "\tnot-ironic(0.9033)\n",
      "\tnot-offensive(0.9204)\n",
      "\toptimism(0.3978)\n",
      "\t\n",
      "\n",
      "\n",
      "If the economy was as strong as so many people claim these small rate hikes wouldn’t have such an impact. The Fed would have to raise rates about 15-20 more times to reach the actual rate of inflation and that ain’t happening. These hikes prove that, just as in 2008, people are living beyond their means and therein lies the real problem. Just a job loss or divorce away from financial hardship and when that happens it doesn’t matter what rate/mortgage you have. Only a matter of time until the Fed reverses course and goes back to near zero because the global economy can’t survive without that.\n",
      "\tnegative(0.6203)\n",
      "\tnot-ironic(0.871)\n",
      "\tnot-offensive(0.7725)\n",
      "\tanger(0.4943)\n",
      "\t\n",
      "\n",
      "\n",
      "James, I love your stuff, but not quite right on Switzerland.  Double lifetime mortgages are rare, but do exist. \n",
      "\tpositive(0.4715)\n",
      "\tironic(0.6739)\n",
      "\tnot-offensive(0.9512)\n",
      "\tjoy(0.5035)\n",
      "\t\n",
      "\n",
      "\n",
      "If you borrowed $1m, $30k first year interest just became $60k interest, in other words has US housing just halved in value?\n",
      "\tneutral(0.5548)\n",
      "\tnot-ironic(0.835)\n",
      "\tnot-offensive(0.8925)\n",
      "\tsadness(0.6516)\n",
      "\t\n",
      "\n",
      "\n",
      "We have 30 years fixed here in Denmark as well. It's at 5% now, compared to 0.5% two years ago. \n",
      "\tneutral(0.7092)\n",
      "\tironic(0.9157)\n",
      "\tnot-offensive(0.9299)\n",
      "\tjoy(0.4541)\n",
      "\t\n",
      "\n",
      "\n",
      "Spot on Paul. Look at Canada 30 year due in five.  A very material portion of buyers putting down 5% - yep 5%. One reason the market their has gone nuts. Example some extreme cases... homes bought in Whistler BC in 2012 have gone up 700% in 10 years...\n",
      "\tneutral(0.5073)\n",
      "\tironic(0.7201)\n",
      "\tnot-offensive(0.8412)\n",
      "\tjoy(0.5601)\n",
      "\t\n",
      "\n",
      "\n",
      "Peter Moore , respectfully, over the very long run of course prevailing rates will leak into every issued mortgage... That is not the point, You are really going to electively sell your home when you have a 2.7&% mortgage ?  I doubt it.  Most people with rates at 2.7% are not forced sellers, they have large margin of safety and are going to stay put for the long run. Sure prices will go down and again I ask, Are you going to sell ? I doubt most will unless forced to do so. This fact causes material inequalities.\n",
      "\tnegative(0.5191)\n",
      "\tnot-ironic(0.6231)\n",
      "\tnot-offensive(0.8863)\n",
      "\tanger(0.4552)\n",
      "\t\n",
      "\n",
      "\n",
      "It won't be significant. No one missed the boat. See my comment below, which is based on mortgage data.\n",
      "\tneutral(0.6216)\n",
      "\tnot-ironic(0.9672)\n",
      "\tnot-offensive(0.8921)\n",
      "\toptimism(0.6673)\n",
      "\t\n",
      "\n",
      "\n",
      "The much bigger distinction, in 1-2 years, will be the borrowers in the US (and Denmark?) who are in 30 year fixed rate mortgages vs the borrowers in all the other countries that have floating rate mortgages or mortgages that reset after a small amount of time relative to the amortization schedule.\n",
      "\tneutral(0.7837)\n",
      "\tnot-ironic(0.852)\n",
      "\tnot-offensive(0.8832)\n",
      "\toptimism(0.5588)\n",
      "\t\n",
      "\n",
      "\n",
      "I think he is saying the impact is so significant, and will be so long lasting, that it will create a generational wealth divide in this country that will still be felt in 20 years.\n",
      "\tpositive(0.506)\n",
      "\tnot-ironic(0.8146)\n",
      "\tnot-offensive(0.9151)\n",
      "\toptimism(0.8233)\n",
      "\t\n",
      "\n",
      "\n",
      "For the latter case, the one who bought at 6 percent might also refinance the same at some point for the 30 year fixed rate mortgage when rates neutralise to some extent which is precisely why you benchmark the 30 year mortgage to a shorter duration T-Bond (let’s say benchmarking it to a 10 year T-Bond). Then it doesn’t make sense to sell the property from this perspective.\n",
      "\tneutral(0.4865)\n",
      "\tnot-ironic(0.9651)\n",
      "\tnot-offensive(0.8934)\n",
      "\tsadness(0.3879)\n",
      "\t\n",
      "\n",
      "\n",
      "To whoever \"missed the boat\" don't worry. That boat might be the Titanic. \n",
      "\tneutral(0.4942)\n",
      "\tironic(0.712)\n",
      "\tnot-offensive(0.7909)\n",
      "\toptimism(0.6352)\n",
      "\t\n",
      "\n",
      "\n",
      "Cheap money is over for everyone, for now. Benchmark interest rate spikes from FED make other interest rates(like mortage interest rates) hike too. They do it to stop inflation, it makes sense, when inflation return to normal targets, rates will go down again.But it is very unlikely that that the 30y mortage rates will EVER return to pre pandemic levels, 3.4% was one of the lowest rates EVER, for comparison at 1981 rates spiked to 18%!So in conclusion, everyone may have a harder time getting mortages and generaly most loan types as time progresses.As Owen Minde, CFA hinted, every future borrower, might trully missed the boat and a very important one indeed.\n",
      "\tnegative(0.5613)\n",
      "\tnot-ironic(0.9171)\n",
      "\tnot-offensive(0.8374)\n",
      "\tsadness(0.5614)\n",
      "\t\n",
      "\n",
      "\n",
      "That rate matches the low print we see in the GSE 20yr/30yr data. There were a very small number of GSE loans issued at 1.75, and a handful of those loans are pledged to securities that sit on the Fed's balance sheet.\n",
      "\tneutral(0.8244)\n",
      "\tnot-ironic(0.815)\n",
      "\tnot-offensive(0.8428)\n",
      "\toptimism(0.3758)\n",
      "\t\n",
      "\n",
      "\n",
      "in 20 years? I propose 2..\n",
      "\tneutral(0.839)\n",
      "\tnot-ironic(0.941)\n",
      "\tnot-offensive(0.8809)\n",
      "\toptimism(0.4839)\n",
      "\t\n",
      "\n",
      "\n",
      "What if Inflation would get lower and so the intrest rate in coming 4-5 years . \n",
      "\tneutral(0.7177)\n",
      "\tironic(0.9648)\n",
      "\tnot-offensive(0.8073)\n",
      "\tsadness(0.7078)\n",
      "\t\n",
      "\n",
      "\n",
      "George P. so what does your model say for what that means for us here?\n",
      "\tneutral(0.8975)\n",
      "\tnot-ironic(0.9655)\n",
      "\tnot-offensive(0.9596)\n",
      "\toptimism(0.5987)\n",
      "\t\n",
      "\n",
      "\n",
      "That might be true if you buy at the same price, but consider the person who bought at the market peak with a 3% fixed rate whose home value drops by 35% vs. the person who gets an equivalent home for a substantially lower price but at 6%.The former can't sell because they are too far underwater, while the latter can.\n",
      "\tneutral(0.6044)\n",
      "\tnot-ironic(0.945)\n",
      "\tnot-offensive(0.8894)\n",
      "\tsadness(0.6389)\n",
      "\t\n",
      "\n",
      "\n",
      "That’s crazy! Just exactly what we told our buyers. We knew the rate would come up after the pandemic but didn’t expect it increases that much.\n",
      "\tnegative(0.5682)\n",
      "\tnot-ironic(0.6302)\n",
      "\tnot-offensive(0.7846)\n",
      "\tanger(0.4544)\n",
      "\t\n",
      "\n",
      "\n",
      "I was doing loans during the pandemic and at one point I had someone approved at 1.75% paying 1 point. Crazy stuff\n",
      "\tneutral(0.5491)\n",
      "\tnot-ironic(0.7199)\n",
      "\tnot-offensive(0.7613)\n",
      "\tjoy(0.3857)\n",
      "\t\n",
      "\n",
      "\n",
      "Very smart comment — thank you for sharing this.\n",
      "\tpositive(0.9798)\n",
      "\tnot-ironic(0.6362)\n",
      "\tnot-offensive(0.9325)\n",
      "\toptimism(0.4771)\n",
      "\t\n",
      "\n",
      "\n",
      "No. Nearly all mortgage issuance post-crisis has been fixed rate loans.\n",
      "\tneutral(0.6164)\n",
      "\tironic(0.639)\n",
      "\tnot-offensive(0.8406)\n",
      "\tsadness(0.7736)\n",
      "\t\n",
      "\n",
      "\n",
      "This is very unlikely to be a factor going forward. Hardly anyone missed the boat on mortgages. Two-thirds of conventional mortgages have a note rate below 3.50%. Almost 90% of borrowers have a note rate below 4.25%. The story is the same for GNMA backed mortgages. Bank portfolio loans have a similar distribution. Together, they make up the vast majority of mortgages in the US. Here is a chart of note rate distribution.\n",
      "\tneutral(0.6148)\n",
      "\tnot-ironic(0.9028)\n",
      "\tnot-offensive(0.8694)\n",
      "\toptimism(0.509)\n",
      "\t\n",
      "\n",
      "\n",
      "That chart says a great deal.  With homes financed at 80% loan to value, how can prices not be vulnerable?\n",
      "\tpositive(0.4762)\n",
      "\tironic(0.8488)\n",
      "\tnot-offensive(0.9119)\n",
      "\toptimism(0.4854)\n",
      "\t\n",
      "\n",
      "\n",
      "Do you expect mortgage financial problem like 2008 as rate hike will affect on installments payment ?\n",
      "\tneutral(0.5226)\n",
      "\tnot-ironic(0.9447)\n",
      "\tnot-offensive(0.8601)\n",
      "\tsadness(0.8017)\n",
      "\t\n",
      "\n",
      "\n",
      "Ross Crispin, totally agree with you.\n",
      "\tpositive(0.8021)\n",
      "\tnot-ironic(0.8265)\n",
      "\tnot-offensive(0.8826)\n",
      "\toptimism(0.4257)\n",
      "\t\n",
      "\n",
      "\n",
      "Please, speak as you might to a young child, or a golden retriever\n",
      "\tneutral(0.7985)\n",
      "\tnot-ironic(0.9657)\n",
      "\tnot-offensive(0.8997)\n",
      "\toptimism(0.4382)\n",
      "\t\n",
      "\n",
      "\n",
      "In Portugal, during the low rates period, banks reduced from 30-years to 5-years. Now that rates are increasing, they are back to the normal 30-years fixed rates for mortgages (maximum period).\n",
      "\tneutral(0.7164)\n",
      "\tnot-ironic(0.7428)\n",
      "\tnot-offensive(0.8899)\n",
      "\tsadness(0.4058)\n",
      "\t\n",
      "\n",
      "\n",
      "yikes!\n",
      "\tnegative(0.8026)\n",
      "\tnot-ironic(0.5959)\n",
      "\tnot-offensive(0.6214)\n",
      "\tanger(0.5731)\n",
      "\t\n",
      "\n",
      "\n",
      "Jeremy Grant the lack of supply to meet demographic driven demand would disagree with that notion.\n",
      "\tneutral(0.5866)\n",
      "\tnot-ironic(0.6603)\n",
      "\tnot-offensive(0.8585)\n",
      "\tsadness(0.4132)\n",
      "\t\n",
      "\n",
      "\n",
      "When I bought my first house in 1999, I was SUPER happy the rate was as low at 8.5% and grew up with it hitting over 14%. It can go much higher. This is still pretty tolerable rates.\n",
      "\tpositive(0.9545)\n",
      "\tnot-ironic(0.9031)\n",
      "\tnot-offensive(0.8967)\n",
      "\tjoy(0.8851)\n",
      "\t\n",
      "\n",
      "\n",
      "No doubt Owen Minde, CFA.  People with a 2.7% rate are going feel 'privileged' and cash flow wealthy regardless of where the economy heads. This will create unprecedented social and economic issues.\n",
      "\tnegative(0.4705)\n",
      "\tironic(0.954)\n",
      "\tnot-offensive(0.8552)\n",
      "\tsadness(0.5673)\n",
      "\t\n",
      "\n",
      "\n",
      "That is brilliant, thank you Owen.Mortgage rates rising, the new big thing (crypto) imploding, well, perhaps its not actually different this time? Who'd have thought.Anyone over the age of (pick a figure) knows that the ultra low rates were the aberration, and te phrase 'revert to mean' was coined for a reason.Welcome to mean reversion 🙂 this is what it looks like:(thanks to our chums at St Louis Fed)\n",
      "\tpositive(0.8613)\n",
      "\tironic(0.7617)\n",
      "\tnot-offensive(0.8876)\n",
      "\tjoy(0.7719)\n",
      "\t\n",
      "\n",
      "\n",
      "I have to say 30-fixed mortgage seem crazy as an outsider. In the UK the fixed rate period is usually 2-5 years max. In Switzerland it can be upto 12-15 years. 30 years? Wow!\n",
      "\tneutral(0.4775)\n",
      "\tnot-ironic(0.7794)\n",
      "\tnot-offensive(0.8226)\n",
      "\tjoy(0.7158)\n",
      "\t\n",
      "\n",
      "\n",
      "\"So maybe those who've got cheaper credit, also bought at higher prices, so there might be a sort of balance\" Whilst you're correct, it depends on how much leverage they took out; if lending standards weren't stringent enough, the higher interest rates makes covering the cost harder. I think this is the critical point. 6% isn't particularly high in the grand scheme of things, but if the leverage used to buy the underlying is way above historical averages, that in itself is the problem.\n",
      "\tnegative(0.4972)\n",
      "\tnot-ironic(0.9458)\n",
      "\tnot-offensive(0.8923)\n",
      "\toptimism(0.3807)\n",
      "\t\n",
      "\n",
      "\n",
      "Aren't interest rates used to price assets? (In particular Real Estate). Regarding new credit, if we stick to the principle that markets are more or less efficient, they should then adjust to the new level of IR. In other words, less demand in credit, would imply less demand in assets, and, so, a fall in prices. So maybe those who've got cheaper credit, also bought at higher prices, so there might be a sort of balance.Regarding refinancing, that was indeed a hell of an opportunity.Maybe, Markets are not that efficient after all  and there are arbitrages to be done as a fonction of monetary policy.\n",
      "\tneutral(0.5499)\n",
      "\tnot-ironic(0.8736)\n",
      "\tnot-offensive(0.8712)\n",
      "\toptimism(0.5319)\n",
      "\t\n",
      "\n",
      "\n",
      "2008 Fed rate was around 5%. Rates may no longer be zero albeit fed rates below 5% are very much stimulative for the economy. QT will have to cross this threshold to achieve progress.\n",
      "\tneutral(0.6218)\n",
      "\tnot-ironic(0.8976)\n",
      "\tnot-offensive(0.8554)\n",
      "\toptimism(0.8006)\n",
      "\t\n",
      "\n",
      "\n",
      "Christian Contino, PhD I think it largely depends on the direction of energy prices and geopolitics unfortunately, which is anyone’s guess. The longer energy prices are here or higher, the harder the landing will be.\n",
      "\tnegative(0.6184)\n",
      "\tnot-ironic(0.9415)\n",
      "\tnot-offensive(0.8695)\n",
      "\tsadness(0.5782)\n",
      "\t\n",
      "\n",
      "\n",
      "Owen Minde, CFA give me a low enough rate, and even I can buy Jiggas and B’s place. We have been drunk on cheap money for too long and the comedown party is not gonna be fun.Do you see the borrowing rate spiking more or it’s all priced in?\n",
      "\tnegative(0.7965)\n",
      "\tnot-ironic(0.9736)\n",
      "\tnot-offensive(0.7557)\n",
      "\tanger(0.7689)\n",
      "\t\n",
      "\n",
      "\n",
      "So those that are underwater on their mortgage and those that are not?\n",
      "\tneutral(0.6091)\n",
      "\tnot-ironic(0.8837)\n",
      "\tnot-offensive(0.8839)\n",
      "\tsadness(0.5243)\n",
      "\t\n",
      "\n",
      "\n"
     ]
    }
   ],
   "source": [
    "# shows only text and classification output\n",
    "for index, row in df.iterrows():\n",
    "    print(f\"{row['TEXT']}\\n\\t{row['SENTIMENT']}({row['SENTIMENT_SCORE']})\\n\\t{row['IRONY']}({row['IRONY_SCORE']})\\n\\t{row['OFFENSIVE']}({row['OFFENSIVE_SCORE']})\\n\\t{row['EMOTION']}({row['EMOTION_SCORE']})\\n\\t\\n\\n\")"
   ]
  },
  {
   "cell_type": "code",
   "execution_count": null,
   "id": "a28c1ffc-b367-4a19-bbd2-bce15227499b",
   "metadata": {},
   "outputs": [],
   "source": []
  }
 ],
 "metadata": {
  "kernelspec": {
   "display_name": "Python 3",
   "language": "python",
   "name": "python3"
  },
  "language_info": {
   "codemirror_mode": {
    "name": "ipython",
    "version": 3
   },
   "file_extension": ".py",
   "mimetype": "text/x-python",
   "name": "python",
   "nbconvert_exporter": "python",
   "pygments_lexer": "ipython3",
   "version": "3.9.6"
  },
  "naas": {
   "notebook_id": "8dc6c362-1b07-4c9c-99b7-9d94e09d09a5",
   "notebook_path": "LinkedIn/LinkedIn_Get_comments_from_post.ipynb"
  },
  "papermill": {
   "default_parameters": {},
   "environment_variables": {},
   "parameters": {},
   "version": "2.3.3"
  },
  "widgets": {
   "application/vnd.jupyter.widget-state+json": {
    "state": {},
    "version_major": 2,
    "version_minor": 0
   }
  }
 },
 "nbformat": 4,
 "nbformat_minor": 5
}
