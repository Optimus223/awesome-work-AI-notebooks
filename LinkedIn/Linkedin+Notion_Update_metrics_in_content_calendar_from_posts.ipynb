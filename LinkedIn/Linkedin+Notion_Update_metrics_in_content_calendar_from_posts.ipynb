{
 "cells": [
  {
   "cell_type": "markdown",
   "metadata": {},
   "source": [
    "<img width=\"10%\" alt=\"Naas\" src=\"https://landen.imgix.net/jtci2pxwjczr/assets/5ice39g4.png?w=160\"/>"
   ]
  },
  {
   "cell_type": "markdown",
   "metadata": {},
   "source": [
    "# Linkedin+Notion : Update metrics in content calendar from posts\n",
    "<a href=\"https://app.naas.ai/user-redirect/naas/downloader?url=https://raw.githubusercontent.com/jupyter-naas/awesome-notebooks/master/LinkedIn/LinkedIn_Get_posts_stats_from_profile.ipynb\" target=\"_parent\"><img src=\"https://img.shields.io/badge/-Open%20in%20Naas-success?labelColor=000000&logo=data:image/svg+xml;base64,PD94bWwgdmVyc2lvbj0iMS4wIiBlbmNvZGluZz0iVVRGLTgiPz4KPHN2ZyB3aWR0aD0iMTAyNHB4IiBoZWlnaHQ9IjEwMjRweCIgdmlld0JveD0iMCAwIDEwMjQgMTAyNCIgeG1sbnM9Imh0dHA6Ly93d3cudzMub3JnLzIwMDAvc3ZnIiB4bWxuczp4bGluaz0iaHR0cDovL3d3dy53My5vcmcvMTk5OS94bGluayIgdmVyc2lvbj0iMS4xIj4KIDwhLS0gR2VuZXJhdGVkIGJ5IFBpeGVsbWF0b3IgUHJvIDIuMC41IC0tPgogPGRlZnM+CiAgPHRleHQgaWQ9InN0cmluZyIgdHJhbnNmb3JtPSJtYXRyaXgoMS4wIDAuMCAwLjAgMS4wIDIyOC4wIDU0LjUpIiBmb250LWZhbWlseT0iQ29tZm9ydGFhLVJlZ3VsYXIsIENvbWZvcnRhYSIgZm9udC1zaXplPSI4MDAiIHRleHQtZGVjb3JhdGlvbj0ibm9uZSIgZmlsbD0iI2ZmZmZmZiIgeD0iMS4xOTk5OTk5OTk5OTk5ODg2IiB5PSI3MDUuMCI+bjwvdGV4dD4KIDwvZGVmcz4KIDx1c2UgaWQ9Im4iIHhsaW5rOmhyZWY9IiNzdHJpbmciLz4KPC9zdmc+Cg==\"/></a>"
   ]
  },
  {
   "cell_type": "markdown",
   "metadata": {
    "tags": []
   },
   "source": [
    "**Tags:** #linkedin #profile #post #feed #naas_drivers #notion"
   ]
  },
  {
   "cell_type": "markdown",
   "metadata": {},
   "source": [
    "## Input"
   ]
  },
  {
   "cell_type": "markdown",
   "metadata": {},
   "source": [
    "### Scheduler your notebook"
   ]
  },
  {
   "cell_type": "code",
   "execution_count": null,
   "metadata": {},
   "outputs": [],
   "source": [
    "import naas\n",
    "naas.scheduler.add(cron=\"0 */6 * * *\")"
   ]
  },
  {
   "cell_type": "markdown",
   "metadata": {},
   "source": [
    "### Import libraries"
   ]
  },
  {
   "cell_type": "code",
   "execution_count": null,
   "metadata": {
    "tags": []
   },
   "outputs": [],
   "source": [
    "import naas\n",
    "from naas_drivers import linkedin, notion, emailbuilder, gsheet\n",
    "from datetime import datetime\n",
    "import pandas as pd\n",
    "import plotly.express as px\n",
    "import os"
   ]
  },
  {
   "cell_type": "markdown",
   "metadata": {},
   "source": [
    "### Setup your email"
   ]
  },
  {
   "cell_type": "code",
   "execution_count": null,
   "metadata": {},
   "outputs": [],
   "source": [
    "# Email\n",
    "EMAIL = \"jeremy.ravenel@cashstory.com\""
   ]
  },
  {
   "cell_type": "markdown",
   "metadata": {},
   "source": [
    "### Get your cookies\n",
    "<a href='https://www.notion.so/LinkedIn-driver-Get-your-cookies-d20a8e7e508e42af8a5b52e33f3dba75'>How to get your cookies ?</a>"
   ]
  },
  {
   "cell_type": "code",
   "execution_count": null,
   "metadata": {},
   "outputs": [],
   "source": [
    "# Lindekin cookies\n",
    "LI_AT = naas.secret.get(\"JRV_LI_AT\")\n",
    "JSESSIONID = naas.secret.get(\"JRV_JSESSIONID\")"
   ]
  },
  {
   "cell_type": "markdown",
   "metadata": {},
   "source": [
    "### Enter your LinkedIn profile URL\n",
    "<a href='https://www.linkedin.com/'>=> Go to LinkedIn</a>"
   ]
  },
  {
   "cell_type": "code",
   "execution_count": null,
   "metadata": {
    "tags": []
   },
   "outputs": [],
   "source": [
    "# Linkedin profile url\n",
    "profile_url = \"https://www.linkedin.com/in/j%C3%A9r%C3%A9my-ravenel-8a396910\""
   ]
  },
  {
   "cell_type": "markdown",
   "metadata": {},
   "source": [
    "### Enter your Notion parameters\n",
    "<a href='https://www.notion.so/'>=> Go to Notion</a>"
   ]
  },
  {
   "cell_type": "code",
   "execution_count": null,
   "metadata": {},
   "outputs": [],
   "source": [
    "# Notion parameters\n",
    "notion_token = naas.secret.get(\"notion_token\")\n",
    "notion_database = 'https://www.notion.so/naas-official/724fec443b134f288b356001bb1543bd?v=c82a8005a5bf4862b7c967a9689aa799'"
   ]
  },
  {
   "cell_type": "markdown",
   "metadata": {},
   "source": [
    "## Model"
   ]
  },
  {
   "cell_type": "markdown",
   "metadata": {},
   "source": [
    "### Get content calendar from Notion"
   ]
  },
  {
   "cell_type": "code",
   "execution_count": null,
   "metadata": {
    "tags": []
   },
   "outputs": [],
   "source": [
    "db_notion = notion.connect(notion_token).database.get(notion_database)\n",
    "df_notion = db_notion.df()\n",
    "print(\"📊 Post in Notion database:\", len(df_notion))"
   ]
  },
  {
   "cell_type": "markdown",
   "metadata": {},
   "source": [
    "### Get last post in Notion database"
   ]
  },
  {
   "cell_type": "code",
   "execution_count": null,
   "metadata": {
    "tags": []
   },
   "outputs": [],
   "source": [
    "df_last_post = df_notion.sort_values(by=\"Publication Date\", ascending=False).reset_index(drop=True)\n",
    "post_url = df_last_post.loc[0, \"Content URL\"]\n",
    "print(\"👉 Last post url:\", post_url)\n",
    "# df_last_post.head(1)"
   ]
  },
  {
   "cell_type": "markdown",
   "metadata": {},
   "source": [
    "### Get posts not created in notion database"
   ]
  },
  {
   "cell_type": "code",
   "execution_count": null,
   "metadata": {
    "tags": []
   },
   "outputs": [],
   "source": [
    "df_posts_feed = linkedin.connect(LI_AT, JSESSIONID).profile.get_posts_feed(profile_url, until={\"POST_URL\": post_url})\n",
    "df_posts_feed = df_posts_feed[df_posts_feed.POST_URL != post_url]\n",
    "print(\"🚀 New posts:\", len(df_posts_feed))\n",
    "# df_posts_feed"
   ]
  },
  {
   "cell_type": "markdown",
   "metadata": {},
   "source": [
    "### Get stats from last 50 posts"
   ]
  },
  {
   "cell_type": "code",
   "execution_count": null,
   "metadata": {},
   "outputs": [],
   "source": [
    "df_posts_stats = linkedin.connect(LI_AT, JSESSIONID).profile.get_posts_feed(profile_url, count=50)\n",
    "print(\"🔄 Posts stats to update:\", len(df_posts_stats))\n",
    "# df_posts_stats"
   ]
  },
  {
   "cell_type": "markdown",
   "metadata": {},
   "source": [
    "## Output"
   ]
  },
  {
   "cell_type": "code",
   "execution_count": null,
   "metadata": {
    "tags": []
   },
   "outputs": [],
   "source": [
    "def create_polls_graph(uid, title, data):\n",
    "    # Create dataframe\n",
    "    df = pd.melt(pd.DataFrame([data]))\n",
    "    df = df.sort_values(by=\"value\")\n",
    "    voters = df.value.sum()\n",
    "    \n",
    "    # Create fig\n",
    "    fig = px.bar(df,\n",
    "                 y=\"variable\",\n",
    "                 x=\"value\",\n",
    "                 orientation='h',\n",
    "                 title=f\"{title}<br><span style='font-size: 13px;'>Total amount of votes: {voters}</span>\",\n",
    "                 text=\"value\",\n",
    "                 labels={\"variable\": \"Poll options\",\n",
    "                         \"value\": \"Poll results\"}\n",
    "                 )\n",
    "    fig.update_traces(marker_color='black')\n",
    "    fig.update_layout(\n",
    "        plot_bgcolor=\"#ffffff\",\n",
    "        width=600,\n",
    "        height=400,\n",
    "        font=dict(family=\"Arial\", size=14, color=\"black\"),\n",
    "        paper_bgcolor=\"white\",\n",
    "        xaxis_title=None,\n",
    "        xaxis_showticklabels=False,\n",
    "        yaxis_title=None,\n",
    "        margin_pad=10,\n",
    "    )\n",
    "    fig.write_html(f\"{uid}.html\")\n",
    "    asset = naas.asset.add(f\"{uid}.html\", params={\"inline\": True})\n",
    "    return asset"
   ]
  },
  {
   "cell_type": "code",
   "execution_count": null,
   "metadata": {
    "tags": []
   },
   "outputs": [],
   "source": [
    "def update_dynamic_properties(page, row):\n",
    "    # Page properties : dynamic\n",
    "    page.number(\"Engagment score\", float(row.ENGAGEMENT_SCORE))\n",
    "    page.number(\"Views\", int(row.VIEWS))\n",
    "    page.number(\"Likes\", int(row.LIKES))\n",
    "    page.number(\"Comments\", int(row.COMMENTS))\n",
    "    page.number(\"Shares\", int(row.SHARES))\n",
    "\n",
    "    # Add polls\n",
    "    poll_urn = row.POLL_URN\n",
    "    poll_question = row.POLL_QUESTION\n",
    "    poll_results = row.POLL_RESULTS\n",
    "    if poll_urn and poll_question and poll_results:\n",
    "        poll_graph = create_polls_graph(poll_urn, poll_question, poll_results)\n",
    "        page.embed(poll_graph)\n",
    "    page.update()\n",
    "    print(f\"✅ Post stats updated in notion for page '{row.TITLE}'.\")\n",
    "    return page\n",
    "\n",
    "def update_content_notion(df, database_url):\n",
    "    # Decode database id\n",
    "    database_id = database_url.split(\"/\")[-1].split(\"?v=\")[0]\n",
    "    \n",
    "    # Get pages from notion database\n",
    "    pages = notion.database.query(database_id, query={})\n",
    "    \n",
    "    # Manage dataframe empty\n",
    "    if len(df) == 0:\n",
    "        print(f\"🛑 Nothing to update in Notion.\")\n",
    "        return\n",
    "    \n",
    "    # Loop in data\n",
    "    df.COMPANY_MENTION = df.COMPANY_MENTION.fillna(\"\")\n",
    "    df.PROFILE_MENTION = df.PROFILE_MENTION.fillna(\"\")\n",
    "    for i, row in df.iterrows():\n",
    "        title = row.TITLE\n",
    "        post_url = row.POST_URL\n",
    "        image_url = row.IMAGE_URL\n",
    "        cover = None\n",
    "        if image_url is not None:\n",
    "            cover = image_url\n",
    "        \n",
    "        # Create or update page\n",
    "        page_new = True\n",
    "        for page in pages:\n",
    "            page_temp = page.df()\n",
    "            page_id = page_temp.loc[page_temp.Name == \"Content URL\", \"Value\"].values\n",
    "            if page_id == post_url:\n",
    "                page_new = False\n",
    "                break\n",
    "        try:\n",
    "            if page_new:\n",
    "                # Create new page in notion\n",
    "                page = notion.Page.new(database_id=database_id).create()\n",
    "\n",
    "                # Page properties : static\n",
    "                page.date(\"Publication Date\", row.PUBLISHED_DATE)\n",
    "                page.title(\"Name\", title)\n",
    "                page.select(\"Content type\", row.CONTENT)\n",
    "                page.select(\"Platform\", \"LinkedIn\")\n",
    "                page.select(\"Status\", \"Published ✨\")\n",
    "                page.rich_text(\"Profile mention\", row.PROFILE_MENTION)\n",
    "                page.rich_text(\"Company mention\", row.COMPANY_MENTION)\n",
    "                page.number(\"Nb tags\", int(row.TAGS_COUNT))\n",
    "                tags = row.TAGS\n",
    "                if tags is None:\n",
    "                    tags = \"\"\n",
    "                page.rich_text(\"Tags\", tags)\n",
    "                page.number(\"Nb emojis\", int(row.EMOJIS_COUNT))\n",
    "                emojis = row.EMOJIS\n",
    "                if emojis is None:\n",
    "                    emojis = \"\"\n",
    "                page.rich_text(\"Emojis\", emojis)\n",
    "                page.number(\"Nb links\", int(row.LINKS_COUNT))\n",
    "                page.link(\"Links\", row.LINKS)\n",
    "                page.number(\"Nb characters\", int(row.CHARACTER_COUNT))\n",
    "                page.link(\"Content URL\", post_url)\n",
    "                \n",
    "                # Page blocks\n",
    "                text = row.TEXT\n",
    "                split_text = text.split(\"\\n\")\n",
    "                for t in split_text:\n",
    "                    page.paragraph(t)\n",
    "\n",
    "                # Add post content info\n",
    "                content_title = row.CONTENT_TITLE\n",
    "                if content_title is not None:\n",
    "                    page.paragraph(\"\\n\")\n",
    "                    page.paragraph(\"Content title:\")\n",
    "                    page.paragraph(content_title)\n",
    "                content_url = row.CONTENT_URL\n",
    "                if content_url is not None:\n",
    "                    page.paragraph(\"Content url:\")\n",
    "                    page.paragraph(content_url)\n",
    "                page.update()\n",
    "                print(f\"✅ Page '{title}' created in Notion.\")\n",
    "                \n",
    "                # Page properties : dynamic\n",
    "                update_dynamic_properties(page, row)\n",
    "            else:\n",
    "                # Page properties : dynamic\n",
    "                update_dynamic_properties(page, row)            \n",
    "        except Exception as e:\n",
    "            print(f\"❌ Error creating page '{title}' in Notion\", e)\n",
    "            print(row)"
   ]
  },
  {
   "cell_type": "markdown",
   "metadata": {},
   "source": [
    "### Create new post page in Notion"
   ]
  },
  {
   "cell_type": "code",
   "execution_count": null,
   "metadata": {
    "tags": []
   },
   "outputs": [],
   "source": [
    "update_content_notion(df_posts_feed, notion_database)"
   ]
  },
  {
   "cell_type": "markdown",
   "metadata": {},
   "source": [
    "### Update post stats in Notion"
   ]
  },
  {
   "cell_type": "code",
   "execution_count": null,
   "metadata": {
    "tags": []
   },
   "outputs": [],
   "source": [
    "update_content_notion(df_posts_stats, notion_database)"
   ]
  },
  {
   "cell_type": "markdown",
   "metadata": {},
   "source": [
    "### Archive data in naas"
   ]
  },
  {
   "cell_type": "code",
   "execution_count": null,
   "metadata": {
    "tags": []
   },
   "outputs": [],
   "source": [
    "def archive_csv(df, filename=\"LINKEDIN_POSTS_FEED.csv\", output_dir=None):\n",
    "    # Add timestamp to df\n",
    "    df[\"DATE_EXTRACT\"] = datetime.now().strftime(\"%Y-%m-%d %H:%M:%S\")\n",
    "    \n",
    "    # Get archive\n",
    "    df_archive = pd.DataFrame()\n",
    "    files = os.listdir(output_dir)\n",
    "    for f in files:\n",
    "        if f == filename:\n",
    "            df_archive = pd.read_csv(filename)\n",
    "            break\n",
    "            \n",
    "    # Concat\n",
    "    df = pd.concat([df, df_archive], axis=0).drop_duplicates(\"POST_URN\", keep=\"first\")\n",
    "    df.to_csv(filename, index=False)\n",
    "    return df"
   ]
  },
  {
   "cell_type": "code",
   "execution_count": null,
   "metadata": {
    "tags": []
   },
   "outputs": [],
   "source": [
    "df = archive_csv(df_posts_feed)\n",
    "print(\"💾 Linkedin posts archives:\", len(df))"
   ]
  }
 ],
 "metadata": {
  "interpreter": {
   "hash": "e7370f93d1d0cde622a1f8e1c04877d8463912d04d973331ad4851f04de6915a"
  },
  "kernelspec": {
   "display_name": "Python 3",
   "language": "python",
   "name": "python3"
  },
  "language_info": {
   "codemirror_mode": {
    "name": "ipython",
    "version": 3
   },
   "file_extension": ".py",
   "mimetype": "text/x-python",
   "name": "python",
   "nbconvert_exporter": "python",
   "pygments_lexer": "ipython3",
   "version": "3.8.8"
  }
 },
 "nbformat": 4,
 "nbformat_minor": 4
}
