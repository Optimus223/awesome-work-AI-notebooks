{
 "cells": [
  {
   "cell_type": "markdown",
   "metadata": {},
   "source": [
    "# Linkedin+Notion : Update metrics in content calendar from posts"
   ]
  },
  {
   "cell_type": "markdown",
   "metadata": {},
   "source": [
    "## Input"
   ]
  },
  {
   "cell_type": "markdown",
   "metadata": {},
   "source": [
    "### Import libraries"
   ]
  },
  {
   "cell_type": "code",
   "execution_count": 1,
   "metadata": {
    "execution": {
     "iopub.execute_input": "2022-01-24T11:38:42.850608Z",
     "iopub.status.busy": "2022-01-24T11:38:42.850201Z",
     "iopub.status.idle": "2022-01-24T11:38:44.950228Z",
     "shell.execute_reply": "2022-01-24T11:38:44.949561Z",
     "shell.execute_reply.started": "2022-01-24T11:38:42.850535Z"
    },
    "tags": []
   },
   "outputs": [],
   "source": [
    "import naas\n",
    "from naas_drivers import linkedin, notion, emailbuilder, gsheet\n",
    "from datetime import datetime\n",
    "import pandas as pd\n",
    "import plotly.express as px\n",
    "import os"
   ]
  },
  {
   "cell_type": "markdown",
   "metadata": {},
   "source": [
    "### Variables"
   ]
  },
  {
   "cell_type": "code",
   "execution_count": 2,
   "metadata": {
    "execution": {
     "iopub.execute_input": "2022-01-24T11:38:44.951472Z",
     "iopub.status.busy": "2022-01-24T11:38:44.951195Z",
     "iopub.status.idle": "2022-01-24T11:38:45.260268Z",
     "shell.execute_reply": "2022-01-24T11:38:45.259678Z",
     "shell.execute_reply.started": "2022-01-24T11:38:44.951441Z"
    },
    "tags": []
   },
   "outputs": [],
   "source": [
    "# Email\n",
    "email = \"jeremy.ravenel@cashstory.com\"\n",
    "\n",
    "# Lindekin cookies\n",
    "LI_AT = naas.secret.get(\"JRV_LI_AT\")\n",
    "JSESSIONID = naas.secret.get(\"JRV_JSESSIONID\")\n",
    "\n",
    "# Linkedin profile url\n",
    "profile_url = \"https://www.linkedin.com/in/j%C3%A9r%C3%A9my-ravenel-8a396910\"\n",
    "\n",
    "# Notion parameters\n",
    "notion_token = naas.secret.get(\"notion_token\")\n",
    "notion_database = 'https://www.notion.so/naas-official/0f806d1755b14b6d87ec8aa3bb49706b?v=1873352d6f0d4857a9976fef3beb8595'"
   ]
  },
  {
   "cell_type": "markdown",
   "metadata": {},
   "source": [
    "### Get content calendar from Notion"
   ]
  },
  {
   "cell_type": "code",
   "execution_count": 3,
   "metadata": {
    "execution": {
     "iopub.execute_input": "2022-01-24T11:38:45.261460Z",
     "iopub.status.busy": "2022-01-24T11:38:45.261223Z",
     "iopub.status.idle": "2022-01-24T11:39:02.914604Z",
     "shell.execute_reply": "2022-01-24T11:39:02.913989Z",
     "shell.execute_reply.started": "2022-01-24T11:38:45.261418Z"
    },
    "tags": []
   },
   "outputs": [
    {
     "name": "stdout",
     "output_type": "stream",
     "text": [
      "📊 Post in Notion database: 214\n"
     ]
    }
   ],
   "source": [
    "db_notion = notion.connect(notion_token).database.get(notion_database)\n",
    "df_notion = db_notion.df()\n",
    "print(\"📊 Post in Notion database:\", len(df_notion))"
   ]
  },
  {
   "cell_type": "markdown",
   "metadata": {},
   "source": [
    "## Model"
   ]
  },
  {
   "cell_type": "markdown",
   "metadata": {},
   "source": [
    "### Get last post in Notion database"
   ]
  },
  {
   "cell_type": "code",
   "execution_count": 4,
   "metadata": {
    "execution": {
     "iopub.execute_input": "2022-01-24T11:39:02.916897Z",
     "iopub.status.busy": "2022-01-24T11:39:02.916652Z",
     "iopub.status.idle": "2022-01-24T11:39:02.923587Z",
     "shell.execute_reply": "2022-01-24T11:39:02.922986Z",
     "shell.execute_reply.started": "2022-01-24T11:39:02.916866Z"
    },
    "tags": []
   },
   "outputs": [
    {
     "name": "stdout",
     "output_type": "stream",
     "text": [
      "👉 Last post url: https://www.linkedin.com/feed/update/urn:li:activity:6891102665217077248\n"
     ]
    }
   ],
   "source": [
    "df_last_post = df_notion.sort_values(by=\"Publication Date\", ascending=False).reset_index(drop=True)\n",
    "post_url = df_last_post.loc[0, \"Content URL\"]\n",
    "print(\"👉 Last post url:\", post_url)\n",
    "# df_last_post.head(1)"
   ]
  },
  {
   "cell_type": "markdown",
   "metadata": {},
   "source": [
    "### Get posts not created in notion database"
   ]
  },
  {
   "cell_type": "code",
   "execution_count": 5,
   "metadata": {
    "execution": {
     "iopub.execute_input": "2022-01-24T11:39:02.925440Z",
     "iopub.status.busy": "2022-01-24T11:39:02.924989Z",
     "iopub.status.idle": "2022-01-24T11:39:07.641857Z",
     "shell.execute_reply": "2022-01-24T11:39:07.641194Z",
     "shell.execute_reply.started": "2022-01-24T11:39:02.925409Z"
    },
    "tags": []
   },
   "outputs": [
    {
     "name": "stdout",
     "output_type": "stream",
     "text": [
      "🚀 New posts: 0\n"
     ]
    }
   ],
   "source": [
    "df_posts_feed = linkedin.connect(LI_AT, JSESSIONID).profile.get_posts_feed(profile_url, until={\"POST_URL\": post_url})\n",
    "df_posts_feed = df_posts_feed[df_posts_feed.POST_URL != post_url]\n",
    "print(\"🚀 New posts:\", len(df_posts_feed))\n",
    "# df_posts_feed"
   ]
  },
  {
   "cell_type": "markdown",
   "metadata": {},
   "source": [
    "### Get stats from last 50 posts"
   ]
  },
  {
   "cell_type": "code",
   "execution_count": 6,
   "metadata": {
    "execution": {
     "iopub.execute_input": "2022-01-24T11:39:07.643122Z",
     "iopub.status.busy": "2022-01-24T11:39:07.642885Z",
     "iopub.status.idle": "2022-01-24T11:39:13.985693Z",
     "shell.execute_reply": "2022-01-24T11:39:13.984980Z",
     "shell.execute_reply.started": "2022-01-24T11:39:07.643091Z"
    }
   },
   "outputs": [
    {
     "name": "stdout",
     "output_type": "stream",
     "text": [
      "🔄 Posts stats to update: 50\n"
     ]
    }
   ],
   "source": [
    "df_posts_stats = linkedin.connect(LI_AT, JSESSIONID).profile.get_posts_feed(profile_url, count=50)\n",
    "print(\"🔄 Posts stats to update:\", len(df_posts_stats))\n",
    "# df_posts_stats"
   ]
  },
  {
   "cell_type": "markdown",
   "metadata": {},
   "source": [
    "## Output"
   ]
  },
  {
   "cell_type": "code",
   "execution_count": 7,
   "metadata": {
    "execution": {
     "iopub.execute_input": "2022-01-24T11:39:13.986954Z",
     "iopub.status.busy": "2022-01-24T11:39:13.986622Z",
     "iopub.status.idle": "2022-01-24T11:39:13.992165Z",
     "shell.execute_reply": "2022-01-24T11:39:13.991565Z",
     "shell.execute_reply.started": "2022-01-24T11:39:13.986923Z"
    },
    "tags": []
   },
   "outputs": [],
   "source": [
    "def create_polls_graph(uid, title, data):\n",
    "    # Create dataframe\n",
    "    df = pd.melt(pd.DataFrame([data]))\n",
    "    df = df.sort_values(by=\"value\")\n",
    "    voters = df.value.sum()\n",
    "    \n",
    "    # Create fig\n",
    "    fig = px.bar(df,\n",
    "                 y=\"variable\",\n",
    "                 x=\"value\",\n",
    "                 orientation='h',\n",
    "                 title=f\"{title}<br><span style='font-size: 13px;'>Total amount of votes: {voters}</span>\",\n",
    "                 text=\"value\",\n",
    "                 labels={\"variable\": \"Poll options\",\n",
    "                         \"value\": \"Poll results\"}\n",
    "                 )\n",
    "    fig.update_traces(marker_color='black')\n",
    "    fig.update_layout(\n",
    "        plot_bgcolor=\"#ffffff\",\n",
    "        width=600,\n",
    "        height=400,\n",
    "        font=dict(family=\"Arial\", size=14, color=\"black\"),\n",
    "        paper_bgcolor=\"white\",\n",
    "        xaxis_title=None,\n",
    "        xaxis_showticklabels=False,\n",
    "        yaxis_title=None,\n",
    "        margin_pad=10,\n",
    "    )\n",
    "    fig.write_html(f\"{uid}.html\")\n",
    "    asset = naas.asset.add(f\"{uid}.html\", params={\"inline\": True})\n",
    "    return asset"
   ]
  },
  {
   "cell_type": "code",
   "execution_count": 14,
   "metadata": {
    "execution": {
     "iopub.execute_input": "2022-01-24T11:44:02.175528Z",
     "iopub.status.busy": "2022-01-24T11:44:02.175265Z",
     "iopub.status.idle": "2022-01-24T11:44:02.189056Z",
     "shell.execute_reply": "2022-01-24T11:44:02.188531Z",
     "shell.execute_reply.started": "2022-01-24T11:44:02.175504Z"
    },
    "tags": []
   },
   "outputs": [],
   "source": [
    "def update_dynamic_properties(page, row):\n",
    "    # Page properties : dynamic\n",
    "    page.number(\"Engagment score\", float(row.ENGAGEMENT_SCORE))\n",
    "    page.number(\"Views\", int(row.VIEWS))\n",
    "    page.number(\"Likes\", int(row.LIKES))\n",
    "    page.number(\"Comments\", int(row.COMMENTS))\n",
    "    page.number(\"Shares\", int(row.SHARES))\n",
    "\n",
    "    # Add polls\n",
    "    poll_urn = row.POLL_URN\n",
    "    poll_question = row.POLL_QUESTION\n",
    "    poll_results = row.POLL_RESULTS\n",
    "    if poll_urn and poll_question and poll_results:\n",
    "        poll_graph = create_polls_graph(poll_urn, poll_question, poll_results)\n",
    "        page.embed(poll_graph)\n",
    "    page.update()\n",
    "    print(f\"✅ Post stats updated in notion for page '{row.TITLE}'.\")\n",
    "    return page\n",
    "\n",
    "def update_content_notion(df, database_url):\n",
    "    # Decode database id\n",
    "    database_id = database_url.split(\"/\")[-1].split(\"?v=\")[0]\n",
    "    \n",
    "    # Get pages from notion database\n",
    "    pages = notion.database.query(database_id, query={})\n",
    "    \n",
    "    # Manage dataframe empty\n",
    "    if len(df) == 0:\n",
    "        print(f\"🛑 Notion to update in Notion.\")\n",
    "        return\n",
    "    \n",
    "    # Loop in data\n",
    "    df.COMPANY_MENTION = df.COMPANY_MENTION.fillna(\"\")\n",
    "    df.PROFILE_MENTION = df.PROFILE_MENTION.fillna(\"\")\n",
    "    for i, row in df.iterrows():\n",
    "        title = row.TITLE\n",
    "        post_url = row.POST_URL\n",
    "        image_url = row.IMAGE_URL\n",
    "        cover = None\n",
    "        if image_url is not None:\n",
    "            cover = image_url\n",
    "        \n",
    "        # Create or update page\n",
    "        page_new = True\n",
    "        for page in pages:\n",
    "            page_temp = page.df()\n",
    "            page_id = page_temp.loc[page_temp.Name == \"Content URL\", \"Value\"].values\n",
    "            if page_id == post_url:\n",
    "                page_new = False\n",
    "                break\n",
    "        try:\n",
    "            if page_new:\n",
    "                # Create new page in notion\n",
    "                page = notion.Page.new(database_id=database_id).create()\n",
    "\n",
    "                # Page properties : static\n",
    "                page.date(\"Publication Date\", row.PUBLISHED_DATE)\n",
    "                page.title(\"Name\", title)\n",
    "                page.select(\"Content type\", row.CONTENT)\n",
    "                page.select(\"Platform\", \"LinkedIn\")\n",
    "                page.select(\"Status\", \"Published ✨\")\n",
    "                page.rich_text(\"Profile mention\", row.PROFILE_MENTION)\n",
    "                page.rich_text(\"Company mention\", row.COMPANY_MENTION)\n",
    "                page.number(\"Nb tags\", int(row.TAGS_COUNT))\n",
    "                tags = row.TAGS\n",
    "                if tags is None:\n",
    "                    tags = \"\"\n",
    "                page.rich_text(\"Tags\", tags)\n",
    "                page.number(\"Nb emojis\", int(row.EMOJIS_COUNT))\n",
    "                emojis = row.EMOJIS\n",
    "                if emojis is None:\n",
    "                    emojis = \"\"\n",
    "                page.rich_text(\"Emojis\", emojis)\n",
    "                page.number(\"Nb links\", int(row.LINKS_COUNT))\n",
    "                page.link(\"Links\", row.LINKS)\n",
    "                page.number(\"Nb characters\", int(row.CHARACTER_COUNT))\n",
    "                page.link(\"Content URL\", post_url)\n",
    "                \n",
    "                # Page blocks\n",
    "                text = row.TEXT\n",
    "                split_text = text.split(\"\\n\")\n",
    "                for t in split_text:\n",
    "                    page.paragraph(t)\n",
    "\n",
    "                # Add post content info\n",
    "                content_title = row.CONTENT_TITLE\n",
    "                if content_title is not None:\n",
    "                    page.paragraph(\"\\n\")\n",
    "                    page.paragraph(\"Content title:\")\n",
    "                    page.paragraph(content_title)\n",
    "                content_url = row.CONTENT_URL\n",
    "                if content_url is not None:\n",
    "                    page.paragraph(\"Content url:\")\n",
    "                    page.paragraph(content_url)\n",
    "                page.update()\n",
    "                print(f\"✅ Page '{title}' created in Notion.\")\n",
    "                \n",
    "                # Page properties : dynamic\n",
    "                update_dynamic_properties(page, row)\n",
    "            else:\n",
    "                # Page properties : dynamic\n",
    "                update_dynamic_properties(page, row)            \n",
    "        except Exception as e:\n",
    "            print(f\"❌ Error creating page '{title}' in Notion\", e)\n",
    "            print(row)"
   ]
  },
  {
   "cell_type": "markdown",
   "metadata": {},
   "source": [
    "### Create new post page in Notion"
   ]
  },
  {
   "cell_type": "code",
   "execution_count": 15,
   "metadata": {
    "execution": {
     "iopub.execute_input": "2022-01-24T11:44:03.086756Z",
     "iopub.status.busy": "2022-01-24T11:44:03.086524Z",
     "iopub.status.idle": "2022-01-24T11:44:10.441813Z",
     "shell.execute_reply": "2022-01-24T11:44:10.441048Z",
     "shell.execute_reply.started": "2022-01-24T11:44:03.086732Z"
    },
    "tags": []
   },
   "outputs": [
    {
     "name": "stdout",
     "output_type": "stream",
     "text": [
      "🛑 Notion to update in Notion.\n"
     ]
    },
    {
     "data": {
      "text/html": [
       "<div>\n",
       "<style scoped>\n",
       "    .dataframe tbody tr th:only-of-type {\n",
       "        vertical-align: middle;\n",
       "    }\n",
       "\n",
       "    .dataframe tbody tr th {\n",
       "        vertical-align: top;\n",
       "    }\n",
       "\n",
       "    .dataframe thead th {\n",
       "        text-align: right;\n",
       "    }\n",
       "</style>\n",
       "<table border=\"1\" class=\"dataframe\">\n",
       "  <thead>\n",
       "    <tr style=\"text-align: right;\">\n",
       "      <th></th>\n",
       "      <th>ACTIVITY_ID</th>\n",
       "      <th>PAGINATION_TOKEN</th>\n",
       "      <th>PUBLISHED_DATE</th>\n",
       "      <th>AUTHOR_NAME</th>\n",
       "      <th>SUBDESCRIPTION</th>\n",
       "      <th>TITLE</th>\n",
       "      <th>TEXT</th>\n",
       "      <th>CHARACTER_COUNT</th>\n",
       "      <th>TAGS</th>\n",
       "      <th>TAGS_COUNT</th>\n",
       "      <th>...</th>\n",
       "      <th>POLL_URN</th>\n",
       "      <th>POLL_QUESTION</th>\n",
       "      <th>POLL_RESULTS</th>\n",
       "      <th>POST_URL</th>\n",
       "      <th>VIEWS</th>\n",
       "      <th>COMMENTS</th>\n",
       "      <th>LIKES</th>\n",
       "      <th>SHARES</th>\n",
       "      <th>ENGAGEMENT_SCORE</th>\n",
       "      <th>DATE_EXTRACT</th>\n",
       "    </tr>\n",
       "  </thead>\n",
       "  <tbody>\n",
       "  </tbody>\n",
       "</table>\n",
       "<p>0 rows × 31 columns</p>\n",
       "</div>"
      ],
      "text/plain": [
       "Empty DataFrame\n",
       "Columns: [ACTIVITY_ID, PAGINATION_TOKEN, PUBLISHED_DATE, AUTHOR_NAME, SUBDESCRIPTION, TITLE, TEXT, CHARACTER_COUNT, TAGS, TAGS_COUNT, EMOJIS, EMOJIS_COUNT, LINKS, LINKS_COUNT, PROFILE_MENTION, COMPANY_MENTION, CONTENT, CONTENT_TITLE, CONTENT_URL, CONTENT_URN, IMAGE_URL, POLL_URN, POLL_QUESTION, POLL_RESULTS, POST_URL, VIEWS, COMMENTS, LIKES, SHARES, ENGAGEMENT_SCORE, DATE_EXTRACT]\n",
       "Index: []\n",
       "\n",
       "[0 rows x 31 columns]"
      ]
     },
     "execution_count": 15,
     "metadata": {},
     "output_type": "execute_result"
    }
   ],
   "source": [
    "update_content_notion(df_posts_feed, notion_database)"
   ]
  },
  {
   "cell_type": "markdown",
   "metadata": {},
   "source": [
    "### Update post stats in Notion"
   ]
  },
  {
   "cell_type": "code",
   "execution_count": 10,
   "metadata": {
    "execution": {
     "iopub.execute_input": "2022-01-24T11:39:18.978594Z",
     "iopub.status.busy": "2022-01-24T11:39:18.978232Z",
     "iopub.status.idle": "2022-01-24T11:40:14.893905Z",
     "shell.execute_reply": "2022-01-24T11:40:14.887520Z",
     "shell.execute_reply.started": "2022-01-24T11:39:18.978563Z"
    },
    "tags": []
   },
   "outputs": [
    {
     "name": "stdout",
     "output_type": "stream",
     "text": [
      "✅ Post stats updated in notion for page 'I’m taking a break!'.\n",
      "✅ Post stats updated in notion for page '🚨 #Web3: the new buzzword of the decade? '.\n",
      "✅ Post stats updated in notion for page 'May 2022 be the year we are coming together as ONE, to take actions on these 5 global issues👇'.\n",
      "✅ Post stats updated in notion for page 'Everything in life is a vibration, with ups and downs. '.\n",
      "✅ Post stats updated in notion for page '❓ How to learn anything?'.\n",
      "✅ Post stats updated in notion for page 'Les trésoriers d’entreprise ne sont pas formés à la data… et c’est un problème majeur qui génère:'.\n",
      "✅ Post stats updated in notion for page '😆😅 Humor is a serious business. '.\n",
      "✅ Post stats updated in notion for page 'A simple : happy new year to you and your loved ones. '.\n",
      "✅ Post stats updated in notion for page ' naas.scheduler.add(cron=\"*/15 * * * *\") '.\n",
      "✅ Post stats updated in notion for page '🎥 Video content production is a big pain in the a** 🧅 '.\n",
      "✅ Post stats updated in notion for page 'Working with data, is like working in a mine.👷'.\n",
      "✅ Post stats updated in notion for page '\"The Democratization of Data Science Calls for Education\"'.\n",
      "✅ Post stats updated in notion for page 'Christmas originally is the celebration of the winter solstice.'.\n",
      "✅ Post stats updated in notion for page 'If you like Notion and Project Jupyter Notebooks, you will love Naas's low-code driver & templates.'.\n",
      "✅ Post stats updated in notion for page 'Hey #linkedin spammers ❌! It's not because I have \"coaching\" in my bio that \"we have a shared passion for fitness\"...'.\n",
      "✅ Post stats updated in notion for page 'Thanks for your support with likes and comment on this post team (click directly on the post) not this one :) https://lnkd.in/gxz5nFQj'.\n",
      "✅ Post stats updated in notion for page 'Do you believe NLP can solve some sales targeting issues? How? I experienced a funny use case, would love to hear your thoughts → https://lnkd.in/g2RpHwzX'.\n",
      "✅ Post stats updated in notion for page 'Thanks for your support on this : https://lnkd.in/g_xr_HEi'.\n",
      "✅ Post stats updated in notion for page 'https://lnkd.in/ehh9XP63'.\n",
      "✅ Post stats updated in notion for page 'https://lnkd.in/gKpeV9FS'.\n",
      "✅ Post stats updated in notion for page 'Working with data, is like working in a mine.'.\n",
      "✅ Post stats updated in notion for page 'https://lnkd.in/eWCMDUJN'.\n",
      "✅ Post stats updated in notion for page 'Are you familiar with the power of concepts? I would really appreciate your views on this post 😇. Thank YOU !! https://lnkd.in/e5kNR8gA'.\n",
      "✅ Post stats updated in notion for page 'A take away of yesterday community call with the Naas Pioneers, thanks for your support team '.\n",
      "✅ Post stats updated in notion for page '\"More than machinery we need humanity.\"'.\n",
      "✅ Post stats updated in notion for page '🛑 ✋POC is dead, start creating impact with POV instead (Proof of Value).'.\n",
      "✅ Post stats updated in notion for page 'Define data science in less than 50 words?'.\n",
      "✅ Post stats updated in notion for page 'For a CEO, happy customers = good day.'.\n",
      "✅ Post stats updated in notion for page '⚡️📝 Notion made me realize the power of naas.ai even more today. '.\n",
      "✅ Post stats updated in notion for page '💚 52 contributors'.\n",
      "✅ Post stats updated in notion for page '👍\"Notebooks are great because they can put tech and non-tech people literally on the same page.\"'.\n",
      "👌 Well done! Your Assets has been sent to production.\n",
      "\n"
     ]
    },
    {
     "data": {
      "application/javascript": [
       "\n",
       "    if (!window.copyToClipboard) {\n",
       "        window.copyToClipboard = (text) => {\n",
       "            const dummy = document.createElement(\"textarea\");\n",
       "            document.body.appendChild(dummy);\n",
       "            dummy.value = text;\n",
       "            dummy.select();\n",
       "            document.execCommand(\"copy\");\n",
       "            document.body.removeChild(dummy);\n",
       "        }\n",
       "    }\n",
       "    "
      ],
      "text/plain": [
       "<IPython.core.display.Javascript object>"
      ]
     },
     "metadata": {},
     "output_type": "display_data"
    },
    {
     "data": {
      "application/vnd.jupyter.widget-view+json": {
       "model_id": "3ced73a27bf441b8be654dfdef8427ec",
       "version_major": 2,
       "version_minor": 0
      },
      "text/plain": [
       "Button(button_style='primary', description='Copy URL', style=ButtonStyle())"
      ]
     },
     "metadata": {},
     "output_type": "display_data"
    },
    {
     "data": {
      "application/vnd.jupyter.widget-view+json": {
       "model_id": "4c28c77e0ede427c9910b893e0cac981",
       "version_major": 2,
       "version_minor": 0
      },
      "text/plain": [
       "Output()"
      ]
     },
     "metadata": {},
     "output_type": "display_data"
    },
    {
     "name": "stdout",
     "output_type": "stream",
     "text": [
      "PS: to remove the \"Assets\" feature, just replace .add by .delete\n",
      "✅ Post stats updated in notion for page 'How do you feel this second week of 2022?'.\n",
      "✅ Post stats updated in notion for page '🚀 Finally, Naas Open Source Progam is ready! '.\n",
      "✅ Post stats updated in notion for page '🐝 💥 There is a lot of buzzwords in the data space but one is highly under-rated: Citizen Data Scientist (CDS). '.\n",
      "✅ Post stats updated in notion for page 'I'm BACK 😊, feeling more motivated than ever to change the game in the data space! '.\n",
      "👌 Well done! Your Assets has been sent to production.\n",
      "\n"
     ]
    },
    {
     "data": {
      "application/javascript": [
       "\n",
       "    if (!window.copyToClipboard) {\n",
       "        window.copyToClipboard = (text) => {\n",
       "            const dummy = document.createElement(\"textarea\");\n",
       "            document.body.appendChild(dummy);\n",
       "            dummy.value = text;\n",
       "            dummy.select();\n",
       "            document.execCommand(\"copy\");\n",
       "            document.body.removeChild(dummy);\n",
       "        }\n",
       "    }\n",
       "    "
      ],
      "text/plain": [
       "<IPython.core.display.Javascript object>"
      ]
     },
     "metadata": {},
     "output_type": "display_data"
    },
    {
     "data": {
      "application/vnd.jupyter.widget-view+json": {
       "model_id": "ab2ef32a0cb442aab507f6031d9f2bc5",
       "version_major": 2,
       "version_minor": 0
      },
      "text/plain": [
       "Button(button_style='primary', description='Copy URL', style=ButtonStyle())"
      ]
     },
     "metadata": {},
     "output_type": "display_data"
    },
    {
     "data": {
      "application/vnd.jupyter.widget-view+json": {
       "model_id": "43baed6c3e4d42d2b66b655349e6f045",
       "version_major": 2,
       "version_minor": 0
      },
      "text/plain": [
       "Output()"
      ]
     },
     "metadata": {},
     "output_type": "display_data"
    },
    {
     "name": "stdout",
     "output_type": "stream",
     "text": [
      "PS: to remove the \"Assets\" feature, just replace .add by .delete\n",
      "✅ Post stats updated in notion for page 'How do you feel this 1st week of 2022? '.\n",
      "✅ Post stats updated in notion for page '🚀✨ Notebooks + Low-code libraries are opening doors to new horizons, where there is no more bridge to build between tech and non-tech world. '.\n",
      "✅ Post stats updated in notion for page '⚡️🍼 Having kids does not have to take all your productive time.'.\n",
      "✅ Post stats updated in notion for page 'I’m having hard times posting regularly those days. 🤯 '.\n",
      "✅ Post stats updated in notion for page '☝️ My father used to say « Stop setting up new goals all the time, finish what you started first. »'.\n",
      "✅ Post stats updated in notion for page '81 🎉 That's the number of contributors that applied to the  naas.ai Open Source Contributor program we are going to kickstart on Tuesday! 🌎⚡️'.\n",
      "✅ Post stats updated in notion for page 'There is days like this where all the planets align… 🪐'.\n",
      "✅ Post stats updated in notion for page '☢️⚡️ Data scientists NEED to master GitHub for the same reason that software engineers do: collaboration and version control. '.\n",
      "👌 Well done! Your Assets has been sent to production.\n",
      "\n"
     ]
    },
    {
     "data": {
      "application/javascript": [
       "\n",
       "    if (!window.copyToClipboard) {\n",
       "        window.copyToClipboard = (text) => {\n",
       "            const dummy = document.createElement(\"textarea\");\n",
       "            document.body.appendChild(dummy);\n",
       "            dummy.value = text;\n",
       "            dummy.select();\n",
       "            document.execCommand(\"copy\");\n",
       "            document.body.removeChild(dummy);\n",
       "        }\n",
       "    }\n",
       "    "
      ],
      "text/plain": [
       "<IPython.core.display.Javascript object>"
      ]
     },
     "metadata": {},
     "output_type": "display_data"
    },
    {
     "data": {
      "application/vnd.jupyter.widget-view+json": {
       "model_id": "3259ab886672445d9d48b5a9c22a8d6d",
       "version_major": 2,
       "version_minor": 0
      },
      "text/plain": [
       "Button(button_style='primary', description='Copy URL', style=ButtonStyle())"
      ]
     },
     "metadata": {},
     "output_type": "display_data"
    },
    {
     "data": {
      "application/vnd.jupyter.widget-view+json": {
       "model_id": "003ab223d2b04f959e27316216226453",
       "version_major": 2,
       "version_minor": 0
      },
      "text/plain": [
       "Output()"
      ]
     },
     "metadata": {},
     "output_type": "display_data"
    },
    {
     "name": "stdout",
     "output_type": "stream",
     "text": [
      "PS: to remove the \"Assets\" feature, just replace .add by .delete\n",
      "✅ Post stats updated in notion for page 'How do you feel this week 3 of 2022? '.\n",
      "✅ Post stats updated in notion for page '🛑 Open Source is not a business model. '.\n",
      "✅ Post stats updated in notion for page 'What motivates you the most in the AI field?'.\n",
      "✅ Post stats updated in notion for page 'There are no problems in life.'.\n",
      "✅ Post stats updated in notion for page '\"In community we trust\" 🙏 '.\n",
      "✅ Post stats updated in notion for page '🌍💰Contribute to opensource and make money from the expertise you build on the product! '.\n",
      "✅ Post stats updated in notion for page 'https://lnkd.in/e_ti8TDC'.\n"
     ]
    }
   ],
   "source": [
    "update_content_notion(df_posts_stats, notion_database)"
   ]
  },
  {
   "cell_type": "markdown",
   "metadata": {},
   "source": [
    "### Archive data in naas"
   ]
  },
  {
   "cell_type": "code",
   "execution_count": 16,
   "metadata": {
    "execution": {
     "iopub.execute_input": "2022-01-24T11:46:03.883329Z",
     "iopub.status.busy": "2022-01-24T11:46:03.883008Z",
     "iopub.status.idle": "2022-01-24T11:46:03.887700Z",
     "shell.execute_reply": "2022-01-24T11:46:03.886954Z",
     "shell.execute_reply.started": "2022-01-24T11:46:03.883300Z"
    }
   },
   "outputs": [],
   "source": [
    "def archive_csv(df, filename=\"LINKEDIN_POSTS_FEED.csv\", output_dir=None):\n",
    "    # Add timestamp to df\n",
    "    df[\"DATE_EXTRACT\"] = datetime.now().strftime(\"%Y-%m-%d %H:%M:%S\")\n",
    "    \n",
    "    # Get archive\n",
    "    df_archive = pd.DataFrame()\n",
    "    files = os.listdir(output_dir)\n",
    "    for f in files:\n",
    "        if f == filename:\n",
    "            df_archive = pd.read_csv(filename)\n",
    "            break\n",
    "            \n",
    "    # Concat\n",
    "    df = pd.concat([df, df_archive], axis=0).drop_duplicates(\"POST_URN\", keep=\"first\")\n",
    "    df.to_csv(filename, index=False)\n",
    "    return df"
   ]
  },
  {
   "cell_type": "code",
   "execution_count": 11,
   "metadata": {
    "execution": {
     "iopub.execute_input": "2022-01-24T11:40:14.898669Z",
     "iopub.status.busy": "2022-01-24T11:40:14.897108Z",
     "iopub.status.idle": "2022-01-24T11:40:15.147524Z",
     "shell.execute_reply": "2022-01-24T11:40:15.145142Z",
     "shell.execute_reply.started": "2022-01-24T11:40:14.898634Z"
    },
    "tags": []
   },
   "outputs": [
    {
     "ename": "NameError",
     "evalue": "name 'os' is not defined",
     "output_type": "error",
     "traceback": [
      "\u001b[0;31m---------------------------------------------------------------------------\u001b[0m",
      "\u001b[0;31mNameError\u001b[0m                                 Traceback (most recent call last)",
      "\u001b[0;32m<ipython-input-11-2969188ab89e>\u001b[0m in \u001b[0;36m<module>\u001b[0;34m\u001b[0m\n\u001b[1;32m     16\u001b[0m     \u001b[0;32mreturn\u001b[0m \u001b[0mdf\u001b[0m\u001b[0;34m\u001b[0m\u001b[0;34m\u001b[0m\u001b[0m\n\u001b[1;32m     17\u001b[0m \u001b[0;34m\u001b[0m\u001b[0m\n\u001b[0;32m---> 18\u001b[0;31m \u001b[0mdf\u001b[0m \u001b[0;34m=\u001b[0m \u001b[0marchive_csv\u001b[0m\u001b[0;34m(\u001b[0m\u001b[0mdf_posts_feed\u001b[0m\u001b[0;34m)\u001b[0m\u001b[0;34m\u001b[0m\u001b[0;34m\u001b[0m\u001b[0m\n\u001b[0m\u001b[1;32m     19\u001b[0m \u001b[0mprint\u001b[0m\u001b[0;34m(\u001b[0m\u001b[0;34m\"💾 Linkedin posts archives:\"\u001b[0m\u001b[0;34m,\u001b[0m \u001b[0mlen\u001b[0m\u001b[0;34m(\u001b[0m\u001b[0mdf\u001b[0m\u001b[0;34m)\u001b[0m\u001b[0;34m)\u001b[0m\u001b[0;34m\u001b[0m\u001b[0;34m\u001b[0m\u001b[0m\n",
      "\u001b[0;32m<ipython-input-11-2969188ab89e>\u001b[0m in \u001b[0;36marchive_csv\u001b[0;34m(df, filename, output_dir)\u001b[0m\n\u001b[1;32m      5\u001b[0m     \u001b[0;31m# Get archive\u001b[0m\u001b[0;34m\u001b[0m\u001b[0;34m\u001b[0m\u001b[0;34m\u001b[0m\u001b[0m\n\u001b[1;32m      6\u001b[0m     \u001b[0mdf_archive\u001b[0m \u001b[0;34m=\u001b[0m \u001b[0mpd\u001b[0m\u001b[0;34m.\u001b[0m\u001b[0mDataFrame\u001b[0m\u001b[0;34m(\u001b[0m\u001b[0;34m)\u001b[0m\u001b[0;34m\u001b[0m\u001b[0;34m\u001b[0m\u001b[0m\n\u001b[0;32m----> 7\u001b[0;31m     \u001b[0mfiles\u001b[0m \u001b[0;34m=\u001b[0m \u001b[0mos\u001b[0m\u001b[0;34m.\u001b[0m\u001b[0mlistdir\u001b[0m\u001b[0;34m(\u001b[0m\u001b[0moutput_dir\u001b[0m\u001b[0;34m)\u001b[0m\u001b[0;34m\u001b[0m\u001b[0;34m\u001b[0m\u001b[0m\n\u001b[0m\u001b[1;32m      8\u001b[0m     \u001b[0;32mfor\u001b[0m \u001b[0mf\u001b[0m \u001b[0;32min\u001b[0m \u001b[0mfiles\u001b[0m\u001b[0;34m:\u001b[0m\u001b[0;34m\u001b[0m\u001b[0;34m\u001b[0m\u001b[0m\n\u001b[1;32m      9\u001b[0m         \u001b[0;32mif\u001b[0m \u001b[0mf\u001b[0m \u001b[0;34m==\u001b[0m \u001b[0mfilename\u001b[0m\u001b[0;34m:\u001b[0m\u001b[0;34m\u001b[0m\u001b[0;34m\u001b[0m\u001b[0m\n",
      "\u001b[0;31mNameError\u001b[0m: name 'os' is not defined"
     ]
    }
   ],
   "source": [
    "df = archive_csv(df_posts_feed)\n",
    "print(\"💾 Linkedin posts archives:\", len(df))"
   ]
  }
 ],
 "metadata": {
  "interpreter": {
   "hash": "e7370f93d1d0cde622a1f8e1c04877d8463912d04d973331ad4851f04de6915a"
  },
  "kernelspec": {
   "display_name": "Python 3",
   "language": "python",
   "name": "python3"
  },
  "language_info": {
   "codemirror_mode": {
    "name": "ipython",
    "version": 3
   },
   "file_extension": ".py",
   "mimetype": "text/x-python",
   "name": "python",
   "nbconvert_exporter": "python",
   "pygments_lexer": "ipython3",
   "version": "3.8.8"
  }
 },
 "nbformat": 4,
 "nbformat_minor": 4
}
