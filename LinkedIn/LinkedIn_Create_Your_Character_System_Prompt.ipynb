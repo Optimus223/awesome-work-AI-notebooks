{
 "cells": [
  {
   "cell_type": "markdown",
   "id": "20c86045-a350-422f-9866-6164c857b120",
   "metadata": {
    "papermill": {},
    "tags": []
   },
   "source": [
    "<img width=\"10%\" alt=\"Naas\" src=\"https://landen.imgix.net/jtci2pxwjczr/assets/5ice39g4.png?w=160\"/>"
   ]
  },
  {
   "cell_type": "markdown",
   "id": "cb0fd8ab-63ad-4579-aeac-47ade458b778",
   "metadata": {
    "papermill": {},
    "tags": []
   },
   "source": [
    "# LinkedIn - Create Your Character System Prompt"
   ]
  },
  {
   "cell_type": "markdown",
   "id": "7a85caf1-a75d-4b5d-9e6d-9133c856a289",
   "metadata": {
    "papermill": {},
    "tags": []
   },
   "source": [
    "**Tags:** #linkedin #character #system #prompt #create #template"
   ]
  },
  {
   "cell_type": "markdown",
   "id": "ca2b64ab-e3fa-4782-a340-af3036409a59",
   "metadata": {
    "papermill": {},
    "tags": []
   },
   "source": [
    "**Author:** [Florent Ravenel](https://www.linkedin.com/in/florent-ravenel/)"
   ]
  },
  {
   "cell_type": "markdown",
   "id": "155837b2-fec0-454c-9556-e48cee49293e",
   "metadata": {
    "papermill": {},
    "tags": []
   },
   "source": [
    "**Last update:** 2023-10-31 (Created: 2023-10-31)"
   ]
  },
  {
   "cell_type": "markdown",
   "id": "f3c54d1c-7f27-4313-91ca-ce2e26225f80",
   "metadata": {
    "papermill": {},
    "tags": []
   },
   "source": [
    "**Description:** This notebook will help you create a character system prompt for your LinkedIn profile. It will provide a template to help you create a post that will be engaging and informative."
   ]
  },
  {
   "cell_type": "markdown",
   "id": "7aa859fd-0ff5-4ae5-9201-fd6065f5fcfc",
   "metadata": {
    "papermill": {},
    "tags": []
   },
   "source": [
    "**References:**\n- [LinkedIn - Create Your Character System Prompt](https://www.linkedin.com/help/linkedin/answer/717/creating-your-character-system-prompt?lang=en)\n- [LinkedIn - How to Write a Great Character System Prompt](https://www.linkedin.com/pulse/how-write-great-character-system-prompt-david-b-yoffie/)"
   ]
  },
  {
   "cell_type": "markdown",
   "id": "c6059509-4b17-4822-b209-8e8a291f8420",
   "metadata": {
    "papermill": {},
    "tags": []
   },
   "source": [
    "## Input"
   ]
  },
  {
   "cell_type": "markdown",
   "id": "0483c0e7-4e0e-4443-9aa0-b5a59d9b6c35",
   "metadata": {
    "papermill": {},
    "tags": []
   },
   "source": [
    "### Import libraries"
   ]
  },
  {
   "cell_type": "code",
   "execution_count": null,
   "id": "a49f6c03-d5b3-4d22-b8ec-d71d8ef7da7b",
   "metadata": {
    "papermill": {},
    "tags": []
   },
   "source": "import pandas as pd",
   "outputs": []
  },
  {
   "cell_type": "markdown",
   "id": "c79dd3fe-49b2-4758-a7eb-07aa44e5e8f3",
   "metadata": {
    "papermill": {},
    "tags": []
   },
   "source": [
    "### Setup variables\n- **template**: template of the post"
   ]
  },
  {
   "cell_type": "code",
   "execution_count": null,
   "id": "4261ecfc-97c6-44a7-8be4-f27a3fd175a4",
   "metadata": {
    "papermill": {},
    "tags": []
   },
   "source": "template = \"\"\"\nYour character system prompt should be a short, catchy phrase that describes who you are and what you do.\nFor example, if you are a software engineer, you might use something like:\n\"Software engineer with a passion for creating innovative solutions.\"\n\"\"\"",
   "outputs": []
  },
  {
   "cell_type": "markdown",
   "id": "c45336d1-7997-4465-9c81-454fb5ec47bf",
   "metadata": {
    "papermill": {},
    "tags": []
   },
   "source": [
    "## Model"
   ]
  },
  {
   "cell_type": "markdown",
   "id": "ac8e71a6-9aa2-499c-b455-785552f0e5cd",
   "metadata": {
    "papermill": {},
    "tags": []
   },
   "source": [
    "### Create post"
   ]
  },
  {
   "cell_type": "markdown",
   "id": "f1178f04-9ead-4153-9f7b-17d26113fb46",
   "metadata": {
    "papermill": {},
    "tags": []
   },
   "source": [
    "Long description of the function without break"
   ]
  },
  {
   "cell_type": "code",
   "execution_count": null,
   "id": "0a81597b-fa9e-4c3c-b20b-bd4217881605",
   "metadata": {
    "papermill": {},
    "tags": []
   },
   "source": "# Create post\npost = template",
   "outputs": []
  },
  {
   "cell_type": "markdown",
   "id": "a251b73d-f314-4d6a-abdf-f203207b4644",
   "metadata": {
    "papermill": {},
    "tags": []
   },
   "source": [
    "## Output"
   ]
  },
  {
   "cell_type": "markdown",
   "id": "a443fbf0-edc3-4c46-b574-494fd516281b",
   "metadata": {
    "papermill": {},
    "tags": []
   },
   "source": [
    "### Display result"
   ]
  },
  {
   "cell_type": "code",
   "execution_count": null,
   "id": "4a3e322b-c45c-4e7b-8141-0426b07521be",
   "metadata": {
    "papermill": {},
    "tags": []
   },
   "source": "print(post)",
   "outputs": []
  }
 ],
 "metadata": {
  "kernelspec": {
   "display_name": "Python 3",
   "language": "python",
   "name": "python3"
  },
  "language_info": {
   "codemirror_mode": {
    "name": "ipython",
    "version": 3
   },
   "file_extension": ".py",
   "mimetype": "text/x-python",
   "name": "python",
   "nbconvert_exporter": "python",
   "pygments_lexer": "ipython3",
   "version": "3.9.6"
  },
  "widgets": {
   "application/vnd.jupyter.widget-state+json": {
    "state": {},
    "version_major": 2,
    "version_minor": 0
   }
  }
 },
 "nbformat": 4,
 "nbformat_minor": 5
}