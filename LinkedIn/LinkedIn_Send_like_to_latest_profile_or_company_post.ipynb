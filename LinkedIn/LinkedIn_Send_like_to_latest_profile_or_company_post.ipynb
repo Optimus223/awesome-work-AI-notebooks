{
 "cells": [
  {
   "cell_type": "markdown",
   "id": "d7d25ab1-042d-4c10-b08e-3ae32af5451f",
   "metadata": {
    "papermill": {},
    "tags": []
   },
   "source": [
    "<img width=\"10%\" alt=\"Naas\" src=\"https://landen.imgix.net/jtci2pxwjczr/assets/5ice39g4.png?w=160\"/>"
   ]
  },
  {
   "cell_type": "markdown",
   "id": "9e75c01a-1750-42d5-87e7-1d34805cafca",
   "metadata": {
    "papermill": {},
    "tags": []
   },
   "source": [
    "# LinkedIn - Send like to latest profile or company post"
   ]
  },
  {
   "cell_type": "markdown",
   "id": "db41d4c4-7339-4d2d-b280-d9953aa958d5",
   "metadata": {
    "papermill": {},
    "tags": []
   },
   "source": [
    "**Tags:** #linkedin #python #api #automation #like #post"
   ]
  },
  {
   "cell_type": "markdown",
   "id": "9fc4c8b3-f8c9-4db9-8a99-75539b5f047d",
   "metadata": {
    "papermill": {},
    "tags": []
   },
   "source": [
    "**Author:** [Florent Ravenel](https://www.linkedin.com/in/florent-ravenel)"
   ]
  },
  {
   "cell_type": "markdown",
   "id": "9b88b4c6-523c-474f-9918-594faf750deb",
   "metadata": {
    "papermill": {},
    "tags": []
   },
   "source": [
    "**Last update:** 2023-08-23 (Created: 2023-08-23)"
   ]
  },
  {
   "cell_type": "markdown",
   "id": "071c1a50-ac48-4dbc-b97d-a0ce8f1a0e77",
   "metadata": {
    "papermill": {},
    "tags": []
   },
   "source": [
    "**Description:** This notebook automates the process of sending a like to the latest post of a profile or company on LinkedIn. It is usefull for organizations to quickly engage with their followers."
   ]
  },
  {
   "cell_type": "markdown",
   "id": "015d23f6-6b40-4665-91a6-d179f9bc93cb",
   "metadata": {
    "papermill": {},
    "tags": []
   },
   "source": [
    "**References:**\n- [LinkedIn API Documentation](https://docs.microsoft.com/en-us/linkedin/shared/references/v2/profile/profile-posts?context=linkedin/consumer/context)\n- [Python Requests Library](https://requests.readthedocs.io/en/master/)"
   ]
  },
  {
   "cell_type": "markdown",
   "id": "28e19c25-9c14-470a-882f-c5fca972ee29",
   "metadata": {
    "papermill": {},
    "tags": []
   },
   "source": [
    "## Input"
   ]
  },
  {
   "cell_type": "markdown",
   "id": "811ae6ec-0c80-4167-bc2b-9a2307b01dbf",
   "metadata": {
    "papermill": {},
    "tags": []
   },
   "source": [
    "### Import libraries"
   ]
  },
  {
   "cell_type": "code",
   "execution_count": null,
   "id": "bb8f1c46-3da2-47a1-af75-c32234f0a90d",
   "metadata": {
    "papermill": {},
    "tags": []
   },
   "source": "import requests",
   "outputs": []
  },
  {
   "cell_type": "markdown",
   "id": "ac438cd6-cfca-4409-a1ff-eae24e9a61b2",
   "metadata": {
    "papermill": {},
    "tags": []
   },
   "source": [
    "### Setup variables\n- `profile_id`: The ID of the profile or company to send the like to\n- `access_token`: The access token to authenticate the request"
   ]
  },
  {
   "cell_type": "code",
   "execution_count": null,
   "id": "52910f65-f14a-4f1a-b49e-befa0d4ed890",
   "metadata": {
    "papermill": {},
    "tags": []
   },
   "source": "profile_id = \"123456789\"\naccess_token = \"abcdefghijklmnopqrstuvwxyz\"",
   "outputs": []
  },
  {
   "cell_type": "markdown",
   "id": "93920f11-4dbc-4786-af51-4bf8bca720d4",
   "metadata": {
    "papermill": {},
    "tags": []
   },
   "source": [
    "## Model"
   ]
  },
  {
   "cell_type": "markdown",
   "id": "f35f7d52-02ae-4831-8c01-c4505129b5ae",
   "metadata": {
    "papermill": {},
    "tags": []
   },
   "source": [
    "### Send like to latest post"
   ]
  },
  {
   "cell_type": "markdown",
   "id": "26406740-2cef-4bc7-bde6-84f76aee0efd",
   "metadata": {
    "papermill": {},
    "tags": []
   },
   "source": [
    "This function sends a like to the latest post of a profile or company on LinkedIn."
   ]
  },
  {
   "cell_type": "code",
   "execution_count": null,
   "id": "1a22fdbc-007d-4be8-9706-d35e657fa5fd",
   "metadata": {
    "papermill": {},
    "tags": []
   },
   "source": "def send_like(profile_id, access_token):\n    # Get the latest post of the profile\n    url = f\"https://api.linkedin.com/v2/ugcPosts?q=authors&authors=List({profile_id})&sortBy=RECENCY\"\n    headers = {\"Authorization\": f\"Bearer {access_token}\"}\n    response = requests.get(url, headers=headers)\n    post_id = response.json()[\"elements\"][0][\"id\"]\n\n    # Send the like\n    url = f\"https://api.linkedin.com/v2/ugcPosts/{post_id}/likes\"\n    response = requests.post(url, headers=headers)\n    return response.status_code",
   "outputs": []
  },
  {
   "cell_type": "markdown",
   "id": "528fd37c-548f-40cc-af61-ec184c35e82d",
   "metadata": {
    "papermill": {},
    "tags": []
   },
   "source": [
    "## Output"
   ]
  },
  {
   "cell_type": "markdown",
   "id": "55f08054-d8e5-4d82-92d2-a4cb298ac7da",
   "metadata": {
    "papermill": {},
    "tags": []
   },
   "source": [
    "### Display result"
   ]
  },
  {
   "cell_type": "code",
   "execution_count": null,
   "id": "9dbbe473-fbb4-4d09-8e24-61cf7b475d78",
   "metadata": {
    "papermill": {},
    "tags": []
   },
   "source": "status_code = send_like(profile_id, access_token)\nprint(f\"Status code: {status_code}\")",
   "outputs": []
  },
  {
   "cell_type": "markdown",
   "id": "7fcc7899-4870-4440-baa4-639e14df3f13",
   "metadata": {
    "papermill": {},
    "tags": []
   },
   "source": [
    " "
   ]
  }
 ],
 "metadata": {
  "kernelspec": {
   "display_name": "Python 3",
   "language": "python",
   "name": "python3"
  },
  "language_info": {
   "codemirror_mode": {
    "name": "ipython",
    "version": 3
   },
   "file_extension": ".py",
   "mimetype": "text/x-python",
   "name": "python",
   "nbconvert_exporter": "python",
   "pygments_lexer": "ipython3",
   "version": "3.9.6"
  },
  "widgets": {
   "application/vnd.jupyter.widget-state+json": {
    "state": {},
    "version_major": 2,
    "version_minor": 0
   }
  }
 },
 "nbformat": 4,
 "nbformat_minor": 5
}