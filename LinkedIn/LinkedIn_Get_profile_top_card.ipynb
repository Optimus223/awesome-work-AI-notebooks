{
 "cells": [
  {
   "cell_type": "markdown",
   "id": "fe80eec3-28fb-4a32-9568-f4075605e8bd",
   "metadata": {
    "papermill": {},
    "tags": []
   },
   "source": [
    "<img width=\"8%\" alt=\"Naas.png\" src=\"https://raw.githubusercontent.com/jupyter-naas/awesome-notebooks/master/.github/assets/logos/Naas.png\" style=\"border-radius: 15%\">"
   ]
  },
  {
   "cell_type": "markdown",
   "id": "acf31f8b-e4c0-4b15-b244-d5f9921e5a51",
   "metadata": {
    "papermill": {},
    "tags": []
   },
   "source": [
    "# LinkedIn - Get profile top card"
   ]
  },
  {
   "cell_type": "markdown",
   "id": "2af80c82-b968-4fa0-91a5-963c8cd24fc7",
   "metadata": {
    "papermill": {},
    "tags": []
   },
   "source": [
    "**Tags:** #linkedin #profile #topcard #scraping #python #api"
   ]
  },
  {
   "cell_type": "markdown",
   "id": "7236831f-9c3a-4a7e-b0b4-3a176dab0319",
   "metadata": {
    "papermill": {},
    "tags": []
   },
   "source": [
    "**Author:** [Florent Ravenel](https://www.linkedin.com/in/florent-ravenel/)"
   ]
  },
  {
   "cell_type": "markdown",
   "id": "ff8c8cd6-d8d7-4027-b81d-66a6e5b3a80e",
   "metadata": {
    "papermill": {},
    "tags": []
   },
   "source": [
    "**Last update:** 2023-12-05 (Created: 2023-12-05)"
   ]
  },
  {
   "cell_type": "markdown",
   "id": "0a76d218-1dfb-4420-97df-3d86ecaf284d",
   "metadata": {
    "papermill": {},
    "tags": []
   },
   "source": [
    "**Description:** This notebook will get information from LinkedIn profile top card such as current company, school, connections, followers, occupation, firstname, lastname. It is usefull for organizations to quickly get information from a LinkedIn profile."
   ]
  },
  {
   "cell_type": "markdown",
   "id": "c95112d0-4058-4c51-ba02-4a472e4f6ae6",
   "metadata": {
    "papermill": {},
    "tags": []
   },
   "source": [
    "\n",
    "<div class=\"alert alert-info\" role=\"info\" style=\"margin: 10px\">\n",
    "<b>Disclaimer:</b><br>\n",
    "This code is in no way affiliated with, authorized, maintained, sponsored or endorsed by Linkedin or any of its affiliates or subsidiaries. It uses an independent and unofficial API. Use at your own risk.\n",
    "\n",
    "This project violates Linkedin's User Agreement Section 8.2, and because of this, Linkedin may (and will) temporarily or permanently ban your account. We are not responsible for your account being banned.\n",
    "<br>\n",
    "</div>"
   ]
  },
  {
   "cell_type": "markdown",
   "id": "6c04fa1b-9911-4c6c-9b0b-a665d8a52424",
   "metadata": {
    "papermill": {},
    "tags": []
   },
   "source": [
    "## Input"
   ]
  },
  {
   "cell_type": "markdown",
   "id": "f90aea78-bed1-4475-8130-bd21db801d41",
   "metadata": {
    "papermill": {},
    "tags": []
   },
   "source": [
    "### Import libraries"
   ]
  },
  {
   "cell_type": "code",
   "execution_count": 1,
   "id": "246860a2-9398-4788-b602-9d9b362f2d62",
   "metadata": {
    "execution": {
     "iopub.execute_input": "2023-12-11T16:54:45.830583Z",
     "iopub.status.busy": "2023-12-11T16:54:45.822927Z",
     "iopub.status.idle": "2023-12-11T16:55:00.705055Z",
     "shell.execute_reply": "2023-12-11T16:55:00.697130Z",
     "shell.execute_reply.started": "2023-12-11T16:54:45.830480Z"
    },
    "papermill": {},
    "tags": []
   },
   "outputs": [],
   "source": [
    "from naas_drivers import linkedin\n",
    "import naas"
   ]
  },
  {
   "cell_type": "markdown",
   "id": "6fca23a0-2c57-4962-bec6-0e68732e0cc1",
   "metadata": {
    "papermill": {},
    "tags": []
   },
   "source": [
    "### Setup variables\n",
    "**Mandatory**\n",
    "\n",
    "[Learn how to get your cookies on LinkedIn](https://www.notion.so/LinkedIn-driver-Get-your-cookies-d20a8e7e508e42af8a5b52e33f3dba75)\n",
    "- `li_at`: Cookie used to authenticate Members and API clients.\n",
    "- `JSESSIONID`: Cookie used for Cross Site Request Forgery (CSRF) protection and URL signature validation.\n",
    "- `linkedin_url`: LinkedIn profile URL"
   ]
  },
  {
   "cell_type": "code",
   "execution_count": 2,
   "id": "e4d954ac-35f1-40aa-ac79-f4d9d205a231",
   "metadata": {
    "execution": {
     "iopub.execute_input": "2023-12-11T16:55:00.706642Z",
     "iopub.status.busy": "2023-12-11T16:55:00.706377Z",
     "iopub.status.idle": "2023-12-11T16:55:18.992105Z",
     "shell.execute_reply": "2023-12-11T16:55:18.991351Z",
     "shell.execute_reply.started": "2023-12-11T16:55:00.706609Z"
    },
    "papermill": {},
    "tags": []
   },
   "outputs": [],
   "source": [
    "# Mandatory\n",
    "li_at = naas.secret.get(\"LINKEDIN_LI_AT\") or \"YOUR_LINKEDIN_LI_AT\" #example: AQFAzQN_PLPR4wAAAXc-FCKmgiMit5FLdY1af3-2\n",
    "JSESSIONID = naas.secret.get(\"LINKEDIN_JSESSIONID\") or \"YOUR_LINKEDIN_JSESSIONID\" #example: ajax:8379907400220387585\n",
    "linkedin_url = \"https://www.linkedin.com/in/jeremyravenel\""
   ]
  },
  {
   "cell_type": "markdown",
   "id": "48f7ee97-fd68-46cf-b602-22d965bf027d",
   "metadata": {
    "papermill": {},
    "tags": []
   },
   "source": [
    "## Model"
   ]
  },
  {
   "cell_type": "markdown",
   "id": "18665c40-517e-4292-bd17-2737673f55a8",
   "metadata": {
    "papermill": {},
    "tags": []
   },
   "source": [
    "### Get profile top card"
   ]
  },
  {
   "cell_type": "code",
   "execution_count": 3,
   "id": "15d0a585-b110-48fa-8cb1-fb3a15d34a64",
   "metadata": {
    "execution": {
     "iopub.execute_input": "2023-12-11T16:55:18.993889Z",
     "iopub.status.busy": "2023-12-11T16:55:18.993442Z",
     "iopub.status.idle": "2023-12-11T16:55:25.800042Z",
     "shell.execute_reply": "2023-12-11T16:55:25.799335Z",
     "shell.execute_reply.started": "2023-12-11T16:55:18.993852Z"
    },
    "papermill": {},
    "tags": []
   },
   "outputs": [
    {
     "data": {
      "text/html": [
       "<div>\n",
       "<style scoped>\n",
       "    .dataframe tbody tr th:only-of-type {\n",
       "        vertical-align: middle;\n",
       "    }\n",
       "\n",
       "    .dataframe tbody tr th {\n",
       "        vertical-align: top;\n",
       "    }\n",
       "\n",
       "    .dataframe thead th {\n",
       "        text-align: right;\n",
       "    }\n",
       "</style>\n",
       "<table border=\"1\" class=\"dataframe\">\n",
       "  <thead>\n",
       "    <tr style=\"text-align: right;\">\n",
       "      <th></th>\n",
       "      <th>PROFILE_ID</th>\n",
       "      <th>PUBLIC_ID</th>\n",
       "      <th>FIRSTNAME</th>\n",
       "      <th>LASTNAME</th>\n",
       "      <th>FULLNAME</th>\n",
       "      <th>OCCUPATION</th>\n",
       "      <th>CONNECTIONS</th>\n",
       "      <th>HASHTAGS</th>\n",
       "      <th>LOCATION</th>\n",
       "      <th>COMPANY_NAME</th>\n",
       "      <th>COMPANY_URL</th>\n",
       "      <th>DATE_START</th>\n",
       "      <th>DATE_END</th>\n",
       "      <th>SCHOOL_NAME</th>\n",
       "      <th>SCHOOL_URL</th>\n",
       "      <th>FOLLOWER_COUNT</th>\n",
       "      <th>DATE_EXTRACT</th>\n",
       "    </tr>\n",
       "  </thead>\n",
       "  <tbody>\n",
       "    <tr>\n",
       "      <th>0</th>\n",
       "      <td>ACoAAAJHE7sB5OxuKHuzguZ9L6lfDHqw--cdnJg</td>\n",
       "      <td>jeremyravenel</td>\n",
       "      <td>Jérémy</td>\n",
       "      <td>Ravenel</td>\n",
       "      <td>Jérémy Ravenel</td>\n",
       "      <td>⚡️ Building @naas.ai, universal data &amp; AI plat...</td>\n",
       "      <td>10937</td>\n",
       "      <td>Talks about #ai, #data, #opendata, #automation...</td>\n",
       "      <td>fr</td>\n",
       "      <td>naas.ai</td>\n",
       "      <td>https://www.linkedin.com/company/70506391</td>\n",
       "      <td>2023-04</td>\n",
       "      <td>None</td>\n",
       "      <td>Stanford University Graduate School of Business</td>\n",
       "      <td>https://www.linkedin.com/school/1791</td>\n",
       "      <td>17918</td>\n",
       "      <td>2023-12-11 17:55:25</td>\n",
       "    </tr>\n",
       "  </tbody>\n",
       "</table>\n",
       "</div>"
      ],
      "text/plain": [
       "                                PROFILE_ID      PUBLIC_ID FIRSTNAME LASTNAME  \\\n",
       "0  ACoAAAJHE7sB5OxuKHuzguZ9L6lfDHqw--cdnJg  jeremyravenel    Jérémy  Ravenel   \n",
       "\n",
       "         FULLNAME                                         OCCUPATION  \\\n",
       "0  Jérémy Ravenel  ⚡️ Building @naas.ai, universal data & AI plat...   \n",
       "\n",
       "   CONNECTIONS                                           HASHTAGS LOCATION  \\\n",
       "0        10937  Talks about #ai, #data, #opendata, #automation...       fr   \n",
       "\n",
       "  COMPANY_NAME                                COMPANY_URL DATE_START DATE_END  \\\n",
       "0      naas.ai  https://www.linkedin.com/company/70506391    2023-04     None   \n",
       "\n",
       "                                       SCHOOL_NAME  \\\n",
       "0  Stanford University Graduate School of Business   \n",
       "\n",
       "                             SCHOOL_URL  FOLLOWER_COUNT         DATE_EXTRACT  \n",
       "0  https://www.linkedin.com/school/1791           17918  2023-12-11 17:55:25  "
      ]
     },
     "execution_count": 3,
     "metadata": {},
     "output_type": "execute_result"
    }
   ],
   "source": [
    "df = linkedin.connect(li_at, JSESSIONID).profile.get_top_card(linkedin_url)\n",
    "df"
   ]
  },
  {
   "cell_type": "markdown",
   "id": "c95a0ec1-e38c-4c56-bd9e-1a1903e2f8af",
   "metadata": {
    "papermill": {},
    "tags": []
   },
   "source": [
    "## Output"
   ]
  },
  {
   "cell_type": "markdown",
   "id": "82ffaf94-0ec2-4de6-99d1-d9801db1d1c8",
   "metadata": {
    "papermill": {},
    "tags": []
   },
   "source": [
    "### Display result"
   ]
  },
  {
   "cell_type": "code",
   "execution_count": 4,
   "id": "db2ccec3-cc56-43c9-b356-45444935d896",
   "metadata": {
    "execution": {
     "iopub.execute_input": "2023-12-11T16:55:25.812653Z",
     "iopub.status.busy": "2023-12-11T16:55:25.808038Z",
     "iopub.status.idle": "2023-12-11T16:55:25.857861Z",
     "shell.execute_reply": "2023-12-11T16:55:25.857048Z",
     "shell.execute_reply.started": "2023-12-11T16:55:25.812609Z"
    },
    "papermill": {},
    "tags": []
   },
   "outputs": [
    {
     "data": {
      "text/html": [
       "<div>\n",
       "<style scoped>\n",
       "    .dataframe tbody tr th:only-of-type {\n",
       "        vertical-align: middle;\n",
       "    }\n",
       "\n",
       "    .dataframe tbody tr th {\n",
       "        vertical-align: top;\n",
       "    }\n",
       "\n",
       "    .dataframe thead th {\n",
       "        text-align: right;\n",
       "    }\n",
       "</style>\n",
       "<table border=\"1\" class=\"dataframe\">\n",
       "  <thead>\n",
       "    <tr style=\"text-align: right;\">\n",
       "      <th></th>\n",
       "      <th>PROFILE_ID</th>\n",
       "      <th>PUBLIC_ID</th>\n",
       "      <th>FIRSTNAME</th>\n",
       "      <th>LASTNAME</th>\n",
       "      <th>FULLNAME</th>\n",
       "      <th>OCCUPATION</th>\n",
       "      <th>CONNECTIONS</th>\n",
       "      <th>HASHTAGS</th>\n",
       "      <th>LOCATION</th>\n",
       "      <th>COMPANY_NAME</th>\n",
       "      <th>COMPANY_URL</th>\n",
       "      <th>DATE_START</th>\n",
       "      <th>DATE_END</th>\n",
       "      <th>SCHOOL_NAME</th>\n",
       "      <th>SCHOOL_URL</th>\n",
       "      <th>FOLLOWER_COUNT</th>\n",
       "      <th>DATE_EXTRACT</th>\n",
       "    </tr>\n",
       "  </thead>\n",
       "  <tbody>\n",
       "    <tr>\n",
       "      <th>0</th>\n",
       "      <td>ACoAAAJHE7sB5OxuKHuzguZ9L6lfDHqw--cdnJg</td>\n",
       "      <td>jeremyravenel</td>\n",
       "      <td>Jérémy</td>\n",
       "      <td>Ravenel</td>\n",
       "      <td>Jérémy Ravenel</td>\n",
       "      <td>⚡️ Building @naas.ai, universal data &amp; AI plat...</td>\n",
       "      <td>10937</td>\n",
       "      <td>Talks about #ai, #data, #opendata, #automation...</td>\n",
       "      <td>fr</td>\n",
       "      <td>naas.ai</td>\n",
       "      <td>https://www.linkedin.com/company/70506391</td>\n",
       "      <td>2023-04</td>\n",
       "      <td>None</td>\n",
       "      <td>Stanford University Graduate School of Business</td>\n",
       "      <td>https://www.linkedin.com/school/1791</td>\n",
       "      <td>17918</td>\n",
       "      <td>2023-12-11 17:55:25</td>\n",
       "    </tr>\n",
       "  </tbody>\n",
       "</table>\n",
       "</div>"
      ],
      "text/plain": [
       "                                PROFILE_ID      PUBLIC_ID FIRSTNAME LASTNAME  \\\n",
       "0  ACoAAAJHE7sB5OxuKHuzguZ9L6lfDHqw--cdnJg  jeremyravenel    Jérémy  Ravenel   \n",
       "\n",
       "         FULLNAME                                         OCCUPATION  \\\n",
       "0  Jérémy Ravenel  ⚡️ Building @naas.ai, universal data & AI plat...   \n",
       "\n",
       "   CONNECTIONS                                           HASHTAGS LOCATION  \\\n",
       "0        10937  Talks about #ai, #data, #opendata, #automation...       fr   \n",
       "\n",
       "  COMPANY_NAME                                COMPANY_URL DATE_START DATE_END  \\\n",
       "0      naas.ai  https://www.linkedin.com/company/70506391    2023-04     None   \n",
       "\n",
       "                                       SCHOOL_NAME  \\\n",
       "0  Stanford University Graduate School of Business   \n",
       "\n",
       "                             SCHOOL_URL  FOLLOWER_COUNT         DATE_EXTRACT  \n",
       "0  https://www.linkedin.com/school/1791           17918  2023-12-11 17:55:25  "
      ]
     },
     "execution_count": 4,
     "metadata": {},
     "output_type": "execute_result"
    }
   ],
   "source": [
    "df"
   ]
  },
  {
   "cell_type": "markdown",
   "id": "a80a7b73-7c52-4830-9e1a-b79591a1b60e",
   "metadata": {
    "papermill": {},
    "tags": []
   },
   "source": [
    " "
   ]
  }
 ],
 "metadata": {
  "kernelspec": {
   "display_name": "Python 3",
   "language": "python",
   "name": "python3"
  },
  "language_info": {
   "codemirror_mode": {
    "name": "ipython",
    "version": 3
   },
   "file_extension": ".py",
   "mimetype": "text/x-python",
   "name": "python",
   "nbconvert_exporter": "python",
   "pygments_lexer": "ipython3",
   "version": "3.9.6"
  },
  "widgets": {
   "application/vnd.jupyter.widget-state+json": {
    "state": {},
    "version_major": 2,
    "version_minor": 0
   }
  }
 },
 "nbformat": 4,
 "nbformat_minor": 5
}
