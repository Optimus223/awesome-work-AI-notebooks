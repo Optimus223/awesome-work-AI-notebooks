{
 "cells": [
  {
   "cell_type": "markdown",
   "id": "fe80eec3-28fb-4a32-9568-f4075605e8bd",
   "metadata": {
    "papermill": {},
    "tags": []
   },
   "source": [
    "<img width=\"8%\" alt=\"Naas.png\" src=\"https://raw.githubusercontent.com/jupyter-naas/awesome-notebooks/master/.github/assets/logos/Naas.png\" style=\"border-radius: 15%\">"
   ]
  },
  {
   "cell_type": "markdown",
   "id": "acf31f8b-e4c0-4b15-b244-d5f9921e5a51",
   "metadata": {
    "papermill": {},
    "tags": []
   },
   "source": [
    "# LinkedIn - Get profile top card"
   ]
  },
  {
   "cell_type": "markdown",
   "id": "2af80c82-b968-4fa0-91a5-963c8cd24fc7",
   "metadata": {
    "papermill": {},
    "tags": []
   },
   "source": [
    "**Tags:** #linkedin #profile #topcard #scraping #python #api"
   ]
  },
  {
   "cell_type": "markdown",
   "id": "7236831f-9c3a-4a7e-b0b4-3a176dab0319",
   "metadata": {
    "papermill": {},
    "tags": []
   },
   "source": [
    "**Author:** [Florent Ravenel](https://www.linkedin.com/in/florent-ravenel/)"
   ]
  },
  {
   "cell_type": "markdown",
   "id": "ff8c8cd6-d8d7-4027-b81d-66a6e5b3a80e",
   "metadata": {
    "papermill": {},
    "tags": []
   },
   "source": [
    "**Last update:** 2023-12-05 (Created: 2023-12-05)"
   ]
  },
  {
   "cell_type": "markdown",
   "id": "0a76d218-1dfb-4420-97df-3d86ecaf284d",
   "metadata": {
    "papermill": {},
    "tags": []
   },
   "source": [
    "**Description:** This notebook will get information from LinkedIn profile top card such as current company, school, connections, followers, occupation, firstname, lastname. It is usefull for organizations to quickly get information from a LinkedIn profile."
   ]
  },
  {
   "cell_type": "markdown",
   "id": "68670124-ea33-4915-bdf2-05f154f87a38",
   "metadata": {
    "papermill": {},
    "tags": []
   },
   "source": [
    "**References:**\n- [LinkedIn Developer Documentation](https://docs.microsoft.com/en-us/linkedin/shared/references/v2/profile/top-card?context=linkedin/consumer/context)\n- [Python Requests Library](https://requests.readthedocs.io/en/master/)"
   ]
  },
  {
   "cell_type": "markdown",
   "id": "6c04fa1b-9911-4c6c-9b0b-a665d8a52424",
   "metadata": {
    "papermill": {},
    "tags": []
   },
   "source": [
    "## Input"
   ]
  },
  {
   "cell_type": "markdown",
   "id": "8f60a8e6-ee3e-430a-a8b0-86c33b39cf29",
   "metadata": {
    "papermill": {},
    "tags": []
   },
   "source": [
    "### Import libraries"
   ]
  },
  {
   "cell_type": "code",
   "execution_count": null,
   "id": "a7cbbb73-a150-447c-866d-a6e987f553a4",
   "metadata": {
    "papermill": {},
    "tags": []
   },
   "source": "import requests",
   "outputs": []
  },
  {
   "cell_type": "markdown",
   "id": "5ecab4b2-e61a-4e22-a917-f7043619ed5b",
   "metadata": {
    "papermill": {},
    "tags": []
   },
   "source": [
    "### Setup variables\n- `token`: Access token to access the LinkedIn API. [Link to procedure](https://docs.microsoft.com/en-us/linkedin/shared/authentication/authorization-code-flow?context=linkedin/consumer/context)\n- `profile_id`: ID of the profile to get the top card from"
   ]
  },
  {
   "cell_type": "code",
   "execution_count": null,
   "id": "e4d954ac-35f1-40aa-ac79-f4d9d205a231",
   "metadata": {
    "papermill": {},
    "tags": []
   },
   "source": "token = \"<access_token>\"\nprofile_id = \"<profile_id>\"",
   "outputs": []
  },
  {
   "cell_type": "markdown",
   "id": "48f7ee97-fd68-46cf-b602-22d965bf027d",
   "metadata": {
    "papermill": {},
    "tags": []
   },
   "source": [
    "## Model"
   ]
  },
  {
   "cell_type": "markdown",
   "id": "18665c40-517e-4292-bd17-2737673f55a8",
   "metadata": {
    "papermill": {},
    "tags": []
   },
   "source": [
    "### Get profile top card"
   ]
  },
  {
   "cell_type": "markdown",
   "id": "577306f0-4d31-4c8c-9e34-5ac199291f92",
   "metadata": {
    "papermill": {},
    "tags": []
   },
   "source": [
    "This function will get the top card of a LinkedIn profile using the LinkedIn API."
   ]
  },
  {
   "cell_type": "code",
   "execution_count": null,
   "id": "15d0a585-b110-48fa-8cb1-fb3a15d34a64",
   "metadata": {
    "papermill": {},
    "tags": []
   },
   "source": "def get_profile_top_card(token, profile_id):\n    # Set the request URL\n    url = f\"https://api.linkedin.com/v2/me?projection=(id,firstName,lastName,profilePicture(displayImage~:playableStreams))\"\n\n    # Set the authorization header\n    headers = {\"Authorization\": f\"Bearer {token}\"}\n\n    # Make the GET request\n    response = requests.get(url, headers=headers)\n\n    # Return the top card\n    return response.json()",
   "outputs": []
  },
  {
   "cell_type": "markdown",
   "id": "c95a0ec1-e38c-4c56-bd9e-1a1903e2f8af",
   "metadata": {
    "papermill": {},
    "tags": []
   },
   "source": [
    "## Output"
   ]
  },
  {
   "cell_type": "markdown",
   "id": "82ffaf94-0ec2-4de6-99d1-d9801db1d1c8",
   "metadata": {
    "papermill": {},
    "tags": []
   },
   "source": [
    "### Display result"
   ]
  },
  {
   "cell_type": "code",
   "execution_count": null,
   "id": "db2ccec3-cc56-43c9-b356-45444935d896",
   "metadata": {
    "papermill": {},
    "tags": []
   },
   "source": "top_card = get_profile_top_card(token, profile_id)\nprint(top_card)",
   "outputs": []
  },
  {
   "cell_type": "markdown",
   "id": "a80a7b73-7c52-4830-9e1a-b79591a1b60e",
   "metadata": {
    "papermill": {},
    "tags": []
   },
   "source": [
    " "
   ]
  }
 ],
 "metadata": {
  "kernelspec": {
   "display_name": "Python 3",
   "language": "python",
   "name": "python3"
  },
  "language_info": {
   "codemirror_mode": {
    "name": "ipython",
    "version": 3
   },
   "file_extension": ".py",
   "mimetype": "text/x-python",
   "name": "python",
   "nbconvert_exporter": "python",
   "pygments_lexer": "ipython3",
   "version": "3.9.6"
  },
  "widgets": {
   "application/vnd.jupyter.widget-state+json": {
    "state": {},
    "version_major": 2,
    "version_minor": 0
   }
  }
 },
 "nbformat": 4,
 "nbformat_minor": 5
}