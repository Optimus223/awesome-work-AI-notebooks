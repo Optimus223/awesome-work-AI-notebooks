{
 "cells": [
  {
   "cell_type": "markdown",
   "id": "f27894fe-ca74-438e-8671-17012d5621ca",
   "metadata": {
    "papermill": {},
    "tags": []
   },
   "source": [
    "<img width=\"10%\" alt=\"Naas\" src=\"https://landen.imgix.net/jtci2pxwjczr/assets/5ice39g4.png?w=160\"/>"
   ]
  },
  {
   "cell_type": "markdown",
   "id": "04d7eaca-6f26-4d74-beb2-085866b16be3",
   "metadata": {
    "papermill": {},
    "tags": []
   },
   "source": [
    "# LinkedIn - Get My Last 30 days posts stats"
   ]
  },
  {
   "cell_type": "markdown",
   "id": "49d58dfb-5242-43e6-b536-031d8f6e898d",
   "metadata": {
    "papermill": {},
    "tags": []
   },
   "source": [
    "**Tags:** #linkedin #api #python #data #analytics #stats"
   ]
  },
  {
   "cell_type": "markdown",
   "id": "6e950004-2cde-49fc-b791-1ccb14647cc0",
   "metadata": {
    "papermill": {},
    "tags": []
   },
   "source": [
    "**Author:** [Jeremy Ravenel](https://www.linkedin.com/in/jeremyravenel/)"
   ]
  },
  {
   "cell_type": "markdown",
   "id": "21ae5e6d-e0fe-4139-8239-a7f1b9bc5fc5",
   "metadata": {
    "papermill": {},
    "tags": []
   },
   "source": [
    "**Description:** This notebook will show how to get the stats of the last 30 days posts on LinkedIn."
   ]
  },
  {
   "cell_type": "markdown",
   "id": "1e9874be-bca3-42b9-a246-dbe229077544",
   "metadata": {
    "papermill": {},
    "tags": []
   },
   "source": [
    "**References:**\n- [LinkedIn API Documentation](https://docs.microsoft.com/en-us/linkedin/shared/references/v2/profile/shares?context=linkedin/consumer/context)\n- [LinkedIn Developer Portal](https://developer.linkedin.com/)"
   ]
  },
  {
   "cell_type": "markdown",
   "id": "8dc220bd-fb80-48b8-9c38-ab26062ac3a8",
   "metadata": {
    "papermill": {},
    "tags": []
   },
   "source": [
    "## Input"
   ]
  },
  {
   "cell_type": "markdown",
   "id": "2a410e0b-80d8-4ead-89df-92d43989130f",
   "metadata": {
    "papermill": {},
    "tags": []
   },
   "source": [
    "### Import libraries"
   ]
  },
  {
   "cell_type": "code",
   "execution_count": null,
   "id": "23b40acf-d18b-4bbd-845c-4bc9870d4e0b",
   "metadata": {
    "papermill": {},
    "tags": []
   },
   "source": "import requests\nimport json",
   "outputs": []
  },
  {
   "cell_type": "markdown",
   "id": "2f40b29d-39b7-4643-9b78-ca6f1cdf5d20",
   "metadata": {
    "papermill": {},
    "tags": []
   },
   "source": [
    "### Setup Variables\n- **access_token**: [Follow this procedure to get your access token](https://docs.microsoft.com/en-us/linkedin/shared/authentication/authorization-code-flow?context=linkedin/consumer/context)"
   ]
  },
  {
   "cell_type": "code",
   "execution_count": null,
   "id": "a4c16ed5-b79e-4746-80d9-0134aab568ba",
   "metadata": {
    "papermill": {},
    "tags": []
   },
   "source": "access_token = \"YOUR_ACCESS_TOKEN\"",
   "outputs": []
  },
  {
   "cell_type": "markdown",
   "id": "87e1304d-acef-427a-8547-0153e8cfc49e",
   "metadata": {
    "papermill": {},
    "tags": []
   },
   "source": [
    "## Model"
   ]
  },
  {
   "cell_type": "markdown",
   "id": "8c435140-e561-4ec5-814f-d7ccd0d4b969",
   "metadata": {
    "papermill": {},
    "tags": []
   },
   "source": [
    "### Get Last 30 days posts stats"
   ]
  },
  {
   "cell_type": "markdown",
   "id": "fb1606b9-5632-4fb1-a915-00b3c4c2d22d",
   "metadata": {
    "papermill": {},
    "tags": []
   },
   "source": [
    "This function will get the stats of the last 30 days posts on LinkedIn."
   ]
  },
  {
   "cell_type": "code",
   "execution_count": null,
   "id": "6134aa1e-790e-44ec-b17e-313759bfe76c",
   "metadata": {
    "papermill": {},
    "tags": []
   },
   "source": "def get_last_30_days_posts_stats(access_token):\n    # Setup headers\n    headers = {\n        \"Authorization\": \"Bearer \" + access_token,\n        \"X-Restli-Protocol-Version\": \"2.0.0\",\n    }\n    # Setup parameters\n    params = {\"q\": \"viewer\", \"time-granularity\": \"day\", \"date-preset\": \"last_30_days\"}\n    # Get stats\n    response = requests.get(\n        \"https://api.linkedin.com/v2/shares/stats\", headers=headers, params=params\n    )\n    response_json = json.loads(response.text)\n    # Return stats\n    return response_json",
   "outputs": []
  },
  {
   "cell_type": "markdown",
   "id": "85429845-0d89-42d2-b465-c38886e057fc",
   "metadata": {
    "papermill": {},
    "tags": []
   },
   "source": [
    "## Output"
   ]
  },
  {
   "cell_type": "markdown",
   "id": "57bba53b-b900-4bad-882f-a4c6026d5556",
   "metadata": {
    "papermill": {},
    "tags": []
   },
   "source": [
    "### Display result"
   ]
  },
  {
   "cell_type": "code",
   "execution_count": null,
   "id": "810b573f-020c-4235-92e2-8e329bac6b6e",
   "metadata": {
    "papermill": {},
    "tags": []
   },
   "source": "stats = get_last_30_days_posts_stats(access_token)\nprint(stats)",
   "outputs": []
  },
  {
   "cell_type": "markdown",
   "id": "bf3a01b8-853a-4939-b7a0-fb033c3fa570",
   "metadata": {
    "papermill": {},
    "tags": []
   },
   "source": [
    " "
   ]
  }
 ],
 "metadata": {
  "kernelspec": {
   "display_name": "Python 3",
   "language": "python",
   "name": "python3"
  },
  "language_info": {
   "codemirror_mode": {
    "name": "ipython",
    "version": 3
   },
   "file_extension": ".py",
   "mimetype": "text/x-python",
   "name": "python",
   "nbconvert_exporter": "python",
   "pygments_lexer": "ipython3",
   "version": "3.9.6"
  },
  "widgets": {
   "application/vnd.jupyter.widget-state+json": {
    "state": {},
    "version_major": 2,
    "version_minor": 0
   }
  }
 },
 "nbformat": 4,
 "nbformat_minor": 5
}