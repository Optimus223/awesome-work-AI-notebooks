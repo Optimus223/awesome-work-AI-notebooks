{
 "cells": [
  {
   "cell_type": "markdown",
   "id": "e2bf1abc-2ee3-4604-8a4d-18acd3ab8f31",
   "metadata": {
    "papermill": {},
    "tags": []
   },
   "source": [
    "<img width=\"8%\" alt=\"Naas.png\" src=\"https://raw.githubusercontent.com/jupyter-naas/awesome-notebooks/master/.github/assets/logos/Naas.png\" style=\"border-radius: 15%\">"
   ]
  },
  {
   "cell_type": "markdown",
   "id": "e3959cb1-9017-4d05-b08d-97e008a29ade",
   "metadata": {
    "papermill": {},
    "tags": []
   },
   "source": [
    "# LinkedIn - Get post interactions"
   ]
  },
  {
   "cell_type": "markdown",
   "id": "82ff42b8-0f7b-4b06-8063-25b660dd9da5",
   "metadata": {
    "papermill": {},
    "tags": []
   },
   "source": [
    "**Tags:** #linkedin #post #interactions #api #python #data"
   ]
  },
  {
   "cell_type": "markdown",
   "id": "c516d560-7745-41c2-9816-c222198d5146",
   "metadata": {
    "papermill": {},
    "tags": []
   },
   "source": [
    "**Author:** [Florent Ravenel](https://www.linkedin.com/in/florent-ravenel/)"
   ]
  },
  {
   "cell_type": "markdown",
   "id": "a0cfd3b8-09be-4ce4-b793-56a95e6ccbd8",
   "metadata": {
    "papermill": {},
    "tags": []
   },
   "source": [
    "**Last update:** 2023-12-12 (Created: 2023-12-12)"
   ]
  },
  {
   "cell_type": "markdown",
   "id": "f8f518fc-9338-416f-b713-519e03b545a3",
   "metadata": {
    "papermill": {},
    "tags": []
   },
   "source": [
    "**Description:** This notebook will show how to get post interactions from LinkedIn using the API. It will cover the setup of the API, the model to get the post interactions and the display of the result."
   ]
  },
  {
   "cell_type": "markdown",
   "id": "12319982-5037-45d0-83a8-a142c31194f2",
   "metadata": {
    "papermill": {},
    "tags": []
   },
   "source": [
    "**References:**\n- [LinkedIn API Documentation](https://docs.microsoft.com/en-us/linkedin/shared/references/v2/profile/shares?context=linkedin/consumer/context)\n- [LinkedIn API Explorer](https://developer.linkedin.com/docs/rest-api/api-explorer)"
   ]
  },
  {
   "cell_type": "markdown",
   "id": "1f3dbeb5-1797-42cd-9a9a-4a7738bd8a0d",
   "metadata": {
    "papermill": {},
    "tags": []
   },
   "source": [
    "## Input"
   ]
  },
  {
   "cell_type": "markdown",
   "id": "e562796c-4996-459b-9d63-8c1139b31f0c",
   "metadata": {
    "papermill": {},
    "tags": []
   },
   "source": [
    "### Import libraries"
   ]
  },
  {
   "cell_type": "code",
   "execution_count": null,
   "id": "39a4a5b7-87d7-43fa-b698-a15a1c81f65e",
   "metadata": {
    "papermill": {},
    "tags": []
   },
   "source": "import requests\nimport json",
   "outputs": []
  },
  {
   "cell_type": "markdown",
   "id": "91661d56-268c-4071-a5a7-49beee666163",
   "metadata": {
    "papermill": {},
    "tags": []
   },
   "source": [
    "### Setup variables\n- **access_token**: Access token to use the LinkedIn API. [Link to procedure](https://docs.microsoft.com/en-us/linkedin/shared/authentication/authorization-code-flow?context=linkedin/consumer/context)\n- **post_id**: ID of the post to get interactions"
   ]
  },
  {
   "cell_type": "code",
   "execution_count": null,
   "id": "221f7f77-1a81-443d-aeb7-a48fd6c752d2",
   "metadata": {
    "papermill": {},
    "tags": []
   },
   "source": "access_token = \"AQXd8_4BAAAAU7mGj5yvqVESdE9jT2djQX_VuBdGf7KW0HxI\"\npost_id = \"123456789\"",
   "outputs": []
  },
  {
   "cell_type": "markdown",
   "id": "d114f8ab-6ca0-4b0d-8807-d9dbeb6f1694",
   "metadata": {
    "papermill": {},
    "tags": []
   },
   "source": [
    "## Model"
   ]
  },
  {
   "cell_type": "markdown",
   "id": "08970031-9548-4b6d-82fd-67cd7ace97db",
   "metadata": {
    "papermill": {},
    "tags": []
   },
   "source": [
    "### Get post interactions"
   ]
  },
  {
   "cell_type": "markdown",
   "id": "f7bcd32a-289b-44d0-8093-adc86f733f3a",
   "metadata": {
    "papermill": {},
    "tags": []
   },
   "source": [
    "This function will get the interactions of a post from LinkedIn using the API."
   ]
  },
  {
   "cell_type": "code",
   "execution_count": null,
   "id": "d3ff65e0-2b6c-4fbe-a53d-cca25cc6a6c5",
   "metadata": {
    "papermill": {},
    "tags": []
   },
   "source": "def get_post_interactions(access_token, post_id):\n    # Setup the request\n    url = f\"https://api.linkedin.com/v2/socialActions/{post_id}/interactions\"\n    headers = {\"Authorization\": f\"Bearer {access_token}\"}\n    # Make the request\n    response = requests.get(url, headers=headers)\n    # Check the response\n    if response.status_code == 200:\n        # Return the response\n        return response.json()\n    else:\n        # Return an error\n        return {\"error\": response.status_code}",
   "outputs": []
  },
  {
   "cell_type": "markdown",
   "id": "d2b20d85-fe32-4db6-bba0-3550fafa4430",
   "metadata": {
    "papermill": {},
    "tags": []
   },
   "source": [
    "## Output"
   ]
  },
  {
   "cell_type": "markdown",
   "id": "e1acc059-9f15-488d-b313-0f01640eb210",
   "metadata": {
    "papermill": {},
    "tags": []
   },
   "source": [
    "### Display result"
   ]
  },
  {
   "cell_type": "code",
   "execution_count": null,
   "id": "f681bb88-6f88-4d02-845f-73ef33394fd5",
   "metadata": {
    "papermill": {},
    "tags": []
   },
   "source": "# Get post interactions\npost_interactions = get_post_interactions(access_token, post_id)\n# Display the result\nprint(json.dumps(post_interactions, indent=4))",
   "outputs": []
  }
 ],
 "metadata": {
  "kernelspec": {
   "display_name": "Python 3",
   "language": "python",
   "name": "python3"
  },
  "language_info": {
   "codemirror_mode": {
    "name": "ipython",
    "version": 3
   },
   "file_extension": ".py",
   "mimetype": "text/x-python",
   "name": "python",
   "nbconvert_exporter": "python",
   "pygments_lexer": "ipython3",
   "version": "3.9.6"
  },
  "widgets": {
   "application/vnd.jupyter.widget-state+json": {
    "state": {},
    "version_major": 2,
    "version_minor": 0
   }
  }
 },
 "nbformat": 4,
 "nbformat_minor": 5
}