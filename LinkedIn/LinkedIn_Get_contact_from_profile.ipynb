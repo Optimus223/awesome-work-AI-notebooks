{
 "cells": [
  {
   "cell_type": "markdown",
   "id": "mysterious-tractor",
   "metadata": {
    "execution": {
     "iopub.execute_input": "2021-01-25T08:00:35.294800Z",
     "iopub.status.busy": "2021-01-25T08:00:35.294557Z",
     "iopub.status.idle": "2021-01-25T08:00:35.307281Z",
     "shell.execute_reply": "2021-01-25T08:00:35.306468Z",
     "shell.execute_reply.started": "2021-01-25T08:00:35.294775Z"
    },
    "papermill": {},
    "tags": []
   },
   "source": [
    "<img width=\"10%\" alt=\"Naas\" src=\"https://landen.imgix.net/jtci2pxwjczr/assets/5ice39g4.png?w=160\"/>"
   ]
  },
  {
   "cell_type": "markdown",
   "id": "played-authority",
   "metadata": {
    "papermill": {},
    "tags": []
   },
   "source": [
    "# LinkedIn - Get contact from profile\n",
    "<a href=\"https://app.naas.ai/user-redirect/naas/downloader?url=https://raw.githubusercontent.com/jupyter-naas/awesome-notebooks/master/LinkedIn/LinkedIn_Get_contact_from_profile.ipynb\" target=\"_parent\"><img src=\"https://naasai-public.s3.eu-west-3.amazonaws.com/open_in_naas.svg\"/></a>"
   ]
  },
  {
   "cell_type": "markdown",
   "id": "4294e9ab-a721-4b1b-9611-801c16a5a8c7",
   "metadata": {
    "papermill": {},
    "tags": []
   },
   "source": [
    "**Tags:** #linkedin #profile #contact #naas_drivers #content #snippet #dataframe"
   ]
  },
  {
   "cell_type": "markdown",
   "id": "cdeb63fe-71c7-44de-b6b3-d88f964f3d78",
   "metadata": {
    "papermill": {},
    "tags": []
   },
   "source": [
    "**Author:** [Florent Ravenel](https://www.linkedin.com/in/florent-ravenel/)"
   ]
  },
  {
   "cell_type": "markdown",
   "id": "developing-samoa",
   "metadata": {
    "papermill": {},
    "tags": []
   },
   "source": [
    "## Input"
   ]
  },
  {
   "cell_type": "markdown",
   "id": "import_cell",
   "metadata": {
    "papermill": {},
    "tags": []
   },
   "source": [
    "### Import library"
   ]
  },
  {
   "cell_type": "code",
   "execution_count": 1,
   "id": "fatal-seattle",
   "metadata": {
    "execution": {
     "iopub.execute_input": "2022-04-08T10:47:21.358041Z",
     "iopub.status.busy": "2022-04-08T10:47:21.357416Z",
     "iopub.status.idle": "2022-04-08T10:47:21.366544Z",
     "shell.execute_reply": "2022-04-08T10:47:21.362633Z",
     "shell.execute_reply.started": "2022-04-08T10:47:21.357950Z"
    },
    "papermill": {},
    "tags": []
   },
   "outputs": [],
   "source": [
    "# from naas_drivers import linkedin"
   ]
  },
  {
   "cell_type": "code",
   "execution_count": 2,
   "id": "0a0f7398-a17a-4e49-a706-0a95b94b627c",
   "metadata": {
    "execution": {
     "iopub.execute_input": "2022-04-08T10:47:21.368295Z",
     "iopub.status.busy": "2022-04-08T10:47:21.368054Z",
     "iopub.status.idle": "2022-04-08T10:47:21.939091Z",
     "shell.execute_reply": "2022-04-08T10:47:21.938498Z",
     "shell.execute_reply.started": "2022-04-08T10:47:21.368265Z"
    }
   },
   "outputs": [],
   "source": [
    "from _linkedin import LinkedIn\n",
    "linkedin = LinkedIn()"
   ]
  },
  {
   "cell_type": "markdown",
   "id": "adjusted-wrapping",
   "metadata": {
    "papermill": {},
    "tags": []
   },
   "source": [
    "### Get your cookies\n",
    "<a href='https://www.notion.so/LinkedIn-driver-Get-your-cookies-d20a8e7e508e42af8a5b52e33f3dba75'>How to get your cookies ?</a>"
   ]
  },
  {
   "cell_type": "code",
   "execution_count": 3,
   "id": "fancy-table",
   "metadata": {
    "execution": {
     "iopub.execute_input": "2022-04-08T10:47:21.940433Z",
     "iopub.status.busy": "2022-04-08T10:47:21.940215Z",
     "iopub.status.idle": "2022-04-08T10:47:21.947514Z",
     "shell.execute_reply": "2022-04-08T10:47:21.943092Z",
     "shell.execute_reply.started": "2022-04-08T10:47:21.940404Z"
    },
    "papermill": {},
    "tags": []
   },
   "outputs": [],
   "source": [
    "LI_AT = 'YOUR_COOKIE_LI_AT'  # EXAMPLE AQFAzQN_PLPR4wAAAXc-FCKmgiMit5FLdY1af3-2\n",
    "JSESSIONID = 'YOUR_COOKIE_JSESSIONID'  # EXAMPLE ajax:8379907400220387585"
   ]
  },
  {
   "cell_type": "code",
   "execution_count": 4,
   "id": "7baf0172-8d0c-4fdd-8fb9-d7de88da7d1a",
   "metadata": {
    "execution": {
     "iopub.execute_input": "2022-04-08T10:47:21.948734Z",
     "iopub.status.busy": "2022-04-08T10:47:21.948493Z",
     "iopub.status.idle": "2022-04-08T10:47:23.632603Z",
     "shell.execute_reply": "2022-04-08T10:47:23.631900Z",
     "shell.execute_reply.started": "2022-04-08T10:47:21.948703Z"
    }
   },
   "outputs": [],
   "source": [
    "import naas\n",
    "# LinkedIn cookies\n",
    "LI_AT = naas.secret.get(\"LI_AT\")\n",
    "JSESSIONID = naas.secret.get(\"JSESSIONID\")"
   ]
  },
  {
   "cell_type": "markdown",
   "id": "international-craps",
   "metadata": {
    "execution": {
     "iopub.execute_input": "2021-06-17T12:44:27.398060Z",
     "iopub.status.busy": "2021-06-17T12:44:27.397583Z",
     "iopub.status.idle": "2021-06-17T12:44:27.401556Z",
     "shell.execute_reply": "2021-06-17T12:44:27.400928Z",
     "shell.execute_reply.started": "2021-06-17T12:44:27.397961Z"
    },
    "papermill": {},
    "tags": []
   },
   "source": [
    "### Enter profile URL"
   ]
  },
  {
   "cell_type": "code",
   "execution_count": 5,
   "id": "dangerous-supervision",
   "metadata": {
    "execution": {
     "iopub.execute_input": "2022-04-08T10:47:23.635576Z",
     "iopub.status.busy": "2022-04-08T10:47:23.635351Z",
     "iopub.status.idle": "2022-04-08T10:47:23.642707Z",
     "shell.execute_reply": "2022-04-08T10:47:23.641996Z",
     "shell.execute_reply.started": "2022-04-08T10:47:23.635548Z"
    },
    "papermill": {},
    "tags": []
   },
   "outputs": [],
   "source": [
    "PROFILE_URL = \"PROFILE_URL\""
   ]
  },
  {
   "cell_type": "code",
   "execution_count": 6,
   "id": "9debe69e-256b-4064-abd8-a8dff33af11d",
   "metadata": {
    "execution": {
     "iopub.execute_input": "2022-04-08T10:47:23.647115Z",
     "iopub.status.busy": "2022-04-08T10:47:23.643674Z",
     "iopub.status.idle": "2022-04-08T10:47:23.740197Z",
     "shell.execute_reply": "2022-04-08T10:47:23.739566Z",
     "shell.execute_reply.started": "2022-04-08T10:47:23.647083Z"
    }
   },
   "outputs": [],
   "source": [
    "PROFILE_URL = \"florent-ravenel\""
   ]
  },
  {
   "cell_type": "markdown",
   "id": "indian-mercury",
   "metadata": {
    "papermill": {},
    "tags": []
   },
   "source": [
    "## Model"
   ]
  },
  {
   "cell_type": "markdown",
   "id": "engaging-handle",
   "metadata": {
    "execution": {
     "iopub.execute_input": "2021-05-15T10:12:55.887028Z",
     "iopub.status.busy": "2021-05-15T10:12:55.886761Z",
     "iopub.status.idle": "2021-05-15T10:12:55.899441Z",
     "shell.execute_reply": "2021-05-15T10:12:55.898476Z",
     "shell.execute_reply.started": "2021-05-15T10:12:55.886964Z"
    },
    "papermill": {},
    "tags": []
   },
   "source": [
    "Get the information return in a dataframe.<br><br>\n",
    "**Available columns :**\n",
    "- PROFILE_ID\n",
    "- PROFILE_URL\n",
    "- PUBLIC_ID\n",
    "- EMAIL\n",
    "- CONNECTED_AT\n",
    "- BIRTHDATE\n",
    "- ADDRESS\n",
    "- TWITER\n",
    "- PHONENUMBER\n",
    "- WEBSITES\n",
    "- INTERESTS"
   ]
  },
  {
   "cell_type": "code",
   "execution_count": 7,
   "id": "virgin-grass",
   "metadata": {
    "execution": {
     "iopub.execute_input": "2022-04-08T10:47:23.741301Z",
     "iopub.status.busy": "2022-04-08T10:47:23.741082Z",
     "iopub.status.idle": "2022-04-08T10:47:27.187990Z",
     "shell.execute_reply": "2022-04-08T10:47:27.187314Z",
     "shell.execute_reply.started": "2022-04-08T10:47:23.741274Z"
    },
    "papermill": {},
    "tags": []
   },
   "outputs": [],
   "source": [
    "df = linkedin.connect(LI_AT, JSESSIONID).profile.get_contact(PROFILE_URL)"
   ]
  },
  {
   "cell_type": "markdown",
   "id": "horizontal-convergence",
   "metadata": {
    "papermill": {},
    "tags": []
   },
   "source": [
    "## Output"
   ]
  },
  {
   "cell_type": "markdown",
   "id": "opening-ancient",
   "metadata": {
    "papermill": {},
    "tags": []
   },
   "source": [
    "### Display result"
   ]
  },
  {
   "cell_type": "code",
   "execution_count": 8,
   "id": "cellular-sampling",
   "metadata": {
    "execution": {
     "iopub.execute_input": "2022-04-08T10:47:27.190274Z",
     "iopub.status.busy": "2022-04-08T10:47:27.189812Z",
     "iopub.status.idle": "2022-04-08T10:47:27.208155Z",
     "shell.execute_reply": "2022-04-08T10:47:27.207521Z",
     "shell.execute_reply.started": "2022-04-08T10:47:27.190243Z"
    },
    "papermill": {},
    "tags": []
   },
   "outputs": [
    {
     "data": {
      "text/html": [
       "<div>\n",
       "<style scoped>\n",
       "    .dataframe tbody tr th:only-of-type {\n",
       "        vertical-align: middle;\n",
       "    }\n",
       "\n",
       "    .dataframe tbody tr th {\n",
       "        vertical-align: top;\n",
       "    }\n",
       "\n",
       "    .dataframe thead th {\n",
       "        text-align: right;\n",
       "    }\n",
       "</style>\n",
       "<table border=\"1\" class=\"dataframe\">\n",
       "  <thead>\n",
       "    <tr style=\"text-align: right;\">\n",
       "      <th></th>\n",
       "      <th>PROFILE_ID</th>\n",
       "      <th>PROFILE_URL</th>\n",
       "      <th>PUBLIC_ID</th>\n",
       "      <th>EMAIL</th>\n",
       "      <th>CONNECTED_AT</th>\n",
       "      <th>BIRTHDATE</th>\n",
       "      <th>ADDRESS</th>\n",
       "      <th>TWITER</th>\n",
       "      <th>PHONENUMBER</th>\n",
       "      <th>WEBSITES</th>\n",
       "      <th>INTERESTS</th>\n",
       "    </tr>\n",
       "  </thead>\n",
       "  <tbody>\n",
       "    <tr>\n",
       "      <th>0</th>\n",
       "      <td>ACoAABCNSioBW3YZHc2lBHVG0E_TXYWitQkmwog</td>\n",
       "      <td>https://www.linkedin.com/in/florent-ravenel</td>\n",
       "      <td>florent-ravenel</td>\n",
       "      <td>florent.ravenel1@gmail.com</td>\n",
       "      <td>None</td>\n",
       "      <td>18/8/Year Unknown</td>\n",
       "      <td>None</td>\n",
       "      <td>None</td>\n",
       "      <td>None</td>\n",
       "      <td></td>\n",
       "      <td>None</td>\n",
       "    </tr>\n",
       "  </tbody>\n",
       "</table>\n",
       "</div>"
      ],
      "text/plain": [
       "                                PROFILE_ID  \\\n",
       "0  ACoAABCNSioBW3YZHc2lBHVG0E_TXYWitQkmwog   \n",
       "\n",
       "                                   PROFILE_URL        PUBLIC_ID  \\\n",
       "0  https://www.linkedin.com/in/florent-ravenel  florent-ravenel   \n",
       "\n",
       "                        EMAIL CONNECTED_AT          BIRTHDATE ADDRESS TWITER  \\\n",
       "0  florent.ravenel1@gmail.com         None  18/8/Year Unknown    None   None   \n",
       "\n",
       "  PHONENUMBER WEBSITES INTERESTS  \n",
       "0        None               None  "
      ]
     },
     "execution_count": 8,
     "metadata": {},
     "output_type": "execute_result"
    }
   ],
   "source": [
    "df"
   ]
  },
  {
   "cell_type": "code",
   "execution_count": 9,
   "id": "892fd9ce-f12c-4aee-99e1-9e1682ae5777",
   "metadata": {
    "execution": {
     "iopub.execute_input": "2022-04-08T10:47:27.209491Z",
     "iopub.status.busy": "2022-04-08T10:47:27.209260Z",
     "iopub.status.idle": "2022-04-08T10:47:27.303391Z",
     "shell.execute_reply": "2022-04-08T10:47:27.302713Z",
     "shell.execute_reply.started": "2022-04-08T10:47:27.209462Z"
    },
    "tags": []
   },
   "outputs": [
    {
     "name": "stdout",
     "output_type": "stream",
     "text": [
      "11\n",
      "- PROFILE_ID\n",
      "- PROFILE_URL\n",
      "- PUBLIC_ID\n",
      "- EMAIL\n",
      "- CONNECTED_AT\n",
      "- BIRTHDATE\n",
      "- ADDRESS\n",
      "- TWITER\n",
      "- PHONENUMBER\n",
      "- WEBSITES\n",
      "- INTERESTS\n"
     ]
    }
   ],
   "source": [
    "print(len(df.columns.tolist()))\n",
    "for x in df.columns.tolist():\n",
    "    print(\"-\", x)"
   ]
  }
 ],
 "metadata": {
  "kernelspec": {
   "display_name": "Python 3",
   "language": "python",
   "name": "python3"
  },
  "language_info": {
   "codemirror_mode": {
    "name": "ipython",
    "version": 3
   },
   "file_extension": ".py",
   "mimetype": "text/x-python",
   "name": "python",
   "nbconvert_exporter": "python",
   "pygments_lexer": "ipython3",
   "version": "3.9.6"
  },
  "naas": {
   "notebook_id": "b2ff340d-87bd-4270-9c47-c5d2fb23956e",
   "notebook_path": "LinkedIn/LinkedIn_Get_contact_from_profile.ipynb"
  },
  "papermill": {
   "default_parameters": {},
   "environment_variables": {},
   "parameters": {},
   "version": "2.3.3"
  },
  "widgets": {
   "application/vnd.jupyter.widget-state+json": {
    "state": {},
    "version_major": 2,
    "version_minor": 0
   }
  }
 },
 "nbformat": 4,
 "nbformat_minor": 5
}
