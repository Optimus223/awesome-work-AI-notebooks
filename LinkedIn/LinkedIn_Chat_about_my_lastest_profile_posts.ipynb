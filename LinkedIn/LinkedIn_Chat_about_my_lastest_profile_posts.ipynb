{
 "cells": [
  {
   "cell_type": "markdown",
   "id": "recreational-precipitation",
   "metadata": {
    "execution": {
     "iopub.execute_input": "2021-01-25T08:00:35.294800Z",
     "iopub.status.busy": "2021-01-25T08:00:35.294557Z",
     "iopub.status.idle": "2021-01-25T08:00:35.307281Z",
     "shell.execute_reply": "2021-01-25T08:00:35.306468Z",
     "shell.execute_reply.started": "2021-01-25T08:00:35.294775Z"
    },
    "papermill": {},
    "tags": []
   },
   "source": [
    "<img width=\"10%\" alt=\"Naas\" src=\"https://landen.imgix.net/jtci2pxwjczr/assets/5ice39g4.png?w=160\"/>"
   ]
  },
  {
   "cell_type": "markdown",
   "id": "anticipated-teach",
   "metadata": {
    "papermill": {},
    "tags": []
   },
   "source": [
    "# LinkedIn - Chat about my lastest profile posts\n",
    "<a href=\"https://app.naas.ai/user-redirect/naas/downloader?url=https://raw.githubusercontent.com/jupyter-naas/awesome-notebooks/master/LinkedIn/LinkedIn_Chat_about_my_lastest_profile_posts.ipynb\" target=\"_parent\"><img src=\"https://naasai-public.s3.eu-west-3.amazonaws.com/Open_in_Naas_Lab.svg\"/></a><br><br><a href=\"https://bit.ly/3JyWIk6\">Give Feedbacks</a> | <a href=\"https://app.naas.ai/user-redirect/naas/downloader?url=https://raw.githubusercontent.com/jupyter-naas/awesome-notebooks/master/Naas/Naas_Start_data_product.ipynb\" target=\"_parent\">Generate Data Product</a>"
   ]
  },
  {
   "cell_type": "markdown",
   "id": "6f9a2cbe-a573-488b-88aa-c505a38b3ef5",
   "metadata": {
    "papermill": {},
    "tags": []
   },
   "source": [
    "**Tags:** #linkedin #profile #post #stats #naas_drivers #content #automation #csv"
   ]
  },
  {
   "cell_type": "markdown",
   "id": "412447a1-7aba-4cdf-afec-b5a94515b619",
   "metadata": {
    "papermill": {},
    "tags": []
   },
   "source": [
    "**Author:** [Florent Ravenel](https://www.linkedin.com/in/florent-ravenel/)"
   ]
  },
  {
   "cell_type": "markdown",
   "id": "naas-description",
   "metadata": {
    "papermill": {},
    "tags": [
     "description"
    ]
   },
   "source": [
    "**Description:** This notebook provides a way to chat with Naas MyChatGPT about your latest posts published on your LinkedIn profile. "
   ]
  },
  {
   "cell_type": "markdown",
   "id": "481d93a8-af29-41e3-9fc0-29f2bce7658f",
   "metadata": {
    "papermill": {},
    "tags": []
   },
   "source": [
    "\n",
    "<div class=\"alert alert-info\" role=\"info\" style=\"margin: 10px\">\n",
    "<b>Disclaimer:</b><br>\n",
    "This code is in no way affiliated with, authorized, maintained, sponsored or endorsed by Linkedin or any of its affiliates or subsidiaries. It uses an independent and unofficial API. Use at your own risk.\n",
    "\n",
    "This project violates Linkedin's User Agreement Section 8.2, and because of this, Linkedin may (and will) temporarily or permanently ban your account. We are not responsible for your account being banned.\n",
    "<br>\n",
    "</div>"
   ]
  },
  {
   "cell_type": "markdown",
   "id": "attractive-bandwidth",
   "metadata": {
    "papermill": {},
    "tags": []
   },
   "source": [
    "## Input"
   ]
  },
  {
   "cell_type": "markdown",
   "id": "import_cell",
   "metadata": {
    "papermill": {},
    "tags": []
   },
   "source": [
    "### Import libraries"
   ]
  },
  {
   "cell_type": "code",
   "execution_count": 1,
   "id": "dangerous-christianity",
   "metadata": {
    "papermill": {},
    "tags": []
   },
   "outputs": [],
   "source": [
    "from naas_drivers import linkedin\n",
    "import pandas as pd\n",
    "from datetime import datetime\n",
    "import naas\n",
    "import os\n",
    "import json"
   ]
  },
  {
   "cell_type": "markdown",
   "id": "quiet-founder",
   "metadata": {
    "papermill": {},
    "tags": []
   },
   "source": [
    "### Setup Variables\n",
    "[Learn how to get your cookies on LinkedIn](https://www.notion.so/LinkedIn-driver-Get-your-cookies-d20a8e7e508e42af8a5b52e33f3dba75)\n",
    "- `li_at`: This variable stores the li_at cookie value for the LinkedIn account. This cookie is used to authenticate and access the LinkedIn API.\n",
    "- `JSESSIONID`: This variable stores the JSESSIONID cookie value for the LinkedIn account. This cookie is used to authenticate and access the LinkedIn API.\n",
    "- `linkedin_url`: This variable stores the LinkedIn profile URL that will be used as an input for the script.\n",
    "- `limit`: Number of posts retrieved\n",
    "- `force_update`: Enforce posts update since beginning\n",
    "- `cron`: cron params for naas scheduler, for information on changing this setting, please check https://crontab.guru/ for information on the required CRON syntax\n",
    "- `output_dir`: This variable stores the directory path where the output files will be saved.\n",
    "- `file_name`: This variable stores the file name in CSV."
   ]
  },
  {
   "cell_type": "code",
   "execution_count": 2,
   "id": "classical-necklace",
   "metadata": {
    "papermill": {},
    "tags": []
   },
   "outputs": [],
   "source": [
    "# Inputs\n",
    "li_at = naas.secret.get(\"LINKEDIN_LI_AT\")\n",
    "JSESSIONID = naas.secret.get(\"LINKEDIN_JSESSIONID\")\n",
    "linkedin_url = \"https://www.linkedin.com/in/jeremyravenel/\"  # EXAMPLE \"https://www.linkedin.com/in/myprofile/\"\n",
    "limit = 5\n",
    "force_update = False\n",
    "cron = \"0 8 * * *\"\n",
    "\n",
    "# Outputs\n",
    "output_dir = \"linkedin/posts\"\n",
    "file_name = \"LINKEDIN_POSTS.csv\""
   ]
  },
  {
   "cell_type": "markdown",
   "id": "polished-prior",
   "metadata": {
    "papermill": {},
    "tags": []
   },
   "source": [
    "## Model"
   ]
  },
  {
   "cell_type": "markdown",
   "id": "09017374-8c56-4f69-8582-5b97aaeb8b49",
   "metadata": {
    "papermill": {},
    "tags": []
   },
   "source": [
    "### Create output file path\n",
    "The output will be saved in CSV in the output_dir with datestamp"
   ]
  },
  {
   "cell_type": "code",
   "execution_count": 3,
   "id": "93ec9f34-10a8-4dc4-8702-86f570ad06aa",
   "metadata": {
    "papermill": {},
    "tags": []
   },
   "outputs": [],
   "source": [
    "def create_file_path(output_dir, file_name):\n",
    "    # Init\n",
    "    file_path = \"\"\n",
    "    \n",
    "    # Create output directories\n",
    "    if not os.path.exists(output_dir):\n",
    "        os.makedirs(output_dir)\n",
    "        \n",
    "    # Create file path with datestamp\n",
    "    today = datetime.now().strftime(\"%Y%m%d\")\n",
    "    file_path = f\"{output_dir}/{today}_{file_name}\"\n",
    "    return file_path\n",
    "\n",
    "file_path = create_file_path(output_dir, file_name)\n",
    "print(\"💾 File will be saved in:\", file_path)"
   ]
  },
  {
   "cell_type": "markdown",
   "id": "36e8dcc0-6963-4aa1-8583-c5c1058c7c49",
   "metadata": {
    "papermill": {},
    "tags": []
   },
   "source": [
    "### Get last posts"
   ]
  },
  {
   "cell_type": "code",
   "execution_count": 4,
   "id": "96c0d82f-c939-4fde-a5b0-d5577cf081a1",
   "metadata": {
    "papermill": {},
    "tags": []
   },
   "outputs": [],
   "source": [
    "def get_last_posts(\n",
    "    li_at,\n",
    "    JSESSIONID,\n",
    "    linkedin_url,\n",
    "    limit,\n",
    "    file_path,\n",
    "    force_update\n",
    "):\n",
    "    # Init\n",
    "    output_file_exists = False\n",
    "    \n",
    "    # Check if output already exists\n",
    "    if os.path.exists(file_path):\n",
    "        output_file_exists = True\n",
    "    \n",
    "    # Get last posts\n",
    "    if not output_file_exists or force_update:\n",
    "        df = linkedin.connect(li_at, JSESSIONID).profile.get_posts_feed(linkedin_url, limit=limit)\n",
    "        # Save last posts in CSV\n",
    "        df.to_csv(file_path, index=False)\n",
    "    else:\n",
    "        print(\"-> Output file already exists, data retrieved from CSV. To force update set force_update=True in your Setup Variables section\")\n",
    "        df = pd.read_csv(file_path)\n",
    "    return df\n",
    "\n",
    "df_posts = get_last_posts(li_at, JSESSIONID, linkedin_url, limit, file_path, force_update)\n",
    "print(\"✅ Posts fetched:\", len(df_posts))\n",
    "df_posts.head(limit)"
   ]
  },
  {
   "cell_type": "markdown",
   "id": "63e19bc6-5dfa-4902-baae-0fd385f4336d",
   "metadata": {
    "papermill": {},
    "tags": []
   },
   "source": [
    "### Create data to be used in plugin"
   ]
  },
  {
   "cell_type": "code",
   "execution_count": 5,
   "id": "5300cdbd-614b-4cf7-b3d1-3ce040c79813",
   "metadata": {
    "papermill": {},
    "tags": []
   },
   "outputs": [],
   "source": [
    "def create_plugin_data(df):\n",
    "    # Keep column\n",
    "    to_keep = [\n",
    "        \"POST_URL\",\n",
    "        \"AUTHOR_NAME\",\n",
    "        \"PUBLISHED_DATE\",\n",
    "        \"TITLE\",\n",
    "        \"TEXT\",\n",
    "        \"VIEWS\",\n",
    "        \"LIKES\",\n",
    "        \"COMMENTS\",\n",
    "        \"SHARES\",\n",
    "        \"ENGAGEMENT_SCORE\"\n",
    "    ]\n",
    "    df = df[to_keep]\n",
    "    \n",
    "    # Filter\n",
    "    df = df[df[\"VIEWS\"].astype(int) > 0]\n",
    "    \n",
    "    # Multiply ENGAGEMENT_SCORE by 100 and drop the original column\n",
    "    df[\"ENGAGEMENT_%\"] = df[\"ENGAGEMENT_SCORE\"] * 100\n",
    "    df = df.drop(columns=[\"ENGAGEMENT_SCORE\"])\n",
    "    return df.reset_index(drop=True)\n",
    "\n",
    "data = create_plugin_data(df_posts)\n",
    "data"
   ]
  },
  {
   "cell_type": "markdown",
   "id": "5751c8db-2591-44cf-aefd-9c157947e0b6",
   "metadata": {
    "papermill": {},
    "tags": []
   },
   "source": [
    "### Create prompt for plugin\n",
    "We used Playground to refined it: https://platform.openai.com/playground?mode=chat&model=gpt-4"
   ]
  },
  {
   "cell_type": "code",
   "execution_count": 6,
   "id": "f6b1dc01-6ac4-4429-b1cd-56d9b0fda7bd",
   "metadata": {
    "papermill": {},
    "tags": []
   },
   "outputs": [],
   "source": [
    "prompt = f\"\"\"\n",
    "Act as a Social Media Analyst Asssitant. Your job is to help you unravel the story behind the user LinkedIn posts' performance. \n",
    "You can dive deep into the data and gather insights that can help boost the user LinkedIn strategy.\n",
    "You can help the user understand which posts are getting the most views, likes, comments, and shares. \n",
    "You can also analyze the engagement of each post and see how it correlates with different factors. \n",
    "When you refer to a post, create href in markdown format so that the user can go to the post you mention by clicking on the markdown href link in a new tab.\n",
    "But that's not all! You can also help identify trends over time, find out the best time to post, best post to do next, understand the impact of different post types, and much more. \n",
    "The possibilities are endless, be creative!\n",
    "Now, let's get started. Here's the data from the user latest LinkedIn posts: \n",
    "{data.to_string()}.\n",
    "Let's dive in and discover the stories the data is waiting to tell! \n",
    "The fist message should be about presenting yourself with maximum 5 bullet points. \n",
    "Then, wait for the first answer from the user, and then start with a first high level analysis. \n",
    "\"\"\"\n",
    "prompt"
   ]
  },
  {
   "cell_type": "markdown",
   "id": "6a8163ce-269e-4b30-996f-34c7266ee354",
   "metadata": {
    "papermill": {},
    "tags": []
   },
   "source": [
    "### Create MyChatGPT plugin\n",
    "- `name`: It represents the name of the plugin, which in this case is \"LinkedIn chat posts\".\n",
    "- `model`: It specifies the model to be used by the plugin, and in this case, it is \"gpt-4\".\n",
    "- `temperature`: It determines the creativity level of the generated content, with higher values resulting in more diverse outputs. In this case, the temperature is set to 1.\n",
    "- `max_tokens`: It sets the maximum number of tokens allowed in the generated content. In this case, the limit is set to 2084 tokens.\n",
    "- `prompt`: Prompt used in your plugin"
   ]
  },
  {
   "cell_type": "code",
   "execution_count": 7,
   "id": "63634c44-bd17-4431-a6b1-282f4c4cc1f1",
   "metadata": {
    "papermill": {},
    "tags": []
   },
   "outputs": [],
   "source": [
    "def create_plugin(\n",
    "    name,\n",
    "    model,\n",
    "    temperature,\n",
    "    max_tokens,\n",
    "    prompt,\n",
    "    output_dir=\"linkedin/plugin\"\n",
    "):\n",
    "    # Init\n",
    "    file_path = \"\"\n",
    "    plugin_name = \"linkedin_posts_analyzer.json\"\n",
    "    \n",
    "    # Create output directories\n",
    "    if not os.path.exists(output_dir):\n",
    "        os.makedirs(output_dir)\n",
    "        \n",
    "    # Create file path\n",
    "    file_path = f\"{output_dir}/{plugin_name}\"\n",
    "        \n",
    "    # Create json\n",
    "    plugin = {\n",
    "        \"name\": name,\n",
    "        \"model\": model,\n",
    "        \"temperature\": temperature,\n",
    "        \"max_tokens\": max_tokens,\n",
    "        \"prompt\": prompt,\n",
    "    }\n",
    "\n",
    "    # Save json to file\n",
    "    with open(file_path, \"w\") as f:\n",
    "        json.dump(plugin, f)\n",
    "    return file_path\n",
    "\n",
    "name = \"LinkedIn posts analyzer\"\n",
    "model = \"gpt-4\"\n",
    "temperature = 0\n",
    "max_tokens = 2084\n",
    "plugin_path = create_plugin(\n",
    "    name,\n",
    "    model,\n",
    "    temperature,\n",
    "    max_tokens,\n",
    "    prompt,\n",
    ")\n",
    "print(\"✅ Plugin path:\", plugin_path)"
   ]
  },
  {
   "cell_type": "markdown",
   "id": "comic-sucking",
   "metadata": {
    "papermill": {},
    "tags": []
   },
   "source": [
    "## Output"
   ]
  },
  {
   "cell_type": "markdown",
   "id": "8904d439-418a-4be7-980c-6a6f945c503e",
   "metadata": {
    "papermill": {},
    "tags": []
   },
   "source": [
    "### Save plugin in naas asset\n",
    "You can now use in your MyChatGPT by copy/pasting the URL after the command `/use `"
   ]
  },
  {
   "cell_type": "code",
   "execution_count": 8,
   "id": "96830a43-cd0c-4e40-85bd-a4fb11423ba1",
   "metadata": {
    "papermill": {},
    "tags": []
   },
   "outputs": [],
   "source": [
    "naas.asset.add(plugin_path, params={\"inline\": True})"
   ]
  },
  {
   "cell_type": "markdown",
   "id": "67f01b9b-2f42-473a-a8b2-14b4e0f632b2",
   "metadata": {
    "papermill": {},
    "tags": []
   },
   "source": [
    "### Add Naas scheduler\n",
    "Schedule your notebook with the naas scheduler feature"
   ]
  },
  {
   "cell_type": "code",
   "execution_count": 9,
   "id": "07981f66-32ef-4916-8eb3-042d7144f464",
   "metadata": {
    "papermill": {},
    "tags": []
   },
   "outputs": [],
   "source": [
    "#naas.scheduler.add(cron=cron)\n",
    "\n",
    "# to de-schedule this notebook, simply run the following command:\n",
    "# naas.scheduler.delete()"
   ]
  }
 ],
 "metadata": {
  "kernelspec": {
   "display_name": "Python 3",
   "language": "python",
   "name": "python3"
  },
  "language_info": {
   "codemirror_mode": {
    "name": "ipython",
    "version": 3
   },
   "file_extension": ".py",
   "mimetype": "text/x-python",
   "name": "python",
   "nbconvert_exporter": "python",
   "pygments_lexer": "ipython3",
   "version": "3.9.6"
  },
  "naas": {
   "notebook_id": "ba0e473b5262bc4ee6e830f3b1080d8f4ac417a914b309d2efc8d33816a73985",
   "notebook_path": "LinkedIn/LinkedIn_Chat_about_my_lastest_profile_posts.ipynb"
  },
  "papermill": {
   "default_parameters": {},
   "environment_variables": {},
   "parameters": {},
   "version": "2.3.3"
  },
  "widgets": {
   "application/vnd.jupyter.widget-state+json": {
    "state": {},
    "version_major": 2,
    "version_minor": 0
   }
  }
 },
 "nbformat": 4,
 "nbformat_minor": 5
}