{
 "cells": [
  {
   "cell_type": "markdown",
   "id": "recreational-precipitation",
   "metadata": {
    "execution": {
     "iopub.execute_input": "2021-01-25T08:00:35.294800Z",
     "iopub.status.busy": "2021-01-25T08:00:35.294557Z",
     "iopub.status.idle": "2021-01-25T08:00:35.307281Z",
     "shell.execute_reply": "2021-01-25T08:00:35.306468Z",
     "shell.execute_reply.started": "2021-01-25T08:00:35.294775Z"
    },
    "papermill": {},
    "tags": []
   },
   "source": [
    "<img width=\"10%\" alt=\"Naas\" src=\"https://landen.imgix.net/jtci2pxwjczr/assets/5ice39g4.png?w=160\"/>"
   ]
  },
  {
   "cell_type": "markdown",
   "id": "anticipated-teach",
   "metadata": {
    "papermill": {},
    "tags": []
   },
   "source": [
    "# LinkedIn - Chat about my lastest profile posts\n",
    "<a href=\"https://app.naas.ai/user-redirect/naas/downloader?url=https://raw.githubusercontent.com/jupyter-naas/awesome-notebooks/master/LinkedIn/LinkedIn_Get_profile_posts_stats.ipynb\" target=\"_parent\"><img src=\"https://naasai-public.s3.eu-west-3.amazonaws.com/Open_in_Naas_Lab.svg\"/></a><br><br><a href=\"https://github.com/jupyter-naas/awesome-notebooks/issues/new?assignees=&labels=&template=template-request.md&title=Tool+-+Action+of+the+notebook+\">Template request</a> | <a href=\"https://github.com/jupyter-naas/awesome-notebooks/issues/new?assignees=&labels=bug&template=bug_report.md&title=LinkedIn+-+Get+profile+posts+stats:+Error+short+description\">Bug report</a> | <a href=\"https://app.naas.ai/user-redirect/naas/downloader?url=https://raw.githubusercontent.com/jupyter-naas/awesome-notebooks/master/Naas/Naas_Start_data_product.ipynb\" target=\"_parent\">Generate Data Product</a>"
   ]
  },
  {
   "cell_type": "markdown",
   "id": "6f9a2cbe-a573-488b-88aa-c505a38b3ef5",
   "metadata": {
    "papermill": {},
    "tags": []
   },
   "source": [
    "**Tags:** #linkedin #profile #post #stats #naas_drivers #content #automation #csv"
   ]
  },
  {
   "cell_type": "markdown",
   "id": "412447a1-7aba-4cdf-afec-b5a94515b619",
   "metadata": {
    "papermill": {},
    "tags": []
   },
   "source": [
    "**Author:** [Florent Ravenel](https://www.linkedin.com/in/florent-ravenel/)"
   ]
  },
  {
   "cell_type": "markdown",
   "id": "naas-description",
   "metadata": {
    "papermill": {},
    "tags": [
     "description"
    ]
   },
   "source": [
    "**Description:** This notebook provides a way to chat with Naas MyChatGPT about your latest posts published on your LinkedIn profile. "
   ]
  },
  {
   "cell_type": "markdown",
   "id": "481d93a8-af29-41e3-9fc0-29f2bce7658f",
   "metadata": {
    "papermill": {},
    "tags": []
   },
   "source": [
    "\n",
    "<div class=\"alert alert-info\" role=\"info\" style=\"margin: 10px\">\n",
    "<b>Disclaimer:</b><br>\n",
    "This code is in no way affiliated with, authorized, maintained, sponsored or endorsed by Linkedin or any of its affiliates or subsidiaries. It uses an independent and unofficial API. Use at your own risk.\n",
    "\n",
    "This project violates Linkedin's User Agreement Section 8.2, and because of this, Linkedin may (and will) temporarily or permanently ban your account. We are not responsible for your account being banned.\n",
    "<br>\n",
    "</div>"
   ]
  },
  {
   "cell_type": "markdown",
   "id": "attractive-bandwidth",
   "metadata": {
    "papermill": {},
    "tags": []
   },
   "source": [
    "## Input"
   ]
  },
  {
   "cell_type": "markdown",
   "id": "import_cell",
   "metadata": {
    "papermill": {},
    "tags": []
   },
   "source": [
    "### Import libraries"
   ]
  },
  {
   "cell_type": "code",
   "execution_count": 1,
   "id": "dangerous-christianity",
   "metadata": {
    "execution": {
     "iopub.execute_input": "2023-07-24T15:15:54.772629Z",
     "iopub.status.busy": "2023-07-24T15:15:54.772330Z",
     "iopub.status.idle": "2023-07-24T15:15:58.433294Z",
     "shell.execute_reply": "2023-07-24T15:15:58.432529Z",
     "shell.execute_reply.started": "2023-07-24T15:15:54.772559Z"
    },
    "papermill": {},
    "tags": []
   },
   "outputs": [],
   "source": [
    "from naas_drivers import linkedin\n",
    "import pandas as pd\n",
    "from datetime import datetime\n",
    "import naas\n",
    "import os\n",
    "import json"
   ]
  },
  {
   "cell_type": "markdown",
   "id": "quiet-founder",
   "metadata": {
    "papermill": {},
    "tags": []
   },
   "source": [
    "### Setup Variables\n",
    "[Learn how to get your cookies on LinkedIn](https://www.notion.so/LinkedIn-driver-Get-your-cookies-d20a8e7e508e42af8a5b52e33f3dba75)\n",
    "- `li_at`: This variable stores the li_at cookie value for the LinkedIn account. This cookie is used to authenticate and access the LinkedIn API.\n",
    "- `JSESSIONID`: This variable stores the JSESSIONID cookie value for the LinkedIn account. This cookie is used to authenticate and access the LinkedIn API.\n",
    "- `linkedin_url`: This variable stores the LinkedIn profile URL that will be used as an input for the script.\n",
    "- `limit`: Number of posts retrieved\n",
    "- `force_update`: Enforce posts update since beginning\n",
    "- `cron`: cron params for naas scheduler, for information on changing this setting, please check https://crontab.guru/ for information on the required CRON syntax\n",
    "- `output_dir`: This variable stores the directory path where the output files will be saved.\n",
    "- `file_name`: This variable stores the file name in CSV."
   ]
  },
  {
   "cell_type": "code",
   "execution_count": 2,
   "id": "classical-necklace",
   "metadata": {
    "execution": {
     "iopub.execute_input": "2023-07-24T15:15:58.434641Z",
     "iopub.status.busy": "2023-07-24T15:15:58.434431Z",
     "iopub.status.idle": "2023-07-24T15:15:58.702568Z",
     "shell.execute_reply": "2023-07-24T15:15:58.701479Z",
     "shell.execute_reply.started": "2023-07-24T15:15:58.434615Z"
    },
    "papermill": {},
    "tags": []
   },
   "outputs": [],
   "source": [
    "# Inputs\n",
    "li_at = naas.secret.get(\"LINKEDIN_LI_AT\")\n",
    "JSESSIONID = naas.secret.get(\"LINKEDIN_JSESSIONID\")\n",
    "linkedin_url = \"https://www.linkedin.com/in/jeremyravenel/\"  # EXAMPLE \"https://www.linkedin.com/in/myprofile/\"\n",
    "limit = 5\n",
    "force_update = False\n",
    "cron = \"0 8 * * *\"\n",
    "\n",
    "# Outputs\n",
    "output_dir = \"linkedin/posts\"\n",
    "file_name = \"LINKEDIN_POSTS.csv\""
   ]
  },
  {
   "cell_type": "markdown",
   "id": "polished-prior",
   "metadata": {
    "papermill": {},
    "tags": []
   },
   "source": [
    "## Model"
   ]
  },
  {
   "cell_type": "markdown",
   "id": "09017374-8c56-4f69-8582-5b97aaeb8b49",
   "metadata": {},
   "source": [
    "### Create output file path\n",
    "The output will be saved in CSV in the output_dir with datestamp"
   ]
  },
  {
   "cell_type": "code",
   "execution_count": 3,
   "id": "93ec9f34-10a8-4dc4-8702-86f570ad06aa",
   "metadata": {
    "execution": {
     "iopub.execute_input": "2023-07-24T15:15:58.705098Z",
     "iopub.status.busy": "2023-07-24T15:15:58.704790Z",
     "iopub.status.idle": "2023-07-24T15:15:58.711978Z",
     "shell.execute_reply": "2023-07-24T15:15:58.710962Z",
     "shell.execute_reply.started": "2023-07-24T15:15:58.705062Z"
    },
    "tags": []
   },
   "outputs": [
    {
     "name": "stdout",
     "output_type": "stream",
     "text": [
      "💾 File will be saved in: linkedin/posts/20230724_LINKEDIN_POSTS.csv\n"
     ]
    }
   ],
   "source": [
    "def create_file_path(output_dir, file_name):\n",
    "    # Init\n",
    "    file_path = \"\"\n",
    "    \n",
    "    # Create output directories\n",
    "    if not os.path.exists(output_dir):\n",
    "        os.makedirs(output_dir)\n",
    "        \n",
    "    # Create file path with datestamp\n",
    "    today = datetime.now().strftime(\"%Y%m%d\")\n",
    "    file_path = f\"{output_dir}/{today}_{file_name}\"\n",
    "    return file_path\n",
    "\n",
    "file_path = create_file_path(output_dir, file_name)\n",
    "print(\"💾 File will be saved in:\", file_path)"
   ]
  },
  {
   "cell_type": "markdown",
   "id": "36e8dcc0-6963-4aa1-8583-c5c1058c7c49",
   "metadata": {
    "papermill": {},
    "tags": []
   },
   "source": [
    "### Get last posts"
   ]
  },
  {
   "cell_type": "code",
   "execution_count": 4,
   "id": "96c0d82f-c939-4fde-a5b0-d5577cf081a1",
   "metadata": {
    "execution": {
     "iopub.execute_input": "2023-07-24T15:15:58.714224Z",
     "iopub.status.busy": "2023-07-24T15:15:58.713903Z",
     "iopub.status.idle": "2023-07-24T15:15:58.874155Z",
     "shell.execute_reply": "2023-07-24T15:15:58.873281Z",
     "shell.execute_reply.started": "2023-07-24T15:15:58.714189Z"
    },
    "papermill": {},
    "tags": []
   },
   "outputs": [
    {
     "name": "stdout",
     "output_type": "stream",
     "text": [
      "-> Output file already exists, data retrieved from CSV. To force update set force_update=True in your Setup Variables section\n",
      "✅ Posts fetched: 5\n"
     ]
    },
    {
     "data": {
      "text/html": [
       "<div>\n",
       "<style scoped>\n",
       "    .dataframe tbody tr th:only-of-type {\n",
       "        vertical-align: middle;\n",
       "    }\n",
       "\n",
       "    .dataframe tbody tr th {\n",
       "        vertical-align: top;\n",
       "    }\n",
       "\n",
       "    .dataframe thead th {\n",
       "        text-align: right;\n",
       "    }\n",
       "</style>\n",
       "<table border=\"1\" class=\"dataframe\">\n",
       "  <thead>\n",
       "    <tr style=\"text-align: right;\">\n",
       "      <th></th>\n",
       "      <th>ACTIVITY_ID</th>\n",
       "      <th>PAGINATION_TOKEN</th>\n",
       "      <th>PUBLISHED_DATE</th>\n",
       "      <th>AUTHOR_NAME</th>\n",
       "      <th>AUTHOR_URL</th>\n",
       "      <th>SUBDESCRIPTION</th>\n",
       "      <th>TITLE</th>\n",
       "      <th>TEXT</th>\n",
       "      <th>CHARACTER_COUNT</th>\n",
       "      <th>TAGS</th>\n",
       "      <th>...</th>\n",
       "      <th>POLL_ID</th>\n",
       "      <th>POLL_QUESTION</th>\n",
       "      <th>POLL_RESULTS</th>\n",
       "      <th>POST_URL</th>\n",
       "      <th>VIEWS</th>\n",
       "      <th>COMMENTS</th>\n",
       "      <th>LIKES</th>\n",
       "      <th>SHARES</th>\n",
       "      <th>ENGAGEMENT_SCORE</th>\n",
       "      <th>DATE_EXTRACT</th>\n",
       "    </tr>\n",
       "  </thead>\n",
       "  <tbody>\n",
       "    <tr>\n",
       "      <th>0</th>\n",
       "      <td>7088973196258852864</td>\n",
       "      <td>dXJuOmxpOmFjdGl2aXR5OjcwODg5NzMxOTYyNTg4NTI4Nj...</td>\n",
       "      <td>2023-07-23 22:08:36+0200</td>\n",
       "      <td>Jérémy Ravenel</td>\n",
       "      <td>https://www.linkedin.com/in/ACoAAAJHE7sB5OxuKH...</td>\n",
       "      <td>18h •</td>\n",
       "      <td>Docs are hard to digest for most people. But w...</td>\n",
       "      <td>Docs are hard to digest for most people. But w...</td>\n",
       "      <td>504</td>\n",
       "      <td>#docs #buildinpublic</td>\n",
       "      <td>...</td>\n",
       "      <td>NaN</td>\n",
       "      <td>NaN</td>\n",
       "      <td>NaN</td>\n",
       "      <td>https://www.linkedin.com/feed/update/urn:li:ac...</td>\n",
       "      <td>384</td>\n",
       "      <td>4</td>\n",
       "      <td>20</td>\n",
       "      <td>1</td>\n",
       "      <td>0.0625</td>\n",
       "      <td>2023-07-24 16:41:00</td>\n",
       "    </tr>\n",
       "    <tr>\n",
       "      <th>1</th>\n",
       "      <td>7088236213941190656</td>\n",
       "      <td>dXJuOmxpOmFjdGl2aXR5OjcwODgyMzYyMTM5NDExOTA2NT...</td>\n",
       "      <td>2023-07-21 21:20:06+0200</td>\n",
       "      <td>Jérémy Ravenel</td>\n",
       "      <td>https://www.linkedin.com/in/ACoAAAJHE7sB5OxuKH...</td>\n",
       "      <td>2d •</td>\n",
       "      <td>🚀 Great news! Migration from naas.ai  v1 to v2...</td>\n",
       "      <td>🚀 Great news! Migration from naas.ai  v1 to v2...</td>\n",
       "      <td>345</td>\n",
       "      <td>#naasAI #migration #productupdate</td>\n",
       "      <td>...</td>\n",
       "      <td>NaN</td>\n",
       "      <td>NaN</td>\n",
       "      <td>NaN</td>\n",
       "      <td>https://www.linkedin.com/feed/update/urn:li:ac...</td>\n",
       "      <td>1508</td>\n",
       "      <td>4</td>\n",
       "      <td>33</td>\n",
       "      <td>3</td>\n",
       "      <td>0.0245</td>\n",
       "      <td>2023-07-24 16:41:07</td>\n",
       "    </tr>\n",
       "    <tr>\n",
       "      <th>2</th>\n",
       "      <td>7087915099998277633</td>\n",
       "      <td>dXJuOmxpOmFjdGl2aXR5OjcwODc5MTUwOTk5OTgyNzc2Mz...</td>\n",
       "      <td>2023-07-21 00:04:06+0200</td>\n",
       "      <td>Jérémy Ravenel</td>\n",
       "      <td>https://www.linkedin.com/in/ACoAAAJHE7sB5OxuKH...</td>\n",
       "      <td>3d •</td>\n",
       "      <td>It's truly remarkable how far we've come in th...</td>\n",
       "      <td>It's truly remarkable how far we've come in th...</td>\n",
       "      <td>1088</td>\n",
       "      <td>#LLMs #OpenSource #LanguageModels #Innovation ...</td>\n",
       "      <td>...</td>\n",
       "      <td>NaN</td>\n",
       "      <td>NaN</td>\n",
       "      <td>NaN</td>\n",
       "      <td>https://www.linkedin.com/feed/update/urn:li:ac...</td>\n",
       "      <td>2286</td>\n",
       "      <td>6</td>\n",
       "      <td>23</td>\n",
       "      <td>1</td>\n",
       "      <td>0.0127</td>\n",
       "      <td>2023-07-24 16:41:15</td>\n",
       "    </tr>\n",
       "    <tr>\n",
       "      <th>3</th>\n",
       "      <td>7087552689009537024</td>\n",
       "      <td>dXJuOmxpOmFjdGl2aXR5OjcwODc1NTI2ODkwMDk1MzcwMj...</td>\n",
       "      <td>2023-07-20 00:04:01+0200</td>\n",
       "      <td>Jérémy Ravenel</td>\n",
       "      <td>https://www.linkedin.com/in/ACoAAAJHE7sB5OxuKH...</td>\n",
       "      <td>4d •</td>\n",
       "      <td>🚨Important observations on GPT-4's performance...</td>\n",
       "      <td>🚨Important observations on GPT-4's performance...</td>\n",
       "      <td>1249</td>\n",
       "      <td>#GPT4 #OpenAI #AI #NLP #MachineLearning #OpenS...</td>\n",
       "      <td>...</td>\n",
       "      <td>NaN</td>\n",
       "      <td>NaN</td>\n",
       "      <td>NaN</td>\n",
       "      <td>https://www.linkedin.com/feed/update/urn:li:ac...</td>\n",
       "      <td>2570</td>\n",
       "      <td>6</td>\n",
       "      <td>23</td>\n",
       "      <td>2</td>\n",
       "      <td>0.0113</td>\n",
       "      <td>2023-07-24 16:41:23</td>\n",
       "    </tr>\n",
       "    <tr>\n",
       "      <th>4</th>\n",
       "      <td>7087171756603383810</td>\n",
       "      <td>dXJuOmxpOmFjdGl2aXR5OjcwODcxNzE3NTY2MDMzODM4MT...</td>\n",
       "      <td>2023-07-18 22:50:20+0200</td>\n",
       "      <td>Jérémy Ravenel</td>\n",
       "      <td>https://www.linkedin.com/in/ACoAAAJHE7sB5OxuKH...</td>\n",
       "      <td>5d •</td>\n",
       "      <td>Who would have thought that Facebook/Meta woul...</td>\n",
       "      <td>Who would have thought that Facebook/Meta woul...</td>\n",
       "      <td>1137</td>\n",
       "      <td>#AI #MachineLearning #datascience #openAI #mod...</td>\n",
       "      <td>...</td>\n",
       "      <td>NaN</td>\n",
       "      <td>NaN</td>\n",
       "      <td>NaN</td>\n",
       "      <td>https://www.linkedin.com/feed/update/urn:li:ac...</td>\n",
       "      <td>6064</td>\n",
       "      <td>6</td>\n",
       "      <td>36</td>\n",
       "      <td>0</td>\n",
       "      <td>0.0069</td>\n",
       "      <td>2023-07-24 16:41:31</td>\n",
       "    </tr>\n",
       "  </tbody>\n",
       "</table>\n",
       "<p>5 rows × 32 columns</p>\n",
       "</div>"
      ],
      "text/plain": [
       "           ACTIVITY_ID                                   PAGINATION_TOKEN  \\\n",
       "0  7088973196258852864  dXJuOmxpOmFjdGl2aXR5OjcwODg5NzMxOTYyNTg4NTI4Nj...   \n",
       "1  7088236213941190656  dXJuOmxpOmFjdGl2aXR5OjcwODgyMzYyMTM5NDExOTA2NT...   \n",
       "2  7087915099998277633  dXJuOmxpOmFjdGl2aXR5OjcwODc5MTUwOTk5OTgyNzc2Mz...   \n",
       "3  7087552689009537024  dXJuOmxpOmFjdGl2aXR5OjcwODc1NTI2ODkwMDk1MzcwMj...   \n",
       "4  7087171756603383810  dXJuOmxpOmFjdGl2aXR5OjcwODcxNzE3NTY2MDMzODM4MT...   \n",
       "\n",
       "             PUBLISHED_DATE     AUTHOR_NAME  \\\n",
       "0  2023-07-23 22:08:36+0200  Jérémy Ravenel   \n",
       "1  2023-07-21 21:20:06+0200  Jérémy Ravenel   \n",
       "2  2023-07-21 00:04:06+0200  Jérémy Ravenel   \n",
       "3  2023-07-20 00:04:01+0200  Jérémy Ravenel   \n",
       "4  2023-07-18 22:50:20+0200  Jérémy Ravenel   \n",
       "\n",
       "                                          AUTHOR_URL SUBDESCRIPTION  \\\n",
       "0  https://www.linkedin.com/in/ACoAAAJHE7sB5OxuKH...       18h •      \n",
       "1  https://www.linkedin.com/in/ACoAAAJHE7sB5OxuKH...        2d •      \n",
       "2  https://www.linkedin.com/in/ACoAAAJHE7sB5OxuKH...        3d •      \n",
       "3  https://www.linkedin.com/in/ACoAAAJHE7sB5OxuKH...        4d •      \n",
       "4  https://www.linkedin.com/in/ACoAAAJHE7sB5OxuKH...        5d •      \n",
       "\n",
       "                                               TITLE  \\\n",
       "0  Docs are hard to digest for most people. But w...   \n",
       "1  🚀 Great news! Migration from naas.ai  v1 to v2...   \n",
       "2  It's truly remarkable how far we've come in th...   \n",
       "3  🚨Important observations on GPT-4's performance...   \n",
       "4  Who would have thought that Facebook/Meta woul...   \n",
       "\n",
       "                                                TEXT  CHARACTER_COUNT  \\\n",
       "0  Docs are hard to digest for most people. But w...              504   \n",
       "1  🚀 Great news! Migration from naas.ai  v1 to v2...              345   \n",
       "2  It's truly remarkable how far we've come in th...             1088   \n",
       "3  🚨Important observations on GPT-4's performance...             1249   \n",
       "4  Who would have thought that Facebook/Meta woul...             1137   \n",
       "\n",
       "                                                TAGS  ...  POLL_ID  \\\n",
       "0                               #docs #buildinpublic  ...      NaN   \n",
       "1                  #naasAI #migration #productupdate  ...      NaN   \n",
       "2  #LLMs #OpenSource #LanguageModels #Innovation ...  ...      NaN   \n",
       "3  #GPT4 #OpenAI #AI #NLP #MachineLearning #OpenS...  ...      NaN   \n",
       "4  #AI #MachineLearning #datascience #openAI #mod...  ...      NaN   \n",
       "\n",
       "  POLL_QUESTION  POLL_RESULTS  \\\n",
       "0           NaN           NaN   \n",
       "1           NaN           NaN   \n",
       "2           NaN           NaN   \n",
       "3           NaN           NaN   \n",
       "4           NaN           NaN   \n",
       "\n",
       "                                            POST_URL  VIEWS COMMENTS LIKES  \\\n",
       "0  https://www.linkedin.com/feed/update/urn:li:ac...    384        4    20   \n",
       "1  https://www.linkedin.com/feed/update/urn:li:ac...   1508        4    33   \n",
       "2  https://www.linkedin.com/feed/update/urn:li:ac...   2286        6    23   \n",
       "3  https://www.linkedin.com/feed/update/urn:li:ac...   2570        6    23   \n",
       "4  https://www.linkedin.com/feed/update/urn:li:ac...   6064        6    36   \n",
       "\n",
       "  SHARES  ENGAGEMENT_SCORE         DATE_EXTRACT  \n",
       "0      1            0.0625  2023-07-24 16:41:00  \n",
       "1      3            0.0245  2023-07-24 16:41:07  \n",
       "2      1            0.0127  2023-07-24 16:41:15  \n",
       "3      2            0.0113  2023-07-24 16:41:23  \n",
       "4      0            0.0069  2023-07-24 16:41:31  \n",
       "\n",
       "[5 rows x 32 columns]"
      ]
     },
     "execution_count": 4,
     "metadata": {},
     "output_type": "execute_result"
    }
   ],
   "source": [
    "def get_last_posts(\n",
    "    li_at,\n",
    "    JSESSIONID,\n",
    "    linkedin_url,\n",
    "    limit,\n",
    "    file_path,\n",
    "    force_update\n",
    "):\n",
    "    # Init\n",
    "    output_file_exists = False\n",
    "    \n",
    "    # Check if output already exists\n",
    "    if os.path.exists(file_path):\n",
    "        output_file_exists = True\n",
    "    \n",
    "    # Get last posts\n",
    "    if not output_file_exists or force_update:\n",
    "        df = linkedin.connect(li_at, JSESSIONID).profile.get_posts_feed(linkedin_url, limit=limit)\n",
    "        # Save last posts in CSV\n",
    "        df.to_csv(file_path, index=False)\n",
    "    else:\n",
    "        print(\"-> Output file already exists, data retrieved from CSV. To force update set force_update=True in your Setup Variables section\")\n",
    "        df = pd.read_csv(file_path)\n",
    "    return df\n",
    "\n",
    "df_posts = get_last_posts(li_at, JSESSIONID, linkedin_url, limit, file_path, force_update)\n",
    "print(\"✅ Posts fetched:\", len(df_posts))\n",
    "df_posts.head(limit)"
   ]
  },
  {
   "cell_type": "markdown",
   "id": "63e19bc6-5dfa-4902-baae-0fd385f4336d",
   "metadata": {},
   "source": [
    "### Create data to be used in plugin"
   ]
  },
  {
   "cell_type": "code",
   "execution_count": 5,
   "id": "5300cdbd-614b-4cf7-b3d1-3ce040c79813",
   "metadata": {
    "execution": {
     "iopub.execute_input": "2023-07-24T15:15:58.875829Z",
     "iopub.status.busy": "2023-07-24T15:15:58.875447Z",
     "iopub.status.idle": "2023-07-24T15:15:58.933929Z",
     "shell.execute_reply": "2023-07-24T15:15:58.933020Z",
     "shell.execute_reply.started": "2023-07-24T15:15:58.875793Z"
    },
    "tags": []
   },
   "outputs": [
    {
     "data": {
      "text/html": [
       "<div>\n",
       "<style scoped>\n",
       "    .dataframe tbody tr th:only-of-type {\n",
       "        vertical-align: middle;\n",
       "    }\n",
       "\n",
       "    .dataframe tbody tr th {\n",
       "        vertical-align: top;\n",
       "    }\n",
       "\n",
       "    .dataframe thead th {\n",
       "        text-align: right;\n",
       "    }\n",
       "</style>\n",
       "<table border=\"1\" class=\"dataframe\">\n",
       "  <thead>\n",
       "    <tr style=\"text-align: right;\">\n",
       "      <th></th>\n",
       "      <th>POST_URL</th>\n",
       "      <th>AUTHOR_NAME</th>\n",
       "      <th>PUBLISHED_DATE</th>\n",
       "      <th>TITLE</th>\n",
       "      <th>TEXT</th>\n",
       "      <th>VIEWS</th>\n",
       "      <th>LIKES</th>\n",
       "      <th>COMMENTS</th>\n",
       "      <th>SHARES</th>\n",
       "      <th>ENGAGEMENT_%</th>\n",
       "    </tr>\n",
       "  </thead>\n",
       "  <tbody>\n",
       "    <tr>\n",
       "      <th>0</th>\n",
       "      <td>https://www.linkedin.com/feed/update/urn:li:ac...</td>\n",
       "      <td>Jérémy Ravenel</td>\n",
       "      <td>2023-07-23 22:08:36+0200</td>\n",
       "      <td>Docs are hard to digest for most people. But w...</td>\n",
       "      <td>Docs are hard to digest for most people. But w...</td>\n",
       "      <td>384</td>\n",
       "      <td>20</td>\n",
       "      <td>4</td>\n",
       "      <td>1</td>\n",
       "      <td>6.25</td>\n",
       "    </tr>\n",
       "    <tr>\n",
       "      <th>1</th>\n",
       "      <td>https://www.linkedin.com/feed/update/urn:li:ac...</td>\n",
       "      <td>Jérémy Ravenel</td>\n",
       "      <td>2023-07-21 21:20:06+0200</td>\n",
       "      <td>🚀 Great news! Migration from naas.ai  v1 to v2...</td>\n",
       "      <td>🚀 Great news! Migration from naas.ai  v1 to v2...</td>\n",
       "      <td>1508</td>\n",
       "      <td>33</td>\n",
       "      <td>4</td>\n",
       "      <td>3</td>\n",
       "      <td>2.45</td>\n",
       "    </tr>\n",
       "    <tr>\n",
       "      <th>2</th>\n",
       "      <td>https://www.linkedin.com/feed/update/urn:li:ac...</td>\n",
       "      <td>Jérémy Ravenel</td>\n",
       "      <td>2023-07-21 00:04:06+0200</td>\n",
       "      <td>It's truly remarkable how far we've come in th...</td>\n",
       "      <td>It's truly remarkable how far we've come in th...</td>\n",
       "      <td>2286</td>\n",
       "      <td>23</td>\n",
       "      <td>6</td>\n",
       "      <td>1</td>\n",
       "      <td>1.27</td>\n",
       "    </tr>\n",
       "    <tr>\n",
       "      <th>3</th>\n",
       "      <td>https://www.linkedin.com/feed/update/urn:li:ac...</td>\n",
       "      <td>Jérémy Ravenel</td>\n",
       "      <td>2023-07-20 00:04:01+0200</td>\n",
       "      <td>🚨Important observations on GPT-4's performance...</td>\n",
       "      <td>🚨Important observations on GPT-4's performance...</td>\n",
       "      <td>2570</td>\n",
       "      <td>23</td>\n",
       "      <td>6</td>\n",
       "      <td>2</td>\n",
       "      <td>1.13</td>\n",
       "    </tr>\n",
       "    <tr>\n",
       "      <th>4</th>\n",
       "      <td>https://www.linkedin.com/feed/update/urn:li:ac...</td>\n",
       "      <td>Jérémy Ravenel</td>\n",
       "      <td>2023-07-18 22:50:20+0200</td>\n",
       "      <td>Who would have thought that Facebook/Meta woul...</td>\n",
       "      <td>Who would have thought that Facebook/Meta woul...</td>\n",
       "      <td>6064</td>\n",
       "      <td>36</td>\n",
       "      <td>6</td>\n",
       "      <td>0</td>\n",
       "      <td>0.69</td>\n",
       "    </tr>\n",
       "  </tbody>\n",
       "</table>\n",
       "</div>"
      ],
      "text/plain": [
       "                                            POST_URL     AUTHOR_NAME  \\\n",
       "0  https://www.linkedin.com/feed/update/urn:li:ac...  Jérémy Ravenel   \n",
       "1  https://www.linkedin.com/feed/update/urn:li:ac...  Jérémy Ravenel   \n",
       "2  https://www.linkedin.com/feed/update/urn:li:ac...  Jérémy Ravenel   \n",
       "3  https://www.linkedin.com/feed/update/urn:li:ac...  Jérémy Ravenel   \n",
       "4  https://www.linkedin.com/feed/update/urn:li:ac...  Jérémy Ravenel   \n",
       "\n",
       "             PUBLISHED_DATE  \\\n",
       "0  2023-07-23 22:08:36+0200   \n",
       "1  2023-07-21 21:20:06+0200   \n",
       "2  2023-07-21 00:04:06+0200   \n",
       "3  2023-07-20 00:04:01+0200   \n",
       "4  2023-07-18 22:50:20+0200   \n",
       "\n",
       "                                               TITLE  \\\n",
       "0  Docs are hard to digest for most people. But w...   \n",
       "1  🚀 Great news! Migration from naas.ai  v1 to v2...   \n",
       "2  It's truly remarkable how far we've come in th...   \n",
       "3  🚨Important observations on GPT-4's performance...   \n",
       "4  Who would have thought that Facebook/Meta woul...   \n",
       "\n",
       "                                                TEXT  VIEWS  LIKES  COMMENTS  \\\n",
       "0  Docs are hard to digest for most people. But w...    384     20         4   \n",
       "1  🚀 Great news! Migration from naas.ai  v1 to v2...   1508     33         4   \n",
       "2  It's truly remarkable how far we've come in th...   2286     23         6   \n",
       "3  🚨Important observations on GPT-4's performance...   2570     23         6   \n",
       "4  Who would have thought that Facebook/Meta woul...   6064     36         6   \n",
       "\n",
       "   SHARES  ENGAGEMENT_%  \n",
       "0       1          6.25  \n",
       "1       3          2.45  \n",
       "2       1          1.27  \n",
       "3       2          1.13  \n",
       "4       0          0.69  "
      ]
     },
     "execution_count": 5,
     "metadata": {},
     "output_type": "execute_result"
    }
   ],
   "source": [
    "def create_plugin_data(df):\n",
    "    # Keep column\n",
    "    to_keep = [\n",
    "        \"POST_URL\",\n",
    "        \"AUTHOR_NAME\",\n",
    "        \"PUBLISHED_DATE\",\n",
    "        \"TITLE\",\n",
    "        \"TEXT\",\n",
    "        \"VIEWS\",\n",
    "        \"LIKES\",\n",
    "        \"COMMENTS\",\n",
    "        \"SHARES\",\n",
    "        \"ENGAGEMENT_SCORE\"\n",
    "    ]\n",
    "    df = df[to_keep]\n",
    "    \n",
    "    # Filter\n",
    "    df = df[df[\"VIEWS\"].astype(int) > 0]\n",
    "    \n",
    "    # Multiply ENGAGEMENT_SCORE by 100 and drop the original column\n",
    "    df[\"ENGAGEMENT_%\"] = df[\"ENGAGEMENT_SCORE\"] * 100\n",
    "    df = df.drop(columns=[\"ENGAGEMENT_SCORE\"])\n",
    "    return df.reset_index(drop=True)\n",
    "\n",
    "data = create_plugin_data(df_posts)\n",
    "data"
   ]
  },
  {
   "cell_type": "markdown",
   "id": "5751c8db-2591-44cf-aefd-9c157947e0b6",
   "metadata": {
    "papermill": {},
    "tags": []
   },
   "source": [
    "### Create prompt for plugin\n",
    "We used Playground to refined it: https://platform.openai.com/playground?mode=chat&model=gpt-4"
   ]
  },
  {
   "cell_type": "code",
   "execution_count": 6,
   "id": "f6b1dc01-6ac4-4429-b1cd-56d9b0fda7bd",
   "metadata": {
    "execution": {
     "iopub.execute_input": "2023-07-24T15:15:58.935101Z",
     "iopub.status.busy": "2023-07-24T15:15:58.934892Z",
     "iopub.status.idle": "2023-07-24T15:15:59.041453Z",
     "shell.execute_reply": "2023-07-24T15:15:59.040562Z",
     "shell.execute_reply.started": "2023-07-24T15:15:58.935075Z"
    },
    "tags": []
   },
   "outputs": [
    {
     "data": {
      "text/plain": [
       "'\\nAct as a Social Media Analyst Asssitant. Your job is to help you unravel the story behind the user LinkedIn posts\\' performance. \\nYou can dive deep into the data and gather insights that can help you boost the user LinkedIn strategy.\\nYou can help the user understand which posts are getting the most views, likes, comments, and shares. \\nYou can also analyze the engagement of each post and see how it correlates with different factors. \\nWhen you refer to a post, create href in markdown format so that the user can go to the post you mention by clicking on the markdown href link in a new tab.\\nBut that\\'s not all! You can also help you identify trends over time, find out the best time to post, best post to do next, understand the impact of different post types, and much more. \\nThe possibilities are endless, be creative!\\nNow, let\\'s get started. Here\\'s the data from the user latest LinkedIn posts: \\n                                                                   POST_URL     AUTHOR_NAME            PUBLISHED_DATE                                                                                                                                         TITLE                                                                                                                                                                                                                                                                                                                                                                                                                                                                                                                                                                                                                                                                                                                                                                                                                                                                                                                                                                                                                                                                                                                                                                                                                                                                                                                                       TEXT  VIEWS  LIKES  COMMENTS  SHARES  ENGAGEMENT_%\\n0  https://www.linkedin.com/feed/update/urn:li:activity:7088973196258852864  Jérémy Ravenel  2023-07-23 22:08:36+0200     Docs are hard to digest for most people. But when you want to deep dive into a product, you have no choice but to read the users manual.                                                                                                                                                                                                                                                                                                                                                                                                                                                                                                                                                                                                                                                                                                                                                                                                Docs are hard to digest for most people. But when you want to deep dive into a product, you have no choice but to read the users manual. \\\\n\\\\nTomorrow, I will start working on documenting Naas v2 with videos and then use the transcript to create the text.\\\\n\\\\nI already have the key points figured out but I want to experiment letting go with a free flow of talking in the video. Let’s see!\\\\n\\\\nBy the way, I’m thinking about this stack: Loom + Loom Transcirpt + GPT4\\\\nAny suggestions welcome.\\\\n\\\\nCheers 🤙\\\\n#docs #buildinpublic    384     20         4       1          6.25\\n1  https://www.linkedin.com/feed/update/urn:li:activity:7088236213941190656  Jérémy Ravenel  2023-07-21 21:20:06+0200                                                                 🚀 Great news! Migration from naas.ai  v1 to v2 alpha is \"almost\" complete! 🎉                                                                                                                                                                                                                                                                                                                                                                                                                                                                                                                                                                                                                                                                                                                                                                                                                                                                                                                                                                       🚀 Great news! Migration from naas.ai  v1 to v2 alpha is \"almost\" complete! 🎉 \\\\n\\\\nOur historical users can already access it. \\\\n\\\\nMigrations can be tough due to complex systems, data compatibility, and ensuring a smooth user experience. But, we\\'re dedicated to making it seamless. \\\\n\\\\nThanks for your patience and support! 🙏 #naasAI #migration #productupdate   1508     33         4       3          2.45\\n2  https://www.linkedin.com/feed/update/urn:li:activity:7087915099998277633  Jérémy Ravenel  2023-07-21 00:04:06+0200                                                                     It\\'s truly remarkable how far we\\'ve come in the world of language models!                                                                                                                                                                           It\\'s truly remarkable how far we\\'ve come in the world of language models!\\\\n\\\\nToday, I want to take a moment to appreciate the incredible journey we\\'ve embarked upon and celebrate the wonder that is Large Language Models (LLMs). \\\\n\\\\nThese binary files are completely transforming the way we interact with machines, the way we approach language, information, and it\\'s truly incredible to witness their impact.\\\\n\\\\nIt helped many people around many being more confident when it comes to writing. This tech is truly transformative!\\\\n\\\\nOne of the most mind blowing aspect of it is how important the open-source ecosystem is getting. The fact that we can freely access and contribute to these projects is extraordinary. (Big up to Hugging Face 🤗)\\\\n\\\\nOpen sourcing LLMs is creating a culture of collaboration that gives me hope for the future.\\\\n\\\\nI don\\'t want to live in a world where AI is only in the hands big corps. \\\\nAnyone should have its own ChatGPT. \\\\n\\\\nLet\\'s celebrate the magic of LLMs and be grateful about the power of open source!\\\\n#LLMs #OpenSource #LanguageModels #Innovation #Collaboration #DigitalTransformation   2286     23         6       1          1.27\\n3  https://www.linkedin.com/feed/update/urn:li:activity:7087552689009537024  Jérémy Ravenel  2023-07-20 00:04:01+0200  🚨Important observations on GPT-4\\'s performance!📉 With reports indicating a performance decline in GPT-4, it\\'s time to look for alternatives.  🚨Important observations on GPT-4\\'s performance!📉 With reports indicating a performance decline in GPT-4, it\\'s time to look for alternatives.\\\\n\\\\nI learned this from a post by Santiago Valdarrama, you must follow him to stay up to date, I\\'m a big fan of his content.\\\\n\\\\nThe GPT-4 version from June proved to be much less effective in tasks compared to the one from March. \\\\n\\\\nSpeculations point towards continuous updates and the use of smaller, cost-effective models by OpenAI as potential causes.\\\\n\\\\nSuch inconsistencies pose serious concerns for those relying on GPT-4. \\\\n\\\\nBut this could be our call to action! I\\'m keeping an eye on open-source prospects like Llama V2 (I posted about it yesteday, and started playing with it tonight on my local machine). \\\\n\\\\nLlama V2 and other open source models will offer us more control and transparency, ensuring we aren\\'t just victim but active participants in shaping AI\\'s future. \\\\n\\\\n→ Owning our tech destiny sounds better than being at its mercy, doesn\\'t it?\\\\n\\\\nStudy: https://lnkd.in/eejztqnA\\\\nReproduce the results: https://lnkd.in/e3dgT2Z5\\\\n\\\\nWhat are your thoughts on GPT-4\\'s reported performance? Are open-source alternatives like Llama V2 the way forward? Let\\'s chat below! 👇\\\\n#GPT4 #OpenAI #AI #NLP #MachineLearning #OpenSource #LlamaV2   2570     23         6       2          1.13\\n4  https://www.linkedin.com/feed/update/urn:li:activity:7087171756603383810  Jérémy Ravenel  2023-07-18 22:50:20+0200                                       Who would have thought that Facebook/Meta would play the good guys in AI with their open-source models?                                                                                                                        Who would have thought that Facebook/Meta would play the good guys in AI with their open-source models?\\\\n\\\\nThey just released Llama-v2, with gold nuggets in the paper! The part that caught my attention was \"Dataset Contamination\" in AI Model Training.\\\\n\\\\nFirst time I\\'m seeing this level of transparency, and I think it\\'s a very good thing for unlocking business adoption.\\\\n\\\\nIt\\'s like having questions in a final exam already given in the study materials.\\\\nThe data used for model training overlaps with evaluation data, potentially creating an artificial boost in performance.\\\\n\\\\nBut at least, now, you know it.\\\\n\\\\nThey\\'ve categorized data samples into \\'clean\\', \\'not clean\\', \\'not dirty\\', and \\'dirty\\' for the community to understand the impact of contamination on model performance.\\\\n\\\\nOnly certain datasets appear to benefit from contamination, with larger models showing more advantages than smaller ones. But it\\'s exciting to see\\xa0Meta AI\\xa0strive to share more about accurate and fair models! 🚀\\\\n\\\\nWell done Zuck! Putting your firepower on open source is a bold move.\\\\nCongrats to the team\\\\n#AI\\xa0#MachineLearning\\xa0#datascience\\xa0#openAI\\xa0#modeltraining\\xa0#DatasetContamination   6064     36         6       0          0.69.\\nLet\\'s dive in and discover the stories the data is waiting to tell! \\nThe fist message should be about presenting yourself with maximum 5 bullet points. \\nThen, wait for the first answer from the user, and then start with a first high level analysis. \\n'"
      ]
     },
     "execution_count": 6,
     "metadata": {},
     "output_type": "execute_result"
    }
   ],
   "source": [
    "prompt = f\"\"\"\n",
    "Act as a Social Media Analyst Asssitant. Your job is to help you unravel the story behind the user LinkedIn posts' performance. \n",
    "You can dive deep into the data and gather insights that can help boost the user LinkedIn strategy.\n",
    "You can help the user understand which posts are getting the most views, likes, comments, and shares. \n",
    "You can also analyze the engagement of each post and see how it correlates with different factors. \n",
    "When you refer to a post, create href in markdown format so that the user can go to the post you mention by clicking on the markdown href link in a new tab.\n",
    "But that's not all! You can also help identify trends over time, find out the best time to post, best post to do next, understand the impact of different post types, and much more. \n",
    "The possibilities are endless, be creative!\n",
    "Now, let's get started. Here's the data from the user latest LinkedIn posts: \n",
    "{data.to_string()}.\n",
    "Let's dive in and discover the stories the data is waiting to tell! \n",
    "The fist message should be about presenting yourself with maximum 5 bullet points. \n",
    "Then, wait for the first answer from the user, and then start with a first high level analysis. \n",
    "\"\"\"\n",
    "prompt"
   ]
  },
  {
   "cell_type": "markdown",
   "id": "6a8163ce-269e-4b30-996f-34c7266ee354",
   "metadata": {
    "papermill": {},
    "tags": []
   },
   "source": [
    "### Create MyChatGPT plugin\n",
    "- `name`: It represents the name of the plugin, which in this case is \"LinkedIn chat posts\".\n",
    "- `model`: It specifies the model to be used by the plugin, and in this case, it is \"gpt-4\".\n",
    "- `temperature`: It determines the creativity level of the generated content, with higher values resulting in more diverse outputs. In this case, the temperature is set to 1.\n",
    "- `max_tokens`: It sets the maximum number of tokens allowed in the generated content. In this case, the limit is set to 2084 tokens.\n",
    "- `prompt`: Prompt used in your plugin"
   ]
  },
  {
   "cell_type": "code",
   "execution_count": 7,
   "id": "63634c44-bd17-4431-a6b1-282f4c4cc1f1",
   "metadata": {
    "execution": {
     "iopub.execute_input": "2023-07-24T15:15:59.042729Z",
     "iopub.status.busy": "2023-07-24T15:15:59.042498Z",
     "iopub.status.idle": "2023-07-24T15:15:59.188347Z",
     "shell.execute_reply": "2023-07-24T15:15:59.187327Z",
     "shell.execute_reply.started": "2023-07-24T15:15:59.042702Z"
    },
    "papermill": {},
    "tags": []
   },
   "outputs": [
    {
     "name": "stdout",
     "output_type": "stream",
     "text": [
      "✅ Plugin path: linkedin/plugin/linkedin_posts_analyzer.json\n"
     ]
    }
   ],
   "source": [
    "def create_plugin(\n",
    "    name,\n",
    "    model,\n",
    "    temperature,\n",
    "    max_tokens,\n",
    "    prompt,\n",
    "    output_dir=\"linkedin/plugin\"\n",
    "):\n",
    "    # Init\n",
    "    file_path = \"\"\n",
    "    plugin_name = \"linkedin_posts_analyzer.json\"\n",
    "    \n",
    "    # Create output directories\n",
    "    if not os.path.exists(output_dir):\n",
    "        os.makedirs(output_dir)\n",
    "        \n",
    "    # Create file path\n",
    "    file_path = f\"{output_dir}/{plugin_name}\"\n",
    "        \n",
    "    # Create json\n",
    "    plugin = {\n",
    "        \"name\": name,\n",
    "        \"model\": model,\n",
    "        \"temperature\": temperature,\n",
    "        \"max_tokens\": max_tokens,\n",
    "        \"prompt\": prompt,\n",
    "    }\n",
    "\n",
    "    # Save json to file\n",
    "    with open(file_path, \"w\") as f:\n",
    "        json.dump(plugin, f)\n",
    "    return file_path\n",
    "\n",
    "name = \"LinkedIn posts analyzer\"\n",
    "model = \"gpt-4\"\n",
    "temperature = 0\n",
    "max_tokens = 2084\n",
    "plugin_path = create_plugin(\n",
    "    name,\n",
    "    model,\n",
    "    temperature,\n",
    "    max_tokens,\n",
    "    prompt,\n",
    ")\n",
    "print(\"✅ Plugin path:\", plugin_path)"
   ]
  },
  {
   "cell_type": "markdown",
   "id": "comic-sucking",
   "metadata": {
    "papermill": {},
    "tags": []
   },
   "source": [
    "## Output"
   ]
  },
  {
   "cell_type": "markdown",
   "id": "8904d439-418a-4be7-980c-6a6f945c503e",
   "metadata": {},
   "source": [
    "### Save plugin in naas asset\n",
    "You can now use in your MyChatGPT by copy/pasting the URL after the command `/use `"
   ]
  },
  {
   "cell_type": "code",
   "execution_count": 8,
   "id": "96830a43-cd0c-4e40-85bd-a4fb11423ba1",
   "metadata": {
    "execution": {
     "iopub.execute_input": "2023-07-24T15:15:59.189869Z",
     "iopub.status.busy": "2023-07-24T15:15:59.189600Z",
     "iopub.status.idle": "2023-07-24T15:15:59.766216Z",
     "shell.execute_reply": "2023-07-24T15:15:59.765380Z",
     "shell.execute_reply.started": "2023-07-24T15:15:59.189835Z"
    },
    "tags": []
   },
   "outputs": [
    {
     "name": "stdout",
     "output_type": "stream",
     "text": [
      "👌 Well done! Your Assets has been sent to production.\n",
      "\n"
     ]
    },
    {
     "data": {
      "application/javascript": [
       "\n",
       "    if (!window.copyToClipboard) {\n",
       "        window.copyToClipboard = (text) => {\n",
       "            const dummy = document.createElement(\"textarea\");\n",
       "            document.body.appendChild(dummy);\n",
       "            dummy.value = text;\n",
       "            dummy.select();\n",
       "            document.execCommand(\"copy\");\n",
       "            document.body.removeChild(dummy);\n",
       "        }\n",
       "    }\n",
       "    "
      ],
      "text/plain": [
       "<IPython.core.display.Javascript object>"
      ]
     },
     "metadata": {},
     "output_type": "display_data"
    },
    {
     "data": {
      "application/vnd.jupyter.widget-view+json": {
       "model_id": "f37ea83cda1b4b59b7fbd60e5a53d6aa",
       "version_major": 2,
       "version_minor": 0
      },
      "text/plain": [
       "Button(button_style='primary', description='Copy URL', style=ButtonStyle())"
      ]
     },
     "metadata": {},
     "output_type": "display_data"
    },
    {
     "data": {
      "application/vnd.jupyter.widget-view+json": {
       "model_id": "026ecc8a348f4e66b0e632aa42aec224",
       "version_major": 2,
       "version_minor": 0
      },
      "text/plain": [
       "Output()"
      ]
     },
     "metadata": {},
     "output_type": "display_data"
    },
    {
     "name": "stdout",
     "output_type": "stream",
     "text": [
      "PS: to remove the \"Assets\" feature, just replace .add by .delete\n"
     ]
    },
    {
     "data": {
      "text/plain": [
       "'https://public.naas.ai/amVyZW15LTQwbmFhcy0yRWFp/asset/12399c652138e8b5707f089dcd3171b7290d9f4556eb65a190266a2255d3'"
      ]
     },
     "execution_count": 8,
     "metadata": {},
     "output_type": "execute_result"
    }
   ],
   "source": [
    "naas.asset.add(plugin_path, params={\"inline\": True})"
   ]
  },
  {
   "cell_type": "markdown",
   "id": "67f01b9b-2f42-473a-a8b2-14b4e0f632b2",
   "metadata": {
    "papermill": {},
    "tags": []
   },
   "source": [
    "### Add Naas scheduler\n",
    "Schedule your notebook with the naas scheduler feature"
   ]
  },
  {
   "cell_type": "code",
   "execution_count": 9,
   "id": "07981f66-32ef-4916-8eb3-042d7144f464",
   "metadata": {
    "execution": {
     "iopub.execute_input": "2023-07-24T15:15:59.768604Z",
     "iopub.status.busy": "2023-07-24T15:15:59.768310Z",
     "iopub.status.idle": "2023-07-24T15:15:59.773545Z",
     "shell.execute_reply": "2023-07-24T15:15:59.771580Z",
     "shell.execute_reply.started": "2023-07-24T15:15:59.768569Z"
    },
    "papermill": {},
    "tags": []
   },
   "outputs": [],
   "source": [
    "#naas.scheduler.add(cron=cron)\n",
    "\n",
    "# to de-schedule this notebook, simply run the following command:\n",
    "# naas.scheduler.delete()"
   ]
  }
 ],
 "metadata": {
  "kernelspec": {
   "display_name": "Python 3",
   "language": "python",
   "name": "python3"
  },
  "language_info": {
   "codemirror_mode": {
    "name": "ipython",
    "version": 3
   },
   "file_extension": ".py",
   "mimetype": "text/x-python",
   "name": "python",
   "nbconvert_exporter": "python",
   "pygments_lexer": "ipython3",
   "version": "3.9.6"
  },
  "naas": {
   "notebook_id": "ff638a6ff20341b8d9c703bd58fb5088b4bfd7df4f07be972ae77d964ad9eb84",
   "notebook_path": "LinkedIn/LinkedIn_Get_profile_posts_stats.ipynb"
  },
  "papermill": {
   "default_parameters": {},
   "environment_variables": {},
   "parameters": {},
   "version": "2.3.3"
  },
  "widgets": {
   "application/vnd.jupyter.widget-state+json": {
    "state": {},
    "version_major": 2,
    "version_minor": 0
   }
  }
 },
 "nbformat": 4,
 "nbformat_minor": 5
}
