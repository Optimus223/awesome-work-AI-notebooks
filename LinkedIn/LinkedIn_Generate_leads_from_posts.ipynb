{
 "cells": [
  {
   "cell_type": "code",
   "execution_count": 7,
   "id": "11d7cf76-c28d-4837-bc88-66ac819d1f63",
   "metadata": {
    "execution": {
     "iopub.execute_input": "2022-01-07T21:15:57.009861Z",
     "iopub.status.busy": "2022-01-07T21:15:57.009532Z",
     "iopub.status.idle": "2022-01-07T21:15:57.013136Z",
     "shell.execute_reply": "2022-01-07T21:15:57.012559Z",
     "shell.execute_reply.started": "2022-01-07T21:15:57.009826Z"
    },
    "tags": []
   },
   "outputs": [],
   "source": [
    "from naas_drivers import linkedin\n",
    "import pandas as pd\n",
    "import numpy as np\n",
    "import naas"
   ]
  },
  {
   "cell_type": "code",
   "execution_count": 8,
   "id": "cb06a98e-6e82-4a9e-bedc-9bc7a6cb30dc",
   "metadata": {
    "execution": {
     "iopub.execute_input": "2022-01-07T21:15:57.904781Z",
     "iopub.status.busy": "2022-01-07T21:15:57.904479Z",
     "iopub.status.idle": "2022-01-07T21:15:57.933641Z",
     "shell.execute_reply": "2022-01-07T21:15:57.927410Z",
     "shell.execute_reply.started": "2022-01-07T21:15:57.904747Z"
    },
    "tags": []
   },
   "outputs": [],
   "source": [
    "LI_AT = ''  # EXAMPLE AQFAzQN_PLPR4wAAAXc-FCKmgiMit5FLdY1af3-2\n",
    "JSESSIONID = ''  # EXAMPLE ajax:8379907400220387585"
   ]
  },
  {
   "cell_type": "code",
   "execution_count": 9,
   "id": "575e41cb-9709-4310-b238-6cae53e9a552",
   "metadata": {
    "execution": {
     "iopub.execute_input": "2022-01-07T21:15:58.484362Z",
     "iopub.status.busy": "2022-01-07T21:15:58.484041Z",
     "iopub.status.idle": "2022-01-07T21:15:58.488254Z",
     "shell.execute_reply": "2022-01-07T21:15:58.487673Z",
     "shell.execute_reply.started": "2022-01-07T21:15:58.484327Z"
    },
    "tags": []
   },
   "outputs": [],
   "source": [
    "#POST_URL = \"https://www.linkedin.com/posts/calok64_api-activity-6872773401027588096-NTys\"\n",
    "#DF_post_stats = linkedin.connect(LI_AT, JSESSIONID).post.get_stats(POST_URL)\n",
    "#DF_post_likes = linkedin.connect(LI_AT, JSESSIONID).post.get_likes(POST_URL)"
   ]
  },
  {
   "cell_type": "code",
   "execution_count": 10,
   "id": "54e9a7db-a550-47d0-91b3-7b61ce615abd",
   "metadata": {
    "execution": {
     "iopub.execute_input": "2022-01-07T21:15:58.940382Z",
     "iopub.status.busy": "2022-01-07T21:15:58.940071Z",
     "iopub.status.idle": "2022-01-07T21:15:58.950246Z",
     "shell.execute_reply": "2022-01-07T21:15:58.949643Z",
     "shell.execute_reply.started": "2022-01-07T21:15:58.940349Z"
    },
    "tags": []
   },
   "outputs": [],
   "source": [
    "PROFILE_URL = \"https://www.linkedin.com/in/calok64/\""
   ]
  },
  {
   "cell_type": "code",
   "execution_count": 11,
   "id": "944f85cd-f3ed-45b2-867c-965f8eca83eb",
   "metadata": {
    "execution": {
     "iopub.execute_input": "2022-01-07T21:15:59.400955Z",
     "iopub.status.busy": "2022-01-07T21:15:59.400721Z",
     "iopub.status.idle": "2022-01-07T21:16:09.552012Z",
     "shell.execute_reply": "2022-01-07T21:16:09.551287Z",
     "shell.execute_reply.started": "2022-01-07T21:15:59.400931Z"
    },
    "tags": []
   },
   "outputs": [],
   "source": [
    "DF_profile_posts = linkedin.connect(LI_AT, JSESSIONID).profile.get_posts_stats(PROFILE_URL)"
   ]
  },
  {
   "cell_type": "code",
   "execution_count": 12,
   "id": "92497c73-2e0e-40a2-89b6-d9a3c8538101",
   "metadata": {
    "execution": {
     "iopub.execute_input": "2022-01-07T21:17:07.246571Z",
     "iopub.status.busy": "2022-01-07T21:17:07.246266Z",
     "iopub.status.idle": "2022-01-07T21:24:42.410921Z",
     "shell.execute_reply": "2022-01-07T21:24:42.410196Z",
     "shell.execute_reply.started": "2022-01-07T21:17:07.246540Z"
    },
    "tags": []
   },
   "outputs": [],
   "source": [
    "DF_all_post_likes = pd.DataFrame()\n",
    "for index, row in DF_profile_posts.iterrows():\n",
    "    df = linkedin.connect(LI_AT, JSESSIONID).post.get_likes(row['POST_URL'])\n",
    "    if not df.empty:\n",
    "        DF_all_post_likes = DF_all_post_likes.append(df)"
   ]
  },
  {
   "cell_type": "code",
   "execution_count": 13,
   "id": "9600ac02-281f-4120-afd9-fb5e791a5c6b",
   "metadata": {
    "execution": {
     "iopub.execute_input": "2022-01-07T21:29:06.902641Z",
     "iopub.status.busy": "2022-01-07T21:29:06.902397Z",
     "iopub.status.idle": "2022-01-07T21:29:06.924665Z",
     "shell.execute_reply": "2022-01-07T21:29:06.923993Z",
     "shell.execute_reply.started": "2022-01-07T21:29:06.902617Z"
    },
    "tags": []
   },
   "outputs": [],
   "source": [
    "profile_posts = DF_all_post_likes[DF_all_post_likes['POST_URL'].str.contains('calok64')]"
   ]
  },
  {
   "cell_type": "code",
   "execution_count": 14,
   "id": "c6e32771-a895-4ffb-a756-8164800225f6",
   "metadata": {
    "execution": {
     "iopub.execute_input": "2022-01-07T21:29:08.275073Z",
     "iopub.status.busy": "2022-01-07T21:29:08.274760Z",
     "iopub.status.idle": "2022-01-07T21:29:08.298005Z",
     "shell.execute_reply": "2022-01-07T21:29:08.294217Z",
     "shell.execute_reply.started": "2022-01-07T21:29:08.275039Z"
    },
    "tags": []
   },
   "outputs": [],
   "source": [
    "grouped_profile_posts = profile_posts.groupby(['PROFILE_ID']).size().sort_values(ascending=False).reset_index(name='count')"
   ]
  },
  {
   "cell_type": "code",
   "execution_count": 137,
   "id": "f8463d36-9549-4ca9-b0d8-0b41eab0bde1",
   "metadata": {
    "execution": {
     "iopub.execute_input": "2022-01-08T00:57:59.218816Z",
     "iopub.status.busy": "2022-01-08T00:57:59.218467Z",
     "iopub.status.idle": "2022-01-08T00:57:59.224352Z",
     "shell.execute_reply": "2022-01-08T00:57:59.223695Z",
     "shell.execute_reply.started": "2022-01-08T00:57:59.218778Z"
    },
    "tags": []
   },
   "outputs": [],
   "source": [
    "conditions = [\n",
    "    (grouped_profile_posts['count'] <= 2),\n",
    "    (grouped_profile_posts['count'] > 2) & (grouped_profile_posts['count'] <= 9),\n",
    "    (grouped_profile_posts['count'] > 9) & (grouped_profile_posts['count'] <= 15),\n",
    "    (grouped_profile_posts['count'] > 15)\n",
    "    ]\n",
    "\n",
    "values = ['L4', 'L3', 'L2', 'L1']"
   ]
  },
  {
   "cell_type": "code",
   "execution_count": 138,
   "id": "0eebb5b5-1e19-4e4c-839d-3cf172ea13e7",
   "metadata": {
    "execution": {
     "iopub.execute_input": "2022-01-08T00:58:02.240653Z",
     "iopub.status.busy": "2022-01-08T00:58:02.240322Z",
     "iopub.status.idle": "2022-01-08T00:58:02.262389Z",
     "shell.execute_reply": "2022-01-08T00:58:02.261642Z",
     "shell.execute_reply.started": "2022-01-08T00:58:02.240614Z"
    },
    "tags": []
   },
   "outputs": [],
   "source": [
    "grouped_profile_posts['POTENTIAL_LEAD'] = np.select(conditions, values)"
   ]
  },
  {
   "cell_type": "code",
   "execution_count": 139,
   "id": "f944cae4-4025-4cb8-909c-5d7e35969efe",
   "metadata": {
    "execution": {
     "iopub.execute_input": "2022-01-08T00:58:04.045206Z",
     "iopub.status.busy": "2022-01-08T00:58:04.044905Z",
     "iopub.status.idle": "2022-01-08T00:58:08.744213Z",
     "shell.execute_reply": "2022-01-08T00:58:08.743460Z",
     "shell.execute_reply.started": "2022-01-08T00:58:04.045174Z"
    },
    "tags": []
   },
   "outputs": [],
   "source": [
    "#PROFILE_ID\n",
    "PROFILE_CONTACTS = linkedin.connect(LI_AT, JSESSIONID).profile.get_contact(PROFILE_URL)\n",
    "PROFILE_IDENTITY = linkedin.connect(LI_AT, JSESSIONID).profile.get_identity(PROFILE_URL)"
   ]
  },
  {
   "cell_type": "code",
   "execution_count": 140,
   "id": "7b732bca-0f79-424c-8907-1d42edea9ce1",
   "metadata": {
    "execution": {
     "iopub.execute_input": "2022-01-08T01:01:18.629186Z",
     "iopub.status.busy": "2022-01-08T01:01:18.628946Z",
     "iopub.status.idle": "2022-01-08T01:01:18.632541Z",
     "shell.execute_reply": "2022-01-08T01:01:18.631891Z",
     "shell.execute_reply.started": "2022-01-08T01:01:18.629160Z"
    },
    "tags": []
   },
   "outputs": [],
   "source": [
    "profile_Email = PROFILE_CONTACTS.at[0,'EMAIL']"
   ]
  },
  {
   "cell_type": "code",
   "execution_count": 141,
   "id": "399e9e93-676b-412f-b3fc-c0c0d65d18ea",
   "metadata": {
    "execution": {
     "iopub.execute_input": "2022-01-08T01:01:19.456415Z",
     "iopub.status.busy": "2022-01-08T01:01:19.454401Z",
     "iopub.status.idle": "2022-01-08T01:01:19.464332Z",
     "shell.execute_reply": "2022-01-08T01:01:19.461048Z",
     "shell.execute_reply.started": "2022-01-08T01:01:19.456365Z"
    },
    "tags": []
   },
   "outputs": [],
   "source": [
    "profile_Name = PROFILE_IDENTITY.at[0,'FIRSTNAME'] + \" \"+ PROFILE_IDENTITY.at[0,'LASTNAME']"
   ]
  },
  {
   "cell_type": "code",
   "execution_count": 142,
   "id": "f9067787-53d3-4046-887e-66b78e183218",
   "metadata": {
    "execution": {
     "iopub.execute_input": "2022-01-08T01:01:20.330921Z",
     "iopub.status.busy": "2022-01-08T01:01:20.330475Z",
     "iopub.status.idle": "2022-01-08T01:02:23.638097Z",
     "shell.execute_reply": "2022-01-08T01:02:23.637381Z",
     "shell.execute_reply.started": "2022-01-08T01:01:20.330889Z"
    },
    "tags": []
   },
   "outputs": [],
   "source": [
    "leads_list = [];\n",
    "\n",
    "r_count = 1\n",
    "for index, row in grouped_profile_posts.iterrows():\n",
    "    if row['POTENTIAL_LEAD'] == \"L3\" or row['POTENTIAL_LEAD'] == \"L2\" or row['POTENTIAL_LEAD'] == \"L1\":\n",
    "        profileid = row['PROFILE_ID']\n",
    "        profileurl = \"https://www.linkedin.com/in/\"+profileid+\"/\"\n",
    "        PROFILECONTACTS = linkedin.connect(LI_AT, JSESSIONID).profile.get_contact(profileurl)\n",
    "        PROFILEIDENTITY = linkedin.connect(LI_AT, JSESSIONID).profile.get_identity(profileurl)\n",
    "        profileemail = PROFILECONTACTS.at[0,'EMAIL']\n",
    "        profilename = PROFILEIDENTITY.at[0,'FIRSTNAME'] + \" \"+ PROFILEIDENTITY.at[0,'LASTNAME']\n",
    "        if profileemail != None :\n",
    "            leads_list.append([r_count,profilename,profileemail,profileurl])\n",
    "            r_count = r_count + 1\n",
    "   "
   ]
  },
  {
   "cell_type": "code",
   "execution_count": 143,
   "id": "b7addbb8-b55e-4723-b5a2-b6310078a3d6",
   "metadata": {
    "execution": {
     "iopub.execute_input": "2022-01-08T01:02:23.645573Z",
     "iopub.status.busy": "2022-01-08T01:02:23.641429Z",
     "iopub.status.idle": "2022-01-08T01:02:23.657886Z",
     "shell.execute_reply": "2022-01-08T01:02:23.656161Z",
     "shell.execute_reply.started": "2022-01-08T01:02:23.645527Z"
    },
    "tags": []
   },
   "outputs": [],
   "source": [
    "leads_list_str = \"\"\n",
    "for i in leads_list:\n",
    "    leads_list_str = leads_list_str + \"<tr><td style='width: 7.04591%;'>{}\".format(i[0]) + \"</td>\" + \"<td style='width: 25%;'>\"+i[1]+\"</td>\" +\"<td style='width: 25%;'>\"+ i[2]+\"</td>\" +\"<td style='width: 25%;'>\"+ i[3]+\"</td>\" +\"</tr>\"  "
   ]
  },
  {
   "cell_type": "code",
   "execution_count": 145,
   "id": "498288cc-2578-478c-973d-1b04e903b0ef",
   "metadata": {
    "execution": {
     "iopub.execute_input": "2022-01-08T01:06:17.295972Z",
     "iopub.status.busy": "2022-01-08T01:06:17.295663Z",
     "iopub.status.idle": "2022-01-08T01:06:17.840070Z",
     "shell.execute_reply": "2022-01-08T01:06:17.839404Z",
     "shell.execute_reply.started": "2022-01-08T01:06:17.295935Z"
    },
    "tags": []
   },
   "outputs": [
    {
     "name": "stdout",
     "output_type": "stream",
     "text": [
      "👌 💌 Email has been sent successfully !\n"
     ]
    }
   ],
   "source": [
    "email_to = \"c.alok0493@gmail.com\"\n",
    "subject = \"Linkedin Leads Alert\"\n",
    "content = f\"<p>Hi there,</p><br/><p>Here is the list of the leads you generated from your posts on LinkedIN</p><br/><table style='border-collapse: collapse; width: 100%;' border='1'><tbody><tr><td style='width: 3%;'>Sr. No</td><td style='width: 25%;'>Full Name</td><td style='width: 25%;'>Email ID</td><td style='width: 25%;'>LinkedIN Profile</td></tr>\" + leads_list_str + \"</tbody></table>\" + \"<br/><p>You can see them in your Hubspot “Contact” section.</p><br/><br/><br/>Best Regards from Naas.\"\n",
    "\n",
    "naas.notification.send(email_to=email_to, subject=subject, html=content)"
   ]
  },
  {
   "cell_type": "code",
   "execution_count": null,
   "id": "065fb8e5-01ec-49d4-868e-a0c8abd49ee4",
   "metadata": {},
   "outputs": [],
   "source": []
  }
 ],
 "metadata": {
  "kernelspec": {
   "display_name": "Python 3",
   "language": "python",
   "name": "python3"
  },
  "language_info": {
   "codemirror_mode": {
    "name": "ipython",
    "version": 3
   },
   "file_extension": ".py",
   "mimetype": "text/x-python",
   "name": "python",
   "nbconvert_exporter": "python",
   "pygments_lexer": "ipython3",
   "version": "3.8.8"
  }
 },
 "nbformat": 4,
 "nbformat_minor": 5
}
