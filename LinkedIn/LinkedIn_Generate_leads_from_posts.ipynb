{
 "cells": [
  {
   "cell_type": "markdown",
   "id": "e04c2a66-0232-4311-8445-d69e43f287e7",
   "metadata": {
    "execution": {
     "iopub.execute_input": "2022-01-07T21:15:57.009861Z",
     "iopub.status.busy": "2022-01-07T21:15:57.009532Z",
     "iopub.status.idle": "2022-01-07T21:15:57.013136Z",
     "shell.execute_reply": "2022-01-07T21:15:57.012559Z",
     "shell.execute_reply.started": "2022-01-07T21:15:57.009826Z"
    },
    "tags": []
   },
   "source": [
    "<img width=\"10%\" alt=\"Naas\" src=\"https://landen.imgix.net/jtci2pxwjczr/assets/5ice39g4.png?w=160\"/>"
   ]
  },
  {
   "cell_type": "markdown",
   "id": "47c20033-2e43-4c30-9d89-6fd47bfa98e9",
   "metadata": {},
   "source": [
    "# LinkedIn - Generate leads from post likes\n",
    "<a href=\"https://app.naas.ai/user-redirect/naas/downloader?url=https://raw.githubusercontent.com/jupyter-naas/awesome-notebooks/master/LinkedIn/LinkedIn_Get_comments_from_post.ipynb\" target=\"_parent\"><img src=\"https://img.shields.io/badge/-Open%20in%20Naas-success?labelColor=000000&logo=data:image/svg+xml;base64,PD94bWwgdmVyc2lvbj0iMS4wIiBlbmNvZGluZz0iVVRGLTgiPz4KPHN2ZyB3aWR0aD0iMTAyNHB4IiBoZWlnaHQ9IjEwMjRweCIgdmlld0JveD0iMCAwIDEwMjQgMTAyNCIgeG1sbnM9Imh0dHA6Ly93d3cudzMub3JnLzIwMDAvc3ZnIiB4bWxuczp4bGluaz0iaHR0cDovL3d3dy53My5vcmcvMTk5OS94bGluayIgdmVyc2lvbj0iMS4xIj4KIDwhLS0gR2VuZXJhdGVkIGJ5IFBpeGVsbWF0b3IgUHJvIDIuMC41IC0tPgogPGRlZnM+CiAgPHRleHQgaWQ9InN0cmluZyIgdHJhbnNmb3JtPSJtYXRyaXgoMS4wIDAuMCAwLjAgMS4wIDIyOC4wIDU0LjUpIiBmb250LWZhbWlseT0iQ29tZm9ydGFhLVJlZ3VsYXIsIENvbWZvcnRhYSIgZm9udC1zaXplPSI4MDAiIHRleHQtZGVjb3JhdGlvbj0ibm9uZSIgZmlsbD0iI2ZmZmZmZiIgeD0iMS4xOTk5OTk5OTk5OTk5ODg2IiB5PSI3MDUuMCI+bjwvdGV4dD4KIDwvZGVmcz4KIDx1c2UgaWQ9Im4iIHhsaW5rOmhyZWY9IiNzdHJpbmciLz4KPC9zdmc+Cg==\"/></a>"
   ]
  },
  {
   "cell_type": "markdown",
   "id": "6ec59f5e-ac9e-4ab0-a0e9-51b01b38dcaa",
   "metadata": {},
   "source": [
    "**Tags:** #linkedin #post #comments #naas_drivers #automation"
   ]
  },
  {
   "cell_type": "markdown",
   "id": "c40e4f30-0b07-4a3b-b39b-7cb460053f74",
   "metadata": {},
   "source": [
    "**Author:** [Alok Chilka](https://www.linkedin.com/in/calok64/)"
   ]
  },
  {
   "cell_type": "markdown",
   "id": "618b546f-943a-498c-9eb6-637a1e992f21",
   "metadata": {},
   "source": [
    "## Input"
   ]
  },
  {
   "cell_type": "markdown",
   "id": "91fc2ccf-9a27-40f4-bb62-df542a468bc6",
   "metadata": {
    "execution": {
     "iopub.execute_input": "2022-01-08T05:48:50.458541Z",
     "iopub.status.busy": "2022-01-08T05:48:50.458187Z",
     "iopub.status.idle": "2022-01-08T05:48:50.465249Z",
     "shell.execute_reply": "2022-01-08T05:48:50.464699Z",
     "shell.execute_reply.started": "2022-01-08T05:48:50.458451Z"
    }
   },
   "source": [
    "### Import libraries"
   ]
  },
  {
   "cell_type": "code",
   "execution_count": null,
   "id": "4f6774a6-ff96-4c39-87a7-69a1fd3777cc",
   "metadata": {
    "tags": []
   },
   "outputs": [],
   "source": [
    "from naas_drivers import linkedin, hubspot\n",
    "import pandas as pd\n",
    "import numpy as np\n",
    "import naas\n",
    "from datetime import datetime, timedelta\n",
    "import requests\n",
    "import json"
   ]
  },
  {
   "cell_type": "markdown",
   "id": "958d3406-bf4c-48b9-b56b-ad4dad7caaae",
   "metadata": {},
   "source": [
    "### Setup your LinkedIn\n",
    "- Get your cookies : <a href='https://www.notion.so/LinkedIn-driver-Get-your-cookies-d20a8e7e508e42af8a5b52e33f3dba75'>How to get your cookies ?</a>"
   ]
  },
  {
   "cell_type": "code",
   "execution_count": null,
   "id": "cb06a98e-6e82-4a9e-bedc-9bc7a6cb30dc",
   "metadata": {
    "tags": []
   },
   "outputs": [],
   "source": [
    "# Lindekin cookies\n",
    "LI_AT = \"AQEDARCNSioFAHAEAAABfvQsStIAAAF_bznLB1YAQ-SrszGZkuO0fJmeOovASSJfeh5BPTa8J6in6IEnGjeK8IkLVQ-0WdAA41XKFYEb6db3UIGfCPkr9WpirSF4jwB0qKMYT0mHvDIpgwNcZJV20lob\"\n",
    "JSESSIONID = \"ajax:2913276942853423494\"\n",
    "\n",
    "# Enter your profile URL\n",
    "PROFILE_URL = \"https://www.linkedin.com/in/florent-ravenel/\""
   ]
  },
  {
   "cell_type": "markdown",
   "id": "9c36c67b-2738-49c1-90f0-e742c7e1b40b",
   "metadata": {},
   "source": [
    "### Setup your HubSpot\n",
    "👉 Access your [HubSpot API key](https://knowledge.hubspot.com/integrations/how-do-i-get-my-hubspot-api-key)<br>\n",
    "👉 Get your HubSpot owner ID<br>\n",
    "👉 Get your HubSpot company ID from URL"
   ]
  },
  {
   "cell_type": "code",
   "execution_count": null,
   "id": "54e9a7db-a550-47d0-91b3-7b61ce615abd",
   "metadata": {
    "tags": []
   },
   "outputs": [],
   "source": [
    "# HubSpot API key\n",
    "HS_API_TOKEN = \"YOUR_HUBSPOT_API_KEY\"\n",
    "\n",
    "# Your company located after \"reports-dashboard/\" when you are connected in HubSpot https://app.hubspot.com/reports-dashboard/2474088/view/244930\n",
    "HS_COMPANY_ID = \"2474088\"\n",
    "\n",
    "# Contact owner => contact id to whom task needs to be assigned\n",
    "HS_OWNER_ID = \"41252017\"\n",
    "\n",
    "# Time delay to set due date for tasks in days\n",
    "time_delay = 10"
   ]
  },
  {
   "cell_type": "markdown",
   "id": "e83e32f8-9c09-440d-ae87-4f174dad44ee",
   "metadata": {},
   "source": [
    "### Setup your email to receive notifications"
   ]
  },
  {
   "cell_type": "code",
   "execution_count": null,
   "id": "f74f2901-5b69-4cb0-a111-065d6aec83a7",
   "metadata": {},
   "outputs": [],
   "source": [
    "SEND_EMAIL_TO = \"\""
   ]
  },
  {
   "cell_type": "markdown",
   "id": "43fff853-fdf1-4949-a781-43b31e65cce9",
   "metadata": {},
   "source": [
    "## Model"
   ]
  },
  {
   "cell_type": "markdown",
   "id": "662dcde3-5093-4635-8971-677853e52f3e",
   "metadata": {},
   "source": [
    "### Get posts from LinkedIn feed"
   ]
  },
  {
   "cell_type": "code",
   "execution_count": null,
   "id": "944f85cd-f3ed-45b2-867c-965f8eca83eb",
   "metadata": {
    "tags": []
   },
   "outputs": [],
   "source": [
    "df_posts = linkedin.connect(LI_AT, JSESSIONID).profile.get_posts_feed(PROFILE_URL, count=100, limit=-1)\n",
    "df_posts"
   ]
  },
  {
   "cell_type": "markdown",
   "id": "220f2008-106d-439a-a4bc-caa3200f3adc",
   "metadata": {},
   "source": [
    "### Get likes from LinkedIn posts"
   ]
  },
  {
   "cell_type": "code",
   "execution_count": null,
   "id": "96053b77-ad3f-4eb0-8234-d06d52425678",
   "metadata": {
    "tags": []
   },
   "outputs": [],
   "source": [
    "def get_likes(df):\n",
    "    df_likes = pd.DataFrame()\n",
    "    for index, row in df.iterrows():\n",
    "        post_url = row['POST_URL']\n",
    "        tmp_df = linkedin.connect(LI_AT, JSESSIONID).post.get_likes(post_url)\n",
    "        if not tmp_df.empty:\n",
    "            df_likes = pd.concat([df_likes, tmp_df])\n",
    "    return df_likes\n",
    "        \n",
    "df_likes = get_likes(df_posts)\n",
    "df_likes"
   ]
  },
  {
   "cell_type": "markdown",
   "id": "5ef4e8a6-6622-4fbc-a10a-d7944a05c988",
   "metadata": {
    "execution": {
     "iopub.execute_input": "2022-02-17T15:13:44.175165Z",
     "iopub.status.busy": "2022-02-17T15:13:44.174981Z",
     "iopub.status.idle": "2022-02-17T15:13:44.180684Z",
     "shell.execute_reply": "2022-02-17T15:13:44.180104Z",
     "shell.execute_reply.started": "2022-02-17T15:13:44.175144Z"
    },
    "tags": []
   },
   "source": [
    "### Get number of likes by profile"
   ]
  },
  {
   "cell_type": "code",
   "execution_count": null,
   "id": "fcdc84a2-2f23-4faf-ad83-f32a41b1a710",
   "metadata": {
    "tags": []
   },
   "outputs": [],
   "source": [
    "def count_likes(df):\n",
    "    to_group = [\"PROFILE_URN\",\n",
    "                \"PROFILE_ID\",\n",
    "                \"FIRSTNAME\",\n",
    "                \"LASTNAME\"]\n",
    "    df = df.groupby(to_group, as_index=False).agg({\"POST_URL\": \"count\"})\n",
    "    df = df.sort_values(by=\"POST_URL\", ascending=False)\n",
    "    return df \n",
    "\n",
    "df_counts = count_likes(df_likes)\n",
    "df_counts"
   ]
  },
  {
   "cell_type": "markdown",
   "id": "66e25232-59ba-4460-90d9-f2fd0faa359c",
   "metadata": {},
   "source": [
    "### Apply classification to get potential lead"
   ]
  },
  {
   "cell_type": "markdown",
   "id": "3f689903-8902-4f72-ba76-0df01aaac455",
   "metadata": {},
   "source": [
    "- Grouping the like count and classify the leads as per levels i.e. <b>L1, L2, L3, L4.</b> ( from highest to lowest counts of likes) with column name <b>\"POTENTIAL LEAD\"</b>\n",
    "- Group posts as per the the column <b>\"POTENTIAL LEAD\"</b>"
   ]
  },
  {
   "cell_type": "code",
   "execution_count": null,
   "id": "d934974d-d025-402e-a0ec-ded9192f52e8",
   "metadata": {
    "tags": []
   },
   "outputs": [],
   "source": [
    "max_likes = df_counts.POST_URL.max()\n",
    "cluster_1 = round(max_likes * 0.1, 0)\n",
    "cluster_2 = round(max_likes * 0.5, 0)\n",
    "cluster_3 = round(max_likes * 0.8, 0)"
   ]
  },
  {
   "cell_type": "code",
   "execution_count": null,
   "id": "f8463d36-9549-4ca9-b0d8-0b41eab0bde1",
   "metadata": {
    "tags": []
   },
   "outputs": [],
   "source": [
    "conditions = [\n",
    "    (df_counts['POST_URL'] <= cluster_1),\n",
    "    (df_counts['POST_URL'] > cluster_1) & (df_counts['POST_URL'] <= cluster_2),\n",
    "    (df_counts['POST_URL'] > cluster_2) & (df_counts['POST_URL'] <= cluster_3),\n",
    "    (df_counts['POST_URL'] > cluster_3)\n",
    "    ]\n",
    "\n",
    "values = ['L4', 'L3', 'L2', 'L1']"
   ]
  },
  {
   "cell_type": "code",
   "execution_count": null,
   "id": "0eebb5b5-1e19-4e4c-839d-3cf172ea13e7",
   "metadata": {
    "tags": []
   },
   "outputs": [],
   "source": [
    "df_counts['POTENTIAL_LEAD'] = np.select(conditions, values)\n",
    "df_counts"
   ]
  },
  {
   "cell_type": "markdown",
   "id": "68d17abb-d20f-4f01-8a0a-cb2a0a25b9b7",
   "metadata": {},
   "source": [
    "### Get profile details based on the POST_URL above\n",
    "- filter rows from \"grouped_profile_posts\" dataframe based on L1, L2, & L3 levels and add data to leads_list\n",
    "- Extract EMAIL, FIRSTNAME, LASTNAME, PHONE_NUMBER, OCCUPATION from profile URL"
   ]
  },
  {
   "cell_type": "code",
   "execution_count": null,
   "id": "f9067787-53d3-4046-887e-66b78e183218",
   "metadata": {
    "tags": []
   },
   "outputs": [],
   "source": [
    "leads_list = [];\n",
    "\n",
    "r_count = 1\n",
    "for index, row in df_counts.iterrows():\n",
    "    if row['POTENTIAL_LEAD'] == \"L1\":\n",
    "        profileid = row['PROFILE_URN']\n",
    "        profileurl = \"https://www.linkedin.com/in/\"+profileid+\"/\"\n",
    "       \n",
    "        PROFILECONTACTS = linkedin.connect(LI_AT, JSESSIONID).profile.get_contact(profileurl)\n",
    "        PROFILEIDENTITY = linkedin.connect(LI_AT, JSESSIONID).profile.get_identity(profileurl)\n",
    "        \n",
    "        profileemail = PROFILECONTACTS.at[0,'EMAIL']\n",
    "        profilephoneno = PROFILECONTACTS.at[0,'PHONENUMBER']\n",
    "        profilename = PROFILEIDENTITY.at[0,'FIRSTNAME'] + \" \"+ PROFILEIDENTITY.at[0,'LASTNAME']\n",
    "        profilefirstname = PROFILEIDENTITY.at[0,'FIRSTNAME']\n",
    "        profilelastname = PROFILEIDENTITY.at[0,'LASTNAME']\n",
    "        profileoccupation = PROFILEIDENTITY.at[0,'OCCUPATION']\n",
    "        if profileemail != None :\n",
    "            leads_list.append([r_count, profilename, profilefirstname, profilelastname, profileemail, profilephoneno, profileoccupation, profileurl])\n",
    "            r_count = r_count + 1"
   ]
  },
  {
   "cell_type": "code",
   "execution_count": null,
   "id": "b616f578-0e5e-4fa4-bb93-84cb583c36aa",
   "metadata": {
    "tags": []
   },
   "outputs": [],
   "source": [
    "pd.DataFrame(leads_list)"
   ]
  },
  {
   "cell_type": "markdown",
   "id": "9e10604f-fb16-482c-bd52-dba4ef8a6543",
   "metadata": {},
   "source": [
    "### Create hubspot contacts from linkedin likes"
   ]
  },
  {
   "cell_type": "markdown",
   "id": "a6062eab-7760-4e84-8427-ea957f90337a",
   "metadata": {},
   "source": [
    "<h4>HS_CONTACT_ID_LIST</h4> - The list to store the contact id recently created and the linkedin profile URL of associated contact"
   ]
  },
  {
   "cell_type": "code",
   "execution_count": null,
   "id": "196132dc-5c94-4e54-91be-2f7bc1a2ecda",
   "metadata": {
    "tags": []
   },
   "outputs": [],
   "source": [
    "#to store the resulting output of create contact method\n",
    "huboutput = \"\"\n",
    "\n",
    "HS_CONTACT_ID_LIST = []\n",
    "for i in leads_list:\n",
    "        profilename = i[1]\n",
    "        profilefirstname = i[2]\n",
    "        profilelastname = i[3]\n",
    "        profileemail = i[4]\n",
    "        profilephoneno = i[5]\n",
    "        profileoccupation = i[6]\n",
    "        profileurl = i[7]\n",
    "        # With send method\n",
    "        data = {\"properties\": \n",
    "                {\n",
    "                    \"linkedinbio\": profileurl,\n",
    "                    \"firstname\": profilefirstname,\n",
    "                    \"lastname\": profilelastname,\n",
    "                    \"jobtitle\": profileoccupation,\n",
    "                    \"email\": profileemail,\n",
    "                    \"phone\": profilephoneno,\n",
    "                }\n",
    "               }\n",
    "        \n",
    "        #write data to CRM ( create new contact in CRM)\n",
    "        huboutput = hubspot.connect(HS_API_TOKEN).contacts.send(data)\n",
    "        HS_CONTACT_ID_LIST.append([huboutput, profileurl])"
   ]
  },
  {
   "cell_type": "markdown",
   "id": "39778dc2-266c-458a-bfaa-3f7a9e4e510c",
   "metadata": {},
   "source": [
    "## Output"
   ]
  },
  {
   "cell_type": "markdown",
   "id": "703dead5-98cf-4fe4-8ddb-342e1abcd484",
   "metadata": {},
   "source": [
    "### Create tasks for user and send email notification"
   ]
  },
  {
   "cell_type": "code",
   "execution_count": null,
   "id": "f989c819-6f17-4a38-b87d-633a9290302d",
   "metadata": {},
   "outputs": [],
   "source": [
    "def create_task(owner_id,\n",
    "                time_delay,\n",
    "                subject,\n",
    "                body,\n",
    "                status,\n",
    "                asso_contactids=[],\n",
    "                asso_companyids=[],\n",
    "                asso_dealids=[],\n",
    "                asso_ownerids=[],\n",
    "                engagement=\"TASK\"):\n",
    "    \"\"\"\n",
    "    Engagement type = TASK | NOTE | EMAIL | MEETING | CALL \n",
    "    \"\"\"\n",
    "    \n",
    "    # Calc timestamp\n",
    "    tstampobj = datetime.now() + timedelta(days=time_delay)\n",
    "    tstamp = tstampobj.timestamp() * 1000\n",
    "     \n",
    "    # Create payload\n",
    "    payload = json.dumps({\n",
    "        \"engagement\": {\n",
    "            \"active\": 'true',\n",
    "            \"ownerId\": owner_id,\n",
    "            \"type\": engagement,\n",
    "            \"timestamp\": timestamp\n",
    "        },\n",
    "        \"associations\": {\n",
    "            \"contactIds\": asso_contactids,\n",
    "            \"companyIds\": asso_companyids,\n",
    "            \"dealIds\": asso_dealids,\n",
    "            \"ownerIds\": asso_ownerids,\n",
    "        },\n",
    "        \"metadata\": {\n",
    "            \"body\": body,\n",
    "            \"subject\": subject,\n",
    "            \"status\": status,\n",
    "        }\n",
    "    })\n",
    "    url = \"https://api.hubapi.com/engagements/v1/engagements\"\n",
    "    params = {\"hapikey\": HS_API_TOKEN}\n",
    "    headers = {'Content-Type': \"application/json\"}\n",
    "    # Post requests\n",
    "    res = requests.post(url,\n",
    "                        data=payload,\n",
    "                        headers=headers,\n",
    "                        params=params)\n",
    "    # Check requests\n",
    "    try:\n",
    "        res.raise_for_status()\n",
    "    except requests.HTTPError as e:\n",
    "        raise (e)\n",
    "    res_json = res.json()\n",
    "    \n",
    "    # Fetch the task id of the current task created\n",
    "    task_id = res_json.get(\"engagement\").get(\"id\")\n",
    "    print(\"🎆 Task created successfully: \", task_id)\n",
    "    return res_json"
   ]
  },
  {
   "cell_type": "code",
   "execution_count": null,
   "id": "a5ea8d9e-63bb-4569-a306-e42878f2698a",
   "metadata": {
    "tags": []
   },
   "outputs": [],
   "source": [
    "HS_CONTACT_URL = \"https://app.hubspot.com/contacts/\"+HS_COMPANY_ID+\"/contact/\"\n",
    "\n",
    "for i in HS_CONTACT_ID_LIST:\n",
    "    contact_id = i[0]\n",
    "    contact_linkedin_url = i[1]\n",
    "    hs_contact_url = HUB_CONTACT_URL + contact_id\n",
    "    contact = hubspot.connect(HS_API_TOKEN).get(contact_id)\n",
    "    contact_props = contact.get('properties')\n",
    "    \n",
    "    subject = \"Task created for Contact ID :\"+ contact_id,\n",
    "    status = \"NOT_STARTED\"\n",
    "    body = \"Hi there, you need to contact following user & task is already assigned to you.<br/>\" + \"Name :\" +contact_props['firstname']+ contact_props['lastname'] + \" Contact URL : \" + hs_contact_url,\n",
    "    \n",
    "    # Create task in HubSpot\n",
    "    try:\n",
    "        create_task(owner_id=HS_OWNER_ID,\n",
    "                    time_delay=time_delay\n",
    "                    subject=subject,\n",
    "                    body=body,\n",
    "                    status=status,\n",
    "                    asso_contactids=[contact_id],\n",
    "                    engagement=\"TASK\")\n",
    "\n",
    "        print(\"Task created successfully for Contact ID :\", contact_id)\n",
    "        email_to = SEND_EMAIL_TO #to send the report\n",
    "        subject = \"LinkedIN Leads Alert\"\n",
    "        content = f\"<p>Hi there,</p><br/><p>A new task has been created for you with contact ID :\" + contact_id + \"</p><br/><p>Actions : <a href=\"+hs_contact_url+\">Open Hubspot Contact</a> | <a href=\"+contact_linkedin_url+\">Open LinkedIN Profile</a></p>\"\n",
    "        naas.notification.send(email_to=email_to,\n",
    "                               subject=subject,\n",
    "                               html=content)\n",
    "    except:\n",
    "        print(\"Could not create the task for Contact ID :\"+contact_id+\", ask for on hello@naas.ai for more details\")"
   ]
  }
 ],
 "metadata": {
  "kernelspec": {
   "display_name": "Python 3",
   "language": "python",
   "name": "python3"
  },
  "language_info": {
   "codemirror_mode": {
    "name": "ipython",
    "version": 3
   },
   "file_extension": ".py",
   "mimetype": "text/x-python",
   "name": "python",
   "nbconvert_exporter": "python",
   "pygments_lexer": "ipython3",
   "version": "3.9.6"
  }
 },
 "nbformat": 4,
 "nbformat_minor": 5
}
