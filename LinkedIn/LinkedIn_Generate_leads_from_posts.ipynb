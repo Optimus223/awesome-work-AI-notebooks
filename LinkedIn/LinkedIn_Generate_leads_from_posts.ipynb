{
 "cells": [
  {
   "cell_type": "markdown",
   "id": "e04c2a66-0232-4311-8445-d69e43f287e7",
   "metadata": {
    "execution": {
     "iopub.execute_input": "2022-01-07T21:15:57.009861Z",
     "iopub.status.busy": "2022-01-07T21:15:57.009532Z",
     "iopub.status.idle": "2022-01-07T21:15:57.013136Z",
     "shell.execute_reply": "2022-01-07T21:15:57.012559Z",
     "shell.execute_reply.started": "2022-01-07T21:15:57.009826Z"
    },
    "tags": []
   },
   "source": [
    "<img width=\"10%\" alt=\"Naas\" src=\"https://landen.imgix.net/jtci2pxwjczr/assets/5ice39g4.png?w=160\"/>"
   ]
  },
  {
   "cell_type": "markdown",
   "id": "47c20033-2e43-4c30-9d89-6fd47bfa98e9",
   "metadata": {},
   "source": [
    "# LinkedIn - Generate Leads from likes\n",
    "<a href=\"https://app.naas.ai/user-redirect/naas/downloader?url=https://raw.githubusercontent.com/jupyter-naas/awesome-notebooks/master/LinkedIn/LinkedIn_Get_comments_from_post.ipynb\" target=\"_parent\"><img src=\"https://img.shields.io/badge/-Open%20in%20Naas-success?labelColor=000000&logo=data:image/svg+xml;base64,PD94bWwgdmVyc2lvbj0iMS4wIiBlbmNvZGluZz0iVVRGLTgiPz4KPHN2ZyB3aWR0aD0iMTAyNHB4IiBoZWlnaHQ9IjEwMjRweCIgdmlld0JveD0iMCAwIDEwMjQgMTAyNCIgeG1sbnM9Imh0dHA6Ly93d3cudzMub3JnLzIwMDAvc3ZnIiB4bWxuczp4bGluaz0iaHR0cDovL3d3dy53My5vcmcvMTk5OS94bGluayIgdmVyc2lvbj0iMS4xIj4KIDwhLS0gR2VuZXJhdGVkIGJ5IFBpeGVsbWF0b3IgUHJvIDIuMC41IC0tPgogPGRlZnM+CiAgPHRleHQgaWQ9InN0cmluZyIgdHJhbnNmb3JtPSJtYXRyaXgoMS4wIDAuMCAwLjAgMS4wIDIyOC4wIDU0LjUpIiBmb250LWZhbWlseT0iQ29tZm9ydGFhLVJlZ3VsYXIsIENvbWZvcnRhYSIgZm9udC1zaXplPSI4MDAiIHRleHQtZGVjb3JhdGlvbj0ibm9uZSIgZmlsbD0iI2ZmZmZmZiIgeD0iMS4xOTk5OTk5OTk5OTk5ODg2IiB5PSI3MDUuMCI+bjwvdGV4dD4KIDwvZGVmcz4KIDx1c2UgaWQ9Im4iIHhsaW5rOmhyZWY9IiNzdHJpbmciLz4KPC9zdmc+Cg==\"/></a>"
   ]
  },
  {
   "cell_type": "markdown",
   "id": "6ec59f5e-ac9e-4ab0-a0e9-51b01b38dcaa",
   "metadata": {},
   "source": [
    "**Tags:** #linkedin #post #comments #naas_drivers"
   ]
  },
  {
   "cell_type": "markdown",
   "id": "618b546f-943a-498c-9eb6-637a1e992f21",
   "metadata": {},
   "source": [
    "## Input"
   ]
  },
  {
   "cell_type": "markdown",
   "id": "91fc2ccf-9a27-40f4-bb62-df542a468bc6",
   "metadata": {
    "execution": {
     "iopub.execute_input": "2022-01-08T05:48:50.458541Z",
     "iopub.status.busy": "2022-01-08T05:48:50.458187Z",
     "iopub.status.idle": "2022-01-08T05:48:50.465249Z",
     "shell.execute_reply": "2022-01-08T05:48:50.464699Z",
     "shell.execute_reply.started": "2022-01-08T05:48:50.458451Z"
    }
   },
   "source": [
    "### Import libraries"
   ]
  },
  {
   "cell_type": "code",
   "execution_count": 5,
   "id": "4f6774a6-ff96-4c39-87a7-69a1fd3777cc",
   "metadata": {
    "execution": {
     "iopub.execute_input": "2022-02-08T08:29:54.795381Z",
     "iopub.status.busy": "2022-02-08T08:29:54.795060Z",
     "iopub.status.idle": "2022-02-08T08:29:54.812295Z",
     "shell.execute_reply": "2022-02-08T08:29:54.811531Z",
     "shell.execute_reply.started": "2022-02-08T08:29:54.795337Z"
    },
    "tags": []
   },
   "outputs": [],
   "source": [
    "from naas_drivers import linkedin, hubspot\n",
    "import pandas as pd\n",
    "import numpy as np\n",
    "import naas\n",
    "from datetime import datetime, timedelta\n",
    "import requests\n",
    "import json"
   ]
  },
  {
   "cell_type": "markdown",
   "id": "958d3406-bf4c-48b9-b56b-ad4dad7caaae",
   "metadata": {},
   "source": [
    "### Setup your LinkedIn\n",
    "- Get your cookies : <a href='https://www.notion.so/LinkedIn-driver-Get-your-cookies-d20a8e7e508e42af8a5b52e33f3dba75'>How to get your cookies ?</a>"
   ]
  },
  {
   "cell_type": "code",
   "execution_count": 6,
   "id": "cb06a98e-6e82-4a9e-bedc-9bc7a6cb30dc",
   "metadata": {
    "execution": {
     "iopub.execute_input": "2022-02-08T08:29:55.950353Z",
     "iopub.status.busy": "2022-02-08T08:29:55.950024Z",
     "iopub.status.idle": "2022-02-08T08:29:55.965227Z",
     "shell.execute_reply": "2022-02-08T08:29:55.964501Z",
     "shell.execute_reply.started": "2022-02-08T08:29:55.950314Z"
    },
    "tags": []
   },
   "outputs": [],
   "source": [
    "# Get your cookies\n",
    "LI_AT = ''  # EXAMPLE AQFAzQN_PLPR4wAAAXc-FCKmgiMit5FLdY1af3-2\n",
    "JSESSIONID = ''  # EXAMPLE ajax:8379907400220387585\n",
    "\n",
    "# Enter your profile URL\n",
    "PROFILE_URL = \"https://www.linkedin.com/in/florent-ravenel/\""
   ]
  },
  {
   "cell_type": "markdown",
   "id": "d33b5279-1387-41c5-9a3a-7a206c91f74e",
   "metadata": {},
   "source": [
    "### Setup your Hubspot\n",
    "- Get your API token\n",
    "- Get your hubspot owner ID\n",
    "- Get your hubspot company ID"
   ]
  },
  {
   "cell_type": "code",
   "execution_count": 7,
   "id": "54e9a7db-a550-47d0-91b3-7b61ce615abd",
   "metadata": {
    "execution": {
     "iopub.execute_input": "2022-02-08T08:29:56.762099Z",
     "iopub.status.busy": "2022-02-08T08:29:56.761857Z",
     "iopub.status.idle": "2022-02-08T08:29:56.765203Z",
     "shell.execute_reply": "2022-02-08T08:29:56.764445Z",
     "shell.execute_reply.started": "2022-02-08T08:29:56.762072Z"
    },
    "tags": []
   },
   "outputs": [],
   "source": [
    "#initial parameters for hubspot connection\n",
    "HS_CONTACT_ASSIGN_TO_ID = \"\" #contact id to whom task needs to be assigned\n",
    "HS_API_TOKEN = \"\"\n",
    "HUB_COMPANY_ID = \"\""
   ]
  },
  {
   "cell_type": "markdown",
   "id": "43fff853-fdf1-4949-a781-43b31e65cce9",
   "metadata": {},
   "source": [
    "## Model"
   ]
  },
  {
   "cell_type": "markdown",
   "id": "662dcde3-5093-4635-8971-677853e52f3e",
   "metadata": {},
   "source": [
    "### Get posts from feed"
   ]
  },
  {
   "cell_type": "code",
   "execution_count": 5,
   "id": "944f85cd-f3ed-45b2-867c-965f8eca83eb",
   "metadata": {
    "execution": {
     "iopub.execute_input": "2022-01-21T17:17:14.690918Z",
     "iopub.status.busy": "2022-01-21T17:17:14.690684Z",
     "iopub.status.idle": "2022-01-21T17:17:27.650757Z",
     "shell.execute_reply": "2022-01-21T17:17:27.650155Z",
     "shell.execute_reply.started": "2022-01-21T17:17:14.690895Z"
    },
    "tags": []
   },
   "outputs": [],
   "source": [
    "df_posts = linkedin.connect(LI_AT, JSESSIONID).profile.get_posts_feed(PROFILE_URL, count=100, limit=-1)"
   ]
  },
  {
   "cell_type": "markdown",
   "id": "220f2008-106d-439a-a4bc-caa3200f3adc",
   "metadata": {},
   "source": [
    "### Get likes from posts"
   ]
  },
  {
   "cell_type": "code",
   "execution_count": 7,
   "id": "96053b77-ad3f-4eb0-8234-d06d52425678",
   "metadata": {
    "execution": {
     "iopub.execute_input": "2022-01-21T17:44:59.501820Z",
     "iopub.status.busy": "2022-01-21T17:44:59.501588Z",
     "iopub.status.idle": "2022-01-21T17:53:03.801940Z",
     "shell.execute_reply": "2022-01-21T17:53:03.801311Z",
     "shell.execute_reply.started": "2022-01-21T17:44:59.501798Z"
    },
    "tags": []
   },
   "outputs": [],
   "source": [
    "def get_likes(df):\n",
    "    df_likes = pd.DataFrame()\n",
    "    for index, row in df.iterrows():\n",
    "        post_url = row['POST_URL']\n",
    "        tmp_df = linkedin.connect(LI_AT, JSESSIONID).post.get_likes(post_url)\n",
    "        if not tmp_df.empty:\n",
    "            df_likes = pd.concat([df_likes, tmp_df])\n",
    "    return df_likes\n",
    "        \n",
    "df_likes = get_likes(df_posts)\n",
    "df_likes"
   ]
  },
  {
   "cell_type": "markdown",
   "id": "a179a601-4ec3-4125-9eba-122cb6c32f9d",
   "metadata": {
    "execution": {
     "iopub.execute_input": "2022-01-08T06:05:38.875471Z",
     "iopub.status.busy": "2022-01-08T06:05:38.875180Z",
     "iopub.status.idle": "2022-01-08T06:05:38.898219Z",
     "shell.execute_reply": "2022-01-08T06:05:38.895420Z",
     "shell.execute_reply.started": "2022-01-08T06:05:38.875441Z"
    }
   },
   "source": [
    "- Check the links with <b>PROFILE_ID</b> for users posts. (i.e. Here activity posts are removed)\n",
    "- Ignore below line if you want to consider all types of posts"
   ]
  },
  {
   "cell_type": "code",
   "execution_count": 8,
   "id": "9600ac02-281f-4120-afd9-fb5e791a5c6b",
   "metadata": {
    "execution": {
     "iopub.execute_input": "2022-01-21T17:53:24.652014Z",
     "iopub.status.busy": "2022-01-21T17:53:24.651710Z",
     "iopub.status.idle": "2022-01-21T17:53:24.682042Z",
     "shell.execute_reply": "2022-01-21T17:53:24.681372Z",
     "shell.execute_reply.started": "2022-01-21T17:53:24.651984Z"
    },
    "tags": []
   },
   "outputs": [],
   "source": [
    "# profile_posts = DF_all_post_likes[DF_all_post_likes['POST_URL'].str.contains(PROFILE_ID)]"
   ]
  },
  {
   "cell_type": "code",
   "execution_count": 10,
   "id": "c6e32771-a895-4ffb-a756-8164800225f6",
   "metadata": {
    "execution": {
     "iopub.execute_input": "2022-01-21T17:56:53.826994Z",
     "iopub.status.busy": "2022-01-21T17:56:53.826692Z",
     "iopub.status.idle": "2022-01-21T17:56:53.846412Z",
     "shell.execute_reply": "2022-01-21T17:56:53.845773Z",
     "shell.execute_reply.started": "2022-01-21T17:56:53.826963Z"
    },
    "tags": []
   },
   "outputs": [],
   "source": [
    "# grouped_profile_posts = profile_posts.groupby(['PROFILE_ID']).size().sort_values(ascending=False).reset_index(name='count')"
   ]
  },
  {
   "cell_type": "markdown",
   "id": "3f689903-8902-4f72-ba76-0df01aaac455",
   "metadata": {},
   "source": [
    "- Grouping the like count and classify the leads as per levels i.e. <b>L1, L2, L3, L4.</b> ( from highest to lowest counts of likes) with column name <b>\"POTENTIAL LEAD\"</b>\n",
    "- Group posts as per the the column <b>\"POTENTIAL LEAD\"</b>"
   ]
  },
  {
   "cell_type": "code",
   "execution_count": 12,
   "id": "f8463d36-9549-4ca9-b0d8-0b41eab0bde1",
   "metadata": {
    "execution": {
     "iopub.execute_input": "2022-01-21T17:57:06.168234Z",
     "iopub.status.busy": "2022-01-21T17:57:06.166089Z",
     "iopub.status.idle": "2022-01-21T17:57:06.187365Z",
     "shell.execute_reply": "2022-01-21T17:57:06.186856Z",
     "shell.execute_reply.started": "2022-01-21T17:57:06.168197Z"
    },
    "tags": []
   },
   "outputs": [],
   "source": [
    "conditions = [\n",
    "    (grouped_profile_posts['count'] <= 2),\n",
    "    (grouped_profile_posts['count'] > 2) & (grouped_profile_posts['count'] <= 9),\n",
    "    (grouped_profile_posts['count'] > 9) & (grouped_profile_posts['count'] <= 15),\n",
    "    (grouped_profile_posts['count'] > 15)\n",
    "    ]\n",
    "\n",
    "values = ['L4', 'L3', 'L2', 'L1']"
   ]
  },
  {
   "cell_type": "code",
   "execution_count": 13,
   "id": "0eebb5b5-1e19-4e4c-839d-3cf172ea13e7",
   "metadata": {
    "execution": {
     "iopub.execute_input": "2022-01-21T17:57:07.193878Z",
     "iopub.status.busy": "2022-01-21T17:57:07.193571Z",
     "iopub.status.idle": "2022-01-21T17:57:07.200820Z",
     "shell.execute_reply": "2022-01-21T17:57:07.200008Z",
     "shell.execute_reply.started": "2022-01-21T17:57:07.193847Z"
    },
    "tags": []
   },
   "outputs": [],
   "source": [
    "grouped_profile_posts['POTENTIAL_LEAD'] = np.select(conditions, values)"
   ]
  },
  {
   "cell_type": "markdown",
   "id": "68d17abb-d20f-4f01-8a0a-cb2a0a25b9b7",
   "metadata": {},
   "source": [
    "### Get profile details based on the POST_URL above\n",
    "- filter rows from \"grouped_profile_posts\" dataframe based on L1, L2, & L3 levels and add data to leads_list\n",
    "- Extract EMAIL, FIRSTNAME, LASTNAME, PHONE_NUMBER, OCCUPATION from profile URL"
   ]
  },
  {
   "cell_type": "code",
   "execution_count": 18,
   "id": "f9067787-53d3-4046-887e-66b78e183218",
   "metadata": {
    "execution": {
     "iopub.execute_input": "2022-01-21T17:57:28.082180Z",
     "iopub.status.busy": "2022-01-21T17:57:28.081955Z",
     "iopub.status.idle": "2022-01-21T17:59:23.396375Z",
     "shell.execute_reply": "2022-01-21T17:59:23.395717Z",
     "shell.execute_reply.started": "2022-01-21T17:57:28.082157Z"
    },
    "tags": []
   },
   "outputs": [],
   "source": [
    "leads_list = [];\n",
    "\n",
    "r_count = 1\n",
    "for index, row in grouped_profile_posts.iterrows():\n",
    "    if row['POTENTIAL_LEAD'] == \"L3\" or row['POTENTIAL_LEAD'] == \"L2\" or row['POTENTIAL_LEAD'] == \"L1\":\n",
    "        profileid = row['PROFILE_ID']\n",
    "        profileurl = \"https://www.linkedin.com/in/\"+profileid+\"/\"\n",
    "       \n",
    "        PROFILECONTACTS = linkedin.connect(LI_AT, JSESSIONID).profile.get_contact(profileurl)\n",
    "        PROFILEIDENTITY = linkedin.connect(LI_AT, JSESSIONID).profile.get_identity(profileurl)\n",
    "        \n",
    "        profileemail = PROFILECONTACTS.at[0,'EMAIL']\n",
    "        profilephoneno = PROFILECONTACTS.at[0,'PHONENUMBER']\n",
    "        profilename = PROFILEIDENTITY.at[0,'FIRSTNAME'] + \" \"+ PROFILEIDENTITY.at[0,'LASTNAME']\n",
    "        profilefirstname = PROFILEIDENTITY.at[0,'FIRSTNAME']\n",
    "        profilelastname = PROFILEIDENTITY.at[0,'LASTNAME']\n",
    "        profileoccupation = PROFILEIDENTITY.at[0,'OCCUPATION']\n",
    "        if profileemail != None :\n",
    "            leads_list.append([r_count,profilename,profilefirstname,profilelastname,profileemail,profilephoneno,profileoccupation,profileurl])\n",
    "            r_count = r_count + 1\n",
    "   "
   ]
  },
  {
   "cell_type": "markdown",
   "id": "9e10604f-fb16-482c-bd52-dba4ef8a6543",
   "metadata": {},
   "source": [
    "### Create hubspot contacts from linkedin likes"
   ]
  },
  {
   "cell_type": "code",
   "execution_count": 1,
   "id": "7bb98974-b980-42f8-bb57-272925682227",
   "metadata": {
    "execution": {
     "iopub.execute_input": "2022-01-21T18:46:11.317653Z",
     "iopub.status.busy": "2022-01-21T18:46:11.317394Z",
     "iopub.status.idle": "2022-01-21T18:46:11.332135Z",
     "shell.execute_reply": "2022-01-21T18:46:11.327928Z",
     "shell.execute_reply.started": "2022-01-21T18:46:11.317591Z"
    },
    "tags": []
   },
   "outputs": [],
   "source": [
    "#to store the resulting output of create contact method\n",
    "huboutput = \"\""
   ]
  },
  {
   "cell_type": "markdown",
   "id": "a6062eab-7760-4e84-8427-ea957f90337a",
   "metadata": {},
   "source": [
    "<h4>HS_CONTACT_ID_LIST</h4> - The list to store the contact id recently created and the linkedin profile URL of associated contact"
   ]
  },
  {
   "cell_type": "code",
   "execution_count": 20,
   "id": "196132dc-5c94-4e54-91be-2f7bc1a2ecda",
   "metadata": {
    "execution": {
     "iopub.execute_input": "2022-01-21T17:59:47.318652Z",
     "iopub.status.busy": "2022-01-21T17:59:47.318359Z",
     "iopub.status.idle": "2022-01-21T17:59:52.744578Z",
     "shell.execute_reply": "2022-01-21T17:59:52.742954Z",
     "shell.execute_reply.started": "2022-01-21T17:59:47.318620Z"
    },
    "tags": []
   },
   "outputs": [
    {
     "name": "stdout",
     "output_type": "stream",
     "text": [
      "✔️ Contact (id=1051) successfully created.\n",
      "✔️ Contact (id=1101) successfully created.\n",
      "✔️ Contact (id=1151) successfully created.\n",
      "✔️ Contact (id=1201) successfully created.\n",
      "✔️ Contact (id=1251) successfully created.\n",
      "✔️ Contact (id=1301) successfully created.\n",
      "✔️ Contact (id=1351) successfully created.\n",
      "✔️ Contact (id=1401) successfully created.\n",
      "✔️ Contact (id=1451) successfully created.\n",
      "✔️ Contact (id=1501) successfully created.\n"
     ]
    }
   ],
   "source": [
    "HS_CONTACT_ID_LIST = []\n",
    "for i in leads_list:\n",
    "        profilename = i[1]\n",
    "        profilefirstname = i[2]\n",
    "        profilelastname = i[3]\n",
    "        profileemail = i[4]\n",
    "        profilephoneno = i[5]\n",
    "        profileoccupation = i[6]\n",
    "        profileurl = i[7]\n",
    "        # With send method\n",
    "        data = {\"properties\": \n",
    "                {\n",
    "                    \"linkedinbio\": profileurl,\n",
    "                    \"firstname\": profilefirstname,\n",
    "                    \"lastname\": profilelastname,\n",
    "                    \"jobtitle\": profileoccupation,\n",
    "                    \"email\": profileemail,\n",
    "                    \"phone\": profilephoneno,\n",
    "                }\n",
    "               }\n",
    "        \n",
    "        #write data to CRM ( create new contact in CRM)\n",
    "        huboutput = hubspot.connect(HS_API_TOKEN).contacts.send(data)\n",
    "        HS_CONTACT_ID_LIST.append([huboutput,profileurl])"
   ]
  },
  {
   "cell_type": "markdown",
   "id": "39778dc2-266c-458a-bfaa-3f7a9e4e510c",
   "metadata": {},
   "source": [
    "## Output"
   ]
  },
  {
   "cell_type": "markdown",
   "id": "703dead5-98cf-4fe4-8ddb-342e1abcd484",
   "metadata": {},
   "source": [
    "### Display result - Create tasks for user and send email notification"
   ]
  },
  {
   "cell_type": "code",
   "execution_count": 21,
   "id": "a5ea8d9e-63bb-4569-a306-e42878f2698a",
   "metadata": {
    "execution": {
     "iopub.execute_input": "2022-01-21T18:01:11.731996Z",
     "iopub.status.busy": "2022-01-21T18:01:11.731743Z",
     "iopub.status.idle": "2022-01-21T18:01:19.896006Z",
     "shell.execute_reply": "2022-01-21T18:01:19.895301Z",
     "shell.execute_reply.started": "2022-01-21T18:01:11.731973Z"
    },
    "tags": []
   },
   "outputs": [
    {
     "name": "stdout",
     "output_type": "stream",
     "text": [
      "Task created successfully for Contact ID : 1051\n",
      "👌 💌 Email has been sent successfully !\n",
      "Task created successfully for Contact ID : 1101\n",
      "👌 💌 Email has been sent successfully !\n",
      "Task created successfully for Contact ID : 1151\n",
      "👌 💌 Email has been sent successfully !\n",
      "Task created successfully for Contact ID : 1201\n",
      "👌 💌 Email has been sent successfully !\n",
      "Task created successfully for Contact ID : 1251\n",
      "👌 💌 Email has been sent successfully !\n",
      "Task created successfully for Contact ID : 1301\n",
      "👌 💌 Email has been sent successfully !\n",
      "Task created successfully for Contact ID : 1351\n",
      "👌 💌 Email has been sent successfully !\n",
      "Task created successfully for Contact ID : 1401\n",
      "👌 💌 Email has been sent successfully !\n",
      "Task created successfully for Contact ID : 1451\n",
      "👌 💌 Email has been sent successfully !\n",
      "Task created successfully for Contact ID : 1501\n",
      "👌 💌 Email has been sent successfully !\n"
     ]
    }
   ],
   "source": [
    "HUB_CONTACT_URL = \"https://app.hubspot.com/contacts/\"+HUB_COMPANY_ID+\"/contact/\"\n",
    "\n",
    "ENGAGEMENT_URL = \"https://api.hubapi.com/engagements/v1/engagements\"\n",
    "\n",
    "QUERY_STRING = { \"hapikey\": HS_API_TOKEN }\n",
    "\n",
    "#email parameter(s)\n",
    "SEND_EMAIL_TO = \"\"\n",
    "\n",
    "#timestamp delay to set due date for tasks\n",
    "tstampobj = datetime.now() + timedelta(days=10)\n",
    "tstamp = tstampobj.timestamp() * 1000\n",
    "\n",
    "for i in HS_CONTACT_ID_LIST:\n",
    "    hs = hubspot.connect(HS_API_TOKEN)\n",
    "    contact_id = i[0]\n",
    "    contact = hs.contacts.get(contact_id)\n",
    "    contact_props = contact.get('properties')\n",
    "    contact_linkedin_url = i[1]\n",
    "    hs_contact_url = HUB_CONTACT_URL + contact_id\n",
    "    payload = json.dumps({\n",
    "        \"engagement\": {\n",
    "            \"active\": 'true',\n",
    "            \"ownerId\": \"\",\n",
    "            \"type\": \"TASK\",\n",
    "            \"timestamp\": tstamp\n",
    "        },\n",
    "        \"associations\": {\n",
    "            \"contactIds\": [HS_CONTACT_ASSIGN_TO_ID],\n",
    "            \"companyIds\": [],\n",
    "            \"dealIds\": [],\n",
    "            \"ownerIds\": [],\n",
    "        },\n",
    "\n",
    "        \"metadata\": {\n",
    "            \"body\": \"Hi there, you need to contact following user & task is already assigned to you.<br/>\" + \"Name :\" +contact_props['firstname']+ contact_props['lastname'] + \" Contact URL : \" + hs_contact_url,\n",
    "            \"subject\": \"Task created for Contact ID :\"+ contact_id,\n",
    "            \"status\": \"NOT_STARTED\",\n",
    "            \"forObjectType\": \"CONTACT\"\n",
    "        }\n",
    "    });\n",
    "    headers = {\n",
    "        'Content-Type': \"application/json\",\n",
    "    }\n",
    "    response = requests.request(\"POST\", ENGAGEMENT_URL, data=payload, headers=headers, params=QUERY_STRING)\n",
    "\n",
    "    if response.status_code == 200:\n",
    "        print(\"Task created successfully for Contact ID :\",contact_id)\n",
    "        email_to = SEND_EMAIL_TO #to send the report\n",
    "        subject = \"LinkedIN Leads Alert\"\n",
    "        content = f\"<p>Hi there,</p><br/><p>A new task has been created for you with contact ID :\" + contact_id + \"</p><br/><p>Actions : <a href=\"+hs_contact_url+\">Open Hubspot Contact</a> | <a href=\"+contact_linkedin_url+\">Open LinkedIN Profile</a></p>\"\n",
    "\n",
    "        naas.notification.send(email_to=email_to, subject=subject, html=content)\n",
    "    else:\n",
    "        print(\"Could not create the task for Contact ID :\"+contact_id+\", ask for on hello@naas.ai for more details\")"
   ]
  },
  {
   "cell_type": "code",
   "execution_count": null,
   "id": "66c51734-7efd-4ea1-a682-d421cfed057b",
   "metadata": {},
   "outputs": [],
   "source": []
  }
 ],
 "metadata": {
  "kernelspec": {
   "display_name": "Python 3",
   "language": "python",
   "name": "python3"
  },
  "language_info": {
   "codemirror_mode": {
    "name": "ipython",
    "version": 3
   },
   "file_extension": ".py",
   "mimetype": "text/x-python",
   "name": "python",
   "nbconvert_exporter": "python",
   "pygments_lexer": "ipython3",
   "version": "3.8.8"
  }
 },
 "nbformat": 4,
 "nbformat_minor": 5
}
