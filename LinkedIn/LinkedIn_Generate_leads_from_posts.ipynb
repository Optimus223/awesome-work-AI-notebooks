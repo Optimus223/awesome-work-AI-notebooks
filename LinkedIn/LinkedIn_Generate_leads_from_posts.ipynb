{
 "cells": [
  {
   "cell_type": "markdown",
   "id": "e04c2a66-0232-4311-8445-d69e43f287e7",
   "metadata": {
    "execution": {
     "iopub.execute_input": "2022-01-07T21:15:57.009861Z",
     "iopub.status.busy": "2022-01-07T21:15:57.009532Z",
     "iopub.status.idle": "2022-01-07T21:15:57.013136Z",
     "shell.execute_reply": "2022-01-07T21:15:57.012559Z",
     "shell.execute_reply.started": "2022-01-07T21:15:57.009826Z"
    },
    "tags": []
   },
   "source": [
    "<img width=\"10%\" alt=\"Naas\" src=\"https://landen.imgix.net/jtci2pxwjczr/assets/5ice39g4.png?w=160\"/>"
   ]
  },
  {
   "cell_type": "markdown",
   "id": "47c20033-2e43-4c30-9d89-6fd47bfa98e9",
   "metadata": {},
   "source": [
    "# LinkedIn - Generate Leads from likes\n",
    "<a href=\"https://app.naas.ai/user-redirect/naas/downloader?url=https://raw.githubusercontent.com/jupyter-naas/awesome-notebooks/master/LinkedIn/LinkedIn_Get_comments_from_post.ipynb\" target=\"_parent\"><img src=\"https://img.shields.io/badge/-Open%20in%20Naas-success?labelColor=000000&logo=data:image/svg+xml;base64,PD94bWwgdmVyc2lvbj0iMS4wIiBlbmNvZGluZz0iVVRGLTgiPz4KPHN2ZyB3aWR0aD0iMTAyNHB4IiBoZWlnaHQ9IjEwMjRweCIgdmlld0JveD0iMCAwIDEwMjQgMTAyNCIgeG1sbnM9Imh0dHA6Ly93d3cudzMub3JnLzIwMDAvc3ZnIiB4bWxuczp4bGluaz0iaHR0cDovL3d3dy53My5vcmcvMTk5OS94bGluayIgdmVyc2lvbj0iMS4xIj4KIDwhLS0gR2VuZXJhdGVkIGJ5IFBpeGVsbWF0b3IgUHJvIDIuMC41IC0tPgogPGRlZnM+CiAgPHRleHQgaWQ9InN0cmluZyIgdHJhbnNmb3JtPSJtYXRyaXgoMS4wIDAuMCAwLjAgMS4wIDIyOC4wIDU0LjUpIiBmb250LWZhbWlseT0iQ29tZm9ydGFhLVJlZ3VsYXIsIENvbWZvcnRhYSIgZm9udC1zaXplPSI4MDAiIHRleHQtZGVjb3JhdGlvbj0ibm9uZSIgZmlsbD0iI2ZmZmZmZiIgeD0iMS4xOTk5OTk5OTk5OTk5ODg2IiB5PSI3MDUuMCI+bjwvdGV4dD4KIDwvZGVmcz4KIDx1c2UgaWQ9Im4iIHhsaW5rOmhyZWY9IiNzdHJpbmciLz4KPC9zdmc+Cg==\"/></a>"
   ]
  },
  {
   "cell_type": "markdown",
   "id": "6ec59f5e-ac9e-4ab0-a0e9-51b01b38dcaa",
   "metadata": {},
   "source": [
    "**Tags:** #linkedin #post #comments #naas_drivers"
   ]
  },
  {
   "cell_type": "markdown",
   "id": "618b546f-943a-498c-9eb6-637a1e992f21",
   "metadata": {},
   "source": [
    "## Input"
   ]
  },
  {
   "cell_type": "markdown",
   "id": "91fc2ccf-9a27-40f4-bb62-df542a468bc6",
   "metadata": {
    "execution": {
     "iopub.execute_input": "2022-01-08T05:48:50.458541Z",
     "iopub.status.busy": "2022-01-08T05:48:50.458187Z",
     "iopub.status.idle": "2022-01-08T05:48:50.465249Z",
     "shell.execute_reply": "2022-01-08T05:48:50.464699Z",
     "shell.execute_reply.started": "2022-01-08T05:48:50.458451Z"
    }
   },
   "source": [
    "### Import library"
   ]
  },
  {
   "cell_type": "code",
   "execution_count": 104,
   "id": "4f6774a6-ff96-4c39-87a7-69a1fd3777cc",
   "metadata": {
    "execution": {
     "iopub.execute_input": "2022-01-08T08:34:33.594412Z",
     "iopub.status.busy": "2022-01-08T08:34:33.594165Z",
     "iopub.status.idle": "2022-01-08T08:34:33.597465Z",
     "shell.execute_reply": "2022-01-08T08:34:33.596786Z",
     "shell.execute_reply.started": "2022-01-08T08:34:33.594390Z"
    },
    "tags": []
   },
   "outputs": [],
   "source": [
    "from naas_drivers import linkedin, hubspot\n",
    "import pandas as pd\n",
    "import numpy as np\n",
    "import naas"
   ]
  },
  {
   "cell_type": "markdown",
   "id": "958d3406-bf4c-48b9-b56b-ad4dad7caaae",
   "metadata": {},
   "source": [
    "### Get your cookies\n",
    "<a href='https://www.notion.so/LinkedIn-driver-Get-your-cookies-d20a8e7e508e42af8a5b52e33f3dba75'>How to get your cookies ?</a>"
   ]
  },
  {
   "cell_type": "code",
   "execution_count": 105,
   "id": "cb06a98e-6e82-4a9e-bedc-9bc7a6cb30dc",
   "metadata": {
    "execution": {
     "iopub.execute_input": "2022-01-08T08:34:36.234790Z",
     "iopub.status.busy": "2022-01-08T08:34:36.234518Z",
     "iopub.status.idle": "2022-01-08T08:34:36.238036Z",
     "shell.execute_reply": "2022-01-08T08:34:36.237274Z",
     "shell.execute_reply.started": "2022-01-08T08:34:36.234743Z"
    },
    "tags": []
   },
   "outputs": [],
   "source": [
    "LI_AT = ''  # EXAMPLE AQFAzQN_PLPR4wAAAXc-FCKmgiMit5FLdY1af3-2\n",
    "JSESSIONID = 'ajax:6798851211654272028'  # EXAMPLE ajax:8379907400220387585"
   ]
  },
  {
   "cell_type": "markdown",
   "id": "d33b5279-1387-41c5-9a3a-7a206c91f74e",
   "metadata": {},
   "source": [
    "### Enter post URL"
   ]
  },
  {
   "cell_type": "code",
   "execution_count": 106,
   "id": "54e9a7db-a550-47d0-91b3-7b61ce615abd",
   "metadata": {
    "execution": {
     "iopub.execute_input": "2022-01-08T08:34:37.501886Z",
     "iopub.status.busy": "2022-01-08T08:34:37.501651Z",
     "iopub.status.idle": "2022-01-08T08:34:37.506390Z",
     "shell.execute_reply": "2022-01-08T08:34:37.505821Z",
     "shell.execute_reply.started": "2022-01-08T08:34:37.501862Z"
    },
    "tags": []
   },
   "outputs": [],
   "source": [
    "PROFILE_URL = \"PROFILE_URL\""
   ]
  },
  {
   "cell_type": "markdown",
   "id": "43fff853-fdf1-4949-a781-43b31e65cce9",
   "metadata": {},
   "source": [
    "## Model"
   ]
  },
  {
   "cell_type": "markdown",
   "id": "662dcde3-5093-4635-8971-677853e52f3e",
   "metadata": {},
   "source": [
    "Get the information return in a dataframe.<br><br>\n",
    "**Available columns :**\n",
    "- PROFILE_URN : LinkedIn unique profile id\n",
    "- PROFILE_ID : LinkedIn public profile id\n",
    "- FIRSTNAME\n",
    "- LASTNAME\n",
    "- TEXT\n",
    "- OCCUPATION\n",
    "- ACTIVITY_COMMENTS\n",
    "- ACTIVITY_LIKES\n",
    "- DISTANCE\n",
    "- POST_URL"
   ]
  },
  {
   "cell_type": "code",
   "execution_count": 107,
   "id": "944f85cd-f3ed-45b2-867c-965f8eca83eb",
   "metadata": {
    "execution": {
     "iopub.execute_input": "2022-01-08T08:34:39.866372Z",
     "iopub.status.busy": "2022-01-08T08:34:39.866125Z",
     "iopub.status.idle": "2022-01-08T08:34:50.220517Z",
     "shell.execute_reply": "2022-01-08T08:34:50.219880Z",
     "shell.execute_reply.started": "2022-01-08T08:34:39.866344Z"
    },
    "tags": []
   },
   "outputs": [],
   "source": [
    "DF_profile_posts = linkedin.connect(LI_AT, JSESSIONID).profile.get_posts_stats(PROFILE_URL)"
   ]
  },
  {
   "cell_type": "markdown",
   "id": "220f2008-106d-439a-a4bc-caa3200f3adc",
   "metadata": {},
   "source": [
    "### Apply necessary filters to initial dataframe"
   ]
  },
  {
   "cell_type": "markdown",
   "id": "5ed62c4d-0080-4720-a04e-eeb25c666af7",
   "metadata": {
    "execution": {
     "iopub.execute_input": "2022-01-08T06:02:11.410645Z",
     "iopub.status.busy": "2022-01-08T06:02:11.410351Z",
     "iopub.status.idle": "2022-01-08T06:02:11.446503Z",
     "shell.execute_reply": "2022-01-08T06:02:11.445599Z",
     "shell.execute_reply.started": "2022-01-08T06:02:11.410614Z"
    }
   },
   "source": [
    "- Get all post from profile\n",
    "- Filter post with any of the empty value and add to new dataframe\n"
   ]
  },
  {
   "cell_type": "code",
   "execution_count": 108,
   "id": "92497c73-2e0e-40a2-89b6-d9a3c8538101",
   "metadata": {
    "execution": {
     "iopub.execute_input": "2022-01-08T08:37:34.815602Z",
     "iopub.status.busy": "2022-01-08T08:37:34.815239Z",
     "iopub.status.idle": "2022-01-08T08:44:52.899572Z",
     "shell.execute_reply": "2022-01-08T08:44:52.898917Z",
     "shell.execute_reply.started": "2022-01-08T08:37:34.815517Z"
    },
    "tags": []
   },
   "outputs": [],
   "source": [
    "DF_all_post_likes = pd.DataFrame()\n",
    "for index, row in DF_profile_posts.iterrows():\n",
    "    df = linkedin.connect(LI_AT, JSESSIONID).post.get_likes(row['POST_URL'])\n",
    "    if not df.empty:\n",
    "        DF_all_post_likes = DF_all_post_likes.append(df)"
   ]
  },
  {
   "cell_type": "markdown",
   "id": "a179a601-4ec3-4125-9eba-122cb6c32f9d",
   "metadata": {
    "execution": {
     "iopub.execute_input": "2022-01-08T06:05:38.875471Z",
     "iopub.status.busy": "2022-01-08T06:05:38.875180Z",
     "iopub.status.idle": "2022-01-08T06:05:38.898219Z",
     "shell.execute_reply": "2022-01-08T06:05:38.895420Z",
     "shell.execute_reply.started": "2022-01-08T06:05:38.875441Z"
    }
   },
   "source": [
    "- Check the links with <b>PROFILE_ID</b> for users posts. (i.e. Here activity posts are filtered)\n",
    "- Ignore below line if you want to consider all links"
   ]
  },
  {
   "cell_type": "code",
   "execution_count": 110,
   "id": "9600ac02-281f-4120-afd9-fb5e791a5c6b",
   "metadata": {
    "execution": {
     "iopub.execute_input": "2022-01-08T08:44:58.977895Z",
     "iopub.status.busy": "2022-01-08T08:44:58.977644Z",
     "iopub.status.idle": "2022-01-08T08:44:58.995398Z",
     "shell.execute_reply": "2022-01-08T08:44:58.994828Z",
     "shell.execute_reply.started": "2022-01-08T08:44:58.977871Z"
    },
    "tags": []
   },
   "outputs": [],
   "source": [
    "profile_posts = DF_all_post_likes[DF_all_post_likes['POST_URL'].str.contains('PROFILE_ID')]"
   ]
  },
  {
   "cell_type": "code",
   "execution_count": 111,
   "id": "c6e32771-a895-4ffb-a756-8164800225f6",
   "metadata": {
    "execution": {
     "iopub.execute_input": "2022-01-08T08:45:00.056837Z",
     "iopub.status.busy": "2022-01-08T08:45:00.056603Z",
     "iopub.status.idle": "2022-01-08T08:45:00.062409Z",
     "shell.execute_reply": "2022-01-08T08:45:00.061724Z",
     "shell.execute_reply.started": "2022-01-08T08:45:00.056813Z"
    },
    "tags": []
   },
   "outputs": [],
   "source": [
    "grouped_profile_posts = profile_posts.groupby(['PROFILE_ID']).size().sort_values(ascending=False).reset_index(name='count')"
   ]
  },
  {
   "cell_type": "markdown",
   "id": "3f689903-8902-4f72-ba76-0df01aaac455",
   "metadata": {},
   "source": [
    "- Group like count and classify the leads as per levels i.e. <b>L1, L2, L3, L4.</b> ( from highest to lowest counts of likes) with column name <b>\"POTENTIAL LEAD\"</b>\n",
    "- Group posts as per the the column <b>\"POTENTIAL LEAD\"</b>"
   ]
  },
  {
   "cell_type": "code",
   "execution_count": 112,
   "id": "f8463d36-9549-4ca9-b0d8-0b41eab0bde1",
   "metadata": {
    "execution": {
     "iopub.execute_input": "2022-01-08T08:45:01.597609Z",
     "iopub.status.busy": "2022-01-08T08:45:01.597336Z",
     "iopub.status.idle": "2022-01-08T08:45:01.602861Z",
     "shell.execute_reply": "2022-01-08T08:45:01.601939Z",
     "shell.execute_reply.started": "2022-01-08T08:45:01.597582Z"
    },
    "tags": []
   },
   "outputs": [],
   "source": [
    "conditions = [\n",
    "    (grouped_profile_posts['count'] <= 2),\n",
    "    (grouped_profile_posts['count'] > 2) & (grouped_profile_posts['count'] <= 9),\n",
    "    (grouped_profile_posts['count'] > 9) & (grouped_profile_posts['count'] <= 15),\n",
    "    (grouped_profile_posts['count'] > 15)\n",
    "    ]\n",
    "\n",
    "values = ['L4', 'L3', 'L2', 'L1']"
   ]
  },
  {
   "cell_type": "code",
   "execution_count": 113,
   "id": "0eebb5b5-1e19-4e4c-839d-3cf172ea13e7",
   "metadata": {
    "execution": {
     "iopub.execute_input": "2022-01-08T08:45:02.161082Z",
     "iopub.status.busy": "2022-01-08T08:45:02.160849Z",
     "iopub.status.idle": "2022-01-08T08:45:02.164857Z",
     "shell.execute_reply": "2022-01-08T08:45:02.164235Z",
     "shell.execute_reply.started": "2022-01-08T08:45:02.161058Z"
    },
    "tags": []
   },
   "outputs": [],
   "source": [
    "grouped_profile_posts['POTENTIAL_LEAD'] = np.select(conditions, values)"
   ]
  },
  {
   "cell_type": "markdown",
   "id": "68d17abb-d20f-4f01-8a0a-cb2a0a25b9b7",
   "metadata": {},
   "source": [
    "### Get profile details based on the POST_URL above\n",
    "- Extract EMAIL, FIRSTNAME & LASTNAME from outputs of below cell"
   ]
  },
  {
   "cell_type": "code",
   "execution_count": 114,
   "id": "f944cae4-4025-4cb8-909c-5d7e35969efe",
   "metadata": {
    "execution": {
     "iopub.execute_input": "2022-01-08T08:45:03.500049Z",
     "iopub.status.busy": "2022-01-08T08:45:03.499813Z",
     "iopub.status.idle": "2022-01-08T08:45:08.350987Z",
     "shell.execute_reply": "2022-01-08T08:45:08.350391Z",
     "shell.execute_reply.started": "2022-01-08T08:45:03.500025Z"
    },
    "tags": []
   },
   "outputs": [],
   "source": [
    "PROFILE_CONTACTS = linkedin.connect(LI_AT, JSESSIONID).profile.get_contact(PROFILE_URL)\n",
    "PROFILE_IDENTITY = linkedin.connect(LI_AT, JSESSIONID).profile.get_identity(PROFILE_URL)"
   ]
  },
  {
   "cell_type": "code",
   "execution_count": 115,
   "id": "7b732bca-0f79-424c-8907-1d42edea9ce1",
   "metadata": {
    "execution": {
     "iopub.execute_input": "2022-01-08T08:45:23.557923Z",
     "iopub.status.busy": "2022-01-08T08:45:23.557615Z",
     "iopub.status.idle": "2022-01-08T08:45:23.561779Z",
     "shell.execute_reply": "2022-01-08T08:45:23.561110Z",
     "shell.execute_reply.started": "2022-01-08T08:45:23.557893Z"
    },
    "tags": []
   },
   "outputs": [],
   "source": [
    "profile_Email = PROFILE_CONTACTS.at[0,'EMAIL']"
   ]
  },
  {
   "cell_type": "code",
   "execution_count": 116,
   "id": "399e9e93-676b-412f-b3fc-c0c0d65d18ea",
   "metadata": {
    "execution": {
     "iopub.execute_input": "2022-01-08T08:45:24.022673Z",
     "iopub.status.busy": "2022-01-08T08:45:24.022382Z",
     "iopub.status.idle": "2022-01-08T08:45:24.033658Z",
     "shell.execute_reply": "2022-01-08T08:45:24.032956Z",
     "shell.execute_reply.started": "2022-01-08T08:45:24.022642Z"
    },
    "tags": []
   },
   "outputs": [],
   "source": [
    "profile_Name = PROFILE_IDENTITY.at[0,'FIRSTNAME'] + \" \"+ PROFILE_IDENTITY.at[0,'LASTNAME']"
   ]
  },
  {
   "cell_type": "markdown",
   "id": "495514a3-e3f1-4960-ad21-fb56d66e6e21",
   "metadata": {
    "execution": {
     "iopub.execute_input": "2022-01-08T06:13:06.085171Z",
     "iopub.status.busy": "2022-01-08T06:13:06.084876Z",
     "iopub.status.idle": "2022-01-08T06:13:06.104386Z",
     "shell.execute_reply": "2022-01-08T06:13:06.102609Z",
     "shell.execute_reply.started": "2022-01-08T06:13:06.085138Z"
    }
   },
   "source": [
    "- filter output based on L1, L2, & L3 levels and get profile details of potential leads and add to a list"
   ]
  },
  {
   "cell_type": "code",
   "execution_count": 117,
   "id": "f9067787-53d3-4046-887e-66b78e183218",
   "metadata": {
    "execution": {
     "iopub.execute_input": "2022-01-08T08:45:26.173991Z",
     "iopub.status.busy": "2022-01-08T08:45:26.173755Z",
     "iopub.status.idle": "2022-01-08T08:46:28.260940Z",
     "shell.execute_reply": "2022-01-08T08:46:28.260325Z",
     "shell.execute_reply.started": "2022-01-08T08:45:26.173967Z"
    },
    "tags": []
   },
   "outputs": [],
   "source": [
    "leads_list = [];\n",
    "\n",
    "r_count = 1\n",
    "for index, row in grouped_profile_posts.iterrows():\n",
    "    if row['POTENTIAL_LEAD'] == \"L3\" or row['POTENTIAL_LEAD'] == \"L2\" or row['POTENTIAL_LEAD'] == \"L1\":\n",
    "        profileid = row['PROFILE_ID']\n",
    "        profileurl = \"https://www.linkedin.com/in/\"+profileid+\"/\"\n",
    "        PROFILECONTACTS = linkedin.connect(LI_AT, JSESSIONID).profile.get_contact(profileurl)\n",
    "        PROFILEIDENTITY = linkedin.connect(LI_AT, JSESSIONID).profile.get_identity(profileurl)\n",
    "        profileemail = PROFILECONTACTS.at[0,'EMAIL']\n",
    "        profilephoneno = PROFILE_CONTACTS.at[0,'PHONENUMBER']\n",
    "        profilename = PROFILEIDENTITY.at[0,'FIRSTNAME'] + \" \"+ PROFILEIDENTITY.at[0,'LASTNAME']\n",
    "        profilefirstname = PROFILEIDENTITY.at[0,'FIRSTNAME']\n",
    "        profilelastname = PROFILEIDENTITY.at[0,'LASTNAME']\n",
    "        profileoccupation = PROFILEIDENTITY.at[0,'OCCUPATION']\n",
    "        if profileemail != None :\n",
    "            leads_list.append([r_count,profilename,profilefirstname,profilelastname,profileemail,profilephoneno,profileoccupation,profileurl])\n",
    "            r_count = r_count + 1\n",
    "   "
   ]
  },
  {
   "cell_type": "markdown",
   "id": "9e10604f-fb16-482c-bd52-dba4ef8a6543",
   "metadata": {},
   "source": [
    "### Create contacts from linkedin likes"
   ]
  },
  {
   "cell_type": "code",
   "execution_count": 118,
   "id": "90010b11-8b92-40b1-ac32-4403130fbd38",
   "metadata": {
    "execution": {
     "iopub.execute_input": "2022-01-08T08:48:11.018216Z",
     "iopub.status.busy": "2022-01-08T08:48:11.017981Z",
     "iopub.status.idle": "2022-01-08T08:48:11.021064Z",
     "shell.execute_reply": "2022-01-08T08:48:11.020388Z",
     "shell.execute_reply.started": "2022-01-08T08:48:11.018192Z"
    },
    "tags": []
   },
   "outputs": [],
   "source": [
    "auth_token = \"HUBSPOT_API_KEY\""
   ]
  },
  {
   "cell_type": "code",
   "execution_count": 119,
   "id": "9d2689cc-1e0f-42d9-8773-ba1122df9fa1",
   "metadata": {
    "execution": {
     "iopub.execute_input": "2022-01-08T08:48:12.021808Z",
     "iopub.status.busy": "2022-01-08T08:48:12.021576Z",
     "iopub.status.idle": "2022-01-08T08:48:12.024658Z",
     "shell.execute_reply": "2022-01-08T08:48:12.024004Z",
     "shell.execute_reply.started": "2022-01-08T08:48:12.021786Z"
    },
    "tags": []
   },
   "outputs": [],
   "source": [
    "HUB_COMPANY_ID = \"COMPANY_ID\""
   ]
  },
  {
   "cell_type": "code",
   "execution_count": 120,
   "id": "9eaa5cfe-13c9-417e-b251-9b472895ab62",
   "metadata": {
    "execution": {
     "iopub.execute_input": "2022-01-08T08:48:17.610663Z",
     "iopub.status.busy": "2022-01-08T08:48:17.610337Z",
     "iopub.status.idle": "2022-01-08T08:48:17.613743Z",
     "shell.execute_reply": "2022-01-08T08:48:17.613086Z",
     "shell.execute_reply.started": "2022-01-08T08:48:17.610631Z"
    },
    "tags": []
   },
   "outputs": [],
   "source": [
    "HUB_CONTACT_URL = \"https://app.hubspot.com/contacts/\"+HUB_COMPANY_ID+\"/contact/\""
   ]
  },
  {
   "cell_type": "code",
   "execution_count": 121,
   "id": "7bb98974-b980-42f8-bb57-272925682227",
   "metadata": {
    "execution": {
     "iopub.execute_input": "2022-01-08T08:48:18.743858Z",
     "iopub.status.busy": "2022-01-08T08:48:18.743627Z",
     "iopub.status.idle": "2022-01-08T08:48:18.746804Z",
     "shell.execute_reply": "2022-01-08T08:48:18.746008Z",
     "shell.execute_reply.started": "2022-01-08T08:48:18.743834Z"
    },
    "tags": []
   },
   "outputs": [],
   "source": [
    "huboutput = \"\""
   ]
  },
  {
   "cell_type": "code",
   "execution_count": null,
   "id": "196132dc-5c94-4e54-91be-2f7bc1a2ecda",
   "metadata": {
    "tags": []
   },
   "outputs": [],
   "source": [
    "HS_CONTACT_ID_LIST = []\n",
    "for i in leads_list:\n",
    "        profilename = i[1]\n",
    "        profilefirstname = i[2]\n",
    "        profilelastname = i[3]\n",
    "        profileemail = i[4]\n",
    "        profilephoneno = i[5]\n",
    "        profileoccupation = i[6]\n",
    "        profileurl = i[7]\n",
    "        # With send method\n",
    "        data = {\"properties\": \n",
    "                {\n",
    "                    \"linkedinbio\": profileurl,\n",
    "                    \"firstname\": profilefirstname,\n",
    "                    \"lastname\": profilelastname,\n",
    "                    \"jobtitle\": profileoccupation,\n",
    "                    \"email\": profileemail,\n",
    "                    \"phone\": profilephoneno,\n",
    "                }\n",
    "               }\n",
    "        #print(data)\n",
    "        huboutput = hubspot.connect(auth_token).contacts.send(data)\n",
    "        HS_CONTACT_ID_LIST.append([huboutput,profileurl])"
   ]
  },
  {
   "cell_type": "markdown",
   "id": "39778dc2-266c-458a-bfaa-3f7a9e4e510c",
   "metadata": {},
   "source": [
    "## Output"
   ]
  },
  {
   "cell_type": "markdown",
   "id": "703dead5-98cf-4fe4-8ddb-342e1abcd484",
   "metadata": {},
   "source": [
    "### Create tasks for user and send email notification"
   ]
  },
  {
   "cell_type": "code",
   "execution_count": 61,
   "id": "0c9111aa-e829-4c5b-9984-de66b96cc99e",
   "metadata": {
    "execution": {
     "iopub.execute_input": "2022-01-08T08:07:02.051918Z",
     "iopub.status.busy": "2022-01-08T08:07:02.051615Z",
     "iopub.status.idle": "2022-01-08T08:07:02.056288Z",
     "shell.execute_reply": "2022-01-08T08:07:02.055689Z",
     "shell.execute_reply.started": "2022-01-08T08:07:02.051887Z"
    },
    "tags": []
   },
   "outputs": [],
   "source": [
    "from datetime import datetime, timedelta\n",
    "import requests\n",
    "import json\n",
    "\n",
    "url = \"https://api.hubapi.com/engagements/v1/engagements\"\n",
    "\n",
    "querystring = {\"hapikey\": \"HUBSPOT_API_KEY\"}\n",
    "\n",
    "tstampobj = datetime.now() + timedelta(days=10)\n",
    "tstamp = tstampobj.timestamp() * 1000"
   ]
  },
  {
   "cell_type": "code",
   "execution_count": 148,
   "id": "dd59a7bf-4304-4afd-b466-982e3df7de7c",
   "metadata": {
    "execution": {
     "iopub.execute_input": "2022-01-08T09:22:01.969296Z",
     "iopub.status.busy": "2022-01-08T09:22:01.968992Z",
     "iopub.status.idle": "2022-01-08T09:22:01.972581Z",
     "shell.execute_reply": "2022-01-08T09:22:01.971894Z",
     "shell.execute_reply.started": "2022-01-08T09:22:01.969264Z"
    }
   },
   "outputs": [],
   "source": [
    "HS_CONTACT_ASSIGN_TO_ID = \"\" #id to whom task needs to be assigned"
   ]
  },
  {
   "cell_type": "code",
   "execution_count": null,
   "id": "a5ea8d9e-63bb-4569-a306-e42878f2698a",
   "metadata": {
    "tags": []
   },
   "outputs": [],
   "source": [
    "for i in HS_CONTACT_ID_LIST:\n",
    "    hs = hubspot.connect(auth_token)\n",
    "    contact_id = i[0]\n",
    "    contact = hs.contacts.get(contact_id)\n",
    "    contact_props = contact.get('properties')\n",
    "    contact_linkedin_url = i[1]\n",
    "    hs_contact_url = HUB_CONTACT_URL + contact_id\n",
    "    payload = json.dumps({\n",
    "        \"engagement\": {\n",
    "            \"active\": 'true',\n",
    "            \"ownerId\": \"\",\n",
    "            \"type\": \"TASK\",\n",
    "            \"timestamp\": tstamp\n",
    "        },\n",
    "        \"associations\": {\n",
    "            \"contactIds\": [HS_CONTACT_ASSIGN_TO_ID],\n",
    "            \"companyIds\": [],\n",
    "            \"dealIds\": [],\n",
    "            \"ownerIds\": [],\n",
    "        },\n",
    "\n",
    "        \"metadata\": {\n",
    "            \"body\": \"Hi there, you need to contact following user & task is already assigned to you.<br/>\" + \"Name :\" +contact_props['firstname']+ contact_props['lastname'] + \" Contact URL : \" + hs_contact_url,\n",
    "            \"subject\": \"Task created for Contact ID :\"+ contact_id,\n",
    "            \"status\": \"NOT_STARTED\",\n",
    "            \"forObjectType\": \"CONTACT\"\n",
    "        }\n",
    "    });\n",
    "    headers = {\n",
    "        'Content-Type': \"application/json\",\n",
    "    }\n",
    "    response = requests.request(\"POST\", url, data=payload, headers=headers, params=querystring)\n",
    "\n",
    "    if response.status_code == 200:\n",
    "        print(\"Task created successfully for Contact ID :\",contact_id)\n",
    "        email_to = \"TO_EMAIL\" #to send the report\n",
    "        subject = \"LinkedIN Leads Alert\"\n",
    "        content = f\"<p>Hi there,</p><br/><p>A new task has been created for you with contact ID :\" + contact_id + \"</p><br/><p>Actions : <a href=\"+hs_contact_url+\">Open Hubspot Contact</a> | <a href=\"+contact_linkedin_url+\">Open LinkedIN Profile</a></p>\"\n",
    "\n",
    "        naas.notification.send(email_to=email_to, subject=subject, html=content)\n",
    "    else:\n",
    "        print(\"Could not create the task for Contact ID :\"+contact_id+\", ask for on hello@naas.ai for more details\")"
   ]
  },
  {
   "cell_type": "markdown",
   "id": "50358a73-e84a-4aa5-886e-d91c684037cc",
   "metadata": {
    "execution": {
     "iopub.execute_input": "2022-01-08T06:13:38.096463Z",
     "iopub.status.busy": "2022-01-08T06:13:38.095488Z",
     "iopub.status.idle": "2022-01-08T06:13:38.108770Z",
     "shell.execute_reply": "2022-01-08T06:13:38.107850Z",
     "shell.execute_reply.started": "2022-01-08T06:13:38.096421Z"
    }
   },
   "source": [
    "- Create a dynamic HTML table based on the leads_list generate in above cell"
   ]
  },
  {
   "cell_type": "code",
   "execution_count": 143,
   "id": "b7addbb8-b55e-4723-b5a2-b6310078a3d6",
   "metadata": {
    "execution": {
     "iopub.execute_input": "2022-01-08T01:02:23.645573Z",
     "iopub.status.busy": "2022-01-08T01:02:23.641429Z",
     "iopub.status.idle": "2022-01-08T01:02:23.657886Z",
     "shell.execute_reply": "2022-01-08T01:02:23.656161Z",
     "shell.execute_reply.started": "2022-01-08T01:02:23.645527Z"
    },
    "tags": []
   },
   "outputs": [],
   "source": [
    "leads_list_str = \"\"\n",
    "for i in leads_list:\n",
    "    leads_list_str = leads_list_str + \"<tr><td style='width: 7.04591%;'>{}\".format(i[0]) + \"</td>\" + \"<td style='width: 25%;'>\"+i[1]+\"</td>\" +\"<td style='width: 25%;'>\"+ i[2]+\"</td>\" +\"<td style='width: 25%;'>\"+ i[3]+\"</td>\" +\"</tr>\"  "
   ]
  },
  {
   "cell_type": "markdown",
   "id": "a12c6037-1a3a-4058-8fb3-7250f4a53929",
   "metadata": {},
   "source": [
    "### Display result"
   ]
  },
  {
   "cell_type": "markdown",
   "id": "c5a18266-d461-4325-abc2-7ba5b1efff05",
   "metadata": {},
   "source": [
    "- Lead information will be sent in email"
   ]
  },
  {
   "cell_type": "code",
   "execution_count": null,
   "id": "498288cc-2578-478c-973d-1b04e903b0ef",
   "metadata": {
    "tags": []
   },
   "outputs": [],
   "source": [
    "email_to = \"EMAIL_ID\" #to send the report\n",
    "subject = \"LinkedIN Leads Alert\"\n",
    "content = f\"<p>Hi there,</p><br/><p>Here is the list of the leads you generated from your posts on LinkedIN</p><br/><table style='border-collapse: collapse; width: 100%;' border='1'><tbody><tr><td style='width: 3%;'>Sr. No</td><td style='width: 25%;'>Full Name</td><td style='width: 25%;'>Email ID</td><td style='width: 25%;'>LinkedIN Profile</td></tr>\" + leads_list_str + \"</tbody></table>\" + \"<br/><p>You can see them in your Hubspot “Contact” section.</p><br/><br/><br/>Best Regards from Naas.\"\n",
    "\n",
    "naas.notification.send(email_to=email_to, subject=subject, html=content)"
   ]
  }
 ],
 "metadata": {
  "kernelspec": {
   "display_name": "Python 3",
   "language": "python",
   "name": "python3"
  },
  "language_info": {
   "codemirror_mode": {
    "name": "ipython",
    "version": 3
   },
   "file_extension": ".py",
   "mimetype": "text/x-python",
   "name": "python",
   "nbconvert_exporter": "python",
   "pygments_lexer": "ipython3",
   "version": "3.8.8"
  }
 },
 "nbformat": 4,
 "nbformat_minor": 5
}
