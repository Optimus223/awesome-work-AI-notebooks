{
 "cells": [
  {
   "cell_type": "markdown",
   "id": "pursuant-crash",
   "metadata": {
    "execution": {
     "iopub.execute_input": "2021-01-25T08:00:35.294800Z",
     "iopub.status.busy": "2021-01-25T08:00:35.294557Z",
     "iopub.status.idle": "2021-01-25T08:00:35.307281Z",
     "shell.execute_reply": "2021-01-25T08:00:35.306468Z",
     "shell.execute_reply.started": "2021-01-25T08:00:35.294775Z"
    },
    "papermill": {},
    "tags": []
   },
   "source": [
    "<img width=\"10%\" alt=\"Naas\" src=\"https://landen.imgix.net/jtci2pxwjczr/assets/5ice39g4.png?w=160\"/>"
   ]
  },
  {
   "cell_type": "markdown",
   "id": "recent-platform",
   "metadata": {
    "papermill": {},
    "tags": []
   },
   "source": [
    "<img width=\"20%\" alt=\"Naas\" src=\"https://logos-world.net/wp-content/uploads/2020/04/Linkedin-Logo.png\">"
   ]
  },
  {
   "cell_type": "markdown",
   "id": "arranged-nowhere",
   "metadata": {
    "papermill": {},
    "tags": []
   },
   "source": [
    "# LinkedIn - Get last messages\n",
    "<a href=\"https://app.naas.ai/user-redirect/naas/downloader?url=https://raw.githubusercontent.com/jupyter-naas/awesome-notebooks/master/LinkedIn/LinkedIn_get_last_messages.ipynb\" target=\"_parent\">\n",
    "<img src=\"https://img.shields.io/badge/-Open%20in%20Naas-success?labelColor=000000&logo=data:image/svg+xml;base64,PD94bWwgdmVyc2lvbj0iMS4wIiBlbmNvZGluZz0iVVRGLTgiPz4KPHN2ZyB3aWR0aD0iMTAyNHB4IiBoZWlnaHQ9IjEwMjRweCIgdmlld0JveD0iMCAwIDEwMjQgMTAyNCIgeG1sbnM9Imh0dHA6Ly93d3cudzMub3JnLzIwMDAvc3ZnIiB4bWxuczp4bGluaz0iaHR0cDovL3d3dy53My5vcmcvMTk5OS94bGluayIgdmVyc2lvbj0iMS4xIj4KIDwhLS0gR2VuZXJhdGVkIGJ5IFBpeGVsbWF0b3IgUHJvIDIuMC41IC0tPgogPGRlZnM+CiAgPHRleHQgaWQ9InN0cmluZyIgdHJhbnNmb3JtPSJtYXRyaXgoMS4wIDAuMCAwLjAgMS4wIDIyOC4wIDU0LjUpIiBmb250LWZhbWlseT0iQ29tZm9ydGFhLVJlZ3VsYXIsIENvbWZvcnRhYSIgZm9udC1zaXplPSI4MDAiIHRleHQtZGVjb3JhdGlvbj0ibm9uZSIgZmlsbD0iI2ZmZmZmZiIgeD0iMS4xOTk5OTk5OTk5OTk5ODg2IiB5PSI3MDUuMCI+bjwvdGV4dD4KIDwvZGVmcz4KIDx1c2UgaWQ9Im4iIHhsaW5rOmhyZWY9IiNzdHJpbmciLz4KPC9zdmc+Cg==\"/>\n",
    "</a>"
   ]
  },
  {
   "cell_type": "markdown",
   "id": "monthly-implement",
   "metadata": {
    "papermill": {},
    "tags": []
   },
   "source": [
    "## Get your cookies\n",
    "To take action on your behalf on a social network, Naas needs to connect as you. To do this, it needs your session cookie(s). This will give your Naas access to your social network account.\n",
    "- [Open your profile](https://www.linkedin.com/in/)\n",
    "- Right-click anywhere on the page and open \"Inspect\"\n",
    "- Locate the \"Application\" tab. Then select \"Cookies\" > Locate the cookie you're looking for = \"li_at\" and \"JSESSIONID\" :"
   ]
  },
  {
   "cell_type": "markdown",
   "id": "equal-night",
   "metadata": {
    "papermill": {},
    "tags": []
   },
   "source": [
    "<img width=\"80%\" alt=\"Naas\" src=\"https://public.naas.ai/ZmxvcmVudC0yRXJhdmVuZWwtNDBjYXNoc3RvcnktMkVjb20=/asset/4ccb0452e5717de02f550f4b87026dd0ee6ddcb4e14b898e59d31fce64b3\">"
   ]
  },
  {
   "cell_type": "markdown",
   "id": "communist-crawford",
   "metadata": {
    "execution": {
     "iopub.execute_input": "2021-05-18T16:43:20.831042Z",
     "iopub.status.busy": "2021-05-18T16:43:20.830777Z",
     "iopub.status.idle": "2021-05-18T16:43:20.836192Z",
     "shell.execute_reply": "2021-05-18T16:43:20.835659Z",
     "shell.execute_reply.started": "2021-05-18T16:43:20.830979Z"
    },
    "papermill": {},
    "tags": []
   },
   "source": [
    "## Input"
   ]
  },
  {
   "cell_type": "code",
   "execution_count": null,
   "id": "royal-supplement",
   "metadata": {
    "papermill": {},
    "tags": []
   },
   "outputs": [],
   "source": [
    "from naas_drivers import linkedin\n",
    "\n",
    "LI_AT = 'YOUR_COOKIE_LI_AT'  # EXAMPLE AQFAzQN_PLPR4wAAAXc-FCKmgiMit5FLdY1af3-2\n",
    "JSESSIONID = 'YOUR_COOKIE_JSESSIONID'  # EXAMPLE ajax:8379907400220387585"
   ]
  },
  {
   "cell_type": "markdown",
   "id": "alive-century",
   "metadata": {
    "papermill": {},
    "tags": []
   },
   "source": [
    "## Model & Output\n",
    "Get your 20 last messages and return a dataframe.<br><br>\n",
    "**Available columns :** \n",
    "- FIRSTNAME : First name\n",
    "- LASTNAME : Last name\n",
    "- OCCUPATION : Job description (headline)\n",
    "- PROFILE_PUBLIC_ID : LinkedIn ID\n",
    "- LAST_ACTIVITY : Last activity in format YYYY-MM-DD HH:MM:SS\n",
    "- LAST_READ_AT : Last message read at in format YYYY-MM-DD HH:MM:SS\n",
    "- MESSAGE_TEXT : Message content\n",
    "- MESSAGE_TYPE : Message type"
   ]
  },
  {
   "cell_type": "code",
   "execution_count": null,
   "id": "entitled-tablet",
   "metadata": {
    "papermill": {},
    "tags": []
   },
   "outputs": [],
   "source": [
    "# Get last conversations :\n",
    "df = linkedin.connect(LI_AT, JSESSIONID).get_messages()\n",
    "df"
   ]
  }
 ],
 "metadata": {
  "kernelspec": {
   "display_name": "Python 3",
   "language": "python",
   "name": "python3"
  },
  "language_info": {
   "codemirror_mode": {
    "name": "ipython",
    "version": 3
   },
   "file_extension": ".py",
   "mimetype": "text/x-python",
   "name": "python",
   "nbconvert_exporter": "python",
   "pygments_lexer": "ipython3",
   "version": "3.8.8"
  },
  "papermill": {
   "default_parameters": {},
   "environment_variables": {},
   "parameters": {},
   "version": "2.3.3"
  },
  "widgets": {
   "application/vnd.jupyter.widget-state+json": {
    "state": {},
    "version_major": 2,
    "version_minor": 0
   }
  }
 },
 "nbformat": 4,
 "nbformat_minor": 5
}