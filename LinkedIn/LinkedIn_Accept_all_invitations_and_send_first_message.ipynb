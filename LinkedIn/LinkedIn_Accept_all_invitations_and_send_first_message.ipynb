{
 "cells": [
  {
   "cell_type": "markdown",
   "id": "c706722a",
   "metadata": {},
   "source": [
    "<img width=\"10%\" alt=\"Naas\" src=\"https://landen.imgix.net/jtci2pxwjczr/assets/5ice39g4.png?w=160\"/>\n"
   ]
  },
  {
   "cell_type": "markdown",
   "id": "3cf2d443",
   "metadata": {},
   "source": [
    "# LinkedIn - Accept all LinkedIn invitations and send first message"
   ]
  },
  {
   "cell_type": "markdown",
   "id": "1f9921af",
   "metadata": {},
   "source": [
    "**Tags:** #linkedin #content #operations #automation #invitation"
   ]
  },
  {
   "cell_type": "markdown",
   "id": "a51124f7",
   "metadata": {},
   "source": [
    "**Author:** [Florent Ravenel](https://www.linkedin.com/in/ACoAABCNSioBW3YZHc2lBHVG0E_TXYWitQkmwog/)"
   ]
  },
  {
   "cell_type": "markdown",
   "id": "9c4c87e0-c6a0-4c03-82ca-fe6962f7a110",
   "metadata": {},
   "source": [
    "In this notebook, you will be able to automically accept all invitations from LinkedIn"
   ]
  },
  {
   "cell_type": "markdown",
   "id": "ce6f8812",
   "metadata": {},
   "source": [
    "## Input"
   ]
  },
  {
   "cell_type": "markdown",
   "id": "51403d71",
   "metadata": {},
   "source": [
    "### Import libraries\n"
   ]
  },
  {
   "cell_type": "code",
   "execution_count": 1,
   "id": "8adb0287",
   "metadata": {
    "execution": {
     "iopub.execute_input": "2022-04-05T08:02:18.804732Z",
     "iopub.status.busy": "2022-04-05T08:02:18.804390Z",
     "iopub.status.idle": "2022-04-05T08:02:21.159014Z",
     "shell.execute_reply": "2022-04-05T08:02:21.158382Z",
     "shell.execute_reply.started": "2022-04-05T08:02:18.804647Z"
    },
    "tags": []
   },
   "outputs": [],
   "source": [
    "from naas_drivers import linkedin\n",
    "import naas\n",
    "import pandas as pd"
   ]
  },
  {
   "cell_type": "markdown",
   "id": "5f360f35",
   "metadata": {},
   "source": [
    "### Setup LinkedIn\n",
    "\n",
    "- [Get your cookies](/d20a8e7e508e42af8a5b52e33f3dba75)"
   ]
  },
  {
   "cell_type": "code",
   "execution_count": 2,
   "id": "b3534087",
   "metadata": {
    "execution": {
     "iopub.execute_input": "2022-04-05T08:02:21.160438Z",
     "iopub.status.busy": "2022-04-05T08:02:21.160184Z",
     "iopub.status.idle": "2022-04-05T08:02:21.163717Z",
     "shell.execute_reply": "2022-04-05T08:02:21.163115Z",
     "shell.execute_reply.started": "2022-04-05T08:02:21.160406Z"
    },
    "tags": []
   },
   "outputs": [],
   "source": [
    "# Lindekin cookies\n",
    "LI_AT = \"AQEDARCNSioDe6wmAAABfqF-HR4AAAF-xYqhHlYAtSu7EZZEpFer0UZF-GLuz2DNSz4asOOyCRxPGFjenv37irMObYYgxxxxxxx\"\n",
    "JSESSIONID = \"ajax:12XXXXXXXXXXXXXXXXX\"\n",
    "\n",
    "# First message\n",
    "FIRST_MESSAGE = \"Hello, Nice to connect!\""
   ]
  },
  {
   "cell_type": "code",
   "execution_count": 3,
   "id": "13ad0cd8-05b1-4b13-9e78-9df738b1a082",
   "metadata": {
    "execution": {
     "iopub.execute_input": "2022-04-05T08:02:25.725692Z",
     "iopub.status.busy": "2022-04-05T08:02:25.725390Z",
     "iopub.status.idle": "2022-04-05T08:02:25.947993Z",
     "shell.execute_reply": "2022-04-05T08:02:25.947305Z",
     "shell.execute_reply.started": "2022-04-05T08:02:25.725664Z"
    },
    "tags": []
   },
   "outputs": [],
   "source": [
    "LI_AT = naas.secret.get(\"LI_AT\")\n",
    "JSESSIONID = naas.secret.get(\"JSESSIONID\")"
   ]
  },
  {
   "cell_type": "markdown",
   "id": "4e4d7984",
   "metadata": {},
   "source": [
    "### Setup Naas"
   ]
  },
  {
   "cell_type": "code",
   "execution_count": null,
   "id": "1739f078",
   "metadata": {},
   "outputs": [],
   "source": [
    "# Schedule your notebook every hour\n",
    "naas.scheduler.add(cron=\"0 * * * *\")\n",
    "\n",
    "#-> Uncomment the line below to remove your scheduler\n",
    "# naas.scheduler.delete()"
   ]
  },
  {
   "cell_type": "markdown",
   "id": "502127ba",
   "metadata": {},
   "source": [
    "## Model"
   ]
  },
  {
   "cell_type": "markdown",
   "id": "bd4787d3",
   "metadata": {},
   "source": [
    "### Get pending invitations"
   ]
  },
  {
   "cell_type": "code",
   "execution_count": 4,
   "id": "8b876f0b",
   "metadata": {
    "execution": {
     "iopub.execute_input": "2022-04-05T08:02:31.451702Z",
     "iopub.status.busy": "2022-04-05T08:02:31.451424Z",
     "iopub.status.idle": "2022-04-05T08:02:35.543551Z",
     "shell.execute_reply": "2022-04-05T08:02:35.542978Z",
     "shell.execute_reply.started": "2022-04-05T08:02:31.451670Z"
    },
    "tags": []
   },
   "outputs": [
    {
     "data": {
      "text/html": [
       "<div>\n",
       "<style scoped>\n",
       "    .dataframe tbody tr th:only-of-type {\n",
       "        vertical-align: middle;\n",
       "    }\n",
       "\n",
       "    .dataframe tbody tr th {\n",
       "        vertical-align: top;\n",
       "    }\n",
       "\n",
       "    .dataframe thead th {\n",
       "        text-align: right;\n",
       "    }\n",
       "</style>\n",
       "<table border=\"1\" class=\"dataframe\">\n",
       "  <thead>\n",
       "    <tr style=\"text-align: right;\">\n",
       "      <th></th>\n",
       "      <th>PROFILE_ID</th>\n",
       "      <th>PUBLIC_ID</th>\n",
       "      <th>FIRSTNAME</th>\n",
       "      <th>LASTNAME</th>\n",
       "      <th>FULLNAME</th>\n",
       "      <th>OCCUPATION</th>\n",
       "      <th>PROFILE_PICTURE</th>\n",
       "      <th>MESSAGE</th>\n",
       "      <th>SENT_AT</th>\n",
       "      <th>UNSEEN</th>\n",
       "      <th>INVITATION_TYPE</th>\n",
       "      <th>INVITATION_DESC</th>\n",
       "      <th>INVITATION_STATUS</th>\n",
       "      <th>INVITATION_ID</th>\n",
       "      <th>SHARED_SECRET</th>\n",
       "    </tr>\n",
       "  </thead>\n",
       "  <tbody>\n",
       "    <tr>\n",
       "      <th>0</th>\n",
       "      <td>ACoAAB45mmMBZTKv30NKmXayIB3WzBGe75lDNB0</td>\n",
       "      <td>muhtasham</td>\n",
       "      <td>Muhtasham</td>\n",
       "      <td>Oblokulov</td>\n",
       "      <td>Muhtasham Oblokulov</td>\n",
       "      <td>NLP at Alyne | MSc at TUM | Multi-Task Learnin...</td>\n",
       "      <td>https://media-exp1.licdn.com/dms/image/C4E03AQ...</td>\n",
       "      <td>None</td>\n",
       "      <td>2022-04-02 10:13:06</td>\n",
       "      <td>False</td>\n",
       "      <td>Profile</td>\n",
       "      <td>Invitation • 2022-04-02 10:13:06</td>\n",
       "      <td>PENDING</td>\n",
       "      <td>6915964281721098240</td>\n",
       "      <td>6xubL2KM</td>\n",
       "    </tr>\n",
       "  </tbody>\n",
       "</table>\n",
       "</div>"
      ],
      "text/plain": [
       "                                PROFILE_ID  PUBLIC_ID  FIRSTNAME   LASTNAME  \\\n",
       "0  ACoAAB45mmMBZTKv30NKmXayIB3WzBGe75lDNB0  muhtasham  Muhtasham  Oblokulov   \n",
       "\n",
       "              FULLNAME                                         OCCUPATION  \\\n",
       "0  Muhtasham Oblokulov  NLP at Alyne | MSc at TUM | Multi-Task Learnin...   \n",
       "\n",
       "                                     PROFILE_PICTURE MESSAGE  \\\n",
       "0  https://media-exp1.licdn.com/dms/image/C4E03AQ...    None   \n",
       "\n",
       "               SENT_AT  UNSEEN INVITATION_TYPE  \\\n",
       "0  2022-04-02 10:13:06   False         Profile   \n",
       "\n",
       "                    INVITATION_DESC INVITATION_STATUS        INVITATION_ID  \\\n",
       "0  Invitation • 2022-04-02 10:13:06           PENDING  6915964281721098240   \n",
       "\n",
       "  SHARED_SECRET  \n",
       "0      6xubL2KM  "
      ]
     },
     "execution_count": 4,
     "metadata": {},
     "output_type": "execute_result"
    }
   ],
   "source": [
    "df_pending = linkedin.connect(LI_AT, JSESSIONID).invitation.get()\n",
    "df_pending"
   ]
  },
  {
   "cell_type": "code",
   "execution_count": 10,
   "id": "0a12352e-4e54-48f2-a15e-9a5a9a6a0e6b",
   "metadata": {
    "execution": {
     "iopub.execute_input": "2022-04-04T13:24:10.848412Z",
     "iopub.status.busy": "2022-04-04T13:24:10.848181Z",
     "iopub.status.idle": "2022-04-04T13:24:11.172954Z",
     "shell.execute_reply": "2022-04-04T13:24:11.172399Z",
     "shell.execute_reply.started": "2022-04-04T13:24:10.848389Z"
    },
    "tags": []
   },
   "outputs": [
    {
     "name": "stdout",
     "output_type": "stream",
     "text": [
      "❌ Invitation ignored !\n",
      "❌ Invitation ignored !\n"
     ]
    },
    {
     "data": {
      "text/html": [
       "<div>\n",
       "<style scoped>\n",
       "    .dataframe tbody tr th:only-of-type {\n",
       "        vertical-align: middle;\n",
       "    }\n",
       "\n",
       "    .dataframe tbody tr th {\n",
       "        vertical-align: top;\n",
       "    }\n",
       "\n",
       "    .dataframe thead th {\n",
       "        text-align: right;\n",
       "    }\n",
       "</style>\n",
       "<table border=\"1\" class=\"dataframe\">\n",
       "  <thead>\n",
       "    <tr style=\"text-align: right;\">\n",
       "      <th></th>\n",
       "    </tr>\n",
       "  </thead>\n",
       "  <tbody>\n",
       "  </tbody>\n",
       "</table>\n",
       "</div>"
      ],
      "text/plain": [
       "Empty DataFrame\n",
       "Columns: []\n",
       "Index: []"
      ]
     },
     "execution_count": 10,
     "metadata": {},
     "output_type": "execute_result"
    }
   ],
   "source": [
    "linkedin.connect(LI_AT, JSESSIONID).invitation.ignore(\"6916726902791561266\", \"Fe4OlQxY\", True)"
   ]
  },
  {
   "cell_type": "code",
   "execution_count": 19,
   "id": "f56dc25a-4225-4d2a-9e8d-fe61aa96fe31",
   "metadata": {
    "execution": {
     "iopub.execute_input": "2022-04-04T13:46:49.604502Z",
     "iopub.status.busy": "2022-04-04T13:46:49.604274Z",
     "iopub.status.idle": "2022-04-04T13:46:49.909785Z",
     "shell.execute_reply": "2022-04-04T13:46:49.908797Z",
     "shell.execute_reply.started": "2022-04-04T13:46:49.604480Z"
    },
    "tags": []
   },
   "outputs": [
    {
     "ename": "JSONDecodeError",
     "evalue": "Expecting value: line 1 column 1 (char 0)",
     "output_type": "error",
     "traceback": [
      "\u001b[0;31m---------------------------------------------------------------------------\u001b[0m",
      "\u001b[0;31mJSONDecodeError\u001b[0m                           Traceback (most recent call last)",
      "\u001b[0;32m<ipython-input-19-7982d9f2e003>\u001b[0m in \u001b[0;36m<module>\u001b[0;34m\u001b[0m\n\u001b[0;32m----> 1\u001b[0;31m \u001b[0mlinkedin\u001b[0m\u001b[0;34m.\u001b[0m\u001b[0mconnect\u001b[0m\u001b[0;34m(\u001b[0m\u001b[0mLI_AT\u001b[0m\u001b[0;34m,\u001b[0m \u001b[0mJSESSIONID\u001b[0m\u001b[0;34m)\u001b[0m\u001b[0;34m.\u001b[0m\u001b[0mmessage\u001b[0m\u001b[0;34m.\u001b[0m\u001b[0msend\u001b[0m\u001b[0;34m(\u001b[0m\u001b[0;34m\"ACoAAB45mmMBZTKv30NKmXayIB3WzBGe75lDNB0\"\u001b[0m\u001b[0;34m,\u001b[0m \u001b[0mFIRST_MESSAGE\u001b[0m\u001b[0;34m)\u001b[0m\u001b[0;34m\u001b[0m\u001b[0;34m\u001b[0m\u001b[0m\n\u001b[0m",
      "\u001b[0;32m/opt/conda/lib/python3.9/site-packages/naas_drivers/tools/linkedin.py\u001b[0m in \u001b[0;36msend\u001b[0;34m(self, content, recipients_url, recipients_urn)\u001b[0m\n\u001b[1;32m    758\u001b[0m             \u001b[0mrecipients_urn\u001b[0m \u001b[0;34m=\u001b[0m \u001b[0;34m[\u001b[0m\u001b[0;34m]\u001b[0m\u001b[0;34m\u001b[0m\u001b[0;34m\u001b[0m\u001b[0m\n\u001b[1;32m    759\u001b[0m             \u001b[0;32mfor\u001b[0m \u001b[0mrecipient\u001b[0m \u001b[0;32min\u001b[0m \u001b[0mrecipients_url\u001b[0m\u001b[0;34m:\u001b[0m\u001b[0;34m\u001b[0m\u001b[0;34m\u001b[0m\u001b[0m\n\u001b[0;32m--> 760\u001b[0;31m                 \u001b[0mrecipient_urn\u001b[0m \u001b[0;34m=\u001b[0m \u001b[0mLinkedIn\u001b[0m\u001b[0;34m.\u001b[0m\u001b[0mget_profile_urn\u001b[0m\u001b[0;34m(\u001b[0m\u001b[0mself\u001b[0m\u001b[0;34m,\u001b[0m \u001b[0mrecipient\u001b[0m\u001b[0;34m)\u001b[0m\u001b[0;34m\u001b[0m\u001b[0;34m\u001b[0m\u001b[0m\n\u001b[0m\u001b[1;32m    761\u001b[0m                 \u001b[0;32mif\u001b[0m \u001b[0mtype\u001b[0m\u001b[0;34m(\u001b[0m\u001b[0mrecipient_urn\u001b[0m\u001b[0;34m)\u001b[0m \u001b[0;32mis\u001b[0m \u001b[0mrequests\u001b[0m\u001b[0;34m.\u001b[0m\u001b[0mexceptions\u001b[0m\u001b[0;34m.\u001b[0m\u001b[0mHTTPError\u001b[0m\u001b[0;34m:\u001b[0m\u001b[0;34m\u001b[0m\u001b[0;34m\u001b[0m\u001b[0m\n\u001b[1;32m    762\u001b[0m                     \u001b[0mrecipient_errors\u001b[0m\u001b[0;34m.\u001b[0m\u001b[0mappend\u001b[0m\u001b[0;34m(\u001b[0m\u001b[0mrecipient_urn\u001b[0m\u001b[0;34m)\u001b[0m\u001b[0;34m\u001b[0m\u001b[0;34m\u001b[0m\u001b[0m\n",
      "\u001b[0;32m/opt/conda/lib/python3.9/site-packages/naas_drivers/tools/linkedin.py\u001b[0m in \u001b[0;36mget_profile_urn\u001b[0;34m(self, url)\u001b[0m\n\u001b[1;32m     44\u001b[0m         \u001b[0;32mtry\u001b[0m\u001b[0;34m:\u001b[0m\u001b[0;34m\u001b[0m\u001b[0;34m\u001b[0m\u001b[0m\n\u001b[1;32m     45\u001b[0m             \u001b[0mres\u001b[0m\u001b[0;34m.\u001b[0m\u001b[0mraise_for_status\u001b[0m\u001b[0;34m(\u001b[0m\u001b[0;34m)\u001b[0m\u001b[0;34m\u001b[0m\u001b[0;34m\u001b[0m\u001b[0m\n\u001b[0;32m---> 46\u001b[0;31m             \u001b[0mres_json\u001b[0m \u001b[0;34m=\u001b[0m \u001b[0mres\u001b[0m\u001b[0;34m.\u001b[0m\u001b[0mjson\u001b[0m\u001b[0;34m(\u001b[0m\u001b[0;34m)\u001b[0m\u001b[0;34m\u001b[0m\u001b[0;34m\u001b[0m\u001b[0m\n\u001b[0m\u001b[1;32m     47\u001b[0m             return (\n\u001b[1;32m     48\u001b[0m                 \u001b[0mres_json\u001b[0m\u001b[0;34m.\u001b[0m\u001b[0mget\u001b[0m\u001b[0;34m(\u001b[0m\u001b[0;34m\"data\"\u001b[0m\u001b[0;34m,\u001b[0m \u001b[0;34m{\u001b[0m\u001b[0;34m}\u001b[0m\u001b[0;34m)\u001b[0m\u001b[0;34m\u001b[0m\u001b[0;34m\u001b[0m\u001b[0m\n",
      "\u001b[0;32m/opt/conda/lib/python3.9/site-packages/requests/models.py\u001b[0m in \u001b[0;36mjson\u001b[0;34m(self, **kwargs)\u001b[0m\n\u001b[1;32m    898\u001b[0m                     \u001b[0;31m# used.\u001b[0m\u001b[0;34m\u001b[0m\u001b[0;34m\u001b[0m\u001b[0;34m\u001b[0m\u001b[0m\n\u001b[1;32m    899\u001b[0m                     \u001b[0;32mpass\u001b[0m\u001b[0;34m\u001b[0m\u001b[0;34m\u001b[0m\u001b[0m\n\u001b[0;32m--> 900\u001b[0;31m         \u001b[0;32mreturn\u001b[0m \u001b[0mcomplexjson\u001b[0m\u001b[0;34m.\u001b[0m\u001b[0mloads\u001b[0m\u001b[0;34m(\u001b[0m\u001b[0mself\u001b[0m\u001b[0;34m.\u001b[0m\u001b[0mtext\u001b[0m\u001b[0;34m,\u001b[0m \u001b[0;34m**\u001b[0m\u001b[0mkwargs\u001b[0m\u001b[0;34m)\u001b[0m\u001b[0;34m\u001b[0m\u001b[0;34m\u001b[0m\u001b[0m\n\u001b[0m\u001b[1;32m    901\u001b[0m \u001b[0;34m\u001b[0m\u001b[0m\n\u001b[1;32m    902\u001b[0m     \u001b[0;34m@\u001b[0m\u001b[0mproperty\u001b[0m\u001b[0;34m\u001b[0m\u001b[0;34m\u001b[0m\u001b[0m\n",
      "\u001b[0;32m/opt/conda/lib/python3.9/json/__init__.py\u001b[0m in \u001b[0;36mloads\u001b[0;34m(s, cls, object_hook, parse_float, parse_int, parse_constant, object_pairs_hook, **kw)\u001b[0m\n\u001b[1;32m    344\u001b[0m             \u001b[0mparse_int\u001b[0m \u001b[0;32mis\u001b[0m \u001b[0;32mNone\u001b[0m \u001b[0;32mand\u001b[0m \u001b[0mparse_float\u001b[0m \u001b[0;32mis\u001b[0m \u001b[0;32mNone\u001b[0m \u001b[0;32mand\u001b[0m\u001b[0;34m\u001b[0m\u001b[0;34m\u001b[0m\u001b[0m\n\u001b[1;32m    345\u001b[0m             parse_constant is None and object_pairs_hook is None and not kw):\n\u001b[0;32m--> 346\u001b[0;31m         \u001b[0;32mreturn\u001b[0m \u001b[0m_default_decoder\u001b[0m\u001b[0;34m.\u001b[0m\u001b[0mdecode\u001b[0m\u001b[0;34m(\u001b[0m\u001b[0ms\u001b[0m\u001b[0;34m)\u001b[0m\u001b[0;34m\u001b[0m\u001b[0;34m\u001b[0m\u001b[0m\n\u001b[0m\u001b[1;32m    347\u001b[0m     \u001b[0;32mif\u001b[0m \u001b[0mcls\u001b[0m \u001b[0;32mis\u001b[0m \u001b[0;32mNone\u001b[0m\u001b[0;34m:\u001b[0m\u001b[0;34m\u001b[0m\u001b[0;34m\u001b[0m\u001b[0m\n\u001b[1;32m    348\u001b[0m         \u001b[0mcls\u001b[0m \u001b[0;34m=\u001b[0m \u001b[0mJSONDecoder\u001b[0m\u001b[0;34m\u001b[0m\u001b[0;34m\u001b[0m\u001b[0m\n",
      "\u001b[0;32m/opt/conda/lib/python3.9/json/decoder.py\u001b[0m in \u001b[0;36mdecode\u001b[0;34m(self, s, _w)\u001b[0m\n\u001b[1;32m    335\u001b[0m \u001b[0;34m\u001b[0m\u001b[0m\n\u001b[1;32m    336\u001b[0m         \"\"\"\n\u001b[0;32m--> 337\u001b[0;31m         \u001b[0mobj\u001b[0m\u001b[0;34m,\u001b[0m \u001b[0mend\u001b[0m \u001b[0;34m=\u001b[0m \u001b[0mself\u001b[0m\u001b[0;34m.\u001b[0m\u001b[0mraw_decode\u001b[0m\u001b[0;34m(\u001b[0m\u001b[0ms\u001b[0m\u001b[0;34m,\u001b[0m \u001b[0midx\u001b[0m\u001b[0;34m=\u001b[0m\u001b[0m_w\u001b[0m\u001b[0;34m(\u001b[0m\u001b[0ms\u001b[0m\u001b[0;34m,\u001b[0m \u001b[0;36m0\u001b[0m\u001b[0;34m)\u001b[0m\u001b[0;34m.\u001b[0m\u001b[0mend\u001b[0m\u001b[0;34m(\u001b[0m\u001b[0;34m)\u001b[0m\u001b[0;34m)\u001b[0m\u001b[0;34m\u001b[0m\u001b[0;34m\u001b[0m\u001b[0m\n\u001b[0m\u001b[1;32m    338\u001b[0m         \u001b[0mend\u001b[0m \u001b[0;34m=\u001b[0m \u001b[0m_w\u001b[0m\u001b[0;34m(\u001b[0m\u001b[0ms\u001b[0m\u001b[0;34m,\u001b[0m \u001b[0mend\u001b[0m\u001b[0;34m)\u001b[0m\u001b[0;34m.\u001b[0m\u001b[0mend\u001b[0m\u001b[0;34m(\u001b[0m\u001b[0;34m)\u001b[0m\u001b[0;34m\u001b[0m\u001b[0;34m\u001b[0m\u001b[0m\n\u001b[1;32m    339\u001b[0m         \u001b[0;32mif\u001b[0m \u001b[0mend\u001b[0m \u001b[0;34m!=\u001b[0m \u001b[0mlen\u001b[0m\u001b[0;34m(\u001b[0m\u001b[0ms\u001b[0m\u001b[0;34m)\u001b[0m\u001b[0;34m:\u001b[0m\u001b[0;34m\u001b[0m\u001b[0;34m\u001b[0m\u001b[0m\n",
      "\u001b[0;32m/opt/conda/lib/python3.9/json/decoder.py\u001b[0m in \u001b[0;36mraw_decode\u001b[0;34m(self, s, idx)\u001b[0m\n\u001b[1;32m    353\u001b[0m             \u001b[0mobj\u001b[0m\u001b[0;34m,\u001b[0m \u001b[0mend\u001b[0m \u001b[0;34m=\u001b[0m \u001b[0mself\u001b[0m\u001b[0;34m.\u001b[0m\u001b[0mscan_once\u001b[0m\u001b[0;34m(\u001b[0m\u001b[0ms\u001b[0m\u001b[0;34m,\u001b[0m \u001b[0midx\u001b[0m\u001b[0;34m)\u001b[0m\u001b[0;34m\u001b[0m\u001b[0;34m\u001b[0m\u001b[0m\n\u001b[1;32m    354\u001b[0m         \u001b[0;32mexcept\u001b[0m \u001b[0mStopIteration\u001b[0m \u001b[0;32mas\u001b[0m \u001b[0merr\u001b[0m\u001b[0;34m:\u001b[0m\u001b[0;34m\u001b[0m\u001b[0;34m\u001b[0m\u001b[0m\n\u001b[0;32m--> 355\u001b[0;31m             \u001b[0;32mraise\u001b[0m \u001b[0mJSONDecodeError\u001b[0m\u001b[0;34m(\u001b[0m\u001b[0;34m\"Expecting value\"\u001b[0m\u001b[0;34m,\u001b[0m \u001b[0ms\u001b[0m\u001b[0;34m,\u001b[0m \u001b[0merr\u001b[0m\u001b[0;34m.\u001b[0m\u001b[0mvalue\u001b[0m\u001b[0;34m)\u001b[0m \u001b[0;32mfrom\u001b[0m \u001b[0;32mNone\u001b[0m\u001b[0;34m\u001b[0m\u001b[0;34m\u001b[0m\u001b[0m\n\u001b[0m\u001b[1;32m    356\u001b[0m         \u001b[0;32mreturn\u001b[0m \u001b[0mobj\u001b[0m\u001b[0;34m,\u001b[0m \u001b[0mend\u001b[0m\u001b[0;34m\u001b[0m\u001b[0;34m\u001b[0m\u001b[0m\n",
      "\u001b[0;31mJSONDecodeError\u001b[0m: Expecting value: line 1 column 1 (char 0)"
     ]
    }
   ],
   "source": [
    "linkedin.connect(LI_AT, JSESSIONID).message.send(\"ACoAAB45mmMBZTKv30NKmXayIB3WzBGe75lDNB0\", FIRST_MESSAGE)"
   ]
  },
  {
   "cell_type": "markdown",
   "id": "d648529b",
   "metadata": {},
   "source": [
    "### Accept all pending invitations and send first message"
   ]
  },
  {
   "cell_type": "code",
   "execution_count": 17,
   "id": "2b63456d",
   "metadata": {
    "execution": {
     "iopub.execute_input": "2022-04-04T13:45:42.042264Z",
     "iopub.status.busy": "2022-04-04T13:45:42.042036Z",
     "iopub.status.idle": "2022-04-04T13:45:45.955764Z",
     "shell.execute_reply": "2022-04-04T13:45:45.954379Z",
     "shell.execute_reply.started": "2022-04-04T13:45:42.042242Z"
    },
    "tags": []
   },
   "outputs": [
    {
     "name": "stdout",
     "output_type": "stream",
     "text": [
      "🤝 Invitation accepted !\n"
     ]
    },
    {
     "ename": "TypeError",
     "evalue": "cannot concatenate object of type '<class 'requests.exceptions.HTTPError'>'; only Series and DataFrame objs are valid",
     "output_type": "error",
     "traceback": [
      "\u001b[0;31m---------------------------------------------------------------------------\u001b[0m",
      "\u001b[0;31mTypeError\u001b[0m                                 Traceback (most recent call last)",
      "\u001b[0;32m<ipython-input-17-535b59265b2e>\u001b[0m in \u001b[0;36m<module>\u001b[0;34m\u001b[0m\n\u001b[1;32m     14\u001b[0m     \u001b[0;32mreturn\u001b[0m \u001b[0mdf_accept\u001b[0m\u001b[0;34m\u001b[0m\u001b[0;34m\u001b[0m\u001b[0m\n\u001b[1;32m     15\u001b[0m \u001b[0;34m\u001b[0m\u001b[0m\n\u001b[0;32m---> 16\u001b[0;31m \u001b[0mdf_accept\u001b[0m \u001b[0;34m=\u001b[0m \u001b[0maccept_new_contact\u001b[0m\u001b[0;34m(\u001b[0m\u001b[0mdf_pending\u001b[0m\u001b[0;34m)\u001b[0m\u001b[0;34m\u001b[0m\u001b[0;34m\u001b[0m\u001b[0m\n\u001b[0m\u001b[1;32m     17\u001b[0m \u001b[0mdf_accept\u001b[0m\u001b[0;34m\u001b[0m\u001b[0;34m\u001b[0m\u001b[0m\n",
      "\u001b[0;32m<ipython-input-17-535b59265b2e>\u001b[0m in \u001b[0;36maccept_new_contact\u001b[0;34m(df)\u001b[0m\n\u001b[1;32m     10\u001b[0m         \u001b[0;32mif\u001b[0m \u001b[0mstatus\u001b[0m \u001b[0;34m==\u001b[0m \u001b[0;34m\"PENDING\"\u001b[0m\u001b[0;34m:\u001b[0m\u001b[0;34m\u001b[0m\u001b[0;34m\u001b[0m\u001b[0m\n\u001b[1;32m     11\u001b[0m             \u001b[0mtmp_df\u001b[0m \u001b[0;34m=\u001b[0m \u001b[0mlinkedin\u001b[0m\u001b[0;34m.\u001b[0m\u001b[0mconnect\u001b[0m\u001b[0;34m(\u001b[0m\u001b[0mLI_AT\u001b[0m\u001b[0;34m,\u001b[0m \u001b[0mJSESSIONID\u001b[0m\u001b[0;34m)\u001b[0m\u001b[0;34m.\u001b[0m\u001b[0minvitation\u001b[0m\u001b[0;34m.\u001b[0m\u001b[0maccept\u001b[0m\u001b[0;34m(\u001b[0m\u001b[0minvitation_id\u001b[0m\u001b[0;34m,\u001b[0m \u001b[0mshared_secret\u001b[0m\u001b[0;34m)\u001b[0m\u001b[0;34m\u001b[0m\u001b[0;34m\u001b[0m\u001b[0m\n\u001b[0;32m---> 12\u001b[0;31m             \u001b[0mdf_accept\u001b[0m \u001b[0;34m=\u001b[0m \u001b[0mpd\u001b[0m\u001b[0;34m.\u001b[0m\u001b[0mconcat\u001b[0m\u001b[0;34m(\u001b[0m\u001b[0;34m[\u001b[0m\u001b[0mdf_accept\u001b[0m\u001b[0;34m,\u001b[0m \u001b[0mtmp_df\u001b[0m\u001b[0;34m]\u001b[0m\u001b[0;34m)\u001b[0m\u001b[0;34m\u001b[0m\u001b[0;34m\u001b[0m\u001b[0m\n\u001b[0m\u001b[1;32m     13\u001b[0m             \u001b[0mlinkedin\u001b[0m\u001b[0;34m.\u001b[0m\u001b[0mconnect\u001b[0m\u001b[0;34m(\u001b[0m\u001b[0mLI_AT\u001b[0m\u001b[0;34m,\u001b[0m \u001b[0mJSESSIONID\u001b[0m\u001b[0;34m)\u001b[0m\u001b[0;34m.\u001b[0m\u001b[0mmessage\u001b[0m\u001b[0;34m.\u001b[0m\u001b[0msend\u001b[0m\u001b[0;34m(\u001b[0m\u001b[0mprofile_id\u001b[0m\u001b[0;34m,\u001b[0m \u001b[0mFIRST_MESSAGE\u001b[0m\u001b[0;34m)\u001b[0m\u001b[0;34m\u001b[0m\u001b[0;34m\u001b[0m\u001b[0m\n\u001b[1;32m     14\u001b[0m     \u001b[0;32mreturn\u001b[0m \u001b[0mdf_accept\u001b[0m\u001b[0;34m\u001b[0m\u001b[0;34m\u001b[0m\u001b[0m\n",
      "\u001b[0;32m/opt/conda/lib/python3.9/site-packages/pandas/core/reshape/concat.py\u001b[0m in \u001b[0;36mconcat\u001b[0;34m(objs, axis, join, ignore_index, keys, levels, names, verify_integrity, sort, copy)\u001b[0m\n\u001b[1;32m    283\u001b[0m     \u001b[0mValueError\u001b[0m\u001b[0;34m:\u001b[0m \u001b[0mIndexes\u001b[0m \u001b[0mhave\u001b[0m \u001b[0moverlapping\u001b[0m \u001b[0mvalues\u001b[0m\u001b[0;34m:\u001b[0m \u001b[0;34m[\u001b[0m\u001b[0;34m'a'\u001b[0m\u001b[0;34m]\u001b[0m\u001b[0;34m\u001b[0m\u001b[0;34m\u001b[0m\u001b[0m\n\u001b[1;32m    284\u001b[0m     \"\"\"\n\u001b[0;32m--> 285\u001b[0;31m     op = _Concatenator(\n\u001b[0m\u001b[1;32m    286\u001b[0m         \u001b[0mobjs\u001b[0m\u001b[0;34m,\u001b[0m\u001b[0;34m\u001b[0m\u001b[0;34m\u001b[0m\u001b[0m\n\u001b[1;32m    287\u001b[0m         \u001b[0maxis\u001b[0m\u001b[0;34m=\u001b[0m\u001b[0maxis\u001b[0m\u001b[0;34m,\u001b[0m\u001b[0;34m\u001b[0m\u001b[0;34m\u001b[0m\u001b[0m\n",
      "\u001b[0;32m/opt/conda/lib/python3.9/site-packages/pandas/core/reshape/concat.py\u001b[0m in \u001b[0;36m__init__\u001b[0;34m(self, objs, axis, join, keys, levels, names, ignore_index, verify_integrity, copy, sort)\u001b[0m\n\u001b[1;32m    368\u001b[0m                     \u001b[0;34m\"only Series and DataFrame objs are valid\"\u001b[0m\u001b[0;34m\u001b[0m\u001b[0;34m\u001b[0m\u001b[0m\n\u001b[1;32m    369\u001b[0m                 )\n\u001b[0;32m--> 370\u001b[0;31m                 \u001b[0;32mraise\u001b[0m \u001b[0mTypeError\u001b[0m\u001b[0;34m(\u001b[0m\u001b[0mmsg\u001b[0m\u001b[0;34m)\u001b[0m\u001b[0;34m\u001b[0m\u001b[0;34m\u001b[0m\u001b[0m\n\u001b[0m\u001b[1;32m    371\u001b[0m \u001b[0;34m\u001b[0m\u001b[0m\n\u001b[1;32m    372\u001b[0m             \u001b[0;31m# consolidate\u001b[0m\u001b[0;34m\u001b[0m\u001b[0;34m\u001b[0m\u001b[0;34m\u001b[0m\u001b[0m\n",
      "\u001b[0;31mTypeError\u001b[0m: cannot concatenate object of type '<class 'requests.exceptions.HTTPError'>'; only Series and DataFrame objs are valid"
     ]
    }
   ],
   "source": [
    "def accept_new_contact(df):\n",
    "    df_accept = pd.DataFrame()\n",
    "    \n",
    "    # Loop\n",
    "    for index, row in df.iterrows():\n",
    "        status = row.INVITATION_STATUS\n",
    "        invitation_id = row.INVITATION_ID\n",
    "        shared_secret = row.SHARED_SECRET\n",
    "        profile_id = row.PROFILE_ID\n",
    "        if status == \"PENDING\":\n",
    "            tmp_df = linkedin.connect(LI_AT, JSESSIONID).invitation.accept(invitation_id, shared_secret)\n",
    "            df_accept = pd.concat([df_accept, tmp_df])\n",
    "            linkedin.connect(LI_AT, JSESSIONID).message.send(profile_id, FIRST_MESSAGE)\n",
    "    return df_accept\n",
    "\n",
    "df_accept = accept_new_contact(df_pending)\n",
    "df_accept"
   ]
  },
  {
   "cell_type": "markdown",
   "id": "84cfe026",
   "metadata": {},
   "source": [
    "## Output\n"
   ]
  },
  {
   "cell_type": "markdown",
   "id": "3c213178",
   "metadata": {},
   "source": [
    "### Display result\n"
   ]
  },
  {
   "cell_type": "code",
   "execution_count": null,
   "id": "4f3d451f",
   "metadata": {},
   "outputs": [],
   "source": [
    "df_accept"
   ]
  }
 ],
 "metadata": {
  "kernelspec": {
   "display_name": "Python 3",
   "language": "python",
   "name": "python3"
  },
  "language_info": {
   "codemirror_mode": {
    "name": "ipython",
    "version": 3
   },
   "file_extension": ".py",
   "mimetype": "text/x-python",
   "name": "python",
   "nbconvert_exporter": "python",
   "pygments_lexer": "ipython3",
   "version": "3.9.6"
  }
 },
 "nbformat": 4,
 "nbformat_minor": 5
}
