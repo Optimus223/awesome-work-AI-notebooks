{
 "cells": [
  {
   "cell_type": "markdown",
   "id": "e46cda1e",
   "metadata": {
    "papermill": {},
    "tags": []
   },
   "source": [
    "<img width=\"10%\" alt=\"Naas\" src=\"https://landen.imgix.net/jtci2pxwjczr/assets/5ice39g4.png?w=160\"/>\n"
   ]
  },
  {
   "cell_type": "markdown",
   "id": "b0d4ced6",
   "metadata": {
    "papermill": {},
    "tags": []
   },
   "source": [
    "# LinkedIn - Follow content views weekly\n",
    "<a href=\"https://app.naas.ai/user-redirect/naas/downloader?url=https://raw.githubusercontent.com/jupyter-naas/awesome-notebooks/master/LinkedIn/Linkedin_Follow_content_views_from_profile.ipynb\" target=\"_parent\"><img src=\"https://naasai-public.s3.eu-west-3.amazonaws.com/open_in_naas.svg\"/></a>"
   ]
  },
  {
   "cell_type": "markdown",
   "id": "06cb7cb7",
   "metadata": {
    "papermill": {},
    "tags": []
   },
   "source": [
    "**Tags:** #linkedin #html #plotly #csv #image #content #analytics #dependency"
   ]
  },
  {
   "cell_type": "markdown",
   "id": "c64eee3c",
   "metadata": {
    "papermill": {},
    "tags": []
   },
   "source": [
    "**Author:** [Florent Ravenel](https://www.linkedin.com/in/florent-ravenel/)"
   ]
  },
  {
   "cell_type": "markdown",
   "id": "6b03e6fd-bebd-4415-8421-3b980aa3df94",
   "metadata": {
    "papermill": {},
    "tags": []
   },
   "source": [
    "This notebook follows the evolution of content views on LinkedIn."
   ]
  },
  {
   "cell_type": "markdown",
   "id": "c88305ee-e069-4588-a412-1e6d04ca7a89",
   "metadata": {},
   "source": [
    "<div class=\"alert alert-info\" role=\"info\" style=\"margin: 10px\">\n",
    "<b>Requirements:</b><br>\n",
    "To run this notebook, you must have already run <b>LinkedIn_Get_profile_posts_stats.ipynb</b> or <b>LinkedIn_Get_company_posts_stats.ipynb</b> to get your post stats in CSV.<br>\n",
    "</div>"
   ]
  },
  {
   "cell_type": "markdown",
   "id": "f65cd676",
   "metadata": {
    "papermill": {},
    "tags": []
   },
   "source": [
    "## Input"
   ]
  },
  {
   "cell_type": "markdown",
   "id": "428474ab",
   "metadata": {
    "papermill": {},
    "tags": []
   },
   "source": [
    "### Import libraries"
   ]
  },
  {
   "cell_type": "code",
   "execution_count": 1,
   "id": "6214ae90",
   "metadata": {
    "execution": {
     "iopub.execute_input": "2022-06-30T15:04:46.705768Z",
     "iopub.status.busy": "2022-06-30T15:04:46.705479Z",
     "iopub.status.idle": "2022-06-30T15:04:48.549287Z",
     "shell.execute_reply": "2022-06-30T15:04:48.548648Z",
     "shell.execute_reply.started": "2022-06-30T15:04:46.705703Z"
    },
    "papermill": {},
    "tags": []
   },
   "outputs": [],
   "source": [
    "import naas\n",
    "import pandas as pd\n",
    "from datetime import datetime\n",
    "import plotly.graph_objects as go"
   ]
  },
  {
   "cell_type": "markdown",
   "id": "5ed1bed1",
   "metadata": {
    "papermill": {},
    "tags": []
   },
   "source": [
    "### Setup Variables"
   ]
  },
  {
   "cell_type": "code",
   "execution_count": 2,
   "id": "190b8d21",
   "metadata": {
    "execution": {
     "iopub.execute_input": "2022-06-30T15:04:48.552011Z",
     "iopub.status.busy": "2022-06-30T15:04:48.551826Z",
     "iopub.status.idle": "2022-06-30T15:04:48.556364Z",
     "shell.execute_reply": "2022-06-30T15:04:48.555796Z",
     "shell.execute_reply.started": "2022-06-30T15:04:48.551991Z"
    },
    "papermill": {},
    "tags": []
   },
   "outputs": [],
   "source": [
    "# Input\n",
    "csv_input = f\"LINKEDIN_PROFILE_POSTS.csv\" # CSV path with your posts stats generated with 'LinkedIn_Get_profile_posts_stats.ipynb' or 'LinkedIn_Get_company_posts_stats.ipynb'\n",
    "TITLE = \"Views\" # Chart title\n",
    "COL_VALUE = \"VIEWS\" # Column to sum\n",
    "\n",
    "# Outputs\n",
    "name_output = \"LINKEDIN_FOLLOW_CONTENT_VIEWS_WEEKLY\"\n",
    "csv_output = f\"{name_output}.csv\"\n",
    "html_output = f\"{name_output}.html\"\n",
    "image_output = f\"{name_output}.png\""
   ]
  },
  {
   "cell_type": "markdown",
   "id": "74aeeadb",
   "metadata": {
    "papermill": {},
    "tags": []
   },
   "source": [
    "### Setup Naas dependency"
   ]
  },
  {
   "cell_type": "code",
   "execution_count": null,
   "id": "c881a0cf",
   "metadata": {
    "papermill": {},
    "tags": []
   },
   "outputs": [],
   "source": [
    "naas.dependency.add()\n",
    "\n",
    "#-> Uncomment the line below to remove your dependency\n",
    "# naas.dependency.delete()"
   ]
  },
  {
   "cell_type": "markdown",
   "id": "b3566c94",
   "metadata": {
    "papermill": {},
    "tags": []
   },
   "source": [
    "## Model"
   ]
  },
  {
   "cell_type": "markdown",
   "id": "ba2000df",
   "metadata": {
    "papermill": {},
    "tags": []
   },
   "source": [
    "### Get your posts\n",
    "Get posts feed from CSV stored in your local (Returns empty if CSV does not exist)"
   ]
  },
  {
   "cell_type": "code",
   "execution_count": 4,
   "id": "13a489d5",
   "metadata": {
    "execution": {
     "iopub.execute_input": "2022-06-30T15:06:24.714539Z",
     "iopub.status.busy": "2022-06-30T15:06:24.714302Z",
     "iopub.status.idle": "2022-06-30T15:06:24.752420Z",
     "shell.execute_reply": "2022-06-30T15:06:24.751669Z",
     "shell.execute_reply.started": "2022-06-30T15:06:24.714515Z"
    },
    "papermill": {},
    "tags": []
   },
   "outputs": [
    {
     "name": "stdout",
     "output_type": "stream",
     "text": [
      "✅ Posts fetched: 22\n"
     ]
    },
    {
     "data": {
      "text/html": [
       "<div>\n",
       "<style scoped>\n",
       "    .dataframe tbody tr th:only-of-type {\n",
       "        vertical-align: middle;\n",
       "    }\n",
       "\n",
       "    .dataframe tbody tr th {\n",
       "        vertical-align: top;\n",
       "    }\n",
       "\n",
       "    .dataframe thead th {\n",
       "        text-align: right;\n",
       "    }\n",
       "</style>\n",
       "<table border=\"1\" class=\"dataframe\">\n",
       "  <thead>\n",
       "    <tr style=\"text-align: right;\">\n",
       "      <th></th>\n",
       "      <th>ACTIVITY_ID</th>\n",
       "      <th>PAGINATION_TOKEN</th>\n",
       "      <th>PUBLISHED_DATE</th>\n",
       "      <th>AUTHOR_NAME</th>\n",
       "      <th>AUTHOR_URL</th>\n",
       "      <th>SUBDESCRIPTION</th>\n",
       "      <th>TITLE</th>\n",
       "      <th>TEXT</th>\n",
       "      <th>CHARACTER_COUNT</th>\n",
       "      <th>TAGS</th>\n",
       "      <th>...</th>\n",
       "      <th>POLL_ID</th>\n",
       "      <th>POLL_QUESTION</th>\n",
       "      <th>POLL_RESULTS</th>\n",
       "      <th>POST_URL</th>\n",
       "      <th>VIEWS</th>\n",
       "      <th>COMMENTS</th>\n",
       "      <th>LIKES</th>\n",
       "      <th>SHARES</th>\n",
       "      <th>ENGAGEMENT_SCORE</th>\n",
       "      <th>DATE_EXTRACT</th>\n",
       "    </tr>\n",
       "  </thead>\n",
       "  <tbody>\n",
       "    <tr>\n",
       "      <th>0</th>\n",
       "      <td>6947591561702473728</td>\n",
       "      <td>dXJuOmxpOmFjdGl2aXR5OjY5NDc1OTE1NjE3MDI0NzM3Mj...</td>\n",
       "      <td>2022-06-28 16:48:28+02:00</td>\n",
       "      <td>Florent Ravenel</td>\n",
       "      <td>https://www.linkedin.com/in/ACoAABCNSioBW3YZHc...</td>\n",
       "      <td>1 day ago</td>\n",
       "      <td>✏️ Are you creating content on your LinkedIn p...</td>\n",
       "      <td>✏️ Are you creating content on your LinkedIn p...</td>\n",
       "      <td>1351</td>\n",
       "      <td>#data #socialmedia #linkedin #project #buildin...</td>\n",
       "      <td>...</td>\n",
       "      <td>NaN</td>\n",
       "      <td>NaN</td>\n",
       "      <td>NaN</td>\n",
       "      <td>https://www.linkedin.com/feed/update/urn:li:ac...</td>\n",
       "      <td>2310</td>\n",
       "      <td>19</td>\n",
       "      <td>31</td>\n",
       "      <td>0</td>\n",
       "      <td>0.0216</td>\n",
       "      <td>2022-06-30 16:46:26</td>\n",
       "    </tr>\n",
       "  </tbody>\n",
       "</table>\n",
       "<p>1 rows × 32 columns</p>\n",
       "</div>"
      ],
      "text/plain": [
       "           ACTIVITY_ID                                   PAGINATION_TOKEN  \\\n",
       "0  6947591561702473728  dXJuOmxpOmFjdGl2aXR5OjY5NDc1OTE1NjE3MDI0NzM3Mj...   \n",
       "\n",
       "              PUBLISHED_DATE      AUTHOR_NAME  \\\n",
       "0  2022-06-28 16:48:28+02:00  Florent Ravenel   \n",
       "\n",
       "                                          AUTHOR_URL SUBDESCRIPTION  \\\n",
       "0  https://www.linkedin.com/in/ACoAABCNSioBW3YZHc...      1 day ago   \n",
       "\n",
       "                                               TITLE  \\\n",
       "0  ✏️ Are you creating content on your LinkedIn p...   \n",
       "\n",
       "                                                TEXT  CHARACTER_COUNT  \\\n",
       "0  ✏️ Are you creating content on your LinkedIn p...             1351   \n",
       "\n",
       "                                                TAGS  ...  POLL_ID  \\\n",
       "0  #data #socialmedia #linkedin #project #buildin...  ...      NaN   \n",
       "\n",
       "  POLL_QUESTION  POLL_RESULTS  \\\n",
       "0           NaN           NaN   \n",
       "\n",
       "                                            POST_URL  VIEWS COMMENTS LIKES  \\\n",
       "0  https://www.linkedin.com/feed/update/urn:li:ac...   2310       19    31   \n",
       "\n",
       "  SHARES ENGAGEMENT_SCORE         DATE_EXTRACT  \n",
       "0      0           0.0216  2022-06-30 16:46:26  \n",
       "\n",
       "[1 rows x 32 columns]"
      ]
     },
     "execution_count": 4,
     "metadata": {},
     "output_type": "execute_result"
    }
   ],
   "source": [
    "def read_csv(file_path):\n",
    "    try:\n",
    "        df = pd.read_csv(file_path)\n",
    "    except FileNotFoundError as e:\n",
    "        # Empty dataframe returned\n",
    "        return pd.DataFrame()\n",
    "    return df\n",
    "\n",
    "df_posts = read_csv(csv_input)\n",
    "print(\"✅ Posts fetched:\", len(df_posts))\n",
    "df_posts.head(1)"
   ]
  },
  {
   "cell_type": "markdown",
   "id": "7456a048",
   "metadata": {
    "papermill": {},
    "tags": []
   },
   "source": [
    "### Create trend dataframe"
   ]
  },
  {
   "cell_type": "code",
   "execution_count": 8,
   "id": "22b41e65",
   "metadata": {
    "execution": {
     "iopub.execute_input": "2022-06-30T15:10:12.008316Z",
     "iopub.status.busy": "2022-06-30T15:10:12.007996Z",
     "iopub.status.idle": "2022-06-30T15:10:12.344081Z",
     "shell.execute_reply": "2022-06-30T15:10:12.343489Z",
     "shell.execute_reply.started": "2022-06-30T15:10:12.008281Z"
    },
    "papermill": {},
    "tags": []
   },
   "outputs": [
    {
     "data": {
      "text/html": [
       "<div>\n",
       "<style scoped>\n",
       "    .dataframe tbody tr th:only-of-type {\n",
       "        vertical-align: middle;\n",
       "    }\n",
       "\n",
       "    .dataframe tbody tr th {\n",
       "        vertical-align: top;\n",
       "    }\n",
       "\n",
       "    .dataframe thead th {\n",
       "        text-align: right;\n",
       "    }\n",
       "</style>\n",
       "<table border=\"1\" class=\"dataframe\">\n",
       "  <thead>\n",
       "    <tr style=\"text-align: right;\">\n",
       "      <th></th>\n",
       "      <th>DATE</th>\n",
       "      <th>DATE_D</th>\n",
       "      <th>VALUE</th>\n",
       "      <th>VALUE_COMP</th>\n",
       "      <th>VARV</th>\n",
       "      <th>VARP</th>\n",
       "      <th>VALUE_D</th>\n",
       "      <th>VARV_D</th>\n",
       "      <th>VARP_D</th>\n",
       "      <th>TEXT</th>\n",
       "    </tr>\n",
       "  </thead>\n",
       "  <tbody>\n",
       "    <tr>\n",
       "      <th>0</th>\n",
       "      <td>202215</td>\n",
       "      <td>2022-W15</td>\n",
       "      <td>324.0</td>\n",
       "      <td>0.0</td>\n",
       "      <td>324.0</td>\n",
       "      <td>0.000000</td>\n",
       "      <td>&lt;b&gt;&lt;span style='font-family: Arial;'&gt;324&lt;/span...</td>\n",
       "      <td>+324</td>\n",
       "      <td>+0%</td>\n",
       "      <td>&lt;b&gt;&lt;span style='font-size: 14px;'&gt;2022-W15: &lt;b...</td>\n",
       "    </tr>\n",
       "    <tr>\n",
       "      <th>1</th>\n",
       "      <td>202216</td>\n",
       "      <td>2022-W16</td>\n",
       "      <td>2687.0</td>\n",
       "      <td>324.0</td>\n",
       "      <td>2363.0</td>\n",
       "      <td>7.293210</td>\n",
       "      <td>&lt;b&gt;&lt;span style='font-family: Arial;'&gt;2 687&lt;/sp...</td>\n",
       "      <td>+2 363</td>\n",
       "      <td>+729%</td>\n",
       "      <td>&lt;b&gt;&lt;span style='font-size: 14px;'&gt;2022-W16: &lt;b...</td>\n",
       "    </tr>\n",
       "    <tr>\n",
       "      <th>2</th>\n",
       "      <td>202217</td>\n",
       "      <td>2022-W17</td>\n",
       "      <td>0.0</td>\n",
       "      <td>2687.0</td>\n",
       "      <td>-2687.0</td>\n",
       "      <td>-1.000000</td>\n",
       "      <td>&lt;b&gt;&lt;span style='font-family: Arial;'&gt;0&lt;/span&gt;&lt;/b&gt;</td>\n",
       "      <td>-2 687</td>\n",
       "      <td>-100%</td>\n",
       "      <td>&lt;b&gt;&lt;span style='font-size: 14px;'&gt;2022-W17: &lt;b...</td>\n",
       "    </tr>\n",
       "    <tr>\n",
       "      <th>3</th>\n",
       "      <td>202218</td>\n",
       "      <td>2022-W18</td>\n",
       "      <td>0.0</td>\n",
       "      <td>0.0</td>\n",
       "      <td>0.0</td>\n",
       "      <td>0.000000</td>\n",
       "      <td>&lt;b&gt;&lt;span style='font-family: Arial;'&gt;0&lt;/span&gt;&lt;/b&gt;</td>\n",
       "      <td>+0</td>\n",
       "      <td>+0%</td>\n",
       "      <td>&lt;b&gt;&lt;span style='font-size: 14px;'&gt;2022-W18: &lt;b...</td>\n",
       "    </tr>\n",
       "    <tr>\n",
       "      <th>4</th>\n",
       "      <td>202219</td>\n",
       "      <td>2022-W19</td>\n",
       "      <td>5518.0</td>\n",
       "      <td>0.0</td>\n",
       "      <td>5518.0</td>\n",
       "      <td>0.000000</td>\n",
       "      <td>&lt;b&gt;&lt;span style='font-family: Arial;'&gt;5 518&lt;/sp...</td>\n",
       "      <td>+5 518</td>\n",
       "      <td>+0%</td>\n",
       "      <td>&lt;b&gt;&lt;span style='font-size: 14px;'&gt;2022-W19: &lt;b...</td>\n",
       "    </tr>\n",
       "    <tr>\n",
       "      <th>5</th>\n",
       "      <td>202220</td>\n",
       "      <td>2022-W20</td>\n",
       "      <td>3313.0</td>\n",
       "      <td>5518.0</td>\n",
       "      <td>-2205.0</td>\n",
       "      <td>-0.399601</td>\n",
       "      <td>&lt;b&gt;&lt;span style='font-family: Arial;'&gt;3 313&lt;/sp...</td>\n",
       "      <td>-2 205</td>\n",
       "      <td>-40%</td>\n",
       "      <td>&lt;b&gt;&lt;span style='font-size: 14px;'&gt;2022-W20: &lt;b...</td>\n",
       "    </tr>\n",
       "    <tr>\n",
       "      <th>6</th>\n",
       "      <td>202221</td>\n",
       "      <td>2022-W21</td>\n",
       "      <td>7192.0</td>\n",
       "      <td>3313.0</td>\n",
       "      <td>3879.0</td>\n",
       "      <td>1.170842</td>\n",
       "      <td>&lt;b&gt;&lt;span style='font-family: Arial;'&gt;7 192&lt;/sp...</td>\n",
       "      <td>+3 879</td>\n",
       "      <td>+117%</td>\n",
       "      <td>&lt;b&gt;&lt;span style='font-size: 14px;'&gt;2022-W21: &lt;b...</td>\n",
       "    </tr>\n",
       "    <tr>\n",
       "      <th>7</th>\n",
       "      <td>202222</td>\n",
       "      <td>2022-W22</td>\n",
       "      <td>4413.0</td>\n",
       "      <td>7192.0</td>\n",
       "      <td>-2779.0</td>\n",
       "      <td>-0.386402</td>\n",
       "      <td>&lt;b&gt;&lt;span style='font-family: Arial;'&gt;4 413&lt;/sp...</td>\n",
       "      <td>-2 779</td>\n",
       "      <td>-39%</td>\n",
       "      <td>&lt;b&gt;&lt;span style='font-size: 14px;'&gt;2022-W22: &lt;b...</td>\n",
       "    </tr>\n",
       "    <tr>\n",
       "      <th>8</th>\n",
       "      <td>202223</td>\n",
       "      <td>2022-W23</td>\n",
       "      <td>4064.0</td>\n",
       "      <td>4413.0</td>\n",
       "      <td>-349.0</td>\n",
       "      <td>-0.079085</td>\n",
       "      <td>&lt;b&gt;&lt;span style='font-family: Arial;'&gt;4 064&lt;/sp...</td>\n",
       "      <td>-349</td>\n",
       "      <td>-8%</td>\n",
       "      <td>&lt;b&gt;&lt;span style='font-size: 14px;'&gt;2022-W23: &lt;b...</td>\n",
       "    </tr>\n",
       "    <tr>\n",
       "      <th>9</th>\n",
       "      <td>202224</td>\n",
       "      <td>2022-W24</td>\n",
       "      <td>675.0</td>\n",
       "      <td>4064.0</td>\n",
       "      <td>-3389.0</td>\n",
       "      <td>-0.833907</td>\n",
       "      <td>&lt;b&gt;&lt;span style='font-family: Arial;'&gt;675&lt;/span...</td>\n",
       "      <td>-3 389</td>\n",
       "      <td>-83%</td>\n",
       "      <td>&lt;b&gt;&lt;span style='font-size: 14px;'&gt;2022-W24: &lt;b...</td>\n",
       "    </tr>\n",
       "    <tr>\n",
       "      <th>10</th>\n",
       "      <td>202225</td>\n",
       "      <td>2022-W25</td>\n",
       "      <td>0.0</td>\n",
       "      <td>675.0</td>\n",
       "      <td>-675.0</td>\n",
       "      <td>-1.000000</td>\n",
       "      <td>&lt;b&gt;&lt;span style='font-family: Arial;'&gt;0&lt;/span&gt;&lt;/b&gt;</td>\n",
       "      <td>-675</td>\n",
       "      <td>-100%</td>\n",
       "      <td>&lt;b&gt;&lt;span style='font-size: 14px;'&gt;2022-W25: &lt;b...</td>\n",
       "    </tr>\n",
       "    <tr>\n",
       "      <th>11</th>\n",
       "      <td>202226</td>\n",
       "      <td>2022-W26</td>\n",
       "      <td>2310.0</td>\n",
       "      <td>0.0</td>\n",
       "      <td>2310.0</td>\n",
       "      <td>0.000000</td>\n",
       "      <td>&lt;b&gt;&lt;span style='font-family: Arial;'&gt;2 310&lt;/sp...</td>\n",
       "      <td>+2 310</td>\n",
       "      <td>+0%</td>\n",
       "      <td>&lt;b&gt;&lt;span style='font-size: 14px;'&gt;2022-W26: &lt;b...</td>\n",
       "    </tr>\n",
       "  </tbody>\n",
       "</table>\n",
       "</div>"
      ],
      "text/plain": [
       "      DATE    DATE_D   VALUE  VALUE_COMP    VARV      VARP  \\\n",
       "0   202215  2022-W15   324.0         0.0   324.0  0.000000   \n",
       "1   202216  2022-W16  2687.0       324.0  2363.0  7.293210   \n",
       "2   202217  2022-W17     0.0      2687.0 -2687.0 -1.000000   \n",
       "3   202218  2022-W18     0.0         0.0     0.0  0.000000   \n",
       "4   202219  2022-W19  5518.0         0.0  5518.0  0.000000   \n",
       "5   202220  2022-W20  3313.0      5518.0 -2205.0 -0.399601   \n",
       "6   202221  2022-W21  7192.0      3313.0  3879.0  1.170842   \n",
       "7   202222  2022-W22  4413.0      7192.0 -2779.0 -0.386402   \n",
       "8   202223  2022-W23  4064.0      4413.0  -349.0 -0.079085   \n",
       "9   202224  2022-W24   675.0      4064.0 -3389.0 -0.833907   \n",
       "10  202225  2022-W25     0.0       675.0  -675.0 -1.000000   \n",
       "11  202226  2022-W26  2310.0         0.0  2310.0  0.000000   \n",
       "\n",
       "                                              VALUE_D  VARV_D VARP_D  \\\n",
       "0   <b><span style='font-family: Arial;'>324</span...    +324    +0%   \n",
       "1   <b><span style='font-family: Arial;'>2 687</sp...  +2 363  +729%   \n",
       "2   <b><span style='font-family: Arial;'>0</span></b>  -2 687  -100%   \n",
       "3   <b><span style='font-family: Arial;'>0</span></b>      +0    +0%   \n",
       "4   <b><span style='font-family: Arial;'>5 518</sp...  +5 518    +0%   \n",
       "5   <b><span style='font-family: Arial;'>3 313</sp...  -2 205   -40%   \n",
       "6   <b><span style='font-family: Arial;'>7 192</sp...  +3 879  +117%   \n",
       "7   <b><span style='font-family: Arial;'>4 413</sp...  -2 779   -39%   \n",
       "8   <b><span style='font-family: Arial;'>4 064</sp...    -349    -8%   \n",
       "9   <b><span style='font-family: Arial;'>675</span...  -3 389   -83%   \n",
       "10  <b><span style='font-family: Arial;'>0</span></b>    -675  -100%   \n",
       "11  <b><span style='font-family: Arial;'>2 310</sp...  +2 310    +0%   \n",
       "\n",
       "                                                 TEXT  \n",
       "0   <b><span style='font-size: 14px;'>2022-W15: <b...  \n",
       "1   <b><span style='font-size: 14px;'>2022-W16: <b...  \n",
       "2   <b><span style='font-size: 14px;'>2022-W17: <b...  \n",
       "3   <b><span style='font-size: 14px;'>2022-W18: <b...  \n",
       "4   <b><span style='font-size: 14px;'>2022-W19: <b...  \n",
       "5   <b><span style='font-size: 14px;'>2022-W20: <b...  \n",
       "6   <b><span style='font-size: 14px;'>2022-W21: <b...  \n",
       "7   <b><span style='font-size: 14px;'>2022-W22: <b...  \n",
       "8   <b><span style='font-size: 14px;'>2022-W23: <b...  \n",
       "9   <b><span style='font-size: 14px;'>2022-W24: <b...  \n",
       "10  <b><span style='font-size: 14px;'>2022-W25: <b...  \n",
       "11  <b><span style='font-size: 14px;'>2022-W26: <b...  "
      ]
     },
     "execution_count": 8,
     "metadata": {},
     "output_type": "execute_result"
    }
   ],
   "source": [
    "DATE_FORMAT = \"%Y-%m-%d\"\n",
    "PERIOD = \"%Y%U\"\n",
    "PERIOD_D = \"%Y-W%U\"\n",
    "PERIOD_TEXT = \"This week\"\n",
    "\n",
    "def get_trend(df_init,\n",
    "              col_date,\n",
    "              col_value,\n",
    "              agg_value,\n",
    "              period_rolling=12):\n",
    "    # Init variable\n",
    "    df = df_init.copy()\n",
    "    \n",
    "    # Groupby period\n",
    "    if isinstance(col_value, list):\n",
    "        df[\"VALUE\"] = 0\n",
    "        for c in col_value:\n",
    "            df[c] = df[c].astype(float)\n",
    "            df[\"VALUE\"] = df[\"VALUE\"] + df[c]    \n",
    "        col_value = \"VALUE\"\n",
    "    elif agg_value == \"sum\":\n",
    "        df[col_value] = df[col_value].astype(float)\n",
    "    df[col_date] = pd.to_datetime(df[col_date].str[:-6]).dt.strftime(DATE_FORMAT)\n",
    "    df = df.groupby(col_date, as_index=False).agg({col_value: agg_value})\n",
    "    \n",
    "    # Rename column\n",
    "    to_rename = {\n",
    "        col_date: \"DATE_ISO\",\n",
    "        col_value: \"VALUE\"\n",
    "    }\n",
    "    df = df.rename(columns=to_rename)\n",
    "    \n",
    "    # Reindex value\n",
    "    d = datetime.now().date()\n",
    "    d2 = df.loc[df.index[0], \"DATE_ISO\"]\n",
    "    idx = pd.date_range(d2, d, freq = \"D\")    \n",
    "    df.set_index(\"DATE_ISO\", drop=True, inplace=True)\n",
    "    df.index = pd.DatetimeIndex(df.index)\n",
    "    df = df.reindex(idx, fill_value=0)\n",
    "    df[\"DATE_ISO\"] = pd.DatetimeIndex(df.index)\n",
    "    \n",
    "    # Groupby month\n",
    "    df[\"DATE\"] = pd.to_datetime(df[\"DATE_ISO\"], format=DATE_FORMAT).dt.strftime(PERIOD)\n",
    "    # Plotly: Date display\n",
    "    df[\"DATE_D\"] = pd.to_datetime(df[\"DATE_ISO\"], format=DATE_FORMAT).dt.strftime(PERIOD_D)\n",
    "    df = df.groupby([\"DATE\", \"DATE_D\"], as_index=False).agg({\"VALUE\": agg_value})\n",
    "\n",
    "    # Calc variation\n",
    "    for index, row in df.iterrows():\n",
    "        if index > 0:\n",
    "            n = df.loc[df.index[index], \"VALUE\"]\n",
    "            n_1 = df.loc[df.index[index-1], \"VALUE\"]\n",
    "            df.loc[df.index[index], \"VALUE_COMP\"] = n_1\n",
    "            df.loc[df.index[index], \"VARV\"] = n - n_1\n",
    "            if n_1 > 0:\n",
    "                df.loc[df.index[index], \"VARP\"] = (n - n_1) / abs(n_1)\n",
    "    df = df.fillna(0)\n",
    "    \n",
    "    # Plotly: Value display\n",
    "    df[\"VALUE_D\"] = \"<b><span style='font-family: Arial;'>\" + df[\"VALUE\"].map(\"{:,.0f}\".format).str.replace(\",\", \" \") + \"</span></b>\"\n",
    "    \n",
    "    # Plotly: Variation display\n",
    "    df[\"VARV_D\"] = df[\"VARV\"].map(\"{:,.0f}\".format).str.replace(\",\", \" \")\n",
    "    df.loc[df[\"VARV\"] >= 0, \"VARV_D\"] = \"+\" + df[\"VARV_D\"]\n",
    "    df[\"VARP_D\"] = df[\"VARP\"].map(\"{:,.0%}\".format).str.replace(\",\", \" \")\n",
    "    df.loc[df[\"VARP\"] >= 0, \"VARP_D\"] = \"+\" + df[\"VARP_D\"]\n",
    "    \n",
    "    # Plotly: hovertext\n",
    "    df[\"TEXT\"] = (\"<b><span style='font-size: 14px;'>\" + df[\"DATE_D\"].astype(str) + \": \" + df[\"VALUE_D\"] + \"</span></b><br>\"\n",
    "                  \"<span style='font-size: 12px;'>\" + f\"{PERIOD_TEXT}: \" + df[\"VARV_D\"] + \" (\" + df[\"VARP_D\"] + \")</span>\")\n",
    "    \n",
    "    # Return month rolling\n",
    "    return df[-period_rolling:].reset_index(drop=True)\n",
    "\n",
    "df_trend = get_trend(df_posts,\n",
    "                     col_date=\"PUBLISHED_DATE\",\n",
    "                     col_value=COL_VALUE,\n",
    "                     agg_value=\"sum\")\n",
    "df_trend"
   ]
  },
  {
   "cell_type": "markdown",
   "id": "c8083216",
   "metadata": {
    "papermill": {},
    "tags": []
   },
   "source": [
    "## Output"
   ]
  },
  {
   "cell_type": "markdown",
   "id": "a474cc49",
   "metadata": {
    "papermill": {},
    "tags": []
   },
   "source": [
    "### Display linechart"
   ]
  },
  {
   "cell_type": "code",
   "execution_count": 9,
   "id": "1e553642",
   "metadata": {
    "execution": {
     "iopub.execute_input": "2022-06-30T15:10:15.810816Z",
     "iopub.status.busy": "2022-06-30T15:10:15.810578Z",
     "iopub.status.idle": "2022-06-30T15:10:15.848652Z",
     "shell.execute_reply": "2022-06-30T15:10:15.847943Z",
     "shell.execute_reply.started": "2022-06-30T15:10:15.810792Z"
    },
    "papermill": {},
    "tags": []
   },
   "outputs": [
    {
     "data": {
      "application/vnd.plotly.v1+json": {
       "config": {
        "plotlyServerURL": "https://plot.ly"
       },
       "data": [
        {
         "hoverinfo": "text",
         "hovertext": [
          "<b><span style='font-size: 14px;'>2022-W15: <b><span style='font-family: Arial;'>324</span></b></span></b><br><span style='font-size: 12px;'>This week: +324 (+0%)</span>",
          "<b><span style='font-size: 14px;'>2022-W16: <b><span style='font-family: Arial;'>2 687</span></b></span></b><br><span style='font-size: 12px;'>This week: +2 363 (+729%)</span>",
          "<b><span style='font-size: 14px;'>2022-W17: <b><span style='font-family: Arial;'>0</span></b></span></b><br><span style='font-size: 12px;'>This week: -2 687 (-100%)</span>",
          "<b><span style='font-size: 14px;'>2022-W18: <b><span style='font-family: Arial;'>0</span></b></span></b><br><span style='font-size: 12px;'>This week: +0 (+0%)</span>",
          "<b><span style='font-size: 14px;'>2022-W19: <b><span style='font-family: Arial;'>5 518</span></b></span></b><br><span style='font-size: 12px;'>This week: +5 518 (+0%)</span>",
          "<b><span style='font-size: 14px;'>2022-W20: <b><span style='font-family: Arial;'>3 313</span></b></span></b><br><span style='font-size: 12px;'>This week: -2 205 (-40%)</span>",
          "<b><span style='font-size: 14px;'>2022-W21: <b><span style='font-family: Arial;'>7 192</span></b></span></b><br><span style='font-size: 12px;'>This week: +3 879 (+117%)</span>",
          "<b><span style='font-size: 14px;'>2022-W22: <b><span style='font-family: Arial;'>4 413</span></b></span></b><br><span style='font-size: 12px;'>This week: -2 779 (-39%)</span>",
          "<b><span style='font-size: 14px;'>2022-W23: <b><span style='font-family: Arial;'>4 064</span></b></span></b><br><span style='font-size: 12px;'>This week: -349 (-8%)</span>",
          "<b><span style='font-size: 14px;'>2022-W24: <b><span style='font-family: Arial;'>675</span></b></span></b><br><span style='font-size: 12px;'>This week: -3 389 (-83%)</span>",
          "<b><span style='font-size: 14px;'>2022-W25: <b><span style='font-family: Arial;'>0</span></b></span></b><br><span style='font-size: 12px;'>This week: -675 (-100%)</span>",
          "<b><span style='font-size: 14px;'>2022-W26: <b><span style='font-family: Arial;'>2 310</span></b></span></b><br><span style='font-size: 12px;'>This week: +2 310 (+0%)</span>"
         ],
         "marker": {
          "color": "#1293d2"
         },
         "showlegend": false,
         "text": [
          "<b><span style='font-family: Arial;'>324</span></b>",
          "<b><span style='font-family: Arial;'>2 687</span></b>",
          "<b><span style='font-family: Arial;'>0</span></b>",
          "<b><span style='font-family: Arial;'>0</span></b>",
          "<b><span style='font-family: Arial;'>5 518</span></b>",
          "<b><span style='font-family: Arial;'>3 313</span></b>",
          "<b><span style='font-family: Arial;'>7 192</span></b>",
          "<b><span style='font-family: Arial;'>4 413</span></b>",
          "<b><span style='font-family: Arial;'>4 064</span></b>",
          "<b><span style='font-family: Arial;'>675</span></b>",
          "<b><span style='font-family: Arial;'>0</span></b>",
          "<b><span style='font-family: Arial;'>2 310</span></b>"
         ],
         "textposition": "outside",
         "type": "bar",
         "x": [
          "2022-W15",
          "2022-W16",
          "2022-W17",
          "2022-W18",
          "2022-W19",
          "2022-W20",
          "2022-W21",
          "2022-W22",
          "2022-W23",
          "2022-W24",
          "2022-W25",
          "2022-W26"
         ],
         "y": [
          324,
          2687,
          0,
          0,
          5518,
          3313,
          7192,
          4413,
          4064,
          675,
          0,
          2310
         ]
        }
       ],
       "layout": {
        "height": 600,
        "images": [
         {
          "sizex": 0.12,
          "sizey": 0.12,
          "source": "https://upload.wikimedia.org/wikipedia/commons/thumb/c/ca/LinkedIn_logo_initials.png/800px-LinkedIn_logo_initials.png",
          "x": 0.01,
          "xanchor": "right",
          "xref": "paper",
          "y": 1.045,
          "yanchor": "bottom",
          "yref": "paper"
         }
        ],
        "margin": {
         "pad": 10
        },
        "paper_bgcolor": "#ffffff",
        "plot_bgcolor": "#ffffff",
        "template": {
         "data": {
          "bar": [
           {
            "error_x": {
             "color": "#2a3f5f"
            },
            "error_y": {
             "color": "#2a3f5f"
            },
            "marker": {
             "line": {
              "color": "#E5ECF6",
              "width": 0.5
             },
             "pattern": {
              "fillmode": "overlay",
              "size": 10,
              "solidity": 0.2
             }
            },
            "type": "bar"
           }
          ],
          "barpolar": [
           {
            "marker": {
             "line": {
              "color": "#E5ECF6",
              "width": 0.5
             },
             "pattern": {
              "fillmode": "overlay",
              "size": 10,
              "solidity": 0.2
             }
            },
            "type": "barpolar"
           }
          ],
          "carpet": [
           {
            "aaxis": {
             "endlinecolor": "#2a3f5f",
             "gridcolor": "white",
             "linecolor": "white",
             "minorgridcolor": "white",
             "startlinecolor": "#2a3f5f"
            },
            "baxis": {
             "endlinecolor": "#2a3f5f",
             "gridcolor": "white",
             "linecolor": "white",
             "minorgridcolor": "white",
             "startlinecolor": "#2a3f5f"
            },
            "type": "carpet"
           }
          ],
          "choropleth": [
           {
            "colorbar": {
             "outlinewidth": 0,
             "ticks": ""
            },
            "type": "choropleth"
           }
          ],
          "contour": [
           {
            "colorbar": {
             "outlinewidth": 0,
             "ticks": ""
            },
            "colorscale": [
             [
              0,
              "#0d0887"
             ],
             [
              0.1111111111111111,
              "#46039f"
             ],
             [
              0.2222222222222222,
              "#7201a8"
             ],
             [
              0.3333333333333333,
              "#9c179e"
             ],
             [
              0.4444444444444444,
              "#bd3786"
             ],
             [
              0.5555555555555556,
              "#d8576b"
             ],
             [
              0.6666666666666666,
              "#ed7953"
             ],
             [
              0.7777777777777778,
              "#fb9f3a"
             ],
             [
              0.8888888888888888,
              "#fdca26"
             ],
             [
              1,
              "#f0f921"
             ]
            ],
            "type": "contour"
           }
          ],
          "contourcarpet": [
           {
            "colorbar": {
             "outlinewidth": 0,
             "ticks": ""
            },
            "type": "contourcarpet"
           }
          ],
          "heatmap": [
           {
            "colorbar": {
             "outlinewidth": 0,
             "ticks": ""
            },
            "colorscale": [
             [
              0,
              "#0d0887"
             ],
             [
              0.1111111111111111,
              "#46039f"
             ],
             [
              0.2222222222222222,
              "#7201a8"
             ],
             [
              0.3333333333333333,
              "#9c179e"
             ],
             [
              0.4444444444444444,
              "#bd3786"
             ],
             [
              0.5555555555555556,
              "#d8576b"
             ],
             [
              0.6666666666666666,
              "#ed7953"
             ],
             [
              0.7777777777777778,
              "#fb9f3a"
             ],
             [
              0.8888888888888888,
              "#fdca26"
             ],
             [
              1,
              "#f0f921"
             ]
            ],
            "type": "heatmap"
           }
          ],
          "heatmapgl": [
           {
            "colorbar": {
             "outlinewidth": 0,
             "ticks": ""
            },
            "colorscale": [
             [
              0,
              "#0d0887"
             ],
             [
              0.1111111111111111,
              "#46039f"
             ],
             [
              0.2222222222222222,
              "#7201a8"
             ],
             [
              0.3333333333333333,
              "#9c179e"
             ],
             [
              0.4444444444444444,
              "#bd3786"
             ],
             [
              0.5555555555555556,
              "#d8576b"
             ],
             [
              0.6666666666666666,
              "#ed7953"
             ],
             [
              0.7777777777777778,
              "#fb9f3a"
             ],
             [
              0.8888888888888888,
              "#fdca26"
             ],
             [
              1,
              "#f0f921"
             ]
            ],
            "type": "heatmapgl"
           }
          ],
          "histogram": [
           {
            "marker": {
             "pattern": {
              "fillmode": "overlay",
              "size": 10,
              "solidity": 0.2
             }
            },
            "type": "histogram"
           }
          ],
          "histogram2d": [
           {
            "colorbar": {
             "outlinewidth": 0,
             "ticks": ""
            },
            "colorscale": [
             [
              0,
              "#0d0887"
             ],
             [
              0.1111111111111111,
              "#46039f"
             ],
             [
              0.2222222222222222,
              "#7201a8"
             ],
             [
              0.3333333333333333,
              "#9c179e"
             ],
             [
              0.4444444444444444,
              "#bd3786"
             ],
             [
              0.5555555555555556,
              "#d8576b"
             ],
             [
              0.6666666666666666,
              "#ed7953"
             ],
             [
              0.7777777777777778,
              "#fb9f3a"
             ],
             [
              0.8888888888888888,
              "#fdca26"
             ],
             [
              1,
              "#f0f921"
             ]
            ],
            "type": "histogram2d"
           }
          ],
          "histogram2dcontour": [
           {
            "colorbar": {
             "outlinewidth": 0,
             "ticks": ""
            },
            "colorscale": [
             [
              0,
              "#0d0887"
             ],
             [
              0.1111111111111111,
              "#46039f"
             ],
             [
              0.2222222222222222,
              "#7201a8"
             ],
             [
              0.3333333333333333,
              "#9c179e"
             ],
             [
              0.4444444444444444,
              "#bd3786"
             ],
             [
              0.5555555555555556,
              "#d8576b"
             ],
             [
              0.6666666666666666,
              "#ed7953"
             ],
             [
              0.7777777777777778,
              "#fb9f3a"
             ],
             [
              0.8888888888888888,
              "#fdca26"
             ],
             [
              1,
              "#f0f921"
             ]
            ],
            "type": "histogram2dcontour"
           }
          ],
          "mesh3d": [
           {
            "colorbar": {
             "outlinewidth": 0,
             "ticks": ""
            },
            "type": "mesh3d"
           }
          ],
          "parcoords": [
           {
            "line": {
             "colorbar": {
              "outlinewidth": 0,
              "ticks": ""
             }
            },
            "type": "parcoords"
           }
          ],
          "pie": [
           {
            "automargin": true,
            "type": "pie"
           }
          ],
          "scatter": [
           {
            "fillpattern": {
             "fillmode": "overlay",
             "size": 10,
             "solidity": 0.2
            },
            "type": "scatter"
           }
          ],
          "scatter3d": [
           {
            "line": {
             "colorbar": {
              "outlinewidth": 0,
              "ticks": ""
             }
            },
            "marker": {
             "colorbar": {
              "outlinewidth": 0,
              "ticks": ""
             }
            },
            "type": "scatter3d"
           }
          ],
          "scattercarpet": [
           {
            "marker": {
             "colorbar": {
              "outlinewidth": 0,
              "ticks": ""
             }
            },
            "type": "scattercarpet"
           }
          ],
          "scattergeo": [
           {
            "marker": {
             "colorbar": {
              "outlinewidth": 0,
              "ticks": ""
             }
            },
            "type": "scattergeo"
           }
          ],
          "scattergl": [
           {
            "marker": {
             "colorbar": {
              "outlinewidth": 0,
              "ticks": ""
             }
            },
            "type": "scattergl"
           }
          ],
          "scattermapbox": [
           {
            "marker": {
             "colorbar": {
              "outlinewidth": 0,
              "ticks": ""
             }
            },
            "type": "scattermapbox"
           }
          ],
          "scatterpolar": [
           {
            "marker": {
             "colorbar": {
              "outlinewidth": 0,
              "ticks": ""
             }
            },
            "type": "scatterpolar"
           }
          ],
          "scatterpolargl": [
           {
            "marker": {
             "colorbar": {
              "outlinewidth": 0,
              "ticks": ""
             }
            },
            "type": "scatterpolargl"
           }
          ],
          "scatterternary": [
           {
            "marker": {
             "colorbar": {
              "outlinewidth": 0,
              "ticks": ""
             }
            },
            "type": "scatterternary"
           }
          ],
          "surface": [
           {
            "colorbar": {
             "outlinewidth": 0,
             "ticks": ""
            },
            "colorscale": [
             [
              0,
              "#0d0887"
             ],
             [
              0.1111111111111111,
              "#46039f"
             ],
             [
              0.2222222222222222,
              "#7201a8"
             ],
             [
              0.3333333333333333,
              "#9c179e"
             ],
             [
              0.4444444444444444,
              "#bd3786"
             ],
             [
              0.5555555555555556,
              "#d8576b"
             ],
             [
              0.6666666666666666,
              "#ed7953"
             ],
             [
              0.7777777777777778,
              "#fb9f3a"
             ],
             [
              0.8888888888888888,
              "#fdca26"
             ],
             [
              1,
              "#f0f921"
             ]
            ],
            "type": "surface"
           }
          ],
          "table": [
           {
            "cells": {
             "fill": {
              "color": "#EBF0F8"
             },
             "line": {
              "color": "white"
             }
            },
            "header": {
             "fill": {
              "color": "#C8D4E3"
             },
             "line": {
              "color": "white"
             }
            },
            "type": "table"
           }
          ]
         },
         "layout": {
          "annotationdefaults": {
           "arrowcolor": "#2a3f5f",
           "arrowhead": 0,
           "arrowwidth": 1
          },
          "autotypenumbers": "strict",
          "coloraxis": {
           "colorbar": {
            "outlinewidth": 0,
            "ticks": ""
           }
          },
          "colorscale": {
           "diverging": [
            [
             0,
             "#8e0152"
            ],
            [
             0.1,
             "#c51b7d"
            ],
            [
             0.2,
             "#de77ae"
            ],
            [
             0.3,
             "#f1b6da"
            ],
            [
             0.4,
             "#fde0ef"
            ],
            [
             0.5,
             "#f7f7f7"
            ],
            [
             0.6,
             "#e6f5d0"
            ],
            [
             0.7,
             "#b8e186"
            ],
            [
             0.8,
             "#7fbc41"
            ],
            [
             0.9,
             "#4d9221"
            ],
            [
             1,
             "#276419"
            ]
           ],
           "sequential": [
            [
             0,
             "#0d0887"
            ],
            [
             0.1111111111111111,
             "#46039f"
            ],
            [
             0.2222222222222222,
             "#7201a8"
            ],
            [
             0.3333333333333333,
             "#9c179e"
            ],
            [
             0.4444444444444444,
             "#bd3786"
            ],
            [
             0.5555555555555556,
             "#d8576b"
            ],
            [
             0.6666666666666666,
             "#ed7953"
            ],
            [
             0.7777777777777778,
             "#fb9f3a"
            ],
            [
             0.8888888888888888,
             "#fdca26"
            ],
            [
             1,
             "#f0f921"
            ]
           ],
           "sequentialminus": [
            [
             0,
             "#0d0887"
            ],
            [
             0.1111111111111111,
             "#46039f"
            ],
            [
             0.2222222222222222,
             "#7201a8"
            ],
            [
             0.3333333333333333,
             "#9c179e"
            ],
            [
             0.4444444444444444,
             "#bd3786"
            ],
            [
             0.5555555555555556,
             "#d8576b"
            ],
            [
             0.6666666666666666,
             "#ed7953"
            ],
            [
             0.7777777777777778,
             "#fb9f3a"
            ],
            [
             0.8888888888888888,
             "#fdca26"
            ],
            [
             1,
             "#f0f921"
            ]
           ]
          },
          "colorway": [
           "#636efa",
           "#EF553B",
           "#00cc96",
           "#ab63fa",
           "#FFA15A",
           "#19d3f3",
           "#FF6692",
           "#B6E880",
           "#FF97FF",
           "#FECB52"
          ],
          "font": {
           "color": "#2a3f5f"
          },
          "geo": {
           "bgcolor": "white",
           "lakecolor": "white",
           "landcolor": "#E5ECF6",
           "showlakes": true,
           "showland": true,
           "subunitcolor": "white"
          },
          "hoverlabel": {
           "align": "left"
          },
          "hovermode": "closest",
          "mapbox": {
           "style": "light"
          },
          "paper_bgcolor": "white",
          "plot_bgcolor": "#E5ECF6",
          "polar": {
           "angularaxis": {
            "gridcolor": "white",
            "linecolor": "white",
            "ticks": ""
           },
           "bgcolor": "#E5ECF6",
           "radialaxis": {
            "gridcolor": "white",
            "linecolor": "white",
            "ticks": ""
           }
          },
          "scene": {
           "xaxis": {
            "backgroundcolor": "#E5ECF6",
            "gridcolor": "white",
            "gridwidth": 2,
            "linecolor": "white",
            "showbackground": true,
            "ticks": "",
            "zerolinecolor": "white"
           },
           "yaxis": {
            "backgroundcolor": "#E5ECF6",
            "gridcolor": "white",
            "gridwidth": 2,
            "linecolor": "white",
            "showbackground": true,
            "ticks": "",
            "zerolinecolor": "white"
           },
           "zaxis": {
            "backgroundcolor": "#E5ECF6",
            "gridcolor": "white",
            "gridwidth": 2,
            "linecolor": "white",
            "showbackground": true,
            "ticks": "",
            "zerolinecolor": "white"
           }
          },
          "shapedefaults": {
           "line": {
            "color": "#2a3f5f"
           }
          },
          "ternary": {
           "aaxis": {
            "gridcolor": "white",
            "linecolor": "white",
            "ticks": ""
           },
           "baxis": {
            "gridcolor": "white",
            "linecolor": "white",
            "ticks": ""
           },
           "bgcolor": "#E5ECF6",
           "caxis": {
            "gridcolor": "white",
            "linecolor": "white",
            "ticks": ""
           }
          },
          "title": {
           "x": 0.05
          },
          "xaxis": {
           "automargin": true,
           "gridcolor": "white",
           "linecolor": "white",
           "ticks": "",
           "title": {
            "standoff": 15
           },
           "zerolinecolor": "white",
           "zerolinewidth": 2
          },
          "yaxis": {
           "automargin": true,
           "gridcolor": "white",
           "linecolor": "white",
           "ticks": "",
           "title": {
            "standoff": 15
           },
           "zerolinecolor": "white",
           "zerolinewidth": 2
          }
         }
        },
        "title": {
         "font": {
          "color": "black",
          "family": "Arial"
         },
         "text": "<b><span style='font-size: 20px;'>Views</span></b><br><span style='font-size: 18px;'>Total: 30 496 | This week: +2 310 (+0%)</span>",
         "x": 0.09
        },
        "width": 1200,
        "xaxis": {
         "autorange": true,
         "range": [
          -0.5,
          11.5
         ],
         "type": "category"
        },
        "yaxis": {
         "autorange": true,
         "range": [
          0,
          7570.526315789473
         ],
         "type": "linear"
        }
       }
      },
      "image/png": "[encoded data removed]",
      "text/html": [
       "<div>                            <div id=\"05a7f650-bd26-4efb-9072-be6ecc6e66dd\" class=\"plotly-graph-div\" style=\"height:600px; width:1200px;\"></div>            <script type=\"text/javascript\">                require([\"plotly\"], function(Plotly) {                    window.PLOTLYENV=window.PLOTLYENV || {};                                    if (document.getElementById(\"05a7f650-bd26-4efb-9072-be6ecc6e66dd\")) {                    Plotly.newPlot(                        \"05a7f650-bd26-4efb-9072-be6ecc6e66dd\",                        [{\"hoverinfo\":\"text\",\"hovertext\":[\"<b><span style='font-size: 14px;'>2022-W15: <b><span style='font-family: Arial;'>324</span></b></span></b><br><span style='font-size: 12px;'>This week: +324 (+0%)</span>\",\"<b><span style='font-size: 14px;'>2022-W16: <b><span style='font-family: Arial;'>2 687</span></b></span></b><br><span style='font-size: 12px;'>This week: +2 363 (+729%)</span>\",\"<b><span style='font-size: 14px;'>2022-W17: <b><span style='font-family: Arial;'>0</span></b></span></b><br><span style='font-size: 12px;'>This week: -2 687 (-100%)</span>\",\"<b><span style='font-size: 14px;'>2022-W18: <b><span style='font-family: Arial;'>0</span></b></span></b><br><span style='font-size: 12px;'>This week: +0 (+0%)</span>\",\"<b><span style='font-size: 14px;'>2022-W19: <b><span style='font-family: Arial;'>5 518</span></b></span></b><br><span style='font-size: 12px;'>This week: +5 518 (+0%)</span>\",\"<b><span style='font-size: 14px;'>2022-W20: <b><span style='font-family: Arial;'>3 313</span></b></span></b><br><span style='font-size: 12px;'>This week: -2 205 (-40%)</span>\",\"<b><span style='font-size: 14px;'>2022-W21: <b><span style='font-family: Arial;'>7 192</span></b></span></b><br><span style='font-size: 12px;'>This week: +3 879 (+117%)</span>\",\"<b><span style='font-size: 14px;'>2022-W22: <b><span style='font-family: Arial;'>4 413</span></b></span></b><br><span style='font-size: 12px;'>This week: -2 779 (-39%)</span>\",\"<b><span style='font-size: 14px;'>2022-W23: <b><span style='font-family: Arial;'>4 064</span></b></span></b><br><span style='font-size: 12px;'>This week: -349 (-8%)</span>\",\"<b><span style='font-size: 14px;'>2022-W24: <b><span style='font-family: Arial;'>675</span></b></span></b><br><span style='font-size: 12px;'>This week: -3 389 (-83%)</span>\",\"<b><span style='font-size: 14px;'>2022-W25: <b><span style='font-family: Arial;'>0</span></b></span></b><br><span style='font-size: 12px;'>This week: -675 (-100%)</span>\",\"<b><span style='font-size: 14px;'>2022-W26: <b><span style='font-family: Arial;'>2 310</span></b></span></b><br><span style='font-size: 12px;'>This week: +2 310 (+0%)</span>\"],\"marker\":{\"color\":\"#1293d2\"},\"text\":[\"<b><span style='font-family: Arial;'>324</span></b>\",\"<b><span style='font-family: Arial;'>2 687</span></b>\",\"<b><span style='font-family: Arial;'>0</span></b>\",\"<b><span style='font-family: Arial;'>0</span></b>\",\"<b><span style='font-family: Arial;'>5 518</span></b>\",\"<b><span style='font-family: Arial;'>3 313</span></b>\",\"<b><span style='font-family: Arial;'>7 192</span></b>\",\"<b><span style='font-family: Arial;'>4 413</span></b>\",\"<b><span style='font-family: Arial;'>4 064</span></b>\",\"<b><span style='font-family: Arial;'>675</span></b>\",\"<b><span style='font-family: Arial;'>0</span></b>\",\"<b><span style='font-family: Arial;'>2 310</span></b>\"],\"textposition\":\"outside\",\"x\":[\"2022-W15\",\"2022-W16\",\"2022-W17\",\"2022-W18\",\"2022-W19\",\"2022-W20\",\"2022-W21\",\"2022-W22\",\"2022-W23\",\"2022-W24\",\"2022-W25\",\"2022-W26\"],\"y\":[324.0,2687.0,0.0,0.0,5518.0,3313.0,7192.0,4413.0,4064.0,675.0,0.0,2310.0],\"type\":\"bar\",\"showlegend\":false}],                        {\"template\":{\"data\":{\"histogram2dcontour\":[{\"type\":\"histogram2dcontour\",\"colorbar\":{\"outlinewidth\":0,\"ticks\":\"\"},\"colorscale\":[[0.0,\"#0d0887\"],[0.1111111111111111,\"#46039f\"],[0.2222222222222222,\"#7201a8\"],[0.3333333333333333,\"#9c179e\"],[0.4444444444444444,\"#bd3786\"],[0.5555555555555556,\"#d8576b\"],[0.6666666666666666,\"#ed7953\"],[0.7777777777777778,\"#fb9f3a\"],[0.8888888888888888,\"#fdca26\"],[1.0,\"#f0f921\"]]}],\"choropleth\":[{\"type\":\"choropleth\",\"colorbar\":{\"outlinewidth\":0,\"ticks\":\"\"}}],\"histogram2d\":[{\"type\":\"histogram2d\",\"colorbar\":{\"outlinewidth\":0,\"ticks\":\"\"},\"colorscale\":[[0.0,\"#0d0887\"],[0.1111111111111111,\"#46039f\"],[0.2222222222222222,\"#7201a8\"],[0.3333333333333333,\"#9c179e\"],[0.4444444444444444,\"#bd3786\"],[0.5555555555555556,\"#d8576b\"],[0.6666666666666666,\"#ed7953\"],[0.7777777777777778,\"#fb9f3a\"],[0.8888888888888888,\"#fdca26\"],[1.0,\"#f0f921\"]]}],\"heatmap\":[{\"type\":\"heatmap\",\"colorbar\":{\"outlinewidth\":0,\"ticks\":\"\"},\"colorscale\":[[0.0,\"#0d0887\"],[0.1111111111111111,\"#46039f\"],[0.2222222222222222,\"#7201a8\"],[0.3333333333333333,\"#9c179e\"],[0.4444444444444444,\"#bd3786\"],[0.5555555555555556,\"#d8576b\"],[0.6666666666666666,\"#ed7953\"],[0.7777777777777778,\"#fb9f3a\"],[0.8888888888888888,\"#fdca26\"],[1.0,\"#f0f921\"]]}],\"heatmapgl\":[{\"type\":\"heatmapgl\",\"colorbar\":{\"outlinewidth\":0,\"ticks\":\"\"},\"colorscale\":[[0.0,\"#0d0887\"],[0.1111111111111111,\"#46039f\"],[0.2222222222222222,\"#7201a8\"],[0.3333333333333333,\"#9c179e\"],[0.4444444444444444,\"#bd3786\"],[0.5555555555555556,\"#d8576b\"],[0.6666666666666666,\"#ed7953\"],[0.7777777777777778,\"#fb9f3a\"],[0.8888888888888888,\"#fdca26\"],[1.0,\"#f0f921\"]]}],\"contourcarpet\":[{\"type\":\"contourcarpet\",\"colorbar\":{\"outlinewidth\":0,\"ticks\":\"\"}}],\"contour\":[{\"type\":\"contour\",\"colorbar\":{\"outlinewidth\":0,\"ticks\":\"\"},\"colorscale\":[[0.0,\"#0d0887\"],[0.1111111111111111,\"#46039f\"],[0.2222222222222222,\"#7201a8\"],[0.3333333333333333,\"#9c179e\"],[0.4444444444444444,\"#bd3786\"],[0.5555555555555556,\"#d8576b\"],[0.6666666666666666,\"#ed7953\"],[0.7777777777777778,\"#fb9f3a\"],[0.8888888888888888,\"#fdca26\"],[1.0,\"#f0f921\"]]}],\"surface\":[{\"type\":\"surface\",\"colorbar\":{\"outlinewidth\":0,\"ticks\":\"\"},\"colorscale\":[[0.0,\"#0d0887\"],[0.1111111111111111,\"#46039f\"],[0.2222222222222222,\"#7201a8\"],[0.3333333333333333,\"#9c179e\"],[0.4444444444444444,\"#bd3786\"],[0.5555555555555556,\"#d8576b\"],[0.6666666666666666,\"#ed7953\"],[0.7777777777777778,\"#fb9f3a\"],[0.8888888888888888,\"#fdca26\"],[1.0,\"#f0f921\"]]}],\"mesh3d\":[{\"type\":\"mesh3d\",\"colorbar\":{\"outlinewidth\":0,\"ticks\":\"\"}}],\"scatter\":[{\"fillpattern\":{\"fillmode\":\"overlay\",\"size\":10,\"solidity\":0.2},\"type\":\"scatter\"}],\"parcoords\":[{\"type\":\"parcoords\",\"line\":{\"colorbar\":{\"outlinewidth\":0,\"ticks\":\"\"}}}],\"scatterpolargl\":[{\"type\":\"scatterpolargl\",\"marker\":{\"colorbar\":{\"outlinewidth\":0,\"ticks\":\"\"}}}],\"bar\":[{\"error_x\":{\"color\":\"#2a3f5f\"},\"error_y\":{\"color\":\"#2a3f5f\"},\"marker\":{\"line\":{\"color\":\"#E5ECF6\",\"width\":0.5},\"pattern\":{\"fillmode\":\"overlay\",\"size\":10,\"solidity\":0.2}},\"type\":\"bar\"}],\"scattergeo\":[{\"type\":\"scattergeo\",\"marker\":{\"colorbar\":{\"outlinewidth\":0,\"ticks\":\"\"}}}],\"scatterpolar\":[{\"type\":\"scatterpolar\",\"marker\":{\"colorbar\":{\"outlinewidth\":0,\"ticks\":\"\"}}}],\"histogram\":[{\"marker\":{\"pattern\":{\"fillmode\":\"overlay\",\"size\":10,\"solidity\":0.2}},\"type\":\"histogram\"}],\"scattergl\":[{\"type\":\"scattergl\",\"marker\":{\"colorbar\":{\"outlinewidth\":0,\"ticks\":\"\"}}}],\"scatter3d\":[{\"type\":\"scatter3d\",\"line\":{\"colorbar\":{\"outlinewidth\":0,\"ticks\":\"\"}},\"marker\":{\"colorbar\":{\"outlinewidth\":0,\"ticks\":\"\"}}}],\"scattermapbox\":[{\"type\":\"scattermapbox\",\"marker\":{\"colorbar\":{\"outlinewidth\":0,\"ticks\":\"\"}}}],\"scatterternary\":[{\"type\":\"scatterternary\",\"marker\":{\"colorbar\":{\"outlinewidth\":0,\"ticks\":\"\"}}}],\"scattercarpet\":[{\"type\":\"scattercarpet\",\"marker\":{\"colorbar\":{\"outlinewidth\":0,\"ticks\":\"\"}}}],\"carpet\":[{\"aaxis\":{\"endlinecolor\":\"#2a3f5f\",\"gridcolor\":\"white\",\"linecolor\":\"white\",\"minorgridcolor\":\"white\",\"startlinecolor\":\"#2a3f5f\"},\"baxis\":{\"endlinecolor\":\"#2a3f5f\",\"gridcolor\":\"white\",\"linecolor\":\"white\",\"minorgridcolor\":\"white\",\"startlinecolor\":\"#2a3f5f\"},\"type\":\"carpet\"}],\"table\":[{\"cells\":{\"fill\":{\"color\":\"#EBF0F8\"},\"line\":{\"color\":\"white\"}},\"header\":{\"fill\":{\"color\":\"#C8D4E3\"},\"line\":{\"color\":\"white\"}},\"type\":\"table\"}],\"barpolar\":[{\"marker\":{\"line\":{\"color\":\"#E5ECF6\",\"width\":0.5},\"pattern\":{\"fillmode\":\"overlay\",\"size\":10,\"solidity\":0.2}},\"type\":\"barpolar\"}],\"pie\":[{\"automargin\":true,\"type\":\"pie\"}]},\"layout\":{\"autotypenumbers\":\"strict\",\"colorway\":[\"#636efa\",\"#EF553B\",\"#00cc96\",\"#ab63fa\",\"#FFA15A\",\"#19d3f3\",\"#FF6692\",\"#B6E880\",\"#FF97FF\",\"#FECB52\"],\"font\":{\"color\":\"#2a3f5f\"},\"hovermode\":\"closest\",\"hoverlabel\":{\"align\":\"left\"},\"paper_bgcolor\":\"white\",\"plot_bgcolor\":\"#E5ECF6\",\"polar\":{\"bgcolor\":\"#E5ECF6\",\"angularaxis\":{\"gridcolor\":\"white\",\"linecolor\":\"white\",\"ticks\":\"\"},\"radialaxis\":{\"gridcolor\":\"white\",\"linecolor\":\"white\",\"ticks\":\"\"}},\"ternary\":{\"bgcolor\":\"#E5ECF6\",\"aaxis\":{\"gridcolor\":\"white\",\"linecolor\":\"white\",\"ticks\":\"\"},\"baxis\":{\"gridcolor\":\"white\",\"linecolor\":\"white\",\"ticks\":\"\"},\"caxis\":{\"gridcolor\":\"white\",\"linecolor\":\"white\",\"ticks\":\"\"}},\"coloraxis\":{\"colorbar\":{\"outlinewidth\":0,\"ticks\":\"\"}},\"colorscale\":{\"sequential\":[[0.0,\"#0d0887\"],[0.1111111111111111,\"#46039f\"],[0.2222222222222222,\"#7201a8\"],[0.3333333333333333,\"#9c179e\"],[0.4444444444444444,\"#bd3786\"],[0.5555555555555556,\"#d8576b\"],[0.6666666666666666,\"#ed7953\"],[0.7777777777777778,\"#fb9f3a\"],[0.8888888888888888,\"#fdca26\"],[1.0,\"#f0f921\"]],\"sequentialminus\":[[0.0,\"#0d0887\"],[0.1111111111111111,\"#46039f\"],[0.2222222222222222,\"#7201a8\"],[0.3333333333333333,\"#9c179e\"],[0.4444444444444444,\"#bd3786\"],[0.5555555555555556,\"#d8576b\"],[0.6666666666666666,\"#ed7953\"],[0.7777777777777778,\"#fb9f3a\"],[0.8888888888888888,\"#fdca26\"],[1.0,\"#f0f921\"]],\"diverging\":[[0,\"#8e0152\"],[0.1,\"#c51b7d\"],[0.2,\"#de77ae\"],[0.3,\"#f1b6da\"],[0.4,\"#fde0ef\"],[0.5,\"#f7f7f7\"],[0.6,\"#e6f5d0\"],[0.7,\"#b8e186\"],[0.8,\"#7fbc41\"],[0.9,\"#4d9221\"],[1,\"#276419\"]]},\"xaxis\":{\"gridcolor\":\"white\",\"linecolor\":\"white\",\"ticks\":\"\",\"title\":{\"standoff\":15},\"zerolinecolor\":\"white\",\"automargin\":true,\"zerolinewidth\":2},\"yaxis\":{\"gridcolor\":\"white\",\"linecolor\":\"white\",\"ticks\":\"\",\"title\":{\"standoff\":15},\"zerolinecolor\":\"white\",\"automargin\":true,\"zerolinewidth\":2},\"scene\":{\"xaxis\":{\"backgroundcolor\":\"#E5ECF6\",\"gridcolor\":\"white\",\"linecolor\":\"white\",\"showbackground\":true,\"ticks\":\"\",\"zerolinecolor\":\"white\",\"gridwidth\":2},\"yaxis\":{\"backgroundcolor\":\"#E5ECF6\",\"gridcolor\":\"white\",\"linecolor\":\"white\",\"showbackground\":true,\"ticks\":\"\",\"zerolinecolor\":\"white\",\"gridwidth\":2},\"zaxis\":{\"backgroundcolor\":\"#E5ECF6\",\"gridcolor\":\"white\",\"linecolor\":\"white\",\"showbackground\":true,\"ticks\":\"\",\"zerolinecolor\":\"white\",\"gridwidth\":2}},\"shapedefaults\":{\"line\":{\"color\":\"#2a3f5f\"}},\"annotationdefaults\":{\"arrowcolor\":\"#2a3f5f\",\"arrowhead\":0,\"arrowwidth\":1},\"geo\":{\"bgcolor\":\"white\",\"landcolor\":\"#E5ECF6\",\"subunitcolor\":\"white\",\"showland\":true,\"showlakes\":true,\"lakecolor\":\"white\"},\"title\":{\"x\":0.05},\"mapbox\":{\"style\":\"light\"}}},\"images\":[{\"sizex\":0.12,\"sizey\":0.12,\"source\":\"https://upload.wikimedia.org/wikipedia/commons/thumb/c/ca/LinkedIn_logo_initials.png/800px-LinkedIn_logo_initials.png\",\"x\":0.01,\"xanchor\":\"right\",\"xref\":\"paper\",\"y\":1.045,\"yanchor\":\"bottom\",\"yref\":\"paper\"}],\"title\":{\"text\":\"<b><span style='font-size: 20px;'>Views</span></b><br><span style='font-size: 18px;'>Total: 30 496 | This week: +2 310 (+0%)</span>\",\"x\":0.09,\"font\":{\"family\":\"Arial\",\"color\":\"black\"}},\"margin\":{\"pad\":10},\"paper_bgcolor\":\"#ffffff\",\"plot_bgcolor\":\"#ffffff\",\"width\":1200,\"height\":600},                        {\"responsive\": true}                    ).then(function(){\n",
       "                            \n",
       "var gd = document.getElementById('05a7f650-bd26-4efb-9072-be6ecc6e66dd');\n",
       "var x = new MutationObserver(function (mutations, observer) {{\n",
       "        var display = window.getComputedStyle(gd).display;\n",
       "        if (!display || display === 'none') {{\n",
       "            console.log([gd, 'removed!']);\n",
       "            Plotly.purge(gd);\n",
       "            observer.disconnect();\n",
       "        }}\n",
       "}});\n",
       "\n",
       "// Listen for the removal of the full notebook cells\n",
       "var notebookContainer = gd.closest('#notebook-container');\n",
       "if (notebookContainer) {{\n",
       "    x.observe(notebookContainer, {childList: true});\n",
       "}}\n",
       "\n",
       "// Listen for the clearing of the current output cell\n",
       "var outputEl = gd.closest('.output');\n",
       "if (outputEl) {{\n",
       "    x.observe(outputEl, {childList: true});\n",
       "}}\n",
       "\n",
       "                        })                };                });            </script>        </div>"
      ]
     },
     "metadata": {},
     "output_type": "display_data"
    }
   ],
   "source": [
    "LOGO = \"https://upload.wikimedia.org/wikipedia/commons/thumb/c/ca/LinkedIn_logo_initials.png/800px-LinkedIn_logo_initials.png\" # Chart logo\n",
    "COLOR = \"#1293d2\" # Chart primary color\n",
    "\n",
    "def create_barchart(df,\n",
    "                    label=\"DATE_D\",\n",
    "                    value=\"VALUE\",\n",
    "                    value_d=\"VALUE_D\",\n",
    "                    text=\"TEXT\"):\n",
    "    # Init\n",
    "    fig = go.Figure()\n",
    "    \n",
    "    # Create fig\n",
    "    fig.add_trace(\n",
    "        go.Bar(\n",
    "            x=df[label],\n",
    "            y=df[value],\n",
    "            text=df[value_d],\n",
    "            textposition=\"outside\",\n",
    "            hoverinfo=\"text\",\n",
    "            hovertext=df[text],\n",
    "            marker=dict(color=COLOR)\n",
    "        )\n",
    "    )\n",
    "    # Add logo\n",
    "    fig.add_layout_image(\n",
    "        dict(\n",
    "            source=LOGO,\n",
    "            xref=\"paper\",\n",
    "            yref=\"paper\",\n",
    "            x=0.01,\n",
    "            y=1.045,\n",
    "            sizex=0.12,\n",
    "            sizey=0.12,\n",
    "            xanchor=\"right\",\n",
    "            yanchor=\"bottom\"\n",
    "        )\n",
    "    )\n",
    "    fig.update_traces(showlegend=False)\n",
    "    # Plotly: Create title\n",
    "    total_value = \"{:,.0f}\".format(df[value].sum()).replace(\",\", \" \")\n",
    "    varv = df.loc[df.index[-1], \"VARV\"]\n",
    "    varp = df.loc[df.index[-1], \"VARP\"]\n",
    "    varv_d = \"{:,.0f}\".format(varv).replace(\",\", \" \")\n",
    "    varp_d = \"{:,.0%}\".format(varp).replace(\",\", \" \")\n",
    "    if varv >= 0:\n",
    "        varv_d = f\"+{varv_d}\"\n",
    "        varp_d = f\"+{varp_d}\"\n",
    "    title = f\"<b><span style='font-size: 20px;'>{TITLE}</span></b><br><span style='font-size: 18px;'>Total: {total_value} | {PERIOD_TEXT}: {varv_d} ({varp_d})</span>\"\n",
    "    fig.update_layout(\n",
    "        title=title,\n",
    "        title_x=0.09,\n",
    "        title_font=dict(family=\"Arial\", color=\"black\"),\n",
    "        paper_bgcolor=\"#ffffff\",\n",
    "        plot_bgcolor=\"#ffffff\",\n",
    "        width=1200,\n",
    "        height=600,\n",
    "        margin_pad=10,\n",
    "    )\n",
    "    fig.show()\n",
    "    return fig\n",
    "\n",
    "fig = create_barchart(df_trend)"
   ]
  },
  {
   "cell_type": "markdown",
   "id": "541e16a0",
   "metadata": {
    "papermill": {},
    "tags": []
   },
   "source": [
    "### Save and share your csv file"
   ]
  },
  {
   "cell_type": "code",
   "execution_count": null,
   "id": "61cc88bf",
   "metadata": {
    "papermill": {},
    "tags": []
   },
   "outputs": [],
   "source": [
    "# Save your dataframe in CSV\n",
    "df_trend.to_csv(csv_output, index=False)\n",
    "\n",
    "# Share output with naas\n",
    "naas.asset.add(csv_output)\n",
    "\n",
    "#-> Uncomment the line below to remove your asset\n",
    "# naas.asset.delete(csv_output)"
   ]
  },
  {
   "cell_type": "markdown",
   "id": "d28cd477",
   "metadata": {
    "papermill": {},
    "tags": []
   },
   "source": [
    "### Save and share your graph in HTML\n"
   ]
  },
  {
   "cell_type": "code",
   "execution_count": null,
   "id": "3421d37f",
   "metadata": {
    "papermill": {},
    "tags": []
   },
   "outputs": [],
   "source": [
    "# Save your graph in HTML\n",
    "fig.write_html(html_output)\n",
    "\n",
    "# Share output with naas\n",
    "naas.asset.add(html_output, params={\"inline\": True})\n",
    "\n",
    "#-> Uncomment the line below to remove your asset\n",
    "# naas.asset.delete(html_output)"
   ]
  },
  {
   "cell_type": "markdown",
   "id": "91a987c6",
   "metadata": {
    "papermill": {},
    "tags": []
   },
   "source": [
    "### Save and share your graph in image\n"
   ]
  },
  {
   "cell_type": "code",
   "execution_count": null,
   "id": "8342abf9",
   "metadata": {
    "papermill": {},
    "tags": []
   },
   "outputs": [],
   "source": [
    "# Save your graph in PNG\n",
    "fig.write_image(image_output)\n",
    "\n",
    "# Share output with naas\n",
    "naas.asset.add(image_output)\n",
    "\n",
    "#-> Uncomment the line below to remove your asset\n",
    "# naas.asset.delete(image_output)"
   ]
  }
 ],
 "metadata": {
  "kernelspec": {
   "display_name": "Python 3",
   "language": "python",
   "name": "python3"
  },
  "language_info": {
   "codemirror_mode": {
    "name": "ipython",
    "version": 3
   },
   "file_extension": ".py",
   "mimetype": "text/x-python",
   "name": "python",
   "nbconvert_exporter": "python",
   "pygments_lexer": "ipython3",
   "version": "3.9.6"
  },
  "papermill": {
   "default_parameters": {},
   "environment_variables": {},
   "parameters": {},
   "version": "2.3.4"
  }
 },
 "nbformat": 4,
 "nbformat_minor": 5
}
