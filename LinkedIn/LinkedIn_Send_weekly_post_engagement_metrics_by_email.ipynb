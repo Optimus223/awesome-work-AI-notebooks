{
 "cells": [
  {
   "cell_type": "markdown",
   "id": "f93fe18d-8ad2-4958-816b-6b75af8681e4",
   "metadata": {
    "papermill": {},
    "tags": []
   },
   "source": [
    "<img width=\"10%\" alt=\"Naas\" src=\"https://landen.imgix.net/jtci2pxwjczr/assets/5ice39g4.png?w=160\"/>"
   ]
  },
  {
   "cell_type": "markdown",
   "id": "5f0737bc-6f32-4ae3-a951-5779adaa7a97",
   "metadata": {
    "papermill": {},
    "tags": []
   },
   "source": [
    "# LinkedIn - Send weekly post engagement metrics by email\n",
    "<a href=\"https://app.naas.ai/user-redirect/naas/downloader?url=https://raw.githubusercontent.com/jupyter-naas/awesome-notebooks/master/LinkedIn/LinkedIn_Send_weekly_post_engagement_metrics_by_email.ipynb\" target=\"_parent\"><img src=\"https://naasai-public.s3.eu-west-3.amazonaws.com/open_in_naas.svg\"/></a><br><br><a href=\"https://github.com/jupyter-naas/awesome-notebooks/issues/new?assignees=&labels=&template=template-request.md&title=Tool+-+Action+of+the+notebook+\">Template request</a> | <a href=\"https://github.com/jupyter-naas/awesome-notebooks/issues/new?assignees=&labels=bug&template=bug_report.md&title=LinkedIn+-+Send+weekly+post+engagement+metrics+by+email:+Error+short+description\">Bug report</a>"
   ]
  },
  {
   "cell_type": "markdown",
   "id": "616d1d23-6ae5-4cc6-95e8-40aa98a017f9",
   "metadata": {
    "papermill": {},
    "tags": []
   },
   "source": [
    "**Tags:** #linkedin #tool #posts #engagement #metrics #analytics #automation #email #naas #notification"
   ]
  },
  {
   "cell_type": "markdown",
   "id": "c22c0060-616a-43ba-91e9-96e7034e71c7",
   "metadata": {
    "papermill": {},
    "tags": []
   },
   "source": [
    "**Author:** [Nikolaj Groeneweg](https://www.linkedin.com/in/njgroene/)"
   ]
  },
  {
   "cell_type": "markdown",
   "id": "naas-description",
   "metadata": {
    "papermill": {},
    "tags": [
     "description"
    ]
   },
   "source": [
    "**Description:** This notebook automates the process of sending weekly post engagement metrics from LinkedIn via email."
   ]
  },
  {
   "cell_type": "markdown",
   "id": "937ac7d6-bfe3-41aa-a0b6-61b1f7bba93f",
   "metadata": {
    "papermill": {},
    "tags": []
   },
   "source": [
    "## Input"
   ]
  },
  {
   "cell_type": "markdown",
   "id": "ecb37b6d-b27f-4932-b8a7-1464095f989d",
   "metadata": {
    "papermill": {},
    "tags": []
   },
   "source": [
    "### Import libraries"
   ]
  },
  {
   "cell_type": "code",
   "execution_count": null,
   "id": "e2c3df60-aced-4dd9-a94b-11d8ae4b5caf",
   "metadata": {
    "papermill": {},
    "tags": []
   },
   "outputs": [],
   "source": "from naas_drivers import linkedin\nimport naas\nfrom dateutil.parser import parse\nimport matplotlib.pyplot as plt\ntry:\n    import seaborn as sns\nexcept:\n    !pip install seaborn --user\n    import seaborn as sns\nimport pandas as pd\nfrom datetime import datetime, date\nimport random\nimport time"
  },
  {
   "cell_type": "markdown",
   "id": "8fcbe47d-8d1d-49ee-bc6e-21dd26cfa5fa",
   "metadata": {
    "execution": {
     "iopub.execute_input": "2022-04-24T17:56:03.664707Z",
     "iopub.status.busy": "2022-04-24T17:56:03.664410Z",
     "iopub.status.idle": "2022-04-24T17:56:03.667809Z",
     "shell.execute_reply": "2022-04-24T17:56:03.667176Z",
     "shell.execute_reply.started": "2022-04-24T17:56:03.664677Z"
    },
    "papermill": {},
    "tags": []
   },
   "source": [
    "### Setup LinkedIn\n",
    "<a href='https://www.notion.so/LinkedIn-driver-Get-your-cookies-d20a8e7e508e42af8a5b52e33f3dba75'>How to get your cookies ?</a>"
   ]
  },
  {
   "cell_type": "code",
   "execution_count": null,
   "id": "9d23bcea-7b3f-4f5c-be6a-0b38241735dc",
   "metadata": {
    "papermill": {},
    "tags": []
   },
   "outputs": [],
   "source": "# LinkedIn cookies\nLI_AT = \"ENTER_YOUR_COOKIE_HERE\"  # EXAMPLE : \"AQFAzQN_PLPR4wAAAXc-FCKmgiMit5FLdY1af3-2\"\nJSESSIONID = \"ENTER_YOUR_JSESSIONID_HERE\"  # EXAMPLE : \"ajax:8379907400220387585\"\n\n# LinkedIn profile url\nPROFILE_URL = \"ENTER_YOUR_LINKEDIN_PROFILE_HERE\"  # EXAMPLE \"https://www.linkedin.com/in/myprofile/\"\n\n# The first execution all posts will be retrieved.\n# Then, you can use the parameter below to setup the number of posts you want to retrieved from LinkedIn API everytime this notebook is run.\nNO_POSTS_RETRIEVED = 10"
  },
  {
   "cell_type": "markdown",
   "id": "d0fbc821-27c8-4892-a96f-c4482620c2d0",
   "metadata": {
    "papermill": {},
    "tags": []
   },
   "source": [
    "### Setup Naas notification"
   ]
  },
  {
   "cell_type": "code",
   "execution_count": null,
   "id": "b96793cf-c0f1-4cf7-ba89-894524fc4d10",
   "metadata": {
    "papermill": {},
    "tags": []
   },
   "outputs": [],
   "source": "EMAIL_TO = \"ENTER_RECIPIENT_EMAIL_HERE\"  # you will receive weekly summary at this email\nEMAIL_FROM = None  # summary will have this email as sender. Only available for your naas email, otherwise you will receive this email from notification@naas.ai\nEMAIL_SUBJECT = \"LinkedIn Metrics\"  # subject of your email"
  },
  {
   "cell_type": "markdown",
   "id": "64ae7a5a-47b0-46f1-93b4-a382abb44330",
   "metadata": {
    "papermill": {},
    "tags": []
   },
   "source": [
    "### Setup Outputs\n",
    "Create CSV to store your posts feed "
   ]
  },
  {
   "cell_type": "code",
   "execution_count": null,
   "id": "a08de609-f523-4a98-89b8-b572f2a91e4c",
   "metadata": {
    "papermill": {},
    "tags": []
   },
   "outputs": [],
   "source": "# Custom Path of your CSV with profile URL\nprofile_id = PROFILE_URL.split(\"https://www.linkedin.com/in/\")[-1].split(\"/\")[0]\ncsv_output = f\"LINKEDIN_POSTS_{profile_id}.csv\""
  },
  {
   "cell_type": "markdown",
   "id": "f7338ab8-0edd-4e3d-8748-33264508790c",
   "metadata": {
    "papermill": {},
    "tags": []
   },
   "source": [
    "### Setup Naas scheduler"
   ]
  },
  {
   "cell_type": "code",
   "execution_count": null,
   "id": "1be3925f-31ec-4648-8d58-ff4de480a954",
   "metadata": {
    "papermill": {},
    "tags": []
   },
   "outputs": [],
   "source": "# Change your remote timezone if needed. By default remote timezone is \"Europe/Paris\"\n# naas.set_remote_timezone(\"Europe/Lisbon\")\n\n# the default settings below will make the notebook run at 12:00 each Saturday\n# for information on changing this setting, please check https://crontab.guru/ for information on the required CRON syntax\nnaas.scheduler.add(cron=\"0 12 * * 6\")"
  },
  {
   "cell_type": "code",
   "execution_count": null,
   "id": "dcd0bd19-a3d5-4cc0-851e-c6150e70b5ae",
   "metadata": {
    "papermill": {},
    "tags": []
   },
   "outputs": [],
   "source": "# this notebook will run each week until de-scheduled\n# to de-schedule this notebook, simply run the following command:\n# naas.scheduler.delete()"
  },
  {
   "cell_type": "markdown",
   "id": "78fd3b62-5ca4-4468-9cf1-7fd6d079320f",
   "metadata": {
    "execution": {
     "iopub.execute_input": "2022-04-12T10:09:23.296057Z",
     "iopub.status.busy": "2022-04-12T10:09:23.295748Z",
     "iopub.status.idle": "2022-04-12T10:09:23.299059Z",
     "shell.execute_reply": "2022-04-12T10:09:23.298449Z",
     "shell.execute_reply.started": "2022-04-12T10:09:23.296024Z"
    },
    "papermill": {},
    "tags": []
   },
   "source": [
    "## Model"
   ]
  },
  {
   "cell_type": "markdown",
   "id": "b8f8248d-2bb7-4659-bec3-57bba6badc1e",
   "metadata": {
    "papermill": {},
    "tags": []
   },
   "source": [
    "### Get your posts from CSV\n",
    "All your posts will be stored in CSV."
   ]
  },
  {
   "cell_type": "code",
   "execution_count": null,
   "id": "e664a17e-8d6a-446b-8d74-2c37f6c61102",
   "metadata": {
    "papermill": {},
    "tags": []
   },
   "outputs": [],
   "source": "def get_posts(file_path):\n    try:\n        df = pd.read_csv(file_path)\n    except FileNotFoundError as e:\n        # Empty dataframe returned\n        return pd.DataFrame()\n    return df\n\n\ndf_posts = get_posts(csv_output)\ndf_posts"
  },
  {
   "cell_type": "markdown",
   "id": "0a50683f-224e-4984-a37b-6b8dd3c59a8d",
   "metadata": {
    "papermill": {},
    "tags": []
   },
   "source": [
    "### Update last posts\n",
    "It will get the last X posts from LinkedIn API (X = number of set in variable \"NO_POSTS_RETRIEVED\") and update it in your CSV.<br>\n",
    "PS: On the first execution all posts will be retrieved."
   ]
  },
  {
   "cell_type": "code",
   "execution_count": null,
   "id": "48c0f649-35d1-4c02-b9a3-37c4c62dadbe",
   "metadata": {
    "papermill": {},
    "tags": []
   },
   "outputs": [],
   "source": "def update_last_posts(\n    df_posts, csv_output, key=\"POST_URL\", no_posts=10, min_updated_time=60\n):\n    # Init output\n    df_new = pd.DataFrame()\n\n    # Init df posts is empty then return entire database\n    if len(df_posts) > 0:\n        if \"DATE_EXTRACT\" in df_posts.columns:\n            last_update_date = df_posts[\"DATE_EXTRACT\"].max()\n            time_last_update = datetime.now() - datetime.strptime(\n                last_update_date, \"%Y-%m-%d %H:%M:%S\"\n            )\n            minute_last_update = time_last_update.total_seconds() / 60\n            if minute_last_update > min_updated_time:\n                # If df posts not empty get the last X posts (new and already existing)\n                df_new = linkedin.connect(LI_AT, JSESSIONID).profile.get_posts_feed(\n                    PROFILE_URL, limit=no_posts, sleep=False\n                )\n            else:\n                print(\n                    f\"\ud83d\uded1 Nothing to update. Last update done {round(minute_last_update, 0)} minutes ago.\"\n                )\n    else:\n        df_new = linkedin.connect(LI_AT, JSESSIONID).profile.get_posts_feed(\n            PROFILE_URL, limit=-1\n        )\n\n    # Concat, save database in CSV and dependency in production\n    df = pd.concat([df_new, df_posts]).drop_duplicates(key, keep=\"first\")\n    df[\"DATE_EXTRACT\"] = datetime.now().strftime(\"%Y-%m-%d %H:%M:%S\")\n    df.to_csv(csv_output, index=False)\n    naas.dependency.add(csv_output)\n\n    # Return only last post retrieved\n    return df.reset_index(drop=True)\n\n\ndf_posts = update_last_posts(df_posts, csv_output, no_posts=NO_POSTS_RETRIEVED)\ndf_posts"
  },
  {
   "cell_type": "markdown",
   "id": "10765e57-8597-4b08-9157-a4ef78082328",
   "metadata": {
    "papermill": {},
    "tags": []
   },
   "source": [
    "### Get post published this week"
   ]
  },
  {
   "cell_type": "code",
   "execution_count": null,
   "id": "6cedc8b2-bfee-4706-af52-e3bea953cd2e",
   "metadata": {
    "papermill": {},
    "tags": []
   },
   "outputs": [],
   "source": "def get_iso_year(row):\n    return parse(row.PUBLISHED_DATE).isocalendar()[0]\n\n\ndef get_iso_week(row):\n    return parse(row.PUBLISHED_DATE).isocalendar()[1]\n\n\ndef get_iso_day(row):\n    return parse(row.PUBLISHED_DATE).isoweekday()\n\n\ndef get_iso_day_string(row):\n    return datetime.strptime(\n        str(parse(row.PUBLISHED_DATE).isoweekday()), \"%d\"\n    ).strftime(\"%A\")\n\n\n# week of the year\ndf_posts[\"ISO_YEAR\"] = df_posts.apply(get_iso_year, axis=1)\n# week of the year\ndf_posts[\"ISO_WEEK\"] = df_posts.apply(get_iso_week, axis=1)\n# day of the year\ndf_posts[\"DAY\"] = df_posts.apply(get_iso_day, axis=1)\n# day of the week\ndf_posts[\"DAY OF WEEK\"] = df_posts.apply(get_iso_day_string, axis=1)\n\n# all posts made this week\ndf_this_week = df_posts[\n    (df_posts[\"ISO_WEEK\"] == date.today().isocalendar()[1])\n    & (df_posts[\"ISO_YEAR\"] == date.today().isocalendar()[0])\n].sort_values(\"DAY\")\ndf_this_week.head()"
  },
  {
   "cell_type": "markdown",
   "id": "6d1b35ad-a501-4aea-8549-22b16e9b32ad",
   "metadata": {
    "papermill": {},
    "tags": []
   },
   "source": [
    "### Send email if no post published this week"
   ]
  },
  {
   "cell_type": "code",
   "execution_count": null,
   "id": "036b1a27-d71a-421f-8560-c84c691a35be",
   "metadata": {
    "papermill": {},
    "tags": []
   },
   "outputs": [],
   "source": "# if we didn't post this week, send a simple email of encouragement and exit\nif df_this_week.empty:\n    post = \"\"\"\\\n    <h2>It looks like you took a week off from posting...</h2>\n    <h4>Good for you, you'll crush it next week!</h4>\"\"\"\n    naas.notification.send(\n        email_to=EMAIL_TO, subject=EMAIL_SUBJECT, html=post, email_from=EMAIL_FROM\n    )\n    raise SystemExit(\"No posts this week, basic email sent\")"
  },
  {
   "cell_type": "markdown",
   "id": "1dc86271-4fd0-43aa-b1fd-924940361786",
   "metadata": {
    "papermill": {},
    "tags": []
   },
   "source": [
    "### Get engagement metrics"
   ]
  },
  {
   "cell_type": "code",
   "execution_count": null,
   "id": "91061f3e-34a4-415a-af45-8a9e1a7f90df",
   "metadata": {
    "papermill": {},
    "tags": []
   },
   "outputs": [],
   "source": "likes = df_this_week.LIKES.sum()\nviews = df_this_week.VIEWS.sum()\nshares = df_this_week.SHARES.sum()\ncomments = df_this_week.COMMENTS.sum()\n\n# preview of what will be send by email:\nprint(\"This week's cumulative statistics:\")\nprint(\n    \"\\n\\t\ud83d\udc40 Impressions\\t\",\n    views,\n    \"\\n\\t\ud83d\udc4d Likes\\t\",\n    likes,\n    \"\\n\\t\ud83d\udcac Comments\\t\",\n    comments,\n    \"\\n\\t\u23e9 Shares\\t\",\n    shares,\n)"
  },
  {
   "cell_type": "markdown",
   "id": "d081eb62-41a0-4928-b83b-7bc9ade63480",
   "metadata": {
    "execution": {
     "iopub.execute_input": "2022-04-24T17:07:02.590733Z",
     "iopub.status.busy": "2022-04-24T17:07:02.590429Z",
     "iopub.status.idle": "2022-04-24T17:07:02.593933Z",
     "shell.execute_reply": "2022-04-24T17:07:02.593280Z",
     "shell.execute_reply.started": "2022-04-24T17:07:02.590665Z"
    },
    "papermill": {},
    "tags": []
   },
   "source": [
    "### Information on top post"
   ]
  },
  {
   "cell_type": "code",
   "execution_count": null,
   "id": "70c7c8c9-6f4b-4bb6-8974-f9c0ec8a6ed8",
   "metadata": {
    "papermill": {},
    "tags": []
   },
   "outputs": [],
   "source": "top_post = df_this_week.sort_values(\"VIEWS\", ascending=False).iloc[0]\n\n# get information on most viewed post\ntop_post_text = top_post[\"TEXT\"]\ntop_post_url = top_post[\"POST_URL\"]\ntop_post_views = top_post[\"VIEWS\"]\ntop_post_likes = top_post[\"LIKES\"]\ntop_post_comments = top_post[\"COMMENTS\"]\ntop_post_day = top_post[\"DAY OF WEEK\"]\ntop_post_text = top_post_text.rstrip()[0:128] + \" (...)\"\n\n# preview of what will be send by email:\nprint(\"\u270f\ufe0f Your best post this week got \ud83d\udc40 x\", top_post_views, \"and \ud83d\udc4d x\", top_post_likes)\nprint(\"You posted it on\", top_post_day, \"\\n\")\nprint(\"This is what it said:\\n\\n\", top_post_text)\nprint(\"See your post on LinkedIn : \", top_post_url)"
  },
  {
   "cell_type": "markdown",
   "id": "15af92a3-d16e-4890-a6ec-6d7aeba77b17",
   "metadata": {
    "papermill": {},
    "tags": []
   },
   "source": [
    "### Weekly engagement plots"
   ]
  },
  {
   "cell_type": "code",
   "execution_count": null,
   "id": "e7de14f6-3c47-4883-b465-93d7bb7afe43",
   "metadata": {
    "papermill": {},
    "tags": []
   },
   "outputs": [],
   "source": "sns.set_style(\"darkgrid\")\nfig, axs = plt.subplots(ncols=2)\nfig.tight_layout()\nsns.lineplot(x=\"DAY OF WEEK\", y=\"VIEWS\", data=df_this_week, ax=axs[0])\nsns.lineplot(x=\"DAY OF WEEK\", y=\"LIKES\", data=df_this_week, palette=\"deep\", ax=axs[1])\n\n# save image to production as a public asset :\noutput_image = \"week.png\"\nfig.savefig(output_image)\nlink_image = naas.asset.add(output_image)"
  },
  {
   "cell_type": "markdown",
   "id": "6ea971e5-f18d-4634-80f0-8a6caa60495e",
   "metadata": {
    "execution": {
     "iopub.execute_input": "2022-04-24T17:11:18.755043Z",
     "iopub.status.busy": "2022-04-24T17:11:18.754816Z",
     "iopub.status.idle": "2022-04-24T17:11:18.757779Z",
     "shell.execute_reply": "2022-04-24T17:11:18.757114Z",
     "shell.execute_reply.started": "2022-04-24T17:11:18.755019Z"
    },
    "papermill": {},
    "tags": []
   },
   "source": [
    "### This week's biggest fan"
   ]
  },
  {
   "cell_type": "code",
   "execution_count": null,
   "id": "dbf6ba74-004d-4d00-a775-0ccb68c8cc00",
   "metadata": {
    "papermill": {},
    "tags": []
   },
   "outputs": [],
   "source": "def get_likes(df_posts):\n    df_out = pd.DataFrame()\n    for index, row in df_posts.iterrows():\n        df = linkedin.connect(LI_AT, JSESSIONID).post.get_likes(row[\"POST_URL\"])\n        df_out = df_out.append(df)\n        # aditional pause to protect your LinkedIn account\n        time.sleep(random.uniform(3, 6))\n    return df_out\n\n\n# count likes for each profile\ndef count_likes(df):\n    to_group = [\"PROFILE_ID\", \"FIRSTNAME\", \"LASTNAME\"]\n    df2 = (\n        df.groupby([\"PROFILE_ID\"])\n        .size()\n        .sort_values(ascending=False)\n        .reset_index(name=\"LIKE_COUNT\")\n    )\n    return df2"
  },
  {
   "cell_type": "code",
   "execution_count": null,
   "id": "30f726f7-a96f-43cb-8c17-09c986723b4c",
   "metadata": {
    "papermill": {},
    "tags": []
   },
   "outputs": [],
   "source": "df_likes = get_likes(df_this_week)\ndf_counts = count_likes(df_likes)\n\ntop_fan = df_likes[df_likes[\"PROFILE_ID\"] == df_counts[\"PROFILE_ID\"][0]]\n\nfan_slug = top_fan[\"PROFILE_ID\"].iloc[0]\nfan_first_name = top_fan[\"FIRSTNAME\"].iloc[0]\nfan_last_name = top_fan[\"LASTNAME\"].iloc[0]\nfan_name = f\"{fan_first_name} {fan_last_name}\"\nfan_likes = df_counts[\"LIKE_COUNT\"][0]\nfan_url = f\"https://www.linkedin.com/in/{fan_slug}\"\n\n# preview of what will be send by email\nprint(\n    \"\u2764\ufe0f This week\", fan_name, \"was your biggest fan! They left you\", fan_likes, \"likes\"\n)\nprint(\"Go say hi on their profile:\", fan_url)"
  },
  {
   "cell_type": "markdown",
   "id": "aeed4782-b114-4554-8502-14cb5791b8eb",
   "metadata": {
    "papermill": {},
    "tags": []
   },
   "source": [
    "### Create email content"
   ]
  },
  {
   "cell_type": "code",
   "execution_count": null,
   "id": "5423efc8-3aac-4c81-9e7c-7107dfd30d19",
   "metadata": {
    "papermill": {},
    "tags": []
   },
   "outputs": [],
   "source": "# You can edit the basic HTML below to change the look and feel of the email\n# but be sure to pay attention to the variable names (indicated by $)\n# so you don't unexpectedly break anything\n\nhtml = \"\"\"\\\n<h2>Here's your weekly LinkedIn report!</h2>\n<h4>\ud83d\ude80 You did great this week !</h4>\n\n&emsp;\ud83d\udc40 $VIEWS impressions<br>\n&emsp;\ud83d\udc4d $LIKES likes<br>\n&emsp;\ud83d\udcac $COMMENTS comments<br> \n&emsp;\u23e9 $SHARES shares<br>\n\n<h4>\u2764\ufe0f This week <i>$FAN_NAME</i> was your biggest fan!</h4>\n&emsp;They left you \ud83d\udc4d x $FAN_LIKES<br><br>\n&emsp;<a href=\"$FAN_URL\">Go say hi on their profile</a><br>\n\n<h4>\u270f\ufe0f This week your best post got \ud83d\udc40 x $BEST_VIEWS and \ud83d\udc4d x $BEST_LIKES</h4>\n&emsp;You posted it on $BEST_DAY, and this is what it said: <br>\n<br>\n&emsp;&emsp;<i>$BEST_TEXT</i>\n<br><br>\n&emsp;<a href=\"$BEST_URL\">See your post on LinkedIn</a>\n\n<h4>\ud83d\udcc8 Here, have some charts (we're out of cookies)</h4>\n<img src=\"$CHART\" style=\"width:640px; height:360px;\" /><br>\n\"\"\""
  },
  {
   "cell_type": "code",
   "execution_count": null,
   "id": "44a6bbf3-0333-4438-bd87-d642fcb58487",
   "metadata": {
    "papermill": {},
    "tags": []
   },
   "outputs": [],
   "source": "html = html.replace(\"$VIEWS\", str(views))\nhtml = html.replace(\"$LIKES\", str(likes))\nhtml = html.replace(\"$COMMENTS\", str(comments))\nhtml = html.replace(\"$SHARES\", str(shares))\nhtml = html.replace(\"$FAN_NAME\", str(fan_name))\nhtml = html.replace(\"$FAN_LIKES\", str(fan_likes))\nhtml = html.replace(\"$FAN_URL\", str(fan_url))\nhtml = html.replace(\"$BEST_VIEWS\", str(top_post_views))\nhtml = html.replace(\"$BEST_LIKES\", str(top_post_likes))\nhtml = html.replace(\"$BEST_DAY\", str(top_post_day))\nhtml = html.replace(\"$BEST_TEXT\", str(top_post_text))\nhtml = html.replace(\"$BEST_URL\", str(top_post_url))\nhtml = html.replace(\"$CHART\", str(link_image))\npost = html\n\n# preview final email\nprint(post)"
  },
  {
   "cell_type": "markdown",
   "id": "8b76191a-686b-4ac8-a0e7-b56ac9f1bfbb",
   "metadata": {
    "execution": {
     "iopub.execute_input": "2022-04-12T14:42:10.762125Z",
     "iopub.status.busy": "2022-04-12T14:42:10.761884Z",
     "iopub.status.idle": "2022-04-12T14:42:10.764880Z",
     "shell.execute_reply": "2022-04-12T14:42:10.764227Z",
     "shell.execute_reply.started": "2022-04-12T14:42:10.762100Z"
    },
    "papermill": {},
    "tags": []
   },
   "source": [
    "## Output"
   ]
  },
  {
   "cell_type": "markdown",
   "id": "b853bb8a-23e8-4980-9696-5f5dc2d3d409",
   "metadata": {
    "papermill": {},
    "tags": []
   },
   "source": [
    "### Send post engagement by email"
   ]
  },
  {
   "cell_type": "code",
   "execution_count": null,
   "id": "c317e8a0-9604-453c-b28b-0ce7fcbefd0f",
   "metadata": {
    "papermill": {},
    "tags": []
   },
   "outputs": [],
   "source": "# sends the email\nnaas.notification.send(\n    email_to=EMAIL_TO, subject=EMAIL_SUBJECT, html=post, email_from=EMAIL_FROM\n)"
  }
 ],
 "metadata": {
  "kernelspec": {
   "display_name": "Python 3",
   "language": "python",
   "name": "python3"
  },
  "language_info": {
   "codemirror_mode": {
    "name": "ipython",
    "version": 3
   },
   "file_extension": ".py",
   "mimetype": "text/x-python",
   "name": "python",
   "nbconvert_exporter": "python",
   "pygments_lexer": "ipython3",
   "version": "3.9.6"
  },
  "papermill": {
   "default_parameters": {},
   "environment_variables": {},
   "parameters": {},
   "version": "2.3.4"
  }
 },
 "nbformat": 4,
 "nbformat_minor": 5
}