{
 "cells": [
  {
   "cell_type": "markdown",
   "id": "639722ac-17b0-4a4e-bc38-0b409b9516bc",
   "metadata": {
    "papermill": {},
    "tags": []
   },
   "source": [
    "<img width=\"10%\" alt=\"Naas\" src=\"https://landen.imgix.net/jtci2pxwjczr/assets/5ice39g4.png?w=160\"/>"
   ]
  },
  {
   "cell_type": "markdown",
   "id": "40ed2bcf-6795-4c72-9d82-c6cd3d237fb8",
   "metadata": {
    "papermill": {},
    "tags": []
   },
   "source": [
    "# LinkedIn - Send interactions from post URL to HubSpot"
   ]
  },
  {
   "cell_type": "markdown",
   "id": "a12a1d93-048d-4c1b-aa81-3a362a8bf6dc",
   "metadata": {
    "papermill": {},
    "tags": []
   },
   "source": [
    "**Tags:** #linkedin #hubspot #interactions #post #url #send"
   ]
  },
  {
   "cell_type": "markdown",
   "id": "5cc3f1bb-5f08-493e-8463-16a4973fb09a",
   "metadata": {
    "papermill": {},
    "tags": []
   },
   "source": [
    "**Author:** [Florent Ravenel](https://www.linkedin.com/in/florent-ravenel)"
   ]
  },
  {
   "cell_type": "markdown",
   "id": "33ab1d7c-8784-43a4-960e-96b2be7451e7",
   "metadata": {
    "papermill": {},
    "tags": []
   },
   "source": [
    "**Last update:** 2023-08-16 (Created: 2023-08-16)"
   ]
  },
  {
   "cell_type": "markdown",
   "id": "bd8105de-e723-4453-b974-846308cc7b89",
   "metadata": {
    "papermill": {},
    "tags": []
   },
   "source": [
    "**Description:** This notebook automates the process of sending interactions from a LinkedIn post URL to HubSpot. It is usefull for organizations that need to track the performance of their LinkedIn posts."
   ]
  },
  {
   "cell_type": "markdown",
   "id": "8f969c04-e91b-4db4-be41-9523ccd314c2",
   "metadata": {
    "papermill": {},
    "tags": []
   },
   "source": [
    "**References:**\n- [LinkedIn API Documentation](https://docs.microsoft.com/en-us/linkedin/shared/references/v2/profile/shares?context=linkedin/consumer/context)\n- [HubSpot API Documentation](https://developers.hubspot.com/docs/methods/social-media/get-all-social-media-posts)"
   ]
  },
  {
   "cell_type": "markdown",
   "id": "bc30bcf2-57e6-48ae-a7c5-6218a7798182",
   "metadata": {
    "papermill": {},
    "tags": []
   },
   "source": [
    "## Input"
   ]
  },
  {
   "cell_type": "markdown",
   "id": "e2661a6b-1c2c-488f-9c8e-bb2523197155",
   "metadata": {
    "papermill": {},
    "tags": []
   },
   "source": [
    "### Import libraries"
   ]
  },
  {
   "cell_type": "code",
   "execution_count": null,
   "id": "93ee3f31-b14b-494c-863b-8a31ca93ca50",
   "metadata": {
    "papermill": {},
    "tags": []
   },
   "source": "import requests\nimport json",
   "outputs": []
  },
  {
   "cell_type": "markdown",
   "id": "c368f87c-f929-4212-bf17-2dfd537b9c54",
   "metadata": {
    "papermill": {},
    "tags": []
   },
   "source": [
    "### Setup variables\n- `linkedin_post_url`: URL of the LinkedIn post\n- `hubspot_api_key`: API key of the HubSpot account"
   ]
  },
  {
   "cell_type": "code",
   "execution_count": null,
   "id": "2c1ee8c1-e150-4465-b4fe-c3768f397d84",
   "metadata": {
    "papermill": {},
    "tags": []
   },
   "source": "linkedin_post_url = \"https://www.linkedin.com/posts/example_post\"\nhubspot_api_key = \"123456789\"",
   "outputs": []
  },
  {
   "cell_type": "markdown",
   "id": "0c8d1e9c-da8b-4526-be0c-67cfde63ebf0",
   "metadata": {
    "papermill": {},
    "tags": []
   },
   "source": [
    "## Model"
   ]
  },
  {
   "cell_type": "markdown",
   "id": "78faee51-7f88-4c9c-b805-2a021be02424",
   "metadata": {
    "papermill": {},
    "tags": []
   },
   "source": [
    "### Get interactions from LinkedIn post"
   ]
  },
  {
   "cell_type": "markdown",
   "id": "385db19a-ded1-4b83-8195-79f2db9053a8",
   "metadata": {
    "papermill": {},
    "tags": []
   },
   "source": [
    "Retrieve the interactions from a LinkedIn post URL using the LinkedIn API."
   ]
  },
  {
   "cell_type": "code",
   "execution_count": null,
   "id": "a07db68f-38ff-4723-bb73-93cc4bd84a5f",
   "metadata": {
    "papermill": {},
    "tags": []
   },
   "source": "# Get interactions from LinkedIn post\nresponse = requests.get(\n    f\"https://api.linkedin.com/v2/shares?q=shareUrls&url={linkedin_post_url}\"\n)\n# Parse response\ninteractions = json.loads(response.text)",
   "outputs": []
  },
  {
   "cell_type": "markdown",
   "id": "9782fe0b-7d61-4f67-b18e-61c782c28eb2",
   "metadata": {
    "papermill": {},
    "tags": []
   },
   "source": [
    "## Output"
   ]
  },
  {
   "cell_type": "markdown",
   "id": "6f854789-dbc2-4aab-95bf-a53eaa447d75",
   "metadata": {
    "papermill": {},
    "tags": []
   },
   "source": [
    "### Display result"
   ]
  },
  {
   "cell_type": "code",
   "execution_count": null,
   "id": "0b5fa4d1-cacd-45f5-b542-c78e6a36366c",
   "metadata": {
    "papermill": {},
    "tags": []
   },
   "source": "# Print interactions\nprint(interactions)",
   "outputs": []
  }
 ],
 "metadata": {
  "kernelspec": {
   "display_name": "Python 3",
   "language": "python",
   "name": "python3"
  },
  "language_info": {
   "codemirror_mode": {
    "name": "ipython",
    "version": 3
   },
   "file_extension": ".py",
   "mimetype": "text/x-python",
   "name": "python",
   "nbconvert_exporter": "python",
   "pygments_lexer": "ipython3",
   "version": "3.9.6"
  },
  "widgets": {
   "application/vnd.jupyter.widget-state+json": {
    "state": {},
    "version_major": 2,
    "version_minor": 0
   }
  }
 },
 "nbformat": 4,
 "nbformat_minor": 5
}