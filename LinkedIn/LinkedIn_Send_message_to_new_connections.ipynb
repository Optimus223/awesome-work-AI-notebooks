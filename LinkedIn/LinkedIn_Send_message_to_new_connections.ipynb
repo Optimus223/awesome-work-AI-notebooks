{
 "cells": [
  {
   "cell_type": "markdown",
   "id": "second-registrar",
   "metadata": {
    "execution": {
     "iopub.execute_input": "2021-01-25T08:00:35.294800Z",
     "iopub.status.busy": "2021-01-25T08:00:35.294557Z",
     "iopub.status.idle": "2021-01-25T08:00:35.307281Z",
     "shell.execute_reply": "2021-01-25T08:00:35.306468Z",
     "shell.execute_reply.started": "2021-01-25T08:00:35.294775Z"
    },
    "papermill": {},
    "tags": []
   },
   "source": [
    "<img width=\"10%\" alt=\"Naas\" src=\"https://landen.imgix.net/jtci2pxwjczr/assets/5ice39g4.png?w=160\"/>"
   ]
  },
  {
   "cell_type": "markdown",
   "id": "boolean-amendment",
   "metadata": {
    "papermill": {},
    "tags": []
   },
   "source": [
    "# LinkedIn - Send message to new connections\n",
    "<a href=\"https://app.naas.ai/user-redirect/naas/downloader?url=https://raw.githubusercontent.com/jupyter-naas/awesome-notebooks/master/LinkedIn/LinkedIn_Send_message_to_profile.ipynb\" target=\"_parent\"><img src=\"https://naasai-public.s3.eu-west-3.amazonaws.com/open_in_naas.svg\"/></a>"
   ]
  },
  {
   "cell_type": "markdown",
   "id": "535e9a7c-d179-4aeb-9918-c24f352052b0",
   "metadata": {
    "papermill": {},
    "tags": []
   },
   "source": [
    "**Tags:** #linkedin #message #naas_drivers #content #snippet #text"
   ]
  },
  {
   "cell_type": "markdown",
   "id": "e97a5266-abfc-46d5-9a90-441d164d932b",
   "metadata": {
    "papermill": {},
    "tags": []
   },
   "source": [
    "**Author:** [Asif Syed](https://www.linkedin.com/in/www.linkedin.com/in/asifsyd/)"
   ]
  },
  {
   "cell_type": "markdown",
   "id": "b7605b29-7fb2-4f76-9350-2c5479fb04f9",
   "metadata": {},
   "source": [
    "Using this notebook, you can automate the task of sending introductory messages to the people you newly connected with on LinkedIn today. "
   ]
  },
  {
   "cell_type": "markdown",
   "id": "identified-logan",
   "metadata": {
    "papermill": {},
    "tags": []
   },
   "source": [
    "## Input"
   ]
  },
  {
   "cell_type": "markdown",
   "id": "1a265f27-8faa-4e5d-af76-bbacff0dcefd",
   "metadata": {
    "papermill": {},
    "tags": []
   },
   "source": [
    "### Import library"
   ]
  },
  {
   "cell_type": "code",
   "execution_count": 1,
   "id": "strategic-savage",
   "metadata": {
    "execution": {
     "iopub.execute_input": "2022-07-05T13:31:54.513452Z",
     "iopub.status.busy": "2022-07-05T13:31:54.512784Z",
     "iopub.status.idle": "2022-07-05T13:31:56.190628Z",
     "shell.execute_reply": "2022-07-05T13:31:56.189983Z",
     "shell.execute_reply.started": "2022-07-05T13:31:54.513362Z"
    },
    "papermill": {},
    "tags": []
   },
   "outputs": [],
   "source": [
    "from naas_drivers import linkedin\n",
    "import pandas as pd\n",
    "from datetime import date"
   ]
  },
  {
   "cell_type": "markdown",
   "id": "sustained-rochester",
   "metadata": {
    "papermill": {},
    "tags": []
   },
   "source": [
    "### Get your cookies\n",
    "<a href='https://www.notion.so/LinkedIn-driver-Get-your-cookies-d20a8e7e508e42af8a5b52e33f3dba75'>How to get your cookies ?</a>"
   ]
  },
  {
   "cell_type": "markdown",
   "id": "ef32a160-bb33-418d-b1d0-8b6d63518d4e",
   "metadata": {},
   "source": [
    "Replace the strings 'li_at', and 'jession_id' below with the actual cookies data"
   ]
  },
  {
   "cell_type": "code",
   "execution_count": null,
   "id": "handy-jacksonville",
   "metadata": {
    "papermill": {},
    "tags": []
   },
   "outputs": [],
   "source": [
    "LI_AT = 'li_at'  # EXAMPLE AQFAzQN_PLPR4wAAAXc-FCKmgiMit5FLdY1af3-2\n",
    "JSESSIONID = 'jession_id'  # EXAMPLE ajax:8379907400220387585"
   ]
  },
  {
   "cell_type": "markdown",
   "id": "rubber-nutrition",
   "metadata": {
    "execution": {
     "iopub.execute_input": "2021-05-15T10:12:55.887028Z",
     "iopub.status.busy": "2021-05-15T10:12:55.886761Z",
     "iopub.status.idle": "2021-05-15T10:12:55.899441Z",
     "shell.execute_reply": "2021-05-15T10:12:55.898476Z",
     "shell.execute_reply.started": "2021-05-15T10:12:55.886964Z"
    },
    "papermill": {},
    "tags": []
   },
   "source": [
    "## Model"
   ]
  },
  {
   "cell_type": "markdown",
   "id": "13390fa4-d4d3-421b-a903-ac3deff220ae",
   "metadata": {
    "papermill": {},
    "tags": []
   },
   "source": [
    "### Connect to linkedin API"
   ]
  },
  {
   "cell_type": "code",
   "execution_count": 3,
   "id": "equal-hypothesis",
   "metadata": {
    "execution": {
     "iopub.execute_input": "2022-07-05T13:31:56.201376Z",
     "iopub.status.busy": "2022-07-05T13:31:56.201186Z",
     "iopub.status.idle": "2022-07-05T13:31:56.307379Z",
     "shell.execute_reply": "2022-07-05T13:31:56.306784Z",
     "shell.execute_reply.started": "2022-07-05T13:31:56.201355Z"
    },
    "papermill": {},
    "tags": []
   },
   "outputs": [],
   "source": [
    "result = linkedin.connect(LI_AT, JSESSIONID)"
   ]
  },
  {
   "cell_type": "markdown",
   "id": "e36258c8-d97e-45c1-b96e-3996f10dbd84",
   "metadata": {},
   "source": [
    "Get the recent connections data (limit parameter can be changed as per your requirement; it is the maximum number of new connections to whom you want to send the message)"
   ]
  },
  {
   "cell_type": "code",
   "execution_count": 4,
   "id": "61e2b7e8-cd1d-475c-b84b-4d888324c251",
   "metadata": {
    "execution": {
     "iopub.execute_input": "2022-07-05T13:31:56.308581Z",
     "iopub.status.busy": "2022-07-05T13:31:56.308347Z",
     "iopub.status.idle": "2022-07-05T13:31:57.175963Z",
     "shell.execute_reply": "2022-07-05T13:31:57.175339Z",
     "shell.execute_reply.started": "2022-07-05T13:31:56.308552Z"
    },
    "tags": []
   },
   "outputs": [],
   "source": [
    "df = linkedin.network.get_connections(limit = 100)"
   ]
  },
  {
   "cell_type": "code",
   "execution_count": 5,
   "id": "696c8f06-8b5e-405e-bff5-4f15bee16d3a",
   "metadata": {
    "execution": {
     "iopub.execute_input": "2022-07-05T13:31:57.177366Z",
     "iopub.status.busy": "2022-07-05T13:31:57.176998Z",
     "iopub.status.idle": "2022-07-05T13:31:57.183191Z",
     "shell.execute_reply": "2022-07-05T13:31:57.182505Z",
     "shell.execute_reply.started": "2022-07-05T13:31:57.177335Z"
    },
    "tags": []
   },
   "outputs": [],
   "source": [
    "df['CREATED_AT'] = pd.to_datetime(df['CREATED_AT']).dt.date # changing the CREATED_AT column data to datetime format"
   ]
  },
  {
   "cell_type": "code",
   "execution_count": 6,
   "id": "e31aa513-1a82-465b-91ce-a09445117a10",
   "metadata": {
    "execution": {
     "iopub.execute_input": "2022-07-05T13:31:57.184590Z",
     "iopub.status.busy": "2022-07-05T13:31:57.184297Z",
     "iopub.status.idle": "2022-07-05T13:31:57.287502Z",
     "shell.execute_reply": "2022-07-05T13:31:57.286902Z",
     "shell.execute_reply.started": "2022-07-05T13:31:57.184558Z"
    },
    "tags": []
   },
   "outputs": [],
   "source": [
    "df_profiles = df[df['CREATED_AT'] == date.today()] # restricting the dataframe to hold only the details of people connected today"
   ]
  },
  {
   "cell_type": "markdown",
   "id": "b86c3b5f-f211-4ef4-9f13-ce34c241d37f",
   "metadata": {},
   "source": [
    "The message format sent to new connections is structured as follows - Greeting{space}First_Name{comma}{space}Message\n",
    "\n",
    "eg: Hi Asif, thank you for connecting with me!\n",
    "\n",
    "First_Name is directly fetched from the dataframe and we can customize the Greeting and Message parameters by editing the strings in the below cell."
   ]
  },
  {
   "cell_type": "code",
   "execution_count": null,
   "id": "5d446901-5aeb-4afc-a97b-981e1eb73d35",
   "metadata": {},
   "outputs": [],
   "source": [
    "Greeting = \"Hi\"\n",
    "Message = \"thank you for connecting with me!\""
   ]
  },
  {
   "cell_type": "markdown",
   "id": "developed-acquisition",
   "metadata": {
    "papermill": {},
    "tags": []
   },
   "source": [
    "## Output"
   ]
  },
  {
   "cell_type": "markdown",
   "id": "3ffa3d36-aa9d-4f4d-915d-8f16158ef3ac",
   "metadata": {
    "papermill": {},
    "tags": []
   },
   "source": [
    "### Send the message"
   ]
  },
  {
   "cell_type": "code",
   "execution_count": 9,
   "id": "impossible-subsection",
   "metadata": {
    "execution": {
     "iopub.execute_input": "2022-07-05T13:31:57.522437Z",
     "iopub.status.busy": "2022-07-05T13:31:57.522174Z",
     "iopub.status.idle": "2022-07-05T13:32:37.933491Z",
     "shell.execute_reply": "2022-07-05T13:32:37.932333Z",
     "shell.execute_reply.started": "2022-07-05T13:31:57.522410Z"
    },
    "papermill": {},
    "tags": []
   },
   "outputs": [],
   "source": [
    "for i in df_profiles.index: # looping through each profile in the dataframe of new connections\n",
    "    result = linkedin.message.send(content= Greeting + \" \" + df_profiles['FIRSTNAME'][i] + \",\" + \" \" + Message, recipients_url=df_profiles['PROFILE_URL'][i])"
   ]
  }
 ],
 "metadata": {
  "kernelspec": {
   "display_name": "Python 3",
   "language": "python",
   "name": "python3"
  },
  "language_info": {
   "codemirror_mode": {
    "name": "ipython",
    "version": 3
   },
   "file_extension": ".py",
   "mimetype": "text/x-python",
   "name": "python",
   "nbconvert_exporter": "python",
   "pygments_lexer": "ipython3",
   "version": "3.9.6"
  },
  "naas": {
   "notebook_id": "fbd5c5f0-f775-41e7-b28a-620c9a34aa80",
   "notebook_path": "LinkedIn/LinkedIn_Send_message_to_profile.ipynb"
  },
  "papermill": {
   "default_parameters": {},
   "environment_variables": {},
   "parameters": {},
   "version": "2.3.3"
  },
  "widgets": {
   "application/vnd.jupyter.widget-state+json": {
    "state": {},
    "version_major": 2,
    "version_minor": 0
   }
  }
 },
 "nbformat": 4,
 "nbformat_minor": 5
}
