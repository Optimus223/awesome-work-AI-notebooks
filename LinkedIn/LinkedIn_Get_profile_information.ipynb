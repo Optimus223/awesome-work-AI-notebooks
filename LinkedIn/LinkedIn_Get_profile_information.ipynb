{
 "cells": [
  {
   "cell_type": "markdown",
   "id": "recreational-precipitation",
   "metadata": {
    "execution": {
     "iopub.execute_input": "2021-01-25T08:00:35.294800Z",
     "iopub.status.busy": "2021-01-25T08:00:35.294557Z",
     "iopub.status.idle": "2021-01-25T08:00:35.307281Z",
     "shell.execute_reply": "2021-01-25T08:00:35.306468Z",
     "shell.execute_reply.started": "2021-01-25T08:00:35.294775Z"
    },
    "papermill": {},
    "tags": []
   },
   "source": [
    "<img width=\"10%\" alt=\"Naas\" src=\"https://landen.imgix.net/jtci2pxwjczr/assets/5ice39g4.png?w=160\"/>"
   ]
  },
  {
   "cell_type": "markdown",
   "id": "anticipated-teach",
   "metadata": {
    "papermill": {},
    "tags": []
   },
   "source": [
    "# LinkedIn - Get profile information\n",
    "<a href=\"https://app.naas.ai/user-redirect/naas/downloader?url=https://raw.githubusercontent.com/jupyter-naas/awesome-notebooks/master/LinkedIn/LinkedIn_Get_resume_from_profile.ipynb\" target=\"_parent\"><img src=\"https://naasai-public.s3.eu-west-3.amazonaws.com/open_in_naas.svg\"/></a>"
   ]
  },
  {
   "cell_type": "markdown",
   "id": "6f9a2cbe-a573-488b-88aa-c505a38b3ef5",
   "metadata": {
    "papermill": {},
    "tags": []
   },
   "source": [
    "**Tags:** #linkedin #profile #resume #naas_drivers #content #snippet #dataframe"
   ]
  },
  {
   "cell_type": "markdown",
   "id": "22dbfea6-e1b5-4ed3-bc81-71d4f44ef0aa",
   "metadata": {
    "papermill": {},
    "tags": []
   },
   "source": [
    "**Author:** [Florent Ravenel](https://www.linkedin.com/in/florent-ravenel/)"
   ]
  },
  {
   "cell_type": "markdown",
   "id": "attractive-bandwidth",
   "metadata": {
    "papermill": {},
    "tags": []
   },
   "source": [
    "## Input"
   ]
  },
  {
   "cell_type": "markdown",
   "id": "import_cell",
   "metadata": {
    "papermill": {},
    "tags": []
   },
   "source": [
    "### Import library"
   ]
  },
  {
   "cell_type": "code",
   "execution_count": 1,
   "id": "dangerous-christianity",
   "metadata": {
    "execution": {
     "iopub.execute_input": "2022-10-06T11:26:30.903708Z",
     "iopub.status.busy": "2022-10-06T11:26:30.903312Z",
     "iopub.status.idle": "2022-10-06T11:26:35.101503Z",
     "shell.execute_reply": "2022-10-06T11:26:35.100832Z",
     "shell.execute_reply.started": "2022-10-06T11:26:30.903608Z"
    },
    "papermill": {},
    "tags": []
   },
   "outputs": [],
   "source": [
    "from naas_drivers import linkedin\n",
    "import naas"
   ]
  },
  {
   "cell_type": "markdown",
   "id": "quiet-founder",
   "metadata": {
    "papermill": {},
    "tags": []
   },
   "source": [
    "### Get your cookies\n",
    "<a href='https://www.notion.so/LinkedIn-driver-Get-your-cookies-d20a8e7e508e42af8a5b52e33f3dba75'>How to get your cookies ?</a>"
   ]
  },
  {
   "cell_type": "code",
   "execution_count": 2,
   "id": "classical-necklace",
   "metadata": {
    "execution": {
     "iopub.execute_input": "2022-10-06T11:26:35.104617Z",
     "iopub.status.busy": "2022-10-06T11:26:35.104440Z",
     "iopub.status.idle": "2022-10-06T11:26:35.463291Z",
     "shell.execute_reply": "2022-10-06T11:26:35.462500Z",
     "shell.execute_reply.started": "2022-10-06T11:26:35.104596Z"
    },
    "papermill": {},
    "tags": []
   },
   "outputs": [],
   "source": [
    "LI_AT = naas.secret.get(\"LINKEDIN_LI_AT\")\n",
    "JSESSIONID = naas.secret.get(\"LINKEDIN_JSESSIONID\")"
   ]
  },
  {
   "cell_type": "markdown",
   "id": "ambient-shanghai",
   "metadata": {
    "papermill": {},
    "tags": []
   },
   "source": [
    "### Enter profile URL"
   ]
  },
  {
   "cell_type": "code",
   "execution_count": 3,
   "id": "consolidated-haiti",
   "metadata": {
    "execution": {
     "iopub.execute_input": "2022-10-06T11:26:35.466552Z",
     "iopub.status.busy": "2022-10-06T11:26:35.466279Z",
     "iopub.status.idle": "2022-10-06T11:26:35.482306Z",
     "shell.execute_reply": "2022-10-06T11:26:35.481441Z",
     "shell.execute_reply.started": "2022-10-06T11:26:35.466521Z"
    },
    "papermill": {},
    "tags": []
   },
   "outputs": [],
   "source": [
    "PROFILE_URL = \"florent-ravenel\""
   ]
  },
  {
   "cell_type": "markdown",
   "id": "polished-prior",
   "metadata": {
    "papermill": {},
    "tags": []
   },
   "source": [
    "## Model"
   ]
  },
  {
   "cell_type": "markdown",
   "id": "fb5f8f87-3659-4188-88de-cf9ba7652937",
   "metadata": {},
   "source": [
    "### Get identity"
   ]
  },
  {
   "cell_type": "code",
   "execution_count": 4,
   "id": "ebbdcae1-8a09-46a2-9cbb-b312de931e83",
   "metadata": {
    "execution": {
     "iopub.execute_input": "2022-10-06T11:26:35.484040Z",
     "iopub.status.busy": "2022-10-06T11:26:35.483804Z",
     "iopub.status.idle": "2022-10-06T11:26:45.095948Z",
     "shell.execute_reply": "2022-10-06T11:26:45.095251Z",
     "shell.execute_reply.started": "2022-10-06T11:26:35.484011Z"
    },
    "tags": []
   },
   "outputs": [
    {
     "data": {
      "text/html": [
       "<div>\n",
       "<style scoped>\n",
       "    .dataframe tbody tr th:only-of-type {\n",
       "        vertical-align: middle;\n",
       "    }\n",
       "\n",
       "    .dataframe tbody tr th {\n",
       "        vertical-align: top;\n",
       "    }\n",
       "\n",
       "    .dataframe thead th {\n",
       "        text-align: right;\n",
       "    }\n",
       "</style>\n",
       "<table border=\"1\" class=\"dataframe\">\n",
       "  <thead>\n",
       "    <tr style=\"text-align: right;\">\n",
       "      <th></th>\n",
       "      <th>FIRSTNAME</th>\n",
       "      <th>LASTNAME</th>\n",
       "      <th>SUMMARY</th>\n",
       "      <th>OCCUPATION</th>\n",
       "      <th>INDUSTRY_NAME</th>\n",
       "      <th>ADDRESS</th>\n",
       "      <th>REGION</th>\n",
       "      <th>COUNTRY</th>\n",
       "      <th>LOCATION</th>\n",
       "      <th>BIRTHDATE</th>\n",
       "      <th>PROFILE_ID</th>\n",
       "      <th>PROFILE_URL</th>\n",
       "      <th>PUBLIC_ID</th>\n",
       "      <th>BACKGROUND_PICTURE</th>\n",
       "      <th>PROFILE_PICTURE</th>\n",
       "    </tr>\n",
       "  </thead>\n",
       "  <tbody>\n",
       "    <tr>\n",
       "      <th>0</th>\n",
       "      <td>Florent</td>\n",
       "      <td>Ravenel</td>\n",
       "      <td>Coming from a business background, I developed...</td>\n",
       "      <td>⚡️ Building templates and data products in Jup...</td>\n",
       "      <td>Information Technology &amp; Services</td>\n",
       "      <td>None</td>\n",
       "      <td>Vitré, Brittany</td>\n",
       "      <td>France</td>\n",
       "      <td>France</td>\n",
       "      <td>No birthdate</td>\n",
       "      <td>ACoAABCNSioBW3YZHc2lBHVG0E_TXYWitQkmwog</td>\n",
       "      <td>https://www.linkedin.com/in/ACoAABCNSioBW3YZHc...</td>\n",
       "      <td>florent-ravenel</td>\n",
       "      <td>https://media-exp1.licdn.com/dms/image/C4D16AQ...</td>\n",
       "      <td>https://media-exp1.licdn.com/dms/image/C4E03AQ...</td>\n",
       "    </tr>\n",
       "  </tbody>\n",
       "</table>\n",
       "</div>"
      ],
      "text/plain": [
       "  FIRSTNAME LASTNAME                                            SUMMARY  \\\n",
       "0   Florent  Ravenel  Coming from a business background, I developed...   \n",
       "\n",
       "                                          OCCUPATION  \\\n",
       "0  ⚡️ Building templates and data products in Jup...   \n",
       "\n",
       "                       INDUSTRY_NAME ADDRESS           REGION COUNTRY  \\\n",
       "0  Information Technology & Services    None  Vitré, Brittany  France   \n",
       "\n",
       "  LOCATION     BIRTHDATE                               PROFILE_ID  \\\n",
       "0   France  No birthdate  ACoAABCNSioBW3YZHc2lBHVG0E_TXYWitQkmwog   \n",
       "\n",
       "                                         PROFILE_URL        PUBLIC_ID  \\\n",
       "0  https://www.linkedin.com/in/ACoAABCNSioBW3YZHc...  florent-ravenel   \n",
       "\n",
       "                                  BACKGROUND_PICTURE  \\\n",
       "0  https://media-exp1.licdn.com/dms/image/C4D16AQ...   \n",
       "\n",
       "                                     PROFILE_PICTURE  \n",
       "0  https://media-exp1.licdn.com/dms/image/C4E03AQ...  "
      ]
     },
     "execution_count": 4,
     "metadata": {},
     "output_type": "execute_result"
    }
   ],
   "source": [
    "df_identity = linkedin.connect(LI_AT, JSESSIONID).profile.get_identity(PROFILE_URL)\n",
    "df_identity"
   ]
  },
  {
   "cell_type": "markdown",
   "id": "40ab8d5c-20bc-463b-acfb-17fe196dbe4e",
   "metadata": {},
   "source": [
    "### Get network"
   ]
  },
  {
   "cell_type": "code",
   "execution_count": 5,
   "id": "c93ff77d-83eb-4b05-8211-c17d2517a3ea",
   "metadata": {
    "execution": {
     "iopub.execute_input": "2022-10-06T11:26:59.595945Z",
     "iopub.status.busy": "2022-10-06T11:26:59.595706Z",
     "iopub.status.idle": "2022-10-06T11:27:08.994988Z",
     "shell.execute_reply": "2022-10-06T11:27:08.994390Z",
     "shell.execute_reply.started": "2022-10-06T11:26:59.595923Z"
    },
    "tags": []
   },
   "outputs": [
    {
     "data": {
      "text/html": [
       "<div>\n",
       "<style scoped>\n",
       "    .dataframe tbody tr th:only-of-type {\n",
       "        vertical-align: middle;\n",
       "    }\n",
       "\n",
       "    .dataframe tbody tr th {\n",
       "        vertical-align: top;\n",
       "    }\n",
       "\n",
       "    .dataframe thead th {\n",
       "        text-align: right;\n",
       "    }\n",
       "</style>\n",
       "<table border=\"1\" class=\"dataframe\">\n",
       "  <thead>\n",
       "    <tr style=\"text-align: right;\">\n",
       "      <th></th>\n",
       "      <th>PROFILE_ID</th>\n",
       "      <th>PROFILE_URL</th>\n",
       "      <th>PUBLIC_ID</th>\n",
       "      <th>DISTANCE</th>\n",
       "      <th>FOLLOWING</th>\n",
       "      <th>FOLLOWABLE</th>\n",
       "      <th>FOLLOWERS_COUNT</th>\n",
       "    </tr>\n",
       "  </thead>\n",
       "  <tbody>\n",
       "    <tr>\n",
       "      <th>0</th>\n",
       "      <td>ACoAABCNSioBW3YZHc2lBHVG0E_TXYWitQkmwog</td>\n",
       "      <td>https://www.linkedin.com/in/florent-ravenel</td>\n",
       "      <td>florent-ravenel</td>\n",
       "      <td>SELF</td>\n",
       "      <td>False</td>\n",
       "      <td>True</td>\n",
       "      <td>2684</td>\n",
       "    </tr>\n",
       "  </tbody>\n",
       "</table>\n",
       "</div>"
      ],
      "text/plain": [
       "                                PROFILE_ID  \\\n",
       "0  ACoAABCNSioBW3YZHc2lBHVG0E_TXYWitQkmwog   \n",
       "\n",
       "                                   PROFILE_URL        PUBLIC_ID DISTANCE  \\\n",
       "0  https://www.linkedin.com/in/florent-ravenel  florent-ravenel     SELF   \n",
       "\n",
       "   FOLLOWING  FOLLOWABLE  FOLLOWERS_COUNT  \n",
       "0      False        True             2684  "
      ]
     },
     "execution_count": 5,
     "metadata": {},
     "output_type": "execute_result"
    }
   ],
   "source": [
    "df_network = linkedin.connect(LI_AT, JSESSIONID).profile.get_network(PROFILE_URL)\n",
    "df_network"
   ]
  },
  {
   "cell_type": "markdown",
   "id": "bbecdf40-d328-436a-85bd-f68f1969823f",
   "metadata": {},
   "source": [
    "### Get contact"
   ]
  },
  {
   "cell_type": "code",
   "execution_count": 6,
   "id": "ef7c9ccf-61b4-4f90-8e18-53e55fae259b",
   "metadata": {
    "execution": {
     "iopub.execute_input": "2022-10-06T11:27:24.107344Z",
     "iopub.status.busy": "2022-10-06T11:27:24.107112Z",
     "iopub.status.idle": "2022-10-06T11:27:33.417738Z",
     "shell.execute_reply": "2022-10-06T11:27:33.409865Z",
     "shell.execute_reply.started": "2022-10-06T11:27:24.107322Z"
    },
    "tags": []
   },
   "outputs": [
    {
     "data": {
      "text/html": [
       "<div>\n",
       "<style scoped>\n",
       "    .dataframe tbody tr th:only-of-type {\n",
       "        vertical-align: middle;\n",
       "    }\n",
       "\n",
       "    .dataframe tbody tr th {\n",
       "        vertical-align: top;\n",
       "    }\n",
       "\n",
       "    .dataframe thead th {\n",
       "        text-align: right;\n",
       "    }\n",
       "</style>\n",
       "<table border=\"1\" class=\"dataframe\">\n",
       "  <thead>\n",
       "    <tr style=\"text-align: right;\">\n",
       "      <th></th>\n",
       "      <th>PROFILE_ID</th>\n",
       "      <th>PROFILE_URL</th>\n",
       "      <th>PUBLIC_ID</th>\n",
       "      <th>EMAIL</th>\n",
       "      <th>CONNECTED_AT</th>\n",
       "      <th>BIRTHDATE</th>\n",
       "      <th>ADDRESS</th>\n",
       "      <th>TWITER</th>\n",
       "      <th>PHONENUMBER</th>\n",
       "      <th>WEBSITES</th>\n",
       "      <th>INTERESTS</th>\n",
       "    </tr>\n",
       "  </thead>\n",
       "  <tbody>\n",
       "    <tr>\n",
       "      <th>0</th>\n",
       "      <td>ACoAABCNSioBW3YZHc2lBHVG0E_TXYWitQkmwog</td>\n",
       "      <td>https://www.linkedin.com/in/florent-ravenel</td>\n",
       "      <td>florent-ravenel</td>\n",
       "      <td>florent.ravenel1@gmail.com</td>\n",
       "      <td>None</td>\n",
       "      <td>18/8/Year Unknown</td>\n",
       "      <td>None</td>\n",
       "      <td>None</td>\n",
       "      <td>None</td>\n",
       "      <td></td>\n",
       "      <td>None</td>\n",
       "    </tr>\n",
       "  </tbody>\n",
       "</table>\n",
       "</div>"
      ],
      "text/plain": [
       "                                PROFILE_ID  \\\n",
       "0  ACoAABCNSioBW3YZHc2lBHVG0E_TXYWitQkmwog   \n",
       "\n",
       "                                   PROFILE_URL        PUBLIC_ID  \\\n",
       "0  https://www.linkedin.com/in/florent-ravenel  florent-ravenel   \n",
       "\n",
       "                        EMAIL CONNECTED_AT          BIRTHDATE ADDRESS TWITER  \\\n",
       "0  florent.ravenel1@gmail.com         None  18/8/Year Unknown    None   None   \n",
       "\n",
       "  PHONENUMBER WEBSITES INTERESTS  \n",
       "0        None               None  "
      ]
     },
     "execution_count": 6,
     "metadata": {},
     "output_type": "execute_result"
    }
   ],
   "source": [
    "df_contact = linkedin.connect(LI_AT, JSESSIONID).profile.get_contact(PROFILE_URL)\n",
    "df_contact"
   ]
  },
  {
   "cell_type": "markdown",
   "id": "eca7ea18-3bbe-45c9-b371-a9764c143f1d",
   "metadata": {},
   "source": [
    "### Get resume"
   ]
  },
  {
   "cell_type": "code",
   "execution_count": 7,
   "id": "miniature-manitoba",
   "metadata": {
    "execution": {
     "iopub.execute_input": "2022-10-06T11:27:45.390660Z",
     "iopub.status.busy": "2022-10-06T11:27:45.390430Z",
     "iopub.status.idle": "2022-10-06T11:27:46.272973Z",
     "shell.execute_reply": "2022-10-06T11:27:46.272446Z",
     "shell.execute_reply.started": "2022-10-06T11:27:45.390636Z"
    },
    "papermill": {},
    "tags": []
   },
   "outputs": [
    {
     "data": {
      "text/html": [
       "<div>\n",
       "<style scoped>\n",
       "    .dataframe tbody tr th:only-of-type {\n",
       "        vertical-align: middle;\n",
       "    }\n",
       "\n",
       "    .dataframe tbody tr th {\n",
       "        vertical-align: top;\n",
       "    }\n",
       "\n",
       "    .dataframe thead th {\n",
       "        text-align: right;\n",
       "    }\n",
       "</style>\n",
       "<table border=\"1\" class=\"dataframe\">\n",
       "  <thead>\n",
       "    <tr style=\"text-align: right;\">\n",
       "      <th></th>\n",
       "      <th>PROFILE_ID</th>\n",
       "      <th>PROFILE_URL</th>\n",
       "      <th>FULL_NAME</th>\n",
       "      <th>CATEGORY</th>\n",
       "      <th>TITLE</th>\n",
       "      <th>DATE_START</th>\n",
       "      <th>DATE_END</th>\n",
       "      <th>PLACE_ID</th>\n",
       "      <th>PLACE</th>\n",
       "      <th>FIELD</th>\n",
       "      <th>LOCATION</th>\n",
       "      <th>DESCRIPTION</th>\n",
       "      <th>DATE_EXTRACT</th>\n",
       "    </tr>\n",
       "  </thead>\n",
       "  <tbody>\n",
       "    <tr>\n",
       "      <th>0</th>\n",
       "      <td>ACoAABCNSioBW3YZHc2lBHVG0E_TXYWitQkmwog</td>\n",
       "      <td>https://www.linkedin.com/in/ACoAABCNSioBW3YZHc...</td>\n",
       "      <td>Florent Ravenel</td>\n",
       "      <td>Experience</td>\n",
       "      <td>Co-Founder</td>\n",
       "      <td>2020-11</td>\n",
       "      <td>Present</td>\n",
       "      <td>70506391</td>\n",
       "      <td>naas.ai</td>\n",
       "      <td>Logiciels informatiques</td>\n",
       "      <td>World</td>\n",
       "      <td>⚡️All-in-one open source data platform</td>\n",
       "      <td>2022-10-06 13:27:46</td>\n",
       "    </tr>\n",
       "    <tr>\n",
       "      <th>1</th>\n",
       "      <td>ACoAABCNSioBW3YZHc2lBHVG0E_TXYWitQkmwog</td>\n",
       "      <td>https://www.linkedin.com/in/ACoAABCNSioBW3YZHc...</td>\n",
       "      <td>Florent Ravenel</td>\n",
       "      <td>Experience</td>\n",
       "      <td>Co-Founder</td>\n",
       "      <td>2018-10</td>\n",
       "      <td>Present</td>\n",
       "      <td>11146681</td>\n",
       "      <td>CashStory</td>\n",
       "      <td>Technologies et services de l’information</td>\n",
       "      <td>World</td>\n",
       "      <td>- Work with associates to steer the company’s ...</td>\n",
       "      <td>2022-10-06 13:27:46</td>\n",
       "    </tr>\n",
       "    <tr>\n",
       "      <th>2</th>\n",
       "      <td>ACoAABCNSioBW3YZHc2lBHVG0E_TXYWitQkmwog</td>\n",
       "      <td>https://www.linkedin.com/in/ACoAABCNSioBW3YZHc...</td>\n",
       "      <td>Florent Ravenel</td>\n",
       "      <td>Experience</td>\n",
       "      <td>MOA Finance Consultant</td>\n",
       "      <td>2017-03</td>\n",
       "      <td>2019-02</td>\n",
       "      <td>439981</td>\n",
       "      <td>Groupe BPCE</td>\n",
       "      <td>Banques</td>\n",
       "      <td>Paris Area, France</td>\n",
       "      <td>Project : Implementation of a technology solut...</td>\n",
       "      <td>2022-10-06 13:27:46</td>\n",
       "    </tr>\n",
       "    <tr>\n",
       "      <th>3</th>\n",
       "      <td>ACoAABCNSioBW3YZHc2lBHVG0E_TXYWitQkmwog</td>\n",
       "      <td>https://www.linkedin.com/in/ACoAABCNSioBW3YZHc...</td>\n",
       "      <td>Florent Ravenel</td>\n",
       "      <td>Experience</td>\n",
       "      <td>Financial Planning Analyst</td>\n",
       "      <td>2016-10</td>\n",
       "      <td>2017-02</td>\n",
       "      <td>2443</td>\n",
       "      <td>Alstom</td>\n",
       "      <td>Transports routiers et ferroviaires</td>\n",
       "      <td>Région de Paris, France</td>\n",
       "      <td>- Prepare the monthly instructions and build t...</td>\n",
       "      <td>2022-10-06 13:27:46</td>\n",
       "    </tr>\n",
       "    <tr>\n",
       "      <th>4</th>\n",
       "      <td>ACoAABCNSioBW3YZHc2lBHVG0E_TXYWitQkmwog</td>\n",
       "      <td>https://www.linkedin.com/in/ACoAABCNSioBW3YZHc...</td>\n",
       "      <td>Florent Ravenel</td>\n",
       "      <td>Education</td>\n",
       "      <td>Master’s Degree</td>\n",
       "      <td>2016-00</td>\n",
       "      <td>2016-00</td>\n",
       "      <td>15036</td>\n",
       "      <td>Tecnológico de Monterrey</td>\n",
       "      <td>Business Administration and Management, General</td>\n",
       "      <td>None</td>\n",
       "      <td>None</td>\n",
       "      <td>2022-10-06 13:27:46</td>\n",
       "    </tr>\n",
       "    <tr>\n",
       "      <th>5</th>\n",
       "      <td>ACoAABCNSioBW3YZHc2lBHVG0E_TXYWitQkmwog</td>\n",
       "      <td>https://www.linkedin.com/in/ACoAABCNSioBW3YZHc...</td>\n",
       "      <td>Florent Ravenel</td>\n",
       "      <td>Experience</td>\n",
       "      <td>Financial Project Manager</td>\n",
       "      <td>2015-03</td>\n",
       "      <td>2015-12</td>\n",
       "      <td>2999687</td>\n",
       "      <td>Hermès</td>\n",
       "      <td>Articles de luxe et bijouterie</td>\n",
       "      <td>Région de Paris, France</td>\n",
       "      <td>Project : Design and deployment of a major int...</td>\n",
       "      <td>2022-10-06 13:27:46</td>\n",
       "    </tr>\n",
       "    <tr>\n",
       "      <th>6</th>\n",
       "      <td>ACoAABCNSioBW3YZHc2lBHVG0E_TXYWitQkmwog</td>\n",
       "      <td>https://www.linkedin.com/in/ACoAABCNSioBW3YZHc...</td>\n",
       "      <td>Florent Ravenel</td>\n",
       "      <td>Education</td>\n",
       "      <td>Master’s Degree</td>\n",
       "      <td>2012-00</td>\n",
       "      <td>2016-00</td>\n",
       "      <td>12407</td>\n",
       "      <td>KEDGE Business School</td>\n",
       "      <td>Corporate Finance</td>\n",
       "      <td>None</td>\n",
       "      <td>None</td>\n",
       "      <td>2022-10-06 13:27:46</td>\n",
       "    </tr>\n",
       "    <tr>\n",
       "      <th>7</th>\n",
       "      <td>ACoAABCNSioBW3YZHc2lBHVG0E_TXYWitQkmwog</td>\n",
       "      <td>https://www.linkedin.com/in/ACoAABCNSioBW3YZHc...</td>\n",
       "      <td>Florent Ravenel</td>\n",
       "      <td>Education</td>\n",
       "      <td>Higher National Diploma</td>\n",
       "      <td>2010-00</td>\n",
       "      <td>2012-00</td>\n",
       "      <td>None</td>\n",
       "      <td>IUT - Université de Rennes 1</td>\n",
       "      <td>Business Administration and Management, General</td>\n",
       "      <td>None</td>\n",
       "      <td>None</td>\n",
       "      <td>2022-10-06 13:27:46</td>\n",
       "    </tr>\n",
       "    <tr>\n",
       "      <th>8</th>\n",
       "      <td>ACoAABCNSioBW3YZHc2lBHVG0E_TXYWitQkmwog</td>\n",
       "      <td>https://www.linkedin.com/in/ACoAABCNSioBW3YZHc...</td>\n",
       "      <td>Florent Ravenel</td>\n",
       "      <td>Volunteer</td>\n",
       "      <td>Projectionist</td>\n",
       "      <td>2007-01</td>\n",
       "      <td>2012-12</td>\n",
       "      <td>None</td>\n",
       "      <td>Le Vendelais</td>\n",
       "      <td>ARTS_AND_CULTURE</td>\n",
       "      <td>None</td>\n",
       "      <td>None</td>\n",
       "      <td>2022-10-06 13:27:46</td>\n",
       "    </tr>\n",
       "  </tbody>\n",
       "</table>\n",
       "</div>"
      ],
      "text/plain": [
       "                                PROFILE_ID  \\\n",
       "0  ACoAABCNSioBW3YZHc2lBHVG0E_TXYWitQkmwog   \n",
       "1  ACoAABCNSioBW3YZHc2lBHVG0E_TXYWitQkmwog   \n",
       "2  ACoAABCNSioBW3YZHc2lBHVG0E_TXYWitQkmwog   \n",
       "3  ACoAABCNSioBW3YZHc2lBHVG0E_TXYWitQkmwog   \n",
       "4  ACoAABCNSioBW3YZHc2lBHVG0E_TXYWitQkmwog   \n",
       "5  ACoAABCNSioBW3YZHc2lBHVG0E_TXYWitQkmwog   \n",
       "6  ACoAABCNSioBW3YZHc2lBHVG0E_TXYWitQkmwog   \n",
       "7  ACoAABCNSioBW3YZHc2lBHVG0E_TXYWitQkmwog   \n",
       "8  ACoAABCNSioBW3YZHc2lBHVG0E_TXYWitQkmwog   \n",
       "\n",
       "                                         PROFILE_URL        FULL_NAME  \\\n",
       "0  https://www.linkedin.com/in/ACoAABCNSioBW3YZHc...  Florent Ravenel   \n",
       "1  https://www.linkedin.com/in/ACoAABCNSioBW3YZHc...  Florent Ravenel   \n",
       "2  https://www.linkedin.com/in/ACoAABCNSioBW3YZHc...  Florent Ravenel   \n",
       "3  https://www.linkedin.com/in/ACoAABCNSioBW3YZHc...  Florent Ravenel   \n",
       "4  https://www.linkedin.com/in/ACoAABCNSioBW3YZHc...  Florent Ravenel   \n",
       "5  https://www.linkedin.com/in/ACoAABCNSioBW3YZHc...  Florent Ravenel   \n",
       "6  https://www.linkedin.com/in/ACoAABCNSioBW3YZHc...  Florent Ravenel   \n",
       "7  https://www.linkedin.com/in/ACoAABCNSioBW3YZHc...  Florent Ravenel   \n",
       "8  https://www.linkedin.com/in/ACoAABCNSioBW3YZHc...  Florent Ravenel   \n",
       "\n",
       "     CATEGORY                       TITLE DATE_START DATE_END  PLACE_ID  \\\n",
       "0  Experience                  Co-Founder    2020-11  Present  70506391   \n",
       "1  Experience                  Co-Founder    2018-10  Present  11146681   \n",
       "2  Experience      MOA Finance Consultant    2017-03  2019-02    439981   \n",
       "3  Experience  Financial Planning Analyst    2016-10  2017-02      2443   \n",
       "4   Education             Master’s Degree    2016-00  2016-00     15036   \n",
       "5  Experience   Financial Project Manager    2015-03  2015-12   2999687   \n",
       "6   Education             Master’s Degree    2012-00  2016-00     12407   \n",
       "7   Education     Higher National Diploma    2010-00  2012-00      None   \n",
       "8   Volunteer               Projectionist    2007-01  2012-12      None   \n",
       "\n",
       "                          PLACE  \\\n",
       "0                       naas.ai   \n",
       "1                     CashStory   \n",
       "2                   Groupe BPCE   \n",
       "3                        Alstom   \n",
       "4      Tecnológico de Monterrey   \n",
       "5                        Hermès   \n",
       "6         KEDGE Business School   \n",
       "7  IUT - Université de Rennes 1   \n",
       "8                  Le Vendelais   \n",
       "\n",
       "                                             FIELD                 LOCATION  \\\n",
       "0                          Logiciels informatiques                    World   \n",
       "1        Technologies et services de l’information                    World   \n",
       "2                                          Banques       Paris Area, France   \n",
       "3              Transports routiers et ferroviaires  Région de Paris, France   \n",
       "4  Business Administration and Management, General                     None   \n",
       "5                   Articles de luxe et bijouterie  Région de Paris, France   \n",
       "6                                Corporate Finance                     None   \n",
       "7  Business Administration and Management, General                     None   \n",
       "8                                 ARTS_AND_CULTURE                     None   \n",
       "\n",
       "                                         DESCRIPTION         DATE_EXTRACT  \n",
       "0             ⚡️All-in-one open source data platform  2022-10-06 13:27:46  \n",
       "1  - Work with associates to steer the company’s ...  2022-10-06 13:27:46  \n",
       "2  Project : Implementation of a technology solut...  2022-10-06 13:27:46  \n",
       "3  - Prepare the monthly instructions and build t...  2022-10-06 13:27:46  \n",
       "4                                               None  2022-10-06 13:27:46  \n",
       "5  Project : Design and deployment of a major int...  2022-10-06 13:27:46  \n",
       "6                                               None  2022-10-06 13:27:46  \n",
       "7                                               None  2022-10-06 13:27:46  \n",
       "8                                               None  2022-10-06 13:27:46  "
      ]
     },
     "execution_count": 7,
     "metadata": {},
     "output_type": "execute_result"
    }
   ],
   "source": [
    "df_resume = linkedin.connect(LI_AT, JSESSIONID).profile.get_resume(PROFILE_URL)\n",
    "df_resume"
   ]
  },
  {
   "cell_type": "markdown",
   "id": "comic-sucking",
   "metadata": {
    "papermill": {},
    "tags": []
   },
   "source": [
    "## Output"
   ]
  },
  {
   "cell_type": "markdown",
   "id": "killing-trust",
   "metadata": {
    "papermill": {},
    "tags": []
   },
   "source": [
    "### Display result"
   ]
  }
 ],
 "metadata": {
  "kernelspec": {
   "display_name": "Python 3",
   "language": "python",
   "name": "python3"
  },
  "language_info": {
   "codemirror_mode": {
    "name": "ipython",
    "version": 3
   },
   "file_extension": ".py",
   "mimetype": "text/x-python",
   "name": "python",
   "nbconvert_exporter": "python",
   "pygments_lexer": "ipython3",
   "version": "3.9.6"
  },
  "naas": {
   "notebook_id": "047604be-ec28-4d12-9de2-08745fb9f5be",
   "notebook_path": "LinkedIn/LinkedIn_Get_resume_from_profile.ipynb"
  },
  "papermill": {
   "default_parameters": {},
   "environment_variables": {},
   "parameters": {},
   "version": "2.3.3"
  },
  "widgets": {
   "application/vnd.jupyter.widget-state+json": {
    "state": {},
    "version_major": 2,
    "version_minor": 0
   }
  }
 },
 "nbformat": 4,
 "nbformat_minor": 5
}
