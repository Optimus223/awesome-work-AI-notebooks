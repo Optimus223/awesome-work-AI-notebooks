{
 "cells": [
  {
   "cell_type": "markdown",
   "id": "e46cda1e",
   "metadata": {},
   "source": [
    "<img width=\"10%\" alt=\"Naas\" src=\"https://landen.imgix.net/jtci2pxwjczr/assets/5ice39g4.png?w=160\"/>\n"
   ]
  },
  {
   "cell_type": "markdown",
   "id": "b0d4ced6",
   "metadata": {},
   "source": [
    "# LinkedIn - Follow Total Content Views\n"
   ]
  },
  {
   "cell_type": "markdown",
   "id": "06cb7cb7",
   "metadata": {},
   "source": [
    "**Tags:** #linkedin #html #plotly #csv #image #content #analytics #automation\n"
   ]
  },
  {
   "cell_type": "markdown",
   "id": "c64eee3c",
   "metadata": {},
   "source": [
    "**Author:** [Sanjeet Attili](https://www.linkedin.com/in/sanjeet-attili-760bab190/)\n",
    "\n",
    "With this notebook, you can see the evolution the number of views on your content published on LinkedIn on your personal profile, cumulated, daily since first activity.\n"
   ]
  },
  {
   "cell_type": "markdown",
   "id": "f65cd676",
   "metadata": {},
   "source": [
    "## Input\n"
   ]
  },
  {
   "cell_type": "markdown",
   "id": "428474ab",
   "metadata": {},
   "source": [
    "### Import libraries\n"
   ]
  },
  {
   "cell_type": "code",
   "execution_count": 70,
   "id": "6214ae90",
   "metadata": {
    "execution": {
     "iopub.execute_input": "2022-04-10T17:56:52.055594Z",
     "iopub.status.busy": "2022-04-10T17:56:52.055367Z",
     "iopub.status.idle": "2022-04-10T17:56:52.065388Z",
     "shell.execute_reply": "2022-04-10T17:56:52.064684Z",
     "shell.execute_reply.started": "2022-04-10T17:56:52.055570Z"
    },
    "tags": []
   },
   "outputs": [],
   "source": [
    "from naas_drivers import linkedin\n",
    "import naas\n",
    "import pandas as pd\n",
    "from datetime import datetime\n",
    "import plotly.graph_objects as go"
   ]
  },
  {
   "cell_type": "markdown",
   "id": "a5e82061",
   "metadata": {},
   "source": [
    "### Setup LinkedIn\n",
    "\n",
    "- [Get your cookies](/d20a8e7e508e42af8a5b52e33f3dba75)\n"
   ]
  },
  {
   "cell_type": "code",
   "execution_count": 73,
   "id": "1b47849a",
   "metadata": {
    "execution": {
     "iopub.execute_input": "2022-04-10T17:58:49.605404Z",
     "iopub.status.busy": "2022-04-10T17:58:49.605178Z",
     "iopub.status.idle": "2022-04-10T17:58:49.608482Z",
     "shell.execute_reply": "2022-04-10T17:58:49.607790Z",
     "shell.execute_reply.started": "2022-04-10T17:58:49.605381Z"
    },
    "tags": []
   },
   "outputs": [],
   "source": [
    "# Lindekin cookies\n",
    "LI_AT = \"AQEDARCNSioDe6wmAAABfqF-HR4AAAF-xYqhHlYAtSu7EZZEpFer0UZF-GLuz2DNSz4asOOyCRxPGFjenv37irMObYYgxxxxxxx\"\n",
    "JSESSIONID = \"ajax:12XXXXXXXXXXXXXXXXX\"\n",
    "\n",
    "# Enter profile URL\n",
    "PROFILE_URL = \"PROFILE_URL\""
   ]
  },
  {
   "cell_type": "markdown",
   "id": "5ed1bed1",
   "metadata": {},
   "source": [
    "### Setup Outputs\n"
   ]
  },
  {
   "cell_type": "code",
   "execution_count": 40,
   "id": "190b8d21",
   "metadata": {
    "execution": {
     "iopub.execute_input": "2022-04-10T17:24:36.523955Z",
     "iopub.status.busy": "2022-04-10T17:24:36.523709Z",
     "iopub.status.idle": "2022-04-10T17:24:36.526854Z",
     "shell.execute_reply": "2022-04-10T17:24:36.526248Z",
     "shell.execute_reply.started": "2022-04-10T17:24:36.523929Z"
    },
    "tags": []
   },
   "outputs": [],
   "source": [
    "# Outputs\n",
    "name_output = \"My_output\"\n",
    "csv_output = f\"{name_output}.csv\"\n",
    "html_output = f\"{name_output}.html\"\n",
    "image_output = f\"{name_output}.png\"\n"
   ]
  },
  {
   "cell_type": "markdown",
   "id": "74aeeadb",
   "metadata": {},
   "source": [
    "### Setup Naas\n"
   ]
  },
  {
   "cell_type": "code",
   "execution_count": null,
   "id": "c881a0cf",
   "metadata": {},
   "outputs": [],
   "source": [
    "# Schedule your notebook everyday at 9:00 AM\n",
    "naas.scheduler.add(cron=\"0 9 * * *\")\n",
    "\n",
    "#-> Uncomment the line below to remove your scheduler\n",
    "# naas.scheduler.delete()\n"
   ]
  },
  {
   "cell_type": "markdown",
   "id": "b3566c94",
   "metadata": {},
   "source": [
    "## Model\n"
   ]
  },
  {
   "cell_type": "markdown",
   "id": "ba2000df",
   "metadata": {},
   "source": [
    "### Get posts feed\n"
   ]
  },
  {
   "cell_type": "code",
   "execution_count": 80,
   "id": "13a489d5",
   "metadata": {
    "execution": {
     "iopub.execute_input": "2022-04-10T18:05:28.542972Z",
     "iopub.status.busy": "2022-04-10T18:05:28.542745Z",
     "iopub.status.idle": "2022-04-10T18:05:28.573534Z",
     "shell.execute_reply": "2022-04-10T18:05:28.572788Z",
     "shell.execute_reply.started": "2022-04-10T18:05:28.542949Z"
    },
    "tags": []
   },
   "outputs": [
    {
     "data": {
      "text/html": [
       "<div>\n",
       "<style scoped>\n",
       "    .dataframe tbody tr th:only-of-type {\n",
       "        vertical-align: middle;\n",
       "    }\n",
       "\n",
       "    .dataframe tbody tr th {\n",
       "        vertical-align: top;\n",
       "    }\n",
       "\n",
       "    .dataframe thead th {\n",
       "        text-align: right;\n",
       "    }\n",
       "</style>\n",
       "<table border=\"1\" class=\"dataframe\">\n",
       "  <thead>\n",
       "    <tr style=\"text-align: right;\">\n",
       "      <th></th>\n",
       "      <th>ACTIVITY_ID</th>\n",
       "      <th>PAGINATION_TOKEN</th>\n",
       "      <th>PUBLISHED_DATE</th>\n",
       "      <th>AUTHOR_NAME</th>\n",
       "      <th>SUBDESCRIPTION</th>\n",
       "      <th>TITLE</th>\n",
       "      <th>TEXT</th>\n",
       "      <th>CHARACTER_COUNT</th>\n",
       "      <th>TAGS</th>\n",
       "      <th>TAGS_COUNT</th>\n",
       "      <th>...</th>\n",
       "      <th>IMAGE_URL</th>\n",
       "      <th>POLL_ID</th>\n",
       "      <th>POLL_QUESTION</th>\n",
       "      <th>POLL_RESULTS</th>\n",
       "      <th>POST_URL</th>\n",
       "      <th>VIEWS</th>\n",
       "      <th>COMMENTS</th>\n",
       "      <th>LIKES</th>\n",
       "      <th>SHARES</th>\n",
       "      <th>ENGAGEMENT_SCORE</th>\n",
       "    </tr>\n",
       "  </thead>\n",
       "  <tbody>\n",
       "    <tr>\n",
       "      <th>0</th>\n",
       "      <td>6914997731384053760</td>\n",
       "      <td>dXJuOmxpOmFjdGl2aXR5OjY5MTQ5OTc3MzEzODQwNTM3Nj...</td>\n",
       "      <td>2022-03-30 18:12:13+02:00</td>\n",
       "      <td>Sanjeet Attili</td>\n",
       "      <td>1 week ago</td>\n",
       "      <td>Greetings everyone!</td>\n",
       "      <td>Greetings everyone!\\n\\nI am very happy to shar...</td>\n",
       "      <td>650</td>\n",
       "      <td>#github #data #opensource #automation #joboppo...</td>\n",
       "      <td>5</td>\n",
       "      <td>...</td>\n",
       "      <td>NaN</td>\n",
       "      <td>NaN</td>\n",
       "      <td>NaN</td>\n",
       "      <td>NaN</td>\n",
       "      <td>https://www.linkedin.com/feed/update/urn:li:ac...</td>\n",
       "      <td>1799</td>\n",
       "      <td>10</td>\n",
       "      <td>26</td>\n",
       "      <td>0</td>\n",
       "      <td>0.0200</td>\n",
       "    </tr>\n",
       "    <tr>\n",
       "      <th>1</th>\n",
       "      <td>6807686832399233024</td>\n",
       "      <td>dXJuOmxpOmFjdGl2aXR5OjY4MDc2ODY4MzIzOTkyMzMwMj...</td>\n",
       "      <td>2021-06-07 15:17:01+02:00</td>\n",
       "      <td>Sanjeet Attili</td>\n",
       "      <td>10 months ago</td>\n",
       "      <td>Someone hire this guy!</td>\n",
       "      <td>Someone hire this guy! \\nhe has a great expert...</td>\n",
       "      <td>99</td>\n",
       "      <td>#spacecomplexity</td>\n",
       "      <td>1</td>\n",
       "      <td>...</td>\n",
       "      <td>NaN</td>\n",
       "      <td>NaN</td>\n",
       "      <td>NaN</td>\n",
       "      <td>NaN</td>\n",
       "      <td>https://www.linkedin.com/feed/update/urn:li:ac...</td>\n",
       "      <td>0</td>\n",
       "      <td>0</td>\n",
       "      <td>2</td>\n",
       "      <td>0</td>\n",
       "      <td>0.0000</td>\n",
       "    </tr>\n",
       "    <tr>\n",
       "      <th>2</th>\n",
       "      <td>6805857938008350720</td>\n",
       "      <td>dXJuOmxpOmFjdGl2aXR5OjY4MDU4NTc5MzgwMDgzNTA3Mj...</td>\n",
       "      <td>2021-06-02 14:09:39+02:00</td>\n",
       "      <td>Sanjeet Attili</td>\n",
       "      <td>11 months ago</td>\n",
       "      <td>Success has many definitions,</td>\n",
       "      <td>Success has many definitions,\\nit won't be mea...</td>\n",
       "      <td>74</td>\n",
       "      <td>NaN</td>\n",
       "      <td>0</td>\n",
       "      <td>...</td>\n",
       "      <td>NaN</td>\n",
       "      <td>NaN</td>\n",
       "      <td>NaN</td>\n",
       "      <td>NaN</td>\n",
       "      <td>https://www.linkedin.com/feed/update/urn:li:ac...</td>\n",
       "      <td>370</td>\n",
       "      <td>2</td>\n",
       "      <td>3</td>\n",
       "      <td>0</td>\n",
       "      <td>0.0135</td>\n",
       "    </tr>\n",
       "    <tr>\n",
       "      <th>3</th>\n",
       "      <td>6802928068089536512</td>\n",
       "      <td>dXJuOmxpOmFjdGl2aXR5OjY4MDI5MjgwNjgwODk1MzY1MT...</td>\n",
       "      <td>2021-05-25 12:07:23+02:00</td>\n",
       "      <td>Sanjeet Attili</td>\n",
       "      <td>11 months ago</td>\n",
       "      <td>If you are born poor,</td>\n",
       "      <td>If you are born poor,\\nit's not your mistake,\\...</td>\n",
       "      <td>130</td>\n",
       "      <td>NaN</td>\n",
       "      <td>0</td>\n",
       "      <td>...</td>\n",
       "      <td>NaN</td>\n",
       "      <td>NaN</td>\n",
       "      <td>NaN</td>\n",
       "      <td>NaN</td>\n",
       "      <td>https://www.linkedin.com/feed/update/urn:li:ac...</td>\n",
       "      <td>189</td>\n",
       "      <td>0</td>\n",
       "      <td>2</td>\n",
       "      <td>0</td>\n",
       "      <td>0.0106</td>\n",
       "    </tr>\n",
       "    <tr>\n",
       "      <th>4</th>\n",
       "      <td>6796163997369561088</td>\n",
       "      <td>dXJuOmxpOmFjdGl2aXR5OjY3OTYxNjM5OTczNjk1NjEwOD...</td>\n",
       "      <td>2021-05-06 20:09:23+02:00</td>\n",
       "      <td>Sanjeet Attili</td>\n",
       "      <td>1 year ago</td>\n",
       "      <td>*THEORY OF LIFE*</td>\n",
       "      <td>*THEORY OF LIFE*\\nWhen flood comes,\\nThe fish ...</td>\n",
       "      <td>214</td>\n",
       "      <td>NaN</td>\n",
       "      <td>0</td>\n",
       "      <td>...</td>\n",
       "      <td>NaN</td>\n",
       "      <td>NaN</td>\n",
       "      <td>NaN</td>\n",
       "      <td>NaN</td>\n",
       "      <td>https://www.linkedin.com/feed/update/urn:li:ac...</td>\n",
       "      <td>187</td>\n",
       "      <td>0</td>\n",
       "      <td>4</td>\n",
       "      <td>0</td>\n",
       "      <td>0.0214</td>\n",
       "    </tr>\n",
       "    <tr>\n",
       "      <th>5</th>\n",
       "      <td>6770033158743310336</td>\n",
       "      <td>dXJuOmxpOmFjdGl2aXR5OjY3NzAwMzMxNTg3NDMzMTAzMz...</td>\n",
       "      <td>2021-02-23 17:34:46+01:00</td>\n",
       "      <td>Sanjeet Attili</td>\n",
       "      <td>1 year ago</td>\n",
       "      <td>Success has many definitions.</td>\n",
       "      <td>Success has many definitions.\\nIt won't be mea...</td>\n",
       "      <td>75</td>\n",
       "      <td>NaN</td>\n",
       "      <td>0</td>\n",
       "      <td>...</td>\n",
       "      <td>NaN</td>\n",
       "      <td>NaN</td>\n",
       "      <td>NaN</td>\n",
       "      <td>NaN</td>\n",
       "      <td>https://www.linkedin.com/feed/update/urn:li:ac...</td>\n",
       "      <td>149</td>\n",
       "      <td>0</td>\n",
       "      <td>0</td>\n",
       "      <td>0</td>\n",
       "      <td>0.0000</td>\n",
       "    </tr>\n",
       "  </tbody>\n",
       "</table>\n",
       "<p>6 rows × 30 columns</p>\n",
       "</div>"
      ],
      "text/plain": [
       "           ACTIVITY_ID                                   PAGINATION_TOKEN  \\\n",
       "0  6914997731384053760  dXJuOmxpOmFjdGl2aXR5OjY5MTQ5OTc3MzEzODQwNTM3Nj...   \n",
       "1  6807686832399233024  dXJuOmxpOmFjdGl2aXR5OjY4MDc2ODY4MzIzOTkyMzMwMj...   \n",
       "2  6805857938008350720  dXJuOmxpOmFjdGl2aXR5OjY4MDU4NTc5MzgwMDgzNTA3Mj...   \n",
       "3  6802928068089536512  dXJuOmxpOmFjdGl2aXR5OjY4MDI5MjgwNjgwODk1MzY1MT...   \n",
       "4  6796163997369561088  dXJuOmxpOmFjdGl2aXR5OjY3OTYxNjM5OTczNjk1NjEwOD...   \n",
       "5  6770033158743310336  dXJuOmxpOmFjdGl2aXR5OjY3NzAwMzMxNTg3NDMzMTAzMz...   \n",
       "\n",
       "              PUBLISHED_DATE     AUTHOR_NAME SUBDESCRIPTION  \\\n",
       "0  2022-03-30 18:12:13+02:00  Sanjeet Attili     1 week ago   \n",
       "1  2021-06-07 15:17:01+02:00  Sanjeet Attili  10 months ago   \n",
       "2  2021-06-02 14:09:39+02:00  Sanjeet Attili  11 months ago   \n",
       "3  2021-05-25 12:07:23+02:00  Sanjeet Attili  11 months ago   \n",
       "4  2021-05-06 20:09:23+02:00  Sanjeet Attili     1 year ago   \n",
       "5  2021-02-23 17:34:46+01:00  Sanjeet Attili     1 year ago   \n",
       "\n",
       "                           TITLE  \\\n",
       "0            Greetings everyone!   \n",
       "1        Someone hire this guy!    \n",
       "2  Success has many definitions,   \n",
       "3          If you are born poor,   \n",
       "4               *THEORY OF LIFE*   \n",
       "5  Success has many definitions.   \n",
       "\n",
       "                                                TEXT  CHARACTER_COUNT  \\\n",
       "0  Greetings everyone!\\n\\nI am very happy to shar...              650   \n",
       "1  Someone hire this guy! \\nhe has a great expert...               99   \n",
       "2  Success has many definitions,\\nit won't be mea...               74   \n",
       "3  If you are born poor,\\nit's not your mistake,\\...              130   \n",
       "4  *THEORY OF LIFE*\\nWhen flood comes,\\nThe fish ...              214   \n",
       "5  Success has many definitions.\\nIt won't be mea...               75   \n",
       "\n",
       "                                                TAGS  TAGS_COUNT  ...  \\\n",
       "0  #github #data #opensource #automation #joboppo...           5  ...   \n",
       "1                                   #spacecomplexity           1  ...   \n",
       "2                                                NaN           0  ...   \n",
       "3                                                NaN           0  ...   \n",
       "4                                                NaN           0  ...   \n",
       "5                                                NaN           0  ...   \n",
       "\n",
       "  IMAGE_URL  POLL_ID POLL_QUESTION  POLL_RESULTS  \\\n",
       "0       NaN      NaN           NaN           NaN   \n",
       "1       NaN      NaN           NaN           NaN   \n",
       "2       NaN      NaN           NaN           NaN   \n",
       "3       NaN      NaN           NaN           NaN   \n",
       "4       NaN      NaN           NaN           NaN   \n",
       "5       NaN      NaN           NaN           NaN   \n",
       "\n",
       "                                            POST_URL  VIEWS COMMENTS  LIKES  \\\n",
       "0  https://www.linkedin.com/feed/update/urn:li:ac...   1799       10     26   \n",
       "1  https://www.linkedin.com/feed/update/urn:li:ac...      0        0      2   \n",
       "2  https://www.linkedin.com/feed/update/urn:li:ac...    370        2      3   \n",
       "3  https://www.linkedin.com/feed/update/urn:li:ac...    189        0      2   \n",
       "4  https://www.linkedin.com/feed/update/urn:li:ac...    187        0      4   \n",
       "5  https://www.linkedin.com/feed/update/urn:li:ac...    149        0      0   \n",
       "\n",
       "   SHARES ENGAGEMENT_SCORE  \n",
       "0       0           0.0200  \n",
       "1       0           0.0000  \n",
       "2       0           0.0135  \n",
       "3       0           0.0106  \n",
       "4       0           0.0214  \n",
       "5       0           0.0000  \n",
       "\n",
       "[6 rows x 30 columns]"
      ]
     },
     "execution_count": 80,
     "metadata": {},
     "output_type": "execute_result"
    }
   ],
   "source": [
    "# Get posts feed from CSV stored in your local (Returns empty if CSV does not exist)\n",
    "def get_past_feeds(csv_output):\n",
    "    try:\n",
    "        df = pd.read_csv(csv_output)\n",
    "    except FileNotFoundError as e:\n",
    "        # Empty dataframe returned\n",
    "        return pd.DataFrame()\n",
    "    return df\n",
    "\n",
    "df_posts_feed = get_past_feeds(csv_output)\n",
    "df_posts_feed"
   ]
  },
  {
   "cell_type": "markdown",
   "id": "b443137b",
   "metadata": {},
   "source": [
    "### Get new posts\n"
   ]
  },
  {
   "cell_type": "code",
   "execution_count": 87,
   "id": "98191f59",
   "metadata": {
    "execution": {
     "iopub.execute_input": "2022-04-10T18:10:39.887338Z",
     "iopub.status.busy": "2022-04-10T18:10:39.887094Z",
     "iopub.status.idle": "2022-04-10T18:10:40.998288Z",
     "shell.execute_reply": "2022-04-10T18:10:40.997583Z",
     "shell.execute_reply.started": "2022-04-10T18:10:39.887315Z"
    },
    "tags": []
   },
   "outputs": [
    {
     "data": {
      "text/html": [
       "<div>\n",
       "<style scoped>\n",
       "    .dataframe tbody tr th:only-of-type {\n",
       "        vertical-align: middle;\n",
       "    }\n",
       "\n",
       "    .dataframe tbody tr th {\n",
       "        vertical-align: top;\n",
       "    }\n",
       "\n",
       "    .dataframe thead th {\n",
       "        text-align: right;\n",
       "    }\n",
       "</style>\n",
       "<table border=\"1\" class=\"dataframe\">\n",
       "  <thead>\n",
       "    <tr style=\"text-align: right;\">\n",
       "      <th></th>\n",
       "      <th>ACTIVITY_ID</th>\n",
       "      <th>PAGINATION_TOKEN</th>\n",
       "      <th>PUBLISHED_DATE</th>\n",
       "      <th>AUTHOR_NAME</th>\n",
       "      <th>SUBDESCRIPTION</th>\n",
       "      <th>TITLE</th>\n",
       "      <th>TEXT</th>\n",
       "      <th>CHARACTER_COUNT</th>\n",
       "      <th>TAGS</th>\n",
       "      <th>TAGS_COUNT</th>\n",
       "      <th>...</th>\n",
       "      <th>IMAGE_URL</th>\n",
       "      <th>POLL_ID</th>\n",
       "      <th>POLL_QUESTION</th>\n",
       "      <th>POLL_RESULTS</th>\n",
       "      <th>POST_URL</th>\n",
       "      <th>VIEWS</th>\n",
       "      <th>COMMENTS</th>\n",
       "      <th>LIKES</th>\n",
       "      <th>SHARES</th>\n",
       "      <th>ENGAGEMENT_SCORE</th>\n",
       "    </tr>\n",
       "  </thead>\n",
       "  <tbody>\n",
       "    <tr>\n",
       "      <th>0</th>\n",
       "      <td>6914997731384053760</td>\n",
       "      <td>dXJuOmxpOmFjdGl2aXR5OjY5MTQ5OTc3MzEzODQwNTM3Nj...</td>\n",
       "      <td>2022-03-30 18:12:13+02:00</td>\n",
       "      <td>Sanjeet Attili</td>\n",
       "      <td>1 week ago</td>\n",
       "      <td>Greetings everyone!</td>\n",
       "      <td>Greetings everyone!\\n\\nI am very happy to shar...</td>\n",
       "      <td>650</td>\n",
       "      <td>#github #data #opensource #automation #joboppo...</td>\n",
       "      <td>5</td>\n",
       "      <td>...</td>\n",
       "      <td>None</td>\n",
       "      <td>None</td>\n",
       "      <td>None</td>\n",
       "      <td>None</td>\n",
       "      <td>https://www.linkedin.com/feed/update/urn:li:ac...</td>\n",
       "      <td>1800</td>\n",
       "      <td>10</td>\n",
       "      <td>26</td>\n",
       "      <td>0</td>\n",
       "      <td>0.0200</td>\n",
       "    </tr>\n",
       "    <tr>\n",
       "      <th>1</th>\n",
       "      <td>6807686832399233024</td>\n",
       "      <td>dXJuOmxpOmFjdGl2aXR5OjY4MDc2ODY4MzIzOTkyMzMwMj...</td>\n",
       "      <td>2021-06-07 15:17:01+02:00</td>\n",
       "      <td>Sanjeet Attili</td>\n",
       "      <td>10 months ago</td>\n",
       "      <td>Someone hire this guy!</td>\n",
       "      <td>Someone hire this guy! \\nhe has a great expert...</td>\n",
       "      <td>99</td>\n",
       "      <td>#spacecomplexity</td>\n",
       "      <td>1</td>\n",
       "      <td>...</td>\n",
       "      <td>NaN</td>\n",
       "      <td>NaN</td>\n",
       "      <td>NaN</td>\n",
       "      <td>NaN</td>\n",
       "      <td>https://www.linkedin.com/feed/update/urn:li:ac...</td>\n",
       "      <td>0</td>\n",
       "      <td>0</td>\n",
       "      <td>2</td>\n",
       "      <td>0</td>\n",
       "      <td>0.0000</td>\n",
       "    </tr>\n",
       "    <tr>\n",
       "      <th>2</th>\n",
       "      <td>6805857938008350720</td>\n",
       "      <td>dXJuOmxpOmFjdGl2aXR5OjY4MDU4NTc5MzgwMDgzNTA3Mj...</td>\n",
       "      <td>2021-06-02 14:09:39+02:00</td>\n",
       "      <td>Sanjeet Attili</td>\n",
       "      <td>11 months ago</td>\n",
       "      <td>Success has many definitions,</td>\n",
       "      <td>Success has many definitions,\\nit won't be mea...</td>\n",
       "      <td>74</td>\n",
       "      <td>NaN</td>\n",
       "      <td>0</td>\n",
       "      <td>...</td>\n",
       "      <td>NaN</td>\n",
       "      <td>NaN</td>\n",
       "      <td>NaN</td>\n",
       "      <td>NaN</td>\n",
       "      <td>https://www.linkedin.com/feed/update/urn:li:ac...</td>\n",
       "      <td>370</td>\n",
       "      <td>2</td>\n",
       "      <td>3</td>\n",
       "      <td>0</td>\n",
       "      <td>0.0135</td>\n",
       "    </tr>\n",
       "    <tr>\n",
       "      <th>3</th>\n",
       "      <td>6802928068089536512</td>\n",
       "      <td>dXJuOmxpOmFjdGl2aXR5OjY4MDI5MjgwNjgwODk1MzY1MT...</td>\n",
       "      <td>2021-05-25 12:07:23+02:00</td>\n",
       "      <td>Sanjeet Attili</td>\n",
       "      <td>11 months ago</td>\n",
       "      <td>If you are born poor,</td>\n",
       "      <td>If you are born poor,\\nit's not your mistake,\\...</td>\n",
       "      <td>130</td>\n",
       "      <td>NaN</td>\n",
       "      <td>0</td>\n",
       "      <td>...</td>\n",
       "      <td>NaN</td>\n",
       "      <td>NaN</td>\n",
       "      <td>NaN</td>\n",
       "      <td>NaN</td>\n",
       "      <td>https://www.linkedin.com/feed/update/urn:li:ac...</td>\n",
       "      <td>189</td>\n",
       "      <td>0</td>\n",
       "      <td>2</td>\n",
       "      <td>0</td>\n",
       "      <td>0.0106</td>\n",
       "    </tr>\n",
       "    <tr>\n",
       "      <th>4</th>\n",
       "      <td>6796163997369561088</td>\n",
       "      <td>dXJuOmxpOmFjdGl2aXR5OjY3OTYxNjM5OTczNjk1NjEwOD...</td>\n",
       "      <td>2021-05-06 20:09:23+02:00</td>\n",
       "      <td>Sanjeet Attili</td>\n",
       "      <td>1 year ago</td>\n",
       "      <td>*THEORY OF LIFE*</td>\n",
       "      <td>*THEORY OF LIFE*\\nWhen flood comes,\\nThe fish ...</td>\n",
       "      <td>214</td>\n",
       "      <td>NaN</td>\n",
       "      <td>0</td>\n",
       "      <td>...</td>\n",
       "      <td>NaN</td>\n",
       "      <td>NaN</td>\n",
       "      <td>NaN</td>\n",
       "      <td>NaN</td>\n",
       "      <td>https://www.linkedin.com/feed/update/urn:li:ac...</td>\n",
       "      <td>187</td>\n",
       "      <td>0</td>\n",
       "      <td>4</td>\n",
       "      <td>0</td>\n",
       "      <td>0.0214</td>\n",
       "    </tr>\n",
       "    <tr>\n",
       "      <th>5</th>\n",
       "      <td>6770033158743310336</td>\n",
       "      <td>dXJuOmxpOmFjdGl2aXR5OjY3NzAwMzMxNTg3NDMzMTAzMz...</td>\n",
       "      <td>2021-02-23 17:34:46+01:00</td>\n",
       "      <td>Sanjeet Attili</td>\n",
       "      <td>1 year ago</td>\n",
       "      <td>Success has many definitions.</td>\n",
       "      <td>Success has many definitions.\\nIt won't be mea...</td>\n",
       "      <td>75</td>\n",
       "      <td>NaN</td>\n",
       "      <td>0</td>\n",
       "      <td>...</td>\n",
       "      <td>NaN</td>\n",
       "      <td>NaN</td>\n",
       "      <td>NaN</td>\n",
       "      <td>NaN</td>\n",
       "      <td>https://www.linkedin.com/feed/update/urn:li:ac...</td>\n",
       "      <td>149</td>\n",
       "      <td>0</td>\n",
       "      <td>0</td>\n",
       "      <td>0</td>\n",
       "      <td>0.0000</td>\n",
       "    </tr>\n",
       "  </tbody>\n",
       "</table>\n",
       "<p>6 rows × 30 columns</p>\n",
       "</div>"
      ],
      "text/plain": [
       "           ACTIVITY_ID                                   PAGINATION_TOKEN  \\\n",
       "0  6914997731384053760  dXJuOmxpOmFjdGl2aXR5OjY5MTQ5OTc3MzEzODQwNTM3Nj...   \n",
       "1  6807686832399233024  dXJuOmxpOmFjdGl2aXR5OjY4MDc2ODY4MzIzOTkyMzMwMj...   \n",
       "2  6805857938008350720  dXJuOmxpOmFjdGl2aXR5OjY4MDU4NTc5MzgwMDgzNTA3Mj...   \n",
       "3  6802928068089536512  dXJuOmxpOmFjdGl2aXR5OjY4MDI5MjgwNjgwODk1MzY1MT...   \n",
       "4  6796163997369561088  dXJuOmxpOmFjdGl2aXR5OjY3OTYxNjM5OTczNjk1NjEwOD...   \n",
       "5  6770033158743310336  dXJuOmxpOmFjdGl2aXR5OjY3NzAwMzMxNTg3NDMzMTAzMz...   \n",
       "\n",
       "              PUBLISHED_DATE     AUTHOR_NAME SUBDESCRIPTION  \\\n",
       "0  2022-03-30 18:12:13+02:00  Sanjeet Attili     1 week ago   \n",
       "1  2021-06-07 15:17:01+02:00  Sanjeet Attili  10 months ago   \n",
       "2  2021-06-02 14:09:39+02:00  Sanjeet Attili  11 months ago   \n",
       "3  2021-05-25 12:07:23+02:00  Sanjeet Attili  11 months ago   \n",
       "4  2021-05-06 20:09:23+02:00  Sanjeet Attili     1 year ago   \n",
       "5  2021-02-23 17:34:46+01:00  Sanjeet Attili     1 year ago   \n",
       "\n",
       "                           TITLE  \\\n",
       "0            Greetings everyone!   \n",
       "1        Someone hire this guy!    \n",
       "2  Success has many definitions,   \n",
       "3          If you are born poor,   \n",
       "4               *THEORY OF LIFE*   \n",
       "5  Success has many definitions.   \n",
       "\n",
       "                                                TEXT  CHARACTER_COUNT  \\\n",
       "0  Greetings everyone!\\n\\nI am very happy to shar...              650   \n",
       "1  Someone hire this guy! \\nhe has a great expert...               99   \n",
       "2  Success has many definitions,\\nit won't be mea...               74   \n",
       "3  If you are born poor,\\nit's not your mistake,\\...              130   \n",
       "4  *THEORY OF LIFE*\\nWhen flood comes,\\nThe fish ...              214   \n",
       "5  Success has many definitions.\\nIt won't be mea...               75   \n",
       "\n",
       "                                                TAGS  TAGS_COUNT  ...  \\\n",
       "0  #github #data #opensource #automation #joboppo...           5  ...   \n",
       "1                                   #spacecomplexity           1  ...   \n",
       "2                                                NaN           0  ...   \n",
       "3                                                NaN           0  ...   \n",
       "4                                                NaN           0  ...   \n",
       "5                                                NaN           0  ...   \n",
       "\n",
       "  IMAGE_URL  POLL_ID POLL_QUESTION  POLL_RESULTS  \\\n",
       "0      None     None          None          None   \n",
       "1       NaN      NaN           NaN           NaN   \n",
       "2       NaN      NaN           NaN           NaN   \n",
       "3       NaN      NaN           NaN           NaN   \n",
       "4       NaN      NaN           NaN           NaN   \n",
       "5       NaN      NaN           NaN           NaN   \n",
       "\n",
       "                                            POST_URL VIEWS COMMENTS LIKES  \\\n",
       "0  https://www.linkedin.com/feed/update/urn:li:ac...  1800       10    26   \n",
       "1  https://www.linkedin.com/feed/update/urn:li:ac...     0        0     2   \n",
       "2  https://www.linkedin.com/feed/update/urn:li:ac...   370        2     3   \n",
       "3  https://www.linkedin.com/feed/update/urn:li:ac...   189        0     2   \n",
       "4  https://www.linkedin.com/feed/update/urn:li:ac...   187        0     4   \n",
       "5  https://www.linkedin.com/feed/update/urn:li:ac...   149        0     0   \n",
       "\n",
       "  SHARES ENGAGEMENT_SCORE  \n",
       "0      0           0.0200  \n",
       "1      0           0.0000  \n",
       "2      0           0.0135  \n",
       "3      0           0.0106  \n",
       "4      0           0.0214  \n",
       "5      0           0.0000  \n",
       "\n",
       "[6 rows x 30 columns]"
      ]
     },
     "execution_count": 87,
     "metadata": {},
     "output_type": "execute_result"
    }
   ],
   "source": [
    "def get_posts(df):\n",
    "    # Get last post URL in dataframe\n",
    "    if len(df) == 0:\n",
    "        last_post_url = None\n",
    "    else:\n",
    "        last_post_url = df.POST_URL[0]\n",
    "    # Get new posts since last url (this part is important to optimize script performance)\n",
    "    until = {}\n",
    "    if last_post_url:\n",
    "        until = {\"POST_URL\": last_post_url}\n",
    "\n",
    "    df_posts_feed = linkedin.connect(LI_AT, JSESSIONID).profile.get_posts_feed(PROFILE_URL, until=until, limit=-1)\n",
    "\n",
    "    # Merge dataframe\n",
    "    merge_df = df.append(df_posts_feed, ignore_index=False)\n",
    "    merge_df.sort_values(by = 'PUBLISHED_DATE', ascending = False, inplace=True)\n",
    "    \n",
    "    # Keeps/updates the latest views count value for that day\n",
    "    merge_df.drop_duplicates('POST_URL', keep = 'last', inplace=True)\n",
    "    \n",
    "    return merge_df\n",
    "\n",
    "merged_df = get_posts(df_posts_feed)\n",
    "merged_df"
   ]
  },
  {
   "cell_type": "markdown",
   "id": "7456a048",
   "metadata": {},
   "source": [
    "### Get trend\n"
   ]
  },
  {
   "cell_type": "code",
   "execution_count": 88,
   "id": "22b41e65",
   "metadata": {
    "execution": {
     "iopub.execute_input": "2022-04-10T18:11:01.580861Z",
     "iopub.status.busy": "2022-04-10T18:11:01.580537Z",
     "iopub.status.idle": "2022-04-10T18:11:01.619765Z",
     "shell.execute_reply": "2022-04-10T18:11:01.619043Z",
     "shell.execute_reply.started": "2022-04-10T18:11:01.580826Z"
    },
    "tags": []
   },
   "outputs": [
    {
     "data": {
      "text/html": [
       "<div>\n",
       "<style scoped>\n",
       "    .dataframe tbody tr th:only-of-type {\n",
       "        vertical-align: middle;\n",
       "    }\n",
       "\n",
       "    .dataframe tbody tr th {\n",
       "        vertical-align: top;\n",
       "    }\n",
       "\n",
       "    .dataframe thead th {\n",
       "        text-align: right;\n",
       "    }\n",
       "</style>\n",
       "<table border=\"1\" class=\"dataframe\">\n",
       "  <thead>\n",
       "    <tr style=\"text-align: right;\">\n",
       "      <th></th>\n",
       "      <th>PUBLISHED_DATE</th>\n",
       "      <th>value_cum</th>\n",
       "    </tr>\n",
       "  </thead>\n",
       "  <tbody>\n",
       "    <tr>\n",
       "      <th>0</th>\n",
       "      <td>2021-02-23</td>\n",
       "      <td>149</td>\n",
       "    </tr>\n",
       "    <tr>\n",
       "      <th>1</th>\n",
       "      <td>2021-02-24</td>\n",
       "      <td>149</td>\n",
       "    </tr>\n",
       "    <tr>\n",
       "      <th>2</th>\n",
       "      <td>2021-02-25</td>\n",
       "      <td>149</td>\n",
       "    </tr>\n",
       "    <tr>\n",
       "      <th>3</th>\n",
       "      <td>2021-02-26</td>\n",
       "      <td>149</td>\n",
       "    </tr>\n",
       "    <tr>\n",
       "      <th>4</th>\n",
       "      <td>2021-02-27</td>\n",
       "      <td>149</td>\n",
       "    </tr>\n",
       "    <tr>\n",
       "      <th>...</th>\n",
       "      <td>...</td>\n",
       "      <td>...</td>\n",
       "    </tr>\n",
       "    <tr>\n",
       "      <th>407</th>\n",
       "      <td>2022-04-06</td>\n",
       "      <td>2695</td>\n",
       "    </tr>\n",
       "    <tr>\n",
       "      <th>408</th>\n",
       "      <td>2022-04-07</td>\n",
       "      <td>2695</td>\n",
       "    </tr>\n",
       "    <tr>\n",
       "      <th>409</th>\n",
       "      <td>2022-04-08</td>\n",
       "      <td>2695</td>\n",
       "    </tr>\n",
       "    <tr>\n",
       "      <th>410</th>\n",
       "      <td>2022-04-09</td>\n",
       "      <td>2695</td>\n",
       "    </tr>\n",
       "    <tr>\n",
       "      <th>411</th>\n",
       "      <td>2022-04-10</td>\n",
       "      <td>2695</td>\n",
       "    </tr>\n",
       "  </tbody>\n",
       "</table>\n",
       "<p>412 rows × 2 columns</p>\n",
       "</div>"
      ],
      "text/plain": [
       "    PUBLISHED_DATE  value_cum\n",
       "0       2021-02-23        149\n",
       "1       2021-02-24        149\n",
       "2       2021-02-25        149\n",
       "3       2021-02-26        149\n",
       "4       2021-02-27        149\n",
       "..             ...        ...\n",
       "407     2022-04-06       2695\n",
       "408     2022-04-07       2695\n",
       "409     2022-04-08       2695\n",
       "410     2022-04-09       2695\n",
       "411     2022-04-10       2695\n",
       "\n",
       "[412 rows x 2 columns]"
      ]
     },
     "execution_count": 88,
     "metadata": {},
     "output_type": "execute_result"
    }
   ],
   "source": [
    "# Create dataframe with number of LinkedIn views cumulated by date with daily variation\n",
    "# -> Empty date must be fullfiled with last value\n",
    "\n",
    "def get_trend(posts_df):\n",
    "    \n",
    "    df = posts_df.copy()\n",
    "    date_col_name='PUBLISHED_DATE'\n",
    "    value_col_name=\"VIEWS\"\n",
    "    date_order='asc'\n",
    "    \n",
    "    # Format date\n",
    "    for idx, item in enumerate(df['PUBLISHED_DATE']):\n",
    "        df.loc[idx, 'PUBLISHED_DATE'] = item.split('+')[0]\n",
    "    \n",
    "    df[date_col_name] = pd.to_datetime(df[date_col_name]).dt.strftime(\"%Y-%m-%d\")\n",
    "    df = df.groupby(date_col_name, as_index=False).agg({value_col_name: \"sum\"})\n",
    "    d = datetime.now().date()\n",
    "    d2 = df.loc[df.index[0], date_col_name]\n",
    "    idx = pd.date_range(d2, d, freq = \"D\")\n",
    "    \n",
    "    df.set_index(date_col_name, drop=True, inplace=True)\n",
    "    df.index = pd.DatetimeIndex(df.index)\n",
    "    df = df.reindex(idx, fill_value=0)\n",
    "    df[date_col_name] = pd.DatetimeIndex(df.index)\n",
    "    \n",
    "    # Calc sum cum\n",
    "    df[\"value_cum\"] = df.agg({value_col_name: \"cumsum\"})\n",
    "    df.drop(columns='VIEWS', inplace=True)\n",
    "    return df.reset_index(drop=True)\n",
    "\n",
    "df_trend = get_trend(merged_df)\n",
    "\n",
    "df_trend"
   ]
  },
  {
   "cell_type": "markdown",
   "id": "c8083216",
   "metadata": {},
   "source": [
    "## Output\n"
   ]
  },
  {
   "cell_type": "markdown",
   "id": "a474cc49",
   "metadata": {},
   "source": [
    "### Display result\n"
   ]
  },
  {
   "cell_type": "code",
   "execution_count": 89,
   "id": "1e553642",
   "metadata": {
    "execution": {
     "iopub.execute_input": "2022-04-10T18:11:06.627561Z",
     "iopub.status.busy": "2022-04-10T18:11:06.627330Z",
     "iopub.status.idle": "2022-04-10T18:11:06.660635Z",
     "shell.execute_reply": "2022-04-10T18:11:06.660010Z",
     "shell.execute_reply.started": "2022-04-10T18:11:06.627538Z"
    },
    "tags": []
   },
   "outputs": [
    {
     "data": {
      "application/vnd.plotly.v1+json": {
       "config": {
        "plotlyServerURL": "https://plot.ly"
       },
       "data": [
        {
         "marker": {
          "color": "black"
         },
         "mode": "lines",
         "type": "scatter",
         "x": [
          "2021-02-23T00:00:00",
          "2021-02-24T00:00:00",
          "2021-02-25T00:00:00",
          "2021-02-26T00:00:00",
          "2021-02-27T00:00:00",
          "2021-02-28T00:00:00",
          "2021-03-01T00:00:00",
          "2021-03-02T00:00:00",
          "2021-03-03T00:00:00",
          "2021-03-04T00:00:00",
          "2021-03-05T00:00:00",
          "2021-03-06T00:00:00",
          "2021-03-07T00:00:00",
          "2021-03-08T00:00:00",
          "2021-03-09T00:00:00",
          "2021-03-10T00:00:00",
          "2021-03-11T00:00:00",
          "2021-03-12T00:00:00",
          "2021-03-13T00:00:00",
          "2021-03-14T00:00:00",
          "2021-03-15T00:00:00",
          "2021-03-16T00:00:00",
          "2021-03-17T00:00:00",
          "2021-03-18T00:00:00",
          "2021-03-19T00:00:00",
          "2021-03-20T00:00:00",
          "2021-03-21T00:00:00",
          "2021-03-22T00:00:00",
          "2021-03-23T00:00:00",
          "2021-03-24T00:00:00",
          "2021-03-25T00:00:00",
          "2021-03-26T00:00:00",
          "2021-03-27T00:00:00",
          "2021-03-28T00:00:00",
          "2021-03-29T00:00:00",
          "2021-03-30T00:00:00",
          "2021-03-31T00:00:00",
          "2021-04-01T00:00:00",
          "2021-04-02T00:00:00",
          "2021-04-03T00:00:00",
          "2021-04-04T00:00:00",
          "2021-04-05T00:00:00",
          "2021-04-06T00:00:00",
          "2021-04-07T00:00:00",
          "2021-04-08T00:00:00",
          "2021-04-09T00:00:00",
          "2021-04-10T00:00:00",
          "2021-04-11T00:00:00",
          "2021-04-12T00:00:00",
          "2021-04-13T00:00:00",
          "2021-04-14T00:00:00",
          "2021-04-15T00:00:00",
          "2021-04-16T00:00:00",
          "2021-04-17T00:00:00",
          "2021-04-18T00:00:00",
          "2021-04-19T00:00:00",
          "2021-04-20T00:00:00",
          "2021-04-21T00:00:00",
          "2021-04-22T00:00:00",
          "2021-04-23T00:00:00",
          "2021-04-24T00:00:00",
          "2021-04-25T00:00:00",
          "2021-04-26T00:00:00",
          "2021-04-27T00:00:00",
          "2021-04-28T00:00:00",
          "2021-04-29T00:00:00",
          "2021-04-30T00:00:00",
          "2021-05-01T00:00:00",
          "2021-05-02T00:00:00",
          "2021-05-03T00:00:00",
          "2021-05-04T00:00:00",
          "2021-05-05T00:00:00",
          "2021-05-06T00:00:00",
          "2021-05-07T00:00:00",
          "2021-05-08T00:00:00",
          "2021-05-09T00:00:00",
          "2021-05-10T00:00:00",
          "2021-05-11T00:00:00",
          "2021-05-12T00:00:00",
          "2021-05-13T00:00:00",
          "2021-05-14T00:00:00",
          "2021-05-15T00:00:00",
          "2021-05-16T00:00:00",
          "2021-05-17T00:00:00",
          "2021-05-18T00:00:00",
          "2021-05-19T00:00:00",
          "2021-05-20T00:00:00",
          "2021-05-21T00:00:00",
          "2021-05-22T00:00:00",
          "2021-05-23T00:00:00",
          "2021-05-24T00:00:00",
          "2021-05-25T00:00:00",
          "2021-05-26T00:00:00",
          "2021-05-27T00:00:00",
          "2021-05-28T00:00:00",
          "2021-05-29T00:00:00",
          "2021-05-30T00:00:00",
          "2021-05-31T00:00:00",
          "2021-06-01T00:00:00",
          "2021-06-02T00:00:00",
          "2021-06-03T00:00:00",
          "2021-06-04T00:00:00",
          "2021-06-05T00:00:00",
          "2021-06-06T00:00:00",
          "2021-06-07T00:00:00",
          "2021-06-08T00:00:00",
          "2021-06-09T00:00:00",
          "2021-06-10T00:00:00",
          "2021-06-11T00:00:00",
          "2021-06-12T00:00:00",
          "2021-06-13T00:00:00",
          "2021-06-14T00:00:00",
          "2021-06-15T00:00:00",
          "2021-06-16T00:00:00",
          "2021-06-17T00:00:00",
          "2021-06-18T00:00:00",
          "2021-06-19T00:00:00",
          "2021-06-20T00:00:00",
          "2021-06-21T00:00:00",
          "2021-06-22T00:00:00",
          "2021-06-23T00:00:00",
          "2021-06-24T00:00:00",
          "2021-06-25T00:00:00",
          "2021-06-26T00:00:00",
          "2021-06-27T00:00:00",
          "2021-06-28T00:00:00",
          "2021-06-29T00:00:00",
          "2021-06-30T00:00:00",
          "2021-07-01T00:00:00",
          "2021-07-02T00:00:00",
          "2021-07-03T00:00:00",
          "2021-07-04T00:00:00",
          "2021-07-05T00:00:00",
          "2021-07-06T00:00:00",
          "2021-07-07T00:00:00",
          "2021-07-08T00:00:00",
          "2021-07-09T00:00:00",
          "2021-07-10T00:00:00",
          "2021-07-11T00:00:00",
          "2021-07-12T00:00:00",
          "2021-07-13T00:00:00",
          "2021-07-14T00:00:00",
          "2021-07-15T00:00:00",
          "2021-07-16T00:00:00",
          "2021-07-17T00:00:00",
          "2021-07-18T00:00:00",
          "2021-07-19T00:00:00",
          "2021-07-20T00:00:00",
          "2021-07-21T00:00:00",
          "2021-07-22T00:00:00",
          "2021-07-23T00:00:00",
          "2021-07-24T00:00:00",
          "2021-07-25T00:00:00",
          "2021-07-26T00:00:00",
          "2021-07-27T00:00:00",
          "2021-07-28T00:00:00",
          "2021-07-29T00:00:00",
          "2021-07-30T00:00:00",
          "2021-07-31T00:00:00",
          "2021-08-01T00:00:00",
          "2021-08-02T00:00:00",
          "2021-08-03T00:00:00",
          "2021-08-04T00:00:00",
          "2021-08-05T00:00:00",
          "2021-08-06T00:00:00",
          "2021-08-07T00:00:00",
          "2021-08-08T00:00:00",
          "2021-08-09T00:00:00",
          "2021-08-10T00:00:00",
          "2021-08-11T00:00:00",
          "2021-08-12T00:00:00",
          "2021-08-13T00:00:00",
          "2021-08-14T00:00:00",
          "2021-08-15T00:00:00",
          "2021-08-16T00:00:00",
          "2021-08-17T00:00:00",
          "2021-08-18T00:00:00",
          "2021-08-19T00:00:00",
          "2021-08-20T00:00:00",
          "2021-08-21T00:00:00",
          "2021-08-22T00:00:00",
          "2021-08-23T00:00:00",
          "2021-08-24T00:00:00",
          "2021-08-25T00:00:00",
          "2021-08-26T00:00:00",
          "2021-08-27T00:00:00",
          "2021-08-28T00:00:00",
          "2021-08-29T00:00:00",
          "2021-08-30T00:00:00",
          "2021-08-31T00:00:00",
          "2021-09-01T00:00:00",
          "2021-09-02T00:00:00",
          "2021-09-03T00:00:00",
          "2021-09-04T00:00:00",
          "2021-09-05T00:00:00",
          "2021-09-06T00:00:00",
          "2021-09-07T00:00:00",
          "2021-09-08T00:00:00",
          "2021-09-09T00:00:00",
          "2021-09-10T00:00:00",
          "2021-09-11T00:00:00",
          "2021-09-12T00:00:00",
          "2021-09-13T00:00:00",
          "2021-09-14T00:00:00",
          "2021-09-15T00:00:00",
          "2021-09-16T00:00:00",
          "2021-09-17T00:00:00",
          "2021-09-18T00:00:00",
          "2021-09-19T00:00:00",
          "2021-09-20T00:00:00",
          "2021-09-21T00:00:00",
          "2021-09-22T00:00:00",
          "2021-09-23T00:00:00",
          "2021-09-24T00:00:00",
          "2021-09-25T00:00:00",
          "2021-09-26T00:00:00",
          "2021-09-27T00:00:00",
          "2021-09-28T00:00:00",
          "2021-09-29T00:00:00",
          "2021-09-30T00:00:00",
          "2021-10-01T00:00:00",
          "2021-10-02T00:00:00",
          "2021-10-03T00:00:00",
          "2021-10-04T00:00:00",
          "2021-10-05T00:00:00",
          "2021-10-06T00:00:00",
          "2021-10-07T00:00:00",
          "2021-10-08T00:00:00",
          "2021-10-09T00:00:00",
          "2021-10-10T00:00:00",
          "2021-10-11T00:00:00",
          "2021-10-12T00:00:00",
          "2021-10-13T00:00:00",
          "2021-10-14T00:00:00",
          "2021-10-15T00:00:00",
          "2021-10-16T00:00:00",
          "2021-10-17T00:00:00",
          "2021-10-18T00:00:00",
          "2021-10-19T00:00:00",
          "2021-10-20T00:00:00",
          "2021-10-21T00:00:00",
          "2021-10-22T00:00:00",
          "2021-10-23T00:00:00",
          "2021-10-24T00:00:00",
          "2021-10-25T00:00:00",
          "2021-10-26T00:00:00",
          "2021-10-27T00:00:00",
          "2021-10-28T00:00:00",
          "2021-10-29T00:00:00",
          "2021-10-30T00:00:00",
          "2021-10-31T00:00:00",
          "2021-11-01T00:00:00",
          "2021-11-02T00:00:00",
          "2021-11-03T00:00:00",
          "2021-11-04T00:00:00",
          "2021-11-05T00:00:00",
          "2021-11-06T00:00:00",
          "2021-11-07T00:00:00",
          "2021-11-08T00:00:00",
          "2021-11-09T00:00:00",
          "2021-11-10T00:00:00",
          "2021-11-11T00:00:00",
          "2021-11-12T00:00:00",
          "2021-11-13T00:00:00",
          "2021-11-14T00:00:00",
          "2021-11-15T00:00:00",
          "2021-11-16T00:00:00",
          "2021-11-17T00:00:00",
          "2021-11-18T00:00:00",
          "2021-11-19T00:00:00",
          "2021-11-20T00:00:00",
          "2021-11-21T00:00:00",
          "2021-11-22T00:00:00",
          "2021-11-23T00:00:00",
          "2021-11-24T00:00:00",
          "2021-11-25T00:00:00",
          "2021-11-26T00:00:00",
          "2021-11-27T00:00:00",
          "2021-11-28T00:00:00",
          "2021-11-29T00:00:00",
          "2021-11-30T00:00:00",
          "2021-12-01T00:00:00",
          "2021-12-02T00:00:00",
          "2021-12-03T00:00:00",
          "2021-12-04T00:00:00",
          "2021-12-05T00:00:00",
          "2021-12-06T00:00:00",
          "2021-12-07T00:00:00",
          "2021-12-08T00:00:00",
          "2021-12-09T00:00:00",
          "2021-12-10T00:00:00",
          "2021-12-11T00:00:00",
          "2021-12-12T00:00:00",
          "2021-12-13T00:00:00",
          "2021-12-14T00:00:00",
          "2021-12-15T00:00:00",
          "2021-12-16T00:00:00",
          "2021-12-17T00:00:00",
          "2021-12-18T00:00:00",
          "2021-12-19T00:00:00",
          "2021-12-20T00:00:00",
          "2021-12-21T00:00:00",
          "2021-12-22T00:00:00",
          "2021-12-23T00:00:00",
          "2021-12-24T00:00:00",
          "2021-12-25T00:00:00",
          "2021-12-26T00:00:00",
          "2021-12-27T00:00:00",
          "2021-12-28T00:00:00",
          "2021-12-29T00:00:00",
          "2021-12-30T00:00:00",
          "2021-12-31T00:00:00",
          "2022-01-01T00:00:00",
          "2022-01-02T00:00:00",
          "2022-01-03T00:00:00",
          "2022-01-04T00:00:00",
          "2022-01-05T00:00:00",
          "2022-01-06T00:00:00",
          "2022-01-07T00:00:00",
          "2022-01-08T00:00:00",
          "2022-01-09T00:00:00",
          "2022-01-10T00:00:00",
          "2022-01-11T00:00:00",
          "2022-01-12T00:00:00",
          "2022-01-13T00:00:00",
          "2022-01-14T00:00:00",
          "2022-01-15T00:00:00",
          "2022-01-16T00:00:00",
          "2022-01-17T00:00:00",
          "2022-01-18T00:00:00",
          "2022-01-19T00:00:00",
          "2022-01-20T00:00:00",
          "2022-01-21T00:00:00",
          "2022-01-22T00:00:00",
          "2022-01-23T00:00:00",
          "2022-01-24T00:00:00",
          "2022-01-25T00:00:00",
          "2022-01-26T00:00:00",
          "2022-01-27T00:00:00",
          "2022-01-28T00:00:00",
          "2022-01-29T00:00:00",
          "2022-01-30T00:00:00",
          "2022-01-31T00:00:00",
          "2022-02-01T00:00:00",
          "2022-02-02T00:00:00",
          "2022-02-03T00:00:00",
          "2022-02-04T00:00:00",
          "2022-02-05T00:00:00",
          "2022-02-06T00:00:00",
          "2022-02-07T00:00:00",
          "2022-02-08T00:00:00",
          "2022-02-09T00:00:00",
          "2022-02-10T00:00:00",
          "2022-02-11T00:00:00",
          "2022-02-12T00:00:00",
          "2022-02-13T00:00:00",
          "2022-02-14T00:00:00",
          "2022-02-15T00:00:00",
          "2022-02-16T00:00:00",
          "2022-02-17T00:00:00",
          "2022-02-18T00:00:00",
          "2022-02-19T00:00:00",
          "2022-02-20T00:00:00",
          "2022-02-21T00:00:00",
          "2022-02-22T00:00:00",
          "2022-02-23T00:00:00",
          "2022-02-24T00:00:00",
          "2022-02-25T00:00:00",
          "2022-02-26T00:00:00",
          "2022-02-27T00:00:00",
          "2022-02-28T00:00:00",
          "2022-03-01T00:00:00",
          "2022-03-02T00:00:00",
          "2022-03-03T00:00:00",
          "2022-03-04T00:00:00",
          "2022-03-05T00:00:00",
          "2022-03-06T00:00:00",
          "2022-03-07T00:00:00",
          "2022-03-08T00:00:00",
          "2022-03-09T00:00:00",
          "2022-03-10T00:00:00",
          "2022-03-11T00:00:00",
          "2022-03-12T00:00:00",
          "2022-03-13T00:00:00",
          "2022-03-14T00:00:00",
          "2022-03-15T00:00:00",
          "2022-03-16T00:00:00",
          "2022-03-17T00:00:00",
          "2022-03-18T00:00:00",
          "2022-03-19T00:00:00",
          "2022-03-20T00:00:00",
          "2022-03-21T00:00:00",
          "2022-03-22T00:00:00",
          "2022-03-23T00:00:00",
          "2022-03-24T00:00:00",
          "2022-03-25T00:00:00",
          "2022-03-26T00:00:00",
          "2022-03-27T00:00:00",
          "2022-03-28T00:00:00",
          "2022-03-29T00:00:00",
          "2022-03-30T00:00:00",
          "2022-03-31T00:00:00",
          "2022-04-01T00:00:00",
          "2022-04-02T00:00:00",
          "2022-04-03T00:00:00",
          "2022-04-04T00:00:00",
          "2022-04-05T00:00:00",
          "2022-04-06T00:00:00",
          "2022-04-07T00:00:00",
          "2022-04-08T00:00:00",
          "2022-04-09T00:00:00",
          "2022-04-10T00:00:00"
         ],
         "y": [
          149,
          149,
          149,
          149,
          149,
          149,
          149,
          149,
          149,
          149,
          149,
          149,
          149,
          149,
          149,
          149,
          149,
          149,
          149,
          149,
          149,
          149,
          149,
          149,
          149,
          149,
          149,
          149,
          149,
          149,
          149,
          149,
          149,
          149,
          149,
          149,
          149,
          149,
          149,
          149,
          149,
          149,
          149,
          149,
          149,
          149,
          149,
          149,
          149,
          149,
          149,
          149,
          149,
          149,
          149,
          149,
          149,
          149,
          149,
          149,
          149,
          149,
          149,
          149,
          149,
          149,
          149,
          149,
          149,
          149,
          149,
          149,
          336,
          336,
          336,
          336,
          336,
          336,
          336,
          336,
          336,
          336,
          336,
          336,
          336,
          336,
          336,
          336,
          336,
          336,
          336,
          525,
          525,
          525,
          525,
          525,
          525,
          525,
          525,
          895,
          895,
          895,
          895,
          895,
          895,
          895,
          895,
          895,
          895,
          895,
          895,
          895,
          895,
          895,
          895,
          895,
          895,
          895,
          895,
          895,
          895,
          895,
          895,
          895,
          895,
          895,
          895,
          895,
          895,
          895,
          895,
          895,
          895,
          895,
          895,
          895,
          895,
          895,
          895,
          895,
          895,
          895,
          895,
          895,
          895,
          895,
          895,
          895,
          895,
          895,
          895,
          895,
          895,
          895,
          895,
          895,
          895,
          895,
          895,
          895,
          895,
          895,
          895,
          895,
          895,
          895,
          895,
          895,
          895,
          895,
          895,
          895,
          895,
          895,
          895,
          895,
          895,
          895,
          895,
          895,
          895,
          895,
          895,
          895,
          895,
          895,
          895,
          895,
          895,
          895,
          895,
          895,
          895,
          895,
          895,
          895,
          895,
          895,
          895,
          895,
          895,
          895,
          895,
          895,
          895,
          895,
          895,
          895,
          895,
          895,
          895,
          895,
          895,
          895,
          895,
          895,
          895,
          895,
          895,
          895,
          895,
          895,
          895,
          895,
          895,
          895,
          895,
          895,
          895,
          895,
          895,
          895,
          895,
          895,
          895,
          895,
          895,
          895,
          895,
          895,
          895,
          895,
          895,
          895,
          895,
          895,
          895,
          895,
          895,
          895,
          895,
          895,
          895,
          895,
          895,
          895,
          895,
          895,
          895,
          895,
          895,
          895,
          895,
          895,
          895,
          895,
          895,
          895,
          895,
          895,
          895,
          895,
          895,
          895,
          895,
          895,
          895,
          895,
          895,
          895,
          895,
          895,
          895,
          895,
          895,
          895,
          895,
          895,
          895,
          895,
          895,
          895,
          895,
          895,
          895,
          895,
          895,
          895,
          895,
          895,
          895,
          895,
          895,
          895,
          895,
          895,
          895,
          895,
          895,
          895,
          895,
          895,
          895,
          895,
          895,
          895,
          895,
          895,
          895,
          895,
          895,
          895,
          895,
          895,
          895,
          895,
          895,
          895,
          895,
          895,
          895,
          895,
          895,
          895,
          895,
          895,
          895,
          895,
          895,
          895,
          895,
          895,
          895,
          895,
          895,
          895,
          895,
          895,
          895,
          895,
          895,
          895,
          895,
          895,
          895,
          895,
          895,
          895,
          895,
          895,
          895,
          895,
          895,
          895,
          895,
          895,
          895,
          895,
          895,
          895,
          895,
          895,
          895,
          895,
          895,
          895,
          895,
          895,
          895,
          895,
          895,
          895,
          895,
          895,
          895,
          895,
          895,
          895,
          895,
          895,
          895,
          895,
          895,
          895,
          895,
          895,
          895,
          895,
          895,
          895,
          2695,
          2695,
          2695,
          2695,
          2695,
          2695,
          2695,
          2695,
          2695,
          2695,
          2695,
          2695
         ]
        }
       ],
       "layout": {
        "height": 800,
        "margin": {
         "pad": 10
        },
        "paper_bgcolor": "white",
        "plot_bgcolor": "#ffffff",
        "template": {
         "data": {
          "bar": [
           {
            "error_x": {
             "color": "#2a3f5f"
            },
            "error_y": {
             "color": "#2a3f5f"
            },
            "marker": {
             "line": {
              "color": "#E5ECF6",
              "width": 0.5
             }
            },
            "type": "bar"
           }
          ],
          "barpolar": [
           {
            "marker": {
             "line": {
              "color": "#E5ECF6",
              "width": 0.5
             }
            },
            "type": "barpolar"
           }
          ],
          "carpet": [
           {
            "aaxis": {
             "endlinecolor": "#2a3f5f",
             "gridcolor": "white",
             "linecolor": "white",
             "minorgridcolor": "white",
             "startlinecolor": "#2a3f5f"
            },
            "baxis": {
             "endlinecolor": "#2a3f5f",
             "gridcolor": "white",
             "linecolor": "white",
             "minorgridcolor": "white",
             "startlinecolor": "#2a3f5f"
            },
            "type": "carpet"
           }
          ],
          "choropleth": [
           {
            "colorbar": {
             "outlinewidth": 0,
             "ticks": ""
            },
            "type": "choropleth"
           }
          ],
          "contour": [
           {
            "colorbar": {
             "outlinewidth": 0,
             "ticks": ""
            },
            "colorscale": [
             [
              0,
              "#0d0887"
             ],
             [
              0.1111111111111111,
              "#46039f"
             ],
             [
              0.2222222222222222,
              "#7201a8"
             ],
             [
              0.3333333333333333,
              "#9c179e"
             ],
             [
              0.4444444444444444,
              "#bd3786"
             ],
             [
              0.5555555555555556,
              "#d8576b"
             ],
             [
              0.6666666666666666,
              "#ed7953"
             ],
             [
              0.7777777777777778,
              "#fb9f3a"
             ],
             [
              0.8888888888888888,
              "#fdca26"
             ],
             [
              1,
              "#f0f921"
             ]
            ],
            "type": "contour"
           }
          ],
          "contourcarpet": [
           {
            "colorbar": {
             "outlinewidth": 0,
             "ticks": ""
            },
            "type": "contourcarpet"
           }
          ],
          "heatmap": [
           {
            "colorbar": {
             "outlinewidth": 0,
             "ticks": ""
            },
            "colorscale": [
             [
              0,
              "#0d0887"
             ],
             [
              0.1111111111111111,
              "#46039f"
             ],
             [
              0.2222222222222222,
              "#7201a8"
             ],
             [
              0.3333333333333333,
              "#9c179e"
             ],
             [
              0.4444444444444444,
              "#bd3786"
             ],
             [
              0.5555555555555556,
              "#d8576b"
             ],
             [
              0.6666666666666666,
              "#ed7953"
             ],
             [
              0.7777777777777778,
              "#fb9f3a"
             ],
             [
              0.8888888888888888,
              "#fdca26"
             ],
             [
              1,
              "#f0f921"
             ]
            ],
            "type": "heatmap"
           }
          ],
          "heatmapgl": [
           {
            "colorbar": {
             "outlinewidth": 0,
             "ticks": ""
            },
            "colorscale": [
             [
              0,
              "#0d0887"
             ],
             [
              0.1111111111111111,
              "#46039f"
             ],
             [
              0.2222222222222222,
              "#7201a8"
             ],
             [
              0.3333333333333333,
              "#9c179e"
             ],
             [
              0.4444444444444444,
              "#bd3786"
             ],
             [
              0.5555555555555556,
              "#d8576b"
             ],
             [
              0.6666666666666666,
              "#ed7953"
             ],
             [
              0.7777777777777778,
              "#fb9f3a"
             ],
             [
              0.8888888888888888,
              "#fdca26"
             ],
             [
              1,
              "#f0f921"
             ]
            ],
            "type": "heatmapgl"
           }
          ],
          "histogram": [
           {
            "marker": {
             "colorbar": {
              "outlinewidth": 0,
              "ticks": ""
             }
            },
            "type": "histogram"
           }
          ],
          "histogram2d": [
           {
            "colorbar": {
             "outlinewidth": 0,
             "ticks": ""
            },
            "colorscale": [
             [
              0,
              "#0d0887"
             ],
             [
              0.1111111111111111,
              "#46039f"
             ],
             [
              0.2222222222222222,
              "#7201a8"
             ],
             [
              0.3333333333333333,
              "#9c179e"
             ],
             [
              0.4444444444444444,
              "#bd3786"
             ],
             [
              0.5555555555555556,
              "#d8576b"
             ],
             [
              0.6666666666666666,
              "#ed7953"
             ],
             [
              0.7777777777777778,
              "#fb9f3a"
             ],
             [
              0.8888888888888888,
              "#fdca26"
             ],
             [
              1,
              "#f0f921"
             ]
            ],
            "type": "histogram2d"
           }
          ],
          "histogram2dcontour": [
           {
            "colorbar": {
             "outlinewidth": 0,
             "ticks": ""
            },
            "colorscale": [
             [
              0,
              "#0d0887"
             ],
             [
              0.1111111111111111,
              "#46039f"
             ],
             [
              0.2222222222222222,
              "#7201a8"
             ],
             [
              0.3333333333333333,
              "#9c179e"
             ],
             [
              0.4444444444444444,
              "#bd3786"
             ],
             [
              0.5555555555555556,
              "#d8576b"
             ],
             [
              0.6666666666666666,
              "#ed7953"
             ],
             [
              0.7777777777777778,
              "#fb9f3a"
             ],
             [
              0.8888888888888888,
              "#fdca26"
             ],
             [
              1,
              "#f0f921"
             ]
            ],
            "type": "histogram2dcontour"
           }
          ],
          "mesh3d": [
           {
            "colorbar": {
             "outlinewidth": 0,
             "ticks": ""
            },
            "type": "mesh3d"
           }
          ],
          "parcoords": [
           {
            "line": {
             "colorbar": {
              "outlinewidth": 0,
              "ticks": ""
             }
            },
            "type": "parcoords"
           }
          ],
          "pie": [
           {
            "automargin": true,
            "type": "pie"
           }
          ],
          "scatter": [
           {
            "marker": {
             "colorbar": {
              "outlinewidth": 0,
              "ticks": ""
             }
            },
            "type": "scatter"
           }
          ],
          "scatter3d": [
           {
            "line": {
             "colorbar": {
              "outlinewidth": 0,
              "ticks": ""
             }
            },
            "marker": {
             "colorbar": {
              "outlinewidth": 0,
              "ticks": ""
             }
            },
            "type": "scatter3d"
           }
          ],
          "scattercarpet": [
           {
            "marker": {
             "colorbar": {
              "outlinewidth": 0,
              "ticks": ""
             }
            },
            "type": "scattercarpet"
           }
          ],
          "scattergeo": [
           {
            "marker": {
             "colorbar": {
              "outlinewidth": 0,
              "ticks": ""
             }
            },
            "type": "scattergeo"
           }
          ],
          "scattergl": [
           {
            "marker": {
             "colorbar": {
              "outlinewidth": 0,
              "ticks": ""
             }
            },
            "type": "scattergl"
           }
          ],
          "scattermapbox": [
           {
            "marker": {
             "colorbar": {
              "outlinewidth": 0,
              "ticks": ""
             }
            },
            "type": "scattermapbox"
           }
          ],
          "scatterpolar": [
           {
            "marker": {
             "colorbar": {
              "outlinewidth": 0,
              "ticks": ""
             }
            },
            "type": "scatterpolar"
           }
          ],
          "scatterpolargl": [
           {
            "marker": {
             "colorbar": {
              "outlinewidth": 0,
              "ticks": ""
             }
            },
            "type": "scatterpolargl"
           }
          ],
          "scatterternary": [
           {
            "marker": {
             "colorbar": {
              "outlinewidth": 0,
              "ticks": ""
             }
            },
            "type": "scatterternary"
           }
          ],
          "surface": [
           {
            "colorbar": {
             "outlinewidth": 0,
             "ticks": ""
            },
            "colorscale": [
             [
              0,
              "#0d0887"
             ],
             [
              0.1111111111111111,
              "#46039f"
             ],
             [
              0.2222222222222222,
              "#7201a8"
             ],
             [
              0.3333333333333333,
              "#9c179e"
             ],
             [
              0.4444444444444444,
              "#bd3786"
             ],
             [
              0.5555555555555556,
              "#d8576b"
             ],
             [
              0.6666666666666666,
              "#ed7953"
             ],
             [
              0.7777777777777778,
              "#fb9f3a"
             ],
             [
              0.8888888888888888,
              "#fdca26"
             ],
             [
              1,
              "#f0f921"
             ]
            ],
            "type": "surface"
           }
          ],
          "table": [
           {
            "cells": {
             "fill": {
              "color": "#EBF0F8"
             },
             "line": {
              "color": "white"
             }
            },
            "header": {
             "fill": {
              "color": "#C8D4E3"
             },
             "line": {
              "color": "white"
             }
            },
            "type": "table"
           }
          ]
         },
         "layout": {
          "annotationdefaults": {
           "arrowcolor": "#2a3f5f",
           "arrowhead": 0,
           "arrowwidth": 1
          },
          "autotypenumbers": "strict",
          "coloraxis": {
           "colorbar": {
            "outlinewidth": 0,
            "ticks": ""
           }
          },
          "colorscale": {
           "diverging": [
            [
             0,
             "#8e0152"
            ],
            [
             0.1,
             "#c51b7d"
            ],
            [
             0.2,
             "#de77ae"
            ],
            [
             0.3,
             "#f1b6da"
            ],
            [
             0.4,
             "#fde0ef"
            ],
            [
             0.5,
             "#f7f7f7"
            ],
            [
             0.6,
             "#e6f5d0"
            ],
            [
             0.7,
             "#b8e186"
            ],
            [
             0.8,
             "#7fbc41"
            ],
            [
             0.9,
             "#4d9221"
            ],
            [
             1,
             "#276419"
            ]
           ],
           "sequential": [
            [
             0,
             "#0d0887"
            ],
            [
             0.1111111111111111,
             "#46039f"
            ],
            [
             0.2222222222222222,
             "#7201a8"
            ],
            [
             0.3333333333333333,
             "#9c179e"
            ],
            [
             0.4444444444444444,
             "#bd3786"
            ],
            [
             0.5555555555555556,
             "#d8576b"
            ],
            [
             0.6666666666666666,
             "#ed7953"
            ],
            [
             0.7777777777777778,
             "#fb9f3a"
            ],
            [
             0.8888888888888888,
             "#fdca26"
            ],
            [
             1,
             "#f0f921"
            ]
           ],
           "sequentialminus": [
            [
             0,
             "#0d0887"
            ],
            [
             0.1111111111111111,
             "#46039f"
            ],
            [
             0.2222222222222222,
             "#7201a8"
            ],
            [
             0.3333333333333333,
             "#9c179e"
            ],
            [
             0.4444444444444444,
             "#bd3786"
            ],
            [
             0.5555555555555556,
             "#d8576b"
            ],
            [
             0.6666666666666666,
             "#ed7953"
            ],
            [
             0.7777777777777778,
             "#fb9f3a"
            ],
            [
             0.8888888888888888,
             "#fdca26"
            ],
            [
             1,
             "#f0f921"
            ]
           ]
          },
          "colorway": [
           "#636efa",
           "#EF553B",
           "#00cc96",
           "#ab63fa",
           "#FFA15A",
           "#19d3f3",
           "#FF6692",
           "#B6E880",
           "#FF97FF",
           "#FECB52"
          ],
          "font": {
           "color": "#2a3f5f"
          },
          "geo": {
           "bgcolor": "white",
           "lakecolor": "white",
           "landcolor": "#E5ECF6",
           "showlakes": true,
           "showland": true,
           "subunitcolor": "white"
          },
          "hoverlabel": {
           "align": "left"
          },
          "hovermode": "closest",
          "mapbox": {
           "style": "light"
          },
          "paper_bgcolor": "white",
          "plot_bgcolor": "#E5ECF6",
          "polar": {
           "angularaxis": {
            "gridcolor": "white",
            "linecolor": "white",
            "ticks": ""
           },
           "bgcolor": "#E5ECF6",
           "radialaxis": {
            "gridcolor": "white",
            "linecolor": "white",
            "ticks": ""
           }
          },
          "scene": {
           "xaxis": {
            "backgroundcolor": "#E5ECF6",
            "gridcolor": "white",
            "gridwidth": 2,
            "linecolor": "white",
            "showbackground": true,
            "ticks": "",
            "zerolinecolor": "white"
           },
           "yaxis": {
            "backgroundcolor": "#E5ECF6",
            "gridcolor": "white",
            "gridwidth": 2,
            "linecolor": "white",
            "showbackground": true,
            "ticks": "",
            "zerolinecolor": "white"
           },
           "zaxis": {
            "backgroundcolor": "#E5ECF6",
            "gridcolor": "white",
            "gridwidth": 2,
            "linecolor": "white",
            "showbackground": true,
            "ticks": "",
            "zerolinecolor": "white"
           }
          },
          "shapedefaults": {
           "line": {
            "color": "#2a3f5f"
           }
          },
          "ternary": {
           "aaxis": {
            "gridcolor": "white",
            "linecolor": "white",
            "ticks": ""
           },
           "baxis": {
            "gridcolor": "white",
            "linecolor": "white",
            "ticks": ""
           },
           "bgcolor": "#E5ECF6",
           "caxis": {
            "gridcolor": "white",
            "linecolor": "white",
            "ticks": ""
           }
          },
          "title": {
           "x": 0.05
          },
          "xaxis": {
           "automargin": true,
           "gridcolor": "white",
           "linecolor": "white",
           "ticks": "",
           "title": {
            "standoff": 15
           },
           "zerolinecolor": "white",
           "zerolinewidth": 2
          },
          "yaxis": {
           "automargin": true,
           "gridcolor": "white",
           "linecolor": "white",
           "ticks": "",
           "title": {
            "standoff": 15
           },
           "zerolinecolor": "white",
           "zerolinewidth": 2
          }
         }
        },
        "title": {
         "font": {
          "color": "black",
          "family": "Arial",
          "size": 18
         },
         "text": "Total Content Views"
        },
        "width": 1200,
        "xaxis": {
         "autorange": true,
         "range": [
          "2021-02-23",
          "2022-04-10"
         ],
         "type": "date"
        },
        "yaxis": {
         "autorange": true,
         "range": [
          7.555555555555543,
          2836.4444444444443
         ],
         "type": "linear"
        }
       }
      },
      "image/png": "[encoded data removed]",
      "text/html": [
       "<div>                            <div id=\"c925cefe-3d29-4932-948e-7cffbe00f4f9\" class=\"plotly-graph-div\" style=\"height:800px; width:1200px;\"></div>            <script type=\"text/javascript\">                require([\"plotly\"], function(Plotly) {                    window.PLOTLYENV=window.PLOTLYENV || {};                                    if (document.getElementById(\"c925cefe-3d29-4932-948e-7cffbe00f4f9\")) {                    Plotly.newPlot(                        \"c925cefe-3d29-4932-948e-7cffbe00f4f9\",                        [{\"marker\": {\"color\": \"black\"}, \"mode\": \"lines\", \"type\": \"scatter\", \"x\": [\"2021-02-23T00:00:00\", \"2021-02-24T00:00:00\", \"2021-02-25T00:00:00\", \"2021-02-26T00:00:00\", \"2021-02-27T00:00:00\", \"2021-02-28T00:00:00\", \"2021-03-01T00:00:00\", \"2021-03-02T00:00:00\", \"2021-03-03T00:00:00\", \"2021-03-04T00:00:00\", \"2021-03-05T00:00:00\", \"2021-03-06T00:00:00\", \"2021-03-07T00:00:00\", \"2021-03-08T00:00:00\", \"2021-03-09T00:00:00\", \"2021-03-10T00:00:00\", \"2021-03-11T00:00:00\", \"2021-03-12T00:00:00\", \"2021-03-13T00:00:00\", \"2021-03-14T00:00:00\", \"2021-03-15T00:00:00\", \"2021-03-16T00:00:00\", \"2021-03-17T00:00:00\", \"2021-03-18T00:00:00\", \"2021-03-19T00:00:00\", \"2021-03-20T00:00:00\", \"2021-03-21T00:00:00\", \"2021-03-22T00:00:00\", \"2021-03-23T00:00:00\", \"2021-03-24T00:00:00\", \"2021-03-25T00:00:00\", \"2021-03-26T00:00:00\", \"2021-03-27T00:00:00\", \"2021-03-28T00:00:00\", \"2021-03-29T00:00:00\", \"2021-03-30T00:00:00\", \"2021-03-31T00:00:00\", \"2021-04-01T00:00:00\", \"2021-04-02T00:00:00\", \"2021-04-03T00:00:00\", \"2021-04-04T00:00:00\", \"2021-04-05T00:00:00\", \"2021-04-06T00:00:00\", \"2021-04-07T00:00:00\", \"2021-04-08T00:00:00\", \"2021-04-09T00:00:00\", \"2021-04-10T00:00:00\", \"2021-04-11T00:00:00\", \"2021-04-12T00:00:00\", \"2021-04-13T00:00:00\", \"2021-04-14T00:00:00\", \"2021-04-15T00:00:00\", \"2021-04-16T00:00:00\", \"2021-04-17T00:00:00\", \"2021-04-18T00:00:00\", \"2021-04-19T00:00:00\", \"2021-04-20T00:00:00\", \"2021-04-21T00:00:00\", \"2021-04-22T00:00:00\", \"2021-04-23T00:00:00\", \"2021-04-24T00:00:00\", \"2021-04-25T00:00:00\", \"2021-04-26T00:00:00\", \"2021-04-27T00:00:00\", \"2021-04-28T00:00:00\", \"2021-04-29T00:00:00\", \"2021-04-30T00:00:00\", \"2021-05-01T00:00:00\", \"2021-05-02T00:00:00\", \"2021-05-03T00:00:00\", \"2021-05-04T00:00:00\", \"2021-05-05T00:00:00\", \"2021-05-06T00:00:00\", \"2021-05-07T00:00:00\", \"2021-05-08T00:00:00\", \"2021-05-09T00:00:00\", \"2021-05-10T00:00:00\", \"2021-05-11T00:00:00\", \"2021-05-12T00:00:00\", \"2021-05-13T00:00:00\", \"2021-05-14T00:00:00\", \"2021-05-15T00:00:00\", \"2021-05-16T00:00:00\", \"2021-05-17T00:00:00\", \"2021-05-18T00:00:00\", \"2021-05-19T00:00:00\", \"2021-05-20T00:00:00\", \"2021-05-21T00:00:00\", \"2021-05-22T00:00:00\", \"2021-05-23T00:00:00\", \"2021-05-24T00:00:00\", \"2021-05-25T00:00:00\", \"2021-05-26T00:00:00\", \"2021-05-27T00:00:00\", \"2021-05-28T00:00:00\", \"2021-05-29T00:00:00\", \"2021-05-30T00:00:00\", \"2021-05-31T00:00:00\", \"2021-06-01T00:00:00\", \"2021-06-02T00:00:00\", \"2021-06-03T00:00:00\", \"2021-06-04T00:00:00\", \"2021-06-05T00:00:00\", \"2021-06-06T00:00:00\", \"2021-06-07T00:00:00\", \"2021-06-08T00:00:00\", \"2021-06-09T00:00:00\", \"2021-06-10T00:00:00\", \"2021-06-11T00:00:00\", \"2021-06-12T00:00:00\", \"2021-06-13T00:00:00\", \"2021-06-14T00:00:00\", \"2021-06-15T00:00:00\", \"2021-06-16T00:00:00\", \"2021-06-17T00:00:00\", \"2021-06-18T00:00:00\", \"2021-06-19T00:00:00\", \"2021-06-20T00:00:00\", \"2021-06-21T00:00:00\", \"2021-06-22T00:00:00\", \"2021-06-23T00:00:00\", \"2021-06-24T00:00:00\", \"2021-06-25T00:00:00\", \"2021-06-26T00:00:00\", \"2021-06-27T00:00:00\", \"2021-06-28T00:00:00\", \"2021-06-29T00:00:00\", \"2021-06-30T00:00:00\", \"2021-07-01T00:00:00\", \"2021-07-02T00:00:00\", \"2021-07-03T00:00:00\", \"2021-07-04T00:00:00\", \"2021-07-05T00:00:00\", \"2021-07-06T00:00:00\", \"2021-07-07T00:00:00\", \"2021-07-08T00:00:00\", \"2021-07-09T00:00:00\", \"2021-07-10T00:00:00\", \"2021-07-11T00:00:00\", \"2021-07-12T00:00:00\", \"2021-07-13T00:00:00\", \"2021-07-14T00:00:00\", \"2021-07-15T00:00:00\", \"2021-07-16T00:00:00\", \"2021-07-17T00:00:00\", \"2021-07-18T00:00:00\", \"2021-07-19T00:00:00\", \"2021-07-20T00:00:00\", \"2021-07-21T00:00:00\", \"2021-07-22T00:00:00\", \"2021-07-23T00:00:00\", \"2021-07-24T00:00:00\", \"2021-07-25T00:00:00\", \"2021-07-26T00:00:00\", \"2021-07-27T00:00:00\", \"2021-07-28T00:00:00\", \"2021-07-29T00:00:00\", \"2021-07-30T00:00:00\", \"2021-07-31T00:00:00\", \"2021-08-01T00:00:00\", \"2021-08-02T00:00:00\", \"2021-08-03T00:00:00\", \"2021-08-04T00:00:00\", \"2021-08-05T00:00:00\", \"2021-08-06T00:00:00\", \"2021-08-07T00:00:00\", \"2021-08-08T00:00:00\", \"2021-08-09T00:00:00\", \"2021-08-10T00:00:00\", \"2021-08-11T00:00:00\", \"2021-08-12T00:00:00\", \"2021-08-13T00:00:00\", \"2021-08-14T00:00:00\", \"2021-08-15T00:00:00\", \"2021-08-16T00:00:00\", \"2021-08-17T00:00:00\", \"2021-08-18T00:00:00\", \"2021-08-19T00:00:00\", \"2021-08-20T00:00:00\", \"2021-08-21T00:00:00\", \"2021-08-22T00:00:00\", \"2021-08-23T00:00:00\", \"2021-08-24T00:00:00\", \"2021-08-25T00:00:00\", \"2021-08-26T00:00:00\", \"2021-08-27T00:00:00\", \"2021-08-28T00:00:00\", \"2021-08-29T00:00:00\", \"2021-08-30T00:00:00\", \"2021-08-31T00:00:00\", \"2021-09-01T00:00:00\", \"2021-09-02T00:00:00\", \"2021-09-03T00:00:00\", \"2021-09-04T00:00:00\", \"2021-09-05T00:00:00\", \"2021-09-06T00:00:00\", \"2021-09-07T00:00:00\", \"2021-09-08T00:00:00\", \"2021-09-09T00:00:00\", \"2021-09-10T00:00:00\", \"2021-09-11T00:00:00\", \"2021-09-12T00:00:00\", \"2021-09-13T00:00:00\", \"2021-09-14T00:00:00\", \"2021-09-15T00:00:00\", \"2021-09-16T00:00:00\", \"2021-09-17T00:00:00\", \"2021-09-18T00:00:00\", \"2021-09-19T00:00:00\", \"2021-09-20T00:00:00\", \"2021-09-21T00:00:00\", \"2021-09-22T00:00:00\", \"2021-09-23T00:00:00\", \"2021-09-24T00:00:00\", \"2021-09-25T00:00:00\", \"2021-09-26T00:00:00\", \"2021-09-27T00:00:00\", \"2021-09-28T00:00:00\", \"2021-09-29T00:00:00\", \"2021-09-30T00:00:00\", \"2021-10-01T00:00:00\", \"2021-10-02T00:00:00\", \"2021-10-03T00:00:00\", \"2021-10-04T00:00:00\", \"2021-10-05T00:00:00\", \"2021-10-06T00:00:00\", \"2021-10-07T00:00:00\", \"2021-10-08T00:00:00\", \"2021-10-09T00:00:00\", \"2021-10-10T00:00:00\", \"2021-10-11T00:00:00\", \"2021-10-12T00:00:00\", \"2021-10-13T00:00:00\", \"2021-10-14T00:00:00\", \"2021-10-15T00:00:00\", \"2021-10-16T00:00:00\", \"2021-10-17T00:00:00\", \"2021-10-18T00:00:00\", \"2021-10-19T00:00:00\", \"2021-10-20T00:00:00\", \"2021-10-21T00:00:00\", \"2021-10-22T00:00:00\", \"2021-10-23T00:00:00\", \"2021-10-24T00:00:00\", \"2021-10-25T00:00:00\", \"2021-10-26T00:00:00\", \"2021-10-27T00:00:00\", \"2021-10-28T00:00:00\", \"2021-10-29T00:00:00\", \"2021-10-30T00:00:00\", \"2021-10-31T00:00:00\", \"2021-11-01T00:00:00\", \"2021-11-02T00:00:00\", \"2021-11-03T00:00:00\", \"2021-11-04T00:00:00\", \"2021-11-05T00:00:00\", \"2021-11-06T00:00:00\", \"2021-11-07T00:00:00\", \"2021-11-08T00:00:00\", \"2021-11-09T00:00:00\", \"2021-11-10T00:00:00\", \"2021-11-11T00:00:00\", \"2021-11-12T00:00:00\", \"2021-11-13T00:00:00\", \"2021-11-14T00:00:00\", \"2021-11-15T00:00:00\", \"2021-11-16T00:00:00\", \"2021-11-17T00:00:00\", \"2021-11-18T00:00:00\", \"2021-11-19T00:00:00\", \"2021-11-20T00:00:00\", \"2021-11-21T00:00:00\", \"2021-11-22T00:00:00\", \"2021-11-23T00:00:00\", \"2021-11-24T00:00:00\", \"2021-11-25T00:00:00\", \"2021-11-26T00:00:00\", \"2021-11-27T00:00:00\", \"2021-11-28T00:00:00\", \"2021-11-29T00:00:00\", \"2021-11-30T00:00:00\", \"2021-12-01T00:00:00\", \"2021-12-02T00:00:00\", \"2021-12-03T00:00:00\", \"2021-12-04T00:00:00\", \"2021-12-05T00:00:00\", \"2021-12-06T00:00:00\", \"2021-12-07T00:00:00\", \"2021-12-08T00:00:00\", \"2021-12-09T00:00:00\", \"2021-12-10T00:00:00\", \"2021-12-11T00:00:00\", \"2021-12-12T00:00:00\", \"2021-12-13T00:00:00\", \"2021-12-14T00:00:00\", \"2021-12-15T00:00:00\", \"2021-12-16T00:00:00\", \"2021-12-17T00:00:00\", \"2021-12-18T00:00:00\", \"2021-12-19T00:00:00\", \"2021-12-20T00:00:00\", \"2021-12-21T00:00:00\", \"2021-12-22T00:00:00\", \"2021-12-23T00:00:00\", \"2021-12-24T00:00:00\", \"2021-12-25T00:00:00\", \"2021-12-26T00:00:00\", \"2021-12-27T00:00:00\", \"2021-12-28T00:00:00\", \"2021-12-29T00:00:00\", \"2021-12-30T00:00:00\", \"2021-12-31T00:00:00\", \"2022-01-01T00:00:00\", \"2022-01-02T00:00:00\", \"2022-01-03T00:00:00\", \"2022-01-04T00:00:00\", \"2022-01-05T00:00:00\", \"2022-01-06T00:00:00\", \"2022-01-07T00:00:00\", \"2022-01-08T00:00:00\", \"2022-01-09T00:00:00\", \"2022-01-10T00:00:00\", \"2022-01-11T00:00:00\", \"2022-01-12T00:00:00\", \"2022-01-13T00:00:00\", \"2022-01-14T00:00:00\", \"2022-01-15T00:00:00\", \"2022-01-16T00:00:00\", \"2022-01-17T00:00:00\", \"2022-01-18T00:00:00\", \"2022-01-19T00:00:00\", \"2022-01-20T00:00:00\", \"2022-01-21T00:00:00\", \"2022-01-22T00:00:00\", \"2022-01-23T00:00:00\", \"2022-01-24T00:00:00\", \"2022-01-25T00:00:00\", \"2022-01-26T00:00:00\", \"2022-01-27T00:00:00\", \"2022-01-28T00:00:00\", \"2022-01-29T00:00:00\", \"2022-01-30T00:00:00\", \"2022-01-31T00:00:00\", \"2022-02-01T00:00:00\", \"2022-02-02T00:00:00\", \"2022-02-03T00:00:00\", \"2022-02-04T00:00:00\", \"2022-02-05T00:00:00\", \"2022-02-06T00:00:00\", \"2022-02-07T00:00:00\", \"2022-02-08T00:00:00\", \"2022-02-09T00:00:00\", \"2022-02-10T00:00:00\", \"2022-02-11T00:00:00\", \"2022-02-12T00:00:00\", \"2022-02-13T00:00:00\", \"2022-02-14T00:00:00\", \"2022-02-15T00:00:00\", \"2022-02-16T00:00:00\", \"2022-02-17T00:00:00\", \"2022-02-18T00:00:00\", \"2022-02-19T00:00:00\", \"2022-02-20T00:00:00\", \"2022-02-21T00:00:00\", \"2022-02-22T00:00:00\", \"2022-02-23T00:00:00\", \"2022-02-24T00:00:00\", \"2022-02-25T00:00:00\", \"2022-02-26T00:00:00\", \"2022-02-27T00:00:00\", \"2022-02-28T00:00:00\", \"2022-03-01T00:00:00\", \"2022-03-02T00:00:00\", \"2022-03-03T00:00:00\", \"2022-03-04T00:00:00\", \"2022-03-05T00:00:00\", \"2022-03-06T00:00:00\", \"2022-03-07T00:00:00\", \"2022-03-08T00:00:00\", \"2022-03-09T00:00:00\", \"2022-03-10T00:00:00\", \"2022-03-11T00:00:00\", \"2022-03-12T00:00:00\", \"2022-03-13T00:00:00\", \"2022-03-14T00:00:00\", \"2022-03-15T00:00:00\", \"2022-03-16T00:00:00\", \"2022-03-17T00:00:00\", \"2022-03-18T00:00:00\", \"2022-03-19T00:00:00\", \"2022-03-20T00:00:00\", \"2022-03-21T00:00:00\", \"2022-03-22T00:00:00\", \"2022-03-23T00:00:00\", \"2022-03-24T00:00:00\", \"2022-03-25T00:00:00\", \"2022-03-26T00:00:00\", \"2022-03-27T00:00:00\", \"2022-03-28T00:00:00\", \"2022-03-29T00:00:00\", \"2022-03-30T00:00:00\", \"2022-03-31T00:00:00\", \"2022-04-01T00:00:00\", \"2022-04-02T00:00:00\", \"2022-04-03T00:00:00\", \"2022-04-04T00:00:00\", \"2022-04-05T00:00:00\", \"2022-04-06T00:00:00\", \"2022-04-07T00:00:00\", \"2022-04-08T00:00:00\", \"2022-04-09T00:00:00\", \"2022-04-10T00:00:00\"], \"y\": [149, 149, 149, 149, 149, 149, 149, 149, 149, 149, 149, 149, 149, 149, 149, 149, 149, 149, 149, 149, 149, 149, 149, 149, 149, 149, 149, 149, 149, 149, 149, 149, 149, 149, 149, 149, 149, 149, 149, 149, 149, 149, 149, 149, 149, 149, 149, 149, 149, 149, 149, 149, 149, 149, 149, 149, 149, 149, 149, 149, 149, 149, 149, 149, 149, 149, 149, 149, 149, 149, 149, 149, 336, 336, 336, 336, 336, 336, 336, 336, 336, 336, 336, 336, 336, 336, 336, 336, 336, 336, 336, 525, 525, 525, 525, 525, 525, 525, 525, 895, 895, 895, 895, 895, 895, 895, 895, 895, 895, 895, 895, 895, 895, 895, 895, 895, 895, 895, 895, 895, 895, 895, 895, 895, 895, 895, 895, 895, 895, 895, 895, 895, 895, 895, 895, 895, 895, 895, 895, 895, 895, 895, 895, 895, 895, 895, 895, 895, 895, 895, 895, 895, 895, 895, 895, 895, 895, 895, 895, 895, 895, 895, 895, 895, 895, 895, 895, 895, 895, 895, 895, 895, 895, 895, 895, 895, 895, 895, 895, 895, 895, 895, 895, 895, 895, 895, 895, 895, 895, 895, 895, 895, 895, 895, 895, 895, 895, 895, 895, 895, 895, 895, 895, 895, 895, 895, 895, 895, 895, 895, 895, 895, 895, 895, 895, 895, 895, 895, 895, 895, 895, 895, 895, 895, 895, 895, 895, 895, 895, 895, 895, 895, 895, 895, 895, 895, 895, 895, 895, 895, 895, 895, 895, 895, 895, 895, 895, 895, 895, 895, 895, 895, 895, 895, 895, 895, 895, 895, 895, 895, 895, 895, 895, 895, 895, 895, 895, 895, 895, 895, 895, 895, 895, 895, 895, 895, 895, 895, 895, 895, 895, 895, 895, 895, 895, 895, 895, 895, 895, 895, 895, 895, 895, 895, 895, 895, 895, 895, 895, 895, 895, 895, 895, 895, 895, 895, 895, 895, 895, 895, 895, 895, 895, 895, 895, 895, 895, 895, 895, 895, 895, 895, 895, 895, 895, 895, 895, 895, 895, 895, 895, 895, 895, 895, 895, 895, 895, 895, 895, 895, 895, 895, 895, 895, 895, 895, 895, 895, 895, 895, 895, 895, 895, 895, 895, 895, 895, 895, 895, 895, 895, 895, 895, 895, 895, 895, 895, 895, 895, 895, 895, 895, 895, 895, 895, 895, 895, 895, 895, 895, 895, 895, 895, 895, 895, 895, 895, 895, 895, 895, 895, 895, 895, 895, 895, 895, 895, 895, 895, 895, 2695, 2695, 2695, 2695, 2695, 2695, 2695, 2695, 2695, 2695, 2695, 2695]}],                        {\"height\": 800, \"margin\": {\"pad\": 10}, \"paper_bgcolor\": \"white\", \"plot_bgcolor\": \"#ffffff\", \"template\": {\"data\": {\"bar\": [{\"error_x\": {\"color\": \"#2a3f5f\"}, \"error_y\": {\"color\": \"#2a3f5f\"}, \"marker\": {\"line\": {\"color\": \"#E5ECF6\", \"width\": 0.5}}, \"type\": \"bar\"}], \"barpolar\": [{\"marker\": {\"line\": {\"color\": \"#E5ECF6\", \"width\": 0.5}}, \"type\": \"barpolar\"}], \"carpet\": [{\"aaxis\": {\"endlinecolor\": \"#2a3f5f\", \"gridcolor\": \"white\", \"linecolor\": \"white\", \"minorgridcolor\": \"white\", \"startlinecolor\": \"#2a3f5f\"}, \"baxis\": {\"endlinecolor\": \"#2a3f5f\", \"gridcolor\": \"white\", \"linecolor\": \"white\", \"minorgridcolor\": \"white\", \"startlinecolor\": \"#2a3f5f\"}, \"type\": \"carpet\"}], \"choropleth\": [{\"colorbar\": {\"outlinewidth\": 0, \"ticks\": \"\"}, \"type\": \"choropleth\"}], \"contour\": [{\"colorbar\": {\"outlinewidth\": 0, \"ticks\": \"\"}, \"colorscale\": [[0.0, \"#0d0887\"], [0.1111111111111111, \"#46039f\"], [0.2222222222222222, \"#7201a8\"], [0.3333333333333333, \"#9c179e\"], [0.4444444444444444, \"#bd3786\"], [0.5555555555555556, \"#d8576b\"], [0.6666666666666666, \"#ed7953\"], [0.7777777777777778, \"#fb9f3a\"], [0.8888888888888888, \"#fdca26\"], [1.0, \"#f0f921\"]], \"type\": \"contour\"}], \"contourcarpet\": [{\"colorbar\": {\"outlinewidth\": 0, \"ticks\": \"\"}, \"type\": \"contourcarpet\"}], \"heatmap\": [{\"colorbar\": {\"outlinewidth\": 0, \"ticks\": \"\"}, \"colorscale\": [[0.0, \"#0d0887\"], [0.1111111111111111, \"#46039f\"], [0.2222222222222222, \"#7201a8\"], [0.3333333333333333, \"#9c179e\"], [0.4444444444444444, \"#bd3786\"], [0.5555555555555556, \"#d8576b\"], [0.6666666666666666, \"#ed7953\"], [0.7777777777777778, \"#fb9f3a\"], [0.8888888888888888, \"#fdca26\"], [1.0, \"#f0f921\"]], \"type\": \"heatmap\"}], \"heatmapgl\": [{\"colorbar\": {\"outlinewidth\": 0, \"ticks\": \"\"}, \"colorscale\": [[0.0, \"#0d0887\"], [0.1111111111111111, \"#46039f\"], [0.2222222222222222, \"#7201a8\"], [0.3333333333333333, \"#9c179e\"], [0.4444444444444444, \"#bd3786\"], [0.5555555555555556, \"#d8576b\"], [0.6666666666666666, \"#ed7953\"], [0.7777777777777778, \"#fb9f3a\"], [0.8888888888888888, \"#fdca26\"], [1.0, \"#f0f921\"]], \"type\": \"heatmapgl\"}], \"histogram\": [{\"marker\": {\"colorbar\": {\"outlinewidth\": 0, \"ticks\": \"\"}}, \"type\": \"histogram\"}], \"histogram2d\": [{\"colorbar\": {\"outlinewidth\": 0, \"ticks\": \"\"}, \"colorscale\": [[0.0, \"#0d0887\"], [0.1111111111111111, \"#46039f\"], [0.2222222222222222, \"#7201a8\"], [0.3333333333333333, \"#9c179e\"], [0.4444444444444444, \"#bd3786\"], [0.5555555555555556, \"#d8576b\"], [0.6666666666666666, \"#ed7953\"], [0.7777777777777778, \"#fb9f3a\"], [0.8888888888888888, \"#fdca26\"], [1.0, \"#f0f921\"]], \"type\": \"histogram2d\"}], \"histogram2dcontour\": [{\"colorbar\": {\"outlinewidth\": 0, \"ticks\": \"\"}, \"colorscale\": [[0.0, \"#0d0887\"], [0.1111111111111111, \"#46039f\"], [0.2222222222222222, \"#7201a8\"], [0.3333333333333333, \"#9c179e\"], [0.4444444444444444, \"#bd3786\"], [0.5555555555555556, \"#d8576b\"], [0.6666666666666666, \"#ed7953\"], [0.7777777777777778, \"#fb9f3a\"], [0.8888888888888888, \"#fdca26\"], [1.0, \"#f0f921\"]], \"type\": \"histogram2dcontour\"}], \"mesh3d\": [{\"colorbar\": {\"outlinewidth\": 0, \"ticks\": \"\"}, \"type\": \"mesh3d\"}], \"parcoords\": [{\"line\": {\"colorbar\": {\"outlinewidth\": 0, \"ticks\": \"\"}}, \"type\": \"parcoords\"}], \"pie\": [{\"automargin\": true, \"type\": \"pie\"}], \"scatter\": [{\"marker\": {\"colorbar\": {\"outlinewidth\": 0, \"ticks\": \"\"}}, \"type\": \"scatter\"}], \"scatter3d\": [{\"line\": {\"colorbar\": {\"outlinewidth\": 0, \"ticks\": \"\"}}, \"marker\": {\"colorbar\": {\"outlinewidth\": 0, \"ticks\": \"\"}}, \"type\": \"scatter3d\"}], \"scattercarpet\": [{\"marker\": {\"colorbar\": {\"outlinewidth\": 0, \"ticks\": \"\"}}, \"type\": \"scattercarpet\"}], \"scattergeo\": [{\"marker\": {\"colorbar\": {\"outlinewidth\": 0, \"ticks\": \"\"}}, \"type\": \"scattergeo\"}], \"scattergl\": [{\"marker\": {\"colorbar\": {\"outlinewidth\": 0, \"ticks\": \"\"}}, \"type\": \"scattergl\"}], \"scattermapbox\": [{\"marker\": {\"colorbar\": {\"outlinewidth\": 0, \"ticks\": \"\"}}, \"type\": \"scattermapbox\"}], \"scatterpolar\": [{\"marker\": {\"colorbar\": {\"outlinewidth\": 0, \"ticks\": \"\"}}, \"type\": \"scatterpolar\"}], \"scatterpolargl\": [{\"marker\": {\"colorbar\": {\"outlinewidth\": 0, \"ticks\": \"\"}}, \"type\": \"scatterpolargl\"}], \"scatterternary\": [{\"marker\": {\"colorbar\": {\"outlinewidth\": 0, \"ticks\": \"\"}}, \"type\": \"scatterternary\"}], \"surface\": [{\"colorbar\": {\"outlinewidth\": 0, \"ticks\": \"\"}, \"colorscale\": [[0.0, \"#0d0887\"], [0.1111111111111111, \"#46039f\"], [0.2222222222222222, \"#7201a8\"], [0.3333333333333333, \"#9c179e\"], [0.4444444444444444, \"#bd3786\"], [0.5555555555555556, \"#d8576b\"], [0.6666666666666666, \"#ed7953\"], [0.7777777777777778, \"#fb9f3a\"], [0.8888888888888888, \"#fdca26\"], [1.0, \"#f0f921\"]], \"type\": \"surface\"}], \"table\": [{\"cells\": {\"fill\": {\"color\": \"#EBF0F8\"}, \"line\": {\"color\": \"white\"}}, \"header\": {\"fill\": {\"color\": \"#C8D4E3\"}, \"line\": {\"color\": \"white\"}}, \"type\": \"table\"}]}, \"layout\": {\"annotationdefaults\": {\"arrowcolor\": \"#2a3f5f\", \"arrowhead\": 0, \"arrowwidth\": 1}, \"autotypenumbers\": \"strict\", \"coloraxis\": {\"colorbar\": {\"outlinewidth\": 0, \"ticks\": \"\"}}, \"colorscale\": {\"diverging\": [[0, \"#8e0152\"], [0.1, \"#c51b7d\"], [0.2, \"#de77ae\"], [0.3, \"#f1b6da\"], [0.4, \"#fde0ef\"], [0.5, \"#f7f7f7\"], [0.6, \"#e6f5d0\"], [0.7, \"#b8e186\"], [0.8, \"#7fbc41\"], [0.9, \"#4d9221\"], [1, \"#276419\"]], \"sequential\": [[0.0, \"#0d0887\"], [0.1111111111111111, \"#46039f\"], [0.2222222222222222, \"#7201a8\"], [0.3333333333333333, \"#9c179e\"], [0.4444444444444444, \"#bd3786\"], [0.5555555555555556, \"#d8576b\"], [0.6666666666666666, \"#ed7953\"], [0.7777777777777778, \"#fb9f3a\"], [0.8888888888888888, \"#fdca26\"], [1.0, \"#f0f921\"]], \"sequentialminus\": [[0.0, \"#0d0887\"], [0.1111111111111111, \"#46039f\"], [0.2222222222222222, \"#7201a8\"], [0.3333333333333333, \"#9c179e\"], [0.4444444444444444, \"#bd3786\"], [0.5555555555555556, \"#d8576b\"], [0.6666666666666666, \"#ed7953\"], [0.7777777777777778, \"#fb9f3a\"], [0.8888888888888888, \"#fdca26\"], [1.0, \"#f0f921\"]]}, \"colorway\": [\"#636efa\", \"#EF553B\", \"#00cc96\", \"#ab63fa\", \"#FFA15A\", \"#19d3f3\", \"#FF6692\", \"#B6E880\", \"#FF97FF\", \"#FECB52\"], \"font\": {\"color\": \"#2a3f5f\"}, \"geo\": {\"bgcolor\": \"white\", \"lakecolor\": \"white\", \"landcolor\": \"#E5ECF6\", \"showlakes\": true, \"showland\": true, \"subunitcolor\": \"white\"}, \"hoverlabel\": {\"align\": \"left\"}, \"hovermode\": \"closest\", \"mapbox\": {\"style\": \"light\"}, \"paper_bgcolor\": \"white\", \"plot_bgcolor\": \"#E5ECF6\", \"polar\": {\"angularaxis\": {\"gridcolor\": \"white\", \"linecolor\": \"white\", \"ticks\": \"\"}, \"bgcolor\": \"#E5ECF6\", \"radialaxis\": {\"gridcolor\": \"white\", \"linecolor\": \"white\", \"ticks\": \"\"}}, \"scene\": {\"xaxis\": {\"backgroundcolor\": \"#E5ECF6\", \"gridcolor\": \"white\", \"gridwidth\": 2, \"linecolor\": \"white\", \"showbackground\": true, \"ticks\": \"\", \"zerolinecolor\": \"white\"}, \"yaxis\": {\"backgroundcolor\": \"#E5ECF6\", \"gridcolor\": \"white\", \"gridwidth\": 2, \"linecolor\": \"white\", \"showbackground\": true, \"ticks\": \"\", \"zerolinecolor\": \"white\"}, \"zaxis\": {\"backgroundcolor\": \"#E5ECF6\", \"gridcolor\": \"white\", \"gridwidth\": 2, \"linecolor\": \"white\", \"showbackground\": true, \"ticks\": \"\", \"zerolinecolor\": \"white\"}}, \"shapedefaults\": {\"line\": {\"color\": \"#2a3f5f\"}}, \"ternary\": {\"aaxis\": {\"gridcolor\": \"white\", \"linecolor\": \"white\", \"ticks\": \"\"}, \"baxis\": {\"gridcolor\": \"white\", \"linecolor\": \"white\", \"ticks\": \"\"}, \"bgcolor\": \"#E5ECF6\", \"caxis\": {\"gridcolor\": \"white\", \"linecolor\": \"white\", \"ticks\": \"\"}}, \"title\": {\"x\": 0.05}, \"xaxis\": {\"automargin\": true, \"gridcolor\": \"white\", \"linecolor\": \"white\", \"ticks\": \"\", \"title\": {\"standoff\": 15}, \"zerolinecolor\": \"white\", \"zerolinewidth\": 2}, \"yaxis\": {\"automargin\": true, \"gridcolor\": \"white\", \"linecolor\": \"white\", \"ticks\": \"\", \"title\": {\"standoff\": 15}, \"zerolinecolor\": \"white\", \"zerolinewidth\": 2}}}, \"title\": {\"font\": {\"color\": \"black\", \"family\": \"Arial\", \"size\": 18}, \"text\": \"Total Content Views\"}, \"width\": 1200},                        {\"responsive\": true}                    ).then(function(){\n",
       "                            \n",
       "var gd = document.getElementById('c925cefe-3d29-4932-948e-7cffbe00f4f9');\n",
       "var x = new MutationObserver(function (mutations, observer) {{\n",
       "        var display = window.getComputedStyle(gd).display;\n",
       "        if (!display || display === 'none') {{\n",
       "            console.log([gd, 'removed!']);\n",
       "            Plotly.purge(gd);\n",
       "            observer.disconnect();\n",
       "        }}\n",
       "}});\n",
       "\n",
       "// Listen for the removal of the full notebook cells\n",
       "var notebookContainer = gd.closest('#notebook-container');\n",
       "if (notebookContainer) {{\n",
       "    x.observe(notebookContainer, {childList: true});\n",
       "}}\n",
       "\n",
       "// Listen for the clearing of the current output cell\n",
       "var outputEl = gd.closest('.output');\n",
       "if (outputEl) {{\n",
       "    x.observe(outputEl, {childList: true});\n",
       "}}\n",
       "\n",
       "                        })                };                });            </script>        </div>"
      ]
     },
     "metadata": {},
     "output_type": "display_data"
    }
   ],
   "source": [
    "def create_linechart(df, label, value, title):\n",
    "    \n",
    "    # Init\n",
    "    fig = go.Figure()\n",
    "    \n",
    "    # Create fig\n",
    "    fig.add_trace(\n",
    "        go.Scatter(\n",
    "            x=df[label],\n",
    "            y=df[value],\n",
    "            mode=\"lines\",\n",
    "        )\n",
    "    )\n",
    "    fig.update_traces(marker_color='black')\n",
    "    fig.update_layout(\n",
    "        title=title,\n",
    "        title_font=dict(family=\"Arial\", size=18, color=\"black\"),\n",
    "        plot_bgcolor=\"#ffffff\",\n",
    "        width=1200,\n",
    "        height=800,\n",
    "        paper_bgcolor=\"white\",\n",
    "        margin_pad=10,\n",
    "    )\n",
    "    fig.show()\n",
    "    return fig\n",
    "\n",
    "fig = create_linechart(df_trend, label=\"PUBLISHED_DATE\", value=\"value_cum\", title='Total Content Views')\n"
   ]
  },
  {
   "cell_type": "markdown",
   "id": "541e16a0",
   "metadata": {},
   "source": [
    "### Save and share your csv file\n"
   ]
  },
  {
   "cell_type": "code",
   "execution_count": 72,
   "id": "61cc88bf",
   "metadata": {
    "execution": {
     "iopub.execute_input": "2022-04-10T17:58:38.937270Z",
     "iopub.status.busy": "2022-04-10T17:58:38.936969Z",
     "iopub.status.idle": "2022-04-10T17:58:39.260620Z",
     "shell.execute_reply": "2022-04-10T17:58:39.259962Z",
     "shell.execute_reply.started": "2022-04-10T17:58:38.937239Z"
    },
    "tags": []
   },
   "outputs": [
    {
     "name": "stdout",
     "output_type": "stream",
     "text": [
      "👌 Well done! Your Assets has been sent to production.\n",
      "\n"
     ]
    },
    {
     "data": {
      "application/javascript": [
       "\n",
       "    if (!window.copyToClipboard) {\n",
       "        window.copyToClipboard = (text) => {\n",
       "            const dummy = document.createElement(\"textarea\");\n",
       "            document.body.appendChild(dummy);\n",
       "            dummy.value = text;\n",
       "            dummy.select();\n",
       "            document.execCommand(\"copy\");\n",
       "            document.body.removeChild(dummy);\n",
       "        }\n",
       "    }\n",
       "    "
      ],
      "text/plain": [
       "<IPython.core.display.Javascript object>"
      ]
     },
     "metadata": {},
     "output_type": "display_data"
    },
    {
     "data": {
      "application/vnd.jupyter.widget-view+json": {
       "model_id": "2cb18f6098e345688ae4d74357e9a905",
       "version_major": 2,
       "version_minor": 0
      },
      "text/plain": [
       "Button(button_style='primary', description='Copy URL', style=ButtonStyle())"
      ]
     },
     "metadata": {},
     "output_type": "display_data"
    },
    {
     "data": {
      "application/vnd.jupyter.widget-view+json": {
       "model_id": "671cc4c0295340bb8ddbf213a4cf1e91",
       "version_major": 2,
       "version_minor": 0
      },
      "text/plain": [
       "Output()"
      ]
     },
     "metadata": {},
     "output_type": "display_data"
    },
    {
     "name": "stdout",
     "output_type": "stream",
     "text": [
      "PS: to remove the \"Assets\" feature, just replace .add by .delete\n"
     ]
    },
    {
     "data": {
      "text/plain": [
       "'https://public.naas.ai/YXR0aWxpLTJFc2FuamVldDEwLTQwZ21haWwtMkVjb20=/asset/c641df0ab4c8ed8e16534632ca743d4dde188b3464923e3cb62ff41e6f12'"
      ]
     },
     "execution_count": 72,
     "metadata": {},
     "output_type": "execute_result"
    }
   ],
   "source": [
    "# Save your dataframe in CSV\n",
    "merged_df.to_csv(csv_output, index=False)\n",
    "\n",
    "# Share output with naas\n",
    "naas.asset.add(csv_output)\n",
    "\n",
    "#-> Uncomment the line below to remove your asset\n",
    "# naas.asset.delete(csv_output)\n"
   ]
  },
  {
   "cell_type": "markdown",
   "id": "d28cd477",
   "metadata": {},
   "source": [
    "### Save and share your graph in HTML\n"
   ]
  },
  {
   "cell_type": "code",
   "execution_count": 90,
   "id": "3421d37f",
   "metadata": {
    "execution": {
     "iopub.execute_input": "2022-04-10T18:14:24.770784Z",
     "iopub.status.busy": "2022-04-10T18:14:24.770559Z",
     "iopub.status.idle": "2022-04-10T18:14:25.306198Z",
     "shell.execute_reply": "2022-04-10T18:14:25.305513Z",
     "shell.execute_reply.started": "2022-04-10T18:14:24.770762Z"
    },
    "tags": []
   },
   "outputs": [
    {
     "name": "stdout",
     "output_type": "stream",
     "text": [
      "👌 Well done! Your Assets has been sent to production.\n",
      "\n"
     ]
    },
    {
     "data": {
      "application/javascript": [
       "\n",
       "    if (!window.copyToClipboard) {\n",
       "        window.copyToClipboard = (text) => {\n",
       "            const dummy = document.createElement(\"textarea\");\n",
       "            document.body.appendChild(dummy);\n",
       "            dummy.value = text;\n",
       "            dummy.select();\n",
       "            document.execCommand(\"copy\");\n",
       "            document.body.removeChild(dummy);\n",
       "        }\n",
       "    }\n",
       "    "
      ],
      "text/plain": [
       "<IPython.core.display.Javascript object>"
      ]
     },
     "metadata": {},
     "output_type": "display_data"
    },
    {
     "data": {
      "application/vnd.jupyter.widget-view+json": {
       "model_id": "7019ada803b84af2a3f10fece1eab4b1",
       "version_major": 2,
       "version_minor": 0
      },
      "text/plain": [
       "Button(button_style='primary', description='Copy URL', style=ButtonStyle())"
      ]
     },
     "metadata": {},
     "output_type": "display_data"
    },
    {
     "data": {
      "application/vnd.jupyter.widget-view+json": {
       "model_id": "d68e780bbef8405f804a61997e3ddcdb",
       "version_major": 2,
       "version_minor": 0
      },
      "text/plain": [
       "Output()"
      ]
     },
     "metadata": {},
     "output_type": "display_data"
    },
    {
     "name": "stdout",
     "output_type": "stream",
     "text": [
      "PS: to remove the \"Assets\" feature, just replace .add by .delete\n"
     ]
    },
    {
     "data": {
      "text/plain": [
       "'https://public.naas.ai/YXR0aWxpLTJFc2FuamVldDEwLTQwZ21haWwtMkVjb20=/asset/e87cc958e3ca938f9a737cf2244f9b93dd6a978e9b1a555e98236000ee7d'"
      ]
     },
     "execution_count": 90,
     "metadata": {},
     "output_type": "execute_result"
    }
   ],
   "source": [
    "# Save your graph in HTML\n",
    "fig.write_html(html_output)\n",
    "\n",
    "# Share output with naas\n",
    "naas.asset.add(html_output, params={\"inline\": True})\n",
    "\n",
    "#-> Uncomment the line below to remove your asset\n",
    "# naas.asset.delete(html_output)\n"
   ]
  },
  {
   "cell_type": "markdown",
   "id": "91a987c6",
   "metadata": {},
   "source": [
    "### Save and share your graph in image\n"
   ]
  },
  {
   "cell_type": "code",
   "execution_count": null,
   "id": "8342abf9",
   "metadata": {},
   "outputs": [],
   "source": [
    "# Save your graph in PNG\n",
    "fig.write_image(image_output)\n",
    "\n",
    "# Share output with naas\n",
    "naas.asset.add(image_output, params={\"inline\": True})\n",
    "\n",
    "#-> Uncomment the line below to remove your asset\n",
    "# naas.asset.delete(image_output)\n"
   ]
  }
 ],
 "metadata": {
  "kernelspec": {
   "display_name": "Python 3",
   "language": "python",
   "name": "python3"
  },
  "language_info": {
   "codemirror_mode": {
    "name": "ipython",
    "version": 3
   },
   "file_extension": ".py",
   "mimetype": "text/x-python",
   "name": "python",
   "nbconvert_exporter": "python",
   "pygments_lexer": "ipython3",
   "version": "3.9.6"
  }
 },
 "nbformat": 4,
 "nbformat_minor": 5
}
