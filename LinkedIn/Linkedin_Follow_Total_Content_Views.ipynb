{
 "cells": [
  {
   "cell_type": "markdown",
   "id": "e46cda1e",
   "metadata": {},
   "source": [
    "<img width=\"10%\" alt=\"Naas\" src=\"https://landen.imgix.net/jtci2pxwjczr/assets/5ice39g4.png?w=160\"/>\n"
   ]
  },
  {
   "cell_type": "markdown",
   "id": "b0d4ced6",
   "metadata": {},
   "source": [
    "# LinkedIn - Follow Total Content Views\n"
   ]
  },
  {
   "cell_type": "markdown",
   "id": "06cb7cb7",
   "metadata": {},
   "source": [
    "**Tags:** #linkedin #html# plotly# csv# image #content #analytics# automation\n"
   ]
  },
  {
   "cell_type": "markdown",
   "id": "c64eee3c",
   "metadata": {},
   "source": [
    "**Author:** [Firstname Lastname](https://linkedin.com/in/yourlinkedinid)\n",
    "\n",
    "With this notebook, you can see the evolution the number of views on your content published on LinkedIn on your personal profile, cumulated, daily since first activity.\n"
   ]
  },
  {
   "cell_type": "markdown",
   "id": "f65cd676",
   "metadata": {},
   "source": [
    "## Input\n"
   ]
  },
  {
   "cell_type": "markdown",
   "id": "428474ab",
   "metadata": {},
   "source": [
    "### Import libraries\n"
   ]
  },
  {
   "cell_type": "code",
   "execution_count": null,
   "id": "6214ae90",
   "metadata": {},
   "outputs": [],
   "source": [
    "from naas_drivers import linkedin\n",
    "import naas\n",
    "import pandas as pd\n"
   ]
  },
  {
   "cell_type": "markdown",
   "id": "a5e82061",
   "metadata": {},
   "source": [
    "### Setup LinkedIn\n",
    "\n",
    "- [Get your cookies](/d20a8e7e508e42af8a5b52e33f3dba75)\n"
   ]
  },
  {
   "cell_type": "code",
   "execution_count": null,
   "id": "1b47849a",
   "metadata": {},
   "outputs": [],
   "source": [
    "# Lindekin cookies\n",
    "LI_AT = \"AQEDARCNSioDe6wmAAABfqF-HR4AAAF-xYqhHlYAtSu7EZZEpFer0UZF-GLuz2DNSz4asOOyCRxPGFjenv37irMObYYgxxxxxxx\"\n",
    "JSESSIONID = \"ajax:12XXXXXXXXXXXXXXXXX\"\n",
    "\n",
    "# Enter profile URL\n",
    "PROFILE_URL = \"PROFILE_URL\"\n"
   ]
  },
  {
   "cell_type": "markdown",
   "id": "5ed1bed1",
   "metadata": {},
   "source": [
    "### Setup Outputs\n"
   ]
  },
  {
   "cell_type": "code",
   "execution_count": null,
   "id": "190b8d21",
   "metadata": {},
   "outputs": [],
   "source": [
    "# Outputs\n",
    "name_output = \"My_output\"\n",
    "csv_output = f\"{name_output}.csv\"\n",
    "html_output = f\"{name_output}.html\"\n",
    "image_output = f\"{name_output}.png\"\n"
   ]
  },
  {
   "cell_type": "markdown",
   "id": "74aeeadb",
   "metadata": {},
   "source": [
    "### Setup Naas\n"
   ]
  },
  {
   "cell_type": "code",
   "execution_count": null,
   "id": "c881a0cf",
   "metadata": {},
   "outputs": [],
   "source": [
    "# Schedule your notebook everyday at 9:00 AM\n",
    "naas.scheduler.add(cron=\"0 9 * * *\")\n",
    "\n",
    "#-> Uncomment the line below to remove your scheduler\n",
    "# naas.scheduler.delete()\n"
   ]
  },
  {
   "cell_type": "markdown",
   "id": "b3566c94",
   "metadata": {},
   "source": [
    "## Model\n"
   ]
  },
  {
   "cell_type": "markdown",
   "id": "ba2000df",
   "metadata": {},
   "source": [
    "### Get posts feed\n"
   ]
  },
  {
   "cell_type": "code",
   "execution_count": null,
   "id": "13a489d5",
   "metadata": {},
   "outputs": [],
   "source": [
    "# Get posts feed from CSV stored in your local (Return empty if CSV does not exist)\n",
    "def my_function(csv_output):\n",
    "\t...\n",
    "\tdf = pd.read_csv(csv_output)\n",
    "\treturn df\n",
    "\n",
    "df_posts_feed = my_function(csv_output)\n",
    "df_posts_feed\n"
   ]
  },
  {
   "cell_type": "markdown",
   "id": "b443137b",
   "metadata": {},
   "source": [
    "### Get new posts\n"
   ]
  },
  {
   "cell_type": "code",
   "execution_count": null,
   "id": "98191f59",
   "metadata": {},
   "outputs": [],
   "source": [
    "def my_function(df):\n",
    "\t...\n",
    "\t# Get last post URL in dataframe\n",
    "\tlast_post_url = None\n",
    "\n",
    "\t# Get new posts since last url (this part is important to optimize script performance)\n",
    "\tuntil = {}\n",
    "  if last_post_url:\n",
    "\t\tuntil = {\"POST_URL\": last_post_url}\n",
    "\tdf_posts_feed = linkedin.connect(LI_AT, JSESSIONID).profile.get_posts_feed(PROFILE_URL, until=until, limit=-1)\n",
    "\t\n",
    "\t# Merge dataframe \n",
    "\treturn\n",
    "\n",
    "merged_df = my_function(df)\n",
    "merged_df\n"
   ]
  },
  {
   "cell_type": "markdown",
   "id": "7456a048",
   "metadata": {},
   "source": [
    "### Get trend\n"
   ]
  },
  {
   "cell_type": "code",
   "execution_count": null,
   "id": "22b41e65",
   "metadata": {},
   "outputs": [],
   "source": [
    "# Create dataframe with number of LinkedIn views cumulated by date with daily variation\n",
    "# -> Empty date must be fullfiled with last value\n",
    "def get_trend(df):\n",
    "\t...\n",
    "\treturn df\n",
    "\n",
    "df_trend = get_trend()\n",
    "df_trend \n"
   ]
  },
  {
   "cell_type": "markdown",
   "id": "c8083216",
   "metadata": {},
   "source": [
    "## Output\n"
   ]
  },
  {
   "cell_type": "markdown",
   "id": "a474cc49",
   "metadata": {},
   "source": [
    "### Display result\n"
   ]
  },
  {
   "cell_type": "code",
   "execution_count": null,
   "id": "1e553642",
   "metadata": {},
   "outputs": [],
   "source": [
    "def create_linechart(df, label, value, title):\n",
    "\t\t...\n",
    "    # Init\n",
    "    fig = go.Figure()\n",
    "    \n",
    "    # Create fig\n",
    "    fig.add_trace(\n",
    "        go.Scatter(\n",
    "            x=df[label],\n",
    "            y=df[value],\n",
    "            mode=\"lines\",\n",
    "        )\n",
    "    )\n",
    "    fig.update_traces(marker_color='black')\n",
    "    fig.update_layout(\n",
    "        title=title,\n",
    "        title_font=dict(family=\"Arial\", size=18, color=\"black\"),\n",
    "        plot_bgcolor=\"#ffffff\",\n",
    "        width=1200,\n",
    "        height=800,\n",
    "        paper_bgcolor=\"white\",\n",
    "        margin_pad=10,\n",
    "    )\n",
    "    fig.show()\n",
    "    return fig\n",
    "\n",
    "fig = create_linechart(df_trend, label=\"\", value=\"\", title=title)\n"
   ]
  },
  {
   "cell_type": "markdown",
   "id": "541e16a0",
   "metadata": {},
   "source": [
    "### Save and share your csv file\n"
   ]
  },
  {
   "cell_type": "code",
   "execution_count": null,
   "id": "61cc88bf",
   "metadata": {},
   "outputs": [],
   "source": [
    "# Save your dataframe in CSV\n",
    "merged_df.to_csv(csv_output, index=False)\n",
    "\n",
    "# Share output with naas\n",
    "naas.asset.add(csv_output)\n",
    "\n",
    "#-> Uncomment the line below to remove your asset\n",
    "# naas.asset.delete(csv_output)\n"
   ]
  },
  {
   "cell_type": "markdown",
   "id": "d28cd477",
   "metadata": {},
   "source": [
    "### Save and share your graph in HTML\n"
   ]
  },
  {
   "cell_type": "code",
   "execution_count": null,
   "id": "3421d37f",
   "metadata": {},
   "outputs": [],
   "source": [
    "# Save your graph in HTML\n",
    "fig.write_html(html_output)\n",
    "\n",
    "# Share output with naas\n",
    "naas.asset.add(html_output, params={\"inline\": True})\n",
    "\n",
    "#-> Uncomment the line below to remove your asset\n",
    "# naas.asset.delete(html_output)\n"
   ]
  },
  {
   "cell_type": "markdown",
   "id": "91a987c6",
   "metadata": {},
   "source": [
    "### Save and share your graph in image\n"
   ]
  },
  {
   "cell_type": "code",
   "execution_count": null,
   "id": "8342abf9",
   "metadata": {},
   "outputs": [],
   "source": [
    "# Save your graph in PNG\n",
    "fig.write_image(image_output)\n",
    "\n",
    "# Share output with naas\n",
    "naas.asset.add(image_output, params={\"inline\": True})\n",
    "\n",
    "#-> Uncomment the line below to remove your asset\n",
    "# naas.asset.delete(image_output)\n"
   ]
  }
 ],
 "metadata": {},
 "nbformat": 4,
 "nbformat_minor": 5
}
