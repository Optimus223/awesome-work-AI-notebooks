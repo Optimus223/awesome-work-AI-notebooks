{
 "cells": [
  {
   "cell_type": "markdown",
   "id": "2954e3e8-1b11-4946-858b-478d5878e639",
   "metadata": {
    "papermill": {},
    "tags": []
   },
   "source": [
    "<img width=\"10%\" alt=\"Naas\" src=\"https://landen.imgix.net/jtci2pxwjczr/assets/5ice39g4.png?w=160\"/>"
   ]
  },
  {
   "cell_type": "markdown",
   "id": "f8bc3806-ec06-4c6e-a405-76bf9eebe6d5",
   "metadata": {
    "papermill": {},
    "tags": []
   },
   "source": [
    "# LinkedIn - Send like to post"
   ]
  },
  {
   "cell_type": "markdown",
   "id": "945e3c7f-cdcd-4976-974c-29fabebb4805",
   "metadata": {
    "papermill": {},
    "tags": []
   },
   "source": [
    "**Tags:** #linkedin #socialmedia #like #post #python #api"
   ]
  },
  {
   "cell_type": "markdown",
   "id": "c1dd5362-7198-428a-a177-6d2b84e73834",
   "metadata": {
    "papermill": {},
    "tags": []
   },
   "source": [
    "**Author:** [Florent Ravenel](https://www.linkedin.com/in/florent-ravenel)"
   ]
  },
  {
   "cell_type": "markdown",
   "id": "5396fb5f-e300-4b3a-8760-7cc3178a5035",
   "metadata": {
    "papermill": {},
    "tags": []
   },
   "source": [
    "**Last update:** 2023-08-02 (Created: 2023-08-02)"
   ]
  },
  {
   "cell_type": "markdown",
   "id": "d8e8d954-bfb2-4c90-84fd-3c0b0edb0ed5",
   "metadata": {
    "papermill": {},
    "tags": []
   },
   "source": [
    "**Description:** This notebook will show how to send a like to a post on LinkedIn using Python and the LinkedIn API. It is usefull for organizations to quickly interact with their followers."
   ]
  },
  {
   "cell_type": "markdown",
   "id": "0e45144f-1063-4970-9ade-deffb4c73945",
   "metadata": {
    "papermill": {},
    "tags": []
   },
   "source": [
    "**References:**\n- [LinkedIn API Documentation](https://docs.microsoft.com/en-us/linkedin/consumer/integrations/self-serve/share-on-linkedin)\n- [Python Requests Library](https://requests.readthedocs.io/en/master/)"
   ]
  },
  {
   "cell_type": "markdown",
   "id": "40a7d355-df4e-4e28-ac9f-102bb85c3512",
   "metadata": {
    "papermill": {},
    "tags": []
   },
   "source": [
    "## Input"
   ]
  },
  {
   "cell_type": "markdown",
   "id": "be7128ea-5322-438b-abaa-bc131017f379",
   "metadata": {
    "papermill": {},
    "tags": []
   },
   "source": [
    "### Import libraries"
   ]
  },
  {
   "cell_type": "code",
   "execution_count": null,
   "id": "9c3dc68e-ef62-48b2-be36-3f973eddfa45",
   "metadata": {
    "papermill": {},
    "tags": []
   },
   "source": "import requests",
   "outputs": []
  },
  {
   "cell_type": "markdown",
   "id": "b243513b-c0a0-4e64-bf93-cb0ca8efc97a",
   "metadata": {
    "papermill": {},
    "tags": []
   },
   "source": [
    "### Setup variables\n- `access_token`: Access token to authenticate the request. [Procedure to get an access token](https://docs.microsoft.com/en-us/linkedin/consumer/integrations/self-serve/sign-in-with-linkedin)\n- `post_id`: ID of the post to like"
   ]
  },
  {
   "cell_type": "code",
   "execution_count": null,
   "id": "ee606036-6453-461f-9ba4-300000de1d08",
   "metadata": {
    "papermill": {},
    "tags": []
   },
   "source": "access_token = \"AQXd8_Z...\"\npost_id = \"urn:li:activity:123456789\"",
   "outputs": []
  },
  {
   "cell_type": "markdown",
   "id": "9109bdf6-dddf-4eb6-aad2-5f27375546bc",
   "metadata": {
    "papermill": {},
    "tags": []
   },
   "source": [
    "## Model"
   ]
  },
  {
   "cell_type": "markdown",
   "id": "b3a34294-4613-4d59-af98-7f34e47f1f97",
   "metadata": {
    "papermill": {},
    "tags": []
   },
   "source": [
    "### Send like to post"
   ]
  },
  {
   "cell_type": "markdown",
   "id": "51081029-7c55-4359-a20b-a81badda7d00",
   "metadata": {
    "papermill": {},
    "tags": []
   },
   "source": [
    "This function will send a like to a post on LinkedIn using the `access_token` and the `post_id` variables."
   ]
  },
  {
   "cell_type": "code",
   "execution_count": null,
   "id": "6cadd18a-5dce-4d6f-8915-edfa0d72697d",
   "metadata": {
    "papermill": {},
    "tags": []
   },
   "source": "def send_like(access_token, post_id):\n    url = f\"https://api.linkedin.com/v2/ugcPosts/{post_id}/actions/like\"\n    headers = {\"Authorization\": f\"Bearer {access_token}\"}\n    response = requests.post(url, headers=headers)\n    return response",
   "outputs": []
  },
  {
   "cell_type": "markdown",
   "id": "4a1385da-9332-44d8-ae79-908f36aeb3a5",
   "metadata": {
    "papermill": {},
    "tags": []
   },
   "source": [
    "## Output"
   ]
  },
  {
   "cell_type": "markdown",
   "id": "00782b2b-9ffd-4c84-9ec5-73626668a0cc",
   "metadata": {
    "papermill": {},
    "tags": []
   },
   "source": [
    "### Display result"
   ]
  },
  {
   "cell_type": "code",
   "execution_count": null,
   "id": "96eeb451-7be1-48cd-a664-f8399eddaae6",
   "metadata": {
    "papermill": {},
    "tags": []
   },
   "source": "response = send_like(access_token, post_id)\nprint(response.status_code)\nprint(response.json())",
   "outputs": []
  },
  {
   "cell_type": "markdown",
   "id": "2f8fbfa5-b9fc-4cdc-8474-7b05dfa1d751",
   "metadata": {
    "papermill": {},
    "tags": []
   },
   "source": [
    " "
   ]
  }
 ],
 "metadata": {
  "kernelspec": {
   "display_name": "Python 3",
   "language": "python",
   "name": "python3"
  },
  "language_info": {
   "codemirror_mode": {
    "name": "ipython",
    "version": 3
   },
   "file_extension": ".py",
   "mimetype": "text/x-python",
   "name": "python",
   "nbconvert_exporter": "python",
   "pygments_lexer": "ipython3",
   "version": "3.9.6"
  },
  "widgets": {
   "application/vnd.jupyter.widget-state+json": {
    "state": {},
    "version_major": 2,
    "version_minor": 0
   }
  }
 },
 "nbformat": 4,
 "nbformat_minor": 5
}