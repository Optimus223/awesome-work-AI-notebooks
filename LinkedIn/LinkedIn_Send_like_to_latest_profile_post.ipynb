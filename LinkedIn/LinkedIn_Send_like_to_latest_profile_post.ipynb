{
 "cells": [
  {
   "cell_type": "markdown",
   "id": "ba8798cc-1351-44ff-be1e-4f762a5b0ebf",
   "metadata": {
    "papermill": {},
    "tags": []
   },
   "source": [
    "<img width=\"10%\" alt=\"Naas\" src=\"https://landen.imgix.net/jtci2pxwjczr/assets/5ice39g4.png?w=160\"/>"
   ]
  },
  {
   "cell_type": "markdown",
   "id": "de01e1b4-4603-4fe9-a70e-b438b91ef689",
   "metadata": {
    "papermill": {},
    "tags": []
   },
   "source": [
    "# LinkedIn - Send like to latest profile post"
   ]
  },
  {
   "cell_type": "markdown",
   "id": "e493502e-ce65-47a2-b5e6-22b071da07e2",
   "metadata": {
    "papermill": {},
    "tags": []
   },
   "source": [
    "**Tags:** #linkedin #socialmedia #like #profile #post #python"
   ]
  },
  {
   "cell_type": "markdown",
   "id": "2806c98c-3aa0-4af4-a27f-d75e2d1d05eb",
   "metadata": {
    "papermill": {},
    "tags": []
   },
   "source": [
    "**Author:** [Florent Ravenel](https://www.linkedin.com/in/florent-ravenel)"
   ]
  },
  {
   "cell_type": "markdown",
   "id": "1d877922-0cdb-49c9-a035-8edadc8bdddf",
   "metadata": {
    "papermill": {},
    "tags": []
   },
   "source": [
    "**Last update:** 2023-08-03 (Created: 2023-08-03)"
   ]
  },
  {
   "cell_type": "markdown",
   "id": "c214a89b-3395-4d18-852f-8c8fb65c42f8",
   "metadata": {
    "papermill": {},
    "tags": []
   },
   "source": [
    "**Description:** This notebook will follow a profile on LinkedIn and send like to its last posts. It is usefull for organizations to increase their visibility on social media."
   ]
  },
  {
   "cell_type": "markdown",
   "id": "4aee1165-fbd6-4760-816e-7c5f59573f06",
   "metadata": {
    "papermill": {},
    "tags": []
   },
   "source": [
    "**References:**\n- [LinkedIn API Documentation](https://docs.microsoft.com/en-us/linkedin/shared/references/v2/profile/profile-visits?context=linkedin/consumer/context)\n- [Python Requests Library](https://requests.readthedocs.io/en/master/)"
   ]
  },
  {
   "cell_type": "markdown",
   "id": "d67831a3-60c6-4cbb-bc06-f03a6c069083",
   "metadata": {
    "papermill": {},
    "tags": []
   },
   "source": [
    "## Input"
   ]
  },
  {
   "cell_type": "markdown",
   "id": "c979f789-90d5-43c4-bd1b-22363c48d0a9",
   "metadata": {
    "papermill": {},
    "tags": []
   },
   "source": [
    "### Import libraries"
   ]
  },
  {
   "cell_type": "code",
   "execution_count": null,
   "id": "f88b9dba-da47-4977-9327-83ea72d3e632",
   "metadata": {
    "papermill": {},
    "tags": []
   },
   "source": "import requests",
   "outputs": []
  },
  {
   "cell_type": "markdown",
   "id": "21a5928d-b3b4-4d0d-8ffb-b1e810620b1c",
   "metadata": {
    "papermill": {},
    "tags": []
   },
   "source": [
    "### Setup variables\n- `profile_id`: ID of the profile to follow\n- `access_token`: Access token to use the LinkedIn API"
   ]
  },
  {
   "cell_type": "code",
   "execution_count": null,
   "id": "a0607440-8481-4937-b4e1-88086e1d1dbb",
   "metadata": {
    "papermill": {},
    "tags": []
   },
   "source": "profile_id = \"123456789\"\naccess_token = \"abcdefghijklmnopqrstuvwxyz\"",
   "outputs": []
  },
  {
   "cell_type": "markdown",
   "id": "e4a3c215-e0bc-4e8f-be66-6841add0215e",
   "metadata": {
    "papermill": {},
    "tags": []
   },
   "source": [
    "## Model"
   ]
  },
  {
   "cell_type": "markdown",
   "id": "7f1324e3-c582-4c6b-b75c-eac1ac297918",
   "metadata": {
    "papermill": {},
    "tags": []
   },
   "source": [
    "### Send like to latest profile post"
   ]
  },
  {
   "cell_type": "markdown",
   "id": "52b64500-11c1-42d4-8ddb-15465d6653b7",
   "metadata": {
    "papermill": {},
    "tags": []
   },
   "source": [
    "This function will send a like to the latest post of a profile."
   ]
  },
  {
   "cell_type": "code",
   "execution_count": null,
   "id": "6cea4ae2-de00-4916-a4d9-903155147039",
   "metadata": {
    "papermill": {},
    "tags": []
   },
   "source": "def send_like(profile_id, access_token):\n    # Get the latest post of the profile\n    url = f\"https://api.linkedin.com/v2/ugcPosts?q=authors&authors={profile_id}\"\n    headers = {\"Authorization\": f\"Bearer {access_token}\"}\n    response = requests.get(url, headers=headers)\n    post_id = response.json()[\"elements\"][0][\"id\"]\n\n    # Send a like to the post\n    url = f\"https://api.linkedin.com/v2/socialActions/{post_id}/likes\"\n    response = requests.post(url, headers=headers)\n    print(response.status_code)",
   "outputs": []
  },
  {
   "cell_type": "markdown",
   "id": "7a936faa-4d3f-4555-bb25-440e7a95019d",
   "metadata": {
    "papermill": {},
    "tags": []
   },
   "source": [
    "## Output"
   ]
  },
  {
   "cell_type": "markdown",
   "id": "7a426abe-35ed-4329-8e10-3cd859f6d670",
   "metadata": {
    "papermill": {},
    "tags": []
   },
   "source": [
    "### Display result"
   ]
  },
  {
   "cell_type": "code",
   "execution_count": null,
   "id": "fbe23c9a-75ad-4748-b3ef-3af1d2f81ab2",
   "metadata": {
    "papermill": {},
    "tags": []
   },
   "source": "send_like(profile_id, access_token)",
   "outputs": []
  },
  {
   "cell_type": "markdown",
   "id": "22edcbd7-58cd-47ff-826f-1b6b86cdb25c",
   "metadata": {
    "papermill": {},
    "tags": []
   },
   "source": [
    " "
   ]
  }
 ],
 "metadata": {
  "kernelspec": {
   "display_name": "Python 3",
   "language": "python",
   "name": "python3"
  },
  "language_info": {
   "codemirror_mode": {
    "name": "ipython",
    "version": 3
   },
   "file_extension": ".py",
   "mimetype": "text/x-python",
   "name": "python",
   "nbconvert_exporter": "python",
   "pygments_lexer": "ipython3",
   "version": "3.9.6"
  },
  "widgets": {
   "application/vnd.jupyter.widget-state+json": {
    "state": {},
    "version_major": 2,
    "version_minor": 0
   }
  }
 },
 "nbformat": 4,
 "nbformat_minor": 5
}