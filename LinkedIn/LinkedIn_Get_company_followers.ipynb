{
 "cells": [
  {
   "cell_type": "markdown",
   "id": "fresh-danish",
   "metadata": {
    "execution": {
     "iopub.execute_input": "2021-01-25T08:00:35.294800Z",
     "iopub.status.busy": "2021-01-25T08:00:35.294557Z",
     "iopub.status.idle": "2021-01-25T08:00:35.307281Z",
     "shell.execute_reply": "2021-01-25T08:00:35.306468Z",
     "shell.execute_reply.started": "2021-01-25T08:00:35.294775Z"
    },
    "papermill": {},
    "tags": []
   },
   "source": [
    "<img width=\"10%\" alt=\"Naas\" src=\"https://landen.imgix.net/jtci2pxwjczr/assets/5ice39g4.png?w=160\"/>"
   ]
  },
  {
   "cell_type": "markdown",
   "id": "federal-pixel",
   "metadata": {
    "papermill": {},
    "tags": []
   },
   "source": [
    "# LinkedIn - Get company followers\n",
    "<a href=\"https://app.naas.ai/user-redirect/naas/downloader?url=https://raw.githubusercontent.com/jupyter-naas/awesome-notebooks/master/LinkedIn/LinkedIn_Get_company_followers.ipynb\" target=\"_parent\"><img src=\"https://naasai-public.s3.eu-west-3.amazonaws.com/open_in_naas.svg\"/></a>"
   ]
  },
  {
   "cell_type": "markdown",
   "id": "be29252a-5f47-44cc-a178-c734ab5f042b",
   "metadata": {
    "papermill": {},
    "tags": []
   },
   "source": [
    "**Tags:** #linkedin #company #followers #naas_drivers #snippet #csv #content"
   ]
  },
  {
   "cell_type": "markdown",
   "id": "ce9b6fcd-b307-40ba-b872-668562f81947",
   "metadata": {
    "papermill": {},
    "tags": []
   },
   "source": [
    "**Author:** [Florent Ravenel](https://www.linkedin.com/in/florent-ravenel/)"
   ]
  },
  {
   "cell_type": "markdown",
   "id": "normal-rochester",
   "metadata": {
    "papermill": {},
    "tags": []
   },
   "source": [
    "## Input"
   ]
  },
  {
   "cell_type": "markdown",
   "id": "import_cell",
   "metadata": {
    "papermill": {},
    "tags": []
   },
   "source": [
    "### Import library"
   ]
  },
  {
   "cell_type": "code",
   "execution_count": null,
   "id": "recreational-season",
   "metadata": {
    "papermill": {},
    "tags": []
   },
   "outputs": [],
   "source": [
    "from naas_drivers import linkedin\n",
    "import pandas as pd\n",
    "import naas"
   ]
  },
  {
   "cell_type": "markdown",
   "id": "wrapped-benjamin",
   "metadata": {
    "papermill": {},
    "tags": []
   },
   "source": [
    "### Setup LinkedIn\n",
    "👉 <a href='https://www.notion.so/LinkedIn-driver-Get-your-cookies-d20a8e7e508e42af8a5b52e33f3dba75'>How to get your cookies ?</a>"
   ]
  },
  {
   "cell_type": "code",
   "execution_count": null,
   "id": "yellow-footage",
   "metadata": {
    "papermill": {},
    "tags": []
   },
   "outputs": [],
   "source": [
    "# Credentials\n",
    "LI_AT = 'YOUR_COOKIE_LI_AT'  # EXAMPLE AQFAzQN_PLPR4wAAAXc-FCKmgiMit5FLdY1af3-2\n",
    "JSESSIONID = 'YOUR_COOKIE_JSESSIONID'  # EXAMPLE ajax:8379907400220387585\n",
    "\n",
    "# Company URL\n",
    "COMPANY_URL = \"https://www.linkedin.com/company/naas-ai/\""
   ]
  },
  {
   "cell_type": "markdown",
   "id": "66b77860-a95b-486c-a153-9cab521de365",
   "metadata": {
    "papermill": {},
    "tags": []
   },
   "source": [
    "### Setup variables"
   ]
  },
  {
   "cell_type": "code",
   "execution_count": null,
   "id": "63ba2bd2-cc65-4ddf-8d01-42460006a159",
   "metadata": {
    "papermill": {},
    "tags": []
   },
   "outputs": [],
   "source": [
    "# Inputs\n",
    "csv_input = \"LinkedIn_company_followers.csv\""
   ]
  },
  {
   "cell_type": "markdown",
   "id": "pediatric-emerald",
   "metadata": {
    "papermill": {},
    "tags": []
   },
   "source": [
    "## Model"
   ]
  },
  {
   "cell_type": "markdown",
   "id": "differential-agenda",
   "metadata": {
    "execution": {
     "iopub.execute_input": "2021-05-15T10:12:55.887028Z",
     "iopub.status.busy": "2021-05-15T10:12:55.886761Z",
     "iopub.status.idle": "2021-05-15T10:12:55.899441Z",
     "shell.execute_reply": "2021-05-15T10:12:55.898476Z",
     "shell.execute_reply.started": "2021-05-15T10:12:55.886964Z"
    },
    "papermill": {},
    "tags": []
   },
   "source": [
    "### Get followers from company\n",
    "**Available columns :**\n",
    "- FIRSTNAME : First name\n",
    "- LASTNAME : Last name\n",
    "- OCCUPATION : Text below the name in the profile page\n",
    "- PROFILE_PICTURE : Profile picture URL\n",
    "- PROFILE_URL : Profile URL\n",
    "- PROFILE_ID : LinkedIn profile id\n",
    "- PUBLIC_ID : LinkedIn public profile id\n",
    "- FOLLOWED_AT : Date of following company\n",
    "- DISTANCE : Distance between your profile"
   ]
  },
  {
   "cell_type": "code",
   "execution_count": null,
   "id": "8b27df3a-166a-4f05-836c-aec268a5a9d5",
   "metadata": {
    "papermill": {},
    "tags": []
   },
   "outputs": [],
   "source": [
    "# Get company followers from CSV stored in your local (Returns empty if CSV does not exist)\n",
    "def get_company_followers(file_path):\n",
    "    try:\n",
    "        df = pd.read_csv(file_path)\n",
    "    except FileNotFoundError as e:\n",
    "        # Empty dataframe returned\n",
    "        return pd.DataFrame()\n",
    "    return df\n",
    "\n",
    "df_followers = get_company_followers(csv_input)\n",
    "df_followers"
   ]
  },
  {
   "cell_type": "code",
   "execution_count": null,
   "id": "eb4b0e94-614a-4a6f-b631-811c4a4b4122",
   "metadata": {
    "papermill": {},
    "tags": []
   },
   "outputs": [],
   "source": [
    "def get_new_followers(df, input_path):\n",
    "    # Get all profiles\n",
    "    profiles = []\n",
    "    if len(df) > 0:\n",
    "        profiles = df.PROFILE_ID.unique()\n",
    "    start = 0\n",
    "    while True:\n",
    "        tmp_df = linkedin.connect(LI_AT, JSESSIONID).company.get_followers(COMPANY_URL,\n",
    "                                                                           start=start,\n",
    "                                                                           limit=1,\n",
    "                                                                           sleep=False)\n",
    "        profile_id = None\n",
    "        if \"PROFILE_ID\" in tmp_df.columns:\n",
    "            profile_id = tmp_df.loc[0, \"PROFILE_ID\"]\n",
    "        if profile_id in profiles:\n",
    "            break\n",
    "        else:\n",
    "            df = pd.concat([tmp_df, df])\n",
    "            df.to_csv(input_path, index=False)\n",
    "            start += 1\n",
    "    return df.reset_index(drop=True)\n",
    "\n",
    "merged_df = get_new_followers(df_followers, csv_input)\n",
    "merged_df"
   ]
  },
  {
   "cell_type": "markdown",
   "id": "piano-stylus",
   "metadata": {
    "papermill": {},
    "tags": []
   },
   "source": [
    "## Output"
   ]
  },
  {
   "cell_type": "markdown",
   "id": "micro-funds",
   "metadata": {
    "papermill": {},
    "tags": []
   },
   "source": [
    "### Display result"
   ]
  },
  {
   "cell_type": "code",
   "execution_count": null,
   "id": "threaded-minister",
   "metadata": {
    "papermill": {},
    "tags": []
   },
   "outputs": [],
   "source": [
    "merged_df"
   ]
  }
 ],
 "metadata": {
  "kernelspec": {
   "display_name": "Python 3",
   "language": "python",
   "name": "python3"
  },
  "language_info": {
   "codemirror_mode": {
    "name": "ipython",
    "version": 3
   },
   "file_extension": ".py",
   "mimetype": "text/x-python",
   "name": "python",
   "nbconvert_exporter": "python",
   "pygments_lexer": "ipython3",
   "version": "3.9.6"
  },
  "naas": {
   "notebook_id": "c45ccb48-ed43-40a5-bb29-abb054d43357",
   "notebook_path": "LinkedIn/LinkedIn_Get_connections_from_network.ipynb"
  },
  "papermill": {
   "default_parameters": {},
   "environment_variables": {},
   "parameters": {},
   "version": "2.3.3"
  },
  "widgets": {
   "application/vnd.jupyter.widget-state+json": {
    "state": {},
    "version_major": 2,
    "version_minor": 0
   }
  }
 },
 "nbformat": 4,
 "nbformat_minor": 5
}