{
 "cells": [
  {
   "cell_type": "markdown",
   "id": "804ce2e6-6abd-4882-ac66-7a3c67c4df30",
   "metadata": {
    "papermill": {},
    "tags": []
   },
   "source": [
    "<img width=\"10%\" alt=\"Naas\" src=\"https://landen.imgix.net/jtci2pxwjczr/assets/5ice39g4.png?w=160\"/>"
   ]
  },
  {
   "cell_type": "markdown",
   "id": "272ddf71-cf9c-42fd-bdfc-f65e3b0bb689",
   "metadata": {
    "papermill": {},
    "tags": []
   },
   "source": [
    "# LinkedIn - Create Post with Image"
   ]
  },
  {
   "cell_type": "markdown",
   "id": "7dd34e03-dd90-482c-9440-65fe51a9e081",
   "metadata": {
    "papermill": {},
    "tags": []
   },
   "source": [
    "**Tags:** #linkedin #voyager #api #post #image #create"
   ]
  },
  {
   "cell_type": "markdown",
   "id": "866eb703-ad36-4360-8774-75a530563583",
   "metadata": {
    "papermill": {},
    "tags": []
   },
   "source": [
    "**Author:** [Florent Ravenel](https://www.linkedin.com/in/florent-ravenel/)"
   ]
  },
  {
   "cell_type": "markdown",
   "id": "e8693193-12a9-46c6-a6e1-385e24c02324",
   "metadata": {
    "papermill": {},
    "tags": []
   },
   "source": [
    "**Description:** This notebook will show how to create a post with an image using the Linkedin Voyager API."
   ]
  },
  {
   "cell_type": "markdown",
   "id": "a33b2619-7e68-4b3d-b261-e097b6c38acd",
   "metadata": {
    "papermill": {},
    "tags": []
   },
   "source": [
    "**References:**\n- [Linkedin Voyager API Documentation](https://docs.microsoft.com/en-us/linkedin/consumer/integrations/self-serve/share-on-linkedin?context=linkedin/consumer/context)\n- [Linkedin Developer Documentation](https://docs.microsoft.com/en-us/linkedin/shared/references/v2/profile/shares?context=linkedin/consumer/context)"
   ]
  },
  {
   "cell_type": "markdown",
   "id": "d0ed28e8-fd7b-48a6-a0b2-040283f772d9",
   "metadata": {
    "papermill": {},
    "tags": []
   },
   "source": [
    "## Input"
   ]
  },
  {
   "cell_type": "markdown",
   "id": "5fc259c0-f7e1-4f7c-b893-cd3dab2c5500",
   "metadata": {
    "papermill": {},
    "tags": []
   },
   "source": [
    "### Import libraries"
   ]
  },
  {
   "cell_type": "code",
   "execution_count": null,
   "id": "896ce8bb-5948-4863-8c48-54f1e34f39a3",
   "metadata": {
    "papermill": {},
    "tags": []
   },
   "source": "import requests\nimport json",
   "outputs": []
  },
  {
   "cell_type": "markdown",
   "id": "9f6cc279-9eb5-4d20-923c-590e9c3eb54d",
   "metadata": {
    "papermill": {},
    "tags": []
   },
   "source": [
    "### Setup Variables\n- **access_token**: [Linkedin Access Token](https://docs.microsoft.com/en-us/linkedin/shared/authentication/authorization-code-flow?context=linkedin/consumer/context)\n- **url**: Linkedin Voyager API URL\n- **headers**: Linkedin Voyager API headers\n- **data**: Linkedin Voyager API data"
   ]
  },
  {
   "cell_type": "code",
   "execution_count": null,
   "id": "98d6f5dc-2ba5-4d99-b53c-1c8cb51d7c61",
   "metadata": {
    "papermill": {},
    "tags": []
   },
   "source": "access_token = \"AQXd8_Wq6ED3zjfK3VFkuHgVuXzjbL2mYXJLq8bFJnKcJ9Ug4oMj2MjVpHtb1\"\nurl = \"https://api.linkedin.com/v2/shares\"\nheaders = {\n    \"Authorization\": \"Bearer \" + access_token,\n    \"Content-Type\": \"application/json\",\n}\ndata = {\n    \"author\": \"urn:li:person:<id>\",\n    \"lifecycleState\": \"PUBLISHED\",\n    \"specificContent\": {\n        \"com.linkedin.ugc.ShareContent\": {\n            \"shareCommentary\": {\"text\": \"Check out the LinkedIn Share API!\"},\n            \"shareMediaCategory\": \"IMAGE\",\n            \"media\": [\n                {\n                    \"status\": \"READY\",\n                    \"description\": {\"text\": \"Cat with Hat\"},\n                    \"originalUrl\": \"https://example.com/catwithhat.jpg\",\n                    \"title\": {\"text\": \"Cat with Hat\"},\n                }\n            ],\n        }\n    },\n    \"visibility\": {\"com.linkedin.ugc.MemberNetworkVisibility\": \"PUBLIC\"},\n}",
   "outputs": []
  },
  {
   "cell_type": "markdown",
   "id": "4f7a6edb-6bc3-4077-a224-1ec80f03065d",
   "metadata": {
    "papermill": {},
    "tags": []
   },
   "source": [
    "## Model"
   ]
  },
  {
   "cell_type": "markdown",
   "id": "3dc089db-65a6-401a-857b-58c93b8dc778",
   "metadata": {
    "papermill": {},
    "tags": []
   },
   "source": [
    "### Create Post with Image"
   ]
  },
  {
   "cell_type": "markdown",
   "id": "3b156d31-d786-48ff-bc84-86f758bc9465",
   "metadata": {
    "papermill": {},
    "tags": []
   },
   "source": [
    "Using the Linkedin Voyager API, we can create a post with an image. We need to set the `shareMediaCategory` to `IMAGE` and provide the `originalUrl` of the image."
   ]
  },
  {
   "cell_type": "code",
   "execution_count": null,
   "id": "1bd0d96a-2532-4551-9de8-edbc9e20ae2f",
   "metadata": {
    "papermill": {},
    "tags": []
   },
   "source": "response = requests.post(url, headers=headers, data=json.dumps(data))",
   "outputs": []
  },
  {
   "cell_type": "markdown",
   "id": "e3ed1fac-7f12-4eb6-8838-e9312a7854f0",
   "metadata": {
    "papermill": {},
    "tags": []
   },
   "source": [
    "## Output"
   ]
  },
  {
   "cell_type": "markdown",
   "id": "be227d69-6e85-4fe1-8839-4157763a3a71",
   "metadata": {
    "papermill": {},
    "tags": []
   },
   "source": [
    "### Display result"
   ]
  },
  {
   "cell_type": "code",
   "execution_count": null,
   "id": "3e561e54-fbf2-4491-899f-5ecc73993c99",
   "metadata": {
    "papermill": {},
    "tags": []
   },
   "source": "print(response.json())",
   "outputs": []
  },
  {
   "cell_type": "markdown",
   "id": "62db8d59-0337-4949-abce-3618159ad643",
   "metadata": {
    "papermill": {},
    "tags": []
   },
   "source": [
    " "
   ]
  }
 ],
 "metadata": {
  "kernelspec": {
   "display_name": "Python 3",
   "language": "python",
   "name": "python3"
  },
  "language_info": {
   "codemirror_mode": {
    "name": "ipython",
    "version": 3
   },
   "file_extension": ".py",
   "mimetype": "text/x-python",
   "name": "python",
   "nbconvert_exporter": "python",
   "pygments_lexer": "ipython3",
   "version": "3.9.6"
  },
  "widgets": {
   "application/vnd.jupyter.widget-state+json": {
    "state": {},
    "version_major": 2,
    "version_minor": 0
   }
  }
 },
 "nbformat": 4,
 "nbformat_minor": 5
}