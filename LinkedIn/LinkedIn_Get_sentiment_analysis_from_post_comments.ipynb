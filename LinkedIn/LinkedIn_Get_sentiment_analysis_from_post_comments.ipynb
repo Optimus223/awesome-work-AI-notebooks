{
 "cells": [
  {
   "cell_type": "markdown",
   "id": "08e60f0b-15df-4b1e-bafb-8fdd9ba86794",
   "metadata": {
    "papermill": {},
    "tags": []
   },
   "source": [
    "<img width=\"10%\" alt=\"Naas\" src=\"https://landen.imgix.net/jtci2pxwjczr/assets/5ice39g4.png?w=160\"/>"
   ]
  },
  {
   "cell_type": "markdown",
   "id": "bf47ced8-b6e7-4462-9e1f-ce408f6038a5",
   "metadata": {
    "papermill": {},
    "tags": []
   },
   "source": [
    "# LinkedIn - Get sentiment analysis from post comments"
   ]
  },
  {
   "cell_type": "markdown",
   "id": "83f92798-691c-459c-91ae-bc6007dd24ec",
   "metadata": {
    "papermill": {},
    "tags": []
   },
   "source": [
    "**Tags:** #linkedin #sentimentanalysis #api #python #nlp #textanalysis"
   ]
  },
  {
   "cell_type": "markdown",
   "id": "f460a276-b2c7-44a4-a670-93641a1fcbdc",
   "metadata": {
    "papermill": {},
    "tags": []
   },
   "source": [
    "**Author:** [Florent Ravenel](https://www.linkedin.com/in/florent-ravenel)"
   ]
  },
  {
   "cell_type": "markdown",
   "id": "1da37b2b-8529-49e6-a8ed-74ab9c5ce97c",
   "metadata": {
    "papermill": {},
    "tags": []
   },
   "source": [
    "**Last update:** 2023-08-10 (Created: 2023-08-10)"
   ]
  },
  {
   "cell_type": "markdown",
   "id": "6f62a79a-0f8f-4890-8fdf-8ded2c562ef6",
   "metadata": {
    "papermill": {},
    "tags": []
   },
   "source": [
    "**Description:** This notebook provides a sentiment analysis of post comments from LinkedIn. It uses the LinkedIn API and Python libraries to extract the comments and analyze the sentiment of each comment. This is useful for organizations to understand the sentiment of their posts and the reactions of their followers."
   ]
  },
  {
   "cell_type": "markdown",
   "id": "20eaeb6e-ca33-4cc2-9c6a-d4dbf1614389",
   "metadata": {
    "papermill": {},
    "tags": []
   },
   "source": [
    "**References:**\n- [LinkedIn API Documentation](https://docs.microsoft.com/en-us/linkedin/shared/references/v2/profile/profile-views?context=linkedin/consumer/context)\n- [Python TextBlob Library](https://textblob.readthedocs.io/en/dev/)"
   ]
  },
  {
   "cell_type": "markdown",
   "id": "d09ff026-4c5b-4050-acfc-d081790e509b",
   "metadata": {
    "papermill": {},
    "tags": []
   },
   "source": [
    "## Input"
   ]
  },
  {
   "cell_type": "markdown",
   "id": "ed49a3d0-5ada-423a-82ea-0beffb8c37e1",
   "metadata": {
    "papermill": {},
    "tags": []
   },
   "source": [
    "### Import libraries"
   ]
  },
  {
   "cell_type": "code",
   "execution_count": null,
   "id": "d91e3b95-0e16-4840-8ac5-52fd6b3af807",
   "metadata": {
    "papermill": {},
    "tags": []
   },
   "source": "import requests\nimport json\nfrom textblob import TextBlob",
   "outputs": []
  },
  {
   "cell_type": "markdown",
   "id": "9d0231d3-96cc-47ab-9334-c4d1e310517a",
   "metadata": {
    "papermill": {},
    "tags": []
   },
   "source": [
    "### Setup variables\n- **api_key**: API key to access the LinkedIn API. [Link to procedure](https://docs.microsoft.com/en-us/linkedin/shared/authentication/client-credentials-flow?context=linkedin/consumer/context)\n- **token**: Token to access the LinkedIn API. [Link to procedure](https://docs.microsoft.com/en-us/linkedin/shared/authentication/client-credentials-flow?context=linkedin/consumer/context)\n- **post_id**: ID of the post to analyze"
   ]
  },
  {
   "cell_type": "code",
   "execution_count": null,
   "id": "229d37b5-b748-4b80-af2d-c31cb11f57ef",
   "metadata": {
    "papermill": {},
    "tags": []
   },
   "source": "api_key = \"YOUR_API_KEY\"\ntoken = \"YOUR_TOKEN\"\npost_id = \"YOUR_POST_ID\"",
   "outputs": []
  },
  {
   "cell_type": "markdown",
   "id": "0b0e69cd-b7ca-45e4-97ed-f1ab0dbc53e1",
   "metadata": {
    "papermill": {},
    "tags": []
   },
   "source": [
    "## Model"
   ]
  },
  {
   "cell_type": "markdown",
   "id": "ad32453f-f853-4b82-b72d-a2e099d1b9c8",
   "metadata": {
    "papermill": {},
    "tags": []
   },
   "source": [
    "### Get post comments"
   ]
  },
  {
   "cell_type": "markdown",
   "id": "d6017d4a-fe8f-4945-ba85-0a80c7b4e17c",
   "metadata": {
    "papermill": {},
    "tags": []
   },
   "source": [
    "This function uses the LinkedIn API to get the comments of a post. It takes the post ID as an argument and returns a list of comments."
   ]
  },
  {
   "cell_type": "code",
   "execution_count": null,
   "id": "31f68845-6ca7-427f-8920-2749ea990316",
   "metadata": {
    "papermill": {},
    "tags": []
   },
   "source": "def get_post_comments(post_id):\n    # Set the request URL\n    url = f\"https://api.linkedin.com/v2/socialActions/{post_id}/comments\"\n\n    # Set the request headers\n    headers = {\"Authorization\": f\"Bearer {token}\"}\n\n    # Make the request\n    response = requests.get(url, headers=headers)\n\n    # Parse the response\n    response_data = json.loads(response.text)\n\n    # Get the comments\n    comments = response_data[\"elements\"]\n\n    return comments",
   "outputs": []
  },
  {
   "cell_type": "markdown",
   "id": "b707bae9-571a-479c-8f78-cb204e0766da",
   "metadata": {
    "papermill": {},
    "tags": []
   },
   "source": [
    "### Analyze sentiment"
   ]
  },
  {
   "cell_type": "markdown",
   "id": "f65cd149-f3b3-4d55-81d9-4e867510caea",
   "metadata": {
    "papermill": {},
    "tags": []
   },
   "source": [
    "This function uses the TextBlob library to analyze the sentiment of a comment. It takes a comment as an argument and returns the sentiment score."
   ]
  },
  {
   "cell_type": "code",
   "execution_count": null,
   "id": "dcc81ea9-d36c-4a59-a56c-0d2d956a3065",
   "metadata": {
    "papermill": {},
    "tags": []
   },
   "source": "def analyze_sentiment(comment):\n    # Create a TextBlob object\n    comment_blob = TextBlob(comment)\n\n    # Get the sentiment score\n    sentiment = comment_blob.sentiment.polarity\n\n    return sentiment",
   "outputs": []
  },
  {
   "cell_type": "markdown",
   "id": "5d127eb0-c24d-4478-84c6-2840e4169db0",
   "metadata": {
    "papermill": {},
    "tags": []
   },
   "source": [
    "## Output"
   ]
  },
  {
   "cell_type": "markdown",
   "id": "094358ec-e39e-4035-b407-01a38833cbe8",
   "metadata": {
    "papermill": {},
    "tags": []
   },
   "source": [
    "### Display result"
   ]
  },
  {
   "cell_type": "code",
   "execution_count": null,
   "id": "c09d2045-867f-4233-b312-f5ac5f0ffea9",
   "metadata": {
    "papermill": {},
    "tags": []
   },
   "source": "# Get the comments\ncomments = get_post_comments(post_id)\n# Analyze the sentiment of each comment\nfor comment in comments:\n    sentiment = analyze_sentiment(comment[\"text\"])\n    print(f\"Comment: {comment['text']}\")\n    print(f\"Sentiment: {sentiment}\")\n    print(\"\")",
   "outputs": []
  }
 ],
 "metadata": {
  "kernelspec": {
   "display_name": "Python 3",
   "language": "python",
   "name": "python3"
  },
  "language_info": {
   "codemirror_mode": {
    "name": "ipython",
    "version": 3
   },
   "file_extension": ".py",
   "mimetype": "text/x-python",
   "name": "python",
   "nbconvert_exporter": "python",
   "pygments_lexer": "ipython3",
   "version": "3.9.6"
  },
  "widgets": {
   "application/vnd.jupyter.widget-state+json": {
    "state": {},
    "version_major": 2,
    "version_minor": 0
   }
  }
 },
 "nbformat": 4,
 "nbformat_minor": 5
}