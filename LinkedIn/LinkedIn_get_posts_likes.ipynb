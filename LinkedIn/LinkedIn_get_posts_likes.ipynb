{
 "cells": [
  {
   "cell_type": "markdown",
   "id": "structural-winning",
   "metadata": {
    "papermill": {},
    "tags": []
   },
   "source": [
    "<img width=\"10%\" alt=\"Naas\" src=\"https://landen.imgix.net/jtci2pxwjczr/assets/5ice39g4.png?w=160\"/>"
   ]
  },
  {
   "cell_type": "markdown",
   "id": "modular-calvin",
   "metadata": {
    "papermill": {},
    "tags": []
   },
   "source": [
    "<img width=\"20%\" alt=\"Naas\" src=\"https://logos-world.net/wp-content/uploads/2020/04/Linkedin-Logo.png\">"
   ]
  },
  {
   "cell_type": "markdown",
   "id": "violent-acquisition",
   "metadata": {
    "papermill": {},
    "tags": []
   },
   "source": [
    "# LinkedIn - Get posts likes\n",
    "<a href=\"https://app.naas.ai/user-redirect/naas/downloader?url=https://raw.githubusercontent.com/jupyter-naas/awesome-notebooks/master/LinkedIn/LinkedIn_get_posts_likes.ipynb\" target=\"_parent\">\n",
    "<img src=\"https://img.shields.io/badge/-Open%20in%20Naas-success?labelColor=000000&logo=data:image/svg+xml;base64,PD94bWwgdmVyc2lvbj0iMS4wIiBlbmNvZGluZz0iVVRGLTgiPz4KPHN2ZyB3aWR0aD0iMTAyNHB4IiBoZWlnaHQ9IjEwMjRweCIgdmlld0JveD0iMCAwIDEwMjQgMTAyNCIgeG1sbnM9Imh0dHA6Ly93d3cudzMub3JnLzIwMDAvc3ZnIiB4bWxuczp4bGluaz0iaHR0cDovL3d3dy53My5vcmcvMTk5OS94bGluayIgdmVyc2lvbj0iMS4xIj4KIDwhLS0gR2VuZXJhdGVkIGJ5IFBpeGVsbWF0b3IgUHJvIDIuMC41IC0tPgogPGRlZnM+CiAgPHRleHQgaWQ9InN0cmluZyIgdHJhbnNmb3JtPSJtYXRyaXgoMS4wIDAuMCAwLjAgMS4wIDIyOC4wIDU0LjUpIiBmb250LWZhbWlseT0iQ29tZm9ydGFhLVJlZ3VsYXIsIENvbWZvcnRhYSIgZm9udC1zaXplPSI4MDAiIHRleHQtZGVjb3JhdGlvbj0ibm9uZSIgZmlsbD0iI2ZmZmZmZiIgeD0iMS4xOTk5OTk5OTk5OTk5ODg2IiB5PSI3MDUuMCI+bjwvdGV4dD4KIDwvZGVmcz4KIDx1c2UgaWQ9Im4iIHhsaW5rOmhyZWY9IiNzdHJpbmciLz4KPC9zdmc+Cg==\"/>\n",
    "</a>"
   ]
  },
  {
   "cell_type": "markdown",
   "id": "radical-representation",
   "metadata": {
    "papermill": {},
    "tags": []
   },
   "source": [
    "## Input"
   ]
  },
  {
   "cell_type": "code",
   "execution_count": null,
   "id": "attempted-factory",
   "metadata": {
    "execution": {
     "iopub.execute_input": "2021-05-28T14:29:52.249783Z",
     "iopub.status.busy": "2021-05-28T14:29:52.249538Z",
     "iopub.status.idle": "2021-05-28T14:29:52.252570Z",
     "shell.execute_reply": "2021-05-28T14:29:52.252000Z",
     "shell.execute_reply.started": "2021-05-28T14:29:52.249759Z"
    },
    "papermill": {},
    "tags": []
   },
   "outputs": [],
   "source": [
    "# Credentials\n",
    "LI_AT = \"\"\n",
    "JSESSIONID = \"\"\n",
    "\n",
    "# Linkedin Post\n",
    "POST = \"\""
   ]
  },
  {
   "cell_type": "markdown",
   "id": "pressing-grave",
   "metadata": {
    "papermill": {},
    "tags": []
   },
   "source": [
    "## Model"
   ]
  },
  {
   "cell_type": "markdown",
   "id": "fifteen-leeds",
   "metadata": {
    "papermill": {},
    "tags": []
   },
   "source": [
    "### Imports"
   ]
  },
  {
   "cell_type": "code",
   "execution_count": null,
   "id": "fresh-range",
   "metadata": {
    "execution": {
     "iopub.execute_input": "2021-05-28T14:30:03.813506Z",
     "iopub.status.busy": "2021-05-28T14:30:03.813181Z",
     "iopub.status.idle": "2021-05-28T14:30:03.816643Z",
     "shell.execute_reply": "2021-05-28T14:30:03.816052Z",
     "shell.execute_reply.started": "2021-05-28T14:30:03.813473Z"
    },
    "papermill": {},
    "tags": []
   },
   "outputs": [],
   "source": [
    "import pandas as pd\n",
    "import naas_drivers\n",
    "import requests\n",
    "import urllib"
   ]
  },
  {
   "cell_type": "markdown",
   "id": "correct-documentary",
   "metadata": {
    "papermill": {},
    "tags": []
   },
   "source": [
    "### Set up LinkedIn Session"
   ]
  },
  {
   "cell_type": "code",
   "execution_count": null,
   "id": "mature-exhaust",
   "metadata": {
    "execution": {
     "iopub.execute_input": "2021-05-28T14:29:52.660241Z",
     "iopub.status.busy": "2021-05-28T14:29:52.659936Z",
     "iopub.status.idle": "2021-05-28T14:29:52.664186Z",
     "shell.execute_reply": "2021-05-28T14:29:52.663576Z",
     "shell.execute_reply.started": "2021-05-28T14:29:52.660210Z"
    },
    "papermill": {},
    "tags": []
   },
   "outputs": [],
   "source": [
    "session = naas_drivers.linkedin.connect(LI_AT, JSESSIONID)\n",
    "\n",
    "# Init cookies\n",
    "cookies = session.cookies\n",
    "\n",
    "# Init headers\n",
    "headers = session.headers"
   ]
  },
  {
   "cell_type": "markdown",
   "id": "widespread-defensive",
   "metadata": {
    "papermill": {},
    "tags": []
   },
   "source": [
    "### Functions to get post likes"
   ]
  },
  {
   "cell_type": "code",
   "execution_count": null,
   "id": "invisible-party",
   "metadata": {
    "execution": {
     "iopub.execute_input": "2021-05-28T14:56:01.652980Z",
     "iopub.status.busy": "2021-05-28T14:56:01.652748Z",
     "iopub.status.idle": "2021-05-28T14:56:01.660944Z",
     "shell.execute_reply": "2021-05-28T14:56:01.660266Z",
     "shell.execute_reply.started": "2021-05-28T14:56:01.652955Z"
    },
    "papermill": {},
    "tags": []
   },
   "outputs": [],
   "source": [
    "def get_post_urn(post_link):\n",
    "    response = requests.get(post_link).text\n",
    "    urn_index = response.index('urn:li:activity:')\n",
    "    finish_index = response.index('\"', urn_index)\n",
    "    activity_urn = response[urn_index:finish_index]\n",
    "    activity_urn = activity_urn.rsplit(\"?\")[0]\n",
    "    return activity_urn\n",
    "\n",
    "def get_post_likes(post_link=None, thread_urn=None, count=100, start=0):\n",
    "    if post_link:\n",
    "        thread_urn = urllib.parse.quote(get_post_urn(post_link), safe='')\n",
    "        \n",
    "    if not thread_urn:\n",
    "        print(\"Error, specify a 'post_link' or a 'thread_urn'\")\n",
    "        return None\n",
    "    \n",
    "    user = {'URN_ID': [],\n",
    "            'PUBLIC_IDENTIFIER': [],\n",
    "            'FIRSTNAME': [],\n",
    "            'LASTNAME': [],\n",
    "            'JOB_TITLE': [],\n",
    "            }\n",
    "    \n",
    "    reacts = {'URN_ID': [],\n",
    "              'REACTION_TYPE': []\n",
    "              }\n",
    "    while True:\n",
    "        try:\n",
    "            res = requests.get(f\"https://www.linkedin.com/voyager/api/feed/reactions?count={count}&q=reactionType&start={start}&threadUrn={thread_urn}\",\n",
    "                               cookies=cookies,\n",
    "                               headers=headers).json()\n",
    "            for elem in res.get('included'):\n",
    "                if elem.get('$type') =='com.linkedin.voyager.identity.shared.MiniProfile':\n",
    "                    user['URN_ID'].append(elem.get('entityUrn').replace(\"urn:li:fs_miniProfile:\", \"\"))\n",
    "                    user['PUBLIC_IDENTIFIER'].append(elem.get('publicIdentifier'))\n",
    "                    user['FIRSTNAME'].append(elem.get('firstName'))\n",
    "                    user['LASTNAME'].append(elem.get('lastName'))\n",
    "                    user['JOB_TITLE'].append(elem.get('occupation'))\n",
    "                if elem.get(\"$type\") == 'com.linkedin.voyager.feed.social.Reaction':\n",
    "                    reacts['URN_ID'].append(elem.get('actorUrn').replace(\"urn:li:fs_miniProfile:\", \"\"))\n",
    "                    reacts['REACTION_TYPE'].append(elem['reactionType'])\n",
    "            if \"paging\" in res.get('data'):\n",
    "                start += count\n",
    "                if (res.get('data').get('paging').get('total') < start):\n",
    "                    break\n",
    "        except:\n",
    "            break\n",
    "    df_user = pd.DataFrame(user)\n",
    "    df_reacts = pd.DataFrame(reacts)\n",
    "    \n",
    "    df = pd.merge(df_user, df_reacts, on=\"URN_ID\", how=\"left\")\n",
    "    df[\"POST_URL\"] = post_link\n",
    "    return df"
   ]
  },
  {
   "cell_type": "markdown",
   "id": "abstract-bottom",
   "metadata": {
    "papermill": {},
    "tags": []
   },
   "source": [
    "## Output"
   ]
  },
  {
   "cell_type": "code",
   "execution_count": null,
   "id": "adaptive-article",
   "metadata": {
    "execution": {
     "iopub.execute_input": "2021-05-28T14:56:19.905433Z",
     "iopub.status.busy": "2021-05-28T14:56:19.905045Z",
     "iopub.status.idle": "2021-05-28T14:56:21.041076Z",
     "shell.execute_reply": "2021-05-28T14:56:21.040507Z",
     "shell.execute_reply.started": "2021-05-28T14:56:19.905382Z"
    },
    "papermill": {},
    "tags": []
   },
   "outputs": [],
   "source": [
    "post_reactions = get_post_reactions(post_link=POST)\n",
    "post_reactions"
   ]
  },
  {
   "cell_type": "code",
   "execution_count": null,
   "id": "cheap-caution",
   "metadata": {
    "papermill": {},
    "tags": []
   },
   "outputs": [],
   "source": []
  }
 ],
 "metadata": {
  "kernelspec": {
   "display_name": "Python 3",
   "language": "python",
   "name": "python3"
  },
  "language_info": {
   "codemirror_mode": {
    "name": "ipython",
    "version": 3
   },
   "file_extension": ".py",
   "mimetype": "text/x-python",
   "name": "python",
   "nbconvert_exporter": "python",
   "pygments_lexer": "ipython3",
   "version": "3.9.4"
  },
  "papermill": {
   "default_parameters": {},
   "environment_variables": {},
   "parameters": {},
   "version": "2.3.3"
  }
 },
 "nbformat": 4,
 "nbformat_minor": 5
}