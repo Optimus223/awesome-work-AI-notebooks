{
 "cells": [
  {
   "cell_type": "markdown",
   "id": "4791cbb3-f6cd-4046-ba3e-7848af92cba8",
   "metadata": {
    "papermill": {},
    "tags": []
   },
   "source": [
    "<img width=\"8%\" alt=\"Meta.jpg\" src=\"https://raw.githubusercontent.com/jupyter-naas/awesome-notebooks/master/.github/assets/logos/Meta.jpg\" style=\"border-radius: 15%\">"
   ]
  },
  {
   "cell_type": "markdown",
   "id": "0ef0ea5f-3614-4dd0-b223-f53e5e870e22",
   "metadata": {
    "papermill": {},
    "tags": []
   },
   "source": [
    "# Meta - Chat with Llama2-70b\n",
    "<a href=\"https://app.naas.ai/user-redirect/naas/downloader?url=https://raw.githubusercontent.com/jupyter-naas/awesome-notebooks/master/Meta/Meta_Chat_with_Llama2.ipynb\" target=\"_parent\"><img src=\"https://naasai-public.s3.eu-west-3.amazonaws.com/Open_in_Naas_Lab.svg\"/></a>  <a href=\"https://naas.ai/chat/use?plugin_url=https://raw.githubusercontent.com/jupyter-naas/awesome-notebooks/master/Meta/Meta_Chat_with_Llama2.ipynb\" target=\"_parent\"><img src=\"https://naasai-public.s3.eu-west-3.amazonaws.com/Open_in_Naas_Chat.svg\"/></a><br><br><a href=\"https://bit.ly/3JyWIk6\">Give Feedback</a> | <a href=\"https://github.com/jupyter-naas/awesome-notebooks/issues/new?assignees=&labels=bug&template=bug_report.md&title=Meta+-+Chat+with+Llama2:+Error+short+description\">Bug report</a>"
   ]
  },
  {
   "cell_type": "markdown",
   "id": "adf38cff-3aef-405d-a126-36e55dabf08b",
   "metadata": {
    "papermill": {},
    "tags": []
   },
   "source": [
    "**Tags:** #meta #llama2 #ai #llm #model #plugin #amazon #bedrock"
   ]
  },
  {
   "cell_type": "markdown",
   "id": "4ad002b2-699f-4d85-8c73-020d54023242",
   "metadata": {
    "papermill": {},
    "tags": []
   },
   "source": [
    "**Author:** [Florent Ravenel](https://www.linkedin.com/in/florent-ravenel/)"
   ]
  },
  {
   "cell_type": "markdown",
   "id": "925a3600-f3f3-47cf-ac1f-3a988e8ceb18",
   "metadata": {
    "papermill": {},
    "tags": []
   },
   "source": [
    "**Last update:** 2023-12-12 (Created: 2023-12-12)"
   ]
  },
  {
   "cell_type": "markdown",
   "id": "753f6c86-b292-47c7-ae17-8178ac433ca7",
   "metadata": {
    "papermill": {},
    "tags": []
   },
   "source": [
    "**Description:** This notebook will show how to chat with Llama2-70b model from Meta."
   ]
  },
  {
   "cell_type": "markdown",
   "id": "7c6d7df8-094f-4a73-996b-a6e9e2621fdf",
   "metadata": {
    "papermill": {},
    "tags": []
   },
   "source": [
    "**References:**\n",
    "- [Meta - Llama 2](https://ai.meta.com/resources/models-and-libraries/llama/)\n",
    "- [Naas Chat Documentation](https://site.naas.ai/docs/platform/aI-powered-chat)"
   ]
  },
  {
   "cell_type": "markdown",
   "id": "456a7e26-f3f1-4ea3-a89a-5e5852ca9a84",
   "metadata": {
    "papermill": {},
    "tags": []
   },
   "source": [
    "## Input"
   ]
  },
  {
   "cell_type": "markdown",
   "id": "e180921d-83ee-4427-8e25-ddc7500a7f12",
   "metadata": {
    "papermill": {},
    "tags": []
   },
   "source": [
    "### Import libraries"
   ]
  },
  {
   "cell_type": "code",
   "execution_count": 1,
   "id": "f700658d-e770-4bc4-9e85-6a7188f59d73",
   "metadata": {
    "execution": {
     "iopub.execute_input": "2023-12-12T12:07:26.999191Z",
     "iopub.status.busy": "2023-12-12T12:07:26.997691Z",
     "iopub.status.idle": "2023-12-12T12:07:39.916662Z",
     "shell.execute_reply": "2023-12-12T12:07:39.915898Z",
     "shell.execute_reply.started": "2023-12-12T12:07:26.999108Z"
    },
    "papermill": {},
    "tags": []
   },
   "outputs": [],
   "source": [
    "from IPython.display import Markdown\n",
    "import naas\n",
    "import json"
   ]
  },
  {
   "cell_type": "markdown",
   "id": "05bac70f-ac74-492b-87c8-3a4d38082c62",
   "metadata": {
    "papermill": {},
    "tags": []
   },
   "source": [
    "### Setup variables\n",
    "**Mandatory**\n",
    "- `name`: The name of the plugin.\n",
    "- `prompt`: The prompt for the plugin.\n",
    "- `model`: The name of the model to be used for tokenization.\n",
    "\n",
    "**Optional**\n",
    "- `avatar`: Image URL to be displayed in the Naas Chat.\n",
    "- `output_path`: The path where the JSON file should be saved. If not provided, it will be created from the plugin name."
   ]
  },
  {
   "cell_type": "code",
   "execution_count": 2,
   "id": "37f017ff-2b9d-47fa-9a7d-57c32fbb4ad8",
   "metadata": {
    "execution": {
     "iopub.execute_input": "2023-12-12T12:07:39.921827Z",
     "iopub.status.busy": "2023-12-12T12:07:39.920688Z",
     "iopub.status.idle": "2023-12-12T12:07:39.933944Z",
     "shell.execute_reply": "2023-12-12T12:07:39.933327Z",
     "shell.execute_reply.started": "2023-12-12T12:07:39.921790Z"
    },
    "papermill": {},
    "tags": []
   },
   "outputs": [],
   "source": [
    "# Mandatory\n",
    "name = \"Llama 2-70b\"\n",
    "prompt = \"\"\"\n",
    "You are a virtual assistant designed to provide information and assistance to users about LLama 2-70b.\n",
    "Explain what are you good at, what are your technical characteristics in two sentences.\n",
    "\"\"\"\n",
    "model = \"meta.llama2-70b-chat-v1\"\n",
    "\n",
    "# Optional\n",
    "avatar = \"https://raw.githubusercontent.com/jupyter-naas/awesome-notebooks/master/.github/assets/logos/Meta.jpg\"\n",
    "output_path = name.lower().replace(\" \", \"_\") + \".json\""
   ]
  },
  {
   "cell_type": "markdown",
   "id": "c006bc49-8f8d-4828-ac53-4f896f03df8f",
   "metadata": {
    "papermill": {},
    "tags": []
   },
   "source": [
    "## Model"
   ]
  },
  {
   "cell_type": "markdown",
   "id": "3fe8e0cb-5457-4de7-8f68-acb4c56b87d6",
   "metadata": {
    "papermill": {},
    "tags": []
   },
   "source": [
    "### Create Naas Chat plugin\n",
    "This function will generate the plugin in JSON format and also verify if your prompt adheres to the recommended limit, which is set at 20% of the maximum tokens allowed by the model. Then, it will save your plugin in your local environment."
   ]
  },
  {
   "cell_type": "code",
   "execution_count": 3,
   "id": "97f9728d-a75a-4da5-92d0-ecf9f810e98e",
   "metadata": {
    "execution": {
     "iopub.execute_input": "2023-12-12T12:07:39.939206Z",
     "iopub.status.busy": "2023-12-12T12:07:39.937137Z",
     "iopub.status.idle": "2023-12-12T12:07:40.132723Z",
     "shell.execute_reply": "2023-12-12T12:07:40.132027Z",
     "shell.execute_reply.started": "2023-12-12T12:07:39.939173Z"
    },
    "papermill": {},
    "tags": []
   },
   "outputs": [],
   "source": [
    "# Create json\n",
    "plugin = {\n",
    "    \"name\": name,\n",
    "    \"model\": model,\n",
    "    \"prompt\": prompt,\n",
    "    \"avatar\": avatar,\n",
    "}\n",
    "\n",
    "# Save dict to JSON file\n",
    "with open(output_path, \"w\") as f:\n",
    "    json.dump(plugin, f)"
   ]
  },
  {
   "cell_type": "markdown",
   "id": "3a04c927-013a-4b4a-b598-9c4142620953",
   "metadata": {
    "papermill": {},
    "tags": []
   },
   "source": [
    "## Output"
   ]
  },
  {
   "cell_type": "markdown",
   "id": "a66b7e62-1b44-410b-b556-088e6c4139c5",
   "metadata": {
    "papermill": {},
    "tags": []
   },
   "source": [
    "### Display plugin\n",
    "The cell below is tagged as 'plugin'. This tag will allow us to use this pre-prompt on our Naas Chat. NB: The plugin must be printed."
   ]
  },
  {
   "cell_type": "code",
   "execution_count": 4,
   "id": "a2a5adf4-3a67-4847-87c2-92fd7034d227",
   "metadata": {
    "execution": {
     "iopub.execute_input": "2023-12-12T12:07:40.134763Z",
     "iopub.status.busy": "2023-12-12T12:07:40.134116Z",
     "iopub.status.idle": "2023-12-12T12:07:40.254703Z",
     "shell.execute_reply": "2023-12-12T12:07:40.254019Z",
     "shell.execute_reply.started": "2023-12-12T12:07:40.134729Z"
    },
    "papermill": {},
    "tags": [
     "plugin"
    ]
   },
   "outputs": [
    {
     "name": "stdout",
     "output_type": "stream",
     "text": [
      "{\"name\": \"Llama 2-70b\", \"model\": \"meta.llama2-70b-chat-v1\", \"prompt\": \"\\nYou are a virtual assistant designed to provide information and assistance to users about LLama 2-70b.\\nExplain what are you good at, what are your technical characteristics in two sentences.\\n\", \"avatar\": \"https://raw.githubusercontent.com/jupyter-naas/awesome-notebooks/master/.github/assets/logos/Meta.jpg\"}\n"
     ]
    }
   ],
   "source": [
    "print(json.dumps(plugin))"
   ]
  },
  {
   "cell_type": "markdown",
   "id": "4d8f3486-84f7-40ff-b57d-fb5b65709429",
   "metadata": {
    "papermill": {},
    "tags": []
   },
   "source": [
    "### Create asset\n",
    "This asset can be utilized by using the command `/use` in your Naas Chat or by simply clicking on the link provided in the cell below."
   ]
  },
  {
   "cell_type": "code",
   "execution_count": 5,
   "id": "02a88886-4430-447b-b202-523196e53fcb",
   "metadata": {
    "execution": {
     "iopub.execute_input": "2023-12-12T12:07:40.255772Z",
     "iopub.status.busy": "2023-12-12T12:07:40.255553Z",
     "iopub.status.idle": "2023-12-12T12:07:41.177731Z",
     "shell.execute_reply": "2023-12-12T12:07:41.177062Z",
     "shell.execute_reply.started": "2023-12-12T12:07:40.255744Z"
    },
    "papermill": {},
    "tags": []
   },
   "outputs": [
    {
     "name": "stdout",
     "output_type": "stream",
     "text": [
      "👌 Well done! Your Assets has been sent to production.\n",
      "\n"
     ]
    },
    {
     "data": {
      "application/javascript": [
       "\n",
       "    if (!window.copyToClipboard) {\n",
       "        window.copyToClipboard = (text) => {\n",
       "            const dummy = document.createElement(\"textarea\");\n",
       "            document.body.appendChild(dummy);\n",
       "            dummy.value = text;\n",
       "            dummy.select();\n",
       "            document.execCommand(\"copy\");\n",
       "            document.body.removeChild(dummy);\n",
       "        }\n",
       "    }\n",
       "    "
      ],
      "text/plain": [
       "<IPython.core.display.Javascript object>"
      ]
     },
     "metadata": {},
     "output_type": "display_data"
    },
    {
     "data": {
      "application/vnd.jupyter.widget-view+json": {
       "model_id": "44401f8d51be48feab2f763b94929dba",
       "version_major": 2,
       "version_minor": 0
      },
      "text/plain": [
       "Button(button_style='primary', description='Copy URL', style=ButtonStyle())"
      ]
     },
     "metadata": {},
     "output_type": "display_data"
    },
    {
     "data": {
      "application/vnd.jupyter.widget-view+json": {
       "model_id": "6647775d5f864941a072fb2b9227befd",
       "version_major": 2,
       "version_minor": 0
      },
      "text/plain": [
       "Output()"
      ]
     },
     "metadata": {},
     "output_type": "display_data"
    },
    {
     "name": "stdout",
     "output_type": "stream",
     "text": [
      "PS: to remove the \"Assets\" feature, just replace .add by .delete\n"
     ]
    }
   ],
   "source": [
    "plugin_url = naas.asset.add(output_path, params={\"inline\": True})"
   ]
  },
  {
   "cell_type": "markdown",
   "id": "89602d32-cb0e-45f0-b562-ccd65382d76f",
   "metadata": {
    "papermill": {},
    "tags": []
   },
   "source": [
    "### Create new chat\n",
    "You don't need to click on 'Create New Chat' everytime you update your system prompt, you can use the command `/refresh`."
   ]
  },
  {
   "cell_type": "code",
   "execution_count": 6,
   "id": "d045fd88-ae46-4cb1-9d10-a5e2b52e6b79",
   "metadata": {
    "execution": {
     "iopub.execute_input": "2023-12-12T12:07:41.179205Z",
     "iopub.status.busy": "2023-12-12T12:07:41.178856Z",
     "iopub.status.idle": "2023-12-12T12:07:41.183722Z",
     "shell.execute_reply": "2023-12-12T12:07:41.183056Z",
     "shell.execute_reply.started": "2023-12-12T12:07:41.179172Z"
    },
    "papermill": {},
    "tags": []
   },
   "outputs": [
    {
     "data": {
      "text/markdown": [
       "[Create New Chat](https://naas.ai/chat/use?plugin_url=https://public.naas.ai/ZmxvcmVudC00MG5hYXMtMkVhaQ==/asset/e8b50372cf6f4d52608e4545dad61a1a053e69c0e303aa8e9b70b1ed359f)"
      ],
      "text/plain": [
       "<IPython.core.display.Markdown object>"
      ]
     },
     "execution_count": 6,
     "metadata": {},
     "output_type": "execute_result"
    }
   ],
   "source": [
    "Markdown(f\"[Create New Chat](https://naas.ai/chat/use?plugin_url={plugin_url})\")"
   ]
  },
  {
   "cell_type": "code",
   "execution_count": null,
   "id": "09ca7948-f763-4946-9715-dc3fbc050595",
   "metadata": {
    "papermill": {},
    "tags": []
   },
   "outputs": [],
   "source": []
  }
 ],
 "metadata": {
  "kernelspec": {
   "display_name": "Python 3",
   "language": "python",
   "name": "python3"
  },
  "language_info": {
   "codemirror_mode": {
    "name": "ipython",
    "version": 3
   },
   "file_extension": ".py",
   "mimetype": "text/x-python",
   "name": "python",
   "nbconvert_exporter": "python",
   "pygments_lexer": "ipython3",
   "version": "3.9.6"
  },
  "naas": {
   "notebook_id": "6d3baea4a70b9a1855c4022260f291d783b39d8d50deb034d91d65c1c04881b8",
   "notebook_path": "Meta/Meta_Chat_with_Llama2.ipynb"
  },
  "papermill": {
   "default_parameters": {},
   "environment_variables": {},
   "parameters": {},
   "version": "2.5.0"
  },
  "widgets": {
   "application/vnd.jupyter.widget-state+json": {
    "state": {},
    "version_major": 2,
    "version_minor": 0
   }
  }
 },
 "nbformat": 4,
 "nbformat_minor": 5
}
