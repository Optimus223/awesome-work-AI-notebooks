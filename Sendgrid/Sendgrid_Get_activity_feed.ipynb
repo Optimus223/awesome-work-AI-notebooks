{
 "cells": [
  {
   "cell_type": "markdown",
   "id": "85db721e-2267-40ca-ac5b-00c08ec10ff0",
   "metadata": {},
   "source": [
    "<img width=\"10%\" alt=\"Naas\" src=\"https://landen.imgix.net/jtci2pxwjczr/assets/5ice39g4.png?w=160\"/>"
   ]
  },
  {
   "cell_type": "markdown",
   "id": "2ba2f665-d276-4881-81f8-c9524f75796b",
   "metadata": {},
   "source": [
    "# Sendgrid - Get activity feed"
   ]
  },
  {
   "cell_type": "markdown",
   "id": "b55448ec-bd35-4884-b72f-a06a3f12c914",
   "metadata": {},
   "source": [
    "This notebook enables you to get a dataframe of all the activities performed\n",
    "\n",
    "**Tags:** #sendgrid #activity"
   ]
  },
  {
   "cell_type": "markdown",
   "id": "b025116f-fd57-40ae-81db-99d9dbc30445",
   "metadata": {},
   "source": [
    "**Author:** [Sanjeet Attili](https://linkedin.com/in/sanjeet-attili-760bab190/)"
   ]
  },
  {
   "cell_type": "markdown",
   "id": "ec2132f6-bf89-4236-8ac7-0c207f8f03b1",
   "metadata": {},
   "source": [
    "## Input"
   ]
  },
  {
   "cell_type": "markdown",
   "id": "81f26c9b-0c3c-4cf8-ad50-dc67e6329ba1",
   "metadata": {},
   "source": [
    "### Imports"
   ]
  },
  {
   "cell_type": "code",
   "execution_count": 1,
   "id": "26c428b4-66f4-48a4-82db-ff24cdec1782",
   "metadata": {
    "execution": {
     "iopub.execute_input": "2022-02-23T17:37:39.893184Z",
     "iopub.status.busy": "2022-02-23T17:37:39.892914Z",
     "iopub.status.idle": "2022-02-23T17:37:40.307014Z",
     "shell.execute_reply": "2022-02-23T17:37:40.306388Z",
     "shell.execute_reply.started": "2022-02-23T17:37:39.893112Z"
    },
    "tags": []
   },
   "outputs": [],
   "source": [
    "import pandas as pd\n",
    "import requests\n",
    "from sendgrid import SendGridAPIClient\n",
    "from sendgrid.helpers.mail import *"
   ]
  },
  {
   "cell_type": "markdown",
   "id": "392e708f-7c32-45d7-8937-382c9651fc0f",
   "metadata": {},
   "source": [
    "### Variables"
   ]
  },
  {
   "cell_type": "code",
   "execution_count": 2,
   "id": "2de7b1bc-5ec9-4fa7-b89f-3f72f1b9a5e0",
   "metadata": {
    "execution": {
     "iopub.execute_input": "2022-02-23T17:37:41.759913Z",
     "iopub.status.busy": "2022-02-23T17:37:41.759682Z",
     "iopub.status.idle": "2022-02-23T17:37:41.762612Z",
     "shell.execute_reply": "2022-02-23T17:37:41.761935Z",
     "shell.execute_reply.started": "2022-02-23T17:37:41.759890Z"
    },
    "tags": []
   },
   "outputs": [],
   "source": [
    "api_url = \"https://api.sendgrid.com/v3/messages\"\n",
    "sendgrid_token = \"SG.l6ZmXXXXXXXXXxxxXXX.b0XXXXXXXXXXXXXXXXXxxxxx\""
   ]
  },
  {
   "cell_type": "markdown",
   "id": "a180347f-a2e1-44b2-bce0-775c7ac63b04",
   "metadata": {},
   "source": [
    "## Model"
   ]
  },
  {
   "cell_type": "markdown",
   "id": "bd3d2b4a-8946-4a45-882b-caf6c843d15c",
   "metadata": {},
   "source": [
    "### Sending mails via sendgrid"
   ]
  },
  {
   "cell_type": "code",
   "execution_count": 3,
   "id": "6b6790a3-81ae-454d-b036-20e9f735c4e5",
   "metadata": {
    "execution": {
     "iopub.execute_input": "2022-02-23T17:37:43.275448Z",
     "iopub.status.busy": "2022-02-23T17:37:43.275222Z",
     "iopub.status.idle": "2022-02-23T17:37:43.281237Z",
     "shell.execute_reply": "2022-02-23T17:37:43.280691Z",
     "shell.execute_reply.started": "2022-02-23T17:37:43.275424Z"
    },
    "tags": []
   },
   "outputs": [],
   "source": [
    "sg = SendGridAPIClient(api_key=sendgrid_token)\n",
    "\n",
    "from_email = Email(\"abc@gmail.com\", name = \"abc\")\n",
    "to_email = To(\"xyz@iiitnr.edu.in\", name = \"xyz\")\n",
    "cc_email = Cc(email = [\"alpha@story.com\", \"beta@story.com\"])\n",
    "\n",
    "subject = \"Sending with SendGrid is Fun\"\n",
    "content = Content(\"text/plain\", \"Hey there this is my second conversation with you via sendgrid!\")\n",
    "\n",
    "mail = Mail(from_email, to_email, subject, content)\n",
    "mail.add_cc(cc_email)"
   ]
  },
  {
   "cell_type": "markdown",
   "id": "61983024-d97c-46d5-b27c-b7d5c7af5869",
   "metadata": {},
   "source": [
    "### Filtering by mail for required stats (Error block)"
   ]
  },
  {
   "cell_type": "code",
   "execution_count": 5,
   "id": "37b21763-5432-4dda-bbe9-ffe8c960401a",
   "metadata": {
    "execution": {
     "iopub.execute_input": "2022-02-23T17:38:12.152992Z",
     "iopub.status.busy": "2022-02-23T17:38:12.152766Z",
     "iopub.status.idle": "2022-02-23T17:38:12.603890Z",
     "shell.execute_reply": "2022-02-23T17:38:12.603228Z",
     "shell.execute_reply.started": "2022-02-23T17:38:12.152969Z"
    },
    "tags": []
   },
   "outputs": [
    {
     "name": "stdout",
     "output_type": "stream",
     "text": [
      "{'errors': [{'message': 'authorization required'}]}\n"
     ]
    }
   ],
   "source": [
    "sg = SendGridAPIClient(api_key = sendgrid_token)\n",
    "\n",
    "## encoded query as per the format ##\n",
    "# Visit this link for more details -> https://docs.sendgrid.com/api-reference/e-mail-activity/filter-all-messages\n",
    "\n",
    "params = {'query': \"from_email%3D%22attili.sanjeet10%40gmail.com%22\", 'limit': 10}\n",
    "\n",
    "from python_http_client.exceptions import HTTPError\n",
    "\n",
    "try:\n",
    "    response = sg.client.messages.get(\n",
    "        query_params=params\n",
    "    )\n",
    "except HTTPError as e:\n",
    "    print(e.to_dict)"
   ]
  },
  {
   "cell_type": "markdown",
   "id": "6109e162-ea7e-4db3-bb71-41c5e1403ea1",
   "metadata": {},
   "source": [
    "## Output"
   ]
  },
  {
   "cell_type": "markdown",
   "id": "b54a2952-c67e-418b-b491-40162fb75477",
   "metadata": {},
   "source": [
    "### Send the mail"
   ]
  },
  {
   "cell_type": "code",
   "execution_count": 6,
   "id": "0ecdcb09-5d89-41dc-bf94-dfd4288644ef",
   "metadata": {
    "execution": {
     "iopub.execute_input": "2022-02-23T17:38:34.710180Z",
     "iopub.status.busy": "2022-02-23T17:38:34.709933Z",
     "iopub.status.idle": "2022-02-23T17:38:35.438771Z",
     "shell.execute_reply": "2022-02-23T17:38:35.438191Z",
     "shell.execute_reply.started": "2022-02-23T17:38:34.710149Z"
    },
    "tags": []
   },
   "outputs": [
    {
     "name": "stdout",
     "output_type": "stream",
     "text": [
      "202\n",
      "b''\n",
      "Server: nginx\n",
      "Date: Wed, 23 Feb 2022 17:38:35 GMT\n",
      "Content-Length: 0\n",
      "Connection: close\n",
      "X-Message-Id: Q4ClLhjaQSmQd29z0SA14Q\n",
      "Access-Control-Allow-Origin: https://sendgrid.api-docs.io\n",
      "Access-Control-Allow-Methods: POST\n",
      "Access-Control-Allow-Headers: Authorization, Content-Type, On-behalf-of, x-sg-elas-acl\n",
      "Access-Control-Max-Age: 600\n",
      "X-No-CORS-Reason: https://sendgrid.com/docs/Classroom/Basics/API/cors.html\n",
      "Strict-Transport-Security: max-age=600; includeSubDomains\n",
      "\n",
      "\n"
     ]
    }
   ],
   "source": [
    "response = sg.client.mail.send.post(request_body=mail.get())\n",
    "\n",
    "## if status code is 202, congrats! the mail has been sent successfully ##\n",
    "\n",
    "print(response.status_code)\n",
    "print(response.body)\n",
    "print(response.headers)"
   ]
  }
 ],
 "metadata": {
  "kernelspec": {
   "display_name": "Python 3",
   "language": "python",
   "name": "python3"
  },
  "language_info": {
   "codemirror_mode": {
    "name": "ipython",
    "version": 3
   },
   "file_extension": ".py",
   "mimetype": "text/x-python",
   "name": "python",
   "nbconvert_exporter": "python",
   "pygments_lexer": "ipython3",
   "version": "3.8.8"
  }
 },
 "nbformat": 4,
 "nbformat_minor": 5
}
