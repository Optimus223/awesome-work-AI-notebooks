{
 "cells": [
  {
   "cell_type": "markdown",
   "id": "d96e2193-10fd-4527-9bce-3d26318161f6",
   "metadata": {
    "execution": {
     "iopub.execute_input": "2022-11-23T08:17:33.935072Z",
     "iopub.status.busy": "2022-11-23T08:17:33.934810Z",
     "iopub.status.idle": "2022-11-23T08:17:33.951060Z",
     "shell.execute_reply": "2022-11-23T08:17:33.950142Z",
     "shell.execute_reply.started": "2022-11-23T08:17:33.935009Z"
    },
    "tags": []
   },
   "source": [
    "<img width=\"10%\" alt=\"Naas\" src=\"https://landen.imgix.net/jtci2pxwjczr/assets/5ice39g4.png?w=160\"/>"
   ]
  },
  {
   "cell_type": "markdown",
   "id": "78d911b9-d102-4ba3-ae8f-e45be2200113",
   "metadata": {
    "execution": {
     "iopub.execute_input": "2022-11-23T08:23:40.429667Z",
     "iopub.status.busy": "2022-11-23T08:23:40.429431Z",
     "iopub.status.idle": "2022-11-23T08:23:40.432498Z",
     "shell.execute_reply": "2022-11-23T08:23:40.431872Z",
     "shell.execute_reply.started": "2022-11-23T08:23:40.429645Z"
    },
    "tags": []
   },
   "source": [
    "# Azure Blob Storage - Upload file\n",
    "<a href=\"https://app.naas.ai/user-redirect/naas/downloader?url=https://raw.githubusercontent.com/jupyter-naas/awesome-notebooks/master/Naas/Naas_Get_Transactions.ipynb\" target=\"_parent\"><img src=\"https://naasai-public.s3.eu-west-3.amazonaws.com/open_in_naas.svg\"/></a><br><br><a href=\"https://github.com/jupyter-naas/awesome-notebooks/issues/new?assignees=&labels=&template=template-request.md&title=Tool+-+Action+of+the+notebook+\">Template request</a> | <a href=\"https://github.com/jupyter-naas/awesome-notebooks/issues/new?assignees=&labels=bug&template=bug_report.md&title=Naas+-+Get+Transactions:+Error+short+description\">Bug report</a>"
   ]
  },
  {
   "cell_type": "markdown",
   "id": "6d31b685-0742-4f72-b20f-af3b42e37ec4",
   "metadata": {},
   "source": [
    "**Tags:** #naas #azure #datalake"
   ]
  },
  {
   "cell_type": "markdown",
   "id": "aa9e8991-7294-4c7e-bf8d-db01e5cbc8f9",
   "metadata": {
    "execution": {
     "iopub.execute_input": "2022-11-23T08:25:09.278021Z",
     "iopub.status.busy": "2022-11-23T08:25:09.277728Z",
     "iopub.status.idle": "2022-11-23T08:25:09.289147Z",
     "shell.execute_reply": "2022-11-23T08:25:09.288254Z",
     "shell.execute_reply.started": "2022-11-23T08:25:09.277990Z"
    },
    "tags": []
   },
   "source": [
    "**Author:** [Alexandre Stevens](https://www.linkedin.com/in/) <br>"
   ]
  },
  {
   "cell_type": "markdown",
   "id": "dc12601c-5b05-4cd0-bcb9-30e53442ed58",
   "metadata": {},
   "source": [
    "**Description:** In order to update a file into Azure blob storage in Python, you will need to use the Azure Storage SDK for Python. <br> The following code snippet can be used to update a file into blob storage."
   ]
  },
  {
   "cell_type": "markdown",
   "id": "333f7e67-7132-45fb-9649-6703f584c61c",
   "metadata": {},
   "source": [
    "# Input"
   ]
  },
  {
   "cell_type": "markdown",
   "id": "9d9be028-bc21-40cc-a4ab-7d6a92092624",
   "metadata": {
    "tags": []
   },
   "source": [
    "## Import libraries"
   ]
  },
  {
   "cell_type": "code",
   "execution_count": 2,
   "id": "f30cd1fc-f04e-4a97-89ff-4b3bec8da13b",
   "metadata": {
    "execution": {
     "iopub.execute_input": "2023-01-31T18:15:20.520953Z",
     "iopub.status.busy": "2023-01-31T18:15:20.520632Z",
     "iopub.status.idle": "2023-01-31T18:15:21.312522Z",
     "shell.execute_reply": "2023-01-31T18:15:21.311815Z",
     "shell.execute_reply.started": "2023-01-31T18:15:20.520911Z"
    },
    "tags": []
   },
   "outputs": [],
   "source": [
    "try:\n",
    "    from azure.storage.blob import BlobServiceClient\n",
    "    from azure.storage.blob import ContentSettings\n",
    "except ImportError:\n",
    "    !pip install azure-storage-blob --user\n",
    "    !pip install azure-keyvault-secrets --user\n",
    "    !pip install azure-mgmt-resource --user\n",
    "    !pip install azure-mgmt-storage --user\n",
    "    !pip install azure-mgmt-compute --user\n",
    "    from azure.storage.blob import BlobServiceClient\n",
    "    from azure.storage.blob import ContentSettings"
   ]
  },
  {
   "cell_type": "markdown",
   "id": "31d30fe2-51cc-4a91-a0bc-d56541fe6172",
   "metadata": {
    "execution": {
     "iopub.execute_input": "2023-01-31T08:05:20.898916Z",
     "iopub.status.busy": "2023-01-31T08:05:20.898696Z",
     "iopub.status.idle": "2023-01-31T08:05:20.901756Z",
     "shell.execute_reply": "2023-01-31T08:05:20.901118Z",
     "shell.execute_reply.started": "2023-01-31T08:05:20.898890Z"
    },
    "tags": []
   },
   "source": [
    "## Variables\n"
   ]
  },
  {
   "cell_type": "markdown",
   "id": "87f90fab-d165-4877-b055-eb06f4c35807",
   "metadata": {},
   "source": [
    "ACCOUNT_URL = Your account url in azure blob storage, example: 'https://yourproject.blob.core.windows.net' <br>\n",
    "KEY_ACCOUNT = This is credentials, for get access key you can follow link -> https://learn.microsoft.com/en-us/azure/storage/common/storage-account-keys-manage?tabs=azure-portal <br>\n",
    "CONTAINER_NAME = container name in your azure project where files will be store <br>\n",
    "LOCAL_FILE_NAME = This is upload file name in your azure container <br>\n",
    "UPLOAD_FILE_PATH = This is file path on your local machine <br>"
   ]
  },
  {
   "cell_type": "code",
   "execution_count": 3,
   "id": "62884a1f-bfd7-41e0-b351-f23a61d58481",
   "metadata": {
    "execution": {
     "iopub.execute_input": "2023-01-31T18:29:43.605739Z",
     "iopub.status.busy": "2023-01-31T18:29:43.605486Z",
     "iopub.status.idle": "2023-01-31T18:29:43.614010Z",
     "shell.execute_reply": "2023-01-31T18:29:43.611005Z",
     "shell.execute_reply.started": "2023-01-31T18:29:43.605709Z"
    },
    "tags": []
   },
   "outputs": [],
   "source": [
    "ACCOUNT_URL = 'https://yourproject.blob.core.windows.net'\n",
    "KEY_ACCOUNT = '########'\n",
    "CONTAINER_NAME = 'container_name'\n",
    "LOCAL_FILE_NAME = 'file_name.csv'\n",
    "UPLOAD_FILE_PATH = '../outputs/filename.csv'"
   ]
  },
  {
   "cell_type": "markdown",
   "id": "624f424f-b627-479e-9efa-95edb72d9bfe",
   "metadata": {},
   "source": [
    "# Model"
   ]
  },
  {
   "cell_type": "markdown",
   "id": "6e510b06-4049-4db3-a4e0-8d6775f02f62",
   "metadata": {
    "execution": {
     "iopub.execute_input": "2023-01-31T08:08:19.141522Z",
     "iopub.status.busy": "2023-01-31T08:08:19.141302Z",
     "iopub.status.idle": "2023-01-31T08:08:19.145263Z",
     "shell.execute_reply": "2023-01-31T08:08:19.144731Z",
     "shell.execute_reply.started": "2023-01-31T08:08:19.141499Z"
    },
    "tags": []
   },
   "source": [
    "## Function"
   ]
  },
  {
   "cell_type": "code",
   "execution_count": 29,
   "id": "cc2ab7c6-3493-4ac2-8b1d-07657a4f418e",
   "metadata": {
    "execution": {
     "iopub.execute_input": "2023-01-27T10:41:33.729849Z",
     "iopub.status.busy": "2023-01-27T10:41:33.729620Z",
     "iopub.status.idle": "2023-01-27T10:41:33.781483Z",
     "shell.execute_reply": "2023-01-27T10:41:33.780923Z",
     "shell.execute_reply.started": "2023-01-27T10:41:33.729826Z"
    },
    "tags": []
   },
   "outputs": [],
   "source": [
    "# Connexsion\n",
    "blob_service_client = BlobServiceClient(account_url=ACCOUNT_URL, credential=KEY_ACCOUNT)\n",
    "blob_client = blob_service_client.get_blob_client(container=CONTAINER_NAME, blob=LOCAL_FILE_NAME)"
   ]
  },
  {
   "cell_type": "markdown",
   "id": "a7680113-8a79-49bf-b3b4-55d80f859d7a",
   "metadata": {},
   "source": [
    "# Output"
   ]
  },
  {
   "cell_type": "markdown",
   "id": "000352dc-70a1-475b-a756-973dd74327eb",
   "metadata": {},
   "source": [
    "## Upload to Azure Blob Storage"
   ]
  },
  {
   "cell_type": "code",
   "execution_count": null,
   "id": "fb2b510b-2acb-48f3-9e26-e1e656732bf1",
   "metadata": {
    "execution": {
     "iopub.status.busy": "2023-01-27T10:06:43.486479Z",
     "iopub.status.idle": "2023-01-27T10:06:43.488255Z",
     "shell.execute_reply": "2023-01-27T10:06:43.488072Z"
    },
    "tags": []
   },
   "outputs": [],
   "source": [
    "with open(file=UPLOAD_FILE_PATH, mode=\"rb\") as data:\n",
    "    blob_client.upload_blob(data, overwrite=True)"
   ]
  }
 ],
 "metadata": {
  "kernelspec": {
   "display_name": "Python 3",
   "language": "python",
   "name": "python3"
  },
  "language_info": {
   "codemirror_mode": {
    "name": "ipython",
    "version": 3
   },
   "file_extension": ".py",
   "mimetype": "text/x-python",
   "name": "python",
   "nbconvert_exporter": "python",
   "pygments_lexer": "ipython3",
   "version": "3.9.6"
  }
 },
 "nbformat": 4,
 "nbformat_minor": 5
}
