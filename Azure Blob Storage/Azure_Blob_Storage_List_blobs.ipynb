{
 "cells": [
  {
   "cell_type": "markdown",
   "id": "d27bde12-da27-4031-92c1-b77dc0fa8ed6",
   "metadata": {
    "papermill": {},
    "tags": []
   },
   "source": [
    "<img width=\"10%\" alt=\"Naas\" src=\"https://landen.imgix.net/jtci2pxwjczr/assets/5ice39g4.png?w=160\"/>"
   ]
  },
  {
   "cell_type": "markdown",
   "id": "a5c528f7-ea73-4965-9e6d-a9b8a76c2ffd",
   "metadata": {
    "papermill": {},
    "tags": []
   },
   "source": [
    "# Azure Blob Storage - List blobs"
   ]
  },
  {
   "cell_type": "markdown",
   "id": "15425986-f2c4-4aec-b99d-c8cb0d3ab08e",
   "metadata": {
    "papermill": {},
    "tags": []
   },
   "source": [
    "**Tags:** #azure #blob #storage #list #blobs"
   ]
  },
  {
   "cell_type": "markdown",
   "id": "d97f7c3f-e696-4874-be16-be9a121e86df",
   "metadata": {
    "papermill": {},
    "tags": []
   },
   "source": [
    "**Author:** [Alexandre Stevens](https://www.linkedin.com/in/alexandrestevenspbix/)"
   ]
  },
  {
   "cell_type": "markdown",
   "id": "2f56120f-9d02-4ba3-82fb-22b8a580e4d0",
   "metadata": {
    "papermill": {},
    "tags": []
   },
   "source": [
    "**Description:** This notebook will demonstrate how to use the List Blobs operation to return a list of the blobs under the specified container. This is usefull for organizations that need to store and access large amounts of data."
   ]
  },
  {
   "cell_type": "markdown",
   "id": "30079c13-e2c6-46b3-84cf-9da276e83e3d",
   "metadata": {
    "papermill": {},
    "tags": []
   },
   "source": [
    "**References:**\n- [Azure Blob Storage - List blobs](https://learn.microsoft.com/en-us/rest/api/storageservices/list-blobs?tabs=azure-ad)\n- [Azure Storage Documentation](https://docs.microsoft.com/en-us/azure/storage/)"
   ]
  },
  {
   "cell_type": "markdown",
   "id": "94713339-b944-4f3f-9d30-dbcb3268bc7a",
   "metadata": {
    "papermill": {},
    "tags": []
   },
   "source": [
    "## Input"
   ]
  },
  {
   "cell_type": "markdown",
   "id": "6a65bdd7-c07a-4b6f-96f8-0d4930227206",
   "metadata": {
    "papermill": {},
    "tags": []
   },
   "source": [
    "### Import libraries"
   ]
  },
  {
   "cell_type": "code",
   "execution_count": null,
   "id": "08edcd42-54f8-41b3-b821-3596cbbda11b",
   "metadata": {
    "papermill": {},
    "tags": []
   },
   "source": "import azure.storage.blob",
   "outputs": []
  },
  {
   "cell_type": "markdown",
   "id": "610d8bc1-f93e-41e2-b605-6492a48de86d",
   "metadata": {
    "papermill": {},
    "tags": []
   },
   "source": [
    "### Setup Variables\n- **account_name**: The name of the storage account.\n- **account_key**: The access key for the storage account."
   ]
  },
  {
   "cell_type": "code",
   "execution_count": null,
   "id": "c11f6141-ed39-4fc2-ae6e-1f05b6a38efb",
   "metadata": {
    "papermill": {},
    "tags": []
   },
   "source": "account_name = \"\"\naccount_key = \"\"",
   "outputs": []
  },
  {
   "cell_type": "markdown",
   "id": "efeeacd8-3894-45f6-a270-5fbdd6d44cf2",
   "metadata": {
    "papermill": {},
    "tags": []
   },
   "source": [
    "## Model"
   ]
  },
  {
   "cell_type": "markdown",
   "id": "d61ee96e-ec64-479e-a31e-7a7ad582f14c",
   "metadata": {
    "papermill": {},
    "tags": []
   },
   "source": [
    "### List Blobs"
   ]
  },
  {
   "cell_type": "markdown",
   "id": "c440f469-fdbb-4362-b8f4-efcdfb5eaf76",
   "metadata": {
    "papermill": {},
    "tags": []
   },
   "source": [
    "Long description of the function: The List Blobs operation returns a list of the blobs under the specified container. The list includes metadata for each blob, such as the last modified time, the size of the blob, the content type, and the blob type."
   ]
  },
  {
   "cell_type": "code",
   "execution_count": null,
   "id": "aaa40df7-121f-49fd-9b31-a0db84e063cc",
   "metadata": {
    "papermill": {},
    "tags": []
   },
   "source": "# Create the BlobServiceClient object which will be used to create a container client\nblob_service_client = azure.storage.blob.BlobServiceClient(\n    account_url=\"https://{}.blob.core.windows.net\".format(account_name),\n    credential=account_key,\n)\n# Create a container client\ncontainer_client = blob_service_client.get_container_client(\"mycontainer\")\n# List the blobs in the container\nblob_list = container_client.list_blobs()\nfor blob in blob_list:\n    print(\"\\t Blob name: \" + blob.name)",
   "outputs": []
  },
  {
   "cell_type": "markdown",
   "id": "9c7d662c-39d7-404b-a160-8f9f1e04ac1e",
   "metadata": {
    "papermill": {},
    "tags": []
   },
   "source": [
    "## Output"
   ]
  },
  {
   "cell_type": "markdown",
   "id": "5b99e5f6-7135-4635-b383-ac0cd7fa43e1",
   "metadata": {
    "papermill": {},
    "tags": []
   },
   "source": [
    "### Display result"
   ]
  },
  {
   "cell_type": "code",
   "execution_count": null,
   "id": "e05e5a40-c24e-4e7b-a608-7e94a05277ee",
   "metadata": {
    "papermill": {},
    "tags": []
   },
   "source": "# Print the blobs\nfor blob in blob_list:\n    print(\"\\t Blob name: \" + blob.name)",
   "outputs": []
  },
  {
   "cell_type": "markdown",
   "id": "6664356d-a79d-4a4d-80d6-424b51380a30",
   "metadata": {
    "papermill": {},
    "tags": []
   },
   "source": [
    " "
   ]
  }
 ],
 "metadata": {
  "kernelspec": {
   "display_name": "Python 3",
   "language": "python",
   "name": "python3"
  },
  "language_info": {
   "codemirror_mode": {
    "name": "ipython",
    "version": 3
   },
   "file_extension": ".py",
   "mimetype": "text/x-python",
   "name": "python",
   "nbconvert_exporter": "python",
   "pygments_lexer": "ipython3",
   "version": "3.9.6"
  },
  "widgets": {
   "application/vnd.jupyter.widget-state+json": {
    "state": {},
    "version_major": 2,
    "version_minor": 0
   }
  }
 },
 "nbformat": 4,
 "nbformat_minor": 5
}