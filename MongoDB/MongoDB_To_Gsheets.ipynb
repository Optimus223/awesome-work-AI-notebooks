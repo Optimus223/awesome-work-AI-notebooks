{
 "cells": [
  {
   "cell_type": "markdown",
   "id": "3f029d8c-0457-4c17-bed6-1de94c07c4fb",
   "metadata": {},
   "source": [
    "# MongoDB - MongoDB To Google Sheets "
   ]
  },
  {
   "cell_type": "markdown",
   "id": "97087067-c5b5-4593-b254-c27bfbf5125d",
   "metadata": {},
   "source": [
    "This notebook will help you send data from your MongoDB database collection to your spreadsheet"
   ]
  },
  {
   "cell_type": "markdown",
   "id": "0b31190c-5783-4001-b0fb-38693a31e5b2",
   "metadata": {},
   "source": [
    "**Author:** [Oketunji Oludolapo](https://www.linkedin.com/in/oludolapo-oketunji/)"
   ]
  },
  {
   "cell_type": "markdown",
   "id": "3ae5c59a-7367-4f9b-b0e5-340fb5cbb7de",
   "metadata": {},
   "source": [
    "**Tags:** #mongodb #googlesheets #nosql\n"
   ]
  },
  {
   "cell_type": "code",
   "execution_count": null,
   "id": "13bf7d5e-cd89-47c0-a28c-e045f5f4326b",
   "metadata": {
    "tags": []
   },
   "outputs": [],
   "source": [
    "import naas_drivers\n",
    "import pandas as pd\n",
    "import naas"
   ]
  },
  {
   "cell_type": "markdown",
   "id": "d6517442-cd9c-4a0d-9bc6-3d5964bee6f9",
   "metadata": {},
   "source": [
    "## Model"
   ]
  },
  {
   "cell_type": "markdown",
   "id": "2a14c4d4-96bd-4926-bcaf-2f9a697f41b6",
   "metadata": {},
   "source": [
    "Pre-requisite 1: share your Google Sheet with our service account\n",
    "For the driver to fetch the contents of your google sheet, you need to share it with the service account linked with Naas.\n",
    "\n",
    "🔗 naas-share@naas-gsheets.iam.gserviceaccount.com\n",
    "\n",
    "Pre-requisite 2: Get your user, password and connection URL details from your MongoDB Atlas Cluster"
   ]
  },
  {
   "cell_type": "code",
   "execution_count": null,
   "id": "1412b426-334c-4fff-b9a3-b960f04f73c9",
   "metadata": {
    "tags": []
   },
   "outputs": [],
   "source": [
    "user = \"your user\"\n",
    "passwd = \"your password\"\n",
    "host = \"Your Connection URL\"\n",
    "port = 9090\n",
    "\n",
    "connector = naas_drivers.mongo.connect(host, port, user, passwd)"
   ]
  },
  {
   "cell_type": "code",
   "execution_count": null,
   "id": "d353dcdc-1759-4126-818a-db4687f12875",
   "metadata": {
    "tags": []
   },
   "outputs": [],
   "source": [
    "collection_name = \"COLLECTION NAME\"\n",
    "db_name = \"DATABASE NAME\"\n",
    "mongo_data=naas_drivers.mongo.get(collection_name, db_name)"
   ]
  },
  {
   "cell_type": "code",
   "execution_count": null,
   "id": "b1e871f0-cfd5-47bd-9eee-37fcf43d1861",
   "metadata": {
    "tags": []
   },
   "outputs": [],
   "source": [
    "data=mongo_data.to_dict()\n",
    "df=pd.DataFrame(data)"
   ]
  },
  {
   "cell_type": "markdown",
   "id": "f796f1ea-9acf-4765-9007-2ecf21fe6c14",
   "metadata": {},
   "source": [
    "## OUTPUT"
   ]
  },
  {
   "cell_type": "code",
   "execution_count": null,
   "id": "8efce808-0f3f-4a9f-baf7-f093c7be1fdf",
   "metadata": {
    "tags": []
   },
   "outputs": [],
   "source": [
    "spreadsheet_id = \"------\"\n",
    "naas_drivers.gsheet.connect(spreadsheet_id).send(\n",
    "    sheet_name=\"Sheet1\",\n",
    "    data=df\n",
    ")"
   ]
  },
  {
   "cell_type": "code",
   "execution_count": null,
   "id": "b0b79dd0-f901-46a0-8c2d-4689f5afa4a1",
   "metadata": {},
   "outputs": [],
   "source": [
    "# Run this tab if you want to automate this notebook\n",
    "\n",
    "#naas.scheduler.add(cron='0 9 * * *') #Send in production this notebook and run it, every day at 9:00.\n",
    "\n",
    "#naas.scheduler.delete() # use this to delete your automation"
   ]
  }
 ],
 "metadata": {
  "kernelspec": {
   "display_name": "Python 3",
   "language": "python",
   "name": "python3"
  },
  "language_info": {
   "codemirror_mode": {
    "name": "ipython",
    "version": 3
   },
   "file_extension": ".py",
   "mimetype": "text/x-python",
   "name": "python",
   "nbconvert_exporter": "python",
   "pygments_lexer": "ipython3",
   "version": "3.9.6"
  }
 },
 "nbformat": 4,
 "nbformat_minor": 5
}
