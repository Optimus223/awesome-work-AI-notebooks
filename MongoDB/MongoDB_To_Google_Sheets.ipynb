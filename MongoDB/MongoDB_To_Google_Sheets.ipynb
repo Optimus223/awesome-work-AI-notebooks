{
 "cells": [
  {
   "cell_type": "markdown",
   "id": "1b04676a-89bd-4299-b6eb-9b1953aa5019",
   "metadata": {},
   "source": [
    "<img width=\"10%\" alt=\"Naas\" src=\"https://landen.imgix.net/jtci2pxwjczr/assets/5ice39g4.png?w=160\"/>"
   ]
  },
  {
   "cell_type": "markdown",
   "id": "3f029d8c-0457-4c17-bed6-1de94c07c4fb",
   "metadata": {},
   "source": [
    "# MongoDB - MongoDB To Google Sheets \n",
    "<a href=\"https://app.naas.ai/user-redirect/naas/downloader?url=https://raw.githubusercontent.com/jupyter-naas/awesome-notebooks/master/MongoDB/MongoDB_Send_data.ipynb\" target=\"_parent\"><img src=\"https://img.shields.io/badge/-Open%20in%20Naas-success?labelColor=000000&logo=data:image/svg+xml;base64,PD94bWwgdmVyc2lvbj0iMS4wIiBlbmNvZGluZz0iVVRGLTgiPz4KPHN2ZyB3aWR0aD0iMTAyNHB4IiBoZWlnaHQ9IjEwMjRweCIgdmlld0JveD0iMCAwIDEwMjQgMTAyNCIgeG1sbnM9Imh0dHA6Ly93d3cudzMub3JnLzIwMDAvc3ZnIiB4bWxuczp4bGluaz0iaHR0cDovL3d3dy53My5vcmcvMTk5OS94bGluayIgdmVyc2lvbj0iMS4xIj4KIDwhLS0gR2VuZXJhdGVkIGJ5IFBpeGVsbWF0b3IgUHJvIDIuMC41IC0tPgogPGRlZnM+CiAgPHRleHQgaWQ9InN0cmluZyIgdHJhbnNmb3JtPSJtYXRyaXgoMS4wIDAuMCAwLjAgMS4wIDIyOC4wIDU0LjUpIiBmb250LWZhbWlseT0iQ29tZm9ydGFhLVJlZ3VsYXIsIENvbWZvcnRhYSIgZm9udC1zaXplPSI4MDAiIHRleHQtZGVjb3JhdGlvbj0ibm9uZSIgZmlsbD0iI2ZmZmZmZiIgeD0iMS4xOTk5OTk5OTk5OTk5ODg2IiB5PSI3MDUuMCI+bjwvdGV4dD4KIDwvZGVmcz4KIDx1c2UgaWQ9Im4iIHhsaW5rOmhyZWY9IiNzdHJpbmciLz4KPC9zdmc+Cg==\"/></a>"
   ]
  },
  {
   "cell_type": "markdown",
   "id": "97087067-c5b5-4593-b254-c27bfbf5125d",
   "metadata": {},
   "source": [
    "This notebook will help you send data from your MongoDB database collection to your spreadsheet"
   ]
  },
  {
   "cell_type": "markdown",
   "id": "3ae5c59a-7367-4f9b-b0e5-340fb5cbb7de",
   "metadata": {},
   "source": [
    "**Tags:** #mongodb #googlesheets #nosql\n"
   ]
  },
  {
   "cell_type": "markdown",
   "id": "0b31190c-5783-4001-b0fb-38693a31e5b2",
   "metadata": {},
   "source": [
    "**Author:** [Oketunji Oludolapo](https://www.linkedin.com/in/oludolapo-oketunji/)"
   ]
  },
  {
   "cell_type": "markdown",
   "id": "8451e06f-336c-417d-9b69-44f5674c26f0",
   "metadata": {},
   "source": [
    "## Input"
   ]
  },
  {
   "cell_type": "code",
   "execution_count": null,
   "id": "13bf7d5e-cd89-47c0-a28c-e045f5f4326b",
   "metadata": {
    "tags": []
   },
   "outputs": [],
   "source": [
    "import naas_drivers\n",
    "import pandas as pd\n",
    "import naas"
   ]
  },
  {
   "cell_type": "markdown",
   "id": "60783fc6-f6ce-447a-bde9-5a160b13916b",
   "metadata": {},
   "source": [
    "### Setup Scheduler"
   ]
  },
  {
   "cell_type": "code",
   "execution_count": null,
   "id": "009979b0-f7e4-4dff-acec-0e6fc647b98b",
   "metadata": {},
   "outputs": [],
   "source": [
    "# Run this tab if you want to automate this notebook\n",
    "\n",
    "naas.scheduler.add(cron='0 9 * * *') #Send in production this notebook and run it, every day at 9:00.\n",
    "\n",
    "naas.scheduler.delete() # use this to delete your automation"
   ]
  },
  {
   "cell_type": "markdown",
   "id": "d6517442-cd9c-4a0d-9bc6-3d5964bee6f9",
   "metadata": {},
   "source": [
    "## Model"
   ]
  },
  {
   "cell_type": "markdown",
   "id": "2a14c4d4-96bd-4926-bcaf-2f9a697f41b6",
   "metadata": {},
   "source": [
    "Pre-requisite 1: share your Google Sheet with our service account\n",
    "For the driver to fetch the contents of your google sheet, you need to share it with the service account linked with Naas.\n",
    "\n",
    "🔗 naas-share@naas-gsheets.iam.gserviceaccount.com\n",
    "\n",
    "Pre-requisite 2: Get your user, password and connection URL details from your MongoDB Atlas Cluster"
   ]
  },
  {
   "cell_type": "code",
   "execution_count": null,
   "id": "1412b426-334c-4fff-b9a3-b960f04f73c9",
   "metadata": {
    "tags": []
   },
   "outputs": [],
   "source": [
    "user = \"your user\"\n",
    "passwd = \"your password\"\n",
    "host = \"Your Connection URL\"\n",
    "port = 9090\n",
    "\n",
    "connector = naas_drivers.mongo.connect(host, port, user, passwd)"
   ]
  },
  {
   "cell_type": "code",
   "execution_count": null,
   "id": "d353dcdc-1759-4126-818a-db4687f12875",
   "metadata": {
    "tags": []
   },
   "outputs": [],
   "source": [
    "collection_name = \"COLLECTION NAME\"\n",
    "db_name = \"DATABASE NAME\"\n",
    "mongo_data=naas_drivers.mongo.get(collection_name, db_name)"
   ]
  },
  {
   "cell_type": "code",
   "execution_count": null,
   "id": "b1e871f0-cfd5-47bd-9eee-37fcf43d1861",
   "metadata": {
    "tags": []
   },
   "outputs": [],
   "source": [
    "data=mongo_data.to_dict()\n",
    "df=pd.DataFrame(data)"
   ]
  },
  {
   "cell_type": "markdown",
   "id": "f796f1ea-9acf-4765-9007-2ecf21fe6c14",
   "metadata": {},
   "source": [
    "## Output"
   ]
  },
  {
   "cell_type": "code",
   "execution_count": null,
   "id": "8efce808-0f3f-4a9f-baf7-f093c7be1fdf",
   "metadata": {
    "tags": []
   },
   "outputs": [],
   "source": [
    "spreadsheet_id = \"------\"\n",
    "naas_drivers.gsheet.connect(spreadsheet_id).send(\n",
    "    sheet_name=\"Sheet1\",\n",
    "    data=df\n",
    ")"
   ]
  }
 ],
 "metadata": {
  "kernelspec": {
   "display_name": "Python 3",
   "language": "python",
   "name": "python3"
  },
  "language_info": {
   "codemirror_mode": {
    "name": "ipython",
    "version": 3
   },
   "file_extension": ".py",
   "mimetype": "text/x-python",
   "name": "python",
   "nbconvert_exporter": "python",
   "pygments_lexer": "ipython3",
   "version": "3.9.6"
  }
 },
 "nbformat": 4,
 "nbformat_minor": 5
}
