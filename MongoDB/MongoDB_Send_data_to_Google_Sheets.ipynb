{
 "cells": [
  {
   "cell_type": "markdown",
   "id": "1b04676a-89bd-4299-b6eb-9b1953aa5019",
   "metadata": {
    "papermill": {},
    "tags": []
   },
   "source": [
    "<img width=\"10%\" alt=\"Naas\" src=\"https://landen.imgix.net/jtci2pxwjczr/assets/5ice39g4.png?w=160\"/>"
   ]
  },
  {
   "cell_type": "markdown",
   "id": "3f029d8c-0457-4c17-bed6-1de94c07c4fb",
   "metadata": {
    "papermill": {},
    "tags": []
   },
   "source": [
    "# MongoDB - Send data to Google Sheets\n",
    "<a href=\"https://app.naas.ai/user-redirect/naas/downloader?url=https://raw.githubusercontent.com/jupyter-naas/awesome-notebooks/master/MongoDB/MongoDB_Send_data_to_Google_Sheets.ipynb\" target=\"_parent\"><img src=\"https://naasai-public.s3.eu-west-3.amazonaws.com/open_in_naas.svg\"/></a>"
   ]
  },
  {
   "cell_type": "markdown",
   "id": "3ae5c59a-7367-4f9b-b0e5-340fb5cbb7de",
   "metadata": {
    "papermill": {},
    "tags": []
   },
   "source": [
    "**Tags:** #mongodb #googlesheets #nosql #operations #automation"
   ]
  },
  {
   "cell_type": "markdown",
   "id": "0b31190c-5783-4001-b0fb-38693a31e5b2",
   "metadata": {
    "papermill": {},
    "tags": []
   },
   "source": [
    "**Author:** [Oketunji Oludolapo](https://www.linkedin.com/in/oludolapo-oketunji/)"
   ]
  },
  {
   "cell_type": "markdown",
   "id": "97087067-c5b5-4593-b254-c27bfbf5125d",
   "metadata": {
    "papermill": {},
    "tags": []
   },
   "source": [
    "This notebook will help you send data from your MongoDB database collection to your spreadsheet"
   ]
  },
  {
   "cell_type": "markdown",
   "id": "8451e06f-336c-417d-9b69-44f5674c26f0",
   "metadata": {
    "papermill": {},
    "tags": []
   },
   "source": [
    "## Input"
   ]
  },
  {
   "cell_type": "code",
   "execution_count": 1,
   "id": "13bf7d5e-cd89-47c0-a28c-e045f5f4326b",
   "metadata": {
    "execution": {
     "iopub.execute_input": "2022-03-20T14:38:29.272462Z",
     "iopub.status.busy": "2022-03-20T14:38:29.272197Z",
     "iopub.status.idle": "2022-03-20T14:38:31.129895Z",
     "shell.execute_reply": "2022-03-20T14:38:31.129123Z",
     "shell.execute_reply.started": "2022-03-20T14:38:29.272399Z"
    },
    "papermill": {},
    "tags": []
   },
   "outputs": [],
   "source": [
    "from naas_drivers import mongo, gsheet\n",
    "import pandas as pd\n",
    "import naas"
   ]
  },
  {
   "cell_type": "markdown",
   "id": "a8aade6d-fc8d-4820-aad2-079a97fd0121",
   "metadata": {
    "papermill": {},
    "tags": []
   },
   "source": [
    "### Setup MongoDB\n",
    "- Get your user, password and connection URL details from your MongoDB Atlas Cluster"
   ]
  },
  {
   "cell_type": "code",
   "execution_count": 2,
   "id": "36685405-cfbb-4d9a-9061-eecb2b058061",
   "metadata": {
    "execution": {
     "iopub.execute_input": "2022-03-20T14:38:31.131694Z",
     "iopub.status.busy": "2022-03-20T14:38:31.131221Z",
     "iopub.status.idle": "2022-03-20T14:38:31.134765Z",
     "shell.execute_reply": "2022-03-20T14:38:31.134151Z",
     "shell.execute_reply.started": "2022-03-20T14:38:31.131660Z"
    },
    "papermill": {},
    "tags": []
   },
   "outputs": [],
   "source": [
    "user = \"your user\"\n",
    "passwd = \"your password\"\n",
    "host = \"Your Connection URL\"\n",
    "port = 9090\n",
    "\n",
    "collection_name = \"COLLECTION NAME\"\n",
    "db_name = \"DATABASE NAME\""
   ]
  },
  {
   "cell_type": "markdown",
   "id": "fbbbac7a-acd9-48ae-be39-7f1e0a0859da",
   "metadata": {
    "papermill": {},
    "tags": []
   },
   "source": [
    "### Setup Google Sheet"
   ]
  },
  {
   "cell_type": "markdown",
   "id": "2a14c4d4-96bd-4926-bcaf-2f9a697f41b6",
   "metadata": {
    "papermill": {},
    "tags": []
   },
   "source": [
    "- Share your Google Sheet with our service account : 🔗 naas-share@naas-gsheets.iam.gserviceaccount.com"
   ]
  },
  {
   "cell_type": "code",
   "execution_count": null,
   "id": "d7b963d5-9586-42e7-8f6e-1649a3b4eed0",
   "metadata": {
    "papermill": {},
    "tags": []
   },
   "outputs": [],
   "source": [
    "spreadsheet_id = \"------\"\n",
    "sheet_name = \"Sheet1\""
   ]
  },
  {
   "cell_type": "markdown",
   "id": "60783fc6-f6ce-447a-bde9-5a160b13916b",
   "metadata": {
    "papermill": {},
    "tags": []
   },
   "source": [
    "### Setup Naas"
   ]
  },
  {
   "cell_type": "code",
   "execution_count": null,
   "id": "009979b0-f7e4-4dff-acec-0e6fc647b98b",
   "metadata": {
    "papermill": {},
    "tags": []
   },
   "outputs": [],
   "source": [
    "naas.scheduler.add(cron='0 9 * * *') #Send in production this notebook and run it, every day at 9:00.\n",
    "\n",
    "# use this to delete your automation\n",
    "# naas.scheduler.delete()"
   ]
  },
  {
   "cell_type": "markdown",
   "id": "d6517442-cd9c-4a0d-9bc6-3d5964bee6f9",
   "metadata": {
    "papermill": {},
    "tags": []
   },
   "source": [
    "## Model"
   ]
  },
  {
   "cell_type": "markdown",
   "id": "fe688179-255c-468b-8787-6b69e4803b6e",
   "metadata": {
    "papermill": {},
    "tags": []
   },
   "source": [
    "### Get data in MongoDB"
   ]
  },
  {
   "cell_type": "code",
   "execution_count": null,
   "id": "d353dcdc-1759-4126-818a-db4687f12875",
   "metadata": {
    "papermill": {},
    "tags": []
   },
   "outputs": [],
   "source": [
    "df = mongo.connect(host, port, user, passwd).get(collection_name, db_name)"
   ]
  },
  {
   "cell_type": "markdown",
   "id": "f796f1ea-9acf-4765-9007-2ecf21fe6c14",
   "metadata": {
    "papermill": {},
    "tags": []
   },
   "source": [
    "## Output"
   ]
  },
  {
   "cell_type": "markdown",
   "id": "d58ddccc-5b29-44e1-ab79-9d086f8eca65",
   "metadata": {
    "papermill": {},
    "tags": []
   },
   "source": [
    "### Send data to Google Sheet"
   ]
  },
  {
   "cell_type": "code",
   "execution_count": null,
   "id": "8efce808-0f3f-4a9f-baf7-f093c7be1fdf",
   "metadata": {
    "papermill": {},
    "tags": []
   },
   "outputs": [],
   "source": [
    "gsheet.connect(spreadsheet_id).send(\n",
    "    sheet_name=sheet_name,\n",
    "    data=df,\n",
    "    append=False\n",
    ")"
   ]
  }
 ],
 "metadata": {
  "kernelspec": {
   "display_name": "Python 3",
   "language": "python",
   "name": "python3"
  },
  "language_info": {
   "codemirror_mode": {
    "name": "ipython",
    "version": 3
   },
   "file_extension": ".py",
   "mimetype": "text/x-python",
   "name": "python",
   "nbconvert_exporter": "python",
   "pygments_lexer": "ipython3",
   "version": "3.9.6"
  },
  "naas": {
   "notebook_id": "8a1a7fa0-acbc-4079-b883-77d25f4efe14",
   "notebook_path": "MongoDB/MongoDB_Send_data_to_Google_Sheets.ipynb"
  },
  "papermill": {
   "default_parameters": {},
   "environment_variables": {},
   "parameters": {},
   "version": "2.3.4"
  }
 },
 "nbformat": 4,
 "nbformat_minor": 5
}
