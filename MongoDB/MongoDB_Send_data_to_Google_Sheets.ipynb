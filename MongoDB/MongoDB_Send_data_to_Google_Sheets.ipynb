{
 "cells": [
  {
   "cell_type": "markdown",
   "id": "e69724e7-9d9a-44f7-94d5-295273be6daf",
   "metadata": {},
   "source": [
    "<img width=\"10%\" alt=\"Naas\" src=\"https://landen.imgix.net/jtci2pxwjczr/assets/5ice39g4.png?w=160\"/>"
   ]
  },
  {
   "cell_type": "markdown",
   "id": "081128f9-8409-4fc1-94ad-691752a2e21b",
   "metadata": {},
   "source": [
    "# MongoDB - Send data to Google Sheets\n",
    "<a href=\"https://app.naas.ai/user-redirect/naas/downloader?url=https://raw.githubusercontent.com/jupyter-naas/awesome-notebooks/master/MongoDB/MongoDB_Send_data.ipynb\" target=\"_parent\"><img src=\"https://img.shields.io/badge/-Open%20in%20Naas-success?labelColor=000000&logo=data:image/svg+xml;base64,PD94bWwgdmVyc2lvbj0iMS4wIiBlbmNvZGluZz0iVVRGLTgiPz4KPHN2ZyB3aWR0aD0iMTAyNHB4IiBoZWlnaHQ9IjEwMjRweCIgdmlld0JveD0iMCAwIDEwMjQgMTAyNCIgeG1sbnM9Imh0dHA6Ly93d3cudzMub3JnLzIwMDAvc3ZnIiB4bWxuczp4bGluaz0iaHR0cDovL3d3dy53My5vcmcvMTk5OS94bGluayIgdmVyc2lvbj0iMS4xIj4KIDwhLS0gR2VuZXJhdGVkIGJ5IFBpeGVsbWF0b3IgUHJvIDIuMC41IC0tPgogPGRlZnM+CiAgPHRleHQgaWQ9InN0cmluZyIgdHJhbnNmb3JtPSJtYXRyaXgoMS4wIDAuMCAwLjAgMS4wIDIyOC4wIDU0LjUpIiBmb250LWZhbWlseT0iQ29tZm9ydGFhLVJlZ3VsYXIsIENvbWZvcnRhYSIgZm9udC1zaXplPSI4MDAiIHRleHQtZGVjb3JhdGlvbj0ibm9uZSIgZmlsbD0iI2ZmZmZmZiIgeD0iMS4xOTk5OTk5OTk5OTk5ODg2IiB5PSI3MDUuMCI+bjwvdGV4dD4KIDwvZGVmcz4KIDx1c2UgaWQ9Im4iIHhsaW5rOmhyZWY9IiNzdHJpbmciLz4KPC9zdmc+Cg==\"/></a>"
   ]
  },
  {
   "cell_type": "markdown",
   "id": "49857589-ce9f-404a-97fa-72f113ed4e6c",
   "metadata": {},
   "source": [
    "**Tags**: #mongodb #googlesheets #nosql #operations #automation"
   ]
  },
  {
   "cell_type": "markdown",
   "id": "5a4c59ca-126b-4e4c-8847-f4badebc42a0",
   "metadata": {},
   "source": [
    "**Author:** [Oketunji Oludolapo](https://www.linkedin.com/in/oludolapo-oketunji/)"
   ]
  },
  {
   "cell_type": "markdown",
   "id": "b2b288da-6e0e-47d4-a835-b63a038c97dd",
   "metadata": {},
   "source": [
    "This notebook will help you send data from your MongoDB database collection to your spreadsheet"
   ]
  },
  {
   "cell_type": "markdown",
   "id": "3766d898-fc97-43b7-9984-117898afe9fd",
   "metadata": {},
   "source": [
    "**How To Use Template:** [Video](https://drive.google.com/file/d/1lAZdZP6qk4tZepgWJtiQ6rL6D3wosPSN/view?usp=sharing)"
   ]
  },
  {
   "cell_type": "markdown",
   "id": "406b191e-709f-4eb0-b065-2cbca616cbbf",
   "metadata": {},
   "source": [
    "## Input"
   ]
  },
  {
   "cell_type": "code",
   "execution_count": null,
   "id": "cc1d3e66-94a4-4e0a-95f9-f31693ec8c36",
   "metadata": {},
   "outputs": [],
   "source": [
    "from naas_drivers import mongo, gsheet\n",
    "import pandas as pd\n",
    "import naas"
   ]
  },
  {
   "cell_type": "markdown",
   "id": "6b11c298-b2f2-4dd6-a40d-651392a77964",
   "metadata": {},
   "source": [
    "### Setup MongoDB\n",
    "- Get your user, password and connection URL details from your MongoDB Atlas Cluster\n",
    "**How To get Required MongoDB details**: [Article](https://towardsdev.com/part-6-7-of-python-mongodb-tutorial-series-for-data-scientists-connecting-mongodb-atlas-to-python-d7169445fca1)"
   ]
  },
  {
   "cell_type": "code",
   "execution_count": null,
   "id": "fedfef53-df8b-4e55-b507-0036040c4c64",
   "metadata": {
    "tags": []
   },
   "outputs": [],
   "source": [
    "user =\"your user\"\n",
    "passwd =\"your password\"\n",
    "host =\"Your Connection URL\"\n",
    "port = 9090\n",
    "collection_name =\"COLLECTION NAME\"\n",
    "db_name =\"DATABASE NAME\""
   ]
  },
  {
   "cell_type": "markdown",
   "id": "131e661e-a650-48c1-9da7-6c06229e4261",
   "metadata": {},
   "source": [
    "### Setup Google Sheet\n",
    "- Share your Google Sheet with our service account : 🔗 naas-share@naas-gsheets.iam.gserviceaccount.com"
   ]
  },
  {
   "cell_type": "code",
   "execution_count": null,
   "id": "49bfa4a4-6d98-4925-8670-61152a5ae86d",
   "metadata": {},
   "outputs": [],
   "source": [
    "spreadsheet_id = \"------\"\n",
    "sheet_name = \"Sheet1\""
   ]
  },
  {
   "cell_type": "markdown",
   "id": "a301c5e7-3648-4123-8d10-d74c6ffd50ef",
   "metadata": {},
   "source": [
    "### Setup Naas"
   ]
  },
  {
   "cell_type": "code",
   "execution_count": null,
   "id": "59830734-d8fa-45b1-8d68-30a15a04ed15",
   "metadata": {
    "tags": []
   },
   "outputs": [],
   "source": [
    "naas.scheduler.add(cron='0 9 * * *') #Send in production this notebook and run it, every day at 9:00.\n",
    "\n",
    "# use this to delete your automation\n",
    "# naas.scheduler.delete()"
   ]
  },
  {
   "cell_type": "markdown",
   "id": "08912c4e-7b6e-4d30-acce-8c0f2caf9ea1",
   "metadata": {},
   "source": [
    "## Model"
   ]
  },
  {
   "cell_type": "markdown",
   "id": "fae21df2-e526-4b5a-a101-da61e7b6ddd8",
   "metadata": {},
   "source": [
    "### Get data in MongoDB"
   ]
  },
  {
   "cell_type": "code",
   "execution_count": null,
   "id": "165561bc-8c9c-4447-9ffb-9a02eac45474",
   "metadata": {},
   "outputs": [],
   "source": [
    "df = mongo.connect(host, port, user, passwd).get(collection_name, db_name)"
   ]
  },
  {
   "cell_type": "markdown",
   "id": "75e01e33-5ab8-48c8-90bd-cf9daae2b8ea",
   "metadata": {},
   "source": [
    "## Output"
   ]
  },
  {
   "cell_type": "markdown",
   "id": "0ed83a0f-e418-4075-80f2-ae22b240e670",
   "metadata": {},
   "source": [
    "### Send data to Google Sheet"
   ]
  },
  {
   "cell_type": "code",
   "execution_count": null,
   "id": "b2ba3d73-e730-4e3b-a390-26c8c37f8a7d",
   "metadata": {},
   "outputs": [],
   "source": [
    "gsheet.connect(spreadsheet_id).send(\n",
    "    sheet_name=sheet_name,\n",
    "    data=df,\n",
    "    append=False\n",
    ")"
   ]
  }
 ],
 "metadata": {
  "kernelspec": {
   "display_name": "Python 3",
   "language": "python",
   "name": "python3"
  },
  "language_info": {
   "codemirror_mode": {
    "name": "ipython",
    "version": 3
   },
   "file_extension": ".py",
   "mimetype": "text/x-python",
   "name": "python",
   "nbconvert_exporter": "python",
   "pygments_lexer": "ipython3",
   "version": "3.9.6"
  }
 },
 "nbformat": 4,
 "nbformat_minor": 5
}
