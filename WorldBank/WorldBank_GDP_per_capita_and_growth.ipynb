{
 "cells": [
  {
   "cell_type": "markdown",
   "id": "respective-zoning",
   "metadata": {
    "colab_type": "text",
    "id": "view-in-github",
    "papermill": {},
    "tags": []
   },
   "source": [
    "# WorldBank - GDP per capita and growth\n",
    "<a href=\"https://app.naas.ai/user-redirect/naas/downloader?url=https://raw.githubusercontent.com/jupyter-naas/awesome-notebooks/master/WorldBank/WorldBank_GDP_per_capita_and_growth.ipynb\" target=\"_parent\">\n",
    "<img src=\"https://img.shields.io/badge/-Open%20in%20Naas-success?labelColor=000000&logo=data:image/svg+xml;base64,PD94bWwgdmVyc2lvbj0iMS4wIiBlbmNvZGluZz0iVVRGLTgiPz4KPHN2ZyB3aWR0aD0iMTAyNHB4IiBoZWlnaHQ9IjEwMjRweCIgdmlld0JveD0iMCAwIDEwMjQgMTAyNCIgeG1sbnM9Imh0dHA6Ly93d3cudzMub3JnLzIwMDAvc3ZnIiB4bWxuczp4bGluaz0iaHR0cDovL3d3dy53My5vcmcvMTk5OS94bGluayIgdmVyc2lvbj0iMS4xIj4KIDwhLS0gR2VuZXJhdGVkIGJ5IFBpeGVsbWF0b3IgUHJvIDIuMC41IC0tPgogPGRlZnM+CiAgPHRleHQgaWQ9InN0cmluZyIgdHJhbnNmb3JtPSJtYXRyaXgoMS4wIDAuMCAwLjAgMS4wIDIyOC4wIDU0LjUpIiBmb250LWZhbWlseT0iQ29tZm9ydGFhLVJlZ3VsYXIsIENvbWZvcnRhYSIgZm9udC1zaXplPSI4MDAiIHRleHQtZGVjb3JhdGlvbj0ibm9uZSIgZmlsbD0iI2ZmZmZmZiIgeD0iMS4xOTk5OTk5OTk5OTk5ODg2IiB5PSI3MDUuMCI+bjwvdGV4dD4KIDwvZGVmcz4KIDx1c2UgaWQ9Im4iIHhsaW5rOmhyZWY9IiNzdHJpbmciLz4KPC9zdmc+Cg==\"/>\n",
    "</a>"
   ]
  },
  {
   "cell_type": "markdown",
   "id": "loving-standing",
   "metadata": {
    "colab_type": "text",
    "id": "NFm_zRA1PE2e",
    "papermill": {},
    "tags": []
   },
   "source": [
    "**Objective** : allows to visualize a map of GDP per capita and the GDP growth of all the countries in the world. Click on the country on the map or select it to see the details info.\n",
    "\n",
    "**Data** :\n",
    "- GDP per capita (current US$)\n",
    "- GDP growh (annual %)\n",
    "\n",
    "**Source**: World Bank national accounts data."
   ]
  },
  {
   "cell_type": "code",
   "execution_count": 1,
   "id": "bright-leave",
   "metadata": {
    "colab": {},
    "colab_type": "code",
    "execution": {
     "iopub.execute_input": "2021-04-24T07:47:29.436135Z",
     "iopub.status.busy": "2021-04-24T07:47:29.435777Z",
     "iopub.status.idle": "2021-04-24T07:47:30.091974Z",
     "shell.execute_reply": "2021-04-24T07:47:30.091374Z",
     "shell.execute_reply.started": "2021-04-24T07:47:29.436081Z"
    },
    "id": "PxNbb9bE5Py_",
    "papermill": {},
    "tags": []
   },
   "outputs": [],
   "source": [
    "import pandas as pd\n",
    "import numpy as np\n",
    "import plotly.graph_objects as go"
   ]
  },
  {
   "cell_type": "markdown",
   "id": "thirty-commons",
   "metadata": {
    "papermill": {},
    "tags": []
   },
   "source": [
    "## Get data from World Bank"
   ]
  },
  {
   "cell_type": "code",
   "execution_count": 2,
   "id": "outside-equity",
   "metadata": {
    "colab": {
     "base_uri": "https://localhost:8080/",
     "height": 419
    },
    "colab_type": "code",
    "execution": {
     "iopub.execute_input": "2021-04-24T07:47:32.332185Z",
     "iopub.status.busy": "2021-04-24T07:47:32.331886Z",
     "iopub.status.idle": "2021-04-24T07:47:42.482876Z",
     "shell.execute_reply": "2021-04-24T07:47:42.482278Z",
     "shell.execute_reply.started": "2021-04-24T07:47:32.332152Z"
    },
    "id": "0ksZHPdp6JgN",
    "outputId": "152bded3-95ee-4729-9c77-0fedbcc2a41a",
    "papermill": {},
    "tags": []
   },
   "outputs": [
    {
     "data": {
      "text/html": [
       "<div>\n",
       "<style scoped>\n",
       "    .dataframe tbody tr th:only-of-type {\n",
       "        vertical-align: middle;\n",
       "    }\n",
       "\n",
       "    .dataframe tbody tr th {\n",
       "        vertical-align: top;\n",
       "    }\n",
       "\n",
       "    .dataframe thead th {\n",
       "        text-align: right;\n",
       "    }\n",
       "</style>\n",
       "<table border=\"1\" class=\"dataframe\">\n",
       "  <thead>\n",
       "    <tr style=\"text-align: right;\">\n",
       "      <th></th>\n",
       "      <th>COUNTRY</th>\n",
       "      <th>YEAR</th>\n",
       "      <th>GDP_PER_CAPITAL</th>\n",
       "      <th>GDP_GROWTH_PER_CAPITAL</th>\n",
       "      <th>REGION</th>\n",
       "      <th>ISO3C</th>\n",
       "    </tr>\n",
       "  </thead>\n",
       "  <tbody>\n",
       "    <tr>\n",
       "      <th>0</th>\n",
       "      <td>Afghanistan</td>\n",
       "      <td>2020</td>\n",
       "      <td>0.000000</td>\n",
       "      <td>0.000000</td>\n",
       "      <td>South Asia</td>\n",
       "      <td>AFG</td>\n",
       "    </tr>\n",
       "    <tr>\n",
       "      <th>1</th>\n",
       "      <td>Afghanistan</td>\n",
       "      <td>2019</td>\n",
       "      <td>507.103432</td>\n",
       "      <td>1.536912</td>\n",
       "      <td>South Asia</td>\n",
       "      <td>AFG</td>\n",
       "    </tr>\n",
       "    <tr>\n",
       "      <th>2</th>\n",
       "      <td>Afghanistan</td>\n",
       "      <td>2018</td>\n",
       "      <td>493.750418</td>\n",
       "      <td>-1.195347</td>\n",
       "      <td>South Asia</td>\n",
       "      <td>AFG</td>\n",
       "    </tr>\n",
       "    <tr>\n",
       "      <th>3</th>\n",
       "      <td>Afghanistan</td>\n",
       "      <td>2017</td>\n",
       "      <td>519.884773</td>\n",
       "      <td>0.064250</td>\n",
       "      <td>South Asia</td>\n",
       "      <td>AFG</td>\n",
       "    </tr>\n",
       "    <tr>\n",
       "      <th>4</th>\n",
       "      <td>Afghanistan</td>\n",
       "      <td>2016</td>\n",
       "      <td>509.218661</td>\n",
       "      <td>-0.541697</td>\n",
       "      <td>South Asia</td>\n",
       "      <td>AFG</td>\n",
       "    </tr>\n",
       "    <tr>\n",
       "      <th>...</th>\n",
       "      <td>...</td>\n",
       "      <td>...</td>\n",
       "      <td>...</td>\n",
       "      <td>...</td>\n",
       "      <td>...</td>\n",
       "      <td>...</td>\n",
       "    </tr>\n",
       "    <tr>\n",
       "      <th>1723</th>\n",
       "      <td>Zimbabwe</td>\n",
       "      <td>2017</td>\n",
       "      <td>1548.170056</td>\n",
       "      <td>3.186399</td>\n",
       "      <td>Sub-Saharan Africa</td>\n",
       "      <td>ZWE</td>\n",
       "    </tr>\n",
       "    <tr>\n",
       "      <th>1724</th>\n",
       "      <td>Zimbabwe</td>\n",
       "      <td>2016</td>\n",
       "      <td>1464.583529</td>\n",
       "      <td>-0.793566</td>\n",
       "      <td>Sub-Saharan Africa</td>\n",
       "      <td>ZWE</td>\n",
       "    </tr>\n",
       "    <tr>\n",
       "      <th>1725</th>\n",
       "      <td>Zimbabwe</td>\n",
       "      <td>2015</td>\n",
       "      <td>1445.071062</td>\n",
       "      <td>0.100456</td>\n",
       "      <td>Sub-Saharan Africa</td>\n",
       "      <td>ZWE</td>\n",
       "    </tr>\n",
       "    <tr>\n",
       "      <th>1726</th>\n",
       "      <td>Zimbabwe</td>\n",
       "      <td>2014</td>\n",
       "      <td>1434.899340</td>\n",
       "      <td>0.596198</td>\n",
       "      <td>Sub-Saharan Africa</td>\n",
       "      <td>ZWE</td>\n",
       "    </tr>\n",
       "    <tr>\n",
       "      <th>1727</th>\n",
       "      <td>Zimbabwe</td>\n",
       "      <td>2013</td>\n",
       "      <td>1430.000818</td>\n",
       "      <td>0.192501</td>\n",
       "      <td>Sub-Saharan Africa</td>\n",
       "      <td>ZWE</td>\n",
       "    </tr>\n",
       "  </tbody>\n",
       "</table>\n",
       "<p>1728 rows × 6 columns</p>\n",
       "</div>"
      ],
      "text/plain": [
       "          COUNTRY  YEAR  GDP_PER_CAPITAL  GDP_GROWTH_PER_CAPITAL  \\\n",
       "0     Afghanistan  2020         0.000000                0.000000   \n",
       "1     Afghanistan  2019       507.103432                1.536912   \n",
       "2     Afghanistan  2018       493.750418               -1.195347   \n",
       "3     Afghanistan  2017       519.884773                0.064250   \n",
       "4     Afghanistan  2016       509.218661               -0.541697   \n",
       "...           ...   ...              ...                     ...   \n",
       "1723     Zimbabwe  2017      1548.170056                3.186399   \n",
       "1724     Zimbabwe  2016      1464.583529               -0.793566   \n",
       "1725     Zimbabwe  2015      1445.071062                0.100456   \n",
       "1726     Zimbabwe  2014      1434.899340                0.596198   \n",
       "1727     Zimbabwe  2013      1430.000818                0.192501   \n",
       "\n",
       "                   REGION ISO3C  \n",
       "0              South Asia   AFG  \n",
       "1              South Asia   AFG  \n",
       "2              South Asia   AFG  \n",
       "3              South Asia   AFG  \n",
       "4              South Asia   AFG  \n",
       "...                   ...   ...  \n",
       "1723  Sub-Saharan Africa    ZWE  \n",
       "1724  Sub-Saharan Africa    ZWE  \n",
       "1725  Sub-Saharan Africa    ZWE  \n",
       "1726  Sub-Saharan Africa    ZWE  \n",
       "1727  Sub-Saharan Africa    ZWE  \n",
       "\n",
       "[1728 rows x 6 columns]"
      ]
     },
     "execution_count": 2,
     "metadata": {},
     "output_type": "execute_result"
    }
   ],
   "source": [
    "from pandas_datareader import wb\n",
    "\n",
    "indicators = wb.download(indicator=['NY.GDP.PCAP.CD', 'NY.GDP.PCAP.KD.ZG'], country='all', start=2013, end=2021)\n",
    "\n",
    "indicators = indicators.reset_index()\n",
    "indicators = indicators[['country', 'year', 'NY.GDP.PCAP.CD', 'NY.GDP.PCAP.KD.ZG']]\n",
    "indicators.columns = ['country', 'year', 'GDP_PER_CAPITAL', 'GDP_GROWTH_PER_CAPITAL']\n",
    "\n",
    "indicators = indicators.fillna(0)\n",
    "\n",
    "countries = wb.get_countries()\n",
    "countries = countries[['name', 'region', 'iso3c']]\n",
    "\n",
    "master_table = pd.merge(indicators, countries, left_on='country', right_on='name')\n",
    "\n",
    "master_table = master_table[master_table['region'] != 'Aggregates']\n",
    "\n",
    "master_table = master_table.drop(columns=['name'])\n",
    "\n",
    "master_table = master_table.dropna()\n",
    "\n",
    "# Création de l'ensemble final\n",
    "xls_formatted = pd.DataFrame(columns=['COUNTRY', 'YEAR', 'GDP_PER_CAPITAL', 'GDP_GROWTH_PER_CAPITAL', 'REGION', 'ISO3C'])\n",
    "\n",
    "for index, line in master_table.iterrows():\n",
    "  xls_formatted = xls_formatted.append(\n",
    "    {\n",
    "        'COUNTRY': line['country'],\n",
    "        'YEAR': line['year'],\n",
    "        'GDP_PER_CAPITAL': line['GDP_PER_CAPITAL'],\n",
    "        'GDP_GROWTH_PER_CAPITAL': line['GDP_GROWTH_PER_CAPITAL'],\n",
    "        'REGION': line['region'],\n",
    "        'ISO3C': line['iso3c'],\n",
    "    }, ignore_index=True\n",
    "  )\n",
    "\n",
    "master_table = xls_formatted\n",
    "\n",
    "master_table"
   ]
  },
  {
   "cell_type": "markdown",
   "id": "floral-possibility",
   "metadata": {
    "papermill": {},
    "tags": []
   },
   "source": [
    "## Choose the year to display"
   ]
  },
  {
   "cell_type": "code",
   "execution_count": null,
   "id": "touched-reynolds",
   "metadata": {
    "papermill": {},
    "tags": []
   },
   "outputs": [],
   "source": [
    "year = \"2019\""
   ]
  },
  {
   "cell_type": "markdown",
   "id": "individual-corrections",
   "metadata": {
    "papermill": {},
    "tags": []
   },
   "source": [
    "## Create mapchart"
   ]
  },
  {
   "cell_type": "code",
   "execution_count": 71,
   "id": "linear-labor",
   "metadata": {
    "colab": {
     "base_uri": "https://localhost:8080/",
     "height": 917
    },
    "colab_type": "code",
    "execution": {
     "iopub.execute_input": "2021-04-24T08:45:49.876396Z",
     "iopub.status.busy": "2021-04-24T08:45:49.876168Z",
     "iopub.status.idle": "2021-04-24T08:45:49.919192Z",
     "shell.execute_reply": "2021-04-24T08:45:49.918603Z",
     "shell.execute_reply.started": "2021-04-24T08:45:49.876372Z"
    },
    "id": "iq6gJ2MwedAL",
    "outputId": "7633a002-78cf-465d-a859-617c4b1e5bf8",
    "papermill": {},
    "tags": []
   },
   "outputs": [
    {
     "data": {
      "application/vnd.plotly.v1+json": {
       "config": {
        "plotlyServerURL": "https://plot.ly"
       },
       "data": [
        {
         "colorbar": {
          "title": {
           "text": "Value"
          }
         },
         "colorscale": [
          [
           0,
           "#053D8B"
          ],
          [
           0.25,
           "#1164B0"
          ],
          [
           0.5,
           "#298BC8"
          ],
          [
           0.75,
           "#3FB7DB"
          ],
          [
           1,
           "#5CD5E8"
          ]
         ],
         "customdata": [
          "Afghanistan",
          "Albania",
          "Algeria",
          "American Samoa",
          "Andorra",
          "Angola",
          "Antigua and Barbuda",
          "Argentina",
          "Armenia",
          "Aruba",
          "Australia",
          "Austria",
          "Azerbaijan",
          "Bahamas, The",
          "Bahrain",
          "Bangladesh",
          "Barbados",
          "Belarus",
          "Belgium",
          "Belize",
          "Benin",
          "Bermuda",
          "Bhutan",
          "Bolivia",
          "Bosnia and Herzegovina",
          "Botswana",
          "Brazil",
          "British Virgin Islands",
          "Brunei Darussalam",
          "Bulgaria",
          "Burkina Faso",
          "Burundi",
          "Cabo Verde",
          "Cambodia",
          "Cameroon",
          "Canada",
          "Cayman Islands",
          "Central African Republic",
          "Chad",
          "Channel Islands",
          "Chile",
          "China",
          "Colombia",
          "Comoros",
          "Congo, Dem. Rep.",
          "Congo, Rep.",
          "Costa Rica",
          "Cote d'Ivoire",
          "Croatia",
          "Cuba",
          "Curacao",
          "Cyprus",
          "Czech Republic",
          "Denmark",
          "Djibouti",
          "Dominica",
          "Dominican Republic",
          "Ecuador",
          "Egypt, Arab Rep.",
          "El Salvador",
          "Equatorial Guinea",
          "Eritrea",
          "Estonia",
          "Eswatini",
          "Ethiopia",
          "Faroe Islands",
          "Fiji",
          "Finland",
          "France",
          "French Polynesia",
          "Gabon",
          "Gambia, The",
          "Georgia",
          "Germany",
          "Ghana",
          "Gibraltar",
          "Greece",
          "Greenland",
          "Grenada",
          "Guam",
          "Guatemala",
          "Guinea",
          "Guinea-Bissau",
          "Guyana",
          "Haiti",
          "Honduras",
          "Hong Kong SAR, China",
          "Hungary",
          "Iceland",
          "India",
          "Indonesia",
          "Iran, Islamic Rep.",
          "Iraq",
          "Ireland",
          "Isle of Man",
          "Israel",
          "Italy",
          "Jamaica",
          "Japan",
          "Jordan",
          "Kazakhstan",
          "Kenya",
          "Kiribati",
          "Korea, Rep.",
          "Kosovo",
          "Kuwait",
          "Kyrgyz Republic",
          "Lao PDR",
          "Latvia",
          "Lebanon",
          "Lesotho",
          "Liberia",
          "Libya",
          "Liechtenstein",
          "Lithuania",
          "Luxembourg",
          "Macao SAR, China",
          "Madagascar",
          "Malawi",
          "Malaysia",
          "Maldives",
          "Mali",
          "Malta",
          "Marshall Islands",
          "Mauritania",
          "Mauritius",
          "Mexico",
          "Micronesia, Fed. Sts.",
          "Moldova",
          "Monaco",
          "Mongolia",
          "Montenegro",
          "Morocco",
          "Mozambique",
          "Myanmar",
          "Namibia",
          "Nauru",
          "Nepal",
          "Netherlands",
          "New Caledonia",
          "New Zealand",
          "Nicaragua",
          "Niger",
          "Nigeria",
          "North Macedonia",
          "Northern Mariana Islands",
          "Norway",
          "Oman",
          "Pakistan",
          "Palau",
          "Panama",
          "Papua New Guinea",
          "Paraguay",
          "Peru",
          "Philippines",
          "Poland",
          "Portugal",
          "Puerto Rico",
          "Qatar",
          "Romania",
          "Russian Federation",
          "Rwanda",
          "Samoa",
          "San Marino",
          "Sao Tome and Principe",
          "Saudi Arabia",
          "Senegal",
          "Serbia",
          "Seychelles",
          "Sierra Leone",
          "Singapore",
          "Sint Maarten (Dutch part)",
          "Slovak Republic",
          "Slovenia",
          "Solomon Islands",
          "Somalia",
          "South Africa",
          "South Sudan",
          "Spain",
          "Sri Lanka",
          "St. Kitts and Nevis",
          "St. Lucia",
          "St. Martin (French part)",
          "St. Vincent and the Grenadines",
          "Sudan",
          "Suriname",
          "Sweden",
          "Switzerland",
          "Syrian Arab Republic",
          "Tajikistan",
          "Tanzania",
          "Thailand",
          "Timor-Leste",
          "Togo",
          "Tonga",
          "Trinidad and Tobago",
          "Tunisia",
          "Turkey",
          "Turkmenistan",
          "Turks and Caicos Islands",
          "Tuvalu",
          "Uganda",
          "Ukraine",
          "United Arab Emirates",
          "United Kingdom",
          "United States",
          "Uruguay",
          "Uzbekistan",
          "Vanuatu",
          "Venezuela, RB",
          "Vietnam",
          "Virgin Islands (U.S.)",
          "West Bank and Gaza",
          "Yemen, Rep.",
          "Zambia",
          "Zimbabwe"
         ],
         "hovertemplate": "<b>%{customdata}: %{z:,.0f}</b><extra></extra>",
         "locations": [
          "AFG",
          "ALB",
          "DZA",
          "ASM",
          "AND",
          "AGO",
          "ATG",
          "ARG",
          "ARM",
          "ABW",
          "AUS",
          "AUT",
          "AZE",
          "BHS",
          "BHR",
          "BGD",
          "BRB",
          "BLR",
          "BEL",
          "BLZ",
          "BEN",
          "BMU",
          "BTN",
          "BOL",
          "BIH",
          "BWA",
          "BRA",
          "VGB",
          "BRN",
          "BGR",
          "BFA",
          "BDI",
          "CPV",
          "KHM",
          "CMR",
          "CAN",
          "CYM",
          "CAF",
          "TCD",
          "CHI",
          "CHL",
          "CHN",
          "COL",
          "COM",
          "COD",
          "COG",
          "CRI",
          "CIV",
          "HRV",
          "CUB",
          "CUW",
          "CYP",
          "CZE",
          "DNK",
          "DJI",
          "DMA",
          "DOM",
          "ECU",
          "EGY",
          "SLV",
          "GNQ",
          "ERI",
          "EST",
          "SWZ",
          "ETH",
          "FRO",
          "FJI",
          "FIN",
          "FRA",
          "PYF",
          "GAB",
          "GMB",
          "GEO",
          "DEU",
          "GHA",
          "GIB",
          "GRC",
          "GRL",
          "GRD",
          "GUM",
          "GTM",
          "GIN",
          "GNB",
          "GUY",
          "HTI",
          "HND",
          "HKG",
          "HUN",
          "ISL",
          "IND",
          "IDN",
          "IRN",
          "IRQ",
          "IRL",
          "IMN",
          "ISR",
          "ITA",
          "JAM",
          "JPN",
          "JOR",
          "KAZ",
          "KEN",
          "KIR",
          "KOR",
          "XKX",
          "KWT",
          "KGZ",
          "LAO",
          "LVA",
          "LBN",
          "LSO",
          "LBR",
          "LBY",
          "LIE",
          "LTU",
          "LUX",
          "MAC",
          "MDG",
          "MWI",
          "MYS",
          "MDV",
          "MLI",
          "MLT",
          "MHL",
          "MRT",
          "MUS",
          "MEX",
          "FSM",
          "MDA",
          "MCO",
          "MNG",
          "MNE",
          "MAR",
          "MOZ",
          "MMR",
          "NAM",
          "NRU",
          "NPL",
          "NLD",
          "NCL",
          "NZL",
          "NIC",
          "NER",
          "NGA",
          "MKD",
          "MNP",
          "NOR",
          "OMN",
          "PAK",
          "PLW",
          "PAN",
          "PNG",
          "PRY",
          "PER",
          "PHL",
          "POL",
          "PRT",
          "PRI",
          "QAT",
          "ROU",
          "RUS",
          "RWA",
          "WSM",
          "SMR",
          "STP",
          "SAU",
          "SEN",
          "SRB",
          "SYC",
          "SLE",
          "SGP",
          "SXM",
          "SVK",
          "SVN",
          "SLB",
          "SOM",
          "ZAF",
          "SSD",
          "ESP",
          "LKA",
          "KNA",
          "LCA",
          "MAF",
          "VCT",
          "SDN",
          "SUR",
          "SWE",
          "CHE",
          "SYR",
          "TJK",
          "TZA",
          "THA",
          "TLS",
          "TGO",
          "TON",
          "TTO",
          "TUN",
          "TUR",
          "TKM",
          "TCA",
          "TUV",
          "UGA",
          "UKR",
          "ARE",
          "GBR",
          "USA",
          "URY",
          "UZB",
          "VUT",
          "VEN",
          "VNM",
          "VIR",
          "PSE",
          "YEM",
          "ZMB",
          "ZWE"
         ],
         "type": "choropleth",
         "z": [
          507.103431871987,
          5353.2448564014,
          3973.96407191565,
          0,
          40886.3911648431,
          2790.72661520665,
          17112.8211347326,
          9912.28180859803,
          4622.73349328671,
          0,
          55060.3261005013,
          50137.6627762476,
          4793.58701966989,
          34863.7420984795,
          23503.977126673,
          1855.73982408046,
          18148.2449264001,
          6663.29529282582,
          46420.6637668061,
          4815.1637107951,
          1219.43267185875,
          117089.286273037,
          3316.17571350084,
          3552.0687602631,
          6108.51069581338,
          7961.32518123885,
          8717.18627810819,
          0,
          31086.7511188028,
          9828.14851478139,
          786.895631290168,
          261.247472515742,
          3603.78179304514,
          1643.12138876539,
          1507.45020591288,
          46194.7252255167,
          0,
          467.907440636335,
          709.540310138533,
          0,
          14896.4538665789,
          10216.6303341031,
          6428.67620562768,
          1370.14820676715,
          580.716867207745,
          2279.96913053355,
          12243.8114267607,
          2276.33327906444,
          14936.100547343,
          0,
          19689.13982339,
          27858.3709958327,
          23494.5962002944,
          60170.3426365069,
          3414.92486968779,
          8110.56851191655,
          8282.11635935324,
          6183.82382482173,
          3019.20582861756,
          4187.2500311069,
          8131.92388810912,
          0,
          23723.306112848,
          3894.67980685427,
          855.760862280838,
          0,
          6175.88872032104,
          48782.7884755091,
          40493.9285720456,
          0,
          7767.01340440788,
          777.811932084008,
          4697.7045759469,
          46445.2491012508,
          2202.11556738065,
          0,
          19582.5359794936,
          0,
          10808.6721222084,
          0,
          4619.98525821971,
          962.839908587778,
          697.294926856786,
          6609.58642503371,
          1272.4909246734,
          2574.91219067443,
          48713.4737481561,
          16731.8215139051,
          66944.8330769825,
          2099.59904810855,
          4135.56926281554,
          0,
          5955.10901036816,
          78660.9564629603,
          0,
          43592.0835823234,
          33228.2366803707,
          5582.26377755211,
          40246.8801284164,
          4405.48841230824,
          9812.39037613835,
          1816.5469164389,
          1655.07883905984,
          31846.2182324258,
          4417.5240622333,
          32000.4484691578,
          1309.39299165512,
          2534.89827991125,
          17828.8946571856,
          7583.69472170648,
          1118.13128380194,
          621.892953622715,
          7685.94926653003,
          0,
          19601.8908343885,
          114704.594170863,
          84096.3963112065,
          523.359064460847,
          411.552340423602,
          11414.2069765208,
          10626.513402239,
          879.008010446655,
          29820.6032474099,
          0,
          1679.44487300408,
          11099.2402835688,
          9946.03382879198,
          0,
          4503.51698538847,
          0,
          4339.84327925027,
          8908.93479246767,
          3204.09500313298,
          503.570772675202,
          1407.81314341043,
          4957.45822226408,
          9396.98196681072,
          1071.05076055404,
          52331.3167277797,
          0,
          42084.3533748088,
          1912.90374537869,
          553.89505038138,
          2229.85869624463,
          6022.21617939574,
          0,
          75419.6348688089,
          15343.0620043106,
          1284.70204090039,
          14901.9835314079,
          15731.0160348471,
          2829.17030896837,
          5414.79913793258,
          6977.69578355382,
          3485.08421835861,
          15692.5070255563,
          23252.0585181211,
          32873.7192730424,
          62088.0618276987,
          12919.5296441908,
          11584.9953826104,
          820.025241658159,
          4324.01401840457,
          0,
          1946.64361370086,
          23139.7986561214,
          1446.83096499408,
          7411.83611634734,
          17448.2702926831,
          527.533634399111,
          65233.2824392302,
          0,
          19266.2754990139,
          25946.1821852127,
          2373.63247042576,
          0,
          6001.40081394888,
          0,
          29600.3782526602,
          3853.08369288942,
          19934.9745323929,
          11611.4154473966,
          0,
          7457.50950382514,
          441.505603374484,
          6359.83361442737,
          51615.0206514946,
          81993.72712595,
          0,
          870.787589323223,
          1122.12181047515,
          7806.74221105532,
          1560.50982160188,
          679.290249091295,
          4903.15290276599,
          17397.9817601543,
          3317.4535932122,
          9126.56134585014,
          0,
          31353.3293184258,
          4059.02999569444,
          794.341077917102,
          3659.03131229487,
          43103.3230583165,
          42330.117537005,
          65297.517508274,
          16190.126957465,
          1724.8411344137,
          3115.35862043261,
          0,
          2715.27603640721,
          0,
          0,
          774.334489816721,
          1305.06325350544,
          1463.98591018054
         ]
        },
        {
         "colorbar": {
          "title": {
           "text": "Growth "
          }
         },
         "colorscale": [
          [
           0,
           "#053D8B"
          ],
          [
           0.25,
           "#1164B0"
          ],
          [
           0.5,
           "#298BC8"
          ],
          [
           0.75,
           "#3FB7DB"
          ],
          [
           1,
           "#5CD5E8"
          ]
         ],
         "customdata": [
          "Afghanistan",
          "Albania",
          "Algeria",
          "American Samoa",
          "Andorra",
          "Angola",
          "Antigua and Barbuda",
          "Argentina",
          "Armenia",
          "Aruba",
          "Australia",
          "Austria",
          "Azerbaijan",
          "Bahamas, The",
          "Bahrain",
          "Bangladesh",
          "Barbados",
          "Belarus",
          "Belgium",
          "Belize",
          "Benin",
          "Bermuda",
          "Bhutan",
          "Bolivia",
          "Bosnia and Herzegovina",
          "Botswana",
          "Brazil",
          "British Virgin Islands",
          "Brunei Darussalam",
          "Bulgaria",
          "Burkina Faso",
          "Burundi",
          "Cabo Verde",
          "Cambodia",
          "Cameroon",
          "Canada",
          "Cayman Islands",
          "Central African Republic",
          "Chad",
          "Channel Islands",
          "Chile",
          "China",
          "Colombia",
          "Comoros",
          "Congo, Dem. Rep.",
          "Congo, Rep.",
          "Costa Rica",
          "Cote d'Ivoire",
          "Croatia",
          "Cuba",
          "Curacao",
          "Cyprus",
          "Czech Republic",
          "Denmark",
          "Djibouti",
          "Dominica",
          "Dominican Republic",
          "Ecuador",
          "Egypt, Arab Rep.",
          "El Salvador",
          "Equatorial Guinea",
          "Eritrea",
          "Estonia",
          "Eswatini",
          "Ethiopia",
          "Faroe Islands",
          "Fiji",
          "Finland",
          "France",
          "French Polynesia",
          "Gabon",
          "Gambia, The",
          "Georgia",
          "Germany",
          "Ghana",
          "Gibraltar",
          "Greece",
          "Greenland",
          "Grenada",
          "Guam",
          "Guatemala",
          "Guinea",
          "Guinea-Bissau",
          "Guyana",
          "Haiti",
          "Honduras",
          "Hong Kong SAR, China",
          "Hungary",
          "Iceland",
          "India",
          "Indonesia",
          "Iran, Islamic Rep.",
          "Iraq",
          "Ireland",
          "Isle of Man",
          "Israel",
          "Italy",
          "Jamaica",
          "Japan",
          "Jordan",
          "Kazakhstan",
          "Kenya",
          "Kiribati",
          "Korea, Rep.",
          "Kosovo",
          "Kuwait",
          "Kyrgyz Republic",
          "Lao PDR",
          "Latvia",
          "Lebanon",
          "Lesotho",
          "Liberia",
          "Libya",
          "Liechtenstein",
          "Lithuania",
          "Luxembourg",
          "Macao SAR, China",
          "Madagascar",
          "Malawi",
          "Malaysia",
          "Maldives",
          "Mali",
          "Malta",
          "Marshall Islands",
          "Mauritania",
          "Mauritius",
          "Mexico",
          "Micronesia, Fed. Sts.",
          "Moldova",
          "Monaco",
          "Mongolia",
          "Montenegro",
          "Morocco",
          "Mozambique",
          "Myanmar",
          "Namibia",
          "Nauru",
          "Nepal",
          "Netherlands",
          "New Caledonia",
          "New Zealand",
          "Nicaragua",
          "Niger",
          "Nigeria",
          "North Macedonia",
          "Northern Mariana Islands",
          "Norway",
          "Oman",
          "Pakistan",
          "Palau",
          "Panama",
          "Papua New Guinea",
          "Paraguay",
          "Peru",
          "Philippines",
          "Poland",
          "Portugal",
          "Puerto Rico",
          "Qatar",
          "Romania",
          "Russian Federation",
          "Rwanda",
          "Samoa",
          "San Marino",
          "Sao Tome and Principe",
          "Saudi Arabia",
          "Senegal",
          "Serbia",
          "Seychelles",
          "Sierra Leone",
          "Singapore",
          "Sint Maarten (Dutch part)",
          "Slovak Republic",
          "Slovenia",
          "Solomon Islands",
          "Somalia",
          "South Africa",
          "South Sudan",
          "Spain",
          "Sri Lanka",
          "St. Kitts and Nevis",
          "St. Lucia",
          "St. Martin (French part)",
          "St. Vincent and the Grenadines",
          "Sudan",
          "Suriname",
          "Sweden",
          "Switzerland",
          "Syrian Arab Republic",
          "Tajikistan",
          "Tanzania",
          "Thailand",
          "Timor-Leste",
          "Togo",
          "Tonga",
          "Trinidad and Tobago",
          "Tunisia",
          "Turkey",
          "Turkmenistan",
          "Turks and Caicos Islands",
          "Tuvalu",
          "Uganda",
          "Ukraine",
          "United Arab Emirates",
          "United Kingdom",
          "United States",
          "Uruguay",
          "Uzbekistan",
          "Vanuatu",
          "Venezuela, RB",
          "Vietnam",
          "Virgin Islands (U.S.)",
          "West Bank and Gaza",
          "Yemen, Rep.",
          "Zambia",
          "Zimbabwe"
         ],
         "hovertemplate": "<b>%{customdata}: %{z:0.2f}%</b><extra></extra>",
         "locations": [
          "AFG",
          "ALB",
          "DZA",
          "ASM",
          "AND",
          "AGO",
          "ATG",
          "ARG",
          "ARM",
          "ABW",
          "AUS",
          "AUT",
          "AZE",
          "BHS",
          "BHR",
          "BGD",
          "BRB",
          "BLR",
          "BEL",
          "BLZ",
          "BEN",
          "BMU",
          "BTN",
          "BOL",
          "BIH",
          "BWA",
          "BRA",
          "VGB",
          "BRN",
          "BGR",
          "BFA",
          "BDI",
          "CPV",
          "KHM",
          "CMR",
          "CAN",
          "CYM",
          "CAF",
          "TCD",
          "CHI",
          "CHL",
          "CHN",
          "COL",
          "COM",
          "COD",
          "COG",
          "CRI",
          "CIV",
          "HRV",
          "CUB",
          "CUW",
          "CYP",
          "CZE",
          "DNK",
          "DJI",
          "DMA",
          "DOM",
          "ECU",
          "EGY",
          "SLV",
          "GNQ",
          "ERI",
          "EST",
          "SWZ",
          "ETH",
          "FRO",
          "FJI",
          "FIN",
          "FRA",
          "PYF",
          "GAB",
          "GMB",
          "GEO",
          "DEU",
          "GHA",
          "GIB",
          "GRC",
          "GRL",
          "GRD",
          "GUM",
          "GTM",
          "GIN",
          "GNB",
          "GUY",
          "HTI",
          "HND",
          "HKG",
          "HUN",
          "ISL",
          "IND",
          "IDN",
          "IRN",
          "IRQ",
          "IRL",
          "IMN",
          "ISR",
          "ITA",
          "JAM",
          "JPN",
          "JOR",
          "KAZ",
          "KEN",
          "KIR",
          "KOR",
          "XKX",
          "KWT",
          "KGZ",
          "LAO",
          "LVA",
          "LBN",
          "LSO",
          "LBR",
          "LBY",
          "LIE",
          "LTU",
          "LUX",
          "MAC",
          "MDG",
          "MWI",
          "MYS",
          "MDV",
          "MLI",
          "MLT",
          "MHL",
          "MRT",
          "MUS",
          "MEX",
          "FSM",
          "MDA",
          "MCO",
          "MNG",
          "MNE",
          "MAR",
          "MOZ",
          "MMR",
          "NAM",
          "NRU",
          "NPL",
          "NLD",
          "NCL",
          "NZL",
          "NIC",
          "NER",
          "NGA",
          "MKD",
          "MNP",
          "NOR",
          "OMN",
          "PAK",
          "PLW",
          "PAN",
          "PNG",
          "PRY",
          "PER",
          "PHL",
          "POL",
          "PRT",
          "PRI",
          "QAT",
          "ROU",
          "RUS",
          "RWA",
          "WSM",
          "SMR",
          "STP",
          "SAU",
          "SEN",
          "SRB",
          "SYC",
          "SLE",
          "SGP",
          "SXM",
          "SVK",
          "SVN",
          "SLB",
          "SOM",
          "ZAF",
          "SSD",
          "ESP",
          "LKA",
          "KNA",
          "LCA",
          "MAF",
          "VCT",
          "SDN",
          "SUR",
          "SWE",
          "CHE",
          "SYR",
          "TJK",
          "TZA",
          "THA",
          "TLS",
          "TGO",
          "TON",
          "TTO",
          "TUN",
          "TUR",
          "TKM",
          "TCA",
          "TUV",
          "UGA",
          "UKR",
          "ARE",
          "GBR",
          "USA",
          "URY",
          "UZB",
          "VUT",
          "VEN",
          "VNM",
          "VIR",
          "PSE",
          "YEM",
          "ZMB",
          "ZWE"
         ],
         "type": "choropleth",
         "visible": false,
         "z": [
          1.536912103353,
          2.6765495559812,
          -1.13069230350092,
          0,
          1.66967982731359,
          -3.79567393682294,
          3.76204918450082,
          -3.05585486148175,
          7.38336163622995,
          0,
          0.623892342440669,
          1.00120345260058,
          1.36668440801164,
          0.219421884388709,
          -2.6311785567359,
          7.031583836105,
          -0.229793192309359,
          1.40004793095767,
          1.23881502431848,
          -1.59691599397446,
          4.00320685655214,
          0.463033342062232,
          4.26239959585244,
          0.796551360122024,
          3.39137122882423,
          0.750498412768948,
          0.379344236418362,
          0,
          2.83278005455874,
          4.42679344343635,
          2.7354586182035,
          -1.29480274901135,
          4.48259658264438,
          5.51682776902354,
          1.07464958521595,
          0.218665438652721,
          0,
          1.26014601439419,
          0.209857602815163,
          0,
          -0.133968534486016,
          5.57184082825066,
          1.86865603969967,
          -0.238947820204075,
          1.11015950573636,
          -5.98478913945189,
          1.11059764822818,
          3.55773516239779,
          3.37335968182803,
          0,
          -2.01297464738667,
          1.86023575304719,
          1.95376176907109,
          2.4090782448896,
          6.14988827595155,
          3.29283276012443,
          3.95857057873576,
          -1.61236867338619,
          3.49204260671748,
          1.86186467319015,
          -8.84997542903925,
          0,
          4.6313358051262,
          1.18072097105167,
          5.60451097117264,
          0,
          -1.16910178015966,
          1.05778961227449,
          1.36634401246955,
          0,
          1.39466775004382,
          3.00277960141759,
          5.15637187856255,
          0.280856539279142,
          4.20043667238612,
          0,
          2.02829170259595,
          0,
          1.41473802694642,
          0,
          2.23709730660069,
          2.64871421309098,
          2.06187324115223,
          4.8465015042739,
          -2.9032134491157,
          0.982330294647582,
          -1.99135999336863,
          4.63829379787104,
          -0.504942741883411,
          3.1285322635574,
          3.87516568673441,
          -8.03621972155497,
          2.0738987189783,
          3.96638525133363,
          0,
          1.52301505683097,
          0.549676887570484,
          0.241496310220299,
          0.864738282426501,
          0.485101303729877,
          3.15984198114607,
          2.99893048296214,
          0.718080749798673,
          1.83715050522754,
          4.33637171376043,
          -1.23818355885089,
          2.3366844744131,
          3.07617991209106,
          2.8215723090065,
          -6.79237848783923,
          -1.60552238893249,
          -4.62158849206382,
          1.03992403176684,
          0,
          4.88918854315614,
          0.325616347333238,
          -6.0215138189858,
          2.10256967924882,
          1.64956233070851,
          2.92779819510062,
          3.91240021146916,
          1.65889049991847,
          1.1578432690636,
          0,
          3.06700486424904,
          2.98155626036728,
          -1.13936444823929,
          0,
          5.4673252345609,
          0,
          3.36708979681299,
          4.07799287270574,
          1.03639557284593,
          -0.647121134831266,
          2.24635567265847,
          -2.9681168453756,
          0.977664732533185,
          5.04337221556443,
          1.08360959707284,
          0,
          1.22196265261698,
          -5.05368913810146,
          1.96044390715198,
          -0.37972244679122,
          3.17518396090348,
          0,
          0.474165156577328,
          -4.52442110032591,
          -1.03979867523373,
          -4.78433485492398,
          1.31891833917265,
          3.85113316163242,
          -1.28673598517733,
          0.512493735175653,
          4.60400708158974,
          4.55159086742943,
          2.379383843146,
          1.17689113771422,
          -1.01824332485407,
          4.77679921355039,
          1.41073128207101,
          6.61203912702481,
          3.072436874875,
          0,
          -0.595756488525339,
          -1.33325637759941,
          2.4159365405914,
          4.81334877949715,
          4.3815569297975,
          3.30575180463244,
          -0.412794667941512,
          0,
          2.18003979032937,
          2.48990490572571,
          -1.36809491098798,
          0,
          -1.17914333260929,
          0,
          1.34586217089219,
          1.65952818770873,
          2.07198065070277,
          1.22740135414693,
          0,
          0.150517584700367,
          -4.85818348706569,
          -0.659543588502061,
          0.175669648263082,
          0.21669051227579,
          0,
          4.48344979009603,
          2.71989960453267,
          2.06500424921509,
          16.4147346009712,
          2.81972729075454,
          -0.516300498729535,
          -0.369473460045469,
          -0.0759717170890895,
          -0.425990320793701,
          0,
          3.87393497367768,
          8.45553586911447,
          3.07240172806394,
          3.82790195664884,
          0.225275018852898,
          0.894788653437061,
          1.67812540004495,
          -0.137889204124377,
          3.60039615002405,
          0.784575675968895,
          0,
          5.99486601019265,
          0,
          -1.5550254890432,
          -0.224606067057891,
          -1.45026413109588,
          -9.39546955217521
         ]
        }
       ],
       "layout": {
        "annotations": [
         {
          "showarrow": false,
          "text": "Source: World Bank",
          "x": 1,
          "xanchor": "right",
          "y": -0.05,
          "yanchor": "top"
         }
        ],
        "autosize": true,
        "geo": {
         "center": {
          "lat": 5.635136277562794,
          "lon": -13.091532064696452
         },
         "projection": {
          "rotation": {
           "lon": -13.091532064696452
          },
          "scale": 1.1080323478649272
         }
        },
        "template": {
         "data": {
          "bar": [
           {
            "error_x": {
             "color": "#2a3f5f"
            },
            "error_y": {
             "color": "#2a3f5f"
            },
            "marker": {
             "line": {
              "color": "#E5ECF6",
              "width": 0.5
             }
            },
            "type": "bar"
           }
          ],
          "barpolar": [
           {
            "marker": {
             "line": {
              "color": "#E5ECF6",
              "width": 0.5
             }
            },
            "type": "barpolar"
           }
          ],
          "carpet": [
           {
            "aaxis": {
             "endlinecolor": "#2a3f5f",
             "gridcolor": "white",
             "linecolor": "white",
             "minorgridcolor": "white",
             "startlinecolor": "#2a3f5f"
            },
            "baxis": {
             "endlinecolor": "#2a3f5f",
             "gridcolor": "white",
             "linecolor": "white",
             "minorgridcolor": "white",
             "startlinecolor": "#2a3f5f"
            },
            "type": "carpet"
           }
          ],
          "choropleth": [
           {
            "colorbar": {
             "outlinewidth": 0,
             "ticks": ""
            },
            "type": "choropleth"
           }
          ],
          "contour": [
           {
            "colorbar": {
             "outlinewidth": 0,
             "ticks": ""
            },
            "colorscale": [
             [
              0,
              "#0d0887"
             ],
             [
              0.1111111111111111,
              "#46039f"
             ],
             [
              0.2222222222222222,
              "#7201a8"
             ],
             [
              0.3333333333333333,
              "#9c179e"
             ],
             [
              0.4444444444444444,
              "#bd3786"
             ],
             [
              0.5555555555555556,
              "#d8576b"
             ],
             [
              0.6666666666666666,
              "#ed7953"
             ],
             [
              0.7777777777777778,
              "#fb9f3a"
             ],
             [
              0.8888888888888888,
              "#fdca26"
             ],
             [
              1,
              "#f0f921"
             ]
            ],
            "type": "contour"
           }
          ],
          "contourcarpet": [
           {
            "colorbar": {
             "outlinewidth": 0,
             "ticks": ""
            },
            "type": "contourcarpet"
           }
          ],
          "heatmap": [
           {
            "colorbar": {
             "outlinewidth": 0,
             "ticks": ""
            },
            "colorscale": [
             [
              0,
              "#0d0887"
             ],
             [
              0.1111111111111111,
              "#46039f"
             ],
             [
              0.2222222222222222,
              "#7201a8"
             ],
             [
              0.3333333333333333,
              "#9c179e"
             ],
             [
              0.4444444444444444,
              "#bd3786"
             ],
             [
              0.5555555555555556,
              "#d8576b"
             ],
             [
              0.6666666666666666,
              "#ed7953"
             ],
             [
              0.7777777777777778,
              "#fb9f3a"
             ],
             [
              0.8888888888888888,
              "#fdca26"
             ],
             [
              1,
              "#f0f921"
             ]
            ],
            "type": "heatmap"
           }
          ],
          "heatmapgl": [
           {
            "colorbar": {
             "outlinewidth": 0,
             "ticks": ""
            },
            "colorscale": [
             [
              0,
              "#0d0887"
             ],
             [
              0.1111111111111111,
              "#46039f"
             ],
             [
              0.2222222222222222,
              "#7201a8"
             ],
             [
              0.3333333333333333,
              "#9c179e"
             ],
             [
              0.4444444444444444,
              "#bd3786"
             ],
             [
              0.5555555555555556,
              "#d8576b"
             ],
             [
              0.6666666666666666,
              "#ed7953"
             ],
             [
              0.7777777777777778,
              "#fb9f3a"
             ],
             [
              0.8888888888888888,
              "#fdca26"
             ],
             [
              1,
              "#f0f921"
             ]
            ],
            "type": "heatmapgl"
           }
          ],
          "histogram": [
           {
            "marker": {
             "colorbar": {
              "outlinewidth": 0,
              "ticks": ""
             }
            },
            "type": "histogram"
           }
          ],
          "histogram2d": [
           {
            "colorbar": {
             "outlinewidth": 0,
             "ticks": ""
            },
            "colorscale": [
             [
              0,
              "#0d0887"
             ],
             [
              0.1111111111111111,
              "#46039f"
             ],
             [
              0.2222222222222222,
              "#7201a8"
             ],
             [
              0.3333333333333333,
              "#9c179e"
             ],
             [
              0.4444444444444444,
              "#bd3786"
             ],
             [
              0.5555555555555556,
              "#d8576b"
             ],
             [
              0.6666666666666666,
              "#ed7953"
             ],
             [
              0.7777777777777778,
              "#fb9f3a"
             ],
             [
              0.8888888888888888,
              "#fdca26"
             ],
             [
              1,
              "#f0f921"
             ]
            ],
            "type": "histogram2d"
           }
          ],
          "histogram2dcontour": [
           {
            "colorbar": {
             "outlinewidth": 0,
             "ticks": ""
            },
            "colorscale": [
             [
              0,
              "#0d0887"
             ],
             [
              0.1111111111111111,
              "#46039f"
             ],
             [
              0.2222222222222222,
              "#7201a8"
             ],
             [
              0.3333333333333333,
              "#9c179e"
             ],
             [
              0.4444444444444444,
              "#bd3786"
             ],
             [
              0.5555555555555556,
              "#d8576b"
             ],
             [
              0.6666666666666666,
              "#ed7953"
             ],
             [
              0.7777777777777778,
              "#fb9f3a"
             ],
             [
              0.8888888888888888,
              "#fdca26"
             ],
             [
              1,
              "#f0f921"
             ]
            ],
            "type": "histogram2dcontour"
           }
          ],
          "mesh3d": [
           {
            "colorbar": {
             "outlinewidth": 0,
             "ticks": ""
            },
            "type": "mesh3d"
           }
          ],
          "parcoords": [
           {
            "line": {
             "colorbar": {
              "outlinewidth": 0,
              "ticks": ""
             }
            },
            "type": "parcoords"
           }
          ],
          "pie": [
           {
            "automargin": true,
            "type": "pie"
           }
          ],
          "scatter": [
           {
            "marker": {
             "colorbar": {
              "outlinewidth": 0,
              "ticks": ""
             }
            },
            "type": "scatter"
           }
          ],
          "scatter3d": [
           {
            "line": {
             "colorbar": {
              "outlinewidth": 0,
              "ticks": ""
             }
            },
            "marker": {
             "colorbar": {
              "outlinewidth": 0,
              "ticks": ""
             }
            },
            "type": "scatter3d"
           }
          ],
          "scattercarpet": [
           {
            "marker": {
             "colorbar": {
              "outlinewidth": 0,
              "ticks": ""
             }
            },
            "type": "scattercarpet"
           }
          ],
          "scattergeo": [
           {
            "marker": {
             "colorbar": {
              "outlinewidth": 0,
              "ticks": ""
             }
            },
            "type": "scattergeo"
           }
          ],
          "scattergl": [
           {
            "marker": {
             "colorbar": {
              "outlinewidth": 0,
              "ticks": ""
             }
            },
            "type": "scattergl"
           }
          ],
          "scattermapbox": [
           {
            "marker": {
             "colorbar": {
              "outlinewidth": 0,
              "ticks": ""
             }
            },
            "type": "scattermapbox"
           }
          ],
          "scatterpolar": [
           {
            "marker": {
             "colorbar": {
              "outlinewidth": 0,
              "ticks": ""
             }
            },
            "type": "scatterpolar"
           }
          ],
          "scatterpolargl": [
           {
            "marker": {
             "colorbar": {
              "outlinewidth": 0,
              "ticks": ""
             }
            },
            "type": "scatterpolargl"
           }
          ],
          "scatterternary": [
           {
            "marker": {
             "colorbar": {
              "outlinewidth": 0,
              "ticks": ""
             }
            },
            "type": "scatterternary"
           }
          ],
          "surface": [
           {
            "colorbar": {
             "outlinewidth": 0,
             "ticks": ""
            },
            "colorscale": [
             [
              0,
              "#0d0887"
             ],
             [
              0.1111111111111111,
              "#46039f"
             ],
             [
              0.2222222222222222,
              "#7201a8"
             ],
             [
              0.3333333333333333,
              "#9c179e"
             ],
             [
              0.4444444444444444,
              "#bd3786"
             ],
             [
              0.5555555555555556,
              "#d8576b"
             ],
             [
              0.6666666666666666,
              "#ed7953"
             ],
             [
              0.7777777777777778,
              "#fb9f3a"
             ],
             [
              0.8888888888888888,
              "#fdca26"
             ],
             [
              1,
              "#f0f921"
             ]
            ],
            "type": "surface"
           }
          ],
          "table": [
           {
            "cells": {
             "fill": {
              "color": "#EBF0F8"
             },
             "line": {
              "color": "white"
             }
            },
            "header": {
             "fill": {
              "color": "#C8D4E3"
             },
             "line": {
              "color": "white"
             }
            },
            "type": "table"
           }
          ]
         },
         "layout": {
          "annotationdefaults": {
           "arrowcolor": "#2a3f5f",
           "arrowhead": 0,
           "arrowwidth": 1
          },
          "coloraxis": {
           "colorbar": {
            "outlinewidth": 0,
            "ticks": ""
           }
          },
          "colorscale": {
           "diverging": [
            [
             0,
             "#8e0152"
            ],
            [
             0.1,
             "#c51b7d"
            ],
            [
             0.2,
             "#de77ae"
            ],
            [
             0.3,
             "#f1b6da"
            ],
            [
             0.4,
             "#fde0ef"
            ],
            [
             0.5,
             "#f7f7f7"
            ],
            [
             0.6,
             "#e6f5d0"
            ],
            [
             0.7,
             "#b8e186"
            ],
            [
             0.8,
             "#7fbc41"
            ],
            [
             0.9,
             "#4d9221"
            ],
            [
             1,
             "#276419"
            ]
           ],
           "sequential": [
            [
             0,
             "#0d0887"
            ],
            [
             0.1111111111111111,
             "#46039f"
            ],
            [
             0.2222222222222222,
             "#7201a8"
            ],
            [
             0.3333333333333333,
             "#9c179e"
            ],
            [
             0.4444444444444444,
             "#bd3786"
            ],
            [
             0.5555555555555556,
             "#d8576b"
            ],
            [
             0.6666666666666666,
             "#ed7953"
            ],
            [
             0.7777777777777778,
             "#fb9f3a"
            ],
            [
             0.8888888888888888,
             "#fdca26"
            ],
            [
             1,
             "#f0f921"
            ]
           ],
           "sequentialminus": [
            [
             0,
             "#0d0887"
            ],
            [
             0.1111111111111111,
             "#46039f"
            ],
            [
             0.2222222222222222,
             "#7201a8"
            ],
            [
             0.3333333333333333,
             "#9c179e"
            ],
            [
             0.4444444444444444,
             "#bd3786"
            ],
            [
             0.5555555555555556,
             "#d8576b"
            ],
            [
             0.6666666666666666,
             "#ed7953"
            ],
            [
             0.7777777777777778,
             "#fb9f3a"
            ],
            [
             0.8888888888888888,
             "#fdca26"
            ],
            [
             1,
             "#f0f921"
            ]
           ]
          },
          "colorway": [
           "#636efa",
           "#EF553B",
           "#00cc96",
           "#ab63fa",
           "#FFA15A",
           "#19d3f3",
           "#FF6692",
           "#B6E880",
           "#FF97FF",
           "#FECB52"
          ],
          "font": {
           "color": "#2a3f5f"
          },
          "geo": {
           "bgcolor": "white",
           "lakecolor": "white",
           "landcolor": "#E5ECF6",
           "showlakes": true,
           "showland": true,
           "subunitcolor": "white"
          },
          "hoverlabel": {
           "align": "left"
          },
          "hovermode": "closest",
          "mapbox": {
           "style": "light"
          },
          "paper_bgcolor": "white",
          "plot_bgcolor": "#E5ECF6",
          "polar": {
           "angularaxis": {
            "gridcolor": "white",
            "linecolor": "white",
            "ticks": ""
           },
           "bgcolor": "#E5ECF6",
           "radialaxis": {
            "gridcolor": "white",
            "linecolor": "white",
            "ticks": ""
           }
          },
          "scene": {
           "xaxis": {
            "backgroundcolor": "#E5ECF6",
            "gridcolor": "white",
            "gridwidth": 2,
            "linecolor": "white",
            "showbackground": true,
            "ticks": "",
            "zerolinecolor": "white"
           },
           "yaxis": {
            "backgroundcolor": "#E5ECF6",
            "gridcolor": "white",
            "gridwidth": 2,
            "linecolor": "white",
            "showbackground": true,
            "ticks": "",
            "zerolinecolor": "white"
           },
           "zaxis": {
            "backgroundcolor": "#E5ECF6",
            "gridcolor": "white",
            "gridwidth": 2,
            "linecolor": "white",
            "showbackground": true,
            "ticks": "",
            "zerolinecolor": "white"
           }
          },
          "shapedefaults": {
           "line": {
            "color": "#2a3f5f"
           }
          },
          "ternary": {
           "aaxis": {
            "gridcolor": "white",
            "linecolor": "white",
            "ticks": ""
           },
           "baxis": {
            "gridcolor": "white",
            "linecolor": "white",
            "ticks": ""
           },
           "bgcolor": "#E5ECF6",
           "caxis": {
            "gridcolor": "white",
            "linecolor": "white",
            "ticks": ""
           }
          },
          "title": {
           "x": 0.05
          },
          "xaxis": {
           "automargin": true,
           "gridcolor": "white",
           "linecolor": "white",
           "ticks": "",
           "title": {
            "standoff": 15
           },
           "zerolinecolor": "white",
           "zerolinewidth": 2
          },
          "yaxis": {
           "automargin": true,
           "gridcolor": "white",
           "linecolor": "white",
           "ticks": "",
           "title": {
            "standoff": 15
           },
           "zerolinecolor": "white",
           "zerolinewidth": 2
          }
         }
        },
        "title": {
         "text": "GDP per capital in 2019",
         "x": 0.5,
         "y": 0.95
        },
        "updatemenus": [
         {
          "active": 0,
          "buttons": [
           {
            "args": [
             {
              "visible": [
               true,
               false
              ]
             },
             {
              "title": "GDP per capita in 2019"
             }
            ],
            "label": "GDP per capita",
            "method": "update"
           },
           {
            "args": [
             {
              "visible": [
               false,
               true
              ]
             },
             {
              "title": "GDP growth per capita in 2019"
             }
            ],
            "label": "GDP growth per capita",
            "method": "update"
           }
          ],
          "direction": "left",
          "showactive": true,
          "type": "buttons",
          "x": 0.32,
          "xanchor": "left",
          "y": 1.2,
          "yanchor": "top"
         }
        ]
       }
      },
      "image/png": "[encoded data removed]",
      "text/html": [
       "<div>                            <div id=\"b39ab756-fdfa-454a-84e4-b2e5ae622dcf\" class=\"plotly-graph-div\" style=\"height:525px; width:900px;\"></div>            <script type=\"text/javascript\">                require([\"plotly\"], function(Plotly) {                    window.PLOTLYENV=window.PLOTLYENV || {};                                    if (document.getElementById(\"b39ab756-fdfa-454a-84e4-b2e5ae622dcf\")) {                    Plotly.newPlot(                        \"b39ab756-fdfa-454a-84e4-b2e5ae622dcf\",                        [{\"colorbar\": {\"title\": {\"text\": \"Value\"}}, \"colorscale\": [[0, \"#053D8B\"], [0.25, \"#1164B0\"], [0.5, \"#298BC8\"], [0.75, \"#3FB7DB\"], [1, \"#5CD5E8\"]], \"customdata\": [\"Afghanistan\", \"Albania\", \"Algeria\", \"American Samoa\", \"Andorra\", \"Angola\", \"Antigua and Barbuda\", \"Argentina\", \"Armenia\", \"Aruba\", \"Australia\", \"Austria\", \"Azerbaijan\", \"Bahamas, The\", \"Bahrain\", \"Bangladesh\", \"Barbados\", \"Belarus\", \"Belgium\", \"Belize\", \"Benin\", \"Bermuda\", \"Bhutan\", \"Bolivia\", \"Bosnia and Herzegovina\", \"Botswana\", \"Brazil\", \"British Virgin Islands\", \"Brunei Darussalam\", \"Bulgaria\", \"Burkina Faso\", \"Burundi\", \"Cabo Verde\", \"Cambodia\", \"Cameroon\", \"Canada\", \"Cayman Islands\", \"Central African Republic\", \"Chad\", \"Channel Islands\", \"Chile\", \"China\", \"Colombia\", \"Comoros\", \"Congo, Dem. Rep.\", \"Congo, Rep.\", \"Costa Rica\", \"Cote d'Ivoire\", \"Croatia\", \"Cuba\", \"Curacao\", \"Cyprus\", \"Czech Republic\", \"Denmark\", \"Djibouti\", \"Dominica\", \"Dominican Republic\", \"Ecuador\", \"Egypt, Arab Rep.\", \"El Salvador\", \"Equatorial Guinea\", \"Eritrea\", \"Estonia\", \"Eswatini\", \"Ethiopia\", \"Faroe Islands\", \"Fiji\", \"Finland\", \"France\", \"French Polynesia\", \"Gabon\", \"Gambia, The\", \"Georgia\", \"Germany\", \"Ghana\", \"Gibraltar\", \"Greece\", \"Greenland\", \"Grenada\", \"Guam\", \"Guatemala\", \"Guinea\", \"Guinea-Bissau\", \"Guyana\", \"Haiti\", \"Honduras\", \"Hong Kong SAR, China\", \"Hungary\", \"Iceland\", \"India\", \"Indonesia\", \"Iran, Islamic Rep.\", \"Iraq\", \"Ireland\", \"Isle of Man\", \"Israel\", \"Italy\", \"Jamaica\", \"Japan\", \"Jordan\", \"Kazakhstan\", \"Kenya\", \"Kiribati\", \"Korea, Rep.\", \"Kosovo\", \"Kuwait\", \"Kyrgyz Republic\", \"Lao PDR\", \"Latvia\", \"Lebanon\", \"Lesotho\", \"Liberia\", \"Libya\", \"Liechtenstein\", \"Lithuania\", \"Luxembourg\", \"Macao SAR, China\", \"Madagascar\", \"Malawi\", \"Malaysia\", \"Maldives\", \"Mali\", \"Malta\", \"Marshall Islands\", \"Mauritania\", \"Mauritius\", \"Mexico\", \"Micronesia, Fed. Sts.\", \"Moldova\", \"Monaco\", \"Mongolia\", \"Montenegro\", \"Morocco\", \"Mozambique\", \"Myanmar\", \"Namibia\", \"Nauru\", \"Nepal\", \"Netherlands\", \"New Caledonia\", \"New Zealand\", \"Nicaragua\", \"Niger\", \"Nigeria\", \"North Macedonia\", \"Northern Mariana Islands\", \"Norway\", \"Oman\", \"Pakistan\", \"Palau\", \"Panama\", \"Papua New Guinea\", \"Paraguay\", \"Peru\", \"Philippines\", \"Poland\", \"Portugal\", \"Puerto Rico\", \"Qatar\", \"Romania\", \"Russian Federation\", \"Rwanda\", \"Samoa\", \"San Marino\", \"Sao Tome and Principe\", \"Saudi Arabia\", \"Senegal\", \"Serbia\", \"Seychelles\", \"Sierra Leone\", \"Singapore\", \"Sint Maarten (Dutch part)\", \"Slovak Republic\", \"Slovenia\", \"Solomon Islands\", \"Somalia\", \"South Africa\", \"South Sudan\", \"Spain\", \"Sri Lanka\", \"St. Kitts and Nevis\", \"St. Lucia\", \"St. Martin (French part)\", \"St. Vincent and the Grenadines\", \"Sudan\", \"Suriname\", \"Sweden\", \"Switzerland\", \"Syrian Arab Republic\", \"Tajikistan\", \"Tanzania\", \"Thailand\", \"Timor-Leste\", \"Togo\", \"Tonga\", \"Trinidad and Tobago\", \"Tunisia\", \"Turkey\", \"Turkmenistan\", \"Turks and Caicos Islands\", \"Tuvalu\", \"Uganda\", \"Ukraine\", \"United Arab Emirates\", \"United Kingdom\", \"United States\", \"Uruguay\", \"Uzbekistan\", \"Vanuatu\", \"Venezuela, RB\", \"Vietnam\", \"Virgin Islands (U.S.)\", \"West Bank and Gaza\", \"Yemen, Rep.\", \"Zambia\", \"Zimbabwe\"], \"hovertemplate\": \"<b>%{customdata}: %{z:,.0f}</b><extra></extra>\", \"locations\": [\"AFG\", \"ALB\", \"DZA\", \"ASM\", \"AND\", \"AGO\", \"ATG\", \"ARG\", \"ARM\", \"ABW\", \"AUS\", \"AUT\", \"AZE\", \"BHS\", \"BHR\", \"BGD\", \"BRB\", \"BLR\", \"BEL\", \"BLZ\", \"BEN\", \"BMU\", \"BTN\", \"BOL\", \"BIH\", \"BWA\", \"BRA\", \"VGB\", \"BRN\", \"BGR\", \"BFA\", \"BDI\", \"CPV\", \"KHM\", \"CMR\", \"CAN\", \"CYM\", \"CAF\", \"TCD\", \"CHI\", \"CHL\", \"CHN\", \"COL\", \"COM\", \"COD\", \"COG\", \"CRI\", \"CIV\", \"HRV\", \"CUB\", \"CUW\", \"CYP\", \"CZE\", \"DNK\", \"DJI\", \"DMA\", \"DOM\", \"ECU\", \"EGY\", \"SLV\", \"GNQ\", \"ERI\", \"EST\", \"SWZ\", \"ETH\", \"FRO\", \"FJI\", \"FIN\", \"FRA\", \"PYF\", \"GAB\", \"GMB\", \"GEO\", \"DEU\", \"GHA\", \"GIB\", \"GRC\", \"GRL\", \"GRD\", \"GUM\", \"GTM\", \"GIN\", \"GNB\", \"GUY\", \"HTI\", \"HND\", \"HKG\", \"HUN\", \"ISL\", \"IND\", \"IDN\", \"IRN\", \"IRQ\", \"IRL\", \"IMN\", \"ISR\", \"ITA\", \"JAM\", \"JPN\", \"JOR\", \"KAZ\", \"KEN\", \"KIR\", \"KOR\", \"XKX\", \"KWT\", \"KGZ\", \"LAO\", \"LVA\", \"LBN\", \"LSO\", \"LBR\", \"LBY\", \"LIE\", \"LTU\", \"LUX\", \"MAC\", \"MDG\", \"MWI\", \"MYS\", \"MDV\", \"MLI\", \"MLT\", \"MHL\", \"MRT\", \"MUS\", \"MEX\", \"FSM\", \"MDA\", \"MCO\", \"MNG\", \"MNE\", \"MAR\", \"MOZ\", \"MMR\", \"NAM\", \"NRU\", \"NPL\", \"NLD\", \"NCL\", \"NZL\", \"NIC\", \"NER\", \"NGA\", \"MKD\", \"MNP\", \"NOR\", \"OMN\", \"PAK\", \"PLW\", \"PAN\", \"PNG\", \"PRY\", \"PER\", \"PHL\", \"POL\", \"PRT\", \"PRI\", \"QAT\", \"ROU\", \"RUS\", \"RWA\", \"WSM\", \"SMR\", \"STP\", \"SAU\", \"SEN\", \"SRB\", \"SYC\", \"SLE\", \"SGP\", \"SXM\", \"SVK\", \"SVN\", \"SLB\", \"SOM\", \"ZAF\", \"SSD\", \"ESP\", \"LKA\", \"KNA\", \"LCA\", \"MAF\", \"VCT\", \"SDN\", \"SUR\", \"SWE\", \"CHE\", \"SYR\", \"TJK\", \"TZA\", \"THA\", \"TLS\", \"TGO\", \"TON\", \"TTO\", \"TUN\", \"TUR\", \"TKM\", \"TCA\", \"TUV\", \"UGA\", \"UKR\", \"ARE\", \"GBR\", \"USA\", \"URY\", \"UZB\", \"VUT\", \"VEN\", \"VNM\", \"VIR\", \"PSE\", \"YEM\", \"ZMB\", \"ZWE\"], \"type\": \"choropleth\", \"z\": [507.103431871987, 5353.2448564014, 3973.96407191565, 0.0, 40886.3911648431, 2790.72661520665, 17112.8211347326, 9912.28180859803, 4622.73349328671, 0.0, 55060.3261005013, 50137.6627762476, 4793.58701966989, 34863.7420984795, 23503.977126673, 1855.73982408046, 18148.2449264001, 6663.29529282582, 46420.6637668061, 4815.1637107951, 1219.43267185875, 117089.286273037, 3316.17571350084, 3552.0687602631, 6108.51069581338, 7961.32518123885, 8717.18627810819, 0.0, 31086.7511188028, 9828.14851478139, 786.895631290168, 261.247472515742, 3603.78179304514, 1643.12138876539, 1507.45020591288, 46194.7252255167, 0.0, 467.907440636335, 709.540310138533, 0.0, 14896.4538665789, 10216.6303341031, 6428.67620562768, 1370.14820676715, 580.716867207745, 2279.96913053355, 12243.8114267607, 2276.33327906444, 14936.100547343, 0.0, 19689.13982339, 27858.3709958327, 23494.5962002944, 60170.3426365069, 3414.92486968779, 8110.56851191655, 8282.11635935324, 6183.82382482173, 3019.20582861756, 4187.2500311069, 8131.92388810912, 0.0, 23723.306112848, 3894.67980685427, 855.760862280838, 0.0, 6175.88872032104, 48782.7884755091, 40493.9285720456, 0.0, 7767.01340440788, 777.811932084008, 4697.7045759469, 46445.2491012508, 2202.11556738065, 0.0, 19582.5359794936, 0.0, 10808.6721222084, 0.0, 4619.98525821971, 962.839908587778, 697.294926856786, 6609.58642503371, 1272.4909246734, 2574.91219067443, 48713.4737481561, 16731.8215139051, 66944.8330769825, 2099.59904810855, 4135.56926281554, 0.0, 5955.10901036816, 78660.9564629603, 0.0, 43592.0835823234, 33228.2366803707, 5582.26377755211, 40246.8801284164, 4405.48841230824, 9812.39037613835, 1816.5469164389, 1655.07883905984, 31846.2182324258, 4417.5240622333, 32000.4484691578, 1309.39299165512, 2534.89827991125, 17828.8946571856, 7583.69472170648, 1118.13128380194, 621.892953622715, 7685.94926653003, 0.0, 19601.8908343885, 114704.594170863, 84096.3963112065, 523.359064460847, 411.552340423602, 11414.2069765208, 10626.513402239, 879.008010446655, 29820.6032474099, 0.0, 1679.44487300408, 11099.2402835688, 9946.03382879198, 0.0, 4503.51698538847, 0.0, 4339.84327925027, 8908.93479246767, 3204.09500313298, 503.570772675202, 1407.81314341043, 4957.45822226408, 9396.98196681072, 1071.05076055404, 52331.3167277797, 0.0, 42084.3533748088, 1912.90374537869, 553.89505038138, 2229.85869624463, 6022.21617939574, 0.0, 75419.6348688089, 15343.0620043106, 1284.70204090039, 14901.9835314079, 15731.0160348471, 2829.17030896837, 5414.79913793258, 6977.69578355382, 3485.08421835861, 15692.5070255563, 23252.0585181211, 32873.7192730424, 62088.0618276987, 12919.5296441908, 11584.9953826104, 820.025241658159, 4324.01401840457, 0.0, 1946.64361370086, 23139.7986561214, 1446.83096499408, 7411.83611634734, 17448.2702926831, 527.533634399111, 65233.2824392302, 0.0, 19266.2754990139, 25946.1821852127, 2373.63247042576, 0.0, 6001.40081394888, 0.0, 29600.3782526602, 3853.08369288942, 19934.9745323929, 11611.4154473966, 0.0, 7457.50950382514, 441.505603374484, 6359.83361442737, 51615.0206514946, 81993.72712595, 0.0, 870.787589323223, 1122.12181047515, 7806.74221105532, 1560.50982160188, 679.290249091295, 4903.15290276599, 17397.9817601543, 3317.4535932122, 9126.56134585014, 0.0, 31353.3293184258, 4059.02999569444, 794.341077917102, 3659.03131229487, 43103.3230583165, 42330.117537005, 65297.517508274, 16190.126957465, 1724.8411344137, 3115.35862043261, 0.0, 2715.27603640721, 0.0, 0.0, 774.334489816721, 1305.06325350544, 1463.98591018054]}, {\"colorbar\": {\"title\": {\"text\": \"Growth \"}}, \"colorscale\": [[0, \"#053D8B\"], [0.25, \"#1164B0\"], [0.5, \"#298BC8\"], [0.75, \"#3FB7DB\"], [1, \"#5CD5E8\"]], \"customdata\": [\"Afghanistan\", \"Albania\", \"Algeria\", \"American Samoa\", \"Andorra\", \"Angola\", \"Antigua and Barbuda\", \"Argentina\", \"Armenia\", \"Aruba\", \"Australia\", \"Austria\", \"Azerbaijan\", \"Bahamas, The\", \"Bahrain\", \"Bangladesh\", \"Barbados\", \"Belarus\", \"Belgium\", \"Belize\", \"Benin\", \"Bermuda\", \"Bhutan\", \"Bolivia\", \"Bosnia and Herzegovina\", \"Botswana\", \"Brazil\", \"British Virgin Islands\", \"Brunei Darussalam\", \"Bulgaria\", \"Burkina Faso\", \"Burundi\", \"Cabo Verde\", \"Cambodia\", \"Cameroon\", \"Canada\", \"Cayman Islands\", \"Central African Republic\", \"Chad\", \"Channel Islands\", \"Chile\", \"China\", \"Colombia\", \"Comoros\", \"Congo, Dem. Rep.\", \"Congo, Rep.\", \"Costa Rica\", \"Cote d'Ivoire\", \"Croatia\", \"Cuba\", \"Curacao\", \"Cyprus\", \"Czech Republic\", \"Denmark\", \"Djibouti\", \"Dominica\", \"Dominican Republic\", \"Ecuador\", \"Egypt, Arab Rep.\", \"El Salvador\", \"Equatorial Guinea\", \"Eritrea\", \"Estonia\", \"Eswatini\", \"Ethiopia\", \"Faroe Islands\", \"Fiji\", \"Finland\", \"France\", \"French Polynesia\", \"Gabon\", \"Gambia, The\", \"Georgia\", \"Germany\", \"Ghana\", \"Gibraltar\", \"Greece\", \"Greenland\", \"Grenada\", \"Guam\", \"Guatemala\", \"Guinea\", \"Guinea-Bissau\", \"Guyana\", \"Haiti\", \"Honduras\", \"Hong Kong SAR, China\", \"Hungary\", \"Iceland\", \"India\", \"Indonesia\", \"Iran, Islamic Rep.\", \"Iraq\", \"Ireland\", \"Isle of Man\", \"Israel\", \"Italy\", \"Jamaica\", \"Japan\", \"Jordan\", \"Kazakhstan\", \"Kenya\", \"Kiribati\", \"Korea, Rep.\", \"Kosovo\", \"Kuwait\", \"Kyrgyz Republic\", \"Lao PDR\", \"Latvia\", \"Lebanon\", \"Lesotho\", \"Liberia\", \"Libya\", \"Liechtenstein\", \"Lithuania\", \"Luxembourg\", \"Macao SAR, China\", \"Madagascar\", \"Malawi\", \"Malaysia\", \"Maldives\", \"Mali\", \"Malta\", \"Marshall Islands\", \"Mauritania\", \"Mauritius\", \"Mexico\", \"Micronesia, Fed. Sts.\", \"Moldova\", \"Monaco\", \"Mongolia\", \"Montenegro\", \"Morocco\", \"Mozambique\", \"Myanmar\", \"Namibia\", \"Nauru\", \"Nepal\", \"Netherlands\", \"New Caledonia\", \"New Zealand\", \"Nicaragua\", \"Niger\", \"Nigeria\", \"North Macedonia\", \"Northern Mariana Islands\", \"Norway\", \"Oman\", \"Pakistan\", \"Palau\", \"Panama\", \"Papua New Guinea\", \"Paraguay\", \"Peru\", \"Philippines\", \"Poland\", \"Portugal\", \"Puerto Rico\", \"Qatar\", \"Romania\", \"Russian Federation\", \"Rwanda\", \"Samoa\", \"San Marino\", \"Sao Tome and Principe\", \"Saudi Arabia\", \"Senegal\", \"Serbia\", \"Seychelles\", \"Sierra Leone\", \"Singapore\", \"Sint Maarten (Dutch part)\", \"Slovak Republic\", \"Slovenia\", \"Solomon Islands\", \"Somalia\", \"South Africa\", \"South Sudan\", \"Spain\", \"Sri Lanka\", \"St. Kitts and Nevis\", \"St. Lucia\", \"St. Martin (French part)\", \"St. Vincent and the Grenadines\", \"Sudan\", \"Suriname\", \"Sweden\", \"Switzerland\", \"Syrian Arab Republic\", \"Tajikistan\", \"Tanzania\", \"Thailand\", \"Timor-Leste\", \"Togo\", \"Tonga\", \"Trinidad and Tobago\", \"Tunisia\", \"Turkey\", \"Turkmenistan\", \"Turks and Caicos Islands\", \"Tuvalu\", \"Uganda\", \"Ukraine\", \"United Arab Emirates\", \"United Kingdom\", \"United States\", \"Uruguay\", \"Uzbekistan\", \"Vanuatu\", \"Venezuela, RB\", \"Vietnam\", \"Virgin Islands (U.S.)\", \"West Bank and Gaza\", \"Yemen, Rep.\", \"Zambia\", \"Zimbabwe\"], \"hovertemplate\": \"<b>%{customdata}: %{z:0.2f}%</b><extra></extra>\", \"locations\": [\"AFG\", \"ALB\", \"DZA\", \"ASM\", \"AND\", \"AGO\", \"ATG\", \"ARG\", \"ARM\", \"ABW\", \"AUS\", \"AUT\", \"AZE\", \"BHS\", \"BHR\", \"BGD\", \"BRB\", \"BLR\", \"BEL\", \"BLZ\", \"BEN\", \"BMU\", \"BTN\", \"BOL\", \"BIH\", \"BWA\", \"BRA\", \"VGB\", \"BRN\", \"BGR\", \"BFA\", \"BDI\", \"CPV\", \"KHM\", \"CMR\", \"CAN\", \"CYM\", \"CAF\", \"TCD\", \"CHI\", \"CHL\", \"CHN\", \"COL\", \"COM\", \"COD\", \"COG\", \"CRI\", \"CIV\", \"HRV\", \"CUB\", \"CUW\", \"CYP\", \"CZE\", \"DNK\", \"DJI\", \"DMA\", \"DOM\", \"ECU\", \"EGY\", \"SLV\", \"GNQ\", \"ERI\", \"EST\", \"SWZ\", \"ETH\", \"FRO\", \"FJI\", \"FIN\", \"FRA\", \"PYF\", \"GAB\", \"GMB\", \"GEO\", \"DEU\", \"GHA\", \"GIB\", \"GRC\", \"GRL\", \"GRD\", \"GUM\", \"GTM\", \"GIN\", \"GNB\", \"GUY\", \"HTI\", \"HND\", \"HKG\", \"HUN\", \"ISL\", \"IND\", \"IDN\", \"IRN\", \"IRQ\", \"IRL\", \"IMN\", \"ISR\", \"ITA\", \"JAM\", \"JPN\", \"JOR\", \"KAZ\", \"KEN\", \"KIR\", \"KOR\", \"XKX\", \"KWT\", \"KGZ\", \"LAO\", \"LVA\", \"LBN\", \"LSO\", \"LBR\", \"LBY\", \"LIE\", \"LTU\", \"LUX\", \"MAC\", \"MDG\", \"MWI\", \"MYS\", \"MDV\", \"MLI\", \"MLT\", \"MHL\", \"MRT\", \"MUS\", \"MEX\", \"FSM\", \"MDA\", \"MCO\", \"MNG\", \"MNE\", \"MAR\", \"MOZ\", \"MMR\", \"NAM\", \"NRU\", \"NPL\", \"NLD\", \"NCL\", \"NZL\", \"NIC\", \"NER\", \"NGA\", \"MKD\", \"MNP\", \"NOR\", \"OMN\", \"PAK\", \"PLW\", \"PAN\", \"PNG\", \"PRY\", \"PER\", \"PHL\", \"POL\", \"PRT\", \"PRI\", \"QAT\", \"ROU\", \"RUS\", \"RWA\", \"WSM\", \"SMR\", \"STP\", \"SAU\", \"SEN\", \"SRB\", \"SYC\", \"SLE\", \"SGP\", \"SXM\", \"SVK\", \"SVN\", \"SLB\", \"SOM\", \"ZAF\", \"SSD\", \"ESP\", \"LKA\", \"KNA\", \"LCA\", \"MAF\", \"VCT\", \"SDN\", \"SUR\", \"SWE\", \"CHE\", \"SYR\", \"TJK\", \"TZA\", \"THA\", \"TLS\", \"TGO\", \"TON\", \"TTO\", \"TUN\", \"TUR\", \"TKM\", \"TCA\", \"TUV\", \"UGA\", \"UKR\", \"ARE\", \"GBR\", \"USA\", \"URY\", \"UZB\", \"VUT\", \"VEN\", \"VNM\", \"VIR\", \"PSE\", \"YEM\", \"ZMB\", \"ZWE\"], \"type\": \"choropleth\", \"visible\": false, \"z\": [1.536912103353, 2.6765495559812, -1.13069230350092, 0.0, 1.66967982731359, -3.79567393682294, 3.76204918450082, -3.05585486148175, 7.38336163622995, 0.0, 0.623892342440669, 1.00120345260058, 1.36668440801164, 0.219421884388709, -2.6311785567359, 7.031583836105, -0.229793192309359, 1.40004793095767, 1.23881502431848, -1.59691599397446, 4.00320685655214, 0.463033342062232, 4.26239959585244, 0.796551360122024, 3.39137122882423, 0.750498412768948, 0.379344236418362, 0.0, 2.83278005455874, 4.42679344343635, 2.7354586182035, -1.29480274901135, 4.48259658264438, 5.51682776902354, 1.07464958521595, 0.218665438652721, 0.0, 1.26014601439419, 0.209857602815163, 0.0, -0.133968534486016, 5.57184082825066, 1.86865603969967, -0.238947820204075, 1.11015950573636, -5.98478913945189, 1.11059764822818, 3.55773516239779, 3.37335968182803, 0.0, -2.01297464738667, 1.86023575304719, 1.95376176907109, 2.4090782448896, 6.14988827595155, 3.29283276012443, 3.95857057873576, -1.61236867338619, 3.49204260671748, 1.86186467319015, -8.84997542903925, 0.0, 4.6313358051262, 1.18072097105167, 5.60451097117264, 0.0, -1.16910178015966, 1.05778961227449, 1.36634401246955, 0.0, 1.39466775004382, 3.00277960141759, 5.15637187856255, 0.280856539279142, 4.20043667238612, 0.0, 2.02829170259595, 0.0, 1.41473802694642, 0.0, 2.23709730660069, 2.64871421309098, 2.06187324115223, 4.8465015042739, -2.9032134491157, 0.982330294647582, -1.99135999336863, 4.63829379787104, -0.504942741883411, 3.1285322635574, 3.87516568673441, -8.03621972155497, 2.0738987189783, 3.96638525133363, 0.0, 1.52301505683097, 0.549676887570484, 0.241496310220299, 0.864738282426501, 0.485101303729877, 3.15984198114607, 2.99893048296214, 0.718080749798673, 1.83715050522754, 4.33637171376043, -1.23818355885089, 2.3366844744131, 3.07617991209106, 2.8215723090065, -6.79237848783923, -1.60552238893249, -4.62158849206382, 1.03992403176684, 0.0, 4.88918854315614, 0.325616347333238, -6.0215138189858, 2.10256967924882, 1.64956233070851, 2.92779819510062, 3.91240021146916, 1.65889049991847, 1.1578432690636, 0.0, 3.06700486424904, 2.98155626036728, -1.13936444823929, 0.0, 5.4673252345609, 0.0, 3.36708979681299, 4.07799287270574, 1.03639557284593, -0.647121134831266, 2.24635567265847, -2.9681168453756, 0.977664732533185, 5.04337221556443, 1.08360959707284, 0.0, 1.22196265261698, -5.05368913810146, 1.96044390715198, -0.37972244679122, 3.17518396090348, 0.0, 0.474165156577328, -4.52442110032591, -1.03979867523373, -4.78433485492398, 1.31891833917265, 3.85113316163242, -1.28673598517733, 0.512493735175653, 4.60400708158974, 4.55159086742943, 2.379383843146, 1.17689113771422, -1.01824332485407, 4.77679921355039, 1.41073128207101, 6.61203912702481, 3.072436874875, 0.0, -0.595756488525339, -1.33325637759941, 2.4159365405914, 4.81334877949715, 4.3815569297975, 3.30575180463244, -0.412794667941512, 0.0, 2.18003979032937, 2.48990490572571, -1.36809491098798, 0.0, -1.17914333260929, 0.0, 1.34586217089219, 1.65952818770873, 2.07198065070277, 1.22740135414693, 0.0, 0.150517584700367, -4.85818348706569, -0.659543588502061, 0.175669648263082, 0.21669051227579, 0.0, 4.48344979009603, 2.71989960453267, 2.06500424921509, 16.4147346009712, 2.81972729075454, -0.516300498729535, -0.369473460045469, -0.0759717170890895, -0.425990320793701, 0.0, 3.87393497367768, 8.45553586911447, 3.07240172806394, 3.82790195664884, 0.225275018852898, 0.894788653437061, 1.67812540004495, -0.137889204124377, 3.60039615002405, 0.784575675968895, 0.0, 5.99486601019265, 0.0, -1.5550254890432, -0.224606067057891, -1.45026413109588, -9.39546955217521]}],                        {\"annotations\": [{\"showarrow\": false, \"text\": \"Source: World Bank\", \"x\": 1, \"xanchor\": \"right\", \"y\": -0.05, \"yanchor\": \"top\"}], \"autosize\": true, \"template\": {\"data\": {\"bar\": [{\"error_x\": {\"color\": \"#2a3f5f\"}, \"error_y\": {\"color\": \"#2a3f5f\"}, \"marker\": {\"line\": {\"color\": \"#E5ECF6\", \"width\": 0.5}}, \"type\": \"bar\"}], \"barpolar\": [{\"marker\": {\"line\": {\"color\": \"#E5ECF6\", \"width\": 0.5}}, \"type\": \"barpolar\"}], \"carpet\": [{\"aaxis\": {\"endlinecolor\": \"#2a3f5f\", \"gridcolor\": \"white\", \"linecolor\": \"white\", \"minorgridcolor\": \"white\", \"startlinecolor\": \"#2a3f5f\"}, \"baxis\": {\"endlinecolor\": \"#2a3f5f\", \"gridcolor\": \"white\", \"linecolor\": \"white\", \"minorgridcolor\": \"white\", \"startlinecolor\": \"#2a3f5f\"}, \"type\": \"carpet\"}], \"choropleth\": [{\"colorbar\": {\"outlinewidth\": 0, \"ticks\": \"\"}, \"type\": \"choropleth\"}], \"contour\": [{\"colorbar\": {\"outlinewidth\": 0, \"ticks\": \"\"}, \"colorscale\": [[0.0, \"#0d0887\"], [0.1111111111111111, \"#46039f\"], [0.2222222222222222, \"#7201a8\"], [0.3333333333333333, \"#9c179e\"], [0.4444444444444444, \"#bd3786\"], [0.5555555555555556, \"#d8576b\"], [0.6666666666666666, \"#ed7953\"], [0.7777777777777778, \"#fb9f3a\"], [0.8888888888888888, \"#fdca26\"], [1.0, \"#f0f921\"]], \"type\": \"contour\"}], \"contourcarpet\": [{\"colorbar\": {\"outlinewidth\": 0, \"ticks\": \"\"}, \"type\": \"contourcarpet\"}], \"heatmap\": [{\"colorbar\": {\"outlinewidth\": 0, \"ticks\": \"\"}, \"colorscale\": [[0.0, \"#0d0887\"], [0.1111111111111111, \"#46039f\"], [0.2222222222222222, \"#7201a8\"], [0.3333333333333333, \"#9c179e\"], [0.4444444444444444, \"#bd3786\"], [0.5555555555555556, \"#d8576b\"], [0.6666666666666666, \"#ed7953\"], [0.7777777777777778, \"#fb9f3a\"], [0.8888888888888888, \"#fdca26\"], [1.0, \"#f0f921\"]], \"type\": \"heatmap\"}], \"heatmapgl\": [{\"colorbar\": {\"outlinewidth\": 0, \"ticks\": \"\"}, \"colorscale\": [[0.0, \"#0d0887\"], [0.1111111111111111, \"#46039f\"], [0.2222222222222222, \"#7201a8\"], [0.3333333333333333, \"#9c179e\"], [0.4444444444444444, \"#bd3786\"], [0.5555555555555556, \"#d8576b\"], [0.6666666666666666, \"#ed7953\"], [0.7777777777777778, \"#fb9f3a\"], [0.8888888888888888, \"#fdca26\"], [1.0, \"#f0f921\"]], \"type\": \"heatmapgl\"}], \"histogram\": [{\"marker\": {\"colorbar\": {\"outlinewidth\": 0, \"ticks\": \"\"}}, \"type\": \"histogram\"}], \"histogram2d\": [{\"colorbar\": {\"outlinewidth\": 0, \"ticks\": \"\"}, \"colorscale\": [[0.0, \"#0d0887\"], [0.1111111111111111, \"#46039f\"], [0.2222222222222222, \"#7201a8\"], [0.3333333333333333, \"#9c179e\"], [0.4444444444444444, \"#bd3786\"], [0.5555555555555556, \"#d8576b\"], [0.6666666666666666, \"#ed7953\"], [0.7777777777777778, \"#fb9f3a\"], [0.8888888888888888, \"#fdca26\"], [1.0, \"#f0f921\"]], \"type\": \"histogram2d\"}], \"histogram2dcontour\": [{\"colorbar\": {\"outlinewidth\": 0, \"ticks\": \"\"}, \"colorscale\": [[0.0, \"#0d0887\"], [0.1111111111111111, \"#46039f\"], [0.2222222222222222, \"#7201a8\"], [0.3333333333333333, \"#9c179e\"], [0.4444444444444444, \"#bd3786\"], [0.5555555555555556, \"#d8576b\"], [0.6666666666666666, \"#ed7953\"], [0.7777777777777778, \"#fb9f3a\"], [0.8888888888888888, \"#fdca26\"], [1.0, \"#f0f921\"]], \"type\": \"histogram2dcontour\"}], \"mesh3d\": [{\"colorbar\": {\"outlinewidth\": 0, \"ticks\": \"\"}, \"type\": \"mesh3d\"}], \"parcoords\": [{\"line\": {\"colorbar\": {\"outlinewidth\": 0, \"ticks\": \"\"}}, \"type\": \"parcoords\"}], \"pie\": [{\"automargin\": true, \"type\": \"pie\"}], \"scatter\": [{\"marker\": {\"colorbar\": {\"outlinewidth\": 0, \"ticks\": \"\"}}, \"type\": \"scatter\"}], \"scatter3d\": [{\"line\": {\"colorbar\": {\"outlinewidth\": 0, \"ticks\": \"\"}}, \"marker\": {\"colorbar\": {\"outlinewidth\": 0, \"ticks\": \"\"}}, \"type\": \"scatter3d\"}], \"scattercarpet\": [{\"marker\": {\"colorbar\": {\"outlinewidth\": 0, \"ticks\": \"\"}}, \"type\": \"scattercarpet\"}], \"scattergeo\": [{\"marker\": {\"colorbar\": {\"outlinewidth\": 0, \"ticks\": \"\"}}, \"type\": \"scattergeo\"}], \"scattergl\": [{\"marker\": {\"colorbar\": {\"outlinewidth\": 0, \"ticks\": \"\"}}, \"type\": \"scattergl\"}], \"scattermapbox\": [{\"marker\": {\"colorbar\": {\"outlinewidth\": 0, \"ticks\": \"\"}}, \"type\": \"scattermapbox\"}], \"scatterpolar\": [{\"marker\": {\"colorbar\": {\"outlinewidth\": 0, \"ticks\": \"\"}}, \"type\": \"scatterpolar\"}], \"scatterpolargl\": [{\"marker\": {\"colorbar\": {\"outlinewidth\": 0, \"ticks\": \"\"}}, \"type\": \"scatterpolargl\"}], \"scatterternary\": [{\"marker\": {\"colorbar\": {\"outlinewidth\": 0, \"ticks\": \"\"}}, \"type\": \"scatterternary\"}], \"surface\": [{\"colorbar\": {\"outlinewidth\": 0, \"ticks\": \"\"}, \"colorscale\": [[0.0, \"#0d0887\"], [0.1111111111111111, \"#46039f\"], [0.2222222222222222, \"#7201a8\"], [0.3333333333333333, \"#9c179e\"], [0.4444444444444444, \"#bd3786\"], [0.5555555555555556, \"#d8576b\"], [0.6666666666666666, \"#ed7953\"], [0.7777777777777778, \"#fb9f3a\"], [0.8888888888888888, \"#fdca26\"], [1.0, \"#f0f921\"]], \"type\": \"surface\"}], \"table\": [{\"cells\": {\"fill\": {\"color\": \"#EBF0F8\"}, \"line\": {\"color\": \"white\"}}, \"header\": {\"fill\": {\"color\": \"#C8D4E3\"}, \"line\": {\"color\": \"white\"}}, \"type\": \"table\"}]}, \"layout\": {\"annotationdefaults\": {\"arrowcolor\": \"#2a3f5f\", \"arrowhead\": 0, \"arrowwidth\": 1}, \"coloraxis\": {\"colorbar\": {\"outlinewidth\": 0, \"ticks\": \"\"}}, \"colorscale\": {\"diverging\": [[0, \"#8e0152\"], [0.1, \"#c51b7d\"], [0.2, \"#de77ae\"], [0.3, \"#f1b6da\"], [0.4, \"#fde0ef\"], [0.5, \"#f7f7f7\"], [0.6, \"#e6f5d0\"], [0.7, \"#b8e186\"], [0.8, \"#7fbc41\"], [0.9, \"#4d9221\"], [1, \"#276419\"]], \"sequential\": [[0.0, \"#0d0887\"], [0.1111111111111111, \"#46039f\"], [0.2222222222222222, \"#7201a8\"], [0.3333333333333333, \"#9c179e\"], [0.4444444444444444, \"#bd3786\"], [0.5555555555555556, \"#d8576b\"], [0.6666666666666666, \"#ed7953\"], [0.7777777777777778, \"#fb9f3a\"], [0.8888888888888888, \"#fdca26\"], [1.0, \"#f0f921\"]], \"sequentialminus\": [[0.0, \"#0d0887\"], [0.1111111111111111, \"#46039f\"], [0.2222222222222222, \"#7201a8\"], [0.3333333333333333, \"#9c179e\"], [0.4444444444444444, \"#bd3786\"], [0.5555555555555556, \"#d8576b\"], [0.6666666666666666, \"#ed7953\"], [0.7777777777777778, \"#fb9f3a\"], [0.8888888888888888, \"#fdca26\"], [1.0, \"#f0f921\"]]}, \"colorway\": [\"#636efa\", \"#EF553B\", \"#00cc96\", \"#ab63fa\", \"#FFA15A\", \"#19d3f3\", \"#FF6692\", \"#B6E880\", \"#FF97FF\", \"#FECB52\"], \"font\": {\"color\": \"#2a3f5f\"}, \"geo\": {\"bgcolor\": \"white\", \"lakecolor\": \"white\", \"landcolor\": \"#E5ECF6\", \"showlakes\": true, \"showland\": true, \"subunitcolor\": \"white\"}, \"hoverlabel\": {\"align\": \"left\"}, \"hovermode\": \"closest\", \"mapbox\": {\"style\": \"light\"}, \"paper_bgcolor\": \"white\", \"plot_bgcolor\": \"#E5ECF6\", \"polar\": {\"angularaxis\": {\"gridcolor\": \"white\", \"linecolor\": \"white\", \"ticks\": \"\"}, \"bgcolor\": \"#E5ECF6\", \"radialaxis\": {\"gridcolor\": \"white\", \"linecolor\": \"white\", \"ticks\": \"\"}}, \"scene\": {\"xaxis\": {\"backgroundcolor\": \"#E5ECF6\", \"gridcolor\": \"white\", \"gridwidth\": 2, \"linecolor\": \"white\", \"showbackground\": true, \"ticks\": \"\", \"zerolinecolor\": \"white\"}, \"yaxis\": {\"backgroundcolor\": \"#E5ECF6\", \"gridcolor\": \"white\", \"gridwidth\": 2, \"linecolor\": \"white\", \"showbackground\": true, \"ticks\": \"\", \"zerolinecolor\": \"white\"}, \"zaxis\": {\"backgroundcolor\": \"#E5ECF6\", \"gridcolor\": \"white\", \"gridwidth\": 2, \"linecolor\": \"white\", \"showbackground\": true, \"ticks\": \"\", \"zerolinecolor\": \"white\"}}, \"shapedefaults\": {\"line\": {\"color\": \"#2a3f5f\"}}, \"ternary\": {\"aaxis\": {\"gridcolor\": \"white\", \"linecolor\": \"white\", \"ticks\": \"\"}, \"baxis\": {\"gridcolor\": \"white\", \"linecolor\": \"white\", \"ticks\": \"\"}, \"bgcolor\": \"#E5ECF6\", \"caxis\": {\"gridcolor\": \"white\", \"linecolor\": \"white\", \"ticks\": \"\"}}, \"title\": {\"x\": 0.05}, \"xaxis\": {\"automargin\": true, \"gridcolor\": \"white\", \"linecolor\": \"white\", \"ticks\": \"\", \"title\": {\"standoff\": 15}, \"zerolinecolor\": \"white\", \"zerolinewidth\": 2}, \"yaxis\": {\"automargin\": true, \"gridcolor\": \"white\", \"linecolor\": \"white\", \"ticks\": \"\", \"title\": {\"standoff\": 15}, \"zerolinecolor\": \"white\", \"zerolinewidth\": 2}}}, \"title\": {\"text\": \"GDP per capital in 2019\", \"x\": 0.5, \"y\": 0.95}, \"updatemenus\": [{\"active\": 0, \"buttons\": [{\"args\": [{\"visible\": [true, false]}, {\"title\": \"GDP per capita in 2019\"}], \"label\": \"GDP per capita\", \"method\": \"update\"}, {\"args\": [{\"visible\": [false, true]}, {\"title\": \"GDP growth per capita in 2019\"}], \"label\": \"GDP growth per capita\", \"method\": \"update\"}], \"direction\": \"left\", \"showactive\": true, \"type\": \"buttons\", \"x\": 0.32, \"xanchor\": \"left\", \"y\": 1.2, \"yanchor\": \"top\"}], \"width\": 900},                        {\"responsive\": true}                    ).then(function(){\n",
       "                            \n",
       "var gd = document.getElementById('b39ab756-fdfa-454a-84e4-b2e5ae622dcf');\n",
       "var x = new MutationObserver(function (mutations, observer) {{\n",
       "        var display = window.getComputedStyle(gd).display;\n",
       "        if (!display || display === 'none') {{\n",
       "            console.log([gd, 'removed!']);\n",
       "            Plotly.purge(gd);\n",
       "            observer.disconnect();\n",
       "        }}\n",
       "}});\n",
       "\n",
       "// Listen for the removal of the full notebook cells\n",
       "var notebookContainer = gd.closest('#notebook-container');\n",
       "if (notebookContainer) {{\n",
       "    x.observe(notebookContainer, {childList: true});\n",
       "}}\n",
       "\n",
       "// Listen for the clearing of the current output cell\n",
       "var outputEl = gd.closest('.output');\n",
       "if (outputEl) {{\n",
       "    x.observe(outputEl, {childList: true});\n",
       "}}\n",
       "\n",
       "                        })                };                });            </script>        </div>"
      ]
     },
     "metadata": {},
     "output_type": "display_data"
    }
   ],
   "source": [
    "master_year_table = master_table[master_table['YEAR'] == year]\n",
    "\n",
    "GDP_GROWTH_PER_CAPITAL = \"GDP growth per capita\"\n",
    "GDP_PER_CAPITAL = \"GDP per capita\"\n",
    "\n",
    "fig = go.Figure()\n",
    "\n",
    "fig.layout = go.Layout(\n",
    "    #width=500,\n",
    "    #height=300,\n",
    "    annotations=[\n",
    "        go.layout.Annotation(\n",
    "            showarrow=False,\n",
    "            text='Source: World Bank',\n",
    "            xanchor='right',\n",
    "            x=1,\n",
    "            yanchor='top',\n",
    "            y=-0.05\n",
    "        )])\n",
    "\n",
    "fig.add_trace(go.Choropleth(\n",
    "    locations=master_year_table['ISO3C'],\n",
    "    z = master_year_table['GDP_PER_CAPITAL'],\n",
    "    colorscale = [(0,\"#053D8B\"),(0.25,\"#1164B0\"),(0.5,\"#298BC8\"),(0.75,\"#3FB7DB\"), (1,\"#5CD5E8\")],\n",
    "    colorbar_title = \"Value\",\n",
    "    customdata = master_year_table['COUNTRY'],\n",
    "    hovertemplate = '<b>%{customdata}: %{z:,.0f}</b><extra></extra>'\n",
    "))\n",
    "\n",
    "fig.add_trace(go.Choropleth(\n",
    "    locations=master_year_table['ISO3C'],\n",
    "    visible= False,\n",
    "    z = master_year_table['GDP_GROWTH_PER_CAPITAL'],\n",
    "    colorscale = [(0,\"#053D8B\"),(0.25,\"#1164B0\"),(0.5,\"#298BC8\"),(0.75,\"#3FB7DB\"), (1,\"#5CD5E8\")],\n",
    "    colorbar_title = \"Growth \",\n",
    "    customdata = master_year_table['COUNTRY'],\n",
    "    hovertemplate = '<b>%{customdata}: %{z:0.2f}%</b><extra></extra>'\n",
    "))\n",
    "\n",
    "fig.update_layout(\n",
    "    autosize=True,\n",
    "    width= 900,\n",
    "    #height= 900,\n",
    "    title=f\"GDP per capital in {year}\",\n",
    "    title_x=0.5,\n",
    "    title_y=0.95,\n",
    "    updatemenus=[\n",
    "        dict(\n",
    "            type = \"buttons\",\n",
    "            active=0,\n",
    "            direction = \"left\",\n",
    "            buttons=list([\n",
    "                dict(\n",
    "                    args=[{\"visible\": [True, False]}, {\"title\": f\"{GDP_PER_CAPITAL} in {year}\"}],\n",
    "                    label=GDP_PER_CAPITAL,\n",
    "                    method=\"update\"\n",
    "                ),\n",
    "                dict(\n",
    "                    args=[{\"visible\": [False, True]}, {\"title\": f\"{GDP_GROWTH_PER_CAPITAL} in {year}\"}],\n",
    "                    label=GDP_GROWTH_PER_CAPITAL,\n",
    "                    method=\"update\"\n",
    "                )\n",
    "            ]),\n",
    "            showactive=True,\n",
    "            x=0.32,\n",
    "            xanchor=\"left\",\n",
    "            y=1.2,\n",
    "            yanchor=\"top\"\n",
    "        ),\n",
    "    ]\n",
    ")\n",
    "\n",
    "fig.show()"
   ]
  },
  {
   "cell_type": "markdown",
   "id": "velvet-shelf",
   "metadata": {
    "execution": {
     "iopub.execute_input": "2021-04-24T08:39:41.136067Z",
     "iopub.status.busy": "2021-04-24T08:39:41.135836Z",
     "iopub.status.idle": "2021-04-24T08:39:41.140805Z",
     "shell.execute_reply": "2021-04-24T08:39:41.140220Z",
     "shell.execute_reply.started": "2021-04-24T08:39:41.136043Z"
    },
    "papermill": {},
    "tags": []
   },
   "source": [
    "## Export chart"
   ]
  },
  {
   "cell_type": "code",
   "execution_count": 57,
   "id": "british-burns",
   "metadata": {
    "execution": {
     "iopub.execute_input": "2021-04-24T08:25:20.022714Z",
     "iopub.status.busy": "2021-04-24T08:25:20.022474Z",
     "iopub.status.idle": "2021-04-24T08:25:30.672211Z",
     "shell.execute_reply": "2021-04-24T08:25:30.671546Z",
     "shell.execute_reply.started": "2021-04-24T08:25:20.022689Z"
    },
    "papermill": {},
    "tags": []
   },
   "outputs": [
    {
     "name": "stdout",
     "output_type": "stream",
     "text": [
      "Saved as GDP.png\n",
      "Saved as GDP.html\n"
     ]
    }
   ],
   "source": [
    "import naas_drivers\n",
    "naas_drivers.plotly.export(fig, \"GDP.png\", css=None)\n",
    "naas_drivers.plotly.export(fig, \"GDP.html\", css=None)"
   ]
  }
 ],
 "metadata": {
  "colab": {
   "collapsed_sections": [],
   "include_colab_link": true,
   "name": "ECONOMY-GDP_AND_GROWTH_PER_COUNTRY.ipynb",
   "provenance": []
  },
  "kernelspec": {
   "display_name": "Python 3",
   "language": "python",
   "name": "python3"
  },
  "language_info": {
   "codemirror_mode": {
    "name": "ipython",
    "version": 3
   },
   "file_extension": ".py",
   "mimetype": "text/x-python",
   "name": "python",
   "nbconvert_exporter": "python",
   "pygments_lexer": "ipython3",
   "version": "3.8.8"
  },
  "papermill": {
   "default_parameters": {},
   "environment_variables": {},
   "parameters": {},
   "version": "2.3.3"
  },
  "widgets": {
   "application/vnd.jupyter.widget-state+json": {
    "state": {},
    "version_major": 2,
    "version_minor": 0
   }
  }
 },
 "nbformat": 4,
 "nbformat_minor": 5
}