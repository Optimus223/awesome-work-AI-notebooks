{
 "cells": [
  {
   "cell_type": "markdown",
   "id": "aca02529-fc3a-4f2a-b856-15a506e4c004",
   "metadata": {
    "papermill": {},
    "tags": []
   },
   "source": [
    "<img width=\"10%\" alt=\"Naas\" src=\"https://landen.imgix.net/jtci2pxwjczr/assets/5ice39g4.png?w=160\"/>"
   ]
  },
  {
   "cell_type": "markdown",
   "id": "phantom-warner",
   "metadata": {
    "papermill": {},
    "tags": []
   },
   "source": [
    "# WorldBank - Richest countries top10\n",
    "<a href=\"https://app.naas.ai/user-redirect/naas/downloader?url=https://raw.githubusercontent.com/jupyter-naas/awesome-notebooks/master/WorldBank/WorldBank_Richest_countries_top10.ipynb\" target=\"_parent\"><img src=\"https://naasai-public.s3.eu-west-3.amazonaws.com/open_in_naas.svg\"/></a><br><br><a href=\"https://github.com/jupyter-naas/awesome-notebooks/issues/new?assignees=&labels=&template=template-request.md&title=Tool+-+Action+of+the+notebook+\">Template request</a> | <a href=\"https://github.com/jupyter-naas/awesome-notebooks/issues/new?assignees=&labels=bug&template=bug_report.md&title=WorldBank+-+Richest+countries+top10:+Error+short+description\">Bug report</a>"
   ]
  },
  {
   "cell_type": "markdown",
   "id": "58511143-dc36-4f0d-b6f7-6b6f3ea2120d",
   "metadata": {
    "papermill": {},
    "tags": []
   },
   "source": [
    "**Tags:** #worldbank #opendata #snippet #plotly"
   ]
  },
  {
   "cell_type": "markdown",
   "id": "naas-author",
   "metadata": {
    "papermill": {},
    "tags": [
     "naas"
    ]
   },
   "source": [
    "**Author:** [Jeremy Ravenel](https://www.linkedin.com/in/ACoAAAJHE7sB5OxuKHuzguZ9L6lfDHqw--cdnJg/)"
   ]
  },
  {
   "cell_type": "markdown",
   "id": "stunning-visiting",
   "metadata": {
    "colab_type": "text",
    "id": "GAqP42SS4yPD",
    "papermill": {},
    "tags": []
   },
   "source": [
    "**Goal**\n",
    "\n",
    "Top 10 richest regions & countries in GDP per capita (wealth created per habitant) and in GDP current (total wealth created by the country)\n",
    "\n",
    "**Data**\n",
    "\n",
    "GDP CURRENT & GDP PER CAPITA by countries, agregated by region\n",
    "\n",
    "**Sources**\n",
    "\n",
    "* World Bank national accounts data\n",
    "* OECD National Accounts data files \n",
    "\n",
    "**Notes**\n",
    "\n",
    "The top 10 for GDP current is including the G8, should the European Union be included in this ranking, it would come up 2nd biggest economy after the USA. \n",
    "\n",
    "In the top 10 for GDP per capita, the ranking include smaller countries, only the USA remains in this ranking from the GDP current ranking.\n",
    "\n",
    "\n",
    "**Pitch**\n",
    "\n",
    "https://drive.google.com/file/d/1wGo9aI6mXS_2AbmnNlLoSJ9bGxkXmDhq/view"
   ]
  },
  {
   "cell_type": "markdown",
   "id": "input_cell",
   "metadata": {
    "papermill": {},
    "tags": []
   },
   "source": [
    "## Input"
   ]
  },
  {
   "cell_type": "markdown",
   "id": "import_cell",
   "metadata": {
    "papermill": {},
    "tags": []
   },
   "source": [
    "### Import libraries"
   ]
  },
  {
   "cell_type": "code",
   "execution_count": null,
   "id": "strong-utility",
   "metadata": {
    "colab": {
     "base_uri": "https://localhost:8080/",
     "height": 50
    },
    "colab_type": "code",
    "id": "7hqFGyx_377x",
    "outputId": "36fb8727-3b40-43b7-e7c6-8b9e47262410",
    "papermill": {},
    "tags": []
   },
   "outputs": [],
   "source": [
    "import pandas as pd\n",
    "from pandas_datareader import wb\n",
    "import plotly.graph_objects as go"
   ]
  },
  {
   "cell_type": "markdown",
   "id": "model_cell",
   "metadata": {
    "papermill": {},
    "tags": []
   },
   "source": [
    "## Model"
   ]
  },
  {
   "cell_type": "markdown",
   "id": "possible-asset",
   "metadata": {
    "colab_type": "text",
    "id": "yeUkoHbGTNVy",
    "papermill": {},
    "tags": []
   },
   "source": [
    "### Get the association between the country and the region"
   ]
  },
  {
   "cell_type": "code",
   "execution_count": null,
   "id": "distributed-immunology",
   "metadata": {
    "colab": {
     "base_uri": "https://localhost:8080/",
     "height": 402
    },
    "colab_type": "code",
    "id": "NrJlRC2cREYP",
    "outputId": "4f0e0224-fac2-4090-8bda-295b5db66b26",
    "papermill": {},
    "tags": []
   },
   "outputs": [],
   "source": [
    "pd.options.display.float_format = '{: .0f}'.format\n",
    "countries = wb.get_countries()\n",
    "countries = countries[['name', 'region']]\n",
    "countries"
   ]
  },
  {
   "cell_type": "markdown",
   "id": "hundred-brook",
   "metadata": {
    "colab_type": "text",
    "id": "RAUtg6PuTTGn",
    "papermill": {},
    "tags": []
   },
   "source": [
    "### Get indicators\n"
   ]
  },
  {
   "cell_type": "code",
   "execution_count": null,
   "id": "fresh-following",
   "metadata": {
    "colab": {
     "base_uri": "https://localhost:8080/",
     "height": 402
    },
    "colab_type": "code",
    "id": "TdXvSnfB4IMc",
    "outputId": "316286d1-03e6-4ede-87bf-01aafe661a7d",
    "papermill": {},
    "tags": []
   },
   "outputs": [],
   "source": [
    "indicators = wb.download(indicator=['NY.GDP.PCAP.CD', 'NY.GDP.MKTP.CD'], country='all', start=2018, end=2018)\n",
    "indicators = indicators.reset_index()\n",
    "indicators = indicators[['country', 'NY.GDP.PCAP.CD', 'NY.GDP.MKTP.CD']]\n",
    "indicators.columns = ['country', 'GDP_PER_CAPITA', 'CURRENT_GDP']\n",
    "indicators"
   ]
  },
  {
   "cell_type": "markdown",
   "id": "assisted-pharmaceutical",
   "metadata": {
    "colab_type": "text",
    "id": "QC222rrLUlXV",
    "papermill": {},
    "tags": []
   },
   "source": [
    "### Format a master table\n",
    "\n",
    "1. Associate countries with regions\n",
    "1. Clean up the data\n",
    "1. Group rows by columns "
   ]
  },
  {
   "cell_type": "code",
   "execution_count": null,
   "id": "dense-threshold",
   "metadata": {
    "colab": {
     "base_uri": "https://localhost:8080/",
     "height": 229
    },
    "colab_type": "code",
    "id": "CFTaHs5JQlu_",
    "outputId": "1212e73b-f882-43e5-f288-e6d121cb89dd",
    "papermill": {},
    "tags": []
   },
   "outputs": [],
   "source": [
    "master_table = pd.merge(indicators, countries, left_on='country', right_on='name')\n",
    "\n",
    "master_table = master_table[master_table['region'] != 'Aggregates']\n",
    "master_table = master_table[(master_table['GDP_PER_CAPITA'] > 0) | (master_table['CURRENT_GDP'] > 0)]\n",
    "master_table = master_table.fillna(0)\n",
    "\n",
    "master_table = pd.melt(master_table, id_vars=['region', 'country'], value_vars=['GDP_PER_CAPITA', 'CURRENT_GDP'], var_name='INDICATOR', value_name='VALUE')\n",
    "master_table = master_table.set_index(['region', 'country', 'INDICATOR'])\n",
    "master_table = master_table.sort_index()\n",
    "\n",
    "master_table"
   ]
  },
  {
   "cell_type": "markdown",
   "id": "output_cell",
   "metadata": {
    "papermill": {},
    "tags": []
   },
   "source": [
    "## Output"
   ]
  },
  {
   "cell_type": "markdown",
   "id": "arbitrary-incentive",
   "metadata": {
    "colab_type": "text",
    "id": "CBCd2nU9T0nn",
    "papermill": {},
    "tags": []
   },
   "source": [
    "### Visualize data with a chart"
   ]
  },
  {
   "cell_type": "code",
   "execution_count": null,
   "id": "unauthorized-answer",
   "metadata": {
    "colab": {
     "base_uri": "https://localhost:8080/",
     "height": 229
    },
    "colab_type": "code",
    "id": "Pmuhz88cTyya",
    "outputId": "5d53946d-ac8a-4207-c363-c6eee05dc9e5",
    "papermill": {},
    "tags": []
   },
   "outputs": [],
   "source": [
    "table = master_table.reset_index()\n",
    "gdp_per_capita_per_region = table[table['INDICATOR'] == 'GDP_PER_CAPITA'][['region', 'VALUE']].groupby('region').mean().sort_values('VALUE', ascending=False)\n",
    "current_gdp_per_region = table[table['INDICATOR'] == 'CURRENT_GDP'][['region', 'VALUE']].groupby('region').mean().sort_values('VALUE', ascending=False)\n",
    "gdp_per_capita_per_country = table[table['INDICATOR'] == 'GDP_PER_CAPITA'][['country', 'VALUE']].sort_values('VALUE', ascending=False).head(10)\n",
    "current_gdp_per_country = table[table['INDICATOR'] == 'CURRENT_GDP'][['country', 'VALUE']].sort_values('VALUE', ascending=False).head(10)\n",
    "\n",
    "data = [\n",
    "  go.Bar(x=gdp_per_capita_per_region.index, y=gdp_per_capita_per_region['VALUE'], text=gdp_per_capita_per_region['VALUE'], textposition='outside'),\n",
    "  go.Bar(x=current_gdp_per_region.index, y=current_gdp_per_region['VALUE'], text=current_gdp_per_region['VALUE'], textposition='outside', visible=False),\n",
    "  go.Bar(x=gdp_per_capita_per_country['country'], y=gdp_per_capita_per_country['VALUE'], text=gdp_per_capita_per_country['VALUE'], textposition='outside', visible=False),\n",
    "  go.Bar(x=current_gdp_per_country['country'], y=current_gdp_per_country['VALUE'], text=current_gdp_per_country['VALUE'], textposition='outside', visible=False),\n",
    "]\n",
    "\n",
    "layout = go.Layout(\n",
    "  title='Top 10 richest regions & countries',\n",
    "  margin = dict(t = 60, b = 150),\n",
    "  updatemenus=list([\n",
    "    dict(showactive=True, type=\"buttons\", active=0, buttons=[\n",
    "      {'label': 'GDP / Capita per region', 'method': 'update', 'args': [{'visible': [True, False, False, False]}]},\n",
    "      {'label': 'Current GDP per region', 'method': 'update', 'args': [{'visible': [False, True, False, False]}]},\n",
    "      {'label': 'GDP / Capita per country', 'method': 'update', 'args': [{'visible': [False, False, True, False]}]},\n",
    "      {'label': 'Current GDP per country', 'method': 'update', 'args': [{'visible': [False, False, False, True]}]}\n",
    "    ])\n",
    "  ]),\n",
    "  annotations=[dict(\n",
    "    text = 'Updated in 2018 from The World Bank',\n",
    "    showarrow = False,\n",
    "    xref = 'paper', x = 1,\n",
    "    yref = 'paper', y = -0.4)]\n",
    ")\n",
    "\n",
    "go.Figure(data, layout)"
   ]
  }
 ],
 "metadata": {
  "colab": {
   "collapsed_sections": [],
   "include_colab_link": true,
   "name": "20200424_05_BERLIN_final1.ipynb",
   "provenance": []
  },
  "kernelspec": {
   "display_name": "Python 3",
   "language": "python",
   "name": "python3"
  },
  "language_info": {
   "codemirror_mode": {
    "name": "ipython",
    "version": 3
   },
   "file_extension": ".py",
   "mimetype": "text/x-python",
   "name": "python",
   "nbconvert_exporter": "python",
   "pygments_lexer": "ipython3",
   "version": "3.9.6"
  },
  "naas": {
   "notebook_id": "8cbbf19a-9a54-49c0-95ab-b2bb45504492",
   "notebook_path": "WorldBank/WorldBank_Richest_countries_top10.ipynb"
  },
  "papermill": {
   "default_parameters": {},
   "environment_variables": {},
   "parameters": {},
   "version": "2.3.3"
  }
 },
 "nbformat": 4,
 "nbformat_minor": 5
}