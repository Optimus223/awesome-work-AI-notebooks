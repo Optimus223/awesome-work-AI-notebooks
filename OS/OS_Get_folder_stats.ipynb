{
 "cells": [
  {
   "cell_type": "markdown",
   "id": "a0f034b8-880d-4dce-b2c5-8e60e2912ef4",
   "metadata": {
    "papermill": {},
    "tags": []
   },
   "source": [
    "<img width=\"10%\" alt=\"Naas\" src=\"https://landen.imgix.net/jtci2pxwjczr/assets/5ice39g4.png?w=160\"/>"
   ]
  },
  {
   "cell_type": "markdown",
   "id": "e925a816-a97e-425e-b476-119cd3875ae6",
   "metadata": {
    "papermill": {},
    "tags": []
   },
   "source": [
    "# OS - Get folder stats"
   ]
  },
  {
   "cell_type": "markdown",
   "id": "03370f04-0525-4195-afa0-72b07021c01a",
   "metadata": {
    "papermill": {},
    "tags": []
   },
   "source": [
    "**Tags:** #os #folder #stats #python #library #filesystem"
   ]
  },
  {
   "cell_type": "markdown",
   "id": "de3ebab1-65ec-4306-bb76-3d393366af08",
   "metadata": {
    "papermill": {},
    "tags": []
   },
   "source": [
    "**Author:** [Florent Ravenel](https://www.linkedin.com/in/florent-ravenel)"
   ]
  },
  {
   "cell_type": "markdown",
   "id": "660531d7-0f6b-4659-a2be-bf9e3d2b65f2",
   "metadata": {
    "papermill": {},
    "tags": []
   },
   "source": [
    "**Description:** This notebook will get the stats of a folder and its content. It is usefull for organizations to get a quick overview of the size of a folder and its content."
   ]
  },
  {
   "cell_type": "markdown",
   "id": "893fbfbe-a157-4d55-b5ad-11c9012fd217",
   "metadata": {
    "papermill": {},
    "tags": []
   },
   "source": [
    "**References:**\n- [Python OS Library](https://docs.python.org/3/library/os.html)\n- [Python OS Path Library](https://docs.python.org/3/library/os.path.html)"
   ]
  },
  {
   "cell_type": "markdown",
   "id": "2432aaac-1627-44d6-a61a-a7c9740c3380",
   "metadata": {
    "papermill": {},
    "tags": []
   },
   "source": [
    "## Input"
   ]
  },
  {
   "cell_type": "markdown",
   "id": "72b33a05-d59d-419f-a9da-554e3e577ea2",
   "metadata": {
    "papermill": {},
    "tags": []
   },
   "source": [
    "### Import libraries"
   ]
  },
  {
   "cell_type": "code",
   "execution_count": null,
   "id": "e4f96b24-a834-41fe-b715-bb55332184f1",
   "metadata": {
    "papermill": {},
    "tags": []
   },
   "source": "import os\nimport os.path",
   "outputs": []
  },
  {
   "cell_type": "markdown",
   "id": "5b36f9bf-6579-4315-afd0-0197019f2a52",
   "metadata": {
    "papermill": {},
    "tags": []
   },
   "source": [
    "### Setup Variables\n- `folder_path`: Path of the folder to get stats from"
   ]
  },
  {
   "cell_type": "code",
   "execution_count": null,
   "id": "10ad2ea6-6f48-4406-ba0c-ca0dce0db1f5",
   "metadata": {
    "papermill": {},
    "tags": []
   },
   "source": "folder_path = \"./\"",
   "outputs": []
  },
  {
   "cell_type": "markdown",
   "id": "1599a0de-d989-4f6c-a9fb-d7dfb465abc5",
   "metadata": {
    "papermill": {},
    "tags": []
   },
   "source": [
    "## Model"
   ]
  },
  {
   "cell_type": "markdown",
   "id": "76bb8d3d-f19b-4aff-822c-1beb8b6ac994",
   "metadata": {
    "papermill": {},
    "tags": []
   },
   "source": [
    "### Get folder stats"
   ]
  },
  {
   "cell_type": "markdown",
   "id": "e9905f2e-f996-417f-aff1-46218bc876a9",
   "metadata": {
    "papermill": {},
    "tags": []
   },
   "source": [
    "This function will get the stats of a folder and its content. It will return the size of the folder and its content in bytes."
   ]
  },
  {
   "cell_type": "code",
   "execution_count": null,
   "id": "eecc8b1a-ee9e-421c-b4c6-7c212e335fee",
   "metadata": {
    "papermill": {},
    "tags": []
   },
   "source": "def get_folder_stats(folder_path):\n    total_size = 0\n    for dirpath, dirnames, filenames in os.walk(folder_path):\n        for f in filenames:\n            fp = os.path.join(dirpath, f)\n            total_size += os.path.getsize(fp)\n    return total_size",
   "outputs": []
  },
  {
   "cell_type": "markdown",
   "id": "e17c0f9c-06ca-4e37-8fe6-9b9008c016f6",
   "metadata": {
    "papermill": {},
    "tags": []
   },
   "source": [
    "## Output"
   ]
  },
  {
   "cell_type": "markdown",
   "id": "b5ab4cde-0f79-4d7f-9637-d74a4f8b3eca",
   "metadata": {
    "papermill": {},
    "tags": []
   },
   "source": [
    "### Display result"
   ]
  },
  {
   "cell_type": "code",
   "execution_count": null,
   "id": "323f4db8-3824-4e0a-b369-792d4f17fd90",
   "metadata": {
    "papermill": {},
    "tags": []
   },
   "source": "total_size = get_folder_stats(folder_path)\nprint(f\"Total size of folder {folder_path} and its content is {total_size} bytes.\")",
   "outputs": []
  },
  {
   "cell_type": "markdown",
   "id": "07470443-05a7-4984-a043-963c67eef90b",
   "metadata": {
    "papermill": {},
    "tags": []
   },
   "source": [
    " "
   ]
  }
 ],
 "metadata": {
  "kernelspec": {
   "display_name": "Python 3",
   "language": "python",
   "name": "python3"
  },
  "language_info": {
   "codemirror_mode": {
    "name": "ipython",
    "version": 3
   },
   "file_extension": ".py",
   "mimetype": "text/x-python",
   "name": "python",
   "nbconvert_exporter": "python",
   "pygments_lexer": "ipython3",
   "version": "3.9.6"
  },
  "widgets": {
   "application/vnd.jupyter.widget-state+json": {
    "state": {},
    "version_major": 2,
    "version_minor": 0
   }
  }
 },
 "nbformat": 4,
 "nbformat_minor": 5
}