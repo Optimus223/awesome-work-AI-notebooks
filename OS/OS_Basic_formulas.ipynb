{
 "cells": [
  {
   "cell_type": "markdown",
   "id": "4d57a413-4634-430c-9a85-5bf4cf3922bc",
   "metadata": {
    "papermill": {},
    "tags": []
   },
   "source": [
    "<img width=\"10%\" alt=\"Naas\" src=\"https://landen.imgix.net/jtci2pxwjczr/assets/5ice39g4.png?w=160\"/>"
   ]
  },
  {
   "cell_type": "markdown",
   "id": "383d1ce2-d740-4d67-b3ca-a53f8bfb0566",
   "metadata": {
    "papermill": {},
    "tags": []
   },
   "source": [
    "# OS - Basic formulas"
   ]
  },
  {
   "cell_type": "markdown",
   "id": "70c602a6-08b6-477c-9474-d27eb72dc369",
   "metadata": {
    "papermill": {},
    "tags": []
   },
   "source": [
    "**Tags:** #os #python #formulas #functions #basics #module"
   ]
  },
  {
   "cell_type": "markdown",
   "id": "05c80ce0-1748-4e07-8883-e98fe686a0a6",
   "metadata": {
    "papermill": {},
    "tags": []
   },
   "source": [
    "**Author:** [Florent Ravenel](https://www.linkedin.com/in/florent-ravenel/)"
   ]
  },
  {
   "cell_type": "markdown",
   "id": "791185fe-ac12-4624-ae7f-3e9aae53a212",
   "metadata": {
    "papermill": {},
    "tags": []
   },
   "source": [
    "**Description:** This notebook introduces several basics formulas/functions using os module. It is usefull to understand how to use the os module to manipulate files and directories."
   ]
  },
  {
   "cell_type": "markdown",
   "id": "3af4a4b9-62d0-4b72-87f5-4d0646f84c17",
   "metadata": {
    "papermill": {},
    "tags": []
   },
   "source": [
    "**References:**\n- https://pythonprogramming.net/python-3-os-module/\n- https://docs.python.org/3/library/os.html"
   ]
  },
  {
   "cell_type": "markdown",
   "id": "0b3143b9-7d6b-4d0d-8b53-787c6ae1db52",
   "metadata": {
    "papermill": {},
    "tags": []
   },
   "source": [
    "## Input"
   ]
  },
  {
   "cell_type": "markdown",
   "id": "f840ad34-d501-4e52-be5e-5c927c639a43",
   "metadata": {
    "papermill": {},
    "tags": []
   },
   "source": [
    "### Import libraries"
   ]
  },
  {
   "cell_type": "code",
   "execution_count": null,
   "id": "971ccbc6-98bc-4d27-aa86-614ed0fa7b54",
   "metadata": {
    "papermill": {},
    "tags": []
   },
   "source": "import os",
   "outputs": []
  },
  {
   "cell_type": "markdown",
   "id": "4561dac3-5bbc-4ea0-a445-f764700c6478",
   "metadata": {
    "papermill": {},
    "tags": []
   },
   "source": [
    "### Setup Variables"
   ]
  },
  {
   "cell_type": "code",
   "execution_count": null,
   "id": "0bc0540e-8d6d-4f76-8879-088017ed8a5d",
   "metadata": {
    "papermill": {},
    "tags": []
   },
   "source": "# Set the path\npath = \"/Users/florentravenel/Documents/GitHub/notebook-template\"",
   "outputs": []
  },
  {
   "cell_type": "markdown",
   "id": "26425351-63b3-4b31-a700-5b56548ea6a1",
   "metadata": {
    "papermill": {},
    "tags": []
   },
   "source": [
    "## Model"
   ]
  },
  {
   "cell_type": "markdown",
   "id": "675848bf-f98c-41bb-ba19-8cb9231d76e0",
   "metadata": {
    "papermill": {},
    "tags": []
   },
   "source": [
    "### Get current working directory"
   ]
  },
  {
   "cell_type": "markdown",
   "id": "f82fa983-8cf7-44f6-b3a1-a4d1bfa95c22",
   "metadata": {
    "papermill": {},
    "tags": []
   },
   "source": [
    "Long description of the function: The os.getcwd() function returns the current working directory of the process."
   ]
  },
  {
   "cell_type": "code",
   "execution_count": null,
   "id": "3c28ae9e-d8c8-460d-ae3a-69082e972ece",
   "metadata": {
    "papermill": {},
    "tags": []
   },
   "source": "# Get the current working directory\ncwd = os.getcwd()",
   "outputs": []
  },
  {
   "cell_type": "markdown",
   "id": "5333bbc8-1e4f-400a-bc87-ab15b39bdb9b",
   "metadata": {
    "papermill": {},
    "tags": []
   },
   "source": [
    "### Change directory"
   ]
  },
  {
   "cell_type": "markdown",
   "id": "9fbba558-920e-4c19-9e60-d5d3f7603aa3",
   "metadata": {
    "papermill": {},
    "tags": []
   },
   "source": [
    "Long description of the function: The os.chdir() function changes the current working directory of the process."
   ]
  },
  {
   "cell_type": "code",
   "execution_count": null,
   "id": "62377f4d-e10d-492e-b8d2-6121d00a0a0a",
   "metadata": {
    "papermill": {},
    "tags": []
   },
   "source": "# Change the current working directory\nos.chdir(path)",
   "outputs": []
  },
  {
   "cell_type": "markdown",
   "id": "ec62c408-6e3f-4031-b225-65ef06843833",
   "metadata": {
    "papermill": {},
    "tags": []
   },
   "source": [
    "## Output"
   ]
  },
  {
   "cell_type": "markdown",
   "id": "18d304a2-4351-4e87-baa7-b673dede4932",
   "metadata": {
    "papermill": {},
    "tags": []
   },
   "source": [
    "### Display result"
   ]
  },
  {
   "cell_type": "code",
   "execution_count": null,
   "id": "72a8e5a6-1546-4dea-9502-af2259cf086d",
   "metadata": {
    "papermill": {},
    "tags": []
   },
   "source": "# Print the current working directory\nprint(cwd)",
   "outputs": []
  },
  {
   "cell_type": "markdown",
   "id": "9bde2cb3-519e-48c3-b43d-5ade39a1e4ba",
   "metadata": {
    "papermill": {},
    "tags": []
   },
   "source": [
    " "
   ]
  }
 ],
 "metadata": {
  "kernelspec": {
   "display_name": "Python 3",
   "language": "python",
   "name": "python3"
  },
  "language_info": {
   "codemirror_mode": {
    "name": "ipython",
    "version": 3
   },
   "file_extension": ".py",
   "mimetype": "text/x-python",
   "name": "python",
   "nbconvert_exporter": "python",
   "pygments_lexer": "ipython3",
   "version": "3.9.6"
  },
  "widgets": {
   "application/vnd.jupyter.widget-state+json": {
    "state": {},
    "version_major": 2,
    "version_minor": 0
   }
  }
 },
 "nbformat": 4,
 "nbformat_minor": 5
}