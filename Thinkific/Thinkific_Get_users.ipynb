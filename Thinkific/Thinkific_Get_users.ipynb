{
 "cells": [
  {
   "cell_type": "markdown",
   "id": "suitable-offer",
   "metadata": {
    "papermill": {},
    "tags": []
   },
   "source": [
    "<img width=\"10%\" alt=\"Naas\" src=\"https://landen.imgix.net/jtci2pxwjczr/assets/5ice39g4.png?w=160\"/>"
   ]
  },
  {
   "cell_type": "markdown",
   "id": "excessive-direction",
   "metadata": {
    "execution": {
     "iopub.execute_input": "2021-03-01T23:07:47.548863Z",
     "iopub.status.busy": "2021-03-01T23:07:47.548590Z",
     "iopub.status.idle": "2021-03-01T23:07:47.553710Z",
     "shell.execute_reply": "2021-03-01T23:07:47.553199Z",
     "shell.execute_reply.started": "2021-03-01T23:07:47.548800Z"
    },
    "papermill": {},
    "tags": []
   },
   "source": [
    "# Thinkific - Get users\n",
    "<a href=\"https://app.naas.ai/user-redirect/naas/downloader?url=https://raw.githubusercontent.com/jupyter-naas/awesome-notebooks/master/Thinkific/Thinkific_Get_users.ipynb\" target=\"_parent\"><img src=\"https://img.shields.io/badge/-Open%20in%20Naas-success?labelColor=000000&logo=data:image/svg+xml;base64,PD94bWwgdmVyc2lvbj0iMS4wIiBlbmNvZGluZz0iVVRGLTgiPz4KPHN2ZyB3aWR0aD0iMTAyNHB4IiBoZWlnaHQ9IjEwMjRweCIgdmlld0JveD0iMCAwIDEwMjQgMTAyNCIgeG1sbnM9Imh0dHA6Ly93d3cudzMub3JnLzIwMDAvc3ZnIiB4bWxuczp4bGluaz0iaHR0cDovL3d3dy53My5vcmcvMTk5OS94bGluayIgdmVyc2lvbj0iMS4xIj4KIDwhLS0gR2VuZXJhdGVkIGJ5IFBpeGVsbWF0b3IgUHJvIDIuMC41IC0tPgogPGRlZnM+CiAgPHRleHQgaWQ9InN0cmluZyIgdHJhbnNmb3JtPSJtYXRyaXgoMS4wIDAuMCAwLjAgMS4wIDIyOC4wIDU0LjUpIiBmb250LWZhbWlseT0iQ29tZm9ydGFhLVJlZ3VsYXIsIENvbWZvcnRhYSIgZm9udC1zaXplPSI4MDAiIHRleHQtZGVjb3JhdGlvbj0ibm9uZSIgZmlsbD0iI2ZmZmZmZiIgeD0iMS4xOTk5OTk5OTk5OTk5ODg2IiB5PSI3MDUuMCI+bjwvdGV4dD4KIDwvZGVmcz4KIDx1c2UgaWQ9Im4iIHhsaW5rOmhyZWY9IiNzdHJpbmciLz4KPC9zdmc+Cg==\"/></a>"
   ]
  },
  {
   "cell_type": "markdown",
   "id": "0330247b-aead-495c-81e2-35edf94a43b7",
   "metadata": {},
   "source": [
    "**Tags:** #thinkific #education #naas_drivers"
   ]
  },
  {
   "cell_type": "code",
   "execution_count": null,
   "id": "completed-three",
   "metadata": {
    "papermill": {},
    "tags": []
   },
   "outputs": [],
   "source": [
    "import nass_drivers\n",
    "api_key = \"api_key\"\n",
    "naas_drivers.thinkific.connect(api_key).users.get(\n",
    "    uid=\"uid\"\n",
    ")"
   ]
  },
  {
   "cell_type": "markdown",
   "id": "input_cell",
   "metadata": {
    "papermill": {},
    "tags": []
   },
   "source": [
    "## Input"
   ]
  },
  {
   "cell_type": "markdown",
   "id": "import_cell",
   "metadata": {
    "papermill": {},
    "tags": []
   },
   "source": [
    "### Import library"
   ]
  },
  {
   "cell_type": "code",
   "execution_count": null,
   "id": "a00f15a9-28a8-4a63-ae55-c71ea9677536",
   "metadata": {},
   "outputs": [],
   "source": [
    "from naas_drivers import thinkific"
   ]
  },
  {
   "cell_type": "markdown",
   "id": "9c9b2129-0991-42d5-aee0-49bf17be2519",
   "metadata": {},
   "source": [
    "### Variables"
   ]
  },
  {
   "cell_type": "code",
   "execution_count": null,
   "id": "b00143f8-f090-4362-a465-b69b920aaf9d",
   "metadata": {},
   "outputs": [],
   "source": [
    "api_key = \"api_key\""
   ]
  },
  {
   "cell_type": "markdown",
   "id": "model_cell",
   "metadata": {
    "papermill": {},
    "tags": []
   },
   "source": [
    "## Model"
   ]
  },
  {
   "cell_type": "markdown",
   "id": "db53a78d-aee6-49af-abfe-76ad72bbeb44",
   "metadata": {},
   "source": [
    "### Connect to the API"
   ]
  },
  {
   "cell_type": "code",
   "execution_count": null,
   "id": "8c58edf5-c9ba-472d-a1d3-9502d55b0e21",
   "metadata": {},
   "outputs": [],
   "source": [
    "thinkific.connect(api_key)"
   ]
  },
  {
   "cell_type": "markdown",
   "id": "output_cell",
   "metadata": {
    "papermill": {},
    "tags": []
   },
   "source": [
    "## Output"
   ]
  },
  {
   "cell_type": "markdown",
   "id": "display_cell",
   "metadata": {
    "papermill": {},
    "tags": []
   },
   "source": [
    "### Display result"
   ]
  },
  {
   "cell_type": "code",
   "execution_count": null,
   "id": "64da51a6-68f8-4f1e-a9b8-70ccea69ea07",
   "metadata": {},
   "outputs": [],
   "source": [
    "thinkific.users.get(\n",
    "    uid=\"uid\"\n",
    ")"
   ]
  }
 ],
 "metadata": {
  "kernelspec": {
   "display_name": "Python 3",
   "language": "python",
   "name": "python3"
  },
  "language_info": {
   "codemirror_mode": {
    "name": "ipython",
    "version": 3
   },
   "file_extension": ".py",
   "mimetype": "text/x-python",
   "name": "python",
   "nbconvert_exporter": "python",
   "pygments_lexer": "ipython3",
   "version": "3.8.8"
  },
  "papermill": {
   "default_parameters": {},
   "environment_variables": {},
   "parameters": {},
   "version": "2.3.3"
  }
 },
 "nbformat": 4,
 "nbformat_minor": 5
}
