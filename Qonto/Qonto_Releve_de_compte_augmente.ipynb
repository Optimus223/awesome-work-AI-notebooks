{
 "cells": [
  {
   "cell_type": "markdown",
   "id": "09319dea-4c05-4d94-9b95-813d64109fe5",
   "metadata": {
    "papermill": {},
    "tags": []
   },
   "source": [
    "<img width=\"10%\" alt=\"Naas\" src=\"https://landen.imgix.net/jtci2pxwjczr/assets/5ice39g4.png?w=160\"/>"
   ]
  },
  {
   "cell_type": "markdown",
   "id": "regular-estate",
   "metadata": {
    "papermill": {},
    "tags": []
   },
   "source": [
    "# Qonto - Releve de compte augmente\n",
    "<a href=\"https://app.naas.ai/user-redirect/naas/downloader?url=https://raw.githubusercontent.com/jupyter-naas/awesome-notebooks/master/Qonto/Qonto_Releve_de_compte_augmente.ipynb\" target=\"_parent\"><img src=\"https://naasai-public.s3.eu-west-3.amazonaws.com/open_in_naas.svg\"/></a>"
   ]
  },
  {
   "cell_type": "markdown",
   "id": "525fa6b2-6387-4ae6-8f6f-aab6f42f9f2a",
   "metadata": {
    "papermill": {},
    "tags": []
   },
   "source": [
    "**Tags:** #qonto #bank #statement #naas_drivers #notification #emailbuilder #asset #scheduler #naas #finance #automation #analytics #plotly #email #html #image #excel"
   ]
  },
  {
   "cell_type": "markdown",
   "id": "4115ea2d-89c4-4897-9ec9-626bdb7c6a83",
   "metadata": {
    "papermill": {},
    "tags": []
   },
   "source": [
    "**Author:** [Florent Ravenel](https://www.linkedin.com/in/florent-ravenel/)"
   ]
  },
  {
   "cell_type": "markdown",
   "id": "adjusted-material",
   "metadata": {
    "papermill": {},
    "tags": []
   },
   "source": [
    "Recevez un relev\u00e9 de compte augment\u00e9 par email gratuitement, chaque semaine, gr\u00e2ce \u00e0 un template Naas.ai (moteur de donn\u00e9es opensource, 100 cr\u00e9dits offert par mois). \n",
    "<br><br>\n",
    "-Dur\u00e9e de l'installation = 5 minutes<br>\n",
    "-Support d'installation = Guide vid\u00e9o<br>\n",
    "-Niveau = Facile<br>"
   ]
  },
  {
   "cell_type": "markdown",
   "id": "executed-awareness",
   "metadata": {
    "papermill": {},
    "tags": []
   },
   "source": [
    "## Input\n",
    "Dans cette section, vous trouverez les informations \u00e0 configurer pour que ce notebook puisse acc\u00e9der \u00e0 vos donn\u00e9es via l'API Qonto."
   ]
  },
  {
   "cell_type": "markdown",
   "id": "infectious-hometown",
   "metadata": {
    "papermill": {},
    "tags": []
   },
   "source": [
    "### Import des librairies\n",
    "Les libraries sont des outils cr\u00e9\u00e9 dans le language Python qui permettent le fonctionnement du notebook. Aucune action n\u00e9cessaire. "
   ]
  },
  {
   "cell_type": "code",
   "execution_count": null,
   "id": "junior-africa",
   "metadata": {
    "papermill": {},
    "tags": []
   },
   "outputs": [],
   "source": [
    "from naas_drivers import qonto\n",
    "from datetime import datetime, timedelta\n",
    "import pandas as pd\n",
    "import naas"
   ]
  },
  {
   "cell_type": "markdown",
   "id": "south-southeast",
   "metadata": {
    "papermill": {},
    "tags": []
   },
   "source": [
    "### Configuration des acc\u00e8s API\n",
    "\ud83d\udc47 Veuillez saisir ci-dessous, entre les guillemets, votre identifiant et votre cl\u00e9 secr\u00e8te r\u00e9cup\u00e9r\u00e9s sur la plateforme Qonto.\n",
    "<a href='https://www.notion.so/naas-official/Qonto-driver-Get-your-credentials-0cc97828b4e7467c8bfbcf704a77e5f4'>Comment r\u00e9cup\u00e9rer ces acc\u00e8s API ?</a>"
   ]
  },
  {
   "cell_type": "code",
   "execution_count": null,
   "id": "public-milwaukee",
   "metadata": {
    "papermill": {},
    "tags": []
   },
   "outputs": [],
   "source": [
    "QONTO_USER_ID = 'YOUR_USER_ID'\n",
    "QONTO_SECRET_KEY = 'YOUR_SECRET_KEY'"
   ]
  },
  {
   "cell_type": "code",
   "execution_count": null,
   "id": "06cb9bd8-aaed-4f32-9473-31d0aa0d8f17",
   "metadata": {
    "papermill": {},
    "tags": []
   },
   "outputs": [],
   "source": [
    "import naas\n",
    "QONTO_USER_ID = naas.secret.get(\"QONTO_USER_ID\")\n",
    "QONTO_SECRET_KEY = naas.secret.get(\"QONTO_API_KEY\")"
   ]
  },
  {
   "cell_type": "markdown",
   "id": "conceptual-validation",
   "metadata": {
    "papermill": {},
    "tags": []
   },
   "source": [
    "### Configuration de l'email\n",
    "\ud83d\udc47 Veuillez saisir ci-dessous, entre les guillemets, le destinataire de l'email (si vous avez plusieurs destinataires, separez d'une virgule les emails en conservants les guillemets)<br>\n",
    "Vous pouvez aussi changer l'objet de l'email (configuration avanc\u00e9e)"
   ]
  },
  {
   "cell_type": "code",
   "execution_count": null,
   "id": "rough-cathedral",
   "metadata": {
    "papermill": {},
    "tags": []
   },
   "outputs": [],
   "source": [
    "# Destinataire\n",
    "EMAIL_TO = [\"florent.ravenel1@gmail.com\"]\n",
    "\n",
    "# Objet de l'email\n",
    "EMAIL_SUBJECT = f\"\ud83c\udfdb\ufe0f Qonto - Votre relev\u00e9 de compte augment\u00e9 du {datetime.now().strftime('%d/%m/%Y')}\""
   ]
  },
  {
   "cell_type": "markdown",
   "id": "genuine-diabetes",
   "metadata": {
    "papermill": {},
    "tags": []
   },
   "source": [
    "### Configuration de la p\u00e9riode de l'analyse\n",
    "\ud83d\udc47 Veuillez saisir ci-dessous, entre les guillemets, la date de d\u00e9but (et la date de fin de votre analyse."
   ]
  },
  {
   "cell_type": "code",
   "execution_count": null,
   "id": "superior-tattoo",
   "metadata": {
    "papermill": {},
    "tags": []
   },
   "outputs": [],
   "source": [
    "# Date de d\u00e9but au format AAAA-MM-JJ\n",
    "DATE_FROM = \"2021-01-01\"\n",
    "\n",
    "# Date de fin au format AAAA-MM-JJ (par defaut, c'est la date d'aujoud'hui qui est selectionn\u00e9e)\n",
    "DATE_TO = datetime.now().strftime(\"%Y-%m-%d\")\n",
    "\n",
    "# Nombre de jours de r\u00e9cup\u00e9ration des derni\u00e8res transactions (doit \u00eatre un chiffre n\u00e9gatif)\n",
    "LAST_TRANSACTIONS = -7"
   ]
  },
  {
   "cell_type": "markdown",
   "id": "designing-bobby",
   "metadata": {
    "papermill": {},
    "tags": []
   },
   "source": [
    "### Configuration de l'automatisation\n",
    "Gr\u00e2ce \u00e0 la formule ci-dessous, le notebook se lancera tous les lundis \u00e0 8h.<br>\n",
    "Si vous souhaitez modifier la fr\u00e9quence d'envoi, vous devez modifier la synthaxe entre guillemets en  <a href=\"https://crontab.guru/\">suivant la documentation officielle CRON</a> (standard internationnal pour la programmation de t\u00e2ches automatis\u00e9es)"
   ]
  },
  {
   "cell_type": "code",
   "execution_count": null,
   "id": "middle-paste",
   "metadata": {
    "papermill": {},
    "tags": []
   },
   "outputs": [],
   "source": [
    "naas.scheduler.add(cron=\"0 8 * * 1\")"
   ]
  },
  {
   "cell_type": "markdown",
   "id": "sealed-characteristic",
   "metadata": {
    "papermill": {},
    "tags": []
   },
   "source": [
    "**Configuration des noms de fichiers (avanc\u00e9)**"
   ]
  },
  {
   "cell_type": "code",
   "execution_count": null,
   "id": "unavailable-sussex",
   "metadata": {
    "papermill": {},
    "tags": []
   },
   "outputs": [],
   "source": [
    "GRAPH_FILE = \"graph_account_statement.html\"\n",
    "GRAPH_IMG = \"graph_account_statement.jpeg\"\n",
    "TABLE_FILE = \"account_statement.xlsx\""
   ]
  },
  {
   "cell_type": "markdown",
   "id": "soviet-temple",
   "metadata": {
    "papermill": {},
    "tags": []
   },
   "source": [
    "## Model"
   ]
  },
  {
   "cell_type": "markdown",
   "id": "confidential-asbestos",
   "metadata": {
    "papermill": {},
    "tags": []
   },
   "source": [
    "### R\u00e9cup\u00e9ration du relev\u00e9 de compte consolid\u00e9"
   ]
  },
  {
   "cell_type": "code",
   "execution_count": null,
   "id": "delayed-demographic",
   "metadata": {
    "papermill": {},
    "tags": []
   },
   "outputs": [],
   "source": [
    "# Colonne to consolidate (DATE already included), if empty return only DATE, AMOUNT, POSITION\n",
    "to_group = [\"TRANSACTION_ID\",\n",
    "            \"LABEL\",\n",
    "            \"OPERATION_TYPE\"]\n",
    "\n",
    "df_statement = qonto.connect(QONTO_USER_ID, QONTO_SECRET_KEY).statements.get(to_group=to_group,\n",
    "                                                                             date_from=DATE_FROM,\n",
    "                                                                             date_to=DATE_TO)\n",
    "df_statement"
   ]
  },
  {
   "cell_type": "markdown",
   "id": "dental-valentine",
   "metadata": {
    "papermill": {},
    "tags": []
   },
   "source": [
    "### Cr\u00e9ation du graphique \"Evolution de la Tr\u00e9sorerie\""
   ]
  },
  {
   "cell_type": "code",
   "execution_count": null,
   "id": "nominated-zimbabwe",
   "metadata": {
    "papermill": {},
    "tags": []
   },
   "outputs": [],
   "source": [
    "barline = qonto.connect(QONTO_USER_ID, QONTO_SECRET_KEY).statements.barline(date_from=DATE_FROM,\n",
    "                                                                            date_to=DATE_TO)\n",
    "barline"
   ]
  },
  {
   "cell_type": "markdown",
   "id": "animated-oxide",
   "metadata": {
    "papermill": {},
    "tags": []
   },
   "source": [
    "### R\u00e9cup\u00e9ration des op\u00e9rations par type"
   ]
  },
  {
   "cell_type": "code",
   "execution_count": null,
   "id": "isolated-portsmouth",
   "metadata": {
    "papermill": {},
    "tags": []
   },
   "outputs": [],
   "source": [
    "cash_summary = qonto.connect(QONTO_USER_ID, QONTO_SECRET_KEY).statements.summary(summary_type=\"OPERATION_TYPE\",\n",
    "                                                                                 language=\"FR\",\n",
    "                                                                                 date_from=DATE_FROM,\n",
    "                                                                                 date_to=DATE_TO)\n",
    "cash_summary"
   ]
  },
  {
   "cell_type": "markdown",
   "id": "given-buying",
   "metadata": {
    "papermill": {},
    "tags": []
   },
   "source": [
    "### R\u00e9cup\u00e9ration des derni\u00e8res transactions"
   ]
  },
  {
   "cell_type": "code",
   "execution_count": null,
   "id": "enclosed-anthony",
   "metadata": {
    "papermill": {},
    "tags": []
   },
   "outputs": [],
   "source": [
    "df_last = qonto.connect(QONTO_USER_ID, QONTO_SECRET_KEY).statements.transactions(date_from=LAST_TRANSACTIONS,\n",
    "                                                                                 date_to=DATE_TO)\n",
    "df_last"
   ]
  },
  {
   "cell_type": "markdown",
   "id": "governing-marketing",
   "metadata": {
    "papermill": {},
    "tags": []
   },
   "source": [
    "### Calcule du solde courant"
   ]
  },
  {
   "cell_type": "code",
   "execution_count": null,
   "id": "expensive-jefferson",
   "metadata": {
    "papermill": {},
    "tags": []
   },
   "outputs": [],
   "source": [
    "current_position = round(df_statement['POSITION'].tolist()[-1], 2)\n",
    "current_position"
   ]
  },
  {
   "cell_type": "markdown",
   "id": "tight-factor",
   "metadata": {
    "papermill": {},
    "tags": []
   },
   "source": [
    "## Output"
   ]
  },
  {
   "cell_type": "markdown",
   "id": "eight-tennessee",
   "metadata": {
    "papermill": {},
    "tags": []
   },
   "source": [
    "### Sauvegarde du relev\u00e9 de compte et partage du fichier Excel"
   ]
  },
  {
   "cell_type": "code",
   "execution_count": null,
   "id": "treated-color",
   "metadata": {
    "papermill": {},
    "tags": []
   },
   "outputs": [],
   "source": [
    "df_statement.to_excel(TABLE_FILE)\n",
    "statement_link = naas.asset.add(TABLE_FILE)"
   ]
  },
  {
   "cell_type": "markdown",
   "id": "equipped-forwarding",
   "metadata": {
    "execution": {
     "iopub.execute_input": "2021-05-19T08:00:04.430404Z",
     "iopub.status.busy": "2021-05-19T08:00:04.430176Z",
     "iopub.status.idle": "2021-05-19T08:00:04.433261Z",
     "shell.execute_reply": "2021-05-19T08:00:04.432646Z",
     "shell.execute_reply.started": "2021-05-19T08:00:04.430380Z"
    },
    "papermill": {},
    "tags": []
   },
   "source": [
    "### Sauvegarde et partage du graphique en tant qu'image et page html"
   ]
  },
  {
   "cell_type": "code",
   "execution_count": null,
   "id": "tracked-replication",
   "metadata": {
    "papermill": {},
    "tags": []
   },
   "outputs": [],
   "source": [
    "# Image\n",
    "barline.write_image(GRAPH_IMG)\n",
    "graph_img = naas.asset.add(GRAPH_IMG)\n",
    "\n",
    "# HTML\n",
    "barline.write_html(GRAPH_FILE)\n",
    "params = {\"inline\": True}\n",
    "graph_link = naas.asset.add(GRAPH_FILE, params=params)"
   ]
  },
  {
   "cell_type": "markdown",
   "id": "comparative-provision",
   "metadata": {
    "papermill": {},
    "tags": []
   },
   "source": [
    "### Creation de l'email"
   ]
  },
  {
   "cell_type": "code",
   "execution_count": null,
   "id": "august-trance",
   "metadata": {
    "papermill": {},
    "tags": []
   },
   "outputs": [],
   "source": [
    "email_content = qonto.connect(QONTO_USER_ID, QONTO_SECRET_KEY).statements.email(DATE_FROM,\n",
    "                                                                                DATE_TO,\n",
    "                                                                                current_position,\n",
    "                                                                                graph_img,\n",
    "                                                                                graph_link,\n",
    "                                                                                cash_summary,\n",
    "                                                                                LAST_TRANSACTIONS,\n",
    "                                                                                df_last,\n",
    "                                                                                statement_link)"
   ]
  },
  {
   "cell_type": "markdown",
   "id": "brazilian-trinity",
   "metadata": {
    "papermill": {},
    "tags": []
   },
   "source": [
    "### Envoi de l'email"
   ]
  },
  {
   "cell_type": "code",
   "execution_count": null,
   "id": "awful-bicycle",
   "metadata": {
    "papermill": {},
    "tags": []
   },
   "outputs": [],
   "source": [
    "naas.notification.send(EMAIL_TO,\n",
    "                       EMAIL_SUBJECT,\n",
    "                       email_content)"
   ]
  }
 ],
 "metadata": {
  "kernelspec": {
   "display_name": "Python 3",
   "language": "python",
   "name": "python3"
  },
  "language_info": {
   "codemirror_mode": {
    "name": "ipython",
    "version": 3
   },
   "file_extension": ".py",
   "mimetype": "text/x-python",
   "name": "python",
   "nbconvert_exporter": "python",
   "pygments_lexer": "ipython3",
   "version": "3.9.6"
  },
  "papermill": {
   "default_parameters": {},
   "environment_variables": {},
   "parameters": {},
   "version": "2.3.3"
  },
  "widgets": {
   "application/vnd.jupyter.widget-state+json": {
    "state": {},
    "version_major": 2,
    "version_minor": 0
   }
  },
  "naas": {
   "notebook_path": "Qonto/Qonto_Releve_de_compte_augmente.ipynb",
   "notebook_id": "0a2de8ee-24e2-410b-a194-5582daaf8f70"
  }
 },
 "nbformat": 4,
 "nbformat_minor": 5
}