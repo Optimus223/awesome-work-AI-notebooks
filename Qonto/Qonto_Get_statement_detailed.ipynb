{
 "cells": [
  {
   "cell_type": "markdown",
   "id": "alive-beads",
   "metadata": {
    "papermill": {},
    "tags": []
   },
   "source": [
    "<img width=\"10%\" alt=\"Naas\" src=\"https://landen.imgix.net/jtci2pxwjczr/assets/5ice39g4.png?w=160\"/>"
   ]
  },
  {
   "cell_type": "markdown",
   "id": "operational-bumper",
   "metadata": {
    "papermill": {},
    "tags": []
   },
   "source": [
    "# Qonto - Get statement detailed\n",
    "<a href=\"https://app.naas.ai/user-redirect/naas/downloader?url=https://raw.githubusercontent.com/jupyter-naas/awesome-notebooks/master/Qonto/Qonto_Get_statement_detailed.ipynb\" target=\"_parent\"><img src=\"https://img.shields.io/badge/-Open%20in%20Naas-success?labelColor=000000&logo=data:image/svg+xml;base64,PD94bWwgdmVyc2lvbj0iMS4wIiBlbmNvZGluZz0iVVRGLTgiPz4KPHN2ZyB3aWR0aD0iMTAyNHB4IiBoZWlnaHQ9IjEwMjRweCIgdmlld0JveD0iMCAwIDEwMjQgMTAyNCIgeG1sbnM9Imh0dHA6Ly93d3cudzMub3JnLzIwMDAvc3ZnIiB4bWxuczp4bGluaz0iaHR0cDovL3d3dy53My5vcmcvMTk5OS94bGluayIgdmVyc2lvbj0iMS4xIj4KIDwhLS0gR2VuZXJhdGVkIGJ5IFBpeGVsbWF0b3IgUHJvIDIuMC41IC0tPgogPGRlZnM+CiAgPHRleHQgaWQ9InN0cmluZyIgdHJhbnNmb3JtPSJtYXRyaXgoMS4wIDAuMCAwLjAgMS4wIDIyOC4wIDU0LjUpIiBmb250LWZhbWlseT0iQ29tZm9ydGFhLVJlZ3VsYXIsIENvbWZvcnRhYSIgZm9udC1zaXplPSI4MDAiIHRleHQtZGVjb3JhdGlvbj0ibm9uZSIgZmlsbD0iI2ZmZmZmZiIgeD0iMS4xOTk5OTk5OTk5OTk5ODg2IiB5PSI3MDUuMCI+bjwvdGV4dD4KIDwvZGVmcz4KIDx1c2UgaWQ9Im4iIHhsaW5rOmhyZWY9IiNzdHJpbmciLz4KPC9zdmc+Cg==\"/></a>"
   ]
  },
  {
   "cell_type": "markdown",
   "id": "f4b8afdb-7c29-49d5-9218-621b5f004532",
   "metadata": {
    "papermill": {},
    "tags": []
   },
   "source": [
    "**Tags:** #qonto #bank #statement #naas_drivers"
   ]
  },
  {
   "cell_type": "markdown",
   "id": "input_cell",
   "metadata": {
    "papermill": {},
    "tags": []
   },
   "source": [
    "## Input"
   ]
  },
  {
   "cell_type": "markdown",
   "id": "import_cell",
   "metadata": {
    "papermill": {},
    "tags": []
   },
   "source": [
    "### Import library"
   ]
  },
  {
   "cell_type": "code",
   "execution_count": null,
   "id": "running-communication",
   "metadata": {
    "papermill": {},
    "tags": []
   },
   "outputs": [],
   "source": [
    "from naas_drivers import qonto"
   ]
  },
  {
   "cell_type": "markdown",
   "id": "b44ac63a-e788-4f3c-a1aa-bba83549721f",
   "metadata": {
    "papermill": {},
    "tags": []
   },
   "source": [
    "### Get your Qonto credentials\n",
    "<a href='https://www.notion.so/naas-official/Qonto-driver-Get-your-credentials-0cc97828b4e7467c8bfbcf704a77e5f4'>How to get your credentials ?</a>"
   ]
  },
  {
   "cell_type": "code",
   "execution_count": null,
   "id": "6ba918db-156a-47a5-a8dc-8f29c98c3422",
   "metadata": {
    "papermill": {},
    "tags": []
   },
   "outputs": [],
   "source": [
    "QONTO_USER_ID = 'YOUR_USER_ID'\n",
    "QONTO_SECRET_KEY = 'YOUR_SECRET_KEY'"
   ]
  },
  {
   "cell_type": "markdown",
   "id": "211d89c2-a676-4da9-875b-9c98de9ef07f",
   "metadata": {
    "papermill": {},
    "tags": []
   },
   "source": [
    "### Parameters"
   ]
  },
  {
   "cell_type": "code",
   "execution_count": null,
   "id": "d2cfda9a-b58f-42e1-8b23-48baab5cdb06",
   "metadata": {
    "papermill": {},
    "tags": []
   },
   "outputs": [],
   "source": [
    "# Date to start extraction, format: \"AAAA-MM-JJ\", example: \"2021-01-01\"\n",
    "date_from = None\n",
    "# Date to end extraction, format: \"AAAA-MM-JJ\", example: \"2021-01-01\", default = now\n",
    "date_to = None"
   ]
  },
  {
   "cell_type": "markdown",
   "id": "b9181c37-3df9-4c27-b7f0-9eed14ce66b1",
   "metadata": {
    "papermill": {},
    "tags": []
   },
   "source": [
    "## Model"
   ]
  },
  {
   "cell_type": "markdown",
   "id": "b2d7c135-a38e-4d46-9633-56653d3d990e",
   "metadata": {
    "papermill": {},
    "tags": []
   },
   "source": [
    "### Get statement detailed"
   ]
  },
  {
   "cell_type": "code",
   "execution_count": null,
   "id": "6d794fa7-1c27-4769-8f94-619bd132d66a",
   "metadata": {
    "papermill": {},
    "tags": []
   },
   "outputs": [],
   "source": [
    "df_statement = qonto.connect(QONTO_USER_ID, QONTO_SECRET_KEY).statement.detailed(date_from,\n",
    "                                                                                 date_to)"
   ]
  },
  {
   "cell_type": "markdown",
   "id": "ce9e4742-d16a-4a97-b6a6-5028c9b28949",
   "metadata": {
    "papermill": {},
    "tags": []
   },
   "source": [
    "## Output"
   ]
  },
  {
   "cell_type": "markdown",
   "id": "display_cell",
   "metadata": {
    "papermill": {},
    "tags": []
   },
   "source": [
    "### Display result"
   ]
  },
  {
   "cell_type": "code",
   "execution_count": null,
   "id": "2d62c5c5-b68b-459c-83ae-c8bd7b71fd8e",
   "metadata": {
    "papermill": {},
    "tags": []
   },
   "outputs": [],
   "source": [
    "df_statement"
   ]
  }
 ],
 "metadata": {
  "kernelspec": {
   "display_name": "Python 3",
   "language": "python",
   "name": "python3"
  },
  "language_info": {
   "codemirror_mode": {
    "name": "ipython",
    "version": 3
   },
   "file_extension": ".py",
   "mimetype": "text/x-python",
   "name": "python",
   "nbconvert_exporter": "python",
   "pygments_lexer": "ipython3",
   "version": "3.8.8"
  },
  "papermill": {
   "default_parameters": {},
   "environment_variables": {},
   "parameters": {},
   "version": "2.3.3"
  },
  "toc-autonumbering": false,
  "toc-showmarkdowntxt": true,
  "toc-showtags": false,
  "widgets": {
   "application/vnd.jupyter.widget-state+json": {
    "state": {},
    "version_major": 2,
    "version_minor": 0
   }
  }
 },
 "nbformat": 4,
 "nbformat_minor": 5
}