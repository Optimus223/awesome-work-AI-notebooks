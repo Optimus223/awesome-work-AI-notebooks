{
 "cells": [
  {
   "cell_type": "markdown",
   "id": "primary-magnet",
   "metadata": {},
   "source": [
    "<img width=\"10%\" alt=\"Naas\" src=\"https://landen.imgix.net/jtci2pxwjczr/assets/5ice39g4.png?w=160\"/>"
   ]
  },
  {
   "cell_type": "markdown",
   "id": "acknowledged-princeton",
   "metadata": {},
   "source": [
    "# Qonto - Relevé de compte augmenté\n",
    "<a href=\"https://app.naas.ai/user-redirect/naas/downloader?url=https://raw.githubusercontent.com/jupyter-naas/awesome-notebooks/master/Qonto/Qonto_Get_statement_detailed.ipynb\" target=\"_parent\"><img src=\"https://img.shields.io/badge/-Open%20in%20Naas-success?labelColor=000000&logo=data:image/svg+xml;base64,PD94bWwgdmVyc2lvbj0iMS4wIiBlbmNvZGluZz0iVVRGLTgiPz4KPHN2ZyB3aWR0aD0iMTAyNHB4IiBoZWlnaHQ9IjEwMjRweCIgdmlld0JveD0iMCAwIDEwMjQgMTAyNCIgeG1sbnM9Imh0dHA6Ly93d3cudzMub3JnLzIwMDAvc3ZnIiB4bWxuczp4bGluaz0iaHR0cDovL3d3dy53My5vcmcvMTk5OS94bGluayIgdmVyc2lvbj0iMS4xIj4KIDwhLS0gR2VuZXJhdGVkIGJ5IFBpeGVsbWF0b3IgUHJvIDIuMC41IC0tPgogPGRlZnM+CiAgPHRleHQgaWQ9InN0cmluZyIgdHJhbnNmb3JtPSJtYXRyaXgoMS4wIDAuMCAwLjAgMS4wIDIyOC4wIDU0LjUpIiBmb250LWZhbWlseT0iQ29tZm9ydGFhLVJlZ3VsYXIsIENvbWZvcnRhYSIgZm9udC1zaXplPSI4MDAiIHRleHQtZGVjb3JhdGlvbj0ibm9uZSIgZmlsbD0iI2ZmZmZmZiIgeD0iMS4xOTk5OTk5OTk5OTk5ODg2IiB5PSI3MDUuMCI+bjwvdGV4dD4KIDwvZGVmcz4KIDx1c2UgaWQ9Im4iIHhsaW5rOmhyZWY9IiNzdHJpbmciLz4KPC9zdmc+Cg==\"/></a>"
   ]
  },
  {
   "cell_type": "markdown",
   "id": "impressive-webcam",
   "metadata": {},
   "source": [
    "## Input"
   ]
  },
  {
   "cell_type": "markdown",
   "id": "public-control",
   "metadata": {},
   "source": [
    "### Import des librairies"
   ]
  },
  {
   "cell_type": "code",
   "execution_count": null,
   "id": "korean-pottery",
   "metadata": {
    "tags": []
   },
   "outputs": [],
   "source": [
    "from naas_drivers import qonto, emailbuilder\n",
    "from datetime import datetime, timedelta\n",
    "import pandas as pd\n",
    "import naas"
   ]
  },
  {
   "cell_type": "markdown",
   "id": "manufactured-beverage",
   "metadata": {},
   "source": [
    "### Configuration utilisateur"
   ]
  },
  {
   "cell_type": "markdown",
   "id": "cleared-shooting",
   "metadata": {},
   "source": [
    "#### Qonto credentials"
   ]
  },
  {
   "cell_type": "code",
   "execution_count": null,
   "id": "approved-newspaper",
   "metadata": {},
   "outputs": [],
   "source": [
    "QONTO_USER_ID = 'YOUR_USER_ID'\n",
    "QONTO_API_KEY = 'YOUR_API_KEY'"
   ]
  },
  {
   "cell_type": "markdown",
   "id": "angry-wright",
   "metadata": {},
   "source": [
    "#### Email information"
   ]
  },
  {
   "cell_type": "code",
   "execution_count": null,
   "id": "subtle-flesh",
   "metadata": {
    "tags": []
   },
   "outputs": [],
   "source": [
    "# List of emails\n",
    "EMAIL_TO = [\"your_email_adresse\"]\n",
    "\n",
    "# Subject diplay in email\n",
    "EMAIL_SUBJECT = f\"🏛️ Qonto - Votre relevé de compte augmenté du {datetime.now().strftime('%d/%m/%Y')}\""
   ]
  },
  {
   "cell_type": "markdown",
   "id": "imposed-timber",
   "metadata": {},
   "source": [
    "#### Periode d'analyse"
   ]
  },
  {
   "cell_type": "code",
   "execution_count": null,
   "id": "limited-rogers",
   "metadata": {},
   "outputs": [],
   "source": [
    "# Date from in format YYYY-MM-DD\n",
    "DATE_FROM = \"2021-01-01\"\n",
    "\n",
    "# Date to in format YYYY-MM-DD (default = TODAY)\n",
    "DATE_TO = datetime.now().strftime(\"%Y-%m-%d\")\n",
    "\n",
    "# Number of days to get last transactions, must be negative integer\n",
    "LAST_TRANSACTIONS = -7"
   ]
  },
  {
   "cell_type": "markdown",
   "id": "raising-grant",
   "metadata": {},
   "source": [
    "#### Nom des fichiers partagés dans l'email"
   ]
  },
  {
   "cell_type": "code",
   "execution_count": null,
   "id": "regular-process",
   "metadata": {},
   "outputs": [],
   "source": [
    "GRAPH_FILE = \"graph_account_statement.html\"\n",
    "GRAPH_IMG = \"graph_account_statement.jpeg\"\n",
    "TABLE_FILE = \"account_statement.xlsx\""
   ]
  },
  {
   "cell_type": "markdown",
   "id": "tender-optics",
   "metadata": {},
   "source": [
    "### Récupération du relevé consolidé"
   ]
  },
  {
   "cell_type": "code",
   "execution_count": null,
   "id": "touched-technician",
   "metadata": {
    "tags": []
   },
   "outputs": [],
   "source": [
    "# Colonne to consolidate (DATE already included), if empty return only DATE, AMOUNT, POSITION\n",
    "to_conso = [\"TRANSACTION_ID\",\n",
    "            \"LABEL\",\n",
    "            \"OPERATION_TYPE\"]\n",
    "\n",
    "df_statement = qonto.connect(QONTO_USER_ID, QONTO_API_KEY).statement.consolidated(to_conso=to_conso,\n",
    "                                                                                  date_from=DATE_FROM,\n",
    "                                                                                  date_to=DATE_TO)\n",
    "df_statement"
   ]
  },
  {
   "cell_type": "markdown",
   "id": "meaningful-command",
   "metadata": {},
   "source": [
    "### Récupération du graphique \"barline\""
   ]
  },
  {
   "cell_type": "code",
   "execution_count": null,
   "id": "behavioral-apparatus",
   "metadata": {
    "tags": []
   },
   "outputs": [],
   "source": [
    "barline = qonto.connect(QONTO_USER_ID, QONTO_API_KEY).statement.barline(date_from=DATE_FROM,\n",
    "                                                                        date_to=DATE_TO)\n",
    "barline"
   ]
  },
  {
   "cell_type": "markdown",
   "id": "presidential-reviewer",
   "metadata": {},
   "source": [
    "### Récupération des opérations par typologie"
   ]
  },
  {
   "cell_type": "code",
   "execution_count": null,
   "id": "saving-variation",
   "metadata": {
    "tags": []
   },
   "outputs": [],
   "source": [
    "cash_summary = qonto.connect(QONTO_USER_ID, QONTO_API_KEY).statement.summary(date_from=DATE_FROM,\n",
    "                                                                             date_to=DATE_TO)\n",
    "cash_summary"
   ]
  },
  {
   "cell_type": "markdown",
   "id": "bearing-begin",
   "metadata": {},
   "source": [
    "### Récupération des dernières transactions"
   ]
  },
  {
   "cell_type": "code",
   "execution_count": null,
   "id": "ideal-nickname",
   "metadata": {
    "tags": []
   },
   "outputs": [],
   "source": [
    "df_last = qonto.connect(QONTO_USER_ID, QONTO_API_KEY).statement.transactions(date_from=LAST_TRANSACTIONS,\n",
    "                                                                             date_to=DATE_TO)\n",
    "df_last"
   ]
  },
  {
   "cell_type": "markdown",
   "id": "missing-occupation",
   "metadata": {},
   "source": [
    "## Model"
   ]
  },
  {
   "cell_type": "markdown",
   "id": "opened-coast",
   "metadata": {},
   "source": [
    "### Calcule du solde courant"
   ]
  },
  {
   "cell_type": "code",
   "execution_count": null,
   "id": "monetary-sterling",
   "metadata": {
    "tags": []
   },
   "outputs": [],
   "source": [
    "current_position = round(df_statement['POSITION'].tolist()[-1], 2)\n",
    "current_position"
   ]
  },
  {
   "cell_type": "markdown",
   "id": "spiritual-special",
   "metadata": {},
   "source": [
    "### Sauvegarde du relevé de compte et partage du fichier Excel"
   ]
  },
  {
   "cell_type": "code",
   "execution_count": null,
   "id": "dominican-trust",
   "metadata": {
    "tags": []
   },
   "outputs": [],
   "source": [
    "df_statement.to_excel(TABLE_FILE)\n",
    "statement_link = naas.asset.add(TABLE_FILE)"
   ]
  },
  {
   "cell_type": "markdown",
   "id": "small-routine",
   "metadata": {
    "execution": {
     "iopub.execute_input": "2021-05-19T08:00:04.430404Z",
     "iopub.status.busy": "2021-05-19T08:00:04.430176Z",
     "iopub.status.idle": "2021-05-19T08:00:04.433261Z",
     "shell.execute_reply": "2021-05-19T08:00:04.432646Z",
     "shell.execute_reply.started": "2021-05-19T08:00:04.430380Z"
    }
   },
   "source": [
    "### Sauvegarde et partage du graphique en tant qu'image et page html"
   ]
  },
  {
   "cell_type": "code",
   "execution_count": null,
   "id": "ancient-diploma",
   "metadata": {
    "tags": []
   },
   "outputs": [],
   "source": [
    "# Image\n",
    "barline.write_image(GRAPH_IMG)\n",
    "graph_img = naas.asset.add(GRAPH_IMG)\n",
    "\n",
    "# HTML\n",
    "barline.write_html(GRAPH_FILE)\n",
    "params = {\"inline\": True}\n",
    "graph_link = naas.asset.add(GRAPH_FILE, params=params)"
   ]
  },
  {
   "cell_type": "markdown",
   "id": "burning-research",
   "metadata": {},
   "source": [
    "### Creation de l'email"
   ]
  },
  {
   "cell_type": "code",
   "execution_count": null,
   "id": "velvet-dairy",
   "metadata": {
    "tags": []
   },
   "outputs": [],
   "source": [
    "email_content = qonto.connect(QONTO_USER_ID, QONTO_API_KEY).statement.email(DATE_FROM,\n",
    "                                                                            DATE_TO,\n",
    "                                                                            current_position,\n",
    "                                                                            graph_img,\n",
    "                                                                            graph_link,\n",
    "                                                                            cash_summary,\n",
    "                                                                            LAST_TRANSACTIONS,\n",
    "                                                                            df_last,\n",
    "                                                                            statement_link)"
   ]
  },
  {
   "cell_type": "markdown",
   "id": "better-karaoke",
   "metadata": {},
   "source": [
    "## Output"
   ]
  },
  {
   "cell_type": "markdown",
   "id": "large-audience",
   "metadata": {},
   "source": [
    "### Envoi de l'email"
   ]
  },
  {
   "cell_type": "code",
   "execution_count": null,
   "id": "missing-folks",
   "metadata": {
    "tags": []
   },
   "outputs": [],
   "source": [
    "naas.notification.send(EMAIL_TO,\n",
    "                       EMAIL_SUBJECT,\n",
    "                       email_content)"
   ]
  },
  {
   "cell_type": "markdown",
   "id": "shared-massage",
   "metadata": {},
   "source": [
    "### Automatiser l'envoi"
   ]
  },
  {
   "cell_type": "code",
   "execution_count": null,
   "id": "partial-illinois",
   "metadata": {
    "tags": []
   },
   "outputs": [],
   "source": [
    "naas.scheduler.add(cron=\"0 8 * * 1\")"
   ]
  }
 ],
 "metadata": {
  "kernelspec": {
   "display_name": "Python 3",
   "language": "python",
   "name": "python3"
  },
  "language_info": {
   "codemirror_mode": {
    "name": "ipython",
    "version": 3
   },
   "file_extension": ".py",
   "mimetype": "text/x-python",
   "name": "python",
   "nbconvert_exporter": "python",
   "pygments_lexer": "ipython3",
   "version": "3.8.8"
  },
  "widgets": {
   "application/vnd.jupyter.widget-state+json": {
    "state": {},
    "version_major": 2,
    "version_minor": 0
   }
  }
 },
 "nbformat": 4,
 "nbformat_minor": 5
}
