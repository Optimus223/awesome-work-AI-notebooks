{
 "cells": [
  {
   "cell_type": "markdown",
   "id": "about-dealing",
   "metadata": {},
   "source": [
    "<img width=\"100%\" alt=\"Naas\" src=\"https://lib.umso.co/lib_sluGpRGQOLtkyEpz/98a28jf4yswpuert.png\"/>"
   ]
  },
  {
   "cell_type": "markdown",
   "id": "south-dayton",
   "metadata": {},
   "source": [
    "# 🏛 Qonto - Relevé de compte augmenté\n",
    "<a href=\"https://app.naas.ai/user-redirect/naas/downloader?url=https://raw.githubusercontent.com/jupyter-naas/awesome-notebooks/master/Qonto/Qonto_Get_statement_detailed.ipynb\" target=\"_parent\"><img src=\"https://img.shields.io/badge/-Open%20in%20Naas-success?labelColor=000000&logo=data:image/svg+xml;base64,PD94bWwgdmVyc2lvbj0iMS4wIiBlbmNvZGluZz0iVVRGLTgiPz4KPHN2ZyB3aWR0aD0iMTAyNHB4IiBoZWlnaHQ9IjEwMjRweCIgdmlld0JveD0iMCAwIDEwMjQgMTAyNCIgeG1sbnM9Imh0dHA6Ly93d3cudzMub3JnLzIwMDAvc3ZnIiB4bWxuczp4bGluaz0iaHR0cDovL3d3dy53My5vcmcvMTk5OS94bGluayIgdmVyc2lvbj0iMS4xIj4KIDwhLS0gR2VuZXJhdGVkIGJ5IFBpeGVsbWF0b3IgUHJvIDIuMC41IC0tPgogPGRlZnM+CiAgPHRleHQgaWQ9InN0cmluZyIgdHJhbnNmb3JtPSJtYXRyaXgoMS4wIDAuMCAwLjAgMS4wIDIyOC4wIDU0LjUpIiBmb250LWZhbWlseT0iQ29tZm9ydGFhLVJlZ3VsYXIsIENvbWZvcnRhYSIgZm9udC1zaXplPSI4MDAiIHRleHQtZGVjb3JhdGlvbj0ibm9uZSIgZmlsbD0iI2ZmZmZmZiIgeD0iMS4xOTk5OTk5OTk5OTk5ODg2IiB5PSI3MDUuMCI+bjwvdGV4dD4KIDwvZGVmcz4KIDx1c2UgaWQ9Im4iIHhsaW5rOmhyZWY9IiNzdHJpbmciLz4KPC9zdmc+Cg==\"/></a>"
   ]
  },
  {
   "cell_type": "markdown",
   "id": "metallic-scheme",
   "metadata": {},
   "source": [
    "Recevez un relevé de compte augmenté par email, chaque semaine, grâce à un template Naas.ai (moteur de données opensource, 100 crédits gratuit par mois. \n",
    "<br><br>\n",
    "-Durée de l'installation = 5 minutes<br>\n",
    "-Support d'installation = Guide vidéo<br>\n",
    "-Niveau = Facile<br>"
   ]
  },
  {
   "cell_type": "markdown",
   "id": "simple-survivor",
   "metadata": {},
   "source": [
    "## Input\n",
    "Dans cette section, vous trouverez les informations à configurer pour que ce notebook puisse accéder à vos données via l'API Qonto."
   ]
  },
  {
   "cell_type": "markdown",
   "id": "digital-insulation",
   "metadata": {},
   "source": [
    "### Import des librairies\n",
    "Les libraries sont des outils créé dans le language Python qui permettent le fonctionnement du notebook. Aucune action nécessaire. "
   ]
  },
  {
   "cell_type": "code",
   "execution_count": null,
   "id": "eleven-canvas",
   "metadata": {
    "tags": []
   },
   "outputs": [],
   "source": [
    "from naas_drivers import qonto, emailbuilder\n",
    "from datetime import datetime, timedelta\n",
    "import pandas as pd\n",
    "import naas"
   ]
  },
  {
   "cell_type": "markdown",
   "id": "demonstrated-tuner",
   "metadata": {},
   "source": [
    "### Configuration des accès API\n",
    "👇 Veuillez saisir ci-dessous, entre les guillemets, votre identifiant et votre clé secrète récupérés sur la plateforme Qonto."
   ]
  },
  {
   "cell_type": "code",
   "execution_count": 2,
   "id": "veterinary-coach",
   "metadata": {
    "execution": {
     "iopub.execute_input": "2021-07-15T12:43:22.770616Z",
     "iopub.status.busy": "2021-07-15T12:43:22.770399Z",
     "iopub.status.idle": "2021-07-15T12:43:22.773708Z",
     "shell.execute_reply": "2021-07-15T12:43:22.773122Z",
     "shell.execute_reply.started": "2021-07-15T12:43:22.770595Z"
    },
    "tags": []
   },
   "outputs": [],
   "source": [
    "QONTO_USER_ID = 'Votre_identifiant_ici'\n",
    "QONTO_API_KEY = 'Votre_clé_secrète_ici'"
   ]
  },
  {
   "cell_type": "markdown",
   "id": "lonely-authentication",
   "metadata": {},
   "source": [
    "### Configuration de l'email\n",
    "👇 Veuillez saisir ci-dessous, entre les guillemets, le destinataire de l'email (si vous avez plusieurs destinataires, separez d'une virgule les emails en conservants les guillemets)<br>\n",
    "Vous pouvez aussi changer l'objet de l'email (configuration avancée)"
   ]
  },
  {
   "cell_type": "code",
   "execution_count": null,
   "id": "dental-decision",
   "metadata": {
    "tags": []
   },
   "outputs": [],
   "source": [
    "# Destinataire\n",
    "EMAIL_TO = [\"Votre_adresse_email_ici\"]\n",
    "\n",
    "# Objet de l'email\n",
    "EMAIL_SUBJECT = f\"🏛️ Qonto - Votre relevé de compte augmenté du {datetime.now().strftime('%d/%m/%Y')}\""
   ]
  },
  {
   "cell_type": "markdown",
   "id": "adapted-display",
   "metadata": {},
   "source": [
    "### Configuration de la période de l'analyse\n",
    "👇 Veuillez saisir ci-dessous, entre les guillemets, la date de début (et la date de fin de votre analyse."
   ]
  },
  {
   "cell_type": "code",
   "execution_count": null,
   "id": "forbidden-mumbai",
   "metadata": {
    "tags": []
   },
   "outputs": [],
   "source": [
    "# Date de début au format AAAA-MM-JJ\n",
    "DATE_FROM = \"2021-01-01\"\n",
    "\n",
    "# Date de fin au format AAAA-MM-JJ (par defaut, c'est la date d'aujoud'hui qui est selectionnée)\n",
    "DATE_TO = datetime.now().strftime(\"%Y-%m-%d\")\n",
    "\n",
    "# Nombre de jours de récupération des dernières transactions (doit être un chiffre négatif)\n",
    "LAST_TRANSACTIONS = -7"
   ]
  },
  {
   "cell_type": "markdown",
   "id": "explicit-mexico",
   "metadata": {},
   "source": [
    "### Configuration de l'automatisation\n",
    "Grâce à la formule ci-dessous, le notebook se lancera tous les lundis à 8h.<br>\n",
    "Si vous souhaitez modifier la fréquence d'envoi, vous devez modifier la synthaxe entre guillemets en  <a href=\"https://crontab.guru/\">suivant la documentation officielle CRON</a> (standard internationnal pour la programmation de tâches automatisées)"
   ]
  },
  {
   "cell_type": "code",
   "execution_count": null,
   "id": "bulgarian-houston",
   "metadata": {
    "tags": []
   },
   "outputs": [],
   "source": [
    "naas.scheduler.add(cron=\"0 8 * * 1\")"
   ]
  },
  {
   "cell_type": "markdown",
   "id": "wicked-virgin",
   "metadata": {},
   "source": [
    "**Configuration des noms de fichiers (avancé)**"
   ]
  },
  {
   "cell_type": "code",
   "execution_count": null,
   "id": "inside-chocolate",
   "metadata": {},
   "outputs": [],
   "source": [
    "GRAPH_FILE = \"graph_account_statement.html\"\n",
    "GRAPH_IMG = \"graph_account_statement.jpeg\"\n",
    "TABLE_FILE = \"account_statement.xlsx\""
   ]
  },
  {
   "cell_type": "markdown",
   "id": "lyric-creator",
   "metadata": {},
   "source": [
    "## Model"
   ]
  },
  {
   "cell_type": "markdown",
   "id": "vocal-lexington",
   "metadata": {},
   "source": [
    "### Récupération du relevé de compte consolidé"
   ]
  },
  {
   "cell_type": "code",
   "execution_count": null,
   "id": "dominant-curtis",
   "metadata": {
    "tags": []
   },
   "outputs": [],
   "source": [
    "# Colonne to consolidate (DATE already included), if empty return only DATE, AMOUNT, POSITION\n",
    "to_conso = [\"TRANSACTION_ID\",\n",
    "            \"LABEL\",\n",
    "            \"OPERATION_TYPE\"]\n",
    "\n",
    "df_statement = qonto.connect(QONTO_USER_ID, QONTO_API_KEY).statement.consolidated(to_conso=to_conso,\n",
    "                                                                                  date_from=DATE_FROM,\n",
    "                                                                                  date_to=DATE_TO)\n",
    "df_statement"
   ]
  },
  {
   "cell_type": "markdown",
   "id": "synthetic-melbourne",
   "metadata": {},
   "source": [
    "### Création du graphique \"Evolution de la Trésorerie\""
   ]
  },
  {
   "cell_type": "code",
   "execution_count": null,
   "id": "liked-humanity",
   "metadata": {
    "tags": []
   },
   "outputs": [],
   "source": [
    "barline = qonto.connect(QONTO_USER_ID, QONTO_API_KEY).statement.barline(date_from=DATE_FROM,\n",
    "                                                                        date_to=DATE_TO)\n",
    "barline"
   ]
  },
  {
   "cell_type": "markdown",
   "id": "southern-astronomy",
   "metadata": {},
   "source": [
    "### Récupération des opérations par type"
   ]
  },
  {
   "cell_type": "code",
   "execution_count": null,
   "id": "checked-roller",
   "metadata": {
    "tags": []
   },
   "outputs": [],
   "source": [
    "cash_summary = qonto.connect(QONTO_USER_ID, QONTO_API_KEY).statement.summary(date_from=DATE_FROM,\n",
    "                                                                             date_to=DATE_TO)\n",
    "cash_summary"
   ]
  },
  {
   "cell_type": "markdown",
   "id": "focal-booth",
   "metadata": {},
   "source": [
    "### Récupération des dernières transactions"
   ]
  },
  {
   "cell_type": "code",
   "execution_count": null,
   "id": "representative-mailing",
   "metadata": {
    "tags": []
   },
   "outputs": [],
   "source": [
    "df_last = qonto.connect(QONTO_USER_ID, QONTO_API_KEY).statement.transactions(date_from=LAST_TRANSACTIONS,\n",
    "                                                                             date_to=DATE_TO)\n",
    "df_last"
   ]
  },
  {
   "cell_type": "markdown",
   "id": "binding-merit",
   "metadata": {},
   "source": [
    "### Calcule du solde courant"
   ]
  },
  {
   "cell_type": "code",
   "execution_count": null,
   "id": "equipped-entrepreneur",
   "metadata": {
    "tags": []
   },
   "outputs": [],
   "source": [
    "current_position = round(df_statement['POSITION'].tolist()[-1], 2)\n",
    "current_position"
   ]
  },
  {
   "cell_type": "markdown",
   "id": "registered-radical",
   "metadata": {},
   "source": [
    "## Output"
   ]
  },
  {
   "cell_type": "markdown",
   "id": "smooth-accordance",
   "metadata": {},
   "source": [
    "### Sauvegarde du relevé de compte et partage du fichier Excel"
   ]
  },
  {
   "cell_type": "code",
   "execution_count": null,
   "id": "emotional-clone",
   "metadata": {
    "tags": []
   },
   "outputs": [],
   "source": [
    "df_statement.to_excel(TABLE_FILE)\n",
    "statement_link = naas.asset.add(TABLE_FILE)"
   ]
  },
  {
   "cell_type": "markdown",
   "id": "likely-system",
   "metadata": {
    "execution": {
     "iopub.execute_input": "2021-05-19T08:00:04.430404Z",
     "iopub.status.busy": "2021-05-19T08:00:04.430176Z",
     "iopub.status.idle": "2021-05-19T08:00:04.433261Z",
     "shell.execute_reply": "2021-05-19T08:00:04.432646Z",
     "shell.execute_reply.started": "2021-05-19T08:00:04.430380Z"
    }
   },
   "source": [
    "### Sauvegarde et partage du graphique en tant qu'image et page html"
   ]
  },
  {
   "cell_type": "code",
   "execution_count": null,
   "id": "hairy-mouth",
   "metadata": {
    "tags": []
   },
   "outputs": [],
   "source": [
    "# Image\n",
    "barline.write_image(GRAPH_IMG)\n",
    "graph_img = naas.asset.add(GRAPH_IMG)\n",
    "\n",
    "# HTML\n",
    "barline.write_html(GRAPH_FILE)\n",
    "params = {\"inline\": True}\n",
    "graph_link = naas.asset.add(GRAPH_FILE, params=params)"
   ]
  },
  {
   "cell_type": "markdown",
   "id": "collectible-allocation",
   "metadata": {},
   "source": [
    "### Creation de l'email"
   ]
  },
  {
   "cell_type": "code",
   "execution_count": null,
   "id": "dominant-bread",
   "metadata": {
    "tags": []
   },
   "outputs": [],
   "source": [
    "email_content = qonto.connect(QONTO_USER_ID, QONTO_API_KEY).statement.email(DATE_FROM,\n",
    "                                                                            DATE_TO,\n",
    "                                                                            current_position,\n",
    "                                                                            graph_img,\n",
    "                                                                            graph_link,\n",
    "                                                                            cash_summary,\n",
    "                                                                            LAST_TRANSACTIONS,\n",
    "                                                                            df_last,\n",
    "                                                                            statement_link)"
   ]
  },
  {
   "cell_type": "markdown",
   "id": "spare-christmas",
   "metadata": {},
   "source": [
    "### Envoi de l'email"
   ]
  },
  {
   "cell_type": "code",
   "execution_count": null,
   "id": "interesting-intensity",
   "metadata": {
    "tags": []
   },
   "outputs": [],
   "source": [
    "naas.notification.send(EMAIL_TO,\n",
    "                       EMAIL_SUBJECT,\n",
    "                       email_content)"
   ]
  }
 ],
 "metadata": {
  "kernelspec": {
   "display_name": "Python 3",
   "language": "python",
   "name": "python3"
  },
  "language_info": {
   "codemirror_mode": {
    "name": "ipython",
    "version": 3
   },
   "file_extension": ".py",
   "mimetype": "text/x-python",
   "name": "python",
   "nbconvert_exporter": "python",
   "pygments_lexer": "ipython3",
   "version": "3.8.8"
  },
  "widgets": {
   "application/vnd.jupyter.widget-state+json": {
    "state": {},
    "version_major": 2,
    "version_minor": 0
   }
  }
 },
 "nbformat": 4,
 "nbformat_minor": 5
}
