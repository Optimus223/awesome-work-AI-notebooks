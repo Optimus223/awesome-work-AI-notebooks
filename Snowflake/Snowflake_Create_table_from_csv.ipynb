{
 "cells": [
  {
   "cell_type": "markdown",
   "id": "paperback-friendship",
   "metadata": {
    "papermill": {},
    "tags": []
   },
   "source": [
    "<img width=\"10%\" alt=\"Naas\" src=\"https://landen.imgix.net/jtci2pxwjczr/assets/5ice39g4.png?w=160\"/>"
   ]
  },
  {
   "cell_type": "markdown",
   "id": "honest-national",
   "metadata": {
    "papermill": {},
    "tags": []
   },
   "source": [
    "# Snowflake - Create table from csv\n",
    "<a href=\"https://app.naas.ai/user-redirect/naas/downloader?url=https://raw.githubusercontent.com/jupyter-naas/awesome-notebooks/master/Snowflake/Snowflake_Create_table_from_csv.ipynb\" target=\"_parent\"><img src=\"https://naasai-public.s3.eu-west-3.amazonaws.com/open_in_naas.svg\"/></a>"
   ]
  },
  {
   "cell_type": "markdown",
   "id": "7a67107f-7cfc-46f9-b2c3-8a1d753411c2",
   "metadata": {
    "papermill": {},
    "tags": []
   },
   "source": [
    "**Tags:** #snowflake #database #snippet #operations #naas #jupyternotebooks"
   ]
  },
  {
   "cell_type": "markdown",
   "id": "naas-author",
   "metadata": {
    "papermill": {},
    "tags": [
     "naas"
    ]
   },
   "source": [
    "**Author:** [Sanjay Sabu](https://www.linkedin.com/in/sanjay-sabu-4205/)"
   ]
  },
  {
   "cell_type": "markdown",
   "id": "input_cell",
   "metadata": {
    "papermill": {},
    "tags": []
   },
   "source": [
    "## Input"
   ]
  },
  {
   "cell_type": "markdown",
   "id": "import_cell",
   "metadata": {
    "papermill": {},
    "tags": []
   },
   "source": [
    "### Import libraries"
   ]
  },
  {
   "cell_type": "code",
   "execution_count": null,
   "id": "51f47530-ba46-4570-8aba-f5a003118439",
   "metadata": {
    "papermill": {},
    "tags": []
   },
   "outputs": [],
   "source": [
    "import csv\n",
    "from snowflakeconnector import SnowflakeConnector\n",
    "import snowflake.connector as snow\n",
    "import csv"
   ]
  },
  {
   "cell_type": "markdown",
   "id": "pregnant-artwork",
   "metadata": {
    "papermill": {},
    "tags": []
   },
   "source": [
    "### Insert your credentials"
   ]
  },
  {
   "cell_type": "code",
   "execution_count": 1,
   "id": "governing-think",
   "metadata": {
    "papermill": {},
    "tags": []
   },
   "outputs": [],
   "source": [
    "username = \"sanjaynaas\"\n",
    "password = \"Password123\""
   ]
  },
  {
   "cell_type": "markdown",
   "id": "becoming-input",
   "metadata": {
    "papermill": {},
    "tags": []
   },
   "source": [
    "### Specify your account details"
   ]
  },
  {
   "cell_type": "code",
   "execution_count": 2,
   "id": "european-imagination",
   "metadata": {
    "papermill": {},
    "tags": []
   },
   "outputs": [],
   "source": [
    "account = \"iz84541.europe-west4.gcp\"\n",
    "database = \"DEMO_DB\"\n",
    "table_name = \"NAAS_NEW\"\n",
    "warehouse_name = \"COMPUTE_WH\"\n",
    "schema_name = \"PUBLIC\""
   ]
  },
  {
   "cell_type": "markdown",
   "id": "model_cell",
   "metadata": {
    "papermill": {},
    "tags": []
   },
   "source": [
    "## Model"
   ]
  },
  {
   "cell_type": "markdown",
   "id": "manufactured-tobago",
   "metadata": {
    "papermill": {},
    "tags": []
   },
   "source": [
    "### Connecting to Snowflake"
   ]
  },
  {
   "cell_type": "code",
   "execution_count": 3,
   "id": "disturbed-battlefield",
   "metadata": {
    "papermill": {},
    "tags": []
   },
   "outputs": [],
   "source": [
    "conn = snow.connect(user=username,password=password,account=account)\n",
    "cur = conn.cursor()\n",
    "instance = SnowflakeConnector(username,password,account,database)"
   ]
  },
  {
   "cell_type": "markdown",
   "id": "technical-assault",
   "metadata": {
    "papermill": {},
    "tags": []
   },
   "source": [
    "### Setting the environment"
   ]
  },
  {
   "cell_type": "code",
   "execution_count": 4,
   "id": "veterinary-attempt",
   "metadata": {
    "papermill": {},
    "tags": []
   },
   "outputs": [],
   "source": [
    "admin = \"USE ROLE SYSADMIN\"\n",
    "cur.execute(admin)\n",
    "warehouse_selection = \"USE WAREHOUSE \" + warehouse_name\n",
    "cur.execute(warehouse_selection)\n",
    "database_selection = \"USE DATABASE \" + database\n",
    "cur.execute(database_selection)\n",
    "schema_selection = \"USE SCHEMA \" + schema_name\n",
    "cur.execute(schema_selection)"
   ]
  },
  {
   "cell_type": "markdown",
   "id": "victorian-match",
   "metadata": {
    "papermill": {},
    "tags": []
   },
   "source": [
    "### Table Creation "
   ]
  },
  {
   "cell_type": "code",
   "execution_count": 5,
   "id": "smooth-still",
   "metadata": {
    "papermill": {},
    "tags": []
   },
   "outputs": [],
   "source": [
    "table_creation = \"CREATE TABLE \" + table_name + \"(MONTH varchar, YEAR int,ITEM varchar,AMOUNT int,CURRENCY varchar)\"\n",
    "cur.execute(table_creation)"
   ]
  },
  {
   "cell_type": "markdown",
   "id": "wound-berry",
   "metadata": {
    "papermill": {},
    "tags": []
   },
   "source": [
    "### Loading the csv"
   ]
  },
  {
   "cell_type": "code",
   "execution_count": 6,
   "id": "cheap-married",
   "metadata": {
    "papermill": {},
    "tags": []
   },
   "outputs": [],
   "source": [
    "with open('Excel-Sales_Feb2020.csv') as f:\n",
    "    reader = csv.reader(f)\n",
    "    d_list = list(reader)\n",
    "d_list"
   ]
  },
  {
   "cell_type": "markdown",
   "id": "coordinate-technical",
   "metadata": {
    "papermill": {},
    "tags": []
   },
   "source": [
    "### Inserting into the table"
   ]
  },
  {
   "cell_type": "code",
   "execution_count": 7,
   "id": "prospective-magic",
   "metadata": {
    "papermill": {},
    "tags": []
   },
   "outputs": [],
   "source": [
    "for i in range(1,len(d_list)):\n",
    "    table_insert_csv_query= \"INSERT INTO \" + table_name + \" VALUES\"\n",
    "    table_insert_csv_query = table_insert_csv_query +str(tuple(d_list[i]))\n",
    "    instance.execute_query(table_insert_csv_query,query_type=\"push\")"
   ]
  },
  {
   "cell_type": "markdown",
   "id": "output_cell",
   "metadata": {
    "papermill": {},
    "tags": []
   },
   "source": [
    "## Output"
   ]
  },
  {
   "cell_type": "markdown",
   "id": "caroline-benefit",
   "metadata": {
    "papermill": {},
    "tags": []
   },
   "source": [
    "### Showing the updated table"
   ]
  },
  {
   "cell_type": "code",
   "execution_count": 8,
   "id": "perfect-audit",
   "metadata": {
    "papermill": {},
    "tags": []
   },
   "outputs": [],
   "source": [
    "table_display_query = \"SELECT * FROM \" + table_name\n",
    "#Fetch records from Snowflake database\n",
    "instance.execute_query(table_display_query,query_type=\"pull\")"
   ]
  }
 ],
 "metadata": {
  "kernelspec": {
   "display_name": "Python 3",
   "language": "python",
   "name": "python3"
  },
  "language_info": {
   "codemirror_mode": {
    "name": "ipython",
    "version": 3
   },
   "file_extension": ".py",
   "mimetype": "text/x-python",
   "name": "python",
   "nbconvert_exporter": "python",
   "pygments_lexer": "ipython3",
   "version": "3.9.6"
  },
  "papermill": {
   "default_parameters": {},
   "environment_variables": {},
   "parameters": {},
   "version": "2.3.3"
  },
  "naas": {
   "notebook_path": "Snowflake/Snowflake_Create_table_from_csv.ipynb",
   "notebook_id": "0f671ffe-c678-4a31-be05-1390d97ed878"
  }
 },
 "nbformat": 4,
 "nbformat_minor": 5
}