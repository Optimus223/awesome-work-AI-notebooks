{
 "cells": [
  {
   "cell_type": "markdown",
   "metadata": {},
   "source": [
    "<img width=\"10%\" alt=\"Naas\" src=\"https://landen.imgix.net/jtci2pxwjczr/assets/5ice39g4.png?w=160\"/>"
   ]
  },
  {
   "cell_type": "markdown",
   "metadata": {},
   "source": [
    "# Snowflake - Basic usage and data querying\n",
    "\n",
    "<a href=\"https://app.naas.ai/user-redirect/naas/downloader?url=https://raw.githubusercontent.com/jupyter-naas/awesome-notebooks/master/Snowflake/Snowflake_Basics_and_data_querying.ipynb\" target=\"_parent\"><img src=\"https://naasai-public.s3.eu-west-3.amazonaws.com/open_in_naas.svg\"/></a>"
   ]
  },
  {
   "cell_type": "markdown",
   "metadata": {},
   "source": [
    "**Tags:** #snowflake #data #warehouse #naas_drivers #snippet"
   ]
  },
  {
   "cell_type": "markdown",
   "metadata": {},
   "source": [
    "**Author:** [Mateusz Polakowski](https://www.linkedin.com/in/polakowski/)"
   ]
  },
  {
   "cell_type": "markdown",
   "metadata": {},
   "source": [
    "This notebook shows basic usage of Snowflake driver.\n",
    "\n",
    "Below you can find essential operations for setting up the environment and querying data that already exists in your data warehouse."
   ]
  },
  {
   "cell_type": "markdown",
   "metadata": {},
   "source": [
    "## Input"
   ]
  },
  {
   "cell_type": "markdown",
   "metadata": {},
   "source": [
    "### Import library"
   ]
  },
  {
   "cell_type": "code",
   "execution_count": 1,
   "metadata": {},
   "outputs": [],
   "source": [
    "import os\n",
    "from naas_drivers import snowflake\n",
    "from snowflake.connector.errors import ProgrammingError"
   ]
  },
  {
   "cell_type": "markdown",
   "metadata": {},
   "source": [
    "### Setup Snowflake account\n",
    "\n",
    "If you don't have your SF account, you can easily set up a [30-day trial account with $400 budget here](https://signup.snowflake.com/)."
   ]
  },
  {
   "cell_type": "markdown",
   "metadata": {},
   "source": [
    "### Credentials"
   ]
  },
  {
   "cell_type": "code",
   "execution_count": 2,
   "metadata": {},
   "outputs": [],
   "source": [
    "# Here environment variables are used to pass Snowflake credentials, \n",
    "# but it's okay to do it in a different manner\n",
    "\n",
    "sf_username=os.environ['SNOWFLAKE_USER']\n",
    "sf_password=os.environ['SNOWFLAKE_PASSWORD']\n",
    "sf_account=os.environ['SNOWFLAKE_ACCOUNT']"
   ]
  },
  {
   "cell_type": "markdown",
   "metadata": {},
   "source": [
    "## Model"
   ]
  },
  {
   "cell_type": "markdown",
   "metadata": {},
   "source": [
    "### Connecting to your Snowflake account"
   ]
  },
  {
   "cell_type": "code",
   "execution_count": 3,
   "metadata": {},
   "outputs": [],
   "source": [
    "snowflake.connect(\n",
    "    username=sf_username,\n",
    "    password=sf_password,\n",
    "    account=sf_account\n",
    ")"
   ]
  },
  {
   "cell_type": "markdown",
   "metadata": {},
   "source": [
    "### Environment setup"
   ]
  },
  {
   "cell_type": "code",
   "execution_count": 4,
   "metadata": {},
   "outputs": [
    {
     "data": {
      "text/plain": [
       "True"
      ]
     },
     "execution_count": 4,
     "metadata": {},
     "output_type": "execute_result"
    }
   ],
   "source": [
    "snowflake.database.get_current() is None"
   ]
  },
  {
   "cell_type": "code",
   "execution_count": 5,
   "metadata": {},
   "outputs": [],
   "source": [
    "snowflake.set_environment(\n",
    "    warehouse='COMPUTE_WH',\n",
    "    database='SNOWFLAKE_SAMPLE_DATA',\n",
    "    schema='TPCH_SF100',\n",
    "    role='ACCOUNTADMIN'\n",
    ")"
   ]
  },
  {
   "cell_type": "code",
   "execution_count": 6,
   "metadata": {},
   "outputs": [
    {
     "data": {
      "text/plain": [
       "{'role': 'ACCOUNTADMIN',\n",
       " 'database': 'SNOWFLAKE_SAMPLE_DATA',\n",
       " 'schema': 'TPCH_SF100',\n",
       " 'warehouse': 'COMPUTE_WH'}"
      ]
     },
     "execution_count": 6,
     "metadata": {},
     "output_type": "execute_result"
    }
   ],
   "source": [
    "snowflake.get_environment()"
   ]
  },
  {
   "cell_type": "markdown",
   "metadata": {},
   "source": [
    "## Output"
   ]
  },
  {
   "cell_type": "markdown",
   "metadata": {},
   "source": [
    "### Creating new database and schema"
   ]
  },
  {
   "cell_type": "code",
   "execution_count": 7,
   "metadata": {},
   "outputs": [
    {
     "data": {
      "text/plain": [
       "{'results': [('Database NAAS successfully created.',)],\n",
       " 'description': [ResultMetadata(name='status', type_code=2, display_size=None, internal_size=16777216, precision=None, scale=None, is_nullable=True)],\n",
       " 'statement': 'CREATE OR REPLACE DATABASE NAAS'}"
      ]
     },
     "execution_count": 7,
     "metadata": {},
     "output_type": "execute_result"
    }
   ],
   "source": [
    "snowflake.database.create('NAAS', or_replace=True)"
   ]
  },
  {
   "cell_type": "code",
   "execution_count": 8,
   "metadata": {},
   "outputs": [],
   "source": [
    "snowflake.database.use('NAAS', silent=True)"
   ]
  },
  {
   "cell_type": "code",
   "execution_count": 9,
   "metadata": {},
   "outputs": [],
   "source": [
    "snowflake.schema.create('INGESTION_SCHEMA', silent=True)"
   ]
  },
  {
   "cell_type": "code",
   "execution_count": 10,
   "metadata": {},
   "outputs": [],
   "source": [
    "snowflake.schema.use('INGESTION_SCHEMA', True)"
   ]
  },
  {
   "cell_type": "markdown",
   "metadata": {},
   "source": [
    "### Executing custom query with a cursor"
   ]
  },
  {
   "cell_type": "code",
   "execution_count": 11,
   "metadata": {},
   "outputs": [
    {
     "data": {
      "text/plain": [
       "[(datetime.datetime(2022, 8, 6, 11, 54, 7, 118000, tzinfo=<DstTzInfo 'America/Los_Angeles' PDT-1 day, 17:00:00 DST>),\n",
       "  'INFORMATION_SCHEMA',\n",
       "  'N',\n",
       "  'N',\n",
       "  'NAAS',\n",
       "  '',\n",
       "  'Views describing the contents of schemas in this database',\n",
       "  '',\n",
       "  '1'),\n",
       " (datetime.datetime(2022, 8, 6, 11, 54, 6, 819000, tzinfo=<DstTzInfo 'America/Los_Angeles' PDT-1 day, 17:00:00 DST>),\n",
       "  'INGESTION_SCHEMA',\n",
       "  'N',\n",
       "  'Y',\n",
       "  'NAAS',\n",
       "  'ACCOUNTADMIN',\n",
       "  '',\n",
       "  '',\n",
       "  '1'),\n",
       " (datetime.datetime(2022, 8, 6, 11, 54, 6, 421000, tzinfo=<DstTzInfo 'America/Los_Angeles' PDT-1 day, 17:00:00 DST>),\n",
       "  'PUBLIC',\n",
       "  'N',\n",
       "  'N',\n",
       "  'NAAS',\n",
       "  'ACCOUNTADMIN',\n",
       "  '',\n",
       "  '',\n",
       "  '1')]"
      ]
     },
     "execution_count": 11,
     "metadata": {},
     "output_type": "execute_result"
    }
   ],
   "source": [
    "snowflake.cursor.execute('SHOW SCHEMAS;').fetchall()"
   ]
  },
  {
   "cell_type": "markdown",
   "metadata": {},
   "source": [
    "### Data querying - wrong schema"
   ]
  },
  {
   "cell_type": "code",
   "execution_count": 12,
   "metadata": {},
   "outputs": [
    {
     "data": {
      "text/plain": [
       "{'role': 'ACCOUNTADMIN',\n",
       " 'database': 'NAAS',\n",
       " 'schema': 'INGESTION_SCHEMA',\n",
       " 'warehouse': 'COMPUTE_WH'}"
      ]
     },
     "execution_count": 12,
     "metadata": {},
     "output_type": "execute_result"
    }
   ],
   "source": [
    "snowflake.get_environment()"
   ]
  },
  {
   "cell_type": "code",
   "execution_count": 13,
   "metadata": {},
   "outputs": [],
   "source": [
    "query = 'SELECT * FROM CUSTOMER;'"
   ]
  },
  {
   "cell_type": "code",
   "execution_count": 14,
   "metadata": {
    "scrolled": true
   },
   "outputs": [
    {
     "name": "stdout",
     "output_type": "stream",
     "text": [
      "Something went wrong!\n",
      "002003 (42S02): SQL compilation error:\n",
      "Object 'CUSTOMER' does not exist or not authorized.\n"
     ]
    }
   ],
   "source": [
    "# Querying table that doesn't exist in NAAS/INGESTION_SCHEMA\n",
    "try:\n",
    "    results_1_not_working = snowflake.execute(query)\n",
    "except ProgrammingError as pe:\n",
    "    print('Something went wrong!')\n",
    "    print(pe)"
   ]
  },
  {
   "cell_type": "markdown",
   "metadata": {},
   "source": [
    "### Data querying - valid command run with session environment properly set up"
   ]
  },
  {
   "cell_type": "code",
   "execution_count": 15,
   "metadata": {},
   "outputs": [],
   "source": [
    "snowflake.set_environment(\n",
    "    database = 'SNOWFLAKE_SAMPLE_DATA',\n",
    "    schema = 'TPCH_SF100'\n",
    ")"
   ]
  },
  {
   "cell_type": "code",
   "execution_count": 16,
   "metadata": {
    "scrolled": true
   },
   "outputs": [
    {
     "data": {
      "text/plain": [
       "{'results': [(14124577,\n",
       "   'Customer#014124577',\n",
       "   'ZwI7ggkE1pOA39,1KTdz P1Jj6,g',\n",
       "   16,\n",
       "   '26-686-193-6704',\n",
       "   Decimal('8596.72'),\n",
       "   'BUILDING',\n",
       "   'ular packages use blithely express instructions? carefully unusual sheaves are slyly. iron'),\n",
       "  (14124578,\n",
       "   'Customer#014124578',\n",
       "   '3j2DHNdlO55ek8GXkVQkJXcDpk5swcztQJqT5x',\n",
       "   24,\n",
       "   '34-617-623-6475',\n",
       "   Decimal('9167.74'),\n",
       "   'HOUSEHOLD',\n",
       "   'ic platelets sleep. idly final '),\n",
       "  (14124579,\n",
       "   'Customer#014124579',\n",
       "   'USU73Rs2KgX7zHLbZTW2rYcJYNTldL5NMJ,d',\n",
       "   0,\n",
       "   '10-247-845-8540',\n",
       "   Decimal('3343.39'),\n",
       "   'BUILDING',\n",
       "   'quickly regular dependencies boost according to the blithely ironic ideas. quickly special foxes cajole carefull'),\n",
       "  (14124580,\n",
       "   'Customer#014124580',\n",
       "   'qjVhfUHXADJXKC5hsLw9A4dhUs,F,kRUSNso8PRO',\n",
       "   10,\n",
       "   '20-799-683-2862',\n",
       "   Decimal('2263.09'),\n",
       "   'HOUSEHOLD',\n",
       "   'g to the carefully regular instructions dazzle among the ironic, slow theodolites. furiously bold packages haggle.'),\n",
       "  (14124581,\n",
       "   'Customer#014124581',\n",
       "   'mSrRXYGyfW7j2uJkKCIhWaRuz',\n",
       "   21,\n",
       "   '31-727-341-6306',\n",
       "   Decimal('6801.38'),\n",
       "   'FURNITURE',\n",
       "   'al requests use around the fluffily ironic foxes. pinto beans are bold'),\n",
       "  (14124582,\n",
       "   'Customer#014124582',\n",
       "   '3zkQVXqYB8DdEbKAtROqYfezBF',\n",
       "   15,\n",
       "   '25-972-527-9110',\n",
       "   Decimal('7812.33'),\n",
       "   'AUTOMOBILE',\n",
       "   'en theodolites alongside of the deposits haggle '),\n",
       "  (14124583,\n",
       "   'Customer#014124583',\n",
       "   'aMGiN,sUz8nKB4b8hrpBnnI',\n",
       "   0,\n",
       "   '10-646-311-9782',\n",
       "   Decimal('3888.46'),\n",
       "   'AUTOMOBILE',\n",
       "   'ully bold requests haggle carefully alongside of the even accounts. furiously regula'),\n",
       "  (14124584,\n",
       "   'Customer#014124584',\n",
       "   'NyL3KriW046NuhfpuMFSRyx',\n",
       "   17,\n",
       "   '27-727-765-5447',\n",
       "   Decimal('350.21'),\n",
       "   'BUILDING',\n",
       "   's-- ironic packages sleep quickly accounts. furiously express deposits wake boldly final t'),\n",
       "  (14124585,\n",
       "   'Customer#014124585',\n",
       "   'ls wEFwa2Ds45mg0LcdmYRdf ekp0ovmbTfb',\n",
       "   19,\n",
       "   '29-827-396-7856',\n",
       "   Decimal('9972.18'),\n",
       "   'FURNITURE',\n",
       "   'fter the furiously final accounts. platelets haggle deposits. furiously pending p'),\n",
       "  (14124586,\n",
       "   'Customer#014124586',\n",
       "   '69kO,g6wJX3d9KnWTYp',\n",
       "   1,\n",
       "   '11-928-108-1307',\n",
       "   Decimal('4488.52'),\n",
       "   'AUTOMOBILE',\n",
       "   'ironic deposits are slyly regular dependencies. bold, regular accounts boost c')],\n",
       " 'description': [ResultMetadata(name='C_CUSTKEY', type_code=0, display_size=None, internal_size=None, precision=38, scale=0, is_nullable=False),\n",
       "  ResultMetadata(name='C_NAME', type_code=2, display_size=None, internal_size=25, precision=None, scale=None, is_nullable=False),\n",
       "  ResultMetadata(name='C_ADDRESS', type_code=2, display_size=None, internal_size=40, precision=None, scale=None, is_nullable=False),\n",
       "  ResultMetadata(name='C_NATIONKEY', type_code=0, display_size=None, internal_size=None, precision=38, scale=0, is_nullable=False),\n",
       "  ResultMetadata(name='C_PHONE', type_code=2, display_size=None, internal_size=15, precision=None, scale=None, is_nullable=False),\n",
       "  ResultMetadata(name='C_ACCTBAL', type_code=0, display_size=None, internal_size=None, precision=12, scale=2, is_nullable=False),\n",
       "  ResultMetadata(name='C_MKTSEGMENT', type_code=2, display_size=None, internal_size=10, precision=None, scale=None, is_nullable=True),\n",
       "  ResultMetadata(name='C_COMMENT', type_code=2, display_size=None, internal_size=117, precision=None, scale=None, is_nullable=True)],\n",
       " 'statement': 'SELECT * FROM CUSTOMER;'}"
      ]
     },
     "execution_count": 16,
     "metadata": {},
     "output_type": "execute_result"
    }
   ],
   "source": [
    "results_1_working = snowflake.execute(query)\n",
    "results_1_working"
   ]
  },
  {
   "cell_type": "markdown",
   "metadata": {},
   "source": [
    "### Data querying - another valid command run"
   ]
  },
  {
   "cell_type": "code",
   "execution_count": 17,
   "metadata": {},
   "outputs": [
    {
     "name": "stdout",
     "output_type": "stream",
     "text": [
      "Rows returned: 100\n"
     ]
    },
    {
     "data": {
      "text/plain": [
       "[(14124577,\n",
       "  'Customer#014124577',\n",
       "  'ZwI7ggkE1pOA39,1KTdz P1Jj6,g',\n",
       "  16,\n",
       "  '26-686-193-6704',\n",
       "  Decimal('8596.72'),\n",
       "  'BUILDING',\n",
       "  'ular packages use blithely express instructions? carefully unusual sheaves are slyly. iron'),\n",
       " (14124578,\n",
       "  'Customer#014124578',\n",
       "  '3j2DHNdlO55ek8GXkVQkJXcDpk5swcztQJqT5x',\n",
       "  24,\n",
       "  '34-617-623-6475',\n",
       "  Decimal('9167.74'),\n",
       "  'HOUSEHOLD',\n",
       "  'ic platelets sleep. idly final ')]"
      ]
     },
     "execution_count": 17,
     "metadata": {},
     "output_type": "execute_result"
    }
   ],
   "source": [
    "results_2 = snowflake.execute(query, n=100)\n",
    "\n",
    "print(f\"Rows returned: {len(results_2['results'])}\")\n",
    "results_2['results'][:2]"
   ]
  },
  {
   "cell_type": "markdown",
   "metadata": {},
   "source": [
    "### Data querying - mapping results to Pandas DataFrame"
   ]
  },
  {
   "cell_type": "code",
   "execution_count": 18,
   "metadata": {},
   "outputs": [
    {
     "name": "stdout",
     "output_type": "stream",
     "text": [
      "Rows returned: 100\n"
     ]
    },
    {
     "data": {
      "text/html": [
       "<div>\n",
       "<style scoped>\n",
       "    .dataframe tbody tr th:only-of-type {\n",
       "        vertical-align: middle;\n",
       "    }\n",
       "\n",
       "    .dataframe tbody tr th {\n",
       "        vertical-align: top;\n",
       "    }\n",
       "\n",
       "    .dataframe thead th {\n",
       "        text-align: right;\n",
       "    }\n",
       "</style>\n",
       "<table border=\"1\" class=\"dataframe\">\n",
       "  <thead>\n",
       "    <tr style=\"text-align: right;\">\n",
       "      <th></th>\n",
       "      <th>C_CUSTKEY</th>\n",
       "      <th>C_NAME</th>\n",
       "      <th>C_ADDRESS</th>\n",
       "      <th>C_NATIONKEY</th>\n",
       "      <th>C_PHONE</th>\n",
       "      <th>C_ACCTBAL</th>\n",
       "      <th>C_MKTSEGMENT</th>\n",
       "      <th>C_COMMENT</th>\n",
       "    </tr>\n",
       "  </thead>\n",
       "  <tbody>\n",
       "    <tr>\n",
       "      <th>0</th>\n",
       "      <td>14124577</td>\n",
       "      <td>Customer#014124577</td>\n",
       "      <td>ZwI7ggkE1pOA39,1KTdz P1Jj6,g</td>\n",
       "      <td>16</td>\n",
       "      <td>26-686-193-6704</td>\n",
       "      <td>8596.72</td>\n",
       "      <td>BUILDING</td>\n",
       "      <td>ular packages use blithely express instruction...</td>\n",
       "    </tr>\n",
       "    <tr>\n",
       "      <th>1</th>\n",
       "      <td>14124578</td>\n",
       "      <td>Customer#014124578</td>\n",
       "      <td>3j2DHNdlO55ek8GXkVQkJXcDpk5swcztQJqT5x</td>\n",
       "      <td>24</td>\n",
       "      <td>34-617-623-6475</td>\n",
       "      <td>9167.74</td>\n",
       "      <td>HOUSEHOLD</td>\n",
       "      <td>ic platelets sleep. idly final</td>\n",
       "    </tr>\n",
       "  </tbody>\n",
       "</table>\n",
       "</div>"
      ],
      "text/plain": [
       "   C_CUSTKEY              C_NAME                               C_ADDRESS  \\\n",
       "0   14124577  Customer#014124577            ZwI7ggkE1pOA39,1KTdz P1Jj6,g   \n",
       "1   14124578  Customer#014124578  3j2DHNdlO55ek8GXkVQkJXcDpk5swcztQJqT5x   \n",
       "\n",
       "   C_NATIONKEY          C_PHONE C_ACCTBAL C_MKTSEGMENT  \\\n",
       "0           16  26-686-193-6704   8596.72     BUILDING   \n",
       "1           24  34-617-623-6475   9167.74    HOUSEHOLD   \n",
       "\n",
       "                                           C_COMMENT  \n",
       "0  ular packages use blithely express instruction...  \n",
       "1                    ic platelets sleep. idly final   "
      ]
     },
     "execution_count": 18,
     "metadata": {},
     "output_type": "execute_result"
    }
   ],
   "source": [
    "results_pandas = snowflake.query_pd(query, n=100)\n",
    "\n",
    "print(f'Rows returned: {len(results_pandas)}')\n",
    "results_pandas.head(2)"
   ]
  },
  {
   "cell_type": "markdown",
   "metadata": {},
   "source": [
    "## Extra"
   ]
  },
  {
   "cell_type": "markdown",
   "metadata": {},
   "source": [
    "### Objects: `cursor` and `connection`\n",
    "\n",
    "Both provided by Snowflake connector, that allow to execute any functionality possible with the original connector."
   ]
  },
  {
   "cell_type": "code",
   "execution_count": 19,
   "metadata": {},
   "outputs": [
    {
     "data": {
      "text/plain": [
       "[('COMPUTE_WH',)]"
      ]
     },
     "execution_count": 19,
     "metadata": {},
     "output_type": "execute_result"
    }
   ],
   "source": [
    "snowflake.cursor.execute('SELECT CURRENT_WAREHOUSE()').fetchall()"
   ]
  },
  {
   "cell_type": "code",
   "execution_count": 20,
   "metadata": {},
   "outputs": [
    {
     "data": {
      "text/plain": [
       "'SNOWFLAKE_SAMPLE_DATA'"
      ]
     },
     "execution_count": 20,
     "metadata": {},
     "output_type": "execute_result"
    }
   ],
   "source": [
    "snowflake.connection.database"
   ]
  }
 ],
 "metadata": {
  "kernelspec": {
   "display_name": "Python 3 (ipykernel)",
   "language": "python",
   "name": "python3"
  },
  "language_info": {
   "codemirror_mode": {
    "name": "ipython",
    "version": 3
   },
   "file_extension": ".py",
   "mimetype": "text/x-python",
   "name": "python",
   "nbconvert_exporter": "python",
   "pygments_lexer": "ipython3",
   "version": "3.8.10"
  }
 },
 "nbformat": 4,
 "nbformat_minor": 1
}
