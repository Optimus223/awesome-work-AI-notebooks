{
 "cells": [
  {
   "cell_type": "markdown",
   "metadata": {},
   "source": [
    "<img width=\"10%\" alt=\"Naas\" src=\"https://landen.imgix.net/jtci2pxwjczr/assets/5ice39g4.png?w=160\"/>"
   ]
  },
  {
   "cell_type": "markdown",
   "metadata": {},
   "source": [
    "# Snowflake - Basic usage and querying data\n",
    "\n",
    "<a href=\"https://app.naas.ai/user-redirect/naas/downloader?url=https://raw.githubusercontent.com/jupyter-naas/awesome-notebooks/master/Snowflake/Snowflake_Basics_and_querying_data.ipynb\" target=\"_parent\"><img src=\"https://naasai-public.s3.eu-west-3.amazonaws.com/open_in_naas.svg\"/></a>"
   ]
  },
  {
   "cell_type": "markdown",
   "metadata": {},
   "source": [
    "**Tags:** #snowflake #data #warehouse #naas_drivers #snippet"
   ]
  },
  {
   "cell_type": "markdown",
   "metadata": {},
   "source": [
    "**Author:** [Mateusz Polakowski](https://www.linkedin.com/in/polakowski/)"
   ]
  },
  {
   "cell_type": "markdown",
   "metadata": {},
   "source": [
    "This notebook shows basic usage of Snowflake driver.\n",
    "Below you can find essential operations for setting up the environment and querying data that already exists in your data warehouse."
   ]
  },
  {
   "cell_type": "markdown",
   "metadata": {},
   "source": [
    "## Input"
   ]
  },
  {
   "cell_type": "markdown",
   "metadata": {},
   "source": [
    "### Import library"
   ]
  },
  {
   "cell_type": "code",
   "execution_count": 2,
   "metadata": {},
   "outputs": [],
   "source": [
    "import os\n",
    "from naas_drivers import snowflake\n",
    "from snowflake.connector.errors import ProgrammingError"
   ]
  },
  {
   "cell_type": "markdown",
   "metadata": {},
   "source": [
    "### Setup Snowflake account\n",
    "\n",
    "If you don't have your SF account, you can easily set up a [30-day trial account with $400 budget here](https://signup.snowflake.com/)."
   ]
  },
  {
   "cell_type": "markdown",
   "metadata": {},
   "source": [
    "### Credentials"
   ]
  },
  {
   "cell_type": "code",
   "execution_count": 3,
   "metadata": {},
   "outputs": [],
   "source": [
    "# Here environment variables are used to pass Snowflake credentials, \n",
    "# but it's okay to do it in a different manner\n",
    "\n",
    "sf_username=os.environ['SNOWFLAKE_USER']\n",
    "sf_password=os.environ['SNOWFLAKE_PASSWORD']\n",
    "sf_account=os.environ['SNOWFLAKE_ACCOUNT']"
   ]
  },
  {
   "cell_type": "markdown",
   "metadata": {},
   "source": [
    "## Model"
   ]
  },
  {
   "cell_type": "markdown",
   "metadata": {},
   "source": [
    "### Connecting to your Snowflake account"
   ]
  },
  {
   "cell_type": "code",
   "execution_count": 4,
   "metadata": {},
   "outputs": [],
   "source": [
    "snowflake.connect(\n",
    "    username=sf_username,\n",
    "    password=sf_password,\n",
    "    account=sf_account\n",
    ")"
   ]
  },
  {
   "cell_type": "markdown",
   "metadata": {},
   "source": [
    "### Environment setup"
   ]
  },
  {
   "cell_type": "code",
   "execution_count": 5,
   "metadata": {},
   "outputs": [
    {
     "data": {
      "text/plain": [
       "True"
      ]
     },
     "execution_count": 5,
     "metadata": {},
     "output_type": "execute_result"
    }
   ],
   "source": [
    "snowflake.database is None"
   ]
  },
  {
   "cell_type": "code",
   "execution_count": 6,
   "metadata": {},
   "outputs": [],
   "source": [
    "snowflake.warehouse = 'COMPUTE_WH'\n",
    "snowflake.database = 'SNOWFLAKE_SAMPLE_DATA'\n",
    "snowflake.schema = 'TPCH_SF100'\n",
    "snowflake.role = 'ACCOUNTADMIN'"
   ]
  },
  {
   "cell_type": "code",
   "execution_count": 7,
   "metadata": {},
   "outputs": [
    {
     "data": {
      "text/plain": [
       "('COMPUTE_WH', 'SNOWFLAKE_SAMPLE_DATA', 'TPCH_SF100', 'ACCOUNTADMIN')"
      ]
     },
     "execution_count": 7,
     "metadata": {},
     "output_type": "execute_result"
    }
   ],
   "source": [
    "snowflake.warehouse, snowflake.database, snowflake.schema, snowflake.role"
   ]
  },
  {
   "cell_type": "markdown",
   "metadata": {},
   "source": [
    "## Output"
   ]
  },
  {
   "cell_type": "markdown",
   "metadata": {},
   "source": [
    "### Creating new database and schema"
   ]
  },
  {
   "cell_type": "code",
   "execution_count": 8,
   "metadata": {},
   "outputs": [
    {
     "data": {
      "text/plain": [
       "{'results': [('Database NAAS successfully created.',)],\n",
       " 'description': [ResultMetadata(name='status', type_code=2, display_size=None, internal_size=16777216, precision=None, scale=None, is_nullable=True)],\n",
       " 'statement': 'CREATE OR REPLACE DATABASE NAAS'}"
      ]
     },
     "execution_count": 8,
     "metadata": {},
     "output_type": "execute_result"
    }
   ],
   "source": [
    "snowflake.api.database.create('NAAS', or_replace=True, return_statement=True)"
   ]
  },
  {
   "cell_type": "code",
   "execution_count": 9,
   "metadata": {},
   "outputs": [],
   "source": [
    "snowflake.database = 'NAAS'"
   ]
  },
  {
   "cell_type": "code",
   "execution_count": 10,
   "metadata": {},
   "outputs": [
    {
     "data": {
      "text/plain": [
       "{'results': [('Schema INGESTION_SCHEMA successfully created.',)],\n",
       " 'description': [ResultMetadata(name='status', type_code=2, display_size=None, internal_size=16777216, precision=None, scale=None, is_nullable=True)],\n",
       " 'statement': ''}"
      ]
     },
     "execution_count": 10,
     "metadata": {},
     "output_type": "execute_result"
    }
   ],
   "source": [
    "snowflake.api.schema.create('INGESTION_SCHEMA')"
   ]
  },
  {
   "cell_type": "code",
   "execution_count": 11,
   "metadata": {},
   "outputs": [],
   "source": [
    "snowflake.schema = 'INGESTION_SCHEMA'"
   ]
  },
  {
   "cell_type": "markdown",
   "metadata": {},
   "source": [
    "### Executing custom query with cursor"
   ]
  },
  {
   "cell_type": "code",
   "execution_count": 12,
   "metadata": {},
   "outputs": [
    {
     "data": {
      "text/plain": [
       "[(datetime.datetime(2022, 8, 3, 12, 17, 45, 933000, tzinfo=<DstTzInfo 'America/Los_Angeles' PDT-1 day, 17:00:00 DST>),\n",
       "  'INFORMATION_SCHEMA',\n",
       "  'N',\n",
       "  'N',\n",
       "  'NAAS',\n",
       "  '',\n",
       "  'Views describing the contents of schemas in this database',\n",
       "  '',\n",
       "  '1'),\n",
       " (datetime.datetime(2022, 8, 3, 12, 17, 43, 223000, tzinfo=<DstTzInfo 'America/Los_Angeles' PDT-1 day, 17:00:00 DST>),\n",
       "  'INGESTION_SCHEMA',\n",
       "  'N',\n",
       "  'Y',\n",
       "  'NAAS',\n",
       "  'ACCOUNTADMIN',\n",
       "  '',\n",
       "  '',\n",
       "  '1'),\n",
       " (datetime.datetime(2022, 8, 3, 12, 17, 41, 53000, tzinfo=<DstTzInfo 'America/Los_Angeles' PDT-1 day, 17:00:00 DST>),\n",
       "  'PUBLIC',\n",
       "  'N',\n",
       "  'N',\n",
       "  'NAAS',\n",
       "  'ACCOUNTADMIN',\n",
       "  '',\n",
       "  '',\n",
       "  '1')]"
      ]
     },
     "execution_count": 12,
     "metadata": {},
     "output_type": "execute_result"
    }
   ],
   "source": [
    "snowflake.cursor.execute('SHOW SCHEMAS;').fetchall()"
   ]
  },
  {
   "cell_type": "markdown",
   "metadata": {},
   "source": [
    "### Querying data - wrong schema"
   ]
  },
  {
   "cell_type": "code",
   "execution_count": 13,
   "metadata": {},
   "outputs": [
    {
     "data": {
      "text/plain": [
       "('COMPUTE_WH', 'NAAS', 'INGESTION_SCHEMA', 'ACCOUNTADMIN')"
      ]
     },
     "execution_count": 13,
     "metadata": {},
     "output_type": "execute_result"
    }
   ],
   "source": [
    "snowflake.warehouse, snowflake.database, snowflake.schema, snowflake.role"
   ]
  },
  {
   "cell_type": "code",
   "execution_count": 14,
   "metadata": {},
   "outputs": [],
   "source": [
    "query = 'SELECT * FROM CUSTOMER;'"
   ]
  },
  {
   "cell_type": "code",
   "execution_count": 15,
   "metadata": {
    "scrolled": true
   },
   "outputs": [
    {
     "name": "stdout",
     "output_type": "stream",
     "text": [
      "Something went wrong!\n",
      "002003 (42S02): SQL compilation error:\n",
      "Object 'CUSTOMER' does not exist or not authorized.\n"
     ]
    }
   ],
   "source": [
    "# Querying table that doesn't exist in NAAS/INGESTION_SCHEMA\n",
    "try:\n",
    "    results_1_not_working = snowflake.execute(query)\n",
    "except ProgrammingError as pe:\n",
    "    print('Something went wrong!')\n",
    "    print(pe)"
   ]
  },
  {
   "cell_type": "markdown",
   "metadata": {},
   "source": [
    "### Querying data - valid command run with extra ad-hoc session environment modification"
   ]
  },
  {
   "cell_type": "code",
   "execution_count": 16,
   "metadata": {
    "scrolled": true
   },
   "outputs": [
    {
     "data": {
      "text/plain": [
       "{'results': [(12000001,\n",
       "   'Customer#012000001',\n",
       "   'LAhNvSqdEb7R63OpaEVPwkCfkK5Sugao1loIoIsT',\n",
       "   10,\n",
       "   '20-467-775-1131',\n",
       "   Decimal('6012.48'),\n",
       "   'FURNITURE',\n",
       "   'requests. final foxes integrate after the fluffily thin deposi'),\n",
       "  (12000002,\n",
       "   'Customer#012000002',\n",
       "   'CBog13b1IQqDUe153w0LXM5wji',\n",
       "   4,\n",
       "   '14-883-132-9248',\n",
       "   Decimal('3722.74'),\n",
       "   'MACHINERY',\n",
       "   ' furiously. unusual requests run'),\n",
       "  (12000003,\n",
       "   'Customer#012000003',\n",
       "   'NdDkQhHTcXhpJWroQGkxpKa3,,8xUob8Y',\n",
       "   2,\n",
       "   '12-818-591-4368',\n",
       "   Decimal('9085.06'),\n",
       "   'BUILDING',\n",
       "   'ully blithe accounts. fluffily unusual foxes about the furiously even asymptotes w'),\n",
       "  (12000004,\n",
       "   'Customer#012000004',\n",
       "   'UgudUPqA61',\n",
       "   5,\n",
       "   '15-765-367-1664',\n",
       "   Decimal('-273.06'),\n",
       "   'BUILDING',\n",
       "   'xes haggle according to the slyly unusual dolphins. quickly e'),\n",
       "  (12000005,\n",
       "   'Customer#012000005',\n",
       "   'f4Tvx 0vXUxxc',\n",
       "   7,\n",
       "   '17-910-236-8625',\n",
       "   Decimal('6607.49'),\n",
       "   'MACHINERY',\n",
       "   'lent packages across the quickly regular inst'),\n",
       "  (12000006,\n",
       "   'Customer#012000006',\n",
       "   'KYjAzm7TtrunfW2H6o0jdI0V7RYsfj5kO',\n",
       "   0,\n",
       "   '10-744-327-4219',\n",
       "   Decimal('5162.13'),\n",
       "   'BUILDING',\n",
       "   'ironic asymptotes. fluffily special accounts dazzle quickly carefully final dependenci'),\n",
       "  (12000007,\n",
       "   'Customer#012000007',\n",
       "   '4i4MzxuyrFS,VVA1fnrkeRBNtngCSkfHQAo,2LRT',\n",
       "   12,\n",
       "   '22-512-408-3565',\n",
       "   Decimal('959.53'),\n",
       "   'FURNITURE',\n",
       "   'y about the regular packages. final requests haggle fluffily furiously ironic dolphins.'),\n",
       "  (12000008,\n",
       "   'Customer#012000008',\n",
       "   '2j64OHnKhUJiO',\n",
       "   1,\n",
       "   '11-102-340-3802',\n",
       "   Decimal('9710.97'),\n",
       "   'MACHINERY',\n",
       "   'yly about the fluffily special requests. slyly unusual foxes haggle idly ironic, ironic packages. '),\n",
       "  (12000009,\n",
       "   'Customer#012000009',\n",
       "   'hOB9Cp2wHbD4ghjC8IjniBJMS7L64 F119NSsnHt',\n",
       "   11,\n",
       "   '21-884-830-4798',\n",
       "   Decimal('3407.17'),\n",
       "   'FURNITURE',\n",
       "   'jole quickly ironic excuses. carefully even foxes after the daringly ironic accounts detect fluffily against'),\n",
       "  (12000010,\n",
       "   'Customer#012000010',\n",
       "   'liCyXI1ZVAWqLRw4XHAbWifXpANJk',\n",
       "   20,\n",
       "   '30-678-745-9724',\n",
       "   Decimal('7350.12'),\n",
       "   'FURNITURE',\n",
       "   'ously alongside of the regular platelets. carefully even deposits above the carefully silent foxes affix daringly b')],\n",
       " 'description': [ResultMetadata(name='C_CUSTKEY', type_code=0, display_size=None, internal_size=None, precision=38, scale=0, is_nullable=False),\n",
       "  ResultMetadata(name='C_NAME', type_code=2, display_size=None, internal_size=25, precision=None, scale=None, is_nullable=False),\n",
       "  ResultMetadata(name='C_ADDRESS', type_code=2, display_size=None, internal_size=40, precision=None, scale=None, is_nullable=False),\n",
       "  ResultMetadata(name='C_NATIONKEY', type_code=0, display_size=None, internal_size=None, precision=38, scale=0, is_nullable=False),\n",
       "  ResultMetadata(name='C_PHONE', type_code=2, display_size=None, internal_size=15, precision=None, scale=None, is_nullable=False),\n",
       "  ResultMetadata(name='C_ACCTBAL', type_code=0, display_size=None, internal_size=None, precision=12, scale=2, is_nullable=False),\n",
       "  ResultMetadata(name='C_MKTSEGMENT', type_code=2, display_size=None, internal_size=10, precision=None, scale=None, is_nullable=True),\n",
       "  ResultMetadata(name='C_COMMENT', type_code=2, display_size=None, internal_size=117, precision=None, scale=None, is_nullable=True)],\n",
       " 'statement': ''}"
      ]
     },
     "execution_count": 16,
     "metadata": {},
     "output_type": "execute_result"
    }
   ],
   "source": [
    "# Ad-hoc changes in environment only for the command to be executed\n",
    "results_1_working = snowflake.execute(query, database='SNOWFLAKE_SAMPLE_DATA', schema='TPCH_SF100')\n",
    "results_1_working"
   ]
  },
  {
   "cell_type": "markdown",
   "metadata": {},
   "source": [
    "### Querying data - valid command run"
   ]
  },
  {
   "cell_type": "code",
   "execution_count": 17,
   "metadata": {},
   "outputs": [],
   "source": [
    "# Updating session environment\n",
    "snowflake.database = 'SNOWFLAKE_SAMPLE_DATA'\n",
    "snowflake.schema = 'TPCH_SF100'"
   ]
  },
  {
   "cell_type": "code",
   "execution_count": 18,
   "metadata": {},
   "outputs": [
    {
     "name": "stdout",
     "output_type": "stream",
     "text": [
      "Rows returned: 100\n"
     ]
    },
    {
     "data": {
      "text/plain": [
       "[(12000001,\n",
       "  'Customer#012000001',\n",
       "  'LAhNvSqdEb7R63OpaEVPwkCfkK5Sugao1loIoIsT',\n",
       "  10,\n",
       "  '20-467-775-1131',\n",
       "  Decimal('6012.48'),\n",
       "  'FURNITURE',\n",
       "  'requests. final foxes integrate after the fluffily thin deposi'),\n",
       " (12000002,\n",
       "  'Customer#012000002',\n",
       "  'CBog13b1IQqDUe153w0LXM5wji',\n",
       "  4,\n",
       "  '14-883-132-9248',\n",
       "  Decimal('3722.74'),\n",
       "  'MACHINERY',\n",
       "  ' furiously. unusual requests run')]"
      ]
     },
     "execution_count": 18,
     "metadata": {},
     "output_type": "execute_result"
    }
   ],
   "source": [
    "results_2 = snowflake.execute(query, n=100)\n",
    "\n",
    "print(f\"Rows returned: {len(results_2['results'])}\")\n",
    "results_2['results'][:2]"
   ]
  },
  {
   "cell_type": "code",
   "execution_count": 19,
   "metadata": {},
   "outputs": [
    {
     "name": "stdout",
     "output_type": "stream",
     "text": [
      "Rows returned: 100\n"
     ]
    },
    {
     "data": {
      "text/plain": [
       "[(12000001,\n",
       "  'Customer#012000001',\n",
       "  'LAhNvSqdEb7R63OpaEVPwkCfkK5Sugao1loIoIsT',\n",
       "  10,\n",
       "  '20-467-775-1131',\n",
       "  Decimal('6012.48'),\n",
       "  'FURNITURE',\n",
       "  'requests. final foxes integrate after the fluffily thin deposi'),\n",
       " (12000002,\n",
       "  'Customer#012000002',\n",
       "  'CBog13b1IQqDUe153w0LXM5wji',\n",
       "  4,\n",
       "  '14-883-132-9248',\n",
       "  Decimal('3722.74'),\n",
       "  'MACHINERY',\n",
       "  ' furiously. unusual requests run')]"
      ]
     },
     "execution_count": 19,
     "metadata": {},
     "output_type": "execute_result"
    }
   ],
   "source": [
    "# The same results get from `query` function\n",
    "results_3 = snowflake.query(query, n=100)\n",
    "\n",
    "print(f\"Rows returned: {len(results_3['results'])}\")\n",
    "results_3['results'][:2]"
   ]
  },
  {
   "cell_type": "markdown",
   "metadata": {},
   "source": [
    "### Querying data - mapping results to Pandas DataFrame"
   ]
  },
  {
   "cell_type": "code",
   "execution_count": 20,
   "metadata": {},
   "outputs": [
    {
     "name": "stdout",
     "output_type": "stream",
     "text": [
      "Rows returned: 100\n"
     ]
    },
    {
     "data": {
      "text/html": [
       "<div>\n",
       "<style scoped>\n",
       "    .dataframe tbody tr th:only-of-type {\n",
       "        vertical-align: middle;\n",
       "    }\n",
       "\n",
       "    .dataframe tbody tr th {\n",
       "        vertical-align: top;\n",
       "    }\n",
       "\n",
       "    .dataframe thead th {\n",
       "        text-align: right;\n",
       "    }\n",
       "</style>\n",
       "<table border=\"1\" class=\"dataframe\">\n",
       "  <thead>\n",
       "    <tr style=\"text-align: right;\">\n",
       "      <th></th>\n",
       "      <th>C_CUSTKEY</th>\n",
       "      <th>C_NAME</th>\n",
       "      <th>C_ADDRESS</th>\n",
       "      <th>C_NATIONKEY</th>\n",
       "      <th>C_PHONE</th>\n",
       "      <th>C_ACCTBAL</th>\n",
       "      <th>C_MKTSEGMENT</th>\n",
       "      <th>C_COMMENT</th>\n",
       "    </tr>\n",
       "  </thead>\n",
       "  <tbody>\n",
       "    <tr>\n",
       "      <th>0</th>\n",
       "      <td>12000001</td>\n",
       "      <td>Customer#012000001</td>\n",
       "      <td>LAhNvSqdEb7R63OpaEVPwkCfkK5Sugao1loIoIsT</td>\n",
       "      <td>10</td>\n",
       "      <td>20-467-775-1131</td>\n",
       "      <td>6012.48</td>\n",
       "      <td>FURNITURE</td>\n",
       "      <td>requests. final foxes integrate after the fluf...</td>\n",
       "    </tr>\n",
       "    <tr>\n",
       "      <th>1</th>\n",
       "      <td>12000002</td>\n",
       "      <td>Customer#012000002</td>\n",
       "      <td>CBog13b1IQqDUe153w0LXM5wji</td>\n",
       "      <td>4</td>\n",
       "      <td>14-883-132-9248</td>\n",
       "      <td>3722.74</td>\n",
       "      <td>MACHINERY</td>\n",
       "      <td>furiously. unusual requests run</td>\n",
       "    </tr>\n",
       "  </tbody>\n",
       "</table>\n",
       "</div>"
      ],
      "text/plain": [
       "   C_CUSTKEY              C_NAME                                 C_ADDRESS  \\\n",
       "0   12000001  Customer#012000001  LAhNvSqdEb7R63OpaEVPwkCfkK5Sugao1loIoIsT   \n",
       "1   12000002  Customer#012000002                CBog13b1IQqDUe153w0LXM5wji   \n",
       "\n",
       "   C_NATIONKEY          C_PHONE C_ACCTBAL C_MKTSEGMENT  \\\n",
       "0           10  20-467-775-1131   6012.48    FURNITURE   \n",
       "1            4  14-883-132-9248   3722.74    MACHINERY   \n",
       "\n",
       "                                           C_COMMENT  \n",
       "0  requests. final foxes integrate after the fluf...  \n",
       "1                    furiously. unusual requests run  "
      ]
     },
     "execution_count": 20,
     "metadata": {},
     "output_type": "execute_result"
    }
   ],
   "source": [
    "# Querying SF data and turning it into Pandas DataFrame\n",
    "results_pandas = snowflake.query_pd(query, n=100)\n",
    "\n",
    "print(f'Rows returned: {len(results_pandas)}')\n",
    "results_pandas.head(2)"
   ]
  },
  {
   "cell_type": "markdown",
   "metadata": {},
   "source": [
    "## Extra"
   ]
  },
  {
   "cell_type": "markdown",
   "metadata": {},
   "source": [
    "### Objects: `cursor` and `connection`\n",
    "\n",
    "Both provided by Snowflake connector, that allow to execute any functionality possible with the original connector."
   ]
  },
  {
   "cell_type": "code",
   "execution_count": 21,
   "metadata": {},
   "outputs": [
    {
     "data": {
      "text/plain": [
       "[('COMPUTE_WH',)]"
      ]
     },
     "execution_count": 21,
     "metadata": {},
     "output_type": "execute_result"
    }
   ],
   "source": [
    "snowflake.cursor.execute('SELECT CURRENT_WAREHOUSE()').fetchall()"
   ]
  },
  {
   "cell_type": "code",
   "execution_count": 22,
   "metadata": {},
   "outputs": [
    {
     "data": {
      "text/plain": [
       "'SNOWFLAKE_SAMPLE_DATA'"
      ]
     },
     "execution_count": 22,
     "metadata": {},
     "output_type": "execute_result"
    }
   ],
   "source": [
    "snowflake.connection.database"
   ]
  }
 ],
 "metadata": {
  "kernelspec": {
   "display_name": "Python 3 (ipykernel)",
   "language": "python",
   "name": "python3"
  },
  "language_info": {
   "codemirror_mode": {
    "name": "ipython",
    "version": 3
   },
   "file_extension": ".py",
   "mimetype": "text/x-python",
   "name": "python",
   "nbconvert_exporter": "python",
   "pygments_lexer": "ipython3",
   "version": "3.8.10"
  }
 },
 "nbformat": 4,
 "nbformat_minor": 1
}
