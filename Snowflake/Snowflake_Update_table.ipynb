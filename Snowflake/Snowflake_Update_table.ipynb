{
 "cells": [
  {
   "cell_type": "markdown",
   "id": "handmade-jerusalem",
   "metadata": {
    "papermill": {},
    "tags": [
     "awesome-notebooks/Snowflake/Snowflake_Update_table.ipynb"
    ]
   },
   "source": [
    "<img width=\"10%\" alt=\"Naas\" src=\"https://landen.imgix.net/jtci2pxwjczr/assets/5ice39g4.png?w=160\"/>"
   ]
  },
  {
   "cell_type": "markdown",
   "id": "unlike-dutch",
   "metadata": {
    "papermill": {},
    "tags": [
     "awesome-notebooks/Snowflake/Snowflake_Update_table.ipynb"
    ]
   },
   "source": [
    "# Snowflake - Update table\n",
    "<a href=\"https://app.naas.ai/user-redirect/naas/downloader?url=https://raw.githubusercontent.com/jupyter-naas/awesome-notebooks/master/Snowflake/Snowflake_Update_table.ipynb\" target=\"_parent\"><img src=\"https://naasai-public.s3.eu-west-3.amazonaws.com/open_in_naas.svg\"/></a>"
   ]
  },
  {
   "cell_type": "markdown",
   "id": "652b3985-5060-427d-989b-5485850668c7",
   "metadata": {
    "papermill": {},
    "tags": [
     "awesome-notebooks/Snowflake/Snowflake_Update_table.ipynb"
    ]
   },
   "source": [
    "**Tags:** #snowflake #database #snippet #operations #naas #jupyternotebooks"
   ]
  },
  {
   "cell_type": "markdown",
   "id": "naas-author",
   "metadata": {
    "papermill": {},
    "tags": [
     "naas",
     "awesome-notebooks/Snowflake/Snowflake_Update_table.ipynb"
    ]
   },
   "source": [
    "**Author:** [Sanjay Sabu](https://www.linkedin.com/in/sanjay-sabu-4205/)"
   ]
  },
  {
   "cell_type": "markdown",
   "id": "input_cell",
   "metadata": {
    "papermill": {},
    "tags": [
     "awesome-notebooks/Snowflake/Snowflake_Update_table.ipynb"
    ]
   },
   "source": [
    "## Input"
   ]
  },
  {
   "cell_type": "markdown",
   "id": "e9774f04-d467-4159-a93a-f9f5946ea6e5",
   "metadata": {
    "papermill": {},
    "tags": [
     "awesome-notebooks/Snowflake/Snowflake_Update_table.ipynb"
    ]
   },
   "source": [
    "### Import libraries"
   ]
  },
  {
   "cell_type": "code",
   "execution_count": null,
   "id": "4e80aa52-fb0a-440d-a859-d6d06364edc7",
   "metadata": {
    "papermill": {},
    "tags": [
     "awesome-notebooks/Snowflake/Snowflake_Update_table.ipynb"
    ]
   },
   "outputs": [],
   "source": [
    "import csv\n",
    "from snowflakeconnector import SnowflakeConnector"
   ]
  },
  {
   "cell_type": "markdown",
   "id": "acting-hobby",
   "metadata": {
    "papermill": {},
    "tags": [
     "awesome-notebooks/Snowflake/Snowflake_Update_table.ipynb"
    ]
   },
   "source": [
    "### Insert your credentials"
   ]
  },
  {
   "cell_type": "code",
   "execution_count": 5,
   "id": "wound-skirt",
   "metadata": {
    "papermill": {},
    "tags": [
     "awesome-notebooks/Snowflake/Snowflake_Update_table.ipynb"
    ]
   },
   "outputs": [],
   "source": [
    "username = \"sanjaynaas\"\n",
    "password = \"Password123\""
   ]
  },
  {
   "cell_type": "markdown",
   "id": "protective-chick",
   "metadata": {
    "papermill": {},
    "tags": [
     "awesome-notebooks/Snowflake/Snowflake_Update_table.ipynb"
    ]
   },
   "source": [
    "### Specify your account details"
   ]
  },
  {
   "cell_type": "code",
   "execution_count": 6,
   "id": "friendly-october",
   "metadata": {
    "papermill": {},
    "tags": [
     "awesome-notebooks/Snowflake/Snowflake_Update_table.ipynb"
    ]
   },
   "outputs": [],
   "source": [
    "account = \"iz84541.europe-west4.gcp\"\n",
    "database = \"DEMO_DB\"\n",
    "table_name = \"NAAS\""
   ]
  },
  {
   "cell_type": "markdown",
   "id": "model_cell",
   "metadata": {
    "papermill": {},
    "tags": [
     "awesome-notebooks/Snowflake/Snowflake_Update_table.ipynb"
    ]
   },
   "source": [
    "## Model"
   ]
  },
  {
   "cell_type": "markdown",
   "id": "backed-compound",
   "metadata": {
    "papermill": {},
    "tags": [
     "awesome-notebooks/Snowflake/Snowflake_Update_table.ipynb"
    ]
   },
   "source": [
    "### Read the csv file and converting to list"
   ]
  },
  {
   "cell_type": "code",
   "execution_count": 7,
   "id": "attempted-action",
   "metadata": {
    "papermill": {},
    "tags": [
     "awesome-notebooks/Snowflake/Snowflake_Update_table.ipynb"
    ]
   },
   "outputs": [],
   "source": [
    "with open('Excel-Sales_Feb2020.csv') as f:\n",
    "    reader = csv.reader(f)\n",
    "    d_list = list(reader)\n",
    "d_list"
   ]
  },
  {
   "cell_type": "markdown",
   "id": "sound-portland",
   "metadata": {
    "papermill": {},
    "tags": [
     "awesome-notebooks/Snowflake/Snowflake_Update_table.ipynb"
    ]
   },
   "source": [
    "### Connecting to Snowflake"
   ]
  },
  {
   "cell_type": "code",
   "execution_count": 8,
   "id": "integral-gossip",
   "metadata": {
    "papermill": {},
    "tags": [
     "awesome-notebooks/Snowflake/Snowflake_Update_table.ipynb"
    ]
   },
   "outputs": [],
   "source": [
    "#Initialize SnowflakeConnector\n",
    "instance = SnowflakeConnector(username,password,account,database)"
   ]
  },
  {
   "cell_type": "markdown",
   "id": "random-chicken",
   "metadata": {
    "papermill": {},
    "tags": [
     "awesome-notebooks/Snowflake/Snowflake_Update_table.ipynb"
    ]
   },
   "source": [
    "### Updating Snowflake"
   ]
  },
  {
   "cell_type": "code",
   "execution_count": 5,
   "id": "received-newcastle",
   "metadata": {
    "papermill": {},
    "tags": [
     "awesome-notebooks/Snowflake/Snowflake_Update_table.ipynb"
    ]
   },
   "outputs": [],
   "source": [
    "for i in range(1,len(d_list)):\n",
    "    table_insert_csv_query= \"INSERT INTO NAAS values\"\n",
    "    table_insert_csv_query = table_insert_csv_query +str(tuple(d_list[i]))\n",
    "    instance.execute_query(table_insert_csv_query,query_type=\"push\")"
   ]
  },
  {
   "cell_type": "markdown",
   "id": "output_cell",
   "metadata": {
    "papermill": {},
    "tags": [
     "awesome-notebooks/Snowflake/Snowflake_Update_table.ipynb"
    ]
   },
   "source": [
    "## Output"
   ]
  },
  {
   "cell_type": "markdown",
   "id": "adolescent-vampire",
   "metadata": {
    "papermill": {},
    "tags": [
     "awesome-notebooks/Snowflake/Snowflake_Update_table.ipynb"
    ]
   },
   "source": [
    "### To see contents of table"
   ]
  },
  {
   "cell_type": "code",
   "execution_count": 6,
   "id": "entertaining-psychiatry",
   "metadata": {
    "papermill": {},
    "tags": [
     "awesome-notebooks/Snowflake/Snowflake_Update_table.ipynb"
    ]
   },
   "outputs": [],
   "source": [
    "table_display_query = \"select * from \" + table_name\n",
    "#Fetch records from Snowflake database\n",
    "instance.execute_query(table_display_query,query_type=\"pull\")"
   ]
  },
  {
   "cell_type": "markdown",
   "id": "literary-packaging",
   "metadata": {
    "papermill": {},
    "tags": [
     "awesome-notebooks/Snowflake/Snowflake_Update_table.ipynb"
    ]
   },
   "source": [
    "### Closing the Connection"
   ]
  },
  {
   "cell_type": "code",
   "execution_count": null,
   "id": "tracked-donor",
   "metadata": {
    "papermill": {},
    "tags": [
     "awesome-notebooks/Snowflake/Snowflake_Update_table.ipynb"
    ]
   },
   "outputs": [],
   "source": [
    "instance.close_connection()"
   ]
  },
  {
   "cell_type": "markdown",
   "id": "display_cell",
   "metadata": {
    "papermill": {},
    "tags": [
     "awesome-notebooks/Snowflake/Snowflake_Update_table.ipynb"
    ]
   },
   "source": [
    "### Display result"
   ]
  }
 ],
 "metadata": {
  "kernelspec": {
   "display_name": "Python 3",
   "language": "python",
   "name": "python3"
  },
  "language_info": {
   "codemirror_mode": {
    "name": "ipython",
    "version": 3
   },
   "file_extension": ".py",
   "mimetype": "text/x-python",
   "name": "python",
   "nbconvert_exporter": "python",
   "pygments_lexer": "ipython3",
   "version": "3.9.6"
  },
  "papermill": {
   "default_parameters": {},
   "environment_variables": {},
   "parameters": {},
   "version": "2.3.3"
  }
 },
 "nbformat": 4,
 "nbformat_minor": 5
}