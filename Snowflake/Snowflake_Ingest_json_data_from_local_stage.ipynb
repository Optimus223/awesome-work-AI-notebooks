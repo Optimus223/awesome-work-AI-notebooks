{
 "cells": [
  {
   "cell_type": "markdown",
   "metadata": {},
   "source": [
    "<img width=\"10%\" alt=\"Naas\" src=\"https://landen.imgix.net/jtci2pxwjczr/assets/5ice39g4.png?w=160\"/>"
   ]
  },
  {
   "cell_type": "markdown",
   "metadata": {},
   "source": [
    "# Snowflake - JSON data ingestion from local stage\n",
    "\n",
    "<a href=\"https://app.naas.ai/user-redirect/naas/downloader?url=https://raw.githubusercontent.com/jupyter-naas/awesome-notebooks/master/Snowflake/Snowflake_Ingest_json_data_from_local_stage.ipynb\" target=\"_parent\"><img src=\"https://naasai-public.s3.eu-west-3.amazonaws.com/open_in_naas.svg\"/></a>"
   ]
  },
  {
   "cell_type": "markdown",
   "metadata": {},
   "source": [
    "**Tags:** #snowflake #data #warehouse #naas_drivers #snippet"
   ]
  },
  {
   "cell_type": "markdown",
   "metadata": {},
   "source": [
    "**Author:** [Mateusz Polakowski](https://www.linkedin.com/in/polakowski/)"
   ]
  },
  {
   "cell_type": "markdown",
   "metadata": {},
   "source": [
    "To use your own data inside Snowflake DWH, first thing first, you need to ingest it.\n",
    "\n",
    "This notebook shows how to put <u>JSON</u> data from your local machine into Snowflake. Several objects and actions will be necessary to do so:\n",
    "\n",
    "- creating file format,\n",
    "- creating internal named stage (for other stages, please check [Snowflake documentation](https://docs.snowflake.com/en/user-guide/data-load-local-file-system-create-stage.html)),\n",
    "- putting file into stage,\n",
    "- copying data from stage to the table.\n",
    "\n",
    "All above steps are essential to make use of the data from your local machine inside Snowflake.\n",
    "\n",
    "You can try with your own JSON data, but to follow the notebook cells 1:1 please download `reviews_dev.json` file from `awesome-notebooks/Snowflake` directory. Eventually, you may need to change your file location below in the ensuing cells."
   ]
  },
  {
   "cell_type": "markdown",
   "metadata": {},
   "source": [
    "## Input"
   ]
  },
  {
   "cell_type": "markdown",
   "metadata": {},
   "source": [
    "### Import library"
   ]
  },
  {
   "cell_type": "code",
   "execution_count": 1,
   "metadata": {},
   "outputs": [],
   "source": [
    "import os\n",
    "from naas_drivers import snowflake\n",
    "from snowflake.connector.errors import ProgrammingError"
   ]
  },
  {
   "cell_type": "markdown",
   "metadata": {},
   "source": [
    "### Setup Snowflake account\n",
    "\n",
    "If you don't have your SF account, you can easily set up a [30-day trial account with $400 budget here](https://signup.snowflake.com/)."
   ]
  },
  {
   "cell_type": "markdown",
   "metadata": {},
   "source": [
    "### Credentials"
   ]
  },
  {
   "cell_type": "code",
   "execution_count": 2,
   "metadata": {},
   "outputs": [],
   "source": [
    "# Here environment variables are used to pass Snowflake credentials, \n",
    "# but it's okay to do it in a different manner\n",
    "\n",
    "sf_username=os.environ['SNOWFLAKE_USER']\n",
    "sf_password=os.environ['SNOWFLAKE_PASSWORD']\n",
    "sf_account=os.environ['SNOWFLAKE_ACCOUNT']"
   ]
  },
  {
   "cell_type": "markdown",
   "metadata": {},
   "source": [
    "## Model"
   ]
  },
  {
   "cell_type": "markdown",
   "metadata": {},
   "source": [
    "### Connecting to your Snowflake account"
   ]
  },
  {
   "cell_type": "code",
   "execution_count": 3,
   "metadata": {},
   "outputs": [],
   "source": [
    "snowflake.connect(\n",
    "    username=sf_username,\n",
    "    password=sf_password,\n",
    "    account=sf_account\n",
    ")"
   ]
  },
  {
   "cell_type": "markdown",
   "metadata": {},
   "source": [
    "### Environment setup"
   ]
  },
  {
   "cell_type": "code",
   "execution_count": 4,
   "metadata": {},
   "outputs": [
    {
     "data": {
      "text/plain": [
       "True"
      ]
     },
     "execution_count": 4,
     "metadata": {},
     "output_type": "execute_result"
    }
   ],
   "source": [
    "snowflake.database.get_current() is None"
   ]
  },
  {
   "cell_type": "code",
   "execution_count": 5,
   "metadata": {},
   "outputs": [],
   "source": [
    "snowflake.set_environment(\n",
    "    warehouse='COMPUTE_WH',\n",
    "    role='ACCOUNTADMIN'\n",
    ")"
   ]
  },
  {
   "cell_type": "code",
   "execution_count": 6,
   "metadata": {},
   "outputs": [],
   "source": [
    "snowflake.database.create('NAAS', or_replace=True, silent=True)\n",
    "snowflake.database.use('NAAS', silent=True)\n",
    "snowflake.schema.create('NAAS_SCHEMA', or_replace=True, silent=True)\n",
    "snowflake.schema.use('NAAS_SCHEMA', silent=True)"
   ]
  },
  {
   "cell_type": "code",
   "execution_count": 7,
   "metadata": {},
   "outputs": [
    {
     "data": {
      "text/plain": [
       "{'role': 'ACCOUNTADMIN',\n",
       " 'database': 'NAAS',\n",
       " 'schema': 'NAAS_SCHEMA',\n",
       " 'warehouse': 'COMPUTE_WH'}"
      ]
     },
     "execution_count": 7,
     "metadata": {},
     "output_type": "execute_result"
    }
   ],
   "source": [
    "snowflake.get_environment()"
   ]
  },
  {
   "cell_type": "markdown",
   "metadata": {},
   "source": [
    "## Output"
   ]
  },
  {
   "cell_type": "markdown",
   "metadata": {},
   "source": [
    "### Creating file format"
   ]
  },
  {
   "cell_type": "code",
   "execution_count": 8,
   "metadata": {},
   "outputs": [
    {
     "data": {
      "text/plain": [
       "{'results': [('File format MY_JSON_FORMAT successfully created.',)],\n",
       " 'description': [ResultMetadata(name='status', type_code=2, display_size=None, internal_size=16777216, precision=None, scale=None, is_nullable=True)],\n",
       " 'statement': 'CREATE OR REPLACE FILE FORMAT my_json_format TYPE = JSON TRIM_SPACE = TRUE'}"
      ]
     },
     "execution_count": 8,
     "metadata": {},
     "output_type": "execute_result"
    }
   ],
   "source": [
    "# It's possible to add extra parameters to the function\n",
    "# They will be passed as additional variables at the end of the query statement\n",
    "results_ff = snowflake.file_format.create(\n",
    "    'my_json_format', \n",
    "    'JSON', \n",
    "    or_replace=True,\n",
    "    TRIM_SPACE = 'TRUE'\n",
    ")\n",
    "\n",
    "results_ff"
   ]
  },
  {
   "cell_type": "code",
   "execution_count": 9,
   "metadata": {},
   "outputs": [
    {
     "data": {
      "text/plain": [
       "[(datetime.datetime(2022, 8, 6, 12, 2, 33, 880000, tzinfo=<DstTzInfo 'America/Los_Angeles' PDT-1 day, 17:00:00 DST>),\n",
       "  'MY_JSON_FORMAT',\n",
       "  'NAAS',\n",
       "  'NAAS_SCHEMA',\n",
       "  'JSON',\n",
       "  'ACCOUNTADMIN',\n",
       "  '',\n",
       "  '{\"TYPE\":\"JSON\",\"FILE_EXTENSION\":null,\"DATE_FORMAT\":\"AUTO\",\"TIME_FORMAT\":\"AUTO\",\"TIMESTAMP_FORMAT\":\"AUTO\",\"BINARY_FORMAT\":\"HEX\",\"TRIM_SPACE\":true,\"NULL_IF\":[],\"COMPRESSION\":\"AUTO\",\"ENABLE_OCTAL\":false,\"ALLOW_DUPLICATE\":false,\"STRIP_OUTER_ARRAY\":false,\"STRIP_NULL_VALUES\":false,\"IGNORE_UTF8_ERRORS\":false,\"REPLACE_INVALID_CHARACTERS\":false,\"SKIP_BYTE_ORDER_MARK\":true}')]"
      ]
     },
     "execution_count": 9,
     "metadata": {},
     "output_type": "execute_result"
    }
   ],
   "source": [
    "# Let's not forget about `snowflake.execute` functionality\n",
    "snowflake.execute('SHOW FILE FORMATS;')['results']"
   ]
  },
  {
   "cell_type": "markdown",
   "metadata": {},
   "source": [
    "### Creating file format with wrong parameter (not applicable for JSON file format, see [docs](https://docs.snowflake.com/en/sql-reference/sql/create-file-format.html))"
   ]
  },
  {
   "cell_type": "code",
   "execution_count": 10,
   "metadata": {},
   "outputs": [
    {
     "name": "stdout",
     "output_type": "stream",
     "text": [
      "Something went wrong!\n",
      "002135 (42601): SQL compilation error:\n",
      "Option ESCAPE is not valid for file format type JSON.\n"
     ]
    }
   ],
   "source": [
    "try:\n",
    "    snowflake.file_format.create('my_invalid_son_format', 'JSON', or_replace=True, ESCAPE = '\"\\\\\"')\n",
    "except ProgrammingError as pe:\n",
    "    print('Something went wrong!')\n",
    "    print(pe)"
   ]
  },
  {
   "cell_type": "markdown",
   "metadata": {},
   "source": [
    "### Dropping file format"
   ]
  },
  {
   "cell_type": "code",
   "execution_count": 11,
   "metadata": {},
   "outputs": [],
   "source": [
    "# snowflake.file_format.drop('my_json_format', if_exists=True)"
   ]
  },
  {
   "cell_type": "markdown",
   "metadata": {},
   "source": [
    "### Creating internal stage"
   ]
  },
  {
   "cell_type": "code",
   "execution_count": 12,
   "metadata": {},
   "outputs": [
    {
     "data": {
      "text/plain": [
       "{'results': [('Stage area MY_INTERNAL_STAGE successfully created.',)],\n",
       " 'description': [ResultMetadata(name='status', type_code=2, display_size=None, internal_size=16777216, precision=None, scale=None, is_nullable=True)],\n",
       " 'statement': 'CREATE OR REPLACE STAGE my_internal_stage FILE_FORMAT = my_json_format'}"
      ]
     },
     "execution_count": 12,
     "metadata": {},
     "output_type": "execute_result"
    }
   ],
   "source": [
    "snowflake.stage.create(\n",
    "    stage_name='my_internal_stage', \n",
    "    or_replace=True,\n",
    "    file_format_name='my_json_format'\n",
    ")"
   ]
  },
  {
   "cell_type": "markdown",
   "metadata": {},
   "source": [
    "### Putting data on the stage"
   ]
  },
  {
   "cell_type": "code",
   "execution_count": 13,
   "metadata": {},
   "outputs": [],
   "source": [
    "snowflake.stage.put(\n",
    "    filepath='file://~/Downloads/reviews_data.json',\n",
    "    internal_stage_name='@my_internal_stage',\n",
    "    silent=True\n",
    ")"
   ]
  },
  {
   "cell_type": "markdown",
   "metadata": {},
   "source": [
    "### Listing files inside stage"
   ]
  },
  {
   "cell_type": "code",
   "execution_count": 14,
   "metadata": {},
   "outputs": [
    {
     "name": "stdout",
     "output_type": "stream",
     "text": [
      "[('my_internal_stage/reviews_data.json.gz', 538928, '6a141720c2d8dd29dc529b6b5d1995ba', 'Sat, 6 Aug 2022 19:02:37 GMT')]\n",
      "LIST @my_internal_stage\n"
     ]
    }
   ],
   "source": [
    "result_list_stage = snowflake.stage.list('@my_internal_stage')\n",
    "\n",
    "print(result_list_stage['results'])\n",
    "print(result_list_stage['statement'])"
   ]
  },
  {
   "cell_type": "markdown",
   "metadata": {},
   "source": [
    "### Creating table with query execution"
   ]
  },
  {
   "cell_type": "code",
   "execution_count": 15,
   "metadata": {},
   "outputs": [
    {
     "data": {
      "text/plain": [
       "[('Table REVIEWS_DEV successfully created.',)]"
      ]
     },
     "execution_count": 15,
     "metadata": {},
     "output_type": "execute_result"
    }
   ],
   "source": [
    "query_create_table = \"\"\"\n",
    "    CREATE OR REPLACE TABLE reviews_dev (\n",
    "      language VARCHAR\n",
    "      , product_category VARCHAR\n",
    "      , product_id VARCHAR\n",
    "      , review_body VARCHAR\n",
    "      , review_id VARCHAR\n",
    "      , review_title VARCHAR\n",
    "      , reviewer_id VARCHAR\n",
    "      , stars INT\n",
    "    );\n",
    "\"\"\"\n",
    "\n",
    "# No worries, Table API will be available soon too!\n",
    "snowflake.execute(query_create_table)['results']"
   ]
  },
  {
   "cell_type": "markdown",
   "metadata": {},
   "source": [
    "### Loading data from internal stage to a table\n",
    "\n",
    "As we're loading data in JSON format, transformations are required to not put everything into a single VARIANT type column (for more, [see the documentation](https://docs.snowflake.com/en/sql-reference/data-types-semistructured.html))."
   ]
  },
  {
   "cell_type": "code",
   "execution_count": 16,
   "metadata": {},
   "outputs": [],
   "source": [
    "transformation_statement = \"\"\"\n",
    "    SELECT\n",
    "        $1:language::varchar AS language\n",
    "        , $1:product_category::varchar AS product_category\n",
    "        , $1:product_id::varchar AS product_id\n",
    "        , $1:review_body::varchar AS review_body\n",
    "        , $1:review_id::varchar AS review_id\n",
    "        , $1:review_title::varchar AS review_title\n",
    "        , $1:reviewer_id::varchar AS reviewer_id\n",
    "        , $1:stars::int AS stars\n",
    "    FROM @my_internal_stage\n",
    "\"\"\"\n",
    "\n",
    "snowflake.copy_into(\n",
    "    table_name='reviews_dev',\n",
    "    source_stage=transformation_statement,\n",
    "    silent=True\n",
    ")"
   ]
  },
  {
   "cell_type": "markdown",
   "metadata": {},
   "source": [
    "### Data querying straight to Pandas DataFrame"
   ]
  },
  {
   "cell_type": "code",
   "execution_count": 17,
   "metadata": {},
   "outputs": [
    {
     "data": {
      "text/html": [
       "<div>\n",
       "<style scoped>\n",
       "    .dataframe tbody tr th:only-of-type {\n",
       "        vertical-align: middle;\n",
       "    }\n",
       "\n",
       "    .dataframe tbody tr th {\n",
       "        vertical-align: top;\n",
       "    }\n",
       "\n",
       "    .dataframe thead th {\n",
       "        text-align: right;\n",
       "    }\n",
       "</style>\n",
       "<table border=\"1\" class=\"dataframe\">\n",
       "  <thead>\n",
       "    <tr style=\"text-align: right;\">\n",
       "      <th></th>\n",
       "      <th>LANGUAGE</th>\n",
       "      <th>PRODUCT_CATEGORY</th>\n",
       "      <th>PRODUCT_ID</th>\n",
       "      <th>REVIEW_BODY</th>\n",
       "      <th>REVIEW_ID</th>\n",
       "      <th>REVIEW_TITLE</th>\n",
       "      <th>REVIEWER_ID</th>\n",
       "      <th>STARS</th>\n",
       "    </tr>\n",
       "  </thead>\n",
       "  <tbody>\n",
       "    <tr>\n",
       "      <th>0</th>\n",
       "      <td>en</td>\n",
       "      <td>baby_product</td>\n",
       "      <td>product_en_0878845</td>\n",
       "      <td>Pathetic design of the caps. Very impractical ...</td>\n",
       "      <td>en_0968227</td>\n",
       "      <td>Not worth the price and very bad cap design</td>\n",
       "      <td>reviewer_en_0987470</td>\n",
       "      <td>1</td>\n",
       "    </tr>\n",
       "    <tr>\n",
       "      <th>1</th>\n",
       "      <td>en</td>\n",
       "      <td>shoes</td>\n",
       "      <td>product_en_0004522</td>\n",
       "      <td>Shoes were purchased on March 6, 2019. My wife...</td>\n",
       "      <td>en_0830781</td>\n",
       "      <td>Garbage!</td>\n",
       "      <td>reviewer_en_0731158</td>\n",
       "      <td>1</td>\n",
       "    </tr>\n",
       "    <tr>\n",
       "      <th>2</th>\n",
       "      <td>en</td>\n",
       "      <td>office_product</td>\n",
       "      <td>product_en_0060687</td>\n",
       "      <td>It's taken me 1 whole year to set this thing u...</td>\n",
       "      <td>en_0277954</td>\n",
       "      <td>I do not recommend this printer</td>\n",
       "      <td>reviewer_en_0793876</td>\n",
       "      <td>1</td>\n",
       "    </tr>\n",
       "    <tr>\n",
       "      <th>3</th>\n",
       "      <td>en</td>\n",
       "      <td>office_product</td>\n",
       "      <td>product_en_0311791</td>\n",
       "      <td>Each cartridge printed once. Both dried up in ...</td>\n",
       "      <td>en_0316499</td>\n",
       "      <td>Don't purchase these refurbished cartridges!</td>\n",
       "      <td>reviewer_en_0837288</td>\n",
       "      <td>1</td>\n",
       "    </tr>\n",
       "    <tr>\n",
       "      <th>4</th>\n",
       "      <td>en</td>\n",
       "      <td>baby_product</td>\n",
       "      <td>product_en_0472877</td>\n",
       "      <td>No light hard to see</td>\n",
       "      <td>en_0320665</td>\n",
       "      <td>Not worth</td>\n",
       "      <td>reviewer_en_0878169</td>\n",
       "      <td>1</td>\n",
       "    </tr>\n",
       "  </tbody>\n",
       "</table>\n",
       "</div>"
      ],
      "text/plain": [
       "  LANGUAGE PRODUCT_CATEGORY          PRODUCT_ID  \\\n",
       "0       en     baby_product  product_en_0878845   \n",
       "1       en            shoes  product_en_0004522   \n",
       "2       en   office_product  product_en_0060687   \n",
       "3       en   office_product  product_en_0311791   \n",
       "4       en     baby_product  product_en_0472877   \n",
       "\n",
       "                                         REVIEW_BODY   REVIEW_ID  \\\n",
       "0  Pathetic design of the caps. Very impractical ...  en_0968227   \n",
       "1  Shoes were purchased on March 6, 2019. My wife...  en_0830781   \n",
       "2  It's taken me 1 whole year to set this thing u...  en_0277954   \n",
       "3  Each cartridge printed once. Both dried up in ...  en_0316499   \n",
       "4                               No light hard to see  en_0320665   \n",
       "\n",
       "                                   REVIEW_TITLE          REVIEWER_ID  STARS  \n",
       "0   Not worth the price and very bad cap design  reviewer_en_0987470      1  \n",
       "1                                      Garbage!  reviewer_en_0731158      1  \n",
       "2               I do not recommend this printer  reviewer_en_0793876      1  \n",
       "3  Don't purchase these refurbished cartridges!  reviewer_en_0837288      1  \n",
       "4                                     Not worth  reviewer_en_0878169      1  "
      ]
     },
     "execution_count": 17,
     "metadata": {},
     "output_type": "execute_result"
    }
   ],
   "source": [
    "reviews_dev = snowflake.query_pd('SELECT * FROM reviews_dev')\n",
    "reviews_dev.head()"
   ]
  }
 ],
 "metadata": {
  "kernelspec": {
   "display_name": "Python 3 (ipykernel)",
   "language": "python",
   "name": "python3"
  },
  "language_info": {
   "codemirror_mode": {
    "name": "ipython",
    "version": 3
   },
   "file_extension": ".py",
   "mimetype": "text/x-python",
   "name": "python",
   "nbconvert_exporter": "python",
   "pygments_lexer": "ipython3",
   "version": "3.8.10"
  }
 },
 "nbformat": 4,
 "nbformat_minor": 1
}
