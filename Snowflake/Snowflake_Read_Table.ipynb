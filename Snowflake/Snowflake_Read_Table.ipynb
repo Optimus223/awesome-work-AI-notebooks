{
 "cells": [
  {
   "cell_type": "markdown",
   "id": "intermediate-roman",
   "metadata": {
    "papermill": {},
    "tags": []
   },
   "source": [
    "<img width=\"10%\" alt=\"Naas\" src=\"https://landen.imgix.net/jtci2pxwjczr/assets/5ice39g4.png?w=160\"/>"
   ]
  },
  {
   "cell_type": "markdown",
   "id": "dominican-pierre",
   "metadata": {
    "papermill": {},
    "tags": []
   },
   "source": [
    "# Snowflake - Read Table\n",
    "<a href=\"https://app.naas.ai/user-redirect/naas/downloader?url=https://raw.githubusercontent.com/jupyter-naas/awesome-notebooks/master/Snowflake/Snowflake_Read_Table.ipynb\" target=\"_parent\"><img src=\"https://naasai-public.s3.eu-west-3.amazonaws.com/open_in_naas.svg\"/></a>"
   ]
  },
  {
   "cell_type": "markdown",
   "id": "0cb4ab82-c250-4966-909f-56ac6d8b9fe6",
   "metadata": {
    "papermill": {},
    "tags": []
   },
   "source": [
    "**Tags:** #snowflake #database #snippet"
   ]
  },
  {
   "cell_type": "markdown",
   "id": "naas-author",
   "metadata": {
    "papermill": {},
    "tags": [
     "naas"
    ]
   },
   "source": [
    "**Author:** [Sanjay Sabu](https://www.linkedin.com/in/sanjay-sabu-4205/)"
   ]
  },
  {
   "cell_type": "markdown",
   "id": "input_cell",
   "metadata": {
    "papermill": {},
    "tags": []
   },
   "source": [
    "## Input"
   ]
  },
  {
   "cell_type": "markdown",
   "id": "import_cell",
   "metadata": {
    "papermill": {},
    "tags": []
   },
   "source": [
    "### Import libraries"
   ]
  },
  {
   "cell_type": "code",
   "execution_count": null,
   "id": "65678bc1-bc30-4ee1-a671-45539d54aa44",
   "metadata": {
    "papermill": {},
    "tags": []
   },
   "outputs": [],
   "source": [
    "import pandas as pd\n",
    "from snowflakeconnector import SnowflakeConnector\n",
    "import snowflake.connector as snow"
   ]
  },
  {
   "cell_type": "markdown",
   "id": "awful-literature",
   "metadata": {
    "papermill": {},
    "tags": []
   },
   "source": [
    "### Insert your credentials"
   ]
  },
  {
   "cell_type": "code",
   "execution_count": 1,
   "id": "meaning-detective",
   "metadata": {
    "papermill": {},
    "tags": []
   },
   "outputs": [],
   "source": [
    "username = \"sanjaynaas\"\n",
    "password = \"Password123\""
   ]
  },
  {
   "cell_type": "markdown",
   "id": "monetary-northeast",
   "metadata": {
    "papermill": {},
    "tags": []
   },
   "source": [
    "### Specify your account details"
   ]
  },
  {
   "cell_type": "code",
   "execution_count": 2,
   "id": "bibliographic-music",
   "metadata": {
    "papermill": {},
    "tags": []
   },
   "outputs": [],
   "source": [
    "account = \"iz84541.europe-west4.gcp\"\n",
    "database = \"DEMO_DB\"\n",
    "table_name = \"NAAS\"\n",
    "warehouse_name = \"COMPUTE_WH\"\n",
    "schema_name = \"PUBLIC\""
   ]
  },
  {
   "cell_type": "markdown",
   "id": "model_cell",
   "metadata": {
    "papermill": {},
    "tags": []
   },
   "source": [
    "## Model"
   ]
  },
  {
   "cell_type": "markdown",
   "id": "critical-length",
   "metadata": {
    "papermill": {},
    "tags": []
   },
   "source": [
    "### Connecting to Snowflake"
   ]
  },
  {
   "cell_type": "code",
   "execution_count": 3,
   "id": "expected-lotus",
   "metadata": {
    "papermill": {},
    "tags": []
   },
   "outputs": [],
   "source": [
    "conn = snow.connect(user=username,password=password,account=account)\n",
    "cur = conn.cursor()\n",
    "instance = SnowflakeConnector(username,password,account,database)"
   ]
  },
  {
   "cell_type": "markdown",
   "id": "listed-choice",
   "metadata": {
    "papermill": {},
    "tags": []
   },
   "source": [
    "### Setting the environment "
   ]
  },
  {
   "cell_type": "code",
   "execution_count": 4,
   "id": "alternative-height",
   "metadata": {
    "papermill": {},
    "tags": []
   },
   "outputs": [],
   "source": [
    "admin = \"USE ROLE SYSADMIN\"\n",
    "cur.execute(admin)\n",
    "warehouse_selection = \"USE WAREHOUSE \" + warehouse_name\n",
    "cur.execute(warehouse_selection)\n",
    "database_selection = \"USE DATABASE \" + database\n",
    "cur.execute(database_selection)\n",
    "schema_selection = \"USE SCHEMA \" + schema_name\n",
    "cur.execute(schema_selection)"
   ]
  },
  {
   "cell_type": "markdown",
   "id": "apart-mountain",
   "metadata": {
    "papermill": {},
    "tags": []
   },
   "source": [
    "### To see contents of table"
   ]
  },
  {
   "cell_type": "code",
   "execution_count": 5,
   "id": "cross-particle",
   "metadata": {
    "papermill": {},
    "tags": []
   },
   "outputs": [],
   "source": [
    "table_display_query = \"select * from \" + table_name\n",
    "#Fetch records from Snowflake database\n",
    "instance.execute_query(table_display_query,query_type=\"pull\")"
   ]
  },
  {
   "cell_type": "markdown",
   "id": "powered-stability",
   "metadata": {
    "papermill": {},
    "tags": []
   },
   "source": [
    "### Reading data from the table"
   ]
  },
  {
   "cell_type": "code",
   "execution_count": 6,
   "id": "vital-chicago",
   "metadata": {
    "papermill": {},
    "tags": []
   },
   "outputs": [],
   "source": [
    "data = instance.execute_query(table_display_query,query_type=\"pull\")"
   ]
  },
  {
   "cell_type": "markdown",
   "id": "output_cell",
   "metadata": {
    "papermill": {},
    "tags": []
   },
   "source": [
    "## Output"
   ]
  },
  {
   "cell_type": "markdown",
   "id": "protected-planet",
   "metadata": {
    "papermill": {},
    "tags": []
   },
   "source": [
    "### Fetching table details"
   ]
  },
  {
   "cell_type": "code",
   "execution_count": 7,
   "id": "alive-flower",
   "metadata": {
    "papermill": {},
    "tags": []
   },
   "outputs": [],
   "source": [
    "table_description_query = \"DESCRIBE \" + table_name\n",
    "table_details = instance.execute_query(table_description_query,query_type=\"pull\")\n",
    "header = table_details[0]"
   ]
  },
  {
   "cell_type": "markdown",
   "id": "compound-spirit",
   "metadata": {
    "papermill": {},
    "tags": []
   },
   "source": [
    "### Preparing csv file"
   ]
  },
  {
   "cell_type": "code",
   "execution_count": 9,
   "id": "outer-ozone",
   "metadata": {
    "papermill": {},
    "tags": []
   },
   "outputs": [],
   "source": [
    "data = pd.DataFrame(data)\n",
    "data.columns=[header]\n",
    "data.to_csv('naas_output.csv')\n",
    "data"
   ]
  },
  {
   "cell_type": "markdown",
   "id": "d015dfbc",
   "metadata": {
    "papermill": {},
    "tags": []
   },
   "source": [
    "### Import library"
   ]
  },
  {
   "cell_type": "markdown",
   "id": "display_cell",
   "metadata": {
    "papermill": {},
    "tags": []
   },
   "source": [
    "### Display result"
   ]
  }
 ],
 "metadata": {
  "kernelspec": {
   "display_name": "Python 3",
   "language": "python",
   "name": "python3"
  },
  "language_info": {
   "codemirror_mode": {
    "name": "ipython",
    "version": 3
   },
   "file_extension": ".py",
   "mimetype": "text/x-python",
   "name": "python",
   "nbconvert_exporter": "python",
   "pygments_lexer": "ipython3",
   "version": "3.9.6"
  },
  "papermill": {
   "default_parameters": {},
   "environment_variables": {},
   "parameters": {},
   "version": "2.3.3"
  }
 },
 "nbformat": 4,
 "nbformat_minor": 5
}