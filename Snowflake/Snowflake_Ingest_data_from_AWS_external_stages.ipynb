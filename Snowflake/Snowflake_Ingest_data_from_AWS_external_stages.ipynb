{
 "cells": [
  {
   "cell_type": "markdown",
   "metadata": {},
   "source": [
    "<img width=\"10%\" alt=\"Naas\" src=\"https://landen.imgix.net/jtci2pxwjczr/assets/5ice39g4.png?w=160\"/>"
   ]
  },
  {
   "cell_type": "markdown",
   "metadata": {},
   "source": [
    "# Snowflake - Data ingestion from external stages (AWS)\n",
    "\n",
    "<a href=\"https://app.naas.ai/user-redirect/naas/downloader?url=https://raw.githubusercontent.com/jupyter-naas/awesome-notebooks/master/Snowflake/Snowflake_Ingest_data_from_AWS_external_stages.ipynb\" target=\"_parent\"><img src=\"https://naasai-public.s3.eu-west-3.amazonaws.com/open_in_naas.svg\"/></a>"
   ]
  },
  {
   "cell_type": "markdown",
   "metadata": {},
   "source": [
    "**Tags:** #snowflake #data #warehouse #naas_drivers #snippet"
   ]
  },
  {
   "cell_type": "markdown",
   "metadata": {},
   "source": [
    "**Author:** [Mateusz Polakowski](https://www.linkedin.com/in/polakowski/)"
   ]
  },
  {
   "cell_type": "markdown",
   "metadata": {},
   "source": [
    "To use your own data inside Snowflake DWH, first thing first, you need to ingest it.\n",
    "\n",
    "This notebook shows how to ingest data from AWS S3 to Snowflake. Several objects and actions will be necessary to do so:\n",
    "\n",
    "- creating file format,\n",
    "- creating external stage for public AWS S3 bucket,\n",
    "- creating storage integration,\n",
    "- creating external stage for private AWS S3 bucket using storage integration,\n",
    "- copying data from stages to the tables.\n",
    "\n",
    "You can try with your own data (as well as other file formats), but to follow the notebook cells 1:1 please download `reviews_data.json` file from `awesome-notebooks/Snowflake` directory and put it somewhere inside your private AWS account. \n",
    "\n",
    "For fetching data from public AWS S3 bucket (`s3://amazon-reviews-ml/json/dev/dataset_en_dev.json`), you don't need any permission, mentioned bucket's URI is sufficient."
   ]
  },
  {
   "cell_type": "markdown",
   "metadata": {},
   "source": [
    "## Input"
   ]
  },
  {
   "cell_type": "markdown",
   "metadata": {},
   "source": [
    "### Import library"
   ]
  },
  {
   "cell_type": "code",
   "execution_count": 1,
   "metadata": {},
   "outputs": [],
   "source": [
    "import os\n",
    "from naas_drivers import snowflake\n",
    "from snowflake.connector.errors import ProgrammingError"
   ]
  },
  {
   "cell_type": "markdown",
   "metadata": {},
   "source": [
    "### Setup Snowflake account\n",
    "\n",
    "If you don't have your SF account, you can easily set up a [30-day trial account with $400 budget here](https://signup.snowflake.com/).\n",
    "\n",
    "To get your Snowflake account ID essential for connecting, please refer to [Account Identifiers in Snowflake documentation](https://docs.snowflake.com/en/user-guide/admin-account-identifier.html). There are several methods to get your account ID, but the overall rule can be found below:\n",
    "\n",
    "```<account_identifier>.snowflakecomputing.com```\n",
    "\n",
    "If you're proceeding with the trial account, it's highly probable that your ID will resemble something like: `xy1234.eu-central-1`."
   ]
  },
  {
   "cell_type": "markdown",
   "metadata": {},
   "source": [
    "### Credentials"
   ]
  },
  {
   "cell_type": "code",
   "execution_count": 2,
   "metadata": {},
   "outputs": [],
   "source": [
    "# Here environment variables are used to pass Snowflake credentials, \n",
    "# but it's okay to do it in a different manner\n",
    "\n",
    "sf_username=os.environ['SNOWFLAKE_USER']\n",
    "sf_password=os.environ['SNOWFLAKE_PASSWORD']\n",
    "sf_account=os.environ['SNOWFLAKE_ACCOUNT']"
   ]
  },
  {
   "cell_type": "markdown",
   "metadata": {},
   "source": [
    "## Model"
   ]
  },
  {
   "cell_type": "markdown",
   "metadata": {},
   "source": [
    "### Connecting to your Snowflake account"
   ]
  },
  {
   "cell_type": "code",
   "execution_count": 3,
   "metadata": {},
   "outputs": [],
   "source": [
    "snowflake.connect(\n",
    "    username=sf_username,\n",
    "    password=sf_password,\n",
    "    account=sf_account\n",
    ")"
   ]
  },
  {
   "cell_type": "markdown",
   "metadata": {},
   "source": [
    "### Environment setup"
   ]
  },
  {
   "cell_type": "code",
   "execution_count": 4,
   "metadata": {},
   "outputs": [],
   "source": [
    "snowflake.role.use('ACCOUNTADMIN', silent=True)\n",
    "snowflake.warehouse.use('COMPUTE_WH', silent=True)\n",
    "snowflake.database.create('NAAS', or_replace=True, silent=True)\n",
    "snowflake.database.use('NAAS', silent=True)\n",
    "snowflake.schema.create('NAAS_SCHEMA', or_replace=True, silent=True)\n",
    "snowflake.schema.use('NAAS_SCHEMA', silent=True)"
   ]
  },
  {
   "cell_type": "code",
   "execution_count": 5,
   "metadata": {},
   "outputs": [
    {
     "data": {
      "text/plain": [
       "{'role': 'ACCOUNTADMIN',\n",
       " 'database': 'NAAS',\n",
       " 'schema': 'NAAS_SCHEMA',\n",
       " 'warehouse': 'COMPUTE_WH'}"
      ]
     },
     "execution_count": 5,
     "metadata": {},
     "output_type": "execute_result"
    }
   ],
   "source": [
    "snowflake.get_environment()"
   ]
  },
  {
   "cell_type": "markdown",
   "metadata": {},
   "source": [
    "## Output"
   ]
  },
  {
   "cell_type": "markdown",
   "metadata": {},
   "source": [
    "### Creating file format"
   ]
  },
  {
   "cell_type": "code",
   "execution_count": 6,
   "metadata": {},
   "outputs": [
    {
     "data": {
      "text/plain": [
       "{'results': [('File format MY_JSON_FORMAT successfully created.',)],\n",
       " 'description': [ResultMetadata(name='status', type_code=2, display_size=None, internal_size=16777216, precision=None, scale=None, is_nullable=True)],\n",
       " 'statement': 'CREATE OR REPLACE FILE FORMAT my_json_format TYPE = JSON'}"
      ]
     },
     "execution_count": 6,
     "metadata": {},
     "output_type": "execute_result"
    }
   ],
   "source": [
    "results_ff = snowflake.file_format.create(\n",
    "    'my_json_format', \n",
    "    'JSON',\n",
    "    or_replace=True\n",
    ")\n",
    "\n",
    "results_ff"
   ]
  },
  {
   "cell_type": "markdown",
   "metadata": {},
   "source": [
    "### Creating external stage for public data"
   ]
  },
  {
   "cell_type": "code",
   "execution_count": 7,
   "metadata": {},
   "outputs": [
    {
     "data": {
      "text/plain": [
       "{'results': [('Stage area EXTERNAL_AWS_STAGE_PUBLIC successfully created.',)],\n",
       " 'description': [ResultMetadata(name='status', type_code=2, display_size=None, internal_size=16777216, precision=None, scale=None, is_nullable=True)],\n",
       " 'statement': \"CREATE OR REPLACE STAGE external_aws_stage_public FILE_FORMAT = my_json_format url = 's3://amazon-reviews-ml/json/dev/dataset_en_dev.json'\"}"
      ]
     },
     "execution_count": 7,
     "metadata": {},
     "output_type": "execute_result"
    }
   ],
   "source": [
    "snowflake.stage.create(\n",
    "    stage_name='external_aws_stage_public',\n",
    "    or_replace=True,\n",
    "    file_format_name='my_json_format',\n",
    "    url=\"'s3://amazon-reviews-ml/json/dev/dataset_en_dev.json'\"\n",
    ")"
   ]
  },
  {
   "cell_type": "markdown",
   "metadata": {},
   "source": [
    "### Creating a table"
   ]
  },
  {
   "cell_type": "code",
   "execution_count": 8,
   "metadata": {},
   "outputs": [
    {
     "data": {
      "text/plain": [
       "[('Table REVIEWS_DEV_PUBLIC successfully created.',)]"
      ]
     },
     "execution_count": 8,
     "metadata": {},
     "output_type": "execute_result"
    }
   ],
   "source": [
    "query_create_table = \"\"\"\n",
    "    CREATE OR REPLACE TABLE reviews_dev_public (\n",
    "      language VARCHAR\n",
    "      , product_category VARCHAR\n",
    "      , product_id VARCHAR\n",
    "      , review_body VARCHAR\n",
    "      , review_id VARCHAR\n",
    "      , review_title VARCHAR\n",
    "      , reviewer_id VARCHAR\n",
    "      , stars INT\n",
    "    );\n",
    "\"\"\"\n",
    "\n",
    "# No worries, Table API will be available soon too!\n",
    "snowflake.execute(query_create_table)['results']"
   ]
  },
  {
   "cell_type": "markdown",
   "metadata": {},
   "source": [
    "### Loading data from public external stage to a table\n",
    "\n",
    "As we're loading data in JSON format, transformations are required to not put everything into a single VARIANT type column (for more, [see the documentation](https://docs.snowflake.com/en/sql-reference/data-types-semistructured.html))."
   ]
  },
  {
   "cell_type": "code",
   "execution_count": 9,
   "metadata": {},
   "outputs": [],
   "source": [
    "transformation_statement = \"\"\"\n",
    "    SELECT\n",
    "        $1:language::varchar AS language\n",
    "        , $1:product_category::varchar AS product_category\n",
    "        , $1:product_id::varchar AS product_id\n",
    "        , $1:review_body::varchar AS review_body\n",
    "        , $1:review_id::varchar AS review_id\n",
    "        , $1:review_title::varchar AS review_title\n",
    "        , $1:reviewer_id::varchar AS reviewer_id\n",
    "        , $1:stars::int AS stars\n",
    "    FROM @external_aws_stage_public\n",
    "\"\"\"\n",
    "\n",
    "snowflake.copy_into(\n",
    "    table_name='reviews_dev_public',\n",
    "    source_stage=transformation_statement,\n",
    "    silent=True\n",
    ")"
   ]
  },
  {
   "cell_type": "markdown",
   "metadata": {},
   "source": [
    "### Data querying straight to Pandas DataFrame"
   ]
  },
  {
   "cell_type": "code",
   "execution_count": 10,
   "metadata": {},
   "outputs": [
    {
     "data": {
      "text/html": [
       "<div>\n",
       "<style scoped>\n",
       "    .dataframe tbody tr th:only-of-type {\n",
       "        vertical-align: middle;\n",
       "    }\n",
       "\n",
       "    .dataframe tbody tr th {\n",
       "        vertical-align: top;\n",
       "    }\n",
       "\n",
       "    .dataframe thead th {\n",
       "        text-align: right;\n",
       "    }\n",
       "</style>\n",
       "<table border=\"1\" class=\"dataframe\">\n",
       "  <thead>\n",
       "    <tr style=\"text-align: right;\">\n",
       "      <th></th>\n",
       "      <th>LANGUAGE</th>\n",
       "      <th>PRODUCT_CATEGORY</th>\n",
       "      <th>PRODUCT_ID</th>\n",
       "      <th>REVIEW_BODY</th>\n",
       "      <th>REVIEW_ID</th>\n",
       "      <th>REVIEW_TITLE</th>\n",
       "      <th>REVIEWER_ID</th>\n",
       "      <th>STARS</th>\n",
       "    </tr>\n",
       "  </thead>\n",
       "  <tbody>\n",
       "    <tr>\n",
       "      <th>0</th>\n",
       "      <td>en</td>\n",
       "      <td>baby_product</td>\n",
       "      <td>product_en_0878845</td>\n",
       "      <td>Pathetic design of the caps. Very impractical ...</td>\n",
       "      <td>en_0968227</td>\n",
       "      <td>Not worth the price and very bad cap design</td>\n",
       "      <td>reviewer_en_0987470</td>\n",
       "      <td>1</td>\n",
       "    </tr>\n",
       "    <tr>\n",
       "      <th>1</th>\n",
       "      <td>en</td>\n",
       "      <td>shoes</td>\n",
       "      <td>product_en_0004522</td>\n",
       "      <td>Shoes were purchased on March 6, 2019. My wife...</td>\n",
       "      <td>en_0830781</td>\n",
       "      <td>Garbage!</td>\n",
       "      <td>reviewer_en_0731158</td>\n",
       "      <td>1</td>\n",
       "    </tr>\n",
       "    <tr>\n",
       "      <th>2</th>\n",
       "      <td>en</td>\n",
       "      <td>office_product</td>\n",
       "      <td>product_en_0060687</td>\n",
       "      <td>It's taken me 1 whole year to set this thing u...</td>\n",
       "      <td>en_0277954</td>\n",
       "      <td>I do not recommend this printer</td>\n",
       "      <td>reviewer_en_0793876</td>\n",
       "      <td>1</td>\n",
       "    </tr>\n",
       "    <tr>\n",
       "      <th>3</th>\n",
       "      <td>en</td>\n",
       "      <td>office_product</td>\n",
       "      <td>product_en_0311791</td>\n",
       "      <td>Each cartridge printed once. Both dried up in ...</td>\n",
       "      <td>en_0316499</td>\n",
       "      <td>Don't purchase these refurbished cartridges!</td>\n",
       "      <td>reviewer_en_0837288</td>\n",
       "      <td>1</td>\n",
       "    </tr>\n",
       "    <tr>\n",
       "      <th>4</th>\n",
       "      <td>en</td>\n",
       "      <td>baby_product</td>\n",
       "      <td>product_en_0472877</td>\n",
       "      <td>No light hard to see</td>\n",
       "      <td>en_0320665</td>\n",
       "      <td>Not worth</td>\n",
       "      <td>reviewer_en_0878169</td>\n",
       "      <td>1</td>\n",
       "    </tr>\n",
       "  </tbody>\n",
       "</table>\n",
       "</div>"
      ],
      "text/plain": [
       "  LANGUAGE PRODUCT_CATEGORY          PRODUCT_ID  \\\n",
       "0       en     baby_product  product_en_0878845   \n",
       "1       en            shoes  product_en_0004522   \n",
       "2       en   office_product  product_en_0060687   \n",
       "3       en   office_product  product_en_0311791   \n",
       "4       en     baby_product  product_en_0472877   \n",
       "\n",
       "                                         REVIEW_BODY   REVIEW_ID  \\\n",
       "0  Pathetic design of the caps. Very impractical ...  en_0968227   \n",
       "1  Shoes were purchased on March 6, 2019. My wife...  en_0830781   \n",
       "2  It's taken me 1 whole year to set this thing u...  en_0277954   \n",
       "3  Each cartridge printed once. Both dried up in ...  en_0316499   \n",
       "4                               No light hard to see  en_0320665   \n",
       "\n",
       "                                   REVIEW_TITLE          REVIEWER_ID  STARS  \n",
       "0   Not worth the price and very bad cap design  reviewer_en_0987470      1  \n",
       "1                                      Garbage!  reviewer_en_0731158      1  \n",
       "2               I do not recommend this printer  reviewer_en_0793876      1  \n",
       "3  Don't purchase these refurbished cartridges!  reviewer_en_0837288      1  \n",
       "4                                     Not worth  reviewer_en_0878169      1  "
      ]
     },
     "execution_count": 10,
     "metadata": {},
     "output_type": "execute_result"
    }
   ],
   "source": [
    "reviews_dev_public = snowflake.query_pd('SELECT * FROM reviews_dev_public')\n",
    "reviews_dev_public.head()"
   ]
  },
  {
   "cell_type": "markdown",
   "metadata": {},
   "source": [
    "---\n",
    "\n",
    "### Creating storage integration for AWS S3 bucket connection with Snowflake\n",
    "\n",
    "For more about connecting your private cloud storage with Snowflake see below documentation pages:\n",
    "\n",
    "- [Loading data to Snowflake from AWS S3](https://docs.snowflake.com/en/user-guide/data-load-s3.html)\n",
    "- [Loading data to Snowflake from Google Cloud Storage](https://docs.snowflake.com/en/user-guide/data-load-gcs.html)\n",
    "- [Loading data to Snowflake from Azure](https://docs.snowflake.com/en/user-guide/data-load-azure.html)\n",
    "- [External stage create command - necessary parameters](https://docs.snowflake.com/en/sql-reference/sql/create-stage.html#external-stage-parameters-externalstageparams)\n",
    "\n",
    "Bear in mind that **only users with ACCOUNTADMIN role** selected can create storage integration objects.\n",
    "\n",
    "Below cells follow `Option 1` from the [list of available approaches](https://docs.snowflake.com/en/user-guide/data-load-s3-config.html). It's highly recommended to do it this way, thus let's follow the advice.\n",
    "\n",
    "Some of the parameters are dummy, for security reasons, although cells were executed with proper values. If you follow the instructions in Snowflake documentation, you shouldn't have any issues modifying them."
   ]
  },
  {
   "cell_type": "code",
   "execution_count": 11,
   "metadata": {},
   "outputs": [],
   "source": [
    "snowflake.storage_integration.create(\n",
    "    storage_integration_name='storage_integration_aws_naas_sf_data',\n",
    "    storage_provider='S3',\n",
    "    storage_allowed_locations=['s3://naas-snowflake-data/'],\n",
    "    STORAGE_AWS_ROLE_ARN=\"'arn:aws:iam::112233445566:role/NaasDummyRole'\",\n",
    "    or_replace=True,\n",
    "    silent=True\n",
    ")"
   ]
  },
  {
   "cell_type": "markdown",
   "metadata": {},
   "source": [
    "### Setting up proper IAM access\n",
    "\n",
    "Policy code is taken directly from [Snowflake documentation](https://docs.snowflake.com/en/user-guide/data-load-s3-config-storage-integration.html)."
   ]
  },
  {
   "cell_type": "code",
   "execution_count": 13,
   "metadata": {},
   "outputs": [
    {
     "data": {
      "text/html": [
       "<div>\n",
       "<style scoped>\n",
       "    .dataframe tbody tr th:only-of-type {\n",
       "        vertical-align: middle;\n",
       "    }\n",
       "\n",
       "    .dataframe tbody tr th {\n",
       "        vertical-align: top;\n",
       "    }\n",
       "\n",
       "    .dataframe thead th {\n",
       "        text-align: right;\n",
       "    }\n",
       "</style>\n",
       "<table border=\"1\" class=\"dataframe\">\n",
       "  <thead>\n",
       "    <tr style=\"text-align: right;\">\n",
       "      <th></th>\n",
       "      <th>property</th>\n",
       "      <th>property_value</th>\n",
       "    </tr>\n",
       "  </thead>\n",
       "  <tbody>\n",
       "    <tr>\n",
       "      <th>0</th>\n",
       "      <td>ENABLED</td>\n",
       "      <td>true</td>\n",
       "    </tr>\n",
       "    <tr>\n",
       "      <th>1</th>\n",
       "      <td>STORAGE_PROVIDER</td>\n",
       "      <td>S3</td>\n",
       "    </tr>\n",
       "  </tbody>\n",
       "</table>\n",
       "</div>"
      ],
      "text/plain": [
       "           property property_value\n",
       "0           ENABLED           true\n",
       "1  STORAGE_PROVIDER             S3"
      ]
     },
     "execution_count": 13,
     "metadata": {},
     "output_type": "execute_result"
    }
   ],
   "source": [
    "import pandas as pd\n",
    "pd.set_option('display.max_colwidth', None) # useful to copy-paste parameters\n",
    "\n",
    "# Remove `head()` to see all necessary values\n",
    "snowflake.query_pd('DESC INTEGRATION storage_integration_aws_naas_sf_data;').iloc[:, [0, 2]].head(2)"
   ]
  },
  {
   "cell_type": "markdown",
   "metadata": {},
   "source": [
    "According to values returned by storage integration description, please go to AWS console and alter your IAM Role's Trust Policy.\n",
    "\n",
    "When this is done, you can proceed forward."
   ]
  },
  {
   "cell_type": "markdown",
   "metadata": {},
   "source": [
    "### Creating external stage for private data"
   ]
  },
  {
   "cell_type": "code",
   "execution_count": 14,
   "metadata": {},
   "outputs": [
    {
     "data": {
      "text/plain": [
       "{'results': [('Stage area EXTERNAL_AWS_STAGE_PRIVATE successfully created.',)],\n",
       " 'description': [ResultMetadata(name='status', type_code=2, display_size=None, internal_size=16777216, precision=None, scale=None, is_nullable=True)],\n",
       " 'statement': \"CREATE OR REPLACE STAGE external_aws_stage_private FILE_FORMAT = my_json_format STORAGE_INTEGRATION = storage_integration_aws_naas_sf_data url = 's3://naas-snowflake-data/'\"}"
      ]
     },
     "execution_count": 14,
     "metadata": {},
     "output_type": "execute_result"
    }
   ],
   "source": [
    "snowflake.stage.create(\n",
    "    stage_name='external_aws_stage_private',\n",
    "    STORAGE_INTEGRATION='storage_integration_aws_naas_sf_data',\n",
    "    url=\"'s3://naas-snowflake-data/'\",\n",
    "    file_format_name='my_json_format',\n",
    "    or_replace=True\n",
    ")"
   ]
  },
  {
   "cell_type": "markdown",
   "metadata": {},
   "source": [
    "### Listing external stage objects"
   ]
  },
  {
   "cell_type": "code",
   "execution_count": 15,
   "metadata": {},
   "outputs": [
    {
     "data": {
      "text/html": [
       "<div>\n",
       "<style scoped>\n",
       "    .dataframe tbody tr th:only-of-type {\n",
       "        vertical-align: middle;\n",
       "    }\n",
       "\n",
       "    .dataframe tbody tr th {\n",
       "        vertical-align: top;\n",
       "    }\n",
       "\n",
       "    .dataframe thead th {\n",
       "        text-align: right;\n",
       "    }\n",
       "</style>\n",
       "<table border=\"1\" class=\"dataframe\">\n",
       "  <thead>\n",
       "    <tr style=\"text-align: right;\">\n",
       "      <th></th>\n",
       "      <th>name</th>\n",
       "      <th>size</th>\n",
       "      <th>md5</th>\n",
       "      <th>last_modified</th>\n",
       "    </tr>\n",
       "  </thead>\n",
       "  <tbody>\n",
       "    <tr>\n",
       "      <th>0</th>\n",
       "      <td>s3://naas-snowflake-data/reviews_data.json</td>\n",
       "      <td>2059600</td>\n",
       "      <td>19f586376ac4827e15bc3a6613a9d7e8</td>\n",
       "      <td>Sat, 6 Aug 2022 16:10:22 GMT</td>\n",
       "    </tr>\n",
       "  </tbody>\n",
       "</table>\n",
       "</div>"
      ],
      "text/plain": [
       "                                         name     size  \\\n",
       "0  s3://naas-snowflake-data/reviews_data.json  2059600   \n",
       "\n",
       "                                md5                 last_modified  \n",
       "0  19f586376ac4827e15bc3a6613a9d7e8  Sat, 6 Aug 2022 16:10:22 GMT  "
      ]
     },
     "execution_count": 15,
     "metadata": {},
     "output_type": "execute_result"
    }
   ],
   "source": [
    "snowflake.query_pd('LIST @external_aws_stage_private')"
   ]
  },
  {
   "cell_type": "markdown",
   "metadata": {},
   "source": [
    "### Creating a table"
   ]
  },
  {
   "cell_type": "code",
   "execution_count": 16,
   "metadata": {},
   "outputs": [
    {
     "data": {
      "text/plain": [
       "[('Table REVIEWS_DEV_PRIVATE successfully created.',)]"
      ]
     },
     "execution_count": 16,
     "metadata": {},
     "output_type": "execute_result"
    }
   ],
   "source": [
    "query_create_table = \"\"\"\n",
    "    CREATE OR REPLACE TABLE reviews_dev_private (\n",
    "      language VARCHAR\n",
    "      , product_category VARCHAR\n",
    "      , product_id VARCHAR\n",
    "      , review_body VARCHAR\n",
    "      , review_id VARCHAR\n",
    "      , review_title VARCHAR\n",
    "      , reviewer_id VARCHAR\n",
    "      , stars INT\n",
    "    );\n",
    "\"\"\"\n",
    "\n",
    "snowflake.execute(query_create_table)['results']"
   ]
  },
  {
   "cell_type": "markdown",
   "metadata": {},
   "source": [
    "### Loading data from private external stage to a table"
   ]
  },
  {
   "cell_type": "code",
   "execution_count": 17,
   "metadata": {},
   "outputs": [],
   "source": [
    "transformation_statement = \"\"\"\n",
    "    SELECT\n",
    "        $1:language::varchar AS language\n",
    "        , $1:product_category::varchar AS product_category\n",
    "        , $1:product_id::varchar AS product_id\n",
    "        , $1:review_body::varchar AS review_body\n",
    "        , $1:review_id::varchar AS review_id\n",
    "        , $1:review_title::varchar AS review_title\n",
    "        , $1:reviewer_id::varchar AS reviewer_id\n",
    "        , $1:stars::int AS stars\n",
    "    FROM @external_aws_stage_private\n",
    "\"\"\"\n",
    "\n",
    "snowflake.copy_into(\n",
    "    table_name='reviews_dev_private',\n",
    "    source_stage=transformation_statement,\n",
    "    silent=True\n",
    ")"
   ]
  },
  {
   "cell_type": "markdown",
   "metadata": {},
   "source": [
    "### Querying data straight to Pandas DataFrame"
   ]
  },
  {
   "cell_type": "code",
   "execution_count": 18,
   "metadata": {},
   "outputs": [
    {
     "data": {
      "text/html": [
       "<div>\n",
       "<style scoped>\n",
       "    .dataframe tbody tr th:only-of-type {\n",
       "        vertical-align: middle;\n",
       "    }\n",
       "\n",
       "    .dataframe tbody tr th {\n",
       "        vertical-align: top;\n",
       "    }\n",
       "\n",
       "    .dataframe thead th {\n",
       "        text-align: right;\n",
       "    }\n",
       "</style>\n",
       "<table border=\"1\" class=\"dataframe\">\n",
       "  <thead>\n",
       "    <tr style=\"text-align: right;\">\n",
       "      <th></th>\n",
       "      <th>LANGUAGE</th>\n",
       "      <th>PRODUCT_CATEGORY</th>\n",
       "      <th>PRODUCT_ID</th>\n",
       "      <th>REVIEW_BODY</th>\n",
       "      <th>REVIEW_ID</th>\n",
       "      <th>REVIEW_TITLE</th>\n",
       "      <th>REVIEWER_ID</th>\n",
       "      <th>STARS</th>\n",
       "    </tr>\n",
       "  </thead>\n",
       "  <tbody>\n",
       "    <tr>\n",
       "      <th>0</th>\n",
       "      <td>en</td>\n",
       "      <td>baby_product</td>\n",
       "      <td>product_en_0878845</td>\n",
       "      <td>Pathetic design of the caps. Very impractical to use everyday. The caps close so tight that ever...</td>\n",
       "      <td>en_0968227</td>\n",
       "      <td>Not worth the price and very bad cap design</td>\n",
       "      <td>reviewer_en_0987470</td>\n",
       "      <td>1</td>\n",
       "    </tr>\n",
       "    <tr>\n",
       "      <th>1</th>\n",
       "      <td>en</td>\n",
       "      <td>shoes</td>\n",
       "      <td>product_en_0004522</td>\n",
       "      <td>Shoes were purchased on March 6, 2019. My wife wore them a couple times a week since receiving t...</td>\n",
       "      <td>en_0830781</td>\n",
       "      <td>Garbage!</td>\n",
       "      <td>reviewer_en_0731158</td>\n",
       "      <td>1</td>\n",
       "    </tr>\n",
       "    <tr>\n",
       "      <th>2</th>\n",
       "      <td>en</td>\n",
       "      <td>office_product</td>\n",
       "      <td>product_en_0060687</td>\n",
       "      <td>It's taken me 1 whole year to set this thing up primarily because I have a MAC, so the set up wa...</td>\n",
       "      <td>en_0277954</td>\n",
       "      <td>I do not recommend this printer</td>\n",
       "      <td>reviewer_en_0793876</td>\n",
       "      <td>1</td>\n",
       "    </tr>\n",
       "    <tr>\n",
       "      <th>3</th>\n",
       "      <td>en</td>\n",
       "      <td>office_product</td>\n",
       "      <td>product_en_0311791</td>\n",
       "      <td>Each cartridge printed once. Both dried up in less than two weeks. I will not buy from this sell...</td>\n",
       "      <td>en_0316499</td>\n",
       "      <td>Don't purchase these refurbished cartridges!</td>\n",
       "      <td>reviewer_en_0837288</td>\n",
       "      <td>1</td>\n",
       "    </tr>\n",
       "    <tr>\n",
       "      <th>4</th>\n",
       "      <td>en</td>\n",
       "      <td>baby_product</td>\n",
       "      <td>product_en_0472877</td>\n",
       "      <td>No light hard to see</td>\n",
       "      <td>en_0320665</td>\n",
       "      <td>Not worth</td>\n",
       "      <td>reviewer_en_0878169</td>\n",
       "      <td>1</td>\n",
       "    </tr>\n",
       "  </tbody>\n",
       "</table>\n",
       "</div>"
      ],
      "text/plain": [
       "  LANGUAGE PRODUCT_CATEGORY          PRODUCT_ID  \\\n",
       "0       en     baby_product  product_en_0878845   \n",
       "1       en            shoes  product_en_0004522   \n",
       "2       en   office_product  product_en_0060687   \n",
       "3       en   office_product  product_en_0311791   \n",
       "4       en     baby_product  product_en_0472877   \n",
       "\n",
       "                                                                                           REVIEW_BODY  \\\n",
       "0  Pathetic design of the caps. Very impractical to use everyday. The caps close so tight that ever...   \n",
       "1  Shoes were purchased on March 6, 2019. My wife wore them a couple times a week since receiving t...   \n",
       "2  It's taken me 1 whole year to set this thing up primarily because I have a MAC, so the set up wa...   \n",
       "3  Each cartridge printed once. Both dried up in less than two weeks. I will not buy from this sell...   \n",
       "4                                                                                 No light hard to see   \n",
       "\n",
       "    REVIEW_ID                                  REVIEW_TITLE  \\\n",
       "0  en_0968227   Not worth the price and very bad cap design   \n",
       "1  en_0830781                                      Garbage!   \n",
       "2  en_0277954               I do not recommend this printer   \n",
       "3  en_0316499  Don't purchase these refurbished cartridges!   \n",
       "4  en_0320665                                     Not worth   \n",
       "\n",
       "           REVIEWER_ID  STARS  \n",
       "0  reviewer_en_0987470      1  \n",
       "1  reviewer_en_0731158      1  \n",
       "2  reviewer_en_0793876      1  \n",
       "3  reviewer_en_0837288      1  \n",
       "4  reviewer_en_0878169      1  "
      ]
     },
     "execution_count": 18,
     "metadata": {},
     "output_type": "execute_result"
    }
   ],
   "source": [
    "pd.set_option('display.max_colwidth', 100)\n",
    "reviews_dev_public = snowflake.query_pd('SELECT * FROM reviews_dev_private')\n",
    "reviews_dev_public.head()"
   ]
  },
  {
   "cell_type": "markdown",
   "metadata": {},
   "source": [
    "### Dropping storage integration"
   ]
  },
  {
   "cell_type": "code",
   "execution_count": 19,
   "metadata": {},
   "outputs": [
    {
     "data": {
      "text/plain": [
       "{'results': [('STORAGE_INTEGRATION_AWS_NAAS_SF_DATA successfully dropped.',)],\n",
       " 'description': [ResultMetadata(name='status', type_code=2, display_size=None, internal_size=16777216, precision=None, scale=None, is_nullable=True)],\n",
       " 'statement': 'DROP STORAGE INTEGRATION storage_integration_aws_naas_sf_data'}"
      ]
     },
     "execution_count": 19,
     "metadata": {},
     "output_type": "execute_result"
    }
   ],
   "source": [
    "snowflake.storage_integration.drop('storage_integration_aws_naas_sf_data')"
   ]
  }
 ],
 "metadata": {
  "kernelspec": {
   "display_name": "Python 3 (ipykernel)",
   "language": "python",
   "name": "python3"
  },
  "language_info": {
   "codemirror_mode": {
    "name": "ipython",
    "version": 3
   },
   "file_extension": ".py",
   "mimetype": "text/x-python",
   "name": "python",
   "nbconvert_exporter": "python",
   "pygments_lexer": "ipython3",
   "version": "3.8.10"
  }
 },
 "nbformat": 4,
 "nbformat_minor": 1
}
