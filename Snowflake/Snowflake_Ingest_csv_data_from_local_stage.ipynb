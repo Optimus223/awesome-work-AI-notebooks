{
 "cells": [
  {
   "cell_type": "markdown",
   "metadata": {},
   "source": [
    "<img width=\"10%\" alt=\"Naas\" src=\"https://landen.imgix.net/jtci2pxwjczr/assets/5ice39g4.png?w=160\"/>"
   ]
  },
  {
   "cell_type": "markdown",
   "metadata": {},
   "source": [
    "# Snowflake - CSV data ingestion from local stage\n",
    "\n",
    "<a href=\"https://app.naas.ai/user-redirect/naas/downloader?url=https://raw.githubusercontent.com/jupyter-naas/awesome-notebooks/master/Snowflake/Snowflake_Ingest_csv_data_from_local_stage.ipynb\" target=\"_parent\"><img src=\"https://naasai-public.s3.eu-west-3.amazonaws.com/open_in_naas.svg\"/></a>"
   ]
  },
  {
   "cell_type": "markdown",
   "metadata": {},
   "source": [
    "**Tags:** #snowflake #data #warehouse #naas_drivers #snippet"
   ]
  },
  {
   "cell_type": "markdown",
   "metadata": {},
   "source": [
    "**Author:** [Mateusz Polakowski](https://www.linkedin.com/in/polakowski/)"
   ]
  },
  {
   "cell_type": "markdown",
   "metadata": {},
   "source": [
    "To use your own data inside Snowflake DWH, first thing first, you need to ingest it.\n",
    "\n",
    "This notebook shows how to put <u>CSV</u> data from your local machine into Snowflake. Several objects and actions will be necessary to do so:\n",
    "\n",
    "- creating file format,\n",
    "- creating internal named stage (for other stages, please check [Snowflake documentation](https://docs.snowflake.com/en/user-guide/data-load-local-file-system-create-stage.html)),\n",
    "- putting file into stage,\n",
    "- copying data from stage to the table.\n",
    "\n",
    "All above steps are essential to make use of the data from your local machine inside Snowflake.\n",
    "\n",
    "You can try with your own JSON data, but to follow the notebook cells 1:1 please download `sales_data.csv` file from `awesome-notebooks/Snowflake` directory. Eventually, you may need to change your file location below in the ensuing cells."
   ]
  },
  {
   "cell_type": "markdown",
   "metadata": {},
   "source": [
    "## Input"
   ]
  },
  {
   "cell_type": "markdown",
   "metadata": {},
   "source": [
    "### Import library"
   ]
  },
  {
   "cell_type": "code",
   "execution_count": 1,
   "metadata": {},
   "outputs": [],
   "source": [
    "import os\n",
    "from naas_drivers import snowflake\n",
    "from snowflake.connector.errors import ProgrammingError"
   ]
  },
  {
   "cell_type": "markdown",
   "metadata": {},
   "source": [
    "### Setup Snowflake account\n",
    "\n",
    "If you don't have your SF account, you can easily set up a [30-day trial account with $400 budget here](https://signup.snowflake.com/).\n",
    "\n",
    "To get your Snowflake account ID essential for connecting, please refer to [Account Identifiers in Snowflake documentation](https://docs.snowflake.com/en/user-guide/admin-account-identifier.html). There are several methods to get your account ID, but the overall rule can be found below:\n",
    "\n",
    "```<account_identifier>.snowflakecomputing.com```\n",
    "\n",
    "If you're proceeding with the trial account, it's highly probable that your ID will resemble something like: `xy1234.eu-central-1`."
   ]
  },
  {
   "cell_type": "markdown",
   "metadata": {},
   "source": [
    "### Credentials"
   ]
  },
  {
   "cell_type": "code",
   "execution_count": 2,
   "metadata": {},
   "outputs": [],
   "source": [
    "# Here environment variables are used to pass Snowflake credentials, \n",
    "# but it's okay to do it in a different manner\n",
    "\n",
    "sf_username=os.environ['SNOWFLAKE_USER']\n",
    "sf_password=os.environ['SNOWFLAKE_PASSWORD']\n",
    "sf_account=os.environ['SNOWFLAKE_ACCOUNT']"
   ]
  },
  {
   "cell_type": "markdown",
   "metadata": {},
   "source": [
    "## Model"
   ]
  },
  {
   "cell_type": "markdown",
   "metadata": {},
   "source": [
    "### Connecting to your Snowflake account"
   ]
  },
  {
   "cell_type": "code",
   "execution_count": 3,
   "metadata": {},
   "outputs": [],
   "source": [
    "snowflake.connect(\n",
    "    username=sf_username,\n",
    "    password=sf_password,\n",
    "    account=sf_account\n",
    ")"
   ]
  },
  {
   "cell_type": "markdown",
   "metadata": {},
   "source": [
    "### Environment setup"
   ]
  },
  {
   "cell_type": "code",
   "execution_count": 4,
   "metadata": {},
   "outputs": [
    {
     "data": {
      "text/plain": [
       "True"
      ]
     },
     "execution_count": 4,
     "metadata": {},
     "output_type": "execute_result"
    }
   ],
   "source": [
    "snowflake.database.get_current() is None"
   ]
  },
  {
   "cell_type": "code",
   "execution_count": 5,
   "metadata": {},
   "outputs": [
    {
     "data": {
      "text/plain": [
       "{'results': [('Statement executed successfully.',)],\n",
       " 'description': [ResultMetadata(name='status', type_code=2, display_size=None, internal_size=16777216, precision=None, scale=None, is_nullable=True)],\n",
       " 'statement': 'USE WAREHOUSE COMPUTE_WH'}"
      ]
     },
     "execution_count": 5,
     "metadata": {},
     "output_type": "execute_result"
    }
   ],
   "source": [
    "snowflake.warehouse.use('COMPUTE_WH')"
   ]
  },
  {
   "cell_type": "code",
   "execution_count": 6,
   "metadata": {},
   "outputs": [
    {
     "data": {
      "text/plain": [
       "{'results': [('Statement executed successfully.',)],\n",
       " 'description': [ResultMetadata(name='status', type_code=2, display_size=None, internal_size=16777216, precision=None, scale=None, is_nullable=True)],\n",
       " 'statement': 'USE ROLE ACCOUNTADMIN'}"
      ]
     },
     "execution_count": 6,
     "metadata": {},
     "output_type": "execute_result"
    }
   ],
   "source": [
    "snowflake.role.use('ACCOUNTADMIN')"
   ]
  },
  {
   "cell_type": "code",
   "execution_count": 7,
   "metadata": {},
   "outputs": [],
   "source": [
    "snowflake.database.create('NAAS', or_replace=True, silent=True)\n",
    "snowflake.database.use('NAAS', silent=True)\n",
    "snowflake.schema.create('NAAS_SCHEMA', or_replace=True, silent=True)\n",
    "snowflake.schema.use('NAAS_SCHEMA', silent=True)"
   ]
  },
  {
   "cell_type": "code",
   "execution_count": 8,
   "metadata": {},
   "outputs": [
    {
     "data": {
      "text/plain": [
       "{'role': 'ACCOUNTADMIN',\n",
       " 'database': 'NAAS',\n",
       " 'schema': 'NAAS_SCHEMA',\n",
       " 'warehouse': 'COMPUTE_WH'}"
      ]
     },
     "execution_count": 8,
     "metadata": {},
     "output_type": "execute_result"
    }
   ],
   "source": [
    "snowflake.get_environment()"
   ]
  },
  {
   "cell_type": "markdown",
   "metadata": {},
   "source": [
    "## Output"
   ]
  },
  {
   "cell_type": "markdown",
   "metadata": {},
   "source": [
    "### Creating file format"
   ]
  },
  {
   "cell_type": "code",
   "execution_count": 9,
   "metadata": {},
   "outputs": [
    {
     "data": {
      "text/plain": [
       "{'results': [('File format MY_CSV_FORMAT successfully created.',)],\n",
       " 'description': [ResultMetadata(name='status', type_code=2, display_size=None, internal_size=16777216, precision=None, scale=None, is_nullable=True)],\n",
       " 'statement': \"CREATE OR REPLACE FILE FORMAT my_csv_format TYPE = CSV FIELD_DELIMITER = ',' SKIP_HEADER = 1\"}"
      ]
     },
     "execution_count": 9,
     "metadata": {},
     "output_type": "execute_result"
    }
   ],
   "source": [
    "results_ff = snowflake.file_format.create(\n",
    "    'my_csv_format', \n",
    "    'CSV', \n",
    "    or_replace=True,\n",
    "    FIELD_DELIMITER=\"','\",\n",
    "    SKIP_HEADER=1\n",
    ")\n",
    "\n",
    "results_ff"
   ]
  },
  {
   "cell_type": "markdown",
   "metadata": {},
   "source": [
    "### Creating file format with wrong parameter (not applicable for JSON file format, see [docs](https://docs.snowflake.com/en/sql-reference/sql/create-file-format.html))"
   ]
  },
  {
   "cell_type": "code",
   "execution_count": 10,
   "metadata": {},
   "outputs": [
    {
     "name": "stdout",
     "output_type": "stream",
     "text": [
      "Something went wrong!\n",
      "002135 (42601): SQL compilation error:\n",
      "Option ENABLE_OCTAL is not valid for file format type CSV.\n"
     ]
    }
   ],
   "source": [
    "try:\n",
    "    snowflake.file_format.create('my_invalid_csv_format', 'CSV', or_replace=True, ENABLE_OCTAL = \"TRUE\")\n",
    "except ProgrammingError as pe:\n",
    "    print('Something went wrong!')\n",
    "    print(pe)"
   ]
  },
  {
   "cell_type": "markdown",
   "metadata": {},
   "source": [
    "### Dropping file format"
   ]
  },
  {
   "cell_type": "code",
   "execution_count": 11,
   "metadata": {},
   "outputs": [],
   "source": [
    "# snowflake.file_format.drop('my_csv_format', if_exists=True)"
   ]
  },
  {
   "cell_type": "markdown",
   "metadata": {},
   "source": [
    "### Creating internal stage"
   ]
  },
  {
   "cell_type": "code",
   "execution_count": 12,
   "metadata": {},
   "outputs": [
    {
     "data": {
      "text/plain": [
       "{'results': [('Stage area MY_INTERNAL_STAGE successfully created.',)],\n",
       " 'description': [ResultMetadata(name='status', type_code=2, display_size=None, internal_size=16777216, precision=None, scale=None, is_nullable=True)],\n",
       " 'statement': 'CREATE OR REPLACE STAGE my_internal_stage FILE_FORMAT = my_csv_format'}"
      ]
     },
     "execution_count": 12,
     "metadata": {},
     "output_type": "execute_result"
    }
   ],
   "source": [
    "snowflake.stage.create(\n",
    "    stage_name='my_internal_stage', \n",
    "    or_replace=True,\n",
    "    file_format_name='my_csv_format'\n",
    ")"
   ]
  },
  {
   "cell_type": "markdown",
   "metadata": {},
   "source": [
    "### Putting data on the stage"
   ]
  },
  {
   "cell_type": "code",
   "execution_count": 13,
   "metadata": {},
   "outputs": [],
   "source": [
    "snowflake.stage.put(\n",
    "    filepath='file://~/Downloads/sales_data.csv',\n",
    "    internal_stage_name='@my_internal_stage',\n",
    "    silent=True\n",
    ")"
   ]
  },
  {
   "cell_type": "markdown",
   "metadata": {},
   "source": [
    "### Showing files inside stage"
   ]
  },
  {
   "cell_type": "code",
   "execution_count": 14,
   "metadata": {},
   "outputs": [
    {
     "name": "stdout",
     "output_type": "stream",
     "text": [
      "[('my_internal_stage/sales_data.csv.gz', 128, 'dd08d360e14e5e07eb429b7156e83694', 'Sat, 6 Aug 2022 18:59:16 GMT')]\n"
     ]
    }
   ],
   "source": [
    "result_list_stage = snowflake.stage.list('@my_internal_stage')\n",
    "\n",
    "print(result_list_stage['results'])"
   ]
  },
  {
   "cell_type": "markdown",
   "metadata": {},
   "source": [
    "### Creating a table\n",
    "\n",
    "It's possible to do something like `CREATE TABLE AS SELECT ... FROM @stage`, although it's highly not recommended! With that approach we don't keep file loading history (which Snowflake is capable to do and make a lot of use from)."
   ]
  },
  {
   "cell_type": "code",
   "execution_count": 15,
   "metadata": {},
   "outputs": [
    {
     "data": {
      "text/plain": [
       "[('Table SALES_DATA successfully created.',)]"
      ]
     },
     "execution_count": 15,
     "metadata": {},
     "output_type": "execute_result"
    }
   ],
   "source": [
    "query_create_table = \"\"\"\n",
    "    CREATE OR REPLACE TABLE sales_data (\n",
    "      month VARCHAR\n",
    "      , year INT\n",
    "      , item VARCHAR\n",
    "      , amount BIGINT\n",
    "      , currency VARCHAR\n",
    "    );\n",
    "\"\"\"\n",
    "\n",
    "# No worries, Table API will be available soon too!\n",
    "snowflake.execute(query_create_table)['results']"
   ]
  },
  {
   "cell_type": "markdown",
   "metadata": {},
   "source": [
    "### Loading data from internal stage to a table"
   ]
  },
  {
   "cell_type": "code",
   "execution_count": 16,
   "metadata": {},
   "outputs": [],
   "source": [
    "snowflake.copy_into(\n",
    "    table_name='sales_data',\n",
    "    source_stage='@my_internal_stage',\n",
    "    silent=True\n",
    ")"
   ]
  },
  {
   "cell_type": "markdown",
   "metadata": {},
   "source": [
    "### Running the same command again \n",
    "\n",
    "No harm as `COPY INTO` tracks which files have been loaded already"
   ]
  },
  {
   "cell_type": "code",
   "execution_count": 17,
   "metadata": {},
   "outputs": [],
   "source": [
    "snowflake.copy_into(\n",
    "    table_name='sales_data',\n",
    "    source_stage='@my_internal_stage',\n",
    "    silent=True\n",
    ")"
   ]
  },
  {
   "cell_type": "markdown",
   "metadata": {},
   "source": [
    "### Data querying straight to Pandas DataFrame"
   ]
  },
  {
   "cell_type": "code",
   "execution_count": 18,
   "metadata": {},
   "outputs": [
    {
     "data": {
      "text/html": [
       "<div>\n",
       "<style scoped>\n",
       "    .dataframe tbody tr th:only-of-type {\n",
       "        vertical-align: middle;\n",
       "    }\n",
       "\n",
       "    .dataframe tbody tr th {\n",
       "        vertical-align: top;\n",
       "    }\n",
       "\n",
       "    .dataframe thead th {\n",
       "        text-align: right;\n",
       "    }\n",
       "</style>\n",
       "<table border=\"1\" class=\"dataframe\">\n",
       "  <thead>\n",
       "    <tr style=\"text-align: right;\">\n",
       "      <th></th>\n",
       "      <th>MONTH</th>\n",
       "      <th>YEAR</th>\n",
       "      <th>ITEM</th>\n",
       "      <th>AMOUNT</th>\n",
       "      <th>CURRENCY</th>\n",
       "    </tr>\n",
       "  </thead>\n",
       "  <tbody>\n",
       "    <tr>\n",
       "      <th>0</th>\n",
       "      <td>Febuary</td>\n",
       "      <td>2020</td>\n",
       "      <td>Product F</td>\n",
       "      <td>23202100</td>\n",
       "      <td>USD</td>\n",
       "    </tr>\n",
       "    <tr>\n",
       "      <th>1</th>\n",
       "      <td>Febuary</td>\n",
       "      <td>2020</td>\n",
       "      <td>Product G</td>\n",
       "      <td>6720100</td>\n",
       "      <td>USD</td>\n",
       "    </tr>\n",
       "    <tr>\n",
       "      <th>2</th>\n",
       "      <td>Febuary</td>\n",
       "      <td>2020</td>\n",
       "      <td>Product H</td>\n",
       "      <td>17232000</td>\n",
       "      <td>USD</td>\n",
       "    </tr>\n",
       "  </tbody>\n",
       "</table>\n",
       "</div>"
      ],
      "text/plain": [
       "     MONTH  YEAR       ITEM    AMOUNT CURRENCY\n",
       "0  Febuary  2020  Product F  23202100      USD\n",
       "1  Febuary  2020  Product G   6720100      USD\n",
       "2  Febuary  2020  Product H  17232000      USD"
      ]
     },
     "execution_count": 18,
     "metadata": {},
     "output_type": "execute_result"
    }
   ],
   "source": [
    "sales_data = snowflake.query_pd('SELECT * FROM sales_data')\n",
    "sales_data.head()"
   ]
  }
 ],
 "metadata": {
  "kernelspec": {
   "display_name": "Python 3 (ipykernel)",
   "language": "python",
   "name": "python3"
  },
  "language_info": {
   "codemirror_mode": {
    "name": "ipython",
    "version": 3
   },
   "file_extension": ".py",
   "mimetype": "text/x-python",
   "name": "python",
   "nbconvert_exporter": "python",
   "pygments_lexer": "ipython3",
   "version": "3.8.10"
  }
 },
 "nbformat": 4,
 "nbformat_minor": 1
}
