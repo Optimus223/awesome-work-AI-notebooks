{
 "cells": [
  {
   "cell_type": "markdown",
   "id": "unsigned-study",
   "metadata": {
    "papermill": {},
    "tags": []
   },
   "source": [
    "# Excel 365 - Access  sheet\n",
    "<a href=\"https://app.naas.ai/user-redirect/naas/downloader?url=https://raw.githubusercontent.com/jupyter-naas/awesome-notebooks/master/Excel%20365/Access%20Excel%20365%20sheet.ipynb\" target=\"_parent\"><img src=\"https://img.shields.io/badge/-Open%20in%20Naas-success?labelColor=000000&logo=data:image/svg+xml;base64,PD94bWwgdmVyc2lvbj0iMS4wIiBlbmNvZGluZz0iVVRGLTgiPz4KPHN2ZyB3aWR0aD0iMTAyNHB4IiBoZWlnaHQ9IjEwMjRweCIgdmlld0JveD0iMCAwIDEwMjQgMTAyNCIgeG1sbnM9Imh0dHA6Ly93d3cudzMub3JnLzIwMDAvc3ZnIiB4bWxuczp4bGluaz0iaHR0cDovL3d3dy53My5vcmcvMTk5OS94bGluayIgdmVyc2lvbj0iMS4xIj4KIDwhLS0gR2VuZXJhdGVkIGJ5IFBpeGVsbWF0b3IgUHJvIDIuMC41IC0tPgogPGRlZnM+CiAgPHRleHQgaWQ9InN0cmluZyIgdHJhbnNmb3JtPSJtYXRyaXgoMS4wIDAuMCAwLjAgMS4wIDIyOC4wIDU0LjUpIiBmb250LWZhbWlseT0iQ29tZm9ydGFhLVJlZ3VsYXIsIENvbWZvcnRhYSIgZm9udC1zaXplPSI4MDAiIHRleHQtZGVjb3JhdGlvbj0ibm9uZSIgZmlsbD0iI2ZmZmZmZiIgeD0iMS4xOTk5OTk5OTk5OTk5ODg2IiB5PSI3MDUuMCI+bjwvdGV4dD4KIDwvZGVmcz4KIDx1c2UgaWQ9Im4iIHhsaW5rOmhyZWY9IiNzdHJpbmciLz4KPC9zdmc+Cg==\"/></a>"
   ]
  },
  {
   "cell_type": "markdown",
   "id": "549b4358-0ad4-453b-8744-2a7a75f13b41",
   "metadata": {
    "papermill": {},
    "tags": []
   },
   "source": [
    "## Input"
   ]
  },
  {
   "cell_type": "markdown",
   "id": "unknown-stamp",
   "metadata": {
    "papermill": {},
    "tags": []
   },
   "source": [
    "### Install pip package"
   ]
  },
  {
   "cell_type": "code",
   "execution_count": 1,
   "id": "amateur-affiliate",
   "metadata": {
    "papermill": {},
    "tags": []
   },
   "outputs": [],
   "source": [
    "!pip install sharepy"
   ]
  },
  {
   "cell_type": "markdown",
   "id": "neither-reference",
   "metadata": {
    "papermill": {},
    "tags": []
   },
   "source": [
    "### Import sharepoint connector"
   ]
  },
  {
   "cell_type": "code",
   "execution_count": 2,
   "id": "numerical-traffic",
   "metadata": {
    "papermill": {},
    "tags": []
   },
   "outputs": [],
   "source": [
    "import sharepoint_connector"
   ]
  },
  {
   "cell_type": "markdown",
   "id": "biblical-cosmetic",
   "metadata": {
    "papermill": {},
    "tags": []
   },
   "source": [
    "### Set variables\n",
    "- username - username of sharepoint account\n",
    "- password - password of sharepoint account\n",
    "- domain - domain of sharepont account (eg mysite.sharepoint.com)\n",
    "- path - its a full path of file in sharepoint . \n",
    "  it can get from sharepoint dashbord by right click on file and select detail. \n",
    "  then path can copy from right panel in dashboard \n",
    "- sheet - name of sheet\n",
    "- export -  it is an optional parameter. it can be csv or xlsx. file will be exported to data_output folder based on this variable. set export as empty string or False if no need to export the file"
   ]
  },
  {
   "cell_type": "code",
   "execution_count": 5,
   "id": "micro-travel",
   "metadata": {
    "papermill": {},
    "tags": []
   },
   "outputs": [],
   "source": [
    "password=\"9aXgzH2DRqKCCU8z\"\n",
    "username=\"jeremy.ravenel@cashstory.com\"\n",
    "domain = \"cashstory.sharepoint.com\"\n",
    "path = \"https://cashstory.sharepoint.com/sites/cashstory-external/Documents%20partages/CashStory%20Forecasting%20Module/Forecast.xlsx\"\n",
    "sheet = \"Forecast\"\n",
    "export = \"xls\"  "
   ]
  },
  {
   "cell_type": "markdown",
   "id": "1398350c-79cb-4748-82f8-2d9d90a49e5b",
   "metadata": {
    "papermill": {},
    "tags": []
   },
   "source": [
    "## Model"
   ]
  },
  {
   "cell_type": "markdown",
   "id": "b524abf1-5b49-4fcd-9b9b-fbfa37631a17",
   "metadata": {
    "papermill": {},
    "tags": []
   },
   "source": [
    "### Connect to sharepoint with the variables"
   ]
  },
  {
   "cell_type": "code",
   "execution_count": 6,
   "id": "frank-appearance",
   "metadata": {
    "papermill": {},
    "tags": []
   },
   "outputs": [],
   "source": [
    "df  = sharepoint_connector.connect(username,password,domain,path,sheet,export)"
   ]
  },
  {
   "cell_type": "markdown",
   "id": "2853d389-b1bc-4207-bf66-396e9036cb05",
   "metadata": {
    "papermill": {},
    "tags": []
   },
   "source": [
    "## Output"
   ]
  },
  {
   "cell_type": "markdown",
   "id": "2962df18-3507-4c85-8bbd-3757c23e9999",
   "metadata": {
    "papermill": {},
    "tags": []
   },
   "source": [
    "### Display result"
   ]
  },
  {
   "cell_type": "code",
   "execution_count": null,
   "id": "becoming-chaos",
   "metadata": {
    "papermill": {},
    "tags": []
   },
   "outputs": [],
   "source": [
    "df"
   ]
  }
 ],
 "metadata": {
  "kernelspec": {
   "display_name": "Python 3",
   "language": "python",
   "name": "python3"
  },
  "language_info": {
   "codemirror_mode": {
    "name": "ipython",
    "version": 3
   },
   "file_extension": ".py",
   "mimetype": "text/x-python",
   "name": "python",
   "nbconvert_exporter": "python",
   "pygments_lexer": "ipython3",
   "version": "3.8.8"
  },
  "papermill": {
   "default_parameters": {},
   "environment_variables": {},
   "parameters": {},
   "version": "2.3.3"
  }
 },
 "nbformat": 4,
 "nbformat_minor": 5
}