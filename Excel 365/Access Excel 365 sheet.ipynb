{
 "cells": [
  {
   "cell_type": "markdown",
   "id": "naas-logo",
   "metadata": {
    "papermill": {},
    "tags": [
     "naas"
    ]
   },
   "source": [
    "<img width=\"10%\" alt=\"Naas\" src=\"https://landen.imgix.net/jtci2pxwjczr/assets/5ice39g4.png?w=160\"/>"
   ]
  },
  {
   "cell_type": "markdown",
   "id": "unsigned-study",
   "metadata": {
    "papermill": {},
    "tags": []
   },
   "source": [
    "# Excel 365 - Access  sheet\n",
    "<a href=\"https://app.naas.ai/user-redirect/naas/downloader?url=https://raw.githubusercontent.com/jupyter-naas/awesome-notebooks/master/Excel%20365/Access%20Excel%20365%20sheet.ipynb\" target=\"_parent\"><img src=\"https://naasai-public.s3.eu-west-3.amazonaws.com/open_in_naas.svg\"/></a>"
   ]
  },
  {
   "cell_type": "markdown",
   "id": "ae050725-695e-45a6-b938-20ac1b2abfc6",
   "metadata": {
    "papermill": {},
    "tags": []
   },
   "source": [
    "**Tags:** #excel365 #snippet"
   ]
  },
  {
   "cell_type": "markdown",
   "id": "bfacab08-d6dc-41f0-849d-d6fc1f7eaca5",
   "metadata": {
    "papermill": {},
    "tags": []
   },
   "source": [
    "**Author:** [Ebin Paulose](https://www.linkedin.com/in/ebinpaulose/)"
   ]
  },
  {
   "cell_type": "markdown",
   "id": "549b4358-0ad4-453b-8744-2a7a75f13b41",
   "metadata": {
    "papermill": {},
    "tags": []
   },
   "source": [
    "## Input"
   ]
  },
  {
   "cell_type": "markdown",
   "id": "neither-reference",
   "metadata": {
    "papermill": {},
    "tags": []
   },
   "source": [
    "### Import sharepoint connector"
   ]
  },
  {
   "cell_type": "code",
   "execution_count": 2,
   "id": "numerical-traffic",
   "metadata": {
    "papermill": {},
    "tags": []
   },
   "outputs": [],
   "source": [
    "try:\n",
    "    import sharepoint_connector\n",
    "except:\n",
    "    !pip install sharepy\n",
    "    import sharepoint_connector"
   ]
  },
  {
   "cell_type": "markdown",
   "id": "biblical-cosmetic",
   "metadata": {
    "papermill": {},
    "tags": []
   },
   "source": [
    "### Set variables\n",
    "- username - username of sharepoint account\n",
    "- password - password of sharepoint account\n",
    "- domain - domain of sharepont account (eg mysite.sharepoint.com)\n",
    "- path - its a full path of file in sharepoint . \n",
    "  it can get from sharepoint dashbord by right click on file and select detail. \n",
    "  then path can copy from right panel in dashboard \n",
    "- sheet - name of sheet\n",
    "- export -  it is an optional parameter. it can be csv or xlsx. file will be exported to data_output folder based on this variable. set export as empty string or False if no need to export the file"
   ]
  },
  {
   "cell_type": "code",
   "execution_count": 5,
   "id": "micro-travel",
   "metadata": {
    "papermill": {},
    "tags": []
   },
   "outputs": [],
   "source": [
    "password=\"9aXgzH2DRqKCCU8z\"\n",
    "username=\"jeremy.ravenel@cashstory.com\"\n",
    "domain = \"cashstory.sharepoint.com\"\n",
    "path = \"https://cashstory.sharepoint.com/sites/cashstory-external/Documents%20partages/CashStory%20Forecasting%20Module/Forecast.xlsx\"\n",
    "sheet = \"Forecast\"\n",
    "export = \"xls\"  "
   ]
  },
  {
   "cell_type": "markdown",
   "id": "1398350c-79cb-4748-82f8-2d9d90a49e5b",
   "metadata": {
    "papermill": {},
    "tags": []
   },
   "source": [
    "## Model"
   ]
  },
  {
   "cell_type": "markdown",
   "id": "b524abf1-5b49-4fcd-9b9b-fbfa37631a17",
   "metadata": {
    "papermill": {},
    "tags": []
   },
   "source": [
    "### Connect to sharepoint with the variables"
   ]
  },
  {
   "cell_type": "code",
   "execution_count": 6,
   "id": "frank-appearance",
   "metadata": {
    "papermill": {},
    "tags": []
   },
   "outputs": [],
   "source": [
    "df  = sharepoint_connector.connect(username, password, domain, path, sheet, export)"
   ]
  },
  {
   "cell_type": "markdown",
   "id": "2853d389-b1bc-4207-bf66-396e9036cb05",
   "metadata": {
    "papermill": {},
    "tags": []
   },
   "source": [
    "## Output"
   ]
  },
  {
   "cell_type": "markdown",
   "id": "2962df18-3507-4c85-8bbd-3757c23e9999",
   "metadata": {
    "papermill": {},
    "tags": []
   },
   "source": [
    "### Display result"
   ]
  },
  {
   "cell_type": "code",
   "execution_count": null,
   "id": "becoming-chaos",
   "metadata": {
    "papermill": {},
    "tags": []
   },
   "outputs": [],
   "source": [
    "df"
   ]
  }
 ],
 "metadata": {
  "kernelspec": {
   "display_name": "Python 3",
   "language": "python",
   "name": "python3"
  },
  "language_info": {
   "codemirror_mode": {
    "name": "ipython",
    "version": 3
   },
   "file_extension": ".py",
   "mimetype": "text/x-python",
   "name": "python",
   "nbconvert_exporter": "python",
   "pygments_lexer": "ipython3",
   "version": "3.9.6"
  },
  "papermill": {
   "default_parameters": {},
   "environment_variables": {},
   "parameters": {},
   "version": "2.3.3"
  }
 },
 "nbformat": 4,
 "nbformat_minor": 5
}
