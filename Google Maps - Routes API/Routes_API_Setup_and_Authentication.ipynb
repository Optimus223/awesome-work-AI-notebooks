{
 "cells": [
  {
   "cell_type": "markdown",
   "id": "latin-packing",
   "metadata": {
    "execution": {
     "iopub.execute_input": "2021-02-23T14:22:16.610471Z",
     "iopub.status.busy": "2021-02-23T14:22:16.610129Z",
     "iopub.status.idle": "2021-02-23T14:22:16.627784Z",
     "shell.execute_reply": "2021-02-23T14:22:16.626866Z",
     "shell.execute_reply.started": "2021-02-23T14:22:16.610384Z"
    },
    "papermill": {},
    "tags": []
   },
   "source": [
    "<img width=\"10%\" alt=\"Naas\" src=\"https://landen.imgix.net/jtci2pxwjczr/assets/5ice39g4.png?w=160\"/>"
   ]
  },
  {
   "cell_type": "markdown",
   "id": "compressed-wilson",
   "metadata": {
    "papermill": {},
    "tags": []
   },
   "source": [
    "# Google Maps - Routes API Authentication and Setup\n",
    "<a href=\"https://app.naas.ai/user-redirect/naas/downloader?url=https://raw.githubusercontent.com/jupyter-naas/awesome-notebooks/master/Google%20Sheets/Google_Sheets_Add_items_to_Notion_databases_from_new_rows_in_Google_Sheets.ipynb\" target=\"_parent\"><img src=\"https://naasai-public.s3.eu-west-3.amazonaws.com/Open_in_Naas_Lab.svg\"/></a><br><br><a href=\"https://bit.ly/3JyWIk6\">Give Feedbacks</a> | <a href=\"https://app.naas.ai/user-redirect/naas/downloader?url=https://raw.githubusercontent.com/jupyter-naas/awesome-notebooks/master/Naas/Naas_Start_data_product.ipynb\" target=\"_parent\">Generate Data Product</a>"
   ]
  },
  {
   "cell_type": "markdown",
   "id": "cbf7f260-f739-4e8f-9074-f070af12b69f",
   "metadata": {
    "papermill": {},
    "tags": []
   },
   "source": [
    "**Tags:** #googlemaps #productivity #operations #automation #jupyternotebooks"
   ]
  },
  {
   "cell_type": "markdown",
   "id": "8af9aa79",
   "metadata": {
    "papermill": {},
    "tags": []
   },
   "source": [
    "**Author:** [Antonio Georgiev](www.linkedin.com/in/antonio-georgiev-b672a325b)"
   ]
  },
  {
   "cell_type": "markdown",
   "id": "5436984d-1d8d-4c7f-9b4e-82eb0555bca6",
   "metadata": {
    "papermill": {},
    "tags": []
   },
   "source": [
    "This notebook does the following tasks: \n",
    "- Obtains the necessary credentials for API access.\n",
    "- Configures the API endpoint URL.\n",
    "- Establishes a secure connection between the client and the API.\n",
    "- Validates user identity and permissions for API interactions."
   ]
  },
  {
   "cell_type": "markdown",
   "id": "2dcab025",
   "metadata": {
    "papermill": {},
    "tags": []
   },
   "source": [
    "Pre-requisite: \n",
    "1. Sign up for an account with the Routes API provider.\n",
    "2. Obtain an API key or access token from the Routes API provider.\n",
    "- link - https://developers.google.com/maps/documentation/routes/cloud-setup"
   ]
  },
  {
   "cell_type": "markdown",
   "id": "distinguished-truth",
   "metadata": {
    "papermill": {},
    "tags": []
   },
   "source": [
    "## Input"
   ]
  },
  {
   "cell_type": "markdown",
   "id": "b56e47f5-be89-4591-93ec-01e8fac50def",
   "metadata": {
    "papermill": {},
    "tags": []
   },
   "source": [
    "### Import libraries"
   ]
  },
  {
   "cell_type": "code",
   "execution_count": 20,
   "id": "6b63229c-7614-4dc8-ba2a-e0b1e2f64918",
   "metadata": {
    "execution": {
     "iopub.execute_input": "2023-07-10T13:24:08.011692Z",
     "iopub.status.busy": "2023-07-10T13:24:08.011463Z",
     "iopub.status.idle": "2023-07-10T13:24:08.016509Z",
     "shell.execute_reply": "2023-07-10T13:24:08.015895Z",
     "shell.execute_reply.started": "2023-07-10T13:24:08.011668Z"
    },
    "papermill": {},
    "tags": []
   },
   "outputs": [],
   "source": [
    "import os\n",
    "import requests\n",
    "import naas"
   ]
  },
  {
   "cell_type": "markdown",
   "id": "3311103a-13a2-40c5-bb42-2755391f3d47",
   "metadata": {
    "papermill": {},
    "tags": []
   },
   "source": [
    "### Setup API credentials"
   ]
  },
  {
   "cell_type": "code",
   "execution_count": 21,
   "id": "bffaf74b-3e26-408f-9a55-bb495577cdf6",
   "metadata": {
    "execution": {
     "iopub.execute_input": "2023-07-10T13:24:08.691340Z",
     "iopub.status.busy": "2023-07-10T13:24:08.691011Z",
     "iopub.status.idle": "2023-07-10T13:24:08.840515Z",
     "shell.execute_reply": "2023-07-10T13:24:08.839956Z",
     "shell.execute_reply.started": "2023-07-10T13:24:08.691306Z"
    },
    "papermill": {},
    "tags": []
   },
   "outputs": [],
   "source": [
    "API_KEY = naas.secret.get(\"API\")  # Read API key from environment variable\n",
    "API_ENDPOINT = 'https://maps.googleapis.com/maps/api/directions/json'"
   ]
  },
  {
   "cell_type": "markdown",
   "id": "registered-showcase",
   "metadata": {
    "papermill": {},
    "tags": []
   },
   "source": [
    "## Model"
   ]
  },
  {
   "cell_type": "markdown",
   "id": "2665cb7f-1504-48d7-9d49-8b30fd80e359",
   "metadata": {
    "papermill": {},
    "tags": []
   },
   "source": [
    "### Configure the API"
   ]
  },
  {
   "cell_type": "code",
   "execution_count": 25,
   "id": "2fafe16a-ccca-43ae-88fd-eb23af803fe6",
   "metadata": {
    "execution": {
     "iopub.execute_input": "2023-07-10T13:26:37.634326Z",
     "iopub.status.busy": "2023-07-10T13:26:37.634017Z",
     "iopub.status.idle": "2023-07-10T13:26:37.890097Z",
     "shell.execute_reply": "2023-07-10T13:26:37.889419Z",
     "shell.execute_reply.started": "2023-07-10T13:26:37.634291Z"
    },
    "papermill": {},
    "tags": []
   },
   "outputs": [
    {
     "name": "stdout",
     "output_type": "stream",
     "text": [
      "API access successful.\n"
     ]
    }
   ],
   "source": [
    "start_location = 'San Francisco, CA'\n",
    "end_location = 'Los Angeles, CA'\n",
    "params = {\n",
    "    'origin': start_location,\n",
    "    'destination': end_location,\n",
    "    'key': API_KEY\n",
    "}\n",
    "\n",
    "response = requests.get(API_ENDPOINT, params=params)\n",
    "\n",
    "# Check the response status\n",
    "if response.status_code == 200:\n",
    "    print('API access successful.')\n",
    "else:\n",
    "    print('API access failed with status code:', response.status_code)"
   ]
  },
  {
   "cell_type": "markdown",
   "id": "c1e4c55b",
   "metadata": {
    "papermill": {},
    "tags": []
   },
   "source": [
    "## Output"
   ]
  },
  {
   "cell_type": "markdown",
   "id": "917a4e16-54ba-4989-b71c-04952c685405",
   "metadata": {},
   "source": [
    "### Make a sample request to test authentication "
   ]
  },
  {
   "cell_type": "code",
   "execution_count": 19,
   "id": "0148abca",
   "metadata": {
    "execution": {
     "iopub.execute_input": "2023-07-10T13:07:46.235793Z",
     "iopub.status.busy": "2023-07-10T13:07:46.235562Z",
     "iopub.status.idle": "2023-07-10T13:07:46.374004Z",
     "shell.execute_reply": "2023-07-10T13:07:46.373312Z",
     "shell.execute_reply.started": "2023-07-10T13:07:46.235767Z"
    },
    "papermill": {},
    "tags": []
   },
   "outputs": [
    {
     "name": "stdout",
     "output_type": "stream",
     "text": [
      "Authentication failed.\n"
     ]
    }
   ],
   "source": [
    "try:\n",
    "    # Make a GET request to a basic endpoint\n",
    "    response = requests.get(api_url + '/test', headers=headers)\n",
    "    \n",
    "    # Check the response status code\n",
    "    if response.status_code == 200:\n",
    "        print('Authentication successful.')\n",
    "    else:\n",
    "        print('Authentication failed.')\n",
    "except requests.exceptions.RequestException as e:\n",
    "    print('An error occurred during the request:', e)"
   ]
  },
  {
   "cell_type": "code",
   "execution_count": null,
   "id": "4ae0f867-6ca0-47c0-98fe-e48c5c1a82b5",
   "metadata": {},
   "outputs": [],
   "source": []
  }
 ],
 "metadata": {
  "kernelspec": {
   "display_name": "Python 3",
   "language": "python",
   "name": "python3"
  },
  "language_info": {
   "codemirror_mode": {
    "name": "ipython",
    "version": 3
   },
   "file_extension": ".py",
   "mimetype": "text/x-python",
   "name": "python",
   "nbconvert_exporter": "python",
   "pygments_lexer": "ipython3",
   "version": "3.9.6"
  },
  "naas": {
   "notebook_id": "a3806d0e8beb6df74a694e543ef83a8bf1058b7cc2dd05636cdeb22dde4ed654",
   "notebook_path": "Google Sheets/Google_Sheets_Add_items_to_Notion_databases_from_new_rows_in_Google_Sheets.ipynb"
  },
  "papermill": {
   "default_parameters": {},
   "environment_variables": {},
   "parameters": {},
   "version": "2.3.3"
  },
  "widgets": {
   "application/vnd.jupyter.widget-state+json": {
    "state": {},
    "version_major": 2,
    "version_minor": 0
   }
  }
 },
 "nbformat": 4,
 "nbformat_minor": 5
}
