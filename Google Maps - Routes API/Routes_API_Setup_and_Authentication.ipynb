{
 "cells": [
  {
   "cell_type": "markdown",
   "id": "latin-packing",
   "metadata": {
    "execution": {
     "iopub.execute_input": "2021-02-23T14:22:16.610471Z",
     "iopub.status.busy": "2021-02-23T14:22:16.610129Z",
     "iopub.status.idle": "2021-02-23T14:22:16.627784Z",
     "shell.execute_reply": "2021-02-23T14:22:16.626866Z",
     "shell.execute_reply.started": "2021-02-23T14:22:16.610384Z"
    },
    "papermill": {},
    "tags": []
   },
   "source": [
    "<img width=\"10%\" alt=\"Naas\" src=\"https://landen.imgix.net/jtci2pxwjczr/assets/5ice39g4.png?w=160\"/>"
   ]
  },
  {
   "cell_type": "markdown",
   "id": "compressed-wilson",
   "metadata": {
    "papermill": {},
    "tags": []
   },
   "source": [
    "# Google Maps - Routes API Authentication and Setup\n",
    "<a href=\"https://app.naas.ai/user-redirect/naas/downloader?url=https://raw.githubusercontent.com/jupyter-naas/awesome-notebooks/master/Google%20Sheets/Google_Sheets_Add_items_to_Notion_databases_from_new_rows_in_Google_Sheets.ipynb\" target=\"_parent\"><img src=\"https://naasai-public.s3.eu-west-3.amazonaws.com/Open_in_Naas_Lab.svg\"/></a><br><br><a href=\"https://bit.ly/3JyWIk6\">Give Feedbacks</a> | <a href=\"https://app.naas.ai/user-redirect/naas/downloader?url=https://raw.githubusercontent.com/jupyter-naas/awesome-notebooks/master/Naas/Naas_Start_data_product.ipynb\" target=\"_parent\">Generate Data Product</a>"
   ]
  },
  {
   "cell_type": "markdown",
   "id": "cbf7f260-f739-4e8f-9074-f070af12b69f",
   "metadata": {
    "papermill": {},
    "tags": []
   },
   "source": [
    "**Tags:** #googlemaps #productivity #operations #automation #jupyternotebooks"
   ]
  },
  {
   "cell_type": "markdown",
   "id": "8af9aa79",
   "metadata": {
    "papermill": {},
    "tags": []
   },
   "source": [
    "**Author:** [Antonio Georgiev](www.linkedin.com/in/antonio-georgiev-b672a325b)"
   ]
  },
  {
   "cell_type": "markdown",
   "id": "5436984d-1d8d-4c7f-9b4e-82eb0555bca6",
   "metadata": {
    "papermill": {},
    "tags": []
   },
   "source": [
    "This notebook does the following tasks: \n",
    "- Obtains the necessary credentials for API access.\n",
    "- Configures the API endpoint URL.\n",
    "- Establishes a secure connection between the client and the API.\n",
    "- Validates user identity and permissions for API interactions."
   ]
  },
  {
   "cell_type": "markdown",
   "id": "2dcab025",
   "metadata": {
    "papermill": {},
    "tags": []
   },
   "source": [
    "Pre-requisite: \n",
    "1. Sign up for an account with the Routes API provider.\n",
    "2. Obtain an API key or access token from the Routes API provider.\n",
    "- link - https://developers.google.com/maps/documentation/routes/cloud-setup"
   ]
  },
  {
   "cell_type": "markdown",
   "id": "distinguished-truth",
   "metadata": {
    "papermill": {},
    "tags": []
   },
   "source": [
    "## Input"
   ]
  },
  {
   "cell_type": "markdown",
   "id": "b56e47f5-be89-4591-93ec-01e8fac50def",
   "metadata": {
    "papermill": {},
    "tags": []
   },
   "source": [
    "### Import libraries"
   ]
  },
  {
   "cell_type": "code",
   "execution_count": 36,
   "id": "6b63229c-7614-4dc8-ba2a-e0b1e2f64918",
   "metadata": {
    "execution": {
     "iopub.execute_input": "2023-07-10T13:31:02.928054Z",
     "iopub.status.busy": "2023-07-10T13:31:02.927810Z",
     "iopub.status.idle": "2023-07-10T13:31:02.931112Z",
     "shell.execute_reply": "2023-07-10T13:31:02.930495Z",
     "shell.execute_reply.started": "2023-07-10T13:31:02.928021Z"
    },
    "papermill": {},
    "tags": []
   },
   "outputs": [],
   "source": [
    "import os\n",
    "import requests\n",
    "import naas"
   ]
  },
  {
   "cell_type": "markdown",
   "id": "3311103a-13a2-40c5-bb42-2755391f3d47",
   "metadata": {
    "papermill": {},
    "tags": []
   },
   "source": [
    "### Setup API credentials"
   ]
  },
  {
   "cell_type": "code",
   "execution_count": 55,
   "id": "bffaf74b-3e26-408f-9a55-bb495577cdf6",
   "metadata": {
    "execution": {
     "iopub.execute_input": "2023-07-10T13:36:44.844748Z",
     "iopub.status.busy": "2023-07-10T13:36:44.844513Z",
     "iopub.status.idle": "2023-07-10T13:36:45.000789Z",
     "shell.execute_reply": "2023-07-10T13:36:45.000203Z",
     "shell.execute_reply.started": "2023-07-10T13:36:44.844718Z"
    },
    "papermill": {},
    "tags": []
   },
   "outputs": [],
   "source": [
    "api_secret_name = \"API\" # add your API key directly in the API_KEY variable or using naas secret variable\n",
    "API_KEY = naas.secret.get(api_secret_name)  # Read API key from the secret variable\n",
    "API_ENDPOINT = 'https://maps.googleapis.com/maps/api/directions/json'"
   ]
  },
  {
   "cell_type": "markdown",
   "id": "registered-showcase",
   "metadata": {
    "papermill": {},
    "tags": []
   },
   "source": [
    "## Model"
   ]
  },
  {
   "cell_type": "markdown",
   "id": "2665cb7f-1504-48d7-9d49-8b30fd80e359",
   "metadata": {
    "papermill": {},
    "tags": []
   },
   "source": [
    "### Configure the API"
   ]
  },
  {
   "cell_type": "code",
   "execution_count": 53,
   "id": "2fafe16a-ccca-43ae-88fd-eb23af803fe6",
   "metadata": {
    "execution": {
     "iopub.execute_input": "2023-07-10T13:35:00.745644Z",
     "iopub.status.busy": "2023-07-10T13:35:00.745422Z",
     "iopub.status.idle": "2023-07-10T13:35:00.953967Z",
     "shell.execute_reply": "2023-07-10T13:35:00.953348Z",
     "shell.execute_reply.started": "2023-07-10T13:35:00.745621Z"
    },
    "papermill": {},
    "tags": []
   },
   "outputs": [],
   "source": [
    "start_location = 'San Francisco, CA'\n",
    "end_location = 'Los Angeles, CA'\n",
    "params = {\n",
    "    'origin': start_location,\n",
    "    'destination': end_location,\n",
    "    'key': API_KEY\n",
    "}\n",
    "\n",
    "response = requests.get(API_ENDPOINT, params=params)"
   ]
  },
  {
   "cell_type": "markdown",
   "id": "c1e4c55b",
   "metadata": {
    "papermill": {},
    "tags": []
   },
   "source": [
    "## Output"
   ]
  },
  {
   "cell_type": "markdown",
   "id": "917a4e16-54ba-4989-b71c-04952c685405",
   "metadata": {},
   "source": [
    "### Make a sample request to test authentication "
   ]
  },
  {
   "cell_type": "code",
   "execution_count": 54,
   "id": "0148abca",
   "metadata": {
    "execution": {
     "iopub.execute_input": "2023-07-10T13:35:01.428321Z",
     "iopub.status.busy": "2023-07-10T13:35:01.426136Z",
     "iopub.status.idle": "2023-07-10T13:35:01.433476Z",
     "shell.execute_reply": "2023-07-10T13:35:01.432824Z",
     "shell.execute_reply.started": "2023-07-10T13:35:01.428286Z"
    },
    "papermill": {},
    "tags": []
   },
   "outputs": [
    {
     "name": "stdout",
     "output_type": "stream",
     "text": [
      "API access successful.\n"
     ]
    }
   ],
   "source": [
    "if response.status_code == 200 and response.json().get('status') == 'OK':\n",
    "    print('API access successful.')\n",
    "else:\n",
    "    print('API access failed with status code:', response.status_code)"
   ]
  }
 ],
 "metadata": {
  "kernelspec": {
   "display_name": "Python 3",
   "language": "python",
   "name": "python3"
  },
  "language_info": {
   "codemirror_mode": {
    "name": "ipython",
    "version": 3
   },
   "file_extension": ".py",
   "mimetype": "text/x-python",
   "name": "python",
   "nbconvert_exporter": "python",
   "pygments_lexer": "ipython3",
   "version": "3.9.6"
  },
  "naas": {
   "notebook_id": "a3806d0e8beb6df74a694e543ef83a8bf1058b7cc2dd05636cdeb22dde4ed654",
   "notebook_path": "Google Sheets/Google_Sheets_Add_items_to_Notion_databases_from_new_rows_in_Google_Sheets.ipynb"
  },
  "papermill": {
   "default_parameters": {},
   "environment_variables": {},
   "parameters": {},
   "version": "2.3.3"
  },
  "widgets": {
   "application/vnd.jupyter.widget-state+json": {
    "state": {},
    "version_major": 2,
    "version_minor": 0
   }
  }
 },
 "nbformat": 4,
 "nbformat_minor": 5
}
