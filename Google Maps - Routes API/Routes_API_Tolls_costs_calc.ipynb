{
 "cells": [
  {
   "cell_type": "markdown",
   "id": "latin-packing",
   "metadata": {
    "execution": {
     "iopub.execute_input": "2021-02-23T14:22:16.610471Z",
     "iopub.status.busy": "2021-02-23T14:22:16.610129Z",
     "iopub.status.idle": "2021-02-23T14:22:16.627784Z",
     "shell.execute_reply": "2021-02-23T14:22:16.626866Z",
     "shell.execute_reply.started": "2021-02-23T14:22:16.610384Z"
    },
    "papermill": {},
    "tags": []
   },
   "source": [
    "<img width=\"10%\" alt=\"Naas\" src=\"https://landen.imgix.net/jtci2pxwjczr/assets/5ice39g4.png?w=160\"/>"
   ]
  },
  {
   "cell_type": "markdown",
   "id": "compressed-wilson",
   "metadata": {
    "papermill": {},
    "tags": []
   },
   "source": [
    "# Google Maps - Routes API Calculate the toll costs for a given route\n",
    "<a href=\"https://app.naas.ai/user-redirect/naas/downloader?url=https://raw.githubusercontent.com/jupyter-naas/awesome-notebooks/master/Google%20Sheets/Google_Sheets_Add_items_to_Notion_databases_from_new_rows_in_Google_Sheets.ipynb\" target=\"_parent\"><img src=\"https://naasai-public.s3.eu-west-3.amazonaws.com/Open_in_Naas_Lab.svg\"/></a><br><br><a href=\"https://bit.ly/3JyWIk6\">Give Feedbacks</a> | <a href=\"https://app.naas.ai/user-redirect/naas/downloader?url=https://raw.githubusercontent.com/jupyter-naas/awesome-notebooks/master/Naas/Naas_Start_data_product.ipynb\" target=\"_parent\">Generate Data Product</a>"
   ]
  },
  {
   "cell_type": "markdown",
   "id": "cbf7f260-f739-4e8f-9074-f070af12b69f",
   "metadata": {
    "papermill": {},
    "tags": []
   },
   "source": [
    "**Tags:** #googlemaps #productivity #operations #automation #jupyternotebooks"
   ]
  },
  {
   "cell_type": "markdown",
   "id": "8af9aa79",
   "metadata": {
    "papermill": {},
    "tags": []
   },
   "source": [
    "**Author:** [Antonio Georgiev](www.linkedin.com/in/antonio-georgiev-b672a325b)"
   ]
  },
  {
   "cell_type": "markdown",
   "id": "5436984d-1d8d-4c7f-9b4e-82eb0555bca6",
   "metadata": {
    "papermill": {},
    "tags": []
   },
   "source": [
    "This notebook does the following tasks: \n",
    "- Obtains the necessary credentials for API access.\n",
    "- Configures the API endpoint URL.\n",
    "- API Request: Sends a GET request to the Routes API endpoint using the provided address and parameters.\n",
    "- Response Handling: Handles the API response and checks for errors or successful retrieval of the toll information.\n",
    "- Data Extraction: Extracts the tolls costs from the API response and outputs them"
   ]
  },
  {
   "cell_type": "markdown",
   "id": "2dcab025",
   "metadata": {
    "papermill": {},
    "tags": []
   },
   "source": [
    "Pre-requisite: \n",
    "1. Follow the steps in Routes_API_Setup_and_Authentication and Routes_API_Geocoding"
   ]
  },
  {
   "cell_type": "markdown",
   "id": "distinguished-truth",
   "metadata": {
    "papermill": {},
    "tags": []
   },
   "source": [
    "## Input"
   ]
  },
  {
   "cell_type": "markdown",
   "id": "b56e47f5-be89-4591-93ec-01e8fac50def",
   "metadata": {
    "papermill": {},
    "tags": []
   },
   "source": [
    "### Import libraries"
   ]
  },
  {
   "cell_type": "code",
   "execution_count": 1,
   "id": "6b63229c-7614-4dc8-ba2a-e0b1e2f64918",
   "metadata": {
    "execution": {
     "iopub.execute_input": "2023-07-12T06:20:19.484209Z",
     "iopub.status.busy": "2023-07-12T06:20:19.483746Z",
     "iopub.status.idle": "2023-07-12T06:20:21.393843Z",
     "shell.execute_reply": "2023-07-12T06:20:21.393213Z",
     "shell.execute_reply.started": "2023-07-12T06:20:19.484129Z"
    },
    "papermill": {},
    "tags": []
   },
   "outputs": [],
   "source": [
    "import os\n",
    "import requests\n",
    "import naas"
   ]
  },
  {
   "cell_type": "markdown",
   "id": "3311103a-13a2-40c5-bb42-2755391f3d47",
   "metadata": {
    "papermill": {},
    "tags": []
   },
   "source": [
    "### Setup variables"
   ]
  },
  {
   "cell_type": "code",
   "execution_count": 2,
   "id": "bffaf74b-3e26-408f-9a55-bb495577cdf6",
   "metadata": {
    "execution": {
     "iopub.execute_input": "2023-07-12T06:20:22.595351Z",
     "iopub.status.busy": "2023-07-12T06:20:22.595121Z",
     "iopub.status.idle": "2023-07-12T06:20:22.740842Z",
     "shell.execute_reply": "2023-07-12T06:20:22.740178Z",
     "shell.execute_reply.started": "2023-07-12T06:20:22.595328Z"
    },
    "papermill": {},
    "tags": []
   },
   "outputs": [],
   "source": [
    "api_secret_name = \"API\" # add your API key directly in the API_KEY variable or using naas secret variable\n",
    "API_KEY = naas.secret.get(api_secret_name)  # Read API key from the secret variable\n",
    "API_ENDPOINT = 'https://routes.googleapis.com/directions/v2:computeRoutes'\n",
    "origin_lat = 42.340173523716736\n",
    "origin_lng = -71.05997968330408\n",
    "destination_lat = 42.075698891472804\n",
    "destination_lng = -72.59806562080408"
   ]
  },
  {
   "cell_type": "markdown",
   "id": "registered-showcase",
   "metadata": {
    "papermill": {},
    "tags": []
   },
   "source": [
    "## Model"
   ]
  },
  {
   "cell_type": "markdown",
   "id": "2665cb7f-1504-48d7-9d49-8b30fd80e359",
   "metadata": {
    "papermill": {},
    "tags": []
   },
   "source": [
    "#### Request for toll information (more info on https://developers.google.com/maps/documentation/routes/calculate_toll_fees)"
   ]
  },
  {
   "cell_type": "code",
   "execution_count": 3,
   "id": "2fafe16a-ccca-43ae-88fd-eb23af803fe6",
   "metadata": {
    "execution": {
     "iopub.execute_input": "2023-07-12T06:20:25.241679Z",
     "iopub.status.busy": "2023-07-12T06:20:25.241446Z",
     "iopub.status.idle": "2023-07-12T06:20:25.309877Z",
     "shell.execute_reply": "2023-07-12T06:20:25.309294Z",
     "shell.execute_reply.started": "2023-07-12T06:20:25.241656Z"
    },
    "papermill": {},
    "tags": []
   },
   "outputs": [],
   "source": [
    "headers = {\n",
    "    'Content-Type': 'application/json',\n",
    "    'X-Goog-Api-Key': API_KEY,\n",
    "    'X-Goog-FieldMask': 'routes.duration,routes.distanceMeters,routes.travelAdvisory.tollInfo,routes.legs.travelAdvisory.tollInfo'\n",
    "}\n",
    "\n",
    "payload = {\n",
    "    \"origin\": {\n",
    "        \"location\": {\n",
    "            \"latLng\": {\n",
    "                \"latitude\": origin_lat,\n",
    "                \"longitude\": origin_lng\n",
    "            }\n",
    "        }\n",
    "    },\n",
    "    \"destination\": {\n",
    "        \"location\": {\n",
    "            \"latLng\": {\n",
    "                \"latitude\": destination_lat,\n",
    "                \"longitude\": destination_lng\n",
    "            }\n",
    "        }\n",
    "    },\n",
    "    \"travelMode\": \"DRIVE\",\n",
    "    \"extraComputations\": [\"TOLLS\"],\n",
    "    \"routeModifiers\": {\n",
    "        \"vehicleInfo\": {\n",
    "            \"emissionType\": \"GASOLINE\"\n",
    "        },\n",
    "        \"tollPasses\": [\n",
    "            \"US_MA_EZPASSMA\",\n",
    "            \"US_WA_GOOD_TO_GO\"\n",
    "        ]\n",
    "    }\n",
    "}\n",
    "\n",
    "response = requests.post(API_ENDPOINT, json=payload, headers=headers)\n"
   ]
  },
  {
   "cell_type": "markdown",
   "id": "c1e4c55b",
   "metadata": {
    "papermill": {},
    "tags": []
   },
   "source": [
    "## Output"
   ]
  },
  {
   "cell_type": "markdown",
   "id": "2ee5bfd6-de4f-40c9-a590-7c7afc44b9a0",
   "metadata": {},
   "source": [
    "### Process the response"
   ]
  },
  {
   "cell_type": "code",
   "execution_count": 4,
   "id": "8b4c6fe6-470b-49ee-a1bf-aba39e6bbfd3",
   "metadata": {
    "execution": {
     "iopub.execute_input": "2023-07-12T06:20:27.205694Z",
     "iopub.status.busy": "2023-07-12T06:20:27.205387Z",
     "iopub.status.idle": "2023-07-12T06:20:27.213305Z",
     "shell.execute_reply": "2023-07-12T06:20:27.212630Z",
     "shell.execute_reply.started": "2023-07-12T06:20:27.205663Z"
    },
    "tags": []
   },
   "outputs": [
    {
     "name": "stdout",
     "output_type": "stream",
     "text": [
      "Google Maps API request failed with status code: 403\n"
     ]
    }
   ],
   "source": [
    "if response.status_code == 200:\n",
    "    data = response.json()\n",
    "    routes = data['routes']\n",
    "    if routes:\n",
    "        toll_info = routes[0]['travelAdvisory']['tollInfo']\n",
    "        estimated_price = toll_info['estimatedPrice']\n",
    "        if estimated_price:\n",
    "            currency_code = estimated_price[0]['currencyCode']\n",
    "            toll_cost = estimated_price[0]['units'] + '.' + str(estimated_price[0]['nanos'])\n",
    "            print('Toll Cost:', currency_code + toll_cost)\n",
    "    else:\n",
    "        print('No routes found in the response.')\n",
    "else:\n",
    "    print('Google Maps API request failed with status code:', response.status_code)"
   ]
  },
  {
   "cell_type": "code",
   "execution_count": null,
   "id": "72bdcbea-5daa-4d96-a3cd-a94bb62cc6b2",
   "metadata": {},
   "outputs": [],
   "source": []
  }
 ],
 "metadata": {
  "kernelspec": {
   "display_name": "Python 3",
   "language": "python",
   "name": "python3"
  },
  "language_info": {
   "codemirror_mode": {
    "name": "ipython",
    "version": 3
   },
   "file_extension": ".py",
   "mimetype": "text/x-python",
   "name": "python",
   "nbconvert_exporter": "python",
   "pygments_lexer": "ipython3",
   "version": "3.9.6"
  },
  "naas": {
   "notebook_id": "a3806d0e8beb6df74a694e543ef83a8bf1058b7cc2dd05636cdeb22dde4ed654",
   "notebook_path": "Google Sheets/Google_Sheets_Add_items_to_Notion_databases_from_new_rows_in_Google_Sheets.ipynb"
  },
  "papermill": {
   "default_parameters": {},
   "environment_variables": {},
   "parameters": {},
   "version": "2.3.3"
  },
  "widgets": {
   "application/vnd.jupyter.widget-state+json": {
    "state": {},
    "version_major": 2,
    "version_minor": 0
   }
  }
 },
 "nbformat": 4,
 "nbformat_minor": 5
}
