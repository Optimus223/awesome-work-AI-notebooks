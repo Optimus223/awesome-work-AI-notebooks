{
 "cells": [
  {
   "cell_type": "markdown",
   "id": "olive-objective",
   "metadata": {
    "execution": {
     "iopub.execute_input": "2021-06-16T23:22:07.178503Z",
     "iopub.status.busy": "2021-06-16T23:22:07.178215Z",
     "iopub.status.idle": "2021-06-16T23:22:07.189423Z",
     "shell.execute_reply": "2021-06-16T23:22:07.188478Z",
     "shell.execute_reply.started": "2021-06-16T23:22:07.178474Z"
    }
   },
   "source": [
    "<img width=\"10%\" alt=\"Naas\" src=\"https://landen.imgix.net/jtci2pxwjczr/assets/5ice39g4.png?w=160\"/>"
   ]
  },
  {
   "cell_type": "markdown",
   "id": "charming-witch",
   "metadata": {},
   "source": [
    "# Redshift Connection with SQL Magics and IAM Credentials\n",
    "\n",
    "Solution as presented <a href=\"https://calebmkeller.medium.com/jupyter-sql-magic-connection-to-redshift-using-iam-credentials-8a9c53ce29db\" _target=\"blank\">here</a>.\n",
    "    \n",
    "<img src=\"https://img.shields.io/badge/-Open%20in%20Naas-success?labelColor=000000&logo=data:image/svg+xml;base64,PD94bWwgdmVyc2lvbj0iMS4wIiBlbmNvZGluZz0iVVRGLTgiPz4KPHN2ZyB3aWR0aD0iMTAyNHB4IiBoZWlnaHQ9IjEwMjRweCIgdmlld0JveD0iMCAwIDEwMjQgMTAyNCIgeG1sbnM9Imh0dHA6Ly93d3cudzMub3JnLzIwMDAvc3ZnIiB4bWxuczp4bGluaz0iaHR0cDovL3d3dy53My5vcmcvMTk5OS94bGluayIgdmVyc2lvbj0iMS4xIj4KIDwhLS0gR2VuZXJhdGVkIGJ5IFBpeGVsbWF0b3IgUHJvIDIuMC41IC0tPgogPGRlZnM+CiAgPHRleHQgaWQ9InN0cmluZyIgdHJhbnNmb3JtPSJtYXRyaXgoMS4wIDAuMCAwLjAgMS4wIDIyOC4wIDU0LjUpIiBmb250LWZhbWlseT0iQ29tZm9ydGFhLVJlZ3VsYXIsIENvbWZvcnRhYSIgZm9udC1zaXplPSI4MDAiIHRleHQtZGVjb3JhdGlvbj0ibm9uZSIgZmlsbD0iI2ZmZmZmZiIgeD0iMS4xOTk5OTk5OTk5OTk5ODg2IiB5PSI3MDUuMCI+bjwvdGV4dD4KIDwvZGVmcz4KIDx1c2UgaWQ9Im4iIHhsaW5rOmhyZWY9IiNzdHJpbmciLz4KPC9zdmc+Cg==\"/>\n",
    "</a>"
   ]
  },
  {
   "cell_type": "markdown",
   "id": "specialized-participant",
   "metadata": {},
   "source": [
    "### 1. Prerequisites\n",
    "\n",
    "- ipython-sql\n",
    "- boto3\n",
    "- psycopg2\n",
    "- sqlalchemy-redshift\n",
    "\n",
    "If you're running in NaaS, you can execute the below to install the necessary libraries."
   ]
  },
  {
   "cell_type": "code",
   "execution_count": null,
   "id": "norwegian-reproduction",
   "metadata": {
    "tags": []
   },
   "outputs": [],
   "source": [
    "!pip install -q ipython-sql boto3 psycopg2-binary sqlalchemy-redshift"
   ]
  },
  {
   "cell_type": "markdown",
   "id": "fifty-glenn",
   "metadata": {},
   "source": [
    "### 2. Load Libraries\n",
    "\n",
    "When using the `ipython-sql` library of *SQL Magics* I like to put the `%reload_ext sql` at the top. This loads the extension if it isn't already loaded or reloads it. Reload instead of load helps it not error out if you so something like run all cells."
   ]
  },
  {
   "cell_type": "code",
   "execution_count": null,
   "id": "industrial-characteristic",
   "metadata": {
    "tags": []
   },
   "outputs": [],
   "source": [
    "%reload_ext sql\n",
    "\n",
    "import boto3\n",
    "import psycopg2\n",
    "import getpass\n",
    "import pandas as pd\n",
    "from urllib import parse\n"
   ]
  },
  {
   "cell_type": "markdown",
   "id": "willing-morrison",
   "metadata": {},
   "source": [
    "### 3. Get a Connection String\n",
    "\n",
    "The SQL Magic, powered by SQL ALchemy, needs the connection string in a specific format. The below function does several things:\n",
    "\n",
    "1. It takes in your AWS IAM credentials.\n",
    "2. It uses those credentials to get temporary database credentials.\n",
    "3. It creates a SQL alchemy connection string from those credentials.\n"
   ]
  },
  {
   "cell_type": "code",
   "execution_count": null,
   "id": "norwegian-distance",
   "metadata": {},
   "outputs": [],
   "source": [
    "def rs_connect(dbname, dbhost, clusterid, dbport, dbuser, region_name='us-east-1'):\n",
    "\n",
    "    ''' Connect to redshift using AIM credentials'''\n",
    "    aaki = getpass.getpass('aws_access_key_id')\n",
    "    asak = getpass.getpass('aws_secret_access_key')\n",
    "    aws_session = boto3.session.Session(aws_access_key_id=aaki, aws_secret_access_key=asak, region_name=region_name)\n",
    "    aaki = ''; asak = ''\n",
    "    \n",
    "    aws_rs = aws_session.client('redshift')\n",
    "    response = aws_rs.get_cluster_credentials(DbUser=dbuser, DbName=dbname, ClusterIdentifier=clusterid, AutoCreate=False)\n",
    "    \n",
    "    ''' Convert those credentials into Database user credentials '''\n",
    "    dbuser = response['DbUser']\n",
    "    dbpwd = response['DbPassword']\n",
    "    \n",
    "    ''' Generate the SQLAlchemy Connection string '''\n",
    "    connectionString = 'redshift+psycopg2://{username}:{password}@{host}:{port}/{db}?sslmode=prefer'.format(username=parse.quote_plus(dbuser), password=parse.quote_plus(dbpwd), host=dbhost, port=dbport, db=dbname)\n",
    "\n",
    "    dbuser = None; dbpwd = None; conn_str = None; response = None;\n",
    "    \n",
    "    return connectionString\n"
   ]
  },
  {
   "cell_type": "markdown",
   "id": "moderate-particular",
   "metadata": {},
   "source": [
    "### 4. Run It\n",
    "\n",
    "Run the below and replace the parameters with your own server's information."
   ]
  },
  {
   "cell_type": "code",
   "execution_count": null,
   "id": "russian-mobility",
   "metadata": {
    "tags": []
   },
   "outputs": [],
   "source": [
    "connectionString = rs_connect('database_name', 'host', 'cluster_id', 5439, 'database_user')\n"
   ]
  },
  {
   "cell_type": "code",
   "execution_count": null,
   "id": "adapted-cleveland",
   "metadata": {
    "tags": []
   },
   "outputs": [],
   "source": [
    "%sql $connectionString\n"
   ]
  },
  {
   "cell_type": "code",
   "execution_count": null,
   "id": "addressed-density",
   "metadata": {
    "tags": []
   },
   "outputs": [],
   "source": [
    "%%sql\n",
    "\n",
    "select\n",
    "    your,\n",
    "    sql,\n",
    "    goes,\n",
    "    here\n",
    "from\n",
    "  your.brain\n"
   ]
  },
  {
   "cell_type": "code",
   "execution_count": null,
   "id": "express-queens",
   "metadata": {},
   "outputs": [],
   "source": []
  }
 ],
 "metadata": {
  "kernelspec": {
   "display_name": "Python 3",
   "language": "python",
   "name": "python3"
  },
  "language_info": {
   "codemirror_mode": {
    "name": "ipython",
    "version": 3
   },
   "file_extension": ".py",
   "mimetype": "text/x-python",
   "name": "python",
   "nbconvert_exporter": "python",
   "pygments_lexer": "ipython3",
   "version": "3.8.8"
  }
 },
 "nbformat": 4,
 "nbformat_minor": 5
}
