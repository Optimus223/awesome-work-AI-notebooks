{
 "cells": [
  {
   "cell_type": "markdown",
   "id": "2f31394a-75c3-4ae9-953e-2541c5ae127f",
   "metadata": {
    "papermill": {},
    "tags": []
   },
   "source": [
    "<img width=\"10%\" alt=\"Naas\" src=\"https://landen.imgix.net/jtci2pxwjczr/assets/5ice39g4.png?w=160\"/>"
   ]
  },
  {
   "cell_type": "markdown",
   "id": "67d7a951-5adc-46a3-9621-8eb543d23907",
   "metadata": {
    "papermill": {},
    "tags": []
   },
   "source": [
    "# Deezer - Get listening history"
   ]
  },
  {
   "cell_type": "markdown",
   "id": "ac0bcd4b-6af0-4660-ae93-7689bd6f1831",
   "metadata": {
    "papermill": {},
    "tags": []
   },
   "source": [
    "**Tags:** #deezer #api #music #listening #history #python"
   ]
  },
  {
   "cell_type": "markdown",
   "id": "dbe033e6-cce0-4cc9-a452-0904367e6843",
   "metadata": {
    "papermill": {},
    "tags": []
   },
   "source": [
    "**Author:** [Benjamin Filly](https://www.linkedin.com/in/benjamin-filly-05427727a/)"
   ]
  },
  {
   "cell_type": "markdown",
   "id": "d25d2dbd-db63-4dad-bf9d-9aabb7801c5c",
   "metadata": {
    "papermill": {},
    "tags": []
   },
   "source": [
    "**Description:** This notebook will show how to get the listening history from Deezer using the API. It is usefull for organizations that want to analyze the music listening habits of their users."
   ]
  },
  {
   "cell_type": "markdown",
   "id": "3d4ced7d-725c-4d0a-8f1d-b50d28b0ba98",
   "metadata": {
    "papermill": {},
    "tags": []
   },
   "source": [
    "**References:**\n- [Deezer API Documentation](https://developers.deezer.com/api)\n- [Deezer API Example](https://github.com/Teoretic6/deezer-api-example)"
   ]
  },
  {
   "cell_type": "markdown",
   "id": "c8805202-04b3-4971-b716-c2fe2f22a007",
   "metadata": {
    "papermill": {},
    "tags": []
   },
   "source": [
    "## Input"
   ]
  },
  {
   "cell_type": "markdown",
   "id": "9f030f6f-1b94-4ba5-bdc0-a64100f3a349",
   "metadata": {
    "papermill": {},
    "tags": []
   },
   "source": [
    "### Import libraries"
   ]
  },
  {
   "cell_type": "code",
   "execution_count": null,
   "id": "40d304e6-dbad-46d0-9c7c-63d320eb0ae9",
   "metadata": {
    "papermill": {},
    "tags": []
   },
   "source": "import requests\nimport json",
   "outputs": []
  },
  {
   "cell_type": "markdown",
   "id": "55204b34-428d-4cdb-91e2-ad7c21f03aba",
   "metadata": {
    "papermill": {},
    "tags": []
   },
   "source": [
    "### Setup Variables\n- `user_id`: Deezer user id\n- `access_token`: Deezer access token"
   ]
  },
  {
   "cell_type": "markdown",
   "id": "38464c21-098e-4cd0-a2f7-fe07e3808f17",
   "metadata": {
    "papermill": {},
    "tags": []
   },
   "source": [
    "To get the `access_token` follow the procedure [here](https://developers.deezer.com/api/oauth)."
   ]
  },
  {
   "cell_type": "code",
   "execution_count": null,
   "id": "ec1940f2-af0c-4c7a-8411-ef328186d96f",
   "metadata": {
    "papermill": {},
    "tags": []
   },
   "source": "user_id = \"12345\"\naccess_token = \"abcdefghijklmnopqrstuvwxyz\"",
   "outputs": []
  },
  {
   "cell_type": "markdown",
   "id": "65fd5a48-bbab-4095-9cc0-b54ed2df5fd0",
   "metadata": {
    "papermill": {},
    "tags": []
   },
   "source": [
    "## Model"
   ]
  },
  {
   "cell_type": "markdown",
   "id": "7638af1f-b17c-470b-a8c2-2a265f0b67a7",
   "metadata": {
    "papermill": {},
    "tags": []
   },
   "source": [
    "### Get listening history"
   ]
  },
  {
   "cell_type": "markdown",
   "id": "004e14d4-0800-4feb-9c53-3add1662f18d",
   "metadata": {
    "papermill": {},
    "tags": []
   },
   "source": [
    "This function will get the listening history of the user using the Deezer API."
   ]
  },
  {
   "cell_type": "code",
   "execution_count": null,
   "id": "1ad34dda-4a67-49ad-b243-b69d92d17cf3",
   "metadata": {
    "papermill": {},
    "tags": []
   },
   "source": "def get_listening_history(user_id, access_token):\n    url = f\"https://api.deezer.com/user/{user_id}/history?access_token={access_token}\"\n    response = requests.get(url)\n    return response.json()",
   "outputs": []
  },
  {
   "cell_type": "markdown",
   "id": "3dd21913-b7e0-4193-906e-a6d72ade8035",
   "metadata": {
    "papermill": {},
    "tags": []
   },
   "source": [
    "## Output"
   ]
  },
  {
   "cell_type": "markdown",
   "id": "3424b80a-690b-4822-8335-3ef1944210b1",
   "metadata": {
    "papermill": {},
    "tags": []
   },
   "source": [
    "### Display result"
   ]
  },
  {
   "cell_type": "code",
   "execution_count": null,
   "id": "afbea7c9-a469-4e2d-931e-93e8b0114814",
   "metadata": {
    "papermill": {},
    "tags": []
   },
   "source": "listening_history = get_listening_history(user_id, access_token)\nprint(json.dumps(listening_history, indent=4))",
   "outputs": []
  },
  {
   "cell_type": "markdown",
   "id": "41902fb4-39dd-487b-96f4-534085b6791c",
   "metadata": {
    "papermill": {},
    "tags": []
   },
   "source": [
    " "
   ]
  }
 ],
 "metadata": {
  "kernelspec": {
   "display_name": "Python 3",
   "language": "python",
   "name": "python3"
  },
  "language_info": {
   "codemirror_mode": {
    "name": "ipython",
    "version": 3
   },
   "file_extension": ".py",
   "mimetype": "text/x-python",
   "name": "python",
   "nbconvert_exporter": "python",
   "pygments_lexer": "ipython3",
   "version": "3.9.6"
  },
  "widgets": {
   "application/vnd.jupyter.widget-state+json": {
    "state": {},
    "version_major": 2,
    "version_minor": 0
   }
  }
 },
 "nbformat": 4,
 "nbformat_minor": 5
}