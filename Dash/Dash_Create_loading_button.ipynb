{
 "cells": [
  {
   "cell_type": "markdown",
   "id": "8e72ff72-baf4-418a-9d68-5ab0e4d1cf59",
   "metadata": {
    "papermill": {},
    "tags": []
   },
   "source": [
    "<img width=\"10%\" alt=\"Naas\" src=\"https://landen.imgix.net/jtci2pxwjczr/assets/5ice39g4.png?w=160\"/>"
   ]
  },
  {
   "cell_type": "markdown",
   "id": "e569c653-554c-4e05-8a5d-772c7c2f66a3",
   "metadata": {
    "papermill": {},
    "tags": []
   },
   "source": [
    "# Dash - Create loading button"
   ]
  },
  {
   "cell_type": "markdown",
   "id": "b0e6e295-52b3-4afa-b8f9-80c7e459e9e0",
   "metadata": {
    "papermill": {},
    "tags": []
   },
   "source": [
    "**Tags:** #dash #plotly #loading #button #python #web"
   ]
  },
  {
   "cell_type": "markdown",
   "id": "904a1a70-ce40-4865-845e-5af64fd0c278",
   "metadata": {
    "papermill": {},
    "tags": []
   },
   "source": [
    "**Author:** [Florent Ravenel](https://www.linkedin.com/in/florent-ravenel/)"
   ]
  },
  {
   "cell_type": "markdown",
   "id": "1c6d4082-6a4f-4427-8bee-400d441ed906",
   "metadata": {
    "papermill": {},
    "tags": []
   },
   "source": [
    "**Description:** This notebook explains how to create a loading button with Dash and Plotly. It is usefull for web developers to create a loading button for their web applications."
   ]
  },
  {
   "cell_type": "markdown",
   "id": "30a381ee-3699-4811-adaf-ae39c7c00286",
   "metadata": {
    "papermill": {},
    "tags": []
   },
   "source": [
    "**References:**\n- [Dash Loading States](https://dash.plotly.com/loading-states)\n- [Plotly Loading Button](https://plotly.com/python/loading-buttons/)"
   ]
  },
  {
   "cell_type": "markdown",
   "id": "02cc5a56-d67a-4f1a-ac88-2197e4605742",
   "metadata": {
    "papermill": {},
    "tags": []
   },
   "source": [
    "## Input"
   ]
  },
  {
   "cell_type": "markdown",
   "id": "b6d6e3e5-4868-4c9a-ab69-37f1af7b1aaa",
   "metadata": {
    "papermill": {},
    "tags": []
   },
   "source": [
    "### Import libraries"
   ]
  },
  {
   "cell_type": "code",
   "execution_count": null,
   "id": "23ba59b7-a70b-49b9-a67b-88eb1189b7b9",
   "metadata": {
    "papermill": {},
    "tags": []
   },
   "source": "import dash\nimport dash_html_components as html",
   "outputs": []
  },
  {
   "cell_type": "markdown",
   "id": "dc2c7fc6-5285-40fa-a45b-06b9d5ab4017",
   "metadata": {
    "papermill": {},
    "tags": []
   },
   "source": [
    "### Setup Variables\n- `app`: Dash application"
   ]
  },
  {
   "cell_type": "code",
   "execution_count": null,
   "id": "4dc9079e-e513-48f0-b6cc-34547c226cbe",
   "metadata": {
    "papermill": {},
    "tags": []
   },
   "source": "app = dash.Dash()",
   "outputs": []
  },
  {
   "cell_type": "markdown",
   "id": "acb83da9-8041-4d37-92ea-40aa3d9a9cbf",
   "metadata": {
    "papermill": {},
    "tags": []
   },
   "source": [
    "## Model"
   ]
  },
  {
   "cell_type": "markdown",
   "id": "790b825b-4b6d-4df6-a502-941afa369eaf",
   "metadata": {
    "papermill": {},
    "tags": []
   },
   "source": [
    "### Create loading button"
   ]
  },
  {
   "cell_type": "markdown",
   "id": "e5d03de1-6e27-4118-952f-31e07dab5bc3",
   "metadata": {
    "papermill": {},
    "tags": []
   },
   "source": [
    "Long description of the function: This function creates a loading button with Dash and Plotly. It is usefull for web developers to create a loading button for their web applications."
   ]
  },
  {
   "cell_type": "code",
   "execution_count": null,
   "id": "4f5df4d8-811d-46f6-b2d7-ad45c583b82e",
   "metadata": {
    "papermill": {},
    "tags": []
   },
   "source": "app.layout = html.Div(\n    [\n        html.Button(\"Click to load\", id=\"btn-nclicks\", n_clicks=0),\n        html.Div(id=\"div-nclicks\"),\n    ]\n)",
   "outputs": []
  },
  {
   "cell_type": "markdown",
   "id": "4621035e-88df-4a18-830d-a33feb0b30d8",
   "metadata": {
    "papermill": {},
    "tags": []
   },
   "source": [
    "## Output"
   ]
  },
  {
   "cell_type": "markdown",
   "id": "942d5a13-3efe-43a0-a7fc-ba2b02f0187f",
   "metadata": {
    "papermill": {},
    "tags": []
   },
   "source": [
    "### Display result"
   ]
  },
  {
   "cell_type": "code",
   "execution_count": null,
   "id": "89ca908f-6405-498b-a621-04d0b603540c",
   "metadata": {
    "papermill": {},
    "tags": []
   },
   "source": "if __name__ == \"__main__\":\n    app.run_server(debug=True)",
   "outputs": []
  },
  {
   "cell_type": "markdown",
   "id": "6233c1d4-475c-44f4-ba26-1501a5cd00b1",
   "metadata": {
    "papermill": {},
    "tags": []
   },
   "source": [
    " "
   ]
  }
 ],
 "metadata": {
  "kernelspec": {
   "display_name": "Python 3",
   "language": "python",
   "name": "python3"
  },
  "language_info": {
   "codemirror_mode": {
    "name": "ipython",
    "version": 3
   },
   "file_extension": ".py",
   "mimetype": "text/x-python",
   "name": "python",
   "nbconvert_exporter": "python",
   "pygments_lexer": "ipython3",
   "version": "3.9.6"
  },
  "widgets": {
   "application/vnd.jupyter.widget-state+json": {
    "state": {},
    "version_major": 2,
    "version_minor": 0
   }
  }
 },
 "nbformat": 4,
 "nbformat_minor": 5
}