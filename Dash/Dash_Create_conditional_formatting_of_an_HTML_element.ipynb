{
 "cells": [
  {
   "cell_type": "markdown",
   "id": "f2814c1e-dc4f-49ea-b333-396ad37cf4f5",
   "metadata": {
    "papermill": {},
    "tags": []
   },
   "source": [
    "<img width=\"10%\" alt=\"Naas\" src=\"https://landen.imgix.net/jtci2pxwjczr/assets/5ice39g4.png?w=160\"/>"
   ]
  },
  {
   "cell_type": "markdown",
   "id": "45d740c2-fb0a-4f61-a5e6-dcd37ebad163",
   "metadata": {
    "papermill": {},
    "tags": []
   },
   "source": [
    "# Dash - Create conditional formatting of an HTML element"
   ]
  },
  {
   "cell_type": "markdown",
   "id": "0dc8f387-e4fd-4ea4-9bd1-89e6b47c08e1",
   "metadata": {
    "papermill": {},
    "tags": []
   },
   "source": [
    "**Tags:** #dash #html #conditional #formatting #element #plotly"
   ]
  },
  {
   "cell_type": "markdown",
   "id": "d13a1a63-07ec-4157-aec3-8659933d745f",
   "metadata": {
    "papermill": {},
    "tags": []
   },
   "source": [
    "**Author:** [Florent Ravenel](https://www.linkedin.com/in/florent-ravenel/)"
   ]
  },
  {
   "cell_type": "markdown",
   "id": "38e670f1-a5f4-4a0f-832a-9271b0157139",
   "metadata": {
    "papermill": {},
    "tags": []
   },
   "source": [
    "**Description:** This notebook will show how to create conditional formatting of an HTML element using Dash. It is usefull for organizations that need to display data in a visually appealing way."
   ]
  },
  {
   "cell_type": "markdown",
   "id": "cd40cc91-a07e-4d67-b5e3-091676ea3fa0",
   "metadata": {
    "papermill": {},
    "tags": []
   },
   "source": [
    "**References:**\n- https://community.plotly.com/t/conditional-formatting-of-an-html-element/60230/2\n- https://dash.plotly.com/"
   ]
  },
  {
   "cell_type": "markdown",
   "id": "a1e08311-05fa-4853-940f-4ac042e18a13",
   "metadata": {
    "papermill": {},
    "tags": []
   },
   "source": [
    "## Input"
   ]
  },
  {
   "cell_type": "markdown",
   "id": "7bdcda07-1623-4ca1-91eb-d47ce1132b9c",
   "metadata": {
    "papermill": {},
    "tags": []
   },
   "source": [
    "### Import libraries"
   ]
  },
  {
   "cell_type": "code",
   "execution_count": null,
   "id": "d88883d7-666f-4d82-bcb1-56d2995d6795",
   "metadata": {
    "papermill": {},
    "tags": []
   },
   "source": "import dash\nimport dash_html_components as html",
   "outputs": []
  },
  {
   "cell_type": "markdown",
   "id": "a86822d9-df3d-4138-ab3f-ef3fb02625f6",
   "metadata": {
    "papermill": {},
    "tags": []
   },
   "source": [
    "### Setup Variables\n- `html_element`: HTML element to be formatted"
   ]
  },
  {
   "cell_type": "code",
   "execution_count": null,
   "id": "3c2fec45-d531-479b-93b0-6d0769411a3e",
   "metadata": {
    "papermill": {},
    "tags": []
   },
   "source": "html_element = html.Div(\n    children=[\n        html.H1(\"Hello Dash\"),\n        html.Div(\"Dash: A web application framework for Python.\"),\n    ]\n)",
   "outputs": []
  },
  {
   "cell_type": "markdown",
   "id": "36aeb318-670a-4576-a447-fc89b11bf4f4",
   "metadata": {
    "papermill": {},
    "tags": []
   },
   "source": [
    "## Model"
   ]
  },
  {
   "cell_type": "markdown",
   "id": "254b5ee9-3cea-49c5-9313-875cb9067246",
   "metadata": {
    "papermill": {},
    "tags": []
   },
   "source": [
    "### Create conditional formatting"
   ]
  },
  {
   "cell_type": "markdown",
   "id": "dbba6e23-43e0-4694-b9d9-46fff6a9de60",
   "metadata": {
    "papermill": {},
    "tags": []
   },
   "source": [
    "Long description of the function without break"
   ]
  },
  {
   "cell_type": "code",
   "execution_count": null,
   "id": "880f7ecd-3640-4330-bfde-754a9c84e4a8",
   "metadata": {
    "papermill": {},
    "tags": []
   },
   "source": "# Create conditional formatting\nif html_element.children[0].children == \"Hello Dash\":\n    html_element.style = {\"background-color\": \"#F4F4F8\", \"padding\": \"10px\"}",
   "outputs": []
  },
  {
   "cell_type": "markdown",
   "id": "5c121b04-f63c-4a60-8a81-6bcfe08c00e4",
   "metadata": {
    "papermill": {},
    "tags": []
   },
   "source": [
    "## Output"
   ]
  },
  {
   "cell_type": "markdown",
   "id": "6c59160f-f544-4bfa-8122-9b29f8e9bd9d",
   "metadata": {
    "papermill": {},
    "tags": []
   },
   "source": [
    "### Display result"
   ]
  },
  {
   "cell_type": "code",
   "execution_count": null,
   "id": "df4607e8-b804-4a41-9012-fb7ae0db6084",
   "metadata": {
    "papermill": {},
    "tags": []
   },
   "source": "html_element",
   "outputs": []
  }
 ],
 "metadata": {
  "kernelspec": {
   "display_name": "Python 3",
   "language": "python",
   "name": "python3"
  },
  "language_info": {
   "codemirror_mode": {
    "name": "ipython",
    "version": 3
   },
   "file_extension": ".py",
   "mimetype": "text/x-python",
   "name": "python",
   "nbconvert_exporter": "python",
   "pygments_lexer": "ipython3",
   "version": "3.9.6"
  },
  "widgets": {
   "application/vnd.jupyter.widget-state+json": {
    "state": {},
    "version_major": 2,
    "version_minor": 0
   }
  }
 },
 "nbformat": 4,
 "nbformat_minor": 5
}