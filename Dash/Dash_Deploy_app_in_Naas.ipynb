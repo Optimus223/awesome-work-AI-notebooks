{
 "cells": [
  {
   "cell_type": "markdown",
   "id": "latin-packing",
   "metadata": {
    "execution": {
     "iopub.execute_input": "2021-02-23T14:22:16.610471Z",
     "iopub.status.busy": "2021-02-23T14:22:16.610129Z",
     "iopub.status.idle": "2021-02-23T14:22:16.627784Z",
     "shell.execute_reply": "2021-02-23T14:22:16.626866Z",
     "shell.execute_reply.started": "2021-02-23T14:22:16.610384Z"
    },
    "papermill": {},
    "tags": []
   },
   "source": [
    "<img width=\"10%\" alt=\"Naas\" src=\"https://landen.imgix.net/jtci2pxwjczr/assets/5ice39g4.png?w=160\"/>"
   ]
  },
  {
   "cell_type": "markdown",
   "id": "compressed-wilson",
   "metadata": {
    "papermill": {},
    "tags": []
   },
   "source": [
    "# Dash - Deploy app in Naas\n",
    "<a href=\"https://app.naas.ai/user-redirect/naas/downloader?url=https://raw.githubusercontent.com/jupyter-naas/awesome-notebooks/master/Dash/Dash_Deploy_app_in_Naas.ipynb\" target=\"_parent\"><img src=\"https://naasai-public.s3.eu-west-3.amazonaws.com/open_in_naas.svg\"/></a>"
   ]
  },
  {
   "cell_type": "markdown",
   "id": "religious-programmer",
   "metadata": {
    "papermill": {},
    "tags": []
   },
   "source": [
    "**Tags:** #dashboard #plotly #dash #naas #asset #automation #ai #analytics"
   ]
  },
  {
   "cell_type": "markdown",
   "id": "1fe9f56e-561c-4f52-aef8-b861c9462107",
   "metadata": {
    "papermill": {},
    "tags": []
   },
   "source": [
    "**Author:** [Jeremy Ravenel](https://www.linkedin.com/in/jeremyravenel/)"
   ]
  },
  {
   "cell_type": "markdown",
   "id": "31ea7cdb-e10d-43fc-b026-f69249a59736",
   "metadata": {
    "papermill": {},
    "tags": []
   },
   "source": [
    "This notebook enables you to deploy a Dash app using Naas proxy."
   ]
  },
  {
   "cell_type": "markdown",
   "id": "distinguished-truth",
   "metadata": {
    "papermill": {},
    "tags": []
   },
   "source": [
    "## Input"
   ]
  },
  {
   "cell_type": "markdown",
   "id": "f5d505b9-238e-4704-ba8f-16dea3af15e5",
   "metadata": {
    "papermill": {},
    "tags": []
   },
   "source": [
    "## Install packages"
   ]
  },
  {
   "cell_type": "code",
   "execution_count": null,
   "id": "7b6cda7a-77c6-464c-bdef-cfcaebe83255",
   "metadata": {
    "papermill": {},
    "tags": []
   },
   "outputs": [],
   "source": [
    "!pip install dash   \n",
    "!pip install dash-html-components                                         \n",
    "!pip install dash-core-components                                     \n",
    "!pip install plotly"
   ]
  },
  {
   "cell_type": "markdown",
   "id": "numeric-mediterranean",
   "metadata": {
    "papermill": {},
    "tags": []
   },
   "source": [
    "### Import library"
   ]
  },
  {
   "cell_type": "code",
   "execution_count": 3,
   "id": "potential-surfing",
   "metadata": {
    "execution": {
     "iopub.execute_input": "2022-07-31T19:05:09.844311Z",
     "iopub.status.busy": "2022-07-31T19:05:09.844082Z",
     "iopub.status.idle": "2022-07-31T19:05:09.847509Z",
     "shell.execute_reply": "2022-07-31T19:05:09.846822Z",
     "shell.execute_reply.started": "2022-07-31T19:05:09.844288Z"
    },
    "papermill": {},
    "tags": []
   },
   "outputs": [],
   "source": [
    "import dash\n",
    "from dash import html\n",
    "from dash import dcc\n",
    "import plotly.graph_objects as go\n",
    "import plotly.express as px\n",
    "import os"
   ]
  },
  {
   "cell_type": "markdown",
   "id": "aggressive-trustee",
   "metadata": {
    "papermill": {},
    "tags": []
   },
   "source": [
    "### Variables"
   ]
  },
  {
   "cell_type": "code",
   "execution_count": 4,
   "id": "continuous-melbourne",
   "metadata": {
    "execution": {
     "iopub.execute_input": "2022-07-31T19:05:11.979770Z",
     "iopub.status.busy": "2022-07-31T19:05:11.979544Z",
     "iopub.status.idle": "2022-07-31T19:05:11.982616Z",
     "shell.execute_reply": "2022-07-31T19:05:11.981993Z",
     "shell.execute_reply.started": "2022-07-31T19:05:11.979748Z"
    },
    "papermill": {},
    "tags": []
   },
   "outputs": [],
   "source": [
    "DASH_PORT = 8050"
   ]
  },
  {
   "cell_type": "markdown",
   "id": "registered-showcase",
   "metadata": {
    "papermill": {},
    "tags": []
   },
   "source": [
    "## Model"
   ]
  },
  {
   "cell_type": "markdown",
   "id": "tested-astrology",
   "metadata": {
    "papermill": {},
    "tags": []
   },
   "source": [
    "### Create app layout"
   ]
  },
  {
   "cell_type": "markdown",
   "id": "3cb8edf6-bf0e-46ad-bbea-f0206b531987",
   "metadata": {
    "papermill": {},
    "tags": []
   },
   "source": [
    "### Initialize Dash app"
   ]
  },
  {
   "cell_type": "code",
   "execution_count": 6,
   "id": "crude-louisville",
   "metadata": {
    "execution": {
     "iopub.execute_input": "2022-07-31T19:05:29.585741Z",
     "iopub.status.busy": "2022-07-31T19:05:29.585508Z",
     "iopub.status.idle": "2022-07-31T19:05:29.594514Z",
     "shell.execute_reply": "2022-07-31T19:05:29.593793Z",
     "shell.execute_reply.started": "2022-07-31T19:05:29.585719Z"
    },
    "papermill": {},
    "tags": []
   },
   "outputs": [],
   "source": [
    "app = dash.Dash(requests_pathname_prefix=f'/user/{os.environ.get(\"JUPYTERHUB_USER\")}/proxy/{DASH_PORT}/')   \n",
    "#app = dash.Dash() if you are not in Naas"
   ]
  },
  {
   "cell_type": "markdown",
   "id": "9baacf1d-7dbd-4398-8f63-9de552af0043",
   "metadata": {
    "papermill": {},
    "tags": []
   },
   "source": [
    "### Get stock prices and create chart"
   ]
  },
  {
   "cell_type": "code",
   "execution_count": 7,
   "id": "c7bb0592-3522-49e7-be1f-e4706dd18b8a",
   "metadata": {
    "execution": {
     "iopub.execute_input": "2022-07-31T19:05:32.549036Z",
     "iopub.status.busy": "2022-07-31T19:05:32.548761Z",
     "iopub.status.idle": "2022-07-31T19:05:32.589042Z",
     "shell.execute_reply": "2022-07-31T19:05:32.588289Z",
     "shell.execute_reply.started": "2022-07-31T19:05:32.549012Z"
    },
    "papermill": {},
    "tags": []
   },
   "outputs": [],
   "source": [
    "df = px.data.stocks() #reading stock price dataset \n",
    "def stock_prices():\n",
    "    # Function for creating line chart showing Google stock prices over time \n",
    "    fig = go.Figure([go.Scatter(x = df['date'], y = df['GOOG'],\\\n",
    "                     line = dict(color = 'firebrick', width = 4), name = 'Google')\n",
    "                     ])\n",
    "    fig.update_layout(title = 'Prices over time',\n",
    "                      xaxis_title = 'Dates',\n",
    "                      yaxis_title = 'Prices'\n",
    "                      )\n",
    "    return fig  \n"
   ]
  },
  {
   "cell_type": "markdown",
   "id": "d7bcce05-c843-464f-9ffb-b2bdaad0cb61",
   "metadata": {
    "papermill": {},
    "tags": []
   },
   "source": [
    "### Create app layout"
   ]
  },
  {
   "cell_type": "code",
   "execution_count": 8,
   "id": "522d0fe1-d19a-4f97-bc63-085e31b7b2e5",
   "metadata": {
    "execution": {
     "iopub.execute_input": "2022-07-31T19:05:35.016104Z",
     "iopub.status.busy": "2022-07-31T19:05:35.015866Z",
     "iopub.status.idle": "2022-07-31T19:05:35.413177Z",
     "shell.execute_reply": "2022-07-31T19:05:35.412470Z",
     "shell.execute_reply.started": "2022-07-31T19:05:35.016082Z"
    },
    "papermill": {},
    "tags": []
   },
   "outputs": [],
   "source": [
    "app.layout = html.Div(id = 'parent', children = [\n",
    "    html.H1(id = 'H1', children = 'Deploy a Dash app in Naas', style = {'textAlign':'center',\\\n",
    "                                            'marginTop':40,'marginBottom':40}),\n",
    "\n",
    "        \n",
    "        dcc.Graph(id = 'line_plot', figure = stock_prices())    \n",
    "    ])"
   ]
  },
  {
   "cell_type": "markdown",
   "id": "lonely-pacific",
   "metadata": {
    "execution": {
     "iopub.execute_input": "2021-07-02T23:32:10.789097Z",
     "iopub.status.busy": "2021-07-02T23:32:10.788829Z",
     "iopub.status.idle": "2021-07-02T23:32:10.796900Z",
     "shell.execute_reply": "2021-07-02T23:32:10.796358Z",
     "shell.execute_reply.started": "2021-07-02T23:32:10.789033Z"
    },
    "papermill": {},
    "tags": []
   },
   "source": [
    "## Output"
   ]
  },
  {
   "cell_type": "markdown",
   "id": "890f7c86-b7bb-4f5d-9a1b-e492dd9580fd",
   "metadata": {
    "papermill": {},
    "tags": []
   },
   "source": [
    "### Generate URL and show logs"
   ]
  },
  {
   "cell_type": "code",
   "execution_count": null,
   "id": "9c4e3b7b-6440-4844-8054-265f1aec65eb",
   "metadata": {
    "execution": {
     "iopub.execute_input": "2022-07-31T19:06:08.841899Z",
     "iopub.status.busy": "2022-07-31T19:06:08.841675Z"
    },
    "papermill": {},
    "tags": []
   },
   "outputs": [],
   "source": [
    "if __name__ == '__main__':\n",
    "    app.run_server(proxy=f\"http://127.0.0.1:{DASH_PORT}::https://app.naas.ai\")"
   ]
  },
  {
   "cell_type": "code",
   "execution_count": null,
   "id": "b161e87f-48db-4b78-88a1-3c2b9e0de93d",
   "metadata": {
    "papermill": {},
    "tags": []
   },
   "outputs": [],
   "source": []
  }
 ],
 "metadata": {
  "kernelspec": {
   "display_name": "Python 3",
   "language": "python",
   "name": "python3"
  },
  "language_info": {
   "codemirror_mode": {
    "name": "ipython",
    "version": 3
   },
   "file_extension": ".py",
   "mimetype": "text/x-python",
   "name": "python",
   "nbconvert_exporter": "python",
   "pygments_lexer": "ipython3",
   "version": "3.9.6"
  },
  "papermill": {
   "default_parameters": {},
   "environment_variables": {},
   "parameters": {},
   "version": "2.3.3"
  },
  "widgets": {
   "application/vnd.jupyter.widget-state+json": {
    "state": {},
    "version_major": 2,
    "version_minor": 0
   }
  }
 },
 "nbformat": 4,
 "nbformat_minor": 5
}