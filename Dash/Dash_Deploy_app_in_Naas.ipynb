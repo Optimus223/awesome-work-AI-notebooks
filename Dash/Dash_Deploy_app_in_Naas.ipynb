{
 "cells": [
  {
   "cell_type": "markdown",
   "id": "latin-packing",
   "metadata": {
    "execution": {
     "iopub.execute_input": "2021-02-23T14:22:16.610471Z",
     "iopub.status.busy": "2021-02-23T14:22:16.610129Z",
     "iopub.status.idle": "2021-02-23T14:22:16.627784Z",
     "shell.execute_reply": "2021-02-23T14:22:16.626866Z",
     "shell.execute_reply.started": "2021-02-23T14:22:16.610384Z"
    },
    "papermill": {},
    "tags": []
   },
   "source": [
    "<img width=\"10%\" alt=\"Naas\" src=\"https://landen.imgix.net/jtci2pxwjczr/assets/5ice39g4.png?w=160\"/>"
   ]
  },
  {
   "cell_type": "markdown",
   "id": "compressed-wilson",
   "metadata": {
    "papermill": {},
    "tags": []
   },
   "source": [
    "# Dash - Deploy app in Naas\n",
    "<a href=\"https://app.naas.ai/user-redirect/naas/downloader?url=https://raw.githubusercontent.com/jupyter-naas/awesome-notebooks/master/template.ipynb\" target=\"_parent\">\n",
    "<img src=\"https://img.shields.io/badge/-Open%20in%20Naas-success?labelColor=000000&logo=data:image/svg+xml;base64,PD94bWwgdmVyc2lvbj0iMS4wIiBlbmNvZGluZz0iVVRGLTgiPz4KPHN2ZyB3aWR0aD0iMTAyNHB4IiBoZWlnaHQ9IjEwMjRweCIgdmlld0JveD0iMCAwIDEwMjQgMTAyNCIgeG1sbnM9Imh0dHA6Ly93d3cudzMub3JnLzIwMDAvc3ZnIiB4bWxuczp4bGluaz0iaHR0cDovL3d3dy53My5vcmcvMTk5OS94bGluayIgdmVyc2lvbj0iMS4xIj4KIDwhLS0gR2VuZXJhdGVkIGJ5IFBpeGVsbWF0b3IgUHJvIDIuMC41IC0tPgogPGRlZnM+CiAgPHRleHQgaWQ9InN0cmluZyIgdHJhbnNmb3JtPSJtYXRyaXgoMS4wIDAuMCAwLjAgMS4wIDIyOC4wIDU0LjUpIiBmb250LWZhbWlseT0iQ29tZm9ydGFhLVJlZ3VsYXIsIENvbWZvcnRhYSIgZm9udC1zaXplPSI4MDAiIHRleHQtZGVjb3JhdGlvbj0ibm9uZSIgZmlsbD0iI2ZmZmZmZiIgeD0iMS4xOTk5OTk5OTk5OTk5ODg2IiB5PSI3MDUuMCI+bjwvdGV4dD4KIDwvZGVmcz4KIDx1c2UgaWQ9Im4iIHhsaW5rOmhyZWY9IiNzdHJpbmciLz4KPC9zdmc+Cg==\"/>\n",
    "</a>"
   ]
  },
  {
   "cell_type": "markdown",
   "id": "religious-programmer",
   "metadata": {},
   "source": [
    "**Tags:** #dashboard #plotly #dash #naas #asset #automation #ai #analytics"
   ]
  },
  {
   "cell_type": "markdown",
   "id": "1fe9f56e-561c-4f52-aef8-b861c9462107",
   "metadata": {},
   "source": [
    "**Author:** [Jeremy Ravenel](https://www.linkedin.com/in/jeremyravenel/)"
   ]
  },
  {
   "cell_type": "markdown",
   "id": "31ea7cdb-e10d-43fc-b026-f69249a59736",
   "metadata": {},
   "source": [
    "This notebook enables you to deploy a Dash app using Naas proxy."
   ]
  },
  {
   "cell_type": "markdown",
   "id": "distinguished-truth",
   "metadata": {
    "papermill": {},
    "tags": []
   },
   "source": [
    "## Input"
   ]
  },
  {
   "cell_type": "markdown",
   "id": "f5d505b9-238e-4704-ba8f-16dea3af15e5",
   "metadata": {},
   "source": [
    "## Install packages"
   ]
  },
  {
   "cell_type": "code",
   "execution_count": null,
   "id": "7b6cda7a-77c6-464c-bdef-cfcaebe83255",
   "metadata": {
    "tags": []
   },
   "outputs": [],
   "source": [
    "!pip install dash   \n",
    "!pip install dash-html-components                                         \n",
    "!pip install dash-core-components                                     \n",
    "!pip install plotly"
   ]
  },
  {
   "cell_type": "markdown",
   "id": "numeric-mediterranean",
   "metadata": {},
   "source": [
    "### Import library"
   ]
  },
  {
   "cell_type": "code",
   "execution_count": 3,
   "id": "potential-surfing",
   "metadata": {
    "execution": {
     "iopub.execute_input": "2022-07-31T19:05:09.844311Z",
     "iopub.status.busy": "2022-07-31T19:05:09.844082Z",
     "iopub.status.idle": "2022-07-31T19:05:09.847509Z",
     "shell.execute_reply": "2022-07-31T19:05:09.846822Z",
     "shell.execute_reply.started": "2022-07-31T19:05:09.844288Z"
    },
    "tags": []
   },
   "outputs": [],
   "source": [
    "import dash\n",
    "from dash import html\n",
    "from dash import dcc\n",
    "import plotly.graph_objects as go\n",
    "import plotly.express as px\n",
    "import os"
   ]
  },
  {
   "cell_type": "markdown",
   "id": "aggressive-trustee",
   "metadata": {},
   "source": [
    "### Variables"
   ]
  },
  {
   "cell_type": "code",
   "execution_count": 4,
   "id": "continuous-melbourne",
   "metadata": {
    "execution": {
     "iopub.execute_input": "2022-07-31T19:05:11.979770Z",
     "iopub.status.busy": "2022-07-31T19:05:11.979544Z",
     "iopub.status.idle": "2022-07-31T19:05:11.982616Z",
     "shell.execute_reply": "2022-07-31T19:05:11.981993Z",
     "shell.execute_reply.started": "2022-07-31T19:05:11.979748Z"
    }
   },
   "outputs": [],
   "source": [
    "DASH_PORT = 8050"
   ]
  },
  {
   "cell_type": "markdown",
   "id": "registered-showcase",
   "metadata": {},
   "source": [
    "## Model"
   ]
  },
  {
   "cell_type": "markdown",
   "id": "tested-astrology",
   "metadata": {},
   "source": [
    "### Create app layout"
   ]
  },
  {
   "cell_type": "markdown",
   "id": "3cb8edf6-bf0e-46ad-bbea-f0206b531987",
   "metadata": {},
   "source": [
    "### Initialize Dash app"
   ]
  },
  {
   "cell_type": "code",
   "execution_count": 6,
   "id": "crude-louisville",
   "metadata": {
    "execution": {
     "iopub.execute_input": "2022-07-31T19:05:29.585741Z",
     "iopub.status.busy": "2022-07-31T19:05:29.585508Z",
     "iopub.status.idle": "2022-07-31T19:05:29.594514Z",
     "shell.execute_reply": "2022-07-31T19:05:29.593793Z",
     "shell.execute_reply.started": "2022-07-31T19:05:29.585719Z"
    },
    "papermill": {},
    "tags": []
   },
   "outputs": [],
   "source": [
    "app = dash.Dash(requests_pathname_prefix=f'/user/{os.environ.get(\"JUPYTERHUB_USER\")}/proxy/{DASH_PORT}/')   \n",
    "#app = dash.Dash() if you are not in Naas"
   ]
  },
  {
   "cell_type": "markdown",
   "id": "9baacf1d-7dbd-4398-8f63-9de552af0043",
   "metadata": {},
   "source": [
    "### Get stock prices and create chart"
   ]
  },
  {
   "cell_type": "code",
   "execution_count": 7,
   "id": "c7bb0592-3522-49e7-be1f-e4706dd18b8a",
   "metadata": {
    "execution": {
     "iopub.execute_input": "2022-07-31T19:05:32.549036Z",
     "iopub.status.busy": "2022-07-31T19:05:32.548761Z",
     "iopub.status.idle": "2022-07-31T19:05:32.589042Z",
     "shell.execute_reply": "2022-07-31T19:05:32.588289Z",
     "shell.execute_reply.started": "2022-07-31T19:05:32.549012Z"
    }
   },
   "outputs": [],
   "source": [
    "df = px.data.stocks() #reading stock price dataset \n",
    "def stock_prices():\n",
    "    # Function for creating line chart showing Google stock prices over time \n",
    "    fig = go.Figure([go.Scatter(x = df['date'], y = df['GOOG'],\\\n",
    "                     line = dict(color = 'firebrick', width = 4), name = 'Google')\n",
    "                     ])\n",
    "    fig.update_layout(title = 'Prices over time',\n",
    "                      xaxis_title = 'Dates',\n",
    "                      yaxis_title = 'Prices'\n",
    "                      )\n",
    "    return fig  \n"
   ]
  },
  {
   "cell_type": "markdown",
   "id": "d7bcce05-c843-464f-9ffb-b2bdaad0cb61",
   "metadata": {},
   "source": [
    "### Create app layout"
   ]
  },
  {
   "cell_type": "code",
   "execution_count": 8,
   "id": "522d0fe1-d19a-4f97-bc63-085e31b7b2e5",
   "metadata": {
    "execution": {
     "iopub.execute_input": "2022-07-31T19:05:35.016104Z",
     "iopub.status.busy": "2022-07-31T19:05:35.015866Z",
     "iopub.status.idle": "2022-07-31T19:05:35.413177Z",
     "shell.execute_reply": "2022-07-31T19:05:35.412470Z",
     "shell.execute_reply.started": "2022-07-31T19:05:35.016082Z"
    }
   },
   "outputs": [],
   "source": [
    "app.layout = html.Div(id = 'parent', children = [\n",
    "    html.H1(id = 'H1', children = 'Deploy a Dash app in Naas', style = {'textAlign':'center',\\\n",
    "                                            'marginTop':40,'marginBottom':40}),\n",
    "\n",
    "        \n",
    "        dcc.Graph(id = 'line_plot', figure = stock_prices())    \n",
    "    ])"
   ]
  },
  {
   "cell_type": "markdown",
   "id": "lonely-pacific",
   "metadata": {
    "execution": {
     "iopub.execute_input": "2021-07-02T23:32:10.789097Z",
     "iopub.status.busy": "2021-07-02T23:32:10.788829Z",
     "iopub.status.idle": "2021-07-02T23:32:10.796900Z",
     "shell.execute_reply": "2021-07-02T23:32:10.796358Z",
     "shell.execute_reply.started": "2021-07-02T23:32:10.789033Z"
    }
   },
   "source": [
    "## Output"
   ]
  },
  {
   "cell_type": "markdown",
   "id": "890f7c86-b7bb-4f5d-9a1b-e492dd9580fd",
   "metadata": {},
   "source": [
    "### Generate URL and show logs"
   ]
  },
  {
   "cell_type": "code",
   "execution_count": null,
   "id": "9c4e3b7b-6440-4844-8054-265f1aec65eb",
   "metadata": {
    "execution": {
     "iopub.execute_input": "2022-07-31T19:06:08.841899Z",
     "iopub.status.busy": "2022-07-31T19:06:08.841675Z"
    }
   },
   "outputs": [
    {
     "name": "stdout",
     "output_type": "stream",
     "text": [
      "Dash is running on https://app.naas.ai/user/jeremy@naas.ai/proxy/8050/\n",
      "\n",
      "Dash is running on https://app.naas.ai/user/jeremy@naas.ai/proxy/8050/\n",
      "\n",
      " * Serving Flask app '__main__' (lazy loading)\n",
      " * Environment: production\n",
      "\u001b[31m   WARNING: This is a development server. Do not use it in a production deployment.\u001b[0m\n",
      "\u001b[2m   Use a production WSGI server instead.\u001b[0m\n",
      " * Debug mode: off\n"
     ]
    },
    {
     "name": "stderr",
     "output_type": "stream",
     "text": [
      " * Running on http://127.0.0.1:8050 (Press CTRL+C to quit)\n",
      "127.0.0.1 - - [31/Jul/2022 21:06:21] \"GET / HTTP/1.1\" 200 -\n",
      "127.0.0.1 - - [31/Jul/2022 21:06:21] \"GET /_dash-component-suites/dash/deps/polyfill@7.v2_6_0m1658403568.12.1.min.js HTTP/1.1\" 200 -\n",
      "127.0.0.1 - - [31/Jul/2022 21:06:21] \"GET /_dash-component-suites/dash/deps/react@16.v2_6_0m1658403568.14.0.min.js HTTP/1.1\" 200 -\n",
      "127.0.0.1 - - [31/Jul/2022 21:06:21] \"GET /_dash-component-suites/dash/deps/react-dom@16.v2_6_0m1658403568.14.0.min.js HTTP/1.1\" 200 -\n",
      "127.0.0.1 - - [31/Jul/2022 21:06:21] \"GET /_dash-component-suites/dash/deps/prop-types@15.v2_6_0m1658403568.8.1.min.js HTTP/1.1\" 200 -\n",
      "127.0.0.1 - - [31/Jul/2022 21:06:21] \"GET /_dash-component-suites/dash/html/dash_html_components.v2_0_4m1658403568.min.js HTTP/1.1\" 200 -\n",
      "127.0.0.1 - - [31/Jul/2022 21:06:21] \"GET /_dash-component-suites/dash/dash_table/bundle.v5_1_4m1658403568.js HTTP/1.1\" 200 -\n",
      "127.0.0.1 - - [31/Jul/2022 21:06:21] \"GET /_dash-component-suites/dash/dcc/dash_core_components-shared.v2_6_0m1658403568.js HTTP/1.1\" 200 -\n",
      "127.0.0.1 - - [31/Jul/2022 21:06:21] \"GET /_dash-component-suites/dash/dcc/dash_core_components.v2_6_0m1658403568.js HTTP/1.1\" 200 -\n",
      "127.0.0.1 - - [31/Jul/2022 21:06:21] \"GET /_dash-component-suites/dash/dash-renderer/build/dash_renderer.v2_6_0m1658403568.min.js HTTP/1.1\" 200 -\n",
      "127.0.0.1 - - [31/Jul/2022 21:06:22] \"GET /_dash-layout HTTP/1.1\" 200 -\n",
      "127.0.0.1 - - [31/Jul/2022 21:06:22] \"GET /_dash-dependencies HTTP/1.1\" 200 -\n",
      "127.0.0.1 - - [31/Jul/2022 21:06:22] \"GET /_dash-component-suites/dash/dcc/async-graph.js HTTP/1.1\" 200 -\n",
      "127.0.0.1 - - [31/Jul/2022 21:06:22] \"GET /_dash-component-suites/dash/dcc/async-plotlyjs.js HTTP/1.1\" 200 -\n",
      "127.0.0.1 - - [31/Jul/2022 21:06:23] \"GET /_favicon.ico?v=2.6.0 HTTP/1.1\" 200 -\n"
     ]
    }
   ],
   "source": [
    "if __name__ == '__main__':\n",
    "    app.run_server(proxy=f\"http://127.0.0.1:{DASH_PORT}::https://app.naas.ai\")"
   ]
  },
  {
   "cell_type": "code",
   "execution_count": null,
   "id": "b161e87f-48db-4b78-88a1-3c2b9e0de93d",
   "metadata": {},
   "outputs": [],
   "source": []
  }
 ],
 "metadata": {
  "kernelspec": {
   "display_name": "Python 3",
   "language": "python",
   "name": "python3"
  },
  "language_info": {
   "codemirror_mode": {
    "name": "ipython",
    "version": 3
   },
   "file_extension": ".py",
   "mimetype": "text/x-python",
   "name": "python",
   "nbconvert_exporter": "python",
   "pygments_lexer": "ipython3",
   "version": "3.9.6"
  },
  "papermill": {
   "default_parameters": {},
   "environment_variables": {},
   "parameters": {},
   "version": "2.3.3"
  },
  "widgets": {
   "application/vnd.jupyter.widget-state+json": {
    "state": {},
    "version_major": 2,
    "version_minor": 0
   }
  }
 },
 "nbformat": 4,
 "nbformat_minor": 5
}
