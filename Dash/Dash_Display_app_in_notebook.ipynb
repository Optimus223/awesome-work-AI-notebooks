{
 "cells": [
  {
   "cell_type": "markdown",
   "id": "latin-packing",
   "metadata": {
    "execution": {
     "iopub.execute_input": "2021-02-23T14:22:16.610471Z",
     "iopub.status.busy": "2021-02-23T14:22:16.610129Z",
     "iopub.status.idle": "2021-02-23T14:22:16.627784Z",
     "shell.execute_reply": "2021-02-23T14:22:16.626866Z",
     "shell.execute_reply.started": "2021-02-23T14:22:16.610384Z"
    },
    "papermill": {},
    "tags": []
   },
   "source": [
    "<img width=\"10%\" alt=\"Naas\" src=\"https://landen.imgix.net/jtci2pxwjczr/assets/5ice39g4.png?w=160\"/>"
   ]
  },
  {
   "cell_type": "markdown",
   "id": "compressed-wilson",
   "metadata": {
    "papermill": {},
    "tags": []
   },
   "source": [
    "# Dash - Display app in notebook\n",
    "<a href=\"https://app.naas.ai/user-redirect/naas/downloader?url=https://raw.githubusercontent.com/jupyter-naas/awesome-notebooks/master/Dash/Dash_Deploy_app_in_Naas.ipynb\" target=\"_parent\"><img src=\"https://naasai-public.s3.eu-west-3.amazonaws.com/open_in_naas.svg\"/></a>"
   ]
  },
  {
   "cell_type": "markdown",
   "id": "religious-programmer",
   "metadata": {
    "papermill": {},
    "tags": []
   },
   "source": [
    "**Tags:** #dashboard #plotly #dash #naas #asset #automation #ai #analytics"
   ]
  },
  {
   "cell_type": "markdown",
   "id": "1fe9f56e-561c-4f52-aef8-b861c9462107",
   "metadata": {
    "papermill": {},
    "tags": []
   },
   "source": [
    "**Author:** [Jeremy Ravenel](https://www.linkedin.com/in/jeremyravenel/)"
   ]
  },
  {
   "cell_type": "markdown",
   "id": "31ea7cdb-e10d-43fc-b026-f69249a59736",
   "metadata": {
    "papermill": {},
    "tags": []
   },
   "source": [
    "This notebook enables you to display a Dash app in a notebook using JupyterDash and Naas proxy."
   ]
  },
  {
   "cell_type": "markdown",
   "id": "distinguished-truth",
   "metadata": {
    "papermill": {},
    "tags": []
   },
   "source": [
    "## Input"
   ]
  },
  {
   "cell_type": "markdown",
   "id": "f5d505b9-238e-4704-ba8f-16dea3af15e5",
   "metadata": {
    "papermill": {},
    "tags": []
   },
   "source": [
    "## Install packages"
   ]
  },
  {
   "cell_type": "code",
   "execution_count": 1,
   "id": "7b6cda7a-77c6-464c-bdef-cfcaebe83255",
   "metadata": {
    "execution": {
     "iopub.execute_input": "2022-08-15T20:20:38.698141Z",
     "iopub.status.busy": "2022-08-15T20:20:38.697896Z",
     "iopub.status.idle": "2022-08-15T20:21:01.186842Z",
     "shell.execute_reply": "2022-08-15T20:21:01.184411Z",
     "shell.execute_reply.started": "2022-08-15T20:20:38.698064Z"
    },
    "papermill": {},
    "tags": []
   },
   "outputs": [
    {
     "name": "stdout",
     "output_type": "stream",
     "text": [
      "Requirement already satisfied: dash in /home/ftp/.local/lib/python3.9/site-packages (2.6.1)\n",
      "Requirement already satisfied: dash-html-components==2.0.0 in /home/ftp/.local/lib/python3.9/site-packages (from dash) (2.0.0)\n",
      "Requirement already satisfied: flask-compress in /home/ftp/.local/lib/python3.9/site-packages (from dash) (1.12)\n",
      "Requirement already satisfied: plotly>=5.0.0 in /home/ftp/.local/lib/python3.9/site-packages (from dash) (5.7.0)\n",
      "Requirement already satisfied: dash-core-components==2.0.0 in /home/ftp/.local/lib/python3.9/site-packages (from dash) (2.0.0)\n",
      "Requirement already satisfied: dash-table==5.0.0 in /home/ftp/.local/lib/python3.9/site-packages (from dash) (5.0.0)\n",
      "Requirement already satisfied: Flask>=1.0.4 in /home/ftp/.local/lib/python3.9/site-packages (from dash) (2.1.2)\n",
      "Requirement already satisfied: importlib-metadata>=3.6.0 in /opt/conda/lib/python3.9/site-packages (from Flask>=1.0.4->dash) (4.6.3)\n",
      "Requirement already satisfied: Werkzeug>=2.0 in /opt/conda/lib/python3.9/site-packages (from Flask>=1.0.4->dash) (2.2.1)\n",
      "Requirement already satisfied: itsdangerous>=2.0 in /home/ftp/.local/lib/python3.9/site-packages (from Flask>=1.0.4->dash) (2.1.2)\n",
      "Requirement already satisfied: click>=8.0 in /opt/conda/lib/python3.9/site-packages (from Flask>=1.0.4->dash) (8.1.3)\n",
      "Requirement already satisfied: Jinja2>=3.0 in /opt/conda/lib/python3.9/site-packages (from Flask>=1.0.4->dash) (3.0.3)\n",
      "Requirement already satisfied: six in /opt/conda/lib/python3.9/site-packages (from plotly>=5.0.0->dash) (1.16.0)\n",
      "Requirement already satisfied: tenacity>=6.2.0 in /opt/conda/lib/python3.9/site-packages (from plotly>=5.0.0->dash) (8.0.1)\n",
      "Requirement already satisfied: brotli in /opt/conda/lib/python3.9/site-packages (from flask-compress->dash) (1.0.9)\n",
      "Requirement already satisfied: zipp>=0.5 in /opt/conda/lib/python3.9/site-packages (from importlib-metadata>=3.6.0->Flask>=1.0.4->dash) (3.5.0)\n",
      "Requirement already satisfied: MarkupSafe>=2.0 in /home/ftp/.local/lib/python3.9/site-packages (from Jinja2>=3.0->Flask>=1.0.4->dash) (2.1.1)\n",
      "\n",
      "\u001b[1m[\u001b[0m\u001b[34;49mnotice\u001b[0m\u001b[1;39;49m]\u001b[0m\u001b[39;49m A new release of pip available: \u001b[0m\u001b[31;49m22.2.1\u001b[0m\u001b[39;49m -> \u001b[0m\u001b[32;49m22.2.2\u001b[0m\n",
      "\u001b[1m[\u001b[0m\u001b[34;49mnotice\u001b[0m\u001b[1;39;49m]\u001b[0m\u001b[39;49m To update, run: \u001b[0m\u001b[32;49mpip install --upgrade pip\u001b[0m\n",
      "Requirement already satisfied: dash-html-components in /home/ftp/.local/lib/python3.9/site-packages (2.0.0)\n",
      "\n",
      "\u001b[1m[\u001b[0m\u001b[34;49mnotice\u001b[0m\u001b[1;39;49m]\u001b[0m\u001b[39;49m A new release of pip available: \u001b[0m\u001b[31;49m22.2.1\u001b[0m\u001b[39;49m -> \u001b[0m\u001b[32;49m22.2.2\u001b[0m\n",
      "\u001b[1m[\u001b[0m\u001b[34;49mnotice\u001b[0m\u001b[1;39;49m]\u001b[0m\u001b[39;49m To update, run: \u001b[0m\u001b[32;49mpip install --upgrade pip\u001b[0m\n",
      "Requirement already satisfied: dash-core-components in /home/ftp/.local/lib/python3.9/site-packages (2.0.0)\n",
      "\n",
      "\u001b[1m[\u001b[0m\u001b[34;49mnotice\u001b[0m\u001b[1;39;49m]\u001b[0m\u001b[39;49m A new release of pip available: \u001b[0m\u001b[31;49m22.2.1\u001b[0m\u001b[39;49m -> \u001b[0m\u001b[32;49m22.2.2\u001b[0m\n",
      "\u001b[1m[\u001b[0m\u001b[34;49mnotice\u001b[0m\u001b[1;39;49m]\u001b[0m\u001b[39;49m To update, run: \u001b[0m\u001b[32;49mpip install --upgrade pip\u001b[0m\n",
      "Requirement already satisfied: plotly in /home/ftp/.local/lib/python3.9/site-packages (5.7.0)\n",
      "Requirement already satisfied: tenacity>=6.2.0 in /opt/conda/lib/python3.9/site-packages (from plotly) (8.0.1)\n",
      "Requirement already satisfied: six in /opt/conda/lib/python3.9/site-packages (from plotly) (1.16.0)\n",
      "\n",
      "\u001b[1m[\u001b[0m\u001b[34;49mnotice\u001b[0m\u001b[1;39;49m]\u001b[0m\u001b[39;49m A new release of pip available: \u001b[0m\u001b[31;49m22.2.1\u001b[0m\u001b[39;49m -> \u001b[0m\u001b[32;49m22.2.2\u001b[0m\n",
      "\u001b[1m[\u001b[0m\u001b[34;49mnotice\u001b[0m\u001b[1;39;49m]\u001b[0m\u001b[39;49m To update, run: \u001b[0m\u001b[32;49mpip install --upgrade pip\u001b[0m\n",
      "Requirement already satisfied: jupyter-dash in /home/ftp/.local/lib/python3.9/site-packages (0.4.2)\n",
      "Requirement already satisfied: retrying in /opt/conda/lib/python3.9/site-packages (from jupyter-dash) (1.3.3)\n",
      "Requirement already satisfied: flask in /home/ftp/.local/lib/python3.9/site-packages (from jupyter-dash) (2.1.2)\n",
      "Requirement already satisfied: requests in /home/ftp/.local/lib/python3.9/site-packages (from jupyter-dash) (2.27.1)\n",
      "Requirement already satisfied: ipython in /opt/conda/lib/python3.9/site-packages (from jupyter-dash) (7.23.1)\n",
      "Requirement already satisfied: nest-asyncio in /opt/conda/lib/python3.9/site-packages (from jupyter-dash) (1.5.1)\n",
      "Requirement already satisfied: ipykernel in /opt/conda/lib/python3.9/site-packages (from jupyter-dash) (5.5.3)\n",
      "Requirement already satisfied: ansi2html in /home/ftp/.local/lib/python3.9/site-packages (from jupyter-dash) (1.8.0)\n",
      "Requirement already satisfied: dash in /home/ftp/.local/lib/python3.9/site-packages (from jupyter-dash) (2.6.1)\n",
      "Requirement already satisfied: dash-table==5.0.0 in /home/ftp/.local/lib/python3.9/site-packages (from dash->jupyter-dash) (5.0.0)\n",
      "Requirement already satisfied: dash-core-components==2.0.0 in /home/ftp/.local/lib/python3.9/site-packages (from dash->jupyter-dash) (2.0.0)\n",
      "Requirement already satisfied: dash-html-components==2.0.0 in /home/ftp/.local/lib/python3.9/site-packages (from dash->jupyter-dash) (2.0.0)\n",
      "Requirement already satisfied: flask-compress in /home/ftp/.local/lib/python3.9/site-packages (from dash->jupyter-dash) (1.12)\n",
      "Requirement already satisfied: plotly>=5.0.0 in /home/ftp/.local/lib/python3.9/site-packages (from dash->jupyter-dash) (5.7.0)\n",
      "Requirement already satisfied: click>=8.0 in /opt/conda/lib/python3.9/site-packages (from flask->jupyter-dash) (8.1.3)\n",
      "Requirement already satisfied: importlib-metadata>=3.6.0 in /opt/conda/lib/python3.9/site-packages (from flask->jupyter-dash) (4.6.3)\n",
      "Requirement already satisfied: itsdangerous>=2.0 in /home/ftp/.local/lib/python3.9/site-packages (from flask->jupyter-dash) (2.1.2)\n",
      "Requirement already satisfied: Jinja2>=3.0 in /opt/conda/lib/python3.9/site-packages (from flask->jupyter-dash) (3.0.3)\n",
      "Requirement already satisfied: Werkzeug>=2.0 in /opt/conda/lib/python3.9/site-packages (from flask->jupyter-dash) (2.2.1)\n",
      "Requirement already satisfied: jupyter-client in /opt/conda/lib/python3.9/site-packages (from ipykernel->jupyter-dash) (6.1.12)\n",
      "Requirement already satisfied: tornado>=4.2 in /opt/conda/lib/python3.9/site-packages (from ipykernel->jupyter-dash) (6.1)\n",
      "Requirement already satisfied: traitlets>=4.1.0 in /opt/conda/lib/python3.9/site-packages (from ipykernel->jupyter-dash) (5.0.5)\n",
      "Requirement already satisfied: prompt-toolkit!=3.0.0,!=3.0.1,<3.1.0,>=2.0.0 in /opt/conda/lib/python3.9/site-packages (from ipython->jupyter-dash) (3.0.19)\n",
      "Requirement already satisfied: backcall in /opt/conda/lib/python3.9/site-packages (from ipython->jupyter-dash) (0.2.0)\n",
      "Requirement already satisfied: setuptools>=18.5 in /opt/conda/lib/python3.9/site-packages (from ipython->jupyter-dash) (49.6.0.post20210108)\n",
      "Requirement already satisfied: jedi>=0.16 in /opt/conda/lib/python3.9/site-packages (from ipython->jupyter-dash) (0.18.0)\n",
      "Requirement already satisfied: matplotlib-inline in /opt/conda/lib/python3.9/site-packages (from ipython->jupyter-dash) (0.1.2)\n",
      "Requirement already satisfied: pygments in /opt/conda/lib/python3.9/site-packages (from ipython->jupyter-dash) (2.9.0)\n",
      "Requirement already satisfied: pexpect>4.3 in /opt/conda/lib/python3.9/site-packages (from ipython->jupyter-dash) (4.8.0)\n",
      "Requirement already satisfied: pickleshare in /opt/conda/lib/python3.9/site-packages (from ipython->jupyter-dash) (0.7.5)\n",
      "Requirement already satisfied: decorator in /opt/conda/lib/python3.9/site-packages (from ipython->jupyter-dash) (5.0.9)\n",
      "Requirement already satisfied: certifi>=2017.4.17 in /opt/conda/lib/python3.9/site-packages (from requests->jupyter-dash) (2021.5.30)\n",
      "Requirement already satisfied: urllib3<1.27,>=1.21.1 in /opt/conda/lib/python3.9/site-packages (from requests->jupyter-dash) (1.26.6)\n",
      "Requirement already satisfied: charset-normalizer~=2.0.0 in /opt/conda/lib/python3.9/site-packages (from requests->jupyter-dash) (2.0.0)\n",
      "Requirement already satisfied: idna<4,>=2.5 in /opt/conda/lib/python3.9/site-packages (from requests->jupyter-dash) (3.1)\n",
      "Requirement already satisfied: six>=1.7.0 in /opt/conda/lib/python3.9/site-packages (from retrying->jupyter-dash) (1.16.0)\n",
      "Requirement already satisfied: zipp>=0.5 in /opt/conda/lib/python3.9/site-packages (from importlib-metadata>=3.6.0->flask->jupyter-dash) (3.5.0)\n",
      "Requirement already satisfied: parso<0.9.0,>=0.8.0 in /opt/conda/lib/python3.9/site-packages (from jedi>=0.16->ipython->jupyter-dash) (0.8.2)\n",
      "Requirement already satisfied: MarkupSafe>=2.0 in /home/ftp/.local/lib/python3.9/site-packages (from Jinja2>=3.0->flask->jupyter-dash) (2.1.1)\n",
      "Requirement already satisfied: ptyprocess>=0.5 in /opt/conda/lib/python3.9/site-packages (from pexpect>4.3->ipython->jupyter-dash) (0.7.0)\n",
      "Requirement already satisfied: tenacity>=6.2.0 in /opt/conda/lib/python3.9/site-packages (from plotly>=5.0.0->dash->jupyter-dash) (8.0.1)\n",
      "Requirement already satisfied: wcwidth in /opt/conda/lib/python3.9/site-packages (from prompt-toolkit!=3.0.0,!=3.0.1,<3.1.0,>=2.0.0->ipython->jupyter-dash) (0.2.5)\n",
      "Requirement already satisfied: ipython-genutils in /opt/conda/lib/python3.9/site-packages (from traitlets>=4.1.0->ipykernel->jupyter-dash) (0.2.0)\n",
      "Requirement already satisfied: brotli in /opt/conda/lib/python3.9/site-packages (from flask-compress->dash->jupyter-dash) (1.0.9)\n",
      "Requirement already satisfied: pyzmq>=13 in /opt/conda/lib/python3.9/site-packages (from jupyter-client->ipykernel->jupyter-dash) (22.2.1)\n",
      "Requirement already satisfied: python-dateutil>=2.1 in /opt/conda/lib/python3.9/site-packages (from jupyter-client->ipykernel->jupyter-dash) (2.8.2)\n",
      "Requirement already satisfied: jupyter-core>=4.6.0 in /opt/conda/lib/python3.9/site-packages (from jupyter-client->ipykernel->jupyter-dash) (4.7.1)\n",
      "\n",
      "\u001b[1m[\u001b[0m\u001b[34;49mnotice\u001b[0m\u001b[1;39;49m]\u001b[0m\u001b[39;49m A new release of pip available: \u001b[0m\u001b[31;49m22.2.1\u001b[0m\u001b[39;49m -> \u001b[0m\u001b[32;49m22.2.2\u001b[0m\n",
      "\u001b[1m[\u001b[0m\u001b[34;49mnotice\u001b[0m\u001b[1;39;49m]\u001b[0m\u001b[39;49m To update, run: \u001b[0m\u001b[32;49mpip install --upgrade pip\u001b[0m\n"
     ]
    }
   ],
   "source": [
    "!pip install dash   \n",
    "!pip install dash-html-components                                         \n",
    "!pip install dash-core-components                                     \n",
    "!pip install plotly\n",
    "!pip install --user jupyter-dash"
   ]
  },
  {
   "cell_type": "markdown",
   "id": "numeric-mediterranean",
   "metadata": {
    "papermill": {},
    "tags": []
   },
   "source": [
    "### Import library"
   ]
  },
  {
   "cell_type": "code",
   "execution_count": 2,
   "id": "potential-surfing",
   "metadata": {
    "execution": {
     "iopub.execute_input": "2022-08-15T20:21:01.191752Z",
     "iopub.status.busy": "2022-08-15T20:21:01.191548Z",
     "iopub.status.idle": "2022-08-15T20:21:03.444369Z",
     "shell.execute_reply": "2022-08-15T20:21:03.443712Z",
     "shell.execute_reply.started": "2022-08-15T20:21:01.191731Z"
    },
    "papermill": {},
    "tags": []
   },
   "outputs": [],
   "source": [
    "import dash\n",
    "from jupyter_dash import JupyterDash\n",
    "from dash import html\n",
    "from dash import dcc\n",
    "import plotly.graph_objects as go\n",
    "import plotly.express as px\n",
    "import os"
   ]
  },
  {
   "cell_type": "markdown",
   "id": "aggressive-trustee",
   "metadata": {
    "papermill": {},
    "tags": []
   },
   "source": [
    "### Variables"
   ]
  },
  {
   "cell_type": "code",
   "execution_count": 3,
   "id": "continuous-melbourne",
   "metadata": {
    "execution": {
     "iopub.execute_input": "2022-08-15T20:21:03.445797Z",
     "iopub.status.busy": "2022-08-15T20:21:03.445584Z",
     "iopub.status.idle": "2022-08-15T20:21:03.450341Z",
     "shell.execute_reply": "2022-08-15T20:21:03.449743Z",
     "shell.execute_reply.started": "2022-08-15T20:21:03.445769Z"
    },
    "papermill": {},
    "tags": []
   },
   "outputs": [],
   "source": [
    "DASH_PORT = 8050"
   ]
  },
  {
   "cell_type": "markdown",
   "id": "registered-showcase",
   "metadata": {
    "papermill": {},
    "tags": []
   },
   "source": [
    "## Model"
   ]
  },
  {
   "cell_type": "markdown",
   "id": "tested-astrology",
   "metadata": {
    "papermill": {},
    "tags": []
   },
   "source": [
    "### Create app layout"
   ]
  },
  {
   "cell_type": "markdown",
   "id": "3cb8edf6-bf0e-46ad-bbea-f0206b531987",
   "metadata": {
    "papermill": {},
    "tags": []
   },
   "source": [
    "### Initialize Dash app"
   ]
  },
  {
   "cell_type": "code",
   "execution_count": 4,
   "id": "crude-louisville",
   "metadata": {
    "execution": {
     "iopub.execute_input": "2022-08-15T20:21:03.451483Z",
     "iopub.status.busy": "2022-08-15T20:21:03.451258Z",
     "iopub.status.idle": "2022-08-15T20:21:03.772473Z",
     "shell.execute_reply": "2022-08-15T20:21:03.771879Z",
     "shell.execute_reply.started": "2022-08-15T20:21:03.451450Z"
    },
    "papermill": {},
    "tags": []
   },
   "outputs": [],
   "source": [
    "app = JupyterDash(__name__,  \n",
    "                  server_url=\"https://app.naas.ai\",\n",
    "                  #external_stylesheets=external_stylesheets, \n",
    "                  requests_pathname_prefix=f'/user/{os.environ.get(\"JUPYTERHUB_USER\")}/proxy/{DASH_PORT}/')"
   ]
  },
  {
   "cell_type": "markdown",
   "id": "9baacf1d-7dbd-4398-8f63-9de552af0043",
   "metadata": {
    "papermill": {},
    "tags": []
   },
   "source": [
    "### Get stock prices and create chart"
   ]
  },
  {
   "cell_type": "code",
   "execution_count": 5,
   "id": "c7bb0592-3522-49e7-be1f-e4706dd18b8a",
   "metadata": {
    "execution": {
     "iopub.execute_input": "2022-08-15T20:21:03.773624Z",
     "iopub.status.busy": "2022-08-15T20:21:03.773403Z",
     "iopub.status.idle": "2022-08-15T20:21:03.796588Z",
     "shell.execute_reply": "2022-08-15T20:21:03.795974Z",
     "shell.execute_reply.started": "2022-08-15T20:21:03.773597Z"
    },
    "papermill": {},
    "tags": []
   },
   "outputs": [],
   "source": [
    "df = px.data.stocks() #reading stock price dataset \n",
    "def stock_prices():\n",
    "    # Function for creating line chart showing Google stock prices over time \n",
    "    fig = go.Figure([go.Scatter(x = df['date'], y = df['GOOG'],\\\n",
    "                     line = dict(color = 'firebrick', width = 4), name = 'Google')\n",
    "                     ])\n",
    "    fig.update_layout(title = 'Prices over time',\n",
    "                      xaxis_title = 'Dates',\n",
    "                      yaxis_title = 'Prices'\n",
    "                      )\n",
    "    return fig  \n"
   ]
  },
  {
   "cell_type": "markdown",
   "id": "d7bcce05-c843-464f-9ffb-b2bdaad0cb61",
   "metadata": {
    "papermill": {},
    "tags": []
   },
   "source": [
    "### Create app layout"
   ]
  },
  {
   "cell_type": "code",
   "execution_count": 6,
   "id": "522d0fe1-d19a-4f97-bc63-085e31b7b2e5",
   "metadata": {
    "execution": {
     "iopub.execute_input": "2022-08-15T20:21:03.797779Z",
     "iopub.status.busy": "2022-08-15T20:21:03.797561Z",
     "iopub.status.idle": "2022-08-15T20:21:04.237996Z",
     "shell.execute_reply": "2022-08-15T20:21:04.237240Z",
     "shell.execute_reply.started": "2022-08-15T20:21:03.797749Z"
    },
    "papermill": {},
    "tags": []
   },
   "outputs": [],
   "source": [
    "app.layout = html.Div(id = 'parent', children = [\n",
    "    html.H1(id = 'H1', children = 'Display a Dash app in Naas', style = {'textAlign':'center',\\\n",
    "                                            'marginTop':40,'marginBottom':40}),\n",
    "\n",
    "        \n",
    "        dcc.Graph(id = 'line_plot', figure = stock_prices())    \n",
    "    ])"
   ]
  },
  {
   "cell_type": "markdown",
   "id": "lonely-pacific",
   "metadata": {
    "execution": {
     "iopub.execute_input": "2021-07-02T23:32:10.789097Z",
     "iopub.status.busy": "2021-07-02T23:32:10.788829Z",
     "iopub.status.idle": "2021-07-02T23:32:10.796900Z",
     "shell.execute_reply": "2021-07-02T23:32:10.796358Z",
     "shell.execute_reply.started": "2021-07-02T23:32:10.789033Z"
    },
    "papermill": {},
    "tags": []
   },
   "source": [
    "## Output"
   ]
  },
  {
   "cell_type": "markdown",
   "id": "890f7c86-b7bb-4f5d-9a1b-e492dd9580fd",
   "metadata": {
    "papermill": {},
    "tags": []
   },
   "source": [
    "### Generate URL and show logs"
   ]
  },
  {
   "cell_type": "code",
   "execution_count": 7,
   "id": "9c4e3b7b-6440-4844-8054-265f1aec65eb",
   "metadata": {
    "execution": {
     "iopub.execute_input": "2022-08-15T20:21:04.240144Z",
     "iopub.status.busy": "2022-08-15T20:21:04.239877Z",
     "iopub.status.idle": "2022-08-15T20:21:04.370440Z",
     "shell.execute_reply": "2022-08-15T20:21:04.369744Z",
     "shell.execute_reply.started": "2022-08-15T20:21:04.240114Z"
    },
    "papermill": {},
    "tags": []
   },
   "outputs": [
    {
     "data": {
      "text/html": [
       "\n",
       "        <iframe\n",
       "            width=\"100%\"\n",
       "            height=\"650\"\n",
       "            src=\"https://app.naas.ai/user/jeremy@naas.ai/proxy/8050/\"\n",
       "            frameborder=\"0\"\n",
       "            allowfullscreen\n",
       "        ></iframe>\n",
       "        "
      ],
      "text/plain": [
       "<IPython.lib.display.IFrame at 0x7fd8e320c280>"
      ]
     },
     "metadata": {},
     "output_type": "display_data"
    }
   ],
   "source": [
    "if __name__ == '__main__':\n",
    "    app.run_server(mode=\"inline\", proxy=f\"http://127.0.0.1:{DASH_PORT}::https://app.naas.ai\")"
   ]
  },
  {
   "cell_type": "code",
   "execution_count": null,
   "id": "b161e87f-48db-4b78-88a1-3c2b9e0de93d",
   "metadata": {
    "papermill": {},
    "tags": []
   },
   "outputs": [],
   "source": []
  }
 ],
 "metadata": {
  "kernelspec": {
   "display_name": "Python 3",
   "language": "python",
   "name": "python3"
  },
  "language_info": {
   "codemirror_mode": {
    "name": "ipython",
    "version": 3
   },
   "file_extension": ".py",
   "mimetype": "text/x-python",
   "name": "python",
   "nbconvert_exporter": "python",
   "pygments_lexer": "ipython3",
   "version": "3.9.6"
  },
  "papermill": {
   "default_parameters": {},
   "environment_variables": {},
   "parameters": {},
   "version": "2.3.3"
  },
  "widgets": {
   "application/vnd.jupyter.widget-state+json": {
    "state": {},
    "version_major": 2,
    "version_minor": 0
   }
  }
 },
 "nbformat": 4,
 "nbformat_minor": 5
}
