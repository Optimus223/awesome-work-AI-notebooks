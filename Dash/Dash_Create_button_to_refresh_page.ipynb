{
 "cells": [
  {
   "cell_type": "markdown",
   "id": "319837b0-d90e-4440-97a4-f4435fdbae18",
   "metadata": {
    "papermill": {},
    "tags": []
   },
   "source": [
    "<img width=\"10%\" alt=\"Naas\" src=\"https://landen.imgix.net/jtci2pxwjczr/assets/5ice39g4.png?w=160\"/>"
   ]
  },
  {
   "cell_type": "markdown",
   "id": "d036b92a-2734-43c9-b084-b9e101109e04",
   "metadata": {
    "papermill": {},
    "tags": []
   },
   "source": [
    "# Dash - Create button to refresh page"
   ]
  },
  {
   "cell_type": "markdown",
   "id": "de4a0bb6-3c97-486f-ab1f-ed0d34c2f1f7",
   "metadata": {
    "papermill": {},
    "tags": []
   },
   "source": [
    "**Tags:** #dash #python #button #refresh #page #stackoverflow"
   ]
  },
  {
   "cell_type": "markdown",
   "id": "2853738c-e5e5-45b8-ac95-f37decb7a817",
   "metadata": {
    "papermill": {},
    "tags": []
   },
   "source": [
    "**Author:** [Florent Ravenel](https://www.linkedin.com/in/florent-ravenel/)"
   ]
  },
  {
   "cell_type": "markdown",
   "id": "3bf44485-252d-441d-a375-9e3ace239f54",
   "metadata": {
    "papermill": {},
    "tags": []
   },
   "source": [
    "**Description:** This notebook explains how to create a button in Dash to refresh the page. It is usefull for organizations that need to update their page regularly."
   ]
  },
  {
   "cell_type": "markdown",
   "id": "f4f04bb6-80fa-4dca-b2aa-7fed49d5d885",
   "metadata": {
    "papermill": {},
    "tags": []
   },
   "source": [
    "**References:**\n- [Dash Application Python Button for Refresh the Page](https://stackoverflow.com/questions/60762890/dash-application-python-button-for-refresh-the-page)"
   ]
  },
  {
   "cell_type": "markdown",
   "id": "ce709e17-3abc-4fbb-8289-707b69cf25f0",
   "metadata": {
    "papermill": {},
    "tags": []
   },
   "source": [
    "## Input"
   ]
  },
  {
   "cell_type": "markdown",
   "id": "d6a8e283-9e4f-4f9f-a3f8-755d28833c29",
   "metadata": {
    "papermill": {},
    "tags": []
   },
   "source": [
    "### Import libraries"
   ]
  },
  {
   "cell_type": "code",
   "execution_count": null,
   "id": "ce26a900-b7fc-42c6-b0ac-97185e083386",
   "metadata": {
    "papermill": {},
    "tags": []
   },
   "source": "import dash\nimport dash_html_components as html",
   "outputs": []
  },
  {
   "cell_type": "markdown",
   "id": "4ef76d6b-8c73-4414-adbe-fa67413c1755",
   "metadata": {
    "papermill": {},
    "tags": []
   },
   "source": [
    "### Setup Variables"
   ]
  },
  {
   "cell_type": "markdown",
   "id": "643ac068-0334-4ccb-8863-8fee076d7b5e",
   "metadata": {
    "papermill": {},
    "tags": []
   },
   "source": [
    "\n- `app`: Dash application"
   ]
  },
  {
   "cell_type": "markdown",
   "id": "80bf1005-7ee8-4674-adaa-ac4ea888b329",
   "metadata": {
    "papermill": {},
    "tags": []
   },
   "source": [
    "## Model"
   ]
  },
  {
   "cell_type": "markdown",
   "id": "74ba6a83-8eb6-49eb-a44d-849b897194a1",
   "metadata": {
    "papermill": {},
    "tags": []
   },
   "source": [
    "### Create button to refresh page"
   ]
  },
  {
   "cell_type": "code",
   "execution_count": null,
   "id": "2c1b8bf0-8e89-4156-9df4-d1adffd95256",
   "metadata": {
    "papermill": {},
    "tags": []
   },
   "source": "app.layout = html.Div(\n    [\n        html.Button(\"Refresh Page\", id=\"button\"),\n        html.Div(id=\"output-clientside\"),\n    ]\n)\n\n\n@app.callback(Output(\"output-clientside\", \"children\"), [Input(\"button\", \"n_clicks\")])\ndef refresh_page(n):\n    return",
   "outputs": []
  },
  {
   "cell_type": "markdown",
   "id": "3102fa2b-dfcc-4caf-a803-6770e6aff1c6",
   "metadata": {
    "papermill": {},
    "tags": []
   },
   "source": [
    "## Output"
   ]
  },
  {
   "cell_type": "markdown",
   "id": "7302cb3e-bab4-4f91-b78c-33542823493a",
   "metadata": {
    "papermill": {},
    "tags": []
   },
   "source": [
    "### Display result"
   ]
  },
  {
   "cell_type": "code",
   "execution_count": null,
   "id": "05dfb95d-f963-42ee-9b24-aac84fee3501",
   "metadata": {
    "papermill": {},
    "tags": []
   },
   "source": "if __name__ == \"__main__\":\n    app.run_server(debug=True)",
   "outputs": []
  }
 ],
 "metadata": {
  "kernelspec": {
   "display_name": "Python 3",
   "language": "python",
   "name": "python3"
  },
  "language_info": {
   "codemirror_mode": {
    "name": "ipython",
    "version": 3
   },
   "file_extension": ".py",
   "mimetype": "text/x-python",
   "name": "python",
   "nbconvert_exporter": "python",
   "pygments_lexer": "ipython3",
   "version": "3.9.6"
  },
  "widgets": {
   "application/vnd.jupyter.widget-state+json": {
    "state": {},
    "version_major": 2,
    "version_minor": 0
   }
  }
 },
 "nbformat": 4,
 "nbformat_minor": 5
}