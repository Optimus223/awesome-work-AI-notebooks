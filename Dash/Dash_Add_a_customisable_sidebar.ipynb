{
 "cells": [
  {
   "cell_type": "markdown",
   "id": "dd33afaf-04ae-43a2-afac-befbcb6a4e18",
   "metadata": {
    "papermill": {},
    "tags": []
   },
   "source": [
    "<img width=\"10%\" alt=\"Naas\" src=\"https://landen.imgix.net/jtci2pxwjczr/assets/5ice39g4.png?w=160\"/>"
   ]
  },
  {
   "cell_type": "markdown",
   "id": "b894955f-b4e2-43e0-b007-6410860296aa",
   "metadata": {
    "papermill": {},
    "tags": []
   },
   "source": [
    "# Dash - Add a customisable sidebar"
   ]
  },
  {
   "cell_type": "markdown",
   "id": "a9bd920b-654f-403b-8cb8-e5600e111fe2",
   "metadata": {
    "papermill": {},
    "tags": []
   },
   "source": [
    "**Tags:** #dash #offcanvas #sidebar #customisable #component #library"
   ]
  },
  {
   "cell_type": "markdown",
   "id": "e0aaf121-24bc-495e-8e97-32c756288a02",
   "metadata": {
    "papermill": {},
    "tags": []
   },
   "source": [
    "**Author:** [Florent Ravenel](https://www.linkedin.com/in/florent-ravenel/)"
   ]
  },
  {
   "cell_type": "markdown",
   "id": "a04f45ce-c6b5-4ddd-9c95-9d9b359ba6e8",
   "metadata": {
    "papermill": {},
    "tags": []
   },
   "source": [
    "**Description:** This notebook demonstrates how to use the Offcanvas component to add a customisable sidebar to your apps. It is usefull for organisations that need to add a sidebar to their Dash apps."
   ]
  },
  {
   "cell_type": "markdown",
   "id": "f590f72a-bee4-40cf-bbfe-a6ca8af23938",
   "metadata": {
    "papermill": {},
    "tags": []
   },
   "source": [
    "**References:**\n- [Dash Bootstrap Components - Offcanvas](https://dash-bootstrap-components.opensource.faculty.ai/docs/components/offcanvas/)\n- [Dash Bootstrap Components - Getting Started](https://dash-bootstrap-components.opensource.faculty.ai/docs/getting-started)"
   ]
  },
  {
   "cell_type": "markdown",
   "id": "d1ae48d8-7615-4340-ad96-7972a7c67b41",
   "metadata": {
    "papermill": {},
    "tags": []
   },
   "source": [
    "## Input"
   ]
  },
  {
   "cell_type": "markdown",
   "id": "d3f8da7e-0e07-4dd8-ae6c-4ed5321ad4b9",
   "metadata": {
    "papermill": {},
    "tags": []
   },
   "source": [
    "### Import libraries"
   ]
  },
  {
   "cell_type": "code",
   "execution_count": null,
   "id": "bf1e1e6a-516c-4587-8924-a8f980c72a41",
   "metadata": {
    "papermill": {},
    "tags": []
   },
   "source": "import dash\nimport dash_bootstrap_components as dbc",
   "outputs": []
  },
  {
   "cell_type": "markdown",
   "id": "63c98e53-ba8a-4ee4-aae1-969a62e68519",
   "metadata": {
    "papermill": {},
    "tags": []
   },
   "source": [
    "### Setup Variables\n- `app`: Dash app\n- `sidebar`: Offcanvas component"
   ]
  },
  {
   "cell_type": "markdown",
   "id": "06a94f7b-49d4-450e-b51f-591c8631564b",
   "metadata": {
    "papermill": {},
    "tags": []
   },
   "source": [
    "## Model"
   ]
  },
  {
   "cell_type": "markdown",
   "id": "7d7d8206-c570-49fd-9286-7a54c9c2dbc2",
   "metadata": {
    "papermill": {},
    "tags": []
   },
   "source": [
    "### Create Offcanvas component"
   ]
  },
  {
   "cell_type": "markdown",
   "id": "2d2548d2-964b-4228-b1f5-5db673a0ce67",
   "metadata": {
    "papermill": {},
    "tags": []
   },
   "source": [
    "Long description of the function: The Offcanvas component is a customisable sidebar that can be used to add content to your Dash apps. It is created using the `dbc.Offcanvas` function."
   ]
  },
  {
   "cell_type": "code",
   "execution_count": null,
   "id": "f20b1e85-7a9c-46f7-88c9-4ec6b79a5e03",
   "metadata": {
    "papermill": {},
    "tags": []
   },
   "source": "app = dash.Dash(__name__, external_stylesheets=[dbc.themes.BOOTSTRAP])\nsidebar = dbc.Offcanvas(\n    [\n        dbc.Nav(\n            [\n                dbc.NavLink(\"Page 1\", href=\"/page-1\", id=\"page-1-link\"),\n                dbc.NavLink(\"Page 2\", href=\"/page-2\", id=\"page-2-link\"),\n            ],\n            vertical=True,\n            in_navbar=False,\n        ),\n    ],\n    id=\"offcanvas\",\n    is_open=True,\n    toggle_style={\"background-color\": \"#f5f5f5\"},\n    position=\"left\",\n    fixed=True,\n)",
   "outputs": []
  },
  {
   "cell_type": "markdown",
   "id": "4a1e67c5-375e-46e6-8a2d-32a620e9f33a",
   "metadata": {
    "papermill": {},
    "tags": []
   },
   "source": [
    "## Output"
   ]
  },
  {
   "cell_type": "markdown",
   "id": "e16d2f2e-1ac2-4517-96e6-03b4392db42d",
   "metadata": {
    "papermill": {},
    "tags": []
   },
   "source": [
    "### Display result"
   ]
  },
  {
   "cell_type": "code",
   "execution_count": null,
   "id": "88b95fa6-85b2-455b-9ebb-bf778ef974d1",
   "metadata": {
    "papermill": {},
    "tags": []
   },
   "source": "app.layout = dbc.Container(\n    [\n        dbc.Row(\n            [\n                dbc.Col(\n                    [\n                        dbc.Button(\n                            \"Open sidebar\", id=\"open-offcanvas\", className=\"mb-3\"\n                        ),\n                        html.Div(\n                            [\n                                html.H2(\"Page content\"),\n                                html.P(\n                                    \"\"\"Lorem ipsum dolor sit amet, consectetur adipiscing elit, sed do eiusmod tempor incididunt ut labore et dolore magna aliqua. Ut enim ad minim veniam, quis nostrud exercitation ullamco laboris nisi ut aliquip ex ea commodo consequat. Duis aute irure dolor in reprehenderit in voluptate velit esse cillum dolore eu fugiat nulla pariatur. Excepteur sint occaecat cupidatat non proident, sunt in culpa qui officia deserunt mollit anim id est laborum.\"\"\"\n                                ),\n                            ]\n                        ),\n                    ],\n                    md=8,\n                ),\n                dbc.Col(sidebar, md=4),\n            ]\n        )\n    ],\n    fluid=True,\n)",
   "outputs": []
  },
  {
   "cell_type": "markdown",
   "id": "719fd1ab-1cf4-4554-a131-5c217cac959e",
   "metadata": {
    "papermill": {},
    "tags": []
   },
   "source": [
    " "
   ]
  }
 ],
 "metadata": {
  "kernelspec": {
   "display_name": "Python 3",
   "language": "python",
   "name": "python3"
  },
  "language_info": {
   "codemirror_mode": {
    "name": "ipython",
    "version": 3
   },
   "file_extension": ".py",
   "mimetype": "text/x-python",
   "name": "python",
   "nbconvert_exporter": "python",
   "pygments_lexer": "ipython3",
   "version": "3.9.6"
  },
  "widgets": {
   "application/vnd.jupyter.widget-state+json": {
    "state": {},
    "version_major": 2,
    "version_minor": 0
   }
  }
 },
 "nbformat": 4,
 "nbformat_minor": 5
}