{
 "cells": [
  {
   "cell_type": "markdown",
   "id": "latin-packing",
   "metadata": {
    "execution": {
     "iopub.execute_input": "2021-02-23T14:22:16.610471Z",
     "iopub.status.busy": "2021-02-23T14:22:16.610129Z",
     "iopub.status.idle": "2021-02-23T14:22:16.627784Z",
     "shell.execute_reply": "2021-02-23T14:22:16.626866Z",
     "shell.execute_reply.started": "2021-02-23T14:22:16.610384Z"
    },
    "papermill": {},
    "tags": []
   },
   "source": [
    "<img width=\"10%\" alt=\"Naas\" src=\"https://landen.imgix.net/jtci2pxwjczr/assets/5ice39g4.png?w=160\"/>"
   ]
  },
  {
   "cell_type": "markdown",
   "id": "compressed-wilson",
   "metadata": {
    "papermill": {},
    "tags": []
   },
   "source": [
    "# Dash - Create DataTable updated through Dropdown CallBack\n",
    "<a href=\"https://app.naas.ai/user-redirect/naas/downloader?url=https://raw.githubusercontent.com/jupyter-naas/awesome-notebooks/master/Dash/Dash_Create_Dropdown_Callback.ipynb\" target=\"_parent\"><img src=\"https://naasai-public.s3.eu-west-3.amazonaws.com/open_in_naas.svg\"/></a>"
   ]
  },
  {
   "cell_type": "markdown",
   "id": "religious-programmer",
   "metadata": {
    "papermill": {},
    "tags": []
   },
   "source": [
    "**Tags:** #dashboard #plotly #dash #naas #asset #analytics #dropdown #callback #bootstrap"
   ]
  },
  {
   "cell_type": "markdown",
   "id": "1fe9f56e-561c-4f52-aef8-b861c9462107",
   "metadata": {
    "papermill": {},
    "tags": []
   },
   "source": [
    "**Author:** [Ismail Chihab](https://www.linkedin.com/in/ismail-chihab-4b0a04202/)"
   ]
  },
  {
   "cell_type": "markdown",
   "id": "96f20bb5-d815-4a57-aca7-9397b8677b3e",
   "metadata": {
    "papermill": {},
    "tags": []
   },
   "source": [
    "Create a basic table that can be updated through a dcc.dropdown menu."
   ]
  },
  {
   "cell_type": "markdown",
   "id": "b3c038bc-7e50-40c4-83aa-b3f8d6302eba",
   "metadata": {
    "papermill": {},
    "tags": []
   },
   "source": [
    "<u>Reference:</u> https://dash.plotly.com/datatable"
   ]
  },
  {
   "cell_type": "markdown",
   "id": "distinguished-truth",
   "metadata": {
    "papermill": {},
    "tags": []
   },
   "source": [
    "## Input"
   ]
  },
  {
   "cell_type": "markdown",
   "id": "numeric-mediterranean",
   "metadata": {
    "papermill": {},
    "tags": []
   },
   "source": [
    "### Import libraries"
   ]
  },
  {
   "cell_type": "code",
   "execution_count": 1,
   "id": "68ed1f03-e836-4410-aca9-63114fcd8b9f",
   "metadata": {
    "execution": {
     "iopub.execute_input": "2022-08-26T08:56:31.361682Z",
     "iopub.status.busy": "2022-08-26T08:56:31.361233Z",
     "iopub.status.idle": "2022-08-26T08:56:32.746114Z",
     "shell.execute_reply": "2022-08-26T08:56:32.745412Z",
     "shell.execute_reply.started": "2022-08-26T08:56:31.361613Z"
    },
    "papermill": {},
    "tags": []
   },
   "outputs": [],
   "source": [
    "import os\n",
    "import dash\n",
    "from dash import html, Input, Output, dcc, dash_table\n",
    "import dash_bootstrap_components as dbc\n",
    "import pandas as pd"
   ]
  },
  {
   "cell_type": "markdown",
   "id": "aggressive-trustee",
   "metadata": {
    "papermill": {},
    "tags": []
   },
   "source": [
    "### Setup Variables"
   ]
  },
  {
   "cell_type": "code",
   "execution_count": 2,
   "id": "continuous-melbourne",
   "metadata": {
    "execution": {
     "iopub.execute_input": "2022-08-26T08:56:32.748089Z",
     "iopub.status.busy": "2022-08-26T08:56:32.747636Z",
     "iopub.status.idle": "2022-08-26T08:56:32.754934Z",
     "shell.execute_reply": "2022-08-26T08:56:32.754364Z",
     "shell.execute_reply.started": "2022-08-26T08:56:32.748057Z"
    },
    "papermill": {},
    "tags": []
   },
   "outputs": [],
   "source": [
    "DASH_PORT = 8050"
   ]
  },
  {
   "cell_type": "markdown",
   "id": "registered-showcase",
   "metadata": {
    "papermill": {},
    "tags": []
   },
   "source": [
    "## Model"
   ]
  },
  {
   "cell_type": "markdown",
   "id": "22ac3f9c-2067-4a13-a0c5-9d4d249d5693",
   "metadata": {
    "papermill": {},
    "tags": []
   },
   "source": [
    "### Create dropdown"
   ]
  },
  {
   "cell_type": "code",
   "execution_count": 7,
   "id": "598c9847-4596-4677-afa0-fecfb6c7754e",
   "metadata": {
    "execution": {
     "iopub.execute_input": "2022-08-26T09:00:43.996233Z",
     "iopub.status.busy": "2022-08-26T09:00:43.995934Z",
     "iopub.status.idle": "2022-08-26T09:00:44.038284Z",
     "shell.execute_reply": "2022-08-26T09:00:44.030019Z",
     "shell.execute_reply.started": "2022-08-26T09:00:43.996203Z"
    },
    "papermill": {},
    "tags": []
   },
   "outputs": [
    {
     "name": "stdout",
     "output_type": "stream",
     "text": [
      "   col1  col2  col3\n",
      "0     0     1     2\n",
      "1     0     6     4\n",
      "2     6     7     1\n",
      "3     0     1     2\n",
      "4     3     4     5\n"
     ]
    }
   ],
   "source": [
    "app = dash.Dash(\n",
    "    requests_pathname_prefix=f'/user/{os.environ.get(\"JUPYTERHUB_USER\")}/proxy/{DASH_PORT}/', \n",
    "    external_stylesheets=[dbc.themes.BOOTSTRAP],\n",
    "    meta_tags=[{'name':'viewport', 'content':'width=device-width, initial-scale=1.0'}]\n",
    ")\n",
    "column_name=[\"col1\", \"col2\", \"col3\"]\n",
    "data= [[0, 1, 2], [0, 6, 4], [6, 7, 1], [0, 1, 2], [3, 4, 5]]\n",
    "df =pd.DataFrame(data, columns=column_name)\n",
    "print(df)\n",
    "\n",
    "app.layout = html.Div(\n",
    "    [\n",
    "        dcc.Dropdown(['option1', 'otion2', 'option3'], 'option1', id='demo-dropdown'),\n",
    "        html.Div(id='dd-output-container')\n",
    "    ]\n",
    ")\n",
    "\n",
    "@app.callback(\n",
    "    Output('dd-output-container', 'children'),\n",
    "    Input('demo-dropdown', 'value')\n",
    ")\n",
    "def update_output(value):\n",
    "    dff=pd.DataFrame(df.copy())\n",
    "    if value=='option1':\n",
    "        ndf=pd.DataFrame([dff['col1']==0])\n",
    "        dff_dict=ndf.to_dict('records')\n",
    "    elif value=='option2':\n",
    "        ndf=pd.DataFrame([dff['col1']==3])\n",
    "        dff_dict=ndf.to_dict('records')\n",
    "    columns=[{\"name\": i, \"id\": i} for i in dff.columns]\n",
    "    return dash_table.DataTable(data=dff_dict, columns=columns)"
   ]
  },
  {
   "cell_type": "markdown",
   "id": "lonely-pacific",
   "metadata": {
    "execution": {
     "iopub.execute_input": "2021-07-02T23:32:10.789097Z",
     "iopub.status.busy": "2021-07-02T23:32:10.788829Z",
     "iopub.status.idle": "2021-07-02T23:32:10.796900Z",
     "shell.execute_reply": "2021-07-02T23:32:10.796358Z",
     "shell.execute_reply.started": "2021-07-02T23:32:10.789033Z"
    },
    "papermill": {},
    "tags": []
   },
   "source": [
    "## Output"
   ]
  },
  {
   "cell_type": "markdown",
   "id": "890f7c86-b7bb-4f5d-9a1b-e492dd9580fd",
   "metadata": {
    "papermill": {},
    "tags": []
   },
   "source": [
    "### Generate URL and show logs"
   ]
  },
  {
   "cell_type": "code",
   "execution_count": 8,
   "id": "9c4e3b7b-6440-4844-8054-265f1aec65eb",
   "metadata": {
    "execution": {
     "iopub.execute_input": "2022-08-26T09:00:47.812474Z",
     "iopub.status.busy": "2022-08-26T09:00:47.812246Z",
     "iopub.status.idle": "2022-08-26T09:05:34.537804Z",
     "shell.execute_reply": "2022-08-26T09:05:34.536741Z",
     "shell.execute_reply.started": "2022-08-26T09:00:47.812452Z"
    },
    "papermill": {},
    "tags": []
   },
   "outputs": [
    {
     "name": "stdout",
     "output_type": "stream",
     "text": [
      "Dash is running on https://app.naas.ai/user/ismailchihab71@gmail.com/proxy/8050/\n",
      "\n",
      "Dash is running on https://app.naas.ai/user/ismailchihab71@gmail.com/proxy/8050/\n",
      "\n",
      "Dash is running on https://app.naas.ai/user/ismailchihab71@gmail.com/proxy/8050/\n",
      "\n",
      "\u001b[31m\u001b[1mWARNING: This is a development server. Do not use it in a production deployment. Use a production WSGI server instead.\u001b[0m\n",
      " * Serving Flask app '__main__'\n",
      " * Debug mode: off\n"
     ]
    },
    {
     "name": "stderr",
     "output_type": "stream",
     "text": [
      " * Running on http://127.0.0.1:8050 (Press CTRL+C to quit)\n",
      "127.0.0.1 - - [26/Aug/2022 11:00:51] \"GET / HTTP/1.1\" 200 -\n",
      "127.0.0.1 - - [26/Aug/2022 11:00:52] \"GET /_dash-layout HTTP/1.1\" 200 -\n",
      "127.0.0.1 - - [26/Aug/2022 11:00:52] \"GET /_dash-dependencies HTTP/1.1\" 200 -\n",
      "127.0.0.1 - - [26/Aug/2022 11:00:52] \"GET /_favicon.ico?v=2.6.1 HTTP/1.1\" 200 -\n",
      "127.0.0.1 - - [26/Aug/2022 11:00:52] \"GET /_dash-component-suites/dash/dcc/async-dropdown.js HTTP/1.1\" 200 -\n",
      "127.0.0.1 - - [26/Aug/2022 11:00:52] \"POST /_dash-update-component HTTP/1.1\" 200 -\n",
      "127.0.0.1 - - [26/Aug/2022 11:00:52] \"GET /_dash-component-suites/dash/dash_table/async-table.js HTTP/1.1\" 200 -\n",
      "127.0.0.1 - - [26/Aug/2022 11:00:52] \"GET /_dash-component-suites/dash/dash_table/async-highlight.js HTTP/1.1\" 200 -\n"
     ]
    },
    {
     "name": "stdout",
     "output_type": "stream",
     "text": [
      "Exception on /_dash-update-component [POST]\n",
      "Traceback (most recent call last):\n",
      "  File \"/home/ftp/.local/lib/python3.9/site-packages/flask/app.py\", line 2525, in wsgi_app\n",
      "    response = self.full_dispatch_request()\n",
      "  File \"/home/ftp/.local/lib/python3.9/site-packages/flask/app.py\", line 1822, in full_dispatch_request\n",
      "    rv = self.handle_user_exception(e)\n",
      "  File \"/home/ftp/.local/lib/python3.9/site-packages/flask/app.py\", line 1820, in full_dispatch_request\n",
      "    rv = self.dispatch_request()\n",
      "  File \"/home/ftp/.local/lib/python3.9/site-packages/flask/app.py\", line 1796, in dispatch_request\n",
      "    return self.ensure_sync(self.view_functions[rule.endpoint])(**view_args)\n",
      "  File \"/home/ftp/.local/lib/python3.9/site-packages/dash/dash.py\", line 1259, in dispatch\n",
      "    ctx.run(\n",
      "  File \"/home/ftp/.local/lib/python3.9/site-packages/dash/_callback.py\", line 439, in add_context\n",
      "    output_value = func(*func_args, **func_kwargs)  # %% callback invoked %%\n",
      "  File \"<ipython-input-7-fbf2e4e495f4>\", line 31, in update_output\n",
      "    return dash_table.DataTable(data=dff_dict, columns=columns)\n",
      "UnboundLocalError: local variable 'dff_dict' referenced before assignment\n",
      "Exception on /_dash-update-component [POST]\n",
      "Traceback (most recent call last):\n",
      "  File \"/home/ftp/.local/lib/python3.9/site-packages/flask/app.py\", line 2525, in wsgi_app\n",
      "    response = self.full_dispatch_request()\n",
      "  File \"/home/ftp/.local/lib/python3.9/site-packages/flask/app.py\", line 1822, in full_dispatch_request\n",
      "    rv = self.handle_user_exception(e)\n",
      "  File \"/home/ftp/.local/lib/python3.9/site-packages/flask/app.py\", line 1820, in full_dispatch_request\n",
      "    rv = self.dispatch_request()\n",
      "  File \"/home/ftp/.local/lib/python3.9/site-packages/flask/app.py\", line 1796, in dispatch_request\n",
      "    return self.ensure_sync(self.view_functions[rule.endpoint])(**view_args)\n",
      "  File \"/home/ftp/.local/lib/python3.9/site-packages/dash/dash.py\", line 1259, in dispatch\n",
      "    ctx.run(\n",
      "  File \"/home/ftp/.local/lib/python3.9/site-packages/dash/_callback.py\", line 439, in add_context\n",
      "    output_value = func(*func_args, **func_kwargs)  # %% callback invoked %%\n",
      "  File \"<ipython-input-7-fbf2e4e495f4>\", line 31, in update_output\n",
      "    return dash_table.DataTable(data=dff_dict, columns=columns)\n",
      "UnboundLocalError: local variable 'dff_dict' referenced before assignment\n",
      "Exception on /_dash-update-component [POST]\n",
      "Traceback (most recent call last):\n",
      "  File \"/home/ftp/.local/lib/python3.9/site-packages/flask/app.py\", line 2525, in wsgi_app\n",
      "    response = self.full_dispatch_request()\n",
      "  File \"/home/ftp/.local/lib/python3.9/site-packages/flask/app.py\", line 1822, in full_dispatch_request\n",
      "    rv = self.handle_user_exception(e)\n",
      "  File \"/home/ftp/.local/lib/python3.9/site-packages/flask/app.py\", line 1820, in full_dispatch_request\n",
      "    rv = self.dispatch_request()\n",
      "  File \"/home/ftp/.local/lib/python3.9/site-packages/flask/app.py\", line 1796, in dispatch_request\n",
      "    return self.ensure_sync(self.view_functions[rule.endpoint])(**view_args)\n",
      "  File \"/home/ftp/.local/lib/python3.9/site-packages/dash/dash.py\", line 1259, in dispatch\n",
      "    ctx.run(\n",
      "  File \"/home/ftp/.local/lib/python3.9/site-packages/dash/_callback.py\", line 439, in add_context\n",
      "    output_value = func(*func_args, **func_kwargs)  # %% callback invoked %%\n",
      "  File \"<ipython-input-7-fbf2e4e495f4>\", line 31, in update_output\n",
      "    return dash_table.DataTable(data=dff_dict, columns=columns)\n",
      "UnboundLocalError: local variable 'dff_dict' referenced before assignment\n"
     ]
    },
    {
     "name": "stderr",
     "output_type": "stream",
     "text": [
      "127.0.0.1 - - [26/Aug/2022 11:01:00] \"POST /_dash-update-component HTTP/1.1\" 500 -\n"
     ]
    }
   ],
   "source": [
    "if __name__ == '__main__':\n",
    "    app.run_server(proxy=f\"http://127.0.0.1:{DASH_PORT}::https://app.naas.ai\")"
   ]
  },
  {
   "cell_type": "code",
   "execution_count": null,
   "id": "0b303d9a-986f-4ade-9d5c-bf39250f0a08",
   "metadata": {},
   "outputs": [],
   "source": []
  }
 ],
 "metadata": {
  "kernelspec": {
   "display_name": "Python 3",
   "language": "python",
   "name": "python3"
  },
  "language_info": {
   "codemirror_mode": {
    "name": "ipython",
    "version": 3
   },
   "file_extension": ".py",
   "mimetype": "text/x-python",
   "name": "python",
   "nbconvert_exporter": "python",
   "pygments_lexer": "ipython3",
   "version": "3.9.6"
  },
  "papermill": {
   "default_parameters": {},
   "environment_variables": {},
   "parameters": {},
   "version": "2.3.3"
  },
  "widgets": {
   "application/vnd.jupyter.widget-state+json": {
    "state": {},
    "version_major": 2,
    "version_minor": 0
   }
  }
 },
 "nbformat": 4,
 "nbformat_minor": 5
}
