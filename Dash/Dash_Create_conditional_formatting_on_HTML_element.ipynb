{
 "cells": [
  {
   "cell_type": "markdown",
   "id": "f2814c1e-dc4f-49ea-b333-396ad37cf4f5",
   "metadata": {
    "papermill": {},
    "tags": []
   },
   "source": [
    "<img width=\"10%\" alt=\"Naas\" src=\"https://landen.imgix.net/jtci2pxwjczr/assets/5ice39g4.png?w=160\"/>"
   ]
  },
  {
   "cell_type": "markdown",
   "id": "45d740c2-fb0a-4f61-a5e6-dcd37ebad163",
   "metadata": {
    "papermill": {},
    "tags": []
   },
   "source": [
    "# Dash - Create conditional formatting of an HTML element"
   ]
  },
  {
   "cell_type": "markdown",
   "id": "0dc8f387-e4fd-4ea4-9bd1-89e6b47c08e1",
   "metadata": {
    "papermill": {},
    "tags": []
   },
   "source": [
    "**Tags:** #dash #html #conditional #formatting #element #plotly"
   ]
  },
  {
   "cell_type": "markdown",
   "id": "d13a1a63-07ec-4157-aec3-8659933d745f",
   "metadata": {
    "papermill": {},
    "tags": []
   },
   "source": [
    "**Author:** [Florent Ravenel](https://www.linkedin.com/in/florent-ravenel/)"
   ]
  },
  {
   "cell_type": "markdown",
   "id": "38e670f1-a5f4-4a0f-832a-9271b0157139",
   "metadata": {
    "papermill": {},
    "tags": []
   },
   "source": [
    "**Description:** This notebook will show how to create conditional formatting of an HTML element using Dash."
   ]
  },
  {
   "cell_type": "markdown",
   "id": "cd40cc91-a07e-4d67-b5e3-091676ea3fa0",
   "metadata": {
    "papermill": {},
    "tags": []
   },
   "source": [
    "**References:**\n",
    "- https://community.plotly.com/t/conditional-formatting-of-an-html-element/60230/2\n",
    "- https://dash.plotly.com/"
   ]
  },
  {
   "cell_type": "markdown",
   "id": "a1e08311-05fa-4853-940f-4ac042e18a13",
   "metadata": {
    "papermill": {},
    "tags": []
   },
   "source": [
    "## Input"
   ]
  },
  {
   "cell_type": "markdown",
   "id": "7bdcda07-1623-4ca1-91eb-d47ce1132b9c",
   "metadata": {
    "papermill": {},
    "tags": []
   },
   "source": [
    "### Import libraries"
   ]
  },
  {
   "cell_type": "code",
   "execution_count": 1,
   "id": "d88883d7-666f-4d82-bcb1-56d2995d6795",
   "metadata": {
    "execution": {
     "iopub.execute_input": "2023-05-24T09:59:41.453929Z",
     "iopub.status.busy": "2023-05-24T09:59:41.453243Z",
     "iopub.status.idle": "2023-05-24T09:59:43.324108Z",
     "shell.execute_reply": "2023-05-24T09:59:43.322415Z",
     "shell.execute_reply.started": "2023-05-24T09:59:41.453853Z"
    },
    "papermill": {},
    "tags": []
   },
   "outputs": [],
   "source": [
    "import os\n",
    "try:\n",
    "    import dash\n",
    "except:\n",
    "    !pip install dash --user\n",
    "    import dash\n",
    "try:\n",
    "    import dash_bootstrap_components as dbc\n",
    "except:\n",
    "    !pip install dash_bootstrap_components --user\n",
    "    import dash_bootstrap_components as dbc\n",
    "from dash import html, dcc, Output, Input, State"
   ]
  },
  {
   "cell_type": "markdown",
   "id": "a86822d9-df3d-4138-ab3f-ef3fb02625f6",
   "metadata": {
    "papermill": {},
    "tags": []
   },
   "source": [
    "### Setup Variables\n",
    "- `DASH_PORT`: specify a port number for Dash"
   ]
  },
  {
   "cell_type": "code",
   "execution_count": 2,
   "id": "3c2fec45-d531-479b-93b0-6d0769411a3e",
   "metadata": {
    "execution": {
     "iopub.execute_input": "2023-05-24T09:59:43.325489Z",
     "iopub.status.busy": "2023-05-24T09:59:43.325247Z",
     "iopub.status.idle": "2023-05-24T09:59:43.335563Z",
     "shell.execute_reply": "2023-05-24T09:59:43.334856Z",
     "shell.execute_reply.started": "2023-05-24T09:59:43.325457Z"
    },
    "papermill": {},
    "tags": []
   },
   "outputs": [],
   "source": [
    "DASH_PORT = 8050"
   ]
  },
  {
   "cell_type": "markdown",
   "id": "36aeb318-670a-4576-a447-fc89b11bf4f4",
   "metadata": {
    "papermill": {},
    "tags": []
   },
   "source": [
    "## Model"
   ]
  },
  {
   "cell_type": "markdown",
   "id": "88b6f3b2-a922-4fdd-b8ff-df9179ef4054",
   "metadata": {
    "papermill": {},
    "tags": []
   },
   "source": [
    "### Initialize Dash app"
   ]
  },
  {
   "cell_type": "code",
   "execution_count": 3,
   "id": "83f2f67d-d17f-4c9a-80a2-9e8d69793acf",
   "metadata": {
    "execution": {
     "iopub.execute_input": "2023-05-24T09:59:43.341033Z",
     "iopub.status.busy": "2023-05-24T09:59:43.340673Z",
     "iopub.status.idle": "2023-05-24T09:59:43.470935Z",
     "shell.execute_reply": "2023-05-24T09:59:43.469512Z",
     "shell.execute_reply.started": "2023-05-24T09:59:43.341002Z"
    },
    "papermill": {},
    "tags": []
   },
   "outputs": [],
   "source": [
    "app = dash.Dash(\n",
    "    requests_pathname_prefix=f'/user/{os.environ.get(\"JUPYTERHUB_USER\")}/proxy/{DASH_PORT}/',\n",
    "    external_stylesheets=[dbc.themes.BOOTSTRAP],\n",
    "    meta_tags=[\n",
    "        {\"name\": \"viewport\", \"content\": \"width=device-width, initial-scale=1.0\"}\n",
    "    ],\n",
    ")\n",
    "\n",
    "# app = dash.Dash() if you are not in Naas"
   ]
  },
  {
   "cell_type": "markdown",
   "id": "3433d32c-8fcb-4d5f-98d5-ed522626dca2",
   "metadata": {
    "papermill": {},
    "tags": []
   },
   "source": [
    "### Create app layout"
   ]
  },
  {
   "cell_type": "code",
   "execution_count": 4,
   "id": "adad318f-6f98-4d91-bd3b-90fce150e469",
   "metadata": {
    "execution": {
     "iopub.execute_input": "2023-05-24T09:59:43.473227Z",
     "iopub.status.busy": "2023-05-24T09:59:43.472579Z",
     "iopub.status.idle": "2023-05-24T09:59:43.565608Z",
     "shell.execute_reply": "2023-05-24T09:59:43.565025Z",
     "shell.execute_reply.started": "2023-05-24T09:59:43.473191Z"
    },
    "papermill": {},
    "tags": []
   },
   "outputs": [],
   "source": [
    "app.title = \"Naas\"\n",
    "app.layout = html.Div(\n",
    "    [\n",
    "        html.H1(\"Enter your color in HEX\"),\n",
    "        dcc.Input(id=\"input\"),\n",
    "        html.H4(id=\"heading\", children=\"A Heading\")\n",
    "    ]\n",
    ")\n",
    "\n",
    "@app.callback(\n",
    "    Output(\"heading\", \"style\"),\n",
    "    Input(\"input\", \"value\")\n",
    ")\n",
    "def update_style(value):\n",
    "    return {\n",
    "        \"color\": value\n",
    "    }"
   ]
  },
  {
   "cell_type": "markdown",
   "id": "66800589-b3d7-4796-aa6b-a879395beab3",
   "metadata": {
    "execution": {
     "iopub.execute_input": "2021-07-02T23:32:10.789097Z",
     "iopub.status.busy": "2021-07-02T23:32:10.788829Z",
     "iopub.status.idle": "2021-07-02T23:32:10.796900Z",
     "shell.execute_reply": "2021-07-02T23:32:10.796358Z",
     "shell.execute_reply.started": "2021-07-02T23:32:10.789033Z"
    },
    "papermill": {},
    "tags": []
   },
   "source": [
    "## Output"
   ]
  },
  {
   "cell_type": "markdown",
   "id": "617b92c8-5f1c-4792-b9b7-3223b180baba",
   "metadata": {
    "papermill": {},
    "tags": []
   },
   "source": [
    "### Generate URL and show logs"
   ]
  },
  {
   "cell_type": "code",
   "execution_count": 5,
   "id": "39bdca3c-146d-4f39-b58c-b92f2531c203",
   "metadata": {
    "execution": {
     "iopub.execute_input": "2023-05-24T09:59:43.566831Z",
     "iopub.status.busy": "2023-05-24T09:59:43.566588Z",
     "iopub.status.idle": "2023-05-24T10:00:15.103056Z",
     "shell.execute_reply": "2023-05-24T10:00:15.102050Z",
     "shell.execute_reply.started": "2023-05-24T09:59:43.566803Z"
    },
    "papermill": {},
    "tags": []
   },
   "outputs": [
    {
     "name": "stdout",
     "output_type": "stream",
     "text": [
      "Dash is running on https://app.naas.ai/user/florent@naas.ai/proxy/8050/\n",
      "\n",
      " * Serving Flask app '__main__'\n",
      " * Debug mode: off\n"
     ]
    },
    {
     "name": "stderr",
     "output_type": "stream",
     "text": [
      "WARNING: This is a development server. Do not use it in a production deployment. Use a production WSGI server instead.\n",
      " * Running on http://127.0.0.1:8050\n",
      "Press CTRL+C to quit\n",
      "127.0.0.1 - - [24/May/2023 11:59:47] \"GET / HTTP/1.1\" 200 -\n",
      "127.0.0.1 - - [24/May/2023 11:59:48] \"GET /_dash-dependencies HTTP/1.1\" 200 -\n",
      "127.0.0.1 - - [24/May/2023 11:59:48] \"GET /_dash-layout HTTP/1.1\" 200 -\n",
      "127.0.0.1 - - [24/May/2023 11:59:48] \"POST /_dash-update-component HTTP/1.1\" 200 -\n",
      "127.0.0.1 - - [24/May/2023 11:59:48] \"GET /_favicon.ico?v=2.9.2 HTTP/1.1\" 200 -\n"
     ]
    }
   ],
   "source": [
    "if __name__ == \"__main__\":\n",
    "    app.run_server(proxy=f\"http://127.0.0.1:{DASH_PORT}::https://app.naas.ai\")"
   ]
  },
  {
   "cell_type": "code",
   "execution_count": null,
   "id": "11986286-9428-41ec-88c6-a0f30ba55773",
   "metadata": {},
   "outputs": [],
   "source": []
  }
 ],
 "metadata": {
  "kernelspec": {
   "display_name": "Python 3",
   "language": "python",
   "name": "python3"
  },
  "language_info": {
   "codemirror_mode": {
    "name": "ipython",
    "version": 3
   },
   "file_extension": ".py",
   "mimetype": "text/x-python",
   "name": "python",
   "nbconvert_exporter": "python",
   "pygments_lexer": "ipython3",
   "version": "3.9.6"
  },
  "widgets": {
   "application/vnd.jupyter.widget-state+json": {
    "state": {},
    "version_major": 2,
    "version_minor": 0
   }
  }
 },
 "nbformat": 4,
 "nbformat_minor": 5
}
