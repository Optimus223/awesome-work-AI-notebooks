{
 "cells": [
  {
   "cell_type": "markdown",
   "id": "3631f954-3b6f-4bde-989b-93a727c371d4",
   "metadata": {
    "papermill": {},
    "tags": []
   },
   "source": [
    "<img width=\"10%\" alt=\"Naas\" src=\"https://landen.imgix.net/jtci2pxwjczr/assets/5ice39g4.png?w=160\"/>"
   ]
  },
  {
   "cell_type": "markdown",
   "id": "52eaf83d-58a6-4efa-816a-7900e8af7938",
   "metadata": {
    "papermill": {},
    "tags": []
   },
   "source": [
    "# Dash - Create download button"
   ]
  },
  {
   "cell_type": "markdown",
   "id": "4008031f-a99f-413c-8cc4-bbfaa571cc43",
   "metadata": {
    "papermill": {},
    "tags": []
   },
   "source": [
    "**Tags:** #dash #button #download #create #python #library"
   ]
  },
  {
   "cell_type": "markdown",
   "id": "df8139ba-3114-4410-b2f6-a0de93f0d3a4",
   "metadata": {
    "papermill": {},
    "tags": []
   },
   "source": [
    "**Author:** [Florent Ravenel](https://www.linkedin.com/in/florent-ravenel/)"
   ]
  },
  {
   "cell_type": "markdown",
   "id": "723fcf1e-8654-4d87-b54d-70c5c8fc3ea2",
   "metadata": {
    "papermill": {},
    "tags": []
   },
   "source": [
    "**Description:** This notebook will show how to create a download button with Dash. It is usefull for organizations that need to provide a download button for their users."
   ]
  },
  {
   "cell_type": "markdown",
   "id": "2ff81b89-8cb2-4660-847e-6667b0b23125",
   "metadata": {
    "papermill": {},
    "tags": []
   },
   "source": [
    "**References:**\n- [Dash Bootstrap Components](https://dash-bootstrap-components.opensource.faculty.ai/docs/components/button/)\n- [Dash Documentation](https://dash.plot.ly/dash-core-components/download)"
   ]
  },
  {
   "cell_type": "markdown",
   "id": "89e88d7b-4499-467e-9d4f-90dd7cb2e2e9",
   "metadata": {
    "papermill": {},
    "tags": []
   },
   "source": [
    "## Input"
   ]
  },
  {
   "cell_type": "markdown",
   "id": "6540167f-4189-45ce-9fcf-7d66a4e3ea69",
   "metadata": {
    "papermill": {},
    "tags": []
   },
   "source": [
    "### Import libraries"
   ]
  },
  {
   "cell_type": "code",
   "execution_count": null,
   "id": "06e65ba1-9100-4a39-a70c-36805fe8cfd9",
   "metadata": {
    "papermill": {},
    "tags": []
   },
   "source": "import dash\nimport dash_bootstrap_components as dbc",
   "outputs": []
  },
  {
   "cell_type": "markdown",
   "id": "79b99a24-81bf-4494-8429-4e1f2fbfa390",
   "metadata": {
    "papermill": {},
    "tags": []
   },
   "source": [
    "### Setup Variables\n- `app`: Dash app\n- `download_link`: Link to the file to be downloaded"
   ]
  },
  {
   "cell_type": "markdown",
   "id": "455c5aaf-6849-4337-ac61-167332dd6118",
   "metadata": {
    "papermill": {},
    "tags": []
   },
   "source": [
    "## Model"
   ]
  },
  {
   "cell_type": "markdown",
   "id": "25709882-5780-47f3-90d0-971a46b1983c",
   "metadata": {
    "papermill": {},
    "tags": []
   },
   "source": [
    "### Create download button"
   ]
  },
  {
   "cell_type": "markdown",
   "id": "0d3dbb2d-7ba2-4081-9ff3-87c7ffe6ec6d",
   "metadata": {
    "papermill": {},
    "tags": []
   },
   "source": [
    "This function will create a download button with Dash."
   ]
  },
  {
   "cell_type": "code",
   "execution_count": null,
   "id": "9d58028c-64aa-4831-a440-b09c31a9091e",
   "metadata": {
    "papermill": {},
    "tags": []
   },
   "source": "def create_download_button(app, download_link):\n    button = dbc.Button(\n        \"Download\",\n        id=\"download-button\",\n        className=\"mb-3\",\n        color=\"primary\",\n        href=download_link,\n        external_link=True,\n    )\n    return button",
   "outputs": []
  },
  {
   "cell_type": "markdown",
   "id": "9ae4408d-ecc8-49e3-bacc-943a5045f671",
   "metadata": {
    "papermill": {},
    "tags": []
   },
   "source": [
    "## Output"
   ]
  },
  {
   "cell_type": "markdown",
   "id": "c1959d63-c66b-4eed-ac81-8f278f7e6637",
   "metadata": {
    "papermill": {},
    "tags": []
   },
   "source": [
    "### Display result"
   ]
  },
  {
   "cell_type": "code",
   "execution_count": null,
   "id": "618034d9-c0c9-4be3-b579-99b11b31741d",
   "metadata": {
    "papermill": {},
    "tags": []
   },
   "source": "app = dash.Dash()\ndownload_link = \"https://www.example.com/file.pdf\"\ncreate_download_button(app, download_link)",
   "outputs": []
  },
  {
   "cell_type": "markdown",
   "id": "1f837be3-1268-4e90-9bf4-50991ef824e8",
   "metadata": {
    "papermill": {},
    "tags": []
   },
   "source": [
    " "
   ]
  }
 ],
 "metadata": {
  "kernelspec": {
   "display_name": "Python 3",
   "language": "python",
   "name": "python3"
  },
  "language_info": {
   "codemirror_mode": {
    "name": "ipython",
    "version": 3
   },
   "file_extension": ".py",
   "mimetype": "text/x-python",
   "name": "python",
   "nbconvert_exporter": "python",
   "pygments_lexer": "ipython3",
   "version": "3.9.6"
  },
  "widgets": {
   "application/vnd.jupyter.widget-state+json": {
    "state": {},
    "version_major": 2,
    "version_minor": 0
   }
  }
 },
 "nbformat": 4,
 "nbformat_minor": 5
}