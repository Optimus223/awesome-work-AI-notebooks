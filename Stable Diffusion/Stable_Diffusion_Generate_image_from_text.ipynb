{
 "cells": [
  {
   "cell_type": "markdown",
   "id": "2faefb65-f69c-494d-8b8c-b74b72f687e5",
   "metadata": {
    "papermill": {},
    "tags": []
   },
   "source": [
    "<img width=\"10%\" alt=\"Naas\" src=\"https://landen.imgix.net/jtci2pxwjczr/assets/5ice39g4.png?w=160\"/>"
   ]
  },
  {
   "cell_type": "markdown",
   "id": "ee89373c-f251-4796-b5ea-a246574c53ea",
   "metadata": {
    "papermill": {},
    "tags": []
   },
   "source": [
    "# Stable Diffusion - Generate image from text"
   ]
  },
  {
   "cell_type": "markdown",
   "id": "4133d291-e951-4ea7-9ecf-51f6416a4e87",
   "metadata": {
    "papermill": {},
    "tags": []
   },
   "source": [
    "**Tags:** #stable-diffusion #image-generation #text-to-image #ai #machine-learning #deep-learning"
   ]
  },
  {
   "cell_type": "markdown",
   "id": "67e02164-25a4-4c5c-8789-4bea92046bf5",
   "metadata": {
    "papermill": {},
    "tags": []
   },
   "source": [
    "**Author:** [Oussama El Bahaoui](https://www.linkedin.com/in/oelbahaoui/)"
   ]
  },
  {
   "cell_type": "markdown",
   "id": "95e46214-9c5a-49a4-b2d2-b67d39c78755",
   "metadata": {
    "papermill": {},
    "tags": []
   },
   "source": [
    "**Description:** This notebook would allow you to generate image from text using Stable Diffusion. It is usefull for organizations to create visuals from text for marketing purposes."
   ]
  },
  {
   "cell_type": "markdown",
   "id": "645b79c1-a7a4-42a6-8e39-9ce02bd3191d",
   "metadata": {
    "papermill": {},
    "tags": []
   },
   "source": [
    "**References:**\n- [Stability.ai - Stable Diffusion](https://stability.ai/stable-diffusion)\n- [Stability.ai - Text to Image](https://stability.ai/text-to-image)"
   ]
  },
  {
   "cell_type": "markdown",
   "id": "0afe8b29-61d1-4d67-af75-afeb20191533",
   "metadata": {
    "papermill": {},
    "tags": []
   },
   "source": [
    "## Input"
   ]
  },
  {
   "cell_type": "markdown",
   "id": "532e5c84-3ead-4dd5-b8bf-2901e9aa6d89",
   "metadata": {
    "papermill": {},
    "tags": []
   },
   "source": [
    "### Import libraries"
   ]
  },
  {
   "cell_type": "code",
   "execution_count": null,
   "id": "7e1912bb-b41c-4cef-9666-de1550dac320",
   "metadata": {
    "papermill": {},
    "tags": []
   },
   "source": "import stable_diffusion",
   "outputs": []
  },
  {
   "cell_type": "markdown",
   "id": "1b873d07-9acd-4a46-88c9-78b64a5e8119",
   "metadata": {
    "papermill": {},
    "tags": []
   },
   "source": [
    "### Setup Variables\n- `text`: Text to be converted to image"
   ]
  },
  {
   "cell_type": "code",
   "execution_count": null,
   "id": "287c7e8e-9630-48b0-9ea3-af283641332c",
   "metadata": {
    "papermill": {},
    "tags": []
   },
   "source": "text = \"This is a sample text\"",
   "outputs": []
  },
  {
   "cell_type": "markdown",
   "id": "b28e6e7b-035a-48c5-94a5-46d6f31da099",
   "metadata": {
    "papermill": {},
    "tags": []
   },
   "source": [
    "## Model"
   ]
  },
  {
   "cell_type": "markdown",
   "id": "d3215937-5c37-4b72-a3b9-dd155dda64a1",
   "metadata": {
    "papermill": {},
    "tags": []
   },
   "source": [
    "### Generate image from text"
   ]
  },
  {
   "cell_type": "markdown",
   "id": "ed24c449-6df5-46e1-9365-985545617555",
   "metadata": {
    "papermill": {},
    "tags": []
   },
   "source": [
    "Using Stable Diffusion, we can generate an image from text."
   ]
  },
  {
   "cell_type": "code",
   "execution_count": null,
   "id": "924f8def-3562-42bf-aa16-e3450ed356c1",
   "metadata": {
    "papermill": {},
    "tags": []
   },
   "source": "image = stable_diffusion.generate_image_from_text(text)",
   "outputs": []
  },
  {
   "cell_type": "markdown",
   "id": "64e97847-1d33-46f1-a73f-3ae2c1c12674",
   "metadata": {
    "papermill": {},
    "tags": []
   },
   "source": [
    "## Output"
   ]
  },
  {
   "cell_type": "markdown",
   "id": "7cf75423-adfc-4fee-8f42-a889bcecdccd",
   "metadata": {
    "papermill": {},
    "tags": []
   },
   "source": [
    "### Display result"
   ]
  },
  {
   "cell_type": "code",
   "execution_count": null,
   "id": "56688e5b-e92b-4351-bfd5-6576b0fdce70",
   "metadata": {
    "papermill": {},
    "tags": []
   },
   "source": "image.show()",
   "outputs": []
  }
 ],
 "metadata": {
  "kernelspec": {
   "display_name": "Python 3",
   "language": "python",
   "name": "python3"
  },
  "language_info": {
   "codemirror_mode": {
    "name": "ipython",
    "version": 3
   },
   "file_extension": ".py",
   "mimetype": "text/x-python",
   "name": "python",
   "nbconvert_exporter": "python",
   "pygments_lexer": "ipython3",
   "version": "3.9.6"
  },
  "widgets": {
   "application/vnd.jupyter.widget-state+json": {
    "state": {},
    "version_major": 2,
    "version_minor": 0
   }
  }
 },
 "nbformat": 4,
 "nbformat_minor": 5
}