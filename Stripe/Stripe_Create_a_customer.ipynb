{
 "cells": [
  {
   "cell_type": "markdown",
   "id": "8d10b667-1188-47d0-9f19-7b1e81c8bc48",
   "metadata": {
    "papermill": {},
    "tags": []
   },
   "source": [
    "<img width=\"10%\" alt=\"Naas\" src=\"https://landen.imgix.net/jtci2pxwjczr/assets/5ice39g4.png?w=160\"/>"
   ]
  },
  {
   "cell_type": "markdown",
   "id": "3953ff63-52a0-414d-a888-a8ec75da0223",
   "metadata": {
    "papermill": {},
    "tags": []
   },
   "source": [
    "# Stripe - Create a customer"
   ]
  },
  {
   "cell_type": "markdown",
   "id": "23c14dfd-2264-4158-a85d-e74a94a6c13e",
   "metadata": {
    "papermill": {},
    "tags": []
   },
   "source": [
    "**Tags:** #stripe #payment #customer #api #python #create"
   ]
  },
  {
   "cell_type": "markdown",
   "id": "3269a336-fdfc-43e1-b36b-ee0270c3a625",
   "metadata": {
    "papermill": {},
    "tags": []
   },
   "source": [
    "**Author:** [Florent Ravenel](https://www.linkedin.com/in/florent-ravenel/)"
   ]
  },
  {
   "cell_type": "markdown",
   "id": "3e4ca7eb-b266-494a-9121-e01957924e61",
   "metadata": {
    "papermill": {},
    "tags": []
   },
   "source": [
    "**Description:** This notebook will show how to create a customer using the Stripe API. It is usefull for organizations that need to manage customer payments."
   ]
  },
  {
   "cell_type": "markdown",
   "id": "99edf4c5-896a-4c49-911b-1994ca1d2012",
   "metadata": {
    "papermill": {},
    "tags": []
   },
   "source": [
    "**References:**\n- [Stripe API Documentation](https://stripe.com/docs/api)\n- [Stripe Python Library](https://stripe.com/docs/stripe-python)"
   ]
  },
  {
   "cell_type": "markdown",
   "id": "4bb29a9e-d3b5-499d-a3af-b24cda16e11c",
   "metadata": {
    "papermill": {},
    "tags": []
   },
   "source": [
    "## Input"
   ]
  },
  {
   "cell_type": "markdown",
   "id": "4eb537c6-7879-4b15-833f-1d9706d7376c",
   "metadata": {
    "papermill": {},
    "tags": []
   },
   "source": [
    "### Import libraries"
   ]
  },
  {
   "cell_type": "code",
   "execution_count": null,
   "id": "aeae4dd1-e2b9-4c09-89a2-11b8a72ba34a",
   "metadata": {
    "papermill": {},
    "tags": []
   },
   "source": "import stripe",
   "outputs": []
  },
  {
   "cell_type": "markdown",
   "id": "93ac61cd-a51a-419b-920c-589e9608c4d6",
   "metadata": {
    "papermill": {},
    "tags": []
   },
   "source": [
    "### Setup Variables\n- `stripe.api_key`: [API key](https://stripe.com/docs/keys) used to authenticate with the Stripe API"
   ]
  },
  {
   "cell_type": "code",
   "execution_count": null,
   "id": "cf8244dd-5fba-4b82-b882-35963d1a29fa",
   "metadata": {
    "papermill": {},
    "tags": []
   },
   "source": "stripe.api_key = \"sk_test_4eC39HqLyjWDarjtT1zdp7dc\"",
   "outputs": []
  },
  {
   "cell_type": "markdown",
   "id": "cdb75f36-adbd-42bd-9f48-f777fc5d7203",
   "metadata": {
    "papermill": {},
    "tags": []
   },
   "source": [
    "## Model"
   ]
  },
  {
   "cell_type": "markdown",
   "id": "3b160fe8-b88d-488f-820a-9052f2529d78",
   "metadata": {
    "papermill": {},
    "tags": []
   },
   "source": [
    "### Create a customer"
   ]
  },
  {
   "cell_type": "markdown",
   "id": "e9cd3f5b-64e1-4f89-8bf0-d62afffe42b8",
   "metadata": {
    "papermill": {},
    "tags": []
   },
   "source": [
    "This function will create a customer using the Stripe API."
   ]
  },
  {
   "cell_type": "code",
   "execution_count": null,
   "id": "13aa186b-8b39-4f0b-affb-9951bbd0cbb5",
   "metadata": {
    "papermill": {},
    "tags": []
   },
   "source": "def create_customer(name, email):\n    customer = stripe.Customer.create(name=name, email=email)\n    return customer",
   "outputs": []
  },
  {
   "cell_type": "markdown",
   "id": "1970c0a8-ab91-4154-9ffa-c5952bfe8e85",
   "metadata": {
    "papermill": {},
    "tags": []
   },
   "source": [
    "## Output"
   ]
  },
  {
   "cell_type": "markdown",
   "id": "f8b5a372-3644-4550-a761-305063d2fcba",
   "metadata": {
    "papermill": {},
    "tags": []
   },
   "source": [
    "### Display result"
   ]
  },
  {
   "cell_type": "code",
   "execution_count": null,
   "id": "714fd2ef-0694-43c2-ada3-f186e312c156",
   "metadata": {
    "papermill": {},
    "tags": []
   },
   "source": "customer = create_customer(\"John Doe\", \"john@doe.com\")\nprint(customer)",
   "outputs": []
  },
  {
   "cell_type": "markdown",
   "id": "ddea6d1f-dd01-4cbd-879f-24e687fcdd6f",
   "metadata": {
    "papermill": {},
    "tags": []
   },
   "source": [
    " "
   ]
  }
 ],
 "metadata": {
  "kernelspec": {
   "display_name": "Python 3",
   "language": "python",
   "name": "python3"
  },
  "language_info": {
   "codemirror_mode": {
    "name": "ipython",
    "version": 3
   },
   "file_extension": ".py",
   "mimetype": "text/x-python",
   "name": "python",
   "nbconvert_exporter": "python",
   "pygments_lexer": "ipython3",
   "version": "3.9.6"
  },
  "widgets": {
   "application/vnd.jupyter.widget-state+json": {
    "state": {},
    "version_major": 2,
    "version_minor": 0
   }
  }
 },
 "nbformat": 4,
 "nbformat_minor": 5
}