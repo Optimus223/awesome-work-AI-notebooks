{
 "cells": [
  {
   "cell_type": "markdown",
   "id": "unique-civilian",
   "metadata": {
    "papermill": {},
    "tags": []
   },
   "source": [
    "<img width=\"10%\" alt=\"Naas\" src=\"https://landen.imgix.net/jtci2pxwjczr/assets/5ice39g4.png?w=160\"/>"
   ]
  },
  {
   "cell_type": "markdown",
   "id": "innocent-beaver",
   "metadata": {
    "papermill": {},
    "tags": []
   },
   "source": [
    "# Stripe - Get balances\n",
    "<a href=\"https://app.naas.ai/user-redirect/naas/downloader?url=https://raw.githubusercontent.com/jupyter-naas/awesome-notebooks/master/Stripe/Stripe_Get_balances.ipynb\" target=\"_parent\"><img src=\"https://img.shields.io/badge/-Open%20in%20Naas-success?labelColor=000000&logo=data:image/svg+xml;base64,PD94bWwgdmVyc2lvbj0iMS4wIiBlbmNvZGluZz0iVVRGLTgiPz4KPHN2ZyB3aWR0aD0iMTAyNHB4IiBoZWlnaHQ9IjEwMjRweCIgdmlld0JveD0iMCAwIDEwMjQgMTAyNCIgeG1sbnM9Imh0dHA6Ly93d3cudzMub3JnLzIwMDAvc3ZnIiB4bWxuczp4bGluaz0iaHR0cDovL3d3dy53My5vcmcvMTk5OS94bGluayIgdmVyc2lvbj0iMS4xIj4KIDwhLS0gR2VuZXJhdGVkIGJ5IFBpeGVsbWF0b3IgUHJvIDIuMC41IC0tPgogPGRlZnM+CiAgPHRleHQgaWQ9InN0cmluZyIgdHJhbnNmb3JtPSJtYXRyaXgoMS4wIDAuMCAwLjAgMS4wIDIyOC4wIDU0LjUpIiBmb250LWZhbWlseT0iQ29tZm9ydGFhLVJlZ3VsYXIsIENvbWZvcnRhYSIgZm9udC1zaXplPSI4MDAiIHRleHQtZGVjb3JhdGlvbj0ibm9uZSIgZmlsbD0iI2ZmZmZmZiIgeD0iMS4xOTk5OTk5OTk5OTk5ODg2IiB5PSI3MDUuMCI+bjwvdGV4dD4KIDwvZGVmcz4KIDx1c2UgaWQ9Im4iIHhsaW5rOmhyZWY9IiNzdHJpbmciLz4KPC9zdmc+Cg==\"/></a>"
   ]
  },
  {
   "cell_type": "markdown",
   "id": "e0c6c47b-9391-4bd5-927e-c01126089c20",
   "metadata": {},
   "source": [
    "**Tags:** #stripe #balances"
   ]
  },
  {
   "cell_type": "markdown",
   "id": "input_cell",
   "metadata": {
    "papermill": {},
    "tags": []
   },
   "source": [
    "## Input"
   ]
  },
  {
   "cell_type": "markdown",
   "id": "df60314e-9c0d-49d4-bf82-da686064e0a3",
   "metadata": {},
   "source": [
    "### Install packages"
   ]
  },
  {
   "cell_type": "code",
   "execution_count": null,
   "id": "indie-familiar",
   "metadata": {
    "papermill": {},
    "tags": []
   },
   "outputs": [],
   "source": [
    "!pip install stripe"
   ]
  },
  {
   "cell_type": "markdown",
   "id": "import_cell",
   "metadata": {
    "papermill": {},
    "tags": []
   },
   "source": [
    "### Import library"
   ]
  },
  {
   "cell_type": "code",
   "execution_count": null,
   "id": "7fc7245b-59cc-4b42-bc01-99330e929481",
   "metadata": {},
   "outputs": [],
   "source": [
    "import stripe\n",
    "import pandas as pd"
   ]
  },
  {
   "cell_type": "markdown",
   "id": "c08b160e-ee1f-4c02-8739-e9f5c486e5e3",
   "metadata": {},
   "source": [
    "### Variables"
   ]
  },
  {
   "cell_type": "code",
   "execution_count": 7,
   "id": "norman-latitude",
   "metadata": {
    "execution": {
     "iopub.execute_input": "2021-01-28T13:33:58.833266Z",
     "iopub.status.busy": "2021-01-28T13:33:58.833032Z",
     "iopub.status.idle": "2021-01-28T13:33:58.837835Z",
     "shell.execute_reply": "2021-01-28T13:33:58.837288Z",
     "shell.execute_reply.started": "2021-01-28T13:33:58.833241Z"
    },
    "papermill": {},
    "tags": []
   },
   "outputs": [],
   "source": [
    "api_key = \"sk_test_4eC39HqLyjWDarjtT1zdp7dc\""
   ]
  },
  {
   "cell_type": "markdown",
   "id": "model_cell",
   "metadata": {
    "papermill": {},
    "tags": []
   },
   "source": [
    "## Model"
   ]
  },
  {
   "cell_type": "markdown",
   "id": "38ffbaa0-d124-45f3-95dd-73e2fe172ae0",
   "metadata": {},
   "source": [
    "### Connect to the API"
   ]
  },
  {
   "cell_type": "code",
   "execution_count": 8,
   "id": "different-approval",
   "metadata": {
    "execution": {
     "iopub.execute_input": "2021-01-28T13:33:59.006625Z",
     "iopub.status.busy": "2021-01-28T13:33:59.006273Z",
     "iopub.status.idle": "2021-01-28T13:33:59.009897Z",
     "shell.execute_reply": "2021-01-28T13:33:59.009279Z",
     "shell.execute_reply.started": "2021-01-28T13:33:59.006589Z"
    },
    "papermill": {},
    "tags": []
   },
   "outputs": [],
   "source": [
    "stripe.api_key = api_key"
   ]
  },
  {
   "cell_type": "code",
   "execution_count": 11,
   "id": "growing-locator",
   "metadata": {
    "execution": {
     "iopub.execute_input": "2021-01-28T13:34:15.749771Z",
     "iopub.status.busy": "2021-01-28T13:34:15.749545Z",
     "iopub.status.idle": "2021-01-28T13:34:16.080833Z",
     "shell.execute_reply": "2021-01-28T13:34:16.080180Z",
     "shell.execute_reply.started": "2021-01-28T13:34:15.749748Z"
    },
    "papermill": {},
    "tags": []
   },
   "outputs": [],
   "source": [
    "balance = stripe.BalanceTransaction.list(limit=30)"
   ]
  },
  {
   "cell_type": "markdown",
   "id": "output_cell",
   "metadata": {
    "papermill": {},
    "tags": []
   },
   "source": [
    "## Output"
   ]
  },
  {
   "cell_type": "markdown",
   "id": "display_cell",
   "metadata": {
    "papermill": {},
    "tags": []
   },
   "source": [
    "### Get the balance"
   ]
  },
  {
   "cell_type": "code",
   "execution_count": null,
   "id": "769ccf64-3786-43be-a5d9-bc708c1074dd",
   "metadata": {},
   "outputs": [],
   "source": [
    "pd.DataFrame(balance.get('data'))"
   ]
  }
 ],
 "metadata": {
  "kernelspec": {
   "display_name": "Python 3",
   "language": "python",
   "name": "python3"
  },
  "language_info": {
   "codemirror_mode": {
    "name": "ipython",
    "version": 3
   },
   "file_extension": ".py",
   "mimetype": "text/x-python",
   "name": "python",
   "nbconvert_exporter": "python",
   "pygments_lexer": "ipython3",
   "version": "3.8.8"
  },
  "papermill": {
   "default_parameters": {},
   "environment_variables": {},
   "parameters": {},
   "version": "2.3.3"
  }
 },
 "nbformat": 4,
 "nbformat_minor": 5
}
