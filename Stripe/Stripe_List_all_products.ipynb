{
 "cells": [
  {
   "cell_type": "markdown",
   "id": "6dd505fc-4ef5-4095-9b25-d4611a2dc836",
   "metadata": {
    "papermill": {},
    "tags": []
   },
   "source": [
    "<img width=\"10%\" alt=\"Naas\" src=\"https://landen.imgix.net/jtci2pxwjczr/assets/5ice39g4.png?w=160\"/>"
   ]
  },
  {
   "cell_type": "markdown",
   "id": "8a8ceffa-9042-4a41-ab52-658704c0b5fd",
   "metadata": {
    "papermill": {},
    "tags": []
   },
   "source": [
    "# Stripe - List all products"
   ]
  },
  {
   "cell_type": "markdown",
   "id": "47ff49ac-4f44-42f1-b5d1-58af6a0bb6c5",
   "metadata": {
    "papermill": {},
    "tags": []
   },
   "source": [
    "**Tags:** #stripe #api #products #list #python #reference"
   ]
  },
  {
   "cell_type": "markdown",
   "id": "8e9a0d86-9354-4f44-8b1b-02055e54d8e0",
   "metadata": {
    "papermill": {},
    "tags": []
   },
   "source": [
    "**Author:** [Florent Ravenel](https://www.linkedin.com/in/florent-ravenel/)"
   ]
  },
  {
   "cell_type": "markdown",
   "id": "3616e9da-3b7c-4381-8dc6-3f32337e615c",
   "metadata": {
    "papermill": {},
    "tags": []
   },
   "source": [
    "**Last update:** 2023-10-20 (Created: 2023-10-20)"
   ]
  },
  {
   "cell_type": "markdown",
   "id": "0426fb42-3925-41e4-b435-cdf2cb21d923",
   "metadata": {
    "papermill": {},
    "tags": []
   },
   "source": [
    "**Description:** This notebook returns a list of products sorted by creation date, with the most recently created products appearing first. It is usefull for organizations to quickly access their products."
   ]
  },
  {
   "cell_type": "markdown",
   "id": "8446b1d5-0573-46b9-8c0b-a66cf8e6ea75",
   "metadata": {
    "papermill": {},
    "tags": []
   },
   "source": [
    "**References:**\n- [Stripe API Documentation](https://stripe.com/docs/api/products/list)"
   ]
  },
  {
   "cell_type": "markdown",
   "id": "59ea2a4a-0b1d-40ea-bf52-add7bea46970",
   "metadata": {
    "papermill": {},
    "tags": []
   },
   "source": [
    "## Input"
   ]
  },
  {
   "cell_type": "markdown",
   "id": "bccb287d-cbd0-4909-8e73-1e36ce7ac782",
   "metadata": {
    "papermill": {},
    "tags": []
   },
   "source": [
    "### Import libraries"
   ]
  },
  {
   "cell_type": "code",
   "execution_count": null,
   "id": "0d853694-e8b6-49ea-a69e-c27a58324ae8",
   "metadata": {
    "papermill": {},
    "tags": []
   },
   "source": "import stripe",
   "outputs": []
  },
  {
   "cell_type": "markdown",
   "id": "525600df-0404-46d5-8b65-2866150f04b9",
   "metadata": {
    "papermill": {},
    "tags": []
   },
   "source": [
    "### Setup variables\n- **stripe_api_key**: API key to access Stripe API. [How to get Stripe API key?](https://stripe.com/docs/keys)"
   ]
  },
  {
   "cell_type": "code",
   "execution_count": null,
   "id": "d4d2487a-941a-440e-841f-f1483c6803b5",
   "metadata": {
    "papermill": {},
    "tags": []
   },
   "source": "stripe_api_key = \"sk_test_4eC39HqLyjWDarjtT1zdp7dc\"",
   "outputs": []
  },
  {
   "cell_type": "markdown",
   "id": "c03a9ca0-e1af-4262-b1e6-ddbad6479752",
   "metadata": {
    "papermill": {},
    "tags": []
   },
   "source": [
    "## Model"
   ]
  },
  {
   "cell_type": "markdown",
   "id": "d060108b-dcbf-4c79-8470-09e3e6da957c",
   "metadata": {
    "papermill": {},
    "tags": []
   },
   "source": [
    "### List all products"
   ]
  },
  {
   "cell_type": "markdown",
   "id": "b3db0410-9263-49c5-a466-ec3641b2b2f0",
   "metadata": {
    "papermill": {},
    "tags": []
   },
   "source": [
    "This function returns a list of your products. The products are returned sorted by creation date, with the most recently created products appearing first."
   ]
  },
  {
   "cell_type": "code",
   "execution_count": null,
   "id": "ef72b75a-d9d9-4ba2-9b83-7a4b1d5b6d94",
   "metadata": {
    "papermill": {},
    "tags": []
   },
   "source": "# Set Stripe API key\nstripe.api_key = stripe_api_key\n# List all products\nproducts = stripe.Product.list()",
   "outputs": []
  },
  {
   "cell_type": "markdown",
   "id": "178e5b60-d325-4ff6-ae7d-48c77b786a1a",
   "metadata": {
    "papermill": {},
    "tags": []
   },
   "source": [
    "## Output"
   ]
  },
  {
   "cell_type": "markdown",
   "id": "050d1ecd-d160-46e4-803d-1095a5e42242",
   "metadata": {
    "papermill": {},
    "tags": []
   },
   "source": [
    "### Display result"
   ]
  },
  {
   "cell_type": "code",
   "execution_count": null,
   "id": "bb28d556-1ab4-4d12-8c57-0015cb1432bf",
   "metadata": {
    "papermill": {},
    "tags": []
   },
   "source": "products",
   "outputs": []
  }
 ],
 "metadata": {
  "kernelspec": {
   "display_name": "Python 3",
   "language": "python",
   "name": "python3"
  },
  "language_info": {
   "codemirror_mode": {
    "name": "ipython",
    "version": 3
   },
   "file_extension": ".py",
   "mimetype": "text/x-python",
   "name": "python",
   "nbconvert_exporter": "python",
   "pygments_lexer": "ipython3",
   "version": "3.9.6"
  },
  "widgets": {
   "application/vnd.jupyter.widget-state+json": {
    "state": {},
    "version_major": 2,
    "version_minor": 0
   }
  }
 },
 "nbformat": 4,
 "nbformat_minor": 5
}