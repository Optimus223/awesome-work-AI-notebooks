{
 "cells": [
  {
   "cell_type": "markdown",
   "id": "7ddf1412-6ae7-4845-8245-99a9e0c0ec09",
   "metadata": {
    "papermill": {},
    "tags": []
   },
   "source": [
    "<img width=\"10%\" alt=\"Naas\" src=\"https://landen.imgix.net/jtci2pxwjczr/assets/5ice39g4.png?w=160\"/>"
   ]
  },
  {
   "cell_type": "markdown",
   "id": "d7f3a80b-6616-4bfc-ad5b-b4ef958fa8db",
   "metadata": {
    "papermill": {},
    "tags": []
   },
   "source": [
    "# OpenAI - Generate_Act_as_a_x_notebook\n",
    "<a href=\"https://app.naas.ai/user-redirect/naas/downloader?url=https://raw.githubusercontent.com/jupyter-naas/awesome-notebooks/master/OpenAI/OpenAI_Generate_Act_as_a_x_notebook.ipynb\" target=\"_parent\"><img src=\"https://naasai-public.s3.eu-west-3.amazonaws.com/Open_in_Naas_Lab.svg\"/></a><br><br><a href=\"https://bit.ly/3JyWIk6\">Give Feedback</a> | <a href=\"https://github.com/jupyter-naas/awesome-notebooks/issues/new?assignees=&labels=bug&template=bug_report.md&title=OpenAI+-+Generate_Act_as_a_x_notebook:+Error+short+description\">Bug report</a>"
   ]
  },
  {
   "cell_type": "markdown",
   "id": "f7de975d-92c5-4c12-9a13-bc99e0c8641d",
   "metadata": {
    "papermill": {},
    "tags": []
   },
   "source": [
    "**Tags:** #openai #ai #machinelearning #deeplearning #notebooks #automation #gsheet"
   ]
  },
  {
   "cell_type": "markdown",
   "id": "30622b3a-7547-4de3-a2ea-1cc4e92e0ada",
   "metadata": {
    "papermill": {},
    "tags": []
   },
   "source": [
    "**Author:** [Florent Ravenel](https://www.linkedin.com/in/florent-ravenel/)"
   ]
  },
  {
   "cell_type": "markdown",
   "id": "cb7f7eaa-c287-45c7-84a6-4cab47c8bfd9",
   "metadata": {
    "papermill": {},
    "tags": []
   },
   "source": [
    "**Last update:** 2023-06-14 (Created: 2023-06-14)"
   ]
  },
  {
   "cell_type": "markdown",
   "id": "6f94abc4-02a4-4f90-85c6-59f8c718d8ac",
   "metadata": {
    "papermill": {},
    "tags": []
   },
   "source": [
    "**Description:** This notebook creates \"Act as a ...\" notebooks from a Google Sheets spreadsheet using OpenAI_Act_as_a_chef.ipynb as template."
   ]
  },
  {
   "cell_type": "markdown",
   "id": "106ed0e4-0f9c-4e8a-af1e-8b5c13dbb7d4",
   "metadata": {
    "papermill": {},
    "tags": []
   },
   "source": [
    "**References:**\n",
    "- [OpenAI Documentation](https://openai.com/docs/)\n",
    "- [Awesome ChatGPT Prompts](https://github.com/f/awesome-chatgpt-prompts#act-as-a-chef)"
   ]
  },
  {
   "cell_type": "markdown",
   "id": "ed297bf1-9fa1-4ca1-ba4d-9cd243b65302",
   "metadata": {
    "papermill": {},
    "tags": []
   },
   "source": [
    "## Input"
   ]
  },
  {
   "cell_type": "markdown",
   "id": "8093ec6f-823b-4d20-9b48-c673788e54d3",
   "metadata": {
    "papermill": {},
    "tags": []
   },
   "source": [
    "### Import libraries"
   ]
  },
  {
   "cell_type": "code",
   "execution_count": 26,
   "id": "4a3db93f-11d2-4628-9b7c-531607657c62",
   "metadata": {
    "execution": {
     "iopub.execute_input": "2023-11-17T11:19:40.156242Z",
     "iopub.status.busy": "2023-11-17T11:19:40.156020Z",
     "iopub.status.idle": "2023-11-17T11:19:40.160997Z",
     "shell.execute_reply": "2023-11-17T11:19:40.160483Z",
     "shell.execute_reply.started": "2023-11-17T11:19:40.156220Z"
    },
    "papermill": {},
    "tags": []
   },
   "outputs": [],
   "source": [
    "from papermill.iorw import (\n",
    "    load_notebook_node,\n",
    "    write_ipynb,\n",
    ")\n",
    "import naas\n",
    "from naas_drivers import gsheet\n",
    "import copy\n",
    "import json\n",
    "import subprocess\n",
    "import re"
   ]
  },
  {
   "cell_type": "markdown",
   "id": "14b42145-22ee-4ad2-abb6-316777fe52ca",
   "metadata": {
    "papermill": {},
    "tags": []
   },
   "source": [
    "### Setup variables"
   ]
  },
  {
   "cell_type": "code",
   "execution_count": 17,
   "id": "4b1fad6f-e7d1-4753-89a0-68088d56650d",
   "metadata": {
    "execution": {
     "iopub.execute_input": "2023-11-17T11:15:04.096687Z",
     "iopub.status.busy": "2023-11-17T11:15:04.096465Z",
     "iopub.status.idle": "2023-11-17T11:15:04.099649Z",
     "shell.execute_reply": "2023-11-17T11:15:04.099029Z",
     "shell.execute_reply.started": "2023-11-17T11:15:04.096665Z"
    },
    "papermill": {},
    "tags": []
   },
   "outputs": [],
   "source": [
    "# Inputs\n",
    "spreadsheet_url = \"https://docs.google.com/spreadsheets/d/18HChEH5ezs8p8pi1Y-u9yQFZdBPtMlONNjrHiH0VT3U/edit#gid=205410028\"\n",
    "sheet_name = \"AI for Work - Prompts\"\n",
    "notebook_init = \"AI_for_Work_Create_chat_plugin.ipynb\"\n",
    "plugin_name_init = \"AI for work\"\n",
    "prompt_init = \"Prompt\""
   ]
  },
  {
   "cell_type": "markdown",
   "id": "cda269c3-b283-4bf8-956f-7a4f4fb54367",
   "metadata": {
    "papermill": {},
    "tags": []
   },
   "source": [
    "## Model"
   ]
  },
  {
   "cell_type": "markdown",
   "id": "d18711cf-becf-4c5b-93d3-ba655324f85a",
   "metadata": {
    "papermill": {},
    "tags": []
   },
   "source": [
    "### Get data from Google Sheets spreadsheet"
   ]
  },
  {
   "cell_type": "code",
   "execution_count": 18,
   "id": "330f4d8a-9b65-452c-9629-04b20d94775b",
   "metadata": {
    "execution": {
     "iopub.execute_input": "2023-11-17T11:15:04.930840Z",
     "iopub.status.busy": "2023-11-17T11:15:04.930608Z",
     "iopub.status.idle": "2023-11-17T11:15:35.434093Z",
     "shell.execute_reply": "2023-11-17T11:15:35.433511Z",
     "shell.execute_reply.started": "2023-11-17T11:15:04.930815Z"
    },
    "papermill": {},
    "tags": []
   },
   "outputs": [
    {
     "name": "stdout",
     "output_type": "stream",
     "text": [
      "Row fetched: 182\n"
     ]
    },
    {
     "data": {
      "text/html": [
       "<div>\n",
       "<style scoped>\n",
       "    .dataframe tbody tr th:only-of-type {\n",
       "        vertical-align: middle;\n",
       "    }\n",
       "\n",
       "    .dataframe tbody tr th {\n",
       "        vertical-align: top;\n",
       "    }\n",
       "\n",
       "    .dataframe thead th {\n",
       "        text-align: right;\n",
       "    }\n",
       "</style>\n",
       "<table border=\"1\" class=\"dataframe\">\n",
       "  <thead>\n",
       "    <tr style=\"text-align: right;\">\n",
       "      <th></th>\n",
       "      <th>prompt_title</th>\n",
       "      <th>Slug</th>\n",
       "      <th>Collection ID</th>\n",
       "      <th>Item ID</th>\n",
       "      <th>Created On</th>\n",
       "      <th>Updated On</th>\n",
       "      <th>Published On</th>\n",
       "      <th>emoji</th>\n",
       "      <th>prompt_engineer</th>\n",
       "      <th>gpt_model</th>\n",
       "      <th>...</th>\n",
       "      <th>prompt_type</th>\n",
       "      <th>role</th>\n",
       "      <th>department</th>\n",
       "      <th>document</th>\n",
       "      <th>Example in Image Format</th>\n",
       "      <th>Bookmark</th>\n",
       "      <th>Like</th>\n",
       "      <th>prompt</th>\n",
       "      <th>Featured</th>\n",
       "      <th>Naas</th>\n",
       "    </tr>\n",
       "  </thead>\n",
       "  <tbody>\n",
       "    <tr>\n",
       "      <th>0</th>\n",
       "      <td>📝 Create A Blog Post</td>\n",
       "      <td>chatgpt-prompt-b2b-content-marketing-manager-m...</td>\n",
       "      <td>64a58200e016a9897bc5ddfc</td>\n",
       "      <td>64a58200e016a9897bc5e414</td>\n",
       "      <td>Mon Jun 19 2023 08:25:46 GMT+0000 (Coordinated...</td>\n",
       "      <td>Tue Oct 31 2023 02:48:29 GMT+0000 (Coordinated...</td>\n",
       "      <td>Tue Oct 31 2023 02:59:27 GMT+0000 (Coordinated...</td>\n",
       "      <td>📝</td>\n",
       "      <td>&lt;a href=\"https://www.linkedin.com/in/aiforwork...</td>\n",
       "      <td>GPT-4</td>\n",
       "      <td>...</td>\n",
       "      <td>Task + Evaluation</td>\n",
       "      <td>b2b-content-marketing-manager</td>\n",
       "      <td>marketing</td>\n",
       "      <td>Blog Post</td>\n",
       "      <td>None</td>\n",
       "      <td>None</td>\n",
       "      <td>None</td>\n",
       "      <td>{\"prompt\":\"Develop a tailored Blog Post aligne...</td>\n",
       "      <td>False</td>\n",
       "      <td>W44-2023</td>\n",
       "    </tr>\n",
       "  </tbody>\n",
       "</table>\n",
       "<p>1 rows × 21 columns</p>\n",
       "</div>"
      ],
      "text/plain": [
       "           prompt_title                                               Slug  \\\n",
       "0  📝 Create A Blog Post  chatgpt-prompt-b2b-content-marketing-manager-m...   \n",
       "\n",
       "              Collection ID                   Item ID  \\\n",
       "0  64a58200e016a9897bc5ddfc  64a58200e016a9897bc5e414   \n",
       "\n",
       "                                          Created On  \\\n",
       "0  Mon Jun 19 2023 08:25:46 GMT+0000 (Coordinated...   \n",
       "\n",
       "                                          Updated On  \\\n",
       "0  Tue Oct 31 2023 02:48:29 GMT+0000 (Coordinated...   \n",
       "\n",
       "                                        Published On emoji  \\\n",
       "0  Tue Oct 31 2023 02:59:27 GMT+0000 (Coordinated...     📝   \n",
       "\n",
       "                                     prompt_engineer gpt_model  ...  \\\n",
       "0  <a href=\"https://www.linkedin.com/in/aiforwork...     GPT-4  ...   \n",
       "\n",
       "         prompt_type                           role department   document  \\\n",
       "0  Task + Evaluation  b2b-content-marketing-manager  marketing  Blog Post   \n",
       "\n",
       "  Example in Image Format Bookmark  Like  \\\n",
       "0                    None     None  None   \n",
       "\n",
       "                                              prompt Featured      Naas  \n",
       "0  {\"prompt\":\"Develop a tailored Blog Post aligne...    False  W44-2023  \n",
       "\n",
       "[1 rows x 21 columns]"
      ]
     },
     "execution_count": 18,
     "metadata": {},
     "output_type": "execute_result"
    }
   ],
   "source": [
    "df_input = gsheet.connect(spreadsheet_url).get(sheet_name=sheet_name)\n",
    "df_input = df_input[df_input[\"Naas\"] == \"W44-2023\"].reset_index(drop=True)\n",
    "print(\"Row fetched:\", len(df_input))\n",
    "df_input.head(1)"
   ]
  },
  {
   "cell_type": "markdown",
   "id": "9ef022e9-7c08-4fc4-aa1b-2cc169bd1e8c",
   "metadata": {
    "papermill": {},
    "tags": []
   },
   "source": [
    "### Load template notebook"
   ]
  },
  {
   "cell_type": "code",
   "execution_count": 21,
   "id": "d578d960-c076-4ee6-8e3b-e4c83d3c0946",
   "metadata": {
    "execution": {
     "iopub.execute_input": "2023-11-17T11:16:17.159204Z",
     "iopub.status.busy": "2023-11-17T11:16:17.158958Z",
     "iopub.status.idle": "2023-11-17T11:16:17.188199Z",
     "shell.execute_reply": "2023-11-17T11:16:17.187508Z",
     "shell.execute_reply.started": "2023-11-17T11:16:17.159170Z"
    },
    "papermill": {},
    "tags": []
   },
   "outputs": [
    {
     "name": "stdout",
     "output_type": "stream",
     "text": [
      "Variables:\n",
      " # Mandatory\n",
      "plugin_name = \"AI for work\"\n",
      "prompt = \"Prompt\"\n",
      "\n",
      "# Optional\n",
      "avatar = \"\"\n",
      "model = \"gpt-4\"\n",
      "temperature = 0.5\n",
      "output_path = None \n",
      "\n",
      "Plugin:\n",
      " {\"name\": \"AI for work\", \"model\": \"gpt-4\", \"temperature\": 0.5, \"max_tokens\": 8192, \"prompt\": \"Prompt\", \"commands\": [], \"description\": \"\", \"avatar\": \"\"}\n",
      "\n"
     ]
    }
   ],
   "source": [
    "# Load notebook\n",
    "nb_init = load_notebook_node(notebook_init)\n",
    "\n",
    "# Get variables to be replaced\n",
    "variables_init = nb_init.cells[11].source\n",
    "plugin_init = nb_init.cells[17].outputs[0][\"text\"]\n",
    "\n",
    "print(\"Variables:\\n\", variables_init, \"\\n\")\n",
    "print(\"Plugin:\\n\", plugin_init)"
   ]
  },
  {
   "cell_type": "markdown",
   "id": "b6c44f79-3b50-4649-9828-166ecf3ae74c",
   "metadata": {
    "papermill": {},
    "tags": []
   },
   "source": [
    "## Output"
   ]
  },
  {
   "cell_type": "markdown",
   "id": "56f0d08e-604a-49f8-bdfb-afc0a34c0ad9",
   "metadata": {
    "papermill": {},
    "tags": []
   },
   "source": [
    "### Create notebooks"
   ]
  },
  {
   "cell_type": "code",
   "execution_count": 42,
   "id": "5662f1c0-2c4e-4a1b-880f-0c99b7942365",
   "metadata": {
    "execution": {
     "iopub.execute_input": "2023-11-17T11:26:21.914815Z",
     "iopub.status.busy": "2023-11-17T11:26:21.914513Z",
     "iopub.status.idle": "2023-11-17T11:26:22.026036Z",
     "shell.execute_reply": "2023-11-17T11:26:22.025282Z",
     "shell.execute_reply.started": "2023-11-17T11:26:21.914779Z"
    },
    "papermill": {},
    "tags": []
   },
   "outputs": [
    {
     "name": "stdout",
     "output_type": "stream",
     "text": [
      "Started with: 📝 Create A Blog Post\n",
      "💾 Notebook saved: AI_for_Work_Create_A_Blog_Post.ipynb\n"
     ]
    }
   ],
   "source": [
    "def remove_emojis(text):\n",
    "    emoji_pattern = re.compile(\"[\"\n",
    "                           u\"\\U0001F600-\\U0001F64F\"  # emoticons\n",
    "                           u\"\\U0001F300-\\U0001F5FF\"  # symbols & pictographs\n",
    "                           u\"\\U0001F680-\\U0001F6FF\"  # transport & map symbols\n",
    "                           u\"\\U0001F1E0-\\U0001F1FF\"  # flags (iOS)\n",
    "                           u\"\\U00002500-\\U00002BEF\"  # chinese char\n",
    "                           u\"\\U00002702-\\U000027B0\"\n",
    "                           u\"\\U00002702-\\U000027B0\"\n",
    "                           u\"\\U000024C2-\\U0001F251\"\n",
    "                           u\"\\U0001f926-\\U0001f937\"\n",
    "                           u\"\\U00010000-\\U0010ffff\"\n",
    "                           u\"\\u2640-\\u2642\"\n",
    "                           u\"\\u2600-\\u2B55\"\n",
    "                           u\"\\u200d\"\n",
    "                           u\"\\u23cf\"\n",
    "                           u\"\\u23e9\"\n",
    "                           u\"\\u231a\"\n",
    "                           u\"\\ufe0f\"  # dingbats\n",
    "                           u\"\\u3030\"\n",
    "                           \"]+\", flags=re.UNICODE)\n",
    "    return emoji_pattern.sub(r'', text).strip()\n",
    "\n",
    "for row in df_input.itertuples():\n",
    "    # Init\n",
    "    nb = copy.deepcopy(nb_init)\n",
    "    prompt_title = row.prompt_title\n",
    "    prompt = row.prompt.replace('\"', \"'\")\n",
    "    print(\"Started with:\", prompt_title)\n",
    "    \n",
    "    # Prep data\n",
    "    prompt_title_without_emojis = remove_emojis(prompt_title)\n",
    "    title = f\"# AI for Work - {prompt_title_without_emojis}\"\n",
    "    notebook_output = f\"AI_for_Work_{prompt_title_without_emojis.replace(' ', '_')}.ipynb\"\n",
    "    variables = variables_init.replace(plugin_name_init, prompt_title_without_emojis).replace(prompt_init, prompt)\n",
    "#     plugin_json = json.dumps(json.loads(plugin_init.replace(fullname_init, character).replace(avatar_init, avatar)))\n",
    "    \n",
    "    # Update notebook\n",
    "    nb.cells[1].source = title\n",
    "#     nb.cells[5].source = nb_description\n",
    "#     nb.cells[6].source = references\n",
    "    nb.cells[11].source = variables\n",
    "#     nb.cells[19].outputs[0][\"text\"] = plugin_json\n",
    "    \n",
    "    # Save new notebook\n",
    "    write_ipynb(nb, notebook_output)\n",
    "    print(\"💾 Notebook saved:\", notebook_output)\n",
    "    break"
   ]
  }
 ],
 "metadata": {
  "kernelspec": {
   "display_name": "Python 3",
   "language": "python",
   "name": "python3"
  },
  "language_info": {
   "codemirror_mode": {
    "name": "ipython",
    "version": 3
   },
   "file_extension": ".py",
   "mimetype": "text/x-python",
   "name": "python",
   "nbconvert_exporter": "python",
   "pygments_lexer": "ipython3",
   "version": "3.9.6"
  },
  "naas": {
   "notebook_id": "c51c4610007ed74a0ecde9c8fd0a9fc269e96164e2ba4f6fe7fc971bf86943e6",
   "notebook_path": "OpenAI/OpenAI_Generate_Act_as_a_x_notebook.ipynb"
  },
  "papermill": {
   "default_parameters": {},
   "environment_variables": {},
   "parameters": {},
   "version": "2.4.0"
  }
 },
 "nbformat": 4,
 "nbformat_minor": 5
}
