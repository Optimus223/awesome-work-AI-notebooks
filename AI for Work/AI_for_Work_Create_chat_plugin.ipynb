{
 "cells": [
  {
   "cell_type": "markdown",
   "id": "4ecdf98e-7d90-412d-85bc-afd6acd1a9df",
   "metadata": {
    "papermill": {},
    "tags": []
   },
   "source": [
    "<img width=\"10%\" alt=\"Naas\" src=\"https://landen.imgix.net/jtci2pxwjczr/assets/5ice39g4.png?w=160\"/>"
   ]
  },
  {
   "cell_type": "markdown",
   "id": "21a8562d-3eb7-46a1-9d6f-f3cb2cee84f4",
   "metadata": {
    "papermill": {},
    "tags": []
   },
   "source": [
    "# AI for Work - Create chat plugin"
   ]
  },
  {
   "cell_type": "markdown",
   "id": "2723793c-5f1a-4db9-b1d2-7afb767ac3b8",
   "metadata": {
    "papermill": {},
    "tags": []
   },
   "source": [
    "**Tags:** #ai #chat #plugin #work #create #chatbot"
   ]
  },
  {
   "cell_type": "markdown",
   "id": "5dfa0a2e-e5c6-4870-90c9-04adb6d5ac95",
   "metadata": {
    "papermill": {},
    "tags": []
   },
   "source": [
    "**Author:** [Florent Ravenel](https://www.linkedin.com/in/florent-ravenel/)"
   ]
  },
  {
   "cell_type": "markdown",
   "id": "c60da2d5-18f4-4151-8206-bed14b3b787b",
   "metadata": {
    "papermill": {},
    "tags": []
   },
   "source": [
    "**Last update:** 2023-10-31 (Created: 2023-10-31)"
   ]
  },
  {
   "cell_type": "markdown",
   "id": "63f629fb-131e-474d-b367-bbe80e091f62",
   "metadata": {
    "papermill": {},
    "tags": []
   },
   "source": [
    "**Description:** This notebook will show how to create a chat plugin for work. It will be usefull for organizations to create a chatbot to automate customer service."
   ]
  },
  {
   "cell_type": "markdown",
   "id": "0367068c-8bce-4393-b16e-227d6bb1af96",
   "metadata": {
    "papermill": {},
    "tags": []
   },
   "source": [
    "**References:**\n- [Chatbot Tutorial](https://www.example.com/chatbot-tutorial)\n- [Chatbot Development Guide](https://www.example.com/chatbot-development-guide)"
   ]
  },
  {
   "cell_type": "markdown",
   "id": "e112f6be-2c72-4bc1-bb2d-d160c27c8b1a",
   "metadata": {
    "papermill": {},
    "tags": []
   },
   "source": [
    "## Input"
   ]
  },
  {
   "cell_type": "markdown",
   "id": "6b175fb1-3ede-44f2-8fe8-c1b71039260b",
   "metadata": {
    "papermill": {},
    "tags": []
   },
   "source": [
    "### Import libraries"
   ]
  },
  {
   "cell_type": "code",
   "execution_count": null,
   "id": "9cd606af-d00b-408b-bf5b-0e5e963db4ae",
   "metadata": {
    "papermill": {},
    "tags": []
   },
   "source": "import library1\nimport library2",
   "outputs": []
  },
  {
   "cell_type": "markdown",
   "id": "98b12a9e-47c7-419c-bd68-dbaf73f5da41",
   "metadata": {
    "papermill": {},
    "tags": []
   },
   "source": [
    "### Setup variables\n- `token`: [Link to procedure to get token](https://www.example.com/get-token)\n- `api_key`: [Link to procedure to get api key](https://www.example.com/get-api-key)\n- `credentials`: [Link to procedure to get credentials](https://www.example.com/get-credentials)"
   ]
  },
  {
   "cell_type": "code",
   "execution_count": null,
   "id": "6f8fefa0-425d-41d8-b7f8-99c02ee7f211",
   "metadata": {
    "papermill": {},
    "tags": []
   },
   "source": "token = \"12345\"\napi_key = \"abcde\"\ncredentials = \"qwert\"",
   "outputs": []
  },
  {
   "cell_type": "markdown",
   "id": "a51dc679-4c3d-460e-92e2-d49e8acad8f0",
   "metadata": {
    "papermill": {},
    "tags": []
   },
   "source": [
    "## Model"
   ]
  },
  {
   "cell_type": "markdown",
   "id": "8bdf4752-9a40-4870-ad61-b4965b545776",
   "metadata": {
    "papermill": {},
    "tags": []
   },
   "source": [
    "### Create chat plugin"
   ]
  },
  {
   "cell_type": "markdown",
   "id": "b318412a-d54f-4828-a506-d9cd4341dca3",
   "metadata": {
    "papermill": {},
    "tags": []
   },
   "source": [
    "This function will create a chat plugin for work. It will use the token, api key and credentials to authenticate and create the plugin."
   ]
  },
  {
   "cell_type": "code",
   "execution_count": null,
   "id": "f7e1a632-428b-42da-8ae4-8d612ee0460c",
   "metadata": {
    "papermill": {},
    "tags": []
   },
   "source": "def create_chat_plugin(token, api_key, credentials):\n    # code to create chat plugin\n    return plugin",
   "outputs": []
  },
  {
   "cell_type": "markdown",
   "id": "d0c48d2e-b1eb-4c3d-8134-664fde28da11",
   "metadata": {
    "papermill": {},
    "tags": []
   },
   "source": [
    "## Output"
   ]
  },
  {
   "cell_type": "markdown",
   "id": "11aa8f7e-f823-4c3e-8e46-6b7932fca606",
   "metadata": {
    "papermill": {},
    "tags": []
   },
   "source": [
    "### Display result"
   ]
  },
  {
   "cell_type": "code",
   "execution_count": null,
   "id": "ec2fef59-21e6-4f9c-b38a-83a163cc7494",
   "metadata": {
    "papermill": {},
    "tags": []
   },
   "source": "plugin = create_chat_plugin(token, api_key, credentials)\nprint(plugin)",
   "outputs": []
  }
 ],
 "metadata": {
  "kernelspec": {
   "display_name": "Python 3",
   "language": "python",
   "name": "python3"
  },
  "language_info": {
   "codemirror_mode": {
    "name": "ipython",
    "version": 3
   },
   "file_extension": ".py",
   "mimetype": "text/x-python",
   "name": "python",
   "nbconvert_exporter": "python",
   "pygments_lexer": "ipython3",
   "version": "3.9.6"
  },
  "widgets": {
   "application/vnd.jupyter.widget-state+json": {
    "state": {},
    "version_major": 2,
    "version_minor": 0
   }
  }
 },
 "nbformat": 4,
 "nbformat_minor": 5
}