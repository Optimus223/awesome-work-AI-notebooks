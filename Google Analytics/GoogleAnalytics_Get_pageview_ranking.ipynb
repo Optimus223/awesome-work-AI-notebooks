{
 "cells": [
  {
   "cell_type": "markdown",
   "id": "034c67ee",
   "metadata": {
    "execution": {
     "iopub.execute_input": "2021-02-23T14:22:16.610471Z",
     "iopub.status.busy": "2021-02-23T14:22:16.610129Z",
     "iopub.status.idle": "2021-02-23T14:22:16.627784Z",
     "shell.execute_reply": "2021-02-23T14:22:16.626866Z",
     "shell.execute_reply.started": "2021-02-23T14:22:16.610384Z"
    },
    "papermill": {},
    "tags": []
   },
   "source": [
    "<img width=\"10%\" alt=\"Naas\" src=\"https://landen.imgix.net/jtci2pxwjczr/assets/5ice39g4.png?w=160\"/>"
   ]
  },
  {
   "cell_type": "markdown",
   "id": "9f250691",
   "metadata": {
    "papermill": {},
    "tags": []
   },
   "source": [
    "# Google Analytics - GoogleAnalytics Get pageview ranking\n",
    "<a href=\"https://app.naas.ai/user-redirect/naas/downloader?url=https://raw.githubusercontent.com/jupyter-naas/awesome-notebooks/master/Google%20Analytics/GoogleAnalytics_Get_pageview_ranking.ipynb\" target=\"_parent\"><img src=\"https://naasai-public.s3.eu-west-3.amazonaws.com/open_in_naas.svg\"/></a>"
   ]
  },
  {
   "cell_type": "markdown",
   "id": "788da050",
   "metadata": {
    "papermill": {},
    "tags": []
   },
   "source": [
    "**Tags:** #googleanalytics #pageviews"
   ]
  },
  {
   "cell_type": "markdown",
   "id": "08a65a1e-ea9b-497c-b507-cbeff87b92df",
   "metadata": {},
   "source": [
    "**Author:** [Charles Demontigny](https://www.linkedin.com/in/charles-demontigny/)"
   ]
  },
  {
   "cell_type": "markdown",
   "id": "80998608",
   "metadata": {
    "papermill": {},
    "tags": []
   },
   "source": [
    "Pre-requisite: Create your own <a href=\"\">Google API JSON credential</a>"
   ]
  },
  {
   "cell_type": "markdown",
   "id": "892355a8",
   "metadata": {
    "papermill": {},
    "tags": []
   },
   "source": [
    "## Input"
   ]
  },
  {
   "cell_type": "code",
   "execution_count": null,
   "id": "cdd51205-aada-4607-84b4-78b68ade048b",
   "metadata": {},
   "outputs": [],
   "source": [
    "#-> Uncomment the 2 lines below (by removing the hashtag) to schedule your job everyday at 8:00 AM (NB: you can choose the time of your scheduling bot)\n",
    "# import naas\n",
    "# naas.scheduler.add(cron=\"0 8 * * *\")\n",
    "\n",
    "#-> Uncomment the line below (by removing the hashtag) to remove your scheduler\n",
    "# naas.scheduler.delete()"
   ]
  },
  {
   "cell_type": "markdown",
   "id": "4ba1756c",
   "metadata": {
    "papermill": {},
    "tags": []
   },
   "source": [
    "### Import library"
   ]
  },
  {
   "cell_type": "code",
   "execution_count": 1,
   "id": "b199f287",
   "metadata": {
    "execution": {
     "iopub.execute_input": "2022-02-17T09:52:19.102484Z",
     "iopub.status.busy": "2022-02-17T09:52:19.102047Z",
     "iopub.status.idle": "2022-02-17T09:52:20.843376Z",
     "shell.execute_reply": "2022-02-17T09:52:20.842732Z",
     "shell.execute_reply.started": "2022-02-17T09:52:19.102414Z"
    },
    "papermill": {},
    "tags": []
   },
   "outputs": [],
   "source": [
    "import pandas as pd\n",
    "import plotly.graph_objects as go\n",
    "import naas\n",
    "from naas_drivers import googleanalytics"
   ]
  },
  {
   "cell_type": "markdown",
   "id": "b7cfce6b",
   "metadata": {
    "papermill": {},
    "tags": []
   },
   "source": [
    "### Get your credential from Google Cloud Platform"
   ]
  },
  {
   "cell_type": "code",
   "execution_count": 2,
   "id": "c1598e1c",
   "metadata": {
    "execution": {
     "iopub.execute_input": "2022-02-17T09:52:20.846324Z",
     "iopub.status.busy": "2022-02-17T09:52:20.846131Z",
     "iopub.status.idle": "2022-02-17T09:52:20.849092Z",
     "shell.execute_reply": "2022-02-17T09:52:20.848505Z",
     "shell.execute_reply.started": "2022-02-17T09:52:20.846302Z"
    },
    "papermill": {},
    "tags": []
   },
   "outputs": [],
   "source": [
    "json_path = 'naas-googleanalytics.json'"
   ]
  },
  {
   "cell_type": "markdown",
   "id": "1a61d8c2",
   "metadata": {
    "papermill": {},
    "tags": []
   },
   "source": [
    "### Get view id from google analytics"
   ]
  },
  {
   "cell_type": "code",
   "execution_count": 3,
   "id": "cb699e48",
   "metadata": {
    "execution": {
     "iopub.execute_input": "2022-02-17T09:52:20.850479Z",
     "iopub.status.busy": "2022-02-17T09:52:20.850081Z",
     "iopub.status.idle": "2022-02-17T09:52:20.939268Z",
     "shell.execute_reply": "2022-02-17T09:52:20.938700Z",
     "shell.execute_reply.started": "2022-02-17T09:52:20.850447Z"
    },
    "papermill": {},
    "tags": []
   },
   "outputs": [],
   "source": [
    "view_id = \"228952707\""
   ]
  },
  {
   "cell_type": "markdown",
   "id": "007fe704-8cc4-4da5-8355-8a675f94e74a",
   "metadata": {},
   "source": [
    "### Setup your output paths"
   ]
  },
  {
   "cell_type": "code",
   "execution_count": 4,
   "id": "f2209dd7-6b60-442b-80fc-c48353de7f08",
   "metadata": {
    "execution": {
     "iopub.execute_input": "2022-02-17T09:52:20.941918Z",
     "iopub.status.busy": "2022-02-17T09:52:20.941717Z",
     "iopub.status.idle": "2022-02-17T09:52:21.033907Z",
     "shell.execute_reply": "2022-02-17T09:52:21.033313Z",
     "shell.execute_reply.started": "2022-02-17T09:52:20.941897Z"
    }
   },
   "outputs": [],
   "source": [
    "csv_output = \"googleanalytics_pages_views.csv\"\n",
    "html_output = \"googleanalytics_pages_views.html\""
   ]
  },
  {
   "cell_type": "markdown",
   "id": "5ee17e68",
   "metadata": {
    "papermill": {},
    "tags": []
   },
   "source": [
    "## Model"
   ]
  },
  {
   "cell_type": "markdown",
   "id": "5c1e039a",
   "metadata": {
    "papermill": {},
    "tags": []
   },
   "source": [
    "### Ranking: Most visited web pages"
   ]
  },
  {
   "cell_type": "code",
   "execution_count": 5,
   "id": "1e2873ec",
   "metadata": {
    "execution": {
     "iopub.execute_input": "2022-02-17T09:52:21.036589Z",
     "iopub.status.busy": "2022-02-17T09:52:21.036388Z",
     "iopub.status.idle": "2022-02-17T09:52:21.520674Z",
     "shell.execute_reply": "2022-02-17T09:52:21.519933Z",
     "shell.execute_reply.started": "2022-02-17T09:52:21.036552Z"
    },
    "papermill": {},
    "tags": []
   },
   "outputs": [
    {
     "data": {
      "text/html": [
       "<div>\n",
       "<style scoped>\n",
       "    .dataframe tbody tr th:only-of-type {\n",
       "        vertical-align: middle;\n",
       "    }\n",
       "\n",
       "    .dataframe tbody tr th {\n",
       "        vertical-align: top;\n",
       "    }\n",
       "\n",
       "    .dataframe thead th {\n",
       "        text-align: right;\n",
       "    }\n",
       "</style>\n",
       "<table border=\"1\" class=\"dataframe\">\n",
       "  <thead>\n",
       "    <tr style=\"text-align: right;\">\n",
       "      <th></th>\n",
       "      <th>Pages</th>\n",
       "      <th>Pageview</th>\n",
       "    </tr>\n",
       "  </thead>\n",
       "  <tbody>\n",
       "    <tr>\n",
       "      <th>0</th>\n",
       "      <td>/</td>\n",
       "      <td>24092.0</td>\n",
       "    </tr>\n",
       "    <tr>\n",
       "      <th>1</th>\n",
       "      <td>/pricing</td>\n",
       "      <td>3980.0</td>\n",
       "    </tr>\n",
       "    <tr>\n",
       "      <th>2</th>\n",
       "      <td>/free-forever</td>\n",
       "      <td>3587.0</td>\n",
       "    </tr>\n",
       "    <tr>\n",
       "      <th>3</th>\n",
       "      <td>/tools</td>\n",
       "      <td>796.0</td>\n",
       "    </tr>\n",
       "    <tr>\n",
       "      <th>4</th>\n",
       "      <td>/templates</td>\n",
       "      <td>751.0</td>\n",
       "    </tr>\n",
       "    <tr>\n",
       "      <th>5</th>\n",
       "      <td>/community</td>\n",
       "      <td>354.0</td>\n",
       "    </tr>\n",
       "    <tr>\n",
       "      <th>6</th>\n",
       "      <td>/tools/airtable</td>\n",
       "      <td>206.0</td>\n",
       "    </tr>\n",
       "    <tr>\n",
       "      <th>7</th>\n",
       "      <td>/tools/aws</td>\n",
       "      <td>109.0</td>\n",
       "    </tr>\n",
       "    <tr>\n",
       "      <th>8</th>\n",
       "      <td>/tools/google-sheets</td>\n",
       "      <td>123.0</td>\n",
       "    </tr>\n",
       "    <tr>\n",
       "      <th>9</th>\n",
       "      <td>/tools/linkedin</td>\n",
       "      <td>129.0</td>\n",
       "    </tr>\n",
       "  </tbody>\n",
       "</table>\n",
       "</div>"
      ],
      "text/plain": [
       "                  Pages  Pageview\n",
       "0                     /   24092.0\n",
       "1              /pricing    3980.0\n",
       "2         /free-forever    3587.0\n",
       "3                /tools     796.0\n",
       "4            /templates     751.0\n",
       "5            /community     354.0\n",
       "6       /tools/airtable     206.0\n",
       "7            /tools/aws     109.0\n",
       "8  /tools/google-sheets     123.0\n",
       "9       /tools/linkedin     129.0"
      ]
     },
     "execution_count": 5,
     "metadata": {},
     "output_type": "execute_result"
    }
   ],
   "source": [
    "df_pageview = googleanalytics.connect(json_path=json_path).views.get_pageview(view_id)\n",
    "df_pageview"
   ]
  },
  {
   "cell_type": "markdown",
   "id": "ff8c5df3",
   "metadata": {
    "execution": {
     "iopub.execute_input": "2021-07-02T23:32:10.789097Z",
     "iopub.status.busy": "2021-07-02T23:32:10.788829Z",
     "iopub.status.idle": "2021-07-02T23:32:10.796900Z",
     "shell.execute_reply": "2021-07-02T23:32:10.796358Z",
     "shell.execute_reply.started": "2021-07-02T23:32:10.789033Z"
    },
    "papermill": {},
    "tags": []
   },
   "source": [
    "## Output"
   ]
  },
  {
   "cell_type": "markdown",
   "id": "79f3a95f-2019-4f55-a399-b21107747a91",
   "metadata": {},
   "source": [
    "### Save dataframe in csv"
   ]
  },
  {
   "cell_type": "code",
   "execution_count": 6,
   "id": "d82dfabf-1413-4a1b-a6cb-0f959c8a6f43",
   "metadata": {
    "execution": {
     "iopub.execute_input": "2022-02-17T09:52:21.525803Z",
     "iopub.status.busy": "2022-02-17T09:52:21.524037Z",
     "iopub.status.idle": "2022-02-17T09:52:21.554998Z",
     "shell.execute_reply": "2022-02-17T09:52:21.554295Z",
     "shell.execute_reply.started": "2022-02-17T09:52:21.525765Z"
    },
    "tags": []
   },
   "outputs": [],
   "source": [
    "df_pageview.to_csv(csv_output, index=False)"
   ]
  },
  {
   "cell_type": "markdown",
   "id": "5889acca",
   "metadata": {
    "papermill": {},
    "tags": []
   },
   "source": [
    "### Plotting horizontal barchart"
   ]
  },
  {
   "cell_type": "code",
   "execution_count": 9,
   "id": "f5308532",
   "metadata": {
    "execution": {
     "iopub.execute_input": "2022-02-17T09:52:32.730678Z",
     "iopub.status.busy": "2022-02-17T09:52:32.730417Z",
     "iopub.status.idle": "2022-02-17T09:52:32.745764Z",
     "shell.execute_reply": "2022-02-17T09:52:32.745060Z",
     "shell.execute_reply.started": "2022-02-17T09:52:32.730653Z"
    },
    "papermill": {},
    "tags": []
   },
   "outputs": [],
   "source": [
    "def plot_pageview(df: pd.DataFrame):\n",
    "    \"\"\"\n",
    "    Plot PageView in Plotly.\n",
    "    \"\"\"\n",
    "    # Prep dataframe\n",
    "    df.loc[df.Pages == \"/\", \"Pages\"] = \"landing\"\n",
    "    df.loc[df.Pages != \"landing\", \"Pages\"] = df.Pages.str[1:]\n",
    "    \n",
    "    # Get total views\n",
    "    value = \"{:,.0f}\".format(df[\"Pageview\"].sum()).replace(\",\", \" \")\n",
    "    \n",
    "    # Create data\n",
    "    data = go.Bar(y=df['Pages'],\n",
    "                  x=df['Pageview'],\n",
    "                  text=df['Pageview'],\n",
    "#                   marker=dict(color=\"black\"),\n",
    "                  orientation=\"h\")\n",
    "    # Create layout\n",
    "    layout = go.Layout(\n",
    "        yaxis={'categoryorder': 'total ascending'},\n",
    "        margin={\"l\":150, \"pad\": 20},\n",
    "        title=f\"<b>Most visited web pages, by total visits</b><br><span style='font-size: 13px;'>Total visits: {value}</span>\",\n",
    "        title_font=dict(family=\"Arial\", size=18, color=\"black\"),\n",
    "        xaxis_title=\"No of views\",\n",
    "        xaxis_title_font=dict(family=\"Arial\", size=11, color=\"black\"),\n",
    "        plot_bgcolor=\"#ffffff\",\n",
    "        width=1200,\n",
    "        height=800,\n",
    "        margin_pad=10,\n",
    "    )\n",
    "    fig = go.Figure(data=data, layout=layout)\n",
    "    fig.update_traces(textposition=\"outside\")\n",
    "    return fig\n",
    "\n",
    "fig = plot_pageview(df_pageview)"
   ]
  },
  {
   "cell_type": "markdown",
   "id": "eb8f70e7-33af-49b0-9810-ac8daf18c79f",
   "metadata": {},
   "source": [
    "### Export and share graph"
   ]
  },
  {
   "cell_type": "code",
   "execution_count": 10,
   "id": "9a807f54-d6de-4819-82de-fc1a759fd86d",
   "metadata": {
    "execution": {
     "iopub.execute_input": "2022-02-17T09:52:35.509689Z",
     "iopub.status.busy": "2022-02-17T09:52:35.509351Z",
     "iopub.status.idle": "2022-02-17T09:52:36.142984Z",
     "shell.execute_reply": "2022-02-17T09:52:36.142305Z",
     "shell.execute_reply.started": "2022-02-17T09:52:35.509646Z"
    },
    "tags": []
   },
   "outputs": [
    {
     "name": "stdout",
     "output_type": "stream",
     "text": [
      "👌 Well done! Your Assets has been sent to production.\n",
      "\n"
     ]
    },
    {
     "data": {
      "application/javascript": [
       "\n",
       "    if (!window.copyToClipboard) {\n",
       "        window.copyToClipboard = (text) => {\n",
       "            const dummy = document.createElement(\"textarea\");\n",
       "            document.body.appendChild(dummy);\n",
       "            dummy.value = text;\n",
       "            dummy.select();\n",
       "            document.execCommand(\"copy\");\n",
       "            document.body.removeChild(dummy);\n",
       "        }\n",
       "    }\n",
       "    "
      ],
      "text/plain": [
       "<IPython.core.display.Javascript object>"
      ]
     },
     "metadata": {},
     "output_type": "display_data"
    },
    {
     "data": {
      "application/vnd.jupyter.widget-view+json": {
       "model_id": "c9b23f4dab4746c697ec021c04cf7158",
       "version_major": 2,
       "version_minor": 0
      },
      "text/plain": [
       "Button(button_style='primary', description='Copy URL', style=ButtonStyle())"
      ]
     },
     "metadata": {},
     "output_type": "display_data"
    },
    {
     "data": {
      "application/vnd.jupyter.widget-view+json": {
       "model_id": "88738142fe8b4379906691ce37d61c91",
       "version_major": 2,
       "version_minor": 0
      },
      "text/plain": [
       "Output()"
      ]
     },
     "metadata": {},
     "output_type": "display_data"
    },
    {
     "name": "stdout",
     "output_type": "stream",
     "text": [
      "PS: to remove the \"Assets\" feature, just replace .add by .delete\n"
     ]
    },
    {
     "data": {
      "text/plain": [
       "'https://public.naas.ai/bWV0cmljcy00MG5hYXMtMkVhaQ==/asset/8edf3a3bfca321ebe0e9e5b357fbd0ff1b0d6fc5dcc0335ccfd285ceef3d'"
      ]
     },
     "execution_count": 10,
     "metadata": {},
     "output_type": "execute_result"
    }
   ],
   "source": [
    "fig.write_html(html_output)\n",
    "\n",
    "#-> Uncomment the line below (by removing the hashtag) to share your asset with naas\n",
    "# naas.asset.add(html_output, params={\"inline\": True})\n",
    "\n",
    "#-> Uncomment the line below (by removing the hashtag)  to delete your asset\n",
    "# naas.asset.delete(html_output)"
   ]
  }
 ],
 "metadata": {
  "interpreter": {
   "hash": "aee8b7b246df8f9039afb4144a1f6fd8d2ca17a180786b69acc140d282b71a49"
  },
  "kernelspec": {
   "display_name": "Python 3",
   "language": "python",
   "name": "python3"
  },
  "language_info": {
   "codemirror_mode": {
    "name": "ipython",
    "version": 3
   },
   "file_extension": ".py",
   "mimetype": "text/x-python",
   "name": "python",
   "nbconvert_exporter": "python",
   "pygments_lexer": "ipython3",
   "version": "3.8.8"
  },
  "papermill": {
   "default_parameters": {},
   "environment_variables": {},
   "parameters": {},
   "version": "2.3.3"
  },
  "widgets": {
   "application/vnd.jupyter.widget-state+json": {
    "state": {},
    "version_major": 2,
    "version_minor": 0
   }
  }
 },
 "nbformat": 4,
 "nbformat_minor": 5
}
