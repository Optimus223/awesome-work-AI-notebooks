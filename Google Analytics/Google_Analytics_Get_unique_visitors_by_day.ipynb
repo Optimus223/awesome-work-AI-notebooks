{
 "cells": [
  {
   "cell_type": "markdown",
   "id": "4674b02f",
   "metadata": {
    "execution": {
     "iopub.execute_input": "2021-02-23T14:22:16.610471Z",
     "iopub.status.busy": "2021-02-23T14:22:16.610129Z",
     "iopub.status.idle": "2021-02-23T14:22:16.627784Z",
     "shell.execute_reply": "2021-02-23T14:22:16.626866Z",
     "shell.execute_reply.started": "2021-02-23T14:22:16.610384Z"
    },
    "papermill": {},
    "tags": []
   },
   "source": [
    "<img width=\"10%\" alt=\"Naas\" src=\"https://landen.imgix.net/jtci2pxwjczr/assets/5ice39g4.png?w=160\"/>"
   ]
  },
  {
   "cell_type": "markdown",
   "id": "b7a36ee3",
   "metadata": {
    "papermill": {},
    "tags": []
   },
   "source": [
    "# Google Analytics - Get unique visitors by day\n",
    "<a href=\"https://app.naas.ai/user-redirect/naas/downloader?url=https://raw.githubusercontent.com/jupyter-naas/awesome-notebooks/master/Google%20Analytics/GoogleAnalytics_Get_stats_per_country.ipynb\" target=\"_parent\"><img src=\"https://naasai-public.s3.eu-west-3.amazonaws.com/open_in_naas.svg\"/></a>"
   ]
  },
  {
   "cell_type": "markdown",
   "id": "19875963",
   "metadata": {
    "papermill": {},
    "tags": []
   },
   "source": [
    "**Tags:** #googleanalytics #statspercountry #analytics"
   ]
  },
  {
   "cell_type": "markdown",
   "id": "29814b06-df6a-4be0-9b98-a9a523e2f98b",
   "metadata": {
    "papermill": {},
    "tags": []
   },
   "source": [
    "**Author:** [Florent Ravenel](https://www.linkedin.com/in/ACoAABCNSioBW3YZHc2lBHVG0E_TXYWitQkmwog/)"
   ]
  },
  {
   "cell_type": "markdown",
   "id": "55f800df",
   "metadata": {
    "papermill": {},
    "tags": []
   },
   "source": [
    "## Input"
   ]
  },
  {
   "cell_type": "markdown",
   "id": "3f24ee2c",
   "metadata": {
    "papermill": {},
    "tags": []
   },
   "source": [
    "### Import library"
   ]
  },
  {
   "cell_type": "code",
   "execution_count": 1,
   "id": "b2586bcc",
   "metadata": {
    "execution": {
     "iopub.execute_input": "2022-03-08T15:27:31.522532Z",
     "iopub.status.busy": "2022-03-08T15:27:31.522266Z",
     "iopub.status.idle": "2022-03-08T15:27:32.955875Z",
     "shell.execute_reply": "2022-03-08T15:27:32.955271Z",
     "shell.execute_reply.started": "2022-03-08T15:27:31.522467Z"
    },
    "papermill": {},
    "tags": []
   },
   "outputs": [],
   "source": [
    "import plotly.graph_objects as go\n",
    "import plotly.express as px\n",
    "import naas\n",
    "# Using a dropin driver in a cell for now. (Faster iterations)\n",
    "# from naas_drivers import googleanalytics"
   ]
  },
  {
   "cell_type": "code",
   "execution_count": 2,
   "id": "2967dca6-1c43-42a3-ab83-86e8df9c35b2",
   "metadata": {
    "execution": {
     "iopub.execute_input": "2022-03-08T15:27:32.957230Z",
     "iopub.status.busy": "2022-03-08T15:27:32.956971Z",
     "iopub.status.idle": "2022-03-08T15:27:33.107755Z",
     "shell.execute_reply": "2022-03-08T15:27:33.107067Z",
     "shell.execute_reply.started": "2022-03-08T15:27:32.957199Z"
    },
    "tags": []
   },
   "outputs": [],
   "source": [
    "%run Google_Analytics_driver.ipynb"
   ]
  },
  {
   "cell_type": "markdown",
   "id": "8f103e30",
   "metadata": {
    "papermill": {},
    "tags": []
   },
   "source": [
    "### Setup your Google Analytics"
   ]
  },
  {
   "cell_type": "markdown",
   "id": "7e6ef3e1",
   "metadata": {
    "papermill": {},
    "tags": []
   },
   "source": [
    "👉 Create your own <a href=\"\">Google API JSON credential</a>"
   ]
  },
  {
   "cell_type": "code",
   "execution_count": 3,
   "id": "04c24e42",
   "metadata": {
    "execution": {
     "iopub.execute_input": "2022-03-08T15:27:34.206731Z",
     "iopub.status.busy": "2022-03-08T15:27:34.206500Z",
     "iopub.status.idle": "2022-03-08T15:27:34.209523Z",
     "shell.execute_reply": "2022-03-08T15:27:34.208868Z",
     "shell.execute_reply.started": "2022-03-08T15:27:34.206707Z"
    },
    "papermill": {},
    "tags": []
   },
   "outputs": [],
   "source": [
    "# Get your credential from Google Cloud Platform\n",
    "json_path = 'naas-googleanalytics.json'\n",
    "\n",
    "# Get view id from google analytics\n",
    "view_id = \"228952707\"\n",
    "\n",
    "# Setup your data parameters\n",
    "metrics = \"ga:newUsers\"\n",
    "dimensions = \"ga:date\"\n",
    "start_date = \"30daysAgo\"\n",
    "end_date = \"today\""
   ]
  },
  {
   "cell_type": "markdown",
   "id": "cd3830c6-1c09-4b7a-95bf-a8d9159759ff",
   "metadata": {},
   "source": [
    "### Variables"
   ]
  },
  {
   "cell_type": "code",
   "execution_count": 29,
   "id": "092e3e2e-194a-497e-b824-94077a33da83",
   "metadata": {
    "execution": {
     "iopub.execute_input": "2022-03-08T16:01:08.041703Z",
     "iopub.status.busy": "2022-03-08T16:01:08.041462Z",
     "iopub.status.idle": "2022-03-08T16:01:08.046303Z",
     "shell.execute_reply": "2022-03-08T16:01:08.045753Z",
     "shell.execute_reply.started": "2022-03-08T16:01:08.041672Z"
    },
    "tags": []
   },
   "outputs": [],
   "source": [
    "# Chart title\n",
    "title = \"New visitors\"\n",
    "\n",
    "# Outputs path\n",
    "name_output = \"Googleanalytics_newusers_daily\"\n",
    "csv_output = f\"{name_output}.csv\"\n",
    "html_output = f\"{name_output}.html\""
   ]
  },
  {
   "cell_type": "markdown",
   "id": "3729685f-abab-4f5e-919f-3b07ce841f1c",
   "metadata": {},
   "source": [
    "## Model"
   ]
  },
  {
   "cell_type": "markdown",
   "id": "d08332b2",
   "metadata": {
    "papermill": {},
    "tags": []
   },
   "source": [
    "### Get trend for unique visitor by day"
   ]
  },
  {
   "cell_type": "code",
   "execution_count": 30,
   "id": "461de2bd-27c7-4d88-bbb6-63c517ab0cc8",
   "metadata": {
    "execution": {
     "iopub.execute_input": "2022-03-08T16:01:11.960199Z",
     "iopub.status.busy": "2022-03-08T16:01:11.959877Z",
     "iopub.status.idle": "2022-03-08T16:01:12.872044Z",
     "shell.execute_reply": "2022-03-08T16:01:12.871437Z",
     "shell.execute_reply.started": "2022-03-08T16:01:11.960165Z"
    },
    "tags": []
   },
   "outputs": [
    {
     "data": {
      "text/html": [
       "<div>\n",
       "<style scoped>\n",
       "    .dataframe tbody tr th:only-of-type {\n",
       "        vertical-align: middle;\n",
       "    }\n",
       "\n",
       "    .dataframe tbody tr th {\n",
       "        vertical-align: top;\n",
       "    }\n",
       "\n",
       "    .dataframe thead th {\n",
       "        text-align: right;\n",
       "    }\n",
       "</style>\n",
       "<table border=\"1\" class=\"dataframe\">\n",
       "  <thead>\n",
       "    <tr style=\"text-align: right;\">\n",
       "      <th></th>\n",
       "      <th>DATE</th>\n",
       "      <th>KPI</th>\n",
       "      <th>VALUE</th>\n",
       "      <th>VALUE_COMP</th>\n",
       "      <th>VARV</th>\n",
       "      <th>VARP</th>\n",
       "    </tr>\n",
       "  </thead>\n",
       "  <tbody>\n",
       "    <tr>\n",
       "      <th>0</th>\n",
       "      <td>2022-02-06</td>\n",
       "      <td>newUsers</td>\n",
       "      <td>75.0</td>\n",
       "      <td>0.0</td>\n",
       "      <td>75.0</td>\n",
       "      <td>inf</td>\n",
       "    </tr>\n",
       "    <tr>\n",
       "      <th>1</th>\n",
       "      <td>2022-02-07</td>\n",
       "      <td>newUsers</td>\n",
       "      <td>47.0</td>\n",
       "      <td>75.0</td>\n",
       "      <td>-28.0</td>\n",
       "      <td>-0.373333</td>\n",
       "    </tr>\n",
       "    <tr>\n",
       "      <th>2</th>\n",
       "      <td>2022-02-08</td>\n",
       "      <td>newUsers</td>\n",
       "      <td>30.0</td>\n",
       "      <td>47.0</td>\n",
       "      <td>-17.0</td>\n",
       "      <td>-0.361702</td>\n",
       "    </tr>\n",
       "    <tr>\n",
       "      <th>3</th>\n",
       "      <td>2022-02-09</td>\n",
       "      <td>newUsers</td>\n",
       "      <td>160.0</td>\n",
       "      <td>30.0</td>\n",
       "      <td>130.0</td>\n",
       "      <td>4.333333</td>\n",
       "    </tr>\n",
       "    <tr>\n",
       "      <th>4</th>\n",
       "      <td>2022-02-10</td>\n",
       "      <td>newUsers</td>\n",
       "      <td>525.0</td>\n",
       "      <td>160.0</td>\n",
       "      <td>365.0</td>\n",
       "      <td>2.281250</td>\n",
       "    </tr>\n",
       "    <tr>\n",
       "      <th>5</th>\n",
       "      <td>2022-02-11</td>\n",
       "      <td>newUsers</td>\n",
       "      <td>158.0</td>\n",
       "      <td>525.0</td>\n",
       "      <td>-367.0</td>\n",
       "      <td>-0.699048</td>\n",
       "    </tr>\n",
       "    <tr>\n",
       "      <th>6</th>\n",
       "      <td>2022-02-12</td>\n",
       "      <td>newUsers</td>\n",
       "      <td>84.0</td>\n",
       "      <td>158.0</td>\n",
       "      <td>-74.0</td>\n",
       "      <td>-0.468354</td>\n",
       "    </tr>\n",
       "    <tr>\n",
       "      <th>7</th>\n",
       "      <td>2022-02-13</td>\n",
       "      <td>newUsers</td>\n",
       "      <td>76.0</td>\n",
       "      <td>84.0</td>\n",
       "      <td>-8.0</td>\n",
       "      <td>-0.095238</td>\n",
       "    </tr>\n",
       "    <tr>\n",
       "      <th>8</th>\n",
       "      <td>2022-02-14</td>\n",
       "      <td>newUsers</td>\n",
       "      <td>85.0</td>\n",
       "      <td>76.0</td>\n",
       "      <td>9.0</td>\n",
       "      <td>0.118421</td>\n",
       "    </tr>\n",
       "    <tr>\n",
       "      <th>9</th>\n",
       "      <td>2022-02-15</td>\n",
       "      <td>newUsers</td>\n",
       "      <td>99.0</td>\n",
       "      <td>85.0</td>\n",
       "      <td>14.0</td>\n",
       "      <td>0.164706</td>\n",
       "    </tr>\n",
       "    <tr>\n",
       "      <th>10</th>\n",
       "      <td>2022-02-16</td>\n",
       "      <td>newUsers</td>\n",
       "      <td>108.0</td>\n",
       "      <td>99.0</td>\n",
       "      <td>9.0</td>\n",
       "      <td>0.090909</td>\n",
       "    </tr>\n",
       "    <tr>\n",
       "      <th>11</th>\n",
       "      <td>2022-02-17</td>\n",
       "      <td>newUsers</td>\n",
       "      <td>80.0</td>\n",
       "      <td>108.0</td>\n",
       "      <td>-28.0</td>\n",
       "      <td>-0.259259</td>\n",
       "    </tr>\n",
       "    <tr>\n",
       "      <th>12</th>\n",
       "      <td>2022-02-18</td>\n",
       "      <td>newUsers</td>\n",
       "      <td>35.0</td>\n",
       "      <td>80.0</td>\n",
       "      <td>-45.0</td>\n",
       "      <td>-0.562500</td>\n",
       "    </tr>\n",
       "    <tr>\n",
       "      <th>13</th>\n",
       "      <td>2022-02-19</td>\n",
       "      <td>newUsers</td>\n",
       "      <td>21.0</td>\n",
       "      <td>35.0</td>\n",
       "      <td>-14.0</td>\n",
       "      <td>-0.400000</td>\n",
       "    </tr>\n",
       "    <tr>\n",
       "      <th>14</th>\n",
       "      <td>2022-02-20</td>\n",
       "      <td>newUsers</td>\n",
       "      <td>18.0</td>\n",
       "      <td>21.0</td>\n",
       "      <td>-3.0</td>\n",
       "      <td>-0.142857</td>\n",
       "    </tr>\n",
       "    <tr>\n",
       "      <th>15</th>\n",
       "      <td>2022-02-21</td>\n",
       "      <td>newUsers</td>\n",
       "      <td>58.0</td>\n",
       "      <td>18.0</td>\n",
       "      <td>40.0</td>\n",
       "      <td>2.222222</td>\n",
       "    </tr>\n",
       "    <tr>\n",
       "      <th>16</th>\n",
       "      <td>2022-02-22</td>\n",
       "      <td>newUsers</td>\n",
       "      <td>67.0</td>\n",
       "      <td>58.0</td>\n",
       "      <td>9.0</td>\n",
       "      <td>0.155172</td>\n",
       "    </tr>\n",
       "    <tr>\n",
       "      <th>17</th>\n",
       "      <td>2022-02-23</td>\n",
       "      <td>newUsers</td>\n",
       "      <td>65.0</td>\n",
       "      <td>67.0</td>\n",
       "      <td>-2.0</td>\n",
       "      <td>-0.029851</td>\n",
       "    </tr>\n",
       "    <tr>\n",
       "      <th>18</th>\n",
       "      <td>2022-02-24</td>\n",
       "      <td>newUsers</td>\n",
       "      <td>44.0</td>\n",
       "      <td>65.0</td>\n",
       "      <td>-21.0</td>\n",
       "      <td>-0.323077</td>\n",
       "    </tr>\n",
       "    <tr>\n",
       "      <th>19</th>\n",
       "      <td>2022-02-25</td>\n",
       "      <td>newUsers</td>\n",
       "      <td>47.0</td>\n",
       "      <td>44.0</td>\n",
       "      <td>3.0</td>\n",
       "      <td>0.068182</td>\n",
       "    </tr>\n",
       "    <tr>\n",
       "      <th>20</th>\n",
       "      <td>2022-02-26</td>\n",
       "      <td>newUsers</td>\n",
       "      <td>18.0</td>\n",
       "      <td>47.0</td>\n",
       "      <td>-29.0</td>\n",
       "      <td>-0.617021</td>\n",
       "    </tr>\n",
       "    <tr>\n",
       "      <th>21</th>\n",
       "      <td>2022-02-27</td>\n",
       "      <td>newUsers</td>\n",
       "      <td>25.0</td>\n",
       "      <td>18.0</td>\n",
       "      <td>7.0</td>\n",
       "      <td>0.388889</td>\n",
       "    </tr>\n",
       "    <tr>\n",
       "      <th>22</th>\n",
       "      <td>2022-02-28</td>\n",
       "      <td>newUsers</td>\n",
       "      <td>31.0</td>\n",
       "      <td>25.0</td>\n",
       "      <td>6.0</td>\n",
       "      <td>0.240000</td>\n",
       "    </tr>\n",
       "    <tr>\n",
       "      <th>23</th>\n",
       "      <td>2022-03-01</td>\n",
       "      <td>newUsers</td>\n",
       "      <td>58.0</td>\n",
       "      <td>31.0</td>\n",
       "      <td>27.0</td>\n",
       "      <td>0.870968</td>\n",
       "    </tr>\n",
       "    <tr>\n",
       "      <th>24</th>\n",
       "      <td>2022-03-02</td>\n",
       "      <td>newUsers</td>\n",
       "      <td>64.0</td>\n",
       "      <td>58.0</td>\n",
       "      <td>6.0</td>\n",
       "      <td>0.103448</td>\n",
       "    </tr>\n",
       "    <tr>\n",
       "      <th>25</th>\n",
       "      <td>2022-03-03</td>\n",
       "      <td>newUsers</td>\n",
       "      <td>51.0</td>\n",
       "      <td>64.0</td>\n",
       "      <td>-13.0</td>\n",
       "      <td>-0.203125</td>\n",
       "    </tr>\n",
       "    <tr>\n",
       "      <th>26</th>\n",
       "      <td>2022-03-04</td>\n",
       "      <td>newUsers</td>\n",
       "      <td>36.0</td>\n",
       "      <td>51.0</td>\n",
       "      <td>-15.0</td>\n",
       "      <td>-0.294118</td>\n",
       "    </tr>\n",
       "    <tr>\n",
       "      <th>27</th>\n",
       "      <td>2022-03-05</td>\n",
       "      <td>newUsers</td>\n",
       "      <td>33.0</td>\n",
       "      <td>36.0</td>\n",
       "      <td>-3.0</td>\n",
       "      <td>-0.083333</td>\n",
       "    </tr>\n",
       "    <tr>\n",
       "      <th>28</th>\n",
       "      <td>2022-03-06</td>\n",
       "      <td>newUsers</td>\n",
       "      <td>21.0</td>\n",
       "      <td>33.0</td>\n",
       "      <td>-12.0</td>\n",
       "      <td>-0.363636</td>\n",
       "    </tr>\n",
       "    <tr>\n",
       "      <th>29</th>\n",
       "      <td>2022-03-07</td>\n",
       "      <td>newUsers</td>\n",
       "      <td>44.0</td>\n",
       "      <td>21.0</td>\n",
       "      <td>23.0</td>\n",
       "      <td>1.095238</td>\n",
       "    </tr>\n",
       "    <tr>\n",
       "      <th>30</th>\n",
       "      <td>2022-03-08</td>\n",
       "      <td>newUsers</td>\n",
       "      <td>39.0</td>\n",
       "      <td>44.0</td>\n",
       "      <td>-5.0</td>\n",
       "      <td>-0.113636</td>\n",
       "    </tr>\n",
       "  </tbody>\n",
       "</table>\n",
       "</div>"
      ],
      "text/plain": [
       "         DATE       KPI  VALUE  VALUE_COMP   VARV      VARP\n",
       "0  2022-02-06  newUsers   75.0         0.0   75.0       inf\n",
       "1  2022-02-07  newUsers   47.0        75.0  -28.0 -0.373333\n",
       "2  2022-02-08  newUsers   30.0        47.0  -17.0 -0.361702\n",
       "3  2022-02-09  newUsers  160.0        30.0  130.0  4.333333\n",
       "4  2022-02-10  newUsers  525.0       160.0  365.0  2.281250\n",
       "5  2022-02-11  newUsers  158.0       525.0 -367.0 -0.699048\n",
       "6  2022-02-12  newUsers   84.0       158.0  -74.0 -0.468354\n",
       "7  2022-02-13  newUsers   76.0        84.0   -8.0 -0.095238\n",
       "8  2022-02-14  newUsers   85.0        76.0    9.0  0.118421\n",
       "9  2022-02-15  newUsers   99.0        85.0   14.0  0.164706\n",
       "10 2022-02-16  newUsers  108.0        99.0    9.0  0.090909\n",
       "11 2022-02-17  newUsers   80.0       108.0  -28.0 -0.259259\n",
       "12 2022-02-18  newUsers   35.0        80.0  -45.0 -0.562500\n",
       "13 2022-02-19  newUsers   21.0        35.0  -14.0 -0.400000\n",
       "14 2022-02-20  newUsers   18.0        21.0   -3.0 -0.142857\n",
       "15 2022-02-21  newUsers   58.0        18.0   40.0  2.222222\n",
       "16 2022-02-22  newUsers   67.0        58.0    9.0  0.155172\n",
       "17 2022-02-23  newUsers   65.0        67.0   -2.0 -0.029851\n",
       "18 2022-02-24  newUsers   44.0        65.0  -21.0 -0.323077\n",
       "19 2022-02-25  newUsers   47.0        44.0    3.0  0.068182\n",
       "20 2022-02-26  newUsers   18.0        47.0  -29.0 -0.617021\n",
       "21 2022-02-27  newUsers   25.0        18.0    7.0  0.388889\n",
       "22 2022-02-28  newUsers   31.0        25.0    6.0  0.240000\n",
       "23 2022-03-01  newUsers   58.0        31.0   27.0  0.870968\n",
       "24 2022-03-02  newUsers   64.0        58.0    6.0  0.103448\n",
       "25 2022-03-03  newUsers   51.0        64.0  -13.0 -0.203125\n",
       "26 2022-03-04  newUsers   36.0        51.0  -15.0 -0.294118\n",
       "27 2022-03-05  newUsers   33.0        36.0   -3.0 -0.083333\n",
       "28 2022-03-06  newUsers   21.0        33.0  -12.0 -0.363636\n",
       "29 2022-03-07  newUsers   44.0        21.0   23.0  1.095238\n",
       "30 2022-03-08  newUsers   39.0        44.0   -5.0 -0.113636"
      ]
     },
     "execution_count": 30,
     "metadata": {},
     "output_type": "execute_result"
    }
   ],
   "source": [
    "def get_trend(metrics,\n",
    "              dimensions,\n",
    "              start_date,\n",
    "              end_date):\n",
    "    \n",
    "    # Get data\n",
    "    df = googleanalytics.connect(json_path=json_path).views.get_data(\n",
    "        view_id,\n",
    "        metrics=metrics,\n",
    "        dimensions=dimensions,\n",
    "        start_date=start_date,\n",
    "        end_date=end_date,\n",
    "        format_type=\"summary\",\n",
    "        pivots_dimensions=\"ga:country\",\n",
    "    )\n",
    "    \n",
    "    # Format trend dataset\n",
    "    df[\"date\"] = df.index\n",
    "    df = df.reset_index(drop=True)\n",
    "    df[\"date\"] = pd.to_datetime(df.apply(lambda row: row.date[0], axis=1))\n",
    "    df[\"KPI\"] = metrics.replace(\"ga:\", \"\")\n",
    "    df[\"VALUE\"] = df[metrics]\n",
    "    df = df.drop(metrics, axis=1)\n",
    "    df.columns = df.columns.str.upper()\n",
    "    \n",
    "    # Calc variation\n",
    "    for idx, row in df.iterrows():\n",
    "        if idx == 0:\n",
    "            value_n1 = 0\n",
    "        else:\n",
    "            value_n1 = df.loc[df.index[idx-1], \"VALUE\"]\n",
    "        df.loc[df.index[idx], \"VALUE_COMP\"] = value_n1\n",
    "    df[\"VARV\"] = df[\"VALUE\"] - df[\"VALUE_COMP\"]\n",
    "    df[\"VARP\"] = df[\"VARV\"] / abs(df[\"VALUE_COMP\"])\n",
    "    return df\n",
    "\n",
    "df = get_trend(metrics,\n",
    "               dimensions,\n",
    "               start_date,\n",
    "               end_date)\n",
    "df"
   ]
  },
  {
   "cell_type": "markdown",
   "id": "df5aee5b",
   "metadata": {
    "papermill": {},
    "tags": []
   },
   "source": [
    "### Plotting linechart"
   ]
  },
  {
   "cell_type": "code",
   "execution_count": 41,
   "id": "bdd79b47-c8bb-467a-812d-f6d0a6c85a9d",
   "metadata": {
    "execution": {
     "iopub.execute_input": "2022-03-08T16:13:42.163115Z",
     "iopub.status.busy": "2022-03-08T16:13:42.162885Z",
     "iopub.status.idle": "2022-03-08T16:13:42.189675Z",
     "shell.execute_reply": "2022-03-08T16:13:42.189147Z",
     "shell.execute_reply.started": "2022-03-08T16:13:42.163092Z"
    },
    "tags": []
   },
   "outputs": [
    {
     "data": {
      "application/vnd.plotly.v1+json": {
       "config": {
        "plotlyServerURL": "https://plot.ly"
       },
       "data": [
        {
         "hoverinfo": "text",
         "mode": "lines+markers",
         "stackgroup": "one",
         "text": [
          "<b>New visitor as of 2022-02-06 : 75</b><br><span style='font-size: 13px;'>+inf% vs last value (+75)</span>",
          "<b>New visitor as of 2022-02-07 : 47</b><br><span style='font-size: 13px;'>-37% vs last value (-28)</span>",
          "<b>New visitor as of 2022-02-08 : 30</b><br><span style='font-size: 13px;'>-36% vs last value (-17)</span>",
          "<b>New visitor as of 2022-02-09 : 160</b><br><span style='font-size: 13px;'>+433% vs last value (+130)</span>",
          "<b>New visitor as of 2022-02-10 : 525</b><br><span style='font-size: 13px;'>+228% vs last value (+365)</span>",
          "<b>New visitor as of 2022-02-11 : 158</b><br><span style='font-size: 13px;'>-70% vs last value (-367)</span>",
          "<b>New visitor as of 2022-02-12 : 84</b><br><span style='font-size: 13px;'>-47% vs last value (-74)</span>",
          "<b>New visitor as of 2022-02-13 : 76</b><br><span style='font-size: 13px;'>-10% vs last value (-8)</span>",
          "<b>New visitor as of 2022-02-14 : 85</b><br><span style='font-size: 13px;'>+12% vs last value (+9)</span>",
          "<b>New visitor as of 2022-02-15 : 99</b><br><span style='font-size: 13px;'>+16% vs last value (+14)</span>",
          "<b>New visitor as of 2022-02-16 : 108</b><br><span style='font-size: 13px;'>+9% vs last value (+9)</span>",
          "<b>New visitor as of 2022-02-17 : 80</b><br><span style='font-size: 13px;'>-26% vs last value (-28)</span>",
          "<b>New visitor as of 2022-02-18 : 35</b><br><span style='font-size: 13px;'>-56% vs last value (-45)</span>",
          "<b>New visitor as of 2022-02-19 : 21</b><br><span style='font-size: 13px;'>-40% vs last value (-14)</span>",
          "<b>New visitor as of 2022-02-20 : 18</b><br><span style='font-size: 13px;'>-14% vs last value (-3)</span>",
          "<b>New visitor as of 2022-02-21 : 58</b><br><span style='font-size: 13px;'>+222% vs last value (+40)</span>",
          "<b>New visitor as of 2022-02-22 : 67</b><br><span style='font-size: 13px;'>+16% vs last value (+9)</span>",
          "<b>New visitor as of 2022-02-23 : 65</b><br><span style='font-size: 13px;'>-3% vs last value (-2)</span>",
          "<b>New visitor as of 2022-02-24 : 44</b><br><span style='font-size: 13px;'>-32% vs last value (-21)</span>",
          "<b>New visitor as of 2022-02-25 : 47</b><br><span style='font-size: 13px;'>+7% vs last value (+3)</span>",
          "<b>New visitor as of 2022-02-26 : 18</b><br><span style='font-size: 13px;'>-62% vs last value (-29)</span>",
          "<b>New visitor as of 2022-02-27 : 25</b><br><span style='font-size: 13px;'>+39% vs last value (+7)</span>",
          "<b>New visitor as of 2022-02-28 : 31</b><br><span style='font-size: 13px;'>+24% vs last value (+6)</span>",
          "<b>New visitor as of 2022-03-01 : 58</b><br><span style='font-size: 13px;'>+87% vs last value (+27)</span>",
          "<b>New visitor as of 2022-03-02 : 64</b><br><span style='font-size: 13px;'>+10% vs last value (+6)</span>",
          "<b>New visitor as of 2022-03-03 : 51</b><br><span style='font-size: 13px;'>-20% vs last value (-13)</span>",
          "<b>New visitor as of 2022-03-04 : 36</b><br><span style='font-size: 13px;'>-29% vs last value (-15)</span>",
          "<b>New visitor as of 2022-03-05 : 33</b><br><span style='font-size: 13px;'>-8% vs last value (-3)</span>",
          "<b>New visitor as of 2022-03-06 : 21</b><br><span style='font-size: 13px;'>-36% vs last value (-12)</span>",
          "<b>New visitor as of 2022-03-07 : 44</b><br><span style='font-size: 13px;'>+110% vs last value (+23)</span>",
          "<b>New visitor as of 2022-03-08 : 39</b><br><span style='font-size: 13px;'>-11% vs last value (-5)</span>"
         ],
         "type": "scatter",
         "x": [
          "2022-02-06T00:00:00",
          "2022-02-07T00:00:00",
          "2022-02-08T00:00:00",
          "2022-02-09T00:00:00",
          "2022-02-10T00:00:00",
          "2022-02-11T00:00:00",
          "2022-02-12T00:00:00",
          "2022-02-13T00:00:00",
          "2022-02-14T00:00:00",
          "2022-02-15T00:00:00",
          "2022-02-16T00:00:00",
          "2022-02-17T00:00:00",
          "2022-02-18T00:00:00",
          "2022-02-19T00:00:00",
          "2022-02-20T00:00:00",
          "2022-02-21T00:00:00",
          "2022-02-22T00:00:00",
          "2022-02-23T00:00:00",
          "2022-02-24T00:00:00",
          "2022-02-25T00:00:00",
          "2022-02-26T00:00:00",
          "2022-02-27T00:00:00",
          "2022-02-28T00:00:00",
          "2022-03-01T00:00:00",
          "2022-03-02T00:00:00",
          "2022-03-03T00:00:00",
          "2022-03-04T00:00:00",
          "2022-03-05T00:00:00",
          "2022-03-06T00:00:00",
          "2022-03-07T00:00:00",
          "2022-03-08T00:00:00"
         ],
         "y": [
          75,
          47,
          30,
          160,
          525,
          158,
          84,
          76,
          85,
          99,
          108,
          80,
          35,
          21,
          18,
          58,
          67,
          65,
          44,
          47,
          18,
          25,
          31,
          58,
          64,
          51,
          36,
          33,
          21,
          44,
          39
         ]
        }
       ],
       "layout": {
        "height": 800,
        "margin": {
         "pad": 10
        },
        "plot_bgcolor": "#ffffff",
        "template": {
         "data": {
          "bar": [
           {
            "error_x": {
             "color": "#2a3f5f"
            },
            "error_y": {
             "color": "#2a3f5f"
            },
            "marker": {
             "line": {
              "color": "#E5ECF6",
              "width": 0.5
             }
            },
            "type": "bar"
           }
          ],
          "barpolar": [
           {
            "marker": {
             "line": {
              "color": "#E5ECF6",
              "width": 0.5
             }
            },
            "type": "barpolar"
           }
          ],
          "carpet": [
           {
            "aaxis": {
             "endlinecolor": "#2a3f5f",
             "gridcolor": "white",
             "linecolor": "white",
             "minorgridcolor": "white",
             "startlinecolor": "#2a3f5f"
            },
            "baxis": {
             "endlinecolor": "#2a3f5f",
             "gridcolor": "white",
             "linecolor": "white",
             "minorgridcolor": "white",
             "startlinecolor": "#2a3f5f"
            },
            "type": "carpet"
           }
          ],
          "choropleth": [
           {
            "colorbar": {
             "outlinewidth": 0,
             "ticks": ""
            },
            "type": "choropleth"
           }
          ],
          "contour": [
           {
            "colorbar": {
             "outlinewidth": 0,
             "ticks": ""
            },
            "colorscale": [
             [
              0,
              "#0d0887"
             ],
             [
              0.1111111111111111,
              "#46039f"
             ],
             [
              0.2222222222222222,
              "#7201a8"
             ],
             [
              0.3333333333333333,
              "#9c179e"
             ],
             [
              0.4444444444444444,
              "#bd3786"
             ],
             [
              0.5555555555555556,
              "#d8576b"
             ],
             [
              0.6666666666666666,
              "#ed7953"
             ],
             [
              0.7777777777777778,
              "#fb9f3a"
             ],
             [
              0.8888888888888888,
              "#fdca26"
             ],
             [
              1,
              "#f0f921"
             ]
            ],
            "type": "contour"
           }
          ],
          "contourcarpet": [
           {
            "colorbar": {
             "outlinewidth": 0,
             "ticks": ""
            },
            "type": "contourcarpet"
           }
          ],
          "heatmap": [
           {
            "colorbar": {
             "outlinewidth": 0,
             "ticks": ""
            },
            "colorscale": [
             [
              0,
              "#0d0887"
             ],
             [
              0.1111111111111111,
              "#46039f"
             ],
             [
              0.2222222222222222,
              "#7201a8"
             ],
             [
              0.3333333333333333,
              "#9c179e"
             ],
             [
              0.4444444444444444,
              "#bd3786"
             ],
             [
              0.5555555555555556,
              "#d8576b"
             ],
             [
              0.6666666666666666,
              "#ed7953"
             ],
             [
              0.7777777777777778,
              "#fb9f3a"
             ],
             [
              0.8888888888888888,
              "#fdca26"
             ],
             [
              1,
              "#f0f921"
             ]
            ],
            "type": "heatmap"
           }
          ],
          "heatmapgl": [
           {
            "colorbar": {
             "outlinewidth": 0,
             "ticks": ""
            },
            "colorscale": [
             [
              0,
              "#0d0887"
             ],
             [
              0.1111111111111111,
              "#46039f"
             ],
             [
              0.2222222222222222,
              "#7201a8"
             ],
             [
              0.3333333333333333,
              "#9c179e"
             ],
             [
              0.4444444444444444,
              "#bd3786"
             ],
             [
              0.5555555555555556,
              "#d8576b"
             ],
             [
              0.6666666666666666,
              "#ed7953"
             ],
             [
              0.7777777777777778,
              "#fb9f3a"
             ],
             [
              0.8888888888888888,
              "#fdca26"
             ],
             [
              1,
              "#f0f921"
             ]
            ],
            "type": "heatmapgl"
           }
          ],
          "histogram": [
           {
            "marker": {
             "colorbar": {
              "outlinewidth": 0,
              "ticks": ""
             }
            },
            "type": "histogram"
           }
          ],
          "histogram2d": [
           {
            "colorbar": {
             "outlinewidth": 0,
             "ticks": ""
            },
            "colorscale": [
             [
              0,
              "#0d0887"
             ],
             [
              0.1111111111111111,
              "#46039f"
             ],
             [
              0.2222222222222222,
              "#7201a8"
             ],
             [
              0.3333333333333333,
              "#9c179e"
             ],
             [
              0.4444444444444444,
              "#bd3786"
             ],
             [
              0.5555555555555556,
              "#d8576b"
             ],
             [
              0.6666666666666666,
              "#ed7953"
             ],
             [
              0.7777777777777778,
              "#fb9f3a"
             ],
             [
              0.8888888888888888,
              "#fdca26"
             ],
             [
              1,
              "#f0f921"
             ]
            ],
            "type": "histogram2d"
           }
          ],
          "histogram2dcontour": [
           {
            "colorbar": {
             "outlinewidth": 0,
             "ticks": ""
            },
            "colorscale": [
             [
              0,
              "#0d0887"
             ],
             [
              0.1111111111111111,
              "#46039f"
             ],
             [
              0.2222222222222222,
              "#7201a8"
             ],
             [
              0.3333333333333333,
              "#9c179e"
             ],
             [
              0.4444444444444444,
              "#bd3786"
             ],
             [
              0.5555555555555556,
              "#d8576b"
             ],
             [
              0.6666666666666666,
              "#ed7953"
             ],
             [
              0.7777777777777778,
              "#fb9f3a"
             ],
             [
              0.8888888888888888,
              "#fdca26"
             ],
             [
              1,
              "#f0f921"
             ]
            ],
            "type": "histogram2dcontour"
           }
          ],
          "mesh3d": [
           {
            "colorbar": {
             "outlinewidth": 0,
             "ticks": ""
            },
            "type": "mesh3d"
           }
          ],
          "parcoords": [
           {
            "line": {
             "colorbar": {
              "outlinewidth": 0,
              "ticks": ""
             }
            },
            "type": "parcoords"
           }
          ],
          "pie": [
           {
            "automargin": true,
            "type": "pie"
           }
          ],
          "scatter": [
           {
            "marker": {
             "colorbar": {
              "outlinewidth": 0,
              "ticks": ""
             }
            },
            "type": "scatter"
           }
          ],
          "scatter3d": [
           {
            "line": {
             "colorbar": {
              "outlinewidth": 0,
              "ticks": ""
             }
            },
            "marker": {
             "colorbar": {
              "outlinewidth": 0,
              "ticks": ""
             }
            },
            "type": "scatter3d"
           }
          ],
          "scattercarpet": [
           {
            "marker": {
             "colorbar": {
              "outlinewidth": 0,
              "ticks": ""
             }
            },
            "type": "scattercarpet"
           }
          ],
          "scattergeo": [
           {
            "marker": {
             "colorbar": {
              "outlinewidth": 0,
              "ticks": ""
             }
            },
            "type": "scattergeo"
           }
          ],
          "scattergl": [
           {
            "marker": {
             "colorbar": {
              "outlinewidth": 0,
              "ticks": ""
             }
            },
            "type": "scattergl"
           }
          ],
          "scattermapbox": [
           {
            "marker": {
             "colorbar": {
              "outlinewidth": 0,
              "ticks": ""
             }
            },
            "type": "scattermapbox"
           }
          ],
          "scatterpolar": [
           {
            "marker": {
             "colorbar": {
              "outlinewidth": 0,
              "ticks": ""
             }
            },
            "type": "scatterpolar"
           }
          ],
          "scatterpolargl": [
           {
            "marker": {
             "colorbar": {
              "outlinewidth": 0,
              "ticks": ""
             }
            },
            "type": "scatterpolargl"
           }
          ],
          "scatterternary": [
           {
            "marker": {
             "colorbar": {
              "outlinewidth": 0,
              "ticks": ""
             }
            },
            "type": "scatterternary"
           }
          ],
          "surface": [
           {
            "colorbar": {
             "outlinewidth": 0,
             "ticks": ""
            },
            "colorscale": [
             [
              0,
              "#0d0887"
             ],
             [
              0.1111111111111111,
              "#46039f"
             ],
             [
              0.2222222222222222,
              "#7201a8"
             ],
             [
              0.3333333333333333,
              "#9c179e"
             ],
             [
              0.4444444444444444,
              "#bd3786"
             ],
             [
              0.5555555555555556,
              "#d8576b"
             ],
             [
              0.6666666666666666,
              "#ed7953"
             ],
             [
              0.7777777777777778,
              "#fb9f3a"
             ],
             [
              0.8888888888888888,
              "#fdca26"
             ],
             [
              1,
              "#f0f921"
             ]
            ],
            "type": "surface"
           }
          ],
          "table": [
           {
            "cells": {
             "fill": {
              "color": "#EBF0F8"
             },
             "line": {
              "color": "white"
             }
            },
            "header": {
             "fill": {
              "color": "#C8D4E3"
             },
             "line": {
              "color": "white"
             }
            },
            "type": "table"
           }
          ]
         },
         "layout": {
          "annotationdefaults": {
           "arrowcolor": "#2a3f5f",
           "arrowhead": 0,
           "arrowwidth": 1
          },
          "autotypenumbers": "strict",
          "coloraxis": {
           "colorbar": {
            "outlinewidth": 0,
            "ticks": ""
           }
          },
          "colorscale": {
           "diverging": [
            [
             0,
             "#8e0152"
            ],
            [
             0.1,
             "#c51b7d"
            ],
            [
             0.2,
             "#de77ae"
            ],
            [
             0.3,
             "#f1b6da"
            ],
            [
             0.4,
             "#fde0ef"
            ],
            [
             0.5,
             "#f7f7f7"
            ],
            [
             0.6,
             "#e6f5d0"
            ],
            [
             0.7,
             "#b8e186"
            ],
            [
             0.8,
             "#7fbc41"
            ],
            [
             0.9,
             "#4d9221"
            ],
            [
             1,
             "#276419"
            ]
           ],
           "sequential": [
            [
             0,
             "#0d0887"
            ],
            [
             0.1111111111111111,
             "#46039f"
            ],
            [
             0.2222222222222222,
             "#7201a8"
            ],
            [
             0.3333333333333333,
             "#9c179e"
            ],
            [
             0.4444444444444444,
             "#bd3786"
            ],
            [
             0.5555555555555556,
             "#d8576b"
            ],
            [
             0.6666666666666666,
             "#ed7953"
            ],
            [
             0.7777777777777778,
             "#fb9f3a"
            ],
            [
             0.8888888888888888,
             "#fdca26"
            ],
            [
             1,
             "#f0f921"
            ]
           ],
           "sequentialminus": [
            [
             0,
             "#0d0887"
            ],
            [
             0.1111111111111111,
             "#46039f"
            ],
            [
             0.2222222222222222,
             "#7201a8"
            ],
            [
             0.3333333333333333,
             "#9c179e"
            ],
            [
             0.4444444444444444,
             "#bd3786"
            ],
            [
             0.5555555555555556,
             "#d8576b"
            ],
            [
             0.6666666666666666,
             "#ed7953"
            ],
            [
             0.7777777777777778,
             "#fb9f3a"
            ],
            [
             0.8888888888888888,
             "#fdca26"
            ],
            [
             1,
             "#f0f921"
            ]
           ]
          },
          "colorway": [
           "#636efa",
           "#EF553B",
           "#00cc96",
           "#ab63fa",
           "#FFA15A",
           "#19d3f3",
           "#FF6692",
           "#B6E880",
           "#FF97FF",
           "#FECB52"
          ],
          "font": {
           "color": "#2a3f5f"
          },
          "geo": {
           "bgcolor": "white",
           "lakecolor": "white",
           "landcolor": "#E5ECF6",
           "showlakes": true,
           "showland": true,
           "subunitcolor": "white"
          },
          "hoverlabel": {
           "align": "left"
          },
          "hovermode": "closest",
          "mapbox": {
           "style": "light"
          },
          "paper_bgcolor": "white",
          "plot_bgcolor": "#E5ECF6",
          "polar": {
           "angularaxis": {
            "gridcolor": "white",
            "linecolor": "white",
            "ticks": ""
           },
           "bgcolor": "#E5ECF6",
           "radialaxis": {
            "gridcolor": "white",
            "linecolor": "white",
            "ticks": ""
           }
          },
          "scene": {
           "xaxis": {
            "backgroundcolor": "#E5ECF6",
            "gridcolor": "white",
            "gridwidth": 2,
            "linecolor": "white",
            "showbackground": true,
            "ticks": "",
            "zerolinecolor": "white"
           },
           "yaxis": {
            "backgroundcolor": "#E5ECF6",
            "gridcolor": "white",
            "gridwidth": 2,
            "linecolor": "white",
            "showbackground": true,
            "ticks": "",
            "zerolinecolor": "white"
           },
           "zaxis": {
            "backgroundcolor": "#E5ECF6",
            "gridcolor": "white",
            "gridwidth": 2,
            "linecolor": "white",
            "showbackground": true,
            "ticks": "",
            "zerolinecolor": "white"
           }
          },
          "shapedefaults": {
           "line": {
            "color": "#2a3f5f"
           }
          },
          "ternary": {
           "aaxis": {
            "gridcolor": "white",
            "linecolor": "white",
            "ticks": ""
           },
           "baxis": {
            "gridcolor": "white",
            "linecolor": "white",
            "ticks": ""
           },
           "bgcolor": "#E5ECF6",
           "caxis": {
            "gridcolor": "white",
            "linecolor": "white",
            "ticks": ""
           }
          },
          "title": {
           "x": 0.05
          },
          "xaxis": {
           "automargin": true,
           "gridcolor": "white",
           "linecolor": "white",
           "ticks": "",
           "title": {
            "standoff": 15
           },
           "zerolinecolor": "white",
           "zerolinewidth": 2
          },
          "yaxis": {
           "automargin": true,
           "gridcolor": "white",
           "linecolor": "white",
           "ticks": "",
           "title": {
            "standoff": 15
           },
           "zerolinecolor": "white",
           "zerolinewidth": 2
          }
         }
        },
        "title": {
         "font": {
          "color": "black",
          "family": "Arial",
          "size": 18
         },
         "text": "<b>New visitor as of 2022-03-08 : 39</b><br><span style='font-size: 13px;'>-11% vs last value (-5)</span>"
        },
        "width": 1200,
        "xaxis": {
         "autorange": true,
         "range": [
          "2022-02-06",
          "2022-03-08"
         ],
         "type": "date"
        },
        "yaxis": {
         "autorange": true,
         "range": [
          0,
          556.1725758222982
         ],
         "type": "linear"
        }
       }
      },
      "image/png": "[encoded data removed]",
      "text/html": [
       "<div>                            <div id=\"3b96f695-ba45-4bb7-83b0-912e8f295f37\" class=\"plotly-graph-div\" style=\"height:800px; width:1200px;\"></div>            <script type=\"text/javascript\">                require([\"plotly\"], function(Plotly) {                    window.PLOTLYENV=window.PLOTLYENV || {};                                    if (document.getElementById(\"3b96f695-ba45-4bb7-83b0-912e8f295f37\")) {                    Plotly.newPlot(                        \"3b96f695-ba45-4bb7-83b0-912e8f295f37\",                        [{\"hoverinfo\": \"text\", \"mode\": \"lines+markers\", \"stackgroup\": \"one\", \"text\": [\"<b>New visitor as of 2022-02-06 : 75</b><br><span style='font-size: 13px;'>+inf% vs last value (+75)</span>\", \"<b>New visitor as of 2022-02-07 : 47</b><br><span style='font-size: 13px;'>-37% vs last value (-28)</span>\", \"<b>New visitor as of 2022-02-08 : 30</b><br><span style='font-size: 13px;'>-36% vs last value (-17)</span>\", \"<b>New visitor as of 2022-02-09 : 160</b><br><span style='font-size: 13px;'>+433% vs last value (+130)</span>\", \"<b>New visitor as of 2022-02-10 : 525</b><br><span style='font-size: 13px;'>+228% vs last value (+365)</span>\", \"<b>New visitor as of 2022-02-11 : 158</b><br><span style='font-size: 13px;'>-70% vs last value (-367)</span>\", \"<b>New visitor as of 2022-02-12 : 84</b><br><span style='font-size: 13px;'>-47% vs last value (-74)</span>\", \"<b>New visitor as of 2022-02-13 : 76</b><br><span style='font-size: 13px;'>-10% vs last value (-8)</span>\", \"<b>New visitor as of 2022-02-14 : 85</b><br><span style='font-size: 13px;'>+12% vs last value (+9)</span>\", \"<b>New visitor as of 2022-02-15 : 99</b><br><span style='font-size: 13px;'>+16% vs last value (+14)</span>\", \"<b>New visitor as of 2022-02-16 : 108</b><br><span style='font-size: 13px;'>+9% vs last value (+9)</span>\", \"<b>New visitor as of 2022-02-17 : 80</b><br><span style='font-size: 13px;'>-26% vs last value (-28)</span>\", \"<b>New visitor as of 2022-02-18 : 35</b><br><span style='font-size: 13px;'>-56% vs last value (-45)</span>\", \"<b>New visitor as of 2022-02-19 : 21</b><br><span style='font-size: 13px;'>-40% vs last value (-14)</span>\", \"<b>New visitor as of 2022-02-20 : 18</b><br><span style='font-size: 13px;'>-14% vs last value (-3)</span>\", \"<b>New visitor as of 2022-02-21 : 58</b><br><span style='font-size: 13px;'>+222% vs last value (+40)</span>\", \"<b>New visitor as of 2022-02-22 : 67</b><br><span style='font-size: 13px;'>+16% vs last value (+9)</span>\", \"<b>New visitor as of 2022-02-23 : 65</b><br><span style='font-size: 13px;'>-3% vs last value (-2)</span>\", \"<b>New visitor as of 2022-02-24 : 44</b><br><span style='font-size: 13px;'>-32% vs last value (-21)</span>\", \"<b>New visitor as of 2022-02-25 : 47</b><br><span style='font-size: 13px;'>+7% vs last value (+3)</span>\", \"<b>New visitor as of 2022-02-26 : 18</b><br><span style='font-size: 13px;'>-62% vs last value (-29)</span>\", \"<b>New visitor as of 2022-02-27 : 25</b><br><span style='font-size: 13px;'>+39% vs last value (+7)</span>\", \"<b>New visitor as of 2022-02-28 : 31</b><br><span style='font-size: 13px;'>+24% vs last value (+6)</span>\", \"<b>New visitor as of 2022-03-01 : 58</b><br><span style='font-size: 13px;'>+87% vs last value (+27)</span>\", \"<b>New visitor as of 2022-03-02 : 64</b><br><span style='font-size: 13px;'>+10% vs last value (+6)</span>\", \"<b>New visitor as of 2022-03-03 : 51</b><br><span style='font-size: 13px;'>-20% vs last value (-13)</span>\", \"<b>New visitor as of 2022-03-04 : 36</b><br><span style='font-size: 13px;'>-29% vs last value (-15)</span>\", \"<b>New visitor as of 2022-03-05 : 33</b><br><span style='font-size: 13px;'>-8% vs last value (-3)</span>\", \"<b>New visitor as of 2022-03-06 : 21</b><br><span style='font-size: 13px;'>-36% vs last value (-12)</span>\", \"<b>New visitor as of 2022-03-07 : 44</b><br><span style='font-size: 13px;'>+110% vs last value (+23)</span>\", \"<b>New visitor as of 2022-03-08 : 39</b><br><span style='font-size: 13px;'>-11% vs last value (-5)</span>\"], \"type\": \"scatter\", \"x\": [\"2022-02-06T00:00:00\", \"2022-02-07T00:00:00\", \"2022-02-08T00:00:00\", \"2022-02-09T00:00:00\", \"2022-02-10T00:00:00\", \"2022-02-11T00:00:00\", \"2022-02-12T00:00:00\", \"2022-02-13T00:00:00\", \"2022-02-14T00:00:00\", \"2022-02-15T00:00:00\", \"2022-02-16T00:00:00\", \"2022-02-17T00:00:00\", \"2022-02-18T00:00:00\", \"2022-02-19T00:00:00\", \"2022-02-20T00:00:00\", \"2022-02-21T00:00:00\", \"2022-02-22T00:00:00\", \"2022-02-23T00:00:00\", \"2022-02-24T00:00:00\", \"2022-02-25T00:00:00\", \"2022-02-26T00:00:00\", \"2022-02-27T00:00:00\", \"2022-02-28T00:00:00\", \"2022-03-01T00:00:00\", \"2022-03-02T00:00:00\", \"2022-03-03T00:00:00\", \"2022-03-04T00:00:00\", \"2022-03-05T00:00:00\", \"2022-03-06T00:00:00\", \"2022-03-07T00:00:00\", \"2022-03-08T00:00:00\"], \"y\": [75.0, 47.0, 30.0, 160.0, 525.0, 158.0, 84.0, 76.0, 85.0, 99.0, 108.0, 80.0, 35.0, 21.0, 18.0, 58.0, 67.0, 65.0, 44.0, 47.0, 18.0, 25.0, 31.0, 58.0, 64.0, 51.0, 36.0, 33.0, 21.0, 44.0, 39.0]}],                        {\"height\": 800, \"margin\": {\"pad\": 10}, \"plot_bgcolor\": \"#ffffff\", \"template\": {\"data\": {\"bar\": [{\"error_x\": {\"color\": \"#2a3f5f\"}, \"error_y\": {\"color\": \"#2a3f5f\"}, \"marker\": {\"line\": {\"color\": \"#E5ECF6\", \"width\": 0.5}}, \"type\": \"bar\"}], \"barpolar\": [{\"marker\": {\"line\": {\"color\": \"#E5ECF6\", \"width\": 0.5}}, \"type\": \"barpolar\"}], \"carpet\": [{\"aaxis\": {\"endlinecolor\": \"#2a3f5f\", \"gridcolor\": \"white\", \"linecolor\": \"white\", \"minorgridcolor\": \"white\", \"startlinecolor\": \"#2a3f5f\"}, \"baxis\": {\"endlinecolor\": \"#2a3f5f\", \"gridcolor\": \"white\", \"linecolor\": \"white\", \"minorgridcolor\": \"white\", \"startlinecolor\": \"#2a3f5f\"}, \"type\": \"carpet\"}], \"choropleth\": [{\"colorbar\": {\"outlinewidth\": 0, \"ticks\": \"\"}, \"type\": \"choropleth\"}], \"contour\": [{\"colorbar\": {\"outlinewidth\": 0, \"ticks\": \"\"}, \"colorscale\": [[0.0, \"#0d0887\"], [0.1111111111111111, \"#46039f\"], [0.2222222222222222, \"#7201a8\"], [0.3333333333333333, \"#9c179e\"], [0.4444444444444444, \"#bd3786\"], [0.5555555555555556, \"#d8576b\"], [0.6666666666666666, \"#ed7953\"], [0.7777777777777778, \"#fb9f3a\"], [0.8888888888888888, \"#fdca26\"], [1.0, \"#f0f921\"]], \"type\": \"contour\"}], \"contourcarpet\": [{\"colorbar\": {\"outlinewidth\": 0, \"ticks\": \"\"}, \"type\": \"contourcarpet\"}], \"heatmap\": [{\"colorbar\": {\"outlinewidth\": 0, \"ticks\": \"\"}, \"colorscale\": [[0.0, \"#0d0887\"], [0.1111111111111111, \"#46039f\"], [0.2222222222222222, \"#7201a8\"], [0.3333333333333333, \"#9c179e\"], [0.4444444444444444, \"#bd3786\"], [0.5555555555555556, \"#d8576b\"], [0.6666666666666666, \"#ed7953\"], [0.7777777777777778, \"#fb9f3a\"], [0.8888888888888888, \"#fdca26\"], [1.0, \"#f0f921\"]], \"type\": \"heatmap\"}], \"heatmapgl\": [{\"colorbar\": {\"outlinewidth\": 0, \"ticks\": \"\"}, \"colorscale\": [[0.0, \"#0d0887\"], [0.1111111111111111, \"#46039f\"], [0.2222222222222222, \"#7201a8\"], [0.3333333333333333, \"#9c179e\"], [0.4444444444444444, \"#bd3786\"], [0.5555555555555556, \"#d8576b\"], [0.6666666666666666, \"#ed7953\"], [0.7777777777777778, \"#fb9f3a\"], [0.8888888888888888, \"#fdca26\"], [1.0, \"#f0f921\"]], \"type\": \"heatmapgl\"}], \"histogram\": [{\"marker\": {\"colorbar\": {\"outlinewidth\": 0, \"ticks\": \"\"}}, \"type\": \"histogram\"}], \"histogram2d\": [{\"colorbar\": {\"outlinewidth\": 0, \"ticks\": \"\"}, \"colorscale\": [[0.0, \"#0d0887\"], [0.1111111111111111, \"#46039f\"], [0.2222222222222222, \"#7201a8\"], [0.3333333333333333, \"#9c179e\"], [0.4444444444444444, \"#bd3786\"], [0.5555555555555556, \"#d8576b\"], [0.6666666666666666, \"#ed7953\"], [0.7777777777777778, \"#fb9f3a\"], [0.8888888888888888, \"#fdca26\"], [1.0, \"#f0f921\"]], \"type\": \"histogram2d\"}], \"histogram2dcontour\": [{\"colorbar\": {\"outlinewidth\": 0, \"ticks\": \"\"}, \"colorscale\": [[0.0, \"#0d0887\"], [0.1111111111111111, \"#46039f\"], [0.2222222222222222, \"#7201a8\"], [0.3333333333333333, \"#9c179e\"], [0.4444444444444444, \"#bd3786\"], [0.5555555555555556, \"#d8576b\"], [0.6666666666666666, \"#ed7953\"], [0.7777777777777778, \"#fb9f3a\"], [0.8888888888888888, \"#fdca26\"], [1.0, \"#f0f921\"]], \"type\": \"histogram2dcontour\"}], \"mesh3d\": [{\"colorbar\": {\"outlinewidth\": 0, \"ticks\": \"\"}, \"type\": \"mesh3d\"}], \"parcoords\": [{\"line\": {\"colorbar\": {\"outlinewidth\": 0, \"ticks\": \"\"}}, \"type\": \"parcoords\"}], \"pie\": [{\"automargin\": true, \"type\": \"pie\"}], \"scatter\": [{\"marker\": {\"colorbar\": {\"outlinewidth\": 0, \"ticks\": \"\"}}, \"type\": \"scatter\"}], \"scatter3d\": [{\"line\": {\"colorbar\": {\"outlinewidth\": 0, \"ticks\": \"\"}}, \"marker\": {\"colorbar\": {\"outlinewidth\": 0, \"ticks\": \"\"}}, \"type\": \"scatter3d\"}], \"scattercarpet\": [{\"marker\": {\"colorbar\": {\"outlinewidth\": 0, \"ticks\": \"\"}}, \"type\": \"scattercarpet\"}], \"scattergeo\": [{\"marker\": {\"colorbar\": {\"outlinewidth\": 0, \"ticks\": \"\"}}, \"type\": \"scattergeo\"}], \"scattergl\": [{\"marker\": {\"colorbar\": {\"outlinewidth\": 0, \"ticks\": \"\"}}, \"type\": \"scattergl\"}], \"scattermapbox\": [{\"marker\": {\"colorbar\": {\"outlinewidth\": 0, \"ticks\": \"\"}}, \"type\": \"scattermapbox\"}], \"scatterpolar\": [{\"marker\": {\"colorbar\": {\"outlinewidth\": 0, \"ticks\": \"\"}}, \"type\": \"scatterpolar\"}], \"scatterpolargl\": [{\"marker\": {\"colorbar\": {\"outlinewidth\": 0, \"ticks\": \"\"}}, \"type\": \"scatterpolargl\"}], \"scatterternary\": [{\"marker\": {\"colorbar\": {\"outlinewidth\": 0, \"ticks\": \"\"}}, \"type\": \"scatterternary\"}], \"surface\": [{\"colorbar\": {\"outlinewidth\": 0, \"ticks\": \"\"}, \"colorscale\": [[0.0, \"#0d0887\"], [0.1111111111111111, \"#46039f\"], [0.2222222222222222, \"#7201a8\"], [0.3333333333333333, \"#9c179e\"], [0.4444444444444444, \"#bd3786\"], [0.5555555555555556, \"#d8576b\"], [0.6666666666666666, \"#ed7953\"], [0.7777777777777778, \"#fb9f3a\"], [0.8888888888888888, \"#fdca26\"], [1.0, \"#f0f921\"]], \"type\": \"surface\"}], \"table\": [{\"cells\": {\"fill\": {\"color\": \"#EBF0F8\"}, \"line\": {\"color\": \"white\"}}, \"header\": {\"fill\": {\"color\": \"#C8D4E3\"}, \"line\": {\"color\": \"white\"}}, \"type\": \"table\"}]}, \"layout\": {\"annotationdefaults\": {\"arrowcolor\": \"#2a3f5f\", \"arrowhead\": 0, \"arrowwidth\": 1}, \"autotypenumbers\": \"strict\", \"coloraxis\": {\"colorbar\": {\"outlinewidth\": 0, \"ticks\": \"\"}}, \"colorscale\": {\"diverging\": [[0, \"#8e0152\"], [0.1, \"#c51b7d\"], [0.2, \"#de77ae\"], [0.3, \"#f1b6da\"], [0.4, \"#fde0ef\"], [0.5, \"#f7f7f7\"], [0.6, \"#e6f5d0\"], [0.7, \"#b8e186\"], [0.8, \"#7fbc41\"], [0.9, \"#4d9221\"], [1, \"#276419\"]], \"sequential\": [[0.0, \"#0d0887\"], [0.1111111111111111, \"#46039f\"], [0.2222222222222222, \"#7201a8\"], [0.3333333333333333, \"#9c179e\"], [0.4444444444444444, \"#bd3786\"], [0.5555555555555556, \"#d8576b\"], [0.6666666666666666, \"#ed7953\"], [0.7777777777777778, \"#fb9f3a\"], [0.8888888888888888, \"#fdca26\"], [1.0, \"#f0f921\"]], \"sequentialminus\": [[0.0, \"#0d0887\"], [0.1111111111111111, \"#46039f\"], [0.2222222222222222, \"#7201a8\"], [0.3333333333333333, \"#9c179e\"], [0.4444444444444444, \"#bd3786\"], [0.5555555555555556, \"#d8576b\"], [0.6666666666666666, \"#ed7953\"], [0.7777777777777778, \"#fb9f3a\"], [0.8888888888888888, \"#fdca26\"], [1.0, \"#f0f921\"]]}, \"colorway\": [\"#636efa\", \"#EF553B\", \"#00cc96\", \"#ab63fa\", \"#FFA15A\", \"#19d3f3\", \"#FF6692\", \"#B6E880\", \"#FF97FF\", \"#FECB52\"], \"font\": {\"color\": \"#2a3f5f\"}, \"geo\": {\"bgcolor\": \"white\", \"lakecolor\": \"white\", \"landcolor\": \"#E5ECF6\", \"showlakes\": true, \"showland\": true, \"subunitcolor\": \"white\"}, \"hoverlabel\": {\"align\": \"left\"}, \"hovermode\": \"closest\", \"mapbox\": {\"style\": \"light\"}, \"paper_bgcolor\": \"white\", \"plot_bgcolor\": \"#E5ECF6\", \"polar\": {\"angularaxis\": {\"gridcolor\": \"white\", \"linecolor\": \"white\", \"ticks\": \"\"}, \"bgcolor\": \"#E5ECF6\", \"radialaxis\": {\"gridcolor\": \"white\", \"linecolor\": \"white\", \"ticks\": \"\"}}, \"scene\": {\"xaxis\": {\"backgroundcolor\": \"#E5ECF6\", \"gridcolor\": \"white\", \"gridwidth\": 2, \"linecolor\": \"white\", \"showbackground\": true, \"ticks\": \"\", \"zerolinecolor\": \"white\"}, \"yaxis\": {\"backgroundcolor\": \"#E5ECF6\", \"gridcolor\": \"white\", \"gridwidth\": 2, \"linecolor\": \"white\", \"showbackground\": true, \"ticks\": \"\", \"zerolinecolor\": \"white\"}, \"zaxis\": {\"backgroundcolor\": \"#E5ECF6\", \"gridcolor\": \"white\", \"gridwidth\": 2, \"linecolor\": \"white\", \"showbackground\": true, \"ticks\": \"\", \"zerolinecolor\": \"white\"}}, \"shapedefaults\": {\"line\": {\"color\": \"#2a3f5f\"}}, \"ternary\": {\"aaxis\": {\"gridcolor\": \"white\", \"linecolor\": \"white\", \"ticks\": \"\"}, \"baxis\": {\"gridcolor\": \"white\", \"linecolor\": \"white\", \"ticks\": \"\"}, \"bgcolor\": \"#E5ECF6\", \"caxis\": {\"gridcolor\": \"white\", \"linecolor\": \"white\", \"ticks\": \"\"}}, \"title\": {\"x\": 0.05}, \"xaxis\": {\"automargin\": true, \"gridcolor\": \"white\", \"linecolor\": \"white\", \"ticks\": \"\", \"title\": {\"standoff\": 15}, \"zerolinecolor\": \"white\", \"zerolinewidth\": 2}, \"yaxis\": {\"automargin\": true, \"gridcolor\": \"white\", \"linecolor\": \"white\", \"ticks\": \"\", \"title\": {\"standoff\": 15}, \"zerolinecolor\": \"white\", \"zerolinewidth\": 2}}}, \"title\": {\"font\": {\"color\": \"black\", \"family\": \"Arial\", \"size\": 18}, \"text\": \"<b>New visitor as of 2022-03-08 : 39</b><br><span style='font-size: 13px;'>-11% vs last value (-5)</span>\"}, \"width\": 1200},                        {\"responsive\": true}                    ).then(function(){\n",
       "                            \n",
       "var gd = document.getElementById('3b96f695-ba45-4bb7-83b0-912e8f295f37');\n",
       "var x = new MutationObserver(function (mutations, observer) {{\n",
       "        var display = window.getComputedStyle(gd).display;\n",
       "        if (!display || display === 'none') {{\n",
       "            console.log([gd, 'removed!']);\n",
       "            Plotly.purge(gd);\n",
       "            observer.disconnect();\n",
       "        }}\n",
       "}});\n",
       "\n",
       "// Listen for the removal of the full notebook cells\n",
       "var notebookContainer = gd.closest('#notebook-container');\n",
       "if (notebookContainer) {{\n",
       "    x.observe(notebookContainer, {childList: true});\n",
       "}}\n",
       "\n",
       "// Listen for the clearing of the current output cell\n",
       "var outputEl = gd.closest('.output');\n",
       "if (outputEl) {{\n",
       "    x.observe(outputEl, {childList: true});\n",
       "}}\n",
       "\n",
       "                        })                };                });            </script>        </div>"
      ]
     },
     "metadata": {},
     "output_type": "display_data"
    }
   ],
   "source": [
    "def create_linechart(df: pd.DataFrame, label, value, varv, varp, title):\n",
    "    \"\"\"\n",
    "    Plot linechart as an area chart in Plotly.\n",
    "    \"\"\"\n",
    "    # Prep data\n",
    "    df[\"VALUE_D\"] = df[value].map(\"{:,.0f}\".format).str.replace(\",\", \" \")\n",
    "    df[\"VARV_D\"] = df[varv].map(\"{:,.0f}\".format).str.replace(\",\", \" \")\n",
    "    df.loc[df[varv] > 0, \"VARV_D\"] = \"+\" + df[\"VARV_D\"]\n",
    "    df[\"VARP_D\"] = df[varp].map(\"{:,.0%}\".format).str.replace(\",\", \" \")\n",
    "    df.loc[df[varp] > 0, \"VARP_D\"] = \"+\" + df[\"VARP_D\"]    \n",
    "\n",
    "    # Create hovertext\n",
    "    df[\"TEXT\"] = (f\"<b>{title} as of \" + df[label].astype(str) + \" : \" + df[\"VALUE_D\"] + \"</b><br><span style='font-size: 13px;'>\" + df[\"VARP_D\"] + \" vs last value (\" + df[\"VARV_D\"] + \")</span>\")\n",
    "    \n",
    "    # Get subtitle\n",
    "    title_display = df.loc[df.index[-1], \"TEXT\"] \n",
    "    \n",
    "    # Create data\n",
    "    data = go.Scatter(\n",
    "        x=df[label],\n",
    "        y=df[value],\n",
    "        stackgroup=\"one\",\n",
    "        text=df[\"TEXT\"],\n",
    "        hoverinfo=\"text\",\n",
    "    )\n",
    "    \n",
    "    # Create layout\n",
    "    layout = go.Layout(\n",
    "        title=title_display,\n",
    "        title_font=dict(family=\"Arial\", size=18, color=\"black\"),\n",
    "        plot_bgcolor=\"#ffffff\",\n",
    "        width=1200,\n",
    "        height=800,\n",
    "        margin_pad=10,\n",
    "    )\n",
    "    fig = go.Figure(data=data, layout=layout)\n",
    "    fig.update_traces(mode='lines+markers')\n",
    "    return fig\n",
    "\n",
    "fig = create_linechart(df, \"DATE\", \"VALUE\", \"VARV\", \"VARP\", title)\n",
    "fig"
   ]
  },
  {
   "cell_type": "markdown",
   "id": "1f16409e",
   "metadata": {
    "execution": {
     "iopub.execute_input": "2021-07-02T23:32:10.789097Z",
     "iopub.status.busy": "2021-07-02T23:32:10.788829Z",
     "iopub.status.idle": "2021-07-02T23:32:10.796900Z",
     "shell.execute_reply": "2021-07-02T23:32:10.796358Z",
     "shell.execute_reply.started": "2021-07-02T23:32:10.789033Z"
    },
    "papermill": {},
    "tags": []
   },
   "source": [
    "## Output"
   ]
  },
  {
   "cell_type": "markdown",
   "id": "73cd9e78-7589-48c3-bf10-90598f54693a",
   "metadata": {},
   "source": [
    "### Export and share graph"
   ]
  },
  {
   "cell_type": "code",
   "execution_count": null,
   "id": "4913d04d-ef6e-48d5-8414-f017bbf52a38",
   "metadata": {},
   "outputs": [],
   "source": [
    "# Export in HTML\n",
    "fig.write_html(html_output)\n",
    "\n",
    "# Shave with naas\n",
    "#-> Uncomment the line below (by removing the hashtag) to share your asset with naas\n",
    "# naas.asset.add(html_output, params={\"inline\": True})\n",
    "\n",
    "#-> Uncomment the line below (by removing the hashtag)  to delete your asset\n",
    "# naas.asset.delete(html_output)"
   ]
  }
 ],
 "metadata": {
  "interpreter": {
   "hash": "aee8b7b246df8f9039afb4144a1f6fd8d2ca17a180786b69acc140d282b71a49"
  },
  "kernelspec": {
   "display_name": "Python 3",
   "language": "python",
   "name": "python3"
  },
  "language_info": {
   "codemirror_mode": {
    "name": "ipython",
    "version": 3
   },
   "file_extension": ".py",
   "mimetype": "text/x-python",
   "name": "python",
   "nbconvert_exporter": "python",
   "pygments_lexer": "ipython3",
   "version": "3.9.6"
  },
  "papermill": {
   "default_parameters": {},
   "environment_variables": {},
   "parameters": {},
   "version": "2.3.3"
  },
  "widgets": {
   "application/vnd.jupyter.widget-state+json": {
    "state": {},
    "version_major": 2,
    "version_minor": 0
   }
  }
 },
 "nbformat": 4,
 "nbformat_minor": 5
}
