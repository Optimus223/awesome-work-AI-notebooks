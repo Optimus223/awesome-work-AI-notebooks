{
 "cells": [
  {
   "cell_type": "markdown",
   "id": "4674b02f",
   "metadata": {
    "execution": {
     "iopub.execute_input": "2021-02-23T14:22:16.610471Z",
     "iopub.status.busy": "2021-02-23T14:22:16.610129Z",
     "iopub.status.idle": "2021-02-23T14:22:16.627784Z",
     "shell.execute_reply": "2021-02-23T14:22:16.626866Z",
     "shell.execute_reply.started": "2021-02-23T14:22:16.610384Z"
    },
    "papermill": {},
    "tags": []
   },
   "source": [
    "<img width=\"10%\" alt=\"Naas\" src=\"https://landen.imgix.net/jtci2pxwjczr/assets/5ice39g4.png?w=160\"/>"
   ]
  },
  {
   "cell_type": "markdown",
   "id": "b7a36ee3",
   "metadata": {
    "papermill": {},
    "tags": []
   },
   "source": [
    "# Google Analytics - GoogleAnalytics Get stats per country\n",
    "<a href=\"https://app.naas.ai/user-redirect/naas/downloader?url=https://raw.githubusercontent.com/jupyter-naas/awesome-notebooks/master/Google%20Analytics/GoogleAnalytics_Get_stats_per_country.ipynb\" target=\"_parent\"><img src=\"https://naasai-public.s3.eu-west-3.amazonaws.com/open_in_naas.svg\"/></a>"
   ]
  },
  {
   "cell_type": "markdown",
   "id": "19875963",
   "metadata": {
    "papermill": {},
    "tags": []
   },
   "source": [
    "**Tags:** #googleanalytics #statspercountry"
   ]
  },
  {
   "cell_type": "markdown",
   "id": "7e6ef3e1",
   "metadata": {
    "papermill": {},
    "tags": []
   },
   "source": [
    "Pre-requisite: Create your own <a href=\"\">Google API JSON credential</a>"
   ]
  },
  {
   "cell_type": "markdown",
   "id": "55f800df",
   "metadata": {
    "papermill": {},
    "tags": []
   },
   "source": [
    "## Input"
   ]
  },
  {
   "cell_type": "markdown",
   "id": "3f24ee2c",
   "metadata": {
    "papermill": {},
    "tags": []
   },
   "source": [
    "### Import library"
   ]
  },
  {
   "cell_type": "code",
   "execution_count": 1,
   "id": "b2586bcc",
   "metadata": {
    "execution": {
     "iopub.execute_input": "2021-12-22T13:41:06.951356Z",
     "iopub.status.busy": "2021-12-22T13:41:06.951018Z",
     "iopub.status.idle": "2021-12-22T13:41:08.879021Z",
     "shell.execute_reply": "2021-12-22T13:41:08.878307Z",
     "shell.execute_reply.started": "2021-12-22T13:41:06.951273Z"
    },
    "papermill": {},
    "tags": []
   },
   "outputs": [],
   "source": [
    "import pycountry\n",
    "\n",
    "import plotly.graph_objects as go\n",
    "import plotly.express as px\n",
    "\n",
    "from naas_drivers import googleanalytics"
   ]
  },
  {
   "cell_type": "markdown",
   "id": "8f103e30",
   "metadata": {
    "papermill": {},
    "tags": []
   },
   "source": [
    "### Get your credential from Google Cloud Platform"
   ]
  },
  {
   "cell_type": "code",
   "execution_count": 2,
   "id": "04c24e42",
   "metadata": {
    "execution": {
     "iopub.execute_input": "2021-12-22T13:41:12.208923Z",
     "iopub.status.busy": "2021-12-22T13:41:12.208637Z",
     "iopub.status.idle": "2021-12-22T13:41:12.212023Z",
     "shell.execute_reply": "2021-12-22T13:41:12.211361Z",
     "shell.execute_reply.started": "2021-12-22T13:41:12.208896Z"
    },
    "papermill": {},
    "tags": []
   },
   "outputs": [],
   "source": [
    "json_path = '/Users/charlesdemontigny/Desktop/naas-335023-90c733ba64dd.json'"
   ]
  },
  {
   "cell_type": "markdown",
   "id": "9b37f390",
   "metadata": {
    "papermill": {},
    "tags": []
   },
   "source": [
    "### Get view id from google analytics"
   ]
  },
  {
   "cell_type": "code",
   "execution_count": 3,
   "id": "fe4ddc9f",
   "metadata": {
    "execution": {
     "iopub.execute_input": "2021-12-22T13:41:13.047098Z",
     "iopub.status.busy": "2021-12-22T13:41:13.046515Z",
     "iopub.status.idle": "2021-12-22T13:41:13.049846Z",
     "shell.execute_reply": "2021-12-22T13:41:13.049242Z",
     "shell.execute_reply.started": "2021-12-22T13:41:13.047061Z"
    },
    "papermill": {},
    "tags": []
   },
   "outputs": [],
   "source": [
    "view_id = \"236707574\""
   ]
  },
  {
   "cell_type": "markdown",
   "id": "0cc5aa89",
   "metadata": {
    "papermill": {},
    "tags": []
   },
   "source": [
    "## Model"
   ]
  },
  {
   "cell_type": "markdown",
   "id": "4f56ea2e",
   "metadata": {
    "papermill": {},
    "tags": []
   },
   "source": [
    "### Report Website - Google Analytics performance"
   ]
  },
  {
   "cell_type": "code",
   "execution_count": 4,
   "id": "8753031e",
   "metadata": {
    "papermill": {},
    "tags": []
   },
   "outputs": [],
   "source": [
    "googleanalytics.connect(json_path=json_path)"
   ]
  },
  {
   "cell_type": "markdown",
   "id": "d08332b2",
   "metadata": {
    "papermill": {},
    "tags": []
   },
   "source": [
    "### Visitor's country of origin"
   ]
  },
  {
   "cell_type": "code",
   "execution_count": 5,
   "id": "5ffdb5bd",
   "metadata": {
    "papermill": {},
    "tags": []
   },
   "outputs": [],
   "source": [
    "country = googleanalytics.views.get_data(\n",
    "            view_id,\n",
    "            metrics=\"ga:sessions\",\n",
    "            pivots_dimensions=\"ga:country\",\n",
    "            dimensions=\"ga:month\",\n",
    "            start_date=None,\n",
    "            end_date=None,\n",
    "            format_type=\"pivot\",\n",
    "        )"
   ]
  },
  {
   "cell_type": "code",
   "execution_count": 6,
   "id": "149ca1de",
   "metadata": {
    "papermill": {},
    "tags": []
   },
   "outputs": [],
   "source": [
    "sessions_per_country = googleanalytics.views.get_country(view_id) # default: metrics=\"ga:sessions\""
   ]
  },
  {
   "cell_type": "code",
   "execution_count": 7,
   "id": "18fecb26",
   "metadata": {
    "papermill": {},
    "tags": []
   },
   "outputs": [],
   "source": [
    "sessions_per_country"
   ]
  },
  {
   "cell_type": "code",
   "execution_count": 8,
   "id": "03f7c62e",
   "metadata": {
    "papermill": {},
    "tags": []
   },
   "outputs": [],
   "source": [
    "users_per_country = googleanalytics.views.get_country(view_id, metrics=\"ga:users\")  "
   ]
  },
  {
   "cell_type": "markdown",
   "id": "1f16409e",
   "metadata": {
    "execution": {
     "iopub.execute_input": "2021-07-02T23:32:10.789097Z",
     "iopub.status.busy": "2021-07-02T23:32:10.788829Z",
     "iopub.status.idle": "2021-07-02T23:32:10.796900Z",
     "shell.execute_reply": "2021-07-02T23:32:10.796358Z",
     "shell.execute_reply.started": "2021-07-02T23:32:10.789033Z"
    },
    "papermill": {},
    "tags": []
   },
   "source": [
    "## Output"
   ]
  },
  {
   "cell_type": "markdown",
   "id": "df5aee5b",
   "metadata": {
    "papermill": {},
    "tags": []
   },
   "source": [
    "### Display result"
   ]
  },
  {
   "cell_type": "code",
   "execution_count": 9,
   "id": "4be9d67e",
   "metadata": {
    "papermill": {},
    "tags": []
   },
   "outputs": [],
   "source": [
    "sessions_per_country.head()"
   ]
  },
  {
   "cell_type": "code",
   "execution_count": 10,
   "id": "eaf70410",
   "metadata": {
    "papermill": {},
    "tags": []
   },
   "outputs": [],
   "source": [
    "users_per_country.head()"
   ]
  },
  {
   "cell_type": "code",
   "execution_count": 11,
   "id": "21f5bb7f",
   "metadata": {
    "papermill": {},
    "tags": []
   },
   "outputs": [],
   "source": [
    "sessions_per_country = sessions_per_country.reset_index().rename(columns={\"index\": \"Country\"})\n",
    "mapping = {country.name: country.alpha_3 for country in pycountry.countries}\n",
    "sessions_per_country['iso_alpha'] = sessions_per_country['Country'].apply(lambda x: mapping.get(x))"
   ]
  },
  {
   "cell_type": "code",
   "execution_count": 12,
   "id": "87efe887",
   "metadata": {
    "papermill": {},
    "tags": []
   },
   "outputs": [],
   "source": [
    "sessions_per_country"
   ]
  },
  {
   "cell_type": "code",
   "execution_count": 16,
   "id": "1ce837c6",
   "metadata": {
    "papermill": {},
    "tags": []
   },
   "outputs": [],
   "source": [
    "fig = px.choropleth(sessions_per_country, locations=\"iso_alpha\",\n",
    "                    color=\"Sessions\", \n",
    "                    hover_name=\"Country\",\n",
    "                    color_continuous_scale=\"Greens\")\n",
    "fig.show()"
   ]
  },
  {
   "cell_type": "code",
   "execution_count": null,
   "id": "85ea1c29",
   "metadata": {
    "papermill": {},
    "tags": []
   },
   "outputs": [],
   "source": []
  }
 ],
 "metadata": {
  "interpreter": {
   "hash": "aee8b7b246df8f9039afb4144a1f6fd8d2ca17a180786b69acc140d282b71a49"
  },
  "kernelspec": {
   "display_name": "Python 3",
   "language": "python",
   "name": "python3"
  },
  "language_info": {
   "codemirror_mode": {
    "name": "ipython",
    "version": 3
   },
   "file_extension": ".py",
   "mimetype": "text/x-python",
   "name": "python",
   "nbconvert_exporter": "python",
   "pygments_lexer": "ipython3",
   "version": "3.8.8"
  },
  "papermill": {
   "default_parameters": {},
   "environment_variables": {},
   "parameters": {},
   "version": "2.3.3"
  },
  "widgets": {
   "application/vnd.jupyter.widget-state+json": {
    "state": {},
    "version_major": 2,
    "version_minor": 0
   }
  }
 },
 "nbformat": 4,
 "nbformat_minor": 5
}