{
 "cells": [
  {
   "cell_type": "markdown",
   "id": "4674b02f",
   "metadata": {
    "execution": {
     "iopub.execute_input": "2021-02-23T14:22:16.610471Z",
     "iopub.status.busy": "2021-02-23T14:22:16.610129Z",
     "iopub.status.idle": "2021-02-23T14:22:16.627784Z",
     "shell.execute_reply": "2021-02-23T14:22:16.626866Z",
     "shell.execute_reply.started": "2021-02-23T14:22:16.610384Z"
    },
    "papermill": {},
    "tags": []
   },
   "source": [
    "<img width=\"10%\" alt=\"Naas\" src=\"https://landen.imgix.net/jtci2pxwjczr/assets/5ice39g4.png?w=160\"/>"
   ]
  },
  {
   "cell_type": "markdown",
   "id": "b7a36ee3",
   "metadata": {
    "papermill": {},
    "tags": []
   },
   "source": [
    "# Google Analytics - GoogleAnalytics Get stats per country\n",
    "<a href=\"https://app.naas.ai/user-redirect/naas/downloader?url=https://raw.githubusercontent.com/jupyter-naas/awesome-notebooks/master/Google%20Analytics/GoogleAnalytics_Get_stats_per_country.ipynb\" target=\"_parent\"><img src=\"https://naasai-public.s3.eu-west-3.amazonaws.com/open_in_naas.svg\"/></a>"
   ]
  },
  {
   "cell_type": "markdown",
   "id": "19875963",
   "metadata": {
    "papermill": {},
    "tags": []
   },
   "source": [
    "**Tags:** #googleanalytics #statspercountry"
   ]
  },
  {
   "cell_type": "markdown",
   "id": "29814b06-df6a-4be0-9b98-a9a523e2f98b",
   "metadata": {},
   "source": [
    "**Author:** [Charles Demontigny](https://www.linkedin.com/in/charles-demontigny/)"
   ]
  },
  {
   "cell_type": "markdown",
   "id": "7e6ef3e1",
   "metadata": {
    "papermill": {},
    "tags": []
   },
   "source": [
    "Pre-requisite: Create your own <a href=\"\">Google API JSON credential</a>"
   ]
  },
  {
   "cell_type": "markdown",
   "id": "55f800df",
   "metadata": {
    "papermill": {},
    "tags": []
   },
   "source": [
    "## Input"
   ]
  },
  {
   "cell_type": "code",
   "execution_count": 9,
   "id": "d6dafbe9-adbc-4acb-8be3-cb986ef6a796",
   "metadata": {
    "execution": {
     "iopub.execute_input": "2022-02-17T10:23:01.099780Z",
     "iopub.status.busy": "2022-02-17T10:23:01.099549Z",
     "iopub.status.idle": "2022-02-17T10:23:01.102392Z",
     "shell.execute_reply": "2022-02-17T10:23:01.101756Z",
     "shell.execute_reply.started": "2022-02-17T10:23:01.099759Z"
    },
    "tags": []
   },
   "outputs": [],
   "source": [
    "#-> Uncomment the 2 lines below (by removing the hashtag) to schedule your job everyday at 8:00 AM (NB: you can choose the time of your scheduling bot)\n",
    "# import naas\n",
    "# naas.scheduler.add(cron=\"0 8 * * *\")\n",
    "\n",
    "#-> Uncomment the line below (by removing the hashtag) to remove your scheduler\n",
    "# naas.scheduler.delete()"
   ]
  },
  {
   "cell_type": "markdown",
   "id": "3f24ee2c",
   "metadata": {
    "papermill": {},
    "tags": []
   },
   "source": [
    "### Import library"
   ]
  },
  {
   "cell_type": "code",
   "execution_count": 10,
   "id": "b2586bcc",
   "metadata": {
    "execution": {
     "iopub.execute_input": "2022-02-17T10:23:01.835074Z",
     "iopub.status.busy": "2022-02-17T10:23:01.834853Z",
     "iopub.status.idle": "2022-02-17T10:23:01.838848Z",
     "shell.execute_reply": "2022-02-17T10:23:01.838229Z",
     "shell.execute_reply.started": "2022-02-17T10:23:01.835052Z"
    },
    "papermill": {},
    "tags": []
   },
   "outputs": [],
   "source": [
    "try:\n",
    "    import pycountry\n",
    "except:\n",
    "    !pip install pycountry\n",
    "    import pycountry\n",
    "import plotly.graph_objects as go\n",
    "import plotly.express as px\n",
    "import naas\n",
    "from naas_drivers import googleanalytics"
   ]
  },
  {
   "cell_type": "markdown",
   "id": "8f103e30",
   "metadata": {
    "papermill": {},
    "tags": []
   },
   "source": [
    "### Get your credential from Google Cloud Platform"
   ]
  },
  {
   "cell_type": "code",
   "execution_count": 11,
   "id": "04c24e42",
   "metadata": {
    "execution": {
     "iopub.execute_input": "2022-02-17T10:23:03.026689Z",
     "iopub.status.busy": "2022-02-17T10:23:03.026437Z",
     "iopub.status.idle": "2022-02-17T10:23:03.029568Z",
     "shell.execute_reply": "2022-02-17T10:23:03.028914Z",
     "shell.execute_reply.started": "2022-02-17T10:23:03.026658Z"
    },
    "papermill": {},
    "tags": []
   },
   "outputs": [],
   "source": [
    "json_path = 'naas-googleanalytics.json'"
   ]
  },
  {
   "cell_type": "markdown",
   "id": "9b37f390",
   "metadata": {
    "papermill": {},
    "tags": []
   },
   "source": [
    "### Get view id from google analytics"
   ]
  },
  {
   "cell_type": "code",
   "execution_count": 12,
   "id": "fe4ddc9f",
   "metadata": {
    "execution": {
     "iopub.execute_input": "2022-02-17T10:23:03.741941Z",
     "iopub.status.busy": "2022-02-17T10:23:03.741678Z",
     "iopub.status.idle": "2022-02-17T10:23:03.744918Z",
     "shell.execute_reply": "2022-02-17T10:23:03.744271Z",
     "shell.execute_reply.started": "2022-02-17T10:23:03.741917Z"
    },
    "papermill": {},
    "tags": []
   },
   "outputs": [],
   "source": [
    "view_id = \"228952707\""
   ]
  },
  {
   "cell_type": "markdown",
   "id": "0cc5aa89",
   "metadata": {
    "papermill": {},
    "tags": []
   },
   "source": [
    "## Model"
   ]
  },
  {
   "cell_type": "markdown",
   "id": "d08332b2",
   "metadata": {
    "papermill": {},
    "tags": []
   },
   "source": [
    "### Visitor's country of origin"
   ]
  },
  {
   "cell_type": "code",
   "execution_count": 13,
   "id": "5ffdb5bd",
   "metadata": {
    "execution": {
     "iopub.execute_input": "2022-02-17T10:23:04.767021Z",
     "iopub.status.busy": "2022-02-17T10:23:04.766693Z",
     "iopub.status.idle": "2022-02-17T10:23:05.403889Z",
     "shell.execute_reply": "2022-02-17T10:23:05.399914Z",
     "shell.execute_reply.started": "2022-02-17T10:23:04.766987Z"
    },
    "papermill": {},
    "tags": []
   },
   "outputs": [
    {
     "data": {
      "text/html": [
       "<div>\n",
       "<style scoped>\n",
       "    .dataframe tbody tr th:only-of-type {\n",
       "        vertical-align: middle;\n",
       "    }\n",
       "\n",
       "    .dataframe tbody tr th {\n",
       "        vertical-align: top;\n",
       "    }\n",
       "\n",
       "    .dataframe thead tr th {\n",
       "        text-align: left;\n",
       "    }\n",
       "\n",
       "    .dataframe thead tr:last-of-type th {\n",
       "        text-align: right;\n",
       "    }\n",
       "</style>\n",
       "<table border=\"1\" class=\"dataframe\">\n",
       "  <thead>\n",
       "    <tr>\n",
       "      <th></th>\n",
       "      <th>France</th>\n",
       "      <th>United States</th>\n",
       "      <th>India</th>\n",
       "      <th>Germany</th>\n",
       "      <th>Brazil</th>\n",
       "      <th>United Kingdom</th>\n",
       "      <th>Spain</th>\n",
       "      <th>Canada</th>\n",
       "      <th>China</th>\n",
       "      <th>Indonesia</th>\n",
       "    </tr>\n",
       "    <tr>\n",
       "      <th></th>\n",
       "      <th>ga:sessions</th>\n",
       "      <th>ga:sessions</th>\n",
       "      <th>ga:sessions</th>\n",
       "      <th>ga:sessions</th>\n",
       "      <th>ga:sessions</th>\n",
       "      <th>ga:sessions</th>\n",
       "      <th>ga:sessions</th>\n",
       "      <th>ga:sessions</th>\n",
       "      <th>ga:sessions</th>\n",
       "      <th>ga:sessions</th>\n",
       "    </tr>\n",
       "    <tr>\n",
       "      <th>ga:month</th>\n",
       "      <th></th>\n",
       "      <th></th>\n",
       "      <th></th>\n",
       "      <th></th>\n",
       "      <th></th>\n",
       "      <th></th>\n",
       "      <th></th>\n",
       "      <th></th>\n",
       "      <th></th>\n",
       "      <th></th>\n",
       "    </tr>\n",
       "  </thead>\n",
       "  <tbody>\n",
       "    <tr>\n",
       "      <th>01</th>\n",
       "      <td>486.0</td>\n",
       "      <td>368.0</td>\n",
       "      <td>328.0</td>\n",
       "      <td>99.0</td>\n",
       "      <td>152.0</td>\n",
       "      <td>57.0</td>\n",
       "      <td>52.0</td>\n",
       "      <td>85.0</td>\n",
       "      <td>12.0</td>\n",
       "      <td>55.0</td>\n",
       "    </tr>\n",
       "    <tr>\n",
       "      <th>02</th>\n",
       "      <td>647.0</td>\n",
       "      <td>557.0</td>\n",
       "      <td>293.0</td>\n",
       "      <td>155.0</td>\n",
       "      <td>114.0</td>\n",
       "      <td>96.0</td>\n",
       "      <td>77.0</td>\n",
       "      <td>91.0</td>\n",
       "      <td>11.0</td>\n",
       "      <td>28.0</td>\n",
       "    </tr>\n",
       "    <tr>\n",
       "      <th>03</th>\n",
       "      <td>576.0</td>\n",
       "      <td>565.0</td>\n",
       "      <td>91.0</td>\n",
       "      <td>87.0</td>\n",
       "      <td>27.0</td>\n",
       "      <td>70.0</td>\n",
       "      <td>33.0</td>\n",
       "      <td>53.0</td>\n",
       "      <td>39.0</td>\n",
       "      <td>15.0</td>\n",
       "    </tr>\n",
       "    <tr>\n",
       "      <th>04</th>\n",
       "      <td>442.0</td>\n",
       "      <td>204.0</td>\n",
       "      <td>181.0</td>\n",
       "      <td>74.0</td>\n",
       "      <td>83.0</td>\n",
       "      <td>84.0</td>\n",
       "      <td>74.0</td>\n",
       "      <td>32.0</td>\n",
       "      <td>60.0</td>\n",
       "      <td>54.0</td>\n",
       "    </tr>\n",
       "    <tr>\n",
       "      <th>05</th>\n",
       "      <td>434.0</td>\n",
       "      <td>320.0</td>\n",
       "      <td>395.0</td>\n",
       "      <td>149.0</td>\n",
       "      <td>54.0</td>\n",
       "      <td>83.0</td>\n",
       "      <td>72.0</td>\n",
       "      <td>35.0</td>\n",
       "      <td>32.0</td>\n",
       "      <td>22.0</td>\n",
       "    </tr>\n",
       "    <tr>\n",
       "      <th>06</th>\n",
       "      <td>485.0</td>\n",
       "      <td>260.0</td>\n",
       "      <td>352.0</td>\n",
       "      <td>76.0</td>\n",
       "      <td>53.0</td>\n",
       "      <td>56.0</td>\n",
       "      <td>35.0</td>\n",
       "      <td>37.0</td>\n",
       "      <td>47.0</td>\n",
       "      <td>14.0</td>\n",
       "    </tr>\n",
       "    <tr>\n",
       "      <th>07</th>\n",
       "      <td>477.0</td>\n",
       "      <td>300.0</td>\n",
       "      <td>222.0</td>\n",
       "      <td>73.0</td>\n",
       "      <td>57.0</td>\n",
       "      <td>39.0</td>\n",
       "      <td>24.0</td>\n",
       "      <td>28.0</td>\n",
       "      <td>37.0</td>\n",
       "      <td>18.0</td>\n",
       "    </tr>\n",
       "    <tr>\n",
       "      <th>08</th>\n",
       "      <td>359.0</td>\n",
       "      <td>241.0</td>\n",
       "      <td>133.0</td>\n",
       "      <td>40.0</td>\n",
       "      <td>93.0</td>\n",
       "      <td>28.0</td>\n",
       "      <td>34.0</td>\n",
       "      <td>29.0</td>\n",
       "      <td>40.0</td>\n",
       "      <td>15.0</td>\n",
       "    </tr>\n",
       "    <tr>\n",
       "      <th>09</th>\n",
       "      <td>318.0</td>\n",
       "      <td>235.0</td>\n",
       "      <td>184.0</td>\n",
       "      <td>54.0</td>\n",
       "      <td>69.0</td>\n",
       "      <td>45.0</td>\n",
       "      <td>31.0</td>\n",
       "      <td>34.0</td>\n",
       "      <td>52.0</td>\n",
       "      <td>12.0</td>\n",
       "    </tr>\n",
       "    <tr>\n",
       "      <th>10</th>\n",
       "      <td>505.0</td>\n",
       "      <td>279.0</td>\n",
       "      <td>252.0</td>\n",
       "      <td>43.0</td>\n",
       "      <td>60.0</td>\n",
       "      <td>53.0</td>\n",
       "      <td>52.0</td>\n",
       "      <td>52.0</td>\n",
       "      <td>56.0</td>\n",
       "      <td>14.0</td>\n",
       "    </tr>\n",
       "    <tr>\n",
       "      <th>11</th>\n",
       "      <td>329.0</td>\n",
       "      <td>301.0</td>\n",
       "      <td>176.0</td>\n",
       "      <td>40.0</td>\n",
       "      <td>82.0</td>\n",
       "      <td>50.0</td>\n",
       "      <td>45.0</td>\n",
       "      <td>40.0</td>\n",
       "      <td>33.0</td>\n",
       "      <td>136.0</td>\n",
       "    </tr>\n",
       "    <tr>\n",
       "      <th>12</th>\n",
       "      <td>302.0</td>\n",
       "      <td>251.0</td>\n",
       "      <td>216.0</td>\n",
       "      <td>59.0</td>\n",
       "      <td>66.0</td>\n",
       "      <td>42.0</td>\n",
       "      <td>36.0</td>\n",
       "      <td>30.0</td>\n",
       "      <td>25.0</td>\n",
       "      <td>23.0</td>\n",
       "    </tr>\n",
       "  </tbody>\n",
       "</table>\n",
       "</div>"
      ],
      "text/plain": [
       "              France United States       India     Germany      Brazil  \\\n",
       "         ga:sessions   ga:sessions ga:sessions ga:sessions ga:sessions   \n",
       "ga:month                                                                 \n",
       "01             486.0         368.0       328.0        99.0       152.0   \n",
       "02             647.0         557.0       293.0       155.0       114.0   \n",
       "03             576.0         565.0        91.0        87.0        27.0   \n",
       "04             442.0         204.0       181.0        74.0        83.0   \n",
       "05             434.0         320.0       395.0       149.0        54.0   \n",
       "06             485.0         260.0       352.0        76.0        53.0   \n",
       "07             477.0         300.0       222.0        73.0        57.0   \n",
       "08             359.0         241.0       133.0        40.0        93.0   \n",
       "09             318.0         235.0       184.0        54.0        69.0   \n",
       "10             505.0         279.0       252.0        43.0        60.0   \n",
       "11             329.0         301.0       176.0        40.0        82.0   \n",
       "12             302.0         251.0       216.0        59.0        66.0   \n",
       "\n",
       "         United Kingdom       Spain      Canada       China   Indonesia  \n",
       "            ga:sessions ga:sessions ga:sessions ga:sessions ga:sessions  \n",
       "ga:month                                                                 \n",
       "01                 57.0        52.0        85.0        12.0        55.0  \n",
       "02                 96.0        77.0        91.0        11.0        28.0  \n",
       "03                 70.0        33.0        53.0        39.0        15.0  \n",
       "04                 84.0        74.0        32.0        60.0        54.0  \n",
       "05                 83.0        72.0        35.0        32.0        22.0  \n",
       "06                 56.0        35.0        37.0        47.0        14.0  \n",
       "07                 39.0        24.0        28.0        37.0        18.0  \n",
       "08                 28.0        34.0        29.0        40.0        15.0  \n",
       "09                 45.0        31.0        34.0        52.0        12.0  \n",
       "10                 53.0        52.0        52.0        56.0        14.0  \n",
       "11                 50.0        45.0        40.0        33.0       136.0  \n",
       "12                 42.0        36.0        30.0        25.0        23.0  "
      ]
     },
     "execution_count": 13,
     "metadata": {},
     "output_type": "execute_result"
    }
   ],
   "source": [
    "df_country = googleanalytics.connect(json_path=json_path).views.get_data(\n",
    "    view_id,\n",
    "    metrics=\"ga:sessions\",\n",
    "    pivots_dimensions=\"ga:country\",\n",
    "    dimensions=\"ga:month\",\n",
    "    start_date=None,\n",
    "    end_date=None,\n",
    "    format_type=\"pivot\"\n",
    ")\n",
    "df_country"
   ]
  },
  {
   "cell_type": "code",
   "execution_count": 15,
   "id": "149ca1de",
   "metadata": {
    "execution": {
     "iopub.execute_input": "2022-02-17T10:23:26.854249Z",
     "iopub.status.busy": "2022-02-17T10:23:26.854024Z",
     "iopub.status.idle": "2022-02-17T10:23:27.224360Z",
     "shell.execute_reply": "2022-02-17T10:23:27.220684Z",
     "shell.execute_reply.started": "2022-02-17T10:23:26.854226Z"
    },
    "papermill": {},
    "tags": []
   },
   "outputs": [
    {
     "ename": "ValueError",
     "evalue": "Length mismatch: Expected axis has 3 elements, new values have 2 elements",
     "output_type": "error",
     "traceback": [
      "\u001b[0;31m---------------------------------------------------------------------------\u001b[0m",
      "\u001b[0;31mValueError\u001b[0m                                Traceback (most recent call last)",
      "\u001b[0;32m<ipython-input-15-dfd00d558e8c>\u001b[0m in \u001b[0;36m<module>\u001b[0;34m\u001b[0m\n\u001b[0;32m----> 1\u001b[0;31m \u001b[0msessions_per_country\u001b[0m \u001b[0;34m=\u001b[0m \u001b[0mgoogleanalytics\u001b[0m\u001b[0;34m.\u001b[0m\u001b[0mconnect\u001b[0m\u001b[0;34m(\u001b[0m\u001b[0mjson_path\u001b[0m\u001b[0;34m=\u001b[0m\u001b[0mjson_path\u001b[0m\u001b[0;34m)\u001b[0m\u001b[0;34m.\u001b[0m\u001b[0mviews\u001b[0m\u001b[0;34m.\u001b[0m\u001b[0mget_country\u001b[0m\u001b[0;34m(\u001b[0m\u001b[0mview_id\u001b[0m\u001b[0;34m)\u001b[0m \u001b[0;31m# default: metrics=\"ga:sessions\"\u001b[0m\u001b[0;34m\u001b[0m\u001b[0;34m\u001b[0m\u001b[0m\n\u001b[0m",
      "\u001b[0;32m/opt/conda/lib/python3.8/site-packages/naas_drivers/tools/googleanalytics.py\u001b[0m in \u001b[0;36mget_country\u001b[0;34m(self, view_id, metrics, start_date, end_date)\u001b[0m\n\u001b[1;32m    230\u001b[0m         \u001b[0mcountry\u001b[0m \u001b[0;34m=\u001b[0m \u001b[0mcountry\u001b[0m\u001b[0;34m.\u001b[0m\u001b[0mT\u001b[0m\u001b[0;34m\u001b[0m\u001b[0;34m\u001b[0m\u001b[0m\n\u001b[1;32m    231\u001b[0m         \u001b[0mcountry\u001b[0m\u001b[0;34m.\u001b[0m\u001b[0mreset_index\u001b[0m\u001b[0;34m(\u001b[0m\u001b[0minplace\u001b[0m\u001b[0;34m=\u001b[0m\u001b[0;32mTrue\u001b[0m\u001b[0;34m)\u001b[0m\u001b[0;34m\u001b[0m\u001b[0;34m\u001b[0m\u001b[0m\n\u001b[0;32m--> 232\u001b[0;31m         \u001b[0mcountry\u001b[0m\u001b[0;34m.\u001b[0m\u001b[0mcolumns\u001b[0m \u001b[0;34m=\u001b[0m \u001b[0;34m[\u001b[0m\u001b[0;34m\"Country\"\u001b[0m\u001b[0;34m,\u001b[0m \u001b[0mga_naming_to_title\u001b[0m\u001b[0;34m(\u001b[0m\u001b[0mmetrics\u001b[0m\u001b[0;34m)\u001b[0m\u001b[0;34m]\u001b[0m\u001b[0;34m\u001b[0m\u001b[0;34m\u001b[0m\u001b[0m\n\u001b[0m\u001b[1;32m    233\u001b[0m         \u001b[0;32mreturn\u001b[0m \u001b[0mcountry\u001b[0m\u001b[0;34m\u001b[0m\u001b[0;34m\u001b[0m\u001b[0m\n\u001b[1;32m    234\u001b[0m \u001b[0;34m\u001b[0m\u001b[0m\n",
      "\u001b[0;32m/opt/conda/lib/python3.8/site-packages/pandas/core/generic.py\u001b[0m in \u001b[0;36m__setattr__\u001b[0;34m(self, name, value)\u001b[0m\n\u001b[1;32m   5476\u001b[0m         \u001b[0;32mtry\u001b[0m\u001b[0;34m:\u001b[0m\u001b[0;34m\u001b[0m\u001b[0;34m\u001b[0m\u001b[0m\n\u001b[1;32m   5477\u001b[0m             \u001b[0mobject\u001b[0m\u001b[0;34m.\u001b[0m\u001b[0m__getattribute__\u001b[0m\u001b[0;34m(\u001b[0m\u001b[0mself\u001b[0m\u001b[0;34m,\u001b[0m \u001b[0mname\u001b[0m\u001b[0;34m)\u001b[0m\u001b[0;34m\u001b[0m\u001b[0;34m\u001b[0m\u001b[0m\n\u001b[0;32m-> 5478\u001b[0;31m             \u001b[0;32mreturn\u001b[0m \u001b[0mobject\u001b[0m\u001b[0;34m.\u001b[0m\u001b[0m__setattr__\u001b[0m\u001b[0;34m(\u001b[0m\u001b[0mself\u001b[0m\u001b[0;34m,\u001b[0m \u001b[0mname\u001b[0m\u001b[0;34m,\u001b[0m \u001b[0mvalue\u001b[0m\u001b[0;34m)\u001b[0m\u001b[0;34m\u001b[0m\u001b[0;34m\u001b[0m\u001b[0m\n\u001b[0m\u001b[1;32m   5479\u001b[0m         \u001b[0;32mexcept\u001b[0m \u001b[0mAttributeError\u001b[0m\u001b[0;34m:\u001b[0m\u001b[0;34m\u001b[0m\u001b[0;34m\u001b[0m\u001b[0m\n\u001b[1;32m   5480\u001b[0m             \u001b[0;32mpass\u001b[0m\u001b[0;34m\u001b[0m\u001b[0;34m\u001b[0m\u001b[0m\n",
      "\u001b[0;32mpandas/_libs/properties.pyx\u001b[0m in \u001b[0;36mpandas._libs.properties.AxisProperty.__set__\u001b[0;34m()\u001b[0m\n",
      "\u001b[0;32m/opt/conda/lib/python3.8/site-packages/pandas/core/generic.py\u001b[0m in \u001b[0;36m_set_axis\u001b[0;34m(self, axis, labels)\u001b[0m\n\u001b[1;32m    668\u001b[0m     \u001b[0;32mdef\u001b[0m \u001b[0m_set_axis\u001b[0m\u001b[0;34m(\u001b[0m\u001b[0mself\u001b[0m\u001b[0;34m,\u001b[0m \u001b[0maxis\u001b[0m\u001b[0;34m:\u001b[0m \u001b[0mint\u001b[0m\u001b[0;34m,\u001b[0m \u001b[0mlabels\u001b[0m\u001b[0;34m:\u001b[0m \u001b[0mIndex\u001b[0m\u001b[0;34m)\u001b[0m \u001b[0;34m->\u001b[0m \u001b[0;32mNone\u001b[0m\u001b[0;34m:\u001b[0m\u001b[0;34m\u001b[0m\u001b[0;34m\u001b[0m\u001b[0m\n\u001b[1;32m    669\u001b[0m         \u001b[0mlabels\u001b[0m \u001b[0;34m=\u001b[0m \u001b[0mensure_index\u001b[0m\u001b[0;34m(\u001b[0m\u001b[0mlabels\u001b[0m\u001b[0;34m)\u001b[0m\u001b[0;34m\u001b[0m\u001b[0;34m\u001b[0m\u001b[0m\n\u001b[0;32m--> 670\u001b[0;31m         \u001b[0mself\u001b[0m\u001b[0;34m.\u001b[0m\u001b[0m_mgr\u001b[0m\u001b[0;34m.\u001b[0m\u001b[0mset_axis\u001b[0m\u001b[0;34m(\u001b[0m\u001b[0maxis\u001b[0m\u001b[0;34m,\u001b[0m \u001b[0mlabels\u001b[0m\u001b[0;34m)\u001b[0m\u001b[0;34m\u001b[0m\u001b[0;34m\u001b[0m\u001b[0m\n\u001b[0m\u001b[1;32m    671\u001b[0m         \u001b[0mself\u001b[0m\u001b[0;34m.\u001b[0m\u001b[0m_clear_item_cache\u001b[0m\u001b[0;34m(\u001b[0m\u001b[0;34m)\u001b[0m\u001b[0;34m\u001b[0m\u001b[0;34m\u001b[0m\u001b[0m\n\u001b[1;32m    672\u001b[0m \u001b[0;34m\u001b[0m\u001b[0m\n",
      "\u001b[0;32m/opt/conda/lib/python3.8/site-packages/pandas/core/internals/managers.py\u001b[0m in \u001b[0;36mset_axis\u001b[0;34m(self, axis, new_labels)\u001b[0m\n\u001b[1;32m    218\u001b[0m \u001b[0;34m\u001b[0m\u001b[0m\n\u001b[1;32m    219\u001b[0m         \u001b[0;32mif\u001b[0m \u001b[0mnew_len\u001b[0m \u001b[0;34m!=\u001b[0m \u001b[0mold_len\u001b[0m\u001b[0;34m:\u001b[0m\u001b[0;34m\u001b[0m\u001b[0;34m\u001b[0m\u001b[0m\n\u001b[0;32m--> 220\u001b[0;31m             raise ValueError(\n\u001b[0m\u001b[1;32m    221\u001b[0m                 \u001b[0;34mf\"Length mismatch: Expected axis has {old_len} elements, new \"\u001b[0m\u001b[0;34m\u001b[0m\u001b[0;34m\u001b[0m\u001b[0m\n\u001b[1;32m    222\u001b[0m                 \u001b[0;34mf\"values have {new_len} elements\"\u001b[0m\u001b[0;34m\u001b[0m\u001b[0;34m\u001b[0m\u001b[0m\n",
      "\u001b[0;31mValueError\u001b[0m: Length mismatch: Expected axis has 3 elements, new values have 2 elements"
     ]
    }
   ],
   "source": [
    "sessions_per_country = googleanalytics.connect(json_path=json_path).views.get_country(view_id) # default: metrics=\"ga:sessions\""
   ]
  },
  {
   "cell_type": "code",
   "execution_count": null,
   "id": "18fecb26",
   "metadata": {
    "execution": {
     "iopub.status.busy": "2022-02-17T10:19:39.564037Z",
     "iopub.status.idle": "2022-02-17T10:19:39.564372Z",
     "shell.execute_reply": "2022-02-17T10:19:39.564207Z"
    },
    "papermill": {},
    "tags": []
   },
   "outputs": [],
   "source": [
    "sessions_per_country"
   ]
  },
  {
   "cell_type": "code",
   "execution_count": null,
   "id": "03f7c62e",
   "metadata": {
    "execution": {
     "iopub.status.busy": "2022-02-17T10:19:39.565277Z",
     "iopub.status.idle": "2022-02-17T10:19:39.565652Z",
     "shell.execute_reply": "2022-02-17T10:19:39.565483Z"
    },
    "papermill": {},
    "tags": []
   },
   "outputs": [],
   "source": [
    "users_per_country = googleanalytics.views.get_country(view_id, metrics=\"ga:users\")  "
   ]
  },
  {
   "cell_type": "markdown",
   "id": "1f16409e",
   "metadata": {
    "execution": {
     "iopub.execute_input": "2021-07-02T23:32:10.789097Z",
     "iopub.status.busy": "2021-07-02T23:32:10.788829Z",
     "iopub.status.idle": "2021-07-02T23:32:10.796900Z",
     "shell.execute_reply": "2021-07-02T23:32:10.796358Z",
     "shell.execute_reply.started": "2021-07-02T23:32:10.789033Z"
    },
    "papermill": {},
    "tags": []
   },
   "source": [
    "## Output"
   ]
  },
  {
   "cell_type": "markdown",
   "id": "df5aee5b",
   "metadata": {
    "papermill": {},
    "tags": []
   },
   "source": [
    "### Display result"
   ]
  },
  {
   "cell_type": "code",
   "execution_count": null,
   "id": "4be9d67e",
   "metadata": {
    "execution": {
     "iopub.status.busy": "2022-02-17T10:19:39.566692Z",
     "iopub.status.idle": "2022-02-17T10:19:39.567028Z",
     "shell.execute_reply": "2022-02-17T10:19:39.566864Z"
    },
    "papermill": {},
    "tags": []
   },
   "outputs": [],
   "source": [
    "sessions_per_country.head()"
   ]
  },
  {
   "cell_type": "code",
   "execution_count": null,
   "id": "eaf70410",
   "metadata": {
    "execution": {
     "iopub.status.busy": "2022-02-17T10:19:39.567967Z",
     "iopub.status.idle": "2022-02-17T10:19:39.568458Z",
     "shell.execute_reply": "2022-02-17T10:19:39.568283Z"
    },
    "papermill": {},
    "tags": []
   },
   "outputs": [],
   "source": [
    "users_per_country.head()"
   ]
  },
  {
   "cell_type": "code",
   "execution_count": null,
   "id": "21f5bb7f",
   "metadata": {
    "execution": {
     "iopub.status.busy": "2022-02-17T10:19:39.569304Z",
     "iopub.status.idle": "2022-02-17T10:19:39.569818Z",
     "shell.execute_reply": "2022-02-17T10:19:39.569642Z"
    },
    "papermill": {},
    "tags": []
   },
   "outputs": [],
   "source": [
    "sessions_per_country = sessions_per_country.reset_index().rename(columns={\"index\": \"Country\"})\n",
    "mapping = {country.name: country.alpha_3 for country in pycountry.countries}\n",
    "sessions_per_country['iso_alpha'] = sessions_per_country['Country'].apply(lambda x: mapping.get(x))"
   ]
  },
  {
   "cell_type": "code",
   "execution_count": null,
   "id": "87efe887",
   "metadata": {
    "execution": {
     "iopub.status.busy": "2022-02-17T10:19:39.570711Z",
     "iopub.status.idle": "2022-02-17T10:19:39.571044Z",
     "shell.execute_reply": "2022-02-17T10:19:39.570881Z"
    },
    "papermill": {},
    "tags": []
   },
   "outputs": [],
   "source": [
    "sessions_per_country"
   ]
  },
  {
   "cell_type": "code",
   "execution_count": null,
   "id": "1ce837c6",
   "metadata": {
    "execution": {
     "iopub.status.busy": "2022-02-17T10:19:39.572026Z",
     "iopub.status.idle": "2022-02-17T10:19:39.572366Z",
     "shell.execute_reply": "2022-02-17T10:19:39.572201Z"
    },
    "papermill": {},
    "tags": []
   },
   "outputs": [],
   "source": [
    "fig = px.choropleth(sessions_per_country, locations=\"iso_alpha\",\n",
    "                    color=\"Sessions\", \n",
    "                    hover_name=\"Country\",\n",
    "                    color_continuous_scale=\"Greens\")\n",
    "fig.show()"
   ]
  },
  {
   "cell_type": "code",
   "execution_count": null,
   "id": "85ea1c29",
   "metadata": {
    "papermill": {},
    "tags": []
   },
   "outputs": [],
   "source": []
  }
 ],
 "metadata": {
  "interpreter": {
   "hash": "aee8b7b246df8f9039afb4144a1f6fd8d2ca17a180786b69acc140d282b71a49"
  },
  "kernelspec": {
   "display_name": "Python 3",
   "language": "python",
   "name": "python3"
  },
  "language_info": {
   "codemirror_mode": {
    "name": "ipython",
    "version": 3
   },
   "file_extension": ".py",
   "mimetype": "text/x-python",
   "name": "python",
   "nbconvert_exporter": "python",
   "pygments_lexer": "ipython3",
   "version": "3.8.8"
  },
  "papermill": {
   "default_parameters": {},
   "environment_variables": {},
   "parameters": {},
   "version": "2.3.3"
  },
  "widgets": {
   "application/vnd.jupyter.widget-state+json": {
    "state": {},
    "version_major": 2,
    "version_minor": 0
   }
  }
 },
 "nbformat": 4,
 "nbformat_minor": 5
}
