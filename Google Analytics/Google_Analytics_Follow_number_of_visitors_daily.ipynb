{
 "cells": [
  {
   "cell_type": "markdown",
   "id": "4674b02f",
   "metadata": {
    "execution": {
     "iopub.execute_input": "2021-02-23T14:22:16.610471Z",
     "iopub.status.busy": "2021-02-23T14:22:16.610129Z",
     "iopub.status.idle": "2021-02-23T14:22:16.627784Z",
     "shell.execute_reply": "2021-02-23T14:22:16.626866Z",
     "shell.execute_reply.started": "2021-02-23T14:22:16.610384Z"
    },
    "papermill": {},
    "tags": []
   },
   "source": [
    "<img width=\"10%\" alt=\"Naas\" src=\"https://landen.imgix.net/jtci2pxwjczr/assets/5ice39g4.png?w=160\"/>"
   ]
  },
  {
   "cell_type": "markdown",
   "id": "b7a36ee3",
   "metadata": {
    "papermill": {},
    "tags": []
   },
   "source": [
    "# Google Analytics - Follow number of visitors daily\n",
    "<a href=\"https://app.naas.ai/user-redirect/naas/downloader?url=https://raw.githubusercontent.com/jupyter-naas/awesome-notebooks/master/Google%20Analytics/GoogleAnalytics_Get_stats_per_country.ipynb\" target=\"_parent\"><img src=\"https://naasai-public.s3.eu-west-3.amazonaws.com/open_in_naas.svg\"/></a>"
   ]
  },
  {
   "cell_type": "markdown",
   "id": "19875963",
   "metadata": {
    "papermill": {},
    "tags": []
   },
   "source": [
    "**Tags:** #googleanalytics #analytics #marketing #csv #html #plotly #image #png"
   ]
  },
  {
   "cell_type": "markdown",
   "id": "29814b06-df6a-4be0-9b98-a9a523e2f98b",
   "metadata": {
    "papermill": {},
    "tags": []
   },
   "source": [
    "**Author:** [Florent Ravenel](https://www.linkedin.com/in/ACoAABCNSioBW3YZHc2lBHVG0E_TXYWitQkmwog/)"
   ]
  },
  {
   "cell_type": "markdown",
   "id": "55f800df",
   "metadata": {
    "papermill": {},
    "tags": []
   },
   "source": [
    "## Input"
   ]
  },
  {
   "cell_type": "markdown",
   "id": "3f24ee2c",
   "metadata": {
    "papermill": {},
    "tags": []
   },
   "source": [
    "### Import library"
   ]
  },
  {
   "cell_type": "code",
   "execution_count": 14,
   "id": "b2586bcc",
   "metadata": {
    "execution": {
     "iopub.execute_input": "2022-04-22T14:22:07.362328Z",
     "iopub.status.busy": "2022-04-22T14:22:07.362090Z",
     "iopub.status.idle": "2022-04-22T14:22:07.366229Z",
     "shell.execute_reply": "2022-04-22T14:22:07.365289Z",
     "shell.execute_reply.started": "2022-04-22T14:22:07.362304Z"
    },
    "papermill": {},
    "tags": []
   },
   "outputs": [],
   "source": [
    "import plotly.graph_objects as go\n",
    "import naas\n",
    "import datetime\n",
    "import pandas as pd\n",
    "from naas_drivers import googleanalytics"
   ]
  },
  {
   "cell_type": "markdown",
   "id": "8f103e30",
   "metadata": {
    "papermill": {},
    "tags": []
   },
   "source": [
    "### Setup Google Analytics"
   ]
  },
  {
   "cell_type": "markdown",
   "id": "7e6ef3e1",
   "metadata": {
    "papermill": {},
    "tags": []
   },
   "source": [
    "👉 Create your own <a href=\"\">Google API JSON credential</a>"
   ]
  },
  {
   "cell_type": "code",
   "execution_count": 15,
   "id": "04c24e42",
   "metadata": {
    "execution": {
     "iopub.execute_input": "2022-04-22T14:22:08.324721Z",
     "iopub.status.busy": "2022-04-22T14:22:08.324434Z",
     "iopub.status.idle": "2022-04-22T14:22:08.328897Z",
     "shell.execute_reply": "2022-04-22T14:22:08.327906Z",
     "shell.execute_reply.started": "2022-04-22T14:22:08.324692Z"
    },
    "papermill": {},
    "tags": []
   },
   "outputs": [],
   "source": [
    "# Get your credential from Google Cloud Platform\n",
    "json_path = 'naas-googleanalytics.json'\n",
    "\n",
    "# Get view id from google analytics\n",
    "view_id = \"228952707\"\n",
    "\n",
    "# Setup your data parameters\n",
    "dimensions = \"daily\" #hourly, daily, weekly, monthly\n",
    "start_date = \"30daysAgo\" #XdaysAgo or date in ISO format %Y-%m-%d\n",
    "end_date = \"today\" #Today or date in ISO format %Y-%m-%d"
   ]
  },
  {
   "cell_type": "markdown",
   "id": "cd3830c6-1c09-4b7a-95bf-a8d9159759ff",
   "metadata": {},
   "source": [
    "### Setup Outputs"
   ]
  },
  {
   "cell_type": "code",
   "execution_count": 16,
   "id": "092e3e2e-194a-497e-b824-94077a33da83",
   "metadata": {
    "execution": {
     "iopub.execute_input": "2022-04-22T14:22:09.195316Z",
     "iopub.status.busy": "2022-04-22T14:22:09.195077Z",
     "iopub.status.idle": "2022-04-22T14:22:09.199332Z",
     "shell.execute_reply": "2022-04-22T14:22:09.198507Z",
     "shell.execute_reply.started": "2022-04-22T14:22:09.195290Z"
    },
    "tags": []
   },
   "outputs": [],
   "source": [
    "# Chart title\n",
    "title = \"Visitors\"\n",
    "\n",
    "# Outputs path\n",
    "name_output = f\"Google_Analytics_visitors_{dimensions}\"\n",
    "csv_output = f\"{name_output}.csv\"\n",
    "image_output = f\"{name_output}.png\"\n",
    "html_output = f\"{name_output}.html\""
   ]
  },
  {
   "cell_type": "markdown",
   "id": "3729685f-abab-4f5e-919f-3b07ce841f1c",
   "metadata": {},
   "source": [
    "## Model"
   ]
  },
  {
   "cell_type": "markdown",
   "id": "d08332b2",
   "metadata": {
    "papermill": {},
    "tags": []
   },
   "source": [
    "### Get trend"
   ]
  },
  {
   "cell_type": "code",
   "execution_count": 17,
   "id": "461de2bd-27c7-4d88-bbb6-63c517ab0cc8",
   "metadata": {
    "execution": {
     "iopub.execute_input": "2022-04-22T14:22:12.274145Z",
     "iopub.status.busy": "2022-04-22T14:22:12.273906Z",
     "iopub.status.idle": "2022-04-22T14:22:12.944152Z",
     "shell.execute_reply": "2022-04-22T14:22:12.943226Z",
     "shell.execute_reply.started": "2022-04-22T14:22:12.274119Z"
    },
    "tags": []
   },
   "outputs": [
    {
     "data": {
      "text/html": [
       "<div>\n",
       "<style scoped>\n",
       "    .dataframe tbody tr th:only-of-type {\n",
       "        vertical-align: middle;\n",
       "    }\n",
       "\n",
       "    .dataframe tbody tr th {\n",
       "        vertical-align: top;\n",
       "    }\n",
       "\n",
       "    .dataframe thead th {\n",
       "        text-align: right;\n",
       "    }\n",
       "</style>\n",
       "<table border=\"1\" class=\"dataframe\">\n",
       "  <thead>\n",
       "    <tr style=\"text-align: right;\">\n",
       "      <th></th>\n",
       "      <th>DATE_ISO</th>\n",
       "      <th>DATE</th>\n",
       "      <th>METRIC</th>\n",
       "      <th>VALUE</th>\n",
       "      <th>VALUE_COMP</th>\n",
       "      <th>VARV</th>\n",
       "      <th>VARP</th>\n",
       "    </tr>\n",
       "  </thead>\n",
       "  <tbody>\n",
       "    <tr>\n",
       "      <th>0</th>\n",
       "      <td>2022-03-23</td>\n",
       "      <td>2022-03-23</td>\n",
       "      <td>users</td>\n",
       "      <td>57.0</td>\n",
       "      <td>0.0</td>\n",
       "      <td>57.0</td>\n",
       "      <td>inf</td>\n",
       "    </tr>\n",
       "    <tr>\n",
       "      <th>1</th>\n",
       "      <td>2022-03-24</td>\n",
       "      <td>2022-03-24</td>\n",
       "      <td>users</td>\n",
       "      <td>59.0</td>\n",
       "      <td>57.0</td>\n",
       "      <td>2.0</td>\n",
       "      <td>0.035088</td>\n",
       "    </tr>\n",
       "    <tr>\n",
       "      <th>2</th>\n",
       "      <td>2022-03-25</td>\n",
       "      <td>2022-03-25</td>\n",
       "      <td>users</td>\n",
       "      <td>50.0</td>\n",
       "      <td>59.0</td>\n",
       "      <td>-9.0</td>\n",
       "      <td>-0.152542</td>\n",
       "    </tr>\n",
       "    <tr>\n",
       "      <th>3</th>\n",
       "      <td>2022-03-26</td>\n",
       "      <td>2022-03-26</td>\n",
       "      <td>users</td>\n",
       "      <td>27.0</td>\n",
       "      <td>50.0</td>\n",
       "      <td>-23.0</td>\n",
       "      <td>-0.460000</td>\n",
       "    </tr>\n",
       "    <tr>\n",
       "      <th>4</th>\n",
       "      <td>2022-03-27</td>\n",
       "      <td>2022-03-27</td>\n",
       "      <td>users</td>\n",
       "      <td>24.0</td>\n",
       "      <td>27.0</td>\n",
       "      <td>-3.0</td>\n",
       "      <td>-0.111111</td>\n",
       "    </tr>\n",
       "    <tr>\n",
       "      <th>5</th>\n",
       "      <td>2022-03-28</td>\n",
       "      <td>2022-03-28</td>\n",
       "      <td>users</td>\n",
       "      <td>106.0</td>\n",
       "      <td>24.0</td>\n",
       "      <td>82.0</td>\n",
       "      <td>3.416667</td>\n",
       "    </tr>\n",
       "    <tr>\n",
       "      <th>6</th>\n",
       "      <td>2022-03-29</td>\n",
       "      <td>2022-03-29</td>\n",
       "      <td>users</td>\n",
       "      <td>90.0</td>\n",
       "      <td>106.0</td>\n",
       "      <td>-16.0</td>\n",
       "      <td>-0.150943</td>\n",
       "    </tr>\n",
       "    <tr>\n",
       "      <th>7</th>\n",
       "      <td>2022-03-30</td>\n",
       "      <td>2022-03-30</td>\n",
       "      <td>users</td>\n",
       "      <td>77.0</td>\n",
       "      <td>90.0</td>\n",
       "      <td>-13.0</td>\n",
       "      <td>-0.144444</td>\n",
       "    </tr>\n",
       "    <tr>\n",
       "      <th>8</th>\n",
       "      <td>2022-03-31</td>\n",
       "      <td>2022-03-31</td>\n",
       "      <td>users</td>\n",
       "      <td>91.0</td>\n",
       "      <td>77.0</td>\n",
       "      <td>14.0</td>\n",
       "      <td>0.181818</td>\n",
       "    </tr>\n",
       "    <tr>\n",
       "      <th>9</th>\n",
       "      <td>2022-04-01</td>\n",
       "      <td>2022-04-01</td>\n",
       "      <td>users</td>\n",
       "      <td>79.0</td>\n",
       "      <td>91.0</td>\n",
       "      <td>-12.0</td>\n",
       "      <td>-0.131868</td>\n",
       "    </tr>\n",
       "    <tr>\n",
       "      <th>10</th>\n",
       "      <td>2022-04-02</td>\n",
       "      <td>2022-04-02</td>\n",
       "      <td>users</td>\n",
       "      <td>40.0</td>\n",
       "      <td>79.0</td>\n",
       "      <td>-39.0</td>\n",
       "      <td>-0.493671</td>\n",
       "    </tr>\n",
       "    <tr>\n",
       "      <th>11</th>\n",
       "      <td>2022-04-03</td>\n",
       "      <td>2022-04-03</td>\n",
       "      <td>users</td>\n",
       "      <td>37.0</td>\n",
       "      <td>40.0</td>\n",
       "      <td>-3.0</td>\n",
       "      <td>-0.075000</td>\n",
       "    </tr>\n",
       "    <tr>\n",
       "      <th>12</th>\n",
       "      <td>2022-04-04</td>\n",
       "      <td>2022-04-04</td>\n",
       "      <td>users</td>\n",
       "      <td>80.0</td>\n",
       "      <td>37.0</td>\n",
       "      <td>43.0</td>\n",
       "      <td>1.162162</td>\n",
       "    </tr>\n",
       "    <tr>\n",
       "      <th>13</th>\n",
       "      <td>2022-04-05</td>\n",
       "      <td>2022-04-05</td>\n",
       "      <td>users</td>\n",
       "      <td>55.0</td>\n",
       "      <td>80.0</td>\n",
       "      <td>-25.0</td>\n",
       "      <td>-0.312500</td>\n",
       "    </tr>\n",
       "    <tr>\n",
       "      <th>14</th>\n",
       "      <td>2022-04-06</td>\n",
       "      <td>2022-04-06</td>\n",
       "      <td>users</td>\n",
       "      <td>421.0</td>\n",
       "      <td>55.0</td>\n",
       "      <td>366.0</td>\n",
       "      <td>6.654545</td>\n",
       "    </tr>\n",
       "    <tr>\n",
       "      <th>15</th>\n",
       "      <td>2022-04-07</td>\n",
       "      <td>2022-04-07</td>\n",
       "      <td>users</td>\n",
       "      <td>55.0</td>\n",
       "      <td>421.0</td>\n",
       "      <td>-366.0</td>\n",
       "      <td>-0.869359</td>\n",
       "    </tr>\n",
       "    <tr>\n",
       "      <th>16</th>\n",
       "      <td>2022-04-08</td>\n",
       "      <td>2022-04-08</td>\n",
       "      <td>users</td>\n",
       "      <td>74.0</td>\n",
       "      <td>55.0</td>\n",
       "      <td>19.0</td>\n",
       "      <td>0.345455</td>\n",
       "    </tr>\n",
       "    <tr>\n",
       "      <th>17</th>\n",
       "      <td>2022-04-09</td>\n",
       "      <td>2022-04-09</td>\n",
       "      <td>users</td>\n",
       "      <td>29.0</td>\n",
       "      <td>74.0</td>\n",
       "      <td>-45.0</td>\n",
       "      <td>-0.608108</td>\n",
       "    </tr>\n",
       "    <tr>\n",
       "      <th>18</th>\n",
       "      <td>2022-04-10</td>\n",
       "      <td>2022-04-10</td>\n",
       "      <td>users</td>\n",
       "      <td>22.0</td>\n",
       "      <td>29.0</td>\n",
       "      <td>-7.0</td>\n",
       "      <td>-0.241379</td>\n",
       "    </tr>\n",
       "    <tr>\n",
       "      <th>19</th>\n",
       "      <td>2022-04-11</td>\n",
       "      <td>2022-04-11</td>\n",
       "      <td>users</td>\n",
       "      <td>80.0</td>\n",
       "      <td>22.0</td>\n",
       "      <td>58.0</td>\n",
       "      <td>2.636364</td>\n",
       "    </tr>\n",
       "    <tr>\n",
       "      <th>20</th>\n",
       "      <td>2022-04-12</td>\n",
       "      <td>2022-04-12</td>\n",
       "      <td>users</td>\n",
       "      <td>79.0</td>\n",
       "      <td>80.0</td>\n",
       "      <td>-1.0</td>\n",
       "      <td>-0.012500</td>\n",
       "    </tr>\n",
       "    <tr>\n",
       "      <th>21</th>\n",
       "      <td>2022-04-13</td>\n",
       "      <td>2022-04-13</td>\n",
       "      <td>users</td>\n",
       "      <td>38.0</td>\n",
       "      <td>79.0</td>\n",
       "      <td>-41.0</td>\n",
       "      <td>-0.518987</td>\n",
       "    </tr>\n",
       "    <tr>\n",
       "      <th>22</th>\n",
       "      <td>2022-04-14</td>\n",
       "      <td>2022-04-14</td>\n",
       "      <td>users</td>\n",
       "      <td>57.0</td>\n",
       "      <td>38.0</td>\n",
       "      <td>19.0</td>\n",
       "      <td>0.500000</td>\n",
       "    </tr>\n",
       "    <tr>\n",
       "      <th>23</th>\n",
       "      <td>2022-04-15</td>\n",
       "      <td>2022-04-15</td>\n",
       "      <td>users</td>\n",
       "      <td>65.0</td>\n",
       "      <td>57.0</td>\n",
       "      <td>8.0</td>\n",
       "      <td>0.140351</td>\n",
       "    </tr>\n",
       "    <tr>\n",
       "      <th>24</th>\n",
       "      <td>2022-04-16</td>\n",
       "      <td>2022-04-16</td>\n",
       "      <td>users</td>\n",
       "      <td>32.0</td>\n",
       "      <td>65.0</td>\n",
       "      <td>-33.0</td>\n",
       "      <td>-0.507692</td>\n",
       "    </tr>\n",
       "    <tr>\n",
       "      <th>25</th>\n",
       "      <td>2022-04-17</td>\n",
       "      <td>2022-04-17</td>\n",
       "      <td>users</td>\n",
       "      <td>30.0</td>\n",
       "      <td>32.0</td>\n",
       "      <td>-2.0</td>\n",
       "      <td>-0.062500</td>\n",
       "    </tr>\n",
       "    <tr>\n",
       "      <th>26</th>\n",
       "      <td>2022-04-18</td>\n",
       "      <td>2022-04-18</td>\n",
       "      <td>users</td>\n",
       "      <td>64.0</td>\n",
       "      <td>30.0</td>\n",
       "      <td>34.0</td>\n",
       "      <td>1.133333</td>\n",
       "    </tr>\n",
       "    <tr>\n",
       "      <th>27</th>\n",
       "      <td>2022-04-19</td>\n",
       "      <td>2022-04-19</td>\n",
       "      <td>users</td>\n",
       "      <td>79.0</td>\n",
       "      <td>64.0</td>\n",
       "      <td>15.0</td>\n",
       "      <td>0.234375</td>\n",
       "    </tr>\n",
       "    <tr>\n",
       "      <th>28</th>\n",
       "      <td>2022-04-20</td>\n",
       "      <td>2022-04-20</td>\n",
       "      <td>users</td>\n",
       "      <td>69.0</td>\n",
       "      <td>79.0</td>\n",
       "      <td>-10.0</td>\n",
       "      <td>-0.126582</td>\n",
       "    </tr>\n",
       "    <tr>\n",
       "      <th>29</th>\n",
       "      <td>2022-04-21</td>\n",
       "      <td>2022-04-21</td>\n",
       "      <td>users</td>\n",
       "      <td>65.0</td>\n",
       "      <td>69.0</td>\n",
       "      <td>-4.0</td>\n",
       "      <td>-0.057971</td>\n",
       "    </tr>\n",
       "    <tr>\n",
       "      <th>30</th>\n",
       "      <td>2022-04-22</td>\n",
       "      <td>2022-04-22</td>\n",
       "      <td>users</td>\n",
       "      <td>24.0</td>\n",
       "      <td>65.0</td>\n",
       "      <td>-41.0</td>\n",
       "      <td>-0.630769</td>\n",
       "    </tr>\n",
       "  </tbody>\n",
       "</table>\n",
       "</div>"
      ],
      "text/plain": [
       "     DATE_ISO        DATE METRIC  VALUE  VALUE_COMP   VARV      VARP\n",
       "0  2022-03-23  2022-03-23  users   57.0         0.0   57.0       inf\n",
       "1  2022-03-24  2022-03-24  users   59.0        57.0    2.0  0.035088\n",
       "2  2022-03-25  2022-03-25  users   50.0        59.0   -9.0 -0.152542\n",
       "3  2022-03-26  2022-03-26  users   27.0        50.0  -23.0 -0.460000\n",
       "4  2022-03-27  2022-03-27  users   24.0        27.0   -3.0 -0.111111\n",
       "5  2022-03-28  2022-03-28  users  106.0        24.0   82.0  3.416667\n",
       "6  2022-03-29  2022-03-29  users   90.0       106.0  -16.0 -0.150943\n",
       "7  2022-03-30  2022-03-30  users   77.0        90.0  -13.0 -0.144444\n",
       "8  2022-03-31  2022-03-31  users   91.0        77.0   14.0  0.181818\n",
       "9  2022-04-01  2022-04-01  users   79.0        91.0  -12.0 -0.131868\n",
       "10 2022-04-02  2022-04-02  users   40.0        79.0  -39.0 -0.493671\n",
       "11 2022-04-03  2022-04-03  users   37.0        40.0   -3.0 -0.075000\n",
       "12 2022-04-04  2022-04-04  users   80.0        37.0   43.0  1.162162\n",
       "13 2022-04-05  2022-04-05  users   55.0        80.0  -25.0 -0.312500\n",
       "14 2022-04-06  2022-04-06  users  421.0        55.0  366.0  6.654545\n",
       "15 2022-04-07  2022-04-07  users   55.0       421.0 -366.0 -0.869359\n",
       "16 2022-04-08  2022-04-08  users   74.0        55.0   19.0  0.345455\n",
       "17 2022-04-09  2022-04-09  users   29.0        74.0  -45.0 -0.608108\n",
       "18 2022-04-10  2022-04-10  users   22.0        29.0   -7.0 -0.241379\n",
       "19 2022-04-11  2022-04-11  users   80.0        22.0   58.0  2.636364\n",
       "20 2022-04-12  2022-04-12  users   79.0        80.0   -1.0 -0.012500\n",
       "21 2022-04-13  2022-04-13  users   38.0        79.0  -41.0 -0.518987\n",
       "22 2022-04-14  2022-04-14  users   57.0        38.0   19.0  0.500000\n",
       "23 2022-04-15  2022-04-15  users   65.0        57.0    8.0  0.140351\n",
       "24 2022-04-16  2022-04-16  users   32.0        65.0  -33.0 -0.507692\n",
       "25 2022-04-17  2022-04-17  users   30.0        32.0   -2.0 -0.062500\n",
       "26 2022-04-18  2022-04-18  users   64.0        30.0   34.0  1.133333\n",
       "27 2022-04-19  2022-04-19  users   79.0        64.0   15.0  0.234375\n",
       "28 2022-04-20  2022-04-20  users   69.0        79.0  -10.0 -0.126582\n",
       "29 2022-04-21  2022-04-21  users   65.0        69.0   -4.0 -0.057971\n",
       "30 2022-04-22  2022-04-22  users   24.0        65.0  -41.0 -0.630769"
      ]
     },
     "execution_count": 17,
     "metadata": {},
     "output_type": "execute_result"
    }
   ],
   "source": [
    "df = googleanalytics.connect(json_path, view_id).users.get_trend(dimensions, start_date, end_date)\n",
    "df"
   ]
  },
  {
   "cell_type": "markdown",
   "id": "df5aee5b",
   "metadata": {
    "papermill": {},
    "tags": []
   },
   "source": [
    "### Plotting linechart"
   ]
  },
  {
   "cell_type": "code",
   "execution_count": 18,
   "id": "bdd79b47-c8bb-467a-812d-f6d0a6c85a9d",
   "metadata": {
    "execution": {
     "iopub.execute_input": "2022-04-22T14:22:13.904509Z",
     "iopub.status.busy": "2022-04-22T14:22:13.904225Z",
     "iopub.status.idle": "2022-04-22T14:22:13.936617Z",
     "shell.execute_reply": "2022-04-22T14:22:13.935379Z",
     "shell.execute_reply.started": "2022-04-22T14:22:13.904452Z"
    },
    "tags": []
   },
   "outputs": [
    {
     "data": {
      "application/vnd.plotly.v1+json": {
       "config": {
        "plotlyServerURL": "https://plot.ly"
       },
       "data": [
        {
         "hoverinfo": "text",
         "mode": "lines+markers",
         "stackgroup": "one",
         "text": [
          "<b>Visitors as of 2022-03-23 : 57</b><br><span style='font-size: 13px;'>+inf% vs last value (+57)</span>",
          "<b>Visitors as of 2022-03-24 : 59</b><br><span style='font-size: 13px;'>+4% vs last value (+2)</span>",
          "<b>Visitors as of 2022-03-25 : 50</b><br><span style='font-size: 13px;'>-15% vs last value (-9)</span>",
          "<b>Visitors as of 2022-03-26 : 27</b><br><span style='font-size: 13px;'>-46% vs last value (-23)</span>",
          "<b>Visitors as of 2022-03-27 : 24</b><br><span style='font-size: 13px;'>-11% vs last value (-3)</span>",
          "<b>Visitors as of 2022-03-28 : 106</b><br><span style='font-size: 13px;'>+342% vs last value (+82)</span>",
          "<b>Visitors as of 2022-03-29 : 90</b><br><span style='font-size: 13px;'>-15% vs last value (-16)</span>",
          "<b>Visitors as of 2022-03-30 : 77</b><br><span style='font-size: 13px;'>-14% vs last value (-13)</span>",
          "<b>Visitors as of 2022-03-31 : 91</b><br><span style='font-size: 13px;'>+18% vs last value (+14)</span>",
          "<b>Visitors as of 2022-04-01 : 79</b><br><span style='font-size: 13px;'>-13% vs last value (-12)</span>",
          "<b>Visitors as of 2022-04-02 : 40</b><br><span style='font-size: 13px;'>-49% vs last value (-39)</span>",
          "<b>Visitors as of 2022-04-03 : 37</b><br><span style='font-size: 13px;'>-8% vs last value (-3)</span>",
          "<b>Visitors as of 2022-04-04 : 80</b><br><span style='font-size: 13px;'>+116% vs last value (+43)</span>",
          "<b>Visitors as of 2022-04-05 : 55</b><br><span style='font-size: 13px;'>-31% vs last value (-25)</span>",
          "<b>Visitors as of 2022-04-06 : 421</b><br><span style='font-size: 13px;'>+665% vs last value (+366)</span>",
          "<b>Visitors as of 2022-04-07 : 55</b><br><span style='font-size: 13px;'>-87% vs last value (-366)</span>",
          "<b>Visitors as of 2022-04-08 : 74</b><br><span style='font-size: 13px;'>+35% vs last value (+19)</span>",
          "<b>Visitors as of 2022-04-09 : 29</b><br><span style='font-size: 13px;'>-61% vs last value (-45)</span>",
          "<b>Visitors as of 2022-04-10 : 22</b><br><span style='font-size: 13px;'>-24% vs last value (-7)</span>",
          "<b>Visitors as of 2022-04-11 : 80</b><br><span style='font-size: 13px;'>+264% vs last value (+58)</span>",
          "<b>Visitors as of 2022-04-12 : 79</b><br><span style='font-size: 13px;'>-1% vs last value (-1)</span>",
          "<b>Visitors as of 2022-04-13 : 38</b><br><span style='font-size: 13px;'>-52% vs last value (-41)</span>",
          "<b>Visitors as of 2022-04-14 : 57</b><br><span style='font-size: 13px;'>+50% vs last value (+19)</span>",
          "<b>Visitors as of 2022-04-15 : 65</b><br><span style='font-size: 13px;'>+14% vs last value (+8)</span>",
          "<b>Visitors as of 2022-04-16 : 32</b><br><span style='font-size: 13px;'>-51% vs last value (-33)</span>",
          "<b>Visitors as of 2022-04-17 : 30</b><br><span style='font-size: 13px;'>-6% vs last value (-2)</span>",
          "<b>Visitors as of 2022-04-18 : 64</b><br><span style='font-size: 13px;'>+113% vs last value (+34)</span>",
          "<b>Visitors as of 2022-04-19 : 79</b><br><span style='font-size: 13px;'>+23% vs last value (+15)</span>",
          "<b>Visitors as of 2022-04-20 : 69</b><br><span style='font-size: 13px;'>-13% vs last value (-10)</span>",
          "<b>Visitors as of 2022-04-21 : 65</b><br><span style='font-size: 13px;'>-6% vs last value (-4)</span>",
          "<b>Visitors as of 2022-04-22 : 24</b><br><span style='font-size: 13px;'>-63% vs last value (-41)</span>"
         ],
         "type": "scatter",
         "x": [
          "2022-03-23",
          "2022-03-24",
          "2022-03-25",
          "2022-03-26",
          "2022-03-27",
          "2022-03-28",
          "2022-03-29",
          "2022-03-30",
          "2022-03-31",
          "2022-04-01",
          "2022-04-02",
          "2022-04-03",
          "2022-04-04",
          "2022-04-05",
          "2022-04-06",
          "2022-04-07",
          "2022-04-08",
          "2022-04-09",
          "2022-04-10",
          "2022-04-11",
          "2022-04-12",
          "2022-04-13",
          "2022-04-14",
          "2022-04-15",
          "2022-04-16",
          "2022-04-17",
          "2022-04-18",
          "2022-04-19",
          "2022-04-20",
          "2022-04-21",
          "2022-04-22"
         ],
         "y": [
          57,
          59,
          50,
          27,
          24,
          106,
          90,
          77,
          91,
          79,
          40,
          37,
          80,
          55,
          421,
          55,
          74,
          29,
          22,
          80,
          79,
          38,
          57,
          65,
          32,
          30,
          64,
          79,
          69,
          65,
          24
         ]
        }
       ],
       "layout": {
        "height": 800,
        "margin": {
         "pad": 10
        },
        "plot_bgcolor": "#ffffff",
        "template": {
         "data": {
          "bar": [
           {
            "error_x": {
             "color": "#2a3f5f"
            },
            "error_y": {
             "color": "#2a3f5f"
            },
            "marker": {
             "line": {
              "color": "#E5ECF6",
              "width": 0.5
             }
            },
            "type": "bar"
           }
          ],
          "barpolar": [
           {
            "marker": {
             "line": {
              "color": "#E5ECF6",
              "width": 0.5
             }
            },
            "type": "barpolar"
           }
          ],
          "carpet": [
           {
            "aaxis": {
             "endlinecolor": "#2a3f5f",
             "gridcolor": "white",
             "linecolor": "white",
             "minorgridcolor": "white",
             "startlinecolor": "#2a3f5f"
            },
            "baxis": {
             "endlinecolor": "#2a3f5f",
             "gridcolor": "white",
             "linecolor": "white",
             "minorgridcolor": "white",
             "startlinecolor": "#2a3f5f"
            },
            "type": "carpet"
           }
          ],
          "choropleth": [
           {
            "colorbar": {
             "outlinewidth": 0,
             "ticks": ""
            },
            "type": "choropleth"
           }
          ],
          "contour": [
           {
            "colorbar": {
             "outlinewidth": 0,
             "ticks": ""
            },
            "colorscale": [
             [
              0,
              "#0d0887"
             ],
             [
              0.1111111111111111,
              "#46039f"
             ],
             [
              0.2222222222222222,
              "#7201a8"
             ],
             [
              0.3333333333333333,
              "#9c179e"
             ],
             [
              0.4444444444444444,
              "#bd3786"
             ],
             [
              0.5555555555555556,
              "#d8576b"
             ],
             [
              0.6666666666666666,
              "#ed7953"
             ],
             [
              0.7777777777777778,
              "#fb9f3a"
             ],
             [
              0.8888888888888888,
              "#fdca26"
             ],
             [
              1,
              "#f0f921"
             ]
            ],
            "type": "contour"
           }
          ],
          "contourcarpet": [
           {
            "colorbar": {
             "outlinewidth": 0,
             "ticks": ""
            },
            "type": "contourcarpet"
           }
          ],
          "heatmap": [
           {
            "colorbar": {
             "outlinewidth": 0,
             "ticks": ""
            },
            "colorscale": [
             [
              0,
              "#0d0887"
             ],
             [
              0.1111111111111111,
              "#46039f"
             ],
             [
              0.2222222222222222,
              "#7201a8"
             ],
             [
              0.3333333333333333,
              "#9c179e"
             ],
             [
              0.4444444444444444,
              "#bd3786"
             ],
             [
              0.5555555555555556,
              "#d8576b"
             ],
             [
              0.6666666666666666,
              "#ed7953"
             ],
             [
              0.7777777777777778,
              "#fb9f3a"
             ],
             [
              0.8888888888888888,
              "#fdca26"
             ],
             [
              1,
              "#f0f921"
             ]
            ],
            "type": "heatmap"
           }
          ],
          "heatmapgl": [
           {
            "colorbar": {
             "outlinewidth": 0,
             "ticks": ""
            },
            "colorscale": [
             [
              0,
              "#0d0887"
             ],
             [
              0.1111111111111111,
              "#46039f"
             ],
             [
              0.2222222222222222,
              "#7201a8"
             ],
             [
              0.3333333333333333,
              "#9c179e"
             ],
             [
              0.4444444444444444,
              "#bd3786"
             ],
             [
              0.5555555555555556,
              "#d8576b"
             ],
             [
              0.6666666666666666,
              "#ed7953"
             ],
             [
              0.7777777777777778,
              "#fb9f3a"
             ],
             [
              0.8888888888888888,
              "#fdca26"
             ],
             [
              1,
              "#f0f921"
             ]
            ],
            "type": "heatmapgl"
           }
          ],
          "histogram": [
           {
            "marker": {
             "colorbar": {
              "outlinewidth": 0,
              "ticks": ""
             }
            },
            "type": "histogram"
           }
          ],
          "histogram2d": [
           {
            "colorbar": {
             "outlinewidth": 0,
             "ticks": ""
            },
            "colorscale": [
             [
              0,
              "#0d0887"
             ],
             [
              0.1111111111111111,
              "#46039f"
             ],
             [
              0.2222222222222222,
              "#7201a8"
             ],
             [
              0.3333333333333333,
              "#9c179e"
             ],
             [
              0.4444444444444444,
              "#bd3786"
             ],
             [
              0.5555555555555556,
              "#d8576b"
             ],
             [
              0.6666666666666666,
              "#ed7953"
             ],
             [
              0.7777777777777778,
              "#fb9f3a"
             ],
             [
              0.8888888888888888,
              "#fdca26"
             ],
             [
              1,
              "#f0f921"
             ]
            ],
            "type": "histogram2d"
           }
          ],
          "histogram2dcontour": [
           {
            "colorbar": {
             "outlinewidth": 0,
             "ticks": ""
            },
            "colorscale": [
             [
              0,
              "#0d0887"
             ],
             [
              0.1111111111111111,
              "#46039f"
             ],
             [
              0.2222222222222222,
              "#7201a8"
             ],
             [
              0.3333333333333333,
              "#9c179e"
             ],
             [
              0.4444444444444444,
              "#bd3786"
             ],
             [
              0.5555555555555556,
              "#d8576b"
             ],
             [
              0.6666666666666666,
              "#ed7953"
             ],
             [
              0.7777777777777778,
              "#fb9f3a"
             ],
             [
              0.8888888888888888,
              "#fdca26"
             ],
             [
              1,
              "#f0f921"
             ]
            ],
            "type": "histogram2dcontour"
           }
          ],
          "mesh3d": [
           {
            "colorbar": {
             "outlinewidth": 0,
             "ticks": ""
            },
            "type": "mesh3d"
           }
          ],
          "parcoords": [
           {
            "line": {
             "colorbar": {
              "outlinewidth": 0,
              "ticks": ""
             }
            },
            "type": "parcoords"
           }
          ],
          "pie": [
           {
            "automargin": true,
            "type": "pie"
           }
          ],
          "scatter": [
           {
            "marker": {
             "colorbar": {
              "outlinewidth": 0,
              "ticks": ""
             }
            },
            "type": "scatter"
           }
          ],
          "scatter3d": [
           {
            "line": {
             "colorbar": {
              "outlinewidth": 0,
              "ticks": ""
             }
            },
            "marker": {
             "colorbar": {
              "outlinewidth": 0,
              "ticks": ""
             }
            },
            "type": "scatter3d"
           }
          ],
          "scattercarpet": [
           {
            "marker": {
             "colorbar": {
              "outlinewidth": 0,
              "ticks": ""
             }
            },
            "type": "scattercarpet"
           }
          ],
          "scattergeo": [
           {
            "marker": {
             "colorbar": {
              "outlinewidth": 0,
              "ticks": ""
             }
            },
            "type": "scattergeo"
           }
          ],
          "scattergl": [
           {
            "marker": {
             "colorbar": {
              "outlinewidth": 0,
              "ticks": ""
             }
            },
            "type": "scattergl"
           }
          ],
          "scattermapbox": [
           {
            "marker": {
             "colorbar": {
              "outlinewidth": 0,
              "ticks": ""
             }
            },
            "type": "scattermapbox"
           }
          ],
          "scatterpolar": [
           {
            "marker": {
             "colorbar": {
              "outlinewidth": 0,
              "ticks": ""
             }
            },
            "type": "scatterpolar"
           }
          ],
          "scatterpolargl": [
           {
            "marker": {
             "colorbar": {
              "outlinewidth": 0,
              "ticks": ""
             }
            },
            "type": "scatterpolargl"
           }
          ],
          "scatterternary": [
           {
            "marker": {
             "colorbar": {
              "outlinewidth": 0,
              "ticks": ""
             }
            },
            "type": "scatterternary"
           }
          ],
          "surface": [
           {
            "colorbar": {
             "outlinewidth": 0,
             "ticks": ""
            },
            "colorscale": [
             [
              0,
              "#0d0887"
             ],
             [
              0.1111111111111111,
              "#46039f"
             ],
             [
              0.2222222222222222,
              "#7201a8"
             ],
             [
              0.3333333333333333,
              "#9c179e"
             ],
             [
              0.4444444444444444,
              "#bd3786"
             ],
             [
              0.5555555555555556,
              "#d8576b"
             ],
             [
              0.6666666666666666,
              "#ed7953"
             ],
             [
              0.7777777777777778,
              "#fb9f3a"
             ],
             [
              0.8888888888888888,
              "#fdca26"
             ],
             [
              1,
              "#f0f921"
             ]
            ],
            "type": "surface"
           }
          ],
          "table": [
           {
            "cells": {
             "fill": {
              "color": "#EBF0F8"
             },
             "line": {
              "color": "white"
             }
            },
            "header": {
             "fill": {
              "color": "#C8D4E3"
             },
             "line": {
              "color": "white"
             }
            },
            "type": "table"
           }
          ]
         },
         "layout": {
          "annotationdefaults": {
           "arrowcolor": "#2a3f5f",
           "arrowhead": 0,
           "arrowwidth": 1
          },
          "autotypenumbers": "strict",
          "coloraxis": {
           "colorbar": {
            "outlinewidth": 0,
            "ticks": ""
           }
          },
          "colorscale": {
           "diverging": [
            [
             0,
             "#8e0152"
            ],
            [
             0.1,
             "#c51b7d"
            ],
            [
             0.2,
             "#de77ae"
            ],
            [
             0.3,
             "#f1b6da"
            ],
            [
             0.4,
             "#fde0ef"
            ],
            [
             0.5,
             "#f7f7f7"
            ],
            [
             0.6,
             "#e6f5d0"
            ],
            [
             0.7,
             "#b8e186"
            ],
            [
             0.8,
             "#7fbc41"
            ],
            [
             0.9,
             "#4d9221"
            ],
            [
             1,
             "#276419"
            ]
           ],
           "sequential": [
            [
             0,
             "#0d0887"
            ],
            [
             0.1111111111111111,
             "#46039f"
            ],
            [
             0.2222222222222222,
             "#7201a8"
            ],
            [
             0.3333333333333333,
             "#9c179e"
            ],
            [
             0.4444444444444444,
             "#bd3786"
            ],
            [
             0.5555555555555556,
             "#d8576b"
            ],
            [
             0.6666666666666666,
             "#ed7953"
            ],
            [
             0.7777777777777778,
             "#fb9f3a"
            ],
            [
             0.8888888888888888,
             "#fdca26"
            ],
            [
             1,
             "#f0f921"
            ]
           ],
           "sequentialminus": [
            [
             0,
             "#0d0887"
            ],
            [
             0.1111111111111111,
             "#46039f"
            ],
            [
             0.2222222222222222,
             "#7201a8"
            ],
            [
             0.3333333333333333,
             "#9c179e"
            ],
            [
             0.4444444444444444,
             "#bd3786"
            ],
            [
             0.5555555555555556,
             "#d8576b"
            ],
            [
             0.6666666666666666,
             "#ed7953"
            ],
            [
             0.7777777777777778,
             "#fb9f3a"
            ],
            [
             0.8888888888888888,
             "#fdca26"
            ],
            [
             1,
             "#f0f921"
            ]
           ]
          },
          "colorway": [
           "#636efa",
           "#EF553B",
           "#00cc96",
           "#ab63fa",
           "#FFA15A",
           "#19d3f3",
           "#FF6692",
           "#B6E880",
           "#FF97FF",
           "#FECB52"
          ],
          "font": {
           "color": "#2a3f5f"
          },
          "geo": {
           "bgcolor": "white",
           "lakecolor": "white",
           "landcolor": "#E5ECF6",
           "showlakes": true,
           "showland": true,
           "subunitcolor": "white"
          },
          "hoverlabel": {
           "align": "left"
          },
          "hovermode": "closest",
          "mapbox": {
           "style": "light"
          },
          "paper_bgcolor": "white",
          "plot_bgcolor": "#E5ECF6",
          "polar": {
           "angularaxis": {
            "gridcolor": "white",
            "linecolor": "white",
            "ticks": ""
           },
           "bgcolor": "#E5ECF6",
           "radialaxis": {
            "gridcolor": "white",
            "linecolor": "white",
            "ticks": ""
           }
          },
          "scene": {
           "xaxis": {
            "backgroundcolor": "#E5ECF6",
            "gridcolor": "white",
            "gridwidth": 2,
            "linecolor": "white",
            "showbackground": true,
            "ticks": "",
            "zerolinecolor": "white"
           },
           "yaxis": {
            "backgroundcolor": "#E5ECF6",
            "gridcolor": "white",
            "gridwidth": 2,
            "linecolor": "white",
            "showbackground": true,
            "ticks": "",
            "zerolinecolor": "white"
           },
           "zaxis": {
            "backgroundcolor": "#E5ECF6",
            "gridcolor": "white",
            "gridwidth": 2,
            "linecolor": "white",
            "showbackground": true,
            "ticks": "",
            "zerolinecolor": "white"
           }
          },
          "shapedefaults": {
           "line": {
            "color": "#2a3f5f"
           }
          },
          "ternary": {
           "aaxis": {
            "gridcolor": "white",
            "linecolor": "white",
            "ticks": ""
           },
           "baxis": {
            "gridcolor": "white",
            "linecolor": "white",
            "ticks": ""
           },
           "bgcolor": "#E5ECF6",
           "caxis": {
            "gridcolor": "white",
            "linecolor": "white",
            "ticks": ""
           }
          },
          "title": {
           "x": 0.05
          },
          "xaxis": {
           "automargin": true,
           "gridcolor": "white",
           "linecolor": "white",
           "ticks": "",
           "title": {
            "standoff": 15
           },
           "zerolinecolor": "white",
           "zerolinewidth": 2
          },
          "yaxis": {
           "automargin": true,
           "gridcolor": "white",
           "linecolor": "white",
           "ticks": "",
           "title": {
            "standoff": 15
           },
           "zerolinecolor": "white",
           "zerolinewidth": 2
          }
         }
        },
        "title": {
         "font": {
          "color": "black",
          "family": "Arial",
          "size": 18
         },
         "text": "<b>Visitors as of 2022-04-22 : 24</b><br><span style='font-size: 13px;'>-63% vs last value (-41)</span>"
        },
        "width": 1200,
        "xaxis": {
         "autorange": true,
         "range": [
          "2022-03-23",
          "2022-04-22"
         ],
         "type": "date"
        },
        "yaxis": {
         "autorange": true,
         "range": [
          0,
          445.99743699273813
         ],
         "type": "linear"
        }
       }
      },
      "image/png": "[encoded data removed]",
      "text/html": [
       "<div>                            <div id=\"d943ab01-919e-4a4f-8e6f-f3e21f530c25\" class=\"plotly-graph-div\" style=\"height:800px; width:1200px;\"></div>            <script type=\"text/javascript\">                require([\"plotly\"], function(Plotly) {                    window.PLOTLYENV=window.PLOTLYENV || {};                                    if (document.getElementById(\"d943ab01-919e-4a4f-8e6f-f3e21f530c25\")) {                    Plotly.newPlot(                        \"d943ab01-919e-4a4f-8e6f-f3e21f530c25\",                        [{\"hoverinfo\": \"text\", \"mode\": \"lines+markers\", \"stackgroup\": \"one\", \"text\": [\"<b>Visitors as of 2022-03-23 : 57</b><br><span style='font-size: 13px;'>+inf% vs last value (+57)</span>\", \"<b>Visitors as of 2022-03-24 : 59</b><br><span style='font-size: 13px;'>+4% vs last value (+2)</span>\", \"<b>Visitors as of 2022-03-25 : 50</b><br><span style='font-size: 13px;'>-15% vs last value (-9)</span>\", \"<b>Visitors as of 2022-03-26 : 27</b><br><span style='font-size: 13px;'>-46% vs last value (-23)</span>\", \"<b>Visitors as of 2022-03-27 : 24</b><br><span style='font-size: 13px;'>-11% vs last value (-3)</span>\", \"<b>Visitors as of 2022-03-28 : 106</b><br><span style='font-size: 13px;'>+342% vs last value (+82)</span>\", \"<b>Visitors as of 2022-03-29 : 90</b><br><span style='font-size: 13px;'>-15% vs last value (-16)</span>\", \"<b>Visitors as of 2022-03-30 : 77</b><br><span style='font-size: 13px;'>-14% vs last value (-13)</span>\", \"<b>Visitors as of 2022-03-31 : 91</b><br><span style='font-size: 13px;'>+18% vs last value (+14)</span>\", \"<b>Visitors as of 2022-04-01 : 79</b><br><span style='font-size: 13px;'>-13% vs last value (-12)</span>\", \"<b>Visitors as of 2022-04-02 : 40</b><br><span style='font-size: 13px;'>-49% vs last value (-39)</span>\", \"<b>Visitors as of 2022-04-03 : 37</b><br><span style='font-size: 13px;'>-8% vs last value (-3)</span>\", \"<b>Visitors as of 2022-04-04 : 80</b><br><span style='font-size: 13px;'>+116% vs last value (+43)</span>\", \"<b>Visitors as of 2022-04-05 : 55</b><br><span style='font-size: 13px;'>-31% vs last value (-25)</span>\", \"<b>Visitors as of 2022-04-06 : 421</b><br><span style='font-size: 13px;'>+665% vs last value (+366)</span>\", \"<b>Visitors as of 2022-04-07 : 55</b><br><span style='font-size: 13px;'>-87% vs last value (-366)</span>\", \"<b>Visitors as of 2022-04-08 : 74</b><br><span style='font-size: 13px;'>+35% vs last value (+19)</span>\", \"<b>Visitors as of 2022-04-09 : 29</b><br><span style='font-size: 13px;'>-61% vs last value (-45)</span>\", \"<b>Visitors as of 2022-04-10 : 22</b><br><span style='font-size: 13px;'>-24% vs last value (-7)</span>\", \"<b>Visitors as of 2022-04-11 : 80</b><br><span style='font-size: 13px;'>+264% vs last value (+58)</span>\", \"<b>Visitors as of 2022-04-12 : 79</b><br><span style='font-size: 13px;'>-1% vs last value (-1)</span>\", \"<b>Visitors as of 2022-04-13 : 38</b><br><span style='font-size: 13px;'>-52% vs last value (-41)</span>\", \"<b>Visitors as of 2022-04-14 : 57</b><br><span style='font-size: 13px;'>+50% vs last value (+19)</span>\", \"<b>Visitors as of 2022-04-15 : 65</b><br><span style='font-size: 13px;'>+14% vs last value (+8)</span>\", \"<b>Visitors as of 2022-04-16 : 32</b><br><span style='font-size: 13px;'>-51% vs last value (-33)</span>\", \"<b>Visitors as of 2022-04-17 : 30</b><br><span style='font-size: 13px;'>-6% vs last value (-2)</span>\", \"<b>Visitors as of 2022-04-18 : 64</b><br><span style='font-size: 13px;'>+113% vs last value (+34)</span>\", \"<b>Visitors as of 2022-04-19 : 79</b><br><span style='font-size: 13px;'>+23% vs last value (+15)</span>\", \"<b>Visitors as of 2022-04-20 : 69</b><br><span style='font-size: 13px;'>-13% vs last value (-10)</span>\", \"<b>Visitors as of 2022-04-21 : 65</b><br><span style='font-size: 13px;'>-6% vs last value (-4)</span>\", \"<b>Visitors as of 2022-04-22 : 24</b><br><span style='font-size: 13px;'>-63% vs last value (-41)</span>\"], \"type\": \"scatter\", \"x\": [\"2022-03-23\", \"2022-03-24\", \"2022-03-25\", \"2022-03-26\", \"2022-03-27\", \"2022-03-28\", \"2022-03-29\", \"2022-03-30\", \"2022-03-31\", \"2022-04-01\", \"2022-04-02\", \"2022-04-03\", \"2022-04-04\", \"2022-04-05\", \"2022-04-06\", \"2022-04-07\", \"2022-04-08\", \"2022-04-09\", \"2022-04-10\", \"2022-04-11\", \"2022-04-12\", \"2022-04-13\", \"2022-04-14\", \"2022-04-15\", \"2022-04-16\", \"2022-04-17\", \"2022-04-18\", \"2022-04-19\", \"2022-04-20\", \"2022-04-21\", \"2022-04-22\"], \"y\": [57.0, 59.0, 50.0, 27.0, 24.0, 106.0, 90.0, 77.0, 91.0, 79.0, 40.0, 37.0, 80.0, 55.0, 421.0, 55.0, 74.0, 29.0, 22.0, 80.0, 79.0, 38.0, 57.0, 65.0, 32.0, 30.0, 64.0, 79.0, 69.0, 65.0, 24.0]}],                        {\"height\": 800, \"margin\": {\"pad\": 10}, \"plot_bgcolor\": \"#ffffff\", \"template\": {\"data\": {\"bar\": [{\"error_x\": {\"color\": \"#2a3f5f\"}, \"error_y\": {\"color\": \"#2a3f5f\"}, \"marker\": {\"line\": {\"color\": \"#E5ECF6\", \"width\": 0.5}}, \"type\": \"bar\"}], \"barpolar\": [{\"marker\": {\"line\": {\"color\": \"#E5ECF6\", \"width\": 0.5}}, \"type\": \"barpolar\"}], \"carpet\": [{\"aaxis\": {\"endlinecolor\": \"#2a3f5f\", \"gridcolor\": \"white\", \"linecolor\": \"white\", \"minorgridcolor\": \"white\", \"startlinecolor\": \"#2a3f5f\"}, \"baxis\": {\"endlinecolor\": \"#2a3f5f\", \"gridcolor\": \"white\", \"linecolor\": \"white\", \"minorgridcolor\": \"white\", \"startlinecolor\": \"#2a3f5f\"}, \"type\": \"carpet\"}], \"choropleth\": [{\"colorbar\": {\"outlinewidth\": 0, \"ticks\": \"\"}, \"type\": \"choropleth\"}], \"contour\": [{\"colorbar\": {\"outlinewidth\": 0, \"ticks\": \"\"}, \"colorscale\": [[0.0, \"#0d0887\"], [0.1111111111111111, \"#46039f\"], [0.2222222222222222, \"#7201a8\"], [0.3333333333333333, \"#9c179e\"], [0.4444444444444444, \"#bd3786\"], [0.5555555555555556, \"#d8576b\"], [0.6666666666666666, \"#ed7953\"], [0.7777777777777778, \"#fb9f3a\"], [0.8888888888888888, \"#fdca26\"], [1.0, \"#f0f921\"]], \"type\": \"contour\"}], \"contourcarpet\": [{\"colorbar\": {\"outlinewidth\": 0, \"ticks\": \"\"}, \"type\": \"contourcarpet\"}], \"heatmap\": [{\"colorbar\": {\"outlinewidth\": 0, \"ticks\": \"\"}, \"colorscale\": [[0.0, \"#0d0887\"], [0.1111111111111111, \"#46039f\"], [0.2222222222222222, \"#7201a8\"], [0.3333333333333333, \"#9c179e\"], [0.4444444444444444, \"#bd3786\"], [0.5555555555555556, \"#d8576b\"], [0.6666666666666666, \"#ed7953\"], [0.7777777777777778, \"#fb9f3a\"], [0.8888888888888888, \"#fdca26\"], [1.0, \"#f0f921\"]], \"type\": \"heatmap\"}], \"heatmapgl\": [{\"colorbar\": {\"outlinewidth\": 0, \"ticks\": \"\"}, \"colorscale\": [[0.0, \"#0d0887\"], [0.1111111111111111, \"#46039f\"], [0.2222222222222222, \"#7201a8\"], [0.3333333333333333, \"#9c179e\"], [0.4444444444444444, \"#bd3786\"], [0.5555555555555556, \"#d8576b\"], [0.6666666666666666, \"#ed7953\"], [0.7777777777777778, \"#fb9f3a\"], [0.8888888888888888, \"#fdca26\"], [1.0, \"#f0f921\"]], \"type\": \"heatmapgl\"}], \"histogram\": [{\"marker\": {\"colorbar\": {\"outlinewidth\": 0, \"ticks\": \"\"}}, \"type\": \"histogram\"}], \"histogram2d\": [{\"colorbar\": {\"outlinewidth\": 0, \"ticks\": \"\"}, \"colorscale\": [[0.0, \"#0d0887\"], [0.1111111111111111, \"#46039f\"], [0.2222222222222222, \"#7201a8\"], [0.3333333333333333, \"#9c179e\"], [0.4444444444444444, \"#bd3786\"], [0.5555555555555556, \"#d8576b\"], [0.6666666666666666, \"#ed7953\"], [0.7777777777777778, \"#fb9f3a\"], [0.8888888888888888, \"#fdca26\"], [1.0, \"#f0f921\"]], \"type\": \"histogram2d\"}], \"histogram2dcontour\": [{\"colorbar\": {\"outlinewidth\": 0, \"ticks\": \"\"}, \"colorscale\": [[0.0, \"#0d0887\"], [0.1111111111111111, \"#46039f\"], [0.2222222222222222, \"#7201a8\"], [0.3333333333333333, \"#9c179e\"], [0.4444444444444444, \"#bd3786\"], [0.5555555555555556, \"#d8576b\"], [0.6666666666666666, \"#ed7953\"], [0.7777777777777778, \"#fb9f3a\"], [0.8888888888888888, \"#fdca26\"], [1.0, \"#f0f921\"]], \"type\": \"histogram2dcontour\"}], \"mesh3d\": [{\"colorbar\": {\"outlinewidth\": 0, \"ticks\": \"\"}, \"type\": \"mesh3d\"}], \"parcoords\": [{\"line\": {\"colorbar\": {\"outlinewidth\": 0, \"ticks\": \"\"}}, \"type\": \"parcoords\"}], \"pie\": [{\"automargin\": true, \"type\": \"pie\"}], \"scatter\": [{\"marker\": {\"colorbar\": {\"outlinewidth\": 0, \"ticks\": \"\"}}, \"type\": \"scatter\"}], \"scatter3d\": [{\"line\": {\"colorbar\": {\"outlinewidth\": 0, \"ticks\": \"\"}}, \"marker\": {\"colorbar\": {\"outlinewidth\": 0, \"ticks\": \"\"}}, \"type\": \"scatter3d\"}], \"scattercarpet\": [{\"marker\": {\"colorbar\": {\"outlinewidth\": 0, \"ticks\": \"\"}}, \"type\": \"scattercarpet\"}], \"scattergeo\": [{\"marker\": {\"colorbar\": {\"outlinewidth\": 0, \"ticks\": \"\"}}, \"type\": \"scattergeo\"}], \"scattergl\": [{\"marker\": {\"colorbar\": {\"outlinewidth\": 0, \"ticks\": \"\"}}, \"type\": \"scattergl\"}], \"scattermapbox\": [{\"marker\": {\"colorbar\": {\"outlinewidth\": 0, \"ticks\": \"\"}}, \"type\": \"scattermapbox\"}], \"scatterpolar\": [{\"marker\": {\"colorbar\": {\"outlinewidth\": 0, \"ticks\": \"\"}}, \"type\": \"scatterpolar\"}], \"scatterpolargl\": [{\"marker\": {\"colorbar\": {\"outlinewidth\": 0, \"ticks\": \"\"}}, \"type\": \"scatterpolargl\"}], \"scatterternary\": [{\"marker\": {\"colorbar\": {\"outlinewidth\": 0, \"ticks\": \"\"}}, \"type\": \"scatterternary\"}], \"surface\": [{\"colorbar\": {\"outlinewidth\": 0, \"ticks\": \"\"}, \"colorscale\": [[0.0, \"#0d0887\"], [0.1111111111111111, \"#46039f\"], [0.2222222222222222, \"#7201a8\"], [0.3333333333333333, \"#9c179e\"], [0.4444444444444444, \"#bd3786\"], [0.5555555555555556, \"#d8576b\"], [0.6666666666666666, \"#ed7953\"], [0.7777777777777778, \"#fb9f3a\"], [0.8888888888888888, \"#fdca26\"], [1.0, \"#f0f921\"]], \"type\": \"surface\"}], \"table\": [{\"cells\": {\"fill\": {\"color\": \"#EBF0F8\"}, \"line\": {\"color\": \"white\"}}, \"header\": {\"fill\": {\"color\": \"#C8D4E3\"}, \"line\": {\"color\": \"white\"}}, \"type\": \"table\"}]}, \"layout\": {\"annotationdefaults\": {\"arrowcolor\": \"#2a3f5f\", \"arrowhead\": 0, \"arrowwidth\": 1}, \"autotypenumbers\": \"strict\", \"coloraxis\": {\"colorbar\": {\"outlinewidth\": 0, \"ticks\": \"\"}}, \"colorscale\": {\"diverging\": [[0, \"#8e0152\"], [0.1, \"#c51b7d\"], [0.2, \"#de77ae\"], [0.3, \"#f1b6da\"], [0.4, \"#fde0ef\"], [0.5, \"#f7f7f7\"], [0.6, \"#e6f5d0\"], [0.7, \"#b8e186\"], [0.8, \"#7fbc41\"], [0.9, \"#4d9221\"], [1, \"#276419\"]], \"sequential\": [[0.0, \"#0d0887\"], [0.1111111111111111, \"#46039f\"], [0.2222222222222222, \"#7201a8\"], [0.3333333333333333, \"#9c179e\"], [0.4444444444444444, \"#bd3786\"], [0.5555555555555556, \"#d8576b\"], [0.6666666666666666, \"#ed7953\"], [0.7777777777777778, \"#fb9f3a\"], [0.8888888888888888, \"#fdca26\"], [1.0, \"#f0f921\"]], \"sequentialminus\": [[0.0, \"#0d0887\"], [0.1111111111111111, \"#46039f\"], [0.2222222222222222, \"#7201a8\"], [0.3333333333333333, \"#9c179e\"], [0.4444444444444444, \"#bd3786\"], [0.5555555555555556, \"#d8576b\"], [0.6666666666666666, \"#ed7953\"], [0.7777777777777778, \"#fb9f3a\"], [0.8888888888888888, \"#fdca26\"], [1.0, \"#f0f921\"]]}, \"colorway\": [\"#636efa\", \"#EF553B\", \"#00cc96\", \"#ab63fa\", \"#FFA15A\", \"#19d3f3\", \"#FF6692\", \"#B6E880\", \"#FF97FF\", \"#FECB52\"], \"font\": {\"color\": \"#2a3f5f\"}, \"geo\": {\"bgcolor\": \"white\", \"lakecolor\": \"white\", \"landcolor\": \"#E5ECF6\", \"showlakes\": true, \"showland\": true, \"subunitcolor\": \"white\"}, \"hoverlabel\": {\"align\": \"left\"}, \"hovermode\": \"closest\", \"mapbox\": {\"style\": \"light\"}, \"paper_bgcolor\": \"white\", \"plot_bgcolor\": \"#E5ECF6\", \"polar\": {\"angularaxis\": {\"gridcolor\": \"white\", \"linecolor\": \"white\", \"ticks\": \"\"}, \"bgcolor\": \"#E5ECF6\", \"radialaxis\": {\"gridcolor\": \"white\", \"linecolor\": \"white\", \"ticks\": \"\"}}, \"scene\": {\"xaxis\": {\"backgroundcolor\": \"#E5ECF6\", \"gridcolor\": \"white\", \"gridwidth\": 2, \"linecolor\": \"white\", \"showbackground\": true, \"ticks\": \"\", \"zerolinecolor\": \"white\"}, \"yaxis\": {\"backgroundcolor\": \"#E5ECF6\", \"gridcolor\": \"white\", \"gridwidth\": 2, \"linecolor\": \"white\", \"showbackground\": true, \"ticks\": \"\", \"zerolinecolor\": \"white\"}, \"zaxis\": {\"backgroundcolor\": \"#E5ECF6\", \"gridcolor\": \"white\", \"gridwidth\": 2, \"linecolor\": \"white\", \"showbackground\": true, \"ticks\": \"\", \"zerolinecolor\": \"white\"}}, \"shapedefaults\": {\"line\": {\"color\": \"#2a3f5f\"}}, \"ternary\": {\"aaxis\": {\"gridcolor\": \"white\", \"linecolor\": \"white\", \"ticks\": \"\"}, \"baxis\": {\"gridcolor\": \"white\", \"linecolor\": \"white\", \"ticks\": \"\"}, \"bgcolor\": \"#E5ECF6\", \"caxis\": {\"gridcolor\": \"white\", \"linecolor\": \"white\", \"ticks\": \"\"}}, \"title\": {\"x\": 0.05}, \"xaxis\": {\"automargin\": true, \"gridcolor\": \"white\", \"linecolor\": \"white\", \"ticks\": \"\", \"title\": {\"standoff\": 15}, \"zerolinecolor\": \"white\", \"zerolinewidth\": 2}, \"yaxis\": {\"automargin\": true, \"gridcolor\": \"white\", \"linecolor\": \"white\", \"ticks\": \"\", \"title\": {\"standoff\": 15}, \"zerolinecolor\": \"white\", \"zerolinewidth\": 2}}}, \"title\": {\"font\": {\"color\": \"black\", \"family\": \"Arial\", \"size\": 18}, \"text\": \"<b>Visitors as of 2022-04-22 : 24</b><br><span style='font-size: 13px;'>-63% vs last value (-41)</span>\"}, \"width\": 1200},                        {\"responsive\": true}                    ).then(function(){\n",
       "                            \n",
       "var gd = document.getElementById('d943ab01-919e-4a4f-8e6f-f3e21f530c25');\n",
       "var x = new MutationObserver(function (mutations, observer) {{\n",
       "        var display = window.getComputedStyle(gd).display;\n",
       "        if (!display || display === 'none') {{\n",
       "            console.log([gd, 'removed!']);\n",
       "            Plotly.purge(gd);\n",
       "            observer.disconnect();\n",
       "        }}\n",
       "}});\n",
       "\n",
       "// Listen for the removal of the full notebook cells\n",
       "var notebookContainer = gd.closest('#notebook-container');\n",
       "if (notebookContainer) {{\n",
       "    x.observe(notebookContainer, {childList: true});\n",
       "}}\n",
       "\n",
       "// Listen for the clearing of the current output cell\n",
       "var outputEl = gd.closest('.output');\n",
       "if (outputEl) {{\n",
       "    x.observe(outputEl, {childList: true});\n",
       "}}\n",
       "\n",
       "                        })                };                });            </script>        </div>"
      ]
     },
     "metadata": {},
     "output_type": "display_data"
    }
   ],
   "source": [
    "def create_linechart(df: pd.DataFrame, label, value, varv, varp, title):\n",
    "    \"\"\"\n",
    "    Plot linechart as an area chart in Plotly.\n",
    "    \"\"\"\n",
    "    # Prep data\n",
    "    df[\"VALUE_D\"] = df[value].map(\"{:,.0f}\".format).str.replace(\",\", \" \")\n",
    "    df[\"VARV_D\"] = df[varv].map(\"{:,.0f}\".format).str.replace(\",\", \" \")\n",
    "    df.loc[df[varv] > 0, \"VARV_D\"] = \"+\" + df[\"VARV_D\"]\n",
    "    df[\"VARP_D\"] = df[varp].map(\"{:,.0%}\".format).str.replace(\",\", \" \")\n",
    "    df.loc[df[varp] > 0, \"VARP_D\"] = \"+\" + df[\"VARP_D\"]    \n",
    "\n",
    "    # Create hovertext\n",
    "    df[\"TEXT\"] = (f\"<b>{title} as of \" + df[label].astype(str) + \" : \" + df[\"VALUE_D\"] + \"</b><br><span style='font-size: 13px;'>\" + df[\"VARP_D\"] + \" vs last value (\" + df[\"VARV_D\"] + \")</span>\")\n",
    "    \n",
    "    # Get subtitle\n",
    "    title_display = df.loc[df.index[-1], \"TEXT\"] \n",
    "    \n",
    "    # Create data\n",
    "    data = go.Scatter(\n",
    "        x=df[label],\n",
    "        y=df[value],\n",
    "        stackgroup=\"one\",\n",
    "        text=df[\"TEXT\"],\n",
    "        hoverinfo=\"text\",\n",
    "    )\n",
    "    \n",
    "    # Create layout\n",
    "    layout = go.Layout(\n",
    "        title=title_display,\n",
    "        title_font=dict(family=\"Arial\", size=18, color=\"black\"),\n",
    "        plot_bgcolor=\"#ffffff\",\n",
    "        width=1200,\n",
    "        height=800,\n",
    "        margin_pad=10,\n",
    "    )\n",
    "    fig = go.Figure(data=data, layout=layout)\n",
    "    fig.update_traces(mode='lines+markers')\n",
    "    return fig\n",
    "\n",
    "fig = create_linechart(df, \"DATE\", \"VALUE\", \"VARV\", \"VARP\", title)\n",
    "fig"
   ]
  },
  {
   "cell_type": "markdown",
   "id": "1f16409e",
   "metadata": {
    "execution": {
     "iopub.execute_input": "2021-07-02T23:32:10.789097Z",
     "iopub.status.busy": "2021-07-02T23:32:10.788829Z",
     "iopub.status.idle": "2021-07-02T23:32:10.796900Z",
     "shell.execute_reply": "2021-07-02T23:32:10.796358Z",
     "shell.execute_reply.started": "2021-07-02T23:32:10.789033Z"
    },
    "papermill": {},
    "tags": []
   },
   "source": [
    "## Output"
   ]
  },
  {
   "cell_type": "markdown",
   "id": "7f31f2d2-f301-42dd-8205-00dd34b85fa6",
   "metadata": {},
   "source": [
    "### Save and share csv"
   ]
  },
  {
   "cell_type": "code",
   "execution_count": null,
   "id": "bd52dd6c-e915-4025-9a67-2aed83ab9c9f",
   "metadata": {},
   "outputs": [],
   "source": [
    "df.to_csv(csv_output, index=False)\n",
    "\n",
    "# Share with naas\n",
    "#-> Uncomment the line below (by removing the hashtag) to share your asset with naas\n",
    "# naas.asset.add(csv_output)\n",
    "\n",
    "#-> Uncomment the line below (by removing the hashtag)  to delete your asset\n",
    "# naas.asset.delete(csv_output)"
   ]
  },
  {
   "cell_type": "markdown",
   "id": "73cd9e78-7589-48c3-bf10-90598f54693a",
   "metadata": {},
   "source": [
    "### Export and share graph in HTML"
   ]
  },
  {
   "cell_type": "code",
   "execution_count": null,
   "id": "4913d04d-ef6e-48d5-8414-f017bbf52a38",
   "metadata": {},
   "outputs": [],
   "source": [
    "fig.write_html(html_output)\n",
    "\n",
    "# Share with naas\n",
    "#-> Uncomment the line below (by removing the hashtag) to share your asset with naas\n",
    "# naas.asset.add(html_output, params={\"inline\": True})\n",
    "\n",
    "#-> Uncomment the line below (by removing the hashtag)  to delete your asset\n",
    "# naas.asset.delete(html_output)"
   ]
  },
  {
   "cell_type": "markdown",
   "id": "ce2768ac-29f1-4c67-8047-cdd15919f785",
   "metadata": {},
   "source": [
    "### Export and share graph in PNG"
   ]
  },
  {
   "cell_type": "code",
   "execution_count": null,
   "id": "d3c87ec1-50be-423c-ad88-230042dca22f",
   "metadata": {},
   "outputs": [],
   "source": [
    "fig.write_image(image_output)\n",
    "\n",
    "# Share with naas\n",
    "#-> Uncomment the line below (by removing the hashtag) to share your asset with naas\n",
    "# naas.asset.add(image_output)\n",
    "\n",
    "#-> Uncomment the line below (by removing the hashtag)  to delete your asset\n",
    "# naas.asset.delete(image_output)"
   ]
  }
 ],
 "metadata": {
  "interpreter": {
   "hash": "aee8b7b246df8f9039afb4144a1f6fd8d2ca17a180786b69acc140d282b71a49"
  },
  "kernelspec": {
   "display_name": "Python 3",
   "language": "python",
   "name": "python3"
  },
  "language_info": {
   "codemirror_mode": {
    "name": "ipython",
    "version": 3
   },
   "file_extension": ".py",
   "mimetype": "text/x-python",
   "name": "python",
   "nbconvert_exporter": "python",
   "pygments_lexer": "ipython3",
   "version": "3.9.6"
  },
  "papermill": {
   "default_parameters": {},
   "environment_variables": {},
   "parameters": {},
   "version": "2.3.3"
  },
  "widgets": {
   "application/vnd.jupyter.widget-state+json": {
    "state": {},
    "version_major": 2,
    "version_minor": 0
   }
  }
 },
 "nbformat": 4,
 "nbformat_minor": 5
}
