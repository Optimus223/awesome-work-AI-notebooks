{
 "cells": [
  {
   "cell_type": "markdown",
   "id": "4674b02f",
   "metadata": {
    "execution": {
     "iopub.execute_input": "2021-02-23T14:22:16.610471Z",
     "iopub.status.busy": "2021-02-23T14:22:16.610129Z",
     "iopub.status.idle": "2021-02-23T14:22:16.627784Z",
     "shell.execute_reply": "2021-02-23T14:22:16.626866Z",
     "shell.execute_reply.started": "2021-02-23T14:22:16.610384Z"
    },
    "papermill": {},
    "tags": []
   },
   "source": [
    "<img width=\"10%\" alt=\"Naas\" src=\"https://landen.imgix.net/jtci2pxwjczr/assets/5ice39g4.png?w=160\"/>"
   ]
  },
  {
   "cell_type": "markdown",
   "id": "b7a36ee3",
   "metadata": {
    "papermill": {},
    "tags": []
   },
   "source": [
    "# Google Analytics - Get unique visitors by countries\n",
    "<a href=\"https://app.naas.ai/user-redirect/naas/downloader?url=https://raw.githubusercontent.com/jupyter-naas/awesome-notebooks/master/Google%20Analytics/GoogleAnalytics_Get_stats_per_country.ipynb\" target=\"_parent\"><img src=\"https://naasai-public.s3.eu-west-3.amazonaws.com/open_in_naas.svg\"/></a>"
   ]
  },
  {
   "cell_type": "markdown",
   "id": "19875963",
   "metadata": {
    "papermill": {},
    "tags": []
   },
   "source": [
    "**Tags:** #googleanalytics #statspercountry #analytics"
   ]
  },
  {
   "cell_type": "markdown",
   "id": "29814b06-df6a-4be0-9b98-a9a523e2f98b",
   "metadata": {
    "papermill": {},
    "tags": []
   },
   "source": [
    "**Author:** [Charles Demontigny](https://www.linkedin.com/in/charles-demontigny/)"
   ]
  },
  {
   "cell_type": "markdown",
   "id": "7e6ef3e1",
   "metadata": {
    "papermill": {},
    "tags": []
   },
   "source": [
    "Pre-requisite: Create your own <a href=\"\">Google API JSON credential</a>"
   ]
  },
  {
   "cell_type": "markdown",
   "id": "55f800df",
   "metadata": {
    "papermill": {},
    "tags": []
   },
   "source": [
    "## Input"
   ]
  },
  {
   "cell_type": "markdown",
   "id": "3f24ee2c",
   "metadata": {
    "papermill": {},
    "tags": []
   },
   "source": [
    "### Import library"
   ]
  },
  {
   "cell_type": "code",
   "execution_count": null,
   "id": "313f83d6-90e5-48ab-a3d7-1ce8b6167b98",
   "metadata": {},
   "outputs": [],
   "source": [
    "! pip install --user rich"
   ]
  },
  {
   "cell_type": "code",
   "execution_count": null,
   "id": "b2586bcc",
   "metadata": {
    "papermill": {},
    "tags": []
   },
   "outputs": [],
   "source": [
    "try:\n",
    "    import pycountry\n",
    "except:\n",
    "    !pip install pycountry\n",
    "    import pycountry\n",
    "import plotly.graph_objects as go\n",
    "import plotly.express as px\n",
    "import naas\n",
    "from rich import print\n",
    "# Using a dropin driver in a cell for now. (Faster iterations)\n",
    "# from naas_drivers import googleanalytics"
   ]
  },
  {
   "cell_type": "markdown",
   "id": "8f103e30",
   "metadata": {
    "papermill": {},
    "tags": []
   },
   "source": [
    "### Get your credential from Google Cloud Platform"
   ]
  },
  {
   "cell_type": "code",
   "execution_count": null,
   "id": "04c24e42",
   "metadata": {
    "papermill": {},
    "tags": []
   },
   "outputs": [],
   "source": [
    "json_path = 'naas-googleanalytics.json'"
   ]
  },
  {
   "cell_type": "markdown",
   "id": "9b37f390",
   "metadata": {
    "papermill": {},
    "tags": []
   },
   "source": [
    "### Get view id from google analytics"
   ]
  },
  {
   "cell_type": "code",
   "execution_count": null,
   "id": "fe4ddc9f",
   "metadata": {
    "papermill": {},
    "tags": []
   },
   "outputs": [],
   "source": [
    "view_id = \"228952707\""
   ]
  },
  {
   "cell_type": "markdown",
   "id": "3729685f-abab-4f5e-919f-3b07ce841f1c",
   "metadata": {},
   "source": [
    "# Drop in driver"
   ]
  },
  {
   "cell_type": "code",
   "execution_count": null,
   "id": "30044522-eb2e-4afa-9267-43bdaf2c5a14",
   "metadata": {
    "tags": []
   },
   "outputs": [],
   "source": [
    "\"\"\"Google Analytics Driver.\"\"\"\n",
    "import re\n",
    "from datetime import datetime, timedelta\n",
    "\n",
    "import numpy as np\n",
    "import pandas as pd\n",
    "from google.oauth2 import service_account\n",
    "from apiclient.discovery import build\n",
    "\n",
    "from naas_drivers.driver import InDriver, OutDriver\n",
    "\n",
    "\n",
    "# Helper function\n",
    "def ga_naming_to_title(ga_nanimg: str):\n",
    "    name = ga_nanimg.split(\":\")[-1]\n",
    "    splited_name = re.findall(r\"[A-Z]?[a-z]+|[A-Z]+(?=[A-Z]|$)\", name)\n",
    "    return \" \".join([name.title() for name in splited_name])\n",
    "\n",
    "\n",
    "class GoogleAnalytics(InDriver, OutDriver):\n",
    "    \"\"\"\n",
    "    Google Analytics driver.\n",
    "    \"\"\"\n",
    "\n",
    "    def __init__(self) -> None:\n",
    "        self.views = Views(self)\n",
    "\n",
    "    def connect(self, json_path: str):\n",
    "        credentials = service_account.Credentials.from_service_account_file(\n",
    "            json_path, scopes=[\"https://www.googleapis.com/auth/analytics.readonly\"]\n",
    "        )\n",
    "        self.service = build(\"analyticsreporting\", \"v4\", credentials=credentials)\n",
    "        return self\n",
    "\n",
    "\n",
    "class Views:\n",
    "    def __init__(self, parent) -> None:\n",
    "        self.parent = parent\n",
    "\n",
    "    @staticmethod\n",
    "    def _get_body(\n",
    "        view_id: str,\n",
    "        start_date: str,\n",
    "        end_date: str,\n",
    "        metrics: str,\n",
    "        pivots_dimensions: str,\n",
    "        dimensions: str = \"ga:yearMonth\",\n",
    "        max_group_count: int = 1000\n",
    "    ) -> dict:\n",
    "        \"\"\"\n",
    "        Create the body of the request to Google Analytics Reporting API V4.\n",
    "\n",
    "        Args:\n",
    "            view_id: your access point for reports; a defined view of data from a property.\n",
    "            date_ranges: e.g. [{\"startDates\": \"2020-01-01\", \"endDates\": \"2020-12-31\"}]\n",
    "            metrics: e.g. [{'expression': 'ga:users'}, {\"expression\": \"ga:bounceRate\"}]\n",
    "            pivot_dimension: e.g. [{\"name\": \"ga:channelGrouping\"}]\n",
    "            dimensions: e.g. [{'name': 'ga:yearMonth'}]\n",
    "\n",
    "        Returns response in JSON format.\n",
    "        \"\"\"\n",
    "        return {\n",
    "            \"reportRequests\": [\n",
    "                {\n",
    "                    \"viewId\": view_id,\n",
    "                    \"dateRanges\": {\"startDate\": start_date, \"endDate\": end_date},\n",
    "                    \"metrics\": [{\"expression\": metrics}],\n",
    "                    \"dimensions\": {\"name\": dimensions},\n",
    "                    \"pivots\": [\n",
    "                        {\n",
    "                            \"dimensions\": {\"name\": pivots_dimensions},\n",
    "                            \"metrics\": [{\"expression\": metrics}],\n",
    "                            \"maxGroupCount\": max_group_count,\n",
    "                        }\n",
    "                    ],\n",
    "                }\n",
    "            ]\n",
    "        }\n",
    "\n",
    "    def get_data(\n",
    "        self,\n",
    "        view_id: str,\n",
    "        metrics: str,\n",
    "        pivots_dimensions: str,\n",
    "        dimensions: str = \"ga:yearMonth\",\n",
    "        start_date: str = None,\n",
    "        end_date: str = None,\n",
    "        format_type: str = \"summary\",\n",
    "        max_group_count: int = 1000\n",
    "    ) -> pd.DataFrame:\n",
    "        \"\"\"\n",
    "        Get data from Google Analytics Reporting API V4.\n",
    "        \"\"\"\n",
    "        if format_type not in (\"summary\", \"pivot\"):\n",
    "            raise ValueError(\n",
    "                f\"format_type must be either <summary> or <pivot> but is: {format_type}\"\n",
    "            )\n",
    "        # Default date values\n",
    "        start_date = (\n",
    "            start_date\n",
    "            if start_date\n",
    "            else (datetime.today() - timedelta(days=365)).strftime(\"%Y-%m-%d\")\n",
    "        )\n",
    "        end_date = end_date if end_date else datetime.today().strftime(\"%Y-%m-%d\")\n",
    "        # Create body\n",
    "        body = self._get_body(\n",
    "            view_id, start_date, end_date, metrics, pivots_dimensions, dimensions, max_group_count=max_group_count\n",
    "        )\n",
    "        # Fetch Data\n",
    "        try:\n",
    "            response = self.parent.service.reports().batchGet(body=body).execute()\n",
    "            #print(response)\n",
    "        except Exception as error:\n",
    "            raise error()\n",
    "        # JSON to Pandas DataFrame\n",
    "        if format_type == \"summary\":\n",
    "            return self.format_summary(response)\n",
    "        return self.format_pivot(response)\n",
    "\n",
    "    def get_unique_visitors(\n",
    "        self, view_id: str, start_date: str = None, end_date: str = None\n",
    "    ) -> pd.DataFrame:\n",
    "        \"\"\"\n",
    "        Get the number of unique visitors.\n",
    "        \"\"\"\n",
    "        unique_visitors = self.get_data(\n",
    "            view_id,\n",
    "            metrics=\"ga:users\",\n",
    "            pivots_dimensions=\"ga:channelGrouping\",\n",
    "            dimensions=\"ga:yearMonth\",\n",
    "            start_date=start_date,\n",
    "            end_date=end_date,\n",
    "            format_type=\"summary\",\n",
    "        )\n",
    "        unique_visitors.reset_index(inplace=True)\n",
    "        unique_visitors.columns = [\n",
    "            ga_naming_to_title(col) for col in unique_visitors.columns\n",
    "        ]\n",
    "        return unique_visitors\n",
    "\n",
    "    def get_bounce_rate(\n",
    "        self, view_id=str, start_date: str = None, end_date: str = None\n",
    "    ) -> pd.DataFrame:\n",
    "        \"\"\"\n",
    "        Get the number of unique visitors.\n",
    "        \"\"\"\n",
    "        bounce_rate = self.get_data(\n",
    "            view_id,\n",
    "            metrics=\"ga:bounceRate\",\n",
    "            pivots_dimensions=\"ga:channelGrouping\",\n",
    "            dimensions=\"ga:yearMonth\",\n",
    "            start_date=start_date,\n",
    "            end_date=end_date,\n",
    "            format_type=\"summary\",\n",
    "        )\n",
    "        bounce_rate.reset_index(inplace=True)\n",
    "        bounce_rate.columns = [ga_naming_to_title(col) for col in bounce_rate.columns]\n",
    "        bounce_rate[\"Bounce Rate\"] /= 100\n",
    "        return bounce_rate\n",
    "\n",
    "    def get_time_landing(\n",
    "        self,\n",
    "        view_id: str,\n",
    "        landing_path: str = \"/\",\n",
    "        start_date: str = None,\n",
    "        end_date: str = None,\n",
    "    ) -> pd.DataFrame:\n",
    "        \"\"\"\n",
    "        Get the average time on landing page.\n",
    "        \"\"\"\n",
    "        avg_time_landing = self.get_data(\n",
    "            view_id,\n",
    "            metrics=\"ga:avgTimeOnPage\",\n",
    "            pivots_dimensions=\"ga:landingPagePath\",\n",
    "            dimensions=\"ga:yearMonth\",\n",
    "            start_date=start_date,\n",
    "            end_date=end_date,\n",
    "            format_type=\"pivot\",\n",
    "        )\n",
    "        if landing_path in avg_time_landing.columns:\n",
    "            avg_time_landing = avg_time_landing.loc[:, landing_path]\n",
    "        else:\n",
    "            raise KeyError(\n",
    "                f\"Landing Path ({landing_path}) is not an available url pattern.\"\n",
    "            )\n",
    "        avg_time_landing.index.rename(\"Year Month\", inplace=True)\n",
    "        avg_time_landing.rename(\n",
    "            columns={\"ga:avgTimeOnPage\": \"avg_time_landing\"}, inplace=True\n",
    "        )\n",
    "        avg_time_landing.reset_index(inplace=True)\n",
    "        return avg_time_landing\n",
    "\n",
    "    def get_pageview(\n",
    "        self, view_id: str, start_date: str = None, end_date: str = None\n",
    "    ) -> pd.DataFrame:\n",
    "        \"\"\"\n",
    "        Get the views of pages.\n",
    "        \"\"\"\n",
    "        pageview = self.get_data(\n",
    "            view_id,\n",
    "            metrics=\"ga:pageviews\",\n",
    "            pivots_dimensions=\"ga:pagePath\",\n",
    "            dimensions=\"ga:year\",\n",
    "            start_date=start_date,\n",
    "            end_date=end_date,\n",
    "            format_type=\"pivot\",\n",
    "        )\n",
    "        pageview.columns = [page[0] for page in pageview.columns]\n",
    "        pageview = pageview.head(1).T\n",
    "        pageview.reset_index(inplace=True)\n",
    "        pageview.columns = [\"Pages\", \"Pageview\"]\n",
    "        return pageview\n",
    "\n",
    "    def get_country(\n",
    "        self,\n",
    "        view_id: str,\n",
    "        metrics: str = \"ga:sessions\",\n",
    "        start_date: str = None,\n",
    "        end_date: str = None,\n",
    "    ):\n",
    "        \"\"\"\n",
    "        Get sessions per country.\n",
    "        \"\"\"\n",
    "        country = self.get_data(\n",
    "            view_id,\n",
    "            metrics=metrics,\n",
    "            pivots_dimensions=\"ga:country\",\n",
    "            dimensions=\"ga:year\",\n",
    "            start_date=start_date,\n",
    "            end_date=end_date,\n",
    "            format_type=\"pivot\",\n",
    "        )\n",
    "        country.columns = [ga_naming_to_title(c[0]) for c in country.columns]\n",
    "        country = country.T\n",
    "        country.reset_index(inplace=True)\n",
    "        country.columns = [\"Country\", ga_naming_to_title(metrics)]\n",
    "        return country\n",
    "\n",
    "    @staticmethod\n",
    "    def format_summary(response):\n",
    "        \"\"\"\n",
    "        Format summary table.\n",
    "        \"\"\"\n",
    "        row_index_names = response[\"reports\"][0][\"columnHeader\"][\"dimensions\"]\n",
    "        row_index = [\n",
    "            element[\"dimensions\"] for element in response[\"reports\"][0][\"data\"][\"rows\"]\n",
    "        ]\n",
    "        row_index_named = pd.MultiIndex.from_arrays(\n",
    "            np.transpose(np.array(row_index)), names=np.array(row_index_names)\n",
    "        )\n",
    "        # extract column names\n",
    "        summary_column_names = [\n",
    "            item[\"name\"]\n",
    "            for item in response[\"reports\"][0][\"columnHeader\"][\"metricHeader\"][\n",
    "                \"metricHeaderEntries\"\n",
    "            ]\n",
    "        ]\n",
    "        # extract table values\n",
    "        summary_values = [\n",
    "            element[\"metrics\"][0][\"values\"]\n",
    "            for element in response[\"reports\"][0][\"data\"][\"rows\"]\n",
    "        ]\n",
    "        return pd.DataFrame(\n",
    "            data=np.array(summary_values),\n",
    "            index=row_index_named,\n",
    "            columns=summary_column_names,\n",
    "        ).astype(\"float\")\n",
    "\n",
    "    @staticmethod\n",
    "    def format_pivot(response):\n",
    "        \"\"\"\n",
    "        Creates the final dataframe.\n",
    "        \"\"\"\n",
    "        # extract table values\n",
    "        pivot_values = [\n",
    "            item[\"metrics\"][0][\"pivotValueRegions\"][0][\"values\"]\n",
    "            for item in response[\"reports\"][0][\"data\"][\"rows\"]\n",
    "        ]\n",
    "        # create column index\n",
    "        top_header = [\n",
    "            item[\"dimensionValues\"]\n",
    "            for item in response[\"reports\"][0][\"columnHeader\"][\"metricHeader\"][\n",
    "                \"pivotHeaders\"\n",
    "            ][0][\"pivotHeaderEntries\"]\n",
    "        ]\n",
    "        column_metrics = [\n",
    "            item[\"metric\"][\"name\"]\n",
    "            for item in response[\"reports\"][0][\"columnHeader\"][\"metricHeader\"][\n",
    "                \"pivotHeaders\"\n",
    "            ][0][\"pivotHeaderEntries\"]\n",
    "        ]\n",
    "        array = np.concatenate(\n",
    "            (\n",
    "                np.array(top_header),\n",
    "                np.array(column_metrics).reshape((len(column_metrics), 1)),\n",
    "            ),\n",
    "            axis=1,\n",
    "        )\n",
    "        column_index = pd.MultiIndex.from_arrays(np.transpose(array))\n",
    "        # create row index\n",
    "        row_index_names = response[\"reports\"][0][\"columnHeader\"][\"dimensions\"]\n",
    "        row_index = [\n",
    "            element[\"dimensions\"] for element in response[\"reports\"][0][\"data\"][\"rows\"]\n",
    "        ]\n",
    "        row_index_named = pd.MultiIndex.from_arrays(\n",
    "            np.transpose(np.array(row_index)), names=np.array(row_index_names)\n",
    "        )\n",
    "        # combine into a dataframe\n",
    "        return pd.DataFrame(\n",
    "            data=np.array(pivot_values), index=row_index_named, columns=column_index\n",
    "        ).astype(\"float\")\n",
    "\n",
    "googleanalytics = GoogleAnalytics()"
   ]
  },
  {
   "cell_type": "markdown",
   "id": "0cc5aa89",
   "metadata": {
    "papermill": {},
    "tags": []
   },
   "source": [
    "## Model"
   ]
  },
  {
   "cell_type": "markdown",
   "id": "d08332b2",
   "metadata": {
    "papermill": {},
    "tags": []
   },
   "source": [
    "### Get trend for unique visitor by Hourly / Day / Week / Month"
   ]
  },
  {
   "cell_type": "code",
   "execution_count": null,
   "id": "461de2bd-27c7-4d88-bbb6-63c517ab0cc8",
   "metadata": {
    "tags": []
   },
   "outputs": [],
   "source": [
    "df = googleanalytics.connect(json_path=json_path).views.get_data(\n",
    "    view_id,\n",
    "    metrics=\"ga:newUsers\",\n",
    "    pivots_dimensions=\"ga:country\",\n",
    "    dimensions=\"ga:date\",\n",
    "    format_type=\"pivot\",\n",
    "    start_date=\"30daysAgo\",\n",
    "    end_date=\"yesterday\"\n",
    ")"
   ]
  },
  {
   "cell_type": "markdown",
   "id": "1f16409e",
   "metadata": {
    "execution": {
     "iopub.execute_input": "2021-07-02T23:32:10.789097Z",
     "iopub.status.busy": "2021-07-02T23:32:10.788829Z",
     "iopub.status.idle": "2021-07-02T23:32:10.796900Z",
     "shell.execute_reply": "2021-07-02T23:32:10.796358Z",
     "shell.execute_reply.started": "2021-07-02T23:32:10.789033Z"
    },
    "papermill": {},
    "tags": []
   },
   "source": [
    "## Output"
   ]
  },
  {
   "cell_type": "markdown",
   "id": "df5aee5b",
   "metadata": {
    "papermill": {},
    "tags": []
   },
   "source": [
    "### Display result"
   ]
  },
  {
   "cell_type": "code",
   "execution_count": null,
   "id": "85ea1c29",
   "metadata": {
    "papermill": {},
    "tags": []
   },
   "outputs": [],
   "source": [
    "df"
   ]
  },
  {
   "cell_type": "code",
   "execution_count": null,
   "id": "4913d04d-ef6e-48d5-8414-f017bbf52a38",
   "metadata": {},
   "outputs": [],
   "source": []
  }
 ],
 "metadata": {
  "interpreter": {
   "hash": "aee8b7b246df8f9039afb4144a1f6fd8d2ca17a180786b69acc140d282b71a49"
  },
  "kernelspec": {
   "display_name": "Python 3",
   "language": "python",
   "name": "python3"
  },
  "language_info": {
   "codemirror_mode": {
    "name": "ipython",
    "version": 3
   },
   "file_extension": ".py",
   "mimetype": "text/x-python",
   "name": "python",
   "nbconvert_exporter": "python",
   "pygments_lexer": "ipython3",
   "version": "3.9.6"
  },
  "papermill": {
   "default_parameters": {},
   "environment_variables": {},
   "parameters": {},
   "version": "2.3.3"
  },
  "widgets": {
   "application/vnd.jupyter.widget-state+json": {
    "state": {},
    "version_major": 2,
    "version_minor": 0
   }
  }
 },
 "nbformat": 4,
 "nbformat_minor": 5
}
