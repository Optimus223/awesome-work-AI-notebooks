{
 "cells": [
  {
   "cell_type": "markdown",
   "id": "fa60830c",
   "metadata": {
    "execution": {
     "iopub.execute_input": "2021-02-23T14:22:16.610471Z",
     "iopub.status.busy": "2021-02-23T14:22:16.610129Z",
     "iopub.status.idle": "2021-02-23T14:22:16.627784Z",
     "shell.execute_reply": "2021-02-23T14:22:16.626866Z",
     "shell.execute_reply.started": "2021-02-23T14:22:16.610384Z"
    },
    "papermill": {},
    "tags": []
   },
   "source": [
    "<img width=\"10%\" alt=\"Naas\" src=\"https://landen.imgix.net/jtci2pxwjczr/assets/5ice39g4.png?w=160\"/>"
   ]
  },
  {
   "cell_type": "markdown",
   "id": "faaac138",
   "metadata": {
    "papermill": {},
    "tags": []
   },
   "source": [
    "# Google Analytics - GoogleAnalytics Get unique visitors\n",
    "<a href=\"https://app.naas.ai/user-redirect/naas/downloader?url=https://raw.githubusercontent.com/jupyter-naas/awesome-notebooks/master/Google%20Analytics/GoogleAnalytics_Get_unique_visitors.ipynb\" target=\"_parent\"><img src=\"https://img.shields.io/badge/-Open%20in%20Naas-success?labelColor=000000&logo=data:image/svg+xml;base64,PD94bWwgdmVyc2lvbj0iMS4wIiBlbmNvZGluZz0iVVRGLTgiPz4KPHN2ZyB3aWR0aD0iMTAyNHB4IiBoZWlnaHQ9IjEwMjRweCIgdmlld0JveD0iMCAwIDEwMjQgMTAyNCIgeG1sbnM9Imh0dHA6Ly93d3cudzMub3JnLzIwMDAvc3ZnIiB4bWxuczp4bGluaz0iaHR0cDovL3d3dy53My5vcmcvMTk5OS94bGluayIgdmVyc2lvbj0iMS4xIj4KIDwhLS0gR2VuZXJhdGVkIGJ5IFBpeGVsbWF0b3IgUHJvIDIuMC41IC0tPgogPGRlZnM+CiAgPHRleHQgaWQ9InN0cmluZyIgdHJhbnNmb3JtPSJtYXRyaXgoMS4wIDAuMCAwLjAgMS4wIDIyOC4wIDU0LjUpIiBmb250LWZhbWlseT0iQ29tZm9ydGFhLVJlZ3VsYXIsIENvbWZvcnRhYSIgZm9udC1zaXplPSI4MDAiIHRleHQtZGVjb3JhdGlvbj0ibm9uZSIgZmlsbD0iI2ZmZmZmZiIgeD0iMS4xOTk5OTk5OTk5OTk5ODg2IiB5PSI3MDUuMCI+bjwvdGV4dD4KIDwvZGVmcz4KIDx1c2UgaWQ9Im4iIHhsaW5rOmhyZWY9IiNzdHJpbmciLz4KPC9zdmc+Cg==\"/></a>"
   ]
  },
  {
   "cell_type": "markdown",
   "id": "a478b193",
   "metadata": {
    "papermill": {},
    "tags": []
   },
   "source": [
    "**Tags:** #googleanalytics #getuniquevisitors"
   ]
  },
  {
   "cell_type": "markdown",
   "id": "9dcd78a4",
   "metadata": {
    "papermill": {},
    "tags": []
   },
   "source": [
    "Pre-requisite: Create your own <a href=\"\">Google API JSON credential</a>"
   ]
  },
  {
   "cell_type": "markdown",
   "id": "0c8e20c7",
   "metadata": {
    "papermill": {},
    "tags": []
   },
   "source": [
    "## Input"
   ]
  },
  {
   "cell_type": "markdown",
   "id": "f1c13d49",
   "metadata": {
    "papermill": {},
    "tags": []
   },
   "source": [
    "### Import library"
   ]
  },
  {
   "cell_type": "code",
   "execution_count": 1,
   "id": "e3559c11",
   "metadata": {
    "execution": {
     "iopub.execute_input": "2021-12-22T13:41:06.951356Z",
     "iopub.status.busy": "2021-12-22T13:41:06.951018Z",
     "iopub.status.idle": "2021-12-22T13:41:08.879021Z",
     "shell.execute_reply": "2021-12-22T13:41:08.878307Z",
     "shell.execute_reply.started": "2021-12-22T13:41:06.951273Z"
    },
    "papermill": {},
    "tags": []
   },
   "outputs": [],
   "source": [
    "import pandas as pd\n",
    "import plotly.graph_objects as go\n",
    "\n",
    "from naas_drivers import googleanalytics"
   ]
  },
  {
   "cell_type": "markdown",
   "id": "2dbbb845",
   "metadata": {
    "papermill": {},
    "tags": []
   },
   "source": [
    "### Get your credential from Google Cloud Platform"
   ]
  },
  {
   "cell_type": "code",
   "execution_count": 2,
   "id": "1b0d712e",
   "metadata": {
    "execution": {
     "iopub.execute_input": "2021-12-22T13:41:12.208923Z",
     "iopub.status.busy": "2021-12-22T13:41:12.208637Z",
     "iopub.status.idle": "2021-12-22T13:41:12.212023Z",
     "shell.execute_reply": "2021-12-22T13:41:12.211361Z",
     "shell.execute_reply.started": "2021-12-22T13:41:12.208896Z"
    },
    "papermill": {},
    "tags": []
   },
   "outputs": [],
   "source": [
    "json_path = '/Users/charlesdemontigny/Desktop/naas-335023-90c733ba64dd.json'"
   ]
  },
  {
   "cell_type": "markdown",
   "id": "1c8e4e9a",
   "metadata": {
    "papermill": {},
    "tags": []
   },
   "source": [
    "### Get view id from google analytics"
   ]
  },
  {
   "cell_type": "code",
   "execution_count": 3,
   "id": "2aa16b7c",
   "metadata": {
    "execution": {
     "iopub.execute_input": "2021-12-22T13:41:13.047098Z",
     "iopub.status.busy": "2021-12-22T13:41:13.046515Z",
     "iopub.status.idle": "2021-12-22T13:41:13.049846Z",
     "shell.execute_reply": "2021-12-22T13:41:13.049242Z",
     "shell.execute_reply.started": "2021-12-22T13:41:13.047061Z"
    },
    "papermill": {},
    "tags": []
   },
   "outputs": [],
   "source": [
    "view_id = \"236707574\""
   ]
  },
  {
   "cell_type": "markdown",
   "id": "0583719b",
   "metadata": {
    "papermill": {},
    "tags": []
   },
   "source": [
    "## Model"
   ]
  },
  {
   "cell_type": "markdown",
   "id": "565d1a4c",
   "metadata": {
    "papermill": {},
    "tags": []
   },
   "source": [
    "### Report Website - Google Analytics performance"
   ]
  },
  {
   "cell_type": "code",
   "execution_count": 4,
   "id": "01078415",
   "metadata": {
    "papermill": {},
    "tags": []
   },
   "outputs": [],
   "source": [
    "googleanalytics.connect(json_path=json_path)"
   ]
  },
  {
   "cell_type": "markdown",
   "id": "6d9cd9fd",
   "metadata": {
    "papermill": {},
    "tags": []
   },
   "source": [
    "### Number of uniques visitors"
   ]
  },
  {
   "cell_type": "code",
   "execution_count": 5,
   "id": "7069e092",
   "metadata": {
    "papermill": {},
    "tags": []
   },
   "outputs": [],
   "source": [
    "unique_visitors = googleanalytics.views.get_unique_visitors(view_id)"
   ]
  },
  {
   "cell_type": "markdown",
   "id": "cf9ffe1e",
   "metadata": {
    "execution": {
     "iopub.execute_input": "2021-07-02T23:32:10.789097Z",
     "iopub.status.busy": "2021-07-02T23:32:10.788829Z",
     "iopub.status.idle": "2021-07-02T23:32:10.796900Z",
     "shell.execute_reply": "2021-07-02T23:32:10.796358Z",
     "shell.execute_reply.started": "2021-07-02T23:32:10.789033Z"
    },
    "papermill": {},
    "tags": []
   },
   "source": [
    "## Output"
   ]
  },
  {
   "cell_type": "markdown",
   "id": "14d0a9f0",
   "metadata": {
    "papermill": {},
    "tags": []
   },
   "source": [
    "### Display result"
   ]
  },
  {
   "cell_type": "code",
   "execution_count": 6,
   "id": "da204121",
   "metadata": {
    "papermill": {},
    "tags": []
   },
   "outputs": [],
   "source": [
    "unique_visitors.tail()"
   ]
  },
  {
   "cell_type": "code",
   "execution_count": 7,
   "id": "a50b31ca",
   "metadata": {
    "papermill": {},
    "tags": []
   },
   "outputs": [],
   "source": [
    "def plot_unique_visitors(unique_visitors: pd.DataFrame):\n",
    "    \"\"\"\n",
    "    Plot PageView in Plotly.\n",
    "    \"\"\"\n",
    "    data = go.Bar(x=pd.to_datetime(unique_visitors['Year Month'] + \"01\"),\n",
    "                  y=unique_visitors['Users'],\n",
    "                  text=unique_visitors['Users'],\n",
    "                  orientation=\"v\")\n",
    "    layout = go.Layout(template=\"none\", title=\"Number of Unique Visitors by Month\")\n",
    "    fig = go.Figure(data=data, layout=layout)\n",
    "    fig.update_layout(yaxis={'categoryorder':'total ascending'},\n",
    "                      margin={\"l\":150, \"pad\": 20})\n",
    "    fig.update_traces(textposition=\"outside\")\n",
    "    return fig"
   ]
  },
  {
   "cell_type": "code",
   "execution_count": 8,
   "id": "d53503a9",
   "metadata": {
    "papermill": {},
    "tags": []
   },
   "outputs": [],
   "source": [
    "plot_unique_visitors(unique_visitors)"
   ]
  },
  {
   "cell_type": "code",
   "execution_count": null,
   "id": "b0f73de2",
   "metadata": {
    "papermill": {},
    "tags": []
   },
   "outputs": [],
   "source": []
  }
 ],
 "metadata": {
  "interpreter": {
   "hash": "aee8b7b246df8f9039afb4144a1f6fd8d2ca17a180786b69acc140d282b71a49"
  },
  "kernelspec": {
   "display_name": "Python 3",
   "language": "python",
   "name": "python3"
  },
  "language_info": {
   "codemirror_mode": {
    "name": "ipython",
    "version": 3
   },
   "file_extension": ".py",
   "mimetype": "text/x-python",
   "name": "python",
   "nbconvert_exporter": "python",
   "pygments_lexer": "ipython3",
   "version": "3.8.8"
  },
  "papermill": {
   "default_parameters": {},
   "environment_variables": {},
   "parameters": {},
   "version": "2.3.3"
  },
  "widgets": {
   "application/vnd.jupyter.widget-state+json": {
    "state": {},
    "version_major": 2,
    "version_minor": 0
   }
  }
 },
 "nbformat": 4,
 "nbformat_minor": 5
}