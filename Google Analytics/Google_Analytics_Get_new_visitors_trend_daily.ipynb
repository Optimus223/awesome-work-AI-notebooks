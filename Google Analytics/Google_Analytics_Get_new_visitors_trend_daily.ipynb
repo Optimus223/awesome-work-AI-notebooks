{
 "cells": [
  {
   "cell_type": "markdown",
   "id": "4674b02f",
   "metadata": {
    "execution": {
     "iopub.execute_input": "2021-02-23T14:22:16.610471Z",
     "iopub.status.busy": "2021-02-23T14:22:16.610129Z",
     "iopub.status.idle": "2021-02-23T14:22:16.627784Z",
     "shell.execute_reply": "2021-02-23T14:22:16.626866Z",
     "shell.execute_reply.started": "2021-02-23T14:22:16.610384Z"
    },
    "papermill": {},
    "tags": []
   },
   "source": [
    "<img width=\"10%\" alt=\"Naas\" src=\"https://landen.imgix.net/jtci2pxwjczr/assets/5ice39g4.png?w=160\"/>"
   ]
  },
  {
   "cell_type": "markdown",
   "id": "b7a36ee3",
   "metadata": {
    "papermill": {},
    "tags": []
   },
   "source": [
    "# Google Analytics - Get unique visitors by day\n",
    "<a href=\"https://app.naas.ai/user-redirect/naas/downloader?url=https://raw.githubusercontent.com/jupyter-naas/awesome-notebooks/master/Google%20Analytics/GoogleAnalytics_Get_stats_per_country.ipynb\" target=\"_parent\"><img src=\"https://naasai-public.s3.eu-west-3.amazonaws.com/open_in_naas.svg\"/></a>"
   ]
  },
  {
   "cell_type": "markdown",
   "id": "19875963",
   "metadata": {
    "papermill": {},
    "tags": []
   },
   "source": [
    "**Tags:** #googleanalytics #statspercountry #analytics"
   ]
  },
  {
   "cell_type": "markdown",
   "id": "29814b06-df6a-4be0-9b98-a9a523e2f98b",
   "metadata": {
    "papermill": {},
    "tags": []
   },
   "source": [
    "**Author:** [Florent Ravenel](https://www.linkedin.com/in/ACoAABCNSioBW3YZHc2lBHVG0E_TXYWitQkmwog/)"
   ]
  },
  {
   "cell_type": "markdown",
   "id": "55f800df",
   "metadata": {
    "papermill": {},
    "tags": []
   },
   "source": [
    "## Input"
   ]
  },
  {
   "cell_type": "markdown",
   "id": "3f24ee2c",
   "metadata": {
    "papermill": {},
    "tags": []
   },
   "source": [
    "### Import library"
   ]
  },
  {
   "cell_type": "code",
   "execution_count": 1,
   "id": "b2586bcc",
   "metadata": {
    "execution": {
     "iopub.execute_input": "2022-03-10T11:51:35.741167Z",
     "iopub.status.busy": "2022-03-10T11:51:35.740812Z",
     "iopub.status.idle": "2022-03-10T11:51:37.499260Z",
     "shell.execute_reply": "2022-03-10T11:51:37.498544Z",
     "shell.execute_reply.started": "2022-03-10T11:51:35.741093Z"
    },
    "papermill": {},
    "tags": []
   },
   "outputs": [],
   "source": [
    "import plotly.graph_objects as go\n",
    "import naas\n",
    "import datetime"
   ]
  },
  {
   "cell_type": "code",
   "execution_count": 4,
   "id": "2967dca6-1c43-42a3-ab83-86e8df9c35b2",
   "metadata": {
    "execution": {
     "iopub.execute_input": "2022-03-10T11:55:03.614185Z",
     "iopub.status.busy": "2022-03-10T11:55:03.613940Z",
     "iopub.status.idle": "2022-03-10T11:55:03.671560Z",
     "shell.execute_reply": "2022-03-10T11:55:03.670706Z",
     "shell.execute_reply.started": "2022-03-10T11:55:03.614152Z"
    },
    "tags": []
   },
   "outputs": [],
   "source": [
    "# Using a dropin driver in a cell for now. (Faster iterations)\n",
    "%run Google_Analytics_driver.ipynb"
   ]
  },
  {
   "cell_type": "markdown",
   "id": "8f103e30",
   "metadata": {
    "papermill": {},
    "tags": []
   },
   "source": [
    "### Setup your Google Analytics"
   ]
  },
  {
   "cell_type": "markdown",
   "id": "7e6ef3e1",
   "metadata": {
    "papermill": {},
    "tags": []
   },
   "source": [
    "👉 Create your own <a href=\"\">Google API JSON credential</a>"
   ]
  },
  {
   "cell_type": "code",
   "execution_count": 4,
   "id": "04c24e42",
   "metadata": {
    "execution": {
     "iopub.execute_input": "2022-03-10T12:52:38.762347Z",
     "iopub.status.busy": "2022-03-10T12:52:38.762088Z",
     "iopub.status.idle": "2022-03-10T12:52:38.767033Z",
     "shell.execute_reply": "2022-03-10T12:52:38.766519Z",
     "shell.execute_reply.started": "2022-03-10T12:52:38.762318Z"
    },
    "papermill": {},
    "tags": []
   },
   "outputs": [],
   "source": [
    "# Get your credential from Google Cloud Platform\n",
    "json_path = 'naas-googleanalytics.json'\n",
    "\n",
    "# Get view id from google analytics\n",
    "view_id = \"228952707\"\n",
    "\n",
    "# Setup your data parameters\n",
    "metrics = \"ga:newUsers\"\n",
    "dimensions = \"ga:year,ga:week\"\n",
    "start_date = \"30daysAgo\"\n",
    "end_date = \"today\""
   ]
  },
  {
   "cell_type": "markdown",
   "id": "cd3830c6-1c09-4b7a-95bf-a8d9159759ff",
   "metadata": {},
   "source": [
    "### Variables"
   ]
  },
  {
   "cell_type": "code",
   "execution_count": 5,
   "id": "092e3e2e-194a-497e-b824-94077a33da83",
   "metadata": {
    "execution": {
     "iopub.execute_input": "2022-03-10T12:52:39.154001Z",
     "iopub.status.busy": "2022-03-10T12:52:39.153745Z",
     "iopub.status.idle": "2022-03-10T12:52:39.159907Z",
     "shell.execute_reply": "2022-03-10T12:52:39.159165Z",
     "shell.execute_reply.started": "2022-03-10T12:52:39.153978Z"
    },
    "tags": []
   },
   "outputs": [],
   "source": [
    "# Chart title\n",
    "title = \"New visitors\"\n",
    "\n",
    "# Outputs path\n",
    "name_output = \"Googleanalytics_newusers_daily\"\n",
    "csv_output = f\"{name_output}.csv\"\n",
    "image_output = f\"{name_output}.png\"\n",
    "html_output = f\"{name_output}.html\""
   ]
  },
  {
   "cell_type": "code",
   "execution_count": 11,
   "id": "bc29643c-02b1-452c-9dfc-d3d6df87f220",
   "metadata": {
    "execution": {
     "iopub.execute_input": "2022-03-10T12:53:58.343640Z",
     "iopub.status.busy": "2022-03-10T12:53:58.343390Z",
     "iopub.status.idle": "2022-03-10T12:53:58.347830Z",
     "shell.execute_reply": "2022-03-10T12:53:58.347222Z",
     "shell.execute_reply.started": "2022-03-10T12:53:58.343604Z"
    },
    "tags": []
   },
   "outputs": [
    {
     "data": {
      "text/plain": [
       "'toto'"
      ]
     },
     "execution_count": 11,
     "metadata": {},
     "output_type": "execute_result"
    }
   ],
   "source": []
  },
  {
   "cell_type": "markdown",
   "id": "3729685f-abab-4f5e-919f-3b07ce841f1c",
   "metadata": {},
   "source": [
    "## Model"
   ]
  },
  {
   "cell_type": "markdown",
   "id": "d08332b2",
   "metadata": {
    "papermill": {},
    "tags": []
   },
   "source": [
    "### Get trend"
   ]
  },
  {
   "cell_type": "code",
   "execution_count": 24,
   "id": "461de2bd-27c7-4d88-bbb6-63c517ab0cc8",
   "metadata": {
    "execution": {
     "iopub.execute_input": "2022-03-10T13:00:21.189545Z",
     "iopub.status.busy": "2022-03-10T13:00:21.189323Z",
     "iopub.status.idle": "2022-03-10T13:00:23.329292Z",
     "shell.execute_reply": "2022-03-10T13:00:23.328503Z",
     "shell.execute_reply.started": "2022-03-10T13:00:21.189522Z"
    },
    "tags": []
   },
   "outputs": [
    {
     "name": "stdout",
     "output_type": "stream",
     "text": [
      "ga:newUsers\n"
     ]
    },
    {
     "data": {
      "text/html": [
       "<div>\n",
       "<style scoped>\n",
       "    .dataframe tbody tr th:only-of-type {\n",
       "        vertical-align: middle;\n",
       "    }\n",
       "\n",
       "    .dataframe tbody tr th {\n",
       "        vertical-align: top;\n",
       "    }\n",
       "\n",
       "    .dataframe thead th {\n",
       "        text-align: right;\n",
       "    }\n",
       "</style>\n",
       "<table border=\"1\" class=\"dataframe\">\n",
       "  <thead>\n",
       "    <tr style=\"text-align: right;\">\n",
       "      <th></th>\n",
       "      <th>DATE</th>\n",
       "      <th>METRIC</th>\n",
       "      <th>VALUE</th>\n",
       "      <th>VALUE_COMP</th>\n",
       "      <th>VARV</th>\n",
       "      <th>VARP</th>\n",
       "    </tr>\n",
       "  </thead>\n",
       "  <tbody>\n",
       "    <tr>\n",
       "      <th>0</th>\n",
       "      <td>2021-03-10 03:00:00</td>\n",
       "      <td>newUsers</td>\n",
       "      <td>1.0</td>\n",
       "      <td>0.0</td>\n",
       "      <td>1.0</td>\n",
       "      <td>inf</td>\n",
       "    </tr>\n",
       "    <tr>\n",
       "      <th>1</th>\n",
       "      <td>2021-03-10 04:00:00</td>\n",
       "      <td>newUsers</td>\n",
       "      <td>1.0</td>\n",
       "      <td>1.0</td>\n",
       "      <td>0.0</td>\n",
       "      <td>0.000000</td>\n",
       "    </tr>\n",
       "    <tr>\n",
       "      <th>2</th>\n",
       "      <td>2021-03-10 06:00:00</td>\n",
       "      <td>newUsers</td>\n",
       "      <td>1.0</td>\n",
       "      <td>1.0</td>\n",
       "      <td>0.0</td>\n",
       "      <td>0.000000</td>\n",
       "    </tr>\n",
       "    <tr>\n",
       "      <th>3</th>\n",
       "      <td>2021-03-10 09:00:00</td>\n",
       "      <td>newUsers</td>\n",
       "      <td>17.0</td>\n",
       "      <td>1.0</td>\n",
       "      <td>16.0</td>\n",
       "      <td>16.000000</td>\n",
       "    </tr>\n",
       "    <tr>\n",
       "      <th>4</th>\n",
       "      <td>2021-03-10 10:00:00</td>\n",
       "      <td>newUsers</td>\n",
       "      <td>23.0</td>\n",
       "      <td>17.0</td>\n",
       "      <td>6.0</td>\n",
       "      <td>0.352941</td>\n",
       "    </tr>\n",
       "    <tr>\n",
       "      <th>...</th>\n",
       "      <td>...</td>\n",
       "      <td>...</td>\n",
       "      <td>...</td>\n",
       "      <td>...</td>\n",
       "      <td>...</td>\n",
       "      <td>...</td>\n",
       "    </tr>\n",
       "    <tr>\n",
       "      <th>995</th>\n",
       "      <td>2021-05-22 11:00:00</td>\n",
       "      <td>newUsers</td>\n",
       "      <td>2.0</td>\n",
       "      <td>2.0</td>\n",
       "      <td>0.0</td>\n",
       "      <td>0.000000</td>\n",
       "    </tr>\n",
       "    <tr>\n",
       "      <th>996</th>\n",
       "      <td>2021-05-22 12:00:00</td>\n",
       "      <td>newUsers</td>\n",
       "      <td>1.0</td>\n",
       "      <td>2.0</td>\n",
       "      <td>-1.0</td>\n",
       "      <td>-0.500000</td>\n",
       "    </tr>\n",
       "    <tr>\n",
       "      <th>997</th>\n",
       "      <td>2021-05-22 13:00:00</td>\n",
       "      <td>newUsers</td>\n",
       "      <td>1.0</td>\n",
       "      <td>1.0</td>\n",
       "      <td>0.0</td>\n",
       "      <td>0.000000</td>\n",
       "    </tr>\n",
       "    <tr>\n",
       "      <th>998</th>\n",
       "      <td>2021-05-22 15:00:00</td>\n",
       "      <td>newUsers</td>\n",
       "      <td>1.0</td>\n",
       "      <td>1.0</td>\n",
       "      <td>0.0</td>\n",
       "      <td>0.000000</td>\n",
       "    </tr>\n",
       "    <tr>\n",
       "      <th>999</th>\n",
       "      <td>2021-05-22 16:00:00</td>\n",
       "      <td>newUsers</td>\n",
       "      <td>2.0</td>\n",
       "      <td>1.0</td>\n",
       "      <td>1.0</td>\n",
       "      <td>1.000000</td>\n",
       "    </tr>\n",
       "  </tbody>\n",
       "</table>\n",
       "<p>1000 rows × 6 columns</p>\n",
       "</div>"
      ],
      "text/plain": [
       "                   DATE    METRIC  VALUE  VALUE_COMP  VARV       VARP\n",
       "0   2021-03-10 03:00:00  newUsers    1.0         0.0   1.0        inf\n",
       "1   2021-03-10 04:00:00  newUsers    1.0         1.0   0.0   0.000000\n",
       "2   2021-03-10 06:00:00  newUsers    1.0         1.0   0.0   0.000000\n",
       "3   2021-03-10 09:00:00  newUsers   17.0         1.0  16.0  16.000000\n",
       "4   2021-03-10 10:00:00  newUsers   23.0        17.0   6.0   0.352941\n",
       "..                  ...       ...    ...         ...   ...        ...\n",
       "995 2021-05-22 11:00:00  newUsers    2.0         2.0   0.0   0.000000\n",
       "996 2021-05-22 12:00:00  newUsers    1.0         2.0  -1.0  -0.500000\n",
       "997 2021-05-22 13:00:00  newUsers    1.0         1.0   0.0   0.000000\n",
       "998 2021-05-22 15:00:00  newUsers    1.0         1.0   0.0   0.000000\n",
       "999 2021-05-22 16:00:00  newUsers    2.0         1.0   1.0   1.000000\n",
       "\n",
       "[1000 rows x 6 columns]"
      ]
     },
     "execution_count": 24,
     "metadata": {},
     "output_type": "execute_result"
    }
   ],
   "source": [
    "%run Google_Analytics_driver.ipynb\n",
    "googleanalytics.connect(json_path, view_id).new_users.get_trend('hourly')\n",
    "#df = get_trend(metrics,\n",
    "#               dimensions,\n",
    "#               start_date,\n",
    "#               end_date)\n",
    "#df"
   ]
  },
  {
   "cell_type": "markdown",
   "id": "df5aee5b",
   "metadata": {
    "papermill": {},
    "tags": []
   },
   "source": [
    "### Plotting linechart"
   ]
  },
  {
   "cell_type": "code",
   "execution_count": 97,
   "id": "bdd79b47-c8bb-467a-812d-f6d0a6c85a9d",
   "metadata": {
    "execution": {
     "iopub.execute_input": "2022-03-08T18:29:07.194663Z",
     "iopub.status.busy": "2022-03-08T18:29:07.194397Z",
     "iopub.status.idle": "2022-03-08T18:29:07.225906Z",
     "shell.execute_reply": "2022-03-08T18:29:07.225102Z",
     "shell.execute_reply.started": "2022-03-08T18:29:07.194635Z"
    },
    "tags": []
   },
   "outputs": [
    {
     "data": {
      "application/vnd.plotly.v1+json": {
       "config": {
        "plotlyServerURL": "https://plot.ly"
       },
       "data": [
        {
         "hoverinfo": "text",
         "mode": "lines+markers",
         "stackgroup": "one",
         "text": [
          "<b>New visitors as of 2022-02-14 : 1 079</b><br><span style='font-size: 13px;'>+inf% vs last value (+1 079)</span>",
          "<b>New visitors as of 2022-02-21 : 504</b><br><span style='font-size: 13px;'>-53% vs last value (-575)</span>",
          "<b>New visitors as of 2022-02-28 : 317</b><br><span style='font-size: 13px;'>-37% vs last value (-187)</span>",
          "<b>New visitors as of 2022-03-07 : 298</b><br><span style='font-size: 13px;'>-6% vs last value (-19)</span>",
          "<b>New visitors as of 2022-03-14 : 110</b><br><span style='font-size: 13px;'>-63% vs last value (-188)</span>"
         ],
         "type": "scatter",
         "x": [
          "2022-02-14T00:00:00",
          "2022-02-21T00:00:00",
          "2022-02-28T00:00:00",
          "2022-03-07T00:00:00",
          "2022-03-14T00:00:00"
         ],
         "y": [
          1079,
          504,
          317,
          298,
          110
         ]
        }
       ],
       "layout": {
        "height": 800,
        "margin": {
         "pad": 10
        },
        "plot_bgcolor": "#ffffff",
        "template": {
         "data": {
          "bar": [
           {
            "error_x": {
             "color": "#2a3f5f"
            },
            "error_y": {
             "color": "#2a3f5f"
            },
            "marker": {
             "line": {
              "color": "#E5ECF6",
              "width": 0.5
             }
            },
            "type": "bar"
           }
          ],
          "barpolar": [
           {
            "marker": {
             "line": {
              "color": "#E5ECF6",
              "width": 0.5
             }
            },
            "type": "barpolar"
           }
          ],
          "carpet": [
           {
            "aaxis": {
             "endlinecolor": "#2a3f5f",
             "gridcolor": "white",
             "linecolor": "white",
             "minorgridcolor": "white",
             "startlinecolor": "#2a3f5f"
            },
            "baxis": {
             "endlinecolor": "#2a3f5f",
             "gridcolor": "white",
             "linecolor": "white",
             "minorgridcolor": "white",
             "startlinecolor": "#2a3f5f"
            },
            "type": "carpet"
           }
          ],
          "choropleth": [
           {
            "colorbar": {
             "outlinewidth": 0,
             "ticks": ""
            },
            "type": "choropleth"
           }
          ],
          "contour": [
           {
            "colorbar": {
             "outlinewidth": 0,
             "ticks": ""
            },
            "colorscale": [
             [
              0,
              "#0d0887"
             ],
             [
              0.1111111111111111,
              "#46039f"
             ],
             [
              0.2222222222222222,
              "#7201a8"
             ],
             [
              0.3333333333333333,
              "#9c179e"
             ],
             [
              0.4444444444444444,
              "#bd3786"
             ],
             [
              0.5555555555555556,
              "#d8576b"
             ],
             [
              0.6666666666666666,
              "#ed7953"
             ],
             [
              0.7777777777777778,
              "#fb9f3a"
             ],
             [
              0.8888888888888888,
              "#fdca26"
             ],
             [
              1,
              "#f0f921"
             ]
            ],
            "type": "contour"
           }
          ],
          "contourcarpet": [
           {
            "colorbar": {
             "outlinewidth": 0,
             "ticks": ""
            },
            "type": "contourcarpet"
           }
          ],
          "heatmap": [
           {
            "colorbar": {
             "outlinewidth": 0,
             "ticks": ""
            },
            "colorscale": [
             [
              0,
              "#0d0887"
             ],
             [
              0.1111111111111111,
              "#46039f"
             ],
             [
              0.2222222222222222,
              "#7201a8"
             ],
             [
              0.3333333333333333,
              "#9c179e"
             ],
             [
              0.4444444444444444,
              "#bd3786"
             ],
             [
              0.5555555555555556,
              "#d8576b"
             ],
             [
              0.6666666666666666,
              "#ed7953"
             ],
             [
              0.7777777777777778,
              "#fb9f3a"
             ],
             [
              0.8888888888888888,
              "#fdca26"
             ],
             [
              1,
              "#f0f921"
             ]
            ],
            "type": "heatmap"
           }
          ],
          "heatmapgl": [
           {
            "colorbar": {
             "outlinewidth": 0,
             "ticks": ""
            },
            "colorscale": [
             [
              0,
              "#0d0887"
             ],
             [
              0.1111111111111111,
              "#46039f"
             ],
             [
              0.2222222222222222,
              "#7201a8"
             ],
             [
              0.3333333333333333,
              "#9c179e"
             ],
             [
              0.4444444444444444,
              "#bd3786"
             ],
             [
              0.5555555555555556,
              "#d8576b"
             ],
             [
              0.6666666666666666,
              "#ed7953"
             ],
             [
              0.7777777777777778,
              "#fb9f3a"
             ],
             [
              0.8888888888888888,
              "#fdca26"
             ],
             [
              1,
              "#f0f921"
             ]
            ],
            "type": "heatmapgl"
           }
          ],
          "histogram": [
           {
            "marker": {
             "colorbar": {
              "outlinewidth": 0,
              "ticks": ""
             }
            },
            "type": "histogram"
           }
          ],
          "histogram2d": [
           {
            "colorbar": {
             "outlinewidth": 0,
             "ticks": ""
            },
            "colorscale": [
             [
              0,
              "#0d0887"
             ],
             [
              0.1111111111111111,
              "#46039f"
             ],
             [
              0.2222222222222222,
              "#7201a8"
             ],
             [
              0.3333333333333333,
              "#9c179e"
             ],
             [
              0.4444444444444444,
              "#bd3786"
             ],
             [
              0.5555555555555556,
              "#d8576b"
             ],
             [
              0.6666666666666666,
              "#ed7953"
             ],
             [
              0.7777777777777778,
              "#fb9f3a"
             ],
             [
              0.8888888888888888,
              "#fdca26"
             ],
             [
              1,
              "#f0f921"
             ]
            ],
            "type": "histogram2d"
           }
          ],
          "histogram2dcontour": [
           {
            "colorbar": {
             "outlinewidth": 0,
             "ticks": ""
            },
            "colorscale": [
             [
              0,
              "#0d0887"
             ],
             [
              0.1111111111111111,
              "#46039f"
             ],
             [
              0.2222222222222222,
              "#7201a8"
             ],
             [
              0.3333333333333333,
              "#9c179e"
             ],
             [
              0.4444444444444444,
              "#bd3786"
             ],
             [
              0.5555555555555556,
              "#d8576b"
             ],
             [
              0.6666666666666666,
              "#ed7953"
             ],
             [
              0.7777777777777778,
              "#fb9f3a"
             ],
             [
              0.8888888888888888,
              "#fdca26"
             ],
             [
              1,
              "#f0f921"
             ]
            ],
            "type": "histogram2dcontour"
           }
          ],
          "mesh3d": [
           {
            "colorbar": {
             "outlinewidth": 0,
             "ticks": ""
            },
            "type": "mesh3d"
           }
          ],
          "parcoords": [
           {
            "line": {
             "colorbar": {
              "outlinewidth": 0,
              "ticks": ""
             }
            },
            "type": "parcoords"
           }
          ],
          "pie": [
           {
            "automargin": true,
            "type": "pie"
           }
          ],
          "scatter": [
           {
            "marker": {
             "colorbar": {
              "outlinewidth": 0,
              "ticks": ""
             }
            },
            "type": "scatter"
           }
          ],
          "scatter3d": [
           {
            "line": {
             "colorbar": {
              "outlinewidth": 0,
              "ticks": ""
             }
            },
            "marker": {
             "colorbar": {
              "outlinewidth": 0,
              "ticks": ""
             }
            },
            "type": "scatter3d"
           }
          ],
          "scattercarpet": [
           {
            "marker": {
             "colorbar": {
              "outlinewidth": 0,
              "ticks": ""
             }
            },
            "type": "scattercarpet"
           }
          ],
          "scattergeo": [
           {
            "marker": {
             "colorbar": {
              "outlinewidth": 0,
              "ticks": ""
             }
            },
            "type": "scattergeo"
           }
          ],
          "scattergl": [
           {
            "marker": {
             "colorbar": {
              "outlinewidth": 0,
              "ticks": ""
             }
            },
            "type": "scattergl"
           }
          ],
          "scattermapbox": [
           {
            "marker": {
             "colorbar": {
              "outlinewidth": 0,
              "ticks": ""
             }
            },
            "type": "scattermapbox"
           }
          ],
          "scatterpolar": [
           {
            "marker": {
             "colorbar": {
              "outlinewidth": 0,
              "ticks": ""
             }
            },
            "type": "scatterpolar"
           }
          ],
          "scatterpolargl": [
           {
            "marker": {
             "colorbar": {
              "outlinewidth": 0,
              "ticks": ""
             }
            },
            "type": "scatterpolargl"
           }
          ],
          "scatterternary": [
           {
            "marker": {
             "colorbar": {
              "outlinewidth": 0,
              "ticks": ""
             }
            },
            "type": "scatterternary"
           }
          ],
          "surface": [
           {
            "colorbar": {
             "outlinewidth": 0,
             "ticks": ""
            },
            "colorscale": [
             [
              0,
              "#0d0887"
             ],
             [
              0.1111111111111111,
              "#46039f"
             ],
             [
              0.2222222222222222,
              "#7201a8"
             ],
             [
              0.3333333333333333,
              "#9c179e"
             ],
             [
              0.4444444444444444,
              "#bd3786"
             ],
             [
              0.5555555555555556,
              "#d8576b"
             ],
             [
              0.6666666666666666,
              "#ed7953"
             ],
             [
              0.7777777777777778,
              "#fb9f3a"
             ],
             [
              0.8888888888888888,
              "#fdca26"
             ],
             [
              1,
              "#f0f921"
             ]
            ],
            "type": "surface"
           }
          ],
          "table": [
           {
            "cells": {
             "fill": {
              "color": "#EBF0F8"
             },
             "line": {
              "color": "white"
             }
            },
            "header": {
             "fill": {
              "color": "#C8D4E3"
             },
             "line": {
              "color": "white"
             }
            },
            "type": "table"
           }
          ]
         },
         "layout": {
          "annotationdefaults": {
           "arrowcolor": "#2a3f5f",
           "arrowhead": 0,
           "arrowwidth": 1
          },
          "autotypenumbers": "strict",
          "coloraxis": {
           "colorbar": {
            "outlinewidth": 0,
            "ticks": ""
           }
          },
          "colorscale": {
           "diverging": [
            [
             0,
             "#8e0152"
            ],
            [
             0.1,
             "#c51b7d"
            ],
            [
             0.2,
             "#de77ae"
            ],
            [
             0.3,
             "#f1b6da"
            ],
            [
             0.4,
             "#fde0ef"
            ],
            [
             0.5,
             "#f7f7f7"
            ],
            [
             0.6,
             "#e6f5d0"
            ],
            [
             0.7,
             "#b8e186"
            ],
            [
             0.8,
             "#7fbc41"
            ],
            [
             0.9,
             "#4d9221"
            ],
            [
             1,
             "#276419"
            ]
           ],
           "sequential": [
            [
             0,
             "#0d0887"
            ],
            [
             0.1111111111111111,
             "#46039f"
            ],
            [
             0.2222222222222222,
             "#7201a8"
            ],
            [
             0.3333333333333333,
             "#9c179e"
            ],
            [
             0.4444444444444444,
             "#bd3786"
            ],
            [
             0.5555555555555556,
             "#d8576b"
            ],
            [
             0.6666666666666666,
             "#ed7953"
            ],
            [
             0.7777777777777778,
             "#fb9f3a"
            ],
            [
             0.8888888888888888,
             "#fdca26"
            ],
            [
             1,
             "#f0f921"
            ]
           ],
           "sequentialminus": [
            [
             0,
             "#0d0887"
            ],
            [
             0.1111111111111111,
             "#46039f"
            ],
            [
             0.2222222222222222,
             "#7201a8"
            ],
            [
             0.3333333333333333,
             "#9c179e"
            ],
            [
             0.4444444444444444,
             "#bd3786"
            ],
            [
             0.5555555555555556,
             "#d8576b"
            ],
            [
             0.6666666666666666,
             "#ed7953"
            ],
            [
             0.7777777777777778,
             "#fb9f3a"
            ],
            [
             0.8888888888888888,
             "#fdca26"
            ],
            [
             1,
             "#f0f921"
            ]
           ]
          },
          "colorway": [
           "#636efa",
           "#EF553B",
           "#00cc96",
           "#ab63fa",
           "#FFA15A",
           "#19d3f3",
           "#FF6692",
           "#B6E880",
           "#FF97FF",
           "#FECB52"
          ],
          "font": {
           "color": "#2a3f5f"
          },
          "geo": {
           "bgcolor": "white",
           "lakecolor": "white",
           "landcolor": "#E5ECF6",
           "showlakes": true,
           "showland": true,
           "subunitcolor": "white"
          },
          "hoverlabel": {
           "align": "left"
          },
          "hovermode": "closest",
          "mapbox": {
           "style": "light"
          },
          "paper_bgcolor": "white",
          "plot_bgcolor": "#E5ECF6",
          "polar": {
           "angularaxis": {
            "gridcolor": "white",
            "linecolor": "white",
            "ticks": ""
           },
           "bgcolor": "#E5ECF6",
           "radialaxis": {
            "gridcolor": "white",
            "linecolor": "white",
            "ticks": ""
           }
          },
          "scene": {
           "xaxis": {
            "backgroundcolor": "#E5ECF6",
            "gridcolor": "white",
            "gridwidth": 2,
            "linecolor": "white",
            "showbackground": true,
            "ticks": "",
            "zerolinecolor": "white"
           },
           "yaxis": {
            "backgroundcolor": "#E5ECF6",
            "gridcolor": "white",
            "gridwidth": 2,
            "linecolor": "white",
            "showbackground": true,
            "ticks": "",
            "zerolinecolor": "white"
           },
           "zaxis": {
            "backgroundcolor": "#E5ECF6",
            "gridcolor": "white",
            "gridwidth": 2,
            "linecolor": "white",
            "showbackground": true,
            "ticks": "",
            "zerolinecolor": "white"
           }
          },
          "shapedefaults": {
           "line": {
            "color": "#2a3f5f"
           }
          },
          "ternary": {
           "aaxis": {
            "gridcolor": "white",
            "linecolor": "white",
            "ticks": ""
           },
           "baxis": {
            "gridcolor": "white",
            "linecolor": "white",
            "ticks": ""
           },
           "bgcolor": "#E5ECF6",
           "caxis": {
            "gridcolor": "white",
            "linecolor": "white",
            "ticks": ""
           }
          },
          "title": {
           "x": 0.05
          },
          "xaxis": {
           "automargin": true,
           "gridcolor": "white",
           "linecolor": "white",
           "ticks": "",
           "title": {
            "standoff": 15
           },
           "zerolinecolor": "white",
           "zerolinewidth": 2
          },
          "yaxis": {
           "automargin": true,
           "gridcolor": "white",
           "linecolor": "white",
           "ticks": "",
           "title": {
            "standoff": 15
           },
           "zerolinecolor": "white",
           "zerolinewidth": 2
          }
         }
        },
        "title": {
         "font": {
          "color": "black",
          "family": "Arial",
          "size": 18
         },
         "text": "<b>New visitors as of 2022-03-14 : 110</b><br><span style='font-size: 13px;'>-63% vs last value (-188)</span>"
        },
        "width": 1200,
        "xaxis": {
         "autorange": true,
         "range": [
          "2022-02-14",
          "2022-03-14"
         ],
         "type": "date"
        },
        "yaxis": {
         "autorange": true,
         "range": [
          0,
          1143.0670653566851
         ],
         "type": "linear"
        }
       }
      },
      "image/png": "[encoded data removed]",
      "text/html": [
       "<div>                            <div id=\"121f173d-1ae8-4786-abfb-f9aee4d05cae\" class=\"plotly-graph-div\" style=\"height:800px; width:1200px;\"></div>            <script type=\"text/javascript\">                require([\"plotly\"], function(Plotly) {                    window.PLOTLYENV=window.PLOTLYENV || {};                                    if (document.getElementById(\"121f173d-1ae8-4786-abfb-f9aee4d05cae\")) {                    Plotly.newPlot(                        \"121f173d-1ae8-4786-abfb-f9aee4d05cae\",                        [{\"hoverinfo\": \"text\", \"mode\": \"lines+markers\", \"stackgroup\": \"one\", \"text\": [\"<b>New visitors as of 2022-02-14 : 1 079</b><br><span style='font-size: 13px;'>+inf% vs last value (+1 079)</span>\", \"<b>New visitors as of 2022-02-21 : 504</b><br><span style='font-size: 13px;'>-53% vs last value (-575)</span>\", \"<b>New visitors as of 2022-02-28 : 317</b><br><span style='font-size: 13px;'>-37% vs last value (-187)</span>\", \"<b>New visitors as of 2022-03-07 : 298</b><br><span style='font-size: 13px;'>-6% vs last value (-19)</span>\", \"<b>New visitors as of 2022-03-14 : 110</b><br><span style='font-size: 13px;'>-63% vs last value (-188)</span>\"], \"type\": \"scatter\", \"x\": [\"2022-02-14T00:00:00\", \"2022-02-21T00:00:00\", \"2022-02-28T00:00:00\", \"2022-03-07T00:00:00\", \"2022-03-14T00:00:00\"], \"y\": [1079.0, 504.0, 317.0, 298.0, 110.0]}],                        {\"height\": 800, \"margin\": {\"pad\": 10}, \"plot_bgcolor\": \"#ffffff\", \"template\": {\"data\": {\"bar\": [{\"error_x\": {\"color\": \"#2a3f5f\"}, \"error_y\": {\"color\": \"#2a3f5f\"}, \"marker\": {\"line\": {\"color\": \"#E5ECF6\", \"width\": 0.5}}, \"type\": \"bar\"}], \"barpolar\": [{\"marker\": {\"line\": {\"color\": \"#E5ECF6\", \"width\": 0.5}}, \"type\": \"barpolar\"}], \"carpet\": [{\"aaxis\": {\"endlinecolor\": \"#2a3f5f\", \"gridcolor\": \"white\", \"linecolor\": \"white\", \"minorgridcolor\": \"white\", \"startlinecolor\": \"#2a3f5f\"}, \"baxis\": {\"endlinecolor\": \"#2a3f5f\", \"gridcolor\": \"white\", \"linecolor\": \"white\", \"minorgridcolor\": \"white\", \"startlinecolor\": \"#2a3f5f\"}, \"type\": \"carpet\"}], \"choropleth\": [{\"colorbar\": {\"outlinewidth\": 0, \"ticks\": \"\"}, \"type\": \"choropleth\"}], \"contour\": [{\"colorbar\": {\"outlinewidth\": 0, \"ticks\": \"\"}, \"colorscale\": [[0.0, \"#0d0887\"], [0.1111111111111111, \"#46039f\"], [0.2222222222222222, \"#7201a8\"], [0.3333333333333333, \"#9c179e\"], [0.4444444444444444, \"#bd3786\"], [0.5555555555555556, \"#d8576b\"], [0.6666666666666666, \"#ed7953\"], [0.7777777777777778, \"#fb9f3a\"], [0.8888888888888888, \"#fdca26\"], [1.0, \"#f0f921\"]], \"type\": \"contour\"}], \"contourcarpet\": [{\"colorbar\": {\"outlinewidth\": 0, \"ticks\": \"\"}, \"type\": \"contourcarpet\"}], \"heatmap\": [{\"colorbar\": {\"outlinewidth\": 0, \"ticks\": \"\"}, \"colorscale\": [[0.0, \"#0d0887\"], [0.1111111111111111, \"#46039f\"], [0.2222222222222222, \"#7201a8\"], [0.3333333333333333, \"#9c179e\"], [0.4444444444444444, \"#bd3786\"], [0.5555555555555556, \"#d8576b\"], [0.6666666666666666, \"#ed7953\"], [0.7777777777777778, \"#fb9f3a\"], [0.8888888888888888, \"#fdca26\"], [1.0, \"#f0f921\"]], \"type\": \"heatmap\"}], \"heatmapgl\": [{\"colorbar\": {\"outlinewidth\": 0, \"ticks\": \"\"}, \"colorscale\": [[0.0, \"#0d0887\"], [0.1111111111111111, \"#46039f\"], [0.2222222222222222, \"#7201a8\"], [0.3333333333333333, \"#9c179e\"], [0.4444444444444444, \"#bd3786\"], [0.5555555555555556, \"#d8576b\"], [0.6666666666666666, \"#ed7953\"], [0.7777777777777778, \"#fb9f3a\"], [0.8888888888888888, \"#fdca26\"], [1.0, \"#f0f921\"]], \"type\": \"heatmapgl\"}], \"histogram\": [{\"marker\": {\"colorbar\": {\"outlinewidth\": 0, \"ticks\": \"\"}}, \"type\": \"histogram\"}], \"histogram2d\": [{\"colorbar\": {\"outlinewidth\": 0, \"ticks\": \"\"}, \"colorscale\": [[0.0, \"#0d0887\"], [0.1111111111111111, \"#46039f\"], [0.2222222222222222, \"#7201a8\"], [0.3333333333333333, \"#9c179e\"], [0.4444444444444444, \"#bd3786\"], [0.5555555555555556, \"#d8576b\"], [0.6666666666666666, \"#ed7953\"], [0.7777777777777778, \"#fb9f3a\"], [0.8888888888888888, \"#fdca26\"], [1.0, \"#f0f921\"]], \"type\": \"histogram2d\"}], \"histogram2dcontour\": [{\"colorbar\": {\"outlinewidth\": 0, \"ticks\": \"\"}, \"colorscale\": [[0.0, \"#0d0887\"], [0.1111111111111111, \"#46039f\"], [0.2222222222222222, \"#7201a8\"], [0.3333333333333333, \"#9c179e\"], [0.4444444444444444, \"#bd3786\"], [0.5555555555555556, \"#d8576b\"], [0.6666666666666666, \"#ed7953\"], [0.7777777777777778, \"#fb9f3a\"], [0.8888888888888888, \"#fdca26\"], [1.0, \"#f0f921\"]], \"type\": \"histogram2dcontour\"}], \"mesh3d\": [{\"colorbar\": {\"outlinewidth\": 0, \"ticks\": \"\"}, \"type\": \"mesh3d\"}], \"parcoords\": [{\"line\": {\"colorbar\": {\"outlinewidth\": 0, \"ticks\": \"\"}}, \"type\": \"parcoords\"}], \"pie\": [{\"automargin\": true, \"type\": \"pie\"}], \"scatter\": [{\"marker\": {\"colorbar\": {\"outlinewidth\": 0, \"ticks\": \"\"}}, \"type\": \"scatter\"}], \"scatter3d\": [{\"line\": {\"colorbar\": {\"outlinewidth\": 0, \"ticks\": \"\"}}, \"marker\": {\"colorbar\": {\"outlinewidth\": 0, \"ticks\": \"\"}}, \"type\": \"scatter3d\"}], \"scattercarpet\": [{\"marker\": {\"colorbar\": {\"outlinewidth\": 0, \"ticks\": \"\"}}, \"type\": \"scattercarpet\"}], \"scattergeo\": [{\"marker\": {\"colorbar\": {\"outlinewidth\": 0, \"ticks\": \"\"}}, \"type\": \"scattergeo\"}], \"scattergl\": [{\"marker\": {\"colorbar\": {\"outlinewidth\": 0, \"ticks\": \"\"}}, \"type\": \"scattergl\"}], \"scattermapbox\": [{\"marker\": {\"colorbar\": {\"outlinewidth\": 0, \"ticks\": \"\"}}, \"type\": \"scattermapbox\"}], \"scatterpolar\": [{\"marker\": {\"colorbar\": {\"outlinewidth\": 0, \"ticks\": \"\"}}, \"type\": \"scatterpolar\"}], \"scatterpolargl\": [{\"marker\": {\"colorbar\": {\"outlinewidth\": 0, \"ticks\": \"\"}}, \"type\": \"scatterpolargl\"}], \"scatterternary\": [{\"marker\": {\"colorbar\": {\"outlinewidth\": 0, \"ticks\": \"\"}}, \"type\": \"scatterternary\"}], \"surface\": [{\"colorbar\": {\"outlinewidth\": 0, \"ticks\": \"\"}, \"colorscale\": [[0.0, \"#0d0887\"], [0.1111111111111111, \"#46039f\"], [0.2222222222222222, \"#7201a8\"], [0.3333333333333333, \"#9c179e\"], [0.4444444444444444, \"#bd3786\"], [0.5555555555555556, \"#d8576b\"], [0.6666666666666666, \"#ed7953\"], [0.7777777777777778, \"#fb9f3a\"], [0.8888888888888888, \"#fdca26\"], [1.0, \"#f0f921\"]], \"type\": \"surface\"}], \"table\": [{\"cells\": {\"fill\": {\"color\": \"#EBF0F8\"}, \"line\": {\"color\": \"white\"}}, \"header\": {\"fill\": {\"color\": \"#C8D4E3\"}, \"line\": {\"color\": \"white\"}}, \"type\": \"table\"}]}, \"layout\": {\"annotationdefaults\": {\"arrowcolor\": \"#2a3f5f\", \"arrowhead\": 0, \"arrowwidth\": 1}, \"autotypenumbers\": \"strict\", \"coloraxis\": {\"colorbar\": {\"outlinewidth\": 0, \"ticks\": \"\"}}, \"colorscale\": {\"diverging\": [[0, \"#8e0152\"], [0.1, \"#c51b7d\"], [0.2, \"#de77ae\"], [0.3, \"#f1b6da\"], [0.4, \"#fde0ef\"], [0.5, \"#f7f7f7\"], [0.6, \"#e6f5d0\"], [0.7, \"#b8e186\"], [0.8, \"#7fbc41\"], [0.9, \"#4d9221\"], [1, \"#276419\"]], \"sequential\": [[0.0, \"#0d0887\"], [0.1111111111111111, \"#46039f\"], [0.2222222222222222, \"#7201a8\"], [0.3333333333333333, \"#9c179e\"], [0.4444444444444444, \"#bd3786\"], [0.5555555555555556, \"#d8576b\"], [0.6666666666666666, \"#ed7953\"], [0.7777777777777778, \"#fb9f3a\"], [0.8888888888888888, \"#fdca26\"], [1.0, \"#f0f921\"]], \"sequentialminus\": [[0.0, \"#0d0887\"], [0.1111111111111111, \"#46039f\"], [0.2222222222222222, \"#7201a8\"], [0.3333333333333333, \"#9c179e\"], [0.4444444444444444, \"#bd3786\"], [0.5555555555555556, \"#d8576b\"], [0.6666666666666666, \"#ed7953\"], [0.7777777777777778, \"#fb9f3a\"], [0.8888888888888888, \"#fdca26\"], [1.0, \"#f0f921\"]]}, \"colorway\": [\"#636efa\", \"#EF553B\", \"#00cc96\", \"#ab63fa\", \"#FFA15A\", \"#19d3f3\", \"#FF6692\", \"#B6E880\", \"#FF97FF\", \"#FECB52\"], \"font\": {\"color\": \"#2a3f5f\"}, \"geo\": {\"bgcolor\": \"white\", \"lakecolor\": \"white\", \"landcolor\": \"#E5ECF6\", \"showlakes\": true, \"showland\": true, \"subunitcolor\": \"white\"}, \"hoverlabel\": {\"align\": \"left\"}, \"hovermode\": \"closest\", \"mapbox\": {\"style\": \"light\"}, \"paper_bgcolor\": \"white\", \"plot_bgcolor\": \"#E5ECF6\", \"polar\": {\"angularaxis\": {\"gridcolor\": \"white\", \"linecolor\": \"white\", \"ticks\": \"\"}, \"bgcolor\": \"#E5ECF6\", \"radialaxis\": {\"gridcolor\": \"white\", \"linecolor\": \"white\", \"ticks\": \"\"}}, \"scene\": {\"xaxis\": {\"backgroundcolor\": \"#E5ECF6\", \"gridcolor\": \"white\", \"gridwidth\": 2, \"linecolor\": \"white\", \"showbackground\": true, \"ticks\": \"\", \"zerolinecolor\": \"white\"}, \"yaxis\": {\"backgroundcolor\": \"#E5ECF6\", \"gridcolor\": \"white\", \"gridwidth\": 2, \"linecolor\": \"white\", \"showbackground\": true, \"ticks\": \"\", \"zerolinecolor\": \"white\"}, \"zaxis\": {\"backgroundcolor\": \"#E5ECF6\", \"gridcolor\": \"white\", \"gridwidth\": 2, \"linecolor\": \"white\", \"showbackground\": true, \"ticks\": \"\", \"zerolinecolor\": \"white\"}}, \"shapedefaults\": {\"line\": {\"color\": \"#2a3f5f\"}}, \"ternary\": {\"aaxis\": {\"gridcolor\": \"white\", \"linecolor\": \"white\", \"ticks\": \"\"}, \"baxis\": {\"gridcolor\": \"white\", \"linecolor\": \"white\", \"ticks\": \"\"}, \"bgcolor\": \"#E5ECF6\", \"caxis\": {\"gridcolor\": \"white\", \"linecolor\": \"white\", \"ticks\": \"\"}}, \"title\": {\"x\": 0.05}, \"xaxis\": {\"automargin\": true, \"gridcolor\": \"white\", \"linecolor\": \"white\", \"ticks\": \"\", \"title\": {\"standoff\": 15}, \"zerolinecolor\": \"white\", \"zerolinewidth\": 2}, \"yaxis\": {\"automargin\": true, \"gridcolor\": \"white\", \"linecolor\": \"white\", \"ticks\": \"\", \"title\": {\"standoff\": 15}, \"zerolinecolor\": \"white\", \"zerolinewidth\": 2}}}, \"title\": {\"font\": {\"color\": \"black\", \"family\": \"Arial\", \"size\": 18}, \"text\": \"<b>New visitors as of 2022-03-14 : 110</b><br><span style='font-size: 13px;'>-63% vs last value (-188)</span>\"}, \"width\": 1200},                        {\"responsive\": true}                    ).then(function(){\n",
       "                            \n",
       "var gd = document.getElementById('121f173d-1ae8-4786-abfb-f9aee4d05cae');\n",
       "var x = new MutationObserver(function (mutations, observer) {{\n",
       "        var display = window.getComputedStyle(gd).display;\n",
       "        if (!display || display === 'none') {{\n",
       "            console.log([gd, 'removed!']);\n",
       "            Plotly.purge(gd);\n",
       "            observer.disconnect();\n",
       "        }}\n",
       "}});\n",
       "\n",
       "// Listen for the removal of the full notebook cells\n",
       "var notebookContainer = gd.closest('#notebook-container');\n",
       "if (notebookContainer) {{\n",
       "    x.observe(notebookContainer, {childList: true});\n",
       "}}\n",
       "\n",
       "// Listen for the clearing of the current output cell\n",
       "var outputEl = gd.closest('.output');\n",
       "if (outputEl) {{\n",
       "    x.observe(outputEl, {childList: true});\n",
       "}}\n",
       "\n",
       "                        })                };                });            </script>        </div>"
      ]
     },
     "metadata": {},
     "output_type": "display_data"
    }
   ],
   "source": [
    "def create_linechart(df: pd.DataFrame, label, value, varv, varp, title):\n",
    "    \"\"\"\n",
    "    Plot linechart as an area chart in Plotly.\n",
    "    \"\"\"\n",
    "    # Prep data\n",
    "    df[\"VALUE_D\"] = df[value].map(\"{:,.0f}\".format).str.replace(\",\", \" \")\n",
    "    df[\"VARV_D\"] = df[varv].map(\"{:,.0f}\".format).str.replace(\",\", \" \")\n",
    "    df.loc[df[varv] > 0, \"VARV_D\"] = \"+\" + df[\"VARV_D\"]\n",
    "    df[\"VARP_D\"] = df[varp].map(\"{:,.0%}\".format).str.replace(\",\", \" \")\n",
    "    df.loc[df[varp] > 0, \"VARP_D\"] = \"+\" + df[\"VARP_D\"]    \n",
    "\n",
    "    # Create hovertext\n",
    "    df[\"TEXT\"] = (f\"<b>{title} as of \" + df[label].astype(str) + \" : \" + df[\"VALUE_D\"] + \"</b><br><span style='font-size: 13px;'>\" + df[\"VARP_D\"] + \" vs last value (\" + df[\"VARV_D\"] + \")</span>\")\n",
    "    \n",
    "    # Get subtitle\n",
    "    title_display = df.loc[df.index[-1], \"TEXT\"] \n",
    "    \n",
    "    # Create data\n",
    "    data = go.Scatter(\n",
    "        x=df[label],\n",
    "        y=df[value],\n",
    "        stackgroup=\"one\",\n",
    "        text=df[\"TEXT\"],\n",
    "        hoverinfo=\"text\",\n",
    "    )\n",
    "    \n",
    "    # Create layout\n",
    "    layout = go.Layout(\n",
    "        title=title_display,\n",
    "        title_font=dict(family=\"Arial\", size=18, color=\"black\"),\n",
    "        plot_bgcolor=\"#ffffff\",\n",
    "        width=1200,\n",
    "        height=800,\n",
    "        margin_pad=10,\n",
    "    )\n",
    "    fig = go.Figure(data=data, layout=layout)\n",
    "    fig.update_traces(mode='lines+markers')\n",
    "    return fig\n",
    "\n",
    "fig = create_linechart(df, \"DATE\", \"VALUE\", \"VARV\", \"VARP\", title)\n",
    "fig"
   ]
  },
  {
   "cell_type": "markdown",
   "id": "1f16409e",
   "metadata": {
    "execution": {
     "iopub.execute_input": "2021-07-02T23:32:10.789097Z",
     "iopub.status.busy": "2021-07-02T23:32:10.788829Z",
     "iopub.status.idle": "2021-07-02T23:32:10.796900Z",
     "shell.execute_reply": "2021-07-02T23:32:10.796358Z",
     "shell.execute_reply.started": "2021-07-02T23:32:10.789033Z"
    },
    "papermill": {},
    "tags": []
   },
   "source": [
    "## Output"
   ]
  },
  {
   "cell_type": "markdown",
   "id": "7f31f2d2-f301-42dd-8205-00dd34b85fa6",
   "metadata": {},
   "source": [
    "### Save and share csv"
   ]
  },
  {
   "cell_type": "code",
   "execution_count": null,
   "id": "bd52dd6c-e915-4025-9a67-2aed83ab9c9f",
   "metadata": {},
   "outputs": [],
   "source": [
    "df.to_csv(csv_output, index=False)\n",
    "\n",
    "# Share with naas\n",
    "#-> Uncomment the line below (by removing the hashtag) to share your asset with naas\n",
    "# naas.asset.add(csv_output)\n",
    "\n",
    "#-> Uncomment the line below (by removing the hashtag)  to delete your asset\n",
    "# naas.asset.delete(csv_output)"
   ]
  },
  {
   "cell_type": "markdown",
   "id": "73cd9e78-7589-48c3-bf10-90598f54693a",
   "metadata": {},
   "source": [
    "### Export and share graph in HTML"
   ]
  },
  {
   "cell_type": "code",
   "execution_count": null,
   "id": "4913d04d-ef6e-48d5-8414-f017bbf52a38",
   "metadata": {},
   "outputs": [],
   "source": [
    "fig.write_html(html_output)\n",
    "\n",
    "# Share with naas\n",
    "#-> Uncomment the line below (by removing the hashtag) to share your asset with naas\n",
    "# naas.asset.add(html_output, params={\"inline\": True})\n",
    "\n",
    "#-> Uncomment the line below (by removing the hashtag)  to delete your asset\n",
    "# naas.asset.delete(html_output)"
   ]
  },
  {
   "cell_type": "markdown",
   "id": "ce2768ac-29f1-4c67-8047-cdd15919f785",
   "metadata": {},
   "source": [
    "### Export and share graph in PNG"
   ]
  },
  {
   "cell_type": "code",
   "execution_count": null,
   "id": "d3c87ec1-50be-423c-ad88-230042dca22f",
   "metadata": {},
   "outputs": [],
   "source": [
    "fig.write_image(image_output)\n",
    "\n",
    "# Share with naas\n",
    "#-> Uncomment the line below (by removing the hashtag) to share your asset with naas\n",
    "# naas.asset.add(image_output)\n",
    "\n",
    "#-> Uncomment the line below (by removing the hashtag)  to delete your asset\n",
    "# naas.asset.delete(image_output)"
   ]
  }
 ],
 "metadata": {
  "interpreter": {
   "hash": "aee8b7b246df8f9039afb4144a1f6fd8d2ca17a180786b69acc140d282b71a49"
  },
  "kernelspec": {
   "display_name": "Python 3",
   "language": "python",
   "name": "python3"
  },
  "language_info": {
   "codemirror_mode": {
    "name": "ipython",
    "version": 3
   },
   "file_extension": ".py",
   "mimetype": "text/x-python",
   "name": "python",
   "nbconvert_exporter": "python",
   "pygments_lexer": "ipython3",
   "version": "3.9.6"
  },
  "papermill": {
   "default_parameters": {},
   "environment_variables": {},
   "parameters": {},
   "version": "2.3.3"
  },
  "widgets": {
   "application/vnd.jupyter.widget-state+json": {
    "state": {},
    "version_major": 2,
    "version_minor": 0
   }
  }
 },
 "nbformat": 4,
 "nbformat_minor": 5
}
