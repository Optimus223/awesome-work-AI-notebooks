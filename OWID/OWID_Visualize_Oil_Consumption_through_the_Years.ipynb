{
 "cells": [
  {
   "cell_type": "markdown",
   "id": "7aa3dcc1",
   "metadata": {},
   "source": [
    "<img width=\"10%\" alt=\"Naas\" src=\"https://landen.imgix.net/jtci2pxwjczr/assets/5ice39g4.png?w=160\"/>"
   ]
  },
  {
   "cell_type": "markdown",
   "id": "6cfd1dc6",
   "metadata": {},
   "source": [
    "# OWID - Visualize oil consumption throughout the years\n",
    "<a href=\"https://app.naas.ai/user-redirect/naas/downloader?url=https://raw.githubusercontent.com/jupyter-naas/awesome-notebooks/master/OWID/OWID_Visualize_Oil_Consumption_throughout_the_Years.ipynb\" target=\"_parent\"><img src=\"https://naasai-public.s3.eu-west-3.amazonaws.com/open_in_naas.svg\"/></a><br><br><a href=\"https://github.com/jupyter-naas/awesome-notebooks/issues/new?assignees=&labels=&template=template-request.md&title=Tool+-+Action+of+the+notebook+\">Template request</a> | <a href=\"https://github.com/jupyter-naas/awesome-notebooks/issues/new?assignees=&labels=bug&template=bug_report.md&title=Dash+-+Create+Interactive+Plot:+Error+short+description\">Bug report</a> | <a href=\"https://app.naas.ai/user-redirect/naas/downloader?url=https://raw.githubusercontent.com/jupyter-naas/awesome-notebooks/master/Naas/Naas_Start_data_product.ipynb\" target=\"_parent\">Generate Data Product</a>"
   ]
  },
  {
   "cell_type": "markdown",
   "id": "e91d5cd4",
   "metadata": {},
   "source": [
    "**Tags:** #dash #dashboard #plotly #naas #asset #analytics #dropdown #callback #bootstrap #snippet"
   ]
  },
  {
   "cell_type": "markdown",
   "id": "43ee703f",
   "metadata": {},
   "source": [
    "**Author:** [Zihui Ouyang](https://www.linkedin.com/in/zihui-ouyang-539626227/)"
   ]
  },
  {
   "cell_type": "markdown",
   "id": "155d452e",
   "metadata": {},
   "source": [
    "**Description:** This notebook creates an interactive plot using Dash app infrastructure with OWID's oil consumption data."
   ]
  },
  {
   "cell_type": "markdown",
   "id": "7b71b730",
   "metadata": {},
   "source": [
    "**References:**\n",
    "- https://ourworldindata.org/grapher/oil-consumption-by-country?tab=chart&time=earliest..latest\n",
    "- https://stackoverflow.com/questions/70886359/dash-python-making-subplots-when-multiple-parameters-are-selected\n",
    "- https://dash-example-index.herokuapp.com/line-charts"
   ]
  },
  {
   "cell_type": "markdown",
   "id": "852d4006",
   "metadata": {},
   "source": [
    "## Input"
   ]
  },
  {
   "cell_type": "code",
   "execution_count": 1,
   "id": "6ec8266d",
   "metadata": {
    "execution": {
     "iopub.execute_input": "2023-06-26T10:45:18.310411Z",
     "iopub.status.busy": "2023-06-26T10:45:18.309777Z",
     "iopub.status.idle": "2023-06-26T10:45:23.888489Z",
     "shell.execute_reply": "2023-06-26T10:45:23.887099Z",
     "shell.execute_reply.started": "2023-06-26T10:45:18.310310Z"
    },
    "tags": []
   },
   "outputs": [],
   "source": [
    "try:\n",
    "    import dash\n",
    "    import os\n",
    "except:\n",
    "    !pip install dash --user\n",
    "    import dash\n",
    "try:\n",
    "    import dash_bootstrap_components as dbc\n",
    "except:\n",
    "    !pip install dash_bootstrap_components --user\n",
    "    import dash_bootstrap_components as dbc\n",
    "import pandas as pd\n",
    "from dash import Dash, html, dcc, callback, Output, Input\n",
    "import plotly.express as px"
   ]
  },
  {
   "cell_type": "markdown",
   "id": "bd3ffd05",
   "metadata": {},
   "source": [
    "### Setup Variables\n",
    "- `DASH_PORT`: specify a port number for Dash\n",
    "- `url`: URL to get data from Excel"
   ]
  },
  {
   "cell_type": "code",
   "execution_count": 2,
   "id": "7c16b8c6",
   "metadata": {
    "execution": {
     "iopub.execute_input": "2023-06-26T10:45:23.890777Z",
     "iopub.status.busy": "2023-06-26T10:45:23.890390Z",
     "iopub.status.idle": "2023-06-26T10:45:23.896100Z",
     "shell.execute_reply": "2023-06-26T10:45:23.894722Z",
     "shell.execute_reply.started": "2023-06-26T10:45:23.890734Z"
    },
    "tags": []
   },
   "outputs": [],
   "source": [
    "DASH_PORT = 8050\n",
    "url = \"https://www.bp.com/content/dam/bp/business-sites/en/global/corporate/xlsx/energy-economics/statistical-review/bp-stats-review-2022-all-data.xlsx\""
   ]
  },
  {
   "cell_type": "markdown",
   "id": "39e80975",
   "metadata": {},
   "source": [
    "## Model"
   ]
  },
  {
   "cell_type": "markdown",
   "id": "68c1b2f7",
   "metadata": {},
   "source": [
    "### Initialize Dash App"
   ]
  },
  {
   "cell_type": "code",
   "execution_count": 3,
   "id": "5709f750",
   "metadata": {
    "execution": {
     "iopub.execute_input": "2023-06-26T10:45:23.898587Z",
     "iopub.status.busy": "2023-06-26T10:45:23.898227Z",
     "iopub.status.idle": "2023-06-26T10:45:24.034748Z",
     "shell.execute_reply": "2023-06-26T10:45:24.033888Z",
     "shell.execute_reply.started": "2023-06-26T10:45:23.898547Z"
    },
    "tags": []
   },
   "outputs": [],
   "source": [
    "app = dash.Dash(\n",
    "    title = \"Oil consumption\",\n",
    "    requests_pathname_prefix=f'/user/{os.environ.get(\"JUPYTERHUB_USER\")}/proxy/{DASH_PORT}/',\n",
    "    external_stylesheets=[dbc.themes.BOOTSTRAP],\n",
    "    meta_tags=[\n",
    "        {\"name\": \"viewport\", \"content\": \"width=device-width, initial-scale=1.0\"}\n",
    "    ],\n",
    ")\n",
    "\n",
    "# app = dash.Dash(title = \"Oil consumption\") if you are not in Naas"
   ]
  },
  {
   "cell_type": "markdown",
   "id": "90fe0d5c",
   "metadata": {},
   "source": [
    "### Get Data"
   ]
  },
  {
   "cell_type": "code",
   "execution_count": 4,
   "id": "472f87fb",
   "metadata": {
    "execution": {
     "iopub.execute_input": "2023-06-26T10:45:24.036529Z",
     "iopub.status.busy": "2023-06-26T10:45:24.036219Z",
     "iopub.status.idle": "2023-06-26T10:45:25.874118Z",
     "shell.execute_reply": "2023-06-26T10:45:25.872792Z",
     "shell.execute_reply.started": "2023-06-26T10:45:24.036492Z"
    },
    "tags": []
   },
   "outputs": [],
   "source": [
    "contents_df = pd.read_excel(url, sheet_name = \"Oil Consumption - EJ\", header = 2)\n",
    "contents_df = contents_df.drop([0,5,18,54,64,86,106,111,112,113,114,115,116,117,118,119]) # Drop unnecessary rows\n",
    "contents_df = contents_df.reset_index(drop=True)\n",
    "contents_df[\"Exajoules\"] = contents_df[\"Exajoules\"].replace([\"of which: OECD\"], \"OECD\")\n",
    "entity = []  # Lists to create a new dataframe\n",
    "year = []\n",
    "oil_consumption = []\n",
    "for i in range(len(contents_df)):\n",
    "    for j in range(57):\n",
    "        entity.append(contents_df.iloc[i,0])\n",
    "        year.append(1965+j)\n",
    "        oil_consumption.append(contents_df.iloc[i,j+1])\n",
    "new_dict = {\"Entity\": entity,\n",
    "           \"Year\": year,\n",
    "           \"oil_consumption\": oil_consumption}\n",
    "new_df = pd.DataFrame(data=new_dict)"
   ]
  },
  {
   "cell_type": "markdown",
   "id": "b38b6390",
   "metadata": {},
   "source": [
    "### Create Dash App"
   ]
  },
  {
   "cell_type": "code",
   "execution_count": 5,
   "id": "33e64c4a",
   "metadata": {
    "execution": {
     "iopub.execute_input": "2023-06-26T10:45:25.875878Z",
     "iopub.status.busy": "2023-06-26T10:45:25.875478Z",
     "iopub.status.idle": "2023-06-26T10:45:25.896138Z",
     "shell.execute_reply": "2023-06-26T10:45:25.895062Z",
     "shell.execute_reply.started": "2023-06-26T10:45:25.875838Z"
    },
    "tags": []
   },
   "outputs": [],
   "source": [
    "p = \"oil_consumption\"\n",
    "app.layout = html.Div(\n",
    "    [\n",
    "        html.H3(\"Oil consumption\"),\n",
    "        html.P(\"Oil consumption is measured in terawatt-hour (TWh) equivalents per year.\"),\n",
    "        dcc.Dropdown(\n",
    "            id=\"countries\",\n",
    "            options=new_df.Entity.unique(),\n",
    "            value=[\"US\", \"China\", \"Canada\", \"United Kingdom\", \"Australia\", \"South Africa\", \"Norway\"],\n",
    "            multi = True\n",
    "        ),\n",
    "        dcc.Graph(id=p, figure={}, style={'display': 'none'}),\n",
    "        dcc.RangeSlider(id='slider', min=1965, max=2021, value=[1965, 2021],\n",
    "               marks={x: str(x) for x in [1965, 1975, 1985, 1995, 2005, 2021]}),\n",
    "        html.P('Source: Statistical Review of World Energy - BP (2022)')\n",
    "    ],\n",
    "    style={'padding': '40px'}\n",
    ")\n",
    "\n",
    "@callback(\n",
    "    Output(p, 'figure'),\n",
    "    Output(p, 'style'),\n",
    "    Input('countries', 'value'),\n",
    "    Input('slider', 'value')\n",
    ")\n",
    "\n",
    "def update_graph(country, year):\n",
    "    dff = (new_df[\"Entity\"].isin(country)) & (new_df[\"Year\"] <= year[1]) & (new_df[\"Year\"] >= year[0])\n",
    "    figures = px.line(new_df[dff], x='Year', y=p, color = \"Entity\", markers = True).update_layout(\n",
    "                                plot_bgcolor='rgba(0, 0, 0, 0)', height= 600\n",
    "                            )\n",
    "    styles = {'display': 'block'}   \n",
    "    return figures, styles"
   ]
  },
  {
   "cell_type": "markdown",
   "id": "91587dfb",
   "metadata": {},
   "source": [
    "## Output"
   ]
  },
  {
   "cell_type": "markdown",
   "id": "63011f3e",
   "metadata": {},
   "source": [
    "### Generate URL and show logs"
   ]
  },
  {
   "cell_type": "code",
   "execution_count": 6,
   "id": "c712cb7d",
   "metadata": {
    "execution": {
     "iopub.execute_input": "2023-06-26T10:45:25.897577Z",
     "iopub.status.busy": "2023-06-26T10:45:25.897294Z",
     "iopub.status.idle": "2023-06-26T11:04:40.805372Z",
     "shell.execute_reply": "2023-06-26T11:04:40.804535Z",
     "shell.execute_reply.started": "2023-06-26T10:45:25.897543Z"
    },
    "tags": []
   },
   "outputs": [
    {
     "name": "stdout",
     "output_type": "stream",
     "text": [
      "Dash is running on https://app.naas.ai/user/jeremy@naas.ai/proxy/8050/\n",
      "\n",
      " * Serving Flask app '__main__'\n",
      " * Debug mode: off\n"
     ]
    },
    {
     "name": "stderr",
     "output_type": "stream",
     "text": [
      "WARNING: This is a development server. Do not use it in a production deployment. Use a production WSGI server instead.\n",
      " * Running on http://127.0.0.1:8050\n",
      "Press CTRL+C to quit\n",
      "127.0.0.1 - - [26/Jun/2023 12:45:28] \"GET / HTTP/1.1\" 200 -\n",
      "127.0.0.1 - - [26/Jun/2023 12:45:28] \"GET /_dash-dependencies HTTP/1.1\" 200 -\n",
      "127.0.0.1 - - [26/Jun/2023 12:45:28] \"GET /_dash-layout HTTP/1.1\" 200 -\n",
      "127.0.0.1 - - [26/Jun/2023 12:45:29] \"GET /_dash-component-suites/dash/dcc/async-graph.js HTTP/1.1\" 200 -\n",
      "127.0.0.1 - - [26/Jun/2023 12:45:29] \"GET /_dash-component-suites/dash/dcc/async-dropdown.js HTTP/1.1\" 200 -\n",
      "127.0.0.1 - - [26/Jun/2023 12:45:29] \"GET /_dash-component-suites/dash/dcc/async-slider.js HTTP/1.1\" 200 -\n",
      "127.0.0.1 - - [26/Jun/2023 12:45:29] \"GET /_dash-component-suites/dash/dcc/async-plotlyjs.js HTTP/1.1\" 200 -\n",
      "127.0.0.1 - - [26/Jun/2023 12:45:35] \"POST /_dash-update-component HTTP/1.1\" 200 -\n",
      "127.0.0.1 - - [26/Jun/2023 12:45:47] \"POST /_dash-update-component HTTP/1.1\" 200 -\n",
      "127.0.0.1 - - [26/Jun/2023 12:45:49] \"POST /_dash-update-component HTTP/1.1\" 200 -\n",
      "127.0.0.1 - - [26/Jun/2023 12:45:50] \"POST /_dash-update-component HTTP/1.1\" 200 -\n",
      "127.0.0.1 - - [26/Jun/2023 12:45:53] \"POST /_dash-update-component HTTP/1.1\" 200 -\n",
      "127.0.0.1 - - [26/Jun/2023 12:45:54] \"POST /_dash-update-component HTTP/1.1\" 200 -\n",
      "127.0.0.1 - - [26/Jun/2023 12:45:55] \"POST /_dash-update-component HTTP/1.1\" 200 -\n",
      "127.0.0.1 - - [26/Jun/2023 12:45:58] \"POST /_dash-update-component HTTP/1.1\" 200 -\n",
      "127.0.0.1 - - [26/Jun/2023 12:46:00] \"POST /_dash-update-component HTTP/1.1\" 200 -\n",
      "127.0.0.1 - - [26/Jun/2023 12:46:02] \"POST /_dash-update-component HTTP/1.1\" 200 -\n",
      "127.0.0.1 - - [26/Jun/2023 12:46:08] \"POST /_dash-update-component HTTP/1.1\" 200 -\n",
      "127.0.0.1 - - [26/Jun/2023 12:46:23] \"POST /_dash-update-component HTTP/1.1\" 200 -\n",
      "127.0.0.1 - - [26/Jun/2023 12:46:27] \"POST /_dash-update-component HTTP/1.1\" 200 -\n",
      "127.0.0.1 - - [26/Jun/2023 12:46:28] \"POST /_dash-update-component HTTP/1.1\" 200 -\n",
      "127.0.0.1 - - [26/Jun/2023 12:46:38] \"POST /_dash-update-component HTTP/1.1\" 200 -\n",
      "127.0.0.1 - - [26/Jun/2023 12:46:45] \"POST /_dash-update-component HTTP/1.1\" 200 -\n",
      "127.0.0.1 - - [26/Jun/2023 12:46:51] \"POST /_dash-update-component HTTP/1.1\" 200 -\n",
      "127.0.0.1 - - [26/Jun/2023 12:46:54] \"POST /_dash-update-component HTTP/1.1\" 200 -\n",
      "127.0.0.1 - - [26/Jun/2023 12:46:56] \"POST /_dash-update-component HTTP/1.1\" 200 -\n",
      "127.0.0.1 - - [26/Jun/2023 12:46:57] \"POST /_dash-update-component HTTP/1.1\" 200 -\n",
      "127.0.0.1 - - [26/Jun/2023 12:46:58] \"POST /_dash-update-component HTTP/1.1\" 200 -\n",
      "127.0.0.1 - - [26/Jun/2023 12:46:58] \"POST /_dash-update-component HTTP/1.1\" 200 -\n",
      "127.0.0.1 - - [26/Jun/2023 12:46:58] \"POST /_dash-update-component HTTP/1.1\" 200 -\n",
      "127.0.0.1 - - [26/Jun/2023 12:46:58] \"POST /_dash-update-component HTTP/1.1\" 200 -\n",
      "127.0.0.1 - - [26/Jun/2023 12:46:58] \"POST /_dash-update-component HTTP/1.1\" 200 -\n",
      "127.0.0.1 - - [26/Jun/2023 12:46:58] \"POST /_dash-update-component HTTP/1.1\" 200 -\n",
      "127.0.0.1 - - [26/Jun/2023 12:46:58] \"POST /_dash-update-component HTTP/1.1\" 200 -\n",
      "127.0.0.1 - - [26/Jun/2023 12:46:58] \"POST /_dash-update-component HTTP/1.1\" 200 -\n",
      "127.0.0.1 - - [26/Jun/2023 12:47:06] \"POST /_dash-update-component HTTP/1.1\" 200 -\n",
      "127.0.0.1 - - [26/Jun/2023 12:47:09] \"POST /_dash-update-component HTTP/1.1\" 200 -\n",
      "127.0.0.1 - - [26/Jun/2023 12:47:15] \"POST /_dash-update-component HTTP/1.1\" 200 -\n",
      "127.0.0.1 - - [26/Jun/2023 12:48:36] \"POST /_dash-update-component HTTP/1.1\" 200 -\n",
      "127.0.0.1 - - [26/Jun/2023 12:48:38] \"GET / HTTP/1.1\" 200 -\n",
      "127.0.0.1 - - [26/Jun/2023 12:48:38] \"GET /_dash-dependencies HTTP/1.1\" 200 -\n",
      "127.0.0.1 - - [26/Jun/2023 12:48:38] \"GET /_dash-layout HTTP/1.1\" 200 -\n",
      "127.0.0.1 - - [26/Jun/2023 12:48:39] \"GET /_dash-component-suites/dash/dcc/async-graph.js HTTP/1.1\" 200 -\n",
      "127.0.0.1 - - [26/Jun/2023 12:48:39] \"GET /_dash-component-suites/dash/dcc/async-dropdown.js HTTP/1.1\" 200 -\n",
      "127.0.0.1 - - [26/Jun/2023 12:48:39] \"GET /_dash-component-suites/dash/dcc/async-slider.js HTTP/1.1\" 200 -\n",
      "127.0.0.1 - - [26/Jun/2023 12:48:39] \"GET /_favicon.ico?v=2.10.2 HTTP/1.1\" 200 -\n",
      "127.0.0.1 - - [26/Jun/2023 12:48:39] \"GET /_dash-component-suites/dash/dcc/async-plotlyjs.js HTTP/1.1\" 200 -\n",
      "127.0.0.1 - - [26/Jun/2023 12:48:39] \"POST /_dash-update-component HTTP/1.1\" 200 -\n"
     ]
    }
   ],
   "source": [
    "if __name__ == \"__main__\":\n",
    "    app.run_server(proxy=f\"http://127.0.0.1:{DASH_PORT}::https://app.naas.ai\")"
   ]
  },
  {
   "cell_type": "code",
   "execution_count": null,
   "id": "8bf9612c-6302-474e-9950-e599a75ff9f8",
   "metadata": {},
   "outputs": [],
   "source": []
  }
 ],
 "metadata": {
  "kernelspec": {
   "display_name": "Python 3",
   "language": "python",
   "name": "python3"
  },
  "language_info": {
   "codemirror_mode": {
    "name": "ipython",
    "version": 3
   },
   "file_extension": ".py",
   "mimetype": "text/x-python",
   "name": "python",
   "nbconvert_exporter": "python",
   "pygments_lexer": "ipython3",
   "version": "3.9.6"
  }
 },
 "nbformat": 4,
 "nbformat_minor": 5
}
