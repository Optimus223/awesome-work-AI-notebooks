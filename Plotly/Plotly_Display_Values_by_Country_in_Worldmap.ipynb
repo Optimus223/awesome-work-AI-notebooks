{
 "cells": [
  {
   "cell_type": "markdown",
   "id": "0adaea86-7631-4ed8-9770-9db6c5b8c759",
   "metadata": {
    "papermill": {},
    "tags": []
   },
   "source": [
    "<img width=\"10%\" alt=\"Naas\" src=\"https://landen.imgix.net/jtci2pxwjczr/assets/5ice39g4.png?w=160\"/>"
   ]
  },
  {
   "cell_type": "markdown",
   "id": "7cfc45ac-457a-4d3b-ab87-a2a8f6626852",
   "metadata": {
    "papermill": {},
    "tags": []
   },
   "source": [
    "# Plotly - Display Values by Country in Worldmap"
   ]
  },
  {
   "cell_type": "markdown",
   "id": "2a27fe29-6b3f-4773-ac75-4652785c1d0d",
   "metadata": {
    "papermill": {},
    "tags": []
   },
   "source": [
    "**Tags:** #plotly #worldmap #values #country #display #python"
   ]
  },
  {
   "cell_type": "markdown",
   "id": "e48d2607-41dc-45a8-9485-070aee74e22a",
   "metadata": {
    "papermill": {},
    "tags": []
   },
   "source": [
    "**Author:** [Florent Ravenel](https://www.linkedin.com/in/florent-ravenel/)"
   ]
  },
  {
   "cell_type": "markdown",
   "id": "94a4e178-7ed0-42fb-8ab7-138817a08a19",
   "metadata": {
    "papermill": {},
    "tags": []
   },
   "source": [
    "**Description:** This notebook will show how to display values by country in a worldmap using Plotly."
   ]
  },
  {
   "cell_type": "markdown",
   "id": "ecc30d2c-db66-46b0-95b3-ff6e257d165c",
   "metadata": {
    "papermill": {},
    "tags": []
   },
   "source": [
    "**References:**\n- [Plotly Documentation](https://plotly.com/python/reference/)\n- [Plotly Choropleth Maps](https://plotly.com/python/choropleth-maps/)"
   ]
  },
  {
   "cell_type": "markdown",
   "id": "512dc9c7-42df-4f60-8345-4768ce1e9db6",
   "metadata": {
    "papermill": {},
    "tags": []
   },
   "source": [
    "## Input"
   ]
  },
  {
   "cell_type": "markdown",
   "id": "2d4da9ea-c06d-4894-83a3-25a0069ec4de",
   "metadata": {
    "papermill": {},
    "tags": []
   },
   "source": [
    "### Import libraries"
   ]
  },
  {
   "cell_type": "code",
   "execution_count": null,
   "id": "ab09a80f-c651-4b62-aaa9-0cfcfb96b219",
   "metadata": {
    "papermill": {},
    "tags": []
   },
   "source": "import plotly.express as px\nimport pandas as pd",
   "outputs": []
  },
  {
   "cell_type": "markdown",
   "id": "dff71699-97cf-4199-a035-d6f883f221f2",
   "metadata": {
    "papermill": {},
    "tags": []
   },
   "source": [
    "### Setup Variables\n- `data`: a pandas dataframe containing the values to be displayed by country"
   ]
  },
  {
   "cell_type": "code",
   "execution_count": null,
   "id": "c2cb4185-2e8c-44b7-a266-988460316805",
   "metadata": {
    "papermill": {},
    "tags": []
   },
   "source": "data = pd.DataFrame(\n    {\n        \"country\": [\"USA\", \"France\", \"Germany\", \"Spain\", \"Italy\"],\n        \"value\": [100, 200, 300, 400, 500],\n    }\n)",
   "outputs": []
  },
  {
   "cell_type": "markdown",
   "id": "d49ce519-82a2-4655-80c4-cd3b6b67c018",
   "metadata": {
    "papermill": {},
    "tags": []
   },
   "source": [
    "## Model"
   ]
  },
  {
   "cell_type": "markdown",
   "id": "6cda7b2b-29a6-45f6-a8e7-f91449bb3fdd",
   "metadata": {
    "papermill": {},
    "tags": []
   },
   "source": [
    "### Display values by country in a worldmap"
   ]
  },
  {
   "cell_type": "code",
   "execution_count": null,
   "id": "8ca646b9-b5e9-4812-bdb7-33dad1af9565",
   "metadata": {
    "papermill": {},
    "tags": []
   },
   "source": "fig = px.choropleth(\n    data,\n    locations=\"country\",\n    color=\"value\",\n    hover_name=\"country\",\n    color_continuous_scale=\"Viridis\",\n)\nfig.show()",
   "outputs": []
  },
  {
   "cell_type": "markdown",
   "id": "48425174-ec0c-48c9-9a10-689a0221d229",
   "metadata": {
    "papermill": {},
    "tags": []
   },
   "source": [
    "## Output"
   ]
  },
  {
   "cell_type": "markdown",
   "id": "4062332e-6b46-42f2-b60f-2c716f32a8d9",
   "metadata": {
    "papermill": {},
    "tags": []
   },
   "source": [
    "### Display result"
   ]
  },
  {
   "cell_type": "code",
   "execution_count": null,
   "id": "c61808e6-8a15-4623-87c8-2853bd6de791",
   "metadata": {
    "papermill": {},
    "tags": []
   },
   "source": "fig.show()",
   "outputs": []
  },
  {
   "cell_type": "markdown",
   "id": "3605cbdf-70b6-499d-b87d-3e50e504e240",
   "metadata": {
    "papermill": {},
    "tags": []
   },
   "source": [
    " "
   ]
  }
 ],
 "metadata": {
  "kernelspec": {
   "display_name": "Python 3",
   "language": "python",
   "name": "python3"
  },
  "language_info": {
   "codemirror_mode": {
    "name": "ipython",
    "version": 3
   },
   "file_extension": ".py",
   "mimetype": "text/x-python",
   "name": "python",
   "nbconvert_exporter": "python",
   "pygments_lexer": "ipython3",
   "version": "3.9.6"
  },
  "widgets": {
   "application/vnd.jupyter.widget-state+json": {
    "state": {},
    "version_major": 2,
    "version_minor": 0
   }
  }
 },
 "nbformat": 4,
 "nbformat_minor": 5
}