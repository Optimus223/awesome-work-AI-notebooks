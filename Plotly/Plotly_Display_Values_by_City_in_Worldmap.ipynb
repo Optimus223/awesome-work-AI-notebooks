{
 "cells": [
  {
   "cell_type": "markdown",
   "id": "03b7c281-b2db-42b7-a3a8-567a24bf862f",
   "metadata": {
    "papermill": {},
    "tags": []
   },
   "source": [
    "<img width=\"10%\" alt=\"Naas\" src=\"https://landen.imgix.net/jtci2pxwjczr/assets/5ice39g4.png?w=160\"/>"
   ]
  },
  {
   "cell_type": "markdown",
   "id": "7698dcd2-20ba-4350-84ae-546aa4a1231b",
   "metadata": {
    "papermill": {},
    "tags": []
   },
   "source": [
    "# Plotly - Display Values by City in Worldmap"
   ]
  },
  {
   "cell_type": "markdown",
   "id": "fcb1f273-4849-4b02-9580-62389b54004d",
   "metadata": {
    "papermill": {},
    "tags": []
   },
   "source": [
    "**Tags:** #plotly #worldmap #values #city #display #python"
   ]
  },
  {
   "cell_type": "markdown",
   "id": "57d35c19-c949-431b-9bf3-6e1e771e8776",
   "metadata": {
    "papermill": {},
    "tags": []
   },
   "source": [
    "**Author:** [Florent Ravenel](https://www.linkedin.com/in/florent-ravenel/)"
   ]
  },
  {
   "cell_type": "markdown",
   "id": "61b68199-278e-4070-8b79-94de0b5409de",
   "metadata": {
    "papermill": {},
    "tags": []
   },
   "source": [
    "**Description:** This notebook will show how to display values by city in a worldmap using Plotly."
   ]
  },
  {
   "cell_type": "markdown",
   "id": "9c9cc64a-9fd1-4e33-93cf-fe193bbfd30c",
   "metadata": {
    "papermill": {},
    "tags": []
   },
   "source": [
    "**References:**\n- [Plotly Documentation](https://plotly.com/python/reference/)\n- [Plotly Choropleth Maps](https://plotly.com/python/choropleth-maps/)"
   ]
  },
  {
   "cell_type": "markdown",
   "id": "eedee3d2-210d-4241-b7c5-6ec3ee4c1dfc",
   "metadata": {
    "papermill": {},
    "tags": []
   },
   "source": [
    "## Input"
   ]
  },
  {
   "cell_type": "markdown",
   "id": "54e9af6d-2e6f-4a01-9476-a2fce4738dd6",
   "metadata": {
    "papermill": {},
    "tags": []
   },
   "source": [
    "### Import libraries"
   ]
  },
  {
   "cell_type": "code",
   "execution_count": null,
   "id": "70a8e7f3-a908-44d3-9950-c4ea7e3d9b1f",
   "metadata": {
    "papermill": {},
    "tags": []
   },
   "source": "import plotly.express as px\nimport pandas as pd",
   "outputs": []
  },
  {
   "cell_type": "markdown",
   "id": "8ed8d2d4-8cb8-46c1-bd1f-79634976f4f6",
   "metadata": {
    "papermill": {},
    "tags": []
   },
   "source": [
    "### Setup Variables\n- `data`: a pandas dataframe containing the values to be displayed by city"
   ]
  },
  {
   "cell_type": "code",
   "execution_count": null,
   "id": "8142c472-67c1-4651-a6af-4d7162740917",
   "metadata": {
    "papermill": {},
    "tags": []
   },
   "source": "data = pd.DataFrame(\n    {\n        \"city\": [\"Paris\", \"London\", \"Berlin\", \"Madrid\", \"Rome\"],\n        \"value\": [10, 20, 30, 40, 50],\n    }\n)",
   "outputs": []
  },
  {
   "cell_type": "markdown",
   "id": "74f34f79-f831-4d9b-b5a1-4952994e8390",
   "metadata": {
    "papermill": {},
    "tags": []
   },
   "source": [
    "## Model"
   ]
  },
  {
   "cell_type": "markdown",
   "id": "170a303e-7758-420b-a0c7-1cd32ff50a4a",
   "metadata": {
    "papermill": {},
    "tags": []
   },
   "source": [
    "### Display values by city in a worldmap"
   ]
  },
  {
   "cell_type": "code",
   "execution_count": null,
   "id": "d069fc24-bb79-444d-b4e5-4d8af020fec4",
   "metadata": {
    "papermill": {},
    "tags": []
   },
   "source": "fig = px.choropleth(\n    data,\n    locations=\"city\",\n    color=\"value\",\n    hover_name=\"city\",\n    color_continuous_scale=px.colors.sequential.Plasma,\n)\nfig.show()",
   "outputs": []
  },
  {
   "cell_type": "markdown",
   "id": "04d917e4-04de-42af-950d-70bc57839e82",
   "metadata": {
    "papermill": {},
    "tags": []
   },
   "source": [
    "## Output"
   ]
  },
  {
   "cell_type": "markdown",
   "id": "3bb0d026-a155-407a-8cc0-4e6be819687b",
   "metadata": {
    "papermill": {},
    "tags": []
   },
   "source": [
    "### Display result"
   ]
  },
  {
   "cell_type": "code",
   "execution_count": null,
   "id": "9e7fa713-2b1e-40e5-9deb-ce00d35199bb",
   "metadata": {
    "papermill": {},
    "tags": []
   },
   "source": "fig.show()",
   "outputs": []
  },
  {
   "cell_type": "markdown",
   "id": "90d4c139-a16b-46b2-837e-95f7dd926edd",
   "metadata": {
    "papermill": {},
    "tags": []
   },
   "source": [
    " "
   ]
  }
 ],
 "metadata": {
  "kernelspec": {
   "display_name": "Python 3",
   "language": "python",
   "name": "python3"
  },
  "language_info": {
   "codemirror_mode": {
    "name": "ipython",
    "version": 3
   },
   "file_extension": ".py",
   "mimetype": "text/x-python",
   "name": "python",
   "nbconvert_exporter": "python",
   "pygments_lexer": "ipython3",
   "version": "3.9.6"
  },
  "widgets": {
   "application/vnd.jupyter.widget-state+json": {
    "state": {},
    "version_major": 2,
    "version_minor": 0
   }
  }
 },
 "nbformat": 4,
 "nbformat_minor": 5
}