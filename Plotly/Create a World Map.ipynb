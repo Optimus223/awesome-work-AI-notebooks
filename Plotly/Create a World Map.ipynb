{
 "cells": [
  {
   "cell_type": "markdown",
   "id": "258570e7-30c0-4931-8b26-220176827b1a",
   "metadata": {
    "papermill": {},
    "tags": []
   },
   "source": [
    "<img width=\"10%\" alt=\"Naas\" src=\"https://landen.imgix.net/jtci2pxwjczr/assets/5ice39g4.png?w=160\"/>\n"
   ]
  },
  {
   "cell_type": "markdown",
   "id": "bibliographic-reach",
   "metadata": {
    "papermill": {},
    "tags": []
   },
   "source": [
    "## Plotly - Create a World Map"
   ]
  },
  {
   "cell_type": "markdown",
   "id": "91ea1e69-37f6-4eda-87d9-edb0f388e167",
   "metadata": {
    "papermill": {},
    "tags": []
   },
   "source": [
    "**Tags:** #plotly #chart #worldmap #dataviz"
   ]
  },
  {
   "cell_type": "markdown",
   "id": "considered-tanzania",
   "metadata": {
    "papermill": {},
    "tags": []
   },
   "source": [
    "## Input"
   ]
  },
  {
   "cell_type": "markdown",
   "id": "import_cell",
   "metadata": {
    "papermill": {},
    "tags": []
   },
   "source": [
    "### Import libraries"
   ]
  },
  {
   "cell_type": "code",
   "execution_count": 1,
   "id": "demographic-chess",
   "metadata": {
    "execution": {
     "iopub.execute_input": "2021-07-18T22:22:10.171041Z",
     "iopub.status.busy": "2021-07-18T22:22:10.170772Z",
     "iopub.status.idle": "2021-07-18T22:22:10.660046Z",
     "shell.execute_reply": "2021-07-18T22:22:10.659351Z",
     "shell.execute_reply.started": "2021-07-18T22:22:10.170976Z"
    },
    "papermill": {},
    "tags": []
   },
   "outputs": [],
   "source": [
    "import plotly.express as px\n",
    "import pandas as pd"
   ]
  },
  {
   "cell_type": "markdown",
   "id": "f066dfb3-d290-49f0-8f53-d51bc522bcc9",
   "metadata": {
    "papermill": {},
    "tags": []
   },
   "source": [
    "### Columns\n",
    "\n",
    "1. ISO code of country    \n",
    "2. Value"
   ]
  },
  {
   "cell_type": "code",
   "execution_count": 2,
   "id": "optical-danish",
   "metadata": {
    "execution": {
     "iopub.execute_input": "2021-07-18T22:22:13.586957Z",
     "iopub.status.busy": "2021-07-18T22:22:13.586640Z",
     "iopub.status.idle": "2021-07-18T22:22:13.804984Z",
     "shell.execute_reply": "2021-07-18T22:22:13.804380Z",
     "shell.execute_reply.started": "2021-07-18T22:22:13.586921Z"
    },
    "papermill": {},
    "tags": []
   },
   "outputs": [],
   "source": [
    "df = pd.read_csv('https://raw.githubusercontent.com/plotly/datasets/master/2014_world_gdp_with_codes.csv')"
   ]
  },
  {
   "cell_type": "markdown",
   "id": "aboriginal-imperial",
   "metadata": {
    "papermill": {},
    "tags": []
   },
   "source": [
    "### To use the built-in countries geometry, provide locations as [three-letter ISO country codes](https://en.wikipedia.org/wiki/ISO_3166-1_alpha-3)."
   ]
  },
  {
   "cell_type": "code",
   "execution_count": 3,
   "id": "universal-alcohol",
   "metadata": {
    "execution": {
     "iopub.execute_input": "2021-07-18T22:22:19.687821Z",
     "iopub.status.busy": "2021-07-18T22:22:19.687586Z",
     "iopub.status.idle": "2021-07-18T22:22:19.730224Z",
     "shell.execute_reply": "2021-07-18T22:22:19.729519Z",
     "shell.execute_reply.started": "2021-07-18T22:22:19.687798Z"
    },
    "papermill": {},
    "tags": []
   },
   "outputs": [],
   "source": [
    "df.head()"
   ]
  },
  {
   "cell_type": "markdown",
   "id": "entire-choir",
   "metadata": {
    "papermill": {},
    "tags": []
   },
   "source": [
    "## Model"
   ]
  },
  {
   "cell_type": "markdown",
   "id": "79f64417-4f51-45be-83f4-ffa432c6ff03",
   "metadata": {
    "papermill": {},
    "tags": []
   },
   "source": [
    "### Create the plot"
   ]
  },
  {
   "cell_type": "code",
   "execution_count": 4,
   "id": "desperate-decision",
   "metadata": {
    "execution": {
     "iopub.execute_input": "2021-07-18T22:22:24.430728Z",
     "iopub.status.busy": "2021-07-18T22:22:24.430497Z",
     "iopub.status.idle": "2021-07-18T22:22:25.242352Z",
     "shell.execute_reply": "2021-07-18T22:22:25.241721Z",
     "shell.execute_reply.started": "2021-07-18T22:22:24.430704Z"
    },
    "papermill": {},
    "tags": []
   },
   "outputs": [],
   "source": [
    "fig = px.choropleth(df, locations=\"CODE\", #ISO Codes\n",
    "                    color=\"GDP (BILLIONS)\", # GDP (BILLIONS) is a column \n",
    "                    hover_name=\"COUNTRY\", # column to add to hover information\n",
    "                    color_continuous_scale=px.colors.diverging.Picnic)\n"
   ]
  },
  {
   "cell_type": "markdown",
   "id": "delayed-empire",
   "metadata": {
    "papermill": {},
    "tags": []
   },
   "source": [
    "## Output"
   ]
  },
  {
   "cell_type": "markdown",
   "id": "deb33795-4cc2-489b-bf04-9be546d8c261",
   "metadata": {
    "papermill": {},
    "tags": []
   },
   "source": [
    "### Display result"
   ]
  },
  {
   "cell_type": "code",
   "execution_count": 5,
   "id": "automatic-browser",
   "metadata": {
    "execution": {
     "iopub.execute_input": "2021-07-18T22:22:34.837620Z",
     "iopub.status.busy": "2021-07-18T22:22:34.837327Z",
     "iopub.status.idle": "2021-07-18T22:22:34.989261Z",
     "shell.execute_reply": "2021-07-18T22:22:34.988568Z",
     "shell.execute_reply.started": "2021-07-18T22:22:34.837590Z"
    },
    "papermill": {},
    "tags": []
   },
   "outputs": [],
   "source": [
    "fig.show()"
   ]
  }
 ],
 "metadata": {
  "kernelspec": {
   "display_name": "Python 3",
   "language": "python",
   "name": "python3"
  },
  "language_info": {
   "codemirror_mode": {
    "name": "ipython",
    "version": 3
   },
   "file_extension": ".py",
   "mimetype": "text/x-python",
   "name": "python",
   "nbconvert_exporter": "python",
   "pygments_lexer": "ipython3",
   "version": "3.8.8"
  },
  "papermill": {
   "default_parameters": {},
   "environment_variables": {},
   "parameters": {},
   "version": "2.3.3"
  }
 },
 "nbformat": 4,
 "nbformat_minor": 5
}