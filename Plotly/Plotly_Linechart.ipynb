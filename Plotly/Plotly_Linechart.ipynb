{
 "cells": [
  {
   "cell_type": "markdown",
   "id": "f57f1078-963b-4061-bc26-a243f235b8f4",
   "metadata": {
    "papermill": {},
    "tags": []
   },
   "source": [
    "<img width=\"10%\" alt=\"Naas\" src=\"https://landen.imgix.net/jtci2pxwjczr/assets/5ice39g4.png?w=160\"/>\n"
   ]
  },
  {
   "cell_type": "markdown",
   "id": "guided-professional",
   "metadata": {
    "papermill": {},
    "tags": []
   },
   "source": [
    "# Plotly - Linechart\n",
    "<a href=\"https://app.naas.ai/user-redirect/naas/downloader?url=https://raw.githubusercontent.com/jupyter-naas/awesome-notebooks/master/Plotly/Plotly_Linechart.ipynb\" target=\"_parent\"><img src=\"https://img.shields.io/badge/-Open%20in%20Naas-success?labelColor=000000&logo=data:image/svg+xml;base64,PD94bWwgdmVyc2lvbj0iMS4wIiBlbmNvZGluZz0iVVRGLTgiPz4KPHN2ZyB3aWR0aD0iMTAyNHB4IiBoZWlnaHQ9IjEwMjRweCIgdmlld0JveD0iMCAwIDEwMjQgMTAyNCIgeG1sbnM9Imh0dHA6Ly93d3cudzMub3JnLzIwMDAvc3ZnIiB4bWxuczp4bGluaz0iaHR0cDovL3d3dy53My5vcmcvMTk5OS94bGluayIgdmVyc2lvbj0iMS4xIj4KIDwhLS0gR2VuZXJhdGVkIGJ5IFBpeGVsbWF0b3IgUHJvIDIuMC41IC0tPgogPGRlZnM+CiAgPHRleHQgaWQ9InN0cmluZyIgdHJhbnNmb3JtPSJtYXRyaXgoMS4wIDAuMCAwLjAgMS4wIDIyOC4wIDU0LjUpIiBmb250LWZhbWlseT0iQ29tZm9ydGFhLVJlZ3VsYXIsIENvbWZvcnRhYSIgZm9udC1zaXplPSI4MDAiIHRleHQtZGVjb3JhdGlvbj0ibm9uZSIgZmlsbD0iI2ZmZmZmZiIgeD0iMS4xOTk5OTk5OTk5OTk5ODg2IiB5PSI3MDUuMCI+bjwvdGV4dD4KIDwvZGVmcz4KIDx1c2UgaWQ9Im4iIHhsaW5rOmhyZWY9IiNzdHJpbmciLz4KPC9zdmc+Cg==\"/></a>"
   ]
  },
  {
   "cell_type": "markdown",
   "id": "7eee78c7-9df5-417a-be46-c5db68584304",
   "metadata": {
    "papermill": {},
    "tags": []
   },
   "source": [
    "**Tags:** #plotly #chart #linechart #trend #dataviz"
   ]
  },
  {
   "cell_type": "markdown",
   "id": "comfortable-surveillance",
   "metadata": {
    "papermill": {},
    "tags": []
   },
   "source": [
    "Learn more on the Plotly doc : https://plotly.com/python/line-charts/"
   ]
  },
  {
   "cell_type": "markdown",
   "id": "input_cell",
   "metadata": {
    "papermill": {},
    "tags": []
   },
   "source": [
    "## Input"
   ]
  },
  {
   "cell_type": "markdown",
   "id": "import_cell",
   "metadata": {
    "papermill": {},
    "tags": []
   },
   "source": [
    "### Import library"
   ]
  },
  {
   "cell_type": "code",
   "execution_count": 1,
   "id": "e0a613e8-5101-452f-92f9-681e22f1b7e1",
   "metadata": {
    "execution": {
     "iopub.execute_input": "2021-10-28T15:15:32.646065Z",
     "iopub.status.busy": "2021-10-28T15:15:32.645800Z",
     "iopub.status.idle": "2021-10-28T15:15:41.105545Z",
     "shell.execute_reply": "2021-10-28T15:15:41.104755Z",
     "shell.execute_reply.started": "2021-10-28T15:15:32.645996Z"
    },
    "papermill": {},
    "tags": []
   },
   "outputs": [],
   "source": [
    "import naas\n",
    "from naas_drivers import yahoofinance, plotly\n",
    "import plotly.express as px"
   ]
  },
  {
   "cell_type": "markdown",
   "id": "6efd3f4d-16ef-4cfb-b692-c3b7f68ef08c",
   "metadata": {
    "papermill": {},
    "tags": []
   },
   "source": [
    "### Variables"
   ]
  },
  {
   "cell_type": "code",
   "execution_count": 2,
   "id": "8a2852c2-b877-40da-9874-51471a901011",
   "metadata": {
    "execution": {
     "iopub.execute_input": "2021-10-28T15:15:55.005917Z",
     "iopub.status.busy": "2021-10-28T15:15:55.005684Z",
     "iopub.status.idle": "2021-10-28T15:15:55.010389Z",
     "shell.execute_reply": "2021-10-28T15:15:55.009851Z",
     "shell.execute_reply.started": "2021-10-28T15:15:55.005892Z"
    },
    "papermill": {},
    "tags": []
   },
   "outputs": [],
   "source": [
    "title = \"Linechart\""
   ]
  },
  {
   "cell_type": "markdown",
   "id": "dfdfdf6e-6f58-4b8d-a091-3757f90f927e",
   "metadata": {
    "papermill": {},
    "tags": []
   },
   "source": [
    "### Get dataset"
   ]
  },
  {
   "cell_type": "code",
   "execution_count": 3,
   "id": "df1b2abb-285e-41a5-bd2f-59006ac265cd",
   "metadata": {
    "execution": {
     "iopub.execute_input": "2021-10-28T15:15:56.690762Z",
     "iopub.status.busy": "2021-10-28T15:15:56.690538Z",
     "iopub.status.idle": "2021-10-28T15:15:56.810958Z",
     "shell.execute_reply": "2021-10-28T15:15:56.810389Z",
     "shell.execute_reply.started": "2021-10-28T15:15:56.690740Z"
    },
    "papermill": {},
    "tags": []
   },
   "outputs": [],
   "source": [
    "date_from = -360 # Date can be number or date or today\n",
    "date_to = \"today\"\n",
    "df = yahoofinance.get(\"TSLA\", date_from=date_from, date_to=date_to)\n",
    "df"
   ]
  },
  {
   "cell_type": "markdown",
   "id": "model_cell",
   "metadata": {
    "papermill": {},
    "tags": []
   },
   "source": [
    "## Model"
   ]
  },
  {
   "cell_type": "markdown",
   "id": "175f27e5-26e8-4966-b62a-033db43d1db3",
   "metadata": {
    "papermill": {},
    "tags": []
   },
   "source": [
    "### Create the plot"
   ]
  },
  {
   "cell_type": "code",
   "execution_count": 6,
   "id": "arctic-portal",
   "metadata": {
    "execution": {
     "iopub.execute_input": "2021-10-28T15:19:44.456972Z",
     "iopub.status.busy": "2021-10-28T15:19:44.456733Z",
     "iopub.status.idle": "2021-10-28T15:19:44.550786Z",
     "shell.execute_reply": "2021-10-28T15:19:44.550213Z",
     "shell.execute_reply.started": "2021-10-28T15:19:44.456950Z"
    },
    "papermill": {},
    "tags": []
   },
   "outputs": [],
   "source": [
    "fig = px.line(df, x=\"Date\", y=[\"Open\", \"Close\"])\n",
    "\n",
    "fig.update_layout(\n",
    "    title=title ,\n",
    "    plot_bgcolor=\"#ffffff\",\n",
    "    width=None,\n",
    "    height=600,\n",
    "    showlegend=False,\n",
    "    xaxis_showline=True,\n",
    "    xaxis_showgrid=False,\n",
    "    xaxis_showticklabels=True,\n",
    "    xaxis_ticks='inside',\n",
    "    yaxis_title='Price in $',\n",
    "    yaxis_titlefont_size=16,\n",
    "    yaxis_tickfont_size=14\n",
    ")\n",
    "\n",
    "config = {'displayModeBar': False}\n",
    "fig.show(config=config)"
   ]
  },
  {
   "cell_type": "markdown",
   "id": "49e05eda-89bc-4f04-b711-0a667ae23912",
   "metadata": {
    "papermill": {},
    "tags": []
   },
   "source": [
    "### Create function"
   ]
  },
  {
   "cell_type": "code",
   "execution_count": 7,
   "id": "db14abcf-2f5d-48e4-9609-bd707bf2e54a",
   "metadata": {
    "execution": {
     "iopub.execute_input": "2021-10-28T15:24:32.570563Z",
     "iopub.status.busy": "2021-10-28T15:24:32.570330Z",
     "iopub.status.idle": "2021-10-28T15:24:32.642617Z",
     "shell.execute_reply": "2021-10-28T15:24:32.642047Z",
     "shell.execute_reply.started": "2021-10-28T15:24:32.570539Z"
    },
    "papermill": {},
    "tags": []
   },
   "outputs": [],
   "source": [
    "import plotly.express as px\n",
    "\n",
    "config = {'displayModeBar': False}\n",
    "\n",
    "def update_layout(fig,\n",
    "                  title=None,\n",
    "                  plot_bgcolor=None,\n",
    "                  width=None,\n",
    "                  height=None,\n",
    "                  showlegend=None,\n",
    "                  xaxis_title=None,\n",
    "                  yaxis_title=None):\n",
    "    fig.update_layout(title=title,\n",
    "                      plot_bgcolor=plot_bgcolor,\n",
    "                      width=width,\n",
    "                      height=height,\n",
    "                      showlegend=showlegend,\n",
    "                      xaxis_title=xaxis_title,\n",
    "                      yaxis_title=yaxis_title)\n",
    "    return fig\n",
    "\n",
    "def linechart(df,\n",
    "              x,\n",
    "              y,\n",
    "              title=None,\n",
    "              plot_bgcolor=\"#ffffff\",\n",
    "              width=None,\n",
    "              height=600,\n",
    "              showlegend=False,\n",
    "              xaxis_title=None,\n",
    "              yaxis_title=None):\n",
    "    fig = px.line(df, x, y)\n",
    "    fig = update_layout(fig,\n",
    "                        title,\n",
    "                        plot_bgcolor,\n",
    "                        width,\n",
    "                        height,\n",
    "                        showlegend,\n",
    "                        xaxis_title,\n",
    "                        yaxis_title)\n",
    "    fig.show(config=config)\n",
    "    return fig\n",
    "\n",
    "fig = linechart(df, x=\"Date\", y=[\"Open\", \"Close\"], title=title, yaxis_title=\"Price in $\")"
   ]
  },
  {
   "cell_type": "markdown",
   "id": "output_cell",
   "metadata": {
    "papermill": {},
    "tags": []
   },
   "source": [
    "## Output"
   ]
  },
  {
   "cell_type": "markdown",
   "id": "babcff36-13a0-4017-9fbf-a77b31f19bf5",
   "metadata": {
    "papermill": {},
    "tags": []
   },
   "source": [
    "### Export in PNG and HTML"
   ]
  },
  {
   "cell_type": "code",
   "execution_count": null,
   "id": "bf8950da-60a6-4509-922e-1baa52da1a87",
   "metadata": {
    "papermill": {},
    "tags": []
   },
   "outputs": [],
   "source": [
    "plotly.export(fig, f\"{title}.png\", css=None)\n",
    "plotly.export(fig, f\"{title}.html\", css=None)"
   ]
  },
  {
   "cell_type": "markdown",
   "id": "f79e6287-f797-41b6-8e07-307897779f18",
   "metadata": {
    "papermill": {},
    "tags": []
   },
   "source": [
    "### Generate shareable assets"
   ]
  },
  {
   "cell_type": "code",
   "execution_count": null,
   "id": "321d17ff-c776-49b7-a669-37fed69ee2fa",
   "metadata": {
    "papermill": {},
    "tags": []
   },
   "outputs": [],
   "source": [
    "link_image = naas.asset.add(f\"{title}.png\")\n",
    "link_html = naas.asset.add(f\"{title}.html\", {\"inline\":True})"
   ]
  }
 ],
 "metadata": {
  "kernelspec": {
   "display_name": "Python 3",
   "language": "python",
   "name": "python3"
  },
  "language_info": {
   "codemirror_mode": {
    "name": "ipython",
    "version": 3
   },
   "file_extension": ".py",
   "mimetype": "text/x-python",
   "name": "python",
   "nbconvert_exporter": "python",
   "pygments_lexer": "ipython3",
   "version": "3.8.8"
  },
  "papermill": {
   "default_parameters": {},
   "environment_variables": {},
   "parameters": {},
   "version": "2.3.3"
  },
  "widgets": {
   "application/vnd.jupyter.widget-state+json": {
    "state": {},
    "version_major": 2,
    "version_minor": 0
   }
  }
 },
 "nbformat": 4,
 "nbformat_minor": 5
}