{
 "cells": [
  {
   "cell_type": "markdown",
   "id": "naas-logo",
   "metadata": {
    "papermill": {},
    "tags": [
     "naas"
    ]
   },
   "source": [
    "<img width=\"10%\" alt=\"Naas\" src=\"https://landen.imgix.net/jtci2pxwjczr/assets/5ice39g4.png?w=160\"/>"
   ]
  },
  {
   "cell_type": "markdown",
   "id": "f46461a1-a2be-4baf-925e-751c1feca15d",
   "metadata": {
    "execution": {
     "iopub.execute_input": "2021-10-16T17:13:12.744615Z",
     "iopub.status.busy": "2021-10-16T17:13:12.744389Z",
     "iopub.status.idle": "2021-10-16T17:13:12.747431Z",
     "shell.execute_reply": "2021-10-16T17:13:12.746699Z",
     "shell.execute_reply.started": "2021-10-16T17:13:12.744592Z"
    },
    "papermill": {},
    "tags": []
   },
   "source": [
    "# Plotly - Create Vertical Barchart group\n",
    "<a href=\"https://app.naas.ai/user-redirect/naas/downloader?url=https://raw.githubusercontent.com/jupyter-naas/awesome-notebooks/master/Plotly/Plotly_Create_Vertical_Barchart_group.ipynb\" target=\"_parent\"><img src=\"https://naasai-public.s3.eu-west-3.amazonaws.com/open_in_naas.svg\"/></a><br><br><a href=\"https://github.com/jupyter-naas/awesome-notebooks/issues/new?assignees=&labels=&template=template-request.md&title=Tool+-+Action+of+the+notebook+\">Template request</a> | <a href=\"https://github.com/jupyter-naas/awesome-notebooks/issues/new?assignees=&labels=bug&template=bug_report.md&title=Plotly+-+Create+Vertical+Barchart+group:+Error+short+description\">Bug report</a>"
   ]
  },
  {
   "cell_type": "markdown",
   "id": "7df4bbf3-8007-4a65-bd30-7b1ef3f55010",
   "metadata": {
    "papermill": {},
    "tags": []
   },
   "source": [
    "**Tags:** #plotly #chart #verticalbarchart #group #dataviz #snippet #operations #image #html"
   ]
  },
  {
   "cell_type": "markdown",
   "id": "naas-author",
   "metadata": {
    "papermill": {},
    "tags": [
     "naas"
    ]
   },
   "source": [
    "**Author:** [Florent Ravenel](https://www.linkedin.com/in/ACoAABCNSioBW3YZHc2lBHVG0E_TXYWitQkmwog/)"
   ]
  },
  {
   "cell_type": "markdown",
   "id": "685f8370-93a9-4959-9f28-611b74fd7bb1",
   "metadata": {
    "papermill": {},
    "tags": []
   },
   "source": [
    "## Input"
   ]
  },
  {
   "cell_type": "markdown",
   "id": "10bb05b6-2e47-494d-8b0f-70c3772817a0",
   "metadata": {
    "papermill": {},
    "tags": []
   },
   "source": [
    "### Import libraries"
   ]
  },
  {
   "cell_type": "code",
   "execution_count": null,
   "id": "0caafda9-b5df-495a-95dd-34369b6ac5b0",
   "metadata": {
    "papermill": {},
    "tags": []
   },
   "outputs": [],
   "source": [
    "import naas\n",
    "import plotly.graph_objects as go\n",
    "import pandas as pd"
   ]
  },
  {
   "cell_type": "markdown",
   "id": "b69c016b-6c68-4ab5-a95f-f1459915e87b",
   "metadata": {
    "papermill": {},
    "tags": []
   },
   "source": [
    "### Variables"
   ]
  },
  {
   "cell_type": "code",
   "execution_count": null,
   "id": "08af88b3-38ae-42b3-8752-c451523ba1a1",
   "metadata": {
    "papermill": {},
    "tags": []
   },
   "outputs": [],
   "source": [
    "title = \"Sales Evolution (group)\"\n",
    "\n",
    "# Output paths\n",
    "output_image = f\"{title}.png\"\n",
    "output_html = f\"{title}.html\""
   ]
  },
  {
   "cell_type": "markdown",
   "id": "cc9ce021-5146-4904-b34f-e8ca02c1409b",
   "metadata": {
    "papermill": {},
    "tags": []
   },
   "source": [
    "### Get data"
   ]
  },
  {
   "cell_type": "code",
   "execution_count": null,
   "id": "efbe194c-f7f1-44e8-bce7-93a513d1bdb8",
   "metadata": {
    "papermill": {},
    "tags": []
   },
   "outputs": [],
   "source": [
    "x_axis = [1995, 1996, 1997, 1998, 1999, 2000, 2001, 2002, 2003, 2004, 2005, 2006, 2007, 2008, 2009, 2010, 2011, 2012]\n",
    "y_axis_value1 = [219, 146, 112, 127, 124, 180, 236, 207, 236, 263, 350, 430, 474, 526, 488, 537, 500, 439]\n",
    "y_axis_value2 = [16, 13, 10, 11, 28, 37, 43, 55, 56, 88, 105, 156, 270, 299, 340, 403, 549, 499]\n",
    "\n",
    "df1 = pd.DataFrame(zip(x_axis, y_axis_value1), columns=[\"LABEL\", \"VALUE\"])\n",
    "df1[\"GROUPS\"] = \"USA\"\n",
    "\n",
    "df2 = pd.DataFrame(zip(x_axis, y_axis_value2), columns=[\"LABEL\", \"VALUE\"])\n",
    "df2[\"GROUPS\"] = \"Rest of world\"\n",
    "\n",
    "df = pd.concat([df1, df2])\n",
    "df"
   ]
  },
  {
   "cell_type": "markdown",
   "id": "7509f24b-b03b-40f9-9422-a87dc1069d5d",
   "metadata": {
    "papermill": {},
    "tags": []
   },
   "source": [
    "## Model"
   ]
  },
  {
   "cell_type": "markdown",
   "id": "39405a7e-525e-4ac7-aaf1-87438aaeb85b",
   "metadata": {
    "papermill": {},
    "tags": []
   },
   "source": [
    "### Create Vertical Barchart stacked"
   ]
  },
  {
   "cell_type": "code",
   "execution_count": null,
   "id": "1180682c-b520-4cf1-8324-1f756039f52b",
   "metadata": {
    "papermill": {},
    "tags": []
   },
   "outputs": [],
   "source": [
    "def create_barchart(df, label, groups, value, title):\n",
    "    fig = go.Figure()\n",
    "    \n",
    "    list_groups = df[groups].unique()\n",
    "    for group in list_groups:\n",
    "        tmp_df = df[df[groups] == group]\n",
    "        fig.add_trace(go.Bar(x=tmp_df[label],\n",
    "                             y=tmp_df[value],\n",
    "                             name=group))\n",
    "    fig.update_layout(\n",
    "        title=title ,\n",
    "        plot_bgcolor=\"#ffffff\",\n",
    "        width=1200,\n",
    "        height=800,\n",
    "        xaxis_tickfont_size=14,\n",
    "        legend=dict(\n",
    "            bgcolor='white',\n",
    "            bordercolor='white'\n",
    "        ),\n",
    "        barmode='group',\n",
    "        bargap=0.1, # gap between bars of adjacent location coordinates.\n",
    "        bargroupgap=0.1 # gap between bars of the same location coordinate.\n",
    "    )\n",
    "    config = {'displayModeBar': False}\n",
    "    fig.show(config=config)\n",
    "    return df\n",
    "\n",
    "fig = create_barchart(df, label=\"LABEL\", groups=\"GROUPS\", value=\"VALUE\", title=title)"
   ]
  },
  {
   "cell_type": "markdown",
   "id": "fa96ad4c-13d6-4410-a64a-915a713bcab0",
   "metadata": {
    "papermill": {},
    "tags": []
   },
   "source": [
    "## Output"
   ]
  },
  {
   "cell_type": "markdown",
   "id": "80810632-32d7-4396-adcc-27263b8124ba",
   "metadata": {
    "papermill": {},
    "tags": []
   },
   "source": [
    "### Export in PNG and HTML"
   ]
  },
  {
   "cell_type": "code",
   "execution_count": null,
   "id": "f1e1caae-edf8-4349-87be-870c0860c4f1",
   "metadata": {
    "papermill": {},
    "tags": []
   },
   "outputs": [],
   "source": [
    "fig.write_image(output_image, width=1200)\n",
    "fig.write_html(output_html)"
   ]
  },
  {
   "cell_type": "markdown",
   "id": "0c90bc56-7ad6-41b5-8380-529dcd71eda3",
   "metadata": {
    "papermill": {},
    "tags": []
   },
   "source": [
    "### Generate shareable assets"
   ]
  },
  {
   "cell_type": "code",
   "execution_count": null,
   "id": "993f934f-b551-4981-a884-a6be636d8a90",
   "metadata": {
    "papermill": {},
    "tags": []
   },
   "outputs": [],
   "source": [
    "link_image = naas.asset.add(output_image)\n",
    "link_html = naas.asset.add(output_html, {\"inline\":True})\n",
    "\n",
    "#-> Uncomment the line below to remove your assets\n",
    "# naas.asset.delete(output_image)\n",
    "# naas.asset.delete(output_html)"
   ]
  }
 ],
 "metadata": {
  "kernelspec": {
   "display_name": "Python 3",
   "language": "python",
   "name": "python3"
  },
  "language_info": {
   "codemirror_mode": {
    "name": "ipython",
    "version": 3
   },
   "file_extension": ".py",
   "mimetype": "text/x-python",
   "name": "python",
   "nbconvert_exporter": "python",
   "pygments_lexer": "ipython3",
   "version": "3.8.8"
  },
  "naas": {
   "notebook_id": "af492925-3eae-4e5f-b33d-936567fda5d7",
   "notebook_path": "Plotly/Plotly_Create_Vertical_Barchart_group.ipynb"
  },
  "papermill": {
   "default_parameters": {},
   "environment_variables": {},
   "parameters": {},
   "version": "2.3.3"
  },
  "widgets": {
   "application/vnd.jupyter.widget-state+json": {
    "state": {},
    "version_major": 2,
    "version_minor": 0
   }
  }
 },
 "nbformat": 4,
 "nbformat_minor": 5
}