{
 "cells": [
  {
   "cell_type": "markdown",
   "id": "f57f1078-963b-4061-bc26-a243f235b8f4",
   "metadata": {
    "papermill": {},
    "tags": []
   },
   "source": [
    "<img width=\"10%\" alt=\"Naas\" src=\"https://landen.imgix.net/jtci2pxwjczr/assets/5ice39g4.png?w=160\"/>\n"
   ]
  },
  {
   "cell_type": "markdown",
   "id": "guided-professional",
   "metadata": {
    "papermill": {},
    "tags": []
   },
   "source": [
    "# Plotly - Linechart driver\n",
    "<a href=\"https://app.naas.ai/user-redirect/naas/downloader?url=https://raw.githubusercontent.com/jupyter-naas/awesome-notebooks/master/Plotly/Plotly_Linechart_driver.ipynb\" target=\"_parent\"><img src=\"https://img.shields.io/badge/-Open%20in%20Naas-success?labelColor=000000&logo=data:image/svg+xml;base64,PD94bWwgdmVyc2lvbj0iMS4wIiBlbmNvZGluZz0iVVRGLTgiPz4KPHN2ZyB3aWR0aD0iMTAyNHB4IiBoZWlnaHQ9IjEwMjRweCIgdmlld0JveD0iMCAwIDEwMjQgMTAyNCIgeG1sbnM9Imh0dHA6Ly93d3cudzMub3JnLzIwMDAvc3ZnIiB4bWxuczp4bGluaz0iaHR0cDovL3d3dy53My5vcmcvMTk5OS94bGluayIgdmVyc2lvbj0iMS4xIj4KIDwhLS0gR2VuZXJhdGVkIGJ5IFBpeGVsbWF0b3IgUHJvIDIuMC41IC0tPgogPGRlZnM+CiAgPHRleHQgaWQ9InN0cmluZyIgdHJhbnNmb3JtPSJtYXRyaXgoMS4wIDAuMCAwLjAgMS4wIDIyOC4wIDU0LjUpIiBmb250LWZhbWlseT0iQ29tZm9ydGFhLVJlZ3VsYXIsIENvbWZvcnRhYSIgZm9udC1zaXplPSI4MDAiIHRleHQtZGVjb3JhdGlvbj0ibm9uZSIgZmlsbD0iI2ZmZmZmZiIgeD0iMS4xOTk5OTk5OTk5OTk5ODg2IiB5PSI3MDUuMCI+bjwvdGV4dD4KIDwvZGVmcz4KIDx1c2UgaWQ9Im4iIHhsaW5rOmhyZWY9IiNzdHJpbmciLz4KPC9zdmc+Cg==\"/></a>"
   ]
  },
  {
   "cell_type": "markdown",
   "id": "7eee78c7-9df5-417a-be46-c5db68584304",
   "metadata": {
    "papermill": {},
    "tags": []
   },
   "source": [
    "**Tags:** #plotly #chart #linechart #trend #dataviz"
   ]
  },
  {
   "cell_type": "markdown",
   "id": "comfortable-surveillance",
   "metadata": {
    "papermill": {},
    "tags": []
   },
   "source": [
    "Learn more on the Plotly doc : https://plotly.com/python/line-charts/"
   ]
  },
  {
   "cell_type": "markdown",
   "id": "input_cell",
   "metadata": {
    "papermill": {},
    "tags": []
   },
   "source": [
    "## Input"
   ]
  },
  {
   "cell_type": "markdown",
   "id": "import_cell",
   "metadata": {
    "papermill": {},
    "tags": []
   },
   "source": [
    "### Import library"
   ]
  },
  {
   "cell_type": "code",
   "execution_count": 1,
   "id": "e0a613e8-5101-452f-92f9-681e22f1b7e1",
   "metadata": {
    "execution": {
     "iopub.execute_input": "2021-10-28T15:30:10.649633Z",
     "iopub.status.busy": "2021-10-28T15:30:10.649099Z",
     "iopub.status.idle": "2021-10-28T15:30:22.462773Z",
     "shell.execute_reply": "2021-10-28T15:30:22.462162Z",
     "shell.execute_reply.started": "2021-10-28T15:30:10.649551Z"
    },
    "papermill": {},
    "tags": []
   },
   "outputs": [],
   "source": [
    "import naas\n",
    "from naas_drivers import yahoofinance\n",
    "from plotly_driver import Plotly\n",
    "plotly = Plotly()"
   ]
  },
  {
   "cell_type": "markdown",
   "id": "eb3c6450-8496-479e-9786-443a4184f06d",
   "metadata": {
    "papermill": {},
    "tags": []
   },
   "source": [
    "### Variables"
   ]
  },
  {
   "cell_type": "code",
   "execution_count": 2,
   "id": "6d3b2679-a726-43a7-ab7a-e9fc79b6c0f2",
   "metadata": {
    "execution": {
     "iopub.execute_input": "2021-10-28T15:30:22.466291Z",
     "iopub.status.busy": "2021-10-28T15:30:22.464945Z",
     "iopub.status.idle": "2021-10-28T15:30:22.469249Z",
     "shell.execute_reply": "2021-10-28T15:30:22.468693Z",
     "shell.execute_reply.started": "2021-10-28T15:30:22.466256Z"
    },
    "papermill": {},
    "tags": []
   },
   "outputs": [],
   "source": [
    "title = \"Linechart\""
   ]
  },
  {
   "cell_type": "markdown",
   "id": "dfdfdf6e-6f58-4b8d-a091-3757f90f927e",
   "metadata": {
    "papermill": {},
    "tags": []
   },
   "source": [
    "### Get dataset"
   ]
  },
  {
   "cell_type": "code",
   "execution_count": 3,
   "id": "df1b2abb-285e-41a5-bd2f-59006ac265cd",
   "metadata": {
    "execution": {
     "iopub.execute_input": "2021-10-28T15:30:22.470442Z",
     "iopub.status.busy": "2021-10-28T15:30:22.470230Z",
     "iopub.status.idle": "2021-10-28T15:30:22.831536Z",
     "shell.execute_reply": "2021-10-28T15:30:22.830980Z",
     "shell.execute_reply.started": "2021-10-28T15:30:22.470416Z"
    },
    "papermill": {},
    "tags": []
   },
   "outputs": [],
   "source": [
    "date_from = -360 # Date can be number or date or today\n",
    "date_to = \"today\"\n",
    "df = yahoofinance.get(\"TSLA\",\n",
    "                      date_from=date_from,\n",
    "                      date_to=date_to)\n",
    "df"
   ]
  },
  {
   "cell_type": "markdown",
   "id": "model_cell",
   "metadata": {
    "papermill": {},
    "tags": []
   },
   "source": [
    "## Model"
   ]
  },
  {
   "cell_type": "code",
   "execution_count": 4,
   "id": "db14abcf-2f5d-48e4-9609-bd707bf2e54a",
   "metadata": {
    "execution": {
     "iopub.execute_input": "2021-10-28T15:30:27.210823Z",
     "iopub.status.busy": "2021-10-28T15:30:27.210591Z",
     "iopub.status.idle": "2021-10-28T15:30:28.239046Z",
     "shell.execute_reply": "2021-10-28T15:30:28.237289Z",
     "shell.execute_reply.started": "2021-10-28T15:30:27.210800Z"
    },
    "papermill": {},
    "tags": []
   },
   "outputs": [],
   "source": [
    "fig = plotly.linechart(df,\n",
    "                       x=\"Date\",\n",
    "                       y=[\"Open\", \"Close\"],\n",
    "                       title=title,\n",
    "                       yaxis_title=\"Price in $\")"
   ]
  },
  {
   "cell_type": "markdown",
   "id": "output_cell",
   "metadata": {
    "papermill": {},
    "tags": []
   },
   "source": [
    "## Output"
   ]
  },
  {
   "cell_type": "markdown",
   "id": "45273673-9ace-4893-9e5c-4c42b7a176f4",
   "metadata": {
    "papermill": {},
    "tags": []
   },
   "source": [
    "### Export in PNG and HTML"
   ]
  },
  {
   "cell_type": "code",
   "execution_count": 5,
   "id": "53790299-a860-4b00-ab0a-3387a85ea0a8",
   "metadata": {
    "execution": {
     "iopub.execute_input": "2021-10-28T11:05:30.883941Z",
     "iopub.status.busy": "2021-10-28T11:05:30.883662Z",
     "iopub.status.idle": "2021-10-28T11:05:40.805113Z",
     "shell.execute_reply": "2021-10-28T11:05:40.804531Z",
     "shell.execute_reply.started": "2021-10-28T11:05:30.883916Z"
    },
    "papermill": {},
    "tags": []
   },
   "outputs": [],
   "source": [
    "plotly.export(fig, f\"{title}.png\", css=None)\n",
    "plotly.export(fig, f\"{title}.html\", css=None)"
   ]
  },
  {
   "cell_type": "markdown",
   "id": "2a36693d-7089-4a0c-a62a-7d1698050fb0",
   "metadata": {
    "papermill": {},
    "tags": []
   },
   "source": [
    "### Generate shareable assets"
   ]
  },
  {
   "cell_type": "code",
   "execution_count": 6,
   "id": "3f4d17bb-960b-4f35-91b6-616da648c5da",
   "metadata": {
    "execution": {
     "iopub.execute_input": "2021-10-28T11:05:40.807681Z",
     "iopub.status.busy": "2021-10-28T11:05:40.807461Z",
     "iopub.status.idle": "2021-10-28T11:05:42.158289Z",
     "shell.execute_reply": "2021-10-28T11:05:42.157682Z",
     "shell.execute_reply.started": "2021-10-28T11:05:40.807659Z"
    },
    "papermill": {},
    "tags": []
   },
   "outputs": [],
   "source": [
    "link_image = naas.asset.add(f\"{title}.png\")\n",
    "link_html = naas.asset.add(f\"{title}.html\", {\"inline\":True})"
   ]
  },
  {
   "cell_type": "code",
   "execution_count": null,
   "id": "06f3b470-4f3c-407d-b010-8c9ffc2c7e53",
   "metadata": {
    "papermill": {},
    "tags": []
   },
   "outputs": [],
   "source": []
  }
 ],
 "metadata": {
  "kernelspec": {
   "display_name": "Python 3",
   "language": "python",
   "name": "python3"
  },
  "language_info": {
   "codemirror_mode": {
    "name": "ipython",
    "version": 3
   },
   "file_extension": ".py",
   "mimetype": "text/x-python",
   "name": "python",
   "nbconvert_exporter": "python",
   "pygments_lexer": "ipython3",
   "version": "3.8.8"
  },
  "papermill": {
   "default_parameters": {},
   "environment_variables": {},
   "parameters": {},
   "version": "2.3.3"
  },
  "widgets": {
   "application/vnd.jupyter.widget-state+json": {
    "state": {},
    "version_major": 2,
    "version_minor": 0
   }
  }
 },
 "nbformat": 4,
 "nbformat_minor": 5
}