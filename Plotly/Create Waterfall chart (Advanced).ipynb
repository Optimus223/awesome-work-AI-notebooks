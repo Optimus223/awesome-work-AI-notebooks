{
 "cells": [
  {
   "cell_type": "markdown",
   "id": "f3009d0e-3d28-486a-a45b-0aa390832e52",
   "metadata": {},
   "source": [
    "<img width=\"10%\" alt=\"Naas\" src=\"https://landen.imgix.net/jtci2pxwjczr/assets/5ice39g4.png?w=160\"/>\n"
   ]
  },
  {
   "cell_type": "markdown",
   "id": "continuing-pioneer",
   "metadata": {
    "papermill": {},
    "tags": []
   },
   "source": [
    "# Plotly - Create Waterfall chart (Advanced)\n",
    "<a href=\"https://app.naas.ai/user-redirect/naas/downloader?url=https://raw.githubusercontent.com/jupyter-naas/awesome-notebooks/master/Plotly/Create%20Waterfall%20chart%20%28Advanced%29.ipynb\" target=\"_parent\"><img src=\"https://img.shields.io/badge/-Open%20in%20Naas-success?labelColor=000000&logo=data:image/svg+xml;base64,PD94bWwgdmVyc2lvbj0iMS4wIiBlbmNvZGluZz0iVVRGLTgiPz4KPHN2ZyB3aWR0aD0iMTAyNHB4IiBoZWlnaHQ9IjEwMjRweCIgdmlld0JveD0iMCAwIDEwMjQgMTAyNCIgeG1sbnM9Imh0dHA6Ly93d3cudzMub3JnLzIwMDAvc3ZnIiB4bWxuczp4bGluaz0iaHR0cDovL3d3dy53My5vcmcvMTk5OS94bGluayIgdmVyc2lvbj0iMS4xIj4KIDwhLS0gR2VuZXJhdGVkIGJ5IFBpeGVsbWF0b3IgUHJvIDIuMC41IC0tPgogPGRlZnM+CiAgPHRleHQgaWQ9InN0cmluZyIgdHJhbnNmb3JtPSJtYXRyaXgoMS4wIDAuMCAwLjAgMS4wIDIyOC4wIDU0LjUpIiBmb250LWZhbWlseT0iQ29tZm9ydGFhLVJlZ3VsYXIsIENvbWZvcnRhYSIgZm9udC1zaXplPSI4MDAiIHRleHQtZGVjb3JhdGlvbj0ibm9uZSIgZmlsbD0iI2ZmZmZmZiIgeD0iMS4xOTk5OTk5OTk5OTk5ODg2IiB5PSI3MDUuMCI+bjwvdGV4dD4KIDwvZGVmcz4KIDx1c2UgaWQ9Im4iIHhsaW5rOmhyZWY9IiNzdHJpbmciLz4KPC9zdmc+Cg==\"/></a>"
   ]
  },
  {
   "cell_type": "markdown",
   "id": "d5a217ea-e554-474a-9c7b-2c9782c7104f",
   "metadata": {},
   "source": [
    "**Tags:** #plotly #chart #warterfall #dataviz"
   ]
  },
  {
   "cell_type": "markdown",
   "id": "input_cell",
   "metadata": {
    "papermill": {},
    "tags": []
   },
   "source": [
    "## Input"
   ]
  },
  {
   "cell_type": "markdown",
   "id": "3db7b1f3-7b95-47cb-a744-637f50c8d534",
   "metadata": {},
   "source": [
    "### Install packages"
   ]
  },
  {
   "cell_type": "code",
   "execution_count": 4,
   "id": "featured-nitrogen",
   "metadata": {
    "papermill": {},
    "tags": []
   },
   "outputs": [],
   "source": [
    "!pip install numpy\n",
    "!pip install matplotlib"
   ]
  },
  {
   "cell_type": "markdown",
   "id": "import_cell",
   "metadata": {
    "papermill": {},
    "tags": []
   },
   "source": [
    "### Import library"
   ]
  },
  {
   "cell_type": "code",
   "execution_count": null,
   "id": "349da579-e86d-4c4a-ac9f-fad6145f8061",
   "metadata": {},
   "outputs": [],
   "source": [
    "import numpy as np\n",
    "import pandas as pd\n",
    "import matplotlib.pyplot as plt\n",
    "from matplotlib.ticker import FuncFormatter"
   ]
  },
  {
   "cell_type": "markdown",
   "id": "model_cell",
   "metadata": {
    "papermill": {},
    "tags": []
   },
   "source": [
    "## Model"
   ]
  },
  {
   "cell_type": "markdown",
   "id": "ef3c71fb-a46f-4216-978f-1b7fe0667bfd",
   "metadata": {},
   "source": [
    "### Create the waterfall chart"
   ]
  },
  {
   "cell_type": "code",
   "execution_count": 11,
   "id": "devoted-negotiation",
   "metadata": {
    "papermill": {},
    "tags": []
   },
   "outputs": [],
   "source": [
    "#Use python 2.7+ syntax to format currency\n",
    "def money(x, pos):\n",
    "    'The two args are the value and tick position'\n",
    "    return \"${:,.0f}\".format(x)\n",
    "formatter = FuncFormatter(money)\n",
    "\n",
    "#Data to plot. Do not include a total, it will be calculated\n",
    "index = ['sales','returns','credit fees','rebates','late charges','shipping']\n",
    "data = {'amount': [350000,-30000,-7500,-25000,95000,-7000]}\n",
    "\n",
    "#Store data and create a blank series to use for the waterfall\n",
    "trans = pd.DataFrame(data=data,index=index)\n",
    "blank = trans.amount.cumsum().shift(1).fillna(0)\n",
    "\n",
    "#Get the net total number for the final element in the waterfall\n",
    "total = trans.sum().amount\n",
    "trans.loc[\"net\"]= total\n",
    "blank.loc[\"net\"] = total\n",
    "\n",
    "#The steps graphically show the levels as well as used for label placement\n",
    "step = blank.reset_index(drop=True).repeat(3).shift(-1)\n",
    "step[1::3] = np.nan\n",
    "\n",
    "#When plotting the last element, we want to show the full bar,\n",
    "#Set the blank to 0\n",
    "blank.loc[\"net\"] = 0\n",
    "\n",
    "#Plot and label\n",
    "my_plot = trans.plot(kind='bar', stacked=True, bottom=blank,legend=None, figsize=(10, 5), title=\"2014 Sales Waterfall\")\n",
    "my_plot.plot(step.index, step.values,'k')\n",
    "my_plot.set_xlabel(\"Transaction Types\")\n",
    "\n",
    "#Format the axis for dollars\n",
    "my_plot.yaxis.set_major_formatter(formatter)\n",
    "\n",
    "#Get the y-axis position for the labels\n",
    "y_height = trans.amount.cumsum().shift(1).fillna(0)\n",
    "\n",
    "#Get an offset so labels don't sit right on top of the bar\n",
    "max = trans.max()\n",
    "neg_offset = max / 25\n",
    "pos_offset = max / 50\n",
    "plot_offset = int(max / 15)\n",
    "\n",
    "#Start label loop\n",
    "loop = 0\n",
    "for index, row in trans.iterrows():\n",
    "    # For the last item in the list, we don't want to double count\n",
    "    if row['amount'] == total:\n",
    "        y = y_height[loop]\n",
    "    else:\n",
    "        y = y_height[loop] + row['amount']\n",
    "    # Determine if we want a neg or pos offset\n",
    "    if row['amount'] > 0:\n",
    "        y += pos_offset\n",
    "    else:\n",
    "        y -= neg_offset\n",
    "    my_plot.annotate(\"{:,.0f}\".format(row['amount']),(loop,y),ha=\"center\")\n",
    "    loop+=1"
   ]
  },
  {
   "cell_type": "markdown",
   "id": "output_cell",
   "metadata": {
    "papermill": {},
    "tags": []
   },
   "source": [
    "## Output"
   ]
  },
  {
   "cell_type": "markdown",
   "id": "display_cell",
   "metadata": {
    "papermill": {},
    "tags": []
   },
   "source": [
    "### Display result"
   ]
  },
  {
   "cell_type": "code",
   "execution_count": null,
   "id": "wired-minutes",
   "metadata": {
    "papermill": {},
    "tags": []
   },
   "outputs": [],
   "source": [
    "#Scale up the y axis so there is room for the labels\n",
    "my_plot.set_ylim(0,blank.max()+int(plot_offset))\n",
    "#Rotate the labels\n",
    "my_plot.set_xticklabels(trans.index,rotation=0)\n",
    "my_plot.get_figure().savefig(\"waterfall.png\",dpi=200,bbox_inches='tight')"
   ]
  }
 ],
 "metadata": {
  "kernelspec": {
   "display_name": "Python 3",
   "language": "python",
   "name": "python3"
  },
  "language_info": {
   "codemirror_mode": {
    "name": "ipython",
    "version": 3
   },
   "file_extension": ".py",
   "mimetype": "text/x-python",
   "name": "python",
   "nbconvert_exporter": "python",
   "pygments_lexer": "ipython3",
   "version": "3.8.8"
  },
  "papermill": {
   "default_parameters": {},
   "environment_variables": {},
   "parameters": {},
   "version": "2.3.3"
  }
 },
 "nbformat": 4,
 "nbformat_minor": 5
}
