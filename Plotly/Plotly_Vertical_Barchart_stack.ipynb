{
 "cells": [
  {
   "cell_type": "markdown",
   "id": "f46461a1-a2be-4baf-925e-751c1feca15d",
   "metadata": {
    "execution": {
     "iopub.execute_input": "2021-10-16T17:13:12.744615Z",
     "iopub.status.busy": "2021-10-16T17:13:12.744389Z",
     "iopub.status.idle": "2021-10-16T17:13:12.747431Z",
     "shell.execute_reply": "2021-10-16T17:13:12.746699Z",
     "shell.execute_reply.started": "2021-10-16T17:13:12.744592Z"
    },
    "papermill": {},
    "tags": []
   },
   "source": [
    "# Plotly - Vertical Barchart stack\n",
    "<a href=\"https://app.naas.ai/user-redirect/naas/downloader?url=https://raw.githubusercontent.com/jupyter-naas/awesome-notebooks/master/Plotly/Plotly_Vertical_Barchart_stack.ipynb\" target=\"_parent\"><img src=\"https://img.shields.io/badge/-Open%20in%20Naas-success?labelColor=000000&logo=data:image/svg+xml;base64,PD94bWwgdmVyc2lvbj0iMS4wIiBlbmNvZGluZz0iVVRGLTgiPz4KPHN2ZyB3aWR0aD0iMTAyNHB4IiBoZWlnaHQ9IjEwMjRweCIgdmlld0JveD0iMCAwIDEwMjQgMTAyNCIgeG1sbnM9Imh0dHA6Ly93d3cudzMub3JnLzIwMDAvc3ZnIiB4bWxuczp4bGluaz0iaHR0cDovL3d3dy53My5vcmcvMTk5OS94bGluayIgdmVyc2lvbj0iMS4xIj4KIDwhLS0gR2VuZXJhdGVkIGJ5IFBpeGVsbWF0b3IgUHJvIDIuMC41IC0tPgogPGRlZnM+CiAgPHRleHQgaWQ9InN0cmluZyIgdHJhbnNmb3JtPSJtYXRyaXgoMS4wIDAuMCAwLjAgMS4wIDIyOC4wIDU0LjUpIiBmb250LWZhbWlseT0iQ29tZm9ydGFhLVJlZ3VsYXIsIENvbWZvcnRhYSIgZm9udC1zaXplPSI4MDAiIHRleHQtZGVjb3JhdGlvbj0ibm9uZSIgZmlsbD0iI2ZmZmZmZiIgeD0iMS4xOTk5OTk5OTk5OTk5ODg2IiB5PSI3MDUuMCI+bjwvdGV4dD4KIDwvZGVmcz4KIDx1c2UgaWQ9Im4iIHhsaW5rOmhyZWY9IiNzdHJpbmciLz4KPC9zdmc+Cg==\"/></a>"
   ]
  },
  {
   "cell_type": "markdown",
   "id": "685f8370-93a9-4959-9f28-611b74fd7bb1",
   "metadata": {
    "papermill": {},
    "tags": []
   },
   "source": [
    "## Input"
   ]
  },
  {
   "cell_type": "markdown",
   "id": "10bb05b6-2e47-494d-8b0f-70c3772817a0",
   "metadata": {
    "papermill": {},
    "tags": []
   },
   "source": [
    "### Import library"
   ]
  },
  {
   "cell_type": "code",
   "execution_count": 1,
   "id": "0caafda9-b5df-495a-95dd-34369b6ac5b0",
   "metadata": {
    "execution": {
     "iopub.execute_input": "2021-10-17T15:17:31.115887Z",
     "iopub.status.busy": "2021-10-17T15:17:31.115468Z",
     "iopub.status.idle": "2021-10-17T15:17:37.094058Z",
     "shell.execute_reply": "2021-10-17T15:17:37.093395Z",
     "shell.execute_reply.started": "2021-10-17T15:17:31.115816Z"
    },
    "papermill": {},
    "tags": []
   },
   "outputs": [],
   "source": [
    "import naas\n",
    "import naas_drivers\n",
    "import plotly.graph_objects as go"
   ]
  },
  {
   "cell_type": "markdown",
   "id": "cc9ce021-5146-4904-b34f-e8ca02c1409b",
   "metadata": {
    "papermill": {},
    "tags": []
   },
   "source": [
    "### Setup dataset"
   ]
  },
  {
   "cell_type": "code",
   "execution_count": 2,
   "id": "efbe194c-f7f1-44e8-bce7-93a513d1bdb8",
   "metadata": {
    "execution": {
     "iopub.execute_input": "2021-10-17T15:17:37.095550Z",
     "iopub.status.busy": "2021-10-17T15:17:37.095322Z",
     "iopub.status.idle": "2021-10-17T15:17:37.104139Z",
     "shell.execute_reply": "2021-10-17T15:17:37.103626Z",
     "shell.execute_reply.started": "2021-10-17T15:17:37.095522Z"
    },
    "papermill": {},
    "tags": []
   },
   "outputs": [],
   "source": [
    "x_axis = [1995, 1996, 1997, 1998, 1999, 2000, 2001, 2002, 2003, 2004, 2005, 2006, 2007, 2008, 2009, 2010, 2011, 2012]\n",
    "\n",
    "y_axis_value1 = [219, 146, 112, 127, 124, 180, 236, 207, 236, 263, 350, 430, 474, 526, 488, 537, 500, 439]\n",
    "\n",
    "y_axis_value2 = [16, 13, 10, 11, 28, 37, 43, 55, 56, 88, 105, 156, 270, 299, 340, 403, 549, 499]"
   ]
  },
  {
   "cell_type": "markdown",
   "id": "7509f24b-b03b-40f9-9422-a87dc1069d5d",
   "metadata": {
    "papermill": {},
    "tags": []
   },
   "source": [
    "## Model"
   ]
  },
  {
   "cell_type": "markdown",
   "id": "39405a7e-525e-4ac7-aaf1-87438aaeb85b",
   "metadata": {
    "papermill": {},
    "tags": []
   },
   "source": [
    "### Setup graph"
   ]
  },
  {
   "cell_type": "code",
   "execution_count": 3,
   "id": "08af88b3-38ae-42b3-8752-c451523ba1a1",
   "metadata": {
    "execution": {
     "iopub.execute_input": "2021-10-17T15:17:37.105386Z",
     "iopub.status.busy": "2021-10-17T15:17:37.105140Z",
     "iopub.status.idle": "2021-10-17T15:17:37.218430Z",
     "shell.execute_reply": "2021-10-17T15:17:37.217842Z",
     "shell.execute_reply.started": "2021-10-17T15:17:37.105357Z"
    },
    "papermill": {},
    "tags": []
   },
   "outputs": [],
   "source": [
    "Title = \"Sales Evolution (stack)\"\n",
    "Value1 = \"USA\"\n",
    "Value2 = \"Rest of world\""
   ]
  },
  {
   "cell_type": "code",
   "execution_count": 4,
   "id": "1180682c-b520-4cf1-8324-1f756039f52b",
   "metadata": {
    "execution": {
     "iopub.execute_input": "2021-10-17T15:17:37.221039Z",
     "iopub.status.busy": "2021-10-17T15:17:37.220862Z",
     "iopub.status.idle": "2021-10-17T15:17:38.117741Z",
     "shell.execute_reply": "2021-10-17T15:17:38.117170Z",
     "shell.execute_reply.started": "2021-10-17T15:17:37.221019Z"
    },
    "papermill": {},
    "tags": []
   },
   "outputs": [],
   "source": [
    "fig = go.Figure()\n",
    "config = {'displayModeBar': False}\n",
    "fig.add_trace(go.Bar(x=x_axis,\n",
    "                y= y_axis_value1,\n",
    "                name= Value1,\n",
    "                marker_color='#5ee290'\n",
    "                ))\n",
    "fig.add_trace(go.Bar(x=x_axis,\n",
    "                y= y_axis_value2,\n",
    "                name= Value2,\n",
    "                marker_color='#3f3f3f'\n",
    "                ))\n",
    "\n",
    "#fig.update_layout( hovermode=\"x\", title=title)\n",
    "\n",
    "fig.update_layout(\n",
    "    title=Title ,\n",
    "    plot_bgcolor=\"#ffffff\",\n",
    "    #width=800,\n",
    "    height=500,\n",
    "    xaxis_tickfont_size=14,\n",
    "    yaxis=dict(\n",
    "        title='USD (millions)',\n",
    "        titlefont_size=16,\n",
    "        tickfont_size=14,\n",
    "    ),\n",
    "    legend=dict(\n",
    "        x=0,\n",
    "        y=1.0,\n",
    "        bgcolor='white',\n",
    "        bordercolor='white'\n",
    "    ),\n",
    "    barmode='stack',\n",
    "    bargap=0.1, # gap between bars of adjacent location coordinates.\n",
    "    bargroupgap=0.1 # gap between bars of the same location coordinate.\n",
    ")\n",
    "fig.show(config=config)"
   ]
  },
  {
   "cell_type": "markdown",
   "id": "fa96ad4c-13d6-4410-a64a-915a713bcab0",
   "metadata": {
    "papermill": {},
    "tags": []
   },
   "source": [
    "## Output"
   ]
  },
  {
   "cell_type": "markdown",
   "id": "80810632-32d7-4396-adcc-27263b8124ba",
   "metadata": {
    "papermill": {},
    "tags": []
   },
   "source": [
    "### Export in PNG and HTML"
   ]
  },
  {
   "cell_type": "code",
   "execution_count": 5,
   "id": "f1e1caae-edf8-4349-87be-870c0860c4f1",
   "metadata": {
    "execution": {
     "iopub.execute_input": "2021-10-17T15:17:38.119163Z",
     "iopub.status.busy": "2021-10-17T15:17:38.118758Z",
     "iopub.status.idle": "2021-10-17T15:17:49.629075Z",
     "shell.execute_reply": "2021-10-17T15:17:49.628100Z",
     "shell.execute_reply.started": "2021-10-17T15:17:38.119131Z"
    },
    "papermill": {},
    "tags": []
   },
   "outputs": [],
   "source": [
    "naas_drivers.plotly.export(fig, f\"{Title}.png\", css=None)\n",
    "naas_drivers.plotly.export(fig, f\"{Title}.html\", css=None)"
   ]
  },
  {
   "cell_type": "markdown",
   "id": "0c90bc56-7ad6-41b5-8380-529dcd71eda3",
   "metadata": {
    "papermill": {},
    "tags": []
   },
   "source": [
    "### Generate shareable assets"
   ]
  },
  {
   "cell_type": "code",
   "execution_count": 6,
   "id": "993f934f-b551-4981-a884-a6be636d8a90",
   "metadata": {
    "execution": {
     "iopub.execute_input": "2021-10-17T15:17:49.630326Z",
     "iopub.status.busy": "2021-10-17T15:17:49.630063Z",
     "iopub.status.idle": "2021-10-17T15:17:50.801731Z",
     "shell.execute_reply": "2021-10-17T15:17:50.801214Z",
     "shell.execute_reply.started": "2021-10-17T15:17:49.630297Z"
    },
    "papermill": {},
    "tags": []
   },
   "outputs": [],
   "source": [
    "link_image = naas.asset.add(f\"{Title}.png\")\n",
    "link_html = naas.asset.add(f\"{Title}.html\", {\"inline\":True})"
   ]
  },
  {
   "cell_type": "code",
   "execution_count": null,
   "id": "7bb7d24e-9034-47f9-b9f0-b23e85af235c",
   "metadata": {
    "papermill": {},
    "tags": []
   },
   "outputs": [],
   "source": []
  }
 ],
 "metadata": {
  "kernelspec": {
   "display_name": "Python 3",
   "language": "python",
   "name": "python3"
  },
  "language_info": {
   "codemirror_mode": {
    "name": "ipython",
    "version": 3
   },
   "file_extension": ".py",
   "mimetype": "text/x-python",
   "name": "python",
   "nbconvert_exporter": "python",
   "pygments_lexer": "ipython3",
   "version": "3.8.8"
  },
  "papermill": {
   "default_parameters": {},
   "environment_variables": {},
   "parameters": {},
   "version": "2.3.3"
  },
  "widgets": {
   "application/vnd.jupyter.widget-state+json": {
    "state": {
     "10abd319afe345c6b527880b06ee1d18": {
      "model_module": "@jupyter-widgets/base",
      "model_module_version": "1.2.0",
      "model_name": "LayoutModel",
      "state": {}
     },
     "3735aae782844e0c80a8054144e6aec9": {
      "model_module": "@jupyter-widgets/base",
      "model_module_version": "1.2.0",
      "model_name": "LayoutModel",
      "state": {}
     },
     "7fb6b91be45c4d76a596a411645c1539": {
      "model_module": "@jupyter-widgets/controls",
      "model_module_version": "1.5.0",
      "model_name": "ButtonStyleModel",
      "state": {}
     },
     "a4ac4e7e9fcd41fa99b6de53134e20e5": {
      "model_module": "@jupyter-widgets/output",
      "model_module_version": "1.0.0",
      "model_name": "OutputModel",
      "state": {
       "layout": "IPY_MODEL_3735aae782844e0c80a8054144e6aec9"
      }
     },
     "b10a54c2767047a9971000cfeba81613": {
      "model_module": "@jupyter-widgets/base",
      "model_module_version": "1.2.0",
      "model_name": "LayoutModel",
      "state": {}
     },
     "bbf5d08bfc684fe4bada55d13b4427f6": {
      "model_module": "@jupyter-widgets/base",
      "model_module_version": "1.2.0",
      "model_name": "LayoutModel",
      "state": {}
     },
     "bc1a1a6cbaf242fca1033433c30d1a2b": {
      "model_module": "@jupyter-widgets/controls",
      "model_module_version": "1.5.0",
      "model_name": "ButtonModel",
      "state": {
       "button_style": "primary",
       "description": "Copy URL",
       "layout": "IPY_MODEL_bbf5d08bfc684fe4bada55d13b4427f6",
       "style": "IPY_MODEL_c1485a3e57a74814a83cfb6fd9a2c8ad"
      }
     },
     "c1485a3e57a74814a83cfb6fd9a2c8ad": {
      "model_module": "@jupyter-widgets/controls",
      "model_module_version": "1.5.0",
      "model_name": "ButtonStyleModel",
      "state": {}
     },
     "cb81c203a0ed4c73b55d2db071f07e55": {
      "model_module": "@jupyter-widgets/controls",
      "model_module_version": "1.5.0",
      "model_name": "ButtonModel",
      "state": {
       "button_style": "primary",
       "description": "Copy URL",
       "layout": "IPY_MODEL_10abd319afe345c6b527880b06ee1d18",
       "style": "IPY_MODEL_7fb6b91be45c4d76a596a411645c1539"
      }
     },
     "e2168130361e43b383627d8403d6e22f": {
      "model_module": "@jupyter-widgets/output",
      "model_module_version": "1.0.0",
      "model_name": "OutputModel",
      "state": {
       "layout": "IPY_MODEL_b10a54c2767047a9971000cfeba81613"
      }
     }
    },
    "version_major": 2,
    "version_minor": 0
   }
  }
 },
 "nbformat": 4,
 "nbformat_minor": 5
}