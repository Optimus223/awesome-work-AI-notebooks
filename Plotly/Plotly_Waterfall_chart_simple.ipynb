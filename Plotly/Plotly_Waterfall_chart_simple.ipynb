{
 "cells": [
  {
   "cell_type": "markdown",
   "id": "230fc809-c2d3-42f2-8389-2ad2b0b164a3",
   "metadata": {
    "papermill": {},
    "tags": []
   },
   "source": [
    "<img width=\"10%\" alt=\"Naas\" src=\"https://landen.imgix.net/jtci2pxwjczr/assets/5ice39g4.png?w=160\"/>"
   ]
  },
  {
   "cell_type": "markdown",
   "id": "historical-quebec",
   "metadata": {
    "papermill": {},
    "tags": []
   },
   "source": [
    "# Plotly - Waterfall chart simple\n",
    "<a href=\"https://app.naas.ai/user-redirect/naas/downloader?url=https://raw.githubusercontent.com/jupyter-naas/awesome-notebooks/master/Plotly/Plotly_Waterfall_chart_simple.ipynb\" target=\"_parent\"><img src=\"https://img.shields.io/badge/-Open%20in%20Naas-success?labelColor=000000&logo=data:image/svg+xml;base64,PD94bWwgdmVyc2lvbj0iMS4wIiBlbmNvZGluZz0iVVRGLTgiPz4KPHN2ZyB3aWR0aD0iMTAyNHB4IiBoZWlnaHQ9IjEwMjRweCIgdmlld0JveD0iMCAwIDEwMjQgMTAyNCIgeG1sbnM9Imh0dHA6Ly93d3cudzMub3JnLzIwMDAvc3ZnIiB4bWxuczp4bGluaz0iaHR0cDovL3d3dy53My5vcmcvMTk5OS94bGluayIgdmVyc2lvbj0iMS4xIj4KIDwhLS0gR2VuZXJhdGVkIGJ5IFBpeGVsbWF0b3IgUHJvIDIuMC41IC0tPgogPGRlZnM+CiAgPHRleHQgaWQ9InN0cmluZyIgdHJhbnNmb3JtPSJtYXRyaXgoMS4wIDAuMCAwLjAgMS4wIDIyOC4wIDU0LjUpIiBmb250LWZhbWlseT0iQ29tZm9ydGFhLVJlZ3VsYXIsIENvbWZvcnRhYSIgZm9udC1zaXplPSI4MDAiIHRleHQtZGVjb3JhdGlvbj0ibm9uZSIgZmlsbD0iI2ZmZmZmZiIgeD0iMS4xOTk5OTk5OTk5OTk5ODg2IiB5PSI3MDUuMCI+bjwvdGV4dD4KIDwvZGVmcz4KIDx1c2UgaWQ9Im4iIHhsaW5rOmhyZWY9IiNzdHJpbmciLz4KPC9zdmc+Cg==\"/></a>"
   ]
  },
  {
   "cell_type": "markdown",
   "id": "c3cd7be3-5a1e-45cb-8bc0-e3eb23da2166",
   "metadata": {
    "papermill": {},
    "tags": []
   },
   "source": [
    "**Tags:** #plotly #chart #warterfall #dataviz"
   ]
  },
  {
   "cell_type": "markdown",
   "id": "input_cell",
   "metadata": {
    "papermill": {},
    "tags": []
   },
   "source": [
    "## Input"
   ]
  },
  {
   "cell_type": "markdown",
   "id": "2a074b55-8141-4ba2-8200-3bc0a7baa724",
   "metadata": {
    "papermill": {},
    "tags": []
   },
   "source": [
    "### Import library"
   ]
  },
  {
   "cell_type": "code",
   "execution_count": 1,
   "id": "25be4091-7237-48d2-bba8-d4f7d75fd2c4",
   "metadata": {
    "execution": {
     "iopub.execute_input": "2021-10-17T14:59:59.002424Z",
     "iopub.status.busy": "2021-10-17T14:59:59.001988Z",
     "iopub.status.idle": "2021-10-17T15:00:04.223995Z",
     "shell.execute_reply": "2021-10-17T15:00:04.223338Z",
     "shell.execute_reply.started": "2021-10-17T14:59:59.002348Z"
    },
    "papermill": {},
    "tags": []
   },
   "outputs": [],
   "source": [
    "import naas\n",
    "import naas_drivers\n",
    "import plotly.graph_objects as go"
   ]
  },
  {
   "cell_type": "markdown",
   "id": "model_cell",
   "metadata": {
    "papermill": {},
    "tags": []
   },
   "source": [
    "## Model"
   ]
  },
  {
   "cell_type": "markdown",
   "id": "50b00720-a23a-4d49-892e-a1a251d0cfd2",
   "metadata": {
    "papermill": {},
    "tags": []
   },
   "source": [
    "### Create the plot"
   ]
  },
  {
   "cell_type": "code",
   "execution_count": 2,
   "id": "38c23052-7948-4566-9485-35c8d8d11be1",
   "metadata": {
    "execution": {
     "iopub.execute_input": "2021-10-17T15:00:04.225334Z",
     "iopub.status.busy": "2021-10-17T15:00:04.225101Z",
     "iopub.status.idle": "2021-10-17T15:00:04.232490Z",
     "shell.execute_reply": "2021-10-17T15:00:04.231959Z",
     "shell.execute_reply.started": "2021-10-17T15:00:04.225305Z"
    },
    "papermill": {},
    "tags": []
   },
   "outputs": [],
   "source": [
    "Title = \"EBITDA (simple)\""
   ]
  },
  {
   "cell_type": "code",
   "execution_count": 3,
   "id": "spread-season",
   "metadata": {
    "execution": {
     "iopub.execute_input": "2021-10-17T15:00:04.234427Z",
     "iopub.status.busy": "2021-10-17T15:00:04.234196Z",
     "iopub.status.idle": "2021-10-17T15:00:05.219256Z",
     "shell.execute_reply": "2021-10-17T15:00:05.218471Z",
     "shell.execute_reply.started": "2021-10-17T15:00:04.234398Z"
    },
    "papermill": {},
    "tags": []
   },
   "outputs": [],
   "source": [
    "fig = go.Figure(go.Waterfall(\n",
    "    name = \"20\", orientation = \"v\",\n",
    "    measure = [\"relative\", \"relative\", \"total\", \"relative\", \"relative\", \"total\"],\n",
    "    decreasing = {\"marker\":{\"color\":\"#d94228\"}},\n",
    "    increasing = {\"marker\":{\"color\":\"#5ee290\"}},\n",
    "    totals = {\"marker\":{\"color\":\"#3f3f3f\"}},\n",
    "    x = [\"Sales\", \"Consulting\", \"Revenue\", \"Direct expenses\", \"Other expenses\", \"EBITDA\"],\n",
    "    textposition = \"outside\",\n",
    "    text = [\"+60\", \"+80\", \"140\", \"-40\", \"-20\", \"80\"],\n",
    "    y = [60, 80, 0, -40, -20, 0],\n",
    "    connector = {\"line\":{\"color\":\"white\"}},\n",
    "))\n",
    "\n",
    "fig.update_layout(\n",
    "    title=Title ,\n",
    "    plot_bgcolor=\"#ffffff\",\n",
    "    #width=800,\n",
    "    height=500,\n",
    "    xaxis_tickfont_size=14,\n",
    "    yaxis=dict(\n",
    "        title='USD (millions)',\n",
    "        titlefont_size=16,\n",
    "        tickfont_size=14,\n",
    "    ),\n",
    "    legend=dict(\n",
    "        x=0,\n",
    "        y=1.0,\n",
    "        bgcolor='white',\n",
    "        bordercolor='white'\n",
    "    ),\n",
    "    bargap=0.1, # gap between bars of adjacent location coordinates.\n",
    "    bargroupgap=0.1 # gap between bars of the same location coordinate.\n",
    ")\n",
    "fig.show()"
   ]
  },
  {
   "cell_type": "markdown",
   "id": "output_cell",
   "metadata": {
    "papermill": {},
    "tags": []
   },
   "source": [
    "## Output"
   ]
  },
  {
   "cell_type": "markdown",
   "id": "display_cell",
   "metadata": {
    "papermill": {},
    "tags": []
   },
   "source": [
    "### Export in PNG and HTML"
   ]
  },
  {
   "cell_type": "code",
   "execution_count": 4,
   "id": "c2166dab-90f3-4473-a89e-af5b16e72188",
   "metadata": {
    "execution": {
     "iopub.execute_input": "2021-10-17T15:00:05.220618Z",
     "iopub.status.busy": "2021-10-17T15:00:05.220397Z",
     "iopub.status.idle": "2021-10-17T15:00:16.606923Z",
     "shell.execute_reply": "2021-10-17T15:00:16.606218Z",
     "shell.execute_reply.started": "2021-10-17T15:00:05.220591Z"
    },
    "papermill": {},
    "tags": []
   },
   "outputs": [],
   "source": [
    "naas_drivers.plotly.export(fig, f\"{Title}.png\", css=None)\n",
    "naas_drivers.plotly.export(fig, f\"{Title}.html\", css=None)"
   ]
  },
  {
   "cell_type": "markdown",
   "id": "c1fe8400-23b0-4e47-a99a-a9cc14304513",
   "metadata": {
    "papermill": {},
    "tags": []
   },
   "source": [
    "### Generate shareable assets"
   ]
  },
  {
   "cell_type": "code",
   "execution_count": 5,
   "id": "1e7b4d50-c96b-497b-8f00-e10b66594f10",
   "metadata": {
    "execution": {
     "iopub.execute_input": "2021-10-17T15:00:16.608279Z",
     "iopub.status.busy": "2021-10-17T15:00:16.608053Z",
     "iopub.status.idle": "2021-10-17T15:00:17.570391Z",
     "shell.execute_reply": "2021-10-17T15:00:17.569750Z",
     "shell.execute_reply.started": "2021-10-17T15:00:16.608249Z"
    },
    "papermill": {},
    "tags": []
   },
   "outputs": [],
   "source": [
    "link_image = naas.asset.add(f\"{Title}.png\")\n",
    "link_html = naas.asset.add(f\"{Title}.html\", {\"inline\":True})"
   ]
  }
 ],
 "metadata": {
  "kernelspec": {
   "display_name": "Python 3",
   "language": "python",
   "name": "python3"
  },
  "language_info": {
   "codemirror_mode": {
    "name": "ipython",
    "version": 3
   },
   "file_extension": ".py",
   "mimetype": "text/x-python",
   "name": "python",
   "nbconvert_exporter": "python",
   "pygments_lexer": "ipython3",
   "version": "3.8.8"
  },
  "papermill": {
   "default_parameters": {},
   "environment_variables": {},
   "parameters": {},
   "version": "2.3.3"
  },
  "widgets": {
   "application/vnd.jupyter.widget-state+json": {
    "state": {
     "064b32ae3fc74278af3c48d6aa6c6f79": {
      "model_module": "@jupyter-widgets/base",
      "model_module_version": "1.2.0",
      "model_name": "LayoutModel",
      "state": {}
     },
     "105b88759d3a40c3afc610ac7a4d4cbd": {
      "model_module": "@jupyter-widgets/output",
      "model_module_version": "1.0.0",
      "model_name": "OutputModel",
      "state": {
       "layout": "IPY_MODEL_bb2025e7f7714e3faa963a769d046753"
      }
     },
     "12406f33859d4eaba8ef582d4270cdd2": {
      "model_module": "@jupyter-widgets/output",
      "model_module_version": "1.0.0",
      "model_name": "OutputModel",
      "state": {
       "layout": "IPY_MODEL_064b32ae3fc74278af3c48d6aa6c6f79"
      }
     },
     "161c1b86658e4fdabd922d8f1adb990f": {
      "model_module": "@jupyter-widgets/base",
      "model_module_version": "1.2.0",
      "model_name": "LayoutModel",
      "state": {}
     },
     "19ff9e8b37bc4399afdc59f78ab61329": {
      "model_module": "@jupyter-widgets/controls",
      "model_module_version": "1.5.0",
      "model_name": "ButtonModel",
      "state": {
       "button_style": "primary",
       "description": "Copy URL",
       "layout": "IPY_MODEL_93061f1c63864c418a965d3f449708c2",
       "style": "IPY_MODEL_e4dce9ac9bd64a9e94305f02d5d99439"
      }
     },
     "41c16f531e8d49f68efd93e75f94549a": {
      "model_module": "@jupyter-widgets/controls",
      "model_module_version": "1.5.0",
      "model_name": "ButtonModel",
      "state": {
       "button_style": "primary",
       "description": "Copy URL",
       "layout": "IPY_MODEL_161c1b86658e4fdabd922d8f1adb990f",
       "style": "IPY_MODEL_46e38116278546e0a7d284a7e8475c69"
      }
     },
     "46e38116278546e0a7d284a7e8475c69": {
      "model_module": "@jupyter-widgets/controls",
      "model_module_version": "1.5.0",
      "model_name": "ButtonStyleModel",
      "state": {}
     },
     "93061f1c63864c418a965d3f449708c2": {
      "model_module": "@jupyter-widgets/base",
      "model_module_version": "1.2.0",
      "model_name": "LayoutModel",
      "state": {}
     },
     "bb2025e7f7714e3faa963a769d046753": {
      "model_module": "@jupyter-widgets/base",
      "model_module_version": "1.2.0",
      "model_name": "LayoutModel",
      "state": {}
     },
     "e4dce9ac9bd64a9e94305f02d5d99439": {
      "model_module": "@jupyter-widgets/controls",
      "model_module_version": "1.5.0",
      "model_name": "ButtonStyleModel",
      "state": {}
     }
    },
    "version_major": 2,
    "version_minor": 0
   }
  }
 },
 "nbformat": 4,
 "nbformat_minor": 5
}