{
 "cells": [
  {
   "cell_type": "markdown",
   "id": "8da4a68c-32ef-480d-8955-cabde9283bb8",
   "metadata": {
    "papermill": {},
    "tags": []
   },
   "source": [
    "<img width=\"10%\" alt=\"Naas\" src=\"https://landen.imgix.net/jtci2pxwjczr/assets/5ice39g4.png?w=160\"/>\n"
   ]
  },
  {
   "cell_type": "markdown",
   "id": "simplified-greeting",
   "metadata": {
    "papermill": {},
    "tags": []
   },
   "source": [
    "# Plotly - Bubblechart\n",
    "<a href=\"https://app.naas.ai/user-redirect/naas/downloader?url=https://raw.githubusercontent.com/jupyter-naas/awesome-notebooks/master/Plotly/Plotly_Bubblechart.ipynb\" target=\"_parent\"><img src=\"https://img.shields.io/badge/-Open%20in%20Naas-success?labelColor=000000&logo=data:image/svg+xml;base64,PD94bWwgdmVyc2lvbj0iMS4wIiBlbmNvZGluZz0iVVRGLTgiPz4KPHN2ZyB3aWR0aD0iMTAyNHB4IiBoZWlnaHQ9IjEwMjRweCIgdmlld0JveD0iMCAwIDEwMjQgMTAyNCIgeG1sbnM9Imh0dHA6Ly93d3cudzMub3JnLzIwMDAvc3ZnIiB4bWxuczp4bGluaz0iaHR0cDovL3d3dy53My5vcmcvMTk5OS94bGluayIgdmVyc2lvbj0iMS4xIj4KIDwhLS0gR2VuZXJhdGVkIGJ5IFBpeGVsbWF0b3IgUHJvIDIuMC41IC0tPgogPGRlZnM+CiAgPHRleHQgaWQ9InN0cmluZyIgdHJhbnNmb3JtPSJtYXRyaXgoMS4wIDAuMCAwLjAgMS4wIDIyOC4wIDU0LjUpIiBmb250LWZhbWlseT0iQ29tZm9ydGFhLVJlZ3VsYXIsIENvbWZvcnRhYSIgZm9udC1zaXplPSI4MDAiIHRleHQtZGVjb3JhdGlvbj0ibm9uZSIgZmlsbD0iI2ZmZmZmZiIgeD0iMS4xOTk5OTk5OTk5OTk5ODg2IiB5PSI3MDUuMCI+bjwvdGV4dD4KIDwvZGVmcz4KIDx1c2UgaWQ9Im4iIHhsaW5rOmhyZWY9IiNzdHJpbmciLz4KPC9zdmc+Cg==\"/></a>"
   ]
  },
  {
   "cell_type": "markdown",
   "id": "fc758347-da54-40ab-9b38-42c14a7b7fb3",
   "metadata": {
    "papermill": {},
    "tags": []
   },
   "source": [
    "**Tags:** #plotly #chart #bubblechart #dataviz"
   ]
  },
  {
   "cell_type": "markdown",
   "id": "input_cell",
   "metadata": {
    "papermill": {},
    "tags": []
   },
   "source": [
    "## Input"
   ]
  },
  {
   "cell_type": "markdown",
   "id": "import_cell",
   "metadata": {
    "papermill": {},
    "tags": []
   },
   "source": [
    "### Import library"
   ]
  },
  {
   "cell_type": "code",
   "execution_count": 1,
   "id": "d04bad40-d64d-4a57-832b-a9eca0f5842f",
   "metadata": {
    "execution": {
     "iopub.execute_input": "2021-10-23T17:38:18.855276Z",
     "iopub.status.busy": "2021-10-23T17:38:18.854792Z",
     "iopub.status.idle": "2021-10-23T17:38:25.321925Z",
     "shell.execute_reply": "2021-10-23T17:38:25.321212Z",
     "shell.execute_reply.started": "2021-10-23T17:38:18.855190Z"
    },
    "papermill": {},
    "tags": []
   },
   "outputs": [],
   "source": [
    "import naas\n",
    "import naas_drivers\n",
    "import plotly.graph_objects as go\n",
    "import plotly.express as px\n",
    "import pandas as pd"
   ]
  },
  {
   "cell_type": "markdown",
   "id": "74d4a334-8fb4-429b-ab5f-d2be4dda4a1b",
   "metadata": {
    "papermill": {},
    "tags": []
   },
   "source": [
    "### Import dataframe"
   ]
  },
  {
   "cell_type": "code",
   "execution_count": 2,
   "id": "19fbc012-960e-4bca-bfb9-7e2fd583b4f8",
   "metadata": {
    "execution": {
     "iopub.execute_input": "2021-10-23T17:38:25.323535Z",
     "iopub.status.busy": "2021-10-23T17:38:25.323132Z",
     "iopub.status.idle": "2021-10-23T17:38:25.406803Z",
     "shell.execute_reply": "2021-10-23T17:38:25.406230Z",
     "shell.execute_reply.started": "2021-10-23T17:38:25.323505Z"
    },
    "papermill": {},
    "tags": []
   },
   "outputs": [],
   "source": [
    "df = px.data.gapminder()\n",
    "df"
   ]
  },
  {
   "cell_type": "markdown",
   "id": "model_cell",
   "metadata": {
    "papermill": {},
    "tags": []
   },
   "source": [
    "## Model"
   ]
  },
  {
   "cell_type": "code",
   "execution_count": 3,
   "id": "8855238b-ecf0-400d-a99c-cef8de8123bd",
   "metadata": {
    "execution": {
     "iopub.execute_input": "2021-10-23T17:38:25.408038Z",
     "iopub.status.busy": "2021-10-23T17:38:25.407776Z",
     "iopub.status.idle": "2021-10-23T17:38:25.457346Z",
     "shell.execute_reply": "2021-10-23T17:38:25.456739Z",
     "shell.execute_reply.started": "2021-10-23T17:38:25.408005Z"
    },
    "papermill": {},
    "tags": []
   },
   "outputs": [],
   "source": [
    "Title = \"Life Expectancy vs GDP per Capita GDP, 2007\""
   ]
  },
  {
   "cell_type": "code",
   "execution_count": 4,
   "id": "embedded-wound",
   "metadata": {
    "execution": {
     "iopub.execute_input": "2021-10-23T17:38:25.458655Z",
     "iopub.status.busy": "2021-10-23T17:38:25.458288Z",
     "iopub.status.idle": "2021-10-23T17:38:31.267572Z",
     "shell.execute_reply": "2021-10-23T17:38:31.266980Z",
     "shell.execute_reply.started": "2021-10-23T17:38:25.458624Z"
    },
    "papermill": {},
    "tags": []
   },
   "outputs": [],
   "source": [
    "fig = go.Figure()\n",
    "\n",
    "config = {'displayModeBar': False}\n",
    "\n",
    "fig = px.scatter(df.query(\"year==2007\"),\n",
    "                 x=\"gdpPercap\", \n",
    "                 y=\"lifeExp\", \n",
    "                 size=\"pop\", \n",
    "                 color=\"continent\", \n",
    "                 hover_name=\"country\", \n",
    "                 log_x=True, size_max=60)\n",
    "\n",
    "fig.update_layout(\n",
    "    plot_bgcolor=\"#ffffff\",\n",
    "    margin=dict(l=0, r=0, t=50, b=50),\n",
    "    height=800,\n",
    "    showlegend=False,\n",
    "    xaxis_nticks=36)\n",
    "\n",
    "fig.update_layout(\n",
    "    title= Title,\n",
    "    xaxis=dict(\n",
    "        title='GDP per capita (dollars)',\n",
    "        gridcolor='white',\n",
    "        type='log',\n",
    "        gridwidth=2,\n",
    "    ),\n",
    "    yaxis=dict(\n",
    "        title='Life Expectancy (years)',\n",
    "        gridcolor='white',\n",
    "        gridwidth=2,\n",
    "    )\n",
    "\n",
    ")\n",
    "\n",
    "fig.show(config=config)"
   ]
  },
  {
   "cell_type": "markdown",
   "id": "output_cell",
   "metadata": {
    "papermill": {},
    "tags": []
   },
   "source": [
    "## Output"
   ]
  },
  {
   "cell_type": "markdown",
   "id": "display_cell",
   "metadata": {
    "papermill": {},
    "tags": []
   },
   "source": [
    "### Export in PNG and HTML"
   ]
  },
  {
   "cell_type": "code",
   "execution_count": 5,
   "id": "selective-chase",
   "metadata": {
    "execution": {
     "iopub.execute_input": "2021-10-23T17:38:31.268795Z",
     "iopub.status.busy": "2021-10-23T17:38:31.268470Z",
     "iopub.status.idle": "2021-10-23T17:40:34.613023Z",
     "shell.execute_reply": "2021-10-23T17:40:34.610266Z",
     "shell.execute_reply.started": "2021-10-23T17:38:31.268764Z"
    },
    "papermill": {},
    "tags": []
   },
   "outputs": [],
   "source": [
    "naas_drivers.plotly.export(fig, f\"{Title}.png\", css=None)\n",
    "naas_drivers.plotly.export(fig, f\"{Title}.html\", css=None)"
   ]
  },
  {
   "cell_type": "markdown",
   "id": "c9bb8e15-e713-4e50-a10d-011dc5d6cbec",
   "metadata": {
    "papermill": {},
    "tags": []
   },
   "source": [
    "### Generate shareable assets"
   ]
  },
  {
   "cell_type": "code",
   "execution_count": null,
   "id": "d04728d8-bd74-479a-8fb6-0287c15a6eeb",
   "metadata": {
    "execution": {
     "iopub.status.busy": "2021-10-23T17:40:34.615137Z",
     "iopub.status.idle": "2021-10-23T17:40:34.616827Z",
     "shell.execute_reply": "2021-10-23T17:40:34.616635Z"
    },
    "papermill": {},
    "tags": []
   },
   "outputs": [],
   "source": [
    "link_image = naas.asset.add(f\"{Title}.png\")\n",
    "link_html = naas.asset.add(f\"{Title}.html\", {\"inline\":True})"
   ]
  }
 ],
 "metadata": {
  "kernelspec": {
   "display_name": "Python 3",
   "language": "python",
   "name": "python3"
  },
  "language_info": {
   "codemirror_mode": {
    "name": "ipython",
    "version": 3
   },
   "file_extension": ".py",
   "mimetype": "text/x-python",
   "name": "python",
   "nbconvert_exporter": "python",
   "pygments_lexer": "ipython3",
   "version": "3.8.8"
  },
  "papermill": {
   "default_parameters": {},
   "environment_variables": {},
   "parameters": {},
   "version": "2.3.3"
  },
  "widgets": {
   "application/vnd.jupyter.widget-state+json": {
    "state": {},
    "version_major": 2,
    "version_minor": 0
   }
  }
 },
 "nbformat": 4,
 "nbformat_minor": 5
}