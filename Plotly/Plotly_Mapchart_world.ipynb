{
 "cells": [
  {
   "cell_type": "markdown",
   "id": "258570e7-30c0-4931-8b26-220176827b1a",
   "metadata": {
    "papermill": {},
    "tags": []
   },
   "source": [
    "<img width=\"10%\" alt=\"Naas\" src=\"https://landen.imgix.net/jtci2pxwjczr/assets/5ice39g4.png?w=160\"/>\n"
   ]
  },
  {
   "cell_type": "markdown",
   "id": "bibliographic-reach",
   "metadata": {
    "papermill": {},
    "tags": []
   },
   "source": [
    "## Plotly - Create a World Map"
   ]
  },
  {
   "cell_type": "markdown",
   "id": "91ea1e69-37f6-4eda-87d9-edb0f388e167",
   "metadata": {
    "papermill": {},
    "tags": []
   },
   "source": [
    "**Tags:** #plotly #chart #worldmap #dataviz"
   ]
  },
  {
   "cell_type": "markdown",
   "id": "considered-tanzania",
   "metadata": {
    "papermill": {},
    "tags": []
   },
   "source": [
    "## Input"
   ]
  },
  {
   "cell_type": "markdown",
   "id": "import_cell",
   "metadata": {
    "papermill": {},
    "tags": []
   },
   "source": [
    "### Import libraries"
   ]
  },
  {
   "cell_type": "code",
   "execution_count": 1,
   "id": "demographic-chess",
   "metadata": {
    "execution": {
     "iopub.execute_input": "2021-10-17T16:00:28.633345Z",
     "iopub.status.busy": "2021-10-17T16:00:28.631284Z",
     "iopub.status.idle": "2021-10-17T16:00:33.705536Z",
     "shell.execute_reply": "2021-10-17T16:00:33.704920Z",
     "shell.execute_reply.started": "2021-10-17T16:00:28.633264Z"
    },
    "papermill": {},
    "tags": []
   },
   "outputs": [],
   "source": [
    "import naas\n",
    "import naas_drivers\n",
    "import plotly.graph_objects as go\n",
    "import pandas as pd"
   ]
  },
  {
   "cell_type": "markdown",
   "id": "f066dfb3-d290-49f0-8f53-d51bc522bcc9",
   "metadata": {
    "papermill": {},
    "tags": []
   },
   "source": [
    "### Columns\n",
    "\n",
    "1. ISO code of country    \n",
    "2. Value"
   ]
  },
  {
   "cell_type": "code",
   "execution_count": 2,
   "id": "optical-danish",
   "metadata": {
    "execution": {
     "iopub.execute_input": "2021-10-17T16:00:33.707322Z",
     "iopub.status.busy": "2021-10-17T16:00:33.707068Z",
     "iopub.status.idle": "2021-10-17T16:00:33.761145Z",
     "shell.execute_reply": "2021-10-17T16:00:33.760075Z",
     "shell.execute_reply.started": "2021-10-17T16:00:33.707294Z"
    },
    "papermill": {},
    "tags": []
   },
   "outputs": [],
   "source": [
    "df = pd.read_csv('https://raw.githubusercontent.com/plotly/datasets/master/2014_world_gdp_with_codes.csv')"
   ]
  },
  {
   "cell_type": "markdown",
   "id": "aboriginal-imperial",
   "metadata": {
    "papermill": {},
    "tags": []
   },
   "source": [
    "To use the built-in countries geometry, provide locations as [three-letter ISO country codes](https://en.wikipedia.org/wiki/ISO_3166-1_alpha-3)."
   ]
  },
  {
   "cell_type": "code",
   "execution_count": 3,
   "id": "universal-alcohol",
   "metadata": {
    "execution": {
     "iopub.execute_input": "2021-10-17T16:00:33.762651Z",
     "iopub.status.busy": "2021-10-17T16:00:33.762428Z",
     "iopub.status.idle": "2021-10-17T16:00:33.852094Z",
     "shell.execute_reply": "2021-10-17T16:00:33.851559Z",
     "shell.execute_reply.started": "2021-10-17T16:00:33.762622Z"
    },
    "papermill": {},
    "tags": []
   },
   "outputs": [],
   "source": [
    "df.head()"
   ]
  },
  {
   "cell_type": "markdown",
   "id": "entire-choir",
   "metadata": {
    "papermill": {},
    "tags": []
   },
   "source": [
    "## Model"
   ]
  },
  {
   "cell_type": "markdown",
   "id": "79f64417-4f51-45be-83f4-ffa432c6ff03",
   "metadata": {
    "papermill": {},
    "tags": []
   },
   "source": [
    "### Create the plot"
   ]
  },
  {
   "cell_type": "code",
   "execution_count": 4,
   "id": "7d3d6bca-4daf-4e1d-aa17-10d391347187",
   "metadata": {
    "execution": {
     "iopub.execute_input": "2021-10-17T16:00:33.853299Z",
     "iopub.status.busy": "2021-10-17T16:00:33.853054Z",
     "iopub.status.idle": "2021-10-17T16:00:33.965986Z",
     "shell.execute_reply": "2021-10-17T16:00:33.965411Z",
     "shell.execute_reply.started": "2021-10-17T16:00:33.853269Z"
    },
    "papermill": {},
    "tags": []
   },
   "outputs": [],
   "source": [
    "Title = \"Worldmap\""
   ]
  },
  {
   "cell_type": "code",
   "execution_count": 27,
   "id": "desperate-decision",
   "metadata": {
    "execution": {
     "iopub.execute_input": "2021-10-17T16:20:20.362141Z",
     "iopub.status.busy": "2021-10-17T16:20:20.361913Z",
     "iopub.status.idle": "2021-10-17T16:20:20.383710Z",
     "shell.execute_reply": "2021-10-17T16:20:20.383152Z",
     "shell.execute_reply.started": "2021-10-17T16:20:20.362117Z"
    },
    "papermill": {},
    "tags": []
   },
   "outputs": [],
   "source": [
    "fig = go.Figure()\n",
    "\n",
    "config = {'displayModeBar': False}\n",
    "\n",
    "\n",
    "fig = go.Figure(data=go.Choropleth(\n",
    "    locations = df['CODE'],\n",
    "    z = df['GDP (BILLIONS)'],\n",
    "    text = df['COUNTRY'],\n",
    "    colorscale = 'Blues',\n",
    "    autocolorscale=False,\n",
    "    reversescale=True,\n",
    "    marker_line_color='darkgray',\n",
    "    marker_line_width=0.5,\n",
    "    colorbar_tickprefix = '$',\n",
    "    colorbar_title = 'GDP<br>Billions US$',\n",
    "))\n",
    "\n",
    "fig.update_layout(\n",
    "    title=Title ,\n",
    "    plot_bgcolor=\"#ffffff\",\n",
    "    legend_x=1,\n",
    "    geo=dict(\n",
    "        showframe=False,\n",
    "        showcoastlines=False,\n",
    "        #projection_type='equirectangular'\n",
    "    ),\n",
    "    dragmode= False,\n",
    "    #width=800,\n",
    "    height=600,\n",
    "\n",
    ")\n",
    "fig.show(config=config)"
   ]
  },
  {
   "cell_type": "markdown",
   "id": "delayed-empire",
   "metadata": {
    "papermill": {},
    "tags": []
   },
   "source": [
    "## Output"
   ]
  },
  {
   "cell_type": "markdown",
   "id": "ea6ebc76-0d85-4f29-a88f-736e42cf1420",
   "metadata": {
    "execution": {
     "iopub.execute_input": "2021-10-17T15:35:59.991727Z",
     "iopub.status.busy": "2021-10-17T15:35:59.991476Z",
     "iopub.status.idle": "2021-10-17T15:36:00.000426Z",
     "shell.execute_reply": "2021-10-17T15:35:59.999753Z",
     "shell.execute_reply.started": "2021-10-17T15:35:59.991702Z"
    },
    "papermill": {},
    "tags": []
   },
   "source": [
    "### Export in PNG and HTML"
   ]
  },
  {
   "cell_type": "code",
   "execution_count": 6,
   "id": "f3676232-8e05-4fb4-83aa-8be0e421160c",
   "metadata": {
    "execution": {
     "iopub.execute_input": "2021-10-17T16:00:34.929227Z",
     "iopub.status.busy": "2021-10-17T16:00:34.929011Z",
     "iopub.status.idle": "2021-10-17T16:00:47.254060Z",
     "shell.execute_reply": "2021-10-17T16:00:47.253454Z",
     "shell.execute_reply.started": "2021-10-17T16:00:34.929201Z"
    },
    "papermill": {},
    "tags": []
   },
   "outputs": [],
   "source": [
    "naas_drivers.plotly.export(fig, f\"{Title}.png\", css=None)\n",
    "naas_drivers.plotly.export(fig, f\"{Title}.html\", css=None)"
   ]
  },
  {
   "cell_type": "markdown",
   "id": "53d12909-ea1f-450f-8383-98e8829b77f7",
   "metadata": {
    "papermill": {},
    "tags": []
   },
   "source": [
    "### Generate shareable assets"
   ]
  },
  {
   "cell_type": "code",
   "execution_count": 7,
   "id": "45263671-6b18-46f3-88d7-7bf5db36d58c",
   "metadata": {
    "execution": {
     "iopub.execute_input": "2021-10-17T16:00:47.258514Z",
     "iopub.status.busy": "2021-10-17T16:00:47.256983Z",
     "iopub.status.idle": "2021-10-17T16:00:48.406710Z",
     "shell.execute_reply": "2021-10-17T16:00:48.406075Z",
     "shell.execute_reply.started": "2021-10-17T16:00:47.258480Z"
    },
    "papermill": {},
    "tags": []
   },
   "outputs": [],
   "source": [
    "link_image = naas.asset.add(f\"{Title}.png\")\n",
    "link_html = naas.asset.add(f\"{Title}.html\", {\"inline\":True})"
   ]
  }
 ],
 "metadata": {
  "kernelspec": {
   "display_name": "Python 3",
   "language": "python",
   "name": "python3"
  },
  "language_info": {
   "codemirror_mode": {
    "name": "ipython",
    "version": 3
   },
   "file_extension": ".py",
   "mimetype": "text/x-python",
   "name": "python",
   "nbconvert_exporter": "python",
   "pygments_lexer": "ipython3",
   "version": "3.8.8"
  },
  "papermill": {
   "default_parameters": {},
   "environment_variables": {},
   "parameters": {},
   "version": "2.3.3"
  },
  "widgets": {
   "application/vnd.jupyter.widget-state+json": {
    "state": {
     "033b6a20a6364aae930f74a6639ff024": {
      "model_module": "@jupyter-widgets/controls",
      "model_module_version": "1.5.0",
      "model_name": "ButtonModel",
      "state": {
       "button_style": "primary",
       "description": "Copy URL",
       "layout": "IPY_MODEL_cf235527fc9b4cf99e0322404a719ff3",
       "style": "IPY_MODEL_29dc7c0db95e41cbb6994b2d7ae1c0ff"
      }
     },
     "2530a222af1e473d8e40b533dcdc7042": {
      "model_module": "@jupyter-widgets/output",
      "model_module_version": "1.0.0",
      "model_name": "OutputModel",
      "state": {
       "layout": "IPY_MODEL_3f11418d78d1445aa2dfee09eead118f"
      }
     },
     "29dc7c0db95e41cbb6994b2d7ae1c0ff": {
      "model_module": "@jupyter-widgets/controls",
      "model_module_version": "1.5.0",
      "model_name": "ButtonStyleModel",
      "state": {}
     },
     "2efdbd7489274b9a811d0147219b1499": {
      "model_module": "@jupyter-widgets/controls",
      "model_module_version": "1.5.0",
      "model_name": "ButtonModel",
      "state": {
       "button_style": "primary",
       "description": "Copy URL",
       "layout": "IPY_MODEL_eec86c20970f42aa93a2e90493bf962e",
       "style": "IPY_MODEL_4f0e898a539c47e19477f3afb7c8d6c1"
      }
     },
     "3f11418d78d1445aa2dfee09eead118f": {
      "model_module": "@jupyter-widgets/base",
      "model_module_version": "1.2.0",
      "model_name": "LayoutModel",
      "state": {}
     },
     "4f0e898a539c47e19477f3afb7c8d6c1": {
      "model_module": "@jupyter-widgets/controls",
      "model_module_version": "1.5.0",
      "model_name": "ButtonStyleModel",
      "state": {}
     },
     "b0f68e2eb3ed49e2910b4188a653a942": {
      "model_module": "@jupyter-widgets/base",
      "model_module_version": "1.2.0",
      "model_name": "LayoutModel",
      "state": {}
     },
     "cf235527fc9b4cf99e0322404a719ff3": {
      "model_module": "@jupyter-widgets/base",
      "model_module_version": "1.2.0",
      "model_name": "LayoutModel",
      "state": {}
     },
     "cf504b70d8f249079ef79e27bd206d27": {
      "model_module": "@jupyter-widgets/output",
      "model_module_version": "1.0.0",
      "model_name": "OutputModel",
      "state": {
       "layout": "IPY_MODEL_b0f68e2eb3ed49e2910b4188a653a942"
      }
     },
     "eec86c20970f42aa93a2e90493bf962e": {
      "model_module": "@jupyter-widgets/base",
      "model_module_version": "1.2.0",
      "model_name": "LayoutModel",
      "state": {}
     }
    },
    "version_major": 2,
    "version_minor": 0
   }
  }
 },
 "nbformat": 4,
 "nbformat_minor": 5
}