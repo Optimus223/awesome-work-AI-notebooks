{
 "cells": [
  {
   "cell_type": "markdown",
   "id": "later-jacksonville",
   "metadata": {
    "papermill": {},
    "tags": []
   },
   "source": [
    "<img width=\"10%\" alt=\"Naas\" src=\"https://landen.imgix.net/jtci2pxwjczr/assets/5ice39g4.png?w=160\"/>"
   ]
  },
  {
   "cell_type": "markdown",
   "id": "engaging-toddler",
   "metadata": {
    "papermill": {},
    "tags": []
   },
   "source": [
    "# Elastic Search - Connect to server\n",
    "<a href=\"https://app.naas.ai/user-redirect/naas/downloader?url=https://raw.githubusercontent.com/jupyter-naas/awesome-notebooks/master/Elastic%20Search/Elastic%20Search_Connect_to_server.ipynb\" target=\"_parent\"><img src=\"https://img.shields.io/badge/-Open%20in%20Naas-success?labelColor=000000&logo=data:image/svg+xml;base64,PD94bWwgdmVyc2lvbj0iMS4wIiBlbmNvZGluZz0iVVRGLTgiPz4KPHN2ZyB3aWR0aD0iMTAyNHB4IiBoZWlnaHQ9IjEwMjRweCIgdmlld0JveD0iMCAwIDEwMjQgMTAyNCIgeG1sbnM9Imh0dHA6Ly93d3cudzMub3JnLzIwMDAvc3ZnIiB4bWxuczp4bGluaz0iaHR0cDovL3d3dy53My5vcmcvMTk5OS94bGluayIgdmVyc2lvbj0iMS4xIj4KIDwhLS0gR2VuZXJhdGVkIGJ5IFBpeGVsbWF0b3IgUHJvIDIuMC41IC0tPgogPGRlZnM+CiAgPHRleHQgaWQ9InN0cmluZyIgdHJhbnNmb3JtPSJtYXRyaXgoMS4wIDAuMCAwLjAgMS4wIDIyOC4wIDU0LjUpIiBmb250LWZhbWlseT0iQ29tZm9ydGFhLVJlZ3VsYXIsIENvbWZvcnRhYSIgZm9udC1zaXplPSI4MDAiIHRleHQtZGVjb3JhdGlvbj0ibm9uZSIgZmlsbD0iI2ZmZmZmZiIgeD0iMS4xOTk5OTk5OTk5OTk5ODg2IiB5PSI3MDUuMCI+bjwvdGV4dD4KIDwvZGVmcz4KIDx1c2UgaWQ9Im4iIHhsaW5rOmhyZWY9IiNzdHJpbmciLz4KPC9zdmc+Cg==\"/></a>"
   ]
  },
  {
   "cell_type": "markdown",
   "id": "b1a140c9-d7a2-4806-b396-f446e085adb7",
   "metadata": {},
   "source": [
    "**Tags:** #elastic search"
   ]
  },
  {
   "cell_type": "markdown",
   "id": "palestinian-deployment",
   "metadata": {
    "papermill": {},
    "tags": []
   },
   "source": [
    "### 1. Prerequisites"
   ]
  },
  {
   "cell_type": "markdown",
   "id": "weird-fence",
   "metadata": {
    "papermill": {},
    "tags": []
   },
   "source": [
    "- python3\n",
    "- ubuntu 18.04\n",
    "- java1.8"
   ]
  },
  {
   "cell_type": "markdown",
   "id": "printable-yield",
   "metadata": {
    "papermill": {},
    "tags": []
   },
   "source": [
    "### 2. Elasticsearch on local machine"
   ]
  },
  {
   "cell_type": "markdown",
   "id": "organized-movement",
   "metadata": {
    "papermill": {},
    "tags": []
   },
   "source": [
    "#### Install Linux packages"
   ]
  },
  {
   "cell_type": "markdown",
   "id": "imperial-columbus",
   "metadata": {
    "papermill": {},
    "tags": []
   },
   "source": [
    "```sh\n",
    "$ sudo apt update\n",
    "$ sudo apt-get install apt-transport-http\n",
    "$ wget -qO - https://artifacts.elastic.co/GPG-KEY-elasticsearch | sudo apt-key add -\n",
    "$ sudo add-apt-repository \"deb https://artifacts.elastic.co/packages/7.x/apt stable main\"\n",
    "$ sudo apt update\n",
    "$ sudo apt install elasticsearch \n",
    "```"
   ]
  },
  {
   "cell_type": "markdown",
   "id": "preceding-representative",
   "metadata": {
    "papermill": {},
    "tags": []
   },
   "source": [
    "#### Check status of Elasticsearch server (Local)"
   ]
  },
  {
   "cell_type": "markdown",
   "id": "irish-breach",
   "metadata": {
    "papermill": {},
    "tags": []
   },
   "source": [
    "```sh\n",
    "$ sudo /etc/init.d/elasticsearch status\n",
    "```"
   ]
  },
  {
   "cell_type": "markdown",
   "id": "compressed-ethnic",
   "metadata": {
    "papermill": {},
    "tags": []
   },
   "source": [
    "#### Start Elasticsearch server (Local)"
   ]
  },
  {
   "cell_type": "markdown",
   "id": "polished-marijuana",
   "metadata": {
    "papermill": {},
    "tags": []
   },
   "source": [
    "```sh\n",
    "$ sudo /etc/init.d/elasticsearch start\n",
    "```"
   ]
  },
  {
   "cell_type": "markdown",
   "id": "tired-sperm",
   "metadata": {
    "papermill": {},
    "tags": []
   },
   "source": [
    "##### Note : Install Java 1.8 and set Java environment variables path"
   ]
  },
  {
   "cell_type": "markdown",
   "id": "together-kinase",
   "metadata": {
    "papermill": {},
    "tags": []
   },
   "source": [
    "### 3. Elasticsearch on cloud"
   ]
  },
  {
   "cell_type": "markdown",
   "id": "anonymous-liability",
   "metadata": {
    "papermill": {},
    "tags": []
   },
   "source": [
    "#### Step 1: Login to https://www.elastic.co/ and create a deployment"
   ]
  },
  {
   "cell_type": "markdown",
   "id": "hourly-lotus",
   "metadata": {
    "papermill": {},
    "tags": []
   },
   "source": [
    "#### Step 2: On successful deployment get credentials"
   ]
  },
  {
   "cell_type": "markdown",
   "id": "wired-presence",
   "metadata": {
    "papermill": {},
    "tags": []
   },
   "source": [
    "#### Step 3: Create Elasticsearch credentials JSON"
   ]
  },
  {
   "cell_type": "markdown",
   "id": "floral-quebec",
   "metadata": {
    "papermill": {},
    "tags": []
   },
   "source": [
    "#### Credentials Json format"
   ]
  },
  {
   "cell_type": "markdown",
   "id": "decreased-skating",
   "metadata": {
    "papermill": {},
    "tags": []
   },
   "source": [
    "```sh\n",
    "{\n",
    "\t\"endpoint\": \"< Elasticsearch endpoint from elasticsearch cloud >\",\n",
    "\t\"port\": \"< Port number as mentioned in elasticsearch cloud >\",\n",
    "\t\"user\": \"< User as mentioned in elasticsearch cloud >\",\n",
    "\t\"password\": \"< Elasticsearch cloud user password >\",\n",
    "\t\"protocol\": \"https\"\n",
    "}\n",
    "```"
   ]
  },
  {
   "cell_type": "markdown",
   "id": "electrical-spectrum",
   "metadata": {
    "papermill": {},
    "tags": []
   },
   "source": [
    "### 4. Python connector for Elasticsearch"
   ]
  },
  {
   "cell_type": "markdown",
   "id": "a1087f3e-2609-4a20-9815-d43949b62627",
   "metadata": {
    "execution": {
     "iopub.execute_input": "2021-10-01T15:00:19.737502Z",
     "iopub.status.busy": "2021-10-01T15:00:19.737168Z",
     "iopub.status.idle": "2021-10-01T15:00:19.740778Z",
     "shell.execute_reply": "2021-10-01T15:00:19.740007Z",
     "shell.execute_reply.started": "2021-10-01T15:00:19.737433Z"
    }
   },
   "source": [
    "## Input"
   ]
  },
  {
   "cell_type": "markdown",
   "id": "3b5003b3-6433-4e1d-951c-ecbbe4a68f5f",
   "metadata": {},
   "source": [
    "### Import library"
   ]
  },
  {
   "cell_type": "code",
   "execution_count": null,
   "id": "a34fbb90-f4e1-48c6-907a-8c352eec24d7",
   "metadata": {},
   "outputs": [],
   "source": [
    "from elasticsearchconnector import ElasticsearchConnector"
   ]
  },
  {
   "cell_type": "markdown",
   "id": "7937cebe-c341-4415-a005-a20a1a1adf48",
   "metadata": {},
   "source": [
    "## Model"
   ]
  },
  {
   "cell_type": "code",
   "execution_count": null,
   "id": "abandoned-console",
   "metadata": {
    "papermill": {},
    "tags": []
   },
   "outputs": [],
   "source": [
    "instance = ElasticsearchConnector(\"sample_credentials.json\")"
   ]
  },
  {
   "cell_type": "markdown",
   "id": "8280edb9-c0ea-4183-847a-2a9a96303387",
   "metadata": {},
   "source": [
    "### Send data to Elasticsearch server"
   ]
  },
  {
   "cell_type": "code",
   "execution_count": null,
   "id": "russian-browse",
   "metadata": {
    "papermill": {},
    "tags": []
   },
   "outputs": [],
   "source": [
    "# parameters = {'index':'< Name of the index >','type':' < Document name > '}\n",
    "parameters = {'index':'students','type':'engineering'}\n",
    "# data = { < Key value pairs > }\n",
    "data = {\"Name\": \"Poul\", \"Age\":20, \"address\": \"New york\"}\n",
    "result = instance.save_data(parameters,data)"
   ]
  },
  {
   "cell_type": "markdown",
   "id": "a2471f99-d29a-4d1f-b59e-3189fa58e7d0",
   "metadata": {},
   "source": [
    "### Search data from Elasticsearch server"
   ]
  },
  {
   "cell_type": "code",
   "execution_count": null,
   "id": "broken-turning",
   "metadata": {
    "papermill": {},
    "tags": []
   },
   "outputs": [],
   "source": [
    "# parameters = {'index':'< Name of the index >','type':' < Document name > '}\n",
    "parameters = {'index':'students','type':'engineering'}"
   ]
  },
  {
   "cell_type": "markdown",
   "id": "c666fc09-e315-43e0-b997-acf4a0559229",
   "metadata": {},
   "source": [
    "## Output"
   ]
  },
  {
   "cell_type": "markdown",
   "id": "bede939d-9348-4343-a516-f2837d31ce30",
   "metadata": {},
   "source": [
    "### Single search"
   ]
  },
  {
   "cell_type": "code",
   "execution_count": null,
   "id": "latter-purchase",
   "metadata": {
    "papermill": {},
    "tags": []
   },
   "outputs": [],
   "source": [
    "# Single search\n",
    "q1 = {\"query\": {\"match\": {'Name':'Poul'}}}\n",
    "result = instance.search_data(parameters,[q1],search_type='search')\n",
    "print(result)"
   ]
  },
  {
   "cell_type": "markdown",
   "id": "031450b9-9425-444e-9703-b53c84b9803d",
   "metadata": {},
   "source": [
    "### Multiple search"
   ]
  },
  {
   "cell_type": "code",
   "execution_count": null,
   "id": "impressive-saver",
   "metadata": {
    "papermill": {},
    "tags": []
   },
   "outputs": [],
   "source": [
    "# Multiple search\n",
    "q1 = {\"query\": {\"match\": {'Name':'Poul'}}}\n",
    "q2 = {\"query\": {\"match\": {'Age':27}}}\n",
    "result = instance.search_data(parameters,[q1,q2],search_type='msearch')\n",
    "print(result)"
   ]
  }
 ],
 "metadata": {
  "kernelspec": {
   "display_name": "Python 3",
   "language": "python",
   "name": "python3"
  },
  "language_info": {
   "codemirror_mode": {
    "name": "ipython",
    "version": 3
   },
   "file_extension": ".py",
   "mimetype": "text/x-python",
   "name": "python",
   "nbconvert_exporter": "python",
   "pygments_lexer": "ipython3",
   "version": "3.8.8"
  },
  "papermill": {
   "default_parameters": {},
   "environment_variables": {},
   "parameters": {},
   "version": "2.3.3"
  }
 },
 "nbformat": 4,
 "nbformat_minor": 5
}
