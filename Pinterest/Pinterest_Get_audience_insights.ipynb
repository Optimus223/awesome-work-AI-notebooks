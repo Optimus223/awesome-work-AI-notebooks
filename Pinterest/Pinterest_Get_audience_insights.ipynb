{
 "cells": [
  {
   "cell_type": "markdown",
   "id": "dbfe669a",
   "metadata": {
    "execution": {
     "iopub.execute_input": "2021-02-23T14:22:16.610471Z",
     "iopub.status.busy": "2021-02-23T14:22:16.610129Z",
     "iopub.status.idle": "2021-02-23T14:22:16.627784Z",
     "shell.execute_reply": "2021-02-23T14:22:16.626866Z",
     "shell.execute_reply.started": "2021-02-23T14:22:16.610384Z"
    },
    "papermill": {},
    "tags": []
   },
   "source": [
    "<img width=\"10%\" alt=\"Naas\" src=\"https://landen.imgix.net/jtci2pxwjczr/assets/5ice39g4.png?w=160\"/>"
   ]
  },
  {
   "cell_type": "markdown",
   "id": "5bbfcea2",
   "metadata": {
    "papermill": {},
    "tags": []
   },
   "source": [
    "# Pinterest - Get audience inisghts\n",
    "<a href=\"https://app.naas.ai/user-redirect/naas/downloader?url=https://raw.githubusercontent.com/jupyter-naas/awesome-notebooks/master/Instagram/Instagram_Get_stats_from_posts.ipynb\" target=\"_parent\"><img src=\"https://naasai-public.s3.eu-west-3.amazonaws.com/Open_in_Naas_Lab.svg\"/></a><br><br><a href=\"https://github.com/jupyter-naas/awesome-notebooks/issues/new?assignees=&labels=&template=template-request.md&title=Tool+-+Action+of+the+notebook+\">Template request</a> | <a href=\"https://github.com/jupyter-naas/awesome-notebooks/issues/new?assignees=&labels=bug&template=bug_report.md&title=Instagram+-+Get+stats+from+posts:+Error+short+description\">Bug report</a> | <a href=\"https://app.naas.ai/user-redirect/naas/downloader?url=https://raw.githubusercontent.com/jupyter-naas/awesome-notebooks/master/Naas/Naas_Start_data_product.ipynb\" target=\"_parent\">Generate Data Product</a>"
   ]
  },
  {
   "cell_type": "markdown",
   "id": "394838ed",
   "metadata": {
    "papermill": {},
    "tags": []
   },
   "source": [
    "**Tags:** #pinterest #snippet #dataframe #content"
   ]
  },
  {
   "cell_type": "markdown",
   "id": "370242e8",
   "metadata": {
    "papermill": {},
    "tags": []
   },
   "source": [
    "**Author:** [Mardiat-Iman](https://www.linkedin.com/in/mardiat-iman-ibrahim-imam-726027262)"
   ]
  },
  {
   "cell_type": "markdown",
   "id": "naas-description",
   "metadata": {
    "papermill": {},
    "tags": [
     "description"
    ]
   },
   "source": [
    "**Description:** This notebook provides an easy way to analyze Pinterest posts and gain audience insights."
   ]
  },
  {
   "cell_type": "markdown",
   "id": "de96f02c",
   "metadata": {
    "papermill": {},
    "tags": []
   },
   "source": [
    "## Input"
   ]
  },
  {
   "cell_type": "markdown",
   "id": "93bc8174",
   "metadata": {
    "papermill": {},
    "tags": []
   },
   "source": [
    "### Import libraries"
   ]
  },
  {
   "cell_type": "code",
   "execution_count": 1,
   "id": "74970edf",
   "metadata": {
    "execution": {
     "iopub.execute_input": "2023-07-12T07:51:09.965243Z",
     "iopub.status.busy": "2023-07-12T07:51:09.964931Z",
     "iopub.status.idle": "2023-07-12T07:51:10.500341Z",
     "shell.execute_reply": "2023-07-12T07:51:10.499430Z",
     "shell.execute_reply.started": "2023-07-12T07:51:09.965172Z"
    },
    "papermill": {},
    "tags": []
   },
   "outputs": [],
   "source": [
    "import requests\n",
    "import json\n",
    "import datetime\n",
    "import pandas as pd"
   ]
  },
  {
   "cell_type": "code",
   "execution_count": 4,
   "id": "af446611",
   "metadata": {
    "execution": {
     "iopub.execute_input": "2023-07-12T07:51:42.278446Z",
     "iopub.status.busy": "2023-07-12T07:51:42.278062Z",
     "iopub.status.idle": "2023-07-12T07:51:42.282835Z",
     "shell.execute_reply": "2023-07-12T07:51:42.281832Z",
     "shell.execute_reply.started": "2023-07-12T07:51:42.278404Z"
    },
    "papermill": {},
    "tags": []
   },
   "outputs": [],
   "source": [
    "ad_account_id = \"\"\n",
    "your_total_audience = \"\""
   ]
  },
  {
   "cell_type": "markdown",
   "id": "0957e2bc",
   "metadata": {
    "papermill": {},
    "tags": []
   },
   "source": [
    "### Variables"
   ]
  },
  {
   "cell_type": "code",
   "execution_count": 5,
   "id": "8f9ede3d",
   "metadata": {
    "execution": {
     "iopub.execute_input": "2023-07-12T07:51:44.321682Z",
     "iopub.status.busy": "2023-07-12T07:51:44.321270Z",
     "iopub.status.idle": "2023-07-12T07:51:44.326522Z",
     "shell.execute_reply": "2023-07-12T07:51:44.325640Z",
     "shell.execute_reply.started": "2023-07-12T07:51:44.321644Z"
    },
    "papermill": {},
    "tags": []
   },
   "outputs": [],
   "source": [
    "params = dict()\n",
    "params[\"ad_account_id\"] = ad_account_id\n",
    "params[\"audience_insight_type\"] = your_total_audience"
   ]
  },
  {
   "cell_type": "markdown",
   "id": "9829569f",
   "metadata": {
    "papermill": {},
    "tags": []
   },
   "source": [
    "## Model"
   ]
  },
  {
   "cell_type": "markdown",
   "id": "11adfd7c",
   "metadata": {
    "papermill": {},
    "tags": []
   },
   "source": [
    "### Get list of posts and associated stats"
   ]
  },
  {
   "cell_type": "code",
   "execution_count": null,
   "id": "3ff0beb9",
   "metadata": {
    "papermill": {},
    "tags": []
   },
   "outputs": [],
   "source": [
    "# Define URL\n",
    "url = params[\"endpoint_base\"] + params[\"instagram_account_id\"] + \"/media\"\n",
    "\n",
    "# Define Endpoint Parameters\n",
    "endpointParams = dict()\n",
    "endpointParams[\n",
    "    \"fields\"\n",
    "] = \"id,caption,media_type,media_url,permalink,thumbnail_url,timestamp,username,like_count,comments_count\"\n",
    "endpointParams[\"access_token\"] = params[\"access_token\"]\n",
    "\n",
    "# Requests Data\n",
    "data = requests.get(url, endpointParams)\n",
    "basic_insight = json.loads(data.content)"
   ]
  },
  {
   "cell_type": "markdown",
   "id": "14696ed5",
   "metadata": {
    "execution": {
     "iopub.execute_input": "2021-07-02T23:32:10.789097Z",
     "iopub.status.busy": "2021-07-02T23:32:10.788829Z",
     "iopub.status.idle": "2021-07-02T23:32:10.796900Z",
     "shell.execute_reply": "2021-07-02T23:32:10.796358Z",
     "shell.execute_reply.started": "2021-07-02T23:32:10.789033Z"
    },
    "papermill": {},
    "tags": []
   },
   "source": [
    "## Output"
   ]
  },
  {
   "cell_type": "markdown",
   "id": "72557a2c",
   "metadata": {
    "papermill": {},
    "tags": []
   },
   "source": [
    "### Display result"
   ]
  },
  {
   "cell_type": "code",
   "execution_count": null,
   "id": "3fd8b85f",
   "metadata": {
    "papermill": {},
    "tags": []
   },
   "outputs": [],
   "source": [
    "df = pd.DataFrame(basic_insight[\"data\"])\n",
    "df.columns = [\n",
    "    \"id\",\n",
    "    \"Caption\",\n",
    "    \"Media_Type\",\n",
    "    \"Media_URL\",\n",
    "    \"Permalink\",\n",
    "    \"Timestamp\",\n",
    "    \"Username\",\n",
    "    \"Likes\",\n",
    "    \"Comments\",\n",
    "]\n",
    "df.head()"
   ]
  }
 ],
 "metadata": {
  "kernelspec": {
   "display_name": "Python 3",
   "language": "python",
   "name": "python3"
  },
  "language_info": {
   "codemirror_mode": {
    "name": "ipython",
    "version": 3
   },
   "file_extension": ".py",
   "mimetype": "text/x-python",
   "name": "python",
   "nbconvert_exporter": "python",
   "pygments_lexer": "ipython3",
   "version": "3.9.6"
  },
  "naas": {
   "notebook_id": "8c1d59ba9fc141ddf76ab615ec70620884b5be94f4cde842bd75126ac862db52",
   "notebook_path": "Instagram/Instagram_Get_stats_from_posts.ipynb"
  },
  "papermill": {
   "default_parameters": {},
   "environment_variables": {},
   "parameters": {},
   "version": "2.3.3"
  },
  "widgets": {
   "application/vnd.jupyter.widget-state+json": {
    "state": {},
    "version_major": 2,
    "version_minor": 0
   }
  }
 },
 "nbformat": 4,
 "nbformat_minor": 5
}
