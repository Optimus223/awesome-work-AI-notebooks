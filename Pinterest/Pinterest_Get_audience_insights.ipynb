{
 "cells": [
  {
   "cell_type": "markdown",
   "id": "dbfe669a",
   "metadata": {
    "execution": {
     "iopub.execute_input": "2021-02-23T14:22:16.610471Z",
     "iopub.status.busy": "2021-02-23T14:22:16.610129Z",
     "iopub.status.idle": "2021-02-23T14:22:16.627784Z",
     "shell.execute_reply": "2021-02-23T14:22:16.626866Z",
     "shell.execute_reply.started": "2021-02-23T14:22:16.610384Z"
    },
    "papermill": {},
    "tags": []
   },
   "source": [
    "<img width=\"10%\" alt=\"Naas\" src=\"https://landen.imgix.net/jtci2pxwjczr/assets/5ice39g4.png?w=160\"/>"
   ]
  },
  {
   "cell_type": "markdown",
   "id": "5bbfcea2",
   "metadata": {
    "papermill": {},
    "tags": []
   },
   "source": [
    "# Pinterest - Get audience insights\n",
    "<a href=\"https://app.naas.ai/user-redirect/naas/downloader?url=https://raw.githubusercontent.com/jupyter-naas/awesome-notebooks/master/Instagram/Instagram_Get_stats_from_posts.ipynb\" target=\"_parent\"><img src=\"https://naasai-public.s3.eu-west-3.amazonaws.com/Open_in_Naas_Lab.svg\"/></a><br><br><a href=\"https://github.com/jupyter-naas/awesome-notebooks/issues/new?assignees=&labels=&template=template-request.md&title=Tool+-+Action+of+the+notebook+\">Template request</a> | <a href=\"https://github.com/jupyter-naas/awesome-notebooks/issues/new?assignees=&labels=bug&template=bug_report.md&title=Instagram+-+Get+stats+from+posts:+Error+short+description\">Bug report</a> | <a href=\"https://app.naas.ai/user-redirect/naas/downloader?url=https://raw.githubusercontent.com/jupyter-naas/awesome-notebooks/master/Naas/Naas_Start_data_product.ipynb\" target=\"_parent\">Generate Data Product</a>"
   ]
  },
  {
   "cell_type": "markdown",
   "id": "394838ed",
   "metadata": {
    "papermill": {},
    "tags": []
   },
   "source": [
    "**Tags:** #pinterest #snippet #dataframe #content"
   ]
  },
  {
   "cell_type": "markdown",
   "id": "370242e8",
   "metadata": {
    "papermill": {},
    "tags": []
   },
   "source": [
    "**Author:** [Mardiat-Iman](https://www.linkedin.com/in/mardiat-iman-ibrahim-imam-726027262)"
   ]
  },
  {
   "cell_type": "markdown",
   "id": "naas-description",
   "metadata": {
    "papermill": {},
    "tags": [
     "description"
    ]
   },
   "source": [
    "**Description:** This notebook provides an easy way to analyze and gain audience insights on Pinterest ad accounts."
   ]
  },
  {
   "cell_type": "markdown",
   "id": "2aa94702-587d-48d7-9cbf-c6a35d5a17e3",
   "metadata": {
    "papermill": {},
    "tags": [
     "description"
    ]
   },
   "source": [
    "**Refrences:** \n",
    "\n",
    "-[Pinterest API developers platform](https://developers.pinterest.com/docs/api/v5/#operation/audience_insights/get)"
   ]
  },
  {
   "cell_type": "markdown",
   "id": "de96f02c",
   "metadata": {
    "papermill": {},
    "tags": []
   },
   "source": [
    "## Input"
   ]
  },
  {
   "cell_type": "markdown",
   "id": "93bc8174",
   "metadata": {
    "papermill": {},
    "tags": []
   },
   "source": [
    "### Import libraries"
   ]
  },
  {
   "cell_type": "code",
   "execution_count": 7,
   "id": "74970edf",
   "metadata": {
    "execution": {
     "iopub.execute_input": "2023-07-13T21:23:54.357445Z",
     "iopub.status.busy": "2023-07-13T21:23:54.357216Z",
     "iopub.status.idle": "2023-07-13T21:23:54.682882Z",
     "shell.execute_reply": "2023-07-13T21:23:54.682240Z",
     "shell.execute_reply.started": "2023-07-13T21:23:54.357420Z"
    },
    "papermill": {},
    "tags": []
   },
   "outputs": [],
   "source": [
    "import requests\n",
    "import pandas as pd"
   ]
  },
  {
   "cell_type": "markdown",
   "id": "0957e2bc",
   "metadata": {
    "papermill": {},
    "tags": []
   },
   "source": [
    "### Setup Variables"
   ]
  },
  {
   "cell_type": "code",
   "execution_count": 8,
   "id": "b97dd4da-e34b-4f41-898a-7d725d54eb07",
   "metadata": {
    "execution": {
     "iopub.execute_input": "2023-07-13T21:23:55.454163Z",
     "iopub.status.busy": "2023-07-13T21:23:55.453919Z",
     "iopub.status.idle": "2023-07-13T21:23:55.458767Z",
     "shell.execute_reply": "2023-07-13T21:23:55.458121Z",
     "shell.execute_reply.started": "2023-07-13T21:23:55.454136Z"
    },
    "papermill": {},
    "tags": []
   },
   "outputs": [],
   "source": [
    "#set the ad_account_id variable\n",
    "ad_account_id = \"your_account_id_here\""
   ]
  },
  {
   "cell_type": "markdown",
   "id": "9829569f",
   "metadata": {
    "papermill": {},
    "tags": []
   },
   "source": [
    "## Model"
   ]
  },
  {
   "cell_type": "markdown",
   "id": "11adfd7c",
   "metadata": {
    "papermill": {},
    "tags": []
   },
   "source": [
    "### Get list of posts and associated stats"
   ]
  },
  {
   "cell_type": "code",
   "execution_count": 9,
   "id": "3ff0beb9",
   "metadata": {
    "execution": {
     "iopub.execute_input": "2023-07-13T21:23:58.899747Z",
     "iopub.status.busy": "2023-07-13T21:23:58.899410Z",
     "iopub.status.idle": "2023-07-13T21:23:59.054204Z",
     "shell.execute_reply": "2023-07-13T21:23:59.053555Z",
     "shell.execute_reply.started": "2023-07-13T21:23:58.899713Z"
    },
    "papermill": {},
    "tags": []
   },
   "outputs": [
    {
     "name": "stdout",
     "output_type": "stream",
     "text": [
      "POST request failed with status code: 401\n"
     ]
    }
   ],
   "source": [
    "# Define the URL\n",
    "url = f\"https://api.pinterest.com/v5/ad_accounts/{ad_account_id}/audience_insights\"\n",
    "\n",
    "# Define the payload (data) for the POST request\n",
    "\n",
    "# Define the query parameters\n",
    "params = {\n",
    "    \"audience_insight_type\": \"YOUR_TOTAL_AUDIENCE\"\n",
    "}\n",
    "\n",
    "# Make the POST request\n",
    "response = requests.get(url)\n",
    "\n",
    "# Check the response\n",
    "if response.status_code == 200:\n",
    "    print(\"POST request was successful!\")\n",
    "    # Process the response data if needed\n",
    "else:\n",
    "    print(f\"POST request failed with status code: {response.status_code}\")\n"
   ]
  },
  {
   "cell_type": "markdown",
   "id": "14696ed5",
   "metadata": {
    "execution": {
     "iopub.execute_input": "2021-07-02T23:32:10.789097Z",
     "iopub.status.busy": "2021-07-02T23:32:10.788829Z",
     "iopub.status.idle": "2021-07-02T23:32:10.796900Z",
     "shell.execute_reply": "2021-07-02T23:32:10.796358Z",
     "shell.execute_reply.started": "2021-07-02T23:32:10.789033Z"
    },
    "papermill": {},
    "tags": []
   },
   "source": [
    "## Output"
   ]
  },
  {
   "cell_type": "markdown",
   "id": "72557a2c",
   "metadata": {
    "papermill": {},
    "tags": []
   },
   "source": [
    "### Display result"
   ]
  },
  {
   "cell_type": "code",
   "execution_count": 11,
   "id": "4b975c8c-d144-4de6-b23b-b5d35ee5db03",
   "metadata": {
    "execution": {
     "iopub.execute_input": "2023-07-13T21:24:43.942490Z",
     "iopub.status.busy": "2023-07-13T21:24:43.942184Z",
     "iopub.status.idle": "2023-07-13T21:24:43.962482Z",
     "shell.execute_reply": "2023-07-13T21:24:43.961461Z",
     "shell.execute_reply.started": "2023-07-13T21:24:43.942453Z"
    },
    "papermill": {},
    "tags": []
   },
   "outputs": [
    {
     "ename": "TypeError",
     "evalue": "'Response' object is not subscriptable",
     "output_type": "error",
     "traceback": [
      "\u001b[0;31m---------------------------------------------------------------------------\u001b[0m",
      "\u001b[0;31mTypeError\u001b[0m                                 Traceback (most recent call last)",
      "\u001b[0;32m<ipython-input-11-b3bbf0ec815b>\u001b[0m in \u001b[0;36m<module>\u001b[0;34m\u001b[0m\n\u001b[0;32m----> 1\u001b[0;31m \u001b[0mdf\u001b[0m \u001b[0;34m=\u001b[0m \u001b[0mpd\u001b[0m\u001b[0;34m.\u001b[0m\u001b[0mDataFrame\u001b[0m\u001b[0;34m(\u001b[0m\u001b[0mresponse\u001b[0m\u001b[0;34m[\u001b[0m\u001b[0;34m\"data\"\u001b[0m\u001b[0;34m]\u001b[0m\u001b[0;34m)\u001b[0m\u001b[0;34m\u001b[0m\u001b[0;34m\u001b[0m\u001b[0m\n\u001b[0m\u001b[1;32m      2\u001b[0m df.columns = [\n\u001b[1;32m      3\u001b[0m     \u001b[0;34m\"categories\"\u001b[0m\u001b[0;34m,\u001b[0m\u001b[0;34m\u001b[0m\u001b[0;34m\u001b[0m\u001b[0m\n\u001b[1;32m      4\u001b[0m     \u001b[0;34m\"demographics\"\u001b[0m\u001b[0;34m,\u001b[0m\u001b[0;34m\u001b[0m\u001b[0;34m\u001b[0m\u001b[0m\n\u001b[1;32m      5\u001b[0m ]\n",
      "\u001b[0;31mTypeError\u001b[0m: 'Response' object is not subscriptable"
     ]
    }
   ],
   "source": [
    "df = pd.DataFrame(response[\"data\"])\n",
    "df.columns = [\n",
    "    \"categories\",\n",
    "    \"demographics\",\n",
    "]\n",
    "df.head()"
   ]
  },
  {
   "cell_type": "code",
   "execution_count": null,
   "id": "0a49c75d-4073-4133-996a-4fd2ce97eff1",
   "metadata": {},
   "outputs": [],
   "source": []
  }
 ],
 "metadata": {
  "kernelspec": {
   "display_name": "Python 3",
   "language": "python",
   "name": "python3"
  },
  "language_info": {
   "codemirror_mode": {
    "name": "ipython",
    "version": 3
   },
   "file_extension": ".py",
   "mimetype": "text/x-python",
   "name": "python",
   "nbconvert_exporter": "python",
   "pygments_lexer": "ipython3",
   "version": "3.9.6"
  },
  "naas": {
   "notebook_id": "8c1d59ba9fc141ddf76ab615ec70620884b5be94f4cde842bd75126ac862db52",
   "notebook_path": "Instagram/Instagram_Get_stats_from_posts.ipynb"
  },
  "papermill": {
   "default_parameters": {},
   "environment_variables": {},
   "parameters": {},
   "version": "2.3.3"
  },
  "widgets": {
   "application/vnd.jupyter.widget-state+json": {
    "state": {},
    "version_major": 2,
    "version_minor": 0
   }
  }
 },
 "nbformat": 4,
 "nbformat_minor": 5
}
