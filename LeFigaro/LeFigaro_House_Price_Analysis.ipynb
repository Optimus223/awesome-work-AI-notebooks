{
 "cells": [
  {
   "cell_type": "markdown",
   "metadata": {},
   "source": [
    "<img width=\"10%\" alt=\"Naas\" src=\"https://landen.imgix.net/jtci2pxwjczr/assets/5ice39g4.png?w=160\"/>"
   ]
  },
  {
   "cell_type": "markdown",
   "metadata": {},
   "source": [
    "# LeFigaro - House price analysis"
   ]
  },
  {
   "cell_type": "markdown",
   "metadata": {
    "execution": {
     "iopub.execute_input": "2022-06-11T06:43:10.399872Z",
     "iopub.status.busy": "2022-06-11T06:43:10.399643Z",
     "iopub.status.idle": "2022-06-11T06:43:10.408415Z",
     "shell.execute_reply": "2022-06-11T06:43:10.407504Z",
     "shell.execute_reply.started": "2022-06-11T06:43:10.399850Z"
    }
   },
   "source": [
    "**Description:**\n",
    "As a investor I want to know what is the most interesting investment to be made by number of rooms in a particular area.\n"
   ]
  },
  {
   "cell_type": "markdown",
   "metadata": {
    "execution": {
     "iopub.execute_input": "2022-06-11T06:41:37.327510Z",
     "iopub.status.busy": "2022-06-11T06:41:37.327283Z",
     "iopub.status.idle": "2022-06-11T06:41:37.338730Z",
     "shell.execute_reply": "2022-06-11T06:41:37.337744Z",
     "shell.execute_reply.started": "2022-06-11T06:41:37.327488Z"
    }
   },
   "source": [
    "**Tags:** #investors #immobilier #markdown #graph #chart"
   ]
  },
  {
   "cell_type": "markdown",
   "metadata": {},
   "source": [
    "**Author:** [Mahanamana Andriamiharisoa](https://www.linkedin.com/in/mahanamana/)"
   ]
  },
  {
   "cell_type": "markdown",
   "metadata": {},
   "source": [
    "## Input"
   ]
  },
  {
   "cell_type": "markdown",
   "metadata": {},
   "source": [
    "### Import libraries"
   ]
  },
  {
   "cell_type": "code",
   "execution_count": 1,
   "metadata": {
    "execution": {
     "iopub.execute_input": "2022-06-11T06:27:31.323066Z",
     "iopub.status.busy": "2022-06-11T06:27:31.322652Z",
     "iopub.status.idle": "2022-06-11T06:27:34.537586Z",
     "shell.execute_reply": "2022-06-11T06:27:34.536929Z",
     "shell.execute_reply.started": "2022-06-11T06:27:31.322996Z"
    },
    "tags": []
   },
   "outputs": [],
   "source": [
    "import requests\n",
    "from bs4 import BeautifulSoup\n",
    "import pandas as pd\n",
    "import numpy as np\n",
    "import matplotlib.pyplot as plt\n",
    "import plotly.express as px\n",
    "import naas"
   ]
  },
  {
   "cell_type": "markdown",
   "metadata": {},
   "source": [
    "### Setup variables"
   ]
  },
  {
   "cell_type": "code",
   "execution_count": 2,
   "metadata": {
    "execution": {
     "iopub.execute_input": "2022-06-11T06:27:34.540409Z",
     "iopub.status.busy": "2022-06-11T06:27:34.540226Z",
     "iopub.status.idle": "2022-06-11T06:27:34.547539Z",
     "shell.execute_reply": "2022-06-11T06:27:34.547047Z",
     "shell.execute_reply.started": "2022-06-11T06:27:34.540389Z"
    }
   },
   "outputs": [],
   "source": [
    "title = \"House price analysis\"\n",
    "lefigaro_url=\"https://immobilier.lefigaro.fr/annonces/immobilier-vente-maison-paris.html?page=\" #link can be changed but keep ?page= to ensure scraping\n",
    "PAGES = 20 # change the number of pages to scrape\n",
    "\n",
    "# Output paths\n",
    "output_image = f\"{title}.png\"\n",
    "output_html = f\"{title}.html\""
   ]
  },
  {
   "cell_type": "markdown",
   "metadata": {},
   "source": [
    "### Setup scheduler"
   ]
  },
  {
   "cell_type": "code",
   "execution_count": 3,
   "metadata": {
    "execution": {
     "iopub.execute_input": "2022-06-11T06:27:34.550279Z",
     "iopub.status.busy": "2022-06-11T06:27:34.550122Z",
     "iopub.status.idle": "2022-06-11T06:27:34.644063Z",
     "shell.execute_reply": "2022-06-11T06:27:34.643336Z",
     "shell.execute_reply.started": "2022-06-11T06:27:34.550261Z"
    }
   },
   "outputs": [],
   "source": [
    "# if you want to activate or delete the scheduler, uncomment the lines below:\n",
    "\n",
    "#naas.scheduler.add(cron=\"0 8 * * *\") #every day at 8am\n",
    "#naas.scheduler.delete() "
   ]
  },
  {
   "cell_type": "markdown",
   "metadata": {},
   "source": [
    "## Model"
   ]
  },
  {
   "cell_type": "markdown",
   "metadata": {},
   "source": [
    "### Define functions to get"
   ]
  },
  {
   "cell_type": "code",
   "execution_count": 4,
   "metadata": {
    "execution": {
     "iopub.execute_input": "2022-06-11T06:27:34.650086Z",
     "iopub.status.busy": "2022-06-11T06:27:34.649825Z",
     "iopub.status.idle": "2022-06-11T06:27:34.747943Z",
     "shell.execute_reply": "2022-06-11T06:27:34.747407Z",
     "shell.execute_reply.started": "2022-06-11T06:27:34.650048Z"
    }
   },
   "outputs": [],
   "source": [
    "def get_prices(items):\n",
    "    prices=[]\n",
    "    for item in items:\n",
    "        price = item.select(\".price\")[0].get_text().strip().replace(\"€\", \"\").split()\n",
    "        prices.append(\"\".join(price))\n",
    "    return prices\n",
    "\n",
    "def get_location(items):\n",
    "    locations=[]\n",
    "    for item in items:\n",
    "        location=item.select(\".title-location\")[0].get_text().strip().split(\" \")\n",
    "        location.pop()\n",
    "        location = \"\".join(location)\n",
    "        locations.append(location)\n",
    "    return locations\n",
    "\n",
    "def get_vars(items):\n",
    "    options= []\n",
    "    piece=[]\n",
    "    chambre=[]\n",
    "    surface=[]\n",
    "    for item in items:\n",
    "        option = item.select(\".options\")\n",
    "        try:\n",
    "            piece.append(option[0].get_text().strip().split(\" \")[0])\n",
    "        except IndexError:\n",
    "            piece.append(None)\n",
    "        try:\n",
    "            chambre.append(option[1].get_text().strip().split(\" \")[0])\n",
    "        except IndexError:\n",
    "            chambre.append(None)\n",
    "        try:\n",
    "            surface.append(option[2].get_text().strip().split(\"M\")[0])\n",
    "        except IndexError:\n",
    "            surface.append(None)\n",
    "  \n",
    "    return [piece, chambre, surface]"
   ]
  },
  {
   "cell_type": "markdown",
   "metadata": {},
   "source": [
    "### Use functions to scrape data"
   ]
  },
  {
   "cell_type": "code",
   "execution_count": 5,
   "metadata": {
    "execution": {
     "iopub.execute_input": "2022-06-11T06:27:34.750191Z",
     "iopub.status.busy": "2022-06-11T06:27:34.749960Z",
     "iopub.status.idle": "2022-06-11T06:27:44.652079Z",
     "shell.execute_reply": "2022-06-11T06:27:44.651333Z",
     "shell.execute_reply.started": "2022-06-11T06:27:34.750169Z"
    }
   },
   "outputs": [
    {
     "name": "stdout",
     "output_type": "stream",
     "text": [
      "1 file creation iteration.\n",
      "2 file appending iteration.\n",
      "3 file appending iteration.\n",
      "4 file appending iteration.\n",
      "5 file appending iteration.\n",
      "6 file appending iteration.\n",
      "7 file appending iteration.\n",
      "8 file appending iteration.\n",
      "9 file appending iteration.\n",
      "10 file appending iteration.\n",
      "11 file appending iteration.\n",
      "12 file appending iteration.\n",
      "13 file appending iteration.\n",
      "14 file appending iteration.\n",
      "15 file appending iteration.\n",
      "16 file appending iteration.\n",
      "17 file appending iteration.\n",
      "18 file appending iteration.\n",
      "19 file appending iteration.\n",
      "20 file appending iteration.\n"
     ]
    }
   ],
   "source": [
    "for page in range(PAGES):\n",
    "    url = lefigaro_url+str(page+1)\n",
    "\n",
    "    whole_html = requests.get(url)\n",
    "\n",
    "    soup = BeautifulSoup(whole_html.content, \"html.parser\")\n",
    "    \n",
    "    cartouche_list = soup.findAll(True, {\"class\":\"cartouche-liste\"})\n",
    "    \n",
    "    data = pd.DataFrame({\n",
    "        \"price_(euro)\": get_prices(cartouche_list),\n",
    "        \"localisation\": get_location(cartouche_list),\n",
    "        \"piece\": get_vars(cartouche_list)[0],\n",
    "        \"chambre\": get_vars(cartouche_list)[1],\n",
    "        \"surface_(m2)\": get_vars(cartouche_list)[2]\n",
    "    })\n",
    "    \n",
    "    if page==0:\n",
    "        data.to_csv(\"figaro_dataset.csv\", index=False, encoding='utf-8')\n",
    "        print(str(page+1) + \" file creation iteration.\")\n",
    "    elif page != 0:\n",
    "        data.to_csv(\"figaro_dataset.csv\", mode='a', index=False, encoding='utf-8', header=False)\n",
    "        print(str(page+1) + \" file appending iteration.\")"
   ]
  },
  {
   "cell_type": "code",
   "execution_count": 6,
   "metadata": {
    "execution": {
     "iopub.execute_input": "2022-06-11T06:27:44.653432Z",
     "iopub.status.busy": "2022-06-11T06:27:44.653022Z",
     "iopub.status.idle": "2022-06-11T06:27:44.671169Z",
     "shell.execute_reply": "2022-06-11T06:27:44.670630Z",
     "shell.execute_reply.started": "2022-06-11T06:27:44.653395Z"
    }
   },
   "outputs": [],
   "source": [
    "df=pd.read_csv(\"figaro_dataset.csv\")\n",
    "df.dropna(axis=0, inplace=True)"
   ]
  },
  {
   "cell_type": "markdown",
   "metadata": {},
   "source": [
    "### Clean data to create outputs"
   ]
  },
  {
   "cell_type": "code",
   "execution_count": 7,
   "metadata": {
    "execution": {
     "iopub.execute_input": "2022-06-11T06:27:44.672541Z",
     "iopub.status.busy": "2022-06-11T06:27:44.672234Z",
     "iopub.status.idle": "2022-06-11T06:27:44.765779Z",
     "shell.execute_reply": "2022-06-11T06:27:44.765027Z",
     "shell.execute_reply.started": "2022-06-11T06:27:44.672460Z"
    }
   },
   "outputs": [],
   "source": [
    "try:\n",
    "    df['surface_(m2)']=df['surface_(m2)'].str.split(\" \", expand=True)[0]\n",
    "    df = df[~df['surface_(m2)'].str.contains('[0-9]+[a-zA-Z]+', regex=True)] \n",
    "except:\n",
    "    pass\n",
    "try:\n",
    "    df=df[~df['price_(euro)'].str.contains('[^0-9]', regex=True)]\n",
    "except:\n",
    "    pass\n",
    "\n",
    "df['price_(euro)']=pd.to_numeric(df['price_(euro)'], downcast='float', errors='coerce')\n",
    "df['piece']=pd.to_numeric(df['piece'], errors='coerce')\n",
    "df['chambre']=pd.to_numeric(df['chambre'], errors='coerce')\n",
    "df['surface_(m2)']=pd.to_numeric(df['surface_(m2)'], errors='coerce')\n",
    "df.dropna(axis=0, inplace=True)"
   ]
  },
  {
   "cell_type": "markdown",
   "metadata": {},
   "source": [
    "## Output"
   ]
  },
  {
   "cell_type": "markdown",
   "metadata": {
    "execution": {
     "iopub.execute_input": "2022-06-10T11:20:53.328805Z",
     "iopub.status.busy": "2022-06-10T11:20:53.328564Z",
     "iopub.status.idle": "2022-06-10T11:20:53.333694Z",
     "shell.execute_reply": "2022-06-10T11:20:53.333037Z",
     "shell.execute_reply.started": "2022-06-10T11:20:53.328776Z"
    }
   },
   "source": [
    "### Create chart"
   ]
  },
  {
   "cell_type": "code",
   "execution_count": 13,
   "metadata": {
    "execution": {
     "iopub.execute_input": "2022-06-11T06:35:13.871778Z",
     "iopub.status.busy": "2022-06-11T06:35:13.871523Z",
     "iopub.status.idle": "2022-06-11T06:35:13.987219Z",
     "shell.execute_reply": "2022-06-11T06:35:13.986487Z",
     "shell.execute_reply.started": "2022-06-11T06:35:13.871752Z"
    },
    "tags": []
   },
   "outputs": [
    {
     "data": {
      "application/vnd.plotly.v1+json": {
       "config": {
        "plotlyServerURL": "https://plot.ly"
       },
       "data": [
        {
         "hovertemplate": "<b>%{hovertext}</b><br><br>Localisation=Paris12ème<br>Nb. Chambres=%{x}<br>Prix en euro=%{marker.size}<extra></extra>",
         "hovertext": [
          "Paris12ème"
         ],
         "legendgroup": "Paris12ème",
         "marker": {
          "color": "#636efa",
          "size": [
           1355000
          ],
          "sizemode": "area",
          "sizeref": 17737.5,
          "symbol": "circle"
         },
         "mode": "markers",
         "name": "Paris12ème",
         "orientation": "v",
         "showlegend": true,
         "type": "scatter",
         "x": [
          3
         ],
         "xaxis": "x",
         "y": [
          1355000
         ],
         "yaxis": "y"
        },
        {
         "hovertemplate": "<b>%{hovertext}</b><br><br>Localisation=Paris17ème<br>Nb. Chambres=%{x}<br>Prix en euro=%{marker.size}<extra></extra>",
         "hovertext": [
          "Paris17ème",
          "Paris17ème",
          "Paris17ème"
         ],
         "legendgroup": "Paris17ème",
         "marker": {
          "color": "#EF553B",
          "size": [
           852800,
           3600000,
           4950000
          ],
          "sizemode": "area",
          "sizeref": 17737.5,
          "symbol": "circle"
         },
         "mode": "markers",
         "name": "Paris17ème",
         "orientation": "v",
         "showlegend": true,
         "type": "scatter",
         "x": [
          1,
          3,
          4
         ],
         "xaxis": "x",
         "y": [
          852800,
          3600000,
          4950000
         ],
         "yaxis": "y"
        },
        {
         "hovertemplate": "<b>%{hovertext}</b><br><br>Localisation=Paris14ème<br>Nb. Chambres=%{x}<br>Prix en euro=%{marker.size}<extra></extra>",
         "hovertext": [
          "Paris14ème",
          "Paris14ème",
          "Paris14ème",
          "Paris14ème",
          "Paris14ème",
          "Paris14ème"
         ],
         "legendgroup": "Paris14ème",
         "marker": {
          "color": "#00cc96",
          "size": [
           1400000,
           4370000,
           2850000,
           3220000,
           2650000,
           3220000
          ],
          "sizemode": "area",
          "sizeref": 17737.5,
          "symbol": "circle"
         },
         "mode": "markers",
         "name": "Paris14ème",
         "orientation": "v",
         "showlegend": true,
         "type": "scatter",
         "x": [
          3,
          4,
          4,
          6,
          2,
          6
         ],
         "xaxis": "x",
         "y": [
          1400000,
          4370000,
          2850000,
          3220000,
          2650000,
          3220000
         ],
         "yaxis": "y"
        },
        {
         "hovertemplate": "<b>%{hovertext}</b><br><br>Localisation=Paris18ème<br>Nb. Chambres=%{x}<br>Prix en euro=%{marker.size}<extra></extra>",
         "hovertext": [
          "Paris18ème",
          "Paris18ème",
          "Paris18ème",
          "Paris18ème",
          "Paris18ème"
         ],
         "legendgroup": "Paris18ème",
         "marker": {
          "color": "#ab63fa",
          "size": [
           871500,
           930000,
           3990000,
           2300000,
           930000
          ],
          "sizemode": "area",
          "sizeref": 17737.5,
          "symbol": "circle"
         },
         "mode": "markers",
         "name": "Paris18ème",
         "orientation": "v",
         "showlegend": true,
         "type": "scatter",
         "x": [
          2,
          3,
          5,
          5,
          3
         ],
         "xaxis": "x",
         "y": [
          871500,
          930000,
          3990000,
          2300000,
          930000
         ],
         "yaxis": "y"
        },
        {
         "hovertemplate": "<b>%{hovertext}</b><br><br>Localisation=Paris19ème<br>Nb. Chambres=%{x}<br>Prix en euro=%{marker.size}<extra></extra>",
         "hovertext": [
          "Paris19ème",
          "Paris19ème",
          "Paris19ème",
          "Paris19ème"
         ],
         "legendgroup": "Paris19ème",
         "marker": {
          "color": "#FFA15A",
          "size": [
           640900,
           1640000,
           2150000,
           1545000
          ],
          "sizemode": "area",
          "sizeref": 17737.5,
          "symbol": "circle"
         },
         "mode": "markers",
         "name": "Paris19ème",
         "orientation": "v",
         "showlegend": true,
         "type": "scatter",
         "x": [
          2,
          5,
          3,
          4
         ],
         "xaxis": "x",
         "y": [
          640900,
          1640000,
          2150000,
          1545000
         ],
         "yaxis": "y"
        },
        {
         "hovertemplate": "<b>%{hovertext}</b><br><br>Localisation=Paris11ème<br>Nb. Chambres=%{x}<br>Prix en euro=%{marker.size}<extra></extra>",
         "hovertext": [
          "Paris11ème",
          "Paris11ème",
          "Paris11ème"
         ],
         "legendgroup": "Paris11ème",
         "marker": {
          "color": "#19d3f3",
          "size": [
           1200000,
           2740000,
           1895000
          ],
          "sizemode": "area",
          "sizeref": 17737.5,
          "symbol": "circle"
         },
         "mode": "markers",
         "name": "Paris11ème",
         "orientation": "v",
         "showlegend": true,
         "type": "scatter",
         "x": [
          2,
          3,
          3
         ],
         "xaxis": "x",
         "y": [
          1200000,
          2740000,
          1895000
         ],
         "yaxis": "y"
        },
        {
         "hovertemplate": "<b>%{hovertext}</b><br><br>Localisation=Paris20ème<br>Nb. Chambres=%{x}<br>Prix en euro=%{marker.size}<extra></extra>",
         "hovertext": [
          "Paris20ème",
          "Paris20ème",
          "Paris20ème",
          "Paris20ème",
          "Paris20ème",
          "Paris20ème",
          "Paris20ème"
         ],
         "legendgroup": "Paris20ème",
         "marker": {
          "color": "#FF6692",
          "size": [
           1295000,
           1890000,
           1420000,
           1360000,
           1790000,
           2500000,
           2990000
          ],
          "sizemode": "area",
          "sizeref": 17737.5,
          "symbol": "circle"
         },
         "mode": "markers",
         "name": "Paris20ème",
         "orientation": "v",
         "showlegend": true,
         "type": "scatter",
         "x": [
          4,
          4,
          4,
          2,
          5,
          5,
          4
         ],
         "xaxis": "x",
         "y": [
          1295000,
          1890000,
          1420000,
          1360000,
          1790000,
          2500000,
          2990000
         ],
         "yaxis": "y"
        },
        {
         "hovertemplate": "<b>%{hovertext}</b><br><br>Localisation=Paris16ème<br>Nb. Chambres=%{x}<br>Prix en euro=%{marker.size}<extra></extra>",
         "hovertext": [
          "Paris16ème",
          "Paris16ème",
          "Paris16ème",
          "Paris16ème",
          "Paris16ème",
          "Paris16ème"
         ],
         "legendgroup": "Paris16ème",
         "marker": {
          "color": "#B6E880",
          "size": [
           2650000,
           2990000,
           6500000,
           5085000,
           4700000,
           5052650
          ],
          "sizemode": "area",
          "sizeref": 17737.5,
          "symbol": "circle"
         },
         "mode": "markers",
         "name": "Paris16ème",
         "orientation": "v",
         "showlegend": true,
         "type": "scatter",
         "x": [
          6,
          3,
          6,
          6,
          5,
          5
         ],
         "xaxis": "x",
         "y": [
          2650000,
          2990000,
          6500000,
          5085000,
          4700000,
          5052650
         ],
         "yaxis": "y"
        },
        {
         "hovertemplate": "<b>%{hovertext}</b><br><br>Localisation=Paris10ème<br>Nb. Chambres=%{x}<br>Prix en euro=%{marker.size}<extra></extra>",
         "hovertext": [
          "Paris10ème"
         ],
         "legendgroup": "Paris10ème",
         "marker": {
          "color": "#FF97FF",
          "size": [
           351000
          ],
          "sizemode": "area",
          "sizeref": 17737.5,
          "symbol": "circle"
         },
         "mode": "markers",
         "name": "Paris10ème",
         "orientation": "v",
         "showlegend": true,
         "type": "scatter",
         "x": [
          5
         ],
         "xaxis": "x",
         "y": [
          351000
         ],
         "yaxis": "y"
        },
        {
         "hovertemplate": "<b>%{hovertext}</b><br><br>Localisation=Paris13ème<br>Nb. Chambres=%{x}<br>Prix en euro=%{marker.size}<extra></extra>",
         "hovertext": [
          "Paris13ème",
          "Paris13ème",
          "Paris13ème",
          "Paris13ème"
         ],
         "legendgroup": "Paris13ème",
         "marker": {
          "color": "#FECB52",
          "size": [
           1699000,
           1750000,
           278000,
           3000000
          ],
          "sizemode": "area",
          "sizeref": 17737.5,
          "symbol": "circle"
         },
         "mode": "markers",
         "name": "Paris13ème",
         "orientation": "v",
         "showlegend": true,
         "type": "scatter",
         "x": [
          4,
          5,
          1,
          4
         ],
         "xaxis": "x",
         "y": [
          1699000,
          1750000,
          278000,
          3000000
         ],
         "yaxis": "y"
        },
        {
         "hovertemplate": "<b>%{hovertext}</b><br><br>Localisation=Paris15ème<br>Nb. Chambres=%{x}<br>Prix en euro=%{marker.size}<extra></extra>",
         "hovertext": [
          "Paris15ème",
          "Paris15ème"
         ],
         "legendgroup": "Paris15ème",
         "marker": {
          "color": "#636efa",
          "size": [
           1350000,
           2700000
          ],
          "sizemode": "area",
          "sizeref": 17737.5,
          "symbol": "circle"
         },
         "mode": "markers",
         "name": "Paris15ème",
         "orientation": "v",
         "showlegend": true,
         "type": "scatter",
         "x": [
          3,
          5
         ],
         "xaxis": "x",
         "y": [
          1350000,
          2700000
         ],
         "yaxis": "y"
        },
        {
         "hovertemplate": "<b>%{hovertext}</b><br><br>Localisation=Paris1er<br>Nb. Chambres=%{x}<br>Prix en euro=%{marker.size}<extra></extra>",
         "hovertext": [
          "Paris1er",
          "Paris1er",
          "Paris1er",
          "Paris1er",
          "Paris1er"
         ],
         "legendgroup": "Paris1er",
         "marker": {
          "color": "#EF553B",
          "size": [
           759000,
           435900,
           522500,
           850000,
           493825
          ],
          "sizemode": "area",
          "sizeref": 17737.5,
          "symbol": "circle"
         },
         "mode": "markers",
         "name": "Paris1er",
         "orientation": "v",
         "showlegend": true,
         "type": "scatter",
         "x": [
          4,
          4,
          4,
          5,
          3
         ],
         "xaxis": "x",
         "y": [
          759000,
          435900,
          522500,
          850000,
          493825
         ],
         "yaxis": "y"
        },
        {
         "hovertemplate": "<b>%{hovertext}</b><br><br>Localisation=Paris4ème<br>Nb. Chambres=%{x}<br>Prix en euro=%{marker.size}<extra></extra>",
         "hovertext": [
          "Paris4ème"
         ],
         "legendgroup": "Paris4ème",
         "marker": {
          "color": "#00cc96",
          "size": [
           475000
          ],
          "sizemode": "area",
          "sizeref": 17737.5,
          "symbol": "circle"
         },
         "mode": "markers",
         "name": "Paris4ème",
         "orientation": "v",
         "showlegend": true,
         "type": "scatter",
         "x": [
          1
         ],
         "xaxis": "x",
         "y": [
          475000
         ],
         "yaxis": "y"
        },
        {
         "hovertemplate": "<b>%{hovertext}</b><br><br>Localisation=Paris7ème<br>Nb. Chambres=%{x}<br>Prix en euro=%{marker.size}<extra></extra>",
         "hovertext": [
          "Paris7ème"
         ],
         "legendgroup": "Paris7ème",
         "marker": {
          "color": "#ab63fa",
          "size": [
           7095000
          ],
          "sizemode": "area",
          "sizeref": 17737.5,
          "symbol": "circle"
         },
         "mode": "markers",
         "name": "Paris7ème",
         "orientation": "v",
         "showlegend": true,
         "type": "scatter",
         "x": [
          3
         ],
         "xaxis": "x",
         "y": [
          7095000
         ],
         "yaxis": "y"
        },
        {
         "hovertemplate": "<b>%{hovertext}</b><br><br>Localisation=Paris2ème<br>Nb. Chambres=%{x}<br>Prix en euro=%{marker.size}<extra></extra>",
         "hovertext": [
          "Paris2ème"
         ],
         "legendgroup": "Paris2ème",
         "marker": {
          "color": "#FFA15A",
          "size": [
           1025000
          ],
          "sizemode": "area",
          "sizeref": 17737.5,
          "symbol": "circle"
         },
         "mode": "markers",
         "name": "Paris2ème",
         "orientation": "v",
         "showlegend": true,
         "type": "scatter",
         "x": [
          2
         ],
         "xaxis": "x",
         "y": [
          1025000
         ],
         "yaxis": "y"
        }
       ],
       "layout": {
        "height": 800,
        "legend": {
         "itemsizing": "constant",
         "title": {
          "text": "Localisation"
         },
         "tracegroupgap": 0
        },
        "margin": {
         "t": 60
        },
        "template": {
         "data": {
          "bar": [
           {
            "error_x": {
             "color": "#2a3f5f"
            },
            "error_y": {
             "color": "#2a3f5f"
            },
            "marker": {
             "line": {
              "color": "#E5ECF6",
              "width": 0.5
             },
             "pattern": {
              "fillmode": "overlay",
              "size": 10,
              "solidity": 0.2
             }
            },
            "type": "bar"
           }
          ],
          "barpolar": [
           {
            "marker": {
             "line": {
              "color": "#E5ECF6",
              "width": 0.5
             },
             "pattern": {
              "fillmode": "overlay",
              "size": 10,
              "solidity": 0.2
             }
            },
            "type": "barpolar"
           }
          ],
          "carpet": [
           {
            "aaxis": {
             "endlinecolor": "#2a3f5f",
             "gridcolor": "white",
             "linecolor": "white",
             "minorgridcolor": "white",
             "startlinecolor": "#2a3f5f"
            },
            "baxis": {
             "endlinecolor": "#2a3f5f",
             "gridcolor": "white",
             "linecolor": "white",
             "minorgridcolor": "white",
             "startlinecolor": "#2a3f5f"
            },
            "type": "carpet"
           }
          ],
          "choropleth": [
           {
            "colorbar": {
             "outlinewidth": 0,
             "ticks": ""
            },
            "type": "choropleth"
           }
          ],
          "contour": [
           {
            "colorbar": {
             "outlinewidth": 0,
             "ticks": ""
            },
            "colorscale": [
             [
              0,
              "#0d0887"
             ],
             [
              0.1111111111111111,
              "#46039f"
             ],
             [
              0.2222222222222222,
              "#7201a8"
             ],
             [
              0.3333333333333333,
              "#9c179e"
             ],
             [
              0.4444444444444444,
              "#bd3786"
             ],
             [
              0.5555555555555556,
              "#d8576b"
             ],
             [
              0.6666666666666666,
              "#ed7953"
             ],
             [
              0.7777777777777778,
              "#fb9f3a"
             ],
             [
              0.8888888888888888,
              "#fdca26"
             ],
             [
              1,
              "#f0f921"
             ]
            ],
            "type": "contour"
           }
          ],
          "contourcarpet": [
           {
            "colorbar": {
             "outlinewidth": 0,
             "ticks": ""
            },
            "type": "contourcarpet"
           }
          ],
          "heatmap": [
           {
            "colorbar": {
             "outlinewidth": 0,
             "ticks": ""
            },
            "colorscale": [
             [
              0,
              "#0d0887"
             ],
             [
              0.1111111111111111,
              "#46039f"
             ],
             [
              0.2222222222222222,
              "#7201a8"
             ],
             [
              0.3333333333333333,
              "#9c179e"
             ],
             [
              0.4444444444444444,
              "#bd3786"
             ],
             [
              0.5555555555555556,
              "#d8576b"
             ],
             [
              0.6666666666666666,
              "#ed7953"
             ],
             [
              0.7777777777777778,
              "#fb9f3a"
             ],
             [
              0.8888888888888888,
              "#fdca26"
             ],
             [
              1,
              "#f0f921"
             ]
            ],
            "type": "heatmap"
           }
          ],
          "heatmapgl": [
           {
            "colorbar": {
             "outlinewidth": 0,
             "ticks": ""
            },
            "colorscale": [
             [
              0,
              "#0d0887"
             ],
             [
              0.1111111111111111,
              "#46039f"
             ],
             [
              0.2222222222222222,
              "#7201a8"
             ],
             [
              0.3333333333333333,
              "#9c179e"
             ],
             [
              0.4444444444444444,
              "#bd3786"
             ],
             [
              0.5555555555555556,
              "#d8576b"
             ],
             [
              0.6666666666666666,
              "#ed7953"
             ],
             [
              0.7777777777777778,
              "#fb9f3a"
             ],
             [
              0.8888888888888888,
              "#fdca26"
             ],
             [
              1,
              "#f0f921"
             ]
            ],
            "type": "heatmapgl"
           }
          ],
          "histogram": [
           {
            "marker": {
             "pattern": {
              "fillmode": "overlay",
              "size": 10,
              "solidity": 0.2
             }
            },
            "type": "histogram"
           }
          ],
          "histogram2d": [
           {
            "colorbar": {
             "outlinewidth": 0,
             "ticks": ""
            },
            "colorscale": [
             [
              0,
              "#0d0887"
             ],
             [
              0.1111111111111111,
              "#46039f"
             ],
             [
              0.2222222222222222,
              "#7201a8"
             ],
             [
              0.3333333333333333,
              "#9c179e"
             ],
             [
              0.4444444444444444,
              "#bd3786"
             ],
             [
              0.5555555555555556,
              "#d8576b"
             ],
             [
              0.6666666666666666,
              "#ed7953"
             ],
             [
              0.7777777777777778,
              "#fb9f3a"
             ],
             [
              0.8888888888888888,
              "#fdca26"
             ],
             [
              1,
              "#f0f921"
             ]
            ],
            "type": "histogram2d"
           }
          ],
          "histogram2dcontour": [
           {
            "colorbar": {
             "outlinewidth": 0,
             "ticks": ""
            },
            "colorscale": [
             [
              0,
              "#0d0887"
             ],
             [
              0.1111111111111111,
              "#46039f"
             ],
             [
              0.2222222222222222,
              "#7201a8"
             ],
             [
              0.3333333333333333,
              "#9c179e"
             ],
             [
              0.4444444444444444,
              "#bd3786"
             ],
             [
              0.5555555555555556,
              "#d8576b"
             ],
             [
              0.6666666666666666,
              "#ed7953"
             ],
             [
              0.7777777777777778,
              "#fb9f3a"
             ],
             [
              0.8888888888888888,
              "#fdca26"
             ],
             [
              1,
              "#f0f921"
             ]
            ],
            "type": "histogram2dcontour"
           }
          ],
          "mesh3d": [
           {
            "colorbar": {
             "outlinewidth": 0,
             "ticks": ""
            },
            "type": "mesh3d"
           }
          ],
          "parcoords": [
           {
            "line": {
             "colorbar": {
              "outlinewidth": 0,
              "ticks": ""
             }
            },
            "type": "parcoords"
           }
          ],
          "pie": [
           {
            "automargin": true,
            "type": "pie"
           }
          ],
          "scatter": [
           {
            "fillpattern": {
             "fillmode": "overlay",
             "size": 10,
             "solidity": 0.2
            },
            "type": "scatter"
           }
          ],
          "scatter3d": [
           {
            "line": {
             "colorbar": {
              "outlinewidth": 0,
              "ticks": ""
             }
            },
            "marker": {
             "colorbar": {
              "outlinewidth": 0,
              "ticks": ""
             }
            },
            "type": "scatter3d"
           }
          ],
          "scattercarpet": [
           {
            "marker": {
             "colorbar": {
              "outlinewidth": 0,
              "ticks": ""
             }
            },
            "type": "scattercarpet"
           }
          ],
          "scattergeo": [
           {
            "marker": {
             "colorbar": {
              "outlinewidth": 0,
              "ticks": ""
             }
            },
            "type": "scattergeo"
           }
          ],
          "scattergl": [
           {
            "marker": {
             "colorbar": {
              "outlinewidth": 0,
              "ticks": ""
             }
            },
            "type": "scattergl"
           }
          ],
          "scattermapbox": [
           {
            "marker": {
             "colorbar": {
              "outlinewidth": 0,
              "ticks": ""
             }
            },
            "type": "scattermapbox"
           }
          ],
          "scatterpolar": [
           {
            "marker": {
             "colorbar": {
              "outlinewidth": 0,
              "ticks": ""
             }
            },
            "type": "scatterpolar"
           }
          ],
          "scatterpolargl": [
           {
            "marker": {
             "colorbar": {
              "outlinewidth": 0,
              "ticks": ""
             }
            },
            "type": "scatterpolargl"
           }
          ],
          "scatterternary": [
           {
            "marker": {
             "colorbar": {
              "outlinewidth": 0,
              "ticks": ""
             }
            },
            "type": "scatterternary"
           }
          ],
          "surface": [
           {
            "colorbar": {
             "outlinewidth": 0,
             "ticks": ""
            },
            "colorscale": [
             [
              0,
              "#0d0887"
             ],
             [
              0.1111111111111111,
              "#46039f"
             ],
             [
              0.2222222222222222,
              "#7201a8"
             ],
             [
              0.3333333333333333,
              "#9c179e"
             ],
             [
              0.4444444444444444,
              "#bd3786"
             ],
             [
              0.5555555555555556,
              "#d8576b"
             ],
             [
              0.6666666666666666,
              "#ed7953"
             ],
             [
              0.7777777777777778,
              "#fb9f3a"
             ],
             [
              0.8888888888888888,
              "#fdca26"
             ],
             [
              1,
              "#f0f921"
             ]
            ],
            "type": "surface"
           }
          ],
          "table": [
           {
            "cells": {
             "fill": {
              "color": "#EBF0F8"
             },
             "line": {
              "color": "white"
             }
            },
            "header": {
             "fill": {
              "color": "#C8D4E3"
             },
             "line": {
              "color": "white"
             }
            },
            "type": "table"
           }
          ]
         },
         "layout": {
          "annotationdefaults": {
           "arrowcolor": "#2a3f5f",
           "arrowhead": 0,
           "arrowwidth": 1
          },
          "autotypenumbers": "strict",
          "coloraxis": {
           "colorbar": {
            "outlinewidth": 0,
            "ticks": ""
           }
          },
          "colorscale": {
           "diverging": [
            [
             0,
             "#8e0152"
            ],
            [
             0.1,
             "#c51b7d"
            ],
            [
             0.2,
             "#de77ae"
            ],
            [
             0.3,
             "#f1b6da"
            ],
            [
             0.4,
             "#fde0ef"
            ],
            [
             0.5,
             "#f7f7f7"
            ],
            [
             0.6,
             "#e6f5d0"
            ],
            [
             0.7,
             "#b8e186"
            ],
            [
             0.8,
             "#7fbc41"
            ],
            [
             0.9,
             "#4d9221"
            ],
            [
             1,
             "#276419"
            ]
           ],
           "sequential": [
            [
             0,
             "#0d0887"
            ],
            [
             0.1111111111111111,
             "#46039f"
            ],
            [
             0.2222222222222222,
             "#7201a8"
            ],
            [
             0.3333333333333333,
             "#9c179e"
            ],
            [
             0.4444444444444444,
             "#bd3786"
            ],
            [
             0.5555555555555556,
             "#d8576b"
            ],
            [
             0.6666666666666666,
             "#ed7953"
            ],
            [
             0.7777777777777778,
             "#fb9f3a"
            ],
            [
             0.8888888888888888,
             "#fdca26"
            ],
            [
             1,
             "#f0f921"
            ]
           ],
           "sequentialminus": [
            [
             0,
             "#0d0887"
            ],
            [
             0.1111111111111111,
             "#46039f"
            ],
            [
             0.2222222222222222,
             "#7201a8"
            ],
            [
             0.3333333333333333,
             "#9c179e"
            ],
            [
             0.4444444444444444,
             "#bd3786"
            ],
            [
             0.5555555555555556,
             "#d8576b"
            ],
            [
             0.6666666666666666,
             "#ed7953"
            ],
            [
             0.7777777777777778,
             "#fb9f3a"
            ],
            [
             0.8888888888888888,
             "#fdca26"
            ],
            [
             1,
             "#f0f921"
            ]
           ]
          },
          "colorway": [
           "#636efa",
           "#EF553B",
           "#00cc96",
           "#ab63fa",
           "#FFA15A",
           "#19d3f3",
           "#FF6692",
           "#B6E880",
           "#FF97FF",
           "#FECB52"
          ],
          "font": {
           "color": "#2a3f5f"
          },
          "geo": {
           "bgcolor": "white",
           "lakecolor": "white",
           "landcolor": "#E5ECF6",
           "showlakes": true,
           "showland": true,
           "subunitcolor": "white"
          },
          "hoverlabel": {
           "align": "left"
          },
          "hovermode": "closest",
          "mapbox": {
           "style": "light"
          },
          "paper_bgcolor": "white",
          "plot_bgcolor": "#E5ECF6",
          "polar": {
           "angularaxis": {
            "gridcolor": "white",
            "linecolor": "white",
            "ticks": ""
           },
           "bgcolor": "#E5ECF6",
           "radialaxis": {
            "gridcolor": "white",
            "linecolor": "white",
            "ticks": ""
           }
          },
          "scene": {
           "xaxis": {
            "backgroundcolor": "#E5ECF6",
            "gridcolor": "white",
            "gridwidth": 2,
            "linecolor": "white",
            "showbackground": true,
            "ticks": "",
            "zerolinecolor": "white"
           },
           "yaxis": {
            "backgroundcolor": "#E5ECF6",
            "gridcolor": "white",
            "gridwidth": 2,
            "linecolor": "white",
            "showbackground": true,
            "ticks": "",
            "zerolinecolor": "white"
           },
           "zaxis": {
            "backgroundcolor": "#E5ECF6",
            "gridcolor": "white",
            "gridwidth": 2,
            "linecolor": "white",
            "showbackground": true,
            "ticks": "",
            "zerolinecolor": "white"
           }
          },
          "shapedefaults": {
           "line": {
            "color": "#2a3f5f"
           }
          },
          "ternary": {
           "aaxis": {
            "gridcolor": "white",
            "linecolor": "white",
            "ticks": ""
           },
           "baxis": {
            "gridcolor": "white",
            "linecolor": "white",
            "ticks": ""
           },
           "bgcolor": "#E5ECF6",
           "caxis": {
            "gridcolor": "white",
            "linecolor": "white",
            "ticks": ""
           }
          },
          "title": {
           "x": 0.05
          },
          "xaxis": {
           "automargin": true,
           "gridcolor": "white",
           "linecolor": "white",
           "ticks": "",
           "title": {
            "standoff": 15
           },
           "zerolinecolor": "white",
           "zerolinewidth": 2
          },
          "yaxis": {
           "automargin": true,
           "gridcolor": "white",
           "linecolor": "white",
           "ticks": "",
           "title": {
            "standoff": 15
           },
           "zerolinecolor": "white",
           "zerolinewidth": 2
          }
         }
        },
        "title": {
         "text": "House price analysis"
        },
        "width": 1000,
        "xaxis": {
         "anchor": "y",
         "autorange": true,
         "domain": [
          0,
          1
         ],
         "range": [
          0.6733347074119542,
          6.397869056556907
         ],
         "title": {
          "text": "Nb. Chambres"
         },
         "type": "linear"
        },
        "yaxis": {
         "anchor": "x",
         "autorange": true,
         "domain": [
          0,
          1
         ],
         "range": [
          -150298.5001684479,
          7673631.655887768
         ],
         "title": {
          "text": "Prix en euro"
         },
         "type": "linear"
        }
       }
      },
      "image/png": "[encoded data removed]",
      "text/html": [
       "<div>                            <div id=\"63631b14-f164-4e33-b331-dbd66f229204\" class=\"plotly-graph-div\" style=\"height:800px; width:1000px;\"></div>            <script type=\"text/javascript\">                require([\"plotly\"], function(Plotly) {                    window.PLOTLYENV=window.PLOTLYENV || {};                                    if (document.getElementById(\"63631b14-f164-4e33-b331-dbd66f229204\")) {                    Plotly.newPlot(                        \"63631b14-f164-4e33-b331-dbd66f229204\",                        [{\"hovertemplate\":\"<b>%{hovertext}</b><br><br>Localisation=Paris12\\u00e8me<br>Nb. Chambres=%{x}<br>Prix en euro=%{marker.size}<extra></extra>\",\"hovertext\":[\"Paris12\\u00e8me\"],\"legendgroup\":\"Paris12\\u00e8me\",\"marker\":{\"color\":\"#636efa\",\"size\":[1355000.0],\"sizemode\":\"area\",\"sizeref\":17737.5,\"symbol\":\"circle\"},\"mode\":\"markers\",\"name\":\"Paris12\\u00e8me\",\"orientation\":\"v\",\"showlegend\":true,\"x\":[3.0],\"xaxis\":\"x\",\"y\":[1355000.0],\"yaxis\":\"y\",\"type\":\"scatter\"},{\"hovertemplate\":\"<b>%{hovertext}</b><br><br>Localisation=Paris17\\u00e8me<br>Nb. Chambres=%{x}<br>Prix en euro=%{marker.size}<extra></extra>\",\"hovertext\":[\"Paris17\\u00e8me\",\"Paris17\\u00e8me\",\"Paris17\\u00e8me\"],\"legendgroup\":\"Paris17\\u00e8me\",\"marker\":{\"color\":\"#EF553B\",\"size\":[852800.0,3600000.0,4950000.0],\"sizemode\":\"area\",\"sizeref\":17737.5,\"symbol\":\"circle\"},\"mode\":\"markers\",\"name\":\"Paris17\\u00e8me\",\"orientation\":\"v\",\"showlegend\":true,\"x\":[1.0,3.0,4.0],\"xaxis\":\"x\",\"y\":[852800.0,3600000.0,4950000.0],\"yaxis\":\"y\",\"type\":\"scatter\"},{\"hovertemplate\":\"<b>%{hovertext}</b><br><br>Localisation=Paris14\\u00e8me<br>Nb. Chambres=%{x}<br>Prix en euro=%{marker.size}<extra></extra>\",\"hovertext\":[\"Paris14\\u00e8me\",\"Paris14\\u00e8me\",\"Paris14\\u00e8me\",\"Paris14\\u00e8me\",\"Paris14\\u00e8me\",\"Paris14\\u00e8me\"],\"legendgroup\":\"Paris14\\u00e8me\",\"marker\":{\"color\":\"#00cc96\",\"size\":[1400000.0,4370000.0,2850000.0,3220000.0,2650000.0,3220000.0],\"sizemode\":\"area\",\"sizeref\":17737.5,\"symbol\":\"circle\"},\"mode\":\"markers\",\"name\":\"Paris14\\u00e8me\",\"orientation\":\"v\",\"showlegend\":true,\"x\":[3.0,4.0,4.0,6.0,2.0,6.0],\"xaxis\":\"x\",\"y\":[1400000.0,4370000.0,2850000.0,3220000.0,2650000.0,3220000.0],\"yaxis\":\"y\",\"type\":\"scatter\"},{\"hovertemplate\":\"<b>%{hovertext}</b><br><br>Localisation=Paris18\\u00e8me<br>Nb. Chambres=%{x}<br>Prix en euro=%{marker.size}<extra></extra>\",\"hovertext\":[\"Paris18\\u00e8me\",\"Paris18\\u00e8me\",\"Paris18\\u00e8me\",\"Paris18\\u00e8me\",\"Paris18\\u00e8me\"],\"legendgroup\":\"Paris18\\u00e8me\",\"marker\":{\"color\":\"#ab63fa\",\"size\":[871500.0,930000.0,3990000.0,2300000.0,930000.0],\"sizemode\":\"area\",\"sizeref\":17737.5,\"symbol\":\"circle\"},\"mode\":\"markers\",\"name\":\"Paris18\\u00e8me\",\"orientation\":\"v\",\"showlegend\":true,\"x\":[2.0,3.0,5.0,5.0,3.0],\"xaxis\":\"x\",\"y\":[871500.0,930000.0,3990000.0,2300000.0,930000.0],\"yaxis\":\"y\",\"type\":\"scatter\"},{\"hovertemplate\":\"<b>%{hovertext}</b><br><br>Localisation=Paris19\\u00e8me<br>Nb. Chambres=%{x}<br>Prix en euro=%{marker.size}<extra></extra>\",\"hovertext\":[\"Paris19\\u00e8me\",\"Paris19\\u00e8me\",\"Paris19\\u00e8me\",\"Paris19\\u00e8me\"],\"legendgroup\":\"Paris19\\u00e8me\",\"marker\":{\"color\":\"#FFA15A\",\"size\":[640900.0,1640000.0,2150000.0,1545000.0],\"sizemode\":\"area\",\"sizeref\":17737.5,\"symbol\":\"circle\"},\"mode\":\"markers\",\"name\":\"Paris19\\u00e8me\",\"orientation\":\"v\",\"showlegend\":true,\"x\":[2.0,5.0,3.0,4.0],\"xaxis\":\"x\",\"y\":[640900.0,1640000.0,2150000.0,1545000.0],\"yaxis\":\"y\",\"type\":\"scatter\"},{\"hovertemplate\":\"<b>%{hovertext}</b><br><br>Localisation=Paris11\\u00e8me<br>Nb. Chambres=%{x}<br>Prix en euro=%{marker.size}<extra></extra>\",\"hovertext\":[\"Paris11\\u00e8me\",\"Paris11\\u00e8me\",\"Paris11\\u00e8me\"],\"legendgroup\":\"Paris11\\u00e8me\",\"marker\":{\"color\":\"#19d3f3\",\"size\":[1200000.0,2740000.0,1895000.0],\"sizemode\":\"area\",\"sizeref\":17737.5,\"symbol\":\"circle\"},\"mode\":\"markers\",\"name\":\"Paris11\\u00e8me\",\"orientation\":\"v\",\"showlegend\":true,\"x\":[2.0,3.0,3.0],\"xaxis\":\"x\",\"y\":[1200000.0,2740000.0,1895000.0],\"yaxis\":\"y\",\"type\":\"scatter\"},{\"hovertemplate\":\"<b>%{hovertext}</b><br><br>Localisation=Paris20\\u00e8me<br>Nb. Chambres=%{x}<br>Prix en euro=%{marker.size}<extra></extra>\",\"hovertext\":[\"Paris20\\u00e8me\",\"Paris20\\u00e8me\",\"Paris20\\u00e8me\",\"Paris20\\u00e8me\",\"Paris20\\u00e8me\",\"Paris20\\u00e8me\",\"Paris20\\u00e8me\"],\"legendgroup\":\"Paris20\\u00e8me\",\"marker\":{\"color\":\"#FF6692\",\"size\":[1295000.0,1890000.0,1420000.0,1360000.0,1790000.0,2500000.0,2990000.0],\"sizemode\":\"area\",\"sizeref\":17737.5,\"symbol\":\"circle\"},\"mode\":\"markers\",\"name\":\"Paris20\\u00e8me\",\"orientation\":\"v\",\"showlegend\":true,\"x\":[4.0,4.0,4.0,2.0,5.0,5.0,4.0],\"xaxis\":\"x\",\"y\":[1295000.0,1890000.0,1420000.0,1360000.0,1790000.0,2500000.0,2990000.0],\"yaxis\":\"y\",\"type\":\"scatter\"},{\"hovertemplate\":\"<b>%{hovertext}</b><br><br>Localisation=Paris16\\u00e8me<br>Nb. Chambres=%{x}<br>Prix en euro=%{marker.size}<extra></extra>\",\"hovertext\":[\"Paris16\\u00e8me\",\"Paris16\\u00e8me\",\"Paris16\\u00e8me\",\"Paris16\\u00e8me\",\"Paris16\\u00e8me\",\"Paris16\\u00e8me\"],\"legendgroup\":\"Paris16\\u00e8me\",\"marker\":{\"color\":\"#B6E880\",\"size\":[2650000.0,2990000.0,6500000.0,5085000.0,4700000.0,5052650.0],\"sizemode\":\"area\",\"sizeref\":17737.5,\"symbol\":\"circle\"},\"mode\":\"markers\",\"name\":\"Paris16\\u00e8me\",\"orientation\":\"v\",\"showlegend\":true,\"x\":[6.0,3.0,6.0,6.0,5.0,5.0],\"xaxis\":\"x\",\"y\":[2650000.0,2990000.0,6500000.0,5085000.0,4700000.0,5052650.0],\"yaxis\":\"y\",\"type\":\"scatter\"},{\"hovertemplate\":\"<b>%{hovertext}</b><br><br>Localisation=Paris10\\u00e8me<br>Nb. Chambres=%{x}<br>Prix en euro=%{marker.size}<extra></extra>\",\"hovertext\":[\"Paris10\\u00e8me\"],\"legendgroup\":\"Paris10\\u00e8me\",\"marker\":{\"color\":\"#FF97FF\",\"size\":[351000.0],\"sizemode\":\"area\",\"sizeref\":17737.5,\"symbol\":\"circle\"},\"mode\":\"markers\",\"name\":\"Paris10\\u00e8me\",\"orientation\":\"v\",\"showlegend\":true,\"x\":[5.0],\"xaxis\":\"x\",\"y\":[351000.0],\"yaxis\":\"y\",\"type\":\"scatter\"},{\"hovertemplate\":\"<b>%{hovertext}</b><br><br>Localisation=Paris13\\u00e8me<br>Nb. Chambres=%{x}<br>Prix en euro=%{marker.size}<extra></extra>\",\"hovertext\":[\"Paris13\\u00e8me\",\"Paris13\\u00e8me\",\"Paris13\\u00e8me\",\"Paris13\\u00e8me\"],\"legendgroup\":\"Paris13\\u00e8me\",\"marker\":{\"color\":\"#FECB52\",\"size\":[1699000.0,1750000.0,278000.0,3000000.0],\"sizemode\":\"area\",\"sizeref\":17737.5,\"symbol\":\"circle\"},\"mode\":\"markers\",\"name\":\"Paris13\\u00e8me\",\"orientation\":\"v\",\"showlegend\":true,\"x\":[4.0,5.0,1.0,4.0],\"xaxis\":\"x\",\"y\":[1699000.0,1750000.0,278000.0,3000000.0],\"yaxis\":\"y\",\"type\":\"scatter\"},{\"hovertemplate\":\"<b>%{hovertext}</b><br><br>Localisation=Paris15\\u00e8me<br>Nb. Chambres=%{x}<br>Prix en euro=%{marker.size}<extra></extra>\",\"hovertext\":[\"Paris15\\u00e8me\",\"Paris15\\u00e8me\"],\"legendgroup\":\"Paris15\\u00e8me\",\"marker\":{\"color\":\"#636efa\",\"size\":[1350000.0,2700000.0],\"sizemode\":\"area\",\"sizeref\":17737.5,\"symbol\":\"circle\"},\"mode\":\"markers\",\"name\":\"Paris15\\u00e8me\",\"orientation\":\"v\",\"showlegend\":true,\"x\":[3.0,5.0],\"xaxis\":\"x\",\"y\":[1350000.0,2700000.0],\"yaxis\":\"y\",\"type\":\"scatter\"},{\"hovertemplate\":\"<b>%{hovertext}</b><br><br>Localisation=Paris1er<br>Nb. Chambres=%{x}<br>Prix en euro=%{marker.size}<extra></extra>\",\"hovertext\":[\"Paris1er\",\"Paris1er\",\"Paris1er\",\"Paris1er\",\"Paris1er\"],\"legendgroup\":\"Paris1er\",\"marker\":{\"color\":\"#EF553B\",\"size\":[759000.0,435900.0,522500.0,850000.0,493825.0],\"sizemode\":\"area\",\"sizeref\":17737.5,\"symbol\":\"circle\"},\"mode\":\"markers\",\"name\":\"Paris1er\",\"orientation\":\"v\",\"showlegend\":true,\"x\":[4.0,4.0,4.0,5.0,3.0],\"xaxis\":\"x\",\"y\":[759000.0,435900.0,522500.0,850000.0,493825.0],\"yaxis\":\"y\",\"type\":\"scatter\"},{\"hovertemplate\":\"<b>%{hovertext}</b><br><br>Localisation=Paris4\\u00e8me<br>Nb. Chambres=%{x}<br>Prix en euro=%{marker.size}<extra></extra>\",\"hovertext\":[\"Paris4\\u00e8me\"],\"legendgroup\":\"Paris4\\u00e8me\",\"marker\":{\"color\":\"#00cc96\",\"size\":[475000.0],\"sizemode\":\"area\",\"sizeref\":17737.5,\"symbol\":\"circle\"},\"mode\":\"markers\",\"name\":\"Paris4\\u00e8me\",\"orientation\":\"v\",\"showlegend\":true,\"x\":[1.0],\"xaxis\":\"x\",\"y\":[475000.0],\"yaxis\":\"y\",\"type\":\"scatter\"},{\"hovertemplate\":\"<b>%{hovertext}</b><br><br>Localisation=Paris7\\u00e8me<br>Nb. Chambres=%{x}<br>Prix en euro=%{marker.size}<extra></extra>\",\"hovertext\":[\"Paris7\\u00e8me\"],\"legendgroup\":\"Paris7\\u00e8me\",\"marker\":{\"color\":\"#ab63fa\",\"size\":[7095000.0],\"sizemode\":\"area\",\"sizeref\":17737.5,\"symbol\":\"circle\"},\"mode\":\"markers\",\"name\":\"Paris7\\u00e8me\",\"orientation\":\"v\",\"showlegend\":true,\"x\":[3.0],\"xaxis\":\"x\",\"y\":[7095000.0],\"yaxis\":\"y\",\"type\":\"scatter\"},{\"hovertemplate\":\"<b>%{hovertext}</b><br><br>Localisation=Paris2\\u00e8me<br>Nb. Chambres=%{x}<br>Prix en euro=%{marker.size}<extra></extra>\",\"hovertext\":[\"Paris2\\u00e8me\"],\"legendgroup\":\"Paris2\\u00e8me\",\"marker\":{\"color\":\"#FFA15A\",\"size\":[1025000.0],\"sizemode\":\"area\",\"sizeref\":17737.5,\"symbol\":\"circle\"},\"mode\":\"markers\",\"name\":\"Paris2\\u00e8me\",\"orientation\":\"v\",\"showlegend\":true,\"x\":[2.0],\"xaxis\":\"x\",\"y\":[1025000.0],\"yaxis\":\"y\",\"type\":\"scatter\"}],                        {\"template\":{\"data\":{\"histogram2dcontour\":[{\"type\":\"histogram2dcontour\",\"colorbar\":{\"outlinewidth\":0,\"ticks\":\"\"},\"colorscale\":[[0.0,\"#0d0887\"],[0.1111111111111111,\"#46039f\"],[0.2222222222222222,\"#7201a8\"],[0.3333333333333333,\"#9c179e\"],[0.4444444444444444,\"#bd3786\"],[0.5555555555555556,\"#d8576b\"],[0.6666666666666666,\"#ed7953\"],[0.7777777777777778,\"#fb9f3a\"],[0.8888888888888888,\"#fdca26\"],[1.0,\"#f0f921\"]]}],\"choropleth\":[{\"type\":\"choropleth\",\"colorbar\":{\"outlinewidth\":0,\"ticks\":\"\"}}],\"histogram2d\":[{\"type\":\"histogram2d\",\"colorbar\":{\"outlinewidth\":0,\"ticks\":\"\"},\"colorscale\":[[0.0,\"#0d0887\"],[0.1111111111111111,\"#46039f\"],[0.2222222222222222,\"#7201a8\"],[0.3333333333333333,\"#9c179e\"],[0.4444444444444444,\"#bd3786\"],[0.5555555555555556,\"#d8576b\"],[0.6666666666666666,\"#ed7953\"],[0.7777777777777778,\"#fb9f3a\"],[0.8888888888888888,\"#fdca26\"],[1.0,\"#f0f921\"]]}],\"heatmap\":[{\"type\":\"heatmap\",\"colorbar\":{\"outlinewidth\":0,\"ticks\":\"\"},\"colorscale\":[[0.0,\"#0d0887\"],[0.1111111111111111,\"#46039f\"],[0.2222222222222222,\"#7201a8\"],[0.3333333333333333,\"#9c179e\"],[0.4444444444444444,\"#bd3786\"],[0.5555555555555556,\"#d8576b\"],[0.6666666666666666,\"#ed7953\"],[0.7777777777777778,\"#fb9f3a\"],[0.8888888888888888,\"#fdca26\"],[1.0,\"#f0f921\"]]}],\"heatmapgl\":[{\"type\":\"heatmapgl\",\"colorbar\":{\"outlinewidth\":0,\"ticks\":\"\"},\"colorscale\":[[0.0,\"#0d0887\"],[0.1111111111111111,\"#46039f\"],[0.2222222222222222,\"#7201a8\"],[0.3333333333333333,\"#9c179e\"],[0.4444444444444444,\"#bd3786\"],[0.5555555555555556,\"#d8576b\"],[0.6666666666666666,\"#ed7953\"],[0.7777777777777778,\"#fb9f3a\"],[0.8888888888888888,\"#fdca26\"],[1.0,\"#f0f921\"]]}],\"contourcarpet\":[{\"type\":\"contourcarpet\",\"colorbar\":{\"outlinewidth\":0,\"ticks\":\"\"}}],\"contour\":[{\"type\":\"contour\",\"colorbar\":{\"outlinewidth\":0,\"ticks\":\"\"},\"colorscale\":[[0.0,\"#0d0887\"],[0.1111111111111111,\"#46039f\"],[0.2222222222222222,\"#7201a8\"],[0.3333333333333333,\"#9c179e\"],[0.4444444444444444,\"#bd3786\"],[0.5555555555555556,\"#d8576b\"],[0.6666666666666666,\"#ed7953\"],[0.7777777777777778,\"#fb9f3a\"],[0.8888888888888888,\"#fdca26\"],[1.0,\"#f0f921\"]]}],\"surface\":[{\"type\":\"surface\",\"colorbar\":{\"outlinewidth\":0,\"ticks\":\"\"},\"colorscale\":[[0.0,\"#0d0887\"],[0.1111111111111111,\"#46039f\"],[0.2222222222222222,\"#7201a8\"],[0.3333333333333333,\"#9c179e\"],[0.4444444444444444,\"#bd3786\"],[0.5555555555555556,\"#d8576b\"],[0.6666666666666666,\"#ed7953\"],[0.7777777777777778,\"#fb9f3a\"],[0.8888888888888888,\"#fdca26\"],[1.0,\"#f0f921\"]]}],\"mesh3d\":[{\"type\":\"mesh3d\",\"colorbar\":{\"outlinewidth\":0,\"ticks\":\"\"}}],\"scatter\":[{\"fillpattern\":{\"fillmode\":\"overlay\",\"size\":10,\"solidity\":0.2},\"type\":\"scatter\"}],\"parcoords\":[{\"type\":\"parcoords\",\"line\":{\"colorbar\":{\"outlinewidth\":0,\"ticks\":\"\"}}}],\"scatterpolargl\":[{\"type\":\"scatterpolargl\",\"marker\":{\"colorbar\":{\"outlinewidth\":0,\"ticks\":\"\"}}}],\"bar\":[{\"error_x\":{\"color\":\"#2a3f5f\"},\"error_y\":{\"color\":\"#2a3f5f\"},\"marker\":{\"line\":{\"color\":\"#E5ECF6\",\"width\":0.5},\"pattern\":{\"fillmode\":\"overlay\",\"size\":10,\"solidity\":0.2}},\"type\":\"bar\"}],\"scattergeo\":[{\"type\":\"scattergeo\",\"marker\":{\"colorbar\":{\"outlinewidth\":0,\"ticks\":\"\"}}}],\"scatterpolar\":[{\"type\":\"scatterpolar\",\"marker\":{\"colorbar\":{\"outlinewidth\":0,\"ticks\":\"\"}}}],\"histogram\":[{\"marker\":{\"pattern\":{\"fillmode\":\"overlay\",\"size\":10,\"solidity\":0.2}},\"type\":\"histogram\"}],\"scattergl\":[{\"type\":\"scattergl\",\"marker\":{\"colorbar\":{\"outlinewidth\":0,\"ticks\":\"\"}}}],\"scatter3d\":[{\"type\":\"scatter3d\",\"line\":{\"colorbar\":{\"outlinewidth\":0,\"ticks\":\"\"}},\"marker\":{\"colorbar\":{\"outlinewidth\":0,\"ticks\":\"\"}}}],\"scattermapbox\":[{\"type\":\"scattermapbox\",\"marker\":{\"colorbar\":{\"outlinewidth\":0,\"ticks\":\"\"}}}],\"scatterternary\":[{\"type\":\"scatterternary\",\"marker\":{\"colorbar\":{\"outlinewidth\":0,\"ticks\":\"\"}}}],\"scattercarpet\":[{\"type\":\"scattercarpet\",\"marker\":{\"colorbar\":{\"outlinewidth\":0,\"ticks\":\"\"}}}],\"carpet\":[{\"aaxis\":{\"endlinecolor\":\"#2a3f5f\",\"gridcolor\":\"white\",\"linecolor\":\"white\",\"minorgridcolor\":\"white\",\"startlinecolor\":\"#2a3f5f\"},\"baxis\":{\"endlinecolor\":\"#2a3f5f\",\"gridcolor\":\"white\",\"linecolor\":\"white\",\"minorgridcolor\":\"white\",\"startlinecolor\":\"#2a3f5f\"},\"type\":\"carpet\"}],\"table\":[{\"cells\":{\"fill\":{\"color\":\"#EBF0F8\"},\"line\":{\"color\":\"white\"}},\"header\":{\"fill\":{\"color\":\"#C8D4E3\"},\"line\":{\"color\":\"white\"}},\"type\":\"table\"}],\"barpolar\":[{\"marker\":{\"line\":{\"color\":\"#E5ECF6\",\"width\":0.5},\"pattern\":{\"fillmode\":\"overlay\",\"size\":10,\"solidity\":0.2}},\"type\":\"barpolar\"}],\"pie\":[{\"automargin\":true,\"type\":\"pie\"}]},\"layout\":{\"autotypenumbers\":\"strict\",\"colorway\":[\"#636efa\",\"#EF553B\",\"#00cc96\",\"#ab63fa\",\"#FFA15A\",\"#19d3f3\",\"#FF6692\",\"#B6E880\",\"#FF97FF\",\"#FECB52\"],\"font\":{\"color\":\"#2a3f5f\"},\"hovermode\":\"closest\",\"hoverlabel\":{\"align\":\"left\"},\"paper_bgcolor\":\"white\",\"plot_bgcolor\":\"#E5ECF6\",\"polar\":{\"bgcolor\":\"#E5ECF6\",\"angularaxis\":{\"gridcolor\":\"white\",\"linecolor\":\"white\",\"ticks\":\"\"},\"radialaxis\":{\"gridcolor\":\"white\",\"linecolor\":\"white\",\"ticks\":\"\"}},\"ternary\":{\"bgcolor\":\"#E5ECF6\",\"aaxis\":{\"gridcolor\":\"white\",\"linecolor\":\"white\",\"ticks\":\"\"},\"baxis\":{\"gridcolor\":\"white\",\"linecolor\":\"white\",\"ticks\":\"\"},\"caxis\":{\"gridcolor\":\"white\",\"linecolor\":\"white\",\"ticks\":\"\"}},\"coloraxis\":{\"colorbar\":{\"outlinewidth\":0,\"ticks\":\"\"}},\"colorscale\":{\"sequential\":[[0.0,\"#0d0887\"],[0.1111111111111111,\"#46039f\"],[0.2222222222222222,\"#7201a8\"],[0.3333333333333333,\"#9c179e\"],[0.4444444444444444,\"#bd3786\"],[0.5555555555555556,\"#d8576b\"],[0.6666666666666666,\"#ed7953\"],[0.7777777777777778,\"#fb9f3a\"],[0.8888888888888888,\"#fdca26\"],[1.0,\"#f0f921\"]],\"sequentialminus\":[[0.0,\"#0d0887\"],[0.1111111111111111,\"#46039f\"],[0.2222222222222222,\"#7201a8\"],[0.3333333333333333,\"#9c179e\"],[0.4444444444444444,\"#bd3786\"],[0.5555555555555556,\"#d8576b\"],[0.6666666666666666,\"#ed7953\"],[0.7777777777777778,\"#fb9f3a\"],[0.8888888888888888,\"#fdca26\"],[1.0,\"#f0f921\"]],\"diverging\":[[0,\"#8e0152\"],[0.1,\"#c51b7d\"],[0.2,\"#de77ae\"],[0.3,\"#f1b6da\"],[0.4,\"#fde0ef\"],[0.5,\"#f7f7f7\"],[0.6,\"#e6f5d0\"],[0.7,\"#b8e186\"],[0.8,\"#7fbc41\"],[0.9,\"#4d9221\"],[1,\"#276419\"]]},\"xaxis\":{\"gridcolor\":\"white\",\"linecolor\":\"white\",\"ticks\":\"\",\"title\":{\"standoff\":15},\"zerolinecolor\":\"white\",\"automargin\":true,\"zerolinewidth\":2},\"yaxis\":{\"gridcolor\":\"white\",\"linecolor\":\"white\",\"ticks\":\"\",\"title\":{\"standoff\":15},\"zerolinecolor\":\"white\",\"automargin\":true,\"zerolinewidth\":2},\"scene\":{\"xaxis\":{\"backgroundcolor\":\"#E5ECF6\",\"gridcolor\":\"white\",\"linecolor\":\"white\",\"showbackground\":true,\"ticks\":\"\",\"zerolinecolor\":\"white\",\"gridwidth\":2},\"yaxis\":{\"backgroundcolor\":\"#E5ECF6\",\"gridcolor\":\"white\",\"linecolor\":\"white\",\"showbackground\":true,\"ticks\":\"\",\"zerolinecolor\":\"white\",\"gridwidth\":2},\"zaxis\":{\"backgroundcolor\":\"#E5ECF6\",\"gridcolor\":\"white\",\"linecolor\":\"white\",\"showbackground\":true,\"ticks\":\"\",\"zerolinecolor\":\"white\",\"gridwidth\":2}},\"shapedefaults\":{\"line\":{\"color\":\"#2a3f5f\"}},\"annotationdefaults\":{\"arrowcolor\":\"#2a3f5f\",\"arrowhead\":0,\"arrowwidth\":1},\"geo\":{\"bgcolor\":\"white\",\"landcolor\":\"#E5ECF6\",\"subunitcolor\":\"white\",\"showland\":true,\"showlakes\":true,\"lakecolor\":\"white\"},\"title\":{\"x\":0.05},\"mapbox\":{\"style\":\"light\"}}},\"xaxis\":{\"anchor\":\"y\",\"domain\":[0.0,1.0],\"title\":{\"text\":\"Nb. Chambres\"}},\"yaxis\":{\"anchor\":\"x\",\"domain\":[0.0,1.0],\"title\":{\"text\":\"Prix en euro\"}},\"legend\":{\"title\":{\"text\":\"Localisation\"},\"tracegroupgap\":0,\"itemsizing\":\"constant\"},\"margin\":{\"t\":60},\"height\":800,\"width\":1000,\"title\":{\"text\":\"House price analysis\"}},                        {\"responsive\": true}                    ).then(function(){\n",
       "                            \n",
       "var gd = document.getElementById('63631b14-f164-4e33-b331-dbd66f229204');\n",
       "var x = new MutationObserver(function (mutations, observer) {{\n",
       "        var display = window.getComputedStyle(gd).display;\n",
       "        if (!display || display === 'none') {{\n",
       "            console.log([gd, 'removed!']);\n",
       "            Plotly.purge(gd);\n",
       "            observer.disconnect();\n",
       "        }}\n",
       "}});\n",
       "\n",
       "// Listen for the removal of the full notebook cells\n",
       "var notebookContainer = gd.closest('#notebook-container');\n",
       "if (notebookContainer) {{\n",
       "    x.observe(notebookContainer, {childList: true});\n",
       "}}\n",
       "\n",
       "// Listen for the clearing of the current output cell\n",
       "var outputEl = gd.closest('.output');\n",
       "if (outputEl) {{\n",
       "    x.observe(outputEl, {childList: true});\n",
       "}}\n",
       "\n",
       "                        })                };                });            </script>        </div>"
      ]
     },
     "metadata": {},
     "output_type": "display_data"
    }
   ],
   "source": [
    "labels = {\n",
    "    \"chambre\": \"Nb. Chambres\",\n",
    "    \"piece\": \"Nb. Pieces\",\n",
    "    \"localisation\": \"Localisation\",\n",
    "    \"price_(euro)\": \"Prix en euro\"\n",
    "}\n",
    "fig = px.scatter(df[:50],\n",
    "                 x = \"chambre\", \n",
    "                 y = \"price_(euro)\",\n",
    "                 hover_name = 'localisation',\n",
    "                 color = 'localisation',\n",
    "                 size = 'price_(euro)',\n",
    "                 labels = labels,\n",
    "                 width = 1000, height = 800)\n",
    "\n",
    "fig.update_layout(title = title)\n",
    "fig.show()"
   ]
  },
  {
   "cell_type": "markdown",
   "metadata": {},
   "source": [
    "### Export in PNG and HTML"
   ]
  },
  {
   "cell_type": "code",
   "execution_count": 9,
   "metadata": {
    "execution": {
     "iopub.execute_input": "2022-06-11T06:27:49.549702Z",
     "iopub.status.busy": "2022-06-11T06:27:49.549233Z",
     "iopub.status.idle": "2022-06-11T06:27:50.866456Z",
     "shell.execute_reply": "2022-06-11T06:27:50.865350Z",
     "shell.execute_reply.started": "2022-06-11T06:27:49.549661Z"
    },
    "tags": []
   },
   "outputs": [],
   "source": [
    "fig.write_image(output_image, width=1200)\n",
    "fig.write_html(output_html)"
   ]
  },
  {
   "cell_type": "markdown",
   "metadata": {},
   "source": [
    "### Create shareable assets"
   ]
  },
  {
   "cell_type": "code",
   "execution_count": 12,
   "metadata": {
    "execution": {
     "iopub.execute_input": "2022-06-11T06:29:08.639596Z",
     "iopub.status.busy": "2022-06-11T06:29:08.639291Z",
     "iopub.status.idle": "2022-06-11T06:29:09.656538Z",
     "shell.execute_reply": "2022-06-11T06:29:09.655840Z",
     "shell.execute_reply.started": "2022-06-11T06:29:08.639568Z"
    },
    "tags": []
   },
   "outputs": [
    {
     "name": "stdout",
     "output_type": "stream",
     "text": [
      "👌 Well done! Your Assets has been sent to production.\n",
      "\n"
     ]
    },
    {
     "data": {
      "application/javascript": [
       "\n",
       "    if (!window.copyToClipboard) {\n",
       "        window.copyToClipboard = (text) => {\n",
       "            const dummy = document.createElement(\"textarea\");\n",
       "            document.body.appendChild(dummy);\n",
       "            dummy.value = text;\n",
       "            dummy.select();\n",
       "            document.execCommand(\"copy\");\n",
       "            document.body.removeChild(dummy);\n",
       "        }\n",
       "    }\n",
       "    "
      ],
      "text/plain": [
       "<IPython.core.display.Javascript object>"
      ]
     },
     "metadata": {},
     "output_type": "display_data"
    },
    {
     "data": {
      "application/vnd.jupyter.widget-view+json": {
       "model_id": "ffd78a4e328d40ac974ff4bdcd6bbb2f",
       "version_major": 2,
       "version_minor": 0
      },
      "text/plain": [
       "Button(button_style='primary', description='Copy URL', style=ButtonStyle())"
      ]
     },
     "metadata": {},
     "output_type": "display_data"
    },
    {
     "data": {
      "application/vnd.jupyter.widget-view+json": {
       "model_id": "398e6d37f47646ecb2addce904bcce38",
       "version_major": 2,
       "version_minor": 0
      },
      "text/plain": [
       "Output()"
      ]
     },
     "metadata": {},
     "output_type": "display_data"
    },
    {
     "name": "stdout",
     "output_type": "stream",
     "text": [
      "PS: to remove the \"Assets\" feature, just replace .add by .delete\n",
      "👌 Well done! Your Assets has been sent to production.\n",
      "\n"
     ]
    },
    {
     "data": {
      "application/javascript": [
       "\n",
       "    if (!window.copyToClipboard) {\n",
       "        window.copyToClipboard = (text) => {\n",
       "            const dummy = document.createElement(\"textarea\");\n",
       "            document.body.appendChild(dummy);\n",
       "            dummy.value = text;\n",
       "            dummy.select();\n",
       "            document.execCommand(\"copy\");\n",
       "            document.body.removeChild(dummy);\n",
       "        }\n",
       "    }\n",
       "    "
      ],
      "text/plain": [
       "<IPython.core.display.Javascript object>"
      ]
     },
     "metadata": {},
     "output_type": "display_data"
    },
    {
     "data": {
      "application/vnd.jupyter.widget-view+json": {
       "model_id": "be3a87b3d66c4876947f822e15b2aa51",
       "version_major": 2,
       "version_minor": 0
      },
      "text/plain": [
       "Button(button_style='primary', description='Copy URL', style=ButtonStyle())"
      ]
     },
     "metadata": {},
     "output_type": "display_data"
    },
    {
     "data": {
      "application/vnd.jupyter.widget-view+json": {
       "model_id": "fd433d5485eb4918abdbb619af7f98c5",
       "version_major": 2,
       "version_minor": 0
      },
      "text/plain": [
       "Output()"
      ]
     },
     "metadata": {},
     "output_type": "display_data"
    },
    {
     "name": "stdout",
     "output_type": "stream",
     "text": [
      "PS: to remove the \"Assets\" feature, just replace .add by .delete\n"
     ]
    }
   ],
   "source": [
    "link_image = naas.asset.add(output_image)\n",
    "link_html = naas.asset.add(output_html, {\"inline\": True})"
   ]
  },
  {
   "cell_type": "code",
   "execution_count": null,
   "metadata": {},
   "outputs": [],
   "source": []
  }
 ],
 "metadata": {
  "kernelspec": {
   "display_name": "Python 3",
   "language": "python",
   "name": "python3"
  },
  "language_info": {
   "codemirror_mode": {
    "name": "ipython",
    "version": 3
   },
   "file_extension": ".py",
   "mimetype": "text/x-python",
   "name": "python",
   "nbconvert_exporter": "python",
   "pygments_lexer": "ipython3",
   "version": "3.8.5"
  }
 },
 "nbformat": 4,
 "nbformat_minor": 5
}
