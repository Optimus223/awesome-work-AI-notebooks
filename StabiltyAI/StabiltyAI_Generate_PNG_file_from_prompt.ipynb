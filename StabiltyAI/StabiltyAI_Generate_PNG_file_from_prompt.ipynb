{
 "cells": [
  {
   "cell_type": "markdown",
   "id": "fb7cc4e0-9d7a-4dd7-9c1d-cdcb2c1fd016",
   "metadata": {
    "papermill": {},
    "tags": []
   },
   "source": [
    "<img width=\"10%\" alt=\"Naas\" src=\"https://landen.imgix.net/jtci2pxwjczr/assets/5ice39g4.png?w=160\"/>"
   ]
  },
  {
   "cell_type": "markdown",
   "id": "f2961353-f408-4264-97bc-b24c983b40de",
   "metadata": {
    "papermill": {},
    "tags": []
   },
   "source": [
    "# StabiltyAI - Generate PNG file from prompt"
   ]
  },
  {
   "cell_type": "markdown",
   "id": "a663e1c6-2001-492c-8c2e-7d6f15055357",
   "metadata": {
    "papermill": {},
    "tags": []
   },
   "source": [
    "**Tags:** #stabilityai #png #prompt #generate #file #python"
   ]
  },
  {
   "cell_type": "markdown",
   "id": "3de406e1-02b0-423f-9500-a5dfd4f4ec6d",
   "metadata": {
    "papermill": {},
    "tags": []
   },
   "source": [
    "**Author:** [Jeremy Ravenel](https://www.linkedin.com/in/jeremyravenel/)"
   ]
  },
  {
   "cell_type": "markdown",
   "id": "434c00e3-9306-490d-80c7-17de3e286f58",
   "metadata": {
    "papermill": {},
    "tags": []
   },
   "source": [
    "**Description:** This notebook will demonstrate how to generate a PNG file from a prompt using the StabilityAI platform."
   ]
  },
  {
   "cell_type": "markdown",
   "id": "c386cb87-6ea1-41a8-bc46-f47c5652f5f5",
   "metadata": {
    "papermill": {},
    "tags": []
   },
   "source": [
    "**References:**\n- [StabilityAI Documentation](https://platform.stability.ai/)\n- [PNG File Format](https://en.wikipedia.org/wiki/Portable_Network_Graphics)"
   ]
  },
  {
   "cell_type": "markdown",
   "id": "2a7e842a-c361-4444-88ff-459922172dd7",
   "metadata": {
    "papermill": {},
    "tags": []
   },
   "source": [
    "## Input"
   ]
  },
  {
   "cell_type": "markdown",
   "id": "677a1191-d9e9-4aa3-8e0b-0411635ac90c",
   "metadata": {
    "papermill": {},
    "tags": []
   },
   "source": [
    "### Import libraries"
   ]
  },
  {
   "cell_type": "code",
   "execution_count": null,
   "id": "8db6dd2e-e5b3-4e70-8719-e33280bd4321",
   "metadata": {
    "papermill": {},
    "tags": []
   },
   "source": "import stabilityai",
   "outputs": []
  },
  {
   "cell_type": "markdown",
   "id": "5f62533f-5137-4377-a71d-b883c5c3a15c",
   "metadata": {
    "papermill": {},
    "tags": []
   },
   "source": [
    "### Setup Variables\n- `prompt`: The prompt to generate the PNG file from."
   ]
  },
  {
   "cell_type": "code",
   "execution_count": null,
   "id": "7cadd1c7-f1cc-4af9-8e93-037a29d409b4",
   "metadata": {
    "papermill": {},
    "tags": []
   },
   "source": "prompt = \"This is a prompt\"",
   "outputs": []
  },
  {
   "cell_type": "markdown",
   "id": "0d257804-27c4-43f4-b586-5d006871e8ea",
   "metadata": {
    "papermill": {},
    "tags": []
   },
   "source": [
    "## Model"
   ]
  },
  {
   "cell_type": "markdown",
   "id": "09a52003-2ee2-49f2-8c1b-d94f041a2147",
   "metadata": {
    "papermill": {},
    "tags": []
   },
   "source": [
    "### Generate PNG file"
   ]
  },
  {
   "cell_type": "markdown",
   "id": "0a4f5379-4b52-4f3e-a917-7ba62f0cac53",
   "metadata": {
    "papermill": {},
    "tags": []
   },
   "source": [
    "Generate a PNG file from the given prompt using the StabilityAI platform."
   ]
  },
  {
   "cell_type": "code",
   "execution_count": null,
   "id": "b6d8ac22-9134-4544-99ad-e2440bbfb63a",
   "metadata": {
    "papermill": {},
    "tags": []
   },
   "source": "png_file = stabilityai.generate_png_file(prompt)",
   "outputs": []
  },
  {
   "cell_type": "markdown",
   "id": "17e1292f-c09d-43e1-bd40-c19df7b8578a",
   "metadata": {
    "papermill": {},
    "tags": []
   },
   "source": [
    "## Output"
   ]
  },
  {
   "cell_type": "markdown",
   "id": "47f323f2-ceef-40bd-b008-1d6ea1c80ce9",
   "metadata": {
    "papermill": {},
    "tags": []
   },
   "source": [
    "### Display result"
   ]
  },
  {
   "cell_type": "code",
   "execution_count": null,
   "id": "63d6ee78-931d-4ec6-aa54-eff52625420b",
   "metadata": {
    "papermill": {},
    "tags": []
   },
   "source": "png_file",
   "outputs": []
  },
  {
   "cell_type": "markdown",
   "id": "071416b0-ffc1-4c19-81b9-767c9ab1b814",
   "metadata": {
    "papermill": {},
    "tags": []
   },
   "source": [
    " "
   ]
  }
 ],
 "metadata": {
  "kernelspec": {
   "display_name": "Python 3",
   "language": "python",
   "name": "python3"
  },
  "language_info": {
   "codemirror_mode": {
    "name": "ipython",
    "version": 3
   },
   "file_extension": ".py",
   "mimetype": "text/x-python",
   "name": "python",
   "nbconvert_exporter": "python",
   "pygments_lexer": "ipython3",
   "version": "3.9.6"
  },
  "widgets": {
   "application/vnd.jupyter.widget-state+json": {
    "state": {},
    "version_major": 2,
    "version_minor": 0
   }
  }
 },
 "nbformat": 4,
 "nbformat_minor": 5
}