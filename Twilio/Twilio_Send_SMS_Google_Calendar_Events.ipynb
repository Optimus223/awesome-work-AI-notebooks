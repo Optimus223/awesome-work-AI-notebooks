{
 "cells": [
  {
   "cell_type": "markdown",
   "id": "latin-packing",
   "metadata": {
    "execution": {
     "iopub.execute_input": "2021-02-23T14:22:16.610471Z",
     "iopub.status.busy": "2021-02-23T14:22:16.610129Z",
     "iopub.status.idle": "2021-02-23T14:22:16.627784Z",
     "shell.execute_reply": "2021-02-23T14:22:16.626866Z",
     "shell.execute_reply.started": "2021-02-23T14:22:16.610384Z"
    },
    "papermill": {},
    "tags": []
   },
   "source": [
    "<img width=\"10%\" alt=\"Naas\" src=\"https://landen.imgix.net/jtci2pxwjczr/assets/5ice39g4.png?w=160\"/>"
   ]
  },
  {
   "cell_type": "markdown",
   "id": "compressed-wilson",
   "metadata": {
    "papermill": {},
    "tags": []
   },
   "source": [
    "# Twilio - Send Twilio SMS messages for Google Calendar Events\n",
    "<a href=\"https://app.naas.ai/user-redirect/naas/downloader?url=https://raw.githubusercontent.com/jupyter-naas/awesome-notebooks/master/template.ipynb\" target=\"_parent\">\n",
    "<img src=\"https://naasai-public.s3.eu-west-3.amazonaws.com/open_in_naas.svg\"/>\n",
    "</a><br><br><a href=\"https://github.com/jupyter-naas/awesome-notebooks/issues/new?assignees=&labels=&template=template-request.md&title=Tool+-+Action+of+the+notebook+\">Template request</a> | <a href=\"https://github.com/jupyter-naas/awesome-notebooks/issues/new?assignees=&labels=&template=bug_report.md&title=[ERROR]+Tool+/+Folder+Action+of+the+notebook+\">Bug report</a>"
   ]
  },
  {
   "cell_type": "markdown",
   "id": "religious-programmer",
   "metadata": {},
   "source": [
    "**Tags:** #googlecalendar #twilio #notification #event"
   ]
  },
  {
   "cell_type": "markdown",
   "id": "1fe9f56e-561c-4f52-aef8-b861c9462107",
   "metadata": {},
   "source": [
    "**Author:** [Sriniketh Jayasendil](https://www.linkedin.com/in/sriniketh-jayasendil)"
   ]
  },
  {
   "cell_type": "markdown",
   "id": "31ea7cdb-e10d-43fc-b026-f69249a59736",
   "metadata": {},
   "source": [
    "**Description:** This notebook is used to send notifications (SMS & Email) for new recurring events created using Google Calendar."
   ]
  },
  {
   "attachments": {},
   "cell_type": "markdown",
   "id": "0fad2bec",
   "metadata": {},
   "source": [
    "**References:**\n",
    "- https://developers.google.com/calendar/api/quickstart/python"
   ]
  },
  {
   "cell_type": "markdown",
   "id": "distinguished-truth",
   "metadata": {
    "papermill": {},
    "tags": []
   },
   "source": [
    "## Input"
   ]
  },
  {
   "cell_type": "markdown",
   "id": "numeric-mediterranean",
   "metadata": {},
   "source": [
    "### Import libraries"
   ]
  },
  {
   "cell_type": "code",
   "execution_count": 1,
   "id": "potential-surfing",
   "metadata": {
    "execution": {
     "iopub.execute_input": "2023-03-17T18:09:17.838397Z",
     "iopub.status.busy": "2023-03-17T18:09:17.838136Z",
     "iopub.status.idle": "2023-03-17T18:09:19.755547Z",
     "shell.execute_reply": "2023-03-17T18:09:19.754859Z",
     "shell.execute_reply.started": "2023-03-17T18:09:17.838338Z"
    },
    "tags": []
   },
   "outputs": [],
   "source": [
    "import naas\n",
    "\n",
    "try:\n",
    "    from apiclient.discovery import build\n",
    "    from google_auth_oauthlib.flow import InstalledAppFlow\n",
    "except ModuleNotFoundError:\n",
    "    !pip install google-api-python-client\n",
    "    from apiclient.discovery import build\n",
    "    from google_auth_oauthlib.flow import InstalledAppFlow\n",
    "    \n",
    "try:\n",
    "    from twilio.rest import Client\n",
    "except ModuleNotFoundError:\n",
    "    !pip install twilio\n",
    "    from twilio.rest import Client\n",
    "\n",
    "import pickle"
   ]
  },
  {
   "cell_type": "markdown",
   "id": "aggressive-trustee",
   "metadata": {},
   "source": [
    "### Setup Variables"
   ]
  },
  {
   "attachments": {},
   "cell_type": "markdown",
   "id": "1cee2ffa-57b3-4aaa-a474-c93521c5b4db",
   "metadata": {},
   "source": [
    "1. [Twilio](https://console.twilio.com)\n",
    "\n",
    "- Account SID\n",
    "- Authentication Token\n",
    "- My Twilio phone number\n",
    "- Twilio verified phone number\n",
    "\n",
    "2. [Google Cloud](https://console.cloud.google.com/)\n",
    "\n",
    "- Create a new free cloud project\n",
    "- Go to `API & Services` and enable Google Calendar API\n",
    "- Click on Manage, then navigate to Credentials on the left pane and create a new OAuth Client ID.\n",
    "- Click Application type -> Desktop app. In the name field, make sure to give it a unique name.\n",
    "- Click Create. The OAuth client-created screen appears, showing your new Client ID and Client secret.\n",
    "- Save the downloaded JSON file as credentials.json and make sure its in the same directory as the script is located.\n",
    "\n",
    "Then you are all set to proceed further 🚀"
   ]
  },
  {
   "cell_type": "code",
   "execution_count": 2,
   "id": "continuous-melbourne",
   "metadata": {
    "execution": {
     "iopub.execute_input": "2023-03-17T18:09:24.846100Z",
     "iopub.status.busy": "2023-03-17T18:09:24.845812Z",
     "iopub.status.idle": "2023-03-17T18:09:58.146699Z",
     "shell.execute_reply": "2023-03-17T18:09:58.146050Z",
     "shell.execute_reply.started": "2023-03-17T18:09:24.846066Z"
    },
    "tags": []
   },
   "outputs": [
    {
     "name": "stdout",
     "output_type": "stream",
     "text": [
      "Please visit this URL to authorize this application: https://accounts.google.com/o/oauth2/auth?response_type=code&client_id=417989596337-f11ffa76mds5stmo86kepgmnn940b32j.apps.googleusercontent.com&redirect_uri=urn%3Aietf%3Awg%3Aoauth%3A2.0%3Aoob&scope=https%3A%2F%2Fwww.googleapis.com%2Fauth%2Fcalendar&state=6sZTLNTNxYH6B4EFc3zlU9DUG92KdD&prompt=consent&access_type=offline\n"
     ]
    },
    {
     "name": "stdout",
     "output_type": "stream",
     "text": [
      "Enter the authorization code:  4/1AWtgzh6UzfzrPFE8XyFDYZOh-9zxCK2jootm853lXfWa1xwhdsjW5MF4bMY\n"
     ]
    }
   ],
   "source": [
    "#inputs\n",
    "\n",
    "## Twilio\n",
    "account_sid = naas.secret.get(\"TWILIO_ACCOUNT_SID\")\n",
    "auth_token = naas.secret.get(\"TWILIO_AUTH_TOKEN\")\n",
    "twilio_phone_number = naas.secret.get(\"TWILIO_FROM_NUMBER\")\n",
    "twilio_verified_phone_number = naas.secret.get(\"TWILIO_TO_NUMBER\")\n",
    "\n",
    "## Google Calendar\n",
    "scopes = ['https://www.googleapis.com/auth/calendar']\n",
    "flow = InstalledAppFlow.from_client_secrets_file(\"./secrets.json\", scopes=scopes)\n",
    "credentials = flow.run_console()\n",
    "service = build(\"calendar\", \"v3\", credentials=credentials)\n",
    "\n",
    "## New event details\n",
    "event = {\n",
    "  'summary': 'Naas.ai X Community call',\n",
    "  'location': 'https://meet.google.com/czx-zjpb-fof',\n",
    "  'description': 'Weekly community call to share the progress, roadmap, latest announcements, and lot more...',\n",
    "  'start': {\n",
    "    'dateTime': '2023-03-16T21:30:00+05:30',\n",
    "    'timeZone': 'Asia/Kolkata',\n",
    "  },\n",
    "  'end': {\n",
    "    'dateTime': '2023-03-16T22:30:00+05:30',\n",
    "    'timeZone': 'Asia/Kolkata',\n",
    "  },\n",
    "  'recurrence': [\n",
    "    'RRULE:FREQ=WEEKLY;BYDAY=TH'\n",
    "  ],\n",
    "  'attendees': [\n",
    "    {'email': 'srinikethcr7@gmail.com'},\n",
    "    {'email': 'd20l213@psgitech.ac.in'}\n",
    "#     {'email': ''}\n",
    "  ],\n",
    "  'reminders': {\n",
    "    'useDefault': False,\n",
    "    'overrides': [\n",
    "      {'method': 'email', 'minutes': 24 * 60},\n",
    "      {'method': 'popup', 'minutes': 30},\n",
    "    ],\n",
    "  },\n",
    "}\n",
    "\n",
    "#outputs\n",
    "message = ''"
   ]
  },
  {
   "cell_type": "markdown",
   "id": "registered-showcase",
   "metadata": {},
   "source": [
    "## Model"
   ]
  },
  {
   "cell_type": "markdown",
   "id": "7ee27fec-c86c-4e87-8bca-5f76ab4678d6",
   "metadata": {},
   "source": [
    "### Create new event with the data above"
   ]
  },
  {
   "cell_type": "code",
   "execution_count": 3,
   "id": "2671317d-74af-401c-977c-6f00ab4504b4",
   "metadata": {
    "execution": {
     "iopub.execute_input": "2023-03-17T18:10:02.149875Z",
     "iopub.status.busy": "2023-03-17T18:10:02.149629Z",
     "iopub.status.idle": "2023-03-17T18:10:02.474638Z",
     "shell.execute_reply": "2023-03-17T18:10:02.473985Z",
     "shell.execute_reply.started": "2023-03-17T18:10:02.149850Z"
    },
    "tags": []
   },
   "outputs": [
    {
     "name": "stdout",
     "output_type": "stream",
     "text": [
      "Event created📆\n"
     ]
    }
   ],
   "source": [
    "event = service.events().insert(calendarId='primary', body=event).execute()\n",
    "message = 'Event created and can be accessed at ' + event.get('htmlLink')\n",
    "print('Event created📆')"
   ]
  },
  {
   "cell_type": "markdown",
   "id": "tested-astrology",
   "metadata": {},
   "source": [
    "### Send notifications of new calendar Events"
   ]
  },
  {
   "cell_type": "code",
   "execution_count": 4,
   "id": "crude-louisville",
   "metadata": {
    "execution": {
     "iopub.execute_input": "2023-03-17T18:10:07.957707Z",
     "iopub.status.busy": "2023-03-17T18:10:07.957477Z",
     "iopub.status.idle": "2023-03-17T18:10:07.962288Z",
     "shell.execute_reply": "2023-03-17T18:10:07.961700Z",
     "shell.execute_reply.started": "2023-03-17T18:10:07.957685Z"
    },
    "papermill": {},
    "tags": []
   },
   "outputs": [],
   "source": [
    "def send_sms_google_calendar_events(to_phone_number, message):\n",
    "    # Send SMS using Twilio\n",
    "    client = Client(account_sid, auth_token)\n",
    "    sent_message = client.messages.create(\n",
    "        from_=twilio_phone_number,\n",
    "        to=twilio_verified_phone_number,\n",
    "        body=message)\n",
    "    \n",
    "\n",
    "    print(sent_message)"
   ]
  },
  {
   "cell_type": "markdown",
   "id": "lonely-pacific",
   "metadata": {
    "execution": {
     "iopub.execute_input": "2021-07-02T23:32:10.789097Z",
     "iopub.status.busy": "2021-07-02T23:32:10.788829Z",
     "iopub.status.idle": "2021-07-02T23:32:10.796900Z",
     "shell.execute_reply": "2021-07-02T23:32:10.796358Z",
     "shell.execute_reply.started": "2021-07-02T23:32:10.789033Z"
    }
   },
   "source": [
    "## Output"
   ]
  },
  {
   "cell_type": "markdown",
   "id": "890f7c86-b7bb-4f5d-9a1b-e492dd9580fd",
   "metadata": {},
   "source": [
    "### Save result in csv"
   ]
  },
  {
   "cell_type": "code",
   "execution_count": 5,
   "id": "9c4e3b7b-6440-4844-8054-265f1aec65eb",
   "metadata": {
    "execution": {
     "iopub.execute_input": "2023-03-17T18:10:12.190420Z",
     "iopub.status.busy": "2023-03-17T18:10:12.190178Z",
     "iopub.status.idle": "2023-03-17T18:10:12.768145Z",
     "shell.execute_reply": "2023-03-17T18:10:12.766860Z",
     "shell.execute_reply.started": "2023-03-17T18:10:12.190397Z"
    },
    "tags": []
   },
   "outputs": [
    {
     "name": "stdout",
     "output_type": "stream",
     "text": [
      "<Twilio.Api.V2010.MessageInstance account_sid=AC0d725340d8bb849879c71beb31b2a382 sid=SM3e15d89928799e9b192121f8c4661496>\n",
      "\n",
      "\n",
      "Done🚀\n"
     ]
    }
   ],
   "source": [
    "send_sms_google_calendar_events(to_phone_number=twilio_verified_phone_number, message=message)\n",
    "print('\\n\\nDone🚀')"
   ]
  },
  {
   "cell_type": "code",
   "execution_count": null,
   "id": "9fdaef11-3687-4f1f-9622-88bfddd21eb7",
   "metadata": {},
   "outputs": [],
   "source": []
  }
 ],
 "metadata": {
  "kernelspec": {
   "display_name": "Python 3",
   "language": "python",
   "name": "python3"
  },
  "language_info": {
   "codemirror_mode": {
    "name": "ipython",
    "version": 3
   },
   "file_extension": ".py",
   "mimetype": "text/x-python",
   "name": "python",
   "nbconvert_exporter": "python",
   "pygments_lexer": "ipython3",
   "version": "3.9.6"
  },
  "papermill": {
   "default_parameters": {},
   "environment_variables": {},
   "parameters": {},
   "version": "2.3.3"
  },
  "widgets": {
   "application/vnd.jupyter.widget-state+json": {
    "state": {},
    "version_major": 2,
    "version_minor": 0
   }
  }
 },
 "nbformat": 4,
 "nbformat_minor": 5
}
