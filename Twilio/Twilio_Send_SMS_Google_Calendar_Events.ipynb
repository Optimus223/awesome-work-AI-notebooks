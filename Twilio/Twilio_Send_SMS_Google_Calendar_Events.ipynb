{
 "cells": [
  {
   "cell_type": "markdown",
   "id": "latin-packing",
   "metadata": {
    "execution": {
     "iopub.execute_input": "2021-02-23T14:22:16.610471Z",
     "iopub.status.busy": "2021-02-23T14:22:16.610129Z",
     "iopub.status.idle": "2021-02-23T14:22:16.627784Z",
     "shell.execute_reply": "2021-02-23T14:22:16.626866Z",
     "shell.execute_reply.started": "2021-02-23T14:22:16.610384Z"
    },
    "papermill": {},
    "tags": []
   },
   "source": [
    "<img width=\"10%\" alt=\"Naas\" src=\"https://landen.imgix.net/jtci2pxwjczr/assets/5ice39g4.png?w=160\"/>"
   ]
  },
  {
   "cell_type": "markdown",
   "id": "compressed-wilson",
   "metadata": {
    "papermill": {},
    "tags": []
   },
   "source": [
    "# Twilio - Send Twilio SMS messages for Google Calendar Events\n",
    "<a href=\"https://app.naas.ai/user-redirect/naas/downloader?url=https://raw.githubusercontent.com/jupyter-naas/awesome-notebooks/master/template.ipynb\" target=\"_parent\">\n",
    "<img src=\"https://naasai-public.s3.eu-west-3.amazonaws.com/open_in_naas.svg\"/>\n",
    "</a><br><br><a href=\"https://github.com/jupyter-naas/awesome-notebooks/issues/new?assignees=&labels=&template=template-request.md&title=Tool+-+Action+of+the+notebook+\">Template request</a> | <a href=\"https://github.com/jupyter-naas/awesome-notebooks/issues/new?assignees=&labels=&template=bug_report.md&title=[ERROR]+Tool+/+Folder+Action+of+the+notebook+\">Bug report</a>"
   ]
  },
  {
   "cell_type": "markdown",
   "id": "religious-programmer",
   "metadata": {},
   "source": [
    "**Tags:** #googlecalendar #twilio #notification #event"
   ]
  },
  {
   "cell_type": "markdown",
   "id": "1fe9f56e-561c-4f52-aef8-b861c9462107",
   "metadata": {},
   "source": [
    "**Author:** [Sriniketh Jayasendil](https://www.linkedin.com/in/sriniketh-jayasendil)"
   ]
  },
  {
   "cell_type": "markdown",
   "id": "31ea7cdb-e10d-43fc-b026-f69249a59736",
   "metadata": {},
   "source": [
    "**Description:** This notebook is used to send notifications (SMS & Email) for new recurring events created using Google Calendar."
   ]
  },
  {
   "cell_type": "markdown",
   "id": "0fad2bec",
   "metadata": {},
   "source": [
    "**References:**\n",
    "- https://developers.google.com/calendar/api/quickstart/python"
   ]
  },
  {
   "cell_type": "markdown",
   "id": "distinguished-truth",
   "metadata": {
    "papermill": {},
    "tags": []
   },
   "source": [
    "## Input"
   ]
  },
  {
   "cell_type": "markdown",
   "id": "numeric-mediterranean",
   "metadata": {},
   "source": [
    "### Import libraries"
   ]
  },
  {
   "cell_type": "code",
   "execution_count": 1,
   "id": "potential-surfing",
   "metadata": {
    "execution": {
     "iopub.execute_input": "2023-04-18T14:25:07.424683Z",
     "iopub.status.busy": "2023-04-18T14:25:07.424254Z",
     "iopub.status.idle": "2023-04-18T14:25:12.469744Z",
     "shell.execute_reply": "2023-04-18T14:25:12.469150Z",
     "shell.execute_reply.started": "2023-04-18T14:25:07.424605Z"
    },
    "tags": []
   },
   "outputs": [],
   "source": [
    "import naas\n",
    "try:\n",
    "    from apiclient.discovery import build\n",
    "    from google_auth_oauthlib.flow import InstalledAppFlow\n",
    "except ModuleNotFoundError:\n",
    "    !pip install google-api-python-client --user\n",
    "    from apiclient.discovery import build\n",
    "    from google_auth_oauthlib.flow import InstalledAppFlow \n",
    "try:\n",
    "    from twilio.rest import Client\n",
    "except ModuleNotFoundError:\n",
    "    !pip install twilio --user\n",
    "    from twilio.rest import Client\n",
    "import pickle"
   ]
  },
  {
   "cell_type": "markdown",
   "id": "aggressive-trustee",
   "metadata": {},
   "source": [
    "### Setup Variables"
   ]
  },
  {
   "cell_type": "markdown",
   "id": "1cee2ffa-57b3-4aaa-a474-c93521c5b4db",
   "metadata": {},
   "source": [
    "1. [Twilio](https://console.twilio.com)\n",
    "\n",
    "- Account SID\n",
    "- Authentication Token\n",
    "- My Twilio phone number\n",
    "- Twilio verified phone number\n",
    "\n",
    "2. [Google Cloud](https://console.cloud.google.com/)\n",
    "\n",
    "- Follow this [blog](https://blog.sriniketh.design/send-sms-using-twilio-for-g-calendar-events-using-naas-template) to get the credentials from the Google Cloud Platform\n",
    "\n",
    "Then you are all set to proceed further 🚀"
   ]
  },
  {
   "cell_type": "code",
   "execution_count": 2,
   "id": "continuous-melbourne",
   "metadata": {
    "execution": {
     "iopub.execute_input": "2023-04-18T14:06:25.014613Z",
     "iopub.status.busy": "2023-04-18T14:06:25.014396Z",
     "iopub.status.idle": "2023-04-18T14:06:25.707931Z",
     "shell.execute_reply": "2023-04-18T14:06:25.706473Z",
     "shell.execute_reply.started": "2023-04-18T14:06:25.014581Z"
    },
    "tags": []
   },
   "outputs": [
    {
     "ename": "FileNotFoundError",
     "evalue": "[Errno 2] No such file or directory: './secrets.json'",
     "output_type": "error",
     "traceback": [
      "\u001b[0;31m---------------------------------------------------------------------------\u001b[0m",
      "\u001b[0;31mFileNotFoundError\u001b[0m                         Traceback (most recent call last)",
      "\u001b[0;32m<ipython-input-2-15e54c0656ae>\u001b[0m in \u001b[0;36m<module>\u001b[0;34m\u001b[0m\n\u001b[1;32m      9\u001b[0m \u001b[0;31m## Google Calendar\u001b[0m\u001b[0;34m\u001b[0m\u001b[0;34m\u001b[0m\u001b[0;34m\u001b[0m\u001b[0m\n\u001b[1;32m     10\u001b[0m \u001b[0mscopes\u001b[0m \u001b[0;34m=\u001b[0m \u001b[0;34m[\u001b[0m\u001b[0;34m'https://www.googleapis.com/auth/calendar'\u001b[0m\u001b[0;34m]\u001b[0m\u001b[0;34m\u001b[0m\u001b[0;34m\u001b[0m\u001b[0m\n\u001b[0;32m---> 11\u001b[0;31m \u001b[0mflow\u001b[0m \u001b[0;34m=\u001b[0m \u001b[0mInstalledAppFlow\u001b[0m\u001b[0;34m.\u001b[0m\u001b[0mfrom_client_secrets_file\u001b[0m\u001b[0;34m(\u001b[0m\u001b[0;34m\"./secrets.json\"\u001b[0m\u001b[0;34m,\u001b[0m \u001b[0mscopes\u001b[0m\u001b[0;34m=\u001b[0m\u001b[0mscopes\u001b[0m\u001b[0;34m)\u001b[0m\u001b[0;34m\u001b[0m\u001b[0;34m\u001b[0m\u001b[0m\n\u001b[0m\u001b[1;32m     12\u001b[0m \u001b[0mcredentials\u001b[0m \u001b[0;34m=\u001b[0m \u001b[0mflow\u001b[0m\u001b[0;34m.\u001b[0m\u001b[0mrun_console\u001b[0m\u001b[0;34m(\u001b[0m\u001b[0;34m)\u001b[0m\u001b[0;34m\u001b[0m\u001b[0;34m\u001b[0m\u001b[0m\n\u001b[1;32m     13\u001b[0m \u001b[0mservice\u001b[0m \u001b[0;34m=\u001b[0m \u001b[0mbuild\u001b[0m\u001b[0;34m(\u001b[0m\u001b[0;34m\"calendar\"\u001b[0m\u001b[0;34m,\u001b[0m \u001b[0;34m\"v3\"\u001b[0m\u001b[0;34m,\u001b[0m \u001b[0mcredentials\u001b[0m\u001b[0;34m=\u001b[0m\u001b[0mcredentials\u001b[0m\u001b[0;34m)\u001b[0m\u001b[0;34m\u001b[0m\u001b[0;34m\u001b[0m\u001b[0m\n",
      "\u001b[0;32m/opt/conda/lib/python3.9/site-packages/google_auth_oauthlib/flow.py\u001b[0m in \u001b[0;36mfrom_client_secrets_file\u001b[0;34m(cls, client_secrets_file, scopes, **kwargs)\u001b[0m\n\u001b[1;32m    201\u001b[0m             \u001b[0mFlow\u001b[0m\u001b[0;34m:\u001b[0m \u001b[0mThe\u001b[0m \u001b[0mconstructed\u001b[0m \u001b[0mFlow\u001b[0m \u001b[0minstance\u001b[0m\u001b[0;34m.\u001b[0m\u001b[0;34m\u001b[0m\u001b[0;34m\u001b[0m\u001b[0m\n\u001b[1;32m    202\u001b[0m         \"\"\"\n\u001b[0;32m--> 203\u001b[0;31m         \u001b[0;32mwith\u001b[0m \u001b[0mopen\u001b[0m\u001b[0;34m(\u001b[0m\u001b[0mclient_secrets_file\u001b[0m\u001b[0;34m,\u001b[0m \u001b[0;34m\"r\"\u001b[0m\u001b[0;34m)\u001b[0m \u001b[0;32mas\u001b[0m \u001b[0mjson_file\u001b[0m\u001b[0;34m:\u001b[0m\u001b[0;34m\u001b[0m\u001b[0;34m\u001b[0m\u001b[0m\n\u001b[0m\u001b[1;32m    204\u001b[0m             \u001b[0mclient_config\u001b[0m \u001b[0;34m=\u001b[0m \u001b[0mjson\u001b[0m\u001b[0;34m.\u001b[0m\u001b[0mload\u001b[0m\u001b[0;34m(\u001b[0m\u001b[0mjson_file\u001b[0m\u001b[0;34m)\u001b[0m\u001b[0;34m\u001b[0m\u001b[0;34m\u001b[0m\u001b[0m\n\u001b[1;32m    205\u001b[0m \u001b[0;34m\u001b[0m\u001b[0m\n",
      "\u001b[0;31mFileNotFoundError\u001b[0m: [Errno 2] No such file or directory: './secrets.json'"
     ]
    }
   ],
   "source": [
    "# Inputs\n",
    "\n",
    "## Twilio\n",
    "account_sid = naas.secret.get(\"TWILIO_ACCOUNT_SID\")\n",
    "auth_token = naas.secret.get(\"TWILIO_AUTH_TOKEN\")\n",
    "twilio_phone_number = naas.secret.get(\"TWILIO_FROM_NUMBER\")\n",
    "twilio_verified_phone_number = naas.secret.get(\"TWILIO_TO_NUMBER\")\n",
    "\n",
    "## Google Calendar\n",
    "scopes = ['https://www.googleapis.com/auth/calendar']\n",
    "flow = InstalledAppFlow.from_client_secrets_file(\"./secrets.json\", scopes=scopes)\n",
    "credentials = flow.run_console()\n",
    "service = build(\"calendar\", \"v3\", credentials=credentials)\n",
    "\n",
    "## New event details\n",
    "event = {\n",
    "  'summary': 'Naas.ai X Community call',\n",
    "  'location': 'https://meet.google.com/czx-zjpb-fof',\n",
    "  'description': 'Weekly community call to share the progress, roadmap, latest announcements, and lot more...',\n",
    "  'start': {\n",
    "    'dateTime': '2023-03-16T21:30:00+05:30',\n",
    "    'timeZone': 'Asia/Kolkata',\n",
    "  },\n",
    "  'end': {\n",
    "    'dateTime': '2023-03-16T22:30:00+05:30',\n",
    "    'timeZone': 'Asia/Kolkata',\n",
    "  },\n",
    "  'recurrence': [\n",
    "    'RRULE:FREQ=WEEKLY;BYDAY=TH'\n",
    "  ],\n",
    "  'attendees': [\n",
    "    {'email': 'srinikethcr7@gmail.com'},\n",
    "    {'email': 'd20l213@psgitech.ac.in'}\n",
    "#     {'email': ''}\n",
    "  ],\n",
    "  'reminders': {\n",
    "    'useDefault': False,\n",
    "    'overrides': [\n",
    "      {'method': 'email', 'minutes': 24 * 60},\n",
    "      {'method': 'popup', 'minutes': 30},\n",
    "    ],\n",
    "  },\n",
    "}\n",
    "\n",
    "# Outputs\n",
    "message = ''"
   ]
  },
  {
   "cell_type": "markdown",
   "id": "registered-showcase",
   "metadata": {},
   "source": [
    "## Model"
   ]
  },
  {
   "cell_type": "markdown",
   "id": "7ee27fec-c86c-4e87-8bca-5f76ab4678d6",
   "metadata": {},
   "source": [
    "### Create new event with the data above"
   ]
  },
  {
   "cell_type": "code",
   "execution_count": null,
   "id": "2671317d-74af-401c-977c-6f00ab4504b4",
   "metadata": {
    "execution": {
     "iopub.status.busy": "2023-04-18T14:06:25.709148Z",
     "iopub.status.idle": "2023-04-18T14:06:25.709787Z",
     "shell.execute_reply": "2023-04-18T14:06:25.709540Z"
    },
    "tags": []
   },
   "outputs": [],
   "source": [
    "event = service.events().insert(calendarId='primary', body=event).execute()\n",
    "message = 'Event created and can be accessed at ' + event.get('htmlLink')\n",
    "print('Event created📆')"
   ]
  },
  {
   "cell_type": "markdown",
   "id": "tested-astrology",
   "metadata": {},
   "source": [
    "### Send notifications of new calendar Events"
   ]
  },
  {
   "cell_type": "code",
   "execution_count": null,
   "id": "crude-louisville",
   "metadata": {
    "execution": {
     "iopub.status.busy": "2023-04-18T14:06:25.710826Z",
     "iopub.status.idle": "2023-04-18T14:06:25.711368Z",
     "shell.execute_reply": "2023-04-18T14:06:25.711175Z"
    },
    "papermill": {},
    "tags": []
   },
   "outputs": [],
   "source": [
    "def send_sms_google_calendar_events(to_phone_number, message):\n",
    "    # Send SMS using Twilio\n",
    "    client = Client(account_sid, auth_token)\n",
    "    sent_message = client.messages.create(\n",
    "        from_=twilio_phone_number,\n",
    "        to=twilio_verified_phone_number,\n",
    "        body=message)\n",
    "    \n",
    "\n",
    "    print(sent_message)"
   ]
  },
  {
   "cell_type": "markdown",
   "id": "lonely-pacific",
   "metadata": {
    "execution": {
     "iopub.execute_input": "2021-07-02T23:32:10.789097Z",
     "iopub.status.busy": "2021-07-02T23:32:10.788829Z",
     "iopub.status.idle": "2021-07-02T23:32:10.796900Z",
     "shell.execute_reply": "2021-07-02T23:32:10.796358Z",
     "shell.execute_reply.started": "2021-07-02T23:32:10.789033Z"
    }
   },
   "source": [
    "## Output"
   ]
  },
  {
   "cell_type": "markdown",
   "id": "890f7c86-b7bb-4f5d-9a1b-e492dd9580fd",
   "metadata": {},
   "source": [
    "### Save result in csv"
   ]
  },
  {
   "cell_type": "code",
   "execution_count": null,
   "id": "9c4e3b7b-6440-4844-8054-265f1aec65eb",
   "metadata": {
    "execution": {
     "iopub.status.busy": "2023-04-18T14:06:25.712236Z",
     "iopub.status.idle": "2023-04-18T14:06:25.712683Z",
     "shell.execute_reply": "2023-04-18T14:06:25.712521Z"
    },
    "tags": []
   },
   "outputs": [],
   "source": [
    "send_sms_google_calendar_events(to_phone_number=twilio_verified_phone_number, message=message)\n",
    "print('\\n\\nDone🚀')"
   ]
  },
  {
   "cell_type": "code",
   "execution_count": null,
   "id": "9fdaef11-3687-4f1f-9622-88bfddd21eb7",
   "metadata": {},
   "outputs": [],
   "source": []
  }
 ],
 "metadata": {
  "kernelspec": {
   "display_name": "Python 3",
   "language": "python",
   "name": "python3"
  },
  "language_info": {
   "codemirror_mode": {
    "name": "ipython",
    "version": 3
   },
   "file_extension": ".py",
   "mimetype": "text/x-python",
   "name": "python",
   "nbconvert_exporter": "python",
   "pygments_lexer": "ipython3",
   "version": "3.9.6"
  },
  "papermill": {
   "default_parameters": {},
   "environment_variables": {},
   "parameters": {},
   "version": "2.3.3"
  },
  "widgets": {
   "application/vnd.jupyter.widget-state+json": {
    "state": {},
    "version_major": 2,
    "version_minor": 0
   }
  }
 },
 "nbformat": 4,
 "nbformat_minor": 5
}
