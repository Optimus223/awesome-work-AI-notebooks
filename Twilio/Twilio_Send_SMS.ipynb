{
 "cells": [
  {
   "cell_type": "markdown",
   "id": "62d585e6",
   "metadata": {},
   "source": [
    "<img width=\"10%\" alt=\"Naas\" src=\"https://landen.imgix.net/jtci2pxwjczr/assets/5ice39g4.png?w=160\"/>"
   ]
  },
  {
   "cell_type": "markdown",
   "id": "f9a0a919-3d6e-46cb-a25a-0913bddaff5e",
   "metadata": {
    "tags": [
     "twilio"
    ]
   },
   "source": [
    "# Twilio - Send a SMS\n",
    "<a href=\"https://app.naas.ai/user-redirect/naas/downloader?url=https://raw.githubusercontent.com/jupyter-naas/awesome-notebooks/master/Twilio/Twilio_Send_SMS.ipynb\" target=\"_parent\"><img src=\"https://naasai-public.s3.eu-west-3.amazonaws.com/open_in_naas.svg\"/></a>\n",
    "\n",
    "## Input"
   ]
  },
  {
   "cell_type": "markdown",
   "id": "68990820",
   "metadata": {},
   "source": [
    "**Tags:** #twilio #project #send #sms"
   ]
  },
  {
   "cell_type": "markdown",
   "id": "f880afb8",
   "metadata": {},
   "source": [
    "**Author:** [Sriniketh Jayasendil](https://www.linkedin.com/in/sriniketh-jayasendil/)"
   ]
  },
  {
   "cell_type": "markdown",
   "id": "aad7c3f3",
   "metadata": {},
   "source": [
    "Sends an SMS to a verfied Phone Number using Twilio"
   ]
  },
  {
   "cell_type": "markdown",
   "id": "a00162bf",
   "metadata": {},
   "source": [
    "## Input"
   ]
  },
  {
   "cell_type": "markdown",
   "id": "9989498f",
   "metadata": {},
   "source": [
    "## Import Library"
   ]
  },
  {
   "cell_type": "code",
   "execution_count": null,
   "id": "cd82d02f-1a10-4210-af05-8d8d7d76f71d",
   "metadata": {
    "execution": {
     "iopub.execute_input": "2022-03-14T12:23:44.646314Z",
     "iopub.status.busy": "2022-03-14T12:23:44.646096Z",
     "iopub.status.idle": "2022-03-14T12:23:44.706891Z",
     "shell.execute_reply": "2022-03-14T12:23:44.706017Z",
     "shell.execute_reply.started": "2022-03-14T12:23:44.646286Z"
    },
    "tags": []
   },
   "outputs": [],
   "source": [
    "from twilio.rest import Client"
   ]
  },
  {
   "cell_type": "markdown",
   "id": "22950f29",
   "metadata": {},
   "source": [
    "### Variables"
   ]
  },
  {
   "cell_type": "code",
   "execution_count": null,
   "id": "44fa3425-8674-4560-9c1b-32b5c7fb65f8",
   "metadata": {
    "execution": {
     "iopub.execute_input": "2022-03-14T12:52:24.122195Z",
     "iopub.status.busy": "2022-03-14T12:52:24.121976Z",
     "iopub.status.idle": "2022-03-14T12:52:24.133073Z",
     "shell.execute_reply": "2022-03-14T12:52:24.127134Z",
     "shell.execute_reply.started": "2022-03-14T12:52:24.122173Z"
    },
    "tags": []
   },
   "outputs": [],
   "source": [
    "account_sid = \"\"    # From Twilio Console\n",
    "auth_token = \"\"     # From Twilio Console\n",
    "from_number = \"\"    # Buy a new number if not available preferably starting with \"+1\" country code\n",
    "to_number = \"\"      # Could send messages only to verified Caller ID's\n",
    "message = \"\"        # Message to be Sent"
   ]
  },
  {
   "cell_type": "markdown",
   "id": "431fd000-d7f8-4ab8-a9b8-33126ef9965c",
   "metadata": {},
   "source": [
    "## Model\n"
   ]
  },
  {
   "cell_type": "code",
   "execution_count": null,
   "id": "7c53974b-a461-427a-bc45-34fc5ffb6812",
   "metadata": {
    "execution": {
     "iopub.execute_input": "2022-03-14T12:52:25.022568Z",
     "iopub.status.busy": "2022-03-14T12:52:25.022344Z",
     "iopub.status.idle": "2022-03-14T12:52:25.025479Z",
     "shell.execute_reply": "2022-03-14T12:52:25.024820Z",
     "shell.execute_reply.started": "2022-03-14T12:52:25.022545Z"
    },
    "tags": []
   },
   "outputs": [],
   "source": [
    "client = Client(account_sid, auth_token)  # Set Client"
   ]
  },
  {
   "cell_type": "markdown",
   "id": "c67911de-6906-4411-b8e9-a3b8cdb041a9",
   "metadata": {},
   "source": [
    "## Output\n"
   ]
  },
  {
   "cell_type": "code",
   "execution_count": null,
   "id": "320e69bc-c0e2-45f2-8c0d-4cc1300a297d",
   "metadata": {
    "execution": {
     "iopub.execute_input": "2022-03-14T12:52:25.522766Z",
     "iopub.status.busy": "2022-03-14T12:52:25.522542Z",
     "iopub.status.idle": "2022-03-14T12:52:26.161647Z",
     "shell.execute_reply": "2022-03-14T12:52:26.160955Z",
     "shell.execute_reply.started": "2022-03-14T12:52:25.522744Z"
    },
    "tags": []
   },
   "outputs": [],
   "source": [
    "client.api.account.messages.create(to=to_number,\n",
    "                                   from_=from_number,\n",
    "                                   body=message)"
   ]
  },
  {
   "cell_type": "code",
   "execution_count": null,
   "id": "5e273ccf-9034-4b0b-ac86-ffa58f9c0b7e",
   "metadata": {},
   "outputs": [],
   "source": []
  }
 ],
 "metadata": {
  "kernelspec": {
   "display_name": "Python 3",
   "language": "python",
   "name": "python3"
  },
  "language_info": {
   "codemirror_mode": {
    "name": "ipython",
    "version": 3
   },
   "file_extension": ".py",
   "mimetype": "text/x-python",
   "name": "python",
   "nbconvert_exporter": "python",
   "pygments_lexer": "ipython3",
   "version": "3.9.6"
  }
 },
 "nbformat": 4,
 "nbformat_minor": 5
}
