{
 "cells": [
  {
   "cell_type": "markdown",
   "id": "62d585e6",
   "metadata": {},
   "source": [
    "<img width=\"10%\" alt=\"Naas\" src=\"https://landen.imgix.net/jtci2pxwjczr/assets/5ice39g4.png?w=160\"/>"
   ]
  },
  {
   "cell_type": "markdown",
   "id": "f9a0a919-3d6e-46cb-a25a-0913bddaff5e",
   "metadata": {
    "tags": [
     "twilio"
    ]
   },
   "source": [
    "# Twilio - Make a Call\n",
    "<a href=\"https://app.naas.ai/user-redirect/naas/downloader?url=https://raw.githubusercontent.com/jupyter-naas/awesome-notebooks/master/Twilio/Twilio_Make_call.ipynb\" target=\"_parent\"><img src=\"https://naasai-public.s3.eu-west-3.amazonaws.com/open_in_naas.svg\"/></a>\n",
    "\n",
    "## Input"
   ]
  },
  {
   "cell_type": "markdown",
   "id": "68990820",
   "metadata": {},
   "source": [
    "**Tags:** #twilio #project #call #mobile"
   ]
  },
  {
   "cell_type": "markdown",
   "id": "f880afb8",
   "metadata": {},
   "source": [
    "**Author:** [Sriniketh Jayasendil](https://www.linkedin.com/in/sriniketh-jayasendil/)"
   ]
  },
  {
   "cell_type": "markdown",
   "id": "a00162bf",
   "metadata": {},
   "source": [
    "## Input"
   ]
  },
  {
   "cell_type": "markdown",
   "id": "d0795dbe-152b-440e-86c5-a1050fbe30d2",
   "metadata": {},
   "source": [
    "## Import Library"
   ]
  },
  {
   "cell_type": "code",
   "execution_count": 1,
   "id": "cd82d02f-1a10-4210-af05-8d8d7d76f71d",
   "metadata": {
    "execution": {
     "iopub.execute_input": "2022-07-23T15:05:04.089137Z",
     "iopub.status.busy": "2022-07-23T15:05:04.088888Z",
     "iopub.status.idle": "2022-07-23T15:05:05.768157Z",
     "shell.execute_reply": "2022-07-23T15:05:05.767403Z",
     "shell.execute_reply.started": "2022-07-23T15:05:04.089073Z"
    },
    "tags": []
   },
   "outputs": [],
   "source": [
    "import time\n",
    "import naas\n",
    "\n",
    "try:\n",
    "    from twilio.rest import Client\n",
    "except ModuleNotFoundError:\n",
    "    ! pip install twilio\n",
    "    from twilio.rest import Client"
   ]
  },
  {
   "cell_type": "markdown",
   "id": "22950f29",
   "metadata": {},
   "source": [
    "### Variables"
   ]
  },
  {
   "cell_type": "code",
   "execution_count": 2,
   "id": "44fa3425-8674-4560-9c1b-32b5c7fb65f8",
   "metadata": {
    "execution": {
     "iopub.execute_input": "2022-07-23T15:05:05.771007Z",
     "iopub.status.busy": "2022-07-23T15:05:05.770804Z",
     "iopub.status.idle": "2022-07-23T15:05:06.185141Z",
     "shell.execute_reply": "2022-07-23T15:05:06.184554Z",
     "shell.execute_reply.started": "2022-07-23T15:05:05.770986Z"
    },
    "tags": []
   },
   "outputs": [],
   "source": [
    "account_sid = naas.secret.get(name=\"account_sid\")    # From Twilio Console\n",
    "auth_token = naas.secret.get(name=\"auth_token\")     # From Twilio Console\n",
    "from_number = naas.secret.get(name=\"from_number\")    # From Twilio Console\n",
    "to_number = naas.secret.get(name=\"to_number\")      # Could send messages only to verified Caller ID's"
   ]
  },
  {
   "cell_type": "markdown",
   "id": "431fd000-d7f8-4ab8-a9b8-33126ef9965c",
   "metadata": {},
   "source": [
    "## Model\n"
   ]
  },
  {
   "cell_type": "code",
   "execution_count": 3,
   "id": "7c53974b-a461-427a-bc45-34fc5ffb6812",
   "metadata": {
    "execution": {
     "iopub.execute_input": "2022-07-23T15:05:06.188230Z",
     "iopub.status.busy": "2022-07-23T15:05:06.188039Z",
     "iopub.status.idle": "2022-07-23T15:05:06.192786Z",
     "shell.execute_reply": "2022-07-23T15:05:06.192291Z",
     "shell.execute_reply.started": "2022-07-23T15:05:06.188211Z"
    },
    "tags": []
   },
   "outputs": [],
   "source": [
    "client = Client(account_sid, auth_token)  # Set Client"
   ]
  },
  {
   "cell_type": "markdown",
   "id": "c67911de-6906-4411-b8e9-a3b8cdb041a9",
   "metadata": {},
   "source": [
    "## Output\n"
   ]
  },
  {
   "cell_type": "code",
   "execution_count": 4,
   "id": "8f41b897-4d9e-4f37-bd08-2a8ba1b7e22f",
   "metadata": {
    "execution": {
     "iopub.execute_input": "2022-07-23T15:05:06.194003Z",
     "iopub.status.busy": "2022-07-23T15:05:06.193779Z",
     "iopub.status.idle": "2022-07-23T15:05:12.014706Z",
     "shell.execute_reply": "2022-07-23T15:05:12.014010Z",
     "shell.execute_reply.started": "2022-07-23T15:05:06.193975Z"
    },
    "tags": []
   },
   "outputs": [
    {
     "name": "stdout",
     "output_type": "stream",
     "text": [
      "CA5c815e0ae2fdc05689769888f0ac230c\n"
     ]
    }
   ],
   "source": [
    "call = client.calls.create(\n",
    "                        url='http://demo.twilio.com/docs/voice.xml',\n",
    "                        to=to_number,\n",
    "                        from_=from_number\n",
    "                    )\n",
    "\n",
    "time.sleep(5)\n",
    "print(call.sid)"
   ]
  },
  {
   "cell_type": "code",
   "execution_count": null,
   "id": "5e273ccf-9034-4b0b-ac86-ffa58f9c0b7e",
   "metadata": {},
   "outputs": [],
   "source": []
  }
 ],
 "metadata": {
  "kernelspec": {
   "display_name": "Python 3",
   "language": "python",
   "name": "python3"
  },
  "language_info": {
   "codemirror_mode": {
    "name": "ipython",
    "version": 3
   },
   "file_extension": ".py",
   "mimetype": "text/x-python",
   "name": "python",
   "nbconvert_exporter": "python",
   "pygments_lexer": "ipython3",
   "version": "3.9.6"
  }
 },
 "nbformat": 4,
 "nbformat_minor": 5
}
