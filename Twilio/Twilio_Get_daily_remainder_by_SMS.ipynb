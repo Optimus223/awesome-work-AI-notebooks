{
 "cells": [
  {
   "cell_type": "markdown",
   "id": "d00eceae-2535-451f-995c-1b48e8c5fa4e",
   "metadata": {
    "execution": {
     "iopub.execute_input": "2021-02-23T14:22:16.610471Z",
     "iopub.status.busy": "2021-02-23T14:22:16.610129Z",
     "iopub.status.idle": "2021-02-23T14:22:16.627784Z",
     "shell.execute_reply": "2021-02-23T14:22:16.626866Z",
     "shell.execute_reply.started": "2021-02-23T14:22:16.610384Z"
    },
    "papermill": {},
    "tags": []
   },
   "source": [
    "<img width=\"10%\" alt=\"Naas\" src=\"https://landen.imgix.net/jtci2pxwjczr/assets/5ice39g4.png?w=160\"/>"
   ]
  },
  {
   "cell_type": "markdown",
   "id": "28c5120d-3f64-40b8-8e72-d60b9a0ee49c",
   "metadata": {
    "papermill": {},
    "tags": []
   },
   "source": [
    "# Tool - Twilio get Daily Remainder as SMS\n",
    "<a href=\"https://app.naas.ai/user-redirect/naas/downloader?url=https://raw.githubusercontent.com/jupyter-naas/awesome-notebooks/master/template.ipynb\" target=\"_parent\">\n",
    "<img src=\"https://naasai-public.s3.eu-west-3.amazonaws.com/open_in_naas.svg\"/>\n",
    "</a><br><br><a href=\"https://github.com/jupyter-naas/awesome-notebooks/issues/new?assignees=&labels=&template=template-request.md&title=Tool+-+Action+of+the+notebook+\">Template request</a> | <a href=\"https://github.com/jupyter-naas/awesome-notebooks/issues/new?assignees=&labels=&template=bug_report.md&title=[ERROR]+Tool+/+Folder+Action+of+the+notebook+\">Bug report</a>"
   ]
  },
  {
   "cell_type": "markdown",
   "id": "916838db-105b-4972-a9e6-400838d1fcc3",
   "metadata": {},
   "source": [
    "**Tags:** #twilio #remainder #send #notification #sms"
   ]
  },
  {
   "cell_type": "markdown",
   "id": "0b81f0bb-187c-41c2-8b69-34cd451c2467",
   "metadata": {},
   "source": [
    "**Author:** [Sriniketh Jayasendil](https://www.linkedin.com/in/sriniketh-jayasendil/)"
   ]
  },
  {
   "cell_type": "markdown",
   "id": "5d8066cc-4904-4789-97d7-b97d059f808e",
   "metadata": {},
   "source": [
    "**Description:** A notebook to send friendly remainder to the user to perform his/her regular task in order to stay productive and consistent. This is highly customisable and could be scheduled as per user needs."
   ]
  },
  {
   "cell_type": "markdown",
   "id": "51dddb42-e87e-4da0-b372-9968bf7b5a02",
   "metadata": {},
   "source": [
    "**References**\n",
    "\n",
    "- https://docs.naas.ai/features/scheduler\n",
    "- https://crontab.guru\n",
    "- https://www.twilio.com/docs/sms/send-messages"
   ]
  },
  {
   "cell_type": "markdown",
   "id": "402c5311-99c5-4038-8c0e-c2d6df6b66df",
   "metadata": {
    "papermill": {},
    "tags": []
   },
   "source": [
    "## Input\n",
    "\n",
    "### Import libraries"
   ]
  },
  {
   "cell_type": "code",
   "execution_count": 1,
   "id": "8f72fa10-d8e1-4b54-bba6-49aac3133813",
   "metadata": {
    "execution": {
     "iopub.execute_input": "2023-04-03T17:14:02.938344Z",
     "iopub.status.busy": "2023-04-03T17:14:02.938088Z",
     "iopub.status.idle": "2023-04-03T17:14:05.090994Z",
     "shell.execute_reply": "2023-04-03T17:14:05.090340Z",
     "shell.execute_reply.started": "2023-04-03T17:14:02.938283Z"
    },
    "tags": []
   },
   "outputs": [],
   "source": [
    "import naas\n",
    "\n",
    "try:\n",
    "    from twilio.rest import Client\n",
    "except ModuleNotFoundError:\n",
    "    !pip install twilio\n",
    "    from twilio.rest import Client"
   ]
  },
  {
   "cell_type": "markdown",
   "id": "638c1fb2-93f7-40a8-80bf-73147fb6a9e0",
   "metadata": {},
   "source": [
    "### Setup variables"
   ]
  },
  {
   "cell_type": "markdown",
   "id": "4c4824e4-7eab-4079-a727-f4e70214b96a",
   "metadata": {},
   "source": [
    "- `account_sid`: Can be obtained from [Twilio console](https://console.twilio.com)\n",
    "- `auth_token`: Can be obtained from [Twilio console](https://console.twilio.com)\n",
    "- `from_number`: A new number that can be obtained from [Twilio console](https://console.twilio.com)\n",
    "- `to_number`: A verfied number to send and receive SMS, calls from Twilio mobile number\n",
    "- `hours`: At what time of the day you want to get the notification\n",
    "- `minutes`: At what minute of the hour you need the notification to receive\n",
    "- `message`: Any friendly remainder of your choice\n",
    "- `cron`: The frequence of recurrence of running this notebook"
   ]
  },
  {
   "cell_type": "code",
   "execution_count": 2,
   "id": "156f446b-f378-467e-826e-adacd29f7d45",
   "metadata": {
    "execution": {
     "iopub.execute_input": "2023-04-03T17:14:07.353413Z",
     "iopub.status.busy": "2023-04-03T17:14:07.353185Z",
     "iopub.status.idle": "2023-04-03T17:14:07.793595Z",
     "shell.execute_reply": "2023-04-03T17:14:07.792716Z",
     "shell.execute_reply.started": "2023-04-03T17:14:07.353389Z"
    },
    "tags": []
   },
   "outputs": [],
   "source": [
    "# inputs\n",
    "account_sid = naas.secret.get(name=\"account_sid\")\n",
    "auth_token = naas.secret.get(name=\"auth_token\")\n",
    "from_number = naas.secret.get(name=\"from_number\")\n",
    "to_number = naas.secret.get(name=\"to_number\")\n",
    "hours = '' or '9'\n",
    "minutes = '' or '0'\n",
    "message = '' or 'An general remainder and best of luck for the rest of the day.'\n",
    "cron = minutes + \" \" + hours + \" * * *\""
   ]
  },
  {
   "cell_type": "markdown",
   "id": "077a27f3-c186-45df-b5d2-e60f0d8d834d",
   "metadata": {},
   "source": [
    "## Model\n",
    "\n",
    "### Establish a Twilio client"
   ]
  },
  {
   "cell_type": "code",
   "execution_count": 3,
   "id": "174b96a0-75f9-4e67-8fc5-78d650a6c4a1",
   "metadata": {
    "execution": {
     "iopub.execute_input": "2023-04-03T17:14:10.323202Z",
     "iopub.status.busy": "2023-04-03T17:14:10.322981Z",
     "iopub.status.idle": "2023-04-03T17:14:10.326206Z",
     "shell.execute_reply": "2023-04-03T17:14:10.325587Z",
     "shell.execute_reply.started": "2023-04-03T17:14:10.323179Z"
    },
    "tags": []
   },
   "outputs": [],
   "source": [
    "client = Client(account_sid, auth_token)"
   ]
  },
  {
   "cell_type": "markdown",
   "id": "4513afeb-4dc2-4bef-9169-bbeb86708e41",
   "metadata": {},
   "source": [
    "### Send remainder SMS"
   ]
  },
  {
   "cell_type": "code",
   "execution_count": 4,
   "id": "5ee4625d-e13c-4f64-9328-886e7c3c8ae5",
   "metadata": {
    "execution": {
     "iopub.execute_input": "2023-04-03T17:14:12.363710Z",
     "iopub.status.busy": "2023-04-03T17:14:12.363445Z",
     "iopub.status.idle": "2023-04-03T17:14:12.935006Z",
     "shell.execute_reply": "2023-04-03T17:14:12.928621Z",
     "shell.execute_reply.started": "2023-04-03T17:14:12.363686Z"
    },
    "tags": []
   },
   "outputs": [
    {
     "data": {
      "text/plain": [
       "<Twilio.Api.V2010.MessageInstance account_sid=AC4bcccc45594bcc3ffb97af24571bd50e sid=SM925f99326a4eb844fffca0875ce49ac0>"
      ]
     },
     "execution_count": 4,
     "metadata": {},
     "output_type": "execute_result"
    }
   ],
   "source": [
    "client.api.account.messages.create(to=to_number,\n",
    "                                   from_=from_number,\n",
    "                                   body=message)"
   ]
  },
  {
   "cell_type": "markdown",
   "id": "dfe4a48d-698c-4c29-be92-d0b2586138b2",
   "metadata": {},
   "source": [
    "### Naas Scheduler (run this only once)"
   ]
  },
  {
   "cell_type": "code",
   "execution_count": 5,
   "id": "9a9f885e-5bf1-4ef9-b02f-7e91d630363c",
   "metadata": {
    "execution": {
     "iopub.execute_input": "2023-04-03T17:14:15.513190Z",
     "iopub.status.busy": "2023-04-03T17:14:15.512648Z",
     "iopub.status.idle": "2023-04-03T17:14:15.989257Z",
     "shell.execute_reply": "2023-04-03T17:14:15.988597Z",
     "shell.execute_reply.started": "2023-04-03T17:14:15.513153Z"
    },
    "tags": []
   },
   "outputs": [
    {
     "name": "stdout",
     "output_type": "stream",
     "text": [
      "👌 Well done! Your Notebook has been sent to production.\n",
      "\n",
      "⏰ It will be scheduled \"At 09:00 every day\" (more on the syntax on https://crontab.guru/).\n",
      "\n",
      "Ps: to remove the \"Scheduler\", just replace .add by .delete\n"
     ]
    }
   ],
   "source": [
    "naas.scheduler.add(cron=cron)\n",
    "\n",
    "# naas.scheduler.delete()"
   ]
  },
  {
   "cell_type": "code",
   "execution_count": null,
   "id": "6ad0c860-84ef-40e3-9a0c-ab862d830056",
   "metadata": {},
   "outputs": [],
   "source": []
  }
 ],
 "metadata": {
  "kernelspec": {
   "display_name": "Python 3",
   "language": "python",
   "name": "python3"
  },
  "language_info": {
   "codemirror_mode": {
    "name": "ipython",
    "version": 3
   },
   "file_extension": ".py",
   "mimetype": "text/x-python",
   "name": "python",
   "nbconvert_exporter": "python",
   "pygments_lexer": "ipython3",
   "version": "3.9.6"
  }
 },
 "nbformat": 4,
 "nbformat_minor": 5
}
