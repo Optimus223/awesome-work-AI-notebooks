{
 "cells": [
  {
   "cell_type": "markdown",
   "id": "6933ee71-8013-4aa8-9527-6a567845e10e",
   "metadata": {},
   "source": [
    "<img width=\"10%\" alt=\"Naas\" src=\"https://landen.imgix.net/jtci2pxwjczr/assets/5ice39g4.png?w=160\"/>"
   ]
  },
  {
   "cell_type": "markdown",
   "id": "d446a1b5-92be-4fb5-b732-3674fb19ccec",
   "metadata": {},
   "source": [
    "# CI/CD - Automatically update documentation with templates"
   ]
  },
  {
   "cell_type": "markdown",
   "id": "21e72fae-2204-42c3-b0eb-3885fa38a589",
   "metadata": {},
   "source": [
    "**Tags:** #naas"
   ]
  },
  {
   "cell_type": "markdown",
   "id": "a65dcb87-29c1-4092-a6dd-29e3ce143bba",
   "metadata": {},
   "source": [
    "**Author:** [Maxime Jublou](https://www.linkedin.com/in/maximejublou/)"
   ]
  },
  {
   "cell_type": "markdown",
   "id": "deef151b-b723-46ac-ac41-1c19d29e1fc6",
   "metadata": {},
   "source": [
    "# Input"
   ]
  },
  {
   "cell_type": "code",
   "execution_count": null,
   "id": "c7c66fa0-bfcb-4a71-bd2d-787bf5e3b020",
   "metadata": {},
   "outputs": [],
   "source": [
    "!pip install rich pydash nbconvert"
   ]
  },
  {
   "cell_type": "markdown",
   "id": "59b780f5-f3b8-416f-bb16-1119a40dac28",
   "metadata": {},
   "source": [
    "### Import librairies"
   ]
  },
  {
   "cell_type": "code",
   "execution_count": null,
   "id": "3790eff8-2b9b-4947-bda5-5f15b0f17e29",
   "metadata": {
    "tags": [
     "imports"
    ]
   },
   "outputs": [],
   "source": [
    "import json\n",
    "import glob\n",
    "from rich import print\n",
    "import os\n",
    "import shutil"
   ]
  },
  {
   "cell_type": "markdown",
   "id": "0e4f6797-945a-4be4-9217-f9c11794acea",
   "metadata": {},
   "source": [
    "## Model"
   ]
  },
  {
   "cell_type": "code",
   "execution_count": null,
   "id": "fe5fdd28-7beb-46ac-ab4b-4dd51977d028",
   "metadata": {},
   "outputs": [],
   "source": [
    "def get_technology_and_action(filename):\n",
    "    technology_name = file.split('/')[2]\n",
    "    action = file.split('/')[3].replace('.ipynb', '').replace('_', ' ')\n",
    "    \n",
    "    if action.startswith(technology_name):\n",
    "        action = action[len(technology_name):]\n",
    "        \n",
    "    return (technology_name.strip(), action.strip())\n",
    "\n",
    "def filepath_to_md_path(filepath):\n",
    "    return filepath.split(\"/\")[-1].replace(\".ipynb\", \".md\")\n",
    "\n",
    "def create_readme_lines(notebooks):\n",
    "    sorted_notebooks = list(notebooks.keys())\n",
    "    sorted_notebooks.sort()\n",
    "    \n",
    "    lines = []\n",
    "    for technology in sorted_notebooks:\n",
    "        lines.append(f'  * [{technology}](templates/{technology.replace(\" \", \"%20\")}/README.md)\\n')\n",
    "        for action, filepath in notebooks[technology]:\n",
    "            lines.append(f'    * [{action}](templates/{technology.replace(\" \", \"%20\")}/{filepath_to_md_path(filepath).replace(\" \", \"%20\")})\\n')\n",
    "    return lines\n",
    "\n",
    "def remove_unwanted_cells(notebooks):\n",
    "    for category in notebooks:\n",
    "        for nb in notebooks[category]:\n",
    "            with open(nb[1], 'r') as f:\n",
    "                content = json.load(f)\n",
    "                content['cells'] = content['cells'][1:]\n",
    "                content['cells'][0]['source'] = content['cells'][0]['source'][1:]\n",
    "                with open(nb[1], 'w') as target:\n",
    "                    json.dump(content, target)\n",
    "                    target.close()\n",
    "                    print(f'✅ Removed title and naas logo on [{nb[1]}]')\n",
    "\n",
    "def convert_notebooks_to_md(notebooks):\n",
    "    os.system('jupyter nbconvert --to markdown ../../**/*.ipynb')\n",
    "\n",
    "def move_markdown_files():\n",
    "    for file in glob.glob('../../**/*.md', recursive=True):\n",
    "        if len(file.split('/')) < 4 or file.endswith('README.md'):\n",
    "            continue\n",
    "        src = file\n",
    "        dst = file.split('/')[2:]\n",
    "        \n",
    "        computed_dst = os.path.join('docs', 'templates', '/'.join(dst))\n",
    "        \n",
    "        os.makedirs(os.path.dirname(computed_dst), exist_ok=True)\n",
    "        shutil.move(src, computed_dst)\n",
    "        \n",
    "        print(f'✅ {src} moved to {computed_dst}')\n",
    "\n",
    "def create_category_readmes(notebooks):\n",
    "    for category in notebooks:\n",
    "        try:\n",
    "            with open(os.path.join('docs', 'templates', category, 'README.md'), 'w') as readme:\n",
    "                readme.write(f'# {category}')\n",
    "            readme.close()\n",
    "        except Exception as e:\n",
    "            print(f'❌ Error while creating category [{category}] README.md')\n",
    "            print(e)\n",
    "            print('⚠️ Skipping this one.')"
   ]
  },
  {
   "cell_type": "markdown",
   "id": "99556be9-be6b-45be-9784-fd671fb6b466",
   "metadata": {},
   "source": [
    "## Output"
   ]
  },
  {
   "cell_type": "code",
   "execution_count": null,
   "id": "f46b15cf-8e4c-4af5-bd6b-d84b2fa05535",
   "metadata": {
    "tags": []
   },
   "outputs": [],
   "source": [
    "got_errors = False\n",
    "error_counter = 0\n",
    "\n",
    "notebooks = {}\n",
    "\n",
    "# Sort notebooks by technology (category)\n",
    "for file in glob.glob('../../**/*.ipynb', recursive=True):\n",
    "    # Do not check notebooks in .github or at the root of the project.\n",
    "    if '.github' in file or len(file.split('/')) == 3:\n",
    "        continue\n",
    "\n",
    "    technology, action = get_technology_and_action(file)\n",
    "    if technology not in notebooks:\n",
    "        notebooks[technology] = []\n",
    "    notebooks[technology].append((action, file))\n",
    "\n",
    "# Create readme lines for all notebooks per technology.\n",
    "readme_lines = create_readme_lines(notebooks)\n",
    "\n",
    "# Remove titles and naas logo.\n",
    "remove_unwanted_cells(notebooks)\n",
    "\n",
    "# Convert .ipynb files to .md files.\n",
    "convert_notebooks_to_md(notebooks)\n",
    "\n",
    "# Create a new SUMMARY.md files updated with all notebooks.\n",
    "with open('docs/new_SUMMARY.md', 'w') as new_summary:\n",
    "    with open('docs/SUMMARY.md') as summary:\n",
    "        for line in summary.readlines():\n",
    "            if line == \"* [😎 Templates](templates.md)\\n\":\n",
    "                new_summary.write(line)\n",
    "                for rl in readme_lines:\n",
    "                    new_summary.write(rl)\n",
    "            elif \"(templates/\" in line:\n",
    "                continue\n",
    "            else:\n",
    "                new_summary.write(line)\n",
    "        summary.close()\n",
    "    new_summary.close()\n",
    "shutil.move('docs/new_SUMMARY.md', 'docs/SUMMARY.md')\n",
    "\n",
    "\n",
    "# Moving markdown files into documentations repo.\n",
    "move_markdown_files()\n",
    "\n",
    "# Create README.md for each category.\n",
    "create_category_readmes(notebooks)\n",
    "\n",
    "# Complete\n",
    "print('✅ Process completed!')"
   ]
  }
 ],
 "metadata": {
  "kernelspec": {
   "display_name": "Python 3 (ipykernel)",
   "language": "python",
   "name": "python3"
  },
  "language_info": {
   "codemirror_mode": {
    "name": "ipython",
    "version": 3
   },
   "file_extension": ".py",
   "mimetype": "text/x-python",
   "name": "python",
   "nbconvert_exporter": "python",
   "pygments_lexer": "ipython3",
   "version": "3.9.7"
  },
  "toc-showtags": false
 },
 "nbformat": 4,
 "nbformat_minor": 5
}
