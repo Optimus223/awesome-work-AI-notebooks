{
 "cells": [
  {
   "cell_type": "markdown",
   "id": "f3009d0e-3d28-486a-a45b-0aa390832e52",
   "metadata": {
    "papermill": {},
    "tags": []
   },
   "source": [
    "<img width=\"10%\" alt=\"Naas\" src=\"https://landen.imgix.net/jtci2pxwjczr/assets/5ice39g4.png?w=160\"/>"
   ]
  },
  {
   "cell_type": "markdown",
   "id": "continuing-pioneer",
   "metadata": {
    "papermill": {},
    "tags": []
   },
   "source": [
    "# Matplotlib - Barchart Creation\n",
    "<a href=\"https://app.naas.ai/user-redirect/naas/downloader?url=https://raw.githubusercontent.com/jupyter-naas/awesome-notebooks/master/Matplotlib/Matplotlib_Create_Waterfall_chart.ipynb\" target=\"_parent\"><img src=\"https://naasai-public.s3.eu-west-3.amazonaws.com/Open_in_Naas_Lab.svg\"/></a><br><br><a href=\"https://bit.ly/3JyWIk6\">Give Feedbacks</a> | <a href=\"https://app.naas.ai/user-redirect/naas/downloader?url=https://raw.githubusercontent.com/jupyter-naas/awesome-notebooks/master/Naas/Naas_Start_data_product.ipynb\" target=\"_parent\">Generate Data Product</a>"
   ]
  },
  {
   "cell_type": "markdown",
   "id": "d5a217ea-e554-474a-9c7b-2c9782c7104f",
   "metadata": {
    "papermill": {},
    "tags": []
   },
   "source": [
    "**Tags:** #matplotlib #chart #barchart #dataviz #snippet #operations #image"
   ]
  },
  {
   "cell_type": "markdown",
   "id": "naas-author",
   "metadata": {
    "papermill": {},
    "tags": [
     "naas"
    ]
   },
   "source": [
    "**Author:** [Mardiat-Iman]()"
   ]
  },
  {
   "cell_type": "markdown",
   "id": "dfab082e-f58f-4d1e-95f6-1a4b65c1c38a",
   "metadata": {
    "papermill": {},
    "tags": []
   },
   "source": [
    "**Created:** 2023-07-17"
   ]
  },
  {
   "cell_type": "markdown",
   "id": "naas-description",
   "metadata": {
    "papermill": {},
    "tags": [
     "description"
    ]
   },
   "source": [
    "**Description:** This notebook provides instructions on how to create a barchart chart using Matplotlib."
   ]
  },
  {
   "cell_type": "markdown",
   "id": "input_cell",
   "metadata": {
    "papermill": {},
    "tags": []
   },
   "source": [
    "## Input"
   ]
  },
  {
   "cell_type": "markdown",
   "id": "import_cell",
   "metadata": {
    "papermill": {},
    "tags": []
   },
   "source": [
    "### Import libraries"
   ]
  },
  {
   "cell_type": "code",
   "execution_count": 1,
   "id": "349da579-e86d-4c4a-ac9f-fad6145f8061",
   "metadata": {
    "execution": {
     "iopub.execute_input": "2023-07-18T08:12:52.074042Z",
     "iopub.status.busy": "2023-07-18T08:12:52.073680Z",
     "iopub.status.idle": "2023-07-18T08:12:52.562464Z",
     "shell.execute_reply": "2023-07-18T08:12:52.561459Z",
     "shell.execute_reply.started": "2023-07-18T08:12:52.073951Z"
    },
    "papermill": {},
    "tags": []
   },
   "outputs": [],
   "source": [
    "import numpy as np\n",
    "import matplotlib.pyplot as plt"
   ]
  },
  {
   "cell_type": "markdown",
   "id": "f37fb3ce-46f4-475f-948b-3baf5ce8325e",
   "metadata": {
    "papermill": {},
    "tags": []
   },
   "source": [
    "### Setup Variables"
   ]
  },
  {
   "cell_type": "code",
   "execution_count": 2,
   "id": "3802ad04-276f-4581-8f8b-895d6c90a4a7",
   "metadata": {
    "execution": {
     "iopub.execute_input": "2023-07-18T08:12:52.564452Z",
     "iopub.status.busy": "2023-07-18T08:12:52.564111Z",
     "iopub.status.idle": "2023-07-18T08:12:52.573625Z",
     "shell.execute_reply": "2023-07-18T08:12:52.572663Z",
     "shell.execute_reply.started": "2023-07-18T08:12:52.564411Z"
    },
    "papermill": {},
    "tags": []
   },
   "outputs": [],
   "source": [
    "# Input your values for the following variable\n",
    "ylabel = 'fruit supply'\n",
    "title =  'Fruit supply by kind and colour'\n",
    "legend_title = 'Fruit Colour'\n",
    "bar1x = 'Apple'\n",
    "bar2x = 'Blueberry'\n",
    "bar3x = 'Cherry'\n",
    "bar4x = 'Orange'\n",
    "bar1y = 40\n",
    "bar2y = 100\n",
    "bar3y = 30\n",
    "bar4y = 55"
   ]
  },
  {
   "cell_type": "markdown",
   "id": "model_cell",
   "metadata": {
    "papermill": {},
    "tags": []
   },
   "source": [
    "## Model"
   ]
  },
  {
   "cell_type": "markdown",
   "id": "ef3c71fb-a46f-4216-978f-1b7fe0667bfd",
   "metadata": {
    "papermill": {},
    "tags": []
   },
   "source": [
    "### Create the  Barchart"
   ]
  },
  {
   "cell_type": "code",
   "execution_count": 3,
   "id": "devoted-negotiation",
   "metadata": {
    "execution": {
     "iopub.execute_input": "2023-07-18T08:12:52.576133Z",
     "iopub.status.busy": "2023-07-18T08:12:52.575509Z",
     "iopub.status.idle": "2023-07-18T08:12:52.686517Z",
     "shell.execute_reply": "2023-07-18T08:12:52.685645Z",
     "shell.execute_reply.started": "2023-07-18T08:12:52.576090Z"
    },
    "papermill": {},
    "tags": []
   },
   "outputs": [],
   "source": [
    "# Normalize the data to range from 0 to 100\n",
    "max_value = 100\n",
    "bar1y_normalized = (bar1y / max_value) * 100\n",
    "bar2y_normalized = (bar2y / max_value) * 100\n",
    "bar3y_normalized = (bar3y / max_value) * 100\n",
    "bar4y_normalized = (bar4y / max_value) * 100\n",
    "\n",
    "# Prepare the additional data\n",
    "x_axis = [bar1x, bar2x, bar3x, bar4x]\n",
    "y_axis = [bar1y_normalized, bar2y_normalized, bar3y_normalized, bar4y_normalized]\n",
    "bar_labels = ['red', 'blue', '_red', 'orange']\n",
    "bar_colors = ['tab:red', 'tab:blue', 'tab:red', 'tab:orange']\n"
   ]
  },
  {
   "cell_type": "markdown",
   "id": "output_cell",
   "metadata": {
    "papermill": {},
    "tags": []
   },
   "source": [
    "## Output"
   ]
  },
  {
   "cell_type": "markdown",
   "id": "display_cell",
   "metadata": {
    "papermill": {},
    "tags": []
   },
   "source": [
    "### Display result"
   ]
  },
  {
   "cell_type": "code",
   "execution_count": 4,
   "id": "wired-minutes",
   "metadata": {
    "execution": {
     "iopub.execute_input": "2023-07-18T08:12:52.687838Z",
     "iopub.status.busy": "2023-07-18T08:12:52.687550Z",
     "iopub.status.idle": "2023-07-18T08:12:53.017590Z",
     "shell.execute_reply": "2023-07-18T08:12:53.016388Z",
     "shell.execute_reply.started": "2023-07-18T08:12:52.687810Z"
    },
    "papermill": {},
    "tags": []
   },
   "outputs": [
    {
     "data": {
      "image/png": "[encoded data removed]",
      "text/plain": [
       "<Figure size 432x288 with 1 Axes>"
      ]
     },
     "metadata": {
      "needs_background": "light"
     },
     "output_type": "display_data"
    }
   ],
   "source": [
    "fig, ax = plt.subplots()\n",
    "\n",
    "ax.bar(x_axis, y_axis, label=bar_labels, color=bar_colors)\n",
    "\n",
    "ax.set_ylabel(ylabel)\n",
    "ax.set_title(title)\n",
    "ax.legend(title=legend_title, loc='best')\n",
    "\n",
    "plt.show()"
   ]
  },
  {
   "cell_type": "code",
   "execution_count": null,
   "id": "9516cfc7-2d66-4177-9045-200c0feb05d9",
   "metadata": {},
   "outputs": [],
   "source": []
  }
 ],
 "metadata": {
  "kernelspec": {
   "display_name": "Python 3",
   "language": "python",
   "name": "python3"
  },
  "language_info": {
   "codemirror_mode": {
    "name": "ipython",
    "version": 3
   },
   "file_extension": ".py",
   "mimetype": "text/x-python",
   "name": "python",
   "nbconvert_exporter": "python",
   "pygments_lexer": "ipython3",
   "version": "3.9.6"
  },
  "naas": {
   "notebook_id": "5d656a5d27e392c123ffbf464947fa2704905053ca4492c2f5d4c83b4078df64",
   "notebook_path": "Matplotlib/Matplotlib_Create_Waterfall_chart.ipynb"
  },
  "papermill": {
   "default_parameters": {},
   "environment_variables": {},
   "parameters": {},
   "version": "2.3.3"
  }
 },
 "nbformat": 4,
 "nbformat_minor": 5
}
