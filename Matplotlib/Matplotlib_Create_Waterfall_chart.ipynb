{
 "cells": [
  {
   "cell_type": "markdown",
   "id": "f3009d0e-3d28-486a-a45b-0aa390832e52",
   "metadata": {
    "papermill": {},
    "tags": []
   },
   "source": [
    "<img width=\"10%\" alt=\"Naas\" src=\"https://landen.imgix.net/jtci2pxwjczr/assets/5ice39g4.png?w=160\"/>\n"
   ]
  },
  {
   "cell_type": "markdown",
   "id": "continuing-pioneer",
   "metadata": {
    "papermill": {},
    "tags": []
   },
   "source": [
    "# Matplotlib - Create Waterfall chart\n",
    "<a href=\"https://app.naas.ai/user-redirect/naas/downloader?url=https://raw.githubusercontent.com/jupyter-naas/awesome-notebooks/master/Plotly/Create%20Waterfall%20chart%20%28Advanced%29.ipynb\" target=\"_parent\"><img src=\"https://naasai-public.s3.eu-west-3.amazonaws.com/open_in_naas.svg\"/></a>"
   ]
  },
  {
   "cell_type": "markdown",
   "id": "d5a217ea-e554-474a-9c7b-2c9782c7104f",
   "metadata": {
    "papermill": {},
    "tags": []
   },
   "source": [
    "**Tags:** #matplotlib #chart #warterfall #dataviz #snippet"
   ]
  },
  {
   "cell_type": "markdown",
   "id": "naas-author",
   "metadata": {
    "papermill": {},
    "tags": [
     "naas"
    ]
   },
   "source": [
    "**Author:** [Jeremy Ravenel](https://www.linkedin.com/in/ACoAAAJHE7sB5OxuKHuzguZ9L6lfDHqw--cdnJg/)"
   ]
  },
  {
   "cell_type": "markdown",
   "id": "input_cell",
   "metadata": {
    "papermill": {},
    "tags": []
   },
   "source": [
    "## Input"
   ]
  },
  {
   "cell_type": "markdown",
   "id": "import_cell",
   "metadata": {
    "papermill": {},
    "tags": []
   },
   "source": [
    "### Import library"
   ]
  },
  {
   "cell_type": "code",
   "execution_count": 1,
   "id": "349da579-e86d-4c4a-ac9f-fad6145f8061",
   "metadata": {
    "execution": {
     "iopub.execute_input": "2022-03-07T09:46:59.011468Z",
     "iopub.status.busy": "2022-03-07T09:46:59.011182Z",
     "iopub.status.idle": "2022-03-07T09:46:59.838662Z",
     "shell.execute_reply": "2022-03-07T09:46:59.832089Z",
     "shell.execute_reply.started": "2022-03-07T09:46:59.011385Z"
    },
    "papermill": {},
    "tags": []
   },
   "outputs": [],
   "source": [
    "import numpy as np\n",
    "import pandas as pd\n",
    "import matplotlib.pyplot as plt\n",
    "from matplotlib.ticker import FuncFormatter"
   ]
  },
  {
   "cell_type": "markdown",
   "id": "model_cell",
   "metadata": {
    "papermill": {},
    "tags": []
   },
   "source": [
    "## Model"
   ]
  },
  {
   "cell_type": "markdown",
   "id": "ef3c71fb-a46f-4216-978f-1b7fe0667bfd",
   "metadata": {
    "papermill": {},
    "tags": []
   },
   "source": [
    "### Create the waterfall chart"
   ]
  },
  {
   "cell_type": "code",
   "execution_count": 2,
   "id": "devoted-negotiation",
   "metadata": {
    "execution": {
     "iopub.execute_input": "2022-03-07T09:46:59.839934Z",
     "iopub.status.busy": "2022-03-07T09:46:59.839722Z",
     "iopub.status.idle": "2022-03-07T09:47:00.047170Z",
     "shell.execute_reply": "2022-03-07T09:47:00.046436Z",
     "shell.execute_reply.started": "2022-03-07T09:46:59.839909Z"
    },
    "papermill": {},
    "tags": []
   },
   "outputs": [
    {
     "data": {
      "image/png": "[encoded data removed]",
      "text/plain": [
       "<Figure size 720x360 with 1 Axes>"
      ]
     },
     "metadata": {
      "needs_background": "light"
     },
     "output_type": "display_data"
    }
   ],
   "source": [
    "#Use python 2.7+ syntax to format currency\n",
    "def money(x, pos):\n",
    "    'The two args are the value and tick position'\n",
    "    return \"${:,.0f}\".format(x)\n",
    "formatter = FuncFormatter(money)\n",
    "\n",
    "#Data to plot. Do not include a total, it will be calculated\n",
    "index = ['sales','returns','credit fees','rebates','late charges','shipping']\n",
    "data = {'amount': [350000,-30000,-7500,-25000,95000,-7000]}\n",
    "\n",
    "#Store data and create a blank series to use for the waterfall\n",
    "trans = pd.DataFrame(data=data,index=index)\n",
    "blank = trans.amount.cumsum().shift(1).fillna(0)\n",
    "\n",
    "#Get the net total number for the final element in the waterfall\n",
    "total = trans.sum().amount\n",
    "trans.loc[\"net\"]= total\n",
    "blank.loc[\"net\"] = total\n",
    "\n",
    "#The steps graphically show the levels as well as used for label placement\n",
    "step = blank.reset_index(drop=True).repeat(3).shift(-1)\n",
    "step[1::3] = np.nan\n",
    "\n",
    "#When plotting the last element, we want to show the full bar,\n",
    "#Set the blank to 0\n",
    "blank.loc[\"net\"] = 0\n",
    "\n",
    "#Plot and label\n",
    "my_plot = trans.plot(kind='bar', stacked=True, bottom=blank,legend=None, figsize=(10, 5), title=\"2014 Sales Waterfall\")\n",
    "my_plot.plot(step.index, step.values,'k')\n",
    "my_plot.set_xlabel(\"Transaction Types\")\n",
    "\n",
    "#Format the axis for dollars\n",
    "my_plot.yaxis.set_major_formatter(formatter)\n",
    "\n",
    "#Get the y-axis position for the labels\n",
    "y_height = trans.amount.cumsum().shift(1).fillna(0)\n",
    "\n",
    "#Get an offset so labels don't sit right on top of the bar\n",
    "max = trans.max()\n",
    "neg_offset = max / 25\n",
    "pos_offset = max / 50\n",
    "plot_offset = int(max / 15)\n",
    "\n",
    "#Start label loop\n",
    "loop = 0\n",
    "for index, row in trans.iterrows():\n",
    "    # For the last item in the list, we don't want to double count\n",
    "    if row['amount'] == total:\n",
    "        y = y_height[loop]\n",
    "    else:\n",
    "        y = y_height[loop] + row['amount']\n",
    "    # Determine if we want a neg or pos offset\n",
    "    if row['amount'] > 0:\n",
    "        y += pos_offset\n",
    "    else:\n",
    "        y -= neg_offset\n",
    "    my_plot.annotate(\"{:,.0f}\".format(row['amount']),(loop,y),ha=\"center\")\n",
    "    loop+=1"
   ]
  },
  {
   "cell_type": "markdown",
   "id": "output_cell",
   "metadata": {
    "papermill": {},
    "tags": []
   },
   "source": [
    "## Output"
   ]
  },
  {
   "cell_type": "markdown",
   "id": "display_cell",
   "metadata": {
    "papermill": {},
    "tags": []
   },
   "source": [
    "### Display result"
   ]
  },
  {
   "cell_type": "code",
   "execution_count": 3,
   "id": "wired-minutes",
   "metadata": {
    "execution": {
     "iopub.execute_input": "2022-03-07T09:47:00.048770Z",
     "iopub.status.busy": "2022-03-07T09:47:00.048523Z",
     "iopub.status.idle": "2022-03-07T09:47:00.288904Z",
     "shell.execute_reply": "2022-03-07T09:47:00.288250Z",
     "shell.execute_reply.started": "2022-03-07T09:47:00.048739Z"
    },
    "papermill": {},
    "tags": []
   },
   "outputs": [],
   "source": [
    "#Scale up the y axis so there is room for the labels\n",
    "my_plot.set_ylim(0,blank.max()+int(plot_offset))\n",
    "#Rotate the labels\n",
    "my_plot.set_xticklabels(trans.index,rotation=0)\n",
    "my_plot.get_figure().savefig(\"waterfall.png\",dpi=200,bbox_inches='tight')"
   ]
  }
 ],
 "metadata": {
  "kernelspec": {
   "display_name": "Python 3",
   "language": "python",
   "name": "python3"
  },
  "language_info": {
   "codemirror_mode": {
    "name": "ipython",
    "version": 3
   },
   "file_extension": ".py",
   "mimetype": "text/x-python",
   "name": "python",
   "nbconvert_exporter": "python",
   "pygments_lexer": "ipython3",
   "version": "3.8.8"
  },
  "papermill": {
   "default_parameters": {},
   "environment_variables": {},
   "parameters": {},
   "version": "2.3.3"
  }
 },
 "nbformat": 4,
 "nbformat_minor": 5
}
