{
 "cells": [
  {
   "cell_type": "markdown",
   "id": "f3009d0e-3d28-486a-a45b-0aa390832e52",
   "metadata": {
    "papermill": {},
    "tags": []
   },
   "source": [
    "<img width=\"10%\" alt=\"Naas\" src=\"https://landen.imgix.net/jtci2pxwjczr/assets/5ice39g4.png?w=160\"/>"
   ]
  },
  {
   "cell_type": "markdown",
   "id": "continuing-pioneer",
   "metadata": {
    "papermill": {},
    "tags": []
   },
   "source": [
    "# Matplotlib - Creating a timeline with lines, dates, and text\n",
    "<a href=\"https://app.naas.ai/user-redirect/naas/downloader?url=https://raw.githubusercontent.com/jupyter-naas/awesome-notebooks/master/Matplotlib/Matplotlib_Create_Waterfall_chart.ipynb\" target=\"_parent\"><img src=\"https://naasai-public.s3.eu-west-3.amazonaws.com/Open_in_Naas_Lab.svg\"/></a><br><br><a href=\"https://bit.ly/3JyWIk6\">Give Feedbacks</a> | <a href=\"https://app.naas.ai/user-redirect/naas/downloader?url=https://raw.githubusercontent.com/jupyter-naas/awesome-notebooks/master/Naas/Naas_Start_data_product.ipynb\" target=\"_parent\">Generate Data Product</a>"
   ]
  },
  {
   "cell_type": "markdown",
   "id": "d5a217ea-e554-474a-9c7b-2c9782c7104f",
   "metadata": {
    "papermill": {},
    "tags": []
   },
   "source": [
    "**Tags:** #matplotlib #chart #timeline #dataviz #snippet #operations #image"
   ]
  },
  {
   "cell_type": "markdown",
   "id": "naas-author",
   "metadata": {
    "papermill": {},
    "tags": [
     "naas"
    ]
   },
   "source": [
    "**Author:** [Mardiat-Iman](https://www.linkedin.com/in/mardiat-iman-ibrahim-imam-726027262)"
   ]
  },
  {
   "cell_type": "markdown",
   "id": "dfab082e-f58f-4d1e-95f6-1a4b65c1c38a",
   "metadata": {
    "papermill": {},
    "tags": []
   },
   "source": [
    "**Created:** 2023-07-26"
   ]
  },
  {
   "cell_type": "markdown",
   "id": "naas-description",
   "metadata": {
    "papermill": {},
    "tags": [
     "description"
    ]
   },
   "source": [
    "**Description:** This notebook provides instructions on how to create a simple timeline using Matplotlib release dates."
   ]
  },
  {
   "cell_type": "markdown",
   "id": "2473e501-0556-472e-93e9-358fb8232532",
   "metadata": {
    "papermill": {},
    "tags": [
     "description"
    ]
   },
   "source": [
    "**Refrences:** \n",
    "\n",
    "-[Creating a timeline with lines, dates, and text](https://matplotlib.org/stable/gallery/lines_bars_and_markers/timeline.html#creating-a-timeline-with-lines-dates-and-text)"
   ]
  },
  {
   "cell_type": "markdown",
   "id": "input_cell",
   "metadata": {
    "papermill": {},
    "tags": []
   },
   "source": [
    "## Input"
   ]
  },
  {
   "cell_type": "markdown",
   "id": "import_cell",
   "metadata": {
    "papermill": {},
    "tags": []
   },
   "source": [
    "### Import libraries"
   ]
  },
  {
   "cell_type": "code",
   "execution_count": 1,
   "id": "349da579-e86d-4c4a-ac9f-fad6145f8061",
   "metadata": {
    "execution": {
     "iopub.execute_input": "2023-07-26T11:39:34.191028Z",
     "iopub.status.busy": "2023-07-26T11:39:34.190809Z",
     "iopub.status.idle": "2023-07-26T11:39:34.576195Z",
     "shell.execute_reply": "2023-07-26T11:39:34.575401Z",
     "shell.execute_reply.started": "2023-07-26T11:39:34.190971Z"
    },
    "papermill": {},
    "tags": []
   },
   "outputs": [],
   "source": [
    "import matplotlib.pyplot as plt\n",
    "import numpy as np\n",
    "import matplotlib.dates as mdates\n",
    "from datetime import datetime\n"
   ]
  },
  {
   "cell_type": "markdown",
   "id": "395ca64d-a2d2-4288-ac8d-ac4451987ce3",
   "metadata": {
    "papermill": {},
    "tags": []
   },
   "source": [
    "### Pull Data from Github"
   ]
  },
  {
   "cell_type": "code",
   "execution_count": 2,
   "id": "5ac8f050-48fc-4a3b-9fb3-b78f286d6c2b",
   "metadata": {
    "execution": {
     "iopub.execute_input": "2023-07-26T11:39:34.577543Z",
     "iopub.status.busy": "2023-07-26T11:39:34.577308Z",
     "iopub.status.idle": "2023-07-26T11:39:35.146408Z",
     "shell.execute_reply": "2023-07-26T11:39:35.145709Z",
     "shell.execute_reply.started": "2023-07-26T11:39:34.577510Z"
    },
    "papermill": {},
    "tags": []
   },
   "outputs": [],
   "source": [
    "try:\n",
    "    # Try to fetch a list of Matplotlib releases and their dates\n",
    "    # from https://api.github.com/repos/matplotlib/matplotlib/releases\n",
    "    import urllib.request\n",
    "    import json\n",
    "\n",
    "    url = 'https://api.github.com/repos/matplotlib/matplotlib/releases'\n",
    "    url += '?per_page=100'\n",
    "    data = json.loads(urllib.request.urlopen(url, timeout=1).read().decode())\n",
    "\n",
    "    dates = []\n",
    "    names = []\n",
    "    for item in data:\n",
    "        if 'rc' not in item['tag_name'] and 'b' not in item['tag_name']:\n",
    "            dates.append(item['published_at'].split(\"T\")[0])\n",
    "            names.append(item['tag_name'])\n",
    "    # Convert date strings (e.g. 2014-10-18) to datetime\n",
    "    dates = [datetime.strptime(d, \"%Y-%m-%d\") for d in dates]\n",
    "\n",
    "except Exception:\n",
    "    # In case the above fails, e.g. because of missing internet connection\n",
    "    # use the following lists as fallback.\n",
    "    names = ['v2.2.4', 'v3.0.3', 'v3.0.2', 'v3.0.1', 'v3.0.0', 'v2.2.3',\n",
    "             'v2.2.2', 'v2.2.1', 'v2.2.0', 'v2.1.2', 'v2.1.1', 'v2.1.0',\n",
    "             'v2.0.2', 'v2.0.1', 'v2.0.0', 'v1.5.3', 'v1.5.2', 'v1.5.1',\n",
    "             'v1.5.0', 'v1.4.3', 'v1.4.2', 'v1.4.1', 'v1.4.0']\n",
    "\n",
    "    dates = ['2019-02-26', '2019-02-26', '2018-11-10', '2018-11-10',\n",
    "             '2018-09-18', '2018-08-10', '2018-03-17', '2018-03-16',\n",
    "             '2018-03-06', '2018-01-18', '2017-12-10', '2017-10-07',\n",
    "             '2017-05-10', '2017-05-02', '2017-01-17', '2016-09-09',\n",
    "             '2016-07-03', '2016-01-10', '2015-10-29', '2015-02-16',\n",
    "             '2014-10-26', '2014-10-18', '2014-08-26']\n",
    "\n",
    "    # Convert date strings (e.g. 2014-10-18) to datetime\n",
    "    dates = [datetime.strptime(d, \"%Y-%m-%d\") for d in dates]\n",
    "    "
   ]
  },
  {
   "cell_type": "markdown",
   "id": "eb94bc1f-3f55-4b4c-b0d5-bf172df94f1c",
   "metadata": {
    "papermill": {},
    "tags": []
   },
   "source": [
    "### SetUp Variables\n",
    "\n",
    "-`title`: is the title for the plot.\n",
    "\n",
    "-`tab_color`: is the color for the vertical stems in the stem plot.\n",
    "\n",
    "-`levels`: is the list of levels for the stem plot.\n",
    "\n",
    "-`fig_path`: is the path to save the figure as an output (e.g., \"fig.png\")."
   ]
  },
  {
   "cell_type": "code",
   "execution_count": 3,
   "id": "d38ee7ff-1739-4a23-953c-d920338d98c0",
   "metadata": {
    "execution": {
     "iopub.execute_input": "2023-07-26T11:39:35.149417Z",
     "iopub.status.busy": "2023-07-26T11:39:35.149240Z",
     "iopub.status.idle": "2023-07-26T11:39:35.156555Z",
     "shell.execute_reply": "2023-07-26T11:39:35.153141Z",
     "shell.execute_reply.started": "2023-07-26T11:39:35.149396Z"
    },
    "papermill": {},
    "tags": []
   },
   "outputs": [],
   "source": [
    "#Inputs\n",
    "title = \"Matplotlib release dates\"\n",
    "tab_color = 'red'\n",
    "#Output\n",
    "fig_path = \"fig.png\""
   ]
  },
  {
   "cell_type": "markdown",
   "id": "model_cell",
   "metadata": {
    "papermill": {},
    "tags": []
   },
   "source": [
    "## Model"
   ]
  },
  {
   "cell_type": "markdown",
   "id": "ef3c71fb-a46f-4216-978f-1b7fe0667bfd",
   "metadata": {
    "papermill": {},
    "tags": []
   },
   "source": [
    "### Plot the timeline"
   ]
  },
  {
   "cell_type": "code",
   "execution_count": 4,
   "id": "devoted-negotiation",
   "metadata": {
    "execution": {
     "iopub.execute_input": "2023-07-26T11:39:35.158356Z",
     "iopub.status.busy": "2023-07-26T11:39:35.158146Z",
     "iopub.status.idle": "2023-07-26T11:39:36.434407Z",
     "shell.execute_reply": "2023-07-26T11:39:36.433832Z",
     "shell.execute_reply.started": "2023-07-26T11:39:35.158330Z"
    },
    "papermill": {},
    "tags": []
   },
   "outputs": [
    {
     "data": {
      "image/png": "[encoded data removed]",
      "text/plain": [
       "<Figure size 633.6x288 with 1 Axes>"
      ]
     },
     "metadata": {
      "needs_background": "light"
     },
     "output_type": "display_data"
    }
   ],
   "source": [
    "# Choose some nice levels\n",
    "levels = np.tile([-5, 5, -3, 3, -1, 1],\n",
    "                 int(np.ceil(len(dates)/6)))[:len(dates)]\n",
    "\n",
    "# Create figure and plot a stem plot with the date\n",
    "fig, ax = plt.subplots(figsize=(8.8, 4), constrained_layout=True)\n",
    "ax.set(title=title)\n",
    "\n",
    "ax.vlines(dates, 0, levels, color=tab_color)  # The vertical stems.\n",
    "ax.plot(dates, np.zeros_like(dates), \"-o\",\n",
    "        color=\"k\", markerfacecolor=\"w\")  # Baseline and markers on it.\n",
    "\n",
    "# annotate lines\n",
    "for d, l, r in zip(dates, levels, names):\n",
    "    ax.annotate(r, xy=(d, l),\n",
    "                xytext=(-3, np.sign(l)*3), textcoords=\"offset points\",\n",
    "                horizontalalignment=\"right\",\n",
    "                verticalalignment=\"bottom\" if l > 0 else \"top\")\n",
    "\n",
    "# format x-axis with 4-month intervals\n",
    "ax.xaxis.set_major_locator(mdates.MonthLocator(interval=4))\n",
    "ax.xaxis.set_major_formatter(mdates.DateFormatter(\"%b %Y\"))\n",
    "plt.setp(ax.get_xticklabels(), rotation=30, ha=\"right\")\n",
    "\n",
    "# remove y-axis and spines\n",
    "ax.yaxis.set_visible(False)\n",
    "ax.spines[[\"left\", \"top\", \"right\"]].set_visible(False)\n",
    "\n",
    "ax.margins(y=0.1)\n",
    "plt.show()\n"
   ]
  },
  {
   "cell_type": "markdown",
   "id": "output_cell",
   "metadata": {
    "papermill": {},
    "tags": []
   },
   "source": [
    "## Output"
   ]
  },
  {
   "cell_type": "markdown",
   "id": "display_cell",
   "metadata": {
    "papermill": {},
    "tags": []
   },
   "source": [
    "### Save the figure"
   ]
  },
  {
   "cell_type": "code",
   "execution_count": 5,
   "id": "wired-minutes",
   "metadata": {
    "execution": {
     "iopub.execute_input": "2023-07-26T11:39:36.435900Z",
     "iopub.status.busy": "2023-07-26T11:39:36.435488Z",
     "iopub.status.idle": "2023-07-26T11:39:37.114824Z",
     "shell.execute_reply": "2023-07-26T11:39:37.114131Z",
     "shell.execute_reply.started": "2023-07-26T11:39:36.435830Z"
    },
    "papermill": {},
    "tags": []
   },
   "outputs": [],
   "source": [
    "fig.savefig(fig_path)"
   ]
  }
 ],
 "metadata": {
  "kernelspec": {
   "display_name": "Python 3",
   "language": "python",
   "name": "python3"
  },
  "language_info": {
   "codemirror_mode": {
    "name": "ipython",
    "version": 3
   },
   "file_extension": ".py",
   "mimetype": "text/x-python",
   "name": "python",
   "nbconvert_exporter": "python",
   "pygments_lexer": "ipython3",
   "version": "3.9.6"
  },
  "naas": {
   "notebook_id": "5d656a5d27e392c123ffbf464947fa2704905053ca4492c2f5d4c83b4078df64",
   "notebook_path": "Matplotlib/Matplotlib_Create_Waterfall_chart.ipynb"
  },
  "papermill": {
   "default_parameters": {},
   "environment_variables": {},
   "parameters": {},
   "version": "2.3.3"
  }
 },
 "nbformat": 4,
 "nbformat_minor": 5
}
