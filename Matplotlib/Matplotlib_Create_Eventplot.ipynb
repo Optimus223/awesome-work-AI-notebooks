{
 "cells": [
  {
   "cell_type": "markdown",
   "id": "ef7c822a-a797-438f-b204-2c7f8ac7c12f",
   "metadata": {
    "papermill": {},
    "tags": []
   },
   "source": [
    "<img width=\"10%\" alt=\"Naas\" src=\"https://landen.imgix.net/jtci2pxwjczr/assets/5ice39g4.png?w=160\"/>"
   ]
  },
  {
   "cell_type": "markdown",
   "id": "3db0358b-cdd3-4f7e-984d-e2b375df9a15",
   "metadata": {
    "papermill": {},
    "tags": []
   },
   "source": [
    "# Matplotlib - Create Eventplot"
   ]
  },
  {
   "cell_type": "markdown",
   "id": "8f7589d3-a8d8-4b36-a122-820e6689131e",
   "metadata": {
    "papermill": {},
    "tags": []
   },
   "source": [
    "**Tags:** #matplotlib #eventplot #plot #data #visualization #python"
   ]
  },
  {
   "cell_type": "markdown",
   "id": "f539753b-08d3-4134-ad83-1a965a5d3561",
   "metadata": {
    "papermill": {},
    "tags": []
   },
   "source": [
    "**Author:** [Firstname Lastname]()"
   ]
  },
  {
   "cell_type": "markdown",
   "id": "99412a2e-d2e7-4155-b379-918191839ff2",
   "metadata": {
    "papermill": {},
    "tags": []
   },
   "source": [
    "**Last update:** 2023-10-08 (Created: 2023-10-08)"
   ]
  },
  {
   "cell_type": "markdown",
   "id": "bc062b57-de92-45e4-9173-9822a6f842d2",
   "metadata": {
    "papermill": {},
    "tags": []
   },
   "source": [
    "**Description:** This notebook will show how to create an eventplot with Matplotlib. Eventplot is a type of plot used to show the timing of multiple events. It is usefull for organizations to visualize data in a graphical way."
   ]
  },
  {
   "cell_type": "markdown",
   "id": "4fd39fc7-1700-44b0-87d7-9469d1b0788b",
   "metadata": {
    "papermill": {},
    "tags": []
   },
   "source": [
    "**References:**\n- [Matplotlib - Eventplot](https://matplotlib.org/stable/plot_types/stats/eventplot.html#sphx-glr-plot-types-stats-eventplot-py)\n- [Matplotlib - Tutorial](https://matplotlib.org/tutorials/index.html)"
   ]
  },
  {
   "cell_type": "markdown",
   "id": "0c7c36f1-fd96-4e1b-805b-76c73a7554f6",
   "metadata": {
    "papermill": {},
    "tags": []
   },
   "source": [
    "## Input"
   ]
  },
  {
   "cell_type": "markdown",
   "id": "289aaf78-6d06-44ee-a93a-5d8b55067e40",
   "metadata": {
    "papermill": {},
    "tags": []
   },
   "source": [
    "### Import libraries"
   ]
  },
  {
   "cell_type": "code",
   "execution_count": null,
   "id": "aada7d52-c1b7-46dd-a15b-e89fc2c61a2f",
   "metadata": {
    "papermill": {},
    "tags": []
   },
   "source": "import matplotlib.pyplot as plt\nimport numpy as np",
   "outputs": []
  },
  {
   "cell_type": "markdown",
   "id": "c0ace5f1-3565-498a-8933-aa48e10a27c4",
   "metadata": {
    "papermill": {},
    "tags": []
   },
   "source": [
    "### Setup variables\n- `data`: array of shape (2, N) containing the x and y coordinates of the N events."
   ]
  },
  {
   "cell_type": "code",
   "execution_count": null,
   "id": "253ac24e-15dc-4ffb-b65d-bdf5c88fa5c1",
   "metadata": {
    "papermill": {},
    "tags": []
   },
   "source": "data = np.random.rand(2, 10)",
   "outputs": []
  },
  {
   "cell_type": "markdown",
   "id": "182e0944-361f-4d01-a826-0f626791cdc7",
   "metadata": {
    "papermill": {},
    "tags": []
   },
   "source": [
    "## Model"
   ]
  },
  {
   "cell_type": "markdown",
   "id": "48921bbd-6970-4157-bc13-9519d484d041",
   "metadata": {
    "papermill": {},
    "tags": []
   },
   "source": [
    "### Create eventplot"
   ]
  },
  {
   "cell_type": "markdown",
   "id": "8b41f4b4-47b8-4299-bb37-5d7ca2e2dad1",
   "metadata": {
    "papermill": {},
    "tags": []
   },
   "source": [
    "Long description of the function: Eventplot is a type of plot used to show the timing of multiple events. It is used to show the timing of multiple events. It is used to show the timing of multiple events. It is used to show the timing of multiple events."
   ]
  },
  {
   "cell_type": "code",
   "execution_count": null,
   "id": "bf9466c6-774e-4f57-99fb-1255892855fc",
   "metadata": {
    "papermill": {},
    "tags": []
   },
   "source": "plt.eventplot(data)",
   "outputs": []
  },
  {
   "cell_type": "markdown",
   "id": "772700dd-b2b5-4b0c-8fd8-3ab6a40ebe26",
   "metadata": {
    "papermill": {},
    "tags": []
   },
   "source": [
    "## Output"
   ]
  },
  {
   "cell_type": "markdown",
   "id": "1b9cc9f2-8503-49a3-bfd1-d6d83f9bf9ea",
   "metadata": {
    "papermill": {},
    "tags": []
   },
   "source": [
    "### Display result"
   ]
  },
  {
   "cell_type": "code",
   "execution_count": null,
   "id": "4ba70f49-beef-4f48-9570-e3ee953132ab",
   "metadata": {
    "papermill": {},
    "tags": []
   },
   "source": "plt.show()",
   "outputs": []
  },
  {
   "cell_type": "markdown",
   "id": "a37120c1-5857-448a-96e1-95380a6951a9",
   "metadata": {
    "papermill": {},
    "tags": []
   },
   "source": [
    " "
   ]
  }
 ],
 "metadata": {
  "kernelspec": {
   "display_name": "Python 3",
   "language": "python",
   "name": "python3"
  },
  "language_info": {
   "codemirror_mode": {
    "name": "ipython",
    "version": 3
   },
   "file_extension": ".py",
   "mimetype": "text/x-python",
   "name": "python",
   "nbconvert_exporter": "python",
   "pygments_lexer": "ipython3",
   "version": "3.9.6"
  },
  "widgets": {
   "application/vnd.jupyter.widget-state+json": {
    "state": {},
    "version_major": 2,
    "version_minor": 0
   }
  }
 },
 "nbformat": 4,
 "nbformat_minor": 5
}