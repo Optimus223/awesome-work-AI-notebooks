{
 "cells": [
  {
   "cell_type": "markdown",
   "id": "b5f17b41-90cd-431c-a773-7803b60a2c12",
   "metadata": {
    "papermill": {},
    "tags": []
   },
   "source": [
    "<img width=\"10%\" alt=\"Naas\" src=\"https://landen.imgix.net/jtci2pxwjczr/assets/5ice39g4.png?w=160\"/>"
   ]
  },
  {
   "cell_type": "markdown",
   "id": "324ca40c-7bbf-45fc-8ca9-c72c76a4b1cb",
   "metadata": {
    "papermill": {},
    "tags": []
   },
   "source": [
    "# Matplotlib - Plot Wireframe"
   ]
  },
  {
   "cell_type": "markdown",
   "id": "98f14a42-397f-45df-a4f9-017c853fc650",
   "metadata": {
    "papermill": {},
    "tags": []
   },
   "source": [
    "**Tags:** #matplotlib #plot #3d #wireframe #visualization #data"
   ]
  },
  {
   "cell_type": "markdown",
   "id": "97696608-6737-44ea-bc52-357d2484c4e4",
   "metadata": {
    "papermill": {},
    "tags": []
   },
   "source": [
    "**Author:** [Firstname Lastname](https://www.linkedin.com/in/xxxx)"
   ]
  },
  {
   "cell_type": "markdown",
   "id": "6f001af0-17f9-4c7b-a717-5252ad4a25aa",
   "metadata": {
    "papermill": {},
    "tags": []
   },
   "source": [
    "**Last update:** 2023-10-09 (Created: 2023-10-09)"
   ]
  },
  {
   "cell_type": "markdown",
   "id": "ddb43910-ae2b-41b8-a13f-f0da8ce1a67c",
   "metadata": {
    "papermill": {},
    "tags": []
   },
   "source": [
    "**Description:** This notebook will demonstrate how to plot a wireframe using Matplotlib. It is usefull for data visualization."
   ]
  },
  {
   "cell_type": "markdown",
   "id": "50f8a14a-669a-49ad-b00d-ddfa2b03f7b6",
   "metadata": {
    "papermill": {},
    "tags": []
   },
   "source": [
    "**References:**\n- [Matplotlib - Plot Wireframe](https://matplotlib.org/stable/plot_types/3D/wire3d_simple.html)\n- [Matplotlib - 3D Plotting](https://matplotlib.org/3.2.1/tutorials/toolkits/mplot3d.html)"
   ]
  },
  {
   "cell_type": "markdown",
   "id": "671abfca-e7e4-46e8-9011-c510869d24da",
   "metadata": {
    "papermill": {},
    "tags": []
   },
   "source": [
    "## Input"
   ]
  },
  {
   "cell_type": "markdown",
   "id": "bb0f5e4f-fc6e-4fe1-871a-866c13021a3a",
   "metadata": {
    "papermill": {},
    "tags": []
   },
   "source": [
    "### Import libraries"
   ]
  },
  {
   "cell_type": "code",
   "execution_count": null,
   "id": "f3bf5ca1-d6be-4570-9cb2-b9aea748fb47",
   "metadata": {
    "papermill": {},
    "tags": []
   },
   "source": "import matplotlib.pyplot as plt\nfrom mpl_toolkits.mplot3d import Axes3D\nimport numpy as np",
   "outputs": []
  },
  {
   "cell_type": "markdown",
   "id": "fe06db29-912f-4fdf-98af-bc134a9bb6b6",
   "metadata": {
    "papermill": {},
    "tags": []
   },
   "source": [
    "### Setup variables\n- `x`: x-axis values\n- `y`: y-axis values\n- `z`: z-axis values"
   ]
  },
  {
   "cell_type": "code",
   "execution_count": null,
   "id": "1ea98763-a8da-410d-be15-02308b748d5a",
   "metadata": {
    "papermill": {},
    "tags": []
   },
   "source": "x = np.linspace(-5, 5, 50)\ny = np.linspace(-5, 5, 50)\nX, Y = np.meshgrid(x, y)\nR = np.sqrt(X**2 + Y**2)\nZ = np.sin(R)",
   "outputs": []
  },
  {
   "cell_type": "markdown",
   "id": "a534cc4e-f1f1-4ca1-93c1-f00e47b489e4",
   "metadata": {
    "papermill": {},
    "tags": []
   },
   "source": [
    "## Model"
   ]
  },
  {
   "cell_type": "markdown",
   "id": "ea57cfa9-7955-46b3-997c-87b4f507b7e8",
   "metadata": {
    "papermill": {},
    "tags": []
   },
   "source": [
    "### Plot wireframe"
   ]
  },
  {
   "cell_type": "code",
   "execution_count": null,
   "id": "84592261-012a-4f88-884b-cab344972042",
   "metadata": {
    "papermill": {},
    "tags": []
   },
   "source": "fig = plt.figure()\nax = Axes3D(fig)\nax.plot_wireframe(X, Y, Z, color=\"green\")",
   "outputs": []
  },
  {
   "cell_type": "markdown",
   "id": "4c6b6611-fe35-4248-8b3f-fdff54e2505e",
   "metadata": {
    "papermill": {},
    "tags": []
   },
   "source": [
    "## Output"
   ]
  },
  {
   "cell_type": "markdown",
   "id": "a86759fc-94b0-4657-96a8-036fc5e6f18a",
   "metadata": {
    "papermill": {},
    "tags": []
   },
   "source": [
    "### Display result"
   ]
  },
  {
   "cell_type": "markdown",
   "id": "a86c6553-8e42-4d5e-9cff-026b0a5bc035",
   "metadata": {
    "papermill": {},
    "tags": []
   },
   "source": [
    "The result is a 3D wireframe plot of the sinusoidal function."
   ]
  },
  {
   "cell_type": "markdown",
   "id": "1f3da44b-6265-4dcc-9679-5f51f78a40a9",
   "metadata": {
    "papermill": {},
    "tags": []
   },
   "source": [
    "![alt text](https://github.com/callysto/curriculum-notebooks/blob/master/notebooks/images/Matplotlib_Wireframe.png?raw=true)"
   ]
  },
  {
   "cell_type": "markdown",
   "id": "143fbdee-b935-481f-b6c5-8493253e0ddc",
   "metadata": {
    "papermill": {},
    "tags": []
   },
   "source": [
    " "
   ]
  },
  {
   "cell_type": "markdown",
   "id": "4e213a63-4f1a-4997-adc3-936e34be36ee",
   "metadata": {
    "papermill": {},
    "tags": []
   },
   "source": [
    " "
   ]
  }
 ],
 "metadata": {
  "kernelspec": {
   "display_name": "Python 3",
   "language": "python",
   "name": "python3"
  },
  "language_info": {
   "codemirror_mode": {
    "name": "ipython",
    "version": 3
   },
   "file_extension": ".py",
   "mimetype": "text/x-python",
   "name": "python",
   "nbconvert_exporter": "python",
   "pygments_lexer": "ipython3",
   "version": "3.9.6"
  },
  "widgets": {
   "application/vnd.jupyter.widget-state+json": {
    "state": {},
    "version_major": 2,
    "version_minor": 0
   }
  }
 },
 "nbformat": 4,
 "nbformat_minor": 5
}