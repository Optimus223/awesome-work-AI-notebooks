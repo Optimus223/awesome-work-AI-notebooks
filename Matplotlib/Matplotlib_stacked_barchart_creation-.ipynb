{
 "cells": [
  {
   "cell_type": "markdown",
   "id": "f3009d0e-3d28-486a-a45b-0aa390832e52",
   "metadata": {
    "papermill": {},
    "tags": []
   },
   "source": [
    "<img width=\"10%\" alt=\"Naas\" src=\"https://landen.imgix.net/jtci2pxwjczr/assets/5ice39g4.png?w=160\"/>"
   ]
  },
  {
   "cell_type": "markdown",
   "id": "continuing-pioneer",
   "metadata": {
    "papermill": {},
    "tags": []
   },
   "source": [
    "# Matplotlib - Create Stacked Barchart\n",
    "<a href=\"https://app.naas.ai/user-redirect/naas/downloader?url=https://raw.githubusercontent.com/jupyter-naas/awesome-notebooks/master/Matplotlib/Matplotlib_Create_Waterfall_chart.ipynb\" target=\"_parent\"><img src=\"https://naasai-public.s3.eu-west-3.amazonaws.com/Open_in_Naas_Lab.svg\"/></a><br><br><a href=\"https://bit.ly/3JyWIk6\">Give Feedbacks</a> | <a href=\"https://app.naas.ai/user-redirect/naas/downloader?url=https://raw.githubusercontent.com/jupyter-naas/awesome-notebooks/master/Naas/Naas_Start_data_product.ipynb\" target=\"_parent\">Generate Data Product</a>"
   ]
  },
  {
   "cell_type": "markdown",
   "id": "d5a217ea-e554-474a-9c7b-2c9782c7104f",
   "metadata": {
    "papermill": {},
    "tags": []
   },
   "source": [
    "**Tags:** #matplotlib #chart #stacked barchart #dataviz #snippet #operations #image"
   ]
  },
  {
   "cell_type": "markdown",
   "id": "naas-author",
   "metadata": {
    "papermill": {},
    "tags": [
     "naas"
    ]
   },
   "source": [
    "**Author:** [Mardiat-Iman](https://www.linkedin.com/in/mardiat-iman-ibrahim-imam-726027262)"
   ]
  },
  {
   "cell_type": "markdown",
   "id": "dfab082e-f58f-4d1e-95f6-1a4b65c1c38a",
   "metadata": {
    "papermill": {},
    "tags": []
   },
   "source": [
    "**Created:** 2023-07-17"
   ]
  },
  {
   "cell_type": "markdown",
   "id": "naas-description",
   "metadata": {
    "papermill": {},
    "tags": [
     "description"
    ]
   },
   "source": [
    "**Description:** This notebook provides instructions on how to create a stacked Bar chart using Matplotlib."
   ]
  },
  {
   "cell_type": "markdown",
   "id": "8a6ae47d-e4e4-4166-9c71-268f4cf30956",
   "metadata": {
    "papermill": {},
    "tags": [
     "description"
    ]
   },
   "source": [
    "**References:** \n",
    "-[Stacked Barchart](https://matplotlib.org/stable/gallery/lines_bars_and_markers/bar_stacked.html#sphx-glr-gallery-lines-bars-and-markers-bar-stacked-py)"
   ]
  },
  {
   "cell_type": "markdown",
   "id": "input_cell",
   "metadata": {
    "papermill": {},
    "tags": []
   },
   "source": [
    "## Input"
   ]
  },
  {
   "cell_type": "markdown",
   "id": "import_cell",
   "metadata": {
    "papermill": {},
    "tags": []
   },
   "source": [
    "### Import library"
   ]
  },
  {
   "cell_type": "code",
   "execution_count": 1,
   "id": "349da579-e86d-4c4a-ac9f-fad6145f8061",
   "metadata": {
    "execution": {
     "iopub.execute_input": "2023-07-20T09:11:39.940624Z",
     "iopub.status.busy": "2023-07-20T09:11:39.940357Z",
     "iopub.status.idle": "2023-07-20T09:11:40.283080Z",
     "shell.execute_reply": "2023-07-20T09:11:40.282486Z",
     "shell.execute_reply.started": "2023-07-20T09:11:39.940559Z"
    },
    "papermill": {},
    "tags": []
   },
   "outputs": [],
   "source": [
    "import numpy as np\n",
    "import matplotlib.pyplot as plt"
   ]
  },
  {
   "cell_type": "markdown",
   "id": "15201f14-ba6d-4cff-aa9a-45c8124452c0",
   "metadata": {
    "papermill": {},
    "tags": []
   },
   "source": [
    "### Set Up Variables\n",
    "-`labels`: A tuple that stores the names of the penguin species as provided by the user.\n",
    "\n",
    "-`set_title`: The title of the graph.\n",
    "\n",
    "-`values`: A dictionary that stores the weight counts for each species category (\"Below\" and \"Above\") provided by the user. The categories are the keys, and the values are numpy arrays containing the count data.\n",
    "\n",
    "-`width`: A float value representing the width of the bars in the bar plot.\n",
    "\n",
    "-`fig_path`:The file path or name for the output image file of the graph, saved as \"fig.png\".\n",
    "\n"
   ]
  },
  {
   "cell_type": "code",
   "execution_count": 2,
   "id": "24834850-adc5-45da-bb1c-57dadea58211",
   "metadata": {
    "execution": {
     "iopub.execute_input": "2023-07-20T09:11:40.284460Z",
     "iopub.status.busy": "2023-07-20T09:11:40.284223Z",
     "iopub.status.idle": "2023-07-20T09:11:40.290262Z",
     "shell.execute_reply": "2023-07-20T09:11:40.289657Z",
     "shell.execute_reply.started": "2023-07-20T09:11:40.284431Z"
    },
    "papermill": {},
    "tags": []
   },
   "outputs": [],
   "source": [
    "# Inputs\n",
    "set_title = 'Number of penguins with above average body mass'\n",
    "labels = (\n",
    "    \"Adelie\\n $\\\\mu=$3700.66g\",\n",
    "    \"Chinstrap\\n $\\\\mu=$3733.09g\",\n",
    "    \"Gentoo\\n $\\\\mu=5076.02g$\",\n",
    ")\n",
    "values = {\n",
    "    \"Below\": np.array([70, 31, 58]),\n",
    "    \"Above\": np.array([82, 37, 66]),\n",
    "}\n",
    "width = 0.5\n",
    "#Output\n",
    "fig_path = \"fig.png\""
   ]
  },
  {
   "cell_type": "markdown",
   "id": "model_cell",
   "metadata": {
    "papermill": {},
    "tags": []
   },
   "source": [
    "## Model"
   ]
  },
  {
   "cell_type": "markdown",
   "id": "ef3c71fb-a46f-4216-978f-1b7fe0667bfd",
   "metadata": {
    "papermill": {},
    "tags": []
   },
   "source": [
    "### Create the stacked Bar chart"
   ]
  },
  {
   "cell_type": "code",
   "execution_count": 3,
   "id": "devoted-negotiation",
   "metadata": {
    "execution": {
     "iopub.execute_input": "2023-07-20T09:11:40.291751Z",
     "iopub.status.busy": "2023-07-20T09:11:40.291539Z",
     "iopub.status.idle": "2023-07-20T09:11:40.803005Z",
     "shell.execute_reply": "2023-07-20T09:11:40.802382Z",
     "shell.execute_reply.started": "2023-07-20T09:11:40.291726Z"
    },
    "papermill": {},
    "tags": []
   },
   "outputs": [
    {
     "data": {
      "image/png": "[encoded data removed]",
      "text/plain": [
       "<Figure size 432x288 with 1 Axes>"
      ]
     },
     "metadata": {
      "needs_background": "light"
     },
     "output_type": "display_data"
    }
   ],
   "source": [
    "fig, ax = plt.subplots()  \n",
    "\n",
    "bottom = np.zeros(3)\n",
    "\n",
    "for boolean, weight_count in values.items():\n",
    "    p = ax.bar(labels, weight_count, width, label=boolean, bottom=bottom)\n",
    "    bottom += weight_count\n",
    "\n",
    "ax.set_title(set_title)\n",
    "ax.legend(loc=\"upper right\")\n",
    "\n",
    "plt.show()"
   ]
  },
  {
   "cell_type": "markdown",
   "id": "output_cell",
   "metadata": {
    "papermill": {},
    "tags": []
   },
   "source": [
    "## Output"
   ]
  },
  {
   "cell_type": "markdown",
   "id": "display_cell",
   "metadata": {
    "papermill": {},
    "tags": []
   },
   "source": [
    "### Save figure"
   ]
  },
  {
   "cell_type": "code",
   "execution_count": 4,
   "id": "wired-minutes",
   "metadata": {
    "execution": {
     "iopub.execute_input": "2023-07-20T09:11:40.805612Z",
     "iopub.status.busy": "2023-07-20T09:11:40.805409Z",
     "iopub.status.idle": "2023-07-20T09:11:40.844015Z",
     "shell.execute_reply": "2023-07-20T09:11:40.843366Z",
     "shell.execute_reply.started": "2023-07-20T09:11:40.805589Z"
    },
    "papermill": {},
    "tags": []
   },
   "outputs": [
    {
     "data": {
      "text/plain": [
       "<Figure size 432x288 with 0 Axes>"
      ]
     },
     "metadata": {},
     "output_type": "display_data"
    }
   ],
   "source": [
    "plt.savefig(fig_path)"
   ]
  }
 ],
 "metadata": {
  "kernelspec": {
   "display_name": "Python 3",
   "language": "python",
   "name": "python3"
  },
  "language_info": {
   "codemirror_mode": {
    "name": "ipython",
    "version": 3
   },
   "file_extension": ".py",
   "mimetype": "text/x-python",
   "name": "python",
   "nbconvert_exporter": "python",
   "pygments_lexer": "ipython3",
   "version": "3.9.6"
  },
  "naas": {
   "notebook_id": "5d656a5d27e392c123ffbf464947fa2704905053ca4492c2f5d4c83b4078df64",
   "notebook_path": "Matplotlib/Matplotlib_Create_Waterfall_chart.ipynb"
  },
  "papermill": {
   "default_parameters": {},
   "environment_variables": {},
   "parameters": {},
   "version": "2.3.3"
  }
 },
 "nbformat": 4,
 "nbformat_minor": 5
}
