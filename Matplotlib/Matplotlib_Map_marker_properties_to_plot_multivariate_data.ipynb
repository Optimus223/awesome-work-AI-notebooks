{
 "cells": [
  {
   "cell_type": "markdown",
   "id": "f3009d0e-3d28-486a-a45b-0aa390832e52",
   "metadata": {
    "papermill": {},
    "tags": []
   },
   "source": [
    "<img width=\"10%\" alt=\"Naas\" src=\"https://landen.imgix.net/jtci2pxwjczr/assets/5ice39g4.png?w=160\"/>"
   ]
  },
  {
   "cell_type": "markdown",
   "id": "continuing-pioneer",
   "metadata": {
    "papermill": {},
    "tags": []
   },
   "source": [
    "# Matplotlib - Mapping marker properties to multivariate data\n",
    "<a href=\"https://app.naas.ai/user-redirect/naas/downloader?url=https://raw.githubusercontent.com/jupyter-naas/awesome-notebooks/master/Matplotlib/Matplotlib_Create_Waterfall_chart.ipynb\" target=\"_parent\"><img src=\"https://naasai-public.s3.eu-west-3.amazonaws.com/Open_in_Naas_Lab.svg\"/></a><br><br><a href=\"https://bit.ly/3JyWIk6\">Give Feedbacks</a> | <a href=\"https://app.naas.ai/user-redirect/naas/downloader?url=https://raw.githubusercontent.com/jupyter-naas/awesome-notebooks/master/Naas/Naas_Start_data_product.ipynb\" target=\"_parent\">Generate Data Product</a>"
   ]
  },
  {
   "cell_type": "markdown",
   "id": "d5a217ea-e554-474a-9c7b-2c9782c7104f",
   "metadata": {
    "papermill": {},
    "tags": []
   },
   "source": [
    "**Tags:** #matplotlib #chart #stackplots #markers #dataviz #snippet #operations #image #multivariate datasets"
   ]
  },
  {
   "cell_type": "markdown",
   "id": "naas-author",
   "metadata": {
    "papermill": {},
    "tags": [
     "naas"
    ]
   },
   "source": [
    "**Author:** [Mardiat-Iman](https://www.linkedin.com/in/mardiat-iman-ibrahim-imam-726027262)"
   ]
  },
  {
   "cell_type": "markdown",
   "id": "dfab082e-f58f-4d1e-95f6-1a4b65c1c38a",
   "metadata": {
    "papermill": {},
    "tags": []
   },
   "source": [
    "**Created:** 2023-07-25"
   ]
  },
  {
   "cell_type": "markdown",
   "id": "naas-description",
   "metadata": {
    "papermill": {},
    "tags": [
     "description"
    ]
   },
   "source": [
    "**Description:** This notebook shows how to use different properties of markers to plot multivariate datasets using Matplotlib."
   ]
  },
  {
   "cell_type": "markdown",
   "id": "ae9e445a-03e2-499c-9952-ba72cd12da29",
   "metadata": {
    "papermill": {},
    "tags": [
     "description"
    ]
   },
   "source": [
    "**Refrences:** \n",
    "\n",
    "-[Mapping marker properties to multivariate data](https://matplotlib.org/stable/gallery/lines_bars_and_markers/multivariate_marker_plot.html#sphx-glr-gallery-lines-bars-and-markers-multivariate-marker-plot-py)"
   ]
  },
  {
   "cell_type": "markdown",
   "id": "input_cell",
   "metadata": {
    "papermill": {},
    "tags": []
   },
   "source": [
    "## Input"
   ]
  },
  {
   "cell_type": "markdown",
   "id": "import_cell",
   "metadata": {
    "papermill": {},
    "tags": []
   },
   "source": [
    "### Import libraries"
   ]
  },
  {
   "cell_type": "code",
   "execution_count": 1,
   "id": "349da579-e86d-4c4a-ac9f-fad6145f8061",
   "metadata": {
    "execution": {
     "iopub.execute_input": "2023-07-26T11:39:07.011953Z",
     "iopub.status.busy": "2023-07-26T11:39:07.011737Z",
     "iopub.status.idle": "2023-07-26T11:39:07.457464Z",
     "shell.execute_reply": "2023-07-26T11:39:07.456799Z",
     "shell.execute_reply.started": "2023-07-26T11:39:07.011901Z"
    },
    "papermill": {},
    "tags": []
   },
   "outputs": [],
   "source": [
    "import numpy as np\n",
    "import matplotlib.pyplot as plt\n",
    "from matplotlib.markers import MarkerStyle\n",
    "from matplotlib.transforms import Affine2D\n",
    "from matplotlib.text import TextPath"
   ]
  },
  {
   "cell_type": "markdown",
   "id": "70974852-b8f5-4900-a82f-db5475f9797c",
   "metadata": {
    "papermill": {},
    "tags": []
   },
   "source": [
    "### Setup Variables\n",
    "\n",
    "\n",
    "1. `xlabel`: A string variable representing the label for the x-axis of the plot, which is \"X position [m]\".\n",
    "\n",
    "2. `ylabel`: A string variable representing the label for the y-axis of the plot, which is \"Y position [m]\".\n",
    "\n",
    "3. `title`: A string variable representing the title of the plot, which is 'Throwing success'.\n",
    "\n",
    "4. `label`: A string variable representing the label for the colorbar, which is \"Normalized Thrust [a.u.]\".\n",
    "\n",
    "5. `SUCCESS_SYMBOLS`: A list containing three `TextPath` objects, each representing a different symbol (\"☹\", \"😒\", \"☺\") used for marking successful throws on the plot.\n",
    "\n",
    "6. `fig_path`: A string variable representing the file path where the generated figure will be saved as an image, but it seems to be missing any file-saving code in the given snippet.\n",
    "\n",
    "7. `fig`: A reference to the figure object created by `plt.subplots()`.\n",
    "\n",
    "8. `ax`: A reference to the axes object created by `plt.subplots()`.\n",
    "\n",
    "9. `N`: An integer variable representing the number of data points to generate (25 in this case).\n",
    "\n",
    "10. `np.random.seed(42)`: Setting the random seed to ensure reproducibility of the random data generation.\n",
    "\n",
    "11. `skills`: A 1D NumPy array of length N, representing the skills of participants (values between 5 and 13).\n",
    "\n",
    "12. `takeoff_angles`: A 1D NumPy array of length N, representing the takeoff angles in degrees (normally distributed with mean 0 and standard deviation 90).\n",
    "\n",
    "13. `thrusts`: A 1D NumPy array of length N, representing the thrust values (random values between 0 and 1).\n",
    "\n",
    "14. `successful`: A 1D NumPy array of length N, representing the success status (random integers 0, 1, or 2).\n",
    "\n",
    "15. `positions`: A 2D NumPy array of shape (N, 2), representing the (x, y) positions of the data points (normally distributed around 0 with standard deviation 5).\n",
    "\n",
    "16. `data`: A zip object that combines the `skills`, `takeoff_angles`, `thrusts`, `successful`, and `positions` arrays together. Each element of `data` is a tuple containing one data point's skill, takeoff angle, thrust, success status, and position.\n",
    "\n",
    "17. `cmap`: A colormap obtained from `plt.get_cmap(\"plasma\")`, which is used to color the scatter points based on the `thrusts`.\n"
   ]
  },
  {
   "cell_type": "code",
   "execution_count": 2,
   "id": "bf25ef1d-73a8-4c61-a27d-23d73308ce5e",
   "metadata": {
    "execution": {
     "iopub.execute_input": "2023-07-26T11:39:07.458955Z",
     "iopub.status.busy": "2023-07-26T11:39:07.458686Z",
     "iopub.status.idle": "2023-07-26T11:39:07.467326Z",
     "shell.execute_reply": "2023-07-26T11:39:07.466663Z",
     "shell.execute_reply.started": "2023-07-26T11:39:07.458922Z"
    },
    "papermill": {},
    "tags": []
   },
   "outputs": [],
   "source": [
    "#Input\n",
    "xlabel = \"X position [m]\"\n",
    "ylabel = \"Y position [m]\"\n",
    "title = 'Throwing success'\n",
    "label = \"Normalized Thrust [a.u.]\"\n",
    "\n",
    "SUCCESS_SYMBOLS = [\n",
    "    TextPath((0, 0), \"☹\"),\n",
    "    TextPath((0, 0), \"😒\"),\n",
    "    TextPath((0, 0), \"☺\"),\n",
    "]\n",
    "#Output\n",
    "fig_path = \"fig.png\""
   ]
  },
  {
   "cell_type": "markdown",
   "id": "model_cell",
   "metadata": {
    "papermill": {},
    "tags": []
   },
   "source": [
    "## Model"
   ]
  },
  {
   "cell_type": "markdown",
   "id": "ef3c71fb-a46f-4216-978f-1b7fe0667bfd",
   "metadata": {
    "papermill": {},
    "tags": []
   },
   "source": [
    "### Create the Marker"
   ]
  },
  {
   "cell_type": "code",
   "execution_count": 3,
   "id": "devoted-negotiation",
   "metadata": {
    "execution": {
     "iopub.execute_input": "2023-07-26T11:39:07.468986Z",
     "iopub.status.busy": "2023-07-26T11:39:07.468755Z",
     "iopub.status.idle": "2023-07-26T11:39:08.881306Z",
     "shell.execute_reply": "2023-07-26T11:39:08.880702Z",
     "shell.execute_reply.started": "2023-07-26T11:39:07.468955Z"
    },
    "papermill": {},
    "tags": []
   },
   "outputs": [
    {
     "data": {
      "image/png": "[encoded data removed]",
      "text/plain": [
       "<Figure size 432x288 with 2 Axes>"
      ]
     },
     "metadata": {
      "needs_background": "light"
     },
     "output_type": "display_data"
    }
   ],
   "source": [
    "fig, ax = plt.subplots()\n",
    "N = 25\n",
    "np.random.seed(42)\n",
    "skills = np.random.uniform(5, 80, size=N) * 0.1 + 5\n",
    "takeoff_angles = np.random.normal(0, 90, N)\n",
    "thrusts = np.random.rand(N)\n",
    "successful = np.random.randint(0, 3, size=N)\n",
    "positions = np.random.normal(size=(N, 2)) * 5\n",
    "data = zip(skills, takeoff_angles, thrusts, successful, positions)\n",
    "\n",
    "cmap = plt.get_cmap(\"plasma\")\n",
    "\n",
    "fig.suptitle((title), size=14)\n",
    "\n",
    "for skill, takeoff, thrust, mood, pos in data:\n",
    "    t = Affine2D().rotate_deg(takeoff).scale(skill)\n",
    "    m = MarkerStyle(SUCCESS_SYMBOLS[mood])\n",
    "    m._transform = t + m.get_transform()  # Set the custom transformation for the marker style\n",
    "    ax.scatter(pos[0], pos[1], marker=m, color=cmap(thrust))\n",
    "\n",
    "fig.colorbar(plt.cm.ScalarMappable(norm=None, cmap=cmap),\n",
    "             ax=ax, label=label)\n",
    "ax.set_xlabel(xlabel)\n",
    "ax.set_ylabel(ylabel)\n",
    "\n",
    "plt.show()\n"
   ]
  },
  {
   "cell_type": "markdown",
   "id": "output_cell",
   "metadata": {
    "papermill": {},
    "tags": []
   },
   "source": [
    "## Output"
   ]
  },
  {
   "cell_type": "markdown",
   "id": "display_cell",
   "metadata": {
    "papermill": {},
    "tags": []
   },
   "source": [
    "### Save the figure"
   ]
  },
  {
   "cell_type": "code",
   "execution_count": 4,
   "id": "wired-minutes",
   "metadata": {
    "execution": {
     "iopub.execute_input": "2023-07-26T11:39:08.882728Z",
     "iopub.status.busy": "2023-07-26T11:39:08.882507Z",
     "iopub.status.idle": "2023-07-26T11:39:09.415929Z",
     "shell.execute_reply": "2023-07-26T11:39:09.407583Z",
     "shell.execute_reply.started": "2023-07-26T11:39:08.882699Z"
    },
    "papermill": {},
    "tags": []
   },
   "outputs": [],
   "source": [
    "fig.savefig(fig_path)"
   ]
  }
 ],
 "metadata": {
  "kernelspec": {
   "display_name": "Python 3",
   "language": "python",
   "name": "python3"
  },
  "language_info": {
   "codemirror_mode": {
    "name": "ipython",
    "version": 3
   },
   "file_extension": ".py",
   "mimetype": "text/x-python",
   "name": "python",
   "nbconvert_exporter": "python",
   "pygments_lexer": "ipython3",
   "version": "3.9.6"
  },
  "naas": {
   "notebook_id": "5d656a5d27e392c123ffbf464947fa2704905053ca4492c2f5d4c83b4078df64",
   "notebook_path": "Matplotlib/Matplotlib_Create_Waterfall_chart.ipynb"
  },
  "papermill": {
   "default_parameters": {},
   "environment_variables": {},
   "parameters": {},
   "version": "2.3.3"
  }
 },
 "nbformat": 4,
 "nbformat_minor": 5
}
