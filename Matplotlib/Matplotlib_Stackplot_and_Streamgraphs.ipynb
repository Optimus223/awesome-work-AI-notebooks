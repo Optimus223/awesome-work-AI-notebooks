{
 "cells": [
  {
   "cell_type": "markdown",
   "id": "f3009d0e-3d28-486a-a45b-0aa390832e52",
   "metadata": {
    "papermill": {},
    "tags": []
   },
   "source": [
    "<img width=\"10%\" alt=\"Naas\" src=\"https://landen.imgix.net/jtci2pxwjczr/assets/5ice39g4.png?w=160\"/>"
   ]
  },
  {
   "cell_type": "markdown",
   "id": "continuing-pioneer",
   "metadata": {
    "papermill": {},
    "tags": []
   },
   "source": [
    "# Matplotlib - Stackplots and Streamgraphs\n",
    "<a href=\"https://app.naas.ai/user-redirect/naas/downloader?url=https://raw.githubusercontent.com/jupyter-naas/awesome-notebooks/master/Matplotlib/Matplotlib_Create_Waterfall_chart.ipynb\" target=\"_parent\"><img src=\"https://naasai-public.s3.eu-west-3.amazonaws.com/Open_in_Naas_Lab.svg\"/></a><br><br><a href=\"https://bit.ly/3JyWIk6\">Give Feedbacks</a> | <a href=\"https://app.naas.ai/user-redirect/naas/downloader?url=https://raw.githubusercontent.com/jupyter-naas/awesome-notebooks/master/Naas/Naas_Start_data_product.ipynb\" target=\"_parent\">Generate Data Product</a>"
   ]
  },
  {
   "cell_type": "markdown",
   "id": "d5a217ea-e554-474a-9c7b-2c9782c7104f",
   "metadata": {
    "papermill": {},
    "tags": []
   },
   "source": [
    "**Tags:** #matplotlib #chart #stackplots #streamgraphs #dataviz #snippet #operations #image"
   ]
  },
  {
   "cell_type": "markdown",
   "id": "naas-author",
   "metadata": {
    "papermill": {},
    "tags": [
     "naas"
    ]
   },
   "source": [
    "**Author:** [Mardiat-Iman](https://www.linkedin.com/in/mardiat-iman-ibrahim-imam-726027262)"
   ]
  },
  {
   "cell_type": "markdown",
   "id": "dfab082e-f58f-4d1e-95f6-1a4b65c1c38a",
   "metadata": {
    "papermill": {},
    "tags": []
   },
   "source": [
    "**Created:** 2023-07-24"
   ]
  },
  {
   "cell_type": "markdown",
   "id": "naas-description",
   "metadata": {
    "papermill": {},
    "tags": [
     "description"
    ]
   },
   "source": [
    "**Description:** This notebook provides instructions on how to create stackplots and steamgraphs using matplotlib."
   ]
  },
  {
   "cell_type": "markdown",
   "id": "ae9e445a-03e2-499c-9952-ba72cd12da29",
   "metadata": {
    "papermill": {},
    "tags": [
     "description"
    ]
   },
   "source": [
    "**Refrences:** \n",
    "\n",
    "-[Stackplots and Streamgraphs](https://matplotlib.org/stable/gallery/lines_bars_and_markers/stackplot_demo.html#sphx-glr-gallery-lines-bars-and-markers-stackplot-demo-py)"
   ]
  },
  {
   "cell_type": "markdown",
   "id": "input_cell",
   "metadata": {
    "papermill": {},
    "tags": []
   },
   "source": [
    "## Input"
   ]
  },
  {
   "cell_type": "markdown",
   "id": "import_cell",
   "metadata": {
    "papermill": {},
    "tags": []
   },
   "source": [
    "### Import libraries"
   ]
  },
  {
   "cell_type": "code",
   "execution_count": 1,
   "id": "349da579-e86d-4c4a-ac9f-fad6145f8061",
   "metadata": {
    "execution": {
     "iopub.execute_input": "2023-07-25T11:47:52.048420Z",
     "iopub.status.busy": "2023-07-25T11:47:52.048153Z",
     "iopub.status.idle": "2023-07-25T11:47:52.411247Z",
     "shell.execute_reply": "2023-07-25T11:47:52.410557Z",
     "shell.execute_reply.started": "2023-07-25T11:47:52.048346Z"
    },
    "papermill": {},
    "tags": []
   },
   "outputs": [],
   "source": [
    "import numpy as np\n",
    "import matplotlib.pyplot as plt"
   ]
  },
  {
   "cell_type": "markdown",
   "id": "70974852-b8f5-4900-a82f-db5475f9797c",
   "metadata": {
    "papermill": {},
    "tags": []
   },
   "source": [
    "### Setup Variables\n",
    "-`values`: This variable is a list that contains the years for which population data is available. It holds the values [1950, 1960, 1970, 1980, 1990, 2000, 2010, 2018], representing the years from 1950 to 2018.\n",
    "\n",
    "-`xlabel`: This variable is a string that represents the label for the x-axis of the plot. It is set to 'Year', indicating that the x-axis will show the years.\n",
    "\n",
    "-`title`: This variable is a string that represents the title of the plot. It is set to 'World Population', which will be displayed at the top of the plot.\n",
    "\n",
    "-`ylabel`: This variable is a string that represents the label for the y-axis of the plot. It is set to 'Number of people (millions)', indicating that the y-axis will show the number of people in millions.\n",
    "\n",
    "-`labels`: This variable is a dictionary that stores the population data for different continents. The keys of the dictionary are strings representing continent names ('africa', 'americas', 'asia', 'europe', 'oceania'), and the values are lists containing the population data for each continent over the years specified in the values variable.\n",
    "\n",
    "-`fig_path`: A string representing the path where the generated figure will be saved with the name \"fig.png\"."
   ]
  },
  {
   "cell_type": "code",
   "execution_count": 2,
   "id": "bf25ef1d-73a8-4c61-a27d-23d73308ce5e",
   "metadata": {
    "execution": {
     "iopub.execute_input": "2023-07-25T11:47:52.414075Z",
     "iopub.status.busy": "2023-07-25T11:47:52.413893Z",
     "iopub.status.idle": "2023-07-25T11:47:52.444240Z",
     "shell.execute_reply": "2023-07-25T11:47:52.443647Z",
     "shell.execute_reply.started": "2023-07-25T11:47:52.414054Z"
    },
    "papermill": {},
    "tags": []
   },
   "outputs": [],
   "source": [
    "#Inputs\n",
    "# data from United Nations World Population Prospects (Revision 2019)\n",
    "# https://population.un.org/wpp/, license: CC BY 3.0 IGO\n",
    "values = 1950, 1960, 1970, 1980,1990, 2000, 2010, 2018\n",
    "xlabel = 'Year'\n",
    "title = 'World Population'\n",
    "ylabel = 'Number of people (millions) '\n",
    "labels = {\n",
    "    'africa': [228, 284, 365, 477, 631, 814, 1044, 1275],\n",
    "    'americas': [340, 425, 519, 619, 727, 840, 943, 1006],\n",
    "    'asia': [1394, 1686, 2120, 2625, 3202, 3714, 4169, 4560],\n",
    "    'europe': [220, 253, 276, 295, 310, 303, 294, 293],\n",
    "    'oceania': [12, 15, 19, 22, 26, 31, 36, 39],\n",
    "}\n",
    "#Output\n",
    "fig_path = \"fig.png\""
   ]
  },
  {
   "cell_type": "markdown",
   "id": "model_cell",
   "metadata": {
    "papermill": {},
    "tags": []
   },
   "source": [
    "## Model"
   ]
  },
  {
   "cell_type": "markdown",
   "id": "ef3c71fb-a46f-4216-978f-1b7fe0667bfd",
   "metadata": {
    "papermill": {},
    "tags": []
   },
   "source": [
    "### Create the Stackplot"
   ]
  },
  {
   "cell_type": "code",
   "execution_count": 3,
   "id": "devoted-negotiation",
   "metadata": {
    "execution": {
     "iopub.execute_input": "2023-07-25T11:47:52.445759Z",
     "iopub.status.busy": "2023-07-25T11:47:52.445534Z",
     "iopub.status.idle": "2023-07-25T11:47:52.749425Z",
     "shell.execute_reply": "2023-07-25T11:47:52.748740Z",
     "shell.execute_reply.started": "2023-07-25T11:47:52.445730Z"
    },
    "papermill": {},
    "tags": []
   },
   "outputs": [
    {
     "data": {
      "image/png": "[encoded data removed]",
      "text/plain": [
       "<Figure size 432x288 with 1 Axes>"
      ]
     },
     "metadata": {
      "needs_background": "light"
     },
     "output_type": "display_data"
    }
   ],
   "source": [
    "\n",
    "fig, ax = plt.subplots()\n",
    "ax.stackplot(values, labels.values(),\n",
    "             labels=labels.keys(), alpha=0.8)\n",
    "ax.legend(loc='upper left')  # Remove 'reverse=True'\n",
    "ax.set_title(title)\n",
    "ax.set_xlabel(xlabel)\n",
    "ax.set_ylabel(ylabel)\n",
    "\n",
    "plt.show()\n"
   ]
  },
  {
   "cell_type": "markdown",
   "id": "9d001d2d-494c-4e28-a5ed-3b3fd6e95397",
   "metadata": {
    "papermill": {},
    "tags": []
   },
   "source": [
    "### Setup Variables\n",
    "-`x`: This variable is a NumPy array representing the x-axis data. It is created using np.linspace(0, 100, 101), which generates 101 equally spaced points from 0 to 100.\n",
    "\n",
    "-`ys`: This variable is a list containing the y-axis data for the stackplot. It is a list of three arrays, where each array represents the output of the gaussian_mixture(x) function, and each function call generates a random mixture of Gaussians evaluated at positions x.\n",
    "\n",
    "-`fig_path`: A string representing the path where the generated figure will be saved with the name \"fig.png\"."
   ]
  },
  {
   "cell_type": "code",
   "execution_count": 4,
   "id": "eccb8268-8730-4caa-b4dc-6c428c589aa9",
   "metadata": {
    "execution": {
     "iopub.execute_input": "2023-07-25T11:47:52.750727Z",
     "iopub.status.busy": "2023-07-25T11:47:52.750497Z",
     "iopub.status.idle": "2023-07-25T11:47:52.758600Z",
     "shell.execute_reply": "2023-07-25T11:47:52.758016Z",
     "shell.execute_reply.started": "2023-07-25T11:47:52.750694Z"
    },
    "papermill": {},
    "tags": []
   },
   "outputs": [],
   "source": [
    "# Fixing random state for reproducibility\n",
    "np.random.seed(19680801)\n",
    "\n",
    "def gaussian_mixture(x, n=5):\n",
    "    \"\"\"Return a random mixture of *n* Gaussians, evaluated at positions *x*.\"\"\"\n",
    "    def add_random_gaussian(a):\n",
    "        amplitude = 1 / (.1 + np.random.random())\n",
    "        dx = x[-1] - x[0]\n",
    "        x0 = (2 * np.random.random() - .5) * dx\n",
    "        z = 10 / (.1 + np.random.random()) / dx\n",
    "        a += amplitude * np.exp(-(z * (x - x0))**2)\n",
    "    a = np.zeros_like(x)\n",
    "    for j in range(n):\n",
    "        add_random_gaussian(a)\n",
    "    return a\n",
    "\n",
    "\n",
    "x = np.linspace(0, 100, 101)\n",
    "ys = [gaussian_mixture(x) for _ in range(3)]\n",
    "\n",
    "#Output\n",
    "fig_path = \"fig.png\""
   ]
  },
  {
   "cell_type": "markdown",
   "id": "4eea8430-a3d2-4ee7-b1e2-53c057c4487a",
   "metadata": {
    "papermill": {},
    "tags": []
   },
   "source": [
    "### Create the Streamgraph"
   ]
  },
  {
   "cell_type": "code",
   "execution_count": 5,
   "id": "49baaa99-017d-4108-a61b-7b483d0b7548",
   "metadata": {
    "execution": {
     "iopub.execute_input": "2023-07-25T11:47:52.760046Z",
     "iopub.status.busy": "2023-07-25T11:47:52.759631Z",
     "iopub.status.idle": "2023-07-25T11:47:53.027097Z",
     "shell.execute_reply": "2023-07-25T11:47:53.024617Z",
     "shell.execute_reply.started": "2023-07-25T11:47:52.760013Z"
    },
    "papermill": {},
    "tags": []
   },
   "outputs": [
    {
     "data": {
      "image/png": "[encoded data removed]",
      "text/plain": [
       "<Figure size 432x288 with 1 Axes>"
      ]
     },
     "metadata": {
      "needs_background": "light"
     },
     "output_type": "display_data"
    }
   ],
   "source": [
    "fig, ax = plt.subplots()\n",
    "ax.stackplot(x, ys, baseline='wiggle')\n",
    "plt.show()\n",
    " \n"
   ]
  },
  {
   "cell_type": "markdown",
   "id": "output_cell",
   "metadata": {
    "papermill": {},
    "tags": []
   },
   "source": [
    "## Output"
   ]
  },
  {
   "cell_type": "markdown",
   "id": "display_cell",
   "metadata": {
    "papermill": {},
    "tags": []
   },
   "source": [
    "### Save the figures"
   ]
  },
  {
   "cell_type": "code",
   "execution_count": 6,
   "id": "wired-minutes",
   "metadata": {
    "execution": {
     "iopub.execute_input": "2023-07-25T11:47:53.028741Z",
     "iopub.status.busy": "2023-07-25T11:47:53.028497Z",
     "iopub.status.idle": "2023-07-25T11:47:53.125263Z",
     "shell.execute_reply": "2023-07-25T11:47:53.124571Z",
     "shell.execute_reply.started": "2023-07-25T11:47:53.028701Z"
    },
    "papermill": {},
    "tags": []
   },
   "outputs": [],
   "source": [
    "fig.savefig(fig_path)"
   ]
  }
 ],
 "metadata": {
  "kernelspec": {
   "display_name": "Python 3",
   "language": "python",
   "name": "python3"
  },
  "language_info": {
   "codemirror_mode": {
    "name": "ipython",
    "version": 3
   },
   "file_extension": ".py",
   "mimetype": "text/x-python",
   "name": "python",
   "nbconvert_exporter": "python",
   "pygments_lexer": "ipython3",
   "version": "3.9.6"
  },
  "naas": {
   "notebook_id": "5d656a5d27e392c123ffbf464947fa2704905053ca4492c2f5d4c83b4078df64",
   "notebook_path": "Matplotlib/Matplotlib_Create_Waterfall_chart.ipynb"
  },
  "papermill": {
   "default_parameters": {},
   "environment_variables": {},
   "parameters": {},
   "version": "2.3.3"
  }
 },
 "nbformat": 4,
 "nbformat_minor": 5
}
