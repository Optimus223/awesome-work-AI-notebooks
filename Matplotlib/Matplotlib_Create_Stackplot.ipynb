{
 "cells": [
  {
   "cell_type": "markdown",
   "id": "f3009d0e-3d28-486a-a45b-0aa390832e52",
   "metadata": {
    "papermill": {},
    "tags": []
   },
   "source": [
    "<img width=\"10%\" alt=\"Naas\" src=\"https://landen.imgix.net/jtci2pxwjczr/assets/5ice39g4.png?w=160\"/>"
   ]
  },
  {
   "cell_type": "markdown",
   "id": "continuing-pioneer",
   "metadata": {
    "papermill": {},
    "tags": []
   },
   "source": [
    "# Matplotlib - Create Stackplots\n",
    "<a href=\"https://app.naas.ai/user-redirect/naas/downloader?url=https://raw.githubusercontent.com/jupyter-naas/awesome-notebooks/master/Matplotlib/Matplotlib_Create_Waterfall_chart.ipynb\" target=\"_parent\"><img src=\"https://naasai-public.s3.eu-west-3.amazonaws.com/Open_in_Naas_Lab.svg\"/></a><br><br><a href=\"https://bit.ly/3JyWIk6\">Give Feedbacks</a> | <a href=\"https://app.naas.ai/user-redirect/naas/downloader?url=https://raw.githubusercontent.com/jupyter-naas/awesome-notebooks/master/Naas/Naas_Start_data_product.ipynb\" target=\"_parent\">Generate Data Product</a>"
   ]
  },
  {
   "cell_type": "markdown",
   "id": "d5a217ea-e554-474a-9c7b-2c9782c7104f",
   "metadata": {
    "papermill": {},
    "tags": []
   },
   "source": [
    "**Tags:** #matplotlib #chart #stackplots #streamgraphs #dataviz #snippet #operations #image"
   ]
  },
  {
   "cell_type": "markdown",
   "id": "naas-author",
   "metadata": {
    "papermill": {},
    "tags": [
     "naas"
    ]
   },
   "source": [
    "**Author:** [Mardiat-Iman](https://www.linkedin.com/in/mardiat-iman-ibrahim-imam-726027262)"
   ]
  },
  {
   "cell_type": "markdown",
   "id": "f1622e1b-2f57-4f8b-bc2b-80f3f8e113d6",
   "metadata": {
    "papermill": {},
    "tags": []
   },
   "source": [
    "**Last update:** 2023-07-24 (Created: 2023-07-24)"
   ]
  },
  {
   "cell_type": "markdown",
   "id": "naas-description",
   "metadata": {
    "papermill": {},
    "tags": [
     "description"
    ]
   },
   "source": [
    "**Description:** This notebook provides instructions on how to create stackplots using matplotlib. Stackplots draw multiple datasets as vertically stacked areas. This is useful when the individual data values and additionally their cumulative value are of interest."
   ]
  },
  {
   "cell_type": "markdown",
   "id": "ae9e445a-03e2-499c-9952-ba72cd12da29",
   "metadata": {
    "papermill": {},
    "tags": [
     "description"
    ]
   },
   "source": [
    "**References:** \n",
    "- [Matplotlib - Stackplots](https://matplotlib.org/stable/gallery/lines_bars_and_markers/stackplot_demo.html#sphx-glr-gallery-lines-bars-and-markers-stackplot-demo-py)"
   ]
  },
  {
   "cell_type": "markdown",
   "id": "input_cell",
   "metadata": {
    "papermill": {},
    "tags": []
   },
   "source": [
    "## Input"
   ]
  },
  {
   "cell_type": "markdown",
   "id": "import_cell",
   "metadata": {
    "papermill": {},
    "tags": []
   },
   "source": [
    "### Import libraries"
   ]
  },
  {
   "cell_type": "code",
   "execution_count": 6,
   "id": "349da579-e86d-4c4a-ac9f-fad6145f8061",
   "metadata": {
    "execution": {
     "iopub.execute_input": "2023-07-26T12:21:45.063623Z",
     "iopub.status.busy": "2023-07-26T12:21:45.063376Z",
     "iopub.status.idle": "2023-07-26T12:21:49.118906Z",
     "shell.execute_reply": "2023-07-26T12:21:49.117145Z",
     "shell.execute_reply.started": "2023-07-26T12:21:45.063598Z"
    },
    "papermill": {},
    "tags": []
   },
   "outputs": [],
   "source": [
    "import numpy as np\n",
    "import matplotlib.pyplot as plt\n",
    "import naas"
   ]
  },
  {
   "cell_type": "markdown",
   "id": "70974852-b8f5-4900-a82f-db5475f9797c",
   "metadata": {
    "papermill": {},
    "tags": []
   },
   "source": [
    "### Setup Variables\n",
    "- `values`: This variable is a list that contains the years for which population data is available. It holds the values [1950, 1960, 1970, 1980, 1990, 2000, 2010, 2018], representing the years from 1950 to 2018.\n",
    "- `xlabel`: This variable is a string that represents the label for the x-axis of the plot. It is set to 'Year', indicating that the x-axis will show the years.\n",
    "- `title`: This variable is a string that represents the title of the plot. It is set to 'World Population', which will be displayed at the top of the plot.\n",
    "- `ylabel`: This variable is a string that represents the label for the y-axis of the plot. It is set to 'Number of people (millions)', indicating that the y-axis will show the number of people in millions.\n",
    "- `labels`: This variable is a dictionary that stores the population data for different continents. The keys of the dictionary are strings representing continent names ('africa', 'americas', 'asia', 'europe', 'oceania'), and the values are lists containing the population data for each continent over the years specified in the values variable.\n",
    "- `fig_path`: A string representing the path where the generated figure will be saved with the name \"fig.png\"."
   ]
  },
  {
   "cell_type": "code",
   "execution_count": 2,
   "id": "bf25ef1d-73a8-4c61-a27d-23d73308ce5e",
   "metadata": {
    "execution": {
     "iopub.execute_input": "2023-07-26T12:21:37.629091Z",
     "iopub.status.busy": "2023-07-26T12:21:37.628665Z",
     "iopub.status.idle": "2023-07-26T12:21:37.660091Z",
     "shell.execute_reply": "2023-07-26T12:21:37.659523Z",
     "shell.execute_reply.started": "2023-07-26T12:21:37.629059Z"
    },
    "papermill": {},
    "tags": []
   },
   "outputs": [],
   "source": [
    "# Inputs\n",
    "# data from United Nations World Population Prospects (Revision 2019)\n",
    "# https://population.un.org/wpp/, license: CC BY 3.0 IGO\n",
    "values = 1950, 1960, 1970, 1980,1990, 2000, 2010, 2018\n",
    "xlabel = 'Year'\n",
    "title = 'World Population'\n",
    "ylabel = 'Number of people (millions) '\n",
    "labels = {\n",
    "    'africa': [228, 284, 365, 477, 631, 814, 1044, 1275],\n",
    "    'americas': [340, 425, 519, 619, 727, 840, 943, 1006],\n",
    "    'asia': [1394, 1686, 2120, 2625, 3202, 3714, 4169, 4560],\n",
    "    'europe': [220, 253, 276, 295, 310, 303, 294, 293],\n",
    "    'oceania': [12, 15, 19, 22, 26, 31, 36, 39],\n",
    "}\n",
    "# Outputs\n",
    "fig_path = \"fig.png\""
   ]
  },
  {
   "cell_type": "markdown",
   "id": "model_cell",
   "metadata": {
    "papermill": {},
    "tags": []
   },
   "source": [
    "## Model"
   ]
  },
  {
   "cell_type": "markdown",
   "id": "ef3c71fb-a46f-4216-978f-1b7fe0667bfd",
   "metadata": {
    "papermill": {},
    "tags": []
   },
   "source": [
    "### Plot the Stackplot"
   ]
  },
  {
   "cell_type": "code",
   "execution_count": 3,
   "id": "devoted-negotiation",
   "metadata": {
    "execution": {
     "iopub.execute_input": "2023-07-26T12:21:37.661191Z",
     "iopub.status.busy": "2023-07-26T12:21:37.660963Z",
     "iopub.status.idle": "2023-07-26T12:21:37.993167Z",
     "shell.execute_reply": "2023-07-26T12:21:37.992630Z",
     "shell.execute_reply.started": "2023-07-26T12:21:37.661163Z"
    },
    "papermill": {},
    "tags": []
   },
   "outputs": [
    {
     "data": {
      "image/png": "[encoded data removed]",
      "text/plain": [
       "<Figure size 432x288 with 1 Axes>"
      ]
     },
     "metadata": {
      "needs_background": "light"
     },
     "output_type": "display_data"
    }
   ],
   "source": [
    "fig, ax = plt.subplots()\n",
    "\n",
    "ax.stackplot(\n",
    "    values,\n",
    "    labels.values(),\n",
    "    labels=labels.keys(),\n",
    "    alpha=0.8\n",
    ")\n",
    "ax.legend(loc='upper left')  # Remove 'reverse=True'\n",
    "ax.set_title(title)\n",
    "ax.set_xlabel(xlabel)\n",
    "ax.set_ylabel(ylabel)\n",
    "\n",
    "plt.show()"
   ]
  },
  {
   "cell_type": "markdown",
   "id": "output_cell",
   "metadata": {
    "papermill": {},
    "tags": []
   },
   "source": [
    "## Output"
   ]
  },
  {
   "cell_type": "markdown",
   "id": "9cfaf7a0-4ef8-46b5-a1fb-1feeff1f46f8",
   "metadata": {
    "papermill": {},
    "tags": []
   },
   "source": [
    "### Save figure"
   ]
  },
  {
   "cell_type": "code",
   "execution_count": 4,
   "id": "ae5800d9-869d-4284-89c1-c168af592869",
   "metadata": {
    "execution": {
     "iopub.execute_input": "2023-07-26T12:21:37.994381Z",
     "iopub.status.busy": "2023-07-26T12:21:37.994145Z",
     "iopub.status.idle": "2023-07-26T12:21:38.078961Z",
     "shell.execute_reply": "2023-07-26T12:21:38.078356Z",
     "shell.execute_reply.started": "2023-07-26T12:21:37.994350Z"
    },
    "papermill": {},
    "tags": []
   },
   "outputs": [],
   "source": [
    "fig.savefig(fig_path)"
   ]
  },
  {
   "cell_type": "markdown",
   "id": "23b2a0d4-a5df-44fe-bb2c-38f2d37330e8",
   "metadata": {
    "papermill": {},
    "tags": []
   },
   "source": [
    "### Share asset with naas"
   ]
  },
  {
   "cell_type": "code",
   "execution_count": 8,
   "id": "36c9483b-0410-4355-bc85-2b7d52d52a02",
   "metadata": {
    "execution": {
     "iopub.execute_input": "2023-07-26T12:22:20.257163Z",
     "iopub.status.busy": "2023-07-26T12:22:20.256929Z",
     "iopub.status.idle": "2023-07-26T12:22:21.050955Z",
     "shell.execute_reply": "2023-07-26T12:22:21.050286Z",
     "shell.execute_reply.started": "2023-07-26T12:22:20.257139Z"
    },
    "papermill": {},
    "tags": []
   },
   "outputs": [
    {
     "name": "stdout",
     "output_type": "stream",
     "text": [
      "👌 Well done! Your Assets has been sent to production.\n",
      "\n"
     ]
    },
    {
     "data": {
      "application/javascript": [
       "\n",
       "    if (!window.copyToClipboard) {\n",
       "        window.copyToClipboard = (text) => {\n",
       "            const dummy = document.createElement(\"textarea\");\n",
       "            document.body.appendChild(dummy);\n",
       "            dummy.value = text;\n",
       "            dummy.select();\n",
       "            document.execCommand(\"copy\");\n",
       "            document.body.removeChild(dummy);\n",
       "        }\n",
       "    }\n",
       "    "
      ],
      "text/plain": [
       "<IPython.core.display.Javascript object>"
      ]
     },
     "metadata": {},
     "output_type": "display_data"
    },
    {
     "data": {
      "application/vnd.jupyter.widget-view+json": {
       "model_id": "1fc197b20b484d9e97a92e69e875e08e",
       "version_major": 2,
       "version_minor": 0
      },
      "text/plain": [
       "Button(button_style='primary', description='Copy URL', style=ButtonStyle())"
      ]
     },
     "metadata": {},
     "output_type": "display_data"
    },
    {
     "data": {
      "application/vnd.jupyter.widget-view+json": {
       "model_id": "e2042c178d6f40c9963dd2e43cdab8c6",
       "version_major": 2,
       "version_minor": 0
      },
      "text/plain": [
       "Output()"
      ]
     },
     "metadata": {},
     "output_type": "display_data"
    },
    {
     "name": "stdout",
     "output_type": "stream",
     "text": [
      "PS: to remove the \"Assets\" feature, just replace .add by .delete\n"
     ]
    },
    {
     "data": {
      "text/plain": [
       "'https://public.naas.ai/ZmxvcmVudC00MG5hYXMtMkVhaQ==/asset/a7ddeed8169af06d44b0a0c371f7b171a3d08c569235e45f8f5956ae01b8.png'"
      ]
     },
     "execution_count": 8,
     "metadata": {},
     "output_type": "execute_result"
    }
   ],
   "source": [
    "naas.asset.add(fig_path, params={\"inline\": True})"
   ]
  }
 ],
 "metadata": {
  "kernelspec": {
   "display_name": "Python 3",
   "language": "python",
   "name": "python3"
  },
  "language_info": {
   "codemirror_mode": {
    "name": "ipython",
    "version": 3
   },
   "file_extension": ".py",
   "mimetype": "text/x-python",
   "name": "python",
   "nbconvert_exporter": "python",
   "pygments_lexer": "ipython3",
   "version": "3.9.6"
  },
  "naas": {
   "notebook_id": "5d656a5d27e392c123ffbf464947fa2704905053ca4492c2f5d4c83b4078df64",
   "notebook_path": "Matplotlib/Matplotlib_Create_Waterfall_chart.ipynb"
  },
  "papermill": {
   "default_parameters": {},
   "environment_variables": {},
   "parameters": {},
   "version": "2.3.3"
  }
 },
 "nbformat": 4,
 "nbformat_minor": 5
}
