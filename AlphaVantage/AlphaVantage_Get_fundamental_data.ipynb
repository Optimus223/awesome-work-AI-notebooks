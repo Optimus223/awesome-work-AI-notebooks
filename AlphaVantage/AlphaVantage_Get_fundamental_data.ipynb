{
 "cells": [
  {
   "cell_type": "markdown",
   "id": "completed-compact",
   "metadata": {
    "execution": {
     "iopub.execute_input": "2021-02-23T14:07:40.156540Z",
     "iopub.status.busy": "2021-02-23T14:07:40.156186Z",
     "iopub.status.idle": "2021-02-23T14:07:40.169288Z",
     "shell.execute_reply": "2021-02-23T14:07:40.168472Z",
     "shell.execute_reply.started": "2021-02-23T14:07:40.156456Z"
    },
    "papermill": {},
    "tags": []
   },
   "source": [
    "<img width=\"10%\" alt=\"Naas\" src=\"https://landen.imgix.net/jtci2pxwjczr/assets/5ice39g4.png?w=160\"/>"
   ]
  },
  {
   "cell_type": "markdown",
   "id": "optimum-wrong",
   "metadata": {
    "papermill": {},
    "tags": []
   },
   "source": [
    "# AlphaVantage - Get fundamental data\n",
    "<a href=\"https://app.naas.ai/user-redirect/naas/downloader?url=https://raw.githubusercontent.com/jupyter-naas/awesome-notebooks/master/AlphaVantage/AlphaVantage_Get_fundamental_data.ipynb\" target=\"_parent\"><img src=\"https://img.shields.io/badge/-Open%20in%20Naas-success?labelColor=000000&logo=data:image/svg+xml;base64,PD94bWwgdmVyc2lvbj0iMS4wIiBlbmNvZGluZz0iVVRGLTgiPz4KPHN2ZyB3aWR0aD0iMTAyNHB4IiBoZWlnaHQ9IjEwMjRweCIgdmlld0JveD0iMCAwIDEwMjQgMTAyNCIgeG1sbnM9Imh0dHA6Ly93d3cudzMub3JnLzIwMDAvc3ZnIiB4bWxuczp4bGluaz0iaHR0cDovL3d3dy53My5vcmcvMTk5OS94bGluayIgdmVyc2lvbj0iMS4xIj4KIDwhLS0gR2VuZXJhdGVkIGJ5IFBpeGVsbWF0b3IgUHJvIDIuMC41IC0tPgogPGRlZnM+CiAgPHRleHQgaWQ9InN0cmluZyIgdHJhbnNmb3JtPSJtYXRyaXgoMS4wIDAuMCAwLjAgMS4wIDIyOC4wIDU0LjUpIiBmb250LWZhbWlseT0iQ29tZm9ydGFhLVJlZ3VsYXIsIENvbWZvcnRhYSIgZm9udC1zaXplPSI4MDAiIHRleHQtZGVjb3JhdGlvbj0ibm9uZSIgZmlsbD0iI2ZmZmZmZiIgeD0iMS4xOTk5OTk5OTk5OTk5ODg2IiB5PSI3MDUuMCI+bjwvdGV4dD4KIDwvZGVmcz4KIDx1c2UgaWQ9Im4iIHhsaW5rOmhyZWY9IiNzdHJpbmciLz4KPC9zdmc+Cg==\"/></a>"
   ]
  },
  {
   "cell_type": "markdown",
   "id": "residential-cambridge",
   "metadata": {
    "papermill": {},
    "tags": []
   },
   "source": [
    "#trading #market_data"
   ]
  },
  {
   "cell_type": "markdown",
   "id": "returning-kidney",
   "metadata": {
    "execution": {
     "iopub.execute_input": "2021-02-23T14:11:21.153305Z",
     "iopub.status.busy": "2021-02-23T14:11:21.153078Z",
     "iopub.status.idle": "2021-02-23T14:11:21.157581Z",
     "shell.execute_reply": "2021-02-23T14:11:21.157084Z",
     "shell.execute_reply.started": "2021-02-23T14:11:21.153281Z"
    },
    "papermill": {},
    "tags": []
   },
   "source": [
    "## Company overview"
   ]
  },
  {
   "cell_type": "code",
   "execution_count": null,
   "id": "cloudy-command",
   "metadata": {
    "papermill": {},
    "tags": []
   },
   "outputs": [],
   "source": [
    "import requests\n",
    "import pandas as pd\n",
    "\n",
    "response = requests.get('https://www.alphavantage.co/query?function=OVERVIEW&symbol=IBM&apikey=demo')\n",
    "data = response.json()\n",
    "data"
   ]
  },
  {
   "cell_type": "markdown",
   "id": "focused-clone",
   "metadata": {
    "papermill": {},
    "tags": []
   },
   "source": [
    "## Income statement "
   ]
  },
  {
   "cell_type": "code",
   "execution_count": null,
   "id": "vulnerable-ceiling",
   "metadata": {
    "papermill": {},
    "tags": []
   },
   "outputs": [],
   "source": [
    "import requests\n",
    "\n",
    "response = requests.get('https://www.alphavantage.co/query?function=INCOME_STATEMENT&symbol=IBM&apikey=demo')\n",
    "data = response.json()\n",
    "data"
   ]
  },
  {
   "cell_type": "markdown",
   "id": "russian-entity",
   "metadata": {
    "papermill": {},
    "tags": []
   },
   "source": [
    "## Balance sheet "
   ]
  },
  {
   "cell_type": "code",
   "execution_count": null,
   "id": "consistent-eligibility",
   "metadata": {
    "papermill": {},
    "tags": []
   },
   "outputs": [],
   "source": [
    "import requests\n",
    "\n",
    "response = requests.get('https://www.alphavantage.co/query?function=BALANCE_SHEET&symbol=IBM&apikey=demo')\n",
    "\n",
    "data = response.json()\n",
    "data"
   ]
  },
  {
   "cell_type": "markdown",
   "id": "oriental-norfolk",
   "metadata": {
    "papermill": {},
    "tags": []
   },
   "source": [
    "## Cashflow statement"
   ]
  },
  {
   "cell_type": "code",
   "execution_count": null,
   "id": "living-latitude",
   "metadata": {
    "papermill": {},
    "tags": []
   },
   "outputs": [],
   "source": [
    "import requests\n",
    "\n",
    "response = requests.get('https://www.alphavantage.co/query?function=CASH_FLOW&symbol=IBM&apikey=demo')\n",
    "\n",
    "data = response.json()\n",
    "data"
   ]
  }
 ],
 "metadata": {
  "kernelspec": {
   "display_name": "Python 3",
   "language": "python",
   "name": "python3"
  },
  "language_info": {
   "codemirror_mode": {
    "name": "ipython",
    "version": 3
   },
   "file_extension": ".py",
   "mimetype": "text/x-python",
   "name": "python",
   "nbconvert_exporter": "python",
   "pygments_lexer": "ipython3",
   "version": "3.8.8"
  },
  "papermill": {
   "default_parameters": {},
   "environment_variables": {},
   "parameters": {},
   "version": "2.3.3"
  },
  "widgets": {
   "application/vnd.jupyter.widget-state+json": {
    "state": {},
    "version_major": 2,
    "version_minor": 0
   }
  }
 },
 "nbformat": 4,
 "nbformat_minor": 5
}