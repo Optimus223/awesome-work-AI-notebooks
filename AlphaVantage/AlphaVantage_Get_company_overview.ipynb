{
 "cells": [
  {
   "cell_type": "markdown",
   "id": "completed-compact",
   "metadata": {
    "execution": {
     "iopub.execute_input": "2021-02-23T14:07:40.156540Z",
     "iopub.status.busy": "2021-02-23T14:07:40.156186Z",
     "iopub.status.idle": "2021-02-23T14:07:40.169288Z",
     "shell.execute_reply": "2021-02-23T14:07:40.168472Z",
     "shell.execute_reply.started": "2021-02-23T14:07:40.156456Z"
    },
    "papermill": {},
    "tags": []
   },
   "source": [
    "<img width=\"10%\" alt=\"Naas\" src=\"https://landen.imgix.net/jtci2pxwjczr/assets/5ice39g4.png?w=160\"/>"
   ]
  },
  {
   "cell_type": "markdown",
   "id": "optimum-wrong",
   "metadata": {
    "papermill": {},
    "tags": []
   },
   "source": [
    "# AlphaVantage - Get company overview\n",
    "<a href=\"https://app.naas.ai/user-redirect/naas/downloader?url=https://raw.githubusercontent.com/jupyter-naas/awesome-notebooks/master/AlphaVantage/AlphaVantage_Get_fundamental_data.ipynb\" target=\"_parent\"><img src=\"https://naasai-public.s3.eu-west-3.amazonaws.com/open_in_naas.svg\"/></a>"
   ]
  },
  {
   "cell_type": "markdown",
   "id": "residential-cambridge",
   "metadata": {
    "papermill": {},
    "tags": []
   },
   "source": [
    "**Tags:** #trading #market_data"
   ]
  },
  {
   "cell_type": "markdown",
   "id": "57f07d61-294c-43a6-bc0b-a4f658114285",
   "metadata": {},
   "source": [
    "**Author:** [Florent Ravenel](https://www.linkedin.com/in/ACoAABCNSioBW3YZHc2lBHVG0E_TXYWitQkmwog/)"
   ]
  },
  {
   "cell_type": "markdown",
   "id": "c217570a-931f-4160-9a23-6a7f34003709",
   "metadata": {},
   "source": [
    "## Input"
   ]
  },
  {
   "cell_type": "markdown",
   "id": "a2f80aa6-87b7-4479-bc4d-cd98a14c4366",
   "metadata": {},
   "source": [
    "### Import libraries"
   ]
  },
  {
   "cell_type": "code",
   "execution_count": 2,
   "id": "f1bf16ca-be92-469c-8a19-20c669ddb865",
   "metadata": {
    "execution": {
     "iopub.execute_input": "2022-02-22T18:31:19.381468Z",
     "iopub.status.busy": "2022-02-22T18:31:19.381228Z",
     "iopub.status.idle": "2022-02-22T18:31:19.384189Z",
     "shell.execute_reply": "2022-02-22T18:31:19.383521Z",
     "shell.execute_reply.started": "2022-02-22T18:31:19.381444Z"
    },
    "tags": []
   },
   "outputs": [],
   "source": [
    "import requests\n",
    "import pandas as pd"
   ]
  },
  {
   "cell_type": "markdown",
   "id": "69e2fc46-4ea1-440a-9bac-635b453a164d",
   "metadata": {},
   "source": [
    "### Variables"
   ]
  },
  {
   "cell_type": "code",
   "execution_count": 9,
   "id": "2b79583f-db93-43db-8c97-ab7333d870a2",
   "metadata": {
    "execution": {
     "iopub.execute_input": "2022-02-22T18:34:20.603260Z",
     "iopub.status.busy": "2022-02-22T18:34:20.603036Z",
     "iopub.status.idle": "2022-02-22T18:34:20.605966Z",
     "shell.execute_reply": "2022-02-22T18:34:20.605329Z",
     "shell.execute_reply.started": "2022-02-22T18:34:20.603237Z"
    },
    "tags": []
   },
   "outputs": [],
   "source": [
    "API_KEY = \"demo\"\n",
    "COMPANY = \"IBM\""
   ]
  },
  {
   "cell_type": "markdown",
   "id": "383de97b-5103-44dd-b71b-e17102fd7b2b",
   "metadata": {},
   "source": [
    "## Model"
   ]
  },
  {
   "cell_type": "markdown",
   "id": "ff1747bf-9fb6-4b71-bfd2-cc677caea2ff",
   "metadata": {},
   "source": [
    "### Get company overview"
   ]
  },
  {
   "cell_type": "code",
   "execution_count": 10,
   "id": "cloudy-command",
   "metadata": {
    "execution": {
     "iopub.execute_input": "2022-02-22T18:34:21.658028Z",
     "iopub.status.busy": "2022-02-22T18:34:21.657740Z",
     "iopub.status.idle": "2022-02-22T18:34:21.833312Z",
     "shell.execute_reply": "2022-02-22T18:34:21.832710Z",
     "shell.execute_reply.started": "2022-02-22T18:34:21.657997Z"
    },
    "papermill": {},
    "tags": []
   },
   "outputs": [],
   "source": [
    "response = requests.get(f'https://www.alphavantage.co/query?function=OVERVIEW&symbol={COMPANY}&apikey={API_KEY}')\n",
    "data = response.json()"
   ]
  },
  {
   "cell_type": "markdown",
   "id": "4e945bb8-cacb-4f17-b1ca-b8cfc3d0147b",
   "metadata": {},
   "source": [
    "## Output"
   ]
  },
  {
   "cell_type": "markdown",
   "id": "acba0226-405d-4ac2-8c15-54f61dfc69c4",
   "metadata": {},
   "source": [
    "### Display result"
   ]
  },
  {
   "cell_type": "code",
   "execution_count": 11,
   "id": "34863d61-348e-4f74-9125-16d6d600dd18",
   "metadata": {
    "execution": {
     "iopub.execute_input": "2022-02-22T18:34:22.718191Z",
     "iopub.status.busy": "2022-02-22T18:34:22.717962Z",
     "iopub.status.idle": "2022-02-22T18:34:22.722660Z",
     "shell.execute_reply": "2022-02-22T18:34:22.722035Z",
     "shell.execute_reply.started": "2022-02-22T18:34:22.718167Z"
    },
    "tags": []
   },
   "outputs": [
    {
     "data": {
      "text/plain": [
       "{'Symbol': 'IBM',\n",
       " 'AssetType': 'Common Stock',\n",
       " 'Name': 'International Business Machines Corporation',\n",
       " 'Description': 'International Business Machines Corporation (IBM) is an American multinational technology company headquartered in Armonk, New York, with operations in over 170 countries. The company began in 1911, founded in Endicott, New York, as the Computing-Tabulating-Recording Company (CTR) and was renamed International Business Machines in 1924. IBM is incorporated in New York. IBM produces and sells computer hardware, middleware and software, and provides hosting and consulting services in areas ranging from mainframe computers to nanotechnology. IBM is also a major research organization, holding the record for most annual U.S. patents generated by a business (as of 2020) for 28 consecutive years. Inventions by IBM include the automated teller machine (ATM), the floppy disk, the hard disk drive, the magnetic stripe card, the relational database, the SQL programming language, the UPC barcode, and dynamic random-access memory (DRAM). The IBM mainframe, exemplified by the System/360, was the dominant computing platform during the 1960s and 1970s.',\n",
       " 'CIK': '51143',\n",
       " 'Exchange': 'NYSE',\n",
       " 'Currency': 'USD',\n",
       " 'Country': 'USA',\n",
       " 'Sector': 'TECHNOLOGY',\n",
       " 'Industry': 'COMPUTER & OFFICE EQUIPMENT',\n",
       " 'Address': '1 NEW ORCHARD ROAD, ARMONK, NY, US',\n",
       " 'FiscalYearEnd': 'December',\n",
       " 'LatestQuarter': '2021-12-31',\n",
       " 'MarketCapitalization': '111457395000',\n",
       " 'EBITDA': '11999000000',\n",
       " 'PERatio': '19.59',\n",
       " 'PEGRatio': '1.186',\n",
       " 'BookValue': '21.04',\n",
       " 'DividendPerShare': '6.56',\n",
       " 'DividendYield': '0.0528',\n",
       " 'EPS': '6.35',\n",
       " 'RevenuePerShareTTM': '64.01',\n",
       " 'ProfitMargin': '0.1',\n",
       " 'OperatingMarginTTM': '0.0973',\n",
       " 'ReturnOnAssetsTTM': '0.0242',\n",
       " 'ReturnOnEquityTTM': '0.237',\n",
       " 'RevenueTTM': '57350001000',\n",
       " 'GrossProfitTTM': '31486000000',\n",
       " 'DilutedEPSTTM': '6.35',\n",
       " 'QuarterlyEarningsGrowthYOY': '0.701',\n",
       " 'QuarterlyRevenueGrowthYOY': '-0.18',\n",
       " 'AnalystTargetPrice': '143.47',\n",
       " 'TrailingPE': '19.59',\n",
       " 'ForwardPE': '12.18',\n",
       " 'PriceToSalesRatioTTM': '1.944',\n",
       " 'PriceToBookRatio': '5.9',\n",
       " 'EVToRevenue': '2.78',\n",
       " 'EVToEBITDA': '12.85',\n",
       " 'Beta': '1.089',\n",
       " '52WeekHigh': '140.73',\n",
       " '52WeekLow': '108.14',\n",
       " '50DayMovingAverage': '131.88',\n",
       " '200DayMovingAverage': '132.11',\n",
       " 'SharesOutstanding': '896320000',\n",
       " 'DividendDate': '2022-03-10',\n",
       " 'ExDividendDate': '2022-02-10'}"
      ]
     },
     "execution_count": 11,
     "metadata": {},
     "output_type": "execute_result"
    }
   ],
   "source": [
    "data"
   ]
  }
 ],
 "metadata": {
  "kernelspec": {
   "display_name": "Python 3",
   "language": "python",
   "name": "python3"
  },
  "language_info": {
   "codemirror_mode": {
    "name": "ipython",
    "version": 3
   },
   "file_extension": ".py",
   "mimetype": "text/x-python",
   "name": "python",
   "nbconvert_exporter": "python",
   "pygments_lexer": "ipython3",
   "version": "3.8.8"
  },
  "papermill": {
   "default_parameters": {},
   "environment_variables": {},
   "parameters": {},
   "version": "2.3.3"
  },
  "widgets": {
   "application/vnd.jupyter.widget-state+json": {
    "state": {},
    "version_major": 2,
    "version_minor": 0
   }
  }
 },
 "nbformat": 4,
 "nbformat_minor": 5
}
