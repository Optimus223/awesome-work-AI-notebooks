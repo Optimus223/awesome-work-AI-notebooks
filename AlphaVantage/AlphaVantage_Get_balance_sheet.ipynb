{
 "cells": [
  {
   "cell_type": "markdown",
   "id": "completed-compact",
   "metadata": {
    "execution": {
     "iopub.execute_input": "2021-02-23T14:07:40.156540Z",
     "iopub.status.busy": "2021-02-23T14:07:40.156186Z",
     "iopub.status.idle": "2021-02-23T14:07:40.169288Z",
     "shell.execute_reply": "2021-02-23T14:07:40.168472Z",
     "shell.execute_reply.started": "2021-02-23T14:07:40.156456Z"
    },
    "papermill": {},
    "tags": []
   },
   "source": [
    "<img width=\"10%\" alt=\"Naas\" src=\"https://landen.imgix.net/jtci2pxwjczr/assets/5ice39g4.png?w=160\"/>"
   ]
  },
  {
   "cell_type": "markdown",
   "id": "optimum-wrong",
   "metadata": {
    "papermill": {},
    "tags": []
   },
   "source": [
    "# AlphaVantage - Get balance sheet\n",
    "<a href=\"https://app.naas.ai/user-redirect/naas/downloader?url=https://raw.githubusercontent.com/jupyter-naas/awesome-notebooks/master/AlphaVantage/AlphaVantage_Get_fundamental_data.ipynb\" target=\"_parent\"><img src=\"https://naasai-public.s3.eu-west-3.amazonaws.com/open_in_naas.svg\"/></a>"
   ]
  },
  {
   "cell_type": "markdown",
   "id": "residential-cambridge",
   "metadata": {
    "papermill": {},
    "tags": []
   },
   "source": [
    "**Tags:** #trading #market_data"
   ]
  },
  {
   "cell_type": "markdown",
   "id": "57f07d61-294c-43a6-bc0b-a4f658114285",
   "metadata": {},
   "source": [
    "**Author:** [Florent Ravenel](https://www.linkedin.com/in/ACoAABCNSioBW3YZHc2lBHVG0E_TXYWitQkmwog/)"
   ]
  },
  {
   "cell_type": "markdown",
   "id": "c217570a-931f-4160-9a23-6a7f34003709",
   "metadata": {},
   "source": [
    "## Input"
   ]
  },
  {
   "cell_type": "markdown",
   "id": "a2f80aa6-87b7-4479-bc4d-cd98a14c4366",
   "metadata": {},
   "source": [
    "### Import libraries"
   ]
  },
  {
   "cell_type": "code",
   "execution_count": 1,
   "id": "f1bf16ca-be92-469c-8a19-20c669ddb865",
   "metadata": {
    "execution": {
     "iopub.execute_input": "2022-02-22T18:39:22.632633Z",
     "iopub.status.busy": "2022-02-22T18:39:22.632371Z",
     "iopub.status.idle": "2022-02-22T18:39:22.981825Z",
     "shell.execute_reply": "2022-02-22T18:39:22.980526Z",
     "shell.execute_reply.started": "2022-02-22T18:39:22.632568Z"
    },
    "tags": []
   },
   "outputs": [],
   "source": [
    "import requests\n",
    "import pandas as pd"
   ]
  },
  {
   "cell_type": "markdown",
   "id": "69e2fc46-4ea1-440a-9bac-635b453a164d",
   "metadata": {},
   "source": [
    "### Variables"
   ]
  },
  {
   "cell_type": "code",
   "execution_count": 2,
   "id": "2b79583f-db93-43db-8c97-ab7333d870a2",
   "metadata": {
    "execution": {
     "iopub.execute_input": "2022-02-22T18:39:23.380148Z",
     "iopub.status.busy": "2022-02-22T18:39:23.379910Z",
     "iopub.status.idle": "2022-02-22T18:39:23.382935Z",
     "shell.execute_reply": "2022-02-22T18:39:23.382338Z",
     "shell.execute_reply.started": "2022-02-22T18:39:23.380126Z"
    },
    "tags": []
   },
   "outputs": [],
   "source": [
    "API_KEY = \"demo\"\n",
    "COMPANY = \"IBM\""
   ]
  },
  {
   "cell_type": "markdown",
   "id": "383de97b-5103-44dd-b71b-e17102fd7b2b",
   "metadata": {},
   "source": [
    "## Model"
   ]
  },
  {
   "cell_type": "markdown",
   "id": "ff1747bf-9fb6-4b71-bfd2-cc677caea2ff",
   "metadata": {},
   "source": [
    "### Get company overview"
   ]
  },
  {
   "cell_type": "code",
   "execution_count": 3,
   "id": "cloudy-command",
   "metadata": {
    "execution": {
     "iopub.execute_input": "2022-02-22T18:39:24.367345Z",
     "iopub.status.busy": "2022-02-22T18:39:24.367116Z",
     "iopub.status.idle": "2022-02-22T18:39:24.667372Z",
     "shell.execute_reply": "2022-02-22T18:39:24.666765Z",
     "shell.execute_reply.started": "2022-02-22T18:39:24.367322Z"
    },
    "papermill": {},
    "tags": []
   },
   "outputs": [],
   "source": [
    "response = requests.get(f'https://www.alphavantage.co/query?function=BALANCE_SHEET&symbol={COMPANY}&apikey={API_KEY}')\n",
    "data = response.json()\n",
    "df = pd.DataFrame(data.get(\"annualReports\"))"
   ]
  },
  {
   "cell_type": "markdown",
   "id": "4e945bb8-cacb-4f17-b1ca-b8cfc3d0147b",
   "metadata": {},
   "source": [
    "## Output"
   ]
  },
  {
   "cell_type": "markdown",
   "id": "acba0226-405d-4ac2-8c15-54f61dfc69c4",
   "metadata": {},
   "source": [
    "### Display result"
   ]
  },
  {
   "cell_type": "code",
   "execution_count": 4,
   "id": "34863d61-348e-4f74-9125-16d6d600dd18",
   "metadata": {
    "execution": {
     "iopub.execute_input": "2022-02-22T18:39:25.231935Z",
     "iopub.status.busy": "2022-02-22T18:39:25.231655Z",
     "iopub.status.idle": "2022-02-22T18:39:25.263492Z",
     "shell.execute_reply": "2022-02-22T18:39:25.262965Z",
     "shell.execute_reply.started": "2022-02-22T18:39:25.231909Z"
    },
    "tags": []
   },
   "outputs": [
    {
     "data": {
      "text/html": [
       "<div>\n",
       "<style scoped>\n",
       "    .dataframe tbody tr th:only-of-type {\n",
       "        vertical-align: middle;\n",
       "    }\n",
       "\n",
       "    .dataframe tbody tr th {\n",
       "        vertical-align: top;\n",
       "    }\n",
       "\n",
       "    .dataframe thead th {\n",
       "        text-align: right;\n",
       "    }\n",
       "</style>\n",
       "<table border=\"1\" class=\"dataframe\">\n",
       "  <thead>\n",
       "    <tr style=\"text-align: right;\">\n",
       "      <th></th>\n",
       "      <th>fiscalDateEnding</th>\n",
       "      <th>reportedCurrency</th>\n",
       "      <th>totalAssets</th>\n",
       "      <th>totalCurrentAssets</th>\n",
       "      <th>cashAndCashEquivalentsAtCarryingValue</th>\n",
       "      <th>cashAndShortTermInvestments</th>\n",
       "      <th>inventory</th>\n",
       "      <th>currentNetReceivables</th>\n",
       "      <th>totalNonCurrentAssets</th>\n",
       "      <th>propertyPlantEquipment</th>\n",
       "      <th>...</th>\n",
       "      <th>currentLongTermDebt</th>\n",
       "      <th>longTermDebtNoncurrent</th>\n",
       "      <th>shortLongTermDebtTotal</th>\n",
       "      <th>otherCurrentLiabilities</th>\n",
       "      <th>otherNonCurrentLiabilities</th>\n",
       "      <th>totalShareholderEquity</th>\n",
       "      <th>treasuryStock</th>\n",
       "      <th>retainedEarnings</th>\n",
       "      <th>commonStock</th>\n",
       "      <th>commonStockSharesOutstanding</th>\n",
       "    </tr>\n",
       "  </thead>\n",
       "  <tbody>\n",
       "    <tr>\n",
       "      <th>0</th>\n",
       "      <td>2020-12-31</td>\n",
       "      <td>USD</td>\n",
       "      <td>155971000000</td>\n",
       "      <td>39165000000</td>\n",
       "      <td>13212000000</td>\n",
       "      <td>13812000000</td>\n",
       "      <td>1839000000</td>\n",
       "      <td>18738000000</td>\n",
       "      <td>115864000000</td>\n",
       "      <td>10040000000</td>\n",
       "      <td>...</td>\n",
       "      <td>7053000000</td>\n",
       "      <td>54355000000</td>\n",
       "      <td>130178000000</td>\n",
       "      <td>13588000000</td>\n",
       "      <td>14897000000</td>\n",
       "      <td>20597000000</td>\n",
       "      <td>169339000000</td>\n",
       "      <td>162717000000</td>\n",
       "      <td>56556000000</td>\n",
       "      <td>892653424</td>\n",
       "    </tr>\n",
       "    <tr>\n",
       "      <th>1</th>\n",
       "      <td>2019-12-31</td>\n",
       "      <td>USD</td>\n",
       "      <td>152186000000</td>\n",
       "      <td>38420000000</td>\n",
       "      <td>8172000000</td>\n",
       "      <td>8868000000</td>\n",
       "      <td>1619000000</td>\n",
       "      <td>23795000000</td>\n",
       "      <td>112878000000</td>\n",
       "      <td>10010000000</td>\n",
       "      <td>...</td>\n",
       "      <td>7522000000</td>\n",
       "      <td>54102000000</td>\n",
       "      <td>132187000000</td>\n",
       "      <td>10602000000</td>\n",
       "      <td>14526000000</td>\n",
       "      <td>20841000000</td>\n",
       "      <td>169413000000</td>\n",
       "      <td>162954000000</td>\n",
       "      <td>55895000000</td>\n",
       "      <td>887110455</td>\n",
       "    </tr>\n",
       "    <tr>\n",
       "      <th>2</th>\n",
       "      <td>2018-12-31</td>\n",
       "      <td>USD</td>\n",
       "      <td>123382000000</td>\n",
       "      <td>49146000000</td>\n",
       "      <td>11379000000</td>\n",
       "      <td>11997000000</td>\n",
       "      <td>1682000000</td>\n",
       "      <td>30563000000</td>\n",
       "      <td>68067000000</td>\n",
       "      <td>10792000000</td>\n",
       "      <td>...</td>\n",
       "      <td>7051000000</td>\n",
       "      <td>35605000000</td>\n",
       "      <td>52863000000</td>\n",
       "      <td>10297000000</td>\n",
       "      <td>12174000000</td>\n",
       "      <td>16796000000</td>\n",
       "      <td>168071000000</td>\n",
       "      <td>159206000000</td>\n",
       "      <td>55151000000</td>\n",
       "      <td>892479411</td>\n",
       "    </tr>\n",
       "    <tr>\n",
       "      <th>3</th>\n",
       "      <td>2017-12-31</td>\n",
       "      <td>USD</td>\n",
       "      <td>125356000000</td>\n",
       "      <td>49735000000</td>\n",
       "      <td>11972000000</td>\n",
       "      <td>12580000000</td>\n",
       "      <td>1583000000</td>\n",
       "      <td>31630000000</td>\n",
       "      <td>69446000000</td>\n",
       "      <td>11116000000</td>\n",
       "      <td>...</td>\n",
       "      <td>5214000000</td>\n",
       "      <td>39837000000</td>\n",
       "      <td>46825000000</td>\n",
       "      <td>12374000000</td>\n",
       "      <td>9965000000</td>\n",
       "      <td>17594000000</td>\n",
       "      <td>163507000000</td>\n",
       "      <td>153126000000</td>\n",
       "      <td>54566000000</td>\n",
       "      <td>922179225</td>\n",
       "    </tr>\n",
       "    <tr>\n",
       "      <th>4</th>\n",
       "      <td>2016-12-31</td>\n",
       "      <td>USD</td>\n",
       "      <td>117470000000</td>\n",
       "      <td>43888000000</td>\n",
       "      <td>7826000000</td>\n",
       "      <td>8527000000</td>\n",
       "      <td>1553000000</td>\n",
       "      <td>29245000000</td>\n",
       "      <td>66971000000</td>\n",
       "      <td>10830000000</td>\n",
       "      <td>...</td>\n",
       "      <td>6239000000</td>\n",
       "      <td>34655000000</td>\n",
       "      <td>42167000000</td>\n",
       "      <td>None</td>\n",
       "      <td>7477000000</td>\n",
       "      <td>18246000000</td>\n",
       "      <td>159050000000</td>\n",
       "      <td>152759000000</td>\n",
       "      <td>None</td>\n",
       "      <td>945867403</td>\n",
       "    </tr>\n",
       "  </tbody>\n",
       "</table>\n",
       "<p>5 rows × 38 columns</p>\n",
       "</div>"
      ],
      "text/plain": [
       "  fiscalDateEnding reportedCurrency   totalAssets totalCurrentAssets  \\\n",
       "0       2020-12-31              USD  155971000000        39165000000   \n",
       "1       2019-12-31              USD  152186000000        38420000000   \n",
       "2       2018-12-31              USD  123382000000        49146000000   \n",
       "3       2017-12-31              USD  125356000000        49735000000   \n",
       "4       2016-12-31              USD  117470000000        43888000000   \n",
       "\n",
       "  cashAndCashEquivalentsAtCarryingValue cashAndShortTermInvestments  \\\n",
       "0                           13212000000                 13812000000   \n",
       "1                            8172000000                  8868000000   \n",
       "2                           11379000000                 11997000000   \n",
       "3                           11972000000                 12580000000   \n",
       "4                            7826000000                  8527000000   \n",
       "\n",
       "    inventory currentNetReceivables totalNonCurrentAssets  \\\n",
       "0  1839000000           18738000000          115864000000   \n",
       "1  1619000000           23795000000          112878000000   \n",
       "2  1682000000           30563000000           68067000000   \n",
       "3  1583000000           31630000000           69446000000   \n",
       "4  1553000000           29245000000           66971000000   \n",
       "\n",
       "  propertyPlantEquipment  ... currentLongTermDebt longTermDebtNoncurrent  \\\n",
       "0            10040000000  ...          7053000000            54355000000   \n",
       "1            10010000000  ...          7522000000            54102000000   \n",
       "2            10792000000  ...          7051000000            35605000000   \n",
       "3            11116000000  ...          5214000000            39837000000   \n",
       "4            10830000000  ...          6239000000            34655000000   \n",
       "\n",
       "  shortLongTermDebtTotal otherCurrentLiabilities otherNonCurrentLiabilities  \\\n",
       "0           130178000000             13588000000                14897000000   \n",
       "1           132187000000             10602000000                14526000000   \n",
       "2            52863000000             10297000000                12174000000   \n",
       "3            46825000000             12374000000                 9965000000   \n",
       "4            42167000000                    None                 7477000000   \n",
       "\n",
       "  totalShareholderEquity treasuryStock retainedEarnings  commonStock  \\\n",
       "0            20597000000  169339000000     162717000000  56556000000   \n",
       "1            20841000000  169413000000     162954000000  55895000000   \n",
       "2            16796000000  168071000000     159206000000  55151000000   \n",
       "3            17594000000  163507000000     153126000000  54566000000   \n",
       "4            18246000000  159050000000     152759000000         None   \n",
       "\n",
       "  commonStockSharesOutstanding  \n",
       "0                    892653424  \n",
       "1                    887110455  \n",
       "2                    892479411  \n",
       "3                    922179225  \n",
       "4                    945867403  \n",
       "\n",
       "[5 rows x 38 columns]"
      ]
     },
     "execution_count": 4,
     "metadata": {},
     "output_type": "execute_result"
    }
   ],
   "source": [
    "df"
   ]
  }
 ],
 "metadata": {
  "kernelspec": {
   "display_name": "Python 3",
   "language": "python",
   "name": "python3"
  },
  "language_info": {
   "codemirror_mode": {
    "name": "ipython",
    "version": 3
   },
   "file_extension": ".py",
   "mimetype": "text/x-python",
   "name": "python",
   "nbconvert_exporter": "python",
   "pygments_lexer": "ipython3",
   "version": "3.8.8"
  },
  "papermill": {
   "default_parameters": {},
   "environment_variables": {},
   "parameters": {},
   "version": "2.3.3"
  },
  "widgets": {
   "application/vnd.jupyter.widget-state+json": {
    "state": {},
    "version_major": 2,
    "version_minor": 0
   }
  }
 },
 "nbformat": 4,
 "nbformat_minor": 5
}
