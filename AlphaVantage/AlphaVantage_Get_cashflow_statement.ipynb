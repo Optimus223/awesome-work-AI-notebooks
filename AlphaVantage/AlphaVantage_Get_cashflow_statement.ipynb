{
 "cells": [
  {
   "cell_type": "markdown",
   "id": "completed-compact",
   "metadata": {
    "execution": {
     "iopub.execute_input": "2021-02-23T14:07:40.156540Z",
     "iopub.status.busy": "2021-02-23T14:07:40.156186Z",
     "iopub.status.idle": "2021-02-23T14:07:40.169288Z",
     "shell.execute_reply": "2021-02-23T14:07:40.168472Z",
     "shell.execute_reply.started": "2021-02-23T14:07:40.156456Z"
    },
    "papermill": {},
    "tags": []
   },
   "source": [
    "<img width=\"10%\" alt=\"Naas\" src=\"https://landen.imgix.net/jtci2pxwjczr/assets/5ice39g4.png?w=160\"/>"
   ]
  },
  {
   "cell_type": "markdown",
   "id": "optimum-wrong",
   "metadata": {
    "papermill": {},
    "tags": []
   },
   "source": [
    "# AlphaVantage - Get balance sheet\n",
    "<a href=\"https://app.naas.ai/user-redirect/naas/downloader?url=https://raw.githubusercontent.com/jupyter-naas/awesome-notebooks/master/AlphaVantage/AlphaVantage_Get_fundamental_data.ipynb\" target=\"_parent\"><img src=\"https://naasai-public.s3.eu-west-3.amazonaws.com/open_in_naas.svg\"/></a>"
   ]
  },
  {
   "cell_type": "markdown",
   "id": "residential-cambridge",
   "metadata": {
    "papermill": {},
    "tags": []
   },
   "source": [
    "**Tags:** #trading #market_data"
   ]
  },
  {
   "cell_type": "markdown",
   "id": "57f07d61-294c-43a6-bc0b-a4f658114285",
   "metadata": {},
   "source": [
    "**Author:** [Florent Ravenel](https://www.linkedin.com/in/ACoAABCNSioBW3YZHc2lBHVG0E_TXYWitQkmwog/)"
   ]
  },
  {
   "cell_type": "markdown",
   "id": "c217570a-931f-4160-9a23-6a7f34003709",
   "metadata": {},
   "source": [
    "## Input"
   ]
  },
  {
   "cell_type": "markdown",
   "id": "a2f80aa6-87b7-4479-bc4d-cd98a14c4366",
   "metadata": {},
   "source": [
    "### Import libraries"
   ]
  },
  {
   "cell_type": "code",
   "execution_count": 1,
   "id": "f1bf16ca-be92-469c-8a19-20c669ddb865",
   "metadata": {
    "execution": {
     "iopub.execute_input": "2022-02-22T18:41:30.314822Z",
     "iopub.status.busy": "2022-02-22T18:41:30.310612Z",
     "iopub.status.idle": "2022-02-22T18:41:30.728015Z",
     "shell.execute_reply": "2022-02-22T18:41:30.727329Z",
     "shell.execute_reply.started": "2022-02-22T18:41:30.314754Z"
    },
    "tags": []
   },
   "outputs": [],
   "source": [
    "import requests\n",
    "import pandas as pd"
   ]
  },
  {
   "cell_type": "markdown",
   "id": "69e2fc46-4ea1-440a-9bac-635b453a164d",
   "metadata": {},
   "source": [
    "### Variables"
   ]
  },
  {
   "cell_type": "code",
   "execution_count": 2,
   "id": "2b79583f-db93-43db-8c97-ab7333d870a2",
   "metadata": {
    "execution": {
     "iopub.execute_input": "2022-02-22T18:41:30.731220Z",
     "iopub.status.busy": "2022-02-22T18:41:30.731026Z",
     "iopub.status.idle": "2022-02-22T18:41:30.735926Z",
     "shell.execute_reply": "2022-02-22T18:41:30.735368Z",
     "shell.execute_reply.started": "2022-02-22T18:41:30.731199Z"
    },
    "tags": []
   },
   "outputs": [],
   "source": [
    "API_KEY = \"demo\"\n",
    "COMPANY = \"IBM\""
   ]
  },
  {
   "cell_type": "markdown",
   "id": "383de97b-5103-44dd-b71b-e17102fd7b2b",
   "metadata": {},
   "source": [
    "## Model"
   ]
  },
  {
   "cell_type": "markdown",
   "id": "ff1747bf-9fb6-4b71-bfd2-cc677caea2ff",
   "metadata": {},
   "source": [
    "### Get cashflow statement"
   ]
  },
  {
   "cell_type": "code",
   "execution_count": 3,
   "id": "cloudy-command",
   "metadata": {
    "execution": {
     "iopub.execute_input": "2022-02-22T18:41:30.738111Z",
     "iopub.status.busy": "2022-02-22T18:41:30.737947Z",
     "iopub.status.idle": "2022-02-22T18:41:31.151748Z",
     "shell.execute_reply": "2022-02-22T18:41:31.151108Z",
     "shell.execute_reply.started": "2022-02-22T18:41:30.738093Z"
    },
    "papermill": {},
    "tags": []
   },
   "outputs": [],
   "source": [
    "response = requests.get(f'https://www.alphavantage.co/query?function=CASH_FLOW&symbol={COMPANY}&apikey={API_KEY}')\n",
    "data = response.json()\n",
    "df = pd.DataFrame(data.get(\"annualReports\"))"
   ]
  },
  {
   "cell_type": "markdown",
   "id": "4e945bb8-cacb-4f17-b1ca-b8cfc3d0147b",
   "metadata": {},
   "source": [
    "## Output"
   ]
  },
  {
   "cell_type": "markdown",
   "id": "acba0226-405d-4ac2-8c15-54f61dfc69c4",
   "metadata": {},
   "source": [
    "### Display result"
   ]
  },
  {
   "cell_type": "code",
   "execution_count": 4,
   "id": "34863d61-348e-4f74-9125-16d6d600dd18",
   "metadata": {
    "execution": {
     "iopub.execute_input": "2022-02-22T18:41:31.153109Z",
     "iopub.status.busy": "2022-02-22T18:41:31.152861Z",
     "iopub.status.idle": "2022-02-22T18:41:31.177137Z",
     "shell.execute_reply": "2022-02-22T18:41:31.176313Z",
     "shell.execute_reply.started": "2022-02-22T18:41:31.153078Z"
    },
    "tags": []
   },
   "outputs": [
    {
     "data": {
      "text/html": [
       "<div>\n",
       "<style scoped>\n",
       "    .dataframe tbody tr th:only-of-type {\n",
       "        vertical-align: middle;\n",
       "    }\n",
       "\n",
       "    .dataframe tbody tr th {\n",
       "        vertical-align: top;\n",
       "    }\n",
       "\n",
       "    .dataframe thead th {\n",
       "        text-align: right;\n",
       "    }\n",
       "</style>\n",
       "<table border=\"1\" class=\"dataframe\">\n",
       "  <thead>\n",
       "    <tr style=\"text-align: right;\">\n",
       "      <th></th>\n",
       "      <th>fiscalDateEnding</th>\n",
       "      <th>reportedCurrency</th>\n",
       "      <th>operatingCashflow</th>\n",
       "      <th>paymentsForOperatingActivities</th>\n",
       "      <th>proceedsFromOperatingActivities</th>\n",
       "      <th>changeInOperatingLiabilities</th>\n",
       "      <th>changeInOperatingAssets</th>\n",
       "      <th>depreciationDepletionAndAmortization</th>\n",
       "      <th>capitalExpenditures</th>\n",
       "      <th>changeInReceivables</th>\n",
       "      <th>...</th>\n",
       "      <th>dividendPayoutCommonStock</th>\n",
       "      <th>dividendPayoutPreferredStock</th>\n",
       "      <th>proceedsFromIssuanceOfCommonStock</th>\n",
       "      <th>proceedsFromIssuanceOfLongTermDebtAndCapitalSecuritiesNet</th>\n",
       "      <th>proceedsFromIssuanceOfPreferredStock</th>\n",
       "      <th>proceedsFromRepurchaseOfEquity</th>\n",
       "      <th>proceedsFromSaleOfTreasuryStock</th>\n",
       "      <th>changeInCashAndCashEquivalents</th>\n",
       "      <th>changeInExchangeRate</th>\n",
       "      <th>netIncome</th>\n",
       "    </tr>\n",
       "  </thead>\n",
       "  <tbody>\n",
       "    <tr>\n",
       "      <th>0</th>\n",
       "      <td>2020-12-31</td>\n",
       "      <td>USD</td>\n",
       "      <td>18197000000</td>\n",
       "      <td>3406000000</td>\n",
       "      <td>None</td>\n",
       "      <td>138000000</td>\n",
       "      <td>-5088000000</td>\n",
       "      <td>6695000000</td>\n",
       "      <td>2618000000</td>\n",
       "      <td>-5297000000</td>\n",
       "      <td>...</td>\n",
       "      <td>5797000000</td>\n",
       "      <td>None</td>\n",
       "      <td>None</td>\n",
       "      <td>10504000000</td>\n",
       "      <td>None</td>\n",
       "      <td>-302000000</td>\n",
       "      <td>None</td>\n",
       "      <td>5448000000</td>\n",
       "      <td>None</td>\n",
       "      <td>5590000000</td>\n",
       "    </tr>\n",
       "    <tr>\n",
       "      <th>1</th>\n",
       "      <td>2019-12-31</td>\n",
       "      <td>USD</td>\n",
       "      <td>14770000000</td>\n",
       "      <td>3234000000</td>\n",
       "      <td>None</td>\n",
       "      <td>-503000000</td>\n",
       "      <td>-569000000</td>\n",
       "      <td>6059000000</td>\n",
       "      <td>2286000000</td>\n",
       "      <td>-502000000</td>\n",
       "      <td>...</td>\n",
       "      <td>5707000000</td>\n",
       "      <td>None</td>\n",
       "      <td>None</td>\n",
       "      <td>31825000000</td>\n",
       "      <td>None</td>\n",
       "      <td>-1361000000</td>\n",
       "      <td>None</td>\n",
       "      <td>-3124000000</td>\n",
       "      <td>None</td>\n",
       "      <td>9431000000</td>\n",
       "    </tr>\n",
       "    <tr>\n",
       "      <th>2</th>\n",
       "      <td>2018-12-31</td>\n",
       "      <td>USD</td>\n",
       "      <td>15247000000</td>\n",
       "      <td>1423000000</td>\n",
       "      <td>None</td>\n",
       "      <td>126000000</td>\n",
       "      <td>-879000000</td>\n",
       "      <td>4480000000</td>\n",
       "      <td>3395000000</td>\n",
       "      <td>-1006000000</td>\n",
       "      <td>...</td>\n",
       "      <td>5666000000</td>\n",
       "      <td>None</td>\n",
       "      <td>None</td>\n",
       "      <td>6891000000</td>\n",
       "      <td>None</td>\n",
       "      <td>-4443000000</td>\n",
       "      <td>None</td>\n",
       "      <td>-135000000</td>\n",
       "      <td>None</td>\n",
       "      <td>8728000000</td>\n",
       "    </tr>\n",
       "    <tr>\n",
       "      <th>3</th>\n",
       "      <td>2017-12-31</td>\n",
       "      <td>USD</td>\n",
       "      <td>16724000000</td>\n",
       "      <td>1208000000</td>\n",
       "      <td>None</td>\n",
       "      <td>47000000</td>\n",
       "      <td>-1315000000</td>\n",
       "      <td>4541000000</td>\n",
       "      <td>3229000000</td>\n",
       "      <td>-1297000000</td>\n",
       "      <td>...</td>\n",
       "      <td>5506000000</td>\n",
       "      <td>None</td>\n",
       "      <td>None</td>\n",
       "      <td>9643000000</td>\n",
       "      <td>None</td>\n",
       "      <td>-4165000000</td>\n",
       "      <td>None</td>\n",
       "      <td>4146000000</td>\n",
       "      <td>937000000</td>\n",
       "      <td>5753000000</td>\n",
       "    </tr>\n",
       "    <tr>\n",
       "      <th>4</th>\n",
       "      <td>2016-12-31</td>\n",
       "      <td>USD</td>\n",
       "      <td>17084000000</td>\n",
       "      <td>1158000000</td>\n",
       "      <td>None</td>\n",
       "      <td>197000000</td>\n",
       "      <td>-698000000</td>\n",
       "      <td>4957000000</td>\n",
       "      <td>3567000000</td>\n",
       "      <td>-712000000</td>\n",
       "      <td>...</td>\n",
       "      <td>5256000000</td>\n",
       "      <td>None</td>\n",
       "      <td>None</td>\n",
       "      <td>9132000000</td>\n",
       "      <td>None</td>\n",
       "      <td>-3298000000</td>\n",
       "      <td>None</td>\n",
       "      <td>140000000</td>\n",
       "      <td>-51000000</td>\n",
       "      <td>11872000000</td>\n",
       "    </tr>\n",
       "  </tbody>\n",
       "</table>\n",
       "<p>5 rows × 29 columns</p>\n",
       "</div>"
      ],
      "text/plain": [
       "  fiscalDateEnding reportedCurrency operatingCashflow  \\\n",
       "0       2020-12-31              USD       18197000000   \n",
       "1       2019-12-31              USD       14770000000   \n",
       "2       2018-12-31              USD       15247000000   \n",
       "3       2017-12-31              USD       16724000000   \n",
       "4       2016-12-31              USD       17084000000   \n",
       "\n",
       "  paymentsForOperatingActivities proceedsFromOperatingActivities  \\\n",
       "0                     3406000000                            None   \n",
       "1                     3234000000                            None   \n",
       "2                     1423000000                            None   \n",
       "3                     1208000000                            None   \n",
       "4                     1158000000                            None   \n",
       "\n",
       "  changeInOperatingLiabilities changeInOperatingAssets  \\\n",
       "0                    138000000             -5088000000   \n",
       "1                   -503000000              -569000000   \n",
       "2                    126000000              -879000000   \n",
       "3                     47000000             -1315000000   \n",
       "4                    197000000              -698000000   \n",
       "\n",
       "  depreciationDepletionAndAmortization capitalExpenditures  \\\n",
       "0                           6695000000          2618000000   \n",
       "1                           6059000000          2286000000   \n",
       "2                           4480000000          3395000000   \n",
       "3                           4541000000          3229000000   \n",
       "4                           4957000000          3567000000   \n",
       "\n",
       "  changeInReceivables  ... dividendPayoutCommonStock  \\\n",
       "0         -5297000000  ...                5797000000   \n",
       "1          -502000000  ...                5707000000   \n",
       "2         -1006000000  ...                5666000000   \n",
       "3         -1297000000  ...                5506000000   \n",
       "4          -712000000  ...                5256000000   \n",
       "\n",
       "  dividendPayoutPreferredStock proceedsFromIssuanceOfCommonStock  \\\n",
       "0                         None                              None   \n",
       "1                         None                              None   \n",
       "2                         None                              None   \n",
       "3                         None                              None   \n",
       "4                         None                              None   \n",
       "\n",
       "  proceedsFromIssuanceOfLongTermDebtAndCapitalSecuritiesNet  \\\n",
       "0                                        10504000000          \n",
       "1                                        31825000000          \n",
       "2                                         6891000000          \n",
       "3                                         9643000000          \n",
       "4                                         9132000000          \n",
       "\n",
       "  proceedsFromIssuanceOfPreferredStock proceedsFromRepurchaseOfEquity  \\\n",
       "0                                 None                     -302000000   \n",
       "1                                 None                    -1361000000   \n",
       "2                                 None                    -4443000000   \n",
       "3                                 None                    -4165000000   \n",
       "4                                 None                    -3298000000   \n",
       "\n",
       "  proceedsFromSaleOfTreasuryStock changeInCashAndCashEquivalents  \\\n",
       "0                            None                     5448000000   \n",
       "1                            None                    -3124000000   \n",
       "2                            None                     -135000000   \n",
       "3                            None                     4146000000   \n",
       "4                            None                      140000000   \n",
       "\n",
       "  changeInExchangeRate    netIncome  \n",
       "0                 None   5590000000  \n",
       "1                 None   9431000000  \n",
       "2                 None   8728000000  \n",
       "3            937000000   5753000000  \n",
       "4            -51000000  11872000000  \n",
       "\n",
       "[5 rows x 29 columns]"
      ]
     },
     "execution_count": 4,
     "metadata": {},
     "output_type": "execute_result"
    }
   ],
   "source": [
    "df"
   ]
  }
 ],
 "metadata": {
  "kernelspec": {
   "display_name": "Python 3",
   "language": "python",
   "name": "python3"
  },
  "language_info": {
   "codemirror_mode": {
    "name": "ipython",
    "version": 3
   },
   "file_extension": ".py",
   "mimetype": "text/x-python",
   "name": "python",
   "nbconvert_exporter": "python",
   "pygments_lexer": "ipython3",
   "version": "3.8.8"
  },
  "papermill": {
   "default_parameters": {},
   "environment_variables": {},
   "parameters": {},
   "version": "2.3.3"
  },
  "widgets": {
   "application/vnd.jupyter.widget-state+json": {
    "state": {},
    "version_major": 2,
    "version_minor": 0
   }
  }
 },
 "nbformat": 4,
 "nbformat_minor": 5
}
