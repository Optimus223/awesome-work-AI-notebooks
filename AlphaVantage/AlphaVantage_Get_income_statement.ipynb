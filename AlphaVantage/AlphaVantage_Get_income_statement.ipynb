{
 "cells": [
  {
   "cell_type": "markdown",
   "id": "completed-compact",
   "metadata": {
    "execution": {
     "iopub.execute_input": "2021-02-23T14:07:40.156540Z",
     "iopub.status.busy": "2021-02-23T14:07:40.156186Z",
     "iopub.status.idle": "2021-02-23T14:07:40.169288Z",
     "shell.execute_reply": "2021-02-23T14:07:40.168472Z",
     "shell.execute_reply.started": "2021-02-23T14:07:40.156456Z"
    },
    "papermill": {},
    "tags": []
   },
   "source": [
    "<img width=\"10%\" alt=\"Naas\" src=\"https://landen.imgix.net/jtci2pxwjczr/assets/5ice39g4.png?w=160\"/>"
   ]
  },
  {
   "cell_type": "markdown",
   "id": "optimum-wrong",
   "metadata": {
    "papermill": {},
    "tags": []
   },
   "source": [
    "# AlphaVantage - Get income statement\n",
    "<a href=\"https://app.naas.ai/user-redirect/naas/downloader?url=https://raw.githubusercontent.com/jupyter-naas/awesome-notebooks/master/AlphaVantage/AlphaVantage_Get_fundamental_data.ipynb\" target=\"_parent\"><img src=\"https://naasai-public.s3.eu-west-3.amazonaws.com/open_in_naas.svg\"/></a>"
   ]
  },
  {
   "cell_type": "markdown",
   "id": "residential-cambridge",
   "metadata": {
    "papermill": {},
    "tags": []
   },
   "source": [
    "**Tags:** #trading #market_data"
   ]
  },
  {
   "cell_type": "markdown",
   "id": "57f07d61-294c-43a6-bc0b-a4f658114285",
   "metadata": {},
   "source": [
    "**Author:** [Florent Ravenel](https://www.linkedin.com/in/ACoAABCNSioBW3YZHc2lBHVG0E_TXYWitQkmwog/)"
   ]
  },
  {
   "cell_type": "markdown",
   "id": "c217570a-931f-4160-9a23-6a7f34003709",
   "metadata": {},
   "source": [
    "## Input"
   ]
  },
  {
   "cell_type": "markdown",
   "id": "a2f80aa6-87b7-4479-bc4d-cd98a14c4366",
   "metadata": {},
   "source": [
    "### Import libraries"
   ]
  },
  {
   "cell_type": "code",
   "execution_count": 1,
   "id": "f1bf16ca-be92-469c-8a19-20c669ddb865",
   "metadata": {
    "execution": {
     "iopub.execute_input": "2022-02-22T18:37:04.287167Z",
     "iopub.status.busy": "2022-02-22T18:37:04.286730Z",
     "iopub.status.idle": "2022-02-22T18:37:04.636001Z",
     "shell.execute_reply": "2022-02-22T18:37:04.635344Z",
     "shell.execute_reply.started": "2022-02-22T18:37:04.287094Z"
    },
    "tags": []
   },
   "outputs": [],
   "source": [
    "import requests\n",
    "import pandas as pd"
   ]
  },
  {
   "cell_type": "markdown",
   "id": "69e2fc46-4ea1-440a-9bac-635b453a164d",
   "metadata": {},
   "source": [
    "### Variables"
   ]
  },
  {
   "cell_type": "code",
   "execution_count": 2,
   "id": "2b79583f-db93-43db-8c97-ab7333d870a2",
   "metadata": {
    "execution": {
     "iopub.execute_input": "2022-02-22T18:37:04.637252Z",
     "iopub.status.busy": "2022-02-22T18:37:04.637030Z",
     "iopub.status.idle": "2022-02-22T18:37:04.641742Z",
     "shell.execute_reply": "2022-02-22T18:37:04.641261Z",
     "shell.execute_reply.started": "2022-02-22T18:37:04.637225Z"
    },
    "tags": []
   },
   "outputs": [],
   "source": [
    "API_KEY = \"demo\"\n",
    "COMPANY = \"IBM\""
   ]
  },
  {
   "cell_type": "markdown",
   "id": "383de97b-5103-44dd-b71b-e17102fd7b2b",
   "metadata": {},
   "source": [
    "## Model"
   ]
  },
  {
   "cell_type": "markdown",
   "id": "ff1747bf-9fb6-4b71-bfd2-cc677caea2ff",
   "metadata": {},
   "source": [
    "### Get income statement"
   ]
  },
  {
   "cell_type": "code",
   "execution_count": 6,
   "id": "cloudy-command",
   "metadata": {
    "execution": {
     "iopub.execute_input": "2022-02-22T18:38:00.333137Z",
     "iopub.status.busy": "2022-02-22T18:38:00.330947Z",
     "iopub.status.idle": "2022-02-22T18:38:00.576880Z",
     "shell.execute_reply": "2022-02-22T18:38:00.576310Z",
     "shell.execute_reply.started": "2022-02-22T18:38:00.333099Z"
    },
    "papermill": {},
    "tags": []
   },
   "outputs": [],
   "source": [
    "response = requests.get(f'https://www.alphavantage.co/query?function=INCOME_STATEMENT&symbol={COMPANY}&apikey={API_KEY}')\n",
    "data = response.json()\n",
    "df = pd.DataFrame(data.get(\"annualReports\"))"
   ]
  },
  {
   "cell_type": "markdown",
   "id": "4e945bb8-cacb-4f17-b1ca-b8cfc3d0147b",
   "metadata": {},
   "source": [
    "## Output"
   ]
  },
  {
   "cell_type": "markdown",
   "id": "acba0226-405d-4ac2-8c15-54f61dfc69c4",
   "metadata": {},
   "source": [
    "### Display result"
   ]
  },
  {
   "cell_type": "code",
   "execution_count": 7,
   "id": "34863d61-348e-4f74-9125-16d6d600dd18",
   "metadata": {
    "execution": {
     "iopub.execute_input": "2022-02-22T18:38:01.580175Z",
     "iopub.status.busy": "2022-02-22T18:38:01.579948Z",
     "iopub.status.idle": "2022-02-22T18:38:01.600242Z",
     "shell.execute_reply": "2022-02-22T18:38:01.599678Z",
     "shell.execute_reply.started": "2022-02-22T18:38:01.580152Z"
    },
    "tags": []
   },
   "outputs": [
    {
     "data": {
      "text/html": [
       "<div>\n",
       "<style scoped>\n",
       "    .dataframe tbody tr th:only-of-type {\n",
       "        vertical-align: middle;\n",
       "    }\n",
       "\n",
       "    .dataframe tbody tr th {\n",
       "        vertical-align: top;\n",
       "    }\n",
       "\n",
       "    .dataframe thead th {\n",
       "        text-align: right;\n",
       "    }\n",
       "</style>\n",
       "<table border=\"1\" class=\"dataframe\">\n",
       "  <thead>\n",
       "    <tr style=\"text-align: right;\">\n",
       "      <th></th>\n",
       "      <th>fiscalDateEnding</th>\n",
       "      <th>reportedCurrency</th>\n",
       "      <th>grossProfit</th>\n",
       "      <th>totalRevenue</th>\n",
       "      <th>costOfRevenue</th>\n",
       "      <th>costofGoodsAndServicesSold</th>\n",
       "      <th>operatingIncome</th>\n",
       "      <th>sellingGeneralAndAdministrative</th>\n",
       "      <th>researchAndDevelopment</th>\n",
       "      <th>operatingExpenses</th>\n",
       "      <th>...</th>\n",
       "      <th>depreciation</th>\n",
       "      <th>depreciationAndAmortization</th>\n",
       "      <th>incomeBeforeTax</th>\n",
       "      <th>incomeTaxExpense</th>\n",
       "      <th>interestAndDebtExpense</th>\n",
       "      <th>netIncomeFromContinuingOperations</th>\n",
       "      <th>comprehensiveIncomeNetOfTax</th>\n",
       "      <th>ebit</th>\n",
       "      <th>ebitda</th>\n",
       "      <th>netIncome</th>\n",
       "    </tr>\n",
       "  </thead>\n",
       "  <tbody>\n",
       "    <tr>\n",
       "      <th>0</th>\n",
       "      <td>2020-12-31</td>\n",
       "      <td>USD</td>\n",
       "      <td>35575000000</td>\n",
       "      <td>73620000000</td>\n",
       "      <td>38046000000</td>\n",
       "      <td>439000000</td>\n",
       "      <td>4609000000</td>\n",
       "      <td>23082000000</td>\n",
       "      <td>6333000000</td>\n",
       "      <td>30966000000</td>\n",
       "      <td>...</td>\n",
       "      <td>4227000000</td>\n",
       "      <td>2468000000</td>\n",
       "      <td>4726000000</td>\n",
       "      <td>-864000000</td>\n",
       "      <td>1288000000</td>\n",
       "      <td>5501000000</td>\n",
       "      <td>4850000000</td>\n",
       "      <td>6014000000</td>\n",
       "      <td>8482000000</td>\n",
       "      <td>5590000000</td>\n",
       "    </tr>\n",
       "    <tr>\n",
       "      <th>1</th>\n",
       "      <td>2019-12-31</td>\n",
       "      <td>USD</td>\n",
       "      <td>36488000000</td>\n",
       "      <td>77147000000</td>\n",
       "      <td>40659000000</td>\n",
       "      <td>591000000</td>\n",
       "      <td>9004000000</td>\n",
       "      <td>20604000000</td>\n",
       "      <td>5989000000</td>\n",
       "      <td>27484000000</td>\n",
       "      <td>...</td>\n",
       "      <td>4209000000</td>\n",
       "      <td>1850000000</td>\n",
       "      <td>10162000000</td>\n",
       "      <td>731000000</td>\n",
       "      <td>1344000000</td>\n",
       "      <td>9435000000</td>\n",
       "      <td>10324000000</td>\n",
       "      <td>11506000000</td>\n",
       "      <td>13356000000</td>\n",
       "      <td>9431000000</td>\n",
       "    </tr>\n",
       "    <tr>\n",
       "      <th>2</th>\n",
       "      <td>2018-12-31</td>\n",
       "      <td>USD</td>\n",
       "      <td>36936000000</td>\n",
       "      <td>79591000000</td>\n",
       "      <td>42655000000</td>\n",
       "      <td>42655000000</td>\n",
       "      <td>10838000000</td>\n",
       "      <td>19366000000</td>\n",
       "      <td>5379000000</td>\n",
       "      <td>26098000000</td>\n",
       "      <td>...</td>\n",
       "      <td>3127000000</td>\n",
       "      <td>1353000000</td>\n",
       "      <td>11347000000</td>\n",
       "      <td>2619000000</td>\n",
       "      <td>723000000</td>\n",
       "      <td>8723000000</td>\n",
       "      <td>8252000000</td>\n",
       "      <td>12070000000</td>\n",
       "      <td>13423000000</td>\n",
       "      <td>8728000000</td>\n",
       "    </tr>\n",
       "    <tr>\n",
       "      <th>3</th>\n",
       "      <td>2017-12-31</td>\n",
       "      <td>USD</td>\n",
       "      <td>36943000000</td>\n",
       "      <td>79139000000</td>\n",
       "      <td>42196000000</td>\n",
       "      <td>41703000000</td>\n",
       "      <td>8813000000</td>\n",
       "      <td>19680000000</td>\n",
       "      <td>5590000000</td>\n",
       "      <td>27414000000</td>\n",
       "      <td>...</td>\n",
       "      <td>3021000000</td>\n",
       "      <td>1520000000</td>\n",
       "      <td>11395000000</td>\n",
       "      <td>5642000000</td>\n",
       "      <td>615000000</td>\n",
       "      <td>5758000000</td>\n",
       "      <td>8559000000</td>\n",
       "      <td>12010000000</td>\n",
       "      <td>13530000000</td>\n",
       "      <td>5753000000</td>\n",
       "    </tr>\n",
       "    <tr>\n",
       "      <th>4</th>\n",
       "      <td>2016-12-31</td>\n",
       "      <td>USD</td>\n",
       "      <td>38516000000</td>\n",
       "      <td>79919000000</td>\n",
       "      <td>41403000000</td>\n",
       "      <td>40580000000</td>\n",
       "      <td>9715000000</td>\n",
       "      <td>20869000000</td>\n",
       "      <td>5726000000</td>\n",
       "      <td>28579000000</td>\n",
       "      <td>...</td>\n",
       "      <td>2837000000</td>\n",
       "      <td>1544000000</td>\n",
       "      <td>12321000000</td>\n",
       "      <td>449000000</td>\n",
       "      <td>630000000</td>\n",
       "      <td>11881000000</td>\n",
       "      <td>12081000000</td>\n",
       "      <td>12951000000</td>\n",
       "      <td>14495000000</td>\n",
       "      <td>11872000000</td>\n",
       "    </tr>\n",
       "  </tbody>\n",
       "</table>\n",
       "<p>5 rows × 26 columns</p>\n",
       "</div>"
      ],
      "text/plain": [
       "  fiscalDateEnding reportedCurrency  grossProfit totalRevenue costOfRevenue  \\\n",
       "0       2020-12-31              USD  35575000000  73620000000   38046000000   \n",
       "1       2019-12-31              USD  36488000000  77147000000   40659000000   \n",
       "2       2018-12-31              USD  36936000000  79591000000   42655000000   \n",
       "3       2017-12-31              USD  36943000000  79139000000   42196000000   \n",
       "4       2016-12-31              USD  38516000000  79919000000   41403000000   \n",
       "\n",
       "  costofGoodsAndServicesSold operatingIncome sellingGeneralAndAdministrative  \\\n",
       "0                  439000000      4609000000                     23082000000   \n",
       "1                  591000000      9004000000                     20604000000   \n",
       "2                42655000000     10838000000                     19366000000   \n",
       "3                41703000000      8813000000                     19680000000   \n",
       "4                40580000000      9715000000                     20869000000   \n",
       "\n",
       "  researchAndDevelopment operatingExpenses  ... depreciation  \\\n",
       "0             6333000000       30966000000  ...   4227000000   \n",
       "1             5989000000       27484000000  ...   4209000000   \n",
       "2             5379000000       26098000000  ...   3127000000   \n",
       "3             5590000000       27414000000  ...   3021000000   \n",
       "4             5726000000       28579000000  ...   2837000000   \n",
       "\n",
       "  depreciationAndAmortization incomeBeforeTax incomeTaxExpense  \\\n",
       "0                  2468000000      4726000000       -864000000   \n",
       "1                  1850000000     10162000000        731000000   \n",
       "2                  1353000000     11347000000       2619000000   \n",
       "3                  1520000000     11395000000       5642000000   \n",
       "4                  1544000000     12321000000        449000000   \n",
       "\n",
       "  interestAndDebtExpense netIncomeFromContinuingOperations  \\\n",
       "0             1288000000                        5501000000   \n",
       "1             1344000000                        9435000000   \n",
       "2              723000000                        8723000000   \n",
       "3              615000000                        5758000000   \n",
       "4              630000000                       11881000000   \n",
       "\n",
       "  comprehensiveIncomeNetOfTax         ebit       ebitda    netIncome  \n",
       "0                  4850000000   6014000000   8482000000   5590000000  \n",
       "1                 10324000000  11506000000  13356000000   9431000000  \n",
       "2                  8252000000  12070000000  13423000000   8728000000  \n",
       "3                  8559000000  12010000000  13530000000   5753000000  \n",
       "4                 12081000000  12951000000  14495000000  11872000000  \n",
       "\n",
       "[5 rows x 26 columns]"
      ]
     },
     "execution_count": 7,
     "metadata": {},
     "output_type": "execute_result"
    }
   ],
   "source": [
    "df"
   ]
  }
 ],
 "metadata": {
  "kernelspec": {
   "display_name": "Python 3",
   "language": "python",
   "name": "python3"
  },
  "language_info": {
   "codemirror_mode": {
    "name": "ipython",
    "version": 3
   },
   "file_extension": ".py",
   "mimetype": "text/x-python",
   "name": "python",
   "nbconvert_exporter": "python",
   "pygments_lexer": "ipython3",
   "version": "3.8.8"
  },
  "papermill": {
   "default_parameters": {},
   "environment_variables": {},
   "parameters": {},
   "version": "2.3.3"
  },
  "widgets": {
   "application/vnd.jupyter.widget-state+json": {
    "state": {},
    "version_major": 2,
    "version_minor": 0
   }
  }
 },
 "nbformat": 4,
 "nbformat_minor": 5
}
