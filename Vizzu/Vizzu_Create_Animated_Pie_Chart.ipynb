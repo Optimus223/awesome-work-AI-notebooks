{
 "cells": [
  {
   "cell_type": "markdown",
   "id": "e0a1af3b-538c-403c-97d8-243adc487fd9",
   "metadata": {
    "papermill": {},
    "tags": []
   },
   "source": [
    "<img width=\"10%\" alt=\"Naas\" src=\"https://landen.imgix.net/jtci2pxwjczr/assets/5ice39g4.png?w=160\"/>"
   ]
  },
  {
   "cell_type": "markdown",
   "id": "2c2c6eca-00ec-4adb-8e68-aa974df725a3",
   "metadata": {
    "papermill": {},
    "tags": []
   },
   "source": [
    "# Vizzu - Create Animated Pie Chart"
   ]
  },
  {
   "cell_type": "markdown",
   "id": "ba8c1fac-58af-4a89-9029-136108ddb35a",
   "metadata": {
    "papermill": {},
    "tags": []
   },
   "source": [
    "**Tags:** #vizzu #animation #piechart #data #visualization #python"
   ]
  },
  {
   "cell_type": "markdown",
   "id": "c8aacabb-acf7-4faf-80e5-a5f55ae5b1be",
   "metadata": {
    "papermill": {},
    "tags": []
   },
   "source": [
    "**Author:** [Alexandre Petit](https://www.linkedin.com/in/alexandre-petit-24a87a219/)"
   ]
  },
  {
   "cell_type": "markdown",
   "id": "0b946466-074d-4725-968d-cebee18d185a",
   "metadata": {
    "papermill": {},
    "tags": []
   },
   "source": [
    "**Description:** This notebook will show how to create an animated pie chart with Vizzu. It is usefull for organizations to visualize data in an interactive way."
   ]
  },
  {
   "cell_type": "markdown",
   "id": "99f39c30-cd04-468c-bd36-427b484f2dcc",
   "metadata": {
    "papermill": {},
    "tags": []
   },
   "source": [
    "**References:**\n- [Vizzu Documentation](https://vizzu.io/docs/getting-started/introduction)\n- [Vizzu Tutorials](https://vizzu.io/tutorials)"
   ]
  },
  {
   "cell_type": "markdown",
   "id": "82d736b3-cf25-4076-a4e4-00c3c0d26cfd",
   "metadata": {
    "papermill": {},
    "tags": []
   },
   "source": [
    "## Input"
   ]
  },
  {
   "cell_type": "markdown",
   "id": "de8061a1-9d61-4083-9617-eb414e975b23",
   "metadata": {
    "papermill": {},
    "tags": []
   },
   "source": [
    "### Import libraries"
   ]
  },
  {
   "cell_type": "code",
   "execution_count": null,
   "id": "d32c6f35-3aa1-46dc-96ae-9a599601d1f7",
   "metadata": {
    "papermill": {},
    "tags": []
   },
   "source": "import vizzu",
   "outputs": []
  },
  {
   "cell_type": "markdown",
   "id": "55dcfc09-627d-4300-85a1-4c1864a94dad",
   "metadata": {
    "papermill": {},
    "tags": []
   },
   "source": [
    "### Setup Variables\n- `data`: dataset to be used for the pie chart"
   ]
  },
  {
   "cell_type": "code",
   "execution_count": null,
   "id": "61edbb5a-ae69-48f2-b27f-06db8a267b47",
   "metadata": {
    "papermill": {},
    "tags": []
   },
   "source": "data = [\n    {\"name\": \"A\", \"value\": 10},\n    {\"name\": \"B\", \"value\": 20},\n    {\"name\": \"C\", \"value\": 30},\n    {\"name\": \"D\", \"value\": 40},\n]",
   "outputs": []
  },
  {
   "cell_type": "markdown",
   "id": "cff8e1ed-37f2-4d2e-9a98-108fd4189e06",
   "metadata": {
    "papermill": {},
    "tags": []
   },
   "source": [
    "## Model"
   ]
  },
  {
   "cell_type": "markdown",
   "id": "18537a16-29d4-4a77-9fb9-65a05395e014",
   "metadata": {
    "papermill": {},
    "tags": []
   },
   "source": [
    "### Create Animated Pie Chart"
   ]
  },
  {
   "cell_type": "markdown",
   "id": "0b7acfc3-1f04-428a-bbd7-07f381d6fc35",
   "metadata": {
    "papermill": {},
    "tags": []
   },
   "source": [
    "This function will create an animated pie chart with Vizzu."
   ]
  },
  {
   "cell_type": "code",
   "execution_count": null,
   "id": "a283c270-16fe-409c-990d-ed37087d5ef9",
   "metadata": {
    "papermill": {},
    "tags": []
   },
   "source": "vizzu.pie_chart(data, animate=True)",
   "outputs": []
  },
  {
   "cell_type": "markdown",
   "id": "56779adc-7e0c-4fe1-99dd-35d198c651e4",
   "metadata": {
    "papermill": {},
    "tags": []
   },
   "source": [
    "## Output"
   ]
  },
  {
   "cell_type": "markdown",
   "id": "50992b7a-d9b0-4f86-906f-37e4fe081466",
   "metadata": {
    "papermill": {},
    "tags": []
   },
   "source": [
    "### Display result"
   ]
  },
  {
   "cell_type": "code",
   "execution_count": null,
   "id": "5dba287e-6ef8-4a22-b0cb-6e320dc98a10",
   "metadata": {
    "papermill": {},
    "tags": []
   },
   "source": "vizzu.show()",
   "outputs": []
  },
  {
   "cell_type": "markdown",
   "id": "7a01fde3-30d1-4c18-becd-64cf90d6ae53",
   "metadata": {
    "papermill": {},
    "tags": []
   },
   "source": [
    " "
   ]
  }
 ],
 "metadata": {
  "kernelspec": {
   "display_name": "Python 3",
   "language": "python",
   "name": "python3"
  },
  "language_info": {
   "codemirror_mode": {
    "name": "ipython",
    "version": 3
   },
   "file_extension": ".py",
   "mimetype": "text/x-python",
   "name": "python",
   "nbconvert_exporter": "python",
   "pygments_lexer": "ipython3",
   "version": "3.9.6"
  },
  "widgets": {
   "application/vnd.jupyter.widget-state+json": {
    "state": {},
    "version_major": 2,
    "version_minor": 0
   }
  }
 },
 "nbformat": 4,
 "nbformat_minor": 5
}