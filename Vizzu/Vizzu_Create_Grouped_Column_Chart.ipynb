{
 "cells": [
  {
   "cell_type": "markdown",
   "id": "latin-packing",
   "metadata": {
    "execution": {
     "iopub.execute_input": "2021-02-23T14:22:16.610471Z",
     "iopub.status.busy": "2021-02-23T14:22:16.610129Z",
     "iopub.status.idle": "2021-02-23T14:22:16.627784Z",
     "shell.execute_reply": "2021-02-23T14:22:16.626866Z",
     "shell.execute_reply.started": "2021-02-23T14:22:16.610384Z"
    },
    "papermill": {},
    "tags": []
   },
   "source": [
    "<img width=\"10%\" alt=\"Naas\" src=\"https://landen.imgix.net/jtci2pxwjczr/assets/5ice39g4.png?w=160\"/>"
   ]
  },
  {
   "cell_type": "markdown",
   "id": "compressed-wilson",
   "metadata": {
    "papermill": {},
    "tags": []
   },
   "source": [
    "# Vizzu - Create Grouped Column Chart\n",
    "<a href=\"https://app.naas.ai/user-redirect/naas/downloader?url=https://raw.githubusercontent.com/jupyter-naas/awesome-notebooks/master/template.ipynb\" target=\"_parent\">\n",
    "<img src=\"https://naasai-public.s3.eu-west-3.amazonaws.com/open_in_naas.svg\"/>\n",
    "</a><br><br><a href=\"https://github.com/jupyter-naas/awesome-notebooks/issues/new?assignees=&labels=&template=template-request.md&title=Tool+-+Action+of+the+notebook+\">Template request</a> | <a href=\"https://github.com/jupyter-naas/awesome-notebooks/issues/new?assignees=&labels=&template=bug_report.md&title=[ERROR]+Tool+/+Folder+Action+of+the+notebook+\">Bug report</a>"
   ]
  },
  {
   "cell_type": "markdown",
   "id": "religious-programmer",
   "metadata": {},
   "source": [
    "**Tags:** #analytics #dataviz #chart #graph #groupedbarchart"
   ]
  },
  {
   "cell_type": "markdown",
   "id": "1fe9f56e-561c-4f52-aef8-b861c9462107",
   "metadata": {},
   "source": [
    "**Author:** [Jeremy Ravenel](https://www.linkedin.com/in/jeremyravenel/)"
   ]
  },
  {
   "cell_type": "markdown",
   "id": "31ea7cdb-e10d-43fc-b026-f69249a59736",
   "metadata": {},
   "source": [
    "**Description:** This notebook template on Vizzu is designed to help users create visually appealing grouped column charts. Vizzu is a powerful data visualization tool that allows users to easily create interactive and engaging charts and graphs"
   ]
  },
  {
   "cell_type": "markdown",
   "id": "2f75f50f-01dc-4edb-b6e3-8ff538e3e94e",
   "metadata": {
    "execution": {
     "iopub.execute_input": "2023-04-01T12:31:33.717851Z",
     "iopub.status.busy": "2023-04-01T12:31:33.717619Z",
     "iopub.status.idle": "2023-04-01T12:31:33.727861Z",
     "shell.execute_reply": "2023-04-01T12:31:33.726798Z",
     "shell.execute_reply.started": "2023-04-01T12:31:33.717828Z"
    },
    "tags": []
   },
   "source": [
    "**References:**\n",
    "- [Vizzu Documentation](https://ipyvizzu.vizzuhq.com/latest/examples/)"
   ]
  },
  {
   "cell_type": "markdown",
   "id": "distinguished-truth",
   "metadata": {
    "papermill": {},
    "tags": []
   },
   "source": [
    "## Input"
   ]
  },
  {
   "cell_type": "markdown",
   "id": "numeric-mediterranean",
   "metadata": {},
   "source": [
    "### Import libraries"
   ]
  },
  {
   "cell_type": "code",
   "execution_count": 1,
   "id": "potential-surfing",
   "metadata": {
    "execution": {
     "iopub.execute_input": "2023-04-01T12:17:57.210780Z",
     "iopub.status.busy": "2023-04-01T12:17:57.210426Z",
     "iopub.status.idle": "2023-04-01T12:17:59.635931Z",
     "shell.execute_reply": "2023-04-01T12:17:59.635126Z",
     "shell.execute_reply.started": "2023-04-01T12:17:57.210690Z"
    },
    "tags": []
   },
   "outputs": [],
   "source": [
    "import naas\n",
    "import pandas as pd\n",
    "try:\n",
    "    from ipyvizzu import Chart, Data, Config, Style\n",
    "except:\n",
    "    !pip install ipyvizzu --user\n",
    "    from ipyvizzu import Chart, Data, Config, Style"
   ]
  },
  {
   "cell_type": "markdown",
   "id": "aggressive-trustee",
   "metadata": {},
   "source": [
    "### Setup variables\n",
    "- `file_path`: CSV file with the data\n",
    "- `title`: title of the chart\n",
    "- `label`: label to be set (x axis)\n",
    "- `value`: value to be set (y axis)\n",
    "- `html_output`: HTML output path"
   ]
  },
  {
   "cell_type": "code",
   "execution_count": 2,
   "id": "40b3e1db-1664-4719-8100-40b7c063b51c",
   "metadata": {
    "execution": {
     "iopub.execute_input": "2023-04-01T12:18:00.530172Z",
     "iopub.status.busy": "2023-04-01T12:18:00.529937Z",
     "iopub.status.idle": "2023-04-01T12:18:00.534100Z",
     "shell.execute_reply": "2023-04-01T12:18:00.533355Z",
     "shell.execute_reply.started": "2023-04-01T12:18:00.530148Z"
    },
    "tags": []
   },
   "outputs": [],
   "source": [
    "# Inputs\n",
    "file_path = \"https://ipyvizzu.vizzuhq.com/0.15/assets/data/chart_types_eu_data_6.csv\"\n",
    "title = \"Grouped Column Chart\"\n",
    "x_axis = \"Country\"\n",
    "y_axis = \"Value 5 (+/-)\"\n",
    "groupedBy = \"Joy factors\"\n",
    "\n",
    "# Outputs\n",
    "html_output = \"Vizzu_Create_Grouped_Column_Chart.html\""
   ]
  },
  {
   "cell_type": "code",
   "execution_count": 3,
   "id": "continuous-melbourne",
   "metadata": {
    "execution": {
     "iopub.execute_input": "2023-04-01T12:18:01.470801Z",
     "iopub.status.busy": "2023-04-01T12:18:01.470566Z",
     "iopub.status.idle": "2023-04-01T12:18:01.672932Z",
     "shell.execute_reply": "2023-04-01T12:18:01.671881Z",
     "shell.execute_reply.started": "2023-04-01T12:18:01.470777Z"
    },
    "tags": []
   },
   "outputs": [
    {
     "data": {
      "text/html": [
       "<div>\n",
       "<style scoped>\n",
       "    .dataframe tbody tr th:only-of-type {\n",
       "        vertical-align: middle;\n",
       "    }\n",
       "\n",
       "    .dataframe tbody tr th {\n",
       "        vertical-align: top;\n",
       "    }\n",
       "\n",
       "    .dataframe thead th {\n",
       "        text-align: right;\n",
       "    }\n",
       "</style>\n",
       "<table border=\"1\" class=\"dataframe\">\n",
       "  <thead>\n",
       "    <tr style=\"text-align: right;\">\n",
       "      <th></th>\n",
       "      <th>Country_code</th>\n",
       "      <th>Country</th>\n",
       "      <th>Joy factors</th>\n",
       "      <th>Year</th>\n",
       "      <th>Value 2 (+)</th>\n",
       "      <th>Value 1 (+)</th>\n",
       "      <th>Value 3 (+)</th>\n",
       "      <th>Value 5 (+/-)</th>\n",
       "      <th>Value 4 (+/-)</th>\n",
       "      <th>Value 6 (+/-)</th>\n",
       "      <th>index</th>\n",
       "    </tr>\n",
       "  </thead>\n",
       "  <tbody>\n",
       "    <tr>\n",
       "      <th>0</th>\n",
       "      <td>AT</td>\n",
       "      <td>Austria</td>\n",
       "      <td>Happiness</td>\n",
       "      <td>01</td>\n",
       "      <td>6</td>\n",
       "      <td>0.1122</td>\n",
       "      <td>8223696</td>\n",
       "      <td>-6</td>\n",
       "      <td>-0.1122</td>\n",
       "      <td>8223696</td>\n",
       "      <td>1</td>\n",
       "    </tr>\n",
       "    <tr>\n",
       "      <th>1</th>\n",
       "      <td>AT</td>\n",
       "      <td>Austria</td>\n",
       "      <td>Happiness</td>\n",
       "      <td>02</td>\n",
       "      <td>8</td>\n",
       "      <td>0.0918</td>\n",
       "      <td>64573220</td>\n",
       "      <td>-8</td>\n",
       "      <td>-0.0918</td>\n",
       "      <td>-64573220</td>\n",
       "      <td>1</td>\n",
       "    </tr>\n",
       "    <tr>\n",
       "      <th>2</th>\n",
       "      <td>AT</td>\n",
       "      <td>Austria</td>\n",
       "      <td>Happiness</td>\n",
       "      <td>03</td>\n",
       "      <td>16</td>\n",
       "      <td>0.0918</td>\n",
       "      <td>82882182</td>\n",
       "      <td>-16</td>\n",
       "      <td>0.0918</td>\n",
       "      <td>82882182</td>\n",
       "      <td>1</td>\n",
       "    </tr>\n",
       "    <tr>\n",
       "      <th>3</th>\n",
       "      <td>AT</td>\n",
       "      <td>Austria</td>\n",
       "      <td>Happiness</td>\n",
       "      <td>04</td>\n",
       "      <td>17</td>\n",
       "      <td>0.0969</td>\n",
       "      <td>94046233</td>\n",
       "      <td>17</td>\n",
       "      <td>-0.0969</td>\n",
       "      <td>-94046233</td>\n",
       "      <td>1</td>\n",
       "    </tr>\n",
       "    <tr>\n",
       "      <th>4</th>\n",
       "      <td>AT</td>\n",
       "      <td>Austria</td>\n",
       "      <td>Happiness</td>\n",
       "      <td>05</td>\n",
       "      <td>8</td>\n",
       "      <td>0.0918</td>\n",
       "      <td>3760493</td>\n",
       "      <td>8</td>\n",
       "      <td>0.0918</td>\n",
       "      <td>3760493</td>\n",
       "      <td>1</td>\n",
       "    </tr>\n",
       "    <tr>\n",
       "      <th>...</th>\n",
       "      <td>...</td>\n",
       "      <td>...</td>\n",
       "      <td>...</td>\n",
       "      <td>...</td>\n",
       "      <td>...</td>\n",
       "      <td>...</td>\n",
       "      <td>...</td>\n",
       "      <td>...</td>\n",
       "      <td>...</td>\n",
       "      <td>...</td>\n",
       "      <td>...</td>\n",
       "    </tr>\n",
       "    <tr>\n",
       "      <th>499</th>\n",
       "      <td>DK</td>\n",
       "      <td>Denmark</td>\n",
       "      <td>Love</td>\n",
       "      <td>17</td>\n",
       "      <td>12</td>\n",
       "      <td>0.3093</td>\n",
       "      <td>82234135</td>\n",
       "      <td>-12</td>\n",
       "      <td>0.3093</td>\n",
       "      <td>82234135</td>\n",
       "      <td>1</td>\n",
       "    </tr>\n",
       "    <tr>\n",
       "      <th>500</th>\n",
       "      <td>DK</td>\n",
       "      <td>Denmark</td>\n",
       "      <td>Love</td>\n",
       "      <td>18</td>\n",
       "      <td>21</td>\n",
       "      <td>0.5189</td>\n",
       "      <td>92275496</td>\n",
       "      <td>-21</td>\n",
       "      <td>0.5189</td>\n",
       "      <td>-92275496</td>\n",
       "      <td>1</td>\n",
       "    </tr>\n",
       "    <tr>\n",
       "      <th>501</th>\n",
       "      <td>DK</td>\n",
       "      <td>Denmark</td>\n",
       "      <td>Love</td>\n",
       "      <td>19</td>\n",
       "      <td>10</td>\n",
       "      <td>0.2816</td>\n",
       "      <td>275775550</td>\n",
       "      <td>10</td>\n",
       "      <td>0.2816</td>\n",
       "      <td>-275775550</td>\n",
       "      <td>1</td>\n",
       "    </tr>\n",
       "    <tr>\n",
       "      <th>502</th>\n",
       "      <td>DK</td>\n",
       "      <td>Denmark</td>\n",
       "      <td>Love</td>\n",
       "      <td>20</td>\n",
       "      <td>9</td>\n",
       "      <td>0.3393</td>\n",
       "      <td>149952050</td>\n",
       "      <td>9</td>\n",
       "      <td>0.3393</td>\n",
       "      <td>149952050</td>\n",
       "      <td>1</td>\n",
       "    </tr>\n",
       "    <tr>\n",
       "      <th>503</th>\n",
       "      <td>DK</td>\n",
       "      <td>Denmark</td>\n",
       "      <td>Love</td>\n",
       "      <td>21</td>\n",
       "      <td>4</td>\n",
       "      <td>0.1666</td>\n",
       "      <td>154367641</td>\n",
       "      <td>-4</td>\n",
       "      <td>-0.1666</td>\n",
       "      <td>154367641</td>\n",
       "      <td>1</td>\n",
       "    </tr>\n",
       "  </tbody>\n",
       "</table>\n",
       "<p>504 rows × 11 columns</p>\n",
       "</div>"
      ],
      "text/plain": [
       "    Country_code  Country Joy factors Year  Value 2 (+)  Value 1 (+)  \\\n",
       "0             AT  Austria   Happiness   01            6       0.1122   \n",
       "1             AT  Austria   Happiness   02            8       0.0918   \n",
       "2             AT  Austria   Happiness   03           16       0.0918   \n",
       "3             AT  Austria   Happiness   04           17       0.0969   \n",
       "4             AT  Austria   Happiness   05            8       0.0918   \n",
       "..           ...      ...         ...  ...          ...          ...   \n",
       "499           DK  Denmark        Love   17           12       0.3093   \n",
       "500           DK  Denmark        Love   18           21       0.5189   \n",
       "501           DK  Denmark        Love   19           10       0.2816   \n",
       "502           DK  Denmark        Love   20            9       0.3393   \n",
       "503           DK  Denmark        Love   21            4       0.1666   \n",
       "\n",
       "     Value 3 (+)  Value 5 (+/-)  Value 4 (+/-)  Value 6 (+/-)  index  \n",
       "0        8223696             -6        -0.1122        8223696      1  \n",
       "1       64573220             -8        -0.0918      -64573220      1  \n",
       "2       82882182            -16         0.0918       82882182      1  \n",
       "3       94046233             17        -0.0969      -94046233      1  \n",
       "4        3760493              8         0.0918        3760493      1  \n",
       "..           ...            ...            ...            ...    ...  \n",
       "499     82234135            -12         0.3093       82234135      1  \n",
       "500     92275496            -21         0.5189      -92275496      1  \n",
       "501    275775550             10         0.2816     -275775550      1  \n",
       "502    149952050              9         0.3393      149952050      1  \n",
       "503    154367641             -4        -0.1666      154367641      1  \n",
       "\n",
       "[504 rows x 11 columns]"
      ]
     },
     "execution_count": 3,
     "metadata": {},
     "output_type": "execute_result"
    }
   ],
   "source": [
    "df = pd.read_csv(file_path, dtype={\"Year\": str, \"Timeseries\": str},\n",
    ")\n",
    "df"
   ]
  },
  {
   "cell_type": "markdown",
   "id": "registered-showcase",
   "metadata": {},
   "source": [
    "## Model"
   ]
  },
  {
   "cell_type": "markdown",
   "id": "tested-astrology",
   "metadata": {},
   "source": [
    "### Generate chart"
   ]
  },
  {
   "cell_type": "code",
   "execution_count": 4,
   "id": "8adfeb17-e262-4310-b237-9c4f2fcec206",
   "metadata": {
    "execution": {
     "iopub.execute_input": "2023-04-01T12:18:05.246394Z",
     "iopub.status.busy": "2023-04-01T12:18:05.246155Z",
     "iopub.status.idle": "2023-04-01T12:18:05.277353Z",
     "shell.execute_reply": "2023-04-01T12:18:05.276445Z",
     "shell.execute_reply.started": "2023-04-01T12:18:05.246369Z"
    },
    "tags": []
   },
   "outputs": [],
   "source": [
    "# initialize Chart\n",
    "chart = Chart(width=\"640px\", height=\"360px\", display=\"manual\")\n",
    "\n",
    "# add data to Chart\n",
    "data = Data()\n",
    "data.add_data_frame(df)\n",
    "chart.animate(data)\n",
    " \n",
    "# add config to Chart\n",
    "chart.animate(data)\n",
    "chart.animate(\n",
    "    Config.groupedColumn(\n",
    "        {\n",
    "            \"x\": x_axis,\n",
    "            \"y\": y_axis,\n",
    "            \"groupedBy\": groupedBy,\n",
    "            \"title\": title,\n",
    "        }\n",
    "    )\n",
    ")\n",
    "\n",
    "# add style to Chart\n",
    "chart.animate(Style({\"title\": {\"fontSize\": 25}}))\n",
    "\n",
    "# display Chart\n",
    "chart.show()"
   ]
  },
  {
   "cell_type": "markdown",
   "id": "lonely-pacific",
   "metadata": {
    "execution": {
     "iopub.execute_input": "2021-07-02T23:32:10.789097Z",
     "iopub.status.busy": "2021-07-02T23:32:10.788829Z",
     "iopub.status.idle": "2021-07-02T23:32:10.796900Z",
     "shell.execute_reply": "2021-07-02T23:32:10.796358Z",
     "shell.execute_reply.started": "2021-07-02T23:32:10.789033Z"
    }
   },
   "source": [
    "## Output"
   ]
  },
  {
   "cell_type": "markdown",
   "id": "e24b19ba-269a-4d99-b4d0-7c7fa7b3bc35",
   "metadata": {
    "papermill": {},
    "tags": []
   },
   "source": [
    "### Export chart in HTML"
   ]
  },
  {
   "cell_type": "code",
   "execution_count": 5,
   "id": "30deac54-b8f0-45cd-8edc-8d4438f2d22c",
   "metadata": {
    "execution": {
     "iopub.execute_input": "2023-04-01T12:18:07.070046Z",
     "iopub.status.busy": "2023-04-01T12:18:07.069794Z",
     "iopub.status.idle": "2023-04-01T12:18:07.120905Z",
     "shell.execute_reply": "2023-04-01T12:18:07.119841Z",
     "shell.execute_reply.started": "2023-04-01T12:18:07.070020Z"
    },
    "papermill": {},
    "tags": []
   },
   "outputs": [],
   "source": [
    "chart._showed = False\n",
    "rawhtml = chart._repr_html_()\n",
    "\n",
    "with open(html_output, \"w\", encoding=\"utf8\") as file_desc:\n",
    "    file_desc.write(rawhtml)"
   ]
  },
  {
   "cell_type": "markdown",
   "id": "f95c4fc1-32ca-43da-b764-135928da1035",
   "metadata": {
    "papermill": {},
    "tags": []
   },
   "source": [
    "### Create shareable asset with Naas"
   ]
  },
  {
   "cell_type": "code",
   "execution_count": 6,
   "id": "68a6b382-643c-4212-8d79-6c3a86ba4c0a",
   "metadata": {
    "execution": {
     "iopub.execute_input": "2023-04-01T12:18:11.030129Z",
     "iopub.status.busy": "2023-04-01T12:18:11.029868Z",
     "iopub.status.idle": "2023-04-01T12:18:11.483233Z",
     "shell.execute_reply": "2023-04-01T12:18:11.482384Z",
     "shell.execute_reply.started": "2023-04-01T12:18:11.030101Z"
    },
    "papermill": {},
    "tags": []
   },
   "outputs": [
    {
     "name": "stdout",
     "output_type": "stream",
     "text": [
      "👌 Well done! Your Assets has been sent to production.\n",
      "\n"
     ]
    },
    {
     "data": {
      "application/javascript": [
       "\n",
       "    if (!window.copyToClipboard) {\n",
       "        window.copyToClipboard = (text) => {\n",
       "            const dummy = document.createElement(\"textarea\");\n",
       "            document.body.appendChild(dummy);\n",
       "            dummy.value = text;\n",
       "            dummy.select();\n",
       "            document.execCommand(\"copy\");\n",
       "            document.body.removeChild(dummy);\n",
       "        }\n",
       "    }\n",
       "    "
      ],
      "text/plain": [
       "<IPython.core.display.Javascript object>"
      ]
     },
     "metadata": {},
     "output_type": "display_data"
    },
    {
     "data": {
      "application/vnd.jupyter.widget-view+json": {
       "model_id": "ddbcc9ab2fa9428ebdad210217e40d23",
       "version_major": 2,
       "version_minor": 0
      },
      "text/plain": [
       "Button(button_style='primary', description='Copy URL', style=ButtonStyle())"
      ]
     },
     "metadata": {},
     "output_type": "display_data"
    },
    {
     "data": {
      "application/vnd.jupyter.widget-view+json": {
       "model_id": "f0fb04ac697c4cbeb5550e81b809576b",
       "version_major": 2,
       "version_minor": 0
      },
      "text/plain": [
       "Output()"
      ]
     },
     "metadata": {},
     "output_type": "display_data"
    },
    {
     "name": "stdout",
     "output_type": "stream",
     "text": [
      "PS: to remove the \"Assets\" feature, just replace .add by .delete\n"
     ]
    },
    {
     "data": {
      "text/plain": [
       "'https://public.naas.ai/amVyZW15LTQwbmFhcy0yRWFp/asset/8f93c484a0d97f2953931cd2f977829225794c888fdc7030f3ddb32254e8'"
      ]
     },
     "execution_count": 6,
     "metadata": {},
     "output_type": "execute_result"
    }
   ],
   "source": [
    "naas.asset.add(html_output, params={\"inline\": True})"
   ]
  },
  {
   "cell_type": "code",
   "execution_count": null,
   "id": "f35e056a-736e-4044-b3b0-fbf5b846d23d",
   "metadata": {},
   "outputs": [],
   "source": []
  }
 ],
 "metadata": {
  "kernelspec": {
   "display_name": "Python 3",
   "language": "python",
   "name": "python3"
  },
  "language_info": {
   "codemirror_mode": {
    "name": "ipython",
    "version": 3
   },
   "file_extension": ".py",
   "mimetype": "text/x-python",
   "name": "python",
   "nbconvert_exporter": "python",
   "pygments_lexer": "ipython3",
   "version": "3.9.6"
  },
  "papermill": {
   "default_parameters": {},
   "environment_variables": {},
   "parameters": {},
   "version": "2.3.3"
  },
  "widgets": {
   "application/vnd.jupyter.widget-state+json": {
    "state": {},
    "version_major": 2,
    "version_minor": 0
   }
  }
 },
 "nbformat": 4,
 "nbformat_minor": 5
}
