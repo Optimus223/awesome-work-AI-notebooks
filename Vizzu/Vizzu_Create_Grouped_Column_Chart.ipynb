{
 "cells": [
  {
   "cell_type": "markdown",
   "id": "latin-packing",
   "metadata": {
    "execution": {
     "iopub.execute_input": "2021-02-23T14:22:16.610471Z",
     "iopub.status.busy": "2021-02-23T14:22:16.610129Z",
     "iopub.status.idle": "2021-02-23T14:22:16.627784Z",
     "shell.execute_reply": "2021-02-23T14:22:16.626866Z",
     "shell.execute_reply.started": "2021-02-23T14:22:16.610384Z"
    },
    "papermill": {},
    "tags": []
   },
   "source": [
    "<img width=\"10%\" alt=\"Naas\" src=\"https://landen.imgix.net/jtci2pxwjczr/assets/5ice39g4.png?w=160\"/>"
   ]
  },
  {
   "cell_type": "markdown",
   "id": "compressed-wilson",
   "metadata": {
    "papermill": {},
    "tags": []
   },
   "source": [
    "# Vizzu - Create Grouped Column Chart\n",
    "<a href=\"https://app.naas.ai/user-redirect/naas/downloader?url=https://raw.githubusercontent.com/jupyter-naas/awesome-notebooks/master/template.ipynb\" target=\"_parent\">\n",
    "<img src=\"https://naasai-public.s3.eu-west-3.amazonaws.com/open_in_naas.svg\"/>\n",
    "</a><br><br><a href=\"https://github.com/jupyter-naas/awesome-notebooks/issues/new?assignees=&labels=&template=template-request.md&title=Tool+-+Action+of+the+notebook+\">Template request</a> | <a href=\"https://github.com/jupyter-naas/awesome-notebooks/issues/new?assignees=&labels=&template=bug_report.md&title=[ERROR]+Tool+/+Folder+Action+of+the+notebook+\">Bug report</a>"
   ]
  },
  {
   "cell_type": "markdown",
   "id": "religious-programmer",
   "metadata": {},
   "source": [
    "**Tags:** #analytics #dataviz #chart #graph #groupedbarchart"
   ]
  },
  {
   "cell_type": "markdown",
   "id": "1fe9f56e-561c-4f52-aef8-b861c9462107",
   "metadata": {},
   "source": [
    "**Author:** [Jeremy Ravenel](https://www.linkedin.com/in/jeremyravenel/)"
   ]
  },
  {
   "cell_type": "markdown",
   "id": "31ea7cdb-e10d-43fc-b026-f69249a59736",
   "metadata": {},
   "source": [
    "**Description:** This notebook template on Vizzu is designed to help users create visually appealing grouped column charts. Vizzu is a powerful data visualization tool that allows users to easily create interactive and engaging charts and graphs"
   ]
  },
  {
   "cell_type": "markdown",
   "id": "distinguished-truth",
   "metadata": {
    "papermill": {},
    "tags": []
   },
   "source": [
    "## Input"
   ]
  },
  {
   "cell_type": "markdown",
   "id": "numeric-mediterranean",
   "metadata": {},
   "source": [
    "### Import libraries"
   ]
  },
  {
   "cell_type": "code",
   "execution_count": 1,
   "id": "potential-surfing",
   "metadata": {
    "execution": {
     "iopub.execute_input": "2023-03-27T13:00:25.062934Z",
     "iopub.status.busy": "2023-03-27T13:00:25.062520Z",
     "iopub.status.idle": "2023-03-27T13:00:28.980674Z",
     "shell.execute_reply": "2023-03-27T13:00:28.980047Z",
     "shell.execute_reply.started": "2023-03-27T13:00:25.062829Z"
    },
    "tags": []
   },
   "outputs": [
    {
     "name": "stdout",
     "output_type": "stream",
     "text": [
      "ERROR: unknown command \"ipyvizzu\"\n"
     ]
    }
   ],
   "source": [
    "!pip ipyvizzu --user\n",
    "import naas\n",
    "import pandas as pd\n",
    "from ipyvizzu import Chart, Data, Config, Style"
   ]
  },
  {
   "cell_type": "markdown",
   "id": "aggressive-trustee",
   "metadata": {},
   "source": [
    "### Setup Variables"
   ]
  },
  {
   "cell_type": "code",
   "execution_count": 2,
   "id": "continuous-melbourne",
   "metadata": {
    "execution": {
     "iopub.execute_input": "2023-03-27T13:00:28.981991Z",
     "iopub.status.busy": "2023-03-27T13:00:28.981775Z",
     "iopub.status.idle": "2023-03-27T13:00:29.205468Z",
     "shell.execute_reply": "2023-03-27T13:00:29.204893Z",
     "shell.execute_reply.started": "2023-03-27T13:00:28.981962Z"
    },
    "tags": []
   },
   "outputs": [],
   "source": [
    "data_frame = pd.read_csv(\n",
    "    \"https://ipyvizzu.vizzuhq.com/0.15/assets/data/chart_types_eu_data_6.csv\",\n",
    "    dtype={\"Year\": str, \"Timeseries\": str},\n",
    ")"
   ]
  },
  {
   "cell_type": "markdown",
   "id": "registered-showcase",
   "metadata": {},
   "source": [
    "## Model"
   ]
  },
  {
   "cell_type": "markdown",
   "id": "tested-astrology",
   "metadata": {},
   "source": [
    "### Generate chart"
   ]
  },
  {
   "cell_type": "code",
   "execution_count": 3,
   "id": "8adfeb17-e262-4310-b237-9c4f2fcec206",
   "metadata": {
    "execution": {
     "iopub.execute_input": "2023-03-27T13:00:30.646581Z",
     "iopub.status.busy": "2023-03-27T13:00:30.646260Z",
     "iopub.status.idle": "2023-03-27T13:00:30.679078Z",
     "shell.execute_reply": "2023-03-27T13:00:30.678338Z",
     "shell.execute_reply.started": "2023-03-27T13:00:30.646532Z"
    },
    "tags": []
   },
   "outputs": [
    {
     "data": {
      "application/javascript": [
       "if (!window.IpyVizzu) {\n",
       "  class IpyVizzu {\n",
       "    constructor() {\n",
       "      IpyVizzu.inhibitScroll = false;\n",
       "      IpyVizzu.nbconvert = false;\n",
       "      document.addEventListener(\n",
       "        \"wheel\",\n",
       "        (evt) => {\n",
       "          IpyVizzu.inhibitScroll = true;\n",
       "        },\n",
       "        true\n",
       "      );\n",
       "      document.addEventListener(\n",
       "        \"keydown\",\n",
       "        (evt) => {\n",
       "          IpyVizzu.inhibitScroll = true;\n",
       "        },\n",
       "        true\n",
       "      );\n",
       "      document.addEventListener(\n",
       "        \"touchstart\",\n",
       "        (evt) => {\n",
       "          IpyVizzu.inhibitScroll = true;\n",
       "        },\n",
       "        true\n",
       "      );\n",
       "\n",
       "      this.elements = {};\n",
       "      this.charts = {};\n",
       "      this.controls = {};\n",
       "\n",
       "      this.storage = {};\n",
       "      this.displays = {};\n",
       "\n",
       "      this.events = {};\n",
       "      this.loaded = {};\n",
       "      this.libs = {};\n",
       "    }\n",
       "\n",
       "    static clearInhibitScroll(element) {\n",
       "      if (IpyVizzu.nbconvert) IpyVizzu._hide(element);\n",
       "      IpyVizzu.inhibitScroll = false;\n",
       "    }\n",
       "\n",
       "    createChart(element, chartId, vizzulib, divWidth, divHeight) {\n",
       "      this.elements[chartId] = document.createElement(\"div\");\n",
       "      this.elements[\n",
       "        chartId\n",
       "      ].style.cssText = `width: ${divWidth}; height: ${divHeight};`;\n",
       "      this.loaded[chartId] = import(vizzulib);\n",
       "      this.charts[chartId] = this.loaded[chartId].then((Vizzu) => {\n",
       "        this.libs[chartId] = Vizzu.default;\n",
       "        const VizzuConstructor = Vizzu.default;\n",
       "        return new VizzuConstructor(this.elements[chartId]).initializing;\n",
       "      });\n",
       "      this._moveHere(chartId, element);\n",
       "    }\n",
       "\n",
       "    animate(\n",
       "      element,\n",
       "      chartId,\n",
       "      animId,\n",
       "      displayTarget,\n",
       "      scrollEnabled,\n",
       "      getChartTarget,\n",
       "      chartAnimOpts\n",
       "    ) {\n",
       "      if (IpyVizzu.nbconvert) IpyVizzu._hide(element);\n",
       "      if (displayTarget === \"end\") this._moveHere(chartId, element);\n",
       "      this.controls[chartId] = this.charts[chartId];\n",
       "      this.charts[chartId] = this.charts[chartId].then((chart) => {\n",
       "        if (displayTarget === \"actual\") this._moveHere(chartId, element);\n",
       "        this._scroll(chartId, scrollEnabled);\n",
       "        let chartTarget = getChartTarget(this.libs[chartId]);\n",
       "        if (typeof chartTarget === \"string\") {\n",
       "          chartTarget = this.storage[chartTarget];\n",
       "        } else if (Array.isArray(chartTarget)) {\n",
       "          for (let i = 0; i < chartTarget.length; i++) {\n",
       "            const target = chartTarget[i].target;\n",
       "            if (typeof target === \"string\") {\n",
       "              chartTarget[i].target = this.storage[target];\n",
       "            }\n",
       "          }\n",
       "        }\n",
       "        chart = chart.animate(chartTarget, chartAnimOpts);\n",
       "        this.controls[animId] = chart;\n",
       "        return chart;\n",
       "      });\n",
       "    }\n",
       "\n",
       "    store(element, chartId, id) {\n",
       "      if (IpyVizzu.nbconvert) IpyVizzu._hide(element);\n",
       "      this.charts[chartId] = this.charts[chartId].then((chart) => {\n",
       "        this.storage[id] = chart.store();\n",
       "        return chart;\n",
       "      });\n",
       "    }\n",
       "\n",
       "    feature(element, chartId, name, enabled) {\n",
       "      if (IpyVizzu.nbconvert) IpyVizzu._hide(element);\n",
       "      this.charts[chartId] = this.charts[chartId].then((chart) => {\n",
       "        chart.feature(name, enabled);\n",
       "        return chart;\n",
       "      });\n",
       "    }\n",
       "\n",
       "    setEvent(element, chartId, id, event, handler) {\n",
       "      if (IpyVizzu.nbconvert) IpyVizzu._hide(element);\n",
       "      this.charts[chartId] = this.charts[chartId].then((chart) => {\n",
       "        this.events[id] = handler;\n",
       "        chart.on(event, this.events[id]);\n",
       "        return chart;\n",
       "      });\n",
       "    }\n",
       "\n",
       "    clearEvent(element, chartId, id, event) {\n",
       "      if (IpyVizzu.nbconvert) IpyVizzu._hide(element);\n",
       "      this.charts[chartId] = this.charts[chartId].then((chart) => {\n",
       "        chart.off(event, this.events[id]);\n",
       "        return chart;\n",
       "      });\n",
       "    }\n",
       "\n",
       "    log(element, chartId, chartProperty) {\n",
       "      if (IpyVizzu.nbconvert) IpyVizzu._hide(element);\n",
       "      this.charts[chartId] = this.charts[chartId].then((chart) => {\n",
       "        console.log(chart[chartProperty]);\n",
       "        return chart;\n",
       "      });\n",
       "    }\n",
       "\n",
       "    control(element, method, prevId, lastId, ...params) {\n",
       "      if (IpyVizzu.nbconvert) IpyVizzu._hide(element);\n",
       "      this.controls[prevId].then(() => {\n",
       "        this.controls[lastId].activated.then((control) => {\n",
       "          if (method === \"seek\") {\n",
       "            const value = params[0];\n",
       "            control[method](value);\n",
       "            return;\n",
       "          }\n",
       "          if (method === \"store\") {\n",
       "            const id = params[0];\n",
       "            this.storage[id] = control[method]();\n",
       "            return;\n",
       "          }\n",
       "          control[method]();\n",
       "        });\n",
       "      });\n",
       "    }\n",
       "\n",
       "    _moveHere(chartId, element) {\n",
       "      if (IpyVizzu.nbconvert)\n",
       "        IpyVizzu._display(this.elements[chartId], element);\n",
       "      element.append(this.elements[chartId]);\n",
       "    }\n",
       "\n",
       "    _scroll(chartId, enabled) {\n",
       "      if (!IpyVizzu.inhibitScroll && enabled) {\n",
       "        this.elements[chartId].scrollIntoView({\n",
       "          behavior: \"auto\",\n",
       "          block: \"center\",\n",
       "        });\n",
       "      }\n",
       "    }\n",
       "\n",
       "    static _hide(element) {\n",
       "      document.getElementById(\n",
       "        element.selector.substring(1)\n",
       "      ).parentNode.style.display = \"none\";\n",
       "    }\n",
       "\n",
       "    static _display(prevElement, element) {\n",
       "      if (prevElement.parentNode) {\n",
       "        prevElement.parentNode.style.display = \"none\";\n",
       "      }\n",
       "      document.getElementById(\n",
       "        element.selector.substring(1)\n",
       "      ).parentNode.style.display = \"flex\";\n",
       "      document.getElementById(\n",
       "        element.selector.substring(1)\n",
       "      ).parentNode.style.margin = \"auto\";\n",
       "    }\n",
       "  }\n",
       "\n",
       "  window.IpyVizzu = IpyVizzu;\n",
       "  window.ipyvizzu = new window.IpyVizzu();\n",
       "}\n"
      ]
     },
     "metadata": {},
     "output_type": "display_data"
    },
    {
     "data": {
      "application/javascript": [
       "window.ipyvizzu.createChart(element, '6676b65', 'https://cdn.jsdelivr.net/npm/vizzu@0.7/dist/vizzu.min.js', '800px', '480px');"
      ]
     },
     "metadata": {},
     "output_type": "display_data"
    },
    {
     "data": {
      "application/javascript": [
       "window.ipyvizzu.animate(element, '6676b65', 'fa4b7b4', 'actual', false, lib => { return {\"data\": {\"series\": [{\"name\": \"Country_code\", \"type\": \"dimension\", \"values\": [\"AT\", \"AT\", \"AT\", \"AT\", \"AT\", \"AT\", \"AT\", \"BE\", \"BE\", \"BE\", \"BE\", \"BE\", \"BE\", \"BE\", \"BG\", \"BG\", \"BG\", \"BG\", \"BG\", \"BG\", \"BG\", \"CY\", \"CY\", \"CY\", \"CY\", \"CY\", \"CY\", \"CY\", \"CZ\", \"CZ\", \"CZ\", \"CZ\", \"CZ\", \"CZ\", \"CZ\", \"DK\", \"DK\", \"DK\", \"DK\", \"DK\", \"DK\", \"DK\", \"AT\", \"AT\", \"AT\", \"AT\", \"AT\", \"AT\", \"AT\", \"BE\", \"BE\", \"BE\", \"BE\", \"BE\", \"BE\", \"BE\", \"BG\", \"BG\", \"BG\", \"BG\", \"BG\", \"BG\", \"BG\", \"CY\", \"CY\", \"CY\", \"CY\", \"CY\", \"CY\", \"CY\", \"CZ\", \"CZ\", \"CZ\", \"CZ\", \"CZ\", \"CZ\", \"CZ\", \"DK\", \"DK\", \"DK\", \"DK\", \"DK\", \"DK\", \"DK\", \"AT\", \"AT\", \"AT\", \"AT\", \"AT\", \"AT\", \"AT\", \"BE\", \"BE\", \"BE\", \"BE\", \"BE\", \"BE\", \"BE\", \"BG\", \"BG\", \"BG\", \"BG\", \"BG\", \"BG\", \"BG\", \"CY\", \"CY\", \"CY\", \"CY\", \"CY\", \"CY\", \"CY\", \"CZ\", \"CZ\", \"CZ\", \"CZ\", \"CZ\", \"CZ\", \"CZ\", \"DK\", \"DK\", \"DK\", \"DK\", \"DK\", \"DK\", \"DK\", \"AT\", \"AT\", \"AT\", \"AT\", \"AT\", \"AT\", \"AT\", \"BE\", \"BE\", \"BE\", \"BE\", \"BE\", \"BE\", \"BE\", \"BG\", \"BG\", \"BG\", \"BG\", \"BG\", \"BG\", \"BG\", \"CY\", \"CY\", \"CY\", \"CY\", \"CY\", \"CY\", \"CY\", \"CZ\", \"CZ\", \"CZ\", \"CZ\", \"CZ\", \"CZ\", \"CZ\", \"DK\", \"DK\", \"DK\", \"DK\", \"DK\", \"DK\", \"DK\", \"AT\", \"AT\", \"AT\", \"AT\", \"AT\", \"AT\", \"AT\", \"BE\", \"BE\", \"BE\", \"BE\", \"BE\", \"BE\", \"BE\", \"BG\", \"BG\", \"BG\", \"BG\", \"BG\", \"BG\", \"BG\", \"CY\", \"CY\", \"CY\", \"CY\", \"CY\", \"CY\", \"CY\", \"CZ\", \"CZ\", \"CZ\", \"CZ\", \"CZ\", \"CZ\", \"CZ\", \"DK\", \"DK\", \"DK\", \"DK\", \"DK\", \"DK\", \"DK\", \"AT\", \"AT\", \"AT\", \"AT\", \"AT\", \"AT\", \"AT\", \"BE\", \"BE\", \"BE\", \"BE\", \"BE\", \"BE\", \"BE\", \"BG\", \"BG\", \"BG\", \"BG\", \"BG\", \"BG\", \"BG\", \"CY\", \"CY\", \"CY\", \"CY\", \"CY\", \"CY\", \"CY\", \"CZ\", \"CZ\", \"CZ\", \"CZ\", \"CZ\", \"CZ\", \"CZ\", \"DK\", \"DK\", \"DK\", \"DK\", \"DK\", \"DK\", \"DK\", \"AT\", \"AT\", \"AT\", \"AT\", \"AT\", \"AT\", \"AT\", \"BE\", \"BE\", \"BE\", \"BE\", \"BE\", \"BE\", \"BE\", \"BG\", \"BG\", \"BG\", \"BG\", \"BG\", \"BG\", \"BG\", \"CY\", \"CY\", \"CY\", \"CY\", \"CY\", \"CY\", \"CY\", \"CZ\", \"CZ\", \"CZ\", \"CZ\", \"CZ\", \"CZ\", \"CZ\", \"DK\", \"DK\", \"DK\", \"DK\", \"DK\", \"DK\", \"DK\", \"AT\", \"AT\", \"AT\", \"AT\", \"AT\", \"AT\", \"AT\", \"BE\", \"BE\", \"BE\", \"BE\", \"BE\", \"BE\", \"BE\", \"BG\", \"BG\", \"BG\", \"BG\", \"BG\", \"BG\", \"BG\", \"CY\", \"CY\", \"CY\", \"CY\", \"CY\", \"CY\", \"CY\", \"CZ\", \"CZ\", \"CZ\", \"CZ\", \"CZ\", \"CZ\", \"CZ\", \"DK\", \"DK\", \"DK\", \"DK\", \"DK\", \"DK\", \"DK\", \"AT\", \"AT\", \"AT\", \"AT\", \"AT\", \"AT\", \"AT\", \"BE\", \"BE\", \"BE\", \"BE\", \"BE\", \"BE\", \"BE\", \"BG\", \"BG\", \"BG\", \"BG\", \"BG\", \"BG\", \"BG\", \"CY\", \"CY\", \"CY\", \"CY\", \"CY\", \"CY\", \"CY\", \"CZ\", \"CZ\", \"CZ\", \"CZ\", \"CZ\", \"CZ\", \"CZ\", \"DK\", \"DK\", \"DK\", \"DK\", \"DK\", \"DK\", \"DK\", \"AT\", \"AT\", \"AT\", \"AT\", \"AT\", \"AT\", \"AT\", \"BE\", \"BE\", \"BE\", \"BE\", \"BE\", \"BE\", \"BE\", \"BG\", \"BG\", \"BG\", \"BG\", \"BG\", \"BG\", \"BG\", \"CY\", \"CY\", \"CY\", \"CY\", \"CY\", \"CY\", \"CY\", \"CZ\", \"CZ\", \"CZ\", \"CZ\", \"CZ\", \"CZ\", \"CZ\", \"DK\", \"DK\", \"DK\", \"DK\", \"DK\", \"DK\", \"DK\", \"AT\", \"AT\", \"AT\", \"AT\", \"AT\", \"AT\", \"AT\", \"BE\", \"BE\", \"BE\", \"BE\", \"BE\", \"BE\", \"BE\", \"BG\", \"BG\", \"BG\", \"BG\", \"BG\", \"BG\", \"BG\", \"CY\", \"CY\", \"CY\", \"CY\", \"CY\", \"CY\", \"CY\", \"CZ\", \"CZ\", \"CZ\", \"CZ\", \"CZ\", \"CZ\", \"CZ\", \"DK\", \"DK\", \"DK\", \"DK\", \"DK\", \"DK\", \"DK\", \"AT\", \"AT\", \"AT\", \"AT\", \"AT\", \"AT\", \"AT\", \"BE\", \"BE\", \"BE\", \"BE\", \"BE\", \"BE\", \"BE\", \"BG\", \"BG\", \"BG\", \"BG\", \"BG\", \"BG\", \"BG\", \"CY\", \"CY\", \"CY\", \"CY\", \"CY\", \"CY\", \"CY\", \"CZ\", \"CZ\", \"CZ\", \"CZ\", \"CZ\", \"CZ\", \"CZ\", \"DK\", \"DK\", \"DK\", \"DK\", \"DK\", \"DK\", \"DK\"]}, {\"name\": \"Country\", \"type\": \"dimension\", \"values\": [\"Austria\", \"Austria\", \"Austria\", \"Austria\", \"Austria\", \"Austria\", \"Austria\", \"Belgium\", \"Belgium\", \"Belgium\", \"Belgium\", \"Belgium\", \"Belgium\", \"Belgium\", \"Bulgaria\", \"Bulgaria\", \"Bulgaria\", \"Bulgaria\", \"Bulgaria\", \"Bulgaria\", \"Bulgaria\", \"Cyprus\", \"Cyprus\", \"Cyprus\", \"Cyprus\", \"Cyprus\", \"Cyprus\", \"Cyprus\", \"Czechia\", \"Czechia\", \"Czechia\", \"Czechia\", \"Czechia\", \"Czechia\", \"Czechia\", \"Denmark\", \"Denmark\", \"Denmark\", \"Denmark\", \"Denmark\", \"Denmark\", \"Denmark\", \"Austria\", \"Austria\", \"Austria\", \"Austria\", \"Austria\", \"Austria\", \"Austria\", \"Belgium\", \"Belgium\", \"Belgium\", \"Belgium\", \"Belgium\", \"Belgium\", \"Belgium\", \"Bulgaria\", \"Bulgaria\", \"Bulgaria\", \"Bulgaria\", \"Bulgaria\", \"Bulgaria\", \"Bulgaria\", \"Cyprus\", \"Cyprus\", \"Cyprus\", \"Cyprus\", \"Cyprus\", \"Cyprus\", \"Cyprus\", \"Czechia\", \"Czechia\", \"Czechia\", \"Czechia\", \"Czechia\", \"Czechia\", \"Czechia\", \"Denmark\", \"Denmark\", \"Denmark\", \"Denmark\", \"Denmark\", \"Denmark\", \"Denmark\", \"Austria\", \"Austria\", \"Austria\", \"Austria\", \"Austria\", \"Austria\", \"Austria\", \"Belgium\", \"Belgium\", \"Belgium\", \"Belgium\", \"Belgium\", \"Belgium\", \"Belgium\", \"Bulgaria\", \"Bulgaria\", \"Bulgaria\", \"Bulgaria\", \"Bulgaria\", \"Bulgaria\", \"Bulgaria\", \"Cyprus\", \"Cyprus\", \"Cyprus\", \"Cyprus\", \"Cyprus\", \"Cyprus\", \"Cyprus\", \"Czechia\", \"Czechia\", \"Czechia\", \"Czechia\", \"Czechia\", \"Czechia\", \"Czechia\", \"Denmark\", \"Denmark\", \"Denmark\", \"Denmark\", \"Denmark\", \"Denmark\", \"Denmark\", \"Austria\", \"Austria\", \"Austria\", \"Austria\", \"Austria\", \"Austria\", \"Austria\", \"Belgium\", \"Belgium\", \"Belgium\", \"Belgium\", \"Belgium\", \"Belgium\", \"Belgium\", \"Bulgaria\", \"Bulgaria\", \"Bulgaria\", \"Bulgaria\", \"Bulgaria\", \"Bulgaria\", \"Bulgaria\", \"Cyprus\", \"Cyprus\", \"Cyprus\", \"Cyprus\", \"Cyprus\", \"Cyprus\", \"Cyprus\", \"Czechia\", \"Czechia\", \"Czechia\", \"Czechia\", \"Czechia\", \"Czechia\", \"Czechia\", \"Denmark\", \"Denmark\", \"Denmark\", \"Denmark\", \"Denmark\", \"Denmark\", \"Denmark\", \"Austria\", \"Austria\", \"Austria\", \"Austria\", \"Austria\", \"Austria\", \"Austria\", \"Belgium\", \"Belgium\", \"Belgium\", \"Belgium\", \"Belgium\", \"Belgium\", \"Belgium\", \"Bulgaria\", \"Bulgaria\", \"Bulgaria\", \"Bulgaria\", \"Bulgaria\", \"Bulgaria\", \"Bulgaria\", \"Cyprus\", \"Cyprus\", \"Cyprus\", \"Cyprus\", \"Cyprus\", \"Cyprus\", \"Cyprus\", \"Czechia\", \"Czechia\", \"Czechia\", \"Czechia\", \"Czechia\", \"Czechia\", \"Czechia\", \"Denmark\", \"Denmark\", \"Denmark\", \"Denmark\", \"Denmark\", \"Denmark\", \"Denmark\", \"Austria\", \"Austria\", \"Austria\", \"Austria\", \"Austria\", \"Austria\", \"Austria\", \"Belgium\", \"Belgium\", \"Belgium\", \"Belgium\", \"Belgium\", \"Belgium\", \"Belgium\", \"Bulgaria\", \"Bulgaria\", \"Bulgaria\", \"Bulgaria\", \"Bulgaria\", \"Bulgaria\", \"Bulgaria\", \"Cyprus\", \"Cyprus\", \"Cyprus\", \"Cyprus\", \"Cyprus\", \"Cyprus\", \"Cyprus\", \"Czechia\", \"Czechia\", \"Czechia\", \"Czechia\", \"Czechia\", \"Czechia\", \"Czechia\", \"Denmark\", \"Denmark\", \"Denmark\", \"Denmark\", \"Denmark\", \"Denmark\", \"Denmark\", \"Austria\", \"Austria\", \"Austria\", \"Austria\", \"Austria\", \"Austria\", \"Austria\", \"Belgium\", \"Belgium\", \"Belgium\", \"Belgium\", \"Belgium\", \"Belgium\", \"Belgium\", \"Bulgaria\", \"Bulgaria\", \"Bulgaria\", \"Bulgaria\", \"Bulgaria\", \"Bulgaria\", \"Bulgaria\", \"Cyprus\", \"Cyprus\", \"Cyprus\", \"Cyprus\", \"Cyprus\", \"Cyprus\", \"Cyprus\", \"Czechia\", \"Czechia\", \"Czechia\", \"Czechia\", \"Czechia\", \"Czechia\", \"Czechia\", \"Denmark\", \"Denmark\", \"Denmark\", \"Denmark\", \"Denmark\", \"Denmark\", \"Denmark\", \"Austria\", \"Austria\", \"Austria\", \"Austria\", \"Austria\", \"Austria\", \"Austria\", \"Belgium\", \"Belgium\", \"Belgium\", \"Belgium\", \"Belgium\", \"Belgium\", \"Belgium\", \"Bulgaria\", \"Bulgaria\", \"Bulgaria\", \"Bulgaria\", \"Bulgaria\", \"Bulgaria\", \"Bulgaria\", \"Cyprus\", \"Cyprus\", \"Cyprus\", \"Cyprus\", \"Cyprus\", \"Cyprus\", \"Cyprus\", \"Czechia\", \"Czechia\", \"Czechia\", \"Czechia\", \"Czechia\", \"Czechia\", \"Czechia\", \"Denmark\", \"Denmark\", \"Denmark\", \"Denmark\", \"Denmark\", \"Denmark\", \"Denmark\", \"Austria\", \"Austria\", \"Austria\", \"Austria\", \"Austria\", \"Austria\", \"Austria\", \"Belgium\", \"Belgium\", \"Belgium\", \"Belgium\", \"Belgium\", \"Belgium\", \"Belgium\", \"Bulgaria\", \"Bulgaria\", \"Bulgaria\", \"Bulgaria\", \"Bulgaria\", \"Bulgaria\", \"Bulgaria\", \"Cyprus\", \"Cyprus\", \"Cyprus\", \"Cyprus\", \"Cyprus\", \"Cyprus\", \"Cyprus\", \"Czechia\", \"Czechia\", \"Czechia\", \"Czechia\", \"Czechia\", \"Czechia\", \"Czechia\", \"Denmark\", \"Denmark\", \"Denmark\", \"Denmark\", \"Denmark\", \"Denmark\", \"Denmark\", \"Austria\", \"Austria\", \"Austria\", \"Austria\", \"Austria\", \"Austria\", \"Austria\", \"Belgium\", \"Belgium\", \"Belgium\", \"Belgium\", \"Belgium\", \"Belgium\", \"Belgium\", \"Bulgaria\", \"Bulgaria\", \"Bulgaria\", \"Bulgaria\", \"Bulgaria\", \"Bulgaria\", \"Bulgaria\", \"Cyprus\", \"Cyprus\", \"Cyprus\", \"Cyprus\", \"Cyprus\", \"Cyprus\", \"Cyprus\", \"Czechia\", \"Czechia\", \"Czechia\", \"Czechia\", \"Czechia\", \"Czechia\", \"Czechia\", \"Denmark\", \"Denmark\", \"Denmark\", \"Denmark\", \"Denmark\", \"Denmark\", \"Denmark\", \"Austria\", \"Austria\", \"Austria\", \"Austria\", \"Austria\", \"Austria\", \"Austria\", \"Belgium\", \"Belgium\", \"Belgium\", \"Belgium\", \"Belgium\", \"Belgium\", \"Belgium\", \"Bulgaria\", \"Bulgaria\", \"Bulgaria\", \"Bulgaria\", \"Bulgaria\", \"Bulgaria\", \"Bulgaria\", \"Cyprus\", \"Cyprus\", \"Cyprus\", \"Cyprus\", \"Cyprus\", \"Cyprus\", \"Cyprus\", \"Czechia\", \"Czechia\", \"Czechia\", \"Czechia\", \"Czechia\", \"Czechia\", \"Czechia\", \"Denmark\", \"Denmark\", \"Denmark\", \"Denmark\", \"Denmark\", \"Denmark\", \"Denmark\", \"Austria\", \"Austria\", \"Austria\", \"Austria\", \"Austria\", \"Austria\", \"Austria\", \"Belgium\", \"Belgium\", \"Belgium\", \"Belgium\", \"Belgium\", \"Belgium\", \"Belgium\", \"Bulgaria\", \"Bulgaria\", \"Bulgaria\", \"Bulgaria\", \"Bulgaria\", \"Bulgaria\", \"Bulgaria\", \"Cyprus\", \"Cyprus\", \"Cyprus\", \"Cyprus\", \"Cyprus\", \"Cyprus\", \"Cyprus\", \"Czechia\", \"Czechia\", \"Czechia\", \"Czechia\", \"Czechia\", \"Czechia\", \"Czechia\", \"Denmark\", \"Denmark\", \"Denmark\", \"Denmark\", \"Denmark\", \"Denmark\", \"Denmark\"]}, {\"name\": \"Joy factors\", \"type\": \"dimension\", \"values\": [\"Happiness\", \"Happiness\", \"Happiness\", \"Happiness\", \"Happiness\", \"Happiness\", \"Happiness\", \"Happiness\", \"Happiness\", \"Happiness\", \"Happiness\", \"Happiness\", \"Happiness\", \"Happiness\", \"Happiness\", \"Happiness\", \"Happiness\", \"Happiness\", \"Happiness\", \"Happiness\", \"Happiness\", \"Happiness\", \"Happiness\", \"Happiness\", \"Happiness\", \"Happiness\", \"Happiness\", \"Happiness\", \"Happiness\", \"Happiness\", \"Happiness\", \"Happiness\", \"Happiness\", \"Happiness\", \"Happiness\", \"Happiness\", \"Happiness\", \"Happiness\", \"Happiness\", \"Happiness\", \"Happiness\", \"Happiness\", \"Happiness\", \"Happiness\", \"Happiness\", \"Happiness\", \"Happiness\", \"Happiness\", \"Happiness\", \"Happiness\", \"Happiness\", \"Happiness\", \"Happiness\", \"Happiness\", \"Happiness\", \"Happiness\", \"Happiness\", \"Happiness\", \"Happiness\", \"Happiness\", \"Happiness\", \"Happiness\", \"Happiness\", \"Happiness\", \"Happiness\", \"Happiness\", \"Happiness\", \"Happiness\", \"Happiness\", \"Happiness\", \"Happiness\", \"Happiness\", \"Happiness\", \"Happiness\", \"Happiness\", \"Happiness\", \"Happiness\", \"Happiness\", \"Happiness\", \"Happiness\", \"Happiness\", \"Happiness\", \"Happiness\", \"Happiness\", \"Happiness\", \"Happiness\", \"Happiness\", \"Happiness\", \"Happiness\", \"Happiness\", \"Happiness\", \"Happiness\", \"Happiness\", \"Happiness\", \"Happiness\", \"Happiness\", \"Happiness\", \"Happiness\", \"Happiness\", \"Happiness\", \"Happiness\", \"Happiness\", \"Happiness\", \"Happiness\", \"Happiness\", \"Happiness\", \"Happiness\", \"Happiness\", \"Happiness\", \"Happiness\", \"Happiness\", \"Happiness\", \"Happiness\", \"Happiness\", \"Happiness\", \"Happiness\", \"Happiness\", \"Happiness\", \"Happiness\", \"Happiness\", \"Happiness\", \"Happiness\", \"Happiness\", \"Happiness\", \"Happiness\", \"Happiness\", \"Creativity\", \"Creativity\", \"Creativity\", \"Creativity\", \"Creativity\", \"Creativity\", \"Creativity\", \"Creativity\", \"Creativity\", \"Creativity\", \"Creativity\", \"Creativity\", \"Creativity\", \"Creativity\", \"Creativity\", \"Creativity\", \"Creativity\", \"Creativity\", \"Creativity\", \"Creativity\", \"Creativity\", \"Creativity\", \"Creativity\", \"Creativity\", \"Creativity\", \"Creativity\", \"Creativity\", \"Creativity\", \"Creativity\", \"Creativity\", \"Creativity\", \"Creativity\", \"Creativity\", \"Creativity\", \"Creativity\", \"Creativity\", \"Creativity\", \"Creativity\", \"Creativity\", \"Creativity\", \"Creativity\", \"Creativity\", \"Creativity\", \"Creativity\", \"Creativity\", \"Creativity\", \"Creativity\", \"Creativity\", \"Creativity\", \"Creativity\", \"Creativity\", \"Creativity\", \"Creativity\", \"Creativity\", \"Creativity\", \"Creativity\", \"Creativity\", \"Creativity\", \"Creativity\", \"Creativity\", \"Creativity\", \"Creativity\", \"Creativity\", \"Creativity\", \"Creativity\", \"Creativity\", \"Creativity\", \"Creativity\", \"Creativity\", \"Creativity\", \"Creativity\", \"Creativity\", \"Creativity\", \"Creativity\", \"Creativity\", \"Creativity\", \"Creativity\", \"Creativity\", \"Creativity\", \"Creativity\", \"Creativity\", \"Creativity\", \"Creativity\", \"Creativity\", \"Creativity\", \"Creativity\", \"Creativity\", \"Creativity\", \"Creativity\", \"Creativity\", \"Creativity\", \"Creativity\", \"Creativity\", \"Creativity\", \"Creativity\", \"Creativity\", \"Creativity\", \"Creativity\", \"Creativity\", \"Creativity\", \"Creativity\", \"Creativity\", \"Creativity\", \"Creativity\", \"Creativity\", \"Creativity\", \"Creativity\", \"Creativity\", \"Creativity\", \"Creativity\", \"Creativity\", \"Creativity\", \"Creativity\", \"Creativity\", \"Creativity\", \"Creativity\", \"Creativity\", \"Creativity\", \"Creativity\", \"Creativity\", \"Creativity\", \"Creativity\", \"Creativity\", \"Creativity\", \"Creativity\", \"Creativity\", \"Friendship\", \"Friendship\", \"Friendship\", \"Friendship\", \"Friendship\", \"Friendship\", \"Friendship\", \"Friendship\", \"Friendship\", \"Friendship\", \"Friendship\", \"Friendship\", \"Friendship\", \"Friendship\", \"Friendship\", \"Friendship\", \"Friendship\", \"Friendship\", \"Friendship\", \"Friendship\", \"Friendship\", \"Friendship\", \"Friendship\", \"Friendship\", \"Friendship\", \"Friendship\", \"Friendship\", \"Friendship\", \"Friendship\", \"Friendship\", \"Friendship\", \"Friendship\", \"Friendship\", \"Friendship\", \"Friendship\", \"Friendship\", \"Friendship\", \"Friendship\", \"Friendship\", \"Friendship\", \"Friendship\", \"Friendship\", \"Friendship\", \"Friendship\", \"Friendship\", \"Friendship\", \"Friendship\", \"Friendship\", \"Friendship\", \"Friendship\", \"Friendship\", \"Friendship\", \"Friendship\", \"Friendship\", \"Friendship\", \"Friendship\", \"Friendship\", \"Friendship\", \"Friendship\", \"Friendship\", \"Friendship\", \"Friendship\", \"Friendship\", \"Friendship\", \"Friendship\", \"Friendship\", \"Friendship\", \"Friendship\", \"Friendship\", \"Friendship\", \"Friendship\", \"Friendship\", \"Friendship\", \"Friendship\", \"Friendship\", \"Friendship\", \"Friendship\", \"Friendship\", \"Friendship\", \"Friendship\", \"Friendship\", \"Friendship\", \"Friendship\", \"Friendship\", \"Friendship\", \"Friendship\", \"Friendship\", \"Friendship\", \"Friendship\", \"Friendship\", \"Friendship\", \"Friendship\", \"Friendship\", \"Friendship\", \"Friendship\", \"Friendship\", \"Friendship\", \"Friendship\", \"Friendship\", \"Friendship\", \"Friendship\", \"Friendship\", \"Friendship\", \"Friendship\", \"Friendship\", \"Friendship\", \"Friendship\", \"Friendship\", \"Friendship\", \"Friendship\", \"Friendship\", \"Friendship\", \"Friendship\", \"Friendship\", \"Friendship\", \"Friendship\", \"Friendship\", \"Friendship\", \"Friendship\", \"Friendship\", \"Friendship\", \"Friendship\", \"Friendship\", \"Friendship\", \"Friendship\", \"Friendship\", \"Love\", \"Love\", \"Love\", \"Love\", \"Love\", \"Love\", \"Love\", \"Love\", \"Love\", \"Love\", \"Love\", \"Love\", \"Love\", \"Love\", \"Love\", \"Love\", \"Love\", \"Love\", \"Love\", \"Love\", \"Love\", \"Love\", \"Love\", \"Love\", \"Love\", \"Love\", \"Love\", \"Love\", \"Love\", \"Love\", \"Love\", \"Love\", \"Love\", \"Love\", \"Love\", \"Love\", \"Love\", \"Love\", \"Love\", \"Love\", \"Love\", \"Love\", \"Love\", \"Love\", \"Love\", \"Love\", \"Love\", \"Love\", \"Love\", \"Love\", \"Love\", \"Love\", \"Love\", \"Love\", \"Love\", \"Love\", \"Love\", \"Love\", \"Love\", \"Love\", \"Love\", \"Love\", \"Love\", \"Love\", \"Love\", \"Love\", \"Love\", \"Love\", \"Love\", \"Love\", \"Love\", \"Love\", \"Love\", \"Love\", \"Love\", \"Love\", \"Love\", \"Love\", \"Love\", \"Love\", \"Love\", \"Love\", \"Love\", \"Love\", \"Love\", \"Love\", \"Love\", \"Love\", \"Love\", \"Love\", \"Love\", \"Love\", \"Love\", \"Love\", \"Love\", \"Love\", \"Love\", \"Love\", \"Love\", \"Love\", \"Love\", \"Love\", \"Love\", \"Love\", \"Love\", \"Love\", \"Love\", \"Love\", \"Love\", \"Love\", \"Love\", \"Love\", \"Love\", \"Love\", \"Love\", \"Love\", \"Love\", \"Love\", \"Love\", \"Love\", \"Love\", \"Love\", \"Love\", \"Love\", \"Love\", \"Love\"]}, {\"name\": \"Year\", \"type\": \"dimension\", \"values\": [\"01\", \"02\", \"03\", \"04\", \"05\", \"06\", \"07\", \"01\", \"02\", \"03\", \"04\", \"05\", \"06\", \"07\", \"01\", \"02\", \"03\", \"04\", \"05\", \"06\", \"07\", \"01\", \"02\", \"03\", \"04\", \"05\", \"06\", \"07\", \"01\", \"02\", \"03\", \"04\", \"05\", \"06\", \"07\", \"01\", \"02\", \"03\", \"04\", \"05\", \"06\", \"07\", \"08\", \"09\", \"10\", \"11\", \"12\", \"13\", \"14\", \"08\", \"09\", \"10\", \"11\", \"12\", \"13\", \"14\", \"08\", \"09\", \"10\", \"11\", \"12\", \"13\", \"14\", \"08\", \"09\", \"10\", \"11\", \"12\", \"13\", \"14\", \"08\", \"09\", \"10\", \"11\", \"12\", \"13\", \"14\", \"08\", \"09\", \"10\", \"11\", \"12\", \"13\", \"14\", \"15\", \"16\", \"17\", \"18\", \"19\", \"20\", \"21\", \"15\", \"16\", \"17\", \"18\", \"19\", \"20\", \"21\", \"15\", \"16\", \"17\", \"18\", \"19\", \"20\", \"21\", \"15\", \"16\", \"17\", \"18\", \"19\", \"20\", \"21\", \"15\", \"16\", \"17\", \"18\", \"19\", \"20\", \"21\", \"15\", \"16\", \"17\", \"18\", \"19\", \"20\", \"21\", \"01\", \"02\", \"03\", \"04\", \"05\", \"06\", \"07\", \"01\", \"02\", \"03\", \"04\", \"05\", \"06\", \"07\", \"01\", \"02\", \"03\", \"04\", \"05\", \"06\", \"07\", \"01\", \"02\", \"03\", \"04\", \"05\", \"06\", \"07\", \"01\", \"02\", \"03\", \"04\", \"05\", \"06\", \"07\", \"01\", \"02\", \"03\", \"04\", \"05\", \"06\", \"07\", \"08\", \"09\", \"10\", \"11\", \"12\", \"13\", \"14\", \"08\", \"09\", \"10\", \"11\", \"12\", \"13\", \"14\", \"08\", \"09\", \"10\", \"11\", \"12\", \"13\", \"14\", \"08\", \"09\", \"10\", \"11\", \"12\", \"13\", \"14\", \"08\", \"09\", \"10\", \"11\", \"12\", \"13\", \"14\", \"08\", \"09\", \"10\", \"11\", \"12\", \"13\", \"14\", \"15\", \"16\", \"17\", \"18\", \"19\", \"20\", \"21\", \"15\", \"16\", \"17\", \"18\", \"19\", \"20\", \"21\", \"15\", \"16\", \"17\", \"18\", \"19\", \"20\", \"21\", \"15\", \"16\", \"17\", \"18\", \"19\", \"20\", \"21\", \"15\", \"16\", \"17\", \"18\", \"19\", \"20\", \"21\", \"15\", \"16\", \"17\", \"18\", \"19\", \"20\", \"21\", \"01\", \"02\", \"03\", \"04\", \"05\", \"06\", \"07\", \"01\", \"02\", \"03\", \"04\", \"05\", \"06\", \"07\", \"01\", \"02\", \"03\", \"04\", \"05\", \"06\", \"07\", \"01\", \"02\", \"03\", \"04\", \"05\", \"06\", \"07\", \"01\", \"02\", \"03\", \"04\", \"05\", \"06\", \"07\", \"01\", \"02\", \"03\", \"04\", \"05\", \"06\", \"07\", \"08\", \"09\", \"10\", \"11\", \"12\", \"13\", \"14\", \"08\", \"09\", \"10\", \"11\", \"12\", \"13\", \"14\", \"08\", \"09\", \"10\", \"11\", \"12\", \"13\", \"14\", \"08\", \"09\", \"10\", \"11\", \"12\", \"13\", \"14\", \"08\", \"09\", \"10\", \"11\", \"12\", \"13\", \"14\", \"08\", \"09\", \"10\", \"11\", \"12\", \"13\", \"14\", \"15\", \"16\", \"17\", \"18\", \"19\", \"20\", \"21\", \"15\", \"16\", \"17\", \"18\", \"19\", \"20\", \"21\", \"15\", \"16\", \"17\", \"18\", \"19\", \"20\", \"21\", \"15\", \"16\", \"17\", \"18\", \"19\", \"20\", \"21\", \"15\", \"16\", \"17\", \"18\", \"19\", \"20\", \"21\", \"15\", \"16\", \"17\", \"18\", \"19\", \"20\", \"21\", \"01\", \"02\", \"03\", \"04\", \"05\", \"06\", \"07\", \"01\", \"02\", \"03\", \"04\", \"05\", \"06\", \"07\", \"01\", \"02\", \"03\", \"04\", \"05\", \"06\", \"07\", \"01\", \"02\", \"03\", \"04\", \"05\", \"06\", \"07\", \"01\", \"02\", \"03\", \"04\", \"05\", \"06\", \"07\", \"01\", \"02\", \"03\", \"04\", \"05\", \"06\", \"07\", \"08\", \"09\", \"10\", \"11\", \"12\", \"13\", \"14\", \"08\", \"09\", \"10\", \"11\", \"12\", \"13\", \"14\", \"08\", \"09\", \"10\", \"11\", \"12\", \"13\", \"14\", \"08\", \"09\", \"10\", \"11\", \"12\", \"13\", \"14\", \"08\", \"09\", \"10\", \"11\", \"12\", \"13\", \"14\", \"08\", \"09\", \"10\", \"11\", \"12\", \"13\", \"14\", \"15\", \"16\", \"17\", \"18\", \"19\", \"20\", \"21\", \"15\", \"16\", \"17\", \"18\", \"19\", \"20\", \"21\", \"15\", \"16\", \"17\", \"18\", \"19\", \"20\", \"21\", \"15\", \"16\", \"17\", \"18\", \"19\", \"20\", \"21\", \"15\", \"16\", \"17\", \"18\", \"19\", \"20\", \"21\", \"15\", \"16\", \"17\", \"18\", \"19\", \"20\", \"21\"]}, {\"name\": \"Value 2 (+)\", \"type\": \"measure\", \"values\": [6.0, 8.0, 16.0, 17.0, 8.0, 10.0, 4.0, 22.0, 19.0, 28.0, 28.0, 23.0, 29.0, 17.0, 20.0, 24.0, 39.0, 22.0, 29.0, 49.0, 13.0, 3.0, 8.0, 9.0, 10.0, 11.0, 5.0, 1.0, 12.0, 25.0, 24.0, 33.0, 22.0, 37.0, 5.0, 38.0, 23.0, 24.0, 32.0, 27.0, 24.0, 34.0, 16.0, 15.0, 28.0, 35.0, 31.0, 34.0, 21.0, 12.0, 13.0, 9.0, 21.0, 14.0, 19.0, 10.0, 15.0, 26.0, 15.0, 25.0, 23.0, 28.0, 9.0, 1.0, 3.0, 7.0, 12.0, 7.0, 8.0, 3.0, 25.0, 46.0, 46.0, 46.0, 43.0, 55.0, 22.0, 12.0, 17.0, 16.0, 16.0, 13.0, 20.0, 17.0, 23.0, 13.0, 19.0, 18.0, 18.0, 14.0, 14.0, 25.0, 21.0, 13.0, 18.0, 12.0, 8.0, 10.0, 15.0, 25.0, 19.0, 22.0, 22.0, 30.0, 8.0, 24.0, 19.0, 21.0, 29.0, 15.0, 12.0, 9.0, 10.0, 11.0, 3.0, 9.0, 9.0, 4.0, 0.0, 12.0, 1.0, 15.0, 4.0, 7.0, 2.0, 4.0, 20.0, 26.0, 22.0, 31.0, 14.0, 23.0, 8.0, 11.0, 23.0, 27.0, 20.0, 15.0, 19.0, 13.0, 25.0, 39.0, 31.0, 37.0, 36.0, 45.0, 17.0, 12.0, 19.0, 17.0, 11.0, 10.0, 16.0, 7.0, 18.0, 10.0, 4.0, 8.0, 5.0, 4.0, 8.0, 11.0, 10.0, 9.0, 13.0, 7.0, 5.0, 5.0, 7.0, 8.0, 7.0, 3.0, 4.0, 4.0, 4.0, 1.0, 2.0, 7.0, 0.0, 2.0, 2.0, 1.0, 9.0, 0.0, 5.0, 4.0, 2.0, 2.0, 0.0, 2.0, 2.0, 2.0, 0.0, 0.0, 0.0, 0.0, 6.0, 3.0, 0.0, 4.0, 1.0, 0.0, 0.0, 5.0, 10.0, 6.0, 14.0, 9.0, 10.0, 9.0, 3.0, 6.0, 7.0, 5.0, 4.0, 9.0, 1.0, 13.0, 6.0, 4.0, 12.0, 4.0, 9.0, 1.0, 8.0, 4.0, 6.0, 5.0, 8.0, 9.0, 6.0, 5.0, 7.0, 1.0, 3.0, 3.0, 3.0, 1.0, 12.0, 17.0, 6.0, 17.0, 12.0, 19.0, 10.0, 6.0, 3.0, 1.0, 3.0, 14.0, 6.0, 4.0, 13.0, 10.0, 10.0, 12.0, 8.0, 14.0, 4.0, 12.0, 16.0, 25.0, 15.0, 19.0, 12.0, 6.0, 1.0, 1.0, 2.0, 3.0, 2.0, 2.0, 2.0, 2.0, 2.0, 0.0, 4.0, 0.0, 4.0, 1.0, 2.0, 6.0, 3.0, 4.0, 6.0, 2.0, 2.0, 30.0, 38.0, 39.0, 27.0, 24.0, 23.0, 13.0, 5.0, 5.0, 12.0, 4.0, 1.0, 0.0, 2.0, 4.0, 4.0, 4.0, 0.0, 7.0, 3.0, 0.0, 4.0, 4.0, 3.0, 7.0, 1.0, 0.0, 0.0, 3.0, 6.0, 0.0, 4.0, 2.0, 0.0, 0.0, 4.0, 6.0, 1.0, 4.0, 5.0, 1.0, 0.0, 1.0, 7.0, 6.0, 6.0, 7.0, 4.0, 2.0, 10.0, 10.0, 6.0, 16.0, 12.0, 9.0, 6.0, 5.0, 3.0, 2.0, 10.0, 8.0, 8.0, 5.0, 5.0, 18.0, 17.0, 13.0, 12.0, 6.0, 8.0, 2.0, 1.0, 1.0, 3.0, 2.0, 4.0, 2.0, 9.0, 4.0, 5.0, 6.0, 5.0, 10.0, 0.0, 6.0, 5.0, 15.0, 14.0, 13.0, 11.0, 11.0, 8.0, 9.0, 8.0, 13.0, 10.0, 10.0, 8.0, 16.0, 17.0, 5.0, 10.0, 12.0, 12.0, 6.0, 3.0, 3.0, 8.0, 6.0, 1.0, 4.0, 0.0, 4.0, 1.0, 5.0, 2.0, 0.0, 1.0, 0.0, 1.0, 4.0, 5.0, 6.0, 7.0, 5.0, 5.0, 15.0, 3.0, 12.0, 16.0, 5.0, 8.0, 5.0, 8.0, 10.0, 11.0, 19.0, 11.0, 8.0, 10.0, 9.0, 16.0, 17.0, 23.0, 15.0, 18.0, 4.0, 2.0, 2.0, 9.0, 8.0, 13.0, 10.0, 1.0, 0.0, 1.0, 3.0, 0.0, 2.0, 1.0, 1.0, 9.0, 24.0, 8.0, 10.0, 19.0, 11.0, 3.0, 3.0, 3.0, 12.0, 21.0, 10.0, 9.0, 4.0, 8.0, 10.0, 11.0, 19.0, 11.0, 8.0, 10.0, 9.0, 16.0, 17.0, 23.0, 15.0, 18.0, 4.0, 2.0, 2.0, 9.0, 8.0, 13.0, 10.0, 1.0, 0.0, 1.0, 3.0, 0.0, 2.0, 1.0, 1.0, 9.0, 24.0, 8.0, 10.0, 19.0, 11.0, 3.0, 3.0, 3.0, 12.0, 21.0, 10.0, 9.0, 4.0]}, {\"name\": \"Value 1 (+)\", \"type\": \"measure\", \"values\": [0.1122, 0.0918, 0.0918, 0.0969, 0.0918, 0.0969, 0.0969, 0.1122, 0.0918, 0.0918, 0.0969, 0.0918, 0.0969, 0.0969, 0.1122, 0.0918, 0.0918, 0.0969, 0.0918, 0.0969, 0.0969, 0.1122, 0.0918, 0.0918, 0.0969, 0.0918, 0.0969, 0.0969, 0.1122, 0.0918, 0.0918, 0.0969, 0.0918, 0.0969, 0.0969, 0.1122, 0.0918, 0.0918, 0.0969, 0.0918, 0.0969, 0.0969, 0.0566, 0.0721, 0.0721, 0.0772, 0.0824, 0.0875, 0.0875, 0.0566, 0.0721, 0.0721, 0.0772, 0.0824, 0.0875, 0.0875, 0.0566, 0.0721, 0.0721, 0.0772, 0.0824, 0.0875, 0.0875, 0.0566, 0.0721, 0.0721, 0.0772, 0.0824, 0.0875, 0.0875, 0.0566, 0.0721, 0.0721, 0.0772, 0.0824, 0.0875, 0.0875, 0.0566, 0.0721, 0.0721, 0.0772, 0.0824, 0.0875, 0.0875, 0.0885, 0.0781, 0.0729, 0.0625, 0.0729, 0.0625, 0.0625, 0.0885, 0.0781, 0.0729, 0.0625, 0.0729, 0.0625, 0.0625, 0.0885, 0.0781, 0.0729, 0.0625, 0.0729, 0.0625, 0.0625, 0.0885, 0.0781, 0.0729, 0.0625, 0.0729, 0.0625, 0.0625, 0.0885, 0.0781, 0.0729, 0.0625, 0.0729, 0.0625, 0.0625, 0.0885, 0.0781, 0.0729, 0.0625, 0.0729, 0.0625, 0.0625, 0.0691, 0.0642, 0.0691, 0.0691, 0.0592, 0.0642, 0.0691, 0.0691, 0.0642, 0.0691, 0.0691, 0.0592, 0.0642, 0.0691, 0.0691, 0.0642, 0.0691, 0.0691, 0.0592, 0.0642, 0.0691, 0.0691, 0.0642, 0.0691, 0.0691, 0.0592, 0.0642, 0.0691, 0.0691, 0.0642, 0.0691, 0.0691, 0.0592, 0.0642, 0.0691, 0.0691, 0.0642, 0.0691, 0.0691, 0.0592, 0.0642, 0.0691, 0.0142, 0.0142, 0.0095, 0.0095, 0.0095, 0.0095, 0.0047, 0.0142, 0.0142, 0.0095, 0.0095, 0.0095, 0.0095, 0.0047, 0.0142, 0.0142, 0.0095, 0.0095, 0.0095, 0.0095, 0.0047, 0.0142, 0.0142, 0.0095, 0.0095, 0.0095, 0.0095, 0.0047, 0.0142, 0.0142, 0.0095, 0.0095, 0.0095, 0.0095, 0.0047, 0.0142, 0.0142, 0.0095, 0.0095, 0.0095, 0.0095, 0.0047, 0.0306, 0.0408, 0.0306, 0.0357, 0.0357, 0.0357, 0.0408, 0.0306, 0.0408, 0.0306, 0.0357, 0.0357, 0.0357, 0.0408, 0.0306, 0.0408, 0.0306, 0.0357, 0.0357, 0.0357, 0.0408, 0.0306, 0.0408, 0.0306, 0.0357, 0.0357, 0.0357, 0.0408, 0.0306, 0.0408, 0.0306, 0.0357, 0.0357, 0.0357, 0.0408, 0.0306, 0.0408, 0.0306, 0.0357, 0.0357, 0.0357, 0.0408, 0.0357, 0.0408, 0.0357, 0.0357, 0.0408, 0.0306, 0.0306, 0.0357, 0.0408, 0.0357, 0.0357, 0.0408, 0.0306, 0.0306, 0.0357, 0.0408, 0.0357, 0.0357, 0.0408, 0.0306, 0.0306, 0.0357, 0.0408, 0.0357, 0.0357, 0.0408, 0.0306, 0.0306, 0.0357, 0.0408, 0.0357, 0.0357, 0.0408, 0.0306, 0.0306, 0.0357, 0.0408, 0.0357, 0.0357, 0.0408, 0.0306, 0.0306, 0.0189, 0.0252, 0.0189, 0.0126, 0.0126, 0.0126, 0.0063, 0.0189, 0.0252, 0.0189, 0.0126, 0.0126, 0.0126, 0.0063, 0.0189, 0.0252, 0.0189, 0.0126, 0.0126, 0.0126, 0.0063, 0.0189, 0.0252, 0.0189, 0.0126, 0.0126, 0.0126, 0.0063, 0.0189, 0.0252, 0.0189, 0.0126, 0.0126, 0.0126, 0.0063, 0.0189, 0.0252, 0.0189, 0.0126, 0.0126, 0.0126, 0.0063, 0.0225, 0.0225, 0.0338, 0.0281, 0.0338, 0.0338, 0.0394, 0.0225, 0.0225, 0.0338, 0.0281, 0.0338, 0.0338, 0.0394, 0.0225, 0.0225, 0.0338, 0.0281, 0.0338, 0.0338, 0.0394, 0.0225, 0.0225, 0.0338, 0.0281, 0.0338, 0.0338, 0.0394, 0.0225, 0.0225, 0.0338, 0.0281, 0.0338, 0.0338, 0.0394, 0.0225, 0.0225, 0.0338, 0.0281, 0.0338, 0.0338, 0.0394, 0.0388, 0.0388, 0.0388, 0.0388, 0.0388, 0.0333, 0.0222, 0.0388, 0.0388, 0.0388, 0.0388, 0.0388, 0.0333, 0.0222, 0.0388, 0.0388, 0.0388, 0.0388, 0.0388, 0.0333, 0.0222, 0.0388, 0.0388, 0.0388, 0.0388, 0.0388, 0.0333, 0.0222, 0.0388, 0.0388, 0.0388, 0.0388, 0.0388, 0.0333, 0.0222, 0.0388, 0.0388, 0.0388, 0.0388, 0.0388, 0.0333, 0.0222, 0.0238, 0.0238, 0.0333, 0.038, 0.0333, 0.0333, 0.0285, 0.0238, 0.0238, 0.0333, 0.038, 0.0333, 0.0333, 0.0285, 0.0238, 0.0238, 0.0333, 0.038, 0.0333, 0.0333, 0.0285, 0.0238, 0.0238, 0.0333, 0.038, 0.0333, 0.0333, 0.0285, 0.0238, 0.0238, 0.0333, 0.038, 0.0333, 0.0333, 0.0285, 0.0238, 0.0238, 0.0333, 0.038, 0.0333, 0.0333, 0.0285, 0.2734, 0.25, 0.2707, 0.4756, 0.362, 0.2545, 0.5, 0.2734, 0.375, 0.464, 0.6486, 0.4827, 0.5515, 0.2083, 0.0781, 0.0312, 0.232, 0.2594, 0.3218, 0.2121, 0.0833, 0.0, 0.0625, 0.1546, 0.0, 0.1609, 0.0424, 0.2083, 0.3125, 0.4687, 0.3093, 0.3027, 0.5632, 0.2969, 0.25, 0.0781, 0.0937, 0.3093, 0.5189, 0.2816, 0.3393, 0.1666]}, {\"name\": \"Value 3 (+)\", \"type\": \"measure\", \"values\": [8223696.0, 64573220.0, 82882182.0, 94046233.0, 3760493.0, 11411245.0, 15676964.0, 90069337.0, 36621745.0, 11703682.0, 52743273.0, 29275231.0, 96342143.0, 52659612.0, 29618522.0, 38129021.0, 45573480.0, 8888313.0, 87876023.0, 84136617.0, 48651201.0, 110597064.0, 83930549.0, 21827161.0, 61826362.0, 18006151.0, 54234990.0, 58166563.0, 99514491.0, 89879689.0, 29768495.0, 17094423.0, 48762291.0, 31424587.0, 66188589.0, 79292985.0, 7925581.0, 8573022.0, 29278971.0, 72739705.0, 5827585.0, 71142099.0, 18022711.0, 38713248.0, 7515812.0, 51794489.0, 56453210.0, 82082611.0, 79412923.0, 37405296.0, 1365676.0, 27080470.0, 443997.0, 34163726.0, 74538706.0, 4146997.0, 20379604.0, 37552047.0, 2494157.0, 64931013.0, 77147570.0, 7218898.0, 5934799.0, 19840123.0, 22300551.0, 60664780.0, 40958389.0, 60100972.0, 22178345.0, 52826595.0, 47062545.0, 71480194.0, 17734555.0, 30395006.0, 35051238.0, 50616152.0, 44201688.0, 17916104.0, 55254298.0, 68933732.0, 77162941.0, 69035834.0, 12110901.0, 29339774.0, 1245613.0, 11542494.0, 53144935.0, 56600359.0, 30483485.0, 27585717.0, 54664284.0, 79952521.0, 69708434.0, 51772289.0, 42931444.0, 18722740.0, 3074823.0, 29229042.0, 64226723.0, 62560464.0, 37235695.0, 10790509.0, 8999942.0, 61514687.0, 25595109.0, 30612672.0, 75099049.0, 1526071.0, 61591773.0, 41894187.0, 50397172.0, 51258117.0, 10088815.0, 49248404.0, 50951550.0, 58215501.0, 37317876.0, 37491984.0, 2775719.0, 23530455.0, 49343179.0, 34155619.0, 57425056.0, 54078654.0, 25403718.0, 8103122.0, 32786838.0, 45393986.0, 16101959.0, 6660547.0, 30225724.0, 3382747.0, 58849217.0, 64383669.0, 20263487.0, 31822998.0, 17465562.0, 12357472.0, 25857433.0, 32396515.0, 54163441.0, 9100468.0, 64960035.0, 65830352.0, 8142939.0, 8968684.0, 8080902.0, 45742998.0, 2572359.0, 30906283.0, 44322777.0, 7981472.0, 1577260.0, 34762709.0, 26378673.0, 54847918.0, 7318235.0, 34254781.0, 43383839.0, 50560662.0, 59451714.0, 489698.0, 31894265.0, 11256022.0, 8204478.0, 20495382.0, 32294486.0, 42924464.0, 13346676.0, 6537237.0, 8288904.0, 1806362.0, 784816.0, 236348.0, 2586748.0, 11902809.0, 9181459.0, 4455980.0, 3331136.0, 4558124.0, 6289112.0, 3632800.0, 11414883.0, 9456873.0, 5887195.0, 8523758.0, 5443934.0, 3175670.0, 2155785.0, 6691065.0, 2576054.0, 4925069.0, 279265.0, 7737416.0, 7731643.0, 4288249.0, 5383975.0, 4628054.0, 2933168.0, 1429449.0, 2647305.0, 8372703.0, 4041393.0, 12164921.0, 11432814.0, 8849461.0, 8800981.0, 7935947.0, 6801172.0, 94125.0, 13199586.0, 34673646.0, 25593066.0, 4523672.0, 28260703.0, 35188533.0, 19131988.0, 30224537.0, 10243373.0, 18704808.0, 2009479.0, 20964609.0, 13102898.0, 39110332.0, 7200998.0, 35629762.0, 15493967.0, 1657736.0, 8129988.0, 8888206.0, 20474322.0, 28197065.0, 2226660.0, 5305436.0, 22741003.0, 3154425.0, 13321101.0, 126496.0, 9629824.0, 23250811.0, 3082643.0, 35429603.0, 5435605.0, 12709834.0, 37029681.0, 6026832.0, 35681881.0, 25454549.0, 16339494.0, 6511594.0, 27769622.0, 7817496.0, 26596675.0, 31122150.0, 9673385.0, 10628856.0, 40235560.0, 4879427.0, 30495063.0, 22471809.0, 20874965.0, 22358195.0, 11189835.0, 35727176.0, 13205916.0, 10062799.0, 20588688.0, 39566356.0, 18163110.0, 2626909.0, 26280298.0, 19297521.0, 20524833.0, 33632787.0, 22480374.0, 13782095.0, 29667954.0, 9148845.0, 23655974.0, 2219320.0, 33078846.0, 31379201.0, 5171082.0, 2524841.0, 20914143.0, 20505249.0, 16284806.0, 22425902.0, 16858740.0, 7499996.0, 24595726.0, 39244977.0, 27065332.0, 14680994.0, 11453383.0, 3331822.0, 6340724.0, 1007243.0, 484730.0, 1478267.0, 595103.0, 10860457.0, 25128094.0, 14670237.0, 10983373.0, 9167380.0, 6013394.0, 1477345.0, 3704981.0, 1786600.0, 15660007.0, 6673398.0, 10952338.0, 9006698.0, 5615629.0, 7871449.0, 9741469.0, 14364437.0, 5094556.0, 4533257.0, 2791525.0, 3823498.0, 17854951.0, 21324242.0, 12873673.0, 1097133.0, 1400349.0, 4032888.0, 148831.0, 1223192.0, 1862838.0, 2726206.0, 5457842.0, 6324814.0, 3290162.0, 1947271.0, 2908596.0, 14127356.0, 14626136.0, 3159250.0, 14747769.0, 31281007.0, 25879645.0, 18866198.0, 1713857.0, 20221344.0, 1560442.0, 15211776.0, 14665787.0, 38446013.0, 13612885.0, 20953580.0, 29394548.0, 3117144.0, 14669439.0, 18628395.0, 3930843.0, 20236025.0, 16704491.0, 21246292.0, 15728651.0, 9374530.0, 25015147.0, 9069742.0, 10697305.0, 6679670.0, 22732158.0, 3564846.0, 27700948.0, 30494170.0, 27071332.0, 172770.0, 15519896.0, 6062205.0, 11673838.0, 14066373.0, 22497530.0, 21460290.0, 4145149.0, 12931610.0, 33743440.0, 23259186.0, 3377638.0, 15662083.0, 20529995.0, 28203782.0, 19152593.0, 3999778.0, 13922491.0, 20172435.0, 10494768.0, 278582.0, 6797044.0, 36555560.0, 2673291.0, 35674457.0, 24904528.0, 22081542.0, 15356665.0, 26674620.0, 15981820.0, 24084363.0, 22469755.0, 27234712.0, 28192572.0, 21679828.0, 30503113.0, 5882558.0, 35185905.0, 19241548.0, 13701001.0, 32890820.0, 9014058.0, 20646066.0, 2578734.0, 9839578.0, 20438904.0, 6767609.0, 13826742.0, 11412503.0, 13083062.0, 9592639.0, 16143290.0, 28833674.0, 16041059.0, 3475297.0, 10004152.0, 18512772.0, 19022972.0, 28211138.0, 6776780.0, 22946367.0, 5648993.0, 2214807.0, 11535762.0, 5161421.0, 2114529.0, 37638032.0, 8259968.0, 5344851.0, 9442843.0, 5762750.0, 23604547.0, 14557578.0, 33470754.0, 11210332.0, 30671906.0, 14649702.0, 611090.0, 5375203.0, 23199304.0, 32155369.0, 12110868.0, 28950708.0, 27048464.0, 10616709.0, 22031459.0, 21822386.0, 24402854.0, 14796821.0, 13877932.0, 1926919.0, 93457463.0, 154038115.0, 22857027.0, 35911317.0, 201313745.0, 79967800.0, 261015466.0, 87377699.0, 168159242.0, 378602662.0, 8147657.0, 234001682.0, 398908151.0, 38364328.0, 42156779.0, 17320396.0, 38911314.0, 56392776.0, 71394835.0, 188496940.0, 5750023.0, 0.0, 59545801.0, 120388761.0, 0.0, 23510232.0, 18257808.0, 4157369.0, 242640654.0, 175832719.0, 305260787.0, 35865467.0, 238265326.0, 71963626.0, 186966485.0, 40323565.0, 19192681.0, 82234135.0, 92275496.0, 275775550.0, 149952050.0, 154367641.0]}, {\"name\": \"Value 5 (+/-)\", \"type\": \"measure\", \"values\": [-6.0, -8.0, -16.0, 17.0, 8.0, -10.0, -4.0, -22.0, 19.0, 28.0, -28.0, 23.0, -29.0, 17.0, 20.0, -24.0, -39.0, 22.0, 29.0, 49.0, 13.0, -3.0, 8.0, 9.0, 10.0, 11.0, -5.0, 1.0, -12.0, -25.0, 24.0, -33.0, -22.0, -37.0, 5.0, 38.0, 23.0, 24.0, 32.0, -27.0, -24.0, 34.0, -16.0, -15.0, 28.0, 35.0, 31.0, 34.0, -21.0, 12.0, 13.0, 9.0, -21.0, -14.0, -19.0, -10.0, 15.0, 26.0, -15.0, -25.0, -23.0, -28.0, -9.0, 1.0, 3.0, -7.0, -12.0, -7.0, 8.0, 3.0, -25.0, -46.0, 46.0, 46.0, 43.0, 55.0, 22.0, -12.0, 17.0, -16.0, -16.0, 13.0, -20.0, -17.0, -23.0, 13.0, -19.0, -18.0, 18.0, -14.0, -14.0, 25.0, -21.0, 13.0, -18.0, 12.0, 8.0, 10.0, -15.0, 25.0, 19.0, -22.0, 22.0, 30.0, 8.0, -24.0, -19.0, 21.0, -29.0, -15.0, 12.0, 9.0, -10.0, -11.0, -3.0, 9.0, 9.0, 4.0, 0.0, -12.0, 1.0, 15.0, 4.0, 7.0, -2.0, 4.0, -20.0, 26.0, 22.0, 31.0, -14.0, 23.0, 8.0, -11.0, 23.0, 27.0, 20.0, 15.0, 19.0, -13.0, 25.0, 39.0, 31.0, -37.0, -36.0, -45.0, 17.0, -12.0, -19.0, 17.0, -11.0, -10.0, -16.0, 7.0, 18.0, 10.0, -4.0, -8.0, 5.0, 4.0, 8.0, 11.0, -10.0, -9.0, -13.0, -7.0, -5.0, -5.0, -7.0, 8.0, 7.0, -3.0, -4.0, -4.0, 4.0, -1.0, -2.0, 7.0, 0.0, 2.0, 2.0, 1.0, -9.0, 0.0, 5.0, -4.0, -2.0, -2.0, 0.0, 2.0, -2.0, 2.0, 0.0, 0.0, 0.0, 0.0, -6.0, -3.0, 0.0, -4.0, -1.0, 0.0, 0.0, -5.0, 10.0, -6.0, -14.0, 9.0, 10.0, -9.0, -3.0, 6.0, 7.0, 5.0, -4.0, -9.0, 1.0, -13.0, 6.0, 4.0, -12.0, 4.0, -9.0, -1.0, -8.0, 4.0, -6.0, 5.0, 8.0, -9.0, 6.0, -5.0, -7.0, 1.0, -3.0, -3.0, -3.0, -1.0, -12.0, -17.0, -6.0, 17.0, 12.0, -19.0, 10.0, -6.0, 3.0, -1.0, -3.0, 14.0, 6.0, -4.0, -13.0, 10.0, 10.0, 12.0, -8.0, -14.0, -4.0, -12.0, -16.0, -25.0, 15.0, 19.0, -12.0, 6.0, -1.0, -1.0, -2.0, -3.0, 2.0, -2.0, -2.0, -2.0, 2.0, 0.0, 4.0, 0.0, 4.0, -1.0, 2.0, 6.0, 3.0, -4.0, -6.0, 2.0, 2.0, -30.0, -38.0, -39.0, 27.0, 24.0, -23.0, 13.0, -5.0, -5.0, 12.0, 4.0, 1.0, 0.0, 2.0, -4.0, 4.0, 4.0, 0.0, 7.0, -3.0, 0.0, -4.0, -4.0, -3.0, 7.0, -1.0, 0.0, 0.0, -3.0, -6.0, 0.0, 4.0, 2.0, 0.0, 0.0, 4.0, -6.0, -1.0, -4.0, -5.0, -1.0, 0.0, 1.0, 7.0, 6.0, 6.0, -7.0, 4.0, 2.0, 10.0, -10.0, -6.0, 16.0, -12.0, -9.0, 6.0, -5.0, 3.0, 2.0, -10.0, 8.0, 8.0, -5.0, 5.0, -18.0, 17.0, 13.0, 12.0, 6.0, 8.0, 2.0, -1.0, 1.0, 3.0, 2.0, -4.0, -2.0, 9.0, -4.0, -5.0, 6.0, 5.0, -10.0, 0.0, 6.0, 5.0, -15.0, 14.0, 13.0, 11.0, 11.0, -8.0, 9.0, 8.0, 13.0, -10.0, 10.0, -8.0, 16.0, 17.0, -5.0, 10.0, -12.0, 12.0, -6.0, 3.0, 3.0, 8.0, -6.0, -1.0, -4.0, 0.0, -4.0, -1.0, 5.0, 2.0, 0.0, 1.0, 0.0, 1.0, 4.0, 5.0, -6.0, -7.0, -5.0, -5.0, 15.0, -3.0, 12.0, 16.0, -5.0, 8.0, -5.0, -8.0, -10.0, -11.0, 19.0, 11.0, 8.0, -10.0, 9.0, -16.0, 17.0, 23.0, -15.0, 18.0, 4.0, 2.0, -2.0, 9.0, -8.0, -13.0, -10.0, 1.0, 0.0, -1.0, -3.0, 0.0, 2.0, 1.0, 1.0, 9.0, 24.0, -8.0, -10.0, -19.0, -11.0, -3.0, 3.0, -3.0, 12.0, 21.0, -10.0, -9.0, -4.0, 8.0, 10.0, -11.0, 19.0, 11.0, -8.0, -10.0, 9.0, 16.0, 17.0, 23.0, -15.0, -18.0, 4.0, 2.0, 2.0, -9.0, 8.0, -13.0, -10.0, 1.0, 0.0, 1.0, 3.0, 0.0, -2.0, -1.0, 1.0, 9.0, -24.0, 8.0, -10.0, -19.0, -11.0, -3.0, -3.0, -3.0, -12.0, -21.0, 10.0, 9.0, -4.0]}, {\"name\": \"Value 4 (+/-)\", \"type\": \"measure\", \"values\": [-0.1122, -0.0918, 0.0918, -0.0969, 0.0918, -0.0969, -0.0969, -0.1122, 0.0918, -0.0918, -0.0969, 0.0918, 0.0969, -0.0969, -0.1122, 0.0918, -0.0918, 0.0969, -0.0918, -0.0969, 0.0969, 0.1122, 0.0918, -0.0918, -0.0969, -0.0918, 0.0969, -0.0969, 0.1122, -0.0918, 0.0918, -0.0969, -0.0918, -0.0969, -0.0969, 0.1122, -0.0918, 0.0918, 0.0969, -0.0918, -0.0969, -0.0969, -0.0566, -0.0721, -0.0721, 0.0772, -0.0824, -0.0875, -0.0875, 0.0566, 0.0721, 0.0721, 0.0772, 0.0824, -0.0875, -0.0875, -0.0566, -0.0721, -0.0721, -0.0772, 0.0824, 0.0875, 0.0875, -0.0566, -0.0721, 0.0721, 0.0772, 0.0824, 0.0875, -0.0875, -0.0566, -0.0721, -0.0721, -0.0772, 0.0824, 0.0875, 0.0875, -0.0566, -0.0721, 0.0721, -0.0772, 0.0824, 0.0875, 0.0875, 0.0885, 0.0781, 0.0729, 0.0625, -0.0729, -0.0625, 0.0625, -0.0885, -0.0781, 0.0729, 0.0625, 0.0729, -0.0625, -0.0625, 0.0885, 0.0781, -0.0729, -0.0625, 0.0729, 0.0625, 0.0625, 0.0885, 0.0781, 0.0729, 0.0625, -0.0729, 0.0625, -0.0625, -0.0885, -0.0781, -0.0729, 0.0625, -0.0729, -0.0625, -0.0625, 0.0885, -0.0781, 0.0729, 0.0625, -0.0729, -0.0625, -0.0625, 0.0691, -0.0642, 0.0691, -0.0691, -0.0592, -0.0642, -0.0691, -0.0691, -0.0642, 0.0691, -0.0691, -0.0592, 0.0642, -0.0691, -0.0691, -0.0642, 0.0691, -0.0691, 0.0592, 0.0642, -0.0691, 0.0691, -0.0642, 0.0691, 0.0691, -0.0592, -0.0642, 0.0691, -0.0691, 0.0642, -0.0691, 0.0691, -0.0592, 0.0642, 0.0691, -0.0691, 0.0642, -0.0691, 0.0691, -0.0592, -0.0642, -0.0691, 0.0142, 0.0142, 0.0095, -0.0095, 0.0095, 0.0095, 0.0047, -0.0142, 0.0142, -0.0095, 0.0095, -0.0095, -0.0095, 0.0047, -0.0142, -0.0142, -0.0095, -0.0095, -0.0095, 0.0095, 0.0047, -0.0142, 0.0142, 0.0095, 0.0095, 0.0095, 0.0095, 0.0047, 0.0142, -0.0142, -0.0095, -0.0095, -0.0095, -0.0095, -0.0047, 0.0142, 0.0142, 0.0095, 0.0095, 0.0095, -0.0095, 0.0047, -0.0306, 0.0408, 0.0306, -0.0357, -0.0357, -0.0357, -0.0408, -0.0306, 0.0408, 0.0306, 0.0357, 0.0357, 0.0357, 0.0408, 0.0306, 0.0408, -0.0306, 0.0357, -0.0357, -0.0357, -0.0408, -0.0306, 0.0408, 0.0306, 0.0357, -0.0357, 0.0357, -0.0408, 0.0306, -0.0408, 0.0306, 0.0357, -0.0357, 0.0357, -0.0408, 0.0306, 0.0408, 0.0306, -0.0357, -0.0357, 0.0357, 0.0408, -0.0357, -0.0408, -0.0357, -0.0357, 0.0408, -0.0306, 0.0306, -0.0357, 0.0408, -0.0357, 0.0357, 0.0408, 0.0306, -0.0306, 0.0357, 0.0408, -0.0357, 0.0357, 0.0408, -0.0306, 0.0306, 0.0357, -0.0408, 0.0357, -0.0357, 0.0408, 0.0306, 0.0306, -0.0357, 0.0408, -0.0357, -0.0357, 0.0408, 0.0306, 0.0306, 0.0357, 0.0408, 0.0357, 0.0357, -0.0408, -0.0306, 0.0306, -0.0189, 0.0252, 0.0189, -0.0126, 0.0126, 0.0126, -0.0063, 0.0189, -0.0252, 0.0189, 0.0126, -0.0126, 0.0126, -0.0063, -0.0189, 0.0252, 0.0189, 0.0126, -0.0126, 0.0126, -0.0063, 0.0189, 0.0252, 0.0189, 0.0126, 0.0126, -0.0126, 0.0063, 0.0189, 0.0252, 0.0189, -0.0126, -0.0126, 0.0126, 0.0063, -0.0189, -0.0252, -0.0189, 0.0126, 0.0126, 0.0126, -0.0063, 0.0225, -0.0225, 0.0338, 0.0281, 0.0338, -0.0338, -0.0394, 0.0225, 0.0225, -0.0338, -0.0281, -0.0338, -0.0338, 0.0394, 0.0225, 0.0225, -0.0338, 0.0281, -0.0338, 0.0338, -0.0394, 0.0225, -0.0225, -0.0338, 0.0281, -0.0338, 0.0338, 0.0394, 0.0225, -0.0225, -0.0338, -0.0281, 0.0338, 0.0338, -0.0394, -0.0225, -0.0225, 0.0338, 0.0281, 0.0338, -0.0338, -0.0394, 0.0388, 0.0388, 0.0388, 0.0388, -0.0388, 0.0333, -0.0222, 0.0388, 0.0388, -0.0388, -0.0388, -0.0388, 0.0333, -0.0222, 0.0388, -0.0388, -0.0388, 0.0388, -0.0388, -0.0333, 0.0222, -0.0388, -0.0388, 0.0388, 0.0388, 0.0388, -0.0333, 0.0222, -0.0388, -0.0388, -0.0388, -0.0388, 0.0388, 0.0333, -0.0222, -0.0388, -0.0388, -0.0388, 0.0388, -0.0388, -0.0333, -0.0222, -0.0238, -0.0238, 0.0333, -0.038, 0.0333, -0.0333, -0.0285, 0.0238, -0.0238, 0.0333, 0.038, 0.0333, 0.0333, 0.0285, -0.0238, 0.0238, -0.0333, 0.038, -0.0333, -0.0333, 0.0285, -0.0238, -0.0238, -0.0333, 0.038, -0.0333, 0.0333, -0.0285, -0.0238, 0.0238, -0.0333, -0.038, -0.0333, -0.0333, -0.0285, -0.0238, 0.0238, 0.0333, 0.038, -0.0333, 0.0333, -0.0285, -0.2734, -0.25, 0.2707, -0.4756, -0.362, -0.2545, 0.5, -0.2734, -0.375, 0.464, -0.6486, -0.4827, -0.5515, -0.2083, -0.0781, -0.0312, 0.232, 0.2594, 0.3218, 0.2121, -0.0833, 0.0, 0.0625, -0.1546, 0.0, 0.1609, 0.0424, 0.2083, 0.3125, 0.4687, -0.3093, 0.3027, -0.5632, -0.2969, 0.25, -0.0781, -0.0937, 0.3093, 0.5189, 0.2816, 0.3393, -0.1666]}, {\"name\": \"Value 6 (+/-)\", \"type\": \"measure\", \"values\": [8223696.0, -64573220.0, 82882182.0, -94046233.0, 3760493.0, 11411245.0, 15676964.0, -90069337.0, -36621745.0, -11703682.0, 52743273.0, 29275231.0, -96342143.0, 52659612.0, -29618522.0, 38129021.0, 45573480.0, 8888313.0, 87876023.0, -84136617.0, 48651201.0, -110597064.0, -83930549.0, -21827161.0, 61826362.0, 18006151.0, -54234990.0, 58166563.0, 99514491.0, -89879689.0, -29768495.0, -17094423.0, 48762291.0, -31424587.0, 66188589.0, 79292985.0, 7925581.0, -8573022.0, 29278971.0, 72739705.0, 5827585.0, 71142099.0, -18022711.0, -38713248.0, 7515812.0, -51794489.0, -56453210.0, -82082611.0, 79412923.0, 37405296.0, -1365676.0, 27080470.0, -443997.0, 34163726.0, 74538706.0, -4146997.0, -20379604.0, 37552047.0, -2494157.0, -64931013.0, -77147570.0, -7218898.0, -5934799.0, -19840123.0, -22300551.0, -60664780.0, -40958389.0, -60100972.0, -22178345.0, -52826595.0, -47062545.0, -71480194.0, -17734555.0, -30395006.0, 35051238.0, -50616152.0, 44201688.0, 17916104.0, -55254298.0, -68933732.0, -77162941.0, -69035834.0, 12110901.0, -29339774.0, -1245613.0, 11542494.0, 53144935.0, -56600359.0, -30483485.0, 27585717.0, -54664284.0, -79952521.0, -69708434.0, -51772289.0, -42931444.0, -18722740.0, 3074823.0, -29229042.0, -64226723.0, -62560464.0, 37235695.0, -10790509.0, -8999942.0, -61514687.0, -25595109.0, -30612672.0, 75099049.0, 1526071.0, 61591773.0, 41894187.0, 50397172.0, 51258117.0, -10088815.0, 49248404.0, -50951550.0, -58215501.0, 37317876.0, -37491984.0, 2775719.0, -23530455.0, 49343179.0, 34155619.0, 57425056.0, 54078654.0, 25403718.0, -8103122.0, 32786838.0, -45393986.0, 16101959.0, -6660547.0, -30225724.0, 3382747.0, -58849217.0, 64383669.0, 20263487.0, -31822998.0, -17465562.0, 12357472.0, -25857433.0, -32396515.0, -54163441.0, 9100468.0, 64960035.0, -65830352.0, -8142939.0, -8968684.0, 8080902.0, 45742998.0, 2572359.0, 30906283.0, 44322777.0, 7981472.0, -1577260.0, -34762709.0, -26378673.0, -54847918.0, -7318235.0, 34254781.0, 43383839.0, -50560662.0, -59451714.0, 489698.0, -31894265.0, 11256022.0, 8204478.0, 20495382.0, -32294486.0, 42924464.0, -13346676.0, -6537237.0, -8288904.0, 1806362.0, 784816.0, 236348.0, -2586748.0, 11902809.0, -9181459.0, -4455980.0, 3331136.0, -4558124.0, 6289112.0, 3632800.0, 11414883.0, 9456873.0, 5887195.0, 8523758.0, -5443934.0, -3175670.0, 2155785.0, -6691065.0, -2576054.0, -4925069.0, -279265.0, 7737416.0, 7731643.0, -4288249.0, 5383975.0, 4628054.0, -2933168.0, -1429449.0, 2647305.0, -8372703.0, -4041393.0, 12164921.0, 11432814.0, 8849461.0, 8800981.0, 7935947.0, -6801172.0, 94125.0, -13199586.0, 34673646.0, -25593066.0, 4523672.0, -28260703.0, 35188533.0, -19131988.0, -30224537.0, -10243373.0, 18704808.0, -2009479.0, 20964609.0, 13102898.0, 39110332.0, -7200998.0, 35629762.0, -15493967.0, -1657736.0, 8129988.0, -8888206.0, -20474322.0, 28197065.0, -2226660.0, -5305436.0, -22741003.0, -3154425.0, 13321101.0, 126496.0, 9629824.0, -23250811.0, -3082643.0, -35429603.0, -5435605.0, -12709834.0, 37029681.0, -6026832.0, 35681881.0, -25454549.0, 16339494.0, -6511594.0, 27769622.0, -7817496.0, -26596675.0, -31122150.0, -9673385.0, -10628856.0, -40235560.0, -4879427.0, -30495063.0, -22471809.0, 20874965.0, -22358195.0, -11189835.0, 35727176.0, -13205916.0, -10062799.0, -20588688.0, -39566356.0, -18163110.0, 2626909.0, 26280298.0, 19297521.0, 20524833.0, 33632787.0, -22480374.0, 13782095.0, 29667954.0, -9148845.0, -23655974.0, 2219320.0, 33078846.0, -31379201.0, -5171082.0, 2524841.0, -20914143.0, 20505249.0, 16284806.0, -22425902.0, 16858740.0, -7499996.0, -24595726.0, -39244977.0, -27065332.0, 14680994.0, 11453383.0, -3331822.0, -6340724.0, 1007243.0, -484730.0, -1478267.0, -595103.0, -10860457.0, 25128094.0, -14670237.0, 10983373.0, -9167380.0, -6013394.0, 1477345.0, -3704981.0, -1786600.0, 15660007.0, -6673398.0, 10952338.0, -9006698.0, 5615629.0, 7871449.0, -9741469.0, 14364437.0, -5094556.0, -4533257.0, -2791525.0, -3823498.0, 17854951.0, -21324242.0, -12873673.0, -1097133.0, -1400349.0, 4032888.0, -148831.0, -1223192.0, 1862838.0, -2726206.0, 5457842.0, -6324814.0, -3290162.0, -1947271.0, -2908596.0, 14127356.0, 14626136.0, -3159250.0, 14747769.0, -31281007.0, 25879645.0, 18866198.0, 1713857.0, -20221344.0, -1560442.0, 15211776.0, -14665787.0, 38446013.0, 13612885.0, -20953580.0, -29394548.0, 3117144.0, 14669439.0, -18628395.0, 3930843.0, -20236025.0, 16704491.0, -21246292.0, 15728651.0, 9374530.0, -25015147.0, 9069742.0, 10697305.0, 6679670.0, -22732158.0, 3564846.0, 27700948.0, -30494170.0, 27071332.0, 172770.0, 15519896.0, -6062205.0, 11673838.0, 14066373.0, -22497530.0, 21460290.0, -4145149.0, -12931610.0, -33743440.0, -23259186.0, 3377638.0, 15662083.0, -20529995.0, -28203782.0, -19152593.0, 3999778.0, 13922491.0, 20172435.0, 10494768.0, 278582.0, -6797044.0, 36555560.0, 2673291.0, 35674457.0, 24904528.0, 22081542.0, -15356665.0, -26674620.0, 15981820.0, 24084363.0, 22469755.0, -27234712.0, -28192572.0, 21679828.0, 30503113.0, 5882558.0, -35185905.0, 19241548.0, 13701001.0, -32890820.0, 9014058.0, -20646066.0, -2578734.0, -9839578.0, 20438904.0, -6767609.0, 13826742.0, 11412503.0, -13083062.0, 9592639.0, -16143290.0, -28833674.0, -16041059.0, -3475297.0, 10004152.0, 18512772.0, -19022972.0, 28211138.0, 6776780.0, -22946367.0, -5648993.0, 2214807.0, 11535762.0, -5161421.0, -2114529.0, -37638032.0, -8259968.0, 5344851.0, -9442843.0, 5762750.0, -23604547.0, -14557578.0, 33470754.0, -11210332.0, -30671906.0, 14649702.0, -611090.0, -5375203.0, -23199304.0, 32155369.0, -12110868.0, 28950708.0, 27048464.0, 10616709.0, -22031459.0, 21822386.0, -24402854.0, -14796821.0, 13877932.0, 1926919.0, 93457463.0, -154038115.0, -22857027.0, 35911317.0, 201313745.0, 79967800.0, 261015466.0, -87377699.0, -168159242.0, -378602662.0, 8147657.0, 234001682.0, -398908151.0, -38364328.0, 42156779.0, -17320396.0, 38911314.0, 56392776.0, -71394835.0, 188496940.0, -5750023.0, 0.0, -59545801.0, -120388761.0, 0.0, -23510232.0, -18257808.0, -4157369.0, 242640654.0, -175832719.0, 305260787.0, 35865467.0, 238265326.0, -71963626.0, -186966485.0, 40323565.0, 19192681.0, 82234135.0, -92275496.0, -275775550.0, 149952050.0, 154367641.0]}, {\"name\": \"index\", \"type\": \"measure\", \"values\": [1.0, 1.0, 1.0, 1.0, 1.0, 1.0, 1.0, 1.0, 1.0, 1.0, 1.0, 1.0, 1.0, 1.0, 1.0, 1.0, 1.0, 1.0, 1.0, 1.0, 1.0, 1.0, 1.0, 1.0, 1.0, 1.0, 1.0, 1.0, 1.0, 1.0, 1.0, 1.0, 1.0, 1.0, 1.0, 1.0, 1.0, 1.0, 1.0, 1.0, 1.0, 1.0, 1.0, 1.0, 1.0, 1.0, 1.0, 1.0, 1.0, 1.0, 1.0, 1.0, 1.0, 1.0, 1.0, 1.0, 1.0, 1.0, 1.0, 1.0, 1.0, 1.0, 1.0, 1.0, 1.0, 1.0, 1.0, 1.0, 1.0, 1.0, 1.0, 1.0, 1.0, 1.0, 1.0, 1.0, 1.0, 1.0, 1.0, 1.0, 1.0, 1.0, 1.0, 1.0, 1.0, 1.0, 1.0, 1.0, 1.0, 1.0, 1.0, 1.0, 1.0, 1.0, 1.0, 1.0, 1.0, 1.0, 1.0, 1.0, 1.0, 1.0, 1.0, 1.0, 1.0, 1.0, 1.0, 1.0, 1.0, 1.0, 1.0, 1.0, 1.0, 1.0, 1.0, 1.0, 1.0, 1.0, 1.0, 1.0, 1.0, 1.0, 1.0, 1.0, 1.0, 1.0, 1.0, 1.0, 1.0, 1.0, 1.0, 1.0, 1.0, 1.0, 1.0, 1.0, 1.0, 1.0, 1.0, 1.0, 1.0, 1.0, 1.0, 1.0, 1.0, 1.0, 1.0, 1.0, 1.0, 1.0, 1.0, 1.0, 1.0, 1.0, 1.0, 1.0, 1.0, 1.0, 1.0, 1.0, 1.0, 1.0, 1.0, 1.0, 1.0, 1.0, 1.0, 1.0, 1.0, 1.0, 1.0, 1.0, 1.0, 1.0, 1.0, 1.0, 1.0, 1.0, 1.0, 1.0, 1.0, 1.0, 1.0, 1.0, 1.0, 1.0, 1.0, 1.0, 1.0, 1.0, 1.0, 1.0, 1.0, 1.0, 1.0, 1.0, 1.0, 1.0, 1.0, 1.0, 1.0, 1.0, 1.0, 1.0, 1.0, 1.0, 1.0, 1.0, 1.0, 1.0, 1.0, 1.0, 1.0, 1.0, 1.0, 1.0, 1.0, 1.0, 1.0, 1.0, 1.0, 1.0, 1.0, 1.0, 1.0, 1.0, 1.0, 1.0, 1.0, 1.0, 1.0, 1.0, 1.0, 1.0, 1.0, 1.0, 1.0, 1.0, 1.0, 1.0, 1.0, 1.0, 1.0, 1.0, 1.0, 1.0, 1.0, 1.0, 1.0, 1.0, 1.0, 1.0, 1.0, 1.0, 1.0, 1.0, 1.0, 1.0, 1.0, 1.0, 1.0, 1.0, 1.0, 1.0, 1.0, 1.0, 1.0, 1.0, 1.0, 1.0, 1.0, 1.0, 1.0, 1.0, 1.0, 1.0, 1.0, 1.0, 1.0, 1.0, 1.0, 1.0, 1.0, 1.0, 1.0, 1.0, 1.0, 1.0, 1.0, 1.0, 1.0, 1.0, 1.0, 1.0, 1.0, 1.0, 1.0, 1.0, 1.0, 1.0, 1.0, 1.0, 1.0, 1.0, 1.0, 1.0, 1.0, 1.0, 1.0, 1.0, 1.0, 1.0, 1.0, 1.0, 1.0, 1.0, 1.0, 1.0, 1.0, 1.0, 1.0, 1.0, 1.0, 1.0, 1.0, 1.0, 1.0, 1.0, 1.0, 1.0, 1.0, 1.0, 1.0, 1.0, 1.0, 1.0, 1.0, 1.0, 1.0, 1.0, 1.0, 1.0, 1.0, 1.0, 1.0, 1.0, 1.0, 1.0, 1.0, 1.0, 1.0, 1.0, 1.0, 1.0, 1.0, 1.0, 1.0, 1.0, 1.0, 1.0, 1.0, 1.0, 1.0, 1.0, 1.0, 1.0, 1.0, 1.0, 1.0, 1.0, 1.0, 1.0, 1.0, 1.0, 1.0, 1.0, 1.0, 1.0, 1.0, 1.0, 1.0, 1.0, 1.0, 1.0, 1.0, 1.0, 1.0, 1.0, 1.0, 1.0, 1.0, 1.0, 1.0, 1.0, 1.0, 1.0, 1.0, 1.0, 1.0, 1.0, 1.0, 1.0, 1.0, 1.0, 1.0, 1.0, 1.0, 1.0, 1.0, 1.0, 1.0, 1.0, 1.0, 1.0, 1.0, 1.0, 1.0, 1.0, 1.0, 1.0, 1.0, 1.0, 1.0, 1.0, 1.0, 1.0, 1.0, 1.0, 1.0, 1.0, 1.0, 1.0, 1.0, 1.0, 1.0, 1.0, 1.0, 1.0, 1.0, 1.0, 1.0, 1.0, 1.0, 1.0, 1.0, 1.0, 1.0, 1.0, 1.0, 1.0, 1.0, 1.0, 1.0, 1.0, 1.0, 1.0, 1.0, 1.0, 1.0, 1.0, 1.0, 1.0, 1.0, 1.0, 1.0, 1.0, 1.0, 1.0, 1.0, 1.0, 1.0, 1.0, 1.0, 1.0, 1.0, 1.0, 1.0, 1.0, 1.0, 1.0, 1.0, 1.0, 1.0, 1.0, 1.0, 1.0, 1.0, 1.0, 1.0, 1.0, 1.0, 1.0, 1.0, 1.0, 1.0, 1.0, 1.0, 1.0, 1.0, 1.0, 1.0, 1.0, 1.0, 1.0]}]}} }, undefined);"
      ]
     },
     "metadata": {},
     "output_type": "display_data"
    }
   ],
   "source": [
    "data = Data()\n",
    "data.add_data_frame(data_frame)\n",
    " \n",
    "chart = Chart()\n",
    "chart.animate(data)"
   ]
  },
  {
   "cell_type": "markdown",
   "id": "lonely-pacific",
   "metadata": {
    "execution": {
     "iopub.execute_input": "2021-07-02T23:32:10.789097Z",
     "iopub.status.busy": "2021-07-02T23:32:10.788829Z",
     "iopub.status.idle": "2021-07-02T23:32:10.796900Z",
     "shell.execute_reply": "2021-07-02T23:32:10.796358Z",
     "shell.execute_reply.started": "2021-07-02T23:32:10.789033Z"
    }
   },
   "source": [
    "## Output"
   ]
  },
  {
   "cell_type": "markdown",
   "id": "e24b19ba-269a-4d99-b4d0-7c7fa7b3bc35",
   "metadata": {
    "papermill": {},
    "tags": []
   },
   "source": [
    "### Export story to HTML"
   ]
  },
  {
   "cell_type": "code",
   "execution_count": 39,
   "id": "30deac54-b8f0-45cd-8edc-8d4438f2d22c",
   "metadata": {
    "execution": {
     "iopub.execute_input": "2023-03-27T12:52:26.009558Z",
     "iopub.status.busy": "2023-03-27T12:52:26.009307Z",
     "iopub.status.idle": "2023-03-27T12:52:26.024503Z",
     "shell.execute_reply": "2023-03-27T12:52:26.023599Z",
     "shell.execute_reply.started": "2023-03-27T12:52:26.009535Z"
    },
    "papermill": {},
    "tags": []
   },
   "outputs": [
    {
     "data": {
      "application/javascript": [
       "if (window.IpyVizzu) { window.IpyVizzu.clearInhibitScroll(element); }"
      ]
     },
     "metadata": {},
     "output_type": "display_data"
    },
    {
     "data": {
      "application/javascript": [
       "if (window.IpyVizzu) { window.IpyVizzu.clearInhibitScroll(element); }"
      ]
     },
     "metadata": {},
     "output_type": "display_data"
    },
    {
     "data": {
      "application/javascript": [
       "if (window.IpyVizzu) { window.IpyVizzu.clearInhibitScroll(element); }"
      ]
     },
     "metadata": {},
     "output_type": "display_data"
    },
    {
     "data": {
      "application/javascript": [
       "if (window.IpyVizzu) { window.IpyVizzu.clearInhibitScroll(element); }"
      ]
     },
     "metadata": {},
     "output_type": "display_data"
    },
    {
     "data": {
      "application/javascript": [
       "if (window.IpyVizzu) { window.IpyVizzu.clearInhibitScroll(element); }"
      ]
     },
     "metadata": {},
     "output_type": "display_data"
    },
    {
     "data": {
      "application/javascript": [
       "if (window.IpyVizzu) { window.IpyVizzu.clearInhibitScroll(element); }"
      ]
     },
     "metadata": {},
     "output_type": "display_data"
    },
    {
     "ename": "IndentationError",
     "evalue": "expected an indented block (<ipython-input-39-54cfd200f827>, line 4)",
     "output_type": "error",
     "traceback": [
      "\u001b[0;36m  File \u001b[0;32m\"<ipython-input-39-54cfd200f827>\"\u001b[0;36m, line \u001b[0;32m4\u001b[0m\n\u001b[0;31m    file_desc.write(rawhtml)\u001b[0m\n\u001b[0m    ^\u001b[0m\n\u001b[0;31mIndentationError\u001b[0m\u001b[0;31m:\u001b[0m expected an indented block\n"
     ]
    }
   ],
   "source": [
    "rawhtml = chart._reprhtml_()\n",
    "\n",
    "with open(\"Vizzu_Create_Grouped_Column_Chart.html\", \"w\", encoding=\"utf8\") as file_desc:\n",
    "file_desc.write(rawhtml)"
   ]
  },
  {
   "cell_type": "markdown",
   "id": "f95c4fc1-32ca-43da-b764-135928da1035",
   "metadata": {
    "papermill": {},
    "tags": []
   },
   "source": [
    "### Create shareable asset with Naas"
   ]
  },
  {
   "cell_type": "code",
   "execution_count": 40,
   "id": "68a6b382-643c-4212-8d79-6c3a86ba4c0a",
   "metadata": {
    "execution": {
     "iopub.execute_input": "2023-03-27T12:52:39.558206Z",
     "iopub.status.busy": "2023-03-27T12:52:39.557978Z",
     "iopub.status.idle": "2023-03-27T12:52:39.609566Z",
     "shell.execute_reply": "2023-03-27T12:52:39.606509Z",
     "shell.execute_reply.started": "2023-03-27T12:52:39.558185Z"
    },
    "papermill": {},
    "tags": []
   },
   "outputs": [
    {
     "data": {
      "application/javascript": [
       "if (window.IpyVizzu) { window.IpyVizzu.clearInhibitScroll(element); }"
      ]
     },
     "metadata": {},
     "output_type": "display_data"
    },
    {
     "data": {
      "application/javascript": [
       "if (window.IpyVizzu) { window.IpyVizzu.clearInhibitScroll(element); }"
      ]
     },
     "metadata": {},
     "output_type": "display_data"
    },
    {
     "data": {
      "application/javascript": [
       "if (window.IpyVizzu) { window.IpyVizzu.clearInhibitScroll(element); }"
      ]
     },
     "metadata": {},
     "output_type": "display_data"
    },
    {
     "data": {
      "application/javascript": [
       "if (window.IpyVizzu) { window.IpyVizzu.clearInhibitScroll(element); }"
      ]
     },
     "metadata": {},
     "output_type": "display_data"
    },
    {
     "data": {
      "application/javascript": [
       "if (window.IpyVizzu) { window.IpyVizzu.clearInhibitScroll(element); }"
      ]
     },
     "metadata": {},
     "output_type": "display_data"
    },
    {
     "data": {
      "application/javascript": [
       "if (window.IpyVizzu) { window.IpyVizzu.clearInhibitScroll(element); }"
      ]
     },
     "metadata": {},
     "output_type": "display_data"
    },
    {
     "ename": "FileNotFoundError",
     "evalue": "file doesn't exist /home/ftp/awesome-notebooks/Vizzu/Vizzu_Create_Grouped_Column_Chart.html",
     "output_type": "error",
     "traceback": [
      "\u001b[0;31m---------------------------------------------------------------------------\u001b[0m",
      "\u001b[0;31mFileNotFoundError\u001b[0m                         Traceback (most recent call last)",
      "\u001b[0;32m<ipython-input-40-090af8a94933>\u001b[0m in \u001b[0;36m<module>\u001b[0;34m\u001b[0m\n\u001b[0;32m----> 1\u001b[0;31m \u001b[0mnaas\u001b[0m\u001b[0;34m.\u001b[0m\u001b[0masset\u001b[0m\u001b[0;34m.\u001b[0m\u001b[0madd\u001b[0m\u001b[0;34m(\u001b[0m\u001b[0;34m\"Vizzu_Create_Grouped_Column_Chart.html\"\u001b[0m\u001b[0;34m,\u001b[0m \u001b[0mparams\u001b[0m\u001b[0;34m=\u001b[0m\u001b[0;34m{\u001b[0m\u001b[0;34m\"inline\"\u001b[0m\u001b[0;34m:\u001b[0m \u001b[0;32mTrue\u001b[0m\u001b[0;34m}\u001b[0m\u001b[0;34m)\u001b[0m\u001b[0;34m\u001b[0m\u001b[0;34m\u001b[0m\u001b[0m\n\u001b[0m",
      "\u001b[0;32m/opt/conda/lib/python3.9/site-packages/naas/assets.py\u001b[0m in \u001b[0;36madd\u001b[0;34m(self, path, params, debug, force_image, override_prod)\u001b[0m\n\u001b[1;32m    105\u001b[0m                 \u001b[0mprint\u001b[0m\u001b[0;34m(\u001b[0m\u001b[0;34m\"Adding assets to production anyway.\"\u001b[0m\u001b[0;34m)\u001b[0m\u001b[0;34m\u001b[0m\u001b[0;34m\u001b[0m\u001b[0m\n\u001b[1;32m    106\u001b[0m         \u001b[0;31m# \"path\", \"type\", \"params\", \"value\", \"status\"\u001b[0m\u001b[0;34m\u001b[0m\u001b[0;34m\u001b[0m\u001b[0;34m\u001b[0m\u001b[0m\n\u001b[0;32m--> 107\u001b[0;31m         self.manager.add_prod(\n\u001b[0m\u001b[1;32m    108\u001b[0m             {\n\u001b[1;32m    109\u001b[0m                 \u001b[0;34m\"type\"\u001b[0m\u001b[0;34m:\u001b[0m \u001b[0mself\u001b[0m\u001b[0;34m.\u001b[0m\u001b[0mrole\u001b[0m\u001b[0;34m,\u001b[0m\u001b[0;34m\u001b[0m\u001b[0;34m\u001b[0m\u001b[0m\n",
      "\u001b[0;32m/opt/conda/lib/python3.9/site-packages/naas/manager.py\u001b[0m in \u001b[0;36madd_prod\u001b[0;34m(self, obj, debug)\u001b[0m\n\u001b[1;32m    370\u001b[0m             \u001b[0mdev_path\u001b[0m \u001b[0;34m=\u001b[0m \u001b[0mobj\u001b[0m\u001b[0;34m.\u001b[0m\u001b[0mget\u001b[0m\u001b[0;34m(\u001b[0m\u001b[0;34m\"path\"\u001b[0m\u001b[0;34m)\u001b[0m\u001b[0;34m\u001b[0m\u001b[0;34m\u001b[0m\u001b[0m\n\u001b[1;32m    371\u001b[0m             \u001b[0mnew_obj\u001b[0m\u001b[0;34m[\u001b[0m\u001b[0;34m\"path\"\u001b[0m\u001b[0;34m]\u001b[0m \u001b[0;34m=\u001b[0m \u001b[0mself\u001b[0m\u001b[0;34m.\u001b[0m\u001b[0mget_path\u001b[0m\u001b[0;34m(\u001b[0m\u001b[0mdev_path\u001b[0m\u001b[0;34m)\u001b[0m\u001b[0;34m\u001b[0m\u001b[0;34m\u001b[0m\u001b[0m\n\u001b[0;32m--> 372\u001b[0;31m             \u001b[0mnew_obj\u001b[0m\u001b[0;34m[\u001b[0m\u001b[0;34m\"file\"\u001b[0m\u001b[0;34m]\u001b[0m \u001b[0;34m=\u001b[0m \u001b[0mself\u001b[0m\u001b[0;34m.\u001b[0m\u001b[0m__open_file\u001b[0m\u001b[0;34m(\u001b[0m\u001b[0mdev_path\u001b[0m\u001b[0;34m)\u001b[0m\u001b[0;34m\u001b[0m\u001b[0;34m\u001b[0m\u001b[0m\n\u001b[0m\u001b[1;32m    373\u001b[0m             \u001b[0;31m# new_obj[\"status\"] = t_add\u001b[0m\u001b[0;34m\u001b[0m\u001b[0;34m\u001b[0m\u001b[0;34m\u001b[0m\u001b[0m\n\u001b[1;32m    374\u001b[0m             \u001b[0;32mtry\u001b[0m\u001b[0;34m:\u001b[0m\u001b[0;34m\u001b[0m\u001b[0;34m\u001b[0m\u001b[0m\n",
      "\u001b[0;32m/opt/conda/lib/python3.9/site-packages/naas/manager.py\u001b[0m in \u001b[0;36m__open_file\u001b[0;34m(self, path)\u001b[0m\n\u001b[1;32m    218\u001b[0m         \u001b[0mfilename\u001b[0m \u001b[0;34m=\u001b[0m \u001b[0mos\u001b[0m\u001b[0;34m.\u001b[0m\u001b[0mpath\u001b[0m\u001b[0;34m.\u001b[0m\u001b[0mbasename\u001b[0m\u001b[0;34m(\u001b[0m\u001b[0mpath\u001b[0m\u001b[0;34m)\u001b[0m\u001b[0;34m\u001b[0m\u001b[0;34m\u001b[0m\u001b[0m\n\u001b[1;32m    219\u001b[0m         \u001b[0;32mif\u001b[0m \u001b[0;32mnot\u001b[0m \u001b[0mos\u001b[0m\u001b[0;34m.\u001b[0m\u001b[0mpath\u001b[0m\u001b[0;34m.\u001b[0m\u001b[0mexists\u001b[0m\u001b[0;34m(\u001b[0m\u001b[0mpath\u001b[0m\u001b[0;34m)\u001b[0m\u001b[0;34m:\u001b[0m\u001b[0;34m\u001b[0m\u001b[0;34m\u001b[0m\u001b[0m\n\u001b[0;32m--> 220\u001b[0;31m             \u001b[0;32mraise\u001b[0m \u001b[0mFileNotFoundError\u001b[0m\u001b[0;34m(\u001b[0m\u001b[0;34mf\"file doesn't exist {path}\"\u001b[0m\u001b[0;34m)\u001b[0m\u001b[0;34m\u001b[0m\u001b[0;34m\u001b[0m\u001b[0m\n\u001b[0m\u001b[1;32m    221\u001b[0m         \u001b[0mdata\u001b[0m \u001b[0;34m=\u001b[0m \u001b[0mopen\u001b[0m\u001b[0;34m(\u001b[0m\u001b[0mpath\u001b[0m\u001b[0;34m,\u001b[0m \u001b[0;34m\"rb\"\u001b[0m\u001b[0;34m)\u001b[0m\u001b[0;34m.\u001b[0m\u001b[0mread\u001b[0m\u001b[0;34m(\u001b[0m\u001b[0;34m)\u001b[0m\u001b[0;34m\u001b[0m\u001b[0;34m\u001b[0m\u001b[0m\n\u001b[1;32m    222\u001b[0m         \u001b[0mencoded\u001b[0m \u001b[0;34m=\u001b[0m \u001b[0mbase64\u001b[0m\u001b[0;34m.\u001b[0m\u001b[0mb64encode\u001b[0m\u001b[0;34m(\u001b[0m\u001b[0mdata\u001b[0m\u001b[0;34m)\u001b[0m\u001b[0;34m\u001b[0m\u001b[0;34m\u001b[0m\u001b[0m\n",
      "\u001b[0;31mFileNotFoundError\u001b[0m: file doesn't exist /home/ftp/awesome-notebooks/Vizzu/Vizzu_Create_Grouped_Column_Chart.html"
     ]
    }
   ],
   "source": [
    "naas.asset.add(\"Vizzu_Create_Grouped_Column_Chart.html\", params={\"inline\": True})"
   ]
  },
  {
   "cell_type": "code",
   "execution_count": null,
   "id": "de2ee4b0-2bfa-443e-8e1c-f1ff505328d3",
   "metadata": {},
   "outputs": [],
   "source": []
  },
  {
   "cell_type": "code",
   "execution_count": null,
   "id": "eaaf3ea2-bf9a-4e50-b7fd-aca7a3b0cf5f",
   "metadata": {},
   "outputs": [],
   "source": []
  }
 ],
 "metadata": {
  "kernelspec": {
   "display_name": "Python 3",
   "language": "python",
   "name": "python3"
  },
  "language_info": {
   "codemirror_mode": {
    "name": "ipython",
    "version": 3
   },
   "file_extension": ".py",
   "mimetype": "text/x-python",
   "name": "python",
   "nbconvert_exporter": "python",
   "pygments_lexer": "ipython3",
   "version": "3.9.6"
  },
  "papermill": {
   "default_parameters": {},
   "environment_variables": {},
   "parameters": {},
   "version": "2.3.3"
  },
  "widgets": {
   "application/vnd.jupyter.widget-state+json": {
    "state": {},
    "version_major": 2,
    "version_minor": 0
   }
  }
 },
 "nbformat": 4,
 "nbformat_minor": 5
}
