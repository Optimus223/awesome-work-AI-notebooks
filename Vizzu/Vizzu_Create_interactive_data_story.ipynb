{
 "cells": [
  {
   "cell_type": "markdown",
   "metadata": {
    "execution": {
     "iopub.execute_input": "2021-01-25T08:00:35.294800Z",
     "iopub.status.busy": "2021-01-25T08:00:35.294557Z",
     "iopub.status.idle": "2021-01-25T08:00:35.307281Z",
     "shell.execute_reply": "2021-01-25T08:00:35.306468Z",
     "shell.execute_reply.started": "2021-01-25T08:00:35.294775Z"
    },
    "papermill": {},
    "tags": []
   },
   "source": [
    "<img width=\"10%\" alt=\"Naas\" src=\"https://landen.imgix.net/jtci2pxwjczr/assets/5ice39g4.png?w=160\"/>"
   ]
  },
  {
   "cell_type": "markdown",
   "metadata": {
    "papermill": {},
    "tags": []
   },
   "source": [
    "# Vizzu - Create interactive data story\n",
    "<a href=\"https://app.naas.ai/user-redirect/naas/downloader?url=https://raw.githubusercontent.com/jupyter-naas/awesome-notebooks/master/LinkedIn/LinkedIn_Send_invitation_from_gsheet.ipynb\" target=\"_parent\"><img src=\"https://naasai-public.s3.eu-west-3.amazonaws.com/open_in_naas.svg\"/></a>"
   ]
  },
  {
   "cell_type": "markdown",
   "metadata": {
    "papermill": {},
    "tags": []
   },
   "source": [
    "**Tags:** #ipyvizzu #googlesheets #charts #cash"
   ]
  },
  {
   "cell_type": "markdown",
   "metadata": {
    "papermill": {},
    "tags": []
   },
   "source": [
    "**Author:** [Jeremy Ravenel](https://www.linkedin.com/in/jeremyravenel/)"
   ]
  },
  {
   "cell_type": "markdown",
   "metadata": {},
   "source": [
    "With this notebook, you can create a dynamic chart using [ipyvizzu](https://ipyvizzu.vizzuhq.com/), a library to build animated charts in Jupyter notebook using a simple Python synthax, and share it using Naas asset feature. The data presented is a simple example analysis of cash repartition by bank and maturity."
   ]
  },
  {
   "cell_type": "markdown",
   "metadata": {
    "papermill": {},
    "tags": []
   },
   "source": [
    "## Input"
   ]
  },
  {
   "cell_type": "markdown",
   "metadata": {},
   "source": [
    "### Install packages"
   ]
  },
  {
   "cell_type": "code",
   "execution_count": 1,
   "metadata": {
    "execution": {
     "iopub.execute_input": "2022-09-27T20:24:33.171060Z",
     "iopub.status.busy": "2022-09-27T20:24:33.170803Z",
     "iopub.status.idle": "2022-09-27T20:24:58.879862Z",
     "shell.execute_reply": "2022-09-27T20:24:58.878241Z",
     "shell.execute_reply.started": "2022-09-27T20:24:33.170983Z"
    },
    "tags": []
   },
   "outputs": [
    {
     "name": "stdout",
     "output_type": "stream",
     "text": [
      "Requirement already satisfied: ipyvizzu in /opt/conda/lib/python3.9/site-packages (0.12.1)\n",
      "Requirement already satisfied: pandas in /opt/conda/lib/python3.9/site-packages (from ipyvizzu) (1.2.4)\n",
      "Requirement already satisfied: IPython in /opt/conda/lib/python3.9/site-packages (from ipyvizzu) (7.23.1)\n",
      "Requirement already satisfied: jsonschema in /opt/conda/lib/python3.9/site-packages (from ipyvizzu) (3.2.0)\n",
      "Requirement already satisfied: pexpect>4.3 in /opt/conda/lib/python3.9/site-packages (from IPython->ipyvizzu) (4.8.0)\n",
      "Requirement already satisfied: jedi>=0.16 in /opt/conda/lib/python3.9/site-packages (from IPython->ipyvizzu) (0.18.0)\n",
      "Requirement already satisfied: decorator in /opt/conda/lib/python3.9/site-packages (from IPython->ipyvizzu) (5.0.9)\n",
      "Requirement already satisfied: pygments in /opt/conda/lib/python3.9/site-packages (from IPython->ipyvizzu) (2.9.0)\n",
      "Requirement already satisfied: pickleshare in /opt/conda/lib/python3.9/site-packages (from IPython->ipyvizzu) (0.7.5)\n",
      "Requirement already satisfied: matplotlib-inline in /opt/conda/lib/python3.9/site-packages (from IPython->ipyvizzu) (0.1.2)\n",
      "Requirement already satisfied: traitlets>=4.2 in /opt/conda/lib/python3.9/site-packages (from IPython->ipyvizzu) (5.0.5)\n",
      "Requirement already satisfied: setuptools>=18.5 in /opt/conda/lib/python3.9/site-packages (from IPython->ipyvizzu) (49.6.0.post20210108)\n",
      "Requirement already satisfied: backcall in /opt/conda/lib/python3.9/site-packages (from IPython->ipyvizzu) (0.2.0)\n",
      "Requirement already satisfied: prompt-toolkit!=3.0.0,!=3.0.1,<3.1.0,>=2.0.0 in /opt/conda/lib/python3.9/site-packages (from IPython->ipyvizzu) (3.0.19)\n",
      "Requirement already satisfied: six>=1.11.0 in /opt/conda/lib/python3.9/site-packages (from jsonschema->ipyvizzu) (1.16.0)\n",
      "Requirement already satisfied: pyrsistent>=0.14.0 in /opt/conda/lib/python3.9/site-packages (from jsonschema->ipyvizzu) (0.17.3)\n",
      "Requirement already satisfied: attrs>=17.4.0 in /opt/conda/lib/python3.9/site-packages (from jsonschema->ipyvizzu) (21.2.0)\n",
      "Requirement already satisfied: python-dateutil>=2.7.3 in /opt/conda/lib/python3.9/site-packages (from pandas->ipyvizzu) (2.8.2)\n",
      "Requirement already satisfied: pytz>=2017.3 in /opt/conda/lib/python3.9/site-packages (from pandas->ipyvizzu) (2021.1)\n",
      "Requirement already satisfied: numpy>=1.16.5 in /opt/conda/lib/python3.9/site-packages (from pandas->ipyvizzu) (1.22.2)\n",
      "Requirement already satisfied: parso<0.9.0,>=0.8.0 in /opt/conda/lib/python3.9/site-packages (from jedi>=0.16->IPython->ipyvizzu) (0.8.2)\n",
      "Requirement already satisfied: ptyprocess>=0.5 in /opt/conda/lib/python3.9/site-packages (from pexpect>4.3->IPython->ipyvizzu) (0.7.0)\n",
      "Requirement already satisfied: wcwidth in /opt/conda/lib/python3.9/site-packages (from prompt-toolkit!=3.0.0,!=3.0.1,<3.1.0,>=2.0.0->IPython->ipyvizzu) (0.2.5)\n",
      "Requirement already satisfied: ipython-genutils in /opt/conda/lib/python3.9/site-packages (from traitlets>=4.2->IPython->ipyvizzu) (0.2.0)\n",
      "Requirement already satisfied: ipyvizzu-story in /opt/conda/lib/python3.9/site-packages (0.4.2)\n",
      "Requirement already satisfied: ipyvizzu in /opt/conda/lib/python3.9/site-packages (from ipyvizzu-story) (0.12.1)\n",
      "Requirement already satisfied: jsonschema in /opt/conda/lib/python3.9/site-packages (from ipyvizzu->ipyvizzu-story) (3.2.0)\n",
      "Requirement already satisfied: IPython in /opt/conda/lib/python3.9/site-packages (from ipyvizzu->ipyvizzu-story) (7.23.1)\n",
      "Requirement already satisfied: pandas in /opt/conda/lib/python3.9/site-packages (from ipyvizzu->ipyvizzu-story) (1.2.4)\n",
      "Requirement already satisfied: backcall in /opt/conda/lib/python3.9/site-packages (from IPython->ipyvizzu->ipyvizzu-story) (0.2.0)\n",
      "Requirement already satisfied: setuptools>=18.5 in /opt/conda/lib/python3.9/site-packages (from IPython->ipyvizzu->ipyvizzu-story) (49.6.0.post20210108)\n",
      "Requirement already satisfied: prompt-toolkit!=3.0.0,!=3.0.1,<3.1.0,>=2.0.0 in /opt/conda/lib/python3.9/site-packages (from IPython->ipyvizzu->ipyvizzu-story) (3.0.19)\n",
      "Requirement already satisfied: pickleshare in /opt/conda/lib/python3.9/site-packages (from IPython->ipyvizzu->ipyvizzu-story) (0.7.5)\n",
      "Requirement already satisfied: jedi>=0.16 in /opt/conda/lib/python3.9/site-packages (from IPython->ipyvizzu->ipyvizzu-story) (0.18.0)\n",
      "Requirement already satisfied: pexpect>4.3 in /opt/conda/lib/python3.9/site-packages (from IPython->ipyvizzu->ipyvizzu-story) (4.8.0)\n",
      "Requirement already satisfied: matplotlib-inline in /opt/conda/lib/python3.9/site-packages (from IPython->ipyvizzu->ipyvizzu-story) (0.1.2)\n",
      "Requirement already satisfied: traitlets>=4.2 in /opt/conda/lib/python3.9/site-packages (from IPython->ipyvizzu->ipyvizzu-story) (5.0.5)\n",
      "Requirement already satisfied: decorator in /opt/conda/lib/python3.9/site-packages (from IPython->ipyvizzu->ipyvizzu-story) (5.0.9)\n",
      "Requirement already satisfied: pygments in /opt/conda/lib/python3.9/site-packages (from IPython->ipyvizzu->ipyvizzu-story) (2.9.0)\n",
      "Requirement already satisfied: attrs>=17.4.0 in /opt/conda/lib/python3.9/site-packages (from jsonschema->ipyvizzu->ipyvizzu-story) (21.2.0)\n",
      "Requirement already satisfied: pyrsistent>=0.14.0 in /opt/conda/lib/python3.9/site-packages (from jsonschema->ipyvizzu->ipyvizzu-story) (0.17.3)\n",
      "Requirement already satisfied: six>=1.11.0 in /opt/conda/lib/python3.9/site-packages (from jsonschema->ipyvizzu->ipyvizzu-story) (1.16.0)\n",
      "Requirement already satisfied: numpy>=1.16.5 in /opt/conda/lib/python3.9/site-packages (from pandas->ipyvizzu->ipyvizzu-story) (1.22.2)\n",
      "Requirement already satisfied: pytz>=2017.3 in /opt/conda/lib/python3.9/site-packages (from pandas->ipyvizzu->ipyvizzu-story) (2021.1)\n",
      "Requirement already satisfied: python-dateutil>=2.7.3 in /opt/conda/lib/python3.9/site-packages (from pandas->ipyvizzu->ipyvizzu-story) (2.8.2)\n",
      "Requirement already satisfied: parso<0.9.0,>=0.8.0 in /opt/conda/lib/python3.9/site-packages (from jedi>=0.16->IPython->ipyvizzu->ipyvizzu-story) (0.8.2)\n",
      "Requirement already satisfied: ptyprocess>=0.5 in /opt/conda/lib/python3.9/site-packages (from pexpect>4.3->IPython->ipyvizzu->ipyvizzu-story) (0.7.0)\n",
      "Requirement already satisfied: wcwidth in /opt/conda/lib/python3.9/site-packages (from prompt-toolkit!=3.0.0,!=3.0.1,<3.1.0,>=2.0.0->IPython->ipyvizzu->ipyvizzu-story) (0.2.5)\n",
      "Requirement already satisfied: ipython-genutils in /opt/conda/lib/python3.9/site-packages (from traitlets>=4.2->IPython->ipyvizzu->ipyvizzu-story) (0.2.0)\n"
     ]
    }
   ],
   "source": [
    "!pip install ipyvizzu \n",
    "!pip install ipyvizzu-story "
   ]
  },
  {
   "cell_type": "markdown",
   "metadata": {
    "execution": {
     "iopub.execute_input": "2022-09-27T13:17:55.772490Z",
     "iopub.status.busy": "2022-09-27T13:17:55.772194Z",
     "iopub.status.idle": "2022-09-27T13:17:55.775269Z",
     "shell.execute_reply": "2022-09-27T13:17:55.774669Z",
     "shell.execute_reply.started": "2022-09-27T13:17:55.772458Z"
    },
    "tags": []
   },
   "source": [
    "### Install librairies"
   ]
  },
  {
   "cell_type": "code",
   "execution_count": 2,
   "metadata": {
    "cell_id": "ee111794e18e474e95032c4a9e75e9bf",
    "deepnote_cell_height": 243,
    "deepnote_cell_type": "code",
    "deepnote_to_be_reexecuted": false,
    "execution": {
     "iopub.execute_input": "2022-09-27T20:24:58.881711Z",
     "iopub.status.busy": "2022-09-27T20:24:58.881457Z",
     "iopub.status.idle": "2022-09-27T20:25:05.931108Z",
     "shell.execute_reply": "2022-09-27T20:25:05.930335Z",
     "shell.execute_reply.started": "2022-09-27T20:24:58.881676Z"
    },
    "execution_millis": 165,
    "execution_start": 1664282677296,
    "source_hash": "db25e982",
    "tags": []
   },
   "outputs": [],
   "source": [
    "import naas\n",
    "import pandas as pd\n",
    "from ipyvizzu import Data, Config, Style\n",
    "from ipyvizzustory import Story, Slide, Step\n",
    "import naas_drivers"
   ]
  },
  {
   "cell_type": "markdown",
   "metadata": {
    "execution": {
     "iopub.execute_input": "2022-09-27T13:15:50.005955Z",
     "iopub.status.busy": "2022-09-27T13:15:50.005603Z",
     "iopub.status.idle": "2022-09-27T13:15:50.017598Z",
     "shell.execute_reply": "2022-09-27T13:15:50.016437Z",
     "shell.execute_reply.started": "2022-09-27T13:15:50.005914Z"
    }
   },
   "source": [
    "### Setup Google Sheet\n",
    "Using Naas gsheet driver, we will retrieve data from a remote spreadsheet to feed the charts. More on [docs.naas.ai](https://docs.naas.ai/drivers/google-sheets)"
   ]
  },
  {
   "cell_type": "code",
   "execution_count": 3,
   "metadata": {
    "execution": {
     "iopub.execute_input": "2022-09-27T20:25:05.932694Z",
     "iopub.status.busy": "2022-09-27T20:25:05.932357Z",
     "iopub.status.idle": "2022-09-27T20:25:05.942226Z",
     "shell.execute_reply": "2022-09-27T20:25:05.941591Z",
     "shell.execute_reply.started": "2022-09-27T20:25:05.932662Z"
    },
    "tags": []
   },
   "outputs": [],
   "source": [
    "spreadsheet_id = \"1YPsBwgBReAaEjVqI6rp3mB2MkGX6tL0kR7x_d07k8WI\"\n",
    "sheet_name = \"vizzu_story_example1\""
   ]
  },
  {
   "cell_type": "markdown",
   "metadata": {},
   "source": [
    "## Model"
   ]
  },
  {
   "cell_type": "markdown",
   "metadata": {},
   "source": [
    "### Get data from Google Sheet"
   ]
  },
  {
   "cell_type": "code",
   "execution_count": 4,
   "metadata": {
    "execution": {
     "iopub.execute_input": "2022-09-27T20:25:05.943572Z",
     "iopub.status.busy": "2022-09-27T20:25:05.943176Z",
     "iopub.status.idle": "2022-09-27T20:25:07.114439Z",
     "shell.execute_reply": "2022-09-27T20:25:07.113702Z",
     "shell.execute_reply.started": "2022-09-27T20:25:05.943535Z"
    },
    "tags": []
   },
   "outputs": [
    {
     "data": {
      "text/html": [
       "<div>\n",
       "<style scoped>\n",
       "    .dataframe tbody tr th:only-of-type {\n",
       "        vertical-align: middle;\n",
       "    }\n",
       "\n",
       "    .dataframe tbody tr th {\n",
       "        vertical-align: top;\n",
       "    }\n",
       "\n",
       "    .dataframe thead th {\n",
       "        text-align: right;\n",
       "    }\n",
       "</style>\n",
       "<table border=\"1\" class=\"dataframe\">\n",
       "  <thead>\n",
       "    <tr style=\"text-align: right;\">\n",
       "      <th></th>\n",
       "      <th>Group</th>\n",
       "      <th>Maturity</th>\n",
       "      <th>Cash amount</th>\n",
       "      <th>Cash percentage [%]</th>\n",
       "      <th>Interest rate [%]</th>\n",
       "    </tr>\n",
       "  </thead>\n",
       "  <tbody>\n",
       "    <tr>\n",
       "      <th>0</th>\n",
       "      <td>Bank of America</td>\n",
       "      <td>1 month</td>\n",
       "      <td>6</td>\n",
       "      <td>12</td>\n",
       "      <td>0.800</td>\n",
       "    </tr>\n",
       "    <tr>\n",
       "      <th>1</th>\n",
       "      <td>JP Morgan</td>\n",
       "      <td>1 month</td>\n",
       "      <td>2</td>\n",
       "      <td>18</td>\n",
       "      <td>0.300</td>\n",
       "    </tr>\n",
       "    <tr>\n",
       "      <th>2</th>\n",
       "      <td>Goldman Sachs</td>\n",
       "      <td>1 month</td>\n",
       "      <td>22</td>\n",
       "      <td>31</td>\n",
       "      <td>0.300</td>\n",
       "    </tr>\n",
       "    <tr>\n",
       "      <th>3</th>\n",
       "      <td>BNP Paribas</td>\n",
       "      <td>1 month</td>\n",
       "      <td>28</td>\n",
       "      <td>20</td>\n",
       "      <td>4.000</td>\n",
       "    </tr>\n",
       "    <tr>\n",
       "      <th>4</th>\n",
       "      <td>ING</td>\n",
       "      <td>1 month</td>\n",
       "      <td>104</td>\n",
       "      <td>24</td>\n",
       "      <td>0.800</td>\n",
       "    </tr>\n",
       "    <tr>\n",
       "      <th>5</th>\n",
       "      <td>Bank of America</td>\n",
       "      <td>1-2 months</td>\n",
       "      <td>9</td>\n",
       "      <td>17</td>\n",
       "      <td>0.300</td>\n",
       "    </tr>\n",
       "    <tr>\n",
       "      <th>6</th>\n",
       "      <td>JP Morgan</td>\n",
       "      <td>1-2 months</td>\n",
       "      <td>2</td>\n",
       "      <td>18</td>\n",
       "      <td>0.300</td>\n",
       "    </tr>\n",
       "    <tr>\n",
       "      <th>7</th>\n",
       "      <td>Goldman Sachs</td>\n",
       "      <td>1-2 months</td>\n",
       "      <td>10</td>\n",
       "      <td>14</td>\n",
       "      <td>4.100</td>\n",
       "    </tr>\n",
       "    <tr>\n",
       "      <th>8</th>\n",
       "      <td>BNP Paribas</td>\n",
       "      <td>1-2 months</td>\n",
       "      <td>23</td>\n",
       "      <td>16</td>\n",
       "      <td>0.800</td>\n",
       "    </tr>\n",
       "    <tr>\n",
       "      <th>9</th>\n",
       "      <td>ING</td>\n",
       "      <td>1-2 months</td>\n",
       "      <td>56</td>\n",
       "      <td>13</td>\n",
       "      <td>0.300</td>\n",
       "    </tr>\n",
       "    <tr>\n",
       "      <th>10</th>\n",
       "      <td>Bank of America</td>\n",
       "      <td>2 or more months</td>\n",
       "      <td>29</td>\n",
       "      <td>56</td>\n",
       "      <td>0.300</td>\n",
       "    </tr>\n",
       "    <tr>\n",
       "      <th>11</th>\n",
       "      <td>JP Morgan</td>\n",
       "      <td>2 or more months</td>\n",
       "      <td>6</td>\n",
       "      <td>55</td>\n",
       "      <td>4.200</td>\n",
       "    </tr>\n",
       "    <tr>\n",
       "      <th>12</th>\n",
       "      <td>Goldman Sachs</td>\n",
       "      <td>2 or more months</td>\n",
       "      <td>27</td>\n",
       "      <td>39</td>\n",
       "      <td>0.800</td>\n",
       "    </tr>\n",
       "    <tr>\n",
       "      <th>13</th>\n",
       "      <td>BNP Paribas</td>\n",
       "      <td>2 or more months</td>\n",
       "      <td>66</td>\n",
       "      <td>47</td>\n",
       "      <td>0.300</td>\n",
       "    </tr>\n",
       "    <tr>\n",
       "      <th>14</th>\n",
       "      <td>ING</td>\n",
       "      <td>2 or more months</td>\n",
       "      <td>191</td>\n",
       "      <td>44</td>\n",
       "      <td>0.300</td>\n",
       "    </tr>\n",
       "    <tr>\n",
       "      <th>15</th>\n",
       "      <td>Bank of America</td>\n",
       "      <td>Cash in hands</td>\n",
       "      <td>8</td>\n",
       "      <td>15</td>\n",
       "      <td>0.200</td>\n",
       "    </tr>\n",
       "    <tr>\n",
       "      <th>16</th>\n",
       "      <td>JP Morgan</td>\n",
       "      <td>Cash in hands</td>\n",
       "      <td>1</td>\n",
       "      <td>9</td>\n",
       "      <td>0.010</td>\n",
       "    </tr>\n",
       "    <tr>\n",
       "      <th>17</th>\n",
       "      <td>Goldman Sachs</td>\n",
       "      <td>Cash in hands</td>\n",
       "      <td>11</td>\n",
       "      <td>16</td>\n",
       "      <td>0.003</td>\n",
       "    </tr>\n",
       "    <tr>\n",
       "      <th>18</th>\n",
       "      <td>BNP Paribas</td>\n",
       "      <td>Cash in hands</td>\n",
       "      <td>24</td>\n",
       "      <td>17</td>\n",
       "      <td>0.300</td>\n",
       "    </tr>\n",
       "    <tr>\n",
       "      <th>19</th>\n",
       "      <td>ING</td>\n",
       "      <td>Cash in hands</td>\n",
       "      <td>82</td>\n",
       "      <td>19</td>\n",
       "      <td>0.200</td>\n",
       "    </tr>\n",
       "  </tbody>\n",
       "</table>\n",
       "</div>"
      ],
      "text/plain": [
       "              Group          Maturity  Cash amount  Cash percentage [%]  \\\n",
       "0   Bank of America           1 month            6                   12   \n",
       "1         JP Morgan           1 month            2                   18   \n",
       "2     Goldman Sachs           1 month           22                   31   \n",
       "3       BNP Paribas           1 month           28                   20   \n",
       "4               ING           1 month          104                   24   \n",
       "5   Bank of America        1-2 months            9                   17   \n",
       "6         JP Morgan        1-2 months            2                   18   \n",
       "7     Goldman Sachs        1-2 months           10                   14   \n",
       "8       BNP Paribas        1-2 months           23                   16   \n",
       "9               ING        1-2 months           56                   13   \n",
       "10  Bank of America  2 or more months           29                   56   \n",
       "11        JP Morgan  2 or more months            6                   55   \n",
       "12    Goldman Sachs  2 or more months           27                   39   \n",
       "13      BNP Paribas  2 or more months           66                   47   \n",
       "14              ING  2 or more months          191                   44   \n",
       "15  Bank of America     Cash in hands            8                   15   \n",
       "16        JP Morgan     Cash in hands            1                    9   \n",
       "17    Goldman Sachs     Cash in hands           11                   16   \n",
       "18      BNP Paribas     Cash in hands           24                   17   \n",
       "19              ING     Cash in hands           82                   19   \n",
       "\n",
       "    Interest rate [%]  \n",
       "0               0.800  \n",
       "1               0.300  \n",
       "2               0.300  \n",
       "3               4.000  \n",
       "4               0.800  \n",
       "5               0.300  \n",
       "6               0.300  \n",
       "7               4.100  \n",
       "8               0.800  \n",
       "9               0.300  \n",
       "10              0.300  \n",
       "11              4.200  \n",
       "12              0.800  \n",
       "13              0.300  \n",
       "14              0.300  \n",
       "15              0.200  \n",
       "16              0.010  \n",
       "17              0.003  \n",
       "18              0.300  \n",
       "19              0.200  "
      ]
     },
     "execution_count": 4,
     "metadata": {},
     "output_type": "execute_result"
    }
   ],
   "source": [
    "df = naas_drivers.gsheet.connect(spreadsheet_id).get(sheet_name=sheet_name)\n",
    "df"
   ]
  },
  {
   "cell_type": "markdown",
   "metadata": {
    "tags": []
   },
   "source": [
    "### Add data frame to Vizzu"
   ]
  },
  {
   "cell_type": "code",
   "execution_count": 10,
   "metadata": {
    "execution": {
     "iopub.execute_input": "2022-09-27T20:26:44.515262Z",
     "iopub.status.busy": "2022-09-27T20:26:44.515027Z",
     "iopub.status.idle": "2022-09-27T20:26:44.520155Z",
     "shell.execute_reply": "2022-09-27T20:26:44.519474Z",
     "shell.execute_reply.started": "2022-09-27T20:26:44.515240Z"
    },
    "tags": []
   },
   "outputs": [],
   "source": [
    "data = Data()\n",
    "data.add_data_frame(df)"
   ]
  },
  {
   "cell_type": "markdown",
   "metadata": {},
   "source": [
    "### Configure Vizzu slides"
   ]
  },
  {
   "cell_type": "code",
   "execution_count": 12,
   "metadata": {
    "cell_id": "47abd9a626364d7eb5f294c9aa81effa",
    "deepnote_cell_height": 1844,
    "deepnote_cell_type": "code",
    "deepnote_output_heights": [
     451
    ],
    "deepnote_to_be_reexecuted": false,
    "execution": {
     "iopub.execute_input": "2022-09-27T20:30:16.494192Z",
     "iopub.status.busy": "2022-09-27T20:30:16.493853Z",
     "iopub.status.idle": "2022-09-27T20:30:16.504469Z",
     "shell.execute_reply": "2022-09-27T20:30:16.503796Z",
     "shell.execute_reply.started": "2022-09-27T20:30:16.494155Z"
    },
    "execution_millis": 40,
    "execution_start": 1664283360692,
    "source_hash": "216ec558",
    "tags": []
   },
   "outputs": [],
   "source": [
    "story = Story(data=data)\n",
    "story.set_size(\"100%\", \"550px\")\n",
    "\n",
    "slide1 = Slide(\n",
    "    Step( \n",
    "        Style({\n",
    "            \"legend\": {\"label\": {\"fontSize\": \"1.1em\"}, \"paddingRight\": \"-1em\"},\n",
    "            \"plot\": { \n",
    "                \"marker\": { \"label\": { \"fontSize\": \"1.1em\"}}, \n",
    "                \"paddingLeft\": \"10em\",\n",
    "                \"xAxis\": {\"title\": { \"color\": \"#00000000\"}, \"label\": { \"fontSize\": \"1.1em\"}},\n",
    "                \"yAxis\": {\"label\": { \"fontSize\": \"1.1em\"}}},\n",
    "        }),\n",
    "        Config({\n",
    "            \"x\": {\"set\": [\"Cash percentage [%]\",\"Maturity\"]}, \n",
    "            \"y\": \"Group\",\n",
    "            \"color\": \"Maturity\",\n",
    "            \"label\": \"Cash percentage [%]\",\n",
    "            \"title\": \"💰 What is the cash repartition and maturity per bank?\"\n",
    "        })\n",
    "    )\n",
    ")\n",
    "story.add_slide(slide1)\n",
    "\n",
    "slide2 = Slide(\n",
    "    Step(\n",
    "        Style({ \"plot\": { \"xAxis\": { \"label\": { \"color\": \"#00000000\"}}}}),\n",
    "        Config({ \"split\": True, \"title\": \"🗓 What's the ranking by maturity?\"})\n",
    "    )\n",
    ")\n",
    "story.add_slide(slide2)\n",
    "\n",
    "slide3 = Slide(\n",
    "    Step(\n",
    "        Style({ \"plot\": { \"marker\": { \"label\": { \"fontSize\": \"0.916667em\"}}}}),\n",
    "        Config({ \"x\": {\"set\": [\"Cash amount\",\"Maturity\"]}, \"label\": \"Cash amount\", \"title\": \"⚡️ What's the actual cash positon in M$ by maturity?\"}),\n",
    "    )\n",
    ")\n",
    "story.add_slide(slide3)\n",
    "\n",
    "slide4 = Slide()\n",
    "slide4.add_step(\n",
    "    Step(\n",
    "        Style({ \"plot\": { \"yAxis\": { \"title\": { \"color\": \"#00000000\"}}}}),\n",
    "        Config({ \"x\": \"Maturity\", \"y\": [\"Group\",\"Cash amount\"], \"split\": False, \"legend\": \"color\"})\n",
    "    )\n",
    ")\n",
    "\n",
    "slide4.add_step(\n",
    "    Step(\n",
    "        Style({ \"plot\": { \"marker\": { \"label\": { \"fontSize\": \"1.1em\"}}}}),\n",
    "        Config({ \"y\": \"Cash amount\", \"title\": \"👀 What's the total cash position in M$ by maturity?\"}),\n",
    "    )\n",
    ")\n",
    "story.add_slide(slide4)\n",
    "\n",
    "slide5 = Slide()\n",
    "slide5.add_step(\n",
    "    Step(\n",
    "        Config({ \"x\": [\"Interest rate [%]\",\"Maturity\"], \"y\": None, \"label\":\"Cash amount\"})\n",
    "    )\n",
    ")\n",
    "\n",
    "slide5.add_step(\n",
    "    Step(\n",
    "        Style({ \"plot\": { \"xAxis\": {\"label\": {\"color\": \"#00000000\"}}}}),\n",
    "        Config({ \"coordSystem\": \"polar\", \"title\":\"What's the cash repartition in M$ by maturity?\"})\n",
    "    )\n",
    ")\n",
    "story.add_slide(slide5)\n",
    "\n"
   ]
  },
  {
   "cell_type": "markdown",
   "metadata": {},
   "source": [
    "## Output"
   ]
  },
  {
   "cell_type": "markdown",
   "metadata": {},
   "source": [
    "### Play Vizzu story"
   ]
  },
  {
   "cell_type": "code",
   "execution_count": 13,
   "metadata": {
    "execution": {
     "iopub.execute_input": "2022-09-27T20:30:16.505980Z",
     "iopub.status.busy": "2022-09-27T20:30:16.505733Z",
     "iopub.status.idle": "2022-09-27T20:30:16.607086Z",
     "shell.execute_reply": "2022-09-27T20:30:16.606122Z",
     "shell.execute_reply.started": "2022-09-27T20:30:16.505951Z"
    },
    "tags": []
   },
   "outputs": [
    {
     "data": {
      "text/html": [
       "\n",
       "<div>\n",
       "    <vizzu-player id=\"7b78af3\" controller></vizzu-player>\n",
       "    <script type=\"module\">\n",
       "        import VizzuPlayer, { Vizzu as lib } from \"https://cdn.jsdelivr.net/npm/vizzu-story@~0.1.0/dist/vizzu-story.min.js\";\n",
       "\n",
       "\n",
       "        const vizzuPlayerData = {\"data\": {\"series\": [{\"name\": \"Group\", \"type\": \"dimension\", \"values\": [\"Bank of America\", \"JP Morgan\", \"Goldman Sachs\", \"BNP Paribas\", \"ING\", \"Bank of America\", \"JP Morgan\", \"Goldman Sachs\", \"BNP Paribas\", \"ING\", \"Bank of America\", \"JP Morgan\", \"Goldman Sachs\", \"BNP Paribas\", \"ING\", \"Bank of America\", \"JP Morgan\", \"Goldman Sachs\", \"BNP Paribas\", \"ING\"]}, {\"name\": \"Maturity\", \"type\": \"dimension\", \"values\": [\"1 month\", \"1 month\", \"1 month\", \"1 month\", \"1 month\", \"1-2 months\", \"1-2 months\", \"1-2 months\", \"1-2 months\", \"1-2 months\", \"2 or more months\", \"2 or more months\", \"2 or more months\", \"2 or more months\", \"2 or more months\", \"Cash in hands\", \"Cash in hands\", \"Cash in hands\", \"Cash in hands\", \"Cash in hands\"]}, {\"name\": \"Cash amount\", \"type\": \"measure\", \"values\": [6.0, 2.0, 22.0, 28.0, 104.0, 9.0, 2.0, 10.0, 23.0, 56.0, 29.0, 6.0, 27.0, 66.0, 191.0, 8.0, 1.0, 11.0, 24.0, 82.0]}, {\"name\": \"Cash percentage [%]\", \"type\": \"measure\", \"values\": [12.0, 18.0, 31.0, 20.0, 24.0, 17.0, 18.0, 14.0, 16.0, 13.0, 56.0, 55.0, 39.0, 47.0, 44.0, 15.0, 9.0, 16.0, 17.0, 19.0]}, {\"name\": \"Interest rate [%]\", \"type\": \"measure\", \"values\": [0.8, 0.3, 0.3, 4.0, 0.8, 0.3, 0.3, 4.1, 0.8, 0.3, 0.3, 4.2, 0.8, 0.3, 0.3, 0.2, 0.01, 0.003, 0.3, 0.2]}]}, \"slides\": [[{\"style\": {\"legend\": {\"label\": {\"fontSize\": \"1.1em\"}, \"paddingRight\": \"-1em\"}, \"plot\": {\"marker\": {\"label\": {\"fontSize\": \"1.1em\"}}, \"paddingLeft\": \"10em\", \"xAxis\": {\"title\": {\"color\": \"#00000000\"}, \"label\": {\"fontSize\": \"1.1em\"}}, \"yAxis\": {\"label\": {\"fontSize\": \"1.1em\"}}}}, \"config\": {\"x\": {\"set\": [\"Cash percentage [%]\", \"Maturity\"]}, \"y\": \"Group\", \"color\": \"Maturity\", \"label\": \"Cash percentage [%]\", \"title\": \"\\ud83d\\udcb0 What is the cash repartition and maturity per bank?\"}}], [{\"style\": {\"plot\": {\"xAxis\": {\"label\": {\"color\": \"#00000000\"}}}}, \"config\": {\"split\": true, \"title\": \"\\ud83d\\uddd3 What's the ranking by maturity?\"}}], [{\"style\": {\"plot\": {\"marker\": {\"label\": {\"fontSize\": \"0.916667em\"}}}}, \"config\": {\"x\": {\"set\": [\"Cash amount\", \"Maturity\"]}, \"label\": \"Cash amount\", \"title\": \"\\u26a1\\ufe0f What's the actual cash positon in M$ by maturity?\"}}], [{\"style\": {\"plot\": {\"yAxis\": {\"title\": {\"color\": \"#00000000\"}}}}, \"config\": {\"x\": \"Maturity\", \"y\": [\"Group\", \"Cash amount\"], \"split\": false, \"legend\": \"color\"}}, {\"style\": {\"plot\": {\"marker\": {\"label\": {\"fontSize\": \"1.1em\"}}}}, \"config\": {\"y\": \"Cash amount\", \"title\": \"\\ud83d\\udc40 What's the total cash position in M$ by maturity?\"}}], [{\"config\": {\"x\": [\"Interest rate [%]\", \"Maturity\"], \"y\": null, \"label\": \"Cash amount\"}}, {\"style\": {\"plot\": {\"xAxis\": {\"label\": {\"color\": \"#00000000\"}}}}, \"config\": {\"coordSystem\": \"polar\", \"title\": \"What's the cash repartition in M$ by maturity?\"}}]]};\n",
       "        const vizzuPlayer = document.getElementById(\"7b78af3\")\n",
       "        // story.set_size()\n",
       "        vizzuPlayer.style.cssText = 'width: 100%;height: 550px;'\n",
       "        vizzuPlayer.slides = vizzuPlayerData;\n",
       "        vizzuPlayer.vizzu.initializing.then(chart => {\n",
       "            // story.set_feature()\n",
       "            \n",
       "            // story.add_event()\n",
       "            \n",
       "        });\n",
       "    </script>\n",
       "</div>\n"
      ],
      "text/plain": [
       "<IPython.core.display.HTML object>"
      ]
     },
     "metadata": {},
     "output_type": "display_data"
    }
   ],
   "source": [
    "story.play()"
   ]
  },
  {
   "cell_type": "markdown",
   "metadata": {},
   "source": [
    "### Export story to HTML"
   ]
  },
  {
   "cell_type": "code",
   "execution_count": 14,
   "metadata": {
    "execution": {
     "iopub.execute_input": "2022-09-27T20:30:17.279118Z",
     "iopub.status.busy": "2022-09-27T20:30:17.278793Z",
     "iopub.status.idle": "2022-09-27T20:30:17.308219Z",
     "shell.execute_reply": "2022-09-27T20:30:17.307608Z",
     "shell.execute_reply.started": "2022-09-27T20:30:17.279078Z"
    },
    "tags": []
   },
   "outputs": [],
   "source": [
    "story.export_to_html(filename=\"mystory.html\")"
   ]
  },
  {
   "cell_type": "markdown",
   "metadata": {},
   "source": [
    "### Create shareable asset with Naas"
   ]
  },
  {
   "cell_type": "code",
   "execution_count": 15,
   "metadata": {
    "execution": {
     "iopub.execute_input": "2022-09-27T20:30:17.831451Z",
     "iopub.status.busy": "2022-09-27T20:30:17.831124Z",
     "iopub.status.idle": "2022-09-27T20:30:18.355742Z",
     "shell.execute_reply": "2022-09-27T20:30:18.350487Z",
     "shell.execute_reply.started": "2022-09-27T20:30:17.831421Z"
    },
    "tags": []
   },
   "outputs": [
    {
     "name": "stdout",
     "output_type": "stream",
     "text": [
      "👌 Well done! Your Assets has been sent to production.\n",
      "\n"
     ]
    },
    {
     "data": {
      "application/javascript": [
       "\n",
       "    if (!window.copyToClipboard) {\n",
       "        window.copyToClipboard = (text) => {\n",
       "            const dummy = document.createElement(\"textarea\");\n",
       "            document.body.appendChild(dummy);\n",
       "            dummy.value = text;\n",
       "            dummy.select();\n",
       "            document.execCommand(\"copy\");\n",
       "            document.body.removeChild(dummy);\n",
       "        }\n",
       "    }\n",
       "    "
      ],
      "text/plain": [
       "<IPython.core.display.Javascript object>"
      ]
     },
     "metadata": {},
     "output_type": "display_data"
    },
    {
     "data": {
      "application/vnd.jupyter.widget-view+json": {
       "model_id": "64cb8bdb80204fe1b578e0f88dbbc51b",
       "version_major": 2,
       "version_minor": 0
      },
      "text/plain": [
       "Button(button_style='primary', description='Copy URL', style=ButtonStyle())"
      ]
     },
     "metadata": {},
     "output_type": "display_data"
    },
    {
     "data": {
      "application/vnd.jupyter.widget-view+json": {
       "model_id": "8b47b5ace44942cdb5c0fb098712f911",
       "version_major": 2,
       "version_minor": 0
      },
      "text/plain": [
       "Output()"
      ]
     },
     "metadata": {},
     "output_type": "display_data"
    },
    {
     "name": "stdout",
     "output_type": "stream",
     "text": [
      "PS: to remove the \"Assets\" feature, just replace .add by .delete\n"
     ]
    },
    {
     "data": {
      "text/plain": [
       "'https://public.naas.ai/amVyZW15LTQwbmFhcy0yRWFp/asset/c5b597e8eba8936b180f5539cbc6aec5656c469bec204d476b079e8e1514'"
      ]
     },
     "execution_count": 15,
     "metadata": {},
     "output_type": "execute_result"
    }
   ],
   "source": [
    "naas.asset.add(\"mystory.html\", params = {\"inline\": True})"
   ]
  },
  {
   "cell_type": "code",
   "execution_count": null,
   "metadata": {},
   "outputs": [],
   "source": []
  }
 ],
 "metadata": {
  "deepnote": {},
  "deepnote_execution_queue": [],
  "deepnote_notebook_id": "63e2ef8b-929b-4305-b769-987a1d8b9540",
  "deepnote_persisted_session": {
   "createdAt": "2022-09-27T10:00:16.451Z"
  },
  "kernelspec": {
   "display_name": "Python 3",
   "language": "python",
   "name": "python3"
  },
  "language_info": {
   "codemirror_mode": {
    "name": "ipython",
    "version": 3
   },
   "file_extension": ".py",
   "mimetype": "text/x-python",
   "name": "python",
   "nbconvert_exporter": "python",
   "pygments_lexer": "ipython3",
   "version": "3.9.6"
  },
  "widgets": {
   "application/vnd.jupyter.widget-state+json": {
    "state": {
     "25131ddb6a424936abdbb1dd69338f06": {
      "model_module": "@jupyter-widgets/controls",
      "model_module_version": "1.5.0",
      "model_name": "ButtonStyleModel",
      "state": {}
     },
     "2d2c798df99e46cd8d1a424f67c6c37a": {
      "model_module": "@jupyter-widgets/controls",
      "model_module_version": "1.5.0",
      "model_name": "ButtonModel",
      "state": {
       "button_style": "primary",
       "description": "Copy URL",
       "layout": "IPY_MODEL_6ea54f2fec494b5882a4f457c90c45ef",
       "style": "IPY_MODEL_b818720fe5a24dc2ab7214bdf62b9b4c"
      }
     },
     "33c82973f5f244ec8c8344764c40f78e": {
      "model_module": "@jupyter-widgets/output",
      "model_module_version": "1.0.0",
      "model_name": "OutputModel",
      "state": {
       "layout": "IPY_MODEL_8f24c36cfa38498d818c62e420da579e"
      }
     },
     "3bd4c517515f4b0a8ced2920c8b0ea29": {
      "model_module": "@jupyter-widgets/base",
      "model_module_version": "1.2.0",
      "model_name": "LayoutModel",
      "state": {}
     },
     "4517a25b28d74b8f9b6c8fbabc746ca1": {
      "model_module": "@jupyter-widgets/output",
      "model_module_version": "1.0.0",
      "model_name": "OutputModel",
      "state": {
       "layout": "IPY_MODEL_e47b2edf5cd7487a841a9fd6fb6cbb29"
      }
     },
     "57d426c1a0164344b4898e5b04bb058b": {
      "model_module": "@jupyter-widgets/controls",
      "model_module_version": "1.5.0",
      "model_name": "ButtonModel",
      "state": {
       "button_style": "primary",
       "description": "Copy URL",
       "layout": "IPY_MODEL_3bd4c517515f4b0a8ced2920c8b0ea29",
       "style": "IPY_MODEL_25131ddb6a424936abdbb1dd69338f06"
      }
     },
     "64cb8bdb80204fe1b578e0f88dbbc51b": {
      "model_module": "@jupyter-widgets/controls",
      "model_module_version": "1.5.0",
      "model_name": "ButtonModel",
      "state": {
       "button_style": "primary",
       "description": "Copy URL",
       "layout": "IPY_MODEL_692d9f7237874f17838a14bd426b29cf",
       "style": "IPY_MODEL_8c17451e7ea44fb2bb881a7bd3eb76ef"
      }
     },
     "692d9f7237874f17838a14bd426b29cf": {
      "model_module": "@jupyter-widgets/base",
      "model_module_version": "1.2.0",
      "model_name": "LayoutModel",
      "state": {}
     },
     "6ea54f2fec494b5882a4f457c90c45ef": {
      "model_module": "@jupyter-widgets/base",
      "model_module_version": "1.2.0",
      "model_name": "LayoutModel",
      "state": {}
     },
     "801c60e221ca4802885f9c7a70c9b19b": {
      "model_module": "@jupyter-widgets/base",
      "model_module_version": "1.2.0",
      "model_name": "LayoutModel",
      "state": {}
     },
     "8b47b5ace44942cdb5c0fb098712f911": {
      "model_module": "@jupyter-widgets/output",
      "model_module_version": "1.0.0",
      "model_name": "OutputModel",
      "state": {
       "layout": "IPY_MODEL_801c60e221ca4802885f9c7a70c9b19b"
      }
     },
     "8c17451e7ea44fb2bb881a7bd3eb76ef": {
      "model_module": "@jupyter-widgets/controls",
      "model_module_version": "1.5.0",
      "model_name": "ButtonStyleModel",
      "state": {}
     },
     "8f24c36cfa38498d818c62e420da579e": {
      "model_module": "@jupyter-widgets/base",
      "model_module_version": "1.2.0",
      "model_name": "LayoutModel",
      "state": {}
     },
     "b818720fe5a24dc2ab7214bdf62b9b4c": {
      "model_module": "@jupyter-widgets/controls",
      "model_module_version": "1.5.0",
      "model_name": "ButtonStyleModel",
      "state": {}
     },
     "e47b2edf5cd7487a841a9fd6fb6cbb29": {
      "model_module": "@jupyter-widgets/base",
      "model_module_version": "1.2.0",
      "model_name": "LayoutModel",
      "state": {}
     }
    },
    "version_major": 2,
    "version_minor": 0
   }
  }
 },
 "nbformat": 4,
 "nbformat_minor": 4
}
