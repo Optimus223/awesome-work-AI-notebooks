{
 "cells": [
  {
   "cell_type": "markdown",
   "id": "cd03dd13-bdc2-4906-90ac-cb1fd90be2ce",
   "metadata": {
    "papermill": {},
    "tags": []
   },
   "source": [
    "<img width=\"10%\" alt=\"Naas\" src=\"https://landen.imgix.net/jtci2pxwjczr/assets/5ice39g4.png?w=160\"/>"
   ]
  },
  {
   "cell_type": "markdown",
   "id": "2001a36d-8710-44d2-b8c4-41d501b71f44",
   "metadata": {
    "papermill": {},
    "tags": []
   },
   "source": [
    "# Vizzu - Create Animated Bar Chart"
   ]
  },
  {
   "cell_type": "markdown",
   "id": "66cd09c2-d3bf-47fd-b753-8c27cc358570",
   "metadata": {
    "papermill": {},
    "tags": []
   },
   "source": [
    "**Tags:** #vizzu #animation #bar-chart #data-visualization #data-science #python"
   ]
  },
  {
   "cell_type": "markdown",
   "id": "c1691fe5-7d3c-46a5-b4bc-22b823463bdb",
   "metadata": {
    "papermill": {},
    "tags": []
   },
   "source": [
    "**Author:** [Alexandre Petit](https://www.linkedin.com/in/alexandre-petit-24a87a219/)"
   ]
  },
  {
   "cell_type": "markdown",
   "id": "83658e39-e48c-4fa8-91fa-fa178e399f8a",
   "metadata": {
    "papermill": {},
    "tags": []
   },
   "source": [
    "**Description:** This notebook would allow you to create an animated bar chart. It will show the oil production evolution by country year after year."
   ]
  },
  {
   "cell_type": "markdown",
   "id": "40f5b938-9d11-45f9-b72d-f872b22a9e4b",
   "metadata": {
    "papermill": {},
    "tags": []
   },
   "source": [
    "**References:**\n",
    "- https://ipyvizzu.vizzuhq.com/latest/showcases/musicformats/\n",
    "- https://ipyvizzu.vizzuhq.com/latest/examples/animation/"
   ]
  },
  {
   "cell_type": "markdown",
   "id": "35355415-f1eb-4249-ad3f-7e7b0bd91513",
   "metadata": {
    "papermill": {},
    "tags": []
   },
   "source": [
    "## Input"
   ]
  },
  {
   "cell_type": "markdown",
   "id": "f739f66c-7438-4075-9373-b7e41472bd24",
   "metadata": {
    "papermill": {},
    "tags": []
   },
   "source": [
    "### Import libraries"
   ]
  },
  {
   "cell_type": "code",
   "execution_count": 19,
   "id": "a2435b57-9a3f-4712-a686-22aea6b66541",
   "metadata": {
    "execution": {
     "iopub.execute_input": "2023-04-24T18:18:54.718238Z",
     "iopub.status.busy": "2023-04-24T18:18:54.718002Z",
     "iopub.status.idle": "2023-04-24T18:18:54.729930Z",
     "shell.execute_reply": "2023-04-24T18:18:54.729145Z",
     "shell.execute_reply.started": "2023-04-24T18:18:54.718213Z"
    },
    "papermill": {},
    "tags": []
   },
   "outputs": [
    {
     "data": {
      "application/javascript": [
       "if (window.IpyVizzu) { window.IpyVizzu.clearInhibitScroll(element); }"
      ]
     },
     "metadata": {},
     "output_type": "display_data"
    },
    {
     "data": {
      "application/javascript": [
       "if (window.IpyVizzu) { window.IpyVizzu.clearInhibitScroll(element); }"
      ]
     },
     "metadata": {},
     "output_type": "display_data"
    },
    {
     "data": {
      "application/javascript": [
       "if (window.IpyVizzu) { window.IpyVizzu.clearInhibitScroll(element); }"
      ]
     },
     "metadata": {},
     "output_type": "display_data"
    },
    {
     "data": {
      "application/javascript": [
       "if (window.IpyVizzu) { window.IpyVizzu.clearInhibitScroll(element); }"
      ]
     },
     "metadata": {},
     "output_type": "display_data"
    },
    {
     "data": {
      "application/javascript": [
       "if (window.IpyVizzu) { window.IpyVizzu.clearInhibitScroll(element); }"
      ]
     },
     "metadata": {},
     "output_type": "display_data"
    },
    {
     "data": {
      "application/javascript": [
       "if (window.IpyVizzu) { window.IpyVizzu.clearInhibitScroll(element); }"
      ]
     },
     "metadata": {},
     "output_type": "display_data"
    },
    {
     "data": {
      "application/javascript": [
       "if (window.IpyVizzu) { window.IpyVizzu.clearInhibitScroll(element); }"
      ]
     },
     "metadata": {},
     "output_type": "display_data"
    }
   ],
   "source": [
    "import naas\n",
    "import pandas as pd\n",
    "try:\n",
    "    from ipyvizzu import Chart, Data, Config, Style, DisplayTarget\n",
    "except:\n",
    "    !pip install ipyvizzu --user\n",
    "    from ipyvizzu import Chart, Data, Config, Style, DisplayTarget"
   ]
  },
  {
   "cell_type": "markdown",
   "id": "050f3445-61d4-4152-964a-4284e4e19372",
   "metadata": {
    "papermill": {},
    "tags": []
   },
   "source": [
    "### Setup Variables\n",
    "- `file_path`: url to the csv file\n",
    "- `category`: the column representing each bar\n",
    "- `value`: the column with the values \n",
    "- `time_col`: the column of the time period\n",
    "- `countries`: the countries that will be displayed in the animated bar chart\n",
    "- `color_list`: a list of hexadecimal color\n",
    "- `html_output`: The file path where the HTML output file should be created."
   ]
  },
  {
   "cell_type": "code",
   "execution_count": 31,
   "id": "466e0d2b-ea71-4aa1-9d7d-0c10992aceba",
   "metadata": {
    "execution": {
     "iopub.execute_input": "2023-04-24T18:26:24.320565Z",
     "iopub.status.busy": "2023-04-24T18:26:24.320315Z",
     "iopub.status.idle": "2023-04-24T18:26:24.340303Z",
     "shell.execute_reply": "2023-04-24T18:26:24.337989Z",
     "shell.execute_reply.started": "2023-04-24T18:26:24.320538Z"
    },
    "papermill": {},
    "tags": []
   },
   "outputs": [
    {
     "data": {
      "application/javascript": [
       "if (window.IpyVizzu) { window.IpyVizzu.clearInhibitScroll(element); }"
      ]
     },
     "metadata": {},
     "output_type": "display_data"
    },
    {
     "data": {
      "application/javascript": [
       "if (window.IpyVizzu) { window.IpyVizzu.clearInhibitScroll(element); }"
      ]
     },
     "metadata": {},
     "output_type": "display_data"
    },
    {
     "data": {
      "application/javascript": [
       "if (window.IpyVizzu) { window.IpyVizzu.clearInhibitScroll(element); }"
      ]
     },
     "metadata": {},
     "output_type": "display_data"
    },
    {
     "data": {
      "application/javascript": [
       "if (window.IpyVizzu) { window.IpyVizzu.clearInhibitScroll(element); }"
      ]
     },
     "metadata": {},
     "output_type": "display_data"
    },
    {
     "data": {
      "application/javascript": [
       "if (window.IpyVizzu) { window.IpyVizzu.clearInhibitScroll(element); }"
      ]
     },
     "metadata": {},
     "output_type": "display_data"
    },
    {
     "data": {
      "application/javascript": [
       "if (window.IpyVizzu) { window.IpyVizzu.clearInhibitScroll(element); }"
      ]
     },
     "metadata": {},
     "output_type": "display_data"
    },
    {
     "data": {
      "application/javascript": [
       "if (window.IpyVizzu) { window.IpyVizzu.clearInhibitScroll(element); }"
      ]
     },
     "metadata": {},
     "output_type": "display_data"
    },
    {
     "data": {
      "application/javascript": [
       "if (window.IpyVizzu) { window.IpyVizzu.clearInhibitScroll(element); }"
      ]
     },
     "metadata": {},
     "output_type": "display_data"
    },
    {
     "data": {
      "application/javascript": [
       "if (window.IpyVizzu) { window.IpyVizzu.clearInhibitScroll(element); }"
      ]
     },
     "metadata": {},
     "output_type": "display_data"
    }
   ],
   "source": [
    "file_path = \"https://raw.githubusercontent.com/alexandre-petit/oil-production/main/oil-production-by-country.csv\"\n",
    "category = \"Entity\"\n",
    "value = \"Oil production (TWh)\"\n",
    "time_col = \"Year\"\n",
    "\n",
    "#list of the countries we are going to include in the chart\n",
    "countries = ['United States', 'Russia', 'USSR', 'Venezuela',\n",
    "             'Saudi Arabia', 'Canada', 'Brazil', 'Iraq', 'China',\n",
    "            'United Arab Emirates', 'Iran', 'Algeria']\n",
    "\n",
    "#a list of hexadecimal color that will be used for the chart\n",
    "color_list = [\"#b74c20FF\", \"#c47f58FF\", \"#1c9761FF\",\"#ea4549FF\", \"#875792FF\",\n",
    "              \"#3562b6FF\", \"#ee7c34FF\", \"#efae3aFF\"]\n",
    "\n",
    "html_output = \"Vizzu_Create_Animated_Bar_Chart.html\""
   ]
  },
  {
   "cell_type": "markdown",
   "id": "112734d6-a75a-432c-9e35-1e991af08309",
   "metadata": {
    "papermill": {},
    "tags": []
   },
   "source": [
    "## Model"
   ]
  },
  {
   "cell_type": "markdown",
   "id": "cac97bb5-da0d-4b34-a91e-20d89788fc28",
   "metadata": {},
   "source": [
    "### Get data from csv"
   ]
  },
  {
   "cell_type": "code",
   "execution_count": 10,
   "id": "2e7b367f-9d76-4aea-b1d7-704766ce8a89",
   "metadata": {
    "execution": {
     "iopub.execute_input": "2023-04-24T18:13:01.809395Z",
     "iopub.status.busy": "2023-04-24T18:13:01.809160Z",
     "iopub.status.idle": "2023-04-24T18:13:02.015471Z",
     "shell.execute_reply": "2023-04-24T18:13:02.014788Z",
     "shell.execute_reply.started": "2023-04-24T18:13:01.809371Z"
    },
    "tags": []
   },
   "outputs": [
    {
     "data": {
      "text/html": [
       "<div>\n",
       "<style scoped>\n",
       "    .dataframe tbody tr th:only-of-type {\n",
       "        vertical-align: middle;\n",
       "    }\n",
       "\n",
       "    .dataframe tbody tr th {\n",
       "        vertical-align: top;\n",
       "    }\n",
       "\n",
       "    .dataframe thead th {\n",
       "        text-align: right;\n",
       "    }\n",
       "</style>\n",
       "<table border=\"1\" class=\"dataframe\">\n",
       "  <thead>\n",
       "    <tr style=\"text-align: right;\">\n",
       "      <th></th>\n",
       "      <th>Entity</th>\n",
       "      <th>Code</th>\n",
       "      <th>Year</th>\n",
       "      <th>Oil production (TWh)</th>\n",
       "    </tr>\n",
       "  </thead>\n",
       "  <tbody>\n",
       "    <tr>\n",
       "      <th>0</th>\n",
       "      <td>Afghanistan</td>\n",
       "      <td>AFG</td>\n",
       "      <td>1980</td>\n",
       "      <td>0.0</td>\n",
       "    </tr>\n",
       "    <tr>\n",
       "      <th>1</th>\n",
       "      <td>Afghanistan</td>\n",
       "      <td>AFG</td>\n",
       "      <td>1981</td>\n",
       "      <td>0.0</td>\n",
       "    </tr>\n",
       "    <tr>\n",
       "      <th>2</th>\n",
       "      <td>Afghanistan</td>\n",
       "      <td>AFG</td>\n",
       "      <td>1982</td>\n",
       "      <td>0.0</td>\n",
       "    </tr>\n",
       "    <tr>\n",
       "      <th>3</th>\n",
       "      <td>Afghanistan</td>\n",
       "      <td>AFG</td>\n",
       "      <td>1983</td>\n",
       "      <td>0.0</td>\n",
       "    </tr>\n",
       "    <tr>\n",
       "      <th>4</th>\n",
       "      <td>Afghanistan</td>\n",
       "      <td>AFG</td>\n",
       "      <td>1984</td>\n",
       "      <td>0.0</td>\n",
       "    </tr>\n",
       "    <tr>\n",
       "      <th>...</th>\n",
       "      <td>...</td>\n",
       "      <td>...</td>\n",
       "      <td>...</td>\n",
       "      <td>...</td>\n",
       "    </tr>\n",
       "    <tr>\n",
       "      <th>17322</th>\n",
       "      <td>Zimbabwe</td>\n",
       "      <td>ZWE</td>\n",
       "      <td>2012</td>\n",
       "      <td>0.0</td>\n",
       "    </tr>\n",
       "    <tr>\n",
       "      <th>17323</th>\n",
       "      <td>Zimbabwe</td>\n",
       "      <td>ZWE</td>\n",
       "      <td>2013</td>\n",
       "      <td>0.0</td>\n",
       "    </tr>\n",
       "    <tr>\n",
       "      <th>17324</th>\n",
       "      <td>Zimbabwe</td>\n",
       "      <td>ZWE</td>\n",
       "      <td>2014</td>\n",
       "      <td>0.0</td>\n",
       "    </tr>\n",
       "    <tr>\n",
       "      <th>17325</th>\n",
       "      <td>Zimbabwe</td>\n",
       "      <td>ZWE</td>\n",
       "      <td>2015</td>\n",
       "      <td>0.0</td>\n",
       "    </tr>\n",
       "    <tr>\n",
       "      <th>17326</th>\n",
       "      <td>Zimbabwe</td>\n",
       "      <td>ZWE</td>\n",
       "      <td>2016</td>\n",
       "      <td>0.0</td>\n",
       "    </tr>\n",
       "  </tbody>\n",
       "</table>\n",
       "<p>17327 rows × 4 columns</p>\n",
       "</div>"
      ],
      "text/plain": [
       "            Entity Code  Year  Oil production (TWh)\n",
       "0      Afghanistan  AFG  1980                   0.0\n",
       "1      Afghanistan  AFG  1981                   0.0\n",
       "2      Afghanistan  AFG  1982                   0.0\n",
       "3      Afghanistan  AFG  1983                   0.0\n",
       "4      Afghanistan  AFG  1984                   0.0\n",
       "...            ...  ...   ...                   ...\n",
       "17322     Zimbabwe  ZWE  2012                   0.0\n",
       "17323     Zimbabwe  ZWE  2013                   0.0\n",
       "17324     Zimbabwe  ZWE  2014                   0.0\n",
       "17325     Zimbabwe  ZWE  2015                   0.0\n",
       "17326     Zimbabwe  ZWE  2016                   0.0\n",
       "\n",
       "[17327 rows x 4 columns]"
      ]
     },
     "execution_count": 10,
     "metadata": {},
     "output_type": "execute_result"
    }
   ],
   "source": [
    "df = pd.read_csv(file_path)\n",
    "df"
   ]
  },
  {
   "cell_type": "markdown",
   "id": "edb5dadd-d045-40c4-a5b9-5e977ec557ea",
   "metadata": {
    "papermill": {},
    "tags": []
   },
   "source": [
    "### Create Animated Bar Chart"
   ]
  },
  {
   "cell_type": "markdown",
   "id": "6dda4b89-4427-4066-85bb-688f9fb3e21e",
   "metadata": {
    "papermill": {},
    "tags": []
   },
   "source": [
    "This function will create an animated bar chart to show the oil production evolution by country year after year."
   ]
  },
  {
   "cell_type": "code",
   "execution_count": 33,
   "id": "438774c2-ef7c-43db-9f68-ab5c68bd6e1c",
   "metadata": {
    "execution": {
     "iopub.execute_input": "2023-04-24T18:27:36.831239Z",
     "iopub.status.busy": "2023-04-24T18:27:36.830980Z",
     "iopub.status.idle": "2023-04-24T18:27:37.094552Z",
     "shell.execute_reply": "2023-04-24T18:27:37.093777Z",
     "shell.execute_reply.started": "2023-04-24T18:27:36.831212Z"
    },
    "papermill": {},
    "tags": []
   },
   "outputs": [
    {
     "data": {
      "application/javascript": [
       "if (window.IpyVizzu) { window.IpyVizzu.clearInhibitScroll(element); }"
      ]
     },
     "metadata": {},
     "output_type": "display_data"
    },
    {
     "data": {
      "application/javascript": [
       "if (window.IpyVizzu) { window.IpyVizzu.clearInhibitScroll(element); }"
      ]
     },
     "metadata": {},
     "output_type": "display_data"
    },
    {
     "data": {
      "application/javascript": [
       "if (window.IpyVizzu) { window.IpyVizzu.clearInhibitScroll(element); }"
      ]
     },
     "metadata": {},
     "output_type": "display_data"
    },
    {
     "data": {
      "application/javascript": [
       "if (window.IpyVizzu) { window.IpyVizzu.clearInhibitScroll(element); }"
      ]
     },
     "metadata": {},
     "output_type": "display_data"
    },
    {
     "data": {
      "application/javascript": [
       "if (window.IpyVizzu) { window.IpyVizzu.clearInhibitScroll(element); }"
      ]
     },
     "metadata": {},
     "output_type": "display_data"
    },
    {
     "data": {
      "application/javascript": [
       "if (window.IpyVizzu) { window.IpyVizzu.clearInhibitScroll(element); }"
      ]
     },
     "metadata": {},
     "output_type": "display_data"
    },
    {
     "data": {
      "application/javascript": [
       "if (window.IpyVizzu) { window.IpyVizzu.clearInhibitScroll(element); }"
      ]
     },
     "metadata": {},
     "output_type": "display_data"
    },
    {
     "data": {
      "application/javascript": [
       "if (window.IpyVizzu) { window.IpyVizzu.clearInhibitScroll(element); }"
      ]
     },
     "metadata": {},
     "output_type": "display_data"
    },
    {
     "data": {
      "application/javascript": [
       "if (window.IpyVizzu) { window.IpyVizzu.clearInhibitScroll(element); }"
      ]
     },
     "metadata": {},
     "output_type": "display_data"
    },
    {
     "data": {
      "application/javascript": [
       "if (!window.IpyVizzu) {\n",
       "  class IpyVizzu {\n",
       "    constructor() {\n",
       "      IpyVizzu.inhibitScroll = false;\n",
       "      IpyVizzu.nbconvert = false;\n",
       "      document.addEventListener(\n",
       "        \"wheel\",\n",
       "        (evt) => {\n",
       "          IpyVizzu.inhibitScroll = true;\n",
       "        },\n",
       "        true\n",
       "      );\n",
       "      document.addEventListener(\n",
       "        \"keydown\",\n",
       "        (evt) => {\n",
       "          IpyVizzu.inhibitScroll = true;\n",
       "        },\n",
       "        true\n",
       "      );\n",
       "      document.addEventListener(\n",
       "        \"touchstart\",\n",
       "        (evt) => {\n",
       "          IpyVizzu.inhibitScroll = true;\n",
       "        },\n",
       "        true\n",
       "      );\n",
       "\n",
       "      this.elements = {};\n",
       "      this.charts = {};\n",
       "      this.controls = {};\n",
       "\n",
       "      this.storage = {};\n",
       "      this.displays = {};\n",
       "\n",
       "      this.events = {};\n",
       "      this.loaded = {};\n",
       "      this.libs = {};\n",
       "    }\n",
       "\n",
       "    static clearInhibitScroll(element) {\n",
       "      if (IpyVizzu.nbconvert) IpyVizzu._hide(element);\n",
       "      IpyVizzu.inhibitScroll = false;\n",
       "    }\n",
       "\n",
       "    createChart(element, chartId, vizzulib, divWidth, divHeight) {\n",
       "      this.elements[chartId] = document.createElement(\"div\");\n",
       "      this.elements[\n",
       "        chartId\n",
       "      ].style.cssText = `width: ${divWidth}; height: ${divHeight};`;\n",
       "      this.loaded[chartId] = import(vizzulib);\n",
       "      this.charts[chartId] = this.loaded[chartId].then((Vizzu) => {\n",
       "        this.libs[chartId] = Vizzu.default;\n",
       "        const VizzuConstructor = Vizzu.default;\n",
       "        return new VizzuConstructor(this.elements[chartId]).initializing;\n",
       "      });\n",
       "      this._moveHere(chartId, element);\n",
       "    }\n",
       "\n",
       "    animate(\n",
       "      element,\n",
       "      chartId,\n",
       "      animId,\n",
       "      displayTarget,\n",
       "      scrollEnabled,\n",
       "      getChartTarget,\n",
       "      chartAnimOpts\n",
       "    ) {\n",
       "      if (IpyVizzu.nbconvert) IpyVizzu._hide(element);\n",
       "      if (displayTarget === \"end\") this._moveHere(chartId, element);\n",
       "      this.controls[chartId] = this.charts[chartId];\n",
       "      this.charts[chartId] = this.charts[chartId].then((chart) => {\n",
       "        if (displayTarget === \"actual\") this._moveHere(chartId, element);\n",
       "        this._scroll(chartId, scrollEnabled);\n",
       "        let chartTarget = getChartTarget(this.libs[chartId]);\n",
       "        if (typeof chartTarget === \"string\") {\n",
       "          chartTarget = this.storage[chartTarget];\n",
       "        } else if (Array.isArray(chartTarget)) {\n",
       "          for (let i = 0; i < chartTarget.length; i++) {\n",
       "            const target = chartTarget[i].target;\n",
       "            if (typeof target === \"string\") {\n",
       "              chartTarget[i].target = this.storage[target];\n",
       "            }\n",
       "          }\n",
       "        }\n",
       "        chart = chart.animate(chartTarget, chartAnimOpts);\n",
       "        this.controls[animId] = chart;\n",
       "        return chart;\n",
       "      });\n",
       "    }\n",
       "\n",
       "    store(element, chartId, id) {\n",
       "      if (IpyVizzu.nbconvert) IpyVizzu._hide(element);\n",
       "      this.charts[chartId] = this.charts[chartId].then((chart) => {\n",
       "        this.storage[id] = chart.store();\n",
       "        return chart;\n",
       "      });\n",
       "    }\n",
       "\n",
       "    feature(element, chartId, name, enabled) {\n",
       "      if (IpyVizzu.nbconvert) IpyVizzu._hide(element);\n",
       "      this.charts[chartId] = this.charts[chartId].then((chart) => {\n",
       "        chart.feature(name, enabled);\n",
       "        return chart;\n",
       "      });\n",
       "    }\n",
       "\n",
       "    setEvent(element, chartId, id, event, handler) {\n",
       "      if (IpyVizzu.nbconvert) IpyVizzu._hide(element);\n",
       "      this.charts[chartId] = this.charts[chartId].then((chart) => {\n",
       "        this.events[id] = handler;\n",
       "        chart.on(event, this.events[id]);\n",
       "        return chart;\n",
       "      });\n",
       "    }\n",
       "\n",
       "    clearEvent(element, chartId, id, event) {\n",
       "      if (IpyVizzu.nbconvert) IpyVizzu._hide(element);\n",
       "      this.charts[chartId] = this.charts[chartId].then((chart) => {\n",
       "        chart.off(event, this.events[id]);\n",
       "        return chart;\n",
       "      });\n",
       "    }\n",
       "\n",
       "    log(element, chartId, chartProperty) {\n",
       "      if (IpyVizzu.nbconvert) IpyVizzu._hide(element);\n",
       "      this.charts[chartId] = this.charts[chartId].then((chart) => {\n",
       "        console.log(chart[chartProperty]);\n",
       "        return chart;\n",
       "      });\n",
       "    }\n",
       "\n",
       "    control(element, method, prevId, lastId, ...params) {\n",
       "      if (IpyVizzu.nbconvert) IpyVizzu._hide(element);\n",
       "      this.controls[prevId].then(() => {\n",
       "        this.controls[lastId].activated.then((control) => {\n",
       "          if (method === \"seek\") {\n",
       "            const value = params[0];\n",
       "            control[method](value);\n",
       "            return;\n",
       "          }\n",
       "          if (method === \"store\") {\n",
       "            const id = params[0];\n",
       "            this.storage[id] = control[method]();\n",
       "            return;\n",
       "          }\n",
       "          control[method]();\n",
       "        });\n",
       "      });\n",
       "    }\n",
       "\n",
       "    _moveHere(chartId, element) {\n",
       "      if (IpyVizzu.nbconvert)\n",
       "        IpyVizzu._display(this.elements[chartId], element);\n",
       "      element.append(this.elements[chartId]);\n",
       "    }\n",
       "\n",
       "    _scroll(chartId, enabled) {\n",
       "      if (!IpyVizzu.inhibitScroll && enabled) {\n",
       "        this.elements[chartId].scrollIntoView({\n",
       "          behavior: \"auto\",\n",
       "          block: \"center\",\n",
       "        });\n",
       "      }\n",
       "    }\n",
       "\n",
       "    static _hide(element) {\n",
       "      document.getElementById(\n",
       "        element.selector.substring(1)\n",
       "      ).parentNode.style.display = \"none\";\n",
       "    }\n",
       "\n",
       "    static _display(prevElement, element) {\n",
       "      if (prevElement.parentNode) {\n",
       "        prevElement.parentNode.style.display = \"none\";\n",
       "      }\n",
       "      document.getElementById(\n",
       "        element.selector.substring(1)\n",
       "      ).parentNode.style.display = \"flex\";\n",
       "      document.getElementById(\n",
       "        element.selector.substring(1)\n",
       "      ).parentNode.style.margin = \"auto\";\n",
       "    }\n",
       "  }\n",
       "\n",
       "  window.IpyVizzu = IpyVizzu;\n",
       "  window.ipyvizzu = new window.IpyVizzu();\n",
       "}\n",
       "\n",
       "window.ipyvizzu.createChart(element, 'f3aaca8', 'https://cdn.jsdelivr.net/npm/vizzu@0.7/dist/vizzu.min.js', '640px', '360px');\n",
       "window.ipyvizzu.animate(element, 'f3aaca8', '27522a1', 'manual', false, lib => { return {\"data\": {\"series\": [{\"name\": \"Entity\", \"type\": \"dimension\", \"values\": [\"Algeria\", \"Algeria\", \"Algeria\", \"Algeria\", \"Algeria\", \"Algeria\", \"Algeria\", \"Algeria\", \"Algeria\", \"Algeria\", \"Algeria\", \"Algeria\", \"Algeria\", \"Algeria\", \"Algeria\", \"Algeria\", \"Algeria\", \"Algeria\", \"Algeria\", \"Algeria\", \"Algeria\", \"Algeria\", \"Algeria\", \"Algeria\", \"Algeria\", \"Algeria\", \"Algeria\", \"Algeria\", \"Algeria\", \"Algeria\", \"Algeria\", \"Algeria\", \"Algeria\", \"Algeria\", \"Algeria\", \"Algeria\", \"Algeria\", \"Algeria\", \"Algeria\", \"Algeria\", \"Algeria\", \"Algeria\", \"Algeria\", \"Algeria\", \"Algeria\", \"Algeria\", \"Algeria\", \"Algeria\", \"Algeria\", \"Algeria\", \"Algeria\", \"Algeria\", \"Algeria\", \"Algeria\", \"Algeria\", \"Algeria\", \"Algeria\", \"Algeria\", \"Algeria\", \"Algeria\", \"Algeria\", \"Algeria\", \"Algeria\", \"Algeria\", \"Algeria\", \"Algeria\", \"Algeria\", \"Algeria\", \"Algeria\", \"Algeria\", \"Algeria\", \"Algeria\", \"Algeria\", \"Algeria\", \"Algeria\", \"Algeria\", \"Algeria\", \"Algeria\", \"Algeria\", \"Algeria\", \"Algeria\", \"Algeria\", \"Algeria\", \"Algeria\", \"Algeria\", \"Algeria\", \"Algeria\", \"Algeria\", \"Algeria\", \"Algeria\", \"Algeria\", \"Algeria\", \"Algeria\", \"Algeria\", \"Algeria\", \"Algeria\", \"Algeria\", \"Algeria\", \"Algeria\", \"Algeria\", \"Algeria\", \"Algeria\", \"Algeria\", \"Algeria\", \"Algeria\", \"Algeria\", \"Algeria\", \"Algeria\", \"Algeria\", \"Algeria\", \"Algeria\", \"Algeria\", \"Algeria\", \"Algeria\", \"Algeria\", \"Algeria\", \"Algeria\", \"Algeria\", \"Algeria\", \"Algeria\", \"Algeria\", \"Algeria\", \"Brazil\", \"Brazil\", \"Brazil\", \"Brazil\", \"Brazil\", \"Brazil\", \"Brazil\", \"Brazil\", \"Brazil\", \"Brazil\", \"Brazil\", \"Brazil\", \"Brazil\", \"Brazil\", \"Brazil\", \"Brazil\", \"Brazil\", \"Brazil\", \"Brazil\", \"Brazil\", \"Brazil\", \"Brazil\", \"Brazil\", \"Brazil\", \"Brazil\", \"Brazil\", \"Brazil\", \"Brazil\", \"Brazil\", \"Brazil\", \"Brazil\", \"Brazil\", \"Brazil\", \"Brazil\", \"Brazil\", \"Brazil\", \"Brazil\", \"Brazil\", \"Brazil\", \"Brazil\", \"Brazil\", \"Brazil\", \"Brazil\", \"Brazil\", \"Brazil\", \"Brazil\", \"Brazil\", \"Brazil\", \"Brazil\", \"Brazil\", \"Brazil\", \"Brazil\", \"Brazil\", \"Brazil\", \"Brazil\", \"Brazil\", \"Brazil\", \"Brazil\", \"Brazil\", \"Brazil\", \"Brazil\", \"Brazil\", \"Brazil\", \"Brazil\", \"Brazil\", \"Brazil\", \"Brazil\", \"Brazil\", \"Brazil\", \"Brazil\", \"Brazil\", \"Brazil\", \"Brazil\", \"Brazil\", \"Brazil\", \"Brazil\", \"Brazil\", \"Brazil\", \"Brazil\", \"Brazil\", \"Brazil\", \"Brazil\", \"Brazil\", \"Brazil\", \"Brazil\", \"Brazil\", \"Brazil\", \"Brazil\", \"Brazil\", \"Brazil\", \"Brazil\", \"Brazil\", \"Brazil\", \"Brazil\", \"Brazil\", \"Brazil\", \"Brazil\", \"Brazil\", \"Brazil\", \"Brazil\", \"Brazil\", \"Brazil\", \"Brazil\", \"Brazil\", \"Brazil\", \"Brazil\", \"Brazil\", \"Brazil\", \"Brazil\", \"Brazil\", \"Brazil\", \"Brazil\", \"Brazil\", \"Brazil\", \"Brazil\", \"Brazil\", \"Brazil\", \"Brazil\", \"Brazil\", \"Brazil\", \"Brazil\", \"Brazil\", \"Canada\", \"Canada\", \"Canada\", \"Canada\", \"Canada\", \"Canada\", \"Canada\", \"Canada\", \"Canada\", \"Canada\", \"Canada\", \"Canada\", \"Canada\", \"Canada\", \"Canada\", \"Canada\", \"Canada\", \"Canada\", \"Canada\", \"Canada\", \"Canada\", \"Canada\", \"Canada\", \"Canada\", \"Canada\", \"Canada\", \"Canada\", \"Canada\", \"Canada\", \"Canada\", \"Canada\", \"Canada\", \"Canada\", \"Canada\", \"Canada\", \"Canada\", \"Canada\", \"Canada\", \"Canada\", \"Canada\", \"Canada\", \"Canada\", \"Canada\", \"Canada\", \"Canada\", \"Canada\", \"Canada\", \"Canada\", \"Canada\", \"Canada\", \"Canada\", \"Canada\", \"Canada\", \"Canada\", \"Canada\", \"Canada\", \"Canada\", \"Canada\", \"Canada\", \"Canada\", \"Canada\", \"Canada\", \"Canada\", \"Canada\", \"Canada\", \"Canada\", \"Canada\", \"Canada\", \"Canada\", \"Canada\", \"Canada\", \"Canada\", \"Canada\", \"Canada\", \"Canada\", \"Canada\", \"Canada\", \"Canada\", \"Canada\", \"Canada\", \"Canada\", \"Canada\", \"Canada\", \"Canada\", \"Canada\", \"Canada\", \"Canada\", \"Canada\", \"Canada\", \"Canada\", \"Canada\", \"Canada\", \"Canada\", \"Canada\", \"Canada\", \"Canada\", \"Canada\", \"Canada\", \"Canada\", \"Canada\", \"Canada\", \"Canada\", \"Canada\", \"Canada\", \"Canada\", \"Canada\", \"Canada\", \"Canada\", \"Canada\", \"Canada\", \"Canada\", \"Canada\", \"Canada\", \"Canada\", \"Canada\", \"Canada\", \"Canada\", \"Canada\", \"Canada\", \"Canada\", \"Canada\", \"Canada\", \"China\", \"China\", \"China\", \"China\", \"China\", \"China\", \"China\", \"China\", \"China\", \"China\", \"China\", \"China\", \"China\", \"China\", \"China\", \"China\", \"China\", \"China\", \"China\", \"China\", \"China\", \"China\", \"China\", \"China\", \"China\", \"China\", \"China\", \"China\", \"China\", \"China\", \"China\", \"China\", \"China\", \"China\", \"China\", \"China\", \"China\", \"China\", \"China\", \"China\", \"China\", \"China\", \"China\", \"China\", \"China\", \"China\", \"China\", \"China\", \"China\", \"China\", \"China\", \"China\", \"China\", \"China\", \"China\", \"China\", \"China\", \"China\", \"China\", \"China\", \"China\", \"China\", \"China\", \"China\", \"China\", \"China\", \"China\", \"China\", \"China\", \"China\", \"China\", \"China\", \"China\", \"China\", \"China\", \"China\", \"China\", \"China\", \"China\", \"China\", \"China\", \"China\", \"China\", \"China\", \"China\", \"China\", \"China\", \"China\", \"China\", \"China\", \"China\", \"China\", \"China\", \"China\", \"China\", \"China\", \"China\", \"China\", \"China\", \"China\", \"China\", \"China\", \"China\", \"China\", \"China\", \"China\", \"China\", \"China\", \"China\", \"China\", \"China\", \"China\", \"China\", \"China\", \"China\", \"China\", \"China\", \"China\", \"China\", \"China\", \"China\", \"China\", \"Iran\", \"Iran\", \"Iran\", \"Iran\", \"Iran\", \"Iran\", \"Iran\", \"Iran\", \"Iran\", \"Iran\", \"Iran\", \"Iran\", \"Iran\", \"Iran\", \"Iran\", \"Iran\", \"Iran\", \"Iran\", \"Iran\", \"Iran\", \"Iran\", \"Iran\", \"Iran\", \"Iran\", \"Iran\", \"Iran\", \"Iran\", \"Iran\", \"Iran\", \"Iran\", \"Iran\", \"Iran\", \"Iran\", \"Iran\", \"Iran\", \"Iran\", \"Iran\", \"Iran\", \"Iran\", \"Iran\", \"Iran\", \"Iran\", \"Iran\", \"Iran\", \"Iran\", \"Iran\", \"Iran\", \"Iran\", \"Iran\", \"Iran\", \"Iran\", \"Iran\", \"Iran\", \"Iran\", \"Iran\", \"Iran\", \"Iran\", \"Iran\", \"Iran\", \"Iran\", \"Iran\", \"Iran\", \"Iran\", \"Iran\", \"Iran\", \"Iran\", \"Iran\", \"Iran\", \"Iran\", \"Iran\", \"Iran\", \"Iran\", \"Iran\", \"Iran\", \"Iran\", \"Iran\", \"Iran\", \"Iran\", \"Iran\", \"Iran\", \"Iran\", \"Iran\", \"Iran\", \"Iran\", \"Iran\", \"Iran\", \"Iran\", \"Iran\", \"Iran\", \"Iran\", \"Iran\", \"Iran\", \"Iran\", \"Iran\", \"Iran\", \"Iran\", \"Iran\", \"Iran\", \"Iran\", \"Iran\", \"Iran\", \"Iran\", \"Iran\", \"Iran\", \"Iran\", \"Iran\", \"Iran\", \"Iran\", \"Iran\", \"Iran\", \"Iran\", \"Iran\", \"Iran\", \"Iran\", \"Iran\", \"Iran\", \"Iran\", \"Iran\", \"Iran\", \"Iran\", \"Iran\", \"Iran\", \"Iraq\", \"Iraq\", \"Iraq\", \"Iraq\", \"Iraq\", \"Iraq\", \"Iraq\", \"Iraq\", \"Iraq\", \"Iraq\", \"Iraq\", \"Iraq\", \"Iraq\", \"Iraq\", \"Iraq\", \"Iraq\", \"Iraq\", \"Iraq\", \"Iraq\", \"Iraq\", \"Iraq\", \"Iraq\", \"Iraq\", \"Iraq\", \"Iraq\", \"Iraq\", \"Iraq\", \"Iraq\", \"Iraq\", \"Iraq\", \"Iraq\", \"Iraq\", \"Iraq\", \"Iraq\", \"Iraq\", \"Iraq\", \"Iraq\", \"Iraq\", \"Iraq\", \"Iraq\", \"Iraq\", \"Iraq\", \"Iraq\", \"Iraq\", \"Iraq\", \"Iraq\", \"Iraq\", \"Iraq\", \"Iraq\", \"Iraq\", \"Iraq\", \"Iraq\", \"Iraq\", \"Iraq\", \"Iraq\", \"Iraq\", \"Iraq\", \"Iraq\", \"Iraq\", \"Iraq\", \"Iraq\", \"Iraq\", \"Iraq\", \"Iraq\", \"Iraq\", \"Iraq\", \"Iraq\", \"Iraq\", \"Iraq\", \"Iraq\", \"Iraq\", \"Iraq\", \"Iraq\", \"Iraq\", \"Iraq\", \"Iraq\", \"Iraq\", \"Iraq\", \"Iraq\", \"Iraq\", \"Iraq\", \"Iraq\", \"Iraq\", \"Iraq\", \"Iraq\", \"Iraq\", \"Iraq\", \"Iraq\", \"Iraq\", \"Iraq\", \"Iraq\", \"Iraq\", \"Iraq\", \"Iraq\", \"Iraq\", \"Iraq\", \"Iraq\", \"Iraq\", \"Iraq\", \"Iraq\", \"Iraq\", \"Iraq\", \"Iraq\", \"Iraq\", \"Iraq\", \"Iraq\", \"Iraq\", \"Iraq\", \"Iraq\", \"Iraq\", \"Iraq\", \"Iraq\", \"Iraq\", \"Iraq\", \"Iraq\", \"Iraq\", \"Iraq\", \"Iraq\", \"Iraq\", \"Iraq\", \"Iraq\", \"Iraq\", \"Russia\", \"Russia\", \"Russia\", \"Russia\", \"Russia\", \"Russia\", \"Russia\", \"Russia\", \"Russia\", \"Russia\", \"Russia\", \"Russia\", \"Russia\", \"Russia\", \"Russia\", \"Russia\", \"Russia\", \"Russia\", \"Russia\", \"Russia\", \"Russia\", \"Russia\", \"Russia\", \"Russia\", \"Russia\", \"Russia\", \"Russia\", \"Russia\", \"Russia\", \"Russia\", \"Russia\", \"Russia\", \"Saudi Arabia\", \"Saudi Arabia\", \"Saudi Arabia\", \"Saudi Arabia\", \"Saudi Arabia\", \"Saudi Arabia\", \"Saudi Arabia\", \"Saudi Arabia\", \"Saudi Arabia\", \"Saudi Arabia\", \"Saudi Arabia\", \"Saudi Arabia\", \"Saudi Arabia\", \"Saudi Arabia\", \"Saudi Arabia\", \"Saudi Arabia\", \"Saudi Arabia\", \"Saudi Arabia\", \"Saudi Arabia\", \"Saudi Arabia\", \"Saudi Arabia\", \"Saudi Arabia\", \"Saudi Arabia\", \"Saudi Arabia\", \"Saudi Arabia\", \"Saudi Arabia\", \"Saudi Arabia\", \"Saudi Arabia\", \"Saudi Arabia\", \"Saudi Arabia\", \"Saudi Arabia\", \"Saudi Arabia\", \"Saudi Arabia\", \"Saudi Arabia\", \"Saudi Arabia\", \"Saudi Arabia\", \"Saudi Arabia\", \"Saudi Arabia\", \"Saudi Arabia\", \"Saudi Arabia\", \"Saudi Arabia\", \"Saudi Arabia\", \"Saudi Arabia\", \"Saudi Arabia\", \"Saudi Arabia\", \"Saudi Arabia\", \"Saudi Arabia\", \"Saudi Arabia\", \"Saudi Arabia\", \"Saudi Arabia\", \"Saudi Arabia\", \"Saudi Arabia\", \"Saudi Arabia\", \"Saudi Arabia\", \"Saudi Arabia\", \"Saudi Arabia\", \"Saudi Arabia\", \"Saudi Arabia\", \"Saudi Arabia\", \"Saudi Arabia\", \"Saudi Arabia\", \"Saudi Arabia\", \"Saudi Arabia\", \"Saudi Arabia\", \"Saudi Arabia\", \"Saudi Arabia\", \"Saudi Arabia\", \"Saudi Arabia\", \"Saudi Arabia\", \"Saudi Arabia\", \"Saudi Arabia\", \"Saudi Arabia\", \"Saudi Arabia\", \"Saudi Arabia\", \"Saudi Arabia\", \"Saudi Arabia\", \"Saudi Arabia\", \"Saudi Arabia\", \"Saudi Arabia\", \"Saudi Arabia\", \"Saudi Arabia\", \"Saudi Arabia\", \"Saudi Arabia\", \"Saudi Arabia\", \"Saudi Arabia\", \"Saudi Arabia\", \"Saudi Arabia\", \"Saudi Arabia\", \"Saudi Arabia\", \"Saudi Arabia\", \"Saudi Arabia\", \"Saudi Arabia\", \"Saudi Arabia\", \"Saudi Arabia\", \"Saudi Arabia\", \"Saudi Arabia\", \"Saudi Arabia\", \"Saudi Arabia\", \"Saudi Arabia\", \"Saudi Arabia\", \"Saudi Arabia\", \"Saudi Arabia\", \"Saudi Arabia\", \"Saudi Arabia\", \"Saudi Arabia\", \"Saudi Arabia\", \"Saudi Arabia\", \"Saudi Arabia\", \"Saudi Arabia\", \"Saudi Arabia\", \"Saudi Arabia\", \"Saudi Arabia\", \"Saudi Arabia\", \"Saudi Arabia\", \"Saudi Arabia\", \"Saudi Arabia\", \"Saudi Arabia\", \"Saudi Arabia\", \"Saudi Arabia\", \"Saudi Arabia\", \"Saudi Arabia\", \"Saudi Arabia\", \"USSR\", \"USSR\", \"USSR\", \"USSR\", \"USSR\", \"USSR\", \"USSR\", \"USSR\", \"USSR\", \"USSR\", \"USSR\", \"USSR\", \"USSR\", \"USSR\", \"USSR\", \"USSR\", \"USSR\", \"USSR\", \"USSR\", \"USSR\", \"USSR\", \"USSR\", \"USSR\", \"USSR\", \"USSR\", \"USSR\", \"USSR\", \"USSR\", \"USSR\", \"USSR\", \"USSR\", \"USSR\", \"USSR\", \"USSR\", \"USSR\", \"USSR\", \"USSR\", \"USSR\", \"USSR\", \"USSR\", \"USSR\", \"USSR\", \"USSR\", \"USSR\", \"USSR\", \"USSR\", \"USSR\", \"USSR\", \"USSR\", \"USSR\", \"USSR\", \"USSR\", \"USSR\", \"USSR\", \"USSR\", \"USSR\", \"USSR\", \"USSR\", \"USSR\", \"USSR\", \"USSR\", \"USSR\", \"USSR\", \"USSR\", \"USSR\", \"USSR\", \"USSR\", \"USSR\", \"USSR\", \"USSR\", \"USSR\", \"USSR\", \"USSR\", \"USSR\", \"USSR\", \"USSR\", \"USSR\", \"USSR\", \"USSR\", \"USSR\", \"USSR\", \"USSR\", \"USSR\", \"USSR\", \"USSR\", \"USSR\", \"USSR\", \"USSR\", \"USSR\", \"USSR\", \"USSR\", \"United Arab Emirates\", \"United Arab Emirates\", \"United Arab Emirates\", \"United Arab Emirates\", \"United Arab Emirates\", \"United Arab Emirates\", \"United Arab Emirates\", \"United Arab Emirates\", \"United Arab Emirates\", \"United Arab Emirates\", \"United Arab Emirates\", \"United Arab Emirates\", \"United Arab Emirates\", \"United Arab Emirates\", \"United Arab Emirates\", \"United Arab Emirates\", \"United Arab Emirates\", \"United Arab Emirates\", \"United Arab Emirates\", \"United Arab Emirates\", \"United Arab Emirates\", \"United Arab Emirates\", \"United Arab Emirates\", \"United Arab Emirates\", \"United Arab Emirates\", \"United Arab Emirates\", \"United Arab Emirates\", \"United Arab Emirates\", \"United Arab Emirates\", \"United Arab Emirates\", \"United Arab Emirates\", \"United Arab Emirates\", \"United Arab Emirates\", \"United Arab Emirates\", \"United Arab Emirates\", \"United Arab Emirates\", \"United Arab Emirates\", \"United Arab Emirates\", \"United Arab Emirates\", \"United Arab Emirates\", \"United Arab Emirates\", \"United Arab Emirates\", \"United Arab Emirates\", \"United Arab Emirates\", \"United Arab Emirates\", \"United Arab Emirates\", \"United Arab Emirates\", \"United Arab Emirates\", \"United Arab Emirates\", \"United Arab Emirates\", \"United Arab Emirates\", \"United Arab Emirates\", \"United Arab Emirates\", \"United Arab Emirates\", \"United Arab Emirates\", \"United Arab Emirates\", \"United Arab Emirates\", \"United Arab Emirates\", \"United Arab Emirates\", \"United Arab Emirates\", \"United Arab Emirates\", \"United Arab Emirates\", \"United Arab Emirates\", \"United Arab Emirates\", \"United Arab Emirates\", \"United Arab Emirates\", \"United Arab Emirates\", \"United Arab Emirates\", \"United Arab Emirates\", \"United Arab Emirates\", \"United Arab Emirates\", \"United Arab Emirates\", \"United Arab Emirates\", \"United Arab Emirates\", \"United Arab Emirates\", \"United Arab Emirates\", \"United Arab Emirates\", \"United Arab Emirates\", \"United Arab Emirates\", \"United Arab Emirates\", \"United Arab Emirates\", \"United Arab Emirates\", \"United Arab Emirates\", \"United Arab Emirates\", \"United Arab Emirates\", \"United Arab Emirates\", \"United Arab Emirates\", \"United Arab Emirates\", \"United Arab Emirates\", \"United Arab Emirates\", \"United Arab Emirates\", \"United Arab Emirates\", \"United Arab Emirates\", \"United Arab Emirates\", \"United Arab Emirates\", \"United Arab Emirates\", \"United Arab Emirates\", \"United Arab Emirates\", \"United Arab Emirates\", \"United Arab Emirates\", \"United Arab Emirates\", \"United Arab Emirates\", \"United Arab Emirates\", \"United Arab Emirates\", \"United Arab Emirates\", \"United Arab Emirates\", \"United Arab Emirates\", \"United Arab Emirates\", \"United Arab Emirates\", \"United Arab Emirates\", \"United Arab Emirates\", \"United Arab Emirates\", \"United Arab Emirates\", \"United Arab Emirates\", \"United Arab Emirates\", \"United Arab Emirates\", \"United Arab Emirates\", \"United Arab Emirates\", \"United Arab Emirates\", \"United Arab Emirates\", \"United Arab Emirates\", \"United Arab Emirates\", \"United States\", \"United States\", \"United States\", \"United States\", \"United States\", \"United States\", \"United States\", \"United States\", \"United States\", \"United States\", \"United States\", \"United States\", \"United States\", \"United States\", \"United States\", \"United States\", \"United States\", \"United States\", \"United States\", \"United States\", \"United States\", \"United States\", \"United States\", \"United States\", \"United States\", \"United States\", \"United States\", \"United States\", \"United States\", \"United States\", \"United States\", \"United States\", \"United States\", \"United States\", \"United States\", \"United States\", \"United States\", \"United States\", \"United States\", \"United States\", \"United States\", \"United States\", \"United States\", \"United States\", \"United States\", \"United States\", \"United States\", \"United States\", \"United States\", \"United States\", \"United States\", \"United States\", \"United States\", \"United States\", \"United States\", \"United States\", \"United States\", \"United States\", \"United States\", \"United States\", \"United States\", \"United States\", \"United States\", \"United States\", \"United States\", \"United States\", \"United States\", \"United States\", \"United States\", \"United States\", \"United States\", \"United States\", \"United States\", \"United States\", \"United States\", \"United States\", \"United States\", \"United States\", \"United States\", \"United States\", \"United States\", \"United States\", \"United States\", \"United States\", \"United States\", \"United States\", \"United States\", \"United States\", \"United States\", \"United States\", \"United States\", \"United States\", \"United States\", \"United States\", \"United States\", \"United States\", \"United States\", \"United States\", \"United States\", \"United States\", \"United States\", \"United States\", \"United States\", \"United States\", \"United States\", \"United States\", \"United States\", \"United States\", \"United States\", \"United States\", \"United States\", \"United States\", \"United States\", \"United States\", \"United States\", \"United States\", \"United States\", \"United States\", \"United States\", \"United States\", \"United States\", \"United States\", \"Venezuela\", \"Venezuela\", \"Venezuela\", \"Venezuela\", \"Venezuela\", \"Venezuela\", \"Venezuela\", \"Venezuela\", \"Venezuela\", \"Venezuela\", \"Venezuela\", \"Venezuela\", \"Venezuela\", \"Venezuela\", \"Venezuela\", \"Venezuela\", \"Venezuela\", \"Venezuela\", \"Venezuela\", \"Venezuela\", \"Venezuela\", \"Venezuela\", \"Venezuela\", \"Venezuela\", \"Venezuela\", \"Venezuela\", \"Venezuela\", \"Venezuela\", \"Venezuela\", \"Venezuela\", \"Venezuela\", \"Venezuela\", \"Venezuela\", \"Venezuela\", \"Venezuela\", \"Venezuela\", \"Venezuela\", \"Venezuela\", \"Venezuela\", \"Venezuela\", \"Venezuela\", \"Venezuela\", \"Venezuela\", \"Venezuela\", \"Venezuela\", \"Venezuela\", \"Venezuela\", \"Venezuela\", \"Venezuela\", \"Venezuela\", \"Venezuela\", \"Venezuela\", \"Venezuela\", \"Venezuela\", \"Venezuela\", \"Venezuela\", \"Venezuela\", \"Venezuela\", \"Venezuela\", \"Venezuela\", \"Venezuela\", \"Venezuela\", \"Venezuela\", \"Venezuela\", \"Venezuela\", \"Venezuela\", \"Venezuela\", \"Venezuela\", \"Venezuela\", \"Venezuela\", \"Venezuela\", \"Venezuela\", \"Venezuela\", \"Venezuela\", \"Venezuela\", \"Venezuela\", \"Venezuela\", \"Venezuela\", \"Venezuela\", \"Venezuela\", \"Venezuela\", \"Venezuela\", \"Venezuela\", \"Venezuela\", \"Venezuela\", \"Venezuela\", \"Venezuela\", \"Venezuela\", \"Venezuela\", \"Venezuela\", \"Venezuela\", \"Venezuela\", \"Venezuela\", \"Venezuela\", \"Venezuela\", \"Venezuela\", \"Venezuela\", \"Venezuela\", \"Venezuela\", \"Venezuela\", \"Venezuela\", \"Venezuela\", \"Venezuela\", \"Venezuela\", \"Venezuela\", \"Venezuela\", \"Venezuela\", \"Venezuela\", \"Venezuela\", \"Venezuela\", \"Venezuela\", \"Venezuela\", \"Venezuela\", \"Venezuela\", \"Venezuela\", \"Venezuela\", \"Venezuela\", \"Venezuela\", \"Venezuela\", \"Venezuela\", \"Venezuela\", \"Venezuela\"]}, {\"name\": \"Code\", \"type\": \"dimension\", \"values\": [\"DZA\", \"DZA\", \"DZA\", \"DZA\", \"DZA\", \"DZA\", \"DZA\", \"DZA\", \"DZA\", \"DZA\", \"DZA\", \"DZA\", \"DZA\", \"DZA\", \"DZA\", \"DZA\", \"DZA\", \"DZA\", \"DZA\", \"DZA\", \"DZA\", \"DZA\", \"DZA\", \"DZA\", \"DZA\", \"DZA\", \"DZA\", \"DZA\", \"DZA\", \"DZA\", \"DZA\", \"DZA\", \"DZA\", \"DZA\", \"DZA\", \"DZA\", \"DZA\", \"DZA\", \"DZA\", \"DZA\", \"DZA\", \"DZA\", \"DZA\", \"DZA\", \"DZA\", \"DZA\", \"DZA\", \"DZA\", \"DZA\", \"DZA\", \"DZA\", \"DZA\", \"DZA\", \"DZA\", \"DZA\", \"DZA\", \"DZA\", \"DZA\", \"DZA\", \"DZA\", \"DZA\", \"DZA\", \"DZA\", \"DZA\", \"DZA\", \"DZA\", \"DZA\", \"DZA\", \"DZA\", \"DZA\", \"DZA\", \"DZA\", \"DZA\", \"DZA\", \"DZA\", \"DZA\", \"DZA\", \"DZA\", \"DZA\", \"DZA\", \"DZA\", \"DZA\", \"DZA\", \"DZA\", \"DZA\", \"DZA\", \"DZA\", \"DZA\", \"DZA\", \"DZA\", \"DZA\", \"DZA\", \"DZA\", \"DZA\", \"DZA\", \"DZA\", \"DZA\", \"DZA\", \"DZA\", \"DZA\", \"DZA\", \"DZA\", \"DZA\", \"DZA\", \"DZA\", \"DZA\", \"DZA\", \"DZA\", \"DZA\", \"DZA\", \"DZA\", \"DZA\", \"DZA\", \"DZA\", \"DZA\", \"DZA\", \"DZA\", \"DZA\", \"DZA\", \"DZA\", \"DZA\", \"DZA\", \"BRA\", \"BRA\", \"BRA\", \"BRA\", \"BRA\", \"BRA\", \"BRA\", \"BRA\", \"BRA\", \"BRA\", \"BRA\", \"BRA\", \"BRA\", \"BRA\", \"BRA\", \"BRA\", \"BRA\", \"BRA\", \"BRA\", \"BRA\", \"BRA\", \"BRA\", \"BRA\", \"BRA\", \"BRA\", \"BRA\", \"BRA\", \"BRA\", \"BRA\", \"BRA\", \"BRA\", \"BRA\", \"BRA\", \"BRA\", \"BRA\", \"BRA\", \"BRA\", \"BRA\", \"BRA\", \"BRA\", \"BRA\", \"BRA\", \"BRA\", \"BRA\", \"BRA\", \"BRA\", \"BRA\", \"BRA\", \"BRA\", \"BRA\", \"BRA\", \"BRA\", \"BRA\", \"BRA\", \"BRA\", \"BRA\", \"BRA\", \"BRA\", \"BRA\", \"BRA\", \"BRA\", \"BRA\", \"BRA\", \"BRA\", \"BRA\", \"BRA\", \"BRA\", \"BRA\", \"BRA\", \"BRA\", \"BRA\", \"BRA\", \"BRA\", \"BRA\", \"BRA\", \"BRA\", \"BRA\", \"BRA\", \"BRA\", \"BRA\", \"BRA\", \"BRA\", \"BRA\", \"BRA\", \"BRA\", \"BRA\", \"BRA\", \"BRA\", \"BRA\", \"BRA\", \"BRA\", \"BRA\", \"BRA\", \"BRA\", \"BRA\", \"BRA\", \"BRA\", \"BRA\", \"BRA\", \"BRA\", \"BRA\", \"BRA\", \"BRA\", \"BRA\", \"BRA\", \"BRA\", \"BRA\", \"BRA\", \"BRA\", \"BRA\", \"BRA\", \"BRA\", \"BRA\", \"BRA\", \"BRA\", \"BRA\", \"BRA\", \"BRA\", \"BRA\", \"BRA\", \"BRA\", \"BRA\", \"CAN\", \"CAN\", \"CAN\", \"CAN\", \"CAN\", \"CAN\", \"CAN\", \"CAN\", \"CAN\", \"CAN\", \"CAN\", \"CAN\", \"CAN\", \"CAN\", \"CAN\", \"CAN\", \"CAN\", \"CAN\", \"CAN\", \"CAN\", \"CAN\", \"CAN\", \"CAN\", \"CAN\", \"CAN\", \"CAN\", \"CAN\", \"CAN\", \"CAN\", \"CAN\", \"CAN\", \"CAN\", \"CAN\", \"CAN\", \"CAN\", \"CAN\", \"CAN\", \"CAN\", \"CAN\", \"CAN\", \"CAN\", \"CAN\", \"CAN\", \"CAN\", \"CAN\", \"CAN\", \"CAN\", \"CAN\", \"CAN\", \"CAN\", \"CAN\", \"CAN\", \"CAN\", \"CAN\", \"CAN\", \"CAN\", \"CAN\", \"CAN\", \"CAN\", \"CAN\", \"CAN\", \"CAN\", \"CAN\", \"CAN\", \"CAN\", \"CAN\", \"CAN\", \"CAN\", \"CAN\", \"CAN\", \"CAN\", \"CAN\", \"CAN\", \"CAN\", \"CAN\", \"CAN\", \"CAN\", \"CAN\", \"CAN\", \"CAN\", \"CAN\", \"CAN\", \"CAN\", \"CAN\", \"CAN\", \"CAN\", \"CAN\", \"CAN\", \"CAN\", \"CAN\", \"CAN\", \"CAN\", \"CAN\", \"CAN\", \"CAN\", \"CAN\", \"CAN\", \"CAN\", \"CAN\", \"CAN\", \"CAN\", \"CAN\", \"CAN\", \"CAN\", \"CAN\", \"CAN\", \"CAN\", \"CAN\", \"CAN\", \"CAN\", \"CAN\", \"CAN\", \"CAN\", \"CAN\", \"CAN\", \"CAN\", \"CAN\", \"CAN\", \"CAN\", \"CAN\", \"CAN\", \"CAN\", \"CHN\", \"CHN\", \"CHN\", \"CHN\", \"CHN\", \"CHN\", \"CHN\", \"CHN\", \"CHN\", \"CHN\", \"CHN\", \"CHN\", \"CHN\", \"CHN\", \"CHN\", \"CHN\", \"CHN\", \"CHN\", \"CHN\", \"CHN\", \"CHN\", \"CHN\", \"CHN\", \"CHN\", \"CHN\", \"CHN\", \"CHN\", \"CHN\", \"CHN\", \"CHN\", \"CHN\", \"CHN\", \"CHN\", \"CHN\", \"CHN\", \"CHN\", \"CHN\", \"CHN\", \"CHN\", \"CHN\", \"CHN\", \"CHN\", \"CHN\", \"CHN\", \"CHN\", \"CHN\", \"CHN\", \"CHN\", \"CHN\", \"CHN\", \"CHN\", \"CHN\", \"CHN\", \"CHN\", \"CHN\", \"CHN\", \"CHN\", \"CHN\", \"CHN\", \"CHN\", \"CHN\", \"CHN\", \"CHN\", \"CHN\", \"CHN\", \"CHN\", \"CHN\", \"CHN\", \"CHN\", \"CHN\", \"CHN\", \"CHN\", \"CHN\", \"CHN\", \"CHN\", \"CHN\", \"CHN\", \"CHN\", \"CHN\", \"CHN\", \"CHN\", \"CHN\", \"CHN\", \"CHN\", \"CHN\", \"CHN\", \"CHN\", \"CHN\", \"CHN\", \"CHN\", \"CHN\", \"CHN\", \"CHN\", \"CHN\", \"CHN\", \"CHN\", \"CHN\", \"CHN\", \"CHN\", \"CHN\", \"CHN\", \"CHN\", \"CHN\", \"CHN\", \"CHN\", \"CHN\", \"CHN\", \"CHN\", \"CHN\", \"CHN\", \"CHN\", \"CHN\", \"CHN\", \"CHN\", \"CHN\", \"CHN\", \"CHN\", \"CHN\", \"CHN\", \"CHN\", \"CHN\", \"CHN\", \"IRN\", \"IRN\", \"IRN\", \"IRN\", \"IRN\", \"IRN\", \"IRN\", \"IRN\", \"IRN\", \"IRN\", \"IRN\", \"IRN\", \"IRN\", \"IRN\", \"IRN\", \"IRN\", \"IRN\", \"IRN\", \"IRN\", \"IRN\", \"IRN\", \"IRN\", \"IRN\", \"IRN\", \"IRN\", \"IRN\", \"IRN\", \"IRN\", \"IRN\", \"IRN\", \"IRN\", \"IRN\", \"IRN\", \"IRN\", \"IRN\", \"IRN\", \"IRN\", \"IRN\", \"IRN\", \"IRN\", \"IRN\", \"IRN\", \"IRN\", \"IRN\", \"IRN\", \"IRN\", \"IRN\", \"IRN\", \"IRN\", \"IRN\", \"IRN\", \"IRN\", \"IRN\", \"IRN\", \"IRN\", \"IRN\", \"IRN\", \"IRN\", \"IRN\", \"IRN\", \"IRN\", \"IRN\", \"IRN\", \"IRN\", \"IRN\", \"IRN\", \"IRN\", \"IRN\", \"IRN\", \"IRN\", \"IRN\", \"IRN\", \"IRN\", \"IRN\", \"IRN\", \"IRN\", \"IRN\", \"IRN\", \"IRN\", \"IRN\", \"IRN\", \"IRN\", \"IRN\", \"IRN\", \"IRN\", \"IRN\", \"IRN\", \"IRN\", \"IRN\", \"IRN\", \"IRN\", \"IRN\", \"IRN\", \"IRN\", \"IRN\", \"IRN\", \"IRN\", \"IRN\", \"IRN\", \"IRN\", \"IRN\", \"IRN\", \"IRN\", \"IRN\", \"IRN\", \"IRN\", \"IRN\", \"IRN\", \"IRN\", \"IRN\", \"IRN\", \"IRN\", \"IRN\", \"IRN\", \"IRN\", \"IRN\", \"IRN\", \"IRN\", \"IRN\", \"IRN\", \"IRN\", \"IRN\", \"IRQ\", \"IRQ\", \"IRQ\", \"IRQ\", \"IRQ\", \"IRQ\", \"IRQ\", \"IRQ\", \"IRQ\", \"IRQ\", \"IRQ\", \"IRQ\", \"IRQ\", \"IRQ\", \"IRQ\", \"IRQ\", \"IRQ\", \"IRQ\", \"IRQ\", \"IRQ\", \"IRQ\", \"IRQ\", \"IRQ\", \"IRQ\", \"IRQ\", \"IRQ\", \"IRQ\", \"IRQ\", \"IRQ\", \"IRQ\", \"IRQ\", \"IRQ\", \"IRQ\", \"IRQ\", \"IRQ\", \"IRQ\", \"IRQ\", \"IRQ\", \"IRQ\", \"IRQ\", \"IRQ\", \"IRQ\", \"IRQ\", \"IRQ\", \"IRQ\", \"IRQ\", \"IRQ\", \"IRQ\", \"IRQ\", \"IRQ\", \"IRQ\", \"IRQ\", \"IRQ\", \"IRQ\", \"IRQ\", \"IRQ\", \"IRQ\", \"IRQ\", \"IRQ\", \"IRQ\", \"IRQ\", \"IRQ\", \"IRQ\", \"IRQ\", \"IRQ\", \"IRQ\", \"IRQ\", \"IRQ\", \"IRQ\", \"IRQ\", \"IRQ\", \"IRQ\", \"IRQ\", \"IRQ\", \"IRQ\", \"IRQ\", \"IRQ\", \"IRQ\", \"IRQ\", \"IRQ\", \"IRQ\", \"IRQ\", \"IRQ\", \"IRQ\", \"IRQ\", \"IRQ\", \"IRQ\", \"IRQ\", \"IRQ\", \"IRQ\", \"IRQ\", \"IRQ\", \"IRQ\", \"IRQ\", \"IRQ\", \"IRQ\", \"IRQ\", \"IRQ\", \"IRQ\", \"IRQ\", \"IRQ\", \"IRQ\", \"IRQ\", \"IRQ\", \"IRQ\", \"IRQ\", \"IRQ\", \"IRQ\", \"IRQ\", \"IRQ\", \"IRQ\", \"IRQ\", \"IRQ\", \"IRQ\", \"IRQ\", \"IRQ\", \"IRQ\", \"IRQ\", \"IRQ\", \"IRQ\", \"IRQ\", \"IRQ\", \"RUS\", \"RUS\", \"RUS\", \"RUS\", \"RUS\", \"RUS\", \"RUS\", \"RUS\", \"RUS\", \"RUS\", \"RUS\", \"RUS\", \"RUS\", \"RUS\", \"RUS\", \"RUS\", \"RUS\", \"RUS\", \"RUS\", \"RUS\", \"RUS\", \"RUS\", \"RUS\", \"RUS\", \"RUS\", \"RUS\", \"RUS\", \"RUS\", \"RUS\", \"RUS\", \"RUS\", \"RUS\", \"SAU\", \"SAU\", \"SAU\", \"SAU\", \"SAU\", \"SAU\", \"SAU\", \"SAU\", \"SAU\", \"SAU\", \"SAU\", \"SAU\", \"SAU\", \"SAU\", \"SAU\", \"SAU\", \"SAU\", \"SAU\", \"SAU\", \"SAU\", \"SAU\", \"SAU\", \"SAU\", \"SAU\", \"SAU\", \"SAU\", \"SAU\", \"SAU\", \"SAU\", \"SAU\", \"SAU\", \"SAU\", \"SAU\", \"SAU\", \"SAU\", \"SAU\", \"SAU\", \"SAU\", \"SAU\", \"SAU\", \"SAU\", \"SAU\", \"SAU\", \"SAU\", \"SAU\", \"SAU\", \"SAU\", \"SAU\", \"SAU\", \"SAU\", \"SAU\", \"SAU\", \"SAU\", \"SAU\", \"SAU\", \"SAU\", \"SAU\", \"SAU\", \"SAU\", \"SAU\", \"SAU\", \"SAU\", \"SAU\", \"SAU\", \"SAU\", \"SAU\", \"SAU\", \"SAU\", \"SAU\", \"SAU\", \"SAU\", \"SAU\", \"SAU\", \"SAU\", \"SAU\", \"SAU\", \"SAU\", \"SAU\", \"SAU\", \"SAU\", \"SAU\", \"SAU\", \"SAU\", \"SAU\", \"SAU\", \"SAU\", \"SAU\", \"SAU\", \"SAU\", \"SAU\", \"SAU\", \"SAU\", \"SAU\", \"SAU\", \"SAU\", \"SAU\", \"SAU\", \"SAU\", \"SAU\", \"SAU\", \"SAU\", \"SAU\", \"SAU\", \"SAU\", \"SAU\", \"SAU\", \"SAU\", \"SAU\", \"SAU\", \"SAU\", \"SAU\", \"SAU\", \"SAU\", \"SAU\", \"SAU\", \"SAU\", \"SAU\", \"SAU\", \"SAU\", \"SAU\", \"SAU\", \"SAU\", \"OWID_USS\", \"OWID_USS\", \"OWID_USS\", \"OWID_USS\", \"OWID_USS\", \"OWID_USS\", \"OWID_USS\", \"OWID_USS\", \"OWID_USS\", \"OWID_USS\", \"OWID_USS\", \"OWID_USS\", \"OWID_USS\", \"OWID_USS\", \"OWID_USS\", \"OWID_USS\", \"OWID_USS\", \"OWID_USS\", \"OWID_USS\", \"OWID_USS\", \"OWID_USS\", \"OWID_USS\", \"OWID_USS\", \"OWID_USS\", \"OWID_USS\", \"OWID_USS\", \"OWID_USS\", \"OWID_USS\", \"OWID_USS\", \"OWID_USS\", \"OWID_USS\", \"OWID_USS\", \"OWID_USS\", \"OWID_USS\", \"OWID_USS\", \"OWID_USS\", \"OWID_USS\", \"OWID_USS\", \"OWID_USS\", \"OWID_USS\", \"OWID_USS\", \"OWID_USS\", \"OWID_USS\", \"OWID_USS\", \"OWID_USS\", \"OWID_USS\", \"OWID_USS\", \"OWID_USS\", \"OWID_USS\", \"OWID_USS\", \"OWID_USS\", \"OWID_USS\", \"OWID_USS\", \"OWID_USS\", \"OWID_USS\", \"OWID_USS\", \"OWID_USS\", \"OWID_USS\", \"OWID_USS\", \"OWID_USS\", \"OWID_USS\", \"OWID_USS\", \"OWID_USS\", \"OWID_USS\", \"OWID_USS\", \"OWID_USS\", \"OWID_USS\", \"OWID_USS\", \"OWID_USS\", \"OWID_USS\", \"OWID_USS\", \"OWID_USS\", \"OWID_USS\", \"OWID_USS\", \"OWID_USS\", \"OWID_USS\", \"OWID_USS\", \"OWID_USS\", \"OWID_USS\", \"OWID_USS\", \"OWID_USS\", \"OWID_USS\", \"OWID_USS\", \"OWID_USS\", \"OWID_USS\", \"OWID_USS\", \"OWID_USS\", \"OWID_USS\", \"OWID_USS\", \"OWID_USS\", \"OWID_USS\", \"ARE\", \"ARE\", \"ARE\", \"ARE\", \"ARE\", \"ARE\", \"ARE\", \"ARE\", \"ARE\", \"ARE\", \"ARE\", \"ARE\", \"ARE\", \"ARE\", \"ARE\", \"ARE\", \"ARE\", \"ARE\", \"ARE\", \"ARE\", \"ARE\", \"ARE\", \"ARE\", \"ARE\", \"ARE\", \"ARE\", \"ARE\", \"ARE\", \"ARE\", \"ARE\", \"ARE\", \"ARE\", \"ARE\", \"ARE\", \"ARE\", \"ARE\", \"ARE\", \"ARE\", \"ARE\", \"ARE\", \"ARE\", \"ARE\", \"ARE\", \"ARE\", \"ARE\", \"ARE\", \"ARE\", \"ARE\", \"ARE\", \"ARE\", \"ARE\", \"ARE\", \"ARE\", \"ARE\", \"ARE\", \"ARE\", \"ARE\", \"ARE\", \"ARE\", \"ARE\", \"ARE\", \"ARE\", \"ARE\", \"ARE\", \"ARE\", \"ARE\", \"ARE\", \"ARE\", \"ARE\", \"ARE\", \"ARE\", \"ARE\", \"ARE\", \"ARE\", \"ARE\", \"ARE\", \"ARE\", \"ARE\", \"ARE\", \"ARE\", \"ARE\", \"ARE\", \"ARE\", \"ARE\", \"ARE\", \"ARE\", \"ARE\", \"ARE\", \"ARE\", \"ARE\", \"ARE\", \"ARE\", \"ARE\", \"ARE\", \"ARE\", \"ARE\", \"ARE\", \"ARE\", \"ARE\", \"ARE\", \"ARE\", \"ARE\", \"ARE\", \"ARE\", \"ARE\", \"ARE\", \"ARE\", \"ARE\", \"ARE\", \"ARE\", \"ARE\", \"ARE\", \"ARE\", \"ARE\", \"ARE\", \"ARE\", \"ARE\", \"ARE\", \"ARE\", \"ARE\", \"ARE\", \"ARE\", \"USA\", \"USA\", \"USA\", \"USA\", \"USA\", \"USA\", \"USA\", \"USA\", \"USA\", \"USA\", \"USA\", \"USA\", \"USA\", \"USA\", \"USA\", \"USA\", \"USA\", \"USA\", \"USA\", \"USA\", \"USA\", \"USA\", \"USA\", \"USA\", \"USA\", \"USA\", \"USA\", \"USA\", \"USA\", \"USA\", \"USA\", \"USA\", \"USA\", \"USA\", \"USA\", \"USA\", \"USA\", \"USA\", \"USA\", \"USA\", \"USA\", \"USA\", \"USA\", \"USA\", \"USA\", \"USA\", \"USA\", \"USA\", \"USA\", \"USA\", \"USA\", \"USA\", \"USA\", \"USA\", \"USA\", \"USA\", \"USA\", \"USA\", \"USA\", \"USA\", \"USA\", \"USA\", \"USA\", \"USA\", \"USA\", \"USA\", \"USA\", \"USA\", \"USA\", \"USA\", \"USA\", \"USA\", \"USA\", \"USA\", \"USA\", \"USA\", \"USA\", \"USA\", \"USA\", \"USA\", \"USA\", \"USA\", \"USA\", \"USA\", \"USA\", \"USA\", \"USA\", \"USA\", \"USA\", \"USA\", \"USA\", \"USA\", \"USA\", \"USA\", \"USA\", \"USA\", \"USA\", \"USA\", \"USA\", \"USA\", \"USA\", \"USA\", \"USA\", \"USA\", \"USA\", \"USA\", \"USA\", \"USA\", \"USA\", \"USA\", \"USA\", \"USA\", \"USA\", \"USA\", \"USA\", \"USA\", \"USA\", \"USA\", \"USA\", \"USA\", \"USA\", \"USA\", \"VEN\", \"VEN\", \"VEN\", \"VEN\", \"VEN\", \"VEN\", \"VEN\", \"VEN\", \"VEN\", \"VEN\", \"VEN\", \"VEN\", \"VEN\", \"VEN\", \"VEN\", \"VEN\", \"VEN\", \"VEN\", \"VEN\", \"VEN\", \"VEN\", \"VEN\", \"VEN\", \"VEN\", \"VEN\", \"VEN\", \"VEN\", \"VEN\", \"VEN\", \"VEN\", \"VEN\", \"VEN\", \"VEN\", \"VEN\", \"VEN\", \"VEN\", \"VEN\", \"VEN\", \"VEN\", \"VEN\", \"VEN\", \"VEN\", \"VEN\", \"VEN\", \"VEN\", \"VEN\", \"VEN\", \"VEN\", \"VEN\", \"VEN\", \"VEN\", \"VEN\", \"VEN\", \"VEN\", \"VEN\", \"VEN\", \"VEN\", \"VEN\", \"VEN\", \"VEN\", \"VEN\", \"VEN\", \"VEN\", \"VEN\", \"VEN\", \"VEN\", \"VEN\", \"VEN\", \"VEN\", \"VEN\", \"VEN\", \"VEN\", \"VEN\", \"VEN\", \"VEN\", \"VEN\", \"VEN\", \"VEN\", \"VEN\", \"VEN\", \"VEN\", \"VEN\", \"VEN\", \"VEN\", \"VEN\", \"VEN\", \"VEN\", \"VEN\", \"VEN\", \"VEN\", \"VEN\", \"VEN\", \"VEN\", \"VEN\", \"VEN\", \"VEN\", \"VEN\", \"VEN\", \"VEN\", \"VEN\", \"VEN\", \"VEN\", \"VEN\", \"VEN\", \"VEN\", \"VEN\", \"VEN\", \"VEN\", \"VEN\", \"VEN\", \"VEN\", \"VEN\", \"VEN\", \"VEN\", \"VEN\", \"VEN\", \"VEN\", \"VEN\", \"VEN\", \"VEN\", \"VEN\", \"VEN\"]}, {\"name\": \"Year\", \"type\": \"measure\", \"values\": [1900.0, 1901.0, 1902.0, 1903.0, 1904.0, 1905.0, 1906.0, 1907.0, 1908.0, 1909.0, 1910.0, 1911.0, 1912.0, 1913.0, 1914.0, 1915.0, 1916.0, 1917.0, 1918.0, 1919.0, 1920.0, 1921.0, 1922.0, 1923.0, 1924.0, 1925.0, 1926.0, 1927.0, 1928.0, 1929.0, 1930.0, 1931.0, 1932.0, 1933.0, 1934.0, 1935.0, 1936.0, 1937.0, 1938.0, 1939.0, 1940.0, 1941.0, 1942.0, 1943.0, 1944.0, 1945.0, 1946.0, 1947.0, 1948.0, 1949.0, 1950.0, 1951.0, 1952.0, 1953.0, 1954.0, 1955.0, 1956.0, 1957.0, 1958.0, 1959.0, 1960.0, 1961.0, 1962.0, 1963.0, 1964.0, 1965.0, 1966.0, 1967.0, 1968.0, 1969.0, 1970.0, 1971.0, 1972.0, 1973.0, 1974.0, 1975.0, 1976.0, 1977.0, 1978.0, 1979.0, 1980.0, 1981.0, 1982.0, 1983.0, 1984.0, 1985.0, 1986.0, 1987.0, 1988.0, 1989.0, 1990.0, 1991.0, 1992.0, 1993.0, 1994.0, 1995.0, 1996.0, 1997.0, 1998.0, 1999.0, 2000.0, 2001.0, 2002.0, 2003.0, 2004.0, 2005.0, 2006.0, 2007.0, 2008.0, 2009.0, 2010.0, 2011.0, 2012.0, 2013.0, 2014.0, 2015.0, 2016.0, 2017.0, 2018.0, 2019.0, 2020.0, 2021.0, 1900.0, 1901.0, 1902.0, 1903.0, 1904.0, 1905.0, 1906.0, 1907.0, 1908.0, 1909.0, 1910.0, 1911.0, 1912.0, 1913.0, 1914.0, 1915.0, 1916.0, 1917.0, 1918.0, 1919.0, 1920.0, 1921.0, 1922.0, 1923.0, 1924.0, 1925.0, 1926.0, 1927.0, 1928.0, 1929.0, 1930.0, 1931.0, 1932.0, 1933.0, 1934.0, 1935.0, 1936.0, 1937.0, 1938.0, 1939.0, 1940.0, 1941.0, 1942.0, 1943.0, 1944.0, 1945.0, 1946.0, 1947.0, 1948.0, 1949.0, 1950.0, 1951.0, 1952.0, 1953.0, 1954.0, 1955.0, 1956.0, 1957.0, 1958.0, 1959.0, 1960.0, 1961.0, 1962.0, 1963.0, 1964.0, 1965.0, 1966.0, 1967.0, 1968.0, 1969.0, 1970.0, 1971.0, 1972.0, 1973.0, 1974.0, 1975.0, 1976.0, 1977.0, 1978.0, 1979.0, 1980.0, 1981.0, 1982.0, 1983.0, 1984.0, 1985.0, 1986.0, 1987.0, 1988.0, 1989.0, 1990.0, 1991.0, 1992.0, 1993.0, 1994.0, 1995.0, 1996.0, 1997.0, 1998.0, 1999.0, 2000.0, 2001.0, 2002.0, 2003.0, 2004.0, 2005.0, 2006.0, 2007.0, 2008.0, 2009.0, 2010.0, 2011.0, 2012.0, 2013.0, 2014.0, 2015.0, 2016.0, 2017.0, 2018.0, 2019.0, 2020.0, 2021.0, 1900.0, 1901.0, 1902.0, 1903.0, 1904.0, 1905.0, 1906.0, 1907.0, 1908.0, 1909.0, 1910.0, 1911.0, 1912.0, 1913.0, 1914.0, 1915.0, 1916.0, 1917.0, 1918.0, 1919.0, 1920.0, 1921.0, 1922.0, 1923.0, 1924.0, 1925.0, 1926.0, 1927.0, 1928.0, 1929.0, 1930.0, 1931.0, 1932.0, 1933.0, 1934.0, 1935.0, 1936.0, 1937.0, 1938.0, 1939.0, 1940.0, 1941.0, 1942.0, 1943.0, 1944.0, 1945.0, 1946.0, 1947.0, 1948.0, 1949.0, 1950.0, 1951.0, 1952.0, 1953.0, 1954.0, 1955.0, 1956.0, 1957.0, 1958.0, 1959.0, 1960.0, 1961.0, 1962.0, 1963.0, 1964.0, 1965.0, 1966.0, 1967.0, 1968.0, 1969.0, 1970.0, 1971.0, 1972.0, 1973.0, 1974.0, 1975.0, 1976.0, 1977.0, 1978.0, 1979.0, 1980.0, 1981.0, 1982.0, 1983.0, 1984.0, 1985.0, 1986.0, 1987.0, 1988.0, 1989.0, 1990.0, 1991.0, 1992.0, 1993.0, 1994.0, 1995.0, 1996.0, 1997.0, 1998.0, 1999.0, 2000.0, 2001.0, 2002.0, 2003.0, 2004.0, 2005.0, 2006.0, 2007.0, 2008.0, 2009.0, 2010.0, 2011.0, 2012.0, 2013.0, 2014.0, 2015.0, 2016.0, 2017.0, 2018.0, 2019.0, 2020.0, 2021.0, 1900.0, 1901.0, 1902.0, 1903.0, 1904.0, 1905.0, 1906.0, 1907.0, 1908.0, 1909.0, 1910.0, 1911.0, 1912.0, 1913.0, 1914.0, 1915.0, 1916.0, 1917.0, 1918.0, 1919.0, 1920.0, 1921.0, 1922.0, 1923.0, 1924.0, 1925.0, 1926.0, 1927.0, 1928.0, 1929.0, 1930.0, 1931.0, 1932.0, 1933.0, 1934.0, 1935.0, 1936.0, 1937.0, 1938.0, 1939.0, 1940.0, 1941.0, 1942.0, 1943.0, 1944.0, 1945.0, 1946.0, 1947.0, 1948.0, 1949.0, 1950.0, 1951.0, 1952.0, 1953.0, 1954.0, 1955.0, 1956.0, 1957.0, 1958.0, 1959.0, 1960.0, 1961.0, 1962.0, 1963.0, 1964.0, 1965.0, 1966.0, 1967.0, 1968.0, 1969.0, 1970.0, 1971.0, 1972.0, 1973.0, 1974.0, 1975.0, 1976.0, 1977.0, 1978.0, 1979.0, 1980.0, 1981.0, 1982.0, 1983.0, 1984.0, 1985.0, 1986.0, 1987.0, 1988.0, 1989.0, 1990.0, 1991.0, 1992.0, 1993.0, 1994.0, 1995.0, 1996.0, 1997.0, 1998.0, 1999.0, 2000.0, 2001.0, 2002.0, 2003.0, 2004.0, 2005.0, 2006.0, 2007.0, 2008.0, 2009.0, 2010.0, 2011.0, 2012.0, 2013.0, 2014.0, 2015.0, 2016.0, 2017.0, 2018.0, 2019.0, 2020.0, 2021.0, 1900.0, 1901.0, 1902.0, 1903.0, 1904.0, 1905.0, 1906.0, 1907.0, 1908.0, 1909.0, 1910.0, 1911.0, 1912.0, 1913.0, 1914.0, 1915.0, 1916.0, 1917.0, 1918.0, 1919.0, 1920.0, 1921.0, 1922.0, 1923.0, 1924.0, 1925.0, 1926.0, 1927.0, 1928.0, 1929.0, 1930.0, 1931.0, 1932.0, 1933.0, 1934.0, 1935.0, 1936.0, 1937.0, 1938.0, 1939.0, 1940.0, 1941.0, 1942.0, 1943.0, 1944.0, 1945.0, 1946.0, 1947.0, 1948.0, 1949.0, 1950.0, 1951.0, 1952.0, 1953.0, 1954.0, 1955.0, 1956.0, 1957.0, 1958.0, 1959.0, 1960.0, 1961.0, 1962.0, 1963.0, 1964.0, 1965.0, 1966.0, 1967.0, 1968.0, 1969.0, 1970.0, 1971.0, 1972.0, 1973.0, 1974.0, 1975.0, 1976.0, 1977.0, 1978.0, 1979.0, 1980.0, 1981.0, 1982.0, 1983.0, 1984.0, 1985.0, 1986.0, 1987.0, 1988.0, 1989.0, 1990.0, 1991.0, 1992.0, 1993.0, 1994.0, 1995.0, 1996.0, 1997.0, 1998.0, 1999.0, 2000.0, 2001.0, 2002.0, 2003.0, 2004.0, 2005.0, 2006.0, 2007.0, 2008.0, 2009.0, 2010.0, 2011.0, 2012.0, 2013.0, 2014.0, 2015.0, 2016.0, 2017.0, 2018.0, 2019.0, 2020.0, 2021.0, 1900.0, 1901.0, 1902.0, 1903.0, 1904.0, 1905.0, 1906.0, 1907.0, 1908.0, 1909.0, 1910.0, 1911.0, 1912.0, 1913.0, 1914.0, 1915.0, 1916.0, 1917.0, 1918.0, 1919.0, 1920.0, 1921.0, 1922.0, 1923.0, 1924.0, 1925.0, 1926.0, 1927.0, 1928.0, 1929.0, 1930.0, 1931.0, 1932.0, 1933.0, 1934.0, 1935.0, 1936.0, 1937.0, 1938.0, 1939.0, 1940.0, 1941.0, 1942.0, 1943.0, 1944.0, 1945.0, 1946.0, 1947.0, 1948.0, 1949.0, 1950.0, 1951.0, 1952.0, 1953.0, 1954.0, 1955.0, 1956.0, 1957.0, 1958.0, 1959.0, 1960.0, 1961.0, 1962.0, 1963.0, 1964.0, 1965.0, 1966.0, 1967.0, 1968.0, 1969.0, 1970.0, 1971.0, 1972.0, 1973.0, 1974.0, 1975.0, 1976.0, 1977.0, 1978.0, 1979.0, 1980.0, 1981.0, 1982.0, 1983.0, 1984.0, 1985.0, 1986.0, 1987.0, 1988.0, 1989.0, 1990.0, 1991.0, 1992.0, 1993.0, 1994.0, 1995.0, 1996.0, 1997.0, 1998.0, 1999.0, 2000.0, 2001.0, 2002.0, 2003.0, 2004.0, 2005.0, 2006.0, 2007.0, 2008.0, 2009.0, 2010.0, 2011.0, 2012.0, 2013.0, 2014.0, 2015.0, 2016.0, 2017.0, 2018.0, 2019.0, 2020.0, 2021.0, 1990.0, 1991.0, 1992.0, 1993.0, 1994.0, 1995.0, 1996.0, 1997.0, 1998.0, 1999.0, 2000.0, 2001.0, 2002.0, 2003.0, 2004.0, 2005.0, 2006.0, 2007.0, 2008.0, 2009.0, 2010.0, 2011.0, 2012.0, 2013.0, 2014.0, 2015.0, 2016.0, 2017.0, 2018.0, 2019.0, 2020.0, 2021.0, 1900.0, 1901.0, 1902.0, 1903.0, 1904.0, 1905.0, 1906.0, 1907.0, 1908.0, 1909.0, 1910.0, 1911.0, 1912.0, 1913.0, 1914.0, 1915.0, 1916.0, 1917.0, 1918.0, 1919.0, 1920.0, 1921.0, 1922.0, 1923.0, 1924.0, 1925.0, 1926.0, 1927.0, 1928.0, 1929.0, 1930.0, 1931.0, 1932.0, 1933.0, 1934.0, 1935.0, 1936.0, 1937.0, 1938.0, 1939.0, 1940.0, 1941.0, 1942.0, 1943.0, 1944.0, 1945.0, 1946.0, 1947.0, 1948.0, 1949.0, 1950.0, 1951.0, 1952.0, 1953.0, 1954.0, 1955.0, 1956.0, 1957.0, 1958.0, 1959.0, 1960.0, 1961.0, 1962.0, 1963.0, 1964.0, 1965.0, 1966.0, 1967.0, 1968.0, 1969.0, 1970.0, 1971.0, 1972.0, 1973.0, 1974.0, 1975.0, 1976.0, 1977.0, 1978.0, 1979.0, 1980.0, 1981.0, 1982.0, 1983.0, 1984.0, 1985.0, 1986.0, 1987.0, 1988.0, 1989.0, 1990.0, 1991.0, 1992.0, 1993.0, 1994.0, 1995.0, 1996.0, 1997.0, 1998.0, 1999.0, 2000.0, 2001.0, 2002.0, 2003.0, 2004.0, 2005.0, 2006.0, 2007.0, 2008.0, 2009.0, 2010.0, 2011.0, 2012.0, 2013.0, 2014.0, 2015.0, 2016.0, 2017.0, 2018.0, 2019.0, 2020.0, 2021.0, 1900.0, 1901.0, 1902.0, 1903.0, 1904.0, 1905.0, 1906.0, 1907.0, 1908.0, 1909.0, 1910.0, 1911.0, 1912.0, 1913.0, 1914.0, 1915.0, 1916.0, 1917.0, 1918.0, 1919.0, 1920.0, 1921.0, 1922.0, 1923.0, 1924.0, 1925.0, 1926.0, 1927.0, 1928.0, 1929.0, 1930.0, 1931.0, 1932.0, 1933.0, 1934.0, 1935.0, 1936.0, 1937.0, 1938.0, 1939.0, 1940.0, 1941.0, 1942.0, 1943.0, 1944.0, 1945.0, 1946.0, 1947.0, 1948.0, 1949.0, 1950.0, 1951.0, 1952.0, 1953.0, 1954.0, 1955.0, 1956.0, 1957.0, 1958.0, 1959.0, 1960.0, 1961.0, 1962.0, 1963.0, 1964.0, 1965.0, 1966.0, 1967.0, 1968.0, 1969.0, 1970.0, 1971.0, 1972.0, 1973.0, 1974.0, 1975.0, 1976.0, 1977.0, 1978.0, 1979.0, 1980.0, 1981.0, 1982.0, 1983.0, 1984.0, 1985.0, 1986.0, 1987.0, 1988.0, 1989.0, 1990.0, 1900.0, 1901.0, 1902.0, 1903.0, 1904.0, 1905.0, 1906.0, 1907.0, 1908.0, 1909.0, 1910.0, 1911.0, 1912.0, 1913.0, 1914.0, 1915.0, 1916.0, 1917.0, 1918.0, 1919.0, 1920.0, 1921.0, 1922.0, 1923.0, 1924.0, 1925.0, 1926.0, 1927.0, 1928.0, 1929.0, 1930.0, 1931.0, 1932.0, 1933.0, 1934.0, 1935.0, 1936.0, 1937.0, 1938.0, 1939.0, 1940.0, 1941.0, 1942.0, 1943.0, 1944.0, 1945.0, 1946.0, 1947.0, 1948.0, 1949.0, 1950.0, 1951.0, 1952.0, 1953.0, 1954.0, 1955.0, 1956.0, 1957.0, 1958.0, 1959.0, 1960.0, 1961.0, 1962.0, 1963.0, 1964.0, 1965.0, 1966.0, 1967.0, 1968.0, 1969.0, 1970.0, 1971.0, 1972.0, 1973.0, 1974.0, 1975.0, 1976.0, 1977.0, 1978.0, 1979.0, 1980.0, 1981.0, 1982.0, 1983.0, 1984.0, 1985.0, 1986.0, 1987.0, 1988.0, 1989.0, 1990.0, 1991.0, 1992.0, 1993.0, 1994.0, 1995.0, 1996.0, 1997.0, 1998.0, 1999.0, 2000.0, 2001.0, 2002.0, 2003.0, 2004.0, 2005.0, 2006.0, 2007.0, 2008.0, 2009.0, 2010.0, 2011.0, 2012.0, 2013.0, 2014.0, 2015.0, 2016.0, 2017.0, 2018.0, 2019.0, 2020.0, 2021.0, 1900.0, 1901.0, 1902.0, 1903.0, 1904.0, 1905.0, 1906.0, 1907.0, 1908.0, 1909.0, 1910.0, 1911.0, 1912.0, 1913.0, 1914.0, 1915.0, 1916.0, 1917.0, 1918.0, 1919.0, 1920.0, 1921.0, 1922.0, 1923.0, 1924.0, 1925.0, 1926.0, 1927.0, 1928.0, 1929.0, 1930.0, 1931.0, 1932.0, 1933.0, 1934.0, 1935.0, 1936.0, 1937.0, 1938.0, 1939.0, 1940.0, 1941.0, 1942.0, 1943.0, 1944.0, 1945.0, 1946.0, 1947.0, 1948.0, 1949.0, 1950.0, 1951.0, 1952.0, 1953.0, 1954.0, 1955.0, 1956.0, 1957.0, 1958.0, 1959.0, 1960.0, 1961.0, 1962.0, 1963.0, 1964.0, 1965.0, 1966.0, 1967.0, 1968.0, 1969.0, 1970.0, 1971.0, 1972.0, 1973.0, 1974.0, 1975.0, 1976.0, 1977.0, 1978.0, 1979.0, 1980.0, 1981.0, 1982.0, 1983.0, 1984.0, 1985.0, 1986.0, 1987.0, 1988.0, 1989.0, 1990.0, 1991.0, 1992.0, 1993.0, 1994.0, 1995.0, 1996.0, 1997.0, 1998.0, 1999.0, 2000.0, 2001.0, 2002.0, 2003.0, 2004.0, 2005.0, 2006.0, 2007.0, 2008.0, 2009.0, 2010.0, 2011.0, 2012.0, 2013.0, 2014.0, 2015.0, 2016.0, 2017.0, 2018.0, 2019.0, 2020.0, 2021.0, 1900.0, 1901.0, 1902.0, 1903.0, 1904.0, 1905.0, 1906.0, 1907.0, 1908.0, 1909.0, 1910.0, 1911.0, 1912.0, 1913.0, 1914.0, 1915.0, 1916.0, 1917.0, 1918.0, 1919.0, 1920.0, 1921.0, 1922.0, 1923.0, 1924.0, 1925.0, 1926.0, 1927.0, 1928.0, 1929.0, 1930.0, 1931.0, 1932.0, 1933.0, 1934.0, 1935.0, 1936.0, 1937.0, 1938.0, 1939.0, 1940.0, 1941.0, 1942.0, 1943.0, 1944.0, 1945.0, 1946.0, 1947.0, 1948.0, 1949.0, 1950.0, 1951.0, 1952.0, 1953.0, 1954.0, 1955.0, 1956.0, 1957.0, 1958.0, 1959.0, 1960.0, 1961.0, 1962.0, 1963.0, 1964.0, 1965.0, 1966.0, 1967.0, 1968.0, 1969.0, 1970.0, 1971.0, 1972.0, 1973.0, 1974.0, 1975.0, 1976.0, 1977.0, 1978.0, 1979.0, 1980.0, 1981.0, 1982.0, 1983.0, 1984.0, 1985.0, 1986.0, 1987.0, 1988.0, 1989.0, 1990.0, 1991.0, 1992.0, 1993.0, 1994.0, 1995.0, 1996.0, 1997.0, 1998.0, 1999.0, 2000.0, 2001.0, 2002.0, 2003.0, 2004.0, 2005.0, 2006.0, 2007.0, 2008.0, 2009.0, 2010.0, 2011.0, 2012.0, 2013.0, 2014.0, 2015.0, 2016.0, 2017.0, 2018.0, 2019.0, 2020.0, 2021.0]}, {\"name\": \"Oil production (TWh)\", \"type\": \"measure\", \"values\": [0.0, 0.0, 0.0, 0.0, 0.0, 0.0, 0.0, 0.0, 0.0, 0.0, 0.0, 0.0, 0.0, 0.0, 0.0, 0.0, 0.01163, 0.01163, 0.01163, 0.01163, 0.01163, 0.0, 0.01163, 0.01163, 0.02326, 0.02326, 0.01163, 0.01163, 0.01163, 0.03489, 0.02326, 0.01163, 0.01163, 0.01163, 0.0, 0.0, 0.0, 0.0, 0.0, 0.0, 0.0, 0.0, 0.0, 0.0, 0.01163, 0.0, 0.0, 0.0, 0.0, 0.0, 0.03489, 0.08141, 0.53498, 0.98855, 0.84899, 0.63965, 0.39542, 0.24423, 4.98927, 14.32816, 100.39016, 182.09091, 238.49641, 274.89832, 308.06708, 304.0002, 391.262, 449.44415, 493.38818, 516.78827, 561.8859, 427.9568, 578.319, 601.25507, 556.3107, 544.32935, 607.42487, 648.445, 662.15814, 675.54517, 599.4388, 534.1273, 531.3829, 522.8083, 567.38074, 547.31964, 563.81366, 583.7999, 611.4504, 633.6584, 678.6744, 682.60803, 657.1114, 655.03894, 652.1087, 649.0849, 686.3133, 716.0245, 713.91675, 680.686, 776.7328, 764.68414, 824.4972, 918.8281, 971.6981, 1005.2701, 1002.52924, 1005.78564, 985.7705, 898.23145, 858.00323, 833.58026, 781.67554, 753.4379, 799.8067, 781.8267, 795.6897, 775.1162, 759.81116, 748.1579, 668.9111, 676.5636, 0.0, 0.0, 0.0, 0.0, 0.0, 0.0, 0.0, 0.0, 0.0, 0.0, 0.0, 0.0, 0.0, 0.0, 0.0, 0.0, 0.0, 0.0, 0.0, 0.0, 0.0, 0.0, 0.0, 0.0, 0.0, 0.0, 0.0, 0.0, 0.0, 0.0, 0.0, 0.0, 0.0, 0.0, 0.0, 0.0, 0.0, 0.0, 0.0, 0.0, 0.0, 0.0, 0.04652, 0.06978, 0.09304, 0.1163, 0.10467, 0.15119, 0.22097, 0.16282, 0.51172, 1.0467, 1.13974, 1.38397, 1.50027, 3.07032, 6.17553, 15.36323, 28.76099, 35.85529, 45.0081, 52.90487, 50.78821, 54.30047, 50.62539, 58.675575, 71.632545, 90.1425, 99.05111, 108.03546, 102.25953, 107.041916, 104.99714, 106.482506, 111.1111, 108.2866, 105.45653, 101.61979, 101.04518, 104.67683, 114.915504, 134.21123, 163.54337, 207.35085, 290.23807, 342.7415, 360.37137, 358.51154, 350.34323, 374.16556, 396.90588, 392.28058, 398.22034, 406.4251, 421.4718, 436.17145, 494.6624, 530.28345, 612.65924, 691.94525, 780.2455, 816.74133, 914.1956, 948.01917, 940.91486, 1034.8539, 1093.6329, 1109.1145, 1152.7559, 1232.6158, 1298.3738, 1326.1353, 1306.8228, 1281.0779, 1424.1478, 1537.4033, 1589.9032, 1658.9243, 1635.2147, 1758.4464, 1853.1815, 1823.4961, 1.41886, 1.17463, 0.82573, 0.75595, 0.86062, 0.98855, 0.88388, 1.22115, 0.8141, 0.65128, 0.48846, 0.45357, 0.37216, 0.3489, 0.33727, 0.33727, 0.30238, 0.33727, 0.47683, 0.37216, 0.30238, 0.31401, 0.30238, 0.29075, 0.26749, 0.55824, 0.54661, 0.70943, 0.9304, 1.67472, 2.27948, 2.30274, 1.55842, 1.70961, 2.10503, 2.16318, 2.24459, 3.59367, 10.15299, 11.82771, 13.11864, 15.4679, 15.8168, 15.06085, 15.16552, 12.68833, 11.23458, 11.42066, 18.57311, 32.73845, 45.42678, 74.47852, 95.78468, 126.54603, 150.2945, 202.4783, 269.01352, 284.45816, 258.87216, 289.04037, 296.66968, 345.66687, 382.21994, 403.03766, 429.5773, 510.25668, 560.70734, 612.91425, 664.29785, 723.5958, 814.8895, 874.15466, 1008.4739, 1166.6589, 1097.7156, 948.72656, 875.7928, 878.9294, 874.45825, 1003.3732, 968.42413, 876.45544, 867.18097, 913.6585, 974.77625, 996.51917, 997.1099, 1050.1237, 1105.9545, 1077.1761, 1078.7738, 1084.0847, 1129.9683, 1189.5297, 1240.8297, 1301.4706, 1342.7245, 1403.7892, 1454.7723, 1407.1921, 1454.7484, 1467.3573, 1546.819, 1635.5127, 1688.1901, 1659.3553, 1756.1113, 1810.4688, 1782.1812, 1781.1637, 1868.1313, 1978.6215, 2127.2776, 2272.614, 2439.7065, 2512.9456, 2545.1667, 2751.9353, 2997.5752, 3064.065, 2931.024, 3106.332, 0.0, 0.0, 0.0, 0.0, 0.0, 0.0, 0.0, 0.0, 0.0, 0.0, 0.0, 0.0, 0.0, 0.0, 0.0, 0.0, 0.0, 0.0, 0.0, 0.0, 0.0, 0.0, 0.0, 0.0, 0.0, 0.0, 0.02326, 0.03489, 0.03489, 0.04652, 0.5815, 0.70943, 0.8141, 1.01181, 1.06996, 1.63983, 1.93058, 2.25622, 3.16336, 4.46592, 6.80355, 7.71069, 9.50171, 3.61693, 2.33763, 2.03525, 0.8141, 0.60476, 0.84899, 1.37234, 2.34926, 3.55878, 5.07068, 7.23386, 9.17607, 11.23458, 13.52569, 16.9798, 26.33032, 43.031, 63.965, 72.106, 79.084, 87.225, 98.855, 131.5353, 169.2165, 161.4244, 185.9637, 252.8362, 356.4595, 458.3383, 531.1421, 623.4843, 754.2055, 896.2078, 1013.6708, 1089.0332, 1210.1014, 1234.5245, 1232.1985, 1177.1886, 1187.6556, 1233.5941, 1332.9143, 1452.587, 1519.9247, 1560.0482, 1593.8915, 1600.7532, 1608.5453, 1639.7137, 1651.9252, 1675.0688, 1698.9104, 1733.1025, 1843.5876, 1862.3119, 1862.8934, 1863.3586, 1891.2706, 1916.9729, 1940.6516, 1972.2736, 2024.2131, 2109.1343, 2148.8252, 2166.8806, 2214.8125, 2203.7688, 2361.0527, 2359.4421, 2412.9692, 2441.8264, 2458.9192, 2495.3328, 2322.3367, 2227.2148, 2201.8381, 2228.6335, 2265.1636, 2312.986, 0.0, 0.0, 0.0, 0.0, 0.0, 0.0, 0.01163, 0.0, 0.0, 0.0, 0.0, 0.51172, 0.95366, 3.23314, 4.44266, 5.31491, 7.60602, 10.60656, 13.07212, 16.37504, 20.60836, 27.50495, 34.97141, 43.89162, 51.20689, 53.83527, 57.09167, 63.31372, 67.02369, 64.53487, 70.18705, 67.95409, 76.16487, 83.736, 89.06254, 88.48104, 96.8779, 120.1379, 120.47517, 113.18316, 101.79739, 77.93263, 111.03161, 114.69506, 156.8538, 198.9893, 226.76173, 238.63597, 293.8901, 316.7663, 375.1838, 196.38419, 15.8168, 15.60746, 40.72826, 191.09253, 306.27606, 418.55206, 480.02826, 539.38776, 622.10034, 689.71716, 765.35864, 855.4679, 984.03754, 1112.55, 1243.164, 1517.8029, 1660.5339, 1968.5372, 2239.7864, 2659.6023, 2950.6582, 3435.2354, 3526.1833, 3133.9348, 3453.717, 3321.8523, 3079.8572, 1866.4425, 862.4578, 769.4381, 1396.675, 1428.5646, 1192.2871, 1283.3833, 1194.3988, 1357.5194, 1365.1671, 1672.8422, 1893.2346, 2027.9333, 2043.1451, 2143.3386, 2151.3699, 2156.8591, 2170.6436, 2174.3757, 2218.8594, 2071.5051, 2229.0667, 2207.4316, 2083.1982, 2350.3044, 2428.7239, 2417.5408, 2449.531, 2480.1643, 2505.3982, 2409.9597, 2465.9385, 2471.7043, 2098.9685, 1973.2856, 2024.1608, 2096.2253, 2513.76, 2697.528, 2549.832, 1841.351, 1665.9946, 1949.8636, 0.0, 0.0, 0.0, 0.0, 0.0, 0.0, 0.0, 0.0, 0.0, 0.0, 0.0, 0.0, 0.0, 0.0, 0.0, 0.0, 0.0, 0.0, 0.0, 0.0, 0.0, 0.0, 0.0, 0.0, 0.0, 0.0, 0.0, 0.52335, 1.09322, 1.40723, 1.40723, 1.3956, 1.41886, 1.33745, 10.86242, 41.37954, 45.28722, 47.83419, 48.12494, 46.08969, 29.15641, 18.22421, 30.17985, 41.54236, 48.42732, 53.57941, 54.4284, 54.68426, 39.84438, 47.29921, 76.57192, 99.92496, 215.39923, 327.8032, 356.16876, 386.59283, 366.05426, 255.83675, 416.5517, 487.7622, 552.0412, 569.6258, 571.82385, 659.0605, 716.722, 752.17535, 797.4319, 703.48157, 863.3792, 871.33185, 887.37213, 970.438, 842.125, 1156.0471, 1131.332, 1299.1064, 1390.0804, 1348.9895, 1472.1066, 1996.2805, 1524.3804, 517.584, 564.10254, 632.14026, 704.0628, 812.2263, 1083.7976, 1363.6879, 1589.8123, 1616.1876, 1224.6495, 162.1561, 304.08456, 259.72107, 288.36444, 302.68616, 332.232, 664.58966, 1211.6783, 1491.8107, 1497.8922, 1440.634, 1208.0497, 767.865, 1162.3728, 1045.9281, 1139.9895, 1222.19, 1387.679, 1392.5465, 1405.0623, 1579.3668, 1759.7952, 1767.0057, 1846.959, 2275.0127, 2530.7146, 2586.301, 2640.1548, 2723.9797, 2349.7002, 2335.6455, 5999.8125, 5372.4087, 4638.16, 4127.1963, 3693.4321, 3614.011, 3522.413, 3575.2947, 3539.474, 3544.452, 3798.9468, 4090.0334, 4462.377, 4951.0513, 5388.073, 5522.15, 5655.1367, 5783.959, 5748.1763, 5830.85, 5958.231, 6041.3623, 6125.9355, 6189.7603, 6250.2017, 6333.144, 6495.112, 6495.898, 6604.5015, 6668.512, 6098.8213, 6238.865, 0.0, 0.0, 0.0, 0.0, 0.0, 0.0, 0.0, 0.0, 0.0, 0.0, 0.0, 0.0, 0.0, 0.0, 0.0, 0.0, 0.0, 0.0, 0.0, 0.0, 0.0, 0.0, 0.0, 0.0, 0.0, 0.0, 0.0, 0.0, 0.0, 0.0, 0.0, 0.0, 0.0, 0.0, 0.0, 0.0, 0.02326, 0.09304, 0.77921, 6.26857, 8.141, 6.8617, 7.2106, 7.5595, 12.36269, 33.40136, 95.366, 143.049, 221.87714, 270.26956, 309.92786, 431.72885, 468.84018, 478.83035, 545.226, 554.33234, 570.3003, 581.7791, 599.9452, 656.30414, 750.4141, 854.0723, 948.2521, 1031.9182, 1099.8026, 1291.2112, 1523.1674, 1643.1688, 1793.6106, 1892.7928, 2234.9546, 2800.4424, 3538.2236, 4466.09, 4996.796, 4179.0894, 5085.341, 5447.446, 4936.231, 5675.5664, 5929.0127, 5888.8184, 3956.3428, 2794.4504, 2547.3987, 2001.2021, 2937.7395, 2484.2625, 3178.5789, 3153.7422, 3984.9458, 4981.6616, 5141.365, 4992.883, 5026.3213, 5015.5874, 5087.378, 5024.416, 5178.777, 4751.1567, 5099.9453, 4974.1143, 4536.3174, 5355.6123, 5731.1167, 6008.3857, 5918.9785, 5686.37, 5930.9995, 5338.2544, 5388.187, 6079.007, 6387.493, 6261.744, 6324.668, 6606.2373, 6823.463, 6504.8843, 6708.389, 6472.8394, 6042.749, 5989.7173, 120.27746, 134.48932, 127.74392, 119.91693, 124.72012, 86.73654, 93.87736, 99.48302, 100.33201, 106.71688, 110.96183, 105.30965, 106.58895, 104.79793, 103.8559, 107.82173, 114.79973, 101.84391, 42.9147, 51.60231, 45.357, 44.194, 54.661, 61.639, 70.943, 82.573, 96.529, 119.789, 134.908, 159.331, 215.155, 260.512, 248.882, 250.045, 281.446, 293.076, 318.662, 331.455, 351.226, 352.389, 361.693, 374.49762, 357.98303, 318.1968, 433.03143, 225.622, 252.90598, 302.63586, 340.16586, 388.9537, 440.52115, 491.4024, 550.2269, 613.7965, 689.43805, 823.3226, 974.66376, 1143.764, 1316.702, 1506.7479, 1719.6002, 1931.3708, 2166.0178, 2396.5825, 2600.503, 2824.7874, 3083.113, 3350.603, 3595.996, 3818.129, 4105.8438, 4384.51, 4656.652, 4989.27, 5337.007, 5708.0156, 6043.8438, 6347.6426, 6646.906, 6810.528, 7014.9834, 7080.5767, 7123.9683, 7168.069, 7125.8174, 7448.814, 7683.963, 7777.0996, 7809.2114, 7563.98, 7098.1147, 0.0, 0.0, 0.0, 0.0, 0.0, 0.0, 0.0, 0.0, 0.0, 0.0, 0.0, 0.0, 0.0, 0.0, 0.0, 0.0, 0.0, 0.0, 0.0, 0.0, 0.0, 0.0, 0.0, 0.0, 0.0, 0.0, 0.0, 0.0, 0.0, 0.0, 0.0, 0.0, 0.0, 0.0, 0.0, 0.0, 0.0, 0.0, 0.0, 0.0, 0.0, 0.0, 0.0, 0.0, 0.0, 0.0, 0.0, 0.0, 0.0, 0.0, 0.0, 0.0, 0.0, 0.0, 0.0, 0.0, 0.0, 0.0, 0.0, 0.0, 0.0, 0.0, 9.28074, 28.21438, 105.78648, 158.93922, 202.75732, 215.20438, 280.45874, 353.58624, 439.08228, 596.7261, 679.23425, 863.183, 945.41235, 937.0768, 1093.5983, 1125.7031, 1030.9652, 1031.0717, 974.6628, 861.628, 749.46564, 705.9224, 676.1817, 650.816, 751.5359, 793.14496, 837.89465, 989.44775, 1083.3516, 1242.6837, 1368.6174, 1330.0208, 1341.0413, 1330.6033, 1359.7686, 1364.287, 1413.2999, 1302.8959, 1413.3167, 1377.1503, 1267.8835, 1467.5858, 1526.739, 1588.1108, 1693.9802, 1670.5734, 1689.2214, 1503.9122, 1572.5347, 1750.2948, 1817.1359, 1892.9773, 1900.3024, 2047.6063, 2121.0747, 2049.489, 2054.866, 2099.7288, 1937.3573, 1911.7463, 98.64566, 107.60076, 137.64105, 155.78384, 181.55592, 208.89806, 196.15158, 257.55798, 276.8405, 284.0395, 324.95383, 341.84058, 345.70175, 385.25537, 412.10904, 435.8924, 466.363, 519.9773, 551.9249, 605.9114, 722.4789, 752.67035, 888.7064, 1167.3147, 1140.0192, 1216.7539, 1238.2926, 1436.1422, 1437.375, 1606.1495, 1431.8507, 1357.0233, 1251.9114, 1425.0936, 1429.6875, 1566.2703, 1728.2877, 2010.4199, 1908.5645, 1988.1019, 2126.813, 2203.8384, 2179.3457, 2365.635, 2637.114, 2693.2986, 2725.1765, 2918.5718, 3175.0713, 2894.928, 3101.814, 3532.659, 3598.8687, 3704.562, 3638.399, 3904.7026, 4113.508, 4112.903, 3849.0066, 4046.4143, 4046.9492, 4120.544, 4206.094, 4326.3716, 4379.963, 4974.0864, 5286.287, 5631.4976, 5848.498, 5947.0205, 6204.487, 6116.0757, 6139.336, 5985.4062, 5715.055, 5463.4297, 5326.3057, 5382.4077, 5631.312, 5547.409, 5584.6494, 5568.406, 5590.8115, 5616.8555, 5770.0684, 5799.941, 5609.4917, 5434.2373, 5338.8906, 4989.655, 4845.259, 4918.2886, 4803.5605, 4617.1855, 4506.6177, 4460.73, 4443.334, 4418.8193, 4281.3467, 4101.04, 4042.3657, 4006.635, 3976.3513, 3867.6064, 3783.9016, 3593.5325, 3541.372, 3546.8772, 3514.8435, 3751.6792, 3874.4775, 4028.887, 4596.7, 5218.1963, 6101.787, 6595.6387, 6310.3584, 6677.1865, 7781.1206, 8721.28, 8275.334, 8270.38, 0.0, 0.0, 0.0, 0.0, 0.0, 0.0, 0.0, 0.0, 0.0, 0.0, 0.0, 0.0, 0.0, 0.0, 0.02326, 0.05815, 0.1163, 0.20934, 0.55824, 0.53498, 0.80247, 2.53534, 3.89605, 7.43157, 15.51442, 33.54092, 60.56904, 101.58805, 178.15997, 230.72757, 233.4141, 199.98949, 198.71017, 201.07108, 233.82115, 255.80185, 266.88525, 322.4999, 326.46573, 355.0988, 319.16208, 387.81396, 250.56834, 302.01947, 430.2635, 538.9458, 647.8026, 724.7351, 816.56555, 798.1436, 905.98865, 1036.2213, 1100.9656, 1071.53, 1151.3816, 1314.6669, 1502.3053, 1695.9099, 1577.3885, 1684.431, 1737.0336, 1774.9241, 1943.8383, 1973.1226, 2072.0356, 2141.2454, 2079.28, 2185.5684, 2230.1965, 2219.0684, 2293.8787, 2208.2644, 2021.4376, 2110.0837, 1868.362, 1478.1473, 1451.5715, 1412.9277, 1360.4202, 1481.2926, 1364.7378, 1321.3466, 1193.1802, 1131.2375, 1135.138, 1064.192, 1150.7296, 1165.9482, 1223.4188, 1228.8223, 1369.9797, 1527.3146, 1530.3912, 1583.2775, 1680.295, 1806.4308, 1921.0215, 1994.7681, 2067.4336, 1849.905, 1864.1425, 1896.0684, 1775.8738, 1715.151, 1978.9579, 1970.2279, 1990.3898, 1927.5015, 1928.7676, 1812.6816, 1696.0616, 1645.7239, 1620.3497, 1602.3982, 1610.8744, 1716.8069, 1541.6309, 1326.9269, 975.09686, 605.42334, 380.32056, 388.54053]}]}, \"style\": {\"plot\": {\"paddingLeft\": 100, \"paddingTop\": 25, \"yAxis\": {\"color\": \"#ffffff00\", \"label\": {\"paddingRight\": 10}}, \"xAxis\": {\"title\": {\"color\": \"#ffffff00\"}, \"label\": {\"color\": \"#ffffff00\", \"numberFormat\": \"grouped\"}}, \"marker\": {\"colorPalette\": \"#b74c20FF #c47f58FF #1c9761FF #ea4549FF #875792FF #3562b6FF #ee7c34FF #efae3aFF\"}}}} }, undefined);\n",
       "window.ipyvizzu.animate(element, 'f3aaca8', '81da99c', 'manual', false, lib => { return {\"data\": {\"filter\": record => { return (parseInt(record.Year) == 1900) }}, \"config\": {\"channels\": {\"y\": {\"set\": [\"Entity\"]}, \"x\": {\"set\": [\"Oil production (TWh)\"]}, \"label\": {\"set\": [\"Oil production (TWh)\"]}, \"color\": {\"set\": [\"Entity\"]}}, \"sort\": \"byValue\", \"title\": \"Oil Production in 1900\"}} }, {\"duration\": 1, \"x\": {\"easing\": \"linear\", \"delay\": 0}, \"y\": {\"delay\": 0}, \"show\": {\"delay\": 0}, \"hide\": {\"delay\": 0}, \"title\": {\"duration\": 0, \"delay\": 0}});\n",
       "window.ipyvizzu.animate(element, 'f3aaca8', '25d8824', 'manual', false, lib => { return {\"data\": {\"filter\": record => { return (parseInt(record.Year) == 1901) }}, \"config\": {\"channels\": {\"y\": {\"set\": [\"Entity\"]}, \"x\": {\"set\": [\"Oil production (TWh)\"]}, \"label\": {\"set\": [\"Oil production (TWh)\"]}, \"color\": {\"set\": [\"Entity\"]}}, \"sort\": \"byValue\", \"title\": \"Oil Production in 1901\"}} }, {\"duration\": 1, \"x\": {\"easing\": \"linear\", \"delay\": 0}, \"y\": {\"delay\": 0}, \"show\": {\"delay\": 0}, \"hide\": {\"delay\": 0}, \"title\": {\"duration\": 0, \"delay\": 0}});\n",
       "window.ipyvizzu.animate(element, 'f3aaca8', 'f6cf23e', 'manual', false, lib => { return {\"data\": {\"filter\": record => { return (parseInt(record.Year) == 1902) }}, \"config\": {\"channels\": {\"y\": {\"set\": [\"Entity\"]}, \"x\": {\"set\": [\"Oil production (TWh)\"]}, \"label\": {\"set\": [\"Oil production (TWh)\"]}, \"color\": {\"set\": [\"Entity\"]}}, \"sort\": \"byValue\", \"title\": \"Oil Production in 1902\"}} }, {\"duration\": 1, \"x\": {\"easing\": \"linear\", \"delay\": 0}, \"y\": {\"delay\": 0}, \"show\": {\"delay\": 0}, \"hide\": {\"delay\": 0}, \"title\": {\"duration\": 0, \"delay\": 0}});\n",
       "window.ipyvizzu.animate(element, 'f3aaca8', '1796794', 'manual', false, lib => { return {\"data\": {\"filter\": record => { return (parseInt(record.Year) == 1903) }}, \"config\": {\"channels\": {\"y\": {\"set\": [\"Entity\"]}, \"x\": {\"set\": [\"Oil production (TWh)\"]}, \"label\": {\"set\": [\"Oil production (TWh)\"]}, \"color\": {\"set\": [\"Entity\"]}}, \"sort\": \"byValue\", \"title\": \"Oil Production in 1903\"}} }, {\"duration\": 1, \"x\": {\"easing\": \"linear\", \"delay\": 0}, \"y\": {\"delay\": 0}, \"show\": {\"delay\": 0}, \"hide\": {\"delay\": 0}, \"title\": {\"duration\": 0, \"delay\": 0}});\n",
       "window.ipyvizzu.animate(element, 'f3aaca8', '038467e', 'manual', false, lib => { return {\"data\": {\"filter\": record => { return (parseInt(record.Year) == 1904) }}, \"config\": {\"channels\": {\"y\": {\"set\": [\"Entity\"]}, \"x\": {\"set\": [\"Oil production (TWh)\"]}, \"label\": {\"set\": [\"Oil production (TWh)\"]}, \"color\": {\"set\": [\"Entity\"]}}, \"sort\": \"byValue\", \"title\": \"Oil Production in 1904\"}} }, {\"duration\": 1, \"x\": {\"easing\": \"linear\", \"delay\": 0}, \"y\": {\"delay\": 0}, \"show\": {\"delay\": 0}, \"hide\": {\"delay\": 0}, \"title\": {\"duration\": 0, \"delay\": 0}});\n",
       "window.ipyvizzu.animate(element, 'f3aaca8', 'd5772e7', 'manual', false, lib => { return {\"data\": {\"filter\": record => { return (parseInt(record.Year) == 1905) }}, \"config\": {\"channels\": {\"y\": {\"set\": [\"Entity\"]}, \"x\": {\"set\": [\"Oil production (TWh)\"]}, \"label\": {\"set\": [\"Oil production (TWh)\"]}, \"color\": {\"set\": [\"Entity\"]}}, \"sort\": \"byValue\", \"title\": \"Oil Production in 1905\"}} }, {\"duration\": 1, \"x\": {\"easing\": \"linear\", \"delay\": 0}, \"y\": {\"delay\": 0}, \"show\": {\"delay\": 0}, \"hide\": {\"delay\": 0}, \"title\": {\"duration\": 0, \"delay\": 0}});\n",
       "window.ipyvizzu.animate(element, 'f3aaca8', '4aeff38', 'manual', false, lib => { return {\"data\": {\"filter\": record => { return (parseInt(record.Year) == 1906) }}, \"config\": {\"channels\": {\"y\": {\"set\": [\"Entity\"]}, \"x\": {\"set\": [\"Oil production (TWh)\"]}, \"label\": {\"set\": [\"Oil production (TWh)\"]}, \"color\": {\"set\": [\"Entity\"]}}, \"sort\": \"byValue\", \"title\": \"Oil Production in 1906\"}} }, {\"duration\": 1, \"x\": {\"easing\": \"linear\", \"delay\": 0}, \"y\": {\"delay\": 0}, \"show\": {\"delay\": 0}, \"hide\": {\"delay\": 0}, \"title\": {\"duration\": 0, \"delay\": 0}});\n",
       "window.ipyvizzu.animate(element, 'f3aaca8', 'b9edb47', 'manual', false, lib => { return {\"data\": {\"filter\": record => { return (parseInt(record.Year) == 1907) }}, \"config\": {\"channels\": {\"y\": {\"set\": [\"Entity\"]}, \"x\": {\"set\": [\"Oil production (TWh)\"]}, \"label\": {\"set\": [\"Oil production (TWh)\"]}, \"color\": {\"set\": [\"Entity\"]}}, \"sort\": \"byValue\", \"title\": \"Oil Production in 1907\"}} }, {\"duration\": 1, \"x\": {\"easing\": \"linear\", \"delay\": 0}, \"y\": {\"delay\": 0}, \"show\": {\"delay\": 0}, \"hide\": {\"delay\": 0}, \"title\": {\"duration\": 0, \"delay\": 0}});\n",
       "window.ipyvizzu.animate(element, 'f3aaca8', '611614f', 'manual', false, lib => { return {\"data\": {\"filter\": record => { return (parseInt(record.Year) == 1908) }}, \"config\": {\"channels\": {\"y\": {\"set\": [\"Entity\"]}, \"x\": {\"set\": [\"Oil production (TWh)\"]}, \"label\": {\"set\": [\"Oil production (TWh)\"]}, \"color\": {\"set\": [\"Entity\"]}}, \"sort\": \"byValue\", \"title\": \"Oil Production in 1908\"}} }, {\"duration\": 1, \"x\": {\"easing\": \"linear\", \"delay\": 0}, \"y\": {\"delay\": 0}, \"show\": {\"delay\": 0}, \"hide\": {\"delay\": 0}, \"title\": {\"duration\": 0, \"delay\": 0}});\n",
       "window.ipyvizzu.animate(element, 'f3aaca8', '223521b', 'manual', false, lib => { return {\"data\": {\"filter\": record => { return (parseInt(record.Year) == 1909) }}, \"config\": {\"channels\": {\"y\": {\"set\": [\"Entity\"]}, \"x\": {\"set\": [\"Oil production (TWh)\"]}, \"label\": {\"set\": [\"Oil production (TWh)\"]}, \"color\": {\"set\": [\"Entity\"]}}, \"sort\": \"byValue\", \"title\": \"Oil Production in 1909\"}} }, {\"duration\": 1, \"x\": {\"easing\": \"linear\", \"delay\": 0}, \"y\": {\"delay\": 0}, \"show\": {\"delay\": 0}, \"hide\": {\"delay\": 0}, \"title\": {\"duration\": 0, \"delay\": 0}});\n",
       "window.ipyvizzu.animate(element, 'f3aaca8', '1e6d887', 'manual', false, lib => { return {\"data\": {\"filter\": record => { return (parseInt(record.Year) == 1910) }}, \"config\": {\"channels\": {\"y\": {\"set\": [\"Entity\"]}, \"x\": {\"set\": [\"Oil production (TWh)\"]}, \"label\": {\"set\": [\"Oil production (TWh)\"]}, \"color\": {\"set\": [\"Entity\"]}}, \"sort\": \"byValue\", \"title\": \"Oil Production in 1910\"}} }, {\"duration\": 1, \"x\": {\"easing\": \"linear\", \"delay\": 0}, \"y\": {\"delay\": 0}, \"show\": {\"delay\": 0}, \"hide\": {\"delay\": 0}, \"title\": {\"duration\": 0, \"delay\": 0}});\n",
       "window.ipyvizzu.animate(element, 'f3aaca8', '563e8c1', 'manual', false, lib => { return {\"data\": {\"filter\": record => { return (parseInt(record.Year) == 1911) }}, \"config\": {\"channels\": {\"y\": {\"set\": [\"Entity\"]}, \"x\": {\"set\": [\"Oil production (TWh)\"]}, \"label\": {\"set\": [\"Oil production (TWh)\"]}, \"color\": {\"set\": [\"Entity\"]}}, \"sort\": \"byValue\", \"title\": \"Oil Production in 1911\"}} }, {\"duration\": 1, \"x\": {\"easing\": \"linear\", \"delay\": 0}, \"y\": {\"delay\": 0}, \"show\": {\"delay\": 0}, \"hide\": {\"delay\": 0}, \"title\": {\"duration\": 0, \"delay\": 0}});\n",
       "window.ipyvizzu.animate(element, 'f3aaca8', 'ec743d7', 'manual', false, lib => { return {\"data\": {\"filter\": record => { return (parseInt(record.Year) == 1912) }}, \"config\": {\"channels\": {\"y\": {\"set\": [\"Entity\"]}, \"x\": {\"set\": [\"Oil production (TWh)\"]}, \"label\": {\"set\": [\"Oil production (TWh)\"]}, \"color\": {\"set\": [\"Entity\"]}}, \"sort\": \"byValue\", \"title\": \"Oil Production in 1912\"}} }, {\"duration\": 1, \"x\": {\"easing\": \"linear\", \"delay\": 0}, \"y\": {\"delay\": 0}, \"show\": {\"delay\": 0}, \"hide\": {\"delay\": 0}, \"title\": {\"duration\": 0, \"delay\": 0}});\n",
       "window.ipyvizzu.animate(element, 'f3aaca8', 'bb9b9cc', 'manual', false, lib => { return {\"data\": {\"filter\": record => { return (parseInt(record.Year) == 1913) }}, \"config\": {\"channels\": {\"y\": {\"set\": [\"Entity\"]}, \"x\": {\"set\": [\"Oil production (TWh)\"]}, \"label\": {\"set\": [\"Oil production (TWh)\"]}, \"color\": {\"set\": [\"Entity\"]}}, \"sort\": \"byValue\", \"title\": \"Oil Production in 1913\"}} }, {\"duration\": 1, \"x\": {\"easing\": \"linear\", \"delay\": 0}, \"y\": {\"delay\": 0}, \"show\": {\"delay\": 0}, \"hide\": {\"delay\": 0}, \"title\": {\"duration\": 0, \"delay\": 0}});\n",
       "window.ipyvizzu.animate(element, 'f3aaca8', 'da21542', 'manual', false, lib => { return {\"data\": {\"filter\": record => { return (parseInt(record.Year) == 1914) }}, \"config\": {\"channels\": {\"y\": {\"set\": [\"Entity\"]}, \"x\": {\"set\": [\"Oil production (TWh)\"]}, \"label\": {\"set\": [\"Oil production (TWh)\"]}, \"color\": {\"set\": [\"Entity\"]}}, \"sort\": \"byValue\", \"title\": \"Oil Production in 1914\"}} }, {\"duration\": 1, \"x\": {\"easing\": \"linear\", \"delay\": 0}, \"y\": {\"delay\": 0}, \"show\": {\"delay\": 0}, \"hide\": {\"delay\": 0}, \"title\": {\"duration\": 0, \"delay\": 0}});\n",
       "window.ipyvizzu.animate(element, 'f3aaca8', 'd1a986a', 'manual', false, lib => { return {\"data\": {\"filter\": record => { return (parseInt(record.Year) == 1915) }}, \"config\": {\"channels\": {\"y\": {\"set\": [\"Entity\"]}, \"x\": {\"set\": [\"Oil production (TWh)\"]}, \"label\": {\"set\": [\"Oil production (TWh)\"]}, \"color\": {\"set\": [\"Entity\"]}}, \"sort\": \"byValue\", \"title\": \"Oil Production in 1915\"}} }, {\"duration\": 1, \"x\": {\"easing\": \"linear\", \"delay\": 0}, \"y\": {\"delay\": 0}, \"show\": {\"delay\": 0}, \"hide\": {\"delay\": 0}, \"title\": {\"duration\": 0, \"delay\": 0}});\n",
       "window.ipyvizzu.animate(element, 'f3aaca8', 'e46b956', 'manual', false, lib => { return {\"data\": {\"filter\": record => { return (parseInt(record.Year) == 1916) }}, \"config\": {\"channels\": {\"y\": {\"set\": [\"Entity\"]}, \"x\": {\"set\": [\"Oil production (TWh)\"]}, \"label\": {\"set\": [\"Oil production (TWh)\"]}, \"color\": {\"set\": [\"Entity\"]}}, \"sort\": \"byValue\", \"title\": \"Oil Production in 1916\"}} }, {\"duration\": 1, \"x\": {\"easing\": \"linear\", \"delay\": 0}, \"y\": {\"delay\": 0}, \"show\": {\"delay\": 0}, \"hide\": {\"delay\": 0}, \"title\": {\"duration\": 0, \"delay\": 0}});\n",
       "window.ipyvizzu.animate(element, 'f3aaca8', 'aff6dee', 'manual', false, lib => { return {\"data\": {\"filter\": record => { return (parseInt(record.Year) == 1917) }}, \"config\": {\"channels\": {\"y\": {\"set\": [\"Entity\"]}, \"x\": {\"set\": [\"Oil production (TWh)\"]}, \"label\": {\"set\": [\"Oil production (TWh)\"]}, \"color\": {\"set\": [\"Entity\"]}}, \"sort\": \"byValue\", \"title\": \"Oil Production in 1917\"}} }, {\"duration\": 1, \"x\": {\"easing\": \"linear\", \"delay\": 0}, \"y\": {\"delay\": 0}, \"show\": {\"delay\": 0}, \"hide\": {\"delay\": 0}, \"title\": {\"duration\": 0, \"delay\": 0}});\n",
       "window.ipyvizzu.animate(element, 'f3aaca8', '93a46d6', 'manual', false, lib => { return {\"data\": {\"filter\": record => { return (parseInt(record.Year) == 1918) }}, \"config\": {\"channels\": {\"y\": {\"set\": [\"Entity\"]}, \"x\": {\"set\": [\"Oil production (TWh)\"]}, \"label\": {\"set\": [\"Oil production (TWh)\"]}, \"color\": {\"set\": [\"Entity\"]}}, \"sort\": \"byValue\", \"title\": \"Oil Production in 1918\"}} }, {\"duration\": 1, \"x\": {\"easing\": \"linear\", \"delay\": 0}, \"y\": {\"delay\": 0}, \"show\": {\"delay\": 0}, \"hide\": {\"delay\": 0}, \"title\": {\"duration\": 0, \"delay\": 0}});\n",
       "window.ipyvizzu.animate(element, 'f3aaca8', 'e5e09d5', 'manual', false, lib => { return {\"data\": {\"filter\": record => { return (parseInt(record.Year) == 1919) }}, \"config\": {\"channels\": {\"y\": {\"set\": [\"Entity\"]}, \"x\": {\"set\": [\"Oil production (TWh)\"]}, \"label\": {\"set\": [\"Oil production (TWh)\"]}, \"color\": {\"set\": [\"Entity\"]}}, \"sort\": \"byValue\", \"title\": \"Oil Production in 1919\"}} }, {\"duration\": 1, \"x\": {\"easing\": \"linear\", \"delay\": 0}, \"y\": {\"delay\": 0}, \"show\": {\"delay\": 0}, \"hide\": {\"delay\": 0}, \"title\": {\"duration\": 0, \"delay\": 0}});\n",
       "window.ipyvizzu.animate(element, 'f3aaca8', '3d56719', 'manual', false, lib => { return {\"data\": {\"filter\": record => { return (parseInt(record.Year) == 1920) }}, \"config\": {\"channels\": {\"y\": {\"set\": [\"Entity\"]}, \"x\": {\"set\": [\"Oil production (TWh)\"]}, \"label\": {\"set\": [\"Oil production (TWh)\"]}, \"color\": {\"set\": [\"Entity\"]}}, \"sort\": \"byValue\", \"title\": \"Oil Production in 1920\"}} }, {\"duration\": 1, \"x\": {\"easing\": \"linear\", \"delay\": 0}, \"y\": {\"delay\": 0}, \"show\": {\"delay\": 0}, \"hide\": {\"delay\": 0}, \"title\": {\"duration\": 0, \"delay\": 0}});\n",
       "window.ipyvizzu.animate(element, 'f3aaca8', '801e413', 'manual', false, lib => { return {\"data\": {\"filter\": record => { return (parseInt(record.Year) == 1921) }}, \"config\": {\"channels\": {\"y\": {\"set\": [\"Entity\"]}, \"x\": {\"set\": [\"Oil production (TWh)\"]}, \"label\": {\"set\": [\"Oil production (TWh)\"]}, \"color\": {\"set\": [\"Entity\"]}}, \"sort\": \"byValue\", \"title\": \"Oil Production in 1921\"}} }, {\"duration\": 1, \"x\": {\"easing\": \"linear\", \"delay\": 0}, \"y\": {\"delay\": 0}, \"show\": {\"delay\": 0}, \"hide\": {\"delay\": 0}, \"title\": {\"duration\": 0, \"delay\": 0}});\n",
       "window.ipyvizzu.animate(element, 'f3aaca8', 'a6ac51f', 'manual', false, lib => { return {\"data\": {\"filter\": record => { return (parseInt(record.Year) == 1922) }}, \"config\": {\"channels\": {\"y\": {\"set\": [\"Entity\"]}, \"x\": {\"set\": [\"Oil production (TWh)\"]}, \"label\": {\"set\": [\"Oil production (TWh)\"]}, \"color\": {\"set\": [\"Entity\"]}}, \"sort\": \"byValue\", \"title\": \"Oil Production in 1922\"}} }, {\"duration\": 1, \"x\": {\"easing\": \"linear\", \"delay\": 0}, \"y\": {\"delay\": 0}, \"show\": {\"delay\": 0}, \"hide\": {\"delay\": 0}, \"title\": {\"duration\": 0, \"delay\": 0}});\n",
       "window.ipyvizzu.animate(element, 'f3aaca8', '15cd13f', 'manual', false, lib => { return {\"data\": {\"filter\": record => { return (parseInt(record.Year) == 1923) }}, \"config\": {\"channels\": {\"y\": {\"set\": [\"Entity\"]}, \"x\": {\"set\": [\"Oil production (TWh)\"]}, \"label\": {\"set\": [\"Oil production (TWh)\"]}, \"color\": {\"set\": [\"Entity\"]}}, \"sort\": \"byValue\", \"title\": \"Oil Production in 1923\"}} }, {\"duration\": 1, \"x\": {\"easing\": \"linear\", \"delay\": 0}, \"y\": {\"delay\": 0}, \"show\": {\"delay\": 0}, \"hide\": {\"delay\": 0}, \"title\": {\"duration\": 0, \"delay\": 0}});\n",
       "window.ipyvizzu.animate(element, 'f3aaca8', 'eff619d', 'manual', false, lib => { return {\"data\": {\"filter\": record => { return (parseInt(record.Year) == 1924) }}, \"config\": {\"channels\": {\"y\": {\"set\": [\"Entity\"]}, \"x\": {\"set\": [\"Oil production (TWh)\"]}, \"label\": {\"set\": [\"Oil production (TWh)\"]}, \"color\": {\"set\": [\"Entity\"]}}, \"sort\": \"byValue\", \"title\": \"Oil Production in 1924\"}} }, {\"duration\": 1, \"x\": {\"easing\": \"linear\", \"delay\": 0}, \"y\": {\"delay\": 0}, \"show\": {\"delay\": 0}, \"hide\": {\"delay\": 0}, \"title\": {\"duration\": 0, \"delay\": 0}});\n",
       "window.ipyvizzu.animate(element, 'f3aaca8', 'aed575d', 'manual', false, lib => { return {\"data\": {\"filter\": record => { return (parseInt(record.Year) == 1925) }}, \"config\": {\"channels\": {\"y\": {\"set\": [\"Entity\"]}, \"x\": {\"set\": [\"Oil production (TWh)\"]}, \"label\": {\"set\": [\"Oil production (TWh)\"]}, \"color\": {\"set\": [\"Entity\"]}}, \"sort\": \"byValue\", \"title\": \"Oil Production in 1925\"}} }, {\"duration\": 1, \"x\": {\"easing\": \"linear\", \"delay\": 0}, \"y\": {\"delay\": 0}, \"show\": {\"delay\": 0}, \"hide\": {\"delay\": 0}, \"title\": {\"duration\": 0, \"delay\": 0}});\n",
       "window.ipyvizzu.animate(element, 'f3aaca8', '60fdedb', 'manual', false, lib => { return {\"data\": {\"filter\": record => { return (parseInt(record.Year) == 1926) }}, \"config\": {\"channels\": {\"y\": {\"set\": [\"Entity\"]}, \"x\": {\"set\": [\"Oil production (TWh)\"]}, \"label\": {\"set\": [\"Oil production (TWh)\"]}, \"color\": {\"set\": [\"Entity\"]}}, \"sort\": \"byValue\", \"title\": \"Oil Production in 1926\"}} }, {\"duration\": 1, \"x\": {\"easing\": \"linear\", \"delay\": 0}, \"y\": {\"delay\": 0}, \"show\": {\"delay\": 0}, \"hide\": {\"delay\": 0}, \"title\": {\"duration\": 0, \"delay\": 0}});\n",
       "window.ipyvizzu.animate(element, 'f3aaca8', 'e1d6416', 'manual', false, lib => { return {\"data\": {\"filter\": record => { return (parseInt(record.Year) == 1927) }}, \"config\": {\"channels\": {\"y\": {\"set\": [\"Entity\"]}, \"x\": {\"set\": [\"Oil production (TWh)\"]}, \"label\": {\"set\": [\"Oil production (TWh)\"]}, \"color\": {\"set\": [\"Entity\"]}}, \"sort\": \"byValue\", \"title\": \"Oil Production in 1927\"}} }, {\"duration\": 1, \"x\": {\"easing\": \"linear\", \"delay\": 0}, \"y\": {\"delay\": 0}, \"show\": {\"delay\": 0}, \"hide\": {\"delay\": 0}, \"title\": {\"duration\": 0, \"delay\": 0}});\n",
       "window.ipyvizzu.animate(element, 'f3aaca8', '5427a38', 'manual', false, lib => { return {\"data\": {\"filter\": record => { return (parseInt(record.Year) == 1928) }}, \"config\": {\"channels\": {\"y\": {\"set\": [\"Entity\"]}, \"x\": {\"set\": [\"Oil production (TWh)\"]}, \"label\": {\"set\": [\"Oil production (TWh)\"]}, \"color\": {\"set\": [\"Entity\"]}}, \"sort\": \"byValue\", \"title\": \"Oil Production in 1928\"}} }, {\"duration\": 1, \"x\": {\"easing\": \"linear\", \"delay\": 0}, \"y\": {\"delay\": 0}, \"show\": {\"delay\": 0}, \"hide\": {\"delay\": 0}, \"title\": {\"duration\": 0, \"delay\": 0}});\n",
       "window.ipyvizzu.animate(element, 'f3aaca8', '4a0d8e0', 'manual', false, lib => { return {\"data\": {\"filter\": record => { return (parseInt(record.Year) == 1929) }}, \"config\": {\"channels\": {\"y\": {\"set\": [\"Entity\"]}, \"x\": {\"set\": [\"Oil production (TWh)\"]}, \"label\": {\"set\": [\"Oil production (TWh)\"]}, \"color\": {\"set\": [\"Entity\"]}}, \"sort\": \"byValue\", \"title\": \"Oil Production in 1929\"}} }, {\"duration\": 1, \"x\": {\"easing\": \"linear\", \"delay\": 0}, \"y\": {\"delay\": 0}, \"show\": {\"delay\": 0}, \"hide\": {\"delay\": 0}, \"title\": {\"duration\": 0, \"delay\": 0}});\n",
       "window.ipyvizzu.animate(element, 'f3aaca8', '5b68e77', 'manual', false, lib => { return {\"data\": {\"filter\": record => { return (parseInt(record.Year) == 1930) }}, \"config\": {\"channels\": {\"y\": {\"set\": [\"Entity\"]}, \"x\": {\"set\": [\"Oil production (TWh)\"]}, \"label\": {\"set\": [\"Oil production (TWh)\"]}, \"color\": {\"set\": [\"Entity\"]}}, \"sort\": \"byValue\", \"title\": \"Oil Production in 1930\"}} }, {\"duration\": 1, \"x\": {\"easing\": \"linear\", \"delay\": 0}, \"y\": {\"delay\": 0}, \"show\": {\"delay\": 0}, \"hide\": {\"delay\": 0}, \"title\": {\"duration\": 0, \"delay\": 0}});\n",
       "window.ipyvizzu.animate(element, 'f3aaca8', 'd70720c', 'manual', false, lib => { return {\"data\": {\"filter\": record => { return (parseInt(record.Year) == 1931) }}, \"config\": {\"channels\": {\"y\": {\"set\": [\"Entity\"]}, \"x\": {\"set\": [\"Oil production (TWh)\"]}, \"label\": {\"set\": [\"Oil production (TWh)\"]}, \"color\": {\"set\": [\"Entity\"]}}, \"sort\": \"byValue\", \"title\": \"Oil Production in 1931\"}} }, {\"duration\": 1, \"x\": {\"easing\": \"linear\", \"delay\": 0}, \"y\": {\"delay\": 0}, \"show\": {\"delay\": 0}, \"hide\": {\"delay\": 0}, \"title\": {\"duration\": 0, \"delay\": 0}});\n",
       "window.ipyvizzu.animate(element, 'f3aaca8', '729443c', 'manual', false, lib => { return {\"data\": {\"filter\": record => { return (parseInt(record.Year) == 1932) }}, \"config\": {\"channels\": {\"y\": {\"set\": [\"Entity\"]}, \"x\": {\"set\": [\"Oil production (TWh)\"]}, \"label\": {\"set\": [\"Oil production (TWh)\"]}, \"color\": {\"set\": [\"Entity\"]}}, \"sort\": \"byValue\", \"title\": \"Oil Production in 1932\"}} }, {\"duration\": 1, \"x\": {\"easing\": \"linear\", \"delay\": 0}, \"y\": {\"delay\": 0}, \"show\": {\"delay\": 0}, \"hide\": {\"delay\": 0}, \"title\": {\"duration\": 0, \"delay\": 0}});\n",
       "window.ipyvizzu.animate(element, 'f3aaca8', 'd56c981', 'manual', false, lib => { return {\"data\": {\"filter\": record => { return (parseInt(record.Year) == 1933) }}, \"config\": {\"channels\": {\"y\": {\"set\": [\"Entity\"]}, \"x\": {\"set\": [\"Oil production (TWh)\"]}, \"label\": {\"set\": [\"Oil production (TWh)\"]}, \"color\": {\"set\": [\"Entity\"]}}, \"sort\": \"byValue\", \"title\": \"Oil Production in 1933\"}} }, {\"duration\": 1, \"x\": {\"easing\": \"linear\", \"delay\": 0}, \"y\": {\"delay\": 0}, \"show\": {\"delay\": 0}, \"hide\": {\"delay\": 0}, \"title\": {\"duration\": 0, \"delay\": 0}});\n",
       "window.ipyvizzu.animate(element, 'f3aaca8', 'd2709ac', 'manual', false, lib => { return {\"data\": {\"filter\": record => { return (parseInt(record.Year) == 1934) }}, \"config\": {\"channels\": {\"y\": {\"set\": [\"Entity\"]}, \"x\": {\"set\": [\"Oil production (TWh)\"]}, \"label\": {\"set\": [\"Oil production (TWh)\"]}, \"color\": {\"set\": [\"Entity\"]}}, \"sort\": \"byValue\", \"title\": \"Oil Production in 1934\"}} }, {\"duration\": 1, \"x\": {\"easing\": \"linear\", \"delay\": 0}, \"y\": {\"delay\": 0}, \"show\": {\"delay\": 0}, \"hide\": {\"delay\": 0}, \"title\": {\"duration\": 0, \"delay\": 0}});\n",
       "window.ipyvizzu.animate(element, 'f3aaca8', '6d7d42f', 'manual', false, lib => { return {\"data\": {\"filter\": record => { return (parseInt(record.Year) == 1935) }}, \"config\": {\"channels\": {\"y\": {\"set\": [\"Entity\"]}, \"x\": {\"set\": [\"Oil production (TWh)\"]}, \"label\": {\"set\": [\"Oil production (TWh)\"]}, \"color\": {\"set\": [\"Entity\"]}}, \"sort\": \"byValue\", \"title\": \"Oil Production in 1935\"}} }, {\"duration\": 1, \"x\": {\"easing\": \"linear\", \"delay\": 0}, \"y\": {\"delay\": 0}, \"show\": {\"delay\": 0}, \"hide\": {\"delay\": 0}, \"title\": {\"duration\": 0, \"delay\": 0}});\n",
       "window.ipyvizzu.animate(element, 'f3aaca8', 'e652dea', 'manual', false, lib => { return {\"data\": {\"filter\": record => { return (parseInt(record.Year) == 1936) }}, \"config\": {\"channels\": {\"y\": {\"set\": [\"Entity\"]}, \"x\": {\"set\": [\"Oil production (TWh)\"]}, \"label\": {\"set\": [\"Oil production (TWh)\"]}, \"color\": {\"set\": [\"Entity\"]}}, \"sort\": \"byValue\", \"title\": \"Oil Production in 1936\"}} }, {\"duration\": 1, \"x\": {\"easing\": \"linear\", \"delay\": 0}, \"y\": {\"delay\": 0}, \"show\": {\"delay\": 0}, \"hide\": {\"delay\": 0}, \"title\": {\"duration\": 0, \"delay\": 0}});\n",
       "window.ipyvizzu.animate(element, 'f3aaca8', 'dc6a144', 'manual', false, lib => { return {\"data\": {\"filter\": record => { return (parseInt(record.Year) == 1937) }}, \"config\": {\"channels\": {\"y\": {\"set\": [\"Entity\"]}, \"x\": {\"set\": [\"Oil production (TWh)\"]}, \"label\": {\"set\": [\"Oil production (TWh)\"]}, \"color\": {\"set\": [\"Entity\"]}}, \"sort\": \"byValue\", \"title\": \"Oil Production in 1937\"}} }, {\"duration\": 1, \"x\": {\"easing\": \"linear\", \"delay\": 0}, \"y\": {\"delay\": 0}, \"show\": {\"delay\": 0}, \"hide\": {\"delay\": 0}, \"title\": {\"duration\": 0, \"delay\": 0}});\n",
       "window.ipyvizzu.animate(element, 'f3aaca8', 'ac1e8a9', 'manual', false, lib => { return {\"data\": {\"filter\": record => { return (parseInt(record.Year) == 1938) }}, \"config\": {\"channels\": {\"y\": {\"set\": [\"Entity\"]}, \"x\": {\"set\": [\"Oil production (TWh)\"]}, \"label\": {\"set\": [\"Oil production (TWh)\"]}, \"color\": {\"set\": [\"Entity\"]}}, \"sort\": \"byValue\", \"title\": \"Oil Production in 1938\"}} }, {\"duration\": 1, \"x\": {\"easing\": \"linear\", \"delay\": 0}, \"y\": {\"delay\": 0}, \"show\": {\"delay\": 0}, \"hide\": {\"delay\": 0}, \"title\": {\"duration\": 0, \"delay\": 0}});\n",
       "window.ipyvizzu.animate(element, 'f3aaca8', '5fcd821', 'manual', false, lib => { return {\"data\": {\"filter\": record => { return (parseInt(record.Year) == 1939) }}, \"config\": {\"channels\": {\"y\": {\"set\": [\"Entity\"]}, \"x\": {\"set\": [\"Oil production (TWh)\"]}, \"label\": {\"set\": [\"Oil production (TWh)\"]}, \"color\": {\"set\": [\"Entity\"]}}, \"sort\": \"byValue\", \"title\": \"Oil Production in 1939\"}} }, {\"duration\": 1, \"x\": {\"easing\": \"linear\", \"delay\": 0}, \"y\": {\"delay\": 0}, \"show\": {\"delay\": 0}, \"hide\": {\"delay\": 0}, \"title\": {\"duration\": 0, \"delay\": 0}});\n",
       "window.ipyvizzu.animate(element, 'f3aaca8', '87da9f3', 'manual', false, lib => { return {\"data\": {\"filter\": record => { return (parseInt(record.Year) == 1940) }}, \"config\": {\"channels\": {\"y\": {\"set\": [\"Entity\"]}, \"x\": {\"set\": [\"Oil production (TWh)\"]}, \"label\": {\"set\": [\"Oil production (TWh)\"]}, \"color\": {\"set\": [\"Entity\"]}}, \"sort\": \"byValue\", \"title\": \"Oil Production in 1940\"}} }, {\"duration\": 1, \"x\": {\"easing\": \"linear\", \"delay\": 0}, \"y\": {\"delay\": 0}, \"show\": {\"delay\": 0}, \"hide\": {\"delay\": 0}, \"title\": {\"duration\": 0, \"delay\": 0}});\n",
       "window.ipyvizzu.animate(element, 'f3aaca8', '8cde8f8', 'manual', false, lib => { return {\"data\": {\"filter\": record => { return (parseInt(record.Year) == 1941) }}, \"config\": {\"channels\": {\"y\": {\"set\": [\"Entity\"]}, \"x\": {\"set\": [\"Oil production (TWh)\"]}, \"label\": {\"set\": [\"Oil production (TWh)\"]}, \"color\": {\"set\": [\"Entity\"]}}, \"sort\": \"byValue\", \"title\": \"Oil Production in 1941\"}} }, {\"duration\": 1, \"x\": {\"easing\": \"linear\", \"delay\": 0}, \"y\": {\"delay\": 0}, \"show\": {\"delay\": 0}, \"hide\": {\"delay\": 0}, \"title\": {\"duration\": 0, \"delay\": 0}});\n",
       "window.ipyvizzu.animate(element, 'f3aaca8', '4c1e16b', 'manual', false, lib => { return {\"data\": {\"filter\": record => { return (parseInt(record.Year) == 1942) }}, \"config\": {\"channels\": {\"y\": {\"set\": [\"Entity\"]}, \"x\": {\"set\": [\"Oil production (TWh)\"]}, \"label\": {\"set\": [\"Oil production (TWh)\"]}, \"color\": {\"set\": [\"Entity\"]}}, \"sort\": \"byValue\", \"title\": \"Oil Production in 1942\"}} }, {\"duration\": 1, \"x\": {\"easing\": \"linear\", \"delay\": 0}, \"y\": {\"delay\": 0}, \"show\": {\"delay\": 0}, \"hide\": {\"delay\": 0}, \"title\": {\"duration\": 0, \"delay\": 0}});\n",
       "window.ipyvizzu.animate(element, 'f3aaca8', '6494d2f', 'manual', false, lib => { return {\"data\": {\"filter\": record => { return (parseInt(record.Year) == 1943) }}, \"config\": {\"channels\": {\"y\": {\"set\": [\"Entity\"]}, \"x\": {\"set\": [\"Oil production (TWh)\"]}, \"label\": {\"set\": [\"Oil production (TWh)\"]}, \"color\": {\"set\": [\"Entity\"]}}, \"sort\": \"byValue\", \"title\": \"Oil Production in 1943\"}} }, {\"duration\": 1, \"x\": {\"easing\": \"linear\", \"delay\": 0}, \"y\": {\"delay\": 0}, \"show\": {\"delay\": 0}, \"hide\": {\"delay\": 0}, \"title\": {\"duration\": 0, \"delay\": 0}});\n",
       "window.ipyvizzu.animate(element, 'f3aaca8', '31eb057', 'manual', false, lib => { return {\"data\": {\"filter\": record => { return (parseInt(record.Year) == 1944) }}, \"config\": {\"channels\": {\"y\": {\"set\": [\"Entity\"]}, \"x\": {\"set\": [\"Oil production (TWh)\"]}, \"label\": {\"set\": [\"Oil production (TWh)\"]}, \"color\": {\"set\": [\"Entity\"]}}, \"sort\": \"byValue\", \"title\": \"Oil Production in 1944\"}} }, {\"duration\": 1, \"x\": {\"easing\": \"linear\", \"delay\": 0}, \"y\": {\"delay\": 0}, \"show\": {\"delay\": 0}, \"hide\": {\"delay\": 0}, \"title\": {\"duration\": 0, \"delay\": 0}});\n",
       "window.ipyvizzu.animate(element, 'f3aaca8', '13f31c1', 'manual', false, lib => { return {\"data\": {\"filter\": record => { return (parseInt(record.Year) == 1945) }}, \"config\": {\"channels\": {\"y\": {\"set\": [\"Entity\"]}, \"x\": {\"set\": [\"Oil production (TWh)\"]}, \"label\": {\"set\": [\"Oil production (TWh)\"]}, \"color\": {\"set\": [\"Entity\"]}}, \"sort\": \"byValue\", \"title\": \"Oil Production in 1945\"}} }, {\"duration\": 1, \"x\": {\"easing\": \"linear\", \"delay\": 0}, \"y\": {\"delay\": 0}, \"show\": {\"delay\": 0}, \"hide\": {\"delay\": 0}, \"title\": {\"duration\": 0, \"delay\": 0}});\n",
       "window.ipyvizzu.animate(element, 'f3aaca8', '686d3b7', 'manual', false, lib => { return {\"data\": {\"filter\": record => { return (parseInt(record.Year) == 1946) }}, \"config\": {\"channels\": {\"y\": {\"set\": [\"Entity\"]}, \"x\": {\"set\": [\"Oil production (TWh)\"]}, \"label\": {\"set\": [\"Oil production (TWh)\"]}, \"color\": {\"set\": [\"Entity\"]}}, \"sort\": \"byValue\", \"title\": \"Oil Production in 1946\"}} }, {\"duration\": 1, \"x\": {\"easing\": \"linear\", \"delay\": 0}, \"y\": {\"delay\": 0}, \"show\": {\"delay\": 0}, \"hide\": {\"delay\": 0}, \"title\": {\"duration\": 0, \"delay\": 0}});\n",
       "window.ipyvizzu.animate(element, 'f3aaca8', '4496c5b', 'manual', false, lib => { return {\"data\": {\"filter\": record => { return (parseInt(record.Year) == 1947) }}, \"config\": {\"channels\": {\"y\": {\"set\": [\"Entity\"]}, \"x\": {\"set\": [\"Oil production (TWh)\"]}, \"label\": {\"set\": [\"Oil production (TWh)\"]}, \"color\": {\"set\": [\"Entity\"]}}, \"sort\": \"byValue\", \"title\": \"Oil Production in 1947\"}} }, {\"duration\": 1, \"x\": {\"easing\": \"linear\", \"delay\": 0}, \"y\": {\"delay\": 0}, \"show\": {\"delay\": 0}, \"hide\": {\"delay\": 0}, \"title\": {\"duration\": 0, \"delay\": 0}});\n",
       "window.ipyvizzu.animate(element, 'f3aaca8', '2bea053', 'manual', false, lib => { return {\"data\": {\"filter\": record => { return (parseInt(record.Year) == 1948) }}, \"config\": {\"channels\": {\"y\": {\"set\": [\"Entity\"]}, \"x\": {\"set\": [\"Oil production (TWh)\"]}, \"label\": {\"set\": [\"Oil production (TWh)\"]}, \"color\": {\"set\": [\"Entity\"]}}, \"sort\": \"byValue\", \"title\": \"Oil Production in 1948\"}} }, {\"duration\": 1, \"x\": {\"easing\": \"linear\", \"delay\": 0}, \"y\": {\"delay\": 0}, \"show\": {\"delay\": 0}, \"hide\": {\"delay\": 0}, \"title\": {\"duration\": 0, \"delay\": 0}});\n",
       "window.ipyvizzu.animate(element, 'f3aaca8', 'ddc8c33', 'manual', false, lib => { return {\"data\": {\"filter\": record => { return (parseInt(record.Year) == 1949) }}, \"config\": {\"channels\": {\"y\": {\"set\": [\"Entity\"]}, \"x\": {\"set\": [\"Oil production (TWh)\"]}, \"label\": {\"set\": [\"Oil production (TWh)\"]}, \"color\": {\"set\": [\"Entity\"]}}, \"sort\": \"byValue\", \"title\": \"Oil Production in 1949\"}} }, {\"duration\": 1, \"x\": {\"easing\": \"linear\", \"delay\": 0}, \"y\": {\"delay\": 0}, \"show\": {\"delay\": 0}, \"hide\": {\"delay\": 0}, \"title\": {\"duration\": 0, \"delay\": 0}});\n",
       "window.ipyvizzu.animate(element, 'f3aaca8', 'a1b4527', 'manual', false, lib => { return {\"data\": {\"filter\": record => { return (parseInt(record.Year) == 1950) }}, \"config\": {\"channels\": {\"y\": {\"set\": [\"Entity\"]}, \"x\": {\"set\": [\"Oil production (TWh)\"]}, \"label\": {\"set\": [\"Oil production (TWh)\"]}, \"color\": {\"set\": [\"Entity\"]}}, \"sort\": \"byValue\", \"title\": \"Oil Production in 1950\"}} }, {\"duration\": 1, \"x\": {\"easing\": \"linear\", \"delay\": 0}, \"y\": {\"delay\": 0}, \"show\": {\"delay\": 0}, \"hide\": {\"delay\": 0}, \"title\": {\"duration\": 0, \"delay\": 0}});\n",
       "window.ipyvizzu.animate(element, 'f3aaca8', '9ea81d2', 'manual', false, lib => { return {\"data\": {\"filter\": record => { return (parseInt(record.Year) == 1951) }}, \"config\": {\"channels\": {\"y\": {\"set\": [\"Entity\"]}, \"x\": {\"set\": [\"Oil production (TWh)\"]}, \"label\": {\"set\": [\"Oil production (TWh)\"]}, \"color\": {\"set\": [\"Entity\"]}}, \"sort\": \"byValue\", \"title\": \"Oil Production in 1951\"}} }, {\"duration\": 1, \"x\": {\"easing\": \"linear\", \"delay\": 0}, \"y\": {\"delay\": 0}, \"show\": {\"delay\": 0}, \"hide\": {\"delay\": 0}, \"title\": {\"duration\": 0, \"delay\": 0}});\n",
       "window.ipyvizzu.animate(element, 'f3aaca8', 'b1ad0d0', 'manual', false, lib => { return {\"data\": {\"filter\": record => { return (parseInt(record.Year) == 1952) }}, \"config\": {\"channels\": {\"y\": {\"set\": [\"Entity\"]}, \"x\": {\"set\": [\"Oil production (TWh)\"]}, \"label\": {\"set\": [\"Oil production (TWh)\"]}, \"color\": {\"set\": [\"Entity\"]}}, \"sort\": \"byValue\", \"title\": \"Oil Production in 1952\"}} }, {\"duration\": 1, \"x\": {\"easing\": \"linear\", \"delay\": 0}, \"y\": {\"delay\": 0}, \"show\": {\"delay\": 0}, \"hide\": {\"delay\": 0}, \"title\": {\"duration\": 0, \"delay\": 0}});\n",
       "window.ipyvizzu.animate(element, 'f3aaca8', '8434811', 'manual', false, lib => { return {\"data\": {\"filter\": record => { return (parseInt(record.Year) == 1953) }}, \"config\": {\"channels\": {\"y\": {\"set\": [\"Entity\"]}, \"x\": {\"set\": [\"Oil production (TWh)\"]}, \"label\": {\"set\": [\"Oil production (TWh)\"]}, \"color\": {\"set\": [\"Entity\"]}}, \"sort\": \"byValue\", \"title\": \"Oil Production in 1953\"}} }, {\"duration\": 1, \"x\": {\"easing\": \"linear\", \"delay\": 0}, \"y\": {\"delay\": 0}, \"show\": {\"delay\": 0}, \"hide\": {\"delay\": 0}, \"title\": {\"duration\": 0, \"delay\": 0}});\n",
       "window.ipyvizzu.animate(element, 'f3aaca8', 'c986e50', 'manual', false, lib => { return {\"data\": {\"filter\": record => { return (parseInt(record.Year) == 1954) }}, \"config\": {\"channels\": {\"y\": {\"set\": [\"Entity\"]}, \"x\": {\"set\": [\"Oil production (TWh)\"]}, \"label\": {\"set\": [\"Oil production (TWh)\"]}, \"color\": {\"set\": [\"Entity\"]}}, \"sort\": \"byValue\", \"title\": \"Oil Production in 1954\"}} }, {\"duration\": 1, \"x\": {\"easing\": \"linear\", \"delay\": 0}, \"y\": {\"delay\": 0}, \"show\": {\"delay\": 0}, \"hide\": {\"delay\": 0}, \"title\": {\"duration\": 0, \"delay\": 0}});\n",
       "window.ipyvizzu.animate(element, 'f3aaca8', '026add6', 'manual', false, lib => { return {\"data\": {\"filter\": record => { return (parseInt(record.Year) == 1955) }}, \"config\": {\"channels\": {\"y\": {\"set\": [\"Entity\"]}, \"x\": {\"set\": [\"Oil production (TWh)\"]}, \"label\": {\"set\": [\"Oil production (TWh)\"]}, \"color\": {\"set\": [\"Entity\"]}}, \"sort\": \"byValue\", \"title\": \"Oil Production in 1955\"}} }, {\"duration\": 1, \"x\": {\"easing\": \"linear\", \"delay\": 0}, \"y\": {\"delay\": 0}, \"show\": {\"delay\": 0}, \"hide\": {\"delay\": 0}, \"title\": {\"duration\": 0, \"delay\": 0}});\n",
       "window.ipyvizzu.animate(element, 'f3aaca8', '7ebffd4', 'manual', false, lib => { return {\"data\": {\"filter\": record => { return (parseInt(record.Year) == 1956) }}, \"config\": {\"channels\": {\"y\": {\"set\": [\"Entity\"]}, \"x\": {\"set\": [\"Oil production (TWh)\"]}, \"label\": {\"set\": [\"Oil production (TWh)\"]}, \"color\": {\"set\": [\"Entity\"]}}, \"sort\": \"byValue\", \"title\": \"Oil Production in 1956\"}} }, {\"duration\": 1, \"x\": {\"easing\": \"linear\", \"delay\": 0}, \"y\": {\"delay\": 0}, \"show\": {\"delay\": 0}, \"hide\": {\"delay\": 0}, \"title\": {\"duration\": 0, \"delay\": 0}});\n",
       "window.ipyvizzu.animate(element, 'f3aaca8', 'bc78bcb', 'manual', false, lib => { return {\"data\": {\"filter\": record => { return (parseInt(record.Year) == 1957) }}, \"config\": {\"channels\": {\"y\": {\"set\": [\"Entity\"]}, \"x\": {\"set\": [\"Oil production (TWh)\"]}, \"label\": {\"set\": [\"Oil production (TWh)\"]}, \"color\": {\"set\": [\"Entity\"]}}, \"sort\": \"byValue\", \"title\": \"Oil Production in 1957\"}} }, {\"duration\": 1, \"x\": {\"easing\": \"linear\", \"delay\": 0}, \"y\": {\"delay\": 0}, \"show\": {\"delay\": 0}, \"hide\": {\"delay\": 0}, \"title\": {\"duration\": 0, \"delay\": 0}});\n",
       "window.ipyvizzu.animate(element, 'f3aaca8', '0059870', 'manual', false, lib => { return {\"data\": {\"filter\": record => { return (parseInt(record.Year) == 1958) }}, \"config\": {\"channels\": {\"y\": {\"set\": [\"Entity\"]}, \"x\": {\"set\": [\"Oil production (TWh)\"]}, \"label\": {\"set\": [\"Oil production (TWh)\"]}, \"color\": {\"set\": [\"Entity\"]}}, \"sort\": \"byValue\", \"title\": \"Oil Production in 1958\"}} }, {\"duration\": 1, \"x\": {\"easing\": \"linear\", \"delay\": 0}, \"y\": {\"delay\": 0}, \"show\": {\"delay\": 0}, \"hide\": {\"delay\": 0}, \"title\": {\"duration\": 0, \"delay\": 0}});\n",
       "window.ipyvizzu.animate(element, 'f3aaca8', '7499864', 'manual', false, lib => { return {\"data\": {\"filter\": record => { return (parseInt(record.Year) == 1959) }}, \"config\": {\"channels\": {\"y\": {\"set\": [\"Entity\"]}, \"x\": {\"set\": [\"Oil production (TWh)\"]}, \"label\": {\"set\": [\"Oil production (TWh)\"]}, \"color\": {\"set\": [\"Entity\"]}}, \"sort\": \"byValue\", \"title\": \"Oil Production in 1959\"}} }, {\"duration\": 1, \"x\": {\"easing\": \"linear\", \"delay\": 0}, \"y\": {\"delay\": 0}, \"show\": {\"delay\": 0}, \"hide\": {\"delay\": 0}, \"title\": {\"duration\": 0, \"delay\": 0}});\n",
       "window.ipyvizzu.animate(element, 'f3aaca8', '36d68ba', 'manual', false, lib => { return {\"data\": {\"filter\": record => { return (parseInt(record.Year) == 1960) }}, \"config\": {\"channels\": {\"y\": {\"set\": [\"Entity\"]}, \"x\": {\"set\": [\"Oil production (TWh)\"]}, \"label\": {\"set\": [\"Oil production (TWh)\"]}, \"color\": {\"set\": [\"Entity\"]}}, \"sort\": \"byValue\", \"title\": \"Oil Production in 1960\"}} }, {\"duration\": 1, \"x\": {\"easing\": \"linear\", \"delay\": 0}, \"y\": {\"delay\": 0}, \"show\": {\"delay\": 0}, \"hide\": {\"delay\": 0}, \"title\": {\"duration\": 0, \"delay\": 0}});\n",
       "window.ipyvizzu.animate(element, 'f3aaca8', '606c3c4', 'manual', false, lib => { return {\"data\": {\"filter\": record => { return (parseInt(record.Year) == 1961) }}, \"config\": {\"channels\": {\"y\": {\"set\": [\"Entity\"]}, \"x\": {\"set\": [\"Oil production (TWh)\"]}, \"label\": {\"set\": [\"Oil production (TWh)\"]}, \"color\": {\"set\": [\"Entity\"]}}, \"sort\": \"byValue\", \"title\": \"Oil Production in 1961\"}} }, {\"duration\": 1, \"x\": {\"easing\": \"linear\", \"delay\": 0}, \"y\": {\"delay\": 0}, \"show\": {\"delay\": 0}, \"hide\": {\"delay\": 0}, \"title\": {\"duration\": 0, \"delay\": 0}});\n",
       "window.ipyvizzu.animate(element, 'f3aaca8', 'ea77f03', 'manual', false, lib => { return {\"data\": {\"filter\": record => { return (parseInt(record.Year) == 1962) }}, \"config\": {\"channels\": {\"y\": {\"set\": [\"Entity\"]}, \"x\": {\"set\": [\"Oil production (TWh)\"]}, \"label\": {\"set\": [\"Oil production (TWh)\"]}, \"color\": {\"set\": [\"Entity\"]}}, \"sort\": \"byValue\", \"title\": \"Oil Production in 1962\"}} }, {\"duration\": 1, \"x\": {\"easing\": \"linear\", \"delay\": 0}, \"y\": {\"delay\": 0}, \"show\": {\"delay\": 0}, \"hide\": {\"delay\": 0}, \"title\": {\"duration\": 0, \"delay\": 0}});\n",
       "window.ipyvizzu.animate(element, 'f3aaca8', 'cd509fe', 'manual', false, lib => { return {\"data\": {\"filter\": record => { return (parseInt(record.Year) == 1963) }}, \"config\": {\"channels\": {\"y\": {\"set\": [\"Entity\"]}, \"x\": {\"set\": [\"Oil production (TWh)\"]}, \"label\": {\"set\": [\"Oil production (TWh)\"]}, \"color\": {\"set\": [\"Entity\"]}}, \"sort\": \"byValue\", \"title\": \"Oil Production in 1963\"}} }, {\"duration\": 1, \"x\": {\"easing\": \"linear\", \"delay\": 0}, \"y\": {\"delay\": 0}, \"show\": {\"delay\": 0}, \"hide\": {\"delay\": 0}, \"title\": {\"duration\": 0, \"delay\": 0}});\n",
       "window.ipyvizzu.animate(element, 'f3aaca8', '200884c', 'manual', false, lib => { return {\"data\": {\"filter\": record => { return (parseInt(record.Year) == 1964) }}, \"config\": {\"channels\": {\"y\": {\"set\": [\"Entity\"]}, \"x\": {\"set\": [\"Oil production (TWh)\"]}, \"label\": {\"set\": [\"Oil production (TWh)\"]}, \"color\": {\"set\": [\"Entity\"]}}, \"sort\": \"byValue\", \"title\": \"Oil Production in 1964\"}} }, {\"duration\": 1, \"x\": {\"easing\": \"linear\", \"delay\": 0}, \"y\": {\"delay\": 0}, \"show\": {\"delay\": 0}, \"hide\": {\"delay\": 0}, \"title\": {\"duration\": 0, \"delay\": 0}});\n",
       "window.ipyvizzu.animate(element, 'f3aaca8', 'f115960', 'manual', false, lib => { return {\"data\": {\"filter\": record => { return (parseInt(record.Year) == 1965) }}, \"config\": {\"channels\": {\"y\": {\"set\": [\"Entity\"]}, \"x\": {\"set\": [\"Oil production (TWh)\"]}, \"label\": {\"set\": [\"Oil production (TWh)\"]}, \"color\": {\"set\": [\"Entity\"]}}, \"sort\": \"byValue\", \"title\": \"Oil Production in 1965\"}} }, {\"duration\": 1, \"x\": {\"easing\": \"linear\", \"delay\": 0}, \"y\": {\"delay\": 0}, \"show\": {\"delay\": 0}, \"hide\": {\"delay\": 0}, \"title\": {\"duration\": 0, \"delay\": 0}});\n",
       "window.ipyvizzu.animate(element, 'f3aaca8', '75ee49e', 'manual', false, lib => { return {\"data\": {\"filter\": record => { return (parseInt(record.Year) == 1966) }}, \"config\": {\"channels\": {\"y\": {\"set\": [\"Entity\"]}, \"x\": {\"set\": [\"Oil production (TWh)\"]}, \"label\": {\"set\": [\"Oil production (TWh)\"]}, \"color\": {\"set\": [\"Entity\"]}}, \"sort\": \"byValue\", \"title\": \"Oil Production in 1966\"}} }, {\"duration\": 1, \"x\": {\"easing\": \"linear\", \"delay\": 0}, \"y\": {\"delay\": 0}, \"show\": {\"delay\": 0}, \"hide\": {\"delay\": 0}, \"title\": {\"duration\": 0, \"delay\": 0}});\n",
       "window.ipyvizzu.animate(element, 'f3aaca8', 'f85372b', 'manual', false, lib => { return {\"data\": {\"filter\": record => { return (parseInt(record.Year) == 1967) }}, \"config\": {\"channels\": {\"y\": {\"set\": [\"Entity\"]}, \"x\": {\"set\": [\"Oil production (TWh)\"]}, \"label\": {\"set\": [\"Oil production (TWh)\"]}, \"color\": {\"set\": [\"Entity\"]}}, \"sort\": \"byValue\", \"title\": \"Oil Production in 1967\"}} }, {\"duration\": 1, \"x\": {\"easing\": \"linear\", \"delay\": 0}, \"y\": {\"delay\": 0}, \"show\": {\"delay\": 0}, \"hide\": {\"delay\": 0}, \"title\": {\"duration\": 0, \"delay\": 0}});\n",
       "window.ipyvizzu.animate(element, 'f3aaca8', '3477c4d', 'manual', false, lib => { return {\"data\": {\"filter\": record => { return (parseInt(record.Year) == 1968) }}, \"config\": {\"channels\": {\"y\": {\"set\": [\"Entity\"]}, \"x\": {\"set\": [\"Oil production (TWh)\"]}, \"label\": {\"set\": [\"Oil production (TWh)\"]}, \"color\": {\"set\": [\"Entity\"]}}, \"sort\": \"byValue\", \"title\": \"Oil Production in 1968\"}} }, {\"duration\": 1, \"x\": {\"easing\": \"linear\", \"delay\": 0}, \"y\": {\"delay\": 0}, \"show\": {\"delay\": 0}, \"hide\": {\"delay\": 0}, \"title\": {\"duration\": 0, \"delay\": 0}});\n",
       "window.ipyvizzu.animate(element, 'f3aaca8', '9db68fb', 'manual', false, lib => { return {\"data\": {\"filter\": record => { return (parseInt(record.Year) == 1969) }}, \"config\": {\"channels\": {\"y\": {\"set\": [\"Entity\"]}, \"x\": {\"set\": [\"Oil production (TWh)\"]}, \"label\": {\"set\": [\"Oil production (TWh)\"]}, \"color\": {\"set\": [\"Entity\"]}}, \"sort\": \"byValue\", \"title\": \"Oil Production in 1969\"}} }, {\"duration\": 1, \"x\": {\"easing\": \"linear\", \"delay\": 0}, \"y\": {\"delay\": 0}, \"show\": {\"delay\": 0}, \"hide\": {\"delay\": 0}, \"title\": {\"duration\": 0, \"delay\": 0}});\n",
       "window.ipyvizzu.animate(element, 'f3aaca8', 'e5bc36b', 'manual', false, lib => { return {\"data\": {\"filter\": record => { return (parseInt(record.Year) == 1970) }}, \"config\": {\"channels\": {\"y\": {\"set\": [\"Entity\"]}, \"x\": {\"set\": [\"Oil production (TWh)\"]}, \"label\": {\"set\": [\"Oil production (TWh)\"]}, \"color\": {\"set\": [\"Entity\"]}}, \"sort\": \"byValue\", \"title\": \"Oil Production in 1970\"}} }, {\"duration\": 1, \"x\": {\"easing\": \"linear\", \"delay\": 0}, \"y\": {\"delay\": 0}, \"show\": {\"delay\": 0}, \"hide\": {\"delay\": 0}, \"title\": {\"duration\": 0, \"delay\": 0}});\n",
       "window.ipyvizzu.animate(element, 'f3aaca8', '8c3c5e3', 'manual', false, lib => { return {\"data\": {\"filter\": record => { return (parseInt(record.Year) == 1971) }}, \"config\": {\"channels\": {\"y\": {\"set\": [\"Entity\"]}, \"x\": {\"set\": [\"Oil production (TWh)\"]}, \"label\": {\"set\": [\"Oil production (TWh)\"]}, \"color\": {\"set\": [\"Entity\"]}}, \"sort\": \"byValue\", \"title\": \"Oil Production in 1971\"}} }, {\"duration\": 1, \"x\": {\"easing\": \"linear\", \"delay\": 0}, \"y\": {\"delay\": 0}, \"show\": {\"delay\": 0}, \"hide\": {\"delay\": 0}, \"title\": {\"duration\": 0, \"delay\": 0}});\n",
       "window.ipyvizzu.animate(element, 'f3aaca8', '1434f9a', 'manual', false, lib => { return {\"data\": {\"filter\": record => { return (parseInt(record.Year) == 1972) }}, \"config\": {\"channels\": {\"y\": {\"set\": [\"Entity\"]}, \"x\": {\"set\": [\"Oil production (TWh)\"]}, \"label\": {\"set\": [\"Oil production (TWh)\"]}, \"color\": {\"set\": [\"Entity\"]}}, \"sort\": \"byValue\", \"title\": \"Oil Production in 1972\"}} }, {\"duration\": 1, \"x\": {\"easing\": \"linear\", \"delay\": 0}, \"y\": {\"delay\": 0}, \"show\": {\"delay\": 0}, \"hide\": {\"delay\": 0}, \"title\": {\"duration\": 0, \"delay\": 0}});\n",
       "window.ipyvizzu.animate(element, 'f3aaca8', 'd16c862', 'manual', false, lib => { return {\"data\": {\"filter\": record => { return (parseInt(record.Year) == 1973) }}, \"config\": {\"channels\": {\"y\": {\"set\": [\"Entity\"]}, \"x\": {\"set\": [\"Oil production (TWh)\"]}, \"label\": {\"set\": [\"Oil production (TWh)\"]}, \"color\": {\"set\": [\"Entity\"]}}, \"sort\": \"byValue\", \"title\": \"Oil Production in 1973\"}} }, {\"duration\": 1, \"x\": {\"easing\": \"linear\", \"delay\": 0}, \"y\": {\"delay\": 0}, \"show\": {\"delay\": 0}, \"hide\": {\"delay\": 0}, \"title\": {\"duration\": 0, \"delay\": 0}});\n",
       "window.ipyvizzu.animate(element, 'f3aaca8', 'a511729', 'manual', false, lib => { return {\"data\": {\"filter\": record => { return (parseInt(record.Year) == 1974) }}, \"config\": {\"channels\": {\"y\": {\"set\": [\"Entity\"]}, \"x\": {\"set\": [\"Oil production (TWh)\"]}, \"label\": {\"set\": [\"Oil production (TWh)\"]}, \"color\": {\"set\": [\"Entity\"]}}, \"sort\": \"byValue\", \"title\": \"Oil Production in 1974\"}} }, {\"duration\": 1, \"x\": {\"easing\": \"linear\", \"delay\": 0}, \"y\": {\"delay\": 0}, \"show\": {\"delay\": 0}, \"hide\": {\"delay\": 0}, \"title\": {\"duration\": 0, \"delay\": 0}});\n",
       "window.ipyvizzu.animate(element, 'f3aaca8', '76a55be', 'manual', false, lib => { return {\"data\": {\"filter\": record => { return (parseInt(record.Year) == 1975) }}, \"config\": {\"channels\": {\"y\": {\"set\": [\"Entity\"]}, \"x\": {\"set\": [\"Oil production (TWh)\"]}, \"label\": {\"set\": [\"Oil production (TWh)\"]}, \"color\": {\"set\": [\"Entity\"]}}, \"sort\": \"byValue\", \"title\": \"Oil Production in 1975\"}} }, {\"duration\": 1, \"x\": {\"easing\": \"linear\", \"delay\": 0}, \"y\": {\"delay\": 0}, \"show\": {\"delay\": 0}, \"hide\": {\"delay\": 0}, \"title\": {\"duration\": 0, \"delay\": 0}});\n",
       "window.ipyvizzu.animate(element, 'f3aaca8', '4012868', 'manual', false, lib => { return {\"data\": {\"filter\": record => { return (parseInt(record.Year) == 1976) }}, \"config\": {\"channels\": {\"y\": {\"set\": [\"Entity\"]}, \"x\": {\"set\": [\"Oil production (TWh)\"]}, \"label\": {\"set\": [\"Oil production (TWh)\"]}, \"color\": {\"set\": [\"Entity\"]}}, \"sort\": \"byValue\", \"title\": \"Oil Production in 1976\"}} }, {\"duration\": 1, \"x\": {\"easing\": \"linear\", \"delay\": 0}, \"y\": {\"delay\": 0}, \"show\": {\"delay\": 0}, \"hide\": {\"delay\": 0}, \"title\": {\"duration\": 0, \"delay\": 0}});\n",
       "window.ipyvizzu.animate(element, 'f3aaca8', '8e52057', 'manual', false, lib => { return {\"data\": {\"filter\": record => { return (parseInt(record.Year) == 1977) }}, \"config\": {\"channels\": {\"y\": {\"set\": [\"Entity\"]}, \"x\": {\"set\": [\"Oil production (TWh)\"]}, \"label\": {\"set\": [\"Oil production (TWh)\"]}, \"color\": {\"set\": [\"Entity\"]}}, \"sort\": \"byValue\", \"title\": \"Oil Production in 1977\"}} }, {\"duration\": 1, \"x\": {\"easing\": \"linear\", \"delay\": 0}, \"y\": {\"delay\": 0}, \"show\": {\"delay\": 0}, \"hide\": {\"delay\": 0}, \"title\": {\"duration\": 0, \"delay\": 0}});\n",
       "window.ipyvizzu.animate(element, 'f3aaca8', 'e92ab95', 'manual', false, lib => { return {\"data\": {\"filter\": record => { return (parseInt(record.Year) == 1978) }}, \"config\": {\"channels\": {\"y\": {\"set\": [\"Entity\"]}, \"x\": {\"set\": [\"Oil production (TWh)\"]}, \"label\": {\"set\": [\"Oil production (TWh)\"]}, \"color\": {\"set\": [\"Entity\"]}}, \"sort\": \"byValue\", \"title\": \"Oil Production in 1978\"}} }, {\"duration\": 1, \"x\": {\"easing\": \"linear\", \"delay\": 0}, \"y\": {\"delay\": 0}, \"show\": {\"delay\": 0}, \"hide\": {\"delay\": 0}, \"title\": {\"duration\": 0, \"delay\": 0}});\n",
       "window.ipyvizzu.animate(element, 'f3aaca8', 'd1452d3', 'manual', false, lib => { return {\"data\": {\"filter\": record => { return (parseInt(record.Year) == 1979) }}, \"config\": {\"channels\": {\"y\": {\"set\": [\"Entity\"]}, \"x\": {\"set\": [\"Oil production (TWh)\"]}, \"label\": {\"set\": [\"Oil production (TWh)\"]}, \"color\": {\"set\": [\"Entity\"]}}, \"sort\": \"byValue\", \"title\": \"Oil Production in 1979\"}} }, {\"duration\": 1, \"x\": {\"easing\": \"linear\", \"delay\": 0}, \"y\": {\"delay\": 0}, \"show\": {\"delay\": 0}, \"hide\": {\"delay\": 0}, \"title\": {\"duration\": 0, \"delay\": 0}});\n",
       "window.ipyvizzu.animate(element, 'f3aaca8', '7112d34', 'manual', false, lib => { return {\"data\": {\"filter\": record => { return (parseInt(record.Year) == 1980) }}, \"config\": {\"channels\": {\"y\": {\"set\": [\"Entity\"]}, \"x\": {\"set\": [\"Oil production (TWh)\"]}, \"label\": {\"set\": [\"Oil production (TWh)\"]}, \"color\": {\"set\": [\"Entity\"]}}, \"sort\": \"byValue\", \"title\": \"Oil Production in 1980\"}} }, {\"duration\": 1, \"x\": {\"easing\": \"linear\", \"delay\": 0}, \"y\": {\"delay\": 0}, \"show\": {\"delay\": 0}, \"hide\": {\"delay\": 0}, \"title\": {\"duration\": 0, \"delay\": 0}});\n",
       "window.ipyvizzu.animate(element, 'f3aaca8', '74ce38c', 'manual', false, lib => { return {\"data\": {\"filter\": record => { return (parseInt(record.Year) == 1981) }}, \"config\": {\"channels\": {\"y\": {\"set\": [\"Entity\"]}, \"x\": {\"set\": [\"Oil production (TWh)\"]}, \"label\": {\"set\": [\"Oil production (TWh)\"]}, \"color\": {\"set\": [\"Entity\"]}}, \"sort\": \"byValue\", \"title\": \"Oil Production in 1981\"}} }, {\"duration\": 1, \"x\": {\"easing\": \"linear\", \"delay\": 0}, \"y\": {\"delay\": 0}, \"show\": {\"delay\": 0}, \"hide\": {\"delay\": 0}, \"title\": {\"duration\": 0, \"delay\": 0}});\n",
       "window.ipyvizzu.animate(element, 'f3aaca8', 'ef667dd', 'manual', false, lib => { return {\"data\": {\"filter\": record => { return (parseInt(record.Year) == 1982) }}, \"config\": {\"channels\": {\"y\": {\"set\": [\"Entity\"]}, \"x\": {\"set\": [\"Oil production (TWh)\"]}, \"label\": {\"set\": [\"Oil production (TWh)\"]}, \"color\": {\"set\": [\"Entity\"]}}, \"sort\": \"byValue\", \"title\": \"Oil Production in 1982\"}} }, {\"duration\": 1, \"x\": {\"easing\": \"linear\", \"delay\": 0}, \"y\": {\"delay\": 0}, \"show\": {\"delay\": 0}, \"hide\": {\"delay\": 0}, \"title\": {\"duration\": 0, \"delay\": 0}});\n",
       "window.ipyvizzu.animate(element, 'f3aaca8', '34c60a4', 'manual', false, lib => { return {\"data\": {\"filter\": record => { return (parseInt(record.Year) == 1983) }}, \"config\": {\"channels\": {\"y\": {\"set\": [\"Entity\"]}, \"x\": {\"set\": [\"Oil production (TWh)\"]}, \"label\": {\"set\": [\"Oil production (TWh)\"]}, \"color\": {\"set\": [\"Entity\"]}}, \"sort\": \"byValue\", \"title\": \"Oil Production in 1983\"}} }, {\"duration\": 1, \"x\": {\"easing\": \"linear\", \"delay\": 0}, \"y\": {\"delay\": 0}, \"show\": {\"delay\": 0}, \"hide\": {\"delay\": 0}, \"title\": {\"duration\": 0, \"delay\": 0}});\n",
       "window.ipyvizzu.animate(element, 'f3aaca8', '2a14b7e', 'manual', false, lib => { return {\"data\": {\"filter\": record => { return (parseInt(record.Year) == 1984) }}, \"config\": {\"channels\": {\"y\": {\"set\": [\"Entity\"]}, \"x\": {\"set\": [\"Oil production (TWh)\"]}, \"label\": {\"set\": [\"Oil production (TWh)\"]}, \"color\": {\"set\": [\"Entity\"]}}, \"sort\": \"byValue\", \"title\": \"Oil Production in 1984\"}} }, {\"duration\": 1, \"x\": {\"easing\": \"linear\", \"delay\": 0}, \"y\": {\"delay\": 0}, \"show\": {\"delay\": 0}, \"hide\": {\"delay\": 0}, \"title\": {\"duration\": 0, \"delay\": 0}});\n",
       "window.ipyvizzu.animate(element, 'f3aaca8', '9a2cdd1', 'manual', false, lib => { return {\"data\": {\"filter\": record => { return (parseInt(record.Year) == 1985) }}, \"config\": {\"channels\": {\"y\": {\"set\": [\"Entity\"]}, \"x\": {\"set\": [\"Oil production (TWh)\"]}, \"label\": {\"set\": [\"Oil production (TWh)\"]}, \"color\": {\"set\": [\"Entity\"]}}, \"sort\": \"byValue\", \"title\": \"Oil Production in 1985\"}} }, {\"duration\": 1, \"x\": {\"easing\": \"linear\", \"delay\": 0}, \"y\": {\"delay\": 0}, \"show\": {\"delay\": 0}, \"hide\": {\"delay\": 0}, \"title\": {\"duration\": 0, \"delay\": 0}});\n",
       "window.ipyvizzu.animate(element, 'f3aaca8', '4d405a5', 'manual', false, lib => { return {\"data\": {\"filter\": record => { return (parseInt(record.Year) == 1986) }}, \"config\": {\"channels\": {\"y\": {\"set\": [\"Entity\"]}, \"x\": {\"set\": [\"Oil production (TWh)\"]}, \"label\": {\"set\": [\"Oil production (TWh)\"]}, \"color\": {\"set\": [\"Entity\"]}}, \"sort\": \"byValue\", \"title\": \"Oil Production in 1986\"}} }, {\"duration\": 1, \"x\": {\"easing\": \"linear\", \"delay\": 0}, \"y\": {\"delay\": 0}, \"show\": {\"delay\": 0}, \"hide\": {\"delay\": 0}, \"title\": {\"duration\": 0, \"delay\": 0}});\n",
       "window.ipyvizzu.animate(element, 'f3aaca8', '724ac4f', 'manual', false, lib => { return {\"data\": {\"filter\": record => { return (parseInt(record.Year) == 1987) }}, \"config\": {\"channels\": {\"y\": {\"set\": [\"Entity\"]}, \"x\": {\"set\": [\"Oil production (TWh)\"]}, \"label\": {\"set\": [\"Oil production (TWh)\"]}, \"color\": {\"set\": [\"Entity\"]}}, \"sort\": \"byValue\", \"title\": \"Oil Production in 1987\"}} }, {\"duration\": 1, \"x\": {\"easing\": \"linear\", \"delay\": 0}, \"y\": {\"delay\": 0}, \"show\": {\"delay\": 0}, \"hide\": {\"delay\": 0}, \"title\": {\"duration\": 0, \"delay\": 0}});\n",
       "window.ipyvizzu.animate(element, 'f3aaca8', 'c2fb926', 'manual', false, lib => { return {\"data\": {\"filter\": record => { return (parseInt(record.Year) == 1988) }}, \"config\": {\"channels\": {\"y\": {\"set\": [\"Entity\"]}, \"x\": {\"set\": [\"Oil production (TWh)\"]}, \"label\": {\"set\": [\"Oil production (TWh)\"]}, \"color\": {\"set\": [\"Entity\"]}}, \"sort\": \"byValue\", \"title\": \"Oil Production in 1988\"}} }, {\"duration\": 1, \"x\": {\"easing\": \"linear\", \"delay\": 0}, \"y\": {\"delay\": 0}, \"show\": {\"delay\": 0}, \"hide\": {\"delay\": 0}, \"title\": {\"duration\": 0, \"delay\": 0}});\n",
       "window.ipyvizzu.animate(element, 'f3aaca8', 'dea4a14', 'manual', false, lib => { return {\"data\": {\"filter\": record => { return (parseInt(record.Year) == 1989) }}, \"config\": {\"channels\": {\"y\": {\"set\": [\"Entity\"]}, \"x\": {\"set\": [\"Oil production (TWh)\"]}, \"label\": {\"set\": [\"Oil production (TWh)\"]}, \"color\": {\"set\": [\"Entity\"]}}, \"sort\": \"byValue\", \"title\": \"Oil Production in 1989\"}} }, {\"duration\": 1, \"x\": {\"easing\": \"linear\", \"delay\": 0}, \"y\": {\"delay\": 0}, \"show\": {\"delay\": 0}, \"hide\": {\"delay\": 0}, \"title\": {\"duration\": 0, \"delay\": 0}});\n",
       "window.ipyvizzu.animate(element, 'f3aaca8', '594b536', 'manual', false, lib => { return {\"data\": {\"filter\": record => { return (parseInt(record.Year) == 1990) }}, \"config\": {\"channels\": {\"y\": {\"set\": [\"Entity\"]}, \"x\": {\"set\": [\"Oil production (TWh)\"]}, \"label\": {\"set\": [\"Oil production (TWh)\"]}, \"color\": {\"set\": [\"Entity\"]}}, \"sort\": \"byValue\", \"title\": \"Oil Production in 1990\"}} }, {\"duration\": 1, \"x\": {\"easing\": \"linear\", \"delay\": 0}, \"y\": {\"delay\": 0}, \"show\": {\"delay\": 0}, \"hide\": {\"delay\": 0}, \"title\": {\"duration\": 0, \"delay\": 0}});\n",
       "window.ipyvizzu.animate(element, 'f3aaca8', '2b30219', 'manual', false, lib => { return {\"data\": {\"filter\": record => { return (parseInt(record.Year) == 1991) }}, \"config\": {\"channels\": {\"y\": {\"set\": [\"Entity\"]}, \"x\": {\"set\": [\"Oil production (TWh)\"]}, \"label\": {\"set\": [\"Oil production (TWh)\"]}, \"color\": {\"set\": [\"Entity\"]}}, \"sort\": \"byValue\", \"title\": \"Oil Production in 1991\"}} }, {\"duration\": 1, \"x\": {\"easing\": \"linear\", \"delay\": 0}, \"y\": {\"delay\": 0}, \"show\": {\"delay\": 0}, \"hide\": {\"delay\": 0}, \"title\": {\"duration\": 0, \"delay\": 0}});\n",
       "window.ipyvizzu.animate(element, 'f3aaca8', '55f2f3e', 'manual', false, lib => { return {\"data\": {\"filter\": record => { return (parseInt(record.Year) == 1992) }}, \"config\": {\"channels\": {\"y\": {\"set\": [\"Entity\"]}, \"x\": {\"set\": [\"Oil production (TWh)\"]}, \"label\": {\"set\": [\"Oil production (TWh)\"]}, \"color\": {\"set\": [\"Entity\"]}}, \"sort\": \"byValue\", \"title\": \"Oil Production in 1992\"}} }, {\"duration\": 1, \"x\": {\"easing\": \"linear\", \"delay\": 0}, \"y\": {\"delay\": 0}, \"show\": {\"delay\": 0}, \"hide\": {\"delay\": 0}, \"title\": {\"duration\": 0, \"delay\": 0}});\n",
       "window.ipyvizzu.animate(element, 'f3aaca8', '0e2df88', 'manual', false, lib => { return {\"data\": {\"filter\": record => { return (parseInt(record.Year) == 1993) }}, \"config\": {\"channels\": {\"y\": {\"set\": [\"Entity\"]}, \"x\": {\"set\": [\"Oil production (TWh)\"]}, \"label\": {\"set\": [\"Oil production (TWh)\"]}, \"color\": {\"set\": [\"Entity\"]}}, \"sort\": \"byValue\", \"title\": \"Oil Production in 1993\"}} }, {\"duration\": 1, \"x\": {\"easing\": \"linear\", \"delay\": 0}, \"y\": {\"delay\": 0}, \"show\": {\"delay\": 0}, \"hide\": {\"delay\": 0}, \"title\": {\"duration\": 0, \"delay\": 0}});\n",
       "window.ipyvizzu.animate(element, 'f3aaca8', 'ba273e0', 'manual', false, lib => { return {\"data\": {\"filter\": record => { return (parseInt(record.Year) == 1994) }}, \"config\": {\"channels\": {\"y\": {\"set\": [\"Entity\"]}, \"x\": {\"set\": [\"Oil production (TWh)\"]}, \"label\": {\"set\": [\"Oil production (TWh)\"]}, \"color\": {\"set\": [\"Entity\"]}}, \"sort\": \"byValue\", \"title\": \"Oil Production in 1994\"}} }, {\"duration\": 1, \"x\": {\"easing\": \"linear\", \"delay\": 0}, \"y\": {\"delay\": 0}, \"show\": {\"delay\": 0}, \"hide\": {\"delay\": 0}, \"title\": {\"duration\": 0, \"delay\": 0}});\n",
       "window.ipyvizzu.animate(element, 'f3aaca8', 'ed18a23', 'manual', false, lib => { return {\"data\": {\"filter\": record => { return (parseInt(record.Year) == 1995) }}, \"config\": {\"channels\": {\"y\": {\"set\": [\"Entity\"]}, \"x\": {\"set\": [\"Oil production (TWh)\"]}, \"label\": {\"set\": [\"Oil production (TWh)\"]}, \"color\": {\"set\": [\"Entity\"]}}, \"sort\": \"byValue\", \"title\": \"Oil Production in 1995\"}} }, {\"duration\": 1, \"x\": {\"easing\": \"linear\", \"delay\": 0}, \"y\": {\"delay\": 0}, \"show\": {\"delay\": 0}, \"hide\": {\"delay\": 0}, \"title\": {\"duration\": 0, \"delay\": 0}});\n",
       "window.ipyvizzu.animate(element, 'f3aaca8', 'd1800f0', 'manual', false, lib => { return {\"data\": {\"filter\": record => { return (parseInt(record.Year) == 1996) }}, \"config\": {\"channels\": {\"y\": {\"set\": [\"Entity\"]}, \"x\": {\"set\": [\"Oil production (TWh)\"]}, \"label\": {\"set\": [\"Oil production (TWh)\"]}, \"color\": {\"set\": [\"Entity\"]}}, \"sort\": \"byValue\", \"title\": \"Oil Production in 1996\"}} }, {\"duration\": 1, \"x\": {\"easing\": \"linear\", \"delay\": 0}, \"y\": {\"delay\": 0}, \"show\": {\"delay\": 0}, \"hide\": {\"delay\": 0}, \"title\": {\"duration\": 0, \"delay\": 0}});\n",
       "window.ipyvizzu.animate(element, 'f3aaca8', 'c6cc352', 'manual', false, lib => { return {\"data\": {\"filter\": record => { return (parseInt(record.Year) == 1997) }}, \"config\": {\"channels\": {\"y\": {\"set\": [\"Entity\"]}, \"x\": {\"set\": [\"Oil production (TWh)\"]}, \"label\": {\"set\": [\"Oil production (TWh)\"]}, \"color\": {\"set\": [\"Entity\"]}}, \"sort\": \"byValue\", \"title\": \"Oil Production in 1997\"}} }, {\"duration\": 1, \"x\": {\"easing\": \"linear\", \"delay\": 0}, \"y\": {\"delay\": 0}, \"show\": {\"delay\": 0}, \"hide\": {\"delay\": 0}, \"title\": {\"duration\": 0, \"delay\": 0}});\n",
       "window.ipyvizzu.animate(element, 'f3aaca8', 'a08a1be', 'manual', false, lib => { return {\"data\": {\"filter\": record => { return (parseInt(record.Year) == 1998) }}, \"config\": {\"channels\": {\"y\": {\"set\": [\"Entity\"]}, \"x\": {\"set\": [\"Oil production (TWh)\"]}, \"label\": {\"set\": [\"Oil production (TWh)\"]}, \"color\": {\"set\": [\"Entity\"]}}, \"sort\": \"byValue\", \"title\": \"Oil Production in 1998\"}} }, {\"duration\": 1, \"x\": {\"easing\": \"linear\", \"delay\": 0}, \"y\": {\"delay\": 0}, \"show\": {\"delay\": 0}, \"hide\": {\"delay\": 0}, \"title\": {\"duration\": 0, \"delay\": 0}});\n",
       "window.ipyvizzu.animate(element, 'f3aaca8', '67e7c63', 'manual', false, lib => { return {\"data\": {\"filter\": record => { return (parseInt(record.Year) == 1999) }}, \"config\": {\"channels\": {\"y\": {\"set\": [\"Entity\"]}, \"x\": {\"set\": [\"Oil production (TWh)\"]}, \"label\": {\"set\": [\"Oil production (TWh)\"]}, \"color\": {\"set\": [\"Entity\"]}}, \"sort\": \"byValue\", \"title\": \"Oil Production in 1999\"}} }, {\"duration\": 1, \"x\": {\"easing\": \"linear\", \"delay\": 0}, \"y\": {\"delay\": 0}, \"show\": {\"delay\": 0}, \"hide\": {\"delay\": 0}, \"title\": {\"duration\": 0, \"delay\": 0}});\n",
       "window.ipyvizzu.animate(element, 'f3aaca8', '6519293', 'manual', false, lib => { return {\"data\": {\"filter\": record => { return (parseInt(record.Year) == 2000) }}, \"config\": {\"channels\": {\"y\": {\"set\": [\"Entity\"]}, \"x\": {\"set\": [\"Oil production (TWh)\"]}, \"label\": {\"set\": [\"Oil production (TWh)\"]}, \"color\": {\"set\": [\"Entity\"]}}, \"sort\": \"byValue\", \"title\": \"Oil Production in 2000\"}} }, {\"duration\": 1, \"x\": {\"easing\": \"linear\", \"delay\": 0}, \"y\": {\"delay\": 0}, \"show\": {\"delay\": 0}, \"hide\": {\"delay\": 0}, \"title\": {\"duration\": 0, \"delay\": 0}});\n",
       "window.ipyvizzu.animate(element, 'f3aaca8', 'e642520', 'manual', false, lib => { return {\"data\": {\"filter\": record => { return (parseInt(record.Year) == 2001) }}, \"config\": {\"channels\": {\"y\": {\"set\": [\"Entity\"]}, \"x\": {\"set\": [\"Oil production (TWh)\"]}, \"label\": {\"set\": [\"Oil production (TWh)\"]}, \"color\": {\"set\": [\"Entity\"]}}, \"sort\": \"byValue\", \"title\": \"Oil Production in 2001\"}} }, {\"duration\": 1, \"x\": {\"easing\": \"linear\", \"delay\": 0}, \"y\": {\"delay\": 0}, \"show\": {\"delay\": 0}, \"hide\": {\"delay\": 0}, \"title\": {\"duration\": 0, \"delay\": 0}});\n",
       "window.ipyvizzu.animate(element, 'f3aaca8', '0580716', 'manual', false, lib => { return {\"data\": {\"filter\": record => { return (parseInt(record.Year) == 2002) }}, \"config\": {\"channels\": {\"y\": {\"set\": [\"Entity\"]}, \"x\": {\"set\": [\"Oil production (TWh)\"]}, \"label\": {\"set\": [\"Oil production (TWh)\"]}, \"color\": {\"set\": [\"Entity\"]}}, \"sort\": \"byValue\", \"title\": \"Oil Production in 2002\"}} }, {\"duration\": 1, \"x\": {\"easing\": \"linear\", \"delay\": 0}, \"y\": {\"delay\": 0}, \"show\": {\"delay\": 0}, \"hide\": {\"delay\": 0}, \"title\": {\"duration\": 0, \"delay\": 0}});\n",
       "window.ipyvizzu.animate(element, 'f3aaca8', '53f7541', 'manual', false, lib => { return {\"data\": {\"filter\": record => { return (parseInt(record.Year) == 2003) }}, \"config\": {\"channels\": {\"y\": {\"set\": [\"Entity\"]}, \"x\": {\"set\": [\"Oil production (TWh)\"]}, \"label\": {\"set\": [\"Oil production (TWh)\"]}, \"color\": {\"set\": [\"Entity\"]}}, \"sort\": \"byValue\", \"title\": \"Oil Production in 2003\"}} }, {\"duration\": 1, \"x\": {\"easing\": \"linear\", \"delay\": 0}, \"y\": {\"delay\": 0}, \"show\": {\"delay\": 0}, \"hide\": {\"delay\": 0}, \"title\": {\"duration\": 0, \"delay\": 0}});\n",
       "window.ipyvizzu.animate(element, 'f3aaca8', 'c0c7584', 'manual', false, lib => { return {\"data\": {\"filter\": record => { return (parseInt(record.Year) == 2004) }}, \"config\": {\"channels\": {\"y\": {\"set\": [\"Entity\"]}, \"x\": {\"set\": [\"Oil production (TWh)\"]}, \"label\": {\"set\": [\"Oil production (TWh)\"]}, \"color\": {\"set\": [\"Entity\"]}}, \"sort\": \"byValue\", \"title\": \"Oil Production in 2004\"}} }, {\"duration\": 1, \"x\": {\"easing\": \"linear\", \"delay\": 0}, \"y\": {\"delay\": 0}, \"show\": {\"delay\": 0}, \"hide\": {\"delay\": 0}, \"title\": {\"duration\": 0, \"delay\": 0}});\n",
       "window.ipyvizzu.animate(element, 'f3aaca8', 'c220043', 'manual', false, lib => { return {\"data\": {\"filter\": record => { return (parseInt(record.Year) == 2005) }}, \"config\": {\"channels\": {\"y\": {\"set\": [\"Entity\"]}, \"x\": {\"set\": [\"Oil production (TWh)\"]}, \"label\": {\"set\": [\"Oil production (TWh)\"]}, \"color\": {\"set\": [\"Entity\"]}}, \"sort\": \"byValue\", \"title\": \"Oil Production in 2005\"}} }, {\"duration\": 1, \"x\": {\"easing\": \"linear\", \"delay\": 0}, \"y\": {\"delay\": 0}, \"show\": {\"delay\": 0}, \"hide\": {\"delay\": 0}, \"title\": {\"duration\": 0, \"delay\": 0}});\n",
       "window.ipyvizzu.animate(element, 'f3aaca8', '8d702c1', 'manual', false, lib => { return {\"data\": {\"filter\": record => { return (parseInt(record.Year) == 2006) }}, \"config\": {\"channels\": {\"y\": {\"set\": [\"Entity\"]}, \"x\": {\"set\": [\"Oil production (TWh)\"]}, \"label\": {\"set\": [\"Oil production (TWh)\"]}, \"color\": {\"set\": [\"Entity\"]}}, \"sort\": \"byValue\", \"title\": \"Oil Production in 2006\"}} }, {\"duration\": 1, \"x\": {\"easing\": \"linear\", \"delay\": 0}, \"y\": {\"delay\": 0}, \"show\": {\"delay\": 0}, \"hide\": {\"delay\": 0}, \"title\": {\"duration\": 0, \"delay\": 0}});\n",
       "window.ipyvizzu.animate(element, 'f3aaca8', '24c09ff', 'manual', false, lib => { return {\"data\": {\"filter\": record => { return (parseInt(record.Year) == 2007) }}, \"config\": {\"channels\": {\"y\": {\"set\": [\"Entity\"]}, \"x\": {\"set\": [\"Oil production (TWh)\"]}, \"label\": {\"set\": [\"Oil production (TWh)\"]}, \"color\": {\"set\": [\"Entity\"]}}, \"sort\": \"byValue\", \"title\": \"Oil Production in 2007\"}} }, {\"duration\": 1, \"x\": {\"easing\": \"linear\", \"delay\": 0}, \"y\": {\"delay\": 0}, \"show\": {\"delay\": 0}, \"hide\": {\"delay\": 0}, \"title\": {\"duration\": 0, \"delay\": 0}});\n",
       "window.ipyvizzu.animate(element, 'f3aaca8', '7f8b2cb', 'manual', false, lib => { return {\"data\": {\"filter\": record => { return (parseInt(record.Year) == 2008) }}, \"config\": {\"channels\": {\"y\": {\"set\": [\"Entity\"]}, \"x\": {\"set\": [\"Oil production (TWh)\"]}, \"label\": {\"set\": [\"Oil production (TWh)\"]}, \"color\": {\"set\": [\"Entity\"]}}, \"sort\": \"byValue\", \"title\": \"Oil Production in 2008\"}} }, {\"duration\": 1, \"x\": {\"easing\": \"linear\", \"delay\": 0}, \"y\": {\"delay\": 0}, \"show\": {\"delay\": 0}, \"hide\": {\"delay\": 0}, \"title\": {\"duration\": 0, \"delay\": 0}});\n",
       "window.ipyvizzu.animate(element, 'f3aaca8', '5813f6d', 'manual', false, lib => { return {\"data\": {\"filter\": record => { return (parseInt(record.Year) == 2009) }}, \"config\": {\"channels\": {\"y\": {\"set\": [\"Entity\"]}, \"x\": {\"set\": [\"Oil production (TWh)\"]}, \"label\": {\"set\": [\"Oil production (TWh)\"]}, \"color\": {\"set\": [\"Entity\"]}}, \"sort\": \"byValue\", \"title\": \"Oil Production in 2009\"}} }, {\"duration\": 1, \"x\": {\"easing\": \"linear\", \"delay\": 0}, \"y\": {\"delay\": 0}, \"show\": {\"delay\": 0}, \"hide\": {\"delay\": 0}, \"title\": {\"duration\": 0, \"delay\": 0}});\n",
       "window.ipyvizzu.animate(element, 'f3aaca8', '5f55b10', 'manual', false, lib => { return {\"data\": {\"filter\": record => { return (parseInt(record.Year) == 2010) }}, \"config\": {\"channels\": {\"y\": {\"set\": [\"Entity\"]}, \"x\": {\"set\": [\"Oil production (TWh)\"]}, \"label\": {\"set\": [\"Oil production (TWh)\"]}, \"color\": {\"set\": [\"Entity\"]}}, \"sort\": \"byValue\", \"title\": \"Oil Production in 2010\"}} }, {\"duration\": 1, \"x\": {\"easing\": \"linear\", \"delay\": 0}, \"y\": {\"delay\": 0}, \"show\": {\"delay\": 0}, \"hide\": {\"delay\": 0}, \"title\": {\"duration\": 0, \"delay\": 0}});\n",
       "window.ipyvizzu.animate(element, 'f3aaca8', '638bd2e', 'manual', false, lib => { return {\"data\": {\"filter\": record => { return (parseInt(record.Year) == 2011) }}, \"config\": {\"channels\": {\"y\": {\"set\": [\"Entity\"]}, \"x\": {\"set\": [\"Oil production (TWh)\"]}, \"label\": {\"set\": [\"Oil production (TWh)\"]}, \"color\": {\"set\": [\"Entity\"]}}, \"sort\": \"byValue\", \"title\": \"Oil Production in 2011\"}} }, {\"duration\": 1, \"x\": {\"easing\": \"linear\", \"delay\": 0}, \"y\": {\"delay\": 0}, \"show\": {\"delay\": 0}, \"hide\": {\"delay\": 0}, \"title\": {\"duration\": 0, \"delay\": 0}});\n",
       "window.ipyvizzu.animate(element, 'f3aaca8', 'fe4d40c', 'manual', false, lib => { return {\"data\": {\"filter\": record => { return (parseInt(record.Year) == 2012) }}, \"config\": {\"channels\": {\"y\": {\"set\": [\"Entity\"]}, \"x\": {\"set\": [\"Oil production (TWh)\"]}, \"label\": {\"set\": [\"Oil production (TWh)\"]}, \"color\": {\"set\": [\"Entity\"]}}, \"sort\": \"byValue\", \"title\": \"Oil Production in 2012\"}} }, {\"duration\": 1, \"x\": {\"easing\": \"linear\", \"delay\": 0}, \"y\": {\"delay\": 0}, \"show\": {\"delay\": 0}, \"hide\": {\"delay\": 0}, \"title\": {\"duration\": 0, \"delay\": 0}});\n",
       "window.ipyvizzu.animate(element, 'f3aaca8', '8a9f9ef', 'manual', false, lib => { return {\"data\": {\"filter\": record => { return (parseInt(record.Year) == 2013) }}, \"config\": {\"channels\": {\"y\": {\"set\": [\"Entity\"]}, \"x\": {\"set\": [\"Oil production (TWh)\"]}, \"label\": {\"set\": [\"Oil production (TWh)\"]}, \"color\": {\"set\": [\"Entity\"]}}, \"sort\": \"byValue\", \"title\": \"Oil Production in 2013\"}} }, {\"duration\": 1, \"x\": {\"easing\": \"linear\", \"delay\": 0}, \"y\": {\"delay\": 0}, \"show\": {\"delay\": 0}, \"hide\": {\"delay\": 0}, \"title\": {\"duration\": 0, \"delay\": 0}});\n",
       "window.ipyvizzu.animate(element, 'f3aaca8', 'e711c8f', 'manual', false, lib => { return {\"data\": {\"filter\": record => { return (parseInt(record.Year) == 2014) }}, \"config\": {\"channels\": {\"y\": {\"set\": [\"Entity\"]}, \"x\": {\"set\": [\"Oil production (TWh)\"]}, \"label\": {\"set\": [\"Oil production (TWh)\"]}, \"color\": {\"set\": [\"Entity\"]}}, \"sort\": \"byValue\", \"title\": \"Oil Production in 2014\"}} }, {\"duration\": 1, \"x\": {\"easing\": \"linear\", \"delay\": 0}, \"y\": {\"delay\": 0}, \"show\": {\"delay\": 0}, \"hide\": {\"delay\": 0}, \"title\": {\"duration\": 0, \"delay\": 0}});\n",
       "window.ipyvizzu.animate(element, 'f3aaca8', '27223ea', 'manual', false, lib => { return {\"data\": {\"filter\": record => { return (parseInt(record.Year) == 2015) }}, \"config\": {\"channels\": {\"y\": {\"set\": [\"Entity\"]}, \"x\": {\"set\": [\"Oil production (TWh)\"]}, \"label\": {\"set\": [\"Oil production (TWh)\"]}, \"color\": {\"set\": [\"Entity\"]}}, \"sort\": \"byValue\", \"title\": \"Oil Production in 2015\"}} }, {\"duration\": 1, \"x\": {\"easing\": \"linear\", \"delay\": 0}, \"y\": {\"delay\": 0}, \"show\": {\"delay\": 0}, \"hide\": {\"delay\": 0}, \"title\": {\"duration\": 0, \"delay\": 0}});\n",
       "window.ipyvizzu.animate(element, 'f3aaca8', '78fdebf', 'manual', false, lib => { return {\"data\": {\"filter\": record => { return (parseInt(record.Year) == 2016) }}, \"config\": {\"channels\": {\"y\": {\"set\": [\"Entity\"]}, \"x\": {\"set\": [\"Oil production (TWh)\"]}, \"label\": {\"set\": [\"Oil production (TWh)\"]}, \"color\": {\"set\": [\"Entity\"]}}, \"sort\": \"byValue\", \"title\": \"Oil Production in 2016\"}} }, {\"duration\": 1, \"x\": {\"easing\": \"linear\", \"delay\": 0}, \"y\": {\"delay\": 0}, \"show\": {\"delay\": 0}, \"hide\": {\"delay\": 0}, \"title\": {\"duration\": 0, \"delay\": 0}});\n",
       "window.ipyvizzu.animate(element, 'f3aaca8', '4d27eb7', 'manual', false, lib => { return {\"data\": {\"filter\": record => { return (parseInt(record.Year) == 2017) }}, \"config\": {\"channels\": {\"y\": {\"set\": [\"Entity\"]}, \"x\": {\"set\": [\"Oil production (TWh)\"]}, \"label\": {\"set\": [\"Oil production (TWh)\"]}, \"color\": {\"set\": [\"Entity\"]}}, \"sort\": \"byValue\", \"title\": \"Oil Production in 2017\"}} }, {\"duration\": 1, \"x\": {\"easing\": \"linear\", \"delay\": 0}, \"y\": {\"delay\": 0}, \"show\": {\"delay\": 0}, \"hide\": {\"delay\": 0}, \"title\": {\"duration\": 0, \"delay\": 0}});\n",
       "window.ipyvizzu.animate(element, 'f3aaca8', '43461f0', 'manual', false, lib => { return {\"data\": {\"filter\": record => { return (parseInt(record.Year) == 2018) }}, \"config\": {\"channels\": {\"y\": {\"set\": [\"Entity\"]}, \"x\": {\"set\": [\"Oil production (TWh)\"]}, \"label\": {\"set\": [\"Oil production (TWh)\"]}, \"color\": {\"set\": [\"Entity\"]}}, \"sort\": \"byValue\", \"title\": \"Oil Production in 2018\"}} }, {\"duration\": 1, \"x\": {\"easing\": \"linear\", \"delay\": 0}, \"y\": {\"delay\": 0}, \"show\": {\"delay\": 0}, \"hide\": {\"delay\": 0}, \"title\": {\"duration\": 0, \"delay\": 0}});\n",
       "window.ipyvizzu.animate(element, 'f3aaca8', '875f5ef', 'manual', false, lib => { return {\"data\": {\"filter\": record => { return (parseInt(record.Year) == 2019) }}, \"config\": {\"channels\": {\"y\": {\"set\": [\"Entity\"]}, \"x\": {\"set\": [\"Oil production (TWh)\"]}, \"label\": {\"set\": [\"Oil production (TWh)\"]}, \"color\": {\"set\": [\"Entity\"]}}, \"sort\": \"byValue\", \"title\": \"Oil Production in 2019\"}} }, {\"duration\": 1, \"x\": {\"easing\": \"linear\", \"delay\": 0}, \"y\": {\"delay\": 0}, \"show\": {\"delay\": 0}, \"hide\": {\"delay\": 0}, \"title\": {\"duration\": 0, \"delay\": 0}});\n",
       "window.ipyvizzu.animate(element, 'f3aaca8', 'f529bad', 'manual', false, lib => { return {\"data\": {\"filter\": record => { return (parseInt(record.Year) == 2020) }}, \"config\": {\"channels\": {\"y\": {\"set\": [\"Entity\"]}, \"x\": {\"set\": [\"Oil production (TWh)\"]}, \"label\": {\"set\": [\"Oil production (TWh)\"]}, \"color\": {\"set\": [\"Entity\"]}}, \"sort\": \"byValue\", \"title\": \"Oil Production in 2020\"}} }, {\"duration\": 1, \"x\": {\"easing\": \"linear\", \"delay\": 0}, \"y\": {\"delay\": 0}, \"show\": {\"delay\": 0}, \"hide\": {\"delay\": 0}, \"title\": {\"duration\": 0, \"delay\": 0}});\n",
       "window.ipyvizzu.animate(element, 'f3aaca8', 'c201208', 'manual', false, lib => { return {\"data\": {\"filter\": record => { return (parseInt(record.Year) == 2021) }}, \"config\": {\"channels\": {\"y\": {\"set\": [\"Entity\"]}, \"x\": {\"set\": [\"Oil production (TWh)\"]}, \"label\": {\"set\": [\"Oil production (TWh)\"]}, \"color\": {\"set\": [\"Entity\"]}}, \"sort\": \"byValue\", \"title\": \"Oil Production in 2021\"}} }, {\"duration\": 1, \"x\": {\"easing\": \"linear\", \"delay\": 0}, \"y\": {\"delay\": 0}, \"show\": {\"delay\": 0}, \"hide\": {\"delay\": 0}, \"title\": {\"duration\": 0, \"delay\": 0}});"
      ]
     },
     "metadata": {},
     "output_type": "display_data"
    }
   ],
   "source": [
    "# add data to Chart\n",
    "data = Data()\n",
    "data.add_data_frame(df[df.Entity.isin(countries)])\n",
    "\n",
    "#adding the config\n",
    "config = {\n",
    "    \"channels\": {\n",
    "        \"y\": {\n",
    "            \"set\": [category],\n",
    "        },\n",
    "        \"x\": {\"set\": [value]},\n",
    "        \"label\": {\"set\": [value]},\n",
    "        \"color\": {\"set\": [category]}, #if the color column is different than y column, both columns needs to be passed as a parameter for y\n",
    "    },\n",
    "    \"sort\": \"byValue\",\n",
    "}\n",
    "\n",
    "#colors, labels, padding\n",
    "style = Style(\n",
    "    {\n",
    "        \"plot\": {\n",
    "            \"paddingLeft\": 100,\n",
    "            \"paddingTop\": 25,\n",
    "            \"yAxis\": {\n",
    "                \"color\": \"#ffffff00\",\n",
    "                \"label\": {\"paddingRight\": 10},\n",
    "            },\n",
    "            \"xAxis\": {\n",
    "                \"title\": {\"color\": \"#ffffff00\"},\n",
    "                \"label\": {\n",
    "                    \"color\": \"#ffffff00\",\n",
    "                    \"numberFormat\": \"grouped\",\n",
    "                },\n",
    "            },\n",
    "            \"marker\": {\n",
    "                #colorPalette take a string of hexadecimal color separated by a whitespace\n",
    "                #for simplicity, we will join the list of hexadecimal color defined before\n",
    "                \"colorPalette\": \" \".join(color_list)\n",
    "\n",
    "            },\n",
    "        },\n",
    "    }\n",
    ")\n",
    "\n",
    "# initialize Chart\n",
    "chart = Chart(width=\"640px\", height=\"360px\", display=DisplayTarget.MANUAL)\n",
    "chart.animate(data, style)\n",
    "\n",
    "min_time = df[time_col].min()\n",
    "max_time = df[time_col].max()\n",
    "\n",
    "#This part is looping over the time period\n",
    "for year in range(min_time, max_time + 1):\n",
    "    config[\"title\"] = f\"Oil Production in {year}\"\n",
    "    chart.animate(\n",
    "        Data.filter(f\"parseInt(record.{time_col}) == {year}\"),\n",
    "        Config(config),\n",
    "        duration=1,\n",
    "        x={\"easing\": \"linear\", \"delay\": 0},\n",
    "        y={\"delay\": 0},\n",
    "        show={\"delay\": 0},\n",
    "        hide={\"delay\": 0},\n",
    "        title={\"duration\": 0, \"delay\": 0},\n",
    "    )\n",
    "\n",
    "\n",
    "# display Chart\n",
    "chart.show()"
   ]
  },
  {
   "cell_type": "markdown",
   "id": "75c8ea74-d327-4efb-8e6b-8923a7e558c5",
   "metadata": {
    "papermill": {},
    "tags": []
   },
   "source": [
    "## Output"
   ]
  },
  {
   "cell_type": "markdown",
   "id": "3bf92969-0bfd-4510-915e-e428efa61ee7",
   "metadata": {
    "papermill": {},
    "tags": []
   },
   "source": [
    "### Export chart in HTML"
   ]
  },
  {
   "cell_type": "code",
   "execution_count": 34,
   "id": "4451ef31-a277-41e9-af98-37dea101215c",
   "metadata": {
    "execution": {
     "iopub.execute_input": "2023-04-24T18:28:41.602660Z",
     "iopub.status.busy": "2023-04-24T18:28:41.602422Z",
     "iopub.status.idle": "2023-04-24T18:28:41.657980Z",
     "shell.execute_reply": "2023-04-24T18:28:41.657137Z",
     "shell.execute_reply.started": "2023-04-24T18:28:41.602635Z"
    },
    "papermill": {},
    "tags": []
   },
   "outputs": [
    {
     "data": {
      "application/javascript": [
       "if (window.IpyVizzu) { window.IpyVizzu.clearInhibitScroll(element); }"
      ]
     },
     "metadata": {},
     "output_type": "display_data"
    },
    {
     "data": {
      "application/javascript": [
       "if (window.IpyVizzu) { window.IpyVizzu.clearInhibitScroll(element); }"
      ]
     },
     "metadata": {},
     "output_type": "display_data"
    },
    {
     "data": {
      "application/javascript": [
       "if (window.IpyVizzu) { window.IpyVizzu.clearInhibitScroll(element); }"
      ]
     },
     "metadata": {},
     "output_type": "display_data"
    },
    {
     "data": {
      "application/javascript": [
       "if (window.IpyVizzu) { window.IpyVizzu.clearInhibitScroll(element); }"
      ]
     },
     "metadata": {},
     "output_type": "display_data"
    },
    {
     "data": {
      "application/javascript": [
       "if (window.IpyVizzu) { window.IpyVizzu.clearInhibitScroll(element); }"
      ]
     },
     "metadata": {},
     "output_type": "display_data"
    },
    {
     "data": {
      "application/javascript": [
       "if (window.IpyVizzu) { window.IpyVizzu.clearInhibitScroll(element); }"
      ]
     },
     "metadata": {},
     "output_type": "display_data"
    },
    {
     "data": {
      "application/javascript": [
       "if (window.IpyVizzu) { window.IpyVizzu.clearInhibitScroll(element); }"
      ]
     },
     "metadata": {},
     "output_type": "display_data"
    },
    {
     "data": {
      "application/javascript": [
       "if (window.IpyVizzu) { window.IpyVizzu.clearInhibitScroll(element); }"
      ]
     },
     "metadata": {},
     "output_type": "display_data"
    },
    {
     "data": {
      "application/javascript": [
       "if (window.IpyVizzu) { window.IpyVizzu.clearInhibitScroll(element); }"
      ]
     },
     "metadata": {},
     "output_type": "display_data"
    }
   ],
   "source": [
    "chart._showed = False\n",
    "rawhtml = chart._repr_html_()\n",
    "\n",
    "with open(html_output, \"w\", encoding=\"utf8\") as file_desc:\n",
    "    file_desc.write(rawhtml)"
   ]
  },
  {
   "cell_type": "markdown",
   "id": "86dc6b0d-540c-4b93-8a9f-6d2be2dee0d3",
   "metadata": {
    "papermill": {},
    "tags": []
   },
   "source": [
    " "
   ]
  }
 ],
 "metadata": {
  "kernelspec": {
   "display_name": "Python 3",
   "language": "python",
   "name": "python3"
  },
  "language_info": {
   "codemirror_mode": {
    "name": "ipython",
    "version": 3
   },
   "file_extension": ".py",
   "mimetype": "text/x-python",
   "name": "python",
   "nbconvert_exporter": "python",
   "pygments_lexer": "ipython3",
   "version": "3.9.6"
  },
  "widgets": {
   "application/vnd.jupyter.widget-state+json": {
    "state": {},
    "version_major": 2,
    "version_minor": 0
   }
  }
 },
 "nbformat": 4,
 "nbformat_minor": 5
}
