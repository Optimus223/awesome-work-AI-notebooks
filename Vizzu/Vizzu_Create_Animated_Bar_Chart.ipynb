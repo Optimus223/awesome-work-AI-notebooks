{
 "cells": [
  {
   "cell_type": "markdown",
   "id": "cd03dd13-bdc2-4906-90ac-cb1fd90be2ce",
   "metadata": {
    "papermill": {},
    "tags": []
   },
   "source": [
    "<img width=\"10%\" alt=\"Naas\" src=\"https://landen.imgix.net/jtci2pxwjczr/assets/5ice39g4.png?w=160\"/>"
   ]
  },
  {
   "cell_type": "markdown",
   "id": "2001a36d-8710-44d2-b8c4-41d501b71f44",
   "metadata": {
    "papermill": {},
    "tags": []
   },
   "source": [
    "# Vizzu - Create Animated Bar Chart"
   ]
  },
  {
   "cell_type": "markdown",
   "id": "66cd09c2-d3bf-47fd-b753-8c27cc358570",
   "metadata": {
    "papermill": {},
    "tags": []
   },
   "source": [
    "**Tags:** #vizzu #animation #bar-chart #data-visualization #data-science #python"
   ]
  },
  {
   "cell_type": "markdown",
   "id": "c1691fe5-7d3c-46a5-b4bc-22b823463bdb",
   "metadata": {
    "papermill": {},
    "tags": []
   },
   "source": [
    "**Author:** [Alexandre Petit](https://www.linkedin.com/in/alexandre-petit-24a87a219/)"
   ]
  },
  {
   "cell_type": "markdown",
   "id": "83658e39-e48c-4fa8-91fa-fa178e399f8a",
   "metadata": {
    "papermill": {},
    "tags": []
   },
   "source": [
    "**Description:** This notebook would allow you to create an animated bar chart. It will show the oil production evolution by country year after year."
   ]
  },
  {
   "cell_type": "markdown",
   "id": "40f5b938-9d11-45f9-b72d-f872b22a9e4b",
   "metadata": {
    "papermill": {},
    "tags": []
   },
   "source": [
    "**References:**\n- https://ipyvizzu.vizzuhq.com/latest/showcases/musicformats/\n- https://ipyvizzu.vizzuhq.com/latest/examples/animation/"
   ]
  },
  {
   "cell_type": "markdown",
   "id": "35355415-f1eb-4249-ad3f-7e7b0bd91513",
   "metadata": {
    "papermill": {},
    "tags": []
   },
   "source": [
    "## Input"
   ]
  },
  {
   "cell_type": "markdown",
   "id": "f739f66c-7438-4075-9373-b7e41472bd24",
   "metadata": {
    "papermill": {},
    "tags": []
   },
   "source": [
    "### Import libraries"
   ]
  },
  {
   "cell_type": "code",
   "execution_count": null,
   "id": "a2435b57-9a3f-4712-a686-22aea6b66541",
   "metadata": {
    "papermill": {},
    "tags": []
   },
   "source": "import vizzu",
   "outputs": []
  },
  {
   "cell_type": "markdown",
   "id": "050f3445-61d4-4152-964a-4284e4e19372",
   "metadata": {
    "papermill": {},
    "tags": []
   },
   "source": [
    "### Setup Variables\n- `data`: oil production data by country year after year"
   ]
  },
  {
   "cell_type": "code",
   "execution_count": null,
   "id": "466e0d2b-ea71-4aa1-9d7d-0c10992aceba",
   "metadata": {
    "papermill": {},
    "tags": []
   },
   "source": "data = {\n    \"USA\": [100, 200, 300, 400],\n    \"Canada\": [50, 100, 150, 200],\n    \"Mexico\": [25, 50, 75, 100],\n}",
   "outputs": []
  },
  {
   "cell_type": "markdown",
   "id": "112734d6-a75a-432c-9e35-1e991af08309",
   "metadata": {
    "papermill": {},
    "tags": []
   },
   "source": [
    "## Model"
   ]
  },
  {
   "cell_type": "markdown",
   "id": "edb5dadd-d045-40c4-a5b9-5e977ec557ea",
   "metadata": {
    "papermill": {},
    "tags": []
   },
   "source": [
    "### Create Animated Bar Chart"
   ]
  },
  {
   "cell_type": "markdown",
   "id": "6dda4b89-4427-4066-85bb-688f9fb3e21e",
   "metadata": {
    "papermill": {},
    "tags": []
   },
   "source": [
    "This function will create an animated bar chart to show the oil production evolution by country year after year."
   ]
  },
  {
   "cell_type": "code",
   "execution_count": null,
   "id": "438774c2-ef7c-43db-9f68-ab5c68bd6e1c",
   "metadata": {
    "papermill": {},
    "tags": []
   },
   "source": "vizzu.animated_bar_chart(data)",
   "outputs": []
  },
  {
   "cell_type": "markdown",
   "id": "75c8ea74-d327-4efb-8e6b-8923a7e558c5",
   "metadata": {
    "papermill": {},
    "tags": []
   },
   "source": [
    "## Output"
   ]
  },
  {
   "cell_type": "markdown",
   "id": "3bf92969-0bfd-4510-915e-e428efa61ee7",
   "metadata": {
    "papermill": {},
    "tags": []
   },
   "source": [
    "### Display result"
   ]
  },
  {
   "cell_type": "code",
   "execution_count": null,
   "id": "4451ef31-a277-41e9-af98-37dea101215c",
   "metadata": {
    "papermill": {},
    "tags": []
   },
   "source": "vizzu.show()",
   "outputs": []
  },
  {
   "cell_type": "markdown",
   "id": "86dc6b0d-540c-4b93-8a9f-6d2be2dee0d3",
   "metadata": {
    "papermill": {},
    "tags": []
   },
   "source": [
    " "
   ]
  }
 ],
 "metadata": {
  "kernelspec": {
   "display_name": "Python 3",
   "language": "python",
   "name": "python3"
  },
  "language_info": {
   "codemirror_mode": {
    "name": "ipython",
    "version": 3
   },
   "file_extension": ".py",
   "mimetype": "text/x-python",
   "name": "python",
   "nbconvert_exporter": "python",
   "pygments_lexer": "ipython3",
   "version": "3.9.6"
  },
  "widgets": {
   "application/vnd.jupyter.widget-state+json": {
    "state": {},
    "version_major": 2,
    "version_minor": 0
   }
  }
 },
 "nbformat": 4,
 "nbformat_minor": 5
}