{
 "cells": [
  {
   "cell_type": "markdown",
   "id": "3eab884e-aac9-4641-b5df-ad06a64f6777",
   "metadata": {
    "papermill": {},
    "tags": []
   },
   "source": [
    "<img width=\"10%\" alt=\"Naas\" src=\"https://landen.imgix.net/jtci2pxwjczr/assets/5ice39g4.png?w=160\"/>"
   ]
  },
  {
   "cell_type": "markdown",
   "id": "5a856e15-816f-4878-b992-b440f2fd1e3b",
   "metadata": {
    "papermill": {},
    "tags": []
   },
   "source": [
    "# Polars - Concatenate DataFrames"
   ]
  },
  {
   "cell_type": "markdown",
   "id": "de426f23-3180-4de7-b3c2-2ad29dc9485e",
   "metadata": {
    "papermill": {},
    "tags": []
   },
   "source": [
    "**Tags:** #polars #dataframes #concatenate #python #pandas #data #snippet"
   ]
  },
  {
   "cell_type": "markdown",
   "id": "b89a330d-fc17-4dd3-98d3-d53acdcc719c",
   "metadata": {
    "papermill": {},
    "tags": []
   },
   "source": [
    "**Author:** [Florent Ravenel](https://www.linkedin.com/in/florent-ravenel)"
   ]
  },
  {
   "cell_type": "markdown",
   "id": "ed4953e5-2844-47e9-b2d0-58426c5844f4",
   "metadata": {
    "papermill": {},
    "tags": []
   },
   "source": [
    "**Last update:** 2023-07-25 (Created: 2023-07-25)"
   ]
  },
  {
   "cell_type": "markdown",
   "id": "db4e5b85-a112-4051-93b5-de640791528a",
   "metadata": {
    "papermill": {},
    "tags": []
   },
   "source": [
    "**Description:** This notebook explains how to concatenate DataFrames using Polars and Python. It is usefull for data analysis and data manipulation."
   ]
  },
  {
   "cell_type": "markdown",
   "id": "bbee5e9f-db67-41d6-9d5f-f30eba922ba1",
   "metadata": {
    "papermill": {},
    "tags": []
   },
   "source": [
    "**References:**\n",
    "- [Polars.concat](https://pola-rs.github.io/polars/py-polars/html/reference/api/polars.concat.html)\n",
    "- [Pandas Documentation - Concatenation](https://pandas.pydata.org/pandas-docs/stable/user_guide/merging.html#concatenating-objects)"
   ]
  },
  {
   "cell_type": "markdown",
   "id": "f712388c-9b5b-4e98-be21-2cf2d6f6f221",
   "metadata": {
    "papermill": {},
    "tags": []
   },
   "source": [
    "## Input"
   ]
  },
  {
   "cell_type": "markdown",
   "id": "23f098bf-a290-4a07-8e0f-b19aa0098b9d",
   "metadata": {
    "papermill": {},
    "tags": []
   },
   "source": [
    "### Import libraries"
   ]
  },
  {
   "cell_type": "code",
   "execution_count": 3,
   "id": "92c9e07a-af06-4b65-bdbf-8af5b1c2f284",
   "metadata": {
    "execution": {
     "iopub.execute_input": "2023-07-25T06:48:27.033736Z",
     "iopub.status.busy": "2023-07-25T06:48:27.033446Z",
     "iopub.status.idle": "2023-07-25T06:48:27.037807Z",
     "shell.execute_reply": "2023-07-25T06:48:27.037194Z",
     "shell.execute_reply.started": "2023-07-25T06:48:27.033706Z"
    },
    "papermill": {},
    "tags": []
   },
   "outputs": [],
   "source": [
    "try:\n",
    "    import polars as pl\n",
    "except ModuleNotFoundError:\n",
    "    !pip install polars\n",
    "    import polars as pl"
   ]
  },
  {
   "cell_type": "markdown",
   "id": "cd3d710d-3985-46ad-8cda-a0df46726c27",
   "metadata": {
    "papermill": {},
    "tags": []
   },
   "source": [
    "## Model"
   ]
  },
  {
   "cell_type": "markdown",
   "id": "2f606ddd-249a-4da7-899b-a0234cb21394",
   "metadata": {
    "papermill": {},
    "tags": []
   },
   "source": [
    "### Create DataFrames"
   ]
  },
  {
   "cell_type": "code",
   "execution_count": 5,
   "id": "a404c779-e32c-40a0-af9b-4680d451d119",
   "metadata": {
    "execution": {
     "iopub.execute_input": "2023-07-25T06:48:39.781391Z",
     "iopub.status.busy": "2023-07-25T06:48:39.781164Z",
     "iopub.status.idle": "2023-07-25T06:48:39.829966Z",
     "shell.execute_reply": "2023-07-25T06:48:39.829418Z",
     "shell.execute_reply.started": "2023-07-25T06:48:39.781369Z"
    },
    "papermill": {},
    "tags": []
   },
   "outputs": [
    {
     "data": {
      "text/html": [
       "<div><style>\n",
       ".dataframe > thead > tr > th,\n",
       ".dataframe > tbody > tr > td {\n",
       "  text-align: right;\n",
       "}\n",
       "</style>\n",
       "<small>shape: (4, 4)</small><table border=\"1\" class=\"dataframe\"><thead><tr><th>A</th><th>B</th><th>C</th><th>D</th></tr><tr><td>str</td><td>str</td><td>str</td><td>str</td></tr></thead><tbody><tr><td>&quot;A0&quot;</td><td>&quot;B0&quot;</td><td>&quot;C0&quot;</td><td>&quot;D0&quot;</td></tr><tr><td>&quot;A1&quot;</td><td>&quot;B1&quot;</td><td>&quot;C1&quot;</td><td>&quot;D1&quot;</td></tr><tr><td>&quot;A2&quot;</td><td>&quot;B2&quot;</td><td>&quot;C2&quot;</td><td>&quot;D2&quot;</td></tr><tr><td>&quot;A3&quot;</td><td>&quot;B3&quot;</td><td>&quot;C3&quot;</td><td>&quot;D3&quot;</td></tr></tbody></table></div>"
      ],
      "text/plain": [
       "shape: (4, 4)\n",
       "┌─────┬─────┬─────┬─────┐\n",
       "│ A   ┆ B   ┆ C   ┆ D   │\n",
       "│ --- ┆ --- ┆ --- ┆ --- │\n",
       "│ str ┆ str ┆ str ┆ str │\n",
       "╞═════╪═════╪═════╪═════╡\n",
       "│ A0  ┆ B0  ┆ C0  ┆ D0  │\n",
       "│ A1  ┆ B1  ┆ C1  ┆ D1  │\n",
       "│ A2  ┆ B2  ┆ C2  ┆ D2  │\n",
       "│ A3  ┆ B3  ┆ C3  ┆ D3  │\n",
       "└─────┴─────┴─────┴─────┘"
      ]
     },
     "execution_count": 5,
     "metadata": {},
     "output_type": "execute_result"
    }
   ],
   "source": [
    "df1 = pl.DataFrame(\n",
    "    {\n",
    "        \"A\": [\"A0\", \"A1\", \"A2\", \"A3\"],\n",
    "        \"B\": [\"B0\", \"B1\", \"B2\", \"B3\"],\n",
    "        \"C\": [\"C0\", \"C1\", \"C2\", \"C3\"],\n",
    "        \"D\": [\"D0\", \"D1\", \"D2\", \"D3\"],\n",
    "    },\n",
    ")\n",
    "df1"
   ]
  },
  {
   "cell_type": "code",
   "execution_count": 6,
   "id": "14168677-fd16-419a-8bbc-c5ae2a899672",
   "metadata": {
    "execution": {
     "iopub.execute_input": "2023-07-25T06:48:48.249453Z",
     "iopub.status.busy": "2023-07-25T06:48:48.249218Z",
     "iopub.status.idle": "2023-07-25T06:48:48.255168Z",
     "shell.execute_reply": "2023-07-25T06:48:48.254563Z",
     "shell.execute_reply.started": "2023-07-25T06:48:48.249431Z"
    },
    "tags": []
   },
   "outputs": [
    {
     "data": {
      "text/html": [
       "<div><style>\n",
       ".dataframe > thead > tr > th,\n",
       ".dataframe > tbody > tr > td {\n",
       "  text-align: right;\n",
       "}\n",
       "</style>\n",
       "<small>shape: (4, 4)</small><table border=\"1\" class=\"dataframe\"><thead><tr><th>A</th><th>B</th><th>C</th><th>D</th></tr><tr><td>str</td><td>str</td><td>str</td><td>str</td></tr></thead><tbody><tr><td>&quot;A4&quot;</td><td>&quot;B4&quot;</td><td>&quot;C4&quot;</td><td>&quot;D4&quot;</td></tr><tr><td>&quot;A5&quot;</td><td>&quot;B5&quot;</td><td>&quot;C5&quot;</td><td>&quot;D5&quot;</td></tr><tr><td>&quot;A6&quot;</td><td>&quot;B6&quot;</td><td>&quot;C6&quot;</td><td>&quot;D6&quot;</td></tr><tr><td>&quot;A7&quot;</td><td>&quot;B7&quot;</td><td>&quot;C7&quot;</td><td>&quot;D7&quot;</td></tr></tbody></table></div>"
      ],
      "text/plain": [
       "shape: (4, 4)\n",
       "┌─────┬─────┬─────┬─────┐\n",
       "│ A   ┆ B   ┆ C   ┆ D   │\n",
       "│ --- ┆ --- ┆ --- ┆ --- │\n",
       "│ str ┆ str ┆ str ┆ str │\n",
       "╞═════╪═════╪═════╪═════╡\n",
       "│ A4  ┆ B4  ┆ C4  ┆ D4  │\n",
       "│ A5  ┆ B5  ┆ C5  ┆ D5  │\n",
       "│ A6  ┆ B6  ┆ C6  ┆ D6  │\n",
       "│ A7  ┆ B7  ┆ C7  ┆ D7  │\n",
       "└─────┴─────┴─────┴─────┘"
      ]
     },
     "execution_count": 6,
     "metadata": {},
     "output_type": "execute_result"
    }
   ],
   "source": [
    "df2 = pl.DataFrame(\n",
    "    {\n",
    "        \"A\": [\"A4\", \"A5\", \"A6\", \"A7\"],\n",
    "        \"B\": [\"B4\", \"B5\", \"B6\", \"B7\"],\n",
    "        \"C\": [\"C4\", \"C5\", \"C6\", \"C7\"],\n",
    "        \"D\": [\"D4\", \"D5\", \"D6\", \"D7\"],\n",
    "    },\n",
    ")\n",
    "df2"
   ]
  },
  {
   "cell_type": "code",
   "execution_count": 7,
   "id": "e4828844-4c3a-4618-953e-6dde54b4bac2",
   "metadata": {
    "execution": {
     "iopub.execute_input": "2023-07-25T06:48:58.202764Z",
     "iopub.status.busy": "2023-07-25T06:48:58.202541Z",
     "iopub.status.idle": "2023-07-25T06:48:58.208284Z",
     "shell.execute_reply": "2023-07-25T06:48:58.207645Z",
     "shell.execute_reply.started": "2023-07-25T06:48:58.202742Z"
    },
    "tags": []
   },
   "outputs": [
    {
     "data": {
      "text/html": [
       "<div><style>\n",
       ".dataframe > thead > tr > th,\n",
       ".dataframe > tbody > tr > td {\n",
       "  text-align: right;\n",
       "}\n",
       "</style>\n",
       "<small>shape: (4, 4)</small><table border=\"1\" class=\"dataframe\"><thead><tr><th>A</th><th>B</th><th>C</th><th>D</th></tr><tr><td>str</td><td>str</td><td>str</td><td>str</td></tr></thead><tbody><tr><td>&quot;A8&quot;</td><td>&quot;B8&quot;</td><td>&quot;C8&quot;</td><td>&quot;D8&quot;</td></tr><tr><td>&quot;A9&quot;</td><td>&quot;B9&quot;</td><td>&quot;C9&quot;</td><td>&quot;D9&quot;</td></tr><tr><td>&quot;A10&quot;</td><td>&quot;B10&quot;</td><td>&quot;C10&quot;</td><td>&quot;D10&quot;</td></tr><tr><td>&quot;A11&quot;</td><td>&quot;B11&quot;</td><td>&quot;C11&quot;</td><td>&quot;D11&quot;</td></tr></tbody></table></div>"
      ],
      "text/plain": [
       "shape: (4, 4)\n",
       "┌─────┬─────┬─────┬─────┐\n",
       "│ A   ┆ B   ┆ C   ┆ D   │\n",
       "│ --- ┆ --- ┆ --- ┆ --- │\n",
       "│ str ┆ str ┆ str ┆ str │\n",
       "╞═════╪═════╪═════╪═════╡\n",
       "│ A8  ┆ B8  ┆ C8  ┆ D8  │\n",
       "│ A9  ┆ B9  ┆ C9  ┆ D9  │\n",
       "│ A10 ┆ B10 ┆ C10 ┆ D10 │\n",
       "│ A11 ┆ B11 ┆ C11 ┆ D11 │\n",
       "└─────┴─────┴─────┴─────┘"
      ]
     },
     "execution_count": 7,
     "metadata": {},
     "output_type": "execute_result"
    }
   ],
   "source": [
    "df3 = pl.DataFrame(\n",
    "    {\n",
    "        \"A\": [\"A8\", \"A9\", \"A10\", \"A11\"],\n",
    "        \"B\": [\"B8\", \"B9\", \"B10\", \"B11\"],\n",
    "        \"C\": [\"C8\", \"C9\", \"C10\", \"C11\"],\n",
    "        \"D\": [\"D8\", \"D9\", \"D10\", \"D11\"],\n",
    "    },\n",
    ")\n",
    "df3"
   ]
  },
  {
   "cell_type": "markdown",
   "id": "cbf04efa-ca69-4316-8a86-f9b5a960618a",
   "metadata": {
    "papermill": {},
    "tags": []
   },
   "source": [
    "## Output"
   ]
  },
  {
   "cell_type": "markdown",
   "id": "5df77d6f-04d5-4f33-a767-643a09fdff32",
   "metadata": {
    "papermill": {},
    "tags": []
   },
   "source": [
    "### Concatenate DataFrames"
   ]
  },
  {
   "cell_type": "code",
   "execution_count": 8,
   "id": "cf3d281b-850d-4a4f-9795-9bd3917ca8a6",
   "metadata": {
    "execution": {
     "iopub.execute_input": "2023-07-25T06:49:03.634927Z",
     "iopub.status.busy": "2023-07-25T06:49:03.634681Z",
     "iopub.status.idle": "2023-07-25T06:49:03.661593Z",
     "shell.execute_reply": "2023-07-25T06:49:03.660674Z",
     "shell.execute_reply.started": "2023-07-25T06:49:03.634894Z"
    },
    "papermill": {},
    "tags": []
   },
   "outputs": [
    {
     "data": {
      "text/html": [
       "<div><style>\n",
       ".dataframe > thead > tr > th,\n",
       ".dataframe > tbody > tr > td {\n",
       "  text-align: right;\n",
       "}\n",
       "</style>\n",
       "<small>shape: (12, 4)</small><table border=\"1\" class=\"dataframe\"><thead><tr><th>A</th><th>B</th><th>C</th><th>D</th></tr><tr><td>str</td><td>str</td><td>str</td><td>str</td></tr></thead><tbody><tr><td>&quot;A0&quot;</td><td>&quot;B0&quot;</td><td>&quot;C0&quot;</td><td>&quot;D0&quot;</td></tr><tr><td>&quot;A1&quot;</td><td>&quot;B1&quot;</td><td>&quot;C1&quot;</td><td>&quot;D1&quot;</td></tr><tr><td>&quot;A2&quot;</td><td>&quot;B2&quot;</td><td>&quot;C2&quot;</td><td>&quot;D2&quot;</td></tr><tr><td>&quot;A3&quot;</td><td>&quot;B3&quot;</td><td>&quot;C3&quot;</td><td>&quot;D3&quot;</td></tr><tr><td>&quot;A4&quot;</td><td>&quot;B4&quot;</td><td>&quot;C4&quot;</td><td>&quot;D4&quot;</td></tr><tr><td>&quot;A5&quot;</td><td>&quot;B5&quot;</td><td>&quot;C5&quot;</td><td>&quot;D5&quot;</td></tr><tr><td>&quot;A6&quot;</td><td>&quot;B6&quot;</td><td>&quot;C6&quot;</td><td>&quot;D6&quot;</td></tr><tr><td>&quot;A7&quot;</td><td>&quot;B7&quot;</td><td>&quot;C7&quot;</td><td>&quot;D7&quot;</td></tr><tr><td>&quot;A8&quot;</td><td>&quot;B8&quot;</td><td>&quot;C8&quot;</td><td>&quot;D8&quot;</td></tr><tr><td>&quot;A9&quot;</td><td>&quot;B9&quot;</td><td>&quot;C9&quot;</td><td>&quot;D9&quot;</td></tr><tr><td>&quot;A10&quot;</td><td>&quot;B10&quot;</td><td>&quot;C10&quot;</td><td>&quot;D10&quot;</td></tr><tr><td>&quot;A11&quot;</td><td>&quot;B11&quot;</td><td>&quot;C11&quot;</td><td>&quot;D11&quot;</td></tr></tbody></table></div>"
      ],
      "text/plain": [
       "shape: (12, 4)\n",
       "┌─────┬─────┬─────┬─────┐\n",
       "│ A   ┆ B   ┆ C   ┆ D   │\n",
       "│ --- ┆ --- ┆ --- ┆ --- │\n",
       "│ str ┆ str ┆ str ┆ str │\n",
       "╞═════╪═════╪═════╪═════╡\n",
       "│ A0  ┆ B0  ┆ C0  ┆ D0  │\n",
       "│ A1  ┆ B1  ┆ C1  ┆ D1  │\n",
       "│ A2  ┆ B2  ┆ C2  ┆ D2  │\n",
       "│ A3  ┆ B3  ┆ C3  ┆ D3  │\n",
       "│ …   ┆ …   ┆ …   ┆ …   │\n",
       "│ A8  ┆ B8  ┆ C8  ┆ D8  │\n",
       "│ A9  ┆ B9  ┆ C9  ┆ D9  │\n",
       "│ A10 ┆ B10 ┆ C10 ┆ D10 │\n",
       "│ A11 ┆ B11 ┆ C11 ┆ D11 │\n",
       "└─────┴─────┴─────┴─────┘"
      ]
     },
     "execution_count": 8,
     "metadata": {},
     "output_type": "execute_result"
    }
   ],
   "source": [
    "# Concatenate DataFrames\n",
    "frames = [df1, df2, df3]\n",
    "result = pl.concat(frames)\n",
    "\n",
    "# Display result\n",
    "result"
   ]
  }
 ],
 "metadata": {
  "kernelspec": {
   "display_name": "Python 3",
   "language": "python",
   "name": "python3"
  },
  "language_info": {
   "codemirror_mode": {
    "name": "ipython",
    "version": 3
   },
   "file_extension": ".py",
   "mimetype": "text/x-python",
   "name": "python",
   "nbconvert_exporter": "python",
   "pygments_lexer": "ipython3",
   "version": "3.9.6"
  },
  "widgets": {
   "application/vnd.jupyter.widget-state+json": {
    "state": {},
    "version_major": 2,
    "version_minor": 0
   }
  }
 },
 "nbformat": 4,
 "nbformat_minor": 5
}
