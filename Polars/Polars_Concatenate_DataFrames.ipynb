{
 "cells": [
  {
   "cell_type": "markdown",
   "id": "3eab884e-aac9-4641-b5df-ad06a64f6777",
   "metadata": {
    "papermill": {},
    "tags": []
   },
   "source": [
    "<img width=\"10%\" alt=\"Naas\" src=\"https://landen.imgix.net/jtci2pxwjczr/assets/5ice39g4.png?w=160\"/>"
   ]
  },
  {
   "cell_type": "markdown",
   "id": "5a856e15-816f-4878-b992-b440f2fd1e3b",
   "metadata": {
    "papermill": {},
    "tags": []
   },
   "source": [
    "# Polars - Concatenate DataFrames"
   ]
  },
  {
   "cell_type": "markdown",
   "id": "de426f23-3180-4de7-b3c2-2ad29dc9485e",
   "metadata": {
    "papermill": {},
    "tags": []
   },
   "source": [
    "**Tags:** #polars #dataframes #concatenate #python #pandas #data"
   ]
  },
  {
   "cell_type": "markdown",
   "id": "b89a330d-fc17-4dd3-98d3-d53acdcc719c",
   "metadata": {
    "papermill": {},
    "tags": []
   },
   "source": [
    "**Author:** [Florent Ravenel](https://www.linkedin.com/in/florent-ravenel)"
   ]
  },
  {
   "cell_type": "markdown",
   "id": "ed4953e5-2844-47e9-b2d0-58426c5844f4",
   "metadata": {
    "papermill": {},
    "tags": []
   },
   "source": [
    "**Last update:** 2023-07-25 (Created: 2023-07-25)"
   ]
  },
  {
   "cell_type": "markdown",
   "id": "db4e5b85-a112-4051-93b5-de640791528a",
   "metadata": {
    "papermill": {},
    "tags": []
   },
   "source": [
    "**Description:** This notebook explains how to concatenate DataFrames using Polars and Python. It is usefull for data analysis and data manipulation."
   ]
  },
  {
   "cell_type": "markdown",
   "id": "bbee5e9f-db67-41d6-9d5f-f30eba922ba1",
   "metadata": {
    "papermill": {},
    "tags": []
   },
   "source": [
    "**References:**\n- [Pandas Documentation - Concatenation](https://pandas.pydata.org/pandas-docs/stable/user_guide/merging.html#concatenating-objects)\n- [Python Documentation - Concatenation](https://docs.python.org/3/library/stdtypes.html#string-methods)"
   ]
  },
  {
   "cell_type": "markdown",
   "id": "f712388c-9b5b-4e98-be21-2cf2d6f6f221",
   "metadata": {
    "papermill": {},
    "tags": []
   },
   "source": [
    "## Input"
   ]
  },
  {
   "cell_type": "markdown",
   "id": "23f098bf-a290-4a07-8e0f-b19aa0098b9d",
   "metadata": {
    "papermill": {},
    "tags": []
   },
   "source": [
    "### Import libraries"
   ]
  },
  {
   "cell_type": "code",
   "execution_count": null,
   "id": "92c9e07a-af06-4b65-bdbf-8af5b1c2f284",
   "metadata": {
    "papermill": {},
    "tags": []
   },
   "source": "import pandas as pd",
   "outputs": []
  },
  {
   "cell_type": "markdown",
   "id": "2f606ddd-249a-4da7-899b-a0234cb21394",
   "metadata": {
    "papermill": {},
    "tags": []
   },
   "source": [
    "### Setup Variables"
   ]
  },
  {
   "cell_type": "code",
   "execution_count": null,
   "id": "a404c779-e32c-40a0-af9b-4680d451d119",
   "metadata": {
    "papermill": {},
    "tags": []
   },
   "source": "df1 = pd.DataFrame(\n    {\n        \"A\": [\"A0\", \"A1\", \"A2\", \"A3\"],\n        \"B\": [\"B0\", \"B1\", \"B2\", \"B3\"],\n        \"C\": [\"C0\", \"C1\", \"C2\", \"C3\"],\n        \"D\": [\"D0\", \"D1\", \"D2\", \"D3\"],\n    },\n    index=[0, 1, 2, 3],\n)\ndf2 = pd.DataFrame(\n    {\n        \"A\": [\"A4\", \"A5\", \"A6\", \"A7\"],\n        \"B\": [\"B4\", \"B5\", \"B6\", \"B7\"],\n        \"C\": [\"C4\", \"C5\", \"C6\", \"C7\"],\n        \"D\": [\"D4\", \"D5\", \"D6\", \"D7\"],\n    },\n    index=[4, 5, 6, 7],\n)\ndf3 = pd.DataFrame(\n    {\n        \"A\": [\"A8\", \"A9\", \"A10\", \"A11\"],\n        \"B\": [\"B8\", \"B9\", \"B10\", \"B11\"],\n        \"C\": [\"C8\", \"C9\", \"C10\", \"C11\"],\n        \"D\": [\"D8\", \"D9\", \"D10\", \"D11\"],\n    },\n    index=[8, 9, 10, 11],\n)",
   "outputs": []
  },
  {
   "cell_type": "markdown",
   "id": "cd3d710d-3985-46ad-8cda-a0df46726c27",
   "metadata": {
    "papermill": {},
    "tags": []
   },
   "source": [
    "## Model"
   ]
  },
  {
   "cell_type": "markdown",
   "id": "5df77d6f-04d5-4f33-a767-643a09fdff32",
   "metadata": {
    "papermill": {},
    "tags": []
   },
   "source": [
    "### Concatenate DataFrames"
   ]
  },
  {
   "cell_type": "code",
   "execution_count": null,
   "id": "cf3d281b-850d-4a4f-9795-9bd3917ca8a6",
   "metadata": {
    "papermill": {},
    "tags": []
   },
   "source": "# Concatenate DataFrames\nframes = [df1, df2, df3]\nresult = pd.concat(frames)",
   "outputs": []
  },
  {
   "cell_type": "markdown",
   "id": "cbf04efa-ca69-4316-8a86-f9b5a960618a",
   "metadata": {
    "papermill": {},
    "tags": []
   },
   "source": [
    "## Output"
   ]
  },
  {
   "cell_type": "markdown",
   "id": "26136897-e2f3-4e27-afe6-5ec12f6cd8dc",
   "metadata": {
    "papermill": {},
    "tags": []
   },
   "source": [
    "### Display result"
   ]
  },
  {
   "cell_type": "code",
   "execution_count": null,
   "id": "583e7ecc-0850-4299-9def-081fb0aca13c",
   "metadata": {
    "papermill": {},
    "tags": []
   },
   "source": "# Display result\nresult",
   "outputs": []
  }
 ],
 "metadata": {
  "kernelspec": {
   "display_name": "Python 3",
   "language": "python",
   "name": "python3"
  },
  "language_info": {
   "codemirror_mode": {
    "name": "ipython",
    "version": 3
   },
   "file_extension": ".py",
   "mimetype": "text/x-python",
   "name": "python",
   "nbconvert_exporter": "python",
   "pygments_lexer": "ipython3",
   "version": "3.9.6"
  },
  "widgets": {
   "application/vnd.jupyter.widget-state+json": {
    "state": {},
    "version_major": 2,
    "version_minor": 0
   }
  }
 },
 "nbformat": 4,
 "nbformat_minor": 5
}