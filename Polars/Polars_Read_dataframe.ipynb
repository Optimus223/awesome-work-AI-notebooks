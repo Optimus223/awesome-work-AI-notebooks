{
 "cells": [
  {
   "cell_type": "markdown",
   "id": "26d971be-a654-4715-97d3-18ecf0b7a9cc",
   "metadata": {
    "papermill": {},
    "tags": []
   },
   "source": [
    "<img width=\"10%\" alt=\"Naas\" src=\"https://landen.imgix.net/jtci2pxwjczr/assets/5ice39g4.png?w=160\"/>"
   ]
  },
  {
   "cell_type": "markdown",
   "id": "1889751c-f97e-4792-8429-7dab25ec885f",
   "metadata": {
    "papermill": {},
    "tags": []
   },
   "source": [
    "# Polars - Read dataframe"
   ]
  },
  {
   "cell_type": "markdown",
   "id": "35af0493-2cfb-485f-9d0f-8ce84410dccc",
   "metadata": {
    "papermill": {},
    "tags": []
   },
   "source": [
    "**Tags:** #polars #dataframe #read #python #library #data"
   ]
  },
  {
   "cell_type": "markdown",
   "id": "06354b65-7306-4825-aef2-c63aeb79f50b",
   "metadata": {
    "papermill": {},
    "tags": []
   },
   "source": [
    "**Author:** [Minura Punchihewa](https://www.linkedin.com/in/minurapunchihewa/)"
   ]
  },
  {
   "cell_type": "markdown",
   "id": "c0500e98-9f0a-4f87-97aa-5f4c44c2ea0a",
   "metadata": {
    "papermill": {},
    "tags": []
   },
   "source": [
    "**Description:** This notebook will demonstrate how to read a dataframe using the Polars library."
   ]
  },
  {
   "cell_type": "markdown",
   "id": "6c510bc9-3949-4b57-916a-c40e78419981",
   "metadata": {
    "papermill": {},
    "tags": []
   },
   "source": [
    "**References:**\n",
    "- [Polars](https://pypi.org/project/polars/)\n",
    "- [Dataframe](https://pandas.pydata.org/pandas-docs/stable/reference/api/pandas.DataFrame.html)"
   ]
  },
  {
   "cell_type": "markdown",
   "id": "658d10d1-a3d7-4e16-aa0a-fdb9ede7b22c",
   "metadata": {
    "papermill": {},
    "tags": []
   },
   "source": [
    "## Input"
   ]
  },
  {
   "cell_type": "markdown",
   "id": "d5ad9c05-19dc-463c-868d-bdd747639473",
   "metadata": {
    "papermill": {},
    "tags": []
   },
   "source": [
    "### Import libraries"
   ]
  },
  {
   "cell_type": "code",
   "execution_count": null,
   "id": "be598579-8752-4f61-a352-9c3ae2d031e3",
   "metadata": {
    "papermill": {},
    "tags": []
   },
   "outputs": [],
   "source": [
    "try:\n",
    "    import polars as pl\n",
    "except ModuleNotFoundError:\n",
    "    !pip install polars\n",
    "    import polars as pl"
   ]
  },
  {
   "cell_type": "markdown",
   "id": "12b438fc-fe51-460c-898e-c48816da050a",
   "metadata": {
    "papermill": {},
    "tags": []
   },
   "source": [
    "### Setup Variables\n",
    "- `df`: dataframe to be read"
   ]
  },
  {
   "cell_type": "code",
   "execution_count": null,
   "id": "66170a78-2f6e-471e-87ae-ee00206a43d5",
   "metadata": {
    "papermill": {},
    "tags": []
   },
   "outputs": [],
   "source": [
    "df = pl.DataFrame()"
   ]
  },
  {
   "cell_type": "markdown",
   "id": "8b34fd7a-0021-4ac5-8e8d-ef699978f907",
   "metadata": {
    "papermill": {},
    "tags": []
   },
   "source": [
    "## Model"
   ]
  },
  {
   "cell_type": "markdown",
   "id": "19ded647-e9d7-4e0f-8b89-cb84ca613351",
   "metadata": {
    "papermill": {},
    "tags": []
   },
   "source": [
    "### Read dataframe"
   ]
  },
  {
   "cell_type": "markdown",
   "id": "9c969734-e29b-4453-8910-182b2700fdfe",
   "metadata": {
    "papermill": {},
    "tags": []
   },
   "source": [
    "Read the dataframe using the `read_csv` method."
   ]
  },
  {
   "cell_type": "code",
   "execution_count": null,
   "id": "c1d87c44-d6b8-4f5a-82fb-0fc6edfe61f6",
   "metadata": {
    "papermill": {},
    "tags": []
   },
   "outputs": [],
   "source": [
    "df.read_csv(\"data.csv\")"
   ]
  },
  {
   "cell_type": "markdown",
   "id": "fad28fc0-5fdd-48bd-8fdd-029ad0f92022",
   "metadata": {
    "papermill": {},
    "tags": []
   },
   "source": [
    "## Output"
   ]
  },
  {
   "cell_type": "markdown",
   "id": "9a73fefb-1117-44a9-841d-2f8d94812ec8",
   "metadata": {
    "papermill": {},
    "tags": []
   },
   "source": [
    "### Display result"
   ]
  },
  {
   "cell_type": "code",
   "execution_count": null,
   "id": "2be32a3f-a5a9-457a-8b3c-606a7ead14bd",
   "metadata": {
    "papermill": {},
    "tags": []
   },
   "outputs": [],
   "source": [
    "df.head()"
   ]
  },
  {
   "cell_type": "markdown",
   "id": "40405988-c62d-4003-a0a9-a147b4870b4f",
   "metadata": {
    "papermill": {},
    "tags": []
   },
   "source": [
    " "
   ]
  }
 ],
 "metadata": {
  "kernelspec": {
   "display_name": "Python 3",
   "language": "python",
   "name": "python3"
  },
  "language_info": {
   "codemirror_mode": {
    "name": "ipython",
    "version": 3
   },
   "file_extension": ".py",
   "mimetype": "text/x-python",
   "name": "python",
   "nbconvert_exporter": "python",
   "pygments_lexer": "ipython3",
   "version": "3.9.6"
  },
  "widgets": {
   "application/vnd.jupyter.widget-state+json": {
    "state": {},
    "version_major": 2,
    "version_minor": 0
   }
  }
 },
 "nbformat": 4,
 "nbformat_minor": 5
}
