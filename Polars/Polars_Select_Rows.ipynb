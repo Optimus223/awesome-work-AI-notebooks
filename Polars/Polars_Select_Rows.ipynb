{
 "cells": [
  {
   "cell_type": "markdown",
   "id": "26d971be-a654-4715-97d3-18ecf0b7a9cc",
   "metadata": {
    "papermill": {},
    "tags": []
   },
   "source": [
    "<img width=\"10%\" alt=\"Naas\" src=\"https://landen.imgix.net/jtci2pxwjczr/assets/5ice39g4.png?w=160\"/>"
   ]
  },
  {
   "cell_type": "markdown",
   "id": "1889751c-f97e-4792-8429-7dab25ec885f",
   "metadata": {
    "papermill": {},
    "tags": []
   },
   "source": [
    "# Polars - Select rows\n",
    "<a href=\"https://app.naas.ai/user-redirect/naas/downloader?url=https://raw.githubusercontent.com/jupyter-naas/awesome-notebooks/master/Polars/Polars_Read_CSV.ipynb\" target=\"_parent\"><img src=\"https://naasai-public.s3.eu-west-3.amazonaws.com/Open_in_Naas_Lab.svg\"/></a><br><br><a href=\"https://github.com/jupyter-naas/awesome-notebooks/issues/new?assignees=&labels=&template=template-request.md&title=Tool+-+Action+of+the+notebook+\">Template request</a> | <a href=\"https://github.com/jupyter-naas/awesome-notebooks/issues/new?assignees=&labels=bug&template=bug_report.md&title=Polars+-+Read+CSV:+Error+short+description\">Bug report</a> | <a href=\"https://app.naas.ai/user-redirect/naas/downloader?url=https://raw.githubusercontent.com/jupyter-naas/awesome-notebooks/master/Naas/Naas_Start_data_product.ipynb\" target=\"_parent\">Generate Data Product</a>"
   ]
  },
  {
   "cell_type": "markdown",
   "id": "35af0493-2cfb-485f-9d0f-8ce84410dccc",
   "metadata": {
    "papermill": {},
    "tags": []
   },
   "source": [
    "**Tags:** #polars #dataframe #read #python #library #data #csv"
   ]
  },
  {
   "cell_type": "markdown",
   "id": "06354b65-7306-4825-aef2-c63aeb79f50b",
   "metadata": {
    "papermill": {},
    "tags": []
   },
   "source": [
    "**Author:** [Antonio Georgiev](www.linkedin.com/in/antonio-georgiev-b672a325b)"
   ]
  },
  {
   "cell_type": "markdown",
   "id": "c0500e98-9f0a-4f87-97aa-5f4c44c2ea0a",
   "metadata": {
    "papermill": {},
    "tags": []
   },
   "source": [
    "**Description:** This notebook will demonstrate how to select rows and it relevant functions.\n",
    "\n",
    "About Polars:\n",
    "- `polars` is a Python library for data manipulation that is built on top of Rust's `Apache Arrow` and `DataFusion` projects.\n",
    "- It offers fast and efficient data processing and manipulation capabilities for large datasets, with a Pandas-like API and support for advanced data types.\n",
    "- `polars` is especially useful for data-intensive applications such as machine learning, data analysis, and data visualization, and can handle datasets that are too large to fit into memory."
   ]
  },
  {
   "cell_type": "markdown",
   "id": "6c510bc9-3949-4b57-916a-c40e78419981",
   "metadata": {
    "papermill": {},
    "tags": []
   },
   "source": [
    "**References:**\n",
    "- [Polars](https://pypi.org/project/polars/)\n",
    "- [Dataframe](https://pandas.pydata.org/pandas-docs/stable/reference/api/pandas.DataFrame.html)"
   ]
  },
  {
   "cell_type": "markdown",
   "id": "658d10d1-a3d7-4e16-aa0a-fdb9ede7b22c",
   "metadata": {
    "papermill": {},
    "tags": []
   },
   "source": [
    "## Input"
   ]
  },
  {
   "cell_type": "markdown",
   "id": "d5ad9c05-19dc-463c-868d-bdd747639473",
   "metadata": {
    "papermill": {},
    "tags": []
   },
   "source": [
    "### Import libraries"
   ]
  },
  {
   "cell_type": "markdown",
   "id": "d94dc9fc-0cb1-4435-8a0b-43a2dacca952",
   "metadata": {},
   "source": [
    "Imports libraries, if unsuccessful, installs the required libraries"
   ]
  },
  {
   "cell_type": "code",
   "execution_count": 1,
   "id": "be598579-8752-4f61-a352-9c3ae2d031e3",
   "metadata": {
    "execution": {
     "iopub.execute_input": "2023-07-05T12:02:36.536302Z",
     "iopub.status.busy": "2023-07-05T12:02:36.536022Z",
     "iopub.status.idle": "2023-07-05T12:02:36.588118Z",
     "shell.execute_reply": "2023-07-05T12:02:36.587498Z",
     "shell.execute_reply.started": "2023-07-05T12:02:36.536238Z"
    },
    "papermill": {},
    "tags": []
   },
   "outputs": [],
   "source": [
    "try:\n",
    "    import polars as pl\n",
    "except ModuleNotFoundError:\n",
    "    !pip install polars\n",
    "    import polars as pl"
   ]
  },
  {
   "cell_type": "markdown",
   "id": "12b438fc-fe51-460c-898e-c48816da050a",
   "metadata": {
    "papermill": {},
    "tags": []
   },
   "source": [
    "### Input"
   ]
  },
  {
   "cell_type": "code",
   "execution_count": 2,
   "id": "66170a78-2f6e-471e-87ae-ee00206a43d5",
   "metadata": {
    "execution": {
     "iopub.execute_input": "2023-07-05T12:02:38.258872Z",
     "iopub.status.busy": "2023-07-05T12:02:38.258646Z",
     "iopub.status.idle": "2023-07-05T12:02:38.262617Z",
     "shell.execute_reply": "2023-07-05T12:02:38.261996Z",
     "shell.execute_reply.started": "2023-07-05T12:02:38.258848Z"
    },
    "papermill": {},
    "tags": []
   },
   "outputs": [],
   "source": [
    "# Inputs\n",
    "data = {\n",
    "        'column 1': [\"A\", \"B\", \"C\", \"D\",\n",
    "                    \"E\", \"B\", \"G\", \"H\",\n",
    "                    \"I\", \"J\", \"K\", \"L\",],\n",
    "        'column 2': [3, 7, 8, 4,\n",
    "                    1, 3, 2, 5,\n",
    "                    7, 6, 3, 11],\n",
    "        'column 3': [\"V\", \"C\", \"M\", \"A\",\n",
    "                    \"S\", \"V\", \"R\", \"L\",\n",
    "                    \"Q\", \"N\", \"P\", \"O\",]\n",
    "}"
   ]
  },
  {
   "cell_type": "markdown",
   "id": "8b34fd7a-0021-4ac5-8e8d-ef699978f907",
   "metadata": {
    "papermill": {},
    "tags": []
   },
   "source": [
    "## Model"
   ]
  },
  {
   "cell_type": "markdown",
   "id": "19ded647-e9d7-4e0f-8b89-cb84ca613351",
   "metadata": {
    "papermill": {},
    "tags": []
   },
   "source": [
    "### Create DataFrame"
   ]
  },
  {
   "cell_type": "markdown",
   "id": "9c969734-e29b-4453-8910-182b2700fdfe",
   "metadata": {
    "papermill": {},
    "tags": []
   },
   "source": [
    "Create the data frame using polars library"
   ]
  },
  {
   "cell_type": "code",
   "execution_count": 3,
   "id": "c1d87c44-d6b8-4f5a-82fb-0fc6edfe61f6",
   "metadata": {
    "execution": {
     "iopub.execute_input": "2023-07-05T12:02:39.978393Z",
     "iopub.status.busy": "2023-07-05T12:02:39.978171Z",
     "iopub.status.idle": "2023-07-05T12:02:39.982412Z",
     "shell.execute_reply": "2023-07-05T12:02:39.981728Z",
     "shell.execute_reply.started": "2023-07-05T12:02:39.978370Z"
    },
    "papermill": {},
    "tags": []
   },
   "outputs": [],
   "source": [
    "df = pl.DataFrame(data)"
   ]
  },
  {
   "cell_type": "markdown",
   "id": "6c771c9d-a5ee-4ca6-a73a-bac4918199c0",
   "metadata": {},
   "source": [
    "### Select rows"
   ]
  },
  {
   "cell_type": "markdown",
   "id": "342f6846-ee36-4904-8480-197f21aaa9cf",
   "metadata": {},
   "source": [
    "To select a single row in the data frame, pass the row number in the row() method"
   ]
  },
  {
   "cell_type": "code",
   "execution_count": 4,
   "id": "4a796c9d-54a5-4bd5-b0bc-16e149099320",
   "metadata": {
    "execution": {
     "iopub.execute_input": "2023-07-05T12:02:41.429444Z",
     "iopub.status.busy": "2023-07-05T12:02:41.429023Z",
     "iopub.status.idle": "2023-07-05T12:02:41.434599Z",
     "shell.execute_reply": "2023-07-05T12:02:41.433806Z",
     "shell.execute_reply.started": "2023-07-05T12:02:41.429408Z"
    },
    "tags": []
   },
   "outputs": [],
   "source": [
    "select_row = df.row(0) # first row"
   ]
  },
  {
   "cell_type": "markdown",
   "id": "a9d795ba-75f1-40cf-95f1-953c51cc5ed9",
   "metadata": {},
   "source": [
    "To get multiple rows based on the row number use square bracket in (not a recommended way to do it in Polars):"
   ]
  },
  {
   "cell_type": "code",
   "execution_count": 5,
   "id": "0f90c4a2-0720-40ea-ad79-152afedb21ab",
   "metadata": {
    "execution": {
     "iopub.execute_input": "2023-07-05T12:02:43.816701Z",
     "iopub.status.busy": "2023-07-05T12:02:43.816366Z",
     "iopub.status.idle": "2023-07-05T12:02:43.820252Z",
     "shell.execute_reply": "2023-07-05T12:02:43.819604Z",
     "shell.execute_reply.started": "2023-07-05T12:02:43.816665Z"
    },
    "tags": []
   },
   "outputs": [],
   "source": [
    "select_multiple_rows = df[:3] # first 3 rows"
   ]
  },
  {
   "cell_type": "markdown",
   "id": "31b96730-c5b6-4bd2-9d4c-63c924dada8f",
   "metadata": {},
   "source": [
    "Or"
   ]
  },
  {
   "cell_type": "code",
   "execution_count": 6,
   "id": "408621d5-cc24-48b0-b65c-53cd61f87c00",
   "metadata": {
    "execution": {
     "iopub.execute_input": "2023-07-05T12:02:58.076003Z",
     "iopub.status.busy": "2023-07-05T12:02:58.075732Z",
     "iopub.status.idle": "2023-07-05T12:02:58.081140Z",
     "shell.execute_reply": "2023-07-05T12:02:58.080288Z",
     "shell.execute_reply.started": "2023-07-05T12:02:58.075976Z"
    },
    "tags": []
   },
   "outputs": [],
   "source": [
    "select_multiple_rows_2 = df[[3, 4]] # 4th and 5th row"
   ]
  },
  {
   "cell_type": "markdown",
   "id": "b47f5e5c-6565-432b-9ef4-57b382768f9b",
   "metadata": {},
   "source": [
    "To select multiple rows use the filter() function (recommended by Polars):"
   ]
  },
  {
   "cell_type": "code",
   "execution_count": 7,
   "id": "36803f49-6ee0-4d09-8a25-35cbea5e86c4",
   "metadata": {
    "execution": {
     "iopub.execute_input": "2023-07-05T12:03:31.876212Z",
     "iopub.status.busy": "2023-07-05T12:03:31.875976Z",
     "iopub.status.idle": "2023-07-05T12:03:31.879706Z",
     "shell.execute_reply": "2023-07-05T12:03:31.879089Z",
     "shell.execute_reply.started": "2023-07-05T12:03:31.876185Z"
    },
    "tags": []
   },
   "outputs": [],
   "source": [
    "select_multiple_rows_filter = df.filter(\n",
    "    pl.col('column 2') == 3\n",
    ")"
   ]
  },
  {
   "cell_type": "markdown",
   "id": "db19d02e-06fd-47fc-9392-aa0729448aaf",
   "metadata": {},
   "source": [
    "To get the content of the data frame as a list of tuples, use the rows() method demonstrated below."
   ]
  },
  {
   "cell_type": "code",
   "execution_count": 8,
   "id": "81a35198-1b70-46eb-bc0f-4619fc23090a",
   "metadata": {
    "execution": {
     "iopub.execute_input": "2023-07-05T12:03:40.413977Z",
     "iopub.status.busy": "2023-07-05T12:03:40.413741Z",
     "iopub.status.idle": "2023-07-05T12:03:40.416981Z",
     "shell.execute_reply": "2023-07-05T12:03:40.416342Z",
     "shell.execute_reply.started": "2023-07-05T12:03:40.413954Z"
    },
    "tags": []
   },
   "outputs": [],
   "source": [
    "rows_content = df.rows()"
   ]
  },
  {
   "cell_type": "markdown",
   "id": "fad28fc0-5fdd-48bd-8fdd-029ad0f92022",
   "metadata": {
    "papermill": {},
    "tags": []
   },
   "source": [
    "## Output"
   ]
  },
  {
   "cell_type": "markdown",
   "id": "9a73fefb-1117-44a9-841d-2f8d94812ec8",
   "metadata": {
    "papermill": {},
    "tags": []
   },
   "source": [
    "### Display the DataFrame and number of rows and columns"
   ]
  },
  {
   "cell_type": "code",
   "execution_count": 9,
   "id": "2be32a3f-a5a9-457a-8b3c-606a7ead14bd",
   "metadata": {
    "execution": {
     "iopub.execute_input": "2023-07-05T12:05:29.257105Z",
     "iopub.status.busy": "2023-07-05T12:05:29.256871Z",
     "iopub.status.idle": "2023-07-05T12:05:29.270487Z",
     "shell.execute_reply": "2023-07-05T12:05:29.269775Z",
     "shell.execute_reply.started": "2023-07-05T12:05:29.257081Z"
    },
    "papermill": {},
    "tags": []
   },
   "outputs": [
    {
     "data": {
      "text/html": [
       "<div><style>\n",
       ".dataframe > thead > tr > th,\n",
       ".dataframe > tbody > tr > td {\n",
       "  text-align: right;\n",
       "}\n",
       "</style>\n",
       "<small>shape: (12, 3)</small><table border=\"1\" class=\"dataframe\"><thead><tr><th>column 1</th><th>column 2</th><th>column 3</th></tr><tr><td>str</td><td>i64</td><td>str</td></tr></thead><tbody><tr><td>&quot;A&quot;</td><td>3</td><td>&quot;V&quot;</td></tr><tr><td>&quot;B&quot;</td><td>7</td><td>&quot;C&quot;</td></tr><tr><td>&quot;C&quot;</td><td>8</td><td>&quot;M&quot;</td></tr><tr><td>&quot;D&quot;</td><td>4</td><td>&quot;A&quot;</td></tr><tr><td>&quot;E&quot;</td><td>1</td><td>&quot;S&quot;</td></tr><tr><td>&quot;B&quot;</td><td>3</td><td>&quot;V&quot;</td></tr><tr><td>&quot;G&quot;</td><td>2</td><td>&quot;R&quot;</td></tr><tr><td>&quot;H&quot;</td><td>5</td><td>&quot;L&quot;</td></tr><tr><td>&quot;I&quot;</td><td>7</td><td>&quot;Q&quot;</td></tr><tr><td>&quot;J&quot;</td><td>6</td><td>&quot;N&quot;</td></tr><tr><td>&quot;K&quot;</td><td>3</td><td>&quot;P&quot;</td></tr><tr><td>&quot;L&quot;</td><td>11</td><td>&quot;O&quot;</td></tr></tbody></table></div>"
      ],
      "text/plain": [
       "shape: (12, 3)\n",
       "┌──────────┬──────────┬──────────┐\n",
       "│ column 1 ┆ column 2 ┆ column 3 │\n",
       "│ ---      ┆ ---      ┆ ---      │\n",
       "│ str      ┆ i64      ┆ str      │\n",
       "╞══════════╪══════════╪══════════╡\n",
       "│ A        ┆ 3        ┆ V        │\n",
       "│ B        ┆ 7        ┆ C        │\n",
       "│ C        ┆ 8        ┆ M        │\n",
       "│ D        ┆ 4        ┆ A        │\n",
       "│ …        ┆ …        ┆ …        │\n",
       "│ I        ┆ 7        ┆ Q        │\n",
       "│ J        ┆ 6        ┆ N        │\n",
       "│ K        ┆ 3        ┆ P        │\n",
       "│ L        ┆ 11       ┆ O        │\n",
       "└──────────┴──────────┴──────────┘"
      ]
     },
     "metadata": {},
     "output_type": "display_data"
    },
    {
     "name": "stdout",
     "output_type": "stream",
     "text": [
      "\n",
      "Select row function:\n",
      "('A', 3, 'V')\n",
      "\n",
      "Select multiple rows function:\n",
      "shape: (3, 3)\n",
      "┌──────────┬──────────┬──────────┐\n",
      "│ column 1 ┆ column 2 ┆ column 3 │\n",
      "│ ---      ┆ ---      ┆ ---      │\n",
      "│ str      ┆ i64      ┆ str      │\n",
      "╞══════════╪══════════╪══════════╡\n",
      "│ A        ┆ 3        ┆ V        │\n",
      "│ B        ┆ 7        ┆ C        │\n",
      "│ C        ┆ 8        ┆ M        │\n",
      "└──────────┴──────────┴──────────┘\n",
      "\n",
      "Select multiple rows second function:\n",
      "shape: (2, 3)\n",
      "┌──────────┬──────────┬──────────┐\n",
      "│ column 1 ┆ column 2 ┆ column 3 │\n",
      "│ ---      ┆ ---      ┆ ---      │\n",
      "│ str      ┆ i64      ┆ str      │\n",
      "╞══════════╪══════════╪══════════╡\n",
      "│ D        ┆ 4        ┆ A        │\n",
      "│ E        ┆ 1        ┆ S        │\n",
      "└──────────┴──────────┴──────────┘\n",
      "\n",
      "Select multiple rows using filter function:\n",
      "shape: (3, 3)\n",
      "┌──────────┬──────────┬──────────┐\n",
      "│ column 1 ┆ column 2 ┆ column 3 │\n",
      "│ ---      ┆ ---      ┆ ---      │\n",
      "│ str      ┆ i64      ┆ str      │\n",
      "╞══════════╪══════════╪══════════╡\n",
      "│ A        ┆ 3        ┆ V        │\n",
      "│ B        ┆ 3        ┆ V        │\n",
      "│ K        ┆ 3        ┆ P        │\n",
      "└──────────┴──────────┴──────────┘\n",
      "\n",
      "Rows content:\n",
      "[('A', 3, 'V'), ('B', 7, 'C'), ('C', 8, 'M'), ('D', 4, 'A'), ('E', 1, 'S'), ('B', 3, 'V'), ('G', 2, 'R'), ('H', 5, 'L'), ('I', 7, 'Q'), ('J', 6, 'N'), ('K', 3, 'P'), ('L', 11, 'O')]\n"
     ]
    }
   ],
   "source": [
    "display(df)\n",
    "print(f\"\\nSelect row function:\")\n",
    "print(select_row)\n",
    "print(f\"\\nSelect multiple rows function:\")\n",
    "print(select_multiple_rows)\n",
    "print(f\"\\nSelect multiple rows second function:\")\n",
    "print(select_multiple_rows_2)\n",
    "print(f\"\\nSelect multiple rows using filter function:\")\n",
    "print(select_multiple_rows_filter)\n",
    "print(f\"\\nRows content:\")\n",
    "print(rows_content)"
   ]
  }
 ],
 "metadata": {
  "kernelspec": {
   "display_name": "Python 3",
   "language": "python",
   "name": "python3"
  },
  "language_info": {
   "codemirror_mode": {
    "name": "ipython",
    "version": 3
   },
   "file_extension": ".py",
   "mimetype": "text/x-python",
   "name": "python",
   "nbconvert_exporter": "python",
   "pygments_lexer": "ipython3",
   "version": "3.9.6"
  },
  "naas": {
   "notebook_id": "5ad976a4ad2a8c89054f8c2676b823083a4ffa05d5d8803d3ad6164a6649f777",
   "notebook_path": "Polars/Polars_Read_CSV.ipynb"
  },
  "papermill": {
   "default_parameters": {},
   "environment_variables": {},
   "parameters": {},
   "version": "2.4.0"
  },
  "widgets": {
   "application/vnd.jupyter.widget-state+json": {
    "state": {},
    "version_major": 2,
    "version_minor": 0
   }
  }
 },
 "nbformat": 4,
 "nbformat_minor": 5
}
