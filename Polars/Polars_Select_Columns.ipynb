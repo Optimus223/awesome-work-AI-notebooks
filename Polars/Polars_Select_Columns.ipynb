{
 "cells": [
  {
   "cell_type": "markdown",
   "id": "26d971be-a654-4715-97d3-18ecf0b7a9cc",
   "metadata": {
    "papermill": {},
    "tags": []
   },
   "source": [
    "<img width=\"10%\" alt=\"Naas\" src=\"https://landen.imgix.net/jtci2pxwjczr/assets/5ice39g4.png?w=160\"/>"
   ]
  },
  {
   "cell_type": "markdown",
   "id": "1889751c-f97e-4792-8429-7dab25ec885f",
   "metadata": {
    "papermill": {},
    "tags": []
   },
   "source": [
    "# Polars - Select columns\n",
    "<a href=\"https://app.naas.ai/user-redirect/naas/downloader?url=https://raw.githubusercontent.com/jupyter-naas/awesome-notebooks/master/Polars/Polars_Read_CSV.ipynb\" target=\"_parent\"><img src=\"https://naasai-public.s3.eu-west-3.amazonaws.com/Open_in_Naas_Lab.svg\"/></a><br><br><a href=\"https://github.com/jupyter-naas/awesome-notebooks/issues/new?assignees=&labels=&template=template-request.md&title=Tool+-+Action+of+the+notebook+\">Template request</a> | <a href=\"https://github.com/jupyter-naas/awesome-notebooks/issues/new?assignees=&labels=bug&template=bug_report.md&title=Polars+-+Read+CSV:+Error+short+description\">Bug report</a> | <a href=\"https://app.naas.ai/user-redirect/naas/downloader?url=https://raw.githubusercontent.com/jupyter-naas/awesome-notebooks/master/Naas/Naas_Start_data_product.ipynb\" target=\"_parent\">Generate Data Product</a>"
   ]
  },
  {
   "cell_type": "markdown",
   "id": "35af0493-2cfb-485f-9d0f-8ce84410dccc",
   "metadata": {
    "papermill": {},
    "tags": []
   },
   "source": [
    "**Tags:** #polars #dataframe #read #python #library #data #csv"
   ]
  },
  {
   "cell_type": "markdown",
   "id": "06354b65-7306-4825-aef2-c63aeb79f50b",
   "metadata": {
    "papermill": {},
    "tags": []
   },
   "source": [
    "**Author:** [Antonio Georgiev](www.linkedin.com/in/antonio-georgiev-b672a325b)"
   ]
  },
  {
   "cell_type": "markdown",
   "id": "c0500e98-9f0a-4f87-97aa-5f4c44c2ea0a",
   "metadata": {
    "papermill": {},
    "tags": []
   },
   "source": [
    "**Description:** This notebook will demonstrate how to select columns and how to use its relevant functions\n",
    "\n",
    "About Polars:\n",
    "- `polars` is a Python library for data manipulation that is built on top of Rust's `Apache Arrow` and `DataFusion` projects.\n",
    "- It offers fast and efficient data processing and manipulation capabilities for large datasets, with a Pandas-like API and support for advanced data types.\n",
    "- `polars` is especially useful for data-intensive applications such as machine learning, data analysis, and data visualization, and can handle datasets that are too large to fit into memory."
   ]
  },
  {
   "cell_type": "markdown",
   "id": "6c510bc9-3949-4b57-916a-c40e78419981",
   "metadata": {
    "papermill": {},
    "tags": []
   },
   "source": [
    "**References:**\n",
    "- [Polars](https://pypi.org/project/polars/)\n",
    "- [Dataframe](https://pandas.pydata.org/pandas-docs/stable/reference/api/pandas.DataFrame.html)"
   ]
  },
  {
   "cell_type": "markdown",
   "id": "658d10d1-a3d7-4e16-aa0a-fdb9ede7b22c",
   "metadata": {
    "papermill": {},
    "tags": []
   },
   "source": [
    "## Input"
   ]
  },
  {
   "cell_type": "markdown",
   "id": "d5ad9c05-19dc-463c-868d-bdd747639473",
   "metadata": {
    "papermill": {},
    "tags": []
   },
   "source": [
    "### Import libraries"
   ]
  },
  {
   "cell_type": "markdown",
   "id": "d94dc9fc-0cb1-4435-8a0b-43a2dacca952",
   "metadata": {},
   "source": [
    "Imports libraries, if unsuccessful, installs the required libraries"
   ]
  },
  {
   "cell_type": "code",
   "execution_count": 1,
   "id": "be598579-8752-4f61-a352-9c3ae2d031e3",
   "metadata": {
    "execution": {
     "iopub.execute_input": "2023-07-05T11:59:57.902813Z",
     "iopub.status.busy": "2023-07-05T11:59:57.902220Z",
     "iopub.status.idle": "2023-07-05T11:59:57.957276Z",
     "shell.execute_reply": "2023-07-05T11:59:57.956571Z",
     "shell.execute_reply.started": "2023-07-05T11:59:57.902741Z"
    },
    "papermill": {},
    "tags": []
   },
   "outputs": [],
   "source": [
    "try:\n",
    "    import polars as pl\n",
    "except ModuleNotFoundError:\n",
    "    !pip install polars\n",
    "    import polars as pl"
   ]
  },
  {
   "cell_type": "markdown",
   "id": "12b438fc-fe51-460c-898e-c48816da050a",
   "metadata": {
    "papermill": {},
    "tags": []
   },
   "source": [
    "### Input"
   ]
  },
  {
   "cell_type": "code",
   "execution_count": 2,
   "id": "66170a78-2f6e-471e-87ae-ee00206a43d5",
   "metadata": {
    "execution": {
     "iopub.execute_input": "2023-07-05T11:59:57.959007Z",
     "iopub.status.busy": "2023-07-05T11:59:57.958778Z",
     "iopub.status.idle": "2023-07-05T11:59:58.030790Z",
     "shell.execute_reply": "2023-07-05T11:59:58.025179Z",
     "shell.execute_reply.started": "2023-07-05T11:59:57.958979Z"
    },
    "papermill": {},
    "tags": []
   },
   "outputs": [],
   "source": [
    "# Inputs\n",
    "data = {\n",
    "        'column 1': [\"A\", \"B\", \"C\", \"D\",\n",
    "                    \"E\", \"B\", \"G\", \"H\",\n",
    "                    \"I\", \"J\", \"K\", \"L\",],\n",
    "        'column 2': [3, 7, 8, 4,\n",
    "                    1, 3, 2, 5,\n",
    "                    7, 6, 3, 11],\n",
    "        'column 3': [\"V\", \"C\", \"M\", \"A\",\n",
    "                    \"S\", \"V\", \"R\", \"L\",\n",
    "                    \"Q\", \"N\", \"P\", \"O\",]\n",
    "}"
   ]
  },
  {
   "cell_type": "markdown",
   "id": "8b34fd7a-0021-4ac5-8e8d-ef699978f907",
   "metadata": {
    "papermill": {},
    "tags": []
   },
   "source": [
    "## Model"
   ]
  },
  {
   "cell_type": "markdown",
   "id": "19ded647-e9d7-4e0f-8b89-cb84ca613351",
   "metadata": {
    "papermill": {},
    "tags": []
   },
   "source": [
    "### Create DataFrame"
   ]
  },
  {
   "cell_type": "markdown",
   "id": "9c969734-e29b-4453-8910-182b2700fdfe",
   "metadata": {
    "papermill": {},
    "tags": []
   },
   "source": [
    "Create the data frame using polars library"
   ]
  },
  {
   "cell_type": "code",
   "execution_count": 3,
   "id": "c1d87c44-d6b8-4f5a-82fb-0fc6edfe61f6",
   "metadata": {
    "execution": {
     "iopub.execute_input": "2023-07-05T11:59:58.031867Z",
     "iopub.status.busy": "2023-07-05T11:59:58.031686Z",
     "iopub.status.idle": "2023-07-05T11:59:58.105217Z",
     "shell.execute_reply": "2023-07-05T11:59:58.104652Z",
     "shell.execute_reply.started": "2023-07-05T11:59:58.031847Z"
    },
    "papermill": {},
    "tags": []
   },
   "outputs": [],
   "source": [
    "df = pl.DataFrame(data)"
   ]
  },
  {
   "cell_type": "markdown",
   "id": "c0ffd201-f136-4cde-8153-a498b71c5486",
   "metadata": {},
   "source": [
    "### Select columns"
   ]
  },
  {
   "cell_type": "markdown",
   "id": "82aac1cd-f9c6-45dc-b484-3336c830b9d7",
   "metadata": {},
   "source": [
    "To select columns from the DataFrame, use the select() method:"
   ]
  },
  {
   "cell_type": "code",
   "execution_count": 4,
   "id": "d41940a9-21d6-4b88-b83c-4ebfc74578b7",
   "metadata": {
    "execution": {
     "iopub.execute_input": "2023-07-05T11:59:58.106592Z",
     "iopub.status.busy": "2023-07-05T11:59:58.106205Z",
     "iopub.status.idle": "2023-07-05T11:59:58.182350Z",
     "shell.execute_reply": "2023-07-05T11:59:58.181688Z",
     "shell.execute_reply.started": "2023-07-05T11:59:58.106559Z"
    },
    "tags": []
   },
   "outputs": [],
   "source": [
    "select_column = df.select(\"column 2\")"
   ]
  },
  {
   "cell_type": "markdown",
   "id": "63a6efd9-7c01-4b8b-adec-9c4283b31bb2",
   "metadata": {},
   "source": [
    "To select multiple columns from the DataFrame, use again the select() method:"
   ]
  },
  {
   "cell_type": "code",
   "execution_count": 5,
   "id": "ffa77f32-c714-4363-93fb-662f21d329bc",
   "metadata": {
    "execution": {
     "iopub.execute_input": "2023-07-05T11:59:58.189606Z",
     "iopub.status.busy": "2023-07-05T11:59:58.183560Z",
     "iopub.status.idle": "2023-07-05T11:59:58.270257Z",
     "shell.execute_reply": "2023-07-05T11:59:58.269642Z",
     "shell.execute_reply.started": "2023-07-05T11:59:58.189541Z"
    },
    "tags": []
   },
   "outputs": [],
   "source": [
    "select_multiple_columns = df.select(\n",
    "    [\"column 1\",\"column 2\"]\n",
    ")"
   ]
  },
  {
   "cell_type": "markdown",
   "id": "0bd83746-0637-47e4-98c2-086d49b0a221",
   "metadata": {},
   "source": [
    "To select columns from the DataFrame by data type, use the expression below within the select() function:"
   ]
  },
  {
   "cell_type": "code",
   "execution_count": 6,
   "id": "895026e1-8260-458d-8cbe-c71e2daf2be5",
   "metadata": {
    "execution": {
     "iopub.execute_input": "2023-07-05T11:59:58.271426Z",
     "iopub.status.busy": "2023-07-05T11:59:58.271187Z",
     "iopub.status.idle": "2023-07-05T11:59:58.347954Z",
     "shell.execute_reply": "2023-07-05T11:59:58.347296Z",
     "shell.execute_reply.started": "2023-07-05T11:59:58.271396Z"
    },
    "tags": []
   },
   "outputs": [],
   "source": [
    "select_column_by_data_type = df.select(\n",
    "    pl.col(pl.Int64)\n",
    ")"
   ]
  },
  {
   "cell_type": "markdown",
   "id": "fad28fc0-5fdd-48bd-8fdd-029ad0f92022",
   "metadata": {
    "papermill": {},
    "tags": []
   },
   "source": [
    "## Output"
   ]
  },
  {
   "cell_type": "markdown",
   "id": "9a73fefb-1117-44a9-841d-2f8d94812ec8",
   "metadata": {
    "papermill": {},
    "tags": []
   },
   "source": [
    "### Display the DataFrame and number of rows and columns"
   ]
  },
  {
   "cell_type": "code",
   "execution_count": 7,
   "id": "2be32a3f-a5a9-457a-8b3c-606a7ead14bd",
   "metadata": {
    "execution": {
     "iopub.execute_input": "2023-07-05T11:59:58.350132Z",
     "iopub.status.busy": "2023-07-05T11:59:58.349688Z",
     "iopub.status.idle": "2023-07-05T11:59:58.438151Z",
     "shell.execute_reply": "2023-07-05T11:59:58.437603Z",
     "shell.execute_reply.started": "2023-07-05T11:59:58.350100Z"
    },
    "papermill": {},
    "tags": []
   },
   "outputs": [
    {
     "data": {
      "text/html": [
       "<div><style>\n",
       ".dataframe > thead > tr > th,\n",
       ".dataframe > tbody > tr > td {\n",
       "  text-align: right;\n",
       "}\n",
       "</style>\n",
       "<small>shape: (12, 3)</small><table border=\"1\" class=\"dataframe\"><thead><tr><th>column 1</th><th>column 2</th><th>column 3</th></tr><tr><td>str</td><td>i64</td><td>str</td></tr></thead><tbody><tr><td>&quot;A&quot;</td><td>3</td><td>&quot;V&quot;</td></tr><tr><td>&quot;B&quot;</td><td>7</td><td>&quot;C&quot;</td></tr><tr><td>&quot;C&quot;</td><td>8</td><td>&quot;M&quot;</td></tr><tr><td>&quot;D&quot;</td><td>4</td><td>&quot;A&quot;</td></tr><tr><td>&quot;E&quot;</td><td>1</td><td>&quot;S&quot;</td></tr><tr><td>&quot;B&quot;</td><td>3</td><td>&quot;V&quot;</td></tr><tr><td>&quot;G&quot;</td><td>2</td><td>&quot;R&quot;</td></tr><tr><td>&quot;H&quot;</td><td>5</td><td>&quot;L&quot;</td></tr><tr><td>&quot;I&quot;</td><td>7</td><td>&quot;Q&quot;</td></tr><tr><td>&quot;J&quot;</td><td>6</td><td>&quot;N&quot;</td></tr><tr><td>&quot;K&quot;</td><td>3</td><td>&quot;P&quot;</td></tr><tr><td>&quot;L&quot;</td><td>11</td><td>&quot;O&quot;</td></tr></tbody></table></div>"
      ],
      "text/plain": [
       "shape: (12, 3)\n",
       "┌──────────┬──────────┬──────────┐\n",
       "│ column 1 ┆ column 2 ┆ column 3 │\n",
       "│ ---      ┆ ---      ┆ ---      │\n",
       "│ str      ┆ i64      ┆ str      │\n",
       "╞══════════╪══════════╪══════════╡\n",
       "│ A        ┆ 3        ┆ V        │\n",
       "│ B        ┆ 7        ┆ C        │\n",
       "│ C        ┆ 8        ┆ M        │\n",
       "│ D        ┆ 4        ┆ A        │\n",
       "│ …        ┆ …        ┆ …        │\n",
       "│ I        ┆ 7        ┆ Q        │\n",
       "│ J        ┆ 6        ┆ N        │\n",
       "│ K        ┆ 3        ┆ P        │\n",
       "│ L        ┆ 11       ┆ O        │\n",
       "└──────────┴──────────┴──────────┘"
      ]
     },
     "metadata": {},
     "output_type": "display_data"
    },
    {
     "name": "stdout",
     "output_type": "stream",
     "text": [
      "\n",
      "Select column function:\n",
      "shape: (12, 1)\n",
      "┌──────────┐\n",
      "│ column 2 │\n",
      "│ ---      │\n",
      "│ i64      │\n",
      "╞══════════╡\n",
      "│ 3        │\n",
      "│ 7        │\n",
      "│ 8        │\n",
      "│ 4        │\n",
      "│ …        │\n",
      "│ 7        │\n",
      "│ 6        │\n",
      "│ 3        │\n",
      "│ 11       │\n",
      "└──────────┘\n",
      "\n",
      "Select multiple columns function:\n",
      "shape: (12, 2)\n",
      "┌──────────┬──────────┐\n",
      "│ column 1 ┆ column 2 │\n",
      "│ ---      ┆ ---      │\n",
      "│ str      ┆ i64      │\n",
      "╞══════════╪══════════╡\n",
      "│ A        ┆ 3        │\n",
      "│ B        ┆ 7        │\n",
      "│ C        ┆ 8        │\n",
      "│ D        ┆ 4        │\n",
      "│ …        ┆ …        │\n",
      "│ I        ┆ 7        │\n",
      "│ J        ┆ 6        │\n",
      "│ K        ┆ 3        │\n",
      "│ L        ┆ 11       │\n",
      "└──────────┴──────────┘\n",
      "\n",
      "Select column by data type function:\n",
      "shape: (12, 1)\n",
      "┌──────────┐\n",
      "│ column 2 │\n",
      "│ ---      │\n",
      "│ i64      │\n",
      "╞══════════╡\n",
      "│ 3        │\n",
      "│ 7        │\n",
      "│ 8        │\n",
      "│ 4        │\n",
      "│ …        │\n",
      "│ 7        │\n",
      "│ 6        │\n",
      "│ 3        │\n",
      "│ 11       │\n",
      "└──────────┘\n"
     ]
    }
   ],
   "source": [
    "display(df)\n",
    "print(f\"\\nSelect column function:\")\n",
    "print(select_column)\n",
    "print(f\"\\nSelect multiple columns function:\")\n",
    "print(select_multiple_columns)\n",
    "print(f\"\\nSelect column by data type function:\")\n",
    "print(select_column_by_data_type)"
   ]
  }
 ],
 "metadata": {
  "kernelspec": {
   "display_name": "Python 3",
   "language": "python",
   "name": "python3"
  },
  "language_info": {
   "codemirror_mode": {
    "name": "ipython",
    "version": 3
   },
   "file_extension": ".py",
   "mimetype": "text/x-python",
   "name": "python",
   "nbconvert_exporter": "python",
   "pygments_lexer": "ipython3",
   "version": "3.9.6"
  },
  "naas": {
   "notebook_id": "5ad976a4ad2a8c89054f8c2676b823083a4ffa05d5d8803d3ad6164a6649f777",
   "notebook_path": "Polars/Polars_Read_CSV.ipynb"
  },
  "papermill": {
   "default_parameters": {},
   "environment_variables": {},
   "parameters": {},
   "version": "2.4.0"
  },
  "widgets": {
   "application/vnd.jupyter.widget-state+json": {
    "state": {},
    "version_major": 2,
    "version_minor": 0
   }
  }
 },
 "nbformat": 4,
 "nbformat_minor": 5
}
