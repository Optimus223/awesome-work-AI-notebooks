{
 "cells": [
  {
   "cell_type": "markdown",
   "id": "26d971be-a654-4715-97d3-18ecf0b7a9cc",
   "metadata": {
    "papermill": {},
    "tags": []
   },
   "source": [
    "<img width=\"10%\" alt=\"Naas\" src=\"https://landen.imgix.net/jtci2pxwjczr/assets/5ice39g4.png?w=160\"/>"
   ]
  },
  {
   "cell_type": "markdown",
   "id": "1889751c-f97e-4792-8429-7dab25ec885f",
   "metadata": {
    "papermill": {},
    "tags": []
   },
   "source": [
    "# Polars - Create DataFrame, select columns, select rows, select columns and rows\n",
    "<a href=\"https://app.naas.ai/user-redirect/naas/downloader?url=https://raw.githubusercontent.com/jupyter-naas/awesome-notebooks/master/Polars/Polars_Read_CSV.ipynb\" target=\"_parent\"><img src=\"https://naasai-public.s3.eu-west-3.amazonaws.com/Open_in_Naas_Lab.svg\"/></a><br><br><a href=\"https://github.com/jupyter-naas/awesome-notebooks/issues/new?assignees=&labels=&template=template-request.md&title=Tool+-+Action+of+the+notebook+\">Template request</a> | <a href=\"https://github.com/jupyter-naas/awesome-notebooks/issues/new?assignees=&labels=bug&template=bug_report.md&title=Polars+-+Read+CSV:+Error+short+description\">Bug report</a> | <a href=\"https://app.naas.ai/user-redirect/naas/downloader?url=https://raw.githubusercontent.com/jupyter-naas/awesome-notebooks/master/Naas/Naas_Start_data_product.ipynb\" target=\"_parent\">Generate Data Product</a>"
   ]
  },
  {
   "cell_type": "markdown",
   "id": "35af0493-2cfb-485f-9d0f-8ce84410dccc",
   "metadata": {
    "papermill": {},
    "tags": []
   },
   "source": [
    "**Tags:** #polars #dataframe #read #python #library #data #csv"
   ]
  },
  {
   "cell_type": "markdown",
   "id": "06354b65-7306-4825-aef2-c63aeb79f50b",
   "metadata": {
    "papermill": {},
    "tags": []
   },
   "source": [
    "**Author:** [Antonio Georgiev](www.linkedin.com/in/antonio-georgiev-b672a325b)"
   ]
  },
  {
   "cell_type": "markdown",
   "id": "c0500e98-9f0a-4f87-97aa-5f4c44c2ea0a",
   "metadata": {
    "papermill": {},
    "tags": []
   },
   "source": [
    "**Description:** This notebook will demonstrate how to create a DataFrame using Polars library. Furthermore, it will demonstrate how to select columns, rows, and both columns and rows at once.\n",
    "\n",
    "About Polars:\n",
    "- `polars` is a Python library for data manipulation that is built on top of Rust's `Apache Arrow` and `DataFusion` projects.\n",
    "- It offers fast and efficient data processing and manipulation capabilities for large datasets, with a Pandas-like API and support for advanced data types.\n",
    "- `polars` is especially useful for data-intensive applications such as machine learning, data analysis, and data visualization, and can handle datasets that are too large to fit into memory."
   ]
  },
  {
   "cell_type": "markdown",
   "id": "6c510bc9-3949-4b57-916a-c40e78419981",
   "metadata": {
    "papermill": {},
    "tags": []
   },
   "source": [
    "**References:**\n",
    "- [Polars](https://pypi.org/project/polars/)\n",
    "- [Dataframe](https://pandas.pydata.org/pandas-docs/stable/reference/api/pandas.DataFrame.html)"
   ]
  },
  {
   "cell_type": "markdown",
   "id": "658d10d1-a3d7-4e16-aa0a-fdb9ede7b22c",
   "metadata": {
    "papermill": {},
    "tags": []
   },
   "source": [
    "## Input"
   ]
  },
  {
   "cell_type": "markdown",
   "id": "d5ad9c05-19dc-463c-868d-bdd747639473",
   "metadata": {
    "papermill": {},
    "tags": []
   },
   "source": [
    "### Import libraries"
   ]
  },
  {
   "cell_type": "markdown",
   "id": "d94dc9fc-0cb1-4435-8a0b-43a2dacca952",
   "metadata": {},
   "source": [
    "Imports libraries, if unsuccessful, installs the required libraries"
   ]
  },
  {
   "cell_type": "code",
   "execution_count": 1,
   "id": "be598579-8752-4f61-a352-9c3ae2d031e3",
   "metadata": {
    "execution": {
     "iopub.execute_input": "2023-07-05T11:06:45.184020Z",
     "iopub.status.busy": "2023-07-05T11:06:45.183498Z",
     "iopub.status.idle": "2023-07-05T11:06:45.305501Z",
     "shell.execute_reply": "2023-07-05T11:06:45.304799Z",
     "shell.execute_reply.started": "2023-07-05T11:06:45.183947Z"
    },
    "papermill": {},
    "tags": []
   },
   "outputs": [],
   "source": [
    "try:\n",
    "    import polars as pl\n",
    "except ModuleNotFoundError:\n",
    "    !pip install polars\n",
    "    import polars as pl"
   ]
  },
  {
   "cell_type": "markdown",
   "id": "12b438fc-fe51-460c-898e-c48816da050a",
   "metadata": {
    "papermill": {},
    "tags": []
   },
   "source": [
    "### Input"
   ]
  },
  {
   "cell_type": "code",
   "execution_count": 2,
   "id": "66170a78-2f6e-471e-87ae-ee00206a43d5",
   "metadata": {
    "execution": {
     "iopub.execute_input": "2023-07-05T11:06:45.306612Z",
     "iopub.status.busy": "2023-07-05T11:06:45.306374Z",
     "iopub.status.idle": "2023-07-05T11:06:45.358508Z",
     "shell.execute_reply": "2023-07-05T11:06:45.358014Z",
     "shell.execute_reply.started": "2023-07-05T11:06:45.306580Z"
    },
    "papermill": {},
    "tags": []
   },
   "outputs": [],
   "source": [
    "# Inputs\n",
    "data = {\n",
    "        'column 1': [\"A\", \"B\", \"C\", \"D\",\n",
    "                    \"E\", \"B\", \"G\", \"H\",\n",
    "                    \"I\", \"J\", \"K\", \"L\",],\n",
    "        'column 2': [3, 7, 8, 4,\n",
    "                    1, 3, 2, 5,\n",
    "                    7, 6, 3, 11]\n",
    "}"
   ]
  },
  {
   "cell_type": "markdown",
   "id": "8b34fd7a-0021-4ac5-8e8d-ef699978f907",
   "metadata": {
    "papermill": {},
    "tags": []
   },
   "source": [
    "## Model"
   ]
  },
  {
   "cell_type": "markdown",
   "id": "19ded647-e9d7-4e0f-8b89-cb84ca613351",
   "metadata": {
    "papermill": {},
    "tags": []
   },
   "source": [
    "### Create DataFrame"
   ]
  },
  {
   "cell_type": "markdown",
   "id": "9c969734-e29b-4453-8910-182b2700fdfe",
   "metadata": {
    "papermill": {},
    "tags": []
   },
   "source": [
    "Create the data frame using polars library"
   ]
  },
  {
   "cell_type": "code",
   "execution_count": 3,
   "id": "c1d87c44-d6b8-4f5a-82fb-0fc6edfe61f6",
   "metadata": {
    "execution": {
     "iopub.execute_input": "2023-07-05T11:06:45.360915Z",
     "iopub.status.busy": "2023-07-05T11:06:45.360754Z",
     "iopub.status.idle": "2023-07-05T11:06:45.443548Z",
     "shell.execute_reply": "2023-07-05T11:06:45.442888Z",
     "shell.execute_reply.started": "2023-07-05T11:06:45.360897Z"
    },
    "papermill": {},
    "tags": []
   },
   "outputs": [],
   "source": [
    "df = pl.DataFrame(data)"
   ]
  },
  {
   "cell_type": "markdown",
   "id": "c0ffd201-f136-4cde-8153-a498b71c5486",
   "metadata": {},
   "source": [
    "### Select columns"
   ]
  },
  {
   "cell_type": "markdown",
   "id": "82aac1cd-f9c6-45dc-b484-3336c830b9d7",
   "metadata": {},
   "source": [
    "To select columns, use the select() method:"
   ]
  },
  {
   "cell_type": "code",
   "execution_count": 12,
   "id": "d41940a9-21d6-4b88-b83c-4ebfc74578b7",
   "metadata": {
    "execution": {
     "iopub.execute_input": "2023-07-05T11:08:53.077912Z",
     "iopub.status.busy": "2023-07-05T11:08:53.077686Z",
     "iopub.status.idle": "2023-07-05T11:08:53.085044Z",
     "shell.execute_reply": "2023-07-05T11:08:53.084336Z",
     "shell.execute_reply.started": "2023-07-05T11:08:53.077887Z"
    }
   },
   "outputs": [
    {
     "data": {
      "text/html": [
       "<div><style>\n",
       ".dataframe > thead > tr > th,\n",
       ".dataframe > tbody > tr > td {\n",
       "  text-align: right;\n",
       "}\n",
       "</style>\n",
       "<small>shape: (12, 1)</small><table border=\"1\" class=\"dataframe\"><thead><tr><th>column 2</th></tr><tr><td>i64</td></tr></thead><tbody><tr><td>3</td></tr><tr><td>7</td></tr><tr><td>8</td></tr><tr><td>4</td></tr><tr><td>1</td></tr><tr><td>3</td></tr><tr><td>2</td></tr><tr><td>5</td></tr><tr><td>7</td></tr><tr><td>6</td></tr><tr><td>3</td></tr><tr><td>11</td></tr></tbody></table></div>"
      ],
      "text/plain": [
       "shape: (12, 1)\n",
       "┌──────────┐\n",
       "│ column 2 │\n",
       "│ ---      │\n",
       "│ i64      │\n",
       "╞══════════╡\n",
       "│ 3        │\n",
       "│ 7        │\n",
       "│ 8        │\n",
       "│ 4        │\n",
       "│ …        │\n",
       "│ 7        │\n",
       "│ 6        │\n",
       "│ 3        │\n",
       "│ 11       │\n",
       "└──────────┘"
      ]
     },
     "execution_count": 12,
     "metadata": {},
     "output_type": "execute_result"
    }
   ],
   "source": [
    "df.select(\"column 2\")"
   ]
  },
  {
   "cell_type": "markdown",
   "id": "63a6efd9-7c01-4b8b-adec-9c4283b31bb2",
   "metadata": {},
   "source": [
    "To select multiple columns, use again the select() method:"
   ]
  },
  {
   "cell_type": "code",
   "execution_count": 14,
   "id": "ffa77f32-c714-4363-93fb-662f21d329bc",
   "metadata": {
    "execution": {
     "iopub.execute_input": "2023-07-05T11:10:08.535347Z",
     "iopub.status.busy": "2023-07-05T11:10:08.535037Z",
     "iopub.status.idle": "2023-07-05T11:10:08.543943Z",
     "shell.execute_reply": "2023-07-05T11:10:08.543402Z",
     "shell.execute_reply.started": "2023-07-05T11:10:08.535279Z"
    },
    "tags": []
   },
   "outputs": [
    {
     "data": {
      "text/html": [
       "<div><style>\n",
       ".dataframe > thead > tr > th,\n",
       ".dataframe > tbody > tr > td {\n",
       "  text-align: right;\n",
       "}\n",
       "</style>\n",
       "<small>shape: (12, 2)</small><table border=\"1\" class=\"dataframe\"><thead><tr><th>column 1</th><th>column 2</th></tr><tr><td>str</td><td>i64</td></tr></thead><tbody><tr><td>&quot;A&quot;</td><td>3</td></tr><tr><td>&quot;B&quot;</td><td>7</td></tr><tr><td>&quot;C&quot;</td><td>8</td></tr><tr><td>&quot;D&quot;</td><td>4</td></tr><tr><td>&quot;E&quot;</td><td>1</td></tr><tr><td>&quot;B&quot;</td><td>3</td></tr><tr><td>&quot;G&quot;</td><td>2</td></tr><tr><td>&quot;H&quot;</td><td>5</td></tr><tr><td>&quot;I&quot;</td><td>7</td></tr><tr><td>&quot;J&quot;</td><td>6</td></tr><tr><td>&quot;K&quot;</td><td>3</td></tr><tr><td>&quot;L&quot;</td><td>11</td></tr></tbody></table></div>"
      ],
      "text/plain": [
       "shape: (12, 2)\n",
       "┌──────────┬──────────┐\n",
       "│ column 1 ┆ column 2 │\n",
       "│ ---      ┆ ---      │\n",
       "│ str      ┆ i64      │\n",
       "╞══════════╪══════════╡\n",
       "│ A        ┆ 3        │\n",
       "│ B        ┆ 7        │\n",
       "│ C        ┆ 8        │\n",
       "│ D        ┆ 4        │\n",
       "│ …        ┆ …        │\n",
       "│ I        ┆ 7        │\n",
       "│ J        ┆ 6        │\n",
       "│ K        ┆ 3        │\n",
       "│ L        ┆ 11       │\n",
       "└──────────┴──────────┘"
      ]
     },
     "execution_count": 14,
     "metadata": {},
     "output_type": "execute_result"
    }
   ],
   "source": [
    "df.select(\n",
    "    [\"column 1\",\"column 2\"]\n",
    ")"
   ]
  },
  {
   "cell_type": "markdown",
   "id": "6c771c9d-a5ee-4ca6-a73a-bac4918199c0",
   "metadata": {},
   "source": [
    "### Select rows"
   ]
  },
  {
   "cell_type": "markdown",
   "id": "342f6846-ee36-4904-8480-197f21aaa9cf",
   "metadata": {},
   "source": [
    "To select a single row in the data frame, pass the row number in the row() method"
   ]
  },
  {
   "cell_type": "code",
   "execution_count": 4,
   "id": "4a796c9d-54a5-4bd5-b0bc-16e149099320",
   "metadata": {
    "execution": {
     "iopub.execute_input": "2023-07-05T11:06:45.445697Z",
     "iopub.status.busy": "2023-07-05T11:06:45.445467Z",
     "iopub.status.idle": "2023-07-05T11:06:45.529942Z",
     "shell.execute_reply": "2023-07-05T11:06:45.529273Z",
     "shell.execute_reply.started": "2023-07-05T11:06:45.445667Z"
    }
   },
   "outputs": [
    {
     "data": {
      "text/plain": [
       "('A', 3)"
      ]
     },
     "execution_count": 4,
     "metadata": {},
     "output_type": "execute_result"
    }
   ],
   "source": [
    "df.row(0) # first row"
   ]
  },
  {
   "cell_type": "markdown",
   "id": "a9d795ba-75f1-40cf-95f1-953c51cc5ed9",
   "metadata": {},
   "source": [
    "To get multiple rows based on the row number use square bracket in (not a recommended way to do it in Polars):"
   ]
  },
  {
   "cell_type": "code",
   "execution_count": 5,
   "id": "0f90c4a2-0720-40ea-ad79-152afedb21ab",
   "metadata": {
    "execution": {
     "iopub.execute_input": "2023-07-05T11:06:45.531554Z",
     "iopub.status.busy": "2023-07-05T11:06:45.531287Z",
     "iopub.status.idle": "2023-07-05T11:06:45.612658Z",
     "shell.execute_reply": "2023-07-05T11:06:45.612099Z",
     "shell.execute_reply.started": "2023-07-05T11:06:45.531524Z"
    },
    "tags": []
   },
   "outputs": [
    {
     "data": {
      "text/html": [
       "<div><style>\n",
       ".dataframe > thead > tr > th,\n",
       ".dataframe > tbody > tr > td {\n",
       "  text-align: right;\n",
       "}\n",
       "</style>\n",
       "<small>shape: (3, 2)</small><table border=\"1\" class=\"dataframe\"><thead><tr><th>column 1</th><th>column 2</th></tr><tr><td>str</td><td>i64</td></tr></thead><tbody><tr><td>&quot;A&quot;</td><td>3</td></tr><tr><td>&quot;B&quot;</td><td>7</td></tr><tr><td>&quot;C&quot;</td><td>8</td></tr></tbody></table></div>"
      ],
      "text/plain": [
       "shape: (3, 2)\n",
       "┌──────────┬──────────┐\n",
       "│ column 1 ┆ column 2 │\n",
       "│ ---      ┆ ---      │\n",
       "│ str      ┆ i64      │\n",
       "╞══════════╪══════════╡\n",
       "│ A        ┆ 3        │\n",
       "│ B        ┆ 7        │\n",
       "│ C        ┆ 8        │\n",
       "└──────────┴──────────┘"
      ]
     },
     "execution_count": 5,
     "metadata": {},
     "output_type": "execute_result"
    }
   ],
   "source": [
    "df[:3] # first 3 rows"
   ]
  },
  {
   "cell_type": "markdown",
   "id": "31b96730-c5b6-4bd2-9d4c-63c924dada8f",
   "metadata": {},
   "source": [
    "Or"
   ]
  },
  {
   "cell_type": "code",
   "execution_count": 6,
   "id": "408621d5-cc24-48b0-b65c-53cd61f87c00",
   "metadata": {
    "execution": {
     "iopub.execute_input": "2023-07-05T11:06:45.615110Z",
     "iopub.status.busy": "2023-07-05T11:06:45.614889Z",
     "iopub.status.idle": "2023-07-05T11:06:45.694519Z",
     "shell.execute_reply": "2023-07-05T11:06:45.693750Z",
     "shell.execute_reply.started": "2023-07-05T11:06:45.615081Z"
    }
   },
   "outputs": [
    {
     "data": {
      "text/html": [
       "<div><style>\n",
       ".dataframe > thead > tr > th,\n",
       ".dataframe > tbody > tr > td {\n",
       "  text-align: right;\n",
       "}\n",
       "</style>\n",
       "<small>shape: (2, 2)</small><table border=\"1\" class=\"dataframe\"><thead><tr><th>column 1</th><th>column 2</th></tr><tr><td>str</td><td>i64</td></tr></thead><tbody><tr><td>&quot;D&quot;</td><td>4</td></tr><tr><td>&quot;E&quot;</td><td>1</td></tr></tbody></table></div>"
      ],
      "text/plain": [
       "shape: (2, 2)\n",
       "┌──────────┬──────────┐\n",
       "│ column 1 ┆ column 2 │\n",
       "│ ---      ┆ ---      │\n",
       "│ str      ┆ i64      │\n",
       "╞══════════╪══════════╡\n",
       "│ D        ┆ 4        │\n",
       "│ E        ┆ 1        │\n",
       "└──────────┴──────────┘"
      ]
     },
     "execution_count": 6,
     "metadata": {},
     "output_type": "execute_result"
    }
   ],
   "source": [
    "df[[3, 4]] # 4th and 5th row"
   ]
  },
  {
   "cell_type": "markdown",
   "id": "b47f5e5c-6565-432b-9ef4-57b382768f9b",
   "metadata": {},
   "source": [
    "To select multiple rows use the filter() function (recommended by Polars):"
   ]
  },
  {
   "cell_type": "code",
   "execution_count": 11,
   "id": "36803f49-6ee0-4d09-8a25-35cbea5e86c4",
   "metadata": {
    "execution": {
     "iopub.execute_input": "2023-07-05T11:07:00.922645Z",
     "iopub.status.busy": "2023-07-05T11:07:00.922420Z",
     "iopub.status.idle": "2023-07-05T11:07:00.928051Z",
     "shell.execute_reply": "2023-07-05T11:07:00.927353Z",
     "shell.execute_reply.started": "2023-07-05T11:07:00.922620Z"
    },
    "tags": []
   },
   "outputs": [
    {
     "data": {
      "text/html": [
       "<div><style>\n",
       ".dataframe > thead > tr > th,\n",
       ".dataframe > tbody > tr > td {\n",
       "  text-align: right;\n",
       "}\n",
       "</style>\n",
       "<small>shape: (3, 2)</small><table border=\"1\" class=\"dataframe\"><thead><tr><th>column 1</th><th>column 2</th></tr><tr><td>str</td><td>i64</td></tr></thead><tbody><tr><td>&quot;A&quot;</td><td>3</td></tr><tr><td>&quot;B&quot;</td><td>3</td></tr><tr><td>&quot;K&quot;</td><td>3</td></tr></tbody></table></div>"
      ],
      "text/plain": [
       "shape: (3, 2)\n",
       "┌──────────┬──────────┐\n",
       "│ column 1 ┆ column 2 │\n",
       "│ ---      ┆ ---      │\n",
       "│ str      ┆ i64      │\n",
       "╞══════════╪══════════╡\n",
       "│ A        ┆ 3        │\n",
       "│ B        ┆ 3        │\n",
       "│ K        ┆ 3        │\n",
       "└──────────┴──────────┘"
      ]
     },
     "execution_count": 11,
     "metadata": {},
     "output_type": "execute_result"
    }
   ],
   "source": [
    "df.filter(\n",
    "    pl.col('column 2') == 3\n",
    ")"
   ]
  },
  {
   "cell_type": "markdown",
   "id": "db19d02e-06fd-47fc-9392-aa0729448aaf",
   "metadata": {},
   "source": [
    "To get the content of the data frame as a list of tuples, use the rows() method demonstrated below."
   ]
  },
  {
   "cell_type": "code",
   "execution_count": 8,
   "id": "81a35198-1b70-46eb-bc0f-4619fc23090a",
   "metadata": {
    "execution": {
     "iopub.execute_input": "2023-07-05T11:06:45.774871Z",
     "iopub.status.busy": "2023-07-05T11:06:45.774708Z",
     "iopub.status.idle": "2023-07-05T11:06:45.864351Z",
     "shell.execute_reply": "2023-07-05T11:06:45.863635Z",
     "shell.execute_reply.started": "2023-07-05T11:06:45.774852Z"
    }
   },
   "outputs": [
    {
     "data": {
      "text/plain": [
       "[('A', 3),\n",
       " ('B', 7),\n",
       " ('C', 8),\n",
       " ('D', 4),\n",
       " ('E', 1),\n",
       " ('B', 3),\n",
       " ('G', 2),\n",
       " ('H', 5),\n",
       " ('I', 7),\n",
       " ('J', 6),\n",
       " ('K', 3),\n",
       " ('L', 11)]"
      ]
     },
     "execution_count": 8,
     "metadata": {},
     "output_type": "execute_result"
    }
   ],
   "source": [
    "df.rows()"
   ]
  },
  {
   "cell_type": "markdown",
   "id": "fad28fc0-5fdd-48bd-8fdd-029ad0f92022",
   "metadata": {
    "papermill": {},
    "tags": []
   },
   "source": [
    "## Output"
   ]
  },
  {
   "cell_type": "markdown",
   "id": "9a73fefb-1117-44a9-841d-2f8d94812ec8",
   "metadata": {
    "papermill": {},
    "tags": []
   },
   "source": [
    "### Display the DataFrame and number of rows and columns"
   ]
  },
  {
   "cell_type": "code",
   "execution_count": 9,
   "id": "2be32a3f-a5a9-457a-8b3c-606a7ead14bd",
   "metadata": {
    "execution": {
     "iopub.execute_input": "2023-07-05T11:06:45.865750Z",
     "iopub.status.busy": "2023-07-05T11:06:45.865479Z",
     "iopub.status.idle": "2023-07-05T11:06:45.945319Z",
     "shell.execute_reply": "2023-07-05T11:06:45.944672Z",
     "shell.execute_reply.started": "2023-07-05T11:06:45.865719Z"
    },
    "papermill": {},
    "tags": []
   },
   "outputs": [
    {
     "data": {
      "text/html": [
       "<div><style>\n",
       ".dataframe > thead > tr > th,\n",
       ".dataframe > tbody > tr > td {\n",
       "  text-align: right;\n",
       "}\n",
       "</style>\n",
       "<small>shape: (12, 2)</small><table border=\"1\" class=\"dataframe\"><thead><tr><th>column 1</th><th>column 2</th></tr><tr><td>str</td><td>i64</td></tr></thead><tbody><tr><td>&quot;A&quot;</td><td>3</td></tr><tr><td>&quot;B&quot;</td><td>7</td></tr><tr><td>&quot;C&quot;</td><td>8</td></tr><tr><td>&quot;D&quot;</td><td>4</td></tr><tr><td>&quot;E&quot;</td><td>1</td></tr><tr><td>&quot;B&quot;</td><td>3</td></tr><tr><td>&quot;G&quot;</td><td>2</td></tr><tr><td>&quot;H&quot;</td><td>5</td></tr><tr><td>&quot;I&quot;</td><td>7</td></tr><tr><td>&quot;J&quot;</td><td>6</td></tr><tr><td>&quot;K&quot;</td><td>3</td></tr><tr><td>&quot;L&quot;</td><td>11</td></tr></tbody></table></div>"
      ],
      "text/plain": [
       "shape: (12, 2)\n",
       "┌──────────┬──────────┐\n",
       "│ column 1 ┆ column 2 │\n",
       "│ ---      ┆ ---      │\n",
       "│ str      ┆ i64      │\n",
       "╞══════════╪══════════╡\n",
       "│ A        ┆ 3        │\n",
       "│ B        ┆ 7        │\n",
       "│ C        ┆ 8        │\n",
       "│ D        ┆ 4        │\n",
       "│ …        ┆ …        │\n",
       "│ I        ┆ 7        │\n",
       "│ J        ┆ 6        │\n",
       "│ K        ┆ 3        │\n",
       "│ L        ┆ 11       │\n",
       "└──────────┴──────────┘"
      ]
     },
     "metadata": {},
     "output_type": "display_data"
    },
    {
     "name": "stdout",
     "output_type": "stream",
     "text": [
      "Number of rows: 12\n",
      "Number of columns: 2\n"
     ]
    }
   ],
   "source": [
    "display(df)\n",
    "print(f\"Number of rows: {df.height}\")\n",
    "print(f\"Number of columns: {df.width}\")"
   ]
  }
 ],
 "metadata": {
  "kernelspec": {
   "display_name": "Python 3",
   "language": "python",
   "name": "python3"
  },
  "language_info": {
   "codemirror_mode": {
    "name": "ipython",
    "version": 3
   },
   "file_extension": ".py",
   "mimetype": "text/x-python",
   "name": "python",
   "nbconvert_exporter": "python",
   "pygments_lexer": "ipython3",
   "version": "3.9.6"
  },
  "naas": {
   "notebook_id": "5ad976a4ad2a8c89054f8c2676b823083a4ffa05d5d8803d3ad6164a6649f777",
   "notebook_path": "Polars/Polars_Read_CSV.ipynb"
  },
  "papermill": {
   "default_parameters": {},
   "environment_variables": {},
   "parameters": {},
   "version": "2.4.0"
  },
  "widgets": {
   "application/vnd.jupyter.widget-state+json": {
    "state": {},
    "version_major": 2,
    "version_minor": 0
   }
  }
 },
 "nbformat": 4,
 "nbformat_minor": 5
}
