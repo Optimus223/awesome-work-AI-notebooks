{
 "cells": [
  {
   "cell_type": "markdown",
   "id": "26d971be-a654-4715-97d3-18ecf0b7a9cc",
   "metadata": {
    "papermill": {},
    "tags": []
   },
   "source": [
    "<img width=\"10%\" alt=\"Naas\" src=\"https://landen.imgix.net/jtci2pxwjczr/assets/5ice39g4.png?w=160\"/>"
   ]
  },
  {
   "cell_type": "markdown",
   "id": "1889751c-f97e-4792-8429-7dab25ec885f",
   "metadata": {
    "papermill": {},
    "tags": []
   },
   "source": [
    "# Polars - Create DataFrame\n",
    "<a href=\"https://app.naas.ai/user-redirect/naas/downloader?url=https://raw.githubusercontent.com/jupyter-naas/awesome-notebooks/master/Polars/Polars_Read_CSV.ipynb\" target=\"_parent\"><img src=\"https://naasai-public.s3.eu-west-3.amazonaws.com/Open_in_Naas_Lab.svg\"/></a><br><br><a href=\"https://github.com/jupyter-naas/awesome-notebooks/issues/new?assignees=&labels=&template=template-request.md&title=Tool+-+Action+of+the+notebook+\">Template request</a> | <a href=\"https://github.com/jupyter-naas/awesome-notebooks/issues/new?assignees=&labels=bug&template=bug_report.md&title=Polars+-+Read+CSV:+Error+short+description\">Bug report</a> | <a href=\"https://app.naas.ai/user-redirect/naas/downloader?url=https://raw.githubusercontent.com/jupyter-naas/awesome-notebooks/master/Naas/Naas_Start_data_product.ipynb\" target=\"_parent\">Generate Data Product</a>"
   ]
  },
  {
   "cell_type": "markdown",
   "id": "35af0493-2cfb-485f-9d0f-8ce84410dccc",
   "metadata": {
    "papermill": {},
    "tags": []
   },
   "source": [
    "**Tags:** #polars #dataframe #read #python #library #data #csv"
   ]
  },
  {
   "cell_type": "markdown",
   "id": "3110ae1c-fc1e-489b-b206-368940d20359",
   "metadata": {
    "papermill": {},
    "tags": []
   },
   "source": [
    "**Last update:** 2023-07-06 (Created: 2023-07-06)"
   ]
  },
  {
   "cell_type": "markdown",
   "id": "06354b65-7306-4825-aef2-c63aeb79f50b",
   "metadata": {
    "papermill": {},
    "tags": []
   },
   "source": [
    "**Author:** [Antonio Georgiev](www.linkedin.com/in/antonio-georgiev-b672a325b)"
   ]
  },
  {
   "cell_type": "markdown",
   "id": "c0500e98-9f0a-4f87-97aa-5f4c44c2ea0a",
   "metadata": {
    "papermill": {},
    "tags": []
   },
   "source": [
    "**Description:** This notebook demonstrates how to create a DataFrame using `polars` library. Polars is a Python library for data manipulation that is built on top of Rust's `Apache Arrow` and `DataFusion` projects. It offers fast and efficient data processing and manipulation capabilities for large datasets, with a Pandas-like API and support for advanced data types. It is especially useful for data-intensive applications such as machine learning, data analysis, and data visualization, and can handle datasets that are too large to fit into memory."
   ]
  },
  {
   "cell_type": "markdown",
   "id": "6c510bc9-3949-4b57-916a-c40e78419981",
   "metadata": {
    "papermill": {},
    "tags": []
   },
   "source": [
    "**References:**\n",
    "- [Polars](https://pypi.org/project/polars/)\n",
    "- [Dataframe](https://pandas.pydata.org/pandas-docs/stable/reference/api/pandas.DataFrame.html)"
   ]
  },
  {
   "cell_type": "markdown",
   "id": "658d10d1-a3d7-4e16-aa0a-fdb9ede7b22c",
   "metadata": {
    "papermill": {},
    "tags": []
   },
   "source": [
    "## Input"
   ]
  },
  {
   "cell_type": "markdown",
   "id": "d5ad9c05-19dc-463c-868d-bdd747639473",
   "metadata": {
    "papermill": {},
    "tags": []
   },
   "source": [
    "### Import libraries"
   ]
  },
  {
   "cell_type": "code",
   "execution_count": 14,
   "id": "be598579-8752-4f61-a352-9c3ae2d031e3",
   "metadata": {
    "execution": {
     "iopub.execute_input": "2023-07-06T13:39:40.376701Z",
     "iopub.status.busy": "2023-07-06T13:39:40.376462Z",
     "iopub.status.idle": "2023-07-06T13:39:40.381817Z",
     "shell.execute_reply": "2023-07-06T13:39:40.381229Z",
     "shell.execute_reply.started": "2023-07-06T13:39:40.376675Z"
    },
    "papermill": {},
    "tags": []
   },
   "outputs": [],
   "source": [
    "try:\n",
    "    import polars as pl\n",
    "except ModuleNotFoundError:\n",
    "    !pip install polars\n",
    "    import polars as pl"
   ]
  },
  {
   "cell_type": "markdown",
   "id": "12b438fc-fe51-460c-898e-c48816da050a",
   "metadata": {
    "papermill": {},
    "tags": []
   },
   "source": [
    "### Setup Variables\n",
    "- `data`: data to be used to create DataFrame"
   ]
  },
  {
   "cell_type": "code",
   "execution_count": 15,
   "id": "66170a78-2f6e-471e-87ae-ee00206a43d5",
   "metadata": {
    "execution": {
     "iopub.execute_input": "2023-07-06T13:39:41.171292Z",
     "iopub.status.busy": "2023-07-06T13:39:41.171054Z",
     "iopub.status.idle": "2023-07-06T13:39:41.178663Z",
     "shell.execute_reply": "2023-07-06T13:39:41.174244Z",
     "shell.execute_reply.started": "2023-07-06T13:39:41.171268Z"
    },
    "papermill": {},
    "tags": []
   },
   "outputs": [],
   "source": [
    "# Inputs\n",
    "data = {\n",
    "    'column 1': [\"A\", \"B\", \"C\", \"D\", \"E\", \"B\", \"G\", \"H\", \"I\", \"J\", \"K\", \"L\",],\n",
    "    'column 2': [3, 7, 8, 4, 1, 3, 2, 5, 7, 6, 3, 11],\n",
    "    'column 3': [\"V\", \"C\", \"M\", \"A\", \"S\", \"V\", \"R\", \"L\", \"Q\", \"N\", \"P\", \"O\",]\n",
    "}"
   ]
  },
  {
   "cell_type": "markdown",
   "id": "8b34fd7a-0021-4ac5-8e8d-ef699978f907",
   "metadata": {
    "papermill": {},
    "tags": []
   },
   "source": [
    "## Model"
   ]
  },
  {
   "cell_type": "markdown",
   "id": "19ded647-e9d7-4e0f-8b89-cb84ca613351",
   "metadata": {
    "papermill": {},
    "tags": []
   },
   "source": [
    "### Create DataFrame"
   ]
  },
  {
   "cell_type": "code",
   "execution_count": 16,
   "id": "c1d87c44-d6b8-4f5a-82fb-0fc6edfe61f6",
   "metadata": {
    "execution": {
     "iopub.execute_input": "2023-07-06T13:39:42.222397Z",
     "iopub.status.busy": "2023-07-06T13:39:42.222083Z",
     "iopub.status.idle": "2023-07-06T13:39:42.229554Z",
     "shell.execute_reply": "2023-07-06T13:39:42.228778Z",
     "shell.execute_reply.started": "2023-07-06T13:39:42.222361Z"
    },
    "papermill": {},
    "tags": []
   },
   "outputs": [],
   "source": [
    "df = pl.DataFrame(data)"
   ]
  },
  {
   "cell_type": "markdown",
   "id": "fad28fc0-5fdd-48bd-8fdd-029ad0f92022",
   "metadata": {
    "papermill": {},
    "tags": []
   },
   "source": [
    "## Output"
   ]
  },
  {
   "cell_type": "markdown",
   "id": "9a73fefb-1117-44a9-841d-2f8d94812ec8",
   "metadata": {
    "papermill": {},
    "tags": []
   },
   "source": [
    "### Display the DataFrame and number of rows and columns"
   ]
  },
  {
   "cell_type": "code",
   "execution_count": 17,
   "id": "2be32a3f-a5a9-457a-8b3c-606a7ead14bd",
   "metadata": {
    "execution": {
     "iopub.execute_input": "2023-07-06T13:39:42.888909Z",
     "iopub.status.busy": "2023-07-06T13:39:42.888681Z",
     "iopub.status.idle": "2023-07-06T13:39:42.894552Z",
     "shell.execute_reply": "2023-07-06T13:39:42.893929Z",
     "shell.execute_reply.started": "2023-07-06T13:39:42.888885Z"
    },
    "papermill": {},
    "tags": []
   },
   "outputs": [
    {
     "name": "stdout",
     "output_type": "stream",
     "text": [
      "Number of rows: 12\n",
      "Number of columns: 3\n"
     ]
    },
    {
     "data": {
      "text/html": [
       "<div><style>\n",
       ".dataframe > thead > tr > th,\n",
       ".dataframe > tbody > tr > td {\n",
       "  text-align: right;\n",
       "}\n",
       "</style>\n",
       "<small>shape: (12, 3)</small><table border=\"1\" class=\"dataframe\"><thead><tr><th>column 1</th><th>column 2</th><th>column 3</th></tr><tr><td>str</td><td>i64</td><td>str</td></tr></thead><tbody><tr><td>&quot;A&quot;</td><td>3</td><td>&quot;V&quot;</td></tr><tr><td>&quot;B&quot;</td><td>7</td><td>&quot;C&quot;</td></tr><tr><td>&quot;C&quot;</td><td>8</td><td>&quot;M&quot;</td></tr><tr><td>&quot;D&quot;</td><td>4</td><td>&quot;A&quot;</td></tr><tr><td>&quot;E&quot;</td><td>1</td><td>&quot;S&quot;</td></tr><tr><td>&quot;B&quot;</td><td>3</td><td>&quot;V&quot;</td></tr><tr><td>&quot;G&quot;</td><td>2</td><td>&quot;R&quot;</td></tr><tr><td>&quot;H&quot;</td><td>5</td><td>&quot;L&quot;</td></tr><tr><td>&quot;I&quot;</td><td>7</td><td>&quot;Q&quot;</td></tr><tr><td>&quot;J&quot;</td><td>6</td><td>&quot;N&quot;</td></tr><tr><td>&quot;K&quot;</td><td>3</td><td>&quot;P&quot;</td></tr><tr><td>&quot;L&quot;</td><td>11</td><td>&quot;O&quot;</td></tr></tbody></table></div>"
      ],
      "text/plain": [
       "shape: (12, 3)\n",
       "┌──────────┬──────────┬──────────┐\n",
       "│ column 1 ┆ column 2 ┆ column 3 │\n",
       "│ ---      ┆ ---      ┆ ---      │\n",
       "│ str      ┆ i64      ┆ str      │\n",
       "╞══════════╪══════════╪══════════╡\n",
       "│ A        ┆ 3        ┆ V        │\n",
       "│ B        ┆ 7        ┆ C        │\n",
       "│ C        ┆ 8        ┆ M        │\n",
       "│ D        ┆ 4        ┆ A        │\n",
       "│ …        ┆ …        ┆ …        │\n",
       "│ I        ┆ 7        ┆ Q        │\n",
       "│ J        ┆ 6        ┆ N        │\n",
       "│ K        ┆ 3        ┆ P        │\n",
       "│ L        ┆ 11       ┆ O        │\n",
       "└──────────┴──────────┴──────────┘"
      ]
     },
     "execution_count": 17,
     "metadata": {},
     "output_type": "execute_result"
    }
   ],
   "source": [
    "print(f\"Number of rows: {df.height}\")\n",
    "print(f\"Number of columns: {df.width}\")\n",
    "df"
   ]
  }
 ],
 "metadata": {
  "kernelspec": {
   "display_name": "Python 3",
   "language": "python",
   "name": "python3"
  },
  "language_info": {
   "codemirror_mode": {
    "name": "ipython",
    "version": 3
   },
   "file_extension": ".py",
   "mimetype": "text/x-python",
   "name": "python",
   "nbconvert_exporter": "python",
   "pygments_lexer": "ipython3",
   "version": "3.9.6"
  },
  "naas": {
   "notebook_id": "5ad976a4ad2a8c89054f8c2676b823083a4ffa05d5d8803d3ad6164a6649f777",
   "notebook_path": "Polars/Polars_Read_CSV.ipynb"
  },
  "papermill": {
   "default_parameters": {},
   "environment_variables": {},
   "parameters": {},
   "version": "2.4.0"
  },
  "widgets": {
   "application/vnd.jupyter.widget-state+json": {
    "state": {},
    "version_major": 2,
    "version_minor": 0
   }
  }
 },
 "nbformat": 4,
 "nbformat_minor": 5
}
