{
 "cells": [
  {
   "cell_type": "markdown",
   "id": "7f7761b9-ec41-4696-95e8-9a1cd8717087",
   "metadata": {
    "papermill": {},
    "tags": []
   },
   "source": [
    "<img width=\"10%\" alt=\"Naas\" src=\"https://landen.imgix.net/jtci2pxwjczr/assets/5ice39g4.png?w=160\"/>"
   ]
  },
  {
   "cell_type": "markdown",
   "id": "0aa34cd8-e74a-4268-93ae-2b946530cf11",
   "metadata": {
    "papermill": {},
    "tags": []
   },
   "source": [
    "# WSR - John Hopkins Active covid cases worldmap\n",
    "<a href=\"https://app.naas.ai/user-redirect/naas/downloader?url=https://raw.githubusercontent.com/jupyter-naas/awesome-notebooks/master/WSR/John_Hopkins_Active_covid_cases_worldmap.ipynb\" target=\"_parent\"><img src=\"https://img.shields.io/badge/-Open%20in%20Naas-success?labelColor=000000&logo=data:image/svg+xml;base64,PD94bWwgdmVyc2lvbj0iMS4wIiBlbmNvZGluZz0iVVRGLTgiPz4KPHN2ZyB3aWR0aD0iMTAyNHB4IiBoZWlnaHQ9IjEwMjRweCIgdmlld0JveD0iMCAwIDEwMjQgMTAyNCIgeG1sbnM9Imh0dHA6Ly93d3cudzMub3JnLzIwMDAvc3ZnIiB4bWxuczp4bGluaz0iaHR0cDovL3d3dy53My5vcmcvMTk5OS94bGluayIgdmVyc2lvbj0iMS4xIj4KIDwhLS0gR2VuZXJhdGVkIGJ5IFBpeGVsbWF0b3IgUHJvIDIuMC41IC0tPgogPGRlZnM+CiAgPHRleHQgaWQ9InN0cmluZyIgdHJhbnNmb3JtPSJtYXRyaXgoMS4wIDAuMCAwLjAgMS4wIDIyOC4wIDU0LjUpIiBmb250LWZhbWlseT0iQ29tZm9ydGFhLVJlZ3VsYXIsIENvbWZvcnRhYSIgZm9udC1zaXplPSI4MDAiIHRleHQtZGVjb3JhdGlvbj0ibm9uZSIgZmlsbD0iI2ZmZmZmZiIgeD0iMS4xOTk5OTk5OTk5OTk5ODg2IiB5PSI3MDUuMCI+bjwvdGV4dD4KIDwvZGVmcz4KIDx1c2UgaWQ9Im4iIHhsaW5rOmhyZWY9IiNzdHJpbmciLz4KPC9zdmc+Cg==\"/></a>"
   ]
  },
  {
   "cell_type": "markdown",
   "id": "8736e5dc-a856-4b15-8be1-caf2c85ad70b",
   "metadata": {
    "papermill": {},
    "tags": []
   },
   "source": [
    "## Input"
   ]
  },
  {
   "cell_type": "code",
   "execution_count": 1,
   "id": "858b684f-623e-4c10-beb9-71baff3a0bdf",
   "metadata": {
    "execution": {
     "iopub.execute_input": "2022-01-21T16:51:20.473577Z",
     "iopub.status.busy": "2022-01-21T16:51:20.473034Z",
     "iopub.status.idle": "2022-01-21T16:51:24.682743Z",
     "shell.execute_reply": "2022-01-21T16:51:24.682031Z",
     "shell.execute_reply.started": "2022-01-21T16:51:20.473505Z"
    },
    "papermill": {},
    "tags": []
   },
   "outputs": [],
   "source": [
    "pip install dataprep --user"
   ]
  },
  {
   "cell_type": "markdown",
   "id": "c38f24ce-23bb-422b-8069-205f89b274f6",
   "metadata": {
    "papermill": {},
    "tags": []
   },
   "source": [
    "### Import libraries"
   ]
  },
  {
   "cell_type": "code",
   "execution_count": 2,
   "id": "5a6f9854-1928-4e33-9103-ea3d3dab8b79",
   "metadata": {
    "execution": {
     "iopub.execute_input": "2022-01-21T16:51:24.685495Z",
     "iopub.status.busy": "2022-01-21T16:51:24.685308Z",
     "iopub.status.idle": "2022-01-21T16:51:32.207611Z",
     "shell.execute_reply": "2022-01-21T16:51:32.206988Z",
     "shell.execute_reply.started": "2022-01-21T16:51:24.685472Z"
    },
    "papermill": {},
    "tags": []
   },
   "outputs": [],
   "source": [
    "import naas\n",
    "import pandas as pd\n",
    "import pandas as pd\n",
    "import plotly.express as px\n",
    "import plotly.graph_objects as go\n",
    "import matplotlib.pyplot as plt\n",
    "from dataprep.clean import clean_country\n"
   ]
  },
  {
   "cell_type": "markdown",
   "id": "e56db954-20c6-4dee-b16b-4c08ef7b3384",
   "metadata": {
    "papermill": {},
    "tags": []
   },
   "source": [
    "### Setup chart title and date"
   ]
  },
  {
   "cell_type": "code",
   "execution_count": 3,
   "id": "c775a998-48f3-4001-9d05-2071a871b77b",
   "metadata": {
    "execution": {
     "iopub.execute_input": "2022-01-21T16:51:32.210301Z",
     "iopub.status.busy": "2022-01-21T16:51:32.210109Z",
     "iopub.status.idle": "2022-01-21T16:51:32.214338Z",
     "shell.execute_reply": "2022-01-21T16:51:32.213779Z",
     "shell.execute_reply.started": "2022-01-21T16:51:32.210279Z"
    },
    "papermill": {},
    "tags": []
   },
   "outputs": [],
   "source": [
    "title = \"COVID 19 - Active cases (in milions)\"\n",
    "date = '2022-01-20'"
   ]
  },
  {
   "cell_type": "markdown",
   "id": "2d5895d2-7405-4fb7-9f1f-937636a6be25",
   "metadata": {
    "papermill": {},
    "tags": []
   },
   "source": [
    "### Variables"
   ]
  },
  {
   "cell_type": "code",
   "execution_count": 4,
   "id": "7ea457bf-bab3-406e-9c74-145d5b774e2d",
   "metadata": {
    "execution": {
     "iopub.execute_input": "2022-01-21T16:51:32.216584Z",
     "iopub.status.busy": "2022-01-21T16:51:32.216413Z",
     "iopub.status.idle": "2022-01-21T16:51:32.726094Z",
     "shell.execute_reply": "2022-01-21T16:51:32.725467Z",
     "shell.execute_reply.started": "2022-01-21T16:51:32.216565Z"
    },
    "papermill": {},
    "tags": []
   },
   "outputs": [],
   "source": [
    "# URLs of the raw csv dataset\n",
    "urls = [\n",
    "    'https://raw.githubusercontent.com/CSSEGISandData/COVID-19/master/csse_covid_19_data/csse_covid_19_time_series/time_series_covid19_confirmed_global.csv',\n",
    "    'https://raw.githubusercontent.com/CSSEGISandData/COVID-19/master/csse_covid_19_data/csse_covid_19_time_series/time_series_covid19_deaths_global.csv',\n",
    "    'https://raw.githubusercontent.com/CSSEGISandData/COVID-19/master/csse_covid_19_data/csse_covid_19_time_series/time_series_covid19_recovered_global.csv'\n",
    "]\n",
    "\n",
    "confirmed_df, deaths_df, recovered_df = tuple(pd.read_csv(url) for url in urls)\n",
    "\n",
    "# Output paths\n",
    "output_image = f\"{title}.png\"\n",
    "output_html = f\"{title}.html\""
   ]
  },
  {
   "cell_type": "code",
   "execution_count": 5,
   "id": "91af660a-0aeb-4a7a-aa1b-0a34e3aeb7f8",
   "metadata": {
    "execution": {
     "iopub.execute_input": "2022-01-21T16:51:32.727395Z",
     "iopub.status.busy": "2022-01-21T16:51:32.727122Z",
     "iopub.status.idle": "2022-01-21T16:51:32.751692Z",
     "shell.execute_reply": "2022-01-21T16:51:32.750988Z",
     "shell.execute_reply.started": "2022-01-21T16:51:32.727325Z"
    },
    "papermill": {},
    "tags": []
   },
   "outputs": [],
   "source": [
    "confirmed_df"
   ]
  },
  {
   "cell_type": "code",
   "execution_count": 6,
   "id": "0642b90e-34ec-49af-b71e-282783501597",
   "metadata": {
    "execution": {
     "iopub.execute_input": "2022-01-21T16:51:32.753143Z",
     "iopub.status.busy": "2022-01-21T16:51:32.752864Z",
     "iopub.status.idle": "2022-01-21T16:51:32.832233Z",
     "shell.execute_reply": "2022-01-21T16:51:32.831578Z",
     "shell.execute_reply.started": "2022-01-21T16:51:32.753109Z"
    },
    "papermill": {},
    "tags": []
   },
   "outputs": [],
   "source": [
    "title = \"Worldmap\"\n",
    "\n",
    "# Output paths\n",
    "output_image = f\"{title}.png\"\n",
    "output_html = f\"{title}.html\""
   ]
  },
  {
   "cell_type": "markdown",
   "id": "89d848e4-b60d-4ab2-a16e-627e83670e8a",
   "metadata": {
    "papermill": {},
    "tags": []
   },
   "source": [
    "## Model"
   ]
  },
  {
   "cell_type": "markdown",
   "id": "bdec5b44-0898-45b1-87c1-236ce12d8428",
   "metadata": {
    "papermill": {},
    "tags": []
   },
   "source": [
    "### Reference\n",
    "Mostly adopted from this [COVID19 Data Processing Tutorial](https://towardsdatascience.com/covid-19-data-processing-58aaa3663f6)\n",
    "\n",
    "Clean the dataset to show the cases by country\n"
   ]
  },
  {
   "cell_type": "markdown",
   "id": "2e744144-9715-42db-9898-c6d83b4fd8b9",
   "metadata": {
    "papermill": {},
    "tags": []
   },
   "source": [
    "### Convert all datetimes to a single column"
   ]
  },
  {
   "cell_type": "code",
   "execution_count": 7,
   "id": "a18439b9-2712-424b-a7d3-f1d7855b7d56",
   "metadata": {
    "execution": {
     "iopub.execute_input": "2022-01-21T16:51:32.835932Z",
     "iopub.status.busy": "2022-01-21T16:51:32.835741Z",
     "iopub.status.idle": "2022-01-21T16:51:33.046338Z",
     "shell.execute_reply": "2022-01-21T16:51:33.042066Z",
     "shell.execute_reply.started": "2022-01-21T16:51:32.835912Z"
    },
    "papermill": {},
    "tags": []
   },
   "outputs": [],
   "source": [
    "#Wide to Long DataFrame conversion\n",
    "dates = confirmed_df.columns[4:]\n",
    "confirmed_df_long = confirmed_df.melt(\n",
    "    id_vars=['Province/State', 'Country/Region', 'Lat', 'Long'], \n",
    "    value_vars=dates, \n",
    "    var_name='Date', \n",
    "    value_name='Confirmed'\n",
    ")\n",
    "deaths_df_long = deaths_df.melt(\n",
    "    id_vars=['Province/State', 'Country/Region', 'Lat', 'Long'], \n",
    "    value_vars=dates, \n",
    "    var_name='Date', \n",
    "    value_name='Deaths'\n",
    ")\n",
    "recovered_df_long = recovered_df.melt(\n",
    "    id_vars=['Province/State', 'Country/Region', 'Lat', 'Long'], \n",
    "    value_vars=dates, \n",
    "    var_name='Date', \n",
    "    value_name='Recovered'\n",
    ")\n",
    "\n",
    "# Adjust for Canada\n",
    "recovered_df_long = recovered_df_long[(recovered_df_long['Country/Region']!='Canada')]"
   ]
  },
  {
   "cell_type": "markdown",
   "id": "4db2b779-4e7f-492f-83a0-b63a0fce3072",
   "metadata": {
    "papermill": {},
    "tags": []
   },
   "source": [
    "### Merge tables into a single table"
   ]
  },
  {
   "cell_type": "code",
   "execution_count": 8,
   "id": "f00311e4-91d3-45ad-b003-5af69dc0f93a",
   "metadata": {
    "execution": {
     "iopub.execute_input": "2022-01-21T16:51:33.048246Z",
     "iopub.status.busy": "2022-01-21T16:51:33.047889Z",
     "iopub.status.idle": "2022-01-21T16:51:33.682752Z",
     "shell.execute_reply": "2022-01-21T16:51:33.681991Z",
     "shell.execute_reply.started": "2022-01-21T16:51:33.048214Z"
    },
    "papermill": {},
    "tags": []
   },
   "outputs": [],
   "source": [
    "# Join into one single dataframe/table\n",
    "# Merging confirmed_df_long and deaths_df_long\n",
    "full_table = confirmed_df_long.merge(\n",
    "  right=deaths_df_long, \n",
    "  how='left',\n",
    "  on=['Province/State', 'Country/Region', 'Date', 'Lat', 'Long']\n",
    ")\n",
    "# Merging full_table and recovered_df_long\n",
    "full_table = full_table.merge(\n",
    "  right=recovered_df_long, \n",
    "  how='left',\n",
    "  on=['Province/State', 'Country/Region', 'Date', 'Lat', 'Long']\n",
    ")\n",
    "\n",
    "# Convert date strings to actual dates\n",
    "full_table['Date'] = pd.to_datetime(full_table['Date'])\n",
    "# Handle some missing values / NaNs\n",
    "full_table['Recovered'] = full_table['Recovered'].fillna(0).astype('int64')\n",
    "\n"
   ]
  },
  {
   "cell_type": "code",
   "execution_count": 9,
   "id": "9942269a-52cb-4993-9bda-ea41ae9b3cc0",
   "metadata": {
    "execution": {
     "iopub.execute_input": "2022-01-21T16:51:33.684150Z",
     "iopub.status.busy": "2022-01-21T16:51:33.683770Z",
     "iopub.status.idle": "2022-01-21T16:51:33.722424Z",
     "shell.execute_reply": "2022-01-21T16:51:33.721741Z",
     "shell.execute_reply.started": "2022-01-21T16:51:33.684118Z"
    },
    "papermill": {},
    "tags": []
   },
   "outputs": [],
   "source": [
    "full_table.isna().sum()\n",
    "# full_table.dtypes\n",
    "full_table"
   ]
  },
  {
   "cell_type": "markdown",
   "id": "85b3c88c-63f4-48e7-b5c5-715d6dc509a9",
   "metadata": {
    "papermill": {},
    "tags": []
   },
   "source": [
    "### Adjust covid cases for cruise ships and Canada "
   ]
  },
  {
   "cell_type": "code",
   "execution_count": 10,
   "id": "6a15d913-773c-4eea-9cf6-74142dd64ff4",
   "metadata": {
    "execution": {
     "iopub.execute_input": "2022-01-21T16:51:33.723720Z",
     "iopub.status.busy": "2022-01-21T16:51:33.723471Z",
     "iopub.status.idle": "2022-01-21T16:51:34.197473Z",
     "shell.execute_reply": "2022-01-21T16:51:34.196759Z",
     "shell.execute_reply.started": "2022-01-21T16:51:33.723689Z"
    },
    "papermill": {},
    "tags": []
   },
   "outputs": [],
   "source": [
    "# Adjust for Canada and 3 cruise ships\n",
    "ship_rows = full_table['Province/State'].str.contains('Grand Princess') | full_table['Province/State'].str.contains('Diamond Princess') | full_table['Country/Region'].str.contains('Diamond Princess') | full_table['Country/Region'].str.contains('MS Zaandam')\n",
    "full_ship = full_table[ship_rows]\n",
    "full_table = full_table[~(ship_rows)]\n",
    "\n",
    "# Add one more entry for each day to get the entire world's counts/totals\n",
    "world_dict = {\"Country/Region\": \"World\", \"Confirmed\": pd.Series(full_table.groupby(['Date'])['Confirmed'].sum()), \"Deaths\": pd.Series(full_table.groupby(['Date'])['Deaths'].sum()),\"Recovered\": pd.Series(full_table.groupby(['Date'])['Recovered'].sum())}\n",
    "world_df = pd.DataFrame.from_dict(world_dict).reset_index()\n",
    "print(world_df.columns)\n",
    "full_table = pd.concat([full_table, world_df], ignore_index=True)"
   ]
  },
  {
   "cell_type": "markdown",
   "id": "d9b7e13a-a149-4cb1-afa0-d7e17c796df5",
   "metadata": {
    "papermill": {},
    "tags": []
   },
   "source": [
    "### Calculate Active Cases "
   ]
  },
  {
   "cell_type": "code",
   "execution_count": 11,
   "id": "8d2544d5-c4ea-4c96-8d01-20363a04a1ad",
   "metadata": {
    "execution": {
     "iopub.execute_input": "2022-01-21T16:51:34.198912Z",
     "iopub.status.busy": "2022-01-21T16:51:34.198653Z",
     "iopub.status.idle": "2022-01-21T16:51:34.263829Z",
     "shell.execute_reply": "2022-01-21T16:51:34.262889Z",
     "shell.execute_reply.started": "2022-01-21T16:51:34.198879Z"
    },
    "papermill": {},
    "tags": []
   },
   "outputs": [],
   "source": [
    "full_table['Active'] = full_table['Confirmed'] - full_table['Deaths'] - full_table['Recovered']\n",
    "full_grouped= full_table.groupby(['Date', 'Country/Region'])['Active'].sum().reset_index()\n",
    "full_grouped.rename(columns = {'Date':'DATE'}, inplace = True)\n",
    "full_grouped.rename(columns = {'Country/Region':'COUNTRY'}, inplace = True)\n",
    "full_grouped.rename(columns = {'Active':'ACTIVE'}, inplace = True)\n",
    "\n",
    "full_grouped"
   ]
  },
  {
   "cell_type": "code",
   "execution_count": 12,
   "id": "7d3982aa-7851-4b1b-a843-86ea241def72",
   "metadata": {
    "execution": {
     "iopub.execute_input": "2022-01-21T16:51:34.265058Z",
     "iopub.status.busy": "2022-01-21T16:51:34.264810Z",
     "iopub.status.idle": "2022-01-21T16:51:35.937320Z",
     "shell.execute_reply": "2022-01-21T16:51:35.936691Z",
     "shell.execute_reply.started": "2022-01-21T16:51:34.265027Z"
    },
    "papermill": {},
    "tags": []
   },
   "outputs": [],
   "source": [
    "df = pd.DataFrame(full_grouped)\n",
    "df2 = clean_country(df, 'COUNTRY', output_format='alpha-3')\n",
    "df2.rename(columns = {'COUNTRY_clean':'ISO'}, inplace = True)\n",
    "\n",
    "df2"
   ]
  },
  {
   "cell_type": "markdown",
   "id": "4637e4d0-8607-41fd-9224-ce7114d15b5a",
   "metadata": {
    "papermill": {},
    "tags": []
   },
   "source": [
    "### Filter unecessary rows"
   ]
  },
  {
   "cell_type": "code",
   "execution_count": 13,
   "id": "0a74a63c-c8a7-49c2-b853-242302ddadef",
   "metadata": {
    "execution": {
     "iopub.execute_input": "2022-01-21T16:51:35.938755Z",
     "iopub.status.busy": "2022-01-21T16:51:35.938488Z",
     "iopub.status.idle": "2022-01-21T16:51:35.964206Z",
     "shell.execute_reply": "2022-01-21T16:51:35.963443Z",
     "shell.execute_reply.started": "2022-01-21T16:51:35.938721Z"
    },
    "papermill": {},
    "tags": []
   },
   "outputs": [],
   "source": [
    "# filter \n",
    "newdf = df2[(df2.COUNTRY) != 'World']\n",
    "df = newdf[(newdf.DATE) == date]\n",
    "df"
   ]
  },
  {
   "cell_type": "markdown",
   "id": "974df13c-9781-45f1-9b1e-7c9a4faa0f02",
   "metadata": {
    "papermill": {},
    "tags": []
   },
   "source": [
    "## Output"
   ]
  },
  {
   "cell_type": "markdown",
   "id": "d2cb281d-0ed1-4230-a47e-4bc194c57d59",
   "metadata": {
    "papermill": {},
    "tags": []
   },
   "source": [
    "### Create chart"
   ]
  },
  {
   "cell_type": "code",
   "execution_count": 14,
   "id": "37cb318c-d760-48dd-9667-dff0ae00c5db",
   "metadata": {
    "execution": {
     "iopub.execute_input": "2022-01-21T16:51:35.966243Z",
     "iopub.status.busy": "2022-01-21T16:51:35.966005Z",
     "iopub.status.idle": "2022-01-21T16:51:36.201366Z",
     "shell.execute_reply": "2022-01-21T16:51:36.200676Z",
     "shell.execute_reply.started": "2022-01-21T16:51:35.966214Z"
    },
    "papermill": {},
    "tags": []
   },
   "outputs": [],
   "source": [
    "fig = go.Figure()\n",
    "\n",
    "config = {'displayModeBar': False}\n",
    "\n",
    "fig = go.Figure(data=go.Choropleth(\n",
    "    locations = df['ISO'],\n",
    "    z = df['ACTIVE'],\n",
    "    text = df['COUNTRY'],\n",
    "    colorscale = 'Blues',\n",
    "    autocolorscale=False,\n",
    "    reversescale=False,\n",
    "    marker_line_color='darkgray',\n",
    "    marker_line_width=0.5,\n",
    "    colorbar_tickprefix = '',\n",
    "    colorbar_title = 'Active cases',\n",
    "))\n",
    "\n",
    "fig.update_layout(\n",
    "    title=title ,\n",
    "    plot_bgcolor=\"#ffffff\",\n",
    "    legend_x=1,\n",
    "    geo=dict(\n",
    "        showframe=False,\n",
    "        showcoastlines=False,\n",
    "        #projection_type='equirectangular'\n",
    "    ),\n",
    "    dragmode= False,\n",
    "    #width=800,\n",
    "    height=600,\n",
    "\n",
    ")\n",
    "fig.show(config=config)"
   ]
  }
 ],
 "metadata": {
  "kernelspec": {
   "display_name": "Python 3",
   "language": "python",
   "name": "python3"
  },
  "language_info": {
   "codemirror_mode": {
    "name": "ipython",
    "version": 3
   },
   "file_extension": ".py",
   "mimetype": "text/x-python",
   "name": "python",
   "nbconvert_exporter": "python",
   "pygments_lexer": "ipython3",
   "version": "3.8.8"
  },
  "papermill": {
   "default_parameters": {},
   "environment_variables": {},
   "parameters": {},
   "version": "2.3.3"
  }
 },
 "nbformat": 4,
 "nbformat_minor": 5
}