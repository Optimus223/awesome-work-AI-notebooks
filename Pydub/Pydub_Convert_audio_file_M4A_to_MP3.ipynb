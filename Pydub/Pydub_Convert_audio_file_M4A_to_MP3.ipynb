{
 "cells": [
  {
   "cell_type": "markdown",
   "id": "d98f101c-52c8-45c1-b3a1-2ad5b835bf8a",
   "metadata": {
    "papermill": {},
    "tags": []
   },
   "source": [
    "<img width=\"10%\" alt=\"Naas\" src=\"https://landen.imgix.net/jtci2pxwjczr/assets/5ice39g4.png?w=160\"/>"
   ]
  },
  {
   "cell_type": "markdown",
   "id": "5d648da5-f36b-488d-a031-65d2a48dc697",
   "metadata": {
    "papermill": {},
    "tags": []
   },
   "source": [
    "# Pydub - Convert audio file M4A to MP3"
   ]
  },
  {
   "cell_type": "markdown",
   "id": "65442a74-89dc-42e6-850a-23a875779700",
   "metadata": {
    "papermill": {},
    "tags": []
   },
   "source": [
    "**Tags:** #pydub #audio #convert #m4a #mp3 #python"
   ]
  },
  {
   "cell_type": "markdown",
   "id": "eda126d3-397f-44dc-a504-8147649ced26",
   "metadata": {
    "papermill": {},
    "tags": []
   },
   "source": [
    "**Author:** [Jeremy Ravenel](https://www.linkedin.com/in/alexandre-petit-24a87a219/)"
   ]
  },
  {
   "cell_type": "markdown",
   "id": "00249c80-bfb3-4860-b843-d73faa5b8330",
   "metadata": {
    "papermill": {},
    "tags": []
   },
   "source": [
    "**Description:** This notebook would allow you to transform an audio file from M4A to MP3. It can be further used by people who want to use their Iphone voice recording m\u00e9mos file and generate transcripts with AI."
   ]
  },
  {
   "cell_type": "markdown",
   "id": "afbcfb2d-1ff4-46ea-9f61-9b36a0c9c68a",
   "metadata": {
    "papermill": {},
    "tags": []
   },
   "source": [
    "**References:**\n- [Pydub](https://github.com/jiaaro/pydub)\n- [AudioSegment](https://pydub.com/audio_segment.html)"
   ]
  },
  {
   "cell_type": "markdown",
   "id": "d1d5e44a-0519-43e2-be99-a36ac680ddb6",
   "metadata": {
    "papermill": {},
    "tags": []
   },
   "source": [
    "## Input"
   ]
  },
  {
   "cell_type": "markdown",
   "id": "24eb7e1c-80ec-4992-8a69-0709884d6a75",
   "metadata": {
    "papermill": {},
    "tags": []
   },
   "source": [
    "### Import libraries"
   ]
  },
  {
   "cell_type": "code",
   "execution_count": null,
   "id": "288aecd9-6469-4c3f-ba93-3ae6d796edfc",
   "metadata": {
    "papermill": {},
    "tags": []
   },
   "source": "from pydub import AudioSegment",
   "outputs": []
  },
  {
   "cell_type": "markdown",
   "id": "e6380fd1-c4a2-4029-bb62-8aa12fdc23a2",
   "metadata": {
    "papermill": {},
    "tags": []
   },
   "source": [
    "### Setup Variables\n- `input_file`: path to the M4A file\n- `output_file`: path to the MP3 file"
   ]
  },
  {
   "cell_type": "code",
   "execution_count": null,
   "id": "e697796b-cbbf-429a-b929-2c78de1e8116",
   "metadata": {
    "papermill": {},
    "tags": []
   },
   "source": "input_file = \"input.m4a\"\noutput_file = \"output.mp3\"",
   "outputs": []
  },
  {
   "cell_type": "markdown",
   "id": "d261455e-8dc3-4d7a-9625-657b577a22f5",
   "metadata": {
    "papermill": {},
    "tags": []
   },
   "source": [
    "## Model"
   ]
  },
  {
   "cell_type": "markdown",
   "id": "24beeb75-7579-4934-b29a-e38e35982837",
   "metadata": {
    "papermill": {},
    "tags": []
   },
   "source": [
    "### Convert M4A to MP3"
   ]
  },
  {
   "cell_type": "markdown",
   "id": "0c1f8a41-bc41-490b-93bd-ca1c4d4fc5eb",
   "metadata": {
    "papermill": {},
    "tags": []
   },
   "source": [
    "Using the `AudioSegment` class from the `pydub` library, we can convert an audio file from M4A to MP3."
   ]
  },
  {
   "cell_type": "code",
   "execution_count": null,
   "id": "fc0e7a9d-d21d-46d4-a1e2-00f2af61f9d9",
   "metadata": {
    "papermill": {},
    "tags": []
   },
   "source": "sound = AudioSegment.from_file(input_file, format=\"m4a\")\nsound.export(output_file, format=\"mp3\")",
   "outputs": []
  },
  {
   "cell_type": "markdown",
   "id": "1dd6ceea-deff-4033-ba61-2f66d1bd10fb",
   "metadata": {
    "papermill": {},
    "tags": []
   },
   "source": [
    "## Output"
   ]
  },
  {
   "cell_type": "markdown",
   "id": "56c7862c-6240-4418-b940-8bff96aee1fc",
   "metadata": {
    "papermill": {},
    "tags": []
   },
   "source": [
    "### Display result"
   ]
  },
  {
   "cell_type": "markdown",
   "id": "bbb6ce13-0583-49eb-8eff-511ed3e55f6a",
   "metadata": {
    "papermill": {},
    "tags": []
   },
   "source": [
    "The audio file has been successfully converted from M4A to MP3."
   ]
  },
  {
   "cell_type": "markdown",
   "id": "4065921d-8c8d-4b8c-99e0-06642ec8a7e3",
   "metadata": {
    "papermill": {},
    "tags": []
   },
   "source": [
    " "
   ]
  },
  {
   "cell_type": "markdown",
   "id": "1f1098d9-fc61-4fa9-8d16-1038168e322f",
   "metadata": {
    "papermill": {},
    "tags": []
   },
   "source": [
    " "
   ]
  }
 ],
 "metadata": {
  "kernelspec": {
   "display_name": "Python 3",
   "language": "python",
   "name": "python3"
  },
  "language_info": {
   "codemirror_mode": {
    "name": "ipython",
    "version": 3
   },
   "file_extension": ".py",
   "mimetype": "text/x-python",
   "name": "python",
   "nbconvert_exporter": "python",
   "pygments_lexer": "ipython3",
   "version": "3.9.6"
  },
  "widgets": {
   "application/vnd.jupyter.widget-state+json": {
    "state": {},
    "version_major": 2,
    "version_minor": 0
   }
  }
 },
 "nbformat": 4,
 "nbformat_minor": 5
}