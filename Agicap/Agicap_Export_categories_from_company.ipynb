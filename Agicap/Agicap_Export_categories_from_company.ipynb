{
 "cells": [
  {
   "cell_type": "markdown",
   "id": "eb397bd6-e162-4022-b924-aaa788fc3077",
   "metadata": {
    "papermill": {},
    "tags": []
   },
   "source": [
    "<img width=\"10%\" alt=\"Naas\" src=\"https://landen.imgix.net/jtci2pxwjczr/assets/5ice39g4.png?w=160\"/>"
   ]
  },
  {
   "cell_type": "markdown",
   "id": "3a556037-c0e4-4f60-b53e-9f20d76df238",
   "metadata": {
    "papermill": {},
    "tags": []
   },
   "source": [
    "# Agicap - Export categories from company"
   ]
  },
  {
   "cell_type": "markdown",
   "id": "34b2748e-6b0a-4ce1-9b30-b90fd2c71079",
   "metadata": {
    "papermill": {},
    "tags": []
   },
   "source": [
    "**Tags:** #agicap #export #categories #company #data #python"
   ]
  },
  {
   "cell_type": "markdown",
   "id": "e575bd90-d1cb-4081-8108-9490dc8447a0",
   "metadata": {
    "papermill": {},
    "tags": []
   },
   "source": [
    "**Author:** [Florent Ravenel](https://www.linkedin.com/in/florent-ravenel)"
   ]
  },
  {
   "cell_type": "markdown",
   "id": "37038a7d-407d-49e8-9ca2-358bcc850434",
   "metadata": {
    "papermill": {},
    "tags": []
   },
   "source": [
    "**Last update:** 2023-07-12 (Created: 2023-07-12)"
   ]
  },
  {
   "cell_type": "markdown",
   "id": "7555cfe2-b035-4a3c-a79b-ee86dd41e15d",
   "metadata": {
    "papermill": {},
    "tags": []
   },
   "source": [
    "**Description:** This notebook will export categories from a company in Agicap and will be usefull to get a better understanding of the data."
   ]
  },
  {
   "cell_type": "markdown",
   "id": "1b67c259-20ee-4772-9d45-f777ae0a13e4",
   "metadata": {
    "papermill": {},
    "tags": []
   },
   "source": [
    "**References:**\n- [Agicap Documentation](https://docs.agicap.com/)\n- [Agicap API](https://api.agicap.com/)"
   ]
  },
  {
   "cell_type": "markdown",
   "id": "b6a14a76-b442-4e2c-a1aa-5ad1afeac4f3",
   "metadata": {
    "papermill": {},
    "tags": []
   },
   "source": [
    "## Input"
   ]
  },
  {
   "cell_type": "markdown",
   "id": "22c375cc-0f73-4ccf-8343-c6ffae0f55c3",
   "metadata": {
    "papermill": {},
    "tags": []
   },
   "source": [
    "### Import libraries"
   ]
  },
  {
   "cell_type": "code",
   "execution_count": null,
   "id": "8444fcb8-e1d2-46f0-ae48-d700f2f232a0",
   "metadata": {
    "papermill": {},
    "tags": []
   },
   "source": "import requests\nimport json",
   "outputs": []
  },
  {
   "cell_type": "markdown",
   "id": "378fd5cf-bc0f-42ff-bbd3-e1a9033041dc",
   "metadata": {
    "papermill": {},
    "tags": []
   },
   "source": [
    "### Setup Variables\n- `api_key`: API key to access Agicap API. [Get your API key](https://docs.agicap.com/getting-started/authentication.html)\n- `company_id`: ID of the company from which categories will be exported"
   ]
  },
  {
   "cell_type": "code",
   "execution_count": null,
   "id": "6591d7f3-aa85-49ea-9b62-5156fc400782",
   "metadata": {
    "papermill": {},
    "tags": []
   },
   "source": "api_key = \"YOUR_API_KEY\"\ncompany_id = \"YOUR_COMPANY_ID\"",
   "outputs": []
  },
  {
   "cell_type": "markdown",
   "id": "7dd3be39-682b-4ed3-a4e4-89f1289677fe",
   "metadata": {
    "papermill": {},
    "tags": []
   },
   "source": [
    "## Model"
   ]
  },
  {
   "cell_type": "markdown",
   "id": "3283d531-0ea5-43d4-be55-0d1a44f666fb",
   "metadata": {
    "papermill": {},
    "tags": []
   },
   "source": [
    "### Export categories from company"
   ]
  },
  {
   "cell_type": "markdown",
   "id": "17b2a042-41fe-45df-9241-7fbc0418f80e",
   "metadata": {
    "papermill": {},
    "tags": []
   },
   "source": [
    "This function will export all categories from a company in Agicap."
   ]
  },
  {
   "cell_type": "code",
   "execution_count": null,
   "id": "6c16346f-7608-4ef1-970c-89c7d1b903d2",
   "metadata": {
    "papermill": {},
    "tags": []
   },
   "source": "def export_categories_from_company(api_key, company_id):\n    # Set up request\n    url = f\"https://api.agicap.com/v1/companies/{company_id}/categories\"\n    headers = {\"Authorization\": f\"Bearer {api_key}\"}\n    # Make request\n    response = requests.get(url, headers=headers)\n    # Check response\n    if response.status_code == 200:\n        # Parse response\n        categories = json.loads(response.text)\n        # Return categories\n        return categories\n    else:\n        # Return error\n        return response.text",
   "outputs": []
  },
  {
   "cell_type": "markdown",
   "id": "4802d2cc-2cff-45c4-8441-2653150f2e1b",
   "metadata": {
    "papermill": {},
    "tags": []
   },
   "source": [
    "## Output"
   ]
  },
  {
   "cell_type": "markdown",
   "id": "4f7db807-5ca8-4659-b2d3-336aede3b805",
   "metadata": {
    "papermill": {},
    "tags": []
   },
   "source": [
    "### Display result"
   ]
  },
  {
   "cell_type": "code",
   "execution_count": null,
   "id": "aca651d9-5807-4337-b0c6-5349da8a2dd4",
   "metadata": {
    "papermill": {},
    "tags": []
   },
   "source": "categories = export_categories_from_company(api_key, company_id)\nprint(categories)",
   "outputs": []
  },
  {
   "cell_type": "markdown",
   "id": "1b3fa305-ada6-4f91-87a6-a35864496318",
   "metadata": {
    "papermill": {},
    "tags": []
   },
   "source": [
    " "
   ]
  }
 ],
 "metadata": {
  "kernelspec": {
   "display_name": "Python 3",
   "language": "python",
   "name": "python3"
  },
  "language_info": {
   "codemirror_mode": {
    "name": "ipython",
    "version": 3
   },
   "file_extension": ".py",
   "mimetype": "text/x-python",
   "name": "python",
   "nbconvert_exporter": "python",
   "pygments_lexer": "ipython3",
   "version": "3.9.6"
  },
  "widgets": {
   "application/vnd.jupyter.widget-state+json": {
    "state": {},
    "version_major": 2,
    "version_minor": 0
   }
  }
 },
 "nbformat": 4,
 "nbformat_minor": 5
}