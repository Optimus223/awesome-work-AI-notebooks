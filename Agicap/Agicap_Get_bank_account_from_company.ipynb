{
 "cells": [
  {
   "cell_type": "markdown",
   "id": "b0f7d279-263a-4e27-9c69-0a568763a49e",
   "metadata": {
    "papermill": {},
    "tags": []
   },
   "source": [
    "<img width=\"10%\" alt=\"Naas\" src=\"https://landen.imgix.net/jtci2pxwjczr/assets/5ice39g4.png?w=160\"/>"
   ]
  },
  {
   "cell_type": "markdown",
   "id": "ce525f1b-c766-44d4-bac8-ae23a2c9bcd9",
   "metadata": {
    "papermill": {},
    "tags": []
   },
   "source": [
    "# Agicap - Get bank account from company"
   ]
  },
  {
   "cell_type": "markdown",
   "id": "5f84b2dc-2e8b-4f8d-8cc5-85afb0fea245",
   "metadata": {
    "papermill": {},
    "tags": []
   },
   "source": [
    "**Tags:** #agicap #bankaccount #company #finance #data #api"
   ]
  },
  {
   "cell_type": "markdown",
   "id": "0dbbf75b-a7a8-4ddd-b4d0-81442abd3942",
   "metadata": {
    "papermill": {},
    "tags": []
   },
   "source": [
    "**Author:** [Florent Ravenel](https://www.linkedin.com/in/florent-ravenel)"
   ]
  },
  {
   "cell_type": "markdown",
   "id": "682bb76a-7258-44d0-8c2e-1d9c7b7022d4",
   "metadata": {
    "papermill": {},
    "tags": []
   },
   "source": [
    "**Last update:** 2023-07-12 (Created: 2023-07-12)"
   ]
  },
  {
   "cell_type": "markdown",
   "id": "499a0b55-37cb-465b-8b04-1eb185faaea1",
   "metadata": {
    "papermill": {},
    "tags": []
   },
   "source": [
    "**Description:** This notebook will show how to get bank account from a company using Agicap API. It is usefull for organizations to quickly get the bank account of a company."
   ]
  },
  {
   "cell_type": "markdown",
   "id": "4f387cba-b573-4bc6-88ca-9ff39126a642",
   "metadata": {
    "papermill": {},
    "tags": []
   },
   "source": [
    "**References:**\n- [Agicap API Documentation](https://agicap.docs.apiary.io/)\n- [Agicap API Client](https://github.com/agicap/agicap-client-python)"
   ]
  },
  {
   "cell_type": "markdown",
   "id": "0279a58b-adfb-497c-be79-5230d6bf7922",
   "metadata": {
    "papermill": {},
    "tags": []
   },
   "source": [
    "## Input"
   ]
  },
  {
   "cell_type": "markdown",
   "id": "2380417b-fa5c-4e0b-90c6-dc7a459fe1f0",
   "metadata": {
    "papermill": {},
    "tags": []
   },
   "source": [
    "### Import libraries"
   ]
  },
  {
   "cell_type": "code",
   "execution_count": null,
   "id": "08442ff9-22ce-4dfd-8241-720a7eeb6774",
   "metadata": {
    "papermill": {},
    "tags": []
   },
   "source": "import agicap",
   "outputs": []
  },
  {
   "cell_type": "markdown",
   "id": "3c95f187-6efe-4b00-a257-5bd7664af733",
   "metadata": {
    "papermill": {},
    "tags": []
   },
   "source": [
    "### Setup Variables\n- `api_key`: API key provided by Agicap. [See how to get an API key](https://agicap.docs.apiary.io/#introduction/authentication)."
   ]
  },
  {
   "cell_type": "code",
   "execution_count": null,
   "id": "b68ef240-5feb-4f41-a50e-23cc275c8a0f",
   "metadata": {
    "papermill": {},
    "tags": []
   },
   "source": "api_key = \"<YOUR_API_KEY>\"",
   "outputs": []
  },
  {
   "cell_type": "markdown",
   "id": "e8ecb2bd-fadd-4c92-82b2-2f159102b307",
   "metadata": {
    "papermill": {},
    "tags": []
   },
   "source": [
    "## Model"
   ]
  },
  {
   "cell_type": "markdown",
   "id": "fffa0325-b316-4689-8b67-39bab626ae2e",
   "metadata": {
    "papermill": {},
    "tags": []
   },
   "source": [
    "### Get bank account from company"
   ]
  },
  {
   "cell_type": "markdown",
   "id": "bfe7f613-c23f-495b-9fdd-c3d301cceded",
   "metadata": {
    "papermill": {},
    "tags": []
   },
   "source": [
    "This function will get the bank account of a company using Agicap API."
   ]
  },
  {
   "cell_type": "code",
   "execution_count": null,
   "id": "c7288b3b-2ac1-4555-82da-5755b4e048cb",
   "metadata": {
    "papermill": {},
    "tags": []
   },
   "source": "def get_bank_account(api_key, company_id):\n    # Initialize Agicap API\n    api = agicap.Agicap(api_key)\n\n    # Get company\n    company = api.get_company(company_id)\n\n    # Get bank account\n    bank_account = company.get_bank_account()\n\n    return bank_account",
   "outputs": []
  },
  {
   "cell_type": "markdown",
   "id": "376824be-b2d3-4c2c-9c3e-abea4d2a3e29",
   "metadata": {
    "papermill": {},
    "tags": []
   },
   "source": [
    "## Output"
   ]
  },
  {
   "cell_type": "markdown",
   "id": "7f409b82-e2c3-48d2-9d77-82b38e0e15c8",
   "metadata": {
    "papermill": {},
    "tags": []
   },
   "source": [
    "### Display result"
   ]
  },
  {
   "cell_type": "code",
   "execution_count": null,
   "id": "ef93440d-9138-4d1d-a5cc-f67b5110c4ee",
   "metadata": {
    "papermill": {},
    "tags": []
   },
   "source": "bank_account = get_bank_account(api_key, \"<COMPANY_ID>\")\nprint(bank_account)",
   "outputs": []
  },
  {
   "cell_type": "markdown",
   "id": "1514a40c-06a0-44c7-b64d-896b7b312b8d",
   "metadata": {
    "papermill": {},
    "tags": []
   },
   "source": [
    " "
   ]
  }
 ],
 "metadata": {
  "kernelspec": {
   "display_name": "Python 3",
   "language": "python",
   "name": "python3"
  },
  "language_info": {
   "codemirror_mode": {
    "name": "ipython",
    "version": 3
   },
   "file_extension": ".py",
   "mimetype": "text/x-python",
   "name": "python",
   "nbconvert_exporter": "python",
   "pygments_lexer": "ipython3",
   "version": "3.9.6"
  },
  "widgets": {
   "application/vnd.jupyter.widget-state+json": {
    "state": {},
    "version_major": 2,
    "version_minor": 0
   }
  }
 },
 "nbformat": 4,
 "nbformat_minor": 5
}