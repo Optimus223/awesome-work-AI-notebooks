{
 "cells": [
  {
   "cell_type": "markdown",
   "id": "27ba4b1f-4cac-4732-89f4-746670a18eff",
   "metadata": {
    "papermill": {},
    "tags": []
   },
   "source": [
    "<img width=\"10%\" alt=\"Naas\" src=\"https://landen.imgix.net/jtci2pxwjczr/assets/5ice39g4.png?w=160\"/>"
   ]
  },
  {
   "cell_type": "markdown",
   "id": "47871128-af8b-4aea-8f82-99761e2f07a9",
   "metadata": {
    "papermill": {},
    "tags": []
   },
   "source": [
    "# Agicap - Export treasury plan"
   ]
  },
  {
   "cell_type": "markdown",
   "id": "71de4649-bb2a-49d0-887d-e7432cea502c",
   "metadata": {
    "papermill": {},
    "tags": []
   },
   "source": [
    "**Tags:** #agicap #treasury #export #plan #finance #data"
   ]
  },
  {
   "cell_type": "markdown",
   "id": "93b970bb-d728-49a7-a005-eaf0b166f02a",
   "metadata": {
    "papermill": {},
    "tags": []
   },
   "source": [
    "**Author:** [Florent Ravenel](https://www.linkedin.com/in/florent-ravenel)"
   ]
  },
  {
   "cell_type": "markdown",
   "id": "25cd968d-2614-4232-b482-e4778a85cafb",
   "metadata": {
    "papermill": {},
    "tags": []
   },
   "source": [
    "**Description:** This notebook will export a treasury plan from Agicap and will be usefull to have a clear overview of the financial situation of the organization."
   ]
  },
  {
   "cell_type": "markdown",
   "id": "01841f84-cc0a-4a5e-bfb2-04b5d59819b2",
   "metadata": {
    "papermill": {},
    "tags": []
   },
   "source": [
    "**References:**\n- [Agicap Documentation](https://docs.agicap.com/)\n- [Agicap API](https://api.agicap.com/)"
   ]
  },
  {
   "cell_type": "markdown",
   "id": "9738d9da-dc20-4471-a173-39907c3b7414",
   "metadata": {
    "papermill": {},
    "tags": []
   },
   "source": [
    "## Input"
   ]
  },
  {
   "cell_type": "markdown",
   "id": "9e1d4e10-5293-43d4-8e2a-85db359a70d6",
   "metadata": {
    "papermill": {},
    "tags": []
   },
   "source": [
    "### Import libraries"
   ]
  },
  {
   "cell_type": "code",
   "execution_count": null,
   "id": "179ec8b5-d08e-4a22-b2af-2d30ad8c2653",
   "metadata": {
    "papermill": {},
    "tags": []
   },
   "source": "import requests\nimport json",
   "outputs": []
  },
  {
   "cell_type": "markdown",
   "id": "5d885e99-bf04-4ecd-97d7-4adf429f95d2",
   "metadata": {
    "papermill": {},
    "tags": []
   },
   "source": [
    "### Setup Variables\n- `token`: [Follow this procedure to get your token](https://docs.agicap.com/getting-started/authentication.html)\n- `company_id`: [Follow this procedure to get your company id](https://docs.agicap.com/getting-started/company-id.html)"
   ]
  },
  {
   "cell_type": "code",
   "execution_count": null,
   "id": "78c8d2d6-0f41-4513-9606-26432533c6c9",
   "metadata": {
    "papermill": {},
    "tags": []
   },
   "source": "token = \"YOUR_TOKEN\"\ncompany_id = \"YOUR_COMPANY_ID\"",
   "outputs": []
  },
  {
   "cell_type": "markdown",
   "id": "e3fa61f7-7967-46e2-b998-b185823f5e91",
   "metadata": {
    "papermill": {},
    "tags": []
   },
   "source": [
    "## Model"
   ]
  },
  {
   "cell_type": "markdown",
   "id": "3b474b54-26f1-40b2-a857-067a17e8afcd",
   "metadata": {
    "papermill": {},
    "tags": []
   },
   "source": [
    "### Export treasury plan"
   ]
  },
  {
   "cell_type": "markdown",
   "id": "afb9b8f2-0b25-4bc7-95b6-2af12e9c59f2",
   "metadata": {
    "papermill": {},
    "tags": []
   },
   "source": [
    "This function will export the treasury plan of the company."
   ]
  },
  {
   "cell_type": "code",
   "execution_count": null,
   "id": "b1b6de6b-ccd0-4c38-907b-5b2fbe51952f",
   "metadata": {
    "papermill": {},
    "tags": []
   },
   "source": "def export_treasury_plan(token, company_id):\n    url = f\"https://api.agicap.com/v1/companies/{company_id}/treasury_plans/export\"\n    headers = {\"Authorization\": f\"Bearer {token}\"}\n    response = requests.get(url, headers=headers)\n    return response.content",
   "outputs": []
  },
  {
   "cell_type": "markdown",
   "id": "9ec1afc6-f1aa-460e-a51a-b29f909e0a90",
   "metadata": {
    "papermill": {},
    "tags": []
   },
   "source": [
    "## Output"
   ]
  },
  {
   "cell_type": "markdown",
   "id": "4c638974-0942-4686-8d2e-dca0959a9bd4",
   "metadata": {
    "papermill": {},
    "tags": []
   },
   "source": [
    "### Display result"
   ]
  },
  {
   "cell_type": "code",
   "execution_count": null,
   "id": "109b4ec8-e1b6-4ab2-b815-b1ef5ebbb454",
   "metadata": {
    "papermill": {},
    "tags": []
   },
   "source": "treasury_plan = export_treasury_plan(token, company_id)\nprint(treasury_plan)",
   "outputs": []
  },
  {
   "cell_type": "markdown",
   "id": "a3488db5-423b-4a71-b99c-25ecded8f66c",
   "metadata": {
    "papermill": {},
    "tags": []
   },
   "source": [
    " "
   ]
  }
 ],
 "metadata": {
  "kernelspec": {
   "display_name": "Python 3",
   "language": "python",
   "name": "python3"
  },
  "language_info": {
   "codemirror_mode": {
    "name": "ipython",
    "version": 3
   },
   "file_extension": ".py",
   "mimetype": "text/x-python",
   "name": "python",
   "nbconvert_exporter": "python",
   "pygments_lexer": "ipython3",
   "version": "3.9.6"
  },
  "widgets": {
   "application/vnd.jupyter.widget-state+json": {
    "state": {},
    "version_major": 2,
    "version_minor": 0
   }
  }
 },
 "nbformat": 4,
 "nbformat_minor": 5
}