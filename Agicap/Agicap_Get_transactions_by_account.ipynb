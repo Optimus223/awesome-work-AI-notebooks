{
 "cells": [
  {
   "cell_type": "markdown",
   "id": "2fb9bad6-7478-46dc-88d2-27b3f31db2e8",
   "metadata": {
    "papermill": {},
    "tags": []
   },
   "source": [
    "<img width=\"10%\" alt=\"Naas\" src=\"https://landen.imgix.net/jtci2pxwjczr/assets/5ice39g4.png?w=160\"/>"
   ]
  },
  {
   "cell_type": "markdown",
   "id": "aa21ab58-5e6d-4f80-bfbd-b1a971561ed9",
   "metadata": {
    "papermill": {},
    "tags": []
   },
   "source": [
    "# Agicap - Get transactions by account"
   ]
  },
  {
   "cell_type": "markdown",
   "id": "9b09a6c5-498a-4a62-b5ed-16b4cfcac317",
   "metadata": {
    "papermill": {},
    "tags": []
   },
   "source": [
    "**Tags:** #agicap #transactions #account #api #python #data"
   ]
  },
  {
   "cell_type": "markdown",
   "id": "70a0ac08-7d44-4a12-ad90-ee89a9227948",
   "metadata": {
    "papermill": {},
    "tags": []
   },
   "source": [
    "**Author:** [Florent Ravenel](https://www.linkedin.com/in/florent-ravenel)"
   ]
  },
  {
   "cell_type": "markdown",
   "id": "b84716fc-b428-4df8-a130-a7881ce9832d",
   "metadata": {
    "papermill": {},
    "tags": []
   },
   "source": [
    "**Last update:** 2023-09-13 (Created: 2023-09-13)"
   ]
  },
  {
   "cell_type": "markdown",
   "id": "125be79d-d4a8-4161-b4ab-4d5c0fe5ea64",
   "metadata": {
    "papermill": {},
    "tags": []
   },
   "source": [
    "**Description:** This notebook will get transactions by account using Agicap API and Python. It is usefull for organizations to get a better understanding of their financial data."
   ]
  },
  {
   "cell_type": "markdown",
   "id": "405cd628-d08b-41ab-b111-4fa9735b84c7",
   "metadata": {
    "papermill": {},
    "tags": []
   },
   "source": [
    "**References:**\n- [Agicap API Documentation](https://api.agicap.com/docs/index.html)\n- [Python Requests Library](https://requests.readthedocs.io/en/master/)"
   ]
  },
  {
   "cell_type": "markdown",
   "id": "546de143-abde-4e09-8bcf-a80f507954b8",
   "metadata": {
    "papermill": {},
    "tags": []
   },
   "source": [
    "## Input"
   ]
  },
  {
   "cell_type": "markdown",
   "id": "fb9269ee-9a04-4635-82eb-8ee7222ac874",
   "metadata": {
    "papermill": {},
    "tags": []
   },
   "source": [
    "### Import libraries"
   ]
  },
  {
   "cell_type": "code",
   "execution_count": null,
   "id": "ddb30f2f-bfc7-40c4-9d9d-e665f6251e24",
   "metadata": {
    "papermill": {},
    "tags": []
   },
   "source": "import requests",
   "outputs": []
  },
  {
   "cell_type": "markdown",
   "id": "b6fd174d-fcfe-4b37-8311-9ab9851a7ac3",
   "metadata": {
    "papermill": {},
    "tags": []
   },
   "source": [
    "### Setup variables\n- `api_key`: API key provided by Agicap\n- `account_id`: ID of the account to get transactions from"
   ]
  },
  {
   "cell_type": "code",
   "execution_count": null,
   "id": "30e4eb80-5d7c-426b-b11d-749143ad646e",
   "metadata": {
    "papermill": {},
    "tags": []
   },
   "source": "api_key = \"<api_key>\"\naccount_id = \"<account_id>\"",
   "outputs": []
  },
  {
   "cell_type": "markdown",
   "id": "bf20ad5e-9730-468f-a23a-c0682d1fc989",
   "metadata": {
    "papermill": {},
    "tags": []
   },
   "source": [
    "## Model"
   ]
  },
  {
   "cell_type": "markdown",
   "id": "2b62fb50-28e1-4259-8b3b-c2b9f1edd01f",
   "metadata": {
    "papermill": {},
    "tags": []
   },
   "source": [
    "### Get transactions by account"
   ]
  },
  {
   "cell_type": "markdown",
   "id": "f3fedabb-73e0-468a-bbfa-70eae44edfe3",
   "metadata": {
    "papermill": {},
    "tags": []
   },
   "source": [
    "This function will get all transactions from an account using Agicap API."
   ]
  },
  {
   "cell_type": "code",
   "execution_count": null,
   "id": "264632d4-915f-4b60-9cee-48143ca9bf9e",
   "metadata": {
    "papermill": {},
    "tags": []
   },
   "source": "def get_transactions_by_account(api_key, account_id):\n    url = f\"https://api.agicap.com/v1/accounts/{account_id}/transactions\"\n    headers = {\"Authorization\": f\"Bearer {api_key}\"}\n    response = requests.get(url, headers=headers)\n    return response.json()",
   "outputs": []
  },
  {
   "cell_type": "markdown",
   "id": "e9efe42e-7fd3-489e-bcf0-88a0350b72f1",
   "metadata": {
    "papermill": {},
    "tags": []
   },
   "source": [
    "## Output"
   ]
  },
  {
   "cell_type": "markdown",
   "id": "c9260745-f870-4d97-a16d-049dffd9635f",
   "metadata": {
    "papermill": {},
    "tags": []
   },
   "source": [
    "### Display result"
   ]
  },
  {
   "cell_type": "code",
   "execution_count": null,
   "id": "0ba9c686-3e02-46f1-ab8a-8de5dd7b86cc",
   "metadata": {
    "papermill": {},
    "tags": []
   },
   "source": "transactions = get_transactions_by_account(api_key, account_id)\nprint(transactions)",
   "outputs": []
  },
  {
   "cell_type": "markdown",
   "id": "ce25b9a3-2255-4c6a-8d26-08d092087bea",
   "metadata": {
    "papermill": {},
    "tags": []
   },
   "source": [
    " "
   ]
  }
 ],
 "metadata": {
  "kernelspec": {
   "display_name": "Python 3",
   "language": "python",
   "name": "python3"
  },
  "language_info": {
   "codemirror_mode": {
    "name": "ipython",
    "version": 3
   },
   "file_extension": ".py",
   "mimetype": "text/x-python",
   "name": "python",
   "nbconvert_exporter": "python",
   "pygments_lexer": "ipython3",
   "version": "3.9.6"
  },
  "widgets": {
   "application/vnd.jupyter.widget-state+json": {
    "state": {},
    "version_major": 2,
    "version_minor": 0
   }
  }
 },
 "nbformat": 4,
 "nbformat_minor": 5
}