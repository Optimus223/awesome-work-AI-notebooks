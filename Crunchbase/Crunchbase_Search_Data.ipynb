{
 "cells": [
  {
   "cell_type": "markdown",
   "id": "6a9e63ab-33c3-45c0-bd9e-3d1c0600ad11",
   "metadata": {
    "papermill": {},
    "tags": []
   },
   "source": [
    "<img width=\"10%\" alt=\"Naas\" src=\"https://landen.imgix.net/jtci2pxwjczr/assets/5ice39g4.png?w=160\"/>"
   ]
  },
  {
   "cell_type": "markdown",
   "id": "1515b087-6d57-43ee-98ac-6fc53d39cbf4",
   "metadata": {
    "papermill": {},
    "tags": []
   },
   "source": [
    "# Crunchbase - Search Data"
   ]
  },
  {
   "cell_type": "markdown",
   "id": "63a1cf20-4e2c-4509-bbbb-338d87a7a602",
   "metadata": {
    "papermill": {},
    "tags": []
   },
   "source": [
    "**Tags:** #crunchbase #search #data #api #python #library"
   ]
  },
  {
   "cell_type": "markdown",
   "id": "56a160a5-7ba4-4066-a210-46b28e02d44d",
   "metadata": {
    "papermill": {},
    "tags": []
   },
   "source": [
    "**Author:** [Florent Ravenel](https://www.linkedin.com/in/florent-ravenel/)"
   ]
  },
  {
   "cell_type": "markdown",
   "id": "e107f1dd-b8a0-4116-b30c-eafd0c781867",
   "metadata": {
    "papermill": {},
    "tags": []
   },
   "source": [
    "**Description:** This notebook will demonstrate how to use the Crunchbase Search API to retrieve data."
   ]
  },
  {
   "cell_type": "markdown",
   "id": "3b59bb53-6d82-46e6-bf3f-95465af7e2f2",
   "metadata": {
    "papermill": {},
    "tags": []
   },
   "source": [
    "**References:**\n- [Crunchbase Search API Documentation](https://data.crunchbase.com/docs/using-search-apis)\n- [Crunchbase API Key](https://data.crunchbase.com/docs/authentication)"
   ]
  },
  {
   "cell_type": "markdown",
   "id": "19279437-74fa-4183-b461-0fd1eb3e6114",
   "metadata": {
    "papermill": {},
    "tags": []
   },
   "source": [
    "## Input"
   ]
  },
  {
   "cell_type": "markdown",
   "id": "5cf36f0f-d65e-4cc7-ac1a-731d6b912f5d",
   "metadata": {
    "papermill": {},
    "tags": []
   },
   "source": [
    "### Import libraries"
   ]
  },
  {
   "cell_type": "code",
   "execution_count": null,
   "id": "1c6a51fa-b7b2-4e61-8712-216fce67919b",
   "metadata": {
    "papermill": {},
    "tags": []
   },
   "source": "import requests\nimport json",
   "outputs": []
  },
  {
   "cell_type": "markdown",
   "id": "eb0c212b-ee5a-4f60-a79d-cd876b0be300",
   "metadata": {
    "papermill": {},
    "tags": []
   },
   "source": [
    "### Setup Variables\n- **api_key**: Crunchbase API Key. [Get your API Key](https://data.crunchbase.com/docs/authentication)"
   ]
  },
  {
   "cell_type": "code",
   "execution_count": null,
   "id": "dc540159-6d9f-4133-bba4-69296a2e706b",
   "metadata": {
    "papermill": {},
    "tags": []
   },
   "source": "api_key = \"YOUR_API_KEY\"",
   "outputs": []
  },
  {
   "cell_type": "markdown",
   "id": "841aa962-04df-4ed7-b57e-3eb0661cfc8b",
   "metadata": {
    "papermill": {},
    "tags": []
   },
   "source": [
    "## Model"
   ]
  },
  {
   "cell_type": "markdown",
   "id": "6eb3312f-cd37-4bed-a477-b333240b8e37",
   "metadata": {
    "papermill": {},
    "tags": []
   },
   "source": [
    "### Search for Companies"
   ]
  },
  {
   "cell_type": "markdown",
   "id": "94497697-affc-4388-92c9-c694c318890d",
   "metadata": {
    "papermill": {},
    "tags": []
   },
   "source": [
    "Long description of the function: This function will search for companies using the Crunchbase Search API."
   ]
  },
  {
   "cell_type": "code",
   "execution_count": null,
   "id": "3a4d6f75-787b-417b-8b23-86269e2cfbc9",
   "metadata": {
    "papermill": {},
    "tags": []
   },
   "source": "def search_companies(query, api_key):\n    # Setup the API endpoint\n    endpoint = \"https://api.crunchbase.com/v3.1/odm-organizations\"\n\n    # Setup the parameters\n    params = {\"query\": query, \"user_key\": api_key}\n\n    # Make the request\n    response = requests.get(endpoint, params=params)\n\n    # Return the response\n    return response",
   "outputs": []
  },
  {
   "cell_type": "markdown",
   "id": "6e3efd5f-82ab-4e1c-9dbd-3aafa29bb161",
   "metadata": {
    "papermill": {},
    "tags": []
   },
   "source": [
    "## Output"
   ]
  },
  {
   "cell_type": "markdown",
   "id": "0e8fbbbf-75f6-4730-9158-91afc56a7552",
   "metadata": {
    "papermill": {},
    "tags": []
   },
   "source": [
    "### Display result"
   ]
  },
  {
   "cell_type": "code",
   "execution_count": null,
   "id": "45d03aef-716b-4e61-be9e-2a8d798580bb",
   "metadata": {
    "papermill": {},
    "tags": []
   },
   "source": "# Search for companies\nresponse = search_companies(\"Apple\", api_key)\n# Print the response\nprint(json.dumps(response.json(), indent=4))",
   "outputs": []
  },
  {
   "cell_type": "markdown",
   "id": "d5e72d35-ad1f-4122-9504-cea982e067ff",
   "metadata": {
    "papermill": {},
    "tags": []
   },
   "source": [
    " "
   ]
  }
 ],
 "metadata": {
  "kernelspec": {
   "display_name": "Python 3",
   "language": "python",
   "name": "python3"
  },
  "language_info": {
   "codemirror_mode": {
    "name": "ipython",
    "version": 3
   },
   "file_extension": ".py",
   "mimetype": "text/x-python",
   "name": "python",
   "nbconvert_exporter": "python",
   "pygments_lexer": "ipython3",
   "version": "3.9.6"
  },
  "widgets": {
   "application/vnd.jupyter.widget-state+json": {
    "state": {},
    "version_major": 2,
    "version_minor": 0
   }
  }
 },
 "nbformat": 4,
 "nbformat_minor": 5
}