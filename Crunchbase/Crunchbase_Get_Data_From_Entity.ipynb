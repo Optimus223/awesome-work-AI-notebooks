{
 "cells": [
  {
   "cell_type": "markdown",
   "id": "c3e4a606-8d5d-497b-92d7-9638db17c009",
   "metadata": {
    "papermill": {},
    "tags": []
   },
   "source": [
    "<img width=\"10%\" alt=\"Naas\" src=\"https://landen.imgix.net/jtci2pxwjczr/assets/5ice39g4.png?w=160\"/>"
   ]
  },
  {
   "cell_type": "markdown",
   "id": "69c33799-25af-4fbe-bb3a-13ea2bc75896",
   "metadata": {
    "papermill": {},
    "tags": []
   },
   "source": [
    "# Crunchbase - Get Data From Entity"
   ]
  },
  {
   "cell_type": "markdown",
   "id": "275f120f-5fed-4eb8-b06e-89e79e2ba102",
   "metadata": {
    "papermill": {},
    "tags": []
   },
   "source": [
    "**Tags:** #crunchbase #entity #api #data #lookup #python"
   ]
  },
  {
   "cell_type": "markdown",
   "id": "c6a53025-d378-4cc1-be6c-db34c4719d44",
   "metadata": {
    "papermill": {},
    "tags": []
   },
   "source": [
    "**Author:** [Florent Ravenel](https://www.linkedin.com/in/florent-ravenel/)"
   ]
  },
  {
   "cell_type": "markdown",
   "id": "774879c1-c833-4b3c-a753-fdcd53aa4381",
   "metadata": {
    "papermill": {},
    "tags": []
   },
   "source": [
    "**Description:** This notebook will show how to use the Crunchbase Entity Lookup API to get data from an entity."
   ]
  },
  {
   "cell_type": "markdown",
   "id": "577a9dd1-9ecf-4ab2-80dd-d63d71b094e3",
   "metadata": {
    "papermill": {},
    "tags": []
   },
   "source": [
    "**References:**\n- [Crunchbase Entity Lookup API](https://data.crunchbase.com/docs/examples-entity-lookup-api)\n- [Crunchbase API Documentation](https://data.crunchbase.com/docs/using-the-api)"
   ]
  },
  {
   "cell_type": "markdown",
   "id": "170909e3-883d-470c-aa5b-463f32883268",
   "metadata": {
    "papermill": {},
    "tags": []
   },
   "source": [
    "## Input"
   ]
  },
  {
   "cell_type": "markdown",
   "id": "2d575e9b-a165-478f-b8c0-8e82a96e9ea2",
   "metadata": {
    "papermill": {},
    "tags": []
   },
   "source": [
    "### Import libraries"
   ]
  },
  {
   "cell_type": "code",
   "execution_count": null,
   "id": "3eb107d9-57e8-4238-aa1e-b9a91c0a6f09",
   "metadata": {
    "papermill": {},
    "tags": []
   },
   "source": "import requests\nimport json",
   "outputs": []
  },
  {
   "cell_type": "markdown",
   "id": "413c1adc-9bf8-46b4-98c1-c0b60f2fb59f",
   "metadata": {
    "papermill": {},
    "tags": []
   },
   "source": [
    "### Setup Variables\n- **api_key**: Your Crunchbase API key. [Get your API key here](https://data.crunchbase.com/docs/authentication)."
   ]
  },
  {
   "cell_type": "code",
   "execution_count": null,
   "id": "0ffde494-2786-41c3-91c8-02291f66c358",
   "metadata": {
    "papermill": {},
    "tags": []
   },
   "source": "api_key = \"YOUR_API_KEY\"",
   "outputs": []
  },
  {
   "cell_type": "markdown",
   "id": "ff52325c-d2a4-4e2b-afe0-b7569f1df1d9",
   "metadata": {
    "papermill": {},
    "tags": []
   },
   "source": [
    "## Model"
   ]
  },
  {
   "cell_type": "markdown",
   "id": "dec7aaec-e88f-410f-a4c8-5f8f65fd7e13",
   "metadata": {
    "papermill": {},
    "tags": []
   },
   "source": [
    "### Get data from an entity"
   ]
  },
  {
   "cell_type": "markdown",
   "id": "702cb1e4-7c09-4bbd-8d47-e942ae34e219",
   "metadata": {
    "papermill": {},
    "tags": []
   },
   "source": [
    "This function will use the Crunchbase Entity Lookup API to get data from an entity."
   ]
  },
  {
   "cell_type": "code",
   "execution_count": null,
   "id": "c973e4b6-c5a8-42a4-a503-02fb771e5660",
   "metadata": {
    "papermill": {},
    "tags": []
   },
   "source": "def get_entity_data(entity_name, api_key):\n    # Setup the request\n    url = \"https://api.crunchbase.com/v3.1/odm-organizations\"\n    headers = {\"Content-Type\": \"application/json\", \"Authorization\": \"Bearer \" + api_key}\n    params = {\"name\": entity_name}\n\n    # Make the request\n    response = requests.get(url, headers=headers, params=params)\n\n    # Return the response\n    return response.json()",
   "outputs": []
  },
  {
   "cell_type": "markdown",
   "id": "ea74f5b7-8f1f-474e-b853-8090f1530944",
   "metadata": {
    "papermill": {},
    "tags": []
   },
   "source": [
    "## Output"
   ]
  },
  {
   "cell_type": "markdown",
   "id": "db97d5ea-e933-4f35-95d5-ef1fb884511f",
   "metadata": {
    "papermill": {},
    "tags": []
   },
   "source": [
    "### Display result"
   ]
  },
  {
   "cell_type": "code",
   "execution_count": null,
   "id": "fff6c51c-e140-40aa-b3bf-4e02183e492e",
   "metadata": {
    "papermill": {},
    "tags": []
   },
   "source": "# Get data from an entity\nentity_name = \"Microsoft\"\nentity_data = get_entity_data(entity_name, api_key)\n# Display the result\nprint(json.dumps(entity_data, indent=4))",
   "outputs": []
  },
  {
   "cell_type": "markdown",
   "id": "9e022635-e76d-4961-8409-3500b6d5cdeb",
   "metadata": {
    "papermill": {},
    "tags": []
   },
   "source": [
    " "
   ]
  }
 ],
 "metadata": {
  "kernelspec": {
   "display_name": "Python 3",
   "language": "python",
   "name": "python3"
  },
  "language_info": {
   "codemirror_mode": {
    "name": "ipython",
    "version": 3
   },
   "file_extension": ".py",
   "mimetype": "text/x-python",
   "name": "python",
   "nbconvert_exporter": "python",
   "pygments_lexer": "ipython3",
   "version": "3.9.6"
  },
  "widgets": {
   "application/vnd.jupyter.widget-state+json": {
    "state": {},
    "version_major": 2,
    "version_minor": 0
   }
  }
 },
 "nbformat": 4,
 "nbformat_minor": 5
}