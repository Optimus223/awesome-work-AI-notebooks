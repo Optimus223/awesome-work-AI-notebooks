{
 "cells": [
  {
   "cell_type": "markdown",
   "id": "aad19294-8b09-4b6b-9780-e4cc631ac2d9",
   "metadata": {
    "papermill": {},
    "tags": []
   },
   "source": [
    "<img width=\"10%\" alt=\"Naas\" src=\"https://landen.imgix.net/jtci2pxwjczr/assets/5ice39g4.png?w=160\"/>"
   ]
  },
  {
   "cell_type": "markdown",
   "id": "0542bfa0-f364-4074-8cd5-8d9f6953d4c9",
   "metadata": {
    "papermill": {},
    "tags": []
   },
   "source": [
    "# Spotify - Get Album"
   ]
  },
  {
   "cell_type": "markdown",
   "id": "6233f3e3-4d2a-4a13-ab18-78eaa505723f",
   "metadata": {
    "papermill": {},
    "tags": []
   },
   "source": [
    "**Tags:** #spotify #api #album #get #web #catalog"
   ]
  },
  {
   "cell_type": "markdown",
   "id": "d5c19f09-036e-4897-bfc7-3b7bfc4b7f2d",
   "metadata": {
    "papermill": {},
    "tags": []
   },
   "source": [
    "**Author:** [Alton Liew](https://www.linkedin.com/in/alton-liew-749944182/)"
   ]
  },
  {
   "cell_type": "markdown",
   "id": "226c745a-7b10-44a1-942c-bfb2a664dc9b",
   "metadata": {
    "papermill": {},
    "tags": []
   },
   "source": [
    "**Last update:** 2023-12-01 (Created: 2023-12-01)"
   ]
  },
  {
   "cell_type": "markdown",
   "id": "d067b11d-7a36-4668-beb7-f6edb1fc5ca4",
   "metadata": {
    "papermill": {},
    "tags": []
   },
   "source": [
    "**Description:** This notebook retrieves Spotify catalog information for a single album. It is useful for organizations to quickly access album information from the Spotify API."
   ]
  },
  {
   "cell_type": "markdown",
   "id": "020bc59a-6dfb-4fe2-aad8-49a9e6ef9b7f",
   "metadata": {
    "papermill": {},
    "tags": []
   },
   "source": [
    "**References:**\n- [Spotify Web API Reference - Get an Album](https://developer.spotify.com/documentation/web-api/reference/get-an-album)\n- [Spotify Web API Authorization Guide](https://developer.spotify.com/documentation/general/guides/authorization-guide/)"
   ]
  },
  {
   "cell_type": "markdown",
   "id": "9a70e2e5-a127-4faf-865d-6712ac66f9b2",
   "metadata": {
    "papermill": {},
    "tags": []
   },
   "source": [
    "## Input"
   ]
  },
  {
   "cell_type": "markdown",
   "id": "5ade603e-9598-4cc3-bbe4-e9a3abee1c35",
   "metadata": {
    "papermill": {},
    "tags": []
   },
   "source": [
    "### Import libraries"
   ]
  },
  {
   "cell_type": "code",
   "execution_count": null,
   "id": "16966ab8-0d84-4445-aac1-d6f2466573f6",
   "metadata": {
    "papermill": {},
    "tags": []
   },
   "source": "import requests\nimport json",
   "outputs": []
  },
  {
   "cell_type": "markdown",
   "id": "dc8d0c1f-be7b-49e5-bf24-1b77bebe0baf",
   "metadata": {
    "papermill": {},
    "tags": []
   },
   "source": [
    "### Setup variables\n- **album_id**: The Spotify ID for the album.\n- **access_token**: The access token for the Spotify API. [Instructions to obtain an access token](https://developer.spotify.com/documentation/general/guides/authorization-guide/)."
   ]
  },
  {
   "cell_type": "code",
   "execution_count": null,
   "id": "8dc8373b-8f83-4ef1-b3d8-3c6dfdfc7591",
   "metadata": {
    "papermill": {},
    "tags": []
   },
   "source": "album_id = '3fMbdgg4jU18AjLCKBhRSm'\naccess_token = 'BQD_YjyVXjV_3VUy7XhVV_VUy7XhVV_VUy7XhVV_VUy7XhVV_VUy7XhVV_VUy7XhVV_VUy7XhVV_VUy7XhVV_VUy7XhVV_VUy7XhVV_VUy7XhVV_VUy7XhVV_VUy7XhVV_VUy7XhVV_VUy7XhVV_VUy7XhVV_VUy7XhVV_VUy7XhVV_VUy7XhVV_VUy7XhVV_VUy7XhVV_VUy7XhVV_VUy7XhVV_VUy7XhVV_VUy7XhVV_VUy7XhVV_VUy7XhVV_VUy7XhVV_VUy7XhVV_VUy7XhVV_VUy7XhVV_VUy7XhVV_VUy7XhVV_VUy7XhVV_VUy7XhVV_VUy7XhVV_VUy7XhVV_VUy7XhVV_VUy7XhVV_VUy7XhVV_VUy7XhVV_VUy7XhVV_VUy7XhVV_VUy7XhVV_VUy7XhVV_VUy7XhVV_VUy7XhVV_VUy7XhVV_VUy7XhVV_VUy7XhVV_VUy7XhVV_VUy7XhVV_VUy7XhVV_VUy7XhVV_VUy7XhVV_VUy7XhVV_VUy7XhVV_VUy7XhVV_VUy7XhVV_VUy7XhVV_VUy7XhVV_VUy7XhVV_VUy7XhVV_VUy7XhVV_VUy7XhVV_VUy7XhVV_VUy7XhVV_VUy7XhVV_VUy7XhVV_VUy7XhVV_VUy7XhVV_VUy7XhVV_VUy7XhVV_VUy7XhVV_VUy7XhVV_VUy7XhVV_VUy7XhVV_VUy7XhVV_VUy7XhVV_VUy7XhVV_VUy7XhVV_VUy7XhVV_VUy7XhVV_VUy7XhVV_VUy7XhVV_VUy7XhVV_VUy7XhVV_VUy7XhVV_VUy7XhVV_VUy7XhVV_VUy7XhVV_VUy7XhVV_VUy7XhVV_VUy7XhVV_VUy7XhVV_VUy7XhVV_VUy7XhVV_VUy7XhVV_VUy7XhVV_VUy7XhVV_VUy7XhVV_VUy7XhVV_VUy7XhVV_VUy7XhVV_VUy7XhVV_VUy7XhVV_VUy7XhVV_VUy7XhVV_VUy7XhVV_VUy7XhVV_VUy7XhVV_VUy7XhVV_VUy7XhVV_VUy7XhVV_VUy7XhVV_VUy7XhVV_VUy7XhVV_VUy7XhVV_VUy7XhVV_VUy7XhVV_VUy7XhVV_VUy7XhVV_VUy7XhVV_VUy7XhVV_VUy7XhVV_VUy7XhVV_VUy7XhVV_VUy7XhVV_VUy7XhVV_VUy7XhVV_VUy7XhVV_VUy7XhVV_VUy7XhVV_VUy7XhVV_VUy7XhVV_VUy7XhVV_VUy7XhVV_VUy7XhVV_VUy7XhVV_VUy7XhVV_VUy7XhVV_VUy7XhVV_VUy7XhVV_VUy7XhVV_VUy7XhVV_VUy7XhVV_VUy7XhVV_VUy7XhVV_VUy7XhVV_VUy7XhVV_VUy7XhVV_VUy7XhVV_VUy7XhVV_VUy7XhVV_VUy7XhVV_VUy7XhVV_VUy7XhVV_VUy7XhVV_VUy7XhVV_VUy7XhVV_VUy7XhVV_VUy7XhVV_VUy7XhVV_VUy7XhVV_VUy7XhVV_VUy7XhVV_VUy7XhVV_VUy7XhVV_VUy7XhVV_VUy7XhVV_VUy7XhVV_VUy7XhVV_VUy7XhVV_VUy7XhVV_VUy7XhVV_VUy7XhVV_VUy7XhVV_VUy7XhVV_VUy7XhVV_VUy7XhVV_VUy7XhVV_VUy7XhVV_VUy7XhVV_VUy7XhVV_VUy7XhVV_VUy7XhVV_VUy7XhVV_VUy7XhVV_VUy7XhVV_VUy7XhVV_VUy7XhVV_VUy7XhVV_VUy7XhVV_VUy7XhVV_VUy7X",
   "outputs": []
  }
 ],
 "metadata": {
  "kernelspec": {
   "display_name": "Python 3",
   "language": "python",
   "name": "python3"
  },
  "language_info": {
   "codemirror_mode": {
    "name": "ipython",
    "version": 3
   },
   "file_extension": ".py",
   "mimetype": "text/x-python",
   "name": "python",
   "nbconvert_exporter": "python",
   "pygments_lexer": "ipython3",
   "version": "3.9.6"
  },
  "widgets": {
   "application/vnd.jupyter.widget-state+json": {
    "state": {},
    "version_major": 2,
    "version_minor": 0
   }
  }
 },
 "nbformat": 4,
 "nbformat_minor": 5
}