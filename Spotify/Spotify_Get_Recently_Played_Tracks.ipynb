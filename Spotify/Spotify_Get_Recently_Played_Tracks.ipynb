{
 "cells": [
  {
   "cell_type": "markdown",
   "id": "32592bfa-1cf3-41ba-a3de-e818fcd04a98",
   "metadata": {
    "papermill": {},
    "tags": []
   },
   "source": [
    "<img width=\"10%\" alt=\"Naas\" src=\"https://landen.imgix.net/jtci2pxwjczr/assets/5ice39g4.png?w=160\"/>"
   ]
  },
  {
   "cell_type": "markdown",
   "id": "8753843b-4031-412c-8318-ede7474d982f",
   "metadata": {
    "papermill": {},
    "tags": []
   },
   "source": [
    "# Spotify - Get Recently Played Tracks"
   ]
  },
  {
   "cell_type": "markdown",
   "id": "24ae204c-3131-4a95-ba33-e52b015b7b80",
   "metadata": {
    "papermill": {},
    "tags": []
   },
   "source": [
    "**Tags:** #spotify #api #web-api #recently-played #get #tracks"
   ]
  },
  {
   "cell_type": "markdown",
   "id": "34ba67bd-7d4a-4e47-a399-0f44d627d828",
   "metadata": {
    "papermill": {},
    "tags": []
   },
   "source": [
    "**Author:** [Alton Liew](https://www.linkedin.com/in/alton-liew-749944182/)"
   ]
  },
  {
   "cell_type": "markdown",
   "id": "0d3ad6ac-143b-41f4-a5e0-fda6f692549e",
   "metadata": {
    "papermill": {},
    "tags": []
   },
   "source": [
    "**Last update:** 2023-11-10 (Created: 2023-11-10)"
   ]
  },
  {
   "cell_type": "markdown",
   "id": "9bd83a34-4993-4925-9cf6-3252b043b1bf",
   "metadata": {
    "papermill": {},
    "tags": []
   },
   "source": [
    "**Description:** This notebook will get tracks from the current user's recently played tracks. It is useful for organizations to keep track of the user's music preferences."
   ]
  },
  {
   "cell_type": "markdown",
   "id": "024e529a-c9f2-4957-a81f-f7049aeeda87",
   "metadata": {
    "papermill": {},
    "tags": []
   },
   "source": [
    "**References:**\n",
    "- [Spotify Web API Reference - Get Recently Played Tracks](https://developer.spotify.com/documentation/web-api/reference/get-recently-played)\n",
    "- [Spotify Authorization Guide](https://developer.spotify.com/documentation/general/guides/authorization-guide/)"
   ]
  },
  {
   "cell_type": "markdown",
   "id": "f17acda3-f0ff-42fa-9bcc-1f03ccd4e0ab",
   "metadata": {
    "papermill": {},
    "tags": []
   },
   "source": [
    "## Input"
   ]
  },
  {
   "cell_type": "markdown",
   "id": "f376d209-a7be-4c4d-a6b8-4855563a3a31",
   "metadata": {
    "papermill": {},
    "tags": []
   },
   "source": [
    "### Import libraries"
   ]
  },
  {
   "cell_type": "code",
   "execution_count": null,
   "id": "dd2add74-2e0e-466c-a90c-a24f73cfe525",
   "metadata": {
    "papermill": {},
    "tags": []
   },
   "outputs": [],
   "source": [
    "import requests\n",
    "import json"
   ]
  },
  {
   "cell_type": "markdown",
   "id": "2d20e100-eb10-45ae-9fca-2829e8b35cf8",
   "metadata": {
    "papermill": {},
    "tags": []
   },
   "source": [
    "### Setup variables\n",
    "- **token**: Access token to be used for authorization. [Follow this guide to get the token](https://developer.spotify.com/documentation/general/guides/authorization-guide/)"
   ]
  },
  {
   "cell_type": "code",
   "execution_count": null,
   "id": "4fd005ee-de77-4c57-bec6-2e2ba039a801",
   "metadata": {
    "papermill": {},
    "tags": []
   },
   "outputs": [],
   "source": [
    "token = \"\"\n",
    "limit = 10"
   ]
  },
  {
   "cell_type": "markdown",
   "id": "3abae558-7ddd-476f-9116-f62aa1396dc8",
   "metadata": {},
   "source": [
    "## Model"
   ]
  },
  {
   "cell_type": "markdown",
   "id": "21f1e2a3-35dd-4a95-ae44-6ab5bebaf29d",
   "metadata": {},
   "source": [
    "### Get Recently Played Tracks"
   ]
  },
  {
   "cell_type": "code",
   "execution_count": null,
   "id": "81dfb3ae-61c9-4098-a390-8c2db0fb4950",
   "metadata": {},
   "outputs": [],
   "source": []
  },
  {
   "cell_type": "markdown",
   "id": "399a05c3-9180-49d3-8041-43facb9ca38e",
   "metadata": {},
   "source": [
    "### Output"
   ]
  },
  {
   "cell_type": "markdown",
   "id": "05c038d8-04a0-4b6f-87f6-c9825e05ae88",
   "metadata": {},
   "source": [
    "### Display result"
   ]
  },
  {
   "cell_type": "code",
   "execution_count": null,
   "id": "8913840c-1192-4335-8a11-5e9c1c513915",
   "metadata": {},
   "outputs": [],
   "source": []
  }
 ],
 "metadata": {
  "kernelspec": {
   "display_name": "Python 3",
   "language": "python",
   "name": "python3"
  },
  "language_info": {
   "codemirror_mode": {
    "name": "ipython",
    "version": 3
   },
   "file_extension": ".py",
   "mimetype": "text/x-python",
   "name": "python",
   "nbconvert_exporter": "python",
   "pygments_lexer": "ipython3",
   "version": "3.9.6"
  },
  "widgets": {
   "application/vnd.jupyter.widget-state+json": {
    "state": {},
    "version_major": 2,
    "version_minor": 0
   }
  }
 },
 "nbformat": 4,
 "nbformat_minor": 5
}
