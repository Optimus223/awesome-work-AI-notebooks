{
 "cells": [
  {
   "cell_type": "markdown",
   "id": "32592bfa-1cf3-41ba-a3de-e818fcd04a98",
   "metadata": {
    "papermill": {},
    "tags": []
   },
   "source": [
    "<img width=\"10%\" alt=\"Naas\" src=\"https://landen.imgix.net/jtci2pxwjczr/assets/5ice39g4.png?w=160\"/>"
   ]
  },
  {
   "cell_type": "markdown",
   "id": "8753843b-4031-412c-8318-ede7474d982f",
   "metadata": {
    "papermill": {},
    "tags": []
   },
   "source": [
    "# Spotify - Get Recently Played Tracks"
   ]
  },
  {
   "cell_type": "markdown",
   "id": "24ae204c-3131-4a95-ba33-e52b015b7b80",
   "metadata": {
    "papermill": {},
    "tags": []
   },
   "source": [
    "**Tags:** #spotify #api #web-api #recently-played #get #tracks"
   ]
  },
  {
   "cell_type": "markdown",
   "id": "34ba67bd-7d4a-4e47-a399-0f44d627d828",
   "metadata": {
    "papermill": {},
    "tags": []
   },
   "source": [
    "**Author:** [Alton Liew](https://www.linkedin.com/in/alton-liew-749944182/)"
   ]
  },
  {
   "cell_type": "markdown",
   "id": "0d3ad6ac-143b-41f4-a5e0-fda6f692549e",
   "metadata": {
    "papermill": {},
    "tags": []
   },
   "source": [
    "**Last update:** 2023-11-10 (Created: 2023-11-10)"
   ]
  },
  {
   "cell_type": "markdown",
   "id": "9bd83a34-4993-4925-9cf6-3252b043b1bf",
   "metadata": {
    "papermill": {},
    "tags": []
   },
   "source": [
    "**Description:** This notebook will get tracks from the current user's recently played tracks. It is useful for organizations to keep track of the user's music preferences."
   ]
  },
  {
   "cell_type": "markdown",
   "id": "024e529a-c9f2-4957-a81f-f7049aeeda87",
   "metadata": {
    "papermill": {},
    "tags": []
   },
   "source": [
    "**References:**\n",
    "- [Spotify Web API Reference - Get Recently Played Tracks](https://developer.spotify.com/documentation/web-api/reference/get-recently-played)\n",
    "- [Spotify Authorization Guide](https://developer.spotify.com/documentation/general/guides/authorization-guide/)"
   ]
  },
  {
   "cell_type": "markdown",
   "id": "f17acda3-f0ff-42fa-9bcc-1f03ccd4e0ab",
   "metadata": {
    "papermill": {},
    "tags": []
   },
   "source": [
    "## Input"
   ]
  },
  {
   "cell_type": "markdown",
   "id": "f376d209-a7be-4c4d-a6b8-4855563a3a31",
   "metadata": {
    "papermill": {},
    "tags": []
   },
   "source": [
    "### Import libraries"
   ]
  },
  {
   "cell_type": "code",
   "execution_count": 1,
   "id": "dd2add74-2e0e-466c-a90c-a24f73cfe525",
   "metadata": {
    "execution": {
     "iopub.execute_input": "2023-11-19T18:17:18.502959Z",
     "iopub.status.busy": "2023-11-19T18:17:18.502693Z",
     "iopub.status.idle": "2023-11-19T18:17:20.718907Z",
     "shell.execute_reply": "2023-11-19T18:17:20.718274Z",
     "shell.execute_reply.started": "2023-11-19T18:17:18.502885Z"
    },
    "papermill": {},
    "tags": []
   },
   "outputs": [],
   "source": [
    "try:\n",
    "    import spotipy\n",
    "except:\n",
    "    !pip install spotipy --user\n",
    "    import spotipy\n",
    "from spotipy.oauth2 import SpotifyOAuth\n",
    "import naas"
   ]
  },
  {
   "cell_type": "markdown",
   "id": "2d20e100-eb10-45ae-9fca-2829e8b35cf8",
   "metadata": {
    "papermill": {},
    "tags": []
   },
   "source": [
    "### Setup variables\n",
    "**Mandatory**\n",
    "- `client_id`: retrieve from Spotify Developers website. https://developer.spotify.com/\n",
    "- `client_secret`: Spotify client secret from Spotify Developers website. https://developer.spotify.com/\n",
    "- `redirect_uri`: redirect user to a page for authentication. Example: \"localhost: http://localhost:8888/callback\". Make sure this is the same URI used in the Spotify Developers website."
   ]
  },
  {
   "cell_type": "code",
   "execution_count": 2,
   "id": "4fd005ee-de77-4c57-bec6-2e2ba039a801",
   "metadata": {
    "execution": {
     "iopub.execute_input": "2023-11-19T18:17:20.720745Z",
     "iopub.status.busy": "2023-11-19T18:17:20.720282Z",
     "iopub.status.idle": "2023-11-19T18:17:21.008286Z",
     "shell.execute_reply": "2023-11-19T18:17:21.005527Z",
     "shell.execute_reply.started": "2023-11-19T18:17:20.720712Z"
    },
    "papermill": {},
    "tags": []
   },
   "outputs": [],
   "source": [
    "client_id = naas.secret.get('spotify_client_id')\n",
    "client_secret = naas.secret.get('spotify_client_secret')\n",
    "redirect_uri = naas.secret.get('spotify_redirect_uri')"
   ]
  },
  {
   "cell_type": "markdown",
   "id": "3abae558-7ddd-476f-9116-f62aa1396dc8",
   "metadata": {},
   "source": [
    "## Model"
   ]
  },
  {
   "cell_type": "markdown",
   "id": "21f1e2a3-35dd-4a95-ae44-6ab5bebaf29d",
   "metadata": {},
   "source": [
    "### Get Recently Played Tracks"
   ]
  },
  {
   "cell_type": "code",
   "execution_count": 3,
   "id": "81dfb3ae-61c9-4098-a390-8c2db0fb4950",
   "metadata": {
    "execution": {
     "iopub.execute_input": "2023-11-19T18:17:21.010482Z",
     "iopub.status.busy": "2023-11-19T18:17:21.009954Z",
     "iopub.status.idle": "2023-11-19T18:17:21.015733Z",
     "shell.execute_reply": "2023-11-19T18:17:21.014972Z",
     "shell.execute_reply.started": "2023-11-19T18:17:21.010449Z"
    },
    "tags": []
   },
   "outputs": [],
   "source": [
    "def get_recently_played_tracks(client_id, client_secret, redirect_uri):\n",
    "    # Set up the Spotify OAuth manager\n",
    "    sp_oauth = SpotifyOAuth(client_id=client_id, client_secret=client_secret, redirect_uri=redirect_uri, scope='user-read-recently-played')\n",
    "\n",
    "    # Get the authorization token\n",
    "    token_info = sp_oauth.get_cached_token()\n",
    "\n",
    "    # Use the obtained token to authenticate with the Spotify API\n",
    "    sp = spotipy.Spotify(auth=token_info['access_token'])\n",
    "\n",
    "    # Get the current user's recently played tracks\n",
    "    recently_played = sp.current_user_recently_played()\n",
    "\n",
    "    return recently_played"
   ]
  },
  {
   "cell_type": "markdown",
   "id": "399a05c3-9180-49d3-8041-43facb9ca38e",
   "metadata": {},
   "source": [
    "## Output"
   ]
  },
  {
   "cell_type": "markdown",
   "id": "05c038d8-04a0-4b6f-87f6-c9825e05ae88",
   "metadata": {},
   "source": [
    "### Display result"
   ]
  },
  {
   "cell_type": "code",
   "execution_count": 4,
   "id": "8913840c-1192-4335-8a11-5e9c1c513915",
   "metadata": {
    "execution": {
     "iopub.execute_input": "2023-11-19T18:17:21.017731Z",
     "iopub.status.busy": "2023-11-19T18:17:21.017182Z",
     "iopub.status.idle": "2023-11-19T18:17:21.475869Z",
     "shell.execute_reply": "2023-11-19T18:17:21.475228Z",
     "shell.execute_reply.started": "2023-11-19T18:17:21.017701Z"
    },
    "tags": []
   },
   "outputs": [
    {
     "name": "stdout",
     "output_type": "stream",
     "text": [
      "1: dothatshit!, Artist: Playboi Carti, Album: Playboi Carti\n",
      "2: Choppa Won't Miss (feat. Young Thug), Artist: Playboi Carti, Album: Die Lit\n",
      "3: Foreign, Artist: Playboi Carti, Album: Die Lit\n",
      "4: Beno!, Artist: Playboi Carti, Album: Whole Lotta Red\n",
      "5: Meh, Artist: Playboi Carti, Album: Whole Lotta Red\n",
      "6: Poke It Out (with Nicki Minaj), Artist: Playboi Carti, Album: Die Lit\n",
      "7: Over, Artist: Playboi Carti, Album: Whole Lotta Red\n",
      "8: Yah Mean, Artist: Playboi Carti, Album: Playboi Carti\n",
      "9: FlatBed Freestyle, Artist: Playboi Carti, Album: Die Lit\n",
      "10: Die4Guy, Artist: Playboi Carti, Album: Whole Lotta Red\n",
      "11: Let It Go, Artist: Playboi Carti, Album: Playboi Carti\n",
      "12: Go2DaMoon (feat. Kanye West), Artist: Playboi Carti, Album: Whole Lotta Red\n",
      "13: Teen X (feat. Future), Artist: Playboi Carti, Album: Whole Lotta Red\n",
      "14: Sky, Artist: Playboi Carti, Album: Whole Lotta Red\n",
      "15: Fell In Luv (feat. Bryson Tiller), Artist: Playboi Carti, Album: Die Lit\n",
      "16: Vamp Anthem, Artist: Playboi Carti, Album: Whole Lotta Red\n",
      "17: Miss The Rage, Artist: Trippie Redd, Album: Trip At Knight\n",
      "18: Rockstar Made, Artist: Playboi Carti, Album: Whole Lotta Red\n",
      "19: New Tank, Artist: Playboi Carti, Album: Whole Lotta Red\n",
      "20: Mileage (feat. Chief Keef), Artist: Playboi Carti, Album: Die Lit\n",
      "21: @ MEH, Artist: Playboi Carti, Album: @ MEH\n",
      "22: R.I.P. Fredo (feat. Young Nudy) - Notice Me, Artist: Playboi Carti, Album: Die Lit\n",
      "23: ILoveUIHateU, Artist: Playboi Carti, Album: Whole Lotta Red\n",
      "24: wokeuplikethis*, Artist: Playboi Carti, Album: Playboi Carti\n",
      "25: Shoota (feat. Lil Uzi Vert), Artist: Playboi Carti, Album: Die Lit\n",
      "26: Flex, Artist: Playboi Carti, Album: Playboi Carti\n",
      "27: New Choppa, Artist: Playboi Carti, Album: Playboi Carti\n",
      "28: Lean 4 Real (feat. Skepta), Artist: Playboi Carti, Album: Die Lit\n",
      "29: R.I.P., Artist: Playboi Carti, Album: Die Lit\n",
      "30: Location, Artist: Playboi Carti, Album: Playboi Carti\n",
      "31: Wildin', Artist: Berhana, Album: Wildin'\n",
      "32: Grey Luh, Artist: Berhana, Album: Berhana\n",
      "33: Streetcar, Artist: Daniel Caesar, Album: Pilgrim's Paradise\n",
      "34: Take Me Away (feat. Syd), Artist: Daniel Caesar, Album: Freudian\n",
      "35: Donchano, Artist: Steve Lacy, Album: The Lo-Fis\n",
      "36: Ghost in the Machine (feat. Phoebe Bridgers), Artist: SZA, Album: SOS\n",
      "37: Easy v2, Artist: Baird, Album: Easy v2\n",
      "38: SANTA MONICA, Artist: Aries, Album: WELCOME HOME\n",
      "39: The Need to Know (feat. SZA), Artist: Wale, Album: The Album About Nothing\n",
      "40: Blessed, Artist: Daniel Caesar, Album: Freudian\n",
      "41: Legends, Artist: Juice WRLD, Album: Legends\n",
      "42: Sick, Artist: Dominic Fike, Album: Sunburn\n",
      "43: INDIGO GIRL, Artist: A.CHAL, Album: EXOTIGAZ\n",
      "44: THE zone~, Artist: Lil Yachty, Album: Let’s Start Here.\n",
      "45: Life is Like a Dice Game - Spotify Singles, Artist: Nas, Album: Life is Like a Dice Game - Spotify Singles\n",
      "46: SUPERPOSITION, Artist: Daniel Caesar, Album: CASE STUDY 01\n",
      "47: GEEKIN, Artist: Ski Mask The Slump God, Album: BEWARE THE BOOK OF ELI\n",
      "48: Ring Ring (with Rvssian feat. Clever), Artist: Juice WRLD, Album: Death Race For Love (Bonus Track Version)\n",
      "49: Cherry Hill, Artist: Russ, Album: There's Really A Wolf\n",
      "50: Matt Hardy 999, Artist: Trippie Redd, Album: Trip At Knight\n"
     ]
    }
   ],
   "source": [
    "index = 1\n",
    "recently_played = get_recently_played_tracks(client_id, client_secret, redirect_uri)\n",
    "for item in recently_played['items']:\n",
    "    track = item['track']\n",
    "    print(f\"{index}: {track['name']}, Artist: {track['artists'][0]['name']}, Album: {track['album']['name']}\")\n",
    "    index+=1"
   ]
  }
 ],
 "metadata": {
  "kernelspec": {
   "display_name": "Python 3",
   "language": "python",
   "name": "python3"
  },
  "language_info": {
   "codemirror_mode": {
    "name": "ipython",
    "version": 3
   },
   "file_extension": ".py",
   "mimetype": "text/x-python",
   "name": "python",
   "nbconvert_exporter": "python",
   "pygments_lexer": "ipython3",
   "version": "3.9.6"
  },
  "widgets": {
   "application/vnd.jupyter.widget-state+json": {
    "state": {},
    "version_major": 2,
    "version_minor": 0
   }
  }
 },
 "nbformat": 4,
 "nbformat_minor": 5
}
