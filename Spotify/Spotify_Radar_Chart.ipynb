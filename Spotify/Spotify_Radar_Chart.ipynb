{
 "cells": [
  {
   "cell_type": "markdown",
   "id": "latin-packing",
   "metadata": {
    "execution": {
     "iopub.execute_input": "2021-02-23T14:22:16.610471Z",
     "iopub.status.busy": "2021-02-23T14:22:16.610129Z",
     "iopub.status.idle": "2021-02-23T14:22:16.627784Z",
     "shell.execute_reply": "2021-02-23T14:22:16.626866Z",
     "shell.execute_reply.started": "2021-02-23T14:22:16.610384Z"
    },
    "papermill": {},
    "tags": []
   },
   "source": [
    "<img width=\"10%\" alt=\"Naas\" src=\"https://landen.imgix.net/jtci2pxwjczr/assets/5ice39g4.png?w=160\"/>"
   ]
  },
  {
   "cell_type": "markdown",
   "id": "compressed-wilson",
   "metadata": {
    "papermill": {},
    "tags": []
   },
   "source": [
    "# Spotify - Using Spotify API & Python to create a Radar Chart of your music taste\n",
    "<a href=\"https://app.naas.ai/user-redirect/naas/downloader?url=https://raw.githubusercontent.com/jupyter-naas/awesome-notebooks/master/template.ipynb\" target=\"_parent\">\n",
    "<img src=\"https://img.shields.io/badge/-Open%20in%20Naas-success?labelColor=000000&logo=data:image/svg+xml;base64,PD94bWwgdmVyc2lvbj0iMS4wIiBlbmNvZGluZz0iVVRGLTgiPz4KPHN2ZyB3aWR0aD0iMTAyNHB4IiBoZWlnaHQ9IjEwMjRweCIgdmlld0JveD0iMCAwIDEwMjQgMTAyNCIgeG1sbnM9Imh0dHA6Ly93d3cudzMub3JnLzIwMDAvc3ZnIiB4bWxuczp4bGluaz0iaHR0cDovL3d3dy53My5vcmcvMTk5OS94bGluayIgdmVyc2lvbj0iMS4xIj4KIDwhLS0gR2VuZXJhdGVkIGJ5IFBpeGVsbWF0b3IgUHJvIDIuMC41IC0tPgogPGRlZnM+CiAgPHRleHQgaWQ9InN0cmluZyIgdHJhbnNmb3JtPSJtYXRyaXgoMS4wIDAuMCAwLjAgMS4wIDIyOC4wIDU0LjUpIiBmb250LWZhbWlseT0iQ29tZm9ydGFhLVJlZ3VsYXIsIENvbWZvcnRhYSIgZm9udC1zaXplPSI4MDAiIHRleHQtZGVjb3JhdGlvbj0ibm9uZSIgZmlsbD0iI2ZmZmZmZiIgeD0iMS4xOTk5OTk5OTk5OTk5ODg2IiB5PSI3MDUuMCI+bjwvdGV4dD4KIDwvZGVmcz4KIDx1c2UgaWQ9Im4iIHhsaW5rOmhyZWY9IiNzdHJpbmciLz4KPC9zdmc+Cg==\"/>\n",
    "</a>"
   ]
  },
  {
   "cell_type": "markdown",
   "id": "religious-programmer",
   "metadata": {},
   "source": [
    "#spotify #python #spotipy"
   ]
  },
  {
   "cell_type": "markdown",
   "id": "distinguished-truth",
   "metadata": {
    "papermill": {},
    "tags": []
   },
   "source": [
    "## Input"
   ]
  },
  {
   "cell_type": "markdown",
   "id": "numeric-mediterranean",
   "metadata": {},
   "source": [
    "### Import libraries"
   ]
  },
  {
   "cell_type": "code",
   "execution_count": 4,
   "id": "c9b0daea-654b-4e3f-a26d-21987b6a94e4",
   "metadata": {
    "execution": {
     "iopub.execute_input": "2021-09-28T08:54:03.041323Z",
     "iopub.status.busy": "2021-09-28T08:54:03.041026Z",
     "iopub.status.idle": "2021-09-28T08:54:03.043979Z",
     "shell.execute_reply": "2021-09-28T08:54:03.043360Z",
     "shell.execute_reply.started": "2021-09-28T08:54:03.041297Z"
    },
    "tags": []
   },
   "outputs": [],
   "source": [
    "#pip install spotify\n",
    "#set up Spotify API at https://developer.spotify.com to get clientID and clientSecret"
   ]
  },
  {
   "cell_type": "code",
   "execution_count": 2,
   "id": "potential-surfing",
   "metadata": {
    "execution": {
     "iopub.execute_input": "2021-09-28T08:53:27.702952Z",
     "iopub.status.busy": "2021-09-28T08:53:27.702649Z",
     "iopub.status.idle": "2021-09-28T08:53:27.761917Z",
     "shell.execute_reply": "2021-09-28T08:53:27.760541Z",
     "shell.execute_reply.started": "2021-09-28T08:53:27.702921Z"
    }
   },
   "outputs": [
    {
     "ename": "ModuleNotFoundError",
     "evalue": "No module named 'spotipy'",
     "output_type": "error",
     "traceback": [
      "\u001b[0;31m---------------------------------------------------------------------------\u001b[0m",
      "\u001b[0;31mModuleNotFoundError\u001b[0m                       Traceback (most recent call last)",
      "\u001b[0;32m<ipython-input-2-8909f28aafc1>\u001b[0m in \u001b[0;36m<module>\u001b[0;34m\u001b[0m\n\u001b[1;32m      1\u001b[0m \u001b[0;32mimport\u001b[0m \u001b[0mjson\u001b[0m\u001b[0;34m\u001b[0m\u001b[0;34m\u001b[0m\u001b[0m\n\u001b[0;32m----> 2\u001b[0;31m \u001b[0;32mimport\u001b[0m \u001b[0mspotipy\u001b[0m\u001b[0;34m\u001b[0m\u001b[0;34m\u001b[0m\u001b[0m\n\u001b[0m\u001b[1;32m      3\u001b[0m \u001b[0;32mimport\u001b[0m \u001b[0mpandas\u001b[0m \u001b[0;32mas\u001b[0m \u001b[0mpd\u001b[0m\u001b[0;34m\u001b[0m\u001b[0;34m\u001b[0m\u001b[0m\n\u001b[1;32m      4\u001b[0m \u001b[0;32mfrom\u001b[0m \u001b[0mspotipy\u001b[0m\u001b[0;34m.\u001b[0m\u001b[0moauth2\u001b[0m \u001b[0;32mimport\u001b[0m \u001b[0mSpotifyClientCredentials\u001b[0m\u001b[0;34m\u001b[0m\u001b[0;34m\u001b[0m\u001b[0m\n\u001b[1;32m      5\u001b[0m \u001b[0;32mfrom\u001b[0m \u001b[0msklearn\u001b[0m\u001b[0;34m.\u001b[0m\u001b[0mpreprocessing\u001b[0m \u001b[0;32mimport\u001b[0m \u001b[0mMinMaxScaler\u001b[0m\u001b[0;34m\u001b[0m\u001b[0;34m\u001b[0m\u001b[0m\n",
      "\u001b[0;31mModuleNotFoundError\u001b[0m: No module named 'spotipy'"
     ]
    }
   ],
   "source": [
    "import json\n",
    "import spotipy\n",
    "import pandas as pd\n",
    "from spotipy.oauth2 import SpotifyClientCredentials\n",
    "from sklearn.preprocessing import MinMaxScaler\n",
    "import matplotlib.pyplot as plt\n",
    "from math import pi"
   ]
  },
  {
   "cell_type": "markdown",
   "id": "aggressive-trustee",
   "metadata": {},
   "source": [
    "### Variables"
   ]
  },
  {
   "cell_type": "code",
   "execution_count": null,
   "id": "continuous-melbourne",
   "metadata": {},
   "outputs": [],
   "source": [
    "client_id = ''\n",
    "client_secret = ''\n",
    "\n",
    "client_credentials_manager = SpotifyClientCredentials(client_id, client_secret)\n",
    "sp = spotipy.Spotify(client_credentials_manager=client_credentials_manager)\n",
    "\n",
    "#Retrieve playlist_id by getting the Spotify URI of any playlist\n",
    "playlist_id ='\n",
    "results = sp.playlist(playlist_id)\n",
    "\n",
    "min_max_scaler = MinMaxScaler()"
   ]
  },
  {
   "cell_type": "markdown",
   "id": "registered-showcase",
   "metadata": {},
   "source": [
    "## Model"
   ]
  },
  {
   "cell_type": "markdown",
   "id": "tested-astrology",
   "metadata": {},
   "source": [
    "### Function"
   ]
  },
  {
   "cell_type": "code",
   "execution_count": null,
   "id": "crude-louisville",
   "metadata": {
    "execution": {
     "iopub.status.busy": "2021-02-23T14:28:14.665219Z",
     "iopub.status.idle": "2021-02-23T14:28:14.668943Z",
     "shell.execute_reply": "2021-02-23T14:28:14.666989Z"
    },
    "papermill": {},
    "tags": []
   },
   "outputs": [],
   "source": [
    "#Function to Convert JSON to Dataframe\n",
    "# create a list of song ids\n",
    "ids=[]\n",
    "\n",
    "for item in results['tracks']['items']:\n",
    "        track = item['track']['id']\n",
    "        ids.append(track)\n",
    "        \n",
    "song_meta={'id':[],'album':[], 'name':[], \n",
    "           'artist':[],'explicit':[],'popularity':[]}\n",
    "\n",
    "for song_id in ids:\n",
    "    # get song's meta data\n",
    "    meta = sp.track(song_id)\n",
    "    \n",
    "    # song id\n",
    "    song_meta['id'].append(song_id)\n",
    "\n",
    "    # album name\n",
    "    album=meta['album']['name']\n",
    "    song_meta['album']+=[album]\n",
    "\n",
    "    # song name\n",
    "    song=meta['name']\n",
    "    song_meta['name']+=[song]\n",
    "    \n",
    "    # artists name\n",
    "    s = ', '\n",
    "    artist=s.join([singer_name['name'] for singer_name in meta['artists']])\n",
    "    song_meta['artist']+=[artist]\n",
    "    \n",
    "    # explicit: lyrics could be considered offensive or unsuitable for children\n",
    "    explicit=meta['explicit']\n",
    "    song_meta['explicit'].append(explicit)\n",
    "    \n",
    "    # song popularity\n",
    "    popularity=meta['popularity']\n",
    "    song_meta['popularity'].append(popularity)\n",
    "\n",
    "song_meta_df=pd.DataFrame.from_dict(song_meta)\n",
    "\n",
    "# check the song feature\n",
    "features = sp.audio_features(song_meta['id'])\n",
    "# change dictionary to dataframe\n",
    "features_df=pd.DataFrame.from_dict(features)\n",
    "\n",
    "# convert milliseconds to mins\n",
    "# duration_ms: The duration of the track in milliseconds.\n",
    "# 1 minute = 60 seconds = 60 × 1000 milliseconds = 60,000 ms\n",
    "features_df['duration_ms']=features_df['duration_ms']/60000\n",
    "\n",
    "# combine two dataframe\n",
    "final_df=song_meta_df.merge(features_df)"
   ]
  },
  {
   "cell_type": "code",
   "execution_count": null,
   "id": "5de4e63e-43d8-4e22-b6fa-0b4df6a3832e",
   "metadata": {},
   "outputs": [],
   "source": [
    "#Function for Data Pre-Processing\n",
    "music_features=features_df[['danceability','energy','loudness','speechiness',\n",
    "                            'acousticness','instrumentalness','liveness','valence',\n",
    "                            'tempo','duration_ms']]\n",
    "\n",
    "music_features.describe()\n",
    "#Transforming Data so that all values are in the range 0 to 1\n",
    "music_features.loc[:]=min_max_scaler.fit_transform(music_features.loc[:])"
   ]
  },
  {
   "cell_type": "markdown",
   "id": "lonely-pacific",
   "metadata": {
    "execution": {
     "iopub.execute_input": "2021-07-02T23:32:10.789097Z",
     "iopub.status.busy": "2021-07-02T23:32:10.788829Z",
     "iopub.status.idle": "2021-07-02T23:32:10.796900Z",
     "shell.execute_reply": "2021-07-02T23:32:10.796358Z",
     "shell.execute_reply.started": "2021-07-02T23:32:10.789033Z"
    }
   },
   "source": [
    "## Output"
   ]
  },
  {
   "cell_type": "markdown",
   "id": "linear-address",
   "metadata": {},
   "source": [
    "### Display result"
   ]
  },
  {
   "cell_type": "code",
   "execution_count": null,
   "id": "offensive-poetry",
   "metadata": {},
   "outputs": [],
   "source": [
    "#Radar Chart with several heads from DataFrame\n",
    "#Creating Radar Chart\n",
    "fig = plt.figure(figsize=(10,10))\n",
    "\n",
    "categories=list(music_features.columns)\n",
    "\n",
    "N=len(categories)\n",
    "\n",
    "value = list(music_features.mean())\n",
    "\n",
    "value+=value[:1]\n",
    "angles = [n/float(N)*2*pi for n in range(N)]\n",
    "angles+= angles[:1]\n",
    "\n",
    "\n",
    "plt.polar(angles,value,color='red')\n",
    "plt.fill(angles,value,alpha=0.7,color='purple')\n",
    "\n",
    "plt.title('Workout Playlist Audio Features', size=20, y=1.05)\n",
    "\n",
    "plt.xticks(angles[:-1],categories,size=15, color='purple')\n",
    "plt.yticks(color='black', size=15)\n",
    "plt.show()"
   ]
  }
 ],
 "metadata": {
  "kernelspec": {
   "display_name": "Python 3",
   "language": "python",
   "name": "python3"
  },
  "language_info": {
   "codemirror_mode": {
    "name": "ipython",
    "version": 3
   },
   "file_extension": ".py",
   "mimetype": "text/x-python",
   "name": "python",
   "nbconvert_exporter": "python",
   "pygments_lexer": "ipython3",
   "version": "3.8.8"
  },
  "papermill": {
   "default_parameters": {},
   "environment_variables": {},
   "parameters": {},
   "version": "2.3.3"
  },
  "widgets": {
   "application/vnd.jupyter.widget-state+json": {
    "state": {},
    "version_major": 2,
    "version_minor": 0
   }
  }
 },
 "nbformat": 4,
 "nbformat_minor": 5
}
