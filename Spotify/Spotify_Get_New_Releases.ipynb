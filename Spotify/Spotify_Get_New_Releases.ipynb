{
 "cells": [
  {
   "cell_type": "markdown",
   "id": "b2ac8b90-3854-4d41-9bce-f451c6a363d1",
   "metadata": {
    "papermill": {},
    "tags": []
   },
   "source": [
    "<img width=\"10%\" alt=\"Naas\" src=\"https://landen.imgix.net/jtci2pxwjczr/assets/5ice39g4.png?w=160\"/>"
   ]
  },
  {
   "cell_type": "markdown",
   "id": "f000c58a-0f9d-4f43-a2bc-6476f08929f3",
   "metadata": {
    "papermill": {},
    "tags": []
   },
   "source": [
    "# Spotify - Get New Releases"
   ]
  },
  {
   "cell_type": "markdown",
   "id": "e1c1176b-a310-4632-a1bb-0683ad474d65",
   "metadata": {
    "papermill": {},
    "tags": []
   },
   "source": [
    "**Tags:** #spotify #web-api #get-new-releases #music #album #browse"
   ]
  },
  {
   "cell_type": "markdown",
   "id": "9968953e-3be2-456b-8d4b-ec89151fd8ce",
   "metadata": {
    "papermill": {},
    "tags": []
   },
   "source": [
    "**Author:** [Alton Liew](https://www.linkedin.com/in/alton-liew-749944182/)"
   ]
  },
  {
   "cell_type": "markdown",
   "id": "38723d5b-7b6c-43de-8245-4a0f2af31051",
   "metadata": {
    "papermill": {},
    "tags": []
   },
   "source": [
    "**Last update:** 2023-12-01 (Created: 2023-12-01)"
   ]
  },
  {
   "cell_type": "markdown",
   "id": "4b9b1808-906d-4d0e-880a-d347cfa5cb8c",
   "metadata": {
    "papermill": {},
    "tags": []
   },
   "source": [
    "**Description:** This notebook will get a list of new album releases featured in Spotify (shown, for example, on a Spotify player\u2019s \u201cBrowse\u201d tab). It is useful for organizations to keep track of new releases and to create playlists."
   ]
  },
  {
   "cell_type": "markdown",
   "id": "df920020-173f-4177-8a1c-3c0d97dc923a",
   "metadata": {
    "papermill": {},
    "tags": []
   },
   "source": [
    "**References:**\n- [Spotify Web API Reference - Get New Releases](https://developer.spotify.com/documentation/web-api/reference/get-new-releases)\n- [Spotify Web API - Authorization Guide](https://developer.spotify.com/documentation/general/guides/authorization-guide/)"
   ]
  },
  {
   "cell_type": "markdown",
   "id": "b807597c-2168-4ccb-ab0d-5e94ae1169af",
   "metadata": {
    "papermill": {},
    "tags": []
   },
   "source": [
    "## Input"
   ]
  },
  {
   "cell_type": "markdown",
   "id": "e43c73a0-6da0-4c29-a8a1-c2083b6cf662",
   "metadata": {
    "papermill": {},
    "tags": []
   },
   "source": [
    "### Import libraries"
   ]
  },
  {
   "cell_type": "code",
   "execution_count": null,
   "id": "a06cb0c6-2104-481b-8675-9e1fc9454cf6",
   "metadata": {
    "papermill": {},
    "tags": []
   },
   "source": "import requests\nimport json",
   "outputs": []
  },
  {
   "cell_type": "markdown",
   "id": "60696794-254b-4673-85dd-75c5ab0d542c",
   "metadata": {
    "papermill": {},
    "tags": []
   },
   "source": [
    "### Setup variables\n- **`client_id`**: Client ID of the Spotify app. [Get Client ID](https://developer.spotify.com/documentation/general/guides/authorization-guide/)\n- **`client_secret`**: Client Secret of the Spotify app. [Get Client Secret](https://developer.spotify.com/documentation/general/guides/authorization-guide/)\n- **`country`**: [ISO 3166-1 alpha-2 country code](https://en.wikipedia.org/wiki/ISO_3166-1_alpha-2)"
   ]
  },
  {
   "cell_type": "code",
   "execution_count": null,
   "id": "c33fd41a-9d2a-4fb8-8cb2-764c51ac5e9c",
   "metadata": {
    "papermill": {},
    "tags": []
   },
   "source": "client_id = \"<your_client_id>\"\nclient_secret = \"<your_client_secret>\"\ncountry = \"<your_country_code>\"",
   "outputs": []
  },
  {
   "cell_type": "markdown",
   "id": "b6dd8293-8a0d-451f-8fe2-952caf104b6a",
   "metadata": {
    "papermill": {},
    "tags": []
   },
   "source": [
    "## Model"
   ]
  },
  {
   "cell_type": "markdown",
   "id": "ea0913d1-d83f-4e65-b20f-de7eeebbbab7",
   "metadata": {
    "papermill": {},
    "tags": []
   },
   "source": [
    "### Get new releases"
   ]
  },
  {
   "cell_type": "markdown",
   "id": "f0cc8f43-8dae-4691-917a-3e5201ad1006",
   "metadata": {
    "papermill": {},
    "tags": []
   },
   "source": [
    "This function will get a list of new album releases featured in Spotify (shown, for example, on a Spotify player\u2019s \u201cBrowse\u201d tab)."
   ]
  },
  {
   "cell_type": "code",
   "execution_count": null,
   "id": "7a9e89f0-12a1-4827-b836-90553f4f2e60",
   "metadata": {
    "papermill": {},
    "tags": []
   },
   "source": "def get_new_releases(client_id, client_secret, country):\n    # Get access token\n    url = \"https://accounts.spotify.com/api/token\"\n    payload = {\"grant_type\": \"client_credentials\"}\n    auth = (client_id, client_secret)\n    response = requests.post(url, data=payload, auth=auth)\n    access_token = response.json()[\"access_token\"]\n\n    # Get new releases\n    url = \"https://api.spotify.com/v1/browse/new-releases\"\n    params = {\"country\": country}\n    headers = {\"Authorization\": \"Bearer \" + access_token}\n    response = requests.get(url, params=params, headers=headers)\n    new_releases = response.json()\n\n    return new_releases",
   "outputs": []
  },
  {
   "cell_type": "markdown",
   "id": "b6e1d681-0107-4575-9772-1e81848355b0",
   "metadata": {
    "papermill": {},
    "tags": []
   },
   "source": [
    "## Output"
   ]
  },
  {
   "cell_type": "markdown",
   "id": "b0f6cddc-1e65-459b-91fe-2e8f7ac094ce",
   "metadata": {
    "papermill": {},
    "tags": []
   },
   "source": [
    "### Display result"
   ]
  },
  {
   "cell_type": "code",
   "execution_count": null,
   "id": "cc874d6b-5587-4aba-8ece-51986f0a389b",
   "metadata": {
    "papermill": {},
    "tags": []
   },
   "source": "new_releases = get_new_releases(client_id, client_secret, country)\nprint(json.dumps(new_releases, indent=4))",
   "outputs": []
  },
  {
   "cell_type": "markdown",
   "id": "4f354354-318b-4947-b3a6-f0f0665355e8",
   "metadata": {
    "papermill": {},
    "tags": []
   },
   "source": [
    " "
   ]
  }
 ],
 "metadata": {
  "kernelspec": {
   "display_name": "Python 3",
   "language": "python",
   "name": "python3"
  },
  "language_info": {
   "codemirror_mode": {
    "name": "ipython",
    "version": 3
   },
   "file_extension": ".py",
   "mimetype": "text/x-python",
   "name": "python",
   "nbconvert_exporter": "python",
   "pygments_lexer": "ipython3",
   "version": "3.9.6"
  },
  "widgets": {
   "application/vnd.jupyter.widget-state+json": {
    "state": {},
    "version_major": 2,
    "version_minor": 0
   }
  }
 },
 "nbformat": 4,
 "nbformat_minor": 5
}