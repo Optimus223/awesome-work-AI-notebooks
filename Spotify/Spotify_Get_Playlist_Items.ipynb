{
 "cells": [
  {
   "cell_type": "markdown",
   "id": "82b11125-bd4c-4adc-b108-35892f0900bb",
   "metadata": {
    "papermill": {},
    "tags": []
   },
   "source": [
    "<img width=\"8%\" alt=\"Spotify.png\" src=\"https://raw.githubusercontent.com/jupyter-naas/awesome-notebooks/master/.github/assets/logos/Spotify.png\" style=\"border-radius: 15%\">"
   ]
  },
  {
   "cell_type": "markdown",
   "id": "d243d64b-ba70-4bd1-b2c4-01a1847cdb34",
   "metadata": {
    "papermill": {},
    "tags": []
   },
   "source": [
    "# Spotify - Get Playlist Items"
   ]
  },
  {
   "cell_type": "markdown",
   "id": "6592f619-eb81-4534-800f-3f249d710ad9",
   "metadata": {
    "papermill": {},
    "tags": []
   },
   "source": [
    "**Tags:** #spotify #playlist #items #get #api #web"
   ]
  },
  {
   "cell_type": "markdown",
   "id": "bef30de1-ed87-49e0-89ab-d020a0b8fe06",
   "metadata": {
    "papermill": {},
    "tags": []
   },
   "source": [
    "**Author:** [Alton Liew](https://www.linkedin.com/in/alton-liew/)"
   ]
  },
  {
   "cell_type": "markdown",
   "id": "f39cd3aa-3c17-4fc5-a510-96441f152162",
   "metadata": {
    "papermill": {},
    "tags": []
   },
   "source": [
    "**Last update:** 2023-12-15 (Created: 2023-12-15)"
   ]
  },
  {
   "cell_type": "markdown",
   "id": "b3f01441-96a6-4636-8cb4-e361b7bee00c",
   "metadata": {
    "papermill": {},
    "tags": []
   },
   "source": [
    "**Description:** This notebook will get full details of the items of a playlist owned by a Spotify user."
   ]
  },
  {
   "cell_type": "markdown",
   "id": "1d9f022f-ab1e-456c-b88f-574f4966e6fb",
   "metadata": {
    "papermill": {},
    "tags": []
   },
   "source": [
    "**References:**\n",
    "- [Spotify Web API Reference - Get Playlists Tracks](https://developer.spotify.com/documentation/web-api/reference/get-playlists-tracks)\n",
    "- [Spotify Web API Reference - Get a Playlist](https://developer.spotify.com/documentation/web-api/reference/playlists/get-playlist/)"
   ]
  },
  {
   "cell_type": "markdown",
   "id": "a2267f0a-96d8-4191-b457-178046f43562",
   "metadata": {
    "papermill": {},
    "tags": []
   },
   "source": [
    "## Input"
   ]
  },
  {
   "cell_type": "markdown",
   "id": "cf1a9813-e28d-48b0-a78f-ab09fb27eda8",
   "metadata": {
    "papermill": {},
    "tags": []
   },
   "source": [
    "### Import libraries"
   ]
  },
  {
   "cell_type": "code",
   "execution_count": 1,
   "id": "ed229d43-68ce-48e8-81c7-0d7918b0217b",
   "metadata": {
    "execution": {
     "iopub.execute_input": "2023-12-24T06:15:56.770965Z",
     "iopub.status.busy": "2023-12-24T06:15:56.770423Z",
     "iopub.status.idle": "2023-12-24T06:16:00.571746Z",
     "shell.execute_reply": "2023-12-24T06:16:00.570916Z",
     "shell.execute_reply.started": "2023-12-24T06:15:56.770891Z"
    },
    "papermill": {},
    "tags": []
   },
   "outputs": [],
   "source": [
    "try:\n",
    "    import spotipy\n",
    "except:\n",
    "    !pip install spotipy --user\n",
    "    import spotipy\n",
    "from spotipy.oauth2 import SpotifyClientCredentials\n",
    "import naas\n",
    "from IPython.display import Image, display"
   ]
  },
  {
   "cell_type": "markdown",
   "id": "cdc2072f-fa71-4dc7-ae83-30cc0e7ed297",
   "metadata": {
    "papermill": {},
    "tags": []
   },
   "source": [
    "### Setup variables\n",
    "- **user_id**: Spotify user ID\n",
    "- **playlist_id**: Spotify playlist ID"
   ]
  },
  {
   "cell_type": "code",
   "execution_count": 2,
   "id": "cbd57c53-7410-4910-b08b-fc9db017aa51",
   "metadata": {
    "execution": {
     "iopub.execute_input": "2023-12-24T06:16:00.573692Z",
     "iopub.status.busy": "2023-12-24T06:16:00.573270Z",
     "iopub.status.idle": "2023-12-24T06:16:00.600475Z",
     "shell.execute_reply": "2023-12-24T06:16:00.579889Z",
     "shell.execute_reply.started": "2023-12-24T06:16:00.573661Z"
    },
    "papermill": {},
    "tags": []
   },
   "outputs": [],
   "source": [
    "client_id = \"YOUR_SPOTIFY_CLIENT_ID\"\n",
    "client_secret = \"YOUR_SPOTIFY_CLIENT_SECRET\"\n",
    "playlist_id = 'PLAYLIST_ID'"
   ]
  },
  {
   "cell_type": "markdown",
   "id": "4482a8de-73aa-4d1c-863c-2cb80ddf0a6a",
   "metadata": {
    "papermill": {},
    "tags": []
   },
   "source": [
    "## Model"
   ]
  },
  {
   "cell_type": "markdown",
   "id": "fc75ecae-e0fd-4fb5-b953-0cd52c0f328b",
   "metadata": {
    "papermill": {},
    "tags": []
   },
   "source": [
    "### Get playlist items"
   ]
  },
  {
   "cell_type": "markdown",
   "id": "8886f117-336c-4883-8992-f3172871fda7",
   "metadata": {
    "papermill": {},
    "tags": []
   },
   "source": [
    "Get full details of the items of a playlist owned by a Spotify user."
   ]
  },
  {
   "cell_type": "code",
   "execution_count": 3,
   "id": "3c73d3c0-a440-48ff-8916-e4a74852f7ec",
   "metadata": {
    "execution": {
     "iopub.execute_input": "2023-12-24T06:16:00.601983Z",
     "iopub.status.busy": "2023-12-24T06:16:00.601549Z",
     "iopub.status.idle": "2023-12-24T06:16:00.677159Z",
     "shell.execute_reply": "2023-12-24T06:16:00.676318Z",
     "shell.execute_reply.started": "2023-12-24T06:16:00.601950Z"
    },
    "papermill": {},
    "tags": []
   },
   "outputs": [],
   "source": [
    "def get_playlist_items(client_id, client_secret, playlist_id):\n",
    "    client_credentials_manager = SpotifyClientCredentials(client_id=client_id, client_secret=client_secret)\n",
    "    sp = spotipy.Spotify(client_credentials_manager=client_credentials_manager)\n",
    "    results = sp.playlist_tracks(playlist_id)\n",
    "    for index, track in enumerate(results['items']):\n",
    "        track_name = track['track']['name']\n",
    "        artist_name = track['track']['artists'][0]['name']\n",
    "        image_url = track['track']['album']['images'][0]['url']\n",
    "        track_id = track['track']['id']\n",
    "        print(f\"{index + 1}. {track_name}, by {artist_name}\")\n",
    "        print(f\"   Track ID: {track_id}\")\n",
    "        display(Image(url=image_url, width=200))\n",
    "        print(\"\\n\")"
   ]
  },
  {
   "cell_type": "markdown",
   "id": "65a494bf-26e9-49be-8045-454dc7a63790",
   "metadata": {
    "papermill": {},
    "tags": []
   },
   "source": [
    "## Output"
   ]
  },
  {
   "cell_type": "markdown",
   "id": "00d49a5f-25a2-41b4-99c0-24b26ac41fde",
   "metadata": {
    "papermill": {},
    "tags": []
   },
   "source": [
    "### Display result"
   ]
  },
  {
   "cell_type": "code",
   "execution_count": 4,
   "id": "a2b43d43-6492-4e01-b101-8b1efb231234",
   "metadata": {
    "execution": {
     "iopub.execute_input": "2023-12-24T06:16:00.701694Z",
     "iopub.status.busy": "2023-12-24T06:16:00.681221Z",
     "iopub.status.idle": "2023-12-24T06:16:01.218188Z",
     "shell.execute_reply": "2023-12-24T06:16:01.217179Z",
     "shell.execute_reply.started": "2023-12-24T06:16:00.701655Z"
    },
    "papermill": {},
    "tags": []
   },
   "outputs": [
    {
     "name": "stdout",
     "output_type": "stream",
     "text": [
      "1. Wurli, by Dominic Fike\n",
      "   Track ID: 5MSshyHGM9ajWSEoBcR0jv\n"
     ]
    },
    {
     "data": {
      "text/html": [
       "<img src=\"https://i.scdn.co/image/ab67616d0000b273cfc824b65a3b1755d98a7e23\" width=\"200\"/>"
      ],
      "text/plain": [
       "<IPython.core.display.Image object>"
      ]
     },
     "metadata": {},
     "output_type": "display_data"
    },
    {
     "name": "stdout",
     "output_type": "stream",
     "text": [
      "\n",
      "\n",
      "2. Politics & Violence, by Dominic Fike\n",
      "   Track ID: 4keHa1UN3c9OWHVv3BE5ra\n"
     ]
    },
    {
     "data": {
      "text/html": [
       "<img src=\"https://i.scdn.co/image/ab67616d0000b273cfc824b65a3b1755d98a7e23\" width=\"200\"/>"
      ],
      "text/plain": [
       "<IPython.core.display.Image object>"
      ]
     },
     "metadata": {},
     "output_type": "display_data"
    },
    {
     "name": "stdout",
     "output_type": "stream",
     "text": [
      "\n",
      "\n",
      "3. She Wants My Money, by Dominic Fike\n",
      "   Track ID: 0IajnzlicUA89rZSkqfLPS\n"
     ]
    },
    {
     "data": {
      "text/html": [
       "<img src=\"https://i.scdn.co/image/ab67616d0000b2737b1b6f41c1645af9757d5616\" width=\"200\"/>"
      ],
      "text/plain": [
       "<IPython.core.display.Image object>"
      ]
     },
     "metadata": {},
     "output_type": "display_data"
    },
    {
     "name": "stdout",
     "output_type": "stream",
     "text": [
      "\n",
      "\n",
      "4. Rollerblades, by Dominic Fike\n",
      "   Track ID: 7iSNEgSJYlc42H73xePMLh\n"
     ]
    },
    {
     "data": {
      "text/html": [
       "<img src=\"https://i.scdn.co/image/ab67616d0000b273f4f4db1cf76aa775b9f46447\" width=\"200\"/>"
      ],
      "text/plain": [
       "<IPython.core.display.Image object>"
      ]
     },
     "metadata": {},
     "output_type": "display_data"
    },
    {
     "name": "stdout",
     "output_type": "stream",
     "text": [
      "\n",
      "\n",
      "5. Florida, by Dominic Fike\n",
      "   Track ID: 4N6jSDQb5PaR9d1IYM2aBz\n"
     ]
    },
    {
     "data": {
      "text/html": [
       "<img src=\"https://i.scdn.co/image/ab67616d0000b273cfc824b65a3b1755d98a7e23\" width=\"200\"/>"
      ],
      "text/plain": [
       "<IPython.core.display.Image object>"
      ]
     },
     "metadata": {},
     "output_type": "display_data"
    },
    {
     "name": "stdout",
     "output_type": "stream",
     "text": [
      "\n",
      "\n",
      "6. 3 Nights, by Dominic Fike\n",
      "   Track ID: 0uI7yAKUf52Cn7y3sYyjiX\n"
     ]
    },
    {
     "data": {
      "text/html": [
       "<img src=\"https://i.scdn.co/image/ab67616d0000b2737b1b6f41c1645af9757d5616\" width=\"200\"/>"
      ],
      "text/plain": [
       "<IPython.core.display.Image object>"
      ]
     },
     "metadata": {},
     "output_type": "display_data"
    },
    {
     "name": "stdout",
     "output_type": "stream",
     "text": [
      "\n",
      "\n",
      "7. Chicken Tenders, by Dominic Fike\n",
      "   Track ID: 4sYbZjRCyaFqCtJ2Uvfh8B\n"
     ]
    },
    {
     "data": {
      "text/html": [
       "<img src=\"https://i.scdn.co/image/ab67616d0000b273cfc824b65a3b1755d98a7e23\" width=\"200\"/>"
      ],
      "text/plain": [
       "<IPython.core.display.Image object>"
      ]
     },
     "metadata": {},
     "output_type": "display_data"
    },
    {
     "name": "stdout",
     "output_type": "stream",
     "text": [
      "\n",
      "\n",
      "8. Falling Asleep, by Dominic Fike\n",
      "   Track ID: 4Q09JEsHAZhHOIPTqDGeB2\n"
     ]
    },
    {
     "data": {
      "text/html": [
       "<img src=\"https://i.scdn.co/image/ab67616d0000b2737b1b6f41c1645af9757d5616\" width=\"200\"/>"
      ],
      "text/plain": [
       "<IPython.core.display.Image object>"
      ]
     },
     "metadata": {},
     "output_type": "display_data"
    },
    {
     "name": "stdout",
     "output_type": "stream",
     "text": [
      "\n",
      "\n",
      "9. Westcoast Collective, by Dominic Fike\n",
      "   Track ID: 7rNun2AyLu4u4rQpRt0iS9\n"
     ]
    },
    {
     "data": {
      "text/html": [
       "<img src=\"https://i.scdn.co/image/ab67616d0000b2737b1b6f41c1645af9757d5616\" width=\"200\"/>"
      ],
      "text/plain": [
       "<IPython.core.display.Image object>"
      ]
     },
     "metadata": {},
     "output_type": "display_data"
    },
    {
     "name": "stdout",
     "output_type": "stream",
     "text": [
      "\n",
      "\n",
      "10. Whats For Dinner?, by Dominic Fike\n",
      "   Track ID: 3siyfhqP2BSRciLSbwGpzR\n"
     ]
    },
    {
     "data": {
      "text/html": [
       "<img src=\"https://i.scdn.co/image/ab67616d0000b273cfc824b65a3b1755d98a7e23\" width=\"200\"/>"
      ],
      "text/plain": [
       "<IPython.core.display.Image object>"
      ]
     },
     "metadata": {},
     "output_type": "display_data"
    },
    {
     "name": "stdout",
     "output_type": "stream",
     "text": [
      "\n",
      "\n",
      "11. Açaí Bowl, by Dominic Fike\n",
      "   Track ID: 5M3KOe4FGUidvRDUbFFdFk\n"
     ]
    },
    {
     "data": {
      "text/html": [
       "<img src=\"https://i.scdn.co/image/ab67616d0000b2737cfa916ef30e2f720a9282f3\" width=\"200\"/>"
      ],
      "text/plain": [
       "<IPython.core.display.Image object>"
      ]
     },
     "metadata": {},
     "output_type": "display_data"
    },
    {
     "name": "stdout",
     "output_type": "stream",
     "text": [
      "\n",
      "\n",
      "12. Come Here, by Dominic Fike\n",
      "   Track ID: 3Wgs96Z4TdCpnqFj2CxpsI\n"
     ]
    },
    {
     "data": {
      "text/html": [
       "<img src=\"https://i.scdn.co/image/ab67616d0000b273cfc824b65a3b1755d98a7e23\" width=\"200\"/>"
      ],
      "text/plain": [
       "<IPython.core.display.Image object>"
      ]
     },
     "metadata": {},
     "output_type": "display_data"
    },
    {
     "name": "stdout",
     "output_type": "stream",
     "text": [
      "\n",
      "\n",
      "13. Good Game, by Dominic Fike\n",
      "   Track ID: 6Q4Es6wVFh8W2qXrkQ7j1w\n"
     ]
    },
    {
     "data": {
      "text/html": [
       "<img src=\"https://i.scdn.co/image/ab67616d0000b273cfc824b65a3b1755d98a7e23\" width=\"200\"/>"
      ],
      "text/plain": [
       "<IPython.core.display.Image object>"
      ]
     },
     "metadata": {},
     "output_type": "display_data"
    },
    {
     "name": "stdout",
     "output_type": "stream",
     "text": [
      "\n",
      "\n",
      "14. Babydoll, by Dominic Fike\n",
      "   Track ID: 7yNf9YjeO5JXUE3JEBgnYc\n"
     ]
    },
    {
     "data": {
      "text/html": [
       "<img src=\"https://i.scdn.co/image/ab67616d0000b2737b1b6f41c1645af9757d5616\" width=\"200\"/>"
      ],
      "text/plain": [
       "<IPython.core.display.Image object>"
      ]
     },
     "metadata": {},
     "output_type": "display_data"
    },
    {
     "name": "stdout",
     "output_type": "stream",
     "text": [
      "\n",
      "\n",
      "15. Why, by Dominic Fike\n",
      "   Track ID: 1xLs8Mu1QEVbGCpyHQ2r2U\n"
     ]
    },
    {
     "data": {
      "text/html": [
       "<img src=\"https://i.scdn.co/image/ab67616d0000b273cfc824b65a3b1755d98a7e23\" width=\"200\"/>"
      ],
      "text/plain": [
       "<IPython.core.display.Image object>"
      ]
     },
     "metadata": {},
     "output_type": "display_data"
    },
    {
     "name": "stdout",
     "output_type": "stream",
     "text": [
      "\n",
      "\n",
      "16. Peach, by Kevin Abstract\n",
      "   Track ID: 5JRMqkR82k2fdDEAim9SCN\n"
     ]
    },
    {
     "data": {
      "text/html": [
       "<img src=\"https://i.scdn.co/image/ab67616d0000b273595101c281d7e229e1f0e6c4\" width=\"200\"/>"
      ],
      "text/plain": [
       "<IPython.core.display.Image object>"
      ]
     },
     "metadata": {},
     "output_type": "display_data"
    },
    {
     "name": "stdout",
     "output_type": "stream",
     "text": [
      "\n",
      "\n",
      "17. The Kiss Of Venus (Dominic Fike), by Paul McCartney\n",
      "   Track ID: 28kOGtTZzbfQ8fMmTwjRFq\n"
     ]
    },
    {
     "data": {
      "text/html": [
       "<img src=\"https://i.scdn.co/image/ab67616d0000b27372275ae8324be1e829320a43\" width=\"200\"/>"
      ],
      "text/plain": [
       "<IPython.core.display.Image object>"
      ]
     },
     "metadata": {},
     "output_type": "display_data"
    },
    {
     "name": "stdout",
     "output_type": "stream",
     "text": [
      "\n",
      "\n",
      "18. Socks, by Dominic Fike\n",
      "   Track ID: 05fTCmfInpZXpb5Xn1GKGs\n"
     ]
    },
    {
     "data": {
      "text/html": [
       "<img src=\"https://i.scdn.co/image/ab67616d0000b2737b1b6f41c1645af9757d5616\" width=\"200\"/>"
      ],
      "text/plain": [
       "<IPython.core.display.Image object>"
      ]
     },
     "metadata": {},
     "output_type": "display_data"
    },
    {
     "name": "stdout",
     "output_type": "stream",
     "text": [
      "\n",
      "\n",
      "19. King of Everything, by Dominic Fike\n",
      "   Track ID: 0lO1yt6M1l1OAs80M3vEfM\n"
     ]
    },
    {
     "data": {
      "text/html": [
       "<img src=\"https://i.scdn.co/image/ab67616d0000b2737b1b6f41c1645af9757d5616\" width=\"200\"/>"
      ],
      "text/plain": [
       "<IPython.core.display.Image object>"
      ]
     },
     "metadata": {},
     "output_type": "display_data"
    },
    {
     "name": "stdout",
     "output_type": "stream",
     "text": [
      "\n",
      "\n",
      "20. Phone Numbers, by Dominic Fike\n",
      "   Track ID: 3f9Mzvd3URfbbIJBX4pz9Z\n"
     ]
    },
    {
     "data": {
      "text/html": [
       "<img src=\"https://i.scdn.co/image/ab67616d0000b2731047fa3fb0151cf803d9c696\" width=\"200\"/>"
      ],
      "text/plain": [
       "<IPython.core.display.Image object>"
      ]
     },
     "metadata": {},
     "output_type": "display_data"
    },
    {
     "name": "stdout",
     "output_type": "stream",
     "text": [
      "\n",
      "\n",
      "21. I'm Trying, by Yeek\n",
      "   Track ID: 6c6ddgLrRjU7CRXC6xlara\n"
     ]
    },
    {
     "data": {
      "text/html": [
       "<img src=\"https://i.scdn.co/image/ab67616d0000b273be15a0388ea3e490d41a9728\" width=\"200\"/>"
      ],
      "text/plain": [
       "<IPython.core.display.Image object>"
      ]
     },
     "metadata": {},
     "output_type": "display_data"
    },
    {
     "name": "stdout",
     "output_type": "stream",
     "text": [
      "\n",
      "\n",
      "22. Superstar Sh*t, by Dominic Fike\n",
      "   Track ID: 20j7l6tFtc5lynXpbOQg1O\n"
     ]
    },
    {
     "data": {
      "text/html": [
       "<img src=\"https://i.scdn.co/image/ab67616d0000b273cfc824b65a3b1755d98a7e23\" width=\"200\"/>"
      ],
      "text/plain": [
       "<IPython.core.display.Image object>"
      ]
     },
     "metadata": {},
     "output_type": "display_data"
    },
    {
     "name": "stdout",
     "output_type": "stream",
     "text": [
      "\n",
      "\n",
      "23. Vampire, by Dominic Fike\n",
      "   Track ID: 0SRPuTnr5QOKRoIxMvvlgK\n"
     ]
    },
    {
     "data": {
      "text/html": [
       "<img src=\"https://i.scdn.co/image/ab67616d0000b273cfc824b65a3b1755d98a7e23\" width=\"200\"/>"
      ],
      "text/plain": [
       "<IPython.core.display.Image object>"
      ]
     },
     "metadata": {},
     "output_type": "display_data"
    },
    {
     "name": "stdout",
     "output_type": "stream",
     "text": [
      "\n",
      "\n",
      "24. Stop Selling Her Drugs (feat. Dominic Fike), by Bakar\n",
      "   Track ID: 4uBQDAzZ881KYZvW7ZInUn\n"
     ]
    },
    {
     "data": {
      "text/html": [
       "<img src=\"https://i.scdn.co/image/ab67616d0000b2735bbe47313dfc5a6d6249a487\" width=\"200\"/>"
      ],
      "text/plain": [
       "<IPython.core.display.Image object>"
      ]
     },
     "metadata": {},
     "output_type": "display_data"
    },
    {
     "name": "stdout",
     "output_type": "stream",
     "text": [
      "\n",
      "\n",
      "25. Batshit, by Dominic Fike\n",
      "   Track ID: 75adejSrOgdhLRTOhUkuX2\n"
     ]
    },
    {
     "data": {
      "text/html": [
       "<img src=\"https://i.scdn.co/image/ab67616d0000b2737b1b6f41c1645af9757d5616\" width=\"200\"/>"
      ],
      "text/plain": [
       "<IPython.core.display.Image object>"
      ]
     },
     "metadata": {},
     "output_type": "display_data"
    },
    {
     "name": "stdout",
     "output_type": "stream",
     "text": [
      "\n",
      "\n",
      "26. Dominic’s Interlude, by Halsey\n",
      "   Track ID: 2sOOXgEGB7nhKO8mmc1GhI\n"
     ]
    },
    {
     "data": {
      "text/html": [
       "<img src=\"https://i.scdn.co/image/ab67616d0000b2737636e1c9e67eaafc9f49aefd\" width=\"200\"/>"
      ],
      "text/plain": [
       "<IPython.core.display.Image object>"
      ]
     },
     "metadata": {},
     "output_type": "display_data"
    },
    {
     "name": "stdout",
     "output_type": "stream",
     "text": [
      "\n",
      "\n",
      "27. Think Fast (feat. Weezer), by Dominic Fike\n",
      "   Track ID: 4Z59a9hIn8EMsni3OiqGso\n"
     ]
    },
    {
     "data": {
      "text/html": [
       "<img src=\"https://i.scdn.co/image/ab67616d0000b2730fb08616c78d44ceb4c8d061\" width=\"200\"/>"
      ],
      "text/plain": [
       "<IPython.core.display.Image object>"
      ]
     },
     "metadata": {},
     "output_type": "display_data"
    },
    {
     "name": "stdout",
     "output_type": "stream",
     "text": [
      "\n",
      "\n",
      "28. Pasture Child, by Dominic Fike\n",
      "   Track ID: 5APPlPgagEAXjGLIizqSDS\n"
     ]
    },
    {
     "data": {
      "text/html": [
       "<img src=\"https://i.scdn.co/image/ab67616d0000b2730fb08616c78d44ceb4c8d061\" width=\"200\"/>"
      ],
      "text/plain": [
       "<IPython.core.display.Image object>"
      ]
     },
     "metadata": {},
     "output_type": "display_data"
    },
    {
     "name": "stdout",
     "output_type": "stream",
     "text": [
      "\n",
      "\n",
      "29. Frisky, by Dominic Fike\n",
      "   Track ID: 3my33XXLpYUzVEeLOyftV2\n"
     ]
    },
    {
     "data": {
      "text/html": [
       "<img src=\"https://i.scdn.co/image/ab67616d0000b2730fb08616c78d44ceb4c8d061\" width=\"200\"/>"
      ],
      "text/plain": [
       "<IPython.core.display.Image object>"
      ]
     },
     "metadata": {},
     "output_type": "display_data"
    },
    {
     "name": "stdout",
     "output_type": "stream",
     "text": [
      "\n",
      "\n",
      "30. Mama's Boy, by Dominic Fike\n",
      "   Track ID: 0b6xZk9f96N77BfmYWnQNC\n"
     ]
    },
    {
     "data": {
      "text/html": [
       "<img src=\"https://i.scdn.co/image/ab67616d0000b2730fb08616c78d44ceb4c8d061\" width=\"200\"/>"
      ],
      "text/plain": [
       "<IPython.core.display.Image object>"
      ]
     },
     "metadata": {},
     "output_type": "display_data"
    },
    {
     "name": "stdout",
     "output_type": "stream",
     "text": [
      "\n",
      "\n",
      "31. How Much Is Weed?, by Dominic Fike\n",
      "   Track ID: 44KWbTVZev3SWdv1t5UoYE\n"
     ]
    },
    {
     "data": {
      "text/html": [
       "<img src=\"https://i.scdn.co/image/ab67616d0000b2730fb08616c78d44ceb4c8d061\" width=\"200\"/>"
      ],
      "text/plain": [
       "<IPython.core.display.Image object>"
      ]
     },
     "metadata": {},
     "output_type": "display_data"
    },
    {
     "name": "stdout",
     "output_type": "stream",
     "text": [
      "\n",
      "\n",
      "32. Sick, by Dominic Fike\n",
      "   Track ID: 6OklSp2KgnW8RWNdQ7n8o1\n"
     ]
    },
    {
     "data": {
      "text/html": [
       "<img src=\"https://i.scdn.co/image/ab67616d0000b2730fb08616c78d44ceb4c8d061\" width=\"200\"/>"
      ],
      "text/plain": [
       "<IPython.core.display.Image object>"
      ]
     },
     "metadata": {},
     "output_type": "display_data"
    },
    {
     "name": "stdout",
     "output_type": "stream",
     "text": [
      "\n",
      "\n",
      "33. Crumble, by Kevin Abstract\n",
      "   Track ID: 3ls9lmPJ7xROR2VL5Kv1Gz\n"
     ]
    },
    {
     "data": {
      "text/html": [
       "<img src=\"https://i.scdn.co/image/ab67616d0000b273595101c281d7e229e1f0e6c4\" width=\"200\"/>"
      ],
      "text/plain": [
       "<IPython.core.display.Image object>"
      ]
     },
     "metadata": {},
     "output_type": "display_data"
    },
    {
     "name": "stdout",
     "output_type": "stream",
     "text": [
      "\n",
      "\n",
      "34. Bodies, by Dominic Fike\n",
      "   Track ID: 59JXLBosh2OFLMCARkINnB\n"
     ]
    },
    {
     "data": {
      "text/html": [
       "<img src=\"https://i.scdn.co/image/ab67616d0000b2730fb08616c78d44ceb4c8d061\" width=\"200\"/>"
      ],
      "text/plain": [
       "<IPython.core.display.Image object>"
      ]
     },
     "metadata": {},
     "output_type": "display_data"
    },
    {
     "name": "stdout",
     "output_type": "stream",
     "text": [
      "\n",
      "\n"
     ]
    }
   ],
   "source": [
    "get_playlist_items(client_id, client_secret, playlist_id)"
   ]
  }
 ],
 "metadata": {
  "kernelspec": {
   "display_name": "Python 3",
   "language": "python",
   "name": "python3"
  },
  "language_info": {
   "codemirror_mode": {
    "name": "ipython",
    "version": 3
   },
   "file_extension": ".py",
   "mimetype": "text/x-python",
   "name": "python",
   "nbconvert_exporter": "python",
   "pygments_lexer": "ipython3",
   "version": "3.9.6"
  },
  "widgets": {
   "application/vnd.jupyter.widget-state+json": {
    "state": {},
    "version_major": 2,
    "version_minor": 0
   }
  }
 },
 "nbformat": 4,
 "nbformat_minor": 5
}
