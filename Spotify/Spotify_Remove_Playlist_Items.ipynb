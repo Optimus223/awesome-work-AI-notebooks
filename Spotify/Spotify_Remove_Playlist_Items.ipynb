{
 "cells": [
  {
   "cell_type": "markdown",
   "id": "d71768d2-6642-4331-822a-27fd3ce970b3",
   "metadata": {
    "papermill": {},
    "tags": []
   },
   "source": [
    "<img width=\"8%\" alt=\"Naas.png\" src=\"https://raw.githubusercontent.com/jupyter-naas/awesome-notebooks/master/.github/assets/logos/Naas.png\" style=\"border-radius: 15%\">"
   ]
  },
  {
   "cell_type": "markdown",
   "id": "ed563673-363f-4478-99d4-d34fad2e73c7",
   "metadata": {
    "papermill": {},
    "tags": []
   },
   "source": [
    "# Spotify - Remove Playlist Items"
   ]
  },
  {
   "cell_type": "markdown",
   "id": "7aef91cb-5cea-4b0d-b7da-f7a79a4d6880",
   "metadata": {
    "papermill": {},
    "tags": []
   },
   "source": [
    "**Tags:** #spotify #playlist #remove #items #web-api #reference"
   ]
  },
  {
   "cell_type": "markdown",
   "id": "1989031a-38ca-4c11-bf91-5498251b8339",
   "metadata": {
    "papermill": {},
    "tags": []
   },
   "source": [
    "**Author:** [Alton Liew](https://www.linkedin.com/in/alton-liew-749944182/)"
   ]
  },
  {
   "cell_type": "markdown",
   "id": "b23001e1-962f-4f3d-95ec-0bca442b45e9",
   "metadata": {
    "papermill": {},
    "tags": []
   },
   "source": [
    "**Last update:** 2023-12-15 (Created: 2023-12-15)"
   ]
  },
  {
   "cell_type": "markdown",
   "id": "f9a980b8-e21d-4046-8d04-65b55b7daa9f",
   "metadata": {
    "papermill": {},
    "tags": []
   },
   "source": [
    "**Description:** This notebook removes one or more items from a user's playlist. It uses the Spotify Web API to access the user's playlist and remove the items."
   ]
  },
  {
   "cell_type": "markdown",
   "id": "aaa09de8-9929-4332-8ee7-261d511554f1",
   "metadata": {
    "papermill": {},
    "tags": []
   },
   "source": [
    "**References:**\n- [Spotify Web API Reference - Remove Tracks from Playlist](https://developer.spotify.com/documentation/web-api/reference/remove-tracks-playlist)\n- [Spotify Web API Reference - Get a Playlist](https://developer.spotify.com/documentation/web-api/reference/playlists/get-playlist/)"
   ]
  },
  {
   "cell_type": "markdown",
   "id": "9ef12259-c110-40e7-a680-b0561424f123",
   "metadata": {
    "papermill": {},
    "tags": []
   },
   "source": [
    "## Input"
   ]
  },
  {
   "cell_type": "markdown",
   "id": "143ebd85-6900-45c2-87ef-38125207bc33",
   "metadata": {
    "papermill": {},
    "tags": []
   },
   "source": [
    "### Import libraries"
   ]
  },
  {
   "cell_type": "code",
   "execution_count": null,
   "id": "a0a3a29e-5b27-472d-af28-5312e08e40c6",
   "metadata": {
    "papermill": {},
    "tags": []
   },
   "source": "import requests\nimport json",
   "outputs": []
  },
  {
   "cell_type": "markdown",
   "id": "9801f660-e0db-4d90-95ee-b0b0349b5277",
   "metadata": {
    "papermill": {},
    "tags": []
   },
   "source": [
    "### Setup variables\n- `playlist_id`: The Spotify ID of the playlist to remove items from.\n- `access_token`: The access token of the user.\n- `track_ids`: A list of Spotify IDs of the tracks to remove from the playlist."
   ]
  },
  {
   "cell_type": "code",
   "execution_count": null,
   "id": "7162df50-351b-4625-b440-2a35387e0afb",
   "metadata": {
    "papermill": {},
    "tags": []
   },
   "source": "playlist_id = '3Qm86XLflmIXVm1wcwkgDK'\naccess_token = 'BQDqVqV_3V_3V_3V_3V_3V_3V_3V_3V_3V_3V_3V_3V_3V_3V_3V_3V_3V_3V_3V_3V_3V_3V_3V_3V_3V_3V_3V_3V_3V_3V_3V_3V_3V_3V_3V_3V_3V_3V_3V_3V_3V_3V_3V_3V_3V_3V_3V_3V_3V_3V_3V_3V_3V_3V_3V_3V_3V_3V_3V_3V_3V_3V_3V_3V_3V_3V_3V_3V_3V_3V_3V_3V_3V_3V_3V_3V_3V_3V_3V_3V_3V_3V_3V_3V_3V_3V_3V_3V_3V_3V_3V_3V_3V_3V_3V_3V_3V_3V_3V_3V_3V_3V_3V_3V_3V_3V_3V_3V_3V_3V_3V_3V_3V_3V_3V_3V_3V_3V_3V_3V_3V_3V_3V_3V_3V_3V_3V_3V_3V_3V_3V_3V_3V_3V_3V_3V_3V_3V_3V_3V_3V_3V_3V_3V_3V_3V_3V_3V_3V_3V_3V_3V_3V_3V_3V_3V_3V_3V_3V_3V_3V_3V_3V_3V_3V_3V_3V_3V_3V_3V_3V_3V_3V_3V_3V_3V_3V_3V_3V_3V_3V_3V_3V_3V_3V_3V_3V_3V_3V_3V_3V_3V_3V_3V_3V_3V_3V_3V_3V_3V_3V_3V_3V_3V_3V_3V_3V_3V_3V_3V_3V_3V_3V_3V_3V_3V_3V_3V_3V_3V_3V_3V_3V_3V_3V_3V_3V_3V_3V_3V_3V_3V_3V_3V_3V_3V_3V_3V_3V_3V_3V_3V_3V_3V_3V_3V_3V_3V_3V_3V_3V_3V_3V_3V_3V_3V_3V_3V_3V_3V_3V_3V_3V_3V_3V_3V_3V_3V_3V_3V_3V_3V_3V_3V_3V_3V_3V_3V_3V_3V_3V_3V_3V_3V_3V_3V_3V_3V_3V_3V_3V_3V_3V_3V_3V_3V_3V_3V_3V_3V_3V_3V_3V_3V_3V_3V_3V_3V_3V_3V_3V_3V_3V_3V_3V_3V_3V_3V_3V_3V_3V_3V_3V_3V_3V_3V_3V_3V_3V_3V_3V_3V_3V_3V_3V_3V_3V_3V_3V_3V_3V_3V_3V_3V_3V_3V_3V_3V_3V_3V_3V_3V_3V_3V_3V_3V_3V_3V_3V_3V_3V_3V_3V_3V_3V_3V_3V_3V_3V_3V_3V_3V_3V_3V_3V_3V_3V_3V_3V_3V_3V_3V_3V_3V_3V_3V_3V_3V_3V_3V_3V_3V_3V_3V_3V_3V_3V_3V_3V_3V_3V_3V_3V_3V_3V_3V_3V_3V_3V_3V_3V_3V_3V_3V_3V_3V_3V_3V_3V_3V_3V_3V_3V_3V_3V_3V_3V_3V_3V_3V_3V_3V_3V_3V_3V_3V_3V_3V_3V_3V_3V_3V_3V_3V_3V_3V_3V_3V_3V_3V_3V_3V_3V_3V_3V_3V_3V_3V_3V_3V_3V_3V_3V_3V_3V_3V_3V_3V_3V_3V_3V_3V_3V_3V_3V_3V_3V_3V_3V_3V_3V_3V_3V_3V_3V_3V_3V_3V_3V_3V_3V_3V_3V_3V_3V_3V_3V_3V_3V_3V_3V_3V_3V_3V_3V_3V_3V_3V_3V_3V_3V_3V_3V_3V_3V_3V_3V_3V_3V_3V_3V_3V_3V_3V_3V_3V_3V_3V_3V_3V_3V_3V_3V_3V_3V_3V_3V_3V_3V_3V_3V_3V_3V_3V_3V_3V_3V_3V_3V_3V_3V_3V_3V_3V_3V_3V_3V_3V_3V_3V_3V_3V_3V_3V_3V_3V_3V_3V_3V_3V_3V_3V_3V_3V_3V_3V_3V_3V_3V_3V_3V_3",
   "outputs": []
  }
 ],
 "metadata": {
  "kernelspec": {
   "display_name": "Python 3",
   "language": "python",
   "name": "python3"
  },
  "language_info": {
   "codemirror_mode": {
    "name": "ipython",
    "version": 3
   },
   "file_extension": ".py",
   "mimetype": "text/x-python",
   "name": "python",
   "nbconvert_exporter": "python",
   "pygments_lexer": "ipython3",
   "version": "3.9.6"
  },
  "widgets": {
   "application/vnd.jupyter.widget-state+json": {
    "state": {},
    "version_major": 2,
    "version_minor": 0
   }
  }
 },
 "nbformat": 4,
 "nbformat_minor": 5
}