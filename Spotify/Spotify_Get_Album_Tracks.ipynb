{
 "cells": [
  {
   "cell_type": "markdown",
   "id": "a1bc9b4b-3da9-4d03-b259-5ff1e3bb18bf",
   "metadata": {
    "papermill": {},
    "tags": []
   },
   "source": [
    "<img width=\"10%\" alt=\"Naas\" src=\"https://landen.imgix.net/jtci2pxwjczr/assets/5ice39g4.png?w=160\"/>"
   ]
  },
  {
   "cell_type": "markdown",
   "id": "d51a2ac8-dbe4-4a99-8cd1-0e67a2c5396e",
   "metadata": {
    "papermill": {},
    "tags": []
   },
   "source": [
    "# Spotify - Get Album Tracks"
   ]
  },
  {
   "cell_type": "markdown",
   "id": "d7ffdc37-5a3f-4292-ab61-c6ba7dd1e2eb",
   "metadata": {
    "papermill": {},
    "tags": []
   },
   "source": [
    "**Tags:** #spotify #api #album #tracks #get #web"
   ]
  },
  {
   "cell_type": "markdown",
   "id": "c5b61544-dc7f-4c02-adc3-460d2b52460f",
   "metadata": {
    "papermill": {},
    "tags": []
   },
   "source": [
    "**Author:** [Alton Liew](https://www.linkedin.com/in/alton-liew-749944182/)"
   ]
  },
  {
   "cell_type": "markdown",
   "id": "a337b9e6-e401-4ccd-93eb-475bc0dbfa17",
   "metadata": {
    "papermill": {},
    "tags": []
   },
   "source": [
    "**Last update:** 2023-12-01 (Created: 2023-12-01)"
   ]
  },
  {
   "cell_type": "markdown",
   "id": "08a63237-284b-4b61-9212-f8aa5f484911",
   "metadata": {
    "papermill": {},
    "tags": []
   },
   "source": [
    "**Description:** This notebook will get Spotify catalog information about an album\u2019s tracks. Optional parameters can be used to limit the number of tracks returned. It is useful for organizations to quickly get the tracks of an album."
   ]
  },
  {
   "cell_type": "markdown",
   "id": "e31f1464-01ef-4078-b26a-ec2b60a1407a",
   "metadata": {
    "papermill": {},
    "tags": []
   },
   "source": [
    "**References:**\n- [Spotify - Get an Album's Tracks](https://developer.spotify.com/documentation/web-api/reference/get-an-albums-tracks)\n- [Spotify - Web API Overview](https://developer.spotify.com/documentation/web-api/)"
   ]
  },
  {
   "cell_type": "markdown",
   "id": "e00f1ca2-39e8-4c73-bdc4-d9a758338c68",
   "metadata": {
    "papermill": {},
    "tags": []
   },
   "source": [
    "## Input"
   ]
  },
  {
   "cell_type": "markdown",
   "id": "c811dad9-7aa5-4005-b24d-1bfa6fe02c66",
   "metadata": {
    "papermill": {},
    "tags": []
   },
   "source": [
    "### Import libraries"
   ]
  },
  {
   "cell_type": "code",
   "execution_count": null,
   "id": "067a8d2b-9fcb-491e-975a-1c6f2ccd0a87",
   "metadata": {
    "papermill": {},
    "tags": []
   },
   "source": "import requests",
   "outputs": []
  },
  {
   "cell_type": "markdown",
   "id": "efc67696-83f4-4ee7-9c98-db30aff18dec",
   "metadata": {
    "papermill": {},
    "tags": []
   },
   "source": [
    "### Setup variables\n- `album_id`: The Spotify ID for the album.\n- `access_token`: The access token to be used for the request."
   ]
  },
  {
   "cell_type": "code",
   "execution_count": null,
   "id": "b0d03ea7-7900-4306-9f99-2a7d788a76c3",
   "metadata": {
    "papermill": {},
    "tags": []
   },
   "source": "album_id = \"3yYJtLHjU9kO7xkX9uPV5X\"\naccess_token = \"BQD_..._Hg\"",
   "outputs": []
  },
  {
   "cell_type": "markdown",
   "id": "d156bce7-fba5-48d5-812f-1fe62f9526b7",
   "metadata": {
    "papermill": {},
    "tags": []
   },
   "source": [
    "## Model"
   ]
  },
  {
   "cell_type": "markdown",
   "id": "b5d2685a-6fcf-4c6a-9c31-133a56fe8557",
   "metadata": {
    "papermill": {},
    "tags": []
   },
   "source": [
    "### Get album tracks"
   ]
  },
  {
   "cell_type": "markdown",
   "id": "aeaef046-9179-4e13-ba8f-492ae13bf17a",
   "metadata": {
    "papermill": {},
    "tags": []
   },
   "source": [
    "This function will get Spotify catalog information about an album\u2019s tracks. Optional parameters can be used to limit the number of tracks returned."
   ]
  },
  {
   "cell_type": "code",
   "execution_count": null,
   "id": "a4aa966b-a88a-4023-b63a-fe64a1abdf5e",
   "metadata": {
    "papermill": {},
    "tags": []
   },
   "source": "def get_album_tracks(album_id, access_token):\n    endpoint = f\"https://api.spotify.com/v1/albums/{album_id}/tracks\"\n    headers = {\"Authorization\": f\"Bearer {access_token}\"}\n    response = requests.get(endpoint, headers=headers)\n    return response.json()",
   "outputs": []
  },
  {
   "cell_type": "markdown",
   "id": "b4369aed-7c1c-4954-ade8-4e6e98b7bb64",
   "metadata": {
    "papermill": {},
    "tags": []
   },
   "source": [
    "## Output"
   ]
  },
  {
   "cell_type": "markdown",
   "id": "104b4fa0-9d31-4701-b8b5-5fa2b1c102bb",
   "metadata": {
    "papermill": {},
    "tags": []
   },
   "source": [
    "### Display result"
   ]
  },
  {
   "cell_type": "code",
   "execution_count": null,
   "id": "d379078d-cc22-4c6e-aba1-365008049bb3",
   "metadata": {
    "papermill": {},
    "tags": []
   },
   "source": "album_tracks = get_album_tracks(album_id, access_token)\nalbum_tracks",
   "outputs": []
  },
  {
   "cell_type": "markdown",
   "id": "3e43a89f-1eaf-438a-928b-b99a13dadc25",
   "metadata": {
    "papermill": {},
    "tags": []
   },
   "source": [
    " "
   ]
  }
 ],
 "metadata": {
  "kernelspec": {
   "display_name": "Python 3",
   "language": "python",
   "name": "python3"
  },
  "language_info": {
   "codemirror_mode": {
    "name": "ipython",
    "version": 3
   },
   "file_extension": ".py",
   "mimetype": "text/x-python",
   "name": "python",
   "nbconvert_exporter": "python",
   "pygments_lexer": "ipython3",
   "version": "3.9.6"
  },
  "widgets": {
   "application/vnd.jupyter.widget-state+json": {
    "state": {},
    "version_major": 2,
    "version_minor": 0
   }
  }
 },
 "nbformat": 4,
 "nbformat_minor": 5
}