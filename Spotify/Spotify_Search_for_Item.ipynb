{
 "cells": [
  {
   "cell_type": "markdown",
   "id": "aed3d75a-301d-4f1e-beb0-0a20ce940d10",
   "metadata": {
    "papermill": {},
    "tags": []
   },
   "source": [
    "<img width=\"10%\" alt=\"Naas\" src=\"https://landen.imgix.net/jtci2pxwjczr/assets/5ice39g4.png?w=160\"/>"
   ]
  },
  {
   "cell_type": "markdown",
   "id": "70317e11-dc09-4c9f-8986-b45ed39ab1a6",
   "metadata": {
    "papermill": {},
    "tags": []
   },
   "source": [
    "# Spotify - Search for Item"
   ]
  },
  {
   "cell_type": "markdown",
   "id": "4b285c24-f7b8-4e88-9e4a-ab48ebf91a84",
   "metadata": {
    "papermill": {},
    "tags": []
   },
   "source": [
    "**Tags:** #spotify #search #item #catalog #api #web"
   ]
  },
  {
   "cell_type": "markdown",
   "id": "3b3230f2-bbdc-4654-93c5-45c19ffdd22e",
   "metadata": {
    "papermill": {},
    "tags": []
   },
   "source": [
    "**Author:** [Alton Liew](https://www.linkedin.com/in/alton-liew-749944182/)"
   ]
  },
  {
   "cell_type": "markdown",
   "id": "adce2f77-4b0a-4683-801e-5f00a9db2fc7",
   "metadata": {
    "papermill": {},
    "tags": []
   },
   "source": [
    "**Last update:** 2023-11-24 (Created: 2023-11-24)"
   ]
  },
  {
   "cell_type": "markdown",
   "id": "ed9703c4-d088-4dc0-9266-83d981e03f67",
   "metadata": {
    "papermill": {},
    "tags": []
   },
   "source": [
    "**Description:** This notebook provides a way to get Spotify catalog information about albums, artists, playlists, tracks, shows, episodes or audiobooks that match a keyword string. It is useful for organizations to quickly search for items in the Spotify catalog."
   ]
  },
  {
   "cell_type": "markdown",
   "id": "d0788e71-8c9d-4561-a3fe-ac046cfd4ec3",
   "metadata": {
    "papermill": {},
    "tags": []
   },
   "source": [
    "**References:**\n- [Spotify Web API Reference](https://developer.spotify.com/documentation/web-api/reference/search)\n- [Spotify Developer Documentation](https://developer.spotify.com/documentation/)"
   ]
  },
  {
   "cell_type": "markdown",
   "id": "b1e5dcae-7f45-4302-acda-dbc587d569f8",
   "metadata": {
    "papermill": {},
    "tags": []
   },
   "source": [
    "## Input"
   ]
  },
  {
   "cell_type": "markdown",
   "id": "948c95ed-d7d5-4316-8dfb-707e86058ce4",
   "metadata": {
    "papermill": {},
    "tags": []
   },
   "source": [
    "### Import libraries"
   ]
  },
  {
   "cell_type": "code",
   "execution_count": null,
   "id": "61ce8b3c-338f-4a3e-b00b-2b46310257bd",
   "metadata": {
    "papermill": {},
    "tags": []
   },
   "source": "import requests\nimport json",
   "outputs": []
  },
  {
   "cell_type": "markdown",
   "id": "54d8a6b8-14bc-4edb-a815-8b95a0279b91",
   "metadata": {
    "papermill": {},
    "tags": []
   },
   "source": [
    "### Setup variables\n- **endpoint**: `https://api.spotify.com/v1/search`\n- **query**: keyword string to search for\n- **type**: type of item to search for (album, artist, playlist, track, show, episode, audiobook)"
   ]
  },
  {
   "cell_type": "code",
   "execution_count": null,
   "id": "ebce991a-2bec-4447-888d-46d322bd038d",
   "metadata": {
    "papermill": {},
    "tags": []
   },
   "source": "endpoint = \"https://api.spotify.com/v1/search\"\nquery = \"The Beatles\"\ntype = \"artist\"",
   "outputs": []
  },
  {
   "cell_type": "markdown",
   "id": "81d4b405-33de-411c-80cf-962e25d1ad61",
   "metadata": {
    "papermill": {},
    "tags": []
   },
   "source": [
    "## Model"
   ]
  },
  {
   "cell_type": "markdown",
   "id": "74d2f011-1ec0-49a7-b2d7-3b29604f6661",
   "metadata": {
    "papermill": {},
    "tags": []
   },
   "source": [
    "### Search for item"
   ]
  },
  {
   "cell_type": "markdown",
   "id": "593e1b68-7214-4376-995f-dc29c143fb3b",
   "metadata": {
    "papermill": {},
    "tags": []
   },
   "source": [
    "This function searches for an item in the Spotify catalog using the keyword string and type of item specified."
   ]
  },
  {
   "cell_type": "code",
   "execution_count": null,
   "id": "7d29bd13-0cd4-4827-8b3b-6610a2d8b0e5",
   "metadata": {
    "papermill": {},
    "tags": []
   },
   "source": "def search_for_item(endpoint, query, type):\n    # Set up the parameters we want to pass to the API\n    parameters = {\"q\": query, \"type\": type}\n    # Make a get request with the parameters\n    response = requests.get(endpoint, params=parameters)\n    # Convert the response to JSON\n    data = response.json()\n    # Return the results\n    return data",
   "outputs": []
  },
  {
   "cell_type": "markdown",
   "id": "e7af3ca7-5b75-408f-a670-fc63180bf647",
   "metadata": {
    "papermill": {},
    "tags": []
   },
   "source": [
    "## Output"
   ]
  },
  {
   "cell_type": "markdown",
   "id": "27c42079-936e-4d7f-9051-eca9231352b9",
   "metadata": {
    "papermill": {},
    "tags": []
   },
   "source": [
    "### Display result"
   ]
  },
  {
   "cell_type": "code",
   "execution_count": null,
   "id": "70867d70-9688-4305-aaa4-226719cec978",
   "metadata": {
    "papermill": {},
    "tags": []
   },
   "source": "# Call the function\nresults = search_for_item(endpoint, query, type)\n# Print the results\nprint(json.dumps(results, indent=4))",
   "outputs": []
  },
  {
   "cell_type": "markdown",
   "id": "236de9c6-b93d-476a-b682-6e85e33321bd",
   "metadata": {
    "papermill": {},
    "tags": []
   },
   "source": [
    " "
   ]
  }
 ],
 "metadata": {
  "kernelspec": {
   "display_name": "Python 3",
   "language": "python",
   "name": "python3"
  },
  "language_info": {
   "codemirror_mode": {
    "name": "ipython",
    "version": 3
   },
   "file_extension": ".py",
   "mimetype": "text/x-python",
   "name": "python",
   "nbconvert_exporter": "python",
   "pygments_lexer": "ipython3",
   "version": "3.9.6"
  },
  "widgets": {
   "application/vnd.jupyter.widget-state+json": {
    "state": {},
    "version_major": 2,
    "version_minor": 0
   }
  }
 },
 "nbformat": 4,
 "nbformat_minor": 5
}