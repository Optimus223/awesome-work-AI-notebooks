{
 "cells": [
  {
   "cell_type": "markdown",
   "id": "aed3d75a-301d-4f1e-beb0-0a20ce940d10",
   "metadata": {
    "papermill": {},
    "tags": []
   },
   "source": [
    "<img width=\"10%\" alt=\"Naas\" src=\"https://landen.imgix.net/jtci2pxwjczr/assets/5ice39g4.png?w=160\"/>"
   ]
  },
  {
   "cell_type": "markdown",
   "id": "70317e11-dc09-4c9f-8986-b45ed39ab1a6",
   "metadata": {
    "papermill": {},
    "tags": []
   },
   "source": [
    "# Spotify - Search for Item"
   ]
  },
  {
   "cell_type": "markdown",
   "id": "4b285c24-f7b8-4e88-9e4a-ab48ebf91a84",
   "metadata": {
    "papermill": {},
    "tags": []
   },
   "source": [
    "**Tags:** #spotify #search #item #catalog #api #web"
   ]
  },
  {
   "cell_type": "markdown",
   "id": "3b3230f2-bbdc-4654-93c5-45c19ffdd22e",
   "metadata": {
    "papermill": {},
    "tags": []
   },
   "source": [
    "**Author:** [Alton Liew](https://www.linkedin.com/in/alton-liew-749944182/)"
   ]
  },
  {
   "cell_type": "markdown",
   "id": "adce2f77-4b0a-4683-801e-5f00a9db2fc7",
   "metadata": {
    "papermill": {},
    "tags": []
   },
   "source": [
    "**Last update:** 2023-11-24 (Created: 2023-11-24)"
   ]
  },
  {
   "cell_type": "markdown",
   "id": "ed9703c4-d088-4dc0-9266-83d981e03f67",
   "metadata": {
    "papermill": {},
    "tags": []
   },
   "source": [
    "**Description:** This notebook provides a way to get Spotify catalog information about albums, artists, playlists, tracks, shows, episodes or audiobooks that match a keyword string. It is useful for organizations to quickly search for items in the Spotify catalog."
   ]
  },
  {
   "cell_type": "markdown",
   "id": "d0788e71-8c9d-4561-a3fe-ac046cfd4ec3",
   "metadata": {
    "papermill": {},
    "tags": []
   },
   "source": [
    "**References:**\n",
    "- [Spotify Web API Reference](https://developer.spotify.com/documentation/web-api/reference/search)\n",
    "- [Spotify Developer Documentation](https://developer.spotify.com/documentation/)"
   ]
  },
  {
   "cell_type": "markdown",
   "id": "b1e5dcae-7f45-4302-acda-dbc587d569f8",
   "metadata": {
    "papermill": {},
    "tags": []
   },
   "source": [
    "## Input"
   ]
  },
  {
   "cell_type": "markdown",
   "id": "948c95ed-d7d5-4316-8dfb-707e86058ce4",
   "metadata": {
    "papermill": {},
    "tags": []
   },
   "source": [
    "### Import libraries"
   ]
  },
  {
   "cell_type": "code",
   "execution_count": 5,
   "id": "61ce8b3c-338f-4a3e-b00b-2b46310257bd",
   "metadata": {
    "execution": {
     "iopub.execute_input": "2023-11-29T09:01:17.095389Z",
     "iopub.status.busy": "2023-11-29T09:01:17.095032Z",
     "iopub.status.idle": "2023-11-29T09:01:17.100010Z",
     "shell.execute_reply": "2023-11-29T09:01:17.099397Z",
     "shell.execute_reply.started": "2023-11-29T09:01:17.095347Z"
    },
    "papermill": {},
    "tags": []
   },
   "outputs": [],
   "source": [
    "try:\n",
    "    import spotipy\n",
    "except:\n",
    "    !pip install spotipy --user\n",
    "    import spotipy\n",
    "from spotipy.oauth2 import SpotifyClientCredentials\n",
    "import naas\n",
    "from pprint import pprint"
   ]
  },
  {
   "cell_type": "markdown",
   "id": "54d8a6b8-14bc-4edb-a815-8b95a0279b91",
   "metadata": {
    "papermill": {},
    "tags": []
   },
   "source": [
    "### Setup variables\n",
    "- `endpoint`: `https://api.spotify.com/v1/search`\n",
    "- **query**: keyword string to search for\n",
    "- **type**: type of item to search for (album, artist, playlist, track, show, episode, audiobook)"
   ]
  },
  {
   "cell_type": "code",
   "execution_count": 16,
   "id": "ebce991a-2bec-4447-888d-46d322bd038d",
   "metadata": {
    "execution": {
     "iopub.execute_input": "2023-11-29T09:05:48.905075Z",
     "iopub.status.busy": "2023-11-29T09:05:48.904832Z",
     "iopub.status.idle": "2023-11-29T09:05:49.098247Z",
     "shell.execute_reply": "2023-11-29T09:05:49.097663Z",
     "shell.execute_reply.started": "2023-11-29T09:05:48.905049Z"
    },
    "papermill": {},
    "tags": []
   },
   "outputs": [],
   "source": [
    "client_id = naas.secret.get(\"SPOTIFY_CLIENT_ID\")\n",
    "client_secret = naas.secret.get(\"SPOTIFY_CLIENT_SECRET\")\n",
    "\n",
    "query = 'beyoncé'\n",
    "item_type = 'artist'\n",
    "limit = 5"
   ]
  },
  {
   "cell_type": "markdown",
   "id": "81d4b405-33de-411c-80cf-962e25d1ad61",
   "metadata": {
    "papermill": {},
    "tags": []
   },
   "source": [
    "## Model"
   ]
  },
  {
   "cell_type": "markdown",
   "id": "74d2f011-1ec0-49a7-b2d7-3b29604f6661",
   "metadata": {
    "papermill": {},
    "tags": []
   },
   "source": [
    "### Search for item"
   ]
  },
  {
   "cell_type": "markdown",
   "id": "593e1b68-7214-4376-995f-dc29c143fb3b",
   "metadata": {
    "papermill": {},
    "tags": []
   },
   "source": [
    "This function searches for an item in the Spotify catalog using the keyword string and type of item specified."
   ]
  },
  {
   "cell_type": "code",
   "execution_count": 19,
   "id": "80a3ae3c-687f-446c-898a-97b4d06f90f1",
   "metadata": {
    "execution": {
     "iopub.execute_input": "2023-11-29T09:06:28.827065Z",
     "iopub.status.busy": "2023-11-29T09:06:28.826728Z",
     "iopub.status.idle": "2023-11-29T09:06:28.941980Z",
     "shell.execute_reply": "2023-11-29T09:06:28.941348Z",
     "shell.execute_reply.started": "2023-11-29T09:06:28.827031Z"
    },
    "tags": []
   },
   "outputs": [],
   "source": [
    "sp = spotipy.Spotify(auth_manager=SpotifyClientCredentials(client_id=client_id, client_secret=client_secret))\n",
    "\n",
    "# Function to search for items on Spotify\n",
    "def search_spotify(query, item_type=item_type, limit=limit):\n",
    "    results = None\n",
    "    types_list = [\"album\", \"artist\"]\n",
    "    if item_type not in types_list:\n",
    "        print(\"Not the right type please use... \")\n",
    "    else:\n",
    "        results = sp.search(q=query, type=item_type, limit=limit)\n",
    "    return results\n",
    "\n",
    "search_results = search_spotify(query, item_type=item_type)\n",
    "# pprint(search_results)"
   ]
  },
  {
   "cell_type": "markdown",
   "id": "e7af3ca7-5b75-408f-a670-fc63180bf647",
   "metadata": {
    "papermill": {},
    "tags": []
   },
   "source": [
    "## Output"
   ]
  },
  {
   "cell_type": "markdown",
   "id": "27c42079-936e-4d7f-9051-eca9231352b9",
   "metadata": {
    "papermill": {},
    "tags": []
   },
   "source": [
    "### Display result"
   ]
  },
  {
   "cell_type": "code",
   "execution_count": 20,
   "id": "1053c714-e19e-4951-a743-9db94aa1f14c",
   "metadata": {
    "execution": {
     "iopub.execute_input": "2023-11-29T09:07:05.525484Z",
     "iopub.status.busy": "2023-11-29T09:07:05.525180Z",
     "iopub.status.idle": "2023-11-29T09:07:05.535483Z",
     "shell.execute_reply": "2023-11-29T09:07:05.534873Z",
     "shell.execute_reply.started": "2023-11-29T09:07:05.525453Z"
    },
    "tags": []
   },
   "outputs": [
    {
     "name": "stdout",
     "output_type": "stream",
     "text": [
      "Name: Beyoncé 6vWDO969PvNqNYHIOW5v0m artist\n",
      "Name: Rihanna 5pKCCKE2ajJHZ9KAiaK11H artist\n",
      "Name: Beyonce Smith 4kmn7krzlJggDr3C00SoCF artist\n",
      "Name: Beyonca 1VEj9OGutah06UP2k59pwd artist\n",
      "Name: Destiny's Child 1Y8cdNmUJH7yBTd9yOvr5i artist\n"
     ]
    }
   ],
   "source": [
    "items = search_results.get(f\"{item_type}s\").get(\"items\")\n",
    "for item in items:\n",
    "    print(\"Name:\", item.get(\"name\"), item.get(\"id\"), item.get(\"type\"))"
   ]
  },
  {
   "cell_type": "code",
   "execution_count": 4,
   "id": "70867d70-9688-4305-aaa4-226719cec978",
   "metadata": {
    "execution": {
     "iopub.execute_input": "2023-11-29T08:37:18.814515Z",
     "iopub.status.busy": "2023-11-29T08:37:18.814351Z",
     "iopub.status.idle": "2023-11-29T08:37:19.147656Z",
     "shell.execute_reply": "2023-11-29T08:37:19.146257Z",
     "shell.execute_reply.started": "2023-11-29T08:37:18.814497Z"
    },
    "papermill": {},
    "tags": []
   },
   "outputs": [
    {
     "name": "stderr",
     "output_type": "stream",
     "text": [
      "HTTP Error for GET to https://api.spotify.com/v1/search with Params: {'q': '4', 'limit': 5, 'offset': 0, 'type': 'albums', 'market': None} returned 400 due to Bad search type field albums\n"
     ]
    },
    {
     "ename": "SpotifyException",
     "evalue": "http status: 400, code:-1 - https://api.spotify.com/v1/search?q=4&limit=5&offset=0&type=albums:\n Bad search type field albums, reason: None",
     "output_type": "error",
     "traceback": [
      "\u001b[0;31m---------------------------------------------------------------------------\u001b[0m",
      "\u001b[0;31mHTTPError\u001b[0m                                 Traceback (most recent call last)",
      "\u001b[0;32m~/.local/lib/python3.9/site-packages/spotipy/client.py\u001b[0m in \u001b[0;36m_internal_call\u001b[0;34m(self, method, url, payload, params)\u001b[0m\n\u001b[1;32m    270\u001b[0m \u001b[0;34m\u001b[0m\u001b[0m\n\u001b[0;32m--> 271\u001b[0;31m             \u001b[0mresponse\u001b[0m\u001b[0;34m.\u001b[0m\u001b[0mraise_for_status\u001b[0m\u001b[0;34m(\u001b[0m\u001b[0;34m)\u001b[0m\u001b[0;34m\u001b[0m\u001b[0;34m\u001b[0m\u001b[0m\n\u001b[0m\u001b[1;32m    272\u001b[0m             \u001b[0mresults\u001b[0m \u001b[0;34m=\u001b[0m \u001b[0mresponse\u001b[0m\u001b[0;34m.\u001b[0m\u001b[0mjson\u001b[0m\u001b[0;34m(\u001b[0m\u001b[0;34m)\u001b[0m\u001b[0;34m\u001b[0m\u001b[0;34m\u001b[0m\u001b[0m\n",
      "\u001b[0;32m/opt/conda/lib/python3.9/site-packages/requests/models.py\u001b[0m in \u001b[0;36mraise_for_status\u001b[0;34m(self)\u001b[0m\n\u001b[1;32m    952\u001b[0m         \u001b[0;32mif\u001b[0m \u001b[0mhttp_error_msg\u001b[0m\u001b[0;34m:\u001b[0m\u001b[0;34m\u001b[0m\u001b[0;34m\u001b[0m\u001b[0m\n\u001b[0;32m--> 953\u001b[0;31m             \u001b[0;32mraise\u001b[0m \u001b[0mHTTPError\u001b[0m\u001b[0;34m(\u001b[0m\u001b[0mhttp_error_msg\u001b[0m\u001b[0;34m,\u001b[0m \u001b[0mresponse\u001b[0m\u001b[0;34m=\u001b[0m\u001b[0mself\u001b[0m\u001b[0;34m)\u001b[0m\u001b[0;34m\u001b[0m\u001b[0;34m\u001b[0m\u001b[0m\n\u001b[0m\u001b[1;32m    954\u001b[0m \u001b[0;34m\u001b[0m\u001b[0m\n",
      "\u001b[0;31mHTTPError\u001b[0m: 400 Client Error: Bad Request for url: https://api.spotify.com/v1/search?q=4&limit=5&offset=0&type=albums",
      "\nDuring handling of the above exception, another exception occurred:\n",
      "\u001b[0;31mSpotifyException\u001b[0m                          Traceback (most recent call last)",
      "\u001b[0;32m<ipython-input-4-033941710a33>\u001b[0m in \u001b[0;36m<module>\u001b[0;34m\u001b[0m\n\u001b[0;32m----> 1\u001b[0;31m \u001b[0msearch_results\u001b[0m \u001b[0;34m=\u001b[0m \u001b[0msearch_spotify\u001b[0m\u001b[0;34m(\u001b[0m\u001b[0mquery\u001b[0m\u001b[0;34m,\u001b[0m \u001b[0mitem_type\u001b[0m\u001b[0;34m=\u001b[0m\u001b[0mitem_type\u001b[0m\u001b[0;34m)\u001b[0m\u001b[0;34m\u001b[0m\u001b[0;34m\u001b[0m\u001b[0m\n\u001b[0m\u001b[1;32m      2\u001b[0m \u001b[0;34m\u001b[0m\u001b[0m\n\u001b[1;32m      3\u001b[0m \u001b[0;32mif\u001b[0m \u001b[0mitem_type\u001b[0m \u001b[0;34m==\u001b[0m \u001b[0;34m'artist'\u001b[0m\u001b[0;34m:\u001b[0m\u001b[0;34m\u001b[0m\u001b[0;34m\u001b[0m\u001b[0m\n\u001b[1;32m      4\u001b[0m     \u001b[0;32mfor\u001b[0m \u001b[0midx\u001b[0m\u001b[0;34m,\u001b[0m \u001b[0mitem\u001b[0m \u001b[0;32min\u001b[0m \u001b[0menumerate\u001b[0m\u001b[0;34m(\u001b[0m\u001b[0msearch_results\u001b[0m\u001b[0;34m[\u001b[0m\u001b[0;34m'artists'\u001b[0m\u001b[0;34m]\u001b[0m\u001b[0;34m[\u001b[0m\u001b[0;34m'items'\u001b[0m\u001b[0;34m]\u001b[0m\u001b[0;34m)\u001b[0m\u001b[0;34m:\u001b[0m\u001b[0;34m\u001b[0m\u001b[0;34m\u001b[0m\u001b[0m\n\u001b[1;32m      5\u001b[0m         \u001b[0mprint\u001b[0m\u001b[0;34m(\u001b[0m\u001b[0;34mf\"{idx + 1}. {item['name']} (ID: {item['id']})\"\u001b[0m\u001b[0;34m)\u001b[0m\u001b[0;34m\u001b[0m\u001b[0;34m\u001b[0m\u001b[0m\n",
      "\u001b[0;32m<ipython-input-3-d88ec2f72a82>\u001b[0m in \u001b[0;36msearch_spotify\u001b[0;34m(query, item_type, limit)\u001b[0m\n\u001b[1;32m      3\u001b[0m \u001b[0;31m# Function to search for items on Spotify\u001b[0m\u001b[0;34m\u001b[0m\u001b[0;34m\u001b[0m\u001b[0;34m\u001b[0m\u001b[0m\n\u001b[1;32m      4\u001b[0m \u001b[0;32mdef\u001b[0m \u001b[0msearch_spotify\u001b[0m\u001b[0;34m(\u001b[0m\u001b[0mquery\u001b[0m\u001b[0;34m,\u001b[0m \u001b[0mitem_type\u001b[0m\u001b[0;34m=\u001b[0m\u001b[0mitem_type\u001b[0m\u001b[0;34m,\u001b[0m \u001b[0mlimit\u001b[0m\u001b[0;34m=\u001b[0m\u001b[0mlimit\u001b[0m\u001b[0;34m)\u001b[0m\u001b[0;34m:\u001b[0m\u001b[0;34m\u001b[0m\u001b[0;34m\u001b[0m\u001b[0m\n\u001b[0;32m----> 5\u001b[0;31m     \u001b[0mresults\u001b[0m \u001b[0;34m=\u001b[0m \u001b[0msp\u001b[0m\u001b[0;34m.\u001b[0m\u001b[0msearch\u001b[0m\u001b[0;34m(\u001b[0m\u001b[0mq\u001b[0m\u001b[0;34m=\u001b[0m\u001b[0mquery\u001b[0m\u001b[0;34m,\u001b[0m \u001b[0mtype\u001b[0m\u001b[0;34m=\u001b[0m\u001b[0mitem_type\u001b[0m\u001b[0;34m,\u001b[0m \u001b[0mlimit\u001b[0m\u001b[0;34m=\u001b[0m\u001b[0mlimit\u001b[0m\u001b[0;34m)\u001b[0m\u001b[0;34m\u001b[0m\u001b[0;34m\u001b[0m\u001b[0m\n\u001b[0m\u001b[1;32m      6\u001b[0m     \u001b[0;32mreturn\u001b[0m \u001b[0mresults\u001b[0m\u001b[0;34m\u001b[0m\u001b[0;34m\u001b[0m\u001b[0m\n\u001b[1;32m      7\u001b[0m \u001b[0;34m\u001b[0m\u001b[0m\n",
      "\u001b[0;32m~/.local/lib/python3.9/site-packages/spotipy/client.py\u001b[0m in \u001b[0;36msearch\u001b[0;34m(self, q, limit, offset, type, market)\u001b[0m\n\u001b[1;32m    585\u001b[0m                            \u001b[0mfrom_token\u001b[0m\u001b[0;34m.\u001b[0m\u001b[0;34m\u001b[0m\u001b[0;34m\u001b[0m\u001b[0m\n\u001b[1;32m    586\u001b[0m         \"\"\"\n\u001b[0;32m--> 587\u001b[0;31m         return self._get(\n\u001b[0m\u001b[1;32m    588\u001b[0m             \u001b[0;34m\"search\"\u001b[0m\u001b[0;34m,\u001b[0m \u001b[0mq\u001b[0m\u001b[0;34m=\u001b[0m\u001b[0mq\u001b[0m\u001b[0;34m,\u001b[0m \u001b[0mlimit\u001b[0m\u001b[0;34m=\u001b[0m\u001b[0mlimit\u001b[0m\u001b[0;34m,\u001b[0m \u001b[0moffset\u001b[0m\u001b[0;34m=\u001b[0m\u001b[0moffset\u001b[0m\u001b[0;34m,\u001b[0m \u001b[0mtype\u001b[0m\u001b[0;34m=\u001b[0m\u001b[0mtype\u001b[0m\u001b[0;34m,\u001b[0m \u001b[0mmarket\u001b[0m\u001b[0;34m=\u001b[0m\u001b[0mmarket\u001b[0m\u001b[0;34m\u001b[0m\u001b[0;34m\u001b[0m\u001b[0m\n\u001b[1;32m    589\u001b[0m         )\n",
      "\u001b[0;32m~/.local/lib/python3.9/site-packages/spotipy/client.py\u001b[0m in \u001b[0;36m_get\u001b[0;34m(self, url, args, payload, **kwargs)\u001b[0m\n\u001b[1;32m    321\u001b[0m             \u001b[0mkwargs\u001b[0m\u001b[0;34m.\u001b[0m\u001b[0mupdate\u001b[0m\u001b[0;34m(\u001b[0m\u001b[0margs\u001b[0m\u001b[0;34m)\u001b[0m\u001b[0;34m\u001b[0m\u001b[0;34m\u001b[0m\u001b[0m\n\u001b[1;32m    322\u001b[0m \u001b[0;34m\u001b[0m\u001b[0m\n\u001b[0;32m--> 323\u001b[0;31m         \u001b[0;32mreturn\u001b[0m \u001b[0mself\u001b[0m\u001b[0;34m.\u001b[0m\u001b[0m_internal_call\u001b[0m\u001b[0;34m(\u001b[0m\u001b[0;34m\"GET\"\u001b[0m\u001b[0;34m,\u001b[0m \u001b[0murl\u001b[0m\u001b[0;34m,\u001b[0m \u001b[0mpayload\u001b[0m\u001b[0;34m,\u001b[0m \u001b[0mkwargs\u001b[0m\u001b[0;34m)\u001b[0m\u001b[0;34m\u001b[0m\u001b[0;34m\u001b[0m\u001b[0m\n\u001b[0m\u001b[1;32m    324\u001b[0m \u001b[0;34m\u001b[0m\u001b[0m\n\u001b[1;32m    325\u001b[0m     \u001b[0;32mdef\u001b[0m \u001b[0m_post\u001b[0m\u001b[0;34m(\u001b[0m\u001b[0mself\u001b[0m\u001b[0;34m,\u001b[0m \u001b[0murl\u001b[0m\u001b[0;34m,\u001b[0m \u001b[0margs\u001b[0m\u001b[0;34m=\u001b[0m\u001b[0;32mNone\u001b[0m\u001b[0;34m,\u001b[0m \u001b[0mpayload\u001b[0m\u001b[0;34m=\u001b[0m\u001b[0;32mNone\u001b[0m\u001b[0;34m,\u001b[0m \u001b[0;34m**\u001b[0m\u001b[0mkwargs\u001b[0m\u001b[0;34m)\u001b[0m\u001b[0;34m:\u001b[0m\u001b[0;34m\u001b[0m\u001b[0;34m\u001b[0m\u001b[0m\n",
      "\u001b[0;32m~/.local/lib/python3.9/site-packages/spotipy/client.py\u001b[0m in \u001b[0;36m_internal_call\u001b[0;34m(self, method, url, payload, params)\u001b[0m\n\u001b[1;32m    291\u001b[0m             )\n\u001b[1;32m    292\u001b[0m \u001b[0;34m\u001b[0m\u001b[0m\n\u001b[0;32m--> 293\u001b[0;31m             raise SpotifyException(\n\u001b[0m\u001b[1;32m    294\u001b[0m                 \u001b[0mresponse\u001b[0m\u001b[0;34m.\u001b[0m\u001b[0mstatus_code\u001b[0m\u001b[0;34m,\u001b[0m\u001b[0;34m\u001b[0m\u001b[0;34m\u001b[0m\u001b[0m\n\u001b[1;32m    295\u001b[0m                 \u001b[0;34m-\u001b[0m\u001b[0;36m1\u001b[0m\u001b[0;34m,\u001b[0m\u001b[0;34m\u001b[0m\u001b[0;34m\u001b[0m\u001b[0m\n",
      "\u001b[0;31mSpotifyException\u001b[0m: http status: 400, code:-1 - https://api.spotify.com/v1/search?q=4&limit=5&offset=0&type=albums:\n Bad search type field albums, reason: None"
     ]
    }
   ],
   "source": [
    "\n",
    "\n",
    "def get_genre(item_type, item_id, artists):\n",
    "    if artists:\n",
    "        primary_artist_id = artists[0]['id']\n",
    "        primary_artist_info = sp.artist(primary_artist_id)\n",
    "        genres = primary_artist_info.get('genres', [])\n",
    "        print(f\"Genre(s): {', '.join(genres)}\" if genres else \"Genre(s): N/A\")\n",
    "    else:\n",
    "        print(\"Genre(s): N/A\")\n",
    "\n",
    "if item_type == 'artist': \n",
    "    for idx, item in enumerate(search_results['artists']['items']):\n",
    "        print(f\"{idx + 1}. {item['name']} (ID: {item['id']})\")\n",
    "        \n",
    "elif item_type == 'track':\n",
    "    print(\"------\")\n",
    "    for idx, track in enumerate(search_results['tracks']['items'], start=1):\n",
    "        print(f\"Track {idx}: {track['name']}\")\n",
    "        print(f\"Artist(s): {', '.join([artist['name'] for artist in track['artists']])}\")\n",
    "        print(f\"Track ID: {track['id']}\")\n",
    "        get_genre(item_type, track['id'], track['artists'])\n",
    "        print(\"------\")\n",
    "\n",
    "elif item_type == 'album':\n",
    "    print(\"------\")\n",
    "    for idx, album in enumerate(search_results['albums']['items'], start=1):\n",
    "        print(f\"Album {idx}: {album['name']}\")\n",
    "        print(f\"Artist(s): {', '.join([artist['name'] for artist in album['artists']])}\")\n",
    "        print(f\"Album ID: {album['id']}\")\n",
    "        get_genre(item_type, album['id'], album['artists'])\n",
    "        print(\"------\")\n",
    "        \n",
    "elif item_type == 'playlist':\n",
    "    print(\"------\")\n",
    "    for idx, playlist in enumerate(search_results['playlists']['items'], start=1):\n",
    "        print(f\"Playlist {idx}: {playlist['name']}\")\n",
    "        print(f\"Owner: {playlist['owner']['display_name']}\")\n",
    "        print(f\"Playlist ID: {playlist['id']}\")\n",
    "        print(\"------\")\n",
    "        \n",
    "elif item_type == 'show':\n",
    "    print(\"------\")\n",
    "    for idx, show in enumerate(search_results['shows']['items'], start=1):\n",
    "        print(f\"Show {idx}: {show['name']}\")\n",
    "        print(f\"Publisher: {show['publisher']}\")\n",
    "        print(f\"Show ID: {show['id']}\")\n",
    "        print(\"------\")\n",
    "    \n",
    "elif item_type == 'episode':\n",
    "    print(\"------\")\n",
    "    for idx, episode in enumerate(search_results['episodes']['items'], start=1):\n",
    "        print(f\"Episode {idx}: {episode['name']}\")\n",
    "        print(f\"Show: {episode['show']['name']}\")\n",
    "        print(f\"Episode ID: {episode['id']}\")\n",
    "        print(\"------\")\n",
    "    \n",
    "elif item_type == 'audiobook':\n",
    "    print(\"------\")"
   ]
  },
  {
   "cell_type": "code",
   "execution_count": null,
   "id": "4f8ae905-8248-4707-8b9c-83e764f7dea7",
   "metadata": {
    "execution": {
     "iopub.status.busy": "2023-11-29T08:37:19.148921Z",
     "iopub.status.idle": "2023-11-29T08:37:19.149328Z",
     "shell.execute_reply": "2023-11-29T08:37:19.149148Z"
    },
    "tags": []
   },
   "outputs": [],
   "source": [
    "search_results.get(item_type)"
   ]
  },
  {
   "cell_type": "markdown",
   "id": "236de9c6-b93d-476a-b682-6e85e33321bd",
   "metadata": {
    "papermill": {},
    "tags": []
   },
   "source": [
    " "
   ]
  },
  {
   "cell_type": "code",
   "execution_count": null,
   "id": "bdfdbdb7-f9be-451c-8a1b-8223862f9a2b",
   "metadata": {
    "execution": {
     "iopub.status.busy": "2023-11-29T08:37:19.150501Z",
     "iopub.status.idle": "2023-11-29T08:37:19.150916Z",
     "shell.execute_reply": "2023-11-29T08:37:19.150679Z"
    },
    "tags": []
   },
   "outputs": [],
   "source": [
    "from pprint import pprint\n",
    "pprint(search_results)"
   ]
  },
  {
   "cell_type": "code",
   "execution_count": null,
   "id": "121cd687-2e94-4ce7-9705-877e1d61df6a",
   "metadata": {},
   "outputs": [],
   "source": []
  }
 ],
 "metadata": {
  "kernelspec": {
   "display_name": "Python 3",
   "language": "python",
   "name": "python3"
  },
  "language_info": {
   "codemirror_mode": {
    "name": "ipython",
    "version": 3
   },
   "file_extension": ".py",
   "mimetype": "text/x-python",
   "name": "python",
   "nbconvert_exporter": "python",
   "pygments_lexer": "ipython3",
   "version": "3.9.6"
  },
  "widgets": {
   "application/vnd.jupyter.widget-state+json": {
    "state": {},
    "version_major": 2,
    "version_minor": 0
   }
  }
 },
 "nbformat": 4,
 "nbformat_minor": 5
}
