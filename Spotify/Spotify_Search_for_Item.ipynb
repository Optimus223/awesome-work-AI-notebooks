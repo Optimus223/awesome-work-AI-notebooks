{
 "cells": [
  {
   "cell_type": "markdown",
   "id": "aed3d75a-301d-4f1e-beb0-0a20ce940d10",
   "metadata": {
    "papermill": {},
    "tags": []
   },
   "source": [
    "<img width=\"10%\" alt=\"Naas\" src=\"https://landen.imgix.net/jtci2pxwjczr/assets/5ice39g4.png?w=160\"/>"
   ]
  },
  {
   "cell_type": "markdown",
   "id": "70317e11-dc09-4c9f-8986-b45ed39ab1a6",
   "metadata": {
    "papermill": {},
    "tags": []
   },
   "source": [
    "# Spotify - Search for Item"
   ]
  },
  {
   "cell_type": "markdown",
   "id": "4b285c24-f7b8-4e88-9e4a-ab48ebf91a84",
   "metadata": {
    "papermill": {},
    "tags": []
   },
   "source": [
    "**Tags:** #spotify #search #item #catalog #api #web"
   ]
  },
  {
   "cell_type": "markdown",
   "id": "3b3230f2-bbdc-4654-93c5-45c19ffdd22e",
   "metadata": {
    "papermill": {},
    "tags": []
   },
   "source": [
    "**Author:** [Alton Liew](https://www.linkedin.com/in/alton-liew-749944182/)"
   ]
  },
  {
   "cell_type": "markdown",
   "id": "adce2f77-4b0a-4683-801e-5f00a9db2fc7",
   "metadata": {
    "papermill": {},
    "tags": []
   },
   "source": [
    "**Last update:** 2023-11-24 (Created: 2023-11-24)"
   ]
  },
  {
   "cell_type": "markdown",
   "id": "ed9703c4-d088-4dc0-9266-83d981e03f67",
   "metadata": {
    "papermill": {},
    "tags": []
   },
   "source": [
    "**Description:** This notebook provides a way to get Spotify catalog information about albums, artists, playlists, tracks, shows, episodes or audiobooks that match a keyword string. It is useful for organizations to quickly search for items in the Spotify catalog."
   ]
  },
  {
   "cell_type": "markdown",
   "id": "d0788e71-8c9d-4561-a3fe-ac046cfd4ec3",
   "metadata": {
    "papermill": {},
    "tags": []
   },
   "source": [
    "**References:**\n",
    "- [Spotify Web API Reference](https://developer.spotify.com/documentation/web-api/reference/search)\n",
    "- [Spotify Developer Documentation](https://developer.spotify.com/documentation/)"
   ]
  },
  {
   "cell_type": "markdown",
   "id": "b1e5dcae-7f45-4302-acda-dbc587d569f8",
   "metadata": {
    "papermill": {},
    "tags": []
   },
   "source": [
    "## Input"
   ]
  },
  {
   "cell_type": "markdown",
   "id": "948c95ed-d7d5-4316-8dfb-707e86058ce4",
   "metadata": {
    "papermill": {},
    "tags": []
   },
   "source": [
    "### Import libraries"
   ]
  },
  {
   "cell_type": "code",
   "execution_count": 1,
   "id": "61ce8b3c-338f-4a3e-b00b-2b46310257bd",
   "metadata": {
    "execution": {
     "iopub.execute_input": "2023-12-01T09:04:52.299077Z",
     "iopub.status.busy": "2023-12-01T09:04:52.298624Z",
     "iopub.status.idle": "2023-12-01T09:04:54.306561Z",
     "shell.execute_reply": "2023-12-01T09:04:54.305560Z",
     "shell.execute_reply.started": "2023-12-01T09:04:52.298997Z"
    },
    "papermill": {},
    "tags": []
   },
   "outputs": [],
   "source": [
    "try:\n",
    "    import spotipy\n",
    "except:\n",
    "    !pip install spotipy --user\n",
    "    import spotipy\n",
    "from spotipy.oauth2 import SpotifyClientCredentials\n",
    "import naas\n",
    "from pprint import pprint"
   ]
  },
  {
   "cell_type": "markdown",
   "id": "54d8a6b8-14bc-4edb-a815-8b95a0279b91",
   "metadata": {
    "papermill": {},
    "tags": []
   },
   "source": [
    "### Setup variables\n",
    "- **client_id**: Client ID from (https://developer.spotify.com/documentation/web-api)\n",
    "- **client_secret**: Client secret from (https://developer.spotify.com/documentation/web-api)\n",
    "- **query**: Your search query\n",
    "- **type**: Type of item to search for (album, artist, playlist, track, show, episode, audiobook)\n",
    "- **limit**: the max number of results you want to receive"
   ]
  },
  {
   "cell_type": "code",
   "execution_count": 2,
   "id": "ebce991a-2bec-4447-888d-46d322bd038d",
   "metadata": {
    "execution": {
     "iopub.execute_input": "2023-12-01T09:04:54.309468Z",
     "iopub.status.busy": "2023-12-01T09:04:54.308902Z",
     "iopub.status.idle": "2023-12-01T09:04:54.537329Z",
     "shell.execute_reply": "2023-12-01T09:04:54.536549Z",
     "shell.execute_reply.started": "2023-12-01T09:04:54.309413Z"
    },
    "papermill": {},
    "tags": []
   },
   "outputs": [],
   "source": [
    "client_id = naas.secret.get(\"SPOTIFY_CLIENT_ID\")\n",
    "client_secret = naas.secret.get(\"SPOTIFY_CLIENT_SECRET\")\n",
    "\n",
    "query = 'Beyonce'\n",
    "item_type = 'artist'\n",
    "limit = 5"
   ]
  },
  {
   "cell_type": "markdown",
   "id": "81d4b405-33de-411c-80cf-962e25d1ad61",
   "metadata": {
    "papermill": {},
    "tags": []
   },
   "source": [
    "## Model"
   ]
  },
  {
   "cell_type": "markdown",
   "id": "74d2f011-1ec0-49a7-b2d7-3b29604f6661",
   "metadata": {
    "papermill": {},
    "tags": []
   },
   "source": [
    "### Search for item"
   ]
  },
  {
   "cell_type": "markdown",
   "id": "593e1b68-7214-4376-995f-dc29c143fb3b",
   "metadata": {
    "papermill": {},
    "tags": []
   },
   "source": [
    "This function searches for an item in the Spotify catalog using the keyword string and type of item specified."
   ]
  },
  {
   "cell_type": "code",
   "execution_count": 3,
   "id": "80a3ae3c-687f-446c-898a-97b4d06f90f1",
   "metadata": {
    "execution": {
     "iopub.execute_input": "2023-12-01T09:04:54.540658Z",
     "iopub.status.busy": "2023-12-01T09:04:54.540394Z",
     "iopub.status.idle": "2023-12-01T09:04:54.672234Z",
     "shell.execute_reply": "2023-12-01T09:04:54.671615Z",
     "shell.execute_reply.started": "2023-12-01T09:04:54.540625Z"
    },
    "tags": []
   },
   "outputs": [
    {
     "name": "stdout",
     "output_type": "stream",
     "text": [
      "{'artists': {'href': 'https://api.spotify.com/v1/search?query=Beyonce&type=artist&offset=0&limit=5',\n",
      "             'items': [{'external_urls': {'spotify': 'https://open.spotify.com/artist/6vWDO969PvNqNYHIOW5v0m'},\n",
      "                        'followers': {'href': None, 'total': 36520280},\n",
      "                        'genres': ['pop', 'r&b'],\n",
      "                        'href': 'https://api.spotify.com/v1/artists/6vWDO969PvNqNYHIOW5v0m',\n",
      "                        'id': '6vWDO969PvNqNYHIOW5v0m',\n",
      "                        'images': [{'height': 640,\n",
      "                                    'url': 'https://i.scdn.co/image/ab6761610000e5eb12e3f20d05a8d6cfde988715',\n",
      "                                    'width': 640},\n",
      "                                   {'height': 320,\n",
      "                                    'url': 'https://i.scdn.co/image/ab6761610000517412e3f20d05a8d6cfde988715',\n",
      "                                    'width': 320},\n",
      "                                   {'height': 160,\n",
      "                                    'url': 'https://i.scdn.co/image/ab6761610000f17812e3f20d05a8d6cfde988715',\n",
      "                                    'width': 160}],\n",
      "                        'name': 'Beyoncé',\n",
      "                        'popularity': 83,\n",
      "                        'type': 'artist',\n",
      "                        'uri': 'spotify:artist:6vWDO969PvNqNYHIOW5v0m'},\n",
      "                       {'external_urls': {'spotify': 'https://open.spotify.com/artist/5pKCCKE2ajJHZ9KAiaK11H'},\n",
      "                        'followers': {'href': None, 'total': 58852595},\n",
      "                        'genres': ['barbadian pop',\n",
      "                                   'pop',\n",
      "                                   'urban contemporary'],\n",
      "                        'href': 'https://api.spotify.com/v1/artists/5pKCCKE2ajJHZ9KAiaK11H',\n",
      "                        'id': '5pKCCKE2ajJHZ9KAiaK11H',\n",
      "                        'images': [{'height': 640,\n",
      "                                    'url': 'https://i.scdn.co/image/ab6761610000e5eb99e4fca7c0b7cb166d915789',\n",
      "                                    'width': 640},\n",
      "                                   {'height': 320,\n",
      "                                    'url': 'https://i.scdn.co/image/ab6761610000517499e4fca7c0b7cb166d915789',\n",
      "                                    'width': 320},\n",
      "                                   {'height': 160,\n",
      "                                    'url': 'https://i.scdn.co/image/ab6761610000f17899e4fca7c0b7cb166d915789',\n",
      "                                    'width': 160}],\n",
      "                        'name': 'Rihanna',\n",
      "                        'popularity': 87,\n",
      "                        'type': 'artist',\n",
      "                        'uri': 'spotify:artist:5pKCCKE2ajJHZ9KAiaK11H'},\n",
      "                       {'external_urls': {'spotify': 'https://open.spotify.com/artist/4kmn7krzlJggDr3C00SoCF'},\n",
      "                        'followers': {'href': None, 'total': 140},\n",
      "                        'genres': [],\n",
      "                        'href': 'https://api.spotify.com/v1/artists/4kmn7krzlJggDr3C00SoCF',\n",
      "                        'id': '4kmn7krzlJggDr3C00SoCF',\n",
      "                        'images': [{'height': 640,\n",
      "                                    'url': 'https://i.scdn.co/image/ab67616d0000b273be5258aab449af6d2ac3dc44',\n",
      "                                    'width': 640},\n",
      "                                   {'height': 300,\n",
      "                                    'url': 'https://i.scdn.co/image/ab67616d00001e02be5258aab449af6d2ac3dc44',\n",
      "                                    'width': 300},\n",
      "                                   {'height': 64,\n",
      "                                    'url': 'https://i.scdn.co/image/ab67616d00004851be5258aab449af6d2ac3dc44',\n",
      "                                    'width': 64}],\n",
      "                        'name': 'Beyonce Smith',\n",
      "                        'popularity': 6,\n",
      "                        'type': 'artist',\n",
      "                        'uri': 'spotify:artist:4kmn7krzlJggDr3C00SoCF'},\n",
      "                       {'external_urls': {'spotify': 'https://open.spotify.com/artist/1Y8cdNmUJH7yBTd9yOvr5i'},\n",
      "                        'followers': {'href': None, 'total': 6849921},\n",
      "                        'genres': ['dance pop',\n",
      "                                   'girl group',\n",
      "                                   'pop',\n",
      "                                   'r&b',\n",
      "                                   'urban contemporary'],\n",
      "                        'href': 'https://api.spotify.com/v1/artists/1Y8cdNmUJH7yBTd9yOvr5i',\n",
      "                        'id': '1Y8cdNmUJH7yBTd9yOvr5i',\n",
      "                        'images': [{'height': 640,\n",
      "                                    'url': 'https://i.scdn.co/image/ab6761610000e5ebf75e64532704bd6acf0b4e76',\n",
      "                                    'width': 640},\n",
      "                                   {'height': 320,\n",
      "                                    'url': 'https://i.scdn.co/image/ab67616100005174f75e64532704bd6acf0b4e76',\n",
      "                                    'width': 320},\n",
      "                                   {'height': 160,\n",
      "                                    'url': 'https://i.scdn.co/image/ab6761610000f178f75e64532704bd6acf0b4e76',\n",
      "                                    'width': 160}],\n",
      "                        'name': \"Destiny's Child\",\n",
      "                        'popularity': 69,\n",
      "                        'type': 'artist',\n",
      "                        'uri': 'spotify:artist:1Y8cdNmUJH7yBTd9yOvr5i'},\n",
      "                       {'external_urls': {'spotify': 'https://open.spotify.com/artist/3mjguRNN96bC8zvaTwHoqE'},\n",
      "                        'followers': {'href': None, 'total': 131},\n",
      "                        'genres': [],\n",
      "                        'href': 'https://api.spotify.com/v1/artists/3mjguRNN96bC8zvaTwHoqE',\n",
      "                        'id': '3mjguRNN96bC8zvaTwHoqE',\n",
      "                        'images': [],\n",
      "                        'name': 'Beyonce as Shine',\n",
      "                        'popularity': 1,\n",
      "                        'type': 'artist',\n",
      "                        'uri': 'spotify:artist:3mjguRNN96bC8zvaTwHoqE'}],\n",
      "             'limit': 5,\n",
      "             'next': 'https://api.spotify.com/v1/search?query=Beyonce&type=artist&offset=5&limit=5',\n",
      "             'offset': 0,\n",
      "             'previous': None,\n",
      "             'total': 20}}\n"
     ]
    }
   ],
   "source": [
    "sp = spotipy.Spotify(auth_manager=SpotifyClientCredentials(client_id=client_id, client_secret=client_secret))\n",
    "\n",
    "# Function to search for items on Spotify\n",
    "def search_spotify(query, item_type=item_type, limit=limit):\n",
    "    results = None\n",
    "    types_list = [\"artist\", \"album\", \"track\", \"playlist\", \"show\", \"episode\", \"audiobook\"]\n",
    "    \n",
    "    if item_type not in types_list:\n",
    "        print(\"Not the right type please use artist, album, track, playlist, show, episode, audiobook\")\n",
    "        return None\n",
    "\n",
    "    else:\n",
    "        results = sp.search(q=query, type=item_type, limit=limit)\n",
    "    return results\n",
    "\n",
    "search_results = search_spotify(query, item_type=item_type)\n",
    "pprint(search_results)"
   ]
  },
  {
   "cell_type": "markdown",
   "id": "e7af3ca7-5b75-408f-a670-fc63180bf647",
   "metadata": {
    "papermill": {},
    "tags": []
   },
   "source": [
    "## Output"
   ]
  },
  {
   "cell_type": "markdown",
   "id": "27c42079-936e-4d7f-9051-eca9231352b9",
   "metadata": {
    "papermill": {},
    "tags": []
   },
   "source": [
    "### Display result"
   ]
  },
  {
   "cell_type": "code",
   "execution_count": 4,
   "id": "1053c714-e19e-4951-a743-9db94aa1f14c",
   "metadata": {
    "execution": {
     "iopub.execute_input": "2023-12-01T09:04:54.673463Z",
     "iopub.status.busy": "2023-12-01T09:04:54.673229Z",
     "iopub.status.idle": "2023-12-01T09:04:54.682287Z",
     "shell.execute_reply": "2023-12-01T09:04:54.681744Z",
     "shell.execute_reply.started": "2023-12-01T09:04:54.673432Z"
    },
    "tags": []
   },
   "outputs": [
    {
     "name": "stdout",
     "output_type": "stream",
     "text": [
      "Name: Beyoncé\n",
      "ID: 6vWDO969PvNqNYHIOW5v0m\n",
      "Type: artist\n",
      "------\n",
      "Name: Rihanna\n",
      "ID: 5pKCCKE2ajJHZ9KAiaK11H\n",
      "Type: artist\n",
      "------\n",
      "Name: Beyonce Smith\n",
      "ID: 4kmn7krzlJggDr3C00SoCF\n",
      "Type: artist\n",
      "------\n",
      "Name: Destiny's Child\n",
      "ID: 1Y8cdNmUJH7yBTd9yOvr5i\n",
      "Type: artist\n",
      "------\n",
      "Name: Beyonce as Shine\n",
      "ID: 3mjguRNN96bC8zvaTwHoqE\n",
      "Type: artist\n",
      "------\n"
     ]
    }
   ],
   "source": [
    "items = search_results.get(f\"{item_type}s\").get(\"items\")\n",
    "for item in items:\n",
    "    if item:\n",
    "        print(\"Name:\", item.get(\"name\"))\n",
    "        print(\"ID:\", item.get(\"id\"))\n",
    "        print(\"Type:\", item.get(\"type\"))\n",
    "        print(\"------\")"
   ]
  }
 ],
 "metadata": {
  "kernelspec": {
   "display_name": "Python 3",
   "language": "python",
   "name": "python3"
  },
  "language_info": {
   "codemirror_mode": {
    "name": "ipython",
    "version": 3
   },
   "file_extension": ".py",
   "mimetype": "text/x-python",
   "name": "python",
   "nbconvert_exporter": "python",
   "pygments_lexer": "ipython3",
   "version": "3.9.6"
  },
  "widgets": {
   "application/vnd.jupyter.widget-state+json": {
    "state": {},
    "version_major": 2,
    "version_minor": 0
   }
  }
 },
 "nbformat": 4,
 "nbformat_minor": 5
}
