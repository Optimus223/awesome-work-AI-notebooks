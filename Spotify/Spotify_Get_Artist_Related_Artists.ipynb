{
 "cells": [
  {
   "cell_type": "markdown",
   "id": "4ce5565e-ec05-48c0-8754-eb7f1ce166fc",
   "metadata": {},
   "source": [
    "<img width=\"8%\" alt=\"Spotify.png\" src=\"https://raw.githubusercontent.com/jupyter-naas/awesome-notebooks/master/.github/assets/logos/Spotify.png\" style=\"border-radius: 15%\">"
   ]
  },
  {
   "cell_type": "markdown",
   "id": "4a392918-7695-463e-97f2-68d0df2341d4",
   "metadata": {},
   "source": [
    "# Spotify - Get Artist's Related Artists\n",
    "<a href=\"https://app.naas.ai/user-redirect/naas/downloader?url=https://raw.githubusercontent.com/jupyter-naas/awesome-notebooks/master/Spotify/Spotify_Get_Artist_Related_Artists.ipynb\" target=\"_parent\"><img src=\"https://naasai-public.s3.eu-west-3.amazonaws.com/Open_in_Naas_Lab.svg\"/></a><br><br><a href=\"https://bit.ly/3JyWIk6\">Give Feedback</a> | <a href=\"https://github.com/jupyter-naas/awesome-notebooks/issues/new?assignees=&labels=bug&template=bug_report.md&title=Spotify+-+Get+Artist+Related+Artists:+Error+short+description\">Bug report</a>"
   ]
  },
  {
   "cell_type": "markdown",
   "id": "047095c6-636d-43d7-a50b-d7e285d0dc01",
   "metadata": {},
   "source": [
    "**Tags:** #spotify #api #getartistrelatedartists #webapi #reference #uniqueid #snippet"
   ]
  },
  {
   "cell_type": "markdown",
   "id": "aa6acea3-0db6-4843-a43b-44f926d68957",
   "metadata": {
    "execution": {
     "iopub.execute_input": "2023-12-10T07:30:10.250344Z",
     "iopub.status.busy": "2023-12-10T07:30:10.249969Z",
     "iopub.status.idle": "2023-12-10T07:30:10.302347Z",
     "shell.execute_reply": "2023-12-10T07:30:10.300248Z",
     "shell.execute_reply.started": "2023-12-10T07:30:10.250248Z"
    }
   },
   "source": [
    "**Author:** [Alton Liew](https://www.linkedin.com/in/alton-liew-749944182/)"
   ]
  },
  {
   "cell_type": "markdown",
   "id": "b16aec22-53a4-4aca-841e-3042a0194d7c",
   "metadata": {},
   "source": [
    "**Last update:** 2023-12-10 (Created: 2023-12-10)"
   ]
  },
  {
   "cell_type": "markdown",
   "id": "5cad4eb3-1f8d-4dd8-9928-0897a60b556e",
   "metadata": {},
   "source": [
    "**Description:** This notebook retrieves a list of artist that are similar to provided artist."
   ]
  },
  {
   "cell_type": "markdown",
   "id": "6abd081c-132c-40b2-bbb3-9275c4f30a7c",
   "metadata": {},
   "source": [
    "**References:**\n",
    "- [Spotify Web API Reference - Get an Artist's related artists](https://developer.spotify.com/documentation/web-api/reference/get-an-artists-related-artists)\n",
    "- [Spotify Developer Documentation](https://developer.spotify.com/documentation/)"
   ]
  },
  {
   "cell_type": "markdown",
   "id": "9fb1e4f1-d719-4b14-9bde-882748fb5481",
   "metadata": {},
   "source": [
    "## Input"
   ]
  },
  {
   "cell_type": "markdown",
   "id": "fa22dd0c-a4ab-4aaf-9073-cf773d1eacf7",
   "metadata": {},
   "source": [
    "### Import libraries"
   ]
  },
  {
   "cell_type": "code",
   "execution_count": 1,
   "id": "91495783-ad36-47ca-8172-edcf489cf61b",
   "metadata": {
    "execution": {
     "iopub.execute_input": "2023-12-10T08:11:31.196493Z",
     "iopub.status.busy": "2023-12-10T08:11:31.196228Z",
     "iopub.status.idle": "2023-12-10T08:11:34.206850Z",
     "shell.execute_reply": "2023-12-10T08:11:34.206142Z",
     "shell.execute_reply.started": "2023-12-10T08:11:31.196420Z"
    }
   },
   "outputs": [],
   "source": [
    "try:\n",
    "    import spotipy\n",
    "except:\n",
    "    !pip install spotipy --user\n",
    "    import spotipy\n",
    "from spotipy.oauth2 import SpotifyClientCredentials\n",
    "import naas\n",
    "from IPython.display import Image, display"
   ]
  },
  {
   "cell_type": "markdown",
   "id": "6c3174ea-53d6-43aa-81ad-9e2dde1c9aba",
   "metadata": {},
   "source": [
    "### Setup variables\n",
    "- `client_id`: Your Spotify API client ID. [Get your client ID](https://developer.spotify.com/documentation/general/guides/app-settings/#register-your-app)\n",
    "- `client_secret`: Your Spotify API client secret. [Get your client secret](https://developer.spotify.com/documentation/general/guides/app-settings/#register-your-app)\n",
    "- `artist_id`: The unique Spotify ID for the artist. [Find the artist ID](https://developer.spotify.com/console/get-artist/)"
   ]
  },
  {
   "cell_type": "code",
   "execution_count": 2,
   "id": "d8d55de6-3070-418a-a695-3f7d7402c484",
   "metadata": {
    "execution": {
     "iopub.execute_input": "2023-12-10T08:11:34.209772Z",
     "iopub.status.busy": "2023-12-10T08:11:34.209588Z",
     "iopub.status.idle": "2023-12-10T08:11:34.214002Z",
     "shell.execute_reply": "2023-12-10T08:11:34.213492Z",
     "shell.execute_reply.started": "2023-12-10T08:11:34.209750Z"
    },
    "tags": []
   },
   "outputs": [],
   "source": [
    "client_id = \"YOUR_SPOTIFY_CLIENT_ID\"\n",
    "client_secret = \"YOUR_SPOTIFY_CLIENT_SECRET\"\n",
    "artist_id = \"6vWDO969PvNqNYHIOW5v0m\" #beyonce"
   ]
  },
  {
   "cell_type": "markdown",
   "id": "334c2fd3-5f2a-4000-8f5f-885cf2749d51",
   "metadata": {},
   "source": [
    "## Model"
   ]
  },
  {
   "cell_type": "markdown",
   "id": "b49f27fc-c429-47c2-b81f-df26c442a835",
   "metadata": {},
   "source": [
    "### Get related artist"
   ]
  },
  {
   "cell_type": "markdown",
   "id": "d27ce488-17b3-4cfb-91e8-809f7f24b49e",
   "metadata": {},
   "source": [
    "* Retrieve related artists on a single artist identified by their unique Spotify ID.\n",
    "* Sets up client with client id and client secret using spotipy library and fetches information.\n",
    "* Calls the function and passes in the client ID, secret, and artist ID as parameters."
   ]
  },
  {
   "cell_type": "code",
   "execution_count": 7,
   "id": "43ac681c-1b9d-4563-99fe-7cd6be38ecb1",
   "metadata": {
    "execution": {
     "iopub.execute_input": "2023-12-10T08:15:33.253408Z",
     "iopub.status.busy": "2023-12-10T08:15:33.253087Z",
     "iopub.status.idle": "2023-12-10T08:15:33.590225Z",
     "shell.execute_reply": "2023-12-10T08:15:33.589465Z",
     "shell.execute_reply.started": "2023-12-10T08:15:33.253371Z"
    },
    "tags": []
   },
   "outputs": [
    {
     "data": {
      "text/plain": [
       "[{'external_urls': {'spotify': 'https://open.spotify.com/artist/1Y8cdNmUJH7yBTd9yOvr5i'},\n",
       "  'followers': {'href': None, 'total': 6883525},\n",
       "  'genres': ['dance pop', 'girl group', 'pop', 'r&b', 'urban contemporary'],\n",
       "  'href': 'https://api.spotify.com/v1/artists/1Y8cdNmUJH7yBTd9yOvr5i',\n",
       "  'id': '1Y8cdNmUJH7yBTd9yOvr5i',\n",
       "  'images': [{'height': 640,\n",
       "    'url': 'https://i.scdn.co/image/ab6761610000e5ebf75e64532704bd6acf0b4e76',\n",
       "    'width': 640},\n",
       "   {'height': 320,\n",
       "    'url': 'https://i.scdn.co/image/ab67616100005174f75e64532704bd6acf0b4e76',\n",
       "    'width': 320},\n",
       "   {'height': 160,\n",
       "    'url': 'https://i.scdn.co/image/ab6761610000f178f75e64532704bd6acf0b4e76',\n",
       "    'width': 160}],\n",
       "  'name': \"Destiny's Child\",\n",
       "  'popularity': 70,\n",
       "  'type': 'artist',\n",
       "  'uri': 'spotify:artist:1Y8cdNmUJH7yBTd9yOvr5i'},\n",
       " {'external_urls': {'spotify': 'https://open.spotify.com/artist/3DiDSECUqqY1AuBP8qtaIa'},\n",
       "  'followers': {'href': None, 'total': 11328255},\n",
       "  'genres': ['neo soul', 'pop', 'r&b'],\n",
       "  'href': 'https://api.spotify.com/v1/artists/3DiDSECUqqY1AuBP8qtaIa',\n",
       "  'id': '3DiDSECUqqY1AuBP8qtaIa',\n",
       "  'images': [{'height': 640,\n",
       "    'url': 'https://i.scdn.co/image/ab6761610000e5ebebfd16a3bca87c31c1e20576',\n",
       "    'width': 640},\n",
       "   {'height': 320,\n",
       "    'url': 'https://i.scdn.co/image/ab67616100005174ebfd16a3bca87c31c1e20576',\n",
       "    'width': 320},\n",
       "   {'height': 160,\n",
       "    'url': 'https://i.scdn.co/image/ab6761610000f178ebfd16a3bca87c31c1e20576',\n",
       "    'width': 160}],\n",
       "  'name': 'Alicia Keys',\n",
       "  'popularity': 75,\n",
       "  'type': 'artist',\n",
       "  'uri': 'spotify:artist:3DiDSECUqqY1AuBP8qtaIa'},\n",
       " {'external_urls': {'spotify': 'https://open.spotify.com/artist/2DlGxzQSjYe5N6G9nkYghR'},\n",
       "  'followers': {'href': None, 'total': 12651018},\n",
       "  'genres': ['dance pop', 'pop', 'urban contemporary'],\n",
       "  'href': 'https://api.spotify.com/v1/artists/2DlGxzQSjYe5N6G9nkYghR',\n",
       "  'id': '2DlGxzQSjYe5N6G9nkYghR',\n",
       "  'images': [{'height': 640,\n",
       "    'url': 'https://i.scdn.co/image/ab6761610000e5ebaa483617f45b0652c0dbc238',\n",
       "    'width': 640},\n",
       "   {'height': 320,\n",
       "    'url': 'https://i.scdn.co/image/ab67616100005174aa483617f45b0652c0dbc238',\n",
       "    'width': 320},\n",
       "   {'height': 160,\n",
       "    'url': 'https://i.scdn.co/image/ab6761610000f178aa483617f45b0652c0dbc238',\n",
       "    'width': 160}],\n",
       "  'name': 'Jennifer Lopez',\n",
       "  'popularity': 72,\n",
       "  'type': 'artist',\n",
       "  'uri': 'spotify:artist:2DlGxzQSjYe5N6G9nkYghR'},\n",
       " {'external_urls': {'spotify': 'https://open.spotify.com/artist/5pKCCKE2ajJHZ9KAiaK11H'},\n",
       "  'followers': {'href': None, 'total': 59104219},\n",
       "  'genres': ['barbadian pop', 'pop', 'urban contemporary'],\n",
       "  'href': 'https://api.spotify.com/v1/artists/5pKCCKE2ajJHZ9KAiaK11H',\n",
       "  'id': '5pKCCKE2ajJHZ9KAiaK11H',\n",
       "  'images': [{'height': 640,\n",
       "    'url': 'https://i.scdn.co/image/ab6761610000e5eb99e4fca7c0b7cb166d915789',\n",
       "    'width': 640},\n",
       "   {'height': 320,\n",
       "    'url': 'https://i.scdn.co/image/ab6761610000517499e4fca7c0b7cb166d915789',\n",
       "    'width': 320},\n",
       "   {'height': 160,\n",
       "    'url': 'https://i.scdn.co/image/ab6761610000f17899e4fca7c0b7cb166d915789',\n",
       "    'width': 160}],\n",
       "  'name': 'Rihanna',\n",
       "  'popularity': 88,\n",
       "  'type': 'artist',\n",
       "  'uri': 'spotify:artist:5pKCCKE2ajJHZ9KAiaK11H'},\n",
       " {'external_urls': {'spotify': 'https://open.spotify.com/artist/0hCNtLu0JehylgoiP8L4Gh'},\n",
       "  'followers': {'href': None, 'total': 30452574},\n",
       "  'genres': ['hip pop', 'pop', 'queens hip hop', 'rap'],\n",
       "  'href': 'https://api.spotify.com/v1/artists/0hCNtLu0JehylgoiP8L4Gh',\n",
       "  'id': '0hCNtLu0JehylgoiP8L4Gh',\n",
       "  'images': [{'height': 640,\n",
       "    'url': 'https://i.scdn.co/image/ab6761610000e5eb07a50f0a9a8f11e5a1102cbd',\n",
       "    'width': 640},\n",
       "   {'height': 320,\n",
       "    'url': 'https://i.scdn.co/image/ab6761610000517407a50f0a9a8f11e5a1102cbd',\n",
       "    'width': 320},\n",
       "   {'height': 160,\n",
       "    'url': 'https://i.scdn.co/image/ab6761610000f17807a50f0a9a8f11e5a1102cbd',\n",
       "    'width': 160}],\n",
       "  'name': 'Nicki Minaj',\n",
       "  'popularity': 85,\n",
       "  'type': 'artist',\n",
       "  'uri': 'spotify:artist:0hCNtLu0JehylgoiP8L4Gh'},\n",
       " {'external_urls': {'spotify': 'https://open.spotify.com/artist/2NdeV5rLm47xAvogXrYhJX'},\n",
       "  'followers': {'href': None, 'total': 6439391},\n",
       "  'genres': ['dance pop', 'hip pop', 'pop', 'r&b', 'urban contemporary'],\n",
       "  'href': 'https://api.spotify.com/v1/artists/2NdeV5rLm47xAvogXrYhJX',\n",
       "  'id': '2NdeV5rLm47xAvogXrYhJX',\n",
       "  'images': [{'height': 640,\n",
       "    'url': 'https://i.scdn.co/image/ab6761610000e5eb90e3fd86189f24d3f7dcb399',\n",
       "    'width': 640},\n",
       "   {'height': 320,\n",
       "    'url': 'https://i.scdn.co/image/ab6761610000517490e3fd86189f24d3f7dcb399',\n",
       "    'width': 320},\n",
       "   {'height': 160,\n",
       "    'url': 'https://i.scdn.co/image/ab6761610000f17890e3fd86189f24d3f7dcb399',\n",
       "    'width': 160}],\n",
       "  'name': 'Ciara',\n",
       "  'popularity': 68,\n",
       "  'type': 'artist',\n",
       "  'uri': 'spotify:artist:2NdeV5rLm47xAvogXrYhJX'},\n",
       " {'external_urls': {'spotify': 'https://open.spotify.com/artist/26dSoYclwsYLMAKD3tpOr4'},\n",
       "  'followers': {'href': None, 'total': 13468065},\n",
       "  'genres': ['dance pop', 'pop'],\n",
       "  'href': 'https://api.spotify.com/v1/artists/26dSoYclwsYLMAKD3tpOr4',\n",
       "  'id': '26dSoYclwsYLMAKD3tpOr4',\n",
       "  'images': [{'height': 640,\n",
       "    'url': 'https://i.scdn.co/image/ab6761610000e5eb3a49b0a3954e460a8a76ed90',\n",
       "    'width': 640},\n",
       "   {'height': 320,\n",
       "    'url': 'https://i.scdn.co/image/ab676161000051743a49b0a3954e460a8a76ed90',\n",
       "    'width': 320},\n",
       "   {'height': 160,\n",
       "    'url': 'https://i.scdn.co/image/ab6761610000f1783a49b0a3954e460a8a76ed90',\n",
       "    'width': 160}],\n",
       "  'name': 'Britney Spears',\n",
       "  'popularity': 79,\n",
       "  'type': 'artist',\n",
       "  'uri': 'spotify:artist:26dSoYclwsYLMAKD3tpOr4'},\n",
       " {'external_urls': {'spotify': 'https://open.spotify.com/artist/1l7ZsJRRS8wlW3WfJfPfNS'},\n",
       "  'followers': {'href': None, 'total': 7984108},\n",
       "  'genres': ['dance pop', 'pop'],\n",
       "  'href': 'https://api.spotify.com/v1/artists/1l7ZsJRRS8wlW3WfJfPfNS',\n",
       "  'id': '1l7ZsJRRS8wlW3WfJfPfNS',\n",
       "  'images': [{'height': 640,\n",
       "    'url': 'https://i.scdn.co/image/ab6761610000e5eb371cba21c6962a457c550b81',\n",
       "    'width': 640},\n",
       "   {'height': 320,\n",
       "    'url': 'https://i.scdn.co/image/ab67616100005174371cba21c6962a457c550b81',\n",
       "    'width': 320},\n",
       "   {'height': 160,\n",
       "    'url': 'https://i.scdn.co/image/ab6761610000f178371cba21c6962a457c550b81',\n",
       "    'width': 160}],\n",
       "  'name': 'Christina Aguilera',\n",
       "  'popularity': 75,\n",
       "  'type': 'artist',\n",
       "  'uri': 'spotify:artist:1l7ZsJRRS8wlW3WfJfPfNS'},\n",
       " {'external_urls': {'spotify': 'https://open.spotify.com/artist/4kYSro6naA4h99UJvo89HB'},\n",
       "  'followers': {'href': None, 'total': 22853366},\n",
       "  'genres': ['pop', 'rap'],\n",
       "  'href': 'https://api.spotify.com/v1/artists/4kYSro6naA4h99UJvo89HB',\n",
       "  'id': '4kYSro6naA4h99UJvo89HB',\n",
       "  'images': [{'height': 640,\n",
       "    'url': 'https://i.scdn.co/image/ab6761610000e5ebb06326b1297d8aa321832805',\n",
       "    'width': 640},\n",
       "   {'height': 320,\n",
       "    'url': 'https://i.scdn.co/image/ab67616100005174b06326b1297d8aa321832805',\n",
       "    'width': 320},\n",
       "   {'height': 160,\n",
       "    'url': 'https://i.scdn.co/image/ab6761610000f178b06326b1297d8aa321832805',\n",
       "    'width': 160}],\n",
       "  'name': 'Cardi B',\n",
       "  'popularity': 77,\n",
       "  'type': 'artist',\n",
       "  'uri': 'spotify:artist:4kYSro6naA4h99UJvo89HB'},\n",
       " {'external_urls': {'spotify': 'https://open.spotify.com/artist/31TPClRtHm23RisEBtV3X7'},\n",
       "  'followers': {'href': None, 'total': 13576844},\n",
       "  'genres': ['dance pop', 'pop'],\n",
       "  'href': 'https://api.spotify.com/v1/artists/31TPClRtHm23RisEBtV3X7',\n",
       "  'id': '31TPClRtHm23RisEBtV3X7',\n",
       "  'images': [{'height': 640,\n",
       "    'url': 'https://i.scdn.co/image/ab6761610000e5eb9d3f9efc8e0030306e583cef',\n",
       "    'width': 640},\n",
       "   {'height': 320,\n",
       "    'url': 'https://i.scdn.co/image/ab676161000051749d3f9efc8e0030306e583cef',\n",
       "    'width': 320},\n",
       "   {'height': 160,\n",
       "    'url': 'https://i.scdn.co/image/ab6761610000f1789d3f9efc8e0030306e583cef',\n",
       "    'width': 160}],\n",
       "  'name': 'Justin Timberlake',\n",
       "  'popularity': 79,\n",
       "  'type': 'artist',\n",
       "  'uri': 'spotify:artist:31TPClRtHm23RisEBtV3X7'},\n",
       " {'external_urls': {'spotify': 'https://open.spotify.com/artist/4fpTMHe34LC5t3h5ztK8qu'},\n",
       "  'followers': {'href': None, 'total': 1622889},\n",
       "  'genres': ['r&b'],\n",
       "  'href': 'https://api.spotify.com/v1/artists/4fpTMHe34LC5t3h5ztK8qu',\n",
       "  'id': '4fpTMHe34LC5t3h5ztK8qu',\n",
       "  'images': [{'height': 640,\n",
       "    'url': 'https://i.scdn.co/image/ab6761610000e5ebeb9a74db18fea9f05d5f6d5a',\n",
       "    'width': 640},\n",
       "   {'height': 320,\n",
       "    'url': 'https://i.scdn.co/image/ab67616100005174eb9a74db18fea9f05d5f6d5a',\n",
       "    'width': 320},\n",
       "   {'height': 160,\n",
       "    'url': 'https://i.scdn.co/image/ab6761610000f178eb9a74db18fea9f05d5f6d5a',\n",
       "    'width': 160}],\n",
       "  'name': 'The Carters',\n",
       "  'popularity': 52,\n",
       "  'type': 'artist',\n",
       "  'uri': 'spotify:artist:4fpTMHe34LC5t3h5ztK8qu'},\n",
       " {'external_urls': {'spotify': 'https://open.spotify.com/artist/6wPhSqRtPu1UhRCDX5yaDJ'},\n",
       "  'followers': {'href': None, 'total': 5584282},\n",
       "  'genres': ['dance pop', 'girl group', 'pop'],\n",
       "  'href': 'https://api.spotify.com/v1/artists/6wPhSqRtPu1UhRCDX5yaDJ',\n",
       "  'id': '6wPhSqRtPu1UhRCDX5yaDJ',\n",
       "  'images': [{'height': 640,\n",
       "    'url': 'https://i.scdn.co/image/ab6761610000e5eb292575f7d081016e04dff9ee',\n",
       "    'width': 640},\n",
       "   {'height': 320,\n",
       "    'url': 'https://i.scdn.co/image/ab67616100005174292575f7d081016e04dff9ee',\n",
       "    'width': 320},\n",
       "   {'height': 160,\n",
       "    'url': 'https://i.scdn.co/image/ab6761610000f178292575f7d081016e04dff9ee',\n",
       "    'width': 160}],\n",
       "  'name': 'The Pussycat Dolls',\n",
       "  'popularity': 66,\n",
       "  'type': 'artist',\n",
       "  'uri': 'spotify:artist:6wPhSqRtPu1UhRCDX5yaDJ'},\n",
       " {'external_urls': {'spotify': 'https://open.spotify.com/artist/5yG7ZAZafVaAlMTeBybKAL'},\n",
       "  'followers': {'href': None, 'total': 6543859},\n",
       "  'genres': ['australian hip hop', 'dance pop', 'pop'],\n",
       "  'href': 'https://api.spotify.com/v1/artists/5yG7ZAZafVaAlMTeBybKAL',\n",
       "  'id': '5yG7ZAZafVaAlMTeBybKAL',\n",
       "  'images': [{'height': 640,\n",
       "    'url': 'https://i.scdn.co/image/ab6761610000e5eb698a6abf2897a8fc8283cc0c',\n",
       "    'width': 640},\n",
       "   {'height': 320,\n",
       "    'url': 'https://i.scdn.co/image/ab67616100005174698a6abf2897a8fc8283cc0c',\n",
       "    'width': 320},\n",
       "   {'height': 160,\n",
       "    'url': 'https://i.scdn.co/image/ab6761610000f178698a6abf2897a8fc8283cc0c',\n",
       "    'width': 160}],\n",
       "  'name': 'Iggy Azalea',\n",
       "  'popularity': 65,\n",
       "  'type': 'artist',\n",
       "  'uri': 'spotify:artist:5yG7ZAZafVaAlMTeBybKAL'},\n",
       " {'external_urls': {'spotify': 'https://open.spotify.com/artist/181bsRPaVXVlUKXrxwZfHK'},\n",
       "  'followers': {'href': None, 'total': 8261238},\n",
       "  'genres': ['houston rap', 'pop', 'r&b', 'rap', 'trap queen'],\n",
       "  'href': 'https://api.spotify.com/v1/artists/181bsRPaVXVlUKXrxwZfHK',\n",
       "  'id': '181bsRPaVXVlUKXrxwZfHK',\n",
       "  'images': [{'height': 640,\n",
       "    'url': 'https://i.scdn.co/image/ab6761610000e5ebe489156e3cd2d327678c8467',\n",
       "    'width': 640},\n",
       "   {'height': 320,\n",
       "    'url': 'https://i.scdn.co/image/ab67616100005174e489156e3cd2d327678c8467',\n",
       "    'width': 320},\n",
       "   {'height': 160,\n",
       "    'url': 'https://i.scdn.co/image/ab6761610000f178e489156e3cd2d327678c8467',\n",
       "    'width': 160}],\n",
       "  'name': 'Megan Thee Stallion',\n",
       "  'popularity': 75,\n",
       "  'type': 'artist',\n",
       "  'uri': 'spotify:artist:181bsRPaVXVlUKXrxwZfHK'},\n",
       " {'external_urls': {'spotify': 'https://open.spotify.com/artist/23zg3TcAtWQy7J6upgbUnj'},\n",
       "  'followers': {'href': None, 'total': 10951544},\n",
       "  'genres': ['atl hip hop',\n",
       "   'contemporary r&b',\n",
       "   'dance pop',\n",
       "   'pop',\n",
       "   'r&b',\n",
       "   'rap',\n",
       "   'south carolina hip hop',\n",
       "   'urban contemporary'],\n",
       "  'href': 'https://api.spotify.com/v1/artists/23zg3TcAtWQy7J6upgbUnj',\n",
       "  'id': '23zg3TcAtWQy7J6upgbUnj',\n",
       "  'images': [{'height': 640,\n",
       "    'url': 'https://i.scdn.co/image/ab6761610000e5eb84813d8e6a3154717e618140',\n",
       "    'width': 640},\n",
       "   {'height': 320,\n",
       "    'url': 'https://i.scdn.co/image/ab6761610000517484813d8e6a3154717e618140',\n",
       "    'width': 320},\n",
       "   {'height': 160,\n",
       "    'url': 'https://i.scdn.co/image/ab6761610000f17884813d8e6a3154717e618140',\n",
       "    'width': 160}],\n",
       "  'name': 'USHER',\n",
       "  'popularity': 79,\n",
       "  'type': 'artist',\n",
       "  'uri': 'spotify:artist:23zg3TcAtWQy7J6upgbUnj'},\n",
       " {'external_urls': {'spotify': 'https://open.spotify.com/artist/3r17AfJCCUqC9Lf0OAc73G'},\n",
       "  'followers': {'href': None, 'total': 5690901},\n",
       "  'genres': ['dance pop', 'pop'],\n",
       "  'href': 'https://api.spotify.com/v1/artists/3r17AfJCCUqC9Lf0OAc73G',\n",
       "  'id': '3r17AfJCCUqC9Lf0OAc73G',\n",
       "  'images': [{'height': 640,\n",
       "    'url': 'https://i.scdn.co/image/ab6761610000e5eb1fd1c6d465e03a904d63c9b5',\n",
       "    'width': 640},\n",
       "   {'height': 320,\n",
       "    'url': 'https://i.scdn.co/image/ab676161000051741fd1c6d465e03a904d63c9b5',\n",
       "    'width': 320},\n",
       "   {'height': 160,\n",
       "    'url': 'https://i.scdn.co/image/ab6761610000f1781fd1c6d465e03a904d63c9b5',\n",
       "    'width': 160}],\n",
       "  'name': 'Fergie',\n",
       "  'popularity': 67,\n",
       "  'type': 'artist',\n",
       "  'uri': 'spotify:artist:3r17AfJCCUqC9Lf0OAc73G'},\n",
       " {'external_urls': {'spotify': 'https://open.spotify.com/artist/3AuMNF8rQAKOzjYppFNAoB'},\n",
       "  'followers': {'href': None, 'total': 3535134},\n",
       "  'genres': ['atl hip hop',\n",
       "   'dance pop',\n",
       "   'hip pop',\n",
       "   'r&b',\n",
       "   'urban contemporary'],\n",
       "  'href': 'https://api.spotify.com/v1/artists/3AuMNF8rQAKOzjYppFNAoB',\n",
       "  'id': '3AuMNF8rQAKOzjYppFNAoB',\n",
       "  'images': [{'height': 640,\n",
       "    'url': 'https://i.scdn.co/image/ab6761610000e5eb7c614a2b3cedfc53e4679c2e',\n",
       "    'width': 640},\n",
       "   {'height': 320,\n",
       "    'url': 'https://i.scdn.co/image/ab676161000051747c614a2b3cedfc53e4679c2e',\n",
       "    'width': 320},\n",
       "   {'height': 160,\n",
       "    'url': 'https://i.scdn.co/image/ab6761610000f1787c614a2b3cedfc53e4679c2e',\n",
       "    'width': 160}],\n",
       "  'name': 'Kelly Rowland',\n",
       "  'popularity': 66,\n",
       "  'type': 'artist',\n",
       "  'uri': 'spotify:artist:3AuMNF8rQAKOzjYppFNAoB'},\n",
       " {'external_urls': {'spotify': 'https://open.spotify.com/artist/0urTpYCsixqZwgNTkPJOJ4'},\n",
       "  'followers': {'href': None, 'total': 4133294},\n",
       "  'genres': ['contemporary r&b',\n",
       "   'dance pop',\n",
       "   'hip pop',\n",
       "   'r&b',\n",
       "   'urban contemporary'],\n",
       "  'href': 'https://api.spotify.com/v1/artists/0urTpYCsixqZwgNTkPJOJ4',\n",
       "  'id': '0urTpYCsixqZwgNTkPJOJ4',\n",
       "  'images': [{'height': 640,\n",
       "    'url': 'https://i.scdn.co/image/ab6761610000e5ebd2493cea701d45401cc79ffd',\n",
       "    'width': 640},\n",
       "   {'height': 320,\n",
       "    'url': 'https://i.scdn.co/image/ab67616100005174d2493cea701d45401cc79ffd',\n",
       "    'width': 320},\n",
       "   {'height': 160,\n",
       "    'url': 'https://i.scdn.co/image/ab6761610000f178d2493cea701d45401cc79ffd',\n",
       "    'width': 160}],\n",
       "  'name': 'Aaliyah',\n",
       "  'popularity': 65,\n",
       "  'type': 'artist',\n",
       "  'uri': 'spotify:artist:0urTpYCsixqZwgNTkPJOJ4'},\n",
       " {'external_urls': {'spotify': 'https://open.spotify.com/artist/2gsggkzM5R49q6jpPvazou'},\n",
       "  'followers': {'href': None, 'total': 11751443},\n",
       "  'genres': ['dance pop', 'pop'],\n",
       "  'href': 'https://api.spotify.com/v1/artists/2gsggkzM5R49q6jpPvazou',\n",
       "  'id': '2gsggkzM5R49q6jpPvazou',\n",
       "  'images': [{'height': 640,\n",
       "    'url': 'https://i.scdn.co/image/ab6761610000e5eb91f0dd753c09e051675a1ca6',\n",
       "    'width': 640},\n",
       "   {'height': 320,\n",
       "    'url': 'https://i.scdn.co/image/ab6761610000517491f0dd753c09e051675a1ca6',\n",
       "    'width': 320},\n",
       "   {'height': 160,\n",
       "    'url': 'https://i.scdn.co/image/ab6761610000f17891f0dd753c09e051675a1ca6',\n",
       "    'width': 160}],\n",
       "  'name': 'Jessie J',\n",
       "  'popularity': 69,\n",
       "  'type': 'artist',\n",
       "  'uri': 'spotify:artist:2gsggkzM5R49q6jpPvazou'},\n",
       " {'external_urls': {'spotify': 'https://open.spotify.com/artist/4iHNK0tOyZPYnBU7nGAgpQ'},\n",
       "  'followers': {'href': None, 'total': 9583324},\n",
       "  'genres': ['dance pop', 'pop', 'urban contemporary'],\n",
       "  'href': 'https://api.spotify.com/v1/artists/4iHNK0tOyZPYnBU7nGAgpQ',\n",
       "  'id': '4iHNK0tOyZPYnBU7nGAgpQ',\n",
       "  'images': [{'height': 640,\n",
       "    'url': 'https://i.scdn.co/image/ab6761610000e5eb21b66418f7f3b86967f85bce',\n",
       "    'width': 640},\n",
       "   {'height': 320,\n",
       "    'url': 'https://i.scdn.co/image/ab6761610000517421b66418f7f3b86967f85bce',\n",
       "    'width': 320},\n",
       "   {'height': 160,\n",
       "    'url': 'https://i.scdn.co/image/ab6761610000f17821b66418f7f3b86967f85bce',\n",
       "    'width': 160}],\n",
       "  'name': 'Mariah Carey',\n",
       "  'popularity': 82,\n",
       "  'type': 'artist',\n",
       "  'uri': 'spotify:artist:4iHNK0tOyZPYnBU7nGAgpQ'}]"
      ]
     },
     "execution_count": 7,
     "metadata": {},
     "output_type": "execute_result"
    }
   ],
   "source": [
    "def get_related_artists(client_id, client_secret, artist_id):\n",
    "    data = None\n",
    "    sp = spotipy.Spotify(client_credentials_manager=SpotifyClientCredentials(client_id=client_id, client_secret=client_secret))\n",
    "    try:\n",
    "        data = sp.artist_related_artists(artist_id)['artists']\n",
    "    except spotipy.SpotifyException as e:\n",
    "        print(f\"Error retrieving artist information: {e}\")\n",
    "    return data\n",
    "\n",
    "def print_related_artists(client_id, client_secret, artist_id):\n",
    "    sp = spotipy.Spotify(client_credentials_manager=SpotifyClientCredentials(client_id=client_id, client_secret=client_secret))\n",
    "    try:\n",
    "        related_artists = sp.artist_related_artists(artist_id)['artists']\n",
    "        print(f\"Related artists:\")\n",
    "        print(\"\\n\")\n",
    "        for artist in related_artists:\n",
    "            print(f\"Name: {artist['name']}\")\n",
    "            print(f\"ID: {artist['id']}\")\n",
    "            print(f\"Link: {artist['external_urls'].get('spotify')}\")\n",
    "            display(Image(url=artist['images'][0].get(\"url\"), width=300))\n",
    "            print(\"\\n\")\n",
    "    except spotipy.SpotifyException as e:\n",
    "        print(f\"Error retrieving related artists: {e}\")\n",
    "        \n",
    "data = get_related_artists(client_id, client_secret, artist_id)\n",
    "data"
   ]
  },
  {
   "cell_type": "markdown",
   "id": "3282d64a-379b-4297-a5d3-b5de05b41724",
   "metadata": {},
   "source": [
    "## Output"
   ]
  },
  {
   "cell_type": "markdown",
   "id": "582dc6fd-12e1-4892-ac1f-9ee05a86cc8e",
   "metadata": {},
   "source": [
    "### Display result"
   ]
  },
  {
   "cell_type": "markdown",
   "id": "2715a351-489b-4abe-af86-9fcc31a860ee",
   "metadata": {},
   "source": [
    "* If artist information is available, this will print the related artists, their individual ID and Spotify link."
   ]
  },
  {
   "cell_type": "code",
   "execution_count": 8,
   "id": "4f14735f-6c25-4824-ae4a-b353abfaac79",
   "metadata": {
    "execution": {
     "iopub.execute_input": "2023-12-10T08:15:35.545613Z",
     "iopub.status.busy": "2023-12-10T08:15:35.545271Z",
     "iopub.status.idle": "2023-12-10T08:15:35.827248Z",
     "shell.execute_reply": "2023-12-10T08:15:35.826678Z",
     "shell.execute_reply.started": "2023-12-10T08:15:35.545581Z"
    },
    "tags": []
   },
   "outputs": [
    {
     "name": "stdout",
     "output_type": "stream",
     "text": [
      "Related artists:\n",
      "\n",
      "\n",
      "Name: Destiny's Child\n",
      "ID: 1Y8cdNmUJH7yBTd9yOvr5i\n",
      "Link: https://open.spotify.com/artist/1Y8cdNmUJH7yBTd9yOvr5i\n"
     ]
    },
    {
     "data": {
      "text/html": [
       "<img src=\"https://i.scdn.co/image/ab6761610000e5ebf75e64532704bd6acf0b4e76\" width=\"300\"/>"
      ],
      "text/plain": [
       "<IPython.core.display.Image object>"
      ]
     },
     "metadata": {},
     "output_type": "display_data"
    },
    {
     "name": "stdout",
     "output_type": "stream",
     "text": [
      "\n",
      "\n",
      "Name: Alicia Keys\n",
      "ID: 3DiDSECUqqY1AuBP8qtaIa\n",
      "Link: https://open.spotify.com/artist/3DiDSECUqqY1AuBP8qtaIa\n"
     ]
    },
    {
     "data": {
      "text/html": [
       "<img src=\"https://i.scdn.co/image/ab6761610000e5ebebfd16a3bca87c31c1e20576\" width=\"300\"/>"
      ],
      "text/plain": [
       "<IPython.core.display.Image object>"
      ]
     },
     "metadata": {},
     "output_type": "display_data"
    },
    {
     "name": "stdout",
     "output_type": "stream",
     "text": [
      "\n",
      "\n",
      "Name: Jennifer Lopez\n",
      "ID: 2DlGxzQSjYe5N6G9nkYghR\n",
      "Link: https://open.spotify.com/artist/2DlGxzQSjYe5N6G9nkYghR\n"
     ]
    },
    {
     "data": {
      "text/html": [
       "<img src=\"https://i.scdn.co/image/ab6761610000e5ebaa483617f45b0652c0dbc238\" width=\"300\"/>"
      ],
      "text/plain": [
       "<IPython.core.display.Image object>"
      ]
     },
     "metadata": {},
     "output_type": "display_data"
    },
    {
     "name": "stdout",
     "output_type": "stream",
     "text": [
      "\n",
      "\n",
      "Name: Rihanna\n",
      "ID: 5pKCCKE2ajJHZ9KAiaK11H\n",
      "Link: https://open.spotify.com/artist/5pKCCKE2ajJHZ9KAiaK11H\n"
     ]
    },
    {
     "data": {
      "text/html": [
       "<img src=\"https://i.scdn.co/image/ab6761610000e5eb99e4fca7c0b7cb166d915789\" width=\"300\"/>"
      ],
      "text/plain": [
       "<IPython.core.display.Image object>"
      ]
     },
     "metadata": {},
     "output_type": "display_data"
    },
    {
     "name": "stdout",
     "output_type": "stream",
     "text": [
      "\n",
      "\n",
      "Name: Nicki Minaj\n",
      "ID: 0hCNtLu0JehylgoiP8L4Gh\n",
      "Link: https://open.spotify.com/artist/0hCNtLu0JehylgoiP8L4Gh\n"
     ]
    },
    {
     "data": {
      "text/html": [
       "<img src=\"https://i.scdn.co/image/ab6761610000e5eb07a50f0a9a8f11e5a1102cbd\" width=\"300\"/>"
      ],
      "text/plain": [
       "<IPython.core.display.Image object>"
      ]
     },
     "metadata": {},
     "output_type": "display_data"
    },
    {
     "name": "stdout",
     "output_type": "stream",
     "text": [
      "\n",
      "\n",
      "Name: Ciara\n",
      "ID: 2NdeV5rLm47xAvogXrYhJX\n",
      "Link: https://open.spotify.com/artist/2NdeV5rLm47xAvogXrYhJX\n"
     ]
    },
    {
     "data": {
      "text/html": [
       "<img src=\"https://i.scdn.co/image/ab6761610000e5eb90e3fd86189f24d3f7dcb399\" width=\"300\"/>"
      ],
      "text/plain": [
       "<IPython.core.display.Image object>"
      ]
     },
     "metadata": {},
     "output_type": "display_data"
    },
    {
     "name": "stdout",
     "output_type": "stream",
     "text": [
      "\n",
      "\n",
      "Name: Britney Spears\n",
      "ID: 26dSoYclwsYLMAKD3tpOr4\n",
      "Link: https://open.spotify.com/artist/26dSoYclwsYLMAKD3tpOr4\n"
     ]
    },
    {
     "data": {
      "text/html": [
       "<img src=\"https://i.scdn.co/image/ab6761610000e5eb3a49b0a3954e460a8a76ed90\" width=\"300\"/>"
      ],
      "text/plain": [
       "<IPython.core.display.Image object>"
      ]
     },
     "metadata": {},
     "output_type": "display_data"
    },
    {
     "name": "stdout",
     "output_type": "stream",
     "text": [
      "\n",
      "\n",
      "Name: Christina Aguilera\n",
      "ID: 1l7ZsJRRS8wlW3WfJfPfNS\n",
      "Link: https://open.spotify.com/artist/1l7ZsJRRS8wlW3WfJfPfNS\n"
     ]
    },
    {
     "data": {
      "text/html": [
       "<img src=\"https://i.scdn.co/image/ab6761610000e5eb371cba21c6962a457c550b81\" width=\"300\"/>"
      ],
      "text/plain": [
       "<IPython.core.display.Image object>"
      ]
     },
     "metadata": {},
     "output_type": "display_data"
    },
    {
     "name": "stdout",
     "output_type": "stream",
     "text": [
      "\n",
      "\n",
      "Name: Cardi B\n",
      "ID: 4kYSro6naA4h99UJvo89HB\n",
      "Link: https://open.spotify.com/artist/4kYSro6naA4h99UJvo89HB\n"
     ]
    },
    {
     "data": {
      "text/html": [
       "<img src=\"https://i.scdn.co/image/ab6761610000e5ebb06326b1297d8aa321832805\" width=\"300\"/>"
      ],
      "text/plain": [
       "<IPython.core.display.Image object>"
      ]
     },
     "metadata": {},
     "output_type": "display_data"
    },
    {
     "name": "stdout",
     "output_type": "stream",
     "text": [
      "\n",
      "\n",
      "Name: Justin Timberlake\n",
      "ID: 31TPClRtHm23RisEBtV3X7\n",
      "Link: https://open.spotify.com/artist/31TPClRtHm23RisEBtV3X7\n"
     ]
    },
    {
     "data": {
      "text/html": [
       "<img src=\"https://i.scdn.co/image/ab6761610000e5eb9d3f9efc8e0030306e583cef\" width=\"300\"/>"
      ],
      "text/plain": [
       "<IPython.core.display.Image object>"
      ]
     },
     "metadata": {},
     "output_type": "display_data"
    },
    {
     "name": "stdout",
     "output_type": "stream",
     "text": [
      "\n",
      "\n",
      "Name: The Carters\n",
      "ID: 4fpTMHe34LC5t3h5ztK8qu\n",
      "Link: https://open.spotify.com/artist/4fpTMHe34LC5t3h5ztK8qu\n"
     ]
    },
    {
     "data": {
      "text/html": [
       "<img src=\"https://i.scdn.co/image/ab6761610000e5ebeb9a74db18fea9f05d5f6d5a\" width=\"300\"/>"
      ],
      "text/plain": [
       "<IPython.core.display.Image object>"
      ]
     },
     "metadata": {},
     "output_type": "display_data"
    },
    {
     "name": "stdout",
     "output_type": "stream",
     "text": [
      "\n",
      "\n",
      "Name: The Pussycat Dolls\n",
      "ID: 6wPhSqRtPu1UhRCDX5yaDJ\n",
      "Link: https://open.spotify.com/artist/6wPhSqRtPu1UhRCDX5yaDJ\n"
     ]
    },
    {
     "data": {
      "text/html": [
       "<img src=\"https://i.scdn.co/image/ab6761610000e5eb292575f7d081016e04dff9ee\" width=\"300\"/>"
      ],
      "text/plain": [
       "<IPython.core.display.Image object>"
      ]
     },
     "metadata": {},
     "output_type": "display_data"
    },
    {
     "name": "stdout",
     "output_type": "stream",
     "text": [
      "\n",
      "\n",
      "Name: Iggy Azalea\n",
      "ID: 5yG7ZAZafVaAlMTeBybKAL\n",
      "Link: https://open.spotify.com/artist/5yG7ZAZafVaAlMTeBybKAL\n"
     ]
    },
    {
     "data": {
      "text/html": [
       "<img src=\"https://i.scdn.co/image/ab6761610000e5eb698a6abf2897a8fc8283cc0c\" width=\"300\"/>"
      ],
      "text/plain": [
       "<IPython.core.display.Image object>"
      ]
     },
     "metadata": {},
     "output_type": "display_data"
    },
    {
     "name": "stdout",
     "output_type": "stream",
     "text": [
      "\n",
      "\n",
      "Name: Megan Thee Stallion\n",
      "ID: 181bsRPaVXVlUKXrxwZfHK\n",
      "Link: https://open.spotify.com/artist/181bsRPaVXVlUKXrxwZfHK\n"
     ]
    },
    {
     "data": {
      "text/html": [
       "<img src=\"https://i.scdn.co/image/ab6761610000e5ebe489156e3cd2d327678c8467\" width=\"300\"/>"
      ],
      "text/plain": [
       "<IPython.core.display.Image object>"
      ]
     },
     "metadata": {},
     "output_type": "display_data"
    },
    {
     "name": "stdout",
     "output_type": "stream",
     "text": [
      "\n",
      "\n",
      "Name: USHER\n",
      "ID: 23zg3TcAtWQy7J6upgbUnj\n",
      "Link: https://open.spotify.com/artist/23zg3TcAtWQy7J6upgbUnj\n"
     ]
    },
    {
     "data": {
      "text/html": [
       "<img src=\"https://i.scdn.co/image/ab6761610000e5eb84813d8e6a3154717e618140\" width=\"300\"/>"
      ],
      "text/plain": [
       "<IPython.core.display.Image object>"
      ]
     },
     "metadata": {},
     "output_type": "display_data"
    },
    {
     "name": "stdout",
     "output_type": "stream",
     "text": [
      "\n",
      "\n",
      "Name: Fergie\n",
      "ID: 3r17AfJCCUqC9Lf0OAc73G\n",
      "Link: https://open.spotify.com/artist/3r17AfJCCUqC9Lf0OAc73G\n"
     ]
    },
    {
     "data": {
      "text/html": [
       "<img src=\"https://i.scdn.co/image/ab6761610000e5eb1fd1c6d465e03a904d63c9b5\" width=\"300\"/>"
      ],
      "text/plain": [
       "<IPython.core.display.Image object>"
      ]
     },
     "metadata": {},
     "output_type": "display_data"
    },
    {
     "name": "stdout",
     "output_type": "stream",
     "text": [
      "\n",
      "\n",
      "Name: Kelly Rowland\n",
      "ID: 3AuMNF8rQAKOzjYppFNAoB\n",
      "Link: https://open.spotify.com/artist/3AuMNF8rQAKOzjYppFNAoB\n"
     ]
    },
    {
     "data": {
      "text/html": [
       "<img src=\"https://i.scdn.co/image/ab6761610000e5eb7c614a2b3cedfc53e4679c2e\" width=\"300\"/>"
      ],
      "text/plain": [
       "<IPython.core.display.Image object>"
      ]
     },
     "metadata": {},
     "output_type": "display_data"
    },
    {
     "name": "stdout",
     "output_type": "stream",
     "text": [
      "\n",
      "\n",
      "Name: Aaliyah\n",
      "ID: 0urTpYCsixqZwgNTkPJOJ4\n",
      "Link: https://open.spotify.com/artist/0urTpYCsixqZwgNTkPJOJ4\n"
     ]
    },
    {
     "data": {
      "text/html": [
       "<img src=\"https://i.scdn.co/image/ab6761610000e5ebd2493cea701d45401cc79ffd\" width=\"300\"/>"
      ],
      "text/plain": [
       "<IPython.core.display.Image object>"
      ]
     },
     "metadata": {},
     "output_type": "display_data"
    },
    {
     "name": "stdout",
     "output_type": "stream",
     "text": [
      "\n",
      "\n",
      "Name: Jessie J\n",
      "ID: 2gsggkzM5R49q6jpPvazou\n",
      "Link: https://open.spotify.com/artist/2gsggkzM5R49q6jpPvazou\n"
     ]
    },
    {
     "data": {
      "text/html": [
       "<img src=\"https://i.scdn.co/image/ab6761610000e5eb91f0dd753c09e051675a1ca6\" width=\"300\"/>"
      ],
      "text/plain": [
       "<IPython.core.display.Image object>"
      ]
     },
     "metadata": {},
     "output_type": "display_data"
    },
    {
     "name": "stdout",
     "output_type": "stream",
     "text": [
      "\n",
      "\n",
      "Name: Mariah Carey\n",
      "ID: 4iHNK0tOyZPYnBU7nGAgpQ\n",
      "Link: https://open.spotify.com/artist/4iHNK0tOyZPYnBU7nGAgpQ\n"
     ]
    },
    {
     "data": {
      "text/html": [
       "<img src=\"https://i.scdn.co/image/ab6761610000e5eb21b66418f7f3b86967f85bce\" width=\"300\"/>"
      ],
      "text/plain": [
       "<IPython.core.display.Image object>"
      ]
     },
     "metadata": {},
     "output_type": "display_data"
    },
    {
     "name": "stdout",
     "output_type": "stream",
     "text": [
      "\n",
      "\n"
     ]
    }
   ],
   "source": [
    "if data:\n",
    "    # Print related artists\n",
    "    print_related_artists(client_id, client_secret, artist_id)\n",
    "else:\n",
    "    print(\"Failed to retrieve related artists.\")"
   ]
  },
  {
   "cell_type": "code",
   "execution_count": null,
   "id": "e7fca8ce-9e78-441c-bd30-859f912ef0db",
   "metadata": {},
   "outputs": [],
   "source": []
  }
 ],
 "metadata": {
  "kernelspec": {
   "display_name": "Python 3",
   "language": "python",
   "name": "python3"
  },
  "language_info": {
   "codemirror_mode": {
    "name": "ipython",
    "version": 3
   },
   "file_extension": ".py",
   "mimetype": "text/x-python",
   "name": "python",
   "nbconvert_exporter": "python",
   "pygments_lexer": "ipython3",
   "version": "3.9.6"
  }
 },
 "nbformat": 4,
 "nbformat_minor": 5
}
