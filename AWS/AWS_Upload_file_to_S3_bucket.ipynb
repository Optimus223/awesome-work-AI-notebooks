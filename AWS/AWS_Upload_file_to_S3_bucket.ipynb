{
 "cells": [
  {
   "cell_type": "markdown",
   "id": "saved-walter",
   "metadata": {
    "execution": {
     "iopub.execute_input": "2021-02-23T14:22:16.610471Z",
     "iopub.status.busy": "2021-02-23T14:22:16.610129Z",
     "iopub.status.idle": "2021-02-23T14:22:16.627784Z",
     "shell.execute_reply": "2021-02-23T14:22:16.626866Z",
     "shell.execute_reply.started": "2021-02-23T14:22:16.610384Z"
    },
    "papermill": {},
    "tags": []
   },
   "source": [
    "<img width=\"10%\" alt=\"Naas\" src=\"https://landen.imgix.net/jtci2pxwjczr/assets/5ice39g4.png?w=160\"/>"
   ]
  },
  {
   "cell_type": "markdown",
   "id": "developed-spell",
   "metadata": {
    "papermill": {},
    "tags": []
   },
   "source": [
    "# AWS - Upload file to S3 bucket\n",
    "<a href=\"https://app.naas.ai/user-redirect/naas/downloader?url=https://raw.githubusercontent.com/jupyter-naas/awesome-notebooks/master/AWS/AWS_Upload_file_to_S3_bucket.ipynb\" target=\"_parent\"><img src=\"https://img.shields.io/badge/-Open%20in%20Naas-success?labelColor=000000&logo=data:image/svg+xml;base64,PD94bWwgdmVyc2lvbj0iMS4wIiBlbmNvZGluZz0iVVRGLTgiPz4KPHN2ZyB3aWR0aD0iMTAyNHB4IiBoZWlnaHQ9IjEwMjRweCIgdmlld0JveD0iMCAwIDEwMjQgMTAyNCIgeG1sbnM9Imh0dHA6Ly93d3cudzMub3JnLzIwMDAvc3ZnIiB4bWxuczp4bGluaz0iaHR0cDovL3d3dy53My5vcmcvMTk5OS94bGluayIgdmVyc2lvbj0iMS4xIj4KIDwhLS0gR2VuZXJhdGVkIGJ5IFBpeGVsbWF0b3IgUHJvIDIuMC41IC0tPgogPGRlZnM+CiAgPHRleHQgaWQ9InN0cmluZyIgdHJhbnNmb3JtPSJtYXRyaXgoMS4wIDAuMCAwLjAgMS4wIDIyOC4wIDU0LjUpIiBmb250LWZhbWlseT0iQ29tZm9ydGFhLVJlZ3VsYXIsIENvbWZvcnRhYSIgZm9udC1zaXplPSI4MDAiIHRleHQtZGVjb3JhdGlvbj0ibm9uZSIgZmlsbD0iI2ZmZmZmZiIgeD0iMS4xOTk5OTk5OTk5OTk5ODg2IiB5PSI3MDUuMCI+bjwvdGV4dD4KIDwvZGVmcz4KIDx1c2UgaWQ9Im4iIHhsaW5rOmhyZWY9IiNzdHJpbmciLz4KPC9zdmc+Cg==\"/></a>"
   ]
  },
  {
   "cell_type": "markdown",
   "id": "8161e21d-e44c-4187-935e-4d3123e39c23",
   "metadata": {},
   "source": [
    "**Tags:** #aws #cloud #storage #S3bucket"
   ]
  },
  {
   "cell_type": "markdown",
   "id": "a251d5dd-5450-42fb-99a7-c1ef270a2dbe",
   "metadata": {},
   "source": [
    "## Input"
   ]
  },
  {
   "cell_type": "markdown",
   "id": "680a7984-1179-438b-818a-e30851697679",
   "metadata": {},
   "source": [
    "### Install library"
   ]
  },
  {
   "cell_type": "code",
   "execution_count": null,
   "id": "d0438778-b250-4c0b-9146-7a8e5b84748d",
   "metadata": {
    "tags": []
   },
   "outputs": [],
   "source": [
    "! pip install boto3 getpass4"
   ]
  },
  {
   "cell_type": "markdown",
   "id": "e83153e1-93c6-4355-aa02-4d9584e08161",
   "metadata": {},
   "source": [
    "### Import library"
   ]
  },
  {
   "cell_type": "code",
   "execution_count": null,
   "id": "0d9719f5-06bf-45b7-b8f8-2d27f69cfda8",
   "metadata": {
    "tags": []
   },
   "outputs": [],
   "source": [
    "import boto3"
   ]
  },
  {
   "cell_type": "markdown",
   "id": "ec8310ad-36a2-4676-a9b4-46e2e4e6b591",
   "metadata": {},
   "source": [
    "### Variables"
   ]
  },
  {
   "cell_type": "code",
   "execution_count": null,
   "id": "b260b56f-9985-477c-8a28-26abd2fe2b71",
   "metadata": {},
   "outputs": [],
   "source": [
    "ACCESS_KEY_ID = \"**********\"\n",
    "SECRET_ACCESS_KEY = \"**********\"\n",
    "\n",
    "BUCKET_NAME = \"naas-example\"\n",
    "BUCKET_OBJECT_KEY = 'naas_happy_hour.mp3'"
   ]
  },
  {
   "cell_type": "markdown",
   "id": "5b998d80-70da-43e2-868a-d7aae972dcd7",
   "metadata": {
    "execution": {
     "iopub.execute_input": "2021-10-01T09:18:40.860086Z",
     "iopub.status.busy": "2021-10-01T09:18:40.859840Z",
     "iopub.status.idle": "2021-10-01T09:18:40.862813Z",
     "shell.execute_reply": "2021-10-01T09:18:40.862176Z",
     "shell.execute_reply.started": "2021-10-01T09:18:40.860063Z"
    }
   },
   "source": [
    "## Model"
   ]
  },
  {
   "cell_type": "markdown",
   "id": "0b33c19c-d470-4a5c-ae40-6ec09a0aa044",
   "metadata": {},
   "source": [
    "### Upload file"
   ]
  },
  {
   "cell_type": "code",
   "execution_count": null,
   "id": "given-region",
   "metadata": {
    "papermill": {},
    "tags": []
   },
   "outputs": [],
   "source": [
    "s3 = boto3.client('s3', aws_access_key_id=ACCESS_KEY_ID, aws_secret_access_key=SECRET_ACCESS_KEY)\n",
    "with open('naas_happy_hour.mp3', \"rb\") as f:\n",
    "    s3.upload_fileobj(f, BUCKET_NAME, BUCKET_OBJECT_KEY)"
   ]
  },
  {
   "cell_type": "markdown",
   "id": "0e71d7bd-75ba-4889-94cf-f3e5c0b2d24c",
   "metadata": {},
   "source": [
    "## Output"
   ]
  },
  {
   "cell_type": "markdown",
   "id": "b7fc7aef-b5e7-42b9-a970-4a316c77ae84",
   "metadata": {},
   "source": [
    "### Display result"
   ]
  },
  {
   "cell_type": "code",
   "execution_count": null,
   "id": "d9cb8b19-8dfe-4a4b-b40f-0790ae7b9a78",
   "metadata": {
    "tags": []
   },
   "outputs": [],
   "source": [
    "s3"
   ]
  }
 ],
 "metadata": {
  "kernelspec": {
   "display_name": "Python 3",
   "language": "python",
   "name": "python3"
  },
  "language_info": {
   "codemirror_mode": {
    "name": "ipython",
    "version": 3
   },
   "file_extension": ".py",
   "mimetype": "text/x-python",
   "name": "python",
   "nbconvert_exporter": "python",
   "pygments_lexer": "ipython3",
   "version": "3.8.8"
  },
  "papermill": {
   "default_parameters": {},
   "environment_variables": {},
   "parameters": {},
   "version": "2.3.3"
  },
  "widgets": {
   "application/vnd.jupyter.widget-state+json": {
    "state": {},
    "version_major": 2,
    "version_minor": 0
   }
  }
 },
 "nbformat": 4,
 "nbformat_minor": 5
}
