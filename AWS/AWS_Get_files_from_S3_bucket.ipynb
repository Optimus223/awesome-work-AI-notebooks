{
 "cells": [
  {
   "cell_type": "markdown",
   "source": [
    "<img width=\"10%\" alt=\"Naas\" src=\"https://landen.imgix.net/jtci2pxwjczr/assets/5ice39g4.png?w=160\"/>"
   ],
   "metadata": {}
  },
  {
   "cell_type": "markdown",
   "source": [
    "# AWS - Get File from S3 Bucket\r\n"
   ],
   "metadata": {}
  },
  {
   "cell_type": "code",
   "execution_count": null,
   "source": [
    "#! pip install boto3 getpass4"
   ],
   "outputs": [],
   "metadata": {}
  },
  {
   "cell_type": "code",
   "execution_count": null,
   "source": [
    "import boto3\r\n",
    "\r\n",
    "ACCESS_KEY_ID = \"**********\"\r\n",
    "SECRET_ACCESS_KEY = \"**********\"\r\n",
    "\r\n",
    "BUCKET_NAME = \"naas-example\"\r\n",
    "BUCKET_OBJECT_KEY = 'naas_happy_hour.mp3'"
   ],
   "outputs": [],
   "metadata": {}
  },
  {
   "cell_type": "code",
   "execution_count": null,
   "source": [
    "s3 = boto3.client('s3', aws_access_key_id=ACCESS_KEY_ID, aws_secret_access_key=SECRET_ACCESS_KEY)"
   ],
   "outputs": [],
   "metadata": {}
  },
  {
   "cell_type": "code",
   "execution_count": null,
   "source": [
    "# Get file object from s3 bucket\r\n",
    "fileObj = s3.get_object(Bucket=bucketname, Key=filename)"
   ],
   "outputs": [],
   "metadata": {}
  },
  {
   "cell_type": "code",
   "execution_count": null,
   "source": [
    "# To generate pre-signed URL \r\n",
    "file_url = s3.generate_presigned_url(\"get_object\", Params={\"Bucket\": BUCKET_NAME, \"Key\": BUCKET_OBJECT_KEY}, ExpiresIn=604800)"
   ],
   "outputs": [],
   "metadata": {}
  }
 ],
 "metadata": {
  "orig_nbformat": 4,
  "language_info": {
   "name": "python"
  }
 },
 "nbformat": 4,
 "nbformat_minor": 2
}