{
 "cells": [
  {
   "cell_type": "markdown",
   "source": [
    "<img width=\"10%\" alt=\"Naas\" src=\"https://landen.imgix.net/jtci2pxwjczr/assets/5ice39g4.png?w=160\"/>"
   ],
   "metadata": {
    "execution": {
     "iopub.execute_input": "2021-09-14T08:04:28.994722Z",
     "iopub.status.busy": "2021-09-14T08:04:28.994452Z",
     "iopub.status.idle": "2021-09-14T08:04:29.005991Z",
     "shell.execute_reply": "2021-09-14T08:04:29.005065Z",
     "shell.execute_reply.started": "2021-09-14T08:04:28.994658Z"
    }
   }
  },
  {
   "cell_type": "markdown",
   "source": [],
   "metadata": {}
  },
  {
   "cell_type": "markdown",
   "source": [
    "# AWS - Daily Billing Notification to Slack\n",
    "<a href=\"https://app.naas.ai/user-redirect/naas/downloader?url=https://raw.githubusercontent.com/jupyter-naas/awesome-notebooks/master/AWS/AWS_Daily_biling_notification_to_slack.ipynb\" target=\"_parent\">\n",
    "<img src=\"https://img.shields.io/badge/-Open%20in%20Naas-success?labelColor=000000&logo=data:image/svg+xml;base64,PD94bWwgdmVyc2lvbj0iMS4wIiBlbmNvZGluZz0iVVRGLTgiPz4KPHN2ZyB3aWR0aD0iMTAyNHB4IiBoZWlnaHQ9IjEwMjRweCIgdmlld0JveD0iMCAwIDEwMjQgMTAyNCIgeG1sbnM9Imh0dHA6Ly93d3cudzMub3JnLzIwMDAvc3ZnIiB4bWxuczp4bGluaz0iaHR0cDovL3d3dy53My5vcmcvMTk5OS94bGluayIgdmVyc2lvbj0iMS4xIj4KIDwhLS0gR2VuZXJhdGVkIGJ5IFBpeGVsbWF0b3IgUHJvIDIuMC41IC0tPgogPGRlZnM+CiAgPHRleHQgaWQ9InN0cmluZyIgdHJhbnNmb3JtPSJtYXRyaXgoMS4wIDAuMCAwLjAgMS4wIDIyOC4wIDU0LjUpIiBmb250LWZhbWlseT0iQ29tZm9ydGFhLVJlZ3VsYXIsIENvbWZvcnRhYSIgZm9udC1zaXplPSI4MDAiIHRleHQtZGVjb3JhdGlvbj0ibm9uZSIgZmlsbD0iI2ZmZmZmZiIgeD0iMS4xOTk5OTk5OTk5OTk5ODg2IiB5PSI3MDUuMCI+bjwvdGV4dD4KIDwvZGVmcz4KIDx1c2UgaWQ9Im4iIHhsaW5rOmhyZWY9IiNzdHJpbmciLz4KPC9zdmc+Cg==\"/>\n",
    "</a>"
   ],
   "metadata": {}
  },
  {
   "cell_type": "markdown",
   "source": [
    "#AWS #Billing #Notification #Slack"
   ],
   "metadata": {
    "execution": {
     "iopub.execute_input": "2021-09-14T08:05:41.428494Z",
     "iopub.status.busy": "2021-09-14T08:05:41.428138Z",
     "iopub.status.idle": "2021-09-14T08:05:41.432127Z",
     "shell.execute_reply": "2021-09-14T08:05:41.430935Z",
     "shell.execute_reply.started": "2021-09-14T08:05:41.428433Z"
    },
    "tags": []
   }
  },
  {
   "cell_type": "markdown",
   "source": [
    "## Input"
   ],
   "metadata": {}
  },
  {
   "cell_type": "code",
   "execution_count": null,
   "source": [
    "pip install boto3"
   ],
   "outputs": [],
   "metadata": {
    "tags": []
   }
  },
  {
   "cell_type": "markdown",
   "source": [
    "### Library"
   ],
   "metadata": {}
  },
  {
   "cell_type": "code",
   "execution_count": null,
   "source": [
    "import datetime\n",
    "import boto3\n",
    "import naas\n",
    "import dateutil.relativedelta\n",
    "import pandas as pd\n",
    "import naas_drivers"
   ],
   "outputs": [],
   "metadata": {
    "tags": []
   }
  },
  {
   "cell_type": "markdown",
   "source": [
    "### Variables"
   ],
   "metadata": {}
  },
  {
   "cell_type": "code",
   "execution_count": null,
   "source": [
    "# AWS account\n",
    "AWS_ACCESS_KEY_ID = \"***\"\n",
    "AWS_SECRET_ACCESS_KEY = \"***\"\n",
    "\n",
    "# Slack\n",
    "SLACK_TOKEN = \"***\"\n",
    "SLACK_CHANNEL = \"-aws-billing\""
   ],
   "outputs": [],
   "metadata": {}
  },
  {
   "cell_type": "markdown",
   "source": [
    "### Constants"
   ],
   "metadata": {}
  },
  {
   "cell_type": "code",
   "execution_count": null,
   "source": [
    "def last_day_of_month(any_day):\n",
    "    # this will never fail\n",
    "    # get close to the end of the month for any day, and add 4 days 'over'\n",
    "    next_month = any_day.replace(day=28) + datetime.timedelta(days=4)\n",
    "    # subtract the number of remaining 'overage' days to get last day of current month, or said programattically said, the previous day of the first of next month\n",
    "    return next_month - datetime.timedelta(days=next_month.day)\n",
    "\n",
    "today = datetime.date.today()\n",
    "lastDay = last_day_of_month(today)\n",
    "start_month_date = (today - dateutil.relativedelta.relativedelta(months=12))\n",
    "\n",
    "start_date = \"{}-{:02d}-{:02d}\".format(today.year, today.month, 1)\n",
    "end_date = \"{}-{:02d}-{:02d}\".format(today.year, today.month, today.day)\n",
    "last_day = \"{}-{:02d}-{:02d}\".format(lastDay.year, lastDay.month, lastDay.day)"
   ],
   "outputs": [],
   "metadata": {
    "tags": []
   }
  },
  {
   "cell_type": "markdown",
   "source": [
    "### Connect to AWS"
   ],
   "metadata": {}
  },
  {
   "cell_type": "code",
   "execution_count": null,
   "source": [
    "client = boto3.client('ce',\n",
    "                      aws_access_key_id=AWS_ACCESS_KEY_ID,\n",
    "                      aws_secret_access_key=AWS_SECRET_ACCESS_KEY)"
   ],
   "outputs": [],
   "metadata": {}
  },
  {
   "cell_type": "markdown",
   "source": [
    "## Model"
   ],
   "metadata": {}
  },
  {
   "cell_type": "markdown",
   "source": [
    "### Get current cost from AWS billing"
   ],
   "metadata": {}
  },
  {
   "cell_type": "code",
   "execution_count": null,
   "source": [
    "result = client.get_cost_and_usage(\n",
    "    TimePeriod = {\n",
    "        'Start': start_date,\n",
    "        'End': end_date\n",
    "    },\n",
    "    Granularity = 'MONTHLY',\n",
    "    Filter = {\n",
    "        \"Dimensions\": {\n",
    "                    \"Key\": \"RECORD_TYPE\",\n",
    "                    \"Values\": [\"Credit\", \"Refund\"]\n",
    "                }\n",
    "    },\n",
    "    Metrics = [\"BlendedCost\"],\n",
    "    GroupBy = [\n",
    "        {\n",
    "            'Type': 'DIMENSION',\n",
    "            'Key': 'SERVICE'\n",
    "        },\n",
    "        {\n",
    "            'Type': 'DIMENSION',\n",
    "            'Key': 'USAGE_TYPE'\n",
    "        }\n",
    "    ]\n",
    ")"
   ],
   "outputs": [],
   "metadata": {
    "tags": []
   }
  },
  {
   "cell_type": "markdown",
   "source": [
    "### Transform current billing to dataframe"
   ],
   "metadata": {}
  },
  {
   "cell_type": "code",
   "execution_count": null,
   "source": [
    "df_billing = pd.DataFrame()\n",
    "\n",
    "for t in result[\"ResultsByTime\"]:\n",
    "    for r in t[\"Groups\"]:\n",
    "        dimension = r[\"Keys\"][0]\n",
    "        usage_type = r[\"Keys\"][1]\n",
    "        amount = r[\"Metrics\"][\"BlendedCost\"][\"Amount\"]\n",
    "        period_start = t[\"TimePeriod\"][\"Start\"]\n",
    "        period_end = t[\"TimePeriod\"][\"End\"]\n",
    "        df_billing = df_billing.append({\n",
    "            \"Dimension\": dimension,\n",
    "            \"UsageType\": usage_type,\n",
    "            \"Amount\": amount,\n",
    "            \"PeriodStart\": period_start,\n",
    "            \"PeriodEnd\": period_end\n",
    "        }, ignore_index=True)\n",
    "df_billing = df_billing.astype({'Amount': 'float'})\n",
    "\n",
    "# Display result\n",
    "df_billing.tail(5)"
   ],
   "outputs": [],
   "metadata": {
    "tags": []
   }
  },
  {
   "cell_type": "markdown",
   "source": [
    "### Get forecast from AWS"
   ],
   "metadata": {}
  },
  {
   "cell_type": "code",
   "execution_count": null,
   "source": [
    "ce_forecast = client.get_cost_forecast(\n",
    "    TimePeriod={\n",
    "        'Start': end_date,\n",
    "        'End': last_day\n",
    "    },\n",
    "    Metric='BLENDED_COST',\n",
    "    Granularity='MONTHLY'\n",
    ")"
   ],
   "outputs": [],
   "metadata": {
    "tags": []
   }
  },
  {
   "cell_type": "markdown",
   "source": [
    "## Output"
   ],
   "metadata": {
    "execution": {
     "iopub.execute_input": "2021-06-15T17:13:04.069988Z",
     "iopub.status.busy": "2021-06-15T17:13:04.069748Z",
     "iopub.status.idle": "2021-06-15T17:13:04.092911Z",
     "shell.execute_reply": "2021-06-15T17:13:04.091872Z",
     "shell.execute_reply.started": "2021-06-15T17:13:04.069964Z"
    },
    "tags": []
   }
  },
  {
   "cell_type": "markdown",
   "source": [
    "### Save current billing to csv"
   ],
   "metadata": {}
  },
  {
   "cell_type": "code",
   "execution_count": null,
   "source": [
    "df_billing.to_csv('monthly.csv')\n",
    "naas.asset.add(path='monthly.csv')"
   ],
   "outputs": [],
   "metadata": {}
  },
  {
   "cell_type": "markdown",
   "source": [
    "### Data from AWS billing"
   ],
   "metadata": {}
  },
  {
   "cell_type": "code",
   "execution_count": null,
   "source": [
    "current_amount = df_billing[\"Amount\"].sum()\n",
    "forecast = float(ce_forecast[\"Total\"][\"Amount\"])\n",
    "asset_link = \"<Copy/Paste the asset link from the previous cell 👆>\""
   ],
   "outputs": [],
   "metadata": {}
  },
  {
   "cell_type": "markdown",
   "source": [
    "### Create message for slack"
   ],
   "metadata": {}
  },
  {
   "cell_type": "code",
   "execution_count": null,
   "source": [
    "message = \"\"\"\n",
    "👋 Daily AWS Billing notification\n",
    "\n",
    "Current spending: [*{:.2f}$*]\n",
    "Forecast: [*{:.2f}$*]\n",
    "End of month estimate: [*{:.2f}$*]\n",
    "\n",
    "You can download the details here 👇 {}\n",
    "\"\"\".format(float(current_amount), float(forecast), float(current_amount - forecast), asset_link)\n",
    "image_url = None # Set to None if you don't need it\n",
    "print(message)"
   ],
   "outputs": [],
   "metadata": {
    "tags": []
   }
  },
  {
   "cell_type": "markdown",
   "source": [
    "### Send data to slack"
   ],
   "metadata": {
    "tags": []
   }
  },
  {
   "cell_type": "code",
   "execution_count": null,
   "source": [
    "try:\n",
    "    naas_drivers.slack.connect(SLACK_TOKEN).send(SLACK_CHANNEL, message)\n",
    "except:\n",
    "    pass"
   ],
   "outputs": [],
   "metadata": {}
  },
  {
   "cell_type": "markdown",
   "source": [
    "### Scheduler"
   ],
   "metadata": {}
  },
  {
   "cell_type": "code",
   "execution_count": null,
   "source": [
    "naas.scheduler.add(cron=\"0 9 * * *\")"
   ],
   "outputs": [],
   "metadata": {
    "tags": []
   }
  }
 ],
 "metadata": {
  "kernelspec": {
   "display_name": "Python 3",
   "language": "python",
   "name": "python3"
  },
  "language_info": {
   "codemirror_mode": {
    "name": "ipython",
    "version": 3
   },
   "file_extension": ".py",
   "mimetype": "text/x-python",
   "name": "python",
   "nbconvert_exporter": "python",
   "pygments_lexer": "ipython3",
   "version": "3.8.8"
  }
 },
 "nbformat": 4,
 "nbformat_minor": 5
}