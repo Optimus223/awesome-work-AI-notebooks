{
 "cells": [
  {
   "cell_type": "markdown",
   "id": "increasing-exclusion",
   "metadata": {
    "papermill": {},
    "tags": []
   },
   "source": [
    "<img width=\"10%\" alt=\"Naas\" src=\"https://landen.imgix.net/jtci2pxwjczr/assets/5ice39g4.png?w=160\"/>"
   ]
  },
  {
   "cell_type": "markdown",
   "id": "unusual-swaziland",
   "metadata": {
    "papermill": {},
    "tags": []
   },
   "source": [
    "# Notion - Extract data\n",
    "<a href=\"https://app.naas.ai/user-redirect/naas/downloader?url=https://raw.githubusercontent.com/jupyter-naas/awesome-notebooks/master/Notion/Notion_Extract_data.ipynb\" target=\"_parent\"><img src=\"https://img.shields.io/badge/-Open%20in%20Naas-success?labelColor=000000&logo=data:image/svg+xml;base64,PD94bWwgdmVyc2lvbj0iMS4wIiBlbmNvZGluZz0iVVRGLTgiPz4KPHN2ZyB3aWR0aD0iMTAyNHB4IiBoZWlnaHQ9IjEwMjRweCIgdmlld0JveD0iMCAwIDEwMjQgMTAyNCIgeG1sbnM9Imh0dHA6Ly93d3cudzMub3JnLzIwMDAvc3ZnIiB4bWxuczp4bGluaz0iaHR0cDovL3d3dy53My5vcmcvMTk5OS94bGluayIgdmVyc2lvbj0iMS4xIj4KIDwhLS0gR2VuZXJhdGVkIGJ5IFBpeGVsbWF0b3IgUHJvIDIuMC41IC0tPgogPGRlZnM+CiAgPHRleHQgaWQ9InN0cmluZyIgdHJhbnNmb3JtPSJtYXRyaXgoMS4wIDAuMCAwLjAgMS4wIDIyOC4wIDU0LjUpIiBmb250LWZhbWlseT0iQ29tZm9ydGFhLVJlZ3VsYXIsIENvbWZvcnRhYSIgZm9udC1zaXplPSI4MDAiIHRleHQtZGVjb3JhdGlvbj0ibm9uZSIgZmlsbD0iI2ZmZmZmZiIgeD0iMS4xOTk5OTk5OTk5OTk5ODg2IiB5PSI3MDUuMCI+bjwvdGV4dD4KIDwvZGVmcz4KIDx1c2UgaWQ9Im4iIHhsaW5rOmhyZWY9IiNzdHJpbmciLz4KPC9zdmc+Cg==\"/></a>"
   ]
  },
  {
   "cell_type": "markdown",
   "id": "2c02d46e-5800-47b6-bf43-11541f2c7cdd",
   "metadata": {
    "papermill": {},
    "tags": []
   },
   "source": [
    "**Tags:** #notion #productivity"
   ]
  },
  {
   "cell_type": "markdown",
   "id": "consolidated-analysis",
   "metadata": {
    "papermill": {},
    "tags": []
   },
   "source": [
    "## Get your token "
   ]
  },
  {
   "cell_type": "markdown",
   "id": "immediate-alliance",
   "metadata": {
    "papermill": {},
    "tags": []
   },
   "source": [
    "To obtain the `token_v2` : \n",
    "- click right on a Notion.so logged-in (non-guest) session, then\n",
    "- \"Inspect\" will open a technical window \n",
    "- Go to \"Applications\" and in the table search for \"token_v2\" simply copy the value."
   ]
  },
  {
   "cell_type": "markdown",
   "id": "99fd8e22-88f1-4e11-85ef-6a9f85b0c7bd",
   "metadata": {
    "papermill": {},
    "tags": []
   },
   "source": [
    "## Input"
   ]
  },
  {
   "cell_type": "markdown",
   "id": "a8766676-eb4d-46ec-82ac-bf8a6175901e",
   "metadata": {
    "papermill": {},
    "tags": []
   },
   "source": [
    "### Import library"
   ]
  },
  {
   "cell_type": "code",
   "execution_count": null,
   "id": "7d1856eb-8f47-4b18-b55d-94c909a7b364",
   "metadata": {
    "papermill": {},
    "tags": []
   },
   "outputs": [],
   "source": [
    "from naas_drivers import notion"
   ]
  },
  {
   "cell_type": "markdown",
   "id": "43b4a91e-ff6c-49fb-98c2-e48c982939c4",
   "metadata": {
    "papermill": {},
    "tags": []
   },
   "source": [
    "### Variables"
   ]
  },
  {
   "cell_type": "code",
   "execution_count": null,
   "id": "a8c7e6fd-172c-4e9b-a227-95126cee7766",
   "metadata": {
    "papermill": {},
    "tags": []
   },
   "outputs": [],
   "source": [
    "token = \"701c35f542debe676e497f7c062c223b7a5c058a925023173ea57c58cc029606749210bbc37ee31f4800a3ee713089585cd84c5ea382ba1df6e9dbcfe91090ee096d3ae67d7ce0d980f15611f3f0\"\n",
    "url = \"https://www.notion.so/cashstory/2784fd3635654d20bb9d8e0e28956bb6?v=53e00d2999aa4470b5c1026f2e93e0e4\""
   ]
  },
  {
   "cell_type": "markdown",
   "id": "64dddfcf-02db-4517-9c34-4e2d38018045",
   "metadata": {
    "papermill": {},
    "tags": []
   },
   "source": [
    "## Model"
   ]
  },
  {
   "cell_type": "markdown",
   "id": "chief-highland",
   "metadata": {
    "papermill": {},
    "tags": []
   },
   "source": [
    "### Use the driver to retrieve data"
   ]
  },
  {
   "cell_type": "code",
   "execution_count": 1,
   "id": "rotary-patrick",
   "metadata": {
    "execution": {
     "iopub.execute_input": "2021-02-18T14:54:02.379244Z",
     "iopub.status.busy": "2021-02-18T14:54:02.378966Z",
     "iopub.status.idle": "2021-02-18T14:54:06.896884Z",
     "shell.execute_reply": "2021-02-18T14:54:06.893451Z",
     "shell.execute_reply.started": "2021-02-18T14:54:02.379169Z"
    },
    "papermill": {},
    "tags": []
   },
   "outputs": [],
   "source": [
    "collection = naas_drivers.notion.connect(token=token).get_collection(url)\n",
    "collection"
   ]
  },
  {
   "cell_type": "markdown",
   "id": "9f2575a0-87b6-4515-86b6-427d96b504cc",
   "metadata": {
    "papermill": {},
    "tags": []
   },
   "source": [
    "## Output"
   ]
  },
  {
   "cell_type": "markdown",
   "id": "threatened-atlanta",
   "metadata": {
    "papermill": {},
    "tags": []
   },
   "source": [
    "### Save data as CSV file"
   ]
  },
  {
   "cell_type": "code",
   "execution_count": 7,
   "id": "center-spring",
   "metadata": {
    "papermill": {},
    "tags": []
   },
   "outputs": [],
   "source": [
    "collection.to_csv('data.csv')"
   ]
  }
 ],
 "metadata": {
  "kernelspec": {
   "display_name": "Python 3",
   "language": "python",
   "name": "python3"
  },
  "language_info": {
   "codemirror_mode": {
    "name": "ipython",
    "version": 3
   },
   "file_extension": ".py",
   "mimetype": "text/x-python",
   "name": "python",
   "nbconvert_exporter": "python",
   "pygments_lexer": "ipython3",
   "version": "3.8.8"
  },
  "papermill": {
   "default_parameters": {},
   "environment_variables": {},
   "parameters": {},
   "version": "2.3.3"
  }
 },
 "nbformat": 4,
 "nbformat_minor": 5
}