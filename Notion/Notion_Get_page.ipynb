{
 "cells": [
  {
   "cell_type": "markdown",
   "id": "52e0e5da",
   "metadata": {
    "execution": {
     "iopub.execute_input": "2021-02-23T14:22:16.610471Z",
     "iopub.status.busy": "2021-02-23T14:22:16.610129Z",
     "iopub.status.idle": "2021-02-23T14:22:16.627784Z",
     "shell.execute_reply": "2021-02-23T14:22:16.626866Z",
     "shell.execute_reply.started": "2021-02-23T14:22:16.610384Z"
    },
    "papermill": {},
    "tags": []
   },
   "source": [
    "<img width=\"10%\" alt=\"Naas\" src=\"https://landen.imgix.net/jtci2pxwjczr/assets/5ice39g4.png?w=160\"/>"
   ]
  },
  {
   "cell_type": "markdown",
   "id": "402fd896",
   "metadata": {
    "papermill": {},
    "tags": []
   },
   "source": [
    "# Notion - Get page\n",
    "<a href=\"https://app.naas.ai/user-redirect/naas/downloader?url=https://raw.githubusercontent.com/jupyter-naas/awesome-notebooks/master/Notion/get_page.ipynb\" target=\"_parent\"><img src=\"https://img.shields.io/badge/-Open%20in%20Naas-success?labelColor=000000&logo=data:image/svg+xml;base64,PD94bWwgdmVyc2lvbj0iMS4wIiBlbmNvZGluZz0iVVRGLTgiPz4KPHN2ZyB3aWR0aD0iMTAyNHB4IiBoZWlnaHQ9IjEwMjRweCIgdmlld0JveD0iMCAwIDEwMjQgMTAyNCIgeG1sbnM9Imh0dHA6Ly93d3cudzMub3JnLzIwMDAvc3ZnIiB4bWxuczp4bGluaz0iaHR0cDovL3d3dy53My5vcmcvMTk5OS94bGluayIgdmVyc2lvbj0iMS4xIj4KIDwhLS0gR2VuZXJhdGVkIGJ5IFBpeGVsbWF0b3IgUHJvIDIuMC41IC0tPgogPGRlZnM+CiAgPHRleHQgaWQ9InN0cmluZyIgdHJhbnNmb3JtPSJtYXRyaXgoMS4wIDAuMCAwLjAgMS4wIDIyOC4wIDU0LjUpIiBmb250LWZhbWlseT0iQ29tZm9ydGFhLVJlZ3VsYXIsIENvbWZvcnRhYSIgZm9udC1zaXplPSI4MDAiIHRleHQtZGVjb3JhdGlvbj0ibm9uZSIgZmlsbD0iI2ZmZmZmZiIgeD0iMS4xOTk5OTk5OTk5OTk5ODg2IiB5PSI3MDUuMCI+bjwvdGV4dD4KIDwvZGVmcz4KIDx1c2UgaWQ9Im4iIHhsaW5rOmhyZWY9IiNzdHJpbmciLz4KPC9zdmc+Cg==\"/></a>"
   ]
  },
  {
   "cell_type": "markdown",
   "id": "949052de",
   "metadata": {
    "papermill": {},
    "tags": []
   },
   "source": [
    "## Input"
   ]
  },
  {
   "cell_type": "code",
   "execution_count": 1,
   "id": "f715cf8d",
   "metadata": {
    "papermill": {},
    "tags": []
   },
   "outputs": [],
   "source": [
    "import requests\n",
    "import pandas as pd\n",
    "import json\n",
    "\n",
    "TOKEN_API = 'secret_R1CrUGn8bx9itbJW0Fc9Cc0R9Lmhbnz2ayqEe0GhRPq'\n",
    "PAGE_URL = 'https://www.notion.so/Tom-Simon-2ccdafe28955478b8c9d70bda0044c86'\n",
    "_VERSION = '2021-05-13'"
   ]
  },
  {
   "cell_type": "markdown",
   "id": "560f09bd",
   "metadata": {
    "papermill": {},
    "tags": []
   },
   "source": [
    "## Model"
   ]
  },
  {
   "cell_type": "code",
   "execution_count": 2,
   "id": "ce4c2b0a",
   "metadata": {
    "execution": {
     "iopub.status.busy": "2021-02-23T14:28:14.665219Z",
     "iopub.status.idle": "2021-02-23T14:28:14.668943Z",
     "shell.execute_reply": "2021-02-23T14:28:14.666989Z"
    },
    "papermill": {},
    "tags": []
   },
   "outputs": [],
   "source": [
    "def create_headers(token_api, version):\n",
    "    return {\n",
    "            'Authorization': f'Bearer {token_api}',\n",
    "            'Notion-Version': f'{version}',\n",
    "        }\n",
    "\n",
    "create_headers(TOKEN_API, _VERSION)"
   ]
  },
  {
   "cell_type": "code",
   "execution_count": 3,
   "id": "933a0c3e",
   "metadata": {
    "papermill": {},
    "tags": []
   },
   "outputs": [],
   "source": [
    "def get_id_from_url(database_url):\n",
    "    return database_url.split('-')[-1]\n",
    "\n",
    "get_id_from_url(PAGE_URL)"
   ]
  },
  {
   "cell_type": "markdown",
   "id": "33683a9c",
   "metadata": {
    "papermill": {},
    "tags": []
   },
   "source": [
    "### get properties\n",
    "i use the function implemented in `get_database.ipynb`\n",
    "\n",
    "I generate 2 kind of fct to get the page properties:\n",
    "- simple: `create_simple_result`\n",
    "- detailed : `create_detailed_result`"
   ]
  },
  {
   "cell_type": "code",
   "execution_count": 4,
   "id": "b25cd298",
   "metadata": {
    "papermill": {},
    "tags": []
   },
   "outputs": [],
   "source": [
    "def get_raw_properties(token_api, page_url):\n",
    "    page_id = get_id_from_url(page_url)\n",
    "    url = f'https://api.notion.com/v1/pages/{page_id}'\n",
    "    headers = create_headers(token_api, _VERSION)\n",
    "    response = requests.get(url, headers=headers)\n",
    "    print(response.status_code)\n",
    "    return response.json()\n",
    "\n",
    "page = get_raw_properties(TOKEN_API, PAGE_URL)"
   ]
  },
  {
   "cell_type": "code",
   "execution_count": 5,
   "id": "77f64a07",
   "metadata": {
    "papermill": {},
    "tags": []
   },
   "outputs": [],
   "source": [
    "def extract_text(dictionnary):\n",
    "    if 'name' in dictionnary:\n",
    "        return dictionnary['name']\n",
    "    elif 'plain_text' in dictionnary:\n",
    "        return dictionnary['plain_text']\n",
    "    else:\n",
    "        return ''\n",
    "\n",
    "def extract_date(dictionnary):\n",
    "    '''\n",
    "    For the moment we extract only the starting date of a date field\n",
    "    Example {'id': 'prop_1', 'type': 'date', 'date': {'start': '2018-03-21', 'end': None}}\n",
    "    '''\n",
    "    return dictionnary['start']\n",
    "    \n",
    "def extract_data(element):\n",
    "    ''' \n",
    "    input: a dictionnary of a notion property\n",
    "    Exemple: {'id': 'W#4k', 'type': 'select', 'select': {'id': 'b305bd26-****-****-****-c78e2034db8f', 'name': 'Client', 'color': 'green'}}\n",
    "    output: the string containing the information of the dict. (Client in the exemple)\n",
    "    '''\n",
    "    if type(element) is dict:\n",
    "        dict_type = element['type'] \n",
    "        informations = element[dict_type]\n",
    "\n",
    "        if type(informations) is dict:\n",
    "            if dict_type == 'date':\n",
    "                return extract_date(informations)\n",
    "            else:\n",
    "                return extract_text(informations)\n",
    "        \n",
    "        elif type(informations) is list:\n",
    "            informations = [extract_text(elm) for elm in informations]\n",
    "            return ','.join(informations)\n",
    "        else:\n",
    "            return informations\n",
    "    else:\n",
    "        return ''"
   ]
  },
  {
   "cell_type": "markdown",
   "id": "0e691c92",
   "metadata": {
    "papermill": {},
    "tags": []
   },
   "source": [
    "1. a very simple form of what we can do:"
   ]
  },
  {
   "cell_type": "code",
   "execution_count": 6,
   "id": "ac0484f6",
   "metadata": {
    "papermill": {},
    "tags": []
   },
   "outputs": [],
   "source": [
    "def create_simple_result(dictionary):\n",
    "    raw_properties = dictionary['properties']\n",
    "    return {key: extract_data(elm) for key,elm in raw_properties.items()}\n",
    "\n",
    "create_simple_result(page)"
   ]
  },
  {
   "cell_type": "markdown",
   "id": "f33664a1",
   "metadata": {
    "papermill": {},
    "tags": []
   },
   "source": [
    "2. we can also make the chose to create something with more details:"
   ]
  },
  {
   "cell_type": "code",
   "execution_count": 7,
   "id": "e35b56fb",
   "metadata": {
    "papermill": {},
    "tags": []
   },
   "outputs": [],
   "source": [
    "def create_detailed_result(dictionary):\n",
    "    result = dictionary.copy()\n",
    "    result['properties'] = create_simple_result(dictionary)\n",
    "    result.pop('url')\n",
    "    result.pop('object')\n",
    "    return result\n",
    "\n",
    "from pprint import pprint\n",
    "detailed_result = create_detailed_result(page)\n",
    "pprint(detailed_result)\n"
   ]
  },
  {
   "cell_type": "markdown",
   "id": "8e852323",
   "metadata": {
    "papermill": {},
    "tags": []
   },
   "source": [
    "let's mix everything in a function and use the detailed results "
   ]
  },
  {
   "cell_type": "code",
   "execution_count": 8,
   "id": "60f4cf34",
   "metadata": {
    "papermill": {},
    "tags": []
   },
   "outputs": [],
   "source": [
    "def get_page_properties(token_api, page_url):\n",
    "    page = get_raw_properties(token_api, page_url)\n",
    "    return create_detailed_result(page)\n",
    "\n",
    "get_page_properties(TOKEN_API, PAGE_URL)"
   ]
  },
  {
   "cell_type": "markdown",
   "id": "5b40c0ee",
   "metadata": {
    "papermill": {},
    "tags": []
   },
   "source": [
    "### get content"
   ]
  },
  {
   "cell_type": "code",
   "execution_count": 9,
   "id": "6f028ddd",
   "metadata": {
    "papermill": {},
    "tags": []
   },
   "outputs": [],
   "source": [
    "def get_content(token_api, page_url):\n",
    "    page_id = get_id_from_url(page_url)\n",
    "    url = f'https://api.notion.com/v1/blocks/{page_id}/children'\n",
    "    headers = create_headers(token_api, _VERSION)\n",
    "    response = requests.get(url, headers=headers)\n",
    "    \n",
    "    print(response.status_code)\n",
    "    return response.json()['results']\n",
    "\n",
    "content = get_content(TOKEN_API, PAGE_URL)"
   ]
  },
  {
   "cell_type": "markdown",
   "id": "6160aee8",
   "metadata": {
    "execution": {
     "iopub.execute_input": "2021-07-02T23:32:10.789097Z",
     "iopub.status.busy": "2021-07-02T23:32:10.788829Z",
     "iopub.status.idle": "2021-07-02T23:32:10.796900Z",
     "shell.execute_reply": "2021-07-02T23:32:10.796358Z",
     "shell.execute_reply.started": "2021-07-02T23:32:10.789033Z"
    },
    "papermill": {},
    "tags": []
   },
   "source": [
    "## Output"
   ]
  },
  {
   "cell_type": "code",
   "execution_count": 10,
   "id": "67bd2fc7",
   "metadata": {
    "papermill": {},
    "tags": []
   },
   "outputs": [],
   "source": [
    "# I use the simple function \n",
    "get_page_properties(TOKEN_API, PAGE_URL)"
   ]
  },
  {
   "cell_type": "code",
   "execution_count": 11,
   "id": "02bc96e1",
   "metadata": {
    "papermill": {},
    "tags": []
   },
   "outputs": [],
   "source": [
    "# get pages content\n",
    "get_content(TOKEN_API, PAGE_URL)"
   ]
  }
 ],
 "metadata": {
  "kernelspec": {
   "display_name": "Python 3",
   "language": "python",
   "name": "python3"
  },
  "language_info": {
   "codemirror_mode": {
    "name": "ipython",
    "version": 3
   },
   "file_extension": ".py",
   "mimetype": "text/x-python",
   "name": "python",
   "nbconvert_exporter": "python",
   "pygments_lexer": "ipython3",
   "version": "3.8.8"
  },
  "papermill": {
   "default_parameters": {},
   "environment_variables": {},
   "parameters": {},
   "version": "2.3.3"
  },
  "widgets": {
   "application/vnd.jupyter.widget-state+json": {
    "state": {},
    "version_major": 2,
    "version_minor": 0
   }
  }
 },
 "nbformat": 4,
 "nbformat_minor": 5
}