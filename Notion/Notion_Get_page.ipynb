{
 "cells": [
  {
   "cell_type": "markdown",
   "id": "executive-leone",
   "metadata": {
    "execution": {
     "iopub.execute_input": "2021-02-23T14:22:16.610471Z",
     "iopub.status.busy": "2021-02-23T14:22:16.610129Z",
     "iopub.status.idle": "2021-02-23T14:22:16.627784Z",
     "shell.execute_reply": "2021-02-23T14:22:16.626866Z",
     "shell.execute_reply.started": "2021-02-23T14:22:16.610384Z"
    },
    "papermill": {},
    "tags": []
   },
   "source": [
    "<img width=\"10%\" alt=\"Naas\" src=\"https://landen.imgix.net/jtci2pxwjczr/assets/5ice39g4.png?w=160\"/>"
   ]
  },
  {
   "cell_type": "markdown",
   "id": "light-exhibition",
   "metadata": {
    "papermill": {},
    "tags": []
   },
   "source": [
    "# Notion - Get page\n",
    "<a href=\"https://app.naas.ai/user-redirect/naas/downloader?url=https://raw.githubusercontent.com/jupyter-naas/awesome-notebooks/master/Notion/get_page.ipynb\" target=\"_parent\"><img src=\"https://img.shields.io/badge/-Open%20in%20Naas-success?labelColor=000000&logo=data:image/svg+xml;base64,PD94bWwgdmVyc2lvbj0iMS4wIiBlbmNvZGluZz0iVVRGLTgiPz4KPHN2ZyB3aWR0aD0iMTAyNHB4IiBoZWlnaHQ9IjEwMjRweCIgdmlld0JveD0iMCAwIDEwMjQgMTAyNCIgeG1sbnM9Imh0dHA6Ly93d3cudzMub3JnLzIwMDAvc3ZnIiB4bWxuczp4bGluaz0iaHR0cDovL3d3dy53My5vcmcvMTk5OS94bGluayIgdmVyc2lvbj0iMS4xIj4KIDwhLS0gR2VuZXJhdGVkIGJ5IFBpeGVsbWF0b3IgUHJvIDIuMC41IC0tPgogPGRlZnM+CiAgPHRleHQgaWQ9InN0cmluZyIgdHJhbnNmb3JtPSJtYXRyaXgoMS4wIDAuMCAwLjAgMS4wIDIyOC4wIDU0LjUpIiBmb250LWZhbWlseT0iQ29tZm9ydGFhLVJlZ3VsYXIsIENvbWZvcnRhYSIgZm9udC1zaXplPSI4MDAiIHRleHQtZGVjb3JhdGlvbj0ibm9uZSIgZmlsbD0iI2ZmZmZmZiIgeD0iMS4xOTk5OTk5OTk5OTk5ODg2IiB5PSI3MDUuMCI+bjwvdGV4dD4KIDwvZGVmcz4KIDx1c2UgaWQ9Im4iIHhsaW5rOmhyZWY9IiNzdHJpbmciLz4KPC9zdmc+Cg==\"/></a>"
   ]
  },
  {
   "cell_type": "markdown",
   "id": "buried-hearts",
   "metadata": {
    "papermill": {},
    "tags": []
   },
   "source": [
    "# Input"
   ]
  },
  {
   "cell_type": "markdown",
   "id": "vietnamese-avatar",
   "metadata": {},
   "source": [
    "### Import library"
   ]
  },
  {
   "cell_type": "code",
   "execution_count": null,
   "id": "passing-voltage",
   "metadata": {
    "tags": []
   },
   "outputs": [],
   "source": [
    "import requests\n",
    "import pandas as pd\n",
    "import json\n",
    "from pprint import pprint"
   ]
  },
  {
   "cell_type": "markdown",
   "id": "subtle-oxide",
   "metadata": {},
   "source": [
    "### Variables"
   ]
  },
  {
   "cell_type": "code",
   "execution_count": null,
   "id": "cutting-hartford",
   "metadata": {
    "papermill": {},
    "tags": []
   },
   "outputs": [],
   "source": [
    "# Enter Notion token API\n",
    "TOKEN_API = 'YOUR_TOKEN_API'\n",
    "\n",
    "# Enter page url\n",
    "PAGE_URL = 'YOUR_PAGE_URL'\n",
    "\n",
    "# Notion version\n",
    "_VERSION = '2021-08-16'"
   ]
  },
  {
   "cell_type": "markdown",
   "id": "coupled-compiler",
   "metadata": {
    "papermill": {},
    "tags": []
   },
   "source": [
    "# Model"
   ]
  },
  {
   "cell_type": "code",
   "execution_count": null,
   "id": "competitive-crawford",
   "metadata": {
    "papermill": {},
    "tags": []
   },
   "outputs": [],
   "source": [
    "def create_headers(token_api, version):\n",
    "    return {\n",
    "            'Authorization': f'Bearer {token_api}',\n",
    "            'Notion-Version': f'{version}',\n",
    "        }\n",
    "\n",
    "create_headers(TOKEN_API, _VERSION)"
   ]
  },
  {
   "cell_type": "code",
   "execution_count": null,
   "id": "exposed-waters",
   "metadata": {
    "papermill": {},
    "tags": []
   },
   "outputs": [],
   "source": [
    "def get_id_from_url(database_url):\n",
    "    return database_url.split('-')[-1]\n",
    "\n",
    "get_id_from_url(PAGE_URL)"
   ]
  },
  {
   "cell_type": "markdown",
   "id": "still-willow",
   "metadata": {
    "papermill": {},
    "tags": []
   },
   "source": [
    "### Get properties"
   ]
  },
  {
   "cell_type": "code",
   "execution_count": null,
   "id": "industrial-surprise",
   "metadata": {
    "papermill": {},
    "tags": []
   },
   "outputs": [],
   "source": [
    "# make a request to Notion API and receive a Python dictionary\n",
    "def fetch_raw_properties(token_api, page_url):\n",
    "    page_id = get_id_from_url(page_url)\n",
    "    url = f'https://api.notion.com/v1/pages/{page_id}'\n",
    "    headers = create_headers(token_api, _VERSION)\n",
    "    res = requests.get(url, headers=headers)\n",
    "    try:\n",
    "        res.raise_for_status()\n",
    "    except requests.HTTPError as e:\n",
    "        return e\n",
    "    return res.json()\n",
    "\n",
    "page = fetch_raw_properties(TOKEN_API, PAGE_URL)\n",
    "pprint(page)"
   ]
  },
  {
   "cell_type": "code",
   "execution_count": null,
   "id": "ordered-template",
   "metadata": {
    "papermill": {},
    "tags": []
   },
   "outputs": [],
   "source": [
    "def extract_text(dictionnary):\n",
    "    if 'name' in dictionnary:\n",
    "        return dictionnary['name']\n",
    "    elif 'plain_text' in dictionnary:\n",
    "        return dictionnary['plain_text']\n",
    "    else:\n",
    "        return ''\n",
    "\n",
    "def extract_date(dictionnary):\n",
    "    '''\n",
    "    For the moment we extract only the starting date of a date field\n",
    "    Example {'id': 'prop_1', 'type': 'date', 'date': {'start': '2018-03-21', 'end': None}}\n",
    "    '''\n",
    "    return dictionnary['start']\n",
    "    \n",
    "def extract_data(element):\n",
    "    ''' \n",
    "    input: a dictionnary of a notion property\n",
    "    Exemple: {'id': 'W#4k', 'type': 'select', 'select': {'id': 'b305bd26-****-****-****-c78e2034db8f', 'name': 'Client', 'color': 'green'}}\n",
    "    output: the string containing the information of the dict. (Client in the exemple)\n",
    "    '''\n",
    "    if type(element) is dict:\n",
    "        dict_type = element['type'] \n",
    "        informations = element[dict_type]\n",
    "\n",
    "        if type(informations) is dict:\n",
    "            if dict_type == 'date':\n",
    "                return extract_date(informations)\n",
    "            else:\n",
    "                return extract_text(informations)\n",
    "        \n",
    "        elif type(informations) is list:\n",
    "            informations = [extract_text(elm) for elm in informations]\n",
    "            return ','.join(informations)\n",
    "        else:\n",
    "            return informations\n",
    "    else:\n",
    "        return ''\n",
    "\n",
    "\n",
    "def extract_properties(dictionary):\n",
    "    return {key: extract_data(elm) for key,elm in dictionary['properties'].items()}\n",
    " \n",
    "extract_properties(page)"
   ]
  },
  {
   "cell_type": "code",
   "execution_count": null,
   "id": "fourth-insert",
   "metadata": {
    "tags": []
   },
   "outputs": [],
   "source": [
    "def clean_meta_data(dictionary):\n",
    "    meta_data = dictionary.copy()\n",
    "    meta_data['PARENT_TYPE'] = meta_data['parent']['type']\n",
    "    meta_data['PARENT_ID'] = meta_data['parent'][meta_data['PARENT_TYPE']]\n",
    "    useless_meta = ['url', 'object', 'parent', 'properties']\n",
    "    [meta_data.pop(useless) for useless in useless_meta]\n",
    "    \n",
    "    return meta_data\n",
    "\n",
    "clean_meta_data(page)"
   ]
  },
  {
   "cell_type": "code",
   "execution_count": null,
   "id": "miniature-newsletter",
   "metadata": {
    "tags": []
   },
   "outputs": [],
   "source": [
    "def convert_keys_to_upper(dictionary):\n",
    "    return {key.upper(): value for key,value in dictionary.items()}"
   ]
  },
  {
   "cell_type": "code",
   "execution_count": null,
   "id": "resident-precipitation",
   "metadata": {
    "papermill": {},
    "tags": []
   },
   "outputs": [],
   "source": [
    "def get_page_properties(token_api, page_url):\n",
    "    raw_data = fetch_raw_properties(token_api, page_url)\n",
    "    properties = extract_properties(raw_data)\n",
    "    meta_data = clean_meta_data(raw_data)\n",
    "    \n",
    "    properties.update(meta_data)\n",
    "    properties = convert_keys_to_upper(properties)\n",
    "    return pd.DataFrame([properties])\n",
    "\n",
    "get_page_properties(TOKEN_API, PAGE_URL)"
   ]
  },
  {
   "cell_type": "markdown",
   "id": "tough-broadcasting",
   "metadata": {
    "papermill": {},
    "tags": []
   },
   "source": [
    "### Get content\n",
    "👉  The content of a page is return as a array of blocks by the Notion API \n",
    "```json\n",
    "{\n",
    "  \"object\": \"block\",\n",
    "  \"id\": \"9bc30ad4-9373-46a5-84ab-0a7845ee52e6\",\n",
    "  \"created_time\": \"2021-03-16T16:31:00.000Z\",\n",
    "  \"last_edited_time\": \"2021-03-16T16:32:00.000Z\",\n",
    "  \"has_children\": false,\n",
    "  \"type\": \"to_do\",\n",
    "  \"to_do\": {\n",
    "    \"text\": [\n",
    "      {\n",
    "        \"type\": \"text\",\n",
    "        \"text\": {\n",
    "          \"content\": \"Lacinato kale\",\n",
    "          \"link\": null\n",
    "        },\n",
    "        \"annotations\": {\n",
    "          \"bold\": false,\n",
    "          \"italic\": false,\n",
    "          \"strikethrough\": false,\n",
    "          \"underline\": false,\n",
    "          \"code\": false,\n",
    "          \"color\": \"default\"\n",
    "        },\n",
    "        \"plain_text\": \"Lacinato kale\",\n",
    "        \"href\": null\n",
    "      }\n",
    "    ],\n",
    "    \"checked\": false\n",
    "  }\n",
    "}\n",
    "```\n",
    "\n",
    "Each block is a dictionary with different keys:\n",
    "- id *(str)*\n",
    "- has_children *(bool)*\n",
    "- created_time *(str)*\n",
    "- last_edited_time *(str)*\n",
    "- type *(str)*\n",
    "- {type} *(dict)*\n",
    "\n",
    "\n",
    "\n",
    "{type} is an object with type-specific block information<br>\n",
    "List of block type:\n",
    "- paragraph\n",
    "- heading(1,2,3)\n",
    "- bullet list item\n",
    "- numbered list item\n",
    "- to_do_blocks\n",
    "- toggle block\n",
    "- child page block\n",
    "\n",
    "More info here: https://developers.notion.com/reference/block \n",
    "\n",
    "🚨 BEAWARE OF:\n",
    "- I can't retreive the children element of a block: it's not the same behaviour than the one in Block Object look like it's a bug from the API \n",
    "- Some data information are lost. Exemple: the color of the text and the link \n",
    "- blank blocks are count as a paragraph we maybe need to create a new category for them or delete them from the result"
   ]
  },
  {
   "cell_type": "code",
   "execution_count": null,
   "id": "opposite-denmark",
   "metadata": {
    "papermill": {},
    "tags": []
   },
   "outputs": [],
   "source": [
    "def fetch_raw_blocks(token_api, page_url):\n",
    "    page_id = get_id_from_url(page_url)\n",
    "    url = f'https://api.notion.com/v1/blocks/{page_id}/children'\n",
    "    headers = create_headers(token_api, _VERSION)\n",
    "    response = requests.get(url, headers=headers)\n",
    "    res = requests.get(url, headers=headers)\n",
    "    try:\n",
    "        res.raise_for_status()\n",
    "    except requests.HTTPError as e:\n",
    "        return e\n",
    "    return res.json()['results']\n",
    "\n",
    "blocks = fetch_raw_blocks(TOKEN_API, PAGE_URL)\n",
    "pprint(blocks[0])"
   ]
  },
  {
   "cell_type": "code",
   "execution_count": null,
   "id": "ecf908e6-c498-4df0-847d-84d290cd3527",
   "metadata": {
    "tags": []
   },
   "outputs": [],
   "source": [
    "def extract_text_from_rich_text(rich_text):\n",
    "    return rich_text['plain_text']\n",
    "\n",
    "def extract_text_from_array_of_rich_text(array):\n",
    "    content = [extract_text_from_rich_text(rich_text) for rich_text in array]\n",
    "    return ' '.join(content)\n",
    "\n",
    "def extract_block_content(block):\n",
    "    block_type = block['type']\n",
    "    \n",
    "    if block_type.startswith('heading'):\n",
    "        array_of_rich_text = block[block_type]['text']\n",
    "        return extract_text_from_array_of_rich_text(array_of_rich_text)\n",
    "    \n",
    "    elif block_type == 'paragraph':\n",
    "        array_of_rich_text = block[block_type]['text']\n",
    "        return extract_text_from_array_of_rich_text(array_of_rich_text)\n",
    "\n",
    "    elif block_type.endswith('list_item'):\n",
    "        array_of_rich_text = block[block_type]['text']\n",
    "        return extract_text_from_array_of_rich_text(array_of_rich_text)\n",
    "    \n",
    "    elif block_type == 'to_do':\n",
    "        array_of_rich_text = block[block_type]['text']\n",
    "        return extract_text_from_array_of_rich_text(array_of_rich_text)\n",
    "    \n",
    "    elif block_type == 'toggle':\n",
    "        array_of_rich_text = block[block_type]['text']\n",
    "        return extract_text_from_array_of_rich_text(array_of_rich_text)\n",
    "    \n",
    "    elif block_type == 'child_page':\n",
    "        return block[block_type]['title']\n",
    "        \n",
    "\n",
    "first_block = blocks[0]\n",
    "extract_block_content(first_block)"
   ]
  },
  {
   "cell_type": "code",
   "execution_count": null,
   "id": "f49ec32e-7456-493c-8f76-1c39a847a888",
   "metadata": {
    "tags": []
   },
   "outputs": [],
   "source": [
    "def get_page_content(TOKEN_API, PAGE_URL):\n",
    "    blocks = fetch_raw_blocks(TOKEN_API, PAGE_URL)\n",
    "    page_content = []\n",
    "    for block in blocks:\n",
    "\n",
    "        block['content'] = extract_block_content(block)\n",
    "        block.pop( block['type'])\n",
    "        block.pop('object')\n",
    "        block = convert_keys_to_upper(block)\n",
    "        page_content.append(block)\n",
    "\n",
    "    return pd.DataFrame(page_content)\n",
    "\n",
    "get_page_content(TOKEN_API, PAGE_URL)"
   ]
  },
  {
   "cell_type": "markdown",
   "id": "featured-validity",
   "metadata": {
    "execution": {
     "iopub.execute_input": "2021-07-02T23:32:10.789097Z",
     "iopub.status.busy": "2021-07-02T23:32:10.788829Z",
     "iopub.status.idle": "2021-07-02T23:32:10.796900Z",
     "shell.execute_reply": "2021-07-02T23:32:10.796358Z",
     "shell.execute_reply.started": "2021-07-02T23:32:10.789033Z"
    },
    "papermill": {},
    "tags": []
   },
   "source": [
    "---\n",
    "# Output"
   ]
  },
  {
   "cell_type": "markdown",
   "id": "exact-pricing",
   "metadata": {},
   "source": [
    "### 1. Get properties : Table format\n",
    "- PROPERTIES (Majuscule + unstacked)\n",
    "- ID \n",
    "- PARENT_TYPE\n",
    "- PARENT_ID\n",
    "- CREATED_TIME\n",
    "- LAST_EDITED_TIME\n",
    "- ARCHIVED"
   ]
  },
  {
   "cell_type": "code",
   "execution_count": null,
   "id": "sufficient-utility",
   "metadata": {
    "papermill": {},
    "tags": []
   },
   "outputs": [],
   "source": [
    "get_page_properties(TOKEN_API, PAGE_URL)"
   ]
  },
  {
   "cell_type": "markdown",
   "id": "extensive-opinion",
   "metadata": {},
   "source": [
    "### 2. Get content : Table format\n",
    "\n",
    "- TYPE\n",
    "- TEXT (\"plain_text\") (if \"paragraph\" then concat \"plain_text\" in list \"text\")\n",
    "- ID\n",
    "- HAS_CHILDREN\n",
    "- CREATED_TIME\n",
    "- LAST_EDITED_TIME"
   ]
  },
  {
   "cell_type": "code",
   "execution_count": null,
   "id": "greatest-wyoming",
   "metadata": {
    "papermill": {},
    "tags": []
   },
   "outputs": [],
   "source": [
    "# get pages content\n",
    "get_page_content(TOKEN_API, PAGE_URL)"
   ]
  }
 ],
 "metadata": {
  "kernelspec": {
   "display_name": "Python 3",
   "language": "python",
   "name": "python3"
  },
  "language_info": {
   "codemirror_mode": {
    "name": "ipython",
    "version": 3
   },
   "file_extension": ".py",
   "mimetype": "text/x-python",
   "name": "python",
   "nbconvert_exporter": "python",
   "pygments_lexer": "ipython3",
   "version": "3.8.8"
  },
  "papermill": {
   "default_parameters": {},
   "environment_variables": {},
   "parameters": {},
   "version": "2.3.3"
  },
  "widgets": {
   "application/vnd.jupyter.widget-state+json": {
    "state": {},
    "version_major": 2,
    "version_minor": 0
   }
  }
 },
 "nbformat": 4,
 "nbformat_minor": 5
}
