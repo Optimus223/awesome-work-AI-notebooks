{
 "cells": [
  {
   "cell_type": "markdown",
   "id": "executive-leone",
   "metadata": {
    "execution": {
     "iopub.execute_input": "2021-02-23T14:22:16.610471Z",
     "iopub.status.busy": "2021-02-23T14:22:16.610129Z",
     "iopub.status.idle": "2021-02-23T14:22:16.627784Z",
     "shell.execute_reply": "2021-02-23T14:22:16.626866Z",
     "shell.execute_reply.started": "2021-02-23T14:22:16.610384Z"
    },
    "papermill": {},
    "tags": []
   },
   "source": [
    "<img width=\"10%\" alt=\"Naas\" src=\"https://landen.imgix.net/jtci2pxwjczr/assets/5ice39g4.png?w=160\"/>"
   ]
  },
  {
   "cell_type": "markdown",
   "id": "light-exhibition",
   "metadata": {
    "papermill": {},
    "tags": []
   },
   "source": [
    "# Notion - Get page\n",
    "<a href=\"https://app.naas.ai/user-redirect/naas/downloader?url=https://raw.githubusercontent.com/jupyter-naas/awesome-notebooks/master/Notion/Notion_Get_page.ipynb\" target=\"_parent\"><img src=\"https://img.shields.io/badge/-Open%20in%20Naas-success?labelColor=000000&logo=data:image/svg+xml;base64,PD94bWwgdmVyc2lvbj0iMS4wIiBlbmNvZGluZz0iVVRGLTgiPz4KPHN2ZyB3aWR0aD0iMTAyNHB4IiBoZWlnaHQ9IjEwMjRweCIgdmlld0JveD0iMCAwIDEwMjQgMTAyNCIgeG1sbnM9Imh0dHA6Ly93d3cudzMub3JnLzIwMDAvc3ZnIiB4bWxuczp4bGluaz0iaHR0cDovL3d3dy53My5vcmcvMTk5OS94bGluayIgdmVyc2lvbj0iMS4xIj4KIDwhLS0gR2VuZXJhdGVkIGJ5IFBpeGVsbWF0b3IgUHJvIDIuMC41IC0tPgogPGRlZnM+CiAgPHRleHQgaWQ9InN0cmluZyIgdHJhbnNmb3JtPSJtYXRyaXgoMS4wIDAuMCAwLjAgMS4wIDIyOC4wIDU0LjUpIiBmb250LWZhbWlseT0iQ29tZm9ydGFhLVJlZ3VsYXIsIENvbWZvcnRhYSIgZm9udC1zaXplPSI4MDAiIHRleHQtZGVjb3JhdGlvbj0ibm9uZSIgZmlsbD0iI2ZmZmZmZiIgeD0iMS4xOTk5OTk5OTk5OTk5ODg2IiB5PSI3MDUuMCI+bjwvdGV4dD4KIDwvZGVmcz4KIDx1c2UgaWQ9Im4iIHhsaW5rOmhyZWY9IiNzdHJpbmciLz4KPC9zdmc+Cg==\"/></a>"
   ]
  },
  {
   "cell_type": "markdown",
   "id": "buried-hearts",
   "metadata": {
    "papermill": {},
    "tags": []
   },
   "source": [
    "## Input"
   ]
  },
  {
   "cell_type": "markdown",
   "id": "vietnamese-avatar",
   "metadata": {
    "papermill": {},
    "tags": []
   },
   "source": [
    "### Import library"
   ]
  },
  {
   "cell_type": "code",
   "execution_count": 3,
   "id": "passing-voltage",
   "metadata": {
    "execution": {
     "iopub.execute_input": "2021-09-09T16:51:19.304597Z",
     "iopub.status.busy": "2021-09-09T16:51:19.304295Z",
     "iopub.status.idle": "2021-09-09T16:51:20.549877Z",
     "shell.execute_reply": "2021-09-09T16:51:20.549229Z",
     "shell.execute_reply.started": "2021-09-09T16:51:19.304562Z"
    },
    "papermill": {},
    "tags": []
   },
   "outputs": [],
   "source": [
    "from notion import Notion\n",
    "import naas"
   ]
  },
  {
   "cell_type": "markdown",
   "id": "subtle-oxide",
   "metadata": {
    "papermill": {},
    "tags": []
   },
   "source": [
    "### Variables"
   ]
  },
  {
   "cell_type": "code",
   "execution_count": 4,
   "id": "cutting-hartford",
   "metadata": {
    "execution": {
     "iopub.execute_input": "2021-09-09T16:51:20.554641Z",
     "iopub.status.busy": "2021-09-09T16:51:20.554453Z",
     "iopub.status.idle": "2021-09-09T16:51:20.558491Z",
     "shell.execute_reply": "2021-09-09T16:51:20.557967Z",
     "shell.execute_reply.started": "2021-09-09T16:51:20.554619Z"
    },
    "papermill": {},
    "tags": []
   },
   "outputs": [],
   "source": [
    "# Enter Notion Token API\n",
    "token = \"secret_R1CrUGn8bx9itbJW0Fc9Cc0R9Lmhbnz2ayqEe0GhRPq\"\n",
    "\n",
    "# Enter database url\n",
    "url = \"https://www.notion.so/Axel-2ccdafe28955478b8c9d70bda0044c86\""
   ]
  },
  {
   "cell_type": "code",
   "execution_count": 5,
   "id": "30d0d595-482a-4634-9a86-7cd4dd8e9b28",
   "metadata": {
    "execution": {
     "iopub.execute_input": "2021-09-09T16:51:21.020969Z",
     "iopub.status.busy": "2021-09-09T16:51:21.020738Z",
     "iopub.status.idle": "2021-09-09T16:51:22.469482Z",
     "shell.execute_reply": "2021-09-09T16:51:22.468832Z",
     "shell.execute_reply.started": "2021-09-09T16:51:21.020947Z"
    },
    "tags": []
   },
   "outputs": [],
   "source": [
    "notion = Notion().connect(token)"
   ]
  },
  {
   "cell_type": "markdown",
   "id": "coupled-compiler",
   "metadata": {
    "papermill": {},
    "tags": []
   },
   "source": [
    "## Model"
   ]
  },
  {
   "cell_type": "markdown",
   "id": "still-willow",
   "metadata": {
    "papermill": {},
    "tags": []
   },
   "source": [
    "### Get properties"
   ]
  },
  {
   "cell_type": "code",
   "execution_count": 12,
   "id": "industrial-surprise",
   "metadata": {
    "execution": {
     "iopub.execute_input": "2021-09-09T16:53:06.566431Z",
     "iopub.status.busy": "2021-09-09T16:53:06.566179Z",
     "iopub.status.idle": "2021-09-09T16:53:06.583066Z",
     "shell.execute_reply": "2021-09-09T16:53:06.582128Z",
     "shell.execute_reply.started": "2021-09-09T16:53:06.566396Z"
    },
    "papermill": {},
    "tags": []
   },
   "outputs": [
    {
     "ename": "TypeError",
     "evalue": "'Page' object is not callable",
     "output_type": "error",
     "traceback": [
      "\u001b[0;31m---------------------------------------------------------------------------\u001b[0m",
      "\u001b[0;31mTypeError\u001b[0m                                 Traceback (most recent call last)",
      "\u001b[0;32m<ipython-input-12-411926f526d5>\u001b[0m in \u001b[0;36m<module>\u001b[0;34m\u001b[0m\n\u001b[0;32m----> 1\u001b[0;31m \u001b[0mpage\u001b[0m \u001b[0;34m=\u001b[0m \u001b[0mnotion\u001b[0m\u001b[0;34m.\u001b[0m\u001b[0mpage\u001b[0m\u001b[0;34m(\u001b[0m\u001b[0murl\u001b[0m\u001b[0;34m)\u001b[0m\u001b[0;34m\u001b[0m\u001b[0;34m\u001b[0m\u001b[0m\n\u001b[0m",
      "\u001b[0;31mTypeError\u001b[0m: 'Page' object is not callable"
     ]
    }
   ],
   "source": [
    "page = notion.page()"
   ]
  },
  {
   "cell_type": "markdown",
   "id": "tough-broadcasting",
   "metadata": {
    "papermill": {},
    "tags": []
   },
   "source": [
    "### Get content\n",
    "👉  The content of a page is return as a array of blocks by the Notion API \n",
    "```json\n",
    "{\n",
    "  \"object\": \"block\",\n",
    "  \"id\": \"9bc30ad4-9373-46a5-84ab-0a7845ee52e6\",\n",
    "  \"created_time\": \"2021-03-16T16:31:00.000Z\",\n",
    "  \"last_edited_time\": \"2021-03-16T16:32:00.000Z\",\n",
    "  \"has_children\": false,\n",
    "  \"type\": \"to_do\",\n",
    "  \"to_do\": {\n",
    "    \"text\": [\n",
    "      {\n",
    "        \"type\": \"text\",\n",
    "        \"text\": {\n",
    "          \"content\": \"Lacinato kale\",\n",
    "          \"link\": null\n",
    "        },\n",
    "        \"annotations\": {\n",
    "          \"bold\": false,\n",
    "          \"italic\": false,\n",
    "          \"strikethrough\": false,\n",
    "          \"underline\": false,\n",
    "          \"code\": false,\n",
    "          \"color\": \"default\"\n",
    "        },\n",
    "        \"plain_text\": \"Lacinato kale\",\n",
    "        \"href\": null\n",
    "      }\n",
    "    ],\n",
    "    \"checked\": false\n",
    "  }\n",
    "}\n",
    "```\n",
    "\n",
    "Each block is a dictionary with different keys:\n",
    "- id *(str)*\n",
    "- has_children *(bool)*\n",
    "- created_time *(str)*\n",
    "- last_edited_time *(str)*\n",
    "- type *(str)*\n",
    "- {type} *(dict)*\n",
    "\n",
    "\n",
    "\n",
    "{type} is an object with type-specific block information<br>\n",
    "List of block type:\n",
    "- paragraph\n",
    "- heading(1,2,3)\n",
    "- bullet list item\n",
    "- numbered list item\n",
    "- to_do_blocks\n",
    "- toggle block\n",
    "- child page block\n",
    "\n",
    "More info here: https://developers.notion.com/reference/block \n",
    "\n",
    "🚨 BEAWARE OF:\n",
    "- I can't retreive the children element of a block: it's not the same behaviour than the one in Block Object look like it's a bug from the API \n",
    "- Some data information are lost. Exemple: the color of the text and the link \n",
    "- blank blocks are count as a paragraph we maybe need to create a new category for them or delete them from the result"
   ]
  },
  {
   "cell_type": "code",
   "execution_count": 62,
   "id": "opposite-denmark",
   "metadata": {
    "execution": {
     "iopub.execute_input": "2021-08-23T12:38:54.124127Z",
     "iopub.status.busy": "2021-08-23T12:38:54.123902Z",
     "iopub.status.idle": "2021-08-23T12:38:55.614831Z",
     "shell.execute_reply": "2021-08-23T12:38:55.614151Z",
     "shell.execute_reply.started": "2021-08-23T12:38:54.124103Z"
    },
    "papermill": {},
    "tags": []
   },
   "outputs": [
    {
     "name": "stdout",
     "output_type": "stream",
     "text": [
      "{'created_time': '2021-07-08T12:55:00.000Z',\n",
      " 'has_children': False,\n",
      " 'id': 'edd11e77-95dd-4fa7-a0fc-a421f8ad3710',\n",
      " 'last_edited_time': '2021-07-09T13:37:00.000Z',\n",
      " 'object': 'block',\n",
      " 'paragraph': {'text': [{'annotations': {'bold': True,\n",
      "                                         'code': False,\n",
      "                                         'color': 'default',\n",
      "                                         'italic': False,\n",
      "                                         'strikethrough': False,\n",
      "                                         'underline': True},\n",
      "                         'href': None,\n",
      "                         'plain_text': 'Acteur 1: les entreprises',\n",
      "                         'text': {'content': 'Acteur 1: les entreprises',\n",
      "                                  'link': None},\n",
      "                         'type': 'text'}]},\n",
      " 'type': 'paragraph'}\n"
     ]
    }
   ],
   "source": [
    "def fetch_raw_blocks(token_api, page_url):\n",
    "    page_id = get_id_from_url(page_url)\n",
    "    url = f'https://api.notion.com/v1/blocks/{page_id}/children'\n",
    "    headers = create_headers(token_api, _VERSION)\n",
    "    response = requests.get(url, headers=headers)\n",
    "    res = requests.get(url, headers=headers)\n",
    "    try:\n",
    "        res.raise_for_status()\n",
    "    except requests.HTTPError as e:\n",
    "        return e\n",
    "    return res.json()['results']\n",
    "\n",
    "blocks = fetch_raw_blocks(TOKEN_API, PAGE_URL)\n",
    "pprint(blocks[0])"
   ]
  },
  {
   "cell_type": "markdown",
   "id": "173e3a58-f328-418a-a7f9-54adba0dd8a2",
   "metadata": {},
   "source": [
    "### Functions"
   ]
  },
  {
   "cell_type": "code",
   "execution_count": 124,
   "id": "c06a6e43-8cc1-4804-ae13-841cfdc685ee",
   "metadata": {
    "execution": {
     "iopub.execute_input": "2021-08-23T13:50:12.645854Z",
     "iopub.status.busy": "2021-08-23T13:50:12.645572Z",
     "iopub.status.idle": "2021-08-23T13:50:12.652226Z",
     "shell.execute_reply": "2021-08-23T13:50:12.651614Z",
     "shell.execute_reply.started": "2021-08-23T13:50:12.645826Z"
    },
    "tags": []
   },
   "outputs": [],
   "source": [
    "_VERSION = '2021-08-16'\n",
    "\n",
    "headers = {'Authorization': f'Bearer {TOKEN_API}',\n",
    "           'Notion-Version': f'{_VERSION}'}\n",
    "\n",
    "def get_id_from_url(url):\n",
    "    return url.split('-')[-1]\n",
    "\n",
    "def get(url):\n",
    "    res = requests.get(url, headers=headers)\n",
    "    try:\n",
    "        res.raise_for_status()\n",
    "    except requests.HTTPError as e:\n",
    "        return e\n",
    "    return res.json()\n",
    "\n",
    "def get_content(page_url):\n",
    "    # Get id from page\n",
    "    page_id = get_id_from_url(page_url)\n",
    "    url = f'https://api.notion.com/v1/blocks/{page_id}/children'\n",
    "    \n",
    "    # Get json\n",
    "    res_json = get(url)\n",
    "    blocks = res_json.get(\"results\")\n",
    "\n",
    "    # Parse json\n",
    "    contents = []\n",
    "    for block in blocks:\n",
    "        content = {\n",
    "            \"object\": block.get(\"object\"),\n",
    "            \"id\": block.get(\"id\"),\n",
    "            \"type\": block.get(\"type\"),\n",
    "            \"has_children\": block.get(\"has_children\"),\n",
    "            \"created_time\": datetime.strptime(block.get(\"created_time\"), '%Y-%m-%dT%H:%M:%S.000Z'),\n",
    "            \"last_edited_time\": datetime.strptime(block.get(\"last_edited_time\"), '%Y-%m-%dT%H:%M:%S.000Z'),\n",
    "        }\n",
    "        type_contents = block.get(block.get(\"type\")).get(\"text\")\n",
    "        if type_contents is not None:\n",
    "            for t in type_contents:\n",
    "                annotations = t.get(\"annotations\")\n",
    "                content.update(annotations)\n",
    "                text = t.get(\"text\")\n",
    "                content.update(text)\n",
    "        contents.append(content)\n",
    "    \n",
    "    df = pd.DataFrame(contents)\n",
    "    return df"
   ]
  },
  {
   "cell_type": "markdown",
   "id": "featured-validity",
   "metadata": {
    "execution": {
     "iopub.execute_input": "2021-07-02T23:32:10.789097Z",
     "iopub.status.busy": "2021-07-02T23:32:10.788829Z",
     "iopub.status.idle": "2021-07-02T23:32:10.796900Z",
     "shell.execute_reply": "2021-07-02T23:32:10.796358Z",
     "shell.execute_reply.started": "2021-07-02T23:32:10.789033Z"
    },
    "papermill": {},
    "tags": []
   },
   "source": [
    "## Output"
   ]
  },
  {
   "cell_type": "markdown",
   "id": "exact-pricing",
   "metadata": {
    "papermill": {},
    "tags": []
   },
   "source": [
    "### Get properties : Table format"
   ]
  },
  {
   "cell_type": "code",
   "execution_count": 113,
   "id": "bee71e34-cc6b-4bd8-9b4b-b1240c30ba9a",
   "metadata": {
    "execution": {
     "iopub.execute_input": "2021-08-23T13:34:03.190333Z",
     "iopub.status.busy": "2021-08-23T13:34:03.190087Z",
     "iopub.status.idle": "2021-08-23T13:34:04.072899Z",
     "shell.execute_reply": "2021-08-23T13:34:04.072241Z",
     "shell.execute_reply.started": "2021-08-23T13:34:03.190306Z"
    },
    "tags": []
   },
   "outputs": [
    {
     "data": {
      "text/plain": [
       "{'object': 'page',\n",
       " 'id': 'f59c898f-5ad3-4587-a544-f9e06b45be5f',\n",
       " 'created_time': '2021-05-18T17:17:00.000Z',\n",
       " 'last_edited_time': '2021-08-23T13:11:00.000Z',\n",
       " 'parent': {'type': 'database_id',\n",
       "  'database_id': '8910d64d-e001-479c-8494-fbecbf52b525'},\n",
       " 'archived': False,\n",
       " 'properties': {'Last Edited Time': {'id': '0AiB',\n",
       "   'type': 'last_edited_time',\n",
       "   'last_edited_time': '2021-08-23T13:11:00.000Z'},\n",
       "  'Created By': {'id': 'F%5D)%3F',\n",
       "   'type': 'created_by',\n",
       "   'created_by': {'object': 'user',\n",
       "    'id': '6e3bab71-beeb-484b-af99-ea30fdef4773',\n",
       "    'name': 'Jeremy Ravenel',\n",
       "    'avatar_url': 'https://lh3.googleusercontent.com/a-/AOh14Ghzj2FjcyVMNQm8vOmap4GNAmairAxAMz0QJXww=s100',\n",
       "    'type': 'person',\n",
       "    'person': {'email': 'jeremy.ravenel@cashstory.com'}}},\n",
       "  'Created': {'id': 'Ird4',\n",
       "   'type': 'created_time',\n",
       "   'created_time': '2021-05-18T17:17:00.000Z'},\n",
       "  'Meeting Date': {'id': 'Q%5B%3Dk',\n",
       "   'type': 'date',\n",
       "   'date': {'start': '2021-05-23', 'end': None}},\n",
       "  'Type': {'id': '_%7B%5C7',\n",
       "   'type': 'select',\n",
       "   'select': {'id': '8ee247a9-cb60-430a-9ea6-d5c053253334',\n",
       "    'name': 'Weekly Sync',\n",
       "    'color': 'yellow'}},\n",
       "  'Participants': {'id': 'b%3AeA', 'type': 'people', 'people': []},\n",
       "  'Name': {'id': 'title',\n",
       "   'type': 'title',\n",
       "   'title': [{'type': 'text',\n",
       "     'text': {'content': 'Weekly Sync 20/05/2021', 'link': None},\n",
       "     'annotations': {'bold': False,\n",
       "      'italic': False,\n",
       "      'strikethrough': False,\n",
       "      'underline': False,\n",
       "      'code': False,\n",
       "      'color': 'default'},\n",
       "     'plain_text': 'Weekly Sync 20/05/2021',\n",
       "     'href': None}]}},\n",
       " 'url': 'https://www.notion.so/Weekly-Sync-20-05-2021-f59c898f5ad34587a544f9e06b45be5f'}"
      ]
     },
     "execution_count": 113,
     "metadata": {},
     "output_type": "execute_result"
    }
   ],
   "source": [
    "df_properties = get_properties(PAGE_URL)\n",
    "df_properties"
   ]
  },
  {
   "cell_type": "code",
   "execution_count": 123,
   "id": "37327f6d-6e0f-4cab-8e50-40ade9ea9170",
   "metadata": {
    "execution": {
     "iopub.execute_input": "2021-08-23T13:39:15.397456Z",
     "iopub.status.busy": "2021-08-23T13:39:15.397212Z",
     "iopub.status.idle": "2021-08-23T13:39:17.035045Z",
     "shell.execute_reply": "2021-08-23T13:39:17.034379Z",
     "shell.execute_reply.started": "2021-08-23T13:39:15.397432Z"
    },
    "tags": []
   },
   "outputs": [
    {
     "name": "stdout",
     "output_type": "stream",
     "text": [
      "{'Created': {'created_time': '2021-05-18T17:17:00.000Z',\n",
      "             'id': 'Ird4',\n",
      "             'type': 'created_time'},\n",
      " 'Created By': {'created_by': {'avatar_url': 'https://lh3.googleusercontent.com/a-/AOh14Ghzj2FjcyVMNQm8vOmap4GNAmairAxAMz0QJXww=s100',\n",
      "                               'id': '6e3bab71-beeb-484b-af99-ea30fdef4773',\n",
      "                               'name': 'Jeremy Ravenel',\n",
      "                               'object': 'user',\n",
      "                               'person': {'email': 'jeremy.ravenel@cashstory.com'},\n",
      "                               'type': 'person'},\n",
      "                'id': 'F%5D)%3F',\n",
      "                'type': 'created_by'},\n",
      " 'Last Edited Time': {'id': '0AiB',\n",
      "                      'last_edited_time': '2021-08-23T13:11:00.000Z',\n",
      "                      'type': 'last_edited_time'},\n",
      " 'Meeting Date': {'date': {'end': None, 'start': '2021-05-23'},\n",
      "                  'id': 'Q%5B%3Dk',\n",
      "                  'type': 'date'},\n",
      " 'Name': {'id': 'title',\n",
      "          'title': [{'annotations': {'bold': False,\n",
      "                                     'code': False,\n",
      "                                     'color': 'default',\n",
      "                                     'italic': False,\n",
      "                                     'strikethrough': False,\n",
      "                                     'underline': False},\n",
      "                     'href': None,\n",
      "                     'plain_text': 'Weekly Sync 20/05/2021',\n",
      "                     'text': {'content': 'Weekly Sync 20/05/2021',\n",
      "                              'link': None},\n",
      "                     'type': 'text'}],\n",
      "          'type': 'title'},\n",
      " 'Participants': {'id': 'b%3AeA', 'people': [], 'type': 'people'},\n",
      " 'Type': {'id': '_%7B%5C7',\n",
      "          'select': {'color': 'yellow',\n",
      "                     'id': '8ee247a9-cb60-430a-9ea6-d5c053253334',\n",
      "                     'name': 'Weekly Sync'},\n",
      "          'type': 'select'}}\n",
      "Last Edited Time\n",
      "Created By\n",
      "Created\n",
      "Meeting Date\n",
      "Type\n",
      "Participants\n",
      "Name\n"
     ]
    }
   ],
   "source": [
    "PAGE_URL = \"https://www.notion.so/naas-official/Weekly-Sync-20-05-2021-f59c898f5ad34587a544f9e06b45be5f\"\n",
    "\n",
    "# Get id from page\n",
    "page_id = get_id_from_url(PAGE_URL)\n",
    "url = f'https://api.notion.com/v1/pages/{page_id}'\n",
    "\n",
    "# Get json\n",
    "res_json = get(url)\n",
    "\n",
    "# Parse json\n",
    "content = {\n",
    "    \"object\": res_json.get(\"object\"),\n",
    "    \"id\": res_json.get(\"id\"),\n",
    "    \"url\": res_json.get(\"url\"),\n",
    "    \"archived\": res_json.get(\"archived\"),\n",
    "    \"created_time\": datetime.strptime(res_json.get(\"created_time\"), '%Y-%m-%dT%H:%M:%S.000Z'),\n",
    "    \"last_edited_time\": datetime.strptime(res_json.get(\"last_edited_time\"), '%Y-%m-%dT%H:%M:%S.000Z'),\n",
    "}\n",
    "properties = res_json.get(\"properties\")\n",
    "pprint(properties)\n",
    "for p in properties:\n",
    "    print(p)"
   ]
  },
  {
   "cell_type": "markdown",
   "id": "extensive-opinion",
   "metadata": {
    "papermill": {},
    "tags": []
   },
   "source": [
    "### Get content : Table format"
   ]
  },
  {
   "cell_type": "code",
   "execution_count": 122,
   "id": "greatest-wyoming",
   "metadata": {
    "execution": {
     "iopub.execute_input": "2021-08-23T13:38:19.259631Z",
     "iopub.status.busy": "2021-08-23T13:38:19.259333Z",
     "iopub.status.idle": "2021-08-23T13:38:20.143084Z",
     "shell.execute_reply": "2021-08-23T13:38:20.142547Z",
     "shell.execute_reply.started": "2021-08-23T13:38:19.259600Z"
    },
    "papermill": {},
    "tags": []
   },
   "outputs": [
    {
     "data": {
      "text/html": [
       "<div>\n",
       "<style scoped>\n",
       "    .dataframe tbody tr th:only-of-type {\n",
       "        vertical-align: middle;\n",
       "    }\n",
       "\n",
       "    .dataframe tbody tr th {\n",
       "        vertical-align: top;\n",
       "    }\n",
       "\n",
       "    .dataframe thead th {\n",
       "        text-align: right;\n",
       "    }\n",
       "</style>\n",
       "<table border=\"1\" class=\"dataframe\">\n",
       "  <thead>\n",
       "    <tr style=\"text-align: right;\">\n",
       "      <th></th>\n",
       "      <th>object</th>\n",
       "      <th>id</th>\n",
       "      <th>type</th>\n",
       "      <th>has_children</th>\n",
       "      <th>created_time</th>\n",
       "      <th>last_edited_time</th>\n",
       "      <th>bold</th>\n",
       "      <th>italic</th>\n",
       "      <th>strikethrough</th>\n",
       "      <th>underline</th>\n",
       "      <th>code</th>\n",
       "      <th>color</th>\n",
       "      <th>content</th>\n",
       "      <th>link</th>\n",
       "    </tr>\n",
       "  </thead>\n",
       "  <tbody>\n",
       "    <tr>\n",
       "      <th>0</th>\n",
       "      <td>block</td>\n",
       "      <td>d85d9955-cb2a-41dd-bf0a-3a051d1bb5de</td>\n",
       "      <td>unsupported</td>\n",
       "      <td>False</td>\n",
       "      <td>2021-05-18 17:17:00</td>\n",
       "      <td>2021-05-18 17:17:00</td>\n",
       "      <td>NaN</td>\n",
       "      <td>NaN</td>\n",
       "      <td>NaN</td>\n",
       "      <td>NaN</td>\n",
       "      <td>NaN</td>\n",
       "      <td>NaN</td>\n",
       "      <td>NaN</td>\n",
       "      <td>NaN</td>\n",
       "    </tr>\n",
       "    <tr>\n",
       "      <th>1</th>\n",
       "      <td>block</td>\n",
       "      <td>2d82db5e-5633-4ea6-9fc0-928b78fed69f</td>\n",
       "      <td>heading_1</td>\n",
       "      <td>False</td>\n",
       "      <td>2021-05-18 17:17:00</td>\n",
       "      <td>2021-05-18 17:17:00</td>\n",
       "      <td>False</td>\n",
       "      <td>False</td>\n",
       "      <td>False</td>\n",
       "      <td>False</td>\n",
       "      <td>False</td>\n",
       "      <td>default</td>\n",
       "      <td>What did we do last week?</td>\n",
       "      <td>NaN</td>\n",
       "    </tr>\n",
       "    <tr>\n",
       "      <th>2</th>\n",
       "      <td>block</td>\n",
       "      <td>02699496-f03c-46a9-b614-2a633a1752c9</td>\n",
       "      <td>bulleted_list_item</td>\n",
       "      <td>False</td>\n",
       "      <td>2021-05-18 17:17:00</td>\n",
       "      <td>2021-05-18 17:17:00</td>\n",
       "      <td>NaN</td>\n",
       "      <td>NaN</td>\n",
       "      <td>NaN</td>\n",
       "      <td>NaN</td>\n",
       "      <td>NaN</td>\n",
       "      <td>NaN</td>\n",
       "      <td>NaN</td>\n",
       "      <td>NaN</td>\n",
       "    </tr>\n",
       "    <tr>\n",
       "      <th>3</th>\n",
       "      <td>block</td>\n",
       "      <td>39ce79e0-9db4-4f5c-aa9f-a8ecb4fb3f11</td>\n",
       "      <td>heading_1</td>\n",
       "      <td>False</td>\n",
       "      <td>2021-05-18 17:17:00</td>\n",
       "      <td>2021-05-18 17:17:00</td>\n",
       "      <td>False</td>\n",
       "      <td>False</td>\n",
       "      <td>False</td>\n",
       "      <td>False</td>\n",
       "      <td>False</td>\n",
       "      <td>default</td>\n",
       "      <td>What are we doing this week?</td>\n",
       "      <td>NaN</td>\n",
       "    </tr>\n",
       "    <tr>\n",
       "      <th>4</th>\n",
       "      <td>block</td>\n",
       "      <td>6dadfa21-0d74-4bc0-9862-b90519eaeff8</td>\n",
       "      <td>bulleted_list_item</td>\n",
       "      <td>False</td>\n",
       "      <td>2021-05-18 17:17:00</td>\n",
       "      <td>2021-05-18 17:17:00</td>\n",
       "      <td>NaN</td>\n",
       "      <td>NaN</td>\n",
       "      <td>NaN</td>\n",
       "      <td>NaN</td>\n",
       "      <td>NaN</td>\n",
       "      <td>NaN</td>\n",
       "      <td>NaN</td>\n",
       "      <td>NaN</td>\n",
       "    </tr>\n",
       "    <tr>\n",
       "      <th>5</th>\n",
       "      <td>block</td>\n",
       "      <td>7553fb80-18d5-4065-b426-49c2ef27a9c1</td>\n",
       "      <td>heading_1</td>\n",
       "      <td>False</td>\n",
       "      <td>2021-05-18 17:17:00</td>\n",
       "      <td>2021-05-18 17:17:00</td>\n",
       "      <td>False</td>\n",
       "      <td>False</td>\n",
       "      <td>False</td>\n",
       "      <td>False</td>\n",
       "      <td>False</td>\n",
       "      <td>default</td>\n",
       "      <td>Potential blockers?</td>\n",
       "      <td>NaN</td>\n",
       "    </tr>\n",
       "    <tr>\n",
       "      <th>6</th>\n",
       "      <td>block</td>\n",
       "      <td>c1df621d-b8e5-4376-9c2f-f32e3a5a7153</td>\n",
       "      <td>bulleted_list_item</td>\n",
       "      <td>False</td>\n",
       "      <td>2021-05-18 17:17:00</td>\n",
       "      <td>2021-05-18 17:17:00</td>\n",
       "      <td>NaN</td>\n",
       "      <td>NaN</td>\n",
       "      <td>NaN</td>\n",
       "      <td>NaN</td>\n",
       "      <td>NaN</td>\n",
       "      <td>NaN</td>\n",
       "      <td>NaN</td>\n",
       "      <td>NaN</td>\n",
       "    </tr>\n",
       "    <tr>\n",
       "      <th>7</th>\n",
       "      <td>block</td>\n",
       "      <td>a49a16df-5837-47a1-830c-49ea96852cb1</td>\n",
       "      <td>heading_1</td>\n",
       "      <td>False</td>\n",
       "      <td>2021-05-18 17:17:00</td>\n",
       "      <td>2021-05-18 17:17:00</td>\n",
       "      <td>False</td>\n",
       "      <td>False</td>\n",
       "      <td>False</td>\n",
       "      <td>False</td>\n",
       "      <td>False</td>\n",
       "      <td>default</td>\n",
       "      <td>Action items</td>\n",
       "      <td>NaN</td>\n",
       "    </tr>\n",
       "    <tr>\n",
       "      <th>8</th>\n",
       "      <td>block</td>\n",
       "      <td>4a8ae2f8-0dde-4b3c-82ad-92d3729daffc</td>\n",
       "      <td>paragraph</td>\n",
       "      <td>False</td>\n",
       "      <td>2021-05-18 17:17:00</td>\n",
       "      <td>2021-05-18 17:17:00</td>\n",
       "      <td>False</td>\n",
       "      <td>False</td>\n",
       "      <td>False</td>\n",
       "      <td>False</td>\n",
       "      <td>False</td>\n",
       "      <td>default</td>\n",
       "      <td>followed by the name of a teammate to assign ...</td>\n",
       "      <td>NaN</td>\n",
       "    </tr>\n",
       "    <tr>\n",
       "      <th>9</th>\n",
       "      <td>block</td>\n",
       "      <td>4d77e9dc-d399-4a0b-8cc9-5c52b543e79d</td>\n",
       "      <td>to_do</td>\n",
       "      <td>False</td>\n",
       "      <td>2021-05-18 17:17:00</td>\n",
       "      <td>2021-05-18 17:17:00</td>\n",
       "      <td>NaN</td>\n",
       "      <td>NaN</td>\n",
       "      <td>NaN</td>\n",
       "      <td>NaN</td>\n",
       "      <td>NaN</td>\n",
       "      <td>NaN</td>\n",
       "      <td>NaN</td>\n",
       "      <td>NaN</td>\n",
       "    </tr>\n",
       "  </tbody>\n",
       "</table>\n",
       "</div>"
      ],
      "text/plain": [
       "  object                                    id                type  \\\n",
       "0  block  d85d9955-cb2a-41dd-bf0a-3a051d1bb5de         unsupported   \n",
       "1  block  2d82db5e-5633-4ea6-9fc0-928b78fed69f           heading_1   \n",
       "2  block  02699496-f03c-46a9-b614-2a633a1752c9  bulleted_list_item   \n",
       "3  block  39ce79e0-9db4-4f5c-aa9f-a8ecb4fb3f11           heading_1   \n",
       "4  block  6dadfa21-0d74-4bc0-9862-b90519eaeff8  bulleted_list_item   \n",
       "5  block  7553fb80-18d5-4065-b426-49c2ef27a9c1           heading_1   \n",
       "6  block  c1df621d-b8e5-4376-9c2f-f32e3a5a7153  bulleted_list_item   \n",
       "7  block  a49a16df-5837-47a1-830c-49ea96852cb1           heading_1   \n",
       "8  block  4a8ae2f8-0dde-4b3c-82ad-92d3729daffc           paragraph   \n",
       "9  block  4d77e9dc-d399-4a0b-8cc9-5c52b543e79d               to_do   \n",
       "\n",
       "   has_children        created_time    last_edited_time   bold italic  \\\n",
       "0         False 2021-05-18 17:17:00 2021-05-18 17:17:00    NaN    NaN   \n",
       "1         False 2021-05-18 17:17:00 2021-05-18 17:17:00  False  False   \n",
       "2         False 2021-05-18 17:17:00 2021-05-18 17:17:00    NaN    NaN   \n",
       "3         False 2021-05-18 17:17:00 2021-05-18 17:17:00  False  False   \n",
       "4         False 2021-05-18 17:17:00 2021-05-18 17:17:00    NaN    NaN   \n",
       "5         False 2021-05-18 17:17:00 2021-05-18 17:17:00  False  False   \n",
       "6         False 2021-05-18 17:17:00 2021-05-18 17:17:00    NaN    NaN   \n",
       "7         False 2021-05-18 17:17:00 2021-05-18 17:17:00  False  False   \n",
       "8         False 2021-05-18 17:17:00 2021-05-18 17:17:00  False  False   \n",
       "9         False 2021-05-18 17:17:00 2021-05-18 17:17:00    NaN    NaN   \n",
       "\n",
       "  strikethrough underline   code    color  \\\n",
       "0           NaN       NaN    NaN      NaN   \n",
       "1         False     False  False  default   \n",
       "2           NaN       NaN    NaN      NaN   \n",
       "3         False     False  False  default   \n",
       "4           NaN       NaN    NaN      NaN   \n",
       "5         False     False  False  default   \n",
       "6           NaN       NaN    NaN      NaN   \n",
       "7         False     False  False  default   \n",
       "8         False     False  False  default   \n",
       "9           NaN       NaN    NaN      NaN   \n",
       "\n",
       "                                             content  link  \n",
       "0                                                NaN   NaN  \n",
       "1                          What did we do last week?   NaN  \n",
       "2                                                NaN   NaN  \n",
       "3                       What are we doing this week?   NaN  \n",
       "4                                                NaN   NaN  \n",
       "5                               Potential blockers?    NaN  \n",
       "6                                                NaN   NaN  \n",
       "7                                       Action items   NaN  \n",
       "8   followed by the name of a teammate to assign ...   NaN  \n",
       "9                                                NaN   NaN  "
      ]
     },
     "execution_count": 122,
     "metadata": {},
     "output_type": "execute_result"
    }
   ],
   "source": [
    "df_content = get_content(PAGE_URL)\n",
    "df_content"
   ]
  }
 ],
 "metadata": {
  "kernelspec": {
   "display_name": "Python 3",
   "language": "python",
   "name": "python3"
  },
  "language_info": {
   "codemirror_mode": {
    "name": "ipython",
    "version": 3
   },
   "file_extension": ".py",
   "mimetype": "text/x-python",
   "name": "python",
   "nbconvert_exporter": "python",
   "pygments_lexer": "ipython3",
   "version": "3.8.8"
  },
  "papermill": {
   "default_parameters": {},
   "environment_variables": {},
   "parameters": {},
   "version": "2.3.3"
  },
  "widgets": {
   "application/vnd.jupyter.widget-state+json": {
    "state": {},
    "version_major": 2,
    "version_minor": 0
   }
  }
 },
 "nbformat": 4,
 "nbformat_minor": 5
}
