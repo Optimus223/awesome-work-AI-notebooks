{
 "cells": [
  {
   "cell_type": "markdown",
   "id": "executive-leone",
   "metadata": {
    "execution": {
     "iopub.execute_input": "2021-02-23T14:22:16.610471Z",
     "iopub.status.busy": "2021-02-23T14:22:16.610129Z",
     "iopub.status.idle": "2021-02-23T14:22:16.627784Z",
     "shell.execute_reply": "2021-02-23T14:22:16.626866Z",
     "shell.execute_reply.started": "2021-02-23T14:22:16.610384Z"
    },
    "papermill": {},
    "tags": []
   },
   "source": [
    "<img width=\"10%\" alt=\"Naas\" src=\"https://landen.imgix.net/jtci2pxwjczr/assets/5ice39g4.png?w=160\"/>"
   ]
  },
  {
   "cell_type": "markdown",
   "id": "light-exhibition",
   "metadata": {
    "papermill": {},
    "tags": []
   },
   "source": [
    "# Notion - Get page\n",
    "<a href=\"https://app.naas.ai/user-redirect/naas/downloader?url=https://raw.githubusercontent.com/jupyter-naas/awesome-notebooks/master/Notion/Notion_Get_page.ipynb\" target=\"_parent\"><img src=\"https://img.shields.io/badge/-Open%20in%20Naas-success?labelColor=000000&logo=data:image/svg+xml;base64,PD94bWwgdmVyc2lvbj0iMS4wIiBlbmNvZGluZz0iVVRGLTgiPz4KPHN2ZyB3aWR0aD0iMTAyNHB4IiBoZWlnaHQ9IjEwMjRweCIgdmlld0JveD0iMCAwIDEwMjQgMTAyNCIgeG1sbnM9Imh0dHA6Ly93d3cudzMub3JnLzIwMDAvc3ZnIiB4bWxuczp4bGluaz0iaHR0cDovL3d3dy53My5vcmcvMTk5OS94bGluayIgdmVyc2lvbj0iMS4xIj4KIDwhLS0gR2VuZXJhdGVkIGJ5IFBpeGVsbWF0b3IgUHJvIDIuMC41IC0tPgogPGRlZnM+CiAgPHRleHQgaWQ9InN0cmluZyIgdHJhbnNmb3JtPSJtYXRyaXgoMS4wIDAuMCAwLjAgMS4wIDIyOC4wIDU0LjUpIiBmb250LWZhbWlseT0iQ29tZm9ydGFhLVJlZ3VsYXIsIENvbWZvcnRhYSIgZm9udC1zaXplPSI4MDAiIHRleHQtZGVjb3JhdGlvbj0ibm9uZSIgZmlsbD0iI2ZmZmZmZiIgeD0iMS4xOTk5OTk5OTk5OTk5ODg2IiB5PSI3MDUuMCI+bjwvdGV4dD4KIDwvZGVmcz4KIDx1c2UgaWQ9Im4iIHhsaW5rOmhyZWY9IiNzdHJpbmciLz4KPC9zdmc+Cg==\"/></a>"
   ]
  },
  {
   "cell_type": "markdown",
   "id": "buried-hearts",
   "metadata": {
    "papermill": {},
    "tags": []
   },
   "source": [
    "## Input"
   ]
  },
  {
   "cell_type": "markdown",
   "id": "vietnamese-avatar",
   "metadata": {
    "papermill": {},
    "tags": []
   },
   "source": [
    "### Import library"
   ]
  },
  {
   "cell_type": "code",
   "execution_count": 3,
   "id": "passing-voltage",
   "metadata": {
    "execution": {
     "iopub.execute_input": "2021-09-09T16:51:19.304597Z",
     "iopub.status.busy": "2021-09-09T16:51:19.304295Z",
     "iopub.status.idle": "2021-09-09T16:51:20.549877Z",
     "shell.execute_reply": "2021-09-09T16:51:20.549229Z",
     "shell.execute_reply.started": "2021-09-09T16:51:19.304562Z"
    },
    "papermill": {},
    "tags": []
   },
   "outputs": [],
   "source": [
    "from notion import Notion\n",
    "import naas"
   ]
  },
  {
   "cell_type": "markdown",
   "id": "subtle-oxide",
   "metadata": {
    "papermill": {},
    "tags": []
   },
   "source": [
    "### Variables"
   ]
  },
  {
   "cell_type": "code",
   "execution_count": 4,
   "id": "cutting-hartford",
   "metadata": {
    "execution": {
     "iopub.execute_input": "2021-09-09T16:51:20.554641Z",
     "iopub.status.busy": "2021-09-09T16:51:20.554453Z",
     "iopub.status.idle": "2021-09-09T16:51:20.558491Z",
     "shell.execute_reply": "2021-09-09T16:51:20.557967Z",
     "shell.execute_reply.started": "2021-09-09T16:51:20.554619Z"
    },
    "papermill": {},
    "tags": []
   },
   "outputs": [],
   "source": [
    "# Enter Notion Token API\n",
    "token = \"secret_R1CrUGn8bx9itbJW0Fc9Cc0R9Lmhbnz2ayqEe0GhRPq\"\n",
    "\n",
    "# Enter database url\n",
    "url = \"https://www.notion.so/Axel-2ccdafe28955478b8c9d70bda0044c86\""
   ]
  },
  {
   "cell_type": "code",
   "execution_count": 5,
   "id": "30d0d595-482a-4634-9a86-7cd4dd8e9b28",
   "metadata": {
    "execution": {
     "iopub.execute_input": "2021-09-09T16:51:21.020969Z",
     "iopub.status.busy": "2021-09-09T16:51:21.020738Z",
     "iopub.status.idle": "2021-09-09T16:51:22.469482Z",
     "shell.execute_reply": "2021-09-09T16:51:22.468832Z",
     "shell.execute_reply.started": "2021-09-09T16:51:21.020947Z"
    },
    "papermill": {},
    "tags": []
   },
   "outputs": [],
   "source": [
    "notion = Notion().connect(token)"
   ]
  },
  {
   "cell_type": "markdown",
   "id": "coupled-compiler",
   "metadata": {
    "papermill": {},
    "tags": []
   },
   "source": [
    "## Model"
   ]
  },
  {
   "cell_type": "markdown",
   "id": "still-willow",
   "metadata": {
    "papermill": {},
    "tags": []
   },
   "source": [
    "### Get properties"
   ]
  },
  {
   "cell_type": "code",
   "execution_count": 12,
   "id": "industrial-surprise",
   "metadata": {
    "execution": {
     "iopub.execute_input": "2021-09-09T16:53:06.566431Z",
     "iopub.status.busy": "2021-09-09T16:53:06.566179Z",
     "iopub.status.idle": "2021-09-09T16:53:06.583066Z",
     "shell.execute_reply": "2021-09-09T16:53:06.582128Z",
     "shell.execute_reply.started": "2021-09-09T16:53:06.566396Z"
    },
    "papermill": {},
    "tags": []
   },
   "outputs": [],
   "source": [
    "page = notion.page()"
   ]
  },
  {
   "cell_type": "markdown",
   "id": "tough-broadcasting",
   "metadata": {
    "papermill": {},
    "tags": []
   },
   "source": [
    "### Get content\n",
    "👉  The content of a page is return as a array of blocks by the Notion API \n",
    "```json\n",
    "{\n",
    "  \"object\": \"block\",\n",
    "  \"id\": \"9bc30ad4-9373-46a5-84ab-0a7845ee52e6\",\n",
    "  \"created_time\": \"2021-03-16T16:31:00.000Z\",\n",
    "  \"last_edited_time\": \"2021-03-16T16:32:00.000Z\",\n",
    "  \"has_children\": false,\n",
    "  \"type\": \"to_do\",\n",
    "  \"to_do\": {\n",
    "    \"text\": [\n",
    "      {\n",
    "        \"type\": \"text\",\n",
    "        \"text\": {\n",
    "          \"content\": \"Lacinato kale\",\n",
    "          \"link\": null\n",
    "        },\n",
    "        \"annotations\": {\n",
    "          \"bold\": false,\n",
    "          \"italic\": false,\n",
    "          \"strikethrough\": false,\n",
    "          \"underline\": false,\n",
    "          \"code\": false,\n",
    "          \"color\": \"default\"\n",
    "        },\n",
    "        \"plain_text\": \"Lacinato kale\",\n",
    "        \"href\": null\n",
    "      }\n",
    "    ],\n",
    "    \"checked\": false\n",
    "  }\n",
    "}\n",
    "```\n",
    "\n",
    "Each block is a dictionary with different keys:\n",
    "- id *(str)*\n",
    "- has_children *(bool)*\n",
    "- created_time *(str)*\n",
    "- last_edited_time *(str)*\n",
    "- type *(str)*\n",
    "- {type} *(dict)*\n",
    "\n",
    "\n",
    "\n",
    "{type} is an object with type-specific block information<br>\n",
    "List of block type:\n",
    "- paragraph\n",
    "- heading(1,2,3)\n",
    "- bullet list item\n",
    "- numbered list item\n",
    "- to_do_blocks\n",
    "- toggle block\n",
    "- child page block\n",
    "\n",
    "More info here: https://developers.notion.com/reference/block \n",
    "\n",
    "🚨 BEAWARE OF:\n",
    "- I can't retreive the children element of a block: it's not the same behaviour than the one in Block Object look like it's a bug from the API \n",
    "- Some data information are lost. Exemple: the color of the text and the link \n",
    "- blank blocks are count as a paragraph we maybe need to create a new category for them or delete them from the result"
   ]
  },
  {
   "cell_type": "code",
   "execution_count": 62,
   "id": "opposite-denmark",
   "metadata": {
    "execution": {
     "iopub.execute_input": "2021-08-23T12:38:54.124127Z",
     "iopub.status.busy": "2021-08-23T12:38:54.123902Z",
     "iopub.status.idle": "2021-08-23T12:38:55.614831Z",
     "shell.execute_reply": "2021-08-23T12:38:55.614151Z",
     "shell.execute_reply.started": "2021-08-23T12:38:54.124103Z"
    },
    "papermill": {},
    "tags": []
   },
   "outputs": [],
   "source": [
    "def fetch_raw_blocks(token_api, page_url):\n",
    "    page_id = get_id_from_url(page_url)\n",
    "    url = f'https://api.notion.com/v1/blocks/{page_id}/children'\n",
    "    headers = create_headers(token_api, _VERSION)\n",
    "    response = requests.get(url, headers=headers)\n",
    "    res = requests.get(url, headers=headers)\n",
    "    try:\n",
    "        res.raise_for_status()\n",
    "    except requests.HTTPError as e:\n",
    "        return e\n",
    "    return res.json()['results']\n",
    "\n",
    "blocks = fetch_raw_blocks(TOKEN_API, PAGE_URL)\n",
    "pprint(blocks[0])"
   ]
  },
  {
   "cell_type": "markdown",
   "id": "173e3a58-f328-418a-a7f9-54adba0dd8a2",
   "metadata": {
    "papermill": {},
    "tags": []
   },
   "source": [
    "### Functions"
   ]
  },
  {
   "cell_type": "code",
   "execution_count": 124,
   "id": "c06a6e43-8cc1-4804-ae13-841cfdc685ee",
   "metadata": {
    "execution": {
     "iopub.execute_input": "2021-08-23T13:50:12.645854Z",
     "iopub.status.busy": "2021-08-23T13:50:12.645572Z",
     "iopub.status.idle": "2021-08-23T13:50:12.652226Z",
     "shell.execute_reply": "2021-08-23T13:50:12.651614Z",
     "shell.execute_reply.started": "2021-08-23T13:50:12.645826Z"
    },
    "papermill": {},
    "tags": []
   },
   "outputs": [],
   "source": [
    "_VERSION = '2021-08-16'\n",
    "\n",
    "headers = {'Authorization': f'Bearer {TOKEN_API}',\n",
    "           'Notion-Version': f'{_VERSION}'}\n",
    "\n",
    "def get_id_from_url(url):\n",
    "    return url.split('-')[-1]\n",
    "\n",
    "def get(url):\n",
    "    res = requests.get(url, headers=headers)\n",
    "    try:\n",
    "        res.raise_for_status()\n",
    "    except requests.HTTPError as e:\n",
    "        return e\n",
    "    return res.json()\n",
    "\n",
    "def get_content(page_url):\n",
    "    # Get id from page\n",
    "    page_id = get_id_from_url(page_url)\n",
    "    url = f'https://api.notion.com/v1/blocks/{page_id}/children'\n",
    "    \n",
    "    # Get json\n",
    "    res_json = get(url)\n",
    "    blocks = res_json.get(\"results\")\n",
    "\n",
    "    # Parse json\n",
    "    contents = []\n",
    "    for block in blocks:\n",
    "        content = {\n",
    "            \"object\": block.get(\"object\"),\n",
    "            \"id\": block.get(\"id\"),\n",
    "            \"type\": block.get(\"type\"),\n",
    "            \"has_children\": block.get(\"has_children\"),\n",
    "            \"created_time\": datetime.strptime(block.get(\"created_time\"), '%Y-%m-%dT%H:%M:%S.000Z'),\n",
    "            \"last_edited_time\": datetime.strptime(block.get(\"last_edited_time\"), '%Y-%m-%dT%H:%M:%S.000Z'),\n",
    "        }\n",
    "        type_contents = block.get(block.get(\"type\")).get(\"text\")\n",
    "        if type_contents is not None:\n",
    "            for t in type_contents:\n",
    "                annotations = t.get(\"annotations\")\n",
    "                content.update(annotations)\n",
    "                text = t.get(\"text\")\n",
    "                content.update(text)\n",
    "        contents.append(content)\n",
    "    \n",
    "    df = pd.DataFrame(contents)\n",
    "    return df"
   ]
  },
  {
   "cell_type": "markdown",
   "id": "featured-validity",
   "metadata": {
    "execution": {
     "iopub.execute_input": "2021-07-02T23:32:10.789097Z",
     "iopub.status.busy": "2021-07-02T23:32:10.788829Z",
     "iopub.status.idle": "2021-07-02T23:32:10.796900Z",
     "shell.execute_reply": "2021-07-02T23:32:10.796358Z",
     "shell.execute_reply.started": "2021-07-02T23:32:10.789033Z"
    },
    "papermill": {},
    "tags": []
   },
   "source": [
    "## Output"
   ]
  },
  {
   "cell_type": "markdown",
   "id": "exact-pricing",
   "metadata": {
    "papermill": {},
    "tags": []
   },
   "source": [
    "### Get properties : Table format"
   ]
  },
  {
   "cell_type": "code",
   "execution_count": 113,
   "id": "bee71e34-cc6b-4bd8-9b4b-b1240c30ba9a",
   "metadata": {
    "execution": {
     "iopub.execute_input": "2021-08-23T13:34:03.190333Z",
     "iopub.status.busy": "2021-08-23T13:34:03.190087Z",
     "iopub.status.idle": "2021-08-23T13:34:04.072899Z",
     "shell.execute_reply": "2021-08-23T13:34:04.072241Z",
     "shell.execute_reply.started": "2021-08-23T13:34:03.190306Z"
    },
    "papermill": {},
    "tags": []
   },
   "outputs": [],
   "source": [
    "df_properties = get_properties(PAGE_URL)\n",
    "df_properties"
   ]
  },
  {
   "cell_type": "code",
   "execution_count": 123,
   "id": "37327f6d-6e0f-4cab-8e50-40ade9ea9170",
   "metadata": {
    "execution": {
     "iopub.execute_input": "2021-08-23T13:39:15.397456Z",
     "iopub.status.busy": "2021-08-23T13:39:15.397212Z",
     "iopub.status.idle": "2021-08-23T13:39:17.035045Z",
     "shell.execute_reply": "2021-08-23T13:39:17.034379Z",
     "shell.execute_reply.started": "2021-08-23T13:39:15.397432Z"
    },
    "papermill": {},
    "tags": []
   },
   "outputs": [],
   "source": [
    "PAGE_URL = \"https://www.notion.so/naas-official/Weekly-Sync-20-05-2021-f59c898f5ad34587a544f9e06b45be5f\"\n",
    "\n",
    "# Get id from page\n",
    "page_id = get_id_from_url(PAGE_URL)\n",
    "url = f'https://api.notion.com/v1/pages/{page_id}'\n",
    "\n",
    "# Get json\n",
    "res_json = get(url)\n",
    "\n",
    "# Parse json\n",
    "content = {\n",
    "    \"object\": res_json.get(\"object\"),\n",
    "    \"id\": res_json.get(\"id\"),\n",
    "    \"url\": res_json.get(\"url\"),\n",
    "    \"archived\": res_json.get(\"archived\"),\n",
    "    \"created_time\": datetime.strptime(res_json.get(\"created_time\"), '%Y-%m-%dT%H:%M:%S.000Z'),\n",
    "    \"last_edited_time\": datetime.strptime(res_json.get(\"last_edited_time\"), '%Y-%m-%dT%H:%M:%S.000Z'),\n",
    "}\n",
    "properties = res_json.get(\"properties\")\n",
    "pprint(properties)\n",
    "for p in properties:\n",
    "    print(p)"
   ]
  },
  {
   "cell_type": "markdown",
   "id": "extensive-opinion",
   "metadata": {
    "papermill": {},
    "tags": []
   },
   "source": [
    "### Get content : Table format"
   ]
  },
  {
   "cell_type": "code",
   "execution_count": 122,
   "id": "greatest-wyoming",
   "metadata": {
    "execution": {
     "iopub.execute_input": "2021-08-23T13:38:19.259631Z",
     "iopub.status.busy": "2021-08-23T13:38:19.259333Z",
     "iopub.status.idle": "2021-08-23T13:38:20.143084Z",
     "shell.execute_reply": "2021-08-23T13:38:20.142547Z",
     "shell.execute_reply.started": "2021-08-23T13:38:19.259600Z"
    },
    "papermill": {},
    "tags": []
   },
   "outputs": [],
   "source": [
    "df_content = get_content(PAGE_URL)\n",
    "df_content"
   ]
  }
 ],
 "metadata": {
  "kernelspec": {
   "display_name": "Python 3",
   "language": "python",
   "name": "python3"
  },
  "language_info": {
   "codemirror_mode": {
    "name": "ipython",
    "version": 3
   },
   "file_extension": ".py",
   "mimetype": "text/x-python",
   "name": "python",
   "nbconvert_exporter": "python",
   "pygments_lexer": "ipython3",
   "version": "3.8.8"
  },
  "papermill": {
   "default_parameters": {},
   "environment_variables": {},
   "parameters": {},
   "version": "2.3.3"
  },
  "widgets": {
   "application/vnd.jupyter.widget-state+json": {
    "state": {},
    "version_major": 2,
    "version_minor": 0
   }
  }
 },
 "nbformat": 4,
 "nbformat_minor": 5
}