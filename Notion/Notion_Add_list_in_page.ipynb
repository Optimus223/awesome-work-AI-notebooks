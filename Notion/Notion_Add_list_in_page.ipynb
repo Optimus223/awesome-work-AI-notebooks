{
 "cells": [
  {
   "cell_type": "markdown",
   "id": "25debe14-3851-4afb-b8ec-2734254a27ba",
   "metadata": {
    "papermill": {},
    "tags": []
   },
   "source": [
    "<img width=\"10%\" alt=\"Naas\" src=\"https://landen.imgix.net/jtci2pxwjczr/assets/5ice39g4.png?w=160\"/>"
   ]
  },
  {
   "cell_type": "markdown",
   "id": "f054f92a-4f79-4720-bb22-3668925aac80",
   "metadata": {
    "papermill": {},
    "tags": []
   },
   "source": [
    "# Notion - Add list in page"
   ]
  },
  {
   "cell_type": "markdown",
   "id": "a225831e-5892-4f9a-be04-f1e353d5b9dd",
   "metadata": {
    "papermill": {},
    "tags": []
   },
   "source": [
    "**Tags:** #notion #list #page #organization #tutorial #howto"
   ]
  },
  {
   "cell_type": "markdown",
   "id": "2b7eded0-5f1f-496f-95b9-d7691fba3c24",
   "metadata": {
    "papermill": {},
    "tags": []
   },
   "source": [
    "**Author:** [Florent Ravenel](https://www.linkedin.com/in/florent-ravenel/)"
   ]
  },
  {
   "cell_type": "markdown",
   "id": "b1c8845c-1f10-4783-a34d-75270ab49cce",
   "metadata": {
    "papermill": {},
    "tags": []
   },
   "source": [
    "**Description:** This notebook explains how to add a list in a Notion page. It is usefull for organization as it allows to quickly add a list of items in a page."
   ]
  },
  {
   "cell_type": "markdown",
   "id": "75b7e461-5f14-491d-baa7-750252b3eb6b",
   "metadata": {
    "papermill": {},
    "tags": []
   },
   "source": [
    "**References:**\n- [Notion Documentation](https://www.notion.so/Notion-Documentation-f2f2f18a7d5f4f9f8bddd5e7aee9f6d6)\n- [Notion Tutorials](https://www.notion.so/Notion-Tutorials-f2f2f18a7d5f4f9f8bddd5e7aee9f6d6)"
   ]
  },
  {
   "cell_type": "markdown",
   "id": "c7d1e53e-e632-40f5-956e-761f6d0f2004",
   "metadata": {
    "papermill": {},
    "tags": []
   },
   "source": [
    "## Input"
   ]
  },
  {
   "cell_type": "markdown",
   "id": "84819e76-b340-4eeb-bb6a-05ba4baeeffa",
   "metadata": {
    "papermill": {},
    "tags": []
   },
   "source": [
    "### Import libraries"
   ]
  },
  {
   "cell_type": "code",
   "execution_count": null,
   "id": "d80bf195-6269-4019-8345-f5e6993e77fb",
   "metadata": {
    "papermill": {},
    "tags": []
   },
   "source": "import notion",
   "outputs": []
  },
  {
   "cell_type": "markdown",
   "id": "48cc66bf-efad-4ca7-a55b-dab9cbeb9f67",
   "metadata": {
    "papermill": {},
    "tags": []
   },
   "source": [
    "### Setup Variables\n- `token_v2`: [Notion Token V2](https://www.notion.so/Notion-API-Tokens-e5e2945f81494efbbbdddae8aee888d5)\n- `page_url`: URL of the Notion page"
   ]
  },
  {
   "cell_type": "code",
   "execution_count": null,
   "id": "ea3b640c-b952-49a6-a4dc-c5d88d925192",
   "metadata": {
    "papermill": {},
    "tags": []
   },
   "source": "token_v2 = \"\"\npage_url = \"\"",
   "outputs": []
  },
  {
   "cell_type": "markdown",
   "id": "0b3d5b5a-37c0-4d5d-a6b7-7f9ea63c0c64",
   "metadata": {
    "papermill": {},
    "tags": []
   },
   "source": [
    "## Model"
   ]
  },
  {
   "cell_type": "markdown",
   "id": "504f12b9-b7ab-453b-bb00-d0fd7c5a43a2",
   "metadata": {
    "papermill": {},
    "tags": []
   },
   "source": [
    "### Add list in page"
   ]
  },
  {
   "cell_type": "markdown",
   "id": "04c72cd6-cf85-4c1f-b757-2794f122caf3",
   "metadata": {
    "papermill": {},
    "tags": []
   },
   "source": [
    "This function adds a list in a Notion page."
   ]
  },
  {
   "cell_type": "code",
   "execution_count": null,
   "id": "617acb2c-e050-45e0-9e8e-b9e3e8db9db2",
   "metadata": {
    "papermill": {},
    "tags": []
   },
   "source": "# Initialize Notion client\nclient = notion.NotionClient(token_v2=token_v2)\n# Get page\npage = client.get_block(page_url)\n# Add list\nlist_block = page.children.add_new(notion.block.BulletedListBlock)",
   "outputs": []
  },
  {
   "cell_type": "markdown",
   "id": "100ad22f-8aca-494b-8b1c-c339dae11310",
   "metadata": {
    "papermill": {},
    "tags": []
   },
   "source": [
    "## Output"
   ]
  },
  {
   "cell_type": "markdown",
   "id": "a6b95191-1b81-4bfa-b2b8-495072cc7150",
   "metadata": {
    "papermill": {},
    "tags": []
   },
   "source": [
    "### Display result"
   ]
  },
  {
   "cell_type": "code",
   "execution_count": null,
   "id": "1ab9ce29-f43c-4cf1-8255-0c74d912c73d",
   "metadata": {
    "papermill": {},
    "tags": []
   },
   "source": "list_block",
   "outputs": []
  },
  {
   "cell_type": "markdown",
   "id": "0f9af39d-78fe-47c7-9736-dfd164e54e78",
   "metadata": {
    "papermill": {},
    "tags": []
   },
   "source": [
    " "
   ]
  }
 ],
 "metadata": {
  "kernelspec": {
   "display_name": "Python 3",
   "language": "python",
   "name": "python3"
  },
  "language_info": {
   "codemirror_mode": {
    "name": "ipython",
    "version": 3
   },
   "file_extension": ".py",
   "mimetype": "text/x-python",
   "name": "python",
   "nbconvert_exporter": "python",
   "pygments_lexer": "ipython3",
   "version": "3.9.6"
  },
  "widgets": {
   "application/vnd.jupyter.widget-state+json": {
    "state": {},
    "version_major": 2,
    "version_minor": 0
   }
  }
 },
 "nbformat": 4,
 "nbformat_minor": 5
}