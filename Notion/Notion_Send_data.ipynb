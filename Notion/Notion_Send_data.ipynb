{
 "cells": [
  {
   "cell_type": "markdown",
   "id": "ordered-supervisor",
   "metadata": {
    "papermill": {},
    "tags": []
   },
   "source": [
    "<img width=\"10%\" alt=\"Naas\" src=\"https://landen.imgix.net/jtci2pxwjczr/assets/5ice39g4.png?w=160\"/>"
   ]
  },
  {
   "cell_type": "markdown",
   "id": "acceptable-subsection",
   "metadata": {
    "papermill": {},
    "tags": []
   },
   "source": [
    "# Notion - Send data\n",
    "<a href=\"https://app.naas.ai/user-redirect/naas/downloader?url=https://raw.githubusercontent.com/jupyter-naas/awesome-notebooks/master/Notion/Notion_Send_data.ipynb\" target=\"_parent\"><img src=\"https://img.shields.io/badge/-Open%20in%20Naas-success?labelColor=000000&logo=data:image/svg+xml;base64,PD94bWwgdmVyc2lvbj0iMS4wIiBlbmNvZGluZz0iVVRGLTgiPz4KPHN2ZyB3aWR0aD0iMTAyNHB4IiBoZWlnaHQ9IjEwMjRweCIgdmlld0JveD0iMCAwIDEwMjQgMTAyNCIgeG1sbnM9Imh0dHA6Ly93d3cudzMub3JnLzIwMDAvc3ZnIiB4bWxuczp4bGluaz0iaHR0cDovL3d3dy53My5vcmcvMTk5OS94bGluayIgdmVyc2lvbj0iMS4xIj4KIDwhLS0gR2VuZXJhdGVkIGJ5IFBpeGVsbWF0b3IgUHJvIDIuMC41IC0tPgogPGRlZnM+CiAgPHRleHQgaWQ9InN0cmluZyIgdHJhbnNmb3JtPSJtYXRyaXgoMS4wIDAuMCAwLjAgMS4wIDIyOC4wIDU0LjUpIiBmb250LWZhbWlseT0iQ29tZm9ydGFhLVJlZ3VsYXIsIENvbWZvcnRhYSIgZm9udC1zaXplPSI4MDAiIHRleHQtZGVjb3JhdGlvbj0ibm9uZSIgZmlsbD0iI2ZmZmZmZiIgeD0iMS4xOTk5OTk5OTk5OTk5ODg2IiB5PSI3MDUuMCI+bjwvdGV4dD4KIDwvZGVmcz4KIDx1c2UgaWQ9Im4iIHhsaW5rOmhyZWY9IiNzdHJpbmciLz4KPC9zdmc+Cg==\"/></a>"
   ]
  },
  {
   "cell_type": "markdown",
   "id": "add63381-ebf5-4f7c-8330-5e666eb82e52",
   "metadata": {},
   "source": [
    "**Tags:** #notion #productivity"
   ]
  },
  {
   "cell_type": "markdown",
   "id": "desirable-final",
   "metadata": {
    "papermill": {},
    "tags": []
   },
   "source": [
    "## Get your token "
   ]
  },
  {
   "cell_type": "markdown",
   "id": "another-colonial",
   "metadata": {
    "papermill": {},
    "tags": []
   },
   "source": [
    "To obtain the `token_v2` : \n",
    "- click right on a Notion.so logged-in (non-guest) session, then\n",
    "- \"Inspect\" will open a technical window \n",
    "- Go to \"Applications\" and in the table search for \"token_v2\" simply copy the value."
   ]
  },
  {
   "cell_type": "markdown",
   "id": "cd9c1dee-ba72-4c43-a614-a84e6db30ad0",
   "metadata": {},
   "source": [
    "## Input"
   ]
  },
  {
   "cell_type": "markdown",
   "id": "f924e6a2-1285-4e77-a0f6-5d4575a044e2",
   "metadata": {},
   "source": [
    "### Import library"
   ]
  },
  {
   "cell_type": "code",
   "execution_count": null,
   "id": "3893a984-fb33-4ff1-b30e-44381a254091",
   "metadata": {},
   "outputs": [],
   "source": [
    "from naas_drivers import notion"
   ]
  },
  {
   "cell_type": "markdown",
   "id": "cea1f45c-e365-46ca-8a34-07a8c09d6d1a",
   "metadata": {},
   "source": [
    "### Variables"
   ]
  },
  {
   "cell_type": "code",
   "execution_count": null,
   "id": "88178ea1-6dd9-4d18-a552-1477fd893107",
   "metadata": {},
   "outputs": [],
   "source": [
    "token = \"*********\"\n",
    "url = \"https://www.notion.so/myorg/Test-c0d20a71c0944985ae96e661ccc99821\""
   ]
  },
  {
   "cell_type": "markdown",
   "id": "5cfce271-a087-4d24-991c-80804acbe47d",
   "metadata": {},
   "source": [
    "## Output"
   ]
  },
  {
   "cell_type": "markdown",
   "id": "0cea6207-1f34-47ea-96e7-ddb4b5cb65ba",
   "metadata": {},
   "source": [
    "### Connect to notion and get the data"
   ]
  },
  {
   "cell_type": "code",
   "execution_count": null,
   "id": "76fc3741-a88f-4961-b4b5-6c07b8c39b00",
   "metadata": {},
   "outputs": [],
   "source": [
    "n = notion.connect(token=token)\n",
    "cv = n.get_collection(url, raw=True)"
   ]
  },
  {
   "cell_type": "markdown",
   "id": "a6071e51-5131-483a-bc95-958253fe7079",
   "metadata": {},
   "source": [
    "## Output"
   ]
  },
  {
   "cell_type": "markdown",
   "id": "quarterly-lending",
   "metadata": {
    "papermill": {},
    "tags": []
   },
   "source": [
    "### Use the driver to send data"
   ]
  },
  {
   "cell_type": "markdown",
   "id": "official-sport",
   "metadata": {
    "papermill": {},
    "tags": []
   },
   "source": [
    "Replace table_url with the URL of the page you want to edit"
   ]
  },
  {
   "cell_type": "code",
   "execution_count": 2,
   "id": "confident-advancement",
   "metadata": {
    "execution": {
     "iopub.execute_input": "2021-01-26T15:34:04.459748Z",
     "iopub.status.busy": "2021-01-26T15:34:04.459512Z",
     "iopub.status.idle": "2021-01-26T15:34:04.464173Z",
     "shell.execute_reply": "2021-01-26T15:34:04.463620Z",
     "shell.execute_reply.started": "2021-01-26T15:34:04.459725Z"
    },
    "papermill": {},
    "tags": []
   },
   "outputs": [],
   "source": [
    "# Add a new record\n",
    "row = cv.collection.add_row()\n",
    "row.name = \"Just some data\"\n",
    "row.is_confirmed = True\n",
    "row.estimated_value = 399\n",
    "row.files = [\"https://www.birdlife.org/sites/default/files/styles/1600/public/slide.jpg\"]\n",
    "row.person = client.current_user\n",
    "row.tags = [\"A\", \"C\"]\n",
    "row.where_to = \"https://learningequality.org\""
   ]
  }
 ],
 "metadata": {
  "kernelspec": {
   "display_name": "Python 3",
   "language": "python",
   "name": "python3"
  },
  "language_info": {
   "codemirror_mode": {
    "name": "ipython",
    "version": 3
   },
   "file_extension": ".py",
   "mimetype": "text/x-python",
   "name": "python",
   "nbconvert_exporter": "python",
   "pygments_lexer": "ipython3",
   "version": "3.8.8"
  },
  "papermill": {
   "default_parameters": {},
   "environment_variables": {},
   "parameters": {},
   "version": "2.3.3"
  }
 },
 "nbformat": 4,
 "nbformat_minor": 5
}
