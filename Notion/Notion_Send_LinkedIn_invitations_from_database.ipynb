{
 "cells": [
  {
   "cell_type": "markdown",
   "id": "second-registrar",
   "metadata": {
    "execution": {
     "iopub.execute_input": "2021-01-25T08:00:35.294800Z",
     "iopub.status.busy": "2021-01-25T08:00:35.294557Z",
     "iopub.status.idle": "2021-01-25T08:00:35.307281Z",
     "shell.execute_reply": "2021-01-25T08:00:35.306468Z",
     "shell.execute_reply.started": "2021-01-25T08:00:35.294775Z"
    },
    "papermill": {},
    "tags": []
   },
   "source": [
    "<img width=\"10%\" alt=\"Naas\" src=\"https://landen.imgix.net/jtci2pxwjczr/assets/5ice39g4.png?w=160\"/>"
   ]
  },
  {
   "cell_type": "markdown",
   "id": "boolean-amendment",
   "metadata": {
    "papermill": {},
    "tags": []
   },
   "source": [
    "# Notion - Send LinkedIn invitation from database\n",
    "<a href=\"https://app.naas.ai/user-redirect/naas/downloader?url=https://raw.githubusercontent.com/jupyter-naas/awesome-notebooks/master/LinkedIn/LinkedIn_Send_invitation_from_gsheet.ipynb\" target=\"_parent\"><img src=\"https://naasai-public.s3.eu-west-3.amazonaws.com/open_in_naas.svg\"/></a>"
   ]
  },
  {
   "cell_type": "markdown",
   "id": "8e32973f-9a81-4c9c-b526-8eb05453acee",
   "metadata": {
    "papermill": {},
    "tags": []
   },
   "source": [
    "**Tags:** #notion #invitation #automation #content #linkedin "
   ]
  },
  {
   "cell_type": "markdown",
   "id": "7e904365-6248-439c-9c2f-dee77a015ccc",
   "metadata": {
    "papermill": {},
    "tags": []
   },
   "source": [
    "**Author:** [Florent Ravenel](https://www.linkedin.com/in/ACoAABCNSioBW3YZHc2lBHVG0E_TXYWitQkmwog/)"
   ]
  },
  {
   "cell_type": "markdown",
   "id": "d1e1b6e3-6ae0-4069-8b6d-d8c0dc76cad3",
   "metadata": {
    "execution": {
     "iopub.execute_input": "2022-04-06T06:48:12.739345Z",
     "iopub.status.busy": "2022-04-06T06:48:12.739013Z",
     "iopub.status.idle": "2022-04-06T06:48:12.751897Z",
     "shell.execute_reply": "2022-04-06T06:48:12.750379Z",
     "shell.execute_reply.started": "2022-04-06T06:48:12.739312Z"
    },
    "tags": []
   },
   "source": [
    "With this notebook, you will be able to send LinkedIn invitation from a Notion database.<br>\n",
    "**NB:** Remember that LinkedIn limit invitations up to 100 per week (Becareful !)"
   ]
  },
  {
   "cell_type": "markdown",
   "id": "identified-logan",
   "metadata": {
    "papermill": {},
    "tags": []
   },
   "source": [
    "## Input"
   ]
  },
  {
   "cell_type": "markdown",
   "id": "c7deec17-a137-413a-9f7e-0b0ed1eaec53",
   "metadata": {
    "papermill": {},
    "tags": []
   },
   "source": [
    "### Import libraries"
   ]
  },
  {
   "cell_type": "code",
   "execution_count": null,
   "id": "strategic-savage",
   "metadata": {
    "papermill": {},
    "tags": []
   },
   "outputs": [],
   "source": [
    "import naas\n",
    "from naas_drivers import notion, linkedin\n",
    "import pandas as pd\n",
    "import os\n",
    "from datetime import datetime\n",
    "import requests"
   ]
  },
  {
   "cell_type": "markdown",
   "id": "average-boxing",
   "metadata": {
    "papermill": {},
    "tags": []
   },
   "source": [
    "### Setup Notion\n",
    "- [Get your Notion integration token](https://docs.naas.ai/drivers/notion)\n",
    "- Share integration with your database"
   ]
  },
  {
   "cell_type": "code",
   "execution_count": null,
   "id": "statewide-acceptance",
   "metadata": {
    "papermill": {},
    "tags": []
   },
   "outputs": [],
   "source": [
    "# Enter Token API\n",
    "NOTION_TOKEN = \"*****\"\n",
    "NOTION_TOKEN = naas.secret.get(\"NOTION_TOKEN_NAAS\")\n",
    "\n",
    "# Enter Database URL\n",
    "DATABASE_URL = \"https://www.notion.so/********\"\n",
    "DATABASE_URL = \"https://www.notion.so/naas-official/6c37687f489a4384a359486e0fed54d9?v=185fb9b868024b238e06f3451a174e67\"\n",
    "\n",
    "# Column with Linkedin URL\n",
    "col_lk_notion = 'Name'\n",
    "col_lk_notion = 'LinkedIn'"
   ]
  },
  {
   "cell_type": "markdown",
   "id": "sustained-rochester",
   "metadata": {
    "papermill": {},
    "tags": []
   },
   "source": [
    "### Setup LinkedIn\n",
    "<a href='https://www.notion.so/LinkedIn-driver-Get-your-cookies-d20a8e7e508e42af8a5b52e33f3dba75'>How to get your cookies ?</a>"
   ]
  },
  {
   "cell_type": "code",
   "execution_count": null,
   "id": "handy-jacksonville",
   "metadata": {
    "papermill": {},
    "tags": []
   },
   "outputs": [],
   "source": [
    "# LinkedIn cookies\n",
    "LI_AT = 'YOUR_COOKIE_LI_AT'\n",
    "JSESSIONID = 'YOUR_COOKIE_JSESSIONID'\n",
    "LI_AT = naas.secret.get(\"LI_AT\")\n",
    "JSESSIONID = naas.secret.get(\"JSESSIONID\")\n",
    "\n",
    "# LinkedIn limit invitations up to 100 per week (Becareful !)\n",
    "LIMIT = 2"
   ]
  },
  {
   "cell_type": "markdown",
   "id": "fbba5901-4dfb-4d88-a717-01a9c088db6b",
   "metadata": {},
   "source": [
    "### Setup variables"
   ]
  },
  {
   "cell_type": "code",
   "execution_count": null,
   "id": "f0620659-ab70-401d-9bf3-3ef8f1448507",
   "metadata": {
    "tags": []
   },
   "outputs": [],
   "source": [
    "# CSV to manage and remove profile already in your contact\n",
    "csv_contact = \"LINKEDIN_EXISTING_CONTACT.csv\"\n",
    "\n",
    "# CSV to manage URL not valid\n",
    "csv_not_valid = \"LINKEDIN_NOT_VALID.csv\"\n",
    "\n",
    "# CSV to store invitations sent\n",
    "csv_invitation = \"LINKEDIN_INVITATIONS_SENT.csv\""
   ]
  },
  {
   "cell_type": "markdown",
   "id": "7d0af90b-efcf-47fd-8094-49ddf401637c",
   "metadata": {
    "papermill": {},
    "tags": []
   },
   "source": [
    "### Schedule your notebook"
   ]
  },
  {
   "cell_type": "code",
   "execution_count": null,
   "id": "6214531e-3068-4dfa-b975-aa4b72cb3d06",
   "metadata": {
    "papermill": {},
    "tags": []
   },
   "outputs": [],
   "source": [
    "# Scheduler your invitation everyday at 8:00 AM\n",
    "# naas.scheduler.add(cron=\"0 8 * * *\")\n",
    "\n",
    "# Uncomment the line below to delete your scheduler\n",
    "# naas.scheduler.delete()"
   ]
  },
  {
   "cell_type": "markdown",
   "id": "rubber-nutrition",
   "metadata": {
    "execution": {
     "iopub.execute_input": "2021-05-15T10:12:55.887028Z",
     "iopub.status.busy": "2021-05-15T10:12:55.886761Z",
     "iopub.status.idle": "2021-05-15T10:12:55.899441Z",
     "shell.execute_reply": "2021-05-15T10:12:55.898476Z",
     "shell.execute_reply.started": "2021-05-15T10:12:55.886964Z"
    },
    "papermill": {},
    "tags": []
   },
   "source": [
    "## Model"
   ]
  },
  {
   "cell_type": "markdown",
   "id": "10e6147b-a98f-4a7a-8b00-b35af516fbff",
   "metadata": {
    "papermill": {},
    "tags": []
   },
   "source": [
    "### Get Notion database"
   ]
  },
  {
   "cell_type": "code",
   "execution_count": null,
   "id": "9dca37b2-7c39-401d-9b99-84463fdcc780",
   "metadata": {
    "papermill": {},
    "tags": []
   },
   "outputs": [],
   "source": [
    "db_notion = notion.connect(NOTION_TOKEN).database.get(DATABASE_URL)\n",
    "df_notion = db_notion.df()\n",
    "df_notion"
   ]
  },
  {
   "cell_type": "markdown",
   "id": "f20bae4a-8861-4cf5-a4ee-0a99021db147",
   "metadata": {},
   "source": [
    "### Get invitations sent"
   ]
  },
  {
   "cell_type": "code",
   "execution_count": null,
   "id": "06467484-8758-4879-94c8-161c0733b6ce",
   "metadata": {
    "tags": []
   },
   "outputs": [],
   "source": [
    "df_invitation = linkedin.connect(LI_AT, JSESSIONID).invitation.get_sent()\n",
    "df_invitation"
   ]
  },
  {
   "cell_type": "markdown",
   "id": "ba17e613-8fea-4066-a87c-2e606b9b8b89",
   "metadata": {},
   "source": [
    "### Get profile checked and already in your network"
   ]
  },
  {
   "cell_type": "code",
   "execution_count": null,
   "id": "7b21b51e-3d4e-4433-93a6-36962bb3dd40",
   "metadata": {
    "tags": []
   },
   "outputs": [],
   "source": [
    "def get_csv(output_path):\n",
    "    df = pd.DataFrame()\n",
    "    if os.path.exists(output_path):\n",
    "        df = pd.read_csv(output_path)\n",
    "    return df"
   ]
  },
  {
   "cell_type": "code",
   "execution_count": null,
   "id": "144e5ec7-8294-4bad-b849-87ae881bb579",
   "metadata": {
    "tags": []
   },
   "outputs": [],
   "source": [
    "df_contacts = get_csv(csv_contact)\n",
    "df_contacts"
   ]
  },
  {
   "cell_type": "markdown",
   "id": "63fc88eb-924d-44e4-af0e-fd5e39797854",
   "metadata": {},
   "source": [
    "### Get invitations sent"
   ]
  },
  {
   "cell_type": "code",
   "execution_count": null,
   "id": "3ba44884-b2cd-402f-8bf9-ffffa07be725",
   "metadata": {
    "tags": []
   },
   "outputs": [],
   "source": [
    "df_invitation_sent = get_csv(csv_invitation)\n",
    "df_invitation_sent"
   ]
  },
  {
   "cell_type": "markdown",
   "id": "1eff029b-ef86-4eb4-9b21-963039d5e355",
   "metadata": {},
   "source": [
    "### Get URL not valid"
   ]
  },
  {
   "cell_type": "code",
   "execution_count": null,
   "id": "c7e15ca2-51b5-4396-addb-6534e35794a8",
   "metadata": {
    "tags": []
   },
   "outputs": [],
   "source": [
    "df_not_valid = get_csv(csv_not_valid)\n",
    "df_not_valid"
   ]
  },
  {
   "cell_type": "markdown",
   "id": "85703780-66e5-4e13-8fc9-e6e2281b5760",
   "metadata": {},
   "source": [
    "### Get new invitation\n",
    "- Clean Notion database to get valid URL\n",
    "- Remove profile when already invited"
   ]
  },
  {
   "cell_type": "code",
   "execution_count": null,
   "id": "3ff7c22a-c032-4300-bba9-a77f0b08dd59",
   "metadata": {
    "tags": []
   },
   "outputs": [],
   "source": [
    "def get_new_invitations(df, df_invitation, df_contacts, df_not_valid, profile_id=\"PUBLIC_ID\"):\n",
    "    # Cleaning\n",
    "    df = df[df[col_lk_notion].str.match(\".+.com/in/.+\")].reset_index(drop=True)\n",
    "    df[\"PROFILE_ID\"] = df.apply(lambda row: row[col_lk_notion].split(\"com/in/\")[-1].split(\"/\")[0], axis=1)\n",
    "    \n",
    "    # Remove profile already invited\n",
    "    invitations_sent = df_invitation[profile_id].unique().tolist()\n",
    "    contacts = []\n",
    "    if len(df_contacts) > 0:\n",
    "        contacts = df_contacts[profile_id].unique().tolist()\n",
    "    not_valids = []\n",
    "    if len(df_not_valid) > 0:\n",
    "        not_valids = df_not_valid[col_lk_notion].unique().tolist()\n",
    "    exclude = invitations_sent + contacts\n",
    "    df = df[~df[\"PROFILE_ID\"].isin(exclude)].reset_index(drop=True)\n",
    "    return df\n",
    "\n",
    "df_linkedin = get_new_invitations(df_notion, df_invitation, df_contacts, df_not_valid)\n",
    "df_linkedin"
   ]
  },
  {
   "cell_type": "markdown",
   "id": "447b0427-f056-49d1-8cc4-49b4e848f6f5",
   "metadata": {
    "papermill": {},
    "tags": []
   },
   "source": [
    "### Send invitation"
   ]
  },
  {
   "cell_type": "code",
   "execution_count": null,
   "id": "impossible-subsection",
   "metadata": {
    "papermill": {},
    "tags": []
   },
   "outputs": [],
   "source": [
    "def send_invitation(df, df_contacts=None, df_invitation=None, df_not_valid=None):\n",
    "    # Setup variables\n",
    "    df_network = pd.DataFrame()\n",
    "    if df_contacts is None:\n",
    "        df_contacts = pd.DataFrame()\n",
    "    if df_invitation is None:\n",
    "        df_invitation = pd.DataFrame()\n",
    "    if df_not_valid is None:\n",
    "        df_not_valid = pd.DataFrame()\n",
    "        \n",
    "    # Loop\n",
    "    count = 1\n",
    "    for index, row in df_linkedin.iterrows():\n",
    "        profile = row[col_lk_notion]\n",
    "        print(f\"Bot started for :\", profile)\n",
    "        \n",
    "        # Manage URL validity\n",
    "        df_network = linkedin.connect(LI_AT, JSESSIONID).profile.get_network(profile)\n",
    "        if type(df_network) == requests.exceptions.HTTPError:\n",
    "            df_not_valid = pd.concat([df_not_valid, df])\n",
    "            df_not_valid.to_csv(csv_not_valid, index=False)\n",
    "            print(\"❌ URL not valid\")\n",
    "        # Manage Invitation\n",
    "        else:\n",
    "            if len(df_network) > 0:\n",
    "                distance = df_network.loc[0, \"DISTANCE\"]\n",
    "                if distance not in [\"SELF\", \"DISTANCE_1\"]:\n",
    "                    linkedin.connect(LI_AT, JSESSIONID).invitation.send(recipient_url=profile)\n",
    "                    print(count, \"- 🙌 Invitation successfully sent\")\n",
    "                    df_invitation = pd.concat([df_invitation, df_network])\n",
    "                    df_invitation[\"DATE_SENT\"] = datetime.now().strftime(\"%Y-%m-%d\")\n",
    "                    df_invitation.to_csv(csv_invitation, index=False)\n",
    "                    count += 1\n",
    "                else:\n",
    "                    df_contacts = pd.concat([df_contacts, df_network])\n",
    "                    df_contacts.to_csv(csv_contact, index=False)\n",
    "                    print(f\"➡️ Already in my network, 💾 saved in CSV\")\n",
    "            \n",
    "        # Manage LinkedIn limit\n",
    "        if count > LIMIT:\n",
    "            print(\"LinkedIn invitation limit reached\", LIMIT)\n",
    "            return df_invitation\n",
    "        \n",
    "df_invitation_sent = send_invitation(df_linkedin, df_contacts, df_invitation_sent)\n",
    "df_invitation_sent"
   ]
  },
  {
   "cell_type": "markdown",
   "id": "developed-acquisition",
   "metadata": {
    "papermill": {},
    "tags": []
   },
   "source": [
    "## Output"
   ]
  },
  {
   "cell_type": "markdown",
   "id": "4a4fc020-71dd-4346-99d2-8f0f62a9668c",
   "metadata": {},
   "source": [
    "### Display result"
   ]
  },
  {
   "cell_type": "code",
   "execution_count": null,
   "id": "8f842276-bbc7-4eab-a475-d699451f34f3",
   "metadata": {},
   "outputs": [],
   "source": [
    "df_invitation_sent"
   ]
  }
 ],
 "metadata": {
  "kernelspec": {
   "display_name": "Python 3",
   "language": "python",
   "name": "python3"
  },
  "language_info": {
   "codemirror_mode": {
    "name": "ipython",
    "version": 3
   },
   "file_extension": ".py",
   "mimetype": "text/x-python",
   "name": "python",
   "nbconvert_exporter": "python",
   "pygments_lexer": "ipython3",
   "version": "3.9.6"
  },
  "naas": {
   "notebook_id": "aa139af0-3996-4391-8192-002f620077c0",
   "notebook_path": "LinkedIn/LinkedIn_Send_invitation_from_gsheet.ipynb"
  },
  "papermill": {
   "default_parameters": {},
   "environment_variables": {},
   "parameters": {},
   "version": "2.3.3"
  },
  "widgets": {
   "application/vnd.jupyter.widget-state+json": {
    "state": {},
    "version_major": 2,
    "version_minor": 0
   }
  }
 },
 "nbformat": 4,
 "nbformat_minor": 5
}
