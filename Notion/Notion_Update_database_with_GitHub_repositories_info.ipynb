{
 "cells": [
  {
   "cell_type": "markdown",
   "id": "b8a70fb9-e494-4a39-8e5e-912ca98652b4",
   "metadata": {
    "papermill": {},
    "tags": []
   },
   "source": [
    "<img width=\"10%\" alt=\"Naas\" src=\"https://landen.imgix.net/jtci2pxwjczr/assets/5ice39g4.png?w=160\"/>"
   ]
  },
  {
   "cell_type": "markdown",
   "id": "c29cd829-4d19-47ef-9758-641d4293f7ca",
   "metadata": {
    "papermill": {},
    "tags": []
   },
   "source": [
    "# Notion - Update database with GitHub repositories info"
   ]
  },
  {
   "cell_type": "markdown",
   "id": "e9151d56-0879-49bc-857c-7a7392ce380a",
   "metadata": {
    "papermill": {},
    "tags": []
   },
   "source": [
    "**Tags:** #notion #github #database #update #repositories #python"
   ]
  },
  {
   "cell_type": "markdown",
   "id": "2ce089ed-80df-42e8-8dc9-d6ac840652ea",
   "metadata": {
    "papermill": {},
    "tags": []
   },
   "source": [
    "**Author:** [Florent Ravenel](http://linkedin.com/in/florent-ravenel)"
   ]
  },
  {
   "cell_type": "markdown",
   "id": "309633ab-32c4-4793-922a-5d0a8d338fb3",
   "metadata": {
    "papermill": {},
    "tags": []
   },
   "source": [
    "**Description:** This notebook will update Notion database with repositories info from your GitHub organization."
   ]
  },
  {
   "cell_type": "markdown",
   "id": "79fab4f2-1253-4329-8262-73ce9a91d118",
   "metadata": {
    "papermill": {},
    "tags": []
   },
   "source": [
    "**References:**\n- [Notion API Documentation](https://notion-py.readthedocs.io/en/latest/)\n- [GitHub API Documentation](https://developer.github.com/v3/)"
   ]
  },
  {
   "cell_type": "markdown",
   "id": "2ad5ca33-89f4-424b-9f53-fa3eb6effa65",
   "metadata": {
    "papermill": {},
    "tags": []
   },
   "source": [
    "## Input"
   ]
  },
  {
   "cell_type": "markdown",
   "id": "6544956a-9bb5-4865-82a3-1a9aaa946473",
   "metadata": {
    "papermill": {},
    "tags": []
   },
   "source": [
    "### Import libraries"
   ]
  },
  {
   "cell_type": "code",
   "execution_count": null,
   "id": "1afd129c-096e-4a0d-ae48-1bd393496bd3",
   "metadata": {
    "papermill": {},
    "tags": []
   },
   "source": "import notion\nimport github",
   "outputs": []
  },
  {
   "cell_type": "markdown",
   "id": "6036221d-06a6-44d4-ae5c-f35d1548ba69",
   "metadata": {
    "papermill": {},
    "tags": []
   },
   "source": [
    "### Setup Variables\n- **notion_token**: [Generate Notion token](https://www.notion.so/api/v3/generate-token)\n- **github_token**: [Generate GitHub token](https://github.com/settings/tokens)\n- **org_name**: Name of the GitHub organization"
   ]
  },
  {
   "cell_type": "code",
   "execution_count": null,
   "id": "0d1e55a8-7be0-4666-b31e-5958ca6fad73",
   "metadata": {
    "papermill": {},
    "tags": []
   },
   "source": "notion_token = \"<notion_token>\"\ngithub_token = \"<github_token>\"\norg_name = \"<org_name>\"",
   "outputs": []
  },
  {
   "cell_type": "markdown",
   "id": "84c31b45-2f2f-419e-b8a4-06d7310d2d81",
   "metadata": {
    "papermill": {},
    "tags": []
   },
   "source": [
    "## Model"
   ]
  },
  {
   "cell_type": "markdown",
   "id": "e187e35c-b58e-4bca-914e-ea76dbb0d2e1",
   "metadata": {
    "papermill": {},
    "tags": []
   },
   "source": [
    "### Get repositories info"
   ]
  },
  {
   "cell_type": "markdown",
   "id": "26aa8ccf-aecb-489c-9ca0-d372e3788eb6",
   "metadata": {
    "papermill": {},
    "tags": []
   },
   "source": [
    "Long description of the function: This function will get the list of repositories from the GitHub organization and store the info in a list."
   ]
  },
  {
   "cell_type": "code",
   "execution_count": null,
   "id": "c57375ab-d8de-47b8-ae7f-4f70cd05d66a",
   "metadata": {
    "papermill": {},
    "tags": []
   },
   "source": "# Create Notion and GitHub clients\nnotion_client = notion.NotionClient(token_v2=notion_token)\ngithub_client = github.Github(github_token)\n# Get the list of repositories from the GitHub organization\norg = github_client.get_organization(org_name)\nrepos = org.get_repos()\n# Store the info in a list\nrepos_info = []\nfor repo in repos:\n    repos_info.append(\n        {\"name\": repo.name, \"url\": repo.html_url, \"description\": repo.description}\n    )",
   "outputs": []
  },
  {
   "cell_type": "markdown",
   "id": "7a2b3a50-e78b-4560-8973-77ada356d259",
   "metadata": {
    "papermill": {},
    "tags": []
   },
   "source": [
    "### Update Notion database"
   ]
  },
  {
   "cell_type": "markdown",
   "id": "b25ba40f-ace0-4b86-b933-08ac248ffbf9",
   "metadata": {
    "papermill": {},
    "tags": []
   },
   "source": [
    "Long description of the function: This function will update the Notion database with the repositories info."
   ]
  },
  {
   "cell_type": "code",
   "execution_count": null,
   "id": "c5f99df3-2807-4ccd-a72a-a1728916363a",
   "metadata": {
    "papermill": {},
    "tags": []
   },
   "source": "# Get the Notion database\ndb_url = \"<database_url>\"\ndb = notion_client.get_block(db_url)\n# Update the Notion database\nfor repo in repos_info:\n    row = db.collection.add_row()\n    row.name = repo[\"name\"]\n    row.url = repo[\"url\"]\n    row.description = repo[\"description\"]",
   "outputs": []
  },
  {
   "cell_type": "markdown",
   "id": "ae476034-9059-4703-b160-48b4fca1efc0",
   "metadata": {
    "papermill": {},
    "tags": []
   },
   "source": [
    "## Output"
   ]
  },
  {
   "cell_type": "markdown",
   "id": "899e1516-c2a8-4759-b6b1-e3b0563b570e",
   "metadata": {
    "papermill": {},
    "tags": []
   },
   "source": [
    "### Display result"
   ]
  },
  {
   "cell_type": "code",
   "execution_count": null,
   "id": "4d1d27c1-1e3e-4287-bb0b-3bf639a657bd",
   "metadata": {
    "papermill": {},
    "tags": []
   },
   "source": "# Display the list of repositories\nfor repo in repos_info:\n    print(f\"Name: {repo['name']}\")\n    print(f\"URL: {repo['url']}\")\n    print(f\"Description: {repo['description']}\")\n    print()",
   "outputs": []
  }
 ],
 "metadata": {
  "kernelspec": {
   "display_name": "Python 3",
   "language": "python",
   "name": "python3"
  },
  "language_info": {
   "codemirror_mode": {
    "name": "ipython",
    "version": 3
   },
   "file_extension": ".py",
   "mimetype": "text/x-python",
   "name": "python",
   "nbconvert_exporter": "python",
   "pygments_lexer": "ipython3",
   "version": "3.9.6"
  },
  "widgets": {
   "application/vnd.jupyter.widget-state+json": {
    "state": {},
    "version_major": 2,
    "version_minor": 0
   }
  }
 },
 "nbformat": 4,
 "nbformat_minor": 5
}