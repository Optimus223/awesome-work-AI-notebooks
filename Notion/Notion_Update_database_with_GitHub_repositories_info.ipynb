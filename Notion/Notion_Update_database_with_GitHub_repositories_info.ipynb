{
 "cells": [
  {
   "cell_type": "markdown",
   "id": "91b6dfd3-ecfc-43f0-bf37-e376f7b69e2e",
   "metadata": {
    "papermill": {},
    "tags": []
   },
   "source": [
    "<img width=\"10%\" alt=\"Naas\" src=\"https://landen.imgix.net/jtci2pxwjczr/assets/5ice39g4.png?w=160\"/>"
   ]
  },
  {
   "cell_type": "markdown",
   "id": "f20a79d3-c77e-4162-a6af-d268bc4ff7b9",
   "metadata": {
    "papermill": {},
    "tags": []
   },
   "source": [
    "# Notion - Update database with GitHub organization repositories info"
   ]
  },
  {
   "cell_type": "markdown",
   "id": "65bb84a6-f9ea-42e9-abe8-da06758ff300",
   "metadata": {
    "papermill": {},
    "tags": []
   },
   "source": [
    "**Tags:** #notion #database #update #github #repositories #automation #scheduler"
   ]
  },
  {
   "cell_type": "markdown",
   "id": "1ea9d202-dc09-4748-9cfe-7712078e87d0",
   "metadata": {
    "papermill": {},
    "tags": []
   },
   "source": [
    "**Author:** [Florent Ravenel](https://www.linkedin.com/in/florent-ravenel/)"
   ]
  },
  {
   "cell_type": "markdown",
   "id": "8db0c2aa-ff3f-42ba-807c-2221129f3c61",
   "metadata": {
    "papermill": {},
    "tags": []
   },
   "source": [
    "**Description:** This notebook updates a Notion database with information from all repositories within your GitHub organization. The following data will be updated in your Notion database:\n",
    "- Name: The name of the repository.\n",
    "- GitHub URL: The URL for the repository on GitHub.\n",
    "- Description: A brief description of what the repository is for.\n",
    "- Default branch: The default branch for the repository (i.e., the branch that is checked out when someone first clones the repository).\n",
    "- Visibility: The visibility status of the repository (e.g., public, private, or internal).\n",
    "- Created date: The date when the repository was created.\n",
    "- Last updated date: The date when the repository was last updated.\n",
    "- Open Issues: The number of unresolved issues (i.e., bug reports, feature requests, or other tasks) in the repository.\n",
    "- Forks: The number of times the repository has been forked (i.e., copied to another GitHub account).\n",
    "- Stargazers: The number of GitHub users who have \"starred\" the repository (i.e., marked it as a favorite).\n",
    "- Size: The size of the repository in terms of disk space used."
   ]
  },
  {
   "cell_type": "markdown",
   "id": "ad8cdb6b-f7bf-44d7-bb9c-b1b244f3f935",
   "metadata": {
    "papermill": {},
    "tags": []
   },
   "source": [
    "**References:**\n",
    "- [Notion Drivers](https://github.com/jupyter-naas/drivers/blob/main/naas_drivers/tools/notion.py)\n",
    "- [PyGithub](https://pypi.org/project/PyGithub/)"
   ]
  },
  {
   "cell_type": "markdown",
   "id": "b6a91cf0-e83e-4812-91cb-7cb030c1128d",
   "metadata": {
    "papermill": {},
    "tags": []
   },
   "source": [
    "## Input"
   ]
  },
  {
   "cell_type": "markdown",
   "id": "1a3276ae-5b97-4737-ba44-0b748c4ad216",
   "metadata": {
    "papermill": {},
    "tags": []
   },
   "source": [
    "### Import libraries"
   ]
  },
  {
   "cell_type": "code",
   "execution_count": 1,
   "id": "120e7d13-d71b-4faa-8d71-416c2fa0c2c6",
   "metadata": {
    "execution": {
     "iopub.execute_input": "2023-04-13T08:46:43.897356Z",
     "iopub.status.busy": "2023-04-13T08:46:43.896916Z",
     "iopub.status.idle": "2023-04-13T08:46:48.700338Z",
     "shell.execute_reply": "2023-04-13T08:46:48.699697Z",
     "shell.execute_reply.started": "2023-04-13T08:46:43.897281Z"
    },
    "papermill": {},
    "tags": []
   },
   "outputs": [],
   "source": [
    "import naas\n",
    "from naas_drivers import notion\n",
    "import pandas as pd\n",
    "import re\n",
    "from datetime import datetime\n",
    "import os\n",
    "import requests\n",
    "import naas\n",
    "import github"
   ]
  },
  {
   "cell_type": "markdown",
   "id": "723be956-205d-4dc2-8398-c5153cbec653",
   "metadata": {},
   "source": [
    "### Setup Variables\n",
    "[Generate your personal access token](https://github.com/settings/tokens) and add \"repo\" in your scope.\n",
    "- `github_token`: GitHub personal access token\n",
    "- `github_organization`: GitHub organization name\n",
    "\n",
    "[Create integration with Notion](https://developers.notion.com/docs/create-a-notion-integration)\n",
    "- `notion_token`: Notion token shared with your database\n",
    "- `database_key`: Database key name = page title in notion\n",
    "- `force_update`: By default, the value is set to False, indicating that only dynamic data such as Forks, Stargazers, Open Issues, and Last updated date will be updated.\n",
    "- `notion_database`: URL of your notion database\n",
    "- `output_dir`: directory to save data extracted from LinkedIn"
   ]
  },
  {
   "cell_type": "code",
   "execution_count": 2,
   "id": "440f4a38-12df-4a92-b6ad-16c012aa1237",
   "metadata": {
    "execution": {
     "iopub.execute_input": "2023-04-13T08:46:48.701841Z",
     "iopub.status.busy": "2023-04-13T08:46:48.701617Z",
     "iopub.status.idle": "2023-04-13T08:46:48.947915Z",
     "shell.execute_reply": "2023-04-13T08:46:48.947113Z",
     "shell.execute_reply.started": "2023-04-13T08:46:48.701812Z"
    },
    "tags": []
   },
   "outputs": [],
   "source": [
    "# Inputs\n",
    "github_token = naas.secret.get('GITHUB_TOKEN') or \"YOUR_TOKEN\"\n",
    "github_organization = \"jupyter-naas\"\n",
    "notion_token = naas.secret.get(\"NOTION_TOKEN_METRICS\") or \"YOUR_TOKEN\"\n",
    "database_key = \"Name\"\n",
    "force_update = False\n",
    "\n",
    "# Outputs\n",
    "notion_database = \"https://www.notion.so/naas-official/93377d8407d84b01b26558913ff6b573?v=1122f024d70e4099aa51f70f0fa9b1ae&pvs=4\"\n",
    "output_dir = \"/home/ftp/naas-notion-os/outputs/repositories\""
   ]
  },
  {
   "cell_type": "markdown",
   "id": "c8e49663-ab67-4220-9290-ad6bf8c65fa2",
   "metadata": {
    "papermill": {},
    "tags": []
   },
   "source": [
    "### Schedule your automation"
   ]
  },
  {
   "cell_type": "code",
   "execution_count": 3,
   "id": "d98d8d5c-7a74-4998-8f18-c2c8ac5b3a16",
   "metadata": {
    "execution": {
     "iopub.execute_input": "2023-04-13T08:46:48.949233Z",
     "iopub.status.busy": "2023-04-13T08:46:48.949020Z",
     "iopub.status.idle": "2023-04-13T08:46:49.441821Z",
     "shell.execute_reply": "2023-04-13T08:46:49.441123Z",
     "shell.execute_reply.started": "2023-04-13T08:46:48.949206Z"
    },
    "papermill": {},
    "tags": []
   },
   "outputs": [
    {
     "name": "stdout",
     "output_type": "stream",
     "text": [
      "👌 Well done! Your Notebook has been sent to production.\n",
      "\n",
      "⏰ It will be scheduled \"0 20 * * 1-5\" (more on the syntax on https://crontab.guru/).\n",
      "\n",
      "Ps: to remove the \"Scheduler\", just replace .add by .delete\n"
     ]
    }
   ],
   "source": [
    "# Schedule during week days every day at 8:00 PM\n",
    "naas.scheduler.add(cron=\"0 20 * * 1-5\")\n",
    "\n",
    "# naas.scheduler.delete() # uncomment and execute cell to delete automation"
   ]
  },
  {
   "cell_type": "markdown",
   "id": "65bb6473-255b-4cc8-a821-dca6c828b269",
   "metadata": {
    "papermill": {},
    "tags": []
   },
   "source": [
    "## Model"
   ]
  },
  {
   "cell_type": "markdown",
   "id": "7f61d1b5-5040-4fb8-addd-bc312082171b",
   "metadata": {},
   "source": [
    "### Get Notion DB"
   ]
  },
  {
   "cell_type": "code",
   "execution_count": 4,
   "id": "e97669ac-6b96-4e49-aa30-47e706f2286a",
   "metadata": {
    "execution": {
     "iopub.execute_input": "2023-04-13T08:46:49.444379Z",
     "iopub.status.busy": "2023-04-13T08:46:49.444169Z",
     "iopub.status.idle": "2023-04-13T08:46:51.374020Z",
     "shell.execute_reply": "2023-04-13T08:46:51.373470Z",
     "shell.execute_reply.started": "2023-04-13T08:46:49.444353Z"
    },
    "tags": []
   },
   "outputs": [
    {
     "name": "stdout",
     "output_type": "stream",
     "text": [
      "📊 Notion DB: 79\n"
     ]
    },
    {
     "data": {
      "text/html": [
       "<div>\n",
       "<style scoped>\n",
       "    .dataframe tbody tr th:only-of-type {\n",
       "        vertical-align: middle;\n",
       "    }\n",
       "\n",
       "    .dataframe tbody tr th {\n",
       "        vertical-align: top;\n",
       "    }\n",
       "\n",
       "    .dataframe thead th {\n",
       "        text-align: right;\n",
       "    }\n",
       "</style>\n",
       "<table border=\"1\" class=\"dataframe\">\n",
       "  <thead>\n",
       "    <tr style=\"text-align: right;\">\n",
       "      <th></th>\n",
       "      <th>Forks</th>\n",
       "      <th>Open Issues</th>\n",
       "      <th>🪄 Sub-Projects</th>\n",
       "      <th>Size</th>\n",
       "      <th>Last updated date</th>\n",
       "      <th>Created date</th>\n",
       "      <th>GitHub url</th>\n",
       "      <th>Visibility</th>\n",
       "      <th>Description</th>\n",
       "      <th>Stargazers</th>\n",
       "      <th>Default branch</th>\n",
       "      <th>Name</th>\n",
       "      <th>PAGE_ID</th>\n",
       "    </tr>\n",
       "  </thead>\n",
       "  <tbody>\n",
       "    <tr>\n",
       "      <th>0</th>\n",
       "      <td>0</td>\n",
       "      <td>0</td>\n",
       "      <td>PagePropertyRelation(id='K%3Dx%3F', type='rela...</td>\n",
       "      <td>79</td>\n",
       "      <td>2023-04-12</td>\n",
       "      <td>2023-04-12</td>\n",
       "      <td>https://github.com/jupyter-naas/naas-notion-os</td>\n",
       "      <td>public</td>\n",
       "      <td>The Notion OS project aims to create a custom ...</td>\n",
       "      <td>0</td>\n",
       "      <td>main</td>\n",
       "      <td>naas-notion-os</td>\n",
       "      <td>15c632a2-256f-48ed-8107-44f14261717d</td>\n",
       "    </tr>\n",
       "  </tbody>\n",
       "</table>\n",
       "</div>"
      ],
      "text/plain": [
       "  Forks Open Issues                                     🪄 Sub-Projects Size  \\\n",
       "0     0           0  PagePropertyRelation(id='K%3Dx%3F', type='rela...   79   \n",
       "\n",
       "  Last updated date Created date  \\\n",
       "0        2023-04-12   2023-04-12   \n",
       "\n",
       "                                       GitHub url Visibility  \\\n",
       "0  https://github.com/jupyter-naas/naas-notion-os     public   \n",
       "\n",
       "                                         Description Stargazers  \\\n",
       "0  The Notion OS project aims to create a custom ...          0   \n",
       "\n",
       "  Default branch            Name                               PAGE_ID  \n",
       "0           main  naas-notion-os  15c632a2-256f-48ed-8107-44f14261717d  "
      ]
     },
     "execution_count": 4,
     "metadata": {},
     "output_type": "execute_result"
    }
   ],
   "source": [
    "def create_notion_db(notion_database, key, token):\n",
    "    # Get database\n",
    "    database_id = notion_database.split(\"/\")[-1].split(\"?v=\")[0]\n",
    "    pages = notion.connect(token).database.query(database_id, query={})\n",
    "\n",
    "    # Init\n",
    "    df_output = pd.DataFrame()\n",
    "    \n",
    "    # Loop on page\n",
    "    for page in pages:\n",
    "        # Get page_id\n",
    "        page_id = page.id\n",
    "        \n",
    "        # Create dataframe from page\n",
    "        df = page.df()\n",
    "        \n",
    "        # Remove empty pages\n",
    "        page_title = df.loc[df.Name == key, \"Value\"].values[0]\n",
    "        if page_title == \"\":\n",
    "            notion.connect(token).blocks.delete(page_id)\n",
    "            print(f\"Page '{page_id}' empty => removed from database\")\n",
    "        else:\n",
    "            # Pivot rows to columns\n",
    "            columns = df[\"Name\"].unique().tolist()\n",
    "            new_df = df.copy()\n",
    "            new_df = new_df.drop(\"Type\", axis=1)\n",
    "            new_df = new_df.T\n",
    "            for i, c in enumerate(new_df.columns):\n",
    "                new_df = new_df.rename(columns={c: columns[i]})\n",
    "            new_df = new_df.drop(\"Name\").reset_index(drop=True)\n",
    "\n",
    "            # Add page ID\n",
    "            new_df[\"PAGE_ID\"] = page_id\n",
    "\n",
    "            # Concat dataframe\n",
    "            df_output = pd.concat([df_output, new_df])\n",
    "    return df_output\n",
    "\n",
    "df_notion = create_notion_db(\n",
    "    notion_database,\n",
    "    database_key,\n",
    "    notion_token\n",
    ")\n",
    "print(\"📊 Notion DB:\", len(df_notion))\n",
    "df_notion.head(1)"
   ]
  },
  {
   "cell_type": "markdown",
   "id": "eded1c47-6a97-4f54-9b42-448229eb34e0",
   "metadata": {
    "papermill": {},
    "tags": []
   },
   "source": [
    "### List organization repositories"
   ]
  },
  {
   "cell_type": "markdown",
   "id": "6d372b52-9ffa-4a4c-a42b-3743635360d2",
   "metadata": {
    "papermill": {},
    "tags": []
   },
   "source": [
    "Using the [PyGithub](https://pygithub.readthedocs.io/en/latest/) library, we can list all the repositories of an organization."
   ]
  },
  {
   "cell_type": "code",
   "execution_count": 5,
   "id": "0a6b8f09-e752-4fcf-9ba8-c776e298bc21",
   "metadata": {
    "execution": {
     "iopub.execute_input": "2023-04-13T08:46:51.375268Z",
     "iopub.status.busy": "2023-04-13T08:46:51.375034Z",
     "iopub.status.idle": "2023-04-13T08:46:51.629597Z",
     "shell.execute_reply": "2023-04-13T08:46:51.629001Z",
     "shell.execute_reply.started": "2023-04-13T08:46:51.375237Z"
    },
    "papermill": {},
    "tags": []
   },
   "outputs": [],
   "source": [
    "# Create a Github instance\n",
    "g = github.Github(github_token)\n",
    "# Get the organization\n",
    "org = g.get_organization(github_organization)\n",
    "# List all the repositories\n",
    "repos = org.get_repos()"
   ]
  },
  {
   "cell_type": "markdown",
   "id": "e856e144-c91c-484a-9ec5-9a7c709ef71a",
   "metadata": {},
   "source": [
    "## Output"
   ]
  },
  {
   "cell_type": "markdown",
   "id": "fac2527c-b025-4407-9300-13ac8018b1f7",
   "metadata": {},
   "source": [
    "### Update data in Notion"
   ]
  },
  {
   "cell_type": "code",
   "execution_count": 6,
   "id": "198c2b78-87ff-4a69-80da-b1741d2c4544",
   "metadata": {
    "execution": {
     "iopub.execute_input": "2023-04-13T08:46:51.632525Z",
     "iopub.status.busy": "2023-04-13T08:46:51.632337Z",
     "iopub.status.idle": "2023-04-13T08:49:17.923697Z",
     "shell.execute_reply": "2023-04-13T08:49:17.923005Z",
     "shell.execute_reply.started": "2023-04-13T08:46:51.632505Z"
    },
    "tags": []
   },
   "outputs": [
    {
     "name": "stdout",
     "output_type": "stream",
     "text": [
      "➡️ Started for: proxy\n",
      "✅ Data successfully updated in Notion.\n",
      "✅ Data saved to csv: /home/ftp/naas-notion-os/outputs/repositories/proxy/20230413_proxy_info.csv\n",
      "➡️ Started for: naas\n",
      "✅ Data successfully updated in Notion.\n",
      "✅ Data saved to csv: /home/ftp/naas-notion-os/outputs/repositories/naas/20230413_naas_info.csv\n",
      "➡️ Started for: singleuser\n",
      "✅ Data successfully updated in Notion.\n",
      "✅ Data saved to csv: /home/ftp/naas-notion-os/outputs/repositories/singleuser/20230413_singleuser_info.csv\n",
      "➡️ Started for: kernels\n",
      "✅ Data successfully updated in Notion.\n",
      "✅ Data saved to csv: /home/ftp/naas-notion-os/outputs/repositories/kernels/20230413_kernels_info.csv\n",
      "➡️ Started for: lab\n",
      "✅ Data successfully updated in Notion.\n",
      "✅ Data saved to csv: /home/ftp/naas-notion-os/outputs/repositories/lab/20230413_lab_info.csv\n",
      "➡️ Started for: drivers\n",
      "✅ Data successfully updated in Notion.\n",
      "✅ Data saved to csv: /home/ftp/naas-notion-os/outputs/repositories/drivers/20230413_drivers_info.csv\n",
      "➡️ Started for: starters\n",
      "✅ Data successfully updated in Notion.\n",
      "✅ Data saved to csv: /home/ftp/naas-notion-os/outputs/repositories/starters/20230413_starters_info.csv\n",
      "➡️ Started for: authenticator\n",
      "✅ Data successfully updated in Notion.\n",
      "✅ Data saved to csv: /home/ftp/naas-notion-os/outputs/repositories/authenticator/20230413_authenticator_info.csv\n",
      "➡️ Started for: notifications\n",
      "✅ Data successfully updated in Notion.\n",
      "✅ Data saved to csv: /home/ftp/naas-notion-os/outputs/repositories/notifications/20230413_notifications_info.csv\n",
      "➡️ Started for: awesome-notebooks\n",
      "✅ Data successfully updated in Notion.\n",
      "✅ Data saved to csv: /home/ftp/naas-notion-os/outputs/repositories/awesome-notebooks/20230413_awesome-notebooks_info.csv\n",
      "➡️ Started for: url-to-pdf-api\n",
      "✅ Data successfully updated in Notion.\n",
      "✅ Data saved to csv: /home/ftp/naas-notion-os/outputs/repositories/url-to-pdf-api/20230413_url-to-pdf-api_info.csv\n",
      "➡️ Started for: docker-smart-tag-action\n",
      "✅ Data successfully updated in Notion.\n",
      "✅ Data saved to csv: /home/ftp/naas-notion-os/outputs/repositories/docker-smart-tag-action/20230413_docker-smart-tag-action_info.csv\n",
      "➡️ Started for: docs\n",
      "✅ Data successfully updated in Notion.\n",
      "✅ Data saved to csv: /home/ftp/naas-notion-os/outputs/repositories/docs/20230413_docs_info.csv\n",
      "➡️ Started for: auth-proxy\n",
      "✅ Data successfully updated in Notion.\n",
      "✅ Data saved to csv: /home/ftp/naas-notion-os/outputs/repositories/auth-proxy/20230413_auth-proxy_info.csv\n",
      "➡️ Started for: accounting\n",
      "✅ Data successfully updated in Notion.\n",
      "✅ Data saved to csv: /home/ftp/naas-notion-os/outputs/repositories/accounting/20230413_accounting_info.csv\n",
      "➡️ Started for: callback\n",
      "✅ Data successfully updated in Notion.\n",
      "✅ Data saved to csv: /home/ftp/naas-notion-os/outputs/repositories/callback/20230413_callback_info.csv\n",
      "➡️ Started for: configurable-http-proxy\n",
      "✅ Data successfully updated in Notion.\n",
      "✅ Data saved to csv: /home/ftp/naas-notion-os/outputs/repositories/configurable-http-proxy/20230413_configurable-http-proxy_info.csv\n",
      "➡️ Started for: action_helm_aws-cli\n",
      "✅ Data successfully updated in Notion.\n",
      "✅ Data saved to csv: /home/ftp/naas-notion-os/outputs/repositories/action_helm_aws-cli/20230413_action_helm_aws-cli_info.csv\n",
      "➡️ Started for: get-chagelog-diff\n",
      "✅ Data successfully updated in Notion.\n",
      "✅ Data saved to csv: /home/ftp/naas-notion-os/outputs/repositories/get-chagelog-diff/20230413_get-chagelog-diff_info.csv\n",
      "➡️ Started for: naas-linkedin-api\n",
      "✅ Data successfully updated in Notion.\n",
      "✅ Data saved to csv: /home/ftp/naas-notion-os/outputs/repositories/naas-linkedin-api/20230413_naas-linkedin-api_info.csv\n",
      "➡️ Started for: naas-api-starter\n",
      "✅ Data successfully updated in Notion.\n",
      "✅ Data saved to csv: /home/ftp/naas-notion-os/outputs/repositories/naas-api-starter/20230413_naas-api-starter_info.csv\n",
      "➡️ Started for: naas-auth-api\n",
      "✅ Data successfully updated in Notion.\n",
      "✅ Data saved to csv: /home/ftp/naas-notion-os/outputs/repositories/naas-auth-api/20230413_naas-auth-api_info.csv\n",
      "➡️ Started for: jupyter-crash-handler\n",
      "✅ Data successfully updated in Notion.\n",
      "✅ Data saved to csv: /home/ftp/naas-notion-os/outputs/repositories/jupyter-crash-handler/20230413_jupyter-crash-handler_info.csv\n",
      "➡️ Started for: credits-api\n",
      "✅ Data successfully updated in Notion.\n",
      "✅ Data saved to csv: /home/ftp/naas-notion-os/outputs/repositories/credits-api/20230413_credits-api_info.csv\n",
      "➡️ Started for: images\n",
      "✅ Data successfully updated in Notion.\n",
      "✅ Data saved to csv: /home/ftp/naas-notion-os/outputs/repositories/images/20230413_images_info.csv\n",
      "➡️ Started for: kayzu-engine\n",
      "✅ Data successfully updated in Notion.\n",
      "✅ Data saved to csv: /home/ftp/naas-notion-os/outputs/repositories/kayzu-engine/20230413_kayzu-engine_info.csv\n",
      "➡️ Started for: template-factory\n",
      "✅ Data successfully updated in Notion.\n",
      "✅ Data saved to csv: /home/ftp/naas-notion-os/outputs/repositories/template-factory/20230413_template-factory_info.csv\n",
      "➡️ Started for: automation\n",
      "✅ Data successfully updated in Notion.\n",
      "✅ Data saved to csv: /home/ftp/naas-notion-os/outputs/repositories/automation/20230413_automation_info.csv\n",
      "➡️ Started for: open-source-room\n",
      "✅ Data successfully updated in Notion.\n",
      "✅ Data saved to csv: /home/ftp/naas-notion-os/outputs/repositories/open-source-room/20230413_open-source-room_info.csv\n",
      "➡️ Started for: world-situation-room\n",
      "✅ Data successfully updated in Notion.\n",
      "✅ Data saved to csv: /home/ftp/naas-notion-os/outputs/repositories/world-situation-room/20230413_world-situation-room_info.csv\n",
      "➡️ Started for: social-media-analytics\n",
      "✅ Data successfully updated in Notion.\n",
      "✅ Data saved to csv: /home/ftp/naas-notion-os/outputs/repositories/social-media-analytics/20230413_social-media-analytics_info.csv\n",
      "➡️ Started for: naas-events-api\n",
      "✅ Data successfully updated in Notion.\n",
      "✅ Data saved to csv: /home/ftp/naas-notion-os/outputs/repositories/naas-events-api/20230413_naas-events-api_info.csv\n",
      "➡️ Started for: naas-content-engine\n",
      "✅ Data successfully updated in Notion.\n",
      "✅ Data saved to csv: /home/ftp/naas-notion-os/outputs/repositories/naas-content-engine/20230413_naas-content-engine_info.csv\n",
      "➡️ Started for: .github\n",
      "✅ Data successfully updated in Notion.\n",
      "✅ Data saved to csv: /home/ftp/naas-notion-os/outputs/repositories/.github/20230413_.github_info.csv\n",
      "➡️ Started for: summer-dashboarding\n",
      "✅ Data successfully updated in Notion.\n",
      "✅ Data saved to csv: /home/ftp/naas-notion-os/outputs/repositories/summer-dashboarding/20230413_summer-dashboarding_info.csv\n",
      "➡️ Started for: data-product-framework\n",
      "✅ Data successfully updated in Notion.\n",
      "✅ Data saved to csv: /home/ftp/naas-notion-os/outputs/repositories/data-product-framework/20230413_data-product-framework_info.csv\n",
      "➡️ Started for: knative-test\n",
      "✅ Data successfully updated in Notion.\n",
      "✅ Data saved to csv: /home/ftp/naas-notion-os/outputs/repositories/knative-test/20230413_knative-test_info.csv\n",
      "➡️ Started for: naas-chrome-extension\n",
      "✅ Data successfully updated in Notion.\n",
      "✅ Data saved to csv: /home/ftp/naas-notion-os/outputs/repositories/naas-chrome-extension/20230413_naas-chrome-extension_info.csv\n",
      "➡️ Started for: naas-search-insights\n",
      "✅ Data successfully updated in Notion.\n",
      "✅ Data saved to csv: /home/ftp/naas-notion-os/outputs/repositories/naas-search-insights/20230413_naas-search-insights_info.csv\n",
      "➡️ Started for: ecommerce-data-stack\n",
      "✅ Data successfully updated in Notion.\n",
      "✅ Data saved to csv: /home/ftp/naas-notion-os/outputs/repositories/ecommerce-data-stack/20230413_ecommerce-data-stack_info.csv\n",
      "➡️ Started for: naas-users-analytics\n",
      "✅ Data successfully updated in Notion.\n",
      "✅ Data saved to csv: /home/ftp/naas-notion-os/outputs/repositories/naas-users-analytics/20230413_naas-users-analytics_info.csv\n",
      "➡️ Started for: naas-usage-raw-data\n",
      "✅ Data successfully updated in Notion.\n",
      "✅ Data saved to csv: /home/ftp/naas-notion-os/outputs/repositories/naas-usage-raw-data/20230413_naas-usage-raw-data_info.csv\n",
      "➡️ Started for: github-project-analytics\n",
      "✅ Data successfully updated in Notion.\n",
      "✅ Data saved to csv: /home/ftp/naas-notion-os/outputs/repositories/github-project-analytics/20230413_github-project-analytics_info.csv\n",
      "➡️ Started for: linkedin-search-content\n",
      "✅ Data successfully updated in Notion.\n",
      "✅ Data saved to csv: /home/ftp/naas-notion-os/outputs/repositories/linkedin-search-content/20230413_linkedin-search-content_info.csv\n",
      "➡️ Started for: typeform-submission-handler\n",
      "✅ Data successfully updated in Notion.\n",
      "✅ Data saved to csv: /home/ftp/naas-notion-os/outputs/repositories/typeform-submission-handler/20230413_typeform-submission-handler_info.csv\n",
      "➡️ Started for: lead-engine-linkedin-hubspot\n",
      "✅ Data successfully updated in Notion.\n",
      "✅ Data saved to csv: /home/ftp/naas-notion-os/outputs/repositories/lead-engine-linkedin-hubspot/20230413_lead-engine-linkedin-hubspot_info.csv\n",
      "➡️ Started for: naas-acquisition\n",
      "✅ Data successfully updated in Notion.\n",
      "✅ Data saved to csv: /home/ftp/naas-notion-os/outputs/repositories/naas-acquisition/20230413_naas-acquisition_info.csv\n",
      "➡️ Started for: naas-usage-credits\n",
      "✅ Data successfully updated in Notion.\n",
      "✅ Data saved to csv: /home/ftp/naas-notion-os/outputs/repositories/naas-usage-credits/20230413_naas-usage-credits_info.csv\n",
      "➡️ Started for: markets-watch-news\n",
      "✅ Data successfully updated in Notion.\n",
      "✅ Data saved to csv: /home/ftp/naas-notion-os/outputs/repositories/markets-watch-news/20230413_markets-watch-news_info.csv\n",
      "➡️ Started for: documentation-archive\n",
      "✅ Data successfully updated in Notion.\n",
      "✅ Data saved to csv: /home/ftp/naas-notion-os/outputs/repositories/documentation-archive/20230413_documentation-archive_info.csv\n",
      "➡️ Started for: naas-proxy-manager\n",
      "✅ Data successfully updated in Notion.\n",
      "✅ Data saved to csv: /home/ftp/naas-notion-os/outputs/repositories/naas-proxy-manager/20230413_naas-proxy-manager_info.csv\n",
      "➡️ Started for: test\n",
      "✅ Data successfully updated in Notion.\n",
      "✅ Data saved to csv: /home/ftp/naas-notion-os/outputs/repositories/test/20230413_test_info.csv\n",
      "➡️ Started for: naas-space-ce\n",
      "✅ Data successfully updated in Notion.\n",
      "✅ Data saved to csv: /home/ftp/naas-notion-os/outputs/repositories/naas-space-ce/20230413_naas-space-ce_info.csv\n",
      "➡️ Started for: naas-market-leadgen-linkedin\n",
      "✅ Data successfully updated in Notion.\n",
      "✅ Data saved to csv: /home/ftp/naas-notion-os/outputs/repositories/naas-market-leadgen-linkedin/20230413_naas-market-leadgen-linkedin_info.csv\n",
      "➡️ Started for: naas-metrics\n",
      "✅ Data successfully updated in Notion.\n",
      "✅ Data saved to csv: /home/ftp/naas-notion-os/outputs/repositories/naas-metrics/20230413_naas-metrics_info.csv\n",
      "➡️ Started for: dtsc-market-leadgen-linkedin\n",
      "✅ Data successfully updated in Notion.\n",
      "✅ Data saved to csv: /home/ftp/naas-notion-os/outputs/repositories/dtsc-market-leadgen-linkedin/20230413_dtsc-market-leadgen-linkedin_info.csv\n",
      "➡️ Started for: naas-search\n",
      "✅ Data successfully updated in Notion.\n",
      "✅ Data saved to csv: /home/ftp/naas-notion-os/outputs/repositories/naas-search/20230413_naas-search_info.csv\n",
      "➡️ Started for: naas-data-product\n",
      "✅ Data successfully updated in Notion.\n",
      "✅ Data saved to csv: /home/ftp/naas-notion-os/outputs/repositories/naas-data-product/20230413_naas-data-product_info.csv\n",
      "➡️ Started for: copier\n",
      "✅ Data successfully updated in Notion.\n",
      "✅ Data saved to csv: /home/ftp/naas-notion-os/outputs/repositories/copier/20230413_copier_info.csv\n",
      "➡️ Started for: demo-project\n",
      "✅ Data successfully updated in Notion.\n",
      "✅ Data saved to csv: /home/ftp/naas-notion-os/outputs/repositories/demo-project/20230413_demo-project_info.csv\n",
      "➡️ Started for: cs_conf\n",
      "✅ Data successfully updated in Notion.\n",
      "✅ Data saved to csv: /home/ftp/naas-notion-os/outputs/repositories/cs_conf/20230413_cs_conf_info.csv\n",
      "➡️ Started for: infrastructure-live\n",
      "✅ Data successfully updated in Notion.\n",
      "✅ Data saved to csv: /home/ftp/naas-notion-os/outputs/repositories/infrastructure-live/20230413_infrastructure-live_info.csv\n",
      "➡️ Started for: naas-obsidian\n",
      "✅ Data successfully updated in Notion.\n",
      "✅ Data saved to csv: /home/ftp/naas-notion-os/outputs/repositories/naas-obsidian/20230413_naas-obsidian_info.csv\n",
      "➡️ Started for: naas-models\n",
      "✅ Data successfully updated in Notion.\n",
      "✅ Data saved to csv: /home/ftp/naas-notion-os/outputs/repositories/naas-models/20230413_naas-models_info.csv\n",
      "➡️ Started for: naas-infrastructure-live\n",
      "✅ Data successfully updated in Notion.\n",
      "✅ Data saved to csv: /home/ftp/naas-notion-os/outputs/repositories/naas-infrastructure-live/20230413_naas-infrastructure-live_info.csv\n",
      "➡️ Started for: naas-infrastructure-modules\n",
      "✅ Data successfully updated in Notion.\n",
      "✅ Data saved to csv: /home/ftp/naas-notion-os/outputs/repositories/naas-infrastructure-modules/20230413_naas-infrastructure-modules_info.csv\n",
      "➡️ Started for: mychatGPT\n",
      "✅ Data successfully updated in Notion.\n",
      "✅ Data saved to csv: /home/ftp/naas-notion-os/outputs/repositories/mychatGPT/20230413_mychatGPT_info.csv\n",
      "➡️ Started for: documentation\n",
      "✅ Data successfully updated in Notion.\n",
      "✅ Data saved to csv: /home/ftp/naas-notion-os/outputs/repositories/documentation/20230413_documentation_info.csv\n",
      "➡️ Started for: nebari\n",
      "✅ Data successfully updated in Notion.\n",
      "✅ Data saved to csv: /home/ftp/naas-notion-os/outputs/repositories/nebari/20230413_nebari_info.csv\n",
      "➡️ Started for: naas-templates-factory\n",
      "✅ Data successfully updated in Notion.\n",
      "✅ Data saved to csv: /home/ftp/naas-notion-os/outputs/repositories/naas-templates-factory/20230413_naas-templates-factory_info.csv\n",
      "➡️ Started for: naasai\n",
      "✅ Data successfully updated in Notion.\n",
      "✅ Data saved to csv: /home/ftp/naas-notion-os/outputs/repositories/naasai/20230413_naasai_info.csv\n",
      "➡️ Started for: naas-internal-documentation\n",
      "✅ Data successfully updated in Notion.\n",
      "✅ Data saved to csv: /home/ftp/naas-notion-os/outputs/repositories/naas-internal-documentation/20230413_naas-internal-documentation_info.csv\n",
      "➡️ Started for: naas-infrastructure-global\n",
      "✅ Data successfully updated in Notion.\n",
      "✅ Data saved to csv: /home/ftp/naas-notion-os/outputs/repositories/naas-infrastructure-global/20230413_naas-infrastructure-global_info.csv\n",
      "➡️ Started for: naas-infrastructure-base\n",
      "✅ Data successfully updated in Notion.\n",
      "✅ Data saved to csv: /home/ftp/naas-notion-os/outputs/repositories/naas-infrastructure-base/20230413_naas-infrastructure-base_info.csv\n",
      "➡️ Started for: naas-infrastructure-envcommon\n",
      "✅ Data successfully updated in Notion.\n",
      "✅ Data saved to csv: /home/ftp/naas-notion-os/outputs/repositories/naas-infrastructure-envcommon/20230413_naas-infrastructure-envcommon_info.csv\n",
      "➡️ Started for: naas-documentation\n",
      "✅ Data successfully updated in Notion.\n",
      "✅ Data saved to csv: /home/ftp/naas-notion-os/outputs/repositories/naas-documentation/20230413_naas-documentation_info.csv\n",
      "➡️ Started for: copier-templates\n",
      "✅ Data successfully updated in Notion.\n",
      "✅ Data saved to csv: /home/ftp/naas-notion-os/outputs/repositories/copier-templates/20230413_copier-templates_info.csv\n",
      "➡️ Started for: FECthis\n",
      "✅ Data successfully updated in Notion.\n",
      "✅ Data saved to csv: /home/ftp/naas-notion-os/outputs/repositories/FECthis/20230413_FECthis_info.csv\n",
      "➡️ Started for: naas-notion-os\n",
      "✅ Data successfully updated in Notion.\n",
      "✅ Data saved to csv: /home/ftp/naas-notion-os/outputs/repositories/naas-notion-os/20230413_naas-notion-os_info.csv\n"
     ]
    }
   ],
   "source": [
    "# Get data\n",
    "database_id = notion_database.split(\"/\")[-1].split(\"?v=\")[0]\n",
    "for repo in repos:\n",
    "    # Init\n",
    "    page_new = False\n",
    "    page_id = None\n",
    "    name = repo.name\n",
    "    print(\"➡️ Started for:\", name)\n",
    "    \n",
    "    # Create or get page\n",
    "    notion_page = df_notion.loc[df_notion[\"Name\"] == name, \"PAGE_ID\"]\n",
    "    if len(notion_page) > 0:\n",
    "        page_id = notion_page.values[0]\n",
    "        page = notion.connect(notion_token).page.get(page_id)\n",
    "    else:\n",
    "        page = notion.connect(notion_token).Page.new(database_id=database_id).create()\n",
    "        page.title(\"Name\", repo.name)\n",
    "        page_new = True\n",
    "        \n",
    "    # Update static data\n",
    "    if page_new or force_update:\n",
    "        page.date(\"Created date\", repo.created_at.strftime(\"%Y-%m-%d\"))\n",
    "        page.link(\"GitHub url\", repo.html_url)\n",
    "        page.select(\"Default branch\", repo.default_branch)\n",
    "        page.select(\"Visibility\", repo.visibility)\n",
    "        if repo.description:\n",
    "            page.rich_text(\"Description\", repo.description)\n",
    "            \n",
    "    # Update dynamic data\n",
    "    page.number(\"Stargazers\", repo.stargazers_count)\n",
    "    page.number(\"Forks\", repo.forks_count)\n",
    "    page.number(\"Size\", repo.size)\n",
    "    page.number(\"Open Issues\", repo.open_issues)\n",
    "    page.date(\"Last updated date\", repo.updated_at.strftime(\"%Y-%m-%d\"))\n",
    "    page.update()\n",
    "    print(f\"✅ Data successfully updated in Notion.\")\n",
    "    \n",
    "    # Save page to csv\n",
    "    df = page.df()\n",
    "    csv_name = f\"{datetime.now().strftime('%Y%m%d')}_{name}_info.csv\"\n",
    "    output_path = os.path.join(output_dir, name)\n",
    "    if not os.path.exists(output_path):\n",
    "        os.makedirs(output_path)\n",
    "    csv_path = os.path.join(output_path, csv_name)\n",
    "    df.to_csv(csv_path, index=False)\n",
    "    print(f\"✅ Data saved to csv:\", csv_path)"
   ]
  }
 ],
 "metadata": {
  "kernelspec": {
   "display_name": "Python 3",
   "language": "python",
   "name": "python3"
  },
  "language_info": {
   "codemirror_mode": {
    "name": "ipython",
    "version": 3
   },
   "file_extension": ".py",
   "mimetype": "text/x-python",
   "name": "python",
   "nbconvert_exporter": "python",
   "pygments_lexer": "ipython3",
   "version": "3.9.6"
  },
  "papermill": {
   "default_parameters": {},
   "environment_variables": {},
   "parameters": {},
   "version": "2.3.3"
  }
 },
 "nbformat": 4,
 "nbformat_minor": 5
}
