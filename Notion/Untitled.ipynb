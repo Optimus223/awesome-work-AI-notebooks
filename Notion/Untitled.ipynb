{
 "cells": [
  {
   "cell_type": "markdown",
   "id": "05b821f6-c012-465f-ad7d-8a011927a8e0",
   "metadata": {},
   "source": [
    "<img width=\"10%\" alt=\"Naas\" src=\"https://landen.imgix.net/jtci2pxwjczr/assets/5ice39g4.png?w=160\"/>"
   ]
  },
  {
   "cell_type": "markdown",
   "id": "498b013b-86e6-40a8-859d-ea85490e8d75",
   "metadata": {},
   "source": [
    "# Notion - Metrics store"
   ]
  },
  {
   "cell_type": "markdown",
   "id": "c6247533-2047-40ea-ac01-27b65489853f",
   "metadata": {},
   "source": [
    "This notebook enables you to get a dataframe of all metrics store\n",
    "\n",
    "**Tags:** #notion #metrics"
   ]
  },
  {
   "cell_type": "markdown",
   "id": "2864c10b-13a1-4304-8664-f1acceb4239a",
   "metadata": {},
   "source": [
    "**Author:** [Sanjeet Attili](https://linkedin.com/in/sanjeet-attili-760bab190/)"
   ]
  },
  {
   "cell_type": "markdown",
   "id": "829ea081-f819-4b03-a88f-0c4092a494f1",
   "metadata": {},
   "source": [
    "## Input"
   ]
  },
  {
   "cell_type": "markdown",
   "id": "7b6b8a6a-5a90-4049-82fb-80a705887836",
   "metadata": {},
   "source": [
    "### Imports"
   ]
  },
  {
   "cell_type": "code",
   "execution_count": 2,
   "id": "c2239866-a800-4730-ab6c-1c94e4e0dd21",
   "metadata": {
    "execution": {
     "iopub.execute_input": "2022-03-01T13:44:12.081709Z",
     "iopub.status.busy": "2022-03-01T13:44:12.081455Z",
     "iopub.status.idle": "2022-03-01T13:44:12.084554Z",
     "shell.execute_reply": "2022-03-01T13:44:12.083924Z",
     "shell.execute_reply.started": "2022-03-01T13:44:12.081681Z"
    },
    "tags": []
   },
   "outputs": [],
   "source": [
    "import pandas as pd\n",
    "from naas_drivers import notion"
   ]
  },
  {
   "cell_type": "markdown",
   "id": "8ac31199-8349-44c9-927f-a71dbd0aea86",
   "metadata": {},
   "source": [
    "### Variables"
   ]
  },
  {
   "cell_type": "code",
   "execution_count": 3,
   "id": "bde8412d-4c2b-464b-9df2-742f59e26d37",
   "metadata": {
    "execution": {
     "iopub.execute_input": "2022-03-01T13:44:27.949582Z",
     "iopub.status.busy": "2022-03-01T13:44:27.949296Z",
     "iopub.status.idle": "2022-03-01T13:44:27.952653Z",
     "shell.execute_reply": "2022-03-01T13:44:27.952082Z",
     "shell.execute_reply.started": "2022-03-01T13:44:27.949552Z"
    },
    "tags": []
   },
   "outputs": [],
   "source": [
    "token = \"secret_J9JIQksrylGmJpErmw49A7U9ON1lIdGLjbVk6tDFh2y\"\n",
    "database_url = \"https://www.notion.so/naas-official/11eb7a1998a74ee18c448cbe1d646199?v=87e1c94f173644cf8e0f877478c4a204\""
   ]
  },
  {
   "cell_type": "markdown",
   "id": "f2d4469a-5ddf-4ab3-a2ce-1e7cebe11fa8",
   "metadata": {},
   "source": [
    "## Model"
   ]
  },
  {
   "cell_type": "code",
   "execution_count": 4,
   "id": "1e5d23ba-b6e8-411f-95fc-cf06bc934fda",
   "metadata": {
    "execution": {
     "iopub.execute_input": "2022-03-01T13:44:57.378279Z",
     "iopub.status.busy": "2022-03-01T13:44:57.378042Z",
     "iopub.status.idle": "2022-03-01T13:45:05.232740Z",
     "shell.execute_reply": "2022-03-01T13:45:05.232055Z",
     "shell.execute_reply.started": "2022-03-01T13:44:57.378254Z"
    },
    "tags": []
   },
   "outputs": [
    {
     "data": {
      "text/html": [
       "<div>\n",
       "<style scoped>\n",
       "    .dataframe tbody tr th:only-of-type {\n",
       "        vertical-align: middle;\n",
       "    }\n",
       "\n",
       "    .dataframe tbody tr th {\n",
       "        vertical-align: top;\n",
       "    }\n",
       "\n",
       "    .dataframe thead th {\n",
       "        text-align: right;\n",
       "    }\n",
       "</style>\n",
       "<table border=\"1\" class=\"dataframe\">\n",
       "  <thead>\n",
       "    <tr style=\"text-align: right;\">\n",
       "      <th></th>\n",
       "      <th>Status</th>\n",
       "      <th>Integrations</th>\n",
       "      <th>Domain</th>\n",
       "      <th>Output</th>\n",
       "      <th>Tools</th>\n",
       "      <th>Name</th>\n",
       "    </tr>\n",
       "  </thead>\n",
       "  <tbody>\n",
       "    <tr>\n",
       "      <th>0</th>\n",
       "      <td></td>\n",
       "      <td></td>\n",
       "      <td></td>\n",
       "      <td></td>\n",
       "      <td>Group</td>\n",
       "      <td></td>\n",
       "    </tr>\n",
       "    <tr>\n",
       "      <th>1</th>\n",
       "      <td>🏆 Sponsor</td>\n",
       "      <td>Odoo, Netsuite</td>\n",
       "      <td>Finance</td>\n",
       "      <td>Slack, Notion, Email, PNG, HTML, CSV, Excel</td>\n",
       "      <td>Group</td>\n",
       "      <td>Return on Assets (ROA)</td>\n",
       "    </tr>\n",
       "    <tr>\n",
       "      <th>2</th>\n",
       "      <td>🟢 Published</td>\n",
       "      <td>Twitter, LinkedIn, Youtube, Tiktok</td>\n",
       "      <td>Creators</td>\n",
       "      <td>Slack, Notion, Email, PNG, HTML, CSV, Excel, A...</td>\n",
       "      <td>Group</td>\n",
       "      <td>Number of Content Published</td>\n",
       "    </tr>\n",
       "    <tr>\n",
       "      <th>3</th>\n",
       "      <td>🏆 Sponsor</td>\n",
       "      <td>Odoo, Netsuite</td>\n",
       "      <td>Finance</td>\n",
       "      <td>Slack, Notion, Email, PNG, HTML, CSV, Excel</td>\n",
       "      <td>Group</td>\n",
       "      <td>Fixed Asset Turnover Ratio</td>\n",
       "    </tr>\n",
       "    <tr>\n",
       "      <th>4</th>\n",
       "      <td>🏆 Sponsor</td>\n",
       "      <td>Stripe</td>\n",
       "      <td>Sales</td>\n",
       "      <td>Slack, Notion, Email, PNG, HTML, CSV, Excel</td>\n",
       "      <td>Group</td>\n",
       "      <td>Churned revenue</td>\n",
       "    </tr>\n",
       "  </tbody>\n",
       "</table>\n",
       "</div>"
      ],
      "text/plain": [
       "        Status                        Integrations    Domain  \\\n",
       "0                                                              \n",
       "1    🏆 Sponsor                      Odoo, Netsuite   Finance   \n",
       "2  🟢 Published  Twitter, LinkedIn, Youtube, Tiktok  Creators   \n",
       "3    🏆 Sponsor                      Odoo, Netsuite   Finance   \n",
       "4    🏆 Sponsor                              Stripe     Sales   \n",
       "\n",
       "                                              Output  Tools  \\\n",
       "0                                                     Group   \n",
       "1        Slack, Notion, Email, PNG, HTML, CSV, Excel  Group   \n",
       "2  Slack, Notion, Email, PNG, HTML, CSV, Excel, A...  Group   \n",
       "3        Slack, Notion, Email, PNG, HTML, CSV, Excel  Group   \n",
       "4        Slack, Notion, Email, PNG, HTML, CSV, Excel  Group   \n",
       "\n",
       "                          Name  \n",
       "0                               \n",
       "1       Return on Assets (ROA)  \n",
       "2  Number of Content Published  \n",
       "3   Fixed Asset Turnover Ratio  \n",
       "4              Churned revenue  "
      ]
     },
     "execution_count": 4,
     "metadata": {},
     "output_type": "execute_result"
    }
   ],
   "source": [
    "database = notion.connect(token).database.get(database_url)\n",
    "df_notion = database.df()\n",
    "df_notion.head()"
   ]
  },
  {
   "cell_type": "code",
   "execution_count": null,
   "id": "3a617bf8-570f-4ae9-9f81-8c35cbec598d",
   "metadata": {
    "tags": []
   },
   "outputs": [],
   "source": []
  },
  {
   "cell_type": "code",
   "execution_count": 54,
   "id": "9a311860-b95d-4128-a420-75dc588de2a5",
   "metadata": {
    "execution": {
     "iopub.execute_input": "2022-03-01T11:31:00.235027Z",
     "iopub.status.busy": "2022-03-01T11:31:00.234705Z",
     "iopub.status.idle": "2022-03-01T11:31:00.263089Z",
     "shell.execute_reply": "2022-03-01T11:31:00.262219Z",
     "shell.execute_reply.started": "2022-03-01T11:31:00.234990Z"
    },
    "tags": []
   },
   "outputs": [
    {
     "data": {
      "text/plain": [
       "2         Number of Content Published\n",
       "8              Social Shares per Post\n",
       "15              Number of connections\n",
       "67     Average Inbound Links per Post\n",
       "85             Average Views per Post\n",
       "88          Average Comments per Post\n",
       "95               Total Content Views \n",
       "107                   Engagement rate\n",
       "Name: Name, dtype: object"
      ]
     },
     "execution_count": 54,
     "metadata": {},
     "output_type": "execute_result"
    }
   ],
   "source": [
    "# pd.pivot_table(df_notion, index=\"Integrations\", columns=\"Status\", values=\"Name\", aggfunc='')\n",
    "# x = df_notion.groupby(['Integrations'])['Name']\n",
    "# for integ, df in x:\n",
    "#     print(integ)\n",
    "#     print(df)\n",
    "#     print()\n",
    "# df_notion.Integrations.unique()\n",
    "df_notion[df_notion['Integrations']=='Twitter, LinkedIn, Youtube, Tiktok']['Name']"
   ]
  },
  {
   "cell_type": "code",
   "execution_count": null,
   "id": "db9cdb0a-e08b-4a5a-bd88-c794835faf18",
   "metadata": {},
   "outputs": [],
   "source": []
  },
  {
   "cell_type": "code",
   "execution_count": null,
   "id": "6e2767a2-399b-4e31-87cf-32233d39ab4e",
   "metadata": {},
   "outputs": [],
   "source": []
  },
  {
   "cell_type": "markdown",
   "id": "2ab30e50-0c3e-43a6-8207-509a9bf999fb",
   "metadata": {},
   "source": [
    "## Output"
   ]
  },
  {
   "cell_type": "code",
   "execution_count": null,
   "id": "6e3a1e6f-d272-43d1-b0ac-c8bcc955a7cf",
   "metadata": {},
   "outputs": [],
   "source": []
  },
  {
   "cell_type": "code",
   "execution_count": null,
   "id": "a9ffface-d47a-4f5f-99ca-0cd5178c8b6c",
   "metadata": {},
   "outputs": [],
   "source": []
  }
 ],
 "metadata": {
  "kernelspec": {
   "display_name": "Python 3",
   "language": "python",
   "name": "python3"
  },
  "language_info": {
   "codemirror_mode": {
    "name": "ipython",
    "version": 3
   },
   "file_extension": ".py",
   "mimetype": "text/x-python",
   "name": "python",
   "nbconvert_exporter": "python",
   "pygments_lexer": "ipython3",
   "version": "3.9.6"
  }
 },
 "nbformat": 4,
 "nbformat_minor": 5
}
