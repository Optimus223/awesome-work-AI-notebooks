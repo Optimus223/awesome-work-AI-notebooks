{
 "cells": [
  {
   "cell_type": "markdown",
   "id": "latin-packing",
   "metadata": {
    "execution": {
     "iopub.execute_input": "2021-02-23T14:22:16.610471Z",
     "iopub.status.busy": "2021-02-23T14:22:16.610129Z",
     "iopub.status.idle": "2021-02-23T14:22:16.627784Z",
     "shell.execute_reply": "2021-02-23T14:22:16.626866Z",
     "shell.execute_reply.started": "2021-02-23T14:22:16.610384Z"
    },
    "papermill": {},
    "tags": []
   },
   "source": [
    "<img width=\"10%\" alt=\"Naas\" src=\"https://landen.imgix.net/jtci2pxwjczr/assets/5ice39g4.png?w=160\"/>"
   ]
  },
  {
   "cell_type": "markdown",
   "id": "compressed-wilson",
   "metadata": {
    "papermill": {},
    "tags": []
   },
   "source": [
    "# Notion - Get database\n",
    "<a href=\"https://app.naas.ai/user-redirect/naas/downloader?url=https://raw.githubusercontent.com/jupyter-naas/awesome-notebooks/master/Notion/Notion_Get_database.ipynb\" target=\"_parent\"><img src=\"https://img.shields.io/badge/-Open%20in%20Naas-success?labelColor=000000&logo=data:image/svg+xml;base64,PD94bWwgdmVyc2lvbj0iMS4wIiBlbmNvZGluZz0iVVRGLTgiPz4KPHN2ZyB3aWR0aD0iMTAyNHB4IiBoZWlnaHQ9IjEwMjRweCIgdmlld0JveD0iMCAwIDEwMjQgMTAyNCIgeG1sbnM9Imh0dHA6Ly93d3cudzMub3JnLzIwMDAvc3ZnIiB4bWxuczp4bGluaz0iaHR0cDovL3d3dy53My5vcmcvMTk5OS94bGluayIgdmVyc2lvbj0iMS4xIj4KIDwhLS0gR2VuZXJhdGVkIGJ5IFBpeGVsbWF0b3IgUHJvIDIuMC41IC0tPgogPGRlZnM+CiAgPHRleHQgaWQ9InN0cmluZyIgdHJhbnNmb3JtPSJtYXRyaXgoMS4wIDAuMCAwLjAgMS4wIDIyOC4wIDU0LjUpIiBmb250LWZhbWlseT0iQ29tZm9ydGFhLVJlZ3VsYXIsIENvbWZvcnRhYSIgZm9udC1zaXplPSI4MDAiIHRleHQtZGVjb3JhdGlvbj0ibm9uZSIgZmlsbD0iI2ZmZmZmZiIgeD0iMS4xOTk5OTk5OTk5OTk5ODg2IiB5PSI3MDUuMCI+bjwvdGV4dD4KIDwvZGVmcz4KIDx1c2UgaWQ9Im4iIHhsaW5rOmhyZWY9IiNzdHJpbmciLz4KPC9zdmc+Cg==\"/></a>"
   ]
  },
  {
   "cell_type": "markdown",
   "id": "distinguished-truth",
   "metadata": {
    "papermill": {},
    "tags": []
   },
   "source": [
    "## Input"
   ]
  },
  {
   "cell_type": "markdown",
   "id": "b56e47f5-be89-4591-93ec-01e8fac50def",
   "metadata": {
    "papermill": {},
    "tags": []
   },
   "source": [
    "### Import library"
   ]
  },
  {
   "cell_type": "code",
   "execution_count": 1,
   "id": "potential-surfing",
   "metadata": {
    "execution": {
     "iopub.execute_input": "2021-08-23T09:49:00.936499Z",
     "iopub.status.busy": "2021-08-23T09:49:00.936231Z",
     "iopub.status.idle": "2021-08-23T09:49:01.648123Z",
     "shell.execute_reply": "2021-08-23T09:49:01.647500Z",
     "shell.execute_reply.started": "2021-08-23T09:49:00.936432Z"
    },
    "papermill": {},
    "tags": []
   },
   "outputs": [],
   "source": [
    "import requests\n",
    "import pandas as pd\n",
    "import json"
   ]
  },
  {
   "cell_type": "markdown",
   "id": "2665cb7f-1504-48d7-9d49-8b30fd80e359",
   "metadata": {
    "papermill": {},
    "tags": []
   },
   "source": [
    "### Variables"
   ]
  },
  {
   "cell_type": "code",
   "execution_count": 2,
   "id": "b8067d70-c985-4fce-bb8e-823d4e0bff5b",
   "metadata": {
    "execution": {
     "iopub.execute_input": "2021-08-23T09:49:01.649388Z",
     "iopub.status.busy": "2021-08-23T09:49:01.649165Z",
     "iopub.status.idle": "2021-08-23T09:49:01.652537Z",
     "shell.execute_reply": "2021-08-23T09:49:01.651938Z",
     "shell.execute_reply.started": "2021-08-23T09:49:01.649360Z"
    },
    "papermill": {},
    "tags": []
   },
   "outputs": [],
   "source": [
    "# Enter Notion Token API\n",
    "TOKEN_API = 'secret_R1CrUGn8bx9itbJW0Fc9Cc0R9Lmhbnz2ayqEe0GhRPq'\n",
    "\n",
    "# Enter database url\n",
    "DATABASE_URL = 'https://www.notion.so/d0bb915c4cb4422a87679f3bb9658282?v=8cd7c6ea0ec244da9eb65aa88a87aabb'\n",
    "\n",
    "# Set notion version\n",
    "_VERSION = '2021-08-16'"
   ]
  },
  {
   "cell_type": "markdown",
   "id": "registered-showcase",
   "metadata": {
    "papermill": {},
    "tags": []
   },
   "source": [
    "## Model\n",
    "### Request the database\n",
    "1. create the header\n",
    "2. parse the database id from URL\n",
    "3. Request the Notion API"
   ]
  },
  {
   "cell_type": "code",
   "execution_count": 3,
   "id": "2363101e-0543-4cd4-87a4-5c05038f32f6",
   "metadata": {
    "execution": {
     "iopub.execute_input": "2021-08-23T09:49:02.790872Z",
     "iopub.status.busy": "2021-08-23T09:49:02.790645Z",
     "iopub.status.idle": "2021-08-23T09:49:02.800123Z",
     "shell.execute_reply": "2021-08-23T09:49:02.799476Z",
     "shell.execute_reply.started": "2021-08-23T09:49:02.790849Z"
    },
    "papermill": {},
    "tags": []
   },
   "outputs": [],
   "source": [
    "def create_headers(token_api, version):\n",
    "    return {\n",
    "            'Authorization': f'Bearer {token_api}',\n",
    "            'Notion-Version': f'{version}',\n",
    "            'Content-Type': 'application/json'\n",
    "        }\n",
    "\n",
    "create_headers(TOKEN_API, _VERSION)"
   ]
  },
  {
   "cell_type": "code",
   "execution_count": 4,
   "id": "3e3a9b51-e048-4129-a277-47b185a133b5",
   "metadata": {
    "execution": {
     "iopub.execute_input": "2021-08-23T09:49:05.235956Z",
     "iopub.status.busy": "2021-08-23T09:49:05.235724Z",
     "iopub.status.idle": "2021-08-23T09:49:05.240328Z",
     "shell.execute_reply": "2021-08-23T09:49:05.239674Z",
     "shell.execute_reply.started": "2021-08-23T09:49:05.235934Z"
    },
    "papermill": {},
    "tags": []
   },
   "outputs": [],
   "source": [
    "def get_id_from_url(database_url):\n",
    "    path = database_url.split('/')[-1]\n",
    "    id = path.split('?')[0]\n",
    "    return id\n",
    "\n",
    "get_id_from_url(DATABASE_URL)"
   ]
  },
  {
   "cell_type": "code",
   "execution_count": 5,
   "id": "dc18eb82-cd22-4461-b29f-bd780188992b",
   "metadata": {
    "execution": {
     "iopub.execute_input": "2021-08-23T09:49:05.865054Z",
     "iopub.status.busy": "2021-08-23T09:49:05.864820Z",
     "iopub.status.idle": "2021-08-23T09:49:06.261414Z",
     "shell.execute_reply": "2021-08-23T09:49:06.260875Z",
     "shell.execute_reply.started": "2021-08-23T09:49:05.865030Z"
    },
    "papermill": {},
    "tags": []
   },
   "outputs": [],
   "source": [
    "# make a request to Notion API and receive a Json \n",
    "def fetch_raw_data(token_api, database_url):\n",
    "    database_id = get_id_from_url(database_url)\n",
    "    url = f'https://api.notion.com/v1/databases/{database_id}/query'\n",
    "    headers = create_headers(token_api, _VERSION)\n",
    "    response = requests.post(url, headers=headers)\n",
    "    try:\n",
    "        response.raise_for_status()\n",
    "    except requests.HTTPError as e:\n",
    "        return e\n",
    "    return response.json()\n",
    "\n",
    "pages_json = fetch_raw_data(TOKEN_API, DATABASE_URL)\n",
    "pages_df = pd.DataFrame(pages_json['results'])\n",
    "pages_df"
   ]
  },
  {
   "cell_type": "markdown",
   "id": "fc396a49-5e60-46c1-9ec2-9b8625c4c549",
   "metadata": {
    "papermill": {},
    "tags": []
   },
   "source": [
    "### Data preparation\n",
    "As we can see the content of the Notion table is in the properties column. We will now extract it and see what it contains. The column properties contain a dictionary for each Notion record. We will exctract each of these disctionnaries and create a new dataFrame."
   ]
  },
  {
   "cell_type": "code",
   "execution_count": 6,
   "id": "1cdd79ab-5bf8-4d08-93d5-9feac5a28ac1",
   "metadata": {
    "execution": {
     "iopub.execute_input": "2021-08-23T09:49:31.928033Z",
     "iopub.status.busy": "2021-08-23T09:49:31.927788Z",
     "iopub.status.idle": "2021-08-23T09:49:31.949955Z",
     "shell.execute_reply": "2021-08-23T09:49:31.949329Z",
     "shell.execute_reply.started": "2021-08-23T09:49:31.928009Z"
    },
    "papermill": {},
    "tags": []
   },
   "outputs": [],
   "source": [
    "def unstack_properties(df):\n",
    "    list_dict = [row['properties'] for _, row in df.iterrows()]\n",
    "    return pd.DataFrame(list_dict)\n",
    "\n",
    "df_properties = unstack_properties(pages_df)\n",
    "df_properties.head()"
   ]
  },
  {
   "cell_type": "markdown",
   "id": "6e24dde3-b2c5-40d2-80e8-4d3f4640677b",
   "metadata": {
    "papermill": {},
    "tags": []
   },
   "source": [
    "As we can see, each of the properties contains another dict of the information.<br>\n",
    "🚨 the usefull information is different depending on the type of the properties <br>\n",
    "👉 [more info](https://developers.notion.com/reference/page#all-property-values)\n",
    "\n",
    "Let's create a function to extract the usefull information of each properties"
   ]
  },
  {
   "cell_type": "code",
   "execution_count": 7,
   "id": "8c9bb9b5-71be-44cc-ad2a-2a9931e8ef5a",
   "metadata": {
    "execution": {
     "iopub.execute_input": "2021-08-23T09:49:47.447837Z",
     "iopub.status.busy": "2021-08-23T09:49:47.447581Z",
     "iopub.status.idle": "2021-08-23T09:49:47.453033Z",
     "shell.execute_reply": "2021-08-23T09:49:47.452444Z",
     "shell.execute_reply.started": "2021-08-23T09:49:47.447808Z"
    },
    "papermill": {},
    "tags": []
   },
   "outputs": [],
   "source": [
    "def extract_text(dictionnary):\n",
    "    if 'name' in dictionnary:\n",
    "        return dictionnary['name']\n",
    "    elif 'plain_text' in dictionnary:\n",
    "        return dictionnary['plain_text']\n",
    "    else:\n",
    "        return ''\n",
    "\n",
    "def extract_date(dictionnary):\n",
    "    '''\n",
    "    For the moment we extract only the starting date of a date field\n",
    "    Example {'id': 'prop_1', 'type': 'date', 'date': {'start': '2018-03-21', 'end': None}}\n",
    "    '''\n",
    "    return dictionnary['start']\n",
    "    \n",
    "def extract_data(element):\n",
    "    ''' \n",
    "    input: a dictionnary of a notion property\n",
    "    Exemple: {'id': 'W#4k', 'type': 'select', 'select': {'id': 'b305bd26-****-****-****-c78e2034db8f', 'name': 'Client', 'color': 'green'}}\n",
    "    output: the string containing the information of the dict. (Client in the exemple)\n",
    "    '''\n",
    "    if type(element) is dict:\n",
    "        dict_type = element['type'] \n",
    "        informations = element[dict_type]\n",
    "\n",
    "        if type(informations) is dict:\n",
    "            if dict_type == 'date':\n",
    "                return extract_date(informations)\n",
    "            else:\n",
    "                return extract_text(informations)\n",
    "        \n",
    "        elif type(informations) is list:\n",
    "            informations = [extract_text(elm) for elm in informations]\n",
    "            return ','.join(informations)\n",
    "        else:\n",
    "            return informations\n",
    "    else:\n",
    "        return ''"
   ]
  },
  {
   "cell_type": "code",
   "execution_count": 8,
   "id": "146f24ee-e1ed-4c14-83d9-73199e8629b2",
   "metadata": {
    "execution": {
     "iopub.execute_input": "2021-08-23T09:49:48.298860Z",
     "iopub.status.busy": "2021-08-23T09:49:48.298571Z",
     "iopub.status.idle": "2021-08-23T09:49:48.332870Z",
     "shell.execute_reply": "2021-08-23T09:49:48.332270Z",
     "shell.execute_reply.started": "2021-08-23T09:49:48.298832Z"
    },
    "papermill": {},
    "tags": []
   },
   "outputs": [],
   "source": [
    "clean_properties = df_properties.applymap(extract_data)\n",
    "clean_properties"
   ]
  },
  {
   "cell_type": "markdown",
   "id": "a5830ba5-f151-4946-86b3-9c3e95beba83",
   "metadata": {
    "papermill": {},
    "tags": []
   },
   "source": [
    "delete some useless columns and set the `Name` of the page as the index"
   ]
  },
  {
   "cell_type": "code",
   "execution_count": 9,
   "id": "893b7f93-10a6-4717-a505-718cdd55b177",
   "metadata": {
    "execution": {
     "iopub.execute_input": "2021-08-23T09:50:14.968730Z",
     "iopub.status.busy": "2021-08-23T09:50:14.968514Z",
     "iopub.status.idle": "2021-08-23T09:50:14.979994Z",
     "shell.execute_reply": "2021-08-23T09:50:14.979460Z",
     "shell.execute_reply.started": "2021-08-23T09:50:14.968707Z"
    },
    "papermill": {},
    "tags": []
   },
   "outputs": [],
   "source": [
    "final_df = pd.concat([clean_properties, pages_df], axis=1)\n",
    "final_df.drop(['parent', 'properties'], axis=1, inplace=True)\n",
    "final_df.set_index(\"Name\", inplace=True)"
   ]
  },
  {
   "cell_type": "markdown",
   "id": "d83f7d94-775d-48b7-be42-715345912dac",
   "metadata": {
    "papermill": {},
    "tags": []
   },
   "source": [
    "### Group everything together"
   ]
  },
  {
   "cell_type": "code",
   "execution_count": 16,
   "id": "fc4ff941-09f8-4065-8751-eeb290d52b35",
   "metadata": {
    "execution": {
     "iopub.execute_input": "2021-08-23T09:51:51.191636Z",
     "iopub.status.busy": "2021-08-23T09:51:51.191337Z",
     "iopub.status.idle": "2021-08-23T09:51:51.199055Z",
     "shell.execute_reply": "2021-08-23T09:51:51.198443Z",
     "shell.execute_reply.started": "2021-08-23T09:51:51.191606Z"
    },
    "papermill": {},
    "tags": []
   },
   "outputs": [],
   "source": [
    "def get_database(TOKEN_API, DATABASE_URL):\n",
    "    raw_data = fetch_raw_data(TOKEN_API, DATABASE_URL)\n",
    "    raw_df = pd.DataFrame(raw_data['results'])\n",
    "\n",
    "    properties = unstack_properties(raw_df)\n",
    "    clean_properties = properties.applymap(extract_data)\n",
    "    full_df = pd.concat([clean_properties, pages_df], axis=1)\n",
    "    full_df.drop(['parent', 'properties'], axis=1, inplace=True)\n",
    "    full_df.columns = full_df.columns.str.upper()\n",
    "    return full_df"
   ]
  },
  {
   "cell_type": "markdown",
   "id": "lonely-pacific",
   "metadata": {
    "execution": {
     "iopub.execute_input": "2021-07-02T23:32:10.789097Z",
     "iopub.status.busy": "2021-07-02T23:32:10.788829Z",
     "iopub.status.idle": "2021-07-02T23:32:10.796900Z",
     "shell.execute_reply": "2021-07-02T23:32:10.796358Z",
     "shell.execute_reply.started": "2021-07-02T23:32:10.789033Z"
    },
    "papermill": {},
    "tags": []
   },
   "source": [
    "## Output"
   ]
  },
  {
   "cell_type": "code",
   "execution_count": 17,
   "id": "45526736-1703-4789-8de4-96bff7bdcff5",
   "metadata": {
    "execution": {
     "iopub.execute_input": "2021-08-23T09:51:51.772075Z",
     "iopub.status.busy": "2021-08-23T09:51:51.771825Z",
     "iopub.status.idle": "2021-08-23T09:51:53.356849Z",
     "shell.execute_reply": "2021-08-23T09:51:53.356127Z",
     "shell.execute_reply.started": "2021-08-23T09:51:51.772040Z"
    },
    "papermill": {},
    "tags": []
   },
   "outputs": [],
   "source": [
    "get_database(TOKEN_API, DATABASE_URL)"
   ]
  },
  {
   "cell_type": "code",
   "execution_count": null,
   "id": "e3d350b3-9966-4cca-a6ed-a667d74f3ed9",
   "metadata": {
    "papermill": {},
    "tags": []
   },
   "outputs": [],
   "source": []
  }
 ],
 "metadata": {
  "kernelspec": {
   "display_name": "Python 3",
   "language": "python",
   "name": "python3"
  },
  "language_info": {
   "codemirror_mode": {
    "name": "ipython",
    "version": 3
   },
   "file_extension": ".py",
   "mimetype": "text/x-python",
   "name": "python",
   "nbconvert_exporter": "python",
   "pygments_lexer": "ipython3",
   "version": "3.8.8"
  },
  "papermill": {
   "default_parameters": {},
   "environment_variables": {},
   "parameters": {},
   "version": "2.3.3"
  },
  "widgets": {
   "application/vnd.jupyter.widget-state+json": {
    "state": {},
    "version_major": 2,
    "version_minor": 0
   }
  }
 },
 "nbformat": 4,
 "nbformat_minor": 5
}