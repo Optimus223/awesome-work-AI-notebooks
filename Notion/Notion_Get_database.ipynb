{
 "cells": [
  {
   "cell_type": "markdown",
   "id": "latin-packing",
   "metadata": {
    "execution": {
     "iopub.execute_input": "2021-02-23T14:22:16.610471Z",
     "iopub.status.busy": "2021-02-23T14:22:16.610129Z",
     "iopub.status.idle": "2021-02-23T14:22:16.627784Z",
     "shell.execute_reply": "2021-02-23T14:22:16.626866Z",
     "shell.execute_reply.started": "2021-02-23T14:22:16.610384Z"
    },
    "papermill": {},
    "tags": []
   },
   "source": [
    "<img width=\"10%\" alt=\"Naas\" src=\"https://landen.imgix.net/jtci2pxwjczr/assets/5ice39g4.png?w=160\"/>"
   ]
  },
  {
   "cell_type": "markdown",
   "id": "compressed-wilson",
   "metadata": {
    "papermill": {},
    "tags": []
   },
   "source": [
    "# Notion - Get database\n",
    "<a href=\"https://app.naas.ai/user-redirect/naas/downloader?url=https://raw.githubusercontent.com/jupyter-naas/awesome-notebooks/master/Notion/Notion_Get_database.ipynb\" target=\"_parent\"><img src=\"https://img.shields.io/badge/-Open%20in%20Naas-success?labelColor=000000&logo=data:image/svg+xml;base64,PD94bWwgdmVyc2lvbj0iMS4wIiBlbmNvZGluZz0iVVRGLTgiPz4KPHN2ZyB3aWR0aD0iMTAyNHB4IiBoZWlnaHQ9IjEwMjRweCIgdmlld0JveD0iMCAwIDEwMjQgMTAyNCIgeG1sbnM9Imh0dHA6Ly93d3cudzMub3JnLzIwMDAvc3ZnIiB4bWxuczp4bGluaz0iaHR0cDovL3d3dy53My5vcmcvMTk5OS94bGluayIgdmVyc2lvbj0iMS4xIj4KIDwhLS0gR2VuZXJhdGVkIGJ5IFBpeGVsbWF0b3IgUHJvIDIuMC41IC0tPgogPGRlZnM+CiAgPHRleHQgaWQ9InN0cmluZyIgdHJhbnNmb3JtPSJtYXRyaXgoMS4wIDAuMCAwLjAgMS4wIDIyOC4wIDU0LjUpIiBmb250LWZhbWlseT0iQ29tZm9ydGFhLVJlZ3VsYXIsIENvbWZvcnRhYSIgZm9udC1zaXplPSI4MDAiIHRleHQtZGVjb3JhdGlvbj0ibm9uZSIgZmlsbD0iI2ZmZmZmZiIgeD0iMS4xOTk5OTk5OTk5OTk5ODg2IiB5PSI3MDUuMCI+bjwvdGV4dD4KIDwvZGVmcz4KIDx1c2UgaWQ9Im4iIHhsaW5rOmhyZWY9IiNzdHJpbmciLz4KPC9zdmc+Cg==\"/></a>"
   ]
  },
  {
   "cell_type": "markdown",
   "id": "cbf7f260-f739-4e8f-9074-f070af12b69f",
   "metadata": {},
   "source": [
    "**Tags:** #notion #productivity"
   ]
  },
  {
   "cell_type": "markdown",
   "id": "distinguished-truth",
   "metadata": {
    "papermill": {},
    "tags": []
   },
   "source": [
    "## Input"
   ]
  },
  {
   "cell_type": "markdown",
   "id": "b56e47f5-be89-4591-93ec-01e8fac50def",
   "metadata": {
    "papermill": {},
    "tags": []
   },
   "source": [
    "### Import library"
   ]
  },
  {
   "cell_type": "code",
   "execution_count": 1,
   "id": "6b63229c-7614-4dc8-ba2a-e0b1e2f64918",
   "metadata": {
    "execution": {
     "iopub.execute_input": "2021-09-09T16:50:42.032683Z",
     "iopub.status.busy": "2021-09-09T16:50:42.032465Z",
     "iopub.status.idle": "2021-09-09T16:50:43.340992Z",
     "shell.execute_reply": "2021-09-09T16:50:43.340299Z",
     "shell.execute_reply.started": "2021-09-09T16:50:42.032613Z"
    },
    "papermill": {},
    "tags": []
   },
   "outputs": [],
   "source": [
    "from notion import Notion\n",
    "import naas"
   ]
  },
  {
   "cell_type": "markdown",
   "id": "2665cb7f-1504-48d7-9d49-8b30fd80e359",
   "metadata": {
    "papermill": {},
    "tags": []
   },
   "source": [
    "### Variables"
   ]
  },
  {
   "cell_type": "code",
   "execution_count": 2,
   "id": "2fafe16a-ccca-43ae-88fd-eb23af803fe6",
   "metadata": {
    "execution": {
     "iopub.execute_input": "2021-09-09T16:50:43.342467Z",
     "iopub.status.busy": "2021-09-09T16:50:43.342135Z",
     "iopub.status.idle": "2021-09-09T16:50:43.349694Z",
     "shell.execute_reply": "2021-09-09T16:50:43.344722Z",
     "shell.execute_reply.started": "2021-09-09T16:50:43.342437Z"
    },
    "papermill": {},
    "tags": []
   },
   "outputs": [],
   "source": [
    "# Enter Notion Token API\n",
    "token = \"secret_R1CrUGn8bx9itbJW0Fc9Cc0R9Lmhbnz2ayqEe0GhRPq\"\n",
    "\n",
    "# Enter database url\n",
    "url = \"https://www.notion.so/d0bb915c4cb4422a87679f3bb9658282?v=8cd7c6ea0ec244da9eb65aa88a87aabb\""
   ]
  },
  {
   "cell_type": "code",
   "execution_count": 3,
   "id": "b5bb056c-d472-4168-9810-957268e5d5e8",
   "metadata": {
    "execution": {
     "iopub.execute_input": "2021-09-09T16:50:43.351210Z",
     "iopub.status.busy": "2021-09-09T16:50:43.350894Z",
     "iopub.status.idle": "2021-09-09T16:50:44.840524Z",
     "shell.execute_reply": "2021-09-09T16:50:44.839939Z",
     "shell.execute_reply.started": "2021-09-09T16:50:43.351182Z"
    },
    "papermill": {},
    "tags": []
   },
   "outputs": [],
   "source": [
    "notion = Notion().connect(token)"
   ]
  },
  {
   "cell_type": "markdown",
   "id": "registered-showcase",
   "metadata": {
    "papermill": {},
    "tags": []
   },
   "source": [
    "## Model"
   ]
  },
  {
   "cell_type": "markdown",
   "id": "835ada76-4f30-479e-bc91-1cba1bb36d07",
   "metadata": {
    "papermill": {},
    "tags": []
   },
   "source": [
    "### Get all pages"
   ]
  },
  {
   "cell_type": "code",
   "execution_count": 4,
   "id": "a3da2ed0-f1af-4706-8ace-7ed909c15237",
   "metadata": {
    "execution": {
     "iopub.execute_input": "2021-09-09T16:50:44.841842Z",
     "iopub.status.busy": "2021-09-09T16:50:44.841585Z",
     "iopub.status.idle": "2021-09-09T16:50:45.742695Z",
     "shell.execute_reply": "2021-09-09T16:50:45.742119Z",
     "shell.execute_reply.started": "2021-09-09T16:50:44.841813Z"
    },
    "papermill": {},
    "tags": []
   },
   "outputs": [],
   "source": [
    "df = notion.database.get(url)"
   ]
  },
  {
   "cell_type": "markdown",
   "id": "display_cell",
   "metadata": {
    "papermill": {},
    "tags": []
   },
   "source": [
    "## Output"
   ]
  },
  {
   "cell_type": "markdown",
   "id": "9725f6d6-45cc-4211-a3de-93535e75fae6",
   "metadata": {
    "papermill": {},
    "tags": []
   },
   "source": [
    "### Display result\n",
    "- [ ] Add the Id to let user retreive a page inside the database"
   ]
  },
  {
   "cell_type": "code",
   "execution_count": 5,
   "id": "e3d350b3-9966-4cca-a6ed-a667d74f3ed9",
   "metadata": {
    "execution": {
     "iopub.execute_input": "2021-09-09T16:50:45.743806Z",
     "iopub.status.busy": "2021-09-09T16:50:45.743588Z",
     "iopub.status.idle": "2021-09-09T16:50:45.761961Z",
     "shell.execute_reply": "2021-09-09T16:50:45.761339Z",
     "shell.execute_reply.started": "2021-09-09T16:50:45.743779Z"
    },
    "papermill": {},
    "tags": []
   },
   "outputs": [],
   "source": [
    "df"
   ]
  }
 ],
 "metadata": {
  "kernelspec": {
   "display_name": "Python 3",
   "language": "python",
   "name": "python3"
  },
  "language_info": {
   "codemirror_mode": {
    "name": "ipython",
    "version": 3
   },
   "file_extension": ".py",
   "mimetype": "text/x-python",
   "name": "python",
   "nbconvert_exporter": "python",
   "pygments_lexer": "ipython3",
   "version": "3.8.8"
  },
  "papermill": {
   "default_parameters": {},
   "environment_variables": {},
   "parameters": {},
   "version": "2.3.3"
  },
  "widgets": {
   "application/vnd.jupyter.widget-state+json": {
    "state": {},
    "version_major": 2,
    "version_minor": 0
   }
  }
 },
 "nbformat": 4,
 "nbformat_minor": 5
}
