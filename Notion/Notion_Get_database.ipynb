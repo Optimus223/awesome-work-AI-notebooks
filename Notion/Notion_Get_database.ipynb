{
 "cells": [
  {
   "cell_type": "markdown",
   "id": "latin-packing",
   "metadata": {
    "execution": {
     "iopub.execute_input": "2021-02-23T14:22:16.610471Z",
     "iopub.status.busy": "2021-02-23T14:22:16.610129Z",
     "iopub.status.idle": "2021-02-23T14:22:16.627784Z",
     "shell.execute_reply": "2021-02-23T14:22:16.626866Z",
     "shell.execute_reply.started": "2021-02-23T14:22:16.610384Z"
    },
    "papermill": {},
    "tags": []
   },
   "source": [
    "<img width=\"10%\" alt=\"Naas\" src=\"https://landen.imgix.net/jtci2pxwjczr/assets/5ice39g4.png?w=160\"/>"
   ]
  },
  {
   "cell_type": "markdown",
   "id": "compressed-wilson",
   "metadata": {
    "papermill": {},
    "tags": []
   },
   "source": [
    "# Notion - Get database\n",
    "<a href=\"https://app.naas.ai/user-redirect/naas/downloader?url=https://raw.githubusercontent.com/jupyter-naas/awesome-notebooks/master/Notion/Notion_Get_database.ipynb\" target=\"_parent\"><img src=\"https://img.shields.io/badge/-Open%20in%20Naas-success?labelColor=000000&logo=data:image/svg+xml;base64,PD94bWwgdmVyc2lvbj0iMS4wIiBlbmNvZGluZz0iVVRGLTgiPz4KPHN2ZyB3aWR0aD0iMTAyNHB4IiBoZWlnaHQ9IjEwMjRweCIgdmlld0JveD0iMCAwIDEwMjQgMTAyNCIgeG1sbnM9Imh0dHA6Ly93d3cudzMub3JnLzIwMDAvc3ZnIiB4bWxuczp4bGluaz0iaHR0cDovL3d3dy53My5vcmcvMTk5OS94bGluayIgdmVyc2lvbj0iMS4xIj4KIDwhLS0gR2VuZXJhdGVkIGJ5IFBpeGVsbWF0b3IgUHJvIDIuMC41IC0tPgogPGRlZnM+CiAgPHRleHQgaWQ9InN0cmluZyIgdHJhbnNmb3JtPSJtYXRyaXgoMS4wIDAuMCAwLjAgMS4wIDIyOC4wIDU0LjUpIiBmb250LWZhbWlseT0iQ29tZm9ydGFhLVJlZ3VsYXIsIENvbWZvcnRhYSIgZm9udC1zaXplPSI4MDAiIHRleHQtZGVjb3JhdGlvbj0ibm9uZSIgZmlsbD0iI2ZmZmZmZiIgeD0iMS4xOTk5OTk5OTk5OTk5ODg2IiB5PSI3MDUuMCI+bjwvdGV4dD4KIDwvZGVmcz4KIDx1c2UgaWQ9Im4iIHhsaW5rOmhyZWY9IiNzdHJpbmciLz4KPC9zdmc+Cg==\"/></a>"
   ]
  },
  {
   "cell_type": "markdown",
   "id": "cbf7f260-f739-4e8f-9074-f070af12b69f",
   "metadata": {
    "papermill": {},
    "tags": []
   },
   "source": [
    "**Tags:** #notion #productivity"
   ]
  },
  {
   "cell_type": "markdown",
   "id": "distinguished-truth",
   "metadata": {
    "papermill": {},
    "tags": []
   },
   "source": [
    "## Input"
   ]
  },
  {
   "cell_type": "markdown",
   "id": "b56e47f5-be89-4591-93ec-01e8fac50def",
   "metadata": {
    "papermill": {},
    "tags": []
   },
   "source": [
    "### Import library"
   ]
  },
  {
   "cell_type": "code",
   "execution_count": 1,
   "id": "6b63229c-7614-4dc8-ba2a-e0b1e2f64918",
   "metadata": {
    "execution": {
     "iopub.execute_input": "2021-11-01T17:53:36.248009Z",
     "iopub.status.busy": "2021-11-01T17:53:36.247737Z",
     "iopub.status.idle": "2021-11-01T17:53:39.677906Z",
     "shell.execute_reply": "2021-11-01T17:53:39.677278Z",
     "shell.execute_reply.started": "2021-11-01T17:53:36.247944Z"
    },
    "papermill": {},
    "tags": []
   },
   "outputs": [],
   "source": [
    "from naas_drivers import notion"
   ]
  },
  {
   "cell_type": "markdown",
   "id": "2665cb7f-1504-48d7-9d49-8b30fd80e359",
   "metadata": {
    "papermill": {},
    "tags": []
   },
   "source": [
    "### Variables\n",
    "<a href='https://docs.naas.ai/drivers/notion'>How to get your Notion integration token ?</a>"
   ]
  },
  {
   "cell_type": "code",
   "execution_count": 9,
   "id": "2fafe16a-ccca-43ae-88fd-eb23af803fe6",
   "metadata": {
    "execution": {
     "iopub.execute_input": "2021-11-01T17:54:49.999049Z",
     "iopub.status.busy": "2021-11-01T17:54:49.998816Z",
     "iopub.status.idle": "2021-11-01T17:54:50.001999Z",
     "shell.execute_reply": "2021-11-01T17:54:50.001310Z",
     "shell.execute_reply.started": "2021-11-01T17:54:49.999024Z"
    },
    "papermill": {},
    "tags": []
   },
   "outputs": [],
   "source": [
    "# Enter Token API\n",
    "token = \"*****\"\n",
    "\n",
    "# Enter Database URL\n",
    "database_url = \"https://www.notion.so/********\""
   ]
  },
  {
   "cell_type": "markdown",
   "id": "registered-showcase",
   "metadata": {
    "papermill": {},
    "tags": []
   },
   "source": [
    "## Model"
   ]
  },
  {
   "cell_type": "code",
   "execution_count": 10,
   "id": "a3da2ed0-f1af-4706-8ace-7ed909c15237",
   "metadata": {
    "execution": {
     "iopub.execute_input": "2021-11-01T17:54:50.831735Z",
     "iopub.status.busy": "2021-11-01T17:54:50.831503Z",
     "iopub.status.idle": "2021-11-01T17:54:51.561332Z",
     "shell.execute_reply": "2021-11-01T17:54:51.560530Z",
     "shell.execute_reply.started": "2021-11-01T17:54:50.831710Z"
    },
    "papermill": {},
    "tags": []
   },
   "outputs": [],
   "source": [
    "database = notion.connect(token).database.get(database_url)"
   ]
  },
  {
   "cell_type": "markdown",
   "id": "display_cell",
   "metadata": {
    "papermill": {},
    "tags": []
   },
   "source": [
    "## Output"
   ]
  },
  {
   "cell_type": "code",
   "execution_count": 11,
   "id": "e3d350b3-9966-4cca-a6ed-a667d74f3ed9",
   "metadata": {
    "execution": {
     "iopub.execute_input": "2021-11-01T17:54:53.049925Z",
     "iopub.status.busy": "2021-11-01T17:54:53.049697Z",
     "iopub.status.idle": "2021-11-01T17:54:55.311381Z",
     "shell.execute_reply": "2021-11-01T17:54:55.310811Z",
     "shell.execute_reply.started": "2021-11-01T17:54:53.049901Z"
    },
    "papermill": {},
    "tags": []
   },
   "outputs": [
    {
     "data": {
      "text/html": [
       "<div>\n",
       "<style scoped>\n",
       "    .dataframe tbody tr th:only-of-type {\n",
       "        vertical-align: middle;\n",
       "    }\n",
       "\n",
       "    .dataframe tbody tr th {\n",
       "        vertical-align: top;\n",
       "    }\n",
       "\n",
       "    .dataframe thead th {\n",
       "        text-align: right;\n",
       "    }\n",
       "</style>\n",
       "<table border=\"1\" class=\"dataframe\">\n",
       "  <thead>\n",
       "    <tr style=\"text-align: right;\">\n",
       "      <th></th>\n",
       "      <th>Reviewer</th>\n",
       "      <th>Type</th>\n",
       "      <th>People</th>\n",
       "      <th>Platform</th>\n",
       "      <th>Assign</th>\n",
       "      <th>Link</th>\n",
       "      <th>Media</th>\n",
       "      <th>Publication Date</th>\n",
       "      <th>Views</th>\n",
       "      <th>Tags</th>\n",
       "      <th>Status</th>\n",
       "      <th>Name</th>\n",
       "      <th>Likes</th>\n",
       "      <th>Sender</th>\n",
       "      <th>Comments</th>\n",
       "    </tr>\n",
       "  </thead>\n",
       "  <tbody>\n",
       "    <tr>\n",
       "      <th>0</th>\n",
       "      <td></td>\n",
       "      <td></td>\n",
       "      <td></td>\n",
       "      <td></td>\n",
       "      <td></td>\n",
       "      <td>None</td>\n",
       "      <td></td>\n",
       "      <td></td>\n",
       "      <td>None</td>\n",
       "      <td></td>\n",
       "      <td>Published ✨</td>\n",
       "      <td></td>\n",
       "      <td>None</td>\n",
       "      <td></td>\n",
       "      <td>None</td>\n",
       "    </tr>\n",
       "    <tr>\n",
       "      <th>1</th>\n",
       "      <td></td>\n",
       "      <td></td>\n",
       "      <td></td>\n",
       "      <td>LinkedIn</td>\n",
       "      <td></td>\n",
       "      <td>None</td>\n",
       "      <td></td>\n",
       "      <td>2021-10-10</td>\n",
       "      <td>None</td>\n",
       "      <td></td>\n",
       "      <td>Backlog 💡</td>\n",
       "      <td>🗓⚡️ 66DAYS #10</td>\n",
       "      <td>None</td>\n",
       "      <td></td>\n",
       "      <td>None</td>\n",
       "    </tr>\n",
       "    <tr>\n",
       "      <th>2</th>\n",
       "      <td></td>\n",
       "      <td></td>\n",
       "      <td></td>\n",
       "      <td></td>\n",
       "      <td></td>\n",
       "      <td>None</td>\n",
       "      <td></td>\n",
       "      <td></td>\n",
       "      <td>None</td>\n",
       "      <td></td>\n",
       "      <td>Backlog 💡</td>\n",
       "      <td>66DAYS</td>\n",
       "      <td>None</td>\n",
       "      <td></td>\n",
       "      <td>None</td>\n",
       "    </tr>\n",
       "    <tr>\n",
       "      <th>3</th>\n",
       "      <td></td>\n",
       "      <td></td>\n",
       "      <td></td>\n",
       "      <td>LinkedIn</td>\n",
       "      <td>Jeremy Ravenel</td>\n",
       "      <td>None</td>\n",
       "      <td></td>\n",
       "      <td>2021-10-21</td>\n",
       "      <td>None</td>\n",
       "      <td></td>\n",
       "      <td>Backlog 💡</td>\n",
       "      <td>🗓⚡️ 66DAYS #21</td>\n",
       "      <td>None</td>\n",
       "      <td></td>\n",
       "      <td>None</td>\n",
       "    </tr>\n",
       "    <tr>\n",
       "      <th>4</th>\n",
       "      <td></td>\n",
       "      <td></td>\n",
       "      <td></td>\n",
       "      <td>LinkedIn</td>\n",
       "      <td></td>\n",
       "      <td>None</td>\n",
       "      <td></td>\n",
       "      <td>2021-10-09</td>\n",
       "      <td>None</td>\n",
       "      <td></td>\n",
       "      <td>Backlog 💡</td>\n",
       "      <td>🗓⚡️ 66DAYS #9 -  How to get my stats on Github?</td>\n",
       "      <td>None</td>\n",
       "      <td></td>\n",
       "      <td>None</td>\n",
       "    </tr>\n",
       "    <tr>\n",
       "      <th>...</th>\n",
       "      <td>...</td>\n",
       "      <td>...</td>\n",
       "      <td>...</td>\n",
       "      <td>...</td>\n",
       "      <td>...</td>\n",
       "      <td>...</td>\n",
       "      <td>...</td>\n",
       "      <td>...</td>\n",
       "      <td>...</td>\n",
       "      <td>...</td>\n",
       "      <td>...</td>\n",
       "      <td>...</td>\n",
       "      <td>...</td>\n",
       "      <td>...</td>\n",
       "      <td>...</td>\n",
       "    </tr>\n",
       "    <tr>\n",
       "      <th>95</th>\n",
       "      <td></td>\n",
       "      <td>Educational</td>\n",
       "      <td></td>\n",
       "      <td>LinkedIn</td>\n",
       "      <td>Jeremy Ravenel</td>\n",
       "      <td>None</td>\n",
       "      <td></td>\n",
       "      <td>2021-10-12</td>\n",
       "      <td>None</td>\n",
       "      <td></td>\n",
       "      <td>Backlog 💡</td>\n",
       "      <td>How to send automatically your LinkedIn stats ...</td>\n",
       "      <td>None</td>\n",
       "      <td>Jeremy Ravenel</td>\n",
       "      <td>None</td>\n",
       "    </tr>\n",
       "    <tr>\n",
       "      <th>96</th>\n",
       "      <td></td>\n",
       "      <td></td>\n",
       "      <td></td>\n",
       "      <td>LinkedIn</td>\n",
       "      <td>Valentin Piquard</td>\n",
       "      <td>None</td>\n",
       "      <td></td>\n",
       "      <td>2021-06-23</td>\n",
       "      <td>None</td>\n",
       "      <td></td>\n",
       "      <td>Published ✨</td>\n",
       "      <td>AFTE - Data mining pour les trésoriers</td>\n",
       "      <td>None</td>\n",
       "      <td>Jeremy Ravenel</td>\n",
       "      <td>None</td>\n",
       "    </tr>\n",
       "    <tr>\n",
       "      <th>97</th>\n",
       "      <td></td>\n",
       "      <td>Educational</td>\n",
       "      <td></td>\n",
       "      <td>LinkedIn</td>\n",
       "      <td>Valentin Piquard</td>\n",
       "      <td>None</td>\n",
       "      <td></td>\n",
       "      <td>2021-10-18</td>\n",
       "      <td>None</td>\n",
       "      <td></td>\n",
       "      <td>Backlog 💡</td>\n",
       "      <td>🌎📩 Create yourself a daily brief of the world ...</td>\n",
       "      <td>None</td>\n",
       "      <td>Jeremy Ravenel</td>\n",
       "      <td>None</td>\n",
       "    </tr>\n",
       "    <tr>\n",
       "      <th>98</th>\n",
       "      <td></td>\n",
       "      <td>Entertaining</td>\n",
       "      <td></td>\n",
       "      <td>LinkedIn</td>\n",
       "      <td>Florent Ravenel</td>\n",
       "      <td>None</td>\n",
       "      <td></td>\n",
       "      <td>2021-10-08</td>\n",
       "      <td>None</td>\n",
       "      <td></td>\n",
       "      <td>Backlog 💡</td>\n",
       "      <td>📊 Naas makes your Power BI report go faster</td>\n",
       "      <td>None</td>\n",
       "      <td>Jeremy Ravenel</td>\n",
       "      <td>None</td>\n",
       "    </tr>\n",
       "    <tr>\n",
       "      <th>99</th>\n",
       "      <td></td>\n",
       "      <td></td>\n",
       "      <td></td>\n",
       "      <td>LinkedIn</td>\n",
       "      <td>Jeremy Ravenel</td>\n",
       "      <td>https://www.linkedin.com/posts/alexandresteven...</td>\n",
       "      <td></td>\n",
       "      <td>2021-05-31</td>\n",
       "      <td>None</td>\n",
       "      <td></td>\n",
       "      <td>Published ✨</td>\n",
       "      <td>Power BI x Naas by A.Stevens</td>\n",
       "      <td>None</td>\n",
       "      <td>Jeremy Ravenel</td>\n",
       "      <td>None</td>\n",
       "    </tr>\n",
       "  </tbody>\n",
       "</table>\n",
       "<p>100 rows × 15 columns</p>\n",
       "</div>"
      ],
      "text/plain": [
       "   Reviewer          Type People  Platform            Assign  \\\n",
       "0                                                              \n",
       "1                                 LinkedIn                     \n",
       "2                                                              \n",
       "3                                 LinkedIn    Jeremy Ravenel   \n",
       "4                                 LinkedIn                     \n",
       "..      ...           ...    ...       ...               ...   \n",
       "95            Educational         LinkedIn    Jeremy Ravenel   \n",
       "96                                LinkedIn  Valentin Piquard   \n",
       "97            Educational         LinkedIn  Valentin Piquard   \n",
       "98           Entertaining         LinkedIn   Florent Ravenel   \n",
       "99                                LinkedIn    Jeremy Ravenel   \n",
       "\n",
       "                                                 Link Media Publication Date  \\\n",
       "0                                                None                          \n",
       "1                                                None             2021-10-10   \n",
       "2                                                None                          \n",
       "3                                                None             2021-10-21   \n",
       "4                                                None             2021-10-09   \n",
       "..                                                ...   ...              ...   \n",
       "95                                               None             2021-10-12   \n",
       "96                                               None             2021-06-23   \n",
       "97                                               None             2021-10-18   \n",
       "98                                               None             2021-10-08   \n",
       "99  https://www.linkedin.com/posts/alexandresteven...             2021-05-31   \n",
       "\n",
       "   Views Tags       Status                                               Name  \\\n",
       "0   None       Published ✨                                                      \n",
       "1   None         Backlog 💡                                     🗓⚡️ 66DAYS #10   \n",
       "2   None         Backlog 💡                                             66DAYS   \n",
       "3   None         Backlog 💡                                     🗓⚡️ 66DAYS #21   \n",
       "4   None         Backlog 💡    🗓⚡️ 66DAYS #9 -  How to get my stats on Github?   \n",
       "..   ...  ...          ...                                                ...   \n",
       "95  None         Backlog 💡  How to send automatically your LinkedIn stats ...   \n",
       "96  None       Published ✨             AFTE - Data mining pour les trésoriers   \n",
       "97  None         Backlog 💡  🌎📩 Create yourself a daily brief of the world ...   \n",
       "98  None         Backlog 💡       📊 Naas makes your Power BI report go faster    \n",
       "99  None       Published ✨                       Power BI x Naas by A.Stevens   \n",
       "\n",
       "   Likes          Sender Comments  \n",
       "0   None                     None  \n",
       "1   None                     None  \n",
       "2   None                     None  \n",
       "3   None                     None  \n",
       "4   None                     None  \n",
       "..   ...             ...      ...  \n",
       "95  None  Jeremy Ravenel     None  \n",
       "96  None  Jeremy Ravenel     None  \n",
       "97  None  Jeremy Ravenel     None  \n",
       "98  None  Jeremy Ravenel     None  \n",
       "99  None  Jeremy Ravenel     None  \n",
       "\n",
       "[100 rows x 15 columns]"
      ]
     },
     "metadata": {},
     "output_type": "display_data"
    },
    {
     "data": {
      "text/plain": []
     },
     "execution_count": 11,
     "metadata": {},
     "output_type": "execute_result"
    }
   ],
   "source": [
    "database"
   ]
  }
 ],
 "metadata": {
  "kernelspec": {
   "display_name": "Python 3",
   "language": "python",
   "name": "python3"
  },
  "language_info": {
   "codemirror_mode": {
    "name": "ipython",
    "version": 3
   },
   "file_extension": ".py",
   "mimetype": "text/x-python",
   "name": "python",
   "nbconvert_exporter": "python",
   "pygments_lexer": "ipython3",
   "version": "3.8.8"
  },
  "papermill": {
   "default_parameters": {},
   "environment_variables": {},
   "parameters": {},
   "version": "2.3.3"
  },
  "widgets": {
   "application/vnd.jupyter.widget-state+json": {
    "state": {},
    "version_major": 2,
    "version_minor": 0
   }
  }
 },
 "nbformat": 4,
 "nbformat_minor": 5
}
