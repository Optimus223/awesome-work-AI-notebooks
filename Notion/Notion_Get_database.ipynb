{
 "cells": [
  {
   "cell_type": "markdown",
   "id": "latin-packing",
   "metadata": {
    "execution": {
     "iopub.execute_input": "2021-02-23T14:22:16.610471Z",
     "iopub.status.busy": "2021-02-23T14:22:16.610129Z",
     "iopub.status.idle": "2021-02-23T14:22:16.627784Z",
     "shell.execute_reply": "2021-02-23T14:22:16.626866Z",
     "shell.execute_reply.started": "2021-02-23T14:22:16.610384Z"
    },
    "papermill": {},
    "tags": []
   },
   "source": [
    "<img width=\"10%\" alt=\"Naas\" src=\"https://landen.imgix.net/jtci2pxwjczr/assets/5ice39g4.png?w=160\"/>"
   ]
  },
  {
   "cell_type": "markdown",
   "id": "compressed-wilson",
   "metadata": {
    "papermill": {},
    "tags": []
   },
   "source": [
    "# Notion - Get database\n",
    "<a href=\"https://app.naas.ai/user-redirect/naas/downloader?url=https://raw.githubusercontent.com/jupyter-naas/awesome-notebooks/master/Notion/Notion_Get_database.ipynb\" target=\"_parent\"><img src=\"https://img.shields.io/badge/-Open%20in%20Naas-success?labelColor=000000&logo=data:image/svg+xml;base64,PD94bWwgdmVyc2lvbj0iMS4wIiBlbmNvZGluZz0iVVRGLTgiPz4KPHN2ZyB3aWR0aD0iMTAyNHB4IiBoZWlnaHQ9IjEwMjRweCIgdmlld0JveD0iMCAwIDEwMjQgMTAyNCIgeG1sbnM9Imh0dHA6Ly93d3cudzMub3JnLzIwMDAvc3ZnIiB4bWxuczp4bGluaz0iaHR0cDovL3d3dy53My5vcmcvMTk5OS94bGluayIgdmVyc2lvbj0iMS4xIj4KIDwhLS0gR2VuZXJhdGVkIGJ5IFBpeGVsbWF0b3IgUHJvIDIuMC41IC0tPgogPGRlZnM+CiAgPHRleHQgaWQ9InN0cmluZyIgdHJhbnNmb3JtPSJtYXRyaXgoMS4wIDAuMCAwLjAgMS4wIDIyOC4wIDU0LjUpIiBmb250LWZhbWlseT0iQ29tZm9ydGFhLVJlZ3VsYXIsIENvbWZvcnRhYSIgZm9udC1zaXplPSI4MDAiIHRleHQtZGVjb3JhdGlvbj0ibm9uZSIgZmlsbD0iI2ZmZmZmZiIgeD0iMS4xOTk5OTk5OTk5OTk5ODg2IiB5PSI3MDUuMCI+bjwvdGV4dD4KIDwvZGVmcz4KIDx1c2UgaWQ9Im4iIHhsaW5rOmhyZWY9IiNzdHJpbmciLz4KPC9zdmc+Cg==\"/></a>"
   ]
  },
  {
   "cell_type": "markdown",
   "id": "cbf7f260-f739-4e8f-9074-f070af12b69f",
   "metadata": {
    "papermill": {},
    "tags": []
   },
   "source": [
    "**Tags:** #notion #productivity"
   ]
  },
  {
   "cell_type": "markdown",
   "id": "distinguished-truth",
   "metadata": {
    "papermill": {},
    "tags": []
   },
   "source": [
    "## Input"
   ]
  },
  {
   "cell_type": "markdown",
   "id": "b56e47f5-be89-4591-93ec-01e8fac50def",
   "metadata": {
    "papermill": {},
    "tags": []
   },
   "source": [
    "### Import library"
   ]
  },
  {
   "cell_type": "code",
   "execution_count": 1,
   "id": "6b63229c-7614-4dc8-ba2a-e0b1e2f64918",
   "metadata": {
    "execution": {
     "iopub.execute_input": "2021-11-01T17:53:36.248009Z",
     "iopub.status.busy": "2021-11-01T17:53:36.247737Z",
     "iopub.status.idle": "2021-11-01T17:53:39.677906Z",
     "shell.execute_reply": "2021-11-01T17:53:39.677278Z",
     "shell.execute_reply.started": "2021-11-01T17:53:36.247944Z"
    },
    "papermill": {},
    "tags": []
   },
   "outputs": [],
   "source": [
    "from naas_drivers import notion"
   ]
  },
  {
   "cell_type": "markdown",
   "id": "2665cb7f-1504-48d7-9d49-8b30fd80e359",
   "metadata": {
    "papermill": {},
    "tags": []
   },
   "source": [
    "### Variables\n",
    "<a href='https://docs.naas.ai/drivers/notion'>How to get your Notion integration token ?</a>"
   ]
  },
  {
   "cell_type": "code",
   "execution_count": 9,
   "id": "2fafe16a-ccca-43ae-88fd-eb23af803fe6",
   "metadata": {
    "execution": {
     "iopub.execute_input": "2021-11-01T17:54:49.999049Z",
     "iopub.status.busy": "2021-11-01T17:54:49.998816Z",
     "iopub.status.idle": "2021-11-01T17:54:50.001999Z",
     "shell.execute_reply": "2021-11-01T17:54:50.001310Z",
     "shell.execute_reply.started": "2021-11-01T17:54:49.999024Z"
    },
    "papermill": {},
    "tags": []
   },
   "outputs": [],
   "source": [
    "# Enter Token API\n",
    "token = \"*****\"\n",
    "\n",
    "# Enter Database URL\n",
    "database_url = \"https://www.notion.so/********\""
   ]
  },
  {
   "cell_type": "markdown",
   "id": "registered-showcase",
   "metadata": {
    "papermill": {},
    "tags": []
   },
   "source": [
    "## Model"
   ]
  },
  {
   "cell_type": "code",
   "execution_count": 10,
   "id": "a3da2ed0-f1af-4706-8ace-7ed909c15237",
   "metadata": {
    "execution": {
     "iopub.execute_input": "2021-11-01T17:54:50.831735Z",
     "iopub.status.busy": "2021-11-01T17:54:50.831503Z",
     "iopub.status.idle": "2021-11-01T17:54:51.561332Z",
     "shell.execute_reply": "2021-11-01T17:54:51.560530Z",
     "shell.execute_reply.started": "2021-11-01T17:54:50.831710Z"
    },
    "papermill": {},
    "tags": []
   },
   "outputs": [],
   "source": [
    "database = notion.connect(token).database.get(database_url)"
   ]
  },
  {
   "cell_type": "markdown",
   "id": "display_cell",
   "metadata": {
    "papermill": {},
    "tags": []
   },
   "source": [
    "## Output"
   ]
  },
  {
   "cell_type": "code",
   "execution_count": 11,
   "id": "e3d350b3-9966-4cca-a6ed-a667d74f3ed9",
   "metadata": {
    "execution": {
     "iopub.execute_input": "2021-11-01T17:54:53.049925Z",
     "iopub.status.busy": "2021-11-01T17:54:53.049697Z",
     "iopub.status.idle": "2021-11-01T17:54:55.311381Z",
     "shell.execute_reply": "2021-11-01T17:54:55.310811Z",
     "shell.execute_reply.started": "2021-11-01T17:54:53.049901Z"
    },
    "papermill": {},
    "tags": []
   },
   "outputs": [],
   "source": [
    "database"
   ]
  }
 ],
 "metadata": {
  "kernelspec": {
   "display_name": "Python 3",
   "language": "python",
   "name": "python3"
  },
  "language_info": {
   "codemirror_mode": {
    "name": "ipython",
    "version": 3
   },
   "file_extension": ".py",
   "mimetype": "text/x-python",
   "name": "python",
   "nbconvert_exporter": "python",
   "pygments_lexer": "ipython3",
   "version": "3.8.8"
  },
  "papermill": {
   "default_parameters": {},
   "environment_variables": {},
   "parameters": {},
   "version": "2.3.3"
  },
  "widgets": {
   "application/vnd.jupyter.widget-state+json": {
    "state": {},
    "version_major": 2,
    "version_minor": 0
   }
  }
 },
 "nbformat": 4,
 "nbformat_minor": 5
}