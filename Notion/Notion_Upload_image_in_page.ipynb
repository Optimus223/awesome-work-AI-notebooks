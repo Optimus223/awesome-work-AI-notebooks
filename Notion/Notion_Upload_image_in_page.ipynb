{
 "cells": [
  {
   "cell_type": "markdown",
   "id": "fec8039d-0fa8-4c43-8a10-565ce37f3de2",
   "metadata": {
    "papermill": {},
    "tags": []
   },
   "source": [
    "<img width=\"10%\" alt=\"Naas\" src=\"https://landen.imgix.net/jtci2pxwjczr/assets/5ice39g4.png?w=160\"/>"
   ]
  },
  {
   "cell_type": "markdown",
   "id": "addf50eb-91d4-43b4-90bf-a221d2546959",
   "metadata": {
    "papermill": {},
    "tags": []
   },
   "source": [
    "# Notion - Upload image in page"
   ]
  },
  {
   "cell_type": "markdown",
   "id": "85ce8f5e-aab8-448f-9546-70bf1536feff",
   "metadata": {
    "papermill": {},
    "tags": []
   },
   "source": [
    "**Tags:** #notion #upload #image #page #tutorial #howto"
   ]
  },
  {
   "cell_type": "markdown",
   "id": "4dd79b36-540a-497d-ac30-f950e745c355",
   "metadata": {
    "papermill": {},
    "tags": []
   },
   "source": [
    "**Author:** [Florent Ravenel](https://www.linkedin.com/in/florent-ravenel)"
   ]
  },
  {
   "cell_type": "markdown",
   "id": "4547507e-8c0c-424a-83da-990f87139005",
   "metadata": {
    "papermill": {},
    "tags": []
   },
   "source": [
    "**Description:** This notebook explains how to upload an image in a Notion page. It is usefull for organizations that need to add visuals to their Notion pages."
   ]
  },
  {
   "cell_type": "markdown",
   "id": "e0a073ae-9890-425c-a4cf-9a759016ec21",
   "metadata": {
    "papermill": {},
    "tags": []
   },
   "source": [
    "**References:**\n- [Notion Documentation](https://www.notion.so/Notion-Documentation-f2f2f18a7a6f4f9f8bddd5f7d5f1b2d9)\n- [Notion Image Block](https://www.notion.so/Image-Block-f9f9f9f9f9f9f9f9f9f9f9f9f9f9f9f)"
   ]
  },
  {
   "cell_type": "markdown",
   "id": "0e2cf359-e8b0-435a-831a-aeadcddea968",
   "metadata": {
    "papermill": {},
    "tags": []
   },
   "source": [
    "## Input"
   ]
  },
  {
   "cell_type": "markdown",
   "id": "86d61151-9c2d-405d-a541-18ec8b693227",
   "metadata": {
    "papermill": {},
    "tags": []
   },
   "source": [
    "### Import libraries"
   ]
  },
  {
   "cell_type": "code",
   "execution_count": null,
   "id": "5c273537-2c07-4733-b5f4-39dda1759e9a",
   "metadata": {
    "papermill": {},
    "tags": []
   },
   "source": "import requests\nimport json",
   "outputs": []
  },
  {
   "cell_type": "markdown",
   "id": "a5210eb8-96c3-4886-a8cf-2c65a71eff17",
   "metadata": {
    "papermill": {},
    "tags": []
   },
   "source": [
    "### Setup Variables\n- `token`: Notion token to access the page. [How to get Notion token](https://www.notion.so/How-to-get-Notion-token-f2f2f18a7a6f4f9f8bddd5f7d5f1b2d9)\n- `page_url`: URL of the Notion page where the image will be uploaded\n- `image_url`: URL of the image to be uploaded"
   ]
  },
  {
   "cell_type": "code",
   "execution_count": null,
   "id": "502504fe-5898-47cc-ada3-7e44c1bb0497",
   "metadata": {
    "papermill": {},
    "tags": []
   },
   "source": "token = \"token_example\"\npage_url = \"https://www.notion.so/example_page\"\nimage_url = \"https://www.example.com/image.jpg\"",
   "outputs": []
  },
  {
   "cell_type": "markdown",
   "id": "2aca73bb-f87d-4015-9c74-9643b21dd81b",
   "metadata": {
    "papermill": {},
    "tags": []
   },
   "source": [
    "## Model"
   ]
  },
  {
   "cell_type": "markdown",
   "id": "c5ea2d59-eddd-41bb-bd59-763f50ee8d84",
   "metadata": {
    "papermill": {},
    "tags": []
   },
   "source": [
    "### Upload image"
   ]
  },
  {
   "cell_type": "markdown",
   "id": "6922c23e-4192-4d9f-945c-7a4e75aeb512",
   "metadata": {
    "papermill": {},
    "tags": []
   },
   "source": [
    "This function uploads an image to a Notion page."
   ]
  },
  {
   "cell_type": "code",
   "execution_count": null,
   "id": "f4abc6d5-6d28-4634-9490-3bc17aee5c28",
   "metadata": {
    "papermill": {},
    "tags": []
   },
   "source": "def upload_image(token, page_url, image_url):\n    headers = {\"Authorization\": f\"Bearer {token}\", \"Content-Type\": \"application/json\"}\n    data = {\"image_url\": image_url}\n    response = requests.post(page_url, headers=headers, data=json.dumps(data))\n    return response",
   "outputs": []
  },
  {
   "cell_type": "markdown",
   "id": "fdac9ee4-45df-408a-86b6-0d7e28527dee",
   "metadata": {
    "papermill": {},
    "tags": []
   },
   "source": [
    "## Output"
   ]
  },
  {
   "cell_type": "markdown",
   "id": "1e05048d-6cd6-4574-8205-48970f159fa6",
   "metadata": {
    "papermill": {},
    "tags": []
   },
   "source": [
    "### Display result"
   ]
  },
  {
   "cell_type": "code",
   "execution_count": null,
   "id": "77b8e9d0-97fb-4417-9130-f5b587b2d72c",
   "metadata": {
    "papermill": {},
    "tags": []
   },
   "source": "response = upload_image(token, page_url, image_url)\nprint(response.status_code)\nprint(response.text)",
   "outputs": []
  },
  {
   "cell_type": "markdown",
   "id": "20b2e68d-b3ae-40e9-a97b-ed95eb1385df",
   "metadata": {
    "papermill": {},
    "tags": []
   },
   "source": [
    " "
   ]
  }
 ],
 "metadata": {
  "kernelspec": {
   "display_name": "Python 3",
   "language": "python",
   "name": "python3"
  },
  "language_info": {
   "codemirror_mode": {
    "name": "ipython",
    "version": 3
   },
   "file_extension": ".py",
   "mimetype": "text/x-python",
   "name": "python",
   "nbconvert_exporter": "python",
   "pygments_lexer": "ipython3",
   "version": "3.9.6"
  },
  "widgets": {
   "application/vnd.jupyter.widget-state+json": {
    "state": {},
    "version_major": 2,
    "version_minor": 0
   }
  }
 },
 "nbformat": 4,
 "nbformat_minor": 5
}