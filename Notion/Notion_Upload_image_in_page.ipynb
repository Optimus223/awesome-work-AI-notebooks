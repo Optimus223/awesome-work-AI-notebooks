{
 "cells": [
  {
   "cell_type": "markdown",
   "id": "fec8039d-0fa8-4c43-8a10-565ce37f3de2",
   "metadata": {
    "papermill": {},
    "tags": []
   },
   "source": [
    "<img width=\"10%\" alt=\"Naas\" src=\"https://landen.imgix.net/jtci2pxwjczr/assets/5ice39g4.png?w=160\"/>"
   ]
  },
  {
   "cell_type": "markdown",
   "id": "addf50eb-91d4-43b4-90bf-a221d2546959",
   "metadata": {
    "papermill": {},
    "tags": []
   },
   "source": [
    "# Notion - Upload image in page"
   ]
  },
  {
   "cell_type": "markdown",
   "id": "85ce8f5e-aab8-448f-9546-70bf1536feff",
   "metadata": {
    "papermill": {},
    "tags": []
   },
   "source": [
    "**Tags:** #notion #upload #image #page #snippet #naas_drivers"
   ]
  },
  {
   "cell_type": "markdown",
   "id": "4dd79b36-540a-497d-ac30-f950e745c355",
   "metadata": {
    "papermill": {},
    "tags": []
   },
   "source": [
    "**Author:** [Florent Ravenel](https://www.linkedin.com/in/florent-ravenel)"
   ]
  },
  {
   "cell_type": "markdown",
   "id": "4547507e-8c0c-424a-83da-990f87139005",
   "metadata": {
    "papermill": {},
    "tags": []
   },
   "source": [
    "**Description:** This notebook explains how to upload an image in a Notion page using naas_drivers. It is usefull for organizations that need to add visuals to their Notion pages."
   ]
  },
  {
   "cell_type": "markdown",
   "id": "e0a073ae-9890-425c-a4cf-9a759016ec21",
   "metadata": {
    "papermill": {},
    "tags": []
   },
   "source": [
    "**References:**\n",
    "- [Notion Drivers](https://github.com/jupyter-naas/drivers/blob/main/naas_drivers/tools/notion.py)"
   ]
  },
  {
   "cell_type": "markdown",
   "id": "0e2cf359-e8b0-435a-831a-aeadcddea968",
   "metadata": {
    "papermill": {},
    "tags": []
   },
   "source": [
    "## Input"
   ]
  },
  {
   "cell_type": "markdown",
   "id": "86d61151-9c2d-405d-a541-18ec8b693227",
   "metadata": {
    "papermill": {},
    "tags": []
   },
   "source": [
    "### Import libraries"
   ]
  },
  {
   "cell_type": "code",
   "execution_count": 1,
   "id": "5c273537-2c07-4733-b5f4-39dda1759e9a",
   "metadata": {
    "execution": {
     "iopub.execute_input": "2023-04-28T12:35:27.915968Z",
     "iopub.status.busy": "2023-04-28T12:35:27.915783Z",
     "iopub.status.idle": "2023-04-28T12:35:32.857464Z",
     "shell.execute_reply": "2023-04-28T12:35:32.856858Z",
     "shell.execute_reply.started": "2023-04-28T12:35:27.915920Z"
    },
    "papermill": {},
    "tags": []
   },
   "outputs": [],
   "source": [
    "from naas_drivers import notion\n",
    "import naas"
   ]
  },
  {
   "cell_type": "markdown",
   "id": "a5210eb8-96c3-4886-a8cf-2c65a71eff17",
   "metadata": {
    "papermill": {},
    "tags": []
   },
   "source": [
    "### Setup Variables\n",
    "[Create integration with Notion](https://developers.notion.com/docs/create-a-notion-integration)\n",
    "- `image_url`: Image URL\n",
    "- `notion_token`: Notion token shared with your database\n",
    "- `page_url`: Notion page URL or ID"
   ]
  },
  {
   "cell_type": "code",
   "execution_count": 2,
   "id": "502504fe-5898-47cc-ada3-7e44c1bb0497",
   "metadata": {
    "execution": {
     "iopub.execute_input": "2023-04-28T12:35:32.860359Z",
     "iopub.status.busy": "2023-04-28T12:35:32.860180Z",
     "iopub.status.idle": "2023-04-28T12:35:33.002310Z",
     "shell.execute_reply": "2023-04-28T12:35:33.001650Z",
     "shell.execute_reply.started": "2023-04-28T12:35:32.860339Z"
    },
    "papermill": {},
    "tags": []
   },
   "outputs": [],
   "source": [
    "# Inputs\n",
    "image_url = \"https://landen.imgix.net/jtci2pxwjczr/assets/5ice39g4.png\"\n",
    "\n",
    "# Outputs\n",
    "notion_token = naas.secret.get(\"NOTION_TOKEN\") or \"YOUR_TOKEN\"\n",
    "page_url = \"https://www.notion.so/naas-official/Test-93655d0408c14923bcd305dd4599cda9?pvs=4\""
   ]
  },
  {
   "cell_type": "markdown",
   "id": "2aca73bb-f87d-4015-9c74-9643b21dd81b",
   "metadata": {
    "papermill": {},
    "tags": []
   },
   "source": [
    "## Model"
   ]
  },
  {
   "cell_type": "markdown",
   "id": "c5ea2d59-eddd-41bb-bd59-763f50ee8d84",
   "metadata": {
    "papermill": {},
    "tags": []
   },
   "source": [
    "### Upload image"
   ]
  },
  {
   "cell_type": "code",
   "execution_count": 3,
   "id": "f4abc6d5-6d28-4634-9490-3bc17aee5c28",
   "metadata": {
    "execution": {
     "iopub.execute_input": "2023-04-28T12:35:33.005334Z",
     "iopub.status.busy": "2023-04-28T12:35:33.005155Z",
     "iopub.status.idle": "2023-04-28T12:35:40.957681Z",
     "shell.execute_reply": "2023-04-28T12:35:40.957038Z",
     "shell.execute_reply.started": "2023-04-28T12:35:33.005314Z"
    },
    "papermill": {},
    "tags": []
   },
   "outputs": [
    {
     "data": {
      "text/html": [
       "<div>\n",
       "<style scoped>\n",
       "    .dataframe tbody tr th:only-of-type {\n",
       "        vertical-align: middle;\n",
       "    }\n",
       "\n",
       "    .dataframe tbody tr th {\n",
       "        vertical-align: top;\n",
       "    }\n",
       "\n",
       "    .dataframe thead th {\n",
       "        text-align: right;\n",
       "    }\n",
       "</style>\n",
       "<table border=\"1\" class=\"dataframe\">\n",
       "  <thead>\n",
       "    <tr style=\"text-align: right;\">\n",
       "      <th></th>\n",
       "      <th>Name</th>\n",
       "      <th>Type</th>\n",
       "      <th>Value</th>\n",
       "    </tr>\n",
       "  </thead>\n",
       "  <tbody>\n",
       "    <tr>\n",
       "      <th>0</th>\n",
       "      <td>title</td>\n",
       "      <td>title</td>\n",
       "      <td>Test</td>\n",
       "    </tr>\n",
       "  </tbody>\n",
       "</table>\n",
       "</div>"
      ],
      "text/plain": [
       "    Name   Type Value\n",
       "0  title  title  Test"
      ]
     },
     "metadata": {},
     "output_type": "display_data"
    },
    {
     "data": {
      "text/plain": []
     },
     "execution_count": 3,
     "metadata": {},
     "output_type": "execute_result"
    }
   ],
   "source": [
    "page_id = page_url.split(\"/\")[-1].split(\"?\")[0].split(\"-\")[-1]\n",
    "page = notion.connect(notion_token).page.get(page_id)\n",
    "page.image(image_url)\n",
    "page.update()"
   ]
  },
  {
   "cell_type": "markdown",
   "id": "fdac9ee4-45df-408a-86b6-0d7e28527dee",
   "metadata": {
    "papermill": {},
    "tags": []
   },
   "source": [
    "## Output"
   ]
  },
  {
   "cell_type": "markdown",
   "id": "1e05048d-6cd6-4574-8205-48970f159fa6",
   "metadata": {
    "papermill": {},
    "tags": []
   },
   "source": [
    "### Display result"
   ]
  },
  {
   "cell_type": "code",
   "execution_count": 4,
   "id": "77b8e9d0-97fb-4417-9130-f5b587b2d72c",
   "metadata": {
    "execution": {
     "iopub.execute_input": "2023-04-28T12:35:40.959120Z",
     "iopub.status.busy": "2023-04-28T12:35:40.958753Z",
     "iopub.status.idle": "2023-04-28T12:35:40.963122Z",
     "shell.execute_reply": "2023-04-28T12:35:40.962538Z",
     "shell.execute_reply.started": "2023-04-28T12:35:40.959086Z"
    },
    "papermill": {},
    "tags": []
   },
   "outputs": [
    {
     "name": "stdout",
     "output_type": "stream",
     "text": [
      "Image updated in your page: https://www.notion.so/naas-official/Test-93655d0408c14923bcd305dd4599cda9?pvs=4\n"
     ]
    }
   ],
   "source": [
    "print(\"Image uploaded in your page:\", page_url)"
   ]
  },
  {
   "cell_type": "markdown",
   "id": "20b2e68d-b3ae-40e9-a97b-ed95eb1385df",
   "metadata": {
    "papermill": {},
    "tags": []
   },
   "source": [
    " "
   ]
  }
 ],
 "metadata": {
  "kernelspec": {
   "display_name": "Python 3",
   "language": "python",
   "name": "python3"
  },
  "language_info": {
   "codemirror_mode": {
    "name": "ipython",
    "version": 3
   },
   "file_extension": ".py",
   "mimetype": "text/x-python",
   "name": "python",
   "nbconvert_exporter": "python",
   "pygments_lexer": "ipython3",
   "version": "3.9.6"
  },
  "widgets": {
   "application/vnd.jupyter.widget-state+json": {
    "state": {},
    "version_major": 2,
    "version_minor": 0
   }
  }
 },
 "nbformat": 4,
 "nbformat_minor": 5
}
