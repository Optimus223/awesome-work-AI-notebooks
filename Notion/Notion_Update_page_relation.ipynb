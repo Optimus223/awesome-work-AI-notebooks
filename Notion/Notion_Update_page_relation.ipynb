{
 "cells": [
  {
   "cell_type": "markdown",
   "id": "9fc8abd3-a56c-4c4b-af78-c184f0a4b823",
   "metadata": {
    "papermill": {},
    "tags": []
   },
   "source": [
    "<img width=\"10%\" alt=\"Naas\" src=\"https://landen.imgix.net/jtci2pxwjczr/assets/5ice39g4.png?w=160\"/>"
   ]
  },
  {
   "cell_type": "markdown",
   "id": "bd775d63-d110-41a7-88f4-b7f523f2b97f",
   "metadata": {
    "papermill": {},
    "tags": []
   },
   "source": [
    "# Notion - Update page relation"
   ]
  },
  {
   "cell_type": "markdown",
   "id": "f38fbc4f-c8e9-4d50-bdaf-44c800b2bdd4",
   "metadata": {
    "papermill": {},
    "tags": []
   },
   "source": [
    "**Tags:** #notion #update #page #relation #requests #api"
   ]
  },
  {
   "cell_type": "markdown",
   "id": "4ff5a5c7-d5c2-4620-b1bf-8ad36c06f1ff",
   "metadata": {
    "papermill": {},
    "tags": []
   },
   "source": [
    "**Author:** [Florent Ravenel](https://linkedin.com/in/florent-ravenel)"
   ]
  },
  {
   "cell_type": "markdown",
   "id": "3dd99dd5-806c-4b95-8c65-97258f5825f0",
   "metadata": {
    "papermill": {},
    "tags": []
   },
   "source": [
    "**Description:** This notebook will show how to update page relation using requests. It is usefull for organization to keep track of their data."
   ]
  },
  {
   "cell_type": "markdown",
   "id": "50e6c68b-3763-41ca-bbe0-476d97ea5622",
   "metadata": {
    "papermill": {},
    "tags": []
   },
   "source": [
    "**References:**\n- [Notion API Reference](https://developers.notion.com/reference/page-property-values#relation)\n- [Requests Library](https://requests.readthedocs.io/en/master/)"
   ]
  },
  {
   "cell_type": "markdown",
   "id": "ed4e1d67-b8eb-4b1b-83c2-f8f3429361d0",
   "metadata": {
    "papermill": {},
    "tags": []
   },
   "source": [
    "## Input"
   ]
  },
  {
   "cell_type": "markdown",
   "id": "15b3293f-fd8c-49b9-abd8-a3d6de781d4e",
   "metadata": {
    "papermill": {},
    "tags": []
   },
   "source": [
    "### Import libraries"
   ]
  },
  {
   "cell_type": "code",
   "execution_count": null,
   "id": "cb723d8a-5960-4931-9057-fff4a9662a80",
   "metadata": {
    "papermill": {},
    "tags": []
   },
   "source": "import requests",
   "outputs": []
  },
  {
   "cell_type": "markdown",
   "id": "aad62598-5d99-47cd-a77b-9af9957d4a84",
   "metadata": {
    "papermill": {},
    "tags": []
   },
   "source": [
    "### Setup Variables\n- `token`: [Notion API Token](https://www.notion.so/api/v3/get-token)\n- `page_id`: Notion page ID\n- `relation_id`: Notion relation ID"
   ]
  },
  {
   "cell_type": "code",
   "execution_count": null,
   "id": "6db6aec5-2b08-4cfa-8746-5d916130375b",
   "metadata": {
    "papermill": {},
    "tags": []
   },
   "source": "token = \"<token>\"\npage_id = \"<page_id>\"\nrelation_id = \"<relation_id>\"",
   "outputs": []
  },
  {
   "cell_type": "markdown",
   "id": "74e29f95-b7d7-408a-bebb-945e65bc40c4",
   "metadata": {
    "papermill": {},
    "tags": []
   },
   "source": [
    "## Model"
   ]
  },
  {
   "cell_type": "markdown",
   "id": "a7ff4e92-54bd-426b-bf1f-ac4ccdc3f2c6",
   "metadata": {
    "papermill": {},
    "tags": []
   },
   "source": [
    "### Update page relation"
   ]
  },
  {
   "cell_type": "markdown",
   "id": "d4fc0fb9-7336-4f40-bd29-86b915e8bcce",
   "metadata": {
    "papermill": {},
    "tags": []
   },
   "source": [
    "This function will update the page relation using the Notion API."
   ]
  },
  {
   "cell_type": "code",
   "execution_count": null,
   "id": "3e95ed44-a95c-4ec0-9e00-1df577f811d9",
   "metadata": {
    "papermill": {},
    "tags": []
   },
   "source": "def update_page_relation(token, page_id, relation_id):\n    headers = {\"Authorization\": \"Bearer \" + token}\n    data = {\"pageId\": page_id, \"relationId\": relation_id}\n    response = requests.put(\n        \"https://www.notion.so/api/v3/updatePageRelation\", headers=headers, json=data\n    )\n    return response",
   "outputs": []
  },
  {
   "cell_type": "markdown",
   "id": "711e3c5b-39e8-4aa7-9118-e8ed61c217fa",
   "metadata": {
    "papermill": {},
    "tags": []
   },
   "source": [
    "## Output"
   ]
  },
  {
   "cell_type": "markdown",
   "id": "9a93e751-2ec7-49fa-a8ca-92c2b038cc50",
   "metadata": {
    "papermill": {},
    "tags": []
   },
   "source": [
    "### Display result"
   ]
  },
  {
   "cell_type": "code",
   "execution_count": null,
   "id": "4ae28331-436d-473e-b523-67d97a2f932b",
   "metadata": {
    "papermill": {},
    "tags": []
   },
   "source": "response = update_page_relation(token, page_id, relation_id)\nprint(response.status_code)\nprint(response.json())",
   "outputs": []
  }
 ],
 "metadata": {
  "kernelspec": {
   "display_name": "Python 3",
   "language": "python",
   "name": "python3"
  },
  "language_info": {
   "codemirror_mode": {
    "name": "ipython",
    "version": 3
   },
   "file_extension": ".py",
   "mimetype": "text/x-python",
   "name": "python",
   "nbconvert_exporter": "python",
   "pygments_lexer": "ipython3",
   "version": "3.9.6"
  },
  "widgets": {
   "application/vnd.jupyter.widget-state+json": {
    "state": {},
    "version_major": 2,
    "version_minor": 0
   }
  }
 },
 "nbformat": 4,
 "nbformat_minor": 5
}