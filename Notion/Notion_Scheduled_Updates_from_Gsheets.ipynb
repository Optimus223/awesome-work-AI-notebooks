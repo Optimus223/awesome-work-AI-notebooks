{
 "cells": [
  {
   "cell_type": "markdown",
   "id": "latin-packing",
   "metadata": {
    "execution": {
     "iopub.execute_input": "2021-02-23T14:22:16.610471Z",
     "iopub.status.busy": "2021-02-23T14:22:16.610129Z",
     "iopub.status.idle": "2021-02-23T14:22:16.627784Z",
     "shell.execute_reply": "2021-02-23T14:22:16.626866Z",
     "shell.execute_reply.started": "2021-02-23T14:22:16.610384Z"
    },
    "papermill": {},
    "tags": []
   },
   "source": [
    "<img width=\"10%\" alt=\"Naas\" src=\"https://landen.imgix.net/jtci2pxwjczr/assets/5ice39g4.png?w=160\"/>"
   ]
  },
  {
   "cell_type": "markdown",
   "id": "compressed-wilson",
   "metadata": {
    "papermill": {},
    "tags": []
   },
   "source": [
    "# Notion - Scheduled Update database from Gsheets\n",
    "<a href=\"https://app.naas.ai/user-redirect/naas/downloader?url=https://raw.githubusercontent.com/jupyter-naas/awesome-notebooks/master/Notion/Notion_Get_database.ipynb\" target=\"_parent\"><img src=\"https://img.shields.io/badge/-Open%20in%20Naas-success?labelColor=000000&logo=data:image/svg+xml;base64,PD94bWwgdmVyc2lvbj0iMS4wIiBlbmNvZGluZz0iVVRGLTgiPz4KPHN2ZyB3aWR0aD0iMTAyNHB4IiBoZWlnaHQ9IjEwMjRweCIgdmlld0JveD0iMCAwIDEwMjQgMTAyNCIgeG1sbnM9Imh0dHA6Ly93d3cudzMub3JnLzIwMDAvc3ZnIiB4bWxuczp4bGluaz0iaHR0cDovL3d3dy53My5vcmcvMTk5OS94bGluayIgdmVyc2lvbj0iMS4xIj4KIDwhLS0gR2VuZXJhdGVkIGJ5IFBpeGVsbWF0b3IgUHJvIDIuMC41IC0tPgogPGRlZnM+CiAgPHRleHQgaWQ9InN0cmluZyIgdHJhbnNmb3JtPSJtYXRyaXgoMS4wIDAuMCAwLjAgMS4wIDIyOC4wIDU0LjUpIiBmb250LWZhbWlseT0iQ29tZm9ydGFhLVJlZ3VsYXIsIENvbWZvcnRhYSIgZm9udC1zaXplPSI4MDAiIHRleHQtZGVjb3JhdGlvbj0ibm9uZSIgZmlsbD0iI2ZmZmZmZiIgeD0iMS4xOTk5OTk5OTk5OTk5ODg2IiB5PSI3MDUuMCI+bjwvdGV4dD4KIDwvZGVmcz4KIDx1c2UgaWQ9Im4iIHhsaW5rOmhyZWY9IiNzdHJpbmciLz4KPC9zdmc+Cg==\"/></a>"
   ]
  },
  {
   "cell_type": "markdown",
   "id": "cbf7f260-f739-4e8f-9074-f070af12b69f",
   "metadata": {
    "papermill": {},
    "tags": []
   },
   "source": [
    "**Tags:** #notion #Gsheets #productivity"
   ]
  },
  {
   "cell_type": "markdown",
   "id": "2dcab025",
   "metadata": {},
   "source": [
    "Pre-requisite: \n",
    "1. Gsheets : Please share your Google Sheet with our service account\n",
    "   For the driver to fetch the contents of your google sheet, you need to share it with the service account linked with Naas. 🔗 naas-share@naas-gsheets.iam.gserviceaccount.com \n",
    "2. Notion : Create a notion integration and use the secret key to share the database. <a href = 'https://docs.naas.ai/Notion-7435020d01a549a9a0060c47ea808fd4'> Refer the documentation here</a>"
   ]
  },
  {
   "cell_type": "markdown",
   "id": "8af9aa79",
   "metadata": {},
   "source": [
    "**Author:** [Pooja Srivastava](https://www.linkedin.com/in/pooja-srivastava-bb037649/)"
   ]
  },
  {
   "cell_type": "markdown",
   "id": "distinguished-truth",
   "metadata": {
    "papermill": {},
    "tags": []
   },
   "source": [
    "## Input"
   ]
  },
  {
   "cell_type": "markdown",
   "id": "b56e47f5-be89-4591-93ec-01e8fac50def",
   "metadata": {
    "papermill": {},
    "tags": []
   },
   "source": [
    "#### Import library"
   ]
  },
  {
   "cell_type": "code",
   "execution_count": 8,
   "id": "6b63229c-7614-4dc8-ba2a-e0b1e2f64918",
   "metadata": {
    "execution": {
     "iopub.execute_input": "2022-01-15T09:54:17.012914Z",
     "iopub.status.busy": "2022-01-15T09:54:17.012641Z",
     "iopub.status.idle": "2022-01-15T09:54:17.018718Z",
     "shell.execute_reply": "2022-01-15T09:54:17.018168Z",
     "shell.execute_reply.started": "2022-01-15T09:54:17.012888Z"
    },
    "papermill": {},
    "tags": []
   },
   "outputs": [],
   "source": [
    "import pandas as pd\n",
    "import naas\n",
    "from naas_drivers import notion\n",
    "from naas_drivers import gsheet"
   ]
  },
  {
   "cell_type": "markdown",
   "id": "c1e4c55b",
   "metadata": {},
   "source": [
    "#### Scheduler"
   ]
  },
  {
   "cell_type": "code",
   "execution_count": 9,
   "id": "0148abca",
   "metadata": {
    "execution": {
     "iopub.execute_input": "2022-01-15T09:54:20.382110Z",
     "iopub.status.busy": "2022-01-15T09:54:20.381878Z",
     "iopub.status.idle": "2022-01-15T09:54:20.398411Z",
     "shell.execute_reply": "2022-01-15T09:54:20.396635Z",
     "shell.execute_reply.started": "2022-01-15T09:54:20.382087Z"
    },
    "tags": []
   },
   "outputs": [
    {
     "ename": "TypeError",
     "evalue": "delete() got an unexpected keyword argument 'cron'",
     "output_type": "error",
     "traceback": [
      "\u001b[0;31m---------------------------------------------------------------------------\u001b[0m",
      "\u001b[0;31mTypeError\u001b[0m                                 Traceback (most recent call last)",
      "\u001b[0;32m<ipython-input-9-b052b815b180>\u001b[0m in \u001b[0;36m<module>\u001b[0;34m\u001b[0m\n\u001b[1;32m      1\u001b[0m \u001b[0;31m#Schedule the notebook to run every 15 minutes\u001b[0m\u001b[0;34m\u001b[0m\u001b[0;34m\u001b[0m\u001b[0;34m\u001b[0m\u001b[0m\n\u001b[0;32m----> 2\u001b[0;31m \u001b[0mnaas\u001b[0m\u001b[0;34m.\u001b[0m\u001b[0mscheduler\u001b[0m\u001b[0;34m.\u001b[0m\u001b[0mdelete\u001b[0m\u001b[0;34m(\u001b[0m\u001b[0mcron\u001b[0m\u001b[0;34m=\u001b[0m\u001b[0;34m\"*/15 * * * *\"\u001b[0m\u001b[0;34m)\u001b[0m\u001b[0;34m\u001b[0m\u001b[0;34m\u001b[0m\u001b[0m\n\u001b[0m",
      "\u001b[0;31mTypeError\u001b[0m: delete() got an unexpected keyword argument 'cron'"
     ]
    }
   ],
   "source": [
    "#Schedule the notebook to run every 15 minutes\n",
    "naas.scheduler.add(cron=\"*/15 * * * *\")"
   ]
  },
  {
   "cell_type": "code",
   "execution_count": null,
   "id": "55c33540-6229-421f-9d00-bbe328261258",
   "metadata": {},
   "outputs": [],
   "source": [
    "#page properties object\n",
    "properties = {}"
   ]
  },
  {
   "cell_type": "markdown",
   "id": "2665cb7f-1504-48d7-9d49-8b30fd80e359",
   "metadata": {
    "papermill": {},
    "tags": []
   },
   "source": [
    "#### Variables"
   ]
  },
  {
   "cell_type": "code",
   "execution_count": 10,
   "id": "2fafe16a-ccca-43ae-88fd-eb23af803fe6",
   "metadata": {
    "execution": {
     "iopub.execute_input": "2022-01-15T09:54:27.272383Z",
     "iopub.status.busy": "2022-01-15T09:54:27.272154Z",
     "iopub.status.idle": "2022-01-15T09:54:27.278407Z",
     "shell.execute_reply": "2022-01-15T09:54:27.277869Z",
     "shell.execute_reply.started": "2022-01-15T09:54:27.272361Z"
    },
    "papermill": {},
    "tags": []
   },
   "outputs": [],
   "source": [
    "# Enter Notion Token API and Database URL\n",
    "notion_token = \"secret_VOlinBxpMGEU6KuT6A9GJNjhOXvIcAPK21jjonT2FvU\"\n",
    "notion_database_url = \"https://www.notion.so/9db9d736c48f41c78c5de73c66368566?v=42eb13a598044705a14b442e65e86769\"\n",
    "\n",
    "# Enter spreadsheet_id and sheet name\n",
    "spreadsheet_id = \"1ipKkNAqjJeSx6-Ht2q2nL-M8xtd3CqeuD64Lhd9SJEI\"\n",
    "sheet_name = \"test1\"\n",
    "\n",
    "#Unique column name for notion\n",
    "col_unique_notion = 'Name'\n",
    "\n",
    "#Unique column# for gsheets\n",
    "col_unique_gsheet = 'Name'"
   ]
  },
  {
   "cell_type": "markdown",
   "id": "9f59e097",
   "metadata": {},
   "source": [
    "#### Get Gsheet and Notion data"
   ]
  },
  {
   "cell_type": "code",
   "execution_count": 11,
   "id": "a3da2ed0-f1af-4706-8ace-7ed909c15237",
   "metadata": {
    "execution": {
     "iopub.execute_input": "2022-01-15T09:54:32.817759Z",
     "iopub.status.busy": "2022-01-15T09:54:32.817510Z",
     "iopub.status.idle": "2022-01-15T09:54:33.063357Z",
     "shell.execute_reply": "2022-01-15T09:54:33.062696Z",
     "shell.execute_reply.started": "2022-01-15T09:54:32.817733Z"
    },
    "papermill": {},
    "tags": []
   },
   "outputs": [],
   "source": [
    "#Connect with Gsheet and get all data in a dataframe\n",
    "gsheet.connect(spreadsheet_id)\n",
    "df_gsheet = gsheet.get(sheet_name=sheet_name)"
   ]
  },
  {
   "cell_type": "code",
   "execution_count": 12,
   "id": "3df1074b",
   "metadata": {
    "execution": {
     "iopub.execute_input": "2022-01-15T09:54:35.971956Z",
     "iopub.status.busy": "2022-01-15T09:54:35.971734Z",
     "iopub.status.idle": "2022-01-15T09:54:38.810866Z",
     "shell.execute_reply": "2022-01-15T09:54:38.810267Z",
     "shell.execute_reply.started": "2022-01-15T09:54:35.971935Z"
    },
    "tags": []
   },
   "outputs": [],
   "source": [
    "#Connect with Notion db and get all pages in a dataframe\n",
    "database = notion.connect(notion_token).database.get(notion_database_url)\n",
    "df_notion = database.df()"
   ]
  },
  {
   "cell_type": "code",
   "execution_count": 13,
   "id": "53f02bc6-7231-4942-87a2-97ec2733d475",
   "metadata": {
    "execution": {
     "iopub.execute_input": "2022-01-15T09:54:39.435352Z",
     "iopub.status.busy": "2022-01-15T09:54:39.433148Z",
     "iopub.status.idle": "2022-01-15T09:54:39.452146Z",
     "shell.execute_reply": "2022-01-15T09:54:39.451442Z",
     "shell.execute_reply.started": "2022-01-15T09:54:39.435309Z"
    },
    "tags": []
   },
   "outputs": [
    {
     "data": {
      "text/html": [
       "<div>\n",
       "<style scoped>\n",
       "    .dataframe tbody tr th:only-of-type {\n",
       "        vertical-align: middle;\n",
       "    }\n",
       "\n",
       "    .dataframe tbody tr th {\n",
       "        vertical-align: top;\n",
       "    }\n",
       "\n",
       "    .dataframe thead th {\n",
       "        text-align: right;\n",
       "    }\n",
       "</style>\n",
       "<table border=\"1\" class=\"dataframe\">\n",
       "  <thead>\n",
       "    <tr style=\"text-align: right;\">\n",
       "      <th></th>\n",
       "      <th>Type</th>\n",
       "      <th>Name</th>\n",
       "      <th>Status</th>\n",
       "      <th>Score /5</th>\n",
       "      <th>Author</th>\n",
       "      <th>Publisher</th>\n",
       "      <th>Publishing/Release Date</th>\n",
       "      <th>Link</th>\n",
       "      <th>Summary</th>\n",
       "      <th>Property</th>\n",
       "    </tr>\n",
       "  </thead>\n",
       "  <tbody>\n",
       "    <tr>\n",
       "      <th>0</th>\n",
       "      <td>Film</td>\n",
       "      <td>bbbb</td>\n",
       "      <td>Finished</td>\n",
       "      <td>2</td>\n",
       "      <td>NaN</td>\n",
       "      <td>NaN</td>\n",
       "      <td>NaN</td>\n",
       "      <td>NaN</td>\n",
       "      <td>NaN</td>\n",
       "      <td>NaN</td>\n",
       "    </tr>\n",
       "    <tr>\n",
       "      <th>1</th>\n",
       "      <td>Film</td>\n",
       "      <td>cccc</td>\n",
       "      <td>Finished</td>\n",
       "      <td>2</td>\n",
       "      <td>NaN</td>\n",
       "      <td>NaN</td>\n",
       "      <td>NaN</td>\n",
       "      <td>NaN</td>\n",
       "      <td>NaN</td>\n",
       "      <td>NaN</td>\n",
       "    </tr>\n",
       "    <tr>\n",
       "      <th>2</th>\n",
       "      <td>Film</td>\n",
       "      <td>aaaa</td>\n",
       "      <td>Finished</td>\n",
       "      <td>4</td>\n",
       "      <td>NaN</td>\n",
       "      <td>NaN</td>\n",
       "      <td>NaN</td>\n",
       "      <td>NaN</td>\n",
       "      <td>NaN</td>\n",
       "      <td>NaN</td>\n",
       "    </tr>\n",
       "  </tbody>\n",
       "</table>\n",
       "</div>"
      ],
      "text/plain": [
       "   Type  Name    Status  Score /5  Author  Publisher  Publishing/Release Date  \\\n",
       "0  Film  bbbb  Finished         2     NaN        NaN                      NaN   \n",
       "1  Film  cccc  Finished         2     NaN        NaN                      NaN   \n",
       "2  Film  aaaa  Finished         4     NaN        NaN                      NaN   \n",
       "\n",
       "   Link  Summary  Property  \n",
       "0   NaN      NaN       NaN  \n",
       "1   NaN      NaN       NaN  \n",
       "2   NaN      NaN       NaN  "
      ]
     },
     "execution_count": 13,
     "metadata": {},
     "output_type": "execute_result"
    }
   ],
   "source": [
    "df_gsheet.head()"
   ]
  },
  {
   "cell_type": "markdown",
   "id": "registered-showcase",
   "metadata": {
    "papermill": {},
    "tags": []
   },
   "source": [
    "## Model"
   ]
  },
  {
   "cell_type": "markdown",
   "id": "2b985ca9",
   "metadata": {},
   "source": [
    "#### Compare Gsheet and Notion data"
   ]
  },
  {
   "cell_type": "code",
   "execution_count": 14,
   "id": "82fe3529",
   "metadata": {
    "execution": {
     "iopub.execute_input": "2022-01-15T09:54:46.833192Z",
     "iopub.status.busy": "2022-01-15T09:54:46.832903Z",
     "iopub.status.idle": "2022-01-15T09:54:46.858708Z",
     "shell.execute_reply": "2022-01-15T09:54:46.857653Z",
     "shell.execute_reply.started": "2022-01-15T09:54:46.833162Z"
    },
    "tags": []
   },
   "outputs": [],
   "source": [
    "#Iterate through all rows in Gsheet and find match in Notion db\n",
    "#If no match is found then add data to df_difference dataframe\n",
    "\n",
    "df_difference = pd.DataFrame()\n",
    "for index,row in df_gsheet.iterrows():\n",
    "    x = row[col_unique_gsheet]\n",
    "    if not (x == df_notion[col_unique_notion]).any():\n",
    "        df_difference = df_difference.append(df_gsheet.loc[index])"
   ]
  },
  {
   "cell_type": "code",
   "execution_count": 15,
   "id": "12f73548-b797-45be-8686-a46fd80cb0cb",
   "metadata": {
    "execution": {
     "iopub.execute_input": "2022-01-15T09:54:50.096245Z",
     "iopub.status.busy": "2022-01-15T09:54:50.096000Z",
     "iopub.status.idle": "2022-01-15T09:54:50.109812Z",
     "shell.execute_reply": "2022-01-15T09:54:50.109171Z",
     "shell.execute_reply.started": "2022-01-15T09:54:50.096221Z"
    },
    "tags": []
   },
   "outputs": [
    {
     "data": {
      "text/html": [
       "<div>\n",
       "<style scoped>\n",
       "    .dataframe tbody tr th:only-of-type {\n",
       "        vertical-align: middle;\n",
       "    }\n",
       "\n",
       "    .dataframe tbody tr th {\n",
       "        vertical-align: top;\n",
       "    }\n",
       "\n",
       "    .dataframe thead th {\n",
       "        text-align: right;\n",
       "    }\n",
       "</style>\n",
       "<table border=\"1\" class=\"dataframe\">\n",
       "  <thead>\n",
       "    <tr style=\"text-align: right;\">\n",
       "      <th></th>\n",
       "      <th>Author</th>\n",
       "      <th>Link</th>\n",
       "      <th>Name</th>\n",
       "      <th>Property</th>\n",
       "      <th>Publisher</th>\n",
       "      <th>Publishing/Release Date</th>\n",
       "      <th>Score /5</th>\n",
       "      <th>Status</th>\n",
       "      <th>Summary</th>\n",
       "      <th>Type</th>\n",
       "    </tr>\n",
       "  </thead>\n",
       "  <tbody>\n",
       "    <tr>\n",
       "      <th>2</th>\n",
       "      <td>NaN</td>\n",
       "      <td>NaN</td>\n",
       "      <td>aaaa</td>\n",
       "      <td>NaN</td>\n",
       "      <td>NaN</td>\n",
       "      <td>NaN</td>\n",
       "      <td>4.0</td>\n",
       "      <td>Finished</td>\n",
       "      <td>NaN</td>\n",
       "      <td>Film</td>\n",
       "    </tr>\n",
       "  </tbody>\n",
       "</table>\n",
       "</div>"
      ],
      "text/plain": [
       "   Author  Link  Name  Property  Publisher  Publishing/Release Date  Score /5  \\\n",
       "2     NaN   NaN  aaaa       NaN        NaN                      NaN       4.0   \n",
       "\n",
       "     Status  Summary  Type  \n",
       "2  Finished      NaN  Film  "
      ]
     },
     "execution_count": 15,
     "metadata": {},
     "output_type": "execute_result"
    }
   ],
   "source": [
    "df_difference.head()"
   ]
  },
  {
   "cell_type": "code",
   "execution_count": 17,
   "id": "89aa9e93",
   "metadata": {
    "execution": {
     "iopub.execute_input": "2022-01-15T09:55:19.922594Z",
     "iopub.status.busy": "2022-01-15T09:55:19.922345Z",
     "iopub.status.idle": "2022-01-15T09:55:20.292814Z",
     "shell.execute_reply": "2022-01-15T09:55:20.291756Z",
     "shell.execute_reply.started": "2022-01-15T09:55:19.922560Z"
    },
    "tags": []
   },
   "outputs": [
    {
     "ename": "AttributeError",
     "evalue": "'float' object has no attribute 'type'",
     "output_type": "error",
     "traceback": [
      "\u001b[0;31m---------------------------------------------------------------------------\u001b[0m",
      "\u001b[0;31mAttributeError\u001b[0m                            Traceback (most recent call last)",
      "\u001b[0;32m<ipython-input-17-59b78540425b>\u001b[0m in \u001b[0;36m<module>\u001b[0;34m\u001b[0m\n\u001b[1;32m      4\u001b[0m     \u001b[0;32mfor\u001b[0m \u001b[0mprop\u001b[0m \u001b[0;32min\u001b[0m \u001b[0mpage\u001b[0m\u001b[0;34m.\u001b[0m\u001b[0mproperties\u001b[0m\u001b[0;34m:\u001b[0m\u001b[0;34m\u001b[0m\u001b[0;34m\u001b[0m\u001b[0m\n\u001b[1;32m      5\u001b[0m         \u001b[0mpage\u001b[0m\u001b[0;34m.\u001b[0m\u001b[0mproperties\u001b[0m\u001b[0;34m[\u001b[0m\u001b[0mprop\u001b[0m\u001b[0;34m]\u001b[0m \u001b[0;34m=\u001b[0m \u001b[0mrow\u001b[0m\u001b[0;34m[\u001b[0m\u001b[0mprop\u001b[0m\u001b[0;34m]\u001b[0m\u001b[0;34m\u001b[0m\u001b[0;34m\u001b[0m\u001b[0m\n\u001b[0;32m----> 6\u001b[0;31m     \u001b[0mpage\u001b[0m\u001b[0;34m.\u001b[0m\u001b[0mnotion\u001b[0m\u001b[0;34m.\u001b[0m\u001b[0mpages\u001b[0m\u001b[0;34m.\u001b[0m\u001b[0mupdate\u001b[0m\u001b[0;34m(\u001b[0m\u001b[0mpage\u001b[0m\u001b[0;34m)\u001b[0m  \u001b[0;31m# Issue currently here\u001b[0m\u001b[0;34m\u001b[0m\u001b[0;34m\u001b[0m\u001b[0m\n\u001b[0m",
      "\u001b[0;32m/opt/conda/lib/python3.8/site-packages/naas_drivers/tools/notion.py\u001b[0m in \u001b[0;36mupdate\u001b[0;34m(self, page)\u001b[0m\n\u001b[1;32m    169\u001b[0m                 \u001b[0mprop\u001b[0m \u001b[0;34m=\u001b[0m \u001b[0mcopied\u001b[0m\u001b[0;34m.\u001b[0m\u001b[0mproperties\u001b[0m\u001b[0;34m[\u001b[0m\u001b[0mp\u001b[0m\u001b[0;34m]\u001b[0m\u001b[0;34m\u001b[0m\u001b[0;34m\u001b[0m\u001b[0m\n\u001b[1;32m    170\u001b[0m                 if (\n\u001b[0;32m--> 171\u001b[0;31m                     \u001b[0mprop\u001b[0m\u001b[0;34m.\u001b[0m\u001b[0mtype\u001b[0m\u001b[0;34m\u001b[0m\u001b[0;34m\u001b[0m\u001b[0m\n\u001b[0m\u001b[1;32m    172\u001b[0m                     not in [\n\u001b[1;32m    173\u001b[0m                         \u001b[0;34m\"last_edited_by\"\u001b[0m\u001b[0;34m,\u001b[0m\u001b[0;34m\u001b[0m\u001b[0;34m\u001b[0m\u001b[0m\n",
      "\u001b[0;31mAttributeError\u001b[0m: 'float' object has no attribute 'type'"
     ]
    }
   ],
   "source": [
    "#Create a new page in notion db for each row in df_difference dataframe\n",
    "for index, row in df_difference.iterrows():\n",
    "    page = notion.connect(notion_token).page.create(database_id=notion_database_url, title=row[col_unique_gsheet])\n",
    "    for prop in page.properties:\n",
    "        page.properties[prop] = row[prop]\n",
    "    page.notion.pages.update(page)  # Issue currently here, have tried page.update as well"
   ]
  },
  {
   "cell_type": "code",
   "execution_count": null,
   "id": "84681505",
   "metadata": {},
   "outputs": [],
   "source": [
    "##Code for testing\n",
    "# page = notion.connect(notion_token).page.create(database_id=notion_database_url, title='test new page')\n",
    "# print(type(page))\n",
    "# print(type(page.properties))\n",
    "# for prop in page.properties:\n",
    "#     print(prop)\n",
    "#     print(prop.get(\"type\"))\n",
    "#     page.properties[prop] = 'a'\n",
    "# page.update()"
   ]
  }
 ],
 "metadata": {
  "kernelspec": {
   "display_name": "Python 3",
   "language": "python",
   "name": "python3"
  },
  "language_info": {
   "codemirror_mode": {
    "name": "ipython",
    "version": 3
   },
   "file_extension": ".py",
   "mimetype": "text/x-python",
   "name": "python",
   "nbconvert_exporter": "python",
   "pygments_lexer": "ipython3",
   "version": "3.8.8"
  },
  "papermill": {
   "default_parameters": {},
   "environment_variables": {},
   "parameters": {},
   "version": "2.3.3"
  },
  "widgets": {
   "application/vnd.jupyter.widget-state+json": {
    "state": {},
    "version_major": 2,
    "version_minor": 0
   }
  }
 },
 "nbformat": 4,
 "nbformat_minor": 5
}
