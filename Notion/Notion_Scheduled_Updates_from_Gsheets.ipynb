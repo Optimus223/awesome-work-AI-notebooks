{
 "cells": [
  {
   "cell_type": "markdown",
   "id": "latin-packing",
   "metadata": {
    "execution": {
     "iopub.execute_input": "2021-02-23T14:22:16.610471Z",
     "iopub.status.busy": "2021-02-23T14:22:16.610129Z",
     "iopub.status.idle": "2021-02-23T14:22:16.627784Z",
     "shell.execute_reply": "2021-02-23T14:22:16.626866Z",
     "shell.execute_reply.started": "2021-02-23T14:22:16.610384Z"
    },
    "papermill": {},
    "tags": []
   },
   "source": [
    "<img width=\"10%\" alt=\"Naas\" src=\"https://landen.imgix.net/jtci2pxwjczr/assets/5ice39g4.png?w=160\"/>"
   ]
  },
  {
   "cell_type": "markdown",
   "id": "compressed-wilson",
   "metadata": {
    "papermill": {},
    "tags": []
   },
   "source": [
    "# Notion - Scheduled Update database from Gsheets\n",
    "<a href=\"https://app.naas.ai/user-redirect/naas/downloader?url=https://raw.githubusercontent.com/jupyter-naas/awesome-notebooks/master/Notion/Notion_Get_database.ipynb\" target=\"_parent\"><img src=\"https://img.shields.io/badge/-Open%20in%20Naas-success?labelColor=000000&logo=data:image/svg+xml;base64,PD94bWwgdmVyc2lvbj0iMS4wIiBlbmNvZGluZz0iVVRGLTgiPz4KPHN2ZyB3aWR0aD0iMTAyNHB4IiBoZWlnaHQ9IjEwMjRweCIgdmlld0JveD0iMCAwIDEwMjQgMTAyNCIgeG1sbnM9Imh0dHA6Ly93d3cudzMub3JnLzIwMDAvc3ZnIiB4bWxuczp4bGluaz0iaHR0cDovL3d3dy53My5vcmcvMTk5OS94bGluayIgdmVyc2lvbj0iMS4xIj4KIDwhLS0gR2VuZXJhdGVkIGJ5IFBpeGVsbWF0b3IgUHJvIDIuMC41IC0tPgogPGRlZnM+CiAgPHRleHQgaWQ9InN0cmluZyIgdHJhbnNmb3JtPSJtYXRyaXgoMS4wIDAuMCAwLjAgMS4wIDIyOC4wIDU0LjUpIiBmb250LWZhbWlseT0iQ29tZm9ydGFhLVJlZ3VsYXIsIENvbWZvcnRhYSIgZm9udC1zaXplPSI4MDAiIHRleHQtZGVjb3JhdGlvbj0ibm9uZSIgZmlsbD0iI2ZmZmZmZiIgeD0iMS4xOTk5OTk5OTk5OTk5ODg2IiB5PSI3MDUuMCI+bjwvdGV4dD4KIDwvZGVmcz4KIDx1c2UgaWQ9Im4iIHhsaW5rOmhyZWY9IiNzdHJpbmciLz4KPC9zdmc+Cg==\"/></a>"
   ]
  },
  {
   "cell_type": "markdown",
   "id": "cbf7f260-f739-4e8f-9074-f070af12b69f",
   "metadata": {
    "papermill": {},
    "tags": []
   },
   "source": [
    "**Tags:** #notion #Gsheets #productivity"
   ]
  },
  {
   "cell_type": "markdown",
   "id": "2dcab025",
   "metadata": {},
   "source": [
    "Pre-requisite: \n",
    "1. Gsheets : Please share your Google Sheet with our service account\n",
    "   For the driver to fetch the contents of your google sheet, you need to share it with the service account linked with Naas. 🔗 naas-share@naas-gsheets.iam.gserviceaccount.com \n",
    "2. Notion : Create a notion integration and use the secret key to share the database. <a href = 'https://docs.naas.ai/Notion-7435020d01a549a9a0060c47ea808fd4'> Refer the documentation here</a>"
   ]
  },
  {
   "cell_type": "markdown",
   "id": "8af9aa79",
   "metadata": {},
   "source": [
    "**Author:** [Pooja Srivastava](https://www.linkedin.com/in/pooja-srivastava-bb037649/)"
   ]
  },
  {
   "cell_type": "markdown",
   "id": "distinguished-truth",
   "metadata": {
    "papermill": {},
    "tags": []
   },
   "source": [
    "## Input"
   ]
  },
  {
   "cell_type": "markdown",
   "id": "b56e47f5-be89-4591-93ec-01e8fac50def",
   "metadata": {
    "papermill": {},
    "tags": []
   },
   "source": [
    "#### Import library"
   ]
  },
  {
   "cell_type": "code",
   "execution_count": 2,
   "id": "6b63229c-7614-4dc8-ba2a-e0b1e2f64918",
   "metadata": {
    "execution": {
     "iopub.execute_input": "2022-01-15T11:21:54.152253Z",
     "iopub.status.busy": "2022-01-15T11:21:54.152024Z",
     "iopub.status.idle": "2022-01-15T11:21:55.804913Z",
     "shell.execute_reply": "2022-01-15T11:21:55.804176Z",
     "shell.execute_reply.started": "2022-01-15T11:21:54.152230Z"
    },
    "papermill": {},
    "tags": []
   },
   "outputs": [],
   "source": [
    "import pandas as pd\n",
    "import naas\n",
    "from naas_drivers import notion\n",
    "from naas_drivers import gsheet"
   ]
  },
  {
   "cell_type": "markdown",
   "id": "c1e4c55b",
   "metadata": {},
   "source": [
    "#### Scheduler"
   ]
  },
  {
   "cell_type": "code",
   "execution_count": 17,
   "id": "0148abca",
   "metadata": {
    "execution": {
     "iopub.execute_input": "2022-01-15T11:37:54.997523Z",
     "iopub.status.busy": "2022-01-15T11:37:54.997216Z",
     "iopub.status.idle": "2022-01-15T11:37:55.535446Z",
     "shell.execute_reply": "2022-01-15T11:37:55.527071Z",
     "shell.execute_reply.started": "2022-01-15T11:37:54.997490Z"
    },
    "tags": []
   },
   "outputs": [
    {
     "name": "stdout",
     "output_type": "stream",
     "text": [
      "👌 Well done! Your Notebook has been sent to production.\n",
      "\n",
      "⏰ It will be scheduled \"*/15 * * * *\" (more on the syntax on https://crontab.guru/).\n",
      "\n",
      "Ps: to remove the \"Scheduler\", just replace .add by .delete\n"
     ]
    }
   ],
   "source": [
    "#Schedule the notebook to run every 15 minutes\n",
    "naas.scheduler.add(cron=\"*/15 * * * *\")"
   ]
  },
  {
   "cell_type": "markdown",
   "id": "2665cb7f-1504-48d7-9d49-8b30fd80e359",
   "metadata": {
    "papermill": {},
    "tags": []
   },
   "source": [
    "#### Variables"
   ]
  },
  {
   "cell_type": "code",
   "execution_count": 4,
   "id": "2fafe16a-ccca-43ae-88fd-eb23af803fe6",
   "metadata": {
    "execution": {
     "iopub.execute_input": "2022-01-15T11:31:21.172547Z",
     "iopub.status.busy": "2022-01-15T11:31:21.172310Z",
     "iopub.status.idle": "2022-01-15T11:31:21.175844Z",
     "shell.execute_reply": "2022-01-15T11:31:21.175187Z",
     "shell.execute_reply.started": "2022-01-15T11:31:21.172521Z"
    },
    "papermill": {},
    "tags": []
   },
   "outputs": [],
   "source": [
    "# Enter Notion Token API and Database URL\n",
    "notion_token = \"secret_VOlinBxpMGEU6KuT6A9GJNjhOXvIcAPK21jjonT2FvU\"\n",
    "notion_database_url = \"https://www.notion.so/9db9d736c48f41c78c5de73c66368566?v=42eb13a598044705a14b442e65e86769\"\n",
    "\n",
    "# Enter spreadsheet_id and sheet name\n",
    "spreadsheet_id = \"1ipKkNAqjJeSx6-Ht2q2nL-M8xtd3CqeuD64Lhd9SJEI\"\n",
    "sheet_name = \"test1\"\n",
    "\n",
    "#Unique column name for notion\n",
    "col_unique_notion = 'Name'\n",
    "\n",
    "#Unique column# for gsheets\n",
    "col_unique_gsheet = 'Name'"
   ]
  },
  {
   "cell_type": "markdown",
   "id": "9f59e097",
   "metadata": {},
   "source": [
    "#### Get Gsheet and Notion data"
   ]
  },
  {
   "cell_type": "code",
   "execution_count": 9,
   "id": "a3da2ed0-f1af-4706-8ace-7ed909c15237",
   "metadata": {
    "execution": {
     "iopub.execute_input": "2022-01-15T11:32:51.332780Z",
     "iopub.status.busy": "2022-01-15T11:32:51.332532Z",
     "iopub.status.idle": "2022-01-15T11:32:51.596521Z",
     "shell.execute_reply": "2022-01-15T11:32:51.595976Z",
     "shell.execute_reply.started": "2022-01-15T11:32:51.332747Z"
    },
    "papermill": {},
    "tags": []
   },
   "outputs": [],
   "source": [
    "#Connect with Gsheet and get all data in a dataframe\n",
    "gsheet.connect(spreadsheet_id)\n",
    "df_gsheet = gsheet.get(sheet_name=sheet_name)"
   ]
  },
  {
   "cell_type": "code",
   "execution_count": 10,
   "id": "3df1074b",
   "metadata": {
    "execution": {
     "iopub.execute_input": "2022-01-15T11:32:53.992640Z",
     "iopub.status.busy": "2022-01-15T11:32:53.992330Z",
     "iopub.status.idle": "2022-01-15T11:32:56.031727Z",
     "shell.execute_reply": "2022-01-15T11:32:56.031116Z",
     "shell.execute_reply.started": "2022-01-15T11:32:53.992606Z"
    },
    "tags": []
   },
   "outputs": [],
   "source": [
    "#Connect with Notion db and get all pages in a dataframe\n",
    "database = notion.connect(notion_token).database.get(notion_database_url)\n",
    "df_notion = database.df()"
   ]
  },
  {
   "cell_type": "markdown",
   "id": "registered-showcase",
   "metadata": {
    "papermill": {},
    "tags": []
   },
   "source": [
    "## Model"
   ]
  },
  {
   "cell_type": "markdown",
   "id": "2b985ca9",
   "metadata": {},
   "source": [
    "#### Compare Gsheet and Notion data"
   ]
  },
  {
   "cell_type": "code",
   "execution_count": 11,
   "id": "82fe3529",
   "metadata": {
    "execution": {
     "iopub.execute_input": "2022-01-15T11:33:00.062286Z",
     "iopub.status.busy": "2022-01-15T11:33:00.062062Z",
     "iopub.status.idle": "2022-01-15T11:33:00.074166Z",
     "shell.execute_reply": "2022-01-15T11:33:00.073463Z",
     "shell.execute_reply.started": "2022-01-15T11:33:00.062264Z"
    },
    "tags": []
   },
   "outputs": [],
   "source": [
    "#Iterate through all rows in Gsheet and find match in Notion db\n",
    "#If no match is found then add data to df_difference dataframe\n",
    "\n",
    "df_difference = pd.DataFrame()\n",
    "for index,row in df_gsheet.iterrows():\n",
    "    x = row[col_unique_gsheet]\n",
    "    if not (x == df_notion[col_unique_notion]).any():\n",
    "        df_difference = df_difference.append(df_gsheet.loc[index])"
   ]
  },
  {
   "cell_type": "code",
   "execution_count": 16,
   "id": "89aa9e93",
   "metadata": {
    "execution": {
     "iopub.execute_input": "2022-01-15T11:37:31.083143Z",
     "iopub.status.busy": "2022-01-15T11:37:31.082852Z",
     "iopub.status.idle": "2022-01-15T11:37:32.686229Z",
     "shell.execute_reply": "2022-01-15T11:37:32.685570Z",
     "shell.execute_reply.started": "2022-01-15T11:37:31.083111Z"
    },
    "tags": []
   },
   "outputs": [],
   "source": [
    "#Create a new page in notion db for each row in df_difference dataframe\n",
    "for index, row in df_difference.iterrows():\n",
    "    page = notion.connect(notion_token).page.create(database_id=notion_database_url, title=row[col_unique_gsheet])\n",
    "    #Add all properties here and map with respective column in row\n",
    "    page.select('Type', row['Type'])\n",
    "    page.select('Status', row['Status'])\n",
    "    page.rich_text('Summary', row['Summary'])\n",
    "    page.update()"
   ]
  },
  {
   "cell_type": "code",
   "execution_count": null,
   "id": "84681505",
   "metadata": {},
   "outputs": [],
   "source": [
    "##Code for testing\n",
    "# page = notion.connect(notion_token).page.create(database_id=notion_database_url, title='test new page')\n",
    "# print(type(page))\n",
    "# print(type(page.properties))\n",
    "# for prop in page.properties:\n",
    "#     print(prop)\n",
    "#     print(prop.get(\"type\"))\n",
    "#     page.properties[prop] = 'a'\n",
    "# page.update()"
   ]
  }
 ],
 "metadata": {
  "kernelspec": {
   "display_name": "Python 3",
   "language": "python",
   "name": "python3"
  },
  "language_info": {
   "codemirror_mode": {
    "name": "ipython",
    "version": 3
   },
   "file_extension": ".py",
   "mimetype": "text/x-python",
   "name": "python",
   "nbconvert_exporter": "python",
   "pygments_lexer": "ipython3",
   "version": "3.8.8"
  },
  "papermill": {
   "default_parameters": {},
   "environment_variables": {},
   "parameters": {},
   "version": "2.3.3"
  },
  "widgets": {
   "application/vnd.jupyter.widget-state+json": {
    "state": {},
    "version_major": 2,
    "version_minor": 0
   }
  }
 },
 "nbformat": 4,
 "nbformat_minor": 5
}
