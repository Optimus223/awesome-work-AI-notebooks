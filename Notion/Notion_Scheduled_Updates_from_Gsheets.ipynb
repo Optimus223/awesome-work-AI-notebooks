{
 "cells": [
  {
   "cell_type": "markdown",
   "id": "latin-packing",
   "metadata": {
    "execution": {
     "iopub.execute_input": "2021-02-23T14:22:16.610471Z",
     "iopub.status.busy": "2021-02-23T14:22:16.610129Z",
     "iopub.status.idle": "2021-02-23T14:22:16.627784Z",
     "shell.execute_reply": "2021-02-23T14:22:16.626866Z",
     "shell.execute_reply.started": "2021-02-23T14:22:16.610384Z"
    },
    "papermill": {},
    "tags": []
   },
   "source": [
    "<img width=\"10%\" alt=\"Naas\" src=\"https://landen.imgix.net/jtci2pxwjczr/assets/5ice39g4.png?w=160\"/>"
   ]
  },
  {
   "cell_type": "markdown",
   "id": "compressed-wilson",
   "metadata": {
    "papermill": {},
    "tags": []
   },
   "source": [
    "# Notion - Scheduled Updates from Gsheets\n",
    "<a href=\"https://app.naas.ai/user-redirect/naas/downloader?url=https://raw.githubusercontent.com/jupyter-naas/awesome-notebooks/master/Notion/Notion_Scheduled_Updates_from_Gsheets.ipynb\" target=\"_parent\"><img src=\"https://naasai-public.s3.eu-west-3.amazonaws.com/open_in_naas.svg\"/></a>"
   ]
  },
  {
   "cell_type": "markdown",
   "id": "cbf7f260-f739-4e8f-9074-f070af12b69f",
   "metadata": {
    "papermill": {},
    "tags": []
   },
   "source": [
    "**Tags:** #notion #gsheet #productivity #naas_drivers #operations #automation"
   ]
  },
  {
   "cell_type": "markdown",
   "id": "8af9aa79",
   "metadata": {
    "papermill": {},
    "tags": []
   },
   "source": [
    "**Author:** [Pooja Srivastava](https://www.linkedin.com/in/pooja-srivastava-bb037649/)"
   ]
  },
  {
   "cell_type": "markdown",
   "id": "23b6826b-2b9d-4322-b2fa-c653b0a31b9d",
   "metadata": {
    "papermill": {},
    "tags": []
   },
   "source": [
    "This notebook does the following tasks: \n",
    "- Schedule the notebook to run every 15 minutes\n",
    "- Connect with Gsheet and get all rows using the gsheet driver's get method\n",
    "- Connect with NotionDB and get all pages using the Notion Databases driver's get method\n",
    "- Compare the list of pages from notion db with the rows returned from gsheet and add non matching rows to a list\n",
    "- Create new pages in Notion db for each row in the non matching list using the Notion Pages driver's create method\n",
    "- For each created page, add the properties and values from gsheet and update in notion using the Notion Pages driver's update methods"
   ]
  },
  {
   "cell_type": "markdown",
   "id": "2dcab025",
   "metadata": {
    "papermill": {},
    "tags": []
   },
   "source": [
    "Pre-requisite: \n",
    "1. Gsheets : Please share your Google Sheet with our service account\n",
    "   For the driver to fetch the contents of your google sheet, you need to share it with the service account linked with Naas. \ud83d\udd17 naas-share@naas-gsheets.iam.gserviceaccount.com \n",
    "2. Notion : Create a notion integration and use the secret key to share the database. <a href = 'https://docs.naas.ai/Notion-7435020d01a549a9a0060c47ea808fd4'> Refer the documentation here</a>"
   ]
  },
  {
   "cell_type": "markdown",
   "id": "distinguished-truth",
   "metadata": {
    "papermill": {},
    "tags": []
   },
   "source": [
    "## Input"
   ]
  },
  {
   "cell_type": "markdown",
   "id": "b56e47f5-be89-4591-93ec-01e8fac50def",
   "metadata": {
    "papermill": {},
    "tags": []
   },
   "source": [
    "### Import library"
   ]
  },
  {
   "cell_type": "code",
   "execution_count": 1,
   "id": "6b63229c-7614-4dc8-ba2a-e0b1e2f64918",
   "metadata": {
    "execution": {
     "iopub.execute_input": "2022-01-23T09:02:33.811607Z",
     "iopub.status.busy": "2022-01-23T09:02:33.811212Z",
     "iopub.status.idle": "2022-01-23T09:02:35.517010Z",
     "shell.execute_reply": "2022-01-23T09:02:35.516334Z",
     "shell.execute_reply.started": "2022-01-23T09:02:33.811509Z"
    },
    "papermill": {},
    "tags": []
   },
   "outputs": [],
   "source": [
    "import pandas as pd\n",
    "import naas\n",
    "from naas_drivers import notion, gsheet"
   ]
  },
  {
   "cell_type": "markdown",
   "id": "c1e4c55b",
   "metadata": {
    "papermill": {},
    "tags": []
   },
   "source": [
    "### Scheduler"
   ]
  },
  {
   "cell_type": "code",
   "execution_count": 17,
   "id": "0148abca",
   "metadata": {
    "execution": {
     "iopub.execute_input": "2022-01-15T11:37:54.997523Z",
     "iopub.status.busy": "2022-01-15T11:37:54.997216Z",
     "iopub.status.idle": "2022-01-15T11:37:55.535446Z",
     "shell.execute_reply": "2022-01-15T11:37:55.527071Z",
     "shell.execute_reply.started": "2022-01-15T11:37:54.997490Z"
    },
    "papermill": {},
    "tags": []
   },
   "outputs": [],
   "source": [
    "#Schedule the notebook to run every 15 minutes\n",
    "naas.scheduler.add(cron=\"*/15 * * * *\")"
   ]
  },
  {
   "cell_type": "markdown",
   "id": "2665cb7f-1504-48d7-9d49-8b30fd80e359",
   "metadata": {
    "papermill": {},
    "tags": []
   },
   "source": [
    "### Setup Notion"
   ]
  },
  {
   "cell_type": "code",
   "execution_count": 2,
   "id": "2fafe16a-ccca-43ae-88fd-eb23af803fe6",
   "metadata": {
    "execution": {
     "iopub.execute_input": "2022-01-23T09:12:15.871972Z",
     "iopub.status.busy": "2022-01-23T09:12:15.871706Z",
     "iopub.status.idle": "2022-01-23T09:12:15.875119Z",
     "shell.execute_reply": "2022-01-23T09:12:15.874487Z",
     "shell.execute_reply.started": "2022-01-23T09:12:15.871945Z"
    },
    "papermill": {},
    "tags": []
   },
   "outputs": [],
   "source": [
    "# Enter Notion Token API and Database URL\n",
    "notion_token = \"****\"\n",
    "notion_database_url = \"https://www.notion.so/YOURDB\"\n",
    "\n",
    "#Unique column name for notion\n",
    "col_unique_notion = 'Name'"
   ]
  },
  {
   "cell_type": "markdown",
   "id": "3311103a-13a2-40c5-bb42-2755391f3d47",
   "metadata": {
    "papermill": {},
    "tags": []
   },
   "source": [
    "### Setup Gsheet"
   ]
  },
  {
   "cell_type": "code",
   "execution_count": 3,
   "id": "bffaf74b-3e26-408f-9a55-bb495577cdf6",
   "metadata": {
    "execution": {
     "iopub.execute_input": "2022-01-23T09:12:21.660275Z",
     "iopub.status.busy": "2022-01-23T09:12:21.660028Z",
     "iopub.status.idle": "2022-01-23T09:12:21.663106Z",
     "shell.execute_reply": "2022-01-23T09:12:21.662467Z",
     "shell.execute_reply.started": "2022-01-23T09:12:21.660251Z"
    },
    "papermill": {},
    "tags": []
   },
   "outputs": [],
   "source": [
    "# Enter spreadsheet_id and sheet name\n",
    "spreadsheet_id = \"****\"\n",
    "sheet_name = \"YOUR_SHEET\"\n",
    "\n",
    "#Unique column# for gsheets\n",
    "col_unique_gsheet = 'Name'"
   ]
  },
  {
   "cell_type": "markdown",
   "id": "registered-showcase",
   "metadata": {
    "papermill": {},
    "tags": []
   },
   "source": [
    "## Model"
   ]
  },
  {
   "cell_type": "markdown",
   "id": "9f59e097",
   "metadata": {
    "papermill": {},
    "tags": []
   },
   "source": [
    "### Get Gsheet and Notion data"
   ]
  },
  {
   "cell_type": "code",
   "execution_count": 4,
   "id": "a3da2ed0-f1af-4706-8ace-7ed909c15237",
   "metadata": {
    "execution": {
     "iopub.execute_input": "2022-01-23T09:12:25.940723Z",
     "iopub.status.busy": "2022-01-23T09:12:25.940479Z",
     "iopub.status.idle": "2022-01-23T09:12:26.834391Z",
     "shell.execute_reply": "2022-01-23T09:12:26.833677Z",
     "shell.execute_reply.started": "2022-01-23T09:12:25.940700Z"
    },
    "papermill": {},
    "tags": []
   },
   "outputs": [],
   "source": [
    "#Connect with Gsheet and get all data in a dataframe\n",
    "gsheet.connect(spreadsheet_id)\n",
    "df_gsheet = gsheet.get(sheet_name=sheet_name)"
   ]
  },
  {
   "cell_type": "code",
   "execution_count": 5,
   "id": "3df1074b",
   "metadata": {
    "execution": {
     "iopub.execute_input": "2022-01-23T09:12:28.979845Z",
     "iopub.status.busy": "2022-01-23T09:12:28.979609Z",
     "iopub.status.idle": "2022-01-23T09:12:31.352398Z",
     "shell.execute_reply": "2022-01-23T09:12:31.351812Z",
     "shell.execute_reply.started": "2022-01-23T09:12:28.979822Z"
    },
    "papermill": {},
    "tags": []
   },
   "outputs": [],
   "source": [
    "#Connect with Notion db and get all pages in a dataframe\n",
    "database = notion.connect(notion_token).database.get(notion_database_url)\n",
    "df_notion = database.df()"
   ]
  },
  {
   "cell_type": "markdown",
   "id": "2b985ca9",
   "metadata": {
    "papermill": {},
    "tags": []
   },
   "source": [
    "### Compare Gsheet and Notion data"
   ]
  },
  {
   "cell_type": "code",
   "execution_count": 6,
   "id": "82fe3529",
   "metadata": {
    "execution": {
     "iopub.execute_input": "2022-01-23T09:12:32.701741Z",
     "iopub.status.busy": "2022-01-23T09:12:32.701420Z",
     "iopub.status.idle": "2022-01-23T09:12:32.710276Z",
     "shell.execute_reply": "2022-01-23T09:12:32.709634Z",
     "shell.execute_reply.started": "2022-01-23T09:12:32.701711Z"
    },
    "papermill": {},
    "tags": []
   },
   "outputs": [],
   "source": [
    "#Iterate through all rows in Gsheet and find match in Notion db\n",
    "#If no match is found then add data to df_difference dataframe\n",
    "\n",
    "df_difference = pd.DataFrame()\n",
    "for index,row in df_gsheet.iterrows():\n",
    "    x = row[col_unique_gsheet]\n",
    "    if not (x == df_notion[col_unique_notion]).any():\n",
    "        df_difference = df_difference.append(df_gsheet.loc[index])"
   ]
  },
  {
   "cell_type": "markdown",
   "id": "d9b04257",
   "metadata": {
    "papermill": {},
    "tags": []
   },
   "source": [
    "## Output"
   ]
  },
  {
   "cell_type": "markdown",
   "id": "3b64980c-1794-4c7a-997e-512ad71dca32",
   "metadata": {
    "papermill": {},
    "tags": []
   },
   "source": [
    "### Create a new page in Notion if it does not match with Gsheet"
   ]
  },
  {
   "cell_type": "code",
   "execution_count": 7,
   "id": "89aa9e93",
   "metadata": {
    "execution": {
     "iopub.execute_input": "2022-01-23T09:12:36.769371Z",
     "iopub.status.busy": "2022-01-23T09:12:36.769137Z",
     "iopub.status.idle": "2022-01-23T09:12:36.773978Z",
     "shell.execute_reply": "2022-01-23T09:12:36.773354Z",
     "shell.execute_reply.started": "2022-01-23T09:12:36.769348Z"
    },
    "papermill": {},
    "tags": []
   },
   "outputs": [],
   "source": [
    "#Create a new page in notion db for each row in df_difference dataframe\n",
    "if(df_difference.empty == False):    \n",
    "    for index, row in df_difference.iterrows():\n",
    "        page = notion.connect(notion_token).page.create(database_id=notion_database_url, title=row[col_unique_gsheet])\n",
    "        #Add all properties here and map with respective column in row\n",
    "        page.select('Type', row['Type'])\n",
    "        page.select('Status', row['Status'])\n",
    "        page.rich_text('Summary', row['Summary'])\n",
    "        page.update()\n",
    "    print(\"The gsheets rows synced successfuly to Notion DB\")\n",
    "else:     \n",
    "    print(\"No new rows in Gsheet to sync to Notion DB\")\n",
    "    "
   ]
  }
 ],
 "metadata": {
  "kernelspec": {
   "display_name": "Python 3",
   "language": "python",
   "name": "python3"
  },
  "language_info": {
   "codemirror_mode": {
    "name": "ipython",
    "version": 3
   },
   "file_extension": ".py",
   "mimetype": "text/x-python",
   "name": "python",
   "nbconvert_exporter": "python",
   "pygments_lexer": "ipython3",
   "version": "3.9.6"
  },
  "papermill": {
   "default_parameters": {},
   "environment_variables": {},
   "parameters": {},
   "version": "2.3.3"
  },
  "widgets": {
   "application/vnd.jupyter.widget-state+json": {
    "state": {},
    "version_major": 2,
    "version_minor": 0
   }
  },
  "naas": {
   "notebook_path": "Notion/Notion_Scheduled_Updates_from_Gsheets.ipynb",
   "notebook_id": "fcda3a6a-811e-4bb5-9353-57ace83c628e"
  }
 },
 "nbformat": 4,
 "nbformat_minor": 5
}