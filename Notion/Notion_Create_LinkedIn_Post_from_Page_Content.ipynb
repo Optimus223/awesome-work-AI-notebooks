{
 "cells": [
  {
   "cell_type": "markdown",
   "id": "be27e2eb-b188-4d67-b8b1-ca5bd6a47c92",
   "metadata": {
    "papermill": {},
    "tags": []
   },
   "source": [
    "<img width=\"10%\" alt=\"Naas\" src=\"https://landen.imgix.net/jtci2pxwjczr/assets/5ice39g4.png?w=160\"/>"
   ]
  },
  {
   "cell_type": "markdown",
   "id": "ebd736fe-0521-460f-8f73-29d6774c7b65",
   "metadata": {
    "papermill": {},
    "tags": []
   },
   "source": [
    "# Notion - Create LinkedIn Post from Page Content"
   ]
  },
  {
   "cell_type": "markdown",
   "id": "c0f9a1b4-ff50-4a8b-ab81-5b672ea1e6a6",
   "metadata": {
    "papermill": {},
    "tags": []
   },
   "source": [
    "**Tags:** #notion #linkedin #voyager #api #post #image"
   ]
  },
  {
   "cell_type": "markdown",
   "id": "6e44c8c5-bdcc-4d89-9f5d-bda3757481dc",
   "metadata": {
    "papermill": {},
    "tags": []
   },
   "source": [
    "**Author:** [Florent Ravenel](https://www.linkedin.com/in/florent-ravenel/)"
   ]
  },
  {
   "cell_type": "markdown",
   "id": "55277eaf-a49c-4687-a247-f93a2a4edea2",
   "metadata": {
    "papermill": {},
    "tags": []
   },
   "source": [
    "**Description:** This notebook will show how to create a post with an image using the Linkedin Voyager API."
   ]
  },
  {
   "cell_type": "markdown",
   "id": "e4fdb1e5-1540-4d1d-b2ce-8ec7d85ee8cf",
   "metadata": {
    "papermill": {},
    "tags": []
   },
   "source": [
    "**References:**\n- [Linkedin Voyager API Documentation](https://docs.microsoft.com/en-us/linkedin/shared/references/v2/voyager-api)\n- [Linkedin Posting API Documentation](https://docs.microsoft.com/en-us/linkedin/marketing/integrations/community-management/shares/post-share-api)"
   ]
  },
  {
   "cell_type": "markdown",
   "id": "e4955892-89c9-4321-ad6c-faf319104f7c",
   "metadata": {
    "papermill": {},
    "tags": []
   },
   "source": [
    "## Input"
   ]
  },
  {
   "cell_type": "markdown",
   "id": "89aa84f4-01bc-4791-af75-899ee15efa94",
   "metadata": {
    "papermill": {},
    "tags": []
   },
   "source": [
    "### Import libraries"
   ]
  },
  {
   "cell_type": "code",
   "execution_count": null,
   "id": "ad62e5de-20af-46aa-b495-6c75d7b3007d",
   "metadata": {
    "papermill": {},
    "tags": []
   },
   "source": "import requests\nimport json",
   "outputs": []
  },
  {
   "cell_type": "markdown",
   "id": "8f8007cf-e953-4f89-8d19-d0a1fb304dd7",
   "metadata": {
    "papermill": {},
    "tags": []
   },
   "source": [
    "### Setup Variables\n- `page_id`: The ID of the Notion page to be used for the post.\n- `access_token`: The access token for the Linkedin API. [Instructions to get an access token](https://docs.microsoft.com/en-us/linkedin/shared/authentication/client-credentials-flow?context=linkedin/context)."
   ]
  },
  {
   "cell_type": "code",
   "execution_count": null,
   "id": "7529704f-b5ce-4d1e-bad1-5d807967289f",
   "metadata": {
    "papermill": {},
    "tags": []
   },
   "source": "page_id = \"1234567890\"\naccess_token = \"abcdefghijklmnopqrstuvwxyz\"",
   "outputs": []
  },
  {
   "cell_type": "markdown",
   "id": "5dc0d4ac-ef19-4ac7-ab2d-7a7ce8366b1b",
   "metadata": {
    "papermill": {},
    "tags": []
   },
   "source": [
    "## Model"
   ]
  },
  {
   "cell_type": "markdown",
   "id": "d9c39ae1-f55a-46e6-8817-974ecd66203b",
   "metadata": {
    "papermill": {},
    "tags": []
   },
   "source": [
    "### Get page content"
   ]
  },
  {
   "cell_type": "markdown",
   "id": "569572c1-9622-4626-93c9-f28ffecdd4c4",
   "metadata": {
    "papermill": {},
    "tags": []
   },
   "source": [
    "Retrieve the content of the Notion page using the Linkedin Voyager API."
   ]
  },
  {
   "cell_type": "code",
   "execution_count": null,
   "id": "f1b53a97-5d0a-4090-b522-0e1cc4849879",
   "metadata": {
    "papermill": {},
    "tags": []
   },
   "source": "url = f\"https://api.linkedin.com/voyager/api/identity/pages/{page_id}\"\nheaders = {\"Authorization\": f\"Bearer {access_token}\"}\nresponse = requests.get(url, headers=headers)\ndata = response.json()",
   "outputs": []
  },
  {
   "cell_type": "markdown",
   "id": "be316016-85db-469c-b612-369ff6f1e7aa",
   "metadata": {
    "papermill": {},
    "tags": []
   },
   "source": [
    "### Create post"
   ]
  },
  {
   "cell_type": "markdown",
   "id": "50586bf6-caf9-4cb9-a043-6563a4c27946",
   "metadata": {
    "papermill": {},
    "tags": []
   },
   "source": [
    "Create a post with the content of the Notion page and an image."
   ]
  },
  {
   "cell_type": "code",
   "execution_count": null,
   "id": "cbdbf522-dc62-4039-b41a-5582f0d23a0b",
   "metadata": {
    "papermill": {},
    "tags": []
   },
   "source": "url = \"https://api.linkedin.com/v2/shares\"\nheaders = {\n    \"Authorization\": f\"Bearer {access_token}\",\n    \"Content-Type\": \"application/json\",\n}\nbody = {\n    \"author\": \"urn:li:person:1234567890\",\n    \"lifecycleState\": \"PUBLISHED\",\n    \"specificContent\": {\n        \"com.linkedin.ugc.ShareContent\": {\n            \"shareCommentary\": {\"text\": data[\"text\"]},\n            \"shareMediaCategory\": \"IMAGE\",\n            \"media\": [\n                {\n                    \"status\": \"READY\",\n                    \"description\": {\"text\": \"Image for the post\"},\n                    \"media\": \"https://example.com/image.jpg\",\n                }\n            ],\n        }\n    },\n    \"visibility\": {\"com.linkedin.ugc.MemberNetworkVisibility\": \"PUBLIC\"},\n}\nresponse = requests.post(url, headers=headers, data=json.dumps(body))",
   "outputs": []
  },
  {
   "cell_type": "markdown",
   "id": "7ddd613a-a60c-4c1a-88b5-7aa91f750db1",
   "metadata": {
    "papermill": {},
    "tags": []
   },
   "source": [
    "## Output"
   ]
  },
  {
   "cell_type": "markdown",
   "id": "e6c56fa1-583a-4eca-8326-92937aa5236f",
   "metadata": {
    "papermill": {},
    "tags": []
   },
   "source": [
    "### Display result"
   ]
  },
  {
   "cell_type": "code",
   "execution_count": null,
   "id": "d8c822f5-eba9-4ba8-936b-2e0bb2847ac8",
   "metadata": {
    "papermill": {},
    "tags": []
   },
   "source": "print(response.json())",
   "outputs": []
  }
 ],
 "metadata": {
  "kernelspec": {
   "display_name": "Python 3",
   "language": "python",
   "name": "python3"
  },
  "language_info": {
   "codemirror_mode": {
    "name": "ipython",
    "version": 3
   },
   "file_extension": ".py",
   "mimetype": "text/x-python",
   "name": "python",
   "nbconvert_exporter": "python",
   "pygments_lexer": "ipython3",
   "version": "3.9.6"
  },
  "widgets": {
   "application/vnd.jupyter.widget-state+json": {
    "state": {},
    "version_major": 2,
    "version_minor": 0
   }
  }
 },
 "nbformat": 4,
 "nbformat_minor": 5
}