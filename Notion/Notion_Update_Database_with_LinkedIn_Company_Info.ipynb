{
 "cells": [
  {
   "cell_type": "markdown",
   "id": "632bc97d-6524-4659-bb49-78d8da5d3ac6",
   "metadata": {
    "papermill": {},
    "tags": []
   },
   "source": [
    "<img width=\"10%\" alt=\"Naas\" src=\"https://landen.imgix.net/jtci2pxwjczr/assets/5ice39g4.png?w=160\"/>"
   ]
  },
  {
   "cell_type": "markdown",
   "id": "8782cc7b-8b73-4b71-bab9-299644f1927d",
   "metadata": {
    "papermill": {},
    "tags": []
   },
   "source": [
    "# Notion - Update Database with LinkedIn Company Info"
   ]
  },
  {
   "cell_type": "markdown",
   "id": "71855b14-f55f-4ef7-b8d7-238f51e1e138",
   "metadata": {
    "papermill": {},
    "tags": []
   },
   "source": [
    "**Tags:** #notion #database #update #linkedin #company #info"
   ]
  },
  {
   "cell_type": "markdown",
   "id": "c3a0ba0b-40e1-4b16-af94-df07db367824",
   "metadata": {
    "papermill": {},
    "tags": []
   },
   "source": [
    "**Author:** [Florent Ravenel](https://www.linkedin.com/in/florent-ravenel/)"
   ]
  },
  {
   "cell_type": "markdown",
   "id": "eb57fcb4-94d9-4cf9-a8fb-cd93e008795c",
   "metadata": {
    "papermill": {},
    "tags": []
   },
   "source": [
    "**Description:** This notebook updates a database filled with company name with info found on LinkedIn using google search, naas_drivers.notion and naas_drivers.linkedin."
   ]
  },
  {
   "cell_type": "markdown",
   "id": "30d3b3f6-133a-4998-8fd5-da44f80401e9",
   "metadata": {
    "papermill": {},
    "tags": []
   },
   "source": [
    "**References:**\n",
    "- [Notion Drivers](https://github.com/jupyter-naas/drivers/blob/main/naas_drivers/tools/notion.py)\n",
    "- [LinkedIn Drivers](https://github.com/jupyter-naas/drivers/blob/main/naas_drivers/tools/linkedin.py)"
   ]
  },
  {
   "cell_type": "markdown",
   "id": "e9bc3a35-d96e-4df6-a27b-c1e15d7f51c3",
   "metadata": {
    "papermill": {},
    "tags": []
   },
   "source": [
    "## Input"
   ]
  },
  {
   "cell_type": "markdown",
   "id": "33c57fa9-6735-41b5-94de-9b2968a78b13",
   "metadata": {
    "papermill": {},
    "tags": []
   },
   "source": [
    "### Import libraries"
   ]
  },
  {
   "cell_type": "code",
   "execution_count": 1,
   "id": "4c3f5195-161e-4e6d-915d-4d6f116a56f1",
   "metadata": {
    "execution": {
     "iopub.execute_input": "2023-03-17T09:13:42.270518Z",
     "iopub.status.busy": "2023-03-17T09:13:42.270258Z",
     "iopub.status.idle": "2023-03-17T09:13:48.163118Z",
     "shell.execute_reply": "2023-03-17T09:13:48.161982Z",
     "shell.execute_reply.started": "2023-03-17T09:13:42.270455Z"
    },
    "papermill": {},
    "tags": []
   },
   "outputs": [],
   "source": [
    "import naas\n",
    "from naas_drivers import linkedin, notion\n",
    "try:\n",
    "    from googlesearch import search\n",
    "except:\n",
    "    !pip install google\n",
    "    from googlesearch import search\n",
    "import re\n",
    "from datetime import datetime\n",
    "import os\n",
    "import requests"
   ]
  },
  {
   "cell_type": "markdown",
   "id": "3afe330d-2a0e-4e5a-9b4c-cdae1b0d55ff",
   "metadata": {
    "papermill": {},
    "tags": []
   },
   "source": [
    "### Setup Variables\n",
    "- `notion_token`: [Notion token](https://www.notion.so/api/v3/get-token)\n",
    "- `linkedin_token`: [LinkedIn token](https://developer.linkedin.com/docs/oauth2)"
   ]
  },
  {
   "cell_type": "code",
   "execution_count": 2,
   "id": "630b59ae-c27d-43ef-8994-f37ce227d1ac",
   "metadata": {
    "execution": {
     "iopub.execute_input": "2023-03-17T09:15:03.263067Z",
     "iopub.status.busy": "2023-03-17T09:15:03.262839Z",
     "iopub.status.idle": "2023-03-17T09:15:03.643057Z",
     "shell.execute_reply": "2023-03-17T09:15:03.642494Z",
     "shell.execute_reply.started": "2023-03-17T09:15:03.263044Z"
    },
    "papermill": {},
    "tags": []
   },
   "outputs": [],
   "source": [
    "# Inputs\n",
    "# -> LinkedIn\n",
    "LI_AT = naas.secret.get(\"LINKEDIN_LI_AT\")\n",
    "JSESSIONID = naas.secret.get(\"LINKEDIN_JSESSIONID\")\n",
    "# -> Notion\n",
    "notion_token = naas.secret.get(\"NOTION_TOKEN\") or \"YOUR_TOKEN\"\n",
    "notion_database_key = \"Name\"\n",
    "force_update = False\n",
    "\n",
    "# Outputs\n",
    "notion_database = \"https://www.notion.so/naas-official/01080b7d915d4d2d80de73cbfc0674cb?v=f42a92de92974b57b54e8a787ff3ad29&pvs=4\""
   ]
  },
  {
   "cell_type": "markdown",
   "id": "01ec82f7-48c7-426d-87e1-ec255269e981",
   "metadata": {
    "papermill": {},
    "tags": []
   },
   "source": [
    "## Model"
   ]
  },
  {
   "cell_type": "markdown",
   "id": "23e6f91c-f1ca-49c6-b10c-9de74aee3c0e",
   "metadata": {},
   "source": [
    "### Get Notion DB"
   ]
  },
  {
   "cell_type": "code",
   "execution_count": 3,
   "id": "83439db5-e284-4822-879a-288c3ba8cb9a",
   "metadata": {
    "execution": {
     "iopub.execute_input": "2023-03-07T17:56:30.948349Z",
     "iopub.status.busy": "2023-03-07T17:56:30.948183Z",
     "iopub.status.idle": "2023-03-07T17:56:33.317716Z",
     "shell.execute_reply": "2023-03-07T17:56:33.317138Z",
     "shell.execute_reply.started": "2023-03-07T17:56:30.948331Z"
    },
    "tags": []
   },
   "outputs": [
    {
     "name": "stdout",
     "output_type": "stream",
     "text": [
      "📊 Notion DB: 76\n"
     ]
    },
    {
     "data": {
      "text/html": [
       "<div>\n",
       "<style scoped>\n",
       "    .dataframe tbody tr th:only-of-type {\n",
       "        vertical-align: middle;\n",
       "    }\n",
       "\n",
       "    .dataframe tbody tr th {\n",
       "        vertical-align: top;\n",
       "    }\n",
       "\n",
       "    .dataframe thead th {\n",
       "        text-align: right;\n",
       "    }\n",
       "</style>\n",
       "<table border=\"1\" class=\"dataframe\">\n",
       "  <thead>\n",
       "    <tr style=\"text-align: right;\">\n",
       "      <th></th>\n",
       "      <th>LinkedIn</th>\n",
       "      <th>Country</th>\n",
       "      <th>Tags</th>\n",
       "      <th>Annual Revenue (m$)</th>\n",
       "      <th>Description</th>\n",
       "      <th>Followers</th>\n",
       "      <th>Staff Range</th>\n",
       "      <th>Website</th>\n",
       "      <th>Google Search</th>\n",
       "      <th>Industry</th>\n",
       "      <th>City</th>\n",
       "      <th>Revenue source</th>\n",
       "      <th>Name</th>\n",
       "      <th>PAGE_ID</th>\n",
       "    </tr>\n",
       "  </thead>\n",
       "  <tbody>\n",
       "    <tr>\n",
       "      <th>0</th>\n",
       "      <td>None</td>\n",
       "      <td></td>\n",
       "      <td></td>\n",
       "      <td>None</td>\n",
       "      <td></td>\n",
       "      <td>None</td>\n",
       "      <td></td>\n",
       "      <td>None</td>\n",
       "      <td>False</td>\n",
       "      <td></td>\n",
       "      <td></td>\n",
       "      <td>None</td>\n",
       "      <td>Zoho Mail</td>\n",
       "      <td>a01b41b8-5bb7-4bbd-8037-782a2e8606e6</td>\n",
       "    </tr>\n",
       "  </tbody>\n",
       "</table>\n",
       "</div>"
      ],
      "text/plain": [
       "  LinkedIn Country Tags Annual Revenue (m$) Description Followers Staff Range  \\\n",
       "0     None                             None                  None               \n",
       "\n",
       "  Website Google Search Industry City Revenue source       Name  \\\n",
       "0    None         False                         None  Zoho Mail   \n",
       "\n",
       "                                PAGE_ID  \n",
       "0  a01b41b8-5bb7-4bbd-8037-782a2e8606e6  "
      ]
     },
     "execution_count": 3,
     "metadata": {},
     "output_type": "execute_result"
    }
   ],
   "source": [
    "def create_notion_db(notion_database, key, token):\n",
    "    # Get database\n",
    "    database_id = notion_database.split(\"/\")[-1].split(\"?v=\")[0]\n",
    "    pages = notion.connect(token).database.query(database_id, query={})\n",
    "\n",
    "    # Init\n",
    "    df_output = pd.DataFrame()\n",
    "    \n",
    "    # Loop on page\n",
    "    for page in pages:\n",
    "        # Get page_id\n",
    "        page_id = page.id\n",
    "        \n",
    "        # Create dataframe from page\n",
    "        df = page.df()\n",
    "        \n",
    "        # Remove empty pages\n",
    "        page_title = df.loc[df.Name == key, \"Value\"].values[0]\n",
    "        if page_title == \"\":\n",
    "            notion.connect(token).blocks.delete(page_id)\n",
    "            print(f\"Page '{page_id}' empty => removed from database\")\n",
    "        else:\n",
    "            # Pivot rows to columns\n",
    "            columns = df[\"Name\"].unique().tolist()\n",
    "            new_df = df.copy()\n",
    "            new_df = new_df.drop(\"Type\", axis=1)\n",
    "            new_df = new_df.T\n",
    "            for i, c in enumerate(new_df.columns):\n",
    "                new_df = new_df.rename(columns={c: columns[i]})\n",
    "            new_df = new_df.drop(\"Name\").reset_index(drop=True)\n",
    "\n",
    "            # Add page ID\n",
    "            new_df[\"PAGE_ID\"] = page_id\n",
    "\n",
    "            # Concat dataframe\n",
    "            df_output = pd.concat([df_output, new_df])\n",
    "    return df_output\n",
    "\n",
    "df_notion = create_notion_db(\n",
    "    notion_database,\n",
    "    notion_database_key,\n",
    "    notion_token\n",
    ")\n",
    "print(\"📊 Notion DB:\", len(df_notion))\n",
    "df_notion.head(1)"
   ]
  },
  {
   "cell_type": "markdown",
   "id": "2197a4ac-9f88-44a7-80d0-1f1112e06629",
   "metadata": {
    "papermill": {},
    "tags": []
   },
   "source": [
    "## Output"
   ]
  },
  {
   "cell_type": "markdown",
   "id": "7819ff93-4d3a-4ca3-8657-ca1aca460afa",
   "metadata": {},
   "source": [
    "### Get Company Info"
   ]
  },
  {
   "cell_type": "code",
   "execution_count": 4,
   "id": "1e04649c-d8fe-4178-8928-e9b165b92891",
   "metadata": {
    "execution": {
     "iopub.execute_input": "2023-03-07T17:56:33.322458Z",
     "iopub.status.busy": "2023-03-07T17:56:33.320884Z",
     "iopub.status.idle": "2023-03-07T17:57:30.604354Z",
     "shell.execute_reply": "2023-03-07T17:57:30.603804Z",
     "shell.execute_reply.started": "2023-03-07T17:56:33.322421Z"
    },
    "tags": []
   },
   "outputs": [
    {
     "name": "stdout",
     "output_type": "stream",
     "text": [
      "🔍 Finding LinkedIn URL for: Zoho Mail\n",
      "--> Google query: Zoho Mail+Linkedin\n",
      "--> Result found: https://in.linkedin.com/company/zoho-mail\n",
      "➡️ Update Info for: Zoho Mail\n"
     ]
    }
   ],
   "source": [
    "def get_linkedin_url(company):\n",
    "    # Init linkedinbio\n",
    "    linkedinbio = None\n",
    "    \n",
    "    # Create query\n",
    "    query = f\"{company}+Linkedin\"\n",
    "    print(\"--> Google query:\", query)\n",
    "    \n",
    "    # Search in Google\n",
    "    for i in search(query, tld=\"com\", num=10, stop=10, pause=2):\n",
    "        pattern = \"https:\\/\\/.+.linkedin.com\\/company\\/.([^?])+\"\n",
    "        result = re.search(pattern, i)\n",
    "\n",
    "        # Return value if result is not None\n",
    "        if result != None:\n",
    "            linkedinbio = result.group(0).replace(\" \", \"\")\n",
    "            return linkedinbio\n",
    "    return linkedinbio\n",
    "\n",
    "for index, row in df_notion.iterrows():\n",
    "    company_name = row[\"Name\"]\n",
    "    google_search = row[\"Google Search\"]\n",
    "    page_id = row[\"PAGE_ID\"]\n",
    "    page = notion.connect(notion_token).page.get(page_id)\n",
    "    lk_company_url = row[\"LinkedIn\"]    \n",
    "    if str(lk_company_url) == \"None\" and str(google_search) == \"False\":\n",
    "        # Finding URL\n",
    "        print(\"🔍 Finding LinkedIn URL for:\", company_name)\n",
    "        lk_company_url = get_linkedin_url(company_name)\n",
    "        print(\"--> Result found:\", lk_company_url)\n",
    "        # Update page in Notion\n",
    "        if lk_company_url:\n",
    "            page.link(\"LinkedIn\", lk_company_url)\n",
    "            page.checkbox(\"Google Search\", True)\n",
    "            page.update()\n",
    "            \n",
    "    if lk_company_url != \"None\" and lk_company_url is not None:\n",
    "        if not lk_company_url[-1:].isnumeric() or force_update:\n",
    "            print(\"➡️ Update Info for:\", company_name)\n",
    "            # Get LinkedIn Company Info\n",
    "            df_company = linkedin.connect(LI_AT, JSESSIONID).company.get_info(lk_company_url)\n",
    "            company_name = df_company.loc[0, \"COMPANY_NAME\"]\n",
    "            company_id = df_company.loc[0, \"COMPANY_ID\"]\n",
    "            company_url = f\"https://www.linkedin.com/company/{company_id}\"\n",
    "            company_industry = df_company.loc[0, \"INDUSTRY\"]\n",
    "            company_website = df_company.loc[0, \"WEBSITE\"]\n",
    "            company_desc = df_company.loc[0, \"DESCRIPTION\"]\n",
    "            company_country = df_company.loc[0, \"COUNTRY\"]\n",
    "            company_city = df_company.loc[0, \"CITY\"]\n",
    "            company_staff = df_company.loc[0, \"STAFF_RANGE\"]\n",
    "            company_followers = df_company.loc[0, \"FOLLOWER_COUNT\"]\n",
    "            company_logo_url = df_company.loc[0, \"LOGO_URL\"]\n",
    "\n",
    "            # Save dataframe\n",
    "            company_name_c = company_name.replace(' ', '_')\n",
    "            csv_name = f\"{datetime.now().strftime('%Y%m%d')}_LINKEDIN_COMPANY_{company_id}.csv\"\n",
    "            output_path = os.path.join(OUTPUTS_PATH, \"l4_insights\", \"organizations\", company_name_c)\n",
    "            if not os.path.exists(output_path):\n",
    "                os.mkdir(output_path)\n",
    "            df_company.to_csv(os.path.join(output_path, csv_name), index=False)\n",
    "\n",
    "            # Update Notion\n",
    "            page.title(\"Name\", company_name)\n",
    "            page.link(\"LinkedIn\", company_url)\n",
    "            page.select(\"Industry\", company_industry)\n",
    "            page.link(\"Website\", company_website)\n",
    "            page.rich_text(\"Description\", company_desc)\n",
    "            page.select(\"Country\", company_country)\n",
    "            page.select(\"City\", company_city)\n",
    "            page.select(\"Staff Range\", company_staff)\n",
    "            page.number(\"Followers\", int(company_followers))\n",
    "            if company_logo_url != \"None\":\n",
    "                notion.client.pages.update(\n",
    "                    page_id=page.id, icon={\"type\": \"external\", \"external\": {\"url\": company_logo_url}}\n",
    "                )\n",
    "            page.update()"
   ]
  },
  {
   "cell_type": "markdown",
   "id": "ccbe4ce2-2d08-4ec7-a665-cc5227cb2048",
   "metadata": {
    "papermill": {},
    "tags": []
   },
   "source": [
    " "
   ]
  }
 ],
 "metadata": {
  "kernelspec": {
   "display_name": "Python 3",
   "language": "python",
   "name": "python3"
  },
  "language_info": {
   "codemirror_mode": {
    "name": "ipython",
    "version": 3
   },
   "file_extension": ".py",
   "mimetype": "text/x-python",
   "name": "python",
   "nbconvert_exporter": "python",
   "pygments_lexer": "ipython3",
   "version": "3.9.6"
  },
  "widgets": {
   "application/vnd.jupyter.widget-state+json": {
    "state": {},
    "version_major": 2,
    "version_minor": 0
   }
  }
 },
 "nbformat": 4,
 "nbformat_minor": 5
}
