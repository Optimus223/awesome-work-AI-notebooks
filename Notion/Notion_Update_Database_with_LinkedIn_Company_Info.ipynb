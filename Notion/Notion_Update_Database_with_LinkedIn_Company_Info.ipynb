{
 "cells": [
  {
   "cell_type": "markdown",
   "id": "632bc97d-6524-4659-bb49-78d8da5d3ac6",
   "metadata": {
    "papermill": {},
    "tags": []
   },
   "source": [
    "<img width=\"10%\" alt=\"Naas\" src=\"https://landen.imgix.net/jtci2pxwjczr/assets/5ice39g4.png?w=160\"/>"
   ]
  },
  {
   "cell_type": "markdown",
   "id": "8782cc7b-8b73-4b71-bab9-299644f1927d",
   "metadata": {
    "papermill": {},
    "tags": []
   },
   "source": [
    "# Notion - Update Database with LinkedIn Company Info"
   ]
  },
  {
   "cell_type": "markdown",
   "id": "71855b14-f55f-4ef7-b8d7-238f51e1e138",
   "metadata": {
    "papermill": {},
    "tags": []
   },
   "source": [
    "**Tags:** #notion #database #update #linkedin #company #info"
   ]
  },
  {
   "cell_type": "markdown",
   "id": "c3a0ba0b-40e1-4b16-af94-df07db367824",
   "metadata": {
    "papermill": {},
    "tags": []
   },
   "source": [
    "**Author:** [Florent Ravenel](https://www.linkedin.com/in/florent-ravenel/)"
   ]
  },
  {
   "cell_type": "markdown",
   "id": "eb57fcb4-94d9-4cf9-a8fb-cd93e008795c",
   "metadata": {
    "papermill": {},
    "tags": []
   },
   "source": [
    "**Description:** This notebook updates a database filled with company name with info found on LinkedIn using google search, naas_drivers.notion and naas_drivers.linkedin."
   ]
  },
  {
   "cell_type": "markdown",
   "id": "30d3b3f6-133a-4998-8fd5-da44f80401e9",
   "metadata": {
    "papermill": {},
    "tags": []
   },
   "source": [
    "**References:**\n- [Notion API Documentation](https://notion-py.readthedocs.io/en/latest/)\n- [LinkedIn API Documentation](https://developer.linkedin.com/docs/rest-api)"
   ]
  },
  {
   "cell_type": "markdown",
   "id": "e9bc3a35-d96e-4df6-a27b-c1e15d7f51c3",
   "metadata": {
    "papermill": {},
    "tags": []
   },
   "source": [
    "## Input"
   ]
  },
  {
   "cell_type": "markdown",
   "id": "33c57fa9-6735-41b5-94de-9b2968a78b13",
   "metadata": {
    "papermill": {},
    "tags": []
   },
   "source": [
    "### Import libraries"
   ]
  },
  {
   "cell_type": "code",
   "execution_count": null,
   "id": "4c3f5195-161e-4e6d-915d-4d6f116a56f1",
   "metadata": {
    "papermill": {},
    "tags": []
   },
   "source": "import naas_drivers.notion\nimport naas_drivers.linkedin",
   "outputs": []
  },
  {
   "cell_type": "markdown",
   "id": "3afe330d-2a0e-4e5a-9b4c-cdae1b0d55ff",
   "metadata": {
    "papermill": {},
    "tags": []
   },
   "source": [
    "### Setup Variables\n- `notion_token`: [Notion token](https://www.notion.so/api/v3/get-token)\n- `linkedin_token`: [LinkedIn token](https://developer.linkedin.com/docs/oauth2)"
   ]
  },
  {
   "cell_type": "code",
   "execution_count": null,
   "id": "630b59ae-c27d-43ef-8994-f37ce227d1ac",
   "metadata": {
    "papermill": {},
    "tags": []
   },
   "source": "notion_token = \"YOUR_NOTION_TOKEN\"\nlinkedin_token = \"YOUR_LINKEDIN_TOKEN\"",
   "outputs": []
  },
  {
   "cell_type": "markdown",
   "id": "01ec82f7-48c7-426d-87e1-ec255269e981",
   "metadata": {
    "papermill": {},
    "tags": []
   },
   "source": [
    "## Model"
   ]
  },
  {
   "cell_type": "markdown",
   "id": "cacee5b3-b40a-4890-9a3c-9398928e7e85",
   "metadata": {
    "papermill": {},
    "tags": []
   },
   "source": [
    "### Update Database"
   ]
  },
  {
   "cell_type": "markdown",
   "id": "b9b3f300-5bc3-45ff-8b83-c61f3002fb24",
   "metadata": {
    "papermill": {},
    "tags": []
   },
   "source": [
    "This function updates a Notion database with company info found on LinkedIn using google search."
   ]
  },
  {
   "cell_type": "code",
   "execution_count": null,
   "id": "aa2b79c9-e526-489f-97e7-b0fbfe563ac8",
   "metadata": {
    "papermill": {},
    "tags": []
   },
   "source": "def update_database(notion_token, linkedin_token):\n    # Initialize Notion and LinkedIn drivers\n    notion_driver = naas_drivers.notion.NotionDriver(notion_token)\n    linkedin_driver = naas_drivers.linkedin.LinkedinDriver(linkedin_token)\n\n    # Get database from Notion\n    database = notion_driver.get_database()\n\n    # Get companies from database\n    companies = database.get_companies()\n\n    # For each company\n    for company in companies:\n        # Get company info from LinkedIn\n        company_info = linkedin_driver.get_company_info(company.name)\n\n        # Update company info in database\n        database.update_company_info(company.id, company_info)",
   "outputs": []
  },
  {
   "cell_type": "markdown",
   "id": "2197a4ac-9f88-44a7-80d0-1f1112e06629",
   "metadata": {
    "papermill": {},
    "tags": []
   },
   "source": [
    "## Output"
   ]
  },
  {
   "cell_type": "markdown",
   "id": "338395f4-fe33-4f4c-9657-dbbdb584290a",
   "metadata": {
    "papermill": {},
    "tags": []
   },
   "source": [
    "### Display result"
   ]
  },
  {
   "cell_type": "code",
   "execution_count": null,
   "id": "3e04d6ba-32a2-4f98-ba0f-c919be1f677a",
   "metadata": {
    "papermill": {},
    "tags": []
   },
   "source": "update_database(notion_token, linkedin_token)",
   "outputs": []
  },
  {
   "cell_type": "markdown",
   "id": "ccbe4ce2-2d08-4ec7-a665-cc5227cb2048",
   "metadata": {
    "papermill": {},
    "tags": []
   },
   "source": [
    " "
   ]
  }
 ],
 "metadata": {
  "kernelspec": {
   "display_name": "Python 3",
   "language": "python",
   "name": "python3"
  },
  "language_info": {
   "codemirror_mode": {
    "name": "ipython",
    "version": 3
   },
   "file_extension": ".py",
   "mimetype": "text/x-python",
   "name": "python",
   "nbconvert_exporter": "python",
   "pygments_lexer": "ipython3",
   "version": "3.9.6"
  },
  "widgets": {
   "application/vnd.jupyter.widget-state+json": {
    "state": {},
    "version_major": 2,
    "version_minor": 0
   }
  }
 },
 "nbformat": 4,
 "nbformat_minor": 5
}