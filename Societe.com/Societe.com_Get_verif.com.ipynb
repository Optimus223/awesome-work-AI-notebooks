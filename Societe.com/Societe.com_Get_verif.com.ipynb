{
 "cells": [
  {
   "cell_type": "markdown",
   "id": "adapted-shade",
   "metadata": {
    "papermill": {},
    "tags": []
   },
   "source": [
    "<img width=\"10%\" alt=\"Naas\" src=\"https://landen.imgix.net/jtci2pxwjczr/assets/5ice39g4.png?w=160\"/>"
   ]
  },
  {
   "cell_type": "markdown",
   "id": "according-salem",
   "metadata": {
    "papermill": {},
    "tags": []
   },
   "source": [
    "# Societe.com - Get verif.com\n",
    "<a href=\"https://app.naas.ai/user-redirect/naas/downloader?url=https://raw.githubusercontent.com/jupyter-naas/awesome-notebooks/master/Societe.com/get_verif.com.ipynb\" target=\"_parent\"><img src=\"https://naasai-public.s3.eu-west-3.amazonaws.com/open_in_naas.svg\"/></a>"
   ]
  },
  {
   "cell_type": "markdown",
   "id": "4c3ce18d-2e97-45f8-84a2-a8d45da5fd59",
   "metadata": {
    "papermill": {},
    "tags": []
   },
   "source": [
    "**Tags:** #companies #opendata"
   ]
  },
  {
   "cell_type": "markdown",
   "id": "c4d834b6-325f-41a0-95e2-3fe715b51141",
   "metadata": {},
   "source": [
    "**Author:** [Jeremy Ravenel](https://www.linkedin.com/in/ACoAAAJHE7sB5OxuKHuzguZ9L6lfDHqw--cdnJg/)"
   ]
  },
  {
   "cell_type": "markdown",
   "id": "input_cell",
   "metadata": {
    "papermill": {},
    "tags": []
   },
   "source": [
    "## Input"
   ]
  },
  {
   "cell_type": "markdown",
   "id": "import_cell",
   "metadata": {
    "papermill": {},
    "tags": []
   },
   "source": [
    "### Import library"
   ]
  },
  {
   "cell_type": "code",
   "execution_count": 1,
   "id": "f543d9e6-c6f3-4f17-b5eb-1ed1493401e9",
   "metadata": {
    "execution": {
     "iopub.execute_input": "2022-03-07T17:43:15.824097Z",
     "iopub.status.busy": "2022-03-07T17:43:15.823807Z",
     "iopub.status.idle": "2022-03-07T17:43:16.449414Z",
     "shell.execute_reply": "2022-03-07T17:43:16.448840Z",
     "shell.execute_reply.started": "2022-03-07T17:43:15.824032Z"
    },
    "papermill": {},
    "tags": []
   },
   "outputs": [],
   "source": [
    "import pandas as pd"
   ]
  },
  {
   "cell_type": "markdown",
   "id": "model_cell",
   "metadata": {
    "papermill": {},
    "tags": []
   },
   "source": [
    "## Model"
   ]
  },
  {
   "cell_type": "markdown",
   "id": "61dfe31d-fde3-4d08-8843-076103db4424",
   "metadata": {
    "papermill": {},
    "tags": []
   },
   "source": [
    "### Get company data"
   ]
  },
  {
   "cell_type": "code",
   "execution_count": 2,
   "id": "ranging-cricket",
   "metadata": {
    "execution": {
     "iopub.execute_input": "2022-03-07T17:43:17.428408Z",
     "iopub.status.busy": "2022-03-07T17:43:17.428117Z",
     "iopub.status.idle": "2022-03-07T17:43:17.748504Z",
     "shell.execute_reply": "2022-03-07T17:43:17.747949Z",
     "shell.execute_reply.started": "2022-03-07T17:43:17.428379Z"
    },
    "papermill": {},
    "tags": []
   },
   "outputs": [],
   "source": [
    "data = pd.read_html(\"https://www.verif.com/societe/CASHSTORY-880612569/\", encoding=\"UTF-8\")"
   ]
  },
  {
   "cell_type": "code",
   "execution_count": 3,
   "id": "important-departure",
   "metadata": {
    "execution": {
     "iopub.execute_input": "2022-03-07T17:43:17.750190Z",
     "iopub.status.busy": "2022-03-07T17:43:17.749783Z",
     "iopub.status.idle": "2022-03-07T17:43:17.753635Z",
     "shell.execute_reply": "2022-03-07T17:43:17.753043Z",
     "shell.execute_reply.started": "2022-03-07T17:43:17.750160Z"
    },
    "papermill": {},
    "tags": []
   },
   "outputs": [
    {
     "name": "stdout",
     "output_type": "stream",
     "text": [
      "4\n"
     ]
    }
   ],
   "source": [
    "print(len(data))"
   ]
  },
  {
   "cell_type": "markdown",
   "id": "output_cell",
   "metadata": {
    "papermill": {},
    "tags": []
   },
   "source": [
    "## Output"
   ]
  },
  {
   "cell_type": "markdown",
   "id": "display_cell",
   "metadata": {
    "papermill": {},
    "tags": []
   },
   "source": [
    "### Display result (You can change your index 0-4)"
   ]
  },
  {
   "cell_type": "code",
   "execution_count": 4,
   "id": "hindu-helicopter",
   "metadata": {
    "execution": {
     "iopub.execute_input": "2022-03-07T17:43:18.791208Z",
     "iopub.status.busy": "2022-03-07T17:43:18.790985Z",
     "iopub.status.idle": "2022-03-07T17:43:18.804544Z",
     "shell.execute_reply": "2022-03-07T17:43:18.803878Z",
     "shell.execute_reply.started": "2022-03-07T17:43:18.791187Z"
    },
    "papermill": {},
    "tags": []
   },
   "outputs": [
    {
     "data": {
      "text/html": [
       "<div>\n",
       "<style scoped>\n",
       "    .dataframe tbody tr th:only-of-type {\n",
       "        vertical-align: middle;\n",
       "    }\n",
       "\n",
       "    .dataframe tbody tr th {\n",
       "        vertical-align: top;\n",
       "    }\n",
       "\n",
       "    .dataframe thead th {\n",
       "        text-align: right;\n",
       "    }\n",
       "</style>\n",
       "<table border=\"1\" class=\"dataframe\">\n",
       "  <thead>\n",
       "    <tr style=\"text-align: right;\">\n",
       "      <th></th>\n",
       "      <th>0</th>\n",
       "      <th>1</th>\n",
       "    </tr>\n",
       "  </thead>\n",
       "  <tbody>\n",
       "    <tr>\n",
       "      <th>0</th>\n",
       "      <td>Raison sociale</td>\n",
       "      <td>CASHSTORY</td>\n",
       "    </tr>\n",
       "    <tr>\n",
       "      <th>1</th>\n",
       "      <td>Sigle</td>\n",
       "      <td>NaN</td>\n",
       "    </tr>\n",
       "    <tr>\n",
       "      <th>2</th>\n",
       "      <td>Enseigne</td>\n",
       "      <td>NaN</td>\n",
       "    </tr>\n",
       "    <tr>\n",
       "      <th>3</th>\n",
       "      <td>Dirigeants</td>\n",
       "      <td>2 dirigeant(s)  + de détails</td>\n",
       "    </tr>\n",
       "    <tr>\n",
       "      <th>4</th>\n",
       "      <td>Adresse</td>\n",
       "      <td>5 RUE HERMEL  75018 PARIS 18 Retrouvez les soc...</td>\n",
       "    </tr>\n",
       "    <tr>\n",
       "      <th>5</th>\n",
       "      <td>Téléphone</td>\n",
       "      <td>Afficher le téléphone Appeler</td>\n",
       "    </tr>\n",
       "    <tr>\n",
       "      <th>6</th>\n",
       "      <td>Fax</td>\n",
       "      <td>NaN</td>\n",
       "    </tr>\n",
       "    <tr>\n",
       "      <th>7</th>\n",
       "      <td>Forme juridique</td>\n",
       "      <td>Société par action simplifiées</td>\n",
       "    </tr>\n",
       "    <tr>\n",
       "      <th>8</th>\n",
       "      <td>Date de création</td>\n",
       "      <td>Créée le 26/12/2019</td>\n",
       "    </tr>\n",
       "    <tr>\n",
       "      <th>9</th>\n",
       "      <td>NaN</td>\n",
       "      <td>Derniers statuts à jour  + de détails</td>\n",
       "    </tr>\n",
       "    <tr>\n",
       "      <th>10</th>\n",
       "      <td>Capital Social</td>\n",
       "      <td>1 000 €</td>\n",
       "    </tr>\n",
       "    <tr>\n",
       "      <th>11</th>\n",
       "      <td>SIREN</td>\n",
       "      <td>880 612 569</td>\n",
       "    </tr>\n",
       "    <tr>\n",
       "      <th>12</th>\n",
       "      <td>SIRET</td>\n",
       "      <td>880 612 569 00017</td>\n",
       "    </tr>\n",
       "    <tr>\n",
       "      <th>13</th>\n",
       "      <td>Numéro de TVA</td>\n",
       "      <td>FR39880612569</td>\n",
       "    </tr>\n",
       "    <tr>\n",
       "      <th>14</th>\n",
       "      <td>Activité (code APE / NAF)</td>\n",
       "      <td>6201Z / Programmation informatique  Retrouvez ...</td>\n",
       "    </tr>\n",
       "  </tbody>\n",
       "</table>\n",
       "</div>"
      ],
      "text/plain": [
       "                            0  \\\n",
       "0              Raison sociale   \n",
       "1                       Sigle   \n",
       "2                    Enseigne   \n",
       "3                  Dirigeants   \n",
       "4                     Adresse   \n",
       "5                   Téléphone   \n",
       "6                         Fax   \n",
       "7             Forme juridique   \n",
       "8            Date de création   \n",
       "9                         NaN   \n",
       "10             Capital Social   \n",
       "11                      SIREN   \n",
       "12                      SIRET   \n",
       "13              Numéro de TVA   \n",
       "14  Activité (code APE / NAF)   \n",
       "\n",
       "                                                    1  \n",
       "0                                           CASHSTORY  \n",
       "1                                                 NaN  \n",
       "2                                                 NaN  \n",
       "3                        2 dirigeant(s)  + de détails  \n",
       "4   5 RUE HERMEL  75018 PARIS 18 Retrouvez les soc...  \n",
       "5                       Afficher le téléphone Appeler  \n",
       "6                                                 NaN  \n",
       "7                      Société par action simplifiées  \n",
       "8                                 Créée le 26/12/2019  \n",
       "9               Derniers statuts à jour  + de détails  \n",
       "10                                            1 000 €  \n",
       "11                                        880 612 569  \n",
       "12                                  880 612 569 00017  \n",
       "13                                      FR39880612569  \n",
       "14  6201Z / Programmation informatique  Retrouvez ...  "
      ]
     },
     "execution_count": 4,
     "metadata": {},
     "output_type": "execute_result"
    }
   ],
   "source": [
    "data[0]"
   ]
  },
  {
   "cell_type": "code",
   "execution_count": null,
   "id": "aa4b7816-4fba-4a2c-9f03-aaccb518fa7b",
   "metadata": {},
   "outputs": [],
   "source": []
  }
 ],
 "metadata": {
  "kernelspec": {
   "display_name": "Python 3",
   "language": "python",
   "name": "python3"
  },
  "language_info": {
   "codemirror_mode": {
    "name": "ipython",
    "version": 3
   },
   "file_extension": ".py",
   "mimetype": "text/x-python",
   "name": "python",
   "nbconvert_exporter": "python",
   "pygments_lexer": "ipython3",
   "version": "3.8.8"
  },
  "papermill": {
   "default_parameters": {},
   "environment_variables": {},
   "parameters": {},
   "version": "2.3.3"
  }
 },
 "nbformat": 4,
 "nbformat_minor": 5
}
