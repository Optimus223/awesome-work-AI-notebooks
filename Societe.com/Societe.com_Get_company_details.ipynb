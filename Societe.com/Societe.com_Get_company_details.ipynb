{
 "cells": [
  {
   "cell_type": "markdown",
   "id": "3c697f77-dbd3-4abc-8281-a86797355cca",
   "metadata": {},
   "source": [
    "<img width=\"10%\" alt=\"Naas\" src=\"https://landen.imgix.net/jtci2pxwjczr/assets/5ice39g4.png?w=160\"/>"
   ]
  },
  {
   "cell_type": "markdown",
   "id": "municipal-murray",
   "metadata": {
    "papermill": {},
    "tags": []
   },
   "source": [
    "# Societe.com - Get company details\n",
    "<a href=\"https://app.naas.ai/user-redirect/naas/downloader?url=https://raw.githubusercontent.com/jupyter-naas/awesome-notebooks/master/Societe.com/get_company_details.ipynb\" target=\"_parent\"><img src=\"https://naasai-public.s3.eu-west-3.amazonaws.com/open_in_naas.svg\"/></a>"
   ]
  },
  {
   "cell_type": "markdown",
   "id": "f962c9b4-3025-46b2-ba91-001b2f8397b0",
   "metadata": {
    "papermill": {},
    "tags": []
   },
   "source": [
    "**Tags:** #societe.com #companies #opendata #snippet"
   ]
  },
  {
   "cell_type": "markdown",
   "id": "37fc24ad-2c83-4da0-9c75-cf92866d0af1",
   "metadata": {},
   "source": [
    "**Author:** [Jeremy Ravenel](https://www.linkedin.com/in/ACoAAAJHE7sB5OxuKHuzguZ9L6lfDHqw--cdnJg/)"
   ]
  },
  {
   "cell_type": "markdown",
   "id": "input_cell",
   "metadata": {
    "papermill": {},
    "tags": []
   },
   "source": [
    "## Input"
   ]
  },
  {
   "cell_type": "markdown",
   "id": "import_cell",
   "metadata": {
    "papermill": {},
    "tags": []
   },
   "source": [
    "### Import library"
   ]
  },
  {
   "cell_type": "code",
   "execution_count": 1,
   "id": "35c3d18c-14a7-49aa-88bd-33bd60ba2c4c",
   "metadata": {
    "execution": {
     "iopub.execute_input": "2022-03-07T17:40:01.601526Z",
     "iopub.status.busy": "2022-03-07T17:40:01.601263Z",
     "iopub.status.idle": "2022-03-07T17:40:02.158301Z",
     "shell.execute_reply": "2022-03-07T17:40:02.157716Z",
     "shell.execute_reply.started": "2022-03-07T17:40:01.601459Z"
    },
    "papermill": {},
    "tags": []
   },
   "outputs": [],
   "source": [
    "import pandas as pd"
   ]
  },
  {
   "cell_type": "markdown",
   "id": "model_cell",
   "metadata": {
    "papermill": {},
    "tags": []
   },
   "source": [
    "## Model"
   ]
  },
  {
   "cell_type": "markdown",
   "id": "d9254da3-00f5-4a80-8494-6319df63021a",
   "metadata": {
    "papermill": {},
    "tags": []
   },
   "source": [
    "### Get the company details"
   ]
  },
  {
   "cell_type": "code",
   "execution_count": 2,
   "id": "other-symposium",
   "metadata": {
    "execution": {
     "iopub.execute_input": "2022-03-07T17:40:02.822366Z",
     "iopub.status.busy": "2022-03-07T17:40:02.822134Z",
     "iopub.status.idle": "2022-03-07T17:40:03.211620Z",
     "shell.execute_reply": "2022-03-07T17:40:03.211039Z",
     "shell.execute_reply.started": "2022-03-07T17:40:02.822342Z"
    },
    "papermill": {},
    "tags": []
   },
   "outputs": [],
   "source": [
    "data = pd.read_html(\"https://www.societe.com/societe/cashstory-880612569.html\")"
   ]
  },
  {
   "cell_type": "markdown",
   "id": "output_cell",
   "metadata": {
    "papermill": {},
    "tags": []
   },
   "source": [
    "## Output"
   ]
  },
  {
   "cell_type": "markdown",
   "id": "display_cell",
   "metadata": {
    "papermill": {},
    "tags": []
   },
   "source": [
    "### Display result"
   ]
  },
  {
   "cell_type": "code",
   "execution_count": 3,
   "id": "e16a95fe-1960-45a3-bcd1-95e5b7179518",
   "metadata": {
    "execution": {
     "iopub.execute_input": "2022-03-07T17:40:04.799315Z",
     "iopub.status.busy": "2022-03-07T17:40:04.799075Z",
     "iopub.status.idle": "2022-03-07T17:40:04.814129Z",
     "shell.execute_reply": "2022-03-07T17:40:04.813549Z",
     "shell.execute_reply.started": "2022-03-07T17:40:04.799291Z"
    },
    "papermill": {},
    "tags": []
   },
   "outputs": [
    {
     "data": {
      "text/html": [
       "<div>\n",
       "<style scoped>\n",
       "    .dataframe tbody tr th:only-of-type {\n",
       "        vertical-align: middle;\n",
       "    }\n",
       "\n",
       "    .dataframe tbody tr th {\n",
       "        vertical-align: top;\n",
       "    }\n",
       "\n",
       "    .dataframe thead th {\n",
       "        text-align: right;\n",
       "    }\n",
       "</style>\n",
       "<table border=\"1\" class=\"dataframe\">\n",
       "  <thead>\n",
       "    <tr style=\"text-align: right;\">\n",
       "      <th></th>\n",
       "      <th>0</th>\n",
       "      <th>1</th>\n",
       "    </tr>\n",
       "  </thead>\n",
       "  <tbody>\n",
       "    <tr>\n",
       "      <th>0</th>\n",
       "      <td>Date création entreprise</td>\n",
       "      <td>23-05-2001  - Il y a 20 ans  Statuts constitutifs</td>\n",
       "    </tr>\n",
       "    <tr>\n",
       "      <th>1</th>\n",
       "      <td>Voir  PLUS  +  Forme juridique  Société par ac...</td>\n",
       "      <td>Voir  PLUS  +  Forme juridique  Société par ac...</td>\n",
       "    </tr>\n",
       "    <tr>\n",
       "      <th>2</th>\n",
       "      <td>Noms commerciaux</td>\n",
       "      <td>ASELYS</td>\n",
       "    </tr>\n",
       "    <tr>\n",
       "      <th>3</th>\n",
       "      <td>Adresse postale</td>\n",
       "      <td>NUE LURNONSKY 58071 ARIS</td>\n",
       "    </tr>\n",
       "    <tr>\n",
       "      <th>4</th>\n",
       "      <td>Numéros d'identification</td>\n",
       "      <td>Numéros d'identification</td>\n",
       "    </tr>\n",
       "    <tr>\n",
       "      <th>5</th>\n",
       "      <td>Numéro SIREN</td>\n",
       "      <td>437982937  Copier le n° de SIREN</td>\n",
       "    </tr>\n",
       "    <tr>\n",
       "      <th>6</th>\n",
       "      <td>Numéro SIRET (siège)</td>\n",
       "      <td>43798293700017  Copier le n° de SIRET</td>\n",
       "    </tr>\n",
       "    <tr>\n",
       "      <th>7</th>\n",
       "      <td>Numéro TVA Intracommunautaire</td>\n",
       "      <td>FR15437982937  Copier le n° de TVA</td>\n",
       "    </tr>\n",
       "    <tr>\n",
       "      <th>8</th>\n",
       "      <td>Numéro RCS</td>\n",
       "      <td>aris M P37982937</td>\n",
       "    </tr>\n",
       "    <tr>\n",
       "      <th>9</th>\n",
       "      <td>Informations commerciales</td>\n",
       "      <td>Informations commerciales</td>\n",
       "    </tr>\n",
       "    <tr>\n",
       "      <th>10</th>\n",
       "      <td>Voir  PLUS  +  Activité (Code NAF ou APE)  Ing...</td>\n",
       "      <td>Voir  PLUS  +  Activité (Code NAF ou APE)  Ing...</td>\n",
       "    </tr>\n",
       "    <tr>\n",
       "      <th>11</th>\n",
       "      <td>Informations juridiques</td>\n",
       "      <td>Informations juridiques</td>\n",
       "    </tr>\n",
       "    <tr>\n",
       "      <th>12</th>\n",
       "      <td>Statut RCS</td>\n",
       "      <td>INSCRITE  - au greffe de Paris Extrait d'immat...</td>\n",
       "    </tr>\n",
       "    <tr>\n",
       "      <th>13</th>\n",
       "      <td>Statut INSEE</td>\n",
       "      <td>INSCRITE Avis de situation SIRENE</td>\n",
       "    </tr>\n",
       "    <tr>\n",
       "      <th>14</th>\n",
       "      <td>Date d'immatriculation RCS</td>\n",
       "      <td>Immatriculée au RCS le 31-05-2001</td>\n",
       "    </tr>\n",
       "    <tr>\n",
       "      <th>15</th>\n",
       "      <td>Date d'enregistrement INSEE</td>\n",
       "      <td>Enregistrée à l'INSEE le 23-05-2001</td>\n",
       "    </tr>\n",
       "    <tr>\n",
       "      <th>16</th>\n",
       "      <td>Taille de l'entreprise</td>\n",
       "      <td>Taille de l'entreprise</td>\n",
       "    </tr>\n",
       "    <tr>\n",
       "      <th>17</th>\n",
       "      <td>Voir  PLUS  +  Effectif (tranche INSEE à 18 mo...</td>\n",
       "      <td>Voir  PLUS  +  Effectif (tranche INSEE à 18 mo...</td>\n",
       "    </tr>\n",
       "    <tr>\n",
       "      <th>18</th>\n",
       "      <td>Voir  PLUS  +  Capital social  19000000,00 EUR...</td>\n",
       "      <td>Voir  PLUS  +  Capital social  19000000,00 EUR...</td>\n",
       "    </tr>\n",
       "  </tbody>\n",
       "</table>\n",
       "</div>"
      ],
      "text/plain": [
       "                                                    0  \\\n",
       "0                            Date création entreprise   \n",
       "1   Voir  PLUS  +  Forme juridique  Société par ac...   \n",
       "2                                    Noms commerciaux   \n",
       "3                                     Adresse postale   \n",
       "4                            Numéros d'identification   \n",
       "5                                        Numéro SIREN   \n",
       "6                                Numéro SIRET (siège)   \n",
       "7                       Numéro TVA Intracommunautaire   \n",
       "8                                          Numéro RCS   \n",
       "9                           Informations commerciales   \n",
       "10  Voir  PLUS  +  Activité (Code NAF ou APE)  Ing...   \n",
       "11                            Informations juridiques   \n",
       "12                                         Statut RCS   \n",
       "13                                       Statut INSEE   \n",
       "14                         Date d'immatriculation RCS   \n",
       "15                        Date d'enregistrement INSEE   \n",
       "16                             Taille de l'entreprise   \n",
       "17  Voir  PLUS  +  Effectif (tranche INSEE à 18 mo...   \n",
       "18  Voir  PLUS  +  Capital social  19000000,00 EUR...   \n",
       "\n",
       "                                                    1  \n",
       "0   23-05-2001  - Il y a 20 ans  Statuts constitutifs  \n",
       "1   Voir  PLUS  +  Forme juridique  Société par ac...  \n",
       "2                                              ASELYS  \n",
       "3                            NUE LURNONSKY 58071 ARIS  \n",
       "4                            Numéros d'identification  \n",
       "5                    437982937  Copier le n° de SIREN  \n",
       "6               43798293700017  Copier le n° de SIRET  \n",
       "7                  FR15437982937  Copier le n° de TVA  \n",
       "8                                    aris M P37982937  \n",
       "9                           Informations commerciales  \n",
       "10  Voir  PLUS  +  Activité (Code NAF ou APE)  Ing...  \n",
       "11                            Informations juridiques  \n",
       "12  INSCRITE  - au greffe de Paris Extrait d'immat...  \n",
       "13                  INSCRITE Avis de situation SIRENE  \n",
       "14                  Immatriculée au RCS le 31-05-2001  \n",
       "15                Enregistrée à l'INSEE le 23-05-2001  \n",
       "16                             Taille de l'entreprise  \n",
       "17  Voir  PLUS  +  Effectif (tranche INSEE à 18 mo...  \n",
       "18  Voir  PLUS  +  Capital social  19000000,00 EUR...  "
      ]
     },
     "execution_count": 3,
     "metadata": {},
     "output_type": "execute_result"
    }
   ],
   "source": [
    "data[0]"
   ]
  },
  {
   "cell_type": "code",
   "execution_count": null,
   "id": "8ad119cc-4ab6-4353-b8d7-a65bb2421eec",
   "metadata": {},
   "outputs": [],
   "source": []
  }
 ],
 "metadata": {
  "kernelspec": {
   "display_name": "Python 3",
   "language": "python",
   "name": "python3"
  },
  "language_info": {
   "codemirror_mode": {
    "name": "ipython",
    "version": 3
   },
   "file_extension": ".py",
   "mimetype": "text/x-python",
   "name": "python",
   "nbconvert_exporter": "python",
   "pygments_lexer": "ipython3",
   "version": "3.8.8"
  },
  "papermill": {
   "default_parameters": {},
   "environment_variables": {},
   "parameters": {},
   "version": "2.3.3"
  }
 },
 "nbformat": 4,
 "nbformat_minor": 5
}
