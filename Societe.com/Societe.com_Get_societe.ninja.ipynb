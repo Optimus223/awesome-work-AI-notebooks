{
 "cells": [
  {
   "cell_type": "markdown",
   "id": "selected-stock",
   "metadata": {
    "papermill": {},
    "tags": []
   },
   "source": [
    "<img width=\"10%\" alt=\"Naas\" src=\"https://landen.imgix.net/jtci2pxwjczr/assets/5ice39g4.png?w=160\"/>"
   ]
  },
  {
   "cell_type": "markdown",
   "id": "proved-olympus",
   "metadata": {
    "papermill": {},
    "tags": []
   },
   "source": [
    "# Societe.com - Get societe.ninja\n",
    "<a href=\"https://app.naas.ai/user-redirect/naas/downloader?url=https://raw.githubusercontent.com/jupyter-naas/awesome-notebooks/master/Societe.com/get_societe.ninja.ipynb\" target=\"_parent\"><img src=\"https://naasai-public.s3.eu-west-3.amazonaws.com/open_in_naas.svg\"/></a>"
   ]
  },
  {
   "cell_type": "markdown",
   "id": "1f0d988a-15e5-4f88-b400-781706f0a683",
   "metadata": {},
   "source": [
    "**Tags:** #companies #opendata #snippet"
   ]
  },
  {
   "cell_type": "markdown",
   "id": "d6a76fe1-d6aa-4f18-b852-e788476cd7d0",
   "metadata": {
    "papermill": {},
    "tags": []
   },
   "source": [
    "**Author:** [Jeremy Ravenel](https://www.linkedin.com/in/ACoAAAJHE7sB5OxuKHuzguZ9L6lfDHqw--cdnJg/)"
   ]
  },
  {
   "cell_type": "markdown",
   "id": "input_cell",
   "metadata": {
    "papermill": {},
    "tags": []
   },
   "source": [
    "## Input"
   ]
  },
  {
   "cell_type": "markdown",
   "id": "import_cell",
   "metadata": {
    "papermill": {},
    "tags": []
   },
   "source": [
    "### Import library"
   ]
  },
  {
   "cell_type": "code",
   "execution_count": 1,
   "id": "closing-mercury",
   "metadata": {
    "execution": {
     "iopub.execute_input": "2022-03-07T17:40:56.406867Z",
     "iopub.status.busy": "2022-03-07T17:40:56.406594Z",
     "iopub.status.idle": "2022-03-07T17:40:56.947924Z",
     "shell.execute_reply": "2022-03-07T17:40:56.947340Z",
     "shell.execute_reply.started": "2022-03-07T17:40:56.406796Z"
    },
    "papermill": {},
    "tags": []
   },
   "outputs": [],
   "source": [
    "import pandas as pd"
   ]
  },
  {
   "cell_type": "markdown",
   "id": "model_cell",
   "metadata": {
    "papermill": {},
    "tags": []
   },
   "source": [
    "## Model"
   ]
  },
  {
   "cell_type": "markdown",
   "id": "51f45bc0-42ec-4297-91e6-5330084b69fb",
   "metadata": {
    "papermill": {},
    "tags": []
   },
   "source": [
    "### Get the company details"
   ]
  },
  {
   "cell_type": "code",
   "execution_count": 8,
   "id": "60a1bfca-cb1c-401e-8a01-73bc3552576c",
   "metadata": {
    "execution": {
     "iopub.execute_input": "2022-03-07T17:42:02.041946Z",
     "iopub.status.busy": "2022-03-07T17:42:02.041721Z",
     "iopub.status.idle": "2022-03-07T17:42:02.179143Z",
     "shell.execute_reply": "2022-03-07T17:42:02.178550Z",
     "shell.execute_reply.started": "2022-03-07T17:42:02.041924Z"
    },
    "papermill": {},
    "tags": []
   },
   "outputs": [],
   "source": [
    "data = pd.read_html(\"https://societe.ninja/data.php?siren=437982937\", encoding=\"UTF-8\")"
   ]
  },
  {
   "cell_type": "code",
   "execution_count": 11,
   "id": "ea445ba7-f028-4070-aaba-296fef0d93fa",
   "metadata": {
    "execution": {
     "iopub.execute_input": "2022-03-07T17:43:36.036162Z",
     "iopub.status.busy": "2022-03-07T17:43:36.035934Z",
     "iopub.status.idle": "2022-03-07T17:43:36.039312Z",
     "shell.execute_reply": "2022-03-07T17:43:36.038699Z",
     "shell.execute_reply.started": "2022-03-07T17:43:36.036138Z"
    },
    "tags": []
   },
   "outputs": [
    {
     "name": "stdout",
     "output_type": "stream",
     "text": [
      "1\n"
     ]
    }
   ],
   "source": [
    "print(len(data))"
   ]
  },
  {
   "cell_type": "markdown",
   "id": "output_cell",
   "metadata": {
    "papermill": {},
    "tags": []
   },
   "source": [
    "## Output"
   ]
  },
  {
   "cell_type": "markdown",
   "id": "display_cell",
   "metadata": {
    "papermill": {},
    "tags": []
   },
   "source": [
    "### Display result (You can change the index 0-7 for change the printed data)"
   ]
  },
  {
   "cell_type": "code",
   "execution_count": 10,
   "id": "working-world",
   "metadata": {
    "execution": {
     "iopub.execute_input": "2022-03-07T17:42:15.438977Z",
     "iopub.status.busy": "2022-03-07T17:42:15.438746Z",
     "iopub.status.idle": "2022-03-07T17:42:15.446076Z",
     "shell.execute_reply": "2022-03-07T17:42:15.445453Z",
     "shell.execute_reply.started": "2022-03-07T17:42:15.438954Z"
    },
    "papermill": {},
    "tags": []
   },
   "outputs": [
    {
     "data": {
      "text/plain": [
       "[{0: nan,\n",
       "  1: \"Ce site est édité par l'association CYBERTRON.  Soutenez nos développeurs bénévoles en faisant un don.\",\n",
       "  2: 'Ce site est réalisé par Lionel VEST et Romain WINCZEWSKI  Associés du cabinet ADARIS AVOCATS',\n",
       "  3: nan}]"
      ]
     },
     "execution_count": 10,
     "metadata": {},
     "output_type": "execute_result"
    }
   ],
   "source": [
    "data[0].to_dict(orient=\"records\")"
   ]
  }
 ],
 "metadata": {
  "kernelspec": {
   "display_name": "Python 3",
   "language": "python",
   "name": "python3"
  },
  "language_info": {
   "codemirror_mode": {
    "name": "ipython",
    "version": 3
   },
   "file_extension": ".py",
   "mimetype": "text/x-python",
   "name": "python",
   "nbconvert_exporter": "python",
   "pygments_lexer": "ipython3",
   "version": "3.8.8"
  },
  "papermill": {
   "default_parameters": {},
   "environment_variables": {},
   "parameters": {},
   "version": "2.3.3"
  }
 },
 "nbformat": 4,
 "nbformat_minor": 5
}
