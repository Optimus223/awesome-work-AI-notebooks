{
 "cells": [
  {
   "cell_type": "markdown",
   "id": "39bc2b21-5a05-4416-b936-63d8e0057d78",
   "metadata": {
    "papermill": {},
    "tags": []
   },
   "source": [
    "<img width=\"10%\" alt=\"Naas\" src=\"https://landen.imgix.net/jtci2pxwjczr/assets/5ice39g4.png?w=160\"/>"
   ]
  },
  {
   "cell_type": "markdown",
   "id": "449f32e2-2db8-4301-bc9f-0da8226a432e",
   "metadata": {
    "papermill": {},
    "tags": []
   },
   "source": [
    "# SharePoint - Create folder"
   ]
  },
  {
   "cell_type": "markdown",
   "id": "f41bb708-5971-48f9-b8a2-dbe7d25cdd26",
   "metadata": {
    "papermill": {},
    "tags": []
   },
   "source": [
    "**Tags:** #sharepoint #folder #create #microsoft #office365 #python"
   ]
  },
  {
   "cell_type": "markdown",
   "id": "8e0677ed-34b8-4122-9fe3-cbf60670cc78",
   "metadata": {
    "papermill": {},
    "tags": []
   },
   "source": [
    "**Author:** [Florent Ravenel](http://linkedin.com/in/florent-ravenel)"
   ]
  },
  {
   "cell_type": "markdown",
   "id": "bc4826f1-915a-45ff-8087-2925f71d5d9a",
   "metadata": {
    "papermill": {},
    "tags": []
   },
   "source": [
    "**Description:** This notebook will show how to create a folder in SharePoint using Python."
   ]
  },
  {
   "cell_type": "markdown",
   "id": "6e4bc720-cf72-4825-a865-9979a0459918",
   "metadata": {
    "papermill": {},
    "tags": []
   },
   "source": [
    "**References:**\n- [SharePoint REST API reference](https://docs.microsoft.com/en-us/sharepoint/dev/sp-add-ins/working-with-folders-and-files-with-rest)\n- [SharePoint Python library](https://github.com/vgrem/Office365-REST-Python-Client)"
   ]
  },
  {
   "cell_type": "markdown",
   "id": "13aa5dd5-fd21-4933-96a9-9933365d3ddd",
   "metadata": {
    "papermill": {},
    "tags": []
   },
   "source": [
    "## Input"
   ]
  },
  {
   "cell_type": "markdown",
   "id": "014c9c87-72b8-4184-a85c-f5ca40b0508c",
   "metadata": {
    "papermill": {},
    "tags": []
   },
   "source": [
    "### Import libraries"
   ]
  },
  {
   "cell_type": "code",
   "execution_count": null,
   "id": "e681ccab-f056-4faf-aee6-da7456b921be",
   "metadata": {
    "papermill": {},
    "tags": []
   },
   "source": "import office365.sharepoint",
   "outputs": []
  },
  {
   "cell_type": "markdown",
   "id": "46e4a211-43dd-4c09-b771-c5155a6458e0",
   "metadata": {
    "papermill": {},
    "tags": []
   },
   "source": [
    "### Setup Variables\n- **site_url**: URL of the SharePoint site\n- **folder_name**: Name of the folder to be created"
   ]
  },
  {
   "cell_type": "code",
   "execution_count": null,
   "id": "27531a32-2971-4655-af15-0f3a84602cea",
   "metadata": {
    "papermill": {},
    "tags": []
   },
   "source": "site_url = \"https://example.sharepoint.com/sites/mysite\"\nfolder_name = \"MyFolder\"",
   "outputs": []
  },
  {
   "cell_type": "markdown",
   "id": "2c631671-49ff-41c7-bd71-b70898b9c736",
   "metadata": {
    "papermill": {},
    "tags": []
   },
   "source": [
    "## Model"
   ]
  },
  {
   "cell_type": "markdown",
   "id": "9ef24bb8-1bc2-498c-ae2f-c3dd7ac8cb9d",
   "metadata": {
    "papermill": {},
    "tags": []
   },
   "source": [
    "### Create folder"
   ]
  },
  {
   "cell_type": "markdown",
   "id": "1e772d31-0336-43d5-bb72-c55d55cd907f",
   "metadata": {
    "papermill": {},
    "tags": []
   },
   "source": [
    "Create a folder in the root of the SharePoint site."
   ]
  },
  {
   "cell_type": "code",
   "execution_count": null,
   "id": "fa08afc0-e8f1-472a-b7ac-732d9f96d7b7",
   "metadata": {
    "papermill": {},
    "tags": []
   },
   "source": "# Connect to SharePoint\nsp = office365.sharepoint.SharePointOnlineCredentials(site_url)\n# Create folder\nsp.create_folder(folder_name)",
   "outputs": []
  },
  {
   "cell_type": "markdown",
   "id": "8ccf1bf9-c903-45c0-baa1-f3e080aab8c3",
   "metadata": {
    "papermill": {},
    "tags": []
   },
   "source": [
    "## Output"
   ]
  },
  {
   "cell_type": "markdown",
   "id": "e5823b97-52a1-49fb-af5e-aaa08ab070ca",
   "metadata": {
    "papermill": {},
    "tags": []
   },
   "source": [
    "### Display result"
   ]
  },
  {
   "cell_type": "code",
   "execution_count": null,
   "id": "37b1c4a8-da75-41e2-897d-83ddc13788f4",
   "metadata": {
    "papermill": {},
    "tags": []
   },
   "source": "# List folders in the root of the SharePoint site\nfolders = sp.list_folders()\n# Print folder names\nfor folder in folders:\n    print(folder.name)",
   "outputs": []
  },
  {
   "cell_type": "markdown",
   "id": "75294c98-af5d-4679-86cb-7e1a9cdd935c",
   "metadata": {
    "papermill": {},
    "tags": []
   },
   "source": [
    " "
   ]
  }
 ],
 "metadata": {
  "kernelspec": {
   "display_name": "Python 3",
   "language": "python",
   "name": "python3"
  },
  "language_info": {
   "codemirror_mode": {
    "name": "ipython",
    "version": 3
   },
   "file_extension": ".py",
   "mimetype": "text/x-python",
   "name": "python",
   "nbconvert_exporter": "python",
   "pygments_lexer": "ipython3",
   "version": "3.9.6"
  },
  "widgets": {
   "application/vnd.jupyter.widget-state+json": {
    "state": {},
    "version_major": 2,
    "version_minor": 0
   }
  }
 },
 "nbformat": 4,
 "nbformat_minor": 5
}