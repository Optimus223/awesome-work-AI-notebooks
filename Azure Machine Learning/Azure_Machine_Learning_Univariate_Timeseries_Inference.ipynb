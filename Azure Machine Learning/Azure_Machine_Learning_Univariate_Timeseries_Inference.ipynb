{
  "cells": [
    {
      "cell_type": "markdown",
      "id": "b7cad326-ccf1-45d1-bc0c-1b09b2ad2a42",
      "metadata": {
        "papermill": {},
        "tags": [],
        "id": "b7cad326-ccf1-45d1-bc0c-1b09b2ad2a42"
      },
      "source": [
        "<img width=\"10%\" alt=\"Naas\" src=\"https://landen.imgix.net/jtci2pxwjczr/assets/5ice39g4.png?w=160\"/>"
      ]
    },
    {
      "cell_type": "markdown",
      "id": "180e9541-2f56-4f0f-8f5f-03d46f19e1c8",
      "metadata": {
        "papermill": {},
        "tags": [],
        "id": "180e9541-2f56-4f0f-8f5f-03d46f19e1c8"
      },
      "source": [
        "# Azure Machine Learning - Univariate Timeseries Inference"
      ]
    },
    {
      "cell_type": "markdown",
      "id": "1d51d4d3-ef80-4aa2-a49b-9e8219f8b448",
      "metadata": {
        "papermill": {},
        "tags": [],
        "id": "1d51d4d3-ef80-4aa2-a49b-9e8219f8b448"
      },
      "source": [
        "**Tags:** #azure #machinelearning #univariate #timeseries #inference #ml"
      ]
    },
    {
      "cell_type": "markdown",
      "id": "dc491c61-fe50-41de-86ba-c2184cf66576",
      "metadata": {
        "papermill": {},
        "tags": [],
        "id": "dc491c61-fe50-41de-86ba-c2184cf66576"
      },
      "source": [
        "**Author:** [Tobias Zwingmann](https://www.linkedin.com/in/tobias-zwingmann/)"
      ]
    },
    {
      "cell_type": "markdown",
      "id": "201c1c2f-e99f-4377-b761-7ca5b04b083a",
      "metadata": {
        "papermill": {},
        "tags": [],
        "id": "201c1c2f-e99f-4377-b761-7ca5b04b083a"
      },
      "source": [
        "**Description:** This notebook provides an example of how to use Azure Machine Learning to perform univariate timeseries inference. It is useful for organizations that need to analyze and predict future trends in their data.\n",
        "\n",
        "Requires a timeseries forecasting model hosted on Microsoft Azure and deployed as a web service. (See references below)."
      ]
    },
    {
      "cell_type": "markdown",
      "id": "4ed1aea6-d58b-4b36-bfe0-aae720668926",
      "metadata": {
        "papermill": {},
        "tags": [],
        "id": "4ed1aea6-d58b-4b36-bfe0-aae720668926"
      },
      "source": [
        "**References:**\n",
        "- [Azure Machine Learning Documentation](https://docs.microsoft.com/en-us/azure/machine-learning/)\n",
        "- [Tutorial: Forecast demand with no-code automated machine learning in the Azure Machine Learning studio](https://learn.microsoft.com/en-us/azure/machine-learning/tutorial-automated-ml-forecast)\n",
        "- [Univariate Timeseries Inference](https://en.wikipedia.org/wiki/Time_series#Univariate_time_series_models)"
      ]
    },
    {
      "cell_type": "markdown",
      "id": "0a00fcc5-b63e-4e1e-81de-f0a98ed07bdc",
      "metadata": {
        "papermill": {},
        "tags": [],
        "id": "0a00fcc5-b63e-4e1e-81de-f0a98ed07bdc"
      },
      "source": [
        "## Input"
      ]
    },
    {
      "cell_type": "markdown",
      "id": "8523405b-da48-4c13-b9a2-9bc0ed22315c",
      "metadata": {
        "papermill": {},
        "tags": [],
        "id": "8523405b-da48-4c13-b9a2-9bc0ed22315c"
      },
      "source": [
        "### Import libraries"
      ]
    },
    {
      "cell_type": "code",
      "execution_count": 1,
      "id": "91aaa71c-f002-4d8e-9955-b4f978b29ac7",
      "metadata": {
        "papermill": {},
        "tags": [],
        "id": "91aaa71c-f002-4d8e-9955-b4f978b29ac7"
      },
      "source": [
        "import pandas as pd\n",
        "import requests\n",
        "import json"
      ],
      "outputs": []
    },
    {
      "cell_type": "markdown",
      "id": "4e18e9db-9910-4cf8-813d-864031f9359e",
      "metadata": {
        "papermill": {},
        "tags": [],
        "id": "4e18e9db-9910-4cf8-813d-864031f9359e"
      },
      "source": [
        "### Setup Variables\n",
        "- `timestamp_col`: The name of the column with the timestamps. Must be the same as used in training.\n",
        "- `timestamps_to_predict`: A list of the timestamps to predict. The timestamps must lie **after** the timestamps observed during training\n",
        "- `api_url`: the http URL to the Azure forecasting model\n",
        "- `api_key`: the access key for the model"
      ]
    },
    {
      "cell_type": "code",
      "execution_count": 26,
      "id": "9aed812d-8523-422c-b7fd-d599683ab4a7",
      "metadata": {
        "papermill": {},
        "tags": [],
        "id": "9aed812d-8523-422c-b7fd-d599683ab4a7"
      },
      "source": [
        "timestamp_col = \"timeStamp\"\n",
        "\n",
        "timestamps_to_predict = [\"2017-08-10 06:00:00\", \n",
        "                      \"2017-08-10 07:00:00\",\n",
        "                      \"2017-08-10 08:00:00\",\n",
        "                      \"2017-08-10 09:00:00\",\n",
        "                      \"2017-08-10 10:00:00\",\n",
        "                      \"2017-08-10 11:00:00\"]\n",
        "\n",
        "# Azure hosted model URL and key\n",
        "api_url = \"http://d179457c-d475-48f6-a5c4-f1f9f560ca1f.eastus2.azurecontainer.io/score\"\n",
        "api_key = \"bnDjGh7cQ7jPgsnSjshhTvIsmr1Ksmt1\""
      ],
      "outputs": []
    },
    {
      "cell_type": "code",
      "source": [
        "# Historic data - adjust if needed for plotting\n",
        "data = pd.DataFrame({timestamp_col: [\"2017-08-10 01:00:00\", \n",
        "                      \"2017-08-10 02:00:00\",\n",
        "                      \"2017-08-10 03:00:00\",\n",
        "                      \"2017-08-10 04:00:00\",\n",
        "                      \"2017-08-10 05:00:00\", \n",
        "                      \"2017-08-10 06:00:00\"],\n",
        "                     \"values\": [6053.458, 6714.258, 6497.025, 6360.583, 6333.775, 6534.683]})"
      ],
      "metadata": {
        "id": "6SG7EJFxFhLw"
      },
      "id": "6SG7EJFxFhLw",
      "execution_count": 33,
      "outputs": []
    },
    {
      "cell_type": "markdown",
      "id": "de31aad5-d078-4ac7-9689-8eb11b2d1b76",
      "metadata": {
        "papermill": {},
        "tags": [],
        "id": "de31aad5-d078-4ac7-9689-8eb11b2d1b76"
      },
      "source": [
        "## Model"
      ]
    },
    {
      "cell_type": "markdown",
      "id": "a28a0b75-a8dd-4c9e-8c88-a2564deb5023",
      "metadata": {
        "papermill": {},
        "tags": [],
        "id": "a28a0b75-a8dd-4c9e-8c88-a2564deb5023"
      },
      "source": [
        "### Perform Univariate Timeseries Inference"
      ]
    },
    {
      "cell_type": "markdown",
      "id": "b7827df0-6a58-48c5-9316-5557c234149b",
      "metadata": {
        "papermill": {},
        "tags": [],
        "id": "b7827df0-6a58-48c5-9316-5557c234149b"
      },
      "source": [
        "Using the forecasting model, perform univariate timeseries inference on the data."
      ]
    },
    {
      "cell_type": "code",
      "execution_count": 28,
      "id": "caf1f882-ec33-48af-8f60-4c501374d974",
      "metadata": {
        "papermill": {},
        "tags": [],
        "id": "caf1f882-ec33-48af-8f60-4c501374d974"
      },
      "source": [
        "def inference_request(timestamp_col, timestamps):\n",
        "  # Bind columns to dataframe\n",
        "  request_df = pd.DataFrame({timestamp_col: timestamps})\n",
        "  \n",
        "  req = {\n",
        "      \"Inputs\": {\n",
        "          \"data\": list(request_df.to_dict('records'))\n",
        "          },\n",
        "         \"GlobalParameters\": {\n",
        "             \"quantiles\": [0.025,0.975]\n",
        "             }\n",
        "         }\n",
        "        \n",
        "  # POST request - send JSON to API\n",
        "  headers = {'Authorization': (\"Bearer \" + api_key), \n",
        "             'Content-Type': 'application/json'}\n",
        "  result = requests.post(api_url, data = str.encode(json.dumps(req)), headers=headers)\n",
        "  return(result)\n",
        "\n",
        "def format_timestamps(timestamps):\n",
        "  # Format timestamp according to Azure requirements\n",
        "  return(pd.to_datetime(pd.Series(timestamps_to_predict)).dt.strftime(\"%Y-%m-%dT%H:%M:%S.%fZ\"))\n",
        "\n",
        "\n",
        "# Get predictions\n",
        "result = inference_request(timestamp_col, format_timestamps(timestamps_to_predict))\n",
        "result = json.loads(result.content)\n",
        "\n",
        "# Convert result to dataframe\n",
        "results_df = pd.DataFrame(result['Results'])\n",
        "\n",
        "# Move prediction intervals to separate columns\n",
        "lower = []\n",
        "upper = []\n",
        "for element in results_df['prediction_interval']:\n",
        "  lower.append(json.loads(element)[0])\n",
        "  upper.append(json.loads(element)[1])\n",
        "\n",
        "results_df['prediction_interval_lower'] = lower\n",
        "results_df['prediction_interval_upper'] = upper\n",
        "results_df['forecast'] = results_df['forecast']\n",
        "results_df[timestamp_col] = timestamps_to_predict\n",
        "results_df = results_df.drop(\"index\", axis = 1)\n",
        "results_df = results_df.drop(\"prediction_interval\", axis = 1)"
      ],
      "outputs": []
    },
    {
      "cell_type": "markdown",
      "id": "63120f62-d514-41fb-9a6c-5fd32e482941",
      "metadata": {
        "papermill": {},
        "tags": [],
        "id": "63120f62-d514-41fb-9a6c-5fd32e482941"
      },
      "source": [
        "## Output"
      ]
    },
    {
      "cell_type": "markdown",
      "source": [
        "### Return predictions only"
      ],
      "metadata": {
        "id": "WxKoOn8ZJGZe"
      },
      "id": "WxKoOn8ZJGZe"
    },
    {
      "cell_type": "code",
      "source": [
        "results_df"
      ],
      "metadata": {
        "id": "hxXbzW7ZJIR0",
        "outputId": "0ca1d2e8-9b7b-4d7b-d2ab-d6c9e6067c46",
        "colab": {
          "base_uri": "https://localhost:8080/",
          "height": 235
        }
      },
      "id": "hxXbzW7ZJIR0",
      "execution_count": 34,
      "outputs": [
        {
          "output_type": "execute_result",
          "data": {
            "text/plain": [
              "      forecast  prediction_interval_lower  prediction_interval_upper  \\\n",
              "0  6534.259600                5800.307383                7268.211818   \n",
              "1  6961.366294                5923.401114                7999.331474   \n",
              "2  7383.259057                6112.016526                8654.501588   \n",
              "3  7708.796954                6240.892519                9176.701389   \n",
              "4  7897.971519                6256.804468                9539.138569   \n",
              "5  7976.711242                6178.902814                9774.519670   \n",
              "\n",
              "             timeStamp  \n",
              "0  2017-08-10 06:00:00  \n",
              "1  2017-08-10 07:00:00  \n",
              "2  2017-08-10 08:00:00  \n",
              "3  2017-08-10 09:00:00  \n",
              "4  2017-08-10 10:00:00  \n",
              "5  2017-08-10 11:00:00  "
            ],
            "text/html": [
              "\n",
              "  <div id=\"df-1d141c08-dc46-48dc-8fac-5e792e296a4d\">\n",
              "    <div class=\"colab-df-container\">\n",
              "      <div>\n",
              "<style scoped>\n",
              "    .dataframe tbody tr th:only-of-type {\n",
              "        vertical-align: middle;\n",
              "    }\n",
              "\n",
              "    .dataframe tbody tr th {\n",
              "        vertical-align: top;\n",
              "    }\n",
              "\n",
              "    .dataframe thead th {\n",
              "        text-align: right;\n",
              "    }\n",
              "</style>\n",
              "<table border=\"1\" class=\"dataframe\">\n",
              "  <thead>\n",
              "    <tr style=\"text-align: right;\">\n",
              "      <th></th>\n",
              "      <th>forecast</th>\n",
              "      <th>prediction_interval_lower</th>\n",
              "      <th>prediction_interval_upper</th>\n",
              "      <th>timeStamp</th>\n",
              "    </tr>\n",
              "  </thead>\n",
              "  <tbody>\n",
              "    <tr>\n",
              "      <th>0</th>\n",
              "      <td>6534.259600</td>\n",
              "      <td>5800.307383</td>\n",
              "      <td>7268.211818</td>\n",
              "      <td>2017-08-10 06:00:00</td>\n",
              "    </tr>\n",
              "    <tr>\n",
              "      <th>1</th>\n",
              "      <td>6961.366294</td>\n",
              "      <td>5923.401114</td>\n",
              "      <td>7999.331474</td>\n",
              "      <td>2017-08-10 07:00:00</td>\n",
              "    </tr>\n",
              "    <tr>\n",
              "      <th>2</th>\n",
              "      <td>7383.259057</td>\n",
              "      <td>6112.016526</td>\n",
              "      <td>8654.501588</td>\n",
              "      <td>2017-08-10 08:00:00</td>\n",
              "    </tr>\n",
              "    <tr>\n",
              "      <th>3</th>\n",
              "      <td>7708.796954</td>\n",
              "      <td>6240.892519</td>\n",
              "      <td>9176.701389</td>\n",
              "      <td>2017-08-10 09:00:00</td>\n",
              "    </tr>\n",
              "    <tr>\n",
              "      <th>4</th>\n",
              "      <td>7897.971519</td>\n",
              "      <td>6256.804468</td>\n",
              "      <td>9539.138569</td>\n",
              "      <td>2017-08-10 10:00:00</td>\n",
              "    </tr>\n",
              "    <tr>\n",
              "      <th>5</th>\n",
              "      <td>7976.711242</td>\n",
              "      <td>6178.902814</td>\n",
              "      <td>9774.519670</td>\n",
              "      <td>2017-08-10 11:00:00</td>\n",
              "    </tr>\n",
              "  </tbody>\n",
              "</table>\n",
              "</div>\n",
              "      <button class=\"colab-df-convert\" onclick=\"convertToInteractive('df-1d141c08-dc46-48dc-8fac-5e792e296a4d')\"\n",
              "              title=\"Convert this dataframe to an interactive table.\"\n",
              "              style=\"display:none;\">\n",
              "        \n",
              "  <svg xmlns=\"http://www.w3.org/2000/svg\" height=\"24px\"viewBox=\"0 0 24 24\"\n",
              "       width=\"24px\">\n",
              "    <path d=\"M0 0h24v24H0V0z\" fill=\"none\"/>\n",
              "    <path d=\"M18.56 5.44l.94 2.06.94-2.06 2.06-.94-2.06-.94-.94-2.06-.94 2.06-2.06.94zm-11 1L8.5 8.5l.94-2.06 2.06-.94-2.06-.94L8.5 2.5l-.94 2.06-2.06.94zm10 10l.94 2.06.94-2.06 2.06-.94-2.06-.94-.94-2.06-.94 2.06-2.06.94z\"/><path d=\"M17.41 7.96l-1.37-1.37c-.4-.4-.92-.59-1.43-.59-.52 0-1.04.2-1.43.59L10.3 9.45l-7.72 7.72c-.78.78-.78 2.05 0 2.83L4 21.41c.39.39.9.59 1.41.59.51 0 1.02-.2 1.41-.59l7.78-7.78 2.81-2.81c.8-.78.8-2.07 0-2.86zM5.41 20L4 18.59l7.72-7.72 1.47 1.35L5.41 20z\"/>\n",
              "  </svg>\n",
              "      </button>\n",
              "      \n",
              "  <style>\n",
              "    .colab-df-container {\n",
              "      display:flex;\n",
              "      flex-wrap:wrap;\n",
              "      gap: 12px;\n",
              "    }\n",
              "\n",
              "    .colab-df-convert {\n",
              "      background-color: #E8F0FE;\n",
              "      border: none;\n",
              "      border-radius: 50%;\n",
              "      cursor: pointer;\n",
              "      display: none;\n",
              "      fill: #1967D2;\n",
              "      height: 32px;\n",
              "      padding: 0 0 0 0;\n",
              "      width: 32px;\n",
              "    }\n",
              "\n",
              "    .colab-df-convert:hover {\n",
              "      background-color: #E2EBFA;\n",
              "      box-shadow: 0px 1px 2px rgba(60, 64, 67, 0.3), 0px 1px 3px 1px rgba(60, 64, 67, 0.15);\n",
              "      fill: #174EA6;\n",
              "    }\n",
              "\n",
              "    [theme=dark] .colab-df-convert {\n",
              "      background-color: #3B4455;\n",
              "      fill: #D2E3FC;\n",
              "    }\n",
              "\n",
              "    [theme=dark] .colab-df-convert:hover {\n",
              "      background-color: #434B5C;\n",
              "      box-shadow: 0px 1px 3px 1px rgba(0, 0, 0, 0.15);\n",
              "      filter: drop-shadow(0px 1px 2px rgba(0, 0, 0, 0.3));\n",
              "      fill: #FFFFFF;\n",
              "    }\n",
              "  </style>\n",
              "\n",
              "      <script>\n",
              "        const buttonEl =\n",
              "          document.querySelector('#df-1d141c08-dc46-48dc-8fac-5e792e296a4d button.colab-df-convert');\n",
              "        buttonEl.style.display =\n",
              "          google.colab.kernel.accessAllowed ? 'block' : 'none';\n",
              "\n",
              "        async function convertToInteractive(key) {\n",
              "          const element = document.querySelector('#df-1d141c08-dc46-48dc-8fac-5e792e296a4d');\n",
              "          const dataTable =\n",
              "            await google.colab.kernel.invokeFunction('convertToInteractive',\n",
              "                                                     [key], {});\n",
              "          if (!dataTable) return;\n",
              "\n",
              "          const docLinkHtml = 'Like what you see? Visit the ' +\n",
              "            '<a target=\"_blank\" href=https://colab.research.google.com/notebooks/data_table.ipynb>data table notebook</a>'\n",
              "            + ' to learn more about interactive tables.';\n",
              "          element.innerHTML = '';\n",
              "          dataTable['output_type'] = 'display_data';\n",
              "          await google.colab.output.renderOutput(dataTable, element);\n",
              "          const docLink = document.createElement('div');\n",
              "          docLink.innerHTML = docLinkHtml;\n",
              "          element.appendChild(docLink);\n",
              "        }\n",
              "      </script>\n",
              "    </div>\n",
              "  </div>\n",
              "  "
            ]
          },
          "metadata": {},
          "execution_count": 34
        }
      ]
    },
    {
      "cell_type": "markdown",
      "source": [
        "### Return historic data and predictions"
      ],
      "metadata": {
        "id": "34CjwvMXJKUB"
      },
      "id": "34CjwvMXJKUB"
    },
    {
      "cell_type": "code",
      "source": [
        "data = pd.concat([data, results_df])\n",
        "data"
      ],
      "metadata": {
        "id": "wFxIi6l9JNlX",
        "outputId": "04c95600-e677-40ac-87a2-96c008ee8a17",
        "colab": {
          "base_uri": "https://localhost:8080/",
          "height": 421
        }
      },
      "id": "wFxIi6l9JNlX",
      "execution_count": 35,
      "outputs": [
        {
          "output_type": "execute_result",
          "data": {
            "text/plain": [
              "             timeStamp    values     forecast  prediction_interval_lower  \\\n",
              "0  2017-08-10 01:00:00  6053.458          NaN                        NaN   \n",
              "1  2017-08-10 02:00:00  6714.258          NaN                        NaN   \n",
              "2  2017-08-10 03:00:00  6497.025          NaN                        NaN   \n",
              "3  2017-08-10 04:00:00  6360.583          NaN                        NaN   \n",
              "4  2017-08-10 05:00:00  6333.775          NaN                        NaN   \n",
              "5  2017-08-10 06:00:00  6534.683          NaN                        NaN   \n",
              "0  2017-08-10 06:00:00       NaN  6534.259600                5800.307383   \n",
              "1  2017-08-10 07:00:00       NaN  6961.366294                5923.401114   \n",
              "2  2017-08-10 08:00:00       NaN  7383.259057                6112.016526   \n",
              "3  2017-08-10 09:00:00       NaN  7708.796954                6240.892519   \n",
              "4  2017-08-10 10:00:00       NaN  7897.971519                6256.804468   \n",
              "5  2017-08-10 11:00:00       NaN  7976.711242                6178.902814   \n",
              "\n",
              "   prediction_interval_upper  \n",
              "0                        NaN  \n",
              "1                        NaN  \n",
              "2                        NaN  \n",
              "3                        NaN  \n",
              "4                        NaN  \n",
              "5                        NaN  \n",
              "0                7268.211818  \n",
              "1                7999.331474  \n",
              "2                8654.501588  \n",
              "3                9176.701389  \n",
              "4                9539.138569  \n",
              "5                9774.519670  "
            ],
            "text/html": [
              "\n",
              "  <div id=\"df-e33ec7b7-a59b-4263-b9b2-3eba50934e68\">\n",
              "    <div class=\"colab-df-container\">\n",
              "      <div>\n",
              "<style scoped>\n",
              "    .dataframe tbody tr th:only-of-type {\n",
              "        vertical-align: middle;\n",
              "    }\n",
              "\n",
              "    .dataframe tbody tr th {\n",
              "        vertical-align: top;\n",
              "    }\n",
              "\n",
              "    .dataframe thead th {\n",
              "        text-align: right;\n",
              "    }\n",
              "</style>\n",
              "<table border=\"1\" class=\"dataframe\">\n",
              "  <thead>\n",
              "    <tr style=\"text-align: right;\">\n",
              "      <th></th>\n",
              "      <th>timeStamp</th>\n",
              "      <th>values</th>\n",
              "      <th>forecast</th>\n",
              "      <th>prediction_interval_lower</th>\n",
              "      <th>prediction_interval_upper</th>\n",
              "    </tr>\n",
              "  </thead>\n",
              "  <tbody>\n",
              "    <tr>\n",
              "      <th>0</th>\n",
              "      <td>2017-08-10 01:00:00</td>\n",
              "      <td>6053.458</td>\n",
              "      <td>NaN</td>\n",
              "      <td>NaN</td>\n",
              "      <td>NaN</td>\n",
              "    </tr>\n",
              "    <tr>\n",
              "      <th>1</th>\n",
              "      <td>2017-08-10 02:00:00</td>\n",
              "      <td>6714.258</td>\n",
              "      <td>NaN</td>\n",
              "      <td>NaN</td>\n",
              "      <td>NaN</td>\n",
              "    </tr>\n",
              "    <tr>\n",
              "      <th>2</th>\n",
              "      <td>2017-08-10 03:00:00</td>\n",
              "      <td>6497.025</td>\n",
              "      <td>NaN</td>\n",
              "      <td>NaN</td>\n",
              "      <td>NaN</td>\n",
              "    </tr>\n",
              "    <tr>\n",
              "      <th>3</th>\n",
              "      <td>2017-08-10 04:00:00</td>\n",
              "      <td>6360.583</td>\n",
              "      <td>NaN</td>\n",
              "      <td>NaN</td>\n",
              "      <td>NaN</td>\n",
              "    </tr>\n",
              "    <tr>\n",
              "      <th>4</th>\n",
              "      <td>2017-08-10 05:00:00</td>\n",
              "      <td>6333.775</td>\n",
              "      <td>NaN</td>\n",
              "      <td>NaN</td>\n",
              "      <td>NaN</td>\n",
              "    </tr>\n",
              "    <tr>\n",
              "      <th>5</th>\n",
              "      <td>2017-08-10 06:00:00</td>\n",
              "      <td>6534.683</td>\n",
              "      <td>NaN</td>\n",
              "      <td>NaN</td>\n",
              "      <td>NaN</td>\n",
              "    </tr>\n",
              "    <tr>\n",
              "      <th>0</th>\n",
              "      <td>2017-08-10 06:00:00</td>\n",
              "      <td>NaN</td>\n",
              "      <td>6534.259600</td>\n",
              "      <td>5800.307383</td>\n",
              "      <td>7268.211818</td>\n",
              "    </tr>\n",
              "    <tr>\n",
              "      <th>1</th>\n",
              "      <td>2017-08-10 07:00:00</td>\n",
              "      <td>NaN</td>\n",
              "      <td>6961.366294</td>\n",
              "      <td>5923.401114</td>\n",
              "      <td>7999.331474</td>\n",
              "    </tr>\n",
              "    <tr>\n",
              "      <th>2</th>\n",
              "      <td>2017-08-10 08:00:00</td>\n",
              "      <td>NaN</td>\n",
              "      <td>7383.259057</td>\n",
              "      <td>6112.016526</td>\n",
              "      <td>8654.501588</td>\n",
              "    </tr>\n",
              "    <tr>\n",
              "      <th>3</th>\n",
              "      <td>2017-08-10 09:00:00</td>\n",
              "      <td>NaN</td>\n",
              "      <td>7708.796954</td>\n",
              "      <td>6240.892519</td>\n",
              "      <td>9176.701389</td>\n",
              "    </tr>\n",
              "    <tr>\n",
              "      <th>4</th>\n",
              "      <td>2017-08-10 10:00:00</td>\n",
              "      <td>NaN</td>\n",
              "      <td>7897.971519</td>\n",
              "      <td>6256.804468</td>\n",
              "      <td>9539.138569</td>\n",
              "    </tr>\n",
              "    <tr>\n",
              "      <th>5</th>\n",
              "      <td>2017-08-10 11:00:00</td>\n",
              "      <td>NaN</td>\n",
              "      <td>7976.711242</td>\n",
              "      <td>6178.902814</td>\n",
              "      <td>9774.519670</td>\n",
              "    </tr>\n",
              "  </tbody>\n",
              "</table>\n",
              "</div>\n",
              "      <button class=\"colab-df-convert\" onclick=\"convertToInteractive('df-e33ec7b7-a59b-4263-b9b2-3eba50934e68')\"\n",
              "              title=\"Convert this dataframe to an interactive table.\"\n",
              "              style=\"display:none;\">\n",
              "        \n",
              "  <svg xmlns=\"http://www.w3.org/2000/svg\" height=\"24px\"viewBox=\"0 0 24 24\"\n",
              "       width=\"24px\">\n",
              "    <path d=\"M0 0h24v24H0V0z\" fill=\"none\"/>\n",
              "    <path d=\"M18.56 5.44l.94 2.06.94-2.06 2.06-.94-2.06-.94-.94-2.06-.94 2.06-2.06.94zm-11 1L8.5 8.5l.94-2.06 2.06-.94-2.06-.94L8.5 2.5l-.94 2.06-2.06.94zm10 10l.94 2.06.94-2.06 2.06-.94-2.06-.94-.94-2.06-.94 2.06-2.06.94z\"/><path d=\"M17.41 7.96l-1.37-1.37c-.4-.4-.92-.59-1.43-.59-.52 0-1.04.2-1.43.59L10.3 9.45l-7.72 7.72c-.78.78-.78 2.05 0 2.83L4 21.41c.39.39.9.59 1.41.59.51 0 1.02-.2 1.41-.59l7.78-7.78 2.81-2.81c.8-.78.8-2.07 0-2.86zM5.41 20L4 18.59l7.72-7.72 1.47 1.35L5.41 20z\"/>\n",
              "  </svg>\n",
              "      </button>\n",
              "      \n",
              "  <style>\n",
              "    .colab-df-container {\n",
              "      display:flex;\n",
              "      flex-wrap:wrap;\n",
              "      gap: 12px;\n",
              "    }\n",
              "\n",
              "    .colab-df-convert {\n",
              "      background-color: #E8F0FE;\n",
              "      border: none;\n",
              "      border-radius: 50%;\n",
              "      cursor: pointer;\n",
              "      display: none;\n",
              "      fill: #1967D2;\n",
              "      height: 32px;\n",
              "      padding: 0 0 0 0;\n",
              "      width: 32px;\n",
              "    }\n",
              "\n",
              "    .colab-df-convert:hover {\n",
              "      background-color: #E2EBFA;\n",
              "      box-shadow: 0px 1px 2px rgba(60, 64, 67, 0.3), 0px 1px 3px 1px rgba(60, 64, 67, 0.15);\n",
              "      fill: #174EA6;\n",
              "    }\n",
              "\n",
              "    [theme=dark] .colab-df-convert {\n",
              "      background-color: #3B4455;\n",
              "      fill: #D2E3FC;\n",
              "    }\n",
              "\n",
              "    [theme=dark] .colab-df-convert:hover {\n",
              "      background-color: #434B5C;\n",
              "      box-shadow: 0px 1px 3px 1px rgba(0, 0, 0, 0.15);\n",
              "      filter: drop-shadow(0px 1px 2px rgba(0, 0, 0, 0.3));\n",
              "      fill: #FFFFFF;\n",
              "    }\n",
              "  </style>\n",
              "\n",
              "      <script>\n",
              "        const buttonEl =\n",
              "          document.querySelector('#df-e33ec7b7-a59b-4263-b9b2-3eba50934e68 button.colab-df-convert');\n",
              "        buttonEl.style.display =\n",
              "          google.colab.kernel.accessAllowed ? 'block' : 'none';\n",
              "\n",
              "        async function convertToInteractive(key) {\n",
              "          const element = document.querySelector('#df-e33ec7b7-a59b-4263-b9b2-3eba50934e68');\n",
              "          const dataTable =\n",
              "            await google.colab.kernel.invokeFunction('convertToInteractive',\n",
              "                                                     [key], {});\n",
              "          if (!dataTable) return;\n",
              "\n",
              "          const docLinkHtml = 'Like what you see? Visit the ' +\n",
              "            '<a target=\"_blank\" href=https://colab.research.google.com/notebooks/data_table.ipynb>data table notebook</a>'\n",
              "            + ' to learn more about interactive tables.';\n",
              "          element.innerHTML = '';\n",
              "          dataTable['output_type'] = 'display_data';\n",
              "          await google.colab.output.renderOutput(dataTable, element);\n",
              "          const docLink = document.createElement('div');\n",
              "          docLink.innerHTML = docLinkHtml;\n",
              "          element.appendChild(docLink);\n",
              "        }\n",
              "      </script>\n",
              "    </div>\n",
              "  </div>\n",
              "  "
            ]
          },
          "metadata": {},
          "execution_count": 35
        }
      ]
    },
    {
      "cell_type": "markdown",
      "id": "d6fc2b08-dcea-4e46-b63a-2c88a17cf646",
      "metadata": {
        "papermill": {},
        "tags": [],
        "id": "d6fc2b08-dcea-4e46-b63a-2c88a17cf646"
      },
      "source": [
        "### Display Result"
      ]
    },
    {
      "cell_type": "code",
      "execution_count": 36,
      "id": "adc98968-a65b-4077-b31c-9b25003f77e9",
      "metadata": {
        "papermill": {},
        "tags": [],
        "id": "adc98968-a65b-4077-b31c-9b25003f77e9",
        "outputId": "604f6a0b-0072-49ce-9954-6dc5912625c4",
        "colab": {
          "base_uri": "https://localhost:8080/",
          "height": 664
        }
      },
      "source": [
        "# Plot the original data and the inference data\n",
        "import matplotlib.pyplot as plt\n",
        "\n",
        "timestamps = data[timestamp_col]\n",
        "observed_values = data[\"values\"]\n",
        "forecast_values = data[\"forecast\"]\n",
        "lower = data['prediction_interval_lower']\n",
        "upper = data['prediction_interval_upper']\n",
        "\n",
        "plt.figure(figsize=(10, 6))\n",
        "plt.plot(timestamps, observed_values, label='Observed', linewidth=2)\n",
        "plt.plot(timestamps, forecast_values, label='Forecast', linewidth=2)\n",
        "\n",
        "plt.fill_between(timestamps, lower, upper, color='lightgray', alpha=0.5, label='Prediction Interval')\n",
        "\n",
        "plt.xlabel('Timestamps')\n",
        "plt.ylabel('Values')\n",
        "plt.title('Time Series with Forecast and Prediction Interval')\n",
        "plt.legend()\n",
        "plt.xticks(rotation = 45)\n",
        "plt.show()"
      ],
      "outputs": [
        {
          "output_type": "display_data",
          "data": {
            "text/plain": [
              "<Figure size 1000x600 with 1 Axes>"
            ],
            "image/png": "[encoded data removed]"
          },
          "metadata": {}
        }
      ]
    }
  ],
  "metadata": {
    "kernelspec": {
      "display_name": "Python 3",
      "language": "python",
      "name": "python3"
    },
    "language_info": {
      "codemirror_mode": {
        "name": "ipython",
        "version": 3
      },
      "file_extension": ".py",
      "mimetype": "text/x-python",
      "name": "python",
      "nbconvert_exporter": "python",
      "pygments_lexer": "ipython3",
      "version": "3.9.6"
    },
    "colab": {
      "provenance": []
    }
  },
  "nbformat": 4,
  "nbformat_minor": 5
}