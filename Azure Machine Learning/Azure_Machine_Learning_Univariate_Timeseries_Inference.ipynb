{
 "cells": [
  {
   "cell_type": "markdown",
   "id": "b7cad326-ccf1-45d1-bc0c-1b09b2ad2a42",
   "metadata": {
    "papermill": {},
    "tags": []
   },
   "source": [
    "<img width=\"10%\" alt=\"Naas\" src=\"https://landen.imgix.net/jtci2pxwjczr/assets/5ice39g4.png?w=160\"/>"
   ]
  },
  {
   "cell_type": "markdown",
   "id": "180e9541-2f56-4f0f-8f5f-03d46f19e1c8",
   "metadata": {
    "papermill": {},
    "tags": []
   },
   "source": [
    "# Azure Machine Learning - Univariate Timeseries Inference"
   ]
  },
  {
   "cell_type": "markdown",
   "id": "1d51d4d3-ef80-4aa2-a49b-9e8219f8b448",
   "metadata": {
    "papermill": {},
    "tags": []
   },
   "source": [
    "**Tags:** #azure #machinelearning #univariate #timeseries #inference #ml"
   ]
  },
  {
   "cell_type": "markdown",
   "id": "dc491c61-fe50-41de-86ba-c2184cf66576",
   "metadata": {
    "papermill": {},
    "tags": []
   },
   "source": [
    "**Author:** [Tobias Zwingmann](https://www.linkedin.com/in/tobias-zwingmann/)"
   ]
  },
  {
   "cell_type": "markdown",
   "id": "201c1c2f-e99f-4377-b761-7ca5b04b083a",
   "metadata": {
    "papermill": {},
    "tags": []
   },
   "source": [
    "**Description:** This notebook provides an example of how to use Azure Machine Learning to perform univariate timeseries inference. It is useful for organizations that need to analyze and predict future trends in their data."
   ]
  },
  {
   "cell_type": "markdown",
   "id": "4ed1aea6-d58b-4b36-bfe0-aae720668926",
   "metadata": {
    "papermill": {},
    "tags": []
   },
   "source": [
    "**References:**\n- [Azure Machine Learning Documentation](https://docs.microsoft.com/en-us/azure/machine-learning/)\n- [Univariate Timeseries Inference](https://en.wikipedia.org/wiki/Time_series#Univariate_time_series_models)"
   ]
  },
  {
   "cell_type": "markdown",
   "id": "0a00fcc5-b63e-4e1e-81de-f0a98ed07bdc",
   "metadata": {
    "papermill": {},
    "tags": []
   },
   "source": [
    "## Input"
   ]
  },
  {
   "cell_type": "markdown",
   "id": "8523405b-da48-4c13-b9a2-9bc0ed22315c",
   "metadata": {
    "papermill": {},
    "tags": []
   },
   "source": [
    "### Import libraries"
   ]
  },
  {
   "cell_type": "code",
   "execution_count": null,
   "id": "91aaa71c-f002-4d8e-9955-b4f978b29ac7",
   "metadata": {
    "papermill": {},
    "tags": []
   },
   "source": "import pandas as pd\nimport numpy as np\nimport matplotlib.pyplot as plt\nimport seaborn as sns",
   "outputs": []
  },
  {
   "cell_type": "markdown",
   "id": "4e18e9db-9910-4cf8-813d-864031f9359e",
   "metadata": {
    "papermill": {},
    "tags": []
   },
   "source": [
    "### Setup Variables\n- `data`: a pandas dataframe containing the timeseries data\n- `window_size`: the size of the window to use for inference"
   ]
  },
  {
   "cell_type": "code",
   "execution_count": null,
   "id": "9aed812d-8523-422c-b7fd-d599683ab4a7",
   "metadata": {
    "papermill": {},
    "tags": []
   },
   "source": "data = pd.DataFrame(np.random.randint(0, 100, size=(100, 1)), columns=list(\"A\"))\nwindow_size = 10",
   "outputs": []
  },
  {
   "cell_type": "markdown",
   "id": "de31aad5-d078-4ac7-9689-8eb11b2d1b76",
   "metadata": {
    "papermill": {},
    "tags": []
   },
   "source": [
    "## Model"
   ]
  },
  {
   "cell_type": "markdown",
   "id": "a28a0b75-a8dd-4c9e-8c88-a2564deb5023",
   "metadata": {
    "papermill": {},
    "tags": []
   },
   "source": [
    "### Perform Univariate Timeseries Inference"
   ]
  },
  {
   "cell_type": "markdown",
   "id": "b7827df0-6a58-48c5-9316-5557c234149b",
   "metadata": {
    "papermill": {},
    "tags": []
   },
   "source": [
    "Using the window size specified, perform univariate timeseries inference on the data."
   ]
  },
  {
   "cell_type": "code",
   "execution_count": null,
   "id": "caf1f882-ec33-48af-8f60-4c501374d974",
   "metadata": {
    "papermill": {},
    "tags": []
   },
   "source": "# Perform univariate timeseries inference\ninference_data = data.rolling(window_size).mean()",
   "outputs": []
  },
  {
   "cell_type": "markdown",
   "id": "63120f62-d514-41fb-9a6c-5fd32e482941",
   "metadata": {
    "papermill": {},
    "tags": []
   },
   "source": [
    "## Output"
   ]
  },
  {
   "cell_type": "markdown",
   "id": "d6fc2b08-dcea-4e46-b63a-2c88a17cf646",
   "metadata": {
    "papermill": {},
    "tags": []
   },
   "source": [
    "### Display Result"
   ]
  },
  {
   "cell_type": "code",
   "execution_count": null,
   "id": "adc98968-a65b-4077-b31c-9b25003f77e9",
   "metadata": {
    "papermill": {},
    "tags": []
   },
   "source": "# Plot the original data and the inference data\nplt.plot(data, label=\"Original Data\")\nplt.plot(inference_data, label=\"Inference Data\")\nplt.legend()\nplt.show()",
   "outputs": []
  },
  {
   "cell_type": "markdown",
   "id": "62b05145-4ca4-4fe2-876b-11ddfc7b8418",
   "metadata": {
    "papermill": {},
    "tags": []
   },
   "source": [
    " "
   ]
  }
 ],
 "metadata": {
  "kernelspec": {
   "display_name": "Python 3",
   "language": "python",
   "name": "python3"
  },
  "language_info": {
   "codemirror_mode": {
    "name": "ipython",
    "version": 3
   },
   "file_extension": ".py",
   "mimetype": "text/x-python",
   "name": "python",
   "nbconvert_exporter": "python",
   "pygments_lexer": "ipython3",
   "version": "3.9.6"
  },
  "widgets": {
   "application/vnd.jupyter.widget-state+json": {
    "state": {},
    "version_major": 2,
    "version_minor": 0
   }
  }
 },
 "nbformat": 4,
 "nbformat_minor": 5
}