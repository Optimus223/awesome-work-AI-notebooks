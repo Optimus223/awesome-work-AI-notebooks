{
 "cells": [
  {
   "cell_type": "markdown",
   "id": "4f259ab0-d2ba-48bf-8974-a4213cd19d0f",
   "metadata": {
    "papermill": {},
    "tags": []
   },
   "source": [
    "<img width=\"10%\" alt=\"Naas\" src=\"https://landen.imgix.net/jtci2pxwjczr/assets/5ice39g4.png?w=160\"/>"
   ]
  },
  {
   "cell_type": "markdown",
   "id": "a934428e-1e3b-41a2-85d1-59806c2cc42d",
   "metadata": {
    "papermill": {},
    "tags": []
   },
   "source": [
    "# LlamaIndex - Integrate with Neo4j"
   ]
  },
  {
   "cell_type": "markdown",
   "id": "af41a9b9-06f7-46cb-baa6-6b45956e2492",
   "metadata": {
    "papermill": {},
    "tags": []
   },
   "source": [
    "**Tags:** #llamaindex #neo4j #integration #graphstore #request #response"
   ]
  },
  {
   "cell_type": "markdown",
   "id": "be16c2bc-5c21-47d1-a78e-1a5b51fea065",
   "metadata": {
    "papermill": {},
    "tags": []
   },
   "source": [
    "**Author:** [Firstname Lastname]()"
   ]
  },
  {
   "cell_type": "markdown",
   "id": "8f81429e-1c1a-401c-8456-bcd2812d7277",
   "metadata": {
    "papermill": {},
    "tags": []
   },
   "source": [
    "**Last update:** 2023-10-08 (Created: 2023-10-08)"
   ]
  },
  {
   "cell_type": "markdown",
   "id": "a12e4b96-ac57-4e66-83af-76f4f72f4213",
   "metadata": {
    "papermill": {},
    "tags": []
   },
   "source": [
    "**Description:** This notebook demonstrates how to use Llamaindex and Neo4j as graph store to perform request and response model for the custom data. It is usefull for organizations to quickly integrate Neo4j with Llamaindex."
   ]
  },
  {
   "cell_type": "markdown",
   "id": "eb76efa2-6db0-4b8b-8065-74723b2ecffe",
   "metadata": {
    "papermill": {},
    "tags": []
   },
   "source": [
    "**References:**\n- [Llamaindex Documentation](https://docs.llamaindex.ai/en/stable/examples/index_structs/knowledge_graph/Neo4jKGIndexDemo.html)\n- [Neo4j Documentation](https://neo4j.com/docs/)"
   ]
  },
  {
   "cell_type": "markdown",
   "id": "00263711-51eb-4e16-bcec-97d1c303f5d8",
   "metadata": {
    "papermill": {},
    "tags": []
   },
   "source": [
    "## Input"
   ]
  },
  {
   "cell_type": "markdown",
   "id": "0779560c-1df7-40a2-8dcb-ea0bb03aa963",
   "metadata": {
    "papermill": {},
    "tags": []
   },
   "source": [
    "### Import libraries"
   ]
  },
  {
   "cell_type": "code",
   "execution_count": null,
   "id": "547886eb-f870-4b13-919e-b8736c5631b5",
   "metadata": {
    "papermill": {},
    "tags": []
   },
   "source": "import llamaindex\nimport neo4j",
   "outputs": []
  },
  {
   "cell_type": "markdown",
   "id": "f25d1634-3d65-439d-b7f9-f6d3f4fe9bd8",
   "metadata": {
    "papermill": {},
    "tags": []
   },
   "source": [
    "### Setup variables\n- `neo4j_url`: URL of the Neo4j instance\n- `neo4j_username`: Username of the Neo4j instance\n- `neo4j_password`: Password of the Neo4j instance\n- `neo4j_graph`: Graph name of the Neo4j instance"
   ]
  },
  {
   "cell_type": "code",
   "execution_count": null,
   "id": "0ac2ad64-70c4-4c60-ad40-233666a0f618",
   "metadata": {
    "papermill": {},
    "tags": []
   },
   "source": "neo4j_url = \"http://localhost:7474\"\nneo4j_username = \"neo4j\"\nneo4j_password = \"password\"\nneo4j_graph = \"graph\"",
   "outputs": []
  },
  {
   "cell_type": "markdown",
   "id": "c64696e5-5b1d-4910-8316-6e83b68be7ec",
   "metadata": {
    "papermill": {},
    "tags": []
   },
   "source": [
    "## Model"
   ]
  },
  {
   "cell_type": "markdown",
   "id": "6bf916ef-5226-4f5e-bad4-a120accd85b8",
   "metadata": {
    "papermill": {},
    "tags": []
   },
   "source": [
    "### Create Neo4j instance"
   ]
  },
  {
   "cell_type": "markdown",
   "id": "3f12da2f-6471-42a8-8dda-a2b181e2df96",
   "metadata": {
    "papermill": {},
    "tags": []
   },
   "source": [
    "Long description of the function without break"
   ]
  },
  {
   "cell_type": "code",
   "execution_count": null,
   "id": "fce4f2d9-7d36-4f26-b5a4-444a3c24fd38",
   "metadata": {
    "papermill": {},
    "tags": []
   },
   "source": "# Create Neo4j instance\nneo4j_instance = neo4j.GraphDatabase.driver(\n    neo4j_url, auth=(neo4j_username, neo4j_password)\n)",
   "outputs": []
  },
  {
   "cell_type": "markdown",
   "id": "e7f50dec-241b-41bf-bc79-f5bfe6f577fe",
   "metadata": {
    "papermill": {},
    "tags": []
   },
   "source": [
    "### Create Llamaindex instance"
   ]
  },
  {
   "cell_type": "markdown",
   "id": "100f49f3-8c75-45df-ae99-7448c09f1919",
   "metadata": {
    "papermill": {},
    "tags": []
   },
   "source": [
    "Long description of the function without break"
   ]
  },
  {
   "cell_type": "code",
   "execution_count": null,
   "id": "1b9e0fb0-55b1-40ef-a1f7-b57d7fb9db62",
   "metadata": {
    "papermill": {},
    "tags": []
   },
   "source": "# Create Llamaindex instance\nllamaindex_instance = llamaindex.LlamaIndex(neo4j_instance, neo4j_graph)",
   "outputs": []
  },
  {
   "cell_type": "markdown",
   "id": "e5907070-0e84-43b9-86aa-2542d22edb90",
   "metadata": {
    "papermill": {},
    "tags": []
   },
   "source": [
    "## Output"
   ]
  },
  {
   "cell_type": "markdown",
   "id": "31ecde86-9879-4c25-8df3-a7227d9c57c7",
   "metadata": {
    "papermill": {},
    "tags": []
   },
   "source": [
    "### Display result"
   ]
  },
  {
   "cell_type": "code",
   "execution_count": null,
   "id": "799585a2-3e21-4391-99a6-161f9efecc46",
   "metadata": {
    "papermill": {},
    "tags": []
   },
   "source": "# Display result\nprint(llamaindex_instance)",
   "outputs": []
  }
 ],
 "metadata": {
  "kernelspec": {
   "display_name": "Python 3",
   "language": "python",
   "name": "python3"
  },
  "language_info": {
   "codemirror_mode": {
    "name": "ipython",
    "version": 3
   },
   "file_extension": ".py",
   "mimetype": "text/x-python",
   "name": "python",
   "nbconvert_exporter": "python",
   "pygments_lexer": "ipython3",
   "version": "3.9.6"
  },
  "widgets": {
   "application/vnd.jupyter.widget-state+json": {
    "state": {},
    "version_major": 2,
    "version_minor": 0
   }
  }
 },
 "nbformat": 4,
 "nbformat_minor": 5
}