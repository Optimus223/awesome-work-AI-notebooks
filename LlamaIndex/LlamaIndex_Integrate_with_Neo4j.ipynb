{
  "cells": [
    {
      "cell_type": "markdown",
      "id": "4f259ab0-d2ba-48bf-8974-a4213cd19d0f",
      "metadata": {
        "id": "4f259ab0-d2ba-48bf-8974-a4213cd19d0f",
        "papermill": {},
        "tags": []
      },
      "source": [
        "<img width=\"10%\" alt=\"Naas\" src=\"https://landen.imgix.net/jtci2pxwjczr/assets/5ice39g4.png?w=160\"/>"
      ]
    },
    {
      "cell_type": "markdown",
      "id": "a934428e-1e3b-41a2-85d1-59806c2cc42d",
      "metadata": {
        "id": "a934428e-1e3b-41a2-85d1-59806c2cc42d",
        "papermill": {},
        "tags": []
      },
      "source": [
        "# LlamaIndex - Integrate with Neo4j\n",
        "\n",
        "<a href=\"https://app.naas.ai/user-redirect/naas/downloader?url=https://raw.githubusercontent.com/jupyter-naas/awesome-notebooks/master/LlamaIndex/LlamaIndex_Integrate_with_Neo4j.ipynb\" target=\"_parent\"><img src=\"https://naasai-public.s3.eu-west-3.amazonaws.com/Open_in_Naas_Lab.svg\"/>\n",
        "</a><br><br><a href=\"https://bit.ly/3JyWIk6\">Give Feedback</a> | <a href=\"https://github.com/jupyter-naas/awesome-notebooks/issues/new?assignees=&labels=bug&template=bug_report.md&title=LlamaIndex+-+Integrate+with+Neo4j:+Error+short+description\">Bug report</a>\n",
        "\n"
      ]
    },
    {
      "cell_type": "markdown",
      "id": "af41a9b9-06f7-46cb-baa6-6b45956e2492",
      "metadata": {
        "id": "af41a9b9-06f7-46cb-baa6-6b45956e2492",
        "papermill": {},
        "tags": []
      },
      "source": [
        "**Tags:** #llamaindex #neo4j #integration #graphstore #request #response"
      ]
    },
    {
      "cell_type": "markdown",
      "id": "be16c2bc-5c21-47d1-a78e-1a5b51fea065",
      "metadata": {
        "id": "be16c2bc-5c21-47d1-a78e-1a5b51fea065",
        "papermill": {},
        "tags": []
      },
      "source": [
        "**Author:** [Mahimai Raja J](http://github.com/mahimairaja)"
      ]
    },
    {
      "cell_type": "markdown",
      "id": "8f81429e-1c1a-401c-8456-bcd2812d7277",
      "metadata": {
        "id": "8f81429e-1c1a-401c-8456-bcd2812d7277",
        "papermill": {},
        "tags": []
      },
      "source": [
        "**Last update:** 2023-10-15 (Created: 2023-10-08)"
      ]
    },
    {
      "cell_type": "markdown",
      "id": "a12e4b96-ac57-4e66-83af-76f4f72f4213",
      "metadata": {
        "id": "a12e4b96-ac57-4e66-83af-76f4f72f4213",
        "papermill": {},
        "tags": []
      },
      "source": [
        "**Description:** This notebook demonstrates how to use Llamaindex and Neo4j as graph store to perform request and response model for the custom data. It is usefull for organizations to quickly integrate Neo4j with Llamaindex."
      ]
    },
    {
      "cell_type": "markdown",
      "id": "eb76efa2-6db0-4b8b-8065-74723b2ecffe",
      "metadata": {
        "id": "eb76efa2-6db0-4b8b-8065-74723b2ecffe",
        "papermill": {},
        "tags": []
      },
      "source": [
        "**References:**\n",
        "- [Llamaindex Documentation](https://docs.llamaindex.ai/en/stable/examples/index_structs/knowledge_graph/Neo4jKGIndexDemo.html)\n",
        "- [Neo4j Documentation](https://neo4j.com/docs/)"
      ]
    },
    {
      "cell_type": "markdown",
      "id": "4168fa1c",
      "metadata": {},
      "source": [
        "![img](assets/rag.jpg)"
      ]
    },
    {
      "cell_type": "markdown",
      "id": "00263711-51eb-4e16-bcec-97d1c303f5d8",
      "metadata": {
        "id": "00263711-51eb-4e16-bcec-97d1c303f5d8",
        "papermill": {},
        "tags": []
      },
      "source": [
        "## Input\n",
        "\n",
        "> Exlore other [data connectors](https://docs.llamaindex.ai/en/stable/core_modules/data_modules/connector/modules.html)"
      ]
    },
    {
      "cell_type": "code",
      "execution_count": null,
      "id": "e04b5dd8",
      "metadata": {
        "id": "e04b5dd8"
      },
      "outputs": [],
      "source": [
        "data_path = \"data\""
      ]
    },
    {
      "cell_type": "markdown",
      "id": "0779560c-1df7-40a2-8dcb-ea0bb03aa963",
      "metadata": {
        "id": "0779560c-1df7-40a2-8dcb-ea0bb03aa963",
        "papermill": {},
        "tags": []
      },
      "source": [
        "### Import libraries"
      ]
    },
    {
      "cell_type": "code",
      "execution_count": null,
      "id": "xYtbzHy46vgd",
      "metadata": {
        "id": "xYtbzHy46vgd"
      },
      "outputs": [],
      "source": [
        "try:\n",
        "    import llama_index\n",
        "except ModuleNotFoundError:\n",
        "    !pip install -q llama-index\n",
        "    import llama_index\n",
        "try:\n",
        "    import neo4j\n",
        "except ModuleNotFoundError:\n",
        "    !pip install neo4j --user\n",
        "    import neo4j\n",
        "\n",
        "import os\n",
        "import logging\n",
        "import sys\n",
        "from llama_index.llms import OpenAI\n",
        "from llama_index import ServiceContext\n",
        "from llama_index import (\n",
        "    KnowledgeGraphIndex,\n",
        "    LLMPredictor,\n",
        "    ServiceContext,\n",
        "    SimpleDirectoryReader,\n",
        ")\n",
        "from llama_index.storage.storage_context import StorageContext\n",
        "from llama_index.graph_stores import Neo4jGraphStore\n",
        "\n",
        "\n",
        "from llama_index.llms import OpenAI\n",
        "from IPython.display import Markdown, display\n",
        "\n",
        "logging.basicConfig(stream=sys.stdout, level=logging.INFO)"
      ]
    },
    {
      "cell_type": "markdown",
      "id": "f25d1634-3d65-439d-b7f9-f6d3f4fe9bd8",
      "metadata": {
        "id": "f25d1634-3d65-439d-b7f9-f6d3f4fe9bd8",
        "papermill": {},
        "tags": []
      },
      "source": [
        "### Setup variables\n",
        "- `neo4j_url`: URL of the Neo4j instance\n",
        "- `neo4j_username`: Username of the Neo4j instance\n",
        "- `neo4j_password`: Password of the Neo4j instance\n",
        "- `neo4j_graph`: Graph name of the Neo4j instance\n",
        "\n",
        "> Create your neo4j [AuroDS instance](https://console.neo4j.io/?product=aura-ds) or [Sandbox](https://sandbox.neo4j.com/)"
      ]
    },
    {
      "cell_type": "code",
      "execution_count": null,
      "id": "0ac2ad64-70c4-4c60-ad40-233666a0f618",
      "metadata": {
        "id": "0ac2ad64-70c4-4c60-ad40-233666a0f618",
        "papermill": {},
        "tags": []
      },
      "outputs": [],
      "source": [
        "neo4j_url = \"http://localhost:7474\"\n",
        "neo4j_username = \"neo4j\"\n",
        "neo4j_password = \"password\"\n",
        "neo4j_graph = \"graph\""
      ]
    },
    {
      "cell_type": "markdown",
      "id": "c64696e5-5b1d-4910-8316-6e83b68be7ec",
      "metadata": {
        "id": "c64696e5-5b1d-4910-8316-6e83b68be7ec",
        "papermill": {},
        "tags": []
      },
      "source": [
        "## Model"
      ]
    },
    {
      "cell_type": "markdown",
      "id": "yrJUs5LtA6KB",
      "metadata": {
        "id": "yrJUs5LtA6KB"
      },
      "source": [
        "### Setup environ"
      ]
    },
    {
      "cell_type": "code",
      "execution_count": null,
      "id": "jpbb-EfXA5ZH",
      "metadata": {
        "id": "jpbb-EfXA5ZH"
      },
      "outputs": [],
      "source": [
        "os.environ[\"OPENAI_API_KEY\"] = \"API_KEY_HERE\"\n",
        "\n",
        "llm = OpenAI(temperature=0, model=\"gpt-3.5-turbo\")\n",
        "service_context = ServiceContext.from_defaults(llm=llm, chunk_size=512)\n",
        "\n",
        "documents = SimpleDirectoryReader(\n",
        "    data_path\n",
        ").load_data()"
      ]
    },
    {
      "cell_type": "markdown",
      "id": "6bf916ef-5226-4f5e-bad4-a120accd85b8",
      "metadata": {
        "id": "6bf916ef-5226-4f5e-bad4-a120accd85b8",
        "papermill": {},
        "tags": []
      },
      "source": [
        "### Create Neo4j instance"
      ]
    },
    {
      "cell_type": "markdown",
      "id": "3f12da2f-6471-42a8-8dda-a2b181e2df96",
      "metadata": {
        "id": "3f12da2f-6471-42a8-8dda-a2b181e2df96",
        "papermill": {},
        "tags": []
      },
      "source": [
        "Building the Knowledge Graph using `Neo4jGraphStore`"
      ]
    },
    {
      "cell_type": "code",
      "execution_count": null,
      "id": "fce4f2d9-7d36-4f26-b5a4-444a3c24fd38",
      "metadata": {
        "id": "fce4f2d9-7d36-4f26-b5a4-444a3c24fd38",
        "papermill": {},
        "tags": []
      },
      "outputs": [],
      "source": [
        "graph_store = Neo4jGraphStore(\n",
        "    username=neo4j_username,\n",
        "    password=neo4j_password,\n",
        "    url=neo4j_url,\n",
        "    database=neo4j_graph,\n",
        ")"
      ]
    },
    {
      "cell_type": "markdown",
      "id": "e7f50dec-241b-41bf-bc79-f5bfe6f577fe",
      "metadata": {
        "id": "e7f50dec-241b-41bf-bc79-f5bfe6f577fe",
        "papermill": {},
        "tags": []
      },
      "source": [
        "### Create Llamaindex instance"
      ]
    },
    {
      "cell_type": "markdown",
      "id": "100f49f3-8c75-45df-ae99-7448c09f1919",
      "metadata": {
        "id": "100f49f3-8c75-45df-ae99-7448c09f1919",
        "papermill": {},
        "tags": []
      },
      "source": [
        "Instantiate Neo4jGraph `Knowledge Graph Indexes`"
      ]
    },
    {
      "cell_type": "markdown",
      "id": "442a4e0f",
      "metadata": {},
      "source": [
        "![img](assets/indexing.jpg)"
      ]
    },
    {
      "cell_type": "code",
      "execution_count": null,
      "id": "1b9e0fb0-55b1-40ef-a1f7-b57d7fb9db62",
      "metadata": {
        "id": "1b9e0fb0-55b1-40ef-a1f7-b57d7fb9db62",
        "papermill": {},
        "tags": []
      },
      "outputs": [],
      "source": [
        "storage_context = StorageContext.from_defaults(graph_store=graph_store)\n",
        "\n",
        "# NOTE: can take a while!\n",
        "index = KnowledgeGraphIndex.from_documents(\n",
        "    documents,\n",
        "    storage_context=storage_context,\n",
        "    max_triplets_per_chunk=2,\n",
        "    service_context=service_context,\n",
        ")"
      ]
    },
    {
      "cell_type": "code",
      "execution_count": null,
      "id": "pKzsntky8tbK",
      "metadata": {
        "id": "pKzsntky8tbK"
      },
      "outputs": [],
      "source": [
        "input_query = input(\"Enter the query to perform retrieval\\n\")"
      ]
    },
    {
      "cell_type": "code",
      "execution_count": null,
      "id": "GQehGxmL8pxZ",
      "metadata": {
        "id": "GQehGxmL8pxZ"
      },
      "outputs": [],
      "source": [
        "query_engine = index.as_query_engine(include_text=True, response_mode=\"tree_summarize\")\n",
        "\n",
        "response = query_engine.query(input_query)"
      ]
    },
    {
      "cell_type": "markdown",
      "id": "e5907070-0e84-43b9-86aa-2542d22edb90",
      "metadata": {
        "id": "e5907070-0e84-43b9-86aa-2542d22edb90",
        "papermill": {},
        "tags": []
      },
      "source": [
        "## Output"
      ]
    },
    {
      "cell_type": "markdown",
      "id": "31ecde86-9879-4c25-8df3-a7227d9c57c7",
      "metadata": {
        "id": "31ecde86-9879-4c25-8df3-a7227d9c57c7",
        "papermill": {},
        "tags": []
      },
      "source": [
        "### Display result"
      ]
    },
    {
      "cell_type": "code",
      "execution_count": null,
      "id": "799585a2-3e21-4391-99a6-161f9efecc46",
      "metadata": {
        "id": "799585a2-3e21-4391-99a6-161f9efecc46",
        "papermill": {},
        "tags": []
      },
      "outputs": [],
      "source": [
        "display(Markdown(f\"<b>{response}</b>\"))"
      ]
    }
  ],
  "metadata": {
    "colab": {
      "provenance": []
    },
    "kernelspec": {
      "display_name": "Python 3",
      "name": "python3"
    },
    "language_info": {
      "codemirror_mode": {
        "name": "ipython",
        "version": 3
      },
      "file_extension": ".py",
      "mimetype": "text/x-python",
      "name": "python",
      "nbconvert_exporter": "python",
      "pygments_lexer": "ipython3",
      "version": "3.7.0"
    }
  },
  "nbformat": 4,
  "nbformat_minor": 5
}
