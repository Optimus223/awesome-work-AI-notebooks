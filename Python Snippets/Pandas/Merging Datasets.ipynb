{
 "cells": [
  {
   "cell_type": "markdown",
   "id": "municipal-japan",
   "metadata": {
    "papermill": {},
    "tags": []
   },
   "source": [
    "# Pandas - Merging Dataframes\n",
    "<a href=\"https://app.naas.ai/user-redirect/naas/downloader?url=https://raw.githubusercontent.com/jupyter-naas/awesome-notebooks/master/Python%20Snippets/Pandas/Merging%20Datasets.ipynb\" target=\"_parent\"><img src=\"https://img.shields.io/badge/-Open%20in%20Naas-success?labelColor=000000&logo=data:image/svg+xml;base64,PD94bWwgdmVyc2lvbj0iMS4wIiBlbmNvZGluZz0iVVRGLTgiPz4KPHN2ZyB3aWR0aD0iMTAyNHB4IiBoZWlnaHQ9IjEwMjRweCIgdmlld0JveD0iMCAwIDEwMjQgMTAyNCIgeG1sbnM9Imh0dHA6Ly93d3cudzMub3JnLzIwMDAvc3ZnIiB4bWxuczp4bGluaz0iaHR0cDovL3d3dy53My5vcmcvMTk5OS94bGluayIgdmVyc2lvbj0iMS4xIj4KIDwhLS0gR2VuZXJhdGVkIGJ5IFBpeGVsbWF0b3IgUHJvIDIuMC41IC0tPgogPGRlZnM+CiAgPHRleHQgaWQ9InN0cmluZyIgdHJhbnNmb3JtPSJtYXRyaXgoMS4wIDAuMCAwLjAgMS4wIDIyOC4wIDU0LjUpIiBmb250LWZhbWlseT0iQ29tZm9ydGFhLVJlZ3VsYXIsIENvbWZvcnRhYSIgZm9udC1zaXplPSI4MDAiIHRleHQtZGVjb3JhdGlvbj0ibm9uZSIgZmlsbD0iI2ZmZmZmZiIgeD0iMS4xOTk5OTk5OTk5OTk5ODg2IiB5PSI3MDUuMCI+bjwvdGV4dD4KIDwvZGVmcz4KIDx1c2UgaWQ9Im4iIHhsaW5rOmhyZWY9IiNzdHJpbmciLz4KPC9zdmc+Cg==\"/></a>"
   ]
  },
  {
   "cell_type": "markdown",
   "id": "legendary-mileage",
   "metadata": {
    "papermill": {},
    "tags": []
   },
   "source": [
    "## Input"
   ]
  },
  {
   "cell_type": "markdown",
   "id": "individual-storm",
   "metadata": {},
   "source": [
    "### Import Library"
   ]
  },
  {
   "cell_type": "code",
   "execution_count": null,
   "id": "pressed-garlic",
   "metadata": {
    "papermill": {},
    "tags": []
   },
   "outputs": [],
   "source": [
    "import pandas as pd\n",
    "import numpy as np"
   ]
  },
  {
   "cell_type": "markdown",
   "id": "unable-defense",
   "metadata": {},
   "source": [
    "### Create dataframes to be merged"
   ]
  },
  {
   "cell_type": "markdown",
   "id": "ultimate-christmas",
   "metadata": {},
   "source": [
    "#### Dataframe 1"
   ]
  },
  {
   "cell_type": "code",
   "execution_count": null,
   "id": "brave-marsh",
   "metadata": {
    "papermill": {},
    "tags": []
   },
   "outputs": [],
   "source": [
    "# Creating values to be used as datasets\n",
    "dict1 = {\n",
    "    \"student_id\": [1,2,3,4,5,6,7,8,9,10],\n",
    "    \"student_name\": [\"Peter\",\"Dolly\",\"Maggie\",\"David\",\"Isabelle\",\"Harry\",\"Akin\",\"Abbey\",\"Victoria\",\"Sam\"],\n",
    "    \"student_course\": np.random.choice([\"Biology\",\"Physics\",\"Chemistry\"], size=10)\n",
    "}"
   ]
  },
  {
   "cell_type": "code",
   "execution_count": null,
   "id": "chicken-steering",
   "metadata": {
    "tags": []
   },
   "outputs": [],
   "source": [
    "# Create dataframe\n",
    "df_1 = pd.DataFrame(dict1)\n",
    "df_1"
   ]
  },
  {
   "cell_type": "markdown",
   "id": "historical-original",
   "metadata": {},
   "source": [
    "#### Dataframe 2"
   ]
  },
  {
   "cell_type": "code",
   "execution_count": null,
   "id": "extended-lighting",
   "metadata": {
    "papermill": {},
    "tags": []
   },
   "outputs": [],
   "source": [
    "# Creating values to be used as datasets\n",
    "dict2 = {\n",
    "    \"student_id\": np.random.choice([1,2,3,4,5,6,7,8,9,10], size=100),\n",
    "    \"student_grade\": np.random.choice([\"A\",\"B\",\"C\",\"D\",\"E\",\"F\"], size=100),\n",
    "    \"professors\": np.random.choice([\"Mark Levinson\",\"Angela Marge\",\"Bonnie James\",\"Klaus Michealson\"], size=100),\n",
    "}"
   ]
  },
  {
   "cell_type": "code",
   "execution_count": null,
   "id": "african-papua",
   "metadata": {
    "papermill": {},
    "tags": []
   },
   "outputs": [],
   "source": [
    "# Create dataframe\n",
    "df_2 = pd.DataFrame(dict2)  # OR Data2=pd.read_csv(filepath)\n",
    "df_2"
   ]
  },
  {
   "cell_type": "markdown",
   "id": "stuffed-mortgage",
   "metadata": {
    "papermill": {},
    "tags": []
   },
   "source": [
    "## Model / Output\n",
    "- pd.merge: ACTS LIKE AN SQL INNER JOIN AND JOINS BASED ON SIMILAR COLUMNS OR INDEX UNLESS SPECIFIED TO JOIN DIFFERENTLY<br />\n",
    "- pd.concat: COMBINES TWO OR MORE DATAFRAMES ROW-WISE OR COLUMN-WISE.IT IS USEFUL FOR JOINING TABLE ROW-WISE AND COLUMN-WISE<br />"
   ]
  },
  {
   "cell_type": "markdown",
   "id": "widespread-lottery",
   "metadata": {},
   "source": [
    "### Using pd.merge"
   ]
  },
  {
   "cell_type": "markdown",
   "id": "suspected-product",
   "metadata": {
    "papermill": {},
    "tags": []
   },
   "source": [
    "#### Merging dataframes with same values with same column names"
   ]
  },
  {
   "cell_type": "code",
   "execution_count": null,
   "id": "egyptian-armenia",
   "metadata": {
    "papermill": {},
    "tags": []
   },
   "outputs": [],
   "source": [
    "# Using pd.merge(left, right) acts like sql inner join and only joins on the common column they have. It tries finding everything from the right and append to left\n",
    "# student_id is common to both so it has been merged into one and included all the other df_2 columns to df_1 table\n",
    "df = pd.merge(df_1, df_2) \n",
    "df"
   ]
  },
  {
   "cell_type": "code",
   "execution_count": null,
   "id": "brutal-paraguay",
   "metadata": {
    "tags": []
   },
   "outputs": [],
   "source": [
    "# you can also specified the comon column using parameters \"on\"\n",
    "df = pd.merge(df_1, df_2, on=\"student_id\") \n",
    "df"
   ]
  },
  {
   "cell_type": "markdown",
   "id": "ordered-tuner",
   "metadata": {
    "papermill": {},
    "tags": []
   },
   "source": [
    "#### Specifying what kind of Joins you want since merging does inner joins by default"
   ]
  },
  {
   "cell_type": "markdown",
   "id": "adjusted-conversion",
   "metadata": {},
   "source": [
    "- \"inner\" > Inner Join: INCLUDING ROWS OF FIRST AND SECOND ONLY IF THE VALUE IS THE SAME IN BOTH DATAFRAMES<br />\n",
    "- \"outer\" > Outer Join: IT JOINS ALL THE ROWS OF FIRST AND SECOND DATAFRAMES TOGETHER AND CREATE NaN VALUE IF A ROW DOESN'T HAVE A VALUE AFTER JOINING<br />\n",
    "- \"left\" > Left Join: INCLUDES ALL THE ROWS IN THE FIRST DATAFRAME AND ADDS THE COLUMNS OF SECOND DATAFRAME BUT IT WON'T INCLUDE THE ROWS OF THE SECOND DATAFRAME IF IT'S NOT THE SAME WITH THE FIRST<br />\n",
    "- \"right\" > Right Join: INCLUDES ALL THE ROWS OF SECOND DATAFRAME AND THE COLUMNS OF THE FIRST DATAFRAME BUT WON'T INCLUDE THE ROWS OF THE FIRST DATAFRAME IF IT'S NOT SIMILAR TO THE SECOND DATAFRAME"
   ]
  },
  {
   "cell_type": "code",
   "execution_count": null,
   "id": "optional-throat",
   "metadata": {
    "papermill": {},
    "tags": []
   },
   "outputs": [],
   "source": [
    "# df = pd.merge(df_1, df_2, on=\"student_id\", how='inner')\n",
    "# df = pd.merge(df_1, df_2, on=\"student_id\", how='outer')\n",
    "# df = pd.merge(df_1, df_2, on=\"student_id\", how='right')\n",
    "df = pd.merge(df_1, df_2, on=\"student_id\", how='left')\n",
    "df"
   ]
  },
  {
   "cell_type": "markdown",
   "id": "guilty-mystery",
   "metadata": {
    "papermill": {},
    "tags": []
   },
   "source": [
    "#### Merging dataframes with same values but different column names"
   ]
  },
  {
   "cell_type": "code",
   "execution_count": null,
   "id": "elementary-raise",
   "metadata": {
    "papermill": {},
    "tags": []
   },
   "outputs": [],
   "source": [
    "df_1 = df_1.rename(columns={\"student_id\": \"id\"}) # Renamed student_id to id so as to give this example\n",
    "df_1"
   ]
  },
  {
   "cell_type": "code",
   "execution_count": null,
   "id": "precious-title",
   "metadata": {
    "papermill": {},
    "tags": []
   },
   "outputs": [],
   "source": [
    "# We add two more parameters : \n",
    "# - Left_on means merge using this column name.\n",
    "# - Right_on means merge using this column name\n",
    "# i.e merge both id and student_id together\n",
    "# since they don't have same name, they will create different columns on the new table\n",
    "df = pd.merge(df_1, df_2, left_on=\"id\", right_on=\"student_id\")\n",
    "df"
   ]
  },
  {
   "cell_type": "markdown",
   "id": "operational-hawaii",
   "metadata": {
    "papermill": {},
    "tags": []
   },
   "source": [
    "#### Merging with the index of the first dataframe"
   ]
  },
  {
   "cell_type": "code",
   "execution_count": null,
   "id": "governing-advantage",
   "metadata": {
    "papermill": {},
    "tags": []
   },
   "outputs": [],
   "source": [
    "df_1.set_index(\"id\") # this will make id the new index for df_1"
   ]
  },
  {
   "cell_type": "code",
   "execution_count": null,
   "id": "matched-clearance",
   "metadata": {
    "papermill": {},
    "tags": []
   },
   "outputs": [],
   "source": [
    "df = pd.merge(df_1, df_2, left_index=True, right_on=\"student_id\")#the new index will be from index of df_2 where they joined\n",
    "df"
   ]
  },
  {
   "cell_type": "markdown",
   "id": "stock-marble",
   "metadata": {
    "papermill": {},
    "tags": []
   },
   "source": [
    "#### Merging both table on their index i.e two indexes"
   ]
  },
  {
   "cell_type": "code",
   "execution_count": null,
   "id": "productive-immune",
   "metadata": {
    "papermill": {},
    "tags": []
   },
   "outputs": [],
   "source": [
    "df_2.set_index(\"student_id\") # making student_id the index of Data2"
   ]
  },
  {
   "cell_type": "code",
   "execution_count": null,
   "id": "front-recording",
   "metadata": {
    "papermill": {},
    "tags": []
   },
   "outputs": [],
   "source": [
    "df = pd.merge(df_1, df_2, left_index=True, right_index=True) # new index will be from the left index unlike when joining only one index\n",
    "df"
   ]
  },
  {
   "cell_type": "markdown",
   "id": "south-wedding",
   "metadata": {
    "papermill": {},
    "tags": []
   },
   "source": [
    "### Using pd.concat"
   ]
  },
  {
   "cell_type": "markdown",
   "id": "distinct-pharmaceutical",
   "metadata": {},
   "source": [
    "#### Joining row-wise"
   ]
  },
  {
   "cell_type": "code",
   "execution_count": null,
   "id": "connected-fitness",
   "metadata": {
    "papermill": {},
    "tags": []
   },
   "outputs": [],
   "source": [
    "df = pd.concat([df_1, df_2], axis=0)\n",
    "df"
   ]
  },
  {
   "cell_type": "markdown",
   "id": "moving-radical",
   "metadata": {},
   "source": [
    "#### Joining Column-wise"
   ]
  },
  {
   "cell_type": "code",
   "execution_count": null,
   "id": "vocational-speed",
   "metadata": {
    "papermill": {},
    "tags": []
   },
   "outputs": [],
   "source": [
    "df = pd.concat([df_1, df_2], axis=1)\n",
    "df"
   ]
  },
  {
   "cell_type": "markdown",
   "id": "reduced-bandwidth",
   "metadata": {},
   "source": [
    "#### To know where each dataset starts and ends in the new table"
   ]
  },
  {
   "cell_type": "code",
   "execution_count": null,
   "id": "civic-meditation",
   "metadata": {
    "papermill": {},
    "tags": []
   },
   "outputs": [],
   "source": [
    "df = pd.concat([df_1, df_2], keys=[\"df_1\", \"df_2\"]) \n",
    "df"
   ]
  }
 ],
 "metadata": {
  "kernelspec": {
   "display_name": "Python 3",
   "language": "python",
   "name": "python3"
  },
  "language_info": {
   "codemirror_mode": {
    "name": "ipython",
    "version": 3
   },
   "file_extension": ".py",
   "mimetype": "text/x-python",
   "name": "python",
   "nbconvert_exporter": "python",
   "pygments_lexer": "ipython3",
   "version": "3.8.8"
  },
  "papermill": {
   "default_parameters": {},
   "environment_variables": {},
   "parameters": {},
   "version": "2.3.3"
  }
 },
 "nbformat": 4,
 "nbformat_minor": 5
}
