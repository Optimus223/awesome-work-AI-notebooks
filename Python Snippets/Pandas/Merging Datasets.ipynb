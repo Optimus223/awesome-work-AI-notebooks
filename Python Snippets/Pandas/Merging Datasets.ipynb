{
 "cells": [
  {
   "cell_type": "markdown",
   "id": "tight-sympathy",
   "metadata": {
    "papermill": {},
    "tags": []
   },
   "source": [
    "# Pandas - Merging Datasets\n",
    "<a href=\"https://app.naas.ai/user-redirect/naas/downloader?url=https://raw.githubusercontent.com/jupyter-naas/awesome-notebooks/master/Python%20Snippets/Pandas/Merging%20Datasets.ipynb\" target=\"_parent\"><img src=\"https://img.shields.io/badge/-Open%20in%20Naas-success?labelColor=000000&logo=data:image/svg+xml;base64,PD94bWwgdmVyc2lvbj0iMS4wIiBlbmNvZGluZz0iVVRGLTgiPz4KPHN2ZyB3aWR0aD0iMTAyNHB4IiBoZWlnaHQ9IjEwMjRweCIgdmlld0JveD0iMCAwIDEwMjQgMTAyNCIgeG1sbnM9Imh0dHA6Ly93d3cudzMub3JnLzIwMDAvc3ZnIiB4bWxuczp4bGluaz0iaHR0cDovL3d3dy53My5vcmcvMTk5OS94bGluayIgdmVyc2lvbj0iMS4xIj4KIDwhLS0gR2VuZXJhdGVkIGJ5IFBpeGVsbWF0b3IgUHJvIDIuMC41IC0tPgogPGRlZnM+CiAgPHRleHQgaWQ9InN0cmluZyIgdHJhbnNmb3JtPSJtYXRyaXgoMS4wIDAuMCAwLjAgMS4wIDIyOC4wIDU0LjUpIiBmb250LWZhbWlseT0iQ29tZm9ydGFhLVJlZ3VsYXIsIENvbWZvcnRhYSIgZm9udC1zaXplPSI4MDAiIHRleHQtZGVjb3JhdGlvbj0ibm9uZSIgZmlsbD0iI2ZmZmZmZiIgeD0iMS4xOTk5OTk5OTk5OTk5ODg2IiB5PSI3MDUuMCI+bjwvdGV4dD4KIDwvZGVmcz4KIDx1c2UgaWQ9Im4iIHhsaW5rOmhyZWY9IiNzdHJpbmciLz4KPC9zdmc+Cg==\"/></a>"
   ]
  },
  {
   "cell_type": "markdown",
   "id": "lovely-bubble",
   "metadata": {
    "papermill": {},
    "tags": []
   },
   "source": [
    "## Input"
   ]
  },
  {
   "cell_type": "code",
   "execution_count": null,
   "id": "neither-makeup",
   "metadata": {
    "papermill": {},
    "tags": []
   },
   "outputs": [],
   "source": [
    "import pandas as pd\n",
    "import numpy as np"
   ]
  },
  {
   "cell_type": "code",
   "execution_count": null,
   "id": "canadian-prototype",
   "metadata": {
    "papermill": {},
    "tags": []
   },
   "outputs": [],
   "source": [
    "# Creating values to be used as datasets\n",
    "dict1={\"student_id\":[1,2,3,4,5,6,7,8,9,10],\n",
    "       \"student_name\":[\"Peter\",\"Dolly\",\"Maggie\",\"David\",\"Isabelle\",\"Harry\",\"Akin\",\"Abbey\",\"Victoria\",\"Sam\"],\n",
    "       \"student_course\":np.random.choice([\"Biology\",\"Physics\",\"Chemistry\"],size=10)}"
   ]
  },
  {
   "cell_type": "code",
   "execution_count": null,
   "id": "motivated-choice",
   "metadata": {
    "papermill": {},
    "tags": []
   },
   "outputs": [],
   "source": [
    "dict2={\"student_grade\":np.random.choice([\"A\",\"B\",\"C\",\"D\",\"E\",\"F\"],size=100),\n",
    "       \"professors\":np.random.choice([\"Mark Levinson\",\"Angela Marge\",\"Bonnie James\",\"Klaus Michealson\"],size=100),\n",
    "       \"student_id\":np.random.choice([1,2,3,4,5,6,7,8,9,10],size=100)}\n"
   ]
  },
  {
   "cell_type": "code",
   "execution_count": null,
   "id": "foster-grammar",
   "metadata": {
    "papermill": {},
    "tags": []
   },
   "outputs": [],
   "source": [
    "Data1=pd.DataFrame(dict1)  # OR Data1=pd.read_csv(filepath)\n",
    "Data2=pd.DataFrame(dict2)  # OR Data2=pd.read_csv(filepath)"
   ]
  },
  {
   "cell_type": "code",
   "execution_count": null,
   "id": "cardiovascular-tribune",
   "metadata": {
    "papermill": {},
    "tags": []
   },
   "outputs": [],
   "source": [
    "print(Data1)\n",
    "print(Data1.shape)"
   ]
  },
  {
   "cell_type": "code",
   "execution_count": null,
   "id": "abroad-theory",
   "metadata": {
    "papermill": {},
    "tags": []
   },
   "outputs": [],
   "source": [
    "print(Data2)\n",
    "print(Data2.shape)"
   ]
  },
  {
   "cell_type": "markdown",
   "id": "executive-legend",
   "metadata": {
    "papermill": {},
    "tags": []
   },
   "source": [
    "## Model\n",
    "To merge two or more dataframes together, pd.merge and pd.concat is the go-to method\n",
    "\n",
    "#### Parameters:<br />\n",
    "* Data1: FIRST DATAFRAME<br />\n",
    "* Data2: SECOND DATAFRAME<br />\n",
    "* pd.merge: ACTS LIKE AN SQL INNER JOIN AND JOINS BASED ON SIMILAR COLUMNS OR INDEX UNLESS SPECIFIED TO JOIN DIFFERENTLY<br />\n",
    "* left: THE DATA THAT WE WANT TO APPEND SECOND DATA ON\n",
    "* right: THE DATA THAT IS TO BE APPENDED\n",
    "* pd.concat: COMBINES TWO OR MORE DATAFRAMES ROW-WISE OR COLUMN-WISE<br />\n",
    "* filepath: THE PATHWAY LINK TO WHERE YOUR FILES ARE STORED<br />\n",
    "* Inner Join: INCLUDING ROWS OF FIRST AND SECOND ONLY IF THE VALUE IS THE SAME IN BOTH DATAFRAMES<br />\n",
    "* Outer Join: IT JOINS ALL THE ROWS OF FIRST AND SECOND DATAFRAMES TOGETHER AND CREATE NaN VALUE IF A ROW DOESN'T HAVE A VALUE AFTER JOINING<br />\n",
    "* Left Join: INCLUDES ALL THE ROWS IN THE FIRST DATAFRAME AND ADDS THE COLUMNS OF SECOND DATAFRAME BUT IT WON'T INCLUDE THE ROWS OF THE SECOND DATAFRAME IF IT'S NOT THE SAME WITH THE FIRST<br />\n",
    "* Right Join: INCLUDES ALL THE ROWS OF SECOND DATAFRAME AND THE COLUMNS OF THE FIRST DATAFRAME BUT WON'T INCLUDE THE ROWS OF THE FIRST DATAFRAME IF IT'S NOT SIMILAR TO THE SECOND DATAFRAME"
   ]
  },
  {
   "cell_type": "markdown",
   "id": "chubby-people",
   "metadata": {
    "papermill": {},
    "tags": []
   },
   "source": [
    "## Output of merging"
   ]
  },
  {
   "cell_type": "markdown",
   "id": "acting-consortium",
   "metadata": {
    "papermill": {},
    "tags": []
   },
   "source": [
    "#### Using pd.merge(left,right) acts like sql inner join and only joins on the common column they have they have.It  tries finding everything from the right  and append to left"
   ]
  },
  {
   "cell_type": "code",
   "execution_count": null,
   "id": "alpine-preserve",
   "metadata": {
    "papermill": {},
    "tags": []
   },
   "outputs": [],
   "source": [
    "pd.merge(Data1,Data2) \n",
    "#student_id is common to both so it has been merged into one and included all the other Data2 columns to Data1 table"
   ]
  },
  {
   "cell_type": "markdown",
   "id": "instructional-officer",
   "metadata": {
    "papermill": {},
    "tags": []
   },
   "source": [
    "#### Merging dataframes with same values but different column names"
   ]
  },
  {
   "cell_type": "code",
   "execution_count": null,
   "id": "asian-verification",
   "metadata": {
    "papermill": {},
    "tags": []
   },
   "outputs": [],
   "source": [
    "Data1=Data1.rename(columns={\"student_id\":\"id\"}) # Renamed student_id to id so as to give this example\n",
    "Data1"
   ]
  },
  {
   "cell_type": "code",
   "execution_count": null,
   "id": "medium-inside",
   "metadata": {
    "papermill": {},
    "tags": []
   },
   "outputs": [],
   "source": [
    "pd.merge(Data1,Data2,left_on=\"id\",right_on=\"student_id\")\n",
    "# we add two more parameters. Left_on means merge using this column name. Right_on means merge using this column name\n",
    "# i.e merge both id and student_id together\n",
    "# since they don't have same name, they will create different columns on the new table"
   ]
  },
  {
   "cell_type": "markdown",
   "id": "wired-vinyl",
   "metadata": {
    "papermill": {},
    "tags": []
   },
   "source": [
    "### Merging with the index of the first dataframe"
   ]
  },
  {
   "cell_type": "code",
   "execution_count": null,
   "id": "following-composite",
   "metadata": {
    "papermill": {},
    "tags": []
   },
   "outputs": [],
   "source": [
    "Data1.set_index(\"id\") # this will make id the new index for Data 1"
   ]
  },
  {
   "cell_type": "code",
   "execution_count": null,
   "id": "fifth-purpose",
   "metadata": {
    "papermill": {},
    "tags": []
   },
   "outputs": [],
   "source": [
    "pd.merge(Data1,Data2,left_index=True,right_on=\"student_id\")#the new index will be from index of Data2 where they joined"
   ]
  },
  {
   "cell_type": "markdown",
   "id": "cooperative-election",
   "metadata": {
    "papermill": {},
    "tags": []
   },
   "source": [
    "### Merging both table on their index i.e two indexes"
   ]
  },
  {
   "cell_type": "code",
   "execution_count": null,
   "id": "universal-disability",
   "metadata": {
    "papermill": {},
    "tags": []
   },
   "outputs": [],
   "source": [
    "Data2.set_index(\"student_id\")\n",
    "# making student_id the index of Data2"
   ]
  },
  {
   "cell_type": "code",
   "execution_count": null,
   "id": "therapeutic-quarterly",
   "metadata": {
    "papermill": {},
    "tags": []
   },
   "outputs": [],
   "source": [
    "pd.merge(Data1,Data2,left_index=True,right_index=True)\n",
    "# new index will be from the left index unlike when joining only one index\n"
   ]
  },
  {
   "cell_type": "markdown",
   "id": "current-fiction",
   "metadata": {
    "papermill": {},
    "tags": []
   },
   "source": [
    "### Specifying what kind of Joins you want since merging does inner joins by default"
   ]
  },
  {
   "cell_type": "code",
   "execution_count": null,
   "id": "empirical-timothy",
   "metadata": {
    "papermill": {},
    "tags": []
   },
   "outputs": [],
   "source": [
    "Data1.merge(Data2, how='inner')\n",
    "Data1.merge(Data2, how='outer')\n",
    "Data1.merge(Data2, how='right')\n",
    "Data1.merge(Data2, how='left')\n"
   ]
  },
  {
   "cell_type": "markdown",
   "id": "representative-sierra",
   "metadata": {
    "papermill": {},
    "tags": []
   },
   "source": [
    "##### CONCATENATING IS USEFUL FOR JOINING TABLE ROW-WISE AND COLUMN-WISE"
   ]
  },
  {
   "cell_type": "code",
   "execution_count": null,
   "id": "running-covering",
   "metadata": {
    "papermill": {},
    "tags": []
   },
   "outputs": [],
   "source": [
    "pd.concat([Data1,Data2])# Joining row-wise"
   ]
  },
  {
   "cell_type": "code",
   "execution_count": null,
   "id": "perfect-point",
   "metadata": {
    "papermill": {},
    "tags": []
   },
   "outputs": [],
   "source": [
    "pd.concat([Data1,Data2],axis=1)# Joining Column-wise"
   ]
  },
  {
   "cell_type": "code",
   "execution_count": null,
   "id": "mental-mother",
   "metadata": {
    "papermill": {},
    "tags": []
   },
   "outputs": [],
   "source": [
    "pd.concat([Data1,Data2],keys=[\"Data1\",\"Data2\"]) # To know where each dataset starts and ends in the new table"
   ]
  }
 ],
 "metadata": {
  "kernelspec": {
   "display_name": "Python 3",
   "language": "python",
   "name": "python3"
  },
  "language_info": {
   "codemirror_mode": {
    "name": "ipython",
    "version": 3
   },
   "file_extension": ".py",
   "mimetype": "text/x-python",
   "name": "python",
   "nbconvert_exporter": "python",
   "pygments_lexer": "ipython3",
   "version": "3.8.8"
  },
  "papermill": {
   "default_parameters": {},
   "environment_variables": {},
   "parameters": {},
   "version": "2.3.3"
  }
 },
 "nbformat": 4,
 "nbformat_minor": 5
}