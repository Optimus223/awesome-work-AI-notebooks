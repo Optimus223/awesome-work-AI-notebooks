{
 "cells": [
  {
   "cell_type": "markdown",
   "id": "veterinary-pleasure",
   "metadata": {
    "papermill": {},
    "tags": []
   },
   "source": [
    "# NASA - Artic sea ice\n",
    "<a href=\"https://app.naas.ai/user-redirect/naas/downloader?url=https://raw.githubusercontent.com/jupyter-naas/awesome-notebooks/master/NASA/NASA_Artic_sea_ice.ipynb\" target=\"_parent\"><img src=\"https://img.shields.io/badge/-Open%20in%20Naas-success?labelColor=000000&logo=data:image/svg+xml;base64,PD94bWwgdmVyc2lvbj0iMS4wIiBlbmNvZGluZz0iVVRGLTgiPz4KPHN2ZyB3aWR0aD0iMTAyNHB4IiBoZWlnaHQ9IjEwMjRweCIgdmlld0JveD0iMCAwIDEwMjQgMTAyNCIgeG1sbnM9Imh0dHA6Ly93d3cudzMub3JnLzIwMDAvc3ZnIiB4bWxuczp4bGluaz0iaHR0cDovL3d3dy53My5vcmcvMTk5OS94bGluayIgdmVyc2lvbj0iMS4xIj4KIDwhLS0gR2VuZXJhdGVkIGJ5IFBpeGVsbWF0b3IgUHJvIDIuMC41IC0tPgogPGRlZnM+CiAgPHRleHQgaWQ9InN0cmluZyIgdHJhbnNmb3JtPSJtYXRyaXgoMS4wIDAuMCAwLjAgMS4wIDIyOC4wIDU0LjUpIiBmb250LWZhbWlseT0iQ29tZm9ydGFhLVJlZ3VsYXIsIENvbWZvcnRhYSIgZm9udC1zaXplPSI4MDAiIHRleHQtZGVjb3JhdGlvbj0ibm9uZSIgZmlsbD0iI2ZmZmZmZiIgeD0iMS4xOTk5OTk5OTk5OTk5ODg2IiB5PSI3MDUuMCI+bjwvdGV4dD4KIDwvZGVmcz4KIDx1c2UgaWQ9Im4iIHhsaW5rOmhyZWY9IiNzdHJpbmciLz4KPC9zdmc+Cg==\"/></a>"
   ]
  },
  {
   "cell_type": "markdown",
   "id": "fc44a5d0-50db-4c8c-967a-3670dea9db8d",
   "metadata": {},
   "source": [
    "**Tags:** #naas #opendata"
   ]
  },
  {
   "cell_type": "markdown",
   "id": "traditional-assist",
   "metadata": {
    "papermill": {},
    "tags": []
   },
   "source": [
    "AVERAGE SEPTEMBER MINIMUM EXTENT<br>\n",
    "Data source: Satellite observations. Credit: NSIDC/NASA\n",
    "\n",
    "**What is Arctic sea ice extent?**<br>\n",
    "Sea ice extent is a measure of the surface area of the ocean covered by sea ice. Increases in air and ocean temperatures decrease sea ice extent; in turn, the resulting darker ocean surface absorbs more solar radiation and increases Arctic warming.<br>\n",
    "Date Range: 1979 - 2020."
   ]
  },
  {
   "cell_type": "markdown",
   "id": "contained-burlington",
   "metadata": {
    "papermill": {},
    "tags": []
   },
   "source": [
    "## Get data from website\n",
    "https://climate.nasa.gov/ => click on Artic Sea Ice"
   ]
  },
  {
   "cell_type": "markdown",
   "id": "4b08853c-1a82-4e12-9ac6-39bebbd80d0f",
   "metadata": {},
   "source": [
    "## Input"
   ]
  },
  {
   "cell_type": "markdown",
   "id": "cf6fdfd1-8b34-466c-9d42-42d568ca8d85",
   "metadata": {},
   "source": [
    "### Import libraries"
   ]
  },
  {
   "cell_type": "code",
   "execution_count": null,
   "id": "77fb59f5-b8e1-44db-9b41-72ec0d378173",
   "metadata": {},
   "outputs": [],
   "source": [
    "import pandas\n",
    "import plotly.express as px"
   ]
  },
  {
   "cell_type": "markdown",
   "id": "98e4a20f-f69f-41ff-abdb-b56d454fe63c",
   "metadata": {},
   "source": [
    "## Model"
   ]
  },
  {
   "cell_type": "markdown",
   "id": "e9eb1dfb-7ccc-4cad-ba67-89ea299cafb7",
   "metadata": {},
   "source": [
    "### Read the csv"
   ]
  },
  {
   "cell_type": "code",
   "execution_count": 1,
   "id": "obvious-forge",
   "metadata": {
    "execution": {
     "iopub.execute_input": "2021-05-10T08:30:59.127161Z",
     "iopub.status.busy": "2021-05-10T08:30:59.126772Z",
     "iopub.status.idle": "2021-05-10T08:31:00.074994Z",
     "shell.execute_reply": "2021-05-10T08:31:00.074344Z",
     "shell.execute_reply.started": "2021-05-10T08:30:59.127059Z"
    },
    "papermill": {},
    "tags": []
   },
   "outputs": [],
   "source": [
    "df = pandas.read_csv(\"https://climate.nasa.gov/system/internal_resources/details/original/2264_N_09_extent_v3.0.csv\")\n",
    "\n",
    "df.head(5)#read the first 5 lines"
   ]
  },
  {
   "cell_type": "markdown",
   "id": "14d732ae-e702-4255-b62d-f2632546dabe",
   "metadata": {},
   "source": [
    "## Ouput"
   ]
  },
  {
   "cell_type": "markdown",
   "id": "random-restoration",
   "metadata": {
    "papermill": {},
    "tags": []
   },
   "source": [
    "### Create simple graph"
   ]
  },
  {
   "cell_type": "code",
   "execution_count": 3,
   "id": "informative-terry",
   "metadata": {
    "execution": {
     "iopub.execute_input": "2021-05-10T08:35:21.619447Z",
     "iopub.status.busy": "2021-05-10T08:35:21.619155Z",
     "iopub.status.idle": "2021-05-10T08:35:29.542973Z",
     "shell.execute_reply": "2021-05-10T08:35:29.542041Z",
     "shell.execute_reply.started": "2021-05-10T08:35:21.619416Z"
    },
    "papermill": {},
    "tags": []
   },
   "outputs": [],
   "source": [
    "fig = px.line(df, x=\"year\", y=\" extent\")\n",
    "fig.show()"
   ]
  }
 ],
 "metadata": {
  "kernelspec": {
   "display_name": "Python 3",
   "language": "python",
   "name": "python3"
  },
  "language_info": {
   "codemirror_mode": {
    "name": "ipython",
    "version": 3
   },
   "file_extension": ".py",
   "mimetype": "text/x-python",
   "name": "python",
   "nbconvert_exporter": "python",
   "pygments_lexer": "ipython3",
   "version": "3.8.8"
  },
  "papermill": {
   "default_parameters": {},
   "environment_variables": {},
   "parameters": {},
   "version": "2.3.3"
  },
  "widgets": {
   "application/vnd.jupyter.widget-state+json": {
    "state": {},
    "version_major": 2,
    "version_minor": 0
   }
  }
 },
 "nbformat": 4,
 "nbformat_minor": 5
}
