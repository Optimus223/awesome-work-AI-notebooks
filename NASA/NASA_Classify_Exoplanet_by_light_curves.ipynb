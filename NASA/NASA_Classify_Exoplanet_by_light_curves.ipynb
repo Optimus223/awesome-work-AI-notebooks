{
 "cells": [
  {
   "cell_type": "markdown",
   "id": "naas-logo",
   "metadata": {
    "papermill": {},
    "tags": [
     "naas"
    ]
   },
   "source": [
    "<img width=\"10%\" alt=\"Naas\" src=\"https://landen.imgix.net/jtci2pxwjczr/assets/5ice39g4.png?w=160\"/>"
   ]
  },
  {
   "cell_type": "markdown",
   "id": "veterinary-pleasure",
   "metadata": {
    "papermill": {},
    "tags": []
   },
   "source": [
    "# NASA - Classify Exoplanet by Light Curves \n",
    "<a href=\"https://app.naas.ai/user-redirect/naas/downloader?url=https://raw.githubusercontent.com/jupyter-naas/awesome-notebooks/master/NASA/NASA_Artic_sea_ice.ipynb\" target=\"_parent\"><img src=\"https://naasai-public.s3.eu-west-3.amazonaws.com/Open_in_Naas_Lab.svg\"/></a><br><br><a href=\"https://github.com/jupyter-naas/awesome-notebooks/issues/new?assignees=&labels=&template=template-request.md&title=Tool+-+Action+of+the+notebook+\">Template request</a> | <a href=\"https://github.com/jupyter-naas/awesome-notebooks/issues/new?assignees=&labels=bug&template=bug_report.md&title=NASA+-+Artic+sea+ice:+Error+short+description\">Bug report</a> | <a href=\"https://app.naas.ai/user-redirect/naas/downloader?url=https://raw.githubusercontent.com/jupyter-naas/awesome-notebooks/master/Naas/Naas_Start_data_product.ipynb\" target=\"_parent\">Generate Data Product</a>"
   ]
  },
  {
   "cell_type": "markdown",
   "id": "fc44a5d0-50db-4c8c-967a-3670dea9db8d",
   "metadata": {
    "papermill": {},
    "tags": []
   },
   "source": [
    "**Tags:** #nasa #naas #opendata #analytics #astronomy #html #png #operations #image #pylab"
   ]
  },
  {
   "cell_type": "markdown",
   "id": "naas-author",
   "metadata": {
    "papermill": {},
    "tags": [
     "naas"
    ]
   },
   "source": [
    "**Author:** [Mardiat-Iman](https://www.linkedin.com/in/mardiat-iman-ibrahim-imam-726027262)"
   ]
  },
  {
   "cell_type": "markdown",
   "id": "traditional-assist",
   "metadata": {
    "papermill": {},
    "tags": []
   },
   "source": [
    "**Description:** This notebook is classifying Exoplanet in a given data set using light curves and flux (brightness). An exoplanet is any planet beyond our solar system. Most orbit other stars, but free-floating exoplanets, called rogue planets, orbit the galactic center and are untethered to any star.<br>\n"
   ]
  },
  {
   "cell_type": "markdown",
   "id": "contained-burlington",
   "metadata": {
    "papermill": {},
    "tags": []
   },
   "source": [
    "**References:**\n",
    "- Data source: Satellite observations. Credit: /NASA\n",
    "- [Classify Exoplanet by Light Curves](https://www.kaggle.com/keplersmachines/kepler-labelled-time-series-data)"
   ]
  },
  {
   "cell_type": "markdown",
   "id": "4b08853c-1a82-4e12-9ac6-39bebbd80d0f",
   "metadata": {
    "papermill": {},
    "tags": []
   },
   "source": [
    "## Input"
   ]
  },
  {
   "cell_type": "markdown",
   "id": "cf6fdfd1-8b34-466c-9d42-42d568ca8d85",
   "metadata": {
    "papermill": {},
    "tags": []
   },
   "source": [
    "### Import libraries"
   ]
  },
  {
   "cell_type": "code",
   "execution_count": 5,
   "id": "77fb59f5-b8e1-44db-9b41-72ec0d378173",
   "metadata": {
    "execution": {
     "iopub.execute_input": "2023-07-07T08:29:42.916833Z",
     "iopub.status.busy": "2023-07-07T08:29:42.916599Z",
     "iopub.status.idle": "2023-07-07T08:29:42.922132Z",
     "shell.execute_reply": "2023-07-07T08:29:42.921473Z",
     "shell.execute_reply.started": "2023-07-07T08:29:42.916809Z"
    },
    "papermill": {},
    "tags": []
   },
   "outputs": [
    {
     "name": "stdout",
     "output_type": "stream",
     "text": [
      "Populating the interactive namespace from numpy and matplotlib\n"
     ]
    }
   ],
   "source": [
    "import pandas as pd\n",
    "import numpy as np\n",
    "%pylab inline\n",
    "import naas"
   ]
  },
  {
   "cell_type": "markdown",
   "id": "14eaf079-e76b-4ed0-ab35-c81ee575acea",
   "metadata": {
    "papermill": {},
    "tags": []
   },
   "source": [
    "### Setup Variables\n",
    "- `flux_data`: source data in CSV. The \"FLUX\" column represents the brightness of the star"
   ]
  },
  {
   "cell_type": "code",
   "execution_count": 6,
   "id": "ad58558e-2edb-422c-a469-21219cbdd5b4",
   "metadata": {
    "execution": {
     "iopub.execute_input": "2023-07-07T08:29:43.197155Z",
     "iopub.status.busy": "2023-07-07T08:29:43.196925Z",
     "iopub.status.idle": "2023-07-07T08:29:43.201287Z",
     "shell.execute_reply": "2023-07-07T08:29:43.200694Z",
     "shell.execute_reply.started": "2023-07-07T08:29:43.197131Z"
    },
    "papermill": {},
    "tags": []
   },
   "outputs": [],
   "source": [
    "flux_data = 'https://storage.googleapis.com/inspirit-ai-data-bucket-1/Data/AI%20Scholars/Sessions%206%20-%2010%20(Projects)/Project%20-%20Planet%20Hunters/exoTest.csv'"
   ]
  },
  {
   "cell_type": "markdown",
   "id": "98e4a20f-f69f-41ff-abdb-b56d454fe63c",
   "metadata": {
    "papermill": {},
    "tags": []
   },
   "source": [
    "## Model"
   ]
  },
  {
   "cell_type": "markdown",
   "id": "e9eb1dfb-7ccc-4cad-ba67-89ea299cafb7",
   "metadata": {
    "papermill": {},
    "tags": []
   },
   "source": [
    "### Get Data\n",
    "- column LABEL is to identify if it's an exoplanet or not (1 is exoplanet and 2...)\n",
    "- column FLUX.X represents the brighnest"
   ]
  },
  {
   "cell_type": "code",
   "execution_count": 7,
   "id": "b717651c-3f2f-48c7-a66b-73bc418ca581",
   "metadata": {
    "execution": {
     "iopub.execute_input": "2023-07-07T08:29:43.668950Z",
     "iopub.status.busy": "2023-07-07T08:29:43.668586Z",
     "iopub.status.idle": "2023-07-07T08:29:45.606715Z",
     "shell.execute_reply": "2023-07-07T08:29:45.606093Z",
     "shell.execute_reply.started": "2023-07-07T08:29:43.668912Z"
    },
    "papermill": {},
    "tags": []
   },
   "outputs": [
    {
     "name": "stdout",
     "output_type": "stream",
     "text": [
      "Row fetched: 570\n"
     ]
    },
    {
     "data": {
      "text/html": [
       "<div>\n",
       "<style scoped>\n",
       "    .dataframe tbody tr th:only-of-type {\n",
       "        vertical-align: middle;\n",
       "    }\n",
       "\n",
       "    .dataframe tbody tr th {\n",
       "        vertical-align: top;\n",
       "    }\n",
       "\n",
       "    .dataframe thead th {\n",
       "        text-align: right;\n",
       "    }\n",
       "</style>\n",
       "<table border=\"1\" class=\"dataframe\">\n",
       "  <thead>\n",
       "    <tr style=\"text-align: right;\">\n",
       "      <th></th>\n",
       "      <th>LABEL</th>\n",
       "      <th>FLUX.1</th>\n",
       "      <th>FLUX.2</th>\n",
       "      <th>FLUX.3</th>\n",
       "      <th>FLUX.4</th>\n",
       "      <th>FLUX.5</th>\n",
       "      <th>FLUX.6</th>\n",
       "      <th>FLUX.7</th>\n",
       "      <th>FLUX.8</th>\n",
       "      <th>FLUX.9</th>\n",
       "      <th>...</th>\n",
       "      <th>FLUX.3188</th>\n",
       "      <th>FLUX.3189</th>\n",
       "      <th>FLUX.3190</th>\n",
       "      <th>FLUX.3191</th>\n",
       "      <th>FLUX.3192</th>\n",
       "      <th>FLUX.3193</th>\n",
       "      <th>FLUX.3194</th>\n",
       "      <th>FLUX.3195</th>\n",
       "      <th>FLUX.3196</th>\n",
       "      <th>FLUX.3197</th>\n",
       "    </tr>\n",
       "  </thead>\n",
       "  <tbody>\n",
       "    <tr>\n",
       "      <th>558</th>\n",
       "      <td>1</td>\n",
       "      <td>53.91</td>\n",
       "      <td>46.59</td>\n",
       "      <td>50.30</td>\n",
       "      <td>32.19</td>\n",
       "      <td>48.64</td>\n",
       "      <td>-21.02</td>\n",
       "      <td>5.50</td>\n",
       "      <td>-18.97</td>\n",
       "      <td>15.73</td>\n",
       "      <td>...</td>\n",
       "      <td>-2.33</td>\n",
       "      <td>-13.05</td>\n",
       "      <td>-77.58</td>\n",
       "      <td>-135.28</td>\n",
       "      <td>-167.74</td>\n",
       "      <td>-175.05</td>\n",
       "      <td>6.15</td>\n",
       "      <td>20.34</td>\n",
       "      <td>-11.39</td>\n",
       "      <td>-20.99</td>\n",
       "    </tr>\n",
       "    <tr>\n",
       "      <th>559</th>\n",
       "      <td>1</td>\n",
       "      <td>-6.30</td>\n",
       "      <td>-2.86</td>\n",
       "      <td>0.95</td>\n",
       "      <td>-6.69</td>\n",
       "      <td>-2.61</td>\n",
       "      <td>-4.65</td>\n",
       "      <td>-7.27</td>\n",
       "      <td>-0.96</td>\n",
       "      <td>0.26</td>\n",
       "      <td>...</td>\n",
       "      <td>-4.28</td>\n",
       "      <td>-4.68</td>\n",
       "      <td>-3.62</td>\n",
       "      <td>-1.01</td>\n",
       "      <td>4.56</td>\n",
       "      <td>-2.73</td>\n",
       "      <td>-15.31</td>\n",
       "      <td>-9.48</td>\n",
       "      <td>-8.23</td>\n",
       "      <td>-4.95</td>\n",
       "    </tr>\n",
       "    <tr>\n",
       "      <th>560</th>\n",
       "      <td>1</td>\n",
       "      <td>5.66</td>\n",
       "      <td>7.83</td>\n",
       "      <td>-4.39</td>\n",
       "      <td>-0.62</td>\n",
       "      <td>-5.23</td>\n",
       "      <td>0.34</td>\n",
       "      <td>-13.64</td>\n",
       "      <td>-11.26</td>\n",
       "      <td>-9.96</td>\n",
       "      <td>...</td>\n",
       "      <td>15.15</td>\n",
       "      <td>24.89</td>\n",
       "      <td>23.41</td>\n",
       "      <td>26.33</td>\n",
       "      <td>44.37</td>\n",
       "      <td>46.15</td>\n",
       "      <td>37.28</td>\n",
       "      <td>45.60</td>\n",
       "      <td>41.66</td>\n",
       "      <td>39.35</td>\n",
       "    </tr>\n",
       "    <tr>\n",
       "      <th>561</th>\n",
       "      <td>1</td>\n",
       "      <td>4.36</td>\n",
       "      <td>2.22</td>\n",
       "      <td>5.61</td>\n",
       "      <td>-1.44</td>\n",
       "      <td>-0.05</td>\n",
       "      <td>-0.22</td>\n",
       "      <td>1.28</td>\n",
       "      <td>-13.20</td>\n",
       "      <td>-5.83</td>\n",
       "      <td>...</td>\n",
       "      <td>2.94</td>\n",
       "      <td>-2.90</td>\n",
       "      <td>2.12</td>\n",
       "      <td>11.26</td>\n",
       "      <td>12.81</td>\n",
       "      <td>6.03</td>\n",
       "      <td>-6.13</td>\n",
       "      <td>-10.46</td>\n",
       "      <td>-5.36</td>\n",
       "      <td>-14.23</td>\n",
       "    </tr>\n",
       "    <tr>\n",
       "      <th>562</th>\n",
       "      <td>1</td>\n",
       "      <td>-79.95</td>\n",
       "      <td>-79.13</td>\n",
       "      <td>-81.07</td>\n",
       "      <td>-72.25</td>\n",
       "      <td>-79.71</td>\n",
       "      <td>-70.60</td>\n",
       "      <td>-90.33</td>\n",
       "      <td>-88.66</td>\n",
       "      <td>-68.15</td>\n",
       "      <td>...</td>\n",
       "      <td>5.40</td>\n",
       "      <td>19.51</td>\n",
       "      <td>-0.15</td>\n",
       "      <td>1.67</td>\n",
       "      <td>3.20</td>\n",
       "      <td>7.25</td>\n",
       "      <td>-8.25</td>\n",
       "      <td>-7.91</td>\n",
       "      <td>4.45</td>\n",
       "      <td>6.58</td>\n",
       "    </tr>\n",
       "    <tr>\n",
       "      <th>563</th>\n",
       "      <td>1</td>\n",
       "      <td>-63.42</td>\n",
       "      <td>-59.78</td>\n",
       "      <td>-64.16</td>\n",
       "      <td>-61.07</td>\n",
       "      <td>-41.74</td>\n",
       "      <td>-58.99</td>\n",
       "      <td>-35.94</td>\n",
       "      <td>-43.15</td>\n",
       "      <td>-24.87</td>\n",
       "      <td>...</td>\n",
       "      <td>-13.98</td>\n",
       "      <td>0.62</td>\n",
       "      <td>-5.53</td>\n",
       "      <td>-14.26</td>\n",
       "      <td>-23.69</td>\n",
       "      <td>-37.84</td>\n",
       "      <td>-2.37</td>\n",
       "      <td>6.62</td>\n",
       "      <td>12.02</td>\n",
       "      <td>2.33</td>\n",
       "    </tr>\n",
       "    <tr>\n",
       "      <th>564</th>\n",
       "      <td>1</td>\n",
       "      <td>144.47</td>\n",
       "      <td>20.09</td>\n",
       "      <td>147.47</td>\n",
       "      <td>109.18</td>\n",
       "      <td>100.87</td>\n",
       "      <td>24.87</td>\n",
       "      <td>115.03</td>\n",
       "      <td>106.37</td>\n",
       "      <td>48.87</td>\n",
       "      <td>...</td>\n",
       "      <td>-57.53</td>\n",
       "      <td>-41.94</td>\n",
       "      <td>-165.94</td>\n",
       "      <td>-265.13</td>\n",
       "      <td>-263.35</td>\n",
       "      <td>-376.53</td>\n",
       "      <td>-176.22</td>\n",
       "      <td>-152.07</td>\n",
       "      <td>-216.60</td>\n",
       "      <td>-202.97</td>\n",
       "    </tr>\n",
       "    <tr>\n",
       "      <th>565</th>\n",
       "      <td>1</td>\n",
       "      <td>374.46</td>\n",
       "      <td>326.06</td>\n",
       "      <td>319.87</td>\n",
       "      <td>338.23</td>\n",
       "      <td>251.54</td>\n",
       "      <td>209.84</td>\n",
       "      <td>186.35</td>\n",
       "      <td>167.46</td>\n",
       "      <td>135.45</td>\n",
       "      <td>...</td>\n",
       "      <td>-123.55</td>\n",
       "      <td>-166.90</td>\n",
       "      <td>-222.44</td>\n",
       "      <td>-209.71</td>\n",
       "      <td>-180.16</td>\n",
       "      <td>-166.83</td>\n",
       "      <td>-235.66</td>\n",
       "      <td>-213.63</td>\n",
       "      <td>-205.99</td>\n",
       "      <td>-194.07</td>\n",
       "    </tr>\n",
       "    <tr>\n",
       "      <th>566</th>\n",
       "      <td>1</td>\n",
       "      <td>-0.36</td>\n",
       "      <td>4.96</td>\n",
       "      <td>6.25</td>\n",
       "      <td>4.20</td>\n",
       "      <td>8.26</td>\n",
       "      <td>-9.53</td>\n",
       "      <td>-10.10</td>\n",
       "      <td>-4.54</td>\n",
       "      <td>-11.55</td>\n",
       "      <td>...</td>\n",
       "      <td>-12.40</td>\n",
       "      <td>-5.99</td>\n",
       "      <td>-17.94</td>\n",
       "      <td>-11.96</td>\n",
       "      <td>-12.11</td>\n",
       "      <td>-13.68</td>\n",
       "      <td>-3.59</td>\n",
       "      <td>-5.32</td>\n",
       "      <td>-10.98</td>\n",
       "      <td>-11.24</td>\n",
       "    </tr>\n",
       "    <tr>\n",
       "      <th>567</th>\n",
       "      <td>1</td>\n",
       "      <td>-54.01</td>\n",
       "      <td>-44.13</td>\n",
       "      <td>-41.23</td>\n",
       "      <td>-42.82</td>\n",
       "      <td>-39.47</td>\n",
       "      <td>-24.88</td>\n",
       "      <td>-31.14</td>\n",
       "      <td>-24.71</td>\n",
       "      <td>-13.12</td>\n",
       "      <td>...</td>\n",
       "      <td>-0.73</td>\n",
       "      <td>-1.64</td>\n",
       "      <td>1.58</td>\n",
       "      <td>-4.82</td>\n",
       "      <td>-11.93</td>\n",
       "      <td>-17.14</td>\n",
       "      <td>-4.25</td>\n",
       "      <td>5.47</td>\n",
       "      <td>14.46</td>\n",
       "      <td>18.70</td>\n",
       "    </tr>\n",
       "    <tr>\n",
       "      <th>568</th>\n",
       "      <td>1</td>\n",
       "      <td>91.36</td>\n",
       "      <td>85.60</td>\n",
       "      <td>48.81</td>\n",
       "      <td>48.69</td>\n",
       "      <td>70.05</td>\n",
       "      <td>22.30</td>\n",
       "      <td>11.63</td>\n",
       "      <td>37.86</td>\n",
       "      <td>28.27</td>\n",
       "      <td>...</td>\n",
       "      <td>2.44</td>\n",
       "      <td>11.53</td>\n",
       "      <td>-16.42</td>\n",
       "      <td>-17.86</td>\n",
       "      <td>21.10</td>\n",
       "      <td>-10.25</td>\n",
       "      <td>-37.06</td>\n",
       "      <td>-8.43</td>\n",
       "      <td>-6.48</td>\n",
       "      <td>17.60</td>\n",
       "    </tr>\n",
       "    <tr>\n",
       "      <th>569</th>\n",
       "      <td>1</td>\n",
       "      <td>3071.19</td>\n",
       "      <td>2782.53</td>\n",
       "      <td>2608.69</td>\n",
       "      <td>2325.47</td>\n",
       "      <td>2089.37</td>\n",
       "      <td>1769.56</td>\n",
       "      <td>1421.09</td>\n",
       "      <td>1142.09</td>\n",
       "      <td>902.31</td>\n",
       "      <td>...</td>\n",
       "      <td>695.41</td>\n",
       "      <td>865.97</td>\n",
       "      <td>882.41</td>\n",
       "      <td>1203.06</td>\n",
       "      <td>1293.03</td>\n",
       "      <td>1354.41</td>\n",
       "      <td>-192.81</td>\n",
       "      <td>-277.22</td>\n",
       "      <td>-69.63</td>\n",
       "      <td>121.56</td>\n",
       "    </tr>\n",
       "  </tbody>\n",
       "</table>\n",
       "<p>12 rows × 3198 columns</p>\n",
       "</div>"
      ],
      "text/plain": [
       "     LABEL   FLUX.1   FLUX.2   FLUX.3   FLUX.4   FLUX.5   FLUX.6   FLUX.7  \\\n",
       "558      1    53.91    46.59    50.30    32.19    48.64   -21.02     5.50   \n",
       "559      1    -6.30    -2.86     0.95    -6.69    -2.61    -4.65    -7.27   \n",
       "560      1     5.66     7.83    -4.39    -0.62    -5.23     0.34   -13.64   \n",
       "561      1     4.36     2.22     5.61    -1.44    -0.05    -0.22     1.28   \n",
       "562      1   -79.95   -79.13   -81.07   -72.25   -79.71   -70.60   -90.33   \n",
       "563      1   -63.42   -59.78   -64.16   -61.07   -41.74   -58.99   -35.94   \n",
       "564      1   144.47    20.09   147.47   109.18   100.87    24.87   115.03   \n",
       "565      1   374.46   326.06   319.87   338.23   251.54   209.84   186.35   \n",
       "566      1    -0.36     4.96     6.25     4.20     8.26    -9.53   -10.10   \n",
       "567      1   -54.01   -44.13   -41.23   -42.82   -39.47   -24.88   -31.14   \n",
       "568      1    91.36    85.60    48.81    48.69    70.05    22.30    11.63   \n",
       "569      1  3071.19  2782.53  2608.69  2325.47  2089.37  1769.56  1421.09   \n",
       "\n",
       "      FLUX.8  FLUX.9  ...  FLUX.3188  FLUX.3189  FLUX.3190  FLUX.3191  \\\n",
       "558   -18.97   15.73  ...      -2.33     -13.05     -77.58    -135.28   \n",
       "559    -0.96    0.26  ...      -4.28      -4.68      -3.62      -1.01   \n",
       "560   -11.26   -9.96  ...      15.15      24.89      23.41      26.33   \n",
       "561   -13.20   -5.83  ...       2.94      -2.90       2.12      11.26   \n",
       "562   -88.66  -68.15  ...       5.40      19.51      -0.15       1.67   \n",
       "563   -43.15  -24.87  ...     -13.98       0.62      -5.53     -14.26   \n",
       "564   106.37   48.87  ...     -57.53     -41.94    -165.94    -265.13   \n",
       "565   167.46  135.45  ...    -123.55    -166.90    -222.44    -209.71   \n",
       "566    -4.54  -11.55  ...     -12.40      -5.99     -17.94     -11.96   \n",
       "567   -24.71  -13.12  ...      -0.73      -1.64       1.58      -4.82   \n",
       "568    37.86   28.27  ...       2.44      11.53     -16.42     -17.86   \n",
       "569  1142.09  902.31  ...     695.41     865.97     882.41    1203.06   \n",
       "\n",
       "     FLUX.3192  FLUX.3193  FLUX.3194  FLUX.3195  FLUX.3196  FLUX.3197  \n",
       "558    -167.74    -175.05       6.15      20.34     -11.39     -20.99  \n",
       "559       4.56      -2.73     -15.31      -9.48      -8.23      -4.95  \n",
       "560      44.37      46.15      37.28      45.60      41.66      39.35  \n",
       "561      12.81       6.03      -6.13     -10.46      -5.36     -14.23  \n",
       "562       3.20       7.25      -8.25      -7.91       4.45       6.58  \n",
       "563     -23.69     -37.84      -2.37       6.62      12.02       2.33  \n",
       "564    -263.35    -376.53    -176.22    -152.07    -216.60    -202.97  \n",
       "565    -180.16    -166.83    -235.66    -213.63    -205.99    -194.07  \n",
       "566     -12.11     -13.68      -3.59      -5.32     -10.98     -11.24  \n",
       "567     -11.93     -17.14      -4.25       5.47      14.46      18.70  \n",
       "568      21.10     -10.25     -37.06      -8.43      -6.48      17.60  \n",
       "569    1293.03    1354.41    -192.81    -277.22     -69.63     121.56  \n",
       "\n",
       "[12 rows x 3198 columns]"
      ]
     },
     "execution_count": 7,
     "metadata": {},
     "output_type": "execute_result"
    }
   ],
   "source": [
    "df = pd.read_csv(flux_data)\n",
    "print(\"Row fetched:\", len(df))\n",
    "df.tail(12)"
   ]
  },
  {
   "cell_type": "markdown",
   "id": "random-restoration",
   "metadata": {
    "papermill": {},
    "tags": []
   },
   "source": [
    "### Create graph\n",
    "The graph represents specific data from the data set giving a graphical representation of the data and the light curve it creates depending on how much exo_data you want represented."
   ]
  },
  {
   "cell_type": "code",
   "execution_count": 11,
   "id": "informative-terry",
   "metadata": {
    "execution": {
     "iopub.execute_input": "2023-07-07T08:42:38.019960Z",
     "iopub.status.busy": "2023-07-07T08:42:38.019691Z",
     "iopub.status.idle": "2023-07-07T08:42:38.236831Z",
     "shell.execute_reply": "2023-07-07T08:42:38.236197Z",
     "shell.execute_reply.started": "2023-07-07T08:42:38.019934Z"
    },
    "papermill": {},
    "tags": []
   },
   "outputs": [
    {
     "data": {
      "image/png": "[encoded data removed]",
      "text/plain": [
       "<Figure size 640x480 with 1 Axes>"
      ]
     },
     "metadata": {},
     "output_type": "display_data"
    }
   ],
   "source": [
    "labels = df['LABEL']\n",
    "flux_data = df.drop('LABEL',axis=1) #drop the labels from the data frame, leaving only the flux data\n",
    "# print(labels)\n",
    "\n",
    "non_exo_data=flux_data.loc[labels==2] \n",
    "exo_data=flux_data.loc[labels==1]  \n",
    "# print(exo_data)\n",
    "\n",
    "def plot_light_curve(dataset, index):\n",
    "    plt.figure()\n",
    "    plt.plot(np.array(dataset[index:index+1])[0])\n",
    "    plt.show()\n",
    "    \n",
    "for i in range(1):#the number in the bracket is how many times plots of the light curve you want.\n",
    "    plot_light_curve(exo_data, 510) #the number is the dataset you want transformed into a light curve"
   ]
  },
  {
   "cell_type": "markdown",
   "id": "c3d6d6eb-0a05-42e9-906e-880d2f432d2a",
   "metadata": {
    "papermill": {},
    "tags": []
   },
   "source": [
    "## Output"
   ]
  },
  {
   "cell_type": "markdown",
   "id": "4dfc1326-c3d6-40ce-9312-5ca23aba504d",
   "metadata": {
    "papermill": {},
    "tags": []
   },
   "source": [
    "### Save and share output"
   ]
  },
  {
   "cell_type": "code",
   "execution_count": 9,
   "id": "542889a8-cff9-43c5-81b3-86f1204aa88f",
   "metadata": {
    "execution": {
     "iopub.execute_input": "2023-07-07T08:29:45.755468Z",
     "iopub.status.busy": "2023-07-07T08:29:45.755220Z",
     "iopub.status.idle": "2023-07-07T08:29:45.760704Z",
     "shell.execute_reply": "2023-07-07T08:29:45.760068Z",
     "shell.execute_reply.started": "2023-07-07T08:29:45.755437Z"
    },
    "papermill": {},
    "tags": []
   },
   "outputs": [
    {
     "name": "stdout",
     "output_type": "stream",
     "text": [
      "565\n"
     ]
    },
    {
     "data": {
      "text/plain": [
       "5"
      ]
     },
     "execution_count": 9,
     "metadata": {},
     "output_type": "execute_result"
    }
   ],
   "source": [
    "print(len(exo_data))\n",
    "(len(non_exo_data))"
   ]
  }
 ],
 "metadata": {
  "kernelspec": {
   "display_name": "Python 3",
   "language": "python",
   "name": "python3"
  },
  "language_info": {
   "codemirror_mode": {
    "name": "ipython",
    "version": 3
   },
   "file_extension": ".py",
   "mimetype": "text/x-python",
   "name": "python",
   "nbconvert_exporter": "python",
   "pygments_lexer": "ipython3",
   "version": "3.9.6"
  },
  "naas": {
   "notebook_id": "334f731f131404dea142a3cf7464a96763daa3cd3b8ce4e28e96a6796f25824c",
   "notebook_path": "NASA/NASA_Artic_sea_ice.ipynb"
  },
  "papermill": {
   "default_parameters": {},
   "environment_variables": {},
   "parameters": {},
   "version": "2.3.3"
  },
  "widgets": {
   "application/vnd.jupyter.widget-state+json": {
    "state": {},
    "version_major": 2,
    "version_minor": 0
   }
  }
 },
 "nbformat": 4,
 "nbformat_minor": 5
}
