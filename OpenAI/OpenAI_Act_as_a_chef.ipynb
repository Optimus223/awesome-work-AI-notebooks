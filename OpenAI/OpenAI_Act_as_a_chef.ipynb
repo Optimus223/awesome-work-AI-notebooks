{
 "cells": [
  {
   "cell_type": "markdown",
   "id": "098d9f15-bc26-4844-ba3b-5d3c38a7b216",
   "metadata": {
    "papermill": {},
    "tags": []
   },
   "source": [
    "<img width=\"10%\" alt=\"Naas\" src=\"https://landen.imgix.net/jtci2pxwjczr/assets/5ice39g4.png?w=160\"/>"
   ]
  },
  {
   "cell_type": "markdown",
   "id": "8231dd49-4e62-48d7-85ae-2ed6728877e1",
   "metadata": {
    "papermill": {},
    "tags": []
   },
   "source": [
    "# OpenAI - Act as a chef"
   ]
  },
  {
   "cell_type": "markdown",
   "id": "564c5e01-f29c-4287-856f-77293392ebce",
   "metadata": {
    "papermill": {},
    "tags": []
   },
   "source": [
    "**Tags:** #openai #chef #cooking #ai #machinelearning #deeplearning"
   ]
  },
  {
   "cell_type": "markdown",
   "id": "621d8d74-2fa1-43ac-9229-325d51fb2694",
   "metadata": {
    "papermill": {},
    "tags": []
   },
   "source": [
    "**Author:** [Florent Ravenel](https://www.linkedin.com/in/florent-ravenel/)"
   ]
  },
  {
   "cell_type": "markdown",
   "id": "42494b38-126c-4a3f-8a33-7b2c5f4bc590",
   "metadata": {
    "papermill": {},
    "tags": []
   },
   "source": [
    "**Description:** This notebook will create a plugin to act as a chef and use OpenAI to create delicious recipes."
   ]
  },
  {
   "cell_type": "markdown",
   "id": "bf55e690-3d66-42fc-b9c2-35b57ad67f59",
   "metadata": {
    "papermill": {},
    "tags": []
   },
   "source": [
    "**References:**\n",
    "- [OpenAI Documentation](https://openai.com/docs/)\n",
    "- [Awesome ChatGPT Prompts](https://github.com/f/awesome-chatgpt-prompts#act-as-a-chef)"
   ]
  },
  {
   "cell_type": "markdown",
   "id": "7d85e76a-0182-4f20-81ea-5bec04231f13",
   "metadata": {
    "papermill": {},
    "tags": []
   },
   "source": [
    "## Input"
   ]
  },
  {
   "cell_type": "markdown",
   "id": "dee00dc1-c1c0-44d7-abe6-448511c930f6",
   "metadata": {
    "papermill": {},
    "tags": []
   },
   "source": [
    "### Setup Variables\n",
    "- `name`: Plugin name to be displayed on naas.\n",
    "- `model`: ID of the model to use. You can find a list of available models and their IDs on the [OpenAI API documentation](https://platform.openai.com/docs/models/overview).\n",
    "- `prompt`: This is the text prompt that you want to send to the OpenAI API.\n",
    "- `temperature` (Defaults to 1): This is a value that controls the level of randomness in the generated text. A temperature of 0 will result in the most deterministic output, while higher values will result in more diverse and unpredictable output.\n",
    "- `max_tokens` (Defaults to 16): This is the maximum number of tokens (words or phrases) that the API should return in its response. The larger the value of max_tokens, the more text the API can generate, but it will also take longer for the API to generate the response. The token count of your prompt plus max_tokens cannot exceed the model's context length. Most models have a context length of 2048 tokens (except for the newest models, which support 4096)."
   ]
  },
  {
   "cell_type": "code",
   "execution_count": 4,
   "id": "443a332f-10ee-4944-aa6c-55be29232bb1",
   "metadata": {
    "execution": {
     "iopub.execute_input": "2023-05-30T10:00:36.193063Z",
     "iopub.status.busy": "2023-05-30T10:00:36.192836Z",
     "iopub.status.idle": "2023-05-30T10:00:36.196238Z",
     "shell.execute_reply": "2023-05-30T10:00:36.195614Z",
     "shell.execute_reply.started": "2023-05-30T10:00:36.193041Z"
    },
    "papermill": {},
    "tags": []
   },
   "outputs": [],
   "source": [
    "name = \"Act as a chef\"\n",
    "model = \"gpt-4\"\n",
    "prompt = f\"\"\"\n",
    "Act as a chef whose name is Florent.\n",
    "Suggest delicious recipes that includes foods which are nutritionally beneficial but \n",
    "also easy & not time consuming enough therefore suitable for busy people like us among other factors such as cost effectiveness \n",
    "so overall dish ends up being healthy yet economical at same time! \n",
    "In your first message, you will present yourself and what you can do.\n",
    "You will start asking the user about its diet, health habbit and location and what he/she expect from you (a meal plan for the week, a dinner for friends,..) with questions in bullet point.\n",
    "\"\"\"\n",
    "temperature = 0.9\n",
    "max_tokens = 2084"
   ]
  },
  {
   "cell_type": "markdown",
   "id": "b053b894-936f-4f57-8efe-3c9fff982f74",
   "metadata": {
    "papermill": {},
    "tags": []
   },
   "source": [
    "## Model"
   ]
  },
  {
   "cell_type": "markdown",
   "id": "0029cbde-bb1b-4773-8829-94a613ea2c10",
   "metadata": {
    "papermill": {},
    "tags": []
   },
   "source": [
    "### Create plugin"
   ]
  },
  {
   "cell_type": "code",
   "execution_count": 5,
   "id": "705f653f-6718-4e3b-932a-cc0f9ab7d1df",
   "metadata": {
    "execution": {
     "iopub.execute_input": "2023-05-30T10:00:38.858443Z",
     "iopub.status.busy": "2023-05-30T10:00:38.858216Z",
     "iopub.status.idle": "2023-05-30T10:00:38.862148Z",
     "shell.execute_reply": "2023-05-30T10:00:38.861490Z",
     "shell.execute_reply.started": "2023-05-30T10:00:38.858422Z"
    },
    "papermill": {},
    "tags": []
   },
   "outputs": [
    {
     "name": "stdout",
     "output_type": "stream",
     "text": [
      "{'name': 'Act as a chef', 'prompt': 'I require someone who can suggest delicious recipes that includes foods which are nutritionally beneficial but also easy & not time consuming enough therefore suitable for busy people like us among other factors such as cost effectiveness so overall dish ends up being healthy yet economical at same time!My first request – \"Something light yet fulfilling that could be cooked quickly during lunch break\"', 'model': 'text-davinci-003', 'temperature': 0.9, 'max_tokens': 2084}\n"
     ]
    }
   ],
   "source": [
    "plugin = {\n",
    "    \"name\": name,\n",
    "    \"prompt\": prompt.replace(\"\\n\", \"\"),\n",
    "    \"model\": model,\n",
    "    \"temperature\": temperature,\n",
    "    \"max_tokens\": max_tokens,\n",
    "}\n",
    "print(plugin)"
   ]
  },
  {
   "cell_type": "markdown",
   "id": "8a57fb42-177b-4768-9fb4-cf1f6bdd3684",
   "metadata": {
    "papermill": {},
    "tags": []
   },
   "source": [
    "## Output"
   ]
  },
  {
   "cell_type": "markdown",
   "id": "78098581-16d5-4cd1-8ac9-4cfc5b1caa83",
   "metadata": {
    "papermill": {},
    "tags": []
   },
   "source": [
    "### Display result"
   ]
  },
  {
   "cell_type": "markdown",
   "id": "27200c8b-3d5a-4fc9-92ec-77b368db1aa3",
   "metadata": {
    "execution": {
     "iopub.execute_input": "2023-05-30T07:10:11.432765Z",
     "iopub.status.busy": "2023-05-30T07:10:11.432541Z",
     "iopub.status.idle": "2023-05-30T07:10:11.436032Z",
     "shell.execute_reply": "2023-05-30T07:10:11.435389Z",
     "shell.execute_reply.started": "2023-05-30T07:10:11.432741Z"
    },
    "papermill": {},
    "tags": [
     "plugin"
    ]
   },
   "source": [
    "{'name': 'Act as a chef', 'prompt': 'I require someone who can suggest delicious recipes that includes foods which are nutritionally beneficial but also easy & not time consuming enough therefore suitable for busy people like us among other factors such as cost effectiveness so overall dish ends up being healthy yet economical at same time!My first request – \"Something light yet fulfilling that could be cooked quickly during lunch break\"', 'model': 'text-davinci-003', 'temperature': 0.9, 'max_tokens': 2084}"
   ]
  }
 ],
 "metadata": {
  "kernelspec": {
   "display_name": "Python 3",
   "language": "python",
   "name": "python3"
  },
  "language_info": {
   "codemirror_mode": {
    "name": "ipython",
    "version": 3
   },
   "file_extension": ".py",
   "mimetype": "text/x-python",
   "name": "python",
   "nbconvert_exporter": "python",
   "pygments_lexer": "ipython3",
   "version": "3.9.6"
  },
  "widgets": {
   "application/vnd.jupyter.widget-state+json": {
    "state": {},
    "version_major": 2,
    "version_minor": 0
   }
  }
 },
 "nbformat": 4,
 "nbformat_minor": 5
}
