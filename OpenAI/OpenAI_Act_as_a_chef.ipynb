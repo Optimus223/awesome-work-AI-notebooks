{
 "cells": [
  {
   "cell_type": "markdown",
   "id": "098d9f15-bc26-4844-ba3b-5d3c38a7b216",
   "metadata": {
    "papermill": {},
    "tags": []
   },
   "source": [
    "<img width=\"10%\" alt=\"Naas\" src=\"https://landen.imgix.net/jtci2pxwjczr/assets/5ice39g4.png?w=160\"/>"
   ]
  },
  {
   "cell_type": "markdown",
   "id": "8231dd49-4e62-48d7-85ae-2ed6728877e1",
   "metadata": {
    "papermill": {},
    "tags": []
   },
   "source": [
    "# OpenAI - Act as a chef"
   ]
  },
  {
   "cell_type": "markdown",
   "id": "564c5e01-f29c-4287-856f-77293392ebce",
   "metadata": {
    "papermill": {},
    "tags": []
   },
   "source": [
    "**Tags:** #openai #chef #cooking #ai #machinelearning #deeplearning"
   ]
  },
  {
   "cell_type": "markdown",
   "id": "621d8d74-2fa1-43ac-9229-325d51fb2694",
   "metadata": {
    "papermill": {},
    "tags": []
   },
   "source": [
    "**Author:** [Florent Ravenel](https://www.linkedin.com/in/florent-ravenel/)"
   ]
  },
  {
   "cell_type": "markdown",
   "id": "42494b38-126c-4a3f-8a33-7b2c5f4bc590",
   "metadata": {
    "papermill": {},
    "tags": []
   },
   "source": [
    "**Description:** This notebook will act as a chef and use OpenAI to create delicious recipes. It will be useful for organizations to create new recipes and explore the possibilities of OpenAI."
   ]
  },
  {
   "cell_type": "markdown",
   "id": "bf55e690-3d66-42fc-b9c2-35b57ad67f59",
   "metadata": {
    "papermill": {},
    "tags": []
   },
   "source": [
    "**References:**\n- [OpenAI Documentation](https://openai.com/docs/)\n- [OpenAI Recipes](https://openai.com/recipes/)"
   ]
  },
  {
   "cell_type": "markdown",
   "id": "7d85e76a-0182-4f20-81ea-5bec04231f13",
   "metadata": {
    "papermill": {},
    "tags": []
   },
   "source": [
    "## Input"
   ]
  },
  {
   "cell_type": "markdown",
   "id": "5032f5dd-8b46-4588-9bbc-78fc1afb893a",
   "metadata": {
    "papermill": {},
    "tags": []
   },
   "source": [
    "### Import libraries"
   ]
  },
  {
   "cell_type": "code",
   "execution_count": null,
   "id": "0aa41e4f-f246-42be-8e4e-f8da370193c4",
   "metadata": {
    "papermill": {},
    "tags": []
   },
   "source": "import openai",
   "outputs": []
  },
  {
   "cell_type": "markdown",
   "id": "dee00dc1-c1c0-44d7-abe6-448511c930f6",
   "metadata": {
    "papermill": {},
    "tags": []
   },
   "source": [
    "### Setup Variables\n- `api_key`: OpenAI API key"
   ]
  },
  {
   "cell_type": "code",
   "execution_count": null,
   "id": "443a332f-10ee-4944-aa6c-55be29232bb1",
   "metadata": {
    "papermill": {},
    "tags": []
   },
   "source": "api_key = \"YOUR_API_KEY\"",
   "outputs": []
  },
  {
   "cell_type": "markdown",
   "id": "b053b894-936f-4f57-8efe-3c9fff982f74",
   "metadata": {
    "papermill": {},
    "tags": []
   },
   "source": [
    "## Model"
   ]
  },
  {
   "cell_type": "markdown",
   "id": "0029cbde-bb1b-4773-8829-94a613ea2c10",
   "metadata": {
    "papermill": {},
    "tags": []
   },
   "source": [
    "### Generate Recipes"
   ]
  },
  {
   "cell_type": "markdown",
   "id": "e92867b8-3342-45e2-a369-f9ab5ade036a",
   "metadata": {
    "papermill": {},
    "tags": []
   },
   "source": [
    "Long description of the function: This function will use OpenAI to generate recipes based on the ingredients and instructions provided."
   ]
  },
  {
   "cell_type": "code",
   "execution_count": null,
   "id": "705f653f-6718-4e3b-932a-cc0f9ab7d1df",
   "metadata": {
    "papermill": {},
    "tags": []
   },
   "source": "recipe = openai.Completion.create(\n    engine=\"davinci\",\n    prompt=\"Ingredients: 2 cups of flour, 1 teaspoon of baking powder, 1/2 teaspoon of salt, 1/2 cup of butter, 3/4 cup of sugar, 1 egg, 1/2 cup of milk, 1 teaspoon of vanilla extract. Instructions: Preheat oven to 350 degrees F (175 degrees C). Grease and flour an 8x8 inch pan. In a large bowl, cream together the butter and sugar until light and fluffy. Beat in the egg. Combine the flour, baking powder, and salt; stir into the creamed mixture alternately with the milk. Mix in the vanilla. Spread evenly into the prepared pan. Bake for 25 to 30 minutes in the preheated oven, or until a toothpick inserted into the center of the cake comes out clean. Cool before cutting into squares.\",\n    stop=\"Instructions:\",\n    temperature=0.9,\n    top_p=1,\n    n=1,\n    stream=False,\n    logprobs=None,\n    frequency_penalty=0.2,\n    presence_penalty=0.2,\n    api_key=api_key,\n)",
   "outputs": []
  },
  {
   "cell_type": "markdown",
   "id": "8a57fb42-177b-4768-9fb4-cf1f6bdd3684",
   "metadata": {
    "papermill": {},
    "tags": []
   },
   "source": [
    "## Output"
   ]
  },
  {
   "cell_type": "markdown",
   "id": "78098581-16d5-4cd1-8ac9-4cfc5b1caa83",
   "metadata": {
    "papermill": {},
    "tags": []
   },
   "source": [
    "### Display result"
   ]
  },
  {
   "cell_type": "code",
   "execution_count": null,
   "id": "20ab329e-4bc5-40f2-9f81-b5deeecbb70d",
   "metadata": {
    "papermill": {},
    "tags": []
   },
   "source": "print(recipe)",
   "outputs": []
  }
 ],
 "metadata": {
  "kernelspec": {
   "display_name": "Python 3",
   "language": "python",
   "name": "python3"
  },
  "language_info": {
   "codemirror_mode": {
    "name": "ipython",
    "version": 3
   },
   "file_extension": ".py",
   "mimetype": "text/x-python",
   "name": "python",
   "nbconvert_exporter": "python",
   "pygments_lexer": "ipython3",
   "version": "3.9.6"
  },
  "widgets": {
   "application/vnd.jupyter.widget-state+json": {
    "state": {},
    "version_major": 2,
    "version_minor": 0
   }
  }
 },
 "nbformat": 4,
 "nbformat_minor": 5
}