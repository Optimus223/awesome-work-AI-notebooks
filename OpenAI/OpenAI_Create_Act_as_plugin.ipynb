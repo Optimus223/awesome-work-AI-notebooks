{
 "cells": [
  {
   "cell_type": "markdown",
   "id": "a92ad770-55bd-450c-8e6e-de64c0347cdd",
   "metadata": {
    "papermill": {},
    "tags": []
   },
   "source": [
    "<img width=\"10%\" alt=\"Naas\" src=\"https://landen.imgix.net/jtci2pxwjczr/assets/5ice39g4.png?w=160\"/>"
   ]
  },
  {
   "cell_type": "markdown",
   "id": "a5b2c509-2c29-49e8-af91-4f3f1e386da3",
   "metadata": {
    "papermill": {},
    "tags": []
   },
   "source": [
    "# OpenAI - Create \"Act as\" plugin"
   ]
  },
  {
   "cell_type": "markdown",
   "id": "d77fe283-4edd-42d3-a909-8e207d4b842f",
   "metadata": {
    "papermill": {},
    "tags": []
   },
   "source": [
    "**Tags:** #openai #naaschatplugin #naas #naas_driver #chat #ai"
   ]
  },
  {
   "cell_type": "markdown",
   "id": "b90f2d91-c886-4e36-8265-b09d06bb1c7f",
   "metadata": {
    "papermill": {},
    "tags": []
   },
   "source": [
    "**Author:** [Florent Ravenel](https://www.linkedin.com/in/florent-ravenel)"
   ]
  },
  {
   "cell_type": "markdown",
   "id": "6bbf7807-dda4-4b8a-b016-fe258a0fa33f",
   "metadata": {
    "papermill": {},
    "tags": []
   },
   "source": [
    "**Last update:** 2023-09-25 (Created: 2023-09-25)"
   ]
  },
  {
   "cell_type": "markdown",
   "id": "214749fe-7f0b-4755-b7ea-1d200c234cc6",
   "metadata": {
    "papermill": {},
    "tags": []
   },
   "source": [
    "**Description:** This notebook will guide you through the process of creating an \"Act as\" plugin and use it in your Naas Chat. You can duplicate this template and create your own plugin."
   ]
  },
  {
   "cell_type": "markdown",
   "id": "a1329bea-ad80-4981-874c-8776b11f89a8",
   "metadata": {
    "papermill": {},
    "tags": []
   },
   "source": [
    "**References:**\n",
    "- [Naas Chat Documentation](https://site.naas.ai/docs/platform/aI-powered-chat)\n",
    "- [Naas Chat Plugin driver](https://github.com/jupyter-naas/drivers/blob/main/naas_drivers/tools/naas_chat_plugin.py)"
   ]
  },
  {
   "cell_type": "markdown",
   "id": "cff349c8-2816-4ae4-9229-027c068eeb51",
   "metadata": {
    "papermill": {},
    "tags": []
   },
   "source": [
    "## Input"
   ]
  },
  {
   "cell_type": "markdown",
   "id": "80266a9e-fe54-4f3e-aeb2-01483bbc53f9",
   "metadata": {
    "papermill": {},
    "tags": []
   },
   "source": [
    "### Import libraries"
   ]
  },
  {
   "cell_type": "code",
   "execution_count": 5,
   "id": "cc038b10-2679-42bc-909e-09a298339df4",
   "metadata": {
    "execution": {
     "iopub.execute_input": "2023-09-27T11:20:01.439789Z",
     "iopub.status.busy": "2023-09-27T11:20:01.439383Z",
     "iopub.status.idle": "2023-09-27T11:20:01.445007Z",
     "shell.execute_reply": "2023-09-27T11:20:01.444376Z",
     "shell.execute_reply.started": "2023-09-27T11:20:01.439752Z"
    },
    "papermill": {},
    "tags": []
   },
   "outputs": [],
   "source": [
    "from naas_drivers import naas_chat_plugin\n",
    "from IPython.display import Markdown\n",
    "import naas\n",
    "import json"
   ]
  },
  {
   "cell_type": "markdown",
   "id": "e930da4d-39a2-424e-8808-77fd0a3829bf",
   "metadata": {
    "papermill": {},
    "tags": []
   },
   "source": [
    "### Setup variables\n",
    "**Mandatory**\n",
    "- `name`: The name of the plugin.\n",
    "- `prompt`: The prompt for the plugin.\n",
    "\n",
    "**Optional**\n",
    "- `model`: The name of the model to be used for tokenization. Models available: \"gpt-3.5-turbo\" (limited to 4097 tokens), \"gpt-3.5-turbo-16k\" (limited to 16385 tokens), and \"gpt-4\" (limited to 8192 tokens). \n",
    "- `temperature`: The temperature parameter for the model. Default is 0.\n",
    "- `output_path`: The path where the JSON file should be saved. If not provided, it will be created from the plugin name."
   ]
  },
  {
   "cell_type": "code",
   "execution_count": 6,
   "id": "6cf9bd9b-ce83-45a5-ab0f-15c978458b42",
   "metadata": {
    "execution": {
     "iopub.execute_input": "2023-09-27T11:20:01.951191Z",
     "iopub.status.busy": "2023-09-27T11:20:01.950964Z",
     "iopub.status.idle": "2023-09-27T11:20:01.954204Z",
     "shell.execute_reply": "2023-09-27T11:20:01.953553Z",
     "shell.execute_reply.started": "2023-09-27T11:20:01.951168Z"
    },
    "papermill": {},
    "tags": []
   },
   "outputs": [],
   "source": [
    "# Mandatory\n",
    "name = \"Act as a ...\"\n",
    "prompt = \"Act as a ...\"\n",
    "\n",
    "# Optional\n",
    "model = \"gpt-3.5-turbo-16k\"\n",
    "temperature = 0\n",
    "output_path = None"
   ]
  },
  {
   "cell_type": "markdown",
   "id": "9070993a-eec9-4f78-a7f9-2e18c743a20d",
   "metadata": {
    "papermill": {},
    "tags": []
   },
   "source": [
    "## Model"
   ]
  },
  {
   "cell_type": "markdown",
   "id": "2d959298-e04a-459f-85d9-1b12bb5754c9",
   "metadata": {
    "papermill": {},
    "tags": []
   },
   "source": [
    "### Create Naas Chat plugin\n",
    "This function will generate the plugin in JSON format and also verify if your prompt adheres to the recommended limit, which is set at 20% of the maximum tokens allowed by the model. Then, it will save your plugin in your local environment."
   ]
  },
  {
   "cell_type": "code",
   "execution_count": 7,
   "id": "ac0af791-9f6d-4da8-82d0-1defed0bc59f",
   "metadata": {
    "execution": {
     "iopub.execute_input": "2023-09-27T11:20:02.509290Z",
     "iopub.status.busy": "2023-09-27T11:20:02.509058Z",
     "iopub.status.idle": "2023-09-27T11:20:02.553308Z",
     "shell.execute_reply": "2023-09-27T11:20:02.552509Z",
     "shell.execute_reply.started": "2023-09-27T11:20:02.509266Z"
    },
    "papermill": {},
    "tags": []
   },
   "outputs": [
    {
     "name": "stdout",
     "output_type": "stream",
     "text": [
      "✅ System prompt tokens count OK: 4 (limit: 20% -> 3277)\n",
      "💾 Plugin successfully saved. You can use it in your Naas Chat with: act_as_a_..._plugin.json\n"
     ]
    }
   ],
   "source": [
    "plugin_file_path = naas_chat_plugin.create_plugin(\n",
    "    name=name,\n",
    "    prompt=prompt,\n",
    "    model=model,\n",
    "    temperature=temperature,\n",
    "    output_path=output_path\n",
    ")"
   ]
  },
  {
   "cell_type": "markdown",
   "id": "81ce4521-731f-42cb-8ace-0e7611c750b3",
   "metadata": {
    "papermill": {},
    "tags": []
   },
   "source": [
    "## Output"
   ]
  },
  {
   "cell_type": "markdown",
   "id": "1bb934d4-82cc-4e08-bf3d-b7826ec871ac",
   "metadata": {},
   "source": [
    "### Display plugin\n",
    "The cell below is tagged as 'plugin'. This tag will allow us to use this pre-prompt on our Naas Chat. NB: The plugin must be printed."
   ]
  },
  {
   "cell_type": "code",
   "execution_count": 8,
   "id": "b38e3ea8-043f-45a2-8f1e-9b95321bbd3b",
   "metadata": {
    "execution": {
     "iopub.execute_input": "2023-09-27T11:20:03.427198Z",
     "iopub.status.busy": "2023-09-27T11:20:03.426977Z",
     "iopub.status.idle": "2023-09-27T11:20:03.448295Z",
     "shell.execute_reply": "2023-09-27T11:20:03.447751Z",
     "shell.execute_reply.started": "2023-09-27T11:20:03.427175Z"
    },
    "tags": [
     "plugin"
    ]
   },
   "outputs": [
    {
     "data": {
      "text/plain": [
       "{'name': 'Act as a ...',\n",
       " 'model': 'gpt-3.5-turbo-16k',\n",
       " 'temperature': 0,\n",
       " 'max_tokens': 16385,\n",
       " 'prompt': 'Act as a ...',\n",
       " 'commands': []}"
      ]
     },
     "execution_count": 8,
     "metadata": {},
     "output_type": "execute_result"
    }
   ],
   "source": [
    "with open(plugin_file_path) as json_file:\n",
    "    plugin = json.load(json_file)\n",
    "plugin"
   ]
  },
  {
   "cell_type": "markdown",
   "id": "34b625a0-f39b-4c7e-82f5-cc58a11ec902",
   "metadata": {
    "papermill": {},
    "tags": []
   },
   "source": [
    "### Create naas asset\n",
    "This asset can be utilized by using the command `/use` in your Naas Chat or by simply clicking on the link provided in the cell below."
   ]
  },
  {
   "cell_type": "code",
   "execution_count": 9,
   "id": "39437f23-bcf8-40df-9538-32b3cac1c8fb",
   "metadata": {
    "execution": {
     "iopub.execute_input": "2023-09-27T11:20:04.956775Z",
     "iopub.status.busy": "2023-09-27T11:20:04.956434Z",
     "iopub.status.idle": "2023-09-27T11:20:05.580493Z",
     "shell.execute_reply": "2023-09-27T11:20:05.579839Z",
     "shell.execute_reply.started": "2023-09-27T11:20:04.956740Z"
    },
    "papermill": {},
    "tags": []
   },
   "outputs": [
    {
     "name": "stdout",
     "output_type": "stream",
     "text": [
      "👌 Well done! Your Assets has been sent to production.\n",
      "\n"
     ]
    },
    {
     "data": {
      "application/javascript": [
       "\n",
       "    if (!window.copyToClipboard) {\n",
       "        window.copyToClipboard = (text) => {\n",
       "            const dummy = document.createElement(\"textarea\");\n",
       "            document.body.appendChild(dummy);\n",
       "            dummy.value = text;\n",
       "            dummy.select();\n",
       "            document.execCommand(\"copy\");\n",
       "            document.body.removeChild(dummy);\n",
       "        }\n",
       "    }\n",
       "    "
      ],
      "text/plain": [
       "<IPython.core.display.Javascript object>"
      ]
     },
     "metadata": {},
     "output_type": "display_data"
    },
    {
     "data": {
      "application/vnd.jupyter.widget-view+json": {
       "model_id": "7ce3948a6ff24f23b119c3c77392d578",
       "version_major": 2,
       "version_minor": 0
      },
      "text/plain": [
       "Button(button_style='primary', description='Copy URL', style=ButtonStyle())"
      ]
     },
     "metadata": {},
     "output_type": "display_data"
    },
    {
     "data": {
      "application/vnd.jupyter.widget-view+json": {
       "model_id": "34f4762a889e4b80a0114822be5cf49e",
       "version_major": 2,
       "version_minor": 0
      },
      "text/plain": [
       "Output()"
      ]
     },
     "metadata": {},
     "output_type": "display_data"
    },
    {
     "name": "stdout",
     "output_type": "stream",
     "text": [
      "PS: to remove the \"Assets\" feature, just replace .add by .delete\n"
     ]
    }
   ],
   "source": [
    "plugin_url = naas.asset.add(plugin_file_path, params={\"inline\": True})"
   ]
  },
  {
   "cell_type": "markdown",
   "id": "51bcf5f3-5058-4a45-bef2-65bab013a768",
   "metadata": {},
   "source": [
    "### Use your plugin in Naas Chat"
   ]
  },
  {
   "cell_type": "code",
   "execution_count": 10,
   "id": "47e84d4e-89cd-49c6-b5bd-6a4a95758080",
   "metadata": {
    "execution": {
     "iopub.execute_input": "2023-09-27T11:20:06.967728Z",
     "iopub.status.busy": "2023-09-27T11:20:06.967499Z",
     "iopub.status.idle": "2023-09-27T11:20:06.972172Z",
     "shell.execute_reply": "2023-09-27T11:20:06.971494Z",
     "shell.execute_reply.started": "2023-09-27T11:20:06.967705Z"
    },
    "tags": []
   },
   "outputs": [
    {
     "data": {
      "text/markdown": [
       "[Go To Naas Chat](https://naas.ai/chat/use?plugin_url=https://public.naas.ai/ZmxvcmVudC00MG5hYXMtMkVhaQ==/asset/303d69be3038ad9409f9663f90615f036fd329846a8ddb5d6a2f27dd0f0e)"
      ],
      "text/plain": [
       "<IPython.core.display.Markdown object>"
      ]
     },
     "execution_count": 10,
     "metadata": {},
     "output_type": "execute_result"
    }
   ],
   "source": [
    "Markdown(f\"[Go To Naas Chat](https://naas.ai/chat/use?plugin_url={plugin_url})\")"
   ]
  },
  {
   "cell_type": "markdown",
   "id": "50e645ea-d2b7-4a18-bfa1-fb1671e5ee53",
   "metadata": {},
   "source": [
    "***NB: If you want to update the prompt plugin sent in your Naas Chat, you must use the command `/reset`. This command will retrieve the last prompt sent as an asset in Naas Lab.***"
   ]
  }
 ],
 "metadata": {
  "kernelspec": {
   "display_name": "Python 3",
   "language": "python",
   "name": "python3"
  },
  "language_info": {
   "codemirror_mode": {
    "name": "ipython",
    "version": 3
   },
   "file_extension": ".py",
   "mimetype": "text/x-python",
   "name": "python",
   "nbconvert_exporter": "python",
   "pygments_lexer": "ipython3",
   "version": "3.9.6"
  },
  "widgets": {
   "application/vnd.jupyter.widget-state+json": {
    "state": {},
    "version_major": 2,
    "version_minor": 0
   }
  }
 },
 "nbformat": 4,
 "nbformat_minor": 5
}
