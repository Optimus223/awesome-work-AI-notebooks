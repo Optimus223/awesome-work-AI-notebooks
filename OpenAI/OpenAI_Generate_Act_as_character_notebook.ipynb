{
 "cells": [
  {
   "cell_type": "markdown",
   "id": "7ddf1412-6ae7-4845-8245-99a9e0c0ec09",
   "metadata": {
    "papermill": {},
    "tags": []
   },
   "source": [
    "<img width=\"8%\" alt=\"OpenAI\" src=\"https://raw.githubusercontent.com/jupyter-naas/awesome-notebooks/master/.github/assets/logos/OpenAI.png\" style=\"border-radius: 15%\">"
   ]
  },
  {
   "cell_type": "markdown",
   "id": "d7f3a80b-6616-4bfc-ad5b-b4ef958fa8db",
   "metadata": {
    "papermill": {},
    "tags": []
   },
   "source": [
    "# OpenAI - Generate_Act_as_character_notebook\n",
    "<a href=\"https://app.naas.ai/user-redirect/naas/downloader?url=https://raw.githubusercontent.com/jupyter-naas/awesome-notebooks/master/OpenAI/OpenAI_Generate_Act_as_character_notebook.ipynb\" target=\"_parent\"><img src=\"https://naasai-public.s3.eu-west-3.amazonaws.com/Open_in_Naas_Lab.svg\"/></a><br><br><a href=\"https://bit.ly/3JyWIk6\">Give Feedback</a> | <a href=\"https://github.com/jupyter-naas/awesome-notebooks/issues/new?assignees=&labels=bug&template=bug_report.md&title=OpenAI+-+Generate_Act_as_character_notebook:+Error+short+description\">Bug report</a>"
   ]
  },
  {
   "cell_type": "markdown",
   "id": "f7de975d-92c5-4c12-9a13-bc99e0c8641d",
   "metadata": {
    "papermill": {},
    "tags": []
   },
   "source": [
    "**Tags:** #openai #ai #machinelearning #deeplearning #notebooks #automation #gsheet"
   ]
  },
  {
   "cell_type": "markdown",
   "id": "30622b3a-7547-4de3-a2ea-1cc4e92e0ada",
   "metadata": {
    "papermill": {},
    "tags": []
   },
   "source": [
    "**Author:** [Florent Ravenel](https://www.linkedin.com/in/florent-ravenel/)"
   ]
  },
  {
   "cell_type": "markdown",
   "id": "cb7f7eaa-c287-45c7-84a6-4cab47c8bfd9",
   "metadata": {
    "papermill": {},
    "tags": []
   },
   "source": [
    "**Last update:** 2023-09-29 (Created: 2023-09-29)"
   ]
  },
  {
   "cell_type": "markdown",
   "id": "6f94abc4-02a4-4f90-85c6-59f8c718d8ac",
   "metadata": {
    "papermill": {},
    "tags": []
   },
   "source": [
    "**Description:** This notebook creates \"Act as character\" notebook from a Google Sheets spreadsheet using OpenAI_Act_as_Stephen_Curry.ipynb as template."
   ]
  },
  {
   "cell_type": "markdown",
   "id": "106ed0e4-0f9c-4e8a-af1e-8b5c13dbb7d4",
   "metadata": {
    "papermill": {},
    "tags": []
   },
   "source": [
    "**References:**\n",
    "- [OpenAI Documentation](https://openai.com/docs/)\n",
    "- [Awesome ChatGPT Prompts](https://github.com/f/awesome-chatgpt-prompts#act-as-a-chef)"
   ]
  },
  {
   "cell_type": "markdown",
   "id": "ed297bf1-9fa1-4ca1-ba4d-9cd243b65302",
   "metadata": {
    "papermill": {},
    "tags": []
   },
   "source": [
    "## Input"
   ]
  },
  {
   "cell_type": "markdown",
   "id": "8093ec6f-823b-4d20-9b48-c673788e54d3",
   "metadata": {
    "papermill": {},
    "tags": []
   },
   "source": [
    "### Import libraries"
   ]
  },
  {
   "cell_type": "code",
   "execution_count": 1,
   "id": "4a3db93f-11d2-4628-9b7c-531607657c62",
   "metadata": {
    "papermill": {},
    "tags": []
   },
   "outputs": [],
   "source": [
    "from papermill.iorw import (\n",
    "    load_notebook_node,\n",
    "    write_ipynb,\n",
    ")\n",
    "import naas\n",
    "from naas_drivers import gsheet\n",
    "import copy\n",
    "import json\n",
    "import subprocess\n",
    "try:\n",
    "    from googlesearch import search\n",
    "except:\n",
    "    !pip install google\n",
    "    from googlesearch import search\n",
    "import re\n",
    "import time"
   ]
  },
  {
   "cell_type": "markdown",
   "id": "14b42145-22ee-4ad2-abb6-316777fe52ca",
   "metadata": {
    "papermill": {},
    "tags": []
   },
   "source": [
    "### Setup variables\n",
    "- `spreadsheet_url`: This variable stores the URL of a Google Sheets spreadsheet.\n",
    "- `sheet_name`: This variable stores the name of a specific sheet within the Google Sheets spreadsheet.\n",
    "- `notebook_init`: This variable stores the initial template notebook name.\n",
    "- `fullname_init`: This variable stores the initial character's full name.\n",
    "- `wikipedia_init`: This variable stores the initial Wikipedia URL page.\n",
    "- `avatar_init`: This variable stores the initial avatar image URL."
   ]
  },
  {
   "cell_type": "code",
   "execution_count": 2,
   "id": "4b1fad6f-e7d1-4753-89a0-68088d56650d",
   "metadata": {
    "papermill": {},
    "tags": []
   },
   "outputs": [],
   "source": [
    "spreadsheet_url = \"https://docs.google.com/spreadsheets/d/\"\n",
    "sheet_name = \"Ref\"\n",
    "notebook_init = \"OpenAI_Act_as_Stephen_Curry.ipynb\"\n",
    "fullname_init = \"Stephen Curry\"\n",
    "wikipedia_init = \"https://en.wikipedia.org/wiki/Stephen_Curry\"\n",
    "avatar_init = \"https://media.discordapp.net/attachments/1084579666175729694/1164235876482699335/jeymassa_Stephen_Curry_from_Golden_State_Warrios_profile_pic_63841766-5a9f-4fa7-a550-180c773abfac.png?ex=65427a27&is=65300527&hm=6a7acdb23b1e458a30e2b27469bbdfc6ec04ec03be4ba666382427b33b42051b&=&width=352&height=352\""
   ]
  },
  {
   "cell_type": "markdown",
   "id": "cda269c3-b283-4bf8-956f-7a4f4fb54367",
   "metadata": {
    "papermill": {},
    "tags": []
   },
   "source": [
    "## Model"
   ]
  },
  {
   "cell_type": "markdown",
   "id": "ada7c872-9e8b-40af-b37c-3cb0cebdba57",
   "metadata": {
    "papermill": {},
    "tags": []
   },
   "source": [
    "### Load template notebook"
   ]
  },
  {
   "cell_type": "code",
   "execution_count": 3,
   "id": "cd48cc8a-269b-4c4f-af6c-072a0c82b211",
   "metadata": {
    "papermill": {},
    "tags": []
   },
   "outputs": [],
   "source": [
    "# Load notebook\n",
    "nb_init = load_notebook_node(notebook_init)\n",
    "\n",
    "# Get variables to be replaced\n",
    "references_init = nb_init.cells[6].source\n",
    "variables_init = nb_init.cells[11].source\n",
    "plugin_init = nb_init.cells[19].outputs[0][\"text\"]\n",
    "\n",
    "print(\"References:\\n\", references_init, \"\\n\")\n",
    "print(\"Variables:\\n\", variables_init, \"\\n\")\n",
    "print(\"Plugin:\\n\", plugin_init)"
   ]
  },
  {
   "cell_type": "markdown",
   "id": "d18711cf-becf-4c5b-93d3-ba655324f85a",
   "metadata": {
    "papermill": {},
    "tags": []
   },
   "source": [
    "### Get data from Google Sheets spreadsheet"
   ]
  },
  {
   "cell_type": "code",
   "execution_count": 4,
   "id": "330f4d8a-9b65-452c-9629-04b20d94775b",
   "metadata": {
    "papermill": {},
    "tags": []
   },
   "outputs": [],
   "source": [
    "df_input = gsheet.connect(spreadsheet_url).get(sheet_name=sheet_name)\n",
    "print(\"Row fetched:\", len(df_input))\n",
    "df_input.head(1)"
   ]
  },
  {
   "cell_type": "markdown",
   "id": "b6c44f79-3b50-4649-9828-166ecf3ae74c",
   "metadata": {
    "papermill": {},
    "tags": []
   },
   "source": [
    "## Output"
   ]
  },
  {
   "cell_type": "markdown",
   "id": "eddc8e8c-4948-409b-ae7c-f03f913b9bd0",
   "metadata": {
    "papermill": {},
    "tags": []
   },
   "source": [
    "### Get wikipedia"
   ]
  },
  {
   "cell_type": "code",
   "execution_count": 5,
   "id": "a3aacbb7-1d9f-4be4-98d7-a1af36357578",
   "metadata": {
    "papermill": {},
    "tags": []
   },
   "outputs": [],
   "source": [
    "def get_wikipedia_url(fullname):\n",
    "    # Init\n",
    "    url = None\n",
    "\n",
    "    # Create query\n",
    "    query = f\"{fullname.replace(' ', '+')}+Wikipedia\"\n",
    "    print(\"Google query: \", query)\n",
    "\n",
    "    # Search in Google\n",
    "    for i in search(query, tld=\"com\", num=10, stop=10, pause=2):\n",
    "        pattern = \"https:\\/\\/en.wikipedia.org\\/wiki\\/.([^?])+\"\n",
    "        result = re.search(pattern, i)\n",
    "\n",
    "        # Return value if result is not None\n",
    "        if result != None:\n",
    "            url = result.group(0).replace(\" \", \"\")\n",
    "            return url\n",
    "    return url\n",
    "\n",
    "# wikipedia_url = get_wikipedia_url(fullname_init)\n",
    "# print(\"Wikipedia URL:\", wikipedia_url)"
   ]
  },
  {
   "cell_type": "markdown",
   "id": "56f0d08e-604a-49f8-bdfb-afc0a34c0ad9",
   "metadata": {
    "papermill": {},
    "tags": []
   },
   "source": [
    "### Create notebooks"
   ]
  },
  {
   "cell_type": "code",
   "execution_count": null,
   "id": "5662f1c0-2c4e-4a1b-880f-0c99b7942365",
   "metadata": {
    "papermill": {},
    "tags": []
   },
   "outputs": [],
   "source": [
    "for row in df_input.itertuples():\n",
    "    # Init\n",
    "    nb = copy.deepcopy(nb_init)\n",
    "    character = row.Character\n",
    "    avatar = row.Avatar\n",
    "    description = row.Description\n",
    "    print(\"Started with:\", character)\n",
    "    \n",
    "    # Prep outputs\n",
    "    if str(avatar) == \"None\" or not str(avatar).startswith(\"https://\"):\n",
    "        avatar = \"\"\n",
    "    notebook_output = f\"OpenAI_Act_as_{character.replace(' ', '_')}.ipynb\"\n",
    "    title = f\"# OpenAI - Act as {character}\"\n",
    "    nb_description = f\"**Description:** {description}\"\n",
    "    wikipedia_url = get_wikipedia_url(character)\n",
    "    print(\"Wikipedia URL:\", wikipedia_url)\n",
    "    references = references_init.replace(fullname_init, character).replace(wikipedia_init, wikipedia_url)\n",
    "    variables = variables_init.replace(fullname_init, character).replace(avatar_init, avatar)\n",
    "    plugin_json = json.dumps(json.loads(plugin_init.replace(fullname_init, character).replace(avatar_init, avatar)))\n",
    "    \n",
    "    # Update notebook\n",
    "    nb.cells[1].source = title\n",
    "    nb.cells[5].source = nb_description\n",
    "    nb.cells[6].source = references\n",
    "    nb.cells[11].source = variables\n",
    "    nb.cells[19].outputs[0][\"text\"] = plugin_json\n",
    "    \n",
    "    # Save new notebook\n",
    "    write_ipynb(nb, notebook_output)\n",
    "    print(\"💾 Notebook saved:\", notebook_output)\n",
    "    time.sleep(2)"
   ]
  },
  {
   "cell_type": "code",
   "execution_count": null,
   "id": "83359642-a728-4ff6-a6e4-a522274f996d",
   "metadata": {
    "papermill": {},
    "tags": []
   },
   "outputs": [],
   "source": []
  }
 ],
 "metadata": {
  "kernelspec": {
   "display_name": "Python 3",
   "language": "python",
   "name": "python3"
  },
  "language_info": {
   "codemirror_mode": {
    "name": "ipython",
    "version": 3
   },
   "file_extension": ".py",
   "mimetype": "text/x-python",
   "name": "python",
   "nbconvert_exporter": "python",
   "pygments_lexer": "ipython3",
   "version": "3.9.6"
  },
  "naas": {
   "notebook_id": "a53951bef555671443f9d1243363a33e104a4395284e13a459647959a8c858f6",
   "notebook_path": "OpenAI/OpenAI_Generate_Act_as_character_notebook.ipynb"
  },
  "papermill": {
   "default_parameters": {},
   "environment_variables": {},
   "parameters": {},
   "version": "2.4.0"
  }
 },
 "nbformat": 4,
 "nbformat_minor": 5
}