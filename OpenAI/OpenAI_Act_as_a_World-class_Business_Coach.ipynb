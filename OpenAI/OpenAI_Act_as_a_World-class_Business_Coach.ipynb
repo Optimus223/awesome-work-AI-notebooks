{
 "cells": [
  {
   "cell_type": "markdown",
   "id": "f968e9be",
   "metadata": {},
   "source": [
    "<img width=\"10%\" alt=\"Naas\" src=\"https://landen.imgix.net/jtci2pxwjczr/assets/5ice39g4.png?w=160\"/>"
   ]
  },
  {
   "cell_type": "markdown",
   "id": "717314a7",
   "metadata": {},
   "source": [
    "# OpenAI - Act as a World-class Business Coach\n",
    "<a href=\"https://app.naas.ai/user-redirect/naas/downloader?url=https://raw.githubusercontent.com/jupyter-naas/awesome-notebooks/master/OpenAI/OpenAI_Act_as_a_World-class_Business_Coach.ipynb\" target=\"_parent\"><img src=\"https://naasai-public.s3.eu-west-3.amazonaws.com/Open_in_Naas_Lab.svg\"/></a>  <a href=\"https://naas.ai/chat/use?plugin_url=https://raw.githubusercontent.com/jupyter-naas/awesome-notebooks/master/OpenAI/OpenAI_Act_as_a_World-class_Business_Coach.ipynb\" target=\"_parent\"><img src=\"https://naasai-public.s3.eu-west-3.amazonaws.com/Open_in_MyChatGPT.svg\"/></a><br><br><a href=\"https://bit.ly/3JyWIk6\">Give Feedback</a> | <a href=\"https://github.com/jupyter-naas/awesome-notebooks/issues/new?assignees=&labels=bug&template=bug_report.md&title=OpenAI+-+Act+as+a+World-class+Business+Coach:+Error+short+description\">Bug report</a>"
   ]
  },
  {
   "cell_type": "markdown",
   "id": "5596529e",
   "metadata": {},
   "source": [
    "**Tags:** #ai #businesscoach #artificialintelligence #aitrends #aiconcepts #plugin"
   ]
  },
  {
   "cell_type": "markdown",
   "id": "5372e343",
   "metadata": {},
   "source": [
    "**Author:** [Zihui Ouyang](https://www.linkedin.com/in/zihui-ouyang-539626227/)"
   ]
  },
  {
   "cell_type": "markdown",
   "id": "72725ae6",
   "metadata": {},
   "source": [
    "**Last update:** 2023-09-20 (Created: 2023-09-20)"
   ]
  },
  {
   "cell_type": "markdown",
   "id": "7c8f5113",
   "metadata": {},
   "source": [
    "**Description:** This notebook will create a plugin to act as a world class business coach."
   ]
  },
  {
   "cell_type": "markdown",
   "id": "06513f9f",
   "metadata": {},
   "source": [
    "**References:**\n",
    "- [OpenAI Documentation](https://openai.com/docs/)\n",
    "- [7 prompts ChatGPT indispensables](https://docs.google.com/document/d/1CMZa0o1ck_1l-t7ICF7_y2tDokcBkP68Nkxd64KWuQk/edit)"
   ]
  },
  {
   "cell_type": "markdown",
   "id": "341e0265",
   "metadata": {},
   "source": [
    "## Input"
   ]
  },
  {
   "cell_type": "markdown",
   "id": "ee8ad918",
   "metadata": {},
   "source": [
    "### Import libraries"
   ]
  },
  {
   "cell_type": "code",
   "execution_count": null,
   "id": "e2e046c1",
   "metadata": {},
   "outputs": [],
   "source": [
    "import json\n",
    "import naas"
   ]
  },
  {
   "cell_type": "markdown",
   "id": "b316c708",
   "metadata": {},
   "source": [
    "### Setup Variables\n",
    "- `name`: Plugin name to be displayed on naas.\n",
    "- `model`: ID of the model to use. You can find a list of available models and their IDs on the [OpenAI API documentation](https://platform.openai.com/docs/models/overview).\n",
    "- `prompt`: This is the text prompt that you want to send to the OpenAI API.\n",
    "- `temperature` (Defaults to 1): This is a value that controls the level of randomness in the generated text. A temperature of 0 will result in the most deterministic output, while higher values will result in more diverse and unpredictable output.\n",
    "- `max_tokens` (Defaults to 16): This is the maximum number of tokens (words or phrases) that the API should return in its response. The larger the value of max_tokens, the more text the API can generate, but it will also take longer for the API to generate the response. The token count of your prompt plus max_tokens cannot exceed the model's context length. Most models have a context length of 2048 tokens (except for the newest models, which support 4096).\n",
    "- `json_path`: json file path to be saved"
   ]
  },
  {
   "cell_type": "code",
   "execution_count": null,
   "id": "3dbe3aae",
   "metadata": {},
   "outputs": [],
   "source": [
    "# Inputs\n",
    "name = \"Act as a world-class business coach\"\n",
    "model = \"gpt-4\"\n",
    "prompt = f\"\"\"You are now CoachGPT, a seasoned world-class business coach with over 15+ years of experience coaching CEOs and entrepreneurs with an average net worth of $200M.\n",
    "\n",
    "For reference, your work is considered so good, your results so astounding, that you charge 10000€ an hour for a consultation.\n",
    "\n",
    "As CoachGPT, your roles are:\n",
    "\n",
    "→ To ask me the right questions\n",
    "→ To confront me with my inconsistencies\n",
    "→ To guide me towards the best decisions\n",
    "→ To understand my challenges, even the most complex.\n",
    "\n",
    "I run a company that sells [PRODUCT] for [TARGET] in [COUNTRY]. We work with [NUMBER] customers. Our headcount is [NUMBER_OF_EMPLOYEES].\n",
    "\n",
    "Our goal by [DEADLINE] is [GOAL].\n",
    "\n",
    "Your task is to assist me in identifying growth opportunities for my company, which may include but are not limited to:\n",
    "- Management\n",
    "- Marketing\n",
    "- Problem solving\n",
    "- Hiring\n",
    "- Productivity strategies\n",
    "- Hard skills development\n",
    "- Soft skills development\n",
    "- Financial leverages.\n",
    "\n",
    "Before answering any questions I pose, ensure that you ask additional questions to accurately focus on the issue at hand. Adopt a Socratic approach, asking probing questions that lead me to generate my own solutions. Remember, a well-placed question is more valuable than a hundred pieces of poor advice.\n",
    "\n",
    "Also note that the perfect decision is not one that embodies perfection per se, but one that triggers the most conviction within the person who makes it.\n",
    "\n",
    "Please make sure to activate your highest-level reasoning, attention to detail, and contextual understanding. Cross-reference the information within the following question with your extensive knowledge database, and provide the most accurate, clear, and concise answer possible. Apply state-of-the-art algorithms and methodologies to ensure the quality of your response is 10 times superior to standard outputs. This will be evaluated by experts in the field, so make sure to adhere to the best practices and guidelines. Validate your response with credible sources and logical reasoning.\n",
    "\n",
    "Is that all understood? If yes, just type \"Yup\" and get started. Also, do not waste time detailing your process. Type \"Yup\".\"\n",
    "\n",
    "\"\"\"\n",
    "temperature = 1\n",
    "max_tokens = 2084\n",
    "\n",
    "# Outputs\n",
    "json_path = name.lower().replace(\" \", \"_\") + \".json\""
   ]
  },
  {
   "cell_type": "markdown",
   "id": "6d716f46",
   "metadata": {},
   "source": [
    "## Model"
   ]
  },
  {
   "cell_type": "markdown",
   "id": "c01b03e7",
   "metadata": {},
   "source": [
    "### Create plugin"
   ]
  },
  {
   "cell_type": "code",
   "execution_count": null,
   "id": "66c435ac",
   "metadata": {},
   "outputs": [],
   "source": [
    "data = {\n",
    "    \"name\": name,\n",
    "    \"prompt\": prompt.replace(\"\\n\", \"\"),\n",
    "    \"model\": model,\n",
    "    \"temperature\": temperature,\n",
    "    \"max_tokens\": max_tokens,\n",
    "}\n",
    "print(json.dumps(data))"
   ]
  },
  {
   "cell_type": "markdown",
   "id": "513bc1b1",
   "metadata": {},
   "source": [
    "## Output"
   ]
  },
  {
   "cell_type": "markdown",
   "id": "1c4e9133",
   "metadata": {},
   "source": [
    "### Save json"
   ]
  },
  {
   "cell_type": "code",
   "execution_count": null,
   "id": "91fd11d6",
   "metadata": {},
   "outputs": [],
   "source": [
    "with open(json_path, \"w\") as f:\n",
    "    json.dump(data, f)"
   ]
  },
  {
   "cell_type": "markdown",
   "id": "ebe2a0f0",
   "metadata": {},
   "source": [
    "### Create naas asset"
   ]
  },
  {
   "cell_type": "code",
   "execution_count": null,
   "id": "06c73483",
   "metadata": {},
   "outputs": [],
   "source": [
    "asset_link = naas.asset.add(json_path, params={\"inline\": True})"
   ]
  }
 ],
 "metadata": {
  "kernelspec": {
   "display_name": "Python 3 (ipykernel)",
   "language": "python",
   "name": "python3"
  },
  "language_info": {
   "codemirror_mode": {
    "name": "ipython",
    "version": 3
   },
   "file_extension": ".py",
   "mimetype": "text/x-python",
   "name": "python",
   "nbconvert_exporter": "python",
   "pygments_lexer": "ipython3",
   "version": "3.11.4"
  }
 },
 "nbformat": 4,
 "nbformat_minor": 5
}
