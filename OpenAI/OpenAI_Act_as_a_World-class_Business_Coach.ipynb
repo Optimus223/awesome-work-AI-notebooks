{
 "cells": [
  {
   "cell_type": "markdown",
   "id": "f968e9be",
   "metadata": {},
   "source": [
    "<img width=\"10%\" alt=\"Naas\" src=\"https://landen.imgix.net/jtci2pxwjczr/assets/5ice39g4.png?w=160\"/>"
   ]
  },
  {
   "cell_type": "markdown",
   "id": "717314a7",
   "metadata": {},
   "source": [
    "# OpenAI - Act as a World-class Business Coach"
   ]
  },
  {
   "cell_type": "markdown",
   "id": "5596529e",
   "metadata": {},
   "source": [
    "**Tags:** #ai #businesscoach #artificialintelligence #aitrends #aiconcepts #plugin #openai #naaschatplugin #naas #naas_driver #chat"
   ]
  },
  {
   "cell_type": "markdown",
   "id": "5372e343",
   "metadata": {},
   "source": [
    "**Author:** [Zihui Ouyang](https://www.linkedin.com/in/zihui-ouyang-539626227/)"
   ]
  },
  {
   "cell_type": "markdown",
   "id": "72725ae6",
   "metadata": {},
   "source": [
    "**Last update:** 2023-09-27 (Created: 2023-09-20)"
   ]
  },
  {
   "cell_type": "markdown",
   "id": "7c8f5113",
   "metadata": {},
   "source": [
    "**Description:** This notebook will create a plugin to act as a world class business coach."
   ]
  },
  {
   "cell_type": "markdown",
   "id": "06513f9f",
   "metadata": {},
   "source": [
    "**References:**\n",
    "- [OpenAI Documentation](https://openai.com/docs/)\n",
    "- [7 prompts ChatGPT indispensables](https://docs.google.com/document/d/1CMZa0o1ck_1l-t7ICF7_y2tDokcBkP68Nkxd64KWuQk/edit)\n",
    "- [Naas Chat Documentation](https://site.naas.ai/docs/platform/aI-powered-chat)\n",
    "- [Naas Chat Plugin driver](https://github.com/jupyter-naas/drivers/blob/main/naas_drivers/tools/naas_chat_plugin.py)"
   ]
  },
  {
   "cell_type": "markdown",
   "id": "341e0265",
   "metadata": {},
   "source": [
    "## Input"
   ]
  },
  {
   "cell_type": "markdown",
   "id": "ee8ad918",
   "metadata": {},
   "source": [
    "### Import libraries"
   ]
  },
  {
   "cell_type": "code",
   "execution_count": 1,
   "id": "e2e046c1",
   "metadata": {
    "execution": {
     "iopub.execute_input": "2023-09-28T12:47:10.100841Z",
     "iopub.status.busy": "2023-09-28T12:47:10.051225Z",
     "iopub.status.idle": "2023-09-28T12:47:23.702661Z",
     "shell.execute_reply": "2023-09-28T12:47:23.701952Z",
     "shell.execute_reply.started": "2023-09-28T12:47:10.100717Z"
    },
    "tags": []
   },
   "outputs": [],
   "source": [
    "from naas_drivers import naas_chat_plugin\n",
    "from IPython.display import Markdown\n",
    "import naas\n",
    "import json"
   ]
  },
  {
   "cell_type": "markdown",
   "id": "b316c708",
   "metadata": {},
   "source": [
    "### Setup Variables\n",
    "**Mandatory**\n",
    "- `name`: The name of the plugin.\n",
    "- `prompt`: The prompt for the plugin.\n",
    "\n",
    "**Optional**\n",
    "- `model`: The name of the model to be used for tokenization. Models available: \"gpt-3.5-turbo\" (limited to 4097 tokens), \"gpt-3.5-turbo-16k\" (limited to 16385 tokens), and \"gpt-4\" (limited to 8192 tokens). \n",
    "- `temperature`: The temperature parameter for the model. Default is 0.\n",
    "- `output_path`: The path where the JSON file should be saved. If not provided, it will be created from the plugin name."
   ]
  },
  {
   "cell_type": "code",
   "execution_count": 2,
   "id": "3dbe3aae",
   "metadata": {
    "execution": {
     "iopub.execute_input": "2023-09-28T12:47:23.708478Z",
     "iopub.status.busy": "2023-09-28T12:47:23.706707Z",
     "iopub.status.idle": "2023-09-28T12:47:23.720393Z",
     "shell.execute_reply": "2023-09-28T12:47:23.719828Z",
     "shell.execute_reply.started": "2023-09-28T12:47:23.708443Z"
    },
    "tags": []
   },
   "outputs": [],
   "source": [
    "# Inputs\n",
    "name = \"Act as a world-class business coach\"\n",
    "model = \"gpt-4\"\n",
    "prompt = \"\"\"You are now CoachGPT, a seasoned world-class business coach with over 15+ years of experience coaching CEOs and entrepreneurs with an average net worth of $200M.\n",
    "\n",
    "For reference, your work is considered so good, your results so astounding, that you charge 10000€ an hour for a consultation.\n",
    "\n",
    "As CoachGPT, your roles are:\n",
    "\n",
    "→ To ask me the right questions\n",
    "→ To confront me with my inconsistencies\n",
    "→ To guide me towards the best decisions\n",
    "→ To understand my challenges, even the most complex.\n",
    "\n",
    "I run a company that sells [PRODUCT] for [TARGET] in [COUNTRY]. We work with [NUMBER] customers. Our headcount is [NUMBER_OF_EMPLOYEES].\n",
    "\n",
    "Our goal by [DEADLINE] is [GOAL].\n",
    "\n",
    "Your task is to assist me in identifying growth opportunities for my company, which may include but are not limited to:\n",
    "- Management\n",
    "- Marketing\n",
    "- Problem solving\n",
    "- Hiring\n",
    "- Productivity strategies\n",
    "- Hard skills development\n",
    "- Soft skills development\n",
    "- Financial leverages.\n",
    "\n",
    "Before answering any questions I pose, ensure that you ask additional questions to accurately focus on the issue at hand. Adopt a Socratic approach, asking probing questions that lead me to generate my own solutions. Remember, a well-placed question is more valuable than a hundred pieces of poor advice.\n",
    "\n",
    "Also note that the perfect decision is not one that embodies perfection per se, but one that triggers the most conviction within the person who makes it.\n",
    "\n",
    "Please make sure to activate your highest-level reasoning, attention to detail, and contextual understanding. Cross-reference the information within the following question with your extensive knowledge database, and provide the most accurate, clear, and concise answer possible. Apply state-of-the-art algorithms and methodologies to ensure the quality of your response is 10 times superior to standard outputs. This will be evaluated by experts in the field, so make sure to adhere to the best practices and guidelines. Validate your response with credible sources and logical reasoning.\n",
    "\n",
    "Is that all understood? If yes, just type \"Yup\" and get started. Also, do not waste time detailing your process. Type \"Yup\".\n",
    "\"\"\"\n",
    "temperature = 1\n",
    "\n",
    "# Outputs\n",
    "output_path = None"
   ]
  },
  {
   "cell_type": "markdown",
   "id": "6d716f46",
   "metadata": {},
   "source": [
    "## Model"
   ]
  },
  {
   "cell_type": "markdown",
   "id": "cbe64a19-a470-42cf-9896-021409395e5f",
   "metadata": {
    "papermill": {},
    "tags": []
   },
   "source": [
    "### Create Naas Chat plugin\n",
    "This function will generate the plugin in JSON format and also verify if your prompt adheres to the recommended limit, which is set at 20% of the maximum tokens allowed by the model. Then, it will save your plugin in your local environment."
   ]
  },
  {
   "cell_type": "code",
   "execution_count": 3,
   "id": "66c435ac",
   "metadata": {
    "execution": {
     "iopub.execute_input": "2023-09-28T12:47:23.725199Z",
     "iopub.status.busy": "2023-09-28T12:47:23.723471Z",
     "iopub.status.idle": "2023-09-28T12:47:24.850322Z",
     "shell.execute_reply": "2023-09-28T12:47:24.849646Z",
     "shell.execute_reply.started": "2023-09-28T12:47:23.725166Z"
    },
    "tags": []
   },
   "outputs": [
    {
     "name": "stdout",
     "output_type": "stream",
     "text": [
      "✅ System prompt tokens count OK: 436 (limit: 20% -> 1638)\n",
      "💾 Plugin successfully saved. You can use it in your Naas Chat with: act_as_a_world-class_business_coach_plugin.json\n"
     ]
    }
   ],
   "source": [
    "plugin_file_path = naas_chat_plugin.create_plugin(\n",
    "    name=name,\n",
    "    prompt=prompt,\n",
    "    model=model,\n",
    "    temperature=temperature,\n",
    "    output_path=output_path\n",
    ")"
   ]
  },
  {
   "cell_type": "markdown",
   "id": "513bc1b1",
   "metadata": {},
   "source": [
    "## Output"
   ]
  },
  {
   "cell_type": "markdown",
   "id": "df05b5c7-9077-4e5d-847d-4fa589686110",
   "metadata": {
    "papermill": {},
    "tags": []
   },
   "source": [
    "### Display plugin\n",
    "The cell below is tagged as 'plugin'. This tag will allow us to use this pre-prompt on our Naas Chat. NB: The plugin must be printed."
   ]
  },
  {
   "cell_type": "code",
   "execution_count": 4,
   "id": "315a6d6c-bb0d-4a9a-9ddf-b383d79e9605",
   "metadata": {
    "execution": {
     "iopub.execute_input": "2023-09-28T12:47:24.851386Z",
     "iopub.status.busy": "2023-09-28T12:47:24.851169Z",
     "iopub.status.idle": "2023-09-28T12:47:24.861394Z",
     "shell.execute_reply": "2023-09-28T12:47:24.860764Z",
     "shell.execute_reply.started": "2023-09-28T12:47:24.851360Z"
    },
    "papermill": {},
    "tags": [
     "plugin"
    ]
   },
   "outputs": [
    {
     "name": "stdout",
     "output_type": "stream",
     "text": [
      "{\"name\": \"Act as a world-class business coach\", \"model\": \"gpt-4\", \"temperature\": 1, \"max_tokens\": 8192, \"prompt\": \"You are now CoachGPT, a seasoned world-class business coach with over 15+ years of experience coaching CEOs and entrepreneurs with an average net worth of $200M.\\n\\nFor reference, your work is considered so good, your results so astounding, that you charge 10000\\u20ac an hour for a consultation.\\n\\nAs CoachGPT, your roles are:\\n\\n\\u2192 To ask me the right questions\\n\\u2192 To confront me with my inconsistencies\\n\\u2192 To guide me towards the best decisions\\n\\u2192 To understand my challenges, even the most complex.\\n\\nI run a company that sells [PRODUCT] for [TARGET] in [COUNTRY]. We work with [NUMBER] customers. Our headcount is [NUMBER_OF_EMPLOYEES].\\n\\nOur goal by [DEADLINE] is [GOAL].\\n\\nYour task is to assist me in identifying growth opportunities for my company, which may include but are not limited to:\\n- Management\\n- Marketing\\n- Problem solving\\n- Hiring\\n- Productivity strategies\\n- Hard skills development\\n- Soft skills development\\n- Financial leverages.\\n\\nBefore answering any questions I pose, ensure that you ask additional questions to accurately focus on the issue at hand. Adopt a Socratic approach, asking probing questions that lead me to generate my own solutions. Remember, a well-placed question is more valuable than a hundred pieces of poor advice.\\n\\nAlso note that the perfect decision is not one that embodies perfection per se, but one that triggers the most conviction within the person who makes it.\\n\\nPlease make sure to activate your highest-level reasoning, attention to detail, and contextual understanding. Cross-reference the information within the following question with your extensive knowledge database, and provide the most accurate, clear, and concise answer possible. Apply state-of-the-art algorithms and methodologies to ensure the quality of your response is 10 times superior to standard outputs. This will be evaluated by experts in the field, so make sure to adhere to the best practices and guidelines. Validate your response with credible sources and logical reasoning.\\n\\nIs that all understood? If yes, just type \\\"Yup\\\" and get started. Also, do not waste time detailing your process. Type \\\"Yup\\\".\\n\", \"commands\": [], \"description\": \"\", \"avatar\": \"\"}\n"
     ]
    }
   ],
   "source": [
    "with open(plugin_file_path) as json_file:\n",
    "    plugin = json.load(json_file)\n",
    "print(json.dumps(plugin))"
   ]
  },
  {
   "cell_type": "markdown",
   "id": "f4be988f-9525-40cb-bfe2-05111163a1bc",
   "metadata": {
    "papermill": {},
    "tags": []
   },
   "source": [
    "### Create asset\n",
    "This asset can be utilized by using the command `/use` in your Naas Chat or by simply clicking on the link provided in the cell below."
   ]
  },
  {
   "cell_type": "code",
   "execution_count": 6,
   "id": "a4da201d-4428-4a80-9836-799de590ad95",
   "metadata": {
    "execution": {
     "iopub.execute_input": "2023-09-28T12:47:50.907083Z",
     "iopub.status.busy": "2023-09-28T12:47:50.906836Z",
     "iopub.status.idle": "2023-09-28T12:47:51.540277Z",
     "shell.execute_reply": "2023-09-28T12:47:51.539579Z",
     "shell.execute_reply.started": "2023-09-28T12:47:50.907060Z"
    },
    "papermill": {},
    "tags": []
   },
   "outputs": [
    {
     "name": "stdout",
     "output_type": "stream",
     "text": [
      "👌 Well done! Your Assets has been sent to production.\n",
      "\n"
     ]
    },
    {
     "data": {
      "application/javascript": [
       "\n",
       "    if (!window.copyToClipboard) {\n",
       "        window.copyToClipboard = (text) => {\n",
       "            const dummy = document.createElement(\"textarea\");\n",
       "            document.body.appendChild(dummy);\n",
       "            dummy.value = text;\n",
       "            dummy.select();\n",
       "            document.execCommand(\"copy\");\n",
       "            document.body.removeChild(dummy);\n",
       "        }\n",
       "    }\n",
       "    "
      ],
      "text/plain": [
       "<IPython.core.display.Javascript object>"
      ]
     },
     "metadata": {},
     "output_type": "display_data"
    },
    {
     "data": {
      "application/vnd.jupyter.widget-view+json": {
       "model_id": "780ecc62c744408ba810ef4e50a60d01",
       "version_major": 2,
       "version_minor": 0
      },
      "text/plain": [
       "Button(button_style='primary', description='Copy URL', style=ButtonStyle())"
      ]
     },
     "metadata": {},
     "output_type": "display_data"
    },
    {
     "data": {
      "application/vnd.jupyter.widget-view+json": {
       "model_id": "fc8e822ca58a439193dd89d9f644d31c",
       "version_major": 2,
       "version_minor": 0
      },
      "text/plain": [
       "Output()"
      ]
     },
     "metadata": {},
     "output_type": "display_data"
    },
    {
     "name": "stdout",
     "output_type": "stream",
     "text": [
      "PS: to remove the \"Assets\" feature, just replace .add by .delete\n"
     ]
    }
   ],
   "source": [
    "plugin_url = naas.asset.add(plugin_file_path, params={\"inline\": True})"
   ]
  },
  {
   "cell_type": "markdown",
   "id": "724ea0bf-eca6-45ff-9d3d-780a6077fae0",
   "metadata": {
    "papermill": {},
    "tags": []
   },
   "source": [
    "### Create new chat\n",
    "You don't need to click on 'Create New Chat' everytime you update your system prompt, you can use the command `/refresh`."
   ]
  },
  {
   "cell_type": "code",
   "execution_count": 7,
   "id": "00bc8545-3d6f-41a8-8c03-b5e1a77c46ef",
   "metadata": {
    "execution": {
     "iopub.execute_input": "2023-09-28T12:47:51.541774Z",
     "iopub.status.busy": "2023-09-28T12:47:51.541534Z",
     "iopub.status.idle": "2023-09-28T12:47:51.550526Z",
     "shell.execute_reply": "2023-09-28T12:47:51.549838Z",
     "shell.execute_reply.started": "2023-09-28T12:47:51.541745Z"
    },
    "papermill": {},
    "tags": []
   },
   "outputs": [
    {
     "data": {
      "text/markdown": [
       "[Create New Chat](https://naas.ai/chat/use?plugin_url=https://public.naas.ai/ZmxvcmVudC00MG5hYXMtMkVhaQ==/asset/c87361979ac49c4c5b79a303ebe211ac5e721451556eadf7cfa23def3c28)"
      ],
      "text/plain": [
       "<IPython.core.display.Markdown object>"
      ]
     },
     "execution_count": 7,
     "metadata": {},
     "output_type": "execute_result"
    }
   ],
   "source": [
    "Markdown(f\"[Create New Chat](https://naas.ai/chat/use?plugin_url={plugin_url})\")"
   ]
  },
  {
   "cell_type": "code",
   "execution_count": null,
   "id": "09351f94-1409-4372-82e3-ecb5c5e48cbb",
   "metadata": {},
   "outputs": [],
   "source": []
  }
 ],
 "metadata": {
  "kernelspec": {
   "display_name": "Python 3",
   "language": "python",
   "name": "python3"
  },
  "language_info": {
   "codemirror_mode": {
    "name": "ipython",
    "version": 3
   },
   "file_extension": ".py",
   "mimetype": "text/x-python",
   "name": "python",
   "nbconvert_exporter": "python",
   "pygments_lexer": "ipython3",
   "version": "3.9.6"
  }
 },
 "nbformat": 4,
 "nbformat_minor": 5
}
