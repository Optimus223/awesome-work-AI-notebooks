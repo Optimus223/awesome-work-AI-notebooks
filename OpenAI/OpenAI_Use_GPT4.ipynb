{
 "cells": [
  {
   "cell_type": "markdown",
   "id": "4791cbb3-f6cd-4046-ba3e-7848af92cba8",
   "metadata": {
    "papermill": {},
    "tags": []
   },
   "source": [
    "<img width=\"10%\" alt=\"Naas\" src=\"https://landen.imgix.net/jtci2pxwjczr/assets/5ice39g4.png?w=160\"/>"
   ]
  },
  {
   "cell_type": "markdown",
   "id": "0ef0ea5f-3614-4dd0-b223-f53e5e870e22",
   "metadata": {
    "papermill": {},
    "tags": []
   },
   "source": [
    "# OpenAI - Use GPT-4"
   ]
  },
  {
   "cell_type": "markdown",
   "id": "adf38cff-3aef-405d-a126-36e55dabf08b",
   "metadata": {
    "papermill": {},
    "tags": []
   },
   "source": [
    "**Tags:** #openai #gpt-4 #ai #nlp #machinelearning #deeplearning"
   ]
  },
  {
   "cell_type": "markdown",
   "id": "4ad002b2-699f-4d85-8c73-020d54023242",
   "metadata": {
    "papermill": {},
    "tags": []
   },
   "source": [
    "**Author:** [Florent Ravenel](https://www.linkedin.com/in/florent-ravenel/)"
   ]
  },
  {
   "cell_type": "markdown",
   "id": "925a3600-f3f3-47cf-ac1f-3a988e8ceb18",
   "metadata": {
    "papermill": {},
    "tags": []
   },
   "source": [
    "**Last update:** 2023-11-22 (Created: 2023-11-22)"
   ]
  },
  {
   "cell_type": "markdown",
   "id": "753f6c86-b292-47c7-ae17-8178ac433ca7",
   "metadata": {
    "papermill": {},
    "tags": []
   },
   "source": [
    "**Description:** This notebook will show how to use GPT-4 from OpenAI to generate text. It will be usefull for organizations that need to generate text from a given prompt."
   ]
  },
  {
   "cell_type": "markdown",
   "id": "c5123694-31ae-4224-8741-5df1aebff897",
   "metadata": {
    "papermill": {},
    "tags": []
   },
   "source": [
    "**References:**\n- [OpenAI GPT-4 Documentation](https://openai.com/blog/gpt-4/)\n- [GPT-4: The Fourth-Generation of OpenAI\u2019s Language Model](https://towardsdatascience.com/gpt-4-the-fourth-generation-of-openais-language-model-d2f9f3f2f9f2)"
   ]
  },
  {
   "cell_type": "markdown",
   "id": "27bb02c0-66e4-4618-b0df-e0d54b922432",
   "metadata": {
    "papermill": {},
    "tags": []
   },
   "source": [
    "## Input"
   ]
  },
  {
   "cell_type": "markdown",
   "id": "fde4d31e-0b75-4a35-ab96-0266541780c3",
   "metadata": {
    "papermill": {},
    "tags": []
   },
   "source": [
    "### Import libraries"
   ]
  },
  {
   "cell_type": "code",
   "execution_count": null,
   "id": "6f3e7bc7-b494-476b-8e73-5a4ed8e07e4b",
   "metadata": {
    "papermill": {},
    "tags": []
   },
   "source": "import openai",
   "outputs": []
  },
  {
   "cell_type": "markdown",
   "id": "8ca84ed6-8362-4db2-8e36-6a1128571e55",
   "metadata": {
    "papermill": {},
    "tags": []
   },
   "source": [
    "### Setup variables\n- `prompt`: the text prompt used to generate the text"
   ]
  },
  {
   "cell_type": "code",
   "execution_count": null,
   "id": "0b4e7254-3721-40b0-955c-c88b815baf9e",
   "metadata": {
    "papermill": {},
    "tags": []
   },
   "source": "prompt = \"This is a text prompt used to generate text\"",
   "outputs": []
  },
  {
   "cell_type": "markdown",
   "id": "1f4c45db-f2a0-4731-9b12-756f91784c65",
   "metadata": {
    "papermill": {},
    "tags": []
   },
   "source": [
    "## Model"
   ]
  },
  {
   "cell_type": "markdown",
   "id": "4c1cb5aa-3f38-4571-8d12-ff6be3b82acb",
   "metadata": {
    "papermill": {},
    "tags": []
   },
   "source": [
    "### Generate text"
   ]
  },
  {
   "cell_type": "markdown",
   "id": "6fb08158-087b-4f5f-b66d-d6b7d4166dab",
   "metadata": {
    "papermill": {},
    "tags": []
   },
   "source": [
    "Long description of the function: GPT-4 is a language model developed by OpenAI that can generate text from a given prompt. It is trained on a large corpus of text and can generate text that is similar to the text it was trained on."
   ]
  },
  {
   "cell_type": "code",
   "execution_count": null,
   "id": "7b8e40b2-31d7-4bb5-afaa-6259af8cd7c1",
   "metadata": {
    "papermill": {},
    "tags": []
   },
   "source": "text = openai.Engine().generate(prompt)",
   "outputs": []
  },
  {
   "cell_type": "markdown",
   "id": "b6984874-013b-4f44-a975-a1a81929a3c5",
   "metadata": {
    "papermill": {},
    "tags": []
   },
   "source": [
    "## Output"
   ]
  },
  {
   "cell_type": "markdown",
   "id": "f410bfc4-c257-49c7-ba43-827f45b0ad58",
   "metadata": {
    "papermill": {},
    "tags": []
   },
   "source": [
    "### Display result"
   ]
  },
  {
   "cell_type": "code",
   "execution_count": null,
   "id": "0c7b14b7-0858-4eb6-95e7-aed5d7048ff1",
   "metadata": {
    "papermill": {},
    "tags": []
   },
   "source": "print(text)",
   "outputs": []
  }
 ],
 "metadata": {
  "kernelspec": {
   "display_name": "Python 3",
   "language": "python",
   "name": "python3"
  },
  "language_info": {
   "codemirror_mode": {
    "name": "ipython",
    "version": 3
   },
   "file_extension": ".py",
   "mimetype": "text/x-python",
   "name": "python",
   "nbconvert_exporter": "python",
   "pygments_lexer": "ipython3",
   "version": "3.9.6"
  },
  "widgets": {
   "application/vnd.jupyter.widget-state+json": {
    "state": {},
    "version_major": 2,
    "version_minor": 0
   }
  }
 },
 "nbformat": 4,
 "nbformat_minor": 5
}