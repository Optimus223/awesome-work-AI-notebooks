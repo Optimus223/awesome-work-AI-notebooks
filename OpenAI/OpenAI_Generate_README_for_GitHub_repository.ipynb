{
 "cells": [
  {
   "cell_type": "markdown",
   "id": "d391a0e1-7099-44ad-8f17-30e936eb4092",
   "metadata": {
    "papermill": {},
    "tags": []
   },
   "source": [
    "<img width=\"10%\" alt=\"Naas\" src=\"https://landen.imgix.net/jtci2pxwjczr/assets/5ice39g4.png?w=160\"/>"
   ]
  },
  {
   "cell_type": "markdown",
   "id": "016e63d3-616c-4b82-a4b7-925be7b3cade",
   "metadata": {
    "papermill": {},
    "tags": []
   },
   "source": [
    "# OpenAI - Generate README for GitHub repository"
   ]
  },
  {
   "cell_type": "markdown",
   "id": "361054cb-6c28-4ba2-9c54-c63432902487",
   "metadata": {
    "papermill": {},
    "tags": []
   },
   "source": [
    "**Tags:** #openai #github #readme #repository #generate #automation"
   ]
  },
  {
   "cell_type": "markdown",
   "id": "c44920a4-c4f8-445c-847c-473565debdd5",
   "metadata": {
    "papermill": {},
    "tags": []
   },
   "source": [
    "**Author:** [Florent Ravenel](http://linkedin.com/in/florent-ravenel)"
   ]
  },
  {
   "cell_type": "markdown",
   "id": "c2e3049a-4307-49f3-bf05-7f47666e6442",
   "metadata": {
    "papermill": {},
    "tags": []
   },
   "source": [
    "**Description:** This notebook will generate a README for a GitHub repository based on the project name and description."
   ]
  },
  {
   "cell_type": "markdown",
   "id": "4c0846ab-eecc-4d8a-9b70-325b24563836",
   "metadata": {
    "papermill": {},
    "tags": []
   },
   "source": [
    "**References:**\n- [GitHub Documentation](https://docs.github.com/en/github/creating-cloning-and-archiving-repositories/creating-a-readme)\n- [OpenAI Documentation](https://openai.com/docs/)"
   ]
  },
  {
   "cell_type": "markdown",
   "id": "c6b9b773-54ed-40c3-b8ee-f014616a728a",
   "metadata": {
    "papermill": {},
    "tags": []
   },
   "source": [
    "## Input"
   ]
  },
  {
   "cell_type": "markdown",
   "id": "144c7db0-dfd1-4e3d-9a01-231462801173",
   "metadata": {
    "papermill": {},
    "tags": []
   },
   "source": [
    "### Import libraries"
   ]
  },
  {
   "cell_type": "code",
   "execution_count": null,
   "id": "dd3aaa0f-5d75-4a57-a069-a962e4ad2f60",
   "metadata": {
    "papermill": {},
    "tags": []
   },
   "source": "import openai",
   "outputs": []
  },
  {
   "cell_type": "markdown",
   "id": "3f6d75fa-56f2-4158-b259-a8a6def80be9",
   "metadata": {
    "papermill": {},
    "tags": []
   },
   "source": [
    "### Setup Variables\n- `project_name`: name of the project\n- `project_description`: description of the project"
   ]
  },
  {
   "cell_type": "code",
   "execution_count": null,
   "id": "9a950aed-3dfa-4e9d-b3c1-23081cd41c78",
   "metadata": {
    "papermill": {},
    "tags": []
   },
   "source": "project_name = \"OpenAI - Generate README for GitHub repository\"\nproject_description = \"Create readme based on project name and description\"",
   "outputs": []
  },
  {
   "cell_type": "markdown",
   "id": "c69cfe96-8b27-4374-b59a-4cc3c4382cad",
   "metadata": {
    "papermill": {},
    "tags": []
   },
   "source": [
    "## Model"
   ]
  },
  {
   "cell_type": "markdown",
   "id": "ce22353c-c242-461d-9be4-8c7a068a6e85",
   "metadata": {
    "papermill": {},
    "tags": []
   },
   "source": [
    "### Generate README"
   ]
  },
  {
   "cell_type": "markdown",
   "id": "5c18bf03-c958-49c4-8808-79c089858f2b",
   "metadata": {
    "papermill": {},
    "tags": []
   },
   "source": [
    "Generate a README for a GitHub repository based on the project name and description."
   ]
  },
  {
   "cell_type": "code",
   "execution_count": null,
   "id": "17daafb8-c5c7-4423-bd7e-1490ac99504f",
   "metadata": {
    "papermill": {},
    "tags": []
   },
   "source": "readme = f\"\"\"# {project_name}\n**Description:** {project_description}\n**References:**<br>- [GitHub Documentation](https://docs.github.com/en/github/creating-cloning-and-archiving-repositories/creating-a-readme)<br>- [OpenAI Documentation](https://openai.com/docs/)\n\"\"\"",
   "outputs": []
  },
  {
   "cell_type": "markdown",
   "id": "cf55d0d7-f52c-476b-b9c8-6e49d8b085fe",
   "metadata": {
    "papermill": {},
    "tags": []
   },
   "source": [
    "## Output"
   ]
  },
  {
   "cell_type": "markdown",
   "id": "9cca64ad-79c6-4925-b54c-c8dee45b1088",
   "metadata": {
    "papermill": {},
    "tags": []
   },
   "source": [
    "### Display result"
   ]
  },
  {
   "cell_type": "code",
   "execution_count": null,
   "id": "940a16b3-7f5f-4f78-9adb-56412a2b0d9c",
   "metadata": {
    "papermill": {},
    "tags": []
   },
   "source": "print(readme)",
   "outputs": []
  }
 ],
 "metadata": {
  "kernelspec": {
   "display_name": "Python 3",
   "language": "python",
   "name": "python3"
  },
  "language_info": {
   "codemirror_mode": {
    "name": "ipython",
    "version": 3
   },
   "file_extension": ".py",
   "mimetype": "text/x-python",
   "name": "python",
   "nbconvert_exporter": "python",
   "pygments_lexer": "ipython3",
   "version": "3.9.6"
  },
  "widgets": {
   "application/vnd.jupyter.widget-state+json": {
    "state": {},
    "version_major": 2,
    "version_minor": 0
   }
  }
 },
 "nbformat": 4,
 "nbformat_minor": 5
}