{
 "cells": [
  {
   "cell_type": "markdown",
   "id": "ed187eef-9e55-4ce4-89d9-324281009010",
   "metadata": {
    "papermill": {},
    "tags": []
   },
   "source": [
    "<img width=\"10%\" alt=\"Naas\" src=\"https://landen.imgix.net/jtci2pxwjczr/assets/5ice39g4.png?w=160\"/>"
   ]
  },
  {
   "cell_type": "markdown",
   "id": "ef6cdf0c-d312-4cb3-b736-eae6e535a1be",
   "metadata": {
    "papermill": {},
    "tags": []
   },
   "source": [
    "# OpenAI - Create chat completion"
   ]
  },
  {
   "cell_type": "markdown",
   "id": "b42111b5-d8e9-4dda-a6f8-4724210e2b5f",
   "metadata": {
    "papermill": {},
    "tags": []
   },
   "source": [
    "**Tags:** #openai #chat #completion #model #response #python"
   ]
  },
  {
   "cell_type": "markdown",
   "id": "7582ce0c-61df-4099-bbf3-848e4b496a92",
   "metadata": {
    "papermill": {},
    "tags": []
   },
   "source": [
    "**Author:** [Florent Ravenel](https://www.linkedin.com/in/florent-ravenel/)"
   ]
  },
  {
   "cell_type": "markdown",
   "id": "93cc5490-6c22-4f49-9deb-bb34e62e00d0",
   "metadata": {
    "papermill": {},
    "tags": []
   },
   "source": [
    "**Description:** This notebook creates a model response for the given chat conversation. It uses OpenAI's API to generate a response based on the conversation context. This is useful for organizations that need to generate automated responses to customer inquiries."
   ]
  },
  {
   "cell_type": "markdown",
   "id": "d5468cd2-0441-451f-9e52-b7fa74cc6886",
   "metadata": {
    "papermill": {},
    "tags": []
   },
   "source": [
    "**References:**\n- [OpenAI API Reference](https://platform.openai.com/docs/api-reference/chat/create?lang=python)\n- [OpenAI Documentation](https://openai.com/docs/)"
   ]
  },
  {
   "cell_type": "markdown",
   "id": "875ff847-adc5-494e-bed9-7abeee01cef9",
   "metadata": {
    "papermill": {},
    "tags": []
   },
   "source": [
    "## Input"
   ]
  },
  {
   "cell_type": "markdown",
   "id": "f3f696c5-9a88-45d8-bac6-c9dc47647e53",
   "metadata": {
    "papermill": {},
    "tags": []
   },
   "source": [
    "### Import libraries"
   ]
  },
  {
   "cell_type": "code",
   "execution_count": null,
   "id": "2deaaa21-41ad-4c42-af17-134ae01bd5a0",
   "metadata": {
    "papermill": {},
    "tags": []
   },
   "source": "import requests\nimport json",
   "outputs": []
  },
  {
   "cell_type": "markdown",
   "id": "3300be19-0a39-4b37-af8e-65002d903364",
   "metadata": {
    "papermill": {},
    "tags": []
   },
   "source": [
    "### Setup Variables\n- `api_key`: OpenAI API key. [Get your API key here](https://openai.com/docs/api-overview/).\n- `conversation`: Chat conversation to generate a response for."
   ]
  },
  {
   "cell_type": "code",
   "execution_count": null,
   "id": "810d38cc-9654-4bbc-8913-f7ad7ebcfea5",
   "metadata": {
    "papermill": {},
    "tags": []
   },
   "source": "api_key = \"YOUR_API_KEY\"\nconversation = \"Hello, how are you?\"",
   "outputs": []
  },
  {
   "cell_type": "markdown",
   "id": "ac0c4bae-0bd4-4d18-afc3-e31dc39f5756",
   "metadata": {
    "papermill": {},
    "tags": []
   },
   "source": [
    "## Model"
   ]
  },
  {
   "cell_type": "markdown",
   "id": "13c8597d-5059-43f4-9a6d-995f4a97b40c",
   "metadata": {
    "papermill": {},
    "tags": []
   },
   "source": [
    "### Generate response"
   ]
  },
  {
   "cell_type": "markdown",
   "id": "8b0fe4ad-3210-46bf-81d3-85d97aad1c17",
   "metadata": {
    "papermill": {},
    "tags": []
   },
   "source": [
    "Long description of the function: This function uses OpenAI's API to generate a response based on the conversation context."
   ]
  },
  {
   "cell_type": "code",
   "execution_count": null,
   "id": "1bb1b1ce-87fb-4423-a9dc-d46c574c72ca",
   "metadata": {
    "papermill": {},
    "tags": []
   },
   "source": "# Set up the request\nurl = \"https://api.openai.com/v1/engines/davinci/completions\"\nheaders = {\"Content-Type\": \"application/json\", \"Authorization\": f\"Bearer {api_key}\"}\n# Set up the data\ndata = {\"prompt\": conversation, \"max_tokens\": 50, \"temperature\": 0.7, \"top_p\": 0.9}\n# Make the request\nresponse = requests.post(url, headers=headers, data=json.dumps(data))\n# Get the response\nresponse_data = response.json()\n# Get the completion\ncompletion = response_data[\"choices\"][0][\"text\"]",
   "outputs": []
  },
  {
   "cell_type": "markdown",
   "id": "75cf62c7-cb2e-42e6-a93c-81a515fe8cb1",
   "metadata": {
    "papermill": {},
    "tags": []
   },
   "source": [
    "## Output"
   ]
  },
  {
   "cell_type": "markdown",
   "id": "10ea64aa-eb7c-474e-b6a5-d12454c1a440",
   "metadata": {
    "papermill": {},
    "tags": []
   },
   "source": [
    "### Display result"
   ]
  },
  {
   "cell_type": "code",
   "execution_count": null,
   "id": "fccc562c-9751-4049-ae6e-003ffcc5d2b4",
   "metadata": {
    "papermill": {},
    "tags": []
   },
   "source": "print(completion)",
   "outputs": []
  }
 ],
 "metadata": {
  "kernelspec": {
   "display_name": "Python 3",
   "language": "python",
   "name": "python3"
  },
  "language_info": {
   "codemirror_mode": {
    "name": "ipython",
    "version": 3
   },
   "file_extension": ".py",
   "mimetype": "text/x-python",
   "name": "python",
   "nbconvert_exporter": "python",
   "pygments_lexer": "ipython3",
   "version": "3.9.6"
  },
  "widgets": {
   "application/vnd.jupyter.widget-state+json": {
    "state": {},
    "version_major": 2,
    "version_minor": 0
   }
  }
 },
 "nbformat": 4,
 "nbformat_minor": 5
}