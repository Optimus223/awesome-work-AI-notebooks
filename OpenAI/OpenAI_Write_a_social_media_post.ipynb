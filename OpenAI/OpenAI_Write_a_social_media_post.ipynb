{
 "cells": [
  {
   "cell_type": "markdown",
   "id": "0d72eeb7-f77f-49e6-ab11-5b367329255e",
   "metadata": {
    "papermill": {},
    "tags": []
   },
   "source": [
    "<img width=\"10%\" alt=\"Naas\" src=\"https://landen.imgix.net/jtci2pxwjczr/assets/5ice39g4.png?w=160\"/>"
   ]
  },
  {
   "cell_type": "markdown",
   "id": "67dd7282-24aa-4c80-aa3b-de71cf270309",
   "metadata": {
    "papermill": {},
    "tags": []
   },
   "source": [
    "# OpenAI - Write a social media post"
   ]
  },
  {
   "cell_type": "markdown",
   "id": "752505be-92fd-4a6d-9799-ec8458090158",
   "metadata": {
    "papermill": {},
    "tags": []
   },
   "source": [
    "**Tags:** #openai #socialmedia #post #prompt #tone #platform"
   ]
  },
  {
   "cell_type": "markdown",
   "id": "6b27deb2-4f79-4314-914e-aa77615a9473",
   "metadata": {
    "papermill": {},
    "tags": []
   },
   "source": [
    "**Author:** [Florent Ravenel](https://www.linkedin.com/in/florent-ravenel/)"
   ]
  },
  {
   "cell_type": "markdown",
   "id": "8e9e0abb-5a5b-4598-8c28-80ce88b85949",
   "metadata": {
    "papermill": {},
    "tags": []
   },
   "source": [
    "**Description:** This notebook will create a prompt to write a social media post and be able to set the topic, the tone and the platform."
   ]
  },
  {
   "cell_type": "markdown",
   "id": "be53d612-3a13-45cd-9ef8-ee3d61782e97",
   "metadata": {
    "papermill": {},
    "tags": []
   },
   "source": [
    "**References:**\n- [OpenAI](https://openai.com/)\n- [Social Media Post](https://en.wikipedia.org/wiki/Social_media_post)"
   ]
  },
  {
   "cell_type": "markdown",
   "id": "2177434d-3b04-42e2-b1ad-2988122b7c53",
   "metadata": {
    "papermill": {},
    "tags": []
   },
   "source": [
    "## Input"
   ]
  },
  {
   "cell_type": "markdown",
   "id": "90f2f911-b1b6-41d5-9d29-e5e507e33ce5",
   "metadata": {
    "papermill": {},
    "tags": []
   },
   "source": [
    "### Import libraries"
   ]
  },
  {
   "cell_type": "code",
   "execution_count": null,
   "id": "6f9fefca-9ad3-467c-a555-223436ce3a5e",
   "metadata": {
    "papermill": {},
    "tags": []
   },
   "source": "import random",
   "outputs": []
  },
  {
   "cell_type": "markdown",
   "id": "61332c52-5215-4d54-becb-6df2eb869ff5",
   "metadata": {
    "papermill": {},
    "tags": []
   },
   "source": [
    "### Setup Variables\n- `topics`: list of topics to choose from\n- `tones`: list of tones to choose from\n- `platforms`: list of platforms to choose from"
   ]
  },
  {
   "cell_type": "code",
   "execution_count": null,
   "id": "3246aa4d-faf9-4df3-9eae-a1aa999c7d3a",
   "metadata": {
    "papermill": {},
    "tags": []
   },
   "source": "topics = [\n    \"AI\",\n    \"Machine Learning\",\n    \"Data Science\",\n    \"Robotics\",\n    \"Computer Vision\",\n    \"Natural Language Processing\",\n]\ntones = [\"informative\", \"humorous\", \"inspirational\", \"motivational\", \"educational\"]\nplatforms = [\"Twitter\", \"Facebook\", \"Instagram\", \"LinkedIn\"]",
   "outputs": []
  },
  {
   "cell_type": "markdown",
   "id": "2b5ff57e-1fda-4bc3-aa80-9e78de7e4927",
   "metadata": {
    "papermill": {},
    "tags": []
   },
   "source": [
    "## Model"
   ]
  },
  {
   "cell_type": "markdown",
   "id": "5a267483-3cad-4504-8b04-f693be775487",
   "metadata": {
    "papermill": {},
    "tags": []
   },
   "source": [
    "### Generate Prompt"
   ]
  },
  {
   "cell_type": "markdown",
   "id": "dd9840a5-1b8c-490b-bbb2-ea5f8271c888",
   "metadata": {
    "papermill": {},
    "tags": []
   },
   "source": [
    "Long description of the function: This function will generate a prompt to write a social media post by randomly selecting a topic, a tone and a platform from the variables setup in the input section."
   ]
  },
  {
   "cell_type": "code",
   "execution_count": null,
   "id": "223e7584-bb0e-4eb3-9656-325d7744ee4c",
   "metadata": {
    "papermill": {},
    "tags": []
   },
   "source": "def generate_prompt():\n    topic = random.choice(topics)\n    tone = random.choice(tones)\n    platform = random.choice(platforms)\n    return f\"Write a {tone} social media post about {topic} for {platform}.\"",
   "outputs": []
  },
  {
   "cell_type": "markdown",
   "id": "b8c20364-eaec-4691-af0b-d66dd2479bf9",
   "metadata": {
    "papermill": {},
    "tags": []
   },
   "source": [
    "## Output"
   ]
  },
  {
   "cell_type": "markdown",
   "id": "8772042f-bf7c-4175-8810-81198c6b209a",
   "metadata": {
    "papermill": {},
    "tags": []
   },
   "source": [
    "### Display result"
   ]
  },
  {
   "cell_type": "code",
   "execution_count": null,
   "id": "369fb801-5ceb-43f3-b226-0bee5b1dae04",
   "metadata": {
    "papermill": {},
    "tags": []
   },
   "source": "prompt = generate_prompt()\nprint(prompt)",
   "outputs": []
  },
  {
   "cell_type": "markdown",
   "id": "545114af-6a0d-4045-bf02-f8717cb4a94f",
   "metadata": {
    "papermill": {},
    "tags": []
   },
   "source": [
    " "
   ]
  }
 ],
 "metadata": {
  "kernelspec": {
   "display_name": "Python 3",
   "language": "python",
   "name": "python3"
  },
  "language_info": {
   "codemirror_mode": {
    "name": "ipython",
    "version": 3
   },
   "file_extension": ".py",
   "mimetype": "text/x-python",
   "name": "python",
   "nbconvert_exporter": "python",
   "pygments_lexer": "ipython3",
   "version": "3.9.6"
  },
  "widgets": {
   "application/vnd.jupyter.widget-state+json": {
    "state": {},
    "version_major": 2,
    "version_minor": 0
   }
  }
 },
 "nbformat": 4,
 "nbformat_minor": 5
}