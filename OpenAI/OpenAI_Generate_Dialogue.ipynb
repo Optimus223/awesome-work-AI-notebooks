{
 "cells": [
  {
   "cell_type": "markdown",
   "id": "latin-packing",
   "metadata": {
    "execution": {
     "iopub.execute_input": "2021-02-23T14:22:16.610471Z",
     "iopub.status.busy": "2021-02-23T14:22:16.610129Z",
     "iopub.status.idle": "2021-02-23T14:22:16.627784Z",
     "shell.execute_reply": "2021-02-23T14:22:16.626866Z",
     "shell.execute_reply.started": "2021-02-23T14:22:16.610384Z"
    },
    "papermill": {},
    "tags": []
   },
   "source": [
    "<img width=\"10%\" alt=\"Naas\" src=\"https://landen.imgix.net/jtci2pxwjczr/assets/5ice39g4.png?w=160\"/>"
   ]
  },
  {
   "cell_type": "markdown",
   "id": "compressed-wilson",
   "metadata": {
    "papermill": {},
    "tags": []
   },
   "source": [
    "# Tool - Action of the notebook\n",
    "<a href=\"https://app.naas.ai/user-redirect/naas/downloader?url=https://raw.githubusercontent.com/jupyter-naas/awesome-notebooks/master/template.ipynb\" target=\"_parent\">\n",
    "<img src=\"https://naasai-public.s3.eu-west-3.amazonaws.com/open_in_naas.svg\"/>\n",
    "</a><br><br><a href=\"https://github.com/jupyter-naas/awesome-notebooks/issues/new?assignees=&labels=&template=template-request.md&title=Tool+-+Action+of+the+notebook+\">Template request</a> | <a href=\"https://github.com/jupyter-naas/awesome-notebooks/issues/new?assignees=&labels=&template=bug_report.md&title=[ERROR]+Tool+/+Folder+Action+of+the+notebook+\">Bug report</a>"
   ]
  },
  {
   "cell_type": "markdown",
   "id": "religious-programmer",
   "metadata": {},
   "source": [
    "**Tags:** #openai #gpt #api #prompt"
   ]
  },
  {
   "cell_type": "markdown",
   "id": "1fe9f56e-561c-4f52-aef8-b861c9462107",
   "metadata": {},
   "source": [
    "**Author:** [Sriniketh Jayasendil](https://www.linkedin.com/in/sriniketh-jayasendil/)"
   ]
  },
  {
   "cell_type": "markdown",
   "id": "31ea7cdb-e10d-43fc-b026-f69249a59736",
   "metadata": {},
   "source": [
    "**Description:** This template shows how to use the OpenAI API to generate responses to user input within a Naas notebook, allowing users to create interactive chatbots or dialogue systems."
   ]
  },
  {
   "cell_type": "markdown",
   "id": "distinguished-truth",
   "metadata": {
    "papermill": {},
    "tags": []
   },
   "source": [
    "## Input"
   ]
  },
  {
   "cell_type": "markdown",
   "id": "numeric-mediterranean",
   "metadata": {},
   "source": [
    "### Import libraries"
   ]
  },
  {
   "cell_type": "code",
   "execution_count": 1,
   "id": "potential-surfing",
   "metadata": {
    "execution": {
     "iopub.execute_input": "2023-03-18T08:50:09.801790Z",
     "iopub.status.busy": "2023-03-18T08:50:09.801521Z",
     "iopub.status.idle": "2023-03-18T08:50:11.768368Z",
     "shell.execute_reply": "2023-03-18T08:50:11.767731Z",
     "shell.execute_reply.started": "2023-03-18T08:50:09.801725Z"
    },
    "tags": []
   },
   "outputs": [],
   "source": [
    "import naas\n",
    "\n",
    "# OpenAI\n",
    "try:\n",
    "    import openai\n",
    "except ModuleNotFoundError:\n",
    "    !pip install --user openai\n",
    "    import openai"
   ]
  },
  {
   "cell_type": "markdown",
   "id": "aggressive-trustee",
   "metadata": {},
   "source": [
    "### Setup Variables"
   ]
  },
  {
   "cell_type": "code",
   "execution_count": 2,
   "id": "continuous-melbourne",
   "metadata": {
    "execution": {
     "iopub.execute_input": "2023-03-18T08:50:13.127781Z",
     "iopub.status.busy": "2023-03-18T08:50:13.127547Z",
     "iopub.status.idle": "2023-03-18T08:50:13.232950Z",
     "shell.execute_reply": "2023-03-18T08:50:13.232362Z",
     "shell.execute_reply.started": "2023-03-18T08:50:13.127756Z"
    },
    "tags": []
   },
   "outputs": [],
   "source": [
    "#inputs\n",
    "openai.api_key = naas.secret.get(name=\"OPENAI_API_KEY\")\n",
    "choice = 1  # to ask every time if the user wants to continue the conversation(1) or not(0)\n",
    "\n",
    "#outputs\n",
    "messages = {}  # Logs the prompts and response generated."
   ]
  },
  {
   "cell_type": "markdown",
   "id": "registered-showcase",
   "metadata": {},
   "source": [
    "## Model"
   ]
  },
  {
   "cell_type": "markdown",
   "id": "tested-astrology",
   "metadata": {},
   "source": [
    "### Get the response from OpenAI API"
   ]
  },
  {
   "cell_type": "code",
   "execution_count": 3,
   "id": "crude-louisville",
   "metadata": {
    "execution": {
     "iopub.execute_input": "2023-03-18T08:50:15.138924Z",
     "iopub.status.busy": "2023-03-18T08:50:15.138693Z",
     "iopub.status.idle": "2023-03-18T08:50:15.142834Z",
     "shell.execute_reply": "2023-03-18T08:50:15.142178Z",
     "shell.execute_reply.started": "2023-03-18T08:50:15.138901Z"
    },
    "papermill": {},
    "tags": []
   },
   "outputs": [],
   "source": [
    "def gen_dialogue(prompt):\n",
    "    response = openai.Completion.create(\n",
    "      model=\"text-davinci-003\",\n",
    "      prompt=prompt,\n",
    "      temperature=0.7,\n",
    "      max_tokens=256,\n",
    "      top_p=1.0,\n",
    "      frequency_penalty=0.0,\n",
    "      presence_penalty=0.0,\n",
    "      stop=[\"\\\"\\\"\\\"\"]\n",
    "    )\n",
    "    \n",
    "    print('\\n\\n\\n' + response.choices[0].text)\n",
    "    messages[prompt] = response.choices[0].text"
   ]
  },
  {
   "cell_type": "markdown",
   "id": "lonely-pacific",
   "metadata": {
    "execution": {
     "iopub.execute_input": "2021-07-02T23:32:10.789097Z",
     "iopub.status.busy": "2021-07-02T23:32:10.788829Z",
     "iopub.status.idle": "2021-07-02T23:32:10.796900Z",
     "shell.execute_reply": "2021-07-02T23:32:10.796358Z",
     "shell.execute_reply.started": "2021-07-02T23:32:10.789033Z"
    }
   },
   "source": [
    "## Output"
   ]
  },
  {
   "cell_type": "markdown",
   "id": "890f7c86-b7bb-4f5d-9a1b-e492dd9580fd",
   "metadata": {},
   "source": [
    "### Store them in messages (dictionary) for logging the results"
   ]
  },
  {
   "cell_type": "code",
   "execution_count": 4,
   "id": "9c4e3b7b-6440-4844-8054-265f1aec65eb",
   "metadata": {
    "execution": {
     "iopub.execute_input": "2023-03-18T08:50:16.850414Z",
     "iopub.status.busy": "2023-03-18T08:50:16.850180Z",
     "iopub.status.idle": "2023-03-18T08:51:02.588336Z",
     "shell.execute_reply": "2023-03-18T08:51:02.587654Z",
     "shell.execute_reply.started": "2023-03-18T08:50:16.850390Z"
    },
    "tags": []
   },
   "outputs": [
    {
     "name": "stdout",
     "output_type": "stream",
     "text": [
      "\n"
     ]
    },
    {
     "name": "stdin",
     "output_type": "stream",
     "text": [
      "Enter the prompt:  List the features of Jupyter Notebook\n"
     ]
    },
    {
     "name": "stdout",
     "output_type": "stream",
     "text": [
      "\n",
      "\n",
      "\n",
      "\n",
      "\n",
      "1. Code cells: Allows you to write and execute code\n",
      "2. Markdown cells: Allows you to write and format text\n",
      "3. Interactive widgets: Allows you to create interactive user interfaces\n",
      "4. Inline plots: Allows you to display plots and charts within the notebook\n",
      "5. Export formats: Allows you to export your notebook in multiple formats\n",
      "6. Keyboard shortcuts: Allows you to quickly navigate and execute commands\n",
      "7. Spell checker: Allows you to check the spelling of your text\n",
      "8. Tab completion: Allows you to quickly complete commands and variables\n",
      "9. Syntax highlighting: Highlights code syntax for improved readability\n",
      "\n"
     ]
    },
    {
     "name": "stdin",
     "output_type": "stream",
     "text": [
      "Enter the choice [0/1]:  1\n"
     ]
    },
    {
     "name": "stdout",
     "output_type": "stream",
     "text": [
      "\n"
     ]
    },
    {
     "name": "stdin",
     "output_type": "stream",
     "text": [
      "Enter the prompt:  Go program to add two numbers\n"
     ]
    },
    {
     "name": "stdout",
     "output_type": "stream",
     "text": [
      "\n",
      "\n",
      "\n",
      "\n",
      "\n",
      "package main\n",
      "\n",
      "import \"fmt\"\n",
      "\n",
      "func main(){\n",
      "\t\t\t\t\t//declare two variables\n",
      "\tvar num1 float64 = 1.2\n",
      "\tvar num2 float64 = 2.3\n",
      "\t\n",
      "\t//add the two numbers\n",
      "\tsum := num1 + num2\n",
      "\t\n",
      "\t//print the result\n",
      "\tfmt.Println(\"The sum of the two numbers is\", sum)\n",
      "}\n",
      "\n"
     ]
    },
    {
     "name": "stdin",
     "output_type": "stream",
     "text": [
      "Enter the choice [0/1]:  0\n"
     ]
    },
    {
     "name": "stdout",
     "output_type": "stream",
     "text": [
      "\n",
      "\n",
      "\n",
      "\n",
      "{'List the features of Jupyter Notebook': '\\n\\n1. Code cells: Allows you to write and execute code\\n2. Markdown cells: Allows you to write and format text\\n3. Interactive widgets: Allows you to create interactive user interfaces\\n4. Inline plots: Allows you to display plots and charts within the notebook\\n5. Export formats: Allows you to export your notebook in multiple formats\\n6. Keyboard shortcuts: Allows you to quickly navigate and execute commands\\n7. Spell checker: Allows you to check the spelling of your text\\n8. Tab completion: Allows you to quickly complete commands and variables\\n9. Syntax highlighting: Highlights code syntax for improved readability', 'Go program to add two numbers': '\\n\\npackage main\\n\\nimport \"fmt\"\\n\\nfunc main(){\\n\\t\\t\\t\\t\\t//declare two variables\\n\\tvar num1 float64 = 1.2\\n\\tvar num2 float64 = 2.3\\n\\t\\n\\t//add the two numbers\\n\\tsum := num1 + num2\\n\\t\\n\\t//print the result\\n\\tfmt.Println(\"The sum of the two numbers is\", sum)\\n}'}\n"
     ]
    }
   ],
   "source": [
    "while(choice):\n",
    "    print()\n",
    "    prompt = input('Enter the prompt: ')\n",
    "    gen_dialogue(prompt)\n",
    "    print()\n",
    "    choice = int(input('Enter the choice [0/1]: '))\n",
    "\n",
    "print('\\n\\n\\n')\n",
    "print(messages)"
   ]
  },
  {
   "cell_type": "code",
   "execution_count": null,
   "id": "815319c0-e678-4c3a-894e-a8dd6d80df07",
   "metadata": {},
   "outputs": [],
   "source": []
  }
 ],
 "metadata": {
  "kernelspec": {
   "display_name": "Python 3",
   "language": "python",
   "name": "python3"
  },
  "language_info": {
   "codemirror_mode": {
    "name": "ipython",
    "version": 3
   },
   "file_extension": ".py",
   "mimetype": "text/x-python",
   "name": "python",
   "nbconvert_exporter": "python",
   "pygments_lexer": "ipython3",
   "version": "3.9.6"
  },
  "papermill": {
   "default_parameters": {},
   "environment_variables": {},
   "parameters": {},
   "version": "2.3.3"
  },
  "widgets": {
   "application/vnd.jupyter.widget-state+json": {
    "state": {},
    "version_major": 2,
    "version_minor": 0
   }
  }
 },
 "nbformat": 4,
 "nbformat_minor": 5
}
