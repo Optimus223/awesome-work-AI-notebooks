{
 "cells": [
  {
   "cell_type": "markdown",
   "id": "3ac3c4c1-ec94-4601-b247-bb196cbb7d46",
   "metadata": {},
   "source": [
    "<img width=\"10%\" alt=\"Naas\" src=\"https://landen.imgix.net/jtci2pxwjczr/assets/5ice39g4.png?w=160\"/>"
   ]
  },
  {
   "cell_type": "markdown",
   "id": "4b9723cf-72bd-4a84-8b69-0189543f2a83",
   "metadata": {},
   "source": [
    "# OpenAI - Generate text summaries"
   ]
  },
  {
   "attachments": {},
   "cell_type": "markdown",
   "id": "7e5b2c7d-a034-447b-bbf9-2fee6de67621",
   "metadata": {},
   "source": [
    "**Tags:** #openai #text #summary "
   ]
  },
  {
   "cell_type": "markdown",
   "id": "8a7960ad-1d6b-44ab-a7fd-fcadc9cfbd3a",
   "metadata": {},
   "source": [
    "**Author:** [Mohit Singh](https://www.linkedin.com/in/mohwits/)"
   ]
  },
  {
   "cell_type": "markdown",
   "id": "f71da201-2b02-4149-9060-0bf24690cdd9",
   "metadata": {},
   "source": [
    "**Description:** This notebook shows how to use the OpenAI API to generate text summaries."
   ]
  },
  {
   "cell_type": "markdown",
   "id": "c0927a3f-db1d-4845-a9e4-5098a6726ca0",
   "metadata": {},
   "source": [
    "## Input"
   ]
  },
  {
   "cell_type": "markdown",
   "id": "20292e9d-4aa1-4d73-b204-6dc4a9211b88",
   "metadata": {},
   "source": [
    "### Install package"
   ]
  },
  {
   "cell_type": "code",
   "execution_count": null,
   "id": "cb23c2e0-41bb-4a8d-b57c-a6a6df3f4136",
   "metadata": {
    "tags": []
   },
   "outputs": [],
   "source": [
    "import naas\n",
    "# OpenAI\n",
    "try:\n",
    "    import openai\n",
    "except ModuleNotFoundError:\n",
    "    !pip install --user openai\n",
    "    import openai"
   ]
  },
  {
   "attachments": {},
   "cell_type": "markdown",
   "id": "7a4cb6f3-3b3b-4eab-a82c-8e9aaa720b01",
   "metadata": {},
   "source": [
    "### Setup Variables\n",
    "- `api_key`: OpenAI API key, to obtain an OpenAI API key, please refer to the [OpenAI Documentation](https://openai.com/docs/).\n",
    "- `text`: Input text that needs to be summarized"
   ]
  },
  {
   "cell_type": "code",
   "execution_count": null,
   "id": "fdf7d401-f133-479b-9758-80cdb5dd4830",
   "metadata": {
    "tags": []
   },
   "outputs": [],
   "source": [
    "# OpenAI API key\n",
    "openai.api_key = naas.secret.get(\"OPENAI_API_KEY\")\n",
    "\n",
    "# prompt to get text\n",
    "text = input('Enter the your text: ')"
   ]
  },
  {
   "cell_type": "code",
   "execution_count": null,
   "id": "36d147b4-4d26-4ec8-b215-24b1a8a50cce",
   "metadata": {
    "tags": []
   },
   "outputs": [],
   "source": [
    "# prompt for model\n",
    "prompt = \"Summarize the given text: \" + text"
   ]
  },
  {
   "cell_type": "markdown",
   "id": "f6f95fe9-3f9e-46a9-be6a-291678e1db8f",
   "metadata": {},
   "source": [
    "## Model"
   ]
  },
  {
   "cell_type": "markdown",
   "id": "bea223c1-9dfc-4df7-af36-c24aabdca57c",
   "metadata": {},
   "source": [
    "### Establish connection with OpenAI and get the response"
   ]
  },
  {
   "cell_type": "code",
   "execution_count": null,
   "id": "256c84ee-1d8b-49f1-81a6-c18e6ddb855e",
   "metadata": {
    "tags": []
   },
   "outputs": [],
   "source": [
    "# Model to generate the repsonse\n",
    "response = openai.Completion.create(\n",
    "  model=\"text-davinci-003\",\n",
    "  prompt=prompt,\n",
    "  temperature=0.7,\n",
    "  max_tokens=256,\n",
    "  top_p=1.0,\n",
    "  frequency_penalty=0.0,\n",
    "  presence_penalty=0.0\n",
    ")"
   ]
  },
  {
   "cell_type": "code",
   "execution_count": null,
   "id": "c325963a-11a9-457e-ab13-9ae89450b18b",
   "metadata": {},
   "outputs": [],
   "source": [
    "# Get the summary from response generated\n",
    "summary = response.choices[0].text"
   ]
  },
  {
   "cell_type": "markdown",
   "id": "fdc07bd8-d472-4650-b93a-5fc2666f218e",
   "metadata": {},
   "source": [
    "## Output"
   ]
  },
  {
   "cell_type": "code",
   "execution_count": null,
   "id": "e8b8a428-07c6-406b-95b5-0bd3e0996157",
   "metadata": {
    "tags": []
   },
   "outputs": [],
   "source": [
    "# Display the summary\n",
    "print(summary)"
   ]
  }
 ],
 "metadata": {
  "kernelspec": {
   "display_name": "Python 3",
   "language": "python",
   "name": "python3"
  },
  "language_info": {
   "codemirror_mode": {
    "name": "ipython",
    "version": 3
   },
   "file_extension": ".py",
   "mimetype": "text/x-python",
   "name": "python",
   "nbconvert_exporter": "python",
   "pygments_lexer": "ipython3",
   "version": "3.9.6"
  }
 },
 "nbformat": 4,
 "nbformat_minor": 5
}
