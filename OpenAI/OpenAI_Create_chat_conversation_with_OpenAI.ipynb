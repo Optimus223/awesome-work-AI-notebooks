{
 "cells": [
  {
   "cell_type": "markdown",
   "id": "0997b123-01f6-4d9c-8150-f462ab4d6f78",
   "metadata": {
    "papermill": {},
    "tags": []
   },
   "source": [
    "<img width=\"10%\" alt=\"Naas\" src=\"https://landen.imgix.net/jtci2pxwjczr/assets/5ice39g4.png?w=160\"/>"
   ]
  },
  {
   "cell_type": "markdown",
   "id": "52dd5cfe-6599-441a-b94a-c70fcb3458d4",
   "metadata": {
    "papermill": {},
    "tags": []
   },
   "source": [
    "# OpenAI - Create chat conversation with OpenAI"
   ]
  },
  {
   "cell_type": "markdown",
   "id": "1dc20ce3-b502-42f7-8deb-6e874cb72d4e",
   "metadata": {
    "papermill": {},
    "tags": []
   },
   "source": [
    "**Tags:** #openai #chatbot #conversation #ai #nlp #python"
   ]
  },
  {
   "cell_type": "markdown",
   "id": "fbf26d9e-62f2-4daf-823a-2fb8cd3ba21f",
   "metadata": {
    "papermill": {},
    "tags": []
   },
   "source": [
    "**Author:** [Florent Ravenel](https://www.linkedin.com/in/florent-ravenel/)"
   ]
  },
  {
   "cell_type": "markdown",
   "id": "7af2171d-57b0-4883-8d79-531a89774f03",
   "metadata": {
    "papermill": {},
    "tags": []
   },
   "source": [
    "**Description:** This notebook will show how to create a chat conversation with OpenAI. It will be usefull to create a conversational AI for customer service or other applications."
   ]
  },
  {
   "cell_type": "markdown",
   "id": "ece2e4d1-d9da-439e-8e0f-1ff195657efd",
   "metadata": {
    "papermill": {},
    "tags": []
   },
   "source": [
    "**References:**\n- [OpenAI Documentation](https://openai.com/docs/)\n- [OpenAI GPT-3](https://openai.com/blog/openai-api/)"
   ]
  },
  {
   "cell_type": "markdown",
   "id": "54e5a86d-0204-4147-a642-d8319923bc38",
   "metadata": {
    "papermill": {},
    "tags": []
   },
   "source": [
    "## Input"
   ]
  },
  {
   "cell_type": "markdown",
   "id": "124658af-9ebc-4847-9a36-81539336fbb2",
   "metadata": {
    "papermill": {},
    "tags": []
   },
   "source": [
    "### Import libraries"
   ]
  },
  {
   "cell_type": "code",
   "execution_count": null,
   "id": "0a915d31-25e8-436d-92c3-b13a9f939b0b",
   "metadata": {
    "papermill": {},
    "tags": []
   },
   "source": "import openai",
   "outputs": []
  },
  {
   "cell_type": "markdown",
   "id": "923be67c-e987-4d01-bad6-fb0267d6e0d5",
   "metadata": {
    "papermill": {},
    "tags": []
   },
   "source": [
    "### Setup Variables\n- `openai_key`: OpenAI API key. [Get your OpenAI API key](https://openai.com/blog/openai-api/)"
   ]
  },
  {
   "cell_type": "code",
   "execution_count": null,
   "id": "56aac253-225a-460d-8b3c-eed934030abc",
   "metadata": {
    "papermill": {},
    "tags": []
   },
   "source": "openai_key = \"YOUR_OPENAI_API_KEY\"",
   "outputs": []
  },
  {
   "cell_type": "markdown",
   "id": "a84ce453-cb1b-483d-94e8-9c62e2a6b346",
   "metadata": {
    "papermill": {},
    "tags": []
   },
   "source": [
    "## Model"
   ]
  },
  {
   "cell_type": "markdown",
   "id": "2946fd13-78f0-4b97-9afe-f12c4b521ccd",
   "metadata": {
    "papermill": {},
    "tags": []
   },
   "source": [
    "### Create OpenAI chatbot"
   ]
  },
  {
   "cell_type": "markdown",
   "id": "3bc914d4-61d0-4170-b173-3c537f8d89d0",
   "metadata": {
    "papermill": {},
    "tags": []
   },
   "source": [
    "Long description of the function: This function will create a chatbot using OpenAI API. It will take the OpenAI API key as input and will return the chatbot object."
   ]
  },
  {
   "cell_type": "code",
   "execution_count": null,
   "id": "5f99dbce-c2ef-4f57-ac8f-f052b4c35954",
   "metadata": {
    "papermill": {},
    "tags": []
   },
   "source": "# Create OpenAI chatbot\nchatbot = openai.Completion(api_key=openai_key)",
   "outputs": []
  },
  {
   "cell_type": "markdown",
   "id": "3b9f5447-19b7-40e0-b01d-28e46b3028cc",
   "metadata": {
    "papermill": {},
    "tags": []
   },
   "source": [
    "## Output"
   ]
  },
  {
   "cell_type": "markdown",
   "id": "aebaa9a8-c969-42fd-8ea2-76cf12b52297",
   "metadata": {
    "papermill": {},
    "tags": []
   },
   "source": [
    "### Display result"
   ]
  },
  {
   "cell_type": "code",
   "execution_count": null,
   "id": "df5690d5-83f1-4722-a16d-09e31ed2ae15",
   "metadata": {
    "papermill": {},
    "tags": []
   },
   "source": "# Display chatbot object\nchatbot",
   "outputs": []
  },
  {
   "cell_type": "markdown",
   "id": "4921d9bf-ad07-4de2-bdf5-353d4d2147ca",
   "metadata": {
    "papermill": {},
    "tags": []
   },
   "source": [
    " "
   ]
  }
 ],
 "metadata": {
  "kernelspec": {
   "display_name": "Python 3",
   "language": "python",
   "name": "python3"
  },
  "language_info": {
   "codemirror_mode": {
    "name": "ipython",
    "version": 3
   },
   "file_extension": ".py",
   "mimetype": "text/x-python",
   "name": "python",
   "nbconvert_exporter": "python",
   "pygments_lexer": "ipython3",
   "version": "3.9.6"
  },
  "widgets": {
   "application/vnd.jupyter.widget-state+json": {
    "state": {},
    "version_major": 2,
    "version_minor": 0
   }
  }
 },
 "nbformat": 4,
 "nbformat_minor": 5
}