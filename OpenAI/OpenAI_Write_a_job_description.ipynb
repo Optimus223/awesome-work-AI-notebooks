{
 "cells": [
  {
   "cell_type": "markdown",
   "id": "c7585c56-0a1b-4b43-a2f6-11499130b7d8",
   "metadata": {
    "papermill": {},
    "tags": []
   },
   "source": [
    "<img width=\"10%\" alt=\"Naas\" src=\"https://landen.imgix.net/jtci2pxwjczr/assets/5ice39g4.png?w=160\"/>"
   ]
  },
  {
   "cell_type": "markdown",
   "id": "34942d35-188c-4da8-a0d7-c61933a902cc",
   "metadata": {
    "papermill": {},
    "tags": []
   },
   "source": [
    "# OpenAI - Write a job description"
   ]
  },
  {
   "cell_type": "markdown",
   "id": "1a67d350-15b4-48dd-b047-48f1d3ea5b08",
   "metadata": {
    "papermill": {},
    "tags": []
   },
   "source": [
    "**Tags:** #openai #jobdescription #writing #hiring #recruiting #position"
   ]
  },
  {
   "cell_type": "markdown",
   "id": "92ac3f1b-7293-4cf1-bd9d-6362f699808d",
   "metadata": {
    "papermill": {},
    "tags": []
   },
   "source": [
    "**Author:** [Florent Ravenel](https://www.linkedin.com/in/florent-ravenel/)"
   ]
  },
  {
   "cell_type": "markdown",
   "id": "83e5ae5d-b090-45d1-8e50-7d554de6db38",
   "metadata": {
    "papermill": {},
    "tags": []
   },
   "source": [
    "**Description:** This notebook provides a guide to write a job description for a specific position for your company."
   ]
  },
  {
   "cell_type": "markdown",
   "id": "d426e968-b934-4f04-aea6-3239b8d08d2f",
   "metadata": {
    "papermill": {},
    "tags": []
   },
   "source": [
    "**References:**\n",
    "- [Writing a Job Description: A Template to Get You Started](https://www.indeed.com/hire/how-to-write-a-job-description)"
   ]
  },
  {
   "cell_type": "markdown",
   "id": "50a1e69a-723a-4891-8631-e2d0cccabbd2",
   "metadata": {
    "papermill": {},
    "tags": []
   },
   "source": [
    "## Input"
   ]
  },
  {
   "cell_type": "markdown",
   "id": "68630fcf-3b89-4284-847d-860ec7c5ebfa",
   "metadata": {
    "papermill": {},
    "tags": []
   },
   "source": [
    "### Import libraries"
   ]
  },
  {
   "cell_type": "code",
   "execution_count": 1,
   "id": "a3d0d164-ad73-4c8b-a798-400c8d8538ab",
   "metadata": {
    "execution": {
     "iopub.execute_input": "2023-02-24T11:12:19.357116Z",
     "iopub.status.busy": "2023-02-24T11:12:19.356836Z",
     "iopub.status.idle": "2023-02-24T11:12:22.110675Z",
     "shell.execute_reply": "2023-02-24T11:12:22.110062Z",
     "shell.execute_reply.started": "2023-02-24T11:12:19.357045Z"
    },
    "papermill": {},
    "tags": []
   },
   "outputs": [],
   "source": [
    "try:\n",
    "    import openai\n",
    "except:\n",
    "    !pip install openai --user\n",
    "    import openai\n",
    "import naas"
   ]
  },
  {
   "cell_type": "markdown",
   "id": "77b2e46d-43f6-4821-9064-790eb9e17aca",
   "metadata": {
    "papermill": {},
    "tags": []
   },
   "source": [
    "### Setup Variables\n",
    "- `api_key`: OpenAI API key, to obtain an OpenAI API key, please refer to the [OpenAI Documentation](https://openai.com/docs/).\n",
    "- `position`: name of the position to write a job description for\n",
    "- `company`: name of the company recruiting"
   ]
  },
  {
   "cell_type": "code",
   "execution_count": 2,
   "id": "ce8456db-af2a-44bc-b48b-73f6d3310392",
   "metadata": {
    "execution": {
     "iopub.execute_input": "2023-02-24T11:12:22.113187Z",
     "iopub.status.busy": "2023-02-24T11:12:22.113019Z",
     "iopub.status.idle": "2023-02-24T11:12:22.281818Z",
     "shell.execute_reply": "2023-02-24T11:12:22.281252Z",
     "shell.execute_reply.started": "2023-02-24T11:12:22.113169Z"
    },
    "papermill": {},
    "tags": []
   },
   "outputs": [],
   "source": [
    "# Inputs\n",
    "api_key = naas.secret.get(name=\"OPENAI_API_KEY\") or \"ENTER_YOUR_OPENAI_API_KEY\"\n",
    "position = \"Data Scientist\"\n",
    "company = \"naas.ai\"\n",
    "details = \"Flexible hours, remote\"\n",
    "prompt = f\"Write a job description about '{position}' for '{company}' with specific details: {details}\"\n",
    "\n",
    "# Outputs\n",
    "file_path = f\"Job_description_{position.replace(' ', '_')}_{company}.txt\""
   ]
  },
  {
   "cell_type": "markdown",
   "id": "afb95e0e-c999-48e2-b2f0-65014888a571",
   "metadata": {
    "papermill": {},
    "tags": []
   },
   "source": [
    "## Model"
   ]
  },
  {
   "cell_type": "markdown",
   "id": "3f4e368d-d392-44b3-a232-4bbc5d6964e2",
   "metadata": {
    "papermill": {},
    "tags": []
   },
   "source": [
    "### Send requests to OpenAI API"
   ]
  },
  {
   "cell_type": "code",
   "execution_count": 3,
   "id": "81855312-e0b2-40fe-b7b0-7798f3eb11c2",
   "metadata": {
    "execution": {
     "iopub.execute_input": "2023-02-24T11:12:22.284496Z",
     "iopub.status.busy": "2023-02-24T11:12:22.284298Z",
     "iopub.status.idle": "2023-02-24T11:12:39.592789Z",
     "shell.execute_reply": "2023-02-24T11:12:39.592081Z",
     "shell.execute_reply.started": "2023-02-24T11:12:22.284475Z"
    },
    "papermill": {},
    "tags": []
   },
   "outputs": [],
   "source": [
    "openai.api_key = api_key\n",
    "response = openai.Completion.create(\n",
    "    engine=\"text-davinci-003\",\n",
    "    prompt=prompt,\n",
    "    max_tokens=2048,\n",
    "    temperature=0.5,\n",
    ")"
   ]
  },
  {
   "cell_type": "markdown",
   "id": "05b0bcdf-af92-49d4-8f29-9c408c5e8899",
   "metadata": {},
   "source": [
    "### Get text"
   ]
  },
  {
   "cell_type": "code",
   "execution_count": 4,
   "id": "9849219a-636d-4e17-98f7-308885f95603",
   "metadata": {
    "execution": {
     "iopub.execute_input": "2023-02-24T11:12:39.594159Z",
     "iopub.status.busy": "2023-02-24T11:12:39.593923Z",
     "iopub.status.idle": "2023-02-24T11:12:39.598136Z",
     "shell.execute_reply": "2023-02-24T11:12:39.597537Z",
     "shell.execute_reply.started": "2023-02-24T11:12:39.594128Z"
    },
    "tags": []
   },
   "outputs": [
    {
     "name": "stdout",
     "output_type": "stream",
     "text": [
      " work\n",
      "\n",
      "Data Scientist (Remote/Flexible Hours)\n",
      "\n",
      "Naas.ai is looking for a highly motivated and experienced Data Scientist to join our team. The successful candidate will be responsible for developing and deploying data-driven solutions to help our customers make better decisions.\n",
      "\n",
      "As a Data Scientist at Naas.ai, you will have the opportunity to work with a wide range of data sources and technologies. You will be expected to develop sophisticated models and algorithms to generate actionable insights from data. You will also be responsible for developing data visualizations to help our customers understand their data better.\n",
      "\n",
      "The ideal candidate should possess strong analytical, problem-solving, and communication skills. You should have experience with data mining, machine learning, natural language processing, and predictive modeling. You should also have experience with popular data analysis and visualization tools such as R, Python, and Tableau.\n",
      "\n",
      "This position is open to remote work and offers flexible hours.\n",
      "\n",
      "Responsibilities: \n",
      "\n",
      "• Develop, test, and deploy data-driven solutions to help our customers make better decisions\n",
      "• Develop sophisticated models and algorithms to generate actionable insights from data\n",
      "• Develop data visualizations to help our customers understand their data better\n",
      "• Work with a wide range of data sources and technologies\n",
      "• Stay up-to-date with the latest data science trends\n",
      "\n",
      "Qualifications: \n",
      "\n",
      "• Bachelor’s or Master’s degree in Computer Science, Mathematics, or a related field\n",
      "• 5+ years of experience in data science\n",
      "• Expertise in data mining, machine learning, natural language processing, and predictive modeling\n",
      "• Proficiency in popular data analysis and visualization tools such as R, Python, and Tableau\n",
      "• Strong analytical, problem-solving, and communication skills\n",
      "• Ability to work independently and in a remote environment\n",
      "• Ability to work flexible hours\n"
     ]
    }
   ],
   "source": [
    "text = response['choices'][0]['text']\n",
    "print(text)"
   ]
  },
  {
   "cell_type": "markdown",
   "id": "bf6f1b3d-ae5c-444b-8637-3b3f425f5c76",
   "metadata": {
    "papermill": {},
    "tags": []
   },
   "source": [
    "## Output"
   ]
  },
  {
   "cell_type": "markdown",
   "id": "c8db51fa-c433-4a07-9935-28276163dfc5",
   "metadata": {
    "papermill": {},
    "tags": []
   },
   "source": [
    "### Save text to txt file"
   ]
  },
  {
   "cell_type": "code",
   "execution_count": 5,
   "id": "6b3e01fa-dcfa-4b84-bc0c-054307d905e2",
   "metadata": {
    "execution": {
     "iopub.execute_input": "2023-02-24T11:12:39.599456Z",
     "iopub.status.busy": "2023-02-24T11:12:39.599071Z",
     "iopub.status.idle": "2023-02-24T11:12:39.717180Z",
     "shell.execute_reply": "2023-02-24T11:12:39.716486Z",
     "shell.execute_reply.started": "2023-02-24T11:12:39.599427Z"
    },
    "papermill": {},
    "tags": []
   },
   "outputs": [],
   "source": [
    "text_file = open(file_path, \"w\")\n",
    "text_file.write(text)\n",
    "text_file.close()"
   ]
  },
  {
   "cell_type": "markdown",
   "id": "188a9a55-9de6-4d2a-aad0-049e9436ce4f",
   "metadata": {
    "papermill": {},
    "tags": []
   },
   "source": [
    " "
   ]
  }
 ],
 "metadata": {
  "kernelspec": {
   "display_name": "Python 3",
   "language": "python",
   "name": "python3"
  },
  "language_info": {
   "codemirror_mode": {
    "name": "ipython",
    "version": 3
   },
   "file_extension": ".py",
   "mimetype": "text/x-python",
   "name": "python",
   "nbconvert_exporter": "python",
   "pygments_lexer": "ipython3",
   "version": "3.9.6"
  },
  "widgets": {
   "application/vnd.jupyter.widget-state+json": {
    "state": {},
    "version_major": 2,
    "version_minor": 0
   }
  }
 },
 "nbformat": 4,
 "nbformat_minor": 5
}
