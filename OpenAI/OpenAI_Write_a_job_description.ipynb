{
 "cells": [
  {
   "cell_type": "markdown",
   "id": "c7585c56-0a1b-4b43-a2f6-11499130b7d8",
   "metadata": {
    "papermill": {},
    "tags": []
   },
   "source": [
    "<img width=\"10%\" alt=\"Naas\" src=\"https://landen.imgix.net/jtci2pxwjczr/assets/5ice39g4.png?w=160\"/>"
   ]
  },
  {
   "cell_type": "markdown",
   "id": "34942d35-188c-4da8-a0d7-c61933a902cc",
   "metadata": {
    "papermill": {},
    "tags": []
   },
   "source": [
    "# OpenAI - Write a job description"
   ]
  },
  {
   "cell_type": "markdown",
   "id": "1a67d350-15b4-48dd-b047-48f1d3ea5b08",
   "metadata": {
    "papermill": {},
    "tags": []
   },
   "source": [
    "**Tags:** #openai #jobdescription #writing #hiring #recruiting #position"
   ]
  },
  {
   "cell_type": "markdown",
   "id": "92ac3f1b-7293-4cf1-bd9d-6362f699808d",
   "metadata": {
    "papermill": {},
    "tags": []
   },
   "source": [
    "**Author:** [Florent Ravenel](https://www.linkedin.com/in/florent-ravenel/)"
   ]
  },
  {
   "cell_type": "markdown",
   "id": "83e5ae5d-b090-45d1-8e50-7d554de6db38",
   "metadata": {
    "papermill": {},
    "tags": []
   },
   "source": [
    "**Description:** This notebook provides a guide to write a job description for a specific position."
   ]
  },
  {
   "cell_type": "markdown",
   "id": "d426e968-b934-4f04-aea6-3239b8d08d2f",
   "metadata": {
    "papermill": {},
    "tags": []
   },
   "source": [
    "**References:**\n- [Writing a Job Description](https://www.thebalancecareers.com/how-to-write-a-job-description-2061030)\n- [Writing a Job Description: A Template to Get You Started](https://www.indeed.com/hire/c/info/writing-a-job-description)"
   ]
  },
  {
   "cell_type": "markdown",
   "id": "50a1e69a-723a-4891-8631-e2d0cccabbd2",
   "metadata": {
    "papermill": {},
    "tags": []
   },
   "source": [
    "## Input"
   ]
  },
  {
   "cell_type": "markdown",
   "id": "68630fcf-3b89-4284-847d-860ec7c5ebfa",
   "metadata": {
    "papermill": {},
    "tags": []
   },
   "source": [
    "### Import libraries"
   ]
  },
  {
   "cell_type": "code",
   "execution_count": null,
   "id": "a3d0d164-ad73-4c8b-a798-400c8d8538ab",
   "metadata": {
    "papermill": {},
    "tags": []
   },
   "source": "import pandas as pd",
   "outputs": []
  },
  {
   "cell_type": "markdown",
   "id": "77b2e46d-43f6-4821-9064-790eb9e17aca",
   "metadata": {
    "papermill": {},
    "tags": []
   },
   "source": [
    "### Setup Variables\n- `position`: name of the position to write a job description for"
   ]
  },
  {
   "cell_type": "code",
   "execution_count": null,
   "id": "ce8456db-af2a-44bc-b48b-73f6d3310392",
   "metadata": {
    "papermill": {},
    "tags": []
   },
   "source": "position = \"Data Scientist\"",
   "outputs": []
  },
  {
   "cell_type": "markdown",
   "id": "afb95e0e-c999-48e2-b2f0-65014888a571",
   "metadata": {
    "papermill": {},
    "tags": []
   },
   "source": [
    "## Model"
   ]
  },
  {
   "cell_type": "markdown",
   "id": "0ae19ede-a460-4a39-9f0d-aa0c2ccf7b15",
   "metadata": {
    "papermill": {},
    "tags": []
   },
   "source": [
    "### Writing a job description"
   ]
  },
  {
   "cell_type": "markdown",
   "id": "d4e6f186-b42c-45f5-821a-5ab8687a9635",
   "metadata": {
    "papermill": {},
    "tags": []
   },
   "source": [
    "Write a job description for the position specified in the `position` variable."
   ]
  },
  {
   "cell_type": "code",
   "execution_count": null,
   "id": "8a4934d8-dc89-4cfe-93a3-03cdafe88680",
   "metadata": {
    "papermill": {},
    "tags": []
   },
   "source": "# Write a job description for the position specified in the `position` variable\njob_description = f\"\"\"\nWe are looking for an experienced {position} to join our team. The {position} will be responsible for developing and implementing data models and algorithms to analyze large datasets.\nThe {position} will be expected to:<br>- Develop and maintain data models and algorithms to analyze large datasets<br>- Identify trends and patterns in data<br>- Develop and implement data-driven solutions<br>- Create data visualizations to present findings<br>- Collaborate with other teams to develop data-driven solutions<br>- Stay up-to-date with the latest technologies and trends\nThe ideal candidate should have:<br>- A degree in Computer Science, Mathematics, Statistics, or a related field<br>- Experience with data modeling and algorithms<br>- Knowledge of data visualization tools<br>- Strong problem-solving and analytical skills<br>- Excellent communication and collaboration skills\n\"\"\"",
   "outputs": []
  },
  {
   "cell_type": "markdown",
   "id": "fce10cd3-cb68-468b-98f3-67e80b7d18e2",
   "metadata": {
    "papermill": {},
    "tags": []
   },
   "source": [
    "## Output"
   ]
  },
  {
   "cell_type": "markdown",
   "id": "db20f389-2377-435f-a34b-87b39ca85810",
   "metadata": {
    "papermill": {},
    "tags": []
   },
   "source": [
    "### Display result"
   ]
  },
  {
   "cell_type": "code",
   "execution_count": null,
   "id": "b21f41d8-02a0-4726-be14-d9ecf4390ae1",
   "metadata": {
    "papermill": {},
    "tags": []
   },
   "source": "print(job_description)",
   "outputs": []
  },
  {
   "cell_type": "markdown",
   "id": "188a9a55-9de6-4d2a-aad0-049e9436ce4f",
   "metadata": {
    "papermill": {},
    "tags": []
   },
   "source": [
    " "
   ]
  }
 ],
 "metadata": {
  "kernelspec": {
   "display_name": "Python 3",
   "language": "python",
   "name": "python3"
  },
  "language_info": {
   "codemirror_mode": {
    "name": "ipython",
    "version": 3
   },
   "file_extension": ".py",
   "mimetype": "text/x-python",
   "name": "python",
   "nbconvert_exporter": "python",
   "pygments_lexer": "ipython3",
   "version": "3.9.6"
  },
  "widgets": {
   "application/vnd.jupyter.widget-state+json": {
    "state": {},
    "version_major": 2,
    "version_minor": 0
   }
  }
 },
 "nbformat": 4,
 "nbformat_minor": 5
}