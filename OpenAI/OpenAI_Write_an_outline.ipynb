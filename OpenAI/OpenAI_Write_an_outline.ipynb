{
 "cells": [
  {
   "cell_type": "markdown",
   "id": "f8cd24f5-5cd5-4f07-9f69-121f1f2ad9e8",
   "metadata": {
    "papermill": {},
    "tags": []
   },
   "source": [
    "<img width=\"10%\" alt=\"Naas\" src=\"https://landen.imgix.net/jtci2pxwjczr/assets/5ice39g4.png?w=160\"/>"
   ]
  },
  {
   "cell_type": "markdown",
   "id": "d8047db6-8c06-45b6-886a-216187424b7c",
   "metadata": {
    "papermill": {},
    "tags": []
   },
   "source": [
    "# OpenAI - Write an Outline"
   ]
  },
  {
   "cell_type": "markdown",
   "id": "98934039-1139-47a0-8da5-bbdac5292605",
   "metadata": {
    "papermill": {},
    "tags": []
   },
   "source": [
    "**Tags:** #openai #outline #writing #topic #structure #organize"
   ]
  },
  {
   "cell_type": "markdown",
   "id": "d03cd34a-6ab7-4471-b21d-29d83e444304",
   "metadata": {
    "papermill": {},
    "tags": []
   },
   "source": [
    "**Author:** [Florent Ravenel](https://www.linkedin.com/in/florent-ravenel/)"
   ]
  },
  {
   "cell_type": "markdown",
   "id": "538efa1d-1bf9-486c-a0c9-ac62ff9aadb5",
   "metadata": {
    "papermill": {},
    "tags": []
   },
   "source": [
    "**Description:** This notebook will provide an outline for writing a specific topic."
   ]
  },
  {
   "cell_type": "markdown",
   "id": "50aea883-43f1-4960-a549-1b7e304a3e83",
   "metadata": {
    "papermill": {},
    "tags": []
   },
   "source": [
    "**References:**\n- [Writing an Outline](https://www.wikihow.com/Write-an-Outline)\n- [Outline Structure](https://www.scribbr.com/academic-writing/outline/)"
   ]
  },
  {
   "cell_type": "markdown",
   "id": "6bd6970f-01c7-4f8f-b917-a108ed6df88d",
   "metadata": {
    "papermill": {},
    "tags": []
   },
   "source": [
    "## Input"
   ]
  },
  {
   "cell_type": "markdown",
   "id": "dafcec2d-66d8-4033-abe9-dd779a7b5b05",
   "metadata": {
    "papermill": {},
    "tags": []
   },
   "source": [
    "### Import Libraries"
   ]
  },
  {
   "cell_type": "code",
   "execution_count": null,
   "id": "f611735c-3bf3-4688-9399-67073a50cc29",
   "metadata": {
    "papermill": {},
    "tags": []
   },
   "source": "import numpy as np\nimport pandas as pd",
   "outputs": []
  },
  {
   "cell_type": "markdown",
   "id": "1cc4b50c-29a0-4fa5-8723-95ba56996971",
   "metadata": {
    "papermill": {},
    "tags": []
   },
   "source": [
    "### Setup Variables\n- `topic`: the topic to be written about\n- `subtopics`: a list of subtopics related to the main topic"
   ]
  },
  {
   "cell_type": "code",
   "execution_count": null,
   "id": "aa01e564-ae40-48f3-8a0f-fdca5aafd76a",
   "metadata": {
    "papermill": {},
    "tags": []
   },
   "source": "topic = \"OpenAI\"\nsubtopics = [\"GPT-3\", \"Reinforcement Learning\", \"Generative Models\"]",
   "outputs": []
  },
  {
   "cell_type": "markdown",
   "id": "53c5be5c-3b99-4aca-bc05-d37eef9c63c3",
   "metadata": {
    "papermill": {},
    "tags": []
   },
   "source": [
    "## Model"
   ]
  },
  {
   "cell_type": "markdown",
   "id": "4f42b9a2-f839-4971-aadd-93cc0c5067c0",
   "metadata": {
    "papermill": {},
    "tags": []
   },
   "source": [
    "### Create Outline"
   ]
  },
  {
   "cell_type": "markdown",
   "id": "9b4f41f2-2094-4900-9976-2f02f7a42d93",
   "metadata": {
    "papermill": {},
    "tags": []
   },
   "source": [
    "Long description of the function: This function will create an outline for the given topic and subtopics."
   ]
  },
  {
   "cell_type": "code",
   "execution_count": null,
   "id": "41ec6a19-dbb5-4830-b69e-f15de032a7f8",
   "metadata": {
    "papermill": {},
    "tags": []
   },
   "source": "def create_outline(topic, subtopics):\n    outline = [topic]\n    for subtopic in subtopics:\n        outline.append(\"- \" + subtopic)\n    return outline",
   "outputs": []
  },
  {
   "cell_type": "markdown",
   "id": "3f23ce0e-eb35-4f6d-aecb-6986df1f8815",
   "metadata": {
    "papermill": {},
    "tags": []
   },
   "source": [
    "## Output"
   ]
  },
  {
   "cell_type": "markdown",
   "id": "56448fe3-344b-4ed2-b4d1-1269919a91e3",
   "metadata": {
    "papermill": {},
    "tags": []
   },
   "source": [
    "### Display Result"
   ]
  },
  {
   "cell_type": "code",
   "execution_count": null,
   "id": "9977000f-b0b2-4419-a954-2fef9194a912",
   "metadata": {
    "papermill": {},
    "tags": []
   },
   "source": "outline = create_outline(topic, subtopics)\nprint(outline)",
   "outputs": []
  }
 ],
 "metadata": {
  "kernelspec": {
   "display_name": "Python 3",
   "language": "python",
   "name": "python3"
  },
  "language_info": {
   "codemirror_mode": {
    "name": "ipython",
    "version": 3
   },
   "file_extension": ".py",
   "mimetype": "text/x-python",
   "name": "python",
   "nbconvert_exporter": "python",
   "pygments_lexer": "ipython3",
   "version": "3.9.6"
  },
  "widgets": {
   "application/vnd.jupyter.widget-state+json": {
    "state": {},
    "version_major": 2,
    "version_minor": 0
   }
  }
 },
 "nbformat": 4,
 "nbformat_minor": 5
}