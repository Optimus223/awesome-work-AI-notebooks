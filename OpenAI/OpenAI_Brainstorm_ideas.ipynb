{
 "cells": [
  {
   "cell_type": "markdown",
   "id": "f9469ffe-b31a-4e62-a5c6-674d82d53942",
   "metadata": {
    "papermill": {},
    "tags": []
   },
   "source": [
    "<img width=\"10%\" alt=\"Naas\" src=\"https://landen.imgix.net/jtci2pxwjczr/assets/5ice39g4.png?w=160\"/>"
   ]
  },
  {
   "cell_type": "markdown",
   "id": "01ec0b3e-9062-46ef-b6c6-eb42be8ff3d8",
   "metadata": {
    "papermill": {},
    "tags": []
   },
   "source": [
    "# OpenAI - Brainstorm ideas"
   ]
  },
  {
   "cell_type": "markdown",
   "id": "ca6bb060-c70b-46de-85b3-0e92563a8435",
   "metadata": {
    "papermill": {},
    "tags": []
   },
   "source": [
    "**Tags:** #openai #brainstorm #ideas #ai #machinelearning #deeplearning"
   ]
  },
  {
   "cell_type": "markdown",
   "id": "d1f420a0-c288-4a40-a82e-fd59d14cb8ee",
   "metadata": {
    "papermill": {},
    "tags": []
   },
   "source": [
    "**Author:** [Florent Ravenel](https://www.linkedin.com/in/florent-ravenel/)"
   ]
  },
  {
   "cell_type": "markdown",
   "id": "277a92fe-4b02-403c-8f95-0a098250f13b",
   "metadata": {
    "papermill": {},
    "tags": []
   },
   "source": [
    "**Description:** This notebook will help brainstorm ideas on a specific topic using OpenAI."
   ]
  },
  {
   "cell_type": "markdown",
   "id": "e0c391e5-f272-4904-ab1c-21bf3af8a587",
   "metadata": {
    "papermill": {},
    "tags": []
   },
   "source": [
    "**References:**\n- [OpenAI](https://openai.com/)\n- [Brainstorming](https://en.wikipedia.org/wiki/Brainstorming)"
   ]
  },
  {
   "cell_type": "markdown",
   "id": "77fa9a9e-d86b-482c-9148-bc75d51c499d",
   "metadata": {
    "papermill": {},
    "tags": []
   },
   "source": [
    "## Input"
   ]
  },
  {
   "cell_type": "markdown",
   "id": "4e3e57f9-c646-4704-a550-1a7e9fa5084a",
   "metadata": {
    "papermill": {},
    "tags": []
   },
   "source": [
    "### Import libraries"
   ]
  },
  {
   "cell_type": "code",
   "execution_count": null,
   "id": "a4131a24-dc99-438d-9f69-5b06d56d595c",
   "metadata": {
    "papermill": {},
    "tags": []
   },
   "source": "import openai",
   "outputs": []
  },
  {
   "cell_type": "markdown",
   "id": "cab42924-779b-4eed-a131-a85011c4ef3c",
   "metadata": {
    "papermill": {},
    "tags": []
   },
   "source": [
    "### Setup Variables\n- `topic`: the topic to brainstorm ideas on"
   ]
  },
  {
   "cell_type": "code",
   "execution_count": null,
   "id": "053fa4c5-f8e2-4a45-8f29-84d45b7cdd56",
   "metadata": {
    "papermill": {},
    "tags": []
   },
   "source": "topic = \"AI\"",
   "outputs": []
  },
  {
   "cell_type": "markdown",
   "id": "04b043a1-d5bf-40f7-a007-1320d2e3c017",
   "metadata": {
    "papermill": {},
    "tags": []
   },
   "source": [
    "## Model"
   ]
  },
  {
   "cell_type": "markdown",
   "id": "ec133477-0499-400e-a360-24d599b7d21e",
   "metadata": {
    "papermill": {},
    "tags": []
   },
   "source": [
    "### Brainstorm ideas"
   ]
  },
  {
   "cell_type": "markdown",
   "id": "3bf943ca-362d-44ac-9c17-6451d0ac42b5",
   "metadata": {
    "papermill": {},
    "tags": []
   },
   "source": [
    "Long description of the function: This function will use OpenAI to generate ideas related to the topic."
   ]
  },
  {
   "cell_type": "code",
   "execution_count": null,
   "id": "22fea061-9dc4-41b8-9ff5-45bf41e4118c",
   "metadata": {
    "papermill": {},
    "tags": []
   },
   "source": "# Generate ideas\nideas = openai.generate_ideas(topic)",
   "outputs": []
  },
  {
   "cell_type": "markdown",
   "id": "ddcc196a-c886-4ae8-816d-9b1f5c4e92b3",
   "metadata": {
    "papermill": {},
    "tags": []
   },
   "source": [
    "## Output"
   ]
  },
  {
   "cell_type": "markdown",
   "id": "b1aadb22-53bc-4d5a-b25b-cc099d0217df",
   "metadata": {
    "papermill": {},
    "tags": []
   },
   "source": [
    "### Display result"
   ]
  },
  {
   "cell_type": "code",
   "execution_count": null,
   "id": "2f6501b0-b121-4928-876e-51aac184f3e3",
   "metadata": {
    "papermill": {},
    "tags": []
   },
   "source": "# Display ideas\nfor idea in ideas:\n    print(idea)",
   "outputs": []
  }
 ],
 "metadata": {
  "kernelspec": {
   "display_name": "Python 3",
   "language": "python",
   "name": "python3"
  },
  "language_info": {
   "codemirror_mode": {
    "name": "ipython",
    "version": 3
   },
   "file_extension": ".py",
   "mimetype": "text/x-python",
   "name": "python",
   "nbconvert_exporter": "python",
   "pygments_lexer": "ipython3",
   "version": "3.9.6"
  },
  "widgets": {
   "application/vnd.jupyter.widget-state+json": {
    "state": {},
    "version_major": 2,
    "version_minor": 0
   }
  }
 },
 "nbformat": 4,
 "nbformat_minor": 5
}