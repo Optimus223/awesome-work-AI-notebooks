{
 "cells": [
  {
   "cell_type": "markdown",
   "id": "4acf11bd-e9b5-42c4-9b87-f60e39965592",
   "metadata": {
    "papermill": {},
    "tags": []
   },
   "source": [
    "<img width=\"10%\" alt=\"Naas\" src=\"https://landen.imgix.net/jtci2pxwjczr/assets/5ice39g4.png?w=160\"/>"
   ]
  },
  {
   "cell_type": "markdown",
   "id": "34c3dcaf-759d-4b89-9a0f-beae6c019cc7",
   "metadata": {
    "papermill": {},
    "tags": []
   },
   "source": [
    "# OpenAI - Write a press release"
   ]
  },
  {
   "cell_type": "markdown",
   "id": "c8345328-a073-4128-a64d-46681e319c6f",
   "metadata": {
    "papermill": {},
    "tags": []
   },
   "source": [
    "**Tags:** #openai #pressrelease #writing #communication #publicrelations #journalism"
   ]
  },
  {
   "cell_type": "markdown",
   "id": "a2615ff9-1171-4ca5-96b6-2b0bccdcf00d",
   "metadata": {
    "papermill": {},
    "tags": []
   },
   "source": [
    "**Author:** [Florent Ravenel](https://www.linkedin.com/in/florent-ravenel/)"
   ]
  },
  {
   "cell_type": "markdown",
   "id": "568bca3b-ff6a-4c57-9f86-1d6103b28b76",
   "metadata": {
    "papermill": {},
    "tags": []
   },
   "source": [
    "**Description:** This notebook will provide a guide to write a press release and be able to set topic, dateline, company description, contact information, a call to aciton."
   ]
  },
  {
   "cell_type": "markdown",
   "id": "d901f837-a2e8-413b-b989-425d9a48210c",
   "metadata": {
    "papermill": {},
    "tags": []
   },
   "source": [
    "**References:**\n- [Writing a Press Release](https://www.thebalancecareers.com/how-to-write-a-press-release-2071902)\n- [Press Release Format](https://www.thebalancecareers.com/press-release-format-2063291)"
   ]
  },
  {
   "cell_type": "markdown",
   "id": "6a88acc5-281c-4362-87f9-91bdbc908b1b",
   "metadata": {
    "papermill": {},
    "tags": []
   },
   "source": [
    "## Input"
   ]
  },
  {
   "cell_type": "markdown",
   "id": "b926bbfd-120a-4ea2-9a5a-54166cc69189",
   "metadata": {
    "papermill": {},
    "tags": []
   },
   "source": [
    "### Import libraries"
   ]
  },
  {
   "cell_type": "code",
   "execution_count": null,
   "id": "c0721a15-3f15-4f24-b0e8-534adf30d34b",
   "metadata": {
    "papermill": {},
    "tags": []
   },
   "source": "import pandas as pd",
   "outputs": []
  },
  {
   "cell_type": "markdown",
   "id": "65aa58e1-abc1-4cd6-96ae-b54c3c557992",
   "metadata": {
    "papermill": {},
    "tags": []
   },
   "source": [
    "### Setup Variables\n- **topic**: The topic of the press release\n- **dateline**: The date and location of the press release\n- **company_description**: A brief description of the company\n- **contact_information**: Contact information for the company\n- **call_to_action**: A call to action for the reader"
   ]
  },
  {
   "cell_type": "code",
   "execution_count": null,
   "id": "031e97d7-cb89-490e-b7e0-5cfab2a53fca",
   "metadata": {
    "papermill": {},
    "tags": []
   },
   "source": "topic = \"OpenAI Launches New AI Platform\"\ndateline = \"San Francisco, CA, April 1, 2020\"\ncompany_description = \"OpenAI is a research laboratory based in San Francisco, California. Our mission is to ensure that artificial general intelligence benefits all of humanity.\"\ncontact_information = \"For more information, contact press@openai.com\"\ncall_to_action = \"Visit openai.com to learn more about our new platform.\"",
   "outputs": []
  },
  {
   "cell_type": "markdown",
   "id": "ad21b7e2-1ec9-4a70-b64f-1e90e854e5f5",
   "metadata": {
    "papermill": {},
    "tags": []
   },
   "source": [
    "## Model"
   ]
  },
  {
   "cell_type": "markdown",
   "id": "7fbe0731-8b12-45e9-9e3a-996aa30e6635",
   "metadata": {
    "papermill": {},
    "tags": []
   },
   "source": [
    "### Writing the Press Release"
   ]
  },
  {
   "cell_type": "markdown",
   "id": "32720eac-1cf7-4398-b7d5-de17b99089d4",
   "metadata": {
    "papermill": {},
    "tags": []
   },
   "source": [
    "Long description of the function without break: This function will take the variables set up in the previous step and use them to write a press release."
   ]
  },
  {
   "cell_type": "code",
   "execution_count": null,
   "id": "f877ee4d-6116-402e-8276-38089b26394c",
   "metadata": {
    "papermill": {},
    "tags": []
   },
   "source": "def write_press_release(\n    topic, dateline, company_description, contact_information, call_to_action\n):\n    press_release = f\"\"\"\n    {topic}\n    \n    {dateline}\n    \n    {company_description}\n    \n    Today, OpenAI is proud to announce the launch of our new AI platform. Our platform is designed to make AI more accessible and easier to use for everyone.\n    \n    {contact_information}\n    \n    {call_to_action}\n    \"\"\"\n    return press_release",
   "outputs": []
  },
  {
   "cell_type": "markdown",
   "id": "ffc2289b-eace-4625-9b15-a878e354098d",
   "metadata": {
    "papermill": {},
    "tags": []
   },
   "source": [
    "## Output"
   ]
  },
  {
   "cell_type": "markdown",
   "id": "da99cb8b-4de2-4dd6-ad39-584bc277932b",
   "metadata": {
    "papermill": {},
    "tags": []
   },
   "source": [
    "### Display result"
   ]
  },
  {
   "cell_type": "code",
   "execution_count": null,
   "id": "69cbd0a9-19fd-4e94-9337-5bc30d49d3a6",
   "metadata": {
    "papermill": {},
    "tags": []
   },
   "source": "print(\n    write_press_release(\n        topic, dateline, company_description, contact_information, call_to_action\n    )\n)",
   "outputs": []
  },
  {
   "cell_type": "markdown",
   "id": "4eec16f4-07da-4415-9e04-df37ec2f0c89",
   "metadata": {
    "papermill": {},
    "tags": []
   },
   "source": [
    " "
   ]
  }
 ],
 "metadata": {
  "kernelspec": {
   "display_name": "Python 3",
   "language": "python",
   "name": "python3"
  },
  "language_info": {
   "codemirror_mode": {
    "name": "ipython",
    "version": 3
   },
   "file_extension": ".py",
   "mimetype": "text/x-python",
   "name": "python",
   "nbconvert_exporter": "python",
   "pygments_lexer": "ipython3",
   "version": "3.9.6"
  },
  "widgets": {
   "application/vnd.jupyter.widget-state+json": {
    "state": {},
    "version_major": 2,
    "version_minor": 0
   }
  }
 },
 "nbformat": 4,
 "nbformat_minor": 5
}