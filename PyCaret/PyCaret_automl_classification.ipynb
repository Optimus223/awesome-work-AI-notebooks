{
 "cells": [
  {
   "cell_type": "markdown",
   "id": "latin-packing",
   "metadata": {
    "execution": {
     "iopub.execute_input": "2021-02-23T14:22:16.610471Z",
     "iopub.status.busy": "2021-02-23T14:22:16.610129Z",
     "iopub.status.idle": "2021-02-23T14:22:16.627784Z",
     "shell.execute_reply": "2021-02-23T14:22:16.626866Z",
     "shell.execute_reply.started": "2021-02-23T14:22:16.610384Z"
    },
    "papermill": {},
    "tags": []
   },
   "source": [
    "<img width=\"10%\" alt=\"Naas\" src=\"https://landen.imgix.net/jtci2pxwjczr/assets/5ice39g4.png?w=160\"/>"
   ]
  },
  {
   "cell_type": "markdown",
   "id": "compressed-wilson",
   "metadata": {
    "papermill": {},
    "tags": []
   },
   "source": [
    "# PyCaret - AutoML Classification\n",
    "<a href=\"https://app.naas.ai/user-redirect/naas/downloader?url=https://raw.githubusercontent.com/jupyter-naas/awesome-notebooks/master/PyCaret/D-PyCaret_automl_classification.ipynb\" target=\"_parent\"><img src=\"https://naasai-public.s3.eu-west-3.amazonaws.com/open_in_naas.svg\"/></a>"
   ]
  },
  {
   "cell_type": "markdown",
   "id": "religious-programmer",
   "metadata": {
    "papermill": {},
    "tags": []
   },
   "source": [
    "**Tags:** #automl #pandas #snippet #classification #dataframe #visualize #pycaret #operations"
   ]
  },
  {
   "cell_type": "markdown",
   "id": "1fe9f56e-561c-4f52-aef8-b861c9462107",
   "metadata": {
    "papermill": {},
    "tags": []
   },
   "source": [
    "**Author:** [Minura Punchihewa](https://www.linkedin.com/in/minurapunchihewa/)"
   ]
  },
  {
   "cell_type": "markdown",
   "id": "distinguished-truth",
   "metadata": {
    "papermill": {},
    "tags": []
   },
   "source": [
    "## Input"
   ]
  },
  {
   "cell_type": "markdown",
   "id": "5f0de8b4",
   "metadata": {
    "papermill": {},
    "tags": []
   },
   "source": [
    "### Install PyCaret"
   ]
  },
  {
   "cell_type": "code",
   "execution_count": 1,
   "id": "e384c00e",
   "metadata": {
    "papermill": {},
    "tags": []
   },
   "outputs": [
    {
     "name": "stdout",
     "output_type": "stream",
     "text": [
      "Requirement already satisfied: pycaret in /home/minura/anaconda3/envs/awesome-notebooks/lib/python3.8/site-packages (2.3.10)\n",
      "Requirement already satisfied: pandas in /home/minura/anaconda3/envs/awesome-notebooks/lib/python3.8/site-packages (from pycaret) (1.4.2)\n",
      "Requirement already satisfied: IPython in /home/minura/.local/lib/python3.8/site-packages (from pycaret) (8.2.0)\n",
      "Requirement already satisfied: spacy<2.4.0 in /home/minura/anaconda3/envs/awesome-notebooks/lib/python3.8/site-packages (from pycaret) (2.3.7)\n",
      "Requirement already satisfied: mlxtend>=0.17.0 in /home/minura/anaconda3/envs/awesome-notebooks/lib/python3.8/site-packages (from pycaret) (0.19.0)\n",
      "Requirement already satisfied: scipy<=1.5.4 in /home/minura/anaconda3/envs/awesome-notebooks/lib/python3.8/site-packages (from pycaret) (1.5.4)\n",
      "Requirement already satisfied: wordcloud in /home/minura/anaconda3/envs/awesome-notebooks/lib/python3.8/site-packages (from pycaret) (1.8.1)\n",
      "Requirement already satisfied: mlflow in /home/minura/anaconda3/envs/awesome-notebooks/lib/python3.8/site-packages (from pycaret) (1.26.0)\n",
      "Requirement already satisfied: nltk in /home/minura/anaconda3/envs/awesome-notebooks/lib/python3.8/site-packages (from pycaret) (3.7)\n",
      "Requirement already satisfied: lightgbm>=2.3.1 in /home/minura/anaconda3/envs/awesome-notebooks/lib/python3.8/site-packages (from pycaret) (3.3.2)\n",
      "Requirement already satisfied: textblob in /home/minura/anaconda3/envs/awesome-notebooks/lib/python3.8/site-packages (from pycaret) (0.17.1)\n",
      "Requirement already satisfied: kmodes>=0.10.1 in /home/minura/anaconda3/envs/awesome-notebooks/lib/python3.8/site-packages (from pycaret) (0.12.1)\n",
      "Requirement already satisfied: scikit-plot in /home/minura/anaconda3/envs/awesome-notebooks/lib/python3.8/site-packages (from pycaret) (0.3.7)\n",
      "Requirement already satisfied: matplotlib in /home/minura/anaconda3/envs/awesome-notebooks/lib/python3.8/site-packages (from pycaret) (3.5.1)\n",
      "Requirement already satisfied: ipywidgets in /home/minura/.local/lib/python3.8/site-packages (from pycaret) (7.7.0)\n",
      "Requirement already satisfied: Boruta in /home/minura/anaconda3/envs/awesome-notebooks/lib/python3.8/site-packages (from pycaret) (0.3)\n",
      "Requirement already satisfied: cufflinks>=0.17.0 in /home/minura/anaconda3/envs/awesome-notebooks/lib/python3.8/site-packages (from pycaret) (0.17.3)\n",
      "Requirement already satisfied: yellowbrick>=1.0.1 in /home/minura/anaconda3/envs/awesome-notebooks/lib/python3.8/site-packages (from pycaret) (1.3.post1)\n",
      "Requirement already satisfied: pyLDAvis in /home/minura/anaconda3/envs/awesome-notebooks/lib/python3.8/site-packages (from pycaret) (3.2.2)\n",
      "Requirement already satisfied: pandas-profiling>=2.8.0 in /home/minura/anaconda3/envs/awesome-notebooks/lib/python3.8/site-packages (from pycaret) (3.2.0)\n",
      "Requirement already satisfied: gensim<4.0.0 in /home/minura/anaconda3/envs/awesome-notebooks/lib/python3.8/site-packages (from pycaret) (3.8.3)\n",
      "Requirement already satisfied: imbalanced-learn==0.7.0 in /home/minura/anaconda3/envs/awesome-notebooks/lib/python3.8/site-packages (from pycaret) (0.7.0)\n",
      "Requirement already satisfied: plotly>=4.4.1 in /home/minura/anaconda3/envs/awesome-notebooks/lib/python3.8/site-packages (from pycaret) (5.6.0)\n",
      "Requirement already satisfied: scikit-learn==0.23.2 in /home/minura/anaconda3/envs/awesome-notebooks/lib/python3.8/site-packages (from pycaret) (0.23.2)\n",
      "Requirement already satisfied: pyod in /home/minura/anaconda3/envs/awesome-notebooks/lib/python3.8/site-packages (from pycaret) (1.0.1)\n",
      "Requirement already satisfied: umap-learn in /home/minura/anaconda3/envs/awesome-notebooks/lib/python3.8/site-packages (from pycaret) (0.5.3)\n",
      "Requirement already satisfied: numba<0.55 in /home/minura/anaconda3/envs/awesome-notebooks/lib/python3.8/site-packages (from pycaret) (0.54.1)\n",
      "Requirement already satisfied: seaborn in /home/minura/anaconda3/envs/awesome-notebooks/lib/python3.8/site-packages (from pycaret) (0.11.2)\n",
      "Requirement already satisfied: pyyaml<6.0.0 in /home/minura/anaconda3/envs/awesome-notebooks/lib/python3.8/site-packages (from pycaret) (5.4.1)\n",
      "Requirement already satisfied: joblib in /home/minura/anaconda3/envs/awesome-notebooks/lib/python3.8/site-packages (from pycaret) (1.1.0)\n",
      "Requirement already satisfied: numpy>=1.13.3 in /home/minura/anaconda3/envs/awesome-notebooks/lib/python3.8/site-packages (from imbalanced-learn==0.7.0->pycaret) (1.19.5)\n",
      "Requirement already satisfied: threadpoolctl>=2.0.0 in /home/minura/anaconda3/envs/awesome-notebooks/lib/python3.8/site-packages (from scikit-learn==0.23.2->pycaret) (3.1.0)\n",
      "Requirement already satisfied: setuptools>=34.4.1 in /home/minura/.local/lib/python3.8/site-packages (from cufflinks>=0.17.0->pycaret) (61.3.0)\n",
      "Requirement already satisfied: six>=1.9.0 in /home/minura/anaconda3/envs/awesome-notebooks/lib/python3.8/site-packages (from cufflinks>=0.17.0->pycaret) (1.16.0)\n",
      "Requirement already satisfied: colorlover>=0.2.1 in /home/minura/anaconda3/envs/awesome-notebooks/lib/python3.8/site-packages (from cufflinks>=0.17.0->pycaret) (0.3.0)\n",
      "Requirement already satisfied: smart-open>=1.8.1 in /home/minura/anaconda3/envs/awesome-notebooks/lib/python3.8/site-packages (from gensim<4.0.0->pycaret) (6.0.0)\n",
      "Requirement already satisfied: jedi>=0.16 in /home/minura/.local/lib/python3.8/site-packages (from IPython->pycaret) (0.18.1)\n",
      "Requirement already satisfied: matplotlib-inline in /home/minura/.local/lib/python3.8/site-packages (from IPython->pycaret) (0.1.3)\n",
      "Requirement already satisfied: traitlets>=5 in /home/minura/.local/lib/python3.8/site-packages (from IPython->pycaret) (5.1.1)\n",
      "Requirement already satisfied: pygments>=2.4.0 in /home/minura/.local/lib/python3.8/site-packages (from IPython->pycaret) (2.11.2)\n",
      "Requirement already satisfied: pickleshare in /home/minura/.local/lib/python3.8/site-packages (from IPython->pycaret) (0.7.5)\n",
      "Requirement already satisfied: stack-data in /home/minura/.local/lib/python3.8/site-packages (from IPython->pycaret) (0.2.0)\n",
      "Requirement already satisfied: prompt-toolkit!=3.0.0,!=3.0.1,<3.1.0,>=2.0.0 in /home/minura/.local/lib/python3.8/site-packages (from IPython->pycaret) (3.0.28)\n",
      "Requirement already satisfied: decorator in /home/minura/anaconda3/envs/awesome-notebooks/lib/python3.8/site-packages (from IPython->pycaret) (5.1.1)\n",
      "Requirement already satisfied: backcall in /home/minura/.local/lib/python3.8/site-packages (from IPython->pycaret) (0.2.0)\n",
      "Requirement already satisfied: pexpect>4.3 in /home/minura/anaconda3/envs/awesome-notebooks/lib/python3.8/site-packages (from IPython->pycaret) (4.8.0)\n",
      "Requirement already satisfied: ipython-genutils~=0.2.0 in /home/minura/anaconda3/envs/awesome-notebooks/lib/python3.8/site-packages (from ipywidgets->pycaret) (0.2.0)\n",
      "Requirement already satisfied: ipykernel>=4.5.1 in /home/minura/.local/lib/python3.8/site-packages (from ipywidgets->pycaret) (6.11.0)\n",
      "Requirement already satisfied: jupyterlab-widgets>=1.0.0 in /home/minura/.local/lib/python3.8/site-packages (from ipywidgets->pycaret) (1.1.0)\n",
      "Requirement already satisfied: nbformat>=4.2.0 in /home/minura/.local/lib/python3.8/site-packages (from ipywidgets->pycaret) (5.2.0)\n",
      "Requirement already satisfied: widgetsnbextension~=3.6.0 in /home/minura/.local/lib/python3.8/site-packages (from ipywidgets->pycaret) (3.6.0)\n",
      "Requirement already satisfied: wheel in /home/minura/anaconda3/envs/awesome-notebooks/lib/python3.8/site-packages (from lightgbm>=2.3.1->pycaret) (0.37.1)\n",
      "Requirement already satisfied: kiwisolver>=1.0.1 in /home/minura/anaconda3/envs/awesome-notebooks/lib/python3.8/site-packages (from matplotlib->pycaret) (1.4.2)\n",
      "Requirement already satisfied: pillow>=6.2.0 in /home/minura/anaconda3/envs/awesome-notebooks/lib/python3.8/site-packages (from matplotlib->pycaret) (9.1.0)\n",
      "Requirement already satisfied: fonttools>=4.22.0 in /home/minura/anaconda3/envs/awesome-notebooks/lib/python3.8/site-packages (from matplotlib->pycaret) (4.31.2)\n",
      "Requirement already satisfied: cycler>=0.10 in /home/minura/anaconda3/envs/awesome-notebooks/lib/python3.8/site-packages (from matplotlib->pycaret) (0.11.0)\n",
      "Requirement already satisfied: packaging>=20.0 in /home/minura/.local/lib/python3.8/site-packages (from matplotlib->pycaret) (21.3)\n",
      "Requirement already satisfied: python-dateutil>=2.7 in /home/minura/.local/lib/python3.8/site-packages (from matplotlib->pycaret) (2.8.2)\n",
      "Requirement already satisfied: pyparsing>=2.2.1 in /home/minura/.local/lib/python3.8/site-packages (from matplotlib->pycaret) (3.0.7)\n",
      "Requirement already satisfied: llvmlite<0.38,>=0.37.0rc1 in /home/minura/anaconda3/envs/awesome-notebooks/lib/python3.8/site-packages (from numba<0.55->pycaret) (0.37.0)\n",
      "Requirement already satisfied: pytz>=2020.1 in /home/minura/anaconda3/envs/awesome-notebooks/lib/python3.8/site-packages (from pandas->pycaret) (2022.1)\n"
     ]
    },
    {
     "name": "stdout",
     "output_type": "stream",
     "text": [
      "Requirement already satisfied: markupsafe~=2.1.1 in /home/minura/anaconda3/envs/awesome-notebooks/lib/python3.8/site-packages (from pandas-profiling>=2.8.0->pycaret) (2.1.1)\n",
      "Requirement already satisfied: jinja2>=2.11.1 in /home/minura/anaconda3/envs/awesome-notebooks/lib/python3.8/site-packages (from pandas-profiling>=2.8.0->pycaret) (3.0.3)\n",
      "Requirement already satisfied: requests>=2.24.0 in /home/minura/.local/lib/python3.8/site-packages (from pandas-profiling>=2.8.0->pycaret) (2.27.1)\n",
      "Requirement already satisfied: multimethod>=1.4 in /home/minura/anaconda3/envs/awesome-notebooks/lib/python3.8/site-packages (from pandas-profiling>=2.8.0->pycaret) (1.8)\n",
      "Requirement already satisfied: htmlmin>=0.1.12 in /home/minura/anaconda3/envs/awesome-notebooks/lib/python3.8/site-packages (from pandas-profiling>=2.8.0->pycaret) (0.1.12)\n",
      "Requirement already satisfied: missingno>=0.4.2 in /home/minura/anaconda3/envs/awesome-notebooks/lib/python3.8/site-packages (from pandas-profiling>=2.8.0->pycaret) (0.4.2)\n",
      "Requirement already satisfied: tangled-up-in-unicode==0.2.0 in /home/minura/anaconda3/envs/awesome-notebooks/lib/python3.8/site-packages (from pandas-profiling>=2.8.0->pycaret) (0.2.0)\n",
      "Requirement already satisfied: tqdm>=4.48.2 in /home/minura/anaconda3/envs/awesome-notebooks/lib/python3.8/site-packages (from pandas-profiling>=2.8.0->pycaret) (4.64.0)\n",
      "Requirement already satisfied: visions[type_image_path]==0.7.4 in /home/minura/anaconda3/envs/awesome-notebooks/lib/python3.8/site-packages (from pandas-profiling>=2.8.0->pycaret) (0.7.4)\n",
      "Requirement already satisfied: phik>=0.11.1 in /home/minura/anaconda3/envs/awesome-notebooks/lib/python3.8/site-packages (from pandas-profiling>=2.8.0->pycaret) (0.12.2)\n",
      "Requirement already satisfied: pydantic>=1.8.1 in /home/minura/anaconda3/envs/awesome-notebooks/lib/python3.8/site-packages (from pandas-profiling>=2.8.0->pycaret) (1.9.1)\n",
      "Requirement already satisfied: networkx>=2.4 in /home/minura/anaconda3/envs/awesome-notebooks/lib/python3.8/site-packages (from visions[type_image_path]==0.7.4->pandas-profiling>=2.8.0->pycaret) (2.7.1)\n",
      "Requirement already satisfied: attrs>=19.3.0 in /home/minura/.local/lib/python3.8/site-packages (from visions[type_image_path]==0.7.4->pandas-profiling>=2.8.0->pycaret) (21.4.0)\n",
      "Requirement already satisfied: imagehash in /home/minura/anaconda3/envs/awesome-notebooks/lib/python3.8/site-packages (from visions[type_image_path]==0.7.4->pandas-profiling>=2.8.0->pycaret) (4.2.1)\n",
      "Requirement already satisfied: tenacity>=6.2.0 in /home/minura/anaconda3/envs/awesome-notebooks/lib/python3.8/site-packages (from plotly>=4.4.1->pycaret) (8.0.1)\n",
      "Requirement already satisfied: plac<1.2.0,>=0.9.6 in /home/minura/anaconda3/envs/awesome-notebooks/lib/python3.8/site-packages (from spacy<2.4.0->pycaret) (1.1.3)\n",
      "Requirement already satisfied: blis<0.8.0,>=0.4.0 in /home/minura/anaconda3/envs/awesome-notebooks/lib/python3.8/site-packages (from spacy<2.4.0->pycaret) (0.7.7)\n",
      "Requirement already satisfied: preshed<3.1.0,>=3.0.2 in /home/minura/anaconda3/envs/awesome-notebooks/lib/python3.8/site-packages (from spacy<2.4.0->pycaret) (3.0.6)\n",
      "Requirement already satisfied: wasabi<1.1.0,>=0.4.0 in /home/minura/anaconda3/envs/awesome-notebooks/lib/python3.8/site-packages (from spacy<2.4.0->pycaret) (0.9.1)\n",
      "Requirement already satisfied: srsly<1.1.0,>=1.0.2 in /home/minura/anaconda3/envs/awesome-notebooks/lib/python3.8/site-packages (from spacy<2.4.0->pycaret) (1.0.5)\n",
      "Requirement already satisfied: thinc<7.5.0,>=7.4.1 in /home/minura/anaconda3/envs/awesome-notebooks/lib/python3.8/site-packages (from spacy<2.4.0->pycaret) (7.4.5)\n",
      "Requirement already satisfied: catalogue<1.1.0,>=0.0.7 in /home/minura/anaconda3/envs/awesome-notebooks/lib/python3.8/site-packages (from spacy<2.4.0->pycaret) (1.0.0)\n",
      "Requirement already satisfied: cymem<2.1.0,>=2.0.2 in /home/minura/anaconda3/envs/awesome-notebooks/lib/python3.8/site-packages (from spacy<2.4.0->pycaret) (2.0.6)\n",
      "Requirement already satisfied: murmurhash<1.1.0,>=0.28.0 in /home/minura/anaconda3/envs/awesome-notebooks/lib/python3.8/site-packages (from spacy<2.4.0->pycaret) (1.0.7)\n",
      "Requirement already satisfied: docker>=4.0.0 in /home/minura/anaconda3/envs/awesome-notebooks/lib/python3.8/site-packages (from mlflow->pycaret) (5.0.3)\n",
      "Requirement already satisfied: importlib-metadata!=4.7.0,>=3.7.0 in /home/minura/anaconda3/envs/awesome-notebooks/lib/python3.8/site-packages (from mlflow->pycaret) (4.11.3)\n",
      "Requirement already satisfied: sqlparse>=0.3.1 in /home/minura/anaconda3/envs/awesome-notebooks/lib/python3.8/site-packages (from mlflow->pycaret) (0.4.2)\n",
      "Requirement already satisfied: gunicorn in /home/minura/anaconda3/envs/awesome-notebooks/lib/python3.8/site-packages (from mlflow->pycaret) (20.1.0)\n",
      "Requirement already satisfied: prometheus-flask-exporter in /home/minura/anaconda3/envs/awesome-notebooks/lib/python3.8/site-packages (from mlflow->pycaret) (0.20.1)\n",
      "Requirement already satisfied: querystring-parser in /home/minura/anaconda3/envs/awesome-notebooks/lib/python3.8/site-packages (from mlflow->pycaret) (1.2.4)\n",
      "Requirement already satisfied: cloudpickle in /home/minura/anaconda3/envs/awesome-notebooks/lib/python3.8/site-packages (from mlflow->pycaret) (2.0.0)\n",
      "Requirement already satisfied: alembic in /home/minura/anaconda3/envs/awesome-notebooks/lib/python3.8/site-packages (from mlflow->pycaret) (1.7.7)\n",
      "Requirement already satisfied: gitpython>=2.1.0 in /home/minura/.local/lib/python3.8/site-packages (from mlflow->pycaret) (3.1.27)\n",
      "Requirement already satisfied: click>=7.0 in /home/minura/anaconda3/envs/awesome-notebooks/lib/python3.8/site-packages (from mlflow->pycaret) (8.1.2)\n",
      "Requirement already satisfied: sqlalchemy in /home/minura/anaconda3/envs/awesome-notebooks/lib/python3.8/site-packages (from mlflow->pycaret) (1.4.36)\n",
      "Requirement already satisfied: entrypoints in /home/minura/anaconda3/envs/awesome-notebooks/lib/python3.8/site-packages (from mlflow->pycaret) (0.3)\n",
      "Requirement already satisfied: databricks-cli>=0.8.7 in /home/minura/anaconda3/envs/awesome-notebooks/lib/python3.8/site-packages (from mlflow->pycaret) (0.16.6)\n",
      "Requirement already satisfied: protobuf>=3.7.0 in /home/minura/anaconda3/envs/awesome-notebooks/lib/python3.8/site-packages (from mlflow->pycaret) (3.20.1)\n",
      "Requirement already satisfied: Flask in /home/minura/anaconda3/envs/awesome-notebooks/lib/python3.8/site-packages (from mlflow->pycaret) (2.1.1)\n",
      "Requirement already satisfied: regex>=2021.8.3 in /home/minura/anaconda3/envs/awesome-notebooks/lib/python3.8/site-packages (from nltk->pycaret) (2022.4.24)\n",
      "Requirement already satisfied: numexpr in /home/minura/anaconda3/envs/awesome-notebooks/lib/python3.8/site-packages (from pyLDAvis->pycaret) (2.8.1)\n",
      "Requirement already satisfied: future in /home/minura/anaconda3/envs/awesome-notebooks/lib/python3.8/site-packages (from pyLDAvis->pycaret) (0.18.2)\n",
      "Requirement already satisfied: funcy in /home/minura/anaconda3/envs/awesome-notebooks/lib/python3.8/site-packages (from pyLDAvis->pycaret) (1.17)\n",
      "Requirement already satisfied: statsmodels in /home/minura/anaconda3/envs/awesome-notebooks/lib/python3.8/site-packages (from pyod->pycaret) (0.13.2)\n",
      "Requirement already satisfied: pynndescent>=0.5 in /home/minura/anaconda3/envs/awesome-notebooks/lib/python3.8/site-packages (from umap-learn->pycaret) (0.5.7)\n",
      "Requirement already satisfied: pyjwt>=1.7.0 in /home/minura/anaconda3/envs/awesome-notebooks/lib/python3.8/site-packages (from databricks-cli>=0.8.7->mlflow->pycaret) (2.4.0)\n",
      "Requirement already satisfied: tabulate>=0.7.7 in /home/minura/anaconda3/envs/awesome-notebooks/lib/python3.8/site-packages (from databricks-cli>=0.8.7->mlflow->pycaret) (0.8.9)\n",
      "Requirement already satisfied: oauthlib>=3.1.0 in /home/minura/anaconda3/envs/awesome-notebooks/lib/python3.8/site-packages (from databricks-cli>=0.8.7->mlflow->pycaret) (3.2.0)\n",
      "Requirement already satisfied: websocket-client>=0.32.0 in /home/minura/anaconda3/envs/awesome-notebooks/lib/python3.8/site-packages (from docker>=4.0.0->mlflow->pycaret) (1.3.2)\n",
      "Requirement already satisfied: gitdb<5,>=4.0.1 in /home/minura/.local/lib/python3.8/site-packages (from gitpython>=2.1.0->mlflow->pycaret) (4.0.9)\n",
      "Requirement already satisfied: zipp>=0.5 in /home/minura/.local/lib/python3.8/site-packages (from importlib-metadata!=4.7.0,>=3.7.0->mlflow->pycaret) (3.7.0)\n",
      "Requirement already satisfied: psutil in /home/minura/.local/lib/python3.8/site-packages (from ipykernel>=4.5.1->ipywidgets->pycaret) (5.9.0)\n",
      "Requirement already satisfied: jupyter-client>=6.1.12 in /home/minura/.local/lib/python3.8/site-packages (from ipykernel>=4.5.1->ipywidgets->pycaret) (6.1.12)\n",
      "Requirement already satisfied: debugpy>=1.0 in /home/minura/.local/lib/python3.8/site-packages (from ipykernel>=4.5.1->ipywidgets->pycaret) (1.6.0)\n",
      "Requirement already satisfied: nest-asyncio in /home/minura/.local/lib/python3.8/site-packages (from ipykernel>=4.5.1->ipywidgets->pycaret) (1.5.4)\n",
      "Requirement already satisfied: tornado>=6.1 in /home/minura/.local/lib/python3.8/site-packages (from ipykernel>=4.5.1->ipywidgets->pycaret) (6.1)\n"
     ]
    },
    {
     "name": "stdout",
     "output_type": "stream",
     "text": [
      "Requirement already satisfied: parso<0.9.0,>=0.8.0 in /home/minura/.local/lib/python3.8/site-packages (from jedi>=0.16->IPython->pycaret) (0.8.3)\n",
      "Requirement already satisfied: jsonschema!=2.5.0,>=2.4 in /home/minura/anaconda3/envs/awesome-notebooks/lib/python3.8/site-packages (from nbformat>=4.2.0->ipywidgets->pycaret) (3.2.0)\n",
      "Requirement already satisfied: jupyter-core in /home/minura/.local/lib/python3.8/site-packages (from nbformat>=4.2.0->ipywidgets->pycaret) (4.9.2)\n",
      "Requirement already satisfied: ptyprocess>=0.5 in /home/minura/.local/lib/python3.8/site-packages (from pexpect>4.3->IPython->pycaret) (0.7.0)\n",
      "Requirement already satisfied: wcwidth in /home/minura/.local/lib/python3.8/site-packages (from prompt-toolkit!=3.0.0,!=3.0.1,<3.1.0,>=2.0.0->IPython->pycaret) (0.2.5)\n",
      "Requirement already satisfied: typing-extensions>=3.7.4.3 in /home/minura/anaconda3/envs/awesome-notebooks/lib/python3.8/site-packages (from pydantic>=1.8.1->pandas-profiling>=2.8.0->pycaret) (4.1.1)\n",
      "Requirement already satisfied: urllib3<1.27,>=1.21.1 in /home/minura/anaconda3/envs/awesome-notebooks/lib/python3.8/site-packages (from requests>=2.24.0->pandas-profiling>=2.8.0->pycaret) (1.26.9)\n",
      "Requirement already satisfied: idna<4,>=2.5 in /home/minura/anaconda3/envs/awesome-notebooks/lib/python3.8/site-packages (from requests>=2.24.0->pandas-profiling>=2.8.0->pycaret) (3.3)\n",
      "Requirement already satisfied: charset-normalizer~=2.0.0 in /home/minura/.local/lib/python3.8/site-packages (from requests>=2.24.0->pandas-profiling>=2.8.0->pycaret) (2.0.12)\n",
      "Requirement already satisfied: certifi>=2017.4.17 in /home/minura/anaconda3/envs/awesome-notebooks/lib/python3.8/site-packages (from requests>=2.24.0->pandas-profiling>=2.8.0->pycaret) (2021.10.8)\n",
      "Requirement already satisfied: notebook>=4.4.1 in /home/minura/.local/lib/python3.8/site-packages (from widgetsnbextension~=3.6.0->ipywidgets->pycaret) (6.4.10)\n",
      "Requirement already satisfied: Mako in /home/minura/anaconda3/envs/awesome-notebooks/lib/python3.8/site-packages (from alembic->mlflow->pycaret) (1.2.0)\n",
      "Requirement already satisfied: importlib-resources in /home/minura/.local/lib/python3.8/site-packages (from alembic->mlflow->pycaret) (5.6.0)\n",
      "Requirement already satisfied: greenlet!=0.4.17 in /home/minura/anaconda3/envs/awesome-notebooks/lib/python3.8/site-packages (from sqlalchemy->mlflow->pycaret) (1.1.2)\n",
      "Requirement already satisfied: itsdangerous>=2.0 in /home/minura/anaconda3/envs/awesome-notebooks/lib/python3.8/site-packages (from Flask->mlflow->pycaret) (2.1.2)\n",
      "Requirement already satisfied: Werkzeug>=2.0 in /home/minura/anaconda3/envs/awesome-notebooks/lib/python3.8/site-packages (from Flask->mlflow->pycaret) (2.1.1)\n",
      "Requirement already satisfied: prometheus-client in /home/minura/.local/lib/python3.8/site-packages (from prometheus-flask-exporter->mlflow->pycaret) (0.13.1)\n",
      "Requirement already satisfied: asttokens in /home/minura/.local/lib/python3.8/site-packages (from stack-data->IPython->pycaret) (2.0.5)\n",
      "Requirement already satisfied: executing in /home/minura/.local/lib/python3.8/site-packages (from stack-data->IPython->pycaret) (0.8.3)\n",
      "Requirement already satisfied: pure-eval in /home/minura/.local/lib/python3.8/site-packages (from stack-data->IPython->pycaret) (0.2.2)\n",
      "Requirement already satisfied: patsy>=0.5.2 in /home/minura/anaconda3/envs/awesome-notebooks/lib/python3.8/site-packages (from statsmodels->pyod->pycaret) (0.5.2)\n",
      "Requirement already satisfied: smmap<6,>=3.0.1 in /home/minura/.local/lib/python3.8/site-packages (from gitdb<5,>=4.0.1->gitpython>=2.1.0->mlflow->pycaret) (5.0.0)\n",
      "Requirement already satisfied: pyrsistent>=0.14.0 in /home/minura/.local/lib/python3.8/site-packages (from jsonschema!=2.5.0,>=2.4->nbformat>=4.2.0->ipywidgets->pycaret) (0.18.1)\n",
      "Requirement already satisfied: pyzmq>=13 in /home/minura/.local/lib/python3.8/site-packages (from jupyter-client>=6.1.12->ipykernel>=4.5.1->ipywidgets->pycaret) (22.3.0)\n",
      "Requirement already satisfied: Send2Trash>=1.8.0 in /home/minura/.local/lib/python3.8/site-packages (from notebook>=4.4.1->widgetsnbextension~=3.6.0->ipywidgets->pycaret) (1.8.0)\n",
      "Requirement already satisfied: terminado>=0.8.3 in /home/minura/.local/lib/python3.8/site-packages (from notebook>=4.4.1->widgetsnbextension~=3.6.0->ipywidgets->pycaret) (0.13.3)\n",
      "Requirement already satisfied: argon2-cffi in /home/minura/.local/lib/python3.8/site-packages (from notebook>=4.4.1->widgetsnbextension~=3.6.0->ipywidgets->pycaret) (21.3.0)\n",
      "Requirement already satisfied: nbconvert>=5 in /home/minura/.local/lib/python3.8/site-packages (from notebook>=4.4.1->widgetsnbextension~=3.6.0->ipywidgets->pycaret) (6.4.5)\n",
      "Requirement already satisfied: PyWavelets in /home/minura/anaconda3/envs/awesome-notebooks/lib/python3.8/site-packages (from imagehash->visions[type_image_path]==0.7.4->pandas-profiling>=2.8.0->pycaret) (1.3.0)\n",
      "Requirement already satisfied: nbclient<0.6.0,>=0.5.0 in /home/minura/.local/lib/python3.8/site-packages (from nbconvert>=5->notebook>=4.4.1->widgetsnbextension~=3.6.0->ipywidgets->pycaret) (0.5.13)\n",
      "Requirement already satisfied: pandocfilters>=1.4.1 in /home/minura/.local/lib/python3.8/site-packages (from nbconvert>=5->notebook>=4.4.1->widgetsnbextension~=3.6.0->ipywidgets->pycaret) (1.5.0)\n",
      "Requirement already satisfied: testpath in /home/minura/.local/lib/python3.8/site-packages (from nbconvert>=5->notebook>=4.4.1->widgetsnbextension~=3.6.0->ipywidgets->pycaret) (0.6.0)\n",
      "Requirement already satisfied: defusedxml in /home/minura/.local/lib/python3.8/site-packages (from nbconvert>=5->notebook>=4.4.1->widgetsnbextension~=3.6.0->ipywidgets->pycaret) (0.7.1)\n",
      "Requirement already satisfied: mistune<2,>=0.8.1 in /home/minura/.local/lib/python3.8/site-packages (from nbconvert>=5->notebook>=4.4.1->widgetsnbextension~=3.6.0->ipywidgets->pycaret) (0.8.4)\n",
      "Requirement already satisfied: bleach in /home/minura/.local/lib/python3.8/site-packages (from nbconvert>=5->notebook>=4.4.1->widgetsnbextension~=3.6.0->ipywidgets->pycaret) (4.1.0)\n",
      "Requirement already satisfied: beautifulsoup4 in /home/minura/.local/lib/python3.8/site-packages (from nbconvert>=5->notebook>=4.4.1->widgetsnbextension~=3.6.0->ipywidgets->pycaret) (4.10.0)\n",
      "Requirement already satisfied: jupyterlab-pygments in /home/minura/.local/lib/python3.8/site-packages (from nbconvert>=5->notebook>=4.4.1->widgetsnbextension~=3.6.0->ipywidgets->pycaret) (0.1.2)\n",
      "Requirement already satisfied: argon2-cffi-bindings in /home/minura/.local/lib/python3.8/site-packages (from argon2-cffi->notebook>=4.4.1->widgetsnbextension~=3.6.0->ipywidgets->pycaret) (21.2.0)\n",
      "Requirement already satisfied: cffi>=1.0.1 in /home/minura/.local/lib/python3.8/site-packages (from argon2-cffi-bindings->argon2-cffi->notebook>=4.4.1->widgetsnbextension~=3.6.0->ipywidgets->pycaret) (1.15.0)\n",
      "Requirement already satisfied: soupsieve>1.2 in /home/minura/.local/lib/python3.8/site-packages (from beautifulsoup4->nbconvert>=5->notebook>=4.4.1->widgetsnbextension~=3.6.0->ipywidgets->pycaret) (2.3.1)\n",
      "Requirement already satisfied: webencodings in /home/minura/.local/lib/python3.8/site-packages (from bleach->nbconvert>=5->notebook>=4.4.1->widgetsnbextension~=3.6.0->ipywidgets->pycaret) (0.5.1)\n",
      "Requirement already satisfied: pycparser in /home/minura/.local/lib/python3.8/site-packages (from cffi>=1.0.1->argon2-cffi-bindings->argon2-cffi->notebook>=4.4.1->widgetsnbextension~=3.6.0->ipywidgets->pycaret) (2.21)\n",
      "\u001b[33mWARNING: You are using pip version 22.0.4; however, version 22.1.1 is available.\n",
      "You should consider upgrading via the '/home/minura/anaconda3/envs/awesome-notebooks/bin/python -m pip install --upgrade pip' command.\u001b[0m\u001b[33m\n",
      "\u001b[0m"
     ]
    }
   ],
   "source": [
    "! pip install pycaret"
   ]
  },
  {
   "cell_type": "markdown",
   "id": "numeric-mediterranean",
   "metadata": {
    "papermill": {},
    "tags": []
   },
   "source": [
    "### Import libraries"
   ]
  },
  {
   "cell_type": "code",
   "execution_count": 2,
   "id": "potential-surfing",
   "metadata": {
    "papermill": {},
    "tags": []
   },
   "outputs": [],
   "source": [
    "import pandas as pd\n",
    "from pycaret.classification import setup, compare_models, evaluate_model, predict_model, finalize_model, \\\n",
    "     save_model, load_model, create_docker"
   ]
  },
  {
   "cell_type": "markdown",
   "id": "aggressive-trustee",
   "metadata": {
    "papermill": {},
    "tags": []
   },
   "source": [
    "### Variable"
   ]
  },
  {
   "cell_type": "code",
   "execution_count": 3,
   "id": "continuous-melbourne",
   "metadata": {
    "papermill": {},
    "tags": []
   },
   "outputs": [],
   "source": [
    "csv_path = \"https://raw.githubusercontent.com/MinuraPunchihewa/pycaret-automl/main/data/iris.csv\""
   ]
  },
  {
   "cell_type": "markdown",
   "id": "registered-showcase",
   "metadata": {
    "papermill": {},
    "tags": []
   },
   "source": [
    "## Model"
   ]
  },
  {
   "cell_type": "markdown",
   "id": "tested-astrology",
   "metadata": {
    "papermill": {},
    "tags": []
   },
   "source": [
    "### Read the CSV from path"
   ]
  },
  {
   "cell_type": "code",
   "execution_count": 4,
   "id": "crude-louisville",
   "metadata": {
    "papermill": {},
    "tags": []
   },
   "outputs": [],
   "source": [
    "df = pd.read_csv(csv_path)"
   ]
  },
  {
   "cell_type": "markdown",
   "id": "84c3bf8d",
   "metadata": {},
   "source": [
    "### VIew a sample of the data"
   ]
  },
  {
   "cell_type": "code",
   "execution_count": 5,
   "id": "8610e6ea",
   "metadata": {},
   "outputs": [
    {
     "data": {
      "text/html": [
       "<div>\n",
       "<style scoped>\n",
       "    .dataframe tbody tr th:only-of-type {\n",
       "        vertical-align: middle;\n",
       "    }\n",
       "\n",
       "    .dataframe tbody tr th {\n",
       "        vertical-align: top;\n",
       "    }\n",
       "\n",
       "    .dataframe thead th {\n",
       "        text-align: right;\n",
       "    }\n",
       "</style>\n",
       "<table border=\"1\" class=\"dataframe\">\n",
       "  <thead>\n",
       "    <tr style=\"text-align: right;\">\n",
       "      <th></th>\n",
       "      <th>sepal.length</th>\n",
       "      <th>sepal.width</th>\n",
       "      <th>petal.length</th>\n",
       "      <th>petal.width</th>\n",
       "      <th>variety</th>\n",
       "    </tr>\n",
       "  </thead>\n",
       "  <tbody>\n",
       "    <tr>\n",
       "      <th>0</th>\n",
       "      <td>5.1</td>\n",
       "      <td>3.5</td>\n",
       "      <td>1.4</td>\n",
       "      <td>0.2</td>\n",
       "      <td>Setosa</td>\n",
       "    </tr>\n",
       "    <tr>\n",
       "      <th>1</th>\n",
       "      <td>4.9</td>\n",
       "      <td>3.0</td>\n",
       "      <td>1.4</td>\n",
       "      <td>0.2</td>\n",
       "      <td>Setosa</td>\n",
       "    </tr>\n",
       "    <tr>\n",
       "      <th>2</th>\n",
       "      <td>4.7</td>\n",
       "      <td>3.2</td>\n",
       "      <td>1.3</td>\n",
       "      <td>0.2</td>\n",
       "      <td>Setosa</td>\n",
       "    </tr>\n",
       "    <tr>\n",
       "      <th>3</th>\n",
       "      <td>4.6</td>\n",
       "      <td>3.1</td>\n",
       "      <td>1.5</td>\n",
       "      <td>0.2</td>\n",
       "      <td>Setosa</td>\n",
       "    </tr>\n",
       "    <tr>\n",
       "      <th>4</th>\n",
       "      <td>5.0</td>\n",
       "      <td>3.6</td>\n",
       "      <td>1.4</td>\n",
       "      <td>0.2</td>\n",
       "      <td>Setosa</td>\n",
       "    </tr>\n",
       "  </tbody>\n",
       "</table>\n",
       "</div>"
      ],
      "text/plain": [
       "   sepal.length  sepal.width  petal.length  petal.width variety\n",
       "0           5.1          3.5           1.4          0.2  Setosa\n",
       "1           4.9          3.0           1.4          0.2  Setosa\n",
       "2           4.7          3.2           1.3          0.2  Setosa\n",
       "3           4.6          3.1           1.5          0.2  Setosa\n",
       "4           5.0          3.6           1.4          0.2  Setosa"
      ]
     },
     "execution_count": 5,
     "metadata": {},
     "output_type": "execute_result"
    }
   ],
   "source": [
    "df.head()"
   ]
  },
  {
   "cell_type": "markdown",
   "id": "fdb20660",
   "metadata": {},
   "source": [
    "### Setup the dataset"
   ]
  },
  {
   "cell_type": "code",
   "execution_count": null,
   "id": "b6c098c5",
   "metadata": {},
   "outputs": [
    {
     "data": {
      "application/vnd.jupyter.widget-view+json": {
       "model_id": "1afcd686c4cb4b5bbe32112b2dc3c151",
       "version_major": 2,
       "version_minor": 0
      },
      "text/plain": [
       "IntProgress(value=0, description='Processing: ', max=3)"
      ]
     },
     "metadata": {},
     "output_type": "display_data"
    },
    {
     "data": {
      "text/html": [
       "<div>\n",
       "<style scoped>\n",
       "    .dataframe tbody tr th:only-of-type {\n",
       "        vertical-align: middle;\n",
       "    }\n",
       "\n",
       "    .dataframe tbody tr th {\n",
       "        vertical-align: top;\n",
       "    }\n",
       "\n",
       "    .dataframe thead th {\n",
       "        text-align: right;\n",
       "    }\n",
       "</style>\n",
       "<table border=\"1\" class=\"dataframe\">\n",
       "  <thead>\n",
       "    <tr style=\"text-align: right;\">\n",
       "      <th></th>\n",
       "      <th></th>\n",
       "      <th></th>\n",
       "    </tr>\n",
       "    <tr>\n",
       "      <th></th>\n",
       "      <th></th>\n",
       "      <th></th>\n",
       "    </tr>\n",
       "  </thead>\n",
       "  <tbody>\n",
       "    <tr>\n",
       "      <th>Initiated</th>\n",
       "      <td>. . . . . . . . . . . . . . . . . .</td>\n",
       "      <td>15:41:31</td>\n",
       "    </tr>\n",
       "    <tr>\n",
       "      <th>Status</th>\n",
       "      <td>. . . . . . . . . . . . . . . . . .</td>\n",
       "      <td>Preprocessing Data</td>\n",
       "    </tr>\n",
       "  </tbody>\n",
       "</table>\n",
       "</div>"
      ],
      "text/plain": [
       "                                                                  \n",
       "                                                                  \n",
       "Initiated  . . . . . . . . . . . . . . . . . .            15:41:31\n",
       "Status     . . . . . . . . . . . . . . . . . .  Preprocessing Data"
      ]
     },
     "metadata": {},
     "output_type": "display_data"
    },
    {
     "data": {
      "application/vnd.jupyter.widget-view+json": {
       "model_id": "d113b858fd2c42528efc72048b72dc4f",
       "version_major": 2,
       "version_minor": 0
      },
      "text/plain": [
       "Text(value=\"Following data types have been inferred automatically, if they are correct press enter to continue…"
      ]
     },
     "metadata": {},
     "output_type": "display_data"
    },
    {
     "data": {
      "text/html": [
       "<div>\n",
       "<style scoped>\n",
       "    .dataframe tbody tr th:only-of-type {\n",
       "        vertical-align: middle;\n",
       "    }\n",
       "\n",
       "    .dataframe tbody tr th {\n",
       "        vertical-align: top;\n",
       "    }\n",
       "\n",
       "    .dataframe thead th {\n",
       "        text-align: right;\n",
       "    }\n",
       "</style>\n",
       "<table border=\"1\" class=\"dataframe\">\n",
       "  <thead>\n",
       "    <tr style=\"text-align: right;\">\n",
       "      <th></th>\n",
       "      <th>Data Type</th>\n",
       "    </tr>\n",
       "  </thead>\n",
       "  <tbody>\n",
       "    <tr>\n",
       "      <th>sepal.length</th>\n",
       "      <td>Numeric</td>\n",
       "    </tr>\n",
       "    <tr>\n",
       "      <th>sepal.width</th>\n",
       "      <td>Numeric</td>\n",
       "    </tr>\n",
       "    <tr>\n",
       "      <th>petal.length</th>\n",
       "      <td>Numeric</td>\n",
       "    </tr>\n",
       "    <tr>\n",
       "      <th>petal.width</th>\n",
       "      <td>Numeric</td>\n",
       "    </tr>\n",
       "    <tr>\n",
       "      <th>variety</th>\n",
       "      <td>Label</td>\n",
       "    </tr>\n",
       "  </tbody>\n",
       "</table>\n",
       "</div>"
      ],
      "text/plain": [
       "             Data Type\n",
       "sepal.length   Numeric\n",
       "sepal.width    Numeric\n",
       "petal.length   Numeric\n",
       "petal.width    Numeric\n",
       "variety          Label"
      ]
     },
     "metadata": {},
     "output_type": "display_data"
    }
   ],
   "source": [
    "# must be called before executing any other function\n",
    "# change target column as required\n",
    "# can configure many types of transformation operations\n",
    "# by default Missing Value Imputation, One-Hot Encoding and Train-Test Split operations will be performed\n",
    "# press enter to continue\n",
    "grid = setup(data=df, target=df.columns[-1])"
   ]
  },
  {
   "cell_type": "markdown",
   "id": "f426191e",
   "metadata": {},
   "source": [
    "### Train and compare all supported models"
   ]
  },
  {
   "cell_type": "code",
   "execution_count": null,
   "id": "69cda717",
   "metadata": {},
   "outputs": [],
   "source": [
    "# uses cross-validation\n",
    "best_model = compare_models()"
   ]
  },
  {
   "cell_type": "markdown",
   "id": "d9c3cdd2",
   "metadata": {},
   "source": [
    "### Report the best model"
   ]
  },
  {
   "cell_type": "code",
   "execution_count": null,
   "id": "a8ffcfbe",
   "metadata": {},
   "outputs": [],
   "source": [
    "print(best_model)"
   ]
  },
  {
   "cell_type": "markdown",
   "id": "4ebb821d",
   "metadata": {},
   "source": [
    "### Evaluate the model using a number of different plots"
   ]
  },
  {
   "cell_type": "code",
   "execution_count": null,
   "id": "1aa09b68",
   "metadata": {},
   "outputs": [],
   "source": [
    "# click on the different plot types to exlpore\n",
    "# some plots may not work depending on the data and the model\n",
    "evaluate_model(best_model)"
   ]
  },
  {
   "cell_type": "markdown",
   "id": "73b74b18",
   "metadata": {},
   "source": [
    "### Make predictions on new data"
   ]
  },
  {
   "cell_type": "code",
   "execution_count": null,
   "id": "72928051",
   "metadata": {},
   "outputs": [],
   "source": [
    "# data should be a DataFrame without label\n",
    "# predict_model(best_model, new_data)"
   ]
  },
  {
   "cell_type": "markdown",
   "id": "eed418f2",
   "metadata": {},
   "source": [
    "### Finalize model"
   ]
  },
  {
   "cell_type": "code",
   "execution_count": null,
   "id": "c8d4fc06",
   "metadata": {},
   "outputs": [],
   "source": [
    "# trains the model on the entire dataset including the hold-out set\n",
    "# does not change any parameter of the model\n",
    "final_model = finalize_model(best_model)"
   ]
  },
  {
   "cell_type": "markdown",
   "id": "lonely-pacific",
   "metadata": {
    "execution": {
     "iopub.execute_input": "2021-07-02T23:32:10.789097Z",
     "iopub.status.busy": "2021-07-02T23:32:10.788829Z",
     "iopub.status.idle": "2021-07-02T23:32:10.796900Z",
     "shell.execute_reply": "2021-07-02T23:32:10.796358Z",
     "shell.execute_reply.started": "2021-07-02T23:32:10.789033Z"
    },
    "papermill": {},
    "tags": []
   },
   "source": [
    "## Output"
   ]
  },
  {
   "cell_type": "markdown",
   "id": "890f7c86-b7bb-4f5d-9a1b-e492dd9580fd",
   "metadata": {
    "papermill": {},
    "tags": []
   },
   "source": [
    "### Save model as a pickle file"
   ]
  },
  {
   "cell_type": "code",
   "execution_count": null,
   "id": "9c4e3b7b-6440-4844-8054-265f1aec65eb",
   "metadata": {
    "papermill": {},
    "tags": []
   },
   "outputs": [],
   "source": [
    "save_model(final_model, 'classification_model')"
   ]
  },
  {
   "cell_type": "markdown",
   "id": "760c4166",
   "metadata": {
    "papermill": {},
    "tags": []
   },
   "source": [
    "### Load saved model from pickle file"
   ]
  },
  {
   "cell_type": "code",
   "execution_count": null,
   "id": "a9ce3e22",
   "metadata": {},
   "outputs": [],
   "source": [
    "model = load_model('classification_model')"
   ]
  },
  {
   "cell_type": "markdown",
   "id": "e5e13120",
   "metadata": {
    "papermill": {},
    "tags": []
   },
   "source": [
    "### Create Dockerfile for model"
   ]
  },
  {
   "cell_type": "code",
   "execution_count": null,
   "id": "7622a320",
   "metadata": {
    "papermill": {},
    "tags": []
   },
   "outputs": [],
   "source": [
    "# also creates a requirements.txt file for dependencies\n",
    "create_docker('classification_model')"
   ]
  }
 ],
 "metadata": {
  "kernelspec": {
   "display_name": "Python 3 (ipykernel)",
   "language": "python",
   "name": "python3"
  },
  "language_info": {
   "codemirror_mode": {
    "name": "ipython",
    "version": 3
   },
   "file_extension": ".py",
   "mimetype": "text/x-python",
   "name": "python",
   "nbconvert_exporter": "python",
   "pygments_lexer": "ipython3",
   "version": "3.8.13"
  },
  "papermill": {
   "default_parameters": {},
   "environment_variables": {},
   "parameters": {},
   "version": "2.3.3"
  },
  "widgets": {
   "application/vnd.jupyter.widget-state+json": {
    "state": {},
    "version_major": 2,
    "version_minor": 0
   }
  }
 },
 "nbformat": 4,
 "nbformat_minor": 5
}
