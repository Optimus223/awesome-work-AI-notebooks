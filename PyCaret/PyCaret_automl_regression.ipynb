{
 "cells": [
  {
   "cell_type": "markdown",
   "id": "latin-packing",
   "metadata": {
    "execution": {
     "iopub.execute_input": "2021-02-23T14:22:16.610471Z",
     "iopub.status.busy": "2021-02-23T14:22:16.610129Z",
     "iopub.status.idle": "2021-02-23T14:22:16.627784Z",
     "shell.execute_reply": "2021-02-23T14:22:16.626866Z",
     "shell.execute_reply.started": "2021-02-23T14:22:16.610384Z"
    },
    "papermill": {},
    "tags": []
   },
   "source": [
    "<img width=\"10%\" alt=\"Naas\" src=\"https://landen.imgix.net/jtci2pxwjczr/assets/5ice39g4.png?w=160\"/>"
   ]
  },
  {
   "cell_type": "markdown",
   "id": "compressed-wilson",
   "metadata": {
    "papermill": {},
    "tags": []
   },
   "source": [
    "# PyCaret - AutoML Regression\n",
    "<a href=\"https://app.naas.ai/user-redirect/naas/downloader?url=https://raw.githubusercontent.com/jupyter-naas/awesome-notebooks/master/PyCaret/PyCaret_automl_regression.ipynb\" target=\"_parent\"><img src=\"https://naasai-public.s3.eu-west-3.amazonaws.com/open_in_naas.svg\"/></a>"
   ]
  },
  {
   "cell_type": "markdown",
   "id": "religious-programmer",
   "metadata": {
    "papermill": {},
    "tags": []
   },
   "source": [
    "**Tags:** #automl #pandas #snippet #regression #dataframe #visualize #pycaret #operations"
   ]
  },
  {
   "cell_type": "markdown",
   "id": "1fe9f56e-561c-4f52-aef8-b861c9462107",
   "metadata": {
    "papermill": {},
    "tags": []
   },
   "source": [
    "**Author:** [Minura Punchihewa](https://www.linkedin.com/in/minurapunchihewa/)"
   ]
  },
  {
   "cell_type": "markdown",
   "id": "distinguished-truth",
   "metadata": {
    "papermill": {},
    "tags": []
   },
   "source": [
    "## Input"
   ]
  },
  {
   "cell_type": "markdown",
   "id": "numeric-mediterranean",
   "metadata": {
    "papermill": {},
    "tags": []
   },
   "source": [
    "### Import libraries"
   ]
  },
  {
   "cell_type": "code",
   "execution_count": 2,
   "id": "potential-surfing",
   "metadata": {
    "papermill": {},
    "tags": []
   },
   "outputs": [],
   "source": [
    "import pandas as pd\n",
    "\n",
    "try:\n",
    "    from pycaret.regression import setup, compare_models, evaluate_model, predict_model, finalize_model, \\\n",
    "         save_model, load_model, create_docker\n",
    "except:\n",
    "    !pip install --user pycaret\n",
    "    from pycaret.regression import setup, compare_models, evaluate_model, predict_model, finalize_model, \\\n",
    "     save_model, load_model, create_docker"
   ]
  },
  {
   "cell_type": "markdown",
   "id": "aggressive-trustee",
   "metadata": {
    "papermill": {},
    "tags": []
   },
   "source": [
    "### Variables"
   ]
  },
  {
   "cell_type": "code",
   "execution_count": 3,
   "id": "continuous-melbourne",
   "metadata": {
    "papermill": {},
    "tags": []
   },
   "outputs": [],
   "source": [
    "csv_path = \"https://raw.githubusercontent.com/MinuraPunchihewa/pycaret-automl/main/data/wine-quality.csv\"\n",
    "target_column = 'quality'"
   ]
  },
  {
   "cell_type": "markdown",
   "id": "registered-showcase",
   "metadata": {
    "papermill": {},
    "tags": []
   },
   "source": [
    "## Model"
   ]
  },
  {
   "cell_type": "markdown",
   "id": "tested-astrology",
   "metadata": {
    "papermill": {},
    "tags": []
   },
   "source": [
    "### Read the CSV from path"
   ]
  },
  {
   "cell_type": "code",
   "execution_count": 4,
   "id": "crude-louisville",
   "metadata": {
    "papermill": {},
    "tags": []
   },
   "outputs": [],
   "source": [
    "df = pd.read_csv(csv_path)"
   ]
  },
  {
   "cell_type": "markdown",
   "id": "fe83159c",
   "metadata": {},
   "source": [
    "### View a sample of the data"
   ]
  },
  {
   "cell_type": "code",
   "execution_count": 5,
   "id": "1bcd29f0",
   "metadata": {},
   "outputs": [
    {
     "data": {
      "text/html": [
       "<div>\n",
       "<style scoped>\n",
       "    .dataframe tbody tr th:only-of-type {\n",
       "        vertical-align: middle;\n",
       "    }\n",
       "\n",
       "    .dataframe tbody tr th {\n",
       "        vertical-align: top;\n",
       "    }\n",
       "\n",
       "    .dataframe thead th {\n",
       "        text-align: right;\n",
       "    }\n",
       "</style>\n",
       "<table border=\"1\" class=\"dataframe\">\n",
       "  <thead>\n",
       "    <tr style=\"text-align: right;\">\n",
       "      <th></th>\n",
       "      <th>fixed acidity</th>\n",
       "      <th>volatile acidity</th>\n",
       "      <th>citric acid</th>\n",
       "      <th>residual sugar</th>\n",
       "      <th>chlorides</th>\n",
       "      <th>free sulfur dioxide</th>\n",
       "      <th>total sulfur dioxide</th>\n",
       "      <th>density</th>\n",
       "      <th>pH</th>\n",
       "      <th>sulphates</th>\n",
       "      <th>alcohol</th>\n",
       "      <th>quality</th>\n",
       "    </tr>\n",
       "  </thead>\n",
       "  <tbody>\n",
       "    <tr>\n",
       "      <th>0</th>\n",
       "      <td>7.4</td>\n",
       "      <td>0.70</td>\n",
       "      <td>0.00</td>\n",
       "      <td>1.9</td>\n",
       "      <td>0.076</td>\n",
       "      <td>11.0</td>\n",
       "      <td>34.0</td>\n",
       "      <td>0.9978</td>\n",
       "      <td>3.51</td>\n",
       "      <td>0.56</td>\n",
       "      <td>9.4</td>\n",
       "      <td>5</td>\n",
       "    </tr>\n",
       "    <tr>\n",
       "      <th>1</th>\n",
       "      <td>7.8</td>\n",
       "      <td>0.88</td>\n",
       "      <td>0.00</td>\n",
       "      <td>2.6</td>\n",
       "      <td>0.098</td>\n",
       "      <td>25.0</td>\n",
       "      <td>67.0</td>\n",
       "      <td>0.9968</td>\n",
       "      <td>3.20</td>\n",
       "      <td>0.68</td>\n",
       "      <td>9.8</td>\n",
       "      <td>5</td>\n",
       "    </tr>\n",
       "    <tr>\n",
       "      <th>2</th>\n",
       "      <td>7.8</td>\n",
       "      <td>0.76</td>\n",
       "      <td>0.04</td>\n",
       "      <td>2.3</td>\n",
       "      <td>0.092</td>\n",
       "      <td>15.0</td>\n",
       "      <td>54.0</td>\n",
       "      <td>0.9970</td>\n",
       "      <td>3.26</td>\n",
       "      <td>0.65</td>\n",
       "      <td>9.8</td>\n",
       "      <td>5</td>\n",
       "    </tr>\n",
       "    <tr>\n",
       "      <th>3</th>\n",
       "      <td>11.2</td>\n",
       "      <td>0.28</td>\n",
       "      <td>0.56</td>\n",
       "      <td>1.9</td>\n",
       "      <td>0.075</td>\n",
       "      <td>17.0</td>\n",
       "      <td>60.0</td>\n",
       "      <td>0.9980</td>\n",
       "      <td>3.16</td>\n",
       "      <td>0.58</td>\n",
       "      <td>9.8</td>\n",
       "      <td>6</td>\n",
       "    </tr>\n",
       "    <tr>\n",
       "      <th>4</th>\n",
       "      <td>7.4</td>\n",
       "      <td>0.70</td>\n",
       "      <td>0.00</td>\n",
       "      <td>1.9</td>\n",
       "      <td>0.076</td>\n",
       "      <td>11.0</td>\n",
       "      <td>34.0</td>\n",
       "      <td>0.9978</td>\n",
       "      <td>3.51</td>\n",
       "      <td>0.56</td>\n",
       "      <td>9.4</td>\n",
       "      <td>5</td>\n",
       "    </tr>\n",
       "  </tbody>\n",
       "</table>\n",
       "</div>"
      ],
      "text/plain": [
       "   fixed acidity  volatile acidity  citric acid  residual sugar  chlorides  \\\n",
       "0            7.4              0.70         0.00             1.9      0.076   \n",
       "1            7.8              0.88         0.00             2.6      0.098   \n",
       "2            7.8              0.76         0.04             2.3      0.092   \n",
       "3           11.2              0.28         0.56             1.9      0.075   \n",
       "4            7.4              0.70         0.00             1.9      0.076   \n",
       "\n",
       "   free sulfur dioxide  total sulfur dioxide  density    pH  sulphates  \\\n",
       "0                 11.0                  34.0   0.9978  3.51       0.56   \n",
       "1                 25.0                  67.0   0.9968  3.20       0.68   \n",
       "2                 15.0                  54.0   0.9970  3.26       0.65   \n",
       "3                 17.0                  60.0   0.9980  3.16       0.58   \n",
       "4                 11.0                  34.0   0.9978  3.51       0.56   \n",
       "\n",
       "   alcohol  quality  \n",
       "0      9.4        5  \n",
       "1      9.8        5  \n",
       "2      9.8        5  \n",
       "3      9.8        6  \n",
       "4      9.4        5  "
      ]
     },
     "execution_count": 5,
     "metadata": {},
     "output_type": "execute_result"
    }
   ],
   "source": [
    "df.head()"
   ]
  },
  {
   "cell_type": "markdown",
   "id": "dc256d30",
   "metadata": {},
   "source": [
    "### Setup the dataset"
   ]
  },
  {
   "cell_type": "code",
   "execution_count": 6,
   "id": "dbd19cb1",
   "metadata": {},
   "outputs": [
    {
     "data": {
      "text/html": [
       "<style type=\"text/css\">\n",
       "#T_0d50b_row42_col1 {\n",
       "  background-color: lightgreen;\n",
       "}\n",
       "</style>\n",
       "<table id=\"T_0d50b\">\n",
       "  <thead>\n",
       "    <tr>\n",
       "      <th class=\"blank level0\" >&nbsp;</th>\n",
       "      <th id=\"T_0d50b_level0_col0\" class=\"col_heading level0 col0\" >Description</th>\n",
       "      <th id=\"T_0d50b_level0_col1\" class=\"col_heading level0 col1\" >Value</th>\n",
       "    </tr>\n",
       "  </thead>\n",
       "  <tbody>\n",
       "    <tr>\n",
       "      <th id=\"T_0d50b_level0_row0\" class=\"row_heading level0 row0\" >0</th>\n",
       "      <td id=\"T_0d50b_row0_col0\" class=\"data row0 col0\" >session_id</td>\n",
       "      <td id=\"T_0d50b_row0_col1\" class=\"data row0 col1\" >7626</td>\n",
       "    </tr>\n",
       "    <tr>\n",
       "      <th id=\"T_0d50b_level0_row1\" class=\"row_heading level0 row1\" >1</th>\n",
       "      <td id=\"T_0d50b_row1_col0\" class=\"data row1 col0\" >Target</td>\n",
       "      <td id=\"T_0d50b_row1_col1\" class=\"data row1 col1\" >quality</td>\n",
       "    </tr>\n",
       "    <tr>\n",
       "      <th id=\"T_0d50b_level0_row2\" class=\"row_heading level0 row2\" >2</th>\n",
       "      <td id=\"T_0d50b_row2_col0\" class=\"data row2 col0\" >Original Data</td>\n",
       "      <td id=\"T_0d50b_row2_col1\" class=\"data row2 col1\" >(1599, 12)</td>\n",
       "    </tr>\n",
       "    <tr>\n",
       "      <th id=\"T_0d50b_level0_row3\" class=\"row_heading level0 row3\" >3</th>\n",
       "      <td id=\"T_0d50b_row3_col0\" class=\"data row3 col0\" >Missing Values</td>\n",
       "      <td id=\"T_0d50b_row3_col1\" class=\"data row3 col1\" >False</td>\n",
       "    </tr>\n",
       "    <tr>\n",
       "      <th id=\"T_0d50b_level0_row4\" class=\"row_heading level0 row4\" >4</th>\n",
       "      <td id=\"T_0d50b_row4_col0\" class=\"data row4 col0\" >Numeric Features</td>\n",
       "      <td id=\"T_0d50b_row4_col1\" class=\"data row4 col1\" >11</td>\n",
       "    </tr>\n",
       "    <tr>\n",
       "      <th id=\"T_0d50b_level0_row5\" class=\"row_heading level0 row5\" >5</th>\n",
       "      <td id=\"T_0d50b_row5_col0\" class=\"data row5 col0\" >Categorical Features</td>\n",
       "      <td id=\"T_0d50b_row5_col1\" class=\"data row5 col1\" >0</td>\n",
       "    </tr>\n",
       "    <tr>\n",
       "      <th id=\"T_0d50b_level0_row6\" class=\"row_heading level0 row6\" >6</th>\n",
       "      <td id=\"T_0d50b_row6_col0\" class=\"data row6 col0\" >Ordinal Features</td>\n",
       "      <td id=\"T_0d50b_row6_col1\" class=\"data row6 col1\" >False</td>\n",
       "    </tr>\n",
       "    <tr>\n",
       "      <th id=\"T_0d50b_level0_row7\" class=\"row_heading level0 row7\" >7</th>\n",
       "      <td id=\"T_0d50b_row7_col0\" class=\"data row7 col0\" >High Cardinality Features</td>\n",
       "      <td id=\"T_0d50b_row7_col1\" class=\"data row7 col1\" >False</td>\n",
       "    </tr>\n",
       "    <tr>\n",
       "      <th id=\"T_0d50b_level0_row8\" class=\"row_heading level0 row8\" >8</th>\n",
       "      <td id=\"T_0d50b_row8_col0\" class=\"data row8 col0\" >High Cardinality Method</td>\n",
       "      <td id=\"T_0d50b_row8_col1\" class=\"data row8 col1\" >None</td>\n",
       "    </tr>\n",
       "    <tr>\n",
       "      <th id=\"T_0d50b_level0_row9\" class=\"row_heading level0 row9\" >9</th>\n",
       "      <td id=\"T_0d50b_row9_col0\" class=\"data row9 col0\" >Transformed Train Set</td>\n",
       "      <td id=\"T_0d50b_row9_col1\" class=\"data row9 col1\" >(1119, 11)</td>\n",
       "    </tr>\n",
       "    <tr>\n",
       "      <th id=\"T_0d50b_level0_row10\" class=\"row_heading level0 row10\" >10</th>\n",
       "      <td id=\"T_0d50b_row10_col0\" class=\"data row10 col0\" >Transformed Test Set</td>\n",
       "      <td id=\"T_0d50b_row10_col1\" class=\"data row10 col1\" >(480, 11)</td>\n",
       "    </tr>\n",
       "    <tr>\n",
       "      <th id=\"T_0d50b_level0_row11\" class=\"row_heading level0 row11\" >11</th>\n",
       "      <td id=\"T_0d50b_row11_col0\" class=\"data row11 col0\" >Shuffle Train-Test</td>\n",
       "      <td id=\"T_0d50b_row11_col1\" class=\"data row11 col1\" >True</td>\n",
       "    </tr>\n",
       "    <tr>\n",
       "      <th id=\"T_0d50b_level0_row12\" class=\"row_heading level0 row12\" >12</th>\n",
       "      <td id=\"T_0d50b_row12_col0\" class=\"data row12 col0\" >Stratify Train-Test</td>\n",
       "      <td id=\"T_0d50b_row12_col1\" class=\"data row12 col1\" >False</td>\n",
       "    </tr>\n",
       "    <tr>\n",
       "      <th id=\"T_0d50b_level0_row13\" class=\"row_heading level0 row13\" >13</th>\n",
       "      <td id=\"T_0d50b_row13_col0\" class=\"data row13 col0\" >Fold Generator</td>\n",
       "      <td id=\"T_0d50b_row13_col1\" class=\"data row13 col1\" >KFold</td>\n",
       "    </tr>\n",
       "    <tr>\n",
       "      <th id=\"T_0d50b_level0_row14\" class=\"row_heading level0 row14\" >14</th>\n",
       "      <td id=\"T_0d50b_row14_col0\" class=\"data row14 col0\" >Fold Number</td>\n",
       "      <td id=\"T_0d50b_row14_col1\" class=\"data row14 col1\" >10</td>\n",
       "    </tr>\n",
       "    <tr>\n",
       "      <th id=\"T_0d50b_level0_row15\" class=\"row_heading level0 row15\" >15</th>\n",
       "      <td id=\"T_0d50b_row15_col0\" class=\"data row15 col0\" >CPU Jobs</td>\n",
       "      <td id=\"T_0d50b_row15_col1\" class=\"data row15 col1\" >-1</td>\n",
       "    </tr>\n",
       "    <tr>\n",
       "      <th id=\"T_0d50b_level0_row16\" class=\"row_heading level0 row16\" >16</th>\n",
       "      <td id=\"T_0d50b_row16_col0\" class=\"data row16 col0\" >Use GPU</td>\n",
       "      <td id=\"T_0d50b_row16_col1\" class=\"data row16 col1\" >False</td>\n",
       "    </tr>\n",
       "    <tr>\n",
       "      <th id=\"T_0d50b_level0_row17\" class=\"row_heading level0 row17\" >17</th>\n",
       "      <td id=\"T_0d50b_row17_col0\" class=\"data row17 col0\" >Log Experiment</td>\n",
       "      <td id=\"T_0d50b_row17_col1\" class=\"data row17 col1\" >False</td>\n",
       "    </tr>\n",
       "    <tr>\n",
       "      <th id=\"T_0d50b_level0_row18\" class=\"row_heading level0 row18\" >18</th>\n",
       "      <td id=\"T_0d50b_row18_col0\" class=\"data row18 col0\" >Experiment Name</td>\n",
       "      <td id=\"T_0d50b_row18_col1\" class=\"data row18 col1\" >reg-default-name</td>\n",
       "    </tr>\n",
       "    <tr>\n",
       "      <th id=\"T_0d50b_level0_row19\" class=\"row_heading level0 row19\" >19</th>\n",
       "      <td id=\"T_0d50b_row19_col0\" class=\"data row19 col0\" >USI</td>\n",
       "      <td id=\"T_0d50b_row19_col1\" class=\"data row19 col1\" >4295</td>\n",
       "    </tr>\n",
       "    <tr>\n",
       "      <th id=\"T_0d50b_level0_row20\" class=\"row_heading level0 row20\" >20</th>\n",
       "      <td id=\"T_0d50b_row20_col0\" class=\"data row20 col0\" >Imputation Type</td>\n",
       "      <td id=\"T_0d50b_row20_col1\" class=\"data row20 col1\" >simple</td>\n",
       "    </tr>\n",
       "    <tr>\n",
       "      <th id=\"T_0d50b_level0_row21\" class=\"row_heading level0 row21\" >21</th>\n",
       "      <td id=\"T_0d50b_row21_col0\" class=\"data row21 col0\" >Iterative Imputation Iteration</td>\n",
       "      <td id=\"T_0d50b_row21_col1\" class=\"data row21 col1\" >None</td>\n",
       "    </tr>\n",
       "    <tr>\n",
       "      <th id=\"T_0d50b_level0_row22\" class=\"row_heading level0 row22\" >22</th>\n",
       "      <td id=\"T_0d50b_row22_col0\" class=\"data row22 col0\" >Numeric Imputer</td>\n",
       "      <td id=\"T_0d50b_row22_col1\" class=\"data row22 col1\" >mean</td>\n",
       "    </tr>\n",
       "    <tr>\n",
       "      <th id=\"T_0d50b_level0_row23\" class=\"row_heading level0 row23\" >23</th>\n",
       "      <td id=\"T_0d50b_row23_col0\" class=\"data row23 col0\" >Iterative Imputation Numeric Model</td>\n",
       "      <td id=\"T_0d50b_row23_col1\" class=\"data row23 col1\" >None</td>\n",
       "    </tr>\n",
       "    <tr>\n",
       "      <th id=\"T_0d50b_level0_row24\" class=\"row_heading level0 row24\" >24</th>\n",
       "      <td id=\"T_0d50b_row24_col0\" class=\"data row24 col0\" >Categorical Imputer</td>\n",
       "      <td id=\"T_0d50b_row24_col1\" class=\"data row24 col1\" >constant</td>\n",
       "    </tr>\n",
       "    <tr>\n",
       "      <th id=\"T_0d50b_level0_row25\" class=\"row_heading level0 row25\" >25</th>\n",
       "      <td id=\"T_0d50b_row25_col0\" class=\"data row25 col0\" >Iterative Imputation Categorical Model</td>\n",
       "      <td id=\"T_0d50b_row25_col1\" class=\"data row25 col1\" >None</td>\n",
       "    </tr>\n",
       "    <tr>\n",
       "      <th id=\"T_0d50b_level0_row26\" class=\"row_heading level0 row26\" >26</th>\n",
       "      <td id=\"T_0d50b_row26_col0\" class=\"data row26 col0\" >Unknown Categoricals Handling</td>\n",
       "      <td id=\"T_0d50b_row26_col1\" class=\"data row26 col1\" >least_frequent</td>\n",
       "    </tr>\n",
       "    <tr>\n",
       "      <th id=\"T_0d50b_level0_row27\" class=\"row_heading level0 row27\" >27</th>\n",
       "      <td id=\"T_0d50b_row27_col0\" class=\"data row27 col0\" >Normalize</td>\n",
       "      <td id=\"T_0d50b_row27_col1\" class=\"data row27 col1\" >False</td>\n",
       "    </tr>\n",
       "    <tr>\n",
       "      <th id=\"T_0d50b_level0_row28\" class=\"row_heading level0 row28\" >28</th>\n",
       "      <td id=\"T_0d50b_row28_col0\" class=\"data row28 col0\" >Normalize Method</td>\n",
       "      <td id=\"T_0d50b_row28_col1\" class=\"data row28 col1\" >None</td>\n",
       "    </tr>\n",
       "    <tr>\n",
       "      <th id=\"T_0d50b_level0_row29\" class=\"row_heading level0 row29\" >29</th>\n",
       "      <td id=\"T_0d50b_row29_col0\" class=\"data row29 col0\" >Transformation</td>\n",
       "      <td id=\"T_0d50b_row29_col1\" class=\"data row29 col1\" >False</td>\n",
       "    </tr>\n",
       "    <tr>\n",
       "      <th id=\"T_0d50b_level0_row30\" class=\"row_heading level0 row30\" >30</th>\n",
       "      <td id=\"T_0d50b_row30_col0\" class=\"data row30 col0\" >Transformation Method</td>\n",
       "      <td id=\"T_0d50b_row30_col1\" class=\"data row30 col1\" >None</td>\n",
       "    </tr>\n",
       "    <tr>\n",
       "      <th id=\"T_0d50b_level0_row31\" class=\"row_heading level0 row31\" >31</th>\n",
       "      <td id=\"T_0d50b_row31_col0\" class=\"data row31 col0\" >PCA</td>\n",
       "      <td id=\"T_0d50b_row31_col1\" class=\"data row31 col1\" >False</td>\n",
       "    </tr>\n",
       "    <tr>\n",
       "      <th id=\"T_0d50b_level0_row32\" class=\"row_heading level0 row32\" >32</th>\n",
       "      <td id=\"T_0d50b_row32_col0\" class=\"data row32 col0\" >PCA Method</td>\n",
       "      <td id=\"T_0d50b_row32_col1\" class=\"data row32 col1\" >None</td>\n",
       "    </tr>\n",
       "    <tr>\n",
       "      <th id=\"T_0d50b_level0_row33\" class=\"row_heading level0 row33\" >33</th>\n",
       "      <td id=\"T_0d50b_row33_col0\" class=\"data row33 col0\" >PCA Components</td>\n",
       "      <td id=\"T_0d50b_row33_col1\" class=\"data row33 col1\" >None</td>\n",
       "    </tr>\n",
       "    <tr>\n",
       "      <th id=\"T_0d50b_level0_row34\" class=\"row_heading level0 row34\" >34</th>\n",
       "      <td id=\"T_0d50b_row34_col0\" class=\"data row34 col0\" >Ignore Low Variance</td>\n",
       "      <td id=\"T_0d50b_row34_col1\" class=\"data row34 col1\" >False</td>\n",
       "    </tr>\n",
       "    <tr>\n",
       "      <th id=\"T_0d50b_level0_row35\" class=\"row_heading level0 row35\" >35</th>\n",
       "      <td id=\"T_0d50b_row35_col0\" class=\"data row35 col0\" >Combine Rare Levels</td>\n",
       "      <td id=\"T_0d50b_row35_col1\" class=\"data row35 col1\" >False</td>\n",
       "    </tr>\n",
       "    <tr>\n",
       "      <th id=\"T_0d50b_level0_row36\" class=\"row_heading level0 row36\" >36</th>\n",
       "      <td id=\"T_0d50b_row36_col0\" class=\"data row36 col0\" >Rare Level Threshold</td>\n",
       "      <td id=\"T_0d50b_row36_col1\" class=\"data row36 col1\" >None</td>\n",
       "    </tr>\n",
       "    <tr>\n",
       "      <th id=\"T_0d50b_level0_row37\" class=\"row_heading level0 row37\" >37</th>\n",
       "      <td id=\"T_0d50b_row37_col0\" class=\"data row37 col0\" >Numeric Binning</td>\n",
       "      <td id=\"T_0d50b_row37_col1\" class=\"data row37 col1\" >False</td>\n",
       "    </tr>\n",
       "    <tr>\n",
       "      <th id=\"T_0d50b_level0_row38\" class=\"row_heading level0 row38\" >38</th>\n",
       "      <td id=\"T_0d50b_row38_col0\" class=\"data row38 col0\" >Remove Outliers</td>\n",
       "      <td id=\"T_0d50b_row38_col1\" class=\"data row38 col1\" >False</td>\n",
       "    </tr>\n",
       "    <tr>\n",
       "      <th id=\"T_0d50b_level0_row39\" class=\"row_heading level0 row39\" >39</th>\n",
       "      <td id=\"T_0d50b_row39_col0\" class=\"data row39 col0\" >Outliers Threshold</td>\n",
       "      <td id=\"T_0d50b_row39_col1\" class=\"data row39 col1\" >None</td>\n",
       "    </tr>\n",
       "    <tr>\n",
       "      <th id=\"T_0d50b_level0_row40\" class=\"row_heading level0 row40\" >40</th>\n",
       "      <td id=\"T_0d50b_row40_col0\" class=\"data row40 col0\" >Remove Multicollinearity</td>\n",
       "      <td id=\"T_0d50b_row40_col1\" class=\"data row40 col1\" >False</td>\n",
       "    </tr>\n",
       "    <tr>\n",
       "      <th id=\"T_0d50b_level0_row41\" class=\"row_heading level0 row41\" >41</th>\n",
       "      <td id=\"T_0d50b_row41_col0\" class=\"data row41 col0\" >Multicollinearity Threshold</td>\n",
       "      <td id=\"T_0d50b_row41_col1\" class=\"data row41 col1\" >None</td>\n",
       "    </tr>\n",
       "    <tr>\n",
       "      <th id=\"T_0d50b_level0_row42\" class=\"row_heading level0 row42\" >42</th>\n",
       "      <td id=\"T_0d50b_row42_col0\" class=\"data row42 col0\" >Remove Perfect Collinearity</td>\n",
       "      <td id=\"T_0d50b_row42_col1\" class=\"data row42 col1\" >True</td>\n",
       "    </tr>\n",
       "    <tr>\n",
       "      <th id=\"T_0d50b_level0_row43\" class=\"row_heading level0 row43\" >43</th>\n",
       "      <td id=\"T_0d50b_row43_col0\" class=\"data row43 col0\" >Clustering</td>\n",
       "      <td id=\"T_0d50b_row43_col1\" class=\"data row43 col1\" >False</td>\n",
       "    </tr>\n",
       "    <tr>\n",
       "      <th id=\"T_0d50b_level0_row44\" class=\"row_heading level0 row44\" >44</th>\n",
       "      <td id=\"T_0d50b_row44_col0\" class=\"data row44 col0\" >Clustering Iteration</td>\n",
       "      <td id=\"T_0d50b_row44_col1\" class=\"data row44 col1\" >None</td>\n",
       "    </tr>\n",
       "    <tr>\n",
       "      <th id=\"T_0d50b_level0_row45\" class=\"row_heading level0 row45\" >45</th>\n",
       "      <td id=\"T_0d50b_row45_col0\" class=\"data row45 col0\" >Polynomial Features</td>\n",
       "      <td id=\"T_0d50b_row45_col1\" class=\"data row45 col1\" >False</td>\n",
       "    </tr>\n",
       "    <tr>\n",
       "      <th id=\"T_0d50b_level0_row46\" class=\"row_heading level0 row46\" >46</th>\n",
       "      <td id=\"T_0d50b_row46_col0\" class=\"data row46 col0\" >Polynomial Degree</td>\n",
       "      <td id=\"T_0d50b_row46_col1\" class=\"data row46 col1\" >None</td>\n",
       "    </tr>\n",
       "    <tr>\n",
       "      <th id=\"T_0d50b_level0_row47\" class=\"row_heading level0 row47\" >47</th>\n",
       "      <td id=\"T_0d50b_row47_col0\" class=\"data row47 col0\" >Trignometry Features</td>\n",
       "      <td id=\"T_0d50b_row47_col1\" class=\"data row47 col1\" >False</td>\n",
       "    </tr>\n",
       "    <tr>\n",
       "      <th id=\"T_0d50b_level0_row48\" class=\"row_heading level0 row48\" >48</th>\n",
       "      <td id=\"T_0d50b_row48_col0\" class=\"data row48 col0\" >Polynomial Threshold</td>\n",
       "      <td id=\"T_0d50b_row48_col1\" class=\"data row48 col1\" >None</td>\n",
       "    </tr>\n",
       "    <tr>\n",
       "      <th id=\"T_0d50b_level0_row49\" class=\"row_heading level0 row49\" >49</th>\n",
       "      <td id=\"T_0d50b_row49_col0\" class=\"data row49 col0\" >Group Features</td>\n",
       "      <td id=\"T_0d50b_row49_col1\" class=\"data row49 col1\" >False</td>\n",
       "    </tr>\n",
       "    <tr>\n",
       "      <th id=\"T_0d50b_level0_row50\" class=\"row_heading level0 row50\" >50</th>\n",
       "      <td id=\"T_0d50b_row50_col0\" class=\"data row50 col0\" >Feature Selection</td>\n",
       "      <td id=\"T_0d50b_row50_col1\" class=\"data row50 col1\" >False</td>\n",
       "    </tr>\n",
       "    <tr>\n",
       "      <th id=\"T_0d50b_level0_row51\" class=\"row_heading level0 row51\" >51</th>\n",
       "      <td id=\"T_0d50b_row51_col0\" class=\"data row51 col0\" >Feature Selection Method</td>\n",
       "      <td id=\"T_0d50b_row51_col1\" class=\"data row51 col1\" >classic</td>\n",
       "    </tr>\n",
       "    <tr>\n",
       "      <th id=\"T_0d50b_level0_row52\" class=\"row_heading level0 row52\" >52</th>\n",
       "      <td id=\"T_0d50b_row52_col0\" class=\"data row52 col0\" >Features Selection Threshold</td>\n",
       "      <td id=\"T_0d50b_row52_col1\" class=\"data row52 col1\" >None</td>\n",
       "    </tr>\n",
       "    <tr>\n",
       "      <th id=\"T_0d50b_level0_row53\" class=\"row_heading level0 row53\" >53</th>\n",
       "      <td id=\"T_0d50b_row53_col0\" class=\"data row53 col0\" >Feature Interaction</td>\n",
       "      <td id=\"T_0d50b_row53_col1\" class=\"data row53 col1\" >False</td>\n",
       "    </tr>\n",
       "    <tr>\n",
       "      <th id=\"T_0d50b_level0_row54\" class=\"row_heading level0 row54\" >54</th>\n",
       "      <td id=\"T_0d50b_row54_col0\" class=\"data row54 col0\" >Feature Ratio</td>\n",
       "      <td id=\"T_0d50b_row54_col1\" class=\"data row54 col1\" >False</td>\n",
       "    </tr>\n",
       "    <tr>\n",
       "      <th id=\"T_0d50b_level0_row55\" class=\"row_heading level0 row55\" >55</th>\n",
       "      <td id=\"T_0d50b_row55_col0\" class=\"data row55 col0\" >Interaction Threshold</td>\n",
       "      <td id=\"T_0d50b_row55_col1\" class=\"data row55 col1\" >None</td>\n",
       "    </tr>\n",
       "    <tr>\n",
       "      <th id=\"T_0d50b_level0_row56\" class=\"row_heading level0 row56\" >56</th>\n",
       "      <td id=\"T_0d50b_row56_col0\" class=\"data row56 col0\" >Transform Target</td>\n",
       "      <td id=\"T_0d50b_row56_col1\" class=\"data row56 col1\" >False</td>\n",
       "    </tr>\n",
       "    <tr>\n",
       "      <th id=\"T_0d50b_level0_row57\" class=\"row_heading level0 row57\" >57</th>\n",
       "      <td id=\"T_0d50b_row57_col0\" class=\"data row57 col0\" >Transform Target Method</td>\n",
       "      <td id=\"T_0d50b_row57_col1\" class=\"data row57 col1\" >box-cox</td>\n",
       "    </tr>\n",
       "  </tbody>\n",
       "</table>\n"
      ],
      "text/plain": [
       "<pandas.io.formats.style.Styler at 0x7f737f010f10>"
      ]
     },
     "metadata": {},
     "output_type": "display_data"
    }
   ],
   "source": [
    "# must be called before executing any other function\n",
    "# change target column as required\n",
    "# can configure many types of transformation operations\n",
    "# by default Missing Value Imputation, One-Hot Encoding and Train-Test Split operations will be performed\n",
    "# press enter to continue\n",
    "grid = setup(data=df, target=target_column)"
   ]
  },
  {
   "cell_type": "markdown",
   "id": "7d8284e0",
   "metadata": {},
   "source": [
    "### Train and compare all supported models"
   ]
  },
  {
   "cell_type": "code",
   "execution_count": 7,
   "id": "f0e5510c",
   "metadata": {},
   "outputs": [
    {
     "data": {
      "text/html": [
       "<style type=\"text/css\">\n",
       "#T_5f594 th {\n",
       "  text-align: left;\n",
       "}\n",
       "#T_5f594_row0_col0, #T_5f594_row1_col0, #T_5f594_row1_col1, #T_5f594_row1_col2, #T_5f594_row1_col3, #T_5f594_row1_col4, #T_5f594_row1_col5, #T_5f594_row1_col6, #T_5f594_row2_col0, #T_5f594_row2_col1, #T_5f594_row2_col2, #T_5f594_row2_col3, #T_5f594_row2_col4, #T_5f594_row2_col5, #T_5f594_row2_col6, #T_5f594_row3_col0, #T_5f594_row3_col1, #T_5f594_row3_col2, #T_5f594_row3_col3, #T_5f594_row3_col4, #T_5f594_row3_col5, #T_5f594_row3_col6, #T_5f594_row4_col0, #T_5f594_row4_col1, #T_5f594_row4_col2, #T_5f594_row4_col3, #T_5f594_row4_col4, #T_5f594_row4_col5, #T_5f594_row4_col6, #T_5f594_row5_col0, #T_5f594_row5_col1, #T_5f594_row5_col2, #T_5f594_row5_col3, #T_5f594_row5_col4, #T_5f594_row5_col5, #T_5f594_row5_col6, #T_5f594_row6_col0, #T_5f594_row6_col1, #T_5f594_row6_col2, #T_5f594_row6_col3, #T_5f594_row6_col4, #T_5f594_row6_col5, #T_5f594_row6_col6, #T_5f594_row7_col0, #T_5f594_row7_col1, #T_5f594_row7_col2, #T_5f594_row7_col3, #T_5f594_row7_col4, #T_5f594_row7_col5, #T_5f594_row7_col6, #T_5f594_row8_col0, #T_5f594_row8_col1, #T_5f594_row8_col2, #T_5f594_row8_col3, #T_5f594_row8_col4, #T_5f594_row8_col5, #T_5f594_row8_col6, #T_5f594_row9_col0, #T_5f594_row9_col1, #T_5f594_row9_col2, #T_5f594_row9_col3, #T_5f594_row9_col4, #T_5f594_row9_col5, #T_5f594_row9_col6, #T_5f594_row10_col0, #T_5f594_row10_col1, #T_5f594_row10_col2, #T_5f594_row10_col3, #T_5f594_row10_col4, #T_5f594_row10_col5, #T_5f594_row10_col6, #T_5f594_row11_col0, #T_5f594_row11_col1, #T_5f594_row11_col2, #T_5f594_row11_col3, #T_5f594_row11_col4, #T_5f594_row11_col5, #T_5f594_row11_col6, #T_5f594_row12_col0, #T_5f594_row12_col1, #T_5f594_row12_col2, #T_5f594_row12_col3, #T_5f594_row12_col4, #T_5f594_row12_col5, #T_5f594_row12_col6, #T_5f594_row13_col0, #T_5f594_row13_col1, #T_5f594_row13_col2, #T_5f594_row13_col3, #T_5f594_row13_col4, #T_5f594_row13_col5, #T_5f594_row13_col6, #T_5f594_row14_col0, #T_5f594_row14_col1, #T_5f594_row14_col2, #T_5f594_row14_col3, #T_5f594_row14_col4, #T_5f594_row14_col5, #T_5f594_row14_col6, #T_5f594_row15_col0, #T_5f594_row15_col1, #T_5f594_row15_col2, #T_5f594_row15_col3, #T_5f594_row15_col4, #T_5f594_row15_col5, #T_5f594_row15_col6, #T_5f594_row16_col0, #T_5f594_row16_col1, #T_5f594_row16_col2, #T_5f594_row16_col3, #T_5f594_row16_col4, #T_5f594_row16_col5, #T_5f594_row16_col6, #T_5f594_row17_col0, #T_5f594_row17_col1, #T_5f594_row17_col2, #T_5f594_row17_col3, #T_5f594_row17_col4, #T_5f594_row17_col5, #T_5f594_row17_col6 {\n",
       "  text-align: left;\n",
       "}\n",
       "#T_5f594_row0_col1, #T_5f594_row0_col2, #T_5f594_row0_col3, #T_5f594_row0_col4, #T_5f594_row0_col5, #T_5f594_row0_col6 {\n",
       "  text-align: left;\n",
       "  background-color: yellow;\n",
       "}\n",
       "#T_5f594_row0_col7, #T_5f594_row1_col7, #T_5f594_row2_col7, #T_5f594_row3_col7, #T_5f594_row4_col7, #T_5f594_row5_col7, #T_5f594_row6_col7, #T_5f594_row7_col7, #T_5f594_row8_col7, #T_5f594_row9_col7, #T_5f594_row10_col7, #T_5f594_row11_col7, #T_5f594_row12_col7, #T_5f594_row13_col7, #T_5f594_row14_col7, #T_5f594_row16_col7, #T_5f594_row17_col7 {\n",
       "  text-align: left;\n",
       "  background-color: lightgrey;\n",
       "}\n",
       "#T_5f594_row15_col7 {\n",
       "  text-align: left;\n",
       "  background-color: yellow;\n",
       "  background-color: lightgrey;\n",
       "}\n",
       "</style>\n",
       "<table id=\"T_5f594\">\n",
       "  <thead>\n",
       "    <tr>\n",
       "      <th class=\"blank level0\" >&nbsp;</th>\n",
       "      <th id=\"T_5f594_level0_col0\" class=\"col_heading level0 col0\" >Model</th>\n",
       "      <th id=\"T_5f594_level0_col1\" class=\"col_heading level0 col1\" >MAE</th>\n",
       "      <th id=\"T_5f594_level0_col2\" class=\"col_heading level0 col2\" >MSE</th>\n",
       "      <th id=\"T_5f594_level0_col3\" class=\"col_heading level0 col3\" >RMSE</th>\n",
       "      <th id=\"T_5f594_level0_col4\" class=\"col_heading level0 col4\" >R2</th>\n",
       "      <th id=\"T_5f594_level0_col5\" class=\"col_heading level0 col5\" >RMSLE</th>\n",
       "      <th id=\"T_5f594_level0_col6\" class=\"col_heading level0 col6\" >MAPE</th>\n",
       "      <th id=\"T_5f594_level0_col7\" class=\"col_heading level0 col7\" >TT (Sec)</th>\n",
       "    </tr>\n",
       "  </thead>\n",
       "  <tbody>\n",
       "    <tr>\n",
       "      <th id=\"T_5f594_level0_row0\" class=\"row_heading level0 row0\" >et</th>\n",
       "      <td id=\"T_5f594_row0_col0\" class=\"data row0 col0\" >Extra Trees Regressor</td>\n",
       "      <td id=\"T_5f594_row0_col1\" class=\"data row0 col1\" >0.4020</td>\n",
       "      <td id=\"T_5f594_row0_col2\" class=\"data row0 col2\" >0.3391</td>\n",
       "      <td id=\"T_5f594_row0_col3\" class=\"data row0 col3\" >0.5770</td>\n",
       "      <td id=\"T_5f594_row0_col4\" class=\"data row0 col4\" >0.4647</td>\n",
       "      <td id=\"T_5f594_row0_col5\" class=\"data row0 col5\" >0.0903</td>\n",
       "      <td id=\"T_5f594_row0_col6\" class=\"data row0 col6\" >0.0749</td>\n",
       "      <td id=\"T_5f594_row0_col7\" class=\"data row0 col7\" >0.1540</td>\n",
       "    </tr>\n",
       "    <tr>\n",
       "      <th id=\"T_5f594_level0_row1\" class=\"row_heading level0 row1\" >rf</th>\n",
       "      <td id=\"T_5f594_row1_col0\" class=\"data row1 col0\" >Random Forest Regressor</td>\n",
       "      <td id=\"T_5f594_row1_col1\" class=\"data row1 col1\" >0.4374</td>\n",
       "      <td id=\"T_5f594_row1_col2\" class=\"data row1 col2\" >0.3533</td>\n",
       "      <td id=\"T_5f594_row1_col3\" class=\"data row1 col3\" >0.5904</td>\n",
       "      <td id=\"T_5f594_row1_col4\" class=\"data row1 col4\" >0.4372</td>\n",
       "      <td id=\"T_5f594_row1_col5\" class=\"data row1 col5\" >0.0920</td>\n",
       "      <td id=\"T_5f594_row1_col6\" class=\"data row1 col6\" >0.0810</td>\n",
       "      <td id=\"T_5f594_row1_col7\" class=\"data row1 col7\" >0.2100</td>\n",
       "    </tr>\n",
       "    <tr>\n",
       "      <th id=\"T_5f594_level0_row2\" class=\"row_heading level0 row2\" >gbr</th>\n",
       "      <td id=\"T_5f594_row2_col0\" class=\"data row2 col0\" >Gradient Boosting Regressor</td>\n",
       "      <td id=\"T_5f594_row2_col1\" class=\"data row2 col1\" >0.4791</td>\n",
       "      <td id=\"T_5f594_row2_col2\" class=\"data row2 col2\" >0.3816</td>\n",
       "      <td id=\"T_5f594_row2_col3\" class=\"data row2 col3\" >0.6149</td>\n",
       "      <td id=\"T_5f594_row2_col4\" class=\"data row2 col4\" >0.3926</td>\n",
       "      <td id=\"T_5f594_row2_col5\" class=\"data row2 col5\" >0.0953</td>\n",
       "      <td id=\"T_5f594_row2_col6\" class=\"data row2 col6\" >0.0882</td>\n",
       "      <td id=\"T_5f594_row2_col7\" class=\"data row2 col7\" >0.0690</td>\n",
       "    </tr>\n",
       "    <tr>\n",
       "      <th id=\"T_5f594_level0_row3\" class=\"row_heading level0 row3\" >lightgbm</th>\n",
       "      <td id=\"T_5f594_row3_col0\" class=\"data row3 col0\" >Light Gradient Boosting Machine</td>\n",
       "      <td id=\"T_5f594_row3_col1\" class=\"data row3 col1\" >0.4479</td>\n",
       "      <td id=\"T_5f594_row3_col2\" class=\"data row3 col2\" >0.3808</td>\n",
       "      <td id=\"T_5f594_row3_col3\" class=\"data row3 col3\" >0.6131</td>\n",
       "      <td id=\"T_5f594_row3_col4\" class=\"data row3 col4\" >0.3909</td>\n",
       "      <td id=\"T_5f594_row3_col5\" class=\"data row3 col5\" >0.0956</td>\n",
       "      <td id=\"T_5f594_row3_col6\" class=\"data row3 col6\" >0.0828</td>\n",
       "      <td id=\"T_5f594_row3_col7\" class=\"data row3 col7\" >0.0950</td>\n",
       "    </tr>\n",
       "    <tr>\n",
       "      <th id=\"T_5f594_level0_row4\" class=\"row_heading level0 row4\" >lr</th>\n",
       "      <td id=\"T_5f594_row4_col0\" class=\"data row4 col0\" >Linear Regression</td>\n",
       "      <td id=\"T_5f594_row4_col1\" class=\"data row4 col1\" >0.5029</td>\n",
       "      <td id=\"T_5f594_row4_col2\" class=\"data row4 col2\" >0.4168</td>\n",
       "      <td id=\"T_5f594_row4_col3\" class=\"data row4 col3\" >0.6427</td>\n",
       "      <td id=\"T_5f594_row4_col4\" class=\"data row4 col4\" >0.3369</td>\n",
       "      <td id=\"T_5f594_row4_col5\" class=\"data row4 col5\" >0.0997</td>\n",
       "      <td id=\"T_5f594_row4_col6\" class=\"data row4 col6\" >0.0927</td>\n",
       "      <td id=\"T_5f594_row4_col7\" class=\"data row4 col7\" >0.3530</td>\n",
       "    </tr>\n",
       "    <tr>\n",
       "      <th id=\"T_5f594_level0_row5\" class=\"row_heading level0 row5\" >ridge</th>\n",
       "      <td id=\"T_5f594_row5_col0\" class=\"data row5 col0\" >Ridge Regression</td>\n",
       "      <td id=\"T_5f594_row5_col1\" class=\"data row5 col1\" >0.5030</td>\n",
       "      <td id=\"T_5f594_row5_col2\" class=\"data row5 col2\" >0.4174</td>\n",
       "      <td id=\"T_5f594_row5_col3\" class=\"data row5 col3\" >0.6433</td>\n",
       "      <td id=\"T_5f594_row5_col4\" class=\"data row5 col4\" >0.3356</td>\n",
       "      <td id=\"T_5f594_row5_col5\" class=\"data row5 col5\" >0.0998</td>\n",
       "      <td id=\"T_5f594_row5_col6\" class=\"data row5 col6\" >0.0927</td>\n",
       "      <td id=\"T_5f594_row5_col7\" class=\"data row5 col7\" >0.0130</td>\n",
       "    </tr>\n",
       "    <tr>\n",
       "      <th id=\"T_5f594_level0_row6\" class=\"row_heading level0 row6\" >br</th>\n",
       "      <td id=\"T_5f594_row6_col0\" class=\"data row6 col0\" >Bayesian Ridge</td>\n",
       "      <td id=\"T_5f594_row6_col1\" class=\"data row6 col1\" >0.5032</td>\n",
       "      <td id=\"T_5f594_row6_col2\" class=\"data row6 col2\" >0.4178</td>\n",
       "      <td id=\"T_5f594_row6_col3\" class=\"data row6 col3\" >0.6435</td>\n",
       "      <td id=\"T_5f594_row6_col4\" class=\"data row6 col4\" >0.3351</td>\n",
       "      <td id=\"T_5f594_row6_col5\" class=\"data row6 col5\" >0.0998</td>\n",
       "      <td id=\"T_5f594_row6_col6\" class=\"data row6 col6\" >0.0927</td>\n",
       "      <td id=\"T_5f594_row6_col7\" class=\"data row6 col7\" >0.0080</td>\n",
       "    </tr>\n",
       "    <tr>\n",
       "      <th id=\"T_5f594_level0_row7\" class=\"row_heading level0 row7\" >ada</th>\n",
       "      <td id=\"T_5f594_row7_col0\" class=\"data row7 col0\" >AdaBoost Regressor</td>\n",
       "      <td id=\"T_5f594_row7_col1\" class=\"data row7 col1\" >0.5229</td>\n",
       "      <td id=\"T_5f594_row7_col2\" class=\"data row7 col2\" >0.4175</td>\n",
       "      <td id=\"T_5f594_row7_col3\" class=\"data row7 col3\" >0.6442</td>\n",
       "      <td id=\"T_5f594_row7_col4\" class=\"data row7 col4\" >0.3324</td>\n",
       "      <td id=\"T_5f594_row7_col5\" class=\"data row7 col5\" >0.1000</td>\n",
       "      <td id=\"T_5f594_row7_col6\" class=\"data row7 col6\" >0.0964</td>\n",
       "      <td id=\"T_5f594_row7_col7\" class=\"data row7 col7\" >0.0510</td>\n",
       "    </tr>\n",
       "    <tr>\n",
       "      <th id=\"T_5f594_level0_row8\" class=\"row_heading level0 row8\" >huber</th>\n",
       "      <td id=\"T_5f594_row8_col0\" class=\"data row8 col0\" >Huber Regressor</td>\n",
       "      <td id=\"T_5f594_row8_col1\" class=\"data row8 col1\" >0.5087</td>\n",
       "      <td id=\"T_5f594_row8_col2\" class=\"data row8 col2\" >0.4332</td>\n",
       "      <td id=\"T_5f594_row8_col3\" class=\"data row8 col3\" >0.6551</td>\n",
       "      <td id=\"T_5f594_row8_col4\" class=\"data row8 col4\" >0.3100</td>\n",
       "      <td id=\"T_5f594_row8_col5\" class=\"data row8 col5\" >0.1018</td>\n",
       "      <td id=\"T_5f594_row8_col6\" class=\"data row8 col6\" >0.0942</td>\n",
       "      <td id=\"T_5f594_row8_col7\" class=\"data row8 col7\" >0.0180</td>\n",
       "    </tr>\n",
       "    <tr>\n",
       "      <th id=\"T_5f594_level0_row9\" class=\"row_heading level0 row9\" >lar</th>\n",
       "      <td id=\"T_5f594_row9_col0\" class=\"data row9 col0\" >Least Angle Regression</td>\n",
       "      <td id=\"T_5f594_row9_col1\" class=\"data row9 col1\" >0.5182</td>\n",
       "      <td id=\"T_5f594_row9_col2\" class=\"data row9 col2\" >0.4431</td>\n",
       "      <td id=\"T_5f594_row9_col3\" class=\"data row9 col3\" >0.6624</td>\n",
       "      <td id=\"T_5f594_row9_col4\" class=\"data row9 col4\" >0.2928</td>\n",
       "      <td id=\"T_5f594_row9_col5\" class=\"data row9 col5\" >0.1026</td>\n",
       "      <td id=\"T_5f594_row9_col6\" class=\"data row9 col6\" >0.0955</td>\n",
       "      <td id=\"T_5f594_row9_col7\" class=\"data row9 col7\" >0.0080</td>\n",
       "    </tr>\n",
       "    <tr>\n",
       "      <th id=\"T_5f594_level0_row10\" class=\"row_heading level0 row10\" >omp</th>\n",
       "      <td id=\"T_5f594_row10_col0\" class=\"data row10 col0\" >Orthogonal Matching Pursuit</td>\n",
       "      <td id=\"T_5f594_row10_col1\" class=\"data row10 col1\" >0.5573</td>\n",
       "      <td id=\"T_5f594_row10_col2\" class=\"data row10 col2\" >0.4927</td>\n",
       "      <td id=\"T_5f594_row10_col3\" class=\"data row10 col3\" >0.6994</td>\n",
       "      <td id=\"T_5f594_row10_col4\" class=\"data row10 col4\" >0.2106</td>\n",
       "      <td id=\"T_5f594_row10_col5\" class=\"data row10 col5\" >0.1082</td>\n",
       "      <td id=\"T_5f594_row10_col6\" class=\"data row10 col6\" >0.1028</td>\n",
       "      <td id=\"T_5f594_row10_col7\" class=\"data row10 col7\" >0.0090</td>\n",
       "    </tr>\n",
       "    <tr>\n",
       "      <th id=\"T_5f594_level0_row11\" class=\"row_heading level0 row11\" >knn</th>\n",
       "      <td id=\"T_5f594_row11_col0\" class=\"data row11 col0\" >K Neighbors Regressor</td>\n",
       "      <td id=\"T_5f594_row11_col1\" class=\"data row11 col1\" >0.5961</td>\n",
       "      <td id=\"T_5f594_row11_col2\" class=\"data row11 col2\" >0.6167</td>\n",
       "      <td id=\"T_5f594_row11_col3\" class=\"data row11 col3\" >0.7820</td>\n",
       "      <td id=\"T_5f594_row11_col4\" class=\"data row11 col4\" >0.0170</td>\n",
       "      <td id=\"T_5f594_row11_col5\" class=\"data row11 col5\" >0.1203</td>\n",
       "      <td id=\"T_5f594_row11_col6\" class=\"data row11 col6\" >0.1095</td>\n",
       "      <td id=\"T_5f594_row11_col7\" class=\"data row11 col7\" >0.0080</td>\n",
       "    </tr>\n",
       "    <tr>\n",
       "      <th id=\"T_5f594_level0_row12\" class=\"row_heading level0 row12\" >en</th>\n",
       "      <td id=\"T_5f594_row12_col0\" class=\"data row12 col0\" >Elastic Net</td>\n",
       "      <td id=\"T_5f594_row12_col1\" class=\"data row12 col1\" >0.6525</td>\n",
       "      <td id=\"T_5f594_row12_col2\" class=\"data row12 col2\" >0.6309</td>\n",
       "      <td id=\"T_5f594_row12_col3\" class=\"data row12 col3\" >0.7905</td>\n",
       "      <td id=\"T_5f594_row12_col4\" class=\"data row12 col4\" >0.0009</td>\n",
       "      <td id=\"T_5f594_row12_col5\" class=\"data row12 col5\" >0.1211</td>\n",
       "      <td id=\"T_5f594_row12_col6\" class=\"data row12 col6\" >0.1203</td>\n",
       "      <td id=\"T_5f594_row12_col7\" class=\"data row12 col7\" >0.0070</td>\n",
       "    </tr>\n",
       "    <tr>\n",
       "      <th id=\"T_5f594_level0_row13\" class=\"row_heading level0 row13\" >lasso</th>\n",
       "      <td id=\"T_5f594_row13_col0\" class=\"data row13 col0\" >Lasso Regression</td>\n",
       "      <td id=\"T_5f594_row13_col1\" class=\"data row13 col1\" >0.6561</td>\n",
       "      <td id=\"T_5f594_row13_col2\" class=\"data row13 col2\" >0.6314</td>\n",
       "      <td id=\"T_5f594_row13_col3\" class=\"data row13 col3\" >0.7909</td>\n",
       "      <td id=\"T_5f594_row13_col4\" class=\"data row13 col4\" >-0.0003</td>\n",
       "      <td id=\"T_5f594_row13_col5\" class=\"data row13 col5\" >0.1212</td>\n",
       "      <td id=\"T_5f594_row13_col6\" class=\"data row13 col6\" >0.1209</td>\n",
       "      <td id=\"T_5f594_row13_col7\" class=\"data row13 col7\" >0.0080</td>\n",
       "    </tr>\n",
       "    <tr>\n",
       "      <th id=\"T_5f594_level0_row14\" class=\"row_heading level0 row14\" >llar</th>\n",
       "      <td id=\"T_5f594_row14_col0\" class=\"data row14 col0\" >Lasso Least Angle Regression</td>\n",
       "      <td id=\"T_5f594_row14_col1\" class=\"data row14 col1\" >0.6814</td>\n",
       "      <td id=\"T_5f594_row14_col2\" class=\"data row14 col2\" >0.6477</td>\n",
       "      <td id=\"T_5f594_row14_col3\" class=\"data row14 col3\" >0.8019</td>\n",
       "      <td id=\"T_5f594_row14_col4\" class=\"data row14 col4\" >-0.0294</td>\n",
       "      <td id=\"T_5f594_row14_col5\" class=\"data row14 col5\" >0.1227</td>\n",
       "      <td id=\"T_5f594_row14_col6\" class=\"data row14 col6\" >0.1253</td>\n",
       "      <td id=\"T_5f594_row14_col7\" class=\"data row14 col7\" >0.0080</td>\n",
       "    </tr>\n",
       "    <tr>\n",
       "      <th id=\"T_5f594_level0_row15\" class=\"row_heading level0 row15\" >dummy</th>\n",
       "      <td id=\"T_5f594_row15_col0\" class=\"data row15 col0\" >Dummy Regressor</td>\n",
       "      <td id=\"T_5f594_row15_col1\" class=\"data row15 col1\" >0.6814</td>\n",
       "      <td id=\"T_5f594_row15_col2\" class=\"data row15 col2\" >0.6477</td>\n",
       "      <td id=\"T_5f594_row15_col3\" class=\"data row15 col3\" >0.8019</td>\n",
       "      <td id=\"T_5f594_row15_col4\" class=\"data row15 col4\" >-0.0294</td>\n",
       "      <td id=\"T_5f594_row15_col5\" class=\"data row15 col5\" >0.1227</td>\n",
       "      <td id=\"T_5f594_row15_col6\" class=\"data row15 col6\" >0.1253</td>\n",
       "      <td id=\"T_5f594_row15_col7\" class=\"data row15 col7\" >0.0040</td>\n",
       "    </tr>\n",
       "    <tr>\n",
       "      <th id=\"T_5f594_level0_row16\" class=\"row_heading level0 row16\" >dt</th>\n",
       "      <td id=\"T_5f594_row16_col0\" class=\"data row16 col0\" >Decision Tree Regressor</td>\n",
       "      <td id=\"T_5f594_row16_col1\" class=\"data row16 col1\" >0.5220</td>\n",
       "      <td id=\"T_5f594_row16_col2\" class=\"data row16 col2\" >0.7134</td>\n",
       "      <td id=\"T_5f594_row16_col3\" class=\"data row16 col3\" >0.8426</td>\n",
       "      <td id=\"T_5f594_row16_col4\" class=\"data row16 col4\" >-0.1551</td>\n",
       "      <td id=\"T_5f594_row16_col5\" class=\"data row16 col5\" >0.1297</td>\n",
       "      <td id=\"T_5f594_row16_col6\" class=\"data row16 col6\" >0.0962</td>\n",
       "      <td id=\"T_5f594_row16_col7\" class=\"data row16 col7\" >0.0080</td>\n",
       "    </tr>\n",
       "    <tr>\n",
       "      <th id=\"T_5f594_level0_row17\" class=\"row_heading level0 row17\" >par</th>\n",
       "      <td id=\"T_5f594_row17_col0\" class=\"data row17 col0\" >Passive Aggressive Regressor</td>\n",
       "      <td id=\"T_5f594_row17_col1\" class=\"data row17 col1\" >0.9326</td>\n",
       "      <td id=\"T_5f594_row17_col2\" class=\"data row17 col2\" >1.3893</td>\n",
       "      <td id=\"T_5f594_row17_col3\" class=\"data row17 col3\" >1.1483</td>\n",
       "      <td id=\"T_5f594_row17_col4\" class=\"data row17 col4\" >-1.2005</td>\n",
       "      <td id=\"T_5f594_row17_col5\" class=\"data row17 col5\" >0.1784</td>\n",
       "      <td id=\"T_5f594_row17_col6\" class=\"data row17 col6\" >0.1743</td>\n",
       "      <td id=\"T_5f594_row17_col7\" class=\"data row17 col7\" >0.0060</td>\n",
       "    </tr>\n",
       "  </tbody>\n",
       "</table>\n"
      ],
      "text/plain": [
       "<pandas.io.formats.style.Styler at 0x7f7376b24c10>"
      ]
     },
     "metadata": {},
     "output_type": "display_data"
    }
   ],
   "source": [
    "# uses cross-validation\n",
    "best_model = compare_models()"
   ]
  },
  {
   "cell_type": "markdown",
   "id": "c6487ee0",
   "metadata": {},
   "source": [
    "### Report the best model"
   ]
  },
  {
   "cell_type": "code",
   "execution_count": 8,
   "id": "e76d4cb1",
   "metadata": {},
   "outputs": [
    {
     "name": "stdout",
     "output_type": "stream",
     "text": [
      "ExtraTreesRegressor(bootstrap=False, ccp_alpha=0.0, criterion='mse',\n",
      "                    max_depth=None, max_features='auto', max_leaf_nodes=None,\n",
      "                    max_samples=None, min_impurity_decrease=0.0,\n",
      "                    min_impurity_split=None, min_samples_leaf=1,\n",
      "                    min_samples_split=2, min_weight_fraction_leaf=0.0,\n",
      "                    n_estimators=100, n_jobs=-1, oob_score=False,\n",
      "                    random_state=7626, verbose=0, warm_start=False)\n"
     ]
    }
   ],
   "source": [
    "print(best_model)"
   ]
  },
  {
   "cell_type": "markdown",
   "id": "fc5267fa",
   "metadata": {},
   "source": [
    "### Evaluate the model using a number of different plots"
   ]
  },
  {
   "cell_type": "code",
   "execution_count": 9,
   "id": "35ef67c0",
   "metadata": {},
   "outputs": [
    {
     "data": {
      "application/vnd.jupyter.widget-view+json": {
       "model_id": "1a3d3be577fc4504a016d13e8771b2b4",
       "version_major": 2,
       "version_minor": 0
      },
      "text/plain": [
       "interactive(children=(ToggleButtons(description='Plot Type:', icons=('',), options=(('Hyperparameters', 'param…"
      ]
     },
     "metadata": {},
     "output_type": "display_data"
    }
   ],
   "source": [
    "# click on the different plot types to exlpore\n",
    "# some plots may not work depending on the data and the model\n",
    "evaluate_model(best_model)"
   ]
  },
  {
   "cell_type": "markdown",
   "id": "23941997",
   "metadata": {},
   "source": [
    "### Make predictions on new data"
   ]
  },
  {
   "cell_type": "code",
   "execution_count": 10,
   "id": "b364c9a7",
   "metadata": {},
   "outputs": [],
   "source": [
    "# data should be a DataFrame without label\n",
    "# predict_model(best_model, new_data)"
   ]
  },
  {
   "cell_type": "markdown",
   "id": "0cd8edb7",
   "metadata": {},
   "source": [
    "### Finalize model"
   ]
  },
  {
   "cell_type": "code",
   "execution_count": 11,
   "id": "a3e56bf8",
   "metadata": {},
   "outputs": [],
   "source": [
    "# trains the model on the entire dataset including the hold-out set\n",
    "# does not change any parameter of the model\n",
    "final_model = finalize_model(best_model)"
   ]
  },
  {
   "cell_type": "markdown",
   "id": "lonely-pacific",
   "metadata": {
    "execution": {
     "iopub.execute_input": "2021-07-02T23:32:10.789097Z",
     "iopub.status.busy": "2021-07-02T23:32:10.788829Z",
     "iopub.status.idle": "2021-07-02T23:32:10.796900Z",
     "shell.execute_reply": "2021-07-02T23:32:10.796358Z",
     "shell.execute_reply.started": "2021-07-02T23:32:10.789033Z"
    },
    "papermill": {},
    "tags": []
   },
   "source": [
    "## Output"
   ]
  },
  {
   "cell_type": "markdown",
   "id": "890f7c86-b7bb-4f5d-9a1b-e492dd9580fd",
   "metadata": {
    "papermill": {},
    "tags": []
   },
   "source": [
    "### Save model as a pickle file"
   ]
  },
  {
   "cell_type": "code",
   "execution_count": 12,
   "id": "9c4e3b7b-6440-4844-8054-265f1aec65eb",
   "metadata": {
    "papermill": {},
    "tags": []
   },
   "outputs": [
    {
     "name": "stdout",
     "output_type": "stream",
     "text": [
      "Transformation Pipeline and Model Successfully Saved\n"
     ]
    },
    {
     "data": {
      "text/plain": [
       "(Pipeline(memory=None,\n",
       "          steps=[('dtypes',\n",
       "                  DataTypes_Auto_infer(categorical_features=[],\n",
       "                                       display_types=True, features_todrop=[],\n",
       "                                       id_columns=[], ml_usecase='regression',\n",
       "                                       numerical_features=[], target='quality',\n",
       "                                       time_features=[])),\n",
       "                 ('imputer',\n",
       "                  Simple_Imputer(categorical_strategy='not_available',\n",
       "                                 fill_value_categorical=None,\n",
       "                                 fill_value_numerical=None,\n",
       "                                 numeric_strategy...\n",
       "                  ExtraTreesRegressor(bootstrap=False, ccp_alpha=0.0,\n",
       "                                      criterion='mse', max_depth=None,\n",
       "                                      max_features='auto', max_leaf_nodes=None,\n",
       "                                      max_samples=None,\n",
       "                                      min_impurity_decrease=0.0,\n",
       "                                      min_impurity_split=None,\n",
       "                                      min_samples_leaf=1, min_samples_split=2,\n",
       "                                      min_weight_fraction_leaf=0.0,\n",
       "                                      n_estimators=100, n_jobs=-1,\n",
       "                                      oob_score=False, random_state=7626,\n",
       "                                      verbose=0, warm_start=False)]],\n",
       "          verbose=False),\n",
       " 'regression_model.pkl')"
      ]
     },
     "execution_count": 12,
     "metadata": {},
     "output_type": "execute_result"
    }
   ],
   "source": [
    "save_model(final_model, 'regression_model')"
   ]
  },
  {
   "cell_type": "markdown",
   "id": "94366d49",
   "metadata": {
    "papermill": {},
    "tags": []
   },
   "source": [
    "### Load saved model from pickle file"
   ]
  },
  {
   "cell_type": "code",
   "execution_count": 13,
   "id": "7cb5fe01",
   "metadata": {},
   "outputs": [
    {
     "name": "stdout",
     "output_type": "stream",
     "text": [
      "Transformation Pipeline and Model Successfully Loaded\n"
     ]
    }
   ],
   "source": [
    "model = load_model('regression_model')"
   ]
  },
  {
   "cell_type": "markdown",
   "id": "e5e13120",
   "metadata": {
    "papermill": {},
    "tags": []
   },
   "source": [
    "### Create Dockerfile for model"
   ]
  },
  {
   "cell_type": "code",
   "execution_count": 14,
   "id": "7622a320",
   "metadata": {
    "papermill": {},
    "tags": []
   },
   "outputs": [
    {
     "name": "stdout",
     "output_type": "stream",
     "text": [
      "Writing requirements.txt\n",
      "Writing Dockerfile\n",
      "Dockerfile and requirements.txt successfully created.\n",
      "To build image you have to run --> !docker image build -f \"Dockerfile\" -t IMAGE_NAME:IMAGE_TAG .\n",
      "        \n"
     ]
    }
   ],
   "source": [
    "# also creates a requirements.txt file for dependencies\n",
    "create_docker('regression_model')"
   ]
  }
 ],
 "metadata": {
  "kernelspec": {
   "display_name": "Python 3",
   "language": "python",
   "name": "python3"
  },
  "language_info": {
   "codemirror_mode": {
    "name": "ipython",
    "version": 3
   },
   "file_extension": ".py",
   "mimetype": "text/x-python",
   "name": "python",
   "nbconvert_exporter": "python",
   "pygments_lexer": "ipython3",
   "version": "3.9.6"
  },
  "papermill": {
   "default_parameters": {},
   "environment_variables": {},
   "parameters": {},
   "version": "2.3.3"
  },
  "widgets": {
   "application/vnd.jupyter.widget-state+json": {
    "state": {},
    "version_major": 2,
    "version_minor": 0
   }
  }
 },
 "nbformat": 4,
 "nbformat_minor": 5
}
