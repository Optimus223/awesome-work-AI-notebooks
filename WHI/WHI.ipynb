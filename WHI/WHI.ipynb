{
 "cells": [
  {
   "cell_type": "markdown",
   "id": "naas-logo",
   "metadata": {
    "papermill": {},
    "tags": [
     "naas"
    ]
   },
   "source": [
    "<img width=\"10%\" alt=\"Naas\" src=\"https://landen.imgix.net/jtci2pxwjczr/assets/5ice39g4.png?w=160\"/>"
   ]
  },
  {
   "cell_type": "markdown",
   "id": "disturbed-technology",
   "metadata": {
    "papermill": {},
    "tags": []
   },
   "source": [
    "# WHI - \n",
    "<a href=\"https://app.naas.ai/user-redirect/naas/downloader?url=https://raw.githubusercontent.com/jupyter-naas/awesome-notebooks/master/WHI/WHI.ipynb\" target=\"_parent\"><img src=\"https://naasai-public.s3.eu-west-3.amazonaws.com/open_in_naas.svg\"/></a>"
   ]
  },
  {
   "cell_type": "markdown",
   "id": "7ec146cb-0ed6-40ea-9568-b6a30a9a0edc",
   "metadata": {
    "papermill": {},
    "tags": []
   },
   "source": [
    "**Tags:** #whi #indicators #opendata #worldsituationroom #analytics"
   ]
  },
  {
   "cell_type": "markdown",
   "id": "naas-author",
   "metadata": {
    "papermill": {},
    "tags": [
     "naas"
    ]
   },
   "source": [
    "**Author:** [Jeremy Ravenel](https://www.linkedin.com/in/ACoAAAJHE7sB5OxuKHuzguZ9L6lfDHqw--cdnJg/)"
   ]
  },
  {
   "cell_type": "markdown",
   "id": "467e92cb-4bd3-4f71-87b1-8d16428b594a",
   "metadata": {
    "papermill": {},
    "tags": []
   },
   "source": [
    "## Input"
   ]
  },
  {
   "cell_type": "markdown",
   "id": "79f67e07-5ebb-437c-bccf-8a22c56811f7",
   "metadata": {
    "papermill": {},
    "tags": []
   },
   "source": [
    "### Import libraries"
   ]
  },
  {
   "cell_type": "code",
   "execution_count": 1,
   "id": "fatty-tomato",
   "metadata": {
    "execution": {
     "iopub.execute_input": "2022-03-04T13:08:23.302967Z",
     "iopub.status.busy": "2022-03-04T13:08:23.302524Z",
     "iopub.status.idle": "2022-03-04T13:08:25.572508Z",
     "shell.execute_reply": "2022-03-04T13:08:25.571669Z",
     "shell.execute_reply.started": "2022-03-04T13:08:23.302896Z"
    },
    "papermill": {},
    "tags": []
   },
   "outputs": [],
   "source": [
    "import pandas as pd\n",
    "import naas\n",
    "import os\n",
    "from PIL import Image, ImageDraw, ImageFont\n",
    "from datetime import date"
   ]
  },
  {
   "cell_type": "markdown",
   "id": "c9de0c21-b37c-4de9-8e95-9215e857d7e3",
   "metadata": {
    "papermill": {},
    "tags": []
   },
   "source": [
    "## Model"
   ]
  },
  {
   "cell_type": "markdown",
   "id": "f52db77a-d18c-4907-9f92-31082d82016c",
   "metadata": {
    "papermill": {},
    "tags": []
   },
   "source": [
    "### Get the name of the files present in output"
   ]
  },
  {
   "cell_type": "code",
   "execution_count": 2,
   "id": "adverse-granny",
   "metadata": {
    "execution": {
     "iopub.execute_input": "2022-03-04T13:08:25.575874Z",
     "iopub.status.busy": "2022-03-04T13:08:25.575702Z",
     "iopub.status.idle": "2022-03-04T13:08:25.601967Z",
     "shell.execute_reply": "2022-03-04T13:08:25.601166Z",
     "shell.execute_reply.started": "2022-03-04T13:08:25.575855Z"
    },
    "papermill": {},
    "tags": []
   },
   "outputs": [],
   "source": [
    "weights = {}\n",
    "for filename in os.listdir('output/'):\n",
    "    if filename != '.ipynb_checkpoints' :\n",
    "        df = pd.read_csv(f'output/{filename}')\n",
    "        weights[df['INDICATOR'].values[0]] = 1"
   ]
  },
  {
   "cell_type": "code",
   "execution_count": 3,
   "id": "connected-annotation",
   "metadata": {
    "execution": {
     "iopub.execute_input": "2022-03-04T13:08:25.603328Z",
     "iopub.status.busy": "2022-03-04T13:08:25.602999Z",
     "iopub.status.idle": "2022-03-04T13:08:25.699554Z",
     "shell.execute_reply": "2022-03-04T13:08:25.698811Z",
     "shell.execute_reply.started": "2022-03-04T13:08:25.603299Z"
    },
    "papermill": {},
    "tags": []
   },
   "outputs": [],
   "source": [
    "weights"
   ]
  },
  {
   "cell_type": "markdown",
   "id": "5741d7a5-1de8-4b5f-8713-81f82d270b8b",
   "metadata": {
    "papermill": {},
    "tags": []
   },
   "source": [
    "### Change the weights of those files"
   ]
  },
  {
   "cell_type": "code",
   "execution_count": 4,
   "id": "ongoing-disabled",
   "metadata": {
    "execution": {
     "iopub.execute_input": "2022-03-04T13:08:25.702074Z",
     "iopub.status.busy": "2022-03-04T13:08:25.701908Z",
     "iopub.status.idle": "2022-03-04T13:08:25.803439Z",
     "shell.execute_reply": "2022-03-04T13:08:25.802875Z",
     "shell.execute_reply.started": "2022-03-04T13:08:25.702056Z"
    },
    "papermill": {},
    "tags": []
   },
   "outputs": [],
   "source": [
    "weights = {'COVID-19 Active Cases': 4, \n",
    "           'Sea Level': 2,\n",
    "           'Delta global temperature': 4,\n",
    "           'Arctic Sea Ice level (million square km)': 2\n",
    "          }"
   ]
  },
  {
   "cell_type": "code",
   "execution_count": 5,
   "id": "selective-class",
   "metadata": {
    "execution": {
     "iopub.execute_input": "2022-03-04T13:08:25.804725Z",
     "iopub.status.busy": "2022-03-04T13:08:25.804362Z",
     "iopub.status.idle": "2022-03-04T13:08:25.907309Z",
     "shell.execute_reply": "2022-03-04T13:08:25.906572Z",
     "shell.execute_reply.started": "2022-03-04T13:08:25.804698Z"
    },
    "papermill": {},
    "tags": []
   },
   "outputs": [],
   "source": [
    "weights"
   ]
  },
  {
   "cell_type": "code",
   "execution_count": 6,
   "id": "naked-painting",
   "metadata": {
    "execution": {
     "iopub.execute_input": "2022-03-04T13:08:25.908550Z",
     "iopub.status.busy": "2022-03-04T13:08:25.908166Z",
     "iopub.status.idle": "2022-03-04T13:08:26.047121Z",
     "shell.execute_reply": "2022-03-04T13:08:26.046545Z",
     "shell.execute_reply.started": "2022-03-04T13:08:25.908520Z"
    },
    "papermill": {},
    "tags": []
   },
   "outputs": [],
   "source": [
    "df = None\n",
    "for filename in os.listdir('output/'):\n",
    "    if filename != '.ipynb_checkpoints' :\n",
    "        if df is not None:\n",
    "            row = pd.read_csv(f'output/{filename}')\n",
    "            ind = row['INDICATOR'].values[0]\n",
    "            row['WEIGHT'] = weights[ind]\n",
    "            df = df.append(row)\n",
    "        else:\n",
    "            df = pd.read_csv(f'output/{filename}')\n",
    "            ind = df['INDICATOR'].values[0]\n",
    "            df['WEIGHT'] = weights[ind]"
   ]
  },
  {
   "cell_type": "markdown",
   "id": "competitive-canon",
   "metadata": {
    "papermill": {},
    "tags": []
   },
   "source": [
    "## Output"
   ]
  },
  {
   "cell_type": "markdown",
   "id": "f579e263-27e0-4445-8df5-e6f7b48352ce",
   "metadata": {
    "papermill": {},
    "tags": []
   },
   "source": [
    "### Weighted Average to create WHI"
   ]
  },
  {
   "cell_type": "code",
   "execution_count": 7,
   "id": "modular-hollow",
   "metadata": {
    "execution": {
     "iopub.execute_input": "2022-03-04T13:08:26.049117Z",
     "iopub.status.busy": "2022-03-04T13:08:26.048678Z",
     "iopub.status.idle": "2022-03-04T13:08:26.196359Z",
     "shell.execute_reply": "2022-03-04T13:08:26.195333Z",
     "shell.execute_reply.started": "2022-03-04T13:08:26.049086Z"
    },
    "papermill": {},
    "tags": []
   },
   "outputs": [],
   "source": [
    "df"
   ]
  },
  {
   "cell_type": "code",
   "execution_count": 8,
   "id": "suitable-watson",
   "metadata": {
    "execution": {
     "iopub.execute_input": "2022-03-04T13:08:26.197694Z",
     "iopub.status.busy": "2022-03-04T13:08:26.197469Z",
     "iopub.status.idle": "2022-03-04T13:08:26.254175Z",
     "shell.execute_reply": "2022-03-04T13:08:26.253594Z",
     "shell.execute_reply.started": "2022-03-04T13:08:26.197666Z"
    },
    "papermill": {},
    "tags": []
   },
   "outputs": [],
   "source": [
    "def whi(df):\n",
    "    return round((df['VALUE']*df['WEIGHT']).sum() / df['WEIGHT'].sum(), 2)\n",
    "def createOutput(value, datetime):\n",
    "    img = Image.open(\"layout.png\")\n",
    "    d = ImageDraw.Draw(img)\n",
    "    \n",
    "    font = ImageFont.truetype('ArchivoBlack-Regular.ttf', 90)\n",
    "    fill = (255,255,255)\n",
    "    \n",
    "    d.text((50,900), \"{indicator}/10, {date}\".format(date=datetime.strftime(\"%d/%m/%Y\"), indicator=value), font=font, fill=fill)\n",
    "\n",
    "    return img"
   ]
  },
  {
   "cell_type": "markdown",
   "id": "0332ed90-ce38-4be0-8452-5f9651e5c2ec",
   "metadata": {
    "papermill": {},
    "tags": []
   },
   "source": [
    "### Display image"
   ]
  },
  {
   "cell_type": "code",
   "execution_count": 9,
   "id": "federal-graph",
   "metadata": {
    "execution": {
     "iopub.execute_input": "2022-03-04T13:08:26.255292Z",
     "iopub.status.busy": "2022-03-04T13:08:26.255073Z",
     "iopub.status.idle": "2022-03-04T13:08:27.013692Z",
     "shell.execute_reply": "2022-03-04T13:08:27.008237Z",
     "shell.execute_reply.started": "2022-03-04T13:08:26.255265Z"
    },
    "papermill": {},
    "tags": []
   },
   "outputs": [],
   "source": [
    "img = createOutput(f'{whi(df)}' , date.today())\n",
    "display(img)"
   ]
  }
 ],
 "metadata": {
  "kernelspec": {
   "display_name": "Python 3",
   "language": "python",
   "name": "python3"
  },
  "language_info": {
   "codemirror_mode": {
    "name": "ipython",
    "version": 3
   },
   "file_extension": ".py",
   "mimetype": "text/x-python",
   "name": "python",
   "nbconvert_exporter": "python",
   "pygments_lexer": "ipython3",
   "version": "3.8.8"
  },
  "papermill": {
   "default_parameters": {},
   "environment_variables": {},
   "parameters": {},
   "version": "2.3.3"
  }
 },
 "nbformat": 4,
 "nbformat_minor": 5
}