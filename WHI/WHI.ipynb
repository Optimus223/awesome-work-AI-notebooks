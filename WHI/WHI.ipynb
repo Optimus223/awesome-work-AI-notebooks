{
 "cells": [
  {
   "cell_type": "markdown",
   "id": "disturbed-technology",
   "metadata": {
    "papermill": {},
    "tags": []
   },
   "source": [
    "# WHI - \n",
    "<a href=\"https://app.naas.ai/user-redirect/naas/downloader?url=https://raw.githubusercontent.com/jupyter-naas/awesome-notebooks/master/WHI/WHI.ipynb\" target=\"_parent\"><img src=\"https://img.shields.io/badge/-Open%20in%20Naas-success?labelColor=000000&logo=data:image/svg+xml;base64,PD94bWwgdmVyc2lvbj0iMS4wIiBlbmNvZGluZz0iVVRGLTgiPz4KPHN2ZyB3aWR0aD0iMTAyNHB4IiBoZWlnaHQ9IjEwMjRweCIgdmlld0JveD0iMCAwIDEwMjQgMTAyNCIgeG1sbnM9Imh0dHA6Ly93d3cudzMub3JnLzIwMDAvc3ZnIiB4bWxuczp4bGluaz0iaHR0cDovL3d3dy53My5vcmcvMTk5OS94bGluayIgdmVyc2lvbj0iMS4xIj4KIDwhLS0gR2VuZXJhdGVkIGJ5IFBpeGVsbWF0b3IgUHJvIDIuMC41IC0tPgogPGRlZnM+CiAgPHRleHQgaWQ9InN0cmluZyIgdHJhbnNmb3JtPSJtYXRyaXgoMS4wIDAuMCAwLjAgMS4wIDIyOC4wIDU0LjUpIiBmb250LWZhbWlseT0iQ29tZm9ydGFhLVJlZ3VsYXIsIENvbWZvcnRhYSIgZm9udC1zaXplPSI4MDAiIHRleHQtZGVjb3JhdGlvbj0ibm9uZSIgZmlsbD0iI2ZmZmZmZiIgeD0iMS4xOTk5OTk5OTk5OTk5ODg2IiB5PSI3MDUuMCI+bjwvdGV4dD4KIDwvZGVmcz4KIDx1c2UgaWQ9Im4iIHhsaW5rOmhyZWY9IiNzdHJpbmciLz4KPC9zdmc+Cg==\"/></a>"
   ]
  },
  {
   "cell_type": "markdown",
   "id": "7ec146cb-0ed6-40ea-9568-b6a30a9a0edc",
   "metadata": {
    "papermill": {},
    "tags": []
   },
   "source": [
    "**Tags:** #whi #indicators #opendata #worldsituationroom"
   ]
  },
  {
   "cell_type": "markdown",
   "id": "467e92cb-4bd3-4f71-87b1-8d16428b594a",
   "metadata": {
    "papermill": {},
    "tags": []
   },
   "source": [
    "## Input"
   ]
  },
  {
   "cell_type": "markdown",
   "id": "79f67e07-5ebb-437c-bccf-8a22c56811f7",
   "metadata": {
    "papermill": {},
    "tags": []
   },
   "source": [
    "### Import libraries"
   ]
  },
  {
   "cell_type": "code",
   "execution_count": null,
   "id": "fatty-tomato",
   "metadata": {
    "papermill": {},
    "tags": []
   },
   "outputs": [],
   "source": [
    "import pandas as pd\n",
    "import naas\n",
    "import os\n",
    "from PIL import Image, ImageDraw, ImageFont\n",
    "from datetime import date"
   ]
  },
  {
   "cell_type": "markdown",
   "id": "c9de0c21-b37c-4de9-8e95-9215e857d7e3",
   "metadata": {
    "papermill": {},
    "tags": []
   },
   "source": [
    "## Model"
   ]
  },
  {
   "cell_type": "markdown",
   "id": "f52db77a-d18c-4907-9f92-31082d82016c",
   "metadata": {
    "papermill": {},
    "tags": []
   },
   "source": [
    "### Get the name of the files present in output"
   ]
  },
  {
   "cell_type": "code",
   "execution_count": null,
   "id": "adverse-granny",
   "metadata": {
    "papermill": {},
    "tags": []
   },
   "outputs": [],
   "source": [
    "weights = {}\n",
    "for filename in os.listdir('output/'):\n",
    "    if filename != '.ipynb_checkpoints' :\n",
    "        df = pd.read_csv(f'output/{filename}')\n",
    "        weights[df['INDICATOR'].values[0]] = 1"
   ]
  },
  {
   "cell_type": "code",
   "execution_count": null,
   "id": "connected-annotation",
   "metadata": {
    "papermill": {},
    "tags": []
   },
   "outputs": [],
   "source": [
    "weights"
   ]
  },
  {
   "cell_type": "markdown",
   "id": "5741d7a5-1de8-4b5f-8713-81f82d270b8b",
   "metadata": {
    "papermill": {},
    "tags": []
   },
   "source": [
    "### Change the weights of those files"
   ]
  },
  {
   "cell_type": "code",
   "execution_count": null,
   "id": "ongoing-disabled",
   "metadata": {
    "papermill": {},
    "tags": []
   },
   "outputs": [],
   "source": [
    "weights = {'COVID-19 Active Cases': 4, \n",
    "           'Sea Level': 2,\n",
    "           'Delta global temperature': 4,\n",
    "           'Arctic Sea Ice level (million square km)': 2\n",
    "          }"
   ]
  },
  {
   "cell_type": "code",
   "execution_count": null,
   "id": "selective-class",
   "metadata": {
    "papermill": {},
    "tags": []
   },
   "outputs": [],
   "source": [
    "weights"
   ]
  },
  {
   "cell_type": "code",
   "execution_count": null,
   "id": "naked-painting",
   "metadata": {
    "papermill": {},
    "tags": []
   },
   "outputs": [],
   "source": [
    "df = None\n",
    "for filename in os.listdir('output/'):\n",
    "    if filename != '.ipynb_checkpoints' :\n",
    "        if df is not None:\n",
    "            row = pd.read_csv(f'output/{filename}')\n",
    "            ind = row['INDICATOR'].values[0]\n",
    "            row['WEIGHT'] = weights[ind]\n",
    "            df = df.append(row)\n",
    "        else:\n",
    "            df = pd.read_csv(f'output/{filename}')\n",
    "            ind = df['INDICATOR'].values[0]\n",
    "            df['WEIGHT'] = weights[ind]"
   ]
  },
  {
   "cell_type": "markdown",
   "id": "competitive-canon",
   "metadata": {
    "papermill": {},
    "tags": []
   },
   "source": [
    "## Output"
   ]
  },
  {
   "cell_type": "markdown",
   "id": "f579e263-27e0-4445-8df5-e6f7b48352ce",
   "metadata": {
    "papermill": {},
    "tags": []
   },
   "source": [
    "### Weighted Average to create WHI"
   ]
  },
  {
   "cell_type": "code",
   "execution_count": null,
   "id": "modular-hollow",
   "metadata": {
    "papermill": {},
    "tags": []
   },
   "outputs": [],
   "source": [
    "df"
   ]
  },
  {
   "cell_type": "code",
   "execution_count": null,
   "id": "suitable-watson",
   "metadata": {
    "papermill": {},
    "tags": []
   },
   "outputs": [],
   "source": [
    "def whi(df):\n",
    "    return round((df['VALUE']*df['WEIGHT']).sum() / df['WEIGHT'].sum(), 2)\n",
    "def createOutput(value, datetime):\n",
    "    img = Image.open(\"layout.png\")\n",
    "    d = ImageDraw.Draw(img)\n",
    "    \n",
    "    font = ImageFont.truetype('ArchivoBlack-Regular.ttf', 90)\n",
    "    fill = (255,255,255)\n",
    "    \n",
    "    d.text((50,900), \"{indicator}/10, {date}\".format(date=datetime.strftime(\"%d/%m/%Y\"), indicator=value), font=font, fill=fill)\n",
    "\n",
    "    return img"
   ]
  },
  {
   "cell_type": "markdown",
   "id": "0332ed90-ce38-4be0-8452-5f9651e5c2ec",
   "metadata": {
    "papermill": {},
    "tags": []
   },
   "source": [
    "### Display image"
   ]
  },
  {
   "cell_type": "code",
   "execution_count": null,
   "id": "federal-graph",
   "metadata": {
    "papermill": {},
    "tags": []
   },
   "outputs": [],
   "source": [
    "img = createOutput(f'{whi(df)}' , date.today())\n",
    "display(img)"
   ]
  }
 ],
 "metadata": {
  "kernelspec": {
   "display_name": "Python 3",
   "language": "python",
   "name": "python3"
  },
  "language_info": {
   "codemirror_mode": {
    "name": "ipython",
    "version": 3
   },
   "file_extension": ".py",
   "mimetype": "text/x-python",
   "name": "python",
   "nbconvert_exporter": "python",
   "pygments_lexer": "ipython3",
   "version": "3.8.8"
  },
  "papermill": {
   "default_parameters": {},
   "environment_variables": {},
   "parameters": {},
   "version": "2.3.3"
  }
 },
 "nbformat": 4,
 "nbformat_minor": 5
}