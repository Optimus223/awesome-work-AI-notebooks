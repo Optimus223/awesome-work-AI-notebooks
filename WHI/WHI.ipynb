{
 "cells": [
  {
   "cell_type": "markdown",
   "id": "naas-logo",
   "metadata": {
    "papermill": {},
    "tags": [
     "naas"
    ]
   },
   "source": [
    "<img width=\"10%\" alt=\"Naas\" src=\"https://landen.imgix.net/jtci2pxwjczr/assets/5ice39g4.png?w=160\"/>"
   ]
  },
  {
   "cell_type": "markdown",
   "id": "disturbed-technology",
   "metadata": {
    "papermill": {},
    "tags": []
   },
   "source": [
    "# WHI - \n",
    "<a href=\"https://app.naas.ai/user-redirect/naas/downloader?url=https://raw.githubusercontent.com/jupyter-naas/awesome-notebooks/master/WHI/WHI.ipynb\" target=\"_parent\"><img src=\"https://naasai-public.s3.eu-west-3.amazonaws.com/open_in_naas.svg\"/></a>"
   ]
  },
  {
   "cell_type": "markdown",
   "id": "7ec146cb-0ed6-40ea-9568-b6a30a9a0edc",
   "metadata": {
    "papermill": {},
    "tags": []
   },
   "source": [
    "**Tags:** #whi #indicators #opendata #worldsituationroom"
   ]
  },
  {
   "cell_type": "markdown",
   "id": "naas-author",
   "metadata": {
    "papermill": {},
    "tags": [
     "naas"
    ]
   },
   "source": [
    "**Author:** [Unknown](https://www.linkedin.com/company/naas-ai/)"
   ]
  },
  {
   "cell_type": "markdown",
   "id": "467e92cb-4bd3-4f71-87b1-8d16428b594a",
   "metadata": {
    "papermill": {},
    "tags": []
   },
   "source": [
    "## Input"
   ]
  },
  {
   "cell_type": "markdown",
   "id": "79f67e07-5ebb-437c-bccf-8a22c56811f7",
   "metadata": {
    "papermill": {},
    "tags": []
   },
   "source": [
    "### Import libraries"
   ]
  },
  {
   "cell_type": "code",
   "execution_count": null,
   "id": "fatty-tomato",
   "metadata": {
    "papermill": {},
    "tags": []
   },
   "outputs": [],
   "source": [
    "import pandas as pd\n",
    "import naas\n",
    "import os\n",
    "from PIL import Image, ImageDraw, ImageFont\n",
    "from datetime import date"
   ]
  },
  {
   "cell_type": "markdown",
   "id": "c9de0c21-b37c-4de9-8e95-9215e857d7e3",
   "metadata": {
    "papermill": {},
    "tags": []
   },
   "source": [
    "## Model"
   ]
  },
  {
   "cell_type": "markdown",
   "id": "f52db77a-d18c-4907-9f92-31082d82016c",
   "metadata": {
    "papermill": {},
    "tags": []
   },
   "source": [
    "### Get the name of the files present in output"
   ]
  },
  {
   "cell_type": "code",
   "execution_count": null,
   "id": "adverse-granny",
   "metadata": {
    "papermill": {},
    "tags": []
   },
   "outputs": [],
   "source": [
    "weights = {}\n",
    "for filename in os.listdir('output/'):\n",
    "    if filename != '.ipynb_checkpoints' :\n",
    "        df = pd.read_csv(f'output/{filename}')\n",
    "        weights[df['INDICATOR'].values[0]] = 1"
   ]
  },
  {
   "cell_type": "code",
   "execution_count": null,
   "id": "connected-annotation",
   "metadata": {
    "papermill": {},
    "tags": []
   },
   "outputs": [],
   "source": [
    "weights"
   ]
  },
  {
   "cell_type": "markdown",
   "id": "5741d7a5-1de8-4b5f-8713-81f82d270b8b",
   "metadata": {
    "papermill": {},
    "tags": []
   },
   "source": [
    "### Change the weights of those files"
   ]
  },
  {
   "cell_type": "code",
   "execution_count": null,
   "id": "ongoing-disabled",
   "metadata": {
    "papermill": {},
    "tags": []
   },
   "outputs": [],
   "source": [
    "weights = {'COVID-19 Active Cases': 4, \n",
    "           'Sea Level': 2,\n",
    "           'Delta global temperature': 4,\n",
    "           'Arctic Sea Ice level (million square km)': 2\n",
    "          }"
   ]
  },
  {
   "cell_type": "code",
   "execution_count": null,
   "id": "selective-class",
   "metadata": {
    "papermill": {},
    "tags": []
   },
   "outputs": [],
   "source": [
    "weights"
   ]
  },
  {
   "cell_type": "code",
   "execution_count": null,
   "id": "naked-painting",
   "metadata": {
    "papermill": {},
    "tags": []
   },
   "outputs": [],
   "source": [
    "df = None\n",
    "for filename in os.listdir('output/'):\n",
    "    if filename != '.ipynb_checkpoints' :\n",
    "        if df is not None:\n",
    "            row = pd.read_csv(f'output/{filename}')\n",
    "            ind = row['INDICATOR'].values[0]\n",
    "            row['WEIGHT'] = weights[ind]\n",
    "            df = df.append(row)\n",
    "        else:\n",
    "            df = pd.read_csv(f'output/{filename}')\n",
    "            ind = df['INDICATOR'].values[0]\n",
    "            df['WEIGHT'] = weights[ind]"
   ]
  },
  {
   "cell_type": "markdown",
   "id": "competitive-canon",
   "metadata": {
    "papermill": {},
    "tags": []
   },
   "source": [
    "## Output"
   ]
  },
  {
   "cell_type": "markdown",
   "id": "f579e263-27e0-4445-8df5-e6f7b48352ce",
   "metadata": {
    "papermill": {},
    "tags": []
   },
   "source": [
    "### Weighted Average to create WHI"
   ]
  },
  {
   "cell_type": "code",
   "execution_count": null,
   "id": "modular-hollow",
   "metadata": {
    "papermill": {},
    "tags": []
   },
   "outputs": [],
   "source": [
    "df"
   ]
  },
  {
   "cell_type": "code",
   "execution_count": null,
   "id": "suitable-watson",
   "metadata": {
    "papermill": {},
    "tags": []
   },
   "outputs": [],
   "source": [
    "def whi(df):\n",
    "    return round((df['VALUE']*df['WEIGHT']).sum() / df['WEIGHT'].sum(), 2)\n",
    "def createOutput(value, datetime):\n",
    "    img = Image.open(\"layout.png\")\n",
    "    d = ImageDraw.Draw(img)\n",
    "    \n",
    "    font = ImageFont.truetype('ArchivoBlack-Regular.ttf', 90)\n",
    "    fill = (255,255,255)\n",
    "    \n",
    "    d.text((50,900), \"{indicator}/10, {date}\".format(date=datetime.strftime(\"%d/%m/%Y\"), indicator=value), font=font, fill=fill)\n",
    "\n",
    "    return img"
   ]
  },
  {
   "cell_type": "markdown",
   "id": "0332ed90-ce38-4be0-8452-5f9651e5c2ec",
   "metadata": {
    "papermill": {},
    "tags": []
   },
   "source": [
    "### Display image"
   ]
  },
  {
   "cell_type": "code",
   "execution_count": null,
   "id": "federal-graph",
   "metadata": {
    "papermill": {},
    "tags": []
   },
   "outputs": [],
   "source": [
    "img = createOutput(f'{whi(df)}' , date.today())\n",
    "display(img)"
   ]
  }
 ],
 "metadata": {
  "kernelspec": {
   "display_name": "Python 3",
   "language": "python",
   "name": "python3"
  },
  "language_info": {
   "codemirror_mode": {
    "name": "ipython",
    "version": 3
   },
   "file_extension": ".py",
   "mimetype": "text/x-python",
   "name": "python",
   "nbconvert_exporter": "python",
   "pygments_lexer": "ipython3",
   "version": "3.8.8"
  },
  "papermill": {
   "default_parameters": {},
   "environment_variables": {},
   "parameters": {},
   "version": "2.3.3"
  }
 },
 "nbformat": 4,
 "nbformat_minor": 5
}