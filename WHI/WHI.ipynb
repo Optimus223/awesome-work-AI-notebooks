{
 "cells": [
  {
   "cell_type": "code",
   "execution_count": 4,
   "id": "equivalent-collective",
   "metadata": {
    "execution": {
     "iopub.execute_input": "2021-05-28T14:27:49.766404Z",
     "iopub.status.busy": "2021-05-28T14:27:49.766095Z",
     "iopub.status.idle": "2021-05-28T14:27:50.680014Z",
     "shell.execute_reply": "2021-05-28T14:27:50.679365Z",
     "shell.execute_reply.started": "2021-05-28T14:27:49.766368Z"
    },
    "tags": []
   },
   "outputs": [],
   "source": [
    "import pandas as pd\n",
    "import naas"
   ]
  },
  {
   "cell_type": "code",
   "execution_count": 2,
   "id": "immune-medicine",
   "metadata": {
    "execution": {
     "iopub.execute_input": "2021-05-28T14:27:23.054076Z",
     "iopub.status.busy": "2021-05-28T14:27:23.053778Z",
     "iopub.status.idle": "2021-05-28T14:27:23.069975Z",
     "shell.execute_reply": "2021-05-28T14:27:23.069340Z",
     "shell.execute_reply.started": "2021-05-28T14:27:23.054042Z"
    }
   },
   "outputs": [],
   "source": [
    "sealevel = naas.assets.get('')"
   ]
  },
  {
   "cell_type": "code",
   "execution_count": 3,
   "id": "disciplinary-combine",
   "metadata": {
    "execution": {
     "iopub.execute_input": "2021-05-28T14:27:26.202836Z",
     "iopub.status.busy": "2021-05-28T14:27:26.202523Z",
     "iopub.status.idle": "2021-05-28T14:27:26.270219Z",
     "shell.execute_reply": "2021-05-28T14:27:26.269398Z",
     "shell.execute_reply.started": "2021-05-28T14:27:26.202799Z"
    }
   },
   "outputs": [
    {
     "data": {
      "text/html": [
       "<div>\n",
       "<style scoped>\n",
       "    .dataframe tbody tr th:only-of-type {\n",
       "        vertical-align: middle;\n",
       "    }\n",
       "\n",
       "    .dataframe tbody tr th {\n",
       "        vertical-align: top;\n",
       "    }\n",
       "\n",
       "    .dataframe thead th {\n",
       "        text-align: right;\n",
       "    }\n",
       "</style>\n",
       "<table border=\"1\" class=\"dataframe\">\n",
       "  <thead>\n",
       "    <tr style=\"text-align: right;\">\n",
       "      <th></th>\n",
       "      <th>Unnamed: 0</th>\n",
       "      <th>DATE_PROCESSED</th>\n",
       "      <th>INDICATOR</th>\n",
       "      <th>VALUE</th>\n",
       "    </tr>\n",
       "  </thead>\n",
       "  <tbody>\n",
       "    <tr>\n",
       "      <th>0</th>\n",
       "      <td>0</td>\n",
       "      <td>2021-05-27</td>\n",
       "      <td>Sea Level</td>\n",
       "      <td>4.951165</td>\n",
       "    </tr>\n",
       "  </tbody>\n",
       "</table>\n",
       "</div>"
      ],
      "text/plain": [
       "   Unnamed: 0 DATE_PROCESSED  INDICATOR     VALUE\n",
       "0           0     2021-05-27  Sea Level  4.951165"
      ]
     },
     "execution_count": 3,
     "metadata": {},
     "output_type": "execute_result"
    }
   ],
   "source": [
    "sealevel"
   ]
  },
  {
   "cell_type": "code",
   "execution_count": null,
   "id": "human-beauty",
   "metadata": {},
   "outputs": [],
   "source": []
  }
 ],
 "metadata": {
  "kernelspec": {
   "display_name": "Python 3",
   "language": "python",
   "name": "python3"
  },
  "language_info": {
   "codemirror_mode": {
    "name": "ipython",
    "version": 3
   },
   "file_extension": ".py",
   "mimetype": "text/x-python",
   "name": "python",
   "nbconvert_exporter": "python",
   "pygments_lexer": "ipython3",
   "version": "3.8.8"
  }
 },
 "nbformat": 4,
 "nbformat_minor": 5
}
