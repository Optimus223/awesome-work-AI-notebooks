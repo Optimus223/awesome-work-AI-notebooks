{
 "cells": [
  {
   "cell_type": "markdown",
   "id": "cloudy-jackson",
   "metadata": {
    "papermill": {},
    "tags": []
   },
   "source": [
    "# indicators - NASA Global temperature\n",
    "<a href=\"https://app.naas.ai/user-redirect/naas/downloader?url=https://raw.githubusercontent.com/jupyter-naas/awesome-notebooks/master/WHI/indicators/NASA_Global_temperature.ipynb\" target=\"_parent\"><img src=\"https://img.shields.io/badge/-Open%20in%20Naas-success?labelColor=000000&logo=data:image/svg+xml;base64,PD94bWwgdmVyc2lvbj0iMS4wIiBlbmNvZGluZz0iVVRGLTgiPz4KPHN2ZyB3aWR0aD0iMTAyNHB4IiBoZWlnaHQ9IjEwMjRweCIgdmlld0JveD0iMCAwIDEwMjQgMTAyNCIgeG1sbnM9Imh0dHA6Ly93d3cudzMub3JnLzIwMDAvc3ZnIiB4bWxuczp4bGluaz0iaHR0cDovL3d3dy53My5vcmcvMTk5OS94bGluayIgdmVyc2lvbj0iMS4xIj4KIDwhLS0gR2VuZXJhdGVkIGJ5IFBpeGVsbWF0b3IgUHJvIDIuMC41IC0tPgogPGRlZnM+CiAgPHRleHQgaWQ9InN0cmluZyIgdHJhbnNmb3JtPSJtYXRyaXgoMS4wIDAuMCAwLjAgMS4wIDIyOC4wIDU0LjUpIiBmb250LWZhbWlseT0iQ29tZm9ydGFhLVJlZ3VsYXIsIENvbWZvcnRhYSIgZm9udC1zaXplPSI4MDAiIHRleHQtZGVjb3JhdGlvbj0ibm9uZSIgZmlsbD0iI2ZmZmZmZiIgeD0iMS4xOTk5OTk5OTk5OTk5ODg2IiB5PSI3MDUuMCI+bjwvdGV4dD4KIDwvZGVmcz4KIDx1c2UgaWQ9Im4iIHhsaW5rOmhyZWY9IiNzdHJpbmciLz4KPC9zdmc+Cg==\"/></a>"
   ]
  },
  {
   "cell_type": "markdown",
   "id": "cf899194-e86d-42f0-8c8b-e884db9625fe",
   "metadata": {},
   "source": [
    "**Tags:** #indicators #opendata #worldsituationroom"
   ]
  },
  {
   "cell_type": "markdown",
   "id": "consolidated-corner",
   "metadata": {
    "papermill": {},
    "tags": []
   },
   "source": [
    "This graph illustrates the change in global surface temperature relative to 1951-1980 average temperatures. Nineteen of the warmest years have occurred since 2000, with the exception of 1998. The year 2020 tied with 2016 for the warmest year on record since record-keeping began in 1880 (source: NASA/GISS). This research is broadly consistent with similar constructions prepared by the Climatic Research Unit and the National Oceanic and Atmospheric Administration.\n",
    "\n",
    "The time series below shows the five-year average variation of global surface temperatures. Dark blue indicates areas cooler than average. Dark red indicates areas warmer than average.\n",
    "\n",
    "The “Global Temperature” figure on the home page dashboard shows global temperature change since 1880. One gets this number by subtracting the first data point in the chart from the latest data point.\n",
    "\n",
    "Website : https://climate.nasa.gov/vital-signs/global-temperature/"
   ]
  },
  {
   "cell_type": "markdown",
   "id": "specified-subscription",
   "metadata": {
    "execution": {
     "iopub.execute_input": "2021-05-17T12:26:03.066131Z",
     "iopub.status.busy": "2021-05-17T12:26:03.065891Z",
     "iopub.status.idle": "2021-05-17T12:26:03.076608Z",
     "shell.execute_reply": "2021-05-17T12:26:03.075716Z",
     "shell.execute_reply.started": "2021-05-17T12:26:03.066108Z"
    },
    "papermill": {},
    "tags": []
   },
   "source": [
    "Data source: NASA's Goddard Institute for Space Studies (GISS). \n",
    "\n",
    "Credit: NASA/GISS"
   ]
  },
  {
   "cell_type": "markdown",
   "id": "played-virginia",
   "metadata": {
    "execution": {
     "iopub.execute_input": "2021-05-17T07:53:04.796112Z",
     "iopub.status.busy": "2021-05-17T07:53:04.795875Z",
     "iopub.status.idle": "2021-05-17T07:53:04.799082Z",
     "shell.execute_reply": "2021-05-17T07:53:04.798423Z",
     "shell.execute_reply.started": "2021-05-17T07:53:04.796089Z"
    },
    "papermill": {},
    "tags": []
   },
   "source": [
    "## Input"
   ]
  },
  {
   "cell_type": "markdown",
   "id": "medical-jersey",
   "metadata": {
    "papermill": {},
    "tags": []
   },
   "source": [
    "Data source : https://data.giss.nasa.gov/gistemp/graphs/graph_data/Global_Mean_Estimates_based_on_Land_and_Ocean_Data/graph.txt"
   ]
  },
  {
   "cell_type": "markdown",
   "id": "import_cell",
   "metadata": {
    "papermill": {},
    "tags": []
   },
   "source": [
    "### Import library"
   ]
  },
  {
   "cell_type": "code",
   "execution_count": 3,
   "id": "executed-reproduction",
   "metadata": {
    "execution": {
     "iopub.execute_input": "2021-06-10T09:50:25.545974Z",
     "iopub.status.busy": "2021-06-10T09:50:25.545669Z",
     "iopub.status.idle": "2021-06-10T09:50:25.849292Z",
     "shell.execute_reply": "2021-06-10T09:50:25.848722Z",
     "shell.execute_reply.started": "2021-06-10T09:50:25.545940Z"
    },
    "papermill": {},
    "tags": []
   },
   "outputs": [],
   "source": [
    "import pandas\n",
    "import plotly.graph_objects as go"
   ]
  },
  {
   "cell_type": "markdown",
   "id": "0b44ffe1-2647-4738-8ec9-eb06b1ffd149",
   "metadata": {},
   "source": [
    "### Variables"
   ]
  },
  {
   "cell_type": "code",
   "execution_count": null,
   "id": "84529fad-28af-4c8a-968f-18a5e84c3b4a",
   "metadata": {},
   "outputs": [],
   "source": [
    "url_nasa_termperatures = \"https://data.giss.nasa.gov/gistemp/graphs/graph_data/Global_Mean_Estimates_based_on_Land_and_Ocean_Data/graph.txt\""
   ]
  },
  {
   "cell_type": "markdown",
   "id": "employed-distinction",
   "metadata": {
    "papermill": {},
    "tags": []
   },
   "source": [
    "## Model"
   ]
  },
  {
   "cell_type": "markdown",
   "id": "8b43f59b-68e8-4cb1-94ec-43e47029ae9e",
   "metadata": {},
   "source": [
    "### Read the csv for the output"
   ]
  },
  {
   "cell_type": "code",
   "execution_count": 4,
   "id": "attractive-handling",
   "metadata": {
    "execution": {
     "iopub.execute_input": "2021-06-10T09:50:34.089457Z",
     "iopub.status.busy": "2021-06-10T09:50:34.089218Z",
     "iopub.status.idle": "2021-06-10T09:50:34.802024Z",
     "shell.execute_reply": "2021-06-10T09:50:34.801373Z",
     "shell.execute_reply.started": "2021-06-10T09:50:34.089430Z"
    },
    "papermill": {},
    "tags": []
   },
   "outputs": [],
   "source": [
    "df = pandas.read_csv(url_nasa_termperatures, sep=r'     ', skiprows=5, names=[\"Year\", \"Delta\", \"Detla (Smoothed)\"], engine=\"python\")\n",
    "\n",
    "df.tail(10)"
   ]
  },
  {
   "cell_type": "markdown",
   "id": "decimal-valuation",
   "metadata": {
    "execution": {
     "iopub.execute_input": "2021-05-17T07:58:53.181873Z",
     "iopub.status.busy": "2021-05-17T07:58:53.181577Z",
     "iopub.status.idle": "2021-05-17T07:58:53.191194Z",
     "shell.execute_reply": "2021-05-17T07:58:53.190323Z",
     "shell.execute_reply.started": "2021-05-17T07:58:53.181843Z"
    },
    "papermill": {},
    "tags": []
   },
   "source": [
    "Here we can see the evolution of the average surface temperature anomaly from the last 10 years. <br>"
   ]
  },
  {
   "cell_type": "markdown",
   "id": "involved-petite",
   "metadata": {
    "execution": {
     "iopub.execute_input": "2021-05-17T07:58:58.473916Z",
     "iopub.status.busy": "2021-05-17T07:58:58.473617Z",
     "iopub.status.idle": "2021-05-17T07:58:58.516631Z",
     "shell.execute_reply": "2021-05-17T07:58:58.515572Z",
     "shell.execute_reply.started": "2021-05-17T07:58:58.473885Z"
    },
    "papermill": {},
    "tags": []
   },
   "source": [
    "Now lets visualize this information with a graph using plotly."
   ]
  },
  {
   "cell_type": "markdown",
   "id": "small-spencer",
   "metadata": {
    "papermill": {},
    "tags": []
   },
   "source": [
    "## Output"
   ]
  },
  {
   "cell_type": "markdown",
   "id": "later-combination",
   "metadata": {
    "papermill": {},
    "tags": []
   },
   "source": [
    "### Land-Ocean Temperature Index - Visualization"
   ]
  },
  {
   "cell_type": "code",
   "execution_count": 5,
   "id": "sapphire-money",
   "metadata": {
    "execution": {
     "iopub.execute_input": "2021-06-10T09:50:36.379196Z",
     "iopub.status.busy": "2021-06-10T09:50:36.378969Z",
     "iopub.status.idle": "2021-06-10T09:50:36.639073Z",
     "shell.execute_reply": "2021-06-10T09:50:36.638417Z",
     "shell.execute_reply.started": "2021-06-10T09:50:36.379173Z"
    },
    "papermill": {},
    "tags": []
   },
   "outputs": [],
   "source": [
    "fig = go.Figure(layout_title=\"<b>Land-Ocean Temperature Index (°C)</b>\")\n",
    "fig.add_trace(go.Scatter(\n",
    "    x = df[\"Year\"],\n",
    "    y = df[\"Delta\"],\n",
    "    name=\"Delta\",\n",
    "))\n",
    "\n",
    "fig.add_trace(go.Scatter(\n",
    "    x = df[\"Year\"],\n",
    "    y = df[\"Detla (Smoothed)\"],\n",
    "    name=\"Delta (Smoothed)\", \n",
    "))\n",
    "\n",
    "fig.update_layout(\n",
    "    autosize=False,\n",
    "    width=1300,\n",
    "    height=700,\n",
    "    plot_bgcolor='rgb(250,250,250)',\n",
    "    xaxis = dict(\n",
    "    tickmode = 'linear',\n",
    "    tick0 = 2,\n",
    "    dtick = 5,\n",
    "    ),\n",
    ")\n",
    "fig.update_yaxes(title_text=\"Temperature anomaly (°C)\")\n",
    "fig.update_xaxes(title_text=\"Year\", tickangle=60)\n",
    "fig.add_hline(y=0.0)\n",
    "# To add maximum Temperature Delta line : uncomment the following line\n",
    "# fig.add_hline(y=2.0)\n",
    "fig.update_layout(title_x=0.5)\n",
    "\n",
    "fig.show()"
   ]
  },
  {
   "cell_type": "markdown",
   "id": "joined-words",
   "metadata": {
    "papermill": {},
    "tags": []
   },
   "source": [
    "According to the Paris Agreement, the delta **should not be higher than 2**. As you can see here on the graph, it increasing quickly with the years specially since 1950."
   ]
  },
  {
   "cell_type": "markdown",
   "id": "narrative-treasure",
   "metadata": {
    "papermill": {},
    "tags": []
   },
   "source": [
    "### Land-Ocean Temperature Index - Visualization with Industrial Revolution Dates"
   ]
  },
  {
   "cell_type": "markdown",
   "id": "complex-mainland",
   "metadata": {
    "papermill": {},
    "tags": []
   },
   "source": [
    "We can now add the dates of the three last Industrial Revolutions :\n",
    "\n",
    "    - Second 1910 : gaz and petrol\n",
    "    - Third 1970 : internet\n",
    "    - Forth 2000 : AI"
   ]
  },
  {
   "cell_type": "code",
   "execution_count": 6,
   "id": "present-table",
   "metadata": {
    "execution": {
     "iopub.execute_input": "2021-06-10T09:50:39.406705Z",
     "iopub.status.busy": "2021-06-10T09:50:39.406418Z",
     "iopub.status.idle": "2021-06-10T09:50:39.466144Z",
     "shell.execute_reply": "2021-06-10T09:50:39.465493Z",
     "shell.execute_reply.started": "2021-06-10T09:50:39.406678Z"
    },
    "papermill": {},
    "tags": []
   },
   "outputs": [],
   "source": [
    "fig.add_vrect(x0=\"1910\", x1=\"1911\", annotation_text=\"2nd IR <br> 1910\", annotation_position=\"top left\",\n",
    "annotation=dict(font_size=20, font_family=\"Times New Roman\"),\n",
    "fillcolor=\"black\", opacity=0.45, line_width=0)\n",
    "\n",
    "fig.add_vrect(x0=\"1970\", x1=\"1971\", annotation_text=\"3rd IR <br> 1970\", annotation_position=\"top left\",\n",
    "annotation=dict(font_size=20, font_family=\"Times New Roman\"),\n",
    "fillcolor=\"yellow\", opacity=0.45, line_width=0)\n",
    "\n",
    "fig.add_vrect(x0=\"2000\", x1=\"2001\", annotation_text=\"4th IR <br> 2000\", annotation_position=\"top left\",\n",
    "annotation=dict(font_size=20, font_family=\"Times New Roman\"),\n",
    "fillcolor=\"green\", opacity=0.45, line_width=0)\n",
    "\n",
    "fig.update_layout(title_x=0.5, title_text=\"<b>Land-Ocean Temperature Index (°C)</b> <br> Focused on Industrial Revolution Dates (IR)\")\n",
    "\n",
    "fig.show()"
   ]
  },
  {
   "cell_type": "markdown",
   "id": "subjective-harvard",
   "metadata": {
    "papermill": {},
    "tags": []
   },
   "source": [
    "## World Health Indicator (WHI)\n",
    "Using a scale of 0 - 10\n",
    "(where 0 is the worst and 10 is the best)\n",
    " \n",
    "$$\\begin{equation*}\n",
    "WHI = 10 - 10 \\times \\frac{Current(Absolute)}{2}\n",
    "\\end{equation*}$$\n",
    "\n",
    "Following the Paris Agreement, the delta needs to stay under 2°C. That's why we will calculate our indicator following this information.\n",
    "We discussed that -2°C would be a good limit to take into consideration as well because if the earths temperature gets too cold, everything could go bad as well. \n",
    "\n",
    "That's why, to take into consideration negative deltas, we used the absolute value of the temperature delta."
   ]
  },
  {
   "cell_type": "code",
   "execution_count": 26,
   "id": "induced-employment",
   "metadata": {
    "execution": {
     "iopub.execute_input": "2021-06-10T10:06:29.151923Z",
     "iopub.status.busy": "2021-06-10T10:06:29.151611Z",
     "iopub.status.idle": "2021-06-10T10:06:29.185502Z",
     "shell.execute_reply": "2021-06-10T10:06:29.184788Z",
     "shell.execute_reply.started": "2021-06-10T10:06:29.151888Z"
    },
    "papermill": {},
    "tags": []
   },
   "outputs": [],
   "source": [
    "current = df[\"Delta\"].iloc[-1]\n",
    "WHI = (10 - (10*(abs(current)/2)))\n",
    "\n",
    "print(f\"World Health Indicator (Raw values): {round(WHI, 2)}\")\n",
    "WHI_data = pandas.DataFrame.from_dict({\"DATE_PROCESSED\": pandas.to_datetime(\"today\").date(), \"INDICATOR\": \"Delta global temperature\", \"VALUE\": [round(WHI, 2)]})\n",
    "WHI_data"
   ]
  },
  {
   "cell_type": "code",
   "execution_count": 12,
   "id": "harmful-presentation",
   "metadata": {
    "execution": {
     "iopub.execute_input": "2021-06-10T09:56:29.773005Z",
     "iopub.status.busy": "2021-06-10T09:56:29.772751Z",
     "iopub.status.idle": "2021-06-10T09:56:30.716188Z",
     "shell.execute_reply": "2021-06-10T09:56:30.715636Z",
     "shell.execute_reply.started": "2021-06-10T09:56:29.772974Z"
    },
    "papermill": {},
    "tags": []
   },
   "outputs": [],
   "source": [
    "import naas"
   ]
  },
  {
   "cell_type": "code",
   "execution_count": 13,
   "id": "rational-wrapping",
   "metadata": {
    "execution": {
     "iopub.execute_input": "2021-06-10T09:56:31.954975Z",
     "iopub.status.busy": "2021-06-10T09:56:31.954746Z",
     "iopub.status.idle": "2021-06-10T09:56:31.980072Z",
     "shell.execute_reply": "2021-06-10T09:56:31.979538Z",
     "shell.execute_reply.started": "2021-06-10T09:56:31.954951Z"
    },
    "papermill": {},
    "tags": []
   },
   "outputs": [],
   "source": [
    "path = '../output/Global_temperature_whi.csv'\n",
    "WHI_data.to_csv(path)"
   ]
  },
  {
   "cell_type": "code",
   "execution_count": 21,
   "id": "minute-hello",
   "metadata": {
    "execution": {
     "iopub.execute_input": "2021-06-10T09:59:05.200085Z",
     "iopub.status.busy": "2021-06-10T09:59:05.199784Z",
     "iopub.status.idle": "2021-06-10T09:59:05.381831Z",
     "shell.execute_reply": "2021-06-10T09:59:05.380805Z",
     "shell.execute_reply.started": "2021-06-10T09:59:05.200053Z"
    },
    "papermill": {},
    "tags": []
   },
   "outputs": [],
   "source": [
    "naas.asset.add(path)"
   ]
  },
  {
   "cell_type": "markdown",
   "id": "equivalent-necessity",
   "metadata": {
    "execution": {
     "iopub.execute_input": "2021-05-17T12:28:17.707560Z",
     "iopub.status.busy": "2021-05-17T12:28:17.707300Z",
     "iopub.status.idle": "2021-05-17T12:28:17.730513Z",
     "shell.execute_reply": "2021-05-17T12:28:17.727109Z",
     "shell.execute_reply.started": "2021-05-17T12:28:17.707525Z"
    },
    "papermill": {},
    "tags": []
   },
   "source": [
    "**Authors :**\n",
    "- Colyn TIDMAN \n",
    "- Dylan PICHON"
   ]
  },
  {
   "cell_type": "markdown",
   "id": "display_cell",
   "metadata": {
    "papermill": {},
    "tags": []
   },
   "source": [
    "### Display result"
   ]
  }
 ],
 "metadata": {
  "kernelspec": {
   "display_name": "Python 3",
   "language": "python",
   "name": "python3"
  },
  "language_info": {
   "codemirror_mode": {
    "name": "ipython",
    "version": 3
   },
   "file_extension": ".py",
   "mimetype": "text/x-python",
   "name": "python",
   "nbconvert_exporter": "python",
   "pygments_lexer": "ipython3",
   "version": "3.8.8"
  },
  "papermill": {
   "default_parameters": {},
   "environment_variables": {},
   "parameters": {},
   "version": "2.3.3"
  }
 },
 "nbformat": 4,
 "nbformat_minor": 5
}
