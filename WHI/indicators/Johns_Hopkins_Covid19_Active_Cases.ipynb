{
 "cells": [
  {
   "cell_type": "markdown",
   "id": "joined-learning",
   "metadata": {
    "execution": {
     "iopub.execute_input": "2021-05-27T14:59:05.872377Z",
     "iopub.status.busy": "2021-05-27T14:59:05.872085Z",
     "iopub.status.idle": "2021-05-27T14:59:05.882631Z",
     "shell.execute_reply": "2021-05-27T14:59:05.881698Z",
     "shell.execute_reply.started": "2021-05-27T14:59:05.872345Z"
    },
    "papermill": {},
    "tags": []
   },
   "source": [
    "<img width=\"10%\" alt=\"Naas\" src=\"https://landen.imgix.net/jtci2pxwjczr/assets/5ice39g4.png?w=160\"/>"
   ]
  },
  {
   "cell_type": "markdown",
   "id": "verbal-progressive",
   "metadata": {
    "papermill": {},
    "tags": []
   },
   "source": [
    "# indicators - Johns Hopkins Covid19 Active Cases\n",
    "<a href=\"https://app.naas.ai/user-redirect/naas/downloader?url=https://raw.githubusercontent.com/jupyter-naas/awesome-notebooks/master/WHI/indicators/Johns_Hopkins_Covid19_Active_Cases.ipynb\" target=\"_parent\"><img src=\"https://naasai-public.s3.eu-west-3.amazonaws.com/open_in_naas.svg\"/></a>"
   ]
  },
  {
   "cell_type": "markdown",
   "id": "d5adb96f-d319-40f8-98d7-b35e2fbae60e",
   "metadata": {
    "papermill": {},
    "tags": []
   },
   "source": [
    "**Tags:** #indicators #opendata #worldsituationroom"
   ]
  },
  {
   "cell_type": "markdown",
   "id": "breathing-tolerance",
   "metadata": {
    "papermill": {},
    "tags": []
   },
   "source": [
    "## Input"
   ]
  },
  {
   "cell_type": "markdown",
   "id": "import_cell",
   "metadata": {
    "papermill": {},
    "tags": []
   },
   "source": [
    "### Import libraries"
   ]
  },
  {
   "cell_type": "code",
   "execution_count": 2,
   "id": "distant-crawford",
   "metadata": {
    "execution": {
     "iopub.execute_input": "2021-05-28T15:43:51.704611Z",
     "iopub.status.busy": "2021-05-28T15:43:51.704362Z",
     "iopub.status.idle": "2021-05-28T15:43:52.367655Z",
     "shell.execute_reply": "2021-05-28T15:43:52.367082Z",
     "shell.execute_reply.started": "2021-05-28T15:43:51.704582Z"
    },
    "papermill": {},
    "tags": []
   },
   "outputs": [],
   "source": [
    "import naas\n",
    "import pandas as pd\n",
    "import plotly.express as px\n",
    "import plotly.graph_objects as go\n",
    "import matplotlib.pyplot as plt"
   ]
  },
  {
   "cell_type": "markdown",
   "id": "9b951a0e-2225-46bf-87ee-66d3976fbabe",
   "metadata": {
    "papermill": {},
    "tags": []
   },
   "source": [
    "### Variables"
   ]
  },
  {
   "cell_type": "code",
   "execution_count": 3,
   "id": "raising-mixture",
   "metadata": {
    "execution": {
     "iopub.execute_input": "2021-05-28T15:43:57.918018Z",
     "iopub.status.busy": "2021-05-28T15:43:57.917757Z",
     "iopub.status.idle": "2021-05-28T15:43:58.137063Z",
     "shell.execute_reply": "2021-05-28T15:43:58.136407Z",
     "shell.execute_reply.started": "2021-05-28T15:43:57.917984Z"
    },
    "papermill": {},
    "tags": []
   },
   "outputs": [],
   "source": [
    "# URLs of the raw csv dataset\n",
    "urls = [\n",
    "    'https://raw.githubusercontent.com/CSSEGISandData/COVID-19/master/csse_covid_19_data/csse_covid_19_time_series/time_series_covid19_confirmed_global.csv',\n",
    "    'https://raw.githubusercontent.com/CSSEGISandData/COVID-19/master/csse_covid_19_data/csse_covid_19_time_series/time_series_covid19_deaths_global.csv',\n",
    "    'https://raw.githubusercontent.com/CSSEGISandData/COVID-19/master/csse_covid_19_data/csse_covid_19_time_series/time_series_covid19_recovered_global.csv'\n",
    "]\n",
    "\n",
    "confirmed_df, deaths_df, recovered_df = tuple(pd.read_csv(url) for url in urls)"
   ]
  },
  {
   "cell_type": "markdown",
   "id": "intellectual-relation",
   "metadata": {
    "papermill": {},
    "tags": []
   },
   "source": [
    "## Model\n",
    "Mostly adopted from this [COVID19 Data Processing Tutorial](https://towardsdatascience.com/covid-19-data-processing-58aaa3663f6)\n",
    "\n",
    "Clean the dataset to show the cases by country\n",
    "\n",
    "Steps:\n",
    "\n",
    "1. Convert from Wide to Long Dataframe (Convert all datetimes to a single column)\n",
    "\n",
    "2. Merge/Join the Confirmed, Deaths and Recovered tables into a single table\n",
    "\n",
    "3. Converting Date from string to datetime\n",
    "\n",
    "4. Replacing missing values/NaNs\n",
    "5. Coronavirus cases reported from 3 cruise ships should be treated differently and adjustments need to be made for Canada (deciding to drop Canada due to missing recovery data)\n",
    "\n",
    "6. Get Active Cases = Confirmed - Deaths - Recovered\n"
   ]
  },
  {
   "cell_type": "code",
   "execution_count": 4,
   "id": "certified-fight",
   "metadata": {
    "execution": {
     "iopub.execute_input": "2021-05-28T15:44:22.859432Z",
     "iopub.status.busy": "2021-05-28T15:44:22.859171Z",
     "iopub.status.idle": "2021-05-28T15:44:22.957523Z",
     "shell.execute_reply": "2021-05-28T15:44:22.956923Z",
     "shell.execute_reply.started": "2021-05-28T15:44:22.859396Z"
    },
    "papermill": {},
    "tags": []
   },
   "outputs": [],
   "source": [
    "#Wide to Long DataFrame conversion\n",
    "dates = confirmed_df.columns[4:]\n",
    "confirmed_df_long = confirmed_df.melt(\n",
    "    id_vars=['Province/State', 'Country/Region', 'Lat', 'Long'], \n",
    "    value_vars=dates, \n",
    "    var_name='Date', \n",
    "    value_name='Confirmed'\n",
    ")\n",
    "deaths_df_long = deaths_df.melt(\n",
    "    id_vars=['Province/State', 'Country/Region', 'Lat', 'Long'], \n",
    "    value_vars=dates, \n",
    "    var_name='Date', \n",
    "    value_name='Deaths'\n",
    ")\n",
    "recovered_df_long = recovered_df.melt(\n",
    "    id_vars=['Province/State', 'Country/Region', 'Lat', 'Long'], \n",
    "    value_vars=dates, \n",
    "    var_name='Date', \n",
    "    value_name='Recovered'\n",
    ")\n",
    "\n",
    "# Adjust for Canada\n",
    "recovered_df_long = recovered_df_long[(recovered_df_long['Country/Region']!='Canada')]"
   ]
  },
  {
   "cell_type": "code",
   "execution_count": 5,
   "id": "virgin-burden",
   "metadata": {
    "execution": {
     "iopub.execute_input": "2021-05-28T15:44:26.638562Z",
     "iopub.status.busy": "2021-05-28T15:44:26.630097Z",
     "iopub.status.idle": "2021-05-28T15:44:27.559190Z",
     "shell.execute_reply": "2021-05-28T15:44:27.558586Z",
     "shell.execute_reply.started": "2021-05-28T15:44:26.638516Z"
    },
    "papermill": {},
    "tags": []
   },
   "outputs": [],
   "source": [
    "# Join into one single dataframe/table\n",
    "# Merging confirmed_df_long and deaths_df_long\n",
    "full_table = confirmed_df_long.merge(\n",
    "  right=deaths_df_long, \n",
    "  how='left',\n",
    "  on=['Province/State', 'Country/Region', 'Date', 'Lat', 'Long']\n",
    ")\n",
    "# Merging full_table and recovered_df_long\n",
    "full_table = full_table.merge(\n",
    "  right=recovered_df_long, \n",
    "  how='left',\n",
    "  on=['Province/State', 'Country/Region', 'Date', 'Lat', 'Long']\n",
    ")\n",
    "\n",
    "# Convert date strings to actual dates\n",
    "full_table['Date'] = pd.to_datetime(full_table['Date'])\n",
    "# Handle some missing values / NaNs\n",
    "full_table['Recovered'] = full_table['Recovered'].fillna(0).astype('int64')\n"
   ]
  },
  {
   "cell_type": "code",
   "execution_count": 6,
   "id": "documentary-handbook",
   "metadata": {
    "execution": {
     "iopub.execute_input": "2021-05-28T15:44:29.838477Z",
     "iopub.status.busy": "2021-05-28T15:44:29.838197Z",
     "iopub.status.idle": "2021-05-28T15:44:29.857592Z",
     "shell.execute_reply": "2021-05-28T15:44:29.856965Z",
     "shell.execute_reply.started": "2021-05-28T15:44:29.838450Z"
    },
    "papermill": {},
    "tags": []
   },
   "outputs": [],
   "source": [
    "full_table.isna().sum()\n",
    "# full_table.dtypes"
   ]
  },
  {
   "cell_type": "code",
   "execution_count": 7,
   "id": "thrown-revelation",
   "metadata": {
    "execution": {
     "iopub.execute_input": "2021-05-28T15:44:41.845712Z",
     "iopub.status.busy": "2021-05-28T15:44:41.845282Z",
     "iopub.status.idle": "2021-05-28T15:44:41.867615Z",
     "shell.execute_reply": "2021-05-28T15:44:41.867023Z",
     "shell.execute_reply.started": "2021-05-28T15:44:41.845679Z"
    },
    "papermill": {},
    "tags": []
   },
   "outputs": [],
   "source": [
    "full_table.head()"
   ]
  },
  {
   "cell_type": "code",
   "execution_count": 8,
   "id": "loose-cooking",
   "metadata": {
    "execution": {
     "iopub.execute_input": "2021-05-28T15:44:58.878333Z",
     "iopub.status.busy": "2021-05-28T15:44:58.878058Z",
     "iopub.status.idle": "2021-05-28T15:44:59.123377Z",
     "shell.execute_reply": "2021-05-28T15:44:59.122581Z",
     "shell.execute_reply.started": "2021-05-28T15:44:58.878302Z"
    },
    "papermill": {},
    "tags": []
   },
   "outputs": [],
   "source": [
    "# Adjust for Canada and 3 cruise ships\n",
    "ship_rows = full_table['Province/State'].str.contains('Grand Princess') | full_table['Province/State'].str.contains('Diamond Princess') | full_table['Country/Region'].str.contains('Diamond Princess') | full_table['Country/Region'].str.contains('MS Zaandam')\n",
    "full_ship = full_table[ship_rows]\n",
    "full_table = full_table[~(ship_rows)]\n",
    "\n",
    "# Add one more entry for each day to get the entire world's counts/totals\n",
    "world_dict = {\"Country/Region\": \"World\", \"Confirmed\": pd.Series(full_table.groupby(['Date'])['Confirmed'].sum()), \"Deaths\": pd.Series(full_table.groupby(['Date'])['Deaths'].sum()),\"Recovered\": pd.Series(full_table.groupby(['Date'])['Recovered'].sum())}\n",
    "world_df = pd.DataFrame.from_dict(world_dict).reset_index()\n",
    "print(world_df.columns)\n",
    "full_table = pd.concat([full_table, world_df], ignore_index=True)"
   ]
  },
  {
   "cell_type": "code",
   "execution_count": 9,
   "id": "popular-arthritis",
   "metadata": {
    "execution": {
     "iopub.execute_input": "2021-05-28T15:45:02.962522Z",
     "iopub.status.busy": "2021-05-28T15:45:02.962217Z",
     "iopub.status.idle": "2021-05-28T15:45:03.057306Z",
     "shell.execute_reply": "2021-05-28T15:45:03.056443Z",
     "shell.execute_reply.started": "2021-05-28T15:45:02.962494Z"
    },
    "papermill": {},
    "tags": []
   },
   "outputs": [],
   "source": [
    "# Active Cases = Confirmed - Deaths - Recovered\n",
    "full_table['Active'] = full_table['Confirmed'] - full_table['Deaths'] - full_table['Recovered']\n",
    "\n",
    "full_grouped = full_table.groupby(['Date', 'Country/Region'])['Confirmed', 'Deaths', 'Recovered', 'Active'].sum().reset_index()"
   ]
  },
  {
   "cell_type": "code",
   "execution_count": 10,
   "id": "hydraulic-boulder",
   "metadata": {
    "execution": {
     "iopub.execute_input": "2021-05-28T15:45:05.448500Z",
     "iopub.status.busy": "2021-05-28T15:45:05.448185Z",
     "iopub.status.idle": "2021-05-28T15:45:05.470205Z",
     "shell.execute_reply": "2021-05-28T15:45:05.469550Z",
     "shell.execute_reply.started": "2021-05-28T15:45:05.448463Z"
    },
    "papermill": {},
    "tags": []
   },
   "outputs": [],
   "source": [
    "len(full_grouped[\"Country/Region\"].unique())"
   ]
  },
  {
   "cell_type": "markdown",
   "id": "entertaining-hanging",
   "metadata": {
    "papermill": {},
    "tags": []
   },
   "source": [
    "### Interactive Dropdown Visualization for Active Cases by Country\n",
    "First, need to go back from long to wide for a format suited to the visualization using `df.pivot()`\n",
    "\n",
    "Mostly adopted from this [Interactive Dropdown Tutorial](https://towardsdatascience.com/how-to-create-an-interactive-dropdown-in-jupyter-322277f58a68)"
   ]
  },
  {
   "cell_type": "code",
   "execution_count": 11,
   "id": "separated-better",
   "metadata": {
    "execution": {
     "iopub.execute_input": "2021-05-28T15:45:14.983402Z",
     "iopub.status.busy": "2021-05-28T15:45:14.983162Z",
     "iopub.status.idle": "2021-05-28T15:45:15.235135Z",
     "shell.execute_reply": "2021-05-28T15:45:15.234349Z",
     "shell.execute_reply.started": "2021-05-28T15:45:14.983378Z"
    },
    "papermill": {},
    "tags": []
   },
   "outputs": [],
   "source": [
    "# Go back from long to wide for viz purposes\n",
    "df = full_grouped\n",
    "df.rename(columns={\"Country/Region\": \"Country\"}, inplace=True)\n",
    "df_confirmed = df[[\"Date\", \"Country\", \"Confirmed\"]]\n",
    "df_deaths = df[[\"Date\", \"Country\", \"Deaths\"]]\n",
    "df_active = df[[\"Date\", \"Country\", \"Active\"]]\n",
    "df_recovered = df[[\"Date\", \"Country\", \"Recovered\"]]\n",
    "\n",
    "df_confirmed = df_confirmed.pivot(index=\"Date\", columns=\"Country\", values=\"Confirmed\")\n",
    "df_deaths = df_deaths.pivot(index=\"Date\", columns=\"Country\", values=\"Deaths\")\n",
    "df_recovered = df_recovered.pivot(index=\"Date\", columns=\"Country\", values=\"Recovered\")\n",
    "df_active = df_active.pivot(index=\"Date\", columns=\"Country\", values=\"Active\")"
   ]
  },
  {
   "cell_type": "code",
   "execution_count": 12,
   "id": "frank-buffalo",
   "metadata": {
    "execution": {
     "iopub.execute_input": "2021-05-28T15:45:17.909564Z",
     "iopub.status.busy": "2021-05-28T15:45:17.909234Z",
     "iopub.status.idle": "2021-05-28T15:45:17.918997Z",
     "shell.execute_reply": "2021-05-28T15:45:17.918359Z",
     "shell.execute_reply.started": "2021-05-28T15:45:17.909527Z"
    },
    "papermill": {},
    "tags": []
   },
   "outputs": [],
   "source": [
    "def create_layout_button(df, column):\n",
    "    first, latest = df.index.values[0], df.index.values[-1]\n",
    "    return dict(label = column,\n",
    "                method = 'update',\n",
    "                args = [{'visible': df.columns.isin([column]),\n",
    "                         'title': column,\n",
    "                         'xaxis.range': [first, latest],\n",
    "                         'showlegend': True\n",
    "                        }])\n",
    "\n",
    "def multi_plot(df, title, addAll = True):\n",
    "    first, latest = df.index.values[0], df.index.values[-1]\n",
    "    fig = go.Figure()\n",
    "\n",
    "    for column in df.columns.to_list():\n",
    "        fig.add_trace(\n",
    "            go.Scatter(\n",
    "                x = df.index,\n",
    "                y = df[column],\n",
    "                name = column\n",
    "            )\n",
    "        )\n",
    "\n",
    "    button_all = dict(label = 'All',\n",
    "                  method = 'update',\n",
    "                  args = [{'visible': df.columns.isin(df.columns),\n",
    "                           'title': 'All',\n",
    "                           'xaxis.range': [first, latest],\n",
    "                           'showlegend':True}])\n",
    "    \n",
    "    # Need \"World\" to be the default choice if \"All\" is not shown\n",
    "    button_world = create_layout_button(df, \"World\")\n",
    "\n",
    "    fig.update_layout(\n",
    "        updatemenus=[{\n",
    "            \"active\": 0,\n",
    "            \"buttons\": ([button_all] * addAll) + [button_world] + [create_layout_button(df, column) for column in df.columns if column != \"World\"],\n",
    "            \"showactive\": True\n",
    "            }\n",
    "        ],\n",
    "        yaxis_type=\"log\"\n",
    "    )\n",
    "    \n",
    "    # Update remaining layout properties\n",
    "    fig.update_layout(\n",
    "        title_text=title,\n",
    "#         annotations=[dict(\n",
    "#             text=\"Country:\",\n",
    "#             x=0, y=0\n",
    "#         )]\n",
    "    )\n",
    "   \n",
    "    fig.show()"
   ]
  },
  {
   "cell_type": "code",
   "execution_count": 13,
   "id": "sublime-charger",
   "metadata": {
    "execution": {
     "iopub.execute_input": "2021-05-28T15:45:25.994778Z",
     "iopub.status.busy": "2021-05-28T15:45:25.994530Z",
     "iopub.status.idle": "2021-05-28T15:45:26.010837Z",
     "shell.execute_reply": "2021-05-28T15:45:26.010143Z",
     "shell.execute_reply.started": "2021-05-28T15:45:25.994754Z"
    },
    "papermill": {},
    "tags": []
   },
   "outputs": [],
   "source": [
    "# test_df_active = df_active.swapaxes(\"index\", \"columns\")\n",
    "test_df_active = df_active\n",
    "latest = test_df_active.index.values[-1]\n",
    "print(latest)\n",
    "test_df_active = test_df_active.T.sort_values(by=latest, ascending=False).head(11).T\n",
    "test_df_active"
   ]
  },
  {
   "cell_type": "markdown",
   "id": "competent-clinic",
   "metadata": {
    "papermill": {},
    "tags": []
   },
   "source": [
    "## Output"
   ]
  },
  {
   "cell_type": "markdown",
   "id": "higher-boutique",
   "metadata": {
    "papermill": {},
    "tags": []
   },
   "source": [
    "### Logarithmic COVID-19 time series"
   ]
  },
  {
   "cell_type": "code",
   "execution_count": 14,
   "id": "tight-authorization",
   "metadata": {
    "execution": {
     "iopub.execute_input": "2021-05-28T15:45:50.113235Z",
     "iopub.status.busy": "2021-05-28T15:45:50.113000Z",
     "iopub.status.idle": "2021-05-28T15:45:50.449695Z",
     "shell.execute_reply": "2021-05-28T15:45:50.449040Z",
     "shell.execute_reply.started": "2021-05-28T15:45:50.113211Z"
    },
    "papermill": {},
    "tags": []
   },
   "outputs": [],
   "source": [
    "multi_plot(test_df_active, title=\"Logarithmic COVID-19 time series Active Cases by Country (Top 10)\")"
   ]
  },
  {
   "cell_type": "code",
   "execution_count": 13,
   "id": "correct-effects",
   "metadata": {
    "execution": {
     "iopub.execute_input": "2021-05-27T15:36:04.234811Z",
     "iopub.status.busy": "2021-05-27T15:36:04.234370Z",
     "iopub.status.idle": "2021-05-27T15:36:10.934839Z",
     "shell.execute_reply": "2021-05-27T15:36:10.934052Z",
     "shell.execute_reply.started": "2021-05-27T15:36:04.234776Z"
    },
    "papermill": {},
    "tags": []
   },
   "outputs": [],
   "source": [
    "multi_plot(df_active, title=\"Logarithmic COVID-19 time series Active Cases by Country\", addAll=False)"
   ]
  },
  {
   "cell_type": "markdown",
   "id": "lonely-carpet",
   "metadata": {
    "papermill": {},
    "tags": []
   },
   "source": [
    "### World Health Indicator (WHI)\n",
    "Using a scale of **0 - 10** and rescaling the number of Active Cases / Confirmed Cases on the entire World's Data\n",
    "\n",
    "(where 0 is the worst and 10 is the best)\n",
    "\n",
    "<!-- \\begin{equation*}\n",
    "WHI = 10 - 10 \\times \\frac{\\text{Current Monthly average} - Min(\\text{Monthly  average})}{Max(\\text{Monthly average}) - Min(\\text{Monthly average})}\n",
    "\\end{equation*}\n",
    " -->\n",
    " \n",
    " \\begin{equation*}\n",
    "WHI = 10 - 10 \\times \\frac{Current - Min}{Max - Min}\n",
    "\\end{equation*}\n",
    "\n",
    " \n",
    "(Using **Linear Scaling** for now, will discuss and develop a better scaling mechanism if required)"
   ]
  },
  {
   "cell_type": "code",
   "execution_count": 14,
   "id": "taken-workshop",
   "metadata": {
    "execution": {
     "iopub.execute_input": "2021-05-27T15:36:10.936530Z",
     "iopub.status.busy": "2021-05-27T15:36:10.936109Z",
     "iopub.status.idle": "2021-05-27T15:36:10.943932Z",
     "shell.execute_reply": "2021-05-27T15:36:10.943336Z",
     "shell.execute_reply.started": "2021-05-27T15:36:10.936498Z"
    },
    "papermill": {},
    "tags": []
   },
   "outputs": [],
   "source": [
    "# Uncomment to get a 30 day Moving Average Statistics and a health indicator based on that\n",
    "\n",
    "# df_active[\"MonthlyAverage\"] = df_active[\"World\"].rolling('30D').mean().astype('int64')\n",
    "# curr_30d = df_active.loc[latest, \"MonthlyAverage\"]\n",
    "# max_30d = df_active[\"MonthlyAverage\"].max()\n",
    "# min_30d = df_active[\"MonthlyAverage\"].min()\n",
    "# WHI_30d = 10 - 10 * ((curr_30d - min_30d) / (max_30d - min_30d))\n",
    "#print(f\"World Health Indicator (30 day Moving Average): {round(WHI_30d, 2)}\")"
   ]
  },
  {
   "cell_type": "code",
   "execution_count": 15,
   "id": "modular-liabilities",
   "metadata": {
    "execution": {
     "iopub.execute_input": "2021-05-28T15:49:10.387939Z",
     "iopub.status.busy": "2021-05-28T15:49:10.387696Z",
     "iopub.status.idle": "2021-05-28T15:49:10.399985Z",
     "shell.execute_reply": "2021-05-28T15:49:10.399370Z",
     "shell.execute_reply.started": "2021-05-28T15:49:10.387913Z"
    },
    "papermill": {},
    "tags": []
   },
   "outputs": [],
   "source": [
    "WHI = 10 - 10 * ((df_active.loc[latest, \"World\"] - df_active[\"World\"].min()) / (df_active[\"World\"].max() - df_active[\"World\"].min()))\n",
    "\n",
    "print(f\"World Health Indicator (Raw values): {round(WHI, 2)}\")\n",
    "WHI_data = pd.DataFrame.from_dict({\"DATE_PROCESSED\": pd.to_datetime(\"today\").date(), \"INDICATOR\": \"COVID-19 Active Cases\", \"VALUE\": [round(WHI, 2)]})\n",
    "WHI_data"
   ]
  },
  {
   "cell_type": "code",
   "execution_count": 18,
   "id": "australian-tobacco",
   "metadata": {
    "execution": {
     "iopub.execute_input": "2021-05-28T15:53:52.536045Z",
     "iopub.status.busy": "2021-05-28T15:53:52.535723Z",
     "iopub.status.idle": "2021-05-28T15:53:52.558355Z",
     "shell.execute_reply": "2021-05-28T15:53:52.557616Z",
     "shell.execute_reply.started": "2021-05-28T15:53:52.536007Z"
    },
    "papermill": {},
    "tags": []
   },
   "outputs": [],
   "source": [
    "path = '../output/JohnHopkins_covid_active_cases_output.csv'\n",
    "WHI_data.to_csv(path)"
   ]
  },
  {
   "cell_type": "code",
   "execution_count": 19,
   "id": "cloudy-exhaust",
   "metadata": {
    "execution": {
     "iopub.execute_input": "2021-05-28T15:53:55.129145Z",
     "iopub.status.busy": "2021-05-28T15:53:55.128836Z",
     "iopub.status.idle": "2021-05-28T15:53:55.270629Z",
     "shell.execute_reply": "2021-05-28T15:53:55.269826Z",
     "shell.execute_reply.started": "2021-05-28T15:53:55.129113Z"
    },
    "papermill": {},
    "tags": []
   },
   "outputs": [],
   "source": [
    "naas.assets.add(path)"
   ]
  }
 ],
 "metadata": {
  "kernelspec": {
   "display_name": "Python 3",
   "language": "python",
   "name": "python3"
  },
  "language_info": {
   "codemirror_mode": {
    "name": "ipython",
    "version": 3
   },
   "file_extension": ".py",
   "mimetype": "text/x-python",
   "name": "python",
   "nbconvert_exporter": "python",
   "pygments_lexer": "ipython3",
   "version": "3.8.8"
  },
  "metadata": {
   "interpreter": {
    "hash": "aee8b7b246df8f9039afb4144a1f6fd8d2ca17a180786b69acc140d282b71a49"
   }
  },
  "papermill": {
   "default_parameters": {},
   "environment_variables": {},
   "parameters": {},
   "version": "2.3.3"
  },
  "toc-autonumbering": false,
  "toc-showcode": false,
  "toc-showmarkdowntxt": false,
  "widgets": {
   "application/vnd.jupyter.widget-state+json": {
    "state": {},
    "version_major": 2,
    "version_minor": 0
   }
  }
 },
 "nbformat": 4,
 "nbformat_minor": 5
}