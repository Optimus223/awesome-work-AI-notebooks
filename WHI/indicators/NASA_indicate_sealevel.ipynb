{
 "cells": [
  {
   "cell_type": "markdown",
   "id": "canadian-philippines",
   "metadata": {
    "papermill": {},
    "tags": []
   },
   "source": [
    "# indicators - NASA indicate sealevel\n",
    "<a href=\"https://app.naas.ai/user-redirect/naas/downloader?url=https://raw.githubusercontent.com/jupyter-naas/awesome-notebooks/master/WHI/indicators/NASA_indicate_sealevel.ipynb\" target=\"_parent\"><img src=\"https://img.shields.io/badge/-Open%20in%20Naas-success?labelColor=000000&logo=data:image/svg+xml;base64,PD94bWwgdmVyc2lvbj0iMS4wIiBlbmNvZGluZz0iVVRGLTgiPz4KPHN2ZyB3aWR0aD0iMTAyNHB4IiBoZWlnaHQ9IjEwMjRweCIgdmlld0JveD0iMCAwIDEwMjQgMTAyNCIgeG1sbnM9Imh0dHA6Ly93d3cudzMub3JnLzIwMDAvc3ZnIiB4bWxuczp4bGluaz0iaHR0cDovL3d3dy53My5vcmcvMTk5OS94bGluayIgdmVyc2lvbj0iMS4xIj4KIDwhLS0gR2VuZXJhdGVkIGJ5IFBpeGVsbWF0b3IgUHJvIDIuMC41IC0tPgogPGRlZnM+CiAgPHRleHQgaWQ9InN0cmluZyIgdHJhbnNmb3JtPSJtYXRyaXgoMS4wIDAuMCAwLjAgMS4wIDIyOC4wIDU0LjUpIiBmb250LWZhbWlseT0iQ29tZm9ydGFhLVJlZ3VsYXIsIENvbWZvcnRhYSIgZm9udC1zaXplPSI4MDAiIHRleHQtZGVjb3JhdGlvbj0ibm9uZSIgZmlsbD0iI2ZmZmZmZiIgeD0iMS4xOTk5OTk5OTk5OTk5ODg2IiB5PSI3MDUuMCI+bjwvdGV4dD4KIDwvZGVmcz4KIDx1c2UgaWQ9Im4iIHhsaW5rOmhyZWY9IiNzdHJpbmciLz4KPC9zdmc+Cg==\"/></a>"
   ]
  },
  {
   "cell_type": "markdown",
   "id": "e85e5319-e7a1-4dc6-84ba-f6835384a683",
   "metadata": {},
   "source": [
    "**Tags:** #indicators #opendata #worldsituationroom"
   ]
  },
  {
   "cell_type": "markdown",
   "id": "extensive-camera",
   "metadata": {
    "execution": {
     "iopub.execute_input": "2021-05-28T14:53:57.088615Z",
     "iopub.status.busy": "2021-05-28T14:53:57.088380Z",
     "iopub.status.idle": "2021-05-28T14:53:57.091396Z",
     "shell.execute_reply": "2021-05-28T14:53:57.090726Z",
     "shell.execute_reply.started": "2021-05-28T14:53:57.088591Z"
    },
    "papermill": {},
    "tags": []
   },
   "source": [
    "## Inputs"
   ]
  },
  {
   "cell_type": "markdown",
   "id": "bdb34ca1-ac3c-4995-8396-416031bef0eb",
   "metadata": {},
   "source": [
    "### Import libraries"
   ]
  },
  {
   "cell_type": "code",
   "execution_count": null,
   "id": "pointed-invitation",
   "metadata": {
    "papermill": {},
    "tags": []
   },
   "outputs": [],
   "source": [
    "import requests\n",
    "from bs4 import BeautifulSoup\n",
    "import pandas as pd\n",
    "from datetime import date, datetime, timedelta\n",
    "import math\n",
    "from sktime.utils.plotting import plot_series\n",
    "from sktime.forecasting.model_selection import (\n",
    "    ExpandingWindowSplitter,\n",
    "    ForecastingGridSearchCV,\n",
    "    SlidingWindowSplitter,\n",
    "    temporal_train_test_split,\n",
    ")\n",
    "from sktime.forecasting.arima import ARIMA, AutoARIMA\n",
    "from sktime.forecasting.compose import (\n",
    "    EnsembleForecaster,\n",
    "    MultiplexForecaster,\n",
    "    TransformedTargetForecaster,\n",
    "    make_reduction,\n",
    ")\n",
    "import matplotlib.pyplot as plt\n",
    "from sktime.forecasting.naive import NaiveForecaster\n",
    "from sktime.forecasting.base import ForecastingHorizon\n",
    "from sktime.performance_metrics.forecasting import (\n",
    "    MeanAbsolutePercentageError,\n",
    "    mean_absolute_percentage_error,\n",
    ")\n",
    "from scipy.interpolate import interp1d\n",
    "from sklearn.neighbors import KNeighborsRegressor\n",
    "import numpy as np\n",
    "import os\n",
    "import sys\n",
    "import tempfile\n",
    "import dateutil.parser\n",
    "import matplotlib.dates as mdates\n",
    "import naas"
   ]
  },
  {
   "cell_type": "markdown",
   "id": "duplicate-australian",
   "metadata": {
    "papermill": {},
    "tags": []
   },
   "source": [
    "### Dataset\n",
    "Source: Nasa (https://climate.nasa.gov/vital-signs/sea-level/)\n",
    "URL: https://podaac-tools.jpl.nasa.gov/drive/files/allData/merged_alt/L2/TP_J1_OSTM/global_mean_sea_level/GMSL_TPJAOS_5.0_199209_202102.txt"
   ]
  },
  {
   "cell_type": "code",
   "execution_count": null,
   "id": "magnetic-champagne",
   "metadata": {
    "papermill": {},
    "tags": []
   },
   "outputs": [],
   "source": [
    "'''\n",
    "Column descriptions\n",
    "    1 altimeter type 0=dual-frequency  999=single frequency (ie Poseidon-1) \n",
    "    2 merged file cycle # \n",
    "    3 year+fraction of year (mid-cycle) \n",
    "    4 number of observations \n",
    "    5 number of weighted observations \n",
    "    6 GMSL (Global Isostatic Adjustment (GIA) not applied) variation (mm) with respect to 20-year \n",
    "        TOPEX/Jason collinear mean reference \n",
    "    7 standard deviation of GMSL (GIA not applied) variation estimate (mm)\n",
    "    8 smoothed (60-day Gaussian type filter) GMSL (GIA not applied) variation (mm)  \n",
    "    9 GMSL (Global Isostatic Adjustment (GIA) applied) variation (mm) with respect to 20-year \n",
    "        TOPEX/Jason collinear mean reference \n",
    "    10 standard deviation of GMSL (GIA applied) variation estimate (mm)\n",
    "    11 smoothed (60-day Gaussian type filter) GMSL (GIA applied) variation (mm)\n",
    "    12 smoothed (60-day Gaussian type filter) GMSL (GIA applied) variation (mm); \n",
    "      annual and semi-annual signal removed\n",
    "Learn more @ https://sealevel.colorado.edu/presentation/what-definition-global-mean-sea-level-gmsl-and-its-rate\n",
    "'''\n",
    "pass"
   ]
  },
  {
   "cell_type": "markdown",
   "id": "substantial-hampshire",
   "metadata": {
    "papermill": {},
    "tags": []
   },
   "source": [
    "## Model"
   ]
  },
  {
   "cell_type": "markdown",
   "id": "46274ddc-9915-4622-8a4d-2bc242e8db3d",
   "metadata": {},
   "source": [
    "### Functions"
   ]
  },
  {
   "cell_type": "code",
   "execution_count": null,
   "id": "interpreted-butterfly",
   "metadata": {
    "papermill": {},
    "tags": []
   },
   "outputs": [],
   "source": [
    "class SeaLevelIndicator():\n",
    "    def __init__(self, filepath):\n",
    "        self.filepath = filepath\n",
    "        self.df = self.get_df()\n",
    "        \n",
    "        \n",
    "    def value_df(self, method='curve_fit'):\n",
    "        value = self.value(method)\n",
    "        data = {'DATE_PROCESSED': [datetime.today().date()],\n",
    "                'INDICATOR': 'Sea Level',\n",
    "                 'VALUE': [indicator.value()]}\n",
    "        return pd.DataFrame.from_dict(data)\n",
    "        \n",
    "    def value(self, method='curve_fit'):\n",
    "        # interpolate value out of ten\n",
    "        m = (10-0)/(self.best_case(value_only=True)-self.worst_case(value_only=True))\n",
    "        c = -self.worst_case(value_only=True) * m\n",
    "        return m * self.current_projection(method=method, value_only=True) + c\n",
    "    \n",
    "    def current_projection(self, method='curve_fit', value_only=False):\n",
    "        value = None\n",
    "        if method.lower() == 'curve_fit':\n",
    "            x = mdates.date2num(self.df_per_year['smoothed_GMSL_gia_signal_rem'].index)\n",
    "            y = (self.df_per_year['smoothed_GMSL_gia_signal_rem'] \\\n",
    "                 + abs(self.df_per_year['smoothed_GMSL_gia_signal_rem'].min())).values\n",
    "            z4 = np.polyfit(x, y, 3)\n",
    "            p4 = np.poly1d(z4)\n",
    "            xx = np.linspace(x.min(), mdates.date2num(datetime(2100, 12, 31)), 100)\n",
    "            dd = mdates.num2date(xx)\n",
    "            df = pd.DataFrame(data=p4(xx), index=dd) \n",
    "            value = df.iloc[-1].values[0]\n",
    "        elif method.lower() == 'arima':\n",
    "            df = self.df_starting_from_zero.copy()\n",
    "            df = df.resample('M').mean()\n",
    "            df.index = pd.PeriodIndex(df.index, freq=\"M\")\n",
    "            y_train, y_test = temporal_train_test_split(df['smoothed_GMSL_gia_signal_rem'],\n",
    "                                                        test_size=180)\n",
    "            future_months = (pd.Period('2100-12') - df['smoothed_GMSL_gia_signal_rem'].index[-1]).n\n",
    "            forecaster = AutoARIMA(sp=12, suppress_warnings=True)\n",
    "            alpha = 0.05  # 95% prediction intervals\n",
    "            fh = np.arange(future_months) + 1 # forecast_horizon\n",
    "            forecaster.fit(df['smoothed_GMSL_gia_signal_rem'])\n",
    "            y_pred, pred_ints = forecaster.predict(fh, return_pred_int=True, alpha=alpha)\n",
    "            value = y_pred.iloc[-1]\n",
    "        if value_only:\n",
    "            return value\n",
    "        return {'date': 'December 2100',\n",
    "                 'period': '2100-12',\n",
    "                 'units': 'Sea Level above 2000 Levels (mm)',\n",
    "                 'value': value}\n",
    "            \n",
    "    def best_case(self, value_only=False):\n",
    "        # Source: https://tidesandcurrents.noaa.gov/publications/techrpt83_Global_and_Regional_SLR_Scenarios_for_the_US_final.pdf\n",
    "        recorded_value = 300\n",
    "        if value_only:\n",
    "            return recorded_value\n",
    "        return {'date': 'December 2100', 'period': '2100-12', \n",
    "                'units': 'Sea Level above 2000 Levels (mm)', 'value': recorded_value}\n",
    "    \n",
    "    def worst_case(self, value_only=False):\n",
    "        # Source: https://tidesandcurrents.noaa.gov/publications/techrpt83_Global_and_Regional_SLR_Scenarios_for_the_US_final.pdf\n",
    "        recorded_value = 2500\n",
    "        if value_only:\n",
    "            return recorded_value\n",
    "        return {'date': 'December 2100', 'period': '2100-12', \n",
    "                'units': 'Sea Level above 2000 Levels (mm)', 'value': recorded_value}\n",
    "    \n",
    "    def plot_projection(self, method='curve_fit'):\n",
    "        if method.lower() == 'curve_fit':\n",
    "            x = mdates.date2num(self.df_per_year['smoothed_GMSL_gia_signal_rem'].index)\n",
    "            y = (self.df_per_year['smoothed_GMSL_gia_signal_rem'] \\\n",
    "                 + abs(self.df_per_year['smoothed_GMSL_gia_signal_rem'].min())).values\n",
    "            z4 = np.polyfit(x, y, 3)\n",
    "            p4 = np.poly1d(z4)\n",
    "\n",
    "            fig, cx = plt.subplots(figsize=(16, 4))\n",
    "\n",
    "            xx = np.linspace(x.min(), mdates.date2num(datetime(2100, 12, 31)), 100)\n",
    "            dd = mdates.num2date(xx)\n",
    "\n",
    "            cx.plot(dd, p4(xx), '-g')\n",
    "            cx.plot(x, y, '+', color='b', label='blub')\n",
    "            cx.errorbar(x, y,\n",
    "                         marker='.',\n",
    "                         color='k',\n",
    "                         ecolor='b',\n",
    "                         markerfacecolor='b',\n",
    "                         label=\"series 1\",\n",
    "                         capsize=0,\n",
    "                         linestyle='')\n",
    "            cx.grid()\n",
    "            plt.show()\n",
    "            \n",
    "        elif method.lower() == 'arima':\n",
    "            # Set the frequency of the index, Sktime needs this to work\n",
    "            df = self.df_starting_from_zero.copy()\n",
    "            df = df.resample('M').mean()\n",
    "            df.index = pd.PeriodIndex(df.index, freq=\"M\")\n",
    "            y_train, y_test = temporal_train_test_split(df['smoothed_GMSL_gia_signal_rem'],\n",
    "                                                        test_size=180)\n",
    "            future_months = (pd.Period('2100-12') - df['smoothed_GMSL_gia_signal_rem'].index[-1]).n\n",
    "            forecaster = AutoARIMA(sp=12, suppress_warnings=True)\n",
    "            alpha = 0.05  # 95% prediction intervals\n",
    "            fh = np.arange(future_months) + 1 # forecast_horizon\n",
    "            forecaster.fit(df['smoothed_GMSL_gia_signal_rem'])\n",
    "            y_pred, pred_ints = forecaster.predict(fh, return_pred_int=True, alpha=alpha)\n",
    "            fig, ax = plot_series(df['smoothed_GMSL_gia_signal_rem'], \n",
    "                                  y_pred, labels=[\"y_train\", \"y_pred\"])\n",
    "            ax.fill_between(\n",
    "                ax.get_lines()[-1].get_xdata(),\n",
    "                pred_ints[\"lower\"],\n",
    "                pred_ints[\"upper\"],\n",
    "                alpha=0.2,\n",
    "                color=ax.get_lines()[-1].get_c(),\n",
    "                label=f\"{1 - alpha}% prediction intervals\",\n",
    "            )\n",
    "            ax.legend();\n",
    "            \n",
    "            \n",
    "    def get_df(self):\n",
    "        cols = ['altimeter_type','merged_file_cycle_#','yearfrac','num_obs','num_w_obs', 'GMSL_variation_mm',\n",
    "        'std_GMSL','smoothed_GMSL','GMSL_GIA_variation_mm','std_GMSL_GIA','smoothed_gia_GMSL',\n",
    "        'smoothed_GMSL_gia_signal_rem']\n",
    "        with open(self.filepath, 'r') as f:\n",
    "            data = f.read()\n",
    "        data = [d[1:] for d in data.split('\\n') if 'HDR' not in d]\n",
    "        df = pd.DataFrame([l.split() for l in data], dtype=float, columns=cols)\n",
    "        # Pre-processing        \n",
    "        def convert_yearfrac_to_datetime(yearfrac):\n",
    "            year = int(yearfrac)\n",
    "            rem = yearfrac - year\n",
    "            base = datetime(year, 1, 1)\n",
    "            return base + timedelta(seconds=(base.replace(year=base.year + 1) - base).total_seconds() * rem)\n",
    "        df['datetime'] = df['yearfrac'].apply(lambda year: convert_yearfrac_to_datetime(year))\n",
    "        df = df[['datetime', 'smoothed_GMSL_gia_signal_rem']].set_index('datetime')\n",
    "        return df\n",
    "    \n",
    "    def current_value(self, value_only=False):\n",
    "        res = requests.get('https://climate.nasa.gov/vital-signs/sea-level/')\n",
    "        soup = BeautifulSoup(res.text, 'html.parser')\n",
    "        measurement = soup.find_all(\"div\", {\"class\": \"latest_measurement\"})[0]\n",
    "        date = measurement.find(\"span\", {\"class\": \"month_year\"}).text.strip()\n",
    "        value = measurement.find(\"div\", {\"class\": \"value\"}).text.split('(')[0].strip()\n",
    "        if value_only:\n",
    "            return value\n",
    "        try:\n",
    "            period = dateutil.parser.parse(date).strftime('%Y-%m')\n",
    "        except:\n",
    "            period = None\n",
    "        return {'date': date, 'period': period, 'current_value': value}\n",
    "    \n",
    "    @property\n",
    "    def df_starting_from_zero(self):\n",
    "        return self.df + abs(self.df.min()) # Here we add the minimum ensure measurements start at zero\n",
    "    \n",
    "    @property\n",
    "    def df_per_year(self):\n",
    "        return self.df.resample('Y').mean()\n",
    "        \n",
    "        "
   ]
  },
  {
   "cell_type": "code",
   "execution_count": null,
   "id": "promotional-davis",
   "metadata": {
    "papermill": {},
    "tags": []
   },
   "outputs": [],
   "source": [
    "indicator = SeaLevelIndicator('nasa-sea-level-data.txt')"
   ]
  },
  {
   "cell_type": "code",
   "execution_count": null,
   "id": "numerical-bobby",
   "metadata": {
    "papermill": {},
    "tags": []
   },
   "outputs": [],
   "source": [
    "'''\n",
    "This is safer to use - it gives a value more inline with current projections, \n",
    "but can be reused with additional data\n",
    "'''\n",
    "indicator.value(method='curve_fit')"
   ]
  },
  {
   "cell_type": "code",
   "execution_count": null,
   "id": "juvenile-deposit",
   "metadata": {
    "papermill": {},
    "tags": []
   },
   "outputs": [],
   "source": [
    "df"
   ]
  },
  {
   "cell_type": "code",
   "execution_count": null,
   "id": "norman-montreal",
   "metadata": {
    "papermill": {},
    "tags": []
   },
   "outputs": [],
   "source": [
    "df = indicator.value_df()\n",
    "path = '../output/nasa_sealevel_output.csv'\n",
    "df.to_csv(path)\n",
    "naas.assets.add(path)"
   ]
  },
  {
   "cell_type": "code",
   "execution_count": null,
   "id": "solid-rough",
   "metadata": {
    "papermill": {},
    "tags": []
   },
   "outputs": [],
   "source": [
    "df.to_csv('data_')"
   ]
  },
  {
   "cell_type": "code",
   "execution_count": null,
   "id": "active-navigation",
   "metadata": {
    "papermill": {},
    "tags": []
   },
   "outputs": [],
   "source": [
    "indicator.value(method='arima')"
   ]
  },
  {
   "cell_type": "code",
   "execution_count": null,
   "id": "balanced-improvement",
   "metadata": {
    "papermill": {},
    "tags": []
   },
   "outputs": [],
   "source": [
    "indicator.plot_projection(method='curve_fit')"
   ]
  },
  {
   "cell_type": "code",
   "execution_count": null,
   "id": "pursuant-adrian",
   "metadata": {
    "papermill": {},
    "tags": []
   },
   "outputs": [],
   "source": [
    "indicator.plot_projection(method='arima')"
   ]
  },
  {
   "cell_type": "markdown",
   "id": "8d46cd6a-38d4-42e8-995a-04a2880e6b03",
   "metadata": {},
   "source": [
    "## Output"
   ]
  }
 ],
 "metadata": {
  "kernelspec": {
   "display_name": "Python 3",
   "language": "python",
   "name": "python3"
  },
  "language_info": {
   "codemirror_mode": {
    "name": "ipython",
    "version": 3
   },
   "file_extension": ".py",
   "mimetype": "text/x-python",
   "name": "python",
   "nbconvert_exporter": "python",
   "pygments_lexer": "ipython3",
   "version": "3.8.8"
  },
  "papermill": {
   "default_parameters": {},
   "environment_variables": {},
   "parameters": {},
   "version": "2.3.3"
  }
 },
 "nbformat": 4,
 "nbformat_minor": 5
}
