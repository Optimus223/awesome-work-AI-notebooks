{
 "cells": [
  {
   "cell_type": "code",
   "execution_count": 22,
   "id": "under-brave",
   "metadata": {
    "execution": {
     "iopub.execute_input": "2021-05-27T16:11:04.923993Z",
     "iopub.status.busy": "2021-05-27T16:11:04.923453Z",
     "iopub.status.idle": "2021-05-27T16:11:05.654037Z",
     "shell.execute_reply": "2021-05-27T16:11:05.653334Z",
     "shell.execute_reply.started": "2021-05-27T16:11:04.923951Z"
    },
    "tags": []
   },
   "outputs": [],
   "source": [
    "import requests\n",
    "from bs4 import BeautifulSoup\n",
    "import pandas as pd\n",
    "from datetime import date, datetime, timedelta\n",
    "import math\n",
    "from sktime.utils.plotting import plot_series\n",
    "from sktime.forecasting.model_selection import (\n",
    "    ExpandingWindowSplitter,\n",
    "    ForecastingGridSearchCV,\n",
    "    SlidingWindowSplitter,\n",
    "    temporal_train_test_split,\n",
    ")\n",
    "from sktime.forecasting.arima import ARIMA, AutoARIMA\n",
    "from sktime.forecasting.compose import (\n",
    "    EnsembleForecaster,\n",
    "    MultiplexForecaster,\n",
    "    TransformedTargetForecaster,\n",
    "    make_reduction,\n",
    ")\n",
    "import matplotlib.pyplot as plt\n",
    "from sktime.forecasting.naive import NaiveForecaster\n",
    "from sktime.forecasting.base import ForecastingHorizon\n",
    "from sktime.performance_metrics.forecasting import (\n",
    "    MeanAbsolutePercentageError,\n",
    "    mean_absolute_percentage_error,\n",
    ")\n",
    "from scipy.interpolate import interp1d\n",
    "from sklearn.neighbors import KNeighborsRegressor\n",
    "import numpy as np\n",
    "import os\n",
    "import sys\n",
    "import tempfile\n",
    "import dateutil.parser\n",
    "import matplotlib.dates as mdates\n",
    "import naas"
   ]
  },
  {
   "cell_type": "code",
   "execution_count": 37,
   "id": "regular-bulletin",
   "metadata": {
    "execution": {
     "iopub.execute_input": "2021-05-27T16:19:48.195397Z",
     "iopub.status.busy": "2021-05-27T16:19:48.195097Z",
     "iopub.status.idle": "2021-05-27T16:19:48.241433Z",
     "shell.execute_reply": "2021-05-27T16:19:48.240717Z",
     "shell.execute_reply.started": "2021-05-27T16:19:48.195367Z"
    },
    "tags": []
   },
   "outputs": [],
   "source": [
    "indicator = SeaLevelIndicator('nasa-sea-level-data.txt')"
   ]
  },
  {
   "cell_type": "code",
   "execution_count": 13,
   "id": "personalized-cooperation",
   "metadata": {
    "execution": {
     "iopub.execute_input": "2021-05-27T15:51:45.032031Z",
     "iopub.status.busy": "2021-05-27T15:51:45.031786Z",
     "iopub.status.idle": "2021-05-27T15:51:45.075333Z",
     "shell.execute_reply": "2021-05-27T15:51:45.074762Z",
     "shell.execute_reply.started": "2021-05-27T15:51:45.032001Z"
    },
    "tags": []
   },
   "outputs": [
    {
     "data": {
      "text/plain": [
       "4.951165245651996"
      ]
     },
     "execution_count": 13,
     "metadata": {},
     "output_type": "execute_result"
    }
   ],
   "source": [
    "'''\n",
    "This is safer to use - it gives a value more inline with current projections, \n",
    "but can be reused with additional data\n",
    "'''\n",
    "indicator.value(method='curve_fit')"
   ]
  },
  {
   "cell_type": "code",
   "execution_count": 38,
   "id": "major-calendar",
   "metadata": {
    "execution": {
     "iopub.execute_input": "2021-05-27T16:19:49.951440Z",
     "iopub.status.busy": "2021-05-27T16:19:49.951133Z",
     "iopub.status.idle": "2021-05-27T16:19:49.984707Z",
     "shell.execute_reply": "2021-05-27T16:19:49.984160Z",
     "shell.execute_reply.started": "2021-05-27T16:19:49.951402Z"
    },
    "tags": []
   },
   "outputs": [],
   "source": [
    "df = indicator.value_df()"
   ]
  },
  {
   "cell_type": "code",
   "execution_count": 43,
   "id": "historic-material",
   "metadata": {
    "execution": {
     "iopub.execute_input": "2021-05-27T16:23:54.421310Z",
     "iopub.status.busy": "2021-05-27T16:23:54.421071Z",
     "iopub.status.idle": "2021-05-27T16:23:54.585461Z",
     "shell.execute_reply": "2021-05-27T16:23:54.584814Z",
     "shell.execute_reply.started": "2021-05-27T16:23:54.421286Z"
    },
    "tags": []
   },
   "outputs": [
    {
     "name": "stdout",
     "output_type": "stream",
     "text": [
      "👌 Well done! Your Assets has been sent to production.\n",
      "\n"
     ]
    },
    {
     "name": "stderr",
     "output_type": "stream",
     "text": [
      "/opt/conda/lib/python3.8/site-packages/naas/assets.py:30: UserWarning: [Warning], naas.assets is deprecated,\n",
      " use naas.asset instead, it will be remove in 1 june 2021\n",
      "  warnings.warn(\n"
     ]
    },
    {
     "data": {
      "application/javascript": [
       "\n",
       "    if (!window.copyToClipboard) {\n",
       "        window.copyToClipboard = (text) => {\n",
       "            const dummy = document.createElement(\"textarea\");\n",
       "            document.body.appendChild(dummy);\n",
       "            dummy.value = text;\n",
       "            dummy.select();\n",
       "            document.execCommand(\"copy\");\n",
       "            document.body.removeChild(dummy);\n",
       "        }\n",
       "    }\n",
       "    "
      ],
      "text/plain": [
       "<IPython.core.display.Javascript object>"
      ]
     },
     "metadata": {},
     "output_type": "display_data"
    },
    {
     "data": {
      "application/vnd.jupyter.widget-view+json": {
       "model_id": "446e4e230b514d3fa27b686ca915dfda",
       "version_major": 2,
       "version_minor": 0
      },
      "text/plain": [
       "Button(button_style='primary', description='Copy URL', style=ButtonStyle())"
      ]
     },
     "metadata": {},
     "output_type": "display_data"
    },
    {
     "data": {
      "application/vnd.jupyter.widget-view+json": {
       "model_id": "7f6658a15b4b4f7db4c6828b6adaeb15",
       "version_major": 2,
       "version_minor": 0
      },
      "text/plain": [
       "Output()"
      ]
     },
     "metadata": {},
     "output_type": "display_data"
    },
    {
     "name": "stdout",
     "output_type": "stream",
     "text": [
      "PS: to remove the \"Assets\" feature, just replace .add by .delete\n"
     ]
    },
    {
     "data": {
      "text/plain": [
       "'https://public.naas.ai/c29mdHdhcmUtNDBwZXRlcnR1cm5lci0yRWNvLTJFemE=/asset/a7cffde80d0a9cd8374c849c2cfdf68e890463f32fa7d134f4ec7972558d'"
      ]
     },
     "execution_count": 43,
     "metadata": {},
     "output_type": "execute_result"
    }
   ],
   "source": [
    "naas.assets.add('nasa_sealevel_output.csv')"
   ]
  },
  {
   "cell_type": "code",
   "execution_count": 39,
   "id": "narrow-potato",
   "metadata": {
    "execution": {
     "iopub.execute_input": "2021-05-27T16:19:50.368881Z",
     "iopub.status.busy": "2021-05-27T16:19:50.368516Z",
     "iopub.status.idle": "2021-05-27T16:19:50.373611Z",
     "shell.execute_reply": "2021-05-27T16:19:50.372779Z",
     "shell.execute_reply.started": "2021-05-27T16:19:50.368838Z"
    },
    "tags": []
   },
   "outputs": [
    {
     "data": {
      "text/plain": [
       "<naas.assets.Assets at 0x7fac58889d30>"
      ]
     },
     "execution_count": 39,
     "metadata": {},
     "output_type": "execute_result"
    }
   ],
   "source": [
    "df.to_csv('data_')"
   ]
  },
  {
   "cell_type": "code",
   "execution_count": 14,
   "id": "hairy-voltage",
   "metadata": {
    "execution": {
     "iopub.execute_input": "2021-05-27T15:51:47.563496Z",
     "iopub.status.busy": "2021-05-27T15:51:47.563259Z",
     "iopub.status.idle": "2021-05-27T15:52:24.071748Z",
     "shell.execute_reply": "2021-05-27T15:52:24.071129Z",
     "shell.execute_reply.started": "2021-05-27T15:51:47.563472Z"
    },
    "tags": []
   },
   "outputs": [
    {
     "data": {
      "text/plain": [
       "9.672612457127427"
      ]
     },
     "execution_count": 14,
     "metadata": {},
     "output_type": "execute_result"
    }
   ],
   "source": [
    "indicator.value(method='arima')"
   ]
  },
  {
   "cell_type": "code",
   "execution_count": 15,
   "id": "fatty-image",
   "metadata": {
    "execution": {
     "iopub.execute_input": "2021-05-27T15:52:24.073014Z",
     "iopub.status.busy": "2021-05-27T15:52:24.072813Z",
     "iopub.status.idle": "2021-05-27T15:52:24.405375Z",
     "shell.execute_reply": "2021-05-27T15:52:24.404792Z",
     "shell.execute_reply.started": "2021-05-27T15:52:24.072991Z"
    }
   },
   "outputs": [
    {
     "data": {
      "image/png": "[encoded data removed]",
      "text/plain": [
       "<Figure size 1152x288 with 1 Axes>"
      ]
     },
     "metadata": {
      "needs_background": "light"
     },
     "output_type": "display_data"
    }
   ],
   "source": [
    "indicator.plot_projection(method='curve_fit')"
   ]
  },
  {
   "cell_type": "code",
   "execution_count": 26,
   "id": "incredible-identification",
   "metadata": {},
   "outputs": [
    {
     "data": {
      "image/png": "[encoded data removed]",
      "text/plain": [
       "<Figure size 1152x288 with 1 Axes>"
      ]
     },
     "metadata": {
      "needs_background": "light"
     },
     "output_type": "display_data"
    }
   ],
   "source": [
    "indicator.plot_projection(method='arima')"
   ]
  },
  {
   "cell_type": "markdown",
   "id": "cleared-tuition",
   "metadata": {},
   "source": [
    "## Dataset\n",
    "Source: Nasa (https://climate.nasa.gov/vital-signs/sea-level/)\n",
    "URL: https://podaac-tools.jpl.nasa.gov/drive/files/allData/merged_alt/L2/TP_J1_OSTM/global_mean_sea_level/GMSL_TPJAOS_5.0_199209_202102.txt"
   ]
  },
  {
   "cell_type": "code",
   "execution_count": 5,
   "id": "limited-oracle",
   "metadata": {
    "execution": {
     "iopub.execute_input": "2021-05-27T15:50:15.823486Z",
     "iopub.status.busy": "2021-05-27T15:50:15.823184Z",
     "iopub.status.idle": "2021-05-27T15:50:15.827324Z",
     "shell.execute_reply": "2021-05-27T15:50:15.826612Z",
     "shell.execute_reply.started": "2021-05-27T15:50:15.823454Z"
    }
   },
   "outputs": [],
   "source": [
    "'''\n",
    "Column descriptions\n",
    "    1 altimeter type 0=dual-frequency  999=single frequency (ie Poseidon-1) \n",
    "    2 merged file cycle # \n",
    "    3 year+fraction of year (mid-cycle) \n",
    "    4 number of observations \n",
    "    5 number of weighted observations \n",
    "    6 GMSL (Global Isostatic Adjustment (GIA) not applied) variation (mm) with respect to 20-year \n",
    "        TOPEX/Jason collinear mean reference \n",
    "    7 standard deviation of GMSL (GIA not applied) variation estimate (mm)\n",
    "    8 smoothed (60-day Gaussian type filter) GMSL (GIA not applied) variation (mm)  \n",
    "    9 GMSL (Global Isostatic Adjustment (GIA) applied) variation (mm) with respect to 20-year \n",
    "        TOPEX/Jason collinear mean reference \n",
    "    10 standard deviation of GMSL (GIA applied) variation estimate (mm)\n",
    "    11 smoothed (60-day Gaussian type filter) GMSL (GIA applied) variation (mm)\n",
    "    12 smoothed (60-day Gaussian type filter) GMSL (GIA applied) variation (mm); \n",
    "      annual and semi-annual signal removed\n",
    "Learn more @ https://sealevel.colorado.edu/presentation/what-definition-global-mean-sea-level-gmsl-and-its-rate\n",
    "'''\n",
    "pass"
   ]
  },
  {
   "cell_type": "markdown",
   "id": "contrary-elder",
   "metadata": {},
   "source": [
    "## Code"
   ]
  },
  {
   "cell_type": "code",
   "execution_count": 36,
   "id": "average-calcium",
   "metadata": {
    "execution": {
     "iopub.execute_input": "2021-05-27T16:19:43.986851Z",
     "iopub.status.busy": "2021-05-27T16:19:43.986623Z",
     "iopub.status.idle": "2021-05-27T16:19:44.018576Z",
     "shell.execute_reply": "2021-05-27T16:19:44.017901Z",
     "shell.execute_reply.started": "2021-05-27T16:19:43.986828Z"
    },
    "tags": []
   },
   "outputs": [],
   "source": [
    "class SeaLevelIndicator():\n",
    "    def __init__(self, filepath):\n",
    "        self.filepath = filepath\n",
    "        self.df = self.get_df()\n",
    "        \n",
    "        \n",
    "    def value_df(self, method='curve_fit'):\n",
    "        value = self.value(method)\n",
    "        data = {'DATE_PROCESSED': [datetime.today().date()],\n",
    "                'INDICATOR': 'Sea Level',\n",
    "                 'VALUE': [indicator.value()]}\n",
    "        return pd.DataFrame.from_dict(data)\n",
    "        \n",
    "    def value(self, method='curve_fit'):\n",
    "        # interpolate value out of ten\n",
    "        m = (10-0)/(self.best_case(value_only=True)-self.worst_case(value_only=True))\n",
    "        c = -self.worst_case(value_only=True) * m\n",
    "        return m * self.current_projection(method=method, value_only=True) + c\n",
    "    \n",
    "    def current_projection(self, method='curve_fit', value_only=False):\n",
    "        value = None\n",
    "        if method.lower() == 'curve_fit':\n",
    "            x = mdates.date2num(self.df_per_year['smoothed_GMSL_gia_signal_rem'].index)\n",
    "            y = (self.df_per_year['smoothed_GMSL_gia_signal_rem'] \\\n",
    "                 + abs(self.df_per_year['smoothed_GMSL_gia_signal_rem'].min())).values\n",
    "            z4 = np.polyfit(x, y, 3)\n",
    "            p4 = np.poly1d(z4)\n",
    "            xx = np.linspace(x.min(), mdates.date2num(datetime(2100, 12, 31)), 100)\n",
    "            dd = mdates.num2date(xx)\n",
    "            df = pd.DataFrame(data=p4(xx), index=dd) \n",
    "            value = df.iloc[-1].values[0]\n",
    "        elif method.lower() == 'arima':\n",
    "            df = self.df_starting_from_zero.copy()\n",
    "            df = df.resample('M').mean()\n",
    "            df.index = pd.PeriodIndex(df.index, freq=\"M\")\n",
    "            y_train, y_test = temporal_train_test_split(df['smoothed_GMSL_gia_signal_rem'],\n",
    "                                                        test_size=180)\n",
    "            future_months = (pd.Period('2100-12') - df['smoothed_GMSL_gia_signal_rem'].index[-1]).n\n",
    "            forecaster = AutoARIMA(sp=12, suppress_warnings=True)\n",
    "            alpha = 0.05  # 95% prediction intervals\n",
    "            fh = np.arange(future_months) + 1 # forecast_horizon\n",
    "            forecaster.fit(df['smoothed_GMSL_gia_signal_rem'])\n",
    "            y_pred, pred_ints = forecaster.predict(fh, return_pred_int=True, alpha=alpha)\n",
    "            value = y_pred.iloc[-1]\n",
    "        if value_only:\n",
    "            return value\n",
    "        return {'date': 'December 2100',\n",
    "                 'period': '2100-12',\n",
    "                 'units': 'Sea Level above 2000 Levels (mm)',\n",
    "                 'value': value}\n",
    "            \n",
    "    def best_case(self, value_only=False):\n",
    "        # Source: https://tidesandcurrents.noaa.gov/publications/techrpt83_Global_and_Regional_SLR_Scenarios_for_the_US_final.pdf\n",
    "        recorded_value = 300\n",
    "        if value_only:\n",
    "            return recorded_value\n",
    "        return {'date': 'December 2100', 'period': '2100-12', \n",
    "                'units': 'Sea Level above 2000 Levels (mm)', 'value': recorded_value}\n",
    "    \n",
    "    def worst_case(self, value_only=False):\n",
    "        # Source: https://tidesandcurrents.noaa.gov/publications/techrpt83_Global_and_Regional_SLR_Scenarios_for_the_US_final.pdf\n",
    "        recorded_value = 2500\n",
    "        if value_only:\n",
    "            return recorded_value\n",
    "        return {'date': 'December 2100', 'period': '2100-12', \n",
    "                'units': 'Sea Level above 2000 Levels (mm)', 'value': recorded_value}\n",
    "    \n",
    "    def plot_projection(self, method='curve_fit'):\n",
    "        if method.lower() == 'curve_fit':\n",
    "            x = mdates.date2num(self.df_per_year['smoothed_GMSL_gia_signal_rem'].index)\n",
    "            y = (self.df_per_year['smoothed_GMSL_gia_signal_rem'] \\\n",
    "                 + abs(self.df_per_year['smoothed_GMSL_gia_signal_rem'].min())).values\n",
    "            z4 = np.polyfit(x, y, 3)\n",
    "            p4 = np.poly1d(z4)\n",
    "\n",
    "            fig, cx = plt.subplots(figsize=(16, 4))\n",
    "\n",
    "            xx = np.linspace(x.min(), mdates.date2num(datetime(2100, 12, 31)), 100)\n",
    "            dd = mdates.num2date(xx)\n",
    "\n",
    "            cx.plot(dd, p4(xx), '-g')\n",
    "            cx.plot(x, y, '+', color='b', label='blub')\n",
    "            cx.errorbar(x, y,\n",
    "                         marker='.',\n",
    "                         color='k',\n",
    "                         ecolor='b',\n",
    "                         markerfacecolor='b',\n",
    "                         label=\"series 1\",\n",
    "                         capsize=0,\n",
    "                         linestyle='')\n",
    "            cx.grid()\n",
    "            plt.show()\n",
    "            \n",
    "        elif method.lower() == 'arima':\n",
    "            # Set the frequency of the index, Sktime needs this to work\n",
    "            df = self.df_starting_from_zero.copy()\n",
    "            df = df.resample('M').mean()\n",
    "            df.index = pd.PeriodIndex(df.index, freq=\"M\")\n",
    "            y_train, y_test = temporal_train_test_split(df['smoothed_GMSL_gia_signal_rem'],\n",
    "                                                        test_size=180)\n",
    "            future_months = (pd.Period('2100-12') - df['smoothed_GMSL_gia_signal_rem'].index[-1]).n\n",
    "            forecaster = AutoARIMA(sp=12, suppress_warnings=True)\n",
    "            alpha = 0.05  # 95% prediction intervals\n",
    "            fh = np.arange(future_months) + 1 # forecast_horizon\n",
    "            forecaster.fit(df['smoothed_GMSL_gia_signal_rem'])\n",
    "            y_pred, pred_ints = forecaster.predict(fh, return_pred_int=True, alpha=alpha)\n",
    "            fig, ax = plot_series(df['smoothed_GMSL_gia_signal_rem'], \n",
    "                                  y_pred, labels=[\"y_train\", \"y_pred\"])\n",
    "            ax.fill_between(\n",
    "                ax.get_lines()[-1].get_xdata(),\n",
    "                pred_ints[\"lower\"],\n",
    "                pred_ints[\"upper\"],\n",
    "                alpha=0.2,\n",
    "                color=ax.get_lines()[-1].get_c(),\n",
    "                label=f\"{1 - alpha}% prediction intervals\",\n",
    "            )\n",
    "            ax.legend();\n",
    "            \n",
    "            \n",
    "    def get_df(self):\n",
    "        cols = ['altimeter_type','merged_file_cycle_#','yearfrac','num_obs','num_w_obs', 'GMSL_variation_mm',\n",
    "        'std_GMSL','smoothed_GMSL','GMSL_GIA_variation_mm','std_GMSL_GIA','smoothed_gia_GMSL',\n",
    "        'smoothed_GMSL_gia_signal_rem']\n",
    "        with open(self.filepath, 'r') as f:\n",
    "            data = f.read()\n",
    "        data = [d[1:] for d in data.split('\\n') if 'HDR' not in d]\n",
    "        df = pd.DataFrame([l.split() for l in data], dtype=float, columns=cols)\n",
    "        # Pre-processing        \n",
    "        def convert_yearfrac_to_datetime(yearfrac):\n",
    "            year = int(yearfrac)\n",
    "            rem = yearfrac - year\n",
    "            base = datetime(year, 1, 1)\n",
    "            return base + timedelta(seconds=(base.replace(year=base.year + 1) - base).total_seconds() * rem)\n",
    "        df['datetime'] = df['yearfrac'].apply(lambda year: convert_yearfrac_to_datetime(year))\n",
    "        df = df[['datetime', 'smoothed_GMSL_gia_signal_rem']].set_index('datetime')\n",
    "        return df\n",
    "    \n",
    "    def current_value(self, value_only=False):\n",
    "        res = requests.get('https://climate.nasa.gov/vital-signs/sea-level/')\n",
    "        soup = BeautifulSoup(res.text, 'html.parser')\n",
    "        measurement = soup.find_all(\"div\", {\"class\": \"latest_measurement\"})[0]\n",
    "        date = measurement.find(\"span\", {\"class\": \"month_year\"}).text.strip()\n",
    "        value = measurement.find(\"div\", {\"class\": \"value\"}).text.split('(')[0].strip()\n",
    "        if value_only:\n",
    "            return value\n",
    "        try:\n",
    "            period = dateutil.parser.parse(date).strftime('%Y-%m')\n",
    "        except:\n",
    "            period = None\n",
    "        return {'date': date, 'period': period, 'current_value': value}\n",
    "    \n",
    "    @property\n",
    "    def df_starting_from_zero(self):\n",
    "        return self.df + abs(self.df.min()) # Here we add the minimum ensure measurements start at zero\n",
    "    \n",
    "    @property\n",
    "    def df_per_year(self):\n",
    "        return self.df.resample('Y').mean()\n",
    "        \n",
    "        "
   ]
  },
  {
   "cell_type": "code",
   "execution_count": null,
   "id": "fabulous-enemy",
   "metadata": {},
   "outputs": [],
   "source": [
    "# To Do \n",
    "# Neaten u notebook\n",
    "# Test exponential upon adding datapoint\n",
    "# Obtain indicator (based on exponential function)\n",
    "# Try make notebook automatically updateable (retrieve data and clean automatically??)\n",
    "# Make whatever-obtains-indicator a single function\n",
    "# Package everything in a zip file and give to Jeremy"
   ]
  },
  {
   "cell_type": "markdown",
   "id": "bored-preview",
   "metadata": {},
   "source": [
    "# Working"
   ]
  },
  {
   "cell_type": "markdown",
   "id": "subtle-springfield",
   "metadata": {},
   "source": [
    "## Dataset\n",
    "Source: Nasa (https://climate.nasa.gov/vital-signs/sea-level/)\n",
    "URL: https://podaac-tools.jpl.nasa.gov/drive/files/allData/merged_alt/L2/TP_J1_OSTM/global_mean_sea_level/GMSL_TPJAOS_5.0_199209_202102.txt"
   ]
  },
  {
   "cell_type": "code",
   "execution_count": 182,
   "id": "ruled-breach",
   "metadata": {},
   "outputs": [],
   "source": [
    "## Column descriptions ##\n",
    "# 1 altimeter type 0=dual-frequency  999=single frequency (ie Poseidon-1) \n",
    "# 2 merged file cycle # \n",
    "# 3 year+fraction of year (mid-cycle) \n",
    "# 4 number of observations \n",
    "# 5 number of weighted observations \n",
    "# 6 GMSL (Global Isostatic Adjustment (GIA) not applied) variation (mm) with respect to 20-year \n",
    "#   TOPEX/Jason collinear mean reference \n",
    "# 7 standard deviation of GMSL (GIA not applied) variation estimate (mm)\n",
    "# 8 smoothed (60-day Gaussian type filter) GMSL (GIA not applied) variation (mm)  \n",
    "# 9 GMSL (Global Isostatic Adjustment (GIA) applied) variation (mm) with respect to 20-year \n",
    "#   TOPEX/Jason collinear mean reference \n",
    "# 10 standard deviation of GMSL (GIA applied) variation estimate (mm)\n",
    "# 11 smoothed (60-day Gaussian type filter) GMSL (GIA applied) variation (mm)\n",
    "# 12 smoothed (60-day Gaussian type filter) GMSL (GIA applied) variation (mm); \n",
    "#    annual and semi-annual signal removed\n",
    "\n",
    "# Learn more @ https://sealevel.colorado.edu/presentation/what-definition-global-mean-sea-level-gmsl-and-its-rate"
   ]
  },
  {
   "cell_type": "markdown",
   "id": "wired-corps",
   "metadata": {},
   "source": [
    "### 1. Get Current Value of Variable"
   ]
  },
  {
   "cell_type": "code",
   "execution_count": 712,
   "id": "perceived-radio",
   "metadata": {},
   "outputs": [
    {
     "data": {
      "text/plain": [
       "{'date': 'January 2021', 'period': '2021-01', 'current_value': '98'}"
      ]
     },
     "execution_count": 712,
     "metadata": {},
     "output_type": "execute_result"
    }
   ],
   "source": [
    "# 1.) Current sea height variation\n",
    "def get_current_value():\n",
    "    res = requests.get('https://climate.nasa.gov/vital-signs/sea-level/')\n",
    "    soup = BeautifulSoup(res.text, 'html.parser')\n",
    "    measurement = soup.find_all(\"div\", {\"class\": \"latest_measurement\"})[0]\n",
    "    date = measurement.find(\"span\", {\"class\": \"month_year\"}).text.strip()\n",
    "    value = measurement.find(\"div\", {\"class\": \"value\"}).text.split('(')[0].strip()\n",
    "    try:\n",
    "        period = dateutil.parser.parse(date).strftime('%Y-%m')\n",
    "    except:\n",
    "        period = None\n",
    "    return {'date': date, 'period': period, 'current_value': value}\n",
    "current_value = get_current_value()\n",
    "current_value"
   ]
  },
  {
   "cell_type": "code",
   "execution_count": 711,
   "id": "behavioral-premises",
   "metadata": {},
   "outputs": [
    {
     "data": {
      "text/plain": [
       "'2021-01'"
      ]
     },
     "execution_count": 711,
     "metadata": {},
     "output_type": "execute_result"
    }
   ],
   "source": [
    "dateutil.parser.parse('January 2021').strftime('%Y-%m')"
   ]
  },
  {
   "cell_type": "code",
   "execution_count": 699,
   "id": "molecular-glory",
   "metadata": {},
   "outputs": [
    {
     "data": {
      "text/html": [
       "<div>\n",
       "<style scoped>\n",
       "    .dataframe tbody tr th:only-of-type {\n",
       "        vertical-align: middle;\n",
       "    }\n",
       "\n",
       "    .dataframe tbody tr th {\n",
       "        vertical-align: top;\n",
       "    }\n",
       "\n",
       "    .dataframe thead th {\n",
       "        text-align: right;\n",
       "    }\n",
       "</style>\n",
       "<table border=\"1\" class=\"dataframe\">\n",
       "  <thead>\n",
       "    <tr style=\"text-align: right;\">\n",
       "      <th></th>\n",
       "      <th>smoothed_GMSL_gia_signal_rem</th>\n",
       "    </tr>\n",
       "    <tr>\n",
       "      <th>datetime</th>\n",
       "      <th></th>\n",
       "    </tr>\n",
       "  </thead>\n",
       "  <tbody>\n",
       "    <tr>\n",
       "      <th>1993-12-31</th>\n",
       "      <td>-34.508378</td>\n",
       "    </tr>\n",
       "    <tr>\n",
       "      <th>1994-12-31</th>\n",
       "      <td>-30.531892</td>\n",
       "    </tr>\n",
       "    <tr>\n",
       "      <th>1995-12-31</th>\n",
       "      <td>-27.358108</td>\n",
       "    </tr>\n",
       "    <tr>\n",
       "      <th>1996-12-31</th>\n",
       "      <td>-25.287222</td>\n",
       "    </tr>\n",
       "    <tr>\n",
       "      <th>1997-12-31</th>\n",
       "      <td>-21.255676</td>\n",
       "    </tr>\n",
       "    <tr>\n",
       "      <th>1998-12-31</th>\n",
       "      <td>-23.634865</td>\n",
       "    </tr>\n",
       "    <tr>\n",
       "      <th>1999-12-31</th>\n",
       "      <td>-20.027297</td>\n",
       "    </tr>\n",
       "    <tr>\n",
       "      <th>2000-12-31</th>\n",
       "      <td>-16.777027</td>\n",
       "    </tr>\n",
       "    <tr>\n",
       "      <th>2001-12-31</th>\n",
       "      <td>-11.202703</td>\n",
       "    </tr>\n",
       "    <tr>\n",
       "      <th>2002-12-31</th>\n",
       "      <td>-7.068333</td>\n",
       "    </tr>\n",
       "    <tr>\n",
       "      <th>2003-12-31</th>\n",
       "      <td>-3.707297</td>\n",
       "    </tr>\n",
       "    <tr>\n",
       "      <th>2004-12-31</th>\n",
       "      <td>-1.745135</td>\n",
       "    </tr>\n",
       "    <tr>\n",
       "      <th>2005-12-31</th>\n",
       "      <td>3.045676</td>\n",
       "    </tr>\n",
       "    <tr>\n",
       "      <th>2006-12-31</th>\n",
       "      <td>4.505000</td>\n",
       "    </tr>\n",
       "    <tr>\n",
       "      <th>2007-12-31</th>\n",
       "      <td>5.102703</td>\n",
       "    </tr>\n",
       "    <tr>\n",
       "      <th>2008-12-31</th>\n",
       "      <td>7.279722</td>\n",
       "    </tr>\n",
       "    <tr>\n",
       "      <th>2009-12-31</th>\n",
       "      <td>12.381892</td>\n",
       "    </tr>\n",
       "    <tr>\n",
       "      <th>2010-12-31</th>\n",
       "      <td>13.681081</td>\n",
       "    </tr>\n",
       "    <tr>\n",
       "      <th>2011-12-31</th>\n",
       "      <td>13.027027</td>\n",
       "    </tr>\n",
       "    <tr>\n",
       "      <th>2012-12-31</th>\n",
       "      <td>23.917297</td>\n",
       "    </tr>\n",
       "    <tr>\n",
       "      <th>2013-12-31</th>\n",
       "      <td>26.337027</td>\n",
       "    </tr>\n",
       "    <tr>\n",
       "      <th>2014-12-31</th>\n",
       "      <td>29.987222</td>\n",
       "    </tr>\n",
       "    <tr>\n",
       "      <th>2015-12-31</th>\n",
       "      <td>40.970811</td>\n",
       "    </tr>\n",
       "    <tr>\n",
       "      <th>2016-12-31</th>\n",
       "      <td>43.237568</td>\n",
       "    </tr>\n",
       "    <tr>\n",
       "      <th>2017-12-31</th>\n",
       "      <td>44.343514</td>\n",
       "    </tr>\n",
       "    <tr>\n",
       "      <th>2018-12-31</th>\n",
       "      <td>48.671892</td>\n",
       "    </tr>\n",
       "    <tr>\n",
       "      <th>2019-12-31</th>\n",
       "      <td>55.639730</td>\n",
       "    </tr>\n",
       "    <tr>\n",
       "      <th>2020-12-31</th>\n",
       "      <td>56.573056</td>\n",
       "    </tr>\n",
       "    <tr>\n",
       "      <th>2021-12-31</th>\n",
       "      <td>59.630000</td>\n",
       "    </tr>\n",
       "  </tbody>\n",
       "</table>\n",
       "</div>"
      ],
      "text/plain": [
       "            smoothed_GMSL_gia_signal_rem\n",
       "datetime                                \n",
       "1993-12-31                    -34.508378\n",
       "1994-12-31                    -30.531892\n",
       "1995-12-31                    -27.358108\n",
       "1996-12-31                    -25.287222\n",
       "1997-12-31                    -21.255676\n",
       "1998-12-31                    -23.634865\n",
       "1999-12-31                    -20.027297\n",
       "2000-12-31                    -16.777027\n",
       "2001-12-31                    -11.202703\n",
       "2002-12-31                     -7.068333\n",
       "2003-12-31                     -3.707297\n",
       "2004-12-31                     -1.745135\n",
       "2005-12-31                      3.045676\n",
       "2006-12-31                      4.505000\n",
       "2007-12-31                      5.102703\n",
       "2008-12-31                      7.279722\n",
       "2009-12-31                     12.381892\n",
       "2010-12-31                     13.681081\n",
       "2011-12-31                     13.027027\n",
       "2012-12-31                     23.917297\n",
       "2013-12-31                     26.337027\n",
       "2014-12-31                     29.987222\n",
       "2015-12-31                     40.970811\n",
       "2016-12-31                     43.237568\n",
       "2017-12-31                     44.343514\n",
       "2018-12-31                     48.671892\n",
       "2019-12-31                     55.639730\n",
       "2020-12-31                     56.573056\n",
       "2021-12-31                     59.630000"
      ]
     },
     "execution_count": 699,
     "metadata": {},
     "output_type": "execute_result"
    }
   ],
   "source": [
    "indicator.df_per_year"
   ]
  },
  {
   "cell_type": "code",
   "execution_count": 650,
   "id": "painted-malawi",
   "metadata": {},
   "outputs": [
    {
     "data": {
      "text/plain": [
       "3.3"
      ]
     },
     "execution_count": 650,
     "metadata": {},
     "output_type": "execute_result"
    }
   ],
   "source": [
    "# 2.) Change in mm per year\n",
    "res = requests.get('https://climate.nasa.gov')\n",
    "soup = BeautifulSoup(res.text, 'html.parser')\n",
    "vital_containers = soup.find_all(\"div\", {\"class\": \"readout\"})\n",
    "def extract_vital(el):\n",
    "    vital = {}\n",
    "    vital['title'] = el.find(\"div\", {\"class\": \"title\"}).text.strip()\n",
    "    vital['units'] = el.find(\"div\", {\"class\": \"units\"}).text.strip()\n",
    "    temp = el.find(\"div\", {\"class\": \"change_number\"}).text.strip()\n",
    "    if isinstance(temp, str):\n",
    "        vital['value'] = float(temp)\n",
    "    else:\n",
    "        vital['value'] = temp\n",
    "    vital['description'] = el.find(\"div\", {\"class\": \"vital_signs_description\"}).text.strip()\n",
    "    return vital\n",
    "vitals = [extract_vital(el) for el in vital_containers]\n",
    "def specific_vital(title):\n",
    "    for vital in vitals:\n",
    "        if vital.get('title') == title:\n",
    "            return vital\n",
    "    return None\n",
    "current_change_per_year = specific_vital('Sea Level')['value']\n",
    "current_change_per_year"
   ]
  },
  {
   "cell_type": "code",
   "execution_count": 651,
   "id": "julian-laser",
   "metadata": {},
   "outputs": [
    {
     "data": {
      "text/plain": [
       "{'title': 'Sea Level',\n",
       " 'units': 'millimeters per year',\n",
       " 'value': 3.3,\n",
       " 'description': 'Global average sea level has risen nearly 7\" (178 mm) over the past 100 years'}"
      ]
     },
     "execution_count": 651,
     "metadata": {},
     "output_type": "execute_result"
    }
   ],
   "source": [
    "specific_vital('Sea Level')"
   ]
  },
  {
   "cell_type": "markdown",
   "id": "noble-dynamics",
   "metadata": {},
   "source": [
    "### 2. Get Current Projection of Variable\n"
   ]
  },
  {
   "cell_type": "code",
   "execution_count": 417,
   "id": "accomplished-purchase",
   "metadata": {},
   "outputs": [
    {
     "data": {
      "text/html": [
       "<div>\n",
       "<style scoped>\n",
       "    .dataframe tbody tr th:only-of-type {\n",
       "        vertical-align: middle;\n",
       "    }\n",
       "\n",
       "    .dataframe tbody tr th {\n",
       "        vertical-align: top;\n",
       "    }\n",
       "\n",
       "    .dataframe thead th {\n",
       "        text-align: right;\n",
       "    }\n",
       "</style>\n",
       "<table border=\"1\" class=\"dataframe\">\n",
       "  <thead>\n",
       "    <tr style=\"text-align: right;\">\n",
       "      <th></th>\n",
       "      <th>altimeter_type</th>\n",
       "      <th>merged_file_cycle_#</th>\n",
       "      <th>yearfrac</th>\n",
       "      <th>num_obs</th>\n",
       "      <th>num_w_obs</th>\n",
       "      <th>GMSL_variation_mm</th>\n",
       "      <th>std_GMSL</th>\n",
       "      <th>smoothed_GMSL</th>\n",
       "      <th>GMSL_GIA_variation_mm</th>\n",
       "      <th>std_GMSL_GIA</th>\n",
       "      <th>smoothed_gia_GMSL</th>\n",
       "      <th>smoothed_GMSL_gia_signal_rem</th>\n",
       "    </tr>\n",
       "  </thead>\n",
       "  <tbody>\n",
       "    <tr>\n",
       "      <th>0</th>\n",
       "      <td>0</td>\n",
       "      <td>11</td>\n",
       "      <td>1993.011526</td>\n",
       "      <td>452600</td>\n",
       "      <td>327401.31</td>\n",
       "      <td>-38.59</td>\n",
       "      <td>89.86</td>\n",
       "      <td>-38.76</td>\n",
       "      <td>-38.59</td>\n",
       "      <td>89.86</td>\n",
       "      <td>-38.75</td>\n",
       "      <td>-38.57</td>\n",
       "    </tr>\n",
       "    <tr>\n",
       "      <th>1</th>\n",
       "      <td>0</td>\n",
       "      <td>12</td>\n",
       "      <td>1993.038692</td>\n",
       "      <td>447591</td>\n",
       "      <td>324498.41</td>\n",
       "      <td>-41.97</td>\n",
       "      <td>90.86</td>\n",
       "      <td>-39.78</td>\n",
       "      <td>-41.97</td>\n",
       "      <td>90.86</td>\n",
       "      <td>-39.77</td>\n",
       "      <td>-39.11</td>\n",
       "    </tr>\n",
       "  </tbody>\n",
       "</table>\n",
       "</div>"
      ],
      "text/plain": [
       "   altimeter_type  merged_file_cycle_#     yearfrac  num_obs  num_w_obs  \\\n",
       "0               0                   11  1993.011526   452600  327401.31   \n",
       "1               0                   12  1993.038692   447591  324498.41   \n",
       "\n",
       "    GMSL_variation_mm  std_GMSL  smoothed_GMSL  GMSL_GIA_variation_mm  \\\n",
       "0              -38.59     89.86         -38.76                 -38.59   \n",
       "1              -41.97     90.86         -39.78                 -41.97   \n",
       "\n",
       "   std_GMSL_GIA  smoothed_gia_GMSL  smoothed_GMSL_gia_signal_rem  \n",
       "0         89.86             -38.75                        -38.57  \n",
       "1         90.86             -39.77                        -39.11  "
      ]
     },
     "execution_count": 417,
     "metadata": {},
     "output_type": "execute_result"
    }
   ],
   "source": [
    "df = pd.read_csv('nasa-wrangled.txt', skiprows=30)\n",
    "df.head(2)"
   ]
  },
  {
   "cell_type": "code",
   "execution_count": 418,
   "id": "organizational-creature",
   "metadata": {},
   "outputs": [],
   "source": [
    "def convert_yearfrac_to_datetime(yearfrac):\n",
    "    year = int(yearfrac)\n",
    "    rem = yearfrac - year\n",
    "    base = datetime(year, 1, 1)\n",
    "    return base + timedelta(seconds=(base.replace(year=base.year + 1) - base).total_seconds() * rem)\n",
    "def sea_level(row):\n",
    "    return row[['TOPEX/Poseidon', 'Jason-1', 'Jason-2', 'Jason-3']].mean()\n",
    "\n",
    "df['datetime'] = df['yearfrac'].apply(lambda year: convert_yearfrac_to_datetime(year))"
   ]
  },
  {
   "cell_type": "code",
   "execution_count": 419,
   "id": "funded-coating",
   "metadata": {},
   "outputs": [],
   "source": [
    "columns = ['datetime', 'smoothed_GMSL_gia_signal_rem']\n",
    "df = df[columns].set_index('datetime')\n",
    "sea_height_variation = df + abs(df.min()) # Here we add the minimum ensure measurements start at zero\n",
    "sea_height_variation_py = df.resample('Y').mean()\n",
    "# df.resample('Y').mean().diff().plot()"
   ]
  },
  {
   "cell_type": "code",
   "execution_count": null,
   "id": "geographic-basis",
   "metadata": {},
   "outputs": [],
   "source": []
  },
  {
   "cell_type": "code",
   "execution_count": 420,
   "id": "artificial-township",
   "metadata": {},
   "outputs": [
    {
     "data": {
      "text/plain": [
       "<AxesSubplot:xlabel='datetime'>"
      ]
     },
     "execution_count": 420,
     "metadata": {},
     "output_type": "execute_result"
    },
    {
     "data": {
      "image/png": "[encoded data removed]",
      "text/plain": [
       "<Figure size 1152x288 with 1 Axes>"
      ]
     },
     "metadata": {
      "needs_background": "light"
     },
     "output_type": "display_data"
    }
   ],
   "source": [
    "sea_height_variation['smoothed_GMSL_gia_signal_rem'].plot(figsize=(16, 4))"
   ]
  },
  {
   "cell_type": "code",
   "execution_count": 421,
   "id": "short-fiber",
   "metadata": {},
   "outputs": [
    {
     "name": "stdout",
     "output_type": "stream",
     "text": [
      "Training dataset size = 158 values, test dataset size = 180\n"
     ]
    },
    {
     "data": {
      "image/png": "[encoded data removed]",
      "text/plain": [
       "<Figure size 1152x288 with 1 Axes>"
      ]
     },
     "metadata": {
      "needs_background": "light"
     },
     "output_type": "display_data"
    }
   ],
   "source": [
    "# Set the frequency of the index, Sktime needs this to work\n",
    "sea_height_variation = sea_height_variation.resample('M').mean()\n",
    "sea_height_variation.index = pd.PeriodIndex(sea_height_variation.index, freq=\"M\")\n",
    "y_train, y_test = temporal_train_test_split(sea_height_variation['smoothed_GMSL_gia_signal_rem'],\n",
    "                                            test_size=180)\n",
    "plot_series(y_train, y_test, labels=[\"y_train\", \"y_test\"])\n",
    "print(f'Training dataset size = {y_train.shape[0]} values, test dataset size = {y_test.shape[0]}')"
   ]
  },
  {
   "cell_type": "code",
   "execution_count": 422,
   "id": "technical-nigeria",
   "metadata": {},
   "outputs": [],
   "source": [
    "fh = np.arange(len(y_test)) + 1"
   ]
  },
  {
   "cell_type": "code",
   "execution_count": 470,
   "id": "enhanced-indicator",
   "metadata": {},
   "outputs": [],
   "source": [
    "forecaster = AutoARIMA(sp=12, suppress_warnings=True)\n",
    "alpha = 0.05  # 95% prediction intervals"
   ]
  },
  {
   "cell_type": "code",
   "execution_count": 471,
   "id": "armed-antenna",
   "metadata": {},
   "outputs": [
    {
     "name": "stdout",
     "output_type": "stream",
     "text": [
      "The mean absolute error is 0.06977963678811258\n"
     ]
    }
   ],
   "source": [
    "forecaster.fit(y_train)\n",
    "y_pred, pred_ints = forecaster.predict(fh, return_pred_int=True, alpha=alpha)\n",
    "error = mean_absolute_percentage_error(y_pred, y_test)\n",
    "print(f'The mean absolute error is {error}')"
   ]
  },
  {
   "cell_type": "code",
   "execution_count": 472,
   "id": "median-briefing",
   "metadata": {},
   "outputs": [
    {
     "data": {
      "image/png": "[encoded data removed]",
      "text/plain": [
       "<Figure size 1152x288 with 1 Axes>"
      ]
     },
     "metadata": {
      "needs_background": "light"
     },
     "output_type": "display_data"
    }
   ],
   "source": [
    "fig, ax = plot_series(y_train, y_test, y_pred, labels=[\"y_train\", \"y_test\", \"y_pred\"])\n",
    "ax.fill_between(\n",
    "    ax.get_lines()[-1].get_xdata(),\n",
    "    pred_ints[\"lower\"],\n",
    "    pred_ints[\"upper\"],\n",
    "    alpha=0.2,\n",
    "    color=ax.get_lines()[-1].get_c(),\n",
    "    label=f\"{1 - alpha}% prediction intervals\",\n",
    ")\n",
    "ax.legend();"
   ]
  },
  {
   "cell_type": "code",
   "execution_count": 700,
   "id": "minor-sheep",
   "metadata": {},
   "outputs": [
    {
     "data": {
      "text/html": [
       "<div>\n",
       "<style scoped>\n",
       "    .dataframe tbody tr th:only-of-type {\n",
       "        vertical-align: middle;\n",
       "    }\n",
       "\n",
       "    .dataframe tbody tr th {\n",
       "        vertical-align: top;\n",
       "    }\n",
       "\n",
       "    .dataframe thead th {\n",
       "        text-align: right;\n",
       "    }\n",
       "</style>\n",
       "<table border=\"1\" class=\"dataframe\">\n",
       "  <thead>\n",
       "    <tr style=\"text-align: right;\">\n",
       "      <th></th>\n",
       "      <th>smoothed_GMSL_gia_signal_rem</th>\n",
       "    </tr>\n",
       "    <tr>\n",
       "      <th>datetime</th>\n",
       "      <th></th>\n",
       "    </tr>\n",
       "  </thead>\n",
       "  <tbody>\n",
       "    <tr>\n",
       "      <th>1993-01</th>\n",
       "      <td>0.356667</td>\n",
       "    </tr>\n",
       "    <tr>\n",
       "      <th>1993-02</th>\n",
       "      <td>1.933333</td>\n",
       "    </tr>\n",
       "    <tr>\n",
       "      <th>1993-03</th>\n",
       "      <td>4.826667</td>\n",
       "    </tr>\n",
       "    <tr>\n",
       "      <th>1993-04</th>\n",
       "      <td>5.686667</td>\n",
       "    </tr>\n",
       "    <tr>\n",
       "      <th>1993-05</th>\n",
       "      <td>5.573333</td>\n",
       "    </tr>\n",
       "    <tr>\n",
       "      <th>...</th>\n",
       "      <td>...</td>\n",
       "    </tr>\n",
       "    <tr>\n",
       "      <th>2020-10</th>\n",
       "      <td>97.003333</td>\n",
       "    </tr>\n",
       "    <tr>\n",
       "      <th>2020-11</th>\n",
       "      <td>96.720000</td>\n",
       "    </tr>\n",
       "    <tr>\n",
       "      <th>2020-12</th>\n",
       "      <td>96.850000</td>\n",
       "    </tr>\n",
       "    <tr>\n",
       "      <th>2021-01</th>\n",
       "      <td>98.607500</td>\n",
       "    </tr>\n",
       "    <tr>\n",
       "      <th>2021-02</th>\n",
       "      <td>99.270000</td>\n",
       "    </tr>\n",
       "  </tbody>\n",
       "</table>\n",
       "<p>338 rows × 1 columns</p>\n",
       "</div>"
      ],
      "text/plain": [
       "          smoothed_GMSL_gia_signal_rem\n",
       "datetime                              \n",
       "1993-01                       0.356667\n",
       "1993-02                       1.933333\n",
       "1993-03                       4.826667\n",
       "1993-04                       5.686667\n",
       "1993-05                       5.573333\n",
       "...                                ...\n",
       "2020-10                      97.003333\n",
       "2020-11                      96.720000\n",
       "2020-12                      96.850000\n",
       "2021-01                      98.607500\n",
       "2021-02                      99.270000\n",
       "\n",
       "[338 rows x 1 columns]"
      ]
     },
     "execution_count": 700,
     "metadata": {},
     "output_type": "execute_result"
    }
   ],
   "source": [
    "sea_height_variation"
   ]
  },
  {
   "cell_type": "code",
   "execution_count": 503,
   "id": "usual-tragedy",
   "metadata": {},
   "outputs": [
    {
     "data": {
      "image/png": "[encoded data removed]",
      "text/plain": [
       "<Figure size 1152x288 with 1 Axes>"
      ]
     },
     "metadata": {
      "needs_background": "light"
     },
     "output_type": "display_data"
    }
   ],
   "source": [
    "future_months = (pd.Period('2100-12') - sea_height_variation['smoothed_GMSL_gia_signal_rem'].index[-1]).n\n",
    "fh = np.arange(future_months) + 1\n",
    "forecaster.fit(sea_height_variation['smoothed_GMSL_gia_signal_rem'])\n",
    "y_pred, pred_ints = forecaster.predict(fh, return_pred_int=True, alpha=alpha)\n",
    "fig, ax = plot_series(sea_height_variation['smoothed_GMSL_gia_signal_rem'], \n",
    "                      y_pred, labels=[\"y_train\", \"y_pred\"])\n",
    "ax.fill_between(\n",
    "    ax.get_lines()[-1].get_xdata(),\n",
    "    pred_ints[\"lower\"],\n",
    "    pred_ints[\"upper\"],\n",
    "    alpha=0.2,\n",
    "    color=ax.get_lines()[-1].get_c(),\n",
    "    label=f\"{1 - alpha}% prediction intervals\",\n",
    ")\n",
    "ax.legend();"
   ]
  },
  {
   "cell_type": "code",
   "execution_count": 514,
   "id": "exotic-buffer",
   "metadata": {},
   "outputs": [],
   "source": [
    "import scipy\n",
    "import matplotlib.dates as mdates"
   ]
  },
  {
   "cell_type": "code",
   "execution_count": 602,
   "id": "ranging-support",
   "metadata": {},
   "outputs": [
    {
     "name": "stderr",
     "output_type": "stream",
     "text": [
      "<ipython-input-602-1dbf1b01612f>:4: RuntimeWarning: overflow encountered in exp\n",
      "  scipy.optimize.curve_fit(lambda t,a,b: a*np.exp(b*t), x , y)\n",
      "/Users/admin/.venvs/ds/lib/python3.8/site-packages/scipy/optimize/minpack.py:828: OptimizeWarning: Covariance of the parameters could not be estimated\n",
      "  warnings.warn('Covariance of the parameters could not be estimated',\n"
     ]
    },
    {
     "data": {
      "text/plain": [
       "(array([1., 1.]),\n",
       " array([[inf, inf],\n",
       "        [inf, inf]]))"
      ]
     },
     "execution_count": 602,
     "metadata": {},
     "output_type": "execute_result"
    }
   ],
   "source": [
    "x = mdates.date2num(sea_height_variation_py['smoothed_GMSL_gia_signal_rem'].index)\n",
    "y = (sea_height_variation_py['smoothed_GMSL_gia_signal_rem'] \\\n",
    "     + abs(sea_height_variation_py['smoothed_GMSL_gia_signal_rem'].min())).values\n",
    "scipy.optimize.curve_fit(lambda t,a,b: a*np.exp(b*t), x , y)"
   ]
  },
  {
   "cell_type": "code",
   "execution_count": 600,
   "id": "swiss-camera",
   "metadata": {},
   "outputs": [],
   "source": [
    "# x = np.append(x, 19592)\n",
    "# y = np.append(y, 108)"
   ]
  },
  {
   "cell_type": "code",
   "execution_count": 603,
   "id": "widespread-society",
   "metadata": {},
   "outputs": [
    {
     "data": {
      "image/png": "[encoded data removed]",
      "text/plain": [
       "<Figure size 1152x288 with 1 Axes>"
      ]
     },
     "metadata": {
      "needs_background": "light"
     },
     "output_type": "display_data"
    }
   ],
   "source": [
    "from matplotlib import pyplot as plt\n",
    "z4 = np.polyfit(x, y, 3)\n",
    "p4 = np.poly1d(z4)\n",
    "\n",
    "fig, cx = plt.subplots(figsize=(16, 4))\n",
    "\n",
    "xx = np.linspace(x.min(), mdates.date2num(datetime(2100, 12, 31)), 100)\n",
    "dd = mdates.num2date(xx)\n",
    "\n",
    "cx.plot(dd, p4(xx), '-g')\n",
    "cx.plot(x, y, '+', color='b', label='blub')\n",
    "cx.errorbar(x, y,\n",
    "             marker='.',\n",
    "             color='k',\n",
    "             ecolor='b',\n",
    "             markerfacecolor='b',\n",
    "             label=\"series 1\",\n",
    "             capsize=0,\n",
    "             linestyle='')\n",
    "\n",
    "cx.grid()\n",
    "plt.show()"
   ]
  },
  {
   "cell_type": "code",
   "execution_count": 591,
   "id": "broadband-edition",
   "metadata": {},
   "outputs": [
    {
     "data": {
      "text/plain": [
       "array([ 0.        ,  3.97648649,  7.15027027,  9.22115616, 13.2527027 ,\n",
       "       10.87351351, 14.48108108, 17.73135135, 23.30567568, 27.44004505,\n",
       "       30.80108108, 32.76324324, 37.55405405, 39.01337838, 39.61108108,\n",
       "       41.7881006 , 46.89027027, 48.18945946, 47.53540541, 58.42567568,\n",
       "       60.84540541, 64.4956006 , 75.47918919, 77.74594595, 78.85189189,\n",
       "       83.18027027, 90.14810811, 91.08143393, 94.13837838, 79.        ])"
      ]
     },
     "execution_count": 591,
     "metadata": {},
     "output_type": "execute_result"
    }
   ],
   "source": [
    "y"
   ]
  },
  {
   "cell_type": "code",
   "execution_count": null,
   "id": "offensive-grade",
   "metadata": {},
   "outputs": [],
   "source": []
  }
 ],
 "metadata": {
  "kernelspec": {
   "display_name": "Python 3",
   "language": "python",
   "name": "python3"
  },
  "language_info": {
   "codemirror_mode": {
    "name": "ipython",
    "version": 3
   },
   "file_extension": ".py",
   "mimetype": "text/x-python",
   "name": "python",
   "nbconvert_exporter": "python",
   "pygments_lexer": "ipython3",
   "version": "3.8.8"
  }
 },
 "nbformat": 4,
 "nbformat_minor": 5
}
