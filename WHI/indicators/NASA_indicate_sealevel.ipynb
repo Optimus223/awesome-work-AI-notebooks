{
 "cells": [
  {
   "cell_type": "markdown",
   "id": "canadian-philippines",
   "metadata": {
    "papermill": {},
    "tags": []
   },
   "source": [
    "# indicators - NASA indicate sealevel\n",
    "<a href=\"https://app.naas.ai/user-redirect/naas/downloader?url=https://raw.githubusercontent.com/jupyter-naas/awesome-notebooks/master/WHI/indicators/NASA_indicate_sealevel.ipynb\" target=\"_parent\">\n",
    "<img src=\"https://img.shields.io/badge/-Open%20in%20Naas-success?labelColor=000000&logo=data:image/svg+xml;base64,PD94bWwgdmVyc2lvbj0iMS4wIiBlbmNvZGluZz0iVVRGLTgiPz4KPHN2ZyB3aWR0aD0iMTAyNHB4IiBoZWlnaHQ9IjEwMjRweCIgdmlld0JveD0iMCAwIDEwMjQgMTAyNCIgeG1sbnM9Imh0dHA6Ly93d3cudzMub3JnLzIwMDAvc3ZnIiB4bWxuczp4bGluaz0iaHR0cDovL3d3dy53My5vcmcvMTk5OS94bGluayIgdmVyc2lvbj0iMS4xIj4KIDwhLS0gR2VuZXJhdGVkIGJ5IFBpeGVsbWF0b3IgUHJvIDIuMC41IC0tPgogPGRlZnM+CiAgPHRleHQgaWQ9InN0cmluZyIgdHJhbnNmb3JtPSJtYXRyaXgoMS4wIDAuMCAwLjAgMS4wIDIyOC4wIDU0LjUpIiBmb250LWZhbWlseT0iQ29tZm9ydGFhLVJlZ3VsYXIsIENvbWZvcnRhYSIgZm9udC1zaXplPSI4MDAiIHRleHQtZGVjb3JhdGlvbj0ibm9uZSIgZmlsbD0iI2ZmZmZmZiIgeD0iMS4xOTk5OTk5OTk5OTk5ODg2IiB5PSI3MDUuMCI+bjwvdGV4dD4KIDwvZGVmcz4KIDx1c2UgaWQ9Im4iIHhsaW5rOmhyZWY9IiNzdHJpbmciLz4KPC9zdmc+Cg==\"/>\n",
    "</a>"
   ]
  },
  {
   "cell_type": "markdown",
   "id": "extensive-camera",
   "metadata": {
    "execution": {
     "iopub.execute_input": "2021-05-28T14:53:57.088615Z",
     "iopub.status.busy": "2021-05-28T14:53:57.088380Z",
     "iopub.status.idle": "2021-05-28T14:53:57.091396Z",
     "shell.execute_reply": "2021-05-28T14:53:57.090726Z",
     "shell.execute_reply.started": "2021-05-28T14:53:57.088591Z"
    },
    "papermill": {},
    "tags": []
   },
   "source": [
    "# Inputs"
   ]
  },
  {
   "cell_type": "code",
   "execution_count": 5,
   "id": "pointed-invitation",
   "metadata": {
    "execution": {
     "iopub.execute_input": "2021-05-28T15:40:30.839586Z",
     "iopub.status.busy": "2021-05-28T15:40:30.837432Z",
     "iopub.status.idle": "2021-05-28T15:40:32.899290Z",
     "shell.execute_reply": "2021-05-28T15:40:32.898641Z",
     "shell.execute_reply.started": "2021-05-28T15:40:30.839545Z"
    },
    "papermill": {},
    "tags": []
   },
   "outputs": [],
   "source": [
    "import requests\n",
    "from bs4 import BeautifulSoup\n",
    "import pandas as pd\n",
    "from datetime import date, datetime, timedelta\n",
    "import math\n",
    "from sktime.utils.plotting import plot_series\n",
    "from sktime.forecasting.model_selection import (\n",
    "    ExpandingWindowSplitter,\n",
    "    ForecastingGridSearchCV,\n",
    "    SlidingWindowSplitter,\n",
    "    temporal_train_test_split,\n",
    ")\n",
    "from sktime.forecasting.arima import ARIMA, AutoARIMA\n",
    "from sktime.forecasting.compose import (\n",
    "    EnsembleForecaster,\n",
    "    MultiplexForecaster,\n",
    "    TransformedTargetForecaster,\n",
    "    make_reduction,\n",
    ")\n",
    "import matplotlib.pyplot as plt\n",
    "from sktime.forecasting.naive import NaiveForecaster\n",
    "from sktime.forecasting.base import ForecastingHorizon\n",
    "from sktime.performance_metrics.forecasting import (\n",
    "    MeanAbsolutePercentageError,\n",
    "    mean_absolute_percentage_error,\n",
    ")\n",
    "from scipy.interpolate import interp1d\n",
    "from sklearn.neighbors import KNeighborsRegressor\n",
    "import numpy as np\n",
    "import os\n",
    "import sys\n",
    "import tempfile\n",
    "import dateutil.parser\n",
    "import matplotlib.dates as mdates\n",
    "import naas"
   ]
  },
  {
   "cell_type": "markdown",
   "id": "duplicate-australian",
   "metadata": {
    "papermill": {},
    "tags": []
   },
   "source": [
    "## Dataset\n",
    "Source: Nasa (https://climate.nasa.gov/vital-signs/sea-level/)\n",
    "URL: https://podaac-tools.jpl.nasa.gov/drive/files/allData/merged_alt/L2/TP_J1_OSTM/global_mean_sea_level/GMSL_TPJAOS_5.0_199209_202102.txt"
   ]
  },
  {
   "cell_type": "code",
   "execution_count": 5,
   "id": "magnetic-champagne",
   "metadata": {
    "execution": {
     "iopub.execute_input": "2021-05-27T15:50:15.823486Z",
     "iopub.status.busy": "2021-05-27T15:50:15.823184Z",
     "iopub.status.idle": "2021-05-27T15:50:15.827324Z",
     "shell.execute_reply": "2021-05-27T15:50:15.826612Z",
     "shell.execute_reply.started": "2021-05-27T15:50:15.823454Z"
    },
    "papermill": {},
    "tags": []
   },
   "outputs": [],
   "source": [
    "'''\n",
    "Column descriptions\n",
    "    1 altimeter type 0=dual-frequency  999=single frequency (ie Poseidon-1) \n",
    "    2 merged file cycle # \n",
    "    3 year+fraction of year (mid-cycle) \n",
    "    4 number of observations \n",
    "    5 number of weighted observations \n",
    "    6 GMSL (Global Isostatic Adjustment (GIA) not applied) variation (mm) with respect to 20-year \n",
    "        TOPEX/Jason collinear mean reference \n",
    "    7 standard deviation of GMSL (GIA not applied) variation estimate (mm)\n",
    "    8 smoothed (60-day Gaussian type filter) GMSL (GIA not applied) variation (mm)  \n",
    "    9 GMSL (Global Isostatic Adjustment (GIA) applied) variation (mm) with respect to 20-year \n",
    "        TOPEX/Jason collinear mean reference \n",
    "    10 standard deviation of GMSL (GIA applied) variation estimate (mm)\n",
    "    11 smoothed (60-day Gaussian type filter) GMSL (GIA applied) variation (mm)\n",
    "    12 smoothed (60-day Gaussian type filter) GMSL (GIA applied) variation (mm); \n",
    "      annual and semi-annual signal removed\n",
    "Learn more @ https://sealevel.colorado.edu/presentation/what-definition-global-mean-sea-level-gmsl-and-its-rate\n",
    "'''\n",
    "pass"
   ]
  },
  {
   "cell_type": "markdown",
   "id": "substantial-hampshire",
   "metadata": {
    "papermill": {},
    "tags": []
   },
   "source": [
    "# Model"
   ]
  },
  {
   "cell_type": "code",
   "execution_count": 6,
   "id": "promotional-davis",
   "metadata": {
    "execution": {
     "iopub.execute_input": "2021-05-28T15:40:34.881223Z",
     "iopub.status.busy": "2021-05-28T15:40:34.880959Z",
     "iopub.status.idle": "2021-05-28T15:40:34.905194Z",
     "shell.execute_reply": "2021-05-28T15:40:34.904619Z",
     "shell.execute_reply.started": "2021-05-28T15:40:34.881191Z"
    },
    "papermill": {},
    "tags": []
   },
   "outputs": [],
   "source": [
    "indicator = SeaLevelIndicator('nasa-sea-level-data.txt')"
   ]
  },
  {
   "cell_type": "code",
   "execution_count": 7,
   "id": "numerical-bobby",
   "metadata": {
    "execution": {
     "iopub.execute_input": "2021-05-28T15:40:37.641632Z",
     "iopub.status.busy": "2021-05-28T15:40:37.641318Z",
     "iopub.status.idle": "2021-05-28T15:40:37.757490Z",
     "shell.execute_reply": "2021-05-28T15:40:37.756887Z",
     "shell.execute_reply.started": "2021-05-28T15:40:37.641598Z"
    },
    "papermill": {},
    "tags": []
   },
   "outputs": [
    {
     "data": {
      "text/plain": [
       "4.951165245651996"
      ]
     },
     "execution_count": 7,
     "metadata": {},
     "output_type": "execute_result"
    }
   ],
   "source": [
    "'''\n",
    "This is safer to use - it gives a value more inline with current projections, \n",
    "but can be reused with additional data\n",
    "'''\n",
    "indicator.value(method='curve_fit')"
   ]
  },
  {
   "cell_type": "code",
   "execution_count": 9,
   "id": "juvenile-deposit",
   "metadata": {
    "execution": {
     "iopub.execute_input": "2021-05-28T15:41:05.533236Z",
     "iopub.status.busy": "2021-05-28T15:41:05.532994Z",
     "iopub.status.idle": "2021-05-28T15:41:05.555079Z",
     "shell.execute_reply": "2021-05-28T15:41:05.548736Z",
     "shell.execute_reply.started": "2021-05-28T15:41:05.533215Z"
    },
    "papermill": {},
    "tags": []
   },
   "outputs": [
    {
     "data": {
      "text/html": [
       "<div>\n",
       "<style scoped>\n",
       "    .dataframe tbody tr th:only-of-type {\n",
       "        vertical-align: middle;\n",
       "    }\n",
       "\n",
       "    .dataframe tbody tr th {\n",
       "        vertical-align: top;\n",
       "    }\n",
       "\n",
       "    .dataframe thead th {\n",
       "        text-align: right;\n",
       "    }\n",
       "</style>\n",
       "<table border=\"1\" class=\"dataframe\">\n",
       "  <thead>\n",
       "    <tr style=\"text-align: right;\">\n",
       "      <th></th>\n",
       "      <th>DATE_PROCESSED</th>\n",
       "      <th>INDICATOR</th>\n",
       "      <th>VALUE</th>\n",
       "    </tr>\n",
       "  </thead>\n",
       "  <tbody>\n",
       "    <tr>\n",
       "      <th>0</th>\n",
       "      <td>2021-05-28</td>\n",
       "      <td>Sea Level</td>\n",
       "      <td>4.951165</td>\n",
       "    </tr>\n",
       "  </tbody>\n",
       "</table>\n",
       "</div>"
      ],
      "text/plain": [
       "  DATE_PROCESSED  INDICATOR     VALUE\n",
       "0     2021-05-28  Sea Level  4.951165"
      ]
     },
     "execution_count": 9,
     "metadata": {},
     "output_type": "execute_result"
    }
   ],
   "source": [
    "df"
   ]
  },
  {
   "cell_type": "code",
   "execution_count": 8,
   "id": "norman-montreal",
   "metadata": {
    "execution": {
     "iopub.execute_input": "2021-05-28T15:40:56.066055Z",
     "iopub.status.busy": "2021-05-28T15:40:56.065830Z",
     "iopub.status.idle": "2021-05-28T15:40:56.256858Z",
     "shell.execute_reply": "2021-05-28T15:40:56.256214Z",
     "shell.execute_reply.started": "2021-05-28T15:40:56.066033Z"
    },
    "papermill": {},
    "tags": []
   },
   "outputs": [
    {
     "name": "stdout",
     "output_type": "stream",
     "text": [
      "👌 Well done! Your Assets has been sent to production.\n",
      "\n"
     ]
    },
    {
     "name": "stderr",
     "output_type": "stream",
     "text": [
      "/opt/conda/lib/python3.8/site-packages/naas/assets.py:30: UserWarning: [Warning], naas.assets is deprecated,\n",
      " use naas.asset instead, it will be remove in 1 june 2021\n",
      "  warnings.warn(\n"
     ]
    },
    {
     "data": {
      "application/javascript": [
       "\n",
       "    if (!window.copyToClipboard) {\n",
       "        window.copyToClipboard = (text) => {\n",
       "            const dummy = document.createElement(\"textarea\");\n",
       "            document.body.appendChild(dummy);\n",
       "            dummy.value = text;\n",
       "            dummy.select();\n",
       "            document.execCommand(\"copy\");\n",
       "            document.body.removeChild(dummy);\n",
       "        }\n",
       "    }\n",
       "    "
      ],
      "text/plain": [
       "<IPython.core.display.Javascript object>"
      ]
     },
     "metadata": {},
     "output_type": "display_data"
    },
    {
     "data": {
      "application/vnd.jupyter.widget-view+json": {
       "model_id": "cdf3fa57185d4e37937bbc79372b9276",
       "version_major": 2,
       "version_minor": 0
      },
      "text/plain": [
       "Button(button_style='primary', description='Copy URL', style=ButtonStyle())"
      ]
     },
     "metadata": {},
     "output_type": "display_data"
    },
    {
     "data": {
      "application/vnd.jupyter.widget-view+json": {
       "model_id": "ed8e8ebf97244e829319f663c3780506",
       "version_major": 2,
       "version_minor": 0
      },
      "text/plain": [
       "Output()"
      ]
     },
     "metadata": {},
     "output_type": "display_data"
    },
    {
     "name": "stdout",
     "output_type": "stream",
     "text": [
      "PS: to remove the \"Assets\" feature, just replace .add by .delete\n"
     ]
    },
    {
     "data": {
      "text/plain": [
       "'https://public.naas.ai/c29mdHdhcmUtNDBwZXRlcnR1cm5lci0yRWNvLTJFemE=/asset/e0a73cb6962e76df3263d72eeb925eae0eb2647655fc5a0f8ba5d137c939'"
      ]
     },
     "execution_count": 8,
     "metadata": {},
     "output_type": "execute_result"
    }
   ],
   "source": [
    "df = indicator.value_df()\n",
    "path = '../output/nasa_sealevel_output.csv'\n",
    "df.to_csv(path)\n",
    "naas.assets.add(path)"
   ]
  },
  {
   "cell_type": "code",
   "execution_count": 39,
   "id": "solid-rough",
   "metadata": {
    "execution": {
     "iopub.execute_input": "2021-05-27T16:19:50.368881Z",
     "iopub.status.busy": "2021-05-27T16:19:50.368516Z",
     "iopub.status.idle": "2021-05-27T16:19:50.373611Z",
     "shell.execute_reply": "2021-05-27T16:19:50.372779Z",
     "shell.execute_reply.started": "2021-05-27T16:19:50.368838Z"
    },
    "papermill": {},
    "tags": []
   },
   "outputs": [
    {
     "data": {
      "text/plain": [
       "<naas.assets.Assets at 0x7fac58889d30>"
      ]
     },
     "execution_count": 39,
     "metadata": {},
     "output_type": "execute_result"
    }
   ],
   "source": [
    "df.to_csv('data_')"
   ]
  },
  {
   "cell_type": "code",
   "execution_count": 14,
   "id": "active-navigation",
   "metadata": {
    "execution": {
     "iopub.execute_input": "2021-05-27T15:51:47.563496Z",
     "iopub.status.busy": "2021-05-27T15:51:47.563259Z",
     "iopub.status.idle": "2021-05-27T15:52:24.071748Z",
     "shell.execute_reply": "2021-05-27T15:52:24.071129Z",
     "shell.execute_reply.started": "2021-05-27T15:51:47.563472Z"
    },
    "papermill": {},
    "tags": []
   },
   "outputs": [
    {
     "data": {
      "text/plain": [
       "9.672612457127427"
      ]
     },
     "execution_count": 14,
     "metadata": {},
     "output_type": "execute_result"
    }
   ],
   "source": [
    "indicator.value(method='arima')"
   ]
  },
  {
   "cell_type": "code",
   "execution_count": 15,
   "id": "balanced-improvement",
   "metadata": {
    "execution": {
     "iopub.execute_input": "2021-05-27T15:52:24.073014Z",
     "iopub.status.busy": "2021-05-27T15:52:24.072813Z",
     "iopub.status.idle": "2021-05-27T15:52:24.405375Z",
     "shell.execute_reply": "2021-05-27T15:52:24.404792Z",
     "shell.execute_reply.started": "2021-05-27T15:52:24.072991Z"
    },
    "papermill": {},
    "tags": []
   },
   "outputs": [
    {
     "data": {
      "image/png": "[encoded data removed]",
      "text/plain": [
       "<Figure size 1152x288 with 1 Axes>"
      ]
     },
     "metadata": {
      "needs_background": "light"
     },
     "output_type": "display_data"
    }
   ],
   "source": [
    "indicator.plot_projection(method='curve_fit')"
   ]
  },
  {
   "cell_type": "code",
   "execution_count": 26,
   "id": "pursuant-adrian",
   "metadata": {
    "papermill": {},
    "tags": []
   },
   "outputs": [
    {
     "data": {
      "image/png": "[encoded data removed]",
      "text/plain": [
       "<Figure size 1152x288 with 1 Axes>"
      ]
     },
     "metadata": {
      "needs_background": "light"
     },
     "output_type": "display_data"
    }
   ],
   "source": [
    "indicator.plot_projection(method='arima')"
   ]
  },
  {
   "cell_type": "code",
   "execution_count": 3,
   "id": "interpreted-butterfly",
   "metadata": {
    "execution": {
     "iopub.execute_input": "2021-05-28T15:40:14.334530Z",
     "iopub.status.busy": "2021-05-28T15:40:14.334178Z",
     "iopub.status.idle": "2021-05-28T15:40:14.362731Z",
     "shell.execute_reply": "2021-05-28T15:40:14.362138Z",
     "shell.execute_reply.started": "2021-05-28T15:40:14.334491Z"
    },
    "papermill": {},
    "tags": []
   },
   "outputs": [],
   "source": [
    "class SeaLevelIndicator():\n",
    "    def __init__(self, filepath):\n",
    "        self.filepath = filepath\n",
    "        self.df = self.get_df()\n",
    "        \n",
    "        \n",
    "    def value_df(self, method='curve_fit'):\n",
    "        value = self.value(method)\n",
    "        data = {'DATE_PROCESSED': [datetime.today().date()],\n",
    "                'INDICATOR': 'Sea Level',\n",
    "                 'VALUE': [indicator.value()]}\n",
    "        return pd.DataFrame.from_dict(data)\n",
    "        \n",
    "    def value(self, method='curve_fit'):\n",
    "        # interpolate value out of ten\n",
    "        m = (10-0)/(self.best_case(value_only=True)-self.worst_case(value_only=True))\n",
    "        c = -self.worst_case(value_only=True) * m\n",
    "        return m * self.current_projection(method=method, value_only=True) + c\n",
    "    \n",
    "    def current_projection(self, method='curve_fit', value_only=False):\n",
    "        value = None\n",
    "        if method.lower() == 'curve_fit':\n",
    "            x = mdates.date2num(self.df_per_year['smoothed_GMSL_gia_signal_rem'].index)\n",
    "            y = (self.df_per_year['smoothed_GMSL_gia_signal_rem'] \\\n",
    "                 + abs(self.df_per_year['smoothed_GMSL_gia_signal_rem'].min())).values\n",
    "            z4 = np.polyfit(x, y, 3)\n",
    "            p4 = np.poly1d(z4)\n",
    "            xx = np.linspace(x.min(), mdates.date2num(datetime(2100, 12, 31)), 100)\n",
    "            dd = mdates.num2date(xx)\n",
    "            df = pd.DataFrame(data=p4(xx), index=dd) \n",
    "            value = df.iloc[-1].values[0]\n",
    "        elif method.lower() == 'arima':\n",
    "            df = self.df_starting_from_zero.copy()\n",
    "            df = df.resample('M').mean()\n",
    "            df.index = pd.PeriodIndex(df.index, freq=\"M\")\n",
    "            y_train, y_test = temporal_train_test_split(df['smoothed_GMSL_gia_signal_rem'],\n",
    "                                                        test_size=180)\n",
    "            future_months = (pd.Period('2100-12') - df['smoothed_GMSL_gia_signal_rem'].index[-1]).n\n",
    "            forecaster = AutoARIMA(sp=12, suppress_warnings=True)\n",
    "            alpha = 0.05  # 95% prediction intervals\n",
    "            fh = np.arange(future_months) + 1 # forecast_horizon\n",
    "            forecaster.fit(df['smoothed_GMSL_gia_signal_rem'])\n",
    "            y_pred, pred_ints = forecaster.predict(fh, return_pred_int=True, alpha=alpha)\n",
    "            value = y_pred.iloc[-1]\n",
    "        if value_only:\n",
    "            return value\n",
    "        return {'date': 'December 2100',\n",
    "                 'period': '2100-12',\n",
    "                 'units': 'Sea Level above 2000 Levels (mm)',\n",
    "                 'value': value}\n",
    "            \n",
    "    def best_case(self, value_only=False):\n",
    "        # Source: https://tidesandcurrents.noaa.gov/publications/techrpt83_Global_and_Regional_SLR_Scenarios_for_the_US_final.pdf\n",
    "        recorded_value = 300\n",
    "        if value_only:\n",
    "            return recorded_value\n",
    "        return {'date': 'December 2100', 'period': '2100-12', \n",
    "                'units': 'Sea Level above 2000 Levels (mm)', 'value': recorded_value}\n",
    "    \n",
    "    def worst_case(self, value_only=False):\n",
    "        # Source: https://tidesandcurrents.noaa.gov/publications/techrpt83_Global_and_Regional_SLR_Scenarios_for_the_US_final.pdf\n",
    "        recorded_value = 2500\n",
    "        if value_only:\n",
    "            return recorded_value\n",
    "        return {'date': 'December 2100', 'period': '2100-12', \n",
    "                'units': 'Sea Level above 2000 Levels (mm)', 'value': recorded_value}\n",
    "    \n",
    "    def plot_projection(self, method='curve_fit'):\n",
    "        if method.lower() == 'curve_fit':\n",
    "            x = mdates.date2num(self.df_per_year['smoothed_GMSL_gia_signal_rem'].index)\n",
    "            y = (self.df_per_year['smoothed_GMSL_gia_signal_rem'] \\\n",
    "                 + abs(self.df_per_year['smoothed_GMSL_gia_signal_rem'].min())).values\n",
    "            z4 = np.polyfit(x, y, 3)\n",
    "            p4 = np.poly1d(z4)\n",
    "\n",
    "            fig, cx = plt.subplots(figsize=(16, 4))\n",
    "\n",
    "            xx = np.linspace(x.min(), mdates.date2num(datetime(2100, 12, 31)), 100)\n",
    "            dd = mdates.num2date(xx)\n",
    "\n",
    "            cx.plot(dd, p4(xx), '-g')\n",
    "            cx.plot(x, y, '+', color='b', label='blub')\n",
    "            cx.errorbar(x, y,\n",
    "                         marker='.',\n",
    "                         color='k',\n",
    "                         ecolor='b',\n",
    "                         markerfacecolor='b',\n",
    "                         label=\"series 1\",\n",
    "                         capsize=0,\n",
    "                         linestyle='')\n",
    "            cx.grid()\n",
    "            plt.show()\n",
    "            \n",
    "        elif method.lower() == 'arima':\n",
    "            # Set the frequency of the index, Sktime needs this to work\n",
    "            df = self.df_starting_from_zero.copy()\n",
    "            df = df.resample('M').mean()\n",
    "            df.index = pd.PeriodIndex(df.index, freq=\"M\")\n",
    "            y_train, y_test = temporal_train_test_split(df['smoothed_GMSL_gia_signal_rem'],\n",
    "                                                        test_size=180)\n",
    "            future_months = (pd.Period('2100-12') - df['smoothed_GMSL_gia_signal_rem'].index[-1]).n\n",
    "            forecaster = AutoARIMA(sp=12, suppress_warnings=True)\n",
    "            alpha = 0.05  # 95% prediction intervals\n",
    "            fh = np.arange(future_months) + 1 # forecast_horizon\n",
    "            forecaster.fit(df['smoothed_GMSL_gia_signal_rem'])\n",
    "            y_pred, pred_ints = forecaster.predict(fh, return_pred_int=True, alpha=alpha)\n",
    "            fig, ax = plot_series(df['smoothed_GMSL_gia_signal_rem'], \n",
    "                                  y_pred, labels=[\"y_train\", \"y_pred\"])\n",
    "            ax.fill_between(\n",
    "                ax.get_lines()[-1].get_xdata(),\n",
    "                pred_ints[\"lower\"],\n",
    "                pred_ints[\"upper\"],\n",
    "                alpha=0.2,\n",
    "                color=ax.get_lines()[-1].get_c(),\n",
    "                label=f\"{1 - alpha}% prediction intervals\",\n",
    "            )\n",
    "            ax.legend();\n",
    "            \n",
    "            \n",
    "    def get_df(self):\n",
    "        cols = ['altimeter_type','merged_file_cycle_#','yearfrac','num_obs','num_w_obs', 'GMSL_variation_mm',\n",
    "        'std_GMSL','smoothed_GMSL','GMSL_GIA_variation_mm','std_GMSL_GIA','smoothed_gia_GMSL',\n",
    "        'smoothed_GMSL_gia_signal_rem']\n",
    "        with open(self.filepath, 'r') as f:\n",
    "            data = f.read()\n",
    "        data = [d[1:] for d in data.split('\\n') if 'HDR' not in d]\n",
    "        df = pd.DataFrame([l.split() for l in data], dtype=float, columns=cols)\n",
    "        # Pre-processing        \n",
    "        def convert_yearfrac_to_datetime(yearfrac):\n",
    "            year = int(yearfrac)\n",
    "            rem = yearfrac - year\n",
    "            base = datetime(year, 1, 1)\n",
    "            return base + timedelta(seconds=(base.replace(year=base.year + 1) - base).total_seconds() * rem)\n",
    "        df['datetime'] = df['yearfrac'].apply(lambda year: convert_yearfrac_to_datetime(year))\n",
    "        df = df[['datetime', 'smoothed_GMSL_gia_signal_rem']].set_index('datetime')\n",
    "        return df\n",
    "    \n",
    "    def current_value(self, value_only=False):\n",
    "        res = requests.get('https://climate.nasa.gov/vital-signs/sea-level/')\n",
    "        soup = BeautifulSoup(res.text, 'html.parser')\n",
    "        measurement = soup.find_all(\"div\", {\"class\": \"latest_measurement\"})[0]\n",
    "        date = measurement.find(\"span\", {\"class\": \"month_year\"}).text.strip()\n",
    "        value = measurement.find(\"div\", {\"class\": \"value\"}).text.split('(')[0].strip()\n",
    "        if value_only:\n",
    "            return value\n",
    "        try:\n",
    "            period = dateutil.parser.parse(date).strftime('%Y-%m')\n",
    "        except:\n",
    "            period = None\n",
    "        return {'date': date, 'period': period, 'current_value': value}\n",
    "    \n",
    "    @property\n",
    "    def df_starting_from_zero(self):\n",
    "        return self.df + abs(self.df.min()) # Here we add the minimum ensure measurements start at zero\n",
    "    \n",
    "    @property\n",
    "    def df_per_year(self):\n",
    "        return self.df.resample('Y').mean()\n",
    "        \n",
    "        "
   ]
  },
  {
   "cell_type": "code",
   "execution_count": null,
   "id": "decreased-pixel",
   "metadata": {
    "papermill": {},
    "tags": []
   },
   "outputs": [],
   "source": []
  }
 ],
 "metadata": {
  "kernelspec": {
   "display_name": "Python 3",
   "language": "python",
   "name": "python3"
  },
  "language_info": {
   "codemirror_mode": {
    "name": "ipython",
    "version": 3
   },
   "file_extension": ".py",
   "mimetype": "text/x-python",
   "name": "python",
   "nbconvert_exporter": "python",
   "pygments_lexer": "ipython3",
   "version": "3.8.8"
  },
  "papermill": {
   "default_parameters": {},
   "environment_variables": {},
   "parameters": {},
   "version": "2.3.3"
  }
 },
 "nbformat": 4,
 "nbformat_minor": 5
}