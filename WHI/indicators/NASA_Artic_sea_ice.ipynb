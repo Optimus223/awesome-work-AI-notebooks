{
 "cells": [
  {
   "cell_type": "markdown",
   "id": "contained-crash",
   "metadata": {
    "papermill": {},
    "tags": []
   },
   "source": [
    "# indicators - NASA Artic sea ice\n",
    "<a href=\"https://app.naas.ai/user-redirect/naas/downloader?url=https://raw.githubusercontent.com/jupyter-naas/awesome-notebooks/master/WHI/indicators/NASA_Artic_sea_ice.ipynb\" target=\"_parent\"><img src=\"https://img.shields.io/badge/-Open%20in%20Naas-success?labelColor=000000&logo=data:image/svg+xml;base64,PD94bWwgdmVyc2lvbj0iMS4wIiBlbmNvZGluZz0iVVRGLTgiPz4KPHN2ZyB3aWR0aD0iMTAyNHB4IiBoZWlnaHQ9IjEwMjRweCIgdmlld0JveD0iMCAwIDEwMjQgMTAyNCIgeG1sbnM9Imh0dHA6Ly93d3cudzMub3JnLzIwMDAvc3ZnIiB4bWxuczp4bGluaz0iaHR0cDovL3d3dy53My5vcmcvMTk5OS94bGluayIgdmVyc2lvbj0iMS4xIj4KIDwhLS0gR2VuZXJhdGVkIGJ5IFBpeGVsbWF0b3IgUHJvIDIuMC41IC0tPgogPGRlZnM+CiAgPHRleHQgaWQ9InN0cmluZyIgdHJhbnNmb3JtPSJtYXRyaXgoMS4wIDAuMCAwLjAgMS4wIDIyOC4wIDU0LjUpIiBmb250LWZhbWlseT0iQ29tZm9ydGFhLVJlZ3VsYXIsIENvbWZvcnRhYSIgZm9udC1zaXplPSI4MDAiIHRleHQtZGVjb3JhdGlvbj0ibm9uZSIgZmlsbD0iI2ZmZmZmZiIgeD0iMS4xOTk5OTk5OTk5OTk5ODg2IiB5PSI3MDUuMCI+bjwvdGV4dD4KIDwvZGVmcz4KIDx1c2UgaWQ9Im4iIHhsaW5rOmhyZWY9IiNzdHJpbmciLz4KPC9zdmc+Cg==\"/></a>"
   ]
  },
  {
   "cell_type": "markdown",
   "id": "f2a273fe-6b54-4a3b-98c6-6d715498ed08",
   "metadata": {
    "papermill": {},
    "tags": []
   },
   "source": [
    "**Tags:** #indicators #opendata #worldsituationroom"
   ]
  },
  {
   "cell_type": "markdown",
   "id": "spectacular-priority",
   "metadata": {
    "papermill": {},
    "tags": []
   },
   "source": [
    "AVERAGE SEPTEMBER MINIMUM EXTENT<br>\n",
    "Data source: Satellite observations. Credit: NSIDC/NASA\n",
    "\n",
    "**What is Arctic sea ice extent?**<br>\n",
    "Sea ice extent is a measure of the surface area of the ocean covered by sea ice. Increases in air and ocean temperatures decrease sea ice extent; in turn, the resulting darker ocean surface absorbs more solar radiation and increases Arctic warming.<br>\n",
    "Date Range: 1979 - 2020."
   ]
  },
  {
   "cell_type": "markdown",
   "id": "818eee10-92d7-473c-8994-d0b6826428c3",
   "metadata": {
    "papermill": {},
    "tags": []
   },
   "source": [
    "## Input"
   ]
  },
  {
   "cell_type": "markdown",
   "id": "7f58af92-4aa3-4c88-8706-2dab4c6d89b6",
   "metadata": {
    "papermill": {},
    "tags": []
   },
   "source": [
    "### Import libraries"
   ]
  },
  {
   "cell_type": "code",
   "execution_count": null,
   "id": "40d39bf3-e3d5-428f-b69e-78709ec3a157",
   "metadata": {
    "papermill": {},
    "tags": []
   },
   "outputs": [],
   "source": [
    "import pandas\n",
    "import plotly.express as px\n",
    "import naas"
   ]
  },
  {
   "cell_type": "markdown",
   "id": "cf85c049-c31c-40af-b2d2-88c34bacd3f9",
   "metadata": {
    "papermill": {},
    "tags": []
   },
   "source": [
    "## Model"
   ]
  },
  {
   "cell_type": "markdown",
   "id": "guilty-gasoline",
   "metadata": {
    "papermill": {},
    "tags": []
   },
   "source": [
    "### Get data from website\n",
    "https://climate.nasa.gov/ => click on Artic Sea Ice"
   ]
  },
  {
   "cell_type": "code",
   "execution_count": 36,
   "id": "listed-valentine",
   "metadata": {
    "execution": {
     "iopub.execute_input": "2021-06-10T13:11:03.378240Z",
     "iopub.status.busy": "2021-06-10T13:11:03.377867Z",
     "iopub.status.idle": "2021-06-10T13:11:03.649863Z",
     "shell.execute_reply": "2021-06-10T13:11:03.649231Z",
     "shell.execute_reply.started": "2021-06-10T13:11:03.378201Z"
    },
    "papermill": {},
    "tags": []
   },
   "outputs": [],
   "source": [
    "df = pandas.read_csv(\"https://climate.nasa.gov/system/internal_resources/details/original/2264_N_09_extent_v3.0.csv\")\n",
    "\n",
    "df.head(5)#read the first 5 lines"
   ]
  },
  {
   "cell_type": "markdown",
   "id": "apparent-passing",
   "metadata": {
    "papermill": {},
    "tags": []
   },
   "source": [
    "### Create simple graph"
   ]
  },
  {
   "cell_type": "code",
   "execution_count": 37,
   "id": "dying-baghdad",
   "metadata": {
    "execution": {
     "iopub.execute_input": "2021-06-10T13:11:05.211064Z",
     "iopub.status.busy": "2021-06-10T13:11:05.210837Z",
     "iopub.status.idle": "2021-06-10T13:11:05.261924Z",
     "shell.execute_reply": "2021-06-10T13:11:05.261343Z",
     "shell.execute_reply.started": "2021-06-10T13:11:05.211037Z"
    },
    "papermill": {},
    "tags": []
   },
   "outputs": [],
   "source": [
    "\n",
    "    \n",
    "fig = px.line(df, x=\"year\", y=\" extent\")\n",
    "fig.show()"
   ]
  },
  {
   "cell_type": "markdown",
   "id": "concrete-grave",
   "metadata": {
    "papermill": {},
    "tags": []
   },
   "source": [
    "### World Health Indicator (WHI)\n",
    "Using a scale of 0 - 10\n",
    "(where 0 is the worst and 10 is the best)\n",
    " \n",
    "$$\\begin{equation*}\n",
    "WHI = 10 \\times (\\frac{Current}{8})\n",
    "\\end{equation*}$$\n",
    "\n",
    "The highest record value of the arctic see ice level was 7.67 million square km in 1980. This value has been decreasing since. \n",
    "\n",
    "That's why, our best case scenario is when the ice level is highest (8) and our worst is the lowest (0)."
   ]
  },
  {
   "cell_type": "code",
   "execution_count": 38,
   "id": "instant-american",
   "metadata": {
    "execution": {
     "iopub.execute_input": "2021-06-10T13:11:07.772508Z",
     "iopub.status.busy": "2021-06-10T13:11:07.772237Z",
     "iopub.status.idle": "2021-06-10T13:11:07.785741Z",
     "shell.execute_reply": "2021-06-10T13:11:07.785105Z",
     "shell.execute_reply.started": "2021-06-10T13:11:07.772481Z"
    },
    "papermill": {},
    "tags": []
   },
   "outputs": [],
   "source": [
    "current = df[\" extent\"].iloc[-1]\n",
    "WHI = (10*(current/8))\n",
    "print(f\"World Health Indicator (Raw values): {round(WHI, 2)}\")\n",
    "WHI_data = pandas.DataFrame.from_dict({\"DATE_PROCESSED\": pandas.to_datetime(\"today\").date(), \"INDICATOR\": \"Arctic Sea Ice level (million square km)\", \"VALUE\": [round(WHI, 2)]})\n",
    "WHI_data"
   ]
  },
  {
   "cell_type": "code",
   "execution_count": 40,
   "id": "judicial-acoustic",
   "metadata": {
    "execution": {
     "iopub.execute_input": "2021-06-10T13:11:09.931167Z",
     "iopub.status.busy": "2021-06-10T13:11:09.930946Z",
     "iopub.status.idle": "2021-06-10T13:11:09.966193Z",
     "shell.execute_reply": "2021-06-10T13:11:09.965441Z",
     "shell.execute_reply.started": "2021-06-10T13:11:09.931145Z"
    },
    "papermill": {},
    "tags": []
   },
   "outputs": [],
   "source": [
    "path = '../output/Arctic_Sea_Ice_whi.csv'\n",
    "WHI_data.to_csv(path)"
   ]
  },
  {
   "cell_type": "markdown",
   "id": "0b67c9d1-7878-49c3-bbb3-50257aa7430d",
   "metadata": {
    "papermill": {},
    "tags": []
   },
   "source": [
    "## Output"
   ]
  },
  {
   "cell_type": "markdown",
   "id": "e8d56a78-2c2b-4df6-9617-ee5206ce37df",
   "metadata": {
    "papermill": {},
    "tags": []
   },
   "source": [
    "### Add the asset"
   ]
  },
  {
   "cell_type": "code",
   "execution_count": 41,
   "id": "spread-hurricane",
   "metadata": {
    "execution": {
     "iopub.execute_input": "2021-06-10T13:11:10.287009Z",
     "iopub.status.busy": "2021-06-10T13:11:10.286788Z",
     "iopub.status.idle": "2021-06-10T13:11:10.408990Z",
     "shell.execute_reply": "2021-06-10T13:11:10.408356Z",
     "shell.execute_reply.started": "2021-06-10T13:11:10.286987Z"
    },
    "papermill": {},
    "tags": []
   },
   "outputs": [],
   "source": [
    "naas.asset.add(path)"
   ]
  }
 ],
 "metadata": {
  "kernelspec": {
   "display_name": "Python 3",
   "language": "python",
   "name": "python3"
  },
  "language_info": {
   "codemirror_mode": {
    "name": "ipython",
    "version": 3
   },
   "file_extension": ".py",
   "mimetype": "text/x-python",
   "name": "python",
   "nbconvert_exporter": "python",
   "pygments_lexer": "ipython3",
   "version": "3.8.8"
  },
  "papermill": {
   "default_parameters": {},
   "environment_variables": {},
   "parameters": {},
   "version": "2.3.3"
  },
  "widgets": {
   "application/vnd.jupyter.widget-state+json": {
    "state": {},
    "version_major": 2,
    "version_minor": 0
   }
  }
 },
 "nbformat": 4,
 "nbformat_minor": 5
}