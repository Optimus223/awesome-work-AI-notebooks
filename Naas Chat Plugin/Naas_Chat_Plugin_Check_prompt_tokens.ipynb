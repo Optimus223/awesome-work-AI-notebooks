{
 "cells": [
  {
   "cell_type": "markdown",
   "id": "a92ad770-55bd-450c-8e6e-de64c0347cdd",
   "metadata": {
    "papermill": {},
    "tags": []
   },
   "source": [
    "<img width=\"10%\" alt=\"Naas\" src=\"https://landen.imgix.net/jtci2pxwjczr/assets/5ice39g4.png?w=160\"/>"
   ]
  },
  {
   "cell_type": "markdown",
   "id": "a5b2c509-2c29-49e8-af91-4f3f1e386da3",
   "metadata": {
    "papermill": {},
    "tags": []
   },
   "source": [
    "# Naas Chat Plugin - Check prompt tokens"
   ]
  },
  {
   "cell_type": "markdown",
   "id": "d77fe283-4edd-42d3-a909-8e207d4b842f",
   "metadata": {
    "papermill": {},
    "tags": []
   },
   "source": [
    "**Tags:** #naaschatplugin #naas #naas_driver #chat #plugin #ai #tokens"
   ]
  },
  {
   "cell_type": "markdown",
   "id": "b90f2d91-c886-4e36-8265-b09d06bb1c7f",
   "metadata": {
    "papermill": {},
    "tags": []
   },
   "source": [
    "**Author:** [Florent Ravenel](https://www.linkedin.com/in/florent-ravenel)"
   ]
  },
  {
   "cell_type": "markdown",
   "id": "6bbf7807-dda4-4b8a-b016-fe258a0fa33f",
   "metadata": {
    "papermill": {},
    "tags": []
   },
   "source": [
    "**Last update:** 2023-09-25 (Created: 2023-09-25)"
   ]
  },
  {
   "cell_type": "markdown",
   "id": "214749fe-7f0b-4755-b7ea-1d200c234cc6",
   "metadata": {
    "papermill": {},
    "tags": []
   },
   "source": [
    "**Description:** This notebook is designed to check whether the number of tokens in a prompt exceeds the maximum limit of the model being used. You will have the ability to set a limit as a percentage based on the model's maximum token count. This feature ensures that you can engage in conversations without exceeding the context window. The function automatically calculates the maximum token count."
   ]
  },
  {
   "cell_type": "markdown",
   "id": "a1329bea-ad80-4981-874c-8776b11f89a8",
   "metadata": {
    "papermill": {},
    "tags": []
   },
   "source": [
    "**References:**\n",
    "- [How to count tokens with tiktoken](https://github.com/openai/openai-cookbook/blob/main/examples/How_to_count_tokens_with_tiktoken.ipynb)\n",
    "- [Naas Chat Plugin driver](https://github.com/jupyter-naas/drivers/blob/main/naas_drivers/tools/naas_chat_plugin.py)"
   ]
  },
  {
   "cell_type": "markdown",
   "id": "cff349c8-2816-4ae4-9229-027c068eeb51",
   "metadata": {
    "papermill": {},
    "tags": []
   },
   "source": [
    "## Input"
   ]
  },
  {
   "cell_type": "markdown",
   "id": "80266a9e-fe54-4f3e-aeb2-01483bbc53f9",
   "metadata": {
    "papermill": {},
    "tags": []
   },
   "source": [
    "### Import libraries"
   ]
  },
  {
   "cell_type": "code",
   "execution_count": 1,
   "id": "cc038b10-2679-42bc-909e-09a298339df4",
   "metadata": {
    "execution": {
     "iopub.execute_input": "2023-09-27T10:30:09.796028Z",
     "iopub.status.busy": "2023-09-27T10:30:09.794180Z",
     "iopub.status.idle": "2023-09-27T10:30:10.066453Z",
     "shell.execute_reply": "2023-09-27T10:30:10.065856Z",
     "shell.execute_reply.started": "2023-09-27T10:30:09.795940Z"
    },
    "papermill": {},
    "tags": []
   },
   "outputs": [],
   "source": [
    "from naas_drivers import naas_chat_plugin"
   ]
  },
  {
   "cell_type": "markdown",
   "id": "e930da4d-39a2-424e-8808-77fd0a3829bf",
   "metadata": {
    "papermill": {},
    "tags": []
   },
   "source": [
    "### Setup variables\n",
    "- `prompt`: The prompt for the plugin.\n",
    "- `model`: The name of the model to be used for tokenization. Default is \"gpt-3.5-turbo-16k\".\n",
    "- `limit`: The recommended limit as a fraction of the maximum limit. Default is 0.2 (20%)."
   ]
  },
  {
   "cell_type": "code",
   "execution_count": 2,
   "id": "6cf9bd9b-ce83-45a5-ab0f-15c978458b42",
   "metadata": {
    "execution": {
     "iopub.execute_input": "2023-09-27T10:30:10.068038Z",
     "iopub.status.busy": "2023-09-27T10:30:10.067778Z",
     "iopub.status.idle": "2023-09-27T10:30:10.072871Z",
     "shell.execute_reply": "2023-09-27T10:30:10.072381Z",
     "shell.execute_reply.started": "2023-09-27T10:30:10.068007Z"
    },
    "papermill": {},
    "tags": []
   },
   "outputs": [],
   "source": [
    "prompt = \"As a school teacher, You will help correct my text to ensure there are no mistakes. Please present yourself and review and correct a text everytime I write something to you.\"\n",
    "model = \"gpt-3.5-turbo-16k\"\n",
    "limit = 0.3"
   ]
  },
  {
   "cell_type": "markdown",
   "id": "9070993a-eec9-4f78-a7f9-2e18c743a20d",
   "metadata": {
    "papermill": {},
    "tags": []
   },
   "source": [
    "## Model"
   ]
  },
  {
   "cell_type": "markdown",
   "id": "2d959298-e04a-459f-85d9-1b12bb5754c9",
   "metadata": {
    "papermill": {},
    "tags": []
   },
   "source": [
    "### Create Naas Chat plugin"
   ]
  },
  {
   "cell_type": "code",
   "execution_count": 3,
   "id": "ac0af791-9f6d-4da8-82d0-1defed0bc59f",
   "metadata": {
    "execution": {
     "iopub.execute_input": "2023-09-27T10:30:10.074084Z",
     "iopub.status.busy": "2023-09-27T10:30:10.073862Z",
     "iopub.status.idle": "2023-09-27T10:30:10.586684Z",
     "shell.execute_reply": "2023-09-27T10:30:10.585931Z",
     "shell.execute_reply.started": "2023-09-27T10:30:10.074057Z"
    },
    "papermill": {},
    "tags": []
   },
   "outputs": [
    {
     "name": "stdout",
     "output_type": "stream",
     "text": [
      "✅ System prompt tokens count OK: 34 (limit: 30% -> 4915)\n"
     ]
    }
   ],
   "source": [
    "prompt_tokens, max_tokens = naas_chat_plugin.check_tokens(\n",
    "    prompt=prompt,\n",
    "    model=model,\n",
    "    limit=limit,\n",
    ")"
   ]
  },
  {
   "cell_type": "markdown",
   "id": "81ce4521-731f-42cb-8ace-0e7611c750b3",
   "metadata": {
    "papermill": {},
    "tags": []
   },
   "source": [
    "## Output"
   ]
  },
  {
   "cell_type": "markdown",
   "id": "34b625a0-f39b-4c7e-82f5-cc58a11ec902",
   "metadata": {
    "papermill": {},
    "tags": []
   },
   "source": [
    "### Display result"
   ]
  },
  {
   "cell_type": "code",
   "execution_count": 4,
   "id": "39437f23-bcf8-40df-9538-32b3cac1c8fb",
   "metadata": {
    "execution": {
     "iopub.execute_input": "2023-09-27T10:30:10.588219Z",
     "iopub.status.busy": "2023-09-27T10:30:10.587792Z",
     "iopub.status.idle": "2023-09-27T10:30:10.601571Z",
     "shell.execute_reply": "2023-09-27T10:30:10.600838Z",
     "shell.execute_reply.started": "2023-09-27T10:30:10.588186Z"
    },
    "papermill": {},
    "tags": []
   },
   "outputs": [
    {
     "name": "stdout",
     "output_type": "stream",
     "text": [
      "Prompt Tokens: 34\n",
      "Models Max Tokens: 16385\n"
     ]
    }
   ],
   "source": [
    "print(\"Prompt Tokens:\", prompt_tokens)\n",
    "print(\"Models Max Tokens:\", max_tokens)"
   ]
  },
  {
   "cell_type": "code",
   "execution_count": null,
   "id": "7080d2bc-8fc8-48cc-9ed9-5e8cab33002b",
   "metadata": {},
   "outputs": [],
   "source": []
  }
 ],
 "metadata": {
  "kernelspec": {
   "display_name": "Python 3",
   "language": "python",
   "name": "python3"
  },
  "language_info": {
   "codemirror_mode": {
    "name": "ipython",
    "version": 3
   },
   "file_extension": ".py",
   "mimetype": "text/x-python",
   "name": "python",
   "nbconvert_exporter": "python",
   "pygments_lexer": "ipython3",
   "version": "3.9.6"
  },
  "widgets": {
   "application/vnd.jupyter.widget-state+json": {
    "state": {},
    "version_major": 2,
    "version_minor": 0
   }
  }
 },
 "nbformat": 4,
 "nbformat_minor": 5
}
