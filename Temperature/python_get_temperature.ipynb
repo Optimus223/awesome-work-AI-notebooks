{
 "cells": [
  {
   "cell_type": "markdown",
   "id": "25d8c1ff-feca-44c2-94fc-c74b63846384",
   "metadata": {
    "execution": {
     "iopub.execute_input": "2022-10-03T11:04:03.587704Z",
     "iopub.status.busy": "2022-10-03T11:04:03.587487Z",
     "iopub.status.idle": "2022-10-03T11:04:03.590611Z",
     "shell.execute_reply": "2022-10-03T11:04:03.589993Z",
     "shell.execute_reply.started": "2022-10-03T11:04:03.587681Z"
    },
    "tags": []
   },
   "source": [
    "<img width=\"10%\" alt=\"Naas\" src=\"https://landen.imgix.net/jtci2pxwjczr/assets/5ice39g4.png?w=160\"/>\n"
   ]
  },
  {
   "cell_type": "markdown",
   "id": "69325539-97a7-4f6e-83f0-76b52f0676e7",
   "metadata": {
    "execution": {
     "iopub.execute_input": "2022-10-03T11:16:46.884435Z",
     "iopub.status.busy": "2022-10-03T11:16:46.884199Z",
     "iopub.status.idle": "2022-10-03T11:16:46.888652Z",
     "shell.execute_reply": "2022-10-03T11:16:46.888010Z",
     "shell.execute_reply.started": "2022-10-03T11:16:46.884409Z"
    }
   },
   "source": [
    "# Python - Get current city weather"
   ]
  },
  {
   "cell_type": "markdown",
   "id": "21a05d8b-aba5-48a4-8e00-82be790b4658",
   "metadata": {
    "execution": {
     "iopub.execute_input": "2022-10-04T21:35:24.834241Z",
     "iopub.status.busy": "2022-10-04T21:35:24.833909Z",
     "iopub.status.idle": "2022-10-04T21:35:24.850072Z",
     "shell.execute_reply": "2022-10-04T21:35:24.849138Z",
     "shell.execute_reply.started": "2022-10-04T21:35:24.834161Z"
    }
   },
   "source": [
    "**Tags:** #python #snippet #naas #get_tempreture "
   ]
  },
  {
   "cell_type": "markdown",
   "id": "7639a326-fae3-499d-bfc7-bead728a2536",
   "metadata": {
    "execution": {
     "iopub.execute_input": "2022-10-03T11:35:30.182801Z",
     "iopub.status.busy": "2022-10-03T11:35:30.182571Z",
     "iopub.status.idle": "2022-10-03T11:35:30.190849Z",
     "shell.execute_reply": "2022-10-03T11:35:30.189947Z",
     "shell.execute_reply.started": "2022-10-03T11:35:30.182777Z"
    }
   },
   "source": [
    "**Author:** [Kanishk Pareek](https://in.linkedin.com/in/kanishkpareek)"
   ]
  },
  {
   "cell_type": "markdown",
   "id": "e39715db-7f60-459a-ab22-af38de43618f",
   "metadata": {},
   "source": [
    "This notebook helps to get the temperature and wind speed of your city by only giving the city as input"
   ]
  },
  {
   "cell_type": "markdown",
   "id": "55f4ec6b-4c7c-47a8-bf76-7ab541c2ed66",
   "metadata": {
    "execution": {
     "iopub.execute_input": "2022-10-03T11:38:57.763736Z",
     "iopub.status.busy": "2022-10-03T11:38:57.763514Z",
     "iopub.status.idle": "2022-10-03T11:38:57.766425Z",
     "shell.execute_reply": "2022-10-03T11:38:57.765784Z",
     "shell.execute_reply.started": "2022-10-03T11:38:57.763713Z"
    }
   },
   "source": [
    "## Input\n",
    "### Import library"
   ]
  },
  {
   "cell_type": "code",
   "execution_count": 2,
   "id": "d8dcc63e-853f-43d6-8066-b80d942b3e42",
   "metadata": {
    "execution": {
     "iopub.execute_input": "2022-10-04T21:35:41.026166Z",
     "iopub.status.busy": "2022-10-04T21:35:41.025935Z",
     "iopub.status.idle": "2022-10-04T21:35:41.121216Z",
     "shell.execute_reply": "2022-10-04T21:35:41.120422Z",
     "shell.execute_reply.started": "2022-10-04T21:35:41.026144Z"
    },
    "tags": []
   },
   "outputs": [],
   "source": [
    "import requests"
   ]
  },
  {
   "cell_type": "markdown",
   "id": "fc7a2f1f-e5a8-40be-84c7-9fa69dc86092",
   "metadata": {},
   "source": [
    "### Variable"
   ]
  },
  {
   "cell_type": "code",
   "execution_count": 3,
   "id": "2d42997e-071a-4a5b-913d-9d484ed43a44",
   "metadata": {
    "execution": {
     "iopub.execute_input": "2022-10-04T21:35:49.878965Z",
     "iopub.status.busy": "2022-10-04T21:35:49.878741Z",
     "iopub.status.idle": "2022-10-04T21:35:49.881919Z",
     "shell.execute_reply": "2022-10-04T21:35:49.881243Z",
     "shell.execute_reply.started": "2022-10-04T21:35:49.878943Z"
    },
    "tags": []
   },
   "outputs": [],
   "source": [
    "city1 = \"City Name : \""
   ]
  },
  {
   "cell_type": "markdown",
   "id": "f9d714d8-4ad1-4007-ae4d-fff41c624000",
   "metadata": {
    "execution": {
     "iopub.execute_input": "2022-10-03T12:00:22.838271Z",
     "iopub.status.busy": "2022-10-03T12:00:22.837989Z",
     "iopub.status.idle": "2022-10-03T12:00:22.852555Z",
     "shell.execute_reply": "2022-10-03T12:00:22.851553Z",
     "shell.execute_reply.started": "2022-10-03T12:00:22.838240Z"
    }
   },
   "source": [
    "## Model"
   ]
  },
  {
   "cell_type": "code",
   "execution_count": 4,
   "id": "642e42d7-54a4-4233-b55e-b98cc01a17aa",
   "metadata": {
    "execution": {
     "iopub.execute_input": "2022-10-04T21:35:54.258026Z",
     "iopub.status.busy": "2022-10-04T21:35:54.257778Z",
     "iopub.status.idle": "2022-10-04T21:35:54.276671Z",
     "shell.execute_reply": "2022-10-04T21:35:54.276020Z",
     "shell.execute_reply.started": "2022-10-04T21:35:54.257991Z"
    },
    "tags": []
   },
   "outputs": [],
   "source": [
    "def get_temperature(json_data):\n",
    "    temp_in_celcius = json_data['main']['temp']\n",
    "    return temp_in_celcius\n",
    "def get_weather_type(json_data):\n",
    "    weather_type = json_data['weather'][0]['description']\n",
    "    return weather_type\n",
    "def get_wind_speed(json_data):\n",
    "    wind_speed = json_data['wind']['speed']\n",
    "    return wind_speed\n",
    "def get_weather_data(json_data, city):\n",
    "    description_of_weather = json_data['weather'][0]['description']\n",
    "    weather_type = get_weather_type(json_data)\n",
    "    temperature = get_temperature(json_data)\n",
    "    wind_speed = get_wind_speed(json_data)\n",
    "    weather_details = ''\n",
    "    return weather_details + (\"The weather in {} is currently {} with a temperature of {} degrees and wind speeds reaching {} km/ph\".format(city, weather_type, temperature, wind_speed))\n",
    "def main():\n",
    "    api_address = 'https://api.openweathermap.org/data/2.5/weather?q=Sydney,au&appid=a10fd8a212e47edf8d946f26fb4cdef8&q='\n",
    "    city=city1\n",
    "    units_format = \"&units=metric\"\n",
    "    final_url = api_address + city + units_format\n",
    "    json_data = requests.get(final_url).json()\n",
    "    weather_details = get_weather_data(json_data, city)\n",
    "    print(weather_details)"
   ]
  },
  {
   "cell_type": "markdown",
   "id": "af0d2bc2-a2a8-4c84-9b60-b64ba56ea542",
   "metadata": {},
   "source": [
    "## Output"
   ]
  },
  {
   "cell_type": "code",
   "execution_count": 5,
   "id": "11318f17-e484-4bd5-b7df-d8f7e2e8a707",
   "metadata": {
    "execution": {
     "iopub.execute_input": "2022-10-04T21:35:55.850038Z",
     "iopub.status.busy": "2022-10-04T21:35:55.849820Z",
     "iopub.status.idle": "2022-10-04T21:35:55.958634Z",
     "shell.execute_reply": "2022-10-04T21:35:55.957974Z",
     "shell.execute_reply.started": "2022-10-04T21:35:55.850016Z"
    },
    "tags": []
   },
   "outputs": [
    {
     "name": "stdout",
     "output_type": "stream",
     "text": [
      "The weather in City Name :  is currently light rain with a temperature of 14.97 degrees and wind speeds reaching 1.79 km/ph\n"
     ]
    }
   ],
   "source": [
    "main()"
   ]
  }
 ],
 "metadata": {
  "kernelspec": {
   "display_name": "Python 3",
   "language": "python",
   "name": "python3"
  },
  "language_info": {
   "codemirror_mode": {
    "name": "ipython",
    "version": 3
   },
   "file_extension": ".py",
   "mimetype": "text/x-python",
   "name": "python",
   "nbconvert_exporter": "python",
   "pygments_lexer": "ipython3",
   "version": "3.9.6"
  }
 },
 "nbformat": 4,
 "nbformat_minor": 5
}
