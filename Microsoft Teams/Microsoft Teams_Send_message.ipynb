{
 "cells": [
  {
   "cell_type": "markdown",
   "id": "turned-earth",
   "metadata": {
    "papermill": {},
    "tags": []
   },
   "source": [
    "<img width=\"10%\" alt=\"Naas\" src=\"https://landen.imgix.net/jtci2pxwjczr/assets/5ice39g4.png?w=160\"/>"
   ]
  },
  {
   "cell_type": "markdown",
   "id": "consistent-scholar",
   "metadata": {
    "execution": {
     "iopub.execute_input": "2021-01-26T14:10:27.020371Z",
     "iopub.status.busy": "2021-01-26T14:10:27.020098Z",
     "iopub.status.idle": "2021-01-26T14:10:27.023428Z",
     "shell.execute_reply": "2021-01-26T14:10:27.022739Z",
     "shell.execute_reply.started": "2021-01-26T14:10:27.020304Z"
    },
    "papermill": {},
    "tags": []
   },
   "source": [
    "# Microsoft Teams - Send message\n",
    "<a href=\"https://app.naas.ai/user-redirect/naas/downloader?url=https://raw.githubusercontent.com/jupyter-naas/awesome-notebooks/master/Microsoft%20Teams/Microsoft%20Teams_Send_message.ipynb\" target=\"_parent\"><img src=\"https://img.shields.io/badge/-Open%20in%20Naas-success?labelColor=000000&logo=data:image/svg+xml;base64,PD94bWwgdmVyc2lvbj0iMS4wIiBlbmNvZGluZz0iVVRGLTgiPz4KPHN2ZyB3aWR0aD0iMTAyNHB4IiBoZWlnaHQ9IjEwMjRweCIgdmlld0JveD0iMCAwIDEwMjQgMTAyNCIgeG1sbnM9Imh0dHA6Ly93d3cudzMub3JnLzIwMDAvc3ZnIiB4bWxuczp4bGluaz0iaHR0cDovL3d3dy53My5vcmcvMTk5OS94bGluayIgdmVyc2lvbj0iMS4xIj4KIDwhLS0gR2VuZXJhdGVkIGJ5IFBpeGVsbWF0b3IgUHJvIDIuMC41IC0tPgogPGRlZnM+CiAgPHRleHQgaWQ9InN0cmluZyIgdHJhbnNmb3JtPSJtYXRyaXgoMS4wIDAuMCAwLjAgMS4wIDIyOC4wIDU0LjUpIiBmb250LWZhbWlseT0iQ29tZm9ydGFhLVJlZ3VsYXIsIENvbWZvcnRhYSIgZm9udC1zaXplPSI4MDAiIHRleHQtZGVjb3JhdGlvbj0ibm9uZSIgZmlsbD0iI2ZmZmZmZiIgeD0iMS4xOTk5OTk5OTk5OTk5ODg2IiB5PSI3MDUuMCI+bjwvdGV4dD4KIDwvZGVmcz4KIDx1c2UgaWQ9Im4iIHhsaW5rOmhyZWY9IiNzdHJpbmciLz4KPC9zdmc+Cg==\"/></a>"
   ]
  },
  {
   "cell_type": "markdown",
   "id": "4ced3a2a-840b-4ca0-b184-dda55e422779",
   "metadata": {},
   "source": [
    "**Tags:** #teams #microsoft"
   ]
  },
  {
   "cell_type": "markdown",
   "id": "input_cell",
   "metadata": {
    "papermill": {},
    "tags": []
   },
   "source": [
    "## Input"
   ]
  },
  {
   "cell_type": "markdown",
   "id": "import_cell",
   "metadata": {
    "papermill": {},
    "tags": []
   },
   "source": [
    "### Import library"
   ]
  },
  {
   "cell_type": "code",
   "execution_count": 1,
   "id": "alpine-restaurant",
   "metadata": {
    "execution": {
     "iopub.execute_input": "2021-10-05T12:29:52.061848Z",
     "iopub.status.busy": "2021-10-05T12:29:52.061588Z",
     "iopub.status.idle": "2021-10-05T12:29:59.352297Z",
     "shell.execute_reply": "2021-10-05T12:29:59.351615Z",
     "shell.execute_reply.started": "2021-10-05T12:29:52.061783Z"
    },
    "papermill": {},
    "tags": []
   },
   "outputs": [],
   "source": [
    "from naas_drivers import teams"
   ]
  },
  {
   "cell_type": "markdown",
   "id": "sharing-match",
   "metadata": {
    "execution": {
     "iopub.execute_input": "2021-01-26T14:13:57.115792Z",
     "iopub.status.busy": "2021-01-26T14:13:57.115575Z",
     "iopub.status.idle": "2021-01-26T14:13:57.123461Z",
     "shell.execute_reply": "2021-01-26T14:13:57.122684Z",
     "shell.execute_reply.started": "2021-01-26T14:13:57.115768Z"
    },
    "papermill": {},
    "tags": []
   },
   "source": [
    "### Connect to your Teams\n",
    "[Click here to discover how to get your webhook](https://naas.gitbook.io/drivers/automation/teams)"
   ]
  },
  {
   "cell_type": "code",
   "execution_count": 11,
   "id": "polished-picture",
   "metadata": {
    "execution": {
     "iopub.execute_input": "2021-01-26T14:18:25.176008Z",
     "iopub.status.busy": "2021-01-26T14:18:25.175736Z",
     "iopub.status.idle": "2021-01-26T14:18:25.180401Z",
     "shell.execute_reply": "2021-01-26T14:18:25.179879Z",
     "shell.execute_reply.started": "2021-01-26T14:18:25.175982Z"
    },
    "papermill": {},
    "tags": []
   },
   "outputs": [],
   "source": [
    "webhook = \"https://forgr.webhook.office.com/webhookb2/83bcbd92-7095-48e9-bc59-60fb9f6dcf2e@da744f16-111c-41b2-899f-6332dfe22d16/IncomingWebhook/b3cf540a51d7465ca10bd85a61c10d92/c97dc097-a7ff-4123-865d-ac6482bcdac2\""
   ]
  },
  {
   "cell_type": "markdown",
   "id": "model_cell",
   "metadata": {
    "papermill": {},
    "tags": []
   },
   "source": [
    "## Model"
   ]
  },
  {
   "cell_type": "markdown",
   "id": "martial-breakfast",
   "metadata": {
    "execution": {
     "iopub.execute_input": "2021-01-26T14:12:31.462033Z",
     "iopub.status.busy": "2021-01-26T14:12:31.461804Z",
     "iopub.status.idle": "2021-01-26T14:12:31.464769Z",
     "shell.execute_reply": "2021-01-26T14:12:31.464098Z",
     "shell.execute_reply.started": "2021-01-26T14:12:31.462007Z"
    },
    "papermill": {},
    "tags": []
   },
   "source": [
    "### Set your message "
   ]
  },
  {
   "cell_type": "code",
   "execution_count": 12,
   "id": "thousand-painting",
   "metadata": {
    "execution": {
     "iopub.execute_input": "2021-01-26T14:18:25.835925Z",
     "iopub.status.busy": "2021-01-26T14:18:25.835657Z",
     "iopub.status.idle": "2021-01-26T14:18:25.838782Z",
     "shell.execute_reply": "2021-01-26T14:18:25.838160Z",
     "shell.execute_reply.started": "2021-01-26T14:18:25.835899Z"
    },
    "papermill": {},
    "tags": []
   },
   "outputs": [],
   "source": [
    "message = \"second test\"\n",
    "image_url = \"http://i.imgur.com/c4jt321l.png\" # Set to None if you don't need it"
   ]
  },
  {
   "cell_type": "markdown",
   "id": "output_cell",
   "metadata": {
    "papermill": {},
    "tags": []
   },
   "source": [
    "## Output"
   ]
  },
  {
   "cell_type": "markdown",
   "id": "neutral-patrick",
   "metadata": {
    "papermill": {},
    "tags": []
   },
   "source": [
    "### Send it"
   ]
  },
  {
   "cell_type": "code",
   "execution_count": 13,
   "id": "seventh-catering",
   "metadata": {
    "execution": {
     "iopub.execute_input": "2021-01-26T14:18:36.588316Z",
     "iopub.status.busy": "2021-01-26T14:18:36.588092Z",
     "iopub.status.idle": "2021-01-26T14:18:37.292988Z",
     "shell.execute_reply": "2021-01-26T14:18:37.292283Z",
     "shell.execute_reply.started": "2021-01-26T14:18:36.588293Z"
    },
    "papermill": {},
    "tags": []
   },
   "outputs": [],
   "source": [
    "tm = teams.connect(webhook)\n",
    "tm.send(message, image=image_url)"
   ]
  }
 ],
 "metadata": {
  "kernelspec": {
   "display_name": "Python 3",
   "language": "python",
   "name": "python3"
  },
  "language_info": {
   "codemirror_mode": {
    "name": "ipython",
    "version": 3
   },
   "file_extension": ".py",
   "mimetype": "text/x-python",
   "name": "python",
   "nbconvert_exporter": "python",
   "pygments_lexer": "ipython3",
   "version": "3.8.8"
  },
  "papermill": {
   "default_parameters": {},
   "environment_variables": {},
   "parameters": {},
   "version": "2.3.3"
  },
  "toc-autonumbering": false,
  "toc-showmarkdowntxt": false
 },
 "nbformat": 4,
 "nbformat_minor": 5
}
