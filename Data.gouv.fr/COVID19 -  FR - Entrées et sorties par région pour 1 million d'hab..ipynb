{
 "cells": [
  {
   "cell_type": "markdown",
   "id": "da2783cc-d0a6-4468-a046-3a231d44977a",
   "metadata": {
    "papermill": {},
    "tags": []
   },
   "source": [
    "<img width=\"10%\" alt=\"Naas\" src=\"https://landen.imgix.net/jtci2pxwjczr/assets/5ice39g4.png?w=160\"/>"
   ]
  },
  {
   "cell_type": "markdown",
   "id": "urban-justice",
   "metadata": {
    "colab_type": "text",
    "id": "52pde5EhVGqT",
    "papermill": {},
    "tags": []
   },
   "source": [
    "# Data.gouv.fr - COVID19 -  FR - Entr\u00e9es et sorties par r\u00e9gion pour 1 million d'hab.\n",
    "<a href=\"https://app.naas.ai/user-redirect/naas/downloader?url=https://raw.githubusercontent.com/jupyter-naas/awesome-notebooks/master/Data.gouv.fr/COVID19%20-%20%20FR%20-%20Entr%C3%A9es%20et%20sorties%20par%20r%C3%A9gion%20pour%201%20million%20d%27hab..ipynb\" target=\"_parent\"><img src=\"https://naasai-public.s3.eu-west-3.amazonaws.com/open_in_naas.svg\"/></a><br><br><a href=\"https://github.com/jupyter-naas/awesome-notebooks/issues/new?assignees=&labels=&template=template-request.md&title=Tool+-+Action+of+the+notebook+\">Template request</a> | <a href=\"https://github.com/jupyter-naas/awesome-notebooks/issues/new?assignees=&labels=bug&template=bug_report.md&title=Data.gouv.fr+-+COVID19+-++FR+-+Entr\u00e9es+et+sorties+par+r\u00e9gion+pour+1+million+d'hab.:+Error+short+description\">Bug report</a>"
   ]
  },
  {
   "cell_type": "markdown",
   "id": "3b7daddf-5cfa-446d-8534-f468e32510ee",
   "metadata": {
    "papermill": {},
    "tags": []
   },
   "source": [
    "**Tags:** #data.gouv.fr #opendata #france #analytics"
   ]
  },
  {
   "cell_type": "markdown",
   "id": "315de22d-20c4-4022-b29f-a0c25b866e1c",
   "metadata": {
    "papermill": {},
    "tags": []
   },
   "source": [
    "**Author:** [Jeremy Ravenel](https://www.linkedin.com/in/ACoAAAJHE7sB5OxuKHuzguZ9L6lfDHqw--cdnJg/)"
   ]
  },
  {
   "cell_type": "markdown",
   "id": "naas-description",
   "metadata": {
    "papermill": {},
    "tags": [
     "description"
    ]
   },
   "source": [
    "**Description:** This notebook provides an analysis of the entry and exit of one million people in each region of France due to the COVID-19 pandemic."
   ]
  },
  {
   "cell_type": "markdown",
   "id": "exciting-rescue",
   "metadata": {
    "colab_type": "text",
    "id": "7FA-8pmOVjKO",
    "papermill": {},
    "tags": []
   },
   "source": [
    "## Input"
   ]
  },
  {
   "cell_type": "markdown",
   "id": "d4be8416-f066-4334-9198-88d91eb570a0",
   "metadata": {
    "papermill": {},
    "tags": []
   },
   "source": [
    "### Import libraries"
   ]
  },
  {
   "cell_type": "code",
   "execution_count": null,
   "id": "innovative-miracle",
   "metadata": {
    "colab": {},
    "colab_type": "code",
    "id": "jagZiGoqVn1o",
    "papermill": {},
    "tags": []
   },
   "outputs": [],
   "source": "import requests\nimport pandas as pd\nfrom datetime import datetime, timedelta\nimport plotly.graph_objects as go\nfrom plotly.subplots import make_subplots\nimport numpy as np"
  },
  {
   "cell_type": "markdown",
   "id": "communist-somewhere",
   "metadata": {
    "colab_type": "text",
    "id": "JzlBOp_MVrlA",
    "papermill": {},
    "tags": []
   },
   "source": [
    "### Variables"
   ]
  },
  {
   "cell_type": "code",
   "execution_count": null,
   "id": "awful-serial",
   "metadata": {
    "colab": {},
    "colab_type": "code",
    "id": "w7sZu-QjV8QU",
    "papermill": {},
    "tags": []
   },
   "outputs": [],
   "source": "# URLs\nBASE_URL_ENTREE = \"https://geodes.santepubliquefrance.fr/GC_indic.php?lang=fr&prodhash=3c0e7522&indic=incid_rea&dataset=covid_hospit_incid&view=map2&filters=jour=\"\nBASE_URL_TOTAL = \"https://geodes.santepubliquefrance.fr/GC_indic.php?lang=fr&prodhash=3c0e7522&indic=rea&dataset=covid_hospit&view=map2&filters=sexe=0,jour=\"\n\n# Liste des d\u00e9partements\nDEPARTMENTS = [\n    \"Ain\",\n    \"Aisne\",\n    \"Allier\",\n    \"Alpes-de-Haute-Provence\",\n    \"Hautes-Alpes\",\n    \"Alpes-Maritimes\",\n    \"Ard\u00e8che\",\n    \"Ardennes\",\n    \"Ari\u00e8ge\",\n    \"Aube\",\n    \"Aude\",\n    \"Aveyron\",\n    \"Bouches-du-Rh\u00f4ne\",\n    \"Calvados\",\n    \"Cantal\",\n    \"Charente\",\n    \"Charente-Maritime\",\n    \"Cher\",\n    \"Corr\u00e8ze\",\n    \"C\u00f4te-d'Or\",\n    \"C\u00f4tes-d'Armor\",\n    \"Creuse\",\n    \"Dordogne\",\n    \"Doubs\",\n    \"Dr\u00f4me\",\n    \"Eure\",\n    \"Eure-et-Loir\",\n    \"Finist\u00e8re\",\n    \"Corse-du-Sud\",\n    \"Haute-Corse\",\n    \"Gard\",\n    \"Haute-Garonne\",\n    \"Gers\",\n    \"Gironde\",\n    \"H\u00e9rault\",\n    \"Ille-et-Vilaine\",\n    \"Indre\",\n    \"Indre-et-Loire\",\n    \"Is\u00e8re\",\n    \"Jura\",\n    \"Landes\",\n    \"Loir-et-Cher\",\n    \"Loire\",\n    \"Haute-Loire\",\n    \"Loire-Atlantique\",\n    \"Loiret\",\n    \"Lot\",\n    \"Lot-et-Garonne\",\n    \"Loz\u00e8re\",\n    \"Maine-et-Loire\",\n    \"Manche\",\n    \"Marne\",\n    \"Haute-Marne\",\n    \"Mayenne\",\n    \"Meurthe-et-Moselle\",\n    \"Meuse\",\n    \"Morbihan\",\n    \"Moselle\",\n    \"Ni\u00e8vre\",\n    \"Nord\",\n    \"Oise\",\n    \"Orne\",\n    \"Pas-de-Calais\",\n    \"Puy-de-D\u00f4me\",\n    \"Pyr\u00e9n\u00e9es-Atlantiques\",\n    \"Hautes-Pyr\u00e9n\u00e9es\",\n    \"Pyr\u00e9n\u00e9es-Orientales\",\n    \"Bas-Rhin\",\n    \"Haut-Rhin\",\n    \"Rh\u00f4ne\",\n    \"Haute-Sa\u00f4ne\",\n    \"Sa\u00f4ne-et-Loire\",\n    \"Sarthe\",\n    \"Savoie\",\n    \"Haute-Savoie\",\n    \"Paris\",\n    \"Seine-Maritime\",\n    \"Seine-et-Marne\",\n    \"Yvelines\",\n    \"Deux-S\u00e8vres\",\n    \"Somme\",\n    \"Tarn\",\n    \"Tarn-et-Garonne\",\n    \"Var\",\n    \"Vaucluse\",\n    \"Vend\u00e9e\",\n    \"Vienne\",\n    \"Haute-Vienne\",\n    \"Vosges\",\n    \"Yonne\",\n    \"Territoire de Belfort\",\n    \"Essonne\",\n    \"Hauts-de-Seine\",\n    \"Seine-Saint-Denis\",\n    \"Val-de-Marne\",\n    \"Val-d'Oise\",\n    \"Guadeloupe\",\n    \"Martinique\",\n    \"Guyane\",\n    \"La R\u00e9union\",\n    \"Mayotte\",\n    \"France Enti\u00e8re\",\n]\n\n# Nombre de jours\nLISSAGE_JOURS = 7\n\n# Pour contenir les x derniers jours, x \u00e9tant la variable \"LISSAGE_JOURS\"\nDATES = []\n\n# Les indices contiennent x tableaux ordonn\u00e9s en fonction de \"DATES\" contenant les donn\u00e9es des d\u00e9partements ordonn\u00e9 comme \"DEPARTEMENTS\"\nINDICES_TEMP_ENTREES = []\nINDICES_TEMP_REANIMATION = []\nINDICES_TEMP_COURANT = []\nINDICES_ENTREES = []\nINDICES_COURANT = []\nINDICES_SORTIES = []"
  },
  {
   "cell_type": "markdown",
   "id": "94b5c316-65d7-4e08-a085-03a713f31cb8",
   "metadata": {
    "papermill": {},
    "tags": []
   },
   "source": [
    "## Model"
   ]
  },
  {
   "cell_type": "markdown",
   "id": "distinguished-cholesterol",
   "metadata": {
    "colab_type": "text",
    "id": "gsFJOu37Wtnu",
    "papermill": {},
    "tags": []
   },
   "source": [
    "### R\u00e9cup\u00e9ration des donn\u00e9es"
   ]
  },
  {
   "cell_type": "code",
   "execution_count": null,
   "id": "laughing-instrument",
   "metadata": {
    "colab": {},
    "colab_type": "code",
    "id": "EZRSZeNdCr4F",
    "papermill": {},
    "tags": []
   },
   "outputs": [],
   "source": "for i in range(LISSAGE_JOURS + 1):\n    # G\u00e9n\u00e9ration des dates\n    DAY = (\n        (datetime.today() - timedelta(days=(LISSAGE_JOURS - i)))\n        .isoformat()\n        .split(\"T\")[0]\n    )\n    DATES.append(DAY)\n\n    # R\u00e9cup\u00e9ration des entr\u00e9es en r\u00e9animation\n    URL = BASE_URL_ENTREE + DAY\n    RESPONSE = requests.get(URL)\n    JSON = RESPONSE.json()\n    INDICES_TEMP_ENTREES.append(JSON[\"content\"][\"distribution\"][\"values\"])\n    TOTAL_ENTREES = 0\n    for value in JSON[\"content\"][\"distribution\"][\"values\"]:\n        TOTAL_ENTREES += value\n        INDICES_ENTREES.append(value)\n    INDICES_ENTREES.append(TOTAL_ENTREES)\n\n    # R\u00e9cup\u00e9ration des personnes actuellement en r\u00e9animation\n    URL = BASE_URL_TOTAL + DAY\n    RESPONSE = requests.get(URL)\n    JSON = RESPONSE.json()\n    INDICES_TEMP_REANIMATION.append(JSON[\"content\"][\"distribution\"][\"values\"])"
  },
  {
   "cell_type": "markdown",
   "id": "distributed-disclosure",
   "metadata": {
    "colab_type": "text",
    "id": "ykWaVK_Wdm2N",
    "papermill": {},
    "tags": []
   },
   "source": [
    "### Calcul des donn\u00e9es"
   ]
  },
  {
   "cell_type": "code",
   "execution_count": null,
   "id": "afraid-plane",
   "metadata": {
    "colab": {},
    "colab_type": "code",
    "id": "ySTHWg1Nd0X-",
    "papermill": {},
    "tags": []
   },
   "outputs": [],
   "source": "for i in range(1, LISSAGE_JOURS + 1):\n    TOTAL_SORTIES = 0\n    for j in range(len(DEPARTMENTS) - 1):\n        INDICES_TEMP_COURANT.append([])\n        INDICES_TEMP_COURANT[i - 1].append(\n            INDICES_TEMP_REANIMATION[i][j] - INDICES_TEMP_REANIMATION[i - 1][j]\n        )\n        TOTAL_SORTIES += INDICES_TEMP_ENTREES[i][j] - INDICES_TEMP_COURANT[i - 1][j]\n        INDICES_SORTIES.append(\n            INDICES_TEMP_ENTREES[i][j] - INDICES_TEMP_COURANT[i - 1][j]\n        )\n    INDICES_SORTIES.append(TOTAL_SORTIES)\n\nINDICES_ENTREES = INDICES_ENTREES[len(DEPARTMENTS) : len(INDICES_ENTREES)]\nDATES.pop(0)\n\nfor value in INDICES_TEMP_COURANT:\n    TOTAL_COURANT = 0\n    for v in value:\n        TOTAL_COURANT += v\n        INDICES_COURANT.append(v)\n    INDICES_COURANT.append(TOTAL_COURANT)"
  },
  {
   "cell_type": "markdown",
   "id": "reflected-sauce",
   "metadata": {
    "colab_type": "text",
    "id": "IvNnTo8Eg24W",
    "papermill": {},
    "tags": []
   },
   "source": [
    "### Mise en forme des donn\u00e9es"
   ]
  },
  {
   "cell_type": "code",
   "execution_count": null,
   "id": "convinced-screening",
   "metadata": {
    "colab": {
     "base_uri": "https://localhost:8080/",
     "height": 450
    },
    "colab_type": "code",
    "id": "kNM5uuaSg4Jn",
    "outputId": "c39b4573-1d9c-4e66-8836-385722941564",
    "papermill": {},
    "tags": []
   },
   "outputs": [],
   "source": "iterables = []\niterables.append(DATES)\niterables.append(DEPARTMENTS)\nidx = pd.MultiIndex.from_product(iterables, names=[\"DATE\", \"ZONE\"])\n\ndatas = []\nfor i in range(len(iterables[1]) * len(iterables[0])):\n    datas.append(\n        np.array(\n            [\n                INDICES_ENTREES[i],\n                INDICES_SORTIES[i],\n                INDICES_COURANT[i],\n                datetime.today(),\n            ]\n        )\n    )\n\ndf = pd.DataFrame(\n    datas, index=idx, columns=[\"ENTREES\", \"SORTIES\", \"SOLDES\", \"LAST UPDATE\"]\n)\ndf"
  },
  {
   "cell_type": "markdown",
   "id": "e078dee0-20ab-493d-8594-4c84a59bb54f",
   "metadata": {
    "papermill": {},
    "tags": []
   },
   "source": [
    "## Output"
   ]
  },
  {
   "cell_type": "markdown",
   "id": "going-adolescent",
   "metadata": {
    "colab_type": "text",
    "id": "w0BBkRBtpLzw",
    "papermill": {},
    "tags": []
   },
   "source": [
    "### Plotting"
   ]
  },
  {
   "cell_type": "code",
   "execution_count": null,
   "id": "independent-commodity",
   "metadata": {
    "colab": {
     "base_uri": "https://localhost:8080/",
     "height": 417
    },
    "colab_type": "code",
    "id": "0CH_4xlPpShW",
    "outputId": "7e6f3805-f88d-492c-a4b6-de216320e342",
    "papermill": {},
    "tags": []
   },
   "outputs": [],
   "source": "# Pr\u00e9pare la figure pour deux graphes\nfig = make_subplots(rows=2, cols=1)\n# fig = go.Figure()\n\n# Application d'un filtre pour le graphe\n# df = df.filter(like='France Enti\u00e8re', axis=0)\n\n# Cr\u00e9ation des \u00e9l\u00e9ments du dropdown pour appliquer les filtres\nbuttons = []\nbuttons.append(\n    dict(\n        method=\"restyle\",\n        label=\"Entire France\",\n        args=[\n            {\n                \"y\": [\n                    df.filter(like=\"France Enti\u00e8re\", axis=0).ENTREES,\n                    df.filter(like=\"France Enti\u00e8re\", axis=0).SORTIES,\n                    df.filter(like=\"France Enti\u00e8re\", axis=0).SOLDES,\n                ]\n            }\n        ],\n    )\n)\nfor i in range(len(DEPARTMENTS) - 1):\n    dep = DEPARTMENTS[i]\n    buttons.append(\n        dict(\n            method=\"restyle\",\n            label=dep,\n            args=[\n                {\n                    \"y\": [\n                        df.filter(like=dep, axis=0).ENTREES,\n                        df.filter(like=dep, axis=0).SORTIES,\n                        df.filter(like=dep, axis=0).SOLDES,\n                    ]\n                }\n            ],\n        )\n    )\n\n# Affichage des lignes dans le graphe\nfig.add_trace(\n    go.Scatter(\n        x=df.filter(like=\"France Enti\u00e8re\", axis=0).index.get_level_values(\"DATE\"),\n        y=df.filter(like=\"France Enti\u00e8re\", axis=0).ENTREES,\n        fill=\"tozeroy\",\n        name=\"Admissions\",\n        line=dict(width=0.5, color=\"rgb(160,0,0)\"),\n        line_shape=\"spline\",\n    ),\n    row=1,\n    col=1,\n)\nfig.add_trace(\n    go.Scatter(\n        x=df.filter(like=\"France Enti\u00e8re\", axis=0).index.get_level_values(\"DATE\"),\n        y=df.filter(like=\"France Enti\u00e8re\", axis=0).SORTIES,\n        fill=\"tozeroy\",\n        name=\"Releases\",\n        line=dict(width=0.5, color=\"rgb(0,160,0)\"),\n        line_shape=\"spline\",\n    ),\n    row=1,\n    col=1,\n)\nfig.add_trace(\n    go.Scatter(\n        x=df.filter(like=\"France Enti\u00e8re\", axis=0).index.get_level_values(\"DATE\"),\n        y=df.filter(like=\"France Enti\u00e8re\", axis=0).SOLDES,\n        fill=\"tozeroy\",\n        name=\"Balance\",\n        line=dict(width=0.5, color=\"rgb(0,0,160)\"),\n        line_shape=\"spline\",\n    ),\n    row=2,\n    col=1,\n)\n\n# Redimensionnement et couleur de fond du graphe\nfig.update_layout(\n    width=1400,\n    height=400,\n    plot_bgcolor=\"rgb(255,255,255)\",\n    title_text=\"Admissions, releases and balance for COVID-19 reanimation services in France (last update : \"\n    + str(df[\"LAST UPDATE\"][0])\n    + \")\",\n)\n\n# Mise en place du dropdown\nfig.update_layout(\n    updatemenus=[\n        dict(\n            buttons=buttons,\n            direction=\"down\",\n            pad={\"r\": 1, \"t\": 1},\n            showactive=True,\n            x=0.05,\n            xanchor=\"left\",\n            y=1.22,\n            yanchor=\"top\",\n        )\n    ]\n)\n\nfig.update_layout(\n    annotations=[\n        dict(\n            text=\"Zone\",\n            x=0,\n            xref=\"paper\",\n            y=1.18,\n            yref=\"paper\",\n            align=\"left\",\n            showarrow=False,\n        )\n    ]\n)\n\n# Affichage du graphe\nfig.show()\n# df"
  }
 ],
 "metadata": {
  "colab": {
   "collapsed_sections": [],
   "include_colab_link": true,
   "name": "Nouvelles entr\u00e9es et sorties des services de r\u00e9animation ",
   "provenance": []
  },
  "kernelspec": {
   "display_name": "Python 3",
   "language": "python",
   "name": "python3"
  },
  "language_info": {
   "codemirror_mode": {
    "name": "ipython",
    "version": 3
   },
   "file_extension": ".py",
   "mimetype": "text/x-python",
   "name": "python",
   "nbconvert_exporter": "python",
   "pygments_lexer": "ipython3",
   "version": "3.9.6"
  },
  "papermill": {
   "default_parameters": {},
   "environment_variables": {},
   "parameters": {},
   "version": "2.3.3"
  }
 },
 "nbformat": 4,
 "nbformat_minor": 5
}