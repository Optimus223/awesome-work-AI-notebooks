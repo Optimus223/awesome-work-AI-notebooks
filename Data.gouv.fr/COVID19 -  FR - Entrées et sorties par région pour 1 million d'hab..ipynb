{
 "cells": [
  {
   "cell_type": "markdown",
   "id": "da2783cc-d0a6-4468-a046-3a231d44977a",
   "metadata": {
    "papermill": {},
    "tags": []
   },
   "source": [
    "<img width=\"10%\" alt=\"Naas\" src=\"https://landen.imgix.net/jtci2pxwjczr/assets/5ice39g4.png?w=160\"/>"
   ]
  },
  {
   "cell_type": "markdown",
   "id": "urban-justice",
   "metadata": {
    "colab_type": "text",
    "id": "52pde5EhVGqT",
    "papermill": {},
    "tags": []
   },
   "source": [
    "# Data.gouv.fr - COVID19 -  FR - Entrées et sorties par région pour 1 million d'hab.\n",
    "<a href=\"https://app.naas.ai/user-redirect/naas/downloader?url=https://raw.githubusercontent.com/jupyter-naas/awesome-notebooks/master/Data.gouv.fr/COVID19%20-%20%20FR%20-%20Entr%C3%A9es%20et%20sorties%20par%20r%C3%A9gion%20pour%201%20million%20d%27hab..ipynb\" target=\"_parent\"><img src=\"https://naasai-public.s3.eu-west-3.amazonaws.com/open_in_naas.svg\"/></a><br><br><a href=\"https://github.com/jupyter-naas/awesome-notebooks/issues/new?assignees=&labels=&template=template-request.md&title=Tool+-+Action+of+the+notebook+\">Template request</a> | <a href=\"https://github.com/jupyter-naas/awesome-notebooks/issues/new?assignees=&labels=bug&template=bug_report.md&title=Data.gouv.fr+-+COVID19+-++FR+-+Entrées+et+sorties+par+région+pour+1+million+d'hab.:+Error+short+description\">Bug report</a>"
   ]
  },
  {
   "cell_type": "markdown",
   "id": "3b7daddf-5cfa-446d-8534-f468e32510ee",
   "metadata": {
    "papermill": {},
    "tags": []
   },
   "source": [
    "**Tags:** #data.gouv.fr #opendata #france #analytics"
   ]
  },
  {
   "cell_type": "markdown",
   "id": "315de22d-20c4-4022-b29f-a0c25b866e1c",
   "metadata": {
    "papermill": {},
    "tags": []
   },
   "source": [
    "**Author:** [Jeremy Ravenel](https://www.linkedin.com/in/ACoAAAJHE7sB5OxuKHuzguZ9L6lfDHqw--cdnJg/)"
   ]
  },
  {
   "cell_type": "markdown",
   "id": "internal-ballet",
   "metadata": {
    "papermill": {},
    "tags": []
   },
   "source": [
    "Sur géodes (https://geodes.santepubliquefrance.fr/#c=indicator&view=map2…), aller dans COVID>données hospitalières>Nombre quotidien de nouvelles personnes en réanimation\n",
    "\n",
    "Récupérer les entrées pour chaque région\n",
    "\n",
    "Sur géodes, aller dans COVID>données hospitalières>Nombre de personnes actuellement en réanimation.\n",
    "\n",
    "Récupérer le total pour chaque région\n",
    "\n",
    "Pour chaque jour et chaque région, calculer :\n",
    "a) Le solde (Total J - Total J-1)\n",
    "b) les sorties (entrées - soldes)\n",
    "\n",
    "Lisser ces données sur les 7 derniers jours\n",
    "\n",
    "Représenter la courbe des entrées, celles des sorties, le solde entre les 2\n",
    "Le site de SP : https://santepubliquefrance.fr/maladies-et-traumatismes/maladies-et-infections-respiratoires/infection-a-coronavirus/articles/infection-au-nouveau-coronavirus-sars-cov-2-covid-19-france-et-monde…\n",
    "\n",
    "Video explicative : https://drive.google.com/file/d/1Mx7pEeH_3puzkDyicvRJ5opgiI3wZJ-d/view <br>\n",
    "Production : Nairobi Team, 2020/04/24 (MyDigitalSchool)"
   ]
  },
  {
   "cell_type": "markdown",
   "id": "exciting-rescue",
   "metadata": {
    "colab_type": "text",
    "id": "7FA-8pmOVjKO",
    "papermill": {},
    "tags": []
   },
   "source": [
    "## Input"
   ]
  },
  {
   "cell_type": "markdown",
   "id": "d4be8416-f066-4334-9198-88d91eb570a0",
   "metadata": {
    "papermill": {},
    "tags": []
   },
   "source": [
    "### Import libraries"
   ]
  },
  {
   "cell_type": "code",
   "execution_count": null,
   "id": "innovative-miracle",
   "metadata": {
    "colab": {},
    "colab_type": "code",
    "id": "jagZiGoqVn1o",
    "papermill": {},
    "tags": []
   },
   "outputs": [],
   "source": [
    "import requests\n",
    "import pandas as pd\n",
    "from datetime import datetime, timedelta\n",
    "import plotly.graph_objects as go\n",
    "from plotly.subplots import make_subplots\n",
    "import numpy as np"
   ]
  },
  {
   "cell_type": "markdown",
   "id": "communist-somewhere",
   "metadata": {
    "colab_type": "text",
    "id": "JzlBOp_MVrlA",
    "papermill": {},
    "tags": []
   },
   "source": [
    "### Variables"
   ]
  },
  {
   "cell_type": "code",
   "execution_count": null,
   "id": "awful-serial",
   "metadata": {
    "colab": {},
    "colab_type": "code",
    "id": "w7sZu-QjV8QU",
    "papermill": {},
    "tags": []
   },
   "outputs": [],
   "source": [
    "# URLs\n",
    "BASE_URL_ENTREE = 'https://geodes.santepubliquefrance.fr/GC_indic.php?lang=fr&prodhash=3c0e7522&indic=incid_rea&dataset=covid_hospit_incid&view=map2&filters=jour='\n",
    "BASE_URL_TOTAL = 'https://geodes.santepubliquefrance.fr/GC_indic.php?lang=fr&prodhash=3c0e7522&indic=rea&dataset=covid_hospit&view=map2&filters=sexe=0,jour='\n",
    "\n",
    "# Liste des départements\n",
    "DEPARTMENTS = ['Ain', 'Aisne', 'Allier', 'Alpes-de-Haute-Provence', 'Hautes-Alpes', 'Alpes-Maritimes', 'Ardèche', 'Ardennes', 'Ariège', 'Aube', 'Aude', 'Aveyron',\n",
    "               'Bouches-du-Rhône', 'Calvados', 'Cantal', 'Charente', 'Charente-Maritime', 'Cher', 'Corrèze', 'Côte-d\\'Or', 'Côtes-d\\'Armor', 'Creuse', 'Dordogne',\n",
    "               'Doubs', 'Drôme', 'Eure', 'Eure-et-Loir', 'Finistère', 'Corse-du-Sud', 'Haute-Corse', 'Gard','Haute-Garonne','Gers','Gironde','Hérault',\n",
    "               'Ille-et-Vilaine','Indre','Indre-et-Loire','Isère','Jura','Landes','Loir-et-Cher','Loire','Haute-Loire','Loire-Atlantique','Loiret','Lot',\n",
    "               'Lot-et-Garonne','Lozère','Maine-et-Loire','Manche','Marne','Haute-Marne','Mayenne','Meurthe-et-Moselle','Meuse','Morbihan','Moselle','Nièvre',\n",
    "               'Nord','Oise','Orne','Pas-de-Calais','Puy-de-Dôme','Pyrénées-Atlantiques','Hautes-Pyrénées','Pyrénées-Orientales','Bas-Rhin','Haut-Rhin','Rhône',\n",
    "               'Haute-Saône','Saône-et-Loire','Sarthe','Savoie','Haute-Savoie','Paris','Seine-Maritime','Seine-et-Marne','Yvelines','Deux-Sèvres','Somme','Tarn',\n",
    "               'Tarn-et-Garonne','Var','Vaucluse','Vendée','Vienne','Haute-Vienne','Vosges','Yonne','Territoire de Belfort','Essonne','Hauts-de-Seine',\n",
    "               'Seine-Saint-Denis','Val-de-Marne','Val-d\\'Oise','Guadeloupe','Martinique','Guyane','La Réunion','Mayotte', 'France Entière']\n",
    "\n",
    "# Nombre de jours\n",
    "LISSAGE_JOURS = 7\n",
    "\n",
    "# Pour contenir les x derniers jours, x étant la variable \"LISSAGE_JOURS\"\n",
    "DATES = []\n",
    "\n",
    "# Les indices contiennent x tableaux ordonnés en fonction de \"DATES\" contenant les données des départements ordonné comme \"DEPARTEMENTS\"\n",
    "INDICES_TEMP_ENTREES = []\n",
    "INDICES_TEMP_REANIMATION = []\n",
    "INDICES_TEMP_COURANT = []\n",
    "INDICES_ENTREES = []\n",
    "INDICES_COURANT = []\n",
    "INDICES_SORTIES = []"
   ]
  },
  {
   "cell_type": "markdown",
   "id": "94b5c316-65d7-4e08-a085-03a713f31cb8",
   "metadata": {
    "papermill": {},
    "tags": []
   },
   "source": [
    "## Model"
   ]
  },
  {
   "cell_type": "markdown",
   "id": "distinguished-cholesterol",
   "metadata": {
    "colab_type": "text",
    "id": "gsFJOu37Wtnu",
    "papermill": {},
    "tags": []
   },
   "source": [
    "### Récupération des données"
   ]
  },
  {
   "cell_type": "code",
   "execution_count": null,
   "id": "laughing-instrument",
   "metadata": {
    "colab": {},
    "colab_type": "code",
    "id": "EZRSZeNdCr4F",
    "papermill": {},
    "tags": []
   },
   "outputs": [],
   "source": [
    "for i in range(LISSAGE_JOURS + 1):\n",
    "  # Génération des dates\n",
    "  DAY = (datetime.today() - timedelta(days = (LISSAGE_JOURS - i))).isoformat().split(\"T\")[0]\n",
    "  DATES.append(DAY)\n",
    "\n",
    "  # Récupération des entrées en réanimation\n",
    "  URL = (BASE_URL_ENTREE + DAY)\n",
    "  RESPONSE = requests.get(URL)\n",
    "  JSON = RESPONSE.json()\n",
    "  INDICES_TEMP_ENTREES.append(JSON['content']['distribution']['values'])\n",
    "  TOTAL_ENTREES = 0\n",
    "  for value in JSON['content']['distribution']['values']:\n",
    "    TOTAL_ENTREES += value\n",
    "    INDICES_ENTREES.append(value)\n",
    "  INDICES_ENTREES.append(TOTAL_ENTREES)\n",
    "  \n",
    "  # Récupération des personnes actuellement en réanimation\n",
    "  URL = (BASE_URL_TOTAL + DAY)\n",
    "  RESPONSE = requests.get(URL)\n",
    "  JSON = RESPONSE.json()\n",
    "  INDICES_TEMP_REANIMATION.append(JSON['content']['distribution']['values'])"
   ]
  },
  {
   "cell_type": "markdown",
   "id": "distributed-disclosure",
   "metadata": {
    "colab_type": "text",
    "id": "ykWaVK_Wdm2N",
    "papermill": {},
    "tags": []
   },
   "source": [
    "### Calcul des données"
   ]
  },
  {
   "cell_type": "code",
   "execution_count": null,
   "id": "afraid-plane",
   "metadata": {
    "colab": {},
    "colab_type": "code",
    "id": "ySTHWg1Nd0X-",
    "papermill": {},
    "tags": []
   },
   "outputs": [],
   "source": [
    "for i in range(1, LISSAGE_JOURS + 1):\n",
    "  TOTAL_SORTIES = 0\n",
    "  for j in range(len(DEPARTMENTS) - 1):\n",
    "    INDICES_TEMP_COURANT.append([])\n",
    "    INDICES_TEMP_COURANT[i-1].append(INDICES_TEMP_REANIMATION[i][j] - INDICES_TEMP_REANIMATION[i - 1][j])\n",
    "    TOTAL_SORTIES += INDICES_TEMP_ENTREES[i][j] - INDICES_TEMP_COURANT[i - 1][j]\n",
    "    INDICES_SORTIES.append(INDICES_TEMP_ENTREES[i][j] - INDICES_TEMP_COURANT[i - 1][j])\n",
    "  INDICES_SORTIES.append(TOTAL_SORTIES)\n",
    "\n",
    "INDICES_ENTREES = INDICES_ENTREES[len(DEPARTMENTS) : len(INDICES_ENTREES)]\n",
    "DATES.pop(0)\n",
    "\n",
    "for value in INDICES_TEMP_COURANT:\n",
    "  TOTAL_COURANT = 0\n",
    "  for v in value:\n",
    "    TOTAL_COURANT += v\n",
    "    INDICES_COURANT.append(v)\n",
    "  INDICES_COURANT.append(TOTAL_COURANT)"
   ]
  },
  {
   "cell_type": "markdown",
   "id": "reflected-sauce",
   "metadata": {
    "colab_type": "text",
    "id": "IvNnTo8Eg24W",
    "papermill": {},
    "tags": []
   },
   "source": [
    "### Mise en forme des données"
   ]
  },
  {
   "cell_type": "code",
   "execution_count": null,
   "id": "convinced-screening",
   "metadata": {
    "colab": {
     "base_uri": "https://localhost:8080/",
     "height": 450
    },
    "colab_type": "code",
    "id": "kNM5uuaSg4Jn",
    "outputId": "c39b4573-1d9c-4e66-8836-385722941564",
    "papermill": {},
    "tags": []
   },
   "outputs": [],
   "source": [
    "iterables  = []\n",
    "iterables.append(DATES)\n",
    "iterables.append(DEPARTMENTS)\n",
    "idx = pd.MultiIndex.from_product(iterables, names=['DATE', 'ZONE'])\n",
    "\n",
    "datas = []\n",
    "for i in range(len(iterables[1]) * len(iterables[0])) :\n",
    "    datas.append(np.array([INDICES_ENTREES[i], INDICES_SORTIES[i],INDICES_COURANT[i], datetime.today()]))\n",
    "\n",
    "df = pd.DataFrame(datas, index=idx, columns=['ENTREES', 'SORTIES', 'SOLDES', 'LAST UPDATE'])\n",
    "df"
   ]
  },
  {
   "cell_type": "markdown",
   "id": "e078dee0-20ab-493d-8594-4c84a59bb54f",
   "metadata": {
    "papermill": {},
    "tags": []
   },
   "source": [
    "## Output"
   ]
  },
  {
   "cell_type": "markdown",
   "id": "going-adolescent",
   "metadata": {
    "colab_type": "text",
    "id": "w0BBkRBtpLzw",
    "papermill": {},
    "tags": []
   },
   "source": [
    "### Plotting"
   ]
  },
  {
   "cell_type": "code",
   "execution_count": null,
   "id": "independent-commodity",
   "metadata": {
    "colab": {
     "base_uri": "https://localhost:8080/",
     "height": 417
    },
    "colab_type": "code",
    "id": "0CH_4xlPpShW",
    "outputId": "7e6f3805-f88d-492c-a4b6-de216320e342",
    "papermill": {},
    "tags": []
   },
   "outputs": [],
   "source": [
    "# Prépare la figure pour deux graphes\n",
    "fig = make_subplots(rows=2, cols=1)\n",
    "#fig = go.Figure()\n",
    "\n",
    "# Application d'un filtre pour le graphe\n",
    "# df = df.filter(like='France Entière', axis=0)\n",
    "\n",
    "# Création des éléments du dropdown pour appliquer les filtres\n",
    "buttons = []\n",
    "buttons.append(dict(method='restyle', label=\"Entire France\",\n",
    "                      args=[{'y':[df.filter(like=\"France Entière\", axis=0).ENTREES, df.filter(like=\"France Entière\", axis=0).SORTIES, df.filter(like=\"France Entière\", axis=0).SOLDES]}]))\n",
    "for i in range(len(DEPARTMENTS) - 1):\n",
    "  dep = DEPARTMENTS[i]\n",
    "  buttons.append(dict(method='restyle', label=dep,\n",
    "                      args=[{'y':[df.filter(like=dep, axis=0).ENTREES, df.filter(like=dep, axis=0).SORTIES, df.filter(like=dep, axis=0).SOLDES]}]))\n",
    "\n",
    "# Affichage des lignes dans le graphe\n",
    "fig.add_trace(go.Scatter(x=df.filter(like='France Entière', axis=0).index.get_level_values('DATE'), y=df.filter(like='France Entière', axis=0).ENTREES, fill='tozeroy',name=\"Admissions\",line=dict(width=0.5,color=\"rgb(160,0,0)\"),line_shape='spline'), row = 1, col = 1)\n",
    "fig.add_trace(go.Scatter(x=df.filter(like='France Entière', axis=0).index.get_level_values('DATE'), y=df.filter(like='France Entière', axis=0).SORTIES, fill='tozeroy',name=\"Releases\",line=dict(width=0.5,color=\"rgb(0,160,0)\"),line_shape='spline'), row = 1, col = 1)\n",
    "fig.add_trace(go.Scatter(x=df.filter(like='France Entière', axis=0).index.get_level_values('DATE'), y=df.filter(like='France Entière', axis=0).SOLDES, fill='tozeroy',name=\"Balance\",line=dict(width=0.5,color=\"rgb(0,0,160)\"),line_shape='spline'), row = 2, col = 1)\n",
    "\n",
    "# Redimensionnement et couleur de fond du graphe\n",
    "fig.update_layout(width=1400, height=400, plot_bgcolor='rgb(255,255,255)', title_text=\"Admissions, releases and balance for COVID-19 reanimation services in France (last update : \" + str(df['LAST UPDATE'][0]) + \")\")\n",
    "\n",
    "# Mise en place du dropdown\n",
    "fig.update_layout(updatemenus=[dict(buttons=buttons, direction=\"down\", pad={\"r\": 1, \"t\": 1}, showactive=True, x=0.05, xanchor=\"left\", y=1.22, yanchor=\"top\")])\n",
    "\n",
    "fig.update_layout(annotations=[dict(text=\"Zone\", x=0, xref=\"paper\", y=1.18, yref=\"paper\", align=\"left\", showarrow=False)])\n",
    "\n",
    "# Affichage du graphe\n",
    "fig.show()\n",
    "#df"
   ]
  }
 ],
 "metadata": {
  "colab": {
   "collapsed_sections": [],
   "include_colab_link": true,
   "name": "Nouvelles entrées et sorties des services de réanimation ",
   "provenance": []
  },
  "kernelspec": {
   "display_name": "Python 3",
   "language": "python",
   "name": "python3"
  },
  "language_info": {
   "codemirror_mode": {
    "name": "ipython",
    "version": 3
   },
   "file_extension": ".py",
   "mimetype": "text/x-python",
   "name": "python",
   "nbconvert_exporter": "python",
   "pygments_lexer": "ipython3",
   "version": "3.9.6"
  },
  "papermill": {
   "default_parameters": {},
   "environment_variables": {},
   "parameters": {},
   "version": "2.3.3"
  }
 },
 "nbformat": 4,
 "nbformat_minor": 5
}