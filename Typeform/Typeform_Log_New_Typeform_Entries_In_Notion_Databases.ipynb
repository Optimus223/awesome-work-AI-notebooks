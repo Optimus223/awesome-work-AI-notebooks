{
 "cells": [
  {
   "cell_type": "markdown",
   "id": "4aaa917d",
   "metadata": {},
   "source": [
    "<img width=\"10%\" alt=\"Naas\" src=\"https://landen.imgix.net/jtci2pxwjczr/assets/5ice39g4.png?w=160\"/>\n"
   ]
  },
  {
   "cell_type": "markdown",
   "id": "2dce71ce",
   "metadata": {},
   "source": [
    "# Typeform - Log new Typeform entries in Notion databases\n"
   ]
  },
  {
   "cell_type": "markdown",
   "id": "4e45ca8b",
   "metadata": {},
   "source": [
    "**Tags:** #typeform #notion #operations #automation\n"
   ]
  },
  {
   "cell_type": "markdown",
   "id": "a6e7e23a",
   "metadata": {},
   "source": [
    "**Author:** [Firstname Lastname](https://linkedin.com/in/yourlinkedinid)\n",
    "\n",
    "Capture and organize important project and customer details without slowing down for tedious copy-and-paste tasks! This template automatically adds each new entry received in Typeform as an item in your Notion database.\n",
    "<br/>References :\n",
    "- [TypeForm API](https://developer.typeform.com/responses/)\n",
    "- [Notion API ](https://docs.naas.ai/drivers/notion)\n"
   ]
  },
  {
   "cell_type": "markdown",
   "id": "66532188",
   "metadata": {},
   "source": [
    "## Input\n"
   ]
  },
  {
   "cell_type": "markdown",
   "id": "dcb7e0f0",
   "metadata": {},
   "source": [
    "### Import libraries\n"
   ]
  },
  {
   "cell_type": "code",
   "execution_count": null,
   "id": "fdf4f726",
   "metadata": {},
   "outputs": [],
   "source": [
    "from naas_drivers import notion\n",
    "from typeform import Typeform\n",
    "import naas\n"
   ]
  },
  {
   "cell_type": "markdown",
   "id": "4f3d8557",
   "metadata": {},
   "source": [
    "### Setup Typeform\n",
    "\n",
    "- Get your [access token](https://developer.typeform.com/get-started/personal-access-token)\n"
   ]
  },
  {
   "cell_type": "code",
   "execution_count": null,
   "id": "1a295d30",
   "metadata": {},
   "outputs": [],
   "source": [
    "TYPEFORM_ACCESS_TOKEN = \"<TYPEFORM_ACCESS_TOKEN>\"\n",
    "\n",
    "# Unique ID for the form. Find in your form URL.\n",
    "# For example, in the URL \"https://mysite.typeform.com/to/u6nXL7\" the\n",
    "# form_id is u6nXL7.\n",
    "FORM_ID = \"<FORM_ID>\"\n",
    "\n",
    "typeform = Typeform(TYPEFORM_ACCESS_TOKEN)\n"
   ]
  },
  {
   "cell_type": "markdown",
   "id": "5f901494",
   "metadata": {},
   "source": [
    "### Setup Notion\n",
    "\n",
    "- Get your [Notion integration token ?](https://docs.naas.ai/drivers/notion)\n",
    "- Share you database with your integration\n"
   ]
  },
  {
   "cell_type": "code",
   "execution_count": null,
   "id": "16721f79",
   "metadata": {},
   "outputs": [],
   "source": [
    "NOTION_TOKEN = \"<NOTION_TOKEN>\"\n",
    "\n",
    "# https://www.notion.so/naas-official/f89fddc31128400fab11001a215aff09?v=d84b89b704c7dssd432350cc273\n",
    "DATABASE_URL = \"<DATABASE_URL>\"\n"
   ]
  },
  {
   "cell_type": "markdown",
   "id": "54299592",
   "metadata": {},
   "source": [
    "### Setup Naas\n"
   ]
  },
  {
   "cell_type": "code",
   "execution_count": null,
   "id": "fe211682",
   "metadata": {},
   "outputs": [],
   "source": [
    "# Schedule your notebook everyday at 9 AM\n",
    "naas.scheduler.add(cron=\"0 9 * * *\")\n",
    "\n",
    "#-> Uncomment the line below to remove your scheduler\n",
    "# naas.scheduler.delete()\n"
   ]
  },
  {
   "cell_type": "markdown",
   "id": "5d8ba6bc",
   "metadata": {},
   "source": [
    "## Model\n"
   ]
  },
  {
   "cell_type": "markdown",
   "id": "a9ffa60f",
   "metadata": {},
   "source": [
    "### Get data from Typeform\n",
    "\n",
    "- [Start making requests](/df8ce060e2264dada13c019aa64762c5)\n"
   ]
  },
  {
   "cell_type": "code",
   "execution_count": null,
   "id": "54b117d5",
   "metadata": {},
   "outputs": [],
   "source": [
    "# Get form Insight data\n",
    "# https://developer.typeform.com/responses/reference/retrieve-form-insights/\n"
   ]
  },
  {
   "cell_type": "code",
   "execution_count": null,
   "id": "528b3b45",
   "metadata": {},
   "outputs": [],
   "source": [
    "# Get response dataframe\n",
    "# Retrieve response and map field id with field title to column name's\n"
   ]
  },
  {
   "cell_type": "markdown",
   "id": "701dd908",
   "metadata": {},
   "source": [
    "### Get data from Notion DB\n"
   ]
  },
  {
   "cell_type": "code",
   "execution_count": null,
   "id": "45cc2364",
   "metadata": {},
   "outputs": [],
   "source": [
    "# Get notion database\n",
    "database = notion.connect(NOTION_TOKEN).database.get(database_url, query={})\n",
    "df = database.df()\n"
   ]
  },
  {
   "cell_type": "markdown",
   "id": "f2fec8f3",
   "metadata": {},
   "source": [
    "### Get data to add in Notion\n"
   ]
  },
  {
   "cell_type": "code",
   "execution_count": null,
   "id": "2c9ebeae",
   "metadata": {},
   "outputs": [],
   "source": [
    "# Compare 2 dataframes and filter on ID to create item in Notion DB (drop duplicates)\n"
   ]
  },
  {
   "cell_type": "markdown",
   "id": "bcffd8c5",
   "metadata": {},
   "source": [
    "## Output\n"
   ]
  },
  {
   "cell_type": "markdown",
   "id": "60eca569",
   "metadata": {},
   "source": [
    "### Create Database Item\n"
   ]
  },
  {
   "cell_type": "code",
   "execution_count": null,
   "id": "a5d17b86",
   "metadata": {},
   "outputs": [],
   "source": [
    "# Create page in Notion\n",
    "page = notion.connect(token).page.create(database_id=DATABASE_URL, title=\"My new page\")\n",
    "\n",
    "# Update properties in page\n",
    "# -> Map TypeForm type with Notion type\n",
    "# To know more about Notion properties type please checkout awesome-notebook, Notion/Notion_Update_page.ipynb\n",
    "page.update()\n"
   ]
  }
 ],
 "metadata": {},
 "nbformat": 4,
 "nbformat_minor": 5
}
