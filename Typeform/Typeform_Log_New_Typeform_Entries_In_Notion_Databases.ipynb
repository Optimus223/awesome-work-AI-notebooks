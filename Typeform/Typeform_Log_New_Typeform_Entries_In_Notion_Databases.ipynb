{
 "cells": [
  {
   "cell_type": "markdown",
   "id": "4aaa917d",
   "metadata": {},
   "source": [
    "<img width=\"10%\" alt=\"Naas\" src=\"https://landen.imgix.net/jtci2pxwjczr/assets/5ice39g4.png?w=160\"/>\n"
   ]
  },
  {
   "cell_type": "markdown",
   "id": "2dce71ce",
   "metadata": {},
   "source": [
    "# Typeform - Log new Typeform entries in Notion databases\n"
   ]
  },
  {
   "cell_type": "markdown",
   "id": "4e45ca8b",
   "metadata": {},
   "source": [
    "**Tags:** #typeform #notion #operations #automation\n"
   ]
  },
  {
   "cell_type": "markdown",
   "id": "a6e7e23a",
   "metadata": {},
   "source": [
    "**Author:** [Sanjeet Attili](https://linkedin.com/in/sanjeet-attili-760bab190)\n",
    "\n",
    "Capture and organize important project and customer details without slowing down for tedious copy-and-paste tasks! This template automatically adds each new entry received in Typeform as an item in your Notion database.\n",
    "<br/>References :\n",
    "- [TypeForm API](https://developer.typeform.com/responses/)\n",
    "- [Notion API ](https://docs.naas.ai/drivers/notion)\n",
    "\n",
    "Have a look at the sample typeform format used [here](https://1mx5hrd76qo.typeform.com/to/bw1oM4SP)\n",
    "\n",
    "Sample output view of the notion database [here](https://billowy-lemming-95e.notion.site/f8e44ff261564c76b3bb80e6edb171a9?v=1d2a506563fe4082b71e78695185962e), which has all the questions asked in the typeform as column names and their responses as entries.\n",
    "\n",
    "This output database consists of only 5 responses collected over the sample typeform."
   ]
  },
  {
   "cell_type": "markdown",
   "id": "66532188",
   "metadata": {},
   "source": [
    "## Input\n"
   ]
  },
  {
   "cell_type": "markdown",
   "id": "dcb7e0f0",
   "metadata": {},
   "source": [
    "### Import libraries\n"
   ]
  },
  {
   "cell_type": "code",
   "execution_count": 5,
   "id": "fdf4f726",
   "metadata": {
    "execution": {
     "iopub.execute_input": "2022-06-01T05:40:51.912385Z",
     "iopub.status.busy": "2022-06-01T05:40:51.912073Z",
     "iopub.status.idle": "2022-06-01T05:40:51.916606Z",
     "shell.execute_reply": "2022-06-01T05:40:51.916000Z",
     "shell.execute_reply.started": "2022-06-01T05:40:51.912353Z"
    },
    "tags": []
   },
   "outputs": [],
   "source": [
    "from naas_drivers import notion\n",
    "from typeform import Typeform\n",
    "import naas, pandas as pd\n",
    "import requests\n",
    "from datetime import datetime\n",
    "import pydash as pd_, re"
   ]
  },
  {
   "cell_type": "markdown",
   "id": "4f3d8557",
   "metadata": {},
   "source": [
    "### Setup Typeform\n",
    "\n",
    "- Get your [access token](https://developer.typeform.com/get-started/personal-access-token)\n"
   ]
  },
  {
   "cell_type": "code",
   "execution_count": 6,
   "id": "1a295d30",
   "metadata": {
    "execution": {
     "iopub.execute_input": "2022-06-01T05:40:54.150730Z",
     "iopub.status.busy": "2022-06-01T05:40:54.150502Z",
     "iopub.status.idle": "2022-06-01T05:40:54.154051Z",
     "shell.execute_reply": "2022-06-01T05:40:54.153305Z",
     "shell.execute_reply.started": "2022-06-01T05:40:54.150706Z"
    },
    "tags": []
   },
   "outputs": [],
   "source": [
    "TYPEFORM_ACCESS_TOKEN = \"<TYPEFORM_ACCESS_TOKEN>\"\n",
    "\n",
    "# Unique ID for the form. Find in your form URL.\n",
    "# For example, in the URL \"https://mysite.typeform.com/to/u6nXL7\" the\n",
    "# form_id is u6nXL7.\n",
    "\n",
    "FORM_ID = \"<FORM_ID>\"\n",
    "\n",
    "typeform = Typeform(TYPEFORM_ACCESS_TOKEN)"
   ]
  },
  {
   "cell_type": "markdown",
   "id": "5f901494",
   "metadata": {},
   "source": [
    "### Setup Notion\n",
    "\n",
    "- Get your [Notion integration token ?](https://docs.naas.ai/drivers/notion)\n",
    "- Share you database with your integration\n"
   ]
  },
  {
   "cell_type": "code",
   "execution_count": 7,
   "id": "16721f79",
   "metadata": {
    "execution": {
     "iopub.execute_input": "2022-06-01T05:40:56.172605Z",
     "iopub.status.busy": "2022-06-01T05:40:56.172292Z",
     "iopub.status.idle": "2022-06-01T05:40:56.180586Z",
     "shell.execute_reply": "2022-06-01T05:40:56.179935Z",
     "shell.execute_reply.started": "2022-06-01T05:40:56.172573Z"
    },
    "tags": []
   },
   "outputs": [],
   "source": [
    "NOTION_TOKEN = \"<NOTION_TOKEN>\"\n",
    "# database-url\n",
    "# https://www.notion.so/naas-official/f89fddc31128400fab11001a215aff09?v=d84b89b704c7dssd432350cc273\n",
    "DATABASE_URL = \"<DATABASE_URL>\""
   ]
  },
  {
   "cell_type": "markdown",
   "id": "54299592",
   "metadata": {},
   "source": [
    "### Setup Naas\n"
   ]
  },
  {
   "cell_type": "code",
   "execution_count": null,
   "id": "fe211682",
   "metadata": {},
   "outputs": [],
   "source": [
    "# Schedule your notebook everyday at 9 AM\n",
    "naas.scheduler.add(cron=\"0 9 * * *\")\n",
    "\n",
    "#-> Uncomment the line below to remove your scheduler\n",
    "# naas.scheduler.delete()\n"
   ]
  },
  {
   "cell_type": "markdown",
   "id": "5d8ba6bc",
   "metadata": {},
   "source": [
    "## Model\n"
   ]
  },
  {
   "cell_type": "markdown",
   "id": "a9ffa60f",
   "metadata": {},
   "source": [
    "### Get data from Typeform\n",
    "\n",
    "- Currently supported data types for retreiving data from typeform with this notebook are as follows:\n",
    "  - Text (short and long)\n",
    "  - Number\n",
    "  - Rating\n",
    "  - Multi-choice with one or more correct responses\n",
    "  - Phone number\n",
    "  - Email"
   ]
  },
  {
   "cell_type": "markdown",
   "id": "de991160-9e00-4622-937d-ec93dadffa40",
   "metadata": {},
   "source": [
    "**Collecting questions from typeform to setup as column names in database**"
   ]
  },
  {
   "cell_type": "code",
   "execution_count": 8,
   "id": "20d7e8ef-7580-441f-a3e5-2391fca79038",
   "metadata": {
    "execution": {
     "iopub.execute_input": "2022-06-01T05:40:59.830907Z",
     "iopub.status.busy": "2022-06-01T05:40:59.830598Z",
     "iopub.status.idle": "2022-06-01T05:41:00.225767Z",
     "shell.execute_reply": "2022-06-01T05:41:00.225185Z",
     "shell.execute_reply.started": "2022-06-01T05:40:59.830878Z"
    },
    "tags": []
   },
   "outputs": [
    {
     "data": {
      "text/plain": [
       "{'8wQbkuiT2P0c': \"Hello, what's your name?\",\n",
       " 'SwMAxJlR3i7N': 'Nice to meet you, how is your day going?',\n",
       " 'WPChqR9aJLhj': 'How old are you?',\n",
       " 'e8oxwTuqL0Pi': 'Enter your email address',\n",
       " '1ZZ68d6UsPcP': 'Give us your contact details!',\n",
       " 'm349WCUgaIpa': 'Select options which are true',\n",
       " 'SM5ohn9x03ee': 'Please give us your rating',\n",
       " 'zPxehRIt67Yq': 'Please enter your feedback on your previous purchase with us!'}"
      ]
     },
     "execution_count": 8,
     "metadata": {},
     "output_type": "execute_result"
    }
   ],
   "source": [
    "def get_questions_dict():\n",
    "    fields = typeform.forms.get(FORM_ID)['fields']\n",
    "    questions={}\n",
    "    for field in fields:\n",
    "        new_str = re.sub('{{field:' + r'[0-9A-Z]+'+'}}, ', '', field['title'])\n",
    "        questions[field['id']] = new_str\n",
    "    return questions\n",
    "\n",
    "questions = get_questions_dict()\n",
    "questions"
   ]
  },
  {
   "cell_type": "markdown",
   "id": "a71c86b2-04f1-4838-a08a-c4df9c21ec3c",
   "metadata": {},
   "source": [
    "**Collecting answers from typeform**"
   ]
  },
  {
   "cell_type": "code",
   "execution_count": 9,
   "id": "e50e5eee-0a7c-41af-bd31-aeaa360b6038",
   "metadata": {
    "execution": {
     "iopub.execute_input": "2022-06-01T05:41:01.366912Z",
     "iopub.status.busy": "2022-06-01T05:41:01.366678Z",
     "iopub.status.idle": "2022-06-01T05:41:01.776521Z",
     "shell.execute_reply": "2022-06-01T05:41:01.775953Z",
     "shell.execute_reply.started": "2022-06-01T05:41:01.366888Z"
    },
    "tags": []
   },
   "outputs": [
    {
     "data": {
      "text/plain": [
       "[{'id': '8wQbkuiT2P0c', 'type': 'text', 'answer': 'he-man'},\n",
       " {'id': 'SwMAxJlR3i7N', 'type': 'choice', 'answer': 'Not so well...'},\n",
       " {'id': 'WPChqR9aJLhj', 'type': 'number', 'answer': 15},\n",
       " {'id': 'e8oxwTuqL0Pi', 'type': 'email', 'answer': 'xyz@gmail.com'},\n",
       " {'id': '1ZZ68d6UsPcP', 'type': 'phone_number', 'answer': '+918732413212'},\n",
       " {'id': 'm349WCUgaIpa', 'type': 'choices', 'answer': ['True']},\n",
       " {'id': 'SM5ohn9x03ee', 'type': 'number', 'answer': 5},\n",
       " {'id': 'zPxehRIt67Yq', 'type': 'text', 'answer': 'superb product'}]"
      ]
     },
     "execution_count": 9,
     "metadata": {},
     "output_type": "execute_result"
    }
   ],
   "source": [
    "def get_answers(form_id, token):\n",
    "    url = f\"https://api.typeform.com/forms/{form_id}/responses\"\n",
    "    headers = {'Authorization': f'Bearer {token}'}\n",
    "\n",
    "    r = requests.get(url, headers = headers)\n",
    "    responses = pd_.get(r.json(), 'items')\n",
    "    answers= []\n",
    "    for resp in responses:\n",
    "        response_answer =[]\n",
    "        for field in pd_.get(resp, 'answers'):\n",
    "            entries={}\n",
    "            entries['id'], entries['type'] = pd_.get(field, 'field.id'), pd_.get(field, 'type')\n",
    "    \n",
    "            if entries['type'] == 'text':\n",
    "                entries['answer'] = pd_.get(field, f\"{entries['type']}\")\n",
    "                \n",
    "            elif entries['type'] == 'choice':\n",
    "                entries['answer'] = pd_.get(field, 'choice.label')\n",
    "                \n",
    "            elif entries['type'] == 'choices':\n",
    "                entries['answer'] = pd_.get(field, 'choices.labels')\n",
    "                \n",
    "            elif entries['type'] == 'number':\n",
    "                entries['answer'] = pd_.get(field, 'number')\n",
    "                \n",
    "            elif entries['type'] == 'phone_number':\n",
    "                entries['answer'] = pd_.get(field, 'phone_number')\n",
    "            \n",
    "            elif entries['type'] == 'email':\n",
    "                entries['answer'] = pd_.get(field, 'email')\n",
    "                \n",
    "            response_answer.append(entries)\n",
    "        answers.append(response_answer)\n",
    "    return answers\n",
    "\n",
    "answers = get_answers(FORM_ID, TYPEFORM_ACCESS_TOKEN)\n",
    "answers[0]"
   ]
  },
  {
   "cell_type": "code",
   "execution_count": 10,
   "id": "528b3b45",
   "metadata": {
    "execution": {
     "iopub.execute_input": "2022-06-01T05:41:02.474326Z",
     "iopub.status.busy": "2022-06-01T05:41:02.474074Z",
     "iopub.status.idle": "2022-06-01T05:41:02.906428Z",
     "shell.execute_reply": "2022-06-01T05:41:02.905835Z",
     "shell.execute_reply.started": "2022-06-01T05:41:02.474301Z"
    },
    "tags": []
   },
   "outputs": [
    {
     "data": {
      "text/html": [
       "<div>\n",
       "<style scoped>\n",
       "    .dataframe tbody tr th:only-of-type {\n",
       "        vertical-align: middle;\n",
       "    }\n",
       "\n",
       "    .dataframe tbody tr th {\n",
       "        vertical-align: top;\n",
       "    }\n",
       "\n",
       "    .dataframe thead th {\n",
       "        text-align: right;\n",
       "    }\n",
       "</style>\n",
       "<table border=\"1\" class=\"dataframe\">\n",
       "  <thead>\n",
       "    <tr style=\"text-align: right;\">\n",
       "      <th></th>\n",
       "      <th>time_taken_to_fill_form</th>\n",
       "      <th>response_id</th>\n",
       "      <th>Hello, what's your name?</th>\n",
       "      <th>Nice to meet you, how is your day going?</th>\n",
       "      <th>How old are you?</th>\n",
       "      <th>Enter your email address</th>\n",
       "      <th>Give us your contact details!</th>\n",
       "      <th>Select options which are true</th>\n",
       "      <th>Please give us your rating</th>\n",
       "      <th>Please enter your feedback on your previous purchase with us!</th>\n",
       "    </tr>\n",
       "  </thead>\n",
       "  <tbody>\n",
       "    <tr>\n",
       "      <th>0</th>\n",
       "      <td>00:58secs</td>\n",
       "      <td>dledwaka744lsadleyqd5xym7z4gcx2b</td>\n",
       "      <td>he-man</td>\n",
       "      <td>Not so well...</td>\n",
       "      <td>15.0</td>\n",
       "      <td>xyz@gmail.com</td>\n",
       "      <td>+918732413212</td>\n",
       "      <td>True</td>\n",
       "      <td>5.0</td>\n",
       "      <td>superb product</td>\n",
       "    </tr>\n",
       "    <tr>\n",
       "      <th>1</th>\n",
       "      <td>00:50secs</td>\n",
       "      <td>6r9h3epkfg9cgbik5n6r9h77hh1r8bjg</td>\n",
       "      <td>Attili Sanjeet</td>\n",
       "      <td>Not so well...</td>\n",
       "      <td>28.0</td>\n",
       "      <td>attili18100@iiitnr.edu.in</td>\n",
       "      <td>+919384592191</td>\n",
       "      <td>True,True</td>\n",
       "      <td>3.0</td>\n",
       "      <td>service is not that good</td>\n",
       "    </tr>\n",
       "    <tr>\n",
       "      <th>2</th>\n",
       "      <td>01:08mins</td>\n",
       "      <td>dc02pdr56u1hfrsvrj3dc02pd9xjhxld</td>\n",
       "      <td>rakesh kumar saami</td>\n",
       "      <td>Terrific!</td>\n",
       "      <td>37.0</td>\n",
       "      <td>None</td>\n",
       "      <td>+919342193029</td>\n",
       "      <td>True,True,True</td>\n",
       "      <td>4.0</td>\n",
       "      <td>Good service, but to be improved more</td>\n",
       "    </tr>\n",
       "    <tr>\n",
       "      <th>3</th>\n",
       "      <td>00:26secs</td>\n",
       "      <td>7x619d73vsmbxionl58427x6105ymx96</td>\n",
       "      <td>Rahul</td>\n",
       "      <td>Not so well...</td>\n",
       "      <td>None</td>\n",
       "      <td>None</td>\n",
       "      <td>None</td>\n",
       "      <td>None</td>\n",
       "      <td>None</td>\n",
       "      <td>worst product i can ever ask for</td>\n",
       "    </tr>\n",
       "    <tr>\n",
       "      <th>4</th>\n",
       "      <td>00:21secs</td>\n",
       "      <td>joq4pglxr0b0o7d28t5jjjoq4pgqiadi</td>\n",
       "      <td>Sanju</td>\n",
       "      <td>Terrific!</td>\n",
       "      <td>None</td>\n",
       "      <td>None</td>\n",
       "      <td>None</td>\n",
       "      <td>None</td>\n",
       "      <td>None</td>\n",
       "      <td>Made a good purchase after a long time!</td>\n",
       "    </tr>\n",
       "  </tbody>\n",
       "</table>\n",
       "</div>"
      ],
      "text/plain": [
       "  time_taken_to_fill_form                       response_id  \\\n",
       "0               00:58secs  dledwaka744lsadleyqd5xym7z4gcx2b   \n",
       "1               00:50secs  6r9h3epkfg9cgbik5n6r9h77hh1r8bjg   \n",
       "2               01:08mins  dc02pdr56u1hfrsvrj3dc02pd9xjhxld   \n",
       "3               00:26secs  7x619d73vsmbxionl58427x6105ymx96   \n",
       "4               00:21secs  joq4pglxr0b0o7d28t5jjjoq4pgqiadi   \n",
       "\n",
       "  Hello, what's your name? Nice to meet you, how is your day going?  \\\n",
       "0                   he-man                           Not so well...   \n",
       "1           Attili Sanjeet                           Not so well...   \n",
       "2       rakesh kumar saami                                Terrific!   \n",
       "3                    Rahul                           Not so well...   \n",
       "4                    Sanju                                Terrific!   \n",
       "\n",
       "  How old are you?   Enter your email address Give us your contact details!  \\\n",
       "0             15.0              xyz@gmail.com                 +918732413212   \n",
       "1             28.0  attili18100@iiitnr.edu.in                 +919384592191   \n",
       "2             37.0                       None                 +919342193029   \n",
       "3             None                       None                          None   \n",
       "4             None                       None                          None   \n",
       "\n",
       "  Select options which are true Please give us your rating  \\\n",
       "0                          True                        5.0   \n",
       "1                     True,True                        3.0   \n",
       "2                True,True,True                        4.0   \n",
       "3                          None                       None   \n",
       "4                          None                       None   \n",
       "\n",
       "  Please enter your feedback on your previous purchase with us!  \n",
       "0                                     superb product             \n",
       "1                           service is not that good             \n",
       "2              Good service, but to be improved more             \n",
       "3                   worst product i can ever ask for             \n",
       "4            Made a good purchase after a long time!             "
      ]
     },
     "execution_count": 10,
     "metadata": {},
     "output_type": "execute_result"
    }
   ],
   "source": [
    "def get_typeform_data(form_id, token, questions, answers):\n",
    "    # Get response dataframe\n",
    "    # Retrieve response and map field id with field title to column name's\n",
    "    df = pd.DataFrame()\n",
    "    url = f\"https://api.typeform.com/forms/{form_id}/responses\"\n",
    "    headers = {'Authorization': f'Bearer {token}'}\n",
    "\n",
    "    r = requests.get(url, headers = headers)\n",
    "    lst_responses = pd_.get(r.json(), 'items')\n",
    "    for idx, resp in enumerate(lst_responses):\n",
    "        in_time, out_time = pd_.get(resp, 'landed_at'), pd_.get(resp, 'submitted_at')\n",
    "        time_diff = datetime.strptime(out_time, '%Y-%m-%dT%H:%M:%SZ') - datetime.strptime(in_time, '%Y-%m-%dT%H:%M:%SZ')\n",
    "        if str(time_diff).split(':')[1] == '00':\n",
    "            df.loc[idx, 'time_taken_to_fill_form'] = \":\".join(str(time_diff).split(':')[1:]) + 'secs'\n",
    "        else:\n",
    "            df.loc[idx, 'time_taken_to_fill_form'] = \":\".join(str(time_diff).split(':')[1:]) + 'mins'\n",
    "        \n",
    "        df.loc[idx, 'response_id'] = pd_.get(resp, 'response_id')\n",
    "    \n",
    "    for idx, response in enumerate(answers):\n",
    "        for entity in response:\n",
    "            if entity['type'] == 'choices':\n",
    "                df.loc[idx, questions[entity['id']]] = \",\".join(entity['answer'])\n",
    "            else:\n",
    "                df.loc[idx, questions[entity['id']]] = entity['answer']\n",
    "                \n",
    "    df.fillna('None', inplace=True)\n",
    "    \n",
    "    return df\n",
    "\n",
    "df_typeform = get_typeform_data(FORM_ID, TYPEFORM_ACCESS_TOKEN, questions, answers)\n",
    "df_typeform"
   ]
  },
  {
   "cell_type": "markdown",
   "id": "701dd908",
   "metadata": {},
   "source": [
    "### Get data from Notion DB\n"
   ]
  },
  {
   "cell_type": "code",
   "execution_count": 24,
   "id": "45cc2364",
   "metadata": {
    "execution": {
     "iopub.execute_input": "2022-06-01T05:45:17.989157Z",
     "iopub.status.busy": "2022-06-01T05:45:17.988918Z",
     "iopub.status.idle": "2022-06-01T05:45:18.305392Z",
     "shell.execute_reply": "2022-06-01T05:45:18.304774Z",
     "shell.execute_reply.started": "2022-06-01T05:45:17.989132Z"
    },
    "tags": []
   },
   "outputs": [
    {
     "data": {
      "text/plain": [
       "6"
      ]
     },
     "execution_count": 24,
     "metadata": {},
     "output_type": "execute_result"
    }
   ],
   "source": [
    "pages = notion.connect(NOTION_TOKEN).database.query(DATABASE_URL, query={})\n",
    "len(pages)"
   ]
  },
  {
   "cell_type": "markdown",
   "id": "f2fec8f3",
   "metadata": {},
   "source": [
    "### Adding data to Notion\n"
   ]
  },
  {
   "cell_type": "code",
   "execution_count": 25,
   "id": "c4521f48-9cec-499e-8903-d791a37ceae0",
   "metadata": {
    "execution": {
     "iopub.execute_input": "2022-06-01T05:45:26.656292Z",
     "iopub.status.busy": "2022-06-01T05:45:26.655907Z",
     "iopub.status.idle": "2022-06-01T05:45:26.661875Z",
     "shell.execute_reply": "2022-06-01T05:45:26.661233Z",
     "shell.execute_reply.started": "2022-06-01T05:45:26.656262Z"
    },
    "tags": []
   },
   "outputs": [],
   "source": [
    "def add_new_entries(df):\n",
    "    if df.shape[0]==0:\n",
    "        return df\n",
    "    \n",
    "    columns = df.columns.to_list()\n",
    "    for col in columns:\n",
    "        if 'name' in col:\n",
    "            name_col = col\n",
    "    \n",
    "    columns.remove(name_col)\n",
    "    \n",
    "    for idx, row in df.iterrows():\n",
    "        if idx == df.shape[0]:\n",
    "            break\n",
    "        page = notion.connect(NOTION_TOKEN).page.create(database_id=DATABASE_URL, title= row[name_col])\n",
    "        for column in columns:\n",
    "            page.rich_text(column, str(row[column]))\n",
    "            page.update()\n",
    "    return df"
   ]
  },
  {
   "cell_type": "code",
   "execution_count": 26,
   "id": "2c9ebeae",
   "metadata": {
    "execution": {
     "iopub.execute_input": "2022-06-01T05:45:28.186055Z",
     "iopub.status.busy": "2022-06-01T05:45:28.185830Z",
     "iopub.status.idle": "2022-06-01T05:45:29.248265Z",
     "shell.execute_reply": "2022-06-01T05:45:29.247636Z",
     "shell.execute_reply.started": "2022-06-01T05:45:28.186030Z"
    },
    "tags": []
   },
   "outputs": [
    {
     "name": "stdout",
     "output_type": "stream",
     "text": [
      "True\n"
     ]
    }
   ],
   "source": [
    "def add_data_to_notion(df_typeform, pages):\n",
    "    id_present = False\n",
    "    try:\n",
    "        pages[0].properties['response_id']\n",
    "        id_present = True\n",
    "    except KeyError:\n",
    "        pass\n",
    "    \n",
    "    # If no data is present initially\n",
    "    if not id_present:\n",
    "        df = add_new_entries(df_typeform)\n",
    "    \n",
    "    # If some data exists\n",
    "    else:\n",
    "        notion_df = notion.connect(NOTION_TOKEN).database.get(DATABASE_URL).df()\n",
    "        existing_ids = notion_df.response_id.to_list()\n",
    "        \n",
    "        new_entries = df_typeform[df_typeform.response_id.isin(existing_ids) == False]\n",
    "        df = add_new_entries(new_entries)\n",
    "    \n",
    "    return df\n",
    "\n",
    "df_notion = add_data_to_notion(df_typeform, pages)"
   ]
  },
  {
   "cell_type": "markdown",
   "id": "bcffd8c5",
   "metadata": {},
   "source": [
    "## Output\n"
   ]
  },
  {
   "cell_type": "code",
   "execution_count": 27,
   "id": "a5d17b86",
   "metadata": {
    "execution": {
     "iopub.execute_input": "2022-06-01T05:45:30.516789Z",
     "iopub.status.busy": "2022-06-01T05:45:30.516552Z",
     "iopub.status.idle": "2022-06-01T05:45:30.527001Z",
     "shell.execute_reply": "2022-06-01T05:45:30.526405Z",
     "shell.execute_reply.started": "2022-06-01T05:45:30.516762Z"
    },
    "tags": []
   },
   "outputs": [
    {
     "data": {
      "text/html": [
       "<div>\n",
       "<style scoped>\n",
       "    .dataframe tbody tr th:only-of-type {\n",
       "        vertical-align: middle;\n",
       "    }\n",
       "\n",
       "    .dataframe tbody tr th {\n",
       "        vertical-align: top;\n",
       "    }\n",
       "\n",
       "    .dataframe thead th {\n",
       "        text-align: right;\n",
       "    }\n",
       "</style>\n",
       "<table border=\"1\" class=\"dataframe\">\n",
       "  <thead>\n",
       "    <tr style=\"text-align: right;\">\n",
       "      <th></th>\n",
       "      <th>time_taken_to_fill_form</th>\n",
       "      <th>response_id</th>\n",
       "      <th>Hello, what's your name?</th>\n",
       "      <th>Nice to meet you, how is your day going?</th>\n",
       "      <th>How old are you?</th>\n",
       "      <th>Enter your email address</th>\n",
       "      <th>Give us your contact details!</th>\n",
       "      <th>Select options which are true</th>\n",
       "      <th>Please give us your rating</th>\n",
       "      <th>Please enter your feedback on your previous purchase with us!</th>\n",
       "    </tr>\n",
       "  </thead>\n",
       "  <tbody>\n",
       "  </tbody>\n",
       "</table>\n",
       "</div>"
      ],
      "text/plain": [
       "Empty DataFrame\n",
       "Columns: [time_taken_to_fill_form, response_id, Hello, what's your name?, Nice to meet you, how is your day going?, How old are you?, Enter your email address, Give us your contact details!, Select options which are true, Please give us your rating, Please enter your feedback on your previous purchase with us!]\n",
       "Index: []"
      ]
     },
     "execution_count": 27,
     "metadata": {},
     "output_type": "execute_result"
    }
   ],
   "source": [
    "df_notion.head()"
   ]
  }
 ],
 "metadata": {
  "kernelspec": {
   "display_name": "Python 3",
   "language": "python",
   "name": "python3"
  },
  "language_info": {
   "codemirror_mode": {
    "name": "ipython",
    "version": 3
   },
   "file_extension": ".py",
   "mimetype": "text/x-python",
   "name": "python",
   "nbconvert_exporter": "python",
   "pygments_lexer": "ipython3",
   "version": "3.9.6"
  }
 },
 "nbformat": 4,
 "nbformat_minor": 5
}
